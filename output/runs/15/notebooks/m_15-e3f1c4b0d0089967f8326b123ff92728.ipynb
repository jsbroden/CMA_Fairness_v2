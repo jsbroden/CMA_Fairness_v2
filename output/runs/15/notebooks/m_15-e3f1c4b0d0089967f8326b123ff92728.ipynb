{
 "cells": [
  {
   "cell_type": "code",
   "execution_count": 1,
   "id": "f159f837-637b-42ba-96b5-ec9a68c44524",
   "metadata": {
    "execution": {
     "iopub.execute_input": "2025-08-05T16:21:17.854485Z",
     "iopub.status.busy": "2025-08-05T16:21:17.853366Z",
     "iopub.status.idle": "2025-08-05T16:21:17.869100Z",
     "shell.execute_reply": "2025-08-05T16:21:17.867829Z"
    },
    "papermill": {
     "duration": 0.040136,
     "end_time": "2025-08-05T16:21:17.871256",
     "exception": false,
     "start_time": "2025-08-05T16:21:17.831120",
     "status": "completed"
    },
    "tags": []
   },
   "outputs": [
    {
     "name": "stdout",
     "output_type": "stream",
     "text": [
      "/dss/dsshome1/0C/ra93lal2/cma/CMA_Fairness_v2\n"
     ]
    },
    {
     "name": "stderr",
     "output_type": "stream",
     "text": [
      "/dss/dsshome1/0C/ra93lal2/.local/share/virtualenvs/CMA_Fairness_v2-3j10GkSs/lib/python3.10/site-packages/IPython/core/magics/osm.py:393: UserWarning: This is now an optional IPython functionality, using bookmarks requires you to install the `pickleshare` library.\n",
      "  bkms = self.shell.db.get('bookmarks', {})\n",
      "/dss/dsshome1/0C/ra93lal2/.local/share/virtualenvs/CMA_Fairness_v2-3j10GkSs/lib/python3.10/site-packages/IPython/core/magics/osm.py:417: UserWarning: This is now an optional IPython functionality, setting dhist requires you to install the `pickleshare` library.\n",
      "  self.shell.db['dhist'] = compress_dhist(dhist)[-100:]\n"
     ]
    }
   ],
   "source": [
    "%cd ~/cma/CMA_Fairness_v2"
   ]
  },
  {
   "cell_type": "markdown",
   "id": "de2603b9",
   "metadata": {
    "papermill": {
     "duration": 0.019481,
     "end_time": "2025-08-05T16:21:17.911118",
     "exception": false,
     "start_time": "2025-08-05T16:21:17.891637",
     "status": "completed"
    },
    "tags": []
   },
   "source": [
    "The following cell holds the definition of our parameters, these values can be overriden by rendering the with e.g. the following command:\n",
    "\n",
    "papermill -p alpha 0.2 -p ratio 0.3 universe_analysis.ipynb output/test_run.ipynb"
   ]
  },
  {
   "cell_type": "code",
   "execution_count": 2,
   "id": "a80968a0-40bb-4fa9-85ef-2d5eefb01975",
   "metadata": {
    "execution": {
     "iopub.execute_input": "2025-08-05T16:21:17.953635Z",
     "iopub.status.busy": "2025-08-05T16:21:17.952810Z",
     "iopub.status.idle": "2025-08-05T16:21:17.959719Z",
     "shell.execute_reply": "2025-08-05T16:21:17.958511Z"
    },
    "papermill": {
     "duration": 0.030556,
     "end_time": "2025-08-05T16:21:17.961773",
     "exception": false,
     "start_time": "2025-08-05T16:21:17.931217",
     "status": "completed"
    },
    "tags": []
   },
   "outputs": [
    {
     "name": "stdout",
     "output_type": "stream",
     "text": [
      "Current working directory: /dss/dsshome1/0C/ra93lal2/cma/CMA_Fairness_v2\n"
     ]
    }
   ],
   "source": [
    "import os\n",
    "print(\"Current working directory:\", os.getcwd())"
   ]
  },
  {
   "cell_type": "code",
   "execution_count": 3,
   "id": "2dce4c03",
   "metadata": {
    "execution": {
     "iopub.execute_input": "2025-08-05T16:21:18.004036Z",
     "iopub.status.busy": "2025-08-05T16:21:18.003068Z",
     "iopub.status.idle": "2025-08-05T16:21:18.010673Z",
     "shell.execute_reply": "2025-08-05T16:21:18.009467Z"
    },
    "papermill": {
     "duration": 0.030573,
     "end_time": "2025-08-05T16:21:18.012624",
     "exception": false,
     "start_time": "2025-08-05T16:21:17.982051",
     "status": "completed"
    },
    "tags": [
     "parameters"
    ]
   },
   "outputs": [],
   "source": [
    "run_no = 0\n",
    "universe_id = \"test\"\n",
    "universe = {\n",
    "    \"training_size\": \"25k\", # \"25k\", \"5k\", \"1k\"\n",
    "    \"training_year\": \"2014\", # \"2014\", \"2012_14\", \"2010_14\"\n",
    "    \"scale\": \"scale\", # \"scale\", \"do-not-scale\",\n",
    "    \"model\": \"elasticnet\", # \"logreg\", \"penalized_logreg\", \"rf\", \"gbm\", \"elasticnet\"\n",
    "    \"cutoff\": [\"quantile_0.15\", \"quantile_0.30\"],\n",
    "    \"exclude_features\": \"age\", # \"none\", \"nationality\", \"sex\", \"nationality-sex\", \"age\"\n",
    "    \"exclude_subgroups\": \"keep-all\", # \"keep-all\", \"drop-non-german\"\n",
    "    \"eval_fairness_grouping\": [\"majority-minority\", \"nationality-all\"]\n",
    "}\n",
    "\n",
    "output_dir=\"./output\"\n",
    "seed=0"
   ]
  },
  {
   "cell_type": "code",
   "execution_count": 4,
   "id": "ee06245b",
   "metadata": {
    "execution": {
     "iopub.execute_input": "2025-08-05T16:21:18.055994Z",
     "iopub.status.busy": "2025-08-05T16:21:18.055031Z",
     "iopub.status.idle": "2025-08-05T16:21:18.061722Z",
     "shell.execute_reply": "2025-08-05T16:21:18.060669Z"
    },
    "papermill": {
     "duration": 0.030033,
     "end_time": "2025-08-05T16:21:18.063504",
     "exception": false,
     "start_time": "2025-08-05T16:21:18.033471",
     "status": "completed"
    },
    "tags": [
     "injected-parameters"
    ]
   },
   "outputs": [],
   "source": [
    "# Parameters\n",
    "universe_id = \"e3f1c4b0d0089967f8326b123ff92728\"\n",
    "run_no = \"15\"\n",
    "universe = \"{\\\"cutoff\\\": [\\\"quantile_0.1\\\", \\\"quantile_0.25\\\"], \\\"eval_fairness_grouping\\\": [\\\"majority-minority\\\", \\\"nationality-all\\\"], \\\"exclude_features\\\": \\\"age\\\", \\\"exclude_subgroups\\\": \\\"drop-non-german\\\", \\\"model\\\": \\\"gbm\\\", \\\"scale\\\": \\\"scale\\\", \\\"training_size\\\": \\\"1k\\\", \\\"training_year\\\": \\\"2012_14\\\"}\"\n",
    "output_dir = \"output\"\n",
    "seed = \"2023\"\n"
   ]
  },
  {
   "cell_type": "code",
   "execution_count": 5,
   "id": "1650acaf",
   "metadata": {
    "execution": {
     "iopub.execute_input": "2025-08-05T16:21:18.105868Z",
     "iopub.status.busy": "2025-08-05T16:21:18.105136Z",
     "iopub.status.idle": "2025-08-05T16:21:18.111323Z",
     "shell.execute_reply": "2025-08-05T16:21:18.110153Z"
    },
    "papermill": {
     "duration": 0.029764,
     "end_time": "2025-08-05T16:21:18.113386",
     "exception": false,
     "start_time": "2025-08-05T16:21:18.083622",
     "status": "completed"
    },
    "tags": []
   },
   "outputs": [],
   "source": [
    "import json\n",
    "if isinstance(universe, str):\n",
    "    universe = json.loads(universe)"
   ]
  },
  {
   "cell_type": "code",
   "execution_count": 6,
   "id": "16620c48",
   "metadata": {
    "execution": {
     "iopub.execute_input": "2025-08-05T16:21:18.154296Z",
     "iopub.status.busy": "2025-08-05T16:21:18.153561Z",
     "iopub.status.idle": "2025-08-05T16:21:18.208366Z",
     "shell.execute_reply": "2025-08-05T16:21:18.207325Z"
    },
    "papermill": {
     "duration": 0.077067,
     "end_time": "2025-08-05T16:21:18.210474",
     "exception": false,
     "start_time": "2025-08-05T16:21:18.133407",
     "status": "completed"
    },
    "tags": []
   },
   "outputs": [],
   "source": [
    "# Auto-reload the custom package\n",
    "%load_ext autoreload\n",
    "%autoreload 1\n",
    "%aimport fairness_multiverse"
   ]
  },
  {
   "cell_type": "code",
   "execution_count": 7,
   "id": "01c5c9f3",
   "metadata": {
    "execution": {
     "iopub.execute_input": "2025-08-05T16:21:18.252410Z",
     "iopub.status.busy": "2025-08-05T16:21:18.251592Z",
     "iopub.status.idle": "2025-08-05T16:21:20.563165Z",
     "shell.execute_reply": "2025-08-05T16:21:20.562054Z"
    },
    "papermill": {
     "duration": 2.334005,
     "end_time": "2025-08-05T16:21:20.565457",
     "exception": false,
     "start_time": "2025-08-05T16:21:18.231452",
     "status": "completed"
    },
    "tags": []
   },
   "outputs": [],
   "source": [
    "from fairness_multiverse.universe import UniverseAnalysis\n",
    "\n",
    "universe_analysis = UniverseAnalysis(\n",
    "    run_no = run_no,\n",
    "    universe_id = universe_id,\n",
    "    universe = universe,\n",
    "    output_dir=output_dir,\n",
    ")"
   ]
  },
  {
   "cell_type": "code",
   "execution_count": 8,
   "id": "106241f5",
   "metadata": {
    "execution": {
     "iopub.execute_input": "2025-08-05T16:21:20.607091Z",
     "iopub.status.busy": "2025-08-05T16:21:20.606299Z",
     "iopub.status.idle": "2025-08-05T16:21:20.613583Z",
     "shell.execute_reply": "2025-08-05T16:21:20.612525Z"
    },
    "papermill": {
     "duration": 0.02982,
     "end_time": "2025-08-05T16:21:20.615511",
     "exception": false,
     "start_time": "2025-08-05T16:21:20.585691",
     "status": "completed"
    },
    "tags": []
   },
   "outputs": [
    {
     "name": "stdout",
     "output_type": "stream",
     "text": [
      "Using Seed: 2023\n"
     ]
    }
   ],
   "source": [
    "import numpy as np\n",
    "parsed_seed = int(seed)\n",
    "np.random.seed(parsed_seed)\n",
    "print(f\"Using Seed: {parsed_seed}\")"
   ]
  },
  {
   "cell_type": "markdown",
   "id": "e0ebdc57",
   "metadata": {
    "papermill": {
     "duration": 0.01873,
     "end_time": "2025-08-05T16:21:20.653573",
     "exception": false,
     "start_time": "2025-08-05T16:21:20.634843",
     "status": "completed"
    },
    "tags": []
   },
   "source": [
    "# Loading Data"
   ]
  },
  {
   "cell_type": "code",
   "execution_count": 9,
   "id": "f0496b8a",
   "metadata": {
    "execution": {
     "iopub.execute_input": "2025-08-05T16:21:20.694662Z",
     "iopub.status.busy": "2025-08-05T16:21:20.693952Z",
     "iopub.status.idle": "2025-08-05T16:21:35.068174Z",
     "shell.execute_reply": "2025-08-05T16:21:35.066383Z"
    },
    "papermill": {
     "duration": 14.397733,
     "end_time": "2025-08-05T16:21:35.070289",
     "exception": false,
     "start_time": "2025-08-05T16:21:20.672556",
     "status": "completed"
    },
    "tags": []
   },
   "outputs": [
    {
     "name": "stdout",
     "output_type": "stream",
     "text": [
      "Loading SIAB data from cache: data/siab_cached.csv.gz\n"
     ]
    },
    {
     "name": "stdout",
     "output_type": "stream",
     "text": [
      "(643690, 164)\n"
     ]
    }
   ],
   "source": [
    "from pathlib import Path\n",
    "import pandas as pd\n",
    "\n",
    "# File paths\n",
    "raw_file = Path(\"data/raw/siab.csv\")\n",
    "cache_file = Path(\"data/siab_cached.csv.gz\")\n",
    "\n",
    "# Ensure cache directory exists\n",
    "cache_file.parent.mkdir(parents=True, exist_ok=True)\n",
    "\n",
    "# Load with simple caching\n",
    "if cache_file.exists():\n",
    "    print(f\"Loading SIAB data from cache: {cache_file}\")\n",
    "    siab = pd.read_csv(cache_file, compression='gzip')\n",
    "else:\n",
    "    print(f\"Cache not found. Reading raw SIAB data: {raw_file}\")\n",
    "    siab = pd.read_csv(raw_file)\n",
    "    siab.to_csv(cache_file, index=False, compression='gzip')\n",
    "    print(f\"Cached SIAB data to: {cache_file}\")\n",
    "\n",
    "print(siab.shape)"
   ]
  },
  {
   "cell_type": "code",
   "execution_count": 10,
   "id": "db0ca512-5f53-4dba-abdb-a2888bca41ba",
   "metadata": {
    "execution": {
     "iopub.execute_input": "2025-08-05T16:21:35.120734Z",
     "iopub.status.busy": "2025-08-05T16:21:35.120186Z",
     "iopub.status.idle": "2025-08-05T16:21:35.126555Z",
     "shell.execute_reply": "2025-08-05T16:21:35.125460Z"
    },
    "papermill": {
     "duration": 0.03212,
     "end_time": "2025-08-05T16:21:35.128488",
     "exception": false,
     "start_time": "2025-08-05T16:21:35.096368",
     "status": "completed"
    },
    "tags": []
   },
   "outputs": [],
   "source": [
    "#siab"
   ]
  },
  {
   "cell_type": "markdown",
   "id": "997051c5-15bd-4b69-9786-c3001a3ce484",
   "metadata": {
    "papermill": {
     "duration": 0.020685,
     "end_time": "2025-08-05T16:21:35.169752",
     "exception": false,
     "start_time": "2025-08-05T16:21:35.149067",
     "status": "completed"
    },
    "tags": []
   },
   "source": [
    "# Splitting Data and Setting Training Data Size"
   ]
  },
  {
   "cell_type": "code",
   "execution_count": 11,
   "id": "aea9c6ef-6f46-42c8-85eb-5a62025c1508",
   "metadata": {
    "execution": {
     "iopub.execute_input": "2025-08-05T16:21:35.214259Z",
     "iopub.status.busy": "2025-08-05T16:21:35.213589Z",
     "iopub.status.idle": "2025-08-05T16:21:35.860444Z",
     "shell.execute_reply": "2025-08-05T16:21:35.859231Z"
    },
    "papermill": {
     "duration": 0.671875,
     "end_time": "2025-08-05T16:21:35.863192",
     "exception": false,
     "start_time": "2025-08-05T16:21:35.191317",
     "status": "completed"
    },
    "tags": []
   },
   "outputs": [],
   "source": [
    "from fairness_multiverse.universe import sample_by_year_size\n",
    "\n",
    "siab_train = sample_by_year_size(siab,\n",
    "                               training_year=universe[\"training_year\"],\n",
    "                               training_size=universe[\"training_size\"])"
   ]
  },
  {
   "cell_type": "code",
   "execution_count": 12,
   "id": "8d3afb32-789d-442c-8d5d-9f5aa8dd2eed",
   "metadata": {
    "execution": {
     "iopub.execute_input": "2025-08-05T16:21:35.915904Z",
     "iopub.status.busy": "2025-08-05T16:21:35.914781Z",
     "iopub.status.idle": "2025-08-05T16:21:35.921370Z",
     "shell.execute_reply": "2025-08-05T16:21:35.919860Z"
    },
    "papermill": {
     "duration": 0.035701,
     "end_time": "2025-08-05T16:21:35.923765",
     "exception": false,
     "start_time": "2025-08-05T16:21:35.888064",
     "status": "completed"
    },
    "tags": []
   },
   "outputs": [],
   "source": [
    "#siab_train.shape"
   ]
  },
  {
   "cell_type": "code",
   "execution_count": 13,
   "id": "d582db68-1a4c-47fb-84fc-08518dc1975a",
   "metadata": {
    "execution": {
     "iopub.execute_input": "2025-08-05T16:21:35.957741Z",
     "iopub.status.busy": "2025-08-05T16:21:35.957048Z",
     "iopub.status.idle": "2025-08-05T16:21:35.963376Z",
     "shell.execute_reply": "2025-08-05T16:21:35.961960Z"
    },
    "papermill": {
     "duration": 0.028581,
     "end_time": "2025-08-05T16:21:35.965382",
     "exception": false,
     "start_time": "2025-08-05T16:21:35.936801",
     "status": "completed"
    },
    "tags": []
   },
   "outputs": [],
   "source": [
    "#display(siab_train.groupby(\"year\").size())"
   ]
  },
  {
   "cell_type": "code",
   "execution_count": 14,
   "id": "a561edb4-d032-42cb-8256-22eac1111c64",
   "metadata": {
    "execution": {
     "iopub.execute_input": "2025-08-05T16:21:36.009562Z",
     "iopub.status.busy": "2025-08-05T16:21:36.008953Z",
     "iopub.status.idle": "2025-08-05T16:21:36.234838Z",
     "shell.execute_reply": "2025-08-05T16:21:36.233610Z"
    },
    "papermill": {
     "duration": 0.249049,
     "end_time": "2025-08-05T16:21:36.237290",
     "exception": false,
     "start_time": "2025-08-05T16:21:35.988241",
     "status": "completed"
    },
    "tags": []
   },
   "outputs": [],
   "source": [
    "#siab_train = siab_s[siab_s.year < 2015]\n",
    "siab_calib = siab[siab.year == 2015]\n",
    "siab_test = siab[siab.year == 2016]"
   ]
  },
  {
   "cell_type": "code",
   "execution_count": 15,
   "id": "472de16f-c3db-4916-846b-1f0de9cf1746",
   "metadata": {
    "execution": {
     "iopub.execute_input": "2025-08-05T16:21:36.290084Z",
     "iopub.status.busy": "2025-08-05T16:21:36.288930Z",
     "iopub.status.idle": "2025-08-05T16:21:36.298338Z",
     "shell.execute_reply": "2025-08-05T16:21:36.297089Z"
    },
    "papermill": {
     "duration": 0.037653,
     "end_time": "2025-08-05T16:21:36.300376",
     "exception": false,
     "start_time": "2025-08-05T16:21:36.262723",
     "status": "completed"
    },
    "tags": []
   },
   "outputs": [],
   "source": [
    "X_train = siab_train.iloc[:,4:164]\n",
    "y_train = siab_train.iloc[:, [3]]"
   ]
  },
  {
   "cell_type": "code",
   "execution_count": 16,
   "id": "828c96af-f43a-4ed6-ba47-8ac73a47d56c",
   "metadata": {
    "execution": {
     "iopub.execute_input": "2025-08-05T16:21:36.367090Z",
     "iopub.status.busy": "2025-08-05T16:21:36.366253Z",
     "iopub.status.idle": "2025-08-05T16:21:36.421781Z",
     "shell.execute_reply": "2025-08-05T16:21:36.420211Z"
    },
    "papermill": {
     "duration": 0.09879,
     "end_time": "2025-08-05T16:21:36.424164",
     "exception": false,
     "start_time": "2025-08-05T16:21:36.325374",
     "status": "completed"
    },
    "tags": []
   },
   "outputs": [],
   "source": [
    "X_calib = siab_calib.iloc[:,4:164]\n",
    "y_calib = siab_calib.iloc[:, [3]]"
   ]
  },
  {
   "cell_type": "code",
   "execution_count": 17,
   "id": "c34be9c3-6bd6-476e-acd3-845840e303be",
   "metadata": {
    "execution": {
     "iopub.execute_input": "2025-08-05T16:21:36.475457Z",
     "iopub.status.busy": "2025-08-05T16:21:36.474432Z",
     "iopub.status.idle": "2025-08-05T16:21:36.538507Z",
     "shell.execute_reply": "2025-08-05T16:21:36.537163Z"
    },
    "papermill": {
     "duration": 0.091548,
     "end_time": "2025-08-05T16:21:36.541195",
     "exception": false,
     "start_time": "2025-08-05T16:21:36.449647",
     "status": "completed"
    },
    "tags": []
   },
   "outputs": [],
   "source": [
    "X_test = siab_test.iloc[:,4:164]\n",
    "y_true = siab_test.iloc[:, [3]]"
   ]
  },
  {
   "cell_type": "code",
   "execution_count": 18,
   "id": "e6c733c5",
   "metadata": {
    "execution": {
     "iopub.execute_input": "2025-08-05T16:21:36.593729Z",
     "iopub.status.busy": "2025-08-05T16:21:36.592972Z",
     "iopub.status.idle": "2025-08-05T16:21:36.699922Z",
     "shell.execute_reply": "2025-08-05T16:21:36.698680Z"
    },
    "papermill": {
     "duration": 0.135144,
     "end_time": "2025-08-05T16:21:36.702325",
     "exception": false,
     "start_time": "2025-08-05T16:21:36.567181",
     "status": "completed"
    },
    "tags": []
   },
   "outputs": [],
   "source": [
    "# Auxiliary data needed downstream in the pipeline\n",
    "\n",
    "org_train = X_train.copy()\n",
    "org_test = X_test.copy()\n",
    "org_calib = X_calib.copy()"
   ]
  },
  {
   "cell_type": "markdown",
   "id": "0a4a1b33",
   "metadata": {
    "papermill": {
     "duration": 0.024411,
     "end_time": "2025-08-05T16:21:36.752201",
     "exception": false,
     "start_time": "2025-08-05T16:21:36.727790",
     "status": "completed"
    },
    "tags": []
   },
   "source": [
    "# Preprocessing Data"
   ]
  },
  {
   "cell_type": "code",
   "execution_count": 19,
   "id": "ca879031",
   "metadata": {
    "execution": {
     "iopub.execute_input": "2025-08-05T16:21:36.803003Z",
     "iopub.status.busy": "2025-08-05T16:21:36.802415Z",
     "iopub.status.idle": "2025-08-05T16:21:36.809941Z",
     "shell.execute_reply": "2025-08-05T16:21:36.808699Z"
    },
    "papermill": {
     "duration": 0.035025,
     "end_time": "2025-08-05T16:21:36.811849",
     "exception": false,
     "start_time": "2025-08-05T16:21:36.776824",
     "status": "completed"
    },
    "tags": []
   },
   "outputs": [],
   "source": [
    "# EXCLUDE PROTECTED FEATURES\n",
    "# ----------------------\n",
    "# \"exclude_features\": \"none\", # \"nationality\", \"sex\", \"nationality-sex\"\n",
    "\n",
    "excluded_features = universe[\"exclude_features\"].split(\"-\") # split, e.g.: \"nationality-sex\" -> [\"nationality\", \"sex\"]\n",
    "excluded_features_dictionary = {\n",
    "    \"nationality\": [\"maxdeutsch1\", \"maxdeutsch.Missing.\"],\n",
    "    \"sex\": [\"frau1\"],\n",
    "    \"age\": [\"age\"],\n",
    "}"
   ]
  },
  {
   "cell_type": "code",
   "execution_count": 20,
   "id": "b745ac60",
   "metadata": {
    "execution": {
     "iopub.execute_input": "2025-08-05T16:21:36.863144Z",
     "iopub.status.busy": "2025-08-05T16:21:36.862086Z",
     "iopub.status.idle": "2025-08-05T16:21:36.868733Z",
     "shell.execute_reply": "2025-08-05T16:21:36.867535Z"
    },
    "papermill": {
     "duration": 0.034323,
     "end_time": "2025-08-05T16:21:36.870710",
     "exception": false,
     "start_time": "2025-08-05T16:21:36.836387",
     "status": "completed"
    },
    "tags": []
   },
   "outputs": [],
   "source": [
    "# Code nice names to column names\n",
    "\n",
    "excluded_features_columns = [\n",
    "    excluded_features_dictionary[f] for f in excluded_features if len(f) > 0 and f != \"none\"\n",
    "]"
   ]
  },
  {
   "cell_type": "code",
   "execution_count": 21,
   "id": "f84f73a2",
   "metadata": {
    "execution": {
     "iopub.execute_input": "2025-08-05T16:21:36.916576Z",
     "iopub.status.busy": "2025-08-05T16:21:36.916004Z",
     "iopub.status.idle": "2025-08-05T16:21:36.923049Z",
     "shell.execute_reply": "2025-08-05T16:21:36.921777Z"
    },
    "papermill": {
     "duration": 0.031518,
     "end_time": "2025-08-05T16:21:36.924921",
     "exception": false,
     "start_time": "2025-08-05T16:21:36.893403",
     "status": "completed"
    },
    "tags": []
   },
   "outputs": [],
   "source": [
    "from utils import flatten_once\n",
    "\n",
    "excluded_features_columns = flatten_once(excluded_features_columns)"
   ]
  },
  {
   "cell_type": "code",
   "execution_count": 22,
   "id": "884dea22",
   "metadata": {
    "execution": {
     "iopub.execute_input": "2025-08-05T16:21:36.971290Z",
     "iopub.status.busy": "2025-08-05T16:21:36.970241Z",
     "iopub.status.idle": "2025-08-05T16:21:36.979769Z",
     "shell.execute_reply": "2025-08-05T16:21:36.978649Z"
    },
    "papermill": {
     "duration": 0.035071,
     "end_time": "2025-08-05T16:21:36.981703",
     "exception": false,
     "start_time": "2025-08-05T16:21:36.946632",
     "status": "completed"
    },
    "tags": []
   },
   "outputs": [
    {
     "name": "stdout",
     "output_type": "stream",
     "text": [
      "Dropping features: ['age']\n"
     ]
    }
   ],
   "source": [
    "if len(excluded_features_columns) > 0:\n",
    "    print(f\"Dropping features: {excluded_features_columns}\")\n",
    "    X_train.drop(excluded_features_columns, axis=1, inplace=True)"
   ]
  },
  {
   "cell_type": "code",
   "execution_count": 23,
   "id": "95ab8b16",
   "metadata": {
    "execution": {
     "iopub.execute_input": "2025-08-05T16:21:37.031904Z",
     "iopub.status.busy": "2025-08-05T16:21:37.031466Z",
     "iopub.status.idle": "2025-08-05T16:21:37.090141Z",
     "shell.execute_reply": "2025-08-05T16:21:37.088783Z"
    },
    "papermill": {
     "duration": 0.087048,
     "end_time": "2025-08-05T16:21:37.093357",
     "exception": false,
     "start_time": "2025-08-05T16:21:37.006309",
     "status": "completed"
    },
    "tags": []
   },
   "outputs": [
    {
     "name": "stdout",
     "output_type": "stream",
     "text": [
      "Dropping features: ['age']\n"
     ]
    }
   ],
   "source": [
    "if len(excluded_features_columns) > 0:\n",
    "    print(f\"Dropping features: {excluded_features_columns}\")\n",
    "    X_test.drop(excluded_features_columns, axis=1, inplace=True)"
   ]
  },
  {
   "cell_type": "code",
   "execution_count": 24,
   "id": "1853aaf5-fb9f-46cb-a2b5-8ea4ae2237e4",
   "metadata": {
    "execution": {
     "iopub.execute_input": "2025-08-05T16:21:37.144418Z",
     "iopub.status.busy": "2025-08-05T16:21:37.143801Z",
     "iopub.status.idle": "2025-08-05T16:21:37.202198Z",
     "shell.execute_reply": "2025-08-05T16:21:37.201072Z"
    },
    "papermill": {
     "duration": 0.086615,
     "end_time": "2025-08-05T16:21:37.205178",
     "exception": false,
     "start_time": "2025-08-05T16:21:37.118563",
     "status": "completed"
    },
    "tags": []
   },
   "outputs": [
    {
     "name": "stdout",
     "output_type": "stream",
     "text": [
      "Dropping features: ['age']\n"
     ]
    }
   ],
   "source": [
    "if len(excluded_features_columns) > 0:\n",
    "    print(f\"Dropping features: {excluded_features_columns}\")\n",
    "    X_calib.drop(excluded_features_columns, axis=1, inplace=True)"
   ]
  },
  {
   "cell_type": "code",
   "execution_count": 25,
   "id": "76c4dc6d",
   "metadata": {
    "execution": {
     "iopub.execute_input": "2025-08-05T16:21:37.256862Z",
     "iopub.status.busy": "2025-08-05T16:21:37.255865Z",
     "iopub.status.idle": "2025-08-05T16:21:37.262152Z",
     "shell.execute_reply": "2025-08-05T16:21:37.260929Z"
    },
    "papermill": {
     "duration": 0.03346,
     "end_time": "2025-08-05T16:21:37.264037",
     "exception": false,
     "start_time": "2025-08-05T16:21:37.230577",
     "status": "completed"
    },
    "tags": []
   },
   "outputs": [],
   "source": [
    "# EXCLUDE CERTAIN SUBGROUPS\n",
    "# ----------------------\n",
    "\n",
    "mode = universe.get(\"exclude_subgroups\", \"keep-all\") \n",
    "# Fetches the exclude_subgroups setting from the universe dict.\n",
    "# Defaults to \"keep-all\" if the key is missing."
   ]
  },
  {
   "cell_type": "code",
   "execution_count": 26,
   "id": "21994072",
   "metadata": {
    "execution": {
     "iopub.execute_input": "2025-08-05T16:21:37.314744Z",
     "iopub.status.busy": "2025-08-05T16:21:37.313669Z",
     "iopub.status.idle": "2025-08-05T16:21:37.321884Z",
     "shell.execute_reply": "2025-08-05T16:21:37.320702Z"
    },
    "papermill": {
     "duration": 0.035451,
     "end_time": "2025-08-05T16:21:37.323955",
     "exception": false,
     "start_time": "2025-08-05T16:21:37.288504",
     "status": "completed"
    },
    "tags": []
   },
   "outputs": [],
   "source": [
    "if mode == \"keep-all\":\n",
    "    keep_mask = pd.Series(True, index=org_train.index)\n",
    "\n",
    "# org_train contains the original feature columns from features_org (in Simson)\n",
    "# features_org contains unprocessed features, for me X_train at beginning ???\n",
    "# For keep-all, creates a boolean Series (keep_mask) of all True, so no rows are removed.\n",
    "\n",
    "elif mode == \"drop-non-german\":\n",
    "    keep_mask = org_train[\"maxdeutsch1\"] == 1 # ??? what about missing values?\n",
    "\n",
    "else:\n",
    "    raise ValueError(f\"Unsupported mode for exclude_subgroups: {mode}\")"
   ]
  },
  {
   "cell_type": "code",
   "execution_count": 27,
   "id": "71651440",
   "metadata": {
    "execution": {
     "iopub.execute_input": "2025-08-05T16:21:37.371440Z",
     "iopub.status.busy": "2025-08-05T16:21:37.370901Z",
     "iopub.status.idle": "2025-08-05T16:21:37.379182Z",
     "shell.execute_reply": "2025-08-05T16:21:37.378017Z"
    },
    "papermill": {
     "duration": 0.034051,
     "end_time": "2025-08-05T16:21:37.381191",
     "exception": false,
     "start_time": "2025-08-05T16:21:37.347140",
     "status": "completed"
    },
    "tags": []
   },
   "outputs": [
    {
     "name": "stdout",
     "output_type": "stream",
     "text": [
      "Dropping 147 rows (14.70%) where mode='drop-non-german'\n"
     ]
    }
   ],
   "source": [
    "n_drop = (~keep_mask).sum() # Calculates how many rows are set to be dropped\n",
    "if n_drop > 0:\n",
    "    pct = n_drop / len(keep_mask) * 100\n",
    "    print(f\"Dropping {n_drop} rows ({pct:.2f}%) where mode='{mode}'\")"
   ]
  },
  {
   "cell_type": "code",
   "execution_count": 28,
   "id": "5fb8eee5",
   "metadata": {
    "execution": {
     "iopub.execute_input": "2025-08-05T16:21:37.429020Z",
     "iopub.status.busy": "2025-08-05T16:21:37.428174Z",
     "iopub.status.idle": "2025-08-05T16:21:37.438062Z",
     "shell.execute_reply": "2025-08-05T16:21:37.436774Z"
    },
    "papermill": {
     "duration": 0.036412,
     "end_time": "2025-08-05T16:21:37.440057",
     "exception": false,
     "start_time": "2025-08-05T16:21:37.403645",
     "status": "completed"
    },
    "tags": []
   },
   "outputs": [],
   "source": [
    "X_train = X_train[keep_mask]"
   ]
  },
  {
   "cell_type": "code",
   "execution_count": 29,
   "id": "b202bb3a",
   "metadata": {
    "execution": {
     "iopub.execute_input": "2025-08-05T16:21:37.487531Z",
     "iopub.status.busy": "2025-08-05T16:21:37.486820Z",
     "iopub.status.idle": "2025-08-05T16:21:37.494381Z",
     "shell.execute_reply": "2025-08-05T16:21:37.493235Z"
    },
    "papermill": {
     "duration": 0.033182,
     "end_time": "2025-08-05T16:21:37.496340",
     "exception": false,
     "start_time": "2025-08-05T16:21:37.463158",
     "status": "completed"
    },
    "tags": []
   },
   "outputs": [],
   "source": [
    "y_train = y_train[keep_mask]"
   ]
  },
  {
   "cell_type": "markdown",
   "id": "493e2ac3",
   "metadata": {
    "papermill": {
     "duration": 0.022146,
     "end_time": "2025-08-05T16:21:37.542328",
     "exception": false,
     "start_time": "2025-08-05T16:21:37.520182",
     "status": "completed"
    },
    "tags": []
   },
   "source": [
    "# Model Training"
   ]
  },
  {
   "cell_type": "code",
   "execution_count": 30,
   "id": "679e1268",
   "metadata": {
    "execution": {
     "iopub.execute_input": "2025-08-05T16:21:37.590092Z",
     "iopub.status.busy": "2025-08-05T16:21:37.589017Z",
     "iopub.status.idle": "2025-08-05T16:21:37.714314Z",
     "shell.execute_reply": "2025-08-05T16:21:37.713114Z"
    },
    "papermill": {
     "duration": 0.152442,
     "end_time": "2025-08-05T16:21:37.716663",
     "exception": false,
     "start_time": "2025-08-05T16:21:37.564221",
     "status": "completed"
    },
    "tags": []
   },
   "outputs": [],
   "source": [
    "from sklearn.linear_model import LogisticRegression\n",
    "from sklearn.ensemble import GradientBoostingClassifier, RandomForestClassifier\n",
    "\n",
    "if (universe[\"model\"] == \"logreg\"):\n",
    "    model = LogisticRegression() #penalty=\"none\", solver=\"newton-cg\", max_iter=1) # include random_state=19 ?\n",
    "elif (universe[\"model\"] == \"penalized_logreg\"):\n",
    "    model = LogisticRegression(penalty=\"l2\", C=0.1) #, solver=\"newton-cg\", max_iter=1)\n",
    "elif (universe[\"model\"] == \"rf\"):\n",
    "    model = RandomForestClassifier() # n_estimators=100, n_jobs=-1\n",
    "elif (universe[\"model\"] == \"gbm\"):\n",
    "    model = GradientBoostingClassifier()\n",
    "elif (universe[\"model\"] == \"elasticnet\"):\n",
    "    model = LogisticRegression(penalty = 'elasticnet', solver = 'saga', l1_ratio = 0.5) # max_iter=5000\n",
    "else:\n",
    "    raise \"Unsupported universe.model\""
   ]
  },
  {
   "cell_type": "code",
   "execution_count": 31,
   "id": "0cc8f744",
   "metadata": {
    "execution": {
     "iopub.execute_input": "2025-08-05T16:21:37.771865Z",
     "iopub.status.busy": "2025-08-05T16:21:37.771199Z",
     "iopub.status.idle": "2025-08-05T16:21:37.778892Z",
     "shell.execute_reply": "2025-08-05T16:21:37.777678Z"
    },
    "papermill": {
     "duration": 0.037225,
     "end_time": "2025-08-05T16:21:37.781025",
     "exception": false,
     "start_time": "2025-08-05T16:21:37.743800",
     "status": "completed"
    },
    "tags": []
   },
   "outputs": [],
   "source": [
    "import numpy as np\n",
    "from sklearn.pipeline import Pipeline\n",
    "from sklearn.preprocessing import StandardScaler\n",
    "\n",
    "model = Pipeline([\n",
    "    #(\"continuous_processor\", continuous_processor),\n",
    "    #(\"categorical_preprocessor\", categorical_preprocessor),\n",
    "    (\"scale\", StandardScaler() if universe[\"scale\"] == \"scale\" else None), \n",
    "    (\"model\", model),\n",
    "])"
   ]
  },
  {
   "cell_type": "code",
   "execution_count": 32,
   "id": "9442c04d",
   "metadata": {
    "execution": {
     "iopub.execute_input": "2025-08-05T16:21:37.835263Z",
     "iopub.status.busy": "2025-08-05T16:21:37.834690Z",
     "iopub.status.idle": "2025-08-05T16:21:38.810337Z",
     "shell.execute_reply": "2025-08-05T16:21:38.809470Z"
    },
    "papermill": {
     "duration": 1.004529,
     "end_time": "2025-08-05T16:21:38.811871",
     "exception": false,
     "start_time": "2025-08-05T16:21:37.807342",
     "status": "completed"
    },
    "tags": []
   },
   "outputs": [
    {
     "data": {
      "text/html": [
       "<style>#sk-container-id-1 {color: black;background-color: white;}#sk-container-id-1 pre{padding: 0;}#sk-container-id-1 div.sk-toggleable {background-color: white;}#sk-container-id-1 label.sk-toggleable__label {cursor: pointer;display: block;width: 100%;margin-bottom: 0;padding: 0.3em;box-sizing: border-box;text-align: center;}#sk-container-id-1 label.sk-toggleable__label-arrow:before {content: \"▸\";float: left;margin-right: 0.25em;color: #696969;}#sk-container-id-1 label.sk-toggleable__label-arrow:hover:before {color: black;}#sk-container-id-1 div.sk-estimator:hover label.sk-toggleable__label-arrow:before {color: black;}#sk-container-id-1 div.sk-toggleable__content {max-height: 0;max-width: 0;overflow: hidden;text-align: left;background-color: #f0f8ff;}#sk-container-id-1 div.sk-toggleable__content pre {margin: 0.2em;color: black;border-radius: 0.25em;background-color: #f0f8ff;}#sk-container-id-1 input.sk-toggleable__control:checked~div.sk-toggleable__content {max-height: 200px;max-width: 100%;overflow: auto;}#sk-container-id-1 input.sk-toggleable__control:checked~label.sk-toggleable__label-arrow:before {content: \"▾\";}#sk-container-id-1 div.sk-estimator input.sk-toggleable__control:checked~label.sk-toggleable__label {background-color: #d4ebff;}#sk-container-id-1 div.sk-label input.sk-toggleable__control:checked~label.sk-toggleable__label {background-color: #d4ebff;}#sk-container-id-1 input.sk-hidden--visually {border: 0;clip: rect(1px 1px 1px 1px);clip: rect(1px, 1px, 1px, 1px);height: 1px;margin: -1px;overflow: hidden;padding: 0;position: absolute;width: 1px;}#sk-container-id-1 div.sk-estimator {font-family: monospace;background-color: #f0f8ff;border: 1px dotted black;border-radius: 0.25em;box-sizing: border-box;margin-bottom: 0.5em;}#sk-container-id-1 div.sk-estimator:hover {background-color: #d4ebff;}#sk-container-id-1 div.sk-parallel-item::after {content: \"\";width: 100%;border-bottom: 1px solid gray;flex-grow: 1;}#sk-container-id-1 div.sk-label:hover label.sk-toggleable__label {background-color: #d4ebff;}#sk-container-id-1 div.sk-serial::before {content: \"\";position: absolute;border-left: 1px solid gray;box-sizing: border-box;top: 0;bottom: 0;left: 50%;z-index: 0;}#sk-container-id-1 div.sk-serial {display: flex;flex-direction: column;align-items: center;background-color: white;padding-right: 0.2em;padding-left: 0.2em;position: relative;}#sk-container-id-1 div.sk-item {position: relative;z-index: 1;}#sk-container-id-1 div.sk-parallel {display: flex;align-items: stretch;justify-content: center;background-color: white;position: relative;}#sk-container-id-1 div.sk-item::before, #sk-container-id-1 div.sk-parallel-item::before {content: \"\";position: absolute;border-left: 1px solid gray;box-sizing: border-box;top: 0;bottom: 0;left: 50%;z-index: -1;}#sk-container-id-1 div.sk-parallel-item {display: flex;flex-direction: column;z-index: 1;position: relative;background-color: white;}#sk-container-id-1 div.sk-parallel-item:first-child::after {align-self: flex-end;width: 50%;}#sk-container-id-1 div.sk-parallel-item:last-child::after {align-self: flex-start;width: 50%;}#sk-container-id-1 div.sk-parallel-item:only-child::after {width: 0;}#sk-container-id-1 div.sk-dashed-wrapped {border: 1px dashed gray;margin: 0 0.4em 0.5em 0.4em;box-sizing: border-box;padding-bottom: 0.4em;background-color: white;}#sk-container-id-1 div.sk-label label {font-family: monospace;font-weight: bold;display: inline-block;line-height: 1.2em;}#sk-container-id-1 div.sk-label-container {text-align: center;}#sk-container-id-1 div.sk-container {/* jupyter's `normalize.less` sets `[hidden] { display: none; }` but bootstrap.min.css set `[hidden] { display: none !important; }` so we also need the `!important` here to be able to override the default hidden behavior on the sphinx rendered scikit-learn.org. See: https://github.com/scikit-learn/scikit-learn/issues/21755 */display: inline-block !important;position: relative;}#sk-container-id-1 div.sk-text-repr-fallback {display: none;}</style><div id=\"sk-container-id-1\" class=\"sk-top-container\"><div class=\"sk-text-repr-fallback\"><pre>Pipeline(steps=[(&#x27;scale&#x27;, StandardScaler()),\n",
       "                (&#x27;model&#x27;, GradientBoostingClassifier())])</pre><b>In a Jupyter environment, please rerun this cell to show the HTML representation or trust the notebook. <br />On GitHub, the HTML representation is unable to render, please try loading this page with nbviewer.org.</b></div><div class=\"sk-container\" hidden><div class=\"sk-item sk-dashed-wrapped\"><div class=\"sk-label-container\"><div class=\"sk-label sk-toggleable\"><input class=\"sk-toggleable__control sk-hidden--visually\" id=\"sk-estimator-id-1\" type=\"checkbox\" ><label for=\"sk-estimator-id-1\" class=\"sk-toggleable__label sk-toggleable__label-arrow\">Pipeline</label><div class=\"sk-toggleable__content\"><pre>Pipeline(steps=[(&#x27;scale&#x27;, StandardScaler()),\n",
       "                (&#x27;model&#x27;, GradientBoostingClassifier())])</pre></div></div></div><div class=\"sk-serial\"><div class=\"sk-item\"><div class=\"sk-estimator sk-toggleable\"><input class=\"sk-toggleable__control sk-hidden--visually\" id=\"sk-estimator-id-2\" type=\"checkbox\" ><label for=\"sk-estimator-id-2\" class=\"sk-toggleable__label sk-toggleable__label-arrow\">StandardScaler</label><div class=\"sk-toggleable__content\"><pre>StandardScaler()</pre></div></div></div><div class=\"sk-item\"><div class=\"sk-estimator sk-toggleable\"><input class=\"sk-toggleable__control sk-hidden--visually\" id=\"sk-estimator-id-3\" type=\"checkbox\" ><label for=\"sk-estimator-id-3\" class=\"sk-toggleable__label sk-toggleable__label-arrow\">GradientBoostingClassifier</label><div class=\"sk-toggleable__content\"><pre>GradientBoostingClassifier()</pre></div></div></div></div></div></div></div>"
      ],
      "text/plain": [
       "Pipeline(steps=[('scale', StandardScaler()),\n",
       "                ('model', GradientBoostingClassifier())])"
      ]
     },
     "execution_count": 32,
     "metadata": {},
     "output_type": "execute_result"
    }
   ],
   "source": [
    "model.fit(X_train, y_train.values.ravel())"
   ]
  },
  {
   "cell_type": "code",
   "execution_count": 33,
   "id": "af59f8c0",
   "metadata": {
    "execution": {
     "iopub.execute_input": "2025-08-05T16:21:38.838339Z",
     "iopub.status.busy": "2025-08-05T16:21:38.837866Z",
     "iopub.status.idle": "2025-08-05T16:21:38.843950Z",
     "shell.execute_reply": "2025-08-05T16:21:38.843089Z"
    },
    "papermill": {
     "duration": 0.020893,
     "end_time": "2025-08-05T16:21:38.845818",
     "exception": false,
     "start_time": "2025-08-05T16:21:38.824925",
     "status": "completed"
    },
    "tags": []
   },
   "outputs": [],
   "source": [
    "from fairness_multiverse.universe import predict_w_threshold"
   ]
  },
  {
   "cell_type": "code",
   "execution_count": 34,
   "id": "a7cf2e16",
   "metadata": {
    "execution": {
     "iopub.execute_input": "2025-08-05T16:21:38.872858Z",
     "iopub.status.busy": "2025-08-05T16:21:38.872384Z",
     "iopub.status.idle": "2025-08-05T16:21:39.360274Z",
     "shell.execute_reply": "2025-08-05T16:21:39.359292Z"
    },
    "papermill": {
     "duration": 0.502929,
     "end_time": "2025-08-05T16:21:39.361976",
     "exception": false,
     "start_time": "2025-08-05T16:21:38.859047",
     "status": "completed"
    },
    "tags": []
   },
   "outputs": [
    {
     "data": {
      "text/plain": [
       "0.8326273548099431"
      ]
     },
     "execution_count": 34,
     "metadata": {},
     "output_type": "execute_result"
    }
   ],
   "source": [
    "probs_test = model.predict_proba(X_test)\n",
    "\n",
    "'''\n",
    "Below code returns a boolean array (or binary 0/1 array depending on how it’s used) where each element \n",
    "is True if the probability of class 1 is greater than or equal to the threshold, and False otherwise.\n",
    "'''\n",
    "y_pred_default = predict_w_threshold(probs_test, 0.5)\n",
    "\n",
    "from sklearn.metrics import accuracy_score\n",
    "\n",
    "# Naive prediction\n",
    "accuracy_score(y_true = y_true, y_pred = y_pred_default)"
   ]
  },
  {
   "cell_type": "code",
   "execution_count": 35,
   "id": "081964c3",
   "metadata": {
    "execution": {
     "iopub.execute_input": "2025-08-05T16:21:39.389133Z",
     "iopub.status.busy": "2025-08-05T16:21:39.388803Z",
     "iopub.status.idle": "2025-08-05T16:21:39.910598Z",
     "shell.execute_reply": "2025-08-05T16:21:39.909450Z"
    },
    "papermill": {
     "duration": 0.537042,
     "end_time": "2025-08-05T16:21:39.912601",
     "exception": false,
     "start_time": "2025-08-05T16:21:39.375559",
     "status": "completed"
    },
    "tags": []
   },
   "outputs": [
    {
     "data": {
      "text/plain": [
       "array([0, 0, 0, ..., 0, 0, 0])"
      ]
     },
     "execution_count": 35,
     "metadata": {},
     "output_type": "execute_result"
    }
   ],
   "source": [
    "model.predict(X_test)"
   ]
  },
  {
   "cell_type": "markdown",
   "id": "56c9705b",
   "metadata": {
    "papermill": {
     "duration": 0.024912,
     "end_time": "2025-08-05T16:21:39.962774",
     "exception": false,
     "start_time": "2025-08-05T16:21:39.937862",
     "status": "completed"
    },
    "tags": []
   },
   "source": [
    "# Conformal Prediction"
   ]
  },
  {
   "cell_type": "code",
   "execution_count": 36,
   "id": "160ec6ff",
   "metadata": {
    "execution": {
     "iopub.execute_input": "2025-08-05T16:21:40.014725Z",
     "iopub.status.busy": "2025-08-05T16:21:40.013398Z",
     "iopub.status.idle": "2025-08-05T16:21:40.019319Z",
     "shell.execute_reply": "2025-08-05T16:21:40.018477Z"
    },
    "papermill": {
     "duration": 0.033583,
     "end_time": "2025-08-05T16:21:40.021452",
     "exception": false,
     "start_time": "2025-08-05T16:21:39.987869",
     "status": "completed"
    },
    "tags": []
   },
   "outputs": [],
   "source": [
    "# Miscoverage level for conformal prediction (10% allowed error rate => 90% target coverage)\n",
    "alpha = 0.1"
   ]
  },
  {
   "cell_type": "code",
   "execution_count": 37,
   "id": "eadf4555-3dd3-440e-8e35-f82a4ad9f855",
   "metadata": {
    "execution": {
     "iopub.execute_input": "2025-08-05T16:21:40.048738Z",
     "iopub.status.busy": "2025-08-05T16:21:40.048075Z",
     "iopub.status.idle": "2025-08-05T16:21:40.581305Z",
     "shell.execute_reply": "2025-08-05T16:21:40.580394Z"
    },
    "papermill": {
     "duration": 0.548602,
     "end_time": "2025-08-05T16:21:40.582977",
     "exception": false,
     "start_time": "2025-08-05T16:21:40.034375",
     "status": "completed"
    },
    "tags": []
   },
   "outputs": [],
   "source": [
    "probs_calib = model.predict_proba(X_calib)"
   ]
  },
  {
   "cell_type": "code",
   "execution_count": 38,
   "id": "2ed93547-6d5d-4983-9b36-1ecb300da49a",
   "metadata": {
    "execution": {
     "iopub.execute_input": "2025-08-05T16:21:40.610739Z",
     "iopub.status.busy": "2025-08-05T16:21:40.610111Z",
     "iopub.status.idle": "2025-08-05T16:21:40.615816Z",
     "shell.execute_reply": "2025-08-05T16:21:40.615034Z"
    },
    "papermill": {
     "duration": 0.02073,
     "end_time": "2025-08-05T16:21:40.617304",
     "exception": false,
     "start_time": "2025-08-05T16:21:40.596574",
     "status": "completed"
    },
    "tags": []
   },
   "outputs": [],
   "source": [
    "y_calib = y_calib.values.ravel().astype(int)"
   ]
  },
  {
   "cell_type": "code",
   "execution_count": 39,
   "id": "65d1320d-f588-4b38-9072-62af1ae97f7d",
   "metadata": {
    "execution": {
     "iopub.execute_input": "2025-08-05T16:21:40.644338Z",
     "iopub.status.busy": "2025-08-05T16:21:40.643718Z",
     "iopub.status.idle": "2025-08-05T16:21:40.650476Z",
     "shell.execute_reply": "2025-08-05T16:21:40.649604Z"
    },
    "papermill": {
     "duration": 0.021709,
     "end_time": "2025-08-05T16:21:40.652061",
     "exception": false,
     "start_time": "2025-08-05T16:21:40.630352",
     "status": "completed"
    },
    "tags": []
   },
   "outputs": [],
   "source": [
    "from fairness_multiverse.conformal import compute_nc_scores\n",
    "\n",
    "# Compute nonconformity scores on calibration set (1 - probability of true class)\n",
    "nc_scores = compute_nc_scores(probs_calib, y_calib)"
   ]
  },
  {
   "cell_type": "code",
   "execution_count": 40,
   "id": "df3b8ca3-53b7-43d5-9667-7c85da7aeda2",
   "metadata": {
    "execution": {
     "iopub.execute_input": "2025-08-05T16:21:40.678629Z",
     "iopub.status.busy": "2025-08-05T16:21:40.678144Z",
     "iopub.status.idle": "2025-08-05T16:21:40.684296Z",
     "shell.execute_reply": "2025-08-05T16:21:40.683530Z"
    },
    "papermill": {
     "duration": 0.021118,
     "end_time": "2025-08-05T16:21:40.685823",
     "exception": false,
     "start_time": "2025-08-05T16:21:40.664705",
     "status": "completed"
    },
    "tags": []
   },
   "outputs": [],
   "source": [
    "from fairness_multiverse.conformal import find_threshold\n",
    "\n",
    "# Find conformal threshold q_hat for the given alpha (split conformal method)\n",
    "q_hat = find_threshold(nc_scores, alpha)"
   ]
  },
  {
   "cell_type": "code",
   "execution_count": 41,
   "id": "4d29e6c1-0ef6-4aa4-b8fe-4fe79b0d033a",
   "metadata": {
    "execution": {
     "iopub.execute_input": "2025-08-05T16:21:40.713118Z",
     "iopub.status.busy": "2025-08-05T16:21:40.712534Z",
     "iopub.status.idle": "2025-08-05T16:21:40.719768Z",
     "shell.execute_reply": "2025-08-05T16:21:40.718946Z"
    },
    "papermill": {
     "duration": 0.022648,
     "end_time": "2025-08-05T16:21:40.721279",
     "exception": false,
     "start_time": "2025-08-05T16:21:40.698631",
     "status": "completed"
    },
    "tags": []
   },
   "outputs": [
    {
     "data": {
      "text/plain": [
       "0.7900978158052917"
      ]
     },
     "execution_count": 41,
     "metadata": {},
     "output_type": "execute_result"
    }
   ],
   "source": [
    "q_hat"
   ]
  },
  {
   "cell_type": "code",
   "execution_count": 42,
   "id": "92460794-cdac-4be2-ba28-f28c0515a6fb",
   "metadata": {
    "execution": {
     "iopub.execute_input": "2025-08-05T16:21:40.748497Z",
     "iopub.status.busy": "2025-08-05T16:21:40.747747Z",
     "iopub.status.idle": "2025-08-05T16:21:41.730095Z",
     "shell.execute_reply": "2025-08-05T16:21:41.728926Z"
    },
    "papermill": {
     "duration": 0.99768,
     "end_time": "2025-08-05T16:21:41.731935",
     "exception": false,
     "start_time": "2025-08-05T16:21:40.734255",
     "status": "completed"
    },
    "tags": []
   },
   "outputs": [],
   "source": [
    "from fairness_multiverse.conformal import predict_conformal_sets\n",
    "\n",
    "# Generate prediction sets for each test example\n",
    "pred_sets = predict_conformal_sets(model, X_test, q_hat)"
   ]
  },
  {
   "cell_type": "code",
   "execution_count": 43,
   "id": "d90c9a65-e6db-4f5d-80cd-e68fb7e46829",
   "metadata": {
    "execution": {
     "iopub.execute_input": "2025-08-05T16:21:41.786842Z",
     "iopub.status.busy": "2025-08-05T16:21:41.786066Z",
     "iopub.status.idle": "2025-08-05T16:21:41.793032Z",
     "shell.execute_reply": "2025-08-05T16:21:41.791704Z"
    },
    "papermill": {
     "duration": 0.037307,
     "end_time": "2025-08-05T16:21:41.795233",
     "exception": false,
     "start_time": "2025-08-05T16:21:41.757926",
     "status": "completed"
    },
    "tags": []
   },
   "outputs": [],
   "source": [
    "y_true = y_true.squeeze()"
   ]
  },
  {
   "cell_type": "code",
   "execution_count": 44,
   "id": "3a58a54a-1e68-46b9-927a-df01f18aebc8",
   "metadata": {
    "execution": {
     "iopub.execute_input": "2025-08-05T16:21:41.850944Z",
     "iopub.status.busy": "2025-08-05T16:21:41.850102Z",
     "iopub.status.idle": "2025-08-05T16:21:42.830592Z",
     "shell.execute_reply": "2025-08-05T16:21:42.829593Z"
    },
    "papermill": {
     "duration": 1.010678,
     "end_time": "2025-08-05T16:21:42.832885",
     "exception": false,
     "start_time": "2025-08-05T16:21:41.822207",
     "status": "completed"
    },
    "tags": []
   },
   "outputs": [],
   "source": [
    "from fairness_multiverse.conformal import evaluate_sets\n",
    "\n",
    "# Evaluate coverage and average set size on test data\n",
    "metrics = evaluate_sets(pred_sets, y_true)"
   ]
  },
  {
   "cell_type": "markdown",
   "id": "2b569c12-9aaa-4c88-98c9-bbcd0cf3ebb8",
   "metadata": {
    "papermill": {
     "duration": 0.01354,
     "end_time": "2025-08-05T16:21:42.889700",
     "exception": false,
     "start_time": "2025-08-05T16:21:42.876160",
     "status": "completed"
    },
    "tags": []
   },
   "source": [
    "# CP Metrics"
   ]
  },
  {
   "cell_type": "code",
   "execution_count": 45,
   "id": "5ce0a5cb-201f-45a0-ade5-94c7f0bd6095",
   "metadata": {
    "execution": {
     "iopub.execute_input": "2025-08-05T16:21:42.918071Z",
     "iopub.status.busy": "2025-08-05T16:21:42.917636Z",
     "iopub.status.idle": "2025-08-05T16:21:42.925064Z",
     "shell.execute_reply": "2025-08-05T16:21:42.924033Z"
    },
    "papermill": {
     "duration": 0.023585,
     "end_time": "2025-08-05T16:21:42.926661",
     "exception": false,
     "start_time": "2025-08-05T16:21:42.903076",
     "status": "completed"
    },
    "tags": []
   },
   "outputs": [
    {
     "data": {
      "text/plain": [
       "{'coverage': 0.910188384795452, 'avg_size': 1.1980604168988964}"
      ]
     },
     "execution_count": 45,
     "metadata": {},
     "output_type": "execute_result"
    }
   ],
   "source": [
    "metrics"
   ]
  },
  {
   "cell_type": "code",
   "execution_count": 46,
   "id": "9b9a838d-31c9-430b-ae14-12baee460d17",
   "metadata": {
    "execution": {
     "iopub.execute_input": "2025-08-05T16:21:42.955390Z",
     "iopub.status.busy": "2025-08-05T16:21:42.955011Z",
     "iopub.status.idle": "2025-08-05T16:21:42.960947Z",
     "shell.execute_reply": "2025-08-05T16:21:42.959915Z"
    },
    "papermill": {
     "duration": 0.02187,
     "end_time": "2025-08-05T16:21:42.962472",
     "exception": false,
     "start_time": "2025-08-05T16:21:42.940602",
     "status": "completed"
    },
    "tags": []
   },
   "outputs": [],
   "source": [
    "example_universe = universe.copy()\n",
    "universe_training_year = example_universe.get(\"training_year\")\n",
    "universe_training_size = example_universe.get(\"training_size\")\n",
    "universe_scale = example_universe.get(\"scale\")\n",
    "universe_model = example_universe.get(\"model\")\n",
    "universe_exclude_features = example_universe.get(\"exclude_features\")\n",
    "universe_exclude_subgroups = example_universe.get(\"exclude_subgroups\")"
   ]
  },
  {
   "cell_type": "code",
   "execution_count": 47,
   "id": "f4b6a8ac-9dc0-4245-8a91-5b3b5999c4f9",
   "metadata": {
    "execution": {
     "iopub.execute_input": "2025-08-05T16:21:42.992445Z",
     "iopub.status.busy": "2025-08-05T16:21:42.991509Z",
     "iopub.status.idle": "2025-08-05T16:21:42.998154Z",
     "shell.execute_reply": "2025-08-05T16:21:42.997207Z"
    },
    "papermill": {
     "duration": 0.02329,
     "end_time": "2025-08-05T16:21:42.999729",
     "exception": false,
     "start_time": "2025-08-05T16:21:42.976439",
     "status": "completed"
    },
    "tags": []
   },
   "outputs": [],
   "source": [
    "cp_metrics_dict = {\n",
    "    \"universe_id\": [universe_id],\n",
    "    \"universe_training_year\": [universe_training_year],\n",
    "    \"universe_training_size\": [universe_training_size],\n",
    "    \"universe_scale\": [universe_scale],\n",
    "    \"universe_model\": [universe_model],\n",
    "    \"universe_exclude_features\": [universe_exclude_features],\n",
    "    \"universe_exclude_subgroups\": [universe_exclude_subgroups],\n",
    "    \"q_hat\": [q_hat],\n",
    "    \"coverage\": [metrics[\"coverage\"]],\n",
    "    \"avg_size\": [metrics[\"avg_size\"]],\n",
    "}"
   ]
  },
  {
   "cell_type": "code",
   "execution_count": 48,
   "id": "908acbb1-0371-4915-85ca-3fa520d2efe2",
   "metadata": {
    "execution": {
     "iopub.execute_input": "2025-08-05T16:21:43.030698Z",
     "iopub.status.busy": "2025-08-05T16:21:43.029691Z",
     "iopub.status.idle": "2025-08-05T16:21:43.037423Z",
     "shell.execute_reply": "2025-08-05T16:21:43.036497Z"
    },
    "papermill": {
     "duration": 0.024853,
     "end_time": "2025-08-05T16:21:43.039174",
     "exception": false,
     "start_time": "2025-08-05T16:21:43.014321",
     "status": "completed"
    },
    "tags": []
   },
   "outputs": [
    {
     "data": {
      "text/plain": [
       "{'universe_id': ['e3f1c4b0d0089967f8326b123ff92728'],\n",
       " 'universe_training_year': ['2012_14'],\n",
       " 'universe_training_size': ['1k'],\n",
       " 'universe_scale': ['scale'],\n",
       " 'universe_model': ['gbm'],\n",
       " 'universe_exclude_features': ['age'],\n",
       " 'universe_exclude_subgroups': ['drop-non-german'],\n",
       " 'q_hat': [0.7900978158052917],\n",
       " 'coverage': [0.910188384795452],\n",
       " 'avg_size': [1.1980604168988964]}"
      ]
     },
     "execution_count": 48,
     "metadata": {},
     "output_type": "execute_result"
    }
   ],
   "source": [
    "cp_metrics_dict"
   ]
  },
  {
   "cell_type": "code",
   "execution_count": 49,
   "id": "33007efc-14e9-4ec6-97ac-56a455c82265",
   "metadata": {
    "execution": {
     "iopub.execute_input": "2025-08-05T16:21:43.069642Z",
     "iopub.status.busy": "2025-08-05T16:21:43.069027Z",
     "iopub.status.idle": "2025-08-05T16:21:43.075577Z",
     "shell.execute_reply": "2025-08-05T16:21:43.074628Z"
    },
    "papermill": {
     "duration": 0.023399,
     "end_time": "2025-08-05T16:21:43.077220",
     "exception": false,
     "start_time": "2025-08-05T16:21:43.053821",
     "status": "completed"
    },
    "tags": []
   },
   "outputs": [],
   "source": [
    "cp_metrics_df = pd.DataFrame(cp_metrics_dict)"
   ]
  },
  {
   "cell_type": "code",
   "execution_count": 50,
   "id": "db12611b-57b2-4910-b9d0-355adfd6e7bf",
   "metadata": {
    "execution": {
     "iopub.execute_input": "2025-08-05T16:21:43.107647Z",
     "iopub.status.busy": "2025-08-05T16:21:43.107056Z",
     "iopub.status.idle": "2025-08-05T16:21:43.124243Z",
     "shell.execute_reply": "2025-08-05T16:21:43.123375Z"
    },
    "papermill": {
     "duration": 0.033982,
     "end_time": "2025-08-05T16:21:43.125941",
     "exception": false,
     "start_time": "2025-08-05T16:21:43.091959",
     "status": "completed"
    },
    "tags": []
   },
   "outputs": [
    {
     "data": {
      "text/html": [
       "<div>\n",
       "<style scoped>\n",
       "    .dataframe tbody tr th:only-of-type {\n",
       "        vertical-align: middle;\n",
       "    }\n",
       "\n",
       "    .dataframe tbody tr th {\n",
       "        vertical-align: top;\n",
       "    }\n",
       "\n",
       "    .dataframe thead th {\n",
       "        text-align: right;\n",
       "    }\n",
       "</style>\n",
       "<table border=\"1\" class=\"dataframe\">\n",
       "  <thead>\n",
       "    <tr style=\"text-align: right;\">\n",
       "      <th></th>\n",
       "      <th>universe_id</th>\n",
       "      <th>universe_training_year</th>\n",
       "      <th>universe_training_size</th>\n",
       "      <th>universe_scale</th>\n",
       "      <th>universe_model</th>\n",
       "      <th>universe_exclude_features</th>\n",
       "      <th>universe_exclude_subgroups</th>\n",
       "      <th>q_hat</th>\n",
       "      <th>coverage</th>\n",
       "      <th>avg_size</th>\n",
       "    </tr>\n",
       "  </thead>\n",
       "  <tbody>\n",
       "    <tr>\n",
       "      <th>0</th>\n",
       "      <td>e3f1c4b0d0089967f8326b123ff92728</td>\n",
       "      <td>2012_14</td>\n",
       "      <td>1k</td>\n",
       "      <td>scale</td>\n",
       "      <td>gbm</td>\n",
       "      <td>age</td>\n",
       "      <td>drop-non-german</td>\n",
       "      <td>0.790098</td>\n",
       "      <td>0.910188</td>\n",
       "      <td>1.19806</td>\n",
       "    </tr>\n",
       "  </tbody>\n",
       "</table>\n",
       "</div>"
      ],
      "text/plain": [
       "                        universe_id universe_training_year  \\\n",
       "0  e3f1c4b0d0089967f8326b123ff92728                2012_14   \n",
       "\n",
       "  universe_training_size universe_scale universe_model  \\\n",
       "0                     1k          scale            gbm   \n",
       "\n",
       "  universe_exclude_features universe_exclude_subgroups     q_hat  coverage  \\\n",
       "0                       age            drop-non-german  0.790098  0.910188   \n",
       "\n",
       "   avg_size  \n",
       "0   1.19806  "
      ]
     },
     "execution_count": 50,
     "metadata": {},
     "output_type": "execute_result"
    }
   ],
   "source": [
    "cp_metrics_df"
   ]
  },
  {
   "cell_type": "code",
   "execution_count": 51,
   "id": "b7fbde55-a0a1-47e4-9af6-fe4a17fa8c61",
   "metadata": {
    "execution": {
     "iopub.execute_input": "2025-08-05T16:21:43.158285Z",
     "iopub.status.busy": "2025-08-05T16:21:43.157393Z",
     "iopub.status.idle": "2025-08-05T16:21:43.163128Z",
     "shell.execute_reply": "2025-08-05T16:21:43.162165Z"
    },
    "papermill": {
     "duration": 0.022355,
     "end_time": "2025-08-05T16:21:43.164721",
     "exception": false,
     "start_time": "2025-08-05T16:21:43.142366",
     "status": "completed"
    },
    "tags": []
   },
   "outputs": [],
   "source": [
    "# Conditional Coverage & looking at subgroups"
   ]
  },
  {
   "cell_type": "code",
   "execution_count": 52,
   "id": "027ae886-68dd-4141-96c7-805a5450e1ef",
   "metadata": {
    "execution": {
     "iopub.execute_input": "2025-08-05T16:21:43.195347Z",
     "iopub.status.busy": "2025-08-05T16:21:43.194435Z",
     "iopub.status.idle": "2025-08-05T16:21:43.399937Z",
     "shell.execute_reply": "2025-08-05T16:21:43.398957Z"
    },
    "papermill": {
     "duration": 0.222356,
     "end_time": "2025-08-05T16:21:43.401799",
     "exception": false,
     "start_time": "2025-08-05T16:21:43.179443",
     "status": "completed"
    },
    "tags": []
   },
   "outputs": [],
   "source": [
    "from fairness_multiverse.conformal import build_cp_groups\n",
    "\n",
    "cp_groups_df = build_cp_groups(pred_sets, y_true, X_test.index, org_test)\n",
    "#needs universe_id and setting"
   ]
  },
  {
   "cell_type": "code",
   "execution_count": 53,
   "id": "6cbdab96-b2b2-45af-ad54-d0516db2e28d",
   "metadata": {
    "execution": {
     "iopub.execute_input": "2025-08-05T16:21:43.432912Z",
     "iopub.status.busy": "2025-08-05T16:21:43.432449Z",
     "iopub.status.idle": "2025-08-05T16:21:45.054810Z",
     "shell.execute_reply": "2025-08-05T16:21:45.053770Z"
    },
    "papermill": {
     "duration": 1.639695,
     "end_time": "2025-08-05T16:21:45.057102",
     "exception": false,
     "start_time": "2025-08-05T16:21:43.417407",
     "status": "completed"
    },
    "tags": []
   },
   "outputs": [],
   "source": [
    "# Define covered = 1 if true_label is in the predicted set\n",
    "cp_groups_df['covered'] = cp_groups_df.apply(\n",
    "    lambda r: int(r['true_label'] in r['pred_set']),\n",
    "    axis=1\n",
    ")"
   ]
  },
  {
   "cell_type": "code",
   "execution_count": 54,
   "id": "338ff529-1a6b-4b87-a931-8e4788d52aad",
   "metadata": {
    "execution": {
     "iopub.execute_input": "2025-08-05T16:21:45.116876Z",
     "iopub.status.busy": "2025-08-05T16:21:45.115819Z",
     "iopub.status.idle": "2025-08-05T16:21:45.122943Z",
     "shell.execute_reply": "2025-08-05T16:21:45.121414Z"
    },
    "papermill": {
     "duration": 0.03946,
     "end_time": "2025-08-05T16:21:45.125499",
     "exception": false,
     "start_time": "2025-08-05T16:21:45.086039",
     "status": "completed"
    },
    "tags": []
   },
   "outputs": [],
   "source": [
    "#cp_groups_df"
   ]
  },
  {
   "cell_type": "code",
   "execution_count": 55,
   "id": "90032e27-66df-4540-9169-4e89cfbaa758",
   "metadata": {
    "execution": {
     "iopub.execute_input": "2025-08-05T16:21:45.188409Z",
     "iopub.status.busy": "2025-08-05T16:21:45.187752Z",
     "iopub.status.idle": "2025-08-05T16:21:45.205366Z",
     "shell.execute_reply": "2025-08-05T16:21:45.200765Z"
    },
    "papermill": {
     "duration": 0.051206,
     "end_time": "2025-08-05T16:21:45.207165",
     "exception": false,
     "start_time": "2025-08-05T16:21:45.155959",
     "status": "completed"
    },
    "tags": []
   },
   "outputs": [],
   "source": [
    "subgroups = ['frau1','nongerman','nongerman_male','nongerman_female']\n",
    "\n",
    "# Conditional coverage for subgroup==1\n",
    "cond_coverage = {\n",
    "    g: cp_groups_df.loc[cp_groups_df[g]==1, 'covered'].mean()\n",
    "    for g in subgroups\n",
    "}"
   ]
  },
  {
   "cell_type": "code",
   "execution_count": 56,
   "id": "1e348fb1-b9c3-45bc-ba23-f016827a7e0d",
   "metadata": {
    "execution": {
     "iopub.execute_input": "2025-08-05T16:21:45.238411Z",
     "iopub.status.busy": "2025-08-05T16:21:45.237454Z",
     "iopub.status.idle": "2025-08-05T16:21:45.245239Z",
     "shell.execute_reply": "2025-08-05T16:21:45.244118Z"
    },
    "papermill": {
     "duration": 0.024712,
     "end_time": "2025-08-05T16:21:45.246861",
     "exception": false,
     "start_time": "2025-08-05T16:21:45.222149",
     "status": "completed"
    },
    "tags": []
   },
   "outputs": [
    {
     "data": {
      "text/plain": [
       "{'frau1': 0.9038414880711686,\n",
       " 'nongerman': 0.9089990456408241,\n",
       " 'nongerman_male': 0.9292083220751148,\n",
       " 'nongerman_female': 0.875558867362146}"
      ]
     },
     "execution_count": 56,
     "metadata": {},
     "output_type": "execute_result"
    }
   ],
   "source": [
    "cond_coverage"
   ]
  },
  {
   "cell_type": "code",
   "execution_count": 57,
   "id": "f5093324-c3dd-4d63-bc4c-8d945e5c8bbb",
   "metadata": {
    "execution": {
     "iopub.execute_input": "2025-08-05T16:21:45.283032Z",
     "iopub.status.busy": "2025-08-05T16:21:45.282459Z",
     "iopub.status.idle": "2025-08-05T16:21:45.292768Z",
     "shell.execute_reply": "2025-08-05T16:21:45.291457Z"
    },
    "papermill": {
     "duration": 0.03282,
     "end_time": "2025-08-05T16:21:45.294913",
     "exception": false,
     "start_time": "2025-08-05T16:21:45.262093",
     "status": "completed"
    },
    "tags": []
   },
   "outputs": [],
   "source": [
    "for subgroup, cov in cond_coverage.items():\n",
    "    cp_metrics_df[f\"cov_{subgroup}\"] = cov"
   ]
  },
  {
   "cell_type": "code",
   "execution_count": 58,
   "id": "6e872e10-dbe5-49e8-b554-5030c98ff75d",
   "metadata": {
    "execution": {
     "iopub.execute_input": "2025-08-05T16:21:45.362374Z",
     "iopub.status.busy": "2025-08-05T16:21:45.361751Z",
     "iopub.status.idle": "2025-08-05T16:21:45.387593Z",
     "shell.execute_reply": "2025-08-05T16:21:45.386201Z"
    },
    "papermill": {
     "duration": 0.062115,
     "end_time": "2025-08-05T16:21:45.389825",
     "exception": false,
     "start_time": "2025-08-05T16:21:45.327710",
     "status": "completed"
    },
    "tags": []
   },
   "outputs": [
    {
     "data": {
      "text/html": [
       "<div>\n",
       "<style scoped>\n",
       "    .dataframe tbody tr th:only-of-type {\n",
       "        vertical-align: middle;\n",
       "    }\n",
       "\n",
       "    .dataframe tbody tr th {\n",
       "        vertical-align: top;\n",
       "    }\n",
       "\n",
       "    .dataframe thead th {\n",
       "        text-align: right;\n",
       "    }\n",
       "</style>\n",
       "<table border=\"1\" class=\"dataframe\">\n",
       "  <thead>\n",
       "    <tr style=\"text-align: right;\">\n",
       "      <th></th>\n",
       "      <th>universe_id</th>\n",
       "      <th>universe_training_year</th>\n",
       "      <th>universe_training_size</th>\n",
       "      <th>universe_scale</th>\n",
       "      <th>universe_model</th>\n",
       "      <th>universe_exclude_features</th>\n",
       "      <th>universe_exclude_subgroups</th>\n",
       "      <th>q_hat</th>\n",
       "      <th>coverage</th>\n",
       "      <th>avg_size</th>\n",
       "      <th>cov_frau1</th>\n",
       "      <th>cov_nongerman</th>\n",
       "      <th>cov_nongerman_male</th>\n",
       "      <th>cov_nongerman_female</th>\n",
       "    </tr>\n",
       "  </thead>\n",
       "  <tbody>\n",
       "    <tr>\n",
       "      <th>0</th>\n",
       "      <td>e3f1c4b0d0089967f8326b123ff92728</td>\n",
       "      <td>2012_14</td>\n",
       "      <td>1k</td>\n",
       "      <td>scale</td>\n",
       "      <td>gbm</td>\n",
       "      <td>age</td>\n",
       "      <td>drop-non-german</td>\n",
       "      <td>0.790098</td>\n",
       "      <td>0.910188</td>\n",
       "      <td>1.19806</td>\n",
       "      <td>0.903841</td>\n",
       "      <td>0.908999</td>\n",
       "      <td>0.929208</td>\n",
       "      <td>0.875559</td>\n",
       "    </tr>\n",
       "  </tbody>\n",
       "</table>\n",
       "</div>"
      ],
      "text/plain": [
       "                        universe_id universe_training_year  \\\n",
       "0  e3f1c4b0d0089967f8326b123ff92728                2012_14   \n",
       "\n",
       "  universe_training_size universe_scale universe_model  \\\n",
       "0                     1k          scale            gbm   \n",
       "\n",
       "  universe_exclude_features universe_exclude_subgroups     q_hat  coverage  \\\n",
       "0                       age            drop-non-german  0.790098  0.910188   \n",
       "\n",
       "   avg_size  cov_frau1  cov_nongerman  cov_nongerman_male  \\\n",
       "0   1.19806   0.903841       0.908999            0.929208   \n",
       "\n",
       "   cov_nongerman_female  \n",
       "0              0.875559  "
      ]
     },
     "execution_count": 58,
     "metadata": {},
     "output_type": "execute_result"
    }
   ],
   "source": [
    "cp_metrics_df"
   ]
  },
  {
   "cell_type": "markdown",
   "id": "33774451",
   "metadata": {
    "papermill": {
     "duration": 0.03141,
     "end_time": "2025-08-05T16:21:45.452890",
     "exception": false,
     "start_time": "2025-08-05T16:21:45.421480",
     "status": "completed"
    },
    "tags": []
   },
   "source": [
    "# (Fairness) Metrics"
   ]
  },
  {
   "cell_type": "code",
   "execution_count": 59,
   "id": "debc5d62",
   "metadata": {
    "execution": {
     "iopub.execute_input": "2025-08-05T16:21:45.519086Z",
     "iopub.status.busy": "2025-08-05T16:21:45.518221Z",
     "iopub.status.idle": "2025-08-05T16:21:45.546867Z",
     "shell.execute_reply": "2025-08-05T16:21:45.545627Z"
    },
    "papermill": {
     "duration": 0.064836,
     "end_time": "2025-08-05T16:21:45.548888",
     "exception": false,
     "start_time": "2025-08-05T16:21:45.484052",
     "status": "completed"
    },
    "tags": []
   },
   "outputs": [],
   "source": [
    "# do I need to include maxdeutsch1.missing?\n",
    "\n",
    "import numpy as np\n",
    "\n",
    "colname_to_bin = \"maxdeutsch1\"\n",
    "majority_value = org_train[colname_to_bin].mode()[0]\n",
    "\n",
    "org_test[\"majmin\"] = np.where(org_test[colname_to_bin] == majority_value, \"majority\", \"minority\")"
   ]
  },
  {
   "cell_type": "code",
   "execution_count": 60,
   "id": "06a50de5",
   "metadata": {
    "execution": {
     "iopub.execute_input": "2025-08-05T16:21:45.615074Z",
     "iopub.status.busy": "2025-08-05T16:21:45.614083Z",
     "iopub.status.idle": "2025-08-05T16:21:48.615865Z",
     "shell.execute_reply": "2025-08-05T16:21:48.614514Z"
    },
    "papermill": {
     "duration": 3.037134,
     "end_time": "2025-08-05T16:21:48.618379",
     "exception": false,
     "start_time": "2025-08-05T16:21:45.581245",
     "status": "completed"
    },
    "tags": []
   },
   "outputs": [],
   "source": [
    "example_universe = universe.copy()\n",
    "example_universe[\"cutoff\"] = example_universe[\"cutoff\"][0]\n",
    "example_universe[\"eval_fairness_grouping\"] = example_universe[\"eval_fairness_grouping\"][0]\n",
    "fairness_dict, metric_frame = universe_analysis.compute_metrics(\n",
    "    example_universe,\n",
    "    y_pred_prob=probs_test,\n",
    "    y_test=y_true,\n",
    "    org_test=org_test,\n",
    ")"
   ]
  },
  {
   "cell_type": "markdown",
   "id": "f95d4e02",
   "metadata": {
    "papermill": {
     "duration": 0.02925,
     "end_time": "2025-08-05T16:21:48.679513",
     "exception": false,
     "start_time": "2025-08-05T16:21:48.650263",
     "status": "completed"
    },
    "tags": []
   },
   "source": [
    "# Overall"
   ]
  },
  {
   "cell_type": "markdown",
   "id": "bdee4871",
   "metadata": {
    "papermill": {
     "duration": 0.029872,
     "end_time": "2025-08-05T16:21:48.737606",
     "exception": false,
     "start_time": "2025-08-05T16:21:48.707734",
     "status": "completed"
    },
    "tags": []
   },
   "source": [
    "Fairness\n",
    "Main fairness target: Equalized Odds. Seems to be a better fit than equal opportunity, since we're not only interested in Y = 1. Seems to be a better fit than demographic parity, since we also care about accuracy, not just equal distribution of preds.\n",
    "\n",
    "Pick column for computation of fairness metrics\n",
    "\n",
    "Performance\n",
    "Overall performance measures, most interesting in relation to the measures split by group below"
   ]
  },
  {
   "cell_type": "code",
   "execution_count": 61,
   "id": "c4e067c6",
   "metadata": {
    "execution": {
     "iopub.execute_input": "2025-08-05T16:21:48.800655Z",
     "iopub.status.busy": "2025-08-05T16:21:48.799592Z",
     "iopub.status.idle": "2025-08-05T16:21:48.810255Z",
     "shell.execute_reply": "2025-08-05T16:21:48.809049Z"
    },
    "papermill": {
     "duration": 0.046268,
     "end_time": "2025-08-05T16:21:48.812202",
     "exception": false,
     "start_time": "2025-08-05T16:21:48.765934",
     "status": "completed"
    },
    "tags": []
   },
   "outputs": [
    {
     "data": {
      "text/plain": [
       "accuracy                   0.222027\n",
       "balanced accuracy          0.543692\n",
       "f1                         0.243562\n",
       "precision                  0.139135\n",
       "false positive rate        0.888980\n",
       "false negative rate        0.023636\n",
       "selection rate             0.900189\n",
       "count                  89710.000000\n",
       "dtype: float64"
      ]
     },
     "execution_count": 61,
     "metadata": {},
     "output_type": "execute_result"
    }
   ],
   "source": [
    "metric_frame.overall"
   ]
  },
  {
   "cell_type": "markdown",
   "id": "e968fe9d",
   "metadata": {
    "papermill": {
     "duration": 0.056158,
     "end_time": "2025-08-05T16:21:48.897865",
     "exception": false,
     "start_time": "2025-08-05T16:21:48.841707",
     "status": "completed"
    },
    "tags": []
   },
   "source": [
    "By Group"
   ]
  },
  {
   "cell_type": "code",
   "execution_count": 62,
   "id": "ec325bce",
   "metadata": {
    "execution": {
     "iopub.execute_input": "2025-08-05T16:21:48.956348Z",
     "iopub.status.busy": "2025-08-05T16:21:48.955747Z",
     "iopub.status.idle": "2025-08-05T16:21:48.975195Z",
     "shell.execute_reply": "2025-08-05T16:21:48.973952Z"
    },
    "papermill": {
     "duration": 0.05154,
     "end_time": "2025-08-05T16:21:48.977417",
     "exception": false,
     "start_time": "2025-08-05T16:21:48.925877",
     "status": "completed"
    },
    "tags": []
   },
   "outputs": [
    {
     "data": {
      "text/html": [
       "<div>\n",
       "<style scoped>\n",
       "    .dataframe tbody tr th:only-of-type {\n",
       "        vertical-align: middle;\n",
       "    }\n",
       "\n",
       "    .dataframe tbody tr th {\n",
       "        vertical-align: top;\n",
       "    }\n",
       "\n",
       "    .dataframe thead th {\n",
       "        text-align: right;\n",
       "    }\n",
       "</style>\n",
       "<table border=\"1\" class=\"dataframe\">\n",
       "  <thead>\n",
       "    <tr style=\"text-align: right;\">\n",
       "      <th></th>\n",
       "      <th>accuracy</th>\n",
       "      <th>balanced accuracy</th>\n",
       "      <th>f1</th>\n",
       "      <th>precision</th>\n",
       "      <th>false positive rate</th>\n",
       "      <th>false negative rate</th>\n",
       "      <th>selection rate</th>\n",
       "      <th>count</th>\n",
       "    </tr>\n",
       "    <tr>\n",
       "      <th>majmin</th>\n",
       "      <th></th>\n",
       "      <th></th>\n",
       "      <th></th>\n",
       "      <th></th>\n",
       "      <th></th>\n",
       "      <th></th>\n",
       "      <th></th>\n",
       "      <th></th>\n",
       "    </tr>\n",
       "  </thead>\n",
       "  <tbody>\n",
       "    <tr>\n",
       "      <th>majority</th>\n",
       "      <td>0.241420</td>\n",
       "      <td>0.551784</td>\n",
       "      <td>0.253284</td>\n",
       "      <td>0.145577</td>\n",
       "      <td>0.870065</td>\n",
       "      <td>0.026368</td>\n",
       "      <td>0.88375</td>\n",
       "      <td>69170.0</td>\n",
       "    </tr>\n",
       "    <tr>\n",
       "      <th>minority</th>\n",
       "      <td>0.156719</td>\n",
       "      <td>0.517722</td>\n",
       "      <td>0.212503</td>\n",
       "      <td>0.119071</td>\n",
       "      <td>0.951464</td>\n",
       "      <td>0.013091</td>\n",
       "      <td>0.95555</td>\n",
       "      <td>20540.0</td>\n",
       "    </tr>\n",
       "  </tbody>\n",
       "</table>\n",
       "</div>"
      ],
      "text/plain": [
       "          accuracy  balanced accuracy        f1  precision  \\\n",
       "majmin                                                       \n",
       "majority  0.241420           0.551784  0.253284   0.145577   \n",
       "minority  0.156719           0.517722  0.212503   0.119071   \n",
       "\n",
       "          false positive rate  false negative rate  selection rate    count  \n",
       "majmin                                                                       \n",
       "majority             0.870065             0.026368         0.88375  69170.0  \n",
       "minority             0.951464             0.013091         0.95555  20540.0  "
      ]
     },
     "execution_count": 62,
     "metadata": {},
     "output_type": "execute_result"
    }
   ],
   "source": [
    "metric_frame.by_group"
   ]
  },
  {
   "cell_type": "code",
   "execution_count": 63,
   "id": "a9ddbe63",
   "metadata": {
    "execution": {
     "iopub.execute_input": "2025-08-05T16:21:49.037384Z",
     "iopub.status.busy": "2025-08-05T16:21:49.036858Z",
     "iopub.status.idle": "2025-08-05T16:21:51.773804Z",
     "shell.execute_reply": "2025-08-05T16:21:51.772663Z"
    },
    "papermill": {
     "duration": 2.76922,
     "end_time": "2025-08-05T16:21:51.775822",
     "exception": false,
     "start_time": "2025-08-05T16:21:49.006602",
     "status": "completed"
    },
    "tags": []
   },
   "outputs": [
    {
     "data": {
      "text/plain": [
       "array([[<Axes: title={'center': 'accuracy'}, xlabel='majmin'>,\n",
       "        <Axes: title={'center': 'balanced accuracy'}, xlabel='majmin'>,\n",
       "        <Axes: title={'center': 'f1'}, xlabel='majmin'>],\n",
       "       [<Axes: title={'center': 'precision'}, xlabel='majmin'>,\n",
       "        <Axes: title={'center': 'false positive rate'}, xlabel='majmin'>,\n",
       "        <Axes: title={'center': 'false negative rate'}, xlabel='majmin'>],\n",
       "       [<Axes: title={'center': 'selection rate'}, xlabel='majmin'>,\n",
       "        <Axes: title={'center': 'count'}, xlabel='majmin'>,\n",
       "        <Axes: xlabel='majmin'>]], dtype=object)"
      ]
     },
     "execution_count": 63,
     "metadata": {},
     "output_type": "execute_result"
    },
    {
     "data": {
      "image/png": "[encoded data removed]",
      "text/plain": [
       "<Figure size 1200x800 with 9 Axes>"
      ]
     },
     "metadata": {},
     "output_type": "display_data"
    }
   ],
   "source": [
    "# In a graphic\n",
    "metric_frame.by_group.plot.bar(\n",
    "    subplots=True,\n",
    "    layout=[3, 3],\n",
    "    legend=False,\n",
    "    figsize=[12, 8],\n",
    "    title=\"Show all metrics\",\n",
    ")"
   ]
  },
  {
   "cell_type": "markdown",
   "id": "f57a0bac",
   "metadata": {
    "papermill": {
     "duration": 0.03302,
     "end_time": "2025-08-05T16:21:51.840643",
     "exception": false,
     "start_time": "2025-08-05T16:21:51.807623",
     "status": "completed"
    },
    "tags": []
   },
   "source": [
    "# Final Output"
   ]
  },
  {
   "cell_type": "code",
   "execution_count": 64,
   "id": "96d280a3",
   "metadata": {
    "execution": {
     "iopub.execute_input": "2025-08-05T16:21:51.904689Z",
     "iopub.status.busy": "2025-08-05T16:21:51.903929Z",
     "iopub.status.idle": "2025-08-05T16:21:51.913939Z",
     "shell.execute_reply": "2025-08-05T16:21:51.912802Z"
    },
    "papermill": {
     "duration": 0.044821,
     "end_time": "2025-08-05T16:21:51.915952",
     "exception": false,
     "start_time": "2025-08-05T16:21:51.871131",
     "status": "completed"
    },
    "tags": []
   },
   "outputs": [
    {
     "data": {
      "text/plain": [
       "4"
      ]
     },
     "execution_count": 64,
     "metadata": {},
     "output_type": "execute_result"
    }
   ],
   "source": [
    "sub_universes = universe_analysis.generate_sub_universes()\n",
    "len(sub_universes)"
   ]
  },
  {
   "cell_type": "code",
   "execution_count": 65,
   "id": "92adf7ba",
   "metadata": {
    "execution": {
     "iopub.execute_input": "2025-08-05T16:21:51.984116Z",
     "iopub.status.busy": "2025-08-05T16:21:51.983106Z",
     "iopub.status.idle": "2025-08-05T16:21:51.990698Z",
     "shell.execute_reply": "2025-08-05T16:21:51.989555Z"
    },
    "papermill": {
     "duration": 0.043703,
     "end_time": "2025-08-05T16:21:51.992737",
     "exception": false,
     "start_time": "2025-08-05T16:21:51.949034",
     "status": "completed"
    },
    "tags": []
   },
   "outputs": [],
   "source": [
    "def filter_sub_universe_data(sub_universe, org_test):\n",
    "    # Keep all rows — no filtering\n",
    "    keep_rows_mask = np.ones(org_test.shape[0], dtype=bool)\n",
    "\n",
    "    print(f\"[INFO] Keeping all rows: {keep_rows_mask.sum()} rows retained.\")\n",
    "    return keep_rows_mask"
   ]
  },
  {
   "cell_type": "code",
   "execution_count": 66,
   "id": "4a759155",
   "metadata": {
    "execution": {
     "iopub.execute_input": "2025-08-05T16:21:52.061942Z",
     "iopub.status.busy": "2025-08-05T16:21:52.060935Z",
     "iopub.status.idle": "2025-08-05T16:22:00.915131Z",
     "shell.execute_reply": "2025-08-05T16:22:00.914076Z"
    },
    "papermill": {
     "duration": 8.889796,
     "end_time": "2025-08-05T16:22:00.916696",
     "exception": false,
     "start_time": "2025-08-05T16:21:52.026900",
     "status": "completed"
    },
    "tags": []
   },
   "outputs": [
    {
     "name": "stdout",
     "output_type": "stream",
     "text": [
      "Stopping execution_time clock.\n",
      "[INFO] Keeping all rows: 89710 rows retained.\n"
     ]
    },
    {
     "name": "stdout",
     "output_type": "stream",
     "text": [
      "[INFO] Keeping all rows: 89710 rows retained.\n"
     ]
    },
    {
     "name": "stdout",
     "output_type": "stream",
     "text": [
      "[INFO] Keeping all rows: 89710 rows retained.\n"
     ]
    },
    {
     "name": "stdout",
     "output_type": "stream",
     "text": [
      "[INFO] Keeping all rows: 89710 rows retained.\n"
     ]
    },
    {
     "data": {
      "text/html": [
       "<div>\n",
       "<style scoped>\n",
       "    .dataframe tbody tr th:only-of-type {\n",
       "        vertical-align: middle;\n",
       "    }\n",
       "\n",
       "    .dataframe tbody tr th {\n",
       "        vertical-align: top;\n",
       "    }\n",
       "\n",
       "    .dataframe thead th {\n",
       "        text-align: right;\n",
       "    }\n",
       "</style>\n",
       "<table border=\"1\" class=\"dataframe\">\n",
       "  <thead>\n",
       "    <tr style=\"text-align: right;\">\n",
       "      <th></th>\n",
       "      <th>run_no</th>\n",
       "      <th>universe_id</th>\n",
       "      <th>universe_settings</th>\n",
       "      <th>execution_time</th>\n",
       "      <th>test_size_n</th>\n",
       "      <th>test_size_frac</th>\n",
       "      <th>fair_main_equalized_odds_difference</th>\n",
       "      <th>fair_main_equalized_odds_ratio</th>\n",
       "      <th>fair_main_demographic_parity_difference</th>\n",
       "      <th>fair_main_demographic_parity_ratio</th>\n",
       "      <th>...</th>\n",
       "      <th>perf_grp_precision_0</th>\n",
       "      <th>perf_grp_precision_1</th>\n",
       "      <th>perf_grp_false positive rate_0</th>\n",
       "      <th>perf_grp_false positive rate_1</th>\n",
       "      <th>perf_grp_false negative rate_0</th>\n",
       "      <th>perf_grp_false negative rate_1</th>\n",
       "      <th>perf_grp_selection rate_0</th>\n",
       "      <th>perf_grp_selection rate_1</th>\n",
       "      <th>perf_grp_count_0</th>\n",
       "      <th>perf_grp_count_1</th>\n",
       "    </tr>\n",
       "  </thead>\n",
       "  <tbody>\n",
       "    <tr>\n",
       "      <th>0</th>\n",
       "      <td>15</td>\n",
       "      <td>e3f1c4b0d0089967f8326b123ff92728</td>\n",
       "      <td>{\"cutoff\": \"quantile_0.1\", \"eval_fairness_grou...</td>\n",
       "      <td>31.574468</td>\n",
       "      <td>89710</td>\n",
       "      <td>1.0</td>\n",
       "      <td>0.081399</td>\n",
       "      <td>0.914449</td>\n",
       "      <td>0.071800</td>\n",
       "      <td>0.92486</td>\n",
       "      <td>...</td>\n",
       "      <td>NaN</td>\n",
       "      <td>NaN</td>\n",
       "      <td>NaN</td>\n",
       "      <td>NaN</td>\n",
       "      <td>NaN</td>\n",
       "      <td>NaN</td>\n",
       "      <td>NaN</td>\n",
       "      <td>NaN</td>\n",
       "      <td>NaN</td>\n",
       "      <td>NaN</td>\n",
       "    </tr>\n",
       "    <tr>\n",
       "      <th>0</th>\n",
       "      <td>15</td>\n",
       "      <td>e3f1c4b0d0089967f8326b123ff92728</td>\n",
       "      <td>{\"cutoff\": \"quantile_0.1\", \"eval_fairness_grou...</td>\n",
       "      <td>31.574468</td>\n",
       "      <td>89710</td>\n",
       "      <td>1.0</td>\n",
       "      <td>0.081399</td>\n",
       "      <td>0.914449</td>\n",
       "      <td>0.071800</td>\n",
       "      <td>0.92486</td>\n",
       "      <td>...</td>\n",
       "      <td>0.119071</td>\n",
       "      <td>0.145577</td>\n",
       "      <td>0.951464</td>\n",
       "      <td>0.870065</td>\n",
       "      <td>0.013091</td>\n",
       "      <td>0.026368</td>\n",
       "      <td>0.955550</td>\n",
       "      <td>0.883750</td>\n",
       "      <td>20540.0</td>\n",
       "      <td>69170.0</td>\n",
       "    </tr>\n",
       "    <tr>\n",
       "      <th>0</th>\n",
       "      <td>15</td>\n",
       "      <td>e3f1c4b0d0089967f8326b123ff92728</td>\n",
       "      <td>{\"cutoff\": \"quantile_0.25\", \"eval_fairness_gro...</td>\n",
       "      <td>31.574468</td>\n",
       "      <td>89710</td>\n",
       "      <td>1.0</td>\n",
       "      <td>0.158705</td>\n",
       "      <td>0.812655</td>\n",
       "      <td>0.140942</td>\n",
       "      <td>0.83586</td>\n",
       "      <td>...</td>\n",
       "      <td>NaN</td>\n",
       "      <td>NaN</td>\n",
       "      <td>NaN</td>\n",
       "      <td>NaN</td>\n",
       "      <td>NaN</td>\n",
       "      <td>NaN</td>\n",
       "      <td>NaN</td>\n",
       "      <td>NaN</td>\n",
       "      <td>NaN</td>\n",
       "      <td>NaN</td>\n",
       "    </tr>\n",
       "    <tr>\n",
       "      <th>0</th>\n",
       "      <td>15</td>\n",
       "      <td>e3f1c4b0d0089967f8326b123ff92728</td>\n",
       "      <td>{\"cutoff\": \"quantile_0.25\", \"eval_fairness_gro...</td>\n",
       "      <td>31.574468</td>\n",
       "      <td>89710</td>\n",
       "      <td>1.0</td>\n",
       "      <td>0.158705</td>\n",
       "      <td>0.812655</td>\n",
       "      <td>0.140942</td>\n",
       "      <td>0.83586</td>\n",
       "      <td>...</td>\n",
       "      <td>0.127176</td>\n",
       "      <td>0.167570</td>\n",
       "      <td>0.847127</td>\n",
       "      <td>0.688422</td>\n",
       "      <td>0.052787</td>\n",
       "      <td>0.089825</td>\n",
       "      <td>0.858666</td>\n",
       "      <td>0.717724</td>\n",
       "      <td>20540.0</td>\n",
       "      <td>69170.0</td>\n",
       "    </tr>\n",
       "  </tbody>\n",
       "</table>\n",
       "<p>4 rows × 50 columns</p>\n",
       "</div>"
      ],
      "text/plain": [
       "  run_no                       universe_id  \\\n",
       "0     15  e3f1c4b0d0089967f8326b123ff92728   \n",
       "0     15  e3f1c4b0d0089967f8326b123ff92728   \n",
       "0     15  e3f1c4b0d0089967f8326b123ff92728   \n",
       "0     15  e3f1c4b0d0089967f8326b123ff92728   \n",
       "\n",
       "                                   universe_settings  execution_time  \\\n",
       "0  {\"cutoff\": \"quantile_0.1\", \"eval_fairness_grou...       31.574468   \n",
       "0  {\"cutoff\": \"quantile_0.1\", \"eval_fairness_grou...       31.574468   \n",
       "0  {\"cutoff\": \"quantile_0.25\", \"eval_fairness_gro...       31.574468   \n",
       "0  {\"cutoff\": \"quantile_0.25\", \"eval_fairness_gro...       31.574468   \n",
       "\n",
       "   test_size_n  test_size_frac  fair_main_equalized_odds_difference  \\\n",
       "0        89710             1.0                             0.081399   \n",
       "0        89710             1.0                             0.081399   \n",
       "0        89710             1.0                             0.158705   \n",
       "0        89710             1.0                             0.158705   \n",
       "\n",
       "   fair_main_equalized_odds_ratio  fair_main_demographic_parity_difference  \\\n",
       "0                        0.914449                                 0.071800   \n",
       "0                        0.914449                                 0.071800   \n",
       "0                        0.812655                                 0.140942   \n",
       "0                        0.812655                                 0.140942   \n",
       "\n",
       "   fair_main_demographic_parity_ratio  ...  perf_grp_precision_0  \\\n",
       "0                             0.92486  ...                   NaN   \n",
       "0                             0.92486  ...              0.119071   \n",
       "0                             0.83586  ...                   NaN   \n",
       "0                             0.83586  ...              0.127176   \n",
       "\n",
       "   perf_grp_precision_1  perf_grp_false positive rate_0  \\\n",
       "0                   NaN                             NaN   \n",
       "0              0.145577                        0.951464   \n",
       "0                   NaN                             NaN   \n",
       "0              0.167570                        0.847127   \n",
       "\n",
       "   perf_grp_false positive rate_1  perf_grp_false negative rate_0  \\\n",
       "0                             NaN                             NaN   \n",
       "0                        0.870065                        0.013091   \n",
       "0                             NaN                             NaN   \n",
       "0                        0.688422                        0.052787   \n",
       "\n",
       "   perf_grp_false negative rate_1  perf_grp_selection rate_0  \\\n",
       "0                             NaN                        NaN   \n",
       "0                        0.026368                   0.955550   \n",
       "0                             NaN                        NaN   \n",
       "0                        0.089825                   0.858666   \n",
       "\n",
       "   perf_grp_selection rate_1  perf_grp_count_0  perf_grp_count_1  \n",
       "0                        NaN               NaN               NaN  \n",
       "0                   0.883750           20540.0           69170.0  \n",
       "0                        NaN               NaN               NaN  \n",
       "0                   0.717724           20540.0           69170.0  \n",
       "\n",
       "[4 rows x 50 columns]"
      ]
     },
     "execution_count": 66,
     "metadata": {},
     "output_type": "execute_result"
    }
   ],
   "source": [
    "final_output = universe_analysis.generate_final_output(\n",
    "    y_pred_prob=probs_test,\n",
    "    y_test=y_true,\n",
    "    org_test=org_test,\n",
    "    filter_data=filter_sub_universe_data,\n",
    "    cp_metrics_df=cp_metrics_df,\n",
    "    save=True,\n",
    ")\n",
    "final_output"
   ]
  }
 ],
 "metadata": {
  "celltoolbar": "Tags",
  "kernelspec": {
   "display_name": "Python (CMA Fairness)",
   "language": "python",
   "name": "cma_fair_env"
  },
  "language_info": {
   "codemirror_mode": {
    "name": "ipython",
    "version": 3
   },
   "file_extension": ".py",
   "mimetype": "text/x-python",
   "name": "python",
   "nbconvert_exporter": "python",
   "pygments_lexer": "ipython3",
   "version": "3.10.12"
  },
  "papermill": {
   "default_parameters": {},
   "duration": 45.020872,
   "end_time": "2025-08-05T16:22:01.654993",
   "environment_variables": {},
   "exception": null,
   "input_path": "universe_analysis.ipynb",
   "output_path": "output/runs/15/notebooks/m_15-e3f1c4b0d0089967f8326b123ff92728.ipynb",
   "parameters": {
    "output_dir": "output",
    "run_no": "15",
    "seed": "2023",
    "universe": "{\"cutoff\": [\"quantile_0.1\", \"quantile_0.25\"], \"eval_fairness_grouping\": [\"majority-minority\", \"nationality-all\"], \"exclude_features\": \"age\", \"exclude_subgroups\": \"drop-non-german\", \"model\": \"gbm\", \"scale\": \"scale\", \"training_size\": \"1k\", \"training_year\": \"2012_14\"}",
    "universe_id": "e3f1c4b0d0089967f8326b123ff92728"
   },
   "start_time": "2025-08-05T16:21:16.634121",
   "version": "2.6.0"
  }
 },
 "nbformat": 4,
 "nbformat_minor": 5
}