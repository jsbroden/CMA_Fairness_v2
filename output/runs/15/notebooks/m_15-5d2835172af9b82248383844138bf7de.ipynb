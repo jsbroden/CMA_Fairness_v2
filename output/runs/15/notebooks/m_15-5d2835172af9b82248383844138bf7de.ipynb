{
 "cells": [
  {
   "cell_type": "code",
   "execution_count": 1,
   "id": "f159f837-637b-42ba-96b5-ec9a68c44524",
   "metadata": {
    "execution": {
     "iopub.execute_input": "2025-08-05T16:30:35.338328Z",
     "iopub.status.busy": "2025-08-05T16:30:35.337685Z",
     "iopub.status.idle": "2025-08-05T16:30:35.356716Z",
     "shell.execute_reply": "2025-08-05T16:30:35.355511Z"
    },
    "papermill": {
     "duration": 0.045811,
     "end_time": "2025-08-05T16:30:35.358935",
     "exception": false,
     "start_time": "2025-08-05T16:30:35.313124",
     "status": "completed"
    },
    "tags": []
   },
   "outputs": [
    {
     "name": "stdout",
     "output_type": "stream",
     "text": [
      "/dss/dsshome1/0C/ra93lal2/cma/CMA_Fairness_v2\n"
     ]
    },
    {
     "name": "stderr",
     "output_type": "stream",
     "text": [
      "/dss/dsshome1/0C/ra93lal2/.local/share/virtualenvs/CMA_Fairness_v2-3j10GkSs/lib/python3.10/site-packages/IPython/core/magics/osm.py:393: UserWarning: This is now an optional IPython functionality, using bookmarks requires you to install the `pickleshare` library.\n",
      "  bkms = self.shell.db.get('bookmarks', {})\n",
      "/dss/dsshome1/0C/ra93lal2/.local/share/virtualenvs/CMA_Fairness_v2-3j10GkSs/lib/python3.10/site-packages/IPython/core/magics/osm.py:417: UserWarning: This is now an optional IPython functionality, setting dhist requires you to install the `pickleshare` library.\n",
      "  self.shell.db['dhist'] = compress_dhist(dhist)[-100:]\n"
     ]
    }
   ],
   "source": [
    "%cd ~/cma/CMA_Fairness_v2"
   ]
  },
  {
   "cell_type": "markdown",
   "id": "de2603b9",
   "metadata": {
    "papermill": {
     "duration": 0.021429,
     "end_time": "2025-08-05T16:30:35.400650",
     "exception": false,
     "start_time": "2025-08-05T16:30:35.379221",
     "status": "completed"
    },
    "tags": []
   },
   "source": [
    "The following cell holds the definition of our parameters, these values can be overriden by rendering the with e.g. the following command:\n",
    "\n",
    "papermill -p alpha 0.2 -p ratio 0.3 universe_analysis.ipynb output/test_run.ipynb"
   ]
  },
  {
   "cell_type": "code",
   "execution_count": 2,
   "id": "a80968a0-40bb-4fa9-85ef-2d5eefb01975",
   "metadata": {
    "execution": {
     "iopub.execute_input": "2025-08-05T16:30:35.519314Z",
     "iopub.status.busy": "2025-08-05T16:30:35.518679Z",
     "iopub.status.idle": "2025-08-05T16:30:35.526344Z",
     "shell.execute_reply": "2025-08-05T16:30:35.525052Z"
    },
    "papermill": {
     "duration": 0.03243,
     "end_time": "2025-08-05T16:30:35.528550",
     "exception": false,
     "start_time": "2025-08-05T16:30:35.496120",
     "status": "completed"
    },
    "tags": []
   },
   "outputs": [
    {
     "name": "stdout",
     "output_type": "stream",
     "text": [
      "Current working directory: /dss/dsshome1/0C/ra93lal2/cma/CMA_Fairness_v2\n"
     ]
    }
   ],
   "source": [
    "import os\n",
    "print(\"Current working directory:\", os.getcwd())"
   ]
  },
  {
   "cell_type": "code",
   "execution_count": 3,
   "id": "2dce4c03",
   "metadata": {
    "execution": {
     "iopub.execute_input": "2025-08-05T16:30:35.549990Z",
     "iopub.status.busy": "2025-08-05T16:30:35.549407Z",
     "iopub.status.idle": "2025-08-05T16:30:35.556889Z",
     "shell.execute_reply": "2025-08-05T16:30:35.555701Z"
    },
    "papermill": {
     "duration": 0.02551,
     "end_time": "2025-08-05T16:30:35.564081",
     "exception": false,
     "start_time": "2025-08-05T16:30:35.538571",
     "status": "completed"
    },
    "tags": [
     "parameters"
    ]
   },
   "outputs": [],
   "source": [
    "run_no = 0\n",
    "universe_id = \"test\"\n",
    "universe = {\n",
    "    \"training_size\": \"25k\", # \"25k\", \"5k\", \"1k\"\n",
    "    \"training_year\": \"2014\", # \"2014\", \"2012_14\", \"2010_14\"\n",
    "    \"scale\": \"scale\", # \"scale\", \"do-not-scale\",\n",
    "    \"model\": \"elasticnet\", # \"logreg\", \"penalized_logreg\", \"rf\", \"gbm\", \"elasticnet\"\n",
    "    \"cutoff\": [\"quantile_0.15\", \"quantile_0.30\"],\n",
    "    \"exclude_features\": \"age\", # \"none\", \"nationality\", \"sex\", \"nationality-sex\", \"age\"\n",
    "    \"exclude_subgroups\": \"keep-all\", # \"keep-all\", \"drop-non-german\"\n",
    "    \"eval_fairness_grouping\": [\"majority-minority\", \"nationality-all\"]\n",
    "}\n",
    "\n",
    "output_dir=\"./output\"\n",
    "seed=0"
   ]
  },
  {
   "cell_type": "code",
   "execution_count": 4,
   "id": "429b539e",
   "metadata": {
    "execution": {
     "iopub.execute_input": "2025-08-05T16:30:35.605099Z",
     "iopub.status.busy": "2025-08-05T16:30:35.604340Z",
     "iopub.status.idle": "2025-08-05T16:30:35.611428Z",
     "shell.execute_reply": "2025-08-05T16:30:35.610280Z"
    },
    "papermill": {
     "duration": 0.029387,
     "end_time": "2025-08-05T16:30:35.613288",
     "exception": false,
     "start_time": "2025-08-05T16:30:35.583901",
     "status": "completed"
    },
    "tags": [
     "injected-parameters"
    ]
   },
   "outputs": [],
   "source": [
    "# Parameters\n",
    "universe_id = \"5d2835172af9b82248383844138bf7de\"\n",
    "run_no = \"15\"\n",
    "universe = \"{\\\"cutoff\\\": [\\\"quantile_0.1\\\", \\\"quantile_0.25\\\"], \\\"eval_fairness_grouping\\\": [\\\"majority-minority\\\", \\\"nationality-all\\\"], \\\"exclude_features\\\": \\\"nationality-sex\\\", \\\"exclude_subgroups\\\": \\\"drop-non-german\\\", \\\"model\\\": \\\"elasticnet\\\", \\\"scale\\\": \\\"do-not-scale\\\", \\\"training_size\\\": \\\"1k\\\", \\\"training_year\\\": \\\"2012_14\\\"}\"\n",
    "output_dir = \"output\"\n",
    "seed = \"2023\"\n"
   ]
  },
  {
   "cell_type": "code",
   "execution_count": 5,
   "id": "1650acaf",
   "metadata": {
    "execution": {
     "iopub.execute_input": "2025-08-05T16:30:35.659080Z",
     "iopub.status.busy": "2025-08-05T16:30:35.658156Z",
     "iopub.status.idle": "2025-08-05T16:30:35.664271Z",
     "shell.execute_reply": "2025-08-05T16:30:35.662986Z"
    },
    "papermill": {
     "duration": 0.032609,
     "end_time": "2025-08-05T16:30:35.666656",
     "exception": false,
     "start_time": "2025-08-05T16:30:35.634047",
     "status": "completed"
    },
    "tags": []
   },
   "outputs": [],
   "source": [
    "import json\n",
    "if isinstance(universe, str):\n",
    "    universe = json.loads(universe)"
   ]
  },
  {
   "cell_type": "code",
   "execution_count": 6,
   "id": "16620c48",
   "metadata": {
    "execution": {
     "iopub.execute_input": "2025-08-05T16:30:35.709634Z",
     "iopub.status.busy": "2025-08-05T16:30:35.708731Z",
     "iopub.status.idle": "2025-08-05T16:30:35.762073Z",
     "shell.execute_reply": "2025-08-05T16:30:35.760604Z"
    },
    "papermill": {
     "duration": 0.076964,
     "end_time": "2025-08-05T16:30:35.764394",
     "exception": false,
     "start_time": "2025-08-05T16:30:35.687430",
     "status": "completed"
    },
    "tags": []
   },
   "outputs": [],
   "source": [
    "# Auto-reload the custom package\n",
    "%load_ext autoreload\n",
    "%autoreload 1\n",
    "%aimport fairness_multiverse"
   ]
  },
  {
   "cell_type": "code",
   "execution_count": 7,
   "id": "01c5c9f3",
   "metadata": {
    "execution": {
     "iopub.execute_input": "2025-08-05T16:30:35.805792Z",
     "iopub.status.busy": "2025-08-05T16:30:35.804866Z",
     "iopub.status.idle": "2025-08-05T16:30:37.547805Z",
     "shell.execute_reply": "2025-08-05T16:30:37.546814Z"
    },
    "papermill": {
     "duration": 1.766056,
     "end_time": "2025-08-05T16:30:37.549721",
     "exception": false,
     "start_time": "2025-08-05T16:30:35.783665",
     "status": "completed"
    },
    "tags": []
   },
   "outputs": [],
   "source": [
    "from fairness_multiverse.universe import UniverseAnalysis\n",
    "\n",
    "universe_analysis = UniverseAnalysis(\n",
    "    run_no = run_no,\n",
    "    universe_id = universe_id,\n",
    "    universe = universe,\n",
    "    output_dir=output_dir,\n",
    ")"
   ]
  },
  {
   "cell_type": "code",
   "execution_count": 8,
   "id": "106241f5",
   "metadata": {
    "execution": {
     "iopub.execute_input": "2025-08-05T16:30:37.584089Z",
     "iopub.status.busy": "2025-08-05T16:30:37.583638Z",
     "iopub.status.idle": "2025-08-05T16:30:37.591667Z",
     "shell.execute_reply": "2025-08-05T16:30:37.590570Z"
    },
    "papermill": {
     "duration": 0.032528,
     "end_time": "2025-08-05T16:30:37.593948",
     "exception": false,
     "start_time": "2025-08-05T16:30:37.561420",
     "status": "completed"
    },
    "tags": []
   },
   "outputs": [
    {
     "name": "stdout",
     "output_type": "stream",
     "text": [
      "Using Seed: 2023\n"
     ]
    }
   ],
   "source": [
    "import numpy as np\n",
    "parsed_seed = int(seed)\n",
    "np.random.seed(parsed_seed)\n",
    "print(f\"Using Seed: {parsed_seed}\")"
   ]
  },
  {
   "cell_type": "markdown",
   "id": "e0ebdc57",
   "metadata": {
    "papermill": {
     "duration": 0.021746,
     "end_time": "2025-08-05T16:30:37.637672",
     "exception": false,
     "start_time": "2025-08-05T16:30:37.615926",
     "status": "completed"
    },
    "tags": []
   },
   "source": [
    "# Loading Data"
   ]
  },
  {
   "cell_type": "code",
   "execution_count": 9,
   "id": "f0496b8a",
   "metadata": {
    "execution": {
     "iopub.execute_input": "2025-08-05T16:30:37.682850Z",
     "iopub.status.busy": "2025-08-05T16:30:37.681720Z",
     "iopub.status.idle": "2025-08-05T16:30:51.241225Z",
     "shell.execute_reply": "2025-08-05T16:30:51.239696Z"
    },
    "papermill": {
     "duration": 13.583569,
     "end_time": "2025-08-05T16:30:51.243438",
     "exception": false,
     "start_time": "2025-08-05T16:30:37.659869",
     "status": "completed"
    },
    "tags": []
   },
   "outputs": [
    {
     "name": "stdout",
     "output_type": "stream",
     "text": [
      "Loading SIAB data from cache: data/siab_cached.csv.gz\n"
     ]
    },
    {
     "name": "stdout",
     "output_type": "stream",
     "text": [
      "(643690, 164)\n"
     ]
    }
   ],
   "source": [
    "from pathlib import Path\n",
    "import pandas as pd\n",
    "\n",
    "# File paths\n",
    "raw_file = Path(\"data/raw/siab.csv\")\n",
    "cache_file = Path(\"data/siab_cached.csv.gz\")\n",
    "\n",
    "# Ensure cache directory exists\n",
    "cache_file.parent.mkdir(parents=True, exist_ok=True)\n",
    "\n",
    "# Load with simple caching\n",
    "if cache_file.exists():\n",
    "    print(f\"Loading SIAB data from cache: {cache_file}\")\n",
    "    siab = pd.read_csv(cache_file, compression='gzip')\n",
    "else:\n",
    "    print(f\"Cache not found. Reading raw SIAB data: {raw_file}\")\n",
    "    siab = pd.read_csv(raw_file)\n",
    "    siab.to_csv(cache_file, index=False, compression='gzip')\n",
    "    print(f\"Cached SIAB data to: {cache_file}\")\n",
    "\n",
    "print(siab.shape)"
   ]
  },
  {
   "cell_type": "code",
   "execution_count": 10,
   "id": "db0ca512-5f53-4dba-abdb-a2888bca41ba",
   "metadata": {
    "execution": {
     "iopub.execute_input": "2025-08-05T16:30:51.290555Z",
     "iopub.status.busy": "2025-08-05T16:30:51.289946Z",
     "iopub.status.idle": "2025-08-05T16:30:51.296442Z",
     "shell.execute_reply": "2025-08-05T16:30:51.295269Z"
    },
    "papermill": {
     "duration": 0.030592,
     "end_time": "2025-08-05T16:30:51.298378",
     "exception": false,
     "start_time": "2025-08-05T16:30:51.267786",
     "status": "completed"
    },
    "tags": []
   },
   "outputs": [],
   "source": [
    "#siab"
   ]
  },
  {
   "cell_type": "markdown",
   "id": "997051c5-15bd-4b69-9786-c3001a3ce484",
   "metadata": {
    "papermill": {
     "duration": 0.02107,
     "end_time": "2025-08-05T16:30:51.340836",
     "exception": false,
     "start_time": "2025-08-05T16:30:51.319766",
     "status": "completed"
    },
    "tags": []
   },
   "source": [
    "# Splitting Data and Setting Training Data Size"
   ]
  },
  {
   "cell_type": "code",
   "execution_count": 11,
   "id": "aea9c6ef-6f46-42c8-85eb-5a62025c1508",
   "metadata": {
    "execution": {
     "iopub.execute_input": "2025-08-05T16:30:51.382784Z",
     "iopub.status.busy": "2025-08-05T16:30:51.381798Z",
     "iopub.status.idle": "2025-08-05T16:30:52.047829Z",
     "shell.execute_reply": "2025-08-05T16:30:52.046610Z"
    },
    "papermill": {
     "duration": 0.689457,
     "end_time": "2025-08-05T16:30:52.050346",
     "exception": false,
     "start_time": "2025-08-05T16:30:51.360889",
     "status": "completed"
    },
    "tags": []
   },
   "outputs": [],
   "source": [
    "from fairness_multiverse.universe import sample_by_year_size\n",
    "\n",
    "siab_train = sample_by_year_size(siab,\n",
    "                               training_year=universe[\"training_year\"],\n",
    "                               training_size=universe[\"training_size\"])"
   ]
  },
  {
   "cell_type": "code",
   "execution_count": 12,
   "id": "8d3afb32-789d-442c-8d5d-9f5aa8dd2eed",
   "metadata": {
    "execution": {
     "iopub.execute_input": "2025-08-05T16:30:52.101401Z",
     "iopub.status.busy": "2025-08-05T16:30:52.100253Z",
     "iopub.status.idle": "2025-08-05T16:30:52.106286Z",
     "shell.execute_reply": "2025-08-05T16:30:52.105088Z"
    },
    "papermill": {
     "duration": 0.032643,
     "end_time": "2025-08-05T16:30:52.108152",
     "exception": false,
     "start_time": "2025-08-05T16:30:52.075509",
     "status": "completed"
    },
    "tags": []
   },
   "outputs": [],
   "source": [
    "#siab_train.shape"
   ]
  },
  {
   "cell_type": "code",
   "execution_count": 13,
   "id": "d582db68-1a4c-47fb-84fc-08518dc1975a",
   "metadata": {
    "execution": {
     "iopub.execute_input": "2025-08-05T16:30:52.158929Z",
     "iopub.status.busy": "2025-08-05T16:30:52.157842Z",
     "iopub.status.idle": "2025-08-05T16:30:52.164121Z",
     "shell.execute_reply": "2025-08-05T16:30:52.163031Z"
    },
    "papermill": {
     "duration": 0.0341,
     "end_time": "2025-08-05T16:30:52.166093",
     "exception": false,
     "start_time": "2025-08-05T16:30:52.131993",
     "status": "completed"
    },
    "tags": []
   },
   "outputs": [],
   "source": [
    "#display(siab_train.groupby(\"year\").size())"
   ]
  },
  {
   "cell_type": "code",
   "execution_count": 14,
   "id": "a561edb4-d032-42cb-8256-22eac1111c64",
   "metadata": {
    "execution": {
     "iopub.execute_input": "2025-08-05T16:30:52.216997Z",
     "iopub.status.busy": "2025-08-05T16:30:52.215851Z",
     "iopub.status.idle": "2025-08-05T16:30:52.507088Z",
     "shell.execute_reply": "2025-08-05T16:30:52.505868Z"
    },
    "papermill": {
     "duration": 0.320058,
     "end_time": "2025-08-05T16:30:52.509392",
     "exception": false,
     "start_time": "2025-08-05T16:30:52.189334",
     "status": "completed"
    },
    "tags": []
   },
   "outputs": [],
   "source": [
    "#siab_train = siab_s[siab_s.year < 2015]\n",
    "siab_calib = siab[siab.year == 2015]\n",
    "siab_test = siab[siab.year == 2016]"
   ]
  },
  {
   "cell_type": "code",
   "execution_count": 15,
   "id": "472de16f-c3db-4916-846b-1f0de9cf1746",
   "metadata": {
    "execution": {
     "iopub.execute_input": "2025-08-05T16:30:52.559895Z",
     "iopub.status.busy": "2025-08-05T16:30:52.558900Z",
     "iopub.status.idle": "2025-08-05T16:30:52.567728Z",
     "shell.execute_reply": "2025-08-05T16:30:52.566581Z"
    },
    "papermill": {
     "duration": 0.036315,
     "end_time": "2025-08-05T16:30:52.569799",
     "exception": false,
     "start_time": "2025-08-05T16:30:52.533484",
     "status": "completed"
    },
    "tags": []
   },
   "outputs": [],
   "source": [
    "X_train = siab_train.iloc[:,4:164]\n",
    "y_train = siab_train.iloc[:, [3]]"
   ]
  },
  {
   "cell_type": "code",
   "execution_count": 16,
   "id": "828c96af-f43a-4ed6-ba47-8ac73a47d56c",
   "metadata": {
    "execution": {
     "iopub.execute_input": "2025-08-05T16:30:52.616765Z",
     "iopub.status.busy": "2025-08-05T16:30:52.615779Z",
     "iopub.status.idle": "2025-08-05T16:30:52.675642Z",
     "shell.execute_reply": "2025-08-05T16:30:52.674485Z"
    },
    "papermill": {
     "duration": 0.085649,
     "end_time": "2025-08-05T16:30:52.678022",
     "exception": false,
     "start_time": "2025-08-05T16:30:52.592373",
     "status": "completed"
    },
    "tags": []
   },
   "outputs": [],
   "source": [
    "X_calib = siab_calib.iloc[:,4:164]\n",
    "y_calib = siab_calib.iloc[:, [3]]"
   ]
  },
  {
   "cell_type": "code",
   "execution_count": 17,
   "id": "c34be9c3-6bd6-476e-acd3-845840e303be",
   "metadata": {
    "execution": {
     "iopub.execute_input": "2025-08-05T16:30:52.729224Z",
     "iopub.status.busy": "2025-08-05T16:30:52.728422Z",
     "iopub.status.idle": "2025-08-05T16:30:52.788091Z",
     "shell.execute_reply": "2025-08-05T16:30:52.786796Z"
    },
    "papermill": {
     "duration": 0.08853,
     "end_time": "2025-08-05T16:30:52.790572",
     "exception": false,
     "start_time": "2025-08-05T16:30:52.702042",
     "status": "completed"
    },
    "tags": []
   },
   "outputs": [],
   "source": [
    "X_test = siab_test.iloc[:,4:164]\n",
    "y_true = siab_test.iloc[:, [3]]"
   ]
  },
  {
   "cell_type": "code",
   "execution_count": 18,
   "id": "e6c733c5",
   "metadata": {
    "execution": {
     "iopub.execute_input": "2025-08-05T16:30:52.842692Z",
     "iopub.status.busy": "2025-08-05T16:30:52.841545Z",
     "iopub.status.idle": "2025-08-05T16:30:52.948312Z",
     "shell.execute_reply": "2025-08-05T16:30:52.947031Z"
    },
    "papermill": {
     "duration": 0.135176,
     "end_time": "2025-08-05T16:30:52.950852",
     "exception": false,
     "start_time": "2025-08-05T16:30:52.815676",
     "status": "completed"
    },
    "tags": []
   },
   "outputs": [],
   "source": [
    "# Auxiliary data needed downstream in the pipeline\n",
    "\n",
    "org_train = X_train.copy()\n",
    "org_test = X_test.copy()\n",
    "org_calib = X_calib.copy()"
   ]
  },
  {
   "cell_type": "markdown",
   "id": "0a4a1b33",
   "metadata": {
    "papermill": {
     "duration": 0.025942,
     "end_time": "2025-08-05T16:30:53.003157",
     "exception": false,
     "start_time": "2025-08-05T16:30:52.977215",
     "status": "completed"
    },
    "tags": []
   },
   "source": [
    "# Preprocessing Data"
   ]
  },
  {
   "cell_type": "code",
   "execution_count": 19,
   "id": "ca879031",
   "metadata": {
    "execution": {
     "iopub.execute_input": "2025-08-05T16:30:53.055532Z",
     "iopub.status.busy": "2025-08-05T16:30:53.054674Z",
     "iopub.status.idle": "2025-08-05T16:30:53.062013Z",
     "shell.execute_reply": "2025-08-05T16:30:53.060851Z"
    },
    "papermill": {
     "duration": 0.036041,
     "end_time": "2025-08-05T16:30:53.064052",
     "exception": false,
     "start_time": "2025-08-05T16:30:53.028011",
     "status": "completed"
    },
    "tags": []
   },
   "outputs": [],
   "source": [
    "# EXCLUDE PROTECTED FEATURES\n",
    "# ----------------------\n",
    "# \"exclude_features\": \"none\", # \"nationality\", \"sex\", \"nationality-sex\"\n",
    "\n",
    "excluded_features = universe[\"exclude_features\"].split(\"-\") # split, e.g.: \"nationality-sex\" -> [\"nationality\", \"sex\"]\n",
    "excluded_features_dictionary = {\n",
    "    \"nationality\": [\"maxdeutsch1\", \"maxdeutsch.Missing.\"],\n",
    "    \"sex\": [\"frau1\"],\n",
    "    \"age\": [\"age\"],\n",
    "}"
   ]
  },
  {
   "cell_type": "code",
   "execution_count": 20,
   "id": "b745ac60",
   "metadata": {
    "execution": {
     "iopub.execute_input": "2025-08-05T16:30:53.117379Z",
     "iopub.status.busy": "2025-08-05T16:30:53.116158Z",
     "iopub.status.idle": "2025-08-05T16:30:53.123412Z",
     "shell.execute_reply": "2025-08-05T16:30:53.122330Z"
    },
    "papermill": {
     "duration": 0.035778,
     "end_time": "2025-08-05T16:30:53.125735",
     "exception": false,
     "start_time": "2025-08-05T16:30:53.089957",
     "status": "completed"
    },
    "tags": []
   },
   "outputs": [],
   "source": [
    "# Code nice names to column names\n",
    "\n",
    "excluded_features_columns = [\n",
    "    excluded_features_dictionary[f] for f in excluded_features if len(f) > 0 and f != \"none\"\n",
    "]"
   ]
  },
  {
   "cell_type": "code",
   "execution_count": 21,
   "id": "f84f73a2",
   "metadata": {
    "execution": {
     "iopub.execute_input": "2025-08-05T16:30:53.179707Z",
     "iopub.status.busy": "2025-08-05T16:30:53.179081Z",
     "iopub.status.idle": "2025-08-05T16:30:53.187102Z",
     "shell.execute_reply": "2025-08-05T16:30:53.185975Z"
    },
    "papermill": {
     "duration": 0.037113,
     "end_time": "2025-08-05T16:30:53.189014",
     "exception": false,
     "start_time": "2025-08-05T16:30:53.151901",
     "status": "completed"
    },
    "tags": []
   },
   "outputs": [],
   "source": [
    "from utils import flatten_once\n",
    "\n",
    "excluded_features_columns = flatten_once(excluded_features_columns)"
   ]
  },
  {
   "cell_type": "code",
   "execution_count": 22,
   "id": "884dea22",
   "metadata": {
    "execution": {
     "iopub.execute_input": "2025-08-05T16:30:53.242464Z",
     "iopub.status.busy": "2025-08-05T16:30:53.241707Z",
     "iopub.status.idle": "2025-08-05T16:30:53.251330Z",
     "shell.execute_reply": "2025-08-05T16:30:53.250317Z"
    },
    "papermill": {
     "duration": 0.03895,
     "end_time": "2025-08-05T16:30:53.253146",
     "exception": false,
     "start_time": "2025-08-05T16:30:53.214196",
     "status": "completed"
    },
    "tags": []
   },
   "outputs": [
    {
     "name": "stdout",
     "output_type": "stream",
     "text": [
      "Dropping features: ['maxdeutsch1', 'maxdeutsch.Missing.', 'frau1']\n"
     ]
    }
   ],
   "source": [
    "if len(excluded_features_columns) > 0:\n",
    "    print(f\"Dropping features: {excluded_features_columns}\")\n",
    "    X_train.drop(excluded_features_columns, axis=1, inplace=True)"
   ]
  },
  {
   "cell_type": "code",
   "execution_count": 23,
   "id": "95ab8b16",
   "metadata": {
    "execution": {
     "iopub.execute_input": "2025-08-05T16:30:53.301997Z",
     "iopub.status.busy": "2025-08-05T16:30:53.301026Z",
     "iopub.status.idle": "2025-08-05T16:30:53.360520Z",
     "shell.execute_reply": "2025-08-05T16:30:53.359427Z"
    },
    "papermill": {
     "duration": 0.086094,
     "end_time": "2025-08-05T16:30:53.362487",
     "exception": false,
     "start_time": "2025-08-05T16:30:53.276393",
     "status": "completed"
    },
    "tags": []
   },
   "outputs": [
    {
     "name": "stdout",
     "output_type": "stream",
     "text": [
      "Dropping features: ['maxdeutsch1', 'maxdeutsch.Missing.', 'frau1']\n"
     ]
    }
   ],
   "source": [
    "if len(excluded_features_columns) > 0:\n",
    "    print(f\"Dropping features: {excluded_features_columns}\")\n",
    "    X_test.drop(excluded_features_columns, axis=1, inplace=True)"
   ]
  },
  {
   "cell_type": "code",
   "execution_count": 24,
   "id": "1853aaf5-fb9f-46cb-a2b5-8ea4ae2237e4",
   "metadata": {
    "execution": {
     "iopub.execute_input": "2025-08-05T16:30:53.416990Z",
     "iopub.status.busy": "2025-08-05T16:30:53.415765Z",
     "iopub.status.idle": "2025-08-05T16:30:53.475024Z",
     "shell.execute_reply": "2025-08-05T16:30:53.473848Z"
    },
    "papermill": {
     "duration": 0.088202,
     "end_time": "2025-08-05T16:30:53.477364",
     "exception": false,
     "start_time": "2025-08-05T16:30:53.389162",
     "status": "completed"
    },
    "tags": []
   },
   "outputs": [
    {
     "name": "stdout",
     "output_type": "stream",
     "text": [
      "Dropping features: ['maxdeutsch1', 'maxdeutsch.Missing.', 'frau1']\n"
     ]
    }
   ],
   "source": [
    "if len(excluded_features_columns) > 0:\n",
    "    print(f\"Dropping features: {excluded_features_columns}\")\n",
    "    X_calib.drop(excluded_features_columns, axis=1, inplace=True)"
   ]
  },
  {
   "cell_type": "code",
   "execution_count": 25,
   "id": "76c4dc6d",
   "metadata": {
    "execution": {
     "iopub.execute_input": "2025-08-05T16:30:53.532420Z",
     "iopub.status.busy": "2025-08-05T16:30:53.531578Z",
     "iopub.status.idle": "2025-08-05T16:30:53.538154Z",
     "shell.execute_reply": "2025-08-05T16:30:53.536990Z"
    },
    "papermill": {
     "duration": 0.037427,
     "end_time": "2025-08-05T16:30:53.540363",
     "exception": false,
     "start_time": "2025-08-05T16:30:53.502936",
     "status": "completed"
    },
    "tags": []
   },
   "outputs": [],
   "source": [
    "# EXCLUDE CERTAIN SUBGROUPS\n",
    "# ----------------------\n",
    "\n",
    "mode = universe.get(\"exclude_subgroups\", \"keep-all\") \n",
    "# Fetches the exclude_subgroups setting from the universe dict.\n",
    "# Defaults to \"keep-all\" if the key is missing."
   ]
  },
  {
   "cell_type": "code",
   "execution_count": 26,
   "id": "21994072",
   "metadata": {
    "execution": {
     "iopub.execute_input": "2025-08-05T16:30:53.594814Z",
     "iopub.status.busy": "2025-08-05T16:30:53.594017Z",
     "iopub.status.idle": "2025-08-05T16:30:53.602520Z",
     "shell.execute_reply": "2025-08-05T16:30:53.601282Z"
    },
    "papermill": {
     "duration": 0.039353,
     "end_time": "2025-08-05T16:30:53.605334",
     "exception": false,
     "start_time": "2025-08-05T16:30:53.565981",
     "status": "completed"
    },
    "tags": []
   },
   "outputs": [],
   "source": [
    "if mode == \"keep-all\":\n",
    "    keep_mask = pd.Series(True, index=org_train.index)\n",
    "\n",
    "# org_train contains the original feature columns from features_org (in Simson)\n",
    "# features_org contains unprocessed features, for me X_train at beginning ???\n",
    "# For keep-all, creates a boolean Series (keep_mask) of all True, so no rows are removed.\n",
    "\n",
    "elif mode == \"drop-non-german\":\n",
    "    keep_mask = org_train[\"maxdeutsch1\"] == 1 # ??? what about missing values?\n",
    "\n",
    "else:\n",
    "    raise ValueError(f\"Unsupported mode for exclude_subgroups: {mode}\")"
   ]
  },
  {
   "cell_type": "code",
   "execution_count": 27,
   "id": "71651440",
   "metadata": {
    "execution": {
     "iopub.execute_input": "2025-08-05T16:30:53.659109Z",
     "iopub.status.busy": "2025-08-05T16:30:53.657972Z",
     "iopub.status.idle": "2025-08-05T16:30:53.667287Z",
     "shell.execute_reply": "2025-08-05T16:30:53.665899Z"
    },
    "papermill": {
     "duration": 0.038073,
     "end_time": "2025-08-05T16:30:53.669612",
     "exception": false,
     "start_time": "2025-08-05T16:30:53.631539",
     "status": "completed"
    },
    "tags": []
   },
   "outputs": [
    {
     "name": "stdout",
     "output_type": "stream",
     "text": [
      "Dropping 147 rows (14.70%) where mode='drop-non-german'\n"
     ]
    }
   ],
   "source": [
    "n_drop = (~keep_mask).sum() # Calculates how many rows are set to be dropped\n",
    "if n_drop > 0:\n",
    "    pct = n_drop / len(keep_mask) * 100\n",
    "    print(f\"Dropping {n_drop} rows ({pct:.2f}%) where mode='{mode}'\")"
   ]
  },
  {
   "cell_type": "code",
   "execution_count": 28,
   "id": "5fb8eee5",
   "metadata": {
    "execution": {
     "iopub.execute_input": "2025-08-05T16:30:53.722417Z",
     "iopub.status.busy": "2025-08-05T16:30:53.721698Z",
     "iopub.status.idle": "2025-08-05T16:30:53.729648Z",
     "shell.execute_reply": "2025-08-05T16:30:53.728472Z"
    },
    "papermill": {
     "duration": 0.035724,
     "end_time": "2025-08-05T16:30:53.731851",
     "exception": false,
     "start_time": "2025-08-05T16:30:53.696127",
     "status": "completed"
    },
    "tags": []
   },
   "outputs": [],
   "source": [
    "X_train = X_train[keep_mask]"
   ]
  },
  {
   "cell_type": "code",
   "execution_count": 29,
   "id": "b202bb3a",
   "metadata": {
    "execution": {
     "iopub.execute_input": "2025-08-05T16:30:53.786202Z",
     "iopub.status.busy": "2025-08-05T16:30:53.785423Z",
     "iopub.status.idle": "2025-08-05T16:30:53.792834Z",
     "shell.execute_reply": "2025-08-05T16:30:53.791692Z"
    },
    "papermill": {
     "duration": 0.036923,
     "end_time": "2025-08-05T16:30:53.795157",
     "exception": false,
     "start_time": "2025-08-05T16:30:53.758234",
     "status": "completed"
    },
    "tags": []
   },
   "outputs": [],
   "source": [
    "y_train = y_train[keep_mask]"
   ]
  },
  {
   "cell_type": "markdown",
   "id": "493e2ac3",
   "metadata": {
    "papermill": {
     "duration": 0.026451,
     "end_time": "2025-08-05T16:30:53.846296",
     "exception": false,
     "start_time": "2025-08-05T16:30:53.819845",
     "status": "completed"
    },
    "tags": []
   },
   "source": [
    "# Model Training"
   ]
  },
  {
   "cell_type": "code",
   "execution_count": 30,
   "id": "679e1268",
   "metadata": {
    "execution": {
     "iopub.execute_input": "2025-08-05T16:30:53.898509Z",
     "iopub.status.busy": "2025-08-05T16:30:53.897415Z",
     "iopub.status.idle": "2025-08-05T16:30:54.008018Z",
     "shell.execute_reply": "2025-08-05T16:30:54.007022Z"
    },
    "papermill": {
     "duration": 0.137765,
     "end_time": "2025-08-05T16:30:54.010123",
     "exception": false,
     "start_time": "2025-08-05T16:30:53.872358",
     "status": "completed"
    },
    "tags": []
   },
   "outputs": [],
   "source": [
    "from sklearn.linear_model import LogisticRegression\n",
    "from sklearn.ensemble import GradientBoostingClassifier, RandomForestClassifier\n",
    "\n",
    "if (universe[\"model\"] == \"logreg\"):\n",
    "    model = LogisticRegression() #penalty=\"none\", solver=\"newton-cg\", max_iter=1) # include random_state=19 ?\n",
    "elif (universe[\"model\"] == \"penalized_logreg\"):\n",
    "    model = LogisticRegression(penalty=\"l2\", C=0.1) #, solver=\"newton-cg\", max_iter=1)\n",
    "elif (universe[\"model\"] == \"rf\"):\n",
    "    model = RandomForestClassifier() # n_estimators=100, n_jobs=-1\n",
    "elif (universe[\"model\"] == \"gbm\"):\n",
    "    model = GradientBoostingClassifier()\n",
    "elif (universe[\"model\"] == \"elasticnet\"):\n",
    "    model = LogisticRegression(penalty = 'elasticnet', solver = 'saga', l1_ratio = 0.5) # max_iter=5000\n",
    "else:\n",
    "    raise \"Unsupported universe.model\""
   ]
  },
  {
   "cell_type": "code",
   "execution_count": 31,
   "id": "0cc8f744",
   "metadata": {
    "execution": {
     "iopub.execute_input": "2025-08-05T16:30:54.051709Z",
     "iopub.status.busy": "2025-08-05T16:30:54.050806Z",
     "iopub.status.idle": "2025-08-05T16:30:54.057467Z",
     "shell.execute_reply": "2025-08-05T16:30:54.056396Z"
    },
    "papermill": {
     "duration": 0.029124,
     "end_time": "2025-08-05T16:30:54.059284",
     "exception": false,
     "start_time": "2025-08-05T16:30:54.030160",
     "status": "completed"
    },
    "tags": []
   },
   "outputs": [],
   "source": [
    "import numpy as np\n",
    "from sklearn.pipeline import Pipeline\n",
    "from sklearn.preprocessing import StandardScaler\n",
    "\n",
    "model = Pipeline([\n",
    "    #(\"continuous_processor\", continuous_processor),\n",
    "    #(\"categorical_preprocessor\", categorical_preprocessor),\n",
    "    (\"scale\", StandardScaler() if universe[\"scale\"] == \"scale\" else None), \n",
    "    (\"model\", model),\n",
    "])"
   ]
  },
  {
   "cell_type": "code",
   "execution_count": 32,
   "id": "9442c04d",
   "metadata": {
    "execution": {
     "iopub.execute_input": "2025-08-05T16:30:54.105200Z",
     "iopub.status.busy": "2025-08-05T16:30:54.104466Z",
     "iopub.status.idle": "2025-08-05T16:30:54.504247Z",
     "shell.execute_reply": "2025-08-05T16:30:54.503083Z"
    },
    "papermill": {
     "duration": 0.425076,
     "end_time": "2025-08-05T16:30:54.506339",
     "exception": false,
     "start_time": "2025-08-05T16:30:54.081263",
     "status": "completed"
    },
    "tags": []
   },
   "outputs": [
    {
     "name": "stderr",
     "output_type": "stream",
     "text": [
      "/dss/dsshome1/0C/ra93lal2/.local/share/virtualenvs/CMA_Fairness_v2-3j10GkSs/lib/python3.10/site-packages/sklearn/linear_model/_sag.py:350: ConvergenceWarning: The max_iter was reached which means the coef_ did not converge\n",
      "  warnings.warn(\n"
     ]
    },
    {
     "data": {
      "text/html": [
       "<style>#sk-container-id-1 {color: black;background-color: white;}#sk-container-id-1 pre{padding: 0;}#sk-container-id-1 div.sk-toggleable {background-color: white;}#sk-container-id-1 label.sk-toggleable__label {cursor: pointer;display: block;width: 100%;margin-bottom: 0;padding: 0.3em;box-sizing: border-box;text-align: center;}#sk-container-id-1 label.sk-toggleable__label-arrow:before {content: \"▸\";float: left;margin-right: 0.25em;color: #696969;}#sk-container-id-1 label.sk-toggleable__label-arrow:hover:before {color: black;}#sk-container-id-1 div.sk-estimator:hover label.sk-toggleable__label-arrow:before {color: black;}#sk-container-id-1 div.sk-toggleable__content {max-height: 0;max-width: 0;overflow: hidden;text-align: left;background-color: #f0f8ff;}#sk-container-id-1 div.sk-toggleable__content pre {margin: 0.2em;color: black;border-radius: 0.25em;background-color: #f0f8ff;}#sk-container-id-1 input.sk-toggleable__control:checked~div.sk-toggleable__content {max-height: 200px;max-width: 100%;overflow: auto;}#sk-container-id-1 input.sk-toggleable__control:checked~label.sk-toggleable__label-arrow:before {content: \"▾\";}#sk-container-id-1 div.sk-estimator input.sk-toggleable__control:checked~label.sk-toggleable__label {background-color: #d4ebff;}#sk-container-id-1 div.sk-label input.sk-toggleable__control:checked~label.sk-toggleable__label {background-color: #d4ebff;}#sk-container-id-1 input.sk-hidden--visually {border: 0;clip: rect(1px 1px 1px 1px);clip: rect(1px, 1px, 1px, 1px);height: 1px;margin: -1px;overflow: hidden;padding: 0;position: absolute;width: 1px;}#sk-container-id-1 div.sk-estimator {font-family: monospace;background-color: #f0f8ff;border: 1px dotted black;border-radius: 0.25em;box-sizing: border-box;margin-bottom: 0.5em;}#sk-container-id-1 div.sk-estimator:hover {background-color: #d4ebff;}#sk-container-id-1 div.sk-parallel-item::after {content: \"\";width: 100%;border-bottom: 1px solid gray;flex-grow: 1;}#sk-container-id-1 div.sk-label:hover label.sk-toggleable__label {background-color: #d4ebff;}#sk-container-id-1 div.sk-serial::before {content: \"\";position: absolute;border-left: 1px solid gray;box-sizing: border-box;top: 0;bottom: 0;left: 50%;z-index: 0;}#sk-container-id-1 div.sk-serial {display: flex;flex-direction: column;align-items: center;background-color: white;padding-right: 0.2em;padding-left: 0.2em;position: relative;}#sk-container-id-1 div.sk-item {position: relative;z-index: 1;}#sk-container-id-1 div.sk-parallel {display: flex;align-items: stretch;justify-content: center;background-color: white;position: relative;}#sk-container-id-1 div.sk-item::before, #sk-container-id-1 div.sk-parallel-item::before {content: \"\";position: absolute;border-left: 1px solid gray;box-sizing: border-box;top: 0;bottom: 0;left: 50%;z-index: -1;}#sk-container-id-1 div.sk-parallel-item {display: flex;flex-direction: column;z-index: 1;position: relative;background-color: white;}#sk-container-id-1 div.sk-parallel-item:first-child::after {align-self: flex-end;width: 50%;}#sk-container-id-1 div.sk-parallel-item:last-child::after {align-self: flex-start;width: 50%;}#sk-container-id-1 div.sk-parallel-item:only-child::after {width: 0;}#sk-container-id-1 div.sk-dashed-wrapped {border: 1px dashed gray;margin: 0 0.4em 0.5em 0.4em;box-sizing: border-box;padding-bottom: 0.4em;background-color: white;}#sk-container-id-1 div.sk-label label {font-family: monospace;font-weight: bold;display: inline-block;line-height: 1.2em;}#sk-container-id-1 div.sk-label-container {text-align: center;}#sk-container-id-1 div.sk-container {/* jupyter's `normalize.less` sets `[hidden] { display: none; }` but bootstrap.min.css set `[hidden] { display: none !important; }` so we also need the `!important` here to be able to override the default hidden behavior on the sphinx rendered scikit-learn.org. See: https://github.com/scikit-learn/scikit-learn/issues/21755 */display: inline-block !important;position: relative;}#sk-container-id-1 div.sk-text-repr-fallback {display: none;}</style><div id=\"sk-container-id-1\" class=\"sk-top-container\"><div class=\"sk-text-repr-fallback\"><pre>Pipeline(steps=[(&#x27;scale&#x27;, None),\n",
       "                (&#x27;model&#x27;,\n",
       "                 LogisticRegression(l1_ratio=0.5, penalty=&#x27;elasticnet&#x27;,\n",
       "                                    solver=&#x27;saga&#x27;))])</pre><b>In a Jupyter environment, please rerun this cell to show the HTML representation or trust the notebook. <br />On GitHub, the HTML representation is unable to render, please try loading this page with nbviewer.org.</b></div><div class=\"sk-container\" hidden><div class=\"sk-item sk-dashed-wrapped\"><div class=\"sk-label-container\"><div class=\"sk-label sk-toggleable\"><input class=\"sk-toggleable__control sk-hidden--visually\" id=\"sk-estimator-id-1\" type=\"checkbox\" ><label for=\"sk-estimator-id-1\" class=\"sk-toggleable__label sk-toggleable__label-arrow\">Pipeline</label><div class=\"sk-toggleable__content\"><pre>Pipeline(steps=[(&#x27;scale&#x27;, None),\n",
       "                (&#x27;model&#x27;,\n",
       "                 LogisticRegression(l1_ratio=0.5, penalty=&#x27;elasticnet&#x27;,\n",
       "                                    solver=&#x27;saga&#x27;))])</pre></div></div></div><div class=\"sk-serial\"><div class=\"sk-item\"><div class=\"sk-estimator sk-toggleable\"><input class=\"sk-toggleable__control sk-hidden--visually\" id=\"sk-estimator-id-2\" type=\"checkbox\" ><label for=\"sk-estimator-id-2\" class=\"sk-toggleable__label sk-toggleable__label-arrow\">None</label><div class=\"sk-toggleable__content\"><pre>None</pre></div></div></div><div class=\"sk-item\"><div class=\"sk-estimator sk-toggleable\"><input class=\"sk-toggleable__control sk-hidden--visually\" id=\"sk-estimator-id-3\" type=\"checkbox\" ><label for=\"sk-estimator-id-3\" class=\"sk-toggleable__label sk-toggleable__label-arrow\">LogisticRegression</label><div class=\"sk-toggleable__content\"><pre>LogisticRegression(l1_ratio=0.5, penalty=&#x27;elasticnet&#x27;, solver=&#x27;saga&#x27;)</pre></div></div></div></div></div></div></div>"
      ],
      "text/plain": [
       "Pipeline(steps=[('scale', None),\n",
       "                ('model',\n",
       "                 LogisticRegression(l1_ratio=0.5, penalty='elasticnet',\n",
       "                                    solver='saga'))])"
      ]
     },
     "execution_count": 32,
     "metadata": {},
     "output_type": "execute_result"
    }
   ],
   "source": [
    "model.fit(X_train, y_train.values.ravel())"
   ]
  },
  {
   "cell_type": "code",
   "execution_count": 33,
   "id": "af59f8c0",
   "metadata": {
    "execution": {
     "iopub.execute_input": "2025-08-05T16:30:54.561899Z",
     "iopub.status.busy": "2025-08-05T16:30:54.561257Z",
     "iopub.status.idle": "2025-08-05T16:30:54.567776Z",
     "shell.execute_reply": "2025-08-05T16:30:54.566529Z"
    },
    "papermill": {
     "duration": 0.035794,
     "end_time": "2025-08-05T16:30:54.569816",
     "exception": false,
     "start_time": "2025-08-05T16:30:54.534022",
     "status": "completed"
    },
    "tags": []
   },
   "outputs": [],
   "source": [
    "from fairness_multiverse.universe import predict_w_threshold"
   ]
  },
  {
   "cell_type": "code",
   "execution_count": 34,
   "id": "a7cf2e16",
   "metadata": {
    "execution": {
     "iopub.execute_input": "2025-08-05T16:30:54.618187Z",
     "iopub.status.busy": "2025-08-05T16:30:54.617174Z",
     "iopub.status.idle": "2025-08-05T16:30:54.726871Z",
     "shell.execute_reply": "2025-08-05T16:30:54.725620Z"
    },
    "papermill": {
     "duration": 0.136024,
     "end_time": "2025-08-05T16:30:54.728913",
     "exception": false,
     "start_time": "2025-08-05T16:30:54.592889",
     "status": "completed"
    },
    "tags": []
   },
   "outputs": [
    {
     "data": {
      "text/plain": [
       "0.8660015605841044"
      ]
     },
     "execution_count": 34,
     "metadata": {},
     "output_type": "execute_result"
    }
   ],
   "source": [
    "probs_test = model.predict_proba(X_test)\n",
    "\n",
    "'''\n",
    "Below code returns a boolean array (or binary 0/1 array depending on how it’s used) where each element \n",
    "is True if the probability of class 1 is greater than or equal to the threshold, and False otherwise.\n",
    "'''\n",
    "y_pred_default = predict_w_threshold(probs_test, 0.5)\n",
    "\n",
    "from sklearn.metrics import accuracy_score\n",
    "\n",
    "# Naive prediction\n",
    "accuracy_score(y_true = y_true, y_pred = y_pred_default)"
   ]
  },
  {
   "cell_type": "code",
   "execution_count": 35,
   "id": "081964c3",
   "metadata": {
    "execution": {
     "iopub.execute_input": "2025-08-05T16:30:54.781367Z",
     "iopub.status.busy": "2025-08-05T16:30:54.780403Z",
     "iopub.status.idle": "2025-08-05T16:30:54.878472Z",
     "shell.execute_reply": "2025-08-05T16:30:54.877281Z"
    },
    "papermill": {
     "duration": 0.125604,
     "end_time": "2025-08-05T16:30:54.880588",
     "exception": false,
     "start_time": "2025-08-05T16:30:54.754984",
     "status": "completed"
    },
    "tags": []
   },
   "outputs": [
    {
     "data": {
      "text/plain": [
       "array([0, 0, 0, ..., 0, 0, 0])"
      ]
     },
     "execution_count": 35,
     "metadata": {},
     "output_type": "execute_result"
    }
   ],
   "source": [
    "model.predict(X_test)"
   ]
  },
  {
   "cell_type": "markdown",
   "id": "56c9705b",
   "metadata": {
    "papermill": {
     "duration": 0.022777,
     "end_time": "2025-08-05T16:30:54.927264",
     "exception": false,
     "start_time": "2025-08-05T16:30:54.904487",
     "status": "completed"
    },
    "tags": []
   },
   "source": [
    "# Conformal Prediction"
   ]
  },
  {
   "cell_type": "code",
   "execution_count": 36,
   "id": "160ec6ff",
   "metadata": {
    "execution": {
     "iopub.execute_input": "2025-08-05T16:30:54.974821Z",
     "iopub.status.busy": "2025-08-05T16:30:54.974143Z",
     "iopub.status.idle": "2025-08-05T16:30:54.980487Z",
     "shell.execute_reply": "2025-08-05T16:30:54.979328Z"
    },
    "papermill": {
     "duration": 0.03304,
     "end_time": "2025-08-05T16:30:54.982911",
     "exception": false,
     "start_time": "2025-08-05T16:30:54.949871",
     "status": "completed"
    },
    "tags": []
   },
   "outputs": [],
   "source": [
    "# Miscoverage level for conformal prediction (10% allowed error rate => 90% target coverage)\n",
    "alpha = 0.1"
   ]
  },
  {
   "cell_type": "code",
   "execution_count": 37,
   "id": "eadf4555-3dd3-440e-8e35-f82a4ad9f855",
   "metadata": {
    "execution": {
     "iopub.execute_input": "2025-08-05T16:30:55.040565Z",
     "iopub.status.busy": "2025-08-05T16:30:55.040086Z",
     "iopub.status.idle": "2025-08-05T16:30:55.133075Z",
     "shell.execute_reply": "2025-08-05T16:30:55.131821Z"
    },
    "papermill": {
     "duration": 0.124578,
     "end_time": "2025-08-05T16:30:55.135482",
     "exception": false,
     "start_time": "2025-08-05T16:30:55.010904",
     "status": "completed"
    },
    "tags": []
   },
   "outputs": [],
   "source": [
    "probs_calib = model.predict_proba(X_calib)"
   ]
  },
  {
   "cell_type": "code",
   "execution_count": 38,
   "id": "2ed93547-6d5d-4983-9b36-1ecb300da49a",
   "metadata": {
    "execution": {
     "iopub.execute_input": "2025-08-05T16:30:55.194946Z",
     "iopub.status.busy": "2025-08-05T16:30:55.194169Z",
     "iopub.status.idle": "2025-08-05T16:30:55.199994Z",
     "shell.execute_reply": "2025-08-05T16:30:55.199028Z"
    },
    "papermill": {
     "duration": 0.038663,
     "end_time": "2025-08-05T16:30:55.202443",
     "exception": false,
     "start_time": "2025-08-05T16:30:55.163780",
     "status": "completed"
    },
    "tags": []
   },
   "outputs": [],
   "source": [
    "y_calib = y_calib.values.ravel().astype(int)"
   ]
  },
  {
   "cell_type": "code",
   "execution_count": 39,
   "id": "65d1320d-f588-4b38-9072-62af1ae97f7d",
   "metadata": {
    "execution": {
     "iopub.execute_input": "2025-08-05T16:30:55.261727Z",
     "iopub.status.busy": "2025-08-05T16:30:55.261162Z",
     "iopub.status.idle": "2025-08-05T16:30:55.270144Z",
     "shell.execute_reply": "2025-08-05T16:30:55.268904Z"
    },
    "papermill": {
     "duration": 0.040739,
     "end_time": "2025-08-05T16:30:55.272299",
     "exception": false,
     "start_time": "2025-08-05T16:30:55.231560",
     "status": "completed"
    },
    "tags": []
   },
   "outputs": [],
   "source": [
    "from fairness_multiverse.conformal import compute_nc_scores\n",
    "\n",
    "# Compute nonconformity scores on calibration set (1 - probability of true class)\n",
    "nc_scores = compute_nc_scores(probs_calib, y_calib)"
   ]
  },
  {
   "cell_type": "code",
   "execution_count": 40,
   "id": "df3b8ca3-53b7-43d5-9667-7c85da7aeda2",
   "metadata": {
    "execution": {
     "iopub.execute_input": "2025-08-05T16:30:55.324203Z",
     "iopub.status.busy": "2025-08-05T16:30:55.323616Z",
     "iopub.status.idle": "2025-08-05T16:30:55.330967Z",
     "shell.execute_reply": "2025-08-05T16:30:55.329751Z"
    },
    "papermill": {
     "duration": 0.035824,
     "end_time": "2025-08-05T16:30:55.333031",
     "exception": false,
     "start_time": "2025-08-05T16:30:55.297207",
     "status": "completed"
    },
    "tags": []
   },
   "outputs": [],
   "source": [
    "from fairness_multiverse.conformal import find_threshold\n",
    "\n",
    "# Find conformal threshold q_hat for the given alpha (split conformal method)\n",
    "q_hat = find_threshold(nc_scores, alpha)"
   ]
  },
  {
   "cell_type": "code",
   "execution_count": 41,
   "id": "4d29e6c1-0ef6-4aa4-b8fe-4fe79b0d033a",
   "metadata": {
    "execution": {
     "iopub.execute_input": "2025-08-05T16:30:55.391133Z",
     "iopub.status.busy": "2025-08-05T16:30:55.390506Z",
     "iopub.status.idle": "2025-08-05T16:30:55.399409Z",
     "shell.execute_reply": "2025-08-05T16:30:55.398332Z"
    },
    "papermill": {
     "duration": 0.0393,
     "end_time": "2025-08-05T16:30:55.401412",
     "exception": false,
     "start_time": "2025-08-05T16:30:55.362112",
     "status": "completed"
    },
    "tags": []
   },
   "outputs": [
    {
     "data": {
      "text/plain": [
       "0.6807721577697228"
      ]
     },
     "execution_count": 41,
     "metadata": {},
     "output_type": "execute_result"
    }
   ],
   "source": [
    "q_hat"
   ]
  },
  {
   "cell_type": "code",
   "execution_count": 42,
   "id": "92460794-cdac-4be2-ba28-f28c0515a6fb",
   "metadata": {
    "execution": {
     "iopub.execute_input": "2025-08-05T16:30:55.454855Z",
     "iopub.status.busy": "2025-08-05T16:30:55.454251Z",
     "iopub.status.idle": "2025-08-05T16:30:56.382031Z",
     "shell.execute_reply": "2025-08-05T16:30:56.380717Z"
    },
    "papermill": {
     "duration": 0.956665,
     "end_time": "2025-08-05T16:30:56.384201",
     "exception": false,
     "start_time": "2025-08-05T16:30:55.427536",
     "status": "completed"
    },
    "tags": []
   },
   "outputs": [],
   "source": [
    "from fairness_multiverse.conformal import predict_conformal_sets\n",
    "\n",
    "# Generate prediction sets for each test example\n",
    "pred_sets = predict_conformal_sets(model, X_test, q_hat)"
   ]
  },
  {
   "cell_type": "code",
   "execution_count": 43,
   "id": "d90c9a65-e6db-4f5d-80cd-e68fb7e46829",
   "metadata": {
    "execution": {
     "iopub.execute_input": "2025-08-05T16:30:56.451992Z",
     "iopub.status.busy": "2025-08-05T16:30:56.451207Z",
     "iopub.status.idle": "2025-08-05T16:30:56.458190Z",
     "shell.execute_reply": "2025-08-05T16:30:56.457058Z"
    },
    "papermill": {
     "duration": 0.041537,
     "end_time": "2025-08-05T16:30:56.459986",
     "exception": false,
     "start_time": "2025-08-05T16:30:56.418449",
     "status": "completed"
    },
    "tags": []
   },
   "outputs": [],
   "source": [
    "y_true = y_true.squeeze()"
   ]
  },
  {
   "cell_type": "code",
   "execution_count": 44,
   "id": "3a58a54a-1e68-46b9-927a-df01f18aebc8",
   "metadata": {
    "execution": {
     "iopub.execute_input": "2025-08-05T16:30:56.518677Z",
     "iopub.status.busy": "2025-08-05T16:30:56.517893Z",
     "iopub.status.idle": "2025-08-05T16:30:58.102373Z",
     "shell.execute_reply": "2025-08-05T16:30:58.100738Z"
    },
    "papermill": {
     "duration": 1.617951,
     "end_time": "2025-08-05T16:30:58.105495",
     "exception": false,
     "start_time": "2025-08-05T16:30:56.487544",
     "status": "completed"
    },
    "tags": []
   },
   "outputs": [],
   "source": [
    "from fairness_multiverse.conformal import evaluate_sets\n",
    "\n",
    "# Evaluate coverage and average set size on test data\n",
    "metrics = evaluate_sets(pred_sets, y_true)"
   ]
  },
  {
   "cell_type": "markdown",
   "id": "2b569c12-9aaa-4c88-98c9-bbcd0cf3ebb8",
   "metadata": {
    "papermill": {
     "duration": 0.039828,
     "end_time": "2025-08-05T16:30:58.184209",
     "exception": false,
     "start_time": "2025-08-05T16:30:58.144381",
     "status": "completed"
    },
    "tags": []
   },
   "source": [
    "# CP Metrics"
   ]
  },
  {
   "cell_type": "code",
   "execution_count": 45,
   "id": "5ce0a5cb-201f-45a0-ade5-94c7f0bd6095",
   "metadata": {
    "execution": {
     "iopub.execute_input": "2025-08-05T16:30:58.268913Z",
     "iopub.status.busy": "2025-08-05T16:30:58.267415Z",
     "iopub.status.idle": "2025-08-05T16:30:58.278910Z",
     "shell.execute_reply": "2025-08-05T16:30:58.277690Z"
    },
    "papermill": {
     "duration": 0.055822,
     "end_time": "2025-08-05T16:30:58.280834",
     "exception": false,
     "start_time": "2025-08-05T16:30:58.225012",
     "status": "completed"
    },
    "tags": []
   },
   "outputs": [
    {
     "data": {
      "text/plain": [
       "{'coverage': 0.9133207000334411, 'avg_size': 1.3149147252257274}"
      ]
     },
     "execution_count": 45,
     "metadata": {},
     "output_type": "execute_result"
    }
   ],
   "source": [
    "metrics"
   ]
  },
  {
   "cell_type": "code",
   "execution_count": 46,
   "id": "9b9a838d-31c9-430b-ae14-12baee460d17",
   "metadata": {
    "execution": {
     "iopub.execute_input": "2025-08-05T16:30:58.334246Z",
     "iopub.status.busy": "2025-08-05T16:30:58.333024Z",
     "iopub.status.idle": "2025-08-05T16:30:58.345211Z",
     "shell.execute_reply": "2025-08-05T16:30:58.342879Z"
    },
    "papermill": {
     "duration": 0.042224,
     "end_time": "2025-08-05T16:30:58.347919",
     "exception": false,
     "start_time": "2025-08-05T16:30:58.305695",
     "status": "completed"
    },
    "tags": []
   },
   "outputs": [],
   "source": [
    "example_universe = universe.copy()\n",
    "universe_training_year = example_universe.get(\"training_year\")\n",
    "universe_training_size = example_universe.get(\"training_size\")\n",
    "universe_scale = example_universe.get(\"scale\")\n",
    "universe_model = example_universe.get(\"model\")\n",
    "universe_exclude_features = example_universe.get(\"exclude_features\")\n",
    "universe_exclude_subgroups = example_universe.get(\"exclude_subgroups\")"
   ]
  },
  {
   "cell_type": "code",
   "execution_count": 47,
   "id": "f4b6a8ac-9dc0-4245-8a91-5b3b5999c4f9",
   "metadata": {
    "execution": {
     "iopub.execute_input": "2025-08-05T16:30:58.400292Z",
     "iopub.status.busy": "2025-08-05T16:30:58.399025Z",
     "iopub.status.idle": "2025-08-05T16:30:58.407091Z",
     "shell.execute_reply": "2025-08-05T16:30:58.405672Z"
    },
    "papermill": {
     "duration": 0.037007,
     "end_time": "2025-08-05T16:30:58.409855",
     "exception": false,
     "start_time": "2025-08-05T16:30:58.372848",
     "status": "completed"
    },
    "tags": []
   },
   "outputs": [],
   "source": [
    "cp_metrics_dict = {\n",
    "    \"universe_id\": [universe_id],\n",
    "    \"universe_training_year\": [universe_training_year],\n",
    "    \"universe_training_size\": [universe_training_size],\n",
    "    \"universe_scale\": [universe_scale],\n",
    "    \"universe_model\": [universe_model],\n",
    "    \"universe_exclude_features\": [universe_exclude_features],\n",
    "    \"universe_exclude_subgroups\": [universe_exclude_subgroups],\n",
    "    \"q_hat\": [q_hat],\n",
    "    \"coverage\": [metrics[\"coverage\"]],\n",
    "    \"avg_size\": [metrics[\"avg_size\"]],\n",
    "}"
   ]
  },
  {
   "cell_type": "code",
   "execution_count": 48,
   "id": "908acbb1-0371-4915-85ca-3fa520d2efe2",
   "metadata": {
    "execution": {
     "iopub.execute_input": "2025-08-05T16:30:58.495806Z",
     "iopub.status.busy": "2025-08-05T16:30:58.495188Z",
     "iopub.status.idle": "2025-08-05T16:30:58.506958Z",
     "shell.execute_reply": "2025-08-05T16:30:58.504495Z"
    },
    "papermill": {
     "duration": 0.059674,
     "end_time": "2025-08-05T16:30:58.511112",
     "exception": false,
     "start_time": "2025-08-05T16:30:58.451438",
     "status": "completed"
    },
    "tags": []
   },
   "outputs": [
    {
     "data": {
      "text/plain": [
       "{'universe_id': ['5d2835172af9b82248383844138bf7de'],\n",
       " 'universe_training_year': ['2012_14'],\n",
       " 'universe_training_size': ['1k'],\n",
       " 'universe_scale': ['do-not-scale'],\n",
       " 'universe_model': ['elasticnet'],\n",
       " 'universe_exclude_features': ['nationality-sex'],\n",
       " 'universe_exclude_subgroups': ['drop-non-german'],\n",
       " 'q_hat': [0.6807721577697228],\n",
       " 'coverage': [0.9133207000334411],\n",
       " 'avg_size': [1.3149147252257274]}"
      ]
     },
     "execution_count": 48,
     "metadata": {},
     "output_type": "execute_result"
    }
   ],
   "source": [
    "cp_metrics_dict"
   ]
  },
  {
   "cell_type": "code",
   "execution_count": 49,
   "id": "33007efc-14e9-4ec6-97ac-56a455c82265",
   "metadata": {
    "execution": {
     "iopub.execute_input": "2025-08-05T16:30:58.597998Z",
     "iopub.status.busy": "2025-08-05T16:30:58.597395Z",
     "iopub.status.idle": "2025-08-05T16:30:58.604639Z",
     "shell.execute_reply": "2025-08-05T16:30:58.603486Z"
    },
    "papermill": {
     "duration": 0.052311,
     "end_time": "2025-08-05T16:30:58.606931",
     "exception": false,
     "start_time": "2025-08-05T16:30:58.554620",
     "status": "completed"
    },
    "tags": []
   },
   "outputs": [],
   "source": [
    "cp_metrics_df = pd.DataFrame(cp_metrics_dict)"
   ]
  },
  {
   "cell_type": "code",
   "execution_count": 50,
   "id": "db12611b-57b2-4910-b9d0-355adfd6e7bf",
   "metadata": {
    "execution": {
     "iopub.execute_input": "2025-08-05T16:30:58.664229Z",
     "iopub.status.busy": "2025-08-05T16:30:58.663295Z",
     "iopub.status.idle": "2025-08-05T16:30:58.692274Z",
     "shell.execute_reply": "2025-08-05T16:30:58.691047Z"
    },
    "papermill": {
     "duration": 0.061133,
     "end_time": "2025-08-05T16:30:58.694715",
     "exception": false,
     "start_time": "2025-08-05T16:30:58.633582",
     "status": "completed"
    },
    "tags": []
   },
   "outputs": [
    {
     "data": {
      "text/html": [
       "<div>\n",
       "<style scoped>\n",
       "    .dataframe tbody tr th:only-of-type {\n",
       "        vertical-align: middle;\n",
       "    }\n",
       "\n",
       "    .dataframe tbody tr th {\n",
       "        vertical-align: top;\n",
       "    }\n",
       "\n",
       "    .dataframe thead th {\n",
       "        text-align: right;\n",
       "    }\n",
       "</style>\n",
       "<table border=\"1\" class=\"dataframe\">\n",
       "  <thead>\n",
       "    <tr style=\"text-align: right;\">\n",
       "      <th></th>\n",
       "      <th>universe_id</th>\n",
       "      <th>universe_training_year</th>\n",
       "      <th>universe_training_size</th>\n",
       "      <th>universe_scale</th>\n",
       "      <th>universe_model</th>\n",
       "      <th>universe_exclude_features</th>\n",
       "      <th>universe_exclude_subgroups</th>\n",
       "      <th>q_hat</th>\n",
       "      <th>coverage</th>\n",
       "      <th>avg_size</th>\n",
       "    </tr>\n",
       "  </thead>\n",
       "  <tbody>\n",
       "    <tr>\n",
       "      <th>0</th>\n",
       "      <td>5d2835172af9b82248383844138bf7de</td>\n",
       "      <td>2012_14</td>\n",
       "      <td>1k</td>\n",
       "      <td>do-not-scale</td>\n",
       "      <td>elasticnet</td>\n",
       "      <td>nationality-sex</td>\n",
       "      <td>drop-non-german</td>\n",
       "      <td>0.680772</td>\n",
       "      <td>0.913321</td>\n",
       "      <td>1.314915</td>\n",
       "    </tr>\n",
       "  </tbody>\n",
       "</table>\n",
       "</div>"
      ],
      "text/plain": [
       "                        universe_id universe_training_year  \\\n",
       "0  5d2835172af9b82248383844138bf7de                2012_14   \n",
       "\n",
       "  universe_training_size universe_scale universe_model  \\\n",
       "0                     1k   do-not-scale     elasticnet   \n",
       "\n",
       "  universe_exclude_features universe_exclude_subgroups     q_hat  coverage  \\\n",
       "0           nationality-sex            drop-non-german  0.680772  0.913321   \n",
       "\n",
       "   avg_size  \n",
       "0  1.314915  "
      ]
     },
     "execution_count": 50,
     "metadata": {},
     "output_type": "execute_result"
    }
   ],
   "source": [
    "cp_metrics_df"
   ]
  },
  {
   "cell_type": "code",
   "execution_count": 51,
   "id": "b7fbde55-a0a1-47e4-9af6-fe4a17fa8c61",
   "metadata": {
    "execution": {
     "iopub.execute_input": "2025-08-05T16:30:58.758300Z",
     "iopub.status.busy": "2025-08-05T16:30:58.757423Z",
     "iopub.status.idle": "2025-08-05T16:30:58.763798Z",
     "shell.execute_reply": "2025-08-05T16:30:58.762629Z"
    },
    "papermill": {
     "duration": 0.043244,
     "end_time": "2025-08-05T16:30:58.766173",
     "exception": false,
     "start_time": "2025-08-05T16:30:58.722929",
     "status": "completed"
    },
    "tags": []
   },
   "outputs": [],
   "source": [
    "# Conditional Coverage & looking at subgroups"
   ]
  },
  {
   "cell_type": "code",
   "execution_count": 52,
   "id": "027ae886-68dd-4141-96c7-805a5450e1ef",
   "metadata": {
    "execution": {
     "iopub.execute_input": "2025-08-05T16:30:58.840043Z",
     "iopub.status.busy": "2025-08-05T16:30:58.839182Z",
     "iopub.status.idle": "2025-08-05T16:30:59.163177Z",
     "shell.execute_reply": "2025-08-05T16:30:59.161790Z"
    },
    "papermill": {
     "duration": 0.36394,
     "end_time": "2025-08-05T16:30:59.166004",
     "exception": false,
     "start_time": "2025-08-05T16:30:58.802064",
     "status": "completed"
    },
    "tags": []
   },
   "outputs": [],
   "source": [
    "from fairness_multiverse.conformal import build_cp_groups\n",
    "\n",
    "cp_groups_df = build_cp_groups(pred_sets, y_true, X_test.index, org_test)\n",
    "#needs universe_id and setting"
   ]
  },
  {
   "cell_type": "code",
   "execution_count": 53,
   "id": "6cbdab96-b2b2-45af-ad54-d0516db2e28d",
   "metadata": {
    "execution": {
     "iopub.execute_input": "2025-08-05T16:30:59.269194Z",
     "iopub.status.busy": "2025-08-05T16:30:59.268399Z",
     "iopub.status.idle": "2025-08-05T16:31:01.173029Z",
     "shell.execute_reply": "2025-08-05T16:31:01.171683Z"
    },
    "papermill": {
     "duration": 1.939813,
     "end_time": "2025-08-05T16:31:01.176169",
     "exception": false,
     "start_time": "2025-08-05T16:30:59.236356",
     "status": "completed"
    },
    "tags": []
   },
   "outputs": [],
   "source": [
    "# Define covered = 1 if true_label is in the predicted set\n",
    "cp_groups_df['covered'] = cp_groups_df.apply(\n",
    "    lambda r: int(r['true_label'] in r['pred_set']),\n",
    "    axis=1\n",
    ")"
   ]
  },
  {
   "cell_type": "code",
   "execution_count": 54,
   "id": "338ff529-1a6b-4b87-a931-8e4788d52aad",
   "metadata": {
    "execution": {
     "iopub.execute_input": "2025-08-05T16:31:01.236228Z",
     "iopub.status.busy": "2025-08-05T16:31:01.235607Z",
     "iopub.status.idle": "2025-08-05T16:31:01.241419Z",
     "shell.execute_reply": "2025-08-05T16:31:01.240505Z"
    },
    "papermill": {
     "duration": 0.039052,
     "end_time": "2025-08-05T16:31:01.243090",
     "exception": false,
     "start_time": "2025-08-05T16:31:01.204038",
     "status": "completed"
    },
    "tags": []
   },
   "outputs": [],
   "source": [
    "#cp_groups_df"
   ]
  },
  {
   "cell_type": "code",
   "execution_count": 55,
   "id": "90032e27-66df-4540-9169-4e89cfbaa758",
   "metadata": {
    "execution": {
     "iopub.execute_input": "2025-08-05T16:31:01.283287Z",
     "iopub.status.busy": "2025-08-05T16:31:01.282283Z",
     "iopub.status.idle": "2025-08-05T16:31:01.293843Z",
     "shell.execute_reply": "2025-08-05T16:31:01.292657Z"
    },
    "papermill": {
     "duration": 0.037656,
     "end_time": "2025-08-05T16:31:01.296151",
     "exception": false,
     "start_time": "2025-08-05T16:31:01.258495",
     "status": "completed"
    },
    "tags": []
   },
   "outputs": [],
   "source": [
    "subgroups = ['frau1','nongerman','nongerman_male','nongerman_female']\n",
    "\n",
    "# Conditional coverage for subgroup==1\n",
    "cond_coverage = {\n",
    "    g: cp_groups_df.loc[cp_groups_df[g]==1, 'covered'].mean()\n",
    "    for g in subgroups\n",
    "}"
   ]
  },
  {
   "cell_type": "code",
   "execution_count": 56,
   "id": "1e348fb1-b9c3-45bc-ba23-f016827a7e0d",
   "metadata": {
    "execution": {
     "iopub.execute_input": "2025-08-05T16:31:01.349247Z",
     "iopub.status.busy": "2025-08-05T16:31:01.348660Z",
     "iopub.status.idle": "2025-08-05T16:31:01.356842Z",
     "shell.execute_reply": "2025-08-05T16:31:01.355791Z"
    },
    "papermill": {
     "duration": 0.036078,
     "end_time": "2025-08-05T16:31:01.358678",
     "exception": false,
     "start_time": "2025-08-05T16:31:01.322600",
     "status": "completed"
    },
    "tags": []
   },
   "outputs": [
    {
     "data": {
      "text/plain": [
       "{'frau1': 0.913627173473514,\n",
       " 'nongerman': 0.9710885308482569,\n",
       " 'nongerman_male': 0.9776636944969828,\n",
       " 'nongerman_female': 0.9602086438152012}"
      ]
     },
     "execution_count": 56,
     "metadata": {},
     "output_type": "execute_result"
    }
   ],
   "source": [
    "cond_coverage"
   ]
  },
  {
   "cell_type": "code",
   "execution_count": 57,
   "id": "f5093324-c3dd-4d63-bc4c-8d945e5c8bbb",
   "metadata": {
    "execution": {
     "iopub.execute_input": "2025-08-05T16:31:01.415047Z",
     "iopub.status.busy": "2025-08-05T16:31:01.414542Z",
     "iopub.status.idle": "2025-08-05T16:31:01.423068Z",
     "shell.execute_reply": "2025-08-05T16:31:01.421869Z"
    },
    "papermill": {
     "duration": 0.041054,
     "end_time": "2025-08-05T16:31:01.425180",
     "exception": false,
     "start_time": "2025-08-05T16:31:01.384126",
     "status": "completed"
    },
    "tags": []
   },
   "outputs": [],
   "source": [
    "for subgroup, cov in cond_coverage.items():\n",
    "    cp_metrics_df[f\"cov_{subgroup}\"] = cov"
   ]
  },
  {
   "cell_type": "code",
   "execution_count": 58,
   "id": "6e872e10-dbe5-49e8-b554-5030c98ff75d",
   "metadata": {
    "execution": {
     "iopub.execute_input": "2025-08-05T16:31:01.485701Z",
     "iopub.status.busy": "2025-08-05T16:31:01.485267Z",
     "iopub.status.idle": "2025-08-05T16:31:01.517998Z",
     "shell.execute_reply": "2025-08-05T16:31:01.507883Z"
    },
    "papermill": {
     "duration": 0.066242,
     "end_time": "2025-08-05T16:31:01.520051",
     "exception": false,
     "start_time": "2025-08-05T16:31:01.453809",
     "status": "completed"
    },
    "tags": []
   },
   "outputs": [
    {
     "data": {
      "text/html": [
       "<div>\n",
       "<style scoped>\n",
       "    .dataframe tbody tr th:only-of-type {\n",
       "        vertical-align: middle;\n",
       "    }\n",
       "\n",
       "    .dataframe tbody tr th {\n",
       "        vertical-align: top;\n",
       "    }\n",
       "\n",
       "    .dataframe thead th {\n",
       "        text-align: right;\n",
       "    }\n",
       "</style>\n",
       "<table border=\"1\" class=\"dataframe\">\n",
       "  <thead>\n",
       "    <tr style=\"text-align: right;\">\n",
       "      <th></th>\n",
       "      <th>universe_id</th>\n",
       "      <th>universe_training_year</th>\n",
       "      <th>universe_training_size</th>\n",
       "      <th>universe_scale</th>\n",
       "      <th>universe_model</th>\n",
       "      <th>universe_exclude_features</th>\n",
       "      <th>universe_exclude_subgroups</th>\n",
       "      <th>q_hat</th>\n",
       "      <th>coverage</th>\n",
       "      <th>avg_size</th>\n",
       "      <th>cov_frau1</th>\n",
       "      <th>cov_nongerman</th>\n",
       "      <th>cov_nongerman_male</th>\n",
       "      <th>cov_nongerman_female</th>\n",
       "    </tr>\n",
       "  </thead>\n",
       "  <tbody>\n",
       "    <tr>\n",
       "      <th>0</th>\n",
       "      <td>5d2835172af9b82248383844138bf7de</td>\n",
       "      <td>2012_14</td>\n",
       "      <td>1k</td>\n",
       "      <td>do-not-scale</td>\n",
       "      <td>elasticnet</td>\n",
       "      <td>nationality-sex</td>\n",
       "      <td>drop-non-german</td>\n",
       "      <td>0.680772</td>\n",
       "      <td>0.913321</td>\n",
       "      <td>1.314915</td>\n",
       "      <td>0.913627</td>\n",
       "      <td>0.971089</td>\n",
       "      <td>0.977664</td>\n",
       "      <td>0.960209</td>\n",
       "    </tr>\n",
       "  </tbody>\n",
       "</table>\n",
       "</div>"
      ],
      "text/plain": [
       "                        universe_id universe_training_year  \\\n",
       "0  5d2835172af9b82248383844138bf7de                2012_14   \n",
       "\n",
       "  universe_training_size universe_scale universe_model  \\\n",
       "0                     1k   do-not-scale     elasticnet   \n",
       "\n",
       "  universe_exclude_features universe_exclude_subgroups     q_hat  coverage  \\\n",
       "0           nationality-sex            drop-non-german  0.680772  0.913321   \n",
       "\n",
       "   avg_size  cov_frau1  cov_nongerman  cov_nongerman_male  \\\n",
       "0  1.314915   0.913627       0.971089            0.977664   \n",
       "\n",
       "   cov_nongerman_female  \n",
       "0              0.960209  "
      ]
     },
     "execution_count": 58,
     "metadata": {},
     "output_type": "execute_result"
    }
   ],
   "source": [
    "cp_metrics_df"
   ]
  },
  {
   "cell_type": "markdown",
   "id": "33774451",
   "metadata": {
    "papermill": {
     "duration": 0.014905,
     "end_time": "2025-08-05T16:31:01.551181",
     "exception": false,
     "start_time": "2025-08-05T16:31:01.536276",
     "status": "completed"
    },
    "tags": []
   },
   "source": [
    "# (Fairness) Metrics"
   ]
  },
  {
   "cell_type": "code",
   "execution_count": 59,
   "id": "debc5d62",
   "metadata": {
    "execution": {
     "iopub.execute_input": "2025-08-05T16:31:01.592104Z",
     "iopub.status.busy": "2025-08-05T16:31:01.591510Z",
     "iopub.status.idle": "2025-08-05T16:31:01.609430Z",
     "shell.execute_reply": "2025-08-05T16:31:01.608141Z"
    },
    "papermill": {
     "duration": 0.044089,
     "end_time": "2025-08-05T16:31:01.611542",
     "exception": false,
     "start_time": "2025-08-05T16:31:01.567453",
     "status": "completed"
    },
    "tags": []
   },
   "outputs": [],
   "source": [
    "# do I need to include maxdeutsch1.missing?\n",
    "\n",
    "import numpy as np\n",
    "\n",
    "colname_to_bin = \"maxdeutsch1\"\n",
    "majority_value = org_train[colname_to_bin].mode()[0]\n",
    "\n",
    "org_test[\"majmin\"] = np.where(org_test[colname_to_bin] == majority_value, \"majority\", \"minority\")"
   ]
  },
  {
   "cell_type": "code",
   "execution_count": 60,
   "id": "06a50de5",
   "metadata": {
    "execution": {
     "iopub.execute_input": "2025-08-05T16:31:01.673174Z",
     "iopub.status.busy": "2025-08-05T16:31:01.672570Z",
     "iopub.status.idle": "2025-08-05T16:31:04.779113Z",
     "shell.execute_reply": "2025-08-05T16:31:04.778056Z"
    },
    "papermill": {
     "duration": 3.139618,
     "end_time": "2025-08-05T16:31:04.781427",
     "exception": false,
     "start_time": "2025-08-05T16:31:01.641809",
     "status": "completed"
    },
    "tags": []
   },
   "outputs": [],
   "source": [
    "example_universe = universe.copy()\n",
    "example_universe[\"cutoff\"] = example_universe[\"cutoff\"][0]\n",
    "example_universe[\"eval_fairness_grouping\"] = example_universe[\"eval_fairness_grouping\"][0]\n",
    "fairness_dict, metric_frame = universe_analysis.compute_metrics(\n",
    "    example_universe,\n",
    "    y_pred_prob=probs_test,\n",
    "    y_test=y_true,\n",
    "    org_test=org_test,\n",
    ")"
   ]
  },
  {
   "cell_type": "markdown",
   "id": "f95d4e02",
   "metadata": {
    "papermill": {
     "duration": 0.013031,
     "end_time": "2025-08-05T16:31:04.812647",
     "exception": false,
     "start_time": "2025-08-05T16:31:04.799616",
     "status": "completed"
    },
    "tags": []
   },
   "source": [
    "# Overall"
   ]
  },
  {
   "cell_type": "markdown",
   "id": "bdee4871",
   "metadata": {
    "papermill": {
     "duration": 0.012435,
     "end_time": "2025-08-05T16:31:04.837317",
     "exception": false,
     "start_time": "2025-08-05T16:31:04.824882",
     "status": "completed"
    },
    "tags": []
   },
   "source": [
    "Fairness\n",
    "Main fairness target: Equalized Odds. Seems to be a better fit than equal opportunity, since we're not only interested in Y = 1. Seems to be a better fit than demographic parity, since we also care about accuracy, not just equal distribution of preds.\n",
    "\n",
    "Pick column for computation of fairness metrics\n",
    "\n",
    "Performance\n",
    "Overall performance measures, most interesting in relation to the measures split by group below"
   ]
  },
  {
   "cell_type": "code",
   "execution_count": 61,
   "id": "c4e067c6",
   "metadata": {
    "execution": {
     "iopub.execute_input": "2025-08-05T16:31:04.889129Z",
     "iopub.status.busy": "2025-08-05T16:31:04.888611Z",
     "iopub.status.idle": "2025-08-05T16:31:04.898393Z",
     "shell.execute_reply": "2025-08-05T16:31:04.897241Z"
    },
    "papermill": {
     "duration": 0.038037,
     "end_time": "2025-08-05T16:31:04.900111",
     "exception": false,
     "start_time": "2025-08-05T16:31:04.862074",
     "status": "completed"
    },
    "tags": []
   },
   "outputs": [
    {
     "data": {
      "text/plain": [
       "accuracy                   0.208171\n",
       "balanced accuracy          0.512401\n",
       "f1                         0.229948\n",
       "precision                  0.131362\n",
       "false positive rate        0.896818\n",
       "false negative rate        0.078380\n",
       "selection rate             0.900000\n",
       "count                  89710.000000\n",
       "dtype: float64"
      ]
     },
     "execution_count": 61,
     "metadata": {},
     "output_type": "execute_result"
    }
   ],
   "source": [
    "metric_frame.overall"
   ]
  },
  {
   "cell_type": "markdown",
   "id": "e968fe9d",
   "metadata": {
    "papermill": {
     "duration": 0.024125,
     "end_time": "2025-08-05T16:31:04.949073",
     "exception": false,
     "start_time": "2025-08-05T16:31:04.924948",
     "status": "completed"
    },
    "tags": []
   },
   "source": [
    "By Group"
   ]
  },
  {
   "cell_type": "code",
   "execution_count": 62,
   "id": "ec325bce",
   "metadata": {
    "execution": {
     "iopub.execute_input": "2025-08-05T16:31:05.000057Z",
     "iopub.status.busy": "2025-08-05T16:31:04.999535Z",
     "iopub.status.idle": "2025-08-05T16:31:05.016566Z",
     "shell.execute_reply": "2025-08-05T16:31:05.015633Z"
    },
    "papermill": {
     "duration": 0.043536,
     "end_time": "2025-08-05T16:31:05.018194",
     "exception": false,
     "start_time": "2025-08-05T16:31:04.974658",
     "status": "completed"
    },
    "tags": []
   },
   "outputs": [
    {
     "data": {
      "text/html": [
       "<div>\n",
       "<style scoped>\n",
       "    .dataframe tbody tr th:only-of-type {\n",
       "        vertical-align: middle;\n",
       "    }\n",
       "\n",
       "    .dataframe tbody tr th {\n",
       "        vertical-align: top;\n",
       "    }\n",
       "\n",
       "    .dataframe thead th {\n",
       "        text-align: right;\n",
       "    }\n",
       "</style>\n",
       "<table border=\"1\" class=\"dataframe\">\n",
       "  <thead>\n",
       "    <tr style=\"text-align: right;\">\n",
       "      <th></th>\n",
       "      <th>accuracy</th>\n",
       "      <th>balanced accuracy</th>\n",
       "      <th>f1</th>\n",
       "      <th>precision</th>\n",
       "      <th>false positive rate</th>\n",
       "      <th>false negative rate</th>\n",
       "      <th>selection rate</th>\n",
       "      <th>count</th>\n",
       "    </tr>\n",
       "    <tr>\n",
       "      <th>majmin</th>\n",
       "      <th></th>\n",
       "      <th></th>\n",
       "      <th></th>\n",
       "      <th></th>\n",
       "      <th></th>\n",
       "      <th></th>\n",
       "      <th></th>\n",
       "      <th></th>\n",
       "    </tr>\n",
       "  </thead>\n",
       "  <tbody>\n",
       "    <tr>\n",
       "      <th>majority</th>\n",
       "      <td>0.228249</td>\n",
       "      <td>0.516510</td>\n",
       "      <td>0.237247</td>\n",
       "      <td>0.136443</td>\n",
       "      <td>0.875296</td>\n",
       "      <td>0.091685</td>\n",
       "      <td>0.879659</td>\n",
       "      <td>69170.0</td>\n",
       "    </tr>\n",
       "    <tr>\n",
       "      <th>minority</th>\n",
       "      <td>0.140555</td>\n",
       "      <td>0.502528</td>\n",
       "      <td>0.206999</td>\n",
       "      <td>0.115820</td>\n",
       "      <td>0.967918</td>\n",
       "      <td>0.027027</td>\n",
       "      <td>0.968500</td>\n",
       "      <td>20540.0</td>\n",
       "    </tr>\n",
       "  </tbody>\n",
       "</table>\n",
       "</div>"
      ],
      "text/plain": [
       "          accuracy  balanced accuracy        f1  precision  \\\n",
       "majmin                                                       \n",
       "majority  0.228249           0.516510  0.237247   0.136443   \n",
       "minority  0.140555           0.502528  0.206999   0.115820   \n",
       "\n",
       "          false positive rate  false negative rate  selection rate    count  \n",
       "majmin                                                                       \n",
       "majority             0.875296             0.091685        0.879659  69170.0  \n",
       "minority             0.967918             0.027027        0.968500  20540.0  "
      ]
     },
     "execution_count": 62,
     "metadata": {},
     "output_type": "execute_result"
    }
   ],
   "source": [
    "metric_frame.by_group"
   ]
  },
  {
   "cell_type": "code",
   "execution_count": 63,
   "id": "a9ddbe63",
   "metadata": {
    "execution": {
     "iopub.execute_input": "2025-08-05T16:31:05.070735Z",
     "iopub.status.busy": "2025-08-05T16:31:05.070266Z",
     "iopub.status.idle": "2025-08-05T16:31:07.992132Z",
     "shell.execute_reply": "2025-08-05T16:31:07.991267Z"
    },
    "papermill": {
     "duration": 2.950569,
     "end_time": "2025-08-05T16:31:07.994013",
     "exception": false,
     "start_time": "2025-08-05T16:31:05.043444",
     "status": "completed"
    },
    "tags": []
   },
   "outputs": [
    {
     "data": {
      "text/plain": [
       "array([[<Axes: title={'center': 'accuracy'}, xlabel='majmin'>,\n",
       "        <Axes: title={'center': 'balanced accuracy'}, xlabel='majmin'>,\n",
       "        <Axes: title={'center': 'f1'}, xlabel='majmin'>],\n",
       "       [<Axes: title={'center': 'precision'}, xlabel='majmin'>,\n",
       "        <Axes: title={'center': 'false positive rate'}, xlabel='majmin'>,\n",
       "        <Axes: title={'center': 'false negative rate'}, xlabel='majmin'>],\n",
       "       [<Axes: title={'center': 'selection rate'}, xlabel='majmin'>,\n",
       "        <Axes: title={'center': 'count'}, xlabel='majmin'>,\n",
       "        <Axes: xlabel='majmin'>]], dtype=object)"
      ]
     },
     "execution_count": 63,
     "metadata": {},
     "output_type": "execute_result"
    },
    {
     "data": {
      "image/png": "[encoded data removed]",
      "text/plain": [
       "<Figure size 1200x800 with 9 Axes>"
      ]
     },
     "metadata": {},
     "output_type": "display_data"
    }
   ],
   "source": [
    "# In a graphic\n",
    "metric_frame.by_group.plot.bar(\n",
    "    subplots=True,\n",
    "    layout=[3, 3],\n",
    "    legend=False,\n",
    "    figsize=[12, 8],\n",
    "    title=\"Show all metrics\",\n",
    ")"
   ]
  },
  {
   "cell_type": "markdown",
   "id": "f57a0bac",
   "metadata": {
    "papermill": {
     "duration": 0.028599,
     "end_time": "2025-08-05T16:31:08.052227",
     "exception": false,
     "start_time": "2025-08-05T16:31:08.023628",
     "status": "completed"
    },
    "tags": []
   },
   "source": [
    "# Final Output"
   ]
  },
  {
   "cell_type": "code",
   "execution_count": 64,
   "id": "96d280a3",
   "metadata": {
    "execution": {
     "iopub.execute_input": "2025-08-05T16:31:08.111490Z",
     "iopub.status.busy": "2025-08-05T16:31:08.110394Z",
     "iopub.status.idle": "2025-08-05T16:31:08.119693Z",
     "shell.execute_reply": "2025-08-05T16:31:08.118571Z"
    },
    "papermill": {
     "duration": 0.040958,
     "end_time": "2025-08-05T16:31:08.121594",
     "exception": false,
     "start_time": "2025-08-05T16:31:08.080636",
     "status": "completed"
    },
    "tags": []
   },
   "outputs": [
    {
     "data": {
      "text/plain": [
       "4"
      ]
     },
     "execution_count": 64,
     "metadata": {},
     "output_type": "execute_result"
    }
   ],
   "source": [
    "sub_universes = universe_analysis.generate_sub_universes()\n",
    "len(sub_universes)"
   ]
  },
  {
   "cell_type": "code",
   "execution_count": 65,
   "id": "92adf7ba",
   "metadata": {
    "execution": {
     "iopub.execute_input": "2025-08-05T16:31:08.181054Z",
     "iopub.status.busy": "2025-08-05T16:31:08.180114Z",
     "iopub.status.idle": "2025-08-05T16:31:08.186976Z",
     "shell.execute_reply": "2025-08-05T16:31:08.185878Z"
    },
    "papermill": {
     "duration": 0.039282,
     "end_time": "2025-08-05T16:31:08.189993",
     "exception": false,
     "start_time": "2025-08-05T16:31:08.150711",
     "status": "completed"
    },
    "tags": []
   },
   "outputs": [],
   "source": [
    "def filter_sub_universe_data(sub_universe, org_test):\n",
    "    # Keep all rows — no filtering\n",
    "    keep_rows_mask = np.ones(org_test.shape[0], dtype=bool)\n",
    "\n",
    "    print(f\"[INFO] Keeping all rows: {keep_rows_mask.sum()} rows retained.\")\n",
    "    return keep_rows_mask"
   ]
  },
  {
   "cell_type": "code",
   "execution_count": 66,
   "id": "4a759155",
   "metadata": {
    "execution": {
     "iopub.execute_input": "2025-08-05T16:31:08.250627Z",
     "iopub.status.busy": "2025-08-05T16:31:08.249649Z",
     "iopub.status.idle": "2025-08-05T16:31:18.213616Z",
     "shell.execute_reply": "2025-08-05T16:31:18.212649Z"
    },
    "papermill": {
     "duration": 9.995485,
     "end_time": "2025-08-05T16:31:18.215133",
     "exception": false,
     "start_time": "2025-08-05T16:31:08.219648",
     "status": "completed"
    },
    "tags": []
   },
   "outputs": [
    {
     "name": "stdout",
     "output_type": "stream",
     "text": [
      "Stopping execution_time clock.\n",
      "[INFO] Keeping all rows: 89710 rows retained.\n"
     ]
    },
    {
     "name": "stdout",
     "output_type": "stream",
     "text": [
      "[INFO] Keeping all rows: 89710 rows retained.\n"
     ]
    },
    {
     "name": "stdout",
     "output_type": "stream",
     "text": [
      "[INFO] Keeping all rows: 89710 rows retained.\n"
     ]
    },
    {
     "name": "stdout",
     "output_type": "stream",
     "text": [
      "[INFO] Keeping all rows: 89710 rows retained.\n"
     ]
    },
    {
     "data": {
      "text/html": [
       "<div>\n",
       "<style scoped>\n",
       "    .dataframe tbody tr th:only-of-type {\n",
       "        vertical-align: middle;\n",
       "    }\n",
       "\n",
       "    .dataframe tbody tr th {\n",
       "        vertical-align: top;\n",
       "    }\n",
       "\n",
       "    .dataframe thead th {\n",
       "        text-align: right;\n",
       "    }\n",
       "</style>\n",
       "<table border=\"1\" class=\"dataframe\">\n",
       "  <thead>\n",
       "    <tr style=\"text-align: right;\">\n",
       "      <th></th>\n",
       "      <th>run_no</th>\n",
       "      <th>universe_id</th>\n",
       "      <th>universe_settings</th>\n",
       "      <th>execution_time</th>\n",
       "      <th>test_size_n</th>\n",
       "      <th>test_size_frac</th>\n",
       "      <th>fair_main_equalized_odds_difference</th>\n",
       "      <th>fair_main_equalized_odds_ratio</th>\n",
       "      <th>fair_main_demographic_parity_difference</th>\n",
       "      <th>fair_main_demographic_parity_ratio</th>\n",
       "      <th>...</th>\n",
       "      <th>perf_grp_precision_0</th>\n",
       "      <th>perf_grp_precision_1</th>\n",
       "      <th>perf_grp_false positive rate_0</th>\n",
       "      <th>perf_grp_false positive rate_1</th>\n",
       "      <th>perf_grp_false negative rate_0</th>\n",
       "      <th>perf_grp_false negative rate_1</th>\n",
       "      <th>perf_grp_selection rate_0</th>\n",
       "      <th>perf_grp_selection rate_1</th>\n",
       "      <th>perf_grp_count_0</th>\n",
       "      <th>perf_grp_count_1</th>\n",
       "    </tr>\n",
       "  </thead>\n",
       "  <tbody>\n",
       "    <tr>\n",
       "      <th>0</th>\n",
       "      <td>15</td>\n",
       "      <td>5d2835172af9b82248383844138bf7de</td>\n",
       "      <td>{\"cutoff\": \"quantile_0.1\", \"eval_fairness_grou...</td>\n",
       "      <td>30.754983</td>\n",
       "      <td>89710</td>\n",
       "      <td>1.0</td>\n",
       "      <td>0.092622</td>\n",
       "      <td>0.904308</td>\n",
       "      <td>0.088842</td>\n",
       "      <td>0.908269</td>\n",
       "      <td>...</td>\n",
       "      <td>NaN</td>\n",
       "      <td>NaN</td>\n",
       "      <td>NaN</td>\n",
       "      <td>NaN</td>\n",
       "      <td>NaN</td>\n",
       "      <td>NaN</td>\n",
       "      <td>NaN</td>\n",
       "      <td>NaN</td>\n",
       "      <td>NaN</td>\n",
       "      <td>NaN</td>\n",
       "    </tr>\n",
       "    <tr>\n",
       "      <th>0</th>\n",
       "      <td>15</td>\n",
       "      <td>5d2835172af9b82248383844138bf7de</td>\n",
       "      <td>{\"cutoff\": \"quantile_0.1\", \"eval_fairness_grou...</td>\n",
       "      <td>30.754983</td>\n",
       "      <td>89710</td>\n",
       "      <td>1.0</td>\n",
       "      <td>0.092622</td>\n",
       "      <td>0.904308</td>\n",
       "      <td>0.088842</td>\n",
       "      <td>0.908269</td>\n",
       "      <td>...</td>\n",
       "      <td>0.115820</td>\n",
       "      <td>0.136443</td>\n",
       "      <td>0.967918</td>\n",
       "      <td>0.875296</td>\n",
       "      <td>0.027027</td>\n",
       "      <td>0.091685</td>\n",
       "      <td>0.968500</td>\n",
       "      <td>0.879659</td>\n",
       "      <td>20540.0</td>\n",
       "      <td>69170.0</td>\n",
       "    </tr>\n",
       "    <tr>\n",
       "      <th>0</th>\n",
       "      <td>15</td>\n",
       "      <td>5d2835172af9b82248383844138bf7de</td>\n",
       "      <td>{\"cutoff\": \"quantile_0.25\", \"eval_fairness_gro...</td>\n",
       "      <td>30.754983</td>\n",
       "      <td>89710</td>\n",
       "      <td>1.0</td>\n",
       "      <td>0.227437</td>\n",
       "      <td>0.752011</td>\n",
       "      <td>0.217849</td>\n",
       "      <td>0.762682</td>\n",
       "      <td>...</td>\n",
       "      <td>NaN</td>\n",
       "      <td>NaN</td>\n",
       "      <td>NaN</td>\n",
       "      <td>NaN</td>\n",
       "      <td>NaN</td>\n",
       "      <td>NaN</td>\n",
       "      <td>NaN</td>\n",
       "      <td>NaN</td>\n",
       "      <td>NaN</td>\n",
       "      <td>NaN</td>\n",
       "    </tr>\n",
       "    <tr>\n",
       "      <th>0</th>\n",
       "      <td>15</td>\n",
       "      <td>5d2835172af9b82248383844138bf7de</td>\n",
       "      <td>{\"cutoff\": \"quantile_0.25\", \"eval_fairness_gro...</td>\n",
       "      <td>30.754983</td>\n",
       "      <td>89710</td>\n",
       "      <td>1.0</td>\n",
       "      <td>0.227437</td>\n",
       "      <td>0.752011</td>\n",
       "      <td>0.217849</td>\n",
       "      <td>0.762682</td>\n",
       "      <td>...</td>\n",
       "      <td>0.116097</td>\n",
       "      <td>0.145064</td>\n",
       "      <td>0.917125</td>\n",
       "      <td>0.689688</td>\n",
       "      <td>0.075591</td>\n",
       "      <td>0.231400</td>\n",
       "      <td>0.917965</td>\n",
       "      <td>0.700116</td>\n",
       "      <td>20540.0</td>\n",
       "      <td>69170.0</td>\n",
       "    </tr>\n",
       "  </tbody>\n",
       "</table>\n",
       "<p>4 rows × 50 columns</p>\n",
       "</div>"
      ],
      "text/plain": [
       "  run_no                       universe_id  \\\n",
       "0     15  5d2835172af9b82248383844138bf7de   \n",
       "0     15  5d2835172af9b82248383844138bf7de   \n",
       "0     15  5d2835172af9b82248383844138bf7de   \n",
       "0     15  5d2835172af9b82248383844138bf7de   \n",
       "\n",
       "                                   universe_settings  execution_time  \\\n",
       "0  {\"cutoff\": \"quantile_0.1\", \"eval_fairness_grou...       30.754983   \n",
       "0  {\"cutoff\": \"quantile_0.1\", \"eval_fairness_grou...       30.754983   \n",
       "0  {\"cutoff\": \"quantile_0.25\", \"eval_fairness_gro...       30.754983   \n",
       "0  {\"cutoff\": \"quantile_0.25\", \"eval_fairness_gro...       30.754983   \n",
       "\n",
       "   test_size_n  test_size_frac  fair_main_equalized_odds_difference  \\\n",
       "0        89710             1.0                             0.092622   \n",
       "0        89710             1.0                             0.092622   \n",
       "0        89710             1.0                             0.227437   \n",
       "0        89710             1.0                             0.227437   \n",
       "\n",
       "   fair_main_equalized_odds_ratio  fair_main_demographic_parity_difference  \\\n",
       "0                        0.904308                                 0.088842   \n",
       "0                        0.904308                                 0.088842   \n",
       "0                        0.752011                                 0.217849   \n",
       "0                        0.752011                                 0.217849   \n",
       "\n",
       "   fair_main_demographic_parity_ratio  ...  perf_grp_precision_0  \\\n",
       "0                            0.908269  ...                   NaN   \n",
       "0                            0.908269  ...              0.115820   \n",
       "0                            0.762682  ...                   NaN   \n",
       "0                            0.762682  ...              0.116097   \n",
       "\n",
       "   perf_grp_precision_1  perf_grp_false positive rate_0  \\\n",
       "0                   NaN                             NaN   \n",
       "0              0.136443                        0.967918   \n",
       "0                   NaN                             NaN   \n",
       "0              0.145064                        0.917125   \n",
       "\n",
       "   perf_grp_false positive rate_1  perf_grp_false negative rate_0  \\\n",
       "0                             NaN                             NaN   \n",
       "0                        0.875296                        0.027027   \n",
       "0                             NaN                             NaN   \n",
       "0                        0.689688                        0.075591   \n",
       "\n",
       "   perf_grp_false negative rate_1  perf_grp_selection rate_0  \\\n",
       "0                             NaN                        NaN   \n",
       "0                        0.091685                   0.968500   \n",
       "0                             NaN                        NaN   \n",
       "0                        0.231400                   0.917965   \n",
       "\n",
       "   perf_grp_selection rate_1  perf_grp_count_0  perf_grp_count_1  \n",
       "0                        NaN               NaN               NaN  \n",
       "0                   0.879659           20540.0           69170.0  \n",
       "0                        NaN               NaN               NaN  \n",
       "0                   0.700116           20540.0           69170.0  \n",
       "\n",
       "[4 rows x 50 columns]"
      ]
     },
     "execution_count": 66,
     "metadata": {},
     "output_type": "execute_result"
    }
   ],
   "source": [
    "final_output = universe_analysis.generate_final_output(\n",
    "    y_pred_prob=probs_test,\n",
    "    y_test=y_true,\n",
    "    org_test=org_test,\n",
    "    filter_data=filter_sub_universe_data,\n",
    "    cp_metrics_df=cp_metrics_df,\n",
    "    save=True,\n",
    ")\n",
    "final_output"
   ]
  }
 ],
 "metadata": {
  "celltoolbar": "Tags",
  "kernelspec": {
   "display_name": "Python (CMA Fairness)",
   "language": "python",
   "name": "cma_fair_env"
  },
  "language_info": {
   "codemirror_mode": {
    "name": "ipython",
    "version": 3
   },
   "file_extension": ".py",
   "mimetype": "text/x-python",
   "name": "python",
   "nbconvert_exporter": "python",
   "pygments_lexer": "ipython3",
   "version": "3.10.12"
  },
  "papermill": {
   "default_parameters": {},
   "duration": 45.01814,
   "end_time": "2025-08-05T16:31:18.955830",
   "environment_variables": {},
   "exception": null,
   "input_path": "universe_analysis.ipynb",
   "output_path": "output/runs/15/notebooks/m_15-5d2835172af9b82248383844138bf7de.ipynb",
   "parameters": {
    "output_dir": "output",
    "run_no": "15",
    "seed": "2023",
    "universe": "{\"cutoff\": [\"quantile_0.1\", \"quantile_0.25\"], \"eval_fairness_grouping\": [\"majority-minority\", \"nationality-all\"], \"exclude_features\": \"nationality-sex\", \"exclude_subgroups\": \"drop-non-german\", \"model\": \"elasticnet\", \"scale\": \"do-not-scale\", \"training_size\": \"1k\", \"training_year\": \"2012_14\"}",
    "universe_id": "5d2835172af9b82248383844138bf7de"
   },
   "start_time": "2025-08-05T16:30:33.937690",
   "version": "2.6.0"
  }
 },
 "nbformat": 4,
 "nbformat_minor": 5
}