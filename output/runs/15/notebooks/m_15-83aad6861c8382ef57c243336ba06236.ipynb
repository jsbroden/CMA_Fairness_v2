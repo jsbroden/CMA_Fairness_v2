{
 "cells": [
  {
   "cell_type": "code",
   "execution_count": 1,
   "id": "f159f837-637b-42ba-96b5-ec9a68c44524",
   "metadata": {
    "execution": {
     "iopub.execute_input": "2025-08-05T15:01:51.931443Z",
     "iopub.status.busy": "2025-08-05T15:01:51.930700Z",
     "iopub.status.idle": "2025-08-05T15:01:51.944330Z",
     "shell.execute_reply": "2025-08-05T15:01:51.943257Z"
    },
    "papermill": {
     "duration": 0.034973,
     "end_time": "2025-08-05T15:01:51.946048",
     "exception": false,
     "start_time": "2025-08-05T15:01:51.911075",
     "status": "completed"
    },
    "tags": []
   },
   "outputs": [
    {
     "name": "stdout",
     "output_type": "stream",
     "text": [
      "/dss/dsshome1/0C/ra93lal2/cma/CMA_Fairness_v2\n"
     ]
    },
    {
     "name": "stderr",
     "output_type": "stream",
     "text": [
      "/dss/dsshome1/0C/ra93lal2/.local/share/virtualenvs/CMA_Fairness_v2-3j10GkSs/lib/python3.10/site-packages/IPython/core/magics/osm.py:393: UserWarning: This is now an optional IPython functionality, using bookmarks requires you to install the `pickleshare` library.\n",
      "  bkms = self.shell.db.get('bookmarks', {})\n",
      "/dss/dsshome1/0C/ra93lal2/.local/share/virtualenvs/CMA_Fairness_v2-3j10GkSs/lib/python3.10/site-packages/IPython/core/magics/osm.py:417: UserWarning: This is now an optional IPython functionality, setting dhist requires you to install the `pickleshare` library.\n",
      "  self.shell.db['dhist'] = compress_dhist(dhist)[-100:]\n"
     ]
    }
   ],
   "source": [
    "%cd ~/cma/CMA_Fairness_v2"
   ]
  },
  {
   "cell_type": "markdown",
   "id": "de2603b9",
   "metadata": {
    "papermill": {
     "duration": 0.017747,
     "end_time": "2025-08-05T15:01:51.981910",
     "exception": false,
     "start_time": "2025-08-05T15:01:51.964163",
     "status": "completed"
    },
    "tags": []
   },
   "source": [
    "The following cell holds the definition of our parameters, these values can be overriden by rendering the with e.g. the following command:\n",
    "\n",
    "papermill -p alpha 0.2 -p ratio 0.3 universe_analysis.ipynb output/test_run.ipynb"
   ]
  },
  {
   "cell_type": "code",
   "execution_count": 2,
   "id": "a80968a0-40bb-4fa9-85ef-2d5eefb01975",
   "metadata": {
    "execution": {
     "iopub.execute_input": "2025-08-05T15:01:52.020344Z",
     "iopub.status.busy": "2025-08-05T15:01:52.019685Z",
     "iopub.status.idle": "2025-08-05T15:01:52.025503Z",
     "shell.execute_reply": "2025-08-05T15:01:52.024322Z"
    },
    "papermill": {
     "duration": 0.028078,
     "end_time": "2025-08-05T15:01:52.027491",
     "exception": false,
     "start_time": "2025-08-05T15:01:51.999413",
     "status": "completed"
    },
    "tags": []
   },
   "outputs": [
    {
     "name": "stdout",
     "output_type": "stream",
     "text": [
      "Current working directory: /dss/dsshome1/0C/ra93lal2/cma/CMA_Fairness_v2\n"
     ]
    }
   ],
   "source": [
    "import os\n",
    "print(\"Current working directory:\", os.getcwd())"
   ]
  },
  {
   "cell_type": "code",
   "execution_count": 3,
   "id": "2dce4c03",
   "metadata": {
    "execution": {
     "iopub.execute_input": "2025-08-05T15:01:52.065470Z",
     "iopub.status.busy": "2025-08-05T15:01:52.064957Z",
     "iopub.status.idle": "2025-08-05T15:01:52.071032Z",
     "shell.execute_reply": "2025-08-05T15:01:52.069962Z"
    },
    "papermill": {
     "duration": 0.027037,
     "end_time": "2025-08-05T15:01:52.072904",
     "exception": false,
     "start_time": "2025-08-05T15:01:52.045867",
     "status": "completed"
    },
    "tags": [
     "parameters"
    ]
   },
   "outputs": [],
   "source": [
    "run_no = 0\n",
    "universe_id = \"test\"\n",
    "universe = {\n",
    "    \"training_size\": \"25k\", # \"25k\", \"5k\", \"1k\"\n",
    "    \"training_year\": \"2014\", # \"2014\", \"2012_14\", \"2010_14\"\n",
    "    \"scale\": \"scale\", # \"scale\", \"do-not-scale\",\n",
    "    \"model\": \"elasticnet\", # \"logreg\", \"penalized_logreg\", \"rf\", \"gbm\", \"elasticnet\"\n",
    "    \"cutoff\": [\"quantile_0.15\", \"quantile_0.30\"],\n",
    "    \"exclude_features\": \"age\", # \"none\", \"nationality\", \"sex\", \"nationality-sex\", \"age\"\n",
    "    \"exclude_subgroups\": \"keep-all\", # \"keep-all\", \"drop-non-german\"\n",
    "    \"eval_fairness_grouping\": [\"majority-minority\", \"nationality-all\"]\n",
    "}\n",
    "\n",
    "output_dir=\"./output\"\n",
    "seed=0"
   ]
  },
  {
   "cell_type": "code",
   "execution_count": 4,
   "id": "606fd018",
   "metadata": {
    "execution": {
     "iopub.execute_input": "2025-08-05T15:01:52.111925Z",
     "iopub.status.busy": "2025-08-05T15:01:52.111120Z",
     "iopub.status.idle": "2025-08-05T15:01:52.116739Z",
     "shell.execute_reply": "2025-08-05T15:01:52.115814Z"
    },
    "papermill": {
     "duration": 0.026893,
     "end_time": "2025-08-05T15:01:52.118644",
     "exception": false,
     "start_time": "2025-08-05T15:01:52.091751",
     "status": "completed"
    },
    "tags": [
     "injected-parameters"
    ]
   },
   "outputs": [],
   "source": [
    "# Parameters\n",
    "universe_id = \"83aad6861c8382ef57c243336ba06236\"\n",
    "run_no = \"15\"\n",
    "universe = \"{\\\"cutoff\\\": [\\\"quantile_0.1\\\", \\\"quantile_0.25\\\"], \\\"eval_fairness_grouping\\\": [\\\"majority-minority\\\", \\\"nationality-all\\\"], \\\"exclude_features\\\": \\\"age\\\", \\\"exclude_subgroups\\\": \\\"keep-all\\\", \\\"model\\\": \\\"gbm\\\", \\\"scale\\\": \\\"do-not-scale\\\", \\\"training_size\\\": \\\"25k\\\", \\\"training_year\\\": \\\"2012_14\\\"}\"\n",
    "output_dir = \"output\"\n",
    "seed = \"2023\"\n"
   ]
  },
  {
   "cell_type": "code",
   "execution_count": 5,
   "id": "1650acaf",
   "metadata": {
    "execution": {
     "iopub.execute_input": "2025-08-05T15:01:52.157311Z",
     "iopub.status.busy": "2025-08-05T15:01:52.157004Z",
     "iopub.status.idle": "2025-08-05T15:01:52.161765Z",
     "shell.execute_reply": "2025-08-05T15:01:52.160732Z"
    },
    "papermill": {
     "duration": 0.025547,
     "end_time": "2025-08-05T15:01:52.163465",
     "exception": false,
     "start_time": "2025-08-05T15:01:52.137918",
     "status": "completed"
    },
    "tags": []
   },
   "outputs": [],
   "source": [
    "import json\n",
    "if isinstance(universe, str):\n",
    "    universe = json.loads(universe)"
   ]
  },
  {
   "cell_type": "code",
   "execution_count": 6,
   "id": "16620c48",
   "metadata": {
    "execution": {
     "iopub.execute_input": "2025-08-05T15:01:52.202523Z",
     "iopub.status.busy": "2025-08-05T15:01:52.201902Z",
     "iopub.status.idle": "2025-08-05T15:01:52.245890Z",
     "shell.execute_reply": "2025-08-05T15:01:52.244940Z"
    },
    "papermill": {
     "duration": 0.065051,
     "end_time": "2025-08-05T15:01:52.247754",
     "exception": false,
     "start_time": "2025-08-05T15:01:52.182703",
     "status": "completed"
    },
    "tags": []
   },
   "outputs": [],
   "source": [
    "# Auto-reload the custom package\n",
    "%load_ext autoreload\n",
    "%autoreload 1\n",
    "%aimport fairness_multiverse"
   ]
  },
  {
   "cell_type": "code",
   "execution_count": 7,
   "id": "01c5c9f3",
   "metadata": {
    "execution": {
     "iopub.execute_input": "2025-08-05T15:01:52.286201Z",
     "iopub.status.busy": "2025-08-05T15:01:52.285390Z",
     "iopub.status.idle": "2025-08-05T15:01:54.219918Z",
     "shell.execute_reply": "2025-08-05T15:01:54.218908Z"
    },
    "papermill": {
     "duration": 1.955811,
     "end_time": "2025-08-05T15:01:54.222053",
     "exception": false,
     "start_time": "2025-08-05T15:01:52.266242",
     "status": "completed"
    },
    "tags": []
   },
   "outputs": [],
   "source": [
    "from fairness_multiverse.universe import UniverseAnalysis\n",
    "\n",
    "universe_analysis = UniverseAnalysis(\n",
    "    run_no = run_no,\n",
    "    universe_id = universe_id,\n",
    "    universe = universe,\n",
    "    output_dir=output_dir,\n",
    ")"
   ]
  },
  {
   "cell_type": "code",
   "execution_count": 8,
   "id": "106241f5",
   "metadata": {
    "execution": {
     "iopub.execute_input": "2025-08-05T15:01:54.259174Z",
     "iopub.status.busy": "2025-08-05T15:01:54.258290Z",
     "iopub.status.idle": "2025-08-05T15:01:54.265540Z",
     "shell.execute_reply": "2025-08-05T15:01:54.264412Z"
    },
    "papermill": {
     "duration": 0.027477,
     "end_time": "2025-08-05T15:01:54.267498",
     "exception": false,
     "start_time": "2025-08-05T15:01:54.240021",
     "status": "completed"
    },
    "tags": []
   },
   "outputs": [
    {
     "name": "stdout",
     "output_type": "stream",
     "text": [
      "Using Seed: 2023\n"
     ]
    }
   ],
   "source": [
    "import numpy as np\n",
    "parsed_seed = int(seed)\n",
    "np.random.seed(parsed_seed)\n",
    "print(f\"Using Seed: {parsed_seed}\")"
   ]
  },
  {
   "cell_type": "markdown",
   "id": "e0ebdc57",
   "metadata": {
    "papermill": {
     "duration": 0.018286,
     "end_time": "2025-08-05T15:01:54.305068",
     "exception": false,
     "start_time": "2025-08-05T15:01:54.286782",
     "status": "completed"
    },
    "tags": []
   },
   "source": [
    "# Loading Data"
   ]
  },
  {
   "cell_type": "code",
   "execution_count": 9,
   "id": "f0496b8a",
   "metadata": {
    "execution": {
     "iopub.execute_input": "2025-08-05T15:01:54.343649Z",
     "iopub.status.busy": "2025-08-05T15:01:54.343002Z",
     "iopub.status.idle": "2025-08-05T15:02:06.424185Z",
     "shell.execute_reply": "2025-08-05T15:02:06.423305Z"
    },
    "papermill": {
     "duration": 12.102058,
     "end_time": "2025-08-05T15:02:06.425550",
     "exception": false,
     "start_time": "2025-08-05T15:01:54.323492",
     "status": "completed"
    },
    "tags": []
   },
   "outputs": [
    {
     "name": "stdout",
     "output_type": "stream",
     "text": [
      "Loading SIAB data from cache: data/siab_cached.csv.gz\n"
     ]
    },
    {
     "name": "stdout",
     "output_type": "stream",
     "text": [
      "(643690, 164)\n"
     ]
    }
   ],
   "source": [
    "from pathlib import Path\n",
    "import pandas as pd\n",
    "\n",
    "# File paths\n",
    "raw_file = Path(\"data/raw/siab.csv\")\n",
    "cache_file = Path(\"data/siab_cached.csv.gz\")\n",
    "\n",
    "# Ensure cache directory exists\n",
    "cache_file.parent.mkdir(parents=True, exist_ok=True)\n",
    "\n",
    "# Load with simple caching\n",
    "if cache_file.exists():\n",
    "    print(f\"Loading SIAB data from cache: {cache_file}\")\n",
    "    siab = pd.read_csv(cache_file, compression='gzip')\n",
    "else:\n",
    "    print(f\"Cache not found. Reading raw SIAB data: {raw_file}\")\n",
    "    siab = pd.read_csv(raw_file)\n",
    "    siab.to_csv(cache_file, index=False, compression='gzip')\n",
    "    print(f\"Cached SIAB data to: {cache_file}\")\n",
    "\n",
    "print(siab.shape)"
   ]
  },
  {
   "cell_type": "code",
   "execution_count": 10,
   "id": "db0ca512-5f53-4dba-abdb-a2888bca41ba",
   "metadata": {
    "execution": {
     "iopub.execute_input": "2025-08-05T15:02:06.448676Z",
     "iopub.status.busy": "2025-08-05T15:02:06.448354Z",
     "iopub.status.idle": "2025-08-05T15:02:06.452734Z",
     "shell.execute_reply": "2025-08-05T15:02:06.451916Z"
    },
    "papermill": {
     "duration": 0.015821,
     "end_time": "2025-08-05T15:02:06.454048",
     "exception": false,
     "start_time": "2025-08-05T15:02:06.438227",
     "status": "completed"
    },
    "tags": []
   },
   "outputs": [],
   "source": [
    "#siab"
   ]
  },
  {
   "cell_type": "markdown",
   "id": "997051c5-15bd-4b69-9786-c3001a3ce484",
   "metadata": {
    "papermill": {
     "duration": 0.008478,
     "end_time": "2025-08-05T15:02:06.472562",
     "exception": false,
     "start_time": "2025-08-05T15:02:06.464084",
     "status": "completed"
    },
    "tags": []
   },
   "source": [
    "# Splitting Data and Setting Training Data Size"
   ]
  },
  {
   "cell_type": "code",
   "execution_count": 11,
   "id": "aea9c6ef-6f46-42c8-85eb-5a62025c1508",
   "metadata": {
    "execution": {
     "iopub.execute_input": "2025-08-05T15:02:06.490692Z",
     "iopub.status.busy": "2025-08-05T15:02:06.490207Z",
     "iopub.status.idle": "2025-08-05T15:02:07.071485Z",
     "shell.execute_reply": "2025-08-05T15:02:07.070719Z"
    },
    "papermill": {
     "duration": 0.592047,
     "end_time": "2025-08-05T15:02:07.072952",
     "exception": false,
     "start_time": "2025-08-05T15:02:06.480905",
     "status": "completed"
    },
    "tags": []
   },
   "outputs": [],
   "source": [
    "from fairness_multiverse.universe import sample_by_year_size\n",
    "\n",
    "siab_train = sample_by_year_size(siab,\n",
    "                               training_year=universe[\"training_year\"],\n",
    "                               training_size=universe[\"training_size\"])"
   ]
  },
  {
   "cell_type": "code",
   "execution_count": 12,
   "id": "8d3afb32-789d-442c-8d5d-9f5aa8dd2eed",
   "metadata": {
    "execution": {
     "iopub.execute_input": "2025-08-05T15:02:07.094238Z",
     "iopub.status.busy": "2025-08-05T15:02:07.093933Z",
     "iopub.status.idle": "2025-08-05T15:02:07.098045Z",
     "shell.execute_reply": "2025-08-05T15:02:07.097062Z"
    },
    "papermill": {
     "duration": 0.014607,
     "end_time": "2025-08-05T15:02:07.099302",
     "exception": false,
     "start_time": "2025-08-05T15:02:07.084695",
     "status": "completed"
    },
    "tags": []
   },
   "outputs": [],
   "source": [
    "#siab_train.shape"
   ]
  },
  {
   "cell_type": "code",
   "execution_count": 13,
   "id": "d582db68-1a4c-47fb-84fc-08518dc1975a",
   "metadata": {
    "execution": {
     "iopub.execute_input": "2025-08-05T15:02:07.118914Z",
     "iopub.status.busy": "2025-08-05T15:02:07.118440Z",
     "iopub.status.idle": "2025-08-05T15:02:07.122544Z",
     "shell.execute_reply": "2025-08-05T15:02:07.121683Z"
    },
    "papermill": {
     "duration": 0.015003,
     "end_time": "2025-08-05T15:02:07.123822",
     "exception": false,
     "start_time": "2025-08-05T15:02:07.108819",
     "status": "completed"
    },
    "tags": []
   },
   "outputs": [],
   "source": [
    "#display(siab_train.groupby(\"year\").size())"
   ]
  },
  {
   "cell_type": "code",
   "execution_count": 14,
   "id": "a561edb4-d032-42cb-8256-22eac1111c64",
   "metadata": {
    "execution": {
     "iopub.execute_input": "2025-08-05T15:02:07.143249Z",
     "iopub.status.busy": "2025-08-05T15:02:07.142774Z",
     "iopub.status.idle": "2025-08-05T15:02:07.350128Z",
     "shell.execute_reply": "2025-08-05T15:02:07.349352Z"
    },
    "papermill": {
     "duration": 0.218343,
     "end_time": "2025-08-05T15:02:07.351606",
     "exception": false,
     "start_time": "2025-08-05T15:02:07.133263",
     "status": "completed"
    },
    "tags": []
   },
   "outputs": [],
   "source": [
    "#siab_train = siab_s[siab_s.year < 2015]\n",
    "siab_calib = siab[siab.year == 2015]\n",
    "siab_test = siab[siab.year == 2016]"
   ]
  },
  {
   "cell_type": "code",
   "execution_count": 15,
   "id": "472de16f-c3db-4916-846b-1f0de9cf1746",
   "metadata": {
    "execution": {
     "iopub.execute_input": "2025-08-05T15:02:07.370681Z",
     "iopub.status.busy": "2025-08-05T15:02:07.370394Z",
     "iopub.status.idle": "2025-08-05T15:02:07.391557Z",
     "shell.execute_reply": "2025-08-05T15:02:07.390408Z"
    },
    "papermill": {
     "duration": 0.032023,
     "end_time": "2025-08-05T15:02:07.392999",
     "exception": false,
     "start_time": "2025-08-05T15:02:07.360976",
     "status": "completed"
    },
    "tags": []
   },
   "outputs": [],
   "source": [
    "X_train = siab_train.iloc[:,4:164]\n",
    "y_train = siab_train.iloc[:, [3]]"
   ]
  },
  {
   "cell_type": "code",
   "execution_count": 16,
   "id": "828c96af-f43a-4ed6-ba47-8ac73a47d56c",
   "metadata": {
    "execution": {
     "iopub.execute_input": "2025-08-05T15:02:07.413767Z",
     "iopub.status.busy": "2025-08-05T15:02:07.413101Z",
     "iopub.status.idle": "2025-08-05T15:02:07.486833Z",
     "shell.execute_reply": "2025-08-05T15:02:07.485735Z"
    },
    "papermill": {
     "duration": 0.084983,
     "end_time": "2025-08-05T15:02:07.488640",
     "exception": false,
     "start_time": "2025-08-05T15:02:07.403657",
     "status": "completed"
    },
    "tags": []
   },
   "outputs": [],
   "source": [
    "X_calib = siab_calib.iloc[:,4:164]\n",
    "y_calib = siab_calib.iloc[:, [3]]"
   ]
  },
  {
   "cell_type": "code",
   "execution_count": 17,
   "id": "c34be9c3-6bd6-476e-acd3-845840e303be",
   "metadata": {
    "execution": {
     "iopub.execute_input": "2025-08-05T15:02:07.527598Z",
     "iopub.status.busy": "2025-08-05T15:02:07.526744Z",
     "iopub.status.idle": "2025-08-05T15:02:07.581609Z",
     "shell.execute_reply": "2025-08-05T15:02:07.580535Z"
    },
    "papermill": {
     "duration": 0.076136,
     "end_time": "2025-08-05T15:02:07.583951",
     "exception": false,
     "start_time": "2025-08-05T15:02:07.507815",
     "status": "completed"
    },
    "tags": []
   },
   "outputs": [],
   "source": [
    "X_test = siab_test.iloc[:,4:164]\n",
    "y_true = siab_test.iloc[:, [3]]"
   ]
  },
  {
   "cell_type": "code",
   "execution_count": 18,
   "id": "e6c733c5",
   "metadata": {
    "execution": {
     "iopub.execute_input": "2025-08-05T15:02:07.620221Z",
     "iopub.status.busy": "2025-08-05T15:02:07.619465Z",
     "iopub.status.idle": "2025-08-05T15:02:07.722706Z",
     "shell.execute_reply": "2025-08-05T15:02:07.721572Z"
    },
    "papermill": {
     "duration": 0.120881,
     "end_time": "2025-08-05T15:02:07.724853",
     "exception": false,
     "start_time": "2025-08-05T15:02:07.603972",
     "status": "completed"
    },
    "tags": []
   },
   "outputs": [],
   "source": [
    "# Auxiliary data needed downstream in the pipeline\n",
    "\n",
    "org_train = X_train.copy()\n",
    "org_test = X_test.copy()\n",
    "org_calib = X_calib.copy()"
   ]
  },
  {
   "cell_type": "markdown",
   "id": "0a4a1b33",
   "metadata": {
    "papermill": {
     "duration": 0.019347,
     "end_time": "2025-08-05T15:02:07.764521",
     "exception": false,
     "start_time": "2025-08-05T15:02:07.745174",
     "status": "completed"
    },
    "tags": []
   },
   "source": [
    "# Preprocessing Data"
   ]
  },
  {
   "cell_type": "code",
   "execution_count": 19,
   "id": "ca879031",
   "metadata": {
    "execution": {
     "iopub.execute_input": "2025-08-05T15:02:07.803434Z",
     "iopub.status.busy": "2025-08-05T15:02:07.802358Z",
     "iopub.status.idle": "2025-08-05T15:02:07.808877Z",
     "shell.execute_reply": "2025-08-05T15:02:07.807862Z"
    },
    "papermill": {
     "duration": 0.027505,
     "end_time": "2025-08-05T15:02:07.810711",
     "exception": false,
     "start_time": "2025-08-05T15:02:07.783206",
     "status": "completed"
    },
    "tags": []
   },
   "outputs": [],
   "source": [
    "# EXCLUDE PROTECTED FEATURES\n",
    "# ----------------------\n",
    "# \"exclude_features\": \"none\", # \"nationality\", \"sex\", \"nationality-sex\"\n",
    "\n",
    "excluded_features = universe[\"exclude_features\"].split(\"-\") # split, e.g.: \"nationality-sex\" -> [\"nationality\", \"sex\"]\n",
    "excluded_features_dictionary = {\n",
    "    \"nationality\": [\"maxdeutsch1\", \"maxdeutsch.Missing.\"],\n",
    "    \"sex\": [\"frau1\"],\n",
    "    \"age\": [\"age\"],\n",
    "}"
   ]
  },
  {
   "cell_type": "code",
   "execution_count": 20,
   "id": "b745ac60",
   "metadata": {
    "execution": {
     "iopub.execute_input": "2025-08-05T15:02:07.832030Z",
     "iopub.status.busy": "2025-08-05T15:02:07.831693Z",
     "iopub.status.idle": "2025-08-05T15:02:07.836430Z",
     "shell.execute_reply": "2025-08-05T15:02:07.835399Z"
    },
    "papermill": {
     "duration": 0.016259,
     "end_time": "2025-08-05T15:02:07.837949",
     "exception": false,
     "start_time": "2025-08-05T15:02:07.821690",
     "status": "completed"
    },
    "tags": []
   },
   "outputs": [],
   "source": [
    "# Code nice names to column names\n",
    "\n",
    "excluded_features_columns = [\n",
    "    excluded_features_dictionary[f] for f in excluded_features if len(f) > 0 and f != \"none\"\n",
    "]"
   ]
  },
  {
   "cell_type": "code",
   "execution_count": 21,
   "id": "f84f73a2",
   "metadata": {
    "execution": {
     "iopub.execute_input": "2025-08-05T15:02:07.858856Z",
     "iopub.status.busy": "2025-08-05T15:02:07.858350Z",
     "iopub.status.idle": "2025-08-05T15:02:07.867895Z",
     "shell.execute_reply": "2025-08-05T15:02:07.867103Z"
    },
    "papermill": {
     "duration": 0.021401,
     "end_time": "2025-08-05T15:02:07.869238",
     "exception": false,
     "start_time": "2025-08-05T15:02:07.847837",
     "status": "completed"
    },
    "tags": []
   },
   "outputs": [],
   "source": [
    "from utils import flatten_once\n",
    "\n",
    "excluded_features_columns = flatten_once(excluded_features_columns)"
   ]
  },
  {
   "cell_type": "code",
   "execution_count": 22,
   "id": "884dea22",
   "metadata": {
    "execution": {
     "iopub.execute_input": "2025-08-05T15:02:07.889109Z",
     "iopub.status.busy": "2025-08-05T15:02:07.888436Z",
     "iopub.status.idle": "2025-08-05T15:02:07.902162Z",
     "shell.execute_reply": "2025-08-05T15:02:07.901065Z"
    },
    "papermill": {
     "duration": 0.024861,
     "end_time": "2025-08-05T15:02:07.903593",
     "exception": false,
     "start_time": "2025-08-05T15:02:07.878732",
     "status": "completed"
    },
    "tags": []
   },
   "outputs": [
    {
     "name": "stdout",
     "output_type": "stream",
     "text": [
      "Dropping features: ['age']\n"
     ]
    }
   ],
   "source": [
    "if len(excluded_features_columns) > 0:\n",
    "    print(f\"Dropping features: {excluded_features_columns}\")\n",
    "    X_train.drop(excluded_features_columns, axis=1, inplace=True)"
   ]
  },
  {
   "cell_type": "code",
   "execution_count": 23,
   "id": "95ab8b16",
   "metadata": {
    "execution": {
     "iopub.execute_input": "2025-08-05T15:02:07.924398Z",
     "iopub.status.busy": "2025-08-05T15:02:07.923731Z",
     "iopub.status.idle": "2025-08-05T15:02:07.972718Z",
     "shell.execute_reply": "2025-08-05T15:02:07.971739Z"
    },
    "papermill": {
     "duration": 0.060387,
     "end_time": "2025-08-05T15:02:07.974183",
     "exception": false,
     "start_time": "2025-08-05T15:02:07.913796",
     "status": "completed"
    },
    "tags": []
   },
   "outputs": [
    {
     "name": "stdout",
     "output_type": "stream",
     "text": [
      "Dropping features: ['age']\n"
     ]
    }
   ],
   "source": [
    "if len(excluded_features_columns) > 0:\n",
    "    print(f\"Dropping features: {excluded_features_columns}\")\n",
    "    X_test.drop(excluded_features_columns, axis=1, inplace=True)"
   ]
  },
  {
   "cell_type": "code",
   "execution_count": 24,
   "id": "1853aaf5-fb9f-46cb-a2b5-8ea4ae2237e4",
   "metadata": {
    "execution": {
     "iopub.execute_input": "2025-08-05T15:02:07.995266Z",
     "iopub.status.busy": "2025-08-05T15:02:07.994523Z",
     "iopub.status.idle": "2025-08-05T15:02:08.041376Z",
     "shell.execute_reply": "2025-08-05T15:02:08.040367Z"
    },
    "papermill": {
     "duration": 0.058134,
     "end_time": "2025-08-05T15:02:08.042902",
     "exception": false,
     "start_time": "2025-08-05T15:02:07.984768",
     "status": "completed"
    },
    "tags": []
   },
   "outputs": [
    {
     "name": "stdout",
     "output_type": "stream",
     "text": [
      "Dropping features: ['age']\n"
     ]
    }
   ],
   "source": [
    "if len(excluded_features_columns) > 0:\n",
    "    print(f\"Dropping features: {excluded_features_columns}\")\n",
    "    X_calib.drop(excluded_features_columns, axis=1, inplace=True)"
   ]
  },
  {
   "cell_type": "code",
   "execution_count": 25,
   "id": "76c4dc6d",
   "metadata": {
    "execution": {
     "iopub.execute_input": "2025-08-05T15:02:08.064321Z",
     "iopub.status.busy": "2025-08-05T15:02:08.063619Z",
     "iopub.status.idle": "2025-08-05T15:02:08.068074Z",
     "shell.execute_reply": "2025-08-05T15:02:08.067367Z"
    },
    "papermill": {
     "duration": 0.01579,
     "end_time": "2025-08-05T15:02:08.069482",
     "exception": false,
     "start_time": "2025-08-05T15:02:08.053692",
     "status": "completed"
    },
    "tags": []
   },
   "outputs": [],
   "source": [
    "# EXCLUDE CERTAIN SUBGROUPS\n",
    "# ----------------------\n",
    "\n",
    "mode = universe.get(\"exclude_subgroups\", \"keep-all\") \n",
    "# Fetches the exclude_subgroups setting from the universe dict.\n",
    "# Defaults to \"keep-all\" if the key is missing."
   ]
  },
  {
   "cell_type": "code",
   "execution_count": 26,
   "id": "21994072",
   "metadata": {
    "execution": {
     "iopub.execute_input": "2025-08-05T15:02:08.095383Z",
     "iopub.status.busy": "2025-08-05T15:02:08.094908Z",
     "iopub.status.idle": "2025-08-05T15:02:08.102139Z",
     "shell.execute_reply": "2025-08-05T15:02:08.100958Z"
    },
    "papermill": {
     "duration": 0.024439,
     "end_time": "2025-08-05T15:02:08.103923",
     "exception": false,
     "start_time": "2025-08-05T15:02:08.079484",
     "status": "completed"
    },
    "tags": []
   },
   "outputs": [],
   "source": [
    "if mode == \"keep-all\":\n",
    "    keep_mask = pd.Series(True, index=org_train.index)\n",
    "\n",
    "# org_train contains the original feature columns from features_org (in Simson)\n",
    "# features_org contains unprocessed features, for me X_train at beginning ???\n",
    "# For keep-all, creates a boolean Series (keep_mask) of all True, so no rows are removed.\n",
    "\n",
    "elif mode == \"drop-non-german\":\n",
    "    keep_mask = org_train[\"maxdeutsch1\"] == 1 # ??? what about missing values?\n",
    "\n",
    "else:\n",
    "    raise ValueError(f\"Unsupported mode for exclude_subgroups: {mode}\")"
   ]
  },
  {
   "cell_type": "code",
   "execution_count": 27,
   "id": "71651440",
   "metadata": {
    "execution": {
     "iopub.execute_input": "2025-08-05T15:02:08.124917Z",
     "iopub.status.busy": "2025-08-05T15:02:08.124529Z",
     "iopub.status.idle": "2025-08-05T15:02:08.130011Z",
     "shell.execute_reply": "2025-08-05T15:02:08.129142Z"
    },
    "papermill": {
     "duration": 0.016622,
     "end_time": "2025-08-05T15:02:08.131397",
     "exception": false,
     "start_time": "2025-08-05T15:02:08.114775",
     "status": "completed"
    },
    "tags": []
   },
   "outputs": [],
   "source": [
    "n_drop = (~keep_mask).sum() # Calculates how many rows are set to be dropped\n",
    "if n_drop > 0:\n",
    "    pct = n_drop / len(keep_mask) * 100\n",
    "    print(f\"Dropping {n_drop} rows ({pct:.2f}%) where mode='{mode}'\")"
   ]
  },
  {
   "cell_type": "code",
   "execution_count": 28,
   "id": "5fb8eee5",
   "metadata": {
    "execution": {
     "iopub.execute_input": "2025-08-05T15:02:08.173932Z",
     "iopub.status.busy": "2025-08-05T15:02:08.173424Z",
     "iopub.status.idle": "2025-08-05T15:02:08.188980Z",
     "shell.execute_reply": "2025-08-05T15:02:08.187836Z"
    },
    "papermill": {
     "duration": 0.038815,
     "end_time": "2025-08-05T15:02:08.191180",
     "exception": false,
     "start_time": "2025-08-05T15:02:08.152365",
     "status": "completed"
    },
    "tags": []
   },
   "outputs": [],
   "source": [
    "X_train = X_train[keep_mask]"
   ]
  },
  {
   "cell_type": "code",
   "execution_count": 29,
   "id": "b202bb3a",
   "metadata": {
    "execution": {
     "iopub.execute_input": "2025-08-05T15:02:08.234232Z",
     "iopub.status.busy": "2025-08-05T15:02:08.233871Z",
     "iopub.status.idle": "2025-08-05T15:02:08.240409Z",
     "shell.execute_reply": "2025-08-05T15:02:08.239437Z"
    },
    "papermill": {
     "duration": 0.029894,
     "end_time": "2025-08-05T15:02:08.242358",
     "exception": false,
     "start_time": "2025-08-05T15:02:08.212464",
     "status": "completed"
    },
    "tags": []
   },
   "outputs": [],
   "source": [
    "y_train = y_train[keep_mask]"
   ]
  },
  {
   "cell_type": "markdown",
   "id": "493e2ac3",
   "metadata": {
    "papermill": {
     "duration": 0.020264,
     "end_time": "2025-08-05T15:02:08.283186",
     "exception": false,
     "start_time": "2025-08-05T15:02:08.262922",
     "status": "completed"
    },
    "tags": []
   },
   "source": [
    "# Model Training"
   ]
  },
  {
   "cell_type": "code",
   "execution_count": 30,
   "id": "679e1268",
   "metadata": {
    "execution": {
     "iopub.execute_input": "2025-08-05T15:02:08.326479Z",
     "iopub.status.busy": "2025-08-05T15:02:08.325622Z",
     "iopub.status.idle": "2025-08-05T15:02:08.428956Z",
     "shell.execute_reply": "2025-08-05T15:02:08.427957Z"
    },
    "papermill": {
     "duration": 0.12721,
     "end_time": "2025-08-05T15:02:08.431011",
     "exception": false,
     "start_time": "2025-08-05T15:02:08.303801",
     "status": "completed"
    },
    "tags": []
   },
   "outputs": [],
   "source": [
    "from sklearn.linear_model import LogisticRegression\n",
    "from sklearn.ensemble import GradientBoostingClassifier, RandomForestClassifier\n",
    "\n",
    "if (universe[\"model\"] == \"logreg\"):\n",
    "    model = LogisticRegression() #penalty=\"none\", solver=\"newton-cg\", max_iter=1) # include random_state=19 ?\n",
    "elif (universe[\"model\"] == \"penalized_logreg\"):\n",
    "    model = LogisticRegression(penalty=\"l2\", C=0.1) #, solver=\"newton-cg\", max_iter=1)\n",
    "elif (universe[\"model\"] == \"rf\"):\n",
    "    model = RandomForestClassifier() # n_estimators=100, n_jobs=-1\n",
    "elif (universe[\"model\"] == \"gbm\"):\n",
    "    model = GradientBoostingClassifier()\n",
    "elif (universe[\"model\"] == \"elasticnet\"):\n",
    "    model = LogisticRegression(penalty = 'elasticnet', solver = 'saga', l1_ratio = 0.5) # max_iter=5000\n",
    "else:\n",
    "    raise \"Unsupported universe.model\""
   ]
  },
  {
   "cell_type": "code",
   "execution_count": 31,
   "id": "0cc8f744",
   "metadata": {
    "execution": {
     "iopub.execute_input": "2025-08-05T15:02:08.474161Z",
     "iopub.status.busy": "2025-08-05T15:02:08.473296Z",
     "iopub.status.idle": "2025-08-05T15:02:08.479761Z",
     "shell.execute_reply": "2025-08-05T15:02:08.478754Z"
    },
    "papermill": {
     "duration": 0.029595,
     "end_time": "2025-08-05T15:02:08.481662",
     "exception": false,
     "start_time": "2025-08-05T15:02:08.452067",
     "status": "completed"
    },
    "tags": []
   },
   "outputs": [],
   "source": [
    "import numpy as np\n",
    "from sklearn.pipeline import Pipeline\n",
    "from sklearn.preprocessing import StandardScaler\n",
    "\n",
    "model = Pipeline([\n",
    "    #(\"continuous_processor\", continuous_processor),\n",
    "    #(\"categorical_preprocessor\", categorical_preprocessor),\n",
    "    (\"scale\", StandardScaler() if universe[\"scale\"] == \"scale\" else None), \n",
    "    (\"model\", model),\n",
    "])"
   ]
  },
  {
   "cell_type": "code",
   "execution_count": 32,
   "id": "9442c04d",
   "metadata": {
    "execution": {
     "iopub.execute_input": "2025-08-05T15:02:08.524325Z",
     "iopub.status.busy": "2025-08-05T15:02:08.523613Z",
     "iopub.status.idle": "2025-08-05T15:02:34.513625Z",
     "shell.execute_reply": "2025-08-05T15:02:34.512518Z"
    },
    "papermill": {
     "duration": 26.012755,
     "end_time": "2025-08-05T15:02:34.515355",
     "exception": false,
     "start_time": "2025-08-05T15:02:08.502600",
     "status": "completed"
    },
    "tags": []
   },
   "outputs": [
    {
     "data": {
      "text/html": [
       "<style>#sk-container-id-1 {color: black;background-color: white;}#sk-container-id-1 pre{padding: 0;}#sk-container-id-1 div.sk-toggleable {background-color: white;}#sk-container-id-1 label.sk-toggleable__label {cursor: pointer;display: block;width: 100%;margin-bottom: 0;padding: 0.3em;box-sizing: border-box;text-align: center;}#sk-container-id-1 label.sk-toggleable__label-arrow:before {content: \"▸\";float: left;margin-right: 0.25em;color: #696969;}#sk-container-id-1 label.sk-toggleable__label-arrow:hover:before {color: black;}#sk-container-id-1 div.sk-estimator:hover label.sk-toggleable__label-arrow:before {color: black;}#sk-container-id-1 div.sk-toggleable__content {max-height: 0;max-width: 0;overflow: hidden;text-align: left;background-color: #f0f8ff;}#sk-container-id-1 div.sk-toggleable__content pre {margin: 0.2em;color: black;border-radius: 0.25em;background-color: #f0f8ff;}#sk-container-id-1 input.sk-toggleable__control:checked~div.sk-toggleable__content {max-height: 200px;max-width: 100%;overflow: auto;}#sk-container-id-1 input.sk-toggleable__control:checked~label.sk-toggleable__label-arrow:before {content: \"▾\";}#sk-container-id-1 div.sk-estimator input.sk-toggleable__control:checked~label.sk-toggleable__label {background-color: #d4ebff;}#sk-container-id-1 div.sk-label input.sk-toggleable__control:checked~label.sk-toggleable__label {background-color: #d4ebff;}#sk-container-id-1 input.sk-hidden--visually {border: 0;clip: rect(1px 1px 1px 1px);clip: rect(1px, 1px, 1px, 1px);height: 1px;margin: -1px;overflow: hidden;padding: 0;position: absolute;width: 1px;}#sk-container-id-1 div.sk-estimator {font-family: monospace;background-color: #f0f8ff;border: 1px dotted black;border-radius: 0.25em;box-sizing: border-box;margin-bottom: 0.5em;}#sk-container-id-1 div.sk-estimator:hover {background-color: #d4ebff;}#sk-container-id-1 div.sk-parallel-item::after {content: \"\";width: 100%;border-bottom: 1px solid gray;flex-grow: 1;}#sk-container-id-1 div.sk-label:hover label.sk-toggleable__label {background-color: #d4ebff;}#sk-container-id-1 div.sk-serial::before {content: \"\";position: absolute;border-left: 1px solid gray;box-sizing: border-box;top: 0;bottom: 0;left: 50%;z-index: 0;}#sk-container-id-1 div.sk-serial {display: flex;flex-direction: column;align-items: center;background-color: white;padding-right: 0.2em;padding-left: 0.2em;position: relative;}#sk-container-id-1 div.sk-item {position: relative;z-index: 1;}#sk-container-id-1 div.sk-parallel {display: flex;align-items: stretch;justify-content: center;background-color: white;position: relative;}#sk-container-id-1 div.sk-item::before, #sk-container-id-1 div.sk-parallel-item::before {content: \"\";position: absolute;border-left: 1px solid gray;box-sizing: border-box;top: 0;bottom: 0;left: 50%;z-index: -1;}#sk-container-id-1 div.sk-parallel-item {display: flex;flex-direction: column;z-index: 1;position: relative;background-color: white;}#sk-container-id-1 div.sk-parallel-item:first-child::after {align-self: flex-end;width: 50%;}#sk-container-id-1 div.sk-parallel-item:last-child::after {align-self: flex-start;width: 50%;}#sk-container-id-1 div.sk-parallel-item:only-child::after {width: 0;}#sk-container-id-1 div.sk-dashed-wrapped {border: 1px dashed gray;margin: 0 0.4em 0.5em 0.4em;box-sizing: border-box;padding-bottom: 0.4em;background-color: white;}#sk-container-id-1 div.sk-label label {font-family: monospace;font-weight: bold;display: inline-block;line-height: 1.2em;}#sk-container-id-1 div.sk-label-container {text-align: center;}#sk-container-id-1 div.sk-container {/* jupyter's `normalize.less` sets `[hidden] { display: none; }` but bootstrap.min.css set `[hidden] { display: none !important; }` so we also need the `!important` here to be able to override the default hidden behavior on the sphinx rendered scikit-learn.org. See: https://github.com/scikit-learn/scikit-learn/issues/21755 */display: inline-block !important;position: relative;}#sk-container-id-1 div.sk-text-repr-fallback {display: none;}</style><div id=\"sk-container-id-1\" class=\"sk-top-container\"><div class=\"sk-text-repr-fallback\"><pre>Pipeline(steps=[(&#x27;scale&#x27;, None), (&#x27;model&#x27;, GradientBoostingClassifier())])</pre><b>In a Jupyter environment, please rerun this cell to show the HTML representation or trust the notebook. <br />On GitHub, the HTML representation is unable to render, please try loading this page with nbviewer.org.</b></div><div class=\"sk-container\" hidden><div class=\"sk-item sk-dashed-wrapped\"><div class=\"sk-label-container\"><div class=\"sk-label sk-toggleable\"><input class=\"sk-toggleable__control sk-hidden--visually\" id=\"sk-estimator-id-1\" type=\"checkbox\" ><label for=\"sk-estimator-id-1\" class=\"sk-toggleable__label sk-toggleable__label-arrow\">Pipeline</label><div class=\"sk-toggleable__content\"><pre>Pipeline(steps=[(&#x27;scale&#x27;, None), (&#x27;model&#x27;, GradientBoostingClassifier())])</pre></div></div></div><div class=\"sk-serial\"><div class=\"sk-item\"><div class=\"sk-estimator sk-toggleable\"><input class=\"sk-toggleable__control sk-hidden--visually\" id=\"sk-estimator-id-2\" type=\"checkbox\" ><label for=\"sk-estimator-id-2\" class=\"sk-toggleable__label sk-toggleable__label-arrow\">None</label><div class=\"sk-toggleable__content\"><pre>None</pre></div></div></div><div class=\"sk-item\"><div class=\"sk-estimator sk-toggleable\"><input class=\"sk-toggleable__control sk-hidden--visually\" id=\"sk-estimator-id-3\" type=\"checkbox\" ><label for=\"sk-estimator-id-3\" class=\"sk-toggleable__label sk-toggleable__label-arrow\">GradientBoostingClassifier</label><div class=\"sk-toggleable__content\"><pre>GradientBoostingClassifier()</pre></div></div></div></div></div></div></div>"
      ],
      "text/plain": [
       "Pipeline(steps=[('scale', None), ('model', GradientBoostingClassifier())])"
      ]
     },
     "execution_count": 32,
     "metadata": {},
     "output_type": "execute_result"
    }
   ],
   "source": [
    "model.fit(X_train, y_train.values.ravel())"
   ]
  },
  {
   "cell_type": "code",
   "execution_count": 33,
   "id": "af59f8c0",
   "metadata": {
    "execution": {
     "iopub.execute_input": "2025-08-05T15:02:34.559233Z",
     "iopub.status.busy": "2025-08-05T15:02:34.558353Z",
     "iopub.status.idle": "2025-08-05T15:02:34.564937Z",
     "shell.execute_reply": "2025-08-05T15:02:34.563791Z"
    },
    "papermill": {
     "duration": 0.029117,
     "end_time": "2025-08-05T15:02:34.567003",
     "exception": false,
     "start_time": "2025-08-05T15:02:34.537886",
     "status": "completed"
    },
    "tags": []
   },
   "outputs": [],
   "source": [
    "from fairness_multiverse.universe import predict_w_threshold"
   ]
  },
  {
   "cell_type": "code",
   "execution_count": 34,
   "id": "a7cf2e16",
   "metadata": {
    "execution": {
     "iopub.execute_input": "2025-08-05T15:02:34.608629Z",
     "iopub.status.busy": "2025-08-05T15:02:34.607794Z",
     "iopub.status.idle": "2025-08-05T15:02:35.260189Z",
     "shell.execute_reply": "2025-08-05T15:02:35.259214Z"
    },
    "papermill": {
     "duration": 0.674854,
     "end_time": "2025-08-05T15:02:35.261998",
     "exception": false,
     "start_time": "2025-08-05T15:02:34.587144",
     "status": "completed"
    },
    "tags": []
   },
   "outputs": [
    {
     "data": {
      "text/plain": [
       "0.86729461598484"
      ]
     },
     "execution_count": 34,
     "metadata": {},
     "output_type": "execute_result"
    }
   ],
   "source": [
    "probs_test = model.predict_proba(X_test)\n",
    "\n",
    "'''\n",
    "Below code returns a boolean array (or binary 0/1 array depending on how it’s used) where each element \n",
    "is True if the probability of class 1 is greater than or equal to the threshold, and False otherwise.\n",
    "'''\n",
    "y_pred_default = predict_w_threshold(probs_test, 0.5)\n",
    "\n",
    "from sklearn.metrics import accuracy_score\n",
    "\n",
    "# Naive prediction\n",
    "accuracy_score(y_true = y_true, y_pred = y_pred_default)"
   ]
  },
  {
   "cell_type": "code",
   "execution_count": 35,
   "id": "081964c3",
   "metadata": {
    "execution": {
     "iopub.execute_input": "2025-08-05T15:02:35.303486Z",
     "iopub.status.busy": "2025-08-05T15:02:35.302474Z",
     "iopub.status.idle": "2025-08-05T15:02:35.907288Z",
     "shell.execute_reply": "2025-08-05T15:02:35.906324Z"
    },
    "papermill": {
     "duration": 0.626231,
     "end_time": "2025-08-05T15:02:35.908972",
     "exception": false,
     "start_time": "2025-08-05T15:02:35.282741",
     "status": "completed"
    },
    "tags": []
   },
   "outputs": [
    {
     "data": {
      "text/plain": [
       "array([0, 0, 0, ..., 0, 0, 0])"
      ]
     },
     "execution_count": 35,
     "metadata": {},
     "output_type": "execute_result"
    }
   ],
   "source": [
    "model.predict(X_test)"
   ]
  },
  {
   "cell_type": "markdown",
   "id": "56c9705b",
   "metadata": {
    "papermill": {
     "duration": 0.018681,
     "end_time": "2025-08-05T15:02:35.948413",
     "exception": false,
     "start_time": "2025-08-05T15:02:35.929732",
     "status": "completed"
    },
    "tags": []
   },
   "source": [
    "# Conformal Prediction"
   ]
  },
  {
   "cell_type": "code",
   "execution_count": 36,
   "id": "160ec6ff",
   "metadata": {
    "execution": {
     "iopub.execute_input": "2025-08-05T15:02:35.988923Z",
     "iopub.status.busy": "2025-08-05T15:02:35.988432Z",
     "iopub.status.idle": "2025-08-05T15:02:35.993475Z",
     "shell.execute_reply": "2025-08-05T15:02:35.992479Z"
    },
    "papermill": {
     "duration": 0.027132,
     "end_time": "2025-08-05T15:02:35.995273",
     "exception": false,
     "start_time": "2025-08-05T15:02:35.968141",
     "status": "completed"
    },
    "tags": []
   },
   "outputs": [],
   "source": [
    "# Miscoverage level for conformal prediction (10% allowed error rate => 90% target coverage)\n",
    "alpha = 0.1"
   ]
  },
  {
   "cell_type": "code",
   "execution_count": 37,
   "id": "eadf4555-3dd3-440e-8e35-f82a4ad9f855",
   "metadata": {
    "execution": {
     "iopub.execute_input": "2025-08-05T15:02:36.036519Z",
     "iopub.status.busy": "2025-08-05T15:02:36.035848Z",
     "iopub.status.idle": "2025-08-05T15:02:36.599390Z",
     "shell.execute_reply": "2025-08-05T15:02:36.598289Z"
    },
    "papermill": {
     "duration": 0.586356,
     "end_time": "2025-08-05T15:02:36.601388",
     "exception": false,
     "start_time": "2025-08-05T15:02:36.015032",
     "status": "completed"
    },
    "tags": []
   },
   "outputs": [],
   "source": [
    "probs_calib = model.predict_proba(X_calib)"
   ]
  },
  {
   "cell_type": "code",
   "execution_count": 38,
   "id": "2ed93547-6d5d-4983-9b36-1ecb300da49a",
   "metadata": {
    "execution": {
     "iopub.execute_input": "2025-08-05T15:02:36.643100Z",
     "iopub.status.busy": "2025-08-05T15:02:36.642463Z",
     "iopub.status.idle": "2025-08-05T15:02:36.648371Z",
     "shell.execute_reply": "2025-08-05T15:02:36.647294Z"
    },
    "papermill": {
     "duration": 0.028162,
     "end_time": "2025-08-05T15:02:36.650155",
     "exception": false,
     "start_time": "2025-08-05T15:02:36.621993",
     "status": "completed"
    },
    "tags": []
   },
   "outputs": [],
   "source": [
    "y_calib = y_calib.values.ravel().astype(int)"
   ]
  },
  {
   "cell_type": "code",
   "execution_count": 39,
   "id": "65d1320d-f588-4b38-9072-62af1ae97f7d",
   "metadata": {
    "execution": {
     "iopub.execute_input": "2025-08-05T15:02:36.691552Z",
     "iopub.status.busy": "2025-08-05T15:02:36.690936Z",
     "iopub.status.idle": "2025-08-05T15:02:36.698695Z",
     "shell.execute_reply": "2025-08-05T15:02:36.697559Z"
    },
    "papermill": {
     "duration": 0.029613,
     "end_time": "2025-08-05T15:02:36.700363",
     "exception": false,
     "start_time": "2025-08-05T15:02:36.670750",
     "status": "completed"
    },
    "tags": []
   },
   "outputs": [],
   "source": [
    "from fairness_multiverse.conformal import compute_nc_scores\n",
    "\n",
    "# Compute nonconformity scores on calibration set (1 - probability of true class)\n",
    "nc_scores = compute_nc_scores(probs_calib, y_calib)"
   ]
  },
  {
   "cell_type": "code",
   "execution_count": 40,
   "id": "df3b8ca3-53b7-43d5-9667-7c85da7aeda2",
   "metadata": {
    "execution": {
     "iopub.execute_input": "2025-08-05T15:02:36.741548Z",
     "iopub.status.busy": "2025-08-05T15:02:36.740772Z",
     "iopub.status.idle": "2025-08-05T15:02:36.748057Z",
     "shell.execute_reply": "2025-08-05T15:02:36.747021Z"
    },
    "papermill": {
     "duration": 0.029363,
     "end_time": "2025-08-05T15:02:36.749734",
     "exception": false,
     "start_time": "2025-08-05T15:02:36.720371",
     "status": "completed"
    },
    "tags": []
   },
   "outputs": [],
   "source": [
    "from fairness_multiverse.conformal import find_threshold\n",
    "\n",
    "# Find conformal threshold q_hat for the given alpha (split conformal method)\n",
    "q_hat = find_threshold(nc_scores, alpha)"
   ]
  },
  {
   "cell_type": "code",
   "execution_count": 41,
   "id": "4d29e6c1-0ef6-4aa4-b8fe-4fe79b0d033a",
   "metadata": {
    "execution": {
     "iopub.execute_input": "2025-08-05T15:02:36.792311Z",
     "iopub.status.busy": "2025-08-05T15:02:36.791414Z",
     "iopub.status.idle": "2025-08-05T15:02:36.800753Z",
     "shell.execute_reply": "2025-08-05T15:02:36.799731Z"
    },
    "papermill": {
     "duration": 0.031799,
     "end_time": "2025-08-05T15:02:36.802518",
     "exception": false,
     "start_time": "2025-08-05T15:02:36.770719",
     "status": "completed"
    },
    "tags": []
   },
   "outputs": [
    {
     "data": {
      "text/plain": [
       "0.67543722358496"
      ]
     },
     "execution_count": 41,
     "metadata": {},
     "output_type": "execute_result"
    }
   ],
   "source": [
    "q_hat"
   ]
  },
  {
   "cell_type": "code",
   "execution_count": 42,
   "id": "92460794-cdac-4be2-ba28-f28c0515a6fb",
   "metadata": {
    "execution": {
     "iopub.execute_input": "2025-08-05T15:02:36.844863Z",
     "iopub.status.busy": "2025-08-05T15:02:36.844059Z",
     "iopub.status.idle": "2025-08-05T15:02:38.163865Z",
     "shell.execute_reply": "2025-08-05T15:02:38.162876Z"
    },
    "papermill": {
     "duration": 1.342747,
     "end_time": "2025-08-05T15:02:38.165894",
     "exception": false,
     "start_time": "2025-08-05T15:02:36.823147",
     "status": "completed"
    },
    "tags": []
   },
   "outputs": [],
   "source": [
    "from fairness_multiverse.conformal import predict_conformal_sets\n",
    "\n",
    "# Generate prediction sets for each test example\n",
    "pred_sets = predict_conformal_sets(model, X_test, q_hat)"
   ]
  },
  {
   "cell_type": "code",
   "execution_count": 43,
   "id": "d90c9a65-e6db-4f5d-80cd-e68fb7e46829",
   "metadata": {
    "execution": {
     "iopub.execute_input": "2025-08-05T15:02:38.212158Z",
     "iopub.status.busy": "2025-08-05T15:02:38.211648Z",
     "iopub.status.idle": "2025-08-05T15:02:38.218586Z",
     "shell.execute_reply": "2025-08-05T15:02:38.217435Z"
    },
    "papermill": {
     "duration": 0.031118,
     "end_time": "2025-08-05T15:02:38.220576",
     "exception": false,
     "start_time": "2025-08-05T15:02:38.189458",
     "status": "completed"
    },
    "tags": []
   },
   "outputs": [],
   "source": [
    "y_true = y_true.squeeze()"
   ]
  },
  {
   "cell_type": "code",
   "execution_count": 44,
   "id": "3a58a54a-1e68-46b9-927a-df01f18aebc8",
   "metadata": {
    "execution": {
     "iopub.execute_input": "2025-08-05T15:02:38.264913Z",
     "iopub.status.busy": "2025-08-05T15:02:38.264204Z",
     "iopub.status.idle": "2025-08-05T15:02:39.797860Z",
     "shell.execute_reply": "2025-08-05T15:02:39.796855Z"
    },
    "papermill": {
     "duration": 1.557676,
     "end_time": "2025-08-05T15:02:39.799714",
     "exception": false,
     "start_time": "2025-08-05T15:02:38.242038",
     "status": "completed"
    },
    "tags": []
   },
   "outputs": [],
   "source": [
    "from fairness_multiverse.conformal import evaluate_sets\n",
    "\n",
    "# Evaluate coverage and average set size on test data\n",
    "metrics = evaluate_sets(pred_sets, y_true)"
   ]
  },
  {
   "cell_type": "markdown",
   "id": "2b569c12-9aaa-4c88-98c9-bbcd0cf3ebb8",
   "metadata": {
    "papermill": {
     "duration": 0.021459,
     "end_time": "2025-08-05T15:02:39.842561",
     "exception": false,
     "start_time": "2025-08-05T15:02:39.821102",
     "status": "completed"
    },
    "tags": []
   },
   "source": [
    "# CP Metrics"
   ]
  },
  {
   "cell_type": "code",
   "execution_count": 45,
   "id": "5ce0a5cb-201f-45a0-ade5-94c7f0bd6095",
   "metadata": {
    "execution": {
     "iopub.execute_input": "2025-08-05T15:02:39.886627Z",
     "iopub.status.busy": "2025-08-05T15:02:39.885885Z",
     "iopub.status.idle": "2025-08-05T15:02:39.894157Z",
     "shell.execute_reply": "2025-08-05T15:02:39.892912Z"
    },
    "papermill": {
     "duration": 0.032035,
     "end_time": "2025-08-05T15:02:39.895956",
     "exception": false,
     "start_time": "2025-08-05T15:02:39.863921",
     "status": "completed"
    },
    "tags": []
   },
   "outputs": [
    {
     "data": {
      "text/plain": [
       "{'coverage': 0.9116374986066214, 'avg_size': 1.122227176457474}"
      ]
     },
     "execution_count": 45,
     "metadata": {},
     "output_type": "execute_result"
    }
   ],
   "source": [
    "metrics"
   ]
  },
  {
   "cell_type": "code",
   "execution_count": 46,
   "id": "9b9a838d-31c9-430b-ae14-12baee460d17",
   "metadata": {
    "execution": {
     "iopub.execute_input": "2025-08-05T15:02:39.941583Z",
     "iopub.status.busy": "2025-08-05T15:02:39.940872Z",
     "iopub.status.idle": "2025-08-05T15:02:39.947562Z",
     "shell.execute_reply": "2025-08-05T15:02:39.946420Z"
    },
    "papermill": {
     "duration": 0.031513,
     "end_time": "2025-08-05T15:02:39.949550",
     "exception": false,
     "start_time": "2025-08-05T15:02:39.918037",
     "status": "completed"
    },
    "tags": []
   },
   "outputs": [],
   "source": [
    "example_universe = universe.copy()\n",
    "universe_training_year = example_universe.get(\"training_year\")\n",
    "universe_training_size = example_universe.get(\"training_size\")\n",
    "universe_scale = example_universe.get(\"scale\")\n",
    "universe_model = example_universe.get(\"model\")\n",
    "universe_exclude_features = example_universe.get(\"exclude_features\")\n",
    "universe_exclude_subgroups = example_universe.get(\"exclude_subgroups\")"
   ]
  },
  {
   "cell_type": "code",
   "execution_count": 47,
   "id": "f4b6a8ac-9dc0-4245-8a91-5b3b5999c4f9",
   "metadata": {
    "execution": {
     "iopub.execute_input": "2025-08-05T15:02:39.995589Z",
     "iopub.status.busy": "2025-08-05T15:02:39.994870Z",
     "iopub.status.idle": "2025-08-05T15:02:40.001662Z",
     "shell.execute_reply": "2025-08-05T15:02:40.000535Z"
    },
    "papermill": {
     "duration": 0.031112,
     "end_time": "2025-08-05T15:02:40.003300",
     "exception": false,
     "start_time": "2025-08-05T15:02:39.972188",
     "status": "completed"
    },
    "tags": []
   },
   "outputs": [],
   "source": [
    "cp_metrics_dict = {\n",
    "    \"universe_id\": [universe_id],\n",
    "    \"universe_training_year\": [universe_training_year],\n",
    "    \"universe_training_size\": [universe_training_size],\n",
    "    \"universe_scale\": [universe_scale],\n",
    "    \"universe_model\": [universe_model],\n",
    "    \"universe_exclude_features\": [universe_exclude_features],\n",
    "    \"universe_exclude_subgroups\": [universe_exclude_subgroups],\n",
    "    \"q_hat\": [q_hat],\n",
    "    \"coverage\": [metrics[\"coverage\"]],\n",
    "    \"avg_size\": [metrics[\"avg_size\"]],\n",
    "}"
   ]
  },
  {
   "cell_type": "code",
   "execution_count": 48,
   "id": "908acbb1-0371-4915-85ca-3fa520d2efe2",
   "metadata": {
    "execution": {
     "iopub.execute_input": "2025-08-05T15:02:40.048371Z",
     "iopub.status.busy": "2025-08-05T15:02:40.047644Z",
     "iopub.status.idle": "2025-08-05T15:02:40.055476Z",
     "shell.execute_reply": "2025-08-05T15:02:40.054394Z"
    },
    "papermill": {
     "duration": 0.032289,
     "end_time": "2025-08-05T15:02:40.057307",
     "exception": false,
     "start_time": "2025-08-05T15:02:40.025018",
     "status": "completed"
    },
    "tags": []
   },
   "outputs": [
    {
     "data": {
      "text/plain": [
       "{'universe_id': ['83aad6861c8382ef57c243336ba06236'],\n",
       " 'universe_training_year': ['2012_14'],\n",
       " 'universe_training_size': ['25k'],\n",
       " 'universe_scale': ['do-not-scale'],\n",
       " 'universe_model': ['gbm'],\n",
       " 'universe_exclude_features': ['age'],\n",
       " 'universe_exclude_subgroups': ['keep-all'],\n",
       " 'q_hat': [0.67543722358496],\n",
       " 'coverage': [0.9116374986066214],\n",
       " 'avg_size': [1.122227176457474]}"
      ]
     },
     "execution_count": 48,
     "metadata": {},
     "output_type": "execute_result"
    }
   ],
   "source": [
    "cp_metrics_dict"
   ]
  },
  {
   "cell_type": "code",
   "execution_count": 49,
   "id": "33007efc-14e9-4ec6-97ac-56a455c82265",
   "metadata": {
    "execution": {
     "iopub.execute_input": "2025-08-05T15:02:40.106960Z",
     "iopub.status.busy": "2025-08-05T15:02:40.106298Z",
     "iopub.status.idle": "2025-08-05T15:02:40.113378Z",
     "shell.execute_reply": "2025-08-05T15:02:40.112355Z"
    },
    "papermill": {
     "duration": 0.033861,
     "end_time": "2025-08-05T15:02:40.115200",
     "exception": false,
     "start_time": "2025-08-05T15:02:40.081339",
     "status": "completed"
    },
    "tags": []
   },
   "outputs": [],
   "source": [
    "cp_metrics_df = pd.DataFrame(cp_metrics_dict)"
   ]
  },
  {
   "cell_type": "code",
   "execution_count": 50,
   "id": "db12611b-57b2-4910-b9d0-355adfd6e7bf",
   "metadata": {
    "execution": {
     "iopub.execute_input": "2025-08-05T15:02:40.164757Z",
     "iopub.status.busy": "2025-08-05T15:02:40.163777Z",
     "iopub.status.idle": "2025-08-05T15:02:40.183255Z",
     "shell.execute_reply": "2025-08-05T15:02:40.182262Z"
    },
    "papermill": {
     "duration": 0.045918,
     "end_time": "2025-08-05T15:02:40.185030",
     "exception": false,
     "start_time": "2025-08-05T15:02:40.139112",
     "status": "completed"
    },
    "tags": []
   },
   "outputs": [
    {
     "data": {
      "text/html": [
       "<div>\n",
       "<style scoped>\n",
       "    .dataframe tbody tr th:only-of-type {\n",
       "        vertical-align: middle;\n",
       "    }\n",
       "\n",
       "    .dataframe tbody tr th {\n",
       "        vertical-align: top;\n",
       "    }\n",
       "\n",
       "    .dataframe thead th {\n",
       "        text-align: right;\n",
       "    }\n",
       "</style>\n",
       "<table border=\"1\" class=\"dataframe\">\n",
       "  <thead>\n",
       "    <tr style=\"text-align: right;\">\n",
       "      <th></th>\n",
       "      <th>universe_id</th>\n",
       "      <th>universe_training_year</th>\n",
       "      <th>universe_training_size</th>\n",
       "      <th>universe_scale</th>\n",
       "      <th>universe_model</th>\n",
       "      <th>universe_exclude_features</th>\n",
       "      <th>universe_exclude_subgroups</th>\n",
       "      <th>q_hat</th>\n",
       "      <th>coverage</th>\n",
       "      <th>avg_size</th>\n",
       "    </tr>\n",
       "  </thead>\n",
       "  <tbody>\n",
       "    <tr>\n",
       "      <th>0</th>\n",
       "      <td>83aad6861c8382ef57c243336ba06236</td>\n",
       "      <td>2012_14</td>\n",
       "      <td>25k</td>\n",
       "      <td>do-not-scale</td>\n",
       "      <td>gbm</td>\n",
       "      <td>age</td>\n",
       "      <td>keep-all</td>\n",
       "      <td>0.675437</td>\n",
       "      <td>0.911637</td>\n",
       "      <td>1.122227</td>\n",
       "    </tr>\n",
       "  </tbody>\n",
       "</table>\n",
       "</div>"
      ],
      "text/plain": [
       "                        universe_id universe_training_year  \\\n",
       "0  83aad6861c8382ef57c243336ba06236                2012_14   \n",
       "\n",
       "  universe_training_size universe_scale universe_model  \\\n",
       "0                    25k   do-not-scale            gbm   \n",
       "\n",
       "  universe_exclude_features universe_exclude_subgroups     q_hat  coverage  \\\n",
       "0                       age                   keep-all  0.675437  0.911637   \n",
       "\n",
       "   avg_size  \n",
       "0  1.122227  "
      ]
     },
     "execution_count": 50,
     "metadata": {},
     "output_type": "execute_result"
    }
   ],
   "source": [
    "cp_metrics_df"
   ]
  },
  {
   "cell_type": "code",
   "execution_count": 51,
   "id": "b7fbde55-a0a1-47e4-9af6-fe4a17fa8c61",
   "metadata": {
    "execution": {
     "iopub.execute_input": "2025-08-05T15:02:40.238363Z",
     "iopub.status.busy": "2025-08-05T15:02:40.237955Z",
     "iopub.status.idle": "2025-08-05T15:02:40.243154Z",
     "shell.execute_reply": "2025-08-05T15:02:40.242047Z"
    },
    "papermill": {
     "duration": 0.036151,
     "end_time": "2025-08-05T15:02:40.245142",
     "exception": false,
     "start_time": "2025-08-05T15:02:40.208991",
     "status": "completed"
    },
    "tags": []
   },
   "outputs": [],
   "source": [
    "# Conditional Coverage & looking at subgroups"
   ]
  },
  {
   "cell_type": "code",
   "execution_count": 52,
   "id": "027ae886-68dd-4141-96c7-805a5450e1ef",
   "metadata": {
    "execution": {
     "iopub.execute_input": "2025-08-05T15:02:40.297108Z",
     "iopub.status.busy": "2025-08-05T15:02:40.296295Z",
     "iopub.status.idle": "2025-08-05T15:02:40.578578Z",
     "shell.execute_reply": "2025-08-05T15:02:40.577495Z"
    },
    "papermill": {
     "duration": 0.310379,
     "end_time": "2025-08-05T15:02:40.580747",
     "exception": false,
     "start_time": "2025-08-05T15:02:40.270368",
     "status": "completed"
    },
    "tags": []
   },
   "outputs": [],
   "source": [
    "from fairness_multiverse.conformal import build_cp_groups\n",
    "\n",
    "cp_groups_df = build_cp_groups(pred_sets, y_true, X_test.index, org_test)\n",
    "#needs universe_id and setting"
   ]
  },
  {
   "cell_type": "code",
   "execution_count": 53,
   "id": "6cbdab96-b2b2-45af-ad54-d0516db2e28d",
   "metadata": {
    "execution": {
     "iopub.execute_input": "2025-08-05T15:02:40.630073Z",
     "iopub.status.busy": "2025-08-05T15:02:40.629657Z",
     "iopub.status.idle": "2025-08-05T15:02:42.573975Z",
     "shell.execute_reply": "2025-08-05T15:02:42.572374Z"
    },
    "papermill": {
     "duration": 1.971334,
     "end_time": "2025-08-05T15:02:42.576196",
     "exception": false,
     "start_time": "2025-08-05T15:02:40.604862",
     "status": "completed"
    },
    "tags": []
   },
   "outputs": [],
   "source": [
    "# Define covered = 1 if true_label is in the predicted set\n",
    "cp_groups_df['covered'] = cp_groups_df.apply(\n",
    "    lambda r: int(r['true_label'] in r['pred_set']),\n",
    "    axis=1\n",
    ")"
   ]
  },
  {
   "cell_type": "code",
   "execution_count": 54,
   "id": "338ff529-1a6b-4b87-a931-8e4788d52aad",
   "metadata": {
    "execution": {
     "iopub.execute_input": "2025-08-05T15:02:42.631138Z",
     "iopub.status.busy": "2025-08-05T15:02:42.630429Z",
     "iopub.status.idle": "2025-08-05T15:02:42.637645Z",
     "shell.execute_reply": "2025-08-05T15:02:42.636407Z"
    },
    "papermill": {
     "duration": 0.035946,
     "end_time": "2025-08-05T15:02:42.639890",
     "exception": false,
     "start_time": "2025-08-05T15:02:42.603944",
     "status": "completed"
    },
    "tags": []
   },
   "outputs": [],
   "source": [
    "#cp_groups_df"
   ]
  },
  {
   "cell_type": "code",
   "execution_count": 55,
   "id": "90032e27-66df-4540-9169-4e89cfbaa758",
   "metadata": {
    "execution": {
     "iopub.execute_input": "2025-08-05T15:02:42.693672Z",
     "iopub.status.busy": "2025-08-05T15:02:42.692686Z",
     "iopub.status.idle": "2025-08-05T15:02:42.709294Z",
     "shell.execute_reply": "2025-08-05T15:02:42.708157Z"
    },
    "papermill": {
     "duration": 0.045899,
     "end_time": "2025-08-05T15:02:42.711366",
     "exception": false,
     "start_time": "2025-08-05T15:02:42.665467",
     "status": "completed"
    },
    "tags": []
   },
   "outputs": [],
   "source": [
    "subgroups = ['frau1','nongerman','nongerman_male','nongerman_female']\n",
    "\n",
    "# Conditional coverage for subgroup==1\n",
    "cond_coverage = {\n",
    "    g: cp_groups_df.loc[cp_groups_df[g]==1, 'covered'].mean()\n",
    "    for g in subgroups\n",
    "}"
   ]
  },
  {
   "cell_type": "code",
   "execution_count": 56,
   "id": "1e348fb1-b9c3-45bc-ba23-f016827a7e0d",
   "metadata": {
    "execution": {
     "iopub.execute_input": "2025-08-05T15:02:42.764100Z",
     "iopub.status.busy": "2025-08-05T15:02:42.763129Z",
     "iopub.status.idle": "2025-08-05T15:02:42.773768Z",
     "shell.execute_reply": "2025-08-05T15:02:42.772384Z"
    },
    "papermill": {
     "duration": 0.038868,
     "end_time": "2025-08-05T15:02:42.775545",
     "exception": false,
     "start_time": "2025-08-05T15:02:42.736677",
     "status": "completed"
    },
    "tags": []
   },
   "outputs": [
    {
     "data": {
      "text/plain": [
       "{'frau1': 0.9110122658040167,\n",
       " 'nongerman': 0.9068096334137989,\n",
       " 'nongerman_male': 0.9242547059353328,\n",
       " 'nongerman_female': 0.8779433681073026}"
      ]
     },
     "execution_count": 56,
     "metadata": {},
     "output_type": "execute_result"
    }
   ],
   "source": [
    "cond_coverage"
   ]
  },
  {
   "cell_type": "code",
   "execution_count": 57,
   "id": "f5093324-c3dd-4d63-bc4c-8d945e5c8bbb",
   "metadata": {
    "execution": {
     "iopub.execute_input": "2025-08-05T15:02:42.829271Z",
     "iopub.status.busy": "2025-08-05T15:02:42.828173Z",
     "iopub.status.idle": "2025-08-05T15:02:42.837646Z",
     "shell.execute_reply": "2025-08-05T15:02:42.836449Z"
    },
    "papermill": {
     "duration": 0.038168,
     "end_time": "2025-08-05T15:02:42.839712",
     "exception": false,
     "start_time": "2025-08-05T15:02:42.801544",
     "status": "completed"
    },
    "tags": []
   },
   "outputs": [],
   "source": [
    "for subgroup, cov in cond_coverage.items():\n",
    "    cp_metrics_df[f\"cov_{subgroup}\"] = cov"
   ]
  },
  {
   "cell_type": "code",
   "execution_count": 58,
   "id": "6e872e10-dbe5-49e8-b554-5030c98ff75d",
   "metadata": {
    "execution": {
     "iopub.execute_input": "2025-08-05T15:02:42.893764Z",
     "iopub.status.busy": "2025-08-05T15:02:42.892773Z",
     "iopub.status.idle": "2025-08-05T15:02:42.919836Z",
     "shell.execute_reply": "2025-08-05T15:02:42.918465Z"
    },
    "papermill": {
     "duration": 0.055778,
     "end_time": "2025-08-05T15:02:42.921726",
     "exception": false,
     "start_time": "2025-08-05T15:02:42.865948",
     "status": "completed"
    },
    "tags": []
   },
   "outputs": [
    {
     "data": {
      "text/html": [
       "<div>\n",
       "<style scoped>\n",
       "    .dataframe tbody tr th:only-of-type {\n",
       "        vertical-align: middle;\n",
       "    }\n",
       "\n",
       "    .dataframe tbody tr th {\n",
       "        vertical-align: top;\n",
       "    }\n",
       "\n",
       "    .dataframe thead th {\n",
       "        text-align: right;\n",
       "    }\n",
       "</style>\n",
       "<table border=\"1\" class=\"dataframe\">\n",
       "  <thead>\n",
       "    <tr style=\"text-align: right;\">\n",
       "      <th></th>\n",
       "      <th>universe_id</th>\n",
       "      <th>universe_training_year</th>\n",
       "      <th>universe_training_size</th>\n",
       "      <th>universe_scale</th>\n",
       "      <th>universe_model</th>\n",
       "      <th>universe_exclude_features</th>\n",
       "      <th>universe_exclude_subgroups</th>\n",
       "      <th>q_hat</th>\n",
       "      <th>coverage</th>\n",
       "      <th>avg_size</th>\n",
       "      <th>cov_frau1</th>\n",
       "      <th>cov_nongerman</th>\n",
       "      <th>cov_nongerman_male</th>\n",
       "      <th>cov_nongerman_female</th>\n",
       "    </tr>\n",
       "  </thead>\n",
       "  <tbody>\n",
       "    <tr>\n",
       "      <th>0</th>\n",
       "      <td>83aad6861c8382ef57c243336ba06236</td>\n",
       "      <td>2012_14</td>\n",
       "      <td>25k</td>\n",
       "      <td>do-not-scale</td>\n",
       "      <td>gbm</td>\n",
       "      <td>age</td>\n",
       "      <td>keep-all</td>\n",
       "      <td>0.675437</td>\n",
       "      <td>0.911637</td>\n",
       "      <td>1.122227</td>\n",
       "      <td>0.911012</td>\n",
       "      <td>0.90681</td>\n",
       "      <td>0.924255</td>\n",
       "      <td>0.877943</td>\n",
       "    </tr>\n",
       "  </tbody>\n",
       "</table>\n",
       "</div>"
      ],
      "text/plain": [
       "                        universe_id universe_training_year  \\\n",
       "0  83aad6861c8382ef57c243336ba06236                2012_14   \n",
       "\n",
       "  universe_training_size universe_scale universe_model  \\\n",
       "0                    25k   do-not-scale            gbm   \n",
       "\n",
       "  universe_exclude_features universe_exclude_subgroups     q_hat  coverage  \\\n",
       "0                       age                   keep-all  0.675437  0.911637   \n",
       "\n",
       "   avg_size  cov_frau1  cov_nongerman  cov_nongerman_male  \\\n",
       "0  1.122227   0.911012        0.90681            0.924255   \n",
       "\n",
       "   cov_nongerman_female  \n",
       "0              0.877943  "
      ]
     },
     "execution_count": 58,
     "metadata": {},
     "output_type": "execute_result"
    }
   ],
   "source": [
    "cp_metrics_df"
   ]
  },
  {
   "cell_type": "markdown",
   "id": "33774451",
   "metadata": {
    "papermill": {
     "duration": 0.025267,
     "end_time": "2025-08-05T15:02:42.972980",
     "exception": false,
     "start_time": "2025-08-05T15:02:42.947713",
     "status": "completed"
    },
    "tags": []
   },
   "source": [
    "# (Fairness) Metrics"
   ]
  },
  {
   "cell_type": "code",
   "execution_count": 59,
   "id": "debc5d62",
   "metadata": {
    "execution": {
     "iopub.execute_input": "2025-08-05T15:02:43.026723Z",
     "iopub.status.busy": "2025-08-05T15:02:43.025725Z",
     "iopub.status.idle": "2025-08-05T15:02:43.050176Z",
     "shell.execute_reply": "2025-08-05T15:02:43.049017Z"
    },
    "papermill": {
     "duration": 0.053539,
     "end_time": "2025-08-05T15:02:43.052306",
     "exception": false,
     "start_time": "2025-08-05T15:02:42.998767",
     "status": "completed"
    },
    "tags": []
   },
   "outputs": [],
   "source": [
    "# do I need to include maxdeutsch1.missing?\n",
    "\n",
    "import numpy as np\n",
    "\n",
    "colname_to_bin = \"maxdeutsch1\"\n",
    "majority_value = org_train[colname_to_bin].mode()[0]\n",
    "\n",
    "org_test[\"majmin\"] = np.where(org_test[colname_to_bin] == majority_value, \"majority\", \"minority\")"
   ]
  },
  {
   "cell_type": "code",
   "execution_count": 60,
   "id": "06a50de5",
   "metadata": {
    "execution": {
     "iopub.execute_input": "2025-08-05T15:02:43.106744Z",
     "iopub.status.busy": "2025-08-05T15:02:43.106019Z",
     "iopub.status.idle": "2025-08-05T15:02:45.029848Z",
     "shell.execute_reply": "2025-08-05T15:02:45.029071Z"
    },
    "papermill": {
     "duration": 1.952732,
     "end_time": "2025-08-05T15:02:45.031223",
     "exception": false,
     "start_time": "2025-08-05T15:02:43.078491",
     "status": "completed"
    },
    "tags": []
   },
   "outputs": [],
   "source": [
    "example_universe = universe.copy()\n",
    "example_universe[\"cutoff\"] = example_universe[\"cutoff\"][0]\n",
    "example_universe[\"eval_fairness_grouping\"] = example_universe[\"eval_fairness_grouping\"][0]\n",
    "fairness_dict, metric_frame = universe_analysis.compute_metrics(\n",
    "    example_universe,\n",
    "    y_pred_prob=probs_test,\n",
    "    y_test=y_true,\n",
    "    org_test=org_test,\n",
    ")"
   ]
  },
  {
   "cell_type": "markdown",
   "id": "f95d4e02",
   "metadata": {
    "papermill": {
     "duration": 0.010965,
     "end_time": "2025-08-05T15:02:45.054110",
     "exception": false,
     "start_time": "2025-08-05T15:02:45.043145",
     "status": "completed"
    },
    "tags": []
   },
   "source": [
    "# Overall"
   ]
  },
  {
   "cell_type": "markdown",
   "id": "bdee4871",
   "metadata": {
    "papermill": {
     "duration": 0.011188,
     "end_time": "2025-08-05T15:02:45.080556",
     "exception": false,
     "start_time": "2025-08-05T15:02:45.069368",
     "status": "completed"
    },
    "tags": []
   },
   "source": [
    "Fairness\n",
    "Main fairness target: Equalized Odds. Seems to be a better fit than equal opportunity, since we're not only interested in Y = 1. Seems to be a better fit than demographic parity, since we also care about accuracy, not just equal distribution of preds.\n",
    "\n",
    "Pick column for computation of fairness metrics\n",
    "\n",
    "Performance\n",
    "Overall performance measures, most interesting in relation to the measures split by group below"
   ]
  },
  {
   "cell_type": "code",
   "execution_count": 61,
   "id": "c4e067c6",
   "metadata": {
    "execution": {
     "iopub.execute_input": "2025-08-05T15:02:45.105854Z",
     "iopub.status.busy": "2025-08-05T15:02:45.105416Z",
     "iopub.status.idle": "2025-08-05T15:02:45.113113Z",
     "shell.execute_reply": "2025-08-05T15:02:45.112376Z"
    },
    "papermill": {
     "duration": 0.02221,
     "end_time": "2025-08-05T15:02:45.114522",
     "exception": false,
     "start_time": "2025-08-05T15:02:45.092312",
     "status": "completed"
    },
    "tags": []
   },
   "outputs": [
    {
     "data": {
      "text/plain": [
       "accuracy                   0.225270\n",
       "balanced accuracy          0.550629\n",
       "f1                         0.246577\n",
       "precision                  0.140861\n",
       "false positive rate        0.887011\n",
       "false negative rate        0.011731\n",
       "selection rate             0.900000\n",
       "count                  89710.000000\n",
       "dtype: float64"
      ]
     },
     "execution_count": 61,
     "metadata": {},
     "output_type": "execute_result"
    }
   ],
   "source": [
    "metric_frame.overall"
   ]
  },
  {
   "cell_type": "markdown",
   "id": "e968fe9d",
   "metadata": {
    "papermill": {
     "duration": 0.01252,
     "end_time": "2025-08-05T15:02:45.138548",
     "exception": false,
     "start_time": "2025-08-05T15:02:45.126028",
     "status": "completed"
    },
    "tags": []
   },
   "source": [
    "By Group"
   ]
  },
  {
   "cell_type": "code",
   "execution_count": 62,
   "id": "ec325bce",
   "metadata": {
    "execution": {
     "iopub.execute_input": "2025-08-05T15:02:45.167175Z",
     "iopub.status.busy": "2025-08-05T15:02:45.166366Z",
     "iopub.status.idle": "2025-08-05T15:02:45.178516Z",
     "shell.execute_reply": "2025-08-05T15:02:45.177497Z"
    },
    "papermill": {
     "duration": 0.030008,
     "end_time": "2025-08-05T15:02:45.179861",
     "exception": false,
     "start_time": "2025-08-05T15:02:45.149853",
     "status": "completed"
    },
    "tags": []
   },
   "outputs": [
    {
     "data": {
      "text/html": [
       "<div>\n",
       "<style scoped>\n",
       "    .dataframe tbody tr th:only-of-type {\n",
       "        vertical-align: middle;\n",
       "    }\n",
       "\n",
       "    .dataframe tbody tr th {\n",
       "        vertical-align: top;\n",
       "    }\n",
       "\n",
       "    .dataframe thead th {\n",
       "        text-align: right;\n",
       "    }\n",
       "</style>\n",
       "<table border=\"1\" class=\"dataframe\">\n",
       "  <thead>\n",
       "    <tr style=\"text-align: right;\">\n",
       "      <th></th>\n",
       "      <th>accuracy</th>\n",
       "      <th>balanced accuracy</th>\n",
       "      <th>f1</th>\n",
       "      <th>precision</th>\n",
       "      <th>false positive rate</th>\n",
       "      <th>false negative rate</th>\n",
       "      <th>selection rate</th>\n",
       "      <th>count</th>\n",
       "    </tr>\n",
       "    <tr>\n",
       "      <th>majmin</th>\n",
       "      <th></th>\n",
       "      <th></th>\n",
       "      <th></th>\n",
       "      <th></th>\n",
       "      <th></th>\n",
       "      <th></th>\n",
       "      <th></th>\n",
       "      <th></th>\n",
       "    </tr>\n",
       "  </thead>\n",
       "  <tbody>\n",
       "    <tr>\n",
       "      <th>majority</th>\n",
       "      <td>0.239685</td>\n",
       "      <td>0.556859</td>\n",
       "      <td>0.255623</td>\n",
       "      <td>0.146803</td>\n",
       "      <td>0.874246</td>\n",
       "      <td>0.012035</td>\n",
       "      <td>0.889273</td>\n",
       "      <td>69170.0</td>\n",
       "    </tr>\n",
       "    <tr>\n",
       "      <th>minority</th>\n",
       "      <td>0.176728</td>\n",
       "      <td>0.530133</td>\n",
       "      <td>0.216985</td>\n",
       "      <td>0.121854</td>\n",
       "      <td>0.929177</td>\n",
       "      <td>0.010557</td>\n",
       "      <td>0.936125</td>\n",
       "      <td>20540.0</td>\n",
       "    </tr>\n",
       "  </tbody>\n",
       "</table>\n",
       "</div>"
      ],
      "text/plain": [
       "          accuracy  balanced accuracy        f1  precision  \\\n",
       "majmin                                                       \n",
       "majority  0.239685           0.556859  0.255623   0.146803   \n",
       "minority  0.176728           0.530133  0.216985   0.121854   \n",
       "\n",
       "          false positive rate  false negative rate  selection rate    count  \n",
       "majmin                                                                       \n",
       "majority             0.874246             0.012035        0.889273  69170.0  \n",
       "minority             0.929177             0.010557        0.936125  20540.0  "
      ]
     },
     "execution_count": 62,
     "metadata": {},
     "output_type": "execute_result"
    }
   ],
   "source": [
    "metric_frame.by_group"
   ]
  },
  {
   "cell_type": "code",
   "execution_count": 63,
   "id": "a9ddbe63",
   "metadata": {
    "execution": {
     "iopub.execute_input": "2025-08-05T15:02:45.208263Z",
     "iopub.status.busy": "2025-08-05T15:02:45.207754Z",
     "iopub.status.idle": "2025-08-05T15:02:47.121019Z",
     "shell.execute_reply": "2025-08-05T15:02:47.120261Z"
    },
    "papermill": {
     "duration": 1.930416,
     "end_time": "2025-08-05T15:02:47.122309",
     "exception": false,
     "start_time": "2025-08-05T15:02:45.191893",
     "status": "completed"
    },
    "tags": []
   },
   "outputs": [
    {
     "data": {
      "text/plain": [
       "array([[<Axes: title={'center': 'accuracy'}, xlabel='majmin'>,\n",
       "        <Axes: title={'center': 'balanced accuracy'}, xlabel='majmin'>,\n",
       "        <Axes: title={'center': 'f1'}, xlabel='majmin'>],\n",
       "       [<Axes: title={'center': 'precision'}, xlabel='majmin'>,\n",
       "        <Axes: title={'center': 'false positive rate'}, xlabel='majmin'>,\n",
       "        <Axes: title={'center': 'false negative rate'}, xlabel='majmin'>],\n",
       "       [<Axes: title={'center': 'selection rate'}, xlabel='majmin'>,\n",
       "        <Axes: title={'center': 'count'}, xlabel='majmin'>,\n",
       "        <Axes: xlabel='majmin'>]], dtype=object)"
      ]
     },
     "execution_count": 63,
     "metadata": {},
     "output_type": "execute_result"
    },
    {
     "data": {
      "image/png": "[encoded data removed]",
      "text/plain": [
       "<Figure size 1200x800 with 9 Axes>"
      ]
     },
     "metadata": {},
     "output_type": "display_data"
    }
   ],
   "source": [
    "# In a graphic\n",
    "metric_frame.by_group.plot.bar(\n",
    "    subplots=True,\n",
    "    layout=[3, 3],\n",
    "    legend=False,\n",
    "    figsize=[12, 8],\n",
    "    title=\"Show all metrics\",\n",
    ")"
   ]
  },
  {
   "cell_type": "markdown",
   "id": "f57a0bac",
   "metadata": {
    "papermill": {
     "duration": 0.012455,
     "end_time": "2025-08-05T15:02:47.150095",
     "exception": false,
     "start_time": "2025-08-05T15:02:47.137640",
     "status": "completed"
    },
    "tags": []
   },
   "source": [
    "# Final Output"
   ]
  },
  {
   "cell_type": "code",
   "execution_count": 64,
   "id": "96d280a3",
   "metadata": {
    "execution": {
     "iopub.execute_input": "2025-08-05T15:02:47.176536Z",
     "iopub.status.busy": "2025-08-05T15:02:47.176040Z",
     "iopub.status.idle": "2025-08-05T15:02:47.183459Z",
     "shell.execute_reply": "2025-08-05T15:02:47.182690Z"
    },
    "papermill": {
     "duration": 0.022002,
     "end_time": "2025-08-05T15:02:47.184669",
     "exception": false,
     "start_time": "2025-08-05T15:02:47.162667",
     "status": "completed"
    },
    "tags": []
   },
   "outputs": [
    {
     "data": {
      "text/plain": [
       "4"
      ]
     },
     "execution_count": 64,
     "metadata": {},
     "output_type": "execute_result"
    }
   ],
   "source": [
    "sub_universes = universe_analysis.generate_sub_universes()\n",
    "len(sub_universes)"
   ]
  },
  {
   "cell_type": "code",
   "execution_count": 65,
   "id": "92adf7ba",
   "metadata": {
    "execution": {
     "iopub.execute_input": "2025-08-05T15:02:47.211136Z",
     "iopub.status.busy": "2025-08-05T15:02:47.210508Z",
     "iopub.status.idle": "2025-08-05T15:02:47.238320Z",
     "shell.execute_reply": "2025-08-05T15:02:47.237573Z"
    },
    "papermill": {
     "duration": 0.04255,
     "end_time": "2025-08-05T15:02:47.239704",
     "exception": false,
     "start_time": "2025-08-05T15:02:47.197154",
     "status": "completed"
    },
    "tags": []
   },
   "outputs": [],
   "source": [
    "def filter_sub_universe_data(sub_universe, org_test):\n",
    "    # Keep all rows — no filtering\n",
    "    keep_rows_mask = np.ones(org_test.shape[0], dtype=bool)\n",
    "\n",
    "    print(f\"[INFO] Keeping all rows: {keep_rows_mask.sum()} rows retained.\")\n",
    "    return keep_rows_mask"
   ]
  },
  {
   "cell_type": "code",
   "execution_count": 66,
   "id": "4a759155",
   "metadata": {
    "execution": {
     "iopub.execute_input": "2025-08-05T15:02:47.267389Z",
     "iopub.status.busy": "2025-08-05T15:02:47.266877Z",
     "iopub.status.idle": "2025-08-05T15:02:56.407607Z",
     "shell.execute_reply": "2025-08-05T15:02:56.406738Z"
    },
    "papermill": {
     "duration": 9.155349,
     "end_time": "2025-08-05T15:02:56.409196",
     "exception": false,
     "start_time": "2025-08-05T15:02:47.253847",
     "status": "completed"
    },
    "tags": []
   },
   "outputs": [
    {
     "name": "stdout",
     "output_type": "stream",
     "text": [
      "Stopping execution_time clock.\n",
      "[INFO] Keeping all rows: 89710 rows retained.\n"
     ]
    },
    {
     "name": "stdout",
     "output_type": "stream",
     "text": [
      "[INFO] Keeping all rows: 89710 rows retained.\n"
     ]
    },
    {
     "name": "stdout",
     "output_type": "stream",
     "text": [
      "[INFO] Keeping all rows: 89710 rows retained.\n"
     ]
    },
    {
     "name": "stdout",
     "output_type": "stream",
     "text": [
      "[INFO] Keeping all rows: 89710 rows retained.\n"
     ]
    },
    {
     "data": {
      "text/html": [
       "<div>\n",
       "<style scoped>\n",
       "    .dataframe tbody tr th:only-of-type {\n",
       "        vertical-align: middle;\n",
       "    }\n",
       "\n",
       "    .dataframe tbody tr th {\n",
       "        vertical-align: top;\n",
       "    }\n",
       "\n",
       "    .dataframe thead th {\n",
       "        text-align: right;\n",
       "    }\n",
       "</style>\n",
       "<table border=\"1\" class=\"dataframe\">\n",
       "  <thead>\n",
       "    <tr style=\"text-align: right;\">\n",
       "      <th></th>\n",
       "      <th>run_no</th>\n",
       "      <th>universe_id</th>\n",
       "      <th>universe_settings</th>\n",
       "      <th>execution_time</th>\n",
       "      <th>test_size_n</th>\n",
       "      <th>test_size_frac</th>\n",
       "      <th>fair_main_equalized_odds_difference</th>\n",
       "      <th>fair_main_equalized_odds_ratio</th>\n",
       "      <th>fair_main_demographic_parity_difference</th>\n",
       "      <th>fair_main_demographic_parity_ratio</th>\n",
       "      <th>...</th>\n",
       "      <th>perf_grp_precision_0</th>\n",
       "      <th>perf_grp_precision_1</th>\n",
       "      <th>perf_grp_false positive rate_0</th>\n",
       "      <th>perf_grp_false positive rate_1</th>\n",
       "      <th>perf_grp_false negative rate_0</th>\n",
       "      <th>perf_grp_false negative rate_1</th>\n",
       "      <th>perf_grp_selection rate_0</th>\n",
       "      <th>perf_grp_selection rate_1</th>\n",
       "      <th>perf_grp_count_0</th>\n",
       "      <th>perf_grp_count_1</th>\n",
       "    </tr>\n",
       "  </thead>\n",
       "  <tbody>\n",
       "    <tr>\n",
       "      <th>0</th>\n",
       "      <td>15</td>\n",
       "      <td>83aad6861c8382ef57c243336ba06236</td>\n",
       "      <td>{\"cutoff\": \"quantile_0.1\", \"eval_fairness_grou...</td>\n",
       "      <td>53.108412</td>\n",
       "      <td>89710</td>\n",
       "      <td>1.0</td>\n",
       "      <td>0.054931</td>\n",
       "      <td>0.940883</td>\n",
       "      <td>0.046852</td>\n",
       "      <td>0.949951</td>\n",
       "      <td>...</td>\n",
       "      <td>NaN</td>\n",
       "      <td>NaN</td>\n",
       "      <td>NaN</td>\n",
       "      <td>NaN</td>\n",
       "      <td>NaN</td>\n",
       "      <td>NaN</td>\n",
       "      <td>NaN</td>\n",
       "      <td>NaN</td>\n",
       "      <td>NaN</td>\n",
       "      <td>NaN</td>\n",
       "    </tr>\n",
       "    <tr>\n",
       "      <th>0</th>\n",
       "      <td>15</td>\n",
       "      <td>83aad6861c8382ef57c243336ba06236</td>\n",
       "      <td>{\"cutoff\": \"quantile_0.1\", \"eval_fairness_grou...</td>\n",
       "      <td>53.108412</td>\n",
       "      <td>89710</td>\n",
       "      <td>1.0</td>\n",
       "      <td>0.054931</td>\n",
       "      <td>0.940883</td>\n",
       "      <td>0.046852</td>\n",
       "      <td>0.949951</td>\n",
       "      <td>...</td>\n",
       "      <td>0.121854</td>\n",
       "      <td>0.146803</td>\n",
       "      <td>0.929177</td>\n",
       "      <td>0.874246</td>\n",
       "      <td>0.010557</td>\n",
       "      <td>0.012035</td>\n",
       "      <td>0.936125</td>\n",
       "      <td>0.889273</td>\n",
       "      <td>20540.0</td>\n",
       "      <td>69170.0</td>\n",
       "    </tr>\n",
       "    <tr>\n",
       "      <th>0</th>\n",
       "      <td>15</td>\n",
       "      <td>83aad6861c8382ef57c243336ba06236</td>\n",
       "      <td>{\"cutoff\": \"quantile_0.25\", \"eval_fairness_gro...</td>\n",
       "      <td>53.108412</td>\n",
       "      <td>89710</td>\n",
       "      <td>1.0</td>\n",
       "      <td>0.126158</td>\n",
       "      <td>0.845766</td>\n",
       "      <td>0.107287</td>\n",
       "      <td>0.871161</td>\n",
       "      <td>...</td>\n",
       "      <td>NaN</td>\n",
       "      <td>NaN</td>\n",
       "      <td>NaN</td>\n",
       "      <td>NaN</td>\n",
       "      <td>NaN</td>\n",
       "      <td>NaN</td>\n",
       "      <td>NaN</td>\n",
       "      <td>NaN</td>\n",
       "      <td>NaN</td>\n",
       "      <td>NaN</td>\n",
       "    </tr>\n",
       "    <tr>\n",
       "      <th>0</th>\n",
       "      <td>15</td>\n",
       "      <td>83aad6861c8382ef57c243336ba06236</td>\n",
       "      <td>{\"cutoff\": \"quantile_0.25\", \"eval_fairness_gro...</td>\n",
       "      <td>53.108412</td>\n",
       "      <td>89710</td>\n",
       "      <td>1.0</td>\n",
       "      <td>0.126158</td>\n",
       "      <td>0.845766</td>\n",
       "      <td>0.107287</td>\n",
       "      <td>0.871161</td>\n",
       "      <td>...</td>\n",
       "      <td>0.130964</td>\n",
       "      <td>0.172366</td>\n",
       "      <td>0.817962</td>\n",
       "      <td>0.691804</td>\n",
       "      <td>0.054054</td>\n",
       "      <td>0.053720</td>\n",
       "      <td>0.832717</td>\n",
       "      <td>0.725430</td>\n",
       "      <td>20540.0</td>\n",
       "      <td>69170.0</td>\n",
       "    </tr>\n",
       "  </tbody>\n",
       "</table>\n",
       "<p>4 rows × 50 columns</p>\n",
       "</div>"
      ],
      "text/plain": [
       "  run_no                       universe_id  \\\n",
       "0     15  83aad6861c8382ef57c243336ba06236   \n",
       "0     15  83aad6861c8382ef57c243336ba06236   \n",
       "0     15  83aad6861c8382ef57c243336ba06236   \n",
       "0     15  83aad6861c8382ef57c243336ba06236   \n",
       "\n",
       "                                   universe_settings  execution_time  \\\n",
       "0  {\"cutoff\": \"quantile_0.1\", \"eval_fairness_grou...       53.108412   \n",
       "0  {\"cutoff\": \"quantile_0.1\", \"eval_fairness_grou...       53.108412   \n",
       "0  {\"cutoff\": \"quantile_0.25\", \"eval_fairness_gro...       53.108412   \n",
       "0  {\"cutoff\": \"quantile_0.25\", \"eval_fairness_gro...       53.108412   \n",
       "\n",
       "   test_size_n  test_size_frac  fair_main_equalized_odds_difference  \\\n",
       "0        89710             1.0                             0.054931   \n",
       "0        89710             1.0                             0.054931   \n",
       "0        89710             1.0                             0.126158   \n",
       "0        89710             1.0                             0.126158   \n",
       "\n",
       "   fair_main_equalized_odds_ratio  fair_main_demographic_parity_difference  \\\n",
       "0                        0.940883                                 0.046852   \n",
       "0                        0.940883                                 0.046852   \n",
       "0                        0.845766                                 0.107287   \n",
       "0                        0.845766                                 0.107287   \n",
       "\n",
       "   fair_main_demographic_parity_ratio  ...  perf_grp_precision_0  \\\n",
       "0                            0.949951  ...                   NaN   \n",
       "0                            0.949951  ...              0.121854   \n",
       "0                            0.871161  ...                   NaN   \n",
       "0                            0.871161  ...              0.130964   \n",
       "\n",
       "   perf_grp_precision_1  perf_grp_false positive rate_0  \\\n",
       "0                   NaN                             NaN   \n",
       "0              0.146803                        0.929177   \n",
       "0                   NaN                             NaN   \n",
       "0              0.172366                        0.817962   \n",
       "\n",
       "   perf_grp_false positive rate_1  perf_grp_false negative rate_0  \\\n",
       "0                             NaN                             NaN   \n",
       "0                        0.874246                        0.010557   \n",
       "0                             NaN                             NaN   \n",
       "0                        0.691804                        0.054054   \n",
       "\n",
       "   perf_grp_false negative rate_1  perf_grp_selection rate_0  \\\n",
       "0                             NaN                        NaN   \n",
       "0                        0.012035                   0.936125   \n",
       "0                             NaN                        NaN   \n",
       "0                        0.053720                   0.832717   \n",
       "\n",
       "   perf_grp_selection rate_1  perf_grp_count_0  perf_grp_count_1  \n",
       "0                        NaN               NaN               NaN  \n",
       "0                   0.889273           20540.0           69170.0  \n",
       "0                        NaN               NaN               NaN  \n",
       "0                   0.725430           20540.0           69170.0  \n",
       "\n",
       "[4 rows x 50 columns]"
      ]
     },
     "execution_count": 66,
     "metadata": {},
     "output_type": "execute_result"
    }
   ],
   "source": [
    "final_output = universe_analysis.generate_final_output(\n",
    "    y_pred_prob=probs_test,\n",
    "    y_test=y_true,\n",
    "    org_test=org_test,\n",
    "    filter_data=filter_sub_universe_data,\n",
    "    cp_metrics_df=cp_metrics_df,\n",
    "    save=True,\n",
    ")\n",
    "final_output"
   ]
  }
 ],
 "metadata": {
  "celltoolbar": "Tags",
  "kernelspec": {
   "display_name": "Python (CMA Fairness)",
   "language": "python",
   "name": "cma_fair_env"
  },
  "language_info": {
   "codemirror_mode": {
    "name": "ipython",
    "version": 3
   },
   "file_extension": ".py",
   "mimetype": "text/x-python",
   "name": "python",
   "nbconvert_exporter": "python",
   "pygments_lexer": "ipython3",
   "version": "3.10.12"
  },
  "papermill": {
   "default_parameters": {},
   "duration": 66.383298,
   "end_time": "2025-08-05T15:02:57.157347",
   "environment_variables": {},
   "exception": null,
   "input_path": "universe_analysis.ipynb",
   "output_path": "output/runs/15/notebooks/m_15-83aad6861c8382ef57c243336ba06236.ipynb",
   "parameters": {
    "output_dir": "output",
    "run_no": "15",
    "seed": "2023",
    "universe": "{\"cutoff\": [\"quantile_0.1\", \"quantile_0.25\"], \"eval_fairness_grouping\": [\"majority-minority\", \"nationality-all\"], \"exclude_features\": \"age\", \"exclude_subgroups\": \"keep-all\", \"model\": \"gbm\", \"scale\": \"do-not-scale\", \"training_size\": \"25k\", \"training_year\": \"2012_14\"}",
    "universe_id": "83aad6861c8382ef57c243336ba06236"
   },
   "start_time": "2025-08-05T15:01:50.774049",
   "version": "2.6.0"
  }
 },
 "nbformat": 4,
 "nbformat_minor": 5
}