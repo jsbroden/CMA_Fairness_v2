{
 "cells": [
  {
   "cell_type": "code",
   "execution_count": 1,
   "id": "f159f837-637b-42ba-96b5-ec9a68c44524",
   "metadata": {
    "execution": {
     "iopub.execute_input": "2025-08-05T16:25:50.684935Z",
     "iopub.status.busy": "2025-08-05T16:25:50.683903Z",
     "iopub.status.idle": "2025-08-05T16:25:50.701393Z",
     "shell.execute_reply": "2025-08-05T16:25:50.700172Z"
    },
    "papermill": {
     "duration": 0.041716,
     "end_time": "2025-08-05T16:25:50.703319",
     "exception": false,
     "start_time": "2025-08-05T16:25:50.661603",
     "status": "completed"
    },
    "tags": []
   },
   "outputs": [
    {
     "name": "stdout",
     "output_type": "stream",
     "text": [
      "/dss/dsshome1/0C/ra93lal2/cma/CMA_Fairness_v2\n"
     ]
    },
    {
     "name": "stderr",
     "output_type": "stream",
     "text": [
      "/dss/dsshome1/0C/ra93lal2/.local/share/virtualenvs/CMA_Fairness_v2-3j10GkSs/lib/python3.10/site-packages/IPython/core/magics/osm.py:393: UserWarning: This is now an optional IPython functionality, using bookmarks requires you to install the `pickleshare` library.\n",
      "  bkms = self.shell.db.get('bookmarks', {})\n",
      "/dss/dsshome1/0C/ra93lal2/.local/share/virtualenvs/CMA_Fairness_v2-3j10GkSs/lib/python3.10/site-packages/IPython/core/magics/osm.py:417: UserWarning: This is now an optional IPython functionality, setting dhist requires you to install the `pickleshare` library.\n",
      "  self.shell.db['dhist'] = compress_dhist(dhist)[-100:]\n"
     ]
    }
   ],
   "source": [
    "%cd ~/cma/CMA_Fairness_v2"
   ]
  },
  {
   "cell_type": "markdown",
   "id": "de2603b9",
   "metadata": {
    "papermill": {
     "duration": 0.02002,
     "end_time": "2025-08-05T16:25:50.743744",
     "exception": false,
     "start_time": "2025-08-05T16:25:50.723724",
     "status": "completed"
    },
    "tags": []
   },
   "source": [
    "The following cell holds the definition of our parameters, these values can be overriden by rendering the with e.g. the following command:\n",
    "\n",
    "papermill -p alpha 0.2 -p ratio 0.3 universe_analysis.ipynb output/test_run.ipynb"
   ]
  },
  {
   "cell_type": "code",
   "execution_count": 2,
   "id": "a80968a0-40bb-4fa9-85ef-2d5eefb01975",
   "metadata": {
    "execution": {
     "iopub.execute_input": "2025-08-05T16:25:50.785270Z",
     "iopub.status.busy": "2025-08-05T16:25:50.784265Z",
     "iopub.status.idle": "2025-08-05T16:25:50.791359Z",
     "shell.execute_reply": "2025-08-05T16:25:50.790179Z"
    },
    "papermill": {
     "duration": 0.029879,
     "end_time": "2025-08-05T16:25:50.793375",
     "exception": false,
     "start_time": "2025-08-05T16:25:50.763496",
     "status": "completed"
    },
    "tags": []
   },
   "outputs": [
    {
     "name": "stdout",
     "output_type": "stream",
     "text": [
      "Current working directory: /dss/dsshome1/0C/ra93lal2/cma/CMA_Fairness_v2\n"
     ]
    }
   ],
   "source": [
    "import os\n",
    "print(\"Current working directory:\", os.getcwd())"
   ]
  },
  {
   "cell_type": "code",
   "execution_count": 3,
   "id": "2dce4c03",
   "metadata": {
    "execution": {
     "iopub.execute_input": "2025-08-05T16:25:50.836954Z",
     "iopub.status.busy": "2025-08-05T16:25:50.835825Z",
     "iopub.status.idle": "2025-08-05T16:25:50.843035Z",
     "shell.execute_reply": "2025-08-05T16:25:50.842003Z"
    },
    "papermill": {
     "duration": 0.030604,
     "end_time": "2025-08-05T16:25:50.844909",
     "exception": false,
     "start_time": "2025-08-05T16:25:50.814305",
     "status": "completed"
    },
    "tags": [
     "parameters"
    ]
   },
   "outputs": [],
   "source": [
    "run_no = 0\n",
    "universe_id = \"test\"\n",
    "universe = {\n",
    "    \"training_size\": \"25k\", # \"25k\", \"5k\", \"1k\"\n",
    "    \"training_year\": \"2014\", # \"2014\", \"2012_14\", \"2010_14\"\n",
    "    \"scale\": \"scale\", # \"scale\", \"do-not-scale\",\n",
    "    \"model\": \"elasticnet\", # \"logreg\", \"penalized_logreg\", \"rf\", \"gbm\", \"elasticnet\"\n",
    "    \"cutoff\": [\"quantile_0.15\", \"quantile_0.30\"],\n",
    "    \"exclude_features\": \"age\", # \"none\", \"nationality\", \"sex\", \"nationality-sex\", \"age\"\n",
    "    \"exclude_subgroups\": \"keep-all\", # \"keep-all\", \"drop-non-german\"\n",
    "    \"eval_fairness_grouping\": [\"majority-minority\", \"nationality-all\"]\n",
    "}\n",
    "\n",
    "output_dir=\"./output\"\n",
    "seed=0"
   ]
  },
  {
   "cell_type": "code",
   "execution_count": 4,
   "id": "b426f9ee",
   "metadata": {
    "execution": {
     "iopub.execute_input": "2025-08-05T16:25:50.886736Z",
     "iopub.status.busy": "2025-08-05T16:25:50.886250Z",
     "iopub.status.idle": "2025-08-05T16:25:50.892762Z",
     "shell.execute_reply": "2025-08-05T16:25:50.891571Z"
    },
    "papermill": {
     "duration": 0.030151,
     "end_time": "2025-08-05T16:25:50.894728",
     "exception": false,
     "start_time": "2025-08-05T16:25:50.864577",
     "status": "completed"
    },
    "tags": [
     "injected-parameters"
    ]
   },
   "outputs": [],
   "source": [
    "# Parameters\n",
    "universe_id = \"78924c731e47e7743fc17f95487eb533\"\n",
    "run_no = \"15\"\n",
    "universe = \"{\\\"cutoff\\\": [\\\"quantile_0.1\\\", \\\"quantile_0.25\\\"], \\\"eval_fairness_grouping\\\": [\\\"majority-minority\\\", \\\"nationality-all\\\"], \\\"exclude_features\\\": \\\"age\\\", \\\"exclude_subgroups\\\": \\\"drop-non-german\\\", \\\"model\\\": \\\"penalized_logreg\\\", \\\"scale\\\": \\\"do-not-scale\\\", \\\"training_size\\\": \\\"1k\\\", \\\"training_year\\\": \\\"2012_14\\\"}\"\n",
    "output_dir = \"output\"\n",
    "seed = \"2023\"\n"
   ]
  },
  {
   "cell_type": "code",
   "execution_count": 5,
   "id": "1650acaf",
   "metadata": {
    "execution": {
     "iopub.execute_input": "2025-08-05T16:25:50.936850Z",
     "iopub.status.busy": "2025-08-05T16:25:50.936097Z",
     "iopub.status.idle": "2025-08-05T16:25:50.942441Z",
     "shell.execute_reply": "2025-08-05T16:25:50.941265Z"
    },
    "papermill": {
     "duration": 0.029224,
     "end_time": "2025-08-05T16:25:50.944335",
     "exception": false,
     "start_time": "2025-08-05T16:25:50.915111",
     "status": "completed"
    },
    "tags": []
   },
   "outputs": [],
   "source": [
    "import json\n",
    "if isinstance(universe, str):\n",
    "    universe = json.loads(universe)"
   ]
  },
  {
   "cell_type": "code",
   "execution_count": 6,
   "id": "16620c48",
   "metadata": {
    "execution": {
     "iopub.execute_input": "2025-08-05T16:25:50.987403Z",
     "iopub.status.busy": "2025-08-05T16:25:50.986589Z",
     "iopub.status.idle": "2025-08-05T16:25:51.040468Z",
     "shell.execute_reply": "2025-08-05T16:25:51.039351Z"
    },
    "papermill": {
     "duration": 0.077965,
     "end_time": "2025-08-05T16:25:51.042649",
     "exception": false,
     "start_time": "2025-08-05T16:25:50.964684",
     "status": "completed"
    },
    "tags": []
   },
   "outputs": [],
   "source": [
    "# Auto-reload the custom package\n",
    "%load_ext autoreload\n",
    "%autoreload 1\n",
    "%aimport fairness_multiverse"
   ]
  },
  {
   "cell_type": "code",
   "execution_count": 7,
   "id": "01c5c9f3",
   "metadata": {
    "execution": {
     "iopub.execute_input": "2025-08-05T16:25:51.085658Z",
     "iopub.status.busy": "2025-08-05T16:25:51.084867Z",
     "iopub.status.idle": "2025-08-05T16:25:53.369767Z",
     "shell.execute_reply": "2025-08-05T16:25:53.368496Z"
    },
    "papermill": {
     "duration": 2.308539,
     "end_time": "2025-08-05T16:25:53.372203",
     "exception": false,
     "start_time": "2025-08-05T16:25:51.063664",
     "status": "completed"
    },
    "tags": []
   },
   "outputs": [],
   "source": [
    "from fairness_multiverse.universe import UniverseAnalysis\n",
    "\n",
    "universe_analysis = UniverseAnalysis(\n",
    "    run_no = run_no,\n",
    "    universe_id = universe_id,\n",
    "    universe = universe,\n",
    "    output_dir=output_dir,\n",
    ")"
   ]
  },
  {
   "cell_type": "code",
   "execution_count": 8,
   "id": "106241f5",
   "metadata": {
    "execution": {
     "iopub.execute_input": "2025-08-05T16:25:53.420701Z",
     "iopub.status.busy": "2025-08-05T16:25:53.419682Z",
     "iopub.status.idle": "2025-08-05T16:25:53.427526Z",
     "shell.execute_reply": "2025-08-05T16:25:53.426317Z"
    },
    "papermill": {
     "duration": 0.034848,
     "end_time": "2025-08-05T16:25:53.429717",
     "exception": false,
     "start_time": "2025-08-05T16:25:53.394869",
     "status": "completed"
    },
    "tags": []
   },
   "outputs": [
    {
     "name": "stdout",
     "output_type": "stream",
     "text": [
      "Using Seed: 2023\n"
     ]
    }
   ],
   "source": [
    "import numpy as np\n",
    "parsed_seed = int(seed)\n",
    "np.random.seed(parsed_seed)\n",
    "print(f\"Using Seed: {parsed_seed}\")"
   ]
  },
  {
   "cell_type": "markdown",
   "id": "e0ebdc57",
   "metadata": {
    "papermill": {
     "duration": 0.024299,
     "end_time": "2025-08-05T16:25:53.478304",
     "exception": false,
     "start_time": "2025-08-05T16:25:53.454005",
     "status": "completed"
    },
    "tags": []
   },
   "source": [
    "# Loading Data"
   ]
  },
  {
   "cell_type": "code",
   "execution_count": 9,
   "id": "f0496b8a",
   "metadata": {
    "execution": {
     "iopub.execute_input": "2025-08-05T16:25:53.529915Z",
     "iopub.status.busy": "2025-08-05T16:25:53.528765Z",
     "iopub.status.idle": "2025-08-05T16:26:08.232025Z",
     "shell.execute_reply": "2025-08-05T16:26:08.230596Z"
    },
    "papermill": {
     "duration": 14.73174,
     "end_time": "2025-08-05T16:26:08.234036",
     "exception": false,
     "start_time": "2025-08-05T16:25:53.502296",
     "status": "completed"
    },
    "tags": []
   },
   "outputs": [
    {
     "name": "stdout",
     "output_type": "stream",
     "text": [
      "Loading SIAB data from cache: data/siab_cached.csv.gz\n"
     ]
    },
    {
     "name": "stdout",
     "output_type": "stream",
     "text": [
      "(643690, 164)\n"
     ]
    }
   ],
   "source": [
    "from pathlib import Path\n",
    "import pandas as pd\n",
    "\n",
    "# File paths\n",
    "raw_file = Path(\"data/raw/siab.csv\")\n",
    "cache_file = Path(\"data/siab_cached.csv.gz\")\n",
    "\n",
    "# Ensure cache directory exists\n",
    "cache_file.parent.mkdir(parents=True, exist_ok=True)\n",
    "\n",
    "# Load with simple caching\n",
    "if cache_file.exists():\n",
    "    print(f\"Loading SIAB data from cache: {cache_file}\")\n",
    "    siab = pd.read_csv(cache_file, compression='gzip')\n",
    "else:\n",
    "    print(f\"Cache not found. Reading raw SIAB data: {raw_file}\")\n",
    "    siab = pd.read_csv(raw_file)\n",
    "    siab.to_csv(cache_file, index=False, compression='gzip')\n",
    "    print(f\"Cached SIAB data to: {cache_file}\")\n",
    "\n",
    "print(siab.shape)"
   ]
  },
  {
   "cell_type": "code",
   "execution_count": 10,
   "id": "db0ca512-5f53-4dba-abdb-a2888bca41ba",
   "metadata": {
    "execution": {
     "iopub.execute_input": "2025-08-05T16:26:08.279481Z",
     "iopub.status.busy": "2025-08-05T16:26:08.278528Z",
     "iopub.status.idle": "2025-08-05T16:26:08.285232Z",
     "shell.execute_reply": "2025-08-05T16:26:08.284035Z"
    },
    "papermill": {
     "duration": 0.030055,
     "end_time": "2025-08-05T16:26:08.287485",
     "exception": false,
     "start_time": "2025-08-05T16:26:08.257430",
     "status": "completed"
    },
    "tags": []
   },
   "outputs": [],
   "source": [
    "#siab"
   ]
  },
  {
   "cell_type": "markdown",
   "id": "997051c5-15bd-4b69-9786-c3001a3ce484",
   "metadata": {
    "papermill": {
     "duration": 0.023905,
     "end_time": "2025-08-05T16:26:08.336017",
     "exception": false,
     "start_time": "2025-08-05T16:26:08.312112",
     "status": "completed"
    },
    "tags": []
   },
   "source": [
    "# Splitting Data and Setting Training Data Size"
   ]
  },
  {
   "cell_type": "code",
   "execution_count": 11,
   "id": "aea9c6ef-6f46-42c8-85eb-5a62025c1508",
   "metadata": {
    "execution": {
     "iopub.execute_input": "2025-08-05T16:26:08.385195Z",
     "iopub.status.busy": "2025-08-05T16:26:08.384171Z",
     "iopub.status.idle": "2025-08-05T16:26:09.050152Z",
     "shell.execute_reply": "2025-08-05T16:26:09.048893Z"
    },
    "papermill": {
     "duration": 0.693621,
     "end_time": "2025-08-05T16:26:09.052557",
     "exception": false,
     "start_time": "2025-08-05T16:26:08.358936",
     "status": "completed"
    },
    "tags": []
   },
   "outputs": [],
   "source": [
    "from fairness_multiverse.universe import sample_by_year_size\n",
    "\n",
    "siab_train = sample_by_year_size(siab,\n",
    "                               training_year=universe[\"training_year\"],\n",
    "                               training_size=universe[\"training_size\"])"
   ]
  },
  {
   "cell_type": "code",
   "execution_count": 12,
   "id": "8d3afb32-789d-442c-8d5d-9f5aa8dd2eed",
   "metadata": {
    "execution": {
     "iopub.execute_input": "2025-08-05T16:26:09.099387Z",
     "iopub.status.busy": "2025-08-05T16:26:09.098497Z",
     "iopub.status.idle": "2025-08-05T16:26:09.104653Z",
     "shell.execute_reply": "2025-08-05T16:26:09.103416Z"
    },
    "papermill": {
     "duration": 0.031067,
     "end_time": "2025-08-05T16:26:09.106821",
     "exception": false,
     "start_time": "2025-08-05T16:26:09.075754",
     "status": "completed"
    },
    "tags": []
   },
   "outputs": [],
   "source": [
    "#siab_train.shape"
   ]
  },
  {
   "cell_type": "code",
   "execution_count": 13,
   "id": "d582db68-1a4c-47fb-84fc-08518dc1975a",
   "metadata": {
    "execution": {
     "iopub.execute_input": "2025-08-05T16:26:09.152189Z",
     "iopub.status.busy": "2025-08-05T16:26:09.151329Z",
     "iopub.status.idle": "2025-08-05T16:26:09.156876Z",
     "shell.execute_reply": "2025-08-05T16:26:09.155730Z"
    },
    "papermill": {
     "duration": 0.030174,
     "end_time": "2025-08-05T16:26:09.158877",
     "exception": false,
     "start_time": "2025-08-05T16:26:09.128703",
     "status": "completed"
    },
    "tags": []
   },
   "outputs": [],
   "source": [
    "#display(siab_train.groupby(\"year\").size())"
   ]
  },
  {
   "cell_type": "code",
   "execution_count": 14,
   "id": "a561edb4-d032-42cb-8256-22eac1111c64",
   "metadata": {
    "execution": {
     "iopub.execute_input": "2025-08-05T16:26:09.204993Z",
     "iopub.status.busy": "2025-08-05T16:26:09.204304Z",
     "iopub.status.idle": "2025-08-05T16:26:09.447595Z",
     "shell.execute_reply": "2025-08-05T16:26:09.446459Z"
    },
    "papermill": {
     "duration": 0.268604,
     "end_time": "2025-08-05T16:26:09.449825",
     "exception": false,
     "start_time": "2025-08-05T16:26:09.181221",
     "status": "completed"
    },
    "tags": []
   },
   "outputs": [],
   "source": [
    "#siab_train = siab_s[siab_s.year < 2015]\n",
    "siab_calib = siab[siab.year == 2015]\n",
    "siab_test = siab[siab.year == 2016]"
   ]
  },
  {
   "cell_type": "code",
   "execution_count": 15,
   "id": "472de16f-c3db-4916-846b-1f0de9cf1746",
   "metadata": {
    "execution": {
     "iopub.execute_input": "2025-08-05T16:26:09.494047Z",
     "iopub.status.busy": "2025-08-05T16:26:09.492919Z",
     "iopub.status.idle": "2025-08-05T16:26:09.501569Z",
     "shell.execute_reply": "2025-08-05T16:26:09.500731Z"
    },
    "papermill": {
     "duration": 0.032818,
     "end_time": "2025-08-05T16:26:09.503163",
     "exception": false,
     "start_time": "2025-08-05T16:26:09.470345",
     "status": "completed"
    },
    "tags": []
   },
   "outputs": [],
   "source": [
    "X_train = siab_train.iloc[:,4:164]\n",
    "y_train = siab_train.iloc[:, [3]]"
   ]
  },
  {
   "cell_type": "code",
   "execution_count": 16,
   "id": "828c96af-f43a-4ed6-ba47-8ac73a47d56c",
   "metadata": {
    "execution": {
     "iopub.execute_input": "2025-08-05T16:26:09.526963Z",
     "iopub.status.busy": "2025-08-05T16:26:09.526687Z",
     "iopub.status.idle": "2025-08-05T16:26:09.584428Z",
     "shell.execute_reply": "2025-08-05T16:26:09.583104Z"
    },
    "papermill": {
     "duration": 0.07224,
     "end_time": "2025-08-05T16:26:09.586746",
     "exception": false,
     "start_time": "2025-08-05T16:26:09.514506",
     "status": "completed"
    },
    "tags": []
   },
   "outputs": [],
   "source": [
    "X_calib = siab_calib.iloc[:,4:164]\n",
    "y_calib = siab_calib.iloc[:, [3]]"
   ]
  },
  {
   "cell_type": "code",
   "execution_count": 17,
   "id": "c34be9c3-6bd6-476e-acd3-845840e303be",
   "metadata": {
    "execution": {
     "iopub.execute_input": "2025-08-05T16:26:09.629913Z",
     "iopub.status.busy": "2025-08-05T16:26:09.629380Z",
     "iopub.status.idle": "2025-08-05T16:26:09.686821Z",
     "shell.execute_reply": "2025-08-05T16:26:09.685687Z"
    },
    "papermill": {
     "duration": 0.080949,
     "end_time": "2025-08-05T16:26:09.691412",
     "exception": false,
     "start_time": "2025-08-05T16:26:09.610463",
     "status": "completed"
    },
    "tags": []
   },
   "outputs": [],
   "source": [
    "X_test = siab_test.iloc[:,4:164]\n",
    "y_true = siab_test.iloc[:, [3]]"
   ]
  },
  {
   "cell_type": "code",
   "execution_count": 18,
   "id": "e6c733c5",
   "metadata": {
    "execution": {
     "iopub.execute_input": "2025-08-05T16:26:09.731298Z",
     "iopub.status.busy": "2025-08-05T16:26:09.730725Z",
     "iopub.status.idle": "2025-08-05T16:26:09.833954Z",
     "shell.execute_reply": "2025-08-05T16:26:09.833015Z"
    },
    "papermill": {
     "duration": 0.128365,
     "end_time": "2025-08-05T16:26:09.835516",
     "exception": false,
     "start_time": "2025-08-05T16:26:09.707151",
     "status": "completed"
    },
    "tags": []
   },
   "outputs": [],
   "source": [
    "# Auxiliary data needed downstream in the pipeline\n",
    "\n",
    "org_train = X_train.copy()\n",
    "org_test = X_test.copy()\n",
    "org_calib = X_calib.copy()"
   ]
  },
  {
   "cell_type": "markdown",
   "id": "0a4a1b33",
   "metadata": {
    "papermill": {
     "duration": 0.011092,
     "end_time": "2025-08-05T16:26:09.858447",
     "exception": false,
     "start_time": "2025-08-05T16:26:09.847355",
     "status": "completed"
    },
    "tags": []
   },
   "source": [
    "# Preprocessing Data"
   ]
  },
  {
   "cell_type": "code",
   "execution_count": 19,
   "id": "ca879031",
   "metadata": {
    "execution": {
     "iopub.execute_input": "2025-08-05T16:26:09.882344Z",
     "iopub.status.busy": "2025-08-05T16:26:09.881702Z",
     "iopub.status.idle": "2025-08-05T16:26:09.887819Z",
     "shell.execute_reply": "2025-08-05T16:26:09.887039Z"
    },
    "papermill": {
     "duration": 0.019849,
     "end_time": "2025-08-05T16:26:09.889359",
     "exception": false,
     "start_time": "2025-08-05T16:26:09.869510",
     "status": "completed"
    },
    "tags": []
   },
   "outputs": [],
   "source": [
    "# EXCLUDE PROTECTED FEATURES\n",
    "# ----------------------\n",
    "# \"exclude_features\": \"none\", # \"nationality\", \"sex\", \"nationality-sex\"\n",
    "\n",
    "excluded_features = universe[\"exclude_features\"].split(\"-\") # split, e.g.: \"nationality-sex\" -> [\"nationality\", \"sex\"]\n",
    "excluded_features_dictionary = {\n",
    "    \"nationality\": [\"maxdeutsch1\", \"maxdeutsch.Missing.\"],\n",
    "    \"sex\": [\"frau1\"],\n",
    "    \"age\": [\"age\"],\n",
    "}"
   ]
  },
  {
   "cell_type": "code",
   "execution_count": 20,
   "id": "b745ac60",
   "metadata": {
    "execution": {
     "iopub.execute_input": "2025-08-05T16:26:09.913243Z",
     "iopub.status.busy": "2025-08-05T16:26:09.912788Z",
     "iopub.status.idle": "2025-08-05T16:26:09.917719Z",
     "shell.execute_reply": "2025-08-05T16:26:09.916773Z"
    },
    "papermill": {
     "duration": 0.018502,
     "end_time": "2025-08-05T16:26:09.919192",
     "exception": false,
     "start_time": "2025-08-05T16:26:09.900690",
     "status": "completed"
    },
    "tags": []
   },
   "outputs": [],
   "source": [
    "# Code nice names to column names\n",
    "\n",
    "excluded_features_columns = [\n",
    "    excluded_features_dictionary[f] for f in excluded_features if len(f) > 0 and f != \"none\"\n",
    "]"
   ]
  },
  {
   "cell_type": "code",
   "execution_count": 21,
   "id": "f84f73a2",
   "metadata": {
    "execution": {
     "iopub.execute_input": "2025-08-05T16:26:09.946486Z",
     "iopub.status.busy": "2025-08-05T16:26:09.945863Z",
     "iopub.status.idle": "2025-08-05T16:26:09.952087Z",
     "shell.execute_reply": "2025-08-05T16:26:09.951132Z"
    },
    "papermill": {
     "duration": 0.020049,
     "end_time": "2025-08-05T16:26:09.953633",
     "exception": false,
     "start_time": "2025-08-05T16:26:09.933584",
     "status": "completed"
    },
    "tags": []
   },
   "outputs": [],
   "source": [
    "from utils import flatten_once\n",
    "\n",
    "excluded_features_columns = flatten_once(excluded_features_columns)"
   ]
  },
  {
   "cell_type": "code",
   "execution_count": 22,
   "id": "884dea22",
   "metadata": {
    "execution": {
     "iopub.execute_input": "2025-08-05T16:26:09.977760Z",
     "iopub.status.busy": "2025-08-05T16:26:09.977138Z",
     "iopub.status.idle": "2025-08-05T16:26:09.985627Z",
     "shell.execute_reply": "2025-08-05T16:26:09.984285Z"
    },
    "papermill": {
     "duration": 0.022471,
     "end_time": "2025-08-05T16:26:09.987585",
     "exception": false,
     "start_time": "2025-08-05T16:26:09.965114",
     "status": "completed"
    },
    "tags": []
   },
   "outputs": [
    {
     "name": "stdout",
     "output_type": "stream",
     "text": [
      "Dropping features: ['age']\n"
     ]
    }
   ],
   "source": [
    "if len(excluded_features_columns) > 0:\n",
    "    print(f\"Dropping features: {excluded_features_columns}\")\n",
    "    X_train.drop(excluded_features_columns, axis=1, inplace=True)"
   ]
  },
  {
   "cell_type": "code",
   "execution_count": 23,
   "id": "95ab8b16",
   "metadata": {
    "execution": {
     "iopub.execute_input": "2025-08-05T16:26:10.033433Z",
     "iopub.status.busy": "2025-08-05T16:26:10.032666Z",
     "iopub.status.idle": "2025-08-05T16:26:10.091080Z",
     "shell.execute_reply": "2025-08-05T16:26:10.089860Z"
    },
    "papermill": {
     "duration": 0.083531,
     "end_time": "2025-08-05T16:26:10.093144",
     "exception": false,
     "start_time": "2025-08-05T16:26:10.009613",
     "status": "completed"
    },
    "tags": []
   },
   "outputs": [
    {
     "name": "stdout",
     "output_type": "stream",
     "text": [
      "Dropping features: ['age']\n"
     ]
    }
   ],
   "source": [
    "if len(excluded_features_columns) > 0:\n",
    "    print(f\"Dropping features: {excluded_features_columns}\")\n",
    "    X_test.drop(excluded_features_columns, axis=1, inplace=True)"
   ]
  },
  {
   "cell_type": "code",
   "execution_count": 24,
   "id": "1853aaf5-fb9f-46cb-a2b5-8ea4ae2237e4",
   "metadata": {
    "execution": {
     "iopub.execute_input": "2025-08-05T16:26:10.145866Z",
     "iopub.status.busy": "2025-08-05T16:26:10.144789Z",
     "iopub.status.idle": "2025-08-05T16:26:10.203156Z",
     "shell.execute_reply": "2025-08-05T16:26:10.201919Z"
    },
    "papermill": {
     "duration": 0.085886,
     "end_time": "2025-08-05T16:26:10.205274",
     "exception": false,
     "start_time": "2025-08-05T16:26:10.119388",
     "status": "completed"
    },
    "tags": []
   },
   "outputs": [
    {
     "name": "stdout",
     "output_type": "stream",
     "text": [
      "Dropping features: ['age']\n"
     ]
    }
   ],
   "source": [
    "if len(excluded_features_columns) > 0:\n",
    "    print(f\"Dropping features: {excluded_features_columns}\")\n",
    "    X_calib.drop(excluded_features_columns, axis=1, inplace=True)"
   ]
  },
  {
   "cell_type": "code",
   "execution_count": 25,
   "id": "76c4dc6d",
   "metadata": {
    "execution": {
     "iopub.execute_input": "2025-08-05T16:26:10.259372Z",
     "iopub.status.busy": "2025-08-05T16:26:10.258347Z",
     "iopub.status.idle": "2025-08-05T16:26:10.264928Z",
     "shell.execute_reply": "2025-08-05T16:26:10.263726Z"
    },
    "papermill": {
     "duration": 0.035875,
     "end_time": "2025-08-05T16:26:10.266918",
     "exception": false,
     "start_time": "2025-08-05T16:26:10.231043",
     "status": "completed"
    },
    "tags": []
   },
   "outputs": [],
   "source": [
    "# EXCLUDE CERTAIN SUBGROUPS\n",
    "# ----------------------\n",
    "\n",
    "mode = universe.get(\"exclude_subgroups\", \"keep-all\") \n",
    "# Fetches the exclude_subgroups setting from the universe dict.\n",
    "# Defaults to \"keep-all\" if the key is missing."
   ]
  },
  {
   "cell_type": "code",
   "execution_count": 26,
   "id": "21994072",
   "metadata": {
    "execution": {
     "iopub.execute_input": "2025-08-05T16:26:10.320462Z",
     "iopub.status.busy": "2025-08-05T16:26:10.319307Z",
     "iopub.status.idle": "2025-08-05T16:26:10.328328Z",
     "shell.execute_reply": "2025-08-05T16:26:10.327104Z"
    },
    "papermill": {
     "duration": 0.03762,
     "end_time": "2025-08-05T16:26:10.330399",
     "exception": false,
     "start_time": "2025-08-05T16:26:10.292779",
     "status": "completed"
    },
    "tags": []
   },
   "outputs": [],
   "source": [
    "if mode == \"keep-all\":\n",
    "    keep_mask = pd.Series(True, index=org_train.index)\n",
    "\n",
    "# org_train contains the original feature columns from features_org (in Simson)\n",
    "# features_org contains unprocessed features, for me X_train at beginning ???\n",
    "# For keep-all, creates a boolean Series (keep_mask) of all True, so no rows are removed.\n",
    "\n",
    "elif mode == \"drop-non-german\":\n",
    "    keep_mask = org_train[\"maxdeutsch1\"] == 1 # ??? what about missing values?\n",
    "\n",
    "else:\n",
    "    raise ValueError(f\"Unsupported mode for exclude_subgroups: {mode}\")"
   ]
  },
  {
   "cell_type": "code",
   "execution_count": 27,
   "id": "71651440",
   "metadata": {
    "execution": {
     "iopub.execute_input": "2025-08-05T16:26:10.375158Z",
     "iopub.status.busy": "2025-08-05T16:26:10.374494Z",
     "iopub.status.idle": "2025-08-05T16:26:10.383267Z",
     "shell.execute_reply": "2025-08-05T16:26:10.382003Z"
    },
    "papermill": {
     "duration": 0.033701,
     "end_time": "2025-08-05T16:26:10.385262",
     "exception": false,
     "start_time": "2025-08-05T16:26:10.351561",
     "status": "completed"
    },
    "tags": []
   },
   "outputs": [
    {
     "name": "stdout",
     "output_type": "stream",
     "text": [
      "Dropping 147 rows (14.70%) where mode='drop-non-german'\n"
     ]
    }
   ],
   "source": [
    "n_drop = (~keep_mask).sum() # Calculates how many rows are set to be dropped\n",
    "if n_drop > 0:\n",
    "    pct = n_drop / len(keep_mask) * 100\n",
    "    print(f\"Dropping {n_drop} rows ({pct:.2f}%) where mode='{mode}'\")"
   ]
  },
  {
   "cell_type": "code",
   "execution_count": 28,
   "id": "5fb8eee5",
   "metadata": {
    "execution": {
     "iopub.execute_input": "2025-08-05T16:26:10.430281Z",
     "iopub.status.busy": "2025-08-05T16:26:10.429371Z",
     "iopub.status.idle": "2025-08-05T16:26:10.437353Z",
     "shell.execute_reply": "2025-08-05T16:26:10.436181Z"
    },
    "papermill": {
     "duration": 0.031996,
     "end_time": "2025-08-05T16:26:10.439169",
     "exception": false,
     "start_time": "2025-08-05T16:26:10.407173",
     "status": "completed"
    },
    "tags": []
   },
   "outputs": [],
   "source": [
    "X_train = X_train[keep_mask]"
   ]
  },
  {
   "cell_type": "code",
   "execution_count": 29,
   "id": "b202bb3a",
   "metadata": {
    "execution": {
     "iopub.execute_input": "2025-08-05T16:26:10.484153Z",
     "iopub.status.busy": "2025-08-05T16:26:10.483416Z",
     "iopub.status.idle": "2025-08-05T16:26:10.490723Z",
     "shell.execute_reply": "2025-08-05T16:26:10.489454Z"
    },
    "papermill": {
     "duration": 0.031572,
     "end_time": "2025-08-05T16:26:10.492525",
     "exception": false,
     "start_time": "2025-08-05T16:26:10.460953",
     "status": "completed"
    },
    "tags": []
   },
   "outputs": [],
   "source": [
    "y_train = y_train[keep_mask]"
   ]
  },
  {
   "cell_type": "markdown",
   "id": "493e2ac3",
   "metadata": {
    "papermill": {
     "duration": 0.021104,
     "end_time": "2025-08-05T16:26:10.536429",
     "exception": false,
     "start_time": "2025-08-05T16:26:10.515325",
     "status": "completed"
    },
    "tags": []
   },
   "source": [
    "# Model Training"
   ]
  },
  {
   "cell_type": "code",
   "execution_count": 30,
   "id": "679e1268",
   "metadata": {
    "execution": {
     "iopub.execute_input": "2025-08-05T16:26:10.582950Z",
     "iopub.status.busy": "2025-08-05T16:26:10.581899Z",
     "iopub.status.idle": "2025-08-05T16:26:10.708433Z",
     "shell.execute_reply": "2025-08-05T16:26:10.707136Z"
    },
    "papermill": {
     "duration": 0.153291,
     "end_time": "2025-08-05T16:26:10.710891",
     "exception": false,
     "start_time": "2025-08-05T16:26:10.557600",
     "status": "completed"
    },
    "tags": []
   },
   "outputs": [],
   "source": [
    "from sklearn.linear_model import LogisticRegression\n",
    "from sklearn.ensemble import GradientBoostingClassifier, RandomForestClassifier\n",
    "\n",
    "if (universe[\"model\"] == \"logreg\"):\n",
    "    model = LogisticRegression() #penalty=\"none\", solver=\"newton-cg\", max_iter=1) # include random_state=19 ?\n",
    "elif (universe[\"model\"] == \"penalized_logreg\"):\n",
    "    model = LogisticRegression(penalty=\"l2\", C=0.1) #, solver=\"newton-cg\", max_iter=1)\n",
    "elif (universe[\"model\"] == \"rf\"):\n",
    "    model = RandomForestClassifier() # n_estimators=100, n_jobs=-1\n",
    "elif (universe[\"model\"] == \"gbm\"):\n",
    "    model = GradientBoostingClassifier()\n",
    "elif (universe[\"model\"] == \"elasticnet\"):\n",
    "    model = LogisticRegression(penalty = 'elasticnet', solver = 'saga', l1_ratio = 0.5) # max_iter=5000\n",
    "else:\n",
    "    raise \"Unsupported universe.model\""
   ]
  },
  {
   "cell_type": "code",
   "execution_count": 31,
   "id": "0cc8f744",
   "metadata": {
    "execution": {
     "iopub.execute_input": "2025-08-05T16:26:10.759612Z",
     "iopub.status.busy": "2025-08-05T16:26:10.759006Z",
     "iopub.status.idle": "2025-08-05T16:26:10.766774Z",
     "shell.execute_reply": "2025-08-05T16:26:10.765586Z"
    },
    "papermill": {
     "duration": 0.032686,
     "end_time": "2025-08-05T16:26:10.768800",
     "exception": false,
     "start_time": "2025-08-05T16:26:10.736114",
     "status": "completed"
    },
    "tags": []
   },
   "outputs": [],
   "source": [
    "import numpy as np\n",
    "from sklearn.pipeline import Pipeline\n",
    "from sklearn.preprocessing import StandardScaler\n",
    "\n",
    "model = Pipeline([\n",
    "    #(\"continuous_processor\", continuous_processor),\n",
    "    #(\"categorical_preprocessor\", categorical_preprocessor),\n",
    "    (\"scale\", StandardScaler() if universe[\"scale\"] == \"scale\" else None), \n",
    "    (\"model\", model),\n",
    "])"
   ]
  },
  {
   "cell_type": "code",
   "execution_count": 32,
   "id": "9442c04d",
   "metadata": {
    "execution": {
     "iopub.execute_input": "2025-08-05T16:26:10.813665Z",
     "iopub.status.busy": "2025-08-05T16:26:10.812807Z",
     "iopub.status.idle": "2025-08-05T16:26:10.904256Z",
     "shell.execute_reply": "2025-08-05T16:26:10.902515Z"
    },
    "papermill": {
     "duration": 0.116397,
     "end_time": "2025-08-05T16:26:10.906635",
     "exception": false,
     "start_time": "2025-08-05T16:26:10.790238",
     "status": "completed"
    },
    "tags": []
   },
   "outputs": [
    {
     "name": "stderr",
     "output_type": "stream",
     "text": [
      "/dss/dsshome1/0C/ra93lal2/.local/share/virtualenvs/CMA_Fairness_v2-3j10GkSs/lib/python3.10/site-packages/sklearn/linear_model/_logistic.py:444: ConvergenceWarning: lbfgs failed to converge (status=1):\n",
      "STOP: TOTAL NO. of ITERATIONS REACHED LIMIT.\n",
      "\n",
      "Increase the number of iterations (max_iter) or scale the data as shown in:\n",
      "    https://scikit-learn.org/stable/modules/preprocessing.html\n",
      "Please also refer to the documentation for alternative solver options:\n",
      "    https://scikit-learn.org/stable/modules/linear_model.html#logistic-regression\n",
      "  n_iter_i = _check_optimize_result(\n"
     ]
    },
    {
     "data": {
      "text/html": [
       "<style>#sk-container-id-1 {color: black;background-color: white;}#sk-container-id-1 pre{padding: 0;}#sk-container-id-1 div.sk-toggleable {background-color: white;}#sk-container-id-1 label.sk-toggleable__label {cursor: pointer;display: block;width: 100%;margin-bottom: 0;padding: 0.3em;box-sizing: border-box;text-align: center;}#sk-container-id-1 label.sk-toggleable__label-arrow:before {content: \"▸\";float: left;margin-right: 0.25em;color: #696969;}#sk-container-id-1 label.sk-toggleable__label-arrow:hover:before {color: black;}#sk-container-id-1 div.sk-estimator:hover label.sk-toggleable__label-arrow:before {color: black;}#sk-container-id-1 div.sk-toggleable__content {max-height: 0;max-width: 0;overflow: hidden;text-align: left;background-color: #f0f8ff;}#sk-container-id-1 div.sk-toggleable__content pre {margin: 0.2em;color: black;border-radius: 0.25em;background-color: #f0f8ff;}#sk-container-id-1 input.sk-toggleable__control:checked~div.sk-toggleable__content {max-height: 200px;max-width: 100%;overflow: auto;}#sk-container-id-1 input.sk-toggleable__control:checked~label.sk-toggleable__label-arrow:before {content: \"▾\";}#sk-container-id-1 div.sk-estimator input.sk-toggleable__control:checked~label.sk-toggleable__label {background-color: #d4ebff;}#sk-container-id-1 div.sk-label input.sk-toggleable__control:checked~label.sk-toggleable__label {background-color: #d4ebff;}#sk-container-id-1 input.sk-hidden--visually {border: 0;clip: rect(1px 1px 1px 1px);clip: rect(1px, 1px, 1px, 1px);height: 1px;margin: -1px;overflow: hidden;padding: 0;position: absolute;width: 1px;}#sk-container-id-1 div.sk-estimator {font-family: monospace;background-color: #f0f8ff;border: 1px dotted black;border-radius: 0.25em;box-sizing: border-box;margin-bottom: 0.5em;}#sk-container-id-1 div.sk-estimator:hover {background-color: #d4ebff;}#sk-container-id-1 div.sk-parallel-item::after {content: \"\";width: 100%;border-bottom: 1px solid gray;flex-grow: 1;}#sk-container-id-1 div.sk-label:hover label.sk-toggleable__label {background-color: #d4ebff;}#sk-container-id-1 div.sk-serial::before {content: \"\";position: absolute;border-left: 1px solid gray;box-sizing: border-box;top: 0;bottom: 0;left: 50%;z-index: 0;}#sk-container-id-1 div.sk-serial {display: flex;flex-direction: column;align-items: center;background-color: white;padding-right: 0.2em;padding-left: 0.2em;position: relative;}#sk-container-id-1 div.sk-item {position: relative;z-index: 1;}#sk-container-id-1 div.sk-parallel {display: flex;align-items: stretch;justify-content: center;background-color: white;position: relative;}#sk-container-id-1 div.sk-item::before, #sk-container-id-1 div.sk-parallel-item::before {content: \"\";position: absolute;border-left: 1px solid gray;box-sizing: border-box;top: 0;bottom: 0;left: 50%;z-index: -1;}#sk-container-id-1 div.sk-parallel-item {display: flex;flex-direction: column;z-index: 1;position: relative;background-color: white;}#sk-container-id-1 div.sk-parallel-item:first-child::after {align-self: flex-end;width: 50%;}#sk-container-id-1 div.sk-parallel-item:last-child::after {align-self: flex-start;width: 50%;}#sk-container-id-1 div.sk-parallel-item:only-child::after {width: 0;}#sk-container-id-1 div.sk-dashed-wrapped {border: 1px dashed gray;margin: 0 0.4em 0.5em 0.4em;box-sizing: border-box;padding-bottom: 0.4em;background-color: white;}#sk-container-id-1 div.sk-label label {font-family: monospace;font-weight: bold;display: inline-block;line-height: 1.2em;}#sk-container-id-1 div.sk-label-container {text-align: center;}#sk-container-id-1 div.sk-container {/* jupyter's `normalize.less` sets `[hidden] { display: none; }` but bootstrap.min.css set `[hidden] { display: none !important; }` so we also need the `!important` here to be able to override the default hidden behavior on the sphinx rendered scikit-learn.org. See: https://github.com/scikit-learn/scikit-learn/issues/21755 */display: inline-block !important;position: relative;}#sk-container-id-1 div.sk-text-repr-fallback {display: none;}</style><div id=\"sk-container-id-1\" class=\"sk-top-container\"><div class=\"sk-text-repr-fallback\"><pre>Pipeline(steps=[(&#x27;scale&#x27;, None), (&#x27;model&#x27;, LogisticRegression(C=0.1))])</pre><b>In a Jupyter environment, please rerun this cell to show the HTML representation or trust the notebook. <br />On GitHub, the HTML representation is unable to render, please try loading this page with nbviewer.org.</b></div><div class=\"sk-container\" hidden><div class=\"sk-item sk-dashed-wrapped\"><div class=\"sk-label-container\"><div class=\"sk-label sk-toggleable\"><input class=\"sk-toggleable__control sk-hidden--visually\" id=\"sk-estimator-id-1\" type=\"checkbox\" ><label for=\"sk-estimator-id-1\" class=\"sk-toggleable__label sk-toggleable__label-arrow\">Pipeline</label><div class=\"sk-toggleable__content\"><pre>Pipeline(steps=[(&#x27;scale&#x27;, None), (&#x27;model&#x27;, LogisticRegression(C=0.1))])</pre></div></div></div><div class=\"sk-serial\"><div class=\"sk-item\"><div class=\"sk-estimator sk-toggleable\"><input class=\"sk-toggleable__control sk-hidden--visually\" id=\"sk-estimator-id-2\" type=\"checkbox\" ><label for=\"sk-estimator-id-2\" class=\"sk-toggleable__label sk-toggleable__label-arrow\">None</label><div class=\"sk-toggleable__content\"><pre>None</pre></div></div></div><div class=\"sk-item\"><div class=\"sk-estimator sk-toggleable\"><input class=\"sk-toggleable__control sk-hidden--visually\" id=\"sk-estimator-id-3\" type=\"checkbox\" ><label for=\"sk-estimator-id-3\" class=\"sk-toggleable__label sk-toggleable__label-arrow\">LogisticRegression</label><div class=\"sk-toggleable__content\"><pre>LogisticRegression(C=0.1)</pre></div></div></div></div></div></div></div>"
      ],
      "text/plain": [
       "Pipeline(steps=[('scale', None), ('model', LogisticRegression(C=0.1))])"
      ]
     },
     "execution_count": 32,
     "metadata": {},
     "output_type": "execute_result"
    }
   ],
   "source": [
    "model.fit(X_train, y_train.values.ravel())"
   ]
  },
  {
   "cell_type": "code",
   "execution_count": 33,
   "id": "af59f8c0",
   "metadata": {
    "execution": {
     "iopub.execute_input": "2025-08-05T16:26:10.955105Z",
     "iopub.status.busy": "2025-08-05T16:26:10.954082Z",
     "iopub.status.idle": "2025-08-05T16:26:10.960320Z",
     "shell.execute_reply": "2025-08-05T16:26:10.959193Z"
    },
    "papermill": {
     "duration": 0.031136,
     "end_time": "2025-08-05T16:26:10.962298",
     "exception": false,
     "start_time": "2025-08-05T16:26:10.931162",
     "status": "completed"
    },
    "tags": []
   },
   "outputs": [],
   "source": [
    "from fairness_multiverse.universe import predict_w_threshold"
   ]
  },
  {
   "cell_type": "code",
   "execution_count": 34,
   "id": "a7cf2e16",
   "metadata": {
    "execution": {
     "iopub.execute_input": "2025-08-05T16:26:11.009694Z",
     "iopub.status.busy": "2025-08-05T16:26:11.008882Z",
     "iopub.status.idle": "2025-08-05T16:26:11.118116Z",
     "shell.execute_reply": "2025-08-05T16:26:11.116794Z"
    },
    "papermill": {
     "duration": 0.1347,
     "end_time": "2025-08-05T16:26:11.120107",
     "exception": false,
     "start_time": "2025-08-05T16:26:10.985407",
     "status": "completed"
    },
    "tags": []
   },
   "outputs": [
    {
     "data": {
      "text/plain": [
       "0.8603723107791773"
      ]
     },
     "execution_count": 34,
     "metadata": {},
     "output_type": "execute_result"
    }
   ],
   "source": [
    "probs_test = model.predict_proba(X_test)\n",
    "\n",
    "'''\n",
    "Below code returns a boolean array (or binary 0/1 array depending on how it’s used) where each element \n",
    "is True if the probability of class 1 is greater than or equal to the threshold, and False otherwise.\n",
    "'''\n",
    "y_pred_default = predict_w_threshold(probs_test, 0.5)\n",
    "\n",
    "from sklearn.metrics import accuracy_score\n",
    "\n",
    "# Naive prediction\n",
    "accuracy_score(y_true = y_true, y_pred = y_pred_default)"
   ]
  },
  {
   "cell_type": "code",
   "execution_count": 35,
   "id": "081964c3",
   "metadata": {
    "execution": {
     "iopub.execute_input": "2025-08-05T16:26:11.169316Z",
     "iopub.status.busy": "2025-08-05T16:26:11.168141Z",
     "iopub.status.idle": "2025-08-05T16:26:11.263693Z",
     "shell.execute_reply": "2025-08-05T16:26:11.262358Z"
    },
    "papermill": {
     "duration": 0.123252,
     "end_time": "2025-08-05T16:26:11.266931",
     "exception": false,
     "start_time": "2025-08-05T16:26:11.143679",
     "status": "completed"
    },
    "tags": []
   },
   "outputs": [
    {
     "data": {
      "text/plain": [
       "array([0, 0, 0, ..., 0, 0, 0])"
      ]
     },
     "execution_count": 35,
     "metadata": {},
     "output_type": "execute_result"
    }
   ],
   "source": [
    "model.predict(X_test)"
   ]
  },
  {
   "cell_type": "markdown",
   "id": "56c9705b",
   "metadata": {
    "papermill": {
     "duration": 0.033383,
     "end_time": "2025-08-05T16:26:11.333606",
     "exception": false,
     "start_time": "2025-08-05T16:26:11.300223",
     "status": "completed"
    },
    "tags": []
   },
   "source": [
    "# Conformal Prediction"
   ]
  },
  {
   "cell_type": "code",
   "execution_count": 36,
   "id": "160ec6ff",
   "metadata": {
    "execution": {
     "iopub.execute_input": "2025-08-05T16:26:11.402119Z",
     "iopub.status.busy": "2025-08-05T16:26:11.401225Z",
     "iopub.status.idle": "2025-08-05T16:26:11.408451Z",
     "shell.execute_reply": "2025-08-05T16:26:11.407247Z"
    },
    "papermill": {
     "duration": 0.043678,
     "end_time": "2025-08-05T16:26:11.410598",
     "exception": false,
     "start_time": "2025-08-05T16:26:11.366920",
     "status": "completed"
    },
    "tags": []
   },
   "outputs": [],
   "source": [
    "# Miscoverage level for conformal prediction (10% allowed error rate => 90% target coverage)\n",
    "alpha = 0.1"
   ]
  },
  {
   "cell_type": "code",
   "execution_count": 37,
   "id": "eadf4555-3dd3-440e-8e35-f82a4ad9f855",
   "metadata": {
    "execution": {
     "iopub.execute_input": "2025-08-05T16:26:11.479991Z",
     "iopub.status.busy": "2025-08-05T16:26:11.479071Z",
     "iopub.status.idle": "2025-08-05T16:26:11.596578Z",
     "shell.execute_reply": "2025-08-05T16:26:11.595310Z"
    },
    "papermill": {
     "duration": 0.15527,
     "end_time": "2025-08-05T16:26:11.599181",
     "exception": false,
     "start_time": "2025-08-05T16:26:11.443911",
     "status": "completed"
    },
    "tags": []
   },
   "outputs": [],
   "source": [
    "probs_calib = model.predict_proba(X_calib)"
   ]
  },
  {
   "cell_type": "code",
   "execution_count": 38,
   "id": "2ed93547-6d5d-4983-9b36-1ecb300da49a",
   "metadata": {
    "execution": {
     "iopub.execute_input": "2025-08-05T16:26:11.648909Z",
     "iopub.status.busy": "2025-08-05T16:26:11.647836Z",
     "iopub.status.idle": "2025-08-05T16:26:11.655560Z",
     "shell.execute_reply": "2025-08-05T16:26:11.654215Z"
    },
    "papermill": {
     "duration": 0.034649,
     "end_time": "2025-08-05T16:26:11.657662",
     "exception": false,
     "start_time": "2025-08-05T16:26:11.623013",
     "status": "completed"
    },
    "tags": []
   },
   "outputs": [],
   "source": [
    "y_calib = y_calib.values.ravel().astype(int)"
   ]
  },
  {
   "cell_type": "code",
   "execution_count": 39,
   "id": "65d1320d-f588-4b38-9072-62af1ae97f7d",
   "metadata": {
    "execution": {
     "iopub.execute_input": "2025-08-05T16:26:11.708770Z",
     "iopub.status.busy": "2025-08-05T16:26:11.708212Z",
     "iopub.status.idle": "2025-08-05T16:26:11.718201Z",
     "shell.execute_reply": "2025-08-05T16:26:11.717056Z"
    },
    "papermill": {
     "duration": 0.037778,
     "end_time": "2025-08-05T16:26:11.720101",
     "exception": false,
     "start_time": "2025-08-05T16:26:11.682323",
     "status": "completed"
    },
    "tags": []
   },
   "outputs": [],
   "source": [
    "from fairness_multiverse.conformal import compute_nc_scores\n",
    "\n",
    "# Compute nonconformity scores on calibration set (1 - probability of true class)\n",
    "nc_scores = compute_nc_scores(probs_calib, y_calib)"
   ]
  },
  {
   "cell_type": "code",
   "execution_count": 40,
   "id": "df3b8ca3-53b7-43d5-9667-7c85da7aeda2",
   "metadata": {
    "execution": {
     "iopub.execute_input": "2025-08-05T16:26:11.771173Z",
     "iopub.status.busy": "2025-08-05T16:26:11.770006Z",
     "iopub.status.idle": "2025-08-05T16:26:11.778026Z",
     "shell.execute_reply": "2025-08-05T16:26:11.776796Z"
    },
    "papermill": {
     "duration": 0.036574,
     "end_time": "2025-08-05T16:26:11.780371",
     "exception": false,
     "start_time": "2025-08-05T16:26:11.743797",
     "status": "completed"
    },
    "tags": []
   },
   "outputs": [],
   "source": [
    "from fairness_multiverse.conformal import find_threshold\n",
    "\n",
    "# Find conformal threshold q_hat for the given alpha (split conformal method)\n",
    "q_hat = find_threshold(nc_scores, alpha)"
   ]
  },
  {
   "cell_type": "code",
   "execution_count": 41,
   "id": "4d29e6c1-0ef6-4aa4-b8fe-4fe79b0d033a",
   "metadata": {
    "execution": {
     "iopub.execute_input": "2025-08-05T16:26:11.849528Z",
     "iopub.status.busy": "2025-08-05T16:26:11.848674Z",
     "iopub.status.idle": "2025-08-05T16:26:11.857505Z",
     "shell.execute_reply": "2025-08-05T16:26:11.856223Z"
    },
    "papermill": {
     "duration": 0.04574,
     "end_time": "2025-08-05T16:26:11.859799",
     "exception": false,
     "start_time": "2025-08-05T16:26:11.814059",
     "status": "completed"
    },
    "tags": []
   },
   "outputs": [
    {
     "data": {
      "text/plain": [
       "0.6715614924485276"
      ]
     },
     "execution_count": 41,
     "metadata": {},
     "output_type": "execute_result"
    }
   ],
   "source": [
    "q_hat"
   ]
  },
  {
   "cell_type": "code",
   "execution_count": 42,
   "id": "92460794-cdac-4be2-ba28-f28c0515a6fb",
   "metadata": {
    "execution": {
     "iopub.execute_input": "2025-08-05T16:26:11.930649Z",
     "iopub.status.busy": "2025-08-05T16:26:11.929789Z",
     "iopub.status.idle": "2025-08-05T16:26:12.829533Z",
     "shell.execute_reply": "2025-08-05T16:26:12.828617Z"
    },
    "papermill": {
     "duration": 0.938333,
     "end_time": "2025-08-05T16:26:12.832447",
     "exception": false,
     "start_time": "2025-08-05T16:26:11.894114",
     "status": "completed"
    },
    "tags": []
   },
   "outputs": [],
   "source": [
    "from fairness_multiverse.conformal import predict_conformal_sets\n",
    "\n",
    "# Generate prediction sets for each test example\n",
    "pred_sets = predict_conformal_sets(model, X_test, q_hat)"
   ]
  },
  {
   "cell_type": "code",
   "execution_count": 43,
   "id": "d90c9a65-e6db-4f5d-80cd-e68fb7e46829",
   "metadata": {
    "execution": {
     "iopub.execute_input": "2025-08-05T16:26:12.912939Z",
     "iopub.status.busy": "2025-08-05T16:26:12.912455Z",
     "iopub.status.idle": "2025-08-05T16:26:12.920013Z",
     "shell.execute_reply": "2025-08-05T16:26:12.918522Z"
    },
    "papermill": {
     "duration": 0.050711,
     "end_time": "2025-08-05T16:26:12.922593",
     "exception": false,
     "start_time": "2025-08-05T16:26:12.871882",
     "status": "completed"
    },
    "tags": []
   },
   "outputs": [],
   "source": [
    "y_true = y_true.squeeze()"
   ]
  },
  {
   "cell_type": "code",
   "execution_count": 44,
   "id": "3a58a54a-1e68-46b9-927a-df01f18aebc8",
   "metadata": {
    "execution": {
     "iopub.execute_input": "2025-08-05T16:26:13.003215Z",
     "iopub.status.busy": "2025-08-05T16:26:13.002730Z",
     "iopub.status.idle": "2025-08-05T16:26:14.150164Z",
     "shell.execute_reply": "2025-08-05T16:26:14.148964Z"
    },
    "papermill": {
     "duration": 1.190869,
     "end_time": "2025-08-05T16:26:14.152517",
     "exception": false,
     "start_time": "2025-08-05T16:26:12.961648",
     "status": "completed"
    },
    "tags": []
   },
   "outputs": [],
   "source": [
    "from fairness_multiverse.conformal import evaluate_sets\n",
    "\n",
    "# Evaluate coverage and average set size on test data\n",
    "metrics = evaluate_sets(pred_sets, y_true)"
   ]
  },
  {
   "cell_type": "markdown",
   "id": "2b569c12-9aaa-4c88-98c9-bbcd0cf3ebb8",
   "metadata": {
    "papermill": {
     "duration": 0.032379,
     "end_time": "2025-08-05T16:26:14.217628",
     "exception": false,
     "start_time": "2025-08-05T16:26:14.185249",
     "status": "completed"
    },
    "tags": []
   },
   "source": [
    "# CP Metrics"
   ]
  },
  {
   "cell_type": "code",
   "execution_count": 45,
   "id": "5ce0a5cb-201f-45a0-ade5-94c7f0bd6095",
   "metadata": {
    "execution": {
     "iopub.execute_input": "2025-08-05T16:26:14.284513Z",
     "iopub.status.busy": "2025-08-05T16:26:14.283880Z",
     "iopub.status.idle": "2025-08-05T16:26:14.293542Z",
     "shell.execute_reply": "2025-08-05T16:26:14.292317Z"
    },
    "papermill": {
     "duration": 0.046085,
     "end_time": "2025-08-05T16:26:14.295905",
     "exception": false,
     "start_time": "2025-08-05T16:26:14.249820",
     "status": "completed"
    },
    "tags": []
   },
   "outputs": [
    {
     "data": {
      "text/plain": [
       "{'coverage': 0.9138669044699588, 'avg_size': 1.2635269200757997}"
      ]
     },
     "execution_count": 45,
     "metadata": {},
     "output_type": "execute_result"
    }
   ],
   "source": [
    "metrics"
   ]
  },
  {
   "cell_type": "code",
   "execution_count": 46,
   "id": "9b9a838d-31c9-430b-ae14-12baee460d17",
   "metadata": {
    "execution": {
     "iopub.execute_input": "2025-08-05T16:26:14.325473Z",
     "iopub.status.busy": "2025-08-05T16:26:14.325031Z",
     "iopub.status.idle": "2025-08-05T16:26:14.333009Z",
     "shell.execute_reply": "2025-08-05T16:26:14.331689Z"
    },
    "papermill": {
     "duration": 0.023982,
     "end_time": "2025-08-05T16:26:14.335194",
     "exception": false,
     "start_time": "2025-08-05T16:26:14.311212",
     "status": "completed"
    },
    "tags": []
   },
   "outputs": [],
   "source": [
    "example_universe = universe.copy()\n",
    "universe_training_year = example_universe.get(\"training_year\")\n",
    "universe_training_size = example_universe.get(\"training_size\")\n",
    "universe_scale = example_universe.get(\"scale\")\n",
    "universe_model = example_universe.get(\"model\")\n",
    "universe_exclude_features = example_universe.get(\"exclude_features\")\n",
    "universe_exclude_subgroups = example_universe.get(\"exclude_subgroups\")"
   ]
  },
  {
   "cell_type": "code",
   "execution_count": 47,
   "id": "f4b6a8ac-9dc0-4245-8a91-5b3b5999c4f9",
   "metadata": {
    "execution": {
     "iopub.execute_input": "2025-08-05T16:26:14.385273Z",
     "iopub.status.busy": "2025-08-05T16:26:14.384610Z",
     "iopub.status.idle": "2025-08-05T16:26:14.392251Z",
     "shell.execute_reply": "2025-08-05T16:26:14.391091Z"
    },
    "papermill": {
     "duration": 0.037077,
     "end_time": "2025-08-05T16:26:14.394257",
     "exception": false,
     "start_time": "2025-08-05T16:26:14.357180",
     "status": "completed"
    },
    "tags": []
   },
   "outputs": [],
   "source": [
    "cp_metrics_dict = {\n",
    "    \"universe_id\": [universe_id],\n",
    "    \"universe_training_year\": [universe_training_year],\n",
    "    \"universe_training_size\": [universe_training_size],\n",
    "    \"universe_scale\": [universe_scale],\n",
    "    \"universe_model\": [universe_model],\n",
    "    \"universe_exclude_features\": [universe_exclude_features],\n",
    "    \"universe_exclude_subgroups\": [universe_exclude_subgroups],\n",
    "    \"q_hat\": [q_hat],\n",
    "    \"coverage\": [metrics[\"coverage\"]],\n",
    "    \"avg_size\": [metrics[\"avg_size\"]],\n",
    "}"
   ]
  },
  {
   "cell_type": "code",
   "execution_count": 48,
   "id": "908acbb1-0371-4915-85ca-3fa520d2efe2",
   "metadata": {
    "execution": {
     "iopub.execute_input": "2025-08-05T16:26:14.425813Z",
     "iopub.status.busy": "2025-08-05T16:26:14.425214Z",
     "iopub.status.idle": "2025-08-05T16:26:14.433388Z",
     "shell.execute_reply": "2025-08-05T16:26:14.432532Z"
    },
    "papermill": {
     "duration": 0.024939,
     "end_time": "2025-08-05T16:26:14.434927",
     "exception": false,
     "start_time": "2025-08-05T16:26:14.409988",
     "status": "completed"
    },
    "tags": []
   },
   "outputs": [
    {
     "data": {
      "text/plain": [
       "{'universe_id': ['78924c731e47e7743fc17f95487eb533'],\n",
       " 'universe_training_year': ['2012_14'],\n",
       " 'universe_training_size': ['1k'],\n",
       " 'universe_scale': ['do-not-scale'],\n",
       " 'universe_model': ['penalized_logreg'],\n",
       " 'universe_exclude_features': ['age'],\n",
       " 'universe_exclude_subgroups': ['drop-non-german'],\n",
       " 'q_hat': [0.6715614924485276],\n",
       " 'coverage': [0.9138669044699588],\n",
       " 'avg_size': [1.2635269200757997]}"
      ]
     },
     "execution_count": 48,
     "metadata": {},
     "output_type": "execute_result"
    }
   ],
   "source": [
    "cp_metrics_dict"
   ]
  },
  {
   "cell_type": "code",
   "execution_count": 49,
   "id": "33007efc-14e9-4ec6-97ac-56a455c82265",
   "metadata": {
    "execution": {
     "iopub.execute_input": "2025-08-05T16:26:14.470114Z",
     "iopub.status.busy": "2025-08-05T16:26:14.469680Z",
     "iopub.status.idle": "2025-08-05T16:26:14.475628Z",
     "shell.execute_reply": "2025-08-05T16:26:14.474648Z"
    },
    "papermill": {
     "duration": 0.027844,
     "end_time": "2025-08-05T16:26:14.477188",
     "exception": false,
     "start_time": "2025-08-05T16:26:14.449344",
     "status": "completed"
    },
    "tags": []
   },
   "outputs": [],
   "source": [
    "cp_metrics_df = pd.DataFrame(cp_metrics_dict)"
   ]
  },
  {
   "cell_type": "code",
   "execution_count": 50,
   "id": "db12611b-57b2-4910-b9d0-355adfd6e7bf",
   "metadata": {
    "execution": {
     "iopub.execute_input": "2025-08-05T16:26:14.505176Z",
     "iopub.status.busy": "2025-08-05T16:26:14.504723Z",
     "iopub.status.idle": "2025-08-05T16:26:14.521628Z",
     "shell.execute_reply": "2025-08-05T16:26:14.520748Z"
    },
    "papermill": {
     "duration": 0.036615,
     "end_time": "2025-08-05T16:26:14.527442",
     "exception": false,
     "start_time": "2025-08-05T16:26:14.490827",
     "status": "completed"
    },
    "tags": []
   },
   "outputs": [
    {
     "data": {
      "text/html": [
       "<div>\n",
       "<style scoped>\n",
       "    .dataframe tbody tr th:only-of-type {\n",
       "        vertical-align: middle;\n",
       "    }\n",
       "\n",
       "    .dataframe tbody tr th {\n",
       "        vertical-align: top;\n",
       "    }\n",
       "\n",
       "    .dataframe thead th {\n",
       "        text-align: right;\n",
       "    }\n",
       "</style>\n",
       "<table border=\"1\" class=\"dataframe\">\n",
       "  <thead>\n",
       "    <tr style=\"text-align: right;\">\n",
       "      <th></th>\n",
       "      <th>universe_id</th>\n",
       "      <th>universe_training_year</th>\n",
       "      <th>universe_training_size</th>\n",
       "      <th>universe_scale</th>\n",
       "      <th>universe_model</th>\n",
       "      <th>universe_exclude_features</th>\n",
       "      <th>universe_exclude_subgroups</th>\n",
       "      <th>q_hat</th>\n",
       "      <th>coverage</th>\n",
       "      <th>avg_size</th>\n",
       "    </tr>\n",
       "  </thead>\n",
       "  <tbody>\n",
       "    <tr>\n",
       "      <th>0</th>\n",
       "      <td>78924c731e47e7743fc17f95487eb533</td>\n",
       "      <td>2012_14</td>\n",
       "      <td>1k</td>\n",
       "      <td>do-not-scale</td>\n",
       "      <td>penalized_logreg</td>\n",
       "      <td>age</td>\n",
       "      <td>drop-non-german</td>\n",
       "      <td>0.671561</td>\n",
       "      <td>0.913867</td>\n",
       "      <td>1.263527</td>\n",
       "    </tr>\n",
       "  </tbody>\n",
       "</table>\n",
       "</div>"
      ],
      "text/plain": [
       "                        universe_id universe_training_year  \\\n",
       "0  78924c731e47e7743fc17f95487eb533                2012_14   \n",
       "\n",
       "  universe_training_size universe_scale    universe_model  \\\n",
       "0                     1k   do-not-scale  penalized_logreg   \n",
       "\n",
       "  universe_exclude_features universe_exclude_subgroups     q_hat  coverage  \\\n",
       "0                       age            drop-non-german  0.671561  0.913867   \n",
       "\n",
       "   avg_size  \n",
       "0  1.263527  "
      ]
     },
     "execution_count": 50,
     "metadata": {},
     "output_type": "execute_result"
    }
   ],
   "source": [
    "cp_metrics_df"
   ]
  },
  {
   "cell_type": "code",
   "execution_count": 51,
   "id": "b7fbde55-a0a1-47e4-9af6-fe4a17fa8c61",
   "metadata": {
    "execution": {
     "iopub.execute_input": "2025-08-05T16:26:14.585826Z",
     "iopub.status.busy": "2025-08-05T16:26:14.585305Z",
     "iopub.status.idle": "2025-08-05T16:26:14.600863Z",
     "shell.execute_reply": "2025-08-05T16:26:14.599985Z"
    },
    "papermill": {
     "duration": 0.037103,
     "end_time": "2025-08-05T16:26:14.602395",
     "exception": false,
     "start_time": "2025-08-05T16:26:14.565292",
     "status": "completed"
    },
    "tags": []
   },
   "outputs": [],
   "source": [
    "# Conditional Coverage & looking at subgroups"
   ]
  },
  {
   "cell_type": "code",
   "execution_count": 52,
   "id": "027ae886-68dd-4141-96c7-805a5450e1ef",
   "metadata": {
    "execution": {
     "iopub.execute_input": "2025-08-05T16:26:14.631135Z",
     "iopub.status.busy": "2025-08-05T16:26:14.630646Z",
     "iopub.status.idle": "2025-08-05T16:26:14.877743Z",
     "shell.execute_reply": "2025-08-05T16:26:14.876820Z"
    },
    "papermill": {
     "duration": 0.263133,
     "end_time": "2025-08-05T16:26:14.879353",
     "exception": false,
     "start_time": "2025-08-05T16:26:14.616220",
     "status": "completed"
    },
    "tags": []
   },
   "outputs": [],
   "source": [
    "from fairness_multiverse.conformal import build_cp_groups\n",
    "\n",
    "cp_groups_df = build_cp_groups(pred_sets, y_true, X_test.index, org_test)\n",
    "#needs universe_id and setting"
   ]
  },
  {
   "cell_type": "code",
   "execution_count": 53,
   "id": "6cbdab96-b2b2-45af-ad54-d0516db2e28d",
   "metadata": {
    "execution": {
     "iopub.execute_input": "2025-08-05T16:26:14.909132Z",
     "iopub.status.busy": "2025-08-05T16:26:14.908375Z",
     "iopub.status.idle": "2025-08-05T16:26:16.406649Z",
     "shell.execute_reply": "2025-08-05T16:26:16.405407Z"
    },
    "papermill": {
     "duration": 1.514623,
     "end_time": "2025-08-05T16:26:16.408679",
     "exception": false,
     "start_time": "2025-08-05T16:26:14.894056",
     "status": "completed"
    },
    "tags": []
   },
   "outputs": [],
   "source": [
    "# Define covered = 1 if true_label is in the predicted set\n",
    "cp_groups_df['covered'] = cp_groups_df.apply(\n",
    "    lambda r: int(r['true_label'] in r['pred_set']),\n",
    "    axis=1\n",
    ")"
   ]
  },
  {
   "cell_type": "code",
   "execution_count": 54,
   "id": "338ff529-1a6b-4b87-a931-8e4788d52aad",
   "metadata": {
    "execution": {
     "iopub.execute_input": "2025-08-05T16:26:16.470662Z",
     "iopub.status.busy": "2025-08-05T16:26:16.470186Z",
     "iopub.status.idle": "2025-08-05T16:26:16.476595Z",
     "shell.execute_reply": "2025-08-05T16:26:16.474676Z"
    },
    "papermill": {
     "duration": 0.03967,
     "end_time": "2025-08-05T16:26:16.478618",
     "exception": false,
     "start_time": "2025-08-05T16:26:16.438948",
     "status": "completed"
    },
    "tags": []
   },
   "outputs": [],
   "source": [
    "#cp_groups_df"
   ]
  },
  {
   "cell_type": "code",
   "execution_count": 55,
   "id": "90032e27-66df-4540-9169-4e89cfbaa758",
   "metadata": {
    "execution": {
     "iopub.execute_input": "2025-08-05T16:26:16.510355Z",
     "iopub.status.busy": "2025-08-05T16:26:16.509929Z",
     "iopub.status.idle": "2025-08-05T16:26:16.522985Z",
     "shell.execute_reply": "2025-08-05T16:26:16.521732Z"
    },
    "papermill": {
     "duration": 0.030846,
     "end_time": "2025-08-05T16:26:16.524993",
     "exception": false,
     "start_time": "2025-08-05T16:26:16.494147",
     "status": "completed"
    },
    "tags": []
   },
   "outputs": [],
   "source": [
    "subgroups = ['frau1','nongerman','nongerman_male','nongerman_female']\n",
    "\n",
    "# Conditional coverage for subgroup==1\n",
    "cond_coverage = {\n",
    "    g: cp_groups_df.loc[cp_groups_df[g]==1, 'covered'].mean()\n",
    "    for g in subgroups\n",
    "}"
   ]
  },
  {
   "cell_type": "code",
   "execution_count": 56,
   "id": "1e348fb1-b9c3-45bc-ba23-f016827a7e0d",
   "metadata": {
    "execution": {
     "iopub.execute_input": "2025-08-05T16:26:16.570221Z",
     "iopub.status.busy": "2025-08-05T16:26:16.569764Z",
     "iopub.status.idle": "2025-08-05T16:26:16.577891Z",
     "shell.execute_reply": "2025-08-05T16:26:16.576986Z"
    },
    "papermill": {
     "duration": 0.027091,
     "end_time": "2025-08-05T16:26:16.579563",
     "exception": false,
     "start_time": "2025-08-05T16:26:16.552472",
     "status": "completed"
    },
    "tags": []
   },
   "outputs": [
    {
     "data": {
      "text/plain": [
       "{'frau1': 0.9138158781506942,\n",
       " 'nongerman': 0.9628361309156234,\n",
       " 'nongerman_male': 0.9689273169413672,\n",
       " 'nongerman_female': 0.9527570789865872}"
      ]
     },
     "execution_count": 56,
     "metadata": {},
     "output_type": "execute_result"
    }
   ],
   "source": [
    "cond_coverage"
   ]
  },
  {
   "cell_type": "code",
   "execution_count": 57,
   "id": "f5093324-c3dd-4d63-bc4c-8d945e5c8bbb",
   "metadata": {
    "execution": {
     "iopub.execute_input": "2025-08-05T16:26:16.610914Z",
     "iopub.status.busy": "2025-08-05T16:26:16.610285Z",
     "iopub.status.idle": "2025-08-05T16:26:16.617724Z",
     "shell.execute_reply": "2025-08-05T16:26:16.616850Z"
    },
    "papermill": {
     "duration": 0.024785,
     "end_time": "2025-08-05T16:26:16.619372",
     "exception": false,
     "start_time": "2025-08-05T16:26:16.594587",
     "status": "completed"
    },
    "tags": []
   },
   "outputs": [],
   "source": [
    "for subgroup, cov in cond_coverage.items():\n",
    "    cp_metrics_df[f\"cov_{subgroup}\"] = cov"
   ]
  },
  {
   "cell_type": "code",
   "execution_count": 58,
   "id": "6e872e10-dbe5-49e8-b554-5030c98ff75d",
   "metadata": {
    "execution": {
     "iopub.execute_input": "2025-08-05T16:26:16.650667Z",
     "iopub.status.busy": "2025-08-05T16:26:16.649791Z",
     "iopub.status.idle": "2025-08-05T16:26:16.667736Z",
     "shell.execute_reply": "2025-08-05T16:26:16.666884Z"
    },
    "papermill": {
     "duration": 0.034641,
     "end_time": "2025-08-05T16:26:16.669365",
     "exception": false,
     "start_time": "2025-08-05T16:26:16.634724",
     "status": "completed"
    },
    "tags": []
   },
   "outputs": [
    {
     "data": {
      "text/html": [
       "<div>\n",
       "<style scoped>\n",
       "    .dataframe tbody tr th:only-of-type {\n",
       "        vertical-align: middle;\n",
       "    }\n",
       "\n",
       "    .dataframe tbody tr th {\n",
       "        vertical-align: top;\n",
       "    }\n",
       "\n",
       "    .dataframe thead th {\n",
       "        text-align: right;\n",
       "    }\n",
       "</style>\n",
       "<table border=\"1\" class=\"dataframe\">\n",
       "  <thead>\n",
       "    <tr style=\"text-align: right;\">\n",
       "      <th></th>\n",
       "      <th>universe_id</th>\n",
       "      <th>universe_training_year</th>\n",
       "      <th>universe_training_size</th>\n",
       "      <th>universe_scale</th>\n",
       "      <th>universe_model</th>\n",
       "      <th>universe_exclude_features</th>\n",
       "      <th>universe_exclude_subgroups</th>\n",
       "      <th>q_hat</th>\n",
       "      <th>coverage</th>\n",
       "      <th>avg_size</th>\n",
       "      <th>cov_frau1</th>\n",
       "      <th>cov_nongerman</th>\n",
       "      <th>cov_nongerman_male</th>\n",
       "      <th>cov_nongerman_female</th>\n",
       "    </tr>\n",
       "  </thead>\n",
       "  <tbody>\n",
       "    <tr>\n",
       "      <th>0</th>\n",
       "      <td>78924c731e47e7743fc17f95487eb533</td>\n",
       "      <td>2012_14</td>\n",
       "      <td>1k</td>\n",
       "      <td>do-not-scale</td>\n",
       "      <td>penalized_logreg</td>\n",
       "      <td>age</td>\n",
       "      <td>drop-non-german</td>\n",
       "      <td>0.671561</td>\n",
       "      <td>0.913867</td>\n",
       "      <td>1.263527</td>\n",
       "      <td>0.913816</td>\n",
       "      <td>0.962836</td>\n",
       "      <td>0.968927</td>\n",
       "      <td>0.952757</td>\n",
       "    </tr>\n",
       "  </tbody>\n",
       "</table>\n",
       "</div>"
      ],
      "text/plain": [
       "                        universe_id universe_training_year  \\\n",
       "0  78924c731e47e7743fc17f95487eb533                2012_14   \n",
       "\n",
       "  universe_training_size universe_scale    universe_model  \\\n",
       "0                     1k   do-not-scale  penalized_logreg   \n",
       "\n",
       "  universe_exclude_features universe_exclude_subgroups     q_hat  coverage  \\\n",
       "0                       age            drop-non-german  0.671561  0.913867   \n",
       "\n",
       "   avg_size  cov_frau1  cov_nongerman  cov_nongerman_male  \\\n",
       "0  1.263527   0.913816       0.962836            0.968927   \n",
       "\n",
       "   cov_nongerman_female  \n",
       "0              0.952757  "
      ]
     },
     "execution_count": 58,
     "metadata": {},
     "output_type": "execute_result"
    }
   ],
   "source": [
    "cp_metrics_df"
   ]
  },
  {
   "cell_type": "markdown",
   "id": "33774451",
   "metadata": {
    "papermill": {
     "duration": 0.0144,
     "end_time": "2025-08-05T16:26:16.698471",
     "exception": false,
     "start_time": "2025-08-05T16:26:16.684071",
     "status": "completed"
    },
    "tags": []
   },
   "source": [
    "# (Fairness) Metrics"
   ]
  },
  {
   "cell_type": "code",
   "execution_count": 59,
   "id": "debc5d62",
   "metadata": {
    "execution": {
     "iopub.execute_input": "2025-08-05T16:26:16.728946Z",
     "iopub.status.busy": "2025-08-05T16:26:16.728063Z",
     "iopub.status.idle": "2025-08-05T16:26:16.744215Z",
     "shell.execute_reply": "2025-08-05T16:26:16.743261Z"
    },
    "papermill": {
     "duration": 0.032819,
     "end_time": "2025-08-05T16:26:16.745757",
     "exception": false,
     "start_time": "2025-08-05T16:26:16.712938",
     "status": "completed"
    },
    "tags": []
   },
   "outputs": [],
   "source": [
    "# do I need to include maxdeutsch1.missing?\n",
    "\n",
    "import numpy as np\n",
    "\n",
    "colname_to_bin = \"maxdeutsch1\"\n",
    "majority_value = org_train[colname_to_bin].mode()[0]\n",
    "\n",
    "org_test[\"majmin\"] = np.where(org_test[colname_to_bin] == majority_value, \"majority\", \"minority\")"
   ]
  },
  {
   "cell_type": "code",
   "execution_count": 60,
   "id": "06a50de5",
   "metadata": {
    "execution": {
     "iopub.execute_input": "2025-08-05T16:26:16.777694Z",
     "iopub.status.busy": "2025-08-05T16:26:16.777134Z",
     "iopub.status.idle": "2025-08-05T16:26:18.586587Z",
     "shell.execute_reply": "2025-08-05T16:26:18.585659Z"
    },
    "papermill": {
     "duration": 1.827991,
     "end_time": "2025-08-05T16:26:18.588272",
     "exception": false,
     "start_time": "2025-08-05T16:26:16.760281",
     "status": "completed"
    },
    "tags": []
   },
   "outputs": [],
   "source": [
    "example_universe = universe.copy()\n",
    "example_universe[\"cutoff\"] = example_universe[\"cutoff\"][0]\n",
    "example_universe[\"eval_fairness_grouping\"] = example_universe[\"eval_fairness_grouping\"][0]\n",
    "fairness_dict, metric_frame = universe_analysis.compute_metrics(\n",
    "    example_universe,\n",
    "    y_pred_prob=probs_test,\n",
    "    y_test=y_true,\n",
    "    org_test=org_test,\n",
    ")"
   ]
  },
  {
   "cell_type": "markdown",
   "id": "f95d4e02",
   "metadata": {
    "papermill": {
     "duration": 0.014425,
     "end_time": "2025-08-05T16:26:18.617929",
     "exception": false,
     "start_time": "2025-08-05T16:26:18.603504",
     "status": "completed"
    },
    "tags": []
   },
   "source": [
    "# Overall"
   ]
  },
  {
   "cell_type": "markdown",
   "id": "bdee4871",
   "metadata": {
    "papermill": {
     "duration": 0.014324,
     "end_time": "2025-08-05T16:26:18.646694",
     "exception": false,
     "start_time": "2025-08-05T16:26:18.632370",
     "status": "completed"
    },
    "tags": []
   },
   "source": [
    "Fairness\n",
    "Main fairness target: Equalized Odds. Seems to be a better fit than equal opportunity, since we're not only interested in Y = 1. Seems to be a better fit than demographic parity, since we also care about accuracy, not just equal distribution of preds.\n",
    "\n",
    "Pick column for computation of fairness metrics\n",
    "\n",
    "Performance\n",
    "Overall performance measures, most interesting in relation to the measures split by group below"
   ]
  },
  {
   "cell_type": "code",
   "execution_count": 61,
   "id": "c4e067c6",
   "metadata": {
    "execution": {
     "iopub.execute_input": "2025-08-05T16:26:18.677072Z",
     "iopub.status.busy": "2025-08-05T16:26:18.676528Z",
     "iopub.status.idle": "2025-08-05T16:26:18.686134Z",
     "shell.execute_reply": "2025-08-05T16:26:18.685159Z"
    },
    "papermill": {
     "duration": 0.026671,
     "end_time": "2025-08-05T16:26:18.687843",
     "exception": false,
     "start_time": "2025-08-05T16:26:18.661172",
     "status": "completed"
    },
    "tags": []
   },
   "outputs": [
    {
     "data": {
      "text/plain": [
       "accuracy                   0.212496\n",
       "balanced accuracy          0.522070\n",
       "f1                         0.234154\n",
       "precision                  0.133764\n",
       "false positive rate        0.894338\n",
       "false negative rate        0.061522\n",
       "selection rate             0.900000\n",
       "count                  89710.000000\n",
       "dtype: float64"
      ]
     },
     "execution_count": 61,
     "metadata": {},
     "output_type": "execute_result"
    }
   ],
   "source": [
    "metric_frame.overall"
   ]
  },
  {
   "cell_type": "markdown",
   "id": "e968fe9d",
   "metadata": {
    "papermill": {
     "duration": 0.014525,
     "end_time": "2025-08-05T16:26:18.718094",
     "exception": false,
     "start_time": "2025-08-05T16:26:18.703569",
     "status": "completed"
    },
    "tags": []
   },
   "source": [
    "By Group"
   ]
  },
  {
   "cell_type": "code",
   "execution_count": 62,
   "id": "ec325bce",
   "metadata": {
    "execution": {
     "iopub.execute_input": "2025-08-05T16:26:18.749022Z",
     "iopub.status.busy": "2025-08-05T16:26:18.747959Z",
     "iopub.status.idle": "2025-08-05T16:26:18.763482Z",
     "shell.execute_reply": "2025-08-05T16:26:18.762447Z"
    },
    "papermill": {
     "duration": 0.032723,
     "end_time": "2025-08-05T16:26:18.765140",
     "exception": false,
     "start_time": "2025-08-05T16:26:18.732417",
     "status": "completed"
    },
    "tags": []
   },
   "outputs": [
    {
     "data": {
      "text/html": [
       "<div>\n",
       "<style scoped>\n",
       "    .dataframe tbody tr th:only-of-type {\n",
       "        vertical-align: middle;\n",
       "    }\n",
       "\n",
       "    .dataframe tbody tr th {\n",
       "        vertical-align: top;\n",
       "    }\n",
       "\n",
       "    .dataframe thead th {\n",
       "        text-align: right;\n",
       "    }\n",
       "</style>\n",
       "<table border=\"1\" class=\"dataframe\">\n",
       "  <thead>\n",
       "    <tr style=\"text-align: right;\">\n",
       "      <th></th>\n",
       "      <th>accuracy</th>\n",
       "      <th>balanced accuracy</th>\n",
       "      <th>f1</th>\n",
       "      <th>precision</th>\n",
       "      <th>false positive rate</th>\n",
       "      <th>false negative rate</th>\n",
       "      <th>selection rate</th>\n",
       "      <th>count</th>\n",
       "    </tr>\n",
       "    <tr>\n",
       "      <th>majmin</th>\n",
       "      <th></th>\n",
       "      <th></th>\n",
       "      <th></th>\n",
       "      <th></th>\n",
       "      <th></th>\n",
       "      <th></th>\n",
       "      <th></th>\n",
       "      <th></th>\n",
       "    </tr>\n",
       "  </thead>\n",
       "  <tbody>\n",
       "    <tr>\n",
       "      <th>majority</th>\n",
       "      <td>0.232254</td>\n",
       "      <td>0.527304</td>\n",
       "      <td>0.242169</td>\n",
       "      <td>0.139247</td>\n",
       "      <td>0.873730</td>\n",
       "      <td>0.071663</td>\n",
       "      <td>0.880945</td>\n",
       "      <td>69170.0</td>\n",
       "    </tr>\n",
       "    <tr>\n",
       "      <th>minority</th>\n",
       "      <td>0.145959</td>\n",
       "      <td>0.507602</td>\n",
       "      <td>0.208822</td>\n",
       "      <td>0.116896</td>\n",
       "      <td>0.962415</td>\n",
       "      <td>0.022382</td>\n",
       "      <td>0.964167</td>\n",
       "      <td>20540.0</td>\n",
       "    </tr>\n",
       "  </tbody>\n",
       "</table>\n",
       "</div>"
      ],
      "text/plain": [
       "          accuracy  balanced accuracy        f1  precision  \\\n",
       "majmin                                                       \n",
       "majority  0.232254           0.527304  0.242169   0.139247   \n",
       "minority  0.145959           0.507602  0.208822   0.116896   \n",
       "\n",
       "          false positive rate  false negative rate  selection rate    count  \n",
       "majmin                                                                       \n",
       "majority             0.873730             0.071663        0.880945  69170.0  \n",
       "minority             0.962415             0.022382        0.964167  20540.0  "
      ]
     },
     "execution_count": 62,
     "metadata": {},
     "output_type": "execute_result"
    }
   ],
   "source": [
    "metric_frame.by_group"
   ]
  },
  {
   "cell_type": "code",
   "execution_count": 63,
   "id": "a9ddbe63",
   "metadata": {
    "execution": {
     "iopub.execute_input": "2025-08-05T16:26:18.796356Z",
     "iopub.status.busy": "2025-08-05T16:26:18.795712Z",
     "iopub.status.idle": "2025-08-05T16:26:21.108416Z",
     "shell.execute_reply": "2025-08-05T16:26:21.107247Z"
    },
    "papermill": {
     "duration": 2.330588,
     "end_time": "2025-08-05T16:26:21.110729",
     "exception": false,
     "start_time": "2025-08-05T16:26:18.780141",
     "status": "completed"
    },
    "tags": []
   },
   "outputs": [
    {
     "data": {
      "text/plain": [
       "array([[<Axes: title={'center': 'accuracy'}, xlabel='majmin'>,\n",
       "        <Axes: title={'center': 'balanced accuracy'}, xlabel='majmin'>,\n",
       "        <Axes: title={'center': 'f1'}, xlabel='majmin'>],\n",
       "       [<Axes: title={'center': 'precision'}, xlabel='majmin'>,\n",
       "        <Axes: title={'center': 'false positive rate'}, xlabel='majmin'>,\n",
       "        <Axes: title={'center': 'false negative rate'}, xlabel='majmin'>],\n",
       "       [<Axes: title={'center': 'selection rate'}, xlabel='majmin'>,\n",
       "        <Axes: title={'center': 'count'}, xlabel='majmin'>,\n",
       "        <Axes: xlabel='majmin'>]], dtype=object)"
      ]
     },
     "execution_count": 63,
     "metadata": {},
     "output_type": "execute_result"
    },
    {
     "data": {
      "image/png": "[encoded data removed]",
      "text/plain": [
       "<Figure size 1200x800 with 9 Axes>"
      ]
     },
     "metadata": {},
     "output_type": "display_data"
    }
   ],
   "source": [
    "# In a graphic\n",
    "metric_frame.by_group.plot.bar(\n",
    "    subplots=True,\n",
    "    layout=[3, 3],\n",
    "    legend=False,\n",
    "    figsize=[12, 8],\n",
    "    title=\"Show all metrics\",\n",
    ")"
   ]
  },
  {
   "cell_type": "markdown",
   "id": "f57a0bac",
   "metadata": {
    "papermill": {
     "duration": 0.03117,
     "end_time": "2025-08-05T16:26:21.174196",
     "exception": false,
     "start_time": "2025-08-05T16:26:21.143026",
     "status": "completed"
    },
    "tags": []
   },
   "source": [
    "# Final Output"
   ]
  },
  {
   "cell_type": "code",
   "execution_count": 64,
   "id": "96d280a3",
   "metadata": {
    "execution": {
     "iopub.execute_input": "2025-08-05T16:26:21.243463Z",
     "iopub.status.busy": "2025-08-05T16:26:21.242667Z",
     "iopub.status.idle": "2025-08-05T16:26:21.252135Z",
     "shell.execute_reply": "2025-08-05T16:26:21.251062Z"
    },
    "papermill": {
     "duration": 0.046775,
     "end_time": "2025-08-05T16:26:21.254066",
     "exception": false,
     "start_time": "2025-08-05T16:26:21.207291",
     "status": "completed"
    },
    "tags": []
   },
   "outputs": [
    {
     "data": {
      "text/plain": [
       "4"
      ]
     },
     "execution_count": 64,
     "metadata": {},
     "output_type": "execute_result"
    }
   ],
   "source": [
    "sub_universes = universe_analysis.generate_sub_universes()\n",
    "len(sub_universes)"
   ]
  },
  {
   "cell_type": "code",
   "execution_count": 65,
   "id": "92adf7ba",
   "metadata": {
    "execution": {
     "iopub.execute_input": "2025-08-05T16:26:21.313332Z",
     "iopub.status.busy": "2025-08-05T16:26:21.312795Z",
     "iopub.status.idle": "2025-08-05T16:26:21.320218Z",
     "shell.execute_reply": "2025-08-05T16:26:21.319106Z"
    },
    "papermill": {
     "duration": 0.039458,
     "end_time": "2025-08-05T16:26:21.322469",
     "exception": false,
     "start_time": "2025-08-05T16:26:21.283011",
     "status": "completed"
    },
    "tags": []
   },
   "outputs": [],
   "source": [
    "def filter_sub_universe_data(sub_universe, org_test):\n",
    "    # Keep all rows — no filtering\n",
    "    keep_rows_mask = np.ones(org_test.shape[0], dtype=bool)\n",
    "\n",
    "    print(f\"[INFO] Keeping all rows: {keep_rows_mask.sum()} rows retained.\")\n",
    "    return keep_rows_mask"
   ]
  },
  {
   "cell_type": "code",
   "execution_count": 66,
   "id": "4a759155",
   "metadata": {
    "execution": {
     "iopub.execute_input": "2025-08-05T16:26:21.391879Z",
     "iopub.status.busy": "2025-08-05T16:26:21.391208Z",
     "iopub.status.idle": "2025-08-05T16:26:32.960353Z",
     "shell.execute_reply": "2025-08-05T16:26:32.959351Z"
    },
    "papermill": {
     "duration": 11.605682,
     "end_time": "2025-08-05T16:26:32.962041",
     "exception": false,
     "start_time": "2025-08-05T16:26:21.356359",
     "status": "completed"
    },
    "tags": []
   },
   "outputs": [
    {
     "name": "stdout",
     "output_type": "stream",
     "text": [
      "Stopping execution_time clock.\n",
      "[INFO] Keeping all rows: 89710 rows retained.\n"
     ]
    },
    {
     "name": "stdout",
     "output_type": "stream",
     "text": [
      "[INFO] Keeping all rows: 89710 rows retained.\n"
     ]
    },
    {
     "name": "stdout",
     "output_type": "stream",
     "text": [
      "[INFO] Keeping all rows: 89710 rows retained.\n"
     ]
    },
    {
     "name": "stdout",
     "output_type": "stream",
     "text": [
      "[INFO] Keeping all rows: 89710 rows retained.\n"
     ]
    },
    {
     "data": {
      "text/html": [
       "<div>\n",
       "<style scoped>\n",
       "    .dataframe tbody tr th:only-of-type {\n",
       "        vertical-align: middle;\n",
       "    }\n",
       "\n",
       "    .dataframe tbody tr th {\n",
       "        vertical-align: top;\n",
       "    }\n",
       "\n",
       "    .dataframe thead th {\n",
       "        text-align: right;\n",
       "    }\n",
       "</style>\n",
       "<table border=\"1\" class=\"dataframe\">\n",
       "  <thead>\n",
       "    <tr style=\"text-align: right;\">\n",
       "      <th></th>\n",
       "      <th>run_no</th>\n",
       "      <th>universe_id</th>\n",
       "      <th>universe_settings</th>\n",
       "      <th>execution_time</th>\n",
       "      <th>test_size_n</th>\n",
       "      <th>test_size_frac</th>\n",
       "      <th>fair_main_equalized_odds_difference</th>\n",
       "      <th>fair_main_equalized_odds_ratio</th>\n",
       "      <th>fair_main_demographic_parity_difference</th>\n",
       "      <th>fair_main_demographic_parity_ratio</th>\n",
       "      <th>...</th>\n",
       "      <th>perf_grp_precision_0</th>\n",
       "      <th>perf_grp_precision_1</th>\n",
       "      <th>perf_grp_false positive rate_0</th>\n",
       "      <th>perf_grp_false positive rate_1</th>\n",
       "      <th>perf_grp_false negative rate_0</th>\n",
       "      <th>perf_grp_false negative rate_1</th>\n",
       "      <th>perf_grp_selection rate_0</th>\n",
       "      <th>perf_grp_selection rate_1</th>\n",
       "      <th>perf_grp_count_0</th>\n",
       "      <th>perf_grp_count_1</th>\n",
       "    </tr>\n",
       "  </thead>\n",
       "  <tbody>\n",
       "    <tr>\n",
       "      <th>0</th>\n",
       "      <td>15</td>\n",
       "      <td>78924c731e47e7743fc17f95487eb533</td>\n",
       "      <td>{\"cutoff\": \"quantile_0.1\", \"eval_fairness_grou...</td>\n",
       "      <td>28.095978</td>\n",
       "      <td>89710</td>\n",
       "      <td>1.0</td>\n",
       "      <td>0.088685</td>\n",
       "      <td>0.907852</td>\n",
       "      <td>0.083222</td>\n",
       "      <td>0.913685</td>\n",
       "      <td>...</td>\n",
       "      <td>NaN</td>\n",
       "      <td>NaN</td>\n",
       "      <td>NaN</td>\n",
       "      <td>NaN</td>\n",
       "      <td>NaN</td>\n",
       "      <td>NaN</td>\n",
       "      <td>NaN</td>\n",
       "      <td>NaN</td>\n",
       "      <td>NaN</td>\n",
       "      <td>NaN</td>\n",
       "    </tr>\n",
       "    <tr>\n",
       "      <th>0</th>\n",
       "      <td>15</td>\n",
       "      <td>78924c731e47e7743fc17f95487eb533</td>\n",
       "      <td>{\"cutoff\": \"quantile_0.1\", \"eval_fairness_grou...</td>\n",
       "      <td>28.095978</td>\n",
       "      <td>89710</td>\n",
       "      <td>1.0</td>\n",
       "      <td>0.088685</td>\n",
       "      <td>0.907852</td>\n",
       "      <td>0.083222</td>\n",
       "      <td>0.913685</td>\n",
       "      <td>...</td>\n",
       "      <td>0.116896</td>\n",
       "      <td>0.139247</td>\n",
       "      <td>0.962415</td>\n",
       "      <td>0.873730</td>\n",
       "      <td>0.022382</td>\n",
       "      <td>0.071663</td>\n",
       "      <td>0.964167</td>\n",
       "      <td>0.880945</td>\n",
       "      <td>20540.0</td>\n",
       "      <td>69170.0</td>\n",
       "    </tr>\n",
       "    <tr>\n",
       "      <th>0</th>\n",
       "      <td>15</td>\n",
       "      <td>78924c731e47e7743fc17f95487eb533</td>\n",
       "      <td>{\"cutoff\": \"quantile_0.25\", \"eval_fairness_gro...</td>\n",
       "      <td>28.095978</td>\n",
       "      <td>89710</td>\n",
       "      <td>1.0</td>\n",
       "      <td>0.217754</td>\n",
       "      <td>0.758982</td>\n",
       "      <td>0.204526</td>\n",
       "      <td>0.774675</td>\n",
       "      <td>...</td>\n",
       "      <td>NaN</td>\n",
       "      <td>NaN</td>\n",
       "      <td>NaN</td>\n",
       "      <td>NaN</td>\n",
       "      <td>NaN</td>\n",
       "      <td>NaN</td>\n",
       "      <td>NaN</td>\n",
       "      <td>NaN</td>\n",
       "      <td>NaN</td>\n",
       "      <td>NaN</td>\n",
       "    </tr>\n",
       "    <tr>\n",
       "      <th>0</th>\n",
       "      <td>15</td>\n",
       "      <td>78924c731e47e7743fc17f95487eb533</td>\n",
       "      <td>{\"cutoff\": \"quantile_0.25\", \"eval_fairness_gro...</td>\n",
       "      <td>28.095978</td>\n",
       "      <td>89710</td>\n",
       "      <td>1.0</td>\n",
       "      <td>0.217754</td>\n",
       "      <td>0.758982</td>\n",
       "      <td>0.204526</td>\n",
       "      <td>0.774675</td>\n",
       "      <td>...</td>\n",
       "      <td>0.119395</td>\n",
       "      <td>0.153666</td>\n",
       "      <td>0.903478</td>\n",
       "      <td>0.685724</td>\n",
       "      <td>0.059966</td>\n",
       "      <td>0.182276</td>\n",
       "      <td>0.907692</td>\n",
       "      <td>0.703166</td>\n",
       "      <td>20540.0</td>\n",
       "      <td>69170.0</td>\n",
       "    </tr>\n",
       "  </tbody>\n",
       "</table>\n",
       "<p>4 rows × 50 columns</p>\n",
       "</div>"
      ],
      "text/plain": [
       "  run_no                       universe_id  \\\n",
       "0     15  78924c731e47e7743fc17f95487eb533   \n",
       "0     15  78924c731e47e7743fc17f95487eb533   \n",
       "0     15  78924c731e47e7743fc17f95487eb533   \n",
       "0     15  78924c731e47e7743fc17f95487eb533   \n",
       "\n",
       "                                   universe_settings  execution_time  \\\n",
       "0  {\"cutoff\": \"quantile_0.1\", \"eval_fairness_grou...       28.095978   \n",
       "0  {\"cutoff\": \"quantile_0.1\", \"eval_fairness_grou...       28.095978   \n",
       "0  {\"cutoff\": \"quantile_0.25\", \"eval_fairness_gro...       28.095978   \n",
       "0  {\"cutoff\": \"quantile_0.25\", \"eval_fairness_gro...       28.095978   \n",
       "\n",
       "   test_size_n  test_size_frac  fair_main_equalized_odds_difference  \\\n",
       "0        89710             1.0                             0.088685   \n",
       "0        89710             1.0                             0.088685   \n",
       "0        89710             1.0                             0.217754   \n",
       "0        89710             1.0                             0.217754   \n",
       "\n",
       "   fair_main_equalized_odds_ratio  fair_main_demographic_parity_difference  \\\n",
       "0                        0.907852                                 0.083222   \n",
       "0                        0.907852                                 0.083222   \n",
       "0                        0.758982                                 0.204526   \n",
       "0                        0.758982                                 0.204526   \n",
       "\n",
       "   fair_main_demographic_parity_ratio  ...  perf_grp_precision_0  \\\n",
       "0                            0.913685  ...                   NaN   \n",
       "0                            0.913685  ...              0.116896   \n",
       "0                            0.774675  ...                   NaN   \n",
       "0                            0.774675  ...              0.119395   \n",
       "\n",
       "   perf_grp_precision_1  perf_grp_false positive rate_0  \\\n",
       "0                   NaN                             NaN   \n",
       "0              0.139247                        0.962415   \n",
       "0                   NaN                             NaN   \n",
       "0              0.153666                        0.903478   \n",
       "\n",
       "   perf_grp_false positive rate_1  perf_grp_false negative rate_0  \\\n",
       "0                             NaN                             NaN   \n",
       "0                        0.873730                        0.022382   \n",
       "0                             NaN                             NaN   \n",
       "0                        0.685724                        0.059966   \n",
       "\n",
       "   perf_grp_false negative rate_1  perf_grp_selection rate_0  \\\n",
       "0                             NaN                        NaN   \n",
       "0                        0.071663                   0.964167   \n",
       "0                             NaN                        NaN   \n",
       "0                        0.182276                   0.907692   \n",
       "\n",
       "   perf_grp_selection rate_1  perf_grp_count_0  perf_grp_count_1  \n",
       "0                        NaN               NaN               NaN  \n",
       "0                   0.880945           20540.0           69170.0  \n",
       "0                        NaN               NaN               NaN  \n",
       "0                   0.703166           20540.0           69170.0  \n",
       "\n",
       "[4 rows x 50 columns]"
      ]
     },
     "execution_count": 66,
     "metadata": {},
     "output_type": "execute_result"
    }
   ],
   "source": [
    "final_output = universe_analysis.generate_final_output(\n",
    "    y_pred_prob=probs_test,\n",
    "    y_test=y_true,\n",
    "    org_test=org_test,\n",
    "    filter_data=filter_sub_universe_data,\n",
    "    cp_metrics_df=cp_metrics_df,\n",
    "    save=True,\n",
    ")\n",
    "final_output"
   ]
  }
 ],
 "metadata": {
  "celltoolbar": "Tags",
  "kernelspec": {
   "display_name": "Python (CMA Fairness)",
   "language": "python",
   "name": "cma_fair_env"
  },
  "language_info": {
   "codemirror_mode": {
    "name": "ipython",
    "version": 3
   },
   "file_extension": ".py",
   "mimetype": "text/x-python",
   "name": "python",
   "nbconvert_exporter": "python",
   "pygments_lexer": "ipython3",
   "version": "3.10.12"
  },
  "papermill": {
   "default_parameters": {},
   "duration": 44.137202,
   "end_time": "2025-08-05T16:26:33.800873",
   "environment_variables": {},
   "exception": null,
   "input_path": "universe_analysis.ipynb",
   "output_path": "output/runs/15/notebooks/m_15-78924c731e47e7743fc17f95487eb533.ipynb",
   "parameters": {
    "output_dir": "output",
    "run_no": "15",
    "seed": "2023",
    "universe": "{\"cutoff\": [\"quantile_0.1\", \"quantile_0.25\"], \"eval_fairness_grouping\": [\"majority-minority\", \"nationality-all\"], \"exclude_features\": \"age\", \"exclude_subgroups\": \"drop-non-german\", \"model\": \"penalized_logreg\", \"scale\": \"do-not-scale\", \"training_size\": \"1k\", \"training_year\": \"2012_14\"}",
    "universe_id": "78924c731e47e7743fc17f95487eb533"
   },
   "start_time": "2025-08-05T16:25:49.663671",
   "version": "2.6.0"
  }
 },
 "nbformat": 4,
 "nbformat_minor": 5
}