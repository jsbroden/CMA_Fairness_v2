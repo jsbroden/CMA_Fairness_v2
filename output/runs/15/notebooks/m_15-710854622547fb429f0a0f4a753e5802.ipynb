{
 "cells": [
  {
   "cell_type": "code",
   "execution_count": 1,
   "id": "f159f837-637b-42ba-96b5-ec9a68c44524",
   "metadata": {
    "execution": {
     "iopub.execute_input": "2025-08-05T16:22:43.481698Z",
     "iopub.status.busy": "2025-08-05T16:22:43.481068Z",
     "iopub.status.idle": "2025-08-05T16:22:43.498177Z",
     "shell.execute_reply": "2025-08-05T16:22:43.496931Z"
    },
    "papermill": {
     "duration": 0.04283,
     "end_time": "2025-08-05T16:22:43.500221",
     "exception": false,
     "start_time": "2025-08-05T16:22:43.457391",
     "status": "completed"
    },
    "tags": []
   },
   "outputs": [
    {
     "name": "stdout",
     "output_type": "stream",
     "text": [
      "/dss/dsshome1/0C/ra93lal2/cma/CMA_Fairness_v2\n"
     ]
    },
    {
     "name": "stderr",
     "output_type": "stream",
     "text": [
      "/dss/dsshome1/0C/ra93lal2/.local/share/virtualenvs/CMA_Fairness_v2-3j10GkSs/lib/python3.10/site-packages/IPython/core/magics/osm.py:393: UserWarning: This is now an optional IPython functionality, using bookmarks requires you to install the `pickleshare` library.\n",
      "  bkms = self.shell.db.get('bookmarks', {})\n",
      "/dss/dsshome1/0C/ra93lal2/.local/share/virtualenvs/CMA_Fairness_v2-3j10GkSs/lib/python3.10/site-packages/IPython/core/magics/osm.py:417: UserWarning: This is now an optional IPython functionality, setting dhist requires you to install the `pickleshare` library.\n",
      "  self.shell.db['dhist'] = compress_dhist(dhist)[-100:]\n"
     ]
    }
   ],
   "source": [
    "%cd ~/cma/CMA_Fairness_v2"
   ]
  },
  {
   "cell_type": "markdown",
   "id": "de2603b9",
   "metadata": {
    "papermill": {
     "duration": 0.023677,
     "end_time": "2025-08-05T16:22:43.547832",
     "exception": false,
     "start_time": "2025-08-05T16:22:43.524155",
     "status": "completed"
    },
    "tags": []
   },
   "source": [
    "The following cell holds the definition of our parameters, these values can be overriden by rendering the with e.g. the following command:\n",
    "\n",
    "papermill -p alpha 0.2 -p ratio 0.3 universe_analysis.ipynb output/test_run.ipynb"
   ]
  },
  {
   "cell_type": "code",
   "execution_count": 2,
   "id": "a80968a0-40bb-4fa9-85ef-2d5eefb01975",
   "metadata": {
    "execution": {
     "iopub.execute_input": "2025-08-05T16:22:43.597164Z",
     "iopub.status.busy": "2025-08-05T16:22:43.596429Z",
     "iopub.status.idle": "2025-08-05T16:22:43.602577Z",
     "shell.execute_reply": "2025-08-05T16:22:43.601503Z"
    },
    "papermill": {
     "duration": 0.033194,
     "end_time": "2025-08-05T16:22:43.604571",
     "exception": false,
     "start_time": "2025-08-05T16:22:43.571377",
     "status": "completed"
    },
    "tags": []
   },
   "outputs": [
    {
     "name": "stdout",
     "output_type": "stream",
     "text": [
      "Current working directory: /dss/dsshome1/0C/ra93lal2/cma/CMA_Fairness_v2\n"
     ]
    }
   ],
   "source": [
    "import os\n",
    "print(\"Current working directory:\", os.getcwd())"
   ]
  },
  {
   "cell_type": "code",
   "execution_count": 3,
   "id": "2dce4c03",
   "metadata": {
    "execution": {
     "iopub.execute_input": "2025-08-05T16:22:43.655841Z",
     "iopub.status.busy": "2025-08-05T16:22:43.654769Z",
     "iopub.status.idle": "2025-08-05T16:22:43.662712Z",
     "shell.execute_reply": "2025-08-05T16:22:43.661470Z"
    },
    "papermill": {
     "duration": 0.036228,
     "end_time": "2025-08-05T16:22:43.665177",
     "exception": false,
     "start_time": "2025-08-05T16:22:43.628949",
     "status": "completed"
    },
    "tags": [
     "parameters"
    ]
   },
   "outputs": [],
   "source": [
    "run_no = 0\n",
    "universe_id = \"test\"\n",
    "universe = {\n",
    "    \"training_size\": \"25k\", # \"25k\", \"5k\", \"1k\"\n",
    "    \"training_year\": \"2014\", # \"2014\", \"2012_14\", \"2010_14\"\n",
    "    \"scale\": \"scale\", # \"scale\", \"do-not-scale\",\n",
    "    \"model\": \"elasticnet\", # \"logreg\", \"penalized_logreg\", \"rf\", \"gbm\", \"elasticnet\"\n",
    "    \"cutoff\": [\"quantile_0.15\", \"quantile_0.30\"],\n",
    "    \"exclude_features\": \"age\", # \"none\", \"nationality\", \"sex\", \"nationality-sex\", \"age\"\n",
    "    \"exclude_subgroups\": \"keep-all\", # \"keep-all\", \"drop-non-german\"\n",
    "    \"eval_fairness_grouping\": [\"majority-minority\", \"nationality-all\"]\n",
    "}\n",
    "\n",
    "output_dir=\"./output\"\n",
    "seed=0"
   ]
  },
  {
   "cell_type": "code",
   "execution_count": 4,
   "id": "2d3bdb0e",
   "metadata": {
    "execution": {
     "iopub.execute_input": "2025-08-05T16:22:43.714778Z",
     "iopub.status.busy": "2025-08-05T16:22:43.713797Z",
     "iopub.status.idle": "2025-08-05T16:22:43.721053Z",
     "shell.execute_reply": "2025-08-05T16:22:43.719871Z"
    },
    "papermill": {
     "duration": 0.035265,
     "end_time": "2025-08-05T16:22:43.723493",
     "exception": false,
     "start_time": "2025-08-05T16:22:43.688228",
     "status": "completed"
    },
    "tags": [
     "injected-parameters"
    ]
   },
   "outputs": [],
   "source": [
    "# Parameters\n",
    "universe_id = \"710854622547fb429f0a0f4a753e5802\"\n",
    "run_no = \"15\"\n",
    "universe = \"{\\\"cutoff\\\": [\\\"quantile_0.1\\\", \\\"quantile_0.25\\\"], \\\"eval_fairness_grouping\\\": [\\\"majority-minority\\\", \\\"nationality-all\\\"], \\\"exclude_features\\\": \\\"nationality-sex\\\", \\\"exclude_subgroups\\\": \\\"keep-all\\\", \\\"model\\\": \\\"elasticnet\\\", \\\"scale\\\": \\\"scale\\\", \\\"training_size\\\": \\\"1k\\\", \\\"training_year\\\": \\\"2012_14\\\"}\"\n",
    "output_dir = \"output\"\n",
    "seed = \"2023\"\n"
   ]
  },
  {
   "cell_type": "code",
   "execution_count": 5,
   "id": "1650acaf",
   "metadata": {
    "execution": {
     "iopub.execute_input": "2025-08-05T16:22:43.775349Z",
     "iopub.status.busy": "2025-08-05T16:22:43.774129Z",
     "iopub.status.idle": "2025-08-05T16:22:43.780562Z",
     "shell.execute_reply": "2025-08-05T16:22:43.779400Z"
    },
    "papermill": {
     "duration": 0.043687,
     "end_time": "2025-08-05T16:22:43.791010",
     "exception": false,
     "start_time": "2025-08-05T16:22:43.747323",
     "status": "completed"
    },
    "tags": []
   },
   "outputs": [],
   "source": [
    "import json\n",
    "if isinstance(universe, str):\n",
    "    universe = json.loads(universe)"
   ]
  },
  {
   "cell_type": "code",
   "execution_count": 6,
   "id": "16620c48",
   "metadata": {
    "execution": {
     "iopub.execute_input": "2025-08-05T16:22:43.854050Z",
     "iopub.status.busy": "2025-08-05T16:22:43.853263Z",
     "iopub.status.idle": "2025-08-05T16:22:43.908252Z",
     "shell.execute_reply": "2025-08-05T16:22:43.907263Z"
    },
    "papermill": {
     "duration": 0.077913,
     "end_time": "2025-08-05T16:22:43.910343",
     "exception": false,
     "start_time": "2025-08-05T16:22:43.832430",
     "status": "completed"
    },
    "tags": []
   },
   "outputs": [],
   "source": [
    "# Auto-reload the custom package\n",
    "%load_ext autoreload\n",
    "%autoreload 1\n",
    "%aimport fairness_multiverse"
   ]
  },
  {
   "cell_type": "code",
   "execution_count": 7,
   "id": "01c5c9f3",
   "metadata": {
    "execution": {
     "iopub.execute_input": "2025-08-05T16:22:43.944519Z",
     "iopub.status.busy": "2025-08-05T16:22:43.943590Z",
     "iopub.status.idle": "2025-08-05T16:22:46.366264Z",
     "shell.execute_reply": "2025-08-05T16:22:46.365047Z"
    },
    "papermill": {
     "duration": 2.437558,
     "end_time": "2025-08-05T16:22:46.368407",
     "exception": false,
     "start_time": "2025-08-05T16:22:43.930849",
     "status": "completed"
    },
    "tags": []
   },
   "outputs": [],
   "source": [
    "from fairness_multiverse.universe import UniverseAnalysis\n",
    "\n",
    "universe_analysis = UniverseAnalysis(\n",
    "    run_no = run_no,\n",
    "    universe_id = universe_id,\n",
    "    universe = universe,\n",
    "    output_dir=output_dir,\n",
    ")"
   ]
  },
  {
   "cell_type": "code",
   "execution_count": 8,
   "id": "106241f5",
   "metadata": {
    "execution": {
     "iopub.execute_input": "2025-08-05T16:22:46.409788Z",
     "iopub.status.busy": "2025-08-05T16:22:46.409288Z",
     "iopub.status.idle": "2025-08-05T16:22:46.416715Z",
     "shell.execute_reply": "2025-08-05T16:22:46.415671Z"
    },
    "papermill": {
     "duration": 0.030174,
     "end_time": "2025-08-05T16:22:46.418676",
     "exception": false,
     "start_time": "2025-08-05T16:22:46.388502",
     "status": "completed"
    },
    "tags": []
   },
   "outputs": [
    {
     "name": "stdout",
     "output_type": "stream",
     "text": [
      "Using Seed: 2023\n"
     ]
    }
   ],
   "source": [
    "import numpy as np\n",
    "parsed_seed = int(seed)\n",
    "np.random.seed(parsed_seed)\n",
    "print(f\"Using Seed: {parsed_seed}\")"
   ]
  },
  {
   "cell_type": "markdown",
   "id": "e0ebdc57",
   "metadata": {
    "papermill": {
     "duration": 0.021005,
     "end_time": "2025-08-05T16:22:46.459172",
     "exception": false,
     "start_time": "2025-08-05T16:22:46.438167",
     "status": "completed"
    },
    "tags": []
   },
   "source": [
    "# Loading Data"
   ]
  },
  {
   "cell_type": "code",
   "execution_count": 9,
   "id": "f0496b8a",
   "metadata": {
    "execution": {
     "iopub.execute_input": "2025-08-05T16:22:46.500285Z",
     "iopub.status.busy": "2025-08-05T16:22:46.499456Z",
     "iopub.status.idle": "2025-08-05T16:22:59.926291Z",
     "shell.execute_reply": "2025-08-05T16:22:59.924705Z"
    },
    "papermill": {
     "duration": 13.449374,
     "end_time": "2025-08-05T16:22:59.928126",
     "exception": false,
     "start_time": "2025-08-05T16:22:46.478752",
     "status": "completed"
    },
    "tags": []
   },
   "outputs": [
    {
     "name": "stdout",
     "output_type": "stream",
     "text": [
      "Loading SIAB data from cache: data/siab_cached.csv.gz\n"
     ]
    },
    {
     "name": "stdout",
     "output_type": "stream",
     "text": [
      "(643690, 164)\n"
     ]
    }
   ],
   "source": [
    "from pathlib import Path\n",
    "import pandas as pd\n",
    "\n",
    "# File paths\n",
    "raw_file = Path(\"data/raw/siab.csv\")\n",
    "cache_file = Path(\"data/siab_cached.csv.gz\")\n",
    "\n",
    "# Ensure cache directory exists\n",
    "cache_file.parent.mkdir(parents=True, exist_ok=True)\n",
    "\n",
    "# Load with simple caching\n",
    "if cache_file.exists():\n",
    "    print(f\"Loading SIAB data from cache: {cache_file}\")\n",
    "    siab = pd.read_csv(cache_file, compression='gzip')\n",
    "else:\n",
    "    print(f\"Cache not found. Reading raw SIAB data: {raw_file}\")\n",
    "    siab = pd.read_csv(raw_file)\n",
    "    siab.to_csv(cache_file, index=False, compression='gzip')\n",
    "    print(f\"Cached SIAB data to: {cache_file}\")\n",
    "\n",
    "print(siab.shape)"
   ]
  },
  {
   "cell_type": "code",
   "execution_count": 10,
   "id": "db0ca512-5f53-4dba-abdb-a2888bca41ba",
   "metadata": {
    "execution": {
     "iopub.execute_input": "2025-08-05T16:22:59.974548Z",
     "iopub.status.busy": "2025-08-05T16:22:59.973856Z",
     "iopub.status.idle": "2025-08-05T16:22:59.980735Z",
     "shell.execute_reply": "2025-08-05T16:22:59.979504Z"
    },
    "papermill": {
     "duration": 0.031403,
     "end_time": "2025-08-05T16:22:59.982710",
     "exception": false,
     "start_time": "2025-08-05T16:22:59.951307",
     "status": "completed"
    },
    "tags": []
   },
   "outputs": [],
   "source": [
    "#siab"
   ]
  },
  {
   "cell_type": "markdown",
   "id": "997051c5-15bd-4b69-9786-c3001a3ce484",
   "metadata": {
    "papermill": {
     "duration": 0.020277,
     "end_time": "2025-08-05T16:23:00.024400",
     "exception": false,
     "start_time": "2025-08-05T16:23:00.004123",
     "status": "completed"
    },
    "tags": []
   },
   "source": [
    "# Splitting Data and Setting Training Data Size"
   ]
  },
  {
   "cell_type": "code",
   "execution_count": 11,
   "id": "aea9c6ef-6f46-42c8-85eb-5a62025c1508",
   "metadata": {
    "execution": {
     "iopub.execute_input": "2025-08-05T16:23:00.068841Z",
     "iopub.status.busy": "2025-08-05T16:23:00.067919Z",
     "iopub.status.idle": "2025-08-05T16:23:00.744332Z",
     "shell.execute_reply": "2025-08-05T16:23:00.743153Z"
    },
    "papermill": {
     "duration": 0.701791,
     "end_time": "2025-08-05T16:23:00.747015",
     "exception": false,
     "start_time": "2025-08-05T16:23:00.045224",
     "status": "completed"
    },
    "tags": []
   },
   "outputs": [],
   "source": [
    "from fairness_multiverse.universe import sample_by_year_size\n",
    "\n",
    "siab_train = sample_by_year_size(siab,\n",
    "                               training_year=universe[\"training_year\"],\n",
    "                               training_size=universe[\"training_size\"])"
   ]
  },
  {
   "cell_type": "code",
   "execution_count": 12,
   "id": "8d3afb32-789d-442c-8d5d-9f5aa8dd2eed",
   "metadata": {
    "execution": {
     "iopub.execute_input": "2025-08-05T16:23:00.802392Z",
     "iopub.status.busy": "2025-08-05T16:23:00.801579Z",
     "iopub.status.idle": "2025-08-05T16:23:00.807715Z",
     "shell.execute_reply": "2025-08-05T16:23:00.806373Z"
    },
    "papermill": {
     "duration": 0.036707,
     "end_time": "2025-08-05T16:23:00.809921",
     "exception": false,
     "start_time": "2025-08-05T16:23:00.773214",
     "status": "completed"
    },
    "tags": []
   },
   "outputs": [],
   "source": [
    "#siab_train.shape"
   ]
  },
  {
   "cell_type": "code",
   "execution_count": 13,
   "id": "d582db68-1a4c-47fb-84fc-08518dc1975a",
   "metadata": {
    "execution": {
     "iopub.execute_input": "2025-08-05T16:23:00.865580Z",
     "iopub.status.busy": "2025-08-05T16:23:00.865088Z",
     "iopub.status.idle": "2025-08-05T16:23:00.870978Z",
     "shell.execute_reply": "2025-08-05T16:23:00.869685Z"
    },
    "papermill": {
     "duration": 0.036468,
     "end_time": "2025-08-05T16:23:00.873183",
     "exception": false,
     "start_time": "2025-08-05T16:23:00.836715",
     "status": "completed"
    },
    "tags": []
   },
   "outputs": [],
   "source": [
    "#display(siab_train.groupby(\"year\").size())"
   ]
  },
  {
   "cell_type": "code",
   "execution_count": 14,
   "id": "a561edb4-d032-42cb-8256-22eac1111c64",
   "metadata": {
    "execution": {
     "iopub.execute_input": "2025-08-05T16:23:00.929783Z",
     "iopub.status.busy": "2025-08-05T16:23:00.928574Z",
     "iopub.status.idle": "2025-08-05T16:23:01.192322Z",
     "shell.execute_reply": "2025-08-05T16:23:01.190987Z"
    },
    "papermill": {
     "duration": 0.294929,
     "end_time": "2025-08-05T16:23:01.195214",
     "exception": false,
     "start_time": "2025-08-05T16:23:00.900285",
     "status": "completed"
    },
    "tags": []
   },
   "outputs": [],
   "source": [
    "#siab_train = siab_s[siab_s.year < 2015]\n",
    "siab_calib = siab[siab.year == 2015]\n",
    "siab_test = siab[siab.year == 2016]"
   ]
  },
  {
   "cell_type": "code",
   "execution_count": 15,
   "id": "472de16f-c3db-4916-846b-1f0de9cf1746",
   "metadata": {
    "execution": {
     "iopub.execute_input": "2025-08-05T16:23:01.260717Z",
     "iopub.status.busy": "2025-08-05T16:23:01.259844Z",
     "iopub.status.idle": "2025-08-05T16:23:01.269195Z",
     "shell.execute_reply": "2025-08-05T16:23:01.267390Z"
    },
    "papermill": {
     "duration": 0.044395,
     "end_time": "2025-08-05T16:23:01.271726",
     "exception": false,
     "start_time": "2025-08-05T16:23:01.227331",
     "status": "completed"
    },
    "tags": []
   },
   "outputs": [],
   "source": [
    "X_train = siab_train.iloc[:,4:164]\n",
    "y_train = siab_train.iloc[:, [3]]"
   ]
  },
  {
   "cell_type": "code",
   "execution_count": 16,
   "id": "828c96af-f43a-4ed6-ba47-8ac73a47d56c",
   "metadata": {
    "execution": {
     "iopub.execute_input": "2025-08-05T16:23:01.336204Z",
     "iopub.status.busy": "2025-08-05T16:23:01.335770Z",
     "iopub.status.idle": "2025-08-05T16:23:01.397893Z",
     "shell.execute_reply": "2025-08-05T16:23:01.396492Z"
    },
    "papermill": {
     "duration": 0.097389,
     "end_time": "2025-08-05T16:23:01.400596",
     "exception": false,
     "start_time": "2025-08-05T16:23:01.303207",
     "status": "completed"
    },
    "tags": []
   },
   "outputs": [],
   "source": [
    "X_calib = siab_calib.iloc[:,4:164]\n",
    "y_calib = siab_calib.iloc[:, [3]]"
   ]
  },
  {
   "cell_type": "code",
   "execution_count": 17,
   "id": "c34be9c3-6bd6-476e-acd3-845840e303be",
   "metadata": {
    "execution": {
     "iopub.execute_input": "2025-08-05T16:23:01.465335Z",
     "iopub.status.busy": "2025-08-05T16:23:01.464170Z",
     "iopub.status.idle": "2025-08-05T16:23:01.548261Z",
     "shell.execute_reply": "2025-08-05T16:23:01.546781Z"
    },
    "papermill": {
     "duration": 0.119024,
     "end_time": "2025-08-05T16:23:01.551161",
     "exception": false,
     "start_time": "2025-08-05T16:23:01.432137",
     "status": "completed"
    },
    "tags": []
   },
   "outputs": [],
   "source": [
    "X_test = siab_test.iloc[:,4:164]\n",
    "y_true = siab_test.iloc[:, [3]]"
   ]
  },
  {
   "cell_type": "code",
   "execution_count": 18,
   "id": "e6c733c5",
   "metadata": {
    "execution": {
     "iopub.execute_input": "2025-08-05T16:23:01.615183Z",
     "iopub.status.busy": "2025-08-05T16:23:01.614690Z",
     "iopub.status.idle": "2025-08-05T16:23:01.722004Z",
     "shell.execute_reply": "2025-08-05T16:23:01.720583Z"
    },
    "papermill": {
     "duration": 0.142797,
     "end_time": "2025-08-05T16:23:01.724843",
     "exception": false,
     "start_time": "2025-08-05T16:23:01.582046",
     "status": "completed"
    },
    "tags": []
   },
   "outputs": [],
   "source": [
    "# Auxiliary data needed downstream in the pipeline\n",
    "\n",
    "org_train = X_train.copy()\n",
    "org_test = X_test.copy()\n",
    "org_calib = X_calib.copy()"
   ]
  },
  {
   "cell_type": "markdown",
   "id": "0a4a1b33",
   "metadata": {
    "papermill": {
     "duration": 0.031104,
     "end_time": "2025-08-05T16:23:01.787123",
     "exception": false,
     "start_time": "2025-08-05T16:23:01.756019",
     "status": "completed"
    },
    "tags": []
   },
   "source": [
    "# Preprocessing Data"
   ]
  },
  {
   "cell_type": "code",
   "execution_count": 19,
   "id": "ca879031",
   "metadata": {
    "execution": {
     "iopub.execute_input": "2025-08-05T16:23:01.853632Z",
     "iopub.status.busy": "2025-08-05T16:23:01.852082Z",
     "iopub.status.idle": "2025-08-05T16:23:01.861350Z",
     "shell.execute_reply": "2025-08-05T16:23:01.859999Z"
    },
    "papermill": {
     "duration": 0.044575,
     "end_time": "2025-08-05T16:23:01.863596",
     "exception": false,
     "start_time": "2025-08-05T16:23:01.819021",
     "status": "completed"
    },
    "tags": []
   },
   "outputs": [],
   "source": [
    "# EXCLUDE PROTECTED FEATURES\n",
    "# ----------------------\n",
    "# \"exclude_features\": \"none\", # \"nationality\", \"sex\", \"nationality-sex\"\n",
    "\n",
    "excluded_features = universe[\"exclude_features\"].split(\"-\") # split, e.g.: \"nationality-sex\" -> [\"nationality\", \"sex\"]\n",
    "excluded_features_dictionary = {\n",
    "    \"nationality\": [\"maxdeutsch1\", \"maxdeutsch.Missing.\"],\n",
    "    \"sex\": [\"frau1\"],\n",
    "    \"age\": [\"age\"],\n",
    "}"
   ]
  },
  {
   "cell_type": "code",
   "execution_count": 20,
   "id": "b745ac60",
   "metadata": {
    "execution": {
     "iopub.execute_input": "2025-08-05T16:23:01.912178Z",
     "iopub.status.busy": "2025-08-05T16:23:01.911024Z",
     "iopub.status.idle": "2025-08-05T16:23:01.918135Z",
     "shell.execute_reply": "2025-08-05T16:23:01.916711Z"
    },
    "papermill": {
     "duration": 0.033844,
     "end_time": "2025-08-05T16:23:01.920748",
     "exception": false,
     "start_time": "2025-08-05T16:23:01.886904",
     "status": "completed"
    },
    "tags": []
   },
   "outputs": [],
   "source": [
    "# Code nice names to column names\n",
    "\n",
    "excluded_features_columns = [\n",
    "    excluded_features_dictionary[f] for f in excluded_features if len(f) > 0 and f != \"none\"\n",
    "]"
   ]
  },
  {
   "cell_type": "code",
   "execution_count": 21,
   "id": "f84f73a2",
   "metadata": {
    "execution": {
     "iopub.execute_input": "2025-08-05T16:23:01.986231Z",
     "iopub.status.busy": "2025-08-05T16:23:01.985740Z",
     "iopub.status.idle": "2025-08-05T16:23:01.994023Z",
     "shell.execute_reply": "2025-08-05T16:23:01.992744Z"
    },
    "papermill": {
     "duration": 0.044276,
     "end_time": "2025-08-05T16:23:01.996535",
     "exception": false,
     "start_time": "2025-08-05T16:23:01.952259",
     "status": "completed"
    },
    "tags": []
   },
   "outputs": [],
   "source": [
    "from utils import flatten_once\n",
    "\n",
    "excluded_features_columns = flatten_once(excluded_features_columns)"
   ]
  },
  {
   "cell_type": "code",
   "execution_count": 22,
   "id": "884dea22",
   "metadata": {
    "execution": {
     "iopub.execute_input": "2025-08-05T16:23:02.061984Z",
     "iopub.status.busy": "2025-08-05T16:23:02.060548Z",
     "iopub.status.idle": "2025-08-05T16:23:02.072523Z",
     "shell.execute_reply": "2025-08-05T16:23:02.071369Z"
    },
    "papermill": {
     "duration": 0.047237,
     "end_time": "2025-08-05T16:23:02.075131",
     "exception": false,
     "start_time": "2025-08-05T16:23:02.027894",
     "status": "completed"
    },
    "tags": []
   },
   "outputs": [
    {
     "name": "stdout",
     "output_type": "stream",
     "text": [
      "Dropping features: ['maxdeutsch1', 'maxdeutsch.Missing.', 'frau1']\n"
     ]
    }
   ],
   "source": [
    "if len(excluded_features_columns) > 0:\n",
    "    print(f\"Dropping features: {excluded_features_columns}\")\n",
    "    X_train.drop(excluded_features_columns, axis=1, inplace=True)"
   ]
  },
  {
   "cell_type": "code",
   "execution_count": 23,
   "id": "95ab8b16",
   "metadata": {
    "execution": {
     "iopub.execute_input": "2025-08-05T16:23:02.140480Z",
     "iopub.status.busy": "2025-08-05T16:23:02.139973Z",
     "iopub.status.idle": "2025-08-05T16:23:02.210704Z",
     "shell.execute_reply": "2025-08-05T16:23:02.208946Z"
    },
    "papermill": {
     "duration": 0.106495,
     "end_time": "2025-08-05T16:23:02.213323",
     "exception": false,
     "start_time": "2025-08-05T16:23:02.106828",
     "status": "completed"
    },
    "tags": []
   },
   "outputs": [
    {
     "name": "stdout",
     "output_type": "stream",
     "text": [
      "Dropping features: ['maxdeutsch1', 'maxdeutsch.Missing.', 'frau1']\n"
     ]
    }
   ],
   "source": [
    "if len(excluded_features_columns) > 0:\n",
    "    print(f\"Dropping features: {excluded_features_columns}\")\n",
    "    X_test.drop(excluded_features_columns, axis=1, inplace=True)"
   ]
  },
  {
   "cell_type": "code",
   "execution_count": 24,
   "id": "1853aaf5-fb9f-46cb-a2b5-8ea4ae2237e4",
   "metadata": {
    "execution": {
     "iopub.execute_input": "2025-08-05T16:23:02.279505Z",
     "iopub.status.busy": "2025-08-05T16:23:02.278629Z",
     "iopub.status.idle": "2025-08-05T16:23:02.364307Z",
     "shell.execute_reply": "2025-08-05T16:23:02.362939Z"
    },
    "papermill": {
     "duration": 0.12122,
     "end_time": "2025-08-05T16:23:02.366453",
     "exception": false,
     "start_time": "2025-08-05T16:23:02.245233",
     "status": "completed"
    },
    "tags": []
   },
   "outputs": [
    {
     "name": "stdout",
     "output_type": "stream",
     "text": [
      "Dropping features: ['maxdeutsch1', 'maxdeutsch.Missing.', 'frau1']\n"
     ]
    }
   ],
   "source": [
    "if len(excluded_features_columns) > 0:\n",
    "    print(f\"Dropping features: {excluded_features_columns}\")\n",
    "    X_calib.drop(excluded_features_columns, axis=1, inplace=True)"
   ]
  },
  {
   "cell_type": "code",
   "execution_count": 25,
   "id": "76c4dc6d",
   "metadata": {
    "execution": {
     "iopub.execute_input": "2025-08-05T16:23:02.433162Z",
     "iopub.status.busy": "2025-08-05T16:23:02.432233Z",
     "iopub.status.idle": "2025-08-05T16:23:02.438557Z",
     "shell.execute_reply": "2025-08-05T16:23:02.437362Z"
    },
    "papermill": {
     "duration": 0.032776,
     "end_time": "2025-08-05T16:23:02.440642",
     "exception": false,
     "start_time": "2025-08-05T16:23:02.407866",
     "status": "completed"
    },
    "tags": []
   },
   "outputs": [],
   "source": [
    "# EXCLUDE CERTAIN SUBGROUPS\n",
    "# ----------------------\n",
    "\n",
    "mode = universe.get(\"exclude_subgroups\", \"keep-all\") \n",
    "# Fetches the exclude_subgroups setting from the universe dict.\n",
    "# Defaults to \"keep-all\" if the key is missing."
   ]
  },
  {
   "cell_type": "code",
   "execution_count": 26,
   "id": "21994072",
   "metadata": {
    "execution": {
     "iopub.execute_input": "2025-08-05T16:23:02.487365Z",
     "iopub.status.busy": "2025-08-05T16:23:02.486480Z",
     "iopub.status.idle": "2025-08-05T16:23:02.495088Z",
     "shell.execute_reply": "2025-08-05T16:23:02.494051Z"
    },
    "papermill": {
     "duration": 0.033809,
     "end_time": "2025-08-05T16:23:02.497000",
     "exception": false,
     "start_time": "2025-08-05T16:23:02.463191",
     "status": "completed"
    },
    "tags": []
   },
   "outputs": [],
   "source": [
    "if mode == \"keep-all\":\n",
    "    keep_mask = pd.Series(True, index=org_train.index)\n",
    "\n",
    "# org_train contains the original feature columns from features_org (in Simson)\n",
    "# features_org contains unprocessed features, for me X_train at beginning ???\n",
    "# For keep-all, creates a boolean Series (keep_mask) of all True, so no rows are removed.\n",
    "\n",
    "elif mode == \"drop-non-german\":\n",
    "    keep_mask = org_train[\"maxdeutsch1\"] == 1 # ??? what about missing values?\n",
    "\n",
    "else:\n",
    "    raise ValueError(f\"Unsupported mode for exclude_subgroups: {mode}\")"
   ]
  },
  {
   "cell_type": "code",
   "execution_count": 27,
   "id": "71651440",
   "metadata": {
    "execution": {
     "iopub.execute_input": "2025-08-05T16:23:02.546837Z",
     "iopub.status.busy": "2025-08-05T16:23:02.546053Z",
     "iopub.status.idle": "2025-08-05T16:23:02.553683Z",
     "shell.execute_reply": "2025-08-05T16:23:02.552408Z"
    },
    "papermill": {
     "duration": 0.034983,
     "end_time": "2025-08-05T16:23:02.556096",
     "exception": false,
     "start_time": "2025-08-05T16:23:02.521113",
     "status": "completed"
    },
    "tags": []
   },
   "outputs": [],
   "source": [
    "n_drop = (~keep_mask).sum() # Calculates how many rows are set to be dropped\n",
    "if n_drop > 0:\n",
    "    pct = n_drop / len(keep_mask) * 100\n",
    "    print(f\"Dropping {n_drop} rows ({pct:.2f}%) where mode='{mode}'\")"
   ]
  },
  {
   "cell_type": "code",
   "execution_count": 28,
   "id": "5fb8eee5",
   "metadata": {
    "execution": {
     "iopub.execute_input": "2025-08-05T16:23:02.615117Z",
     "iopub.status.busy": "2025-08-05T16:23:02.612726Z",
     "iopub.status.idle": "2025-08-05T16:23:02.623068Z",
     "shell.execute_reply": "2025-08-05T16:23:02.621910Z"
    },
    "papermill": {
     "duration": 0.040772,
     "end_time": "2025-08-05T16:23:02.625138",
     "exception": false,
     "start_time": "2025-08-05T16:23:02.584366",
     "status": "completed"
    },
    "tags": []
   },
   "outputs": [],
   "source": [
    "X_train = X_train[keep_mask]"
   ]
  },
  {
   "cell_type": "code",
   "execution_count": 29,
   "id": "b202bb3a",
   "metadata": {
    "execution": {
     "iopub.execute_input": "2025-08-05T16:23:02.683421Z",
     "iopub.status.busy": "2025-08-05T16:23:02.682413Z",
     "iopub.status.idle": "2025-08-05T16:23:02.689666Z",
     "shell.execute_reply": "2025-08-05T16:23:02.688286Z"
    },
    "papermill": {
     "duration": 0.039398,
     "end_time": "2025-08-05T16:23:02.692045",
     "exception": false,
     "start_time": "2025-08-05T16:23:02.652647",
     "status": "completed"
    },
    "tags": []
   },
   "outputs": [],
   "source": [
    "y_train = y_train[keep_mask]"
   ]
  },
  {
   "cell_type": "markdown",
   "id": "493e2ac3",
   "metadata": {
    "papermill": {
     "duration": 0.023422,
     "end_time": "2025-08-05T16:23:02.740089",
     "exception": false,
     "start_time": "2025-08-05T16:23:02.716667",
     "status": "completed"
    },
    "tags": []
   },
   "source": [
    "# Model Training"
   ]
  },
  {
   "cell_type": "code",
   "execution_count": 30,
   "id": "679e1268",
   "metadata": {
    "execution": {
     "iopub.execute_input": "2025-08-05T16:23:02.793876Z",
     "iopub.status.busy": "2025-08-05T16:23:02.793283Z",
     "iopub.status.idle": "2025-08-05T16:23:02.961297Z",
     "shell.execute_reply": "2025-08-05T16:23:02.960090Z"
    },
    "papermill": {
     "duration": 0.200562,
     "end_time": "2025-08-05T16:23:02.963861",
     "exception": false,
     "start_time": "2025-08-05T16:23:02.763299",
     "status": "completed"
    },
    "tags": []
   },
   "outputs": [],
   "source": [
    "from sklearn.linear_model import LogisticRegression\n",
    "from sklearn.ensemble import GradientBoostingClassifier, RandomForestClassifier\n",
    "\n",
    "if (universe[\"model\"] == \"logreg\"):\n",
    "    model = LogisticRegression() #penalty=\"none\", solver=\"newton-cg\", max_iter=1) # include random_state=19 ?\n",
    "elif (universe[\"model\"] == \"penalized_logreg\"):\n",
    "    model = LogisticRegression(penalty=\"l2\", C=0.1) #, solver=\"newton-cg\", max_iter=1)\n",
    "elif (universe[\"model\"] == \"rf\"):\n",
    "    model = RandomForestClassifier() # n_estimators=100, n_jobs=-1\n",
    "elif (universe[\"model\"] == \"gbm\"):\n",
    "    model = GradientBoostingClassifier()\n",
    "elif (universe[\"model\"] == \"elasticnet\"):\n",
    "    model = LogisticRegression(penalty = 'elasticnet', solver = 'saga', l1_ratio = 0.5) # max_iter=5000\n",
    "else:\n",
    "    raise \"Unsupported universe.model\""
   ]
  },
  {
   "cell_type": "code",
   "execution_count": 31,
   "id": "0cc8f744",
   "metadata": {
    "execution": {
     "iopub.execute_input": "2025-08-05T16:23:03.020393Z",
     "iopub.status.busy": "2025-08-05T16:23:03.018961Z",
     "iopub.status.idle": "2025-08-05T16:23:03.028040Z",
     "shell.execute_reply": "2025-08-05T16:23:03.026418Z"
    },
    "papermill": {
     "duration": 0.039957,
     "end_time": "2025-08-05T16:23:03.030896",
     "exception": false,
     "start_time": "2025-08-05T16:23:02.990939",
     "status": "completed"
    },
    "tags": []
   },
   "outputs": [],
   "source": [
    "import numpy as np\n",
    "from sklearn.pipeline import Pipeline\n",
    "from sklearn.preprocessing import StandardScaler\n",
    "\n",
    "model = Pipeline([\n",
    "    #(\"continuous_processor\", continuous_processor),\n",
    "    #(\"categorical_preprocessor\", categorical_preprocessor),\n",
    "    (\"scale\", StandardScaler() if universe[\"scale\"] == \"scale\" else None), \n",
    "    (\"model\", model),\n",
    "])"
   ]
  },
  {
   "cell_type": "code",
   "execution_count": 32,
   "id": "9442c04d",
   "metadata": {
    "execution": {
     "iopub.execute_input": "2025-08-05T16:23:03.086692Z",
     "iopub.status.busy": "2025-08-05T16:23:03.086121Z",
     "iopub.status.idle": "2025-08-05T16:23:03.552648Z",
     "shell.execute_reply": "2025-08-05T16:23:03.551223Z"
    },
    "papermill": {
     "duration": 0.496351,
     "end_time": "2025-08-05T16:23:03.555387",
     "exception": false,
     "start_time": "2025-08-05T16:23:03.059036",
     "status": "completed"
    },
    "tags": []
   },
   "outputs": [
    {
     "name": "stderr",
     "output_type": "stream",
     "text": [
      "/dss/dsshome1/0C/ra93lal2/.local/share/virtualenvs/CMA_Fairness_v2-3j10GkSs/lib/python3.10/site-packages/sklearn/linear_model/_sag.py:350: ConvergenceWarning: The max_iter was reached which means the coef_ did not converge\n",
      "  warnings.warn(\n"
     ]
    },
    {
     "data": {
      "text/html": [
       "<style>#sk-container-id-1 {color: black;background-color: white;}#sk-container-id-1 pre{padding: 0;}#sk-container-id-1 div.sk-toggleable {background-color: white;}#sk-container-id-1 label.sk-toggleable__label {cursor: pointer;display: block;width: 100%;margin-bottom: 0;padding: 0.3em;box-sizing: border-box;text-align: center;}#sk-container-id-1 label.sk-toggleable__label-arrow:before {content: \"▸\";float: left;margin-right: 0.25em;color: #696969;}#sk-container-id-1 label.sk-toggleable__label-arrow:hover:before {color: black;}#sk-container-id-1 div.sk-estimator:hover label.sk-toggleable__label-arrow:before {color: black;}#sk-container-id-1 div.sk-toggleable__content {max-height: 0;max-width: 0;overflow: hidden;text-align: left;background-color: #f0f8ff;}#sk-container-id-1 div.sk-toggleable__content pre {margin: 0.2em;color: black;border-radius: 0.25em;background-color: #f0f8ff;}#sk-container-id-1 input.sk-toggleable__control:checked~div.sk-toggleable__content {max-height: 200px;max-width: 100%;overflow: auto;}#sk-container-id-1 input.sk-toggleable__control:checked~label.sk-toggleable__label-arrow:before {content: \"▾\";}#sk-container-id-1 div.sk-estimator input.sk-toggleable__control:checked~label.sk-toggleable__label {background-color: #d4ebff;}#sk-container-id-1 div.sk-label input.sk-toggleable__control:checked~label.sk-toggleable__label {background-color: #d4ebff;}#sk-container-id-1 input.sk-hidden--visually {border: 0;clip: rect(1px 1px 1px 1px);clip: rect(1px, 1px, 1px, 1px);height: 1px;margin: -1px;overflow: hidden;padding: 0;position: absolute;width: 1px;}#sk-container-id-1 div.sk-estimator {font-family: monospace;background-color: #f0f8ff;border: 1px dotted black;border-radius: 0.25em;box-sizing: border-box;margin-bottom: 0.5em;}#sk-container-id-1 div.sk-estimator:hover {background-color: #d4ebff;}#sk-container-id-1 div.sk-parallel-item::after {content: \"\";width: 100%;border-bottom: 1px solid gray;flex-grow: 1;}#sk-container-id-1 div.sk-label:hover label.sk-toggleable__label {background-color: #d4ebff;}#sk-container-id-1 div.sk-serial::before {content: \"\";position: absolute;border-left: 1px solid gray;box-sizing: border-box;top: 0;bottom: 0;left: 50%;z-index: 0;}#sk-container-id-1 div.sk-serial {display: flex;flex-direction: column;align-items: center;background-color: white;padding-right: 0.2em;padding-left: 0.2em;position: relative;}#sk-container-id-1 div.sk-item {position: relative;z-index: 1;}#sk-container-id-1 div.sk-parallel {display: flex;align-items: stretch;justify-content: center;background-color: white;position: relative;}#sk-container-id-1 div.sk-item::before, #sk-container-id-1 div.sk-parallel-item::before {content: \"\";position: absolute;border-left: 1px solid gray;box-sizing: border-box;top: 0;bottom: 0;left: 50%;z-index: -1;}#sk-container-id-1 div.sk-parallel-item {display: flex;flex-direction: column;z-index: 1;position: relative;background-color: white;}#sk-container-id-1 div.sk-parallel-item:first-child::after {align-self: flex-end;width: 50%;}#sk-container-id-1 div.sk-parallel-item:last-child::after {align-self: flex-start;width: 50%;}#sk-container-id-1 div.sk-parallel-item:only-child::after {width: 0;}#sk-container-id-1 div.sk-dashed-wrapped {border: 1px dashed gray;margin: 0 0.4em 0.5em 0.4em;box-sizing: border-box;padding-bottom: 0.4em;background-color: white;}#sk-container-id-1 div.sk-label label {font-family: monospace;font-weight: bold;display: inline-block;line-height: 1.2em;}#sk-container-id-1 div.sk-label-container {text-align: center;}#sk-container-id-1 div.sk-container {/* jupyter's `normalize.less` sets `[hidden] { display: none; }` but bootstrap.min.css set `[hidden] { display: none !important; }` so we also need the `!important` here to be able to override the default hidden behavior on the sphinx rendered scikit-learn.org. See: https://github.com/scikit-learn/scikit-learn/issues/21755 */display: inline-block !important;position: relative;}#sk-container-id-1 div.sk-text-repr-fallback {display: none;}</style><div id=\"sk-container-id-1\" class=\"sk-top-container\"><div class=\"sk-text-repr-fallback\"><pre>Pipeline(steps=[(&#x27;scale&#x27;, StandardScaler()),\n",
       "                (&#x27;model&#x27;,\n",
       "                 LogisticRegression(l1_ratio=0.5, penalty=&#x27;elasticnet&#x27;,\n",
       "                                    solver=&#x27;saga&#x27;))])</pre><b>In a Jupyter environment, please rerun this cell to show the HTML representation or trust the notebook. <br />On GitHub, the HTML representation is unable to render, please try loading this page with nbviewer.org.</b></div><div class=\"sk-container\" hidden><div class=\"sk-item sk-dashed-wrapped\"><div class=\"sk-label-container\"><div class=\"sk-label sk-toggleable\"><input class=\"sk-toggleable__control sk-hidden--visually\" id=\"sk-estimator-id-1\" type=\"checkbox\" ><label for=\"sk-estimator-id-1\" class=\"sk-toggleable__label sk-toggleable__label-arrow\">Pipeline</label><div class=\"sk-toggleable__content\"><pre>Pipeline(steps=[(&#x27;scale&#x27;, StandardScaler()),\n",
       "                (&#x27;model&#x27;,\n",
       "                 LogisticRegression(l1_ratio=0.5, penalty=&#x27;elasticnet&#x27;,\n",
       "                                    solver=&#x27;saga&#x27;))])</pre></div></div></div><div class=\"sk-serial\"><div class=\"sk-item\"><div class=\"sk-estimator sk-toggleable\"><input class=\"sk-toggleable__control sk-hidden--visually\" id=\"sk-estimator-id-2\" type=\"checkbox\" ><label for=\"sk-estimator-id-2\" class=\"sk-toggleable__label sk-toggleable__label-arrow\">StandardScaler</label><div class=\"sk-toggleable__content\"><pre>StandardScaler()</pre></div></div></div><div class=\"sk-item\"><div class=\"sk-estimator sk-toggleable\"><input class=\"sk-toggleable__control sk-hidden--visually\" id=\"sk-estimator-id-3\" type=\"checkbox\" ><label for=\"sk-estimator-id-3\" class=\"sk-toggleable__label sk-toggleable__label-arrow\">LogisticRegression</label><div class=\"sk-toggleable__content\"><pre>LogisticRegression(l1_ratio=0.5, penalty=&#x27;elasticnet&#x27;, solver=&#x27;saga&#x27;)</pre></div></div></div></div></div></div></div>"
      ],
      "text/plain": [
       "Pipeline(steps=[('scale', StandardScaler()),\n",
       "                ('model',\n",
       "                 LogisticRegression(l1_ratio=0.5, penalty='elasticnet',\n",
       "                                    solver='saga'))])"
      ]
     },
     "execution_count": 32,
     "metadata": {},
     "output_type": "execute_result"
    }
   ],
   "source": [
    "model.fit(X_train, y_train.values.ravel())"
   ]
  },
  {
   "cell_type": "code",
   "execution_count": 33,
   "id": "af59f8c0",
   "metadata": {
    "execution": {
     "iopub.execute_input": "2025-08-05T16:23:03.609599Z",
     "iopub.status.busy": "2025-08-05T16:23:03.609030Z",
     "iopub.status.idle": "2025-08-05T16:23:03.615078Z",
     "shell.execute_reply": "2025-08-05T16:23:03.613930Z"
    },
    "papermill": {
     "duration": 0.034623,
     "end_time": "2025-08-05T16:23:03.617190",
     "exception": false,
     "start_time": "2025-08-05T16:23:03.582567",
     "status": "completed"
    },
    "tags": []
   },
   "outputs": [],
   "source": [
    "from fairness_multiverse.universe import predict_w_threshold"
   ]
  },
  {
   "cell_type": "code",
   "execution_count": 34,
   "id": "a7cf2e16",
   "metadata": {
    "execution": {
     "iopub.execute_input": "2025-08-05T16:23:03.675653Z",
     "iopub.status.busy": "2025-08-05T16:23:03.674982Z",
     "iopub.status.idle": "2025-08-05T16:23:03.960461Z",
     "shell.execute_reply": "2025-08-05T16:23:03.959390Z"
    },
    "papermill": {
     "duration": 0.318414,
     "end_time": "2025-08-05T16:23:03.962636",
     "exception": false,
     "start_time": "2025-08-05T16:23:03.644222",
     "status": "completed"
    },
    "tags": []
   },
   "outputs": [
    {
     "data": {
      "text/plain": [
       "0.8322372087838591"
      ]
     },
     "execution_count": 34,
     "metadata": {},
     "output_type": "execute_result"
    }
   ],
   "source": [
    "probs_test = model.predict_proba(X_test)\n",
    "\n",
    "'''\n",
    "Below code returns a boolean array (or binary 0/1 array depending on how it’s used) where each element \n",
    "is True if the probability of class 1 is greater than or equal to the threshold, and False otherwise.\n",
    "'''\n",
    "y_pred_default = predict_w_threshold(probs_test, 0.5)\n",
    "\n",
    "from sklearn.metrics import accuracy_score\n",
    "\n",
    "# Naive prediction\n",
    "accuracy_score(y_true = y_true, y_pred = y_pred_default)"
   ]
  },
  {
   "cell_type": "code",
   "execution_count": 35,
   "id": "081964c3",
   "metadata": {
    "execution": {
     "iopub.execute_input": "2025-08-05T16:23:04.038270Z",
     "iopub.status.busy": "2025-08-05T16:23:04.036939Z",
     "iopub.status.idle": "2025-08-05T16:23:04.299185Z",
     "shell.execute_reply": "2025-08-05T16:23:04.298002Z"
    },
    "papermill": {
     "duration": 0.293829,
     "end_time": "2025-08-05T16:23:04.301138",
     "exception": false,
     "start_time": "2025-08-05T16:23:04.007309",
     "status": "completed"
    },
    "tags": []
   },
   "outputs": [
    {
     "data": {
      "text/plain": [
       "array([0, 0, 0, ..., 0, 0, 0])"
      ]
     },
     "execution_count": 35,
     "metadata": {},
     "output_type": "execute_result"
    }
   ],
   "source": [
    "model.predict(X_test)"
   ]
  },
  {
   "cell_type": "markdown",
   "id": "56c9705b",
   "metadata": {
    "papermill": {
     "duration": 0.029575,
     "end_time": "2025-08-05T16:23:04.359241",
     "exception": false,
     "start_time": "2025-08-05T16:23:04.329666",
     "status": "completed"
    },
    "tags": []
   },
   "source": [
    "# Conformal Prediction"
   ]
  },
  {
   "cell_type": "code",
   "execution_count": 36,
   "id": "160ec6ff",
   "metadata": {
    "execution": {
     "iopub.execute_input": "2025-08-05T16:23:04.415928Z",
     "iopub.status.busy": "2025-08-05T16:23:04.415249Z",
     "iopub.status.idle": "2025-08-05T16:23:04.422789Z",
     "shell.execute_reply": "2025-08-05T16:23:04.421413Z"
    },
    "papermill": {
     "duration": 0.039419,
     "end_time": "2025-08-05T16:23:04.425103",
     "exception": false,
     "start_time": "2025-08-05T16:23:04.385684",
     "status": "completed"
    },
    "tags": []
   },
   "outputs": [],
   "source": [
    "# Miscoverage level for conformal prediction (10% allowed error rate => 90% target coverage)\n",
    "alpha = 0.1"
   ]
  },
  {
   "cell_type": "code",
   "execution_count": 37,
   "id": "eadf4555-3dd3-440e-8e35-f82a4ad9f855",
   "metadata": {
    "execution": {
     "iopub.execute_input": "2025-08-05T16:23:04.481935Z",
     "iopub.status.busy": "2025-08-05T16:23:04.481401Z",
     "iopub.status.idle": "2025-08-05T16:23:04.677383Z",
     "shell.execute_reply": "2025-08-05T16:23:04.676197Z"
    },
    "papermill": {
     "duration": 0.225824,
     "end_time": "2025-08-05T16:23:04.679764",
     "exception": false,
     "start_time": "2025-08-05T16:23:04.453940",
     "status": "completed"
    },
    "tags": []
   },
   "outputs": [],
   "source": [
    "probs_calib = model.predict_proba(X_calib)"
   ]
  },
  {
   "cell_type": "code",
   "execution_count": 38,
   "id": "2ed93547-6d5d-4983-9b36-1ecb300da49a",
   "metadata": {
    "execution": {
     "iopub.execute_input": "2025-08-05T16:23:04.740755Z",
     "iopub.status.busy": "2025-08-05T16:23:04.740186Z",
     "iopub.status.idle": "2025-08-05T16:23:04.747107Z",
     "shell.execute_reply": "2025-08-05T16:23:04.745845Z"
    },
    "papermill": {
     "duration": 0.039146,
     "end_time": "2025-08-05T16:23:04.749050",
     "exception": false,
     "start_time": "2025-08-05T16:23:04.709904",
     "status": "completed"
    },
    "tags": []
   },
   "outputs": [],
   "source": [
    "y_calib = y_calib.values.ravel().astype(int)"
   ]
  },
  {
   "cell_type": "code",
   "execution_count": 39,
   "id": "65d1320d-f588-4b38-9072-62af1ae97f7d",
   "metadata": {
    "execution": {
     "iopub.execute_input": "2025-08-05T16:23:04.810199Z",
     "iopub.status.busy": "2025-08-05T16:23:04.809650Z",
     "iopub.status.idle": "2025-08-05T16:23:04.818269Z",
     "shell.execute_reply": "2025-08-05T16:23:04.817103Z"
    },
    "papermill": {
     "duration": 0.040785,
     "end_time": "2025-08-05T16:23:04.819998",
     "exception": false,
     "start_time": "2025-08-05T16:23:04.779213",
     "status": "completed"
    },
    "tags": []
   },
   "outputs": [],
   "source": [
    "from fairness_multiverse.conformal import compute_nc_scores\n",
    "\n",
    "# Compute nonconformity scores on calibration set (1 - probability of true class)\n",
    "nc_scores = compute_nc_scores(probs_calib, y_calib)"
   ]
  },
  {
   "cell_type": "code",
   "execution_count": 40,
   "id": "df3b8ca3-53b7-43d5-9667-7c85da7aeda2",
   "metadata": {
    "execution": {
     "iopub.execute_input": "2025-08-05T16:23:04.879619Z",
     "iopub.status.busy": "2025-08-05T16:23:04.878967Z",
     "iopub.status.idle": "2025-08-05T16:23:04.884870Z",
     "shell.execute_reply": "2025-08-05T16:23:04.884096Z"
    },
    "papermill": {
     "duration": 0.049007,
     "end_time": "2025-08-05T16:23:04.896110",
     "exception": false,
     "start_time": "2025-08-05T16:23:04.847103",
     "status": "completed"
    },
    "tags": []
   },
   "outputs": [],
   "source": [
    "from fairness_multiverse.conformal import find_threshold\n",
    "\n",
    "# Find conformal threshold q_hat for the given alpha (split conformal method)\n",
    "q_hat = find_threshold(nc_scores, alpha)"
   ]
  },
  {
   "cell_type": "code",
   "execution_count": 41,
   "id": "4d29e6c1-0ef6-4aa4-b8fe-4fe79b0d033a",
   "metadata": {
    "execution": {
     "iopub.execute_input": "2025-08-05T16:23:04.964561Z",
     "iopub.status.busy": "2025-08-05T16:23:04.963953Z",
     "iopub.status.idle": "2025-08-05T16:23:04.971974Z",
     "shell.execute_reply": "2025-08-05T16:23:04.970957Z"
    },
    "papermill": {
     "duration": 0.039763,
     "end_time": "2025-08-05T16:23:04.974051",
     "exception": false,
     "start_time": "2025-08-05T16:23:04.934288",
     "status": "completed"
    },
    "tags": []
   },
   "outputs": [
    {
     "data": {
      "text/plain": [
       "0.7692845659767162"
      ]
     },
     "execution_count": 41,
     "metadata": {},
     "output_type": "execute_result"
    }
   ],
   "source": [
    "q_hat"
   ]
  },
  {
   "cell_type": "code",
   "execution_count": 42,
   "id": "92460794-cdac-4be2-ba28-f28c0515a6fb",
   "metadata": {
    "execution": {
     "iopub.execute_input": "2025-08-05T16:23:05.029141Z",
     "iopub.status.busy": "2025-08-05T16:23:05.028442Z",
     "iopub.status.idle": "2025-08-05T16:23:05.967035Z",
     "shell.execute_reply": "2025-08-05T16:23:05.966041Z"
    },
    "papermill": {
     "duration": 0.96842,
     "end_time": "2025-08-05T16:23:05.968950",
     "exception": false,
     "start_time": "2025-08-05T16:23:05.000530",
     "status": "completed"
    },
    "tags": []
   },
   "outputs": [],
   "source": [
    "from fairness_multiverse.conformal import predict_conformal_sets\n",
    "\n",
    "# Generate prediction sets for each test example\n",
    "pred_sets = predict_conformal_sets(model, X_test, q_hat)"
   ]
  },
  {
   "cell_type": "code",
   "execution_count": 43,
   "id": "d90c9a65-e6db-4f5d-80cd-e68fb7e46829",
   "metadata": {
    "execution": {
     "iopub.execute_input": "2025-08-05T16:23:06.019068Z",
     "iopub.status.busy": "2025-08-05T16:23:06.018315Z",
     "iopub.status.idle": "2025-08-05T16:23:06.025171Z",
     "shell.execute_reply": "2025-08-05T16:23:06.023906Z"
    },
    "papermill": {
     "duration": 0.032313,
     "end_time": "2025-08-05T16:23:06.027397",
     "exception": false,
     "start_time": "2025-08-05T16:23:05.995084",
     "status": "completed"
    },
    "tags": []
   },
   "outputs": [],
   "source": [
    "y_true = y_true.squeeze()"
   ]
  },
  {
   "cell_type": "code",
   "execution_count": 44,
   "id": "3a58a54a-1e68-46b9-927a-df01f18aebc8",
   "metadata": {
    "execution": {
     "iopub.execute_input": "2025-08-05T16:23:06.074809Z",
     "iopub.status.busy": "2025-08-05T16:23:06.073940Z",
     "iopub.status.idle": "2025-08-05T16:23:07.682216Z",
     "shell.execute_reply": "2025-08-05T16:23:07.680946Z"
    },
    "papermill": {
     "duration": 1.633014,
     "end_time": "2025-08-05T16:23:07.684318",
     "exception": false,
     "start_time": "2025-08-05T16:23:06.051304",
     "status": "completed"
    },
    "tags": []
   },
   "outputs": [],
   "source": [
    "from fairness_multiverse.conformal import evaluate_sets\n",
    "\n",
    "# Evaluate coverage and average set size on test data\n",
    "metrics = evaluate_sets(pred_sets, y_true)"
   ]
  },
  {
   "cell_type": "markdown",
   "id": "2b569c12-9aaa-4c88-98c9-bbcd0cf3ebb8",
   "metadata": {
    "papermill": {
     "duration": 0.023535,
     "end_time": "2025-08-05T16:23:07.731081",
     "exception": false,
     "start_time": "2025-08-05T16:23:07.707546",
     "status": "completed"
    },
    "tags": []
   },
   "source": [
    "# CP Metrics"
   ]
  },
  {
   "cell_type": "code",
   "execution_count": 45,
   "id": "5ce0a5cb-201f-45a0-ade5-94c7f0bd6095",
   "metadata": {
    "execution": {
     "iopub.execute_input": "2025-08-05T16:23:07.778582Z",
     "iopub.status.busy": "2025-08-05T16:23:07.778219Z",
     "iopub.status.idle": "2025-08-05T16:23:07.785420Z",
     "shell.execute_reply": "2025-08-05T16:23:07.784536Z"
    },
    "papermill": {
     "duration": 0.032724,
     "end_time": "2025-08-05T16:23:07.786941",
     "exception": false,
     "start_time": "2025-08-05T16:23:07.754217",
     "status": "completed"
    },
    "tags": []
   },
   "outputs": [
    {
     "data": {
      "text/plain": [
       "{'coverage': 0.9088061531601828, 'avg_size': 1.2145468732582767}"
      ]
     },
     "execution_count": 45,
     "metadata": {},
     "output_type": "execute_result"
    }
   ],
   "source": [
    "metrics"
   ]
  },
  {
   "cell_type": "code",
   "execution_count": 46,
   "id": "9b9a838d-31c9-430b-ae14-12baee460d17",
   "metadata": {
    "execution": {
     "iopub.execute_input": "2025-08-05T16:23:07.811414Z",
     "iopub.status.busy": "2025-08-05T16:23:07.809879Z",
     "iopub.status.idle": "2025-08-05T16:23:07.816976Z",
     "shell.execute_reply": "2025-08-05T16:23:07.815599Z"
    },
    "papermill": {
     "duration": 0.020445,
     "end_time": "2025-08-05T16:23:07.818908",
     "exception": false,
     "start_time": "2025-08-05T16:23:07.798463",
     "status": "completed"
    },
    "tags": []
   },
   "outputs": [],
   "source": [
    "example_universe = universe.copy()\n",
    "universe_training_year = example_universe.get(\"training_year\")\n",
    "universe_training_size = example_universe.get(\"training_size\")\n",
    "universe_scale = example_universe.get(\"scale\")\n",
    "universe_model = example_universe.get(\"model\")\n",
    "universe_exclude_features = example_universe.get(\"exclude_features\")\n",
    "universe_exclude_subgroups = example_universe.get(\"exclude_subgroups\")"
   ]
  },
  {
   "cell_type": "code",
   "execution_count": 47,
   "id": "f4b6a8ac-9dc0-4245-8a91-5b3b5999c4f9",
   "metadata": {
    "execution": {
     "iopub.execute_input": "2025-08-05T16:23:07.867191Z",
     "iopub.status.busy": "2025-08-05T16:23:07.866679Z",
     "iopub.status.idle": "2025-08-05T16:23:07.874424Z",
     "shell.execute_reply": "2025-08-05T16:23:07.873479Z"
    },
    "papermill": {
     "duration": 0.032165,
     "end_time": "2025-08-05T16:23:07.876085",
     "exception": false,
     "start_time": "2025-08-05T16:23:07.843920",
     "status": "completed"
    },
    "tags": []
   },
   "outputs": [],
   "source": [
    "cp_metrics_dict = {\n",
    "    \"universe_id\": [universe_id],\n",
    "    \"universe_training_year\": [universe_training_year],\n",
    "    \"universe_training_size\": [universe_training_size],\n",
    "    \"universe_scale\": [universe_scale],\n",
    "    \"universe_model\": [universe_model],\n",
    "    \"universe_exclude_features\": [universe_exclude_features],\n",
    "    \"universe_exclude_subgroups\": [universe_exclude_subgroups],\n",
    "    \"q_hat\": [q_hat],\n",
    "    \"coverage\": [metrics[\"coverage\"]],\n",
    "    \"avg_size\": [metrics[\"avg_size\"]],\n",
    "}"
   ]
  },
  {
   "cell_type": "code",
   "execution_count": 48,
   "id": "908acbb1-0371-4915-85ca-3fa520d2efe2",
   "metadata": {
    "execution": {
     "iopub.execute_input": "2025-08-05T16:23:07.922065Z",
     "iopub.status.busy": "2025-08-05T16:23:07.921600Z",
     "iopub.status.idle": "2025-08-05T16:23:07.928493Z",
     "shell.execute_reply": "2025-08-05T16:23:07.927688Z"
    },
    "papermill": {
     "duration": 0.02809,
     "end_time": "2025-08-05T16:23:07.929899",
     "exception": false,
     "start_time": "2025-08-05T16:23:07.901809",
     "status": "completed"
    },
    "tags": []
   },
   "outputs": [
    {
     "data": {
      "text/plain": [
       "{'universe_id': ['710854622547fb429f0a0f4a753e5802'],\n",
       " 'universe_training_year': ['2012_14'],\n",
       " 'universe_training_size': ['1k'],\n",
       " 'universe_scale': ['scale'],\n",
       " 'universe_model': ['elasticnet'],\n",
       " 'universe_exclude_features': ['nationality-sex'],\n",
       " 'universe_exclude_subgroups': ['keep-all'],\n",
       " 'q_hat': [0.7692845659767162],\n",
       " 'coverage': [0.9088061531601828],\n",
       " 'avg_size': [1.2145468732582767]}"
      ]
     },
     "execution_count": 48,
     "metadata": {},
     "output_type": "execute_result"
    }
   ],
   "source": [
    "cp_metrics_dict"
   ]
  },
  {
   "cell_type": "code",
   "execution_count": 49,
   "id": "33007efc-14e9-4ec6-97ac-56a455c82265",
   "metadata": {
    "execution": {
     "iopub.execute_input": "2025-08-05T16:23:07.959838Z",
     "iopub.status.busy": "2025-08-05T16:23:07.959201Z",
     "iopub.status.idle": "2025-08-05T16:23:07.965252Z",
     "shell.execute_reply": "2025-08-05T16:23:07.964429Z"
    },
    "papermill": {
     "duration": 0.021439,
     "end_time": "2025-08-05T16:23:07.966858",
     "exception": false,
     "start_time": "2025-08-05T16:23:07.945419",
     "status": "completed"
    },
    "tags": []
   },
   "outputs": [],
   "source": [
    "cp_metrics_df = pd.DataFrame(cp_metrics_dict)"
   ]
  },
  {
   "cell_type": "code",
   "execution_count": 50,
   "id": "db12611b-57b2-4910-b9d0-355adfd6e7bf",
   "metadata": {
    "execution": {
     "iopub.execute_input": "2025-08-05T16:23:07.994898Z",
     "iopub.status.busy": "2025-08-05T16:23:07.994384Z",
     "iopub.status.idle": "2025-08-05T16:23:08.015186Z",
     "shell.execute_reply": "2025-08-05T16:23:08.013440Z"
    },
    "papermill": {
     "duration": 0.036518,
     "end_time": "2025-08-05T16:23:08.016923",
     "exception": false,
     "start_time": "2025-08-05T16:23:07.980405",
     "status": "completed"
    },
    "tags": []
   },
   "outputs": [
    {
     "data": {
      "text/html": [
       "<div>\n",
       "<style scoped>\n",
       "    .dataframe tbody tr th:only-of-type {\n",
       "        vertical-align: middle;\n",
       "    }\n",
       "\n",
       "    .dataframe tbody tr th {\n",
       "        vertical-align: top;\n",
       "    }\n",
       "\n",
       "    .dataframe thead th {\n",
       "        text-align: right;\n",
       "    }\n",
       "</style>\n",
       "<table border=\"1\" class=\"dataframe\">\n",
       "  <thead>\n",
       "    <tr style=\"text-align: right;\">\n",
       "      <th></th>\n",
       "      <th>universe_id</th>\n",
       "      <th>universe_training_year</th>\n",
       "      <th>universe_training_size</th>\n",
       "      <th>universe_scale</th>\n",
       "      <th>universe_model</th>\n",
       "      <th>universe_exclude_features</th>\n",
       "      <th>universe_exclude_subgroups</th>\n",
       "      <th>q_hat</th>\n",
       "      <th>coverage</th>\n",
       "      <th>avg_size</th>\n",
       "    </tr>\n",
       "  </thead>\n",
       "  <tbody>\n",
       "    <tr>\n",
       "      <th>0</th>\n",
       "      <td>710854622547fb429f0a0f4a753e5802</td>\n",
       "      <td>2012_14</td>\n",
       "      <td>1k</td>\n",
       "      <td>scale</td>\n",
       "      <td>elasticnet</td>\n",
       "      <td>nationality-sex</td>\n",
       "      <td>keep-all</td>\n",
       "      <td>0.769285</td>\n",
       "      <td>0.908806</td>\n",
       "      <td>1.214547</td>\n",
       "    </tr>\n",
       "  </tbody>\n",
       "</table>\n",
       "</div>"
      ],
      "text/plain": [
       "                        universe_id universe_training_year  \\\n",
       "0  710854622547fb429f0a0f4a753e5802                2012_14   \n",
       "\n",
       "  universe_training_size universe_scale universe_model  \\\n",
       "0                     1k          scale     elasticnet   \n",
       "\n",
       "  universe_exclude_features universe_exclude_subgroups     q_hat  coverage  \\\n",
       "0           nationality-sex                   keep-all  0.769285  0.908806   \n",
       "\n",
       "   avg_size  \n",
       "0  1.214547  "
      ]
     },
     "execution_count": 50,
     "metadata": {},
     "output_type": "execute_result"
    }
   ],
   "source": [
    "cp_metrics_df"
   ]
  },
  {
   "cell_type": "code",
   "execution_count": 51,
   "id": "b7fbde55-a0a1-47e4-9af6-fe4a17fa8c61",
   "metadata": {
    "execution": {
     "iopub.execute_input": "2025-08-05T16:23:08.070398Z",
     "iopub.status.busy": "2025-08-05T16:23:08.069777Z",
     "iopub.status.idle": "2025-08-05T16:23:08.075252Z",
     "shell.execute_reply": "2025-08-05T16:23:08.074178Z"
    },
    "papermill": {
     "duration": 0.034297,
     "end_time": "2025-08-05T16:23:08.077421",
     "exception": false,
     "start_time": "2025-08-05T16:23:08.043124",
     "status": "completed"
    },
    "tags": []
   },
   "outputs": [],
   "source": [
    "# Conditional Coverage & looking at subgroups"
   ]
  },
  {
   "cell_type": "code",
   "execution_count": 52,
   "id": "027ae886-68dd-4141-96c7-805a5450e1ef",
   "metadata": {
    "execution": {
     "iopub.execute_input": "2025-08-05T16:23:08.132255Z",
     "iopub.status.busy": "2025-08-05T16:23:08.131524Z",
     "iopub.status.idle": "2025-08-05T16:23:08.413109Z",
     "shell.execute_reply": "2025-08-05T16:23:08.411961Z"
    },
    "papermill": {
     "duration": 0.311099,
     "end_time": "2025-08-05T16:23:08.415556",
     "exception": false,
     "start_time": "2025-08-05T16:23:08.104457",
     "status": "completed"
    },
    "tags": []
   },
   "outputs": [],
   "source": [
    "from fairness_multiverse.conformal import build_cp_groups\n",
    "\n",
    "cp_groups_df = build_cp_groups(pred_sets, y_true, X_test.index, org_test)\n",
    "#needs universe_id and setting"
   ]
  },
  {
   "cell_type": "code",
   "execution_count": 53,
   "id": "6cbdab96-b2b2-45af-ad54-d0516db2e28d",
   "metadata": {
    "execution": {
     "iopub.execute_input": "2025-08-05T16:23:08.470551Z",
     "iopub.status.busy": "2025-08-05T16:23:08.470029Z",
     "iopub.status.idle": "2025-08-05T16:23:10.267345Z",
     "shell.execute_reply": "2025-08-05T16:23:10.266527Z"
    },
    "papermill": {
     "duration": 1.828152,
     "end_time": "2025-08-05T16:23:10.269269",
     "exception": false,
     "start_time": "2025-08-05T16:23:08.441117",
     "status": "completed"
    },
    "tags": []
   },
   "outputs": [],
   "source": [
    "# Define covered = 1 if true_label is in the predicted set\n",
    "cp_groups_df['covered'] = cp_groups_df.apply(\n",
    "    lambda r: int(r['true_label'] in r['pred_set']),\n",
    "    axis=1\n",
    ")"
   ]
  },
  {
   "cell_type": "code",
   "execution_count": 54,
   "id": "338ff529-1a6b-4b87-a931-8e4788d52aad",
   "metadata": {
    "execution": {
     "iopub.execute_input": "2025-08-05T16:23:10.303432Z",
     "iopub.status.busy": "2025-08-05T16:23:10.302641Z",
     "iopub.status.idle": "2025-08-05T16:23:10.308256Z",
     "shell.execute_reply": "2025-08-05T16:23:10.307136Z"
    },
    "papermill": {
     "duration": 0.022804,
     "end_time": "2025-08-05T16:23:10.309998",
     "exception": false,
     "start_time": "2025-08-05T16:23:10.287194",
     "status": "completed"
    },
    "tags": []
   },
   "outputs": [],
   "source": [
    "#cp_groups_df"
   ]
  },
  {
   "cell_type": "code",
   "execution_count": 55,
   "id": "90032e27-66df-4540-9169-4e89cfbaa758",
   "metadata": {
    "execution": {
     "iopub.execute_input": "2025-08-05T16:23:10.342888Z",
     "iopub.status.busy": "2025-08-05T16:23:10.342012Z",
     "iopub.status.idle": "2025-08-05T16:23:10.352919Z",
     "shell.execute_reply": "2025-08-05T16:23:10.351975Z"
    },
    "papermill": {
     "duration": 0.028729,
     "end_time": "2025-08-05T16:23:10.354747",
     "exception": false,
     "start_time": "2025-08-05T16:23:10.326018",
     "status": "completed"
    },
    "tags": []
   },
   "outputs": [],
   "source": [
    "subgroups = ['frau1','nongerman','nongerman_male','nongerman_female']\n",
    "\n",
    "# Conditional coverage for subgroup==1\n",
    "cond_coverage = {\n",
    "    g: cp_groups_df.loc[cp_groups_df[g]==1, 'covered'].mean()\n",
    "    for g in subgroups\n",
    "}"
   ]
  },
  {
   "cell_type": "code",
   "execution_count": 56,
   "id": "1e348fb1-b9c3-45bc-ba23-f016827a7e0d",
   "metadata": {
    "execution": {
     "iopub.execute_input": "2025-08-05T16:23:10.395296Z",
     "iopub.status.busy": "2025-08-05T16:23:10.394525Z",
     "iopub.status.idle": "2025-08-05T16:23:10.403310Z",
     "shell.execute_reply": "2025-08-05T16:23:10.402147Z"
    },
    "papermill": {
     "duration": 0.035313,
     "end_time": "2025-08-05T16:23:10.405370",
     "exception": false,
     "start_time": "2025-08-05T16:23:10.370057",
     "status": "completed"
    },
    "tags": []
   },
   "outputs": [
    {
     "data": {
      "text/plain": [
       "{'frau1': 0.9043806442916835,\n",
       " 'nongerman': 0.9125919272441475,\n",
       " 'nongerman_male': 0.9283977303431505,\n",
       " 'nongerman_female': 0.8864381520119226}"
      ]
     },
     "execution_count": 56,
     "metadata": {},
     "output_type": "execute_result"
    }
   ],
   "source": [
    "cond_coverage"
   ]
  },
  {
   "cell_type": "code",
   "execution_count": 57,
   "id": "f5093324-c3dd-4d63-bc4c-8d945e5c8bbb",
   "metadata": {
    "execution": {
     "iopub.execute_input": "2025-08-05T16:23:10.469806Z",
     "iopub.status.busy": "2025-08-05T16:23:10.468922Z",
     "iopub.status.idle": "2025-08-05T16:23:10.478493Z",
     "shell.execute_reply": "2025-08-05T16:23:10.477348Z"
    },
    "papermill": {
     "duration": 0.043567,
     "end_time": "2025-08-05T16:23:10.480515",
     "exception": false,
     "start_time": "2025-08-05T16:23:10.436948",
     "status": "completed"
    },
    "tags": []
   },
   "outputs": [],
   "source": [
    "for subgroup, cov in cond_coverage.items():\n",
    "    cp_metrics_df[f\"cov_{subgroup}\"] = cov"
   ]
  },
  {
   "cell_type": "code",
   "execution_count": 58,
   "id": "6e872e10-dbe5-49e8-b554-5030c98ff75d",
   "metadata": {
    "execution": {
     "iopub.execute_input": "2025-08-05T16:23:10.542443Z",
     "iopub.status.busy": "2025-08-05T16:23:10.541227Z",
     "iopub.status.idle": "2025-08-05T16:23:10.573236Z",
     "shell.execute_reply": "2025-08-05T16:23:10.571828Z"
    },
    "papermill": {
     "duration": 0.067382,
     "end_time": "2025-08-05T16:23:10.575804",
     "exception": false,
     "start_time": "2025-08-05T16:23:10.508422",
     "status": "completed"
    },
    "tags": []
   },
   "outputs": [
    {
     "data": {
      "text/html": [
       "<div>\n",
       "<style scoped>\n",
       "    .dataframe tbody tr th:only-of-type {\n",
       "        vertical-align: middle;\n",
       "    }\n",
       "\n",
       "    .dataframe tbody tr th {\n",
       "        vertical-align: top;\n",
       "    }\n",
       "\n",
       "    .dataframe thead th {\n",
       "        text-align: right;\n",
       "    }\n",
       "</style>\n",
       "<table border=\"1\" class=\"dataframe\">\n",
       "  <thead>\n",
       "    <tr style=\"text-align: right;\">\n",
       "      <th></th>\n",
       "      <th>universe_id</th>\n",
       "      <th>universe_training_year</th>\n",
       "      <th>universe_training_size</th>\n",
       "      <th>universe_scale</th>\n",
       "      <th>universe_model</th>\n",
       "      <th>universe_exclude_features</th>\n",
       "      <th>universe_exclude_subgroups</th>\n",
       "      <th>q_hat</th>\n",
       "      <th>coverage</th>\n",
       "      <th>avg_size</th>\n",
       "      <th>cov_frau1</th>\n",
       "      <th>cov_nongerman</th>\n",
       "      <th>cov_nongerman_male</th>\n",
       "      <th>cov_nongerman_female</th>\n",
       "    </tr>\n",
       "  </thead>\n",
       "  <tbody>\n",
       "    <tr>\n",
       "      <th>0</th>\n",
       "      <td>710854622547fb429f0a0f4a753e5802</td>\n",
       "      <td>2012_14</td>\n",
       "      <td>1k</td>\n",
       "      <td>scale</td>\n",
       "      <td>elasticnet</td>\n",
       "      <td>nationality-sex</td>\n",
       "      <td>keep-all</td>\n",
       "      <td>0.769285</td>\n",
       "      <td>0.908806</td>\n",
       "      <td>1.214547</td>\n",
       "      <td>0.904381</td>\n",
       "      <td>0.912592</td>\n",
       "      <td>0.928398</td>\n",
       "      <td>0.886438</td>\n",
       "    </tr>\n",
       "  </tbody>\n",
       "</table>\n",
       "</div>"
      ],
      "text/plain": [
       "                        universe_id universe_training_year  \\\n",
       "0  710854622547fb429f0a0f4a753e5802                2012_14   \n",
       "\n",
       "  universe_training_size universe_scale universe_model  \\\n",
       "0                     1k          scale     elasticnet   \n",
       "\n",
       "  universe_exclude_features universe_exclude_subgroups     q_hat  coverage  \\\n",
       "0           nationality-sex                   keep-all  0.769285  0.908806   \n",
       "\n",
       "   avg_size  cov_frau1  cov_nongerman  cov_nongerman_male  \\\n",
       "0  1.214547   0.904381       0.912592            0.928398   \n",
       "\n",
       "   cov_nongerman_female  \n",
       "0              0.886438  "
      ]
     },
     "execution_count": 58,
     "metadata": {},
     "output_type": "execute_result"
    }
   ],
   "source": [
    "cp_metrics_df"
   ]
  },
  {
   "cell_type": "markdown",
   "id": "33774451",
   "metadata": {
    "papermill": {
     "duration": 0.041408,
     "end_time": "2025-08-05T16:23:10.659767",
     "exception": false,
     "start_time": "2025-08-05T16:23:10.618359",
     "status": "completed"
    },
    "tags": []
   },
   "source": [
    "# (Fairness) Metrics"
   ]
  },
  {
   "cell_type": "code",
   "execution_count": 59,
   "id": "debc5d62",
   "metadata": {
    "execution": {
     "iopub.execute_input": "2025-08-05T16:23:10.748469Z",
     "iopub.status.busy": "2025-08-05T16:23:10.747726Z",
     "iopub.status.idle": "2025-08-05T16:23:10.772582Z",
     "shell.execute_reply": "2025-08-05T16:23:10.771482Z"
    },
    "papermill": {
     "duration": 0.069618,
     "end_time": "2025-08-05T16:23:10.775054",
     "exception": false,
     "start_time": "2025-08-05T16:23:10.705436",
     "status": "completed"
    },
    "tags": []
   },
   "outputs": [],
   "source": [
    "# do I need to include maxdeutsch1.missing?\n",
    "\n",
    "import numpy as np\n",
    "\n",
    "colname_to_bin = \"maxdeutsch1\"\n",
    "majority_value = org_train[colname_to_bin].mode()[0]\n",
    "\n",
    "org_test[\"majmin\"] = np.where(org_test[colname_to_bin] == majority_value, \"majority\", \"minority\")"
   ]
  },
  {
   "cell_type": "code",
   "execution_count": 60,
   "id": "06a50de5",
   "metadata": {
    "execution": {
     "iopub.execute_input": "2025-08-05T16:23:10.838568Z",
     "iopub.status.busy": "2025-08-05T16:23:10.837950Z",
     "iopub.status.idle": "2025-08-05T16:23:13.031744Z",
     "shell.execute_reply": "2025-08-05T16:23:13.030616Z"
    },
    "papermill": {
     "duration": 2.229729,
     "end_time": "2025-08-05T16:23:13.034256",
     "exception": false,
     "start_time": "2025-08-05T16:23:10.804527",
     "status": "completed"
    },
    "tags": []
   },
   "outputs": [],
   "source": [
    "example_universe = universe.copy()\n",
    "example_universe[\"cutoff\"] = example_universe[\"cutoff\"][0]\n",
    "example_universe[\"eval_fairness_grouping\"] = example_universe[\"eval_fairness_grouping\"][0]\n",
    "fairness_dict, metric_frame = universe_analysis.compute_metrics(\n",
    "    example_universe,\n",
    "    y_pred_prob=probs_test,\n",
    "    y_test=y_true,\n",
    "    org_test=org_test,\n",
    ")"
   ]
  },
  {
   "cell_type": "markdown",
   "id": "f95d4e02",
   "metadata": {
    "papermill": {
     "duration": 0.014675,
     "end_time": "2025-08-05T16:23:13.080561",
     "exception": false,
     "start_time": "2025-08-05T16:23:13.065886",
     "status": "completed"
    },
    "tags": []
   },
   "source": [
    "# Overall"
   ]
  },
  {
   "cell_type": "markdown",
   "id": "bdee4871",
   "metadata": {
    "papermill": {
     "duration": 0.014216,
     "end_time": "2025-08-05T16:23:13.110040",
     "exception": false,
     "start_time": "2025-08-05T16:23:13.095824",
     "status": "completed"
    },
    "tags": []
   },
   "source": [
    "Fairness\n",
    "Main fairness target: Equalized Odds. Seems to be a better fit than equal opportunity, since we're not only interested in Y = 1. Seems to be a better fit than demographic parity, since we also care about accuracy, not just equal distribution of preds.\n",
    "\n",
    "Pick column for computation of fairness metrics\n",
    "\n",
    "Performance\n",
    "Overall performance measures, most interesting in relation to the measures split by group below"
   ]
  },
  {
   "cell_type": "code",
   "execution_count": 61,
   "id": "c4e067c6",
   "metadata": {
    "execution": {
     "iopub.execute_input": "2025-08-05T16:23:13.144092Z",
     "iopub.status.busy": "2025-08-05T16:23:13.143535Z",
     "iopub.status.idle": "2025-08-05T16:23:13.152130Z",
     "shell.execute_reply": "2025-08-05T16:23:13.151254Z"
    },
    "papermill": {
     "duration": 0.029542,
     "end_time": "2025-08-05T16:23:13.153704",
     "exception": false,
     "start_time": "2025-08-05T16:23:13.124162",
     "status": "completed"
    },
    "tags": []
   },
   "outputs": [
    {
     "data": {
      "text/plain": [
       "accuracy                   0.218738\n",
       "balanced accuracy          0.536026\n",
       "f1                         0.240225\n",
       "precision                  0.137232\n",
       "false positive rate        0.890757\n",
       "false negative rate        0.037192\n",
       "selection rate             0.900000\n",
       "count                  89710.000000\n",
       "dtype: float64"
      ]
     },
     "execution_count": 61,
     "metadata": {},
     "output_type": "execute_result"
    }
   ],
   "source": [
    "metric_frame.overall"
   ]
  },
  {
   "cell_type": "markdown",
   "id": "e968fe9d",
   "metadata": {
    "papermill": {
     "duration": 0.015525,
     "end_time": "2025-08-05T16:23:13.184187",
     "exception": false,
     "start_time": "2025-08-05T16:23:13.168662",
     "status": "completed"
    },
    "tags": []
   },
   "source": [
    "By Group"
   ]
  },
  {
   "cell_type": "code",
   "execution_count": 62,
   "id": "ec325bce",
   "metadata": {
    "execution": {
     "iopub.execute_input": "2025-08-05T16:23:13.216838Z",
     "iopub.status.busy": "2025-08-05T16:23:13.216197Z",
     "iopub.status.idle": "2025-08-05T16:23:13.230445Z",
     "shell.execute_reply": "2025-08-05T16:23:13.229478Z"
    },
    "papermill": {
     "duration": 0.030848,
     "end_time": "2025-08-05T16:23:13.231887",
     "exception": false,
     "start_time": "2025-08-05T16:23:13.201039",
     "status": "completed"
    },
    "tags": []
   },
   "outputs": [
    {
     "data": {
      "text/html": [
       "<div>\n",
       "<style scoped>\n",
       "    .dataframe tbody tr th:only-of-type {\n",
       "        vertical-align: middle;\n",
       "    }\n",
       "\n",
       "    .dataframe tbody tr th {\n",
       "        vertical-align: top;\n",
       "    }\n",
       "\n",
       "    .dataframe thead th {\n",
       "        text-align: right;\n",
       "    }\n",
       "</style>\n",
       "<table border=\"1\" class=\"dataframe\">\n",
       "  <thead>\n",
       "    <tr style=\"text-align: right;\">\n",
       "      <th></th>\n",
       "      <th>accuracy</th>\n",
       "      <th>balanced accuracy</th>\n",
       "      <th>f1</th>\n",
       "      <th>precision</th>\n",
       "      <th>false positive rate</th>\n",
       "      <th>false negative rate</th>\n",
       "      <th>selection rate</th>\n",
       "      <th>count</th>\n",
       "    </tr>\n",
       "    <tr>\n",
       "      <th>majmin</th>\n",
       "      <th></th>\n",
       "      <th></th>\n",
       "      <th></th>\n",
       "      <th></th>\n",
       "      <th></th>\n",
       "      <th></th>\n",
       "      <th></th>\n",
       "      <th></th>\n",
       "    </tr>\n",
       "  </thead>\n",
       "  <tbody>\n",
       "    <tr>\n",
       "      <th>majority</th>\n",
       "      <td>0.238051</td>\n",
       "      <td>0.542562</td>\n",
       "      <td>0.249102</td>\n",
       "      <td>0.143199</td>\n",
       "      <td>0.871331</td>\n",
       "      <td>0.043545</td>\n",
       "      <td>0.882579</td>\n",
       "      <td>69170.0</td>\n",
       "    </tr>\n",
       "    <tr>\n",
       "      <th>minority</th>\n",
       "      <td>0.153700</td>\n",
       "      <td>0.516200</td>\n",
       "      <td>0.211977</td>\n",
       "      <td>0.118734</td>\n",
       "      <td>0.954931</td>\n",
       "      <td>0.012669</td>\n",
       "      <td>0.958666</td>\n",
       "      <td>20540.0</td>\n",
       "    </tr>\n",
       "  </tbody>\n",
       "</table>\n",
       "</div>"
      ],
      "text/plain": [
       "          accuracy  balanced accuracy        f1  precision  \\\n",
       "majmin                                                       \n",
       "majority  0.238051           0.542562  0.249102   0.143199   \n",
       "minority  0.153700           0.516200  0.211977   0.118734   \n",
       "\n",
       "          false positive rate  false negative rate  selection rate    count  \n",
       "majmin                                                                       \n",
       "majority             0.871331             0.043545        0.882579  69170.0  \n",
       "minority             0.954931             0.012669        0.958666  20540.0  "
      ]
     },
     "execution_count": 62,
     "metadata": {},
     "output_type": "execute_result"
    }
   ],
   "source": [
    "metric_frame.by_group"
   ]
  },
  {
   "cell_type": "code",
   "execution_count": 63,
   "id": "a9ddbe63",
   "metadata": {
    "execution": {
     "iopub.execute_input": "2025-08-05T16:23:13.266323Z",
     "iopub.status.busy": "2025-08-05T16:23:13.265721Z",
     "iopub.status.idle": "2025-08-05T16:23:15.927988Z",
     "shell.execute_reply": "2025-08-05T16:23:15.926733Z"
    },
    "papermill": {
     "duration": 2.68176,
     "end_time": "2025-08-05T16:23:15.930177",
     "exception": false,
     "start_time": "2025-08-05T16:23:13.248417",
     "status": "completed"
    },
    "tags": []
   },
   "outputs": [
    {
     "data": {
      "text/plain": [
       "array([[<Axes: title={'center': 'accuracy'}, xlabel='majmin'>,\n",
       "        <Axes: title={'center': 'balanced accuracy'}, xlabel='majmin'>,\n",
       "        <Axes: title={'center': 'f1'}, xlabel='majmin'>],\n",
       "       [<Axes: title={'center': 'precision'}, xlabel='majmin'>,\n",
       "        <Axes: title={'center': 'false positive rate'}, xlabel='majmin'>,\n",
       "        <Axes: title={'center': 'false negative rate'}, xlabel='majmin'>],\n",
       "       [<Axes: title={'center': 'selection rate'}, xlabel='majmin'>,\n",
       "        <Axes: title={'center': 'count'}, xlabel='majmin'>,\n",
       "        <Axes: xlabel='majmin'>]], dtype=object)"
      ]
     },
     "execution_count": 63,
     "metadata": {},
     "output_type": "execute_result"
    },
    {
     "data": {
      "image/png": "[encoded data removed]",
      "text/plain": [
       "<Figure size 1200x800 with 9 Axes>"
      ]
     },
     "metadata": {},
     "output_type": "display_data"
    }
   ],
   "source": [
    "# In a graphic\n",
    "metric_frame.by_group.plot.bar(\n",
    "    subplots=True,\n",
    "    layout=[3, 3],\n",
    "    legend=False,\n",
    "    figsize=[12, 8],\n",
    "    title=\"Show all metrics\",\n",
    ")"
   ]
  },
  {
   "cell_type": "markdown",
   "id": "f57a0bac",
   "metadata": {
    "papermill": {
     "duration": 0.03419,
     "end_time": "2025-08-05T16:23:16.000112",
     "exception": false,
     "start_time": "2025-08-05T16:23:15.965922",
     "status": "completed"
    },
    "tags": []
   },
   "source": [
    "# Final Output"
   ]
  },
  {
   "cell_type": "code",
   "execution_count": 64,
   "id": "96d280a3",
   "metadata": {
    "execution": {
     "iopub.execute_input": "2025-08-05T16:23:16.068997Z",
     "iopub.status.busy": "2025-08-05T16:23:16.067812Z",
     "iopub.status.idle": "2025-08-05T16:23:16.077339Z",
     "shell.execute_reply": "2025-08-05T16:23:16.076208Z"
    },
    "papermill": {
     "duration": 0.045701,
     "end_time": "2025-08-05T16:23:16.079329",
     "exception": false,
     "start_time": "2025-08-05T16:23:16.033628",
     "status": "completed"
    },
    "tags": []
   },
   "outputs": [
    {
     "data": {
      "text/plain": [
       "4"
      ]
     },
     "execution_count": 64,
     "metadata": {},
     "output_type": "execute_result"
    }
   ],
   "source": [
    "sub_universes = universe_analysis.generate_sub_universes()\n",
    "len(sub_universes)"
   ]
  },
  {
   "cell_type": "code",
   "execution_count": 65,
   "id": "92adf7ba",
   "metadata": {
    "execution": {
     "iopub.execute_input": "2025-08-05T16:23:16.148385Z",
     "iopub.status.busy": "2025-08-05T16:23:16.147955Z",
     "iopub.status.idle": "2025-08-05T16:23:16.154661Z",
     "shell.execute_reply": "2025-08-05T16:23:16.153396Z"
    },
    "papermill": {
     "duration": 0.043558,
     "end_time": "2025-08-05T16:23:16.156576",
     "exception": false,
     "start_time": "2025-08-05T16:23:16.113018",
     "status": "completed"
    },
    "tags": []
   },
   "outputs": [],
   "source": [
    "def filter_sub_universe_data(sub_universe, org_test):\n",
    "    # Keep all rows — no filtering\n",
    "    keep_rows_mask = np.ones(org_test.shape[0], dtype=bool)\n",
    "\n",
    "    print(f\"[INFO] Keeping all rows: {keep_rows_mask.sum()} rows retained.\")\n",
    "    return keep_rows_mask"
   ]
  },
  {
   "cell_type": "code",
   "execution_count": 66,
   "id": "4a759155",
   "metadata": {
    "execution": {
     "iopub.execute_input": "2025-08-05T16:23:16.225975Z",
     "iopub.status.busy": "2025-08-05T16:23:16.225121Z",
     "iopub.status.idle": "2025-08-05T16:23:25.471626Z",
     "shell.execute_reply": "2025-08-05T16:23:25.470494Z"
    },
    "papermill": {
     "duration": 9.282907,
     "end_time": "2025-08-05T16:23:25.473307",
     "exception": false,
     "start_time": "2025-08-05T16:23:16.190400",
     "status": "completed"
    },
    "tags": []
   },
   "outputs": [
    {
     "name": "stdout",
     "output_type": "stream",
     "text": [
      "Stopping execution_time clock.\n",
      "[INFO] Keeping all rows: 89710 rows retained.\n"
     ]
    },
    {
     "name": "stdout",
     "output_type": "stream",
     "text": [
      "[INFO] Keeping all rows: 89710 rows retained.\n"
     ]
    },
    {
     "name": "stdout",
     "output_type": "stream",
     "text": [
      "[INFO] Keeping all rows: 89710 rows retained.\n"
     ]
    },
    {
     "name": "stdout",
     "output_type": "stream",
     "text": [
      "[INFO] Keeping all rows: 89710 rows retained.\n"
     ]
    },
    {
     "data": {
      "text/html": [
       "<div>\n",
       "<style scoped>\n",
       "    .dataframe tbody tr th:only-of-type {\n",
       "        vertical-align: middle;\n",
       "    }\n",
       "\n",
       "    .dataframe tbody tr th {\n",
       "        vertical-align: top;\n",
       "    }\n",
       "\n",
       "    .dataframe thead th {\n",
       "        text-align: right;\n",
       "    }\n",
       "</style>\n",
       "<table border=\"1\" class=\"dataframe\">\n",
       "  <thead>\n",
       "    <tr style=\"text-align: right;\">\n",
       "      <th></th>\n",
       "      <th>run_no</th>\n",
       "      <th>universe_id</th>\n",
       "      <th>universe_settings</th>\n",
       "      <th>execution_time</th>\n",
       "      <th>test_size_n</th>\n",
       "      <th>test_size_frac</th>\n",
       "      <th>fair_main_equalized_odds_difference</th>\n",
       "      <th>fair_main_equalized_odds_ratio</th>\n",
       "      <th>fair_main_demographic_parity_difference</th>\n",
       "      <th>fair_main_demographic_parity_ratio</th>\n",
       "      <th>...</th>\n",
       "      <th>perf_grp_precision_0</th>\n",
       "      <th>perf_grp_precision_1</th>\n",
       "      <th>perf_grp_false positive rate_0</th>\n",
       "      <th>perf_grp_false positive rate_1</th>\n",
       "      <th>perf_grp_false negative rate_0</th>\n",
       "      <th>perf_grp_false negative rate_1</th>\n",
       "      <th>perf_grp_selection rate_0</th>\n",
       "      <th>perf_grp_selection rate_1</th>\n",
       "      <th>perf_grp_count_0</th>\n",
       "      <th>perf_grp_count_1</th>\n",
       "    </tr>\n",
       "  </thead>\n",
       "  <tbody>\n",
       "    <tr>\n",
       "      <th>0</th>\n",
       "      <td>15</td>\n",
       "      <td>710854622547fb429f0a0f4a753e5802</td>\n",
       "      <td>{\"cutoff\": \"quantile_0.1\", \"eval_fairness_grou...</td>\n",
       "      <td>29.934984</td>\n",
       "      <td>89710</td>\n",
       "      <td>1.0</td>\n",
       "      <td>0.083600</td>\n",
       "      <td>0.912455</td>\n",
       "      <td>0.076087</td>\n",
       "      <td>0.920633</td>\n",
       "      <td>...</td>\n",
       "      <td>NaN</td>\n",
       "      <td>NaN</td>\n",
       "      <td>NaN</td>\n",
       "      <td>NaN</td>\n",
       "      <td>NaN</td>\n",
       "      <td>NaN</td>\n",
       "      <td>NaN</td>\n",
       "      <td>NaN</td>\n",
       "      <td>NaN</td>\n",
       "      <td>NaN</td>\n",
       "    </tr>\n",
       "    <tr>\n",
       "      <th>0</th>\n",
       "      <td>15</td>\n",
       "      <td>710854622547fb429f0a0f4a753e5802</td>\n",
       "      <td>{\"cutoff\": \"quantile_0.1\", \"eval_fairness_grou...</td>\n",
       "      <td>29.934984</td>\n",
       "      <td>89710</td>\n",
       "      <td>1.0</td>\n",
       "      <td>0.083600</td>\n",
       "      <td>0.912455</td>\n",
       "      <td>0.076087</td>\n",
       "      <td>0.920633</td>\n",
       "      <td>...</td>\n",
       "      <td>0.118734</td>\n",
       "      <td>0.143199</td>\n",
       "      <td>0.954931</td>\n",
       "      <td>0.871331</td>\n",
       "      <td>0.012669</td>\n",
       "      <td>0.043545</td>\n",
       "      <td>0.958666</td>\n",
       "      <td>0.882579</td>\n",
       "      <td>20540.0</td>\n",
       "      <td>69170.0</td>\n",
       "    </tr>\n",
       "    <tr>\n",
       "      <th>0</th>\n",
       "      <td>15</td>\n",
       "      <td>710854622547fb429f0a0f4a753e5802</td>\n",
       "      <td>{\"cutoff\": \"quantile_0.25\", \"eval_fairness_gro...</td>\n",
       "      <td>29.934984</td>\n",
       "      <td>89710</td>\n",
       "      <td>1.0</td>\n",
       "      <td>0.158671</td>\n",
       "      <td>0.813651</td>\n",
       "      <td>0.144351</td>\n",
       "      <td>0.832402</td>\n",
       "      <td>...</td>\n",
       "      <td>NaN</td>\n",
       "      <td>NaN</td>\n",
       "      <td>NaN</td>\n",
       "      <td>NaN</td>\n",
       "      <td>NaN</td>\n",
       "      <td>NaN</td>\n",
       "      <td>NaN</td>\n",
       "      <td>NaN</td>\n",
       "      <td>NaN</td>\n",
       "      <td>NaN</td>\n",
       "    </tr>\n",
       "    <tr>\n",
       "      <th>0</th>\n",
       "      <td>15</td>\n",
       "      <td>710854622547fb429f0a0f4a753e5802</td>\n",
       "      <td>{\"cutoff\": \"quantile_0.25\", \"eval_fairness_gro...</td>\n",
       "      <td>29.934984</td>\n",
       "      <td>89710</td>\n",
       "      <td>1.0</td>\n",
       "      <td>0.158671</td>\n",
       "      <td>0.813651</td>\n",
       "      <td>0.144351</td>\n",
       "      <td>0.832402</td>\n",
       "      <td>...</td>\n",
       "      <td>0.125374</td>\n",
       "      <td>0.161360</td>\n",
       "      <td>0.851475</td>\n",
       "      <td>0.692804</td>\n",
       "      <td>0.063345</td>\n",
       "      <td>0.124508</td>\n",
       "      <td>0.861295</td>\n",
       "      <td>0.716944</td>\n",
       "      <td>20540.0</td>\n",
       "      <td>69170.0</td>\n",
       "    </tr>\n",
       "  </tbody>\n",
       "</table>\n",
       "<p>4 rows × 50 columns</p>\n",
       "</div>"
      ],
      "text/plain": [
       "  run_no                       universe_id  \\\n",
       "0     15  710854622547fb429f0a0f4a753e5802   \n",
       "0     15  710854622547fb429f0a0f4a753e5802   \n",
       "0     15  710854622547fb429f0a0f4a753e5802   \n",
       "0     15  710854622547fb429f0a0f4a753e5802   \n",
       "\n",
       "                                   universe_settings  execution_time  \\\n",
       "0  {\"cutoff\": \"quantile_0.1\", \"eval_fairness_grou...       29.934984   \n",
       "0  {\"cutoff\": \"quantile_0.1\", \"eval_fairness_grou...       29.934984   \n",
       "0  {\"cutoff\": \"quantile_0.25\", \"eval_fairness_gro...       29.934984   \n",
       "0  {\"cutoff\": \"quantile_0.25\", \"eval_fairness_gro...       29.934984   \n",
       "\n",
       "   test_size_n  test_size_frac  fair_main_equalized_odds_difference  \\\n",
       "0        89710             1.0                             0.083600   \n",
       "0        89710             1.0                             0.083600   \n",
       "0        89710             1.0                             0.158671   \n",
       "0        89710             1.0                             0.158671   \n",
       "\n",
       "   fair_main_equalized_odds_ratio  fair_main_demographic_parity_difference  \\\n",
       "0                        0.912455                                 0.076087   \n",
       "0                        0.912455                                 0.076087   \n",
       "0                        0.813651                                 0.144351   \n",
       "0                        0.813651                                 0.144351   \n",
       "\n",
       "   fair_main_demographic_parity_ratio  ...  perf_grp_precision_0  \\\n",
       "0                            0.920633  ...                   NaN   \n",
       "0                            0.920633  ...              0.118734   \n",
       "0                            0.832402  ...                   NaN   \n",
       "0                            0.832402  ...              0.125374   \n",
       "\n",
       "   perf_grp_precision_1  perf_grp_false positive rate_0  \\\n",
       "0                   NaN                             NaN   \n",
       "0              0.143199                        0.954931   \n",
       "0                   NaN                             NaN   \n",
       "0              0.161360                        0.851475   \n",
       "\n",
       "   perf_grp_false positive rate_1  perf_grp_false negative rate_0  \\\n",
       "0                             NaN                             NaN   \n",
       "0                        0.871331                        0.012669   \n",
       "0                             NaN                             NaN   \n",
       "0                        0.692804                        0.063345   \n",
       "\n",
       "   perf_grp_false negative rate_1  perf_grp_selection rate_0  \\\n",
       "0                             NaN                        NaN   \n",
       "0                        0.043545                   0.958666   \n",
       "0                             NaN                        NaN   \n",
       "0                        0.124508                   0.861295   \n",
       "\n",
       "   perf_grp_selection rate_1  perf_grp_count_0  perf_grp_count_1  \n",
       "0                        NaN               NaN               NaN  \n",
       "0                   0.882579           20540.0           69170.0  \n",
       "0                        NaN               NaN               NaN  \n",
       "0                   0.716944           20540.0           69170.0  \n",
       "\n",
       "[4 rows x 50 columns]"
      ]
     },
     "execution_count": 66,
     "metadata": {},
     "output_type": "execute_result"
    }
   ],
   "source": [
    "final_output = universe_analysis.generate_final_output(\n",
    "    y_pred_prob=probs_test,\n",
    "    y_test=y_true,\n",
    "    org_test=org_test,\n",
    "    filter_data=filter_sub_universe_data,\n",
    "    cp_metrics_df=cp_metrics_df,\n",
    "    save=True,\n",
    ")\n",
    "final_output"
   ]
  }
 ],
 "metadata": {
  "celltoolbar": "Tags",
  "kernelspec": {
   "display_name": "Python (CMA Fairness)",
   "language": "python",
   "name": "cma_fair_env"
  },
  "language_info": {
   "codemirror_mode": {
    "name": "ipython",
    "version": 3
   },
   "file_extension": ".py",
   "mimetype": "text/x-python",
   "name": "python",
   "nbconvert_exporter": "python",
   "pygments_lexer": "ipython3",
   "version": "3.10.12"
  },
  "papermill": {
   "default_parameters": {},
   "duration": 43.847982,
   "end_time": "2025-08-05T16:23:26.109775",
   "environment_variables": {},
   "exception": null,
   "input_path": "universe_analysis.ipynb",
   "output_path": "output/runs/15/notebooks/m_15-710854622547fb429f0a0f4a753e5802.ipynb",
   "parameters": {
    "output_dir": "output",
    "run_no": "15",
    "seed": "2023",
    "universe": "{\"cutoff\": [\"quantile_0.1\", \"quantile_0.25\"], \"eval_fairness_grouping\": [\"majority-minority\", \"nationality-all\"], \"exclude_features\": \"nationality-sex\", \"exclude_subgroups\": \"keep-all\", \"model\": \"elasticnet\", \"scale\": \"scale\", \"training_size\": \"1k\", \"training_year\": \"2012_14\"}",
    "universe_id": "710854622547fb429f0a0f4a753e5802"
   },
   "start_time": "2025-08-05T16:22:42.261793",
   "version": "2.6.0"
  }
 },
 "nbformat": 4,
 "nbformat_minor": 5
}