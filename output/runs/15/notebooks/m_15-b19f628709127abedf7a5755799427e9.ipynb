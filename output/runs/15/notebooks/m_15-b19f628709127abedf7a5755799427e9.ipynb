{
 "cells": [
  {
   "cell_type": "code",
   "execution_count": 1,
   "id": "f159f837-637b-42ba-96b5-ec9a68c44524",
   "metadata": {
    "execution": {
     "iopub.execute_input": "2025-08-05T16:04:15.087350Z",
     "iopub.status.busy": "2025-08-05T16:04:15.086727Z",
     "iopub.status.idle": "2025-08-05T16:04:15.097051Z",
     "shell.execute_reply": "2025-08-05T16:04:15.096230Z"
    },
    "papermill": {
     "duration": 0.021875,
     "end_time": "2025-08-05T16:04:15.098821",
     "exception": false,
     "start_time": "2025-08-05T16:04:15.076946",
     "status": "completed"
    },
    "tags": []
   },
   "outputs": [
    {
     "name": "stdout",
     "output_type": "stream",
     "text": [
      "/dss/dsshome1/0C/ra93lal2/cma/CMA_Fairness_v2\n"
     ]
    },
    {
     "name": "stderr",
     "output_type": "stream",
     "text": [
      "/dss/dsshome1/0C/ra93lal2/.local/share/virtualenvs/CMA_Fairness_v2-3j10GkSs/lib/python3.10/site-packages/IPython/core/magics/osm.py:393: UserWarning: This is now an optional IPython functionality, using bookmarks requires you to install the `pickleshare` library.\n",
      "  bkms = self.shell.db.get('bookmarks', {})\n",
      "/dss/dsshome1/0C/ra93lal2/.local/share/virtualenvs/CMA_Fairness_v2-3j10GkSs/lib/python3.10/site-packages/IPython/core/magics/osm.py:417: UserWarning: This is now an optional IPython functionality, setting dhist requires you to install the `pickleshare` library.\n",
      "  self.shell.db['dhist'] = compress_dhist(dhist)[-100:]\n"
     ]
    }
   ],
   "source": [
    "%cd ~/cma/CMA_Fairness_v2"
   ]
  },
  {
   "cell_type": "markdown",
   "id": "de2603b9",
   "metadata": {
    "papermill": {
     "duration": 0.008488,
     "end_time": "2025-08-05T16:04:15.116985",
     "exception": false,
     "start_time": "2025-08-05T16:04:15.108497",
     "status": "completed"
    },
    "tags": []
   },
   "source": [
    "The following cell holds the definition of our parameters, these values can be overriden by rendering the with e.g. the following command:\n",
    "\n",
    "papermill -p alpha 0.2 -p ratio 0.3 universe_analysis.ipynb output/test_run.ipynb"
   ]
  },
  {
   "cell_type": "code",
   "execution_count": 2,
   "id": "a80968a0-40bb-4fa9-85ef-2d5eefb01975",
   "metadata": {
    "execution": {
     "iopub.execute_input": "2025-08-05T16:04:15.134877Z",
     "iopub.status.busy": "2025-08-05T16:04:15.134237Z",
     "iopub.status.idle": "2025-08-05T16:04:15.139369Z",
     "shell.execute_reply": "2025-08-05T16:04:15.138621Z"
    },
    "papermill": {
     "duration": 0.015499,
     "end_time": "2025-08-05T16:04:15.140733",
     "exception": false,
     "start_time": "2025-08-05T16:04:15.125234",
     "status": "completed"
    },
    "tags": []
   },
   "outputs": [
    {
     "name": "stdout",
     "output_type": "stream",
     "text": [
      "Current working directory: /dss/dsshome1/0C/ra93lal2/cma/CMA_Fairness_v2\n"
     ]
    }
   ],
   "source": [
    "import os\n",
    "print(\"Current working directory:\", os.getcwd())"
   ]
  },
  {
   "cell_type": "code",
   "execution_count": 3,
   "id": "2dce4c03",
   "metadata": {
    "execution": {
     "iopub.execute_input": "2025-08-05T16:04:15.159894Z",
     "iopub.status.busy": "2025-08-05T16:04:15.159361Z",
     "iopub.status.idle": "2025-08-05T16:04:15.164972Z",
     "shell.execute_reply": "2025-08-05T16:04:15.164269Z"
    },
    "papermill": {
     "duration": 0.015976,
     "end_time": "2025-08-05T16:04:15.166267",
     "exception": false,
     "start_time": "2025-08-05T16:04:15.150291",
     "status": "completed"
    },
    "tags": [
     "parameters"
    ]
   },
   "outputs": [],
   "source": [
    "run_no = 0\n",
    "universe_id = \"test\"\n",
    "universe = {\n",
    "    \"training_size\": \"25k\", # \"25k\", \"5k\", \"1k\"\n",
    "    \"training_year\": \"2014\", # \"2014\", \"2012_14\", \"2010_14\"\n",
    "    \"scale\": \"scale\", # \"scale\", \"do-not-scale\",\n",
    "    \"model\": \"elasticnet\", # \"logreg\", \"penalized_logreg\", \"rf\", \"gbm\", \"elasticnet\"\n",
    "    \"cutoff\": [\"quantile_0.15\", \"quantile_0.30\"],\n",
    "    \"exclude_features\": \"age\", # \"none\", \"nationality\", \"sex\", \"nationality-sex\", \"age\"\n",
    "    \"exclude_subgroups\": \"keep-all\", # \"keep-all\", \"drop-non-german\"\n",
    "    \"eval_fairness_grouping\": [\"majority-minority\", \"nationality-all\"]\n",
    "}\n",
    "\n",
    "output_dir=\"./output\"\n",
    "seed=0"
   ]
  },
  {
   "cell_type": "code",
   "execution_count": 4,
   "id": "229da5ea",
   "metadata": {
    "execution": {
     "iopub.execute_input": "2025-08-05T16:04:15.186336Z",
     "iopub.status.busy": "2025-08-05T16:04:15.186043Z",
     "iopub.status.idle": "2025-08-05T16:04:15.190022Z",
     "shell.execute_reply": "2025-08-05T16:04:15.189297Z"
    },
    "papermill": {
     "duration": 0.015054,
     "end_time": "2025-08-05T16:04:15.191419",
     "exception": false,
     "start_time": "2025-08-05T16:04:15.176365",
     "status": "completed"
    },
    "tags": [
     "injected-parameters"
    ]
   },
   "outputs": [],
   "source": [
    "# Parameters\n",
    "universe_id = \"b19f628709127abedf7a5755799427e9\"\n",
    "run_no = \"15\"\n",
    "universe = \"{\\\"cutoff\\\": [\\\"quantile_0.1\\\", \\\"quantile_0.25\\\"], \\\"eval_fairness_grouping\\\": [\\\"majority-minority\\\", \\\"nationality-all\\\"], \\\"exclude_features\\\": \\\"none\\\", \\\"exclude_subgroups\\\": \\\"drop-non-german\\\", \\\"model\\\": \\\"rf\\\", \\\"scale\\\": \\\"scale\\\", \\\"training_size\\\": \\\"1k\\\", \\\"training_year\\\": \\\"2014\\\"}\"\n",
    "output_dir = \"output\"\n",
    "seed = \"2023\"\n"
   ]
  },
  {
   "cell_type": "code",
   "execution_count": 5,
   "id": "1650acaf",
   "metadata": {
    "execution": {
     "iopub.execute_input": "2025-08-05T16:04:15.211777Z",
     "iopub.status.busy": "2025-08-05T16:04:15.211466Z",
     "iopub.status.idle": "2025-08-05T16:04:15.215327Z",
     "shell.execute_reply": "2025-08-05T16:04:15.214550Z"
    },
    "papermill": {
     "duration": 0.014805,
     "end_time": "2025-08-05T16:04:15.216720",
     "exception": false,
     "start_time": "2025-08-05T16:04:15.201915",
     "status": "completed"
    },
    "tags": []
   },
   "outputs": [],
   "source": [
    "import json\n",
    "if isinstance(universe, str):\n",
    "    universe = json.loads(universe)"
   ]
  },
  {
   "cell_type": "code",
   "execution_count": 6,
   "id": "16620c48",
   "metadata": {
    "execution": {
     "iopub.execute_input": "2025-08-05T16:04:15.236429Z",
     "iopub.status.busy": "2025-08-05T16:04:15.236109Z",
     "iopub.status.idle": "2025-08-05T16:04:15.265447Z",
     "shell.execute_reply": "2025-08-05T16:04:15.264767Z"
    },
    "papermill": {
     "duration": 0.039974,
     "end_time": "2025-08-05T16:04:15.266699",
     "exception": false,
     "start_time": "2025-08-05T16:04:15.226725",
     "status": "completed"
    },
    "tags": []
   },
   "outputs": [],
   "source": [
    "# Auto-reload the custom package\n",
    "%load_ext autoreload\n",
    "%autoreload 1\n",
    "%aimport fairness_multiverse"
   ]
  },
  {
   "cell_type": "code",
   "execution_count": 7,
   "id": "01c5c9f3",
   "metadata": {
    "execution": {
     "iopub.execute_input": "2025-08-05T16:04:15.286279Z",
     "iopub.status.busy": "2025-08-05T16:04:15.285751Z",
     "iopub.status.idle": "2025-08-05T16:04:16.804710Z",
     "shell.execute_reply": "2025-08-05T16:04:16.803920Z"
    },
    "papermill": {
     "duration": 1.530256,
     "end_time": "2025-08-05T16:04:16.806350",
     "exception": false,
     "start_time": "2025-08-05T16:04:15.276094",
     "status": "completed"
    },
    "tags": []
   },
   "outputs": [],
   "source": [
    "from fairness_multiverse.universe import UniverseAnalysis\n",
    "\n",
    "universe_analysis = UniverseAnalysis(\n",
    "    run_no = run_no,\n",
    "    universe_id = universe_id,\n",
    "    universe = universe,\n",
    "    output_dir=output_dir,\n",
    ")"
   ]
  },
  {
   "cell_type": "code",
   "execution_count": 8,
   "id": "106241f5",
   "metadata": {
    "execution": {
     "iopub.execute_input": "2025-08-05T16:04:16.829831Z",
     "iopub.status.busy": "2025-08-05T16:04:16.829407Z",
     "iopub.status.idle": "2025-08-05T16:04:16.834887Z",
     "shell.execute_reply": "2025-08-05T16:04:16.833962Z"
    },
    "papermill": {
     "duration": 0.018421,
     "end_time": "2025-08-05T16:04:16.837156",
     "exception": false,
     "start_time": "2025-08-05T16:04:16.818735",
     "status": "completed"
    },
    "tags": []
   },
   "outputs": [
    {
     "name": "stdout",
     "output_type": "stream",
     "text": [
      "Using Seed: 2023\n"
     ]
    }
   ],
   "source": [
    "import numpy as np\n",
    "parsed_seed = int(seed)\n",
    "np.random.seed(parsed_seed)\n",
    "print(f\"Using Seed: {parsed_seed}\")"
   ]
  },
  {
   "cell_type": "markdown",
   "id": "e0ebdc57",
   "metadata": {
    "papermill": {
     "duration": 0.008457,
     "end_time": "2025-08-05T16:04:16.855392",
     "exception": false,
     "start_time": "2025-08-05T16:04:16.846935",
     "status": "completed"
    },
    "tags": []
   },
   "source": [
    "# Loading Data"
   ]
  },
  {
   "cell_type": "code",
   "execution_count": 9,
   "id": "f0496b8a",
   "metadata": {
    "execution": {
     "iopub.execute_input": "2025-08-05T16:04:16.874049Z",
     "iopub.status.busy": "2025-08-05T16:04:16.873721Z",
     "iopub.status.idle": "2025-08-05T16:04:27.174083Z",
     "shell.execute_reply": "2025-08-05T16:04:27.173064Z"
    },
    "papermill": {
     "duration": 10.311283,
     "end_time": "2025-08-05T16:04:27.175275",
     "exception": false,
     "start_time": "2025-08-05T16:04:16.863992",
     "status": "completed"
    },
    "tags": []
   },
   "outputs": [
    {
     "name": "stdout",
     "output_type": "stream",
     "text": [
      "Loading SIAB data from cache: data/siab_cached.csv.gz\n"
     ]
    },
    {
     "name": "stdout",
     "output_type": "stream",
     "text": [
      "(643690, 164)\n"
     ]
    }
   ],
   "source": [
    "from pathlib import Path\n",
    "import pandas as pd\n",
    "\n",
    "# File paths\n",
    "raw_file = Path(\"data/raw/siab.csv\")\n",
    "cache_file = Path(\"data/siab_cached.csv.gz\")\n",
    "\n",
    "# Ensure cache directory exists\n",
    "cache_file.parent.mkdir(parents=True, exist_ok=True)\n",
    "\n",
    "# Load with simple caching\n",
    "if cache_file.exists():\n",
    "    print(f\"Loading SIAB data from cache: {cache_file}\")\n",
    "    siab = pd.read_csv(cache_file, compression='gzip')\n",
    "else:\n",
    "    print(f\"Cache not found. Reading raw SIAB data: {raw_file}\")\n",
    "    siab = pd.read_csv(raw_file)\n",
    "    siab.to_csv(cache_file, index=False, compression='gzip')\n",
    "    print(f\"Cached SIAB data to: {cache_file}\")\n",
    "\n",
    "print(siab.shape)"
   ]
  },
  {
   "cell_type": "code",
   "execution_count": 10,
   "id": "db0ca512-5f53-4dba-abdb-a2888bca41ba",
   "metadata": {
    "execution": {
     "iopub.execute_input": "2025-08-05T16:04:27.198710Z",
     "iopub.status.busy": "2025-08-05T16:04:27.198345Z",
     "iopub.status.idle": "2025-08-05T16:04:27.202743Z",
     "shell.execute_reply": "2025-08-05T16:04:27.201858Z"
    },
    "papermill": {
     "duration": 0.016881,
     "end_time": "2025-08-05T16:04:27.204156",
     "exception": false,
     "start_time": "2025-08-05T16:04:27.187275",
     "status": "completed"
    },
    "tags": []
   },
   "outputs": [],
   "source": [
    "#siab"
   ]
  },
  {
   "cell_type": "markdown",
   "id": "997051c5-15bd-4b69-9786-c3001a3ce484",
   "metadata": {
    "papermill": {
     "duration": 0.020096,
     "end_time": "2025-08-05T16:04:27.235902",
     "exception": false,
     "start_time": "2025-08-05T16:04:27.215806",
     "status": "completed"
    },
    "tags": []
   },
   "source": [
    "# Splitting Data and Setting Training Data Size"
   ]
  },
  {
   "cell_type": "code",
   "execution_count": 11,
   "id": "aea9c6ef-6f46-42c8-85eb-5a62025c1508",
   "metadata": {
    "execution": {
     "iopub.execute_input": "2025-08-05T16:04:27.275595Z",
     "iopub.status.busy": "2025-08-05T16:04:27.275225Z",
     "iopub.status.idle": "2025-08-05T16:04:27.460843Z",
     "shell.execute_reply": "2025-08-05T16:04:27.460060Z"
    },
    "papermill": {
     "duration": 0.207288,
     "end_time": "2025-08-05T16:04:27.462557",
     "exception": false,
     "start_time": "2025-08-05T16:04:27.255269",
     "status": "completed"
    },
    "tags": []
   },
   "outputs": [],
   "source": [
    "from fairness_multiverse.universe import sample_by_year_size\n",
    "\n",
    "siab_train = sample_by_year_size(siab,\n",
    "                               training_year=universe[\"training_year\"],\n",
    "                               training_size=universe[\"training_size\"])"
   ]
  },
  {
   "cell_type": "code",
   "execution_count": 12,
   "id": "8d3afb32-789d-442c-8d5d-9f5aa8dd2eed",
   "metadata": {
    "execution": {
     "iopub.execute_input": "2025-08-05T16:04:27.487027Z",
     "iopub.status.busy": "2025-08-05T16:04:27.486518Z",
     "iopub.status.idle": "2025-08-05T16:04:27.491067Z",
     "shell.execute_reply": "2025-08-05T16:04:27.490229Z"
    },
    "papermill": {
     "duration": 0.01701,
     "end_time": "2025-08-05T16:04:27.492511",
     "exception": false,
     "start_time": "2025-08-05T16:04:27.475501",
     "status": "completed"
    },
    "tags": []
   },
   "outputs": [],
   "source": [
    "#siab_train.shape"
   ]
  },
  {
   "cell_type": "code",
   "execution_count": 13,
   "id": "d582db68-1a4c-47fb-84fc-08518dc1975a",
   "metadata": {
    "execution": {
     "iopub.execute_input": "2025-08-05T16:04:27.519337Z",
     "iopub.status.busy": "2025-08-05T16:04:27.518631Z",
     "iopub.status.idle": "2025-08-05T16:04:27.524869Z",
     "shell.execute_reply": "2025-08-05T16:04:27.523483Z"
    },
    "papermill": {
     "duration": 0.023666,
     "end_time": "2025-08-05T16:04:27.526841",
     "exception": false,
     "start_time": "2025-08-05T16:04:27.503175",
     "status": "completed"
    },
    "tags": []
   },
   "outputs": [],
   "source": [
    "#display(siab_train.groupby(\"year\").size())"
   ]
  },
  {
   "cell_type": "code",
   "execution_count": 14,
   "id": "a561edb4-d032-42cb-8256-22eac1111c64",
   "metadata": {
    "execution": {
     "iopub.execute_input": "2025-08-05T16:04:27.557699Z",
     "iopub.status.busy": "2025-08-05T16:04:27.557047Z",
     "iopub.status.idle": "2025-08-05T16:04:27.759163Z",
     "shell.execute_reply": "2025-08-05T16:04:27.758362Z"
    },
    "papermill": {
     "duration": 0.215247,
     "end_time": "2025-08-05T16:04:27.760966",
     "exception": false,
     "start_time": "2025-08-05T16:04:27.545719",
     "status": "completed"
    },
    "tags": []
   },
   "outputs": [],
   "source": [
    "#siab_train = siab_s[siab_s.year < 2015]\n",
    "siab_calib = siab[siab.year == 2015]\n",
    "siab_test = siab[siab.year == 2016]"
   ]
  },
  {
   "cell_type": "code",
   "execution_count": 15,
   "id": "472de16f-c3db-4916-846b-1f0de9cf1746",
   "metadata": {
    "execution": {
     "iopub.execute_input": "2025-08-05T16:04:27.804305Z",
     "iopub.status.busy": "2025-08-05T16:04:27.803784Z",
     "iopub.status.idle": "2025-08-05T16:04:27.809660Z",
     "shell.execute_reply": "2025-08-05T16:04:27.808881Z"
    },
    "papermill": {
     "duration": 0.017795,
     "end_time": "2025-08-05T16:04:27.811113",
     "exception": false,
     "start_time": "2025-08-05T16:04:27.793318",
     "status": "completed"
    },
    "tags": []
   },
   "outputs": [],
   "source": [
    "X_train = siab_train.iloc[:,4:164]\n",
    "y_train = siab_train.iloc[:, [3]]"
   ]
  },
  {
   "cell_type": "code",
   "execution_count": 16,
   "id": "828c96af-f43a-4ed6-ba47-8ac73a47d56c",
   "metadata": {
    "execution": {
     "iopub.execute_input": "2025-08-05T16:04:27.856155Z",
     "iopub.status.busy": "2025-08-05T16:04:27.855110Z",
     "iopub.status.idle": "2025-08-05T16:04:27.911186Z",
     "shell.execute_reply": "2025-08-05T16:04:27.909946Z"
    },
    "papermill": {
     "duration": 0.086908,
     "end_time": "2025-08-05T16:04:27.913133",
     "exception": false,
     "start_time": "2025-08-05T16:04:27.826225",
     "status": "completed"
    },
    "tags": []
   },
   "outputs": [],
   "source": [
    "X_calib = siab_calib.iloc[:,4:164]\n",
    "y_calib = siab_calib.iloc[:, [3]]"
   ]
  },
  {
   "cell_type": "code",
   "execution_count": 17,
   "id": "c34be9c3-6bd6-476e-acd3-845840e303be",
   "metadata": {
    "execution": {
     "iopub.execute_input": "2025-08-05T16:04:27.952800Z",
     "iopub.status.busy": "2025-08-05T16:04:27.951878Z",
     "iopub.status.idle": "2025-08-05T16:04:28.020636Z",
     "shell.execute_reply": "2025-08-05T16:04:28.019424Z"
    },
    "papermill": {
     "duration": 0.089621,
     "end_time": "2025-08-05T16:04:28.022635",
     "exception": false,
     "start_time": "2025-08-05T16:04:27.933014",
     "status": "completed"
    },
    "tags": []
   },
   "outputs": [],
   "source": [
    "X_test = siab_test.iloc[:,4:164]\n",
    "y_true = siab_test.iloc[:, [3]]"
   ]
  },
  {
   "cell_type": "code",
   "execution_count": 18,
   "id": "e6c733c5",
   "metadata": {
    "execution": {
     "iopub.execute_input": "2025-08-05T16:04:28.065953Z",
     "iopub.status.busy": "2025-08-05T16:04:28.065018Z",
     "iopub.status.idle": "2025-08-05T16:04:28.162304Z",
     "shell.execute_reply": "2025-08-05T16:04:28.161249Z"
    },
    "papermill": {
     "duration": 0.120194,
     "end_time": "2025-08-05T16:04:28.164400",
     "exception": false,
     "start_time": "2025-08-05T16:04:28.044206",
     "status": "completed"
    },
    "tags": []
   },
   "outputs": [],
   "source": [
    "# Auxiliary data needed downstream in the pipeline\n",
    "\n",
    "org_train = X_train.copy()\n",
    "org_test = X_test.copy()\n",
    "org_calib = X_calib.copy()"
   ]
  },
  {
   "cell_type": "markdown",
   "id": "0a4a1b33",
   "metadata": {
    "papermill": {
     "duration": 0.019439,
     "end_time": "2025-08-05T16:04:28.204141",
     "exception": false,
     "start_time": "2025-08-05T16:04:28.184702",
     "status": "completed"
    },
    "tags": []
   },
   "source": [
    "# Preprocessing Data"
   ]
  },
  {
   "cell_type": "code",
   "execution_count": 19,
   "id": "ca879031",
   "metadata": {
    "execution": {
     "iopub.execute_input": "2025-08-05T16:04:28.246648Z",
     "iopub.status.busy": "2025-08-05T16:04:28.246128Z",
     "iopub.status.idle": "2025-08-05T16:04:28.252394Z",
     "shell.execute_reply": "2025-08-05T16:04:28.251502Z"
    },
    "papermill": {
     "duration": 0.030008,
     "end_time": "2025-08-05T16:04:28.254261",
     "exception": false,
     "start_time": "2025-08-05T16:04:28.224253",
     "status": "completed"
    },
    "tags": []
   },
   "outputs": [],
   "source": [
    "# EXCLUDE PROTECTED FEATURES\n",
    "# ----------------------\n",
    "# \"exclude_features\": \"none\", # \"nationality\", \"sex\", \"nationality-sex\"\n",
    "\n",
    "excluded_features = universe[\"exclude_features\"].split(\"-\") # split, e.g.: \"nationality-sex\" -> [\"nationality\", \"sex\"]\n",
    "excluded_features_dictionary = {\n",
    "    \"nationality\": [\"maxdeutsch1\", \"maxdeutsch.Missing.\"],\n",
    "    \"sex\": [\"frau1\"],\n",
    "    \"age\": [\"age\"],\n",
    "}"
   ]
  },
  {
   "cell_type": "code",
   "execution_count": 20,
   "id": "b745ac60",
   "metadata": {
    "execution": {
     "iopub.execute_input": "2025-08-05T16:04:28.302034Z",
     "iopub.status.busy": "2025-08-05T16:04:28.301460Z",
     "iopub.status.idle": "2025-08-05T16:04:28.307547Z",
     "shell.execute_reply": "2025-08-05T16:04:28.306767Z"
    },
    "papermill": {
     "duration": 0.030955,
     "end_time": "2025-08-05T16:04:28.309081",
     "exception": false,
     "start_time": "2025-08-05T16:04:28.278126",
     "status": "completed"
    },
    "tags": []
   },
   "outputs": [],
   "source": [
    "# Code nice names to column names\n",
    "\n",
    "excluded_features_columns = [\n",
    "    excluded_features_dictionary[f] for f in excluded_features if len(f) > 0 and f != \"none\"\n",
    "]"
   ]
  },
  {
   "cell_type": "code",
   "execution_count": 21,
   "id": "f84f73a2",
   "metadata": {
    "execution": {
     "iopub.execute_input": "2025-08-05T16:04:28.330653Z",
     "iopub.status.busy": "2025-08-05T16:04:28.330318Z",
     "iopub.status.idle": "2025-08-05T16:04:28.335533Z",
     "shell.execute_reply": "2025-08-05T16:04:28.334798Z"
    },
    "papermill": {
     "duration": 0.017019,
     "end_time": "2025-08-05T16:04:28.336923",
     "exception": false,
     "start_time": "2025-08-05T16:04:28.319904",
     "status": "completed"
    },
    "tags": []
   },
   "outputs": [],
   "source": [
    "from utils import flatten_once\n",
    "\n",
    "excluded_features_columns = flatten_once(excluded_features_columns)"
   ]
  },
  {
   "cell_type": "code",
   "execution_count": 22,
   "id": "884dea22",
   "metadata": {
    "execution": {
     "iopub.execute_input": "2025-08-05T16:04:28.358084Z",
     "iopub.status.busy": "2025-08-05T16:04:28.357369Z",
     "iopub.status.idle": "2025-08-05T16:04:28.362242Z",
     "shell.execute_reply": "2025-08-05T16:04:28.361534Z"
    },
    "papermill": {
     "duration": 0.016168,
     "end_time": "2025-08-05T16:04:28.363688",
     "exception": false,
     "start_time": "2025-08-05T16:04:28.347520",
     "status": "completed"
    },
    "tags": []
   },
   "outputs": [],
   "source": [
    "if len(excluded_features_columns) > 0:\n",
    "    print(f\"Dropping features: {excluded_features_columns}\")\n",
    "    X_train.drop(excluded_features_columns, axis=1, inplace=True)"
   ]
  },
  {
   "cell_type": "code",
   "execution_count": 23,
   "id": "95ab8b16",
   "metadata": {
    "execution": {
     "iopub.execute_input": "2025-08-05T16:04:28.384679Z",
     "iopub.status.busy": "2025-08-05T16:04:28.384079Z",
     "iopub.status.idle": "2025-08-05T16:04:28.388772Z",
     "shell.execute_reply": "2025-08-05T16:04:28.387967Z"
    },
    "papermill": {
     "duration": 0.016105,
     "end_time": "2025-08-05T16:04:28.390287",
     "exception": false,
     "start_time": "2025-08-05T16:04:28.374182",
     "status": "completed"
    },
    "tags": []
   },
   "outputs": [],
   "source": [
    "if len(excluded_features_columns) > 0:\n",
    "    print(f\"Dropping features: {excluded_features_columns}\")\n",
    "    X_test.drop(excluded_features_columns, axis=1, inplace=True)"
   ]
  },
  {
   "cell_type": "code",
   "execution_count": 24,
   "id": "1853aaf5-fb9f-46cb-a2b5-8ea4ae2237e4",
   "metadata": {
    "execution": {
     "iopub.execute_input": "2025-08-05T16:04:28.411437Z",
     "iopub.status.busy": "2025-08-05T16:04:28.411046Z",
     "iopub.status.idle": "2025-08-05T16:04:28.415482Z",
     "shell.execute_reply": "2025-08-05T16:04:28.414439Z"
    },
    "papermill": {
     "duration": 0.016344,
     "end_time": "2025-08-05T16:04:28.417009",
     "exception": false,
     "start_time": "2025-08-05T16:04:28.400665",
     "status": "completed"
    },
    "tags": []
   },
   "outputs": [],
   "source": [
    "if len(excluded_features_columns) > 0:\n",
    "    print(f\"Dropping features: {excluded_features_columns}\")\n",
    "    X_calib.drop(excluded_features_columns, axis=1, inplace=True)"
   ]
  },
  {
   "cell_type": "code",
   "execution_count": 25,
   "id": "76c4dc6d",
   "metadata": {
    "execution": {
     "iopub.execute_input": "2025-08-05T16:04:28.449401Z",
     "iopub.status.busy": "2025-08-05T16:04:28.448898Z",
     "iopub.status.idle": "2025-08-05T16:04:28.454160Z",
     "shell.execute_reply": "2025-08-05T16:04:28.453381Z"
    },
    "papermill": {
     "duration": 0.023716,
     "end_time": "2025-08-05T16:04:28.455689",
     "exception": false,
     "start_time": "2025-08-05T16:04:28.431973",
     "status": "completed"
    },
    "tags": []
   },
   "outputs": [],
   "source": [
    "# EXCLUDE CERTAIN SUBGROUPS\n",
    "# ----------------------\n",
    "\n",
    "mode = universe.get(\"exclude_subgroups\", \"keep-all\") \n",
    "# Fetches the exclude_subgroups setting from the universe dict.\n",
    "# Defaults to \"keep-all\" if the key is missing."
   ]
  },
  {
   "cell_type": "code",
   "execution_count": 26,
   "id": "21994072",
   "metadata": {
    "execution": {
     "iopub.execute_input": "2025-08-05T16:04:28.476814Z",
     "iopub.status.busy": "2025-08-05T16:04:28.476127Z",
     "iopub.status.idle": "2025-08-05T16:04:28.481844Z",
     "shell.execute_reply": "2025-08-05T16:04:28.481032Z"
    },
    "papermill": {
     "duration": 0.017633,
     "end_time": "2025-08-05T16:04:28.483672",
     "exception": false,
     "start_time": "2025-08-05T16:04:28.466039",
     "status": "completed"
    },
    "tags": []
   },
   "outputs": [],
   "source": [
    "if mode == \"keep-all\":\n",
    "    keep_mask = pd.Series(True, index=org_train.index)\n",
    "\n",
    "# org_train contains the original feature columns from features_org (in Simson)\n",
    "# features_org contains unprocessed features, for me X_train at beginning ???\n",
    "# For keep-all, creates a boolean Series (keep_mask) of all True, so no rows are removed.\n",
    "\n",
    "elif mode == \"drop-non-german\":\n",
    "    keep_mask = org_train[\"maxdeutsch1\"] == 1 # ??? what about missing values?\n",
    "\n",
    "else:\n",
    "    raise ValueError(f\"Unsupported mode for exclude_subgroups: {mode}\")"
   ]
  },
  {
   "cell_type": "code",
   "execution_count": 27,
   "id": "71651440",
   "metadata": {
    "execution": {
     "iopub.execute_input": "2025-08-05T16:04:28.527345Z",
     "iopub.status.busy": "2025-08-05T16:04:28.526597Z",
     "iopub.status.idle": "2025-08-05T16:04:28.534579Z",
     "shell.execute_reply": "2025-08-05T16:04:28.533784Z"
    },
    "papermill": {
     "duration": 0.030667,
     "end_time": "2025-08-05T16:04:28.536240",
     "exception": false,
     "start_time": "2025-08-05T16:04:28.505573",
     "status": "completed"
    },
    "tags": []
   },
   "outputs": [
    {
     "name": "stdout",
     "output_type": "stream",
     "text": [
      "Dropping 147 rows (14.70%) where mode='drop-non-german'\n"
     ]
    }
   ],
   "source": [
    "n_drop = (~keep_mask).sum() # Calculates how many rows are set to be dropped\n",
    "if n_drop > 0:\n",
    "    pct = n_drop / len(keep_mask) * 100\n",
    "    print(f\"Dropping {n_drop} rows ({pct:.2f}%) where mode='{mode}'\")"
   ]
  },
  {
   "cell_type": "code",
   "execution_count": 28,
   "id": "5fb8eee5",
   "metadata": {
    "execution": {
     "iopub.execute_input": "2025-08-05T16:04:28.581324Z",
     "iopub.status.busy": "2025-08-05T16:04:28.580425Z",
     "iopub.status.idle": "2025-08-05T16:04:28.586716Z",
     "shell.execute_reply": "2025-08-05T16:04:28.585966Z"
    },
    "papermill": {
     "duration": 0.029657,
     "end_time": "2025-08-05T16:04:28.588216",
     "exception": false,
     "start_time": "2025-08-05T16:04:28.558559",
     "status": "completed"
    },
    "tags": []
   },
   "outputs": [],
   "source": [
    "X_train = X_train[keep_mask]"
   ]
  },
  {
   "cell_type": "code",
   "execution_count": 29,
   "id": "b202bb3a",
   "metadata": {
    "execution": {
     "iopub.execute_input": "2025-08-05T16:04:28.610428Z",
     "iopub.status.busy": "2025-08-05T16:04:28.609918Z",
     "iopub.status.idle": "2025-08-05T16:04:28.615252Z",
     "shell.execute_reply": "2025-08-05T16:04:28.614488Z"
    },
    "papermill": {
     "duration": 0.017726,
     "end_time": "2025-08-05T16:04:28.616758",
     "exception": false,
     "start_time": "2025-08-05T16:04:28.599032",
     "status": "completed"
    },
    "tags": []
   },
   "outputs": [],
   "source": [
    "y_train = y_train[keep_mask]"
   ]
  },
  {
   "cell_type": "markdown",
   "id": "493e2ac3",
   "metadata": {
    "papermill": {
     "duration": 0.009368,
     "end_time": "2025-08-05T16:04:28.636596",
     "exception": false,
     "start_time": "2025-08-05T16:04:28.627228",
     "status": "completed"
    },
    "tags": []
   },
   "source": [
    "# Model Training"
   ]
  },
  {
   "cell_type": "code",
   "execution_count": 30,
   "id": "679e1268",
   "metadata": {
    "execution": {
     "iopub.execute_input": "2025-08-05T16:04:28.656709Z",
     "iopub.status.busy": "2025-08-05T16:04:28.656242Z",
     "iopub.status.idle": "2025-08-05T16:04:28.733637Z",
     "shell.execute_reply": "2025-08-05T16:04:28.732813Z"
    },
    "papermill": {
     "duration": 0.088763,
     "end_time": "2025-08-05T16:04:28.735035",
     "exception": false,
     "start_time": "2025-08-05T16:04:28.646272",
     "status": "completed"
    },
    "tags": []
   },
   "outputs": [],
   "source": [
    "from sklearn.linear_model import LogisticRegression\n",
    "from sklearn.ensemble import GradientBoostingClassifier, RandomForestClassifier\n",
    "\n",
    "if (universe[\"model\"] == \"logreg\"):\n",
    "    model = LogisticRegression() #penalty=\"none\", solver=\"newton-cg\", max_iter=1) # include random_state=19 ?\n",
    "elif (universe[\"model\"] == \"penalized_logreg\"):\n",
    "    model = LogisticRegression(penalty=\"l2\", C=0.1) #, solver=\"newton-cg\", max_iter=1)\n",
    "elif (universe[\"model\"] == \"rf\"):\n",
    "    model = RandomForestClassifier() # n_estimators=100, n_jobs=-1\n",
    "elif (universe[\"model\"] == \"gbm\"):\n",
    "    model = GradientBoostingClassifier()\n",
    "elif (universe[\"model\"] == \"elasticnet\"):\n",
    "    model = LogisticRegression(penalty = 'elasticnet', solver = 'saga', l1_ratio = 0.5) # max_iter=5000\n",
    "else:\n",
    "    raise \"Unsupported universe.model\""
   ]
  },
  {
   "cell_type": "code",
   "execution_count": 31,
   "id": "0cc8f744",
   "metadata": {
    "execution": {
     "iopub.execute_input": "2025-08-05T16:04:28.768949Z",
     "iopub.status.busy": "2025-08-05T16:04:28.768512Z",
     "iopub.status.idle": "2025-08-05T16:04:28.775726Z",
     "shell.execute_reply": "2025-08-05T16:04:28.774666Z"
    },
    "papermill": {
     "duration": 0.028659,
     "end_time": "2025-08-05T16:04:28.777794",
     "exception": false,
     "start_time": "2025-08-05T16:04:28.749135",
     "status": "completed"
    },
    "tags": []
   },
   "outputs": [],
   "source": [
    "import numpy as np\n",
    "from sklearn.pipeline import Pipeline\n",
    "from sklearn.preprocessing import StandardScaler\n",
    "\n",
    "model = Pipeline([\n",
    "    #(\"continuous_processor\", continuous_processor),\n",
    "    #(\"categorical_preprocessor\", categorical_preprocessor),\n",
    "    (\"scale\", StandardScaler() if universe[\"scale\"] == \"scale\" else None), \n",
    "    (\"model\", model),\n",
    "])"
   ]
  },
  {
   "cell_type": "code",
   "execution_count": 32,
   "id": "9442c04d",
   "metadata": {
    "execution": {
     "iopub.execute_input": "2025-08-05T16:04:28.807466Z",
     "iopub.status.busy": "2025-08-05T16:04:28.807112Z",
     "iopub.status.idle": "2025-08-05T16:04:29.078691Z",
     "shell.execute_reply": "2025-08-05T16:04:29.077657Z"
    },
    "papermill": {
     "duration": 0.286453,
     "end_time": "2025-08-05T16:04:29.080375",
     "exception": false,
     "start_time": "2025-08-05T16:04:28.793922",
     "status": "completed"
    },
    "tags": []
   },
   "outputs": [
    {
     "data": {
      "text/html": [
       "<style>#sk-container-id-1 {color: black;background-color: white;}#sk-container-id-1 pre{padding: 0;}#sk-container-id-1 div.sk-toggleable {background-color: white;}#sk-container-id-1 label.sk-toggleable__label {cursor: pointer;display: block;width: 100%;margin-bottom: 0;padding: 0.3em;box-sizing: border-box;text-align: center;}#sk-container-id-1 label.sk-toggleable__label-arrow:before {content: \"▸\";float: left;margin-right: 0.25em;color: #696969;}#sk-container-id-1 label.sk-toggleable__label-arrow:hover:before {color: black;}#sk-container-id-1 div.sk-estimator:hover label.sk-toggleable__label-arrow:before {color: black;}#sk-container-id-1 div.sk-toggleable__content {max-height: 0;max-width: 0;overflow: hidden;text-align: left;background-color: #f0f8ff;}#sk-container-id-1 div.sk-toggleable__content pre {margin: 0.2em;color: black;border-radius: 0.25em;background-color: #f0f8ff;}#sk-container-id-1 input.sk-toggleable__control:checked~div.sk-toggleable__content {max-height: 200px;max-width: 100%;overflow: auto;}#sk-container-id-1 input.sk-toggleable__control:checked~label.sk-toggleable__label-arrow:before {content: \"▾\";}#sk-container-id-1 div.sk-estimator input.sk-toggleable__control:checked~label.sk-toggleable__label {background-color: #d4ebff;}#sk-container-id-1 div.sk-label input.sk-toggleable__control:checked~label.sk-toggleable__label {background-color: #d4ebff;}#sk-container-id-1 input.sk-hidden--visually {border: 0;clip: rect(1px 1px 1px 1px);clip: rect(1px, 1px, 1px, 1px);height: 1px;margin: -1px;overflow: hidden;padding: 0;position: absolute;width: 1px;}#sk-container-id-1 div.sk-estimator {font-family: monospace;background-color: #f0f8ff;border: 1px dotted black;border-radius: 0.25em;box-sizing: border-box;margin-bottom: 0.5em;}#sk-container-id-1 div.sk-estimator:hover {background-color: #d4ebff;}#sk-container-id-1 div.sk-parallel-item::after {content: \"\";width: 100%;border-bottom: 1px solid gray;flex-grow: 1;}#sk-container-id-1 div.sk-label:hover label.sk-toggleable__label {background-color: #d4ebff;}#sk-container-id-1 div.sk-serial::before {content: \"\";position: absolute;border-left: 1px solid gray;box-sizing: border-box;top: 0;bottom: 0;left: 50%;z-index: 0;}#sk-container-id-1 div.sk-serial {display: flex;flex-direction: column;align-items: center;background-color: white;padding-right: 0.2em;padding-left: 0.2em;position: relative;}#sk-container-id-1 div.sk-item {position: relative;z-index: 1;}#sk-container-id-1 div.sk-parallel {display: flex;align-items: stretch;justify-content: center;background-color: white;position: relative;}#sk-container-id-1 div.sk-item::before, #sk-container-id-1 div.sk-parallel-item::before {content: \"\";position: absolute;border-left: 1px solid gray;box-sizing: border-box;top: 0;bottom: 0;left: 50%;z-index: -1;}#sk-container-id-1 div.sk-parallel-item {display: flex;flex-direction: column;z-index: 1;position: relative;background-color: white;}#sk-container-id-1 div.sk-parallel-item:first-child::after {align-self: flex-end;width: 50%;}#sk-container-id-1 div.sk-parallel-item:last-child::after {align-self: flex-start;width: 50%;}#sk-container-id-1 div.sk-parallel-item:only-child::after {width: 0;}#sk-container-id-1 div.sk-dashed-wrapped {border: 1px dashed gray;margin: 0 0.4em 0.5em 0.4em;box-sizing: border-box;padding-bottom: 0.4em;background-color: white;}#sk-container-id-1 div.sk-label label {font-family: monospace;font-weight: bold;display: inline-block;line-height: 1.2em;}#sk-container-id-1 div.sk-label-container {text-align: center;}#sk-container-id-1 div.sk-container {/* jupyter's `normalize.less` sets `[hidden] { display: none; }` but bootstrap.min.css set `[hidden] { display: none !important; }` so we also need the `!important` here to be able to override the default hidden behavior on the sphinx rendered scikit-learn.org. See: https://github.com/scikit-learn/scikit-learn/issues/21755 */display: inline-block !important;position: relative;}#sk-container-id-1 div.sk-text-repr-fallback {display: none;}</style><div id=\"sk-container-id-1\" class=\"sk-top-container\"><div class=\"sk-text-repr-fallback\"><pre>Pipeline(steps=[(&#x27;scale&#x27;, StandardScaler()),\n",
       "                (&#x27;model&#x27;, RandomForestClassifier())])</pre><b>In a Jupyter environment, please rerun this cell to show the HTML representation or trust the notebook. <br />On GitHub, the HTML representation is unable to render, please try loading this page with nbviewer.org.</b></div><div class=\"sk-container\" hidden><div class=\"sk-item sk-dashed-wrapped\"><div class=\"sk-label-container\"><div class=\"sk-label sk-toggleable\"><input class=\"sk-toggleable__control sk-hidden--visually\" id=\"sk-estimator-id-1\" type=\"checkbox\" ><label for=\"sk-estimator-id-1\" class=\"sk-toggleable__label sk-toggleable__label-arrow\">Pipeline</label><div class=\"sk-toggleable__content\"><pre>Pipeline(steps=[(&#x27;scale&#x27;, StandardScaler()),\n",
       "                (&#x27;model&#x27;, RandomForestClassifier())])</pre></div></div></div><div class=\"sk-serial\"><div class=\"sk-item\"><div class=\"sk-estimator sk-toggleable\"><input class=\"sk-toggleable__control sk-hidden--visually\" id=\"sk-estimator-id-2\" type=\"checkbox\" ><label for=\"sk-estimator-id-2\" class=\"sk-toggleable__label sk-toggleable__label-arrow\">StandardScaler</label><div class=\"sk-toggleable__content\"><pre>StandardScaler()</pre></div></div></div><div class=\"sk-item\"><div class=\"sk-estimator sk-toggleable\"><input class=\"sk-toggleable__control sk-hidden--visually\" id=\"sk-estimator-id-3\" type=\"checkbox\" ><label for=\"sk-estimator-id-3\" class=\"sk-toggleable__label sk-toggleable__label-arrow\">RandomForestClassifier</label><div class=\"sk-toggleable__content\"><pre>RandomForestClassifier()</pre></div></div></div></div></div></div></div>"
      ],
      "text/plain": [
       "Pipeline(steps=[('scale', StandardScaler()),\n",
       "                ('model', RandomForestClassifier())])"
      ]
     },
     "execution_count": 32,
     "metadata": {},
     "output_type": "execute_result"
    }
   ],
   "source": [
    "model.fit(X_train, y_train.values.ravel())"
   ]
  },
  {
   "cell_type": "code",
   "execution_count": 33,
   "id": "af59f8c0",
   "metadata": {
    "execution": {
     "iopub.execute_input": "2025-08-05T16:04:29.121202Z",
     "iopub.status.busy": "2025-08-05T16:04:29.120607Z",
     "iopub.status.idle": "2025-08-05T16:04:29.126194Z",
     "shell.execute_reply": "2025-08-05T16:04:29.125395Z"
    },
    "papermill": {
     "duration": 0.0277,
     "end_time": "2025-08-05T16:04:29.127384",
     "exception": false,
     "start_time": "2025-08-05T16:04:29.099684",
     "status": "completed"
    },
    "tags": []
   },
   "outputs": [],
   "source": [
    "from fairness_multiverse.universe import predict_w_threshold"
   ]
  },
  {
   "cell_type": "code",
   "execution_count": 34,
   "id": "a7cf2e16",
   "metadata": {
    "execution": {
     "iopub.execute_input": "2025-08-05T16:04:29.149929Z",
     "iopub.status.busy": "2025-08-05T16:04:29.149483Z",
     "iopub.status.idle": "2025-08-05T16:04:30.467422Z",
     "shell.execute_reply": "2025-08-05T16:04:30.463958Z"
    },
    "papermill": {
     "duration": 1.330462,
     "end_time": "2025-08-05T16:04:30.469104",
     "exception": false,
     "start_time": "2025-08-05T16:04:29.138642",
     "status": "completed"
    },
    "tags": []
   },
   "outputs": [
    {
     "data": {
      "text/plain": [
       "0.8612306320365622"
      ]
     },
     "execution_count": 34,
     "metadata": {},
     "output_type": "execute_result"
    }
   ],
   "source": [
    "probs_test = model.predict_proba(X_test)\n",
    "\n",
    "'''\n",
    "Below code returns a boolean array (or binary 0/1 array depending on how it’s used) where each element \n",
    "is True if the probability of class 1 is greater than or equal to the threshold, and False otherwise.\n",
    "'''\n",
    "y_pred_default = predict_w_threshold(probs_test, 0.5)\n",
    "\n",
    "from sklearn.metrics import accuracy_score\n",
    "\n",
    "# Naive prediction\n",
    "accuracy_score(y_true = y_true, y_pred = y_pred_default)"
   ]
  },
  {
   "cell_type": "code",
   "execution_count": 35,
   "id": "081964c3",
   "metadata": {
    "execution": {
     "iopub.execute_input": "2025-08-05T16:04:30.505766Z",
     "iopub.status.busy": "2025-08-05T16:04:30.505022Z",
     "iopub.status.idle": "2025-08-05T16:04:31.751219Z",
     "shell.execute_reply": "2025-08-05T16:04:31.750466Z"
    },
    "papermill": {
     "duration": 1.269291,
     "end_time": "2025-08-05T16:04:31.752487",
     "exception": false,
     "start_time": "2025-08-05T16:04:30.483196",
     "status": "completed"
    },
    "tags": []
   },
   "outputs": [
    {
     "data": {
      "text/plain": [
       "array([0, 0, 0, ..., 0, 0, 0])"
      ]
     },
     "execution_count": 35,
     "metadata": {},
     "output_type": "execute_result"
    }
   ],
   "source": [
    "model.predict(X_test)"
   ]
  },
  {
   "cell_type": "markdown",
   "id": "56c9705b",
   "metadata": {
    "papermill": {
     "duration": 0.009918,
     "end_time": "2025-08-05T16:04:31.772984",
     "exception": false,
     "start_time": "2025-08-05T16:04:31.763066",
     "status": "completed"
    },
    "tags": []
   },
   "source": [
    "# Conformal Prediction"
   ]
  },
  {
   "cell_type": "code",
   "execution_count": 36,
   "id": "160ec6ff",
   "metadata": {
    "execution": {
     "iopub.execute_input": "2025-08-05T16:04:31.794791Z",
     "iopub.status.busy": "2025-08-05T16:04:31.794062Z",
     "iopub.status.idle": "2025-08-05T16:04:31.798890Z",
     "shell.execute_reply": "2025-08-05T16:04:31.798174Z"
    },
    "papermill": {
     "duration": 0.017433,
     "end_time": "2025-08-05T16:04:31.800376",
     "exception": false,
     "start_time": "2025-08-05T16:04:31.782943",
     "status": "completed"
    },
    "tags": []
   },
   "outputs": [],
   "source": [
    "# Miscoverage level for conformal prediction (10% allowed error rate => 90% target coverage)\n",
    "alpha = 0.1"
   ]
  },
  {
   "cell_type": "code",
   "execution_count": 37,
   "id": "eadf4555-3dd3-440e-8e35-f82a4ad9f855",
   "metadata": {
    "execution": {
     "iopub.execute_input": "2025-08-05T16:04:31.824413Z",
     "iopub.status.busy": "2025-08-05T16:04:31.823661Z",
     "iopub.status.idle": "2025-08-05T16:04:33.159582Z",
     "shell.execute_reply": "2025-08-05T16:04:33.158547Z"
    },
    "papermill": {
     "duration": 1.349459,
     "end_time": "2025-08-05T16:04:33.162213",
     "exception": false,
     "start_time": "2025-08-05T16:04:31.812754",
     "status": "completed"
    },
    "tags": []
   },
   "outputs": [],
   "source": [
    "probs_calib = model.predict_proba(X_calib)"
   ]
  },
  {
   "cell_type": "code",
   "execution_count": 38,
   "id": "2ed93547-6d5d-4983-9b36-1ecb300da49a",
   "metadata": {
    "execution": {
     "iopub.execute_input": "2025-08-05T16:04:33.210060Z",
     "iopub.status.busy": "2025-08-05T16:04:33.209385Z",
     "iopub.status.idle": "2025-08-05T16:04:33.216491Z",
     "shell.execute_reply": "2025-08-05T16:04:33.215110Z"
    },
    "papermill": {
     "duration": 0.033476,
     "end_time": "2025-08-05T16:04:33.219194",
     "exception": false,
     "start_time": "2025-08-05T16:04:33.185718",
     "status": "completed"
    },
    "tags": []
   },
   "outputs": [],
   "source": [
    "y_calib = y_calib.values.ravel().astype(int)"
   ]
  },
  {
   "cell_type": "code",
   "execution_count": 39,
   "id": "65d1320d-f588-4b38-9072-62af1ae97f7d",
   "metadata": {
    "execution": {
     "iopub.execute_input": "2025-08-05T16:04:33.272581Z",
     "iopub.status.busy": "2025-08-05T16:04:33.271835Z",
     "iopub.status.idle": "2025-08-05T16:04:33.279488Z",
     "shell.execute_reply": "2025-08-05T16:04:33.278542Z"
    },
    "papermill": {
     "duration": 0.034001,
     "end_time": "2025-08-05T16:04:33.281347",
     "exception": false,
     "start_time": "2025-08-05T16:04:33.247346",
     "status": "completed"
    },
    "tags": []
   },
   "outputs": [],
   "source": [
    "from fairness_multiverse.conformal import compute_nc_scores\n",
    "\n",
    "# Compute nonconformity scores on calibration set (1 - probability of true class)\n",
    "nc_scores = compute_nc_scores(probs_calib, y_calib)"
   ]
  },
  {
   "cell_type": "code",
   "execution_count": 40,
   "id": "df3b8ca3-53b7-43d5-9667-7c85da7aeda2",
   "metadata": {
    "execution": {
     "iopub.execute_input": "2025-08-05T16:04:33.322273Z",
     "iopub.status.busy": "2025-08-05T16:04:33.321393Z",
     "iopub.status.idle": "2025-08-05T16:04:33.328514Z",
     "shell.execute_reply": "2025-08-05T16:04:33.327470Z"
    },
    "papermill": {
     "duration": 0.029108,
     "end_time": "2025-08-05T16:04:33.330281",
     "exception": false,
     "start_time": "2025-08-05T16:04:33.301173",
     "status": "completed"
    },
    "tags": []
   },
   "outputs": [],
   "source": [
    "from fairness_multiverse.conformal import find_threshold\n",
    "\n",
    "# Find conformal threshold q_hat for the given alpha (split conformal method)\n",
    "q_hat = find_threshold(nc_scores, alpha)"
   ]
  },
  {
   "cell_type": "code",
   "execution_count": 41,
   "id": "4d29e6c1-0ef6-4aa4-b8fe-4fe79b0d033a",
   "metadata": {
    "execution": {
     "iopub.execute_input": "2025-08-05T16:04:33.371399Z",
     "iopub.status.busy": "2025-08-05T16:04:33.370586Z",
     "iopub.status.idle": "2025-08-05T16:04:33.377902Z",
     "shell.execute_reply": "2025-08-05T16:04:33.376761Z"
    },
    "papermill": {
     "duration": 0.029537,
     "end_time": "2025-08-05T16:04:33.379858",
     "exception": false,
     "start_time": "2025-08-05T16:04:33.350321",
     "status": "completed"
    },
    "tags": []
   },
   "outputs": [
    {
     "data": {
      "text/plain": [
       "0.6599999999999999"
      ]
     },
     "execution_count": 41,
     "metadata": {},
     "output_type": "execute_result"
    }
   ],
   "source": [
    "q_hat"
   ]
  },
  {
   "cell_type": "code",
   "execution_count": 42,
   "id": "92460794-cdac-4be2-ba28-f28c0515a6fb",
   "metadata": {
    "execution": {
     "iopub.execute_input": "2025-08-05T16:04:33.425773Z",
     "iopub.status.busy": "2025-08-05T16:04:33.424873Z",
     "iopub.status.idle": "2025-08-05T16:04:35.848768Z",
     "shell.execute_reply": "2025-08-05T16:04:35.847651Z"
    },
    "papermill": {
     "duration": 2.448688,
     "end_time": "2025-08-05T16:04:35.850954",
     "exception": false,
     "start_time": "2025-08-05T16:04:33.402266",
     "status": "completed"
    },
    "tags": []
   },
   "outputs": [],
   "source": [
    "from fairness_multiverse.conformal import predict_conformal_sets\n",
    "\n",
    "# Generate prediction sets for each test example\n",
    "pred_sets = predict_conformal_sets(model, X_test, q_hat)"
   ]
  },
  {
   "cell_type": "code",
   "execution_count": 43,
   "id": "d90c9a65-e6db-4f5d-80cd-e68fb7e46829",
   "metadata": {
    "execution": {
     "iopub.execute_input": "2025-08-05T16:04:35.902738Z",
     "iopub.status.busy": "2025-08-05T16:04:35.901699Z",
     "iopub.status.idle": "2025-08-05T16:04:35.908645Z",
     "shell.execute_reply": "2025-08-05T16:04:35.907496Z"
    },
    "papermill": {
     "duration": 0.035515,
     "end_time": "2025-08-05T16:04:35.911015",
     "exception": false,
     "start_time": "2025-08-05T16:04:35.875500",
     "status": "completed"
    },
    "tags": []
   },
   "outputs": [],
   "source": [
    "y_true = y_true.squeeze()"
   ]
  },
  {
   "cell_type": "code",
   "execution_count": 44,
   "id": "3a58a54a-1e68-46b9-927a-df01f18aebc8",
   "metadata": {
    "execution": {
     "iopub.execute_input": "2025-08-05T16:04:35.965615Z",
     "iopub.status.busy": "2025-08-05T16:04:35.964747Z",
     "iopub.status.idle": "2025-08-05T16:04:36.993710Z",
     "shell.execute_reply": "2025-08-05T16:04:36.992615Z"
    },
    "papermill": {
     "duration": 1.056799,
     "end_time": "2025-08-05T16:04:36.995738",
     "exception": false,
     "start_time": "2025-08-05T16:04:35.938939",
     "status": "completed"
    },
    "tags": []
   },
   "outputs": [],
   "source": [
    "from fairness_multiverse.conformal import evaluate_sets\n",
    "\n",
    "# Evaluate coverage and average set size on test data\n",
    "metrics = evaluate_sets(pred_sets, y_true)"
   ]
  },
  {
   "cell_type": "markdown",
   "id": "2b569c12-9aaa-4c88-98c9-bbcd0cf3ebb8",
   "metadata": {
    "papermill": {
     "duration": 0.024921,
     "end_time": "2025-08-05T16:04:37.044796",
     "exception": false,
     "start_time": "2025-08-05T16:04:37.019875",
     "status": "completed"
    },
    "tags": []
   },
   "source": [
    "# CP Metrics"
   ]
  },
  {
   "cell_type": "code",
   "execution_count": 45,
   "id": "5ce0a5cb-201f-45a0-ade5-94c7f0bd6095",
   "metadata": {
    "execution": {
     "iopub.execute_input": "2025-08-05T16:04:37.079149Z",
     "iopub.status.busy": "2025-08-05T16:04:37.078780Z",
     "iopub.status.idle": "2025-08-05T16:04:37.085687Z",
     "shell.execute_reply": "2025-08-05T16:04:37.084522Z"
    },
    "papermill": {
     "duration": 0.020403,
     "end_time": "2025-08-05T16:04:37.087378",
     "exception": false,
     "start_time": "2025-08-05T16:04:37.066975",
     "status": "completed"
    },
    "tags": []
   },
   "outputs": [
    {
     "data": {
      "text/plain": [
       "{'coverage': 0.9119496154274885, 'avg_size': 1.1394827778397056}"
      ]
     },
     "execution_count": 45,
     "metadata": {},
     "output_type": "execute_result"
    }
   ],
   "source": [
    "metrics"
   ]
  },
  {
   "cell_type": "code",
   "execution_count": 46,
   "id": "9b9a838d-31c9-430b-ae14-12baee460d17",
   "metadata": {
    "execution": {
     "iopub.execute_input": "2025-08-05T16:04:37.118034Z",
     "iopub.status.busy": "2025-08-05T16:04:37.113030Z",
     "iopub.status.idle": "2025-08-05T16:04:37.125103Z",
     "shell.execute_reply": "2025-08-05T16:04:37.123891Z"
    },
    "papermill": {
     "duration": 0.027984,
     "end_time": "2025-08-05T16:04:37.127304",
     "exception": false,
     "start_time": "2025-08-05T16:04:37.099320",
     "status": "completed"
    },
    "tags": []
   },
   "outputs": [],
   "source": [
    "example_universe = universe.copy()\n",
    "universe_training_year = example_universe.get(\"training_year\")\n",
    "universe_training_size = example_universe.get(\"training_size\")\n",
    "universe_scale = example_universe.get(\"scale\")\n",
    "universe_model = example_universe.get(\"model\")\n",
    "universe_exclude_features = example_universe.get(\"exclude_features\")\n",
    "universe_exclude_subgroups = example_universe.get(\"exclude_subgroups\")"
   ]
  },
  {
   "cell_type": "code",
   "execution_count": 47,
   "id": "f4b6a8ac-9dc0-4245-8a91-5b3b5999c4f9",
   "metadata": {
    "execution": {
     "iopub.execute_input": "2025-08-05T16:04:37.180619Z",
     "iopub.status.busy": "2025-08-05T16:04:37.179948Z",
     "iopub.status.idle": "2025-08-05T16:04:37.186577Z",
     "shell.execute_reply": "2025-08-05T16:04:37.185554Z"
    },
    "papermill": {
     "duration": 0.033934,
     "end_time": "2025-08-05T16:04:37.188702",
     "exception": false,
     "start_time": "2025-08-05T16:04:37.154768",
     "status": "completed"
    },
    "tags": []
   },
   "outputs": [],
   "source": [
    "cp_metrics_dict = {\n",
    "    \"universe_id\": [universe_id],\n",
    "    \"universe_training_year\": [universe_training_year],\n",
    "    \"universe_training_size\": [universe_training_size],\n",
    "    \"universe_scale\": [universe_scale],\n",
    "    \"universe_model\": [universe_model],\n",
    "    \"universe_exclude_features\": [universe_exclude_features],\n",
    "    \"universe_exclude_subgroups\": [universe_exclude_subgroups],\n",
    "    \"q_hat\": [q_hat],\n",
    "    \"coverage\": [metrics[\"coverage\"]],\n",
    "    \"avg_size\": [metrics[\"avg_size\"]],\n",
    "}"
   ]
  },
  {
   "cell_type": "code",
   "execution_count": 48,
   "id": "908acbb1-0371-4915-85ca-3fa520d2efe2",
   "metadata": {
    "execution": {
     "iopub.execute_input": "2025-08-05T16:04:37.240251Z",
     "iopub.status.busy": "2025-08-05T16:04:37.239588Z",
     "iopub.status.idle": "2025-08-05T16:04:37.247314Z",
     "shell.execute_reply": "2025-08-05T16:04:37.246245Z"
    },
    "papermill": {
     "duration": 0.034946,
     "end_time": "2025-08-05T16:04:37.249228",
     "exception": false,
     "start_time": "2025-08-05T16:04:37.214282",
     "status": "completed"
    },
    "tags": []
   },
   "outputs": [
    {
     "data": {
      "text/plain": [
       "{'universe_id': ['b19f628709127abedf7a5755799427e9'],\n",
       " 'universe_training_year': ['2014'],\n",
       " 'universe_training_size': ['1k'],\n",
       " 'universe_scale': ['scale'],\n",
       " 'universe_model': ['rf'],\n",
       " 'universe_exclude_features': ['none'],\n",
       " 'universe_exclude_subgroups': ['drop-non-german'],\n",
       " 'q_hat': [0.6599999999999999],\n",
       " 'coverage': [0.9119496154274885],\n",
       " 'avg_size': [1.1394827778397056]}"
      ]
     },
     "execution_count": 48,
     "metadata": {},
     "output_type": "execute_result"
    }
   ],
   "source": [
    "cp_metrics_dict"
   ]
  },
  {
   "cell_type": "code",
   "execution_count": 49,
   "id": "33007efc-14e9-4ec6-97ac-56a455c82265",
   "metadata": {
    "execution": {
     "iopub.execute_input": "2025-08-05T16:04:37.300913Z",
     "iopub.status.busy": "2025-08-05T16:04:37.300245Z",
     "iopub.status.idle": "2025-08-05T16:04:37.307103Z",
     "shell.execute_reply": "2025-08-05T16:04:37.305973Z"
    },
    "papermill": {
     "duration": 0.034712,
     "end_time": "2025-08-05T16:04:37.309010",
     "exception": false,
     "start_time": "2025-08-05T16:04:37.274298",
     "status": "completed"
    },
    "tags": []
   },
   "outputs": [],
   "source": [
    "cp_metrics_df = pd.DataFrame(cp_metrics_dict)"
   ]
  },
  {
   "cell_type": "code",
   "execution_count": 50,
   "id": "db12611b-57b2-4910-b9d0-355adfd6e7bf",
   "metadata": {
    "execution": {
     "iopub.execute_input": "2025-08-05T16:04:37.359217Z",
     "iopub.status.busy": "2025-08-05T16:04:37.358458Z",
     "iopub.status.idle": "2025-08-05T16:04:37.377145Z",
     "shell.execute_reply": "2025-08-05T16:04:37.376128Z"
    },
    "papermill": {
     "duration": 0.044994,
     "end_time": "2025-08-05T16:04:37.378928",
     "exception": false,
     "start_time": "2025-08-05T16:04:37.333934",
     "status": "completed"
    },
    "tags": []
   },
   "outputs": [
    {
     "data": {
      "text/html": [
       "<div>\n",
       "<style scoped>\n",
       "    .dataframe tbody tr th:only-of-type {\n",
       "        vertical-align: middle;\n",
       "    }\n",
       "\n",
       "    .dataframe tbody tr th {\n",
       "        vertical-align: top;\n",
       "    }\n",
       "\n",
       "    .dataframe thead th {\n",
       "        text-align: right;\n",
       "    }\n",
       "</style>\n",
       "<table border=\"1\" class=\"dataframe\">\n",
       "  <thead>\n",
       "    <tr style=\"text-align: right;\">\n",
       "      <th></th>\n",
       "      <th>universe_id</th>\n",
       "      <th>universe_training_year</th>\n",
       "      <th>universe_training_size</th>\n",
       "      <th>universe_scale</th>\n",
       "      <th>universe_model</th>\n",
       "      <th>universe_exclude_features</th>\n",
       "      <th>universe_exclude_subgroups</th>\n",
       "      <th>q_hat</th>\n",
       "      <th>coverage</th>\n",
       "      <th>avg_size</th>\n",
       "    </tr>\n",
       "  </thead>\n",
       "  <tbody>\n",
       "    <tr>\n",
       "      <th>0</th>\n",
       "      <td>b19f628709127abedf7a5755799427e9</td>\n",
       "      <td>2014</td>\n",
       "      <td>1k</td>\n",
       "      <td>scale</td>\n",
       "      <td>rf</td>\n",
       "      <td>none</td>\n",
       "      <td>drop-non-german</td>\n",
       "      <td>0.66</td>\n",
       "      <td>0.91195</td>\n",
       "      <td>1.139483</td>\n",
       "    </tr>\n",
       "  </tbody>\n",
       "</table>\n",
       "</div>"
      ],
      "text/plain": [
       "                        universe_id universe_training_year  \\\n",
       "0  b19f628709127abedf7a5755799427e9                   2014   \n",
       "\n",
       "  universe_training_size universe_scale universe_model  \\\n",
       "0                     1k          scale             rf   \n",
       "\n",
       "  universe_exclude_features universe_exclude_subgroups  q_hat  coverage  \\\n",
       "0                      none            drop-non-german   0.66   0.91195   \n",
       "\n",
       "   avg_size  \n",
       "0  1.139483  "
      ]
     },
     "execution_count": 50,
     "metadata": {},
     "output_type": "execute_result"
    }
   ],
   "source": [
    "cp_metrics_df"
   ]
  },
  {
   "cell_type": "code",
   "execution_count": 51,
   "id": "b7fbde55-a0a1-47e4-9af6-fe4a17fa8c61",
   "metadata": {
    "execution": {
     "iopub.execute_input": "2025-08-05T16:04:37.431806Z",
     "iopub.status.busy": "2025-08-05T16:04:37.430898Z",
     "iopub.status.idle": "2025-08-05T16:04:37.436407Z",
     "shell.execute_reply": "2025-08-05T16:04:37.435472Z"
    },
    "papermill": {
     "duration": 0.03405,
     "end_time": "2025-08-05T16:04:37.438487",
     "exception": false,
     "start_time": "2025-08-05T16:04:37.404437",
     "status": "completed"
    },
    "tags": []
   },
   "outputs": [],
   "source": [
    "# Conditional Coverage & looking at subgroups"
   ]
  },
  {
   "cell_type": "code",
   "execution_count": 52,
   "id": "027ae886-68dd-4141-96c7-805a5450e1ef",
   "metadata": {
    "execution": {
     "iopub.execute_input": "2025-08-05T16:04:37.494745Z",
     "iopub.status.busy": "2025-08-05T16:04:37.493764Z",
     "iopub.status.idle": "2025-08-05T16:04:37.779156Z",
     "shell.execute_reply": "2025-08-05T16:04:37.778055Z"
    },
    "papermill": {
     "duration": 0.314874,
     "end_time": "2025-08-05T16:04:37.781214",
     "exception": false,
     "start_time": "2025-08-05T16:04:37.466340",
     "status": "completed"
    },
    "tags": []
   },
   "outputs": [],
   "source": [
    "from fairness_multiverse.conformal import build_cp_groups\n",
    "\n",
    "cp_groups_df = build_cp_groups(pred_sets, y_true, X_test.index, org_test)\n",
    "#needs universe_id and setting"
   ]
  },
  {
   "cell_type": "code",
   "execution_count": 53,
   "id": "6cbdab96-b2b2-45af-ad54-d0516db2e28d",
   "metadata": {
    "execution": {
     "iopub.execute_input": "2025-08-05T16:04:37.827520Z",
     "iopub.status.busy": "2025-08-05T16:04:37.826666Z",
     "iopub.status.idle": "2025-08-05T16:04:39.413528Z",
     "shell.execute_reply": "2025-08-05T16:04:39.412445Z"
    },
    "papermill": {
     "duration": 1.610412,
     "end_time": "2025-08-05T16:04:39.415607",
     "exception": false,
     "start_time": "2025-08-05T16:04:37.805195",
     "status": "completed"
    },
    "tags": []
   },
   "outputs": [],
   "source": [
    "# Define covered = 1 if true_label is in the predicted set\n",
    "cp_groups_df['covered'] = cp_groups_df.apply(\n",
    "    lambda r: int(r['true_label'] in r['pred_set']),\n",
    "    axis=1\n",
    ")"
   ]
  },
  {
   "cell_type": "code",
   "execution_count": 54,
   "id": "338ff529-1a6b-4b87-a931-8e4788d52aad",
   "metadata": {
    "execution": {
     "iopub.execute_input": "2025-08-05T16:04:39.463047Z",
     "iopub.status.busy": "2025-08-05T16:04:39.462228Z",
     "iopub.status.idle": "2025-08-05T16:04:39.467490Z",
     "shell.execute_reply": "2025-08-05T16:04:39.466360Z"
    },
    "papermill": {
     "duration": 0.030874,
     "end_time": "2025-08-05T16:04:39.469581",
     "exception": false,
     "start_time": "2025-08-05T16:04:39.438707",
     "status": "completed"
    },
    "tags": []
   },
   "outputs": [],
   "source": [
    "#cp_groups_df"
   ]
  },
  {
   "cell_type": "code",
   "execution_count": 55,
   "id": "90032e27-66df-4540-9169-4e89cfbaa758",
   "metadata": {
    "execution": {
     "iopub.execute_input": "2025-08-05T16:04:39.515357Z",
     "iopub.status.busy": "2025-08-05T16:04:39.514683Z",
     "iopub.status.idle": "2025-08-05T16:04:39.527767Z",
     "shell.execute_reply": "2025-08-05T16:04:39.526748Z"
    },
    "papermill": {
     "duration": 0.036014,
     "end_time": "2025-08-05T16:04:39.529606",
     "exception": false,
     "start_time": "2025-08-05T16:04:39.493592",
     "status": "completed"
    },
    "tags": []
   },
   "outputs": [],
   "source": [
    "subgroups = ['frau1','nongerman','nongerman_male','nongerman_female']\n",
    "\n",
    "# Conditional coverage for subgroup==1\n",
    "cond_coverage = {\n",
    "    g: cp_groups_df.loc[cp_groups_df[g]==1, 'covered'].mean()\n",
    "    for g in subgroups\n",
    "}"
   ]
  },
  {
   "cell_type": "code",
   "execution_count": 56,
   "id": "1e348fb1-b9c3-45bc-ba23-f016827a7e0d",
   "metadata": {
    "execution": {
     "iopub.execute_input": "2025-08-05T16:04:39.573148Z",
     "iopub.status.busy": "2025-08-05T16:04:39.572479Z",
     "iopub.status.idle": "2025-08-05T16:04:39.580603Z",
     "shell.execute_reply": "2025-08-05T16:04:39.579407Z"
    },
    "papermill": {
     "duration": 0.03172,
     "end_time": "2025-08-05T16:04:39.582525",
     "exception": false,
     "start_time": "2025-08-05T16:04:39.550805",
     "status": "completed"
    },
    "tags": []
   },
   "outputs": [
    {
     "data": {
      "text/plain": [
       "{'frau1': 0.9072381722604125,\n",
       " 'nongerman': 0.9060798293381238,\n",
       " 'nongerman_male': 0.9254255606592813,\n",
       " 'nongerman_female': 0.8740685543964233}"
      ]
     },
     "execution_count": 56,
     "metadata": {},
     "output_type": "execute_result"
    }
   ],
   "source": [
    "cond_coverage"
   ]
  },
  {
   "cell_type": "code",
   "execution_count": 57,
   "id": "f5093324-c3dd-4d63-bc4c-8d945e5c8bbb",
   "metadata": {
    "execution": {
     "iopub.execute_input": "2025-08-05T16:04:39.625249Z",
     "iopub.status.busy": "2025-08-05T16:04:39.624496Z",
     "iopub.status.idle": "2025-08-05T16:04:39.631885Z",
     "shell.execute_reply": "2025-08-05T16:04:39.630950Z"
    },
    "papermill": {
     "duration": 0.029317,
     "end_time": "2025-08-05T16:04:39.633649",
     "exception": false,
     "start_time": "2025-08-05T16:04:39.604332",
     "status": "completed"
    },
    "tags": []
   },
   "outputs": [],
   "source": [
    "for subgroup, cov in cond_coverage.items():\n",
    "    cp_metrics_df[f\"cov_{subgroup}\"] = cov"
   ]
  },
  {
   "cell_type": "code",
   "execution_count": 58,
   "id": "6e872e10-dbe5-49e8-b554-5030c98ff75d",
   "metadata": {
    "execution": {
     "iopub.execute_input": "2025-08-05T16:04:39.677135Z",
     "iopub.status.busy": "2025-08-05T16:04:39.676278Z",
     "iopub.status.idle": "2025-08-05T16:04:39.696423Z",
     "shell.execute_reply": "2025-08-05T16:04:39.695173Z"
    },
    "papermill": {
     "duration": 0.043496,
     "end_time": "2025-08-05T16:04:39.698369",
     "exception": false,
     "start_time": "2025-08-05T16:04:39.654873",
     "status": "completed"
    },
    "tags": []
   },
   "outputs": [
    {
     "data": {
      "text/html": [
       "<div>\n",
       "<style scoped>\n",
       "    .dataframe tbody tr th:only-of-type {\n",
       "        vertical-align: middle;\n",
       "    }\n",
       "\n",
       "    .dataframe tbody tr th {\n",
       "        vertical-align: top;\n",
       "    }\n",
       "\n",
       "    .dataframe thead th {\n",
       "        text-align: right;\n",
       "    }\n",
       "</style>\n",
       "<table border=\"1\" class=\"dataframe\">\n",
       "  <thead>\n",
       "    <tr style=\"text-align: right;\">\n",
       "      <th></th>\n",
       "      <th>universe_id</th>\n",
       "      <th>universe_training_year</th>\n",
       "      <th>universe_training_size</th>\n",
       "      <th>universe_scale</th>\n",
       "      <th>universe_model</th>\n",
       "      <th>universe_exclude_features</th>\n",
       "      <th>universe_exclude_subgroups</th>\n",
       "      <th>q_hat</th>\n",
       "      <th>coverage</th>\n",
       "      <th>avg_size</th>\n",
       "      <th>cov_frau1</th>\n",
       "      <th>cov_nongerman</th>\n",
       "      <th>cov_nongerman_male</th>\n",
       "      <th>cov_nongerman_female</th>\n",
       "    </tr>\n",
       "  </thead>\n",
       "  <tbody>\n",
       "    <tr>\n",
       "      <th>0</th>\n",
       "      <td>b19f628709127abedf7a5755799427e9</td>\n",
       "      <td>2014</td>\n",
       "      <td>1k</td>\n",
       "      <td>scale</td>\n",
       "      <td>rf</td>\n",
       "      <td>none</td>\n",
       "      <td>drop-non-german</td>\n",
       "      <td>0.66</td>\n",
       "      <td>0.91195</td>\n",
       "      <td>1.139483</td>\n",
       "      <td>0.907238</td>\n",
       "      <td>0.90608</td>\n",
       "      <td>0.925426</td>\n",
       "      <td>0.874069</td>\n",
       "    </tr>\n",
       "  </tbody>\n",
       "</table>\n",
       "</div>"
      ],
      "text/plain": [
       "                        universe_id universe_training_year  \\\n",
       "0  b19f628709127abedf7a5755799427e9                   2014   \n",
       "\n",
       "  universe_training_size universe_scale universe_model  \\\n",
       "0                     1k          scale             rf   \n",
       "\n",
       "  universe_exclude_features universe_exclude_subgroups  q_hat  coverage  \\\n",
       "0                      none            drop-non-german   0.66   0.91195   \n",
       "\n",
       "   avg_size  cov_frau1  cov_nongerman  cov_nongerman_male  \\\n",
       "0  1.139483   0.907238        0.90608            0.925426   \n",
       "\n",
       "   cov_nongerman_female  \n",
       "0              0.874069  "
      ]
     },
     "execution_count": 58,
     "metadata": {},
     "output_type": "execute_result"
    }
   ],
   "source": [
    "cp_metrics_df"
   ]
  },
  {
   "cell_type": "markdown",
   "id": "33774451",
   "metadata": {
    "papermill": {
     "duration": 0.020945,
     "end_time": "2025-08-05T16:04:39.742119",
     "exception": false,
     "start_time": "2025-08-05T16:04:39.721174",
     "status": "completed"
    },
    "tags": []
   },
   "source": [
    "# (Fairness) Metrics"
   ]
  },
  {
   "cell_type": "code",
   "execution_count": 59,
   "id": "debc5d62",
   "metadata": {
    "execution": {
     "iopub.execute_input": "2025-08-05T16:04:39.788062Z",
     "iopub.status.busy": "2025-08-05T16:04:39.787168Z",
     "iopub.status.idle": "2025-08-05T16:04:39.809613Z",
     "shell.execute_reply": "2025-08-05T16:04:39.808621Z"
    },
    "papermill": {
     "duration": 0.047005,
     "end_time": "2025-08-05T16:04:39.811616",
     "exception": false,
     "start_time": "2025-08-05T16:04:39.764611",
     "status": "completed"
    },
    "tags": []
   },
   "outputs": [],
   "source": [
    "# do I need to include maxdeutsch1.missing?\n",
    "\n",
    "import numpy as np\n",
    "\n",
    "colname_to_bin = \"maxdeutsch1\"\n",
    "majority_value = org_train[colname_to_bin].mode()[0]\n",
    "\n",
    "org_test[\"majmin\"] = np.where(org_test[colname_to_bin] == majority_value, \"majority\", \"minority\")"
   ]
  },
  {
   "cell_type": "code",
   "execution_count": 60,
   "id": "06a50de5",
   "metadata": {
    "execution": {
     "iopub.execute_input": "2025-08-05T16:04:39.860995Z",
     "iopub.status.busy": "2025-08-05T16:04:39.860168Z",
     "iopub.status.idle": "2025-08-05T16:04:42.747369Z",
     "shell.execute_reply": "2025-08-05T16:04:42.746279Z"
    },
    "papermill": {
     "duration": 2.914432,
     "end_time": "2025-08-05T16:04:42.749404",
     "exception": false,
     "start_time": "2025-08-05T16:04:39.834972",
     "status": "completed"
    },
    "tags": []
   },
   "outputs": [],
   "source": [
    "example_universe = universe.copy()\n",
    "example_universe[\"cutoff\"] = example_universe[\"cutoff\"][0]\n",
    "example_universe[\"eval_fairness_grouping\"] = example_universe[\"eval_fairness_grouping\"][0]\n",
    "fairness_dict, metric_frame = universe_analysis.compute_metrics(\n",
    "    example_universe,\n",
    "    y_pred_prob=probs_test,\n",
    "    y_test=y_true,\n",
    "    org_test=org_test,\n",
    ")"
   ]
  },
  {
   "cell_type": "markdown",
   "id": "f95d4e02",
   "metadata": {
    "papermill": {
     "duration": 0.024386,
     "end_time": "2025-08-05T16:04:42.803363",
     "exception": false,
     "start_time": "2025-08-05T16:04:42.778977",
     "status": "completed"
    },
    "tags": []
   },
   "source": [
    "# Overall"
   ]
  },
  {
   "cell_type": "markdown",
   "id": "bdee4871",
   "metadata": {
    "papermill": {
     "duration": 0.025626,
     "end_time": "2025-08-05T16:04:42.853135",
     "exception": false,
     "start_time": "2025-08-05T16:04:42.827509",
     "status": "completed"
    },
    "tags": []
   },
   "source": [
    "Fairness\n",
    "Main fairness target: Equalized Odds. Seems to be a better fit than equal opportunity, since we're not only interested in Y = 1. Seems to be a better fit than demographic parity, since we also care about accuracy, not just equal distribution of preds.\n",
    "\n",
    "Pick column for computation of fairness metrics\n",
    "\n",
    "Performance\n",
    "Overall performance measures, most interesting in relation to the measures split by group below"
   ]
  },
  {
   "cell_type": "code",
   "execution_count": 61,
   "id": "c4e067c6",
   "metadata": {
    "execution": {
     "iopub.execute_input": "2025-08-05T16:04:42.901062Z",
     "iopub.status.busy": "2025-08-05T16:04:42.900555Z",
     "iopub.status.idle": "2025-08-05T16:04:42.911339Z",
     "shell.execute_reply": "2025-08-05T16:04:42.910095Z"
    },
    "papermill": {
     "duration": 0.036414,
     "end_time": "2025-08-05T16:04:42.913324",
     "exception": false,
     "start_time": "2025-08-05T16:04:42.876910",
     "status": "completed"
    },
    "tags": []
   },
   "outputs": [
    {
     "data": {
      "text/plain": [
       "accuracy                   0.200011\n",
       "balanced accuracy          0.533621\n",
       "f1                         0.239571\n",
       "precision                  0.136420\n",
       "false positive rate        0.915117\n",
       "false negative rate        0.017640\n",
       "selection rate             0.923743\n",
       "count                  89710.000000\n",
       "dtype: float64"
      ]
     },
     "execution_count": 61,
     "metadata": {},
     "output_type": "execute_result"
    }
   ],
   "source": [
    "metric_frame.overall"
   ]
  },
  {
   "cell_type": "markdown",
   "id": "e968fe9d",
   "metadata": {
    "papermill": {
     "duration": 0.025439,
     "end_time": "2025-08-05T16:04:42.964237",
     "exception": false,
     "start_time": "2025-08-05T16:04:42.938798",
     "status": "completed"
    },
    "tags": []
   },
   "source": [
    "By Group"
   ]
  },
  {
   "cell_type": "code",
   "execution_count": 62,
   "id": "ec325bce",
   "metadata": {
    "execution": {
     "iopub.execute_input": "2025-08-05T16:04:43.014008Z",
     "iopub.status.busy": "2025-08-05T16:04:43.013390Z",
     "iopub.status.idle": "2025-08-05T16:04:43.029634Z",
     "shell.execute_reply": "2025-08-05T16:04:43.028798Z"
    },
    "papermill": {
     "duration": 0.042969,
     "end_time": "2025-08-05T16:04:43.031175",
     "exception": false,
     "start_time": "2025-08-05T16:04:42.988206",
     "status": "completed"
    },
    "tags": []
   },
   "outputs": [
    {
     "data": {
      "text/html": [
       "<div>\n",
       "<style scoped>\n",
       "    .dataframe tbody tr th:only-of-type {\n",
       "        vertical-align: middle;\n",
       "    }\n",
       "\n",
       "    .dataframe tbody tr th {\n",
       "        vertical-align: top;\n",
       "    }\n",
       "\n",
       "    .dataframe thead th {\n",
       "        text-align: right;\n",
       "    }\n",
       "</style>\n",
       "<table border=\"1\" class=\"dataframe\">\n",
       "  <thead>\n",
       "    <tr style=\"text-align: right;\">\n",
       "      <th></th>\n",
       "      <th>accuracy</th>\n",
       "      <th>balanced accuracy</th>\n",
       "      <th>f1</th>\n",
       "      <th>precision</th>\n",
       "      <th>false positive rate</th>\n",
       "      <th>false negative rate</th>\n",
       "      <th>selection rate</th>\n",
       "      <th>count</th>\n",
       "    </tr>\n",
       "    <tr>\n",
       "      <th>majmin</th>\n",
       "      <th></th>\n",
       "      <th></th>\n",
       "      <th></th>\n",
       "      <th></th>\n",
       "      <th></th>\n",
       "      <th></th>\n",
       "      <th></th>\n",
       "      <th></th>\n",
       "    </tr>\n",
       "  </thead>\n",
       "  <tbody>\n",
       "    <tr>\n",
       "      <th>majority</th>\n",
       "      <td>0.207344</td>\n",
       "      <td>0.537531</td>\n",
       "      <td>0.247468</td>\n",
       "      <td>0.141483</td>\n",
       "      <td>0.911261</td>\n",
       "      <td>0.013676</td>\n",
       "      <td>0.921180</td>\n",
       "      <td>69170.0</td>\n",
       "    </tr>\n",
       "    <tr>\n",
       "      <th>minority</th>\n",
       "      <td>0.175316</td>\n",
       "      <td>0.519602</td>\n",
       "      <td>0.212835</td>\n",
       "      <td>0.119576</td>\n",
       "      <td>0.927856</td>\n",
       "      <td>0.032939</td>\n",
       "      <td>0.932376</td>\n",
       "      <td>20540.0</td>\n",
       "    </tr>\n",
       "  </tbody>\n",
       "</table>\n",
       "</div>"
      ],
      "text/plain": [
       "          accuracy  balanced accuracy        f1  precision  \\\n",
       "majmin                                                       \n",
       "majority  0.207344           0.537531  0.247468   0.141483   \n",
       "minority  0.175316           0.519602  0.212835   0.119576   \n",
       "\n",
       "          false positive rate  false negative rate  selection rate    count  \n",
       "majmin                                                                       \n",
       "majority             0.911261             0.013676        0.921180  69170.0  \n",
       "minority             0.927856             0.032939        0.932376  20540.0  "
      ]
     },
     "execution_count": 62,
     "metadata": {},
     "output_type": "execute_result"
    }
   ],
   "source": [
    "metric_frame.by_group"
   ]
  },
  {
   "cell_type": "code",
   "execution_count": 63,
   "id": "a9ddbe63",
   "metadata": {
    "execution": {
     "iopub.execute_input": "2025-08-05T16:04:43.065504Z",
     "iopub.status.busy": "2025-08-05T16:04:43.064580Z",
     "iopub.status.idle": "2025-08-05T16:04:45.213911Z",
     "shell.execute_reply": "2025-08-05T16:04:45.212899Z"
    },
    "papermill": {
     "duration": 2.171023,
     "end_time": "2025-08-05T16:04:45.215645",
     "exception": false,
     "start_time": "2025-08-05T16:04:43.044622",
     "status": "completed"
    },
    "tags": []
   },
   "outputs": [
    {
     "data": {
      "text/plain": [
       "array([[<Axes: title={'center': 'accuracy'}, xlabel='majmin'>,\n",
       "        <Axes: title={'center': 'balanced accuracy'}, xlabel='majmin'>,\n",
       "        <Axes: title={'center': 'f1'}, xlabel='majmin'>],\n",
       "       [<Axes: title={'center': 'precision'}, xlabel='majmin'>,\n",
       "        <Axes: title={'center': 'false positive rate'}, xlabel='majmin'>,\n",
       "        <Axes: title={'center': 'false negative rate'}, xlabel='majmin'>],\n",
       "       [<Axes: title={'center': 'selection rate'}, xlabel='majmin'>,\n",
       "        <Axes: title={'center': 'count'}, xlabel='majmin'>,\n",
       "        <Axes: xlabel='majmin'>]], dtype=object)"
      ]
     },
     "execution_count": 63,
     "metadata": {},
     "output_type": "execute_result"
    },
    {
     "data": {
      "image/png": "[encoded data removed]",
      "text/plain": [
       "<Figure size 1200x800 with 9 Axes>"
      ]
     },
     "metadata": {},
     "output_type": "display_data"
    }
   ],
   "source": [
    "# In a graphic\n",
    "metric_frame.by_group.plot.bar(\n",
    "    subplots=True,\n",
    "    layout=[3, 3],\n",
    "    legend=False,\n",
    "    figsize=[12, 8],\n",
    "    title=\"Show all metrics\",\n",
    ")"
   ]
  },
  {
   "cell_type": "markdown",
   "id": "f57a0bac",
   "metadata": {
    "papermill": {
     "duration": 0.023158,
     "end_time": "2025-08-05T16:04:45.261910",
     "exception": false,
     "start_time": "2025-08-05T16:04:45.238752",
     "status": "completed"
    },
    "tags": []
   },
   "source": [
    "# Final Output"
   ]
  },
  {
   "cell_type": "code",
   "execution_count": 64,
   "id": "96d280a3",
   "metadata": {
    "execution": {
     "iopub.execute_input": "2025-08-05T16:04:45.309789Z",
     "iopub.status.busy": "2025-08-05T16:04:45.308960Z",
     "iopub.status.idle": "2025-08-05T16:04:45.317433Z",
     "shell.execute_reply": "2025-08-05T16:04:45.316416Z"
    },
    "papermill": {
     "duration": 0.035245,
     "end_time": "2025-08-05T16:04:45.319011",
     "exception": false,
     "start_time": "2025-08-05T16:04:45.283766",
     "status": "completed"
    },
    "tags": []
   },
   "outputs": [
    {
     "data": {
      "text/plain": [
       "4"
      ]
     },
     "execution_count": 64,
     "metadata": {},
     "output_type": "execute_result"
    }
   ],
   "source": [
    "sub_universes = universe_analysis.generate_sub_universes()\n",
    "len(sub_universes)"
   ]
  },
  {
   "cell_type": "code",
   "execution_count": 65,
   "id": "92adf7ba",
   "metadata": {
    "execution": {
     "iopub.execute_input": "2025-08-05T16:04:45.370697Z",
     "iopub.status.busy": "2025-08-05T16:04:45.370077Z",
     "iopub.status.idle": "2025-08-05T16:04:45.376497Z",
     "shell.execute_reply": "2025-08-05T16:04:45.375599Z"
    },
    "papermill": {
     "duration": 0.036854,
     "end_time": "2025-08-05T16:04:45.378173",
     "exception": false,
     "start_time": "2025-08-05T16:04:45.341319",
     "status": "completed"
    },
    "tags": []
   },
   "outputs": [],
   "source": [
    "def filter_sub_universe_data(sub_universe, org_test):\n",
    "    # Keep all rows — no filtering\n",
    "    keep_rows_mask = np.ones(org_test.shape[0], dtype=bool)\n",
    "\n",
    "    print(f\"[INFO] Keeping all rows: {keep_rows_mask.sum()} rows retained.\")\n",
    "    return keep_rows_mask"
   ]
  },
  {
   "cell_type": "code",
   "execution_count": 66,
   "id": "4a759155",
   "metadata": {
    "execution": {
     "iopub.execute_input": "2025-08-05T16:04:45.431581Z",
     "iopub.status.busy": "2025-08-05T16:04:45.430739Z",
     "iopub.status.idle": "2025-08-05T16:04:55.930936Z",
     "shell.execute_reply": "2025-08-05T16:04:55.929959Z"
    },
    "papermill": {
     "duration": 10.526969,
     "end_time": "2025-08-05T16:04:55.932595",
     "exception": false,
     "start_time": "2025-08-05T16:04:45.405626",
     "status": "completed"
    },
    "tags": []
   },
   "outputs": [
    {
     "name": "stdout",
     "output_type": "stream",
     "text": [
      "Stopping execution_time clock.\n",
      "[INFO] Keeping all rows: 89710 rows retained.\n"
     ]
    },
    {
     "name": "stdout",
     "output_type": "stream",
     "text": [
      "[INFO] Keeping all rows: 89710 rows retained.\n"
     ]
    },
    {
     "name": "stdout",
     "output_type": "stream",
     "text": [
      "[INFO] Keeping all rows: 89710 rows retained.\n"
     ]
    },
    {
     "name": "stdout",
     "output_type": "stream",
     "text": [
      "[INFO] Keeping all rows: 89710 rows retained.\n"
     ]
    },
    {
     "data": {
      "text/html": [
       "<div>\n",
       "<style scoped>\n",
       "    .dataframe tbody tr th:only-of-type {\n",
       "        vertical-align: middle;\n",
       "    }\n",
       "\n",
       "    .dataframe tbody tr th {\n",
       "        vertical-align: top;\n",
       "    }\n",
       "\n",
       "    .dataframe thead th {\n",
       "        text-align: right;\n",
       "    }\n",
       "</style>\n",
       "<table border=\"1\" class=\"dataframe\">\n",
       "  <thead>\n",
       "    <tr style=\"text-align: right;\">\n",
       "      <th></th>\n",
       "      <th>run_no</th>\n",
       "      <th>universe_id</th>\n",
       "      <th>universe_settings</th>\n",
       "      <th>execution_time</th>\n",
       "      <th>test_size_n</th>\n",
       "      <th>test_size_frac</th>\n",
       "      <th>fair_main_equalized_odds_difference</th>\n",
       "      <th>fair_main_equalized_odds_ratio</th>\n",
       "      <th>fair_main_demographic_parity_difference</th>\n",
       "      <th>fair_main_demographic_parity_ratio</th>\n",
       "      <th>...</th>\n",
       "      <th>perf_grp_precision_0</th>\n",
       "      <th>perf_grp_precision_1</th>\n",
       "      <th>perf_grp_false positive rate_0</th>\n",
       "      <th>perf_grp_false positive rate_1</th>\n",
       "      <th>perf_grp_false negative rate_0</th>\n",
       "      <th>perf_grp_false negative rate_1</th>\n",
       "      <th>perf_grp_selection rate_0</th>\n",
       "      <th>perf_grp_selection rate_1</th>\n",
       "      <th>perf_grp_count_0</th>\n",
       "      <th>perf_grp_count_1</th>\n",
       "    </tr>\n",
       "  </thead>\n",
       "  <tbody>\n",
       "    <tr>\n",
       "      <th>0</th>\n",
       "      <td>15</td>\n",
       "      <td>b19f628709127abedf7a5755799427e9</td>\n",
       "      <td>{\"cutoff\": \"quantile_0.1\", \"eval_fairness_grou...</td>\n",
       "      <td>28.664999</td>\n",
       "      <td>89710</td>\n",
       "      <td>1.0</td>\n",
       "      <td>0.019263</td>\n",
       "      <td>0.980470</td>\n",
       "      <td>0.011196</td>\n",
       "      <td>0.987992</td>\n",
       "      <td>...</td>\n",
       "      <td>NaN</td>\n",
       "      <td>NaN</td>\n",
       "      <td>NaN</td>\n",
       "      <td>NaN</td>\n",
       "      <td>NaN</td>\n",
       "      <td>NaN</td>\n",
       "      <td>NaN</td>\n",
       "      <td>NaN</td>\n",
       "      <td>NaN</td>\n",
       "      <td>NaN</td>\n",
       "    </tr>\n",
       "    <tr>\n",
       "      <th>0</th>\n",
       "      <td>15</td>\n",
       "      <td>b19f628709127abedf7a5755799427e9</td>\n",
       "      <td>{\"cutoff\": \"quantile_0.1\", \"eval_fairness_grou...</td>\n",
       "      <td>28.664999</td>\n",
       "      <td>89710</td>\n",
       "      <td>1.0</td>\n",
       "      <td>0.019263</td>\n",
       "      <td>0.980470</td>\n",
       "      <td>0.011196</td>\n",
       "      <td>0.987992</td>\n",
       "      <td>...</td>\n",
       "      <td>0.119576</td>\n",
       "      <td>0.141483</td>\n",
       "      <td>0.927856</td>\n",
       "      <td>0.911261</td>\n",
       "      <td>0.032939</td>\n",
       "      <td>0.013676</td>\n",
       "      <td>0.932376</td>\n",
       "      <td>0.921180</td>\n",
       "      <td>20540.0</td>\n",
       "      <td>69170.0</td>\n",
       "    </tr>\n",
       "    <tr>\n",
       "      <th>0</th>\n",
       "      <td>15</td>\n",
       "      <td>b19f628709127abedf7a5755799427e9</td>\n",
       "      <td>{\"cutoff\": \"quantile_0.25\", \"eval_fairness_gro...</td>\n",
       "      <td>28.664999</td>\n",
       "      <td>89710</td>\n",
       "      <td>1.0</td>\n",
       "      <td>0.045272</td>\n",
       "      <td>0.951952</td>\n",
       "      <td>0.023210</td>\n",
       "      <td>0.970432</td>\n",
       "      <td>...</td>\n",
       "      <td>NaN</td>\n",
       "      <td>NaN</td>\n",
       "      <td>NaN</td>\n",
       "      <td>NaN</td>\n",
       "      <td>NaN</td>\n",
       "      <td>NaN</td>\n",
       "      <td>NaN</td>\n",
       "      <td>NaN</td>\n",
       "      <td>NaN</td>\n",
       "      <td>NaN</td>\n",
       "    </tr>\n",
       "    <tr>\n",
       "      <th>0</th>\n",
       "      <td>15</td>\n",
       "      <td>b19f628709127abedf7a5755799427e9</td>\n",
       "      <td>{\"cutoff\": \"quantile_0.25\", \"eval_fairness_gro...</td>\n",
       "      <td>28.664999</td>\n",
       "      <td>89710</td>\n",
       "      <td>1.0</td>\n",
       "      <td>0.045272</td>\n",
       "      <td>0.951952</td>\n",
       "      <td>0.023210</td>\n",
       "      <td>0.970432</td>\n",
       "      <td>...</td>\n",
       "      <td>0.131737</td>\n",
       "      <td>0.163447</td>\n",
       "      <td>0.770361</td>\n",
       "      <td>0.734266</td>\n",
       "      <td>0.103041</td>\n",
       "      <td>0.057768</td>\n",
       "      <td>0.784956</td>\n",
       "      <td>0.761746</td>\n",
       "      <td>20540.0</td>\n",
       "      <td>69170.0</td>\n",
       "    </tr>\n",
       "  </tbody>\n",
       "</table>\n",
       "<p>4 rows × 50 columns</p>\n",
       "</div>"
      ],
      "text/plain": [
       "  run_no                       universe_id  \\\n",
       "0     15  b19f628709127abedf7a5755799427e9   \n",
       "0     15  b19f628709127abedf7a5755799427e9   \n",
       "0     15  b19f628709127abedf7a5755799427e9   \n",
       "0     15  b19f628709127abedf7a5755799427e9   \n",
       "\n",
       "                                   universe_settings  execution_time  \\\n",
       "0  {\"cutoff\": \"quantile_0.1\", \"eval_fairness_grou...       28.664999   \n",
       "0  {\"cutoff\": \"quantile_0.1\", \"eval_fairness_grou...       28.664999   \n",
       "0  {\"cutoff\": \"quantile_0.25\", \"eval_fairness_gro...       28.664999   \n",
       "0  {\"cutoff\": \"quantile_0.25\", \"eval_fairness_gro...       28.664999   \n",
       "\n",
       "   test_size_n  test_size_frac  fair_main_equalized_odds_difference  \\\n",
       "0        89710             1.0                             0.019263   \n",
       "0        89710             1.0                             0.019263   \n",
       "0        89710             1.0                             0.045272   \n",
       "0        89710             1.0                             0.045272   \n",
       "\n",
       "   fair_main_equalized_odds_ratio  fair_main_demographic_parity_difference  \\\n",
       "0                        0.980470                                 0.011196   \n",
       "0                        0.980470                                 0.011196   \n",
       "0                        0.951952                                 0.023210   \n",
       "0                        0.951952                                 0.023210   \n",
       "\n",
       "   fair_main_demographic_parity_ratio  ...  perf_grp_precision_0  \\\n",
       "0                            0.987992  ...                   NaN   \n",
       "0                            0.987992  ...              0.119576   \n",
       "0                            0.970432  ...                   NaN   \n",
       "0                            0.970432  ...              0.131737   \n",
       "\n",
       "   perf_grp_precision_1  perf_grp_false positive rate_0  \\\n",
       "0                   NaN                             NaN   \n",
       "0              0.141483                        0.927856   \n",
       "0                   NaN                             NaN   \n",
       "0              0.163447                        0.770361   \n",
       "\n",
       "   perf_grp_false positive rate_1  perf_grp_false negative rate_0  \\\n",
       "0                             NaN                             NaN   \n",
       "0                        0.911261                        0.032939   \n",
       "0                             NaN                             NaN   \n",
       "0                        0.734266                        0.103041   \n",
       "\n",
       "   perf_grp_false negative rate_1  perf_grp_selection rate_0  \\\n",
       "0                             NaN                        NaN   \n",
       "0                        0.013676                   0.932376   \n",
       "0                             NaN                        NaN   \n",
       "0                        0.057768                   0.784956   \n",
       "\n",
       "   perf_grp_selection rate_1  perf_grp_count_0  perf_grp_count_1  \n",
       "0                        NaN               NaN               NaN  \n",
       "0                   0.921180           20540.0           69170.0  \n",
       "0                        NaN               NaN               NaN  \n",
       "0                   0.761746           20540.0           69170.0  \n",
       "\n",
       "[4 rows x 50 columns]"
      ]
     },
     "execution_count": 66,
     "metadata": {},
     "output_type": "execute_result"
    }
   ],
   "source": [
    "final_output = universe_analysis.generate_final_output(\n",
    "    y_pred_prob=probs_test,\n",
    "    y_test=y_true,\n",
    "    org_test=org_test,\n",
    "    filter_data=filter_sub_universe_data,\n",
    "    cp_metrics_df=cp_metrics_df,\n",
    "    save=True,\n",
    ")\n",
    "final_output"
   ]
  }
 ],
 "metadata": {
  "celltoolbar": "Tags",
  "kernelspec": {
   "display_name": "Python (CMA Fairness)",
   "language": "python",
   "name": "cma_fair_env"
  },
  "language_info": {
   "codemirror_mode": {
    "name": "ipython",
    "version": 3
   },
   "file_extension": ".py",
   "mimetype": "text/x-python",
   "name": "python",
   "nbconvert_exporter": "python",
   "pygments_lexer": "ipython3",
   "version": "3.10.12"
  },
  "papermill": {
   "default_parameters": {},
   "duration": 42.693713,
   "end_time": "2025-08-05T16:04:56.779183",
   "environment_variables": {},
   "exception": null,
   "input_path": "universe_analysis.ipynb",
   "output_path": "output/runs/15/notebooks/m_15-b19f628709127abedf7a5755799427e9.ipynb",
   "parameters": {
    "output_dir": "output",
    "run_no": "15",
    "seed": "2023",
    "universe": "{\"cutoff\": [\"quantile_0.1\", \"quantile_0.25\"], \"eval_fairness_grouping\": [\"majority-minority\", \"nationality-all\"], \"exclude_features\": \"none\", \"exclude_subgroups\": \"drop-non-german\", \"model\": \"rf\", \"scale\": \"scale\", \"training_size\": \"1k\", \"training_year\": \"2014\"}",
    "universe_id": "b19f628709127abedf7a5755799427e9"
   },
   "start_time": "2025-08-05T16:04:14.085470",
   "version": "2.6.0"
  }
 },
 "nbformat": 4,
 "nbformat_minor": 5
}