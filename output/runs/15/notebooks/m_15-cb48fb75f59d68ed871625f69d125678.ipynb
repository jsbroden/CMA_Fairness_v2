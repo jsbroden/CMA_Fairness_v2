{
 "cells": [
  {
   "cell_type": "code",
   "execution_count": 1,
   "id": "f159f837-637b-42ba-96b5-ec9a68c44524",
   "metadata": {
    "execution": {
     "iopub.execute_input": "2025-08-05T16:17:30.492717Z",
     "iopub.status.busy": "2025-08-05T16:17:30.492149Z",
     "iopub.status.idle": "2025-08-05T16:17:30.504198Z",
     "shell.execute_reply": "2025-08-05T16:17:30.503153Z"
    },
    "papermill": {
     "duration": 0.02597,
     "end_time": "2025-08-05T16:17:30.505743",
     "exception": false,
     "start_time": "2025-08-05T16:17:30.479773",
     "status": "completed"
    },
    "tags": []
   },
   "outputs": [
    {
     "name": "stdout",
     "output_type": "stream",
     "text": [
      "/dss/dsshome1/0C/ra93lal2/cma/CMA_Fairness_v2\n"
     ]
    },
    {
     "name": "stderr",
     "output_type": "stream",
     "text": [
      "/dss/dsshome1/0C/ra93lal2/.local/share/virtualenvs/CMA_Fairness_v2-3j10GkSs/lib/python3.10/site-packages/IPython/core/magics/osm.py:393: UserWarning: This is now an optional IPython functionality, using bookmarks requires you to install the `pickleshare` library.\n",
      "  bkms = self.shell.db.get('bookmarks', {})\n",
      "/dss/dsshome1/0C/ra93lal2/.local/share/virtualenvs/CMA_Fairness_v2-3j10GkSs/lib/python3.10/site-packages/IPython/core/magics/osm.py:417: UserWarning: This is now an optional IPython functionality, setting dhist requires you to install the `pickleshare` library.\n",
      "  self.shell.db['dhist'] = compress_dhist(dhist)[-100:]\n"
     ]
    }
   ],
   "source": [
    "%cd ~/cma/CMA_Fairness_v2"
   ]
  },
  {
   "cell_type": "markdown",
   "id": "de2603b9",
   "metadata": {
    "papermill": {
     "duration": 0.010043,
     "end_time": "2025-08-05T16:17:30.530383",
     "exception": false,
     "start_time": "2025-08-05T16:17:30.520340",
     "status": "completed"
    },
    "tags": []
   },
   "source": [
    "The following cell holds the definition of our parameters, these values can be overriden by rendering the with e.g. the following command:\n",
    "\n",
    "papermill -p alpha 0.2 -p ratio 0.3 universe_analysis.ipynb output/test_run.ipynb"
   ]
  },
  {
   "cell_type": "code",
   "execution_count": 2,
   "id": "a80968a0-40bb-4fa9-85ef-2d5eefb01975",
   "metadata": {
    "execution": {
     "iopub.execute_input": "2025-08-05T16:17:30.552646Z",
     "iopub.status.busy": "2025-08-05T16:17:30.552135Z",
     "iopub.status.idle": "2025-08-05T16:17:30.557023Z",
     "shell.execute_reply": "2025-08-05T16:17:30.556055Z"
    },
    "papermill": {
     "duration": 0.01737,
     "end_time": "2025-08-05T16:17:30.558565",
     "exception": false,
     "start_time": "2025-08-05T16:17:30.541195",
     "status": "completed"
    },
    "tags": []
   },
   "outputs": [
    {
     "name": "stdout",
     "output_type": "stream",
     "text": [
      "Current working directory: /dss/dsshome1/0C/ra93lal2/cma/CMA_Fairness_v2\n"
     ]
    }
   ],
   "source": [
    "import os\n",
    "print(\"Current working directory:\", os.getcwd())"
   ]
  },
  {
   "cell_type": "code",
   "execution_count": 3,
   "id": "2dce4c03",
   "metadata": {
    "execution": {
     "iopub.execute_input": "2025-08-05T16:17:30.580918Z",
     "iopub.status.busy": "2025-08-05T16:17:30.580516Z",
     "iopub.status.idle": "2025-08-05T16:17:30.587202Z",
     "shell.execute_reply": "2025-08-05T16:17:30.586278Z"
    },
    "papermill": {
     "duration": 0.01956,
     "end_time": "2025-08-05T16:17:30.588597",
     "exception": false,
     "start_time": "2025-08-05T16:17:30.569037",
     "status": "completed"
    },
    "tags": [
     "parameters"
    ]
   },
   "outputs": [],
   "source": [
    "run_no = 0\n",
    "universe_id = \"test\"\n",
    "universe = {\n",
    "    \"training_size\": \"25k\", # \"25k\", \"5k\", \"1k\"\n",
    "    \"training_year\": \"2014\", # \"2014\", \"2012_14\", \"2010_14\"\n",
    "    \"scale\": \"scale\", # \"scale\", \"do-not-scale\",\n",
    "    \"model\": \"elasticnet\", # \"logreg\", \"penalized_logreg\", \"rf\", \"gbm\", \"elasticnet\"\n",
    "    \"cutoff\": [\"quantile_0.15\", \"quantile_0.30\"],\n",
    "    \"exclude_features\": \"age\", # \"none\", \"nationality\", \"sex\", \"nationality-sex\", \"age\"\n",
    "    \"exclude_subgroups\": \"keep-all\", # \"keep-all\", \"drop-non-german\"\n",
    "    \"eval_fairness_grouping\": [\"majority-minority\", \"nationality-all\"]\n",
    "}\n",
    "\n",
    "output_dir=\"./output\"\n",
    "seed=0"
   ]
  },
  {
   "cell_type": "code",
   "execution_count": 4,
   "id": "a3e20cc6",
   "metadata": {
    "execution": {
     "iopub.execute_input": "2025-08-05T16:17:30.610959Z",
     "iopub.status.busy": "2025-08-05T16:17:30.610564Z",
     "iopub.status.idle": "2025-08-05T16:17:30.615970Z",
     "shell.execute_reply": "2025-08-05T16:17:30.615078Z"
    },
    "papermill": {
     "duration": 0.018037,
     "end_time": "2025-08-05T16:17:30.617382",
     "exception": false,
     "start_time": "2025-08-05T16:17:30.599345",
     "status": "completed"
    },
    "tags": [
     "injected-parameters"
    ]
   },
   "outputs": [],
   "source": [
    "# Parameters\n",
    "universe_id = \"cb48fb75f59d68ed871625f69d125678\"\n",
    "run_no = \"15\"\n",
    "universe = \"{\\\"cutoff\\\": [\\\"quantile_0.1\\\", \\\"quantile_0.25\\\"], \\\"eval_fairness_grouping\\\": [\\\"majority-minority\\\", \\\"nationality-all\\\"], \\\"exclude_features\\\": \\\"sex\\\", \\\"exclude_subgroups\\\": \\\"keep-all\\\", \\\"model\\\": \\\"penalized_logreg\\\", \\\"scale\\\": \\\"scale\\\", \\\"training_size\\\": \\\"1k\\\", \\\"training_year\\\": \\\"2012_14\\\"}\"\n",
    "output_dir = \"output\"\n",
    "seed = \"2023\"\n"
   ]
  },
  {
   "cell_type": "code",
   "execution_count": 5,
   "id": "1650acaf",
   "metadata": {
    "execution": {
     "iopub.execute_input": "2025-08-05T16:17:30.639855Z",
     "iopub.status.busy": "2025-08-05T16:17:30.639351Z",
     "iopub.status.idle": "2025-08-05T16:17:30.643954Z",
     "shell.execute_reply": "2025-08-05T16:17:30.642997Z"
    },
    "papermill": {
     "duration": 0.017472,
     "end_time": "2025-08-05T16:17:30.645533",
     "exception": false,
     "start_time": "2025-08-05T16:17:30.628061",
     "status": "completed"
    },
    "tags": []
   },
   "outputs": [],
   "source": [
    "import json\n",
    "if isinstance(universe, str):\n",
    "    universe = json.loads(universe)"
   ]
  },
  {
   "cell_type": "code",
   "execution_count": 6,
   "id": "16620c48",
   "metadata": {
    "execution": {
     "iopub.execute_input": "2025-08-05T16:17:30.669149Z",
     "iopub.status.busy": "2025-08-05T16:17:30.668587Z",
     "iopub.status.idle": "2025-08-05T16:17:30.702918Z",
     "shell.execute_reply": "2025-08-05T16:17:30.702039Z"
    },
    "papermill": {
     "duration": 0.047436,
     "end_time": "2025-08-05T16:17:30.704586",
     "exception": false,
     "start_time": "2025-08-05T16:17:30.657150",
     "status": "completed"
    },
    "tags": []
   },
   "outputs": [],
   "source": [
    "# Auto-reload the custom package\n",
    "%load_ext autoreload\n",
    "%autoreload 1\n",
    "%aimport fairness_multiverse"
   ]
  },
  {
   "cell_type": "code",
   "execution_count": 7,
   "id": "01c5c9f3",
   "metadata": {
    "execution": {
     "iopub.execute_input": "2025-08-05T16:17:30.728676Z",
     "iopub.status.busy": "2025-08-05T16:17:30.728276Z",
     "iopub.status.idle": "2025-08-05T16:17:32.832240Z",
     "shell.execute_reply": "2025-08-05T16:17:32.831299Z"
    },
    "papermill": {
     "duration": 2.117775,
     "end_time": "2025-08-05T16:17:32.833971",
     "exception": false,
     "start_time": "2025-08-05T16:17:30.716196",
     "status": "completed"
    },
    "tags": []
   },
   "outputs": [],
   "source": [
    "from fairness_multiverse.universe import UniverseAnalysis\n",
    "\n",
    "universe_analysis = UniverseAnalysis(\n",
    "    run_no = run_no,\n",
    "    universe_id = universe_id,\n",
    "    universe = universe,\n",
    "    output_dir=output_dir,\n",
    ")"
   ]
  },
  {
   "cell_type": "code",
   "execution_count": 8,
   "id": "106241f5",
   "metadata": {
    "execution": {
     "iopub.execute_input": "2025-08-05T16:17:32.857997Z",
     "iopub.status.busy": "2025-08-05T16:17:32.857164Z",
     "iopub.status.idle": "2025-08-05T16:17:32.863607Z",
     "shell.execute_reply": "2025-08-05T16:17:32.862569Z"
    },
    "papermill": {
     "duration": 0.019577,
     "end_time": "2025-08-05T16:17:32.865389",
     "exception": false,
     "start_time": "2025-08-05T16:17:32.845812",
     "status": "completed"
    },
    "tags": []
   },
   "outputs": [
    {
     "name": "stdout",
     "output_type": "stream",
     "text": [
      "Using Seed: 2023\n"
     ]
    }
   ],
   "source": [
    "import numpy as np\n",
    "parsed_seed = int(seed)\n",
    "np.random.seed(parsed_seed)\n",
    "print(f\"Using Seed: {parsed_seed}\")"
   ]
  },
  {
   "cell_type": "markdown",
   "id": "e0ebdc57",
   "metadata": {
    "papermill": {
     "duration": 0.010539,
     "end_time": "2025-08-05T16:17:32.886786",
     "exception": false,
     "start_time": "2025-08-05T16:17:32.876247",
     "status": "completed"
    },
    "tags": []
   },
   "source": [
    "# Loading Data"
   ]
  },
  {
   "cell_type": "code",
   "execution_count": 9,
   "id": "f0496b8a",
   "metadata": {
    "execution": {
     "iopub.execute_input": "2025-08-05T16:17:32.909249Z",
     "iopub.status.busy": "2025-08-05T16:17:32.908692Z",
     "iopub.status.idle": "2025-08-05T16:17:43.156675Z",
     "shell.execute_reply": "2025-08-05T16:17:43.155594Z"
    },
    "papermill": {
     "duration": 10.260861,
     "end_time": "2025-08-05T16:17:43.158349",
     "exception": false,
     "start_time": "2025-08-05T16:17:32.897488",
     "status": "completed"
    },
    "tags": []
   },
   "outputs": [
    {
     "name": "stdout",
     "output_type": "stream",
     "text": [
      "Loading SIAB data from cache: data/siab_cached.csv.gz\n"
     ]
    },
    {
     "name": "stdout",
     "output_type": "stream",
     "text": [
      "(643690, 164)\n"
     ]
    }
   ],
   "source": [
    "from pathlib import Path\n",
    "import pandas as pd\n",
    "\n",
    "# File paths\n",
    "raw_file = Path(\"data/raw/siab.csv\")\n",
    "cache_file = Path(\"data/siab_cached.csv.gz\")\n",
    "\n",
    "# Ensure cache directory exists\n",
    "cache_file.parent.mkdir(parents=True, exist_ok=True)\n",
    "\n",
    "# Load with simple caching\n",
    "if cache_file.exists():\n",
    "    print(f\"Loading SIAB data from cache: {cache_file}\")\n",
    "    siab = pd.read_csv(cache_file, compression='gzip')\n",
    "else:\n",
    "    print(f\"Cache not found. Reading raw SIAB data: {raw_file}\")\n",
    "    siab = pd.read_csv(raw_file)\n",
    "    siab.to_csv(cache_file, index=False, compression='gzip')\n",
    "    print(f\"Cached SIAB data to: {cache_file}\")\n",
    "\n",
    "print(siab.shape)"
   ]
  },
  {
   "cell_type": "code",
   "execution_count": 10,
   "id": "db0ca512-5f53-4dba-abdb-a2888bca41ba",
   "metadata": {
    "execution": {
     "iopub.execute_input": "2025-08-05T16:17:43.183786Z",
     "iopub.status.busy": "2025-08-05T16:17:43.182677Z",
     "iopub.status.idle": "2025-08-05T16:17:43.189353Z",
     "shell.execute_reply": "2025-08-05T16:17:43.188242Z"
    },
    "papermill": {
     "duration": 0.020905,
     "end_time": "2025-08-05T16:17:43.190983",
     "exception": false,
     "start_time": "2025-08-05T16:17:43.170078",
     "status": "completed"
    },
    "tags": []
   },
   "outputs": [],
   "source": [
    "#siab"
   ]
  },
  {
   "cell_type": "markdown",
   "id": "997051c5-15bd-4b69-9786-c3001a3ce484",
   "metadata": {
    "papermill": {
     "duration": 0.010859,
     "end_time": "2025-08-05T16:17:43.213043",
     "exception": false,
     "start_time": "2025-08-05T16:17:43.202184",
     "status": "completed"
    },
    "tags": []
   },
   "source": [
    "# Splitting Data and Setting Training Data Size"
   ]
  },
  {
   "cell_type": "code",
   "execution_count": 11,
   "id": "aea9c6ef-6f46-42c8-85eb-5a62025c1508",
   "metadata": {
    "execution": {
     "iopub.execute_input": "2025-08-05T16:17:43.237888Z",
     "iopub.status.busy": "2025-08-05T16:17:43.237192Z",
     "iopub.status.idle": "2025-08-05T16:17:43.806606Z",
     "shell.execute_reply": "2025-08-05T16:17:43.805730Z"
    },
    "papermill": {
     "duration": 0.584521,
     "end_time": "2025-08-05T16:17:43.808309",
     "exception": false,
     "start_time": "2025-08-05T16:17:43.223788",
     "status": "completed"
    },
    "tags": []
   },
   "outputs": [],
   "source": [
    "from fairness_multiverse.universe import sample_by_year_size\n",
    "\n",
    "siab_train = sample_by_year_size(siab,\n",
    "                               training_year=universe[\"training_year\"],\n",
    "                               training_size=universe[\"training_size\"])"
   ]
  },
  {
   "cell_type": "code",
   "execution_count": 12,
   "id": "8d3afb32-789d-442c-8d5d-9f5aa8dd2eed",
   "metadata": {
    "execution": {
     "iopub.execute_input": "2025-08-05T16:17:43.832390Z",
     "iopub.status.busy": "2025-08-05T16:17:43.831769Z",
     "iopub.status.idle": "2025-08-05T16:17:43.836706Z",
     "shell.execute_reply": "2025-08-05T16:17:43.835686Z"
    },
    "papermill": {
     "duration": 0.017959,
     "end_time": "2025-08-05T16:17:43.838107",
     "exception": false,
     "start_time": "2025-08-05T16:17:43.820148",
     "status": "completed"
    },
    "tags": []
   },
   "outputs": [],
   "source": [
    "#siab_train.shape"
   ]
  },
  {
   "cell_type": "code",
   "execution_count": 13,
   "id": "d582db68-1a4c-47fb-84fc-08518dc1975a",
   "metadata": {
    "execution": {
     "iopub.execute_input": "2025-08-05T16:17:43.861247Z",
     "iopub.status.busy": "2025-08-05T16:17:43.860867Z",
     "iopub.status.idle": "2025-08-05T16:17:43.866095Z",
     "shell.execute_reply": "2025-08-05T16:17:43.865140Z"
    },
    "papermill": {
     "duration": 0.018505,
     "end_time": "2025-08-05T16:17:43.867629",
     "exception": false,
     "start_time": "2025-08-05T16:17:43.849124",
     "status": "completed"
    },
    "tags": []
   },
   "outputs": [],
   "source": [
    "#display(siab_train.groupby(\"year\").size())"
   ]
  },
  {
   "cell_type": "code",
   "execution_count": 14,
   "id": "a561edb4-d032-42cb-8256-22eac1111c64",
   "metadata": {
    "execution": {
     "iopub.execute_input": "2025-08-05T16:17:43.905763Z",
     "iopub.status.busy": "2025-08-05T16:17:43.905219Z",
     "iopub.status.idle": "2025-08-05T16:17:44.140500Z",
     "shell.execute_reply": "2025-08-05T16:17:44.139622Z"
    },
    "papermill": {
     "duration": 0.259317,
     "end_time": "2025-08-05T16:17:44.142820",
     "exception": false,
     "start_time": "2025-08-05T16:17:43.883503",
     "status": "completed"
    },
    "tags": []
   },
   "outputs": [],
   "source": [
    "#siab_train = siab_s[siab_s.year < 2015]\n",
    "siab_calib = siab[siab.year == 2015]\n",
    "siab_test = siab[siab.year == 2016]"
   ]
  },
  {
   "cell_type": "code",
   "execution_count": 15,
   "id": "472de16f-c3db-4916-846b-1f0de9cf1746",
   "metadata": {
    "execution": {
     "iopub.execute_input": "2025-08-05T16:17:44.195375Z",
     "iopub.status.busy": "2025-08-05T16:17:44.194424Z",
     "iopub.status.idle": "2025-08-05T16:17:44.202062Z",
     "shell.execute_reply": "2025-08-05T16:17:44.201038Z"
    },
    "papermill": {
     "duration": 0.031504,
     "end_time": "2025-08-05T16:17:44.204038",
     "exception": false,
     "start_time": "2025-08-05T16:17:44.172534",
     "status": "completed"
    },
    "tags": []
   },
   "outputs": [],
   "source": [
    "X_train = siab_train.iloc[:,4:164]\n",
    "y_train = siab_train.iloc[:, [3]]"
   ]
  },
  {
   "cell_type": "code",
   "execution_count": 16,
   "id": "828c96af-f43a-4ed6-ba47-8ac73a47d56c",
   "metadata": {
    "execution": {
     "iopub.execute_input": "2025-08-05T16:17:44.249194Z",
     "iopub.status.busy": "2025-08-05T16:17:44.248719Z",
     "iopub.status.idle": "2025-08-05T16:17:44.308151Z",
     "shell.execute_reply": "2025-08-05T16:17:44.306749Z"
    },
    "papermill": {
     "duration": 0.084339,
     "end_time": "2025-08-05T16:17:44.310190",
     "exception": false,
     "start_time": "2025-08-05T16:17:44.225851",
     "status": "completed"
    },
    "tags": []
   },
   "outputs": [],
   "source": [
    "X_calib = siab_calib.iloc[:,4:164]\n",
    "y_calib = siab_calib.iloc[:, [3]]"
   ]
  },
  {
   "cell_type": "code",
   "execution_count": 17,
   "id": "c34be9c3-6bd6-476e-acd3-845840e303be",
   "metadata": {
    "execution": {
     "iopub.execute_input": "2025-08-05T16:17:44.353041Z",
     "iopub.status.busy": "2025-08-05T16:17:44.352407Z",
     "iopub.status.idle": "2025-08-05T16:17:44.412024Z",
     "shell.execute_reply": "2025-08-05T16:17:44.410775Z"
    },
    "papermill": {
     "duration": 0.083401,
     "end_time": "2025-08-05T16:17:44.414153",
     "exception": false,
     "start_time": "2025-08-05T16:17:44.330752",
     "status": "completed"
    },
    "tags": []
   },
   "outputs": [],
   "source": [
    "X_test = siab_test.iloc[:,4:164]\n",
    "y_true = siab_test.iloc[:, [3]]"
   ]
  },
  {
   "cell_type": "code",
   "execution_count": 18,
   "id": "e6c733c5",
   "metadata": {
    "execution": {
     "iopub.execute_input": "2025-08-05T16:17:44.461880Z",
     "iopub.status.busy": "2025-08-05T16:17:44.460822Z",
     "iopub.status.idle": "2025-08-05T16:17:44.567133Z",
     "shell.execute_reply": "2025-08-05T16:17:44.565938Z"
    },
    "papermill": {
     "duration": 0.132756,
     "end_time": "2025-08-05T16:17:44.570185",
     "exception": false,
     "start_time": "2025-08-05T16:17:44.437429",
     "status": "completed"
    },
    "tags": []
   },
   "outputs": [],
   "source": [
    "# Auxiliary data needed downstream in the pipeline\n",
    "\n",
    "org_train = X_train.copy()\n",
    "org_test = X_test.copy()\n",
    "org_calib = X_calib.copy()"
   ]
  },
  {
   "cell_type": "markdown",
   "id": "0a4a1b33",
   "metadata": {
    "papermill": {
     "duration": 0.021954,
     "end_time": "2025-08-05T16:17:44.615404",
     "exception": false,
     "start_time": "2025-08-05T16:17:44.593450",
     "status": "completed"
    },
    "tags": []
   },
   "source": [
    "# Preprocessing Data"
   ]
  },
  {
   "cell_type": "code",
   "execution_count": 19,
   "id": "ca879031",
   "metadata": {
    "execution": {
     "iopub.execute_input": "2025-08-05T16:17:44.660518Z",
     "iopub.status.busy": "2025-08-05T16:17:44.659481Z",
     "iopub.status.idle": "2025-08-05T16:17:44.667373Z",
     "shell.execute_reply": "2025-08-05T16:17:44.666197Z"
    },
    "papermill": {
     "duration": 0.033079,
     "end_time": "2025-08-05T16:17:44.669711",
     "exception": false,
     "start_time": "2025-08-05T16:17:44.636632",
     "status": "completed"
    },
    "tags": []
   },
   "outputs": [],
   "source": [
    "# EXCLUDE PROTECTED FEATURES\n",
    "# ----------------------\n",
    "# \"exclude_features\": \"none\", # \"nationality\", \"sex\", \"nationality-sex\"\n",
    "\n",
    "excluded_features = universe[\"exclude_features\"].split(\"-\") # split, e.g.: \"nationality-sex\" -> [\"nationality\", \"sex\"]\n",
    "excluded_features_dictionary = {\n",
    "    \"nationality\": [\"maxdeutsch1\", \"maxdeutsch.Missing.\"],\n",
    "    \"sex\": [\"frau1\"],\n",
    "    \"age\": [\"age\"],\n",
    "}"
   ]
  },
  {
   "cell_type": "code",
   "execution_count": 20,
   "id": "b745ac60",
   "metadata": {
    "execution": {
     "iopub.execute_input": "2025-08-05T16:17:44.715227Z",
     "iopub.status.busy": "2025-08-05T16:17:44.714731Z",
     "iopub.status.idle": "2025-08-05T16:17:44.721208Z",
     "shell.execute_reply": "2025-08-05T16:17:44.720062Z"
    },
    "papermill": {
     "duration": 0.031396,
     "end_time": "2025-08-05T16:17:44.723282",
     "exception": false,
     "start_time": "2025-08-05T16:17:44.691886",
     "status": "completed"
    },
    "tags": []
   },
   "outputs": [],
   "source": [
    "# Code nice names to column names\n",
    "\n",
    "excluded_features_columns = [\n",
    "    excluded_features_dictionary[f] for f in excluded_features if len(f) > 0 and f != \"none\"\n",
    "]"
   ]
  },
  {
   "cell_type": "code",
   "execution_count": 21,
   "id": "f84f73a2",
   "metadata": {
    "execution": {
     "iopub.execute_input": "2025-08-05T16:17:44.768166Z",
     "iopub.status.busy": "2025-08-05T16:17:44.767225Z",
     "iopub.status.idle": "2025-08-05T16:17:44.773683Z",
     "shell.execute_reply": "2025-08-05T16:17:44.772823Z"
    },
    "papermill": {
     "duration": 0.030296,
     "end_time": "2025-08-05T16:17:44.775246",
     "exception": false,
     "start_time": "2025-08-05T16:17:44.744950",
     "status": "completed"
    },
    "tags": []
   },
   "outputs": [],
   "source": [
    "from utils import flatten_once\n",
    "\n",
    "excluded_features_columns = flatten_once(excluded_features_columns)"
   ]
  },
  {
   "cell_type": "code",
   "execution_count": 22,
   "id": "884dea22",
   "metadata": {
    "execution": {
     "iopub.execute_input": "2025-08-05T16:17:44.799149Z",
     "iopub.status.busy": "2025-08-05T16:17:44.798544Z",
     "iopub.status.idle": "2025-08-05T16:17:44.805908Z",
     "shell.execute_reply": "2025-08-05T16:17:44.804870Z"
    },
    "papermill": {
     "duration": 0.020717,
     "end_time": "2025-08-05T16:17:44.807425",
     "exception": false,
     "start_time": "2025-08-05T16:17:44.786708",
     "status": "completed"
    },
    "tags": []
   },
   "outputs": [
    {
     "name": "stdout",
     "output_type": "stream",
     "text": [
      "Dropping features: ['frau1']\n"
     ]
    }
   ],
   "source": [
    "if len(excluded_features_columns) > 0:\n",
    "    print(f\"Dropping features: {excluded_features_columns}\")\n",
    "    X_train.drop(excluded_features_columns, axis=1, inplace=True)"
   ]
  },
  {
   "cell_type": "code",
   "execution_count": 23,
   "id": "95ab8b16",
   "metadata": {
    "execution": {
     "iopub.execute_input": "2025-08-05T16:17:44.831513Z",
     "iopub.status.busy": "2025-08-05T16:17:44.830945Z",
     "iopub.status.idle": "2025-08-05T16:17:44.884692Z",
     "shell.execute_reply": "2025-08-05T16:17:44.883758Z"
    },
    "papermill": {
     "duration": 0.067393,
     "end_time": "2025-08-05T16:17:44.886306",
     "exception": false,
     "start_time": "2025-08-05T16:17:44.818913",
     "status": "completed"
    },
    "tags": []
   },
   "outputs": [
    {
     "name": "stdout",
     "output_type": "stream",
     "text": [
      "Dropping features: ['frau1']\n"
     ]
    }
   ],
   "source": [
    "if len(excluded_features_columns) > 0:\n",
    "    print(f\"Dropping features: {excluded_features_columns}\")\n",
    "    X_test.drop(excluded_features_columns, axis=1, inplace=True)"
   ]
  },
  {
   "cell_type": "code",
   "execution_count": 24,
   "id": "1853aaf5-fb9f-46cb-a2b5-8ea4ae2237e4",
   "metadata": {
    "execution": {
     "iopub.execute_input": "2025-08-05T16:17:44.911816Z",
     "iopub.status.busy": "2025-08-05T16:17:44.911062Z",
     "iopub.status.idle": "2025-08-05T16:17:44.963269Z",
     "shell.execute_reply": "2025-08-05T16:17:44.961900Z"
    },
    "papermill": {
     "duration": 0.066437,
     "end_time": "2025-08-05T16:17:44.965308",
     "exception": false,
     "start_time": "2025-08-05T16:17:44.898871",
     "status": "completed"
    },
    "tags": []
   },
   "outputs": [
    {
     "name": "stdout",
     "output_type": "stream",
     "text": [
      "Dropping features: ['frau1']\n"
     ]
    }
   ],
   "source": [
    "if len(excluded_features_columns) > 0:\n",
    "    print(f\"Dropping features: {excluded_features_columns}\")\n",
    "    X_calib.drop(excluded_features_columns, axis=1, inplace=True)"
   ]
  },
  {
   "cell_type": "code",
   "execution_count": 25,
   "id": "76c4dc6d",
   "metadata": {
    "execution": {
     "iopub.execute_input": "2025-08-05T16:17:45.013576Z",
     "iopub.status.busy": "2025-08-05T16:17:45.012840Z",
     "iopub.status.idle": "2025-08-05T16:17:45.018953Z",
     "shell.execute_reply": "2025-08-05T16:17:45.017866Z"
    },
    "papermill": {
     "duration": 0.031771,
     "end_time": "2025-08-05T16:17:45.020888",
     "exception": false,
     "start_time": "2025-08-05T16:17:44.989117",
     "status": "completed"
    },
    "tags": []
   },
   "outputs": [],
   "source": [
    "# EXCLUDE CERTAIN SUBGROUPS\n",
    "# ----------------------\n",
    "\n",
    "mode = universe.get(\"exclude_subgroups\", \"keep-all\") \n",
    "# Fetches the exclude_subgroups setting from the universe dict.\n",
    "# Defaults to \"keep-all\" if the key is missing."
   ]
  },
  {
   "cell_type": "code",
   "execution_count": 26,
   "id": "21994072",
   "metadata": {
    "execution": {
     "iopub.execute_input": "2025-08-05T16:17:45.068066Z",
     "iopub.status.busy": "2025-08-05T16:17:45.067068Z",
     "iopub.status.idle": "2025-08-05T16:17:45.074919Z",
     "shell.execute_reply": "2025-08-05T16:17:45.073809Z"
    },
    "papermill": {
     "duration": 0.033259,
     "end_time": "2025-08-05T16:17:45.076927",
     "exception": false,
     "start_time": "2025-08-05T16:17:45.043668",
     "status": "completed"
    },
    "tags": []
   },
   "outputs": [],
   "source": [
    "if mode == \"keep-all\":\n",
    "    keep_mask = pd.Series(True, index=org_train.index)\n",
    "\n",
    "# org_train contains the original feature columns from features_org (in Simson)\n",
    "# features_org contains unprocessed features, for me X_train at beginning ???\n",
    "# For keep-all, creates a boolean Series (keep_mask) of all True, so no rows are removed.\n",
    "\n",
    "elif mode == \"drop-non-german\":\n",
    "    keep_mask = org_train[\"maxdeutsch1\"] == 1 # ??? what about missing values?\n",
    "\n",
    "else:\n",
    "    raise ValueError(f\"Unsupported mode for exclude_subgroups: {mode}\")"
   ]
  },
  {
   "cell_type": "code",
   "execution_count": 27,
   "id": "71651440",
   "metadata": {
    "execution": {
     "iopub.execute_input": "2025-08-05T16:17:45.124300Z",
     "iopub.status.busy": "2025-08-05T16:17:45.123329Z",
     "iopub.status.idle": "2025-08-05T16:17:45.131528Z",
     "shell.execute_reply": "2025-08-05T16:17:45.130314Z"
    },
    "papermill": {
     "duration": 0.033904,
     "end_time": "2025-08-05T16:17:45.133460",
     "exception": false,
     "start_time": "2025-08-05T16:17:45.099556",
     "status": "completed"
    },
    "tags": []
   },
   "outputs": [],
   "source": [
    "n_drop = (~keep_mask).sum() # Calculates how many rows are set to be dropped\n",
    "if n_drop > 0:\n",
    "    pct = n_drop / len(keep_mask) * 100\n",
    "    print(f\"Dropping {n_drop} rows ({pct:.2f}%) where mode='{mode}'\")"
   ]
  },
  {
   "cell_type": "code",
   "execution_count": 28,
   "id": "5fb8eee5",
   "metadata": {
    "execution": {
     "iopub.execute_input": "2025-08-05T16:17:45.180921Z",
     "iopub.status.busy": "2025-08-05T16:17:45.180064Z",
     "iopub.status.idle": "2025-08-05T16:17:45.187184Z",
     "shell.execute_reply": "2025-08-05T16:17:45.186278Z"
    },
    "papermill": {
     "duration": 0.032838,
     "end_time": "2025-08-05T16:17:45.188701",
     "exception": false,
     "start_time": "2025-08-05T16:17:45.155863",
     "status": "completed"
    },
    "tags": []
   },
   "outputs": [],
   "source": [
    "X_train = X_train[keep_mask]"
   ]
  },
  {
   "cell_type": "code",
   "execution_count": 29,
   "id": "b202bb3a",
   "metadata": {
    "execution": {
     "iopub.execute_input": "2025-08-05T16:17:45.213978Z",
     "iopub.status.busy": "2025-08-05T16:17:45.213354Z",
     "iopub.status.idle": "2025-08-05T16:17:45.218951Z",
     "shell.execute_reply": "2025-08-05T16:17:45.218166Z"
    },
    "papermill": {
     "duration": 0.019673,
     "end_time": "2025-08-05T16:17:45.220512",
     "exception": false,
     "start_time": "2025-08-05T16:17:45.200839",
     "status": "completed"
    },
    "tags": []
   },
   "outputs": [],
   "source": [
    "y_train = y_train[keep_mask]"
   ]
  },
  {
   "cell_type": "markdown",
   "id": "493e2ac3",
   "metadata": {
    "papermill": {
     "duration": 0.011764,
     "end_time": "2025-08-05T16:17:45.244128",
     "exception": false,
     "start_time": "2025-08-05T16:17:45.232364",
     "status": "completed"
    },
    "tags": []
   },
   "source": [
    "# Model Training"
   ]
  },
  {
   "cell_type": "code",
   "execution_count": 30,
   "id": "679e1268",
   "metadata": {
    "execution": {
     "iopub.execute_input": "2025-08-05T16:17:45.269164Z",
     "iopub.status.busy": "2025-08-05T16:17:45.268527Z",
     "iopub.status.idle": "2025-08-05T16:17:45.366491Z",
     "shell.execute_reply": "2025-08-05T16:17:45.365616Z"
    },
    "papermill": {
     "duration": 0.112171,
     "end_time": "2025-08-05T16:17:45.368114",
     "exception": false,
     "start_time": "2025-08-05T16:17:45.255943",
     "status": "completed"
    },
    "tags": []
   },
   "outputs": [],
   "source": [
    "from sklearn.linear_model import LogisticRegression\n",
    "from sklearn.ensemble import GradientBoostingClassifier, RandomForestClassifier\n",
    "\n",
    "if (universe[\"model\"] == \"logreg\"):\n",
    "    model = LogisticRegression() #penalty=\"none\", solver=\"newton-cg\", max_iter=1) # include random_state=19 ?\n",
    "elif (universe[\"model\"] == \"penalized_logreg\"):\n",
    "    model = LogisticRegression(penalty=\"l2\", C=0.1) #, solver=\"newton-cg\", max_iter=1)\n",
    "elif (universe[\"model\"] == \"rf\"):\n",
    "    model = RandomForestClassifier() # n_estimators=100, n_jobs=-1\n",
    "elif (universe[\"model\"] == \"gbm\"):\n",
    "    model = GradientBoostingClassifier()\n",
    "elif (universe[\"model\"] == \"elasticnet\"):\n",
    "    model = LogisticRegression(penalty = 'elasticnet', solver = 'saga', l1_ratio = 0.5) # max_iter=5000\n",
    "else:\n",
    "    raise \"Unsupported universe.model\""
   ]
  },
  {
   "cell_type": "code",
   "execution_count": 31,
   "id": "0cc8f744",
   "metadata": {
    "execution": {
     "iopub.execute_input": "2025-08-05T16:17:45.394328Z",
     "iopub.status.busy": "2025-08-05T16:17:45.393597Z",
     "iopub.status.idle": "2025-08-05T16:17:45.399674Z",
     "shell.execute_reply": "2025-08-05T16:17:45.398721Z"
    },
    "papermill": {
     "duration": 0.02021,
     "end_time": "2025-08-05T16:17:45.401148",
     "exception": false,
     "start_time": "2025-08-05T16:17:45.380938",
     "status": "completed"
    },
    "tags": []
   },
   "outputs": [],
   "source": [
    "import numpy as np\n",
    "from sklearn.pipeline import Pipeline\n",
    "from sklearn.preprocessing import StandardScaler\n",
    "\n",
    "model = Pipeline([\n",
    "    #(\"continuous_processor\", continuous_processor),\n",
    "    #(\"categorical_preprocessor\", categorical_preprocessor),\n",
    "    (\"scale\", StandardScaler() if universe[\"scale\"] == \"scale\" else None), \n",
    "    (\"model\", model),\n",
    "])"
   ]
  },
  {
   "cell_type": "code",
   "execution_count": 32,
   "id": "9442c04d",
   "metadata": {
    "execution": {
     "iopub.execute_input": "2025-08-05T16:17:45.426493Z",
     "iopub.status.busy": "2025-08-05T16:17:45.425886Z",
     "iopub.status.idle": "2025-08-05T16:17:45.468263Z",
     "shell.execute_reply": "2025-08-05T16:17:45.467290Z"
    },
    "papermill": {
     "duration": 0.05675,
     "end_time": "2025-08-05T16:17:45.470002",
     "exception": false,
     "start_time": "2025-08-05T16:17:45.413252",
     "status": "completed"
    },
    "tags": []
   },
   "outputs": [
    {
     "data": {
      "text/html": [
       "<style>#sk-container-id-1 {color: black;background-color: white;}#sk-container-id-1 pre{padding: 0;}#sk-container-id-1 div.sk-toggleable {background-color: white;}#sk-container-id-1 label.sk-toggleable__label {cursor: pointer;display: block;width: 100%;margin-bottom: 0;padding: 0.3em;box-sizing: border-box;text-align: center;}#sk-container-id-1 label.sk-toggleable__label-arrow:before {content: \"▸\";float: left;margin-right: 0.25em;color: #696969;}#sk-container-id-1 label.sk-toggleable__label-arrow:hover:before {color: black;}#sk-container-id-1 div.sk-estimator:hover label.sk-toggleable__label-arrow:before {color: black;}#sk-container-id-1 div.sk-toggleable__content {max-height: 0;max-width: 0;overflow: hidden;text-align: left;background-color: #f0f8ff;}#sk-container-id-1 div.sk-toggleable__content pre {margin: 0.2em;color: black;border-radius: 0.25em;background-color: #f0f8ff;}#sk-container-id-1 input.sk-toggleable__control:checked~div.sk-toggleable__content {max-height: 200px;max-width: 100%;overflow: auto;}#sk-container-id-1 input.sk-toggleable__control:checked~label.sk-toggleable__label-arrow:before {content: \"▾\";}#sk-container-id-1 div.sk-estimator input.sk-toggleable__control:checked~label.sk-toggleable__label {background-color: #d4ebff;}#sk-container-id-1 div.sk-label input.sk-toggleable__control:checked~label.sk-toggleable__label {background-color: #d4ebff;}#sk-container-id-1 input.sk-hidden--visually {border: 0;clip: rect(1px 1px 1px 1px);clip: rect(1px, 1px, 1px, 1px);height: 1px;margin: -1px;overflow: hidden;padding: 0;position: absolute;width: 1px;}#sk-container-id-1 div.sk-estimator {font-family: monospace;background-color: #f0f8ff;border: 1px dotted black;border-radius: 0.25em;box-sizing: border-box;margin-bottom: 0.5em;}#sk-container-id-1 div.sk-estimator:hover {background-color: #d4ebff;}#sk-container-id-1 div.sk-parallel-item::after {content: \"\";width: 100%;border-bottom: 1px solid gray;flex-grow: 1;}#sk-container-id-1 div.sk-label:hover label.sk-toggleable__label {background-color: #d4ebff;}#sk-container-id-1 div.sk-serial::before {content: \"\";position: absolute;border-left: 1px solid gray;box-sizing: border-box;top: 0;bottom: 0;left: 50%;z-index: 0;}#sk-container-id-1 div.sk-serial {display: flex;flex-direction: column;align-items: center;background-color: white;padding-right: 0.2em;padding-left: 0.2em;position: relative;}#sk-container-id-1 div.sk-item {position: relative;z-index: 1;}#sk-container-id-1 div.sk-parallel {display: flex;align-items: stretch;justify-content: center;background-color: white;position: relative;}#sk-container-id-1 div.sk-item::before, #sk-container-id-1 div.sk-parallel-item::before {content: \"\";position: absolute;border-left: 1px solid gray;box-sizing: border-box;top: 0;bottom: 0;left: 50%;z-index: -1;}#sk-container-id-1 div.sk-parallel-item {display: flex;flex-direction: column;z-index: 1;position: relative;background-color: white;}#sk-container-id-1 div.sk-parallel-item:first-child::after {align-self: flex-end;width: 50%;}#sk-container-id-1 div.sk-parallel-item:last-child::after {align-self: flex-start;width: 50%;}#sk-container-id-1 div.sk-parallel-item:only-child::after {width: 0;}#sk-container-id-1 div.sk-dashed-wrapped {border: 1px dashed gray;margin: 0 0.4em 0.5em 0.4em;box-sizing: border-box;padding-bottom: 0.4em;background-color: white;}#sk-container-id-1 div.sk-label label {font-family: monospace;font-weight: bold;display: inline-block;line-height: 1.2em;}#sk-container-id-1 div.sk-label-container {text-align: center;}#sk-container-id-1 div.sk-container {/* jupyter's `normalize.less` sets `[hidden] { display: none; }` but bootstrap.min.css set `[hidden] { display: none !important; }` so we also need the `!important` here to be able to override the default hidden behavior on the sphinx rendered scikit-learn.org. See: https://github.com/scikit-learn/scikit-learn/issues/21755 */display: inline-block !important;position: relative;}#sk-container-id-1 div.sk-text-repr-fallback {display: none;}</style><div id=\"sk-container-id-1\" class=\"sk-top-container\"><div class=\"sk-text-repr-fallback\"><pre>Pipeline(steps=[(&#x27;scale&#x27;, StandardScaler()),\n",
       "                (&#x27;model&#x27;, LogisticRegression(C=0.1))])</pre><b>In a Jupyter environment, please rerun this cell to show the HTML representation or trust the notebook. <br />On GitHub, the HTML representation is unable to render, please try loading this page with nbviewer.org.</b></div><div class=\"sk-container\" hidden><div class=\"sk-item sk-dashed-wrapped\"><div class=\"sk-label-container\"><div class=\"sk-label sk-toggleable\"><input class=\"sk-toggleable__control sk-hidden--visually\" id=\"sk-estimator-id-1\" type=\"checkbox\" ><label for=\"sk-estimator-id-1\" class=\"sk-toggleable__label sk-toggleable__label-arrow\">Pipeline</label><div class=\"sk-toggleable__content\"><pre>Pipeline(steps=[(&#x27;scale&#x27;, StandardScaler()),\n",
       "                (&#x27;model&#x27;, LogisticRegression(C=0.1))])</pre></div></div></div><div class=\"sk-serial\"><div class=\"sk-item\"><div class=\"sk-estimator sk-toggleable\"><input class=\"sk-toggleable__control sk-hidden--visually\" id=\"sk-estimator-id-2\" type=\"checkbox\" ><label for=\"sk-estimator-id-2\" class=\"sk-toggleable__label sk-toggleable__label-arrow\">StandardScaler</label><div class=\"sk-toggleable__content\"><pre>StandardScaler()</pre></div></div></div><div class=\"sk-item\"><div class=\"sk-estimator sk-toggleable\"><input class=\"sk-toggleable__control sk-hidden--visually\" id=\"sk-estimator-id-3\" type=\"checkbox\" ><label for=\"sk-estimator-id-3\" class=\"sk-toggleable__label sk-toggleable__label-arrow\">LogisticRegression</label><div class=\"sk-toggleable__content\"><pre>LogisticRegression(C=0.1)</pre></div></div></div></div></div></div></div>"
      ],
      "text/plain": [
       "Pipeline(steps=[('scale', StandardScaler()),\n",
       "                ('model', LogisticRegression(C=0.1))])"
      ]
     },
     "execution_count": 32,
     "metadata": {},
     "output_type": "execute_result"
    }
   ],
   "source": [
    "model.fit(X_train, y_train.values.ravel())"
   ]
  },
  {
   "cell_type": "code",
   "execution_count": 33,
   "id": "af59f8c0",
   "metadata": {
    "execution": {
     "iopub.execute_input": "2025-08-05T16:17:45.496054Z",
     "iopub.status.busy": "2025-08-05T16:17:45.495640Z",
     "iopub.status.idle": "2025-08-05T16:17:45.501593Z",
     "shell.execute_reply": "2025-08-05T16:17:45.500434Z"
    },
    "papermill": {
     "duration": 0.021019,
     "end_time": "2025-08-05T16:17:45.503736",
     "exception": false,
     "start_time": "2025-08-05T16:17:45.482717",
     "status": "completed"
    },
    "tags": []
   },
   "outputs": [],
   "source": [
    "from fairness_multiverse.universe import predict_w_threshold"
   ]
  },
  {
   "cell_type": "code",
   "execution_count": 34,
   "id": "a7cf2e16",
   "metadata": {
    "execution": {
     "iopub.execute_input": "2025-08-05T16:17:45.554197Z",
     "iopub.status.busy": "2025-08-05T16:17:45.553479Z",
     "iopub.status.idle": "2025-08-05T16:17:45.828327Z",
     "shell.execute_reply": "2025-08-05T16:17:45.827056Z"
    },
    "papermill": {
     "duration": 0.302435,
     "end_time": "2025-08-05T16:17:45.830583",
     "exception": false,
     "start_time": "2025-08-05T16:17:45.528148",
     "status": "completed"
    },
    "tags": []
   },
   "outputs": [
    {
     "data": {
      "text/plain": [
       "0.8412217144131089"
      ]
     },
     "execution_count": 34,
     "metadata": {},
     "output_type": "execute_result"
    }
   ],
   "source": [
    "probs_test = model.predict_proba(X_test)\n",
    "\n",
    "'''\n",
    "Below code returns a boolean array (or binary 0/1 array depending on how it’s used) where each element \n",
    "is True if the probability of class 1 is greater than or equal to the threshold, and False otherwise.\n",
    "'''\n",
    "y_pred_default = predict_w_threshold(probs_test, 0.5)\n",
    "\n",
    "from sklearn.metrics import accuracy_score\n",
    "\n",
    "# Naive prediction\n",
    "accuracy_score(y_true = y_true, y_pred = y_pred_default)"
   ]
  },
  {
   "cell_type": "code",
   "execution_count": 35,
   "id": "081964c3",
   "metadata": {
    "execution": {
     "iopub.execute_input": "2025-08-05T16:17:45.883154Z",
     "iopub.status.busy": "2025-08-05T16:17:45.882567Z",
     "iopub.status.idle": "2025-08-05T16:17:46.168220Z",
     "shell.execute_reply": "2025-08-05T16:17:46.166765Z"
    },
    "papermill": {
     "duration": 0.314236,
     "end_time": "2025-08-05T16:17:46.170420",
     "exception": false,
     "start_time": "2025-08-05T16:17:45.856184",
     "status": "completed"
    },
    "tags": []
   },
   "outputs": [
    {
     "data": {
      "text/plain": [
       "array([0, 0, 0, ..., 0, 0, 0])"
      ]
     },
     "execution_count": 35,
     "metadata": {},
     "output_type": "execute_result"
    }
   ],
   "source": [
    "model.predict(X_test)"
   ]
  },
  {
   "cell_type": "markdown",
   "id": "56c9705b",
   "metadata": {
    "papermill": {
     "duration": 0.025577,
     "end_time": "2025-08-05T16:17:46.222684",
     "exception": false,
     "start_time": "2025-08-05T16:17:46.197107",
     "status": "completed"
    },
    "tags": []
   },
   "source": [
    "# Conformal Prediction"
   ]
  },
  {
   "cell_type": "code",
   "execution_count": 36,
   "id": "160ec6ff",
   "metadata": {
    "execution": {
     "iopub.execute_input": "2025-08-05T16:17:46.274855Z",
     "iopub.status.busy": "2025-08-05T16:17:46.273776Z",
     "iopub.status.idle": "2025-08-05T16:17:46.281875Z",
     "shell.execute_reply": "2025-08-05T16:17:46.280489Z"
    },
    "papermill": {
     "duration": 0.037658,
     "end_time": "2025-08-05T16:17:46.283868",
     "exception": false,
     "start_time": "2025-08-05T16:17:46.246210",
     "status": "completed"
    },
    "tags": []
   },
   "outputs": [],
   "source": [
    "# Miscoverage level for conformal prediction (10% allowed error rate => 90% target coverage)\n",
    "alpha = 0.1"
   ]
  },
  {
   "cell_type": "code",
   "execution_count": 37,
   "id": "eadf4555-3dd3-440e-8e35-f82a4ad9f855",
   "metadata": {
    "execution": {
     "iopub.execute_input": "2025-08-05T16:17:46.332036Z",
     "iopub.status.busy": "2025-08-05T16:17:46.331132Z",
     "iopub.status.idle": "2025-08-05T16:17:46.535279Z",
     "shell.execute_reply": "2025-08-05T16:17:46.533853Z"
    },
    "papermill": {
     "duration": 0.228225,
     "end_time": "2025-08-05T16:17:46.538068",
     "exception": false,
     "start_time": "2025-08-05T16:17:46.309843",
     "status": "completed"
    },
    "tags": []
   },
   "outputs": [],
   "source": [
    "probs_calib = model.predict_proba(X_calib)"
   ]
  },
  {
   "cell_type": "code",
   "execution_count": 38,
   "id": "2ed93547-6d5d-4983-9b36-1ecb300da49a",
   "metadata": {
    "execution": {
     "iopub.execute_input": "2025-08-05T16:17:46.608683Z",
     "iopub.status.busy": "2025-08-05T16:17:46.608192Z",
     "iopub.status.idle": "2025-08-05T16:17:46.615713Z",
     "shell.execute_reply": "2025-08-05T16:17:46.614404Z"
    },
    "papermill": {
     "duration": 0.045845,
     "end_time": "2025-08-05T16:17:46.618419",
     "exception": false,
     "start_time": "2025-08-05T16:17:46.572574",
     "status": "completed"
    },
    "tags": []
   },
   "outputs": [],
   "source": [
    "y_calib = y_calib.values.ravel().astype(int)"
   ]
  },
  {
   "cell_type": "code",
   "execution_count": 39,
   "id": "65d1320d-f588-4b38-9072-62af1ae97f7d",
   "metadata": {
    "execution": {
     "iopub.execute_input": "2025-08-05T16:17:46.689241Z",
     "iopub.status.busy": "2025-08-05T16:17:46.688731Z",
     "iopub.status.idle": "2025-08-05T16:17:46.698542Z",
     "shell.execute_reply": "2025-08-05T16:17:46.697396Z"
    },
    "papermill": {
     "duration": 0.048154,
     "end_time": "2025-08-05T16:17:46.701024",
     "exception": false,
     "start_time": "2025-08-05T16:17:46.652870",
     "status": "completed"
    },
    "tags": []
   },
   "outputs": [],
   "source": [
    "from fairness_multiverse.conformal import compute_nc_scores\n",
    "\n",
    "# Compute nonconformity scores on calibration set (1 - probability of true class)\n",
    "nc_scores = compute_nc_scores(probs_calib, y_calib)"
   ]
  },
  {
   "cell_type": "code",
   "execution_count": 40,
   "id": "df3b8ca3-53b7-43d5-9667-7c85da7aeda2",
   "metadata": {
    "execution": {
     "iopub.execute_input": "2025-08-05T16:17:46.772417Z",
     "iopub.status.busy": "2025-08-05T16:17:46.771214Z",
     "iopub.status.idle": "2025-08-05T16:17:46.781303Z",
     "shell.execute_reply": "2025-08-05T16:17:46.780025Z"
    },
    "papermill": {
     "duration": 0.047928,
     "end_time": "2025-08-05T16:17:46.783428",
     "exception": false,
     "start_time": "2025-08-05T16:17:46.735500",
     "status": "completed"
    },
    "tags": []
   },
   "outputs": [],
   "source": [
    "from fairness_multiverse.conformal import find_threshold\n",
    "\n",
    "# Find conformal threshold q_hat for the given alpha (split conformal method)\n",
    "q_hat = find_threshold(nc_scores, alpha)"
   ]
  },
  {
   "cell_type": "code",
   "execution_count": 41,
   "id": "4d29e6c1-0ef6-4aa4-b8fe-4fe79b0d033a",
   "metadata": {
    "execution": {
     "iopub.execute_input": "2025-08-05T16:17:46.836091Z",
     "iopub.status.busy": "2025-08-05T16:17:46.834943Z",
     "iopub.status.idle": "2025-08-05T16:17:46.845819Z",
     "shell.execute_reply": "2025-08-05T16:17:46.844473Z"
    },
    "papermill": {
     "duration": 0.038824,
     "end_time": "2025-08-05T16:17:46.847762",
     "exception": false,
     "start_time": "2025-08-05T16:17:46.808938",
     "status": "completed"
    },
    "tags": []
   },
   "outputs": [
    {
     "data": {
      "text/plain": [
       "0.7508387796006593"
      ]
     },
     "execution_count": 41,
     "metadata": {},
     "output_type": "execute_result"
    }
   ],
   "source": [
    "q_hat"
   ]
  },
  {
   "cell_type": "code",
   "execution_count": 42,
   "id": "92460794-cdac-4be2-ba28-f28c0515a6fb",
   "metadata": {
    "execution": {
     "iopub.execute_input": "2025-08-05T16:17:46.900655Z",
     "iopub.status.busy": "2025-08-05T16:17:46.899896Z",
     "iopub.status.idle": "2025-08-05T16:17:47.953383Z",
     "shell.execute_reply": "2025-08-05T16:17:47.952167Z"
    },
    "papermill": {
     "duration": 1.082459,
     "end_time": "2025-08-05T16:17:47.955774",
     "exception": false,
     "start_time": "2025-08-05T16:17:46.873315",
     "status": "completed"
    },
    "tags": []
   },
   "outputs": [],
   "source": [
    "from fairness_multiverse.conformal import predict_conformal_sets\n",
    "\n",
    "# Generate prediction sets for each test example\n",
    "pred_sets = predict_conformal_sets(model, X_test, q_hat)"
   ]
  },
  {
   "cell_type": "code",
   "execution_count": 43,
   "id": "d90c9a65-e6db-4f5d-80cd-e68fb7e46829",
   "metadata": {
    "execution": {
     "iopub.execute_input": "2025-08-05T16:17:47.990378Z",
     "iopub.status.busy": "2025-08-05T16:17:47.989870Z",
     "iopub.status.idle": "2025-08-05T16:17:47.996678Z",
     "shell.execute_reply": "2025-08-05T16:17:47.995473Z"
    },
    "papermill": {
     "duration": 0.023614,
     "end_time": "2025-08-05T16:17:47.998786",
     "exception": false,
     "start_time": "2025-08-05T16:17:47.975172",
     "status": "completed"
    },
    "tags": []
   },
   "outputs": [],
   "source": [
    "y_true = y_true.squeeze()"
   ]
  },
  {
   "cell_type": "code",
   "execution_count": 44,
   "id": "3a58a54a-1e68-46b9-927a-df01f18aebc8",
   "metadata": {
    "execution": {
     "iopub.execute_input": "2025-08-05T16:17:48.052620Z",
     "iopub.status.busy": "2025-08-05T16:17:48.051661Z",
     "iopub.status.idle": "2025-08-05T16:17:49.175762Z",
     "shell.execute_reply": "2025-08-05T16:17:49.174550Z"
    },
    "papermill": {
     "duration": 1.153236,
     "end_time": "2025-08-05T16:17:49.178080",
     "exception": false,
     "start_time": "2025-08-05T16:17:48.024844",
     "status": "completed"
    },
    "tags": []
   },
   "outputs": [],
   "source": [
    "from fairness_multiverse.conformal import evaluate_sets\n",
    "\n",
    "# Evaluate coverage and average set size on test data\n",
    "metrics = evaluate_sets(pred_sets, y_true)"
   ]
  },
  {
   "cell_type": "markdown",
   "id": "2b569c12-9aaa-4c88-98c9-bbcd0cf3ebb8",
   "metadata": {
    "papermill": {
     "duration": 0.024371,
     "end_time": "2025-08-05T16:17:49.231159",
     "exception": false,
     "start_time": "2025-08-05T16:17:49.206788",
     "status": "completed"
    },
    "tags": []
   },
   "source": [
    "# CP Metrics"
   ]
  },
  {
   "cell_type": "code",
   "execution_count": 45,
   "id": "5ce0a5cb-201f-45a0-ade5-94c7f0bd6095",
   "metadata": {
    "execution": {
     "iopub.execute_input": "2025-08-05T16:17:49.280409Z",
     "iopub.status.busy": "2025-08-05T16:17:49.279809Z",
     "iopub.status.idle": "2025-08-05T16:17:49.287796Z",
     "shell.execute_reply": "2025-08-05T16:17:49.286679Z"
    },
    "papermill": {
     "duration": 0.035023,
     "end_time": "2025-08-05T16:17:49.289615",
     "exception": false,
     "start_time": "2025-08-05T16:17:49.254592",
     "status": "completed"
    },
    "tags": []
   },
   "outputs": [
    {
     "data": {
      "text/plain": [
       "{'coverage': 0.909831679857318, 'avg_size': 1.1952290714524578}"
      ]
     },
     "execution_count": 45,
     "metadata": {},
     "output_type": "execute_result"
    }
   ],
   "source": [
    "metrics"
   ]
  },
  {
   "cell_type": "code",
   "execution_count": 46,
   "id": "9b9a838d-31c9-430b-ae14-12baee460d17",
   "metadata": {
    "execution": {
     "iopub.execute_input": "2025-08-05T16:17:49.341290Z",
     "iopub.status.busy": "2025-08-05T16:17:49.340704Z",
     "iopub.status.idle": "2025-08-05T16:17:49.347872Z",
     "shell.execute_reply": "2025-08-05T16:17:49.346869Z"
    },
    "papermill": {
     "duration": 0.034298,
     "end_time": "2025-08-05T16:17:49.349682",
     "exception": false,
     "start_time": "2025-08-05T16:17:49.315384",
     "status": "completed"
    },
    "tags": []
   },
   "outputs": [],
   "source": [
    "example_universe = universe.copy()\n",
    "universe_training_year = example_universe.get(\"training_year\")\n",
    "universe_training_size = example_universe.get(\"training_size\")\n",
    "universe_scale = example_universe.get(\"scale\")\n",
    "universe_model = example_universe.get(\"model\")\n",
    "universe_exclude_features = example_universe.get(\"exclude_features\")\n",
    "universe_exclude_subgroups = example_universe.get(\"exclude_subgroups\")"
   ]
  },
  {
   "cell_type": "code",
   "execution_count": 47,
   "id": "f4b6a8ac-9dc0-4245-8a91-5b3b5999c4f9",
   "metadata": {
    "execution": {
     "iopub.execute_input": "2025-08-05T16:17:49.400141Z",
     "iopub.status.busy": "2025-08-05T16:17:49.398832Z",
     "iopub.status.idle": "2025-08-05T16:17:49.406758Z",
     "shell.execute_reply": "2025-08-05T16:17:49.405722Z"
    },
    "papermill": {
     "duration": 0.035469,
     "end_time": "2025-08-05T16:17:49.408739",
     "exception": false,
     "start_time": "2025-08-05T16:17:49.373270",
     "status": "completed"
    },
    "tags": []
   },
   "outputs": [],
   "source": [
    "cp_metrics_dict = {\n",
    "    \"universe_id\": [universe_id],\n",
    "    \"universe_training_year\": [universe_training_year],\n",
    "    \"universe_training_size\": [universe_training_size],\n",
    "    \"universe_scale\": [universe_scale],\n",
    "    \"universe_model\": [universe_model],\n",
    "    \"universe_exclude_features\": [universe_exclude_features],\n",
    "    \"universe_exclude_subgroups\": [universe_exclude_subgroups],\n",
    "    \"q_hat\": [q_hat],\n",
    "    \"coverage\": [metrics[\"coverage\"]],\n",
    "    \"avg_size\": [metrics[\"avg_size\"]],\n",
    "}"
   ]
  },
  {
   "cell_type": "code",
   "execution_count": 48,
   "id": "908acbb1-0371-4915-85ca-3fa520d2efe2",
   "metadata": {
    "execution": {
     "iopub.execute_input": "2025-08-05T16:17:49.461976Z",
     "iopub.status.busy": "2025-08-05T16:17:49.461238Z",
     "iopub.status.idle": "2025-08-05T16:17:49.470183Z",
     "shell.execute_reply": "2025-08-05T16:17:49.469075Z"
    },
    "papermill": {
     "duration": 0.039214,
     "end_time": "2025-08-05T16:17:49.472023",
     "exception": false,
     "start_time": "2025-08-05T16:17:49.432809",
     "status": "completed"
    },
    "tags": []
   },
   "outputs": [
    {
     "data": {
      "text/plain": [
       "{'universe_id': ['cb48fb75f59d68ed871625f69d125678'],\n",
       " 'universe_training_year': ['2012_14'],\n",
       " 'universe_training_size': ['1k'],\n",
       " 'universe_scale': ['scale'],\n",
       " 'universe_model': ['penalized_logreg'],\n",
       " 'universe_exclude_features': ['sex'],\n",
       " 'universe_exclude_subgroups': ['keep-all'],\n",
       " 'q_hat': [0.7508387796006593],\n",
       " 'coverage': [0.909831679857318],\n",
       " 'avg_size': [1.1952290714524578]}"
      ]
     },
     "execution_count": 48,
     "metadata": {},
     "output_type": "execute_result"
    }
   ],
   "source": [
    "cp_metrics_dict"
   ]
  },
  {
   "cell_type": "code",
   "execution_count": 49,
   "id": "33007efc-14e9-4ec6-97ac-56a455c82265",
   "metadata": {
    "execution": {
     "iopub.execute_input": "2025-08-05T16:17:49.521918Z",
     "iopub.status.busy": "2025-08-05T16:17:49.521381Z",
     "iopub.status.idle": "2025-08-05T16:17:49.528477Z",
     "shell.execute_reply": "2025-08-05T16:17:49.527221Z"
    },
    "papermill": {
     "duration": 0.034092,
     "end_time": "2025-08-05T16:17:49.530353",
     "exception": false,
     "start_time": "2025-08-05T16:17:49.496261",
     "status": "completed"
    },
    "tags": []
   },
   "outputs": [],
   "source": [
    "cp_metrics_df = pd.DataFrame(cp_metrics_dict)"
   ]
  },
  {
   "cell_type": "code",
   "execution_count": 50,
   "id": "db12611b-57b2-4910-b9d0-355adfd6e7bf",
   "metadata": {
    "execution": {
     "iopub.execute_input": "2025-08-05T16:17:49.584062Z",
     "iopub.status.busy": "2025-08-05T16:17:49.583521Z",
     "iopub.status.idle": "2025-08-05T16:17:49.604051Z",
     "shell.execute_reply": "2025-08-05T16:17:49.603026Z"
    },
    "papermill": {
     "duration": 0.049798,
     "end_time": "2025-08-05T16:17:49.605908",
     "exception": false,
     "start_time": "2025-08-05T16:17:49.556110",
     "status": "completed"
    },
    "tags": []
   },
   "outputs": [
    {
     "data": {
      "text/html": [
       "<div>\n",
       "<style scoped>\n",
       "    .dataframe tbody tr th:only-of-type {\n",
       "        vertical-align: middle;\n",
       "    }\n",
       "\n",
       "    .dataframe tbody tr th {\n",
       "        vertical-align: top;\n",
       "    }\n",
       "\n",
       "    .dataframe thead th {\n",
       "        text-align: right;\n",
       "    }\n",
       "</style>\n",
       "<table border=\"1\" class=\"dataframe\">\n",
       "  <thead>\n",
       "    <tr style=\"text-align: right;\">\n",
       "      <th></th>\n",
       "      <th>universe_id</th>\n",
       "      <th>universe_training_year</th>\n",
       "      <th>universe_training_size</th>\n",
       "      <th>universe_scale</th>\n",
       "      <th>universe_model</th>\n",
       "      <th>universe_exclude_features</th>\n",
       "      <th>universe_exclude_subgroups</th>\n",
       "      <th>q_hat</th>\n",
       "      <th>coverage</th>\n",
       "      <th>avg_size</th>\n",
       "    </tr>\n",
       "  </thead>\n",
       "  <tbody>\n",
       "    <tr>\n",
       "      <th>0</th>\n",
       "      <td>cb48fb75f59d68ed871625f69d125678</td>\n",
       "      <td>2012_14</td>\n",
       "      <td>1k</td>\n",
       "      <td>scale</td>\n",
       "      <td>penalized_logreg</td>\n",
       "      <td>sex</td>\n",
       "      <td>keep-all</td>\n",
       "      <td>0.750839</td>\n",
       "      <td>0.909832</td>\n",
       "      <td>1.195229</td>\n",
       "    </tr>\n",
       "  </tbody>\n",
       "</table>\n",
       "</div>"
      ],
      "text/plain": [
       "                        universe_id universe_training_year  \\\n",
       "0  cb48fb75f59d68ed871625f69d125678                2012_14   \n",
       "\n",
       "  universe_training_size universe_scale    universe_model  \\\n",
       "0                     1k          scale  penalized_logreg   \n",
       "\n",
       "  universe_exclude_features universe_exclude_subgroups     q_hat  coverage  \\\n",
       "0                       sex                   keep-all  0.750839  0.909832   \n",
       "\n",
       "   avg_size  \n",
       "0  1.195229  "
      ]
     },
     "execution_count": 50,
     "metadata": {},
     "output_type": "execute_result"
    }
   ],
   "source": [
    "cp_metrics_df"
   ]
  },
  {
   "cell_type": "code",
   "execution_count": 51,
   "id": "b7fbde55-a0a1-47e4-9af6-fe4a17fa8c61",
   "metadata": {
    "execution": {
     "iopub.execute_input": "2025-08-05T16:17:49.661313Z",
     "iopub.status.busy": "2025-08-05T16:17:49.660359Z",
     "iopub.status.idle": "2025-08-05T16:17:49.667559Z",
     "shell.execute_reply": "2025-08-05T16:17:49.666077Z"
    },
    "papermill": {
     "duration": 0.037031,
     "end_time": "2025-08-05T16:17:49.669695",
     "exception": false,
     "start_time": "2025-08-05T16:17:49.632664",
     "status": "completed"
    },
    "tags": []
   },
   "outputs": [],
   "source": [
    "# Conditional Coverage & looking at subgroups"
   ]
  },
  {
   "cell_type": "code",
   "execution_count": 52,
   "id": "027ae886-68dd-4141-96c7-805a5450e1ef",
   "metadata": {
    "execution": {
     "iopub.execute_input": "2025-08-05T16:17:49.725439Z",
     "iopub.status.busy": "2025-08-05T16:17:49.724481Z",
     "iopub.status.idle": "2025-08-05T16:17:49.989180Z",
     "shell.execute_reply": "2025-08-05T16:17:49.988208Z"
    },
    "papermill": {
     "duration": 0.295838,
     "end_time": "2025-08-05T16:17:49.991855",
     "exception": false,
     "start_time": "2025-08-05T16:17:49.696017",
     "status": "completed"
    },
    "tags": []
   },
   "outputs": [],
   "source": [
    "from fairness_multiverse.conformal import build_cp_groups\n",
    "\n",
    "cp_groups_df = build_cp_groups(pred_sets, y_true, X_test.index, org_test)\n",
    "#needs universe_id and setting"
   ]
  },
  {
   "cell_type": "code",
   "execution_count": 53,
   "id": "6cbdab96-b2b2-45af-ad54-d0516db2e28d",
   "metadata": {
    "execution": {
     "iopub.execute_input": "2025-08-05T16:17:50.049494Z",
     "iopub.status.busy": "2025-08-05T16:17:50.048975Z",
     "iopub.status.idle": "2025-08-05T16:17:52.107133Z",
     "shell.execute_reply": "2025-08-05T16:17:52.105876Z"
    },
    "papermill": {
     "duration": 2.091779,
     "end_time": "2025-08-05T16:17:52.109457",
     "exception": false,
     "start_time": "2025-08-05T16:17:50.017678",
     "status": "completed"
    },
    "tags": []
   },
   "outputs": [],
   "source": [
    "# Define covered = 1 if true_label is in the predicted set\n",
    "cp_groups_df['covered'] = cp_groups_df.apply(\n",
    "    lambda r: int(r['true_label'] in r['pred_set']),\n",
    "    axis=1\n",
    ")"
   ]
  },
  {
   "cell_type": "code",
   "execution_count": 54,
   "id": "338ff529-1a6b-4b87-a931-8e4788d52aad",
   "metadata": {
    "execution": {
     "iopub.execute_input": "2025-08-05T16:17:52.172972Z",
     "iopub.status.busy": "2025-08-05T16:17:52.171906Z",
     "iopub.status.idle": "2025-08-05T16:17:52.178082Z",
     "shell.execute_reply": "2025-08-05T16:17:52.176927Z"
    },
    "papermill": {
     "duration": 0.03958,
     "end_time": "2025-08-05T16:17:52.179990",
     "exception": false,
     "start_time": "2025-08-05T16:17:52.140410",
     "status": "completed"
    },
    "tags": []
   },
   "outputs": [],
   "source": [
    "#cp_groups_df"
   ]
  },
  {
   "cell_type": "code",
   "execution_count": 55,
   "id": "90032e27-66df-4540-9169-4e89cfbaa758",
   "metadata": {
    "execution": {
     "iopub.execute_input": "2025-08-05T16:17:52.235497Z",
     "iopub.status.busy": "2025-08-05T16:17:52.234484Z",
     "iopub.status.idle": "2025-08-05T16:17:52.247672Z",
     "shell.execute_reply": "2025-08-05T16:17:52.246600Z"
    },
    "papermill": {
     "duration": 0.043542,
     "end_time": "2025-08-05T16:17:52.249780",
     "exception": false,
     "start_time": "2025-08-05T16:17:52.206238",
     "status": "completed"
    },
    "tags": []
   },
   "outputs": [],
   "source": [
    "subgroups = ['frau1','nongerman','nongerman_male','nongerman_female']\n",
    "\n",
    "# Conditional coverage for subgroup==1\n",
    "cond_coverage = {\n",
    "    g: cp_groups_df.loc[cp_groups_df[g]==1, 'covered'].mean()\n",
    "    for g in subgroups\n",
    "}"
   ]
  },
  {
   "cell_type": "code",
   "execution_count": 56,
   "id": "1e348fb1-b9c3-45bc-ba23-f016827a7e0d",
   "metadata": {
    "execution": {
     "iopub.execute_input": "2025-08-05T16:17:52.313432Z",
     "iopub.status.busy": "2025-08-05T16:17:52.312638Z",
     "iopub.status.idle": "2025-08-05T16:17:52.321171Z",
     "shell.execute_reply": "2025-08-05T16:17:52.320005Z"
    },
    "papermill": {
     "duration": 0.041644,
     "end_time": "2025-08-05T16:17:52.323144",
     "exception": false,
     "start_time": "2025-08-05T16:17:52.281500",
     "status": "completed"
    },
    "tags": []
   },
   "outputs": [
    {
     "data": {
      "text/plain": [
       "{'frau1': 0.9058902817091252,\n",
       " 'nongerman': 0.9133778700948745,\n",
       " 'nongerman_male': 0.929478519319103,\n",
       " 'nongerman_female': 0.886736214605067}"
      ]
     },
     "execution_count": 56,
     "metadata": {},
     "output_type": "execute_result"
    }
   ],
   "source": [
    "cond_coverage"
   ]
  },
  {
   "cell_type": "code",
   "execution_count": 57,
   "id": "f5093324-c3dd-4d63-bc4c-8d945e5c8bbb",
   "metadata": {
    "execution": {
     "iopub.execute_input": "2025-08-05T16:17:52.388610Z",
     "iopub.status.busy": "2025-08-05T16:17:52.387513Z",
     "iopub.status.idle": "2025-08-05T16:17:52.397285Z",
     "shell.execute_reply": "2025-08-05T16:17:52.396183Z"
    },
    "papermill": {
     "duration": 0.044664,
     "end_time": "2025-08-05T16:17:52.399229",
     "exception": false,
     "start_time": "2025-08-05T16:17:52.354565",
     "status": "completed"
    },
    "tags": []
   },
   "outputs": [],
   "source": [
    "for subgroup, cov in cond_coverage.items():\n",
    "    cp_metrics_df[f\"cov_{subgroup}\"] = cov"
   ]
  },
  {
   "cell_type": "code",
   "execution_count": 58,
   "id": "6e872e10-dbe5-49e8-b554-5030c98ff75d",
   "metadata": {
    "execution": {
     "iopub.execute_input": "2025-08-05T16:17:52.459897Z",
     "iopub.status.busy": "2025-08-05T16:17:52.459356Z",
     "iopub.status.idle": "2025-08-05T16:17:52.484111Z",
     "shell.execute_reply": "2025-08-05T16:17:52.483211Z"
    },
    "papermill": {
     "duration": 0.055322,
     "end_time": "2025-08-05T16:17:52.486022",
     "exception": false,
     "start_time": "2025-08-05T16:17:52.430700",
     "status": "completed"
    },
    "tags": []
   },
   "outputs": [
    {
     "data": {
      "text/html": [
       "<div>\n",
       "<style scoped>\n",
       "    .dataframe tbody tr th:only-of-type {\n",
       "        vertical-align: middle;\n",
       "    }\n",
       "\n",
       "    .dataframe tbody tr th {\n",
       "        vertical-align: top;\n",
       "    }\n",
       "\n",
       "    .dataframe thead th {\n",
       "        text-align: right;\n",
       "    }\n",
       "</style>\n",
       "<table border=\"1\" class=\"dataframe\">\n",
       "  <thead>\n",
       "    <tr style=\"text-align: right;\">\n",
       "      <th></th>\n",
       "      <th>universe_id</th>\n",
       "      <th>universe_training_year</th>\n",
       "      <th>universe_training_size</th>\n",
       "      <th>universe_scale</th>\n",
       "      <th>universe_model</th>\n",
       "      <th>universe_exclude_features</th>\n",
       "      <th>universe_exclude_subgroups</th>\n",
       "      <th>q_hat</th>\n",
       "      <th>coverage</th>\n",
       "      <th>avg_size</th>\n",
       "      <th>cov_frau1</th>\n",
       "      <th>cov_nongerman</th>\n",
       "      <th>cov_nongerman_male</th>\n",
       "      <th>cov_nongerman_female</th>\n",
       "    </tr>\n",
       "  </thead>\n",
       "  <tbody>\n",
       "    <tr>\n",
       "      <th>0</th>\n",
       "      <td>cb48fb75f59d68ed871625f69d125678</td>\n",
       "      <td>2012_14</td>\n",
       "      <td>1k</td>\n",
       "      <td>scale</td>\n",
       "      <td>penalized_logreg</td>\n",
       "      <td>sex</td>\n",
       "      <td>keep-all</td>\n",
       "      <td>0.750839</td>\n",
       "      <td>0.909832</td>\n",
       "      <td>1.195229</td>\n",
       "      <td>0.90589</td>\n",
       "      <td>0.913378</td>\n",
       "      <td>0.929479</td>\n",
       "      <td>0.886736</td>\n",
       "    </tr>\n",
       "  </tbody>\n",
       "</table>\n",
       "</div>"
      ],
      "text/plain": [
       "                        universe_id universe_training_year  \\\n",
       "0  cb48fb75f59d68ed871625f69d125678                2012_14   \n",
       "\n",
       "  universe_training_size universe_scale    universe_model  \\\n",
       "0                     1k          scale  penalized_logreg   \n",
       "\n",
       "  universe_exclude_features universe_exclude_subgroups     q_hat  coverage  \\\n",
       "0                       sex                   keep-all  0.750839  0.909832   \n",
       "\n",
       "   avg_size  cov_frau1  cov_nongerman  cov_nongerman_male  \\\n",
       "0  1.195229    0.90589       0.913378            0.929479   \n",
       "\n",
       "   cov_nongerman_female  \n",
       "0              0.886736  "
      ]
     },
     "execution_count": 58,
     "metadata": {},
     "output_type": "execute_result"
    }
   ],
   "source": [
    "cp_metrics_df"
   ]
  },
  {
   "cell_type": "markdown",
   "id": "33774451",
   "metadata": {
    "papermill": {
     "duration": 0.026226,
     "end_time": "2025-08-05T16:17:52.539789",
     "exception": false,
     "start_time": "2025-08-05T16:17:52.513563",
     "status": "completed"
    },
    "tags": []
   },
   "source": [
    "# (Fairness) Metrics"
   ]
  },
  {
   "cell_type": "code",
   "execution_count": 59,
   "id": "debc5d62",
   "metadata": {
    "execution": {
     "iopub.execute_input": "2025-08-05T16:17:52.603362Z",
     "iopub.status.busy": "2025-08-05T16:17:52.602322Z",
     "iopub.status.idle": "2025-08-05T16:17:52.626997Z",
     "shell.execute_reply": "2025-08-05T16:17:52.625798Z"
    },
    "papermill": {
     "duration": 0.057653,
     "end_time": "2025-08-05T16:17:52.629006",
     "exception": false,
     "start_time": "2025-08-05T16:17:52.571353",
     "status": "completed"
    },
    "tags": []
   },
   "outputs": [],
   "source": [
    "# do I need to include maxdeutsch1.missing?\n",
    "\n",
    "import numpy as np\n",
    "\n",
    "colname_to_bin = \"maxdeutsch1\"\n",
    "majority_value = org_train[colname_to_bin].mode()[0]\n",
    "\n",
    "org_test[\"majmin\"] = np.where(org_test[colname_to_bin] == majority_value, \"majority\", \"minority\")"
   ]
  },
  {
   "cell_type": "code",
   "execution_count": 60,
   "id": "06a50de5",
   "metadata": {
    "execution": {
     "iopub.execute_input": "2025-08-05T16:17:52.685695Z",
     "iopub.status.busy": "2025-08-05T16:17:52.685122Z",
     "iopub.status.idle": "2025-08-05T16:17:56.112150Z",
     "shell.execute_reply": "2025-08-05T16:17:56.110909Z"
    },
    "papermill": {
     "duration": 3.457177,
     "end_time": "2025-08-05T16:17:56.114652",
     "exception": false,
     "start_time": "2025-08-05T16:17:52.657475",
     "status": "completed"
    },
    "tags": []
   },
   "outputs": [],
   "source": [
    "example_universe = universe.copy()\n",
    "example_universe[\"cutoff\"] = example_universe[\"cutoff\"][0]\n",
    "example_universe[\"eval_fairness_grouping\"] = example_universe[\"eval_fairness_grouping\"][0]\n",
    "fairness_dict, metric_frame = universe_analysis.compute_metrics(\n",
    "    example_universe,\n",
    "    y_pred_prob=probs_test,\n",
    "    y_test=y_true,\n",
    "    org_test=org_test,\n",
    ")"
   ]
  },
  {
   "cell_type": "markdown",
   "id": "f95d4e02",
   "metadata": {
    "papermill": {
     "duration": 0.031146,
     "end_time": "2025-08-05T16:17:56.177441",
     "exception": false,
     "start_time": "2025-08-05T16:17:56.146295",
     "status": "completed"
    },
    "tags": []
   },
   "source": [
    "# Overall"
   ]
  },
  {
   "cell_type": "markdown",
   "id": "bdee4871",
   "metadata": {
    "papermill": {
     "duration": 0.02983,
     "end_time": "2025-08-05T16:17:56.238738",
     "exception": false,
     "start_time": "2025-08-05T16:17:56.208908",
     "status": "completed"
    },
    "tags": []
   },
   "source": [
    "Fairness\n",
    "Main fairness target: Equalized Odds. Seems to be a better fit than equal opportunity, since we're not only interested in Y = 1. Seems to be a better fit than demographic parity, since we also care about accuracy, not just equal distribution of preds.\n",
    "\n",
    "Pick column for computation of fairness metrics\n",
    "\n",
    "Performance\n",
    "Overall performance measures, most interesting in relation to the measures split by group below"
   ]
  },
  {
   "cell_type": "code",
   "execution_count": 61,
   "id": "c4e067c6",
   "metadata": {
    "execution": {
     "iopub.execute_input": "2025-08-05T16:17:56.303361Z",
     "iopub.status.busy": "2025-08-05T16:17:56.302778Z",
     "iopub.status.idle": "2025-08-05T16:17:56.312645Z",
     "shell.execute_reply": "2025-08-05T16:17:56.311480Z"
    },
    "papermill": {
     "duration": 0.044672,
     "end_time": "2025-08-05T16:17:56.315050",
     "exception": false,
     "start_time": "2025-08-05T16:17:56.270378",
     "status": "completed"
    },
    "tags": []
   },
   "outputs": [
    {
     "data": {
      "text/plain": [
       "accuracy                   0.219362\n",
       "balanced accuracy          0.537421\n",
       "f1                         0.240832\n",
       "precision                  0.137579\n",
       "false positive rate        0.890399\n",
       "false negative rate        0.034758\n",
       "selection rate             0.900000\n",
       "count                  89710.000000\n",
       "dtype: float64"
      ]
     },
     "execution_count": 61,
     "metadata": {},
     "output_type": "execute_result"
    }
   ],
   "source": [
    "metric_frame.overall"
   ]
  },
  {
   "cell_type": "markdown",
   "id": "e968fe9d",
   "metadata": {
    "papermill": {
     "duration": 0.03042,
     "end_time": "2025-08-05T16:17:56.377723",
     "exception": false,
     "start_time": "2025-08-05T16:17:56.347303",
     "status": "completed"
    },
    "tags": []
   },
   "source": [
    "By Group"
   ]
  },
  {
   "cell_type": "code",
   "execution_count": 62,
   "id": "ec325bce",
   "metadata": {
    "execution": {
     "iopub.execute_input": "2025-08-05T16:17:56.443085Z",
     "iopub.status.busy": "2025-08-05T16:17:56.442507Z",
     "iopub.status.idle": "2025-08-05T16:17:56.462754Z",
     "shell.execute_reply": "2025-08-05T16:17:56.461572Z"
    },
    "papermill": {
     "duration": 0.056074,
     "end_time": "2025-08-05T16:17:56.464953",
     "exception": false,
     "start_time": "2025-08-05T16:17:56.408879",
     "status": "completed"
    },
    "tags": []
   },
   "outputs": [
    {
     "data": {
      "text/html": [
       "<div>\n",
       "<style scoped>\n",
       "    .dataframe tbody tr th:only-of-type {\n",
       "        vertical-align: middle;\n",
       "    }\n",
       "\n",
       "    .dataframe tbody tr th {\n",
       "        vertical-align: top;\n",
       "    }\n",
       "\n",
       "    .dataframe thead th {\n",
       "        text-align: right;\n",
       "    }\n",
       "</style>\n",
       "<table border=\"1\" class=\"dataframe\">\n",
       "  <thead>\n",
       "    <tr style=\"text-align: right;\">\n",
       "      <th></th>\n",
       "      <th>accuracy</th>\n",
       "      <th>balanced accuracy</th>\n",
       "      <th>f1</th>\n",
       "      <th>precision</th>\n",
       "      <th>false positive rate</th>\n",
       "      <th>false negative rate</th>\n",
       "      <th>selection rate</th>\n",
       "      <th>count</th>\n",
       "    </tr>\n",
       "    <tr>\n",
       "      <th>majmin</th>\n",
       "      <th></th>\n",
       "      <th></th>\n",
       "      <th></th>\n",
       "      <th></th>\n",
       "      <th></th>\n",
       "      <th></th>\n",
       "      <th></th>\n",
       "      <th></th>\n",
       "    </tr>\n",
       "  </thead>\n",
       "  <tbody>\n",
       "    <tr>\n",
       "      <th>majority</th>\n",
       "      <td>0.239396</td>\n",
       "      <td>0.544357</td>\n",
       "      <td>0.249904</td>\n",
       "      <td>0.143674</td>\n",
       "      <td>0.870148</td>\n",
       "      <td>0.041138</td>\n",
       "      <td>0.881871</td>\n",
       "      <td>69170.0</td>\n",
       "    </tr>\n",
       "    <tr>\n",
       "      <th>minority</th>\n",
       "      <td>0.151899</td>\n",
       "      <td>0.516284</td>\n",
       "      <td>0.212050</td>\n",
       "      <td>0.118744</td>\n",
       "      <td>0.957297</td>\n",
       "      <td>0.010135</td>\n",
       "      <td>0.961052</td>\n",
       "      <td>20540.0</td>\n",
       "    </tr>\n",
       "  </tbody>\n",
       "</table>\n",
       "</div>"
      ],
      "text/plain": [
       "          accuracy  balanced accuracy        f1  precision  \\\n",
       "majmin                                                       \n",
       "majority  0.239396           0.544357  0.249904   0.143674   \n",
       "minority  0.151899           0.516284  0.212050   0.118744   \n",
       "\n",
       "          false positive rate  false negative rate  selection rate    count  \n",
       "majmin                                                                       \n",
       "majority             0.870148             0.041138        0.881871  69170.0  \n",
       "minority             0.957297             0.010135        0.961052  20540.0  "
      ]
     },
     "execution_count": 62,
     "metadata": {},
     "output_type": "execute_result"
    }
   ],
   "source": [
    "metric_frame.by_group"
   ]
  },
  {
   "cell_type": "code",
   "execution_count": 63,
   "id": "a9ddbe63",
   "metadata": {
    "execution": {
     "iopub.execute_input": "2025-08-05T16:17:56.531132Z",
     "iopub.status.busy": "2025-08-05T16:17:56.530570Z",
     "iopub.status.idle": "2025-08-05T16:17:59.404172Z",
     "shell.execute_reply": "2025-08-05T16:17:59.402952Z"
    },
    "papermill": {
     "duration": 2.908156,
     "end_time": "2025-08-05T16:17:59.406449",
     "exception": false,
     "start_time": "2025-08-05T16:17:56.498293",
     "status": "completed"
    },
    "tags": []
   },
   "outputs": [
    {
     "data": {
      "text/plain": [
       "array([[<Axes: title={'center': 'accuracy'}, xlabel='majmin'>,\n",
       "        <Axes: title={'center': 'balanced accuracy'}, xlabel='majmin'>,\n",
       "        <Axes: title={'center': 'f1'}, xlabel='majmin'>],\n",
       "       [<Axes: title={'center': 'precision'}, xlabel='majmin'>,\n",
       "        <Axes: title={'center': 'false positive rate'}, xlabel='majmin'>,\n",
       "        <Axes: title={'center': 'false negative rate'}, xlabel='majmin'>],\n",
       "       [<Axes: title={'center': 'selection rate'}, xlabel='majmin'>,\n",
       "        <Axes: title={'center': 'count'}, xlabel='majmin'>,\n",
       "        <Axes: xlabel='majmin'>]], dtype=object)"
      ]
     },
     "execution_count": 63,
     "metadata": {},
     "output_type": "execute_result"
    },
    {
     "data": {
      "image/png": "[encoded data removed]",
      "text/plain": [
       "<Figure size 1200x800 with 9 Axes>"
      ]
     },
     "metadata": {},
     "output_type": "display_data"
    }
   ],
   "source": [
    "# In a graphic\n",
    "metric_frame.by_group.plot.bar(\n",
    "    subplots=True,\n",
    "    layout=[3, 3],\n",
    "    legend=False,\n",
    "    figsize=[12, 8],\n",
    "    title=\"Show all metrics\",\n",
    ")"
   ]
  },
  {
   "cell_type": "markdown",
   "id": "f57a0bac",
   "metadata": {
    "papermill": {
     "duration": 0.034421,
     "end_time": "2025-08-05T16:17:59.474283",
     "exception": false,
     "start_time": "2025-08-05T16:17:59.439862",
     "status": "completed"
    },
    "tags": []
   },
   "source": [
    "# Final Output"
   ]
  },
  {
   "cell_type": "code",
   "execution_count": 64,
   "id": "96d280a3",
   "metadata": {
    "execution": {
     "iopub.execute_input": "2025-08-05T16:17:59.544443Z",
     "iopub.status.busy": "2025-08-05T16:17:59.543362Z",
     "iopub.status.idle": "2025-08-05T16:17:59.553642Z",
     "shell.execute_reply": "2025-08-05T16:17:59.552441Z"
    },
    "papermill": {
     "duration": 0.047917,
     "end_time": "2025-08-05T16:17:59.555645",
     "exception": false,
     "start_time": "2025-08-05T16:17:59.507728",
     "status": "completed"
    },
    "tags": []
   },
   "outputs": [
    {
     "data": {
      "text/plain": [
       "4"
      ]
     },
     "execution_count": 64,
     "metadata": {},
     "output_type": "execute_result"
    }
   ],
   "source": [
    "sub_universes = universe_analysis.generate_sub_universes()\n",
    "len(sub_universes)"
   ]
  },
  {
   "cell_type": "code",
   "execution_count": 65,
   "id": "92adf7ba",
   "metadata": {
    "execution": {
     "iopub.execute_input": "2025-08-05T16:17:59.627052Z",
     "iopub.status.busy": "2025-08-05T16:17:59.625911Z",
     "iopub.status.idle": "2025-08-05T16:17:59.633799Z",
     "shell.execute_reply": "2025-08-05T16:17:59.632544Z"
    },
    "papermill": {
     "duration": 0.046411,
     "end_time": "2025-08-05T16:17:59.635991",
     "exception": false,
     "start_time": "2025-08-05T16:17:59.589580",
     "status": "completed"
    },
    "tags": []
   },
   "outputs": [],
   "source": [
    "def filter_sub_universe_data(sub_universe, org_test):\n",
    "    # Keep all rows — no filtering\n",
    "    keep_rows_mask = np.ones(org_test.shape[0], dtype=bool)\n",
    "\n",
    "    print(f\"[INFO] Keeping all rows: {keep_rows_mask.sum()} rows retained.\")\n",
    "    return keep_rows_mask"
   ]
  },
  {
   "cell_type": "code",
   "execution_count": 66,
   "id": "4a759155",
   "metadata": {
    "execution": {
     "iopub.execute_input": "2025-08-05T16:17:59.707330Z",
     "iopub.status.busy": "2025-08-05T16:17:59.706529Z",
     "iopub.status.idle": "2025-08-05T16:18:10.915351Z",
     "shell.execute_reply": "2025-08-05T16:18:10.913869Z"
    },
    "papermill": {
     "duration": 11.247985,
     "end_time": "2025-08-05T16:18:10.918169",
     "exception": false,
     "start_time": "2025-08-05T16:17:59.670184",
     "status": "completed"
    },
    "tags": []
   },
   "outputs": [
    {
     "name": "stdout",
     "output_type": "stream",
     "text": [
      "Stopping execution_time clock.\n",
      "[INFO] Keeping all rows: 89710 rows retained.\n"
     ]
    },
    {
     "name": "stdout",
     "output_type": "stream",
     "text": [
      "[INFO] Keeping all rows: 89710 rows retained.\n"
     ]
    },
    {
     "name": "stdout",
     "output_type": "stream",
     "text": [
      "[INFO] Keeping all rows: 89710 rows retained.\n"
     ]
    },
    {
     "name": "stdout",
     "output_type": "stream",
     "text": [
      "[INFO] Keeping all rows: 89710 rows retained.\n"
     ]
    },
    {
     "data": {
      "text/html": [
       "<div>\n",
       "<style scoped>\n",
       "    .dataframe tbody tr th:only-of-type {\n",
       "        vertical-align: middle;\n",
       "    }\n",
       "\n",
       "    .dataframe tbody tr th {\n",
       "        vertical-align: top;\n",
       "    }\n",
       "\n",
       "    .dataframe thead th {\n",
       "        text-align: right;\n",
       "    }\n",
       "</style>\n",
       "<table border=\"1\" class=\"dataframe\">\n",
       "  <thead>\n",
       "    <tr style=\"text-align: right;\">\n",
       "      <th></th>\n",
       "      <th>run_no</th>\n",
       "      <th>universe_id</th>\n",
       "      <th>universe_settings</th>\n",
       "      <th>execution_time</th>\n",
       "      <th>test_size_n</th>\n",
       "      <th>test_size_frac</th>\n",
       "      <th>fair_main_equalized_odds_difference</th>\n",
       "      <th>fair_main_equalized_odds_ratio</th>\n",
       "      <th>fair_main_demographic_parity_difference</th>\n",
       "      <th>fair_main_demographic_parity_ratio</th>\n",
       "      <th>...</th>\n",
       "      <th>perf_grp_precision_0</th>\n",
       "      <th>perf_grp_precision_1</th>\n",
       "      <th>perf_grp_false positive rate_0</th>\n",
       "      <th>perf_grp_false positive rate_1</th>\n",
       "      <th>perf_grp_false negative rate_0</th>\n",
       "      <th>perf_grp_false negative rate_1</th>\n",
       "      <th>perf_grp_selection rate_0</th>\n",
       "      <th>perf_grp_selection rate_1</th>\n",
       "      <th>perf_grp_count_0</th>\n",
       "      <th>perf_grp_count_1</th>\n",
       "    </tr>\n",
       "  </thead>\n",
       "  <tbody>\n",
       "    <tr>\n",
       "      <th>0</th>\n",
       "      <td>15</td>\n",
       "      <td>cb48fb75f59d68ed871625f69d125678</td>\n",
       "      <td>{\"cutoff\": \"quantile_0.1\", \"eval_fairness_grou...</td>\n",
       "      <td>26.924096</td>\n",
       "      <td>89710</td>\n",
       "      <td>1.0</td>\n",
       "      <td>0.087149</td>\n",
       "      <td>0.908964</td>\n",
       "      <td>0.079181</td>\n",
       "      <td>0.917610</td>\n",
       "      <td>...</td>\n",
       "      <td>NaN</td>\n",
       "      <td>NaN</td>\n",
       "      <td>NaN</td>\n",
       "      <td>NaN</td>\n",
       "      <td>NaN</td>\n",
       "      <td>NaN</td>\n",
       "      <td>NaN</td>\n",
       "      <td>NaN</td>\n",
       "      <td>NaN</td>\n",
       "      <td>NaN</td>\n",
       "    </tr>\n",
       "    <tr>\n",
       "      <th>0</th>\n",
       "      <td>15</td>\n",
       "      <td>cb48fb75f59d68ed871625f69d125678</td>\n",
       "      <td>{\"cutoff\": \"quantile_0.1\", \"eval_fairness_grou...</td>\n",
       "      <td>26.924096</td>\n",
       "      <td>89710</td>\n",
       "      <td>1.0</td>\n",
       "      <td>0.087149</td>\n",
       "      <td>0.908964</td>\n",
       "      <td>0.079181</td>\n",
       "      <td>0.917610</td>\n",
       "      <td>...</td>\n",
       "      <td>0.118744</td>\n",
       "      <td>0.143674</td>\n",
       "      <td>0.957297</td>\n",
       "      <td>0.870148</td>\n",
       "      <td>0.010135</td>\n",
       "      <td>0.041138</td>\n",
       "      <td>0.961052</td>\n",
       "      <td>0.881871</td>\n",
       "      <td>20540.0</td>\n",
       "      <td>69170.0</td>\n",
       "    </tr>\n",
       "    <tr>\n",
       "      <th>0</th>\n",
       "      <td>15</td>\n",
       "      <td>cb48fb75f59d68ed871625f69d125678</td>\n",
       "      <td>{\"cutoff\": \"quantile_0.25\", \"eval_fairness_gro...</td>\n",
       "      <td>26.924096</td>\n",
       "      <td>89710</td>\n",
       "      <td>1.0</td>\n",
       "      <td>0.162440</td>\n",
       "      <td>0.809681</td>\n",
       "      <td>0.147445</td>\n",
       "      <td>0.829283</td>\n",
       "      <td>...</td>\n",
       "      <td>NaN</td>\n",
       "      <td>NaN</td>\n",
       "      <td>NaN</td>\n",
       "      <td>NaN</td>\n",
       "      <td>NaN</td>\n",
       "      <td>NaN</td>\n",
       "      <td>NaN</td>\n",
       "      <td>NaN</td>\n",
       "      <td>NaN</td>\n",
       "      <td>NaN</td>\n",
       "    </tr>\n",
       "    <tr>\n",
       "      <th>0</th>\n",
       "      <td>15</td>\n",
       "      <td>cb48fb75f59d68ed871625f69d125678</td>\n",
       "      <td>{\"cutoff\": \"quantile_0.25\", \"eval_fairness_gro...</td>\n",
       "      <td>26.924096</td>\n",
       "      <td>89710</td>\n",
       "      <td>1.0</td>\n",
       "      <td>0.162440</td>\n",
       "      <td>0.809681</td>\n",
       "      <td>0.147445</td>\n",
       "      <td>0.829283</td>\n",
       "      <td>...</td>\n",
       "      <td>0.125705</td>\n",
       "      <td>0.162630</td>\n",
       "      <td>0.853511</td>\n",
       "      <td>0.691071</td>\n",
       "      <td>0.058277</td>\n",
       "      <td>0.118490</td>\n",
       "      <td>0.863681</td>\n",
       "      <td>0.716235</td>\n",
       "      <td>20540.0</td>\n",
       "      <td>69170.0</td>\n",
       "    </tr>\n",
       "  </tbody>\n",
       "</table>\n",
       "<p>4 rows × 50 columns</p>\n",
       "</div>"
      ],
      "text/plain": [
       "  run_no                       universe_id  \\\n",
       "0     15  cb48fb75f59d68ed871625f69d125678   \n",
       "0     15  cb48fb75f59d68ed871625f69d125678   \n",
       "0     15  cb48fb75f59d68ed871625f69d125678   \n",
       "0     15  cb48fb75f59d68ed871625f69d125678   \n",
       "\n",
       "                                   universe_settings  execution_time  \\\n",
       "0  {\"cutoff\": \"quantile_0.1\", \"eval_fairness_grou...       26.924096   \n",
       "0  {\"cutoff\": \"quantile_0.1\", \"eval_fairness_grou...       26.924096   \n",
       "0  {\"cutoff\": \"quantile_0.25\", \"eval_fairness_gro...       26.924096   \n",
       "0  {\"cutoff\": \"quantile_0.25\", \"eval_fairness_gro...       26.924096   \n",
       "\n",
       "   test_size_n  test_size_frac  fair_main_equalized_odds_difference  \\\n",
       "0        89710             1.0                             0.087149   \n",
       "0        89710             1.0                             0.087149   \n",
       "0        89710             1.0                             0.162440   \n",
       "0        89710             1.0                             0.162440   \n",
       "\n",
       "   fair_main_equalized_odds_ratio  fair_main_demographic_parity_difference  \\\n",
       "0                        0.908964                                 0.079181   \n",
       "0                        0.908964                                 0.079181   \n",
       "0                        0.809681                                 0.147445   \n",
       "0                        0.809681                                 0.147445   \n",
       "\n",
       "   fair_main_demographic_parity_ratio  ...  perf_grp_precision_0  \\\n",
       "0                            0.917610  ...                   NaN   \n",
       "0                            0.917610  ...              0.118744   \n",
       "0                            0.829283  ...                   NaN   \n",
       "0                            0.829283  ...              0.125705   \n",
       "\n",
       "   perf_grp_precision_1  perf_grp_false positive rate_0  \\\n",
       "0                   NaN                             NaN   \n",
       "0              0.143674                        0.957297   \n",
       "0                   NaN                             NaN   \n",
       "0              0.162630                        0.853511   \n",
       "\n",
       "   perf_grp_false positive rate_1  perf_grp_false negative rate_0  \\\n",
       "0                             NaN                             NaN   \n",
       "0                        0.870148                        0.010135   \n",
       "0                             NaN                             NaN   \n",
       "0                        0.691071                        0.058277   \n",
       "\n",
       "   perf_grp_false negative rate_1  perf_grp_selection rate_0  \\\n",
       "0                             NaN                        NaN   \n",
       "0                        0.041138                   0.961052   \n",
       "0                             NaN                        NaN   \n",
       "0                        0.118490                   0.863681   \n",
       "\n",
       "   perf_grp_selection rate_1  perf_grp_count_0  perf_grp_count_1  \n",
       "0                        NaN               NaN               NaN  \n",
       "0                   0.881871           20540.0           69170.0  \n",
       "0                        NaN               NaN               NaN  \n",
       "0                   0.716235           20540.0           69170.0  \n",
       "\n",
       "[4 rows x 50 columns]"
      ]
     },
     "execution_count": 66,
     "metadata": {},
     "output_type": "execute_result"
    }
   ],
   "source": [
    "final_output = universe_analysis.generate_final_output(\n",
    "    y_pred_prob=probs_test,\n",
    "    y_test=y_true,\n",
    "    org_test=org_test,\n",
    "    filter_data=filter_sub_universe_data,\n",
    "    cp_metrics_df=cp_metrics_df,\n",
    "    save=True,\n",
    ")\n",
    "final_output"
   ]
  }
 ],
 "metadata": {
  "celltoolbar": "Tags",
  "kernelspec": {
   "display_name": "Python (CMA Fairness)",
   "language": "python",
   "name": "cma_fair_env"
  },
  "language_info": {
   "codemirror_mode": {
    "name": "ipython",
    "version": 3
   },
   "file_extension": ".py",
   "mimetype": "text/x-python",
   "name": "python",
   "nbconvert_exporter": "python",
   "pygments_lexer": "ipython3",
   "version": "3.10.12"
  },
  "papermill": {
   "default_parameters": {},
   "duration": 42.684818,
   "end_time": "2025-08-05T16:18:11.885969",
   "environment_variables": {},
   "exception": null,
   "input_path": "universe_analysis.ipynb",
   "output_path": "output/runs/15/notebooks/m_15-cb48fb75f59d68ed871625f69d125678.ipynb",
   "parameters": {
    "output_dir": "output",
    "run_no": "15",
    "seed": "2023",
    "universe": "{\"cutoff\": [\"quantile_0.1\", \"quantile_0.25\"], \"eval_fairness_grouping\": [\"majority-minority\", \"nationality-all\"], \"exclude_features\": \"sex\", \"exclude_subgroups\": \"keep-all\", \"model\": \"penalized_logreg\", \"scale\": \"scale\", \"training_size\": \"1k\", \"training_year\": \"2012_14\"}",
    "universe_id": "cb48fb75f59d68ed871625f69d125678"
   },
   "start_time": "2025-08-05T16:17:29.201151",
   "version": "2.6.0"
  }
 },
 "nbformat": 4,
 "nbformat_minor": 5
}