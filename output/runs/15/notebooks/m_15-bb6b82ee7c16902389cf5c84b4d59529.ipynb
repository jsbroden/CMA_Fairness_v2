{
 "cells": [
  {
   "cell_type": "code",
   "execution_count": 1,
   "id": "f159f837-637b-42ba-96b5-ec9a68c44524",
   "metadata": {
    "execution": {
     "iopub.execute_input": "2025-08-05T16:07:39.230146Z",
     "iopub.status.busy": "2025-08-05T16:07:39.229610Z",
     "iopub.status.idle": "2025-08-05T16:07:39.243373Z",
     "shell.execute_reply": "2025-08-05T16:07:39.242288Z"
    },
    "papermill": {
     "duration": 0.034723,
     "end_time": "2025-08-05T16:07:39.245068",
     "exception": false,
     "start_time": "2025-08-05T16:07:39.210345",
     "status": "completed"
    },
    "tags": []
   },
   "outputs": [
    {
     "name": "stdout",
     "output_type": "stream",
     "text": [
      "/dss/dsshome1/0C/ra93lal2/cma/CMA_Fairness_v2\n"
     ]
    },
    {
     "name": "stderr",
     "output_type": "stream",
     "text": [
      "/dss/dsshome1/0C/ra93lal2/.local/share/virtualenvs/CMA_Fairness_v2-3j10GkSs/lib/python3.10/site-packages/IPython/core/magics/osm.py:393: UserWarning: This is now an optional IPython functionality, using bookmarks requires you to install the `pickleshare` library.\n",
      "  bkms = self.shell.db.get('bookmarks', {})\n",
      "/dss/dsshome1/0C/ra93lal2/.local/share/virtualenvs/CMA_Fairness_v2-3j10GkSs/lib/python3.10/site-packages/IPython/core/magics/osm.py:417: UserWarning: This is now an optional IPython functionality, setting dhist requires you to install the `pickleshare` library.\n",
      "  self.shell.db['dhist'] = compress_dhist(dhist)[-100:]\n"
     ]
    }
   ],
   "source": [
    "%cd ~/cma/CMA_Fairness_v2"
   ]
  },
  {
   "cell_type": "markdown",
   "id": "de2603b9",
   "metadata": {
    "papermill": {
     "duration": 0.017471,
     "end_time": "2025-08-05T16:07:39.351649",
     "exception": false,
     "start_time": "2025-08-05T16:07:39.334178",
     "status": "completed"
    },
    "tags": []
   },
   "source": [
    "The following cell holds the definition of our parameters, these values can be overriden by rendering the with e.g. the following command:\n",
    "\n",
    "papermill -p alpha 0.2 -p ratio 0.3 universe_analysis.ipynb output/test_run.ipynb"
   ]
  },
  {
   "cell_type": "code",
   "execution_count": 2,
   "id": "a80968a0-40bb-4fa9-85ef-2d5eefb01975",
   "metadata": {
    "execution": {
     "iopub.execute_input": "2025-08-05T16:07:39.373003Z",
     "iopub.status.busy": "2025-08-05T16:07:39.372141Z",
     "iopub.status.idle": "2025-08-05T16:07:39.378657Z",
     "shell.execute_reply": "2025-08-05T16:07:39.377400Z"
    },
    "papermill": {
     "duration": 0.018944,
     "end_time": "2025-08-05T16:07:39.380479",
     "exception": false,
     "start_time": "2025-08-05T16:07:39.361535",
     "status": "completed"
    },
    "tags": []
   },
   "outputs": [
    {
     "name": "stdout",
     "output_type": "stream",
     "text": [
      "Current working directory: /dss/dsshome1/0C/ra93lal2/cma/CMA_Fairness_v2\n"
     ]
    }
   ],
   "source": [
    "import os\n",
    "print(\"Current working directory:\", os.getcwd())"
   ]
  },
  {
   "cell_type": "code",
   "execution_count": 3,
   "id": "2dce4c03",
   "metadata": {
    "execution": {
     "iopub.execute_input": "2025-08-05T16:07:39.415977Z",
     "iopub.status.busy": "2025-08-05T16:07:39.415485Z",
     "iopub.status.idle": "2025-08-05T16:07:39.422330Z",
     "shell.execute_reply": "2025-08-05T16:07:39.421206Z"
    },
    "papermill": {
     "duration": 0.025775,
     "end_time": "2025-08-05T16:07:39.424082",
     "exception": false,
     "start_time": "2025-08-05T16:07:39.398307",
     "status": "completed"
    },
    "tags": [
     "parameters"
    ]
   },
   "outputs": [],
   "source": [
    "run_no = 0\n",
    "universe_id = \"test\"\n",
    "universe = {\n",
    "    \"training_size\": \"25k\", # \"25k\", \"5k\", \"1k\"\n",
    "    \"training_year\": \"2014\", # \"2014\", \"2012_14\", \"2010_14\"\n",
    "    \"scale\": \"scale\", # \"scale\", \"do-not-scale\",\n",
    "    \"model\": \"elasticnet\", # \"logreg\", \"penalized_logreg\", \"rf\", \"gbm\", \"elasticnet\"\n",
    "    \"cutoff\": [\"quantile_0.15\", \"quantile_0.30\"],\n",
    "    \"exclude_features\": \"age\", # \"none\", \"nationality\", \"sex\", \"nationality-sex\", \"age\"\n",
    "    \"exclude_subgroups\": \"keep-all\", # \"keep-all\", \"drop-non-german\"\n",
    "    \"eval_fairness_grouping\": [\"majority-minority\", \"nationality-all\"]\n",
    "}\n",
    "\n",
    "output_dir=\"./output\"\n",
    "seed=0"
   ]
  },
  {
   "cell_type": "code",
   "execution_count": 4,
   "id": "f9a07351",
   "metadata": {
    "execution": {
     "iopub.execute_input": "2025-08-05T16:07:39.461165Z",
     "iopub.status.busy": "2025-08-05T16:07:39.460669Z",
     "iopub.status.idle": "2025-08-05T16:07:39.466565Z",
     "shell.execute_reply": "2025-08-05T16:07:39.465434Z"
    },
    "papermill": {
     "duration": 0.02753,
     "end_time": "2025-08-05T16:07:39.468698",
     "exception": false,
     "start_time": "2025-08-05T16:07:39.441168",
     "status": "completed"
    },
    "tags": [
     "injected-parameters"
    ]
   },
   "outputs": [],
   "source": [
    "# Parameters\n",
    "universe_id = \"bb6b82ee7c16902389cf5c84b4d59529\"\n",
    "run_no = \"15\"\n",
    "universe = \"{\\\"cutoff\\\": [\\\"quantile_0.1\\\", \\\"quantile_0.25\\\"], \\\"eval_fairness_grouping\\\": [\\\"majority-minority\\\", \\\"nationality-all\\\"], \\\"exclude_features\\\": \\\"sex\\\", \\\"exclude_subgroups\\\": \\\"keep-all\\\", \\\"model\\\": \\\"elasticnet\\\", \\\"scale\\\": \\\"scale\\\", \\\"training_size\\\": \\\"1k\\\", \\\"training_year\\\": \\\"2014\\\"}\"\n",
    "output_dir = \"output\"\n",
    "seed = \"2023\"\n"
   ]
  },
  {
   "cell_type": "code",
   "execution_count": 5,
   "id": "1650acaf",
   "metadata": {
    "execution": {
     "iopub.execute_input": "2025-08-05T16:07:39.509675Z",
     "iopub.status.busy": "2025-08-05T16:07:39.508707Z",
     "iopub.status.idle": "2025-08-05T16:07:39.514742Z",
     "shell.execute_reply": "2025-08-05T16:07:39.513439Z"
    },
    "papermill": {
     "duration": 0.028285,
     "end_time": "2025-08-05T16:07:39.516455",
     "exception": false,
     "start_time": "2025-08-05T16:07:39.488170",
     "status": "completed"
    },
    "tags": []
   },
   "outputs": [],
   "source": [
    "import json\n",
    "if isinstance(universe, str):\n",
    "    universe = json.loads(universe)"
   ]
  },
  {
   "cell_type": "code",
   "execution_count": 6,
   "id": "16620c48",
   "metadata": {
    "execution": {
     "iopub.execute_input": "2025-08-05T16:07:39.556685Z",
     "iopub.status.busy": "2025-08-05T16:07:39.555731Z",
     "iopub.status.idle": "2025-08-05T16:07:39.606739Z",
     "shell.execute_reply": "2025-08-05T16:07:39.605843Z"
    },
    "papermill": {
     "duration": 0.072393,
     "end_time": "2025-08-05T16:07:39.608384",
     "exception": false,
     "start_time": "2025-08-05T16:07:39.535991",
     "status": "completed"
    },
    "tags": []
   },
   "outputs": [],
   "source": [
    "# Auto-reload the custom package\n",
    "%load_ext autoreload\n",
    "%autoreload 1\n",
    "%aimport fairness_multiverse"
   ]
  },
  {
   "cell_type": "code",
   "execution_count": 7,
   "id": "01c5c9f3",
   "metadata": {
    "execution": {
     "iopub.execute_input": "2025-08-05T16:07:39.643546Z",
     "iopub.status.busy": "2025-08-05T16:07:39.642661Z",
     "iopub.status.idle": "2025-08-05T16:07:41.375221Z",
     "shell.execute_reply": "2025-08-05T16:07:41.373962Z"
    },
    "papermill": {
     "duration": 1.753211,
     "end_time": "2025-08-05T16:07:41.377488",
     "exception": false,
     "start_time": "2025-08-05T16:07:39.624277",
     "status": "completed"
    },
    "tags": []
   },
   "outputs": [],
   "source": [
    "from fairness_multiverse.universe import UniverseAnalysis\n",
    "\n",
    "universe_analysis = UniverseAnalysis(\n",
    "    run_no = run_no,\n",
    "    universe_id = universe_id,\n",
    "    universe = universe,\n",
    "    output_dir=output_dir,\n",
    ")"
   ]
  },
  {
   "cell_type": "code",
   "execution_count": 8,
   "id": "106241f5",
   "metadata": {
    "execution": {
     "iopub.execute_input": "2025-08-05T16:07:41.418920Z",
     "iopub.status.busy": "2025-08-05T16:07:41.418010Z",
     "iopub.status.idle": "2025-08-05T16:07:41.424999Z",
     "shell.execute_reply": "2025-08-05T16:07:41.423922Z"
    },
    "papermill": {
     "duration": 0.027773,
     "end_time": "2025-08-05T16:07:41.426864",
     "exception": false,
     "start_time": "2025-08-05T16:07:41.399091",
     "status": "completed"
    },
    "tags": []
   },
   "outputs": [
    {
     "name": "stdout",
     "output_type": "stream",
     "text": [
      "Using Seed: 2023\n"
     ]
    }
   ],
   "source": [
    "import numpy as np\n",
    "parsed_seed = int(seed)\n",
    "np.random.seed(parsed_seed)\n",
    "print(f\"Using Seed: {parsed_seed}\")"
   ]
  },
  {
   "cell_type": "markdown",
   "id": "e0ebdc57",
   "metadata": {
    "papermill": {
     "duration": 0.017683,
     "end_time": "2025-08-05T16:07:41.462455",
     "exception": false,
     "start_time": "2025-08-05T16:07:41.444772",
     "status": "completed"
    },
    "tags": []
   },
   "source": [
    "# Loading Data"
   ]
  },
  {
   "cell_type": "code",
   "execution_count": 9,
   "id": "f0496b8a",
   "metadata": {
    "execution": {
     "iopub.execute_input": "2025-08-05T16:07:41.503407Z",
     "iopub.status.busy": "2025-08-05T16:07:41.502261Z",
     "iopub.status.idle": "2025-08-05T16:07:52.762380Z",
     "shell.execute_reply": "2025-08-05T16:07:52.761088Z"
    },
    "papermill": {
     "duration": 11.282752,
     "end_time": "2025-08-05T16:07:52.764595",
     "exception": false,
     "start_time": "2025-08-05T16:07:41.481843",
     "status": "completed"
    },
    "tags": []
   },
   "outputs": [
    {
     "name": "stdout",
     "output_type": "stream",
     "text": [
      "Loading SIAB data from cache: data/siab_cached.csv.gz\n"
     ]
    },
    {
     "name": "stdout",
     "output_type": "stream",
     "text": [
      "(643690, 164)\n"
     ]
    }
   ],
   "source": [
    "from pathlib import Path\n",
    "import pandas as pd\n",
    "\n",
    "# File paths\n",
    "raw_file = Path(\"data/raw/siab.csv\")\n",
    "cache_file = Path(\"data/siab_cached.csv.gz\")\n",
    "\n",
    "# Ensure cache directory exists\n",
    "cache_file.parent.mkdir(parents=True, exist_ok=True)\n",
    "\n",
    "# Load with simple caching\n",
    "if cache_file.exists():\n",
    "    print(f\"Loading SIAB data from cache: {cache_file}\")\n",
    "    siab = pd.read_csv(cache_file, compression='gzip')\n",
    "else:\n",
    "    print(f\"Cache not found. Reading raw SIAB data: {raw_file}\")\n",
    "    siab = pd.read_csv(raw_file)\n",
    "    siab.to_csv(cache_file, index=False, compression='gzip')\n",
    "    print(f\"Cached SIAB data to: {cache_file}\")\n",
    "\n",
    "print(siab.shape)"
   ]
  },
  {
   "cell_type": "code",
   "execution_count": 10,
   "id": "db0ca512-5f53-4dba-abdb-a2888bca41ba",
   "metadata": {
    "execution": {
     "iopub.execute_input": "2025-08-05T16:07:52.812298Z",
     "iopub.status.busy": "2025-08-05T16:07:52.811524Z",
     "iopub.status.idle": "2025-08-05T16:07:52.817606Z",
     "shell.execute_reply": "2025-08-05T16:07:52.816519Z"
    },
    "papermill": {
     "duration": 0.030064,
     "end_time": "2025-08-05T16:07:52.819519",
     "exception": false,
     "start_time": "2025-08-05T16:07:52.789455",
     "status": "completed"
    },
    "tags": []
   },
   "outputs": [],
   "source": [
    "#siab"
   ]
  },
  {
   "cell_type": "markdown",
   "id": "997051c5-15bd-4b69-9786-c3001a3ce484",
   "metadata": {
    "papermill": {
     "duration": 0.020223,
     "end_time": "2025-08-05T16:07:52.861009",
     "exception": false,
     "start_time": "2025-08-05T16:07:52.840786",
     "status": "completed"
    },
    "tags": []
   },
   "source": [
    "# Splitting Data and Setting Training Data Size"
   ]
  },
  {
   "cell_type": "code",
   "execution_count": 11,
   "id": "aea9c6ef-6f46-42c8-85eb-5a62025c1508",
   "metadata": {
    "execution": {
     "iopub.execute_input": "2025-08-05T16:07:52.902924Z",
     "iopub.status.busy": "2025-08-05T16:07:52.902449Z",
     "iopub.status.idle": "2025-08-05T16:07:53.145006Z",
     "shell.execute_reply": "2025-08-05T16:07:53.144231Z"
    },
    "papermill": {
     "duration": 0.264792,
     "end_time": "2025-08-05T16:07:53.147054",
     "exception": false,
     "start_time": "2025-08-05T16:07:52.882262",
     "status": "completed"
    },
    "tags": []
   },
   "outputs": [],
   "source": [
    "from fairness_multiverse.universe import sample_by_year_size\n",
    "\n",
    "siab_train = sample_by_year_size(siab,\n",
    "                               training_year=universe[\"training_year\"],\n",
    "                               training_size=universe[\"training_size\"])"
   ]
  },
  {
   "cell_type": "code",
   "execution_count": 12,
   "id": "8d3afb32-789d-442c-8d5d-9f5aa8dd2eed",
   "metadata": {
    "execution": {
     "iopub.execute_input": "2025-08-05T16:07:53.196830Z",
     "iopub.status.busy": "2025-08-05T16:07:53.196146Z",
     "iopub.status.idle": "2025-08-05T16:07:53.202611Z",
     "shell.execute_reply": "2025-08-05T16:07:53.201362Z"
    },
    "papermill": {
     "duration": 0.03564,
     "end_time": "2025-08-05T16:07:53.205101",
     "exception": false,
     "start_time": "2025-08-05T16:07:53.169461",
     "status": "completed"
    },
    "tags": []
   },
   "outputs": [],
   "source": [
    "#siab_train.shape"
   ]
  },
  {
   "cell_type": "code",
   "execution_count": 13,
   "id": "d582db68-1a4c-47fb-84fc-08518dc1975a",
   "metadata": {
    "execution": {
     "iopub.execute_input": "2025-08-05T16:07:53.257883Z",
     "iopub.status.busy": "2025-08-05T16:07:53.257323Z",
     "iopub.status.idle": "2025-08-05T16:07:53.263418Z",
     "shell.execute_reply": "2025-08-05T16:07:53.262174Z"
    },
    "papermill": {
     "duration": 0.034534,
     "end_time": "2025-08-05T16:07:53.265776",
     "exception": false,
     "start_time": "2025-08-05T16:07:53.231242",
     "status": "completed"
    },
    "tags": []
   },
   "outputs": [],
   "source": [
    "#display(siab_train.groupby(\"year\").size())"
   ]
  },
  {
   "cell_type": "code",
   "execution_count": 14,
   "id": "a561edb4-d032-42cb-8256-22eac1111c64",
   "metadata": {
    "execution": {
     "iopub.execute_input": "2025-08-05T16:07:53.316450Z",
     "iopub.status.busy": "2025-08-05T16:07:53.315901Z",
     "iopub.status.idle": "2025-08-05T16:07:53.588321Z",
     "shell.execute_reply": "2025-08-05T16:07:53.587106Z"
    },
    "papermill": {
     "duration": 0.297236,
     "end_time": "2025-08-05T16:07:53.590197",
     "exception": false,
     "start_time": "2025-08-05T16:07:53.292961",
     "status": "completed"
    },
    "tags": []
   },
   "outputs": [],
   "source": [
    "#siab_train = siab_s[siab_s.year < 2015]\n",
    "siab_calib = siab[siab.year == 2015]\n",
    "siab_test = siab[siab.year == 2016]"
   ]
  },
  {
   "cell_type": "code",
   "execution_count": 15,
   "id": "472de16f-c3db-4916-846b-1f0de9cf1746",
   "metadata": {
    "execution": {
     "iopub.execute_input": "2025-08-05T16:07:53.636428Z",
     "iopub.status.busy": "2025-08-05T16:07:53.635811Z",
     "iopub.status.idle": "2025-08-05T16:07:53.643455Z",
     "shell.execute_reply": "2025-08-05T16:07:53.642671Z"
    },
    "papermill": {
     "duration": 0.034466,
     "end_time": "2025-08-05T16:07:53.645035",
     "exception": false,
     "start_time": "2025-08-05T16:07:53.610569",
     "status": "completed"
    },
    "tags": []
   },
   "outputs": [],
   "source": [
    "X_train = siab_train.iloc[:,4:164]\n",
    "y_train = siab_train.iloc[:, [3]]"
   ]
  },
  {
   "cell_type": "code",
   "execution_count": 16,
   "id": "828c96af-f43a-4ed6-ba47-8ac73a47d56c",
   "metadata": {
    "execution": {
     "iopub.execute_input": "2025-08-05T16:07:53.667293Z",
     "iopub.status.busy": "2025-08-05T16:07:53.666716Z",
     "iopub.status.idle": "2025-08-05T16:07:53.722606Z",
     "shell.execute_reply": "2025-08-05T16:07:53.721729Z"
    },
    "papermill": {
     "duration": 0.068726,
     "end_time": "2025-08-05T16:07:53.724237",
     "exception": false,
     "start_time": "2025-08-05T16:07:53.655511",
     "status": "completed"
    },
    "tags": []
   },
   "outputs": [],
   "source": [
    "X_calib = siab_calib.iloc[:,4:164]\n",
    "y_calib = siab_calib.iloc[:, [3]]"
   ]
  },
  {
   "cell_type": "code",
   "execution_count": 17,
   "id": "c34be9c3-6bd6-476e-acd3-845840e303be",
   "metadata": {
    "execution": {
     "iopub.execute_input": "2025-08-05T16:07:53.746418Z",
     "iopub.status.busy": "2025-08-05T16:07:53.745691Z",
     "iopub.status.idle": "2025-08-05T16:07:53.795693Z",
     "shell.execute_reply": "2025-08-05T16:07:53.794753Z"
    },
    "papermill": {
     "duration": 0.061893,
     "end_time": "2025-08-05T16:07:53.797137",
     "exception": false,
     "start_time": "2025-08-05T16:07:53.735244",
     "status": "completed"
    },
    "tags": []
   },
   "outputs": [],
   "source": [
    "X_test = siab_test.iloc[:,4:164]\n",
    "y_true = siab_test.iloc[:, [3]]"
   ]
  },
  {
   "cell_type": "code",
   "execution_count": 18,
   "id": "e6c733c5",
   "metadata": {
    "execution": {
     "iopub.execute_input": "2025-08-05T16:07:53.827160Z",
     "iopub.status.busy": "2025-08-05T16:07:53.826368Z",
     "iopub.status.idle": "2025-08-05T16:07:53.928883Z",
     "shell.execute_reply": "2025-08-05T16:07:53.927830Z"
    },
    "papermill": {
     "duration": 0.122585,
     "end_time": "2025-08-05T16:07:53.931026",
     "exception": false,
     "start_time": "2025-08-05T16:07:53.808441",
     "status": "completed"
    },
    "tags": []
   },
   "outputs": [],
   "source": [
    "# Auxiliary data needed downstream in the pipeline\n",
    "\n",
    "org_train = X_train.copy()\n",
    "org_test = X_test.copy()\n",
    "org_calib = X_calib.copy()"
   ]
  },
  {
   "cell_type": "markdown",
   "id": "0a4a1b33",
   "metadata": {
    "papermill": {
     "duration": 0.02174,
     "end_time": "2025-08-05T16:07:53.974151",
     "exception": false,
     "start_time": "2025-08-05T16:07:53.952411",
     "status": "completed"
    },
    "tags": []
   },
   "source": [
    "# Preprocessing Data"
   ]
  },
  {
   "cell_type": "code",
   "execution_count": 19,
   "id": "ca879031",
   "metadata": {
    "execution": {
     "iopub.execute_input": "2025-08-05T16:07:54.019255Z",
     "iopub.status.busy": "2025-08-05T16:07:54.018376Z",
     "iopub.status.idle": "2025-08-05T16:07:54.024845Z",
     "shell.execute_reply": "2025-08-05T16:07:54.023743Z"
    },
    "papermill": {
     "duration": 0.030825,
     "end_time": "2025-08-05T16:07:54.026777",
     "exception": false,
     "start_time": "2025-08-05T16:07:53.995952",
     "status": "completed"
    },
    "tags": []
   },
   "outputs": [],
   "source": [
    "# EXCLUDE PROTECTED FEATURES\n",
    "# ----------------------\n",
    "# \"exclude_features\": \"none\", # \"nationality\", \"sex\", \"nationality-sex\"\n",
    "\n",
    "excluded_features = universe[\"exclude_features\"].split(\"-\") # split, e.g.: \"nationality-sex\" -> [\"nationality\", \"sex\"]\n",
    "excluded_features_dictionary = {\n",
    "    \"nationality\": [\"maxdeutsch1\", \"maxdeutsch.Missing.\"],\n",
    "    \"sex\": [\"frau1\"],\n",
    "    \"age\": [\"age\"],\n",
    "}"
   ]
  },
  {
   "cell_type": "code",
   "execution_count": 20,
   "id": "b745ac60",
   "metadata": {
    "execution": {
     "iopub.execute_input": "2025-08-05T16:07:54.072859Z",
     "iopub.status.busy": "2025-08-05T16:07:54.072251Z",
     "iopub.status.idle": "2025-08-05T16:07:54.079943Z",
     "shell.execute_reply": "2025-08-05T16:07:54.078698Z"
    },
    "papermill": {
     "duration": 0.033198,
     "end_time": "2025-08-05T16:07:54.082265",
     "exception": false,
     "start_time": "2025-08-05T16:07:54.049067",
     "status": "completed"
    },
    "tags": []
   },
   "outputs": [],
   "source": [
    "# Code nice names to column names\n",
    "\n",
    "excluded_features_columns = [\n",
    "    excluded_features_dictionary[f] for f in excluded_features if len(f) > 0 and f != \"none\"\n",
    "]"
   ]
  },
  {
   "cell_type": "code",
   "execution_count": 21,
   "id": "f84f73a2",
   "metadata": {
    "execution": {
     "iopub.execute_input": "2025-08-05T16:07:54.126844Z",
     "iopub.status.busy": "2025-08-05T16:07:54.126236Z",
     "iopub.status.idle": "2025-08-05T16:07:54.134437Z",
     "shell.execute_reply": "2025-08-05T16:07:54.133157Z"
    },
    "papermill": {
     "duration": 0.032905,
     "end_time": "2025-08-05T16:07:54.136653",
     "exception": false,
     "start_time": "2025-08-05T16:07:54.103748",
     "status": "completed"
    },
    "tags": []
   },
   "outputs": [],
   "source": [
    "from utils import flatten_once\n",
    "\n",
    "excluded_features_columns = flatten_once(excluded_features_columns)"
   ]
  },
  {
   "cell_type": "code",
   "execution_count": 22,
   "id": "884dea22",
   "metadata": {
    "execution": {
     "iopub.execute_input": "2025-08-05T16:07:54.181883Z",
     "iopub.status.busy": "2025-08-05T16:07:54.180930Z",
     "iopub.status.idle": "2025-08-05T16:07:54.191101Z",
     "shell.execute_reply": "2025-08-05T16:07:54.189578Z"
    },
    "papermill": {
     "duration": 0.034883,
     "end_time": "2025-08-05T16:07:54.192992",
     "exception": false,
     "start_time": "2025-08-05T16:07:54.158109",
     "status": "completed"
    },
    "tags": []
   },
   "outputs": [
    {
     "name": "stdout",
     "output_type": "stream",
     "text": [
      "Dropping features: ['frau1']\n"
     ]
    }
   ],
   "source": [
    "if len(excluded_features_columns) > 0:\n",
    "    print(f\"Dropping features: {excluded_features_columns}\")\n",
    "    X_train.drop(excluded_features_columns, axis=1, inplace=True)"
   ]
  },
  {
   "cell_type": "code",
   "execution_count": 23,
   "id": "95ab8b16",
   "metadata": {
    "execution": {
     "iopub.execute_input": "2025-08-05T16:07:54.237580Z",
     "iopub.status.busy": "2025-08-05T16:07:54.236540Z",
     "iopub.status.idle": "2025-08-05T16:07:54.300079Z",
     "shell.execute_reply": "2025-08-05T16:07:54.298606Z"
    },
    "papermill": {
     "duration": 0.087452,
     "end_time": "2025-08-05T16:07:54.302382",
     "exception": false,
     "start_time": "2025-08-05T16:07:54.214930",
     "status": "completed"
    },
    "tags": []
   },
   "outputs": [
    {
     "name": "stdout",
     "output_type": "stream",
     "text": [
      "Dropping features: ['frau1']\n"
     ]
    }
   ],
   "source": [
    "if len(excluded_features_columns) > 0:\n",
    "    print(f\"Dropping features: {excluded_features_columns}\")\n",
    "    X_test.drop(excluded_features_columns, axis=1, inplace=True)"
   ]
  },
  {
   "cell_type": "code",
   "execution_count": 24,
   "id": "1853aaf5-fb9f-46cb-a2b5-8ea4ae2237e4",
   "metadata": {
    "execution": {
     "iopub.execute_input": "2025-08-05T16:07:54.345802Z",
     "iopub.status.busy": "2025-08-05T16:07:54.344957Z",
     "iopub.status.idle": "2025-08-05T16:07:54.382566Z",
     "shell.execute_reply": "2025-08-05T16:07:54.381365Z"
    },
    "papermill": {
     "duration": 0.060833,
     "end_time": "2025-08-05T16:07:54.384792",
     "exception": false,
     "start_time": "2025-08-05T16:07:54.323959",
     "status": "completed"
    },
    "tags": []
   },
   "outputs": [
    {
     "name": "stdout",
     "output_type": "stream",
     "text": [
      "Dropping features: ['frau1']\n"
     ]
    }
   ],
   "source": [
    "if len(excluded_features_columns) > 0:\n",
    "    print(f\"Dropping features: {excluded_features_columns}\")\n",
    "    X_calib.drop(excluded_features_columns, axis=1, inplace=True)"
   ]
  },
  {
   "cell_type": "code",
   "execution_count": 25,
   "id": "76c4dc6d",
   "metadata": {
    "execution": {
     "iopub.execute_input": "2025-08-05T16:07:54.428717Z",
     "iopub.status.busy": "2025-08-05T16:07:54.427689Z",
     "iopub.status.idle": "2025-08-05T16:07:54.433665Z",
     "shell.execute_reply": "2025-08-05T16:07:54.432566Z"
    },
    "papermill": {
     "duration": 0.028985,
     "end_time": "2025-08-05T16:07:54.435657",
     "exception": false,
     "start_time": "2025-08-05T16:07:54.406672",
     "status": "completed"
    },
    "tags": []
   },
   "outputs": [],
   "source": [
    "# EXCLUDE CERTAIN SUBGROUPS\n",
    "# ----------------------\n",
    "\n",
    "mode = universe.get(\"exclude_subgroups\", \"keep-all\") \n",
    "# Fetches the exclude_subgroups setting from the universe dict.\n",
    "# Defaults to \"keep-all\" if the key is missing."
   ]
  },
  {
   "cell_type": "code",
   "execution_count": 26,
   "id": "21994072",
   "metadata": {
    "execution": {
     "iopub.execute_input": "2025-08-05T16:07:54.477769Z",
     "iopub.status.busy": "2025-08-05T16:07:54.476741Z",
     "iopub.status.idle": "2025-08-05T16:07:54.485022Z",
     "shell.execute_reply": "2025-08-05T16:07:54.483815Z"
    },
    "papermill": {
     "duration": 0.032711,
     "end_time": "2025-08-05T16:07:54.487503",
     "exception": false,
     "start_time": "2025-08-05T16:07:54.454792",
     "status": "completed"
    },
    "tags": []
   },
   "outputs": [],
   "source": [
    "if mode == \"keep-all\":\n",
    "    keep_mask = pd.Series(True, index=org_train.index)\n",
    "\n",
    "# org_train contains the original feature columns from features_org (in Simson)\n",
    "# features_org contains unprocessed features, for me X_train at beginning ???\n",
    "# For keep-all, creates a boolean Series (keep_mask) of all True, so no rows are removed.\n",
    "\n",
    "elif mode == \"drop-non-german\":\n",
    "    keep_mask = org_train[\"maxdeutsch1\"] == 1 # ??? what about missing values?\n",
    "\n",
    "else:\n",
    "    raise ValueError(f\"Unsupported mode for exclude_subgroups: {mode}\")"
   ]
  },
  {
   "cell_type": "code",
   "execution_count": 27,
   "id": "71651440",
   "metadata": {
    "execution": {
     "iopub.execute_input": "2025-08-05T16:07:54.543720Z",
     "iopub.status.busy": "2025-08-05T16:07:54.542942Z",
     "iopub.status.idle": "2025-08-05T16:07:54.550755Z",
     "shell.execute_reply": "2025-08-05T16:07:54.549613Z"
    },
    "papermill": {
     "duration": 0.037787,
     "end_time": "2025-08-05T16:07:54.552705",
     "exception": false,
     "start_time": "2025-08-05T16:07:54.514918",
     "status": "completed"
    },
    "tags": []
   },
   "outputs": [],
   "source": [
    "n_drop = (~keep_mask).sum() # Calculates how many rows are set to be dropped\n",
    "if n_drop > 0:\n",
    "    pct = n_drop / len(keep_mask) * 100\n",
    "    print(f\"Dropping {n_drop} rows ({pct:.2f}%) where mode='{mode}'\")"
   ]
  },
  {
   "cell_type": "code",
   "execution_count": 28,
   "id": "5fb8eee5",
   "metadata": {
    "execution": {
     "iopub.execute_input": "2025-08-05T16:07:54.598161Z",
     "iopub.status.busy": "2025-08-05T16:07:54.597069Z",
     "iopub.status.idle": "2025-08-05T16:07:54.604452Z",
     "shell.execute_reply": "2025-08-05T16:07:54.603336Z"
    },
    "papermill": {
     "duration": 0.031949,
     "end_time": "2025-08-05T16:07:54.606786",
     "exception": false,
     "start_time": "2025-08-05T16:07:54.574837",
     "status": "completed"
    },
    "tags": []
   },
   "outputs": [],
   "source": [
    "X_train = X_train[keep_mask]"
   ]
  },
  {
   "cell_type": "code",
   "execution_count": 29,
   "id": "b202bb3a",
   "metadata": {
    "execution": {
     "iopub.execute_input": "2025-08-05T16:07:54.663904Z",
     "iopub.status.busy": "2025-08-05T16:07:54.662829Z",
     "iopub.status.idle": "2025-08-05T16:07:54.670653Z",
     "shell.execute_reply": "2025-08-05T16:07:54.669304Z"
    },
    "papermill": {
     "duration": 0.037774,
     "end_time": "2025-08-05T16:07:54.672804",
     "exception": false,
     "start_time": "2025-08-05T16:07:54.635030",
     "status": "completed"
    },
    "tags": []
   },
   "outputs": [],
   "source": [
    "y_train = y_train[keep_mask]"
   ]
  },
  {
   "cell_type": "markdown",
   "id": "493e2ac3",
   "metadata": {
    "papermill": {
     "duration": 0.02678,
     "end_time": "2025-08-05T16:07:54.727181",
     "exception": false,
     "start_time": "2025-08-05T16:07:54.700401",
     "status": "completed"
    },
    "tags": []
   },
   "source": [
    "# Model Training"
   ]
  },
  {
   "cell_type": "code",
   "execution_count": 30,
   "id": "679e1268",
   "metadata": {
    "execution": {
     "iopub.execute_input": "2025-08-05T16:07:54.784782Z",
     "iopub.status.busy": "2025-08-05T16:07:54.784000Z",
     "iopub.status.idle": "2025-08-05T16:07:54.881230Z",
     "shell.execute_reply": "2025-08-05T16:07:54.880408Z"
    },
    "papermill": {
     "duration": 0.129806,
     "end_time": "2025-08-05T16:07:54.883798",
     "exception": false,
     "start_time": "2025-08-05T16:07:54.753992",
     "status": "completed"
    },
    "tags": []
   },
   "outputs": [],
   "source": [
    "from sklearn.linear_model import LogisticRegression\n",
    "from sklearn.ensemble import GradientBoostingClassifier, RandomForestClassifier\n",
    "\n",
    "if (universe[\"model\"] == \"logreg\"):\n",
    "    model = LogisticRegression() #penalty=\"none\", solver=\"newton-cg\", max_iter=1) # include random_state=19 ?\n",
    "elif (universe[\"model\"] == \"penalized_logreg\"):\n",
    "    model = LogisticRegression(penalty=\"l2\", C=0.1) #, solver=\"newton-cg\", max_iter=1)\n",
    "elif (universe[\"model\"] == \"rf\"):\n",
    "    model = RandomForestClassifier() # n_estimators=100, n_jobs=-1\n",
    "elif (universe[\"model\"] == \"gbm\"):\n",
    "    model = GradientBoostingClassifier()\n",
    "elif (universe[\"model\"] == \"elasticnet\"):\n",
    "    model = LogisticRegression(penalty = 'elasticnet', solver = 'saga', l1_ratio = 0.5) # max_iter=5000\n",
    "else:\n",
    "    raise \"Unsupported universe.model\""
   ]
  },
  {
   "cell_type": "code",
   "execution_count": 31,
   "id": "0cc8f744",
   "metadata": {
    "execution": {
     "iopub.execute_input": "2025-08-05T16:07:54.940830Z",
     "iopub.status.busy": "2025-08-05T16:07:54.939753Z",
     "iopub.status.idle": "2025-08-05T16:07:54.947763Z",
     "shell.execute_reply": "2025-08-05T16:07:54.946518Z"
    },
    "papermill": {
     "duration": 0.038862,
     "end_time": "2025-08-05T16:07:54.950158",
     "exception": false,
     "start_time": "2025-08-05T16:07:54.911296",
     "status": "completed"
    },
    "tags": []
   },
   "outputs": [],
   "source": [
    "import numpy as np\n",
    "from sklearn.pipeline import Pipeline\n",
    "from sklearn.preprocessing import StandardScaler\n",
    "\n",
    "model = Pipeline([\n",
    "    #(\"continuous_processor\", continuous_processor),\n",
    "    #(\"categorical_preprocessor\", categorical_preprocessor),\n",
    "    (\"scale\", StandardScaler() if universe[\"scale\"] == \"scale\" else None), \n",
    "    (\"model\", model),\n",
    "])"
   ]
  },
  {
   "cell_type": "code",
   "execution_count": 32,
   "id": "9442c04d",
   "metadata": {
    "execution": {
     "iopub.execute_input": "2025-08-05T16:07:55.007098Z",
     "iopub.status.busy": "2025-08-05T16:07:55.006333Z",
     "iopub.status.idle": "2025-08-05T16:07:55.448532Z",
     "shell.execute_reply": "2025-08-05T16:07:55.447246Z"
    },
    "papermill": {
     "duration": 0.474781,
     "end_time": "2025-08-05T16:07:55.452580",
     "exception": false,
     "start_time": "2025-08-05T16:07:54.977799",
     "status": "completed"
    },
    "tags": []
   },
   "outputs": [
    {
     "name": "stderr",
     "output_type": "stream",
     "text": [
      "/dss/dsshome1/0C/ra93lal2/.local/share/virtualenvs/CMA_Fairness_v2-3j10GkSs/lib/python3.10/site-packages/sklearn/linear_model/_sag.py:350: ConvergenceWarning: The max_iter was reached which means the coef_ did not converge\n",
      "  warnings.warn(\n"
     ]
    },
    {
     "data": {
      "text/html": [
       "<style>#sk-container-id-1 {color: black;background-color: white;}#sk-container-id-1 pre{padding: 0;}#sk-container-id-1 div.sk-toggleable {background-color: white;}#sk-container-id-1 label.sk-toggleable__label {cursor: pointer;display: block;width: 100%;margin-bottom: 0;padding: 0.3em;box-sizing: border-box;text-align: center;}#sk-container-id-1 label.sk-toggleable__label-arrow:before {content: \"▸\";float: left;margin-right: 0.25em;color: #696969;}#sk-container-id-1 label.sk-toggleable__label-arrow:hover:before {color: black;}#sk-container-id-1 div.sk-estimator:hover label.sk-toggleable__label-arrow:before {color: black;}#sk-container-id-1 div.sk-toggleable__content {max-height: 0;max-width: 0;overflow: hidden;text-align: left;background-color: #f0f8ff;}#sk-container-id-1 div.sk-toggleable__content pre {margin: 0.2em;color: black;border-radius: 0.25em;background-color: #f0f8ff;}#sk-container-id-1 input.sk-toggleable__control:checked~div.sk-toggleable__content {max-height: 200px;max-width: 100%;overflow: auto;}#sk-container-id-1 input.sk-toggleable__control:checked~label.sk-toggleable__label-arrow:before {content: \"▾\";}#sk-container-id-1 div.sk-estimator input.sk-toggleable__control:checked~label.sk-toggleable__label {background-color: #d4ebff;}#sk-container-id-1 div.sk-label input.sk-toggleable__control:checked~label.sk-toggleable__label {background-color: #d4ebff;}#sk-container-id-1 input.sk-hidden--visually {border: 0;clip: rect(1px 1px 1px 1px);clip: rect(1px, 1px, 1px, 1px);height: 1px;margin: -1px;overflow: hidden;padding: 0;position: absolute;width: 1px;}#sk-container-id-1 div.sk-estimator {font-family: monospace;background-color: #f0f8ff;border: 1px dotted black;border-radius: 0.25em;box-sizing: border-box;margin-bottom: 0.5em;}#sk-container-id-1 div.sk-estimator:hover {background-color: #d4ebff;}#sk-container-id-1 div.sk-parallel-item::after {content: \"\";width: 100%;border-bottom: 1px solid gray;flex-grow: 1;}#sk-container-id-1 div.sk-label:hover label.sk-toggleable__label {background-color: #d4ebff;}#sk-container-id-1 div.sk-serial::before {content: \"\";position: absolute;border-left: 1px solid gray;box-sizing: border-box;top: 0;bottom: 0;left: 50%;z-index: 0;}#sk-container-id-1 div.sk-serial {display: flex;flex-direction: column;align-items: center;background-color: white;padding-right: 0.2em;padding-left: 0.2em;position: relative;}#sk-container-id-1 div.sk-item {position: relative;z-index: 1;}#sk-container-id-1 div.sk-parallel {display: flex;align-items: stretch;justify-content: center;background-color: white;position: relative;}#sk-container-id-1 div.sk-item::before, #sk-container-id-1 div.sk-parallel-item::before {content: \"\";position: absolute;border-left: 1px solid gray;box-sizing: border-box;top: 0;bottom: 0;left: 50%;z-index: -1;}#sk-container-id-1 div.sk-parallel-item {display: flex;flex-direction: column;z-index: 1;position: relative;background-color: white;}#sk-container-id-1 div.sk-parallel-item:first-child::after {align-self: flex-end;width: 50%;}#sk-container-id-1 div.sk-parallel-item:last-child::after {align-self: flex-start;width: 50%;}#sk-container-id-1 div.sk-parallel-item:only-child::after {width: 0;}#sk-container-id-1 div.sk-dashed-wrapped {border: 1px dashed gray;margin: 0 0.4em 0.5em 0.4em;box-sizing: border-box;padding-bottom: 0.4em;background-color: white;}#sk-container-id-1 div.sk-label label {font-family: monospace;font-weight: bold;display: inline-block;line-height: 1.2em;}#sk-container-id-1 div.sk-label-container {text-align: center;}#sk-container-id-1 div.sk-container {/* jupyter's `normalize.less` sets `[hidden] { display: none; }` but bootstrap.min.css set `[hidden] { display: none !important; }` so we also need the `!important` here to be able to override the default hidden behavior on the sphinx rendered scikit-learn.org. See: https://github.com/scikit-learn/scikit-learn/issues/21755 */display: inline-block !important;position: relative;}#sk-container-id-1 div.sk-text-repr-fallback {display: none;}</style><div id=\"sk-container-id-1\" class=\"sk-top-container\"><div class=\"sk-text-repr-fallback\"><pre>Pipeline(steps=[(&#x27;scale&#x27;, StandardScaler()),\n",
       "                (&#x27;model&#x27;,\n",
       "                 LogisticRegression(l1_ratio=0.5, penalty=&#x27;elasticnet&#x27;,\n",
       "                                    solver=&#x27;saga&#x27;))])</pre><b>In a Jupyter environment, please rerun this cell to show the HTML representation or trust the notebook. <br />On GitHub, the HTML representation is unable to render, please try loading this page with nbviewer.org.</b></div><div class=\"sk-container\" hidden><div class=\"sk-item sk-dashed-wrapped\"><div class=\"sk-label-container\"><div class=\"sk-label sk-toggleable\"><input class=\"sk-toggleable__control sk-hidden--visually\" id=\"sk-estimator-id-1\" type=\"checkbox\" ><label for=\"sk-estimator-id-1\" class=\"sk-toggleable__label sk-toggleable__label-arrow\">Pipeline</label><div class=\"sk-toggleable__content\"><pre>Pipeline(steps=[(&#x27;scale&#x27;, StandardScaler()),\n",
       "                (&#x27;model&#x27;,\n",
       "                 LogisticRegression(l1_ratio=0.5, penalty=&#x27;elasticnet&#x27;,\n",
       "                                    solver=&#x27;saga&#x27;))])</pre></div></div></div><div class=\"sk-serial\"><div class=\"sk-item\"><div class=\"sk-estimator sk-toggleable\"><input class=\"sk-toggleable__control sk-hidden--visually\" id=\"sk-estimator-id-2\" type=\"checkbox\" ><label for=\"sk-estimator-id-2\" class=\"sk-toggleable__label sk-toggleable__label-arrow\">StandardScaler</label><div class=\"sk-toggleable__content\"><pre>StandardScaler()</pre></div></div></div><div class=\"sk-item\"><div class=\"sk-estimator sk-toggleable\"><input class=\"sk-toggleable__control sk-hidden--visually\" id=\"sk-estimator-id-3\" type=\"checkbox\" ><label for=\"sk-estimator-id-3\" class=\"sk-toggleable__label sk-toggleable__label-arrow\">LogisticRegression</label><div class=\"sk-toggleable__content\"><pre>LogisticRegression(l1_ratio=0.5, penalty=&#x27;elasticnet&#x27;, solver=&#x27;saga&#x27;)</pre></div></div></div></div></div></div></div>"
      ],
      "text/plain": [
       "Pipeline(steps=[('scale', StandardScaler()),\n",
       "                ('model',\n",
       "                 LogisticRegression(l1_ratio=0.5, penalty='elasticnet',\n",
       "                                    solver='saga'))])"
      ]
     },
     "execution_count": 32,
     "metadata": {},
     "output_type": "execute_result"
    }
   ],
   "source": [
    "model.fit(X_train, y_train.values.ravel())"
   ]
  },
  {
   "cell_type": "code",
   "execution_count": 33,
   "id": "af59f8c0",
   "metadata": {
    "execution": {
     "iopub.execute_input": "2025-08-05T16:07:55.516932Z",
     "iopub.status.busy": "2025-08-05T16:07:55.516146Z",
     "iopub.status.idle": "2025-08-05T16:07:55.523017Z",
     "shell.execute_reply": "2025-08-05T16:07:55.521323Z"
    },
    "papermill": {
     "duration": 0.042436,
     "end_time": "2025-08-05T16:07:55.525832",
     "exception": false,
     "start_time": "2025-08-05T16:07:55.483396",
     "status": "completed"
    },
    "tags": []
   },
   "outputs": [],
   "source": [
    "from fairness_multiverse.universe import predict_w_threshold"
   ]
  },
  {
   "cell_type": "code",
   "execution_count": 34,
   "id": "a7cf2e16",
   "metadata": {
    "execution": {
     "iopub.execute_input": "2025-08-05T16:07:55.595508Z",
     "iopub.status.busy": "2025-08-05T16:07:55.593382Z",
     "iopub.status.idle": "2025-08-05T16:07:55.931224Z",
     "shell.execute_reply": "2025-08-05T16:07:55.930002Z"
    },
    "papermill": {
     "duration": 0.374202,
     "end_time": "2025-08-05T16:07:55.933249",
     "exception": false,
     "start_time": "2025-08-05T16:07:55.559047",
     "status": "completed"
    },
    "tags": []
   },
   "outputs": [
    {
     "data": {
      "text/plain": [
       "0.8217924423141233"
      ]
     },
     "execution_count": 34,
     "metadata": {},
     "output_type": "execute_result"
    }
   ],
   "source": [
    "probs_test = model.predict_proba(X_test)\n",
    "\n",
    "'''\n",
    "Below code returns a boolean array (or binary 0/1 array depending on how it’s used) where each element \n",
    "is True if the probability of class 1 is greater than or equal to the threshold, and False otherwise.\n",
    "'''\n",
    "y_pred_default = predict_w_threshold(probs_test, 0.5)\n",
    "\n",
    "from sklearn.metrics import accuracy_score\n",
    "\n",
    "# Naive prediction\n",
    "accuracy_score(y_true = y_true, y_pred = y_pred_default)"
   ]
  },
  {
   "cell_type": "code",
   "execution_count": 35,
   "id": "081964c3",
   "metadata": {
    "execution": {
     "iopub.execute_input": "2025-08-05T16:07:55.976312Z",
     "iopub.status.busy": "2025-08-05T16:07:55.975210Z",
     "iopub.status.idle": "2025-08-05T16:07:56.176619Z",
     "shell.execute_reply": "2025-08-05T16:07:56.175314Z"
    },
    "papermill": {
     "duration": 0.227558,
     "end_time": "2025-08-05T16:07:56.179876",
     "exception": false,
     "start_time": "2025-08-05T16:07:55.952318",
     "status": "completed"
    },
    "tags": []
   },
   "outputs": [
    {
     "data": {
      "text/plain": [
       "array([0, 0, 0, ..., 0, 0, 0])"
      ]
     },
     "execution_count": 35,
     "metadata": {},
     "output_type": "execute_result"
    }
   ],
   "source": [
    "model.predict(X_test)"
   ]
  },
  {
   "cell_type": "markdown",
   "id": "56c9705b",
   "metadata": {
    "papermill": {
     "duration": 0.020868,
     "end_time": "2025-08-05T16:07:56.229216",
     "exception": false,
     "start_time": "2025-08-05T16:07:56.208348",
     "status": "completed"
    },
    "tags": []
   },
   "source": [
    "# Conformal Prediction"
   ]
  },
  {
   "cell_type": "code",
   "execution_count": 36,
   "id": "160ec6ff",
   "metadata": {
    "execution": {
     "iopub.execute_input": "2025-08-05T16:07:56.252445Z",
     "iopub.status.busy": "2025-08-05T16:07:56.251963Z",
     "iopub.status.idle": "2025-08-05T16:07:56.258079Z",
     "shell.execute_reply": "2025-08-05T16:07:56.256993Z"
    },
    "papermill": {
     "duration": 0.019784,
     "end_time": "2025-08-05T16:07:56.260298",
     "exception": false,
     "start_time": "2025-08-05T16:07:56.240514",
     "status": "completed"
    },
    "tags": []
   },
   "outputs": [],
   "source": [
    "# Miscoverage level for conformal prediction (10% allowed error rate => 90% target coverage)\n",
    "alpha = 0.1"
   ]
  },
  {
   "cell_type": "code",
   "execution_count": 37,
   "id": "eadf4555-3dd3-440e-8e35-f82a4ad9f855",
   "metadata": {
    "execution": {
     "iopub.execute_input": "2025-08-05T16:07:56.295196Z",
     "iopub.status.busy": "2025-08-05T16:07:56.294875Z",
     "iopub.status.idle": "2025-08-05T16:07:56.491311Z",
     "shell.execute_reply": "2025-08-05T16:07:56.490103Z"
    },
    "papermill": {
     "duration": 0.210521,
     "end_time": "2025-08-05T16:07:56.493018",
     "exception": false,
     "start_time": "2025-08-05T16:07:56.282497",
     "status": "completed"
    },
    "tags": []
   },
   "outputs": [],
   "source": [
    "probs_calib = model.predict_proba(X_calib)"
   ]
  },
  {
   "cell_type": "code",
   "execution_count": 38,
   "id": "2ed93547-6d5d-4983-9b36-1ecb300da49a",
   "metadata": {
    "execution": {
     "iopub.execute_input": "2025-08-05T16:07:56.556713Z",
     "iopub.status.busy": "2025-08-05T16:07:56.556228Z",
     "iopub.status.idle": "2025-08-05T16:07:56.563308Z",
     "shell.execute_reply": "2025-08-05T16:07:56.561639Z"
    },
    "papermill": {
     "duration": 0.041895,
     "end_time": "2025-08-05T16:07:56.565784",
     "exception": false,
     "start_time": "2025-08-05T16:07:56.523889",
     "status": "completed"
    },
    "tags": []
   },
   "outputs": [],
   "source": [
    "y_calib = y_calib.values.ravel().astype(int)"
   ]
  },
  {
   "cell_type": "code",
   "execution_count": 39,
   "id": "65d1320d-f588-4b38-9072-62af1ae97f7d",
   "metadata": {
    "execution": {
     "iopub.execute_input": "2025-08-05T16:07:56.633005Z",
     "iopub.status.busy": "2025-08-05T16:07:56.632224Z",
     "iopub.status.idle": "2025-08-05T16:07:56.640808Z",
     "shell.execute_reply": "2025-08-05T16:07:56.639572Z"
    },
    "papermill": {
     "duration": 0.043455,
     "end_time": "2025-08-05T16:07:56.642792",
     "exception": false,
     "start_time": "2025-08-05T16:07:56.599337",
     "status": "completed"
    },
    "tags": []
   },
   "outputs": [],
   "source": [
    "from fairness_multiverse.conformal import compute_nc_scores\n",
    "\n",
    "# Compute nonconformity scores on calibration set (1 - probability of true class)\n",
    "nc_scores = compute_nc_scores(probs_calib, y_calib)"
   ]
  },
  {
   "cell_type": "code",
   "execution_count": 40,
   "id": "df3b8ca3-53b7-43d5-9667-7c85da7aeda2",
   "metadata": {
    "execution": {
     "iopub.execute_input": "2025-08-05T16:07:56.669650Z",
     "iopub.status.busy": "2025-08-05T16:07:56.669226Z",
     "iopub.status.idle": "2025-08-05T16:07:56.676383Z",
     "shell.execute_reply": "2025-08-05T16:07:56.675130Z"
    },
    "papermill": {
     "duration": 0.02075,
     "end_time": "2025-08-05T16:07:56.678636",
     "exception": false,
     "start_time": "2025-08-05T16:07:56.657886",
     "status": "completed"
    },
    "tags": []
   },
   "outputs": [],
   "source": [
    "from fairness_multiverse.conformal import find_threshold\n",
    "\n",
    "# Find conformal threshold q_hat for the given alpha (split conformal method)\n",
    "q_hat = find_threshold(nc_scores, alpha)"
   ]
  },
  {
   "cell_type": "code",
   "execution_count": 41,
   "id": "4d29e6c1-0ef6-4aa4-b8fe-4fe79b0d033a",
   "metadata": {
    "execution": {
     "iopub.execute_input": "2025-08-05T16:07:56.729466Z",
     "iopub.status.busy": "2025-08-05T16:07:56.728940Z",
     "iopub.status.idle": "2025-08-05T16:07:56.736801Z",
     "shell.execute_reply": "2025-08-05T16:07:56.735721Z"
    },
    "papermill": {
     "duration": 0.035429,
     "end_time": "2025-08-05T16:07:56.738862",
     "exception": false,
     "start_time": "2025-08-05T16:07:56.703433",
     "status": "completed"
    },
    "tags": []
   },
   "outputs": [
    {
     "data": {
      "text/plain": [
       "0.7749673416641049"
      ]
     },
     "execution_count": 41,
     "metadata": {},
     "output_type": "execute_result"
    }
   ],
   "source": [
    "q_hat"
   ]
  },
  {
   "cell_type": "code",
   "execution_count": 42,
   "id": "92460794-cdac-4be2-ba28-f28c0515a6fb",
   "metadata": {
    "execution": {
     "iopub.execute_input": "2025-08-05T16:07:56.777350Z",
     "iopub.status.busy": "2025-08-05T16:07:56.776881Z",
     "iopub.status.idle": "2025-08-05T16:07:57.757395Z",
     "shell.execute_reply": "2025-08-05T16:07:57.756515Z"
    },
    "papermill": {
     "duration": 0.999718,
     "end_time": "2025-08-05T16:07:57.760063",
     "exception": false,
     "start_time": "2025-08-05T16:07:56.760345",
     "status": "completed"
    },
    "tags": []
   },
   "outputs": [],
   "source": [
    "from fairness_multiverse.conformal import predict_conformal_sets\n",
    "\n",
    "# Generate prediction sets for each test example\n",
    "pred_sets = predict_conformal_sets(model, X_test, q_hat)"
   ]
  },
  {
   "cell_type": "code",
   "execution_count": 43,
   "id": "d90c9a65-e6db-4f5d-80cd-e68fb7e46829",
   "metadata": {
    "execution": {
     "iopub.execute_input": "2025-08-05T16:07:57.801292Z",
     "iopub.status.busy": "2025-08-05T16:07:57.800783Z",
     "iopub.status.idle": "2025-08-05T16:07:57.805996Z",
     "shell.execute_reply": "2025-08-05T16:07:57.804902Z"
    },
    "papermill": {
     "duration": 0.020716,
     "end_time": "2025-08-05T16:07:57.807409",
     "exception": false,
     "start_time": "2025-08-05T16:07:57.786693",
     "status": "completed"
    },
    "tags": []
   },
   "outputs": [],
   "source": [
    "y_true = y_true.squeeze()"
   ]
  },
  {
   "cell_type": "code",
   "execution_count": 44,
   "id": "3a58a54a-1e68-46b9-927a-df01f18aebc8",
   "metadata": {
    "execution": {
     "iopub.execute_input": "2025-08-05T16:07:57.835413Z",
     "iopub.status.busy": "2025-08-05T16:07:57.835071Z",
     "iopub.status.idle": "2025-08-05T16:07:58.525908Z",
     "shell.execute_reply": "2025-08-05T16:07:58.524892Z"
    },
    "papermill": {
     "duration": 0.705388,
     "end_time": "2025-08-05T16:07:58.527490",
     "exception": false,
     "start_time": "2025-08-05T16:07:57.822102",
     "status": "completed"
    },
    "tags": []
   },
   "outputs": [],
   "source": [
    "from fairness_multiverse.conformal import evaluate_sets\n",
    "\n",
    "# Evaluate coverage and average set size on test data\n",
    "metrics = evaluate_sets(pred_sets, y_true)"
   ]
  },
  {
   "cell_type": "markdown",
   "id": "2b569c12-9aaa-4c88-98c9-bbcd0cf3ebb8",
   "metadata": {
    "papermill": {
     "duration": 0.020006,
     "end_time": "2025-08-05T16:07:58.566532",
     "exception": false,
     "start_time": "2025-08-05T16:07:58.546526",
     "status": "completed"
    },
    "tags": []
   },
   "source": [
    "# CP Metrics"
   ]
  },
  {
   "cell_type": "code",
   "execution_count": 45,
   "id": "5ce0a5cb-201f-45a0-ade5-94c7f0bd6095",
   "metadata": {
    "execution": {
     "iopub.execute_input": "2025-08-05T16:07:58.607563Z",
     "iopub.status.busy": "2025-08-05T16:07:58.607128Z",
     "iopub.status.idle": "2025-08-05T16:07:58.614223Z",
     "shell.execute_reply": "2025-08-05T16:07:58.613212Z"
    },
    "papermill": {
     "duration": 0.02949,
     "end_time": "2025-08-05T16:07:58.615893",
     "exception": false,
     "start_time": "2025-08-05T16:07:58.586403",
     "status": "completed"
    },
    "tags": []
   },
   "outputs": [
    {
     "data": {
      "text/plain": [
       "{'coverage': 0.9068331289711292, 'avg_size': 1.2239326719429273}"
      ]
     },
     "execution_count": 45,
     "metadata": {},
     "output_type": "execute_result"
    }
   ],
   "source": [
    "metrics"
   ]
  },
  {
   "cell_type": "code",
   "execution_count": 46,
   "id": "9b9a838d-31c9-430b-ae14-12baee460d17",
   "metadata": {
    "execution": {
     "iopub.execute_input": "2025-08-05T16:07:58.658715Z",
     "iopub.status.busy": "2025-08-05T16:07:58.658163Z",
     "iopub.status.idle": "2025-08-05T16:07:58.666012Z",
     "shell.execute_reply": "2025-08-05T16:07:58.664961Z"
    },
    "papermill": {
     "duration": 0.030962,
     "end_time": "2025-08-05T16:07:58.667741",
     "exception": false,
     "start_time": "2025-08-05T16:07:58.636779",
     "status": "completed"
    },
    "tags": []
   },
   "outputs": [],
   "source": [
    "example_universe = universe.copy()\n",
    "universe_training_year = example_universe.get(\"training_year\")\n",
    "universe_training_size = example_universe.get(\"training_size\")\n",
    "universe_scale = example_universe.get(\"scale\")\n",
    "universe_model = example_universe.get(\"model\")\n",
    "universe_exclude_features = example_universe.get(\"exclude_features\")\n",
    "universe_exclude_subgroups = example_universe.get(\"exclude_subgroups\")"
   ]
  },
  {
   "cell_type": "code",
   "execution_count": 47,
   "id": "f4b6a8ac-9dc0-4245-8a91-5b3b5999c4f9",
   "metadata": {
    "execution": {
     "iopub.execute_input": "2025-08-05T16:07:58.713046Z",
     "iopub.status.busy": "2025-08-05T16:07:58.712578Z",
     "iopub.status.idle": "2025-08-05T16:07:58.719497Z",
     "shell.execute_reply": "2025-08-05T16:07:58.718595Z"
    },
    "papermill": {
     "duration": 0.032678,
     "end_time": "2025-08-05T16:07:58.721498",
     "exception": false,
     "start_time": "2025-08-05T16:07:58.688820",
     "status": "completed"
    },
    "tags": []
   },
   "outputs": [],
   "source": [
    "cp_metrics_dict = {\n",
    "    \"universe_id\": [universe_id],\n",
    "    \"universe_training_year\": [universe_training_year],\n",
    "    \"universe_training_size\": [universe_training_size],\n",
    "    \"universe_scale\": [universe_scale],\n",
    "    \"universe_model\": [universe_model],\n",
    "    \"universe_exclude_features\": [universe_exclude_features],\n",
    "    \"universe_exclude_subgroups\": [universe_exclude_subgroups],\n",
    "    \"q_hat\": [q_hat],\n",
    "    \"coverage\": [metrics[\"coverage\"]],\n",
    "    \"avg_size\": [metrics[\"avg_size\"]],\n",
    "}"
   ]
  },
  {
   "cell_type": "code",
   "execution_count": 48,
   "id": "908acbb1-0371-4915-85ca-3fa520d2efe2",
   "metadata": {
    "execution": {
     "iopub.execute_input": "2025-08-05T16:07:58.768458Z",
     "iopub.status.busy": "2025-08-05T16:07:58.768003Z",
     "iopub.status.idle": "2025-08-05T16:07:58.775773Z",
     "shell.execute_reply": "2025-08-05T16:07:58.774785Z"
    },
    "papermill": {
     "duration": 0.032697,
     "end_time": "2025-08-05T16:07:58.777799",
     "exception": false,
     "start_time": "2025-08-05T16:07:58.745102",
     "status": "completed"
    },
    "tags": []
   },
   "outputs": [
    {
     "data": {
      "text/plain": [
       "{'universe_id': ['bb6b82ee7c16902389cf5c84b4d59529'],\n",
       " 'universe_training_year': ['2014'],\n",
       " 'universe_training_size': ['1k'],\n",
       " 'universe_scale': ['scale'],\n",
       " 'universe_model': ['elasticnet'],\n",
       " 'universe_exclude_features': ['sex'],\n",
       " 'universe_exclude_subgroups': ['keep-all'],\n",
       " 'q_hat': [0.7749673416641049],\n",
       " 'coverage': [0.9068331289711292],\n",
       " 'avg_size': [1.2239326719429273]}"
      ]
     },
     "execution_count": 48,
     "metadata": {},
     "output_type": "execute_result"
    }
   ],
   "source": [
    "cp_metrics_dict"
   ]
  },
  {
   "cell_type": "code",
   "execution_count": 49,
   "id": "33007efc-14e9-4ec6-97ac-56a455c82265",
   "metadata": {
    "execution": {
     "iopub.execute_input": "2025-08-05T16:07:58.826234Z",
     "iopub.status.busy": "2025-08-05T16:07:58.825718Z",
     "iopub.status.idle": "2025-08-05T16:07:58.832346Z",
     "shell.execute_reply": "2025-08-05T16:07:58.831313Z"
    },
    "papermill": {
     "duration": 0.021568,
     "end_time": "2025-08-05T16:07:58.834317",
     "exception": false,
     "start_time": "2025-08-05T16:07:58.812749",
     "status": "completed"
    },
    "tags": []
   },
   "outputs": [],
   "source": [
    "cp_metrics_df = pd.DataFrame(cp_metrics_dict)"
   ]
  },
  {
   "cell_type": "code",
   "execution_count": 50,
   "id": "db12611b-57b2-4910-b9d0-355adfd6e7bf",
   "metadata": {
    "execution": {
     "iopub.execute_input": "2025-08-05T16:07:58.883363Z",
     "iopub.status.busy": "2025-08-05T16:07:58.882419Z",
     "iopub.status.idle": "2025-08-05T16:07:58.906227Z",
     "shell.execute_reply": "2025-08-05T16:07:58.905085Z"
    },
    "papermill": {
     "duration": 0.054922,
     "end_time": "2025-08-05T16:07:58.913130",
     "exception": false,
     "start_time": "2025-08-05T16:07:58.858208",
     "status": "completed"
    },
    "tags": []
   },
   "outputs": [
    {
     "data": {
      "text/html": [
       "<div>\n",
       "<style scoped>\n",
       "    .dataframe tbody tr th:only-of-type {\n",
       "        vertical-align: middle;\n",
       "    }\n",
       "\n",
       "    .dataframe tbody tr th {\n",
       "        vertical-align: top;\n",
       "    }\n",
       "\n",
       "    .dataframe thead th {\n",
       "        text-align: right;\n",
       "    }\n",
       "</style>\n",
       "<table border=\"1\" class=\"dataframe\">\n",
       "  <thead>\n",
       "    <tr style=\"text-align: right;\">\n",
       "      <th></th>\n",
       "      <th>universe_id</th>\n",
       "      <th>universe_training_year</th>\n",
       "      <th>universe_training_size</th>\n",
       "      <th>universe_scale</th>\n",
       "      <th>universe_model</th>\n",
       "      <th>universe_exclude_features</th>\n",
       "      <th>universe_exclude_subgroups</th>\n",
       "      <th>q_hat</th>\n",
       "      <th>coverage</th>\n",
       "      <th>avg_size</th>\n",
       "    </tr>\n",
       "  </thead>\n",
       "  <tbody>\n",
       "    <tr>\n",
       "      <th>0</th>\n",
       "      <td>bb6b82ee7c16902389cf5c84b4d59529</td>\n",
       "      <td>2014</td>\n",
       "      <td>1k</td>\n",
       "      <td>scale</td>\n",
       "      <td>elasticnet</td>\n",
       "      <td>sex</td>\n",
       "      <td>keep-all</td>\n",
       "      <td>0.774967</td>\n",
       "      <td>0.906833</td>\n",
       "      <td>1.223933</td>\n",
       "    </tr>\n",
       "  </tbody>\n",
       "</table>\n",
       "</div>"
      ],
      "text/plain": [
       "                        universe_id universe_training_year  \\\n",
       "0  bb6b82ee7c16902389cf5c84b4d59529                   2014   \n",
       "\n",
       "  universe_training_size universe_scale universe_model  \\\n",
       "0                     1k          scale     elasticnet   \n",
       "\n",
       "  universe_exclude_features universe_exclude_subgroups     q_hat  coverage  \\\n",
       "0                       sex                   keep-all  0.774967  0.906833   \n",
       "\n",
       "   avg_size  \n",
       "0  1.223933  "
      ]
     },
     "execution_count": 50,
     "metadata": {},
     "output_type": "execute_result"
    }
   ],
   "source": [
    "cp_metrics_df"
   ]
  },
  {
   "cell_type": "code",
   "execution_count": 51,
   "id": "b7fbde55-a0a1-47e4-9af6-fe4a17fa8c61",
   "metadata": {
    "execution": {
     "iopub.execute_input": "2025-08-05T16:07:58.976160Z",
     "iopub.status.busy": "2025-08-05T16:07:58.975496Z",
     "iopub.status.idle": "2025-08-05T16:07:58.981473Z",
     "shell.execute_reply": "2025-08-05T16:07:58.980230Z"
    },
    "papermill": {
     "duration": 0.040206,
     "end_time": "2025-08-05T16:07:58.983655",
     "exception": false,
     "start_time": "2025-08-05T16:07:58.943449",
     "status": "completed"
    },
    "tags": []
   },
   "outputs": [],
   "source": [
    "# Conditional Coverage & looking at subgroups"
   ]
  },
  {
   "cell_type": "code",
   "execution_count": 52,
   "id": "027ae886-68dd-4141-96c7-805a5450e1ef",
   "metadata": {
    "execution": {
     "iopub.execute_input": "2025-08-05T16:07:59.049020Z",
     "iopub.status.busy": "2025-08-05T16:07:59.048221Z",
     "iopub.status.idle": "2025-08-05T16:07:59.334320Z",
     "shell.execute_reply": "2025-08-05T16:07:59.333019Z"
    },
    "papermill": {
     "duration": 0.320416,
     "end_time": "2025-08-05T16:07:59.336363",
     "exception": false,
     "start_time": "2025-08-05T16:07:59.015947",
     "status": "completed"
    },
    "tags": []
   },
   "outputs": [],
   "source": [
    "from fairness_multiverse.conformal import build_cp_groups\n",
    "\n",
    "cp_groups_df = build_cp_groups(pred_sets, y_true, X_test.index, org_test)\n",
    "#needs universe_id and setting"
   ]
  },
  {
   "cell_type": "code",
   "execution_count": 53,
   "id": "6cbdab96-b2b2-45af-ad54-d0516db2e28d",
   "metadata": {
    "execution": {
     "iopub.execute_input": "2025-08-05T16:07:59.394836Z",
     "iopub.status.busy": "2025-08-05T16:07:59.394414Z",
     "iopub.status.idle": "2025-08-05T16:08:01.013684Z",
     "shell.execute_reply": "2025-08-05T16:08:01.012836Z"
    },
    "papermill": {
     "duration": 1.654525,
     "end_time": "2025-08-05T16:08:01.015174",
     "exception": false,
     "start_time": "2025-08-05T16:07:59.360649",
     "status": "completed"
    },
    "tags": []
   },
   "outputs": [],
   "source": [
    "# Define covered = 1 if true_label is in the predicted set\n",
    "cp_groups_df['covered'] = cp_groups_df.apply(\n",
    "    lambda r: int(r['true_label'] in r['pred_set']),\n",
    "    axis=1\n",
    ")"
   ]
  },
  {
   "cell_type": "code",
   "execution_count": 54,
   "id": "338ff529-1a6b-4b87-a931-8e4788d52aad",
   "metadata": {
    "execution": {
     "iopub.execute_input": "2025-08-05T16:08:01.040745Z",
     "iopub.status.busy": "2025-08-05T16:08:01.039979Z",
     "iopub.status.idle": "2025-08-05T16:08:01.045115Z",
     "shell.execute_reply": "2025-08-05T16:08:01.044189Z"
    },
    "papermill": {
     "duration": 0.019266,
     "end_time": "2025-08-05T16:08:01.046558",
     "exception": false,
     "start_time": "2025-08-05T16:08:01.027292",
     "status": "completed"
    },
    "tags": []
   },
   "outputs": [],
   "source": [
    "#cp_groups_df"
   ]
  },
  {
   "cell_type": "code",
   "execution_count": 55,
   "id": "90032e27-66df-4540-9169-4e89cfbaa758",
   "metadata": {
    "execution": {
     "iopub.execute_input": "2025-08-05T16:08:01.073236Z",
     "iopub.status.busy": "2025-08-05T16:08:01.072383Z",
     "iopub.status.idle": "2025-08-05T16:08:01.081908Z",
     "shell.execute_reply": "2025-08-05T16:08:01.081027Z"
    },
    "papermill": {
     "duration": 0.023682,
     "end_time": "2025-08-05T16:08:01.083568",
     "exception": false,
     "start_time": "2025-08-05T16:08:01.059886",
     "status": "completed"
    },
    "tags": []
   },
   "outputs": [],
   "source": [
    "subgroups = ['frau1','nongerman','nongerman_male','nongerman_female']\n",
    "\n",
    "# Conditional coverage for subgroup==1\n",
    "cond_coverage = {\n",
    "    g: cp_groups_df.loc[cp_groups_df[g]==1, 'covered'].mean()\n",
    "    for g in subgroups\n",
    "}"
   ]
  },
  {
   "cell_type": "code",
   "execution_count": 56,
   "id": "1e348fb1-b9c3-45bc-ba23-f016827a7e0d",
   "metadata": {
    "execution": {
     "iopub.execute_input": "2025-08-05T16:08:01.126107Z",
     "iopub.status.busy": "2025-08-05T16:08:01.125577Z",
     "iopub.status.idle": "2025-08-05T16:08:01.133306Z",
     "shell.execute_reply": "2025-08-05T16:08:01.132206Z"
    },
    "papermill": {
     "duration": 0.038489,
     "end_time": "2025-08-05T16:08:01.138965",
     "exception": false,
     "start_time": "2025-08-05T16:08:01.100476",
     "status": "completed"
    },
    "tags": []
   },
   "outputs": [
    {
     "data": {
      "text/plain": [
       "{'frau1': 0.9054319989216876,\n",
       " 'nongerman': 0.9095604333913434,\n",
       " 'nongerman_male': 0.9256957579032694,\n",
       " 'nongerman_female': 0.8828614008941877}"
      ]
     },
     "execution_count": 56,
     "metadata": {},
     "output_type": "execute_result"
    }
   ],
   "source": [
    "cond_coverage"
   ]
  },
  {
   "cell_type": "code",
   "execution_count": 57,
   "id": "f5093324-c3dd-4d63-bc4c-8d945e5c8bbb",
   "metadata": {
    "execution": {
     "iopub.execute_input": "2025-08-05T16:08:01.188350Z",
     "iopub.status.busy": "2025-08-05T16:08:01.187212Z",
     "iopub.status.idle": "2025-08-05T16:08:01.195478Z",
     "shell.execute_reply": "2025-08-05T16:08:01.194482Z"
    },
    "papermill": {
     "duration": 0.032648,
     "end_time": "2025-08-05T16:08:01.197060",
     "exception": false,
     "start_time": "2025-08-05T16:08:01.164412",
     "status": "completed"
    },
    "tags": []
   },
   "outputs": [],
   "source": [
    "for subgroup, cov in cond_coverage.items():\n",
    "    cp_metrics_df[f\"cov_{subgroup}\"] = cov"
   ]
  },
  {
   "cell_type": "code",
   "execution_count": 58,
   "id": "6e872e10-dbe5-49e8-b554-5030c98ff75d",
   "metadata": {
    "execution": {
     "iopub.execute_input": "2025-08-05T16:08:01.247745Z",
     "iopub.status.busy": "2025-08-05T16:08:01.247245Z",
     "iopub.status.idle": "2025-08-05T16:08:01.268227Z",
     "shell.execute_reply": "2025-08-05T16:08:01.267305Z"
    },
    "papermill": {
     "duration": 0.046152,
     "end_time": "2025-08-05T16:08:01.269980",
     "exception": false,
     "start_time": "2025-08-05T16:08:01.223828",
     "status": "completed"
    },
    "tags": []
   },
   "outputs": [
    {
     "data": {
      "text/html": [
       "<div>\n",
       "<style scoped>\n",
       "    .dataframe tbody tr th:only-of-type {\n",
       "        vertical-align: middle;\n",
       "    }\n",
       "\n",
       "    .dataframe tbody tr th {\n",
       "        vertical-align: top;\n",
       "    }\n",
       "\n",
       "    .dataframe thead th {\n",
       "        text-align: right;\n",
       "    }\n",
       "</style>\n",
       "<table border=\"1\" class=\"dataframe\">\n",
       "  <thead>\n",
       "    <tr style=\"text-align: right;\">\n",
       "      <th></th>\n",
       "      <th>universe_id</th>\n",
       "      <th>universe_training_year</th>\n",
       "      <th>universe_training_size</th>\n",
       "      <th>universe_scale</th>\n",
       "      <th>universe_model</th>\n",
       "      <th>universe_exclude_features</th>\n",
       "      <th>universe_exclude_subgroups</th>\n",
       "      <th>q_hat</th>\n",
       "      <th>coverage</th>\n",
       "      <th>avg_size</th>\n",
       "      <th>cov_frau1</th>\n",
       "      <th>cov_nongerman</th>\n",
       "      <th>cov_nongerman_male</th>\n",
       "      <th>cov_nongerman_female</th>\n",
       "    </tr>\n",
       "  </thead>\n",
       "  <tbody>\n",
       "    <tr>\n",
       "      <th>0</th>\n",
       "      <td>bb6b82ee7c16902389cf5c84b4d59529</td>\n",
       "      <td>2014</td>\n",
       "      <td>1k</td>\n",
       "      <td>scale</td>\n",
       "      <td>elasticnet</td>\n",
       "      <td>sex</td>\n",
       "      <td>keep-all</td>\n",
       "      <td>0.774967</td>\n",
       "      <td>0.906833</td>\n",
       "      <td>1.223933</td>\n",
       "      <td>0.905432</td>\n",
       "      <td>0.90956</td>\n",
       "      <td>0.925696</td>\n",
       "      <td>0.882861</td>\n",
       "    </tr>\n",
       "  </tbody>\n",
       "</table>\n",
       "</div>"
      ],
      "text/plain": [
       "                        universe_id universe_training_year  \\\n",
       "0  bb6b82ee7c16902389cf5c84b4d59529                   2014   \n",
       "\n",
       "  universe_training_size universe_scale universe_model  \\\n",
       "0                     1k          scale     elasticnet   \n",
       "\n",
       "  universe_exclude_features universe_exclude_subgroups     q_hat  coverage  \\\n",
       "0                       sex                   keep-all  0.774967  0.906833   \n",
       "\n",
       "   avg_size  cov_frau1  cov_nongerman  cov_nongerman_male  \\\n",
       "0  1.223933   0.905432        0.90956            0.925696   \n",
       "\n",
       "   cov_nongerman_female  \n",
       "0              0.882861  "
      ]
     },
     "execution_count": 58,
     "metadata": {},
     "output_type": "execute_result"
    }
   ],
   "source": [
    "cp_metrics_df"
   ]
  },
  {
   "cell_type": "markdown",
   "id": "33774451",
   "metadata": {
    "papermill": {
     "duration": 0.02462,
     "end_time": "2025-08-05T16:08:01.320740",
     "exception": false,
     "start_time": "2025-08-05T16:08:01.296120",
     "status": "completed"
    },
    "tags": []
   },
   "source": [
    "# (Fairness) Metrics"
   ]
  },
  {
   "cell_type": "code",
   "execution_count": 59,
   "id": "debc5d62",
   "metadata": {
    "execution": {
     "iopub.execute_input": "2025-08-05T16:08:01.371825Z",
     "iopub.status.busy": "2025-08-05T16:08:01.370793Z",
     "iopub.status.idle": "2025-08-05T16:08:01.418767Z",
     "shell.execute_reply": "2025-08-05T16:08:01.417671Z"
    },
    "papermill": {
     "duration": 0.075791,
     "end_time": "2025-08-05T16:08:01.420831",
     "exception": false,
     "start_time": "2025-08-05T16:08:01.345040",
     "status": "completed"
    },
    "tags": []
   },
   "outputs": [],
   "source": [
    "# do I need to include maxdeutsch1.missing?\n",
    "\n",
    "import numpy as np\n",
    "\n",
    "colname_to_bin = \"maxdeutsch1\"\n",
    "majority_value = org_train[colname_to_bin].mode()[0]\n",
    "\n",
    "org_test[\"majmin\"] = np.where(org_test[colname_to_bin] == majority_value, \"majority\", \"minority\")"
   ]
  },
  {
   "cell_type": "code",
   "execution_count": 60,
   "id": "06a50de5",
   "metadata": {
    "execution": {
     "iopub.execute_input": "2025-08-05T16:08:01.474315Z",
     "iopub.status.busy": "2025-08-05T16:08:01.473195Z",
     "iopub.status.idle": "2025-08-05T16:08:04.147200Z",
     "shell.execute_reply": "2025-08-05T16:08:04.146018Z"
    },
    "papermill": {
     "duration": 2.703423,
     "end_time": "2025-08-05T16:08:04.149315",
     "exception": false,
     "start_time": "2025-08-05T16:08:01.445892",
     "status": "completed"
    },
    "tags": []
   },
   "outputs": [],
   "source": [
    "example_universe = universe.copy()\n",
    "example_universe[\"cutoff\"] = example_universe[\"cutoff\"][0]\n",
    "example_universe[\"eval_fairness_grouping\"] = example_universe[\"eval_fairness_grouping\"][0]\n",
    "fairness_dict, metric_frame = universe_analysis.compute_metrics(\n",
    "    example_universe,\n",
    "    y_pred_prob=probs_test,\n",
    "    y_test=y_true,\n",
    "    org_test=org_test,\n",
    ")"
   ]
  },
  {
   "cell_type": "markdown",
   "id": "f95d4e02",
   "metadata": {
    "papermill": {
     "duration": 0.027281,
     "end_time": "2025-08-05T16:08:04.206188",
     "exception": false,
     "start_time": "2025-08-05T16:08:04.178907",
     "status": "completed"
    },
    "tags": []
   },
   "source": [
    "# Overall"
   ]
  },
  {
   "cell_type": "markdown",
   "id": "bdee4871",
   "metadata": {
    "papermill": {
     "duration": 0.02665,
     "end_time": "2025-08-05T16:08:04.258136",
     "exception": false,
     "start_time": "2025-08-05T16:08:04.231486",
     "status": "completed"
    },
    "tags": []
   },
   "source": [
    "Fairness\n",
    "Main fairness target: Equalized Odds. Seems to be a better fit than equal opportunity, since we're not only interested in Y = 1. Seems to be a better fit than demographic parity, since we also care about accuracy, not just equal distribution of preds.\n",
    "\n",
    "Pick column for computation of fairness metrics\n",
    "\n",
    "Performance\n",
    "Overall performance measures, most interesting in relation to the measures split by group below"
   ]
  },
  {
   "cell_type": "code",
   "execution_count": 61,
   "id": "c4e067c6",
   "metadata": {
    "execution": {
     "iopub.execute_input": "2025-08-05T16:08:04.312516Z",
     "iopub.status.busy": "2025-08-05T16:08:04.311580Z",
     "iopub.status.idle": "2025-08-05T16:08:04.320764Z",
     "shell.execute_reply": "2025-08-05T16:08:04.319529Z"
    },
    "papermill": {
     "duration": 0.038459,
     "end_time": "2025-08-05T16:08:04.322591",
     "exception": false,
     "start_time": "2025-08-05T16:08:04.284132",
     "status": "completed"
    },
    "tags": []
   },
   "outputs": [
    {
     "data": {
      "text/plain": [
       "accuracy                   0.219229\n",
       "balanced accuracy          0.537122\n",
       "f1                         0.240702\n",
       "precision                  0.137505\n",
       "false positive rate        0.890476\n",
       "false negative rate        0.035280\n",
       "selection rate             0.900000\n",
       "count                  89710.000000\n",
       "dtype: float64"
      ]
     },
     "execution_count": 61,
     "metadata": {},
     "output_type": "execute_result"
    }
   ],
   "source": [
    "metric_frame.overall"
   ]
  },
  {
   "cell_type": "markdown",
   "id": "e968fe9d",
   "metadata": {
    "papermill": {
     "duration": 0.023122,
     "end_time": "2025-08-05T16:08:04.370073",
     "exception": false,
     "start_time": "2025-08-05T16:08:04.346951",
     "status": "completed"
    },
    "tags": []
   },
   "source": [
    "By Group"
   ]
  },
  {
   "cell_type": "code",
   "execution_count": 62,
   "id": "ec325bce",
   "metadata": {
    "execution": {
     "iopub.execute_input": "2025-08-05T16:08:04.417757Z",
     "iopub.status.busy": "2025-08-05T16:08:04.417003Z",
     "iopub.status.idle": "2025-08-05T16:08:04.436704Z",
     "shell.execute_reply": "2025-08-05T16:08:04.435670Z"
    },
    "papermill": {
     "duration": 0.045317,
     "end_time": "2025-08-05T16:08:04.438638",
     "exception": false,
     "start_time": "2025-08-05T16:08:04.393321",
     "status": "completed"
    },
    "tags": []
   },
   "outputs": [
    {
     "data": {
      "text/html": [
       "<div>\n",
       "<style scoped>\n",
       "    .dataframe tbody tr th:only-of-type {\n",
       "        vertical-align: middle;\n",
       "    }\n",
       "\n",
       "    .dataframe tbody tr th {\n",
       "        vertical-align: top;\n",
       "    }\n",
       "\n",
       "    .dataframe thead th {\n",
       "        text-align: right;\n",
       "    }\n",
       "</style>\n",
       "<table border=\"1\" class=\"dataframe\">\n",
       "  <thead>\n",
       "    <tr style=\"text-align: right;\">\n",
       "      <th></th>\n",
       "      <th>accuracy</th>\n",
       "      <th>balanced accuracy</th>\n",
       "      <th>f1</th>\n",
       "      <th>precision</th>\n",
       "      <th>false positive rate</th>\n",
       "      <th>false negative rate</th>\n",
       "      <th>selection rate</th>\n",
       "      <th>count</th>\n",
       "    </tr>\n",
       "    <tr>\n",
       "      <th>majmin</th>\n",
       "      <th></th>\n",
       "      <th></th>\n",
       "      <th></th>\n",
       "      <th></th>\n",
       "      <th></th>\n",
       "      <th></th>\n",
       "      <th></th>\n",
       "      <th></th>\n",
       "    </tr>\n",
       "  </thead>\n",
       "  <tbody>\n",
       "    <tr>\n",
       "      <th>majority</th>\n",
       "      <td>0.235883</td>\n",
       "      <td>0.543771</td>\n",
       "      <td>0.249702</td>\n",
       "      <td>0.143465</td>\n",
       "      <td>0.874713</td>\n",
       "      <td>0.037746</td>\n",
       "      <td>0.886280</td>\n",
       "      <td>69170.0</td>\n",
       "    </tr>\n",
       "    <tr>\n",
       "      <th>minority</th>\n",
       "      <td>0.163145</td>\n",
       "      <td>0.515845</td>\n",
       "      <td>0.211622</td>\n",
       "      <td>0.118703</td>\n",
       "      <td>0.942549</td>\n",
       "      <td>0.025760</td>\n",
       "      <td>0.946203</td>\n",
       "      <td>20540.0</td>\n",
       "    </tr>\n",
       "  </tbody>\n",
       "</table>\n",
       "</div>"
      ],
      "text/plain": [
       "          accuracy  balanced accuracy        f1  precision  \\\n",
       "majmin                                                       \n",
       "majority  0.235883           0.543771  0.249702   0.143465   \n",
       "minority  0.163145           0.515845  0.211622   0.118703   \n",
       "\n",
       "          false positive rate  false negative rate  selection rate    count  \n",
       "majmin                                                                       \n",
       "majority             0.874713             0.037746        0.886280  69170.0  \n",
       "minority             0.942549             0.025760        0.946203  20540.0  "
      ]
     },
     "execution_count": 62,
     "metadata": {},
     "output_type": "execute_result"
    }
   ],
   "source": [
    "metric_frame.by_group"
   ]
  },
  {
   "cell_type": "code",
   "execution_count": 63,
   "id": "a9ddbe63",
   "metadata": {
    "execution": {
     "iopub.execute_input": "2025-08-05T16:08:04.488859Z",
     "iopub.status.busy": "2025-08-05T16:08:04.487939Z",
     "iopub.status.idle": "2025-08-05T16:08:07.057275Z",
     "shell.execute_reply": "2025-08-05T16:08:07.056529Z"
    },
    "papermill": {
     "duration": 2.595379,
     "end_time": "2025-08-05T16:08:07.058535",
     "exception": false,
     "start_time": "2025-08-05T16:08:04.463156",
     "status": "completed"
    },
    "tags": []
   },
   "outputs": [
    {
     "data": {
      "text/plain": [
       "array([[<Axes: title={'center': 'accuracy'}, xlabel='majmin'>,\n",
       "        <Axes: title={'center': 'balanced accuracy'}, xlabel='majmin'>,\n",
       "        <Axes: title={'center': 'f1'}, xlabel='majmin'>],\n",
       "       [<Axes: title={'center': 'precision'}, xlabel='majmin'>,\n",
       "        <Axes: title={'center': 'false positive rate'}, xlabel='majmin'>,\n",
       "        <Axes: title={'center': 'false negative rate'}, xlabel='majmin'>],\n",
       "       [<Axes: title={'center': 'selection rate'}, xlabel='majmin'>,\n",
       "        <Axes: title={'center': 'count'}, xlabel='majmin'>,\n",
       "        <Axes: xlabel='majmin'>]], dtype=object)"
      ]
     },
     "execution_count": 63,
     "metadata": {},
     "output_type": "execute_result"
    },
    {
     "data": {
      "image/png": "[encoded data removed]",
      "text/plain": [
       "<Figure size 1200x800 with 9 Axes>"
      ]
     },
     "metadata": {},
     "output_type": "display_data"
    }
   ],
   "source": [
    "# In a graphic\n",
    "metric_frame.by_group.plot.bar(\n",
    "    subplots=True,\n",
    "    layout=[3, 3],\n",
    "    legend=False,\n",
    "    figsize=[12, 8],\n",
    "    title=\"Show all metrics\",\n",
    ")"
   ]
  },
  {
   "cell_type": "markdown",
   "id": "f57a0bac",
   "metadata": {
    "papermill": {
     "duration": 0.013023,
     "end_time": "2025-08-05T16:08:07.085385",
     "exception": false,
     "start_time": "2025-08-05T16:08:07.072362",
     "status": "completed"
    },
    "tags": []
   },
   "source": [
    "# Final Output"
   ]
  },
  {
   "cell_type": "code",
   "execution_count": 64,
   "id": "96d280a3",
   "metadata": {
    "execution": {
     "iopub.execute_input": "2025-08-05T16:08:07.127852Z",
     "iopub.status.busy": "2025-08-05T16:08:07.127053Z",
     "iopub.status.idle": "2025-08-05T16:08:07.135774Z",
     "shell.execute_reply": "2025-08-05T16:08:07.134691Z"
    },
    "papermill": {
     "duration": 0.03883,
     "end_time": "2025-08-05T16:08:07.137555",
     "exception": false,
     "start_time": "2025-08-05T16:08:07.098725",
     "status": "completed"
    },
    "tags": []
   },
   "outputs": [
    {
     "data": {
      "text/plain": [
       "4"
      ]
     },
     "execution_count": 64,
     "metadata": {},
     "output_type": "execute_result"
    }
   ],
   "source": [
    "sub_universes = universe_analysis.generate_sub_universes()\n",
    "len(sub_universes)"
   ]
  },
  {
   "cell_type": "code",
   "execution_count": 65,
   "id": "92adf7ba",
   "metadata": {
    "execution": {
     "iopub.execute_input": "2025-08-05T16:08:07.170390Z",
     "iopub.status.busy": "2025-08-05T16:08:07.169932Z",
     "iopub.status.idle": "2025-08-05T16:08:07.177624Z",
     "shell.execute_reply": "2025-08-05T16:08:07.176152Z"
    },
    "papermill": {
     "duration": 0.025023,
     "end_time": "2025-08-05T16:08:07.180147",
     "exception": false,
     "start_time": "2025-08-05T16:08:07.155124",
     "status": "completed"
    },
    "tags": []
   },
   "outputs": [],
   "source": [
    "def filter_sub_universe_data(sub_universe, org_test):\n",
    "    # Keep all rows — no filtering\n",
    "    keep_rows_mask = np.ones(org_test.shape[0], dtype=bool)\n",
    "\n",
    "    print(f\"[INFO] Keeping all rows: {keep_rows_mask.sum()} rows retained.\")\n",
    "    return keep_rows_mask"
   ]
  },
  {
   "cell_type": "code",
   "execution_count": 66,
   "id": "4a759155",
   "metadata": {
    "execution": {
     "iopub.execute_input": "2025-08-05T16:08:07.240148Z",
     "iopub.status.busy": "2025-08-05T16:08:07.239336Z",
     "iopub.status.idle": "2025-08-05T16:08:14.292462Z",
     "shell.execute_reply": "2025-08-05T16:08:14.291656Z"
    },
    "papermill": {
     "duration": 7.081741,
     "end_time": "2025-08-05T16:08:14.293857",
     "exception": false,
     "start_time": "2025-08-05T16:08:07.212116",
     "status": "completed"
    },
    "tags": []
   },
   "outputs": [
    {
     "name": "stdout",
     "output_type": "stream",
     "text": [
      "Stopping execution_time clock.\n",
      "[INFO] Keeping all rows: 89710 rows retained.\n"
     ]
    },
    {
     "name": "stdout",
     "output_type": "stream",
     "text": [
      "[INFO] Keeping all rows: 89710 rows retained.\n"
     ]
    },
    {
     "name": "stdout",
     "output_type": "stream",
     "text": [
      "[INFO] Keeping all rows: 89710 rows retained.\n"
     ]
    },
    {
     "name": "stdout",
     "output_type": "stream",
     "text": [
      "[INFO] Keeping all rows: 89710 rows retained.\n"
     ]
    },
    {
     "data": {
      "text/html": [
       "<div>\n",
       "<style scoped>\n",
       "    .dataframe tbody tr th:only-of-type {\n",
       "        vertical-align: middle;\n",
       "    }\n",
       "\n",
       "    .dataframe tbody tr th {\n",
       "        vertical-align: top;\n",
       "    }\n",
       "\n",
       "    .dataframe thead th {\n",
       "        text-align: right;\n",
       "    }\n",
       "</style>\n",
       "<table border=\"1\" class=\"dataframe\">\n",
       "  <thead>\n",
       "    <tr style=\"text-align: right;\">\n",
       "      <th></th>\n",
       "      <th>run_no</th>\n",
       "      <th>universe_id</th>\n",
       "      <th>universe_settings</th>\n",
       "      <th>execution_time</th>\n",
       "      <th>test_size_n</th>\n",
       "      <th>test_size_frac</th>\n",
       "      <th>fair_main_equalized_odds_difference</th>\n",
       "      <th>fair_main_equalized_odds_ratio</th>\n",
       "      <th>fair_main_demographic_parity_difference</th>\n",
       "      <th>fair_main_demographic_parity_ratio</th>\n",
       "      <th>...</th>\n",
       "      <th>perf_grp_precision_0</th>\n",
       "      <th>perf_grp_precision_1</th>\n",
       "      <th>perf_grp_false positive rate_0</th>\n",
       "      <th>perf_grp_false positive rate_1</th>\n",
       "      <th>perf_grp_false negative rate_0</th>\n",
       "      <th>perf_grp_false negative rate_1</th>\n",
       "      <th>perf_grp_selection rate_0</th>\n",
       "      <th>perf_grp_selection rate_1</th>\n",
       "      <th>perf_grp_count_0</th>\n",
       "      <th>perf_grp_count_1</th>\n",
       "    </tr>\n",
       "  </thead>\n",
       "  <tbody>\n",
       "    <tr>\n",
       "      <th>0</th>\n",
       "      <td>15</td>\n",
       "      <td>bb6b82ee7c16902389cf5c84b4d59529</td>\n",
       "      <td>{\"cutoff\": \"quantile_0.1\", \"eval_fairness_grou...</td>\n",
       "      <td>25.924825</td>\n",
       "      <td>89710</td>\n",
       "      <td>1.0</td>\n",
       "      <td>0.067836</td>\n",
       "      <td>0.928029</td>\n",
       "      <td>0.059922</td>\n",
       "      <td>0.936671</td>\n",
       "      <td>...</td>\n",
       "      <td>NaN</td>\n",
       "      <td>NaN</td>\n",
       "      <td>NaN</td>\n",
       "      <td>NaN</td>\n",
       "      <td>NaN</td>\n",
       "      <td>NaN</td>\n",
       "      <td>NaN</td>\n",
       "      <td>NaN</td>\n",
       "      <td>NaN</td>\n",
       "      <td>NaN</td>\n",
       "    </tr>\n",
       "    <tr>\n",
       "      <th>0</th>\n",
       "      <td>15</td>\n",
       "      <td>bb6b82ee7c16902389cf5c84b4d59529</td>\n",
       "      <td>{\"cutoff\": \"quantile_0.1\", \"eval_fairness_grou...</td>\n",
       "      <td>25.924825</td>\n",
       "      <td>89710</td>\n",
       "      <td>1.0</td>\n",
       "      <td>0.067836</td>\n",
       "      <td>0.928029</td>\n",
       "      <td>0.059922</td>\n",
       "      <td>0.936671</td>\n",
       "      <td>...</td>\n",
       "      <td>0.118703</td>\n",
       "      <td>0.143465</td>\n",
       "      <td>0.942549</td>\n",
       "      <td>0.874713</td>\n",
       "      <td>0.02576</td>\n",
       "      <td>0.037746</td>\n",
       "      <td>0.946203</td>\n",
       "      <td>0.886280</td>\n",
       "      <td>20540.0</td>\n",
       "      <td>69170.0</td>\n",
       "    </tr>\n",
       "    <tr>\n",
       "      <th>0</th>\n",
       "      <td>15</td>\n",
       "      <td>bb6b82ee7c16902389cf5c84b4d59529</td>\n",
       "      <td>{\"cutoff\": \"quantile_0.25\", \"eval_fairness_gro...</td>\n",
       "      <td>25.924825</td>\n",
       "      <td>89710</td>\n",
       "      <td>1.0</td>\n",
       "      <td>0.061615</td>\n",
       "      <td>0.920653</td>\n",
       "      <td>0.052163</td>\n",
       "      <td>0.933989</td>\n",
       "      <td>...</td>\n",
       "      <td>NaN</td>\n",
       "      <td>NaN</td>\n",
       "      <td>NaN</td>\n",
       "      <td>NaN</td>\n",
       "      <td>NaN</td>\n",
       "      <td>NaN</td>\n",
       "      <td>NaN</td>\n",
       "      <td>NaN</td>\n",
       "      <td>NaN</td>\n",
       "      <td>NaN</td>\n",
       "    </tr>\n",
       "    <tr>\n",
       "      <th>0</th>\n",
       "      <td>15</td>\n",
       "      <td>bb6b82ee7c16902389cf5c84b4d59529</td>\n",
       "      <td>{\"cutoff\": \"quantile_0.25\", \"eval_fairness_gro...</td>\n",
       "      <td>25.924825</td>\n",
       "      <td>89710</td>\n",
       "      <td>1.0</td>\n",
       "      <td>0.061615</td>\n",
       "      <td>0.920653</td>\n",
       "      <td>0.052163</td>\n",
       "      <td>0.933989</td>\n",
       "      <td>...</td>\n",
       "      <td>0.130614</td>\n",
       "      <td>0.159350</td>\n",
       "      <td>0.776524</td>\n",
       "      <td>0.714909</td>\n",
       "      <td>0.10473</td>\n",
       "      <td>0.109956</td>\n",
       "      <td>0.790214</td>\n",
       "      <td>0.738051</td>\n",
       "      <td>20540.0</td>\n",
       "      <td>69170.0</td>\n",
       "    </tr>\n",
       "  </tbody>\n",
       "</table>\n",
       "<p>4 rows × 50 columns</p>\n",
       "</div>"
      ],
      "text/plain": [
       "  run_no                       universe_id  \\\n",
       "0     15  bb6b82ee7c16902389cf5c84b4d59529   \n",
       "0     15  bb6b82ee7c16902389cf5c84b4d59529   \n",
       "0     15  bb6b82ee7c16902389cf5c84b4d59529   \n",
       "0     15  bb6b82ee7c16902389cf5c84b4d59529   \n",
       "\n",
       "                                   universe_settings  execution_time  \\\n",
       "0  {\"cutoff\": \"quantile_0.1\", \"eval_fairness_grou...       25.924825   \n",
       "0  {\"cutoff\": \"quantile_0.1\", \"eval_fairness_grou...       25.924825   \n",
       "0  {\"cutoff\": \"quantile_0.25\", \"eval_fairness_gro...       25.924825   \n",
       "0  {\"cutoff\": \"quantile_0.25\", \"eval_fairness_gro...       25.924825   \n",
       "\n",
       "   test_size_n  test_size_frac  fair_main_equalized_odds_difference  \\\n",
       "0        89710             1.0                             0.067836   \n",
       "0        89710             1.0                             0.067836   \n",
       "0        89710             1.0                             0.061615   \n",
       "0        89710             1.0                             0.061615   \n",
       "\n",
       "   fair_main_equalized_odds_ratio  fair_main_demographic_parity_difference  \\\n",
       "0                        0.928029                                 0.059922   \n",
       "0                        0.928029                                 0.059922   \n",
       "0                        0.920653                                 0.052163   \n",
       "0                        0.920653                                 0.052163   \n",
       "\n",
       "   fair_main_demographic_parity_ratio  ...  perf_grp_precision_0  \\\n",
       "0                            0.936671  ...                   NaN   \n",
       "0                            0.936671  ...              0.118703   \n",
       "0                            0.933989  ...                   NaN   \n",
       "0                            0.933989  ...              0.130614   \n",
       "\n",
       "   perf_grp_precision_1  perf_grp_false positive rate_0  \\\n",
       "0                   NaN                             NaN   \n",
       "0              0.143465                        0.942549   \n",
       "0                   NaN                             NaN   \n",
       "0              0.159350                        0.776524   \n",
       "\n",
       "   perf_grp_false positive rate_1  perf_grp_false negative rate_0  \\\n",
       "0                             NaN                             NaN   \n",
       "0                        0.874713                         0.02576   \n",
       "0                             NaN                             NaN   \n",
       "0                        0.714909                         0.10473   \n",
       "\n",
       "   perf_grp_false negative rate_1  perf_grp_selection rate_0  \\\n",
       "0                             NaN                        NaN   \n",
       "0                        0.037746                   0.946203   \n",
       "0                             NaN                        NaN   \n",
       "0                        0.109956                   0.790214   \n",
       "\n",
       "   perf_grp_selection rate_1  perf_grp_count_0  perf_grp_count_1  \n",
       "0                        NaN               NaN               NaN  \n",
       "0                   0.886280           20540.0           69170.0  \n",
       "0                        NaN               NaN               NaN  \n",
       "0                   0.738051           20540.0           69170.0  \n",
       "\n",
       "[4 rows x 50 columns]"
      ]
     },
     "execution_count": 66,
     "metadata": {},
     "output_type": "execute_result"
    }
   ],
   "source": [
    "final_output = universe_analysis.generate_final_output(\n",
    "    y_pred_prob=probs_test,\n",
    "    y_test=y_true,\n",
    "    org_test=org_test,\n",
    "    filter_data=filter_sub_universe_data,\n",
    "    cp_metrics_df=cp_metrics_df,\n",
    "    save=True,\n",
    ")\n",
    "final_output"
   ]
  }
 ],
 "metadata": {
  "celltoolbar": "Tags",
  "kernelspec": {
   "display_name": "Python (CMA Fairness)",
   "language": "python",
   "name": "cma_fair_env"
  },
  "language_info": {
   "codemirror_mode": {
    "name": "ipython",
    "version": 3
   },
   "file_extension": ".py",
   "mimetype": "text/x-python",
   "name": "python",
   "nbconvert_exporter": "python",
   "pygments_lexer": "ipython3",
   "version": "3.10.12"
  },
  "papermill": {
   "default_parameters": {},
   "duration": 36.907143,
   "end_time": "2025-08-05T16:08:15.031932",
   "environment_variables": {},
   "exception": null,
   "input_path": "universe_analysis.ipynb",
   "output_path": "output/runs/15/notebooks/m_15-bb6b82ee7c16902389cf5c84b4d59529.ipynb",
   "parameters": {
    "output_dir": "output",
    "run_no": "15",
    "seed": "2023",
    "universe": "{\"cutoff\": [\"quantile_0.1\", \"quantile_0.25\"], \"eval_fairness_grouping\": [\"majority-minority\", \"nationality-all\"], \"exclude_features\": \"sex\", \"exclude_subgroups\": \"keep-all\", \"model\": \"elasticnet\", \"scale\": \"scale\", \"training_size\": \"1k\", \"training_year\": \"2014\"}",
    "universe_id": "bb6b82ee7c16902389cf5c84b4d59529"
   },
   "start_time": "2025-08-05T16:07:38.124789",
   "version": "2.6.0"
  }
 },
 "nbformat": 4,
 "nbformat_minor": 5
}