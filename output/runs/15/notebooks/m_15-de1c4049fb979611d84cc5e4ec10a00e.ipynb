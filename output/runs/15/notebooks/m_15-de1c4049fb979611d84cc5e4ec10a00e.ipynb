{
 "cells": [
  {
   "cell_type": "code",
   "execution_count": 1,
   "id": "f159f837-637b-42ba-96b5-ec9a68c44524",
   "metadata": {
    "execution": {
     "iopub.execute_input": "2025-08-05T16:05:37.133134Z",
     "iopub.status.busy": "2025-08-05T16:05:37.132395Z",
     "iopub.status.idle": "2025-08-05T16:05:37.146939Z",
     "shell.execute_reply": "2025-08-05T16:05:37.146014Z"
    },
    "papermill": {
     "duration": 0.03801,
     "end_time": "2025-08-05T16:05:37.149088",
     "exception": false,
     "start_time": "2025-08-05T16:05:37.111078",
     "status": "completed"
    },
    "tags": []
   },
   "outputs": [
    {
     "name": "stdout",
     "output_type": "stream",
     "text": [
      "/dss/dsshome1/0C/ra93lal2/cma/CMA_Fairness_v2\n"
     ]
    },
    {
     "name": "stderr",
     "output_type": "stream",
     "text": [
      "/dss/dsshome1/0C/ra93lal2/.local/share/virtualenvs/CMA_Fairness_v2-3j10GkSs/lib/python3.10/site-packages/IPython/core/magics/osm.py:393: UserWarning: This is now an optional IPython functionality, using bookmarks requires you to install the `pickleshare` library.\n",
      "  bkms = self.shell.db.get('bookmarks', {})\n",
      "/dss/dsshome1/0C/ra93lal2/.local/share/virtualenvs/CMA_Fairness_v2-3j10GkSs/lib/python3.10/site-packages/IPython/core/magics/osm.py:417: UserWarning: This is now an optional IPython functionality, setting dhist requires you to install the `pickleshare` library.\n",
      "  self.shell.db['dhist'] = compress_dhist(dhist)[-100:]\n"
     ]
    }
   ],
   "source": [
    "%cd ~/cma/CMA_Fairness_v2"
   ]
  },
  {
   "cell_type": "markdown",
   "id": "de2603b9",
   "metadata": {
    "papermill": {
     "duration": 0.02235,
     "end_time": "2025-08-05T16:05:37.196703",
     "exception": false,
     "start_time": "2025-08-05T16:05:37.174353",
     "status": "completed"
    },
    "tags": []
   },
   "source": [
    "The following cell holds the definition of our parameters, these values can be overriden by rendering the with e.g. the following command:\n",
    "\n",
    "papermill -p alpha 0.2 -p ratio 0.3 universe_analysis.ipynb output/test_run.ipynb"
   ]
  },
  {
   "cell_type": "code",
   "execution_count": 2,
   "id": "a80968a0-40bb-4fa9-85ef-2d5eefb01975",
   "metadata": {
    "execution": {
     "iopub.execute_input": "2025-08-05T16:05:37.232864Z",
     "iopub.status.busy": "2025-08-05T16:05:37.232142Z",
     "iopub.status.idle": "2025-08-05T16:05:37.239383Z",
     "shell.execute_reply": "2025-08-05T16:05:37.238358Z"
    },
    "papermill": {
     "duration": 0.026728,
     "end_time": "2025-08-05T16:05:37.241259",
     "exception": false,
     "start_time": "2025-08-05T16:05:37.214531",
     "status": "completed"
    },
    "tags": []
   },
   "outputs": [
    {
     "name": "stdout",
     "output_type": "stream",
     "text": [
      "Current working directory: /dss/dsshome1/0C/ra93lal2/cma/CMA_Fairness_v2\n"
     ]
    }
   ],
   "source": [
    "import os\n",
    "print(\"Current working directory:\", os.getcwd())"
   ]
  },
  {
   "cell_type": "code",
   "execution_count": 3,
   "id": "2dce4c03",
   "metadata": {
    "execution": {
     "iopub.execute_input": "2025-08-05T16:05:37.278529Z",
     "iopub.status.busy": "2025-08-05T16:05:37.277886Z",
     "iopub.status.idle": "2025-08-05T16:05:37.284410Z",
     "shell.execute_reply": "2025-08-05T16:05:37.283433Z"
    },
    "papermill": {
     "duration": 0.027009,
     "end_time": "2025-08-05T16:05:37.286253",
     "exception": false,
     "start_time": "2025-08-05T16:05:37.259244",
     "status": "completed"
    },
    "tags": [
     "parameters"
    ]
   },
   "outputs": [],
   "source": [
    "run_no = 0\n",
    "universe_id = \"test\"\n",
    "universe = {\n",
    "    \"training_size\": \"25k\", # \"25k\", \"5k\", \"1k\"\n",
    "    \"training_year\": \"2014\", # \"2014\", \"2012_14\", \"2010_14\"\n",
    "    \"scale\": \"scale\", # \"scale\", \"do-not-scale\",\n",
    "    \"model\": \"elasticnet\", # \"logreg\", \"penalized_logreg\", \"rf\", \"gbm\", \"elasticnet\"\n",
    "    \"cutoff\": [\"quantile_0.15\", \"quantile_0.30\"],\n",
    "    \"exclude_features\": \"age\", # \"none\", \"nationality\", \"sex\", \"nationality-sex\", \"age\"\n",
    "    \"exclude_subgroups\": \"keep-all\", # \"keep-all\", \"drop-non-german\"\n",
    "    \"eval_fairness_grouping\": [\"majority-minority\", \"nationality-all\"]\n",
    "}\n",
    "\n",
    "output_dir=\"./output\"\n",
    "seed=0"
   ]
  },
  {
   "cell_type": "code",
   "execution_count": 4,
   "id": "7c1983b5",
   "metadata": {
    "execution": {
     "iopub.execute_input": "2025-08-05T16:05:37.324867Z",
     "iopub.status.busy": "2025-08-05T16:05:37.324220Z",
     "iopub.status.idle": "2025-08-05T16:05:37.329320Z",
     "shell.execute_reply": "2025-08-05T16:05:37.328415Z"
    },
    "papermill": {
     "duration": 0.025954,
     "end_time": "2025-08-05T16:05:37.331257",
     "exception": false,
     "start_time": "2025-08-05T16:05:37.305303",
     "status": "completed"
    },
    "tags": [
     "injected-parameters"
    ]
   },
   "outputs": [],
   "source": [
    "# Parameters\n",
    "universe_id = \"de1c4049fb979611d84cc5e4ec10a00e\"\n",
    "run_no = \"15\"\n",
    "universe = \"{\\\"cutoff\\\": [\\\"quantile_0.1\\\", \\\"quantile_0.25\\\"], \\\"eval_fairness_grouping\\\": [\\\"majority-minority\\\", \\\"nationality-all\\\"], \\\"exclude_features\\\": \\\"none\\\", \\\"exclude_subgroups\\\": \\\"keep-all\\\", \\\"model\\\": \\\"gbm\\\", \\\"scale\\\": \\\"scale\\\", \\\"training_size\\\": \\\"1k\\\", \\\"training_year\\\": \\\"2014\\\"}\"\n",
    "output_dir = \"output\"\n",
    "seed = \"2023\"\n"
   ]
  },
  {
   "cell_type": "code",
   "execution_count": 5,
   "id": "1650acaf",
   "metadata": {
    "execution": {
     "iopub.execute_input": "2025-08-05T16:05:37.367865Z",
     "iopub.status.busy": "2025-08-05T16:05:37.366994Z",
     "iopub.status.idle": "2025-08-05T16:05:37.371863Z",
     "shell.execute_reply": "2025-08-05T16:05:37.370935Z"
    },
    "papermill": {
     "duration": 0.024505,
     "end_time": "2025-08-05T16:05:37.373640",
     "exception": false,
     "start_time": "2025-08-05T16:05:37.349135",
     "status": "completed"
    },
    "tags": []
   },
   "outputs": [],
   "source": [
    "import json\n",
    "if isinstance(universe, str):\n",
    "    universe = json.loads(universe)"
   ]
  },
  {
   "cell_type": "code",
   "execution_count": 6,
   "id": "16620c48",
   "metadata": {
    "execution": {
     "iopub.execute_input": "2025-08-05T16:05:37.410892Z",
     "iopub.status.busy": "2025-08-05T16:05:37.410140Z",
     "iopub.status.idle": "2025-08-05T16:05:37.452843Z",
     "shell.execute_reply": "2025-08-05T16:05:37.452032Z"
    },
    "papermill": {
     "duration": 0.063836,
     "end_time": "2025-08-05T16:05:37.454515",
     "exception": false,
     "start_time": "2025-08-05T16:05:37.390679",
     "status": "completed"
    },
    "tags": []
   },
   "outputs": [],
   "source": [
    "# Auto-reload the custom package\n",
    "%load_ext autoreload\n",
    "%autoreload 1\n",
    "%aimport fairness_multiverse"
   ]
  },
  {
   "cell_type": "code",
   "execution_count": 7,
   "id": "01c5c9f3",
   "metadata": {
    "execution": {
     "iopub.execute_input": "2025-08-05T16:05:37.494154Z",
     "iopub.status.busy": "2025-08-05T16:05:37.493208Z",
     "iopub.status.idle": "2025-08-05T16:05:39.340277Z",
     "shell.execute_reply": "2025-08-05T16:05:39.339135Z"
    },
    "papermill": {
     "duration": 1.870287,
     "end_time": "2025-08-05T16:05:39.342474",
     "exception": false,
     "start_time": "2025-08-05T16:05:37.472187",
     "status": "completed"
    },
    "tags": []
   },
   "outputs": [],
   "source": [
    "from fairness_multiverse.universe import UniverseAnalysis\n",
    "\n",
    "universe_analysis = UniverseAnalysis(\n",
    "    run_no = run_no,\n",
    "    universe_id = universe_id,\n",
    "    universe = universe,\n",
    "    output_dir=output_dir,\n",
    ")"
   ]
  },
  {
   "cell_type": "code",
   "execution_count": 8,
   "id": "106241f5",
   "metadata": {
    "execution": {
     "iopub.execute_input": "2025-08-05T16:05:39.382594Z",
     "iopub.status.busy": "2025-08-05T16:05:39.381588Z",
     "iopub.status.idle": "2025-08-05T16:05:39.388549Z",
     "shell.execute_reply": "2025-08-05T16:05:39.387485Z"
    },
    "papermill": {
     "duration": 0.027514,
     "end_time": "2025-08-05T16:05:39.390265",
     "exception": false,
     "start_time": "2025-08-05T16:05:39.362751",
     "status": "completed"
    },
    "tags": []
   },
   "outputs": [
    {
     "name": "stdout",
     "output_type": "stream",
     "text": [
      "Using Seed: 2023\n"
     ]
    }
   ],
   "source": [
    "import numpy as np\n",
    "parsed_seed = int(seed)\n",
    "np.random.seed(parsed_seed)\n",
    "print(f\"Using Seed: {parsed_seed}\")"
   ]
  },
  {
   "cell_type": "markdown",
   "id": "e0ebdc57",
   "metadata": {
    "papermill": {
     "duration": 0.018334,
     "end_time": "2025-08-05T16:05:39.427154",
     "exception": false,
     "start_time": "2025-08-05T16:05:39.408820",
     "status": "completed"
    },
    "tags": []
   },
   "source": [
    "# Loading Data"
   ]
  },
  {
   "cell_type": "code",
   "execution_count": 9,
   "id": "f0496b8a",
   "metadata": {
    "execution": {
     "iopub.execute_input": "2025-08-05T16:05:39.464081Z",
     "iopub.status.busy": "2025-08-05T16:05:39.463226Z",
     "iopub.status.idle": "2025-08-05T16:05:50.227937Z",
     "shell.execute_reply": "2025-08-05T16:05:50.226746Z"
    },
    "papermill": {
     "duration": 10.785441,
     "end_time": "2025-08-05T16:05:50.230022",
     "exception": false,
     "start_time": "2025-08-05T16:05:39.444581",
     "status": "completed"
    },
    "tags": []
   },
   "outputs": [
    {
     "name": "stdout",
     "output_type": "stream",
     "text": [
      "Loading SIAB data from cache: data/siab_cached.csv.gz\n"
     ]
    },
    {
     "name": "stdout",
     "output_type": "stream",
     "text": [
      "(643690, 164)\n"
     ]
    }
   ],
   "source": [
    "from pathlib import Path\n",
    "import pandas as pd\n",
    "\n",
    "# File paths\n",
    "raw_file = Path(\"data/raw/siab.csv\")\n",
    "cache_file = Path(\"data/siab_cached.csv.gz\")\n",
    "\n",
    "# Ensure cache directory exists\n",
    "cache_file.parent.mkdir(parents=True, exist_ok=True)\n",
    "\n",
    "# Load with simple caching\n",
    "if cache_file.exists():\n",
    "    print(f\"Loading SIAB data from cache: {cache_file}\")\n",
    "    siab = pd.read_csv(cache_file, compression='gzip')\n",
    "else:\n",
    "    print(f\"Cache not found. Reading raw SIAB data: {raw_file}\")\n",
    "    siab = pd.read_csv(raw_file)\n",
    "    siab.to_csv(cache_file, index=False, compression='gzip')\n",
    "    print(f\"Cached SIAB data to: {cache_file}\")\n",
    "\n",
    "print(siab.shape)"
   ]
  },
  {
   "cell_type": "code",
   "execution_count": 10,
   "id": "db0ca512-5f53-4dba-abdb-a2888bca41ba",
   "metadata": {
    "execution": {
     "iopub.execute_input": "2025-08-05T16:05:50.270972Z",
     "iopub.status.busy": "2025-08-05T16:05:50.270129Z",
     "iopub.status.idle": "2025-08-05T16:05:50.277245Z",
     "shell.execute_reply": "2025-08-05T16:05:50.276017Z"
    },
    "papermill": {
     "duration": 0.028466,
     "end_time": "2025-08-05T16:05:50.279390",
     "exception": false,
     "start_time": "2025-08-05T16:05:50.250924",
     "status": "completed"
    },
    "tags": []
   },
   "outputs": [],
   "source": [
    "#siab"
   ]
  },
  {
   "cell_type": "markdown",
   "id": "997051c5-15bd-4b69-9786-c3001a3ce484",
   "metadata": {
    "papermill": {
     "duration": 0.02088,
     "end_time": "2025-08-05T16:05:50.322371",
     "exception": false,
     "start_time": "2025-08-05T16:05:50.301491",
     "status": "completed"
    },
    "tags": []
   },
   "source": [
    "# Splitting Data and Setting Training Data Size"
   ]
  },
  {
   "cell_type": "code",
   "execution_count": 11,
   "id": "aea9c6ef-6f46-42c8-85eb-5a62025c1508",
   "metadata": {
    "execution": {
     "iopub.execute_input": "2025-08-05T16:05:50.363038Z",
     "iopub.status.busy": "2025-08-05T16:05:50.362579Z",
     "iopub.status.idle": "2025-08-05T16:05:50.550157Z",
     "shell.execute_reply": "2025-08-05T16:05:50.549183Z"
    },
    "papermill": {
     "duration": 0.209977,
     "end_time": "2025-08-05T16:05:50.552126",
     "exception": false,
     "start_time": "2025-08-05T16:05:50.342149",
     "status": "completed"
    },
    "tags": []
   },
   "outputs": [],
   "source": [
    "from fairness_multiverse.universe import sample_by_year_size\n",
    "\n",
    "siab_train = sample_by_year_size(siab,\n",
    "                               training_year=universe[\"training_year\"],\n",
    "                               training_size=universe[\"training_size\"])"
   ]
  },
  {
   "cell_type": "code",
   "execution_count": 12,
   "id": "8d3afb32-789d-442c-8d5d-9f5aa8dd2eed",
   "metadata": {
    "execution": {
     "iopub.execute_input": "2025-08-05T16:05:50.572530Z",
     "iopub.status.busy": "2025-08-05T16:05:50.572189Z",
     "iopub.status.idle": "2025-08-05T16:05:50.578104Z",
     "shell.execute_reply": "2025-08-05T16:05:50.576880Z"
    },
    "papermill": {
     "duration": 0.01825,
     "end_time": "2025-08-05T16:05:50.580744",
     "exception": false,
     "start_time": "2025-08-05T16:05:50.562494",
     "status": "completed"
    },
    "tags": []
   },
   "outputs": [],
   "source": [
    "#siab_train.shape"
   ]
  },
  {
   "cell_type": "code",
   "execution_count": 13,
   "id": "d582db68-1a4c-47fb-84fc-08518dc1975a",
   "metadata": {
    "execution": {
     "iopub.execute_input": "2025-08-05T16:05:50.621675Z",
     "iopub.status.busy": "2025-08-05T16:05:50.621272Z",
     "iopub.status.idle": "2025-08-05T16:05:50.626599Z",
     "shell.execute_reply": "2025-08-05T16:05:50.625374Z"
    },
    "papermill": {
     "duration": 0.026981,
     "end_time": "2025-08-05T16:05:50.628428",
     "exception": false,
     "start_time": "2025-08-05T16:05:50.601447",
     "status": "completed"
    },
    "tags": []
   },
   "outputs": [],
   "source": [
    "#display(siab_train.groupby(\"year\").size())"
   ]
  },
  {
   "cell_type": "code",
   "execution_count": 14,
   "id": "a561edb4-d032-42cb-8256-22eac1111c64",
   "metadata": {
    "execution": {
     "iopub.execute_input": "2025-08-05T16:05:50.668674Z",
     "iopub.status.busy": "2025-08-05T16:05:50.668217Z",
     "iopub.status.idle": "2025-08-05T16:05:50.891808Z",
     "shell.execute_reply": "2025-08-05T16:05:50.890840Z"
    },
    "papermill": {
     "duration": 0.244764,
     "end_time": "2025-08-05T16:05:50.893927",
     "exception": false,
     "start_time": "2025-08-05T16:05:50.649163",
     "status": "completed"
    },
    "tags": []
   },
   "outputs": [],
   "source": [
    "#siab_train = siab_s[siab_s.year < 2015]\n",
    "siab_calib = siab[siab.year == 2015]\n",
    "siab_test = siab[siab.year == 2016]"
   ]
  },
  {
   "cell_type": "code",
   "execution_count": 15,
   "id": "472de16f-c3db-4916-846b-1f0de9cf1746",
   "metadata": {
    "execution": {
     "iopub.execute_input": "2025-08-05T16:05:50.933671Z",
     "iopub.status.busy": "2025-08-05T16:05:50.933186Z",
     "iopub.status.idle": "2025-08-05T16:05:50.940185Z",
     "shell.execute_reply": "2025-08-05T16:05:50.939167Z"
    },
    "papermill": {
     "duration": 0.026948,
     "end_time": "2025-08-05T16:05:50.941854",
     "exception": false,
     "start_time": "2025-08-05T16:05:50.914906",
     "status": "completed"
    },
    "tags": []
   },
   "outputs": [],
   "source": [
    "X_train = siab_train.iloc[:,4:164]\n",
    "y_train = siab_train.iloc[:, [3]]"
   ]
  },
  {
   "cell_type": "code",
   "execution_count": 16,
   "id": "828c96af-f43a-4ed6-ba47-8ac73a47d56c",
   "metadata": {
    "execution": {
     "iopub.execute_input": "2025-08-05T16:05:50.977003Z",
     "iopub.status.busy": "2025-08-05T16:05:50.976219Z",
     "iopub.status.idle": "2025-08-05T16:05:51.032875Z",
     "shell.execute_reply": "2025-08-05T16:05:51.031877Z"
    },
    "papermill": {
     "duration": 0.076301,
     "end_time": "2025-08-05T16:05:51.034665",
     "exception": false,
     "start_time": "2025-08-05T16:05:50.958364",
     "status": "completed"
    },
    "tags": []
   },
   "outputs": [],
   "source": [
    "X_calib = siab_calib.iloc[:,4:164]\n",
    "y_calib = siab_calib.iloc[:, [3]]"
   ]
  },
  {
   "cell_type": "code",
   "execution_count": 17,
   "id": "c34be9c3-6bd6-476e-acd3-845840e303be",
   "metadata": {
    "execution": {
     "iopub.execute_input": "2025-08-05T16:05:51.069887Z",
     "iopub.status.busy": "2025-08-05T16:05:51.069337Z",
     "iopub.status.idle": "2025-08-05T16:05:51.128005Z",
     "shell.execute_reply": "2025-08-05T16:05:51.126697Z"
    },
    "papermill": {
     "duration": 0.078436,
     "end_time": "2025-08-05T16:05:51.129740",
     "exception": false,
     "start_time": "2025-08-05T16:05:51.051304",
     "status": "completed"
    },
    "tags": []
   },
   "outputs": [],
   "source": [
    "X_test = siab_test.iloc[:,4:164]\n",
    "y_true = siab_test.iloc[:, [3]]"
   ]
  },
  {
   "cell_type": "code",
   "execution_count": 18,
   "id": "e6c733c5",
   "metadata": {
    "execution": {
     "iopub.execute_input": "2025-08-05T16:05:51.168844Z",
     "iopub.status.busy": "2025-08-05T16:05:51.168069Z",
     "iopub.status.idle": "2025-08-05T16:05:51.270354Z",
     "shell.execute_reply": "2025-08-05T16:05:51.269234Z"
    },
    "papermill": {
     "duration": 0.123131,
     "end_time": "2025-08-05T16:05:51.272286",
     "exception": false,
     "start_time": "2025-08-05T16:05:51.149155",
     "status": "completed"
    },
    "tags": []
   },
   "outputs": [],
   "source": [
    "# Auxiliary data needed downstream in the pipeline\n",
    "\n",
    "org_train = X_train.copy()\n",
    "org_test = X_test.copy()\n",
    "org_calib = X_calib.copy()"
   ]
  },
  {
   "cell_type": "markdown",
   "id": "0a4a1b33",
   "metadata": {
    "papermill": {
     "duration": 0.019957,
     "end_time": "2025-08-05T16:05:51.311722",
     "exception": false,
     "start_time": "2025-08-05T16:05:51.291765",
     "status": "completed"
    },
    "tags": []
   },
   "source": [
    "# Preprocessing Data"
   ]
  },
  {
   "cell_type": "code",
   "execution_count": 19,
   "id": "ca879031",
   "metadata": {
    "execution": {
     "iopub.execute_input": "2025-08-05T16:05:51.353572Z",
     "iopub.status.busy": "2025-08-05T16:05:51.352873Z",
     "iopub.status.idle": "2025-08-05T16:05:51.359585Z",
     "shell.execute_reply": "2025-08-05T16:05:51.358561Z"
    },
    "papermill": {
     "duration": 0.02992,
     "end_time": "2025-08-05T16:05:51.361629",
     "exception": false,
     "start_time": "2025-08-05T16:05:51.331709",
     "status": "completed"
    },
    "tags": []
   },
   "outputs": [],
   "source": [
    "# EXCLUDE PROTECTED FEATURES\n",
    "# ----------------------\n",
    "# \"exclude_features\": \"none\", # \"nationality\", \"sex\", \"nationality-sex\"\n",
    "\n",
    "excluded_features = universe[\"exclude_features\"].split(\"-\") # split, e.g.: \"nationality-sex\" -> [\"nationality\", \"sex\"]\n",
    "excluded_features_dictionary = {\n",
    "    \"nationality\": [\"maxdeutsch1\", \"maxdeutsch.Missing.\"],\n",
    "    \"sex\": [\"frau1\"],\n",
    "    \"age\": [\"age\"],\n",
    "}"
   ]
  },
  {
   "cell_type": "code",
   "execution_count": 20,
   "id": "b745ac60",
   "metadata": {
    "execution": {
     "iopub.execute_input": "2025-08-05T16:05:51.401030Z",
     "iopub.status.busy": "2025-08-05T16:05:51.400362Z",
     "iopub.status.idle": "2025-08-05T16:05:51.406337Z",
     "shell.execute_reply": "2025-08-05T16:05:51.405120Z"
    },
    "papermill": {
     "duration": 0.027974,
     "end_time": "2025-08-05T16:05:51.408219",
     "exception": false,
     "start_time": "2025-08-05T16:05:51.380245",
     "status": "completed"
    },
    "tags": []
   },
   "outputs": [],
   "source": [
    "# Code nice names to column names\n",
    "\n",
    "excluded_features_columns = [\n",
    "    excluded_features_dictionary[f] for f in excluded_features if len(f) > 0 and f != \"none\"\n",
    "]"
   ]
  },
  {
   "cell_type": "code",
   "execution_count": 21,
   "id": "f84f73a2",
   "metadata": {
    "execution": {
     "iopub.execute_input": "2025-08-05T16:05:51.447760Z",
     "iopub.status.busy": "2025-08-05T16:05:51.447097Z",
     "iopub.status.idle": "2025-08-05T16:05:51.454157Z",
     "shell.execute_reply": "2025-08-05T16:05:51.453123Z"
    },
    "papermill": {
     "duration": 0.028108,
     "end_time": "2025-08-05T16:05:51.455925",
     "exception": false,
     "start_time": "2025-08-05T16:05:51.427817",
     "status": "completed"
    },
    "tags": []
   },
   "outputs": [],
   "source": [
    "from utils import flatten_once\n",
    "\n",
    "excluded_features_columns = flatten_once(excluded_features_columns)"
   ]
  },
  {
   "cell_type": "code",
   "execution_count": 22,
   "id": "884dea22",
   "metadata": {
    "execution": {
     "iopub.execute_input": "2025-08-05T16:05:51.484605Z",
     "iopub.status.busy": "2025-08-05T16:05:51.484161Z",
     "iopub.status.idle": "2025-08-05T16:05:51.489328Z",
     "shell.execute_reply": "2025-08-05T16:05:51.488617Z"
    },
    "papermill": {
     "duration": 0.016757,
     "end_time": "2025-08-05T16:05:51.490758",
     "exception": false,
     "start_time": "2025-08-05T16:05:51.474001",
     "status": "completed"
    },
    "tags": []
   },
   "outputs": [],
   "source": [
    "if len(excluded_features_columns) > 0:\n",
    "    print(f\"Dropping features: {excluded_features_columns}\")\n",
    "    X_train.drop(excluded_features_columns, axis=1, inplace=True)"
   ]
  },
  {
   "cell_type": "code",
   "execution_count": 23,
   "id": "95ab8b16",
   "metadata": {
    "execution": {
     "iopub.execute_input": "2025-08-05T16:05:51.511843Z",
     "iopub.status.busy": "2025-08-05T16:05:51.511479Z",
     "iopub.status.idle": "2025-08-05T16:05:51.515975Z",
     "shell.execute_reply": "2025-08-05T16:05:51.515081Z"
    },
    "papermill": {
     "duration": 0.017055,
     "end_time": "2025-08-05T16:05:51.518187",
     "exception": false,
     "start_time": "2025-08-05T16:05:51.501132",
     "status": "completed"
    },
    "tags": []
   },
   "outputs": [],
   "source": [
    "if len(excluded_features_columns) > 0:\n",
    "    print(f\"Dropping features: {excluded_features_columns}\")\n",
    "    X_test.drop(excluded_features_columns, axis=1, inplace=True)"
   ]
  },
  {
   "cell_type": "code",
   "execution_count": 24,
   "id": "1853aaf5-fb9f-46cb-a2b5-8ea4ae2237e4",
   "metadata": {
    "execution": {
     "iopub.execute_input": "2025-08-05T16:05:51.548034Z",
     "iopub.status.busy": "2025-08-05T16:05:51.547538Z",
     "iopub.status.idle": "2025-08-05T16:05:51.553425Z",
     "shell.execute_reply": "2025-08-05T16:05:51.552599Z"
    },
    "papermill": {
     "duration": 0.024713,
     "end_time": "2025-08-05T16:05:51.555065",
     "exception": false,
     "start_time": "2025-08-05T16:05:51.530352",
     "status": "completed"
    },
    "tags": []
   },
   "outputs": [],
   "source": [
    "if len(excluded_features_columns) > 0:\n",
    "    print(f\"Dropping features: {excluded_features_columns}\")\n",
    "    X_calib.drop(excluded_features_columns, axis=1, inplace=True)"
   ]
  },
  {
   "cell_type": "code",
   "execution_count": 25,
   "id": "76c4dc6d",
   "metadata": {
    "execution": {
     "iopub.execute_input": "2025-08-05T16:05:51.575989Z",
     "iopub.status.busy": "2025-08-05T16:05:51.575497Z",
     "iopub.status.idle": "2025-08-05T16:05:51.581750Z",
     "shell.execute_reply": "2025-08-05T16:05:51.580623Z"
    },
    "papermill": {
     "duration": 0.018304,
     "end_time": "2025-08-05T16:05:51.583683",
     "exception": false,
     "start_time": "2025-08-05T16:05:51.565379",
     "status": "completed"
    },
    "tags": []
   },
   "outputs": [],
   "source": [
    "# EXCLUDE CERTAIN SUBGROUPS\n",
    "# ----------------------\n",
    "\n",
    "mode = universe.get(\"exclude_subgroups\", \"keep-all\") \n",
    "# Fetches the exclude_subgroups setting from the universe dict.\n",
    "# Defaults to \"keep-all\" if the key is missing."
   ]
  },
  {
   "cell_type": "code",
   "execution_count": 26,
   "id": "21994072",
   "metadata": {
    "execution": {
     "iopub.execute_input": "2025-08-05T16:05:51.625270Z",
     "iopub.status.busy": "2025-08-05T16:05:51.624609Z",
     "iopub.status.idle": "2025-08-05T16:05:51.633432Z",
     "shell.execute_reply": "2025-08-05T16:05:51.632366Z"
    },
    "papermill": {
     "duration": 0.031573,
     "end_time": "2025-08-05T16:05:51.635336",
     "exception": false,
     "start_time": "2025-08-05T16:05:51.603763",
     "status": "completed"
    },
    "tags": []
   },
   "outputs": [],
   "source": [
    "if mode == \"keep-all\":\n",
    "    keep_mask = pd.Series(True, index=org_train.index)\n",
    "\n",
    "# org_train contains the original feature columns from features_org (in Simson)\n",
    "# features_org contains unprocessed features, for me X_train at beginning ???\n",
    "# For keep-all, creates a boolean Series (keep_mask) of all True, so no rows are removed.\n",
    "\n",
    "elif mode == \"drop-non-german\":\n",
    "    keep_mask = org_train[\"maxdeutsch1\"] == 1 # ??? what about missing values?\n",
    "\n",
    "else:\n",
    "    raise ValueError(f\"Unsupported mode for exclude_subgroups: {mode}\")"
   ]
  },
  {
   "cell_type": "code",
   "execution_count": 27,
   "id": "71651440",
   "metadata": {
    "execution": {
     "iopub.execute_input": "2025-08-05T16:05:51.676774Z",
     "iopub.status.busy": "2025-08-05T16:05:51.675775Z",
     "iopub.status.idle": "2025-08-05T16:05:51.682555Z",
     "shell.execute_reply": "2025-08-05T16:05:51.681509Z"
    },
    "papermill": {
     "duration": 0.02841,
     "end_time": "2025-08-05T16:05:51.684444",
     "exception": false,
     "start_time": "2025-08-05T16:05:51.656034",
     "status": "completed"
    },
    "tags": []
   },
   "outputs": [],
   "source": [
    "n_drop = (~keep_mask).sum() # Calculates how many rows are set to be dropped\n",
    "if n_drop > 0:\n",
    "    pct = n_drop / len(keep_mask) * 100\n",
    "    print(f\"Dropping {n_drop} rows ({pct:.2f}%) where mode='{mode}'\")"
   ]
  },
  {
   "cell_type": "code",
   "execution_count": 28,
   "id": "5fb8eee5",
   "metadata": {
    "execution": {
     "iopub.execute_input": "2025-08-05T16:05:51.725194Z",
     "iopub.status.busy": "2025-08-05T16:05:51.724168Z",
     "iopub.status.idle": "2025-08-05T16:05:51.731918Z",
     "shell.execute_reply": "2025-08-05T16:05:51.730724Z"
    },
    "papermill": {
     "duration": 0.029963,
     "end_time": "2025-08-05T16:05:51.733857",
     "exception": false,
     "start_time": "2025-08-05T16:05:51.703894",
     "status": "completed"
    },
    "tags": []
   },
   "outputs": [],
   "source": [
    "X_train = X_train[keep_mask]"
   ]
  },
  {
   "cell_type": "code",
   "execution_count": 29,
   "id": "b202bb3a",
   "metadata": {
    "execution": {
     "iopub.execute_input": "2025-08-05T16:05:51.774848Z",
     "iopub.status.busy": "2025-08-05T16:05:51.773937Z",
     "iopub.status.idle": "2025-08-05T16:05:51.780894Z",
     "shell.execute_reply": "2025-08-05T16:05:51.779881Z"
    },
    "papermill": {
     "duration": 0.029837,
     "end_time": "2025-08-05T16:05:51.782813",
     "exception": false,
     "start_time": "2025-08-05T16:05:51.752976",
     "status": "completed"
    },
    "tags": []
   },
   "outputs": [],
   "source": [
    "y_train = y_train[keep_mask]"
   ]
  },
  {
   "cell_type": "markdown",
   "id": "493e2ac3",
   "metadata": {
    "papermill": {
     "duration": 0.018348,
     "end_time": "2025-08-05T16:05:51.820555",
     "exception": false,
     "start_time": "2025-08-05T16:05:51.802207",
     "status": "completed"
    },
    "tags": []
   },
   "source": [
    "# Model Training"
   ]
  },
  {
   "cell_type": "code",
   "execution_count": 30,
   "id": "679e1268",
   "metadata": {
    "execution": {
     "iopub.execute_input": "2025-08-05T16:05:51.857135Z",
     "iopub.status.busy": "2025-08-05T16:05:51.856490Z",
     "iopub.status.idle": "2025-08-05T16:05:51.966664Z",
     "shell.execute_reply": "2025-08-05T16:05:51.965631Z"
    },
    "papermill": {
     "duration": 0.130686,
     "end_time": "2025-08-05T16:05:51.968565",
     "exception": false,
     "start_time": "2025-08-05T16:05:51.837879",
     "status": "completed"
    },
    "tags": []
   },
   "outputs": [],
   "source": [
    "from sklearn.linear_model import LogisticRegression\n",
    "from sklearn.ensemble import GradientBoostingClassifier, RandomForestClassifier\n",
    "\n",
    "if (universe[\"model\"] == \"logreg\"):\n",
    "    model = LogisticRegression() #penalty=\"none\", solver=\"newton-cg\", max_iter=1) # include random_state=19 ?\n",
    "elif (universe[\"model\"] == \"penalized_logreg\"):\n",
    "    model = LogisticRegression(penalty=\"l2\", C=0.1) #, solver=\"newton-cg\", max_iter=1)\n",
    "elif (universe[\"model\"] == \"rf\"):\n",
    "    model = RandomForestClassifier() # n_estimators=100, n_jobs=-1\n",
    "elif (universe[\"model\"] == \"gbm\"):\n",
    "    model = GradientBoostingClassifier()\n",
    "elif (universe[\"model\"] == \"elasticnet\"):\n",
    "    model = LogisticRegression(penalty = 'elasticnet', solver = 'saga', l1_ratio = 0.5) # max_iter=5000\n",
    "else:\n",
    "    raise \"Unsupported universe.model\""
   ]
  },
  {
   "cell_type": "code",
   "execution_count": 31,
   "id": "0cc8f744",
   "metadata": {
    "execution": {
     "iopub.execute_input": "2025-08-05T16:05:52.009593Z",
     "iopub.status.busy": "2025-08-05T16:05:52.008732Z",
     "iopub.status.idle": "2025-08-05T16:05:52.015515Z",
     "shell.execute_reply": "2025-08-05T16:05:52.014456Z"
    },
    "papermill": {
     "duration": 0.029869,
     "end_time": "2025-08-05T16:05:52.017661",
     "exception": false,
     "start_time": "2025-08-05T16:05:51.987792",
     "status": "completed"
    },
    "tags": []
   },
   "outputs": [],
   "source": [
    "import numpy as np\n",
    "from sklearn.pipeline import Pipeline\n",
    "from sklearn.preprocessing import StandardScaler\n",
    "\n",
    "model = Pipeline([\n",
    "    #(\"continuous_processor\", continuous_processor),\n",
    "    #(\"categorical_preprocessor\", categorical_preprocessor),\n",
    "    (\"scale\", StandardScaler() if universe[\"scale\"] == \"scale\" else None), \n",
    "    (\"model\", model),\n",
    "])"
   ]
  },
  {
   "cell_type": "code",
   "execution_count": 32,
   "id": "9442c04d",
   "metadata": {
    "execution": {
     "iopub.execute_input": "2025-08-05T16:05:52.051693Z",
     "iopub.status.busy": "2025-08-05T16:05:52.051325Z",
     "iopub.status.idle": "2025-08-05T16:05:52.866493Z",
     "shell.execute_reply": "2025-08-05T16:05:52.865796Z"
    },
    "papermill": {
     "duration": 0.829683,
     "end_time": "2025-08-05T16:05:52.867698",
     "exception": false,
     "start_time": "2025-08-05T16:05:52.038015",
     "status": "completed"
    },
    "tags": []
   },
   "outputs": [
    {
     "data": {
      "text/html": [
       "<style>#sk-container-id-1 {color: black;background-color: white;}#sk-container-id-1 pre{padding: 0;}#sk-container-id-1 div.sk-toggleable {background-color: white;}#sk-container-id-1 label.sk-toggleable__label {cursor: pointer;display: block;width: 100%;margin-bottom: 0;padding: 0.3em;box-sizing: border-box;text-align: center;}#sk-container-id-1 label.sk-toggleable__label-arrow:before {content: \"▸\";float: left;margin-right: 0.25em;color: #696969;}#sk-container-id-1 label.sk-toggleable__label-arrow:hover:before {color: black;}#sk-container-id-1 div.sk-estimator:hover label.sk-toggleable__label-arrow:before {color: black;}#sk-container-id-1 div.sk-toggleable__content {max-height: 0;max-width: 0;overflow: hidden;text-align: left;background-color: #f0f8ff;}#sk-container-id-1 div.sk-toggleable__content pre {margin: 0.2em;color: black;border-radius: 0.25em;background-color: #f0f8ff;}#sk-container-id-1 input.sk-toggleable__control:checked~div.sk-toggleable__content {max-height: 200px;max-width: 100%;overflow: auto;}#sk-container-id-1 input.sk-toggleable__control:checked~label.sk-toggleable__label-arrow:before {content: \"▾\";}#sk-container-id-1 div.sk-estimator input.sk-toggleable__control:checked~label.sk-toggleable__label {background-color: #d4ebff;}#sk-container-id-1 div.sk-label input.sk-toggleable__control:checked~label.sk-toggleable__label {background-color: #d4ebff;}#sk-container-id-1 input.sk-hidden--visually {border: 0;clip: rect(1px 1px 1px 1px);clip: rect(1px, 1px, 1px, 1px);height: 1px;margin: -1px;overflow: hidden;padding: 0;position: absolute;width: 1px;}#sk-container-id-1 div.sk-estimator {font-family: monospace;background-color: #f0f8ff;border: 1px dotted black;border-radius: 0.25em;box-sizing: border-box;margin-bottom: 0.5em;}#sk-container-id-1 div.sk-estimator:hover {background-color: #d4ebff;}#sk-container-id-1 div.sk-parallel-item::after {content: \"\";width: 100%;border-bottom: 1px solid gray;flex-grow: 1;}#sk-container-id-1 div.sk-label:hover label.sk-toggleable__label {background-color: #d4ebff;}#sk-container-id-1 div.sk-serial::before {content: \"\";position: absolute;border-left: 1px solid gray;box-sizing: border-box;top: 0;bottom: 0;left: 50%;z-index: 0;}#sk-container-id-1 div.sk-serial {display: flex;flex-direction: column;align-items: center;background-color: white;padding-right: 0.2em;padding-left: 0.2em;position: relative;}#sk-container-id-1 div.sk-item {position: relative;z-index: 1;}#sk-container-id-1 div.sk-parallel {display: flex;align-items: stretch;justify-content: center;background-color: white;position: relative;}#sk-container-id-1 div.sk-item::before, #sk-container-id-1 div.sk-parallel-item::before {content: \"\";position: absolute;border-left: 1px solid gray;box-sizing: border-box;top: 0;bottom: 0;left: 50%;z-index: -1;}#sk-container-id-1 div.sk-parallel-item {display: flex;flex-direction: column;z-index: 1;position: relative;background-color: white;}#sk-container-id-1 div.sk-parallel-item:first-child::after {align-self: flex-end;width: 50%;}#sk-container-id-1 div.sk-parallel-item:last-child::after {align-self: flex-start;width: 50%;}#sk-container-id-1 div.sk-parallel-item:only-child::after {width: 0;}#sk-container-id-1 div.sk-dashed-wrapped {border: 1px dashed gray;margin: 0 0.4em 0.5em 0.4em;box-sizing: border-box;padding-bottom: 0.4em;background-color: white;}#sk-container-id-1 div.sk-label label {font-family: monospace;font-weight: bold;display: inline-block;line-height: 1.2em;}#sk-container-id-1 div.sk-label-container {text-align: center;}#sk-container-id-1 div.sk-container {/* jupyter's `normalize.less` sets `[hidden] { display: none; }` but bootstrap.min.css set `[hidden] { display: none !important; }` so we also need the `!important` here to be able to override the default hidden behavior on the sphinx rendered scikit-learn.org. See: https://github.com/scikit-learn/scikit-learn/issues/21755 */display: inline-block !important;position: relative;}#sk-container-id-1 div.sk-text-repr-fallback {display: none;}</style><div id=\"sk-container-id-1\" class=\"sk-top-container\"><div class=\"sk-text-repr-fallback\"><pre>Pipeline(steps=[(&#x27;scale&#x27;, StandardScaler()),\n",
       "                (&#x27;model&#x27;, GradientBoostingClassifier())])</pre><b>In a Jupyter environment, please rerun this cell to show the HTML representation or trust the notebook. <br />On GitHub, the HTML representation is unable to render, please try loading this page with nbviewer.org.</b></div><div class=\"sk-container\" hidden><div class=\"sk-item sk-dashed-wrapped\"><div class=\"sk-label-container\"><div class=\"sk-label sk-toggleable\"><input class=\"sk-toggleable__control sk-hidden--visually\" id=\"sk-estimator-id-1\" type=\"checkbox\" ><label for=\"sk-estimator-id-1\" class=\"sk-toggleable__label sk-toggleable__label-arrow\">Pipeline</label><div class=\"sk-toggleable__content\"><pre>Pipeline(steps=[(&#x27;scale&#x27;, StandardScaler()),\n",
       "                (&#x27;model&#x27;, GradientBoostingClassifier())])</pre></div></div></div><div class=\"sk-serial\"><div class=\"sk-item\"><div class=\"sk-estimator sk-toggleable\"><input class=\"sk-toggleable__control sk-hidden--visually\" id=\"sk-estimator-id-2\" type=\"checkbox\" ><label for=\"sk-estimator-id-2\" class=\"sk-toggleable__label sk-toggleable__label-arrow\">StandardScaler</label><div class=\"sk-toggleable__content\"><pre>StandardScaler()</pre></div></div></div><div class=\"sk-item\"><div class=\"sk-estimator sk-toggleable\"><input class=\"sk-toggleable__control sk-hidden--visually\" id=\"sk-estimator-id-3\" type=\"checkbox\" ><label for=\"sk-estimator-id-3\" class=\"sk-toggleable__label sk-toggleable__label-arrow\">GradientBoostingClassifier</label><div class=\"sk-toggleable__content\"><pre>GradientBoostingClassifier()</pre></div></div></div></div></div></div></div>"
      ],
      "text/plain": [
       "Pipeline(steps=[('scale', StandardScaler()),\n",
       "                ('model', GradientBoostingClassifier())])"
      ]
     },
     "execution_count": 32,
     "metadata": {},
     "output_type": "execute_result"
    }
   ],
   "source": [
    "model.fit(X_train, y_train.values.ravel())"
   ]
  },
  {
   "cell_type": "code",
   "execution_count": 33,
   "id": "af59f8c0",
   "metadata": {
    "execution": {
     "iopub.execute_input": "2025-08-05T16:05:52.890260Z",
     "iopub.status.busy": "2025-08-05T16:05:52.889721Z",
     "iopub.status.idle": "2025-08-05T16:05:52.894332Z",
     "shell.execute_reply": "2025-08-05T16:05:52.893571Z"
    },
    "papermill": {
     "duration": 0.017625,
     "end_time": "2025-08-05T16:05:52.895883",
     "exception": false,
     "start_time": "2025-08-05T16:05:52.878258",
     "status": "completed"
    },
    "tags": []
   },
   "outputs": [],
   "source": [
    "from fairness_multiverse.universe import predict_w_threshold"
   ]
  },
  {
   "cell_type": "code",
   "execution_count": 34,
   "id": "a7cf2e16",
   "metadata": {
    "execution": {
     "iopub.execute_input": "2025-08-05T16:05:52.919642Z",
     "iopub.status.busy": "2025-08-05T16:05:52.919083Z",
     "iopub.status.idle": "2025-08-05T16:05:53.716643Z",
     "shell.execute_reply": "2025-08-05T16:05:53.715748Z"
    },
    "papermill": {
     "duration": 0.810596,
     "end_time": "2025-08-05T16:05:53.718396",
     "exception": false,
     "start_time": "2025-08-05T16:05:52.907800",
     "status": "completed"
    },
    "tags": []
   },
   "outputs": [
    {
     "data": {
      "text/plain": [
       "0.850373425482109"
      ]
     },
     "execution_count": 34,
     "metadata": {},
     "output_type": "execute_result"
    }
   ],
   "source": [
    "probs_test = model.predict_proba(X_test)\n",
    "\n",
    "'''\n",
    "Below code returns a boolean array (or binary 0/1 array depending on how it’s used) where each element \n",
    "is True if the probability of class 1 is greater than or equal to the threshold, and False otherwise.\n",
    "'''\n",
    "y_pred_default = predict_w_threshold(probs_test, 0.5)\n",
    "\n",
    "from sklearn.metrics import accuracy_score\n",
    "\n",
    "# Naive prediction\n",
    "accuracy_score(y_true = y_true, y_pred = y_pred_default)"
   ]
  },
  {
   "cell_type": "code",
   "execution_count": 35,
   "id": "081964c3",
   "metadata": {
    "execution": {
     "iopub.execute_input": "2025-08-05T16:05:53.759553Z",
     "iopub.status.busy": "2025-08-05T16:05:53.758897Z",
     "iopub.status.idle": "2025-08-05T16:05:54.532095Z",
     "shell.execute_reply": "2025-08-05T16:05:54.531236Z"
    },
    "papermill": {
     "duration": 0.795494,
     "end_time": "2025-08-05T16:05:54.533686",
     "exception": false,
     "start_time": "2025-08-05T16:05:53.738192",
     "status": "completed"
    },
    "tags": []
   },
   "outputs": [
    {
     "data": {
      "text/plain": [
       "array([0, 0, 0, ..., 0, 0, 0])"
      ]
     },
     "execution_count": 35,
     "metadata": {},
     "output_type": "execute_result"
    }
   ],
   "source": [
    "model.predict(X_test)"
   ]
  },
  {
   "cell_type": "markdown",
   "id": "56c9705b",
   "metadata": {
    "papermill": {
     "duration": 0.019909,
     "end_time": "2025-08-05T16:05:54.573549",
     "exception": false,
     "start_time": "2025-08-05T16:05:54.553640",
     "status": "completed"
    },
    "tags": []
   },
   "source": [
    "# Conformal Prediction"
   ]
  },
  {
   "cell_type": "code",
   "execution_count": 36,
   "id": "160ec6ff",
   "metadata": {
    "execution": {
     "iopub.execute_input": "2025-08-05T16:05:54.617967Z",
     "iopub.status.busy": "2025-08-05T16:05:54.617063Z",
     "iopub.status.idle": "2025-08-05T16:05:54.622631Z",
     "shell.execute_reply": "2025-08-05T16:05:54.621722Z"
    },
    "papermill": {
     "duration": 0.029439,
     "end_time": "2025-08-05T16:05:54.624308",
     "exception": false,
     "start_time": "2025-08-05T16:05:54.594869",
     "status": "completed"
    },
    "tags": []
   },
   "outputs": [],
   "source": [
    "# Miscoverage level for conformal prediction (10% allowed error rate => 90% target coverage)\n",
    "alpha = 0.1"
   ]
  },
  {
   "cell_type": "code",
   "execution_count": 37,
   "id": "eadf4555-3dd3-440e-8e35-f82a4ad9f855",
   "metadata": {
    "execution": {
     "iopub.execute_input": "2025-08-05T16:05:54.662893Z",
     "iopub.status.busy": "2025-08-05T16:05:54.662171Z",
     "iopub.status.idle": "2025-08-05T16:05:55.382480Z",
     "shell.execute_reply": "2025-08-05T16:05:55.381559Z"
    },
    "papermill": {
     "duration": 0.741094,
     "end_time": "2025-08-05T16:05:55.384308",
     "exception": false,
     "start_time": "2025-08-05T16:05:54.643214",
     "status": "completed"
    },
    "tags": []
   },
   "outputs": [],
   "source": [
    "probs_calib = model.predict_proba(X_calib)"
   ]
  },
  {
   "cell_type": "code",
   "execution_count": 38,
   "id": "2ed93547-6d5d-4983-9b36-1ecb300da49a",
   "metadata": {
    "execution": {
     "iopub.execute_input": "2025-08-05T16:05:55.421624Z",
     "iopub.status.busy": "2025-08-05T16:05:55.420954Z",
     "iopub.status.idle": "2025-08-05T16:05:55.426447Z",
     "shell.execute_reply": "2025-08-05T16:05:55.425561Z"
    },
    "papermill": {
     "duration": 0.025181,
     "end_time": "2025-08-05T16:05:55.427896",
     "exception": false,
     "start_time": "2025-08-05T16:05:55.402715",
     "status": "completed"
    },
    "tags": []
   },
   "outputs": [],
   "source": [
    "y_calib = y_calib.values.ravel().astype(int)"
   ]
  },
  {
   "cell_type": "code",
   "execution_count": 39,
   "id": "65d1320d-f588-4b38-9072-62af1ae97f7d",
   "metadata": {
    "execution": {
     "iopub.execute_input": "2025-08-05T16:05:55.465895Z",
     "iopub.status.busy": "2025-08-05T16:05:55.465213Z",
     "iopub.status.idle": "2025-08-05T16:05:55.472634Z",
     "shell.execute_reply": "2025-08-05T16:05:55.471617Z"
    },
    "papermill": {
     "duration": 0.028387,
     "end_time": "2025-08-05T16:05:55.474783",
     "exception": false,
     "start_time": "2025-08-05T16:05:55.446396",
     "status": "completed"
    },
    "tags": []
   },
   "outputs": [],
   "source": [
    "from fairness_multiverse.conformal import compute_nc_scores\n",
    "\n",
    "# Compute nonconformity scores on calibration set (1 - probability of true class)\n",
    "nc_scores = compute_nc_scores(probs_calib, y_calib)"
   ]
  },
  {
   "cell_type": "code",
   "execution_count": 40,
   "id": "df3b8ca3-53b7-43d5-9667-7c85da7aeda2",
   "metadata": {
    "execution": {
     "iopub.execute_input": "2025-08-05T16:05:55.512711Z",
     "iopub.status.busy": "2025-08-05T16:05:55.512012Z",
     "iopub.status.idle": "2025-08-05T16:05:55.518344Z",
     "shell.execute_reply": "2025-08-05T16:05:55.517504Z"
    },
    "papermill": {
     "duration": 0.026371,
     "end_time": "2025-08-05T16:05:55.519952",
     "exception": false,
     "start_time": "2025-08-05T16:05:55.493581",
     "status": "completed"
    },
    "tags": []
   },
   "outputs": [],
   "source": [
    "from fairness_multiverse.conformal import find_threshold\n",
    "\n",
    "# Find conformal threshold q_hat for the given alpha (split conformal method)\n",
    "q_hat = find_threshold(nc_scores, alpha)"
   ]
  },
  {
   "cell_type": "code",
   "execution_count": 41,
   "id": "4d29e6c1-0ef6-4aa4-b8fe-4fe79b0d033a",
   "metadata": {
    "execution": {
     "iopub.execute_input": "2025-08-05T16:05:55.558510Z",
     "iopub.status.busy": "2025-08-05T16:05:55.557821Z",
     "iopub.status.idle": "2025-08-05T16:05:55.610163Z",
     "shell.execute_reply": "2025-08-05T16:05:55.608964Z"
    },
    "papermill": {
     "duration": 0.073622,
     "end_time": "2025-08-05T16:05:55.611871",
     "exception": false,
     "start_time": "2025-08-05T16:05:55.538249",
     "status": "completed"
    },
    "tags": []
   },
   "outputs": [
    {
     "data": {
      "text/plain": [
       "0.7418336171636242"
      ]
     },
     "execution_count": 41,
     "metadata": {},
     "output_type": "execute_result"
    }
   ],
   "source": [
    "q_hat"
   ]
  },
  {
   "cell_type": "code",
   "execution_count": 42,
   "id": "92460794-cdac-4be2-ba28-f28c0515a6fb",
   "metadata": {
    "execution": {
     "iopub.execute_input": "2025-08-05T16:05:55.649985Z",
     "iopub.status.busy": "2025-08-05T16:05:55.649312Z",
     "iopub.status.idle": "2025-08-05T16:05:57.234327Z",
     "shell.execute_reply": "2025-08-05T16:05:57.233293Z"
    },
    "papermill": {
     "duration": 1.605422,
     "end_time": "2025-08-05T16:05:57.236371",
     "exception": false,
     "start_time": "2025-08-05T16:05:55.630949",
     "status": "completed"
    },
    "tags": []
   },
   "outputs": [],
   "source": [
    "from fairness_multiverse.conformal import predict_conformal_sets\n",
    "\n",
    "# Generate prediction sets for each test example\n",
    "pred_sets = predict_conformal_sets(model, X_test, q_hat)"
   ]
  },
  {
   "cell_type": "code",
   "execution_count": 43,
   "id": "d90c9a65-e6db-4f5d-80cd-e68fb7e46829",
   "metadata": {
    "execution": {
     "iopub.execute_input": "2025-08-05T16:05:57.284414Z",
     "iopub.status.busy": "2025-08-05T16:05:57.283456Z",
     "iopub.status.idle": "2025-08-05T16:05:57.289869Z",
     "shell.execute_reply": "2025-08-05T16:05:57.288800Z"
    },
    "papermill": {
     "duration": 0.032182,
     "end_time": "2025-08-05T16:05:57.291825",
     "exception": false,
     "start_time": "2025-08-05T16:05:57.259643",
     "status": "completed"
    },
    "tags": []
   },
   "outputs": [],
   "source": [
    "y_true = y_true.squeeze()"
   ]
  },
  {
   "cell_type": "code",
   "execution_count": 44,
   "id": "3a58a54a-1e68-46b9-927a-df01f18aebc8",
   "metadata": {
    "execution": {
     "iopub.execute_input": "2025-08-05T16:05:57.335788Z",
     "iopub.status.busy": "2025-08-05T16:05:57.335260Z",
     "iopub.status.idle": "2025-08-05T16:05:58.266865Z",
     "shell.execute_reply": "2025-08-05T16:05:58.266102Z"
    },
    "papermill": {
     "duration": 0.955543,
     "end_time": "2025-08-05T16:05:58.268893",
     "exception": false,
     "start_time": "2025-08-05T16:05:57.313350",
     "status": "completed"
    },
    "tags": []
   },
   "outputs": [],
   "source": [
    "from fairness_multiverse.conformal import evaluate_sets\n",
    "\n",
    "# Evaluate coverage and average set size on test data\n",
    "metrics = evaluate_sets(pred_sets, y_true)"
   ]
  },
  {
   "cell_type": "markdown",
   "id": "2b569c12-9aaa-4c88-98c9-bbcd0cf3ebb8",
   "metadata": {
    "papermill": {
     "duration": 0.016559,
     "end_time": "2025-08-05T16:05:58.315455",
     "exception": false,
     "start_time": "2025-08-05T16:05:58.298896",
     "status": "completed"
    },
    "tags": []
   },
   "source": [
    "# CP Metrics"
   ]
  },
  {
   "cell_type": "code",
   "execution_count": 45,
   "id": "5ce0a5cb-201f-45a0-ade5-94c7f0bd6095",
   "metadata": {
    "execution": {
     "iopub.execute_input": "2025-08-05T16:05:58.342131Z",
     "iopub.status.busy": "2025-08-05T16:05:58.341773Z",
     "iopub.status.idle": "2025-08-05T16:05:58.347931Z",
     "shell.execute_reply": "2025-08-05T16:05:58.347151Z"
    },
    "papermill": {
     "duration": 0.019334,
     "end_time": "2025-08-05T16:05:58.349426",
     "exception": false,
     "start_time": "2025-08-05T16:05:58.330092",
     "status": "completed"
    },
    "tags": []
   },
   "outputs": [
    {
     "data": {
      "text/plain": [
       "{'coverage': 0.9102441199420355, 'avg_size': 1.1564931445769702}"
      ]
     },
     "execution_count": 45,
     "metadata": {},
     "output_type": "execute_result"
    }
   ],
   "source": [
    "metrics"
   ]
  },
  {
   "cell_type": "code",
   "execution_count": 46,
   "id": "9b9a838d-31c9-430b-ae14-12baee460d17",
   "metadata": {
    "execution": {
     "iopub.execute_input": "2025-08-05T16:05:58.390442Z",
     "iopub.status.busy": "2025-08-05T16:05:58.389932Z",
     "iopub.status.idle": "2025-08-05T16:05:58.397071Z",
     "shell.execute_reply": "2025-08-05T16:05:58.396130Z"
    },
    "papermill": {
     "duration": 0.029698,
     "end_time": "2025-08-05T16:05:58.399017",
     "exception": false,
     "start_time": "2025-08-05T16:05:58.369319",
     "status": "completed"
    },
    "tags": []
   },
   "outputs": [],
   "source": [
    "example_universe = universe.copy()\n",
    "universe_training_year = example_universe.get(\"training_year\")\n",
    "universe_training_size = example_universe.get(\"training_size\")\n",
    "universe_scale = example_universe.get(\"scale\")\n",
    "universe_model = example_universe.get(\"model\")\n",
    "universe_exclude_features = example_universe.get(\"exclude_features\")\n",
    "universe_exclude_subgroups = example_universe.get(\"exclude_subgroups\")"
   ]
  },
  {
   "cell_type": "code",
   "execution_count": 47,
   "id": "f4b6a8ac-9dc0-4245-8a91-5b3b5999c4f9",
   "metadata": {
    "execution": {
     "iopub.execute_input": "2025-08-05T16:05:58.445963Z",
     "iopub.status.busy": "2025-08-05T16:05:58.445481Z",
     "iopub.status.idle": "2025-08-05T16:05:58.452437Z",
     "shell.execute_reply": "2025-08-05T16:05:58.451405Z"
    },
    "papermill": {
     "duration": 0.032203,
     "end_time": "2025-08-05T16:05:58.454236",
     "exception": false,
     "start_time": "2025-08-05T16:05:58.422033",
     "status": "completed"
    },
    "tags": []
   },
   "outputs": [],
   "source": [
    "cp_metrics_dict = {\n",
    "    \"universe_id\": [universe_id],\n",
    "    \"universe_training_year\": [universe_training_year],\n",
    "    \"universe_training_size\": [universe_training_size],\n",
    "    \"universe_scale\": [universe_scale],\n",
    "    \"universe_model\": [universe_model],\n",
    "    \"universe_exclude_features\": [universe_exclude_features],\n",
    "    \"universe_exclude_subgroups\": [universe_exclude_subgroups],\n",
    "    \"q_hat\": [q_hat],\n",
    "    \"coverage\": [metrics[\"coverage\"]],\n",
    "    \"avg_size\": [metrics[\"avg_size\"]],\n",
    "}"
   ]
  },
  {
   "cell_type": "code",
   "execution_count": 48,
   "id": "908acbb1-0371-4915-85ca-3fa520d2efe2",
   "metadata": {
    "execution": {
     "iopub.execute_input": "2025-08-05T16:05:58.506758Z",
     "iopub.status.busy": "2025-08-05T16:05:58.506093Z",
     "iopub.status.idle": "2025-08-05T16:05:58.514262Z",
     "shell.execute_reply": "2025-08-05T16:05:58.513095Z"
    },
    "papermill": {
     "duration": 0.034143,
     "end_time": "2025-08-05T16:05:58.515930",
     "exception": false,
     "start_time": "2025-08-05T16:05:58.481787",
     "status": "completed"
    },
    "tags": []
   },
   "outputs": [
    {
     "data": {
      "text/plain": [
       "{'universe_id': ['de1c4049fb979611d84cc5e4ec10a00e'],\n",
       " 'universe_training_year': ['2014'],\n",
       " 'universe_training_size': ['1k'],\n",
       " 'universe_scale': ['scale'],\n",
       " 'universe_model': ['gbm'],\n",
       " 'universe_exclude_features': ['none'],\n",
       " 'universe_exclude_subgroups': ['keep-all'],\n",
       " 'q_hat': [0.7418336171636242],\n",
       " 'coverage': [0.9102441199420355],\n",
       " 'avg_size': [1.1564931445769702]}"
      ]
     },
     "execution_count": 48,
     "metadata": {},
     "output_type": "execute_result"
    }
   ],
   "source": [
    "cp_metrics_dict"
   ]
  },
  {
   "cell_type": "code",
   "execution_count": 49,
   "id": "33007efc-14e9-4ec6-97ac-56a455c82265",
   "metadata": {
    "execution": {
     "iopub.execute_input": "2025-08-05T16:05:58.561345Z",
     "iopub.status.busy": "2025-08-05T16:05:58.560830Z",
     "iopub.status.idle": "2025-08-05T16:05:58.567582Z",
     "shell.execute_reply": "2025-08-05T16:05:58.566416Z"
    },
    "papermill": {
     "duration": 0.031737,
     "end_time": "2025-08-05T16:05:58.569690",
     "exception": false,
     "start_time": "2025-08-05T16:05:58.537953",
     "status": "completed"
    },
    "tags": []
   },
   "outputs": [],
   "source": [
    "cp_metrics_df = pd.DataFrame(cp_metrics_dict)"
   ]
  },
  {
   "cell_type": "code",
   "execution_count": 50,
   "id": "db12611b-57b2-4910-b9d0-355adfd6e7bf",
   "metadata": {
    "execution": {
     "iopub.execute_input": "2025-08-05T16:05:58.615726Z",
     "iopub.status.busy": "2025-08-05T16:05:58.615248Z",
     "iopub.status.idle": "2025-08-05T16:05:58.637540Z",
     "shell.execute_reply": "2025-08-05T16:05:58.636510Z"
    },
    "papermill": {
     "duration": 0.047157,
     "end_time": "2025-08-05T16:05:58.639420",
     "exception": false,
     "start_time": "2025-08-05T16:05:58.592263",
     "status": "completed"
    },
    "tags": []
   },
   "outputs": [
    {
     "data": {
      "text/html": [
       "<div>\n",
       "<style scoped>\n",
       "    .dataframe tbody tr th:only-of-type {\n",
       "        vertical-align: middle;\n",
       "    }\n",
       "\n",
       "    .dataframe tbody tr th {\n",
       "        vertical-align: top;\n",
       "    }\n",
       "\n",
       "    .dataframe thead th {\n",
       "        text-align: right;\n",
       "    }\n",
       "</style>\n",
       "<table border=\"1\" class=\"dataframe\">\n",
       "  <thead>\n",
       "    <tr style=\"text-align: right;\">\n",
       "      <th></th>\n",
       "      <th>universe_id</th>\n",
       "      <th>universe_training_year</th>\n",
       "      <th>universe_training_size</th>\n",
       "      <th>universe_scale</th>\n",
       "      <th>universe_model</th>\n",
       "      <th>universe_exclude_features</th>\n",
       "      <th>universe_exclude_subgroups</th>\n",
       "      <th>q_hat</th>\n",
       "      <th>coverage</th>\n",
       "      <th>avg_size</th>\n",
       "    </tr>\n",
       "  </thead>\n",
       "  <tbody>\n",
       "    <tr>\n",
       "      <th>0</th>\n",
       "      <td>de1c4049fb979611d84cc5e4ec10a00e</td>\n",
       "      <td>2014</td>\n",
       "      <td>1k</td>\n",
       "      <td>scale</td>\n",
       "      <td>gbm</td>\n",
       "      <td>none</td>\n",
       "      <td>keep-all</td>\n",
       "      <td>0.741834</td>\n",
       "      <td>0.910244</td>\n",
       "      <td>1.156493</td>\n",
       "    </tr>\n",
       "  </tbody>\n",
       "</table>\n",
       "</div>"
      ],
      "text/plain": [
       "                        universe_id universe_training_year  \\\n",
       "0  de1c4049fb979611d84cc5e4ec10a00e                   2014   \n",
       "\n",
       "  universe_training_size universe_scale universe_model  \\\n",
       "0                     1k          scale            gbm   \n",
       "\n",
       "  universe_exclude_features universe_exclude_subgroups     q_hat  coverage  \\\n",
       "0                      none                   keep-all  0.741834  0.910244   \n",
       "\n",
       "   avg_size  \n",
       "0  1.156493  "
      ]
     },
     "execution_count": 50,
     "metadata": {},
     "output_type": "execute_result"
    }
   ],
   "source": [
    "cp_metrics_df"
   ]
  },
  {
   "cell_type": "code",
   "execution_count": 51,
   "id": "b7fbde55-a0a1-47e4-9af6-fe4a17fa8c61",
   "metadata": {
    "execution": {
     "iopub.execute_input": "2025-08-05T16:05:58.686346Z",
     "iopub.status.busy": "2025-08-05T16:05:58.685528Z",
     "iopub.status.idle": "2025-08-05T16:05:58.690996Z",
     "shell.execute_reply": "2025-08-05T16:05:58.689921Z"
    },
    "papermill": {
     "duration": 0.030244,
     "end_time": "2025-08-05T16:05:58.692973",
     "exception": false,
     "start_time": "2025-08-05T16:05:58.662729",
     "status": "completed"
    },
    "tags": []
   },
   "outputs": [],
   "source": [
    "# Conditional Coverage & looking at subgroups"
   ]
  },
  {
   "cell_type": "code",
   "execution_count": 52,
   "id": "027ae886-68dd-4141-96c7-805a5450e1ef",
   "metadata": {
    "execution": {
     "iopub.execute_input": "2025-08-05T16:05:58.744438Z",
     "iopub.status.busy": "2025-08-05T16:05:58.743718Z",
     "iopub.status.idle": "2025-08-05T16:05:59.080414Z",
     "shell.execute_reply": "2025-08-05T16:05:59.079379Z"
    },
    "papermill": {
     "duration": 0.364685,
     "end_time": "2025-08-05T16:05:59.082720",
     "exception": false,
     "start_time": "2025-08-05T16:05:58.718035",
     "status": "completed"
    },
    "tags": []
   },
   "outputs": [],
   "source": [
    "from fairness_multiverse.conformal import build_cp_groups\n",
    "\n",
    "cp_groups_df = build_cp_groups(pred_sets, y_true, X_test.index, org_test)\n",
    "#needs universe_id and setting"
   ]
  },
  {
   "cell_type": "code",
   "execution_count": 53,
   "id": "6cbdab96-b2b2-45af-ad54-d0516db2e28d",
   "metadata": {
    "execution": {
     "iopub.execute_input": "2025-08-05T16:05:59.110652Z",
     "iopub.status.busy": "2025-08-05T16:05:59.110296Z",
     "iopub.status.idle": "2025-08-05T16:06:00.483197Z",
     "shell.execute_reply": "2025-08-05T16:06:00.481909Z"
    },
    "papermill": {
     "duration": 1.387518,
     "end_time": "2025-08-05T16:06:00.485341",
     "exception": false,
     "start_time": "2025-08-05T16:05:59.097823",
     "status": "completed"
    },
    "tags": []
   },
   "outputs": [],
   "source": [
    "# Define covered = 1 if true_label is in the predicted set\n",
    "cp_groups_df['covered'] = cp_groups_df.apply(\n",
    "    lambda r: int(r['true_label'] in r['pred_set']),\n",
    "    axis=1\n",
    ")"
   ]
  },
  {
   "cell_type": "code",
   "execution_count": 54,
   "id": "338ff529-1a6b-4b87-a931-8e4788d52aad",
   "metadata": {
    "execution": {
     "iopub.execute_input": "2025-08-05T16:06:00.510688Z",
     "iopub.status.busy": "2025-08-05T16:06:00.509899Z",
     "iopub.status.idle": "2025-08-05T16:06:00.514243Z",
     "shell.execute_reply": "2025-08-05T16:06:00.513481Z"
    },
    "papermill": {
     "duration": 0.017494,
     "end_time": "2025-08-05T16:06:00.515763",
     "exception": false,
     "start_time": "2025-08-05T16:06:00.498269",
     "status": "completed"
    },
    "tags": []
   },
   "outputs": [],
   "source": [
    "#cp_groups_df"
   ]
  },
  {
   "cell_type": "code",
   "execution_count": 55,
   "id": "90032e27-66df-4540-9169-4e89cfbaa758",
   "metadata": {
    "execution": {
     "iopub.execute_input": "2025-08-05T16:06:00.539993Z",
     "iopub.status.busy": "2025-08-05T16:06:00.539648Z",
     "iopub.status.idle": "2025-08-05T16:06:00.552768Z",
     "shell.execute_reply": "2025-08-05T16:06:00.551992Z"
    },
    "papermill": {
     "duration": 0.027061,
     "end_time": "2025-08-05T16:06:00.554458",
     "exception": false,
     "start_time": "2025-08-05T16:06:00.527397",
     "status": "completed"
    },
    "tags": []
   },
   "outputs": [],
   "source": [
    "subgroups = ['frau1','nongerman','nongerman_male','nongerman_female']\n",
    "\n",
    "# Conditional coverage for subgroup==1\n",
    "cond_coverage = {\n",
    "    g: cp_groups_df.loc[cp_groups_df[g]==1, 'covered'].mean()\n",
    "    for g in subgroups\n",
    "}"
   ]
  },
  {
   "cell_type": "code",
   "execution_count": 56,
   "id": "1e348fb1-b9c3-45bc-ba23-f016827a7e0d",
   "metadata": {
    "execution": {
     "iopub.execute_input": "2025-08-05T16:06:00.604056Z",
     "iopub.status.busy": "2025-08-05T16:06:00.603543Z",
     "iopub.status.idle": "2025-08-05T16:06:00.611138Z",
     "shell.execute_reply": "2025-08-05T16:06:00.610049Z"
    },
    "papermill": {
     "duration": 0.035198,
     "end_time": "2025-08-05T16:06:00.612988",
     "exception": false,
     "start_time": "2025-08-05T16:06:00.577790",
     "status": "completed"
    },
    "tags": []
   },
   "outputs": [
    {
     "data": {
      "text/plain": [
       "{'frau1': 0.9071572988273352,\n",
       " 'nongerman': 0.9072587436142143,\n",
       " 'nongerman_male': 0.9252454291632892,\n",
       " 'nongerman_female': 0.8774962742175857}"
      ]
     },
     "execution_count": 56,
     "metadata": {},
     "output_type": "execute_result"
    }
   ],
   "source": [
    "cond_coverage"
   ]
  },
  {
   "cell_type": "code",
   "execution_count": 57,
   "id": "f5093324-c3dd-4d63-bc4c-8d945e5c8bbb",
   "metadata": {
    "execution": {
     "iopub.execute_input": "2025-08-05T16:06:00.660613Z",
     "iopub.status.busy": "2025-08-05T16:06:00.659708Z",
     "iopub.status.idle": "2025-08-05T16:06:00.667573Z",
     "shell.execute_reply": "2025-08-05T16:06:00.666597Z"
    },
    "papermill": {
     "duration": 0.032961,
     "end_time": "2025-08-05T16:06:00.669343",
     "exception": false,
     "start_time": "2025-08-05T16:06:00.636382",
     "status": "completed"
    },
    "tags": []
   },
   "outputs": [],
   "source": [
    "for subgroup, cov in cond_coverage.items():\n",
    "    cp_metrics_df[f\"cov_{subgroup}\"] = cov"
   ]
  },
  {
   "cell_type": "code",
   "execution_count": 58,
   "id": "6e872e10-dbe5-49e8-b554-5030c98ff75d",
   "metadata": {
    "execution": {
     "iopub.execute_input": "2025-08-05T16:06:00.717461Z",
     "iopub.status.busy": "2025-08-05T16:06:00.716525Z",
     "iopub.status.idle": "2025-08-05T16:06:00.736919Z",
     "shell.execute_reply": "2025-08-05T16:06:00.736045Z"
    },
    "papermill": {
     "duration": 0.046332,
     "end_time": "2025-08-05T16:06:00.738318",
     "exception": false,
     "start_time": "2025-08-05T16:06:00.691986",
     "status": "completed"
    },
    "tags": []
   },
   "outputs": [
    {
     "data": {
      "text/html": [
       "<div>\n",
       "<style scoped>\n",
       "    .dataframe tbody tr th:only-of-type {\n",
       "        vertical-align: middle;\n",
       "    }\n",
       "\n",
       "    .dataframe tbody tr th {\n",
       "        vertical-align: top;\n",
       "    }\n",
       "\n",
       "    .dataframe thead th {\n",
       "        text-align: right;\n",
       "    }\n",
       "</style>\n",
       "<table border=\"1\" class=\"dataframe\">\n",
       "  <thead>\n",
       "    <tr style=\"text-align: right;\">\n",
       "      <th></th>\n",
       "      <th>universe_id</th>\n",
       "      <th>universe_training_year</th>\n",
       "      <th>universe_training_size</th>\n",
       "      <th>universe_scale</th>\n",
       "      <th>universe_model</th>\n",
       "      <th>universe_exclude_features</th>\n",
       "      <th>universe_exclude_subgroups</th>\n",
       "      <th>q_hat</th>\n",
       "      <th>coverage</th>\n",
       "      <th>avg_size</th>\n",
       "      <th>cov_frau1</th>\n",
       "      <th>cov_nongerman</th>\n",
       "      <th>cov_nongerman_male</th>\n",
       "      <th>cov_nongerman_female</th>\n",
       "    </tr>\n",
       "  </thead>\n",
       "  <tbody>\n",
       "    <tr>\n",
       "      <th>0</th>\n",
       "      <td>de1c4049fb979611d84cc5e4ec10a00e</td>\n",
       "      <td>2014</td>\n",
       "      <td>1k</td>\n",
       "      <td>scale</td>\n",
       "      <td>gbm</td>\n",
       "      <td>none</td>\n",
       "      <td>keep-all</td>\n",
       "      <td>0.741834</td>\n",
       "      <td>0.910244</td>\n",
       "      <td>1.156493</td>\n",
       "      <td>0.907157</td>\n",
       "      <td>0.907259</td>\n",
       "      <td>0.925245</td>\n",
       "      <td>0.877496</td>\n",
       "    </tr>\n",
       "  </tbody>\n",
       "</table>\n",
       "</div>"
      ],
      "text/plain": [
       "                        universe_id universe_training_year  \\\n",
       "0  de1c4049fb979611d84cc5e4ec10a00e                   2014   \n",
       "\n",
       "  universe_training_size universe_scale universe_model  \\\n",
       "0                     1k          scale            gbm   \n",
       "\n",
       "  universe_exclude_features universe_exclude_subgroups     q_hat  coverage  \\\n",
       "0                      none                   keep-all  0.741834  0.910244   \n",
       "\n",
       "   avg_size  cov_frau1  cov_nongerman  cov_nongerman_male  \\\n",
       "0  1.156493   0.907157       0.907259            0.925245   \n",
       "\n",
       "   cov_nongerman_female  \n",
       "0              0.877496  "
      ]
     },
     "execution_count": 58,
     "metadata": {},
     "output_type": "execute_result"
    }
   ],
   "source": [
    "cp_metrics_df"
   ]
  },
  {
   "cell_type": "markdown",
   "id": "33774451",
   "metadata": {
    "papermill": {
     "duration": 0.011268,
     "end_time": "2025-08-05T16:06:00.762927",
     "exception": false,
     "start_time": "2025-08-05T16:06:00.751659",
     "status": "completed"
    },
    "tags": []
   },
   "source": [
    "# (Fairness) Metrics"
   ]
  },
  {
   "cell_type": "code",
   "execution_count": 59,
   "id": "debc5d62",
   "metadata": {
    "execution": {
     "iopub.execute_input": "2025-08-05T16:06:00.786895Z",
     "iopub.status.busy": "2025-08-05T16:06:00.786350Z",
     "iopub.status.idle": "2025-08-05T16:06:00.800796Z",
     "shell.execute_reply": "2025-08-05T16:06:00.800142Z"
    },
    "papermill": {
     "duration": 0.027788,
     "end_time": "2025-08-05T16:06:00.802124",
     "exception": false,
     "start_time": "2025-08-05T16:06:00.774336",
     "status": "completed"
    },
    "tags": []
   },
   "outputs": [],
   "source": [
    "# do I need to include maxdeutsch1.missing?\n",
    "\n",
    "import numpy as np\n",
    "\n",
    "colname_to_bin = \"maxdeutsch1\"\n",
    "majority_value = org_train[colname_to_bin].mode()[0]\n",
    "\n",
    "org_test[\"majmin\"] = np.where(org_test[colname_to_bin] == majority_value, \"majority\", \"minority\")"
   ]
  },
  {
   "cell_type": "code",
   "execution_count": 60,
   "id": "06a50de5",
   "metadata": {
    "execution": {
     "iopub.execute_input": "2025-08-05T16:06:00.826253Z",
     "iopub.status.busy": "2025-08-05T16:06:00.825721Z",
     "iopub.status.idle": "2025-08-05T16:06:02.919489Z",
     "shell.execute_reply": "2025-08-05T16:06:02.918504Z"
    },
    "papermill": {
     "duration": 2.107744,
     "end_time": "2025-08-05T16:06:02.921461",
     "exception": false,
     "start_time": "2025-08-05T16:06:00.813717",
     "status": "completed"
    },
    "tags": []
   },
   "outputs": [],
   "source": [
    "example_universe = universe.copy()\n",
    "example_universe[\"cutoff\"] = example_universe[\"cutoff\"][0]\n",
    "example_universe[\"eval_fairness_grouping\"] = example_universe[\"eval_fairness_grouping\"][0]\n",
    "fairness_dict, metric_frame = universe_analysis.compute_metrics(\n",
    "    example_universe,\n",
    "    y_pred_prob=probs_test,\n",
    "    y_test=y_true,\n",
    "    org_test=org_test,\n",
    ")"
   ]
  },
  {
   "cell_type": "markdown",
   "id": "f95d4e02",
   "metadata": {
    "papermill": {
     "duration": 0.022701,
     "end_time": "2025-08-05T16:06:02.970464",
     "exception": false,
     "start_time": "2025-08-05T16:06:02.947763",
     "status": "completed"
    },
    "tags": []
   },
   "source": [
    "# Overall"
   ]
  },
  {
   "cell_type": "markdown",
   "id": "bdee4871",
   "metadata": {
    "papermill": {
     "duration": 0.023328,
     "end_time": "2025-08-05T16:06:03.018032",
     "exception": false,
     "start_time": "2025-08-05T16:06:02.994704",
     "status": "completed"
    },
    "tags": []
   },
   "source": [
    "Fairness\n",
    "Main fairness target: Equalized Odds. Seems to be a better fit than equal opportunity, since we're not only interested in Y = 1. Seems to be a better fit than demographic parity, since we also care about accuracy, not just equal distribution of preds.\n",
    "\n",
    "Pick column for computation of fairness metrics\n",
    "\n",
    "Performance\n",
    "Overall performance measures, most interesting in relation to the measures split by group below"
   ]
  },
  {
   "cell_type": "code",
   "execution_count": 61,
   "id": "c4e067c6",
   "metadata": {
    "execution": {
     "iopub.execute_input": "2025-08-05T16:06:03.068169Z",
     "iopub.status.busy": "2025-08-05T16:06:03.067653Z",
     "iopub.status.idle": "2025-08-05T16:06:03.076703Z",
     "shell.execute_reply": "2025-08-05T16:06:03.075561Z"
    },
    "papermill": {
     "duration": 0.03665,
     "end_time": "2025-08-05T16:06:03.078493",
     "exception": false,
     "start_time": "2025-08-05T16:06:03.041843",
     "status": "completed"
    },
    "tags": []
   },
   "outputs": [
    {
     "data": {
      "text/plain": [
       "accuracy                   0.221792\n",
       "balanced accuracy          0.542854\n",
       "f1                         0.243195\n",
       "precision                  0.138929\n",
       "false positive rate        0.889005\n",
       "false negative rate        0.025287\n",
       "selection rate             0.900000\n",
       "count                  89710.000000\n",
       "dtype: float64"
      ]
     },
     "execution_count": 61,
     "metadata": {},
     "output_type": "execute_result"
    }
   ],
   "source": [
    "metric_frame.overall"
   ]
  },
  {
   "cell_type": "markdown",
   "id": "e968fe9d",
   "metadata": {
    "papermill": {
     "duration": 0.029319,
     "end_time": "2025-08-05T16:06:03.134079",
     "exception": false,
     "start_time": "2025-08-05T16:06:03.104760",
     "status": "completed"
    },
    "tags": []
   },
   "source": [
    "By Group"
   ]
  },
  {
   "cell_type": "code",
   "execution_count": 62,
   "id": "ec325bce",
   "metadata": {
    "execution": {
     "iopub.execute_input": "2025-08-05T16:06:03.194429Z",
     "iopub.status.busy": "2025-08-05T16:06:03.193763Z",
     "iopub.status.idle": "2025-08-05T16:06:03.213717Z",
     "shell.execute_reply": "2025-08-05T16:06:03.212411Z"
    },
    "papermill": {
     "duration": 0.051902,
     "end_time": "2025-08-05T16:06:03.215454",
     "exception": false,
     "start_time": "2025-08-05T16:06:03.163552",
     "status": "completed"
    },
    "tags": []
   },
   "outputs": [
    {
     "data": {
      "text/html": [
       "<div>\n",
       "<style scoped>\n",
       "    .dataframe tbody tr th:only-of-type {\n",
       "        vertical-align: middle;\n",
       "    }\n",
       "\n",
       "    .dataframe tbody tr th {\n",
       "        vertical-align: top;\n",
       "    }\n",
       "\n",
       "    .dataframe thead th {\n",
       "        text-align: right;\n",
       "    }\n",
       "</style>\n",
       "<table border=\"1\" class=\"dataframe\">\n",
       "  <thead>\n",
       "    <tr style=\"text-align: right;\">\n",
       "      <th></th>\n",
       "      <th>accuracy</th>\n",
       "      <th>balanced accuracy</th>\n",
       "      <th>f1</th>\n",
       "      <th>precision</th>\n",
       "      <th>false positive rate</th>\n",
       "      <th>false negative rate</th>\n",
       "      <th>selection rate</th>\n",
       "      <th>count</th>\n",
       "    </tr>\n",
       "    <tr>\n",
       "      <th>majmin</th>\n",
       "      <th></th>\n",
       "      <th></th>\n",
       "      <th></th>\n",
       "      <th></th>\n",
       "      <th></th>\n",
       "      <th></th>\n",
       "      <th></th>\n",
       "      <th></th>\n",
       "    </tr>\n",
       "  </thead>\n",
       "  <tbody>\n",
       "    <tr>\n",
       "      <th>majority</th>\n",
       "      <td>0.243386</td>\n",
       "      <td>0.551479</td>\n",
       "      <td>0.253115</td>\n",
       "      <td>0.145542</td>\n",
       "      <td>0.867283</td>\n",
       "      <td>0.029759</td>\n",
       "      <td>0.880888</td>\n",
       "      <td>69170.0</td>\n",
       "    </tr>\n",
       "    <tr>\n",
       "      <th>minority</th>\n",
       "      <td>0.149075</td>\n",
       "      <td>0.515606</td>\n",
       "      <td>0.211851</td>\n",
       "      <td>0.118588</td>\n",
       "      <td>0.960764</td>\n",
       "      <td>0.008024</td>\n",
       "      <td>0.964362</td>\n",
       "      <td>20540.0</td>\n",
       "    </tr>\n",
       "  </tbody>\n",
       "</table>\n",
       "</div>"
      ],
      "text/plain": [
       "          accuracy  balanced accuracy        f1  precision  \\\n",
       "majmin                                                       \n",
       "majority  0.243386           0.551479  0.253115   0.145542   \n",
       "minority  0.149075           0.515606  0.211851   0.118588   \n",
       "\n",
       "          false positive rate  false negative rate  selection rate    count  \n",
       "majmin                                                                       \n",
       "majority             0.867283             0.029759        0.880888  69170.0  \n",
       "minority             0.960764             0.008024        0.964362  20540.0  "
      ]
     },
     "execution_count": 62,
     "metadata": {},
     "output_type": "execute_result"
    }
   ],
   "source": [
    "metric_frame.by_group"
   ]
  },
  {
   "cell_type": "code",
   "execution_count": 63,
   "id": "a9ddbe63",
   "metadata": {
    "execution": {
     "iopub.execute_input": "2025-08-05T16:06:03.263961Z",
     "iopub.status.busy": "2025-08-05T16:06:03.263068Z",
     "iopub.status.idle": "2025-08-05T16:06:05.662501Z",
     "shell.execute_reply": "2025-08-05T16:06:05.661368Z"
    },
    "papermill": {
     "duration": 2.426624,
     "end_time": "2025-08-05T16:06:05.664550",
     "exception": false,
     "start_time": "2025-08-05T16:06:03.237926",
     "status": "completed"
    },
    "tags": []
   },
   "outputs": [
    {
     "data": {
      "text/plain": [
       "array([[<Axes: title={'center': 'accuracy'}, xlabel='majmin'>,\n",
       "        <Axes: title={'center': 'balanced accuracy'}, xlabel='majmin'>,\n",
       "        <Axes: title={'center': 'f1'}, xlabel='majmin'>],\n",
       "       [<Axes: title={'center': 'precision'}, xlabel='majmin'>,\n",
       "        <Axes: title={'center': 'false positive rate'}, xlabel='majmin'>,\n",
       "        <Axes: title={'center': 'false negative rate'}, xlabel='majmin'>],\n",
       "       [<Axes: title={'center': 'selection rate'}, xlabel='majmin'>,\n",
       "        <Axes: title={'center': 'count'}, xlabel='majmin'>,\n",
       "        <Axes: xlabel='majmin'>]], dtype=object)"
      ]
     },
     "execution_count": 63,
     "metadata": {},
     "output_type": "execute_result"
    },
    {
     "data": {
      "image/png": "[encoded data removed]",
      "text/plain": [
       "<Figure size 1200x800 with 9 Axes>"
      ]
     },
     "metadata": {},
     "output_type": "display_data"
    }
   ],
   "source": [
    "# In a graphic\n",
    "metric_frame.by_group.plot.bar(\n",
    "    subplots=True,\n",
    "    layout=[3, 3],\n",
    "    legend=False,\n",
    "    figsize=[12, 8],\n",
    "    title=\"Show all metrics\",\n",
    ")"
   ]
  },
  {
   "cell_type": "markdown",
   "id": "f57a0bac",
   "metadata": {
    "papermill": {
     "duration": 0.026705,
     "end_time": "2025-08-05T16:06:05.725262",
     "exception": false,
     "start_time": "2025-08-05T16:06:05.698557",
     "status": "completed"
    },
    "tags": []
   },
   "source": [
    "# Final Output"
   ]
  },
  {
   "cell_type": "code",
   "execution_count": 64,
   "id": "96d280a3",
   "metadata": {
    "execution": {
     "iopub.execute_input": "2025-08-05T16:06:05.770771Z",
     "iopub.status.busy": "2025-08-05T16:06:05.770129Z",
     "iopub.status.idle": "2025-08-05T16:06:05.777341Z",
     "shell.execute_reply": "2025-08-05T16:06:05.776405Z"
    },
    "papermill": {
     "duration": 0.029804,
     "end_time": "2025-08-05T16:06:05.778880",
     "exception": false,
     "start_time": "2025-08-05T16:06:05.749076",
     "status": "completed"
    },
    "tags": []
   },
   "outputs": [
    {
     "data": {
      "text/plain": [
       "4"
      ]
     },
     "execution_count": 64,
     "metadata": {},
     "output_type": "execute_result"
    }
   ],
   "source": [
    "sub_universes = universe_analysis.generate_sub_universes()\n",
    "len(sub_universes)"
   ]
  },
  {
   "cell_type": "code",
   "execution_count": 65,
   "id": "92adf7ba",
   "metadata": {
    "execution": {
     "iopub.execute_input": "2025-08-05T16:06:05.811646Z",
     "iopub.status.busy": "2025-08-05T16:06:05.810786Z",
     "iopub.status.idle": "2025-08-05T16:06:05.819938Z",
     "shell.execute_reply": "2025-08-05T16:06:05.818808Z"
    },
    "papermill": {
     "duration": 0.029559,
     "end_time": "2025-08-05T16:06:05.822411",
     "exception": false,
     "start_time": "2025-08-05T16:06:05.792852",
     "status": "completed"
    },
    "tags": []
   },
   "outputs": [],
   "source": [
    "def filter_sub_universe_data(sub_universe, org_test):\n",
    "    # Keep all rows — no filtering\n",
    "    keep_rows_mask = np.ones(org_test.shape[0], dtype=bool)\n",
    "\n",
    "    print(f\"[INFO] Keeping all rows: {keep_rows_mask.sum()} rows retained.\")\n",
    "    return keep_rows_mask"
   ]
  },
  {
   "cell_type": "code",
   "execution_count": 66,
   "id": "4a759155",
   "metadata": {
    "execution": {
     "iopub.execute_input": "2025-08-05T16:06:05.875415Z",
     "iopub.status.busy": "2025-08-05T16:06:05.874957Z",
     "iopub.status.idle": "2025-08-05T16:06:12.299186Z",
     "shell.execute_reply": "2025-08-05T16:06:12.298459Z"
    },
    "papermill": {
     "duration": 6.442731,
     "end_time": "2025-08-05T16:06:12.300488",
     "exception": false,
     "start_time": "2025-08-05T16:06:05.857757",
     "status": "completed"
    },
    "tags": []
   },
   "outputs": [
    {
     "name": "stdout",
     "output_type": "stream",
     "text": [
      "Stopping execution_time clock.\n",
      "[INFO] Keeping all rows: 89710 rows retained.\n"
     ]
    },
    {
     "name": "stdout",
     "output_type": "stream",
     "text": [
      "[INFO] Keeping all rows: 89710 rows retained.\n"
     ]
    },
    {
     "name": "stdout",
     "output_type": "stream",
     "text": [
      "[INFO] Keeping all rows: 89710 rows retained.\n"
     ]
    },
    {
     "name": "stdout",
     "output_type": "stream",
     "text": [
      "[INFO] Keeping all rows: 89710 rows retained.\n"
     ]
    },
    {
     "data": {
      "text/html": [
       "<div>\n",
       "<style scoped>\n",
       "    .dataframe tbody tr th:only-of-type {\n",
       "        vertical-align: middle;\n",
       "    }\n",
       "\n",
       "    .dataframe tbody tr th {\n",
       "        vertical-align: top;\n",
       "    }\n",
       "\n",
       "    .dataframe thead th {\n",
       "        text-align: right;\n",
       "    }\n",
       "</style>\n",
       "<table border=\"1\" class=\"dataframe\">\n",
       "  <thead>\n",
       "    <tr style=\"text-align: right;\">\n",
       "      <th></th>\n",
       "      <th>run_no</th>\n",
       "      <th>universe_id</th>\n",
       "      <th>universe_settings</th>\n",
       "      <th>execution_time</th>\n",
       "      <th>test_size_n</th>\n",
       "      <th>test_size_frac</th>\n",
       "      <th>fair_main_equalized_odds_difference</th>\n",
       "      <th>fair_main_equalized_odds_ratio</th>\n",
       "      <th>fair_main_demographic_parity_difference</th>\n",
       "      <th>fair_main_demographic_parity_ratio</th>\n",
       "      <th>...</th>\n",
       "      <th>perf_grp_precision_0</th>\n",
       "      <th>perf_grp_precision_1</th>\n",
       "      <th>perf_grp_false positive rate_0</th>\n",
       "      <th>perf_grp_false positive rate_1</th>\n",
       "      <th>perf_grp_false negative rate_0</th>\n",
       "      <th>perf_grp_false negative rate_1</th>\n",
       "      <th>perf_grp_selection rate_0</th>\n",
       "      <th>perf_grp_selection rate_1</th>\n",
       "      <th>perf_grp_count_0</th>\n",
       "      <th>perf_grp_count_1</th>\n",
       "    </tr>\n",
       "  </thead>\n",
       "  <tbody>\n",
       "    <tr>\n",
       "      <th>0</th>\n",
       "      <td>15</td>\n",
       "      <td>de1c4049fb979611d84cc5e4ec10a00e</td>\n",
       "      <td>{\"cutoff\": \"quantile_0.1\", \"eval_fairness_grou...</td>\n",
       "      <td>26.602742</td>\n",
       "      <td>89710</td>\n",
       "      <td>1.0</td>\n",
       "      <td>0.093481</td>\n",
       "      <td>0.902702</td>\n",
       "      <td>0.083475</td>\n",
       "      <td>0.913441</td>\n",
       "      <td>...</td>\n",
       "      <td>NaN</td>\n",
       "      <td>NaN</td>\n",
       "      <td>NaN</td>\n",
       "      <td>NaN</td>\n",
       "      <td>NaN</td>\n",
       "      <td>NaN</td>\n",
       "      <td>NaN</td>\n",
       "      <td>NaN</td>\n",
       "      <td>NaN</td>\n",
       "      <td>NaN</td>\n",
       "    </tr>\n",
       "    <tr>\n",
       "      <th>0</th>\n",
       "      <td>15</td>\n",
       "      <td>de1c4049fb979611d84cc5e4ec10a00e</td>\n",
       "      <td>{\"cutoff\": \"quantile_0.1\", \"eval_fairness_grou...</td>\n",
       "      <td>26.602742</td>\n",
       "      <td>89710</td>\n",
       "      <td>1.0</td>\n",
       "      <td>0.093481</td>\n",
       "      <td>0.902702</td>\n",
       "      <td>0.083475</td>\n",
       "      <td>0.913441</td>\n",
       "      <td>...</td>\n",
       "      <td>0.118588</td>\n",
       "      <td>0.145542</td>\n",
       "      <td>0.960764</td>\n",
       "      <td>0.867283</td>\n",
       "      <td>0.008024</td>\n",
       "      <td>0.029759</td>\n",
       "      <td>0.964362</td>\n",
       "      <td>0.880888</td>\n",
       "      <td>20540.0</td>\n",
       "      <td>69170.0</td>\n",
       "    </tr>\n",
       "    <tr>\n",
       "      <th>0</th>\n",
       "      <td>15</td>\n",
       "      <td>de1c4049fb979611d84cc5e4ec10a00e</td>\n",
       "      <td>{\"cutoff\": \"quantile_0.25\", \"eval_fairness_gro...</td>\n",
       "      <td>26.602742</td>\n",
       "      <td>89710</td>\n",
       "      <td>1.0</td>\n",
       "      <td>0.114462</td>\n",
       "      <td>0.859250</td>\n",
       "      <td>0.099141</td>\n",
       "      <td>0.880038</td>\n",
       "      <td>...</td>\n",
       "      <td>NaN</td>\n",
       "      <td>NaN</td>\n",
       "      <td>NaN</td>\n",
       "      <td>NaN</td>\n",
       "      <td>NaN</td>\n",
       "      <td>NaN</td>\n",
       "      <td>NaN</td>\n",
       "      <td>NaN</td>\n",
       "      <td>NaN</td>\n",
       "      <td>NaN</td>\n",
       "    </tr>\n",
       "    <tr>\n",
       "      <th>0</th>\n",
       "      <td>15</td>\n",
       "      <td>de1c4049fb979611d84cc5e4ec10a00e</td>\n",
       "      <td>{\"cutoff\": \"quantile_0.25\", \"eval_fairness_gro...</td>\n",
       "      <td>26.602742</td>\n",
       "      <td>89710</td>\n",
       "      <td>1.0</td>\n",
       "      <td>0.114462</td>\n",
       "      <td>0.859250</td>\n",
       "      <td>0.099141</td>\n",
       "      <td>0.880038</td>\n",
       "      <td>...</td>\n",
       "      <td>0.129426</td>\n",
       "      <td>0.166180</td>\n",
       "      <td>0.813229</td>\n",
       "      <td>0.698767</td>\n",
       "      <td>0.072213</td>\n",
       "      <td>0.085339</td>\n",
       "      <td>0.826436</td>\n",
       "      <td>0.727295</td>\n",
       "      <td>20540.0</td>\n",
       "      <td>69170.0</td>\n",
       "    </tr>\n",
       "  </tbody>\n",
       "</table>\n",
       "<p>4 rows × 50 columns</p>\n",
       "</div>"
      ],
      "text/plain": [
       "  run_no                       universe_id  \\\n",
       "0     15  de1c4049fb979611d84cc5e4ec10a00e   \n",
       "0     15  de1c4049fb979611d84cc5e4ec10a00e   \n",
       "0     15  de1c4049fb979611d84cc5e4ec10a00e   \n",
       "0     15  de1c4049fb979611d84cc5e4ec10a00e   \n",
       "\n",
       "                                   universe_settings  execution_time  \\\n",
       "0  {\"cutoff\": \"quantile_0.1\", \"eval_fairness_grou...       26.602742   \n",
       "0  {\"cutoff\": \"quantile_0.1\", \"eval_fairness_grou...       26.602742   \n",
       "0  {\"cutoff\": \"quantile_0.25\", \"eval_fairness_gro...       26.602742   \n",
       "0  {\"cutoff\": \"quantile_0.25\", \"eval_fairness_gro...       26.602742   \n",
       "\n",
       "   test_size_n  test_size_frac  fair_main_equalized_odds_difference  \\\n",
       "0        89710             1.0                             0.093481   \n",
       "0        89710             1.0                             0.093481   \n",
       "0        89710             1.0                             0.114462   \n",
       "0        89710             1.0                             0.114462   \n",
       "\n",
       "   fair_main_equalized_odds_ratio  fair_main_demographic_parity_difference  \\\n",
       "0                        0.902702                                 0.083475   \n",
       "0                        0.902702                                 0.083475   \n",
       "0                        0.859250                                 0.099141   \n",
       "0                        0.859250                                 0.099141   \n",
       "\n",
       "   fair_main_demographic_parity_ratio  ...  perf_grp_precision_0  \\\n",
       "0                            0.913441  ...                   NaN   \n",
       "0                            0.913441  ...              0.118588   \n",
       "0                            0.880038  ...                   NaN   \n",
       "0                            0.880038  ...              0.129426   \n",
       "\n",
       "   perf_grp_precision_1  perf_grp_false positive rate_0  \\\n",
       "0                   NaN                             NaN   \n",
       "0              0.145542                        0.960764   \n",
       "0                   NaN                             NaN   \n",
       "0              0.166180                        0.813229   \n",
       "\n",
       "   perf_grp_false positive rate_1  perf_grp_false negative rate_0  \\\n",
       "0                             NaN                             NaN   \n",
       "0                        0.867283                        0.008024   \n",
       "0                             NaN                             NaN   \n",
       "0                        0.698767                        0.072213   \n",
       "\n",
       "   perf_grp_false negative rate_1  perf_grp_selection rate_0  \\\n",
       "0                             NaN                        NaN   \n",
       "0                        0.029759                   0.964362   \n",
       "0                             NaN                        NaN   \n",
       "0                        0.085339                   0.826436   \n",
       "\n",
       "   perf_grp_selection rate_1  perf_grp_count_0  perf_grp_count_1  \n",
       "0                        NaN               NaN               NaN  \n",
       "0                   0.880888           20540.0           69170.0  \n",
       "0                        NaN               NaN               NaN  \n",
       "0                   0.727295           20540.0           69170.0  \n",
       "\n",
       "[4 rows x 50 columns]"
      ]
     },
     "execution_count": 66,
     "metadata": {},
     "output_type": "execute_result"
    }
   ],
   "source": [
    "final_output = universe_analysis.generate_final_output(\n",
    "    y_pred_prob=probs_test,\n",
    "    y_test=y_true,\n",
    "    org_test=org_test,\n",
    "    filter_data=filter_sub_universe_data,\n",
    "    cp_metrics_df=cp_metrics_df,\n",
    "    save=True,\n",
    ")\n",
    "final_output"
   ]
  }
 ],
 "metadata": {
  "celltoolbar": "Tags",
  "kernelspec": {
   "display_name": "Python (CMA Fairness)",
   "language": "python",
   "name": "cma_fair_env"
  },
  "language_info": {
   "codemirror_mode": {
    "name": "ipython",
    "version": 3
   },
   "file_extension": ".py",
   "mimetype": "text/x-python",
   "name": "python",
   "nbconvert_exporter": "python",
   "pygments_lexer": "ipython3",
   "version": "3.10.12"
  },
  "papermill": {
   "default_parameters": {},
   "duration": 36.860017,
   "end_time": "2025-08-05T16:06:12.833686",
   "environment_variables": {},
   "exception": null,
   "input_path": "universe_analysis.ipynb",
   "output_path": "output/runs/15/notebooks/m_15-de1c4049fb979611d84cc5e4ec10a00e.ipynb",
   "parameters": {
    "output_dir": "output",
    "run_no": "15",
    "seed": "2023",
    "universe": "{\"cutoff\": [\"quantile_0.1\", \"quantile_0.25\"], \"eval_fairness_grouping\": [\"majority-minority\", \"nationality-all\"], \"exclude_features\": \"none\", \"exclude_subgroups\": \"keep-all\", \"model\": \"gbm\", \"scale\": \"scale\", \"training_size\": \"1k\", \"training_year\": \"2014\"}",
    "universe_id": "de1c4049fb979611d84cc5e4ec10a00e"
   },
   "start_time": "2025-08-05T16:05:35.973669",
   "version": "2.6.0"
  }
 },
 "nbformat": 4,
 "nbformat_minor": 5
}