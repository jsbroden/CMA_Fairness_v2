{
 "cells": [
  {
   "cell_type": "code",
   "execution_count": 1,
   "id": "f159f837-637b-42ba-96b5-ec9a68c44524",
   "metadata": {
    "execution": {
     "iopub.execute_input": "2025-08-05T15:42:15.500759Z",
     "iopub.status.busy": "2025-08-05T15:42:15.500236Z",
     "iopub.status.idle": "2025-08-05T15:42:15.515247Z",
     "shell.execute_reply": "2025-08-05T15:42:15.514074Z"
    },
    "papermill": {
     "duration": 0.039361,
     "end_time": "2025-08-05T15:42:15.517186",
     "exception": false,
     "start_time": "2025-08-05T15:42:15.477825",
     "status": "completed"
    },
    "tags": []
   },
   "outputs": [
    {
     "name": "stdout",
     "output_type": "stream",
     "text": [
      "/dss/dsshome1/0C/ra93lal2/cma/CMA_Fairness_v2\n"
     ]
    },
    {
     "name": "stderr",
     "output_type": "stream",
     "text": [
      "/dss/dsshome1/0C/ra93lal2/.local/share/virtualenvs/CMA_Fairness_v2-3j10GkSs/lib/python3.10/site-packages/IPython/core/magics/osm.py:393: UserWarning: This is now an optional IPython functionality, using bookmarks requires you to install the `pickleshare` library.\n",
      "  bkms = self.shell.db.get('bookmarks', {})\n",
      "/dss/dsshome1/0C/ra93lal2/.local/share/virtualenvs/CMA_Fairness_v2-3j10GkSs/lib/python3.10/site-packages/IPython/core/magics/osm.py:417: UserWarning: This is now an optional IPython functionality, setting dhist requires you to install the `pickleshare` library.\n",
      "  self.shell.db['dhist'] = compress_dhist(dhist)[-100:]\n"
     ]
    }
   ],
   "source": [
    "%cd ~/cma/CMA_Fairness_v2"
   ]
  },
  {
   "cell_type": "markdown",
   "id": "de2603b9",
   "metadata": {
    "papermill": {
     "duration": 0.019828,
     "end_time": "2025-08-05T15:42:15.557301",
     "exception": false,
     "start_time": "2025-08-05T15:42:15.537473",
     "status": "completed"
    },
    "tags": []
   },
   "source": [
    "The following cell holds the definition of our parameters, these values can be overriden by rendering the with e.g. the following command:\n",
    "\n",
    "papermill -p alpha 0.2 -p ratio 0.3 universe_analysis.ipynb output/test_run.ipynb"
   ]
  },
  {
   "cell_type": "code",
   "execution_count": 2,
   "id": "a80968a0-40bb-4fa9-85ef-2d5eefb01975",
   "metadata": {
    "execution": {
     "iopub.execute_input": "2025-08-05T15:42:15.599439Z",
     "iopub.status.busy": "2025-08-05T15:42:15.598229Z",
     "iopub.status.idle": "2025-08-05T15:42:15.605081Z",
     "shell.execute_reply": "2025-08-05T15:42:15.603816Z"
    },
    "papermill": {
     "duration": 0.030227,
     "end_time": "2025-08-05T15:42:15.607489",
     "exception": false,
     "start_time": "2025-08-05T15:42:15.577262",
     "status": "completed"
    },
    "tags": []
   },
   "outputs": [
    {
     "name": "stdout",
     "output_type": "stream",
     "text": [
      "Current working directory: /dss/dsshome1/0C/ra93lal2/cma/CMA_Fairness_v2\n"
     ]
    }
   ],
   "source": [
    "import os\n",
    "print(\"Current working directory:\", os.getcwd())"
   ]
  },
  {
   "cell_type": "code",
   "execution_count": 3,
   "id": "2dce4c03",
   "metadata": {
    "execution": {
     "iopub.execute_input": "2025-08-05T15:42:15.649959Z",
     "iopub.status.busy": "2025-08-05T15:42:15.646554Z",
     "iopub.status.idle": "2025-08-05T15:42:15.657275Z",
     "shell.execute_reply": "2025-08-05T15:42:15.656197Z"
    },
    "papermill": {
     "duration": 0.032226,
     "end_time": "2025-08-05T15:42:15.659205",
     "exception": false,
     "start_time": "2025-08-05T15:42:15.626979",
     "status": "completed"
    },
    "tags": [
     "parameters"
    ]
   },
   "outputs": [],
   "source": [
    "run_no = 0\n",
    "universe_id = \"test\"\n",
    "universe = {\n",
    "    \"training_size\": \"25k\", # \"25k\", \"5k\", \"1k\"\n",
    "    \"training_year\": \"2014\", # \"2014\", \"2012_14\", \"2010_14\"\n",
    "    \"scale\": \"scale\", # \"scale\", \"do-not-scale\",\n",
    "    \"model\": \"elasticnet\", # \"logreg\", \"penalized_logreg\", \"rf\", \"gbm\", \"elasticnet\"\n",
    "    \"cutoff\": [\"quantile_0.15\", \"quantile_0.30\"],\n",
    "    \"exclude_features\": \"age\", # \"none\", \"nationality\", \"sex\", \"nationality-sex\", \"age\"\n",
    "    \"exclude_subgroups\": \"keep-all\", # \"keep-all\", \"drop-non-german\"\n",
    "    \"eval_fairness_grouping\": [\"majority-minority\", \"nationality-all\"]\n",
    "}\n",
    "\n",
    "output_dir=\"./output\"\n",
    "seed=0"
   ]
  },
  {
   "cell_type": "code",
   "execution_count": 4,
   "id": "1a1e7db0",
   "metadata": {
    "execution": {
     "iopub.execute_input": "2025-08-05T15:42:15.698564Z",
     "iopub.status.busy": "2025-08-05T15:42:15.697887Z",
     "iopub.status.idle": "2025-08-05T15:42:15.704048Z",
     "shell.execute_reply": "2025-08-05T15:42:15.703020Z"
    },
    "papermill": {
     "duration": 0.028286,
     "end_time": "2025-08-05T15:42:15.706195",
     "exception": false,
     "start_time": "2025-08-05T15:42:15.677909",
     "status": "completed"
    },
    "tags": [
     "injected-parameters"
    ]
   },
   "outputs": [],
   "source": [
    "# Parameters\n",
    "universe_id = \"ed73904361d3049b6a37bc37458e977d\"\n",
    "run_no = \"15\"\n",
    "universe = \"{\\\"cutoff\\\": [\\\"quantile_0.1\\\", \\\"quantile_0.25\\\"], \\\"eval_fairness_grouping\\\": [\\\"majority-minority\\\", \\\"nationality-all\\\"], \\\"exclude_features\\\": \\\"nationality\\\", \\\"exclude_subgroups\\\": \\\"drop-non-german\\\", \\\"model\\\": \\\"penalized_logreg\\\", \\\"scale\\\": \\\"do-not-scale\\\", \\\"training_size\\\": \\\"5k\\\", \\\"training_year\\\": \\\"2012_14\\\"}\"\n",
    "output_dir = \"output\"\n",
    "seed = \"2023\"\n"
   ]
  },
  {
   "cell_type": "code",
   "execution_count": 5,
   "id": "1650acaf",
   "metadata": {
    "execution": {
     "iopub.execute_input": "2025-08-05T15:42:15.746962Z",
     "iopub.status.busy": "2025-08-05T15:42:15.746397Z",
     "iopub.status.idle": "2025-08-05T15:42:15.752309Z",
     "shell.execute_reply": "2025-08-05T15:42:15.751302Z"
    },
    "papermill": {
     "duration": 0.027941,
     "end_time": "2025-08-05T15:42:15.754357",
     "exception": false,
     "start_time": "2025-08-05T15:42:15.726416",
     "status": "completed"
    },
    "tags": []
   },
   "outputs": [],
   "source": [
    "import json\n",
    "if isinstance(universe, str):\n",
    "    universe = json.loads(universe)"
   ]
  },
  {
   "cell_type": "code",
   "execution_count": 6,
   "id": "16620c48",
   "metadata": {
    "execution": {
     "iopub.execute_input": "2025-08-05T15:42:15.796920Z",
     "iopub.status.busy": "2025-08-05T15:42:15.796435Z",
     "iopub.status.idle": "2025-08-05T15:42:15.845448Z",
     "shell.execute_reply": "2025-08-05T15:42:15.844431Z"
    },
    "papermill": {
     "duration": 0.074607,
     "end_time": "2025-08-05T15:42:15.847694",
     "exception": false,
     "start_time": "2025-08-05T15:42:15.773087",
     "status": "completed"
    },
    "tags": []
   },
   "outputs": [],
   "source": [
    "# Auto-reload the custom package\n",
    "%load_ext autoreload\n",
    "%autoreload 1\n",
    "%aimport fairness_multiverse"
   ]
  },
  {
   "cell_type": "code",
   "execution_count": 7,
   "id": "01c5c9f3",
   "metadata": {
    "execution": {
     "iopub.execute_input": "2025-08-05T15:42:15.892890Z",
     "iopub.status.busy": "2025-08-05T15:42:15.892193Z",
     "iopub.status.idle": "2025-08-05T15:42:20.711468Z",
     "shell.execute_reply": "2025-08-05T15:42:20.710382Z"
    },
    "papermill": {
     "duration": 4.844142,
     "end_time": "2025-08-05T15:42:20.713820",
     "exception": false,
     "start_time": "2025-08-05T15:42:15.869678",
     "status": "completed"
    },
    "tags": []
   },
   "outputs": [],
   "source": [
    "from fairness_multiverse.universe import UniverseAnalysis\n",
    "\n",
    "universe_analysis = UniverseAnalysis(\n",
    "    run_no = run_no,\n",
    "    universe_id = universe_id,\n",
    "    universe = universe,\n",
    "    output_dir=output_dir,\n",
    ")"
   ]
  },
  {
   "cell_type": "code",
   "execution_count": 8,
   "id": "106241f5",
   "metadata": {
    "execution": {
     "iopub.execute_input": "2025-08-05T15:42:20.758149Z",
     "iopub.status.busy": "2025-08-05T15:42:20.757179Z",
     "iopub.status.idle": "2025-08-05T15:42:20.764101Z",
     "shell.execute_reply": "2025-08-05T15:42:20.763026Z"
    },
    "papermill": {
     "duration": 0.031819,
     "end_time": "2025-08-05T15:42:20.766761",
     "exception": false,
     "start_time": "2025-08-05T15:42:20.734942",
     "status": "completed"
    },
    "tags": []
   },
   "outputs": [
    {
     "name": "stdout",
     "output_type": "stream",
     "text": [
      "Using Seed: 2023\n"
     ]
    }
   ],
   "source": [
    "import numpy as np\n",
    "parsed_seed = int(seed)\n",
    "np.random.seed(parsed_seed)\n",
    "print(f\"Using Seed: {parsed_seed}\")"
   ]
  },
  {
   "cell_type": "markdown",
   "id": "e0ebdc57",
   "metadata": {
    "papermill": {
     "duration": 0.01916,
     "end_time": "2025-08-05T15:42:20.808617",
     "exception": false,
     "start_time": "2025-08-05T15:42:20.789457",
     "status": "completed"
    },
    "tags": []
   },
   "source": [
    "# Loading Data"
   ]
  },
  {
   "cell_type": "code",
   "execution_count": 9,
   "id": "f0496b8a",
   "metadata": {
    "execution": {
     "iopub.execute_input": "2025-08-05T15:42:20.850374Z",
     "iopub.status.busy": "2025-08-05T15:42:20.849329Z",
     "iopub.status.idle": "2025-08-05T15:42:34.068389Z",
     "shell.execute_reply": "2025-08-05T15:42:34.067233Z"
    },
    "papermill": {
     "duration": 13.243213,
     "end_time": "2025-08-05T15:42:34.070195",
     "exception": false,
     "start_time": "2025-08-05T15:42:20.826982",
     "status": "completed"
    },
    "tags": []
   },
   "outputs": [
    {
     "name": "stdout",
     "output_type": "stream",
     "text": [
      "Loading SIAB data from cache: data/siab_cached.csv.gz\n"
     ]
    },
    {
     "name": "stdout",
     "output_type": "stream",
     "text": [
      "(643690, 164)\n"
     ]
    }
   ],
   "source": [
    "from pathlib import Path\n",
    "import pandas as pd\n",
    "\n",
    "# File paths\n",
    "raw_file = Path(\"data/raw/siab.csv\")\n",
    "cache_file = Path(\"data/siab_cached.csv.gz\")\n",
    "\n",
    "# Ensure cache directory exists\n",
    "cache_file.parent.mkdir(parents=True, exist_ok=True)\n",
    "\n",
    "# Load with simple caching\n",
    "if cache_file.exists():\n",
    "    print(f\"Loading SIAB data from cache: {cache_file}\")\n",
    "    siab = pd.read_csv(cache_file, compression='gzip')\n",
    "else:\n",
    "    print(f\"Cache not found. Reading raw SIAB data: {raw_file}\")\n",
    "    siab = pd.read_csv(raw_file)\n",
    "    siab.to_csv(cache_file, index=False, compression='gzip')\n",
    "    print(f\"Cached SIAB data to: {cache_file}\")\n",
    "\n",
    "print(siab.shape)"
   ]
  },
  {
   "cell_type": "code",
   "execution_count": 10,
   "id": "db0ca512-5f53-4dba-abdb-a2888bca41ba",
   "metadata": {
    "execution": {
     "iopub.execute_input": "2025-08-05T15:42:34.109947Z",
     "iopub.status.busy": "2025-08-05T15:42:34.109411Z",
     "iopub.status.idle": "2025-08-05T15:42:34.115056Z",
     "shell.execute_reply": "2025-08-05T15:42:34.114089Z"
    },
    "papermill": {
     "duration": 0.026424,
     "end_time": "2025-08-05T15:42:34.116922",
     "exception": false,
     "start_time": "2025-08-05T15:42:34.090498",
     "status": "completed"
    },
    "tags": []
   },
   "outputs": [],
   "source": [
    "#siab"
   ]
  },
  {
   "cell_type": "markdown",
   "id": "997051c5-15bd-4b69-9786-c3001a3ce484",
   "metadata": {
    "papermill": {
     "duration": 0.019845,
     "end_time": "2025-08-05T15:42:34.158185",
     "exception": false,
     "start_time": "2025-08-05T15:42:34.138340",
     "status": "completed"
    },
    "tags": []
   },
   "source": [
    "# Splitting Data and Setting Training Data Size"
   ]
  },
  {
   "cell_type": "code",
   "execution_count": 11,
   "id": "aea9c6ef-6f46-42c8-85eb-5a62025c1508",
   "metadata": {
    "execution": {
     "iopub.execute_input": "2025-08-05T15:42:34.198671Z",
     "iopub.status.busy": "2025-08-05T15:42:34.198145Z",
     "iopub.status.idle": "2025-08-05T15:42:34.817999Z",
     "shell.execute_reply": "2025-08-05T15:42:34.816917Z"
    },
    "papermill": {
     "duration": 0.643176,
     "end_time": "2025-08-05T15:42:34.820097",
     "exception": false,
     "start_time": "2025-08-05T15:42:34.176921",
     "status": "completed"
    },
    "tags": []
   },
   "outputs": [],
   "source": [
    "from fairness_multiverse.universe import sample_by_year_size\n",
    "\n",
    "siab_train = sample_by_year_size(siab,\n",
    "                               training_year=universe[\"training_year\"],\n",
    "                               training_size=universe[\"training_size\"])"
   ]
  },
  {
   "cell_type": "code",
   "execution_count": 12,
   "id": "8d3afb32-789d-442c-8d5d-9f5aa8dd2eed",
   "metadata": {
    "execution": {
     "iopub.execute_input": "2025-08-05T15:42:34.861429Z",
     "iopub.status.busy": "2025-08-05T15:42:34.860624Z",
     "iopub.status.idle": "2025-08-05T15:42:34.866068Z",
     "shell.execute_reply": "2025-08-05T15:42:34.864994Z"
    },
    "papermill": {
     "duration": 0.027347,
     "end_time": "2025-08-05T15:42:34.867855",
     "exception": false,
     "start_time": "2025-08-05T15:42:34.840508",
     "status": "completed"
    },
    "tags": []
   },
   "outputs": [],
   "source": [
    "#siab_train.shape"
   ]
  },
  {
   "cell_type": "code",
   "execution_count": 13,
   "id": "d582db68-1a4c-47fb-84fc-08518dc1975a",
   "metadata": {
    "execution": {
     "iopub.execute_input": "2025-08-05T15:42:34.910180Z",
     "iopub.status.busy": "2025-08-05T15:42:34.909421Z",
     "iopub.status.idle": "2025-08-05T15:42:34.914743Z",
     "shell.execute_reply": "2025-08-05T15:42:34.913591Z"
    },
    "papermill": {
     "duration": 0.02798,
     "end_time": "2025-08-05T15:42:34.916518",
     "exception": false,
     "start_time": "2025-08-05T15:42:34.888538",
     "status": "completed"
    },
    "tags": []
   },
   "outputs": [],
   "source": [
    "#display(siab_train.groupby(\"year\").size())"
   ]
  },
  {
   "cell_type": "code",
   "execution_count": 14,
   "id": "a561edb4-d032-42cb-8256-22eac1111c64",
   "metadata": {
    "execution": {
     "iopub.execute_input": "2025-08-05T15:42:34.957785Z",
     "iopub.status.busy": "2025-08-05T15:42:34.957331Z",
     "iopub.status.idle": "2025-08-05T15:42:35.199489Z",
     "shell.execute_reply": "2025-08-05T15:42:35.198443Z"
    },
    "papermill": {
     "duration": 0.265034,
     "end_time": "2025-08-05T15:42:35.201220",
     "exception": false,
     "start_time": "2025-08-05T15:42:34.936186",
     "status": "completed"
    },
    "tags": []
   },
   "outputs": [],
   "source": [
    "#siab_train = siab_s[siab_s.year < 2015]\n",
    "siab_calib = siab[siab.year == 2015]\n",
    "siab_test = siab[siab.year == 2016]"
   ]
  },
  {
   "cell_type": "code",
   "execution_count": 15,
   "id": "472de16f-c3db-4916-846b-1f0de9cf1746",
   "metadata": {
    "execution": {
     "iopub.execute_input": "2025-08-05T15:42:35.238543Z",
     "iopub.status.busy": "2025-08-05T15:42:35.237775Z",
     "iopub.status.idle": "2025-08-05T15:42:35.246811Z",
     "shell.execute_reply": "2025-08-05T15:42:35.245759Z"
    },
    "papermill": {
     "duration": 0.028945,
     "end_time": "2025-08-05T15:42:35.248527",
     "exception": false,
     "start_time": "2025-08-05T15:42:35.219582",
     "status": "completed"
    },
    "tags": []
   },
   "outputs": [],
   "source": [
    "X_train = siab_train.iloc[:,4:164]\n",
    "y_train = siab_train.iloc[:, [3]]"
   ]
  },
  {
   "cell_type": "code",
   "execution_count": 16,
   "id": "828c96af-f43a-4ed6-ba47-8ac73a47d56c",
   "metadata": {
    "execution": {
     "iopub.execute_input": "2025-08-05T15:42:35.287362Z",
     "iopub.status.busy": "2025-08-05T15:42:35.286877Z",
     "iopub.status.idle": "2025-08-05T15:42:35.339809Z",
     "shell.execute_reply": "2025-08-05T15:42:35.338819Z"
    },
    "papermill": {
     "duration": 0.073678,
     "end_time": "2025-08-05T15:42:35.341549",
     "exception": false,
     "start_time": "2025-08-05T15:42:35.267871",
     "status": "completed"
    },
    "tags": []
   },
   "outputs": [],
   "source": [
    "X_calib = siab_calib.iloc[:,4:164]\n",
    "y_calib = siab_calib.iloc[:, [3]]"
   ]
  },
  {
   "cell_type": "code",
   "execution_count": 17,
   "id": "c34be9c3-6bd6-476e-acd3-845840e303be",
   "metadata": {
    "execution": {
     "iopub.execute_input": "2025-08-05T15:42:35.383827Z",
     "iopub.status.busy": "2025-08-05T15:42:35.382887Z",
     "iopub.status.idle": "2025-08-05T15:42:35.441017Z",
     "shell.execute_reply": "2025-08-05T15:42:35.439925Z"
    },
    "papermill": {
     "duration": 0.080601,
     "end_time": "2025-08-05T15:42:35.442967",
     "exception": false,
     "start_time": "2025-08-05T15:42:35.362366",
     "status": "completed"
    },
    "tags": []
   },
   "outputs": [],
   "source": [
    "X_test = siab_test.iloc[:,4:164]\n",
    "y_true = siab_test.iloc[:, [3]]"
   ]
  },
  {
   "cell_type": "code",
   "execution_count": 18,
   "id": "e6c733c5",
   "metadata": {
    "execution": {
     "iopub.execute_input": "2025-08-05T15:42:35.483346Z",
     "iopub.status.busy": "2025-08-05T15:42:35.482901Z",
     "iopub.status.idle": "2025-08-05T15:42:35.581821Z",
     "shell.execute_reply": "2025-08-05T15:42:35.580717Z"
    },
    "papermill": {
     "duration": 0.119042,
     "end_time": "2025-08-05T15:42:35.583653",
     "exception": false,
     "start_time": "2025-08-05T15:42:35.464611",
     "status": "completed"
    },
    "tags": []
   },
   "outputs": [],
   "source": [
    "# Auxiliary data needed downstream in the pipeline\n",
    "\n",
    "org_train = X_train.copy()\n",
    "org_test = X_test.copy()\n",
    "org_calib = X_calib.copy()"
   ]
  },
  {
   "cell_type": "markdown",
   "id": "0a4a1b33",
   "metadata": {
    "papermill": {
     "duration": 0.017992,
     "end_time": "2025-08-05T15:42:35.620567",
     "exception": false,
     "start_time": "2025-08-05T15:42:35.602575",
     "status": "completed"
    },
    "tags": []
   },
   "source": [
    "# Preprocessing Data"
   ]
  },
  {
   "cell_type": "code",
   "execution_count": 19,
   "id": "ca879031",
   "metadata": {
    "execution": {
     "iopub.execute_input": "2025-08-05T15:42:35.657270Z",
     "iopub.status.busy": "2025-08-05T15:42:35.656369Z",
     "iopub.status.idle": "2025-08-05T15:42:35.663004Z",
     "shell.execute_reply": "2025-08-05T15:42:35.661924Z"
    },
    "papermill": {
     "duration": 0.026692,
     "end_time": "2025-08-05T15:42:35.664953",
     "exception": false,
     "start_time": "2025-08-05T15:42:35.638261",
     "status": "completed"
    },
    "tags": []
   },
   "outputs": [],
   "source": [
    "# EXCLUDE PROTECTED FEATURES\n",
    "# ----------------------\n",
    "# \"exclude_features\": \"none\", # \"nationality\", \"sex\", \"nationality-sex\"\n",
    "\n",
    "excluded_features = universe[\"exclude_features\"].split(\"-\") # split, e.g.: \"nationality-sex\" -> [\"nationality\", \"sex\"]\n",
    "excluded_features_dictionary = {\n",
    "    \"nationality\": [\"maxdeutsch1\", \"maxdeutsch.Missing.\"],\n",
    "    \"sex\": [\"frau1\"],\n",
    "    \"age\": [\"age\"],\n",
    "}"
   ]
  },
  {
   "cell_type": "code",
   "execution_count": 20,
   "id": "b745ac60",
   "metadata": {
    "execution": {
     "iopub.execute_input": "2025-08-05T15:42:35.703723Z",
     "iopub.status.busy": "2025-08-05T15:42:35.703257Z",
     "iopub.status.idle": "2025-08-05T15:42:35.708819Z",
     "shell.execute_reply": "2025-08-05T15:42:35.707838Z"
    },
    "papermill": {
     "duration": 0.026202,
     "end_time": "2025-08-05T15:42:35.710400",
     "exception": false,
     "start_time": "2025-08-05T15:42:35.684198",
     "status": "completed"
    },
    "tags": []
   },
   "outputs": [],
   "source": [
    "# Code nice names to column names\n",
    "\n",
    "excluded_features_columns = [\n",
    "    excluded_features_dictionary[f] for f in excluded_features if len(f) > 0 and f != \"none\"\n",
    "]"
   ]
  },
  {
   "cell_type": "code",
   "execution_count": 21,
   "id": "f84f73a2",
   "metadata": {
    "execution": {
     "iopub.execute_input": "2025-08-05T15:42:35.747708Z",
     "iopub.status.busy": "2025-08-05T15:42:35.747099Z",
     "iopub.status.idle": "2025-08-05T15:42:35.753932Z",
     "shell.execute_reply": "2025-08-05T15:42:35.752781Z"
    },
    "papermill": {
     "duration": 0.027582,
     "end_time": "2025-08-05T15:42:35.755691",
     "exception": false,
     "start_time": "2025-08-05T15:42:35.728109",
     "status": "completed"
    },
    "tags": []
   },
   "outputs": [],
   "source": [
    "from utils import flatten_once\n",
    "\n",
    "excluded_features_columns = flatten_once(excluded_features_columns)"
   ]
  },
  {
   "cell_type": "code",
   "execution_count": 22,
   "id": "884dea22",
   "metadata": {
    "execution": {
     "iopub.execute_input": "2025-08-05T15:42:35.798630Z",
     "iopub.status.busy": "2025-08-05T15:42:35.797686Z",
     "iopub.status.idle": "2025-08-05T15:42:35.807934Z",
     "shell.execute_reply": "2025-08-05T15:42:35.806854Z"
    },
    "papermill": {
     "duration": 0.033605,
     "end_time": "2025-08-05T15:42:35.809659",
     "exception": false,
     "start_time": "2025-08-05T15:42:35.776054",
     "status": "completed"
    },
    "tags": []
   },
   "outputs": [
    {
     "name": "stdout",
     "output_type": "stream",
     "text": [
      "Dropping features: ['maxdeutsch1', 'maxdeutsch.Missing.']\n"
     ]
    }
   ],
   "source": [
    "if len(excluded_features_columns) > 0:\n",
    "    print(f\"Dropping features: {excluded_features_columns}\")\n",
    "    X_train.drop(excluded_features_columns, axis=1, inplace=True)"
   ]
  },
  {
   "cell_type": "code",
   "execution_count": 23,
   "id": "95ab8b16",
   "metadata": {
    "execution": {
     "iopub.execute_input": "2025-08-05T15:42:35.853003Z",
     "iopub.status.busy": "2025-08-05T15:42:35.851961Z",
     "iopub.status.idle": "2025-08-05T15:42:35.905962Z",
     "shell.execute_reply": "2025-08-05T15:42:35.904752Z"
    },
    "papermill": {
     "duration": 0.078065,
     "end_time": "2025-08-05T15:42:35.908099",
     "exception": false,
     "start_time": "2025-08-05T15:42:35.830034",
     "status": "completed"
    },
    "tags": []
   },
   "outputs": [
    {
     "name": "stdout",
     "output_type": "stream",
     "text": [
      "Dropping features: ['maxdeutsch1', 'maxdeutsch.Missing.']\n"
     ]
    }
   ],
   "source": [
    "if len(excluded_features_columns) > 0:\n",
    "    print(f\"Dropping features: {excluded_features_columns}\")\n",
    "    X_test.drop(excluded_features_columns, axis=1, inplace=True)"
   ]
  },
  {
   "cell_type": "code",
   "execution_count": 24,
   "id": "1853aaf5-fb9f-46cb-a2b5-8ea4ae2237e4",
   "metadata": {
    "execution": {
     "iopub.execute_input": "2025-08-05T15:42:35.950770Z",
     "iopub.status.busy": "2025-08-05T15:42:35.949921Z",
     "iopub.status.idle": "2025-08-05T15:42:36.002743Z",
     "shell.execute_reply": "2025-08-05T15:42:36.001402Z"
    },
    "papermill": {
     "duration": 0.075302,
     "end_time": "2025-08-05T15:42:36.004370",
     "exception": false,
     "start_time": "2025-08-05T15:42:35.929068",
     "status": "completed"
    },
    "tags": []
   },
   "outputs": [
    {
     "name": "stdout",
     "output_type": "stream",
     "text": [
      "Dropping features: ['maxdeutsch1', 'maxdeutsch.Missing.']\n"
     ]
    }
   ],
   "source": [
    "if len(excluded_features_columns) > 0:\n",
    "    print(f\"Dropping features: {excluded_features_columns}\")\n",
    "    X_calib.drop(excluded_features_columns, axis=1, inplace=True)"
   ]
  },
  {
   "cell_type": "code",
   "execution_count": 25,
   "id": "76c4dc6d",
   "metadata": {
    "execution": {
     "iopub.execute_input": "2025-08-05T15:42:36.043498Z",
     "iopub.status.busy": "2025-08-05T15:42:36.042602Z",
     "iopub.status.idle": "2025-08-05T15:42:36.048547Z",
     "shell.execute_reply": "2025-08-05T15:42:36.047523Z"
    },
    "papermill": {
     "duration": 0.027402,
     "end_time": "2025-08-05T15:42:36.050482",
     "exception": false,
     "start_time": "2025-08-05T15:42:36.023080",
     "status": "completed"
    },
    "tags": []
   },
   "outputs": [],
   "source": [
    "# EXCLUDE CERTAIN SUBGROUPS\n",
    "# ----------------------\n",
    "\n",
    "mode = universe.get(\"exclude_subgroups\", \"keep-all\") \n",
    "# Fetches the exclude_subgroups setting from the universe dict.\n",
    "# Defaults to \"keep-all\" if the key is missing."
   ]
  },
  {
   "cell_type": "code",
   "execution_count": 26,
   "id": "21994072",
   "metadata": {
    "execution": {
     "iopub.execute_input": "2025-08-05T15:42:36.108641Z",
     "iopub.status.busy": "2025-08-05T15:42:36.107733Z",
     "iopub.status.idle": "2025-08-05T15:42:36.114781Z",
     "shell.execute_reply": "2025-08-05T15:42:36.113667Z"
    },
    "papermill": {
     "duration": 0.032385,
     "end_time": "2025-08-05T15:42:36.117848",
     "exception": false,
     "start_time": "2025-08-05T15:42:36.085463",
     "status": "completed"
    },
    "tags": []
   },
   "outputs": [],
   "source": [
    "if mode == \"keep-all\":\n",
    "    keep_mask = pd.Series(True, index=org_train.index)\n",
    "\n",
    "# org_train contains the original feature columns from features_org (in Simson)\n",
    "# features_org contains unprocessed features, for me X_train at beginning ???\n",
    "# For keep-all, creates a boolean Series (keep_mask) of all True, so no rows are removed.\n",
    "\n",
    "elif mode == \"drop-non-german\":\n",
    "    keep_mask = org_train[\"maxdeutsch1\"] == 1 # ??? what about missing values?\n",
    "\n",
    "else:\n",
    "    raise ValueError(f\"Unsupported mode for exclude_subgroups: {mode}\")"
   ]
  },
  {
   "cell_type": "code",
   "execution_count": 27,
   "id": "71651440",
   "metadata": {
    "execution": {
     "iopub.execute_input": "2025-08-05T15:42:36.162573Z",
     "iopub.status.busy": "2025-08-05T15:42:36.161683Z",
     "iopub.status.idle": "2025-08-05T15:42:36.169317Z",
     "shell.execute_reply": "2025-08-05T15:42:36.168248Z"
    },
    "papermill": {
     "duration": 0.031399,
     "end_time": "2025-08-05T15:42:36.171092",
     "exception": false,
     "start_time": "2025-08-05T15:42:36.139693",
     "status": "completed"
    },
    "tags": []
   },
   "outputs": [
    {
     "name": "stdout",
     "output_type": "stream",
     "text": [
      "Dropping 665 rows (13.30%) where mode='drop-non-german'\n"
     ]
    }
   ],
   "source": [
    "n_drop = (~keep_mask).sum() # Calculates how many rows are set to be dropped\n",
    "if n_drop > 0:\n",
    "    pct = n_drop / len(keep_mask) * 100\n",
    "    print(f\"Dropping {n_drop} rows ({pct:.2f}%) where mode='{mode}'\")"
   ]
  },
  {
   "cell_type": "code",
   "execution_count": 28,
   "id": "5fb8eee5",
   "metadata": {
    "execution": {
     "iopub.execute_input": "2025-08-05T15:42:36.216118Z",
     "iopub.status.busy": "2025-08-05T15:42:36.215266Z",
     "iopub.status.idle": "2025-08-05T15:42:36.223664Z",
     "shell.execute_reply": "2025-08-05T15:42:36.222516Z"
    },
    "papermill": {
     "duration": 0.032993,
     "end_time": "2025-08-05T15:42:36.225456",
     "exception": false,
     "start_time": "2025-08-05T15:42:36.192463",
     "status": "completed"
    },
    "tags": []
   },
   "outputs": [],
   "source": [
    "X_train = X_train[keep_mask]"
   ]
  },
  {
   "cell_type": "code",
   "execution_count": 29,
   "id": "b202bb3a",
   "metadata": {
    "execution": {
     "iopub.execute_input": "2025-08-05T15:42:36.265069Z",
     "iopub.status.busy": "2025-08-05T15:42:36.264427Z",
     "iopub.status.idle": "2025-08-05T15:42:36.270761Z",
     "shell.execute_reply": "2025-08-05T15:42:36.269700Z"
    },
    "papermill": {
     "duration": 0.027183,
     "end_time": "2025-08-05T15:42:36.272430",
     "exception": false,
     "start_time": "2025-08-05T15:42:36.245247",
     "status": "completed"
    },
    "tags": []
   },
   "outputs": [],
   "source": [
    "y_train = y_train[keep_mask]"
   ]
  },
  {
   "cell_type": "markdown",
   "id": "493e2ac3",
   "metadata": {
    "papermill": {
     "duration": 0.018697,
     "end_time": "2025-08-05T15:42:36.310916",
     "exception": false,
     "start_time": "2025-08-05T15:42:36.292219",
     "status": "completed"
    },
    "tags": []
   },
   "source": [
    "# Model Training"
   ]
  },
  {
   "cell_type": "code",
   "execution_count": 30,
   "id": "679e1268",
   "metadata": {
    "execution": {
     "iopub.execute_input": "2025-08-05T15:42:36.348780Z",
     "iopub.status.busy": "2025-08-05T15:42:36.347895Z",
     "iopub.status.idle": "2025-08-05T15:42:36.623761Z",
     "shell.execute_reply": "2025-08-05T15:42:36.622732Z"
    },
    "papermill": {
     "duration": 0.296652,
     "end_time": "2025-08-05T15:42:36.625697",
     "exception": false,
     "start_time": "2025-08-05T15:42:36.329045",
     "status": "completed"
    },
    "tags": []
   },
   "outputs": [],
   "source": [
    "from sklearn.linear_model import LogisticRegression\n",
    "from sklearn.ensemble import GradientBoostingClassifier, RandomForestClassifier\n",
    "\n",
    "if (universe[\"model\"] == \"logreg\"):\n",
    "    model = LogisticRegression() #penalty=\"none\", solver=\"newton-cg\", max_iter=1) # include random_state=19 ?\n",
    "elif (universe[\"model\"] == \"penalized_logreg\"):\n",
    "    model = LogisticRegression(penalty=\"l2\", C=0.1) #, solver=\"newton-cg\", max_iter=1)\n",
    "elif (universe[\"model\"] == \"rf\"):\n",
    "    model = RandomForestClassifier() # n_estimators=100, n_jobs=-1\n",
    "elif (universe[\"model\"] == \"gbm\"):\n",
    "    model = GradientBoostingClassifier()\n",
    "elif (universe[\"model\"] == \"elasticnet\"):\n",
    "    model = LogisticRegression(penalty = 'elasticnet', solver = 'saga', l1_ratio = 0.5) # max_iter=5000\n",
    "else:\n",
    "    raise \"Unsupported universe.model\""
   ]
  },
  {
   "cell_type": "code",
   "execution_count": 31,
   "id": "0cc8f744",
   "metadata": {
    "execution": {
     "iopub.execute_input": "2025-08-05T15:42:36.665449Z",
     "iopub.status.busy": "2025-08-05T15:42:36.664587Z",
     "iopub.status.idle": "2025-08-05T15:42:36.671286Z",
     "shell.execute_reply": "2025-08-05T15:42:36.670249Z"
    },
    "papermill": {
     "duration": 0.028722,
     "end_time": "2025-08-05T15:42:36.673135",
     "exception": false,
     "start_time": "2025-08-05T15:42:36.644413",
     "status": "completed"
    },
    "tags": []
   },
   "outputs": [],
   "source": [
    "import numpy as np\n",
    "from sklearn.pipeline import Pipeline\n",
    "from sklearn.preprocessing import StandardScaler\n",
    "\n",
    "model = Pipeline([\n",
    "    #(\"continuous_processor\", continuous_processor),\n",
    "    #(\"categorical_preprocessor\", categorical_preprocessor),\n",
    "    (\"scale\", StandardScaler() if universe[\"scale\"] == \"scale\" else None), \n",
    "    (\"model\", model),\n",
    "])"
   ]
  },
  {
   "cell_type": "code",
   "execution_count": 32,
   "id": "9442c04d",
   "metadata": {
    "execution": {
     "iopub.execute_input": "2025-08-05T15:42:36.712798Z",
     "iopub.status.busy": "2025-08-05T15:42:36.712016Z",
     "iopub.status.idle": "2025-08-05T15:42:36.842791Z",
     "shell.execute_reply": "2025-08-05T15:42:36.841796Z"
    },
    "papermill": {
     "duration": 0.152515,
     "end_time": "2025-08-05T15:42:36.844569",
     "exception": false,
     "start_time": "2025-08-05T15:42:36.692054",
     "status": "completed"
    },
    "tags": []
   },
   "outputs": [
    {
     "name": "stderr",
     "output_type": "stream",
     "text": [
      "/dss/dsshome1/0C/ra93lal2/.local/share/virtualenvs/CMA_Fairness_v2-3j10GkSs/lib/python3.10/site-packages/sklearn/linear_model/_logistic.py:444: ConvergenceWarning: lbfgs failed to converge (status=1):\n",
      "STOP: TOTAL NO. of ITERATIONS REACHED LIMIT.\n",
      "\n",
      "Increase the number of iterations (max_iter) or scale the data as shown in:\n",
      "    https://scikit-learn.org/stable/modules/preprocessing.html\n",
      "Please also refer to the documentation for alternative solver options:\n",
      "    https://scikit-learn.org/stable/modules/linear_model.html#logistic-regression\n",
      "  n_iter_i = _check_optimize_result(\n"
     ]
    },
    {
     "data": {
      "text/html": [
       "<style>#sk-container-id-1 {color: black;background-color: white;}#sk-container-id-1 pre{padding: 0;}#sk-container-id-1 div.sk-toggleable {background-color: white;}#sk-container-id-1 label.sk-toggleable__label {cursor: pointer;display: block;width: 100%;margin-bottom: 0;padding: 0.3em;box-sizing: border-box;text-align: center;}#sk-container-id-1 label.sk-toggleable__label-arrow:before {content: \"▸\";float: left;margin-right: 0.25em;color: #696969;}#sk-container-id-1 label.sk-toggleable__label-arrow:hover:before {color: black;}#sk-container-id-1 div.sk-estimator:hover label.sk-toggleable__label-arrow:before {color: black;}#sk-container-id-1 div.sk-toggleable__content {max-height: 0;max-width: 0;overflow: hidden;text-align: left;background-color: #f0f8ff;}#sk-container-id-1 div.sk-toggleable__content pre {margin: 0.2em;color: black;border-radius: 0.25em;background-color: #f0f8ff;}#sk-container-id-1 input.sk-toggleable__control:checked~div.sk-toggleable__content {max-height: 200px;max-width: 100%;overflow: auto;}#sk-container-id-1 input.sk-toggleable__control:checked~label.sk-toggleable__label-arrow:before {content: \"▾\";}#sk-container-id-1 div.sk-estimator input.sk-toggleable__control:checked~label.sk-toggleable__label {background-color: #d4ebff;}#sk-container-id-1 div.sk-label input.sk-toggleable__control:checked~label.sk-toggleable__label {background-color: #d4ebff;}#sk-container-id-1 input.sk-hidden--visually {border: 0;clip: rect(1px 1px 1px 1px);clip: rect(1px, 1px, 1px, 1px);height: 1px;margin: -1px;overflow: hidden;padding: 0;position: absolute;width: 1px;}#sk-container-id-1 div.sk-estimator {font-family: monospace;background-color: #f0f8ff;border: 1px dotted black;border-radius: 0.25em;box-sizing: border-box;margin-bottom: 0.5em;}#sk-container-id-1 div.sk-estimator:hover {background-color: #d4ebff;}#sk-container-id-1 div.sk-parallel-item::after {content: \"\";width: 100%;border-bottom: 1px solid gray;flex-grow: 1;}#sk-container-id-1 div.sk-label:hover label.sk-toggleable__label {background-color: #d4ebff;}#sk-container-id-1 div.sk-serial::before {content: \"\";position: absolute;border-left: 1px solid gray;box-sizing: border-box;top: 0;bottom: 0;left: 50%;z-index: 0;}#sk-container-id-1 div.sk-serial {display: flex;flex-direction: column;align-items: center;background-color: white;padding-right: 0.2em;padding-left: 0.2em;position: relative;}#sk-container-id-1 div.sk-item {position: relative;z-index: 1;}#sk-container-id-1 div.sk-parallel {display: flex;align-items: stretch;justify-content: center;background-color: white;position: relative;}#sk-container-id-1 div.sk-item::before, #sk-container-id-1 div.sk-parallel-item::before {content: \"\";position: absolute;border-left: 1px solid gray;box-sizing: border-box;top: 0;bottom: 0;left: 50%;z-index: -1;}#sk-container-id-1 div.sk-parallel-item {display: flex;flex-direction: column;z-index: 1;position: relative;background-color: white;}#sk-container-id-1 div.sk-parallel-item:first-child::after {align-self: flex-end;width: 50%;}#sk-container-id-1 div.sk-parallel-item:last-child::after {align-self: flex-start;width: 50%;}#sk-container-id-1 div.sk-parallel-item:only-child::after {width: 0;}#sk-container-id-1 div.sk-dashed-wrapped {border: 1px dashed gray;margin: 0 0.4em 0.5em 0.4em;box-sizing: border-box;padding-bottom: 0.4em;background-color: white;}#sk-container-id-1 div.sk-label label {font-family: monospace;font-weight: bold;display: inline-block;line-height: 1.2em;}#sk-container-id-1 div.sk-label-container {text-align: center;}#sk-container-id-1 div.sk-container {/* jupyter's `normalize.less` sets `[hidden] { display: none; }` but bootstrap.min.css set `[hidden] { display: none !important; }` so we also need the `!important` here to be able to override the default hidden behavior on the sphinx rendered scikit-learn.org. See: https://github.com/scikit-learn/scikit-learn/issues/21755 */display: inline-block !important;position: relative;}#sk-container-id-1 div.sk-text-repr-fallback {display: none;}</style><div id=\"sk-container-id-1\" class=\"sk-top-container\"><div class=\"sk-text-repr-fallback\"><pre>Pipeline(steps=[(&#x27;scale&#x27;, None), (&#x27;model&#x27;, LogisticRegression(C=0.1))])</pre><b>In a Jupyter environment, please rerun this cell to show the HTML representation or trust the notebook. <br />On GitHub, the HTML representation is unable to render, please try loading this page with nbviewer.org.</b></div><div class=\"sk-container\" hidden><div class=\"sk-item sk-dashed-wrapped\"><div class=\"sk-label-container\"><div class=\"sk-label sk-toggleable\"><input class=\"sk-toggleable__control sk-hidden--visually\" id=\"sk-estimator-id-1\" type=\"checkbox\" ><label for=\"sk-estimator-id-1\" class=\"sk-toggleable__label sk-toggleable__label-arrow\">Pipeline</label><div class=\"sk-toggleable__content\"><pre>Pipeline(steps=[(&#x27;scale&#x27;, None), (&#x27;model&#x27;, LogisticRegression(C=0.1))])</pre></div></div></div><div class=\"sk-serial\"><div class=\"sk-item\"><div class=\"sk-estimator sk-toggleable\"><input class=\"sk-toggleable__control sk-hidden--visually\" id=\"sk-estimator-id-2\" type=\"checkbox\" ><label for=\"sk-estimator-id-2\" class=\"sk-toggleable__label sk-toggleable__label-arrow\">None</label><div class=\"sk-toggleable__content\"><pre>None</pre></div></div></div><div class=\"sk-item\"><div class=\"sk-estimator sk-toggleable\"><input class=\"sk-toggleable__control sk-hidden--visually\" id=\"sk-estimator-id-3\" type=\"checkbox\" ><label for=\"sk-estimator-id-3\" class=\"sk-toggleable__label sk-toggleable__label-arrow\">LogisticRegression</label><div class=\"sk-toggleable__content\"><pre>LogisticRegression(C=0.1)</pre></div></div></div></div></div></div></div>"
      ],
      "text/plain": [
       "Pipeline(steps=[('scale', None), ('model', LogisticRegression(C=0.1))])"
      ]
     },
     "execution_count": 32,
     "metadata": {},
     "output_type": "execute_result"
    }
   ],
   "source": [
    "model.fit(X_train, y_train.values.ravel())"
   ]
  },
  {
   "cell_type": "code",
   "execution_count": 33,
   "id": "af59f8c0",
   "metadata": {
    "execution": {
     "iopub.execute_input": "2025-08-05T15:42:36.884840Z",
     "iopub.status.busy": "2025-08-05T15:42:36.884278Z",
     "iopub.status.idle": "2025-08-05T15:42:36.889999Z",
     "shell.execute_reply": "2025-08-05T15:42:36.888801Z"
    },
    "papermill": {
     "duration": 0.027136,
     "end_time": "2025-08-05T15:42:36.891832",
     "exception": false,
     "start_time": "2025-08-05T15:42:36.864696",
     "status": "completed"
    },
    "tags": []
   },
   "outputs": [],
   "source": [
    "from fairness_multiverse.universe import predict_w_threshold"
   ]
  },
  {
   "cell_type": "code",
   "execution_count": 34,
   "id": "a7cf2e16",
   "metadata": {
    "execution": {
     "iopub.execute_input": "2025-08-05T15:42:36.933242Z",
     "iopub.status.busy": "2025-08-05T15:42:36.932436Z",
     "iopub.status.idle": "2025-08-05T15:42:37.029658Z",
     "shell.execute_reply": "2025-08-05T15:42:37.028581Z"
    },
    "papermill": {
     "duration": 0.119927,
     "end_time": "2025-08-05T15:42:37.032154",
     "exception": false,
     "start_time": "2025-08-05T15:42:36.912227",
     "status": "completed"
    },
    "tags": []
   },
   "outputs": [
    {
     "data": {
      "text/plain": [
       "0.8588005796455245"
      ]
     },
     "execution_count": 34,
     "metadata": {},
     "output_type": "execute_result"
    }
   ],
   "source": [
    "probs_test = model.predict_proba(X_test)\n",
    "\n",
    "'''\n",
    "Below code returns a boolean array (or binary 0/1 array depending on how it’s used) where each element \n",
    "is True if the probability of class 1 is greater than or equal to the threshold, and False otherwise.\n",
    "'''\n",
    "y_pred_default = predict_w_threshold(probs_test, 0.5)\n",
    "\n",
    "from sklearn.metrics import accuracy_score\n",
    "\n",
    "# Naive prediction\n",
    "accuracy_score(y_true = y_true, y_pred = y_pred_default)"
   ]
  },
  {
   "cell_type": "code",
   "execution_count": 35,
   "id": "081964c3",
   "metadata": {
    "execution": {
     "iopub.execute_input": "2025-08-05T15:42:37.083110Z",
     "iopub.status.busy": "2025-08-05T15:42:37.082084Z",
     "iopub.status.idle": "2025-08-05T15:42:37.168297Z",
     "shell.execute_reply": "2025-08-05T15:42:37.167118Z"
    },
    "papermill": {
     "duration": 0.113543,
     "end_time": "2025-08-05T15:42:37.170201",
     "exception": false,
     "start_time": "2025-08-05T15:42:37.056658",
     "status": "completed"
    },
    "tags": []
   },
   "outputs": [
    {
     "data": {
      "text/plain": [
       "array([0, 0, 0, ..., 0, 0, 0])"
      ]
     },
     "execution_count": 35,
     "metadata": {},
     "output_type": "execute_result"
    }
   ],
   "source": [
    "model.predict(X_test)"
   ]
  },
  {
   "cell_type": "markdown",
   "id": "56c9705b",
   "metadata": {
    "papermill": {
     "duration": 0.01941,
     "end_time": "2025-08-05T15:42:37.210114",
     "exception": false,
     "start_time": "2025-08-05T15:42:37.190704",
     "status": "completed"
    },
    "tags": []
   },
   "source": [
    "# Conformal Prediction"
   ]
  },
  {
   "cell_type": "code",
   "execution_count": 36,
   "id": "160ec6ff",
   "metadata": {
    "execution": {
     "iopub.execute_input": "2025-08-05T15:42:37.252591Z",
     "iopub.status.busy": "2025-08-05T15:42:37.251622Z",
     "iopub.status.idle": "2025-08-05T15:42:37.257427Z",
     "shell.execute_reply": "2025-08-05T15:42:37.256287Z"
    },
    "papermill": {
     "duration": 0.029635,
     "end_time": "2025-08-05T15:42:37.259555",
     "exception": false,
     "start_time": "2025-08-05T15:42:37.229920",
     "status": "completed"
    },
    "tags": []
   },
   "outputs": [],
   "source": [
    "# Miscoverage level for conformal prediction (10% allowed error rate => 90% target coverage)\n",
    "alpha = 0.1"
   ]
  },
  {
   "cell_type": "code",
   "execution_count": 37,
   "id": "eadf4555-3dd3-440e-8e35-f82a4ad9f855",
   "metadata": {
    "execution": {
     "iopub.execute_input": "2025-08-05T15:42:37.311225Z",
     "iopub.status.busy": "2025-08-05T15:42:37.310536Z",
     "iopub.status.idle": "2025-08-05T15:42:37.394929Z",
     "shell.execute_reply": "2025-08-05T15:42:37.393807Z"
    },
    "papermill": {
     "duration": 0.112554,
     "end_time": "2025-08-05T15:42:37.397291",
     "exception": false,
     "start_time": "2025-08-05T15:42:37.284737",
     "status": "completed"
    },
    "tags": []
   },
   "outputs": [],
   "source": [
    "probs_calib = model.predict_proba(X_calib)"
   ]
  },
  {
   "cell_type": "code",
   "execution_count": 38,
   "id": "2ed93547-6d5d-4983-9b36-1ecb300da49a",
   "metadata": {
    "execution": {
     "iopub.execute_input": "2025-08-05T15:42:37.449800Z",
     "iopub.status.busy": "2025-08-05T15:42:37.448817Z",
     "iopub.status.idle": "2025-08-05T15:42:37.455592Z",
     "shell.execute_reply": "2025-08-05T15:42:37.454433Z"
    },
    "papermill": {
     "duration": 0.034806,
     "end_time": "2025-08-05T15:42:37.457743",
     "exception": false,
     "start_time": "2025-08-05T15:42:37.422937",
     "status": "completed"
    },
    "tags": []
   },
   "outputs": [],
   "source": [
    "y_calib = y_calib.values.ravel().astype(int)"
   ]
  },
  {
   "cell_type": "code",
   "execution_count": 39,
   "id": "65d1320d-f588-4b38-9072-62af1ae97f7d",
   "metadata": {
    "execution": {
     "iopub.execute_input": "2025-08-05T15:42:37.510018Z",
     "iopub.status.busy": "2025-08-05T15:42:37.508947Z",
     "iopub.status.idle": "2025-08-05T15:42:37.516798Z",
     "shell.execute_reply": "2025-08-05T15:42:37.515750Z"
    },
    "papermill": {
     "duration": 0.035615,
     "end_time": "2025-08-05T15:42:37.518813",
     "exception": false,
     "start_time": "2025-08-05T15:42:37.483198",
     "status": "completed"
    },
    "tags": []
   },
   "outputs": [],
   "source": [
    "from fairness_multiverse.conformal import compute_nc_scores\n",
    "\n",
    "# Compute nonconformity scores on calibration set (1 - probability of true class)\n",
    "nc_scores = compute_nc_scores(probs_calib, y_calib)"
   ]
  },
  {
   "cell_type": "code",
   "execution_count": 40,
   "id": "df3b8ca3-53b7-43d5-9667-7c85da7aeda2",
   "metadata": {
    "execution": {
     "iopub.execute_input": "2025-08-05T15:42:37.570736Z",
     "iopub.status.busy": "2025-08-05T15:42:37.570073Z",
     "iopub.status.idle": "2025-08-05T15:42:37.577393Z",
     "shell.execute_reply": "2025-08-05T15:42:37.576281Z"
    },
    "papermill": {
     "duration": 0.035137,
     "end_time": "2025-08-05T15:42:37.579245",
     "exception": false,
     "start_time": "2025-08-05T15:42:37.544108",
     "status": "completed"
    },
    "tags": []
   },
   "outputs": [],
   "source": [
    "from fairness_multiverse.conformal import find_threshold\n",
    "\n",
    "# Find conformal threshold q_hat for the given alpha (split conformal method)\n",
    "q_hat = find_threshold(nc_scores, alpha)"
   ]
  },
  {
   "cell_type": "code",
   "execution_count": 41,
   "id": "4d29e6c1-0ef6-4aa4-b8fe-4fe79b0d033a",
   "metadata": {
    "execution": {
     "iopub.execute_input": "2025-08-05T15:42:37.627380Z",
     "iopub.status.busy": "2025-08-05T15:42:37.626394Z",
     "iopub.status.idle": "2025-08-05T15:42:37.634366Z",
     "shell.execute_reply": "2025-08-05T15:42:37.633114Z"
    },
    "papermill": {
     "duration": 0.033387,
     "end_time": "2025-08-05T15:42:37.636293",
     "exception": false,
     "start_time": "2025-08-05T15:42:37.602906",
     "status": "completed"
    },
    "tags": []
   },
   "outputs": [
    {
     "data": {
      "text/plain": [
       "0.6770465962490639"
      ]
     },
     "execution_count": 41,
     "metadata": {},
     "output_type": "execute_result"
    }
   ],
   "source": [
    "q_hat"
   ]
  },
  {
   "cell_type": "code",
   "execution_count": 42,
   "id": "92460794-cdac-4be2-ba28-f28c0515a6fb",
   "metadata": {
    "execution": {
     "iopub.execute_input": "2025-08-05T15:42:37.686645Z",
     "iopub.status.busy": "2025-08-05T15:42:37.685720Z",
     "iopub.status.idle": "2025-08-05T15:42:38.839751Z",
     "shell.execute_reply": "2025-08-05T15:42:38.838548Z"
    },
    "papermill": {
     "duration": 1.180045,
     "end_time": "2025-08-05T15:42:38.841590",
     "exception": false,
     "start_time": "2025-08-05T15:42:37.661545",
     "status": "completed"
    },
    "tags": []
   },
   "outputs": [],
   "source": [
    "from fairness_multiverse.conformal import predict_conformal_sets\n",
    "\n",
    "# Generate prediction sets for each test example\n",
    "pred_sets = predict_conformal_sets(model, X_test, q_hat)"
   ]
  },
  {
   "cell_type": "code",
   "execution_count": 43,
   "id": "d90c9a65-e6db-4f5d-80cd-e68fb7e46829",
   "metadata": {
    "execution": {
     "iopub.execute_input": "2025-08-05T15:42:38.885305Z",
     "iopub.status.busy": "2025-08-05T15:42:38.884839Z",
     "iopub.status.idle": "2025-08-05T15:42:38.890770Z",
     "shell.execute_reply": "2025-08-05T15:42:38.889798Z"
    },
    "papermill": {
     "duration": 0.030529,
     "end_time": "2025-08-05T15:42:38.892656",
     "exception": false,
     "start_time": "2025-08-05T15:42:38.862127",
     "status": "completed"
    },
    "tags": []
   },
   "outputs": [],
   "source": [
    "y_true = y_true.squeeze()"
   ]
  },
  {
   "cell_type": "code",
   "execution_count": 44,
   "id": "3a58a54a-1e68-46b9-927a-df01f18aebc8",
   "metadata": {
    "execution": {
     "iopub.execute_input": "2025-08-05T15:42:38.935898Z",
     "iopub.status.busy": "2025-08-05T15:42:38.935241Z",
     "iopub.status.idle": "2025-08-05T15:42:39.843659Z",
     "shell.execute_reply": "2025-08-05T15:42:39.842597Z"
    },
    "papermill": {
     "duration": 0.931839,
     "end_time": "2025-08-05T15:42:39.845655",
     "exception": false,
     "start_time": "2025-08-05T15:42:38.913816",
     "status": "completed"
    },
    "tags": []
   },
   "outputs": [],
   "source": [
    "from fairness_multiverse.conformal import evaluate_sets\n",
    "\n",
    "# Evaluate coverage and average set size on test data\n",
    "metrics = evaluate_sets(pred_sets, y_true)"
   ]
  },
  {
   "cell_type": "markdown",
   "id": "2b569c12-9aaa-4c88-98c9-bbcd0cf3ebb8",
   "metadata": {
    "papermill": {
     "duration": 0.020349,
     "end_time": "2025-08-05T15:42:39.888587",
     "exception": false,
     "start_time": "2025-08-05T15:42:39.868238",
     "status": "completed"
    },
    "tags": []
   },
   "source": [
    "# CP Metrics"
   ]
  },
  {
   "cell_type": "code",
   "execution_count": 45,
   "id": "5ce0a5cb-201f-45a0-ade5-94c7f0bd6095",
   "metadata": {
    "execution": {
     "iopub.execute_input": "2025-08-05T15:42:39.932196Z",
     "iopub.status.busy": "2025-08-05T15:42:39.931672Z",
     "iopub.status.idle": "2025-08-05T15:42:39.939032Z",
     "shell.execute_reply": "2025-08-05T15:42:39.938003Z"
    },
    "papermill": {
     "duration": 0.031968,
     "end_time": "2025-08-05T15:42:39.940902",
     "exception": false,
     "start_time": "2025-08-05T15:42:39.908934",
     "status": "completed"
    },
    "tags": []
   },
   "outputs": [
    {
     "data": {
      "text/plain": [
       "{'coverage': 0.911470293166871, 'avg_size': 1.208795006130866}"
      ]
     },
     "execution_count": 45,
     "metadata": {},
     "output_type": "execute_result"
    }
   ],
   "source": [
    "metrics"
   ]
  },
  {
   "cell_type": "code",
   "execution_count": 46,
   "id": "9b9a838d-31c9-430b-ae14-12baee460d17",
   "metadata": {
    "execution": {
     "iopub.execute_input": "2025-08-05T15:42:39.986020Z",
     "iopub.status.busy": "2025-08-05T15:42:39.985524Z",
     "iopub.status.idle": "2025-08-05T15:42:39.992445Z",
     "shell.execute_reply": "2025-08-05T15:42:39.991385Z"
    },
    "papermill": {
     "duration": 0.031403,
     "end_time": "2025-08-05T15:42:39.994342",
     "exception": false,
     "start_time": "2025-08-05T15:42:39.962939",
     "status": "completed"
    },
    "tags": []
   },
   "outputs": [],
   "source": [
    "example_universe = universe.copy()\n",
    "universe_training_year = example_universe.get(\"training_year\")\n",
    "universe_training_size = example_universe.get(\"training_size\")\n",
    "universe_scale = example_universe.get(\"scale\")\n",
    "universe_model = example_universe.get(\"model\")\n",
    "universe_exclude_features = example_universe.get(\"exclude_features\")\n",
    "universe_exclude_subgroups = example_universe.get(\"exclude_subgroups\")"
   ]
  },
  {
   "cell_type": "code",
   "execution_count": 47,
   "id": "f4b6a8ac-9dc0-4245-8a91-5b3b5999c4f9",
   "metadata": {
    "execution": {
     "iopub.execute_input": "2025-08-05T15:42:40.038433Z",
     "iopub.status.busy": "2025-08-05T15:42:40.037953Z",
     "iopub.status.idle": "2025-08-05T15:42:40.045300Z",
     "shell.execute_reply": "2025-08-05T15:42:40.044241Z"
    },
    "papermill": {
     "duration": 0.031105,
     "end_time": "2025-08-05T15:42:40.047116",
     "exception": false,
     "start_time": "2025-08-05T15:42:40.016011",
     "status": "completed"
    },
    "tags": []
   },
   "outputs": [],
   "source": [
    "cp_metrics_dict = {\n",
    "    \"universe_id\": [universe_id],\n",
    "    \"universe_training_year\": [universe_training_year],\n",
    "    \"universe_training_size\": [universe_training_size],\n",
    "    \"universe_scale\": [universe_scale],\n",
    "    \"universe_model\": [universe_model],\n",
    "    \"universe_exclude_features\": [universe_exclude_features],\n",
    "    \"universe_exclude_subgroups\": [universe_exclude_subgroups],\n",
    "    \"q_hat\": [q_hat],\n",
    "    \"coverage\": [metrics[\"coverage\"]],\n",
    "    \"avg_size\": [metrics[\"avg_size\"]],\n",
    "}"
   ]
  },
  {
   "cell_type": "code",
   "execution_count": 48,
   "id": "908acbb1-0371-4915-85ca-3fa520d2efe2",
   "metadata": {
    "execution": {
     "iopub.execute_input": "2025-08-05T15:42:40.093428Z",
     "iopub.status.busy": "2025-08-05T15:42:40.092931Z",
     "iopub.status.idle": "2025-08-05T15:42:40.100399Z",
     "shell.execute_reply": "2025-08-05T15:42:40.099409Z"
    },
    "papermill": {
     "duration": 0.03144,
     "end_time": "2025-08-05T15:42:40.102134",
     "exception": false,
     "start_time": "2025-08-05T15:42:40.070694",
     "status": "completed"
    },
    "tags": []
   },
   "outputs": [
    {
     "data": {
      "text/plain": [
       "{'universe_id': ['ed73904361d3049b6a37bc37458e977d'],\n",
       " 'universe_training_year': ['2012_14'],\n",
       " 'universe_training_size': ['5k'],\n",
       " 'universe_scale': ['do-not-scale'],\n",
       " 'universe_model': ['penalized_logreg'],\n",
       " 'universe_exclude_features': ['nationality'],\n",
       " 'universe_exclude_subgroups': ['drop-non-german'],\n",
       " 'q_hat': [0.6770465962490639],\n",
       " 'coverage': [0.911470293166871],\n",
       " 'avg_size': [1.208795006130866]}"
      ]
     },
     "execution_count": 48,
     "metadata": {},
     "output_type": "execute_result"
    }
   ],
   "source": [
    "cp_metrics_dict"
   ]
  },
  {
   "cell_type": "code",
   "execution_count": 49,
   "id": "33007efc-14e9-4ec6-97ac-56a455c82265",
   "metadata": {
    "execution": {
     "iopub.execute_input": "2025-08-05T15:42:40.149666Z",
     "iopub.status.busy": "2025-08-05T15:42:40.149136Z",
     "iopub.status.idle": "2025-08-05T15:42:40.155798Z",
     "shell.execute_reply": "2025-08-05T15:42:40.154873Z"
    },
    "papermill": {
     "duration": 0.031403,
     "end_time": "2025-08-05T15:42:40.157431",
     "exception": false,
     "start_time": "2025-08-05T15:42:40.126028",
     "status": "completed"
    },
    "tags": []
   },
   "outputs": [],
   "source": [
    "cp_metrics_df = pd.DataFrame(cp_metrics_dict)"
   ]
  },
  {
   "cell_type": "code",
   "execution_count": 50,
   "id": "db12611b-57b2-4910-b9d0-355adfd6e7bf",
   "metadata": {
    "execution": {
     "iopub.execute_input": "2025-08-05T15:42:40.203200Z",
     "iopub.status.busy": "2025-08-05T15:42:40.202281Z",
     "iopub.status.idle": "2025-08-05T15:42:40.221696Z",
     "shell.execute_reply": "2025-08-05T15:42:40.220731Z"
    },
    "papermill": {
     "duration": 0.044485,
     "end_time": "2025-08-05T15:42:40.223551",
     "exception": false,
     "start_time": "2025-08-05T15:42:40.179066",
     "status": "completed"
    },
    "tags": []
   },
   "outputs": [
    {
     "data": {
      "text/html": [
       "<div>\n",
       "<style scoped>\n",
       "    .dataframe tbody tr th:only-of-type {\n",
       "        vertical-align: middle;\n",
       "    }\n",
       "\n",
       "    .dataframe tbody tr th {\n",
       "        vertical-align: top;\n",
       "    }\n",
       "\n",
       "    .dataframe thead th {\n",
       "        text-align: right;\n",
       "    }\n",
       "</style>\n",
       "<table border=\"1\" class=\"dataframe\">\n",
       "  <thead>\n",
       "    <tr style=\"text-align: right;\">\n",
       "      <th></th>\n",
       "      <th>universe_id</th>\n",
       "      <th>universe_training_year</th>\n",
       "      <th>universe_training_size</th>\n",
       "      <th>universe_scale</th>\n",
       "      <th>universe_model</th>\n",
       "      <th>universe_exclude_features</th>\n",
       "      <th>universe_exclude_subgroups</th>\n",
       "      <th>q_hat</th>\n",
       "      <th>coverage</th>\n",
       "      <th>avg_size</th>\n",
       "    </tr>\n",
       "  </thead>\n",
       "  <tbody>\n",
       "    <tr>\n",
       "      <th>0</th>\n",
       "      <td>ed73904361d3049b6a37bc37458e977d</td>\n",
       "      <td>2012_14</td>\n",
       "      <td>5k</td>\n",
       "      <td>do-not-scale</td>\n",
       "      <td>penalized_logreg</td>\n",
       "      <td>nationality</td>\n",
       "      <td>drop-non-german</td>\n",
       "      <td>0.677047</td>\n",
       "      <td>0.91147</td>\n",
       "      <td>1.208795</td>\n",
       "    </tr>\n",
       "  </tbody>\n",
       "</table>\n",
       "</div>"
      ],
      "text/plain": [
       "                        universe_id universe_training_year  \\\n",
       "0  ed73904361d3049b6a37bc37458e977d                2012_14   \n",
       "\n",
       "  universe_training_size universe_scale    universe_model  \\\n",
       "0                     5k   do-not-scale  penalized_logreg   \n",
       "\n",
       "  universe_exclude_features universe_exclude_subgroups     q_hat  coverage  \\\n",
       "0               nationality            drop-non-german  0.677047   0.91147   \n",
       "\n",
       "   avg_size  \n",
       "0  1.208795  "
      ]
     },
     "execution_count": 50,
     "metadata": {},
     "output_type": "execute_result"
    }
   ],
   "source": [
    "cp_metrics_df"
   ]
  },
  {
   "cell_type": "code",
   "execution_count": 51,
   "id": "b7fbde55-a0a1-47e4-9af6-fe4a17fa8c61",
   "metadata": {
    "execution": {
     "iopub.execute_input": "2025-08-05T15:42:40.269952Z",
     "iopub.status.busy": "2025-08-05T15:42:40.269395Z",
     "iopub.status.idle": "2025-08-05T15:42:40.275011Z",
     "shell.execute_reply": "2025-08-05T15:42:40.274041Z"
    },
    "papermill": {
     "duration": 0.031072,
     "end_time": "2025-08-05T15:42:40.276679",
     "exception": false,
     "start_time": "2025-08-05T15:42:40.245607",
     "status": "completed"
    },
    "tags": []
   },
   "outputs": [],
   "source": [
    "# Conditional Coverage & looking at subgroups"
   ]
  },
  {
   "cell_type": "code",
   "execution_count": 52,
   "id": "027ae886-68dd-4141-96c7-805a5450e1ef",
   "metadata": {
    "execution": {
     "iopub.execute_input": "2025-08-05T15:42:40.322363Z",
     "iopub.status.busy": "2025-08-05T15:42:40.321823Z",
     "iopub.status.idle": "2025-08-05T15:42:40.662061Z",
     "shell.execute_reply": "2025-08-05T15:42:40.660888Z"
    },
    "papermill": {
     "duration": 0.365161,
     "end_time": "2025-08-05T15:42:40.664368",
     "exception": false,
     "start_time": "2025-08-05T15:42:40.299207",
     "status": "completed"
    },
    "tags": []
   },
   "outputs": [],
   "source": [
    "from fairness_multiverse.conformal import build_cp_groups\n",
    "\n",
    "cp_groups_df = build_cp_groups(pred_sets, y_true, X_test.index, org_test)\n",
    "#needs universe_id and setting"
   ]
  },
  {
   "cell_type": "code",
   "execution_count": 53,
   "id": "6cbdab96-b2b2-45af-ad54-d0516db2e28d",
   "metadata": {
    "execution": {
     "iopub.execute_input": "2025-08-05T15:42:40.724575Z",
     "iopub.status.busy": "2025-08-05T15:42:40.723762Z",
     "iopub.status.idle": "2025-08-05T15:42:42.795995Z",
     "shell.execute_reply": "2025-08-05T15:42:42.794777Z"
    },
    "papermill": {
     "duration": 2.103958,
     "end_time": "2025-08-05T15:42:42.798444",
     "exception": false,
     "start_time": "2025-08-05T15:42:40.694486",
     "status": "completed"
    },
    "tags": []
   },
   "outputs": [],
   "source": [
    "# Define covered = 1 if true_label is in the predicted set\n",
    "cp_groups_df['covered'] = cp_groups_df.apply(\n",
    "    lambda r: int(r['true_label'] in r['pred_set']),\n",
    "    axis=1\n",
    ")"
   ]
  },
  {
   "cell_type": "code",
   "execution_count": 54,
   "id": "338ff529-1a6b-4b87-a931-8e4788d52aad",
   "metadata": {
    "execution": {
     "iopub.execute_input": "2025-08-05T15:42:42.859264Z",
     "iopub.status.busy": "2025-08-05T15:42:42.858361Z",
     "iopub.status.idle": "2025-08-05T15:42:42.865359Z",
     "shell.execute_reply": "2025-08-05T15:42:42.863794Z"
    },
    "papermill": {
     "duration": 0.03996,
     "end_time": "2025-08-05T15:42:42.867685",
     "exception": false,
     "start_time": "2025-08-05T15:42:42.827725",
     "status": "completed"
    },
    "tags": []
   },
   "outputs": [],
   "source": [
    "#cp_groups_df"
   ]
  },
  {
   "cell_type": "code",
   "execution_count": 55,
   "id": "90032e27-66df-4540-9169-4e89cfbaa758",
   "metadata": {
    "execution": {
     "iopub.execute_input": "2025-08-05T15:42:42.927656Z",
     "iopub.status.busy": "2025-08-05T15:42:42.926754Z",
     "iopub.status.idle": "2025-08-05T15:42:42.942635Z",
     "shell.execute_reply": "2025-08-05T15:42:42.941348Z"
    },
    "papermill": {
     "duration": 0.048535,
     "end_time": "2025-08-05T15:42:42.944923",
     "exception": false,
     "start_time": "2025-08-05T15:42:42.896388",
     "status": "completed"
    },
    "tags": []
   },
   "outputs": [],
   "source": [
    "subgroups = ['frau1','nongerman','nongerman_male','nongerman_female']\n",
    "\n",
    "# Conditional coverage for subgroup==1\n",
    "cond_coverage = {\n",
    "    g: cp_groups_df.loc[cp_groups_df[g]==1, 'covered'].mean()\n",
    "    for g in subgroups\n",
    "}"
   ]
  },
  {
   "cell_type": "code",
   "execution_count": 56,
   "id": "1e348fb1-b9c3-45bc-ba23-f016827a7e0d",
   "metadata": {
    "execution": {
     "iopub.execute_input": "2025-08-05T15:42:43.005716Z",
     "iopub.status.busy": "2025-08-05T15:42:43.004589Z",
     "iopub.status.idle": "2025-08-05T15:42:43.013584Z",
     "shell.execute_reply": "2025-08-05T15:42:43.012608Z"
    },
    "papermill": {
     "duration": 0.042316,
     "end_time": "2025-08-05T15:42:43.016242",
     "exception": false,
     "start_time": "2025-08-05T15:42:42.973926",
     "status": "completed"
    },
    "tags": []
   },
   "outputs": [
    {
     "data": {
      "text/plain": [
       "{'frau1': 0.9096643752527295,\n",
       " 'nongerman': 0.9337562454387245,\n",
       " 'nongerman_male': 0.9455102224623976,\n",
       " 'nongerman_female': 0.9143070044709389}"
      ]
     },
     "execution_count": 56,
     "metadata": {},
     "output_type": "execute_result"
    }
   ],
   "source": [
    "cond_coverage"
   ]
  },
  {
   "cell_type": "code",
   "execution_count": 57,
   "id": "f5093324-c3dd-4d63-bc4c-8d945e5c8bbb",
   "metadata": {
    "execution": {
     "iopub.execute_input": "2025-08-05T15:42:43.084335Z",
     "iopub.status.busy": "2025-08-05T15:42:43.083727Z",
     "iopub.status.idle": "2025-08-05T15:42:43.094102Z",
     "shell.execute_reply": "2025-08-05T15:42:43.092485Z"
    },
    "papermill": {
     "duration": 0.046906,
     "end_time": "2025-08-05T15:42:43.096487",
     "exception": false,
     "start_time": "2025-08-05T15:42:43.049581",
     "status": "completed"
    },
    "tags": []
   },
   "outputs": [],
   "source": [
    "for subgroup, cov in cond_coverage.items():\n",
    "    cp_metrics_df[f\"cov_{subgroup}\"] = cov"
   ]
  },
  {
   "cell_type": "code",
   "execution_count": 58,
   "id": "6e872e10-dbe5-49e8-b554-5030c98ff75d",
   "metadata": {
    "execution": {
     "iopub.execute_input": "2025-08-05T15:42:43.165150Z",
     "iopub.status.busy": "2025-08-05T15:42:43.164127Z",
     "iopub.status.idle": "2025-08-05T15:42:43.187459Z",
     "shell.execute_reply": "2025-08-05T15:42:43.186398Z"
    },
    "papermill": {
     "duration": 0.05832,
     "end_time": "2025-08-05T15:42:43.188853",
     "exception": false,
     "start_time": "2025-08-05T15:42:43.130533",
     "status": "completed"
    },
    "tags": []
   },
   "outputs": [
    {
     "data": {
      "text/html": [
       "<div>\n",
       "<style scoped>\n",
       "    .dataframe tbody tr th:only-of-type {\n",
       "        vertical-align: middle;\n",
       "    }\n",
       "\n",
       "    .dataframe tbody tr th {\n",
       "        vertical-align: top;\n",
       "    }\n",
       "\n",
       "    .dataframe thead th {\n",
       "        text-align: right;\n",
       "    }\n",
       "</style>\n",
       "<table border=\"1\" class=\"dataframe\">\n",
       "  <thead>\n",
       "    <tr style=\"text-align: right;\">\n",
       "      <th></th>\n",
       "      <th>universe_id</th>\n",
       "      <th>universe_training_year</th>\n",
       "      <th>universe_training_size</th>\n",
       "      <th>universe_scale</th>\n",
       "      <th>universe_model</th>\n",
       "      <th>universe_exclude_features</th>\n",
       "      <th>universe_exclude_subgroups</th>\n",
       "      <th>q_hat</th>\n",
       "      <th>coverage</th>\n",
       "      <th>avg_size</th>\n",
       "      <th>cov_frau1</th>\n",
       "      <th>cov_nongerman</th>\n",
       "      <th>cov_nongerman_male</th>\n",
       "      <th>cov_nongerman_female</th>\n",
       "    </tr>\n",
       "  </thead>\n",
       "  <tbody>\n",
       "    <tr>\n",
       "      <th>0</th>\n",
       "      <td>ed73904361d3049b6a37bc37458e977d</td>\n",
       "      <td>2012_14</td>\n",
       "      <td>5k</td>\n",
       "      <td>do-not-scale</td>\n",
       "      <td>penalized_logreg</td>\n",
       "      <td>nationality</td>\n",
       "      <td>drop-non-german</td>\n",
       "      <td>0.677047</td>\n",
       "      <td>0.91147</td>\n",
       "      <td>1.208795</td>\n",
       "      <td>0.909664</td>\n",
       "      <td>0.933756</td>\n",
       "      <td>0.94551</td>\n",
       "      <td>0.914307</td>\n",
       "    </tr>\n",
       "  </tbody>\n",
       "</table>\n",
       "</div>"
      ],
      "text/plain": [
       "                        universe_id universe_training_year  \\\n",
       "0  ed73904361d3049b6a37bc37458e977d                2012_14   \n",
       "\n",
       "  universe_training_size universe_scale    universe_model  \\\n",
       "0                     5k   do-not-scale  penalized_logreg   \n",
       "\n",
       "  universe_exclude_features universe_exclude_subgroups     q_hat  coverage  \\\n",
       "0               nationality            drop-non-german  0.677047   0.91147   \n",
       "\n",
       "   avg_size  cov_frau1  cov_nongerman  cov_nongerman_male  \\\n",
       "0  1.208795   0.909664       0.933756             0.94551   \n",
       "\n",
       "   cov_nongerman_female  \n",
       "0              0.914307  "
      ]
     },
     "execution_count": 58,
     "metadata": {},
     "output_type": "execute_result"
    }
   ],
   "source": [
    "cp_metrics_df"
   ]
  },
  {
   "cell_type": "markdown",
   "id": "33774451",
   "metadata": {
    "papermill": {
     "duration": 0.024204,
     "end_time": "2025-08-05T15:42:43.235874",
     "exception": false,
     "start_time": "2025-08-05T15:42:43.211670",
     "status": "completed"
    },
    "tags": []
   },
   "source": [
    "# (Fairness) Metrics"
   ]
  },
  {
   "cell_type": "code",
   "execution_count": 59,
   "id": "debc5d62",
   "metadata": {
    "execution": {
     "iopub.execute_input": "2025-08-05T15:42:43.264622Z",
     "iopub.status.busy": "2025-08-05T15:42:43.264267Z",
     "iopub.status.idle": "2025-08-05T15:42:43.278296Z",
     "shell.execute_reply": "2025-08-05T15:42:43.277365Z"
    },
    "papermill": {
     "duration": 0.02832,
     "end_time": "2025-08-05T15:42:43.279720",
     "exception": false,
     "start_time": "2025-08-05T15:42:43.251400",
     "status": "completed"
    },
    "tags": []
   },
   "outputs": [],
   "source": [
    "# do I need to include maxdeutsch1.missing?\n",
    "\n",
    "import numpy as np\n",
    "\n",
    "colname_to_bin = \"maxdeutsch1\"\n",
    "majority_value = org_train[colname_to_bin].mode()[0]\n",
    "\n",
    "org_test[\"majmin\"] = np.where(org_test[colname_to_bin] == majority_value, \"majority\", \"minority\")"
   ]
  },
  {
   "cell_type": "code",
   "execution_count": 60,
   "id": "06a50de5",
   "metadata": {
    "execution": {
     "iopub.execute_input": "2025-08-05T15:42:43.305441Z",
     "iopub.status.busy": "2025-08-05T15:42:43.304729Z",
     "iopub.status.idle": "2025-08-05T15:42:46.055360Z",
     "shell.execute_reply": "2025-08-05T15:42:46.054364Z"
    },
    "papermill": {
     "duration": 2.765252,
     "end_time": "2025-08-05T15:42:46.057287",
     "exception": false,
     "start_time": "2025-08-05T15:42:43.292035",
     "status": "completed"
    },
    "tags": []
   },
   "outputs": [],
   "source": [
    "example_universe = universe.copy()\n",
    "example_universe[\"cutoff\"] = example_universe[\"cutoff\"][0]\n",
    "example_universe[\"eval_fairness_grouping\"] = example_universe[\"eval_fairness_grouping\"][0]\n",
    "fairness_dict, metric_frame = universe_analysis.compute_metrics(\n",
    "    example_universe,\n",
    "    y_pred_prob=probs_test,\n",
    "    y_test=y_true,\n",
    "    org_test=org_test,\n",
    ")"
   ]
  },
  {
   "cell_type": "markdown",
   "id": "f95d4e02",
   "metadata": {
    "papermill": {
     "duration": 0.025803,
     "end_time": "2025-08-05T15:42:46.113224",
     "exception": false,
     "start_time": "2025-08-05T15:42:46.087421",
     "status": "completed"
    },
    "tags": []
   },
   "source": [
    "# Overall"
   ]
  },
  {
   "cell_type": "markdown",
   "id": "bdee4871",
   "metadata": {
    "papermill": {
     "duration": 0.021808,
     "end_time": "2025-08-05T15:42:46.163505",
     "exception": false,
     "start_time": "2025-08-05T15:42:46.141697",
     "status": "completed"
    },
    "tags": []
   },
   "source": [
    "Fairness\n",
    "Main fairness target: Equalized Odds. Seems to be a better fit than equal opportunity, since we're not only interested in Y = 1. Seems to be a better fit than demographic parity, since we also care about accuracy, not just equal distribution of preds.\n",
    "\n",
    "Pick column for computation of fairness metrics\n",
    "\n",
    "Performance\n",
    "Overall performance measures, most interesting in relation to the measures split by group below"
   ]
  },
  {
   "cell_type": "code",
   "execution_count": 61,
   "id": "c4e067c6",
   "metadata": {
    "execution": {
     "iopub.execute_input": "2025-08-05T15:42:46.213561Z",
     "iopub.status.busy": "2025-08-05T15:42:46.212582Z",
     "iopub.status.idle": "2025-08-05T15:42:46.221740Z",
     "shell.execute_reply": "2025-08-05T15:42:46.220576Z"
    },
    "papermill": {
     "duration": 0.038446,
     "end_time": "2025-08-05T15:42:46.225875",
     "exception": false,
     "start_time": "2025-08-05T15:42:46.187429",
     "status": "completed"
    },
    "tags": []
   },
   "outputs": [
    {
     "data": {
      "text/plain": [
       "accuracy                   0.218225\n",
       "balanced accuracy          0.534879\n",
       "f1                         0.239726\n",
       "precision                  0.136947\n",
       "false positive rate        0.891051\n",
       "false negative rate        0.039190\n",
       "selection rate             0.900000\n",
       "count                  89710.000000\n",
       "dtype: float64"
      ]
     },
     "execution_count": 61,
     "metadata": {},
     "output_type": "execute_result"
    }
   ],
   "source": [
    "metric_frame.overall"
   ]
  },
  {
   "cell_type": "markdown",
   "id": "e968fe9d",
   "metadata": {
    "papermill": {
     "duration": 0.024622,
     "end_time": "2025-08-05T15:42:46.274697",
     "exception": false,
     "start_time": "2025-08-05T15:42:46.250075",
     "status": "completed"
    },
    "tags": []
   },
   "source": [
    "By Group"
   ]
  },
  {
   "cell_type": "code",
   "execution_count": 62,
   "id": "ec325bce",
   "metadata": {
    "execution": {
     "iopub.execute_input": "2025-08-05T15:42:46.322584Z",
     "iopub.status.busy": "2025-08-05T15:42:46.322036Z",
     "iopub.status.idle": "2025-08-05T15:42:46.338859Z",
     "shell.execute_reply": "2025-08-05T15:42:46.337788Z"
    },
    "papermill": {
     "duration": 0.042688,
     "end_time": "2025-08-05T15:42:46.340675",
     "exception": false,
     "start_time": "2025-08-05T15:42:46.297987",
     "status": "completed"
    },
    "tags": []
   },
   "outputs": [
    {
     "data": {
      "text/html": [
       "<div>\n",
       "<style scoped>\n",
       "    .dataframe tbody tr th:only-of-type {\n",
       "        vertical-align: middle;\n",
       "    }\n",
       "\n",
       "    .dataframe tbody tr th {\n",
       "        vertical-align: top;\n",
       "    }\n",
       "\n",
       "    .dataframe thead th {\n",
       "        text-align: right;\n",
       "    }\n",
       "</style>\n",
       "<table border=\"1\" class=\"dataframe\">\n",
       "  <thead>\n",
       "    <tr style=\"text-align: right;\">\n",
       "      <th></th>\n",
       "      <th>accuracy</th>\n",
       "      <th>balanced accuracy</th>\n",
       "      <th>f1</th>\n",
       "      <th>precision</th>\n",
       "      <th>false positive rate</th>\n",
       "      <th>false negative rate</th>\n",
       "      <th>selection rate</th>\n",
       "      <th>count</th>\n",
       "    </tr>\n",
       "    <tr>\n",
       "      <th>majmin</th>\n",
       "      <th></th>\n",
       "      <th></th>\n",
       "      <th></th>\n",
       "      <th></th>\n",
       "      <th></th>\n",
       "      <th></th>\n",
       "      <th></th>\n",
       "      <th></th>\n",
       "    </tr>\n",
       "  </thead>\n",
       "  <tbody>\n",
       "    <tr>\n",
       "      <th>majority</th>\n",
       "      <td>0.240581</td>\n",
       "      <td>0.543231</td>\n",
       "      <td>0.249361</td>\n",
       "      <td>0.143411</td>\n",
       "      <td>0.868133</td>\n",
       "      <td>0.045405</td>\n",
       "      <td>0.879558</td>\n",
       "      <td>69170.0</td>\n",
       "    </tr>\n",
       "    <tr>\n",
       "      <th>minority</th>\n",
       "      <td>0.142941</td>\n",
       "      <td>0.509018</td>\n",
       "      <td>0.209449</td>\n",
       "      <td>0.117186</td>\n",
       "      <td>0.966762</td>\n",
       "      <td>0.015203</td>\n",
       "      <td>0.968841</td>\n",
       "      <td>20540.0</td>\n",
       "    </tr>\n",
       "  </tbody>\n",
       "</table>\n",
       "</div>"
      ],
      "text/plain": [
       "          accuracy  balanced accuracy        f1  precision  \\\n",
       "majmin                                                       \n",
       "majority  0.240581           0.543231  0.249361   0.143411   \n",
       "minority  0.142941           0.509018  0.209449   0.117186   \n",
       "\n",
       "          false positive rate  false negative rate  selection rate    count  \n",
       "majmin                                                                       \n",
       "majority             0.868133             0.045405        0.879558  69170.0  \n",
       "minority             0.966762             0.015203        0.968841  20540.0  "
      ]
     },
     "execution_count": 62,
     "metadata": {},
     "output_type": "execute_result"
    }
   ],
   "source": [
    "metric_frame.by_group"
   ]
  },
  {
   "cell_type": "code",
   "execution_count": 63,
   "id": "a9ddbe63",
   "metadata": {
    "execution": {
     "iopub.execute_input": "2025-08-05T15:42:46.395896Z",
     "iopub.status.busy": "2025-08-05T15:42:46.395389Z",
     "iopub.status.idle": "2025-08-05T15:42:48.766424Z",
     "shell.execute_reply": "2025-08-05T15:42:48.765398Z"
    },
    "papermill": {
     "duration": 2.400863,
     "end_time": "2025-08-05T15:42:48.768232",
     "exception": false,
     "start_time": "2025-08-05T15:42:46.367369",
     "status": "completed"
    },
    "tags": []
   },
   "outputs": [
    {
     "data": {
      "text/plain": [
       "array([[<Axes: title={'center': 'accuracy'}, xlabel='majmin'>,\n",
       "        <Axes: title={'center': 'balanced accuracy'}, xlabel='majmin'>,\n",
       "        <Axes: title={'center': 'f1'}, xlabel='majmin'>],\n",
       "       [<Axes: title={'center': 'precision'}, xlabel='majmin'>,\n",
       "        <Axes: title={'center': 'false positive rate'}, xlabel='majmin'>,\n",
       "        <Axes: title={'center': 'false negative rate'}, xlabel='majmin'>],\n",
       "       [<Axes: title={'center': 'selection rate'}, xlabel='majmin'>,\n",
       "        <Axes: title={'center': 'count'}, xlabel='majmin'>,\n",
       "        <Axes: xlabel='majmin'>]], dtype=object)"
      ]
     },
     "execution_count": 63,
     "metadata": {},
     "output_type": "execute_result"
    },
    {
     "data": {
      "image/png": "[encoded data removed]",
      "text/plain": [
       "<Figure size 1200x800 with 9 Axes>"
      ]
     },
     "metadata": {},
     "output_type": "display_data"
    }
   ],
   "source": [
    "# In a graphic\n",
    "metric_frame.by_group.plot.bar(\n",
    "    subplots=True,\n",
    "    layout=[3, 3],\n",
    "    legend=False,\n",
    "    figsize=[12, 8],\n",
    "    title=\"Show all metrics\",\n",
    ")"
   ]
  },
  {
   "cell_type": "markdown",
   "id": "f57a0bac",
   "metadata": {
    "papermill": {
     "duration": 0.02859,
     "end_time": "2025-08-05T15:42:48.826301",
     "exception": false,
     "start_time": "2025-08-05T15:42:48.797711",
     "status": "completed"
    },
    "tags": []
   },
   "source": [
    "# Final Output"
   ]
  },
  {
   "cell_type": "code",
   "execution_count": 64,
   "id": "96d280a3",
   "metadata": {
    "execution": {
     "iopub.execute_input": "2025-08-05T15:42:48.887785Z",
     "iopub.status.busy": "2025-08-05T15:42:48.887108Z",
     "iopub.status.idle": "2025-08-05T15:42:48.895916Z",
     "shell.execute_reply": "2025-08-05T15:42:48.894818Z"
    },
    "papermill": {
     "duration": 0.041943,
     "end_time": "2025-08-05T15:42:48.897880",
     "exception": false,
     "start_time": "2025-08-05T15:42:48.855937",
     "status": "completed"
    },
    "tags": []
   },
   "outputs": [
    {
     "data": {
      "text/plain": [
       "4"
      ]
     },
     "execution_count": 64,
     "metadata": {},
     "output_type": "execute_result"
    }
   ],
   "source": [
    "sub_universes = universe_analysis.generate_sub_universes()\n",
    "len(sub_universes)"
   ]
  },
  {
   "cell_type": "code",
   "execution_count": 65,
   "id": "92adf7ba",
   "metadata": {
    "execution": {
     "iopub.execute_input": "2025-08-05T15:42:48.961952Z",
     "iopub.status.busy": "2025-08-05T15:42:48.961371Z",
     "iopub.status.idle": "2025-08-05T15:42:48.968464Z",
     "shell.execute_reply": "2025-08-05T15:42:48.967394Z"
    },
    "papermill": {
     "duration": 0.041922,
     "end_time": "2025-08-05T15:42:48.970437",
     "exception": false,
     "start_time": "2025-08-05T15:42:48.928515",
     "status": "completed"
    },
    "tags": []
   },
   "outputs": [],
   "source": [
    "def filter_sub_universe_data(sub_universe, org_test):\n",
    "    # Keep all rows — no filtering\n",
    "    keep_rows_mask = np.ones(org_test.shape[0], dtype=bool)\n",
    "\n",
    "    print(f\"[INFO] Keeping all rows: {keep_rows_mask.sum()} rows retained.\")\n",
    "    return keep_rows_mask"
   ]
  },
  {
   "cell_type": "code",
   "execution_count": 66,
   "id": "4a759155",
   "metadata": {
    "execution": {
     "iopub.execute_input": "2025-08-05T15:42:49.034225Z",
     "iopub.status.busy": "2025-08-05T15:42:49.033618Z",
     "iopub.status.idle": "2025-08-05T15:42:58.512226Z",
     "shell.execute_reply": "2025-08-05T15:42:58.511096Z"
    },
    "papermill": {
     "duration": 9.511259,
     "end_time": "2025-08-05T15:42:58.514119",
     "exception": false,
     "start_time": "2025-08-05T15:42:49.002860",
     "status": "completed"
    },
    "tags": []
   },
   "outputs": [
    {
     "name": "stdout",
     "output_type": "stream",
     "text": [
      "Stopping execution_time clock.\n",
      "[INFO] Keeping all rows: 89710 rows retained.\n"
     ]
    },
    {
     "name": "stdout",
     "output_type": "stream",
     "text": [
      "[INFO] Keeping all rows: 89710 rows retained.\n"
     ]
    },
    {
     "name": "stdout",
     "output_type": "stream",
     "text": [
      "[INFO] Keeping all rows: 89710 rows retained.\n"
     ]
    },
    {
     "name": "stdout",
     "output_type": "stream",
     "text": [
      "[INFO] Keeping all rows: 89710 rows retained.\n"
     ]
    },
    {
     "data": {
      "text/html": [
       "<div>\n",
       "<style scoped>\n",
       "    .dataframe tbody tr th:only-of-type {\n",
       "        vertical-align: middle;\n",
       "    }\n",
       "\n",
       "    .dataframe tbody tr th {\n",
       "        vertical-align: top;\n",
       "    }\n",
       "\n",
       "    .dataframe thead th {\n",
       "        text-align: right;\n",
       "    }\n",
       "</style>\n",
       "<table border=\"1\" class=\"dataframe\">\n",
       "  <thead>\n",
       "    <tr style=\"text-align: right;\">\n",
       "      <th></th>\n",
       "      <th>run_no</th>\n",
       "      <th>universe_id</th>\n",
       "      <th>universe_settings</th>\n",
       "      <th>execution_time</th>\n",
       "      <th>test_size_n</th>\n",
       "      <th>test_size_frac</th>\n",
       "      <th>fair_main_equalized_odds_difference</th>\n",
       "      <th>fair_main_equalized_odds_ratio</th>\n",
       "      <th>fair_main_demographic_parity_difference</th>\n",
       "      <th>fair_main_demographic_parity_ratio</th>\n",
       "      <th>...</th>\n",
       "      <th>perf_grp_precision_0</th>\n",
       "      <th>perf_grp_precision_1</th>\n",
       "      <th>perf_grp_false positive rate_0</th>\n",
       "      <th>perf_grp_false positive rate_1</th>\n",
       "      <th>perf_grp_false negative rate_0</th>\n",
       "      <th>perf_grp_false negative rate_1</th>\n",
       "      <th>perf_grp_selection rate_0</th>\n",
       "      <th>perf_grp_selection rate_1</th>\n",
       "      <th>perf_grp_count_0</th>\n",
       "      <th>perf_grp_count_1</th>\n",
       "    </tr>\n",
       "  </thead>\n",
       "  <tbody>\n",
       "    <tr>\n",
       "      <th>0</th>\n",
       "      <td>15</td>\n",
       "      <td>ed73904361d3049b6a37bc37458e977d</td>\n",
       "      <td>{\"cutoff\": \"quantile_0.1\", \"eval_fairness_grou...</td>\n",
       "      <td>28.388782</td>\n",
       "      <td>89710</td>\n",
       "      <td>1.0</td>\n",
       "      <td>0.098629</td>\n",
       "      <td>0.897980</td>\n",
       "      <td>0.089284</td>\n",
       "      <td>0.907845</td>\n",
       "      <td>...</td>\n",
       "      <td>NaN</td>\n",
       "      <td>NaN</td>\n",
       "      <td>NaN</td>\n",
       "      <td>NaN</td>\n",
       "      <td>NaN</td>\n",
       "      <td>NaN</td>\n",
       "      <td>NaN</td>\n",
       "      <td>NaN</td>\n",
       "      <td>NaN</td>\n",
       "      <td>NaN</td>\n",
       "    </tr>\n",
       "    <tr>\n",
       "      <th>0</th>\n",
       "      <td>15</td>\n",
       "      <td>ed73904361d3049b6a37bc37458e977d</td>\n",
       "      <td>{\"cutoff\": \"quantile_0.1\", \"eval_fairness_grou...</td>\n",
       "      <td>28.388782</td>\n",
       "      <td>89710</td>\n",
       "      <td>1.0</td>\n",
       "      <td>0.098629</td>\n",
       "      <td>0.897980</td>\n",
       "      <td>0.089284</td>\n",
       "      <td>0.907845</td>\n",
       "      <td>...</td>\n",
       "      <td>0.117186</td>\n",
       "      <td>0.143411</td>\n",
       "      <td>0.966762</td>\n",
       "      <td>0.868133</td>\n",
       "      <td>0.015203</td>\n",
       "      <td>0.045405</td>\n",
       "      <td>0.968841</td>\n",
       "      <td>0.879558</td>\n",
       "      <td>20540.0</td>\n",
       "      <td>69170.0</td>\n",
       "    </tr>\n",
       "    <tr>\n",
       "      <th>0</th>\n",
       "      <td>15</td>\n",
       "      <td>ed73904361d3049b6a37bc37458e977d</td>\n",
       "      <td>{\"cutoff\": \"quantile_0.25\", \"eval_fairness_gro...</td>\n",
       "      <td>28.388782</td>\n",
       "      <td>89710</td>\n",
       "      <td>1.0</td>\n",
       "      <td>0.222561</td>\n",
       "      <td>0.753045</td>\n",
       "      <td>0.203516</td>\n",
       "      <td>0.775595</td>\n",
       "      <td>...</td>\n",
       "      <td>NaN</td>\n",
       "      <td>NaN</td>\n",
       "      <td>NaN</td>\n",
       "      <td>NaN</td>\n",
       "      <td>NaN</td>\n",
       "      <td>NaN</td>\n",
       "      <td>NaN</td>\n",
       "      <td>NaN</td>\n",
       "      <td>NaN</td>\n",
       "      <td>NaN</td>\n",
       "    </tr>\n",
       "    <tr>\n",
       "      <th>0</th>\n",
       "      <td>15</td>\n",
       "      <td>ed73904361d3049b6a37bc37458e977d</td>\n",
       "      <td>{\"cutoff\": \"quantile_0.25\", \"eval_fairness_gro...</td>\n",
       "      <td>28.388782</td>\n",
       "      <td>89710</td>\n",
       "      <td>1.0</td>\n",
       "      <td>0.222561</td>\n",
       "      <td>0.753045</td>\n",
       "      <td>0.203516</td>\n",
       "      <td>0.775595</td>\n",
       "      <td>...</td>\n",
       "      <td>0.120840</td>\n",
       "      <td>0.162659</td>\n",
       "      <td>0.901222</td>\n",
       "      <td>0.678661</td>\n",
       "      <td>0.049409</td>\n",
       "      <td>0.134136</td>\n",
       "      <td>0.906913</td>\n",
       "      <td>0.703397</td>\n",
       "      <td>20540.0</td>\n",
       "      <td>69170.0</td>\n",
       "    </tr>\n",
       "  </tbody>\n",
       "</table>\n",
       "<p>4 rows × 50 columns</p>\n",
       "</div>"
      ],
      "text/plain": [
       "  run_no                       universe_id  \\\n",
       "0     15  ed73904361d3049b6a37bc37458e977d   \n",
       "0     15  ed73904361d3049b6a37bc37458e977d   \n",
       "0     15  ed73904361d3049b6a37bc37458e977d   \n",
       "0     15  ed73904361d3049b6a37bc37458e977d   \n",
       "\n",
       "                                   universe_settings  execution_time  \\\n",
       "0  {\"cutoff\": \"quantile_0.1\", \"eval_fairness_grou...       28.388782   \n",
       "0  {\"cutoff\": \"quantile_0.1\", \"eval_fairness_grou...       28.388782   \n",
       "0  {\"cutoff\": \"quantile_0.25\", \"eval_fairness_gro...       28.388782   \n",
       "0  {\"cutoff\": \"quantile_0.25\", \"eval_fairness_gro...       28.388782   \n",
       "\n",
       "   test_size_n  test_size_frac  fair_main_equalized_odds_difference  \\\n",
       "0        89710             1.0                             0.098629   \n",
       "0        89710             1.0                             0.098629   \n",
       "0        89710             1.0                             0.222561   \n",
       "0        89710             1.0                             0.222561   \n",
       "\n",
       "   fair_main_equalized_odds_ratio  fair_main_demographic_parity_difference  \\\n",
       "0                        0.897980                                 0.089284   \n",
       "0                        0.897980                                 0.089284   \n",
       "0                        0.753045                                 0.203516   \n",
       "0                        0.753045                                 0.203516   \n",
       "\n",
       "   fair_main_demographic_parity_ratio  ...  perf_grp_precision_0  \\\n",
       "0                            0.907845  ...                   NaN   \n",
       "0                            0.907845  ...              0.117186   \n",
       "0                            0.775595  ...                   NaN   \n",
       "0                            0.775595  ...              0.120840   \n",
       "\n",
       "   perf_grp_precision_1  perf_grp_false positive rate_0  \\\n",
       "0                   NaN                             NaN   \n",
       "0              0.143411                        0.966762   \n",
       "0                   NaN                             NaN   \n",
       "0              0.162659                        0.901222   \n",
       "\n",
       "   perf_grp_false positive rate_1  perf_grp_false negative rate_0  \\\n",
       "0                             NaN                             NaN   \n",
       "0                        0.868133                        0.015203   \n",
       "0                             NaN                             NaN   \n",
       "0                        0.678661                        0.049409   \n",
       "\n",
       "   perf_grp_false negative rate_1  perf_grp_selection rate_0  \\\n",
       "0                             NaN                        NaN   \n",
       "0                        0.045405                   0.968841   \n",
       "0                             NaN                        NaN   \n",
       "0                        0.134136                   0.906913   \n",
       "\n",
       "   perf_grp_selection rate_1  perf_grp_count_0  perf_grp_count_1  \n",
       "0                        NaN               NaN               NaN  \n",
       "0                   0.879558           20540.0           69170.0  \n",
       "0                        NaN               NaN               NaN  \n",
       "0                   0.703397           20540.0           69170.0  \n",
       "\n",
       "[4 rows x 50 columns]"
      ]
     },
     "execution_count": 66,
     "metadata": {},
     "output_type": "execute_result"
    }
   ],
   "source": [
    "final_output = universe_analysis.generate_final_output(\n",
    "    y_pred_prob=probs_test,\n",
    "    y_test=y_true,\n",
    "    org_test=org_test,\n",
    "    filter_data=filter_sub_universe_data,\n",
    "    cp_metrics_df=cp_metrics_df,\n",
    "    save=True,\n",
    ")\n",
    "final_output"
   ]
  }
 ],
 "metadata": {
  "celltoolbar": "Tags",
  "kernelspec": {
   "display_name": "Python (CMA Fairness)",
   "language": "python",
   "name": "cma_fair_env"
  },
  "language_info": {
   "codemirror_mode": {
    "name": "ipython",
    "version": 3
   },
   "file_extension": ".py",
   "mimetype": "text/x-python",
   "name": "python",
   "nbconvert_exporter": "python",
   "pygments_lexer": "ipython3",
   "version": "3.10.12"
  },
  "papermill": {
   "default_parameters": {},
   "duration": 45.03512,
   "end_time": "2025-08-05T15:42:59.163969",
   "environment_variables": {},
   "exception": null,
   "input_path": "universe_analysis.ipynb",
   "output_path": "output/runs/15/notebooks/m_15-ed73904361d3049b6a37bc37458e977d.ipynb",
   "parameters": {
    "output_dir": "output",
    "run_no": "15",
    "seed": "2023",
    "universe": "{\"cutoff\": [\"quantile_0.1\", \"quantile_0.25\"], \"eval_fairness_grouping\": [\"majority-minority\", \"nationality-all\"], \"exclude_features\": \"nationality\", \"exclude_subgroups\": \"drop-non-german\", \"model\": \"penalized_logreg\", \"scale\": \"do-not-scale\", \"training_size\": \"5k\", \"training_year\": \"2012_14\"}",
    "universe_id": "ed73904361d3049b6a37bc37458e977d"
   },
   "start_time": "2025-08-05T15:42:14.128849",
   "version": "2.6.0"
  }
 },
 "nbformat": 4,
 "nbformat_minor": 5
}