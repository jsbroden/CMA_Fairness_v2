{
 "cells": [
  {
   "cell_type": "code",
   "execution_count": 1,
   "id": "f159f837-637b-42ba-96b5-ec9a68c44524",
   "metadata": {
    "execution": {
     "iopub.execute_input": "2025-08-05T16:08:28.381772Z",
     "iopub.status.busy": "2025-08-05T16:08:28.380462Z",
     "iopub.status.idle": "2025-08-05T16:08:28.398097Z",
     "shell.execute_reply": "2025-08-05T16:08:28.396823Z"
    },
    "papermill": {
     "duration": 0.041436,
     "end_time": "2025-08-05T16:08:28.400120",
     "exception": false,
     "start_time": "2025-08-05T16:08:28.358684",
     "status": "completed"
    },
    "tags": []
   },
   "outputs": [
    {
     "name": "stdout",
     "output_type": "stream",
     "text": [
      "/dss/dsshome1/0C/ra93lal2/cma/CMA_Fairness_v2\n"
     ]
    },
    {
     "name": "stderr",
     "output_type": "stream",
     "text": [
      "/dss/dsshome1/0C/ra93lal2/.local/share/virtualenvs/CMA_Fairness_v2-3j10GkSs/lib/python3.10/site-packages/IPython/core/magics/osm.py:393: UserWarning: This is now an optional IPython functionality, using bookmarks requires you to install the `pickleshare` library.\n",
      "  bkms = self.shell.db.get('bookmarks', {})\n",
      "/dss/dsshome1/0C/ra93lal2/.local/share/virtualenvs/CMA_Fairness_v2-3j10GkSs/lib/python3.10/site-packages/IPython/core/magics/osm.py:417: UserWarning: This is now an optional IPython functionality, setting dhist requires you to install the `pickleshare` library.\n",
      "  self.shell.db['dhist'] = compress_dhist(dhist)[-100:]\n"
     ]
    }
   ],
   "source": [
    "%cd ~/cma/CMA_Fairness_v2"
   ]
  },
  {
   "cell_type": "markdown",
   "id": "de2603b9",
   "metadata": {
    "papermill": {
     "duration": 0.019206,
     "end_time": "2025-08-05T16:08:28.438722",
     "exception": false,
     "start_time": "2025-08-05T16:08:28.419516",
     "status": "completed"
    },
    "tags": []
   },
   "source": [
    "The following cell holds the definition of our parameters, these values can be overriden by rendering the with e.g. the following command:\n",
    "\n",
    "papermill -p alpha 0.2 -p ratio 0.3 universe_analysis.ipynb output/test_run.ipynb"
   ]
  },
  {
   "cell_type": "code",
   "execution_count": 2,
   "id": "a80968a0-40bb-4fa9-85ef-2d5eefb01975",
   "metadata": {
    "execution": {
     "iopub.execute_input": "2025-08-05T16:08:28.480633Z",
     "iopub.status.busy": "2025-08-05T16:08:28.479641Z",
     "iopub.status.idle": "2025-08-05T16:08:28.485754Z",
     "shell.execute_reply": "2025-08-05T16:08:28.484507Z"
    },
    "papermill": {
     "duration": 0.029559,
     "end_time": "2025-08-05T16:08:28.488096",
     "exception": false,
     "start_time": "2025-08-05T16:08:28.458537",
     "status": "completed"
    },
    "tags": []
   },
   "outputs": [
    {
     "name": "stdout",
     "output_type": "stream",
     "text": [
      "Current working directory: /dss/dsshome1/0C/ra93lal2/cma/CMA_Fairness_v2\n"
     ]
    }
   ],
   "source": [
    "import os\n",
    "print(\"Current working directory:\", os.getcwd())"
   ]
  },
  {
   "cell_type": "code",
   "execution_count": 3,
   "id": "2dce4c03",
   "metadata": {
    "execution": {
     "iopub.execute_input": "2025-08-05T16:08:28.594948Z",
     "iopub.status.busy": "2025-08-05T16:08:28.594494Z",
     "iopub.status.idle": "2025-08-05T16:08:28.609724Z",
     "shell.execute_reply": "2025-08-05T16:08:28.608755Z"
    },
    "papermill": {
     "duration": 0.027309,
     "end_time": "2025-08-05T16:08:28.611214",
     "exception": false,
     "start_time": "2025-08-05T16:08:28.583905",
     "status": "completed"
    },
    "tags": [
     "parameters"
    ]
   },
   "outputs": [],
   "source": [
    "run_no = 0\n",
    "universe_id = \"test\"\n",
    "universe = {\n",
    "    \"training_size\": \"25k\", # \"25k\", \"5k\", \"1k\"\n",
    "    \"training_year\": \"2014\", # \"2014\", \"2012_14\", \"2010_14\"\n",
    "    \"scale\": \"scale\", # \"scale\", \"do-not-scale\",\n",
    "    \"model\": \"elasticnet\", # \"logreg\", \"penalized_logreg\", \"rf\", \"gbm\", \"elasticnet\"\n",
    "    \"cutoff\": [\"quantile_0.15\", \"quantile_0.30\"],\n",
    "    \"exclude_features\": \"age\", # \"none\", \"nationality\", \"sex\", \"nationality-sex\", \"age\"\n",
    "    \"exclude_subgroups\": \"keep-all\", # \"keep-all\", \"drop-non-german\"\n",
    "    \"eval_fairness_grouping\": [\"majority-minority\", \"nationality-all\"]\n",
    "}\n",
    "\n",
    "output_dir=\"./output\"\n",
    "seed=0"
   ]
  },
  {
   "cell_type": "code",
   "execution_count": 4,
   "id": "b811951c",
   "metadata": {
    "execution": {
     "iopub.execute_input": "2025-08-05T16:08:28.630900Z",
     "iopub.status.busy": "2025-08-05T16:08:28.630613Z",
     "iopub.status.idle": "2025-08-05T16:08:28.635105Z",
     "shell.execute_reply": "2025-08-05T16:08:28.633952Z"
    },
    "papermill": {
     "duration": 0.016457,
     "end_time": "2025-08-05T16:08:28.637325",
     "exception": false,
     "start_time": "2025-08-05T16:08:28.620868",
     "status": "completed"
    },
    "tags": [
     "injected-parameters"
    ]
   },
   "outputs": [],
   "source": [
    "# Parameters\n",
    "universe_id = \"4cc8c81eff71d8c6e8bc54b89116759b\"\n",
    "run_no = \"15\"\n",
    "universe = \"{\\\"cutoff\\\": [\\\"quantile_0.1\\\", \\\"quantile_0.25\\\"], \\\"eval_fairness_grouping\\\": [\\\"majority-minority\\\", \\\"nationality-all\\\"], \\\"exclude_features\\\": \\\"nationality\\\", \\\"exclude_subgroups\\\": \\\"keep-all\\\", \\\"model\\\": \\\"logreg\\\", \\\"scale\\\": \\\"do-not-scale\\\", \\\"training_size\\\": \\\"1k\\\", \\\"training_year\\\": \\\"2014\\\"}\"\n",
    "output_dir = \"output\"\n",
    "seed = \"2023\"\n"
   ]
  },
  {
   "cell_type": "code",
   "execution_count": 5,
   "id": "1650acaf",
   "metadata": {
    "execution": {
     "iopub.execute_input": "2025-08-05T16:08:28.659830Z",
     "iopub.status.busy": "2025-08-05T16:08:28.659279Z",
     "iopub.status.idle": "2025-08-05T16:08:28.663730Z",
     "shell.execute_reply": "2025-08-05T16:08:28.662953Z"
    },
    "papermill": {
     "duration": 0.016402,
     "end_time": "2025-08-05T16:08:28.665055",
     "exception": false,
     "start_time": "2025-08-05T16:08:28.648653",
     "status": "completed"
    },
    "tags": []
   },
   "outputs": [],
   "source": [
    "import json\n",
    "if isinstance(universe, str):\n",
    "    universe = json.loads(universe)"
   ]
  },
  {
   "cell_type": "code",
   "execution_count": 6,
   "id": "16620c48",
   "metadata": {
    "execution": {
     "iopub.execute_input": "2025-08-05T16:08:28.685958Z",
     "iopub.status.busy": "2025-08-05T16:08:28.685534Z",
     "iopub.status.idle": "2025-08-05T16:08:28.713153Z",
     "shell.execute_reply": "2025-08-05T16:08:28.712485Z"
    },
    "papermill": {
     "duration": 0.038996,
     "end_time": "2025-08-05T16:08:28.714409",
     "exception": false,
     "start_time": "2025-08-05T16:08:28.675413",
     "status": "completed"
    },
    "tags": []
   },
   "outputs": [],
   "source": [
    "# Auto-reload the custom package\n",
    "%load_ext autoreload\n",
    "%autoreload 1\n",
    "%aimport fairness_multiverse"
   ]
  },
  {
   "cell_type": "code",
   "execution_count": 7,
   "id": "01c5c9f3",
   "metadata": {
    "execution": {
     "iopub.execute_input": "2025-08-05T16:08:28.744102Z",
     "iopub.status.busy": "2025-08-05T16:08:28.743627Z",
     "iopub.status.idle": "2025-08-05T16:08:30.745586Z",
     "shell.execute_reply": "2025-08-05T16:08:30.744097Z"
    },
    "papermill": {
     "duration": 2.024187,
     "end_time": "2025-08-05T16:08:30.747776",
     "exception": false,
     "start_time": "2025-08-05T16:08:28.723589",
     "status": "completed"
    },
    "tags": []
   },
   "outputs": [],
   "source": [
    "from fairness_multiverse.universe import UniverseAnalysis\n",
    "\n",
    "universe_analysis = UniverseAnalysis(\n",
    "    run_no = run_no,\n",
    "    universe_id = universe_id,\n",
    "    universe = universe,\n",
    "    output_dir=output_dir,\n",
    ")"
   ]
  },
  {
   "cell_type": "code",
   "execution_count": 8,
   "id": "106241f5",
   "metadata": {
    "execution": {
     "iopub.execute_input": "2025-08-05T16:08:30.790854Z",
     "iopub.status.busy": "2025-08-05T16:08:30.789923Z",
     "iopub.status.idle": "2025-08-05T16:08:30.798587Z",
     "shell.execute_reply": "2025-08-05T16:08:30.797221Z"
    },
    "papermill": {
     "duration": 0.032378,
     "end_time": "2025-08-05T16:08:30.800711",
     "exception": false,
     "start_time": "2025-08-05T16:08:30.768333",
     "status": "completed"
    },
    "tags": []
   },
   "outputs": [
    {
     "name": "stdout",
     "output_type": "stream",
     "text": [
      "Using Seed: 2023\n"
     ]
    }
   ],
   "source": [
    "import numpy as np\n",
    "parsed_seed = int(seed)\n",
    "np.random.seed(parsed_seed)\n",
    "print(f\"Using Seed: {parsed_seed}\")"
   ]
  },
  {
   "cell_type": "markdown",
   "id": "e0ebdc57",
   "metadata": {
    "papermill": {
     "duration": 0.021689,
     "end_time": "2025-08-05T16:08:30.843946",
     "exception": false,
     "start_time": "2025-08-05T16:08:30.822257",
     "status": "completed"
    },
    "tags": []
   },
   "source": [
    "# Loading Data"
   ]
  },
  {
   "cell_type": "code",
   "execution_count": 9,
   "id": "f0496b8a",
   "metadata": {
    "execution": {
     "iopub.execute_input": "2025-08-05T16:08:30.886997Z",
     "iopub.status.busy": "2025-08-05T16:08:30.886492Z",
     "iopub.status.idle": "2025-08-05T16:08:43.825850Z",
     "shell.execute_reply": "2025-08-05T16:08:43.824723Z"
    },
    "papermill": {
     "duration": 12.962167,
     "end_time": "2025-08-05T16:08:43.827497",
     "exception": false,
     "start_time": "2025-08-05T16:08:30.865330",
     "status": "completed"
    },
    "tags": []
   },
   "outputs": [
    {
     "name": "stdout",
     "output_type": "stream",
     "text": [
      "Loading SIAB data from cache: data/siab_cached.csv.gz\n"
     ]
    },
    {
     "name": "stdout",
     "output_type": "stream",
     "text": [
      "(643690, 164)\n"
     ]
    }
   ],
   "source": [
    "from pathlib import Path\n",
    "import pandas as pd\n",
    "\n",
    "# File paths\n",
    "raw_file = Path(\"data/raw/siab.csv\")\n",
    "cache_file = Path(\"data/siab_cached.csv.gz\")\n",
    "\n",
    "# Ensure cache directory exists\n",
    "cache_file.parent.mkdir(parents=True, exist_ok=True)\n",
    "\n",
    "# Load with simple caching\n",
    "if cache_file.exists():\n",
    "    print(f\"Loading SIAB data from cache: {cache_file}\")\n",
    "    siab = pd.read_csv(cache_file, compression='gzip')\n",
    "else:\n",
    "    print(f\"Cache not found. Reading raw SIAB data: {raw_file}\")\n",
    "    siab = pd.read_csv(raw_file)\n",
    "    siab.to_csv(cache_file, index=False, compression='gzip')\n",
    "    print(f\"Cached SIAB data to: {cache_file}\")\n",
    "\n",
    "print(siab.shape)"
   ]
  },
  {
   "cell_type": "code",
   "execution_count": 10,
   "id": "db0ca512-5f53-4dba-abdb-a2888bca41ba",
   "metadata": {
    "execution": {
     "iopub.execute_input": "2025-08-05T16:08:43.867034Z",
     "iopub.status.busy": "2025-08-05T16:08:43.866573Z",
     "iopub.status.idle": "2025-08-05T16:08:43.871895Z",
     "shell.execute_reply": "2025-08-05T16:08:43.870857Z"
    },
    "papermill": {
     "duration": 0.02691,
     "end_time": "2025-08-05T16:08:43.874116",
     "exception": false,
     "start_time": "2025-08-05T16:08:43.847206",
     "status": "completed"
    },
    "tags": []
   },
   "outputs": [],
   "source": [
    "#siab"
   ]
  },
  {
   "cell_type": "markdown",
   "id": "997051c5-15bd-4b69-9786-c3001a3ce484",
   "metadata": {
    "papermill": {
     "duration": 0.018874,
     "end_time": "2025-08-05T16:08:43.912714",
     "exception": false,
     "start_time": "2025-08-05T16:08:43.893840",
     "status": "completed"
    },
    "tags": []
   },
   "source": [
    "# Splitting Data and Setting Training Data Size"
   ]
  },
  {
   "cell_type": "code",
   "execution_count": 11,
   "id": "aea9c6ef-6f46-42c8-85eb-5a62025c1508",
   "metadata": {
    "execution": {
     "iopub.execute_input": "2025-08-05T16:08:43.952055Z",
     "iopub.status.busy": "2025-08-05T16:08:43.951733Z",
     "iopub.status.idle": "2025-08-05T16:08:44.203530Z",
     "shell.execute_reply": "2025-08-05T16:08:44.202576Z"
    },
    "papermill": {
     "duration": 0.273812,
     "end_time": "2025-08-05T16:08:44.205539",
     "exception": false,
     "start_time": "2025-08-05T16:08:43.931727",
     "status": "completed"
    },
    "tags": []
   },
   "outputs": [],
   "source": [
    "from fairness_multiverse.universe import sample_by_year_size\n",
    "\n",
    "siab_train = sample_by_year_size(siab,\n",
    "                               training_year=universe[\"training_year\"],\n",
    "                               training_size=universe[\"training_size\"])"
   ]
  },
  {
   "cell_type": "code",
   "execution_count": 12,
   "id": "8d3afb32-789d-442c-8d5d-9f5aa8dd2eed",
   "metadata": {
    "execution": {
     "iopub.execute_input": "2025-08-05T16:08:44.247251Z",
     "iopub.status.busy": "2025-08-05T16:08:44.246468Z",
     "iopub.status.idle": "2025-08-05T16:08:44.251681Z",
     "shell.execute_reply": "2025-08-05T16:08:44.250770Z"
    },
    "papermill": {
     "duration": 0.027321,
     "end_time": "2025-08-05T16:08:44.253360",
     "exception": false,
     "start_time": "2025-08-05T16:08:44.226039",
     "status": "completed"
    },
    "tags": []
   },
   "outputs": [],
   "source": [
    "#siab_train.shape"
   ]
  },
  {
   "cell_type": "code",
   "execution_count": 13,
   "id": "d582db68-1a4c-47fb-84fc-08518dc1975a",
   "metadata": {
    "execution": {
     "iopub.execute_input": "2025-08-05T16:08:44.288560Z",
     "iopub.status.busy": "2025-08-05T16:08:44.288076Z",
     "iopub.status.idle": "2025-08-05T16:08:44.292935Z",
     "shell.execute_reply": "2025-08-05T16:08:44.291846Z"
    },
    "papermill": {
     "duration": 0.023304,
     "end_time": "2025-08-05T16:08:44.294524",
     "exception": false,
     "start_time": "2025-08-05T16:08:44.271220",
     "status": "completed"
    },
    "tags": []
   },
   "outputs": [],
   "source": [
    "#display(siab_train.groupby(\"year\").size())"
   ]
  },
  {
   "cell_type": "code",
   "execution_count": 14,
   "id": "a561edb4-d032-42cb-8256-22eac1111c64",
   "metadata": {
    "execution": {
     "iopub.execute_input": "2025-08-05T16:08:44.329351Z",
     "iopub.status.busy": "2025-08-05T16:08:44.328877Z",
     "iopub.status.idle": "2025-08-05T16:08:44.586741Z",
     "shell.execute_reply": "2025-08-05T16:08:44.585782Z"
    },
    "papermill": {
     "duration": 0.276888,
     "end_time": "2025-08-05T16:08:44.588626",
     "exception": false,
     "start_time": "2025-08-05T16:08:44.311738",
     "status": "completed"
    },
    "tags": []
   },
   "outputs": [],
   "source": [
    "#siab_train = siab_s[siab_s.year < 2015]\n",
    "siab_calib = siab[siab.year == 2015]\n",
    "siab_test = siab[siab.year == 2016]"
   ]
  },
  {
   "cell_type": "code",
   "execution_count": 15,
   "id": "472de16f-c3db-4916-846b-1f0de9cf1746",
   "metadata": {
    "execution": {
     "iopub.execute_input": "2025-08-05T16:08:44.623292Z",
     "iopub.status.busy": "2025-08-05T16:08:44.622679Z",
     "iopub.status.idle": "2025-08-05T16:08:44.629457Z",
     "shell.execute_reply": "2025-08-05T16:08:44.628483Z"
    },
    "papermill": {
     "duration": 0.02603,
     "end_time": "2025-08-05T16:08:44.631525",
     "exception": false,
     "start_time": "2025-08-05T16:08:44.605495",
     "status": "completed"
    },
    "tags": []
   },
   "outputs": [],
   "source": [
    "X_train = siab_train.iloc[:,4:164]\n",
    "y_train = siab_train.iloc[:, [3]]"
   ]
  },
  {
   "cell_type": "code",
   "execution_count": 16,
   "id": "828c96af-f43a-4ed6-ba47-8ac73a47d56c",
   "metadata": {
    "execution": {
     "iopub.execute_input": "2025-08-05T16:08:44.672786Z",
     "iopub.status.busy": "2025-08-05T16:08:44.672481Z",
     "iopub.status.idle": "2025-08-05T16:08:44.721464Z",
     "shell.execute_reply": "2025-08-05T16:08:44.720273Z"
    },
    "papermill": {
     "duration": 0.071483,
     "end_time": "2025-08-05T16:08:44.723364",
     "exception": false,
     "start_time": "2025-08-05T16:08:44.651881",
     "status": "completed"
    },
    "tags": []
   },
   "outputs": [],
   "source": [
    "X_calib = siab_calib.iloc[:,4:164]\n",
    "y_calib = siab_calib.iloc[:, [3]]"
   ]
  },
  {
   "cell_type": "code",
   "execution_count": 17,
   "id": "c34be9c3-6bd6-476e-acd3-845840e303be",
   "metadata": {
    "execution": {
     "iopub.execute_input": "2025-08-05T16:08:44.766155Z",
     "iopub.status.busy": "2025-08-05T16:08:44.765230Z",
     "iopub.status.idle": "2025-08-05T16:08:44.821027Z",
     "shell.execute_reply": "2025-08-05T16:08:44.819865Z"
    },
    "papermill": {
     "duration": 0.078781,
     "end_time": "2025-08-05T16:08:44.823324",
     "exception": false,
     "start_time": "2025-08-05T16:08:44.744543",
     "status": "completed"
    },
    "tags": []
   },
   "outputs": [],
   "source": [
    "X_test = siab_test.iloc[:,4:164]\n",
    "y_true = siab_test.iloc[:, [3]]"
   ]
  },
  {
   "cell_type": "code",
   "execution_count": 18,
   "id": "e6c733c5",
   "metadata": {
    "execution": {
     "iopub.execute_input": "2025-08-05T16:08:44.860343Z",
     "iopub.status.busy": "2025-08-05T16:08:44.859728Z",
     "iopub.status.idle": "2025-08-05T16:08:44.954176Z",
     "shell.execute_reply": "2025-08-05T16:08:44.953353Z"
    },
    "papermill": {
     "duration": 0.115828,
     "end_time": "2025-08-05T16:08:44.957357",
     "exception": false,
     "start_time": "2025-08-05T16:08:44.841529",
     "status": "completed"
    },
    "tags": []
   },
   "outputs": [],
   "source": [
    "# Auxiliary data needed downstream in the pipeline\n",
    "\n",
    "org_train = X_train.copy()\n",
    "org_test = X_test.copy()\n",
    "org_calib = X_calib.copy()"
   ]
  },
  {
   "cell_type": "markdown",
   "id": "0a4a1b33",
   "metadata": {
    "papermill": {
     "duration": 0.017198,
     "end_time": "2025-08-05T16:08:44.992934",
     "exception": false,
     "start_time": "2025-08-05T16:08:44.975736",
     "status": "completed"
    },
    "tags": []
   },
   "source": [
    "# Preprocessing Data"
   ]
  },
  {
   "cell_type": "code",
   "execution_count": 19,
   "id": "ca879031",
   "metadata": {
    "execution": {
     "iopub.execute_input": "2025-08-05T16:08:45.028934Z",
     "iopub.status.busy": "2025-08-05T16:08:45.028483Z",
     "iopub.status.idle": "2025-08-05T16:08:45.034706Z",
     "shell.execute_reply": "2025-08-05T16:08:45.033677Z"
    },
    "papermill": {
     "duration": 0.026715,
     "end_time": "2025-08-05T16:08:45.036445",
     "exception": false,
     "start_time": "2025-08-05T16:08:45.009730",
     "status": "completed"
    },
    "tags": []
   },
   "outputs": [],
   "source": [
    "# EXCLUDE PROTECTED FEATURES\n",
    "# ----------------------\n",
    "# \"exclude_features\": \"none\", # \"nationality\", \"sex\", \"nationality-sex\"\n",
    "\n",
    "excluded_features = universe[\"exclude_features\"].split(\"-\") # split, e.g.: \"nationality-sex\" -> [\"nationality\", \"sex\"]\n",
    "excluded_features_dictionary = {\n",
    "    \"nationality\": [\"maxdeutsch1\", \"maxdeutsch.Missing.\"],\n",
    "    \"sex\": [\"frau1\"],\n",
    "    \"age\": [\"age\"],\n",
    "}"
   ]
  },
  {
   "cell_type": "code",
   "execution_count": 20,
   "id": "b745ac60",
   "metadata": {
    "execution": {
     "iopub.execute_input": "2025-08-05T16:08:45.071654Z",
     "iopub.status.busy": "2025-08-05T16:08:45.070993Z",
     "iopub.status.idle": "2025-08-05T16:08:45.076441Z",
     "shell.execute_reply": "2025-08-05T16:08:45.075374Z"
    },
    "papermill": {
     "duration": 0.02441,
     "end_time": "2025-08-05T16:08:45.078011",
     "exception": false,
     "start_time": "2025-08-05T16:08:45.053601",
     "status": "completed"
    },
    "tags": []
   },
   "outputs": [],
   "source": [
    "# Code nice names to column names\n",
    "\n",
    "excluded_features_columns = [\n",
    "    excluded_features_dictionary[f] for f in excluded_features if len(f) > 0 and f != \"none\"\n",
    "]"
   ]
  },
  {
   "cell_type": "code",
   "execution_count": 21,
   "id": "f84f73a2",
   "metadata": {
    "execution": {
     "iopub.execute_input": "2025-08-05T16:08:45.114524Z",
     "iopub.status.busy": "2025-08-05T16:08:45.113746Z",
     "iopub.status.idle": "2025-08-05T16:08:45.119602Z",
     "shell.execute_reply": "2025-08-05T16:08:45.118613Z"
    },
    "papermill": {
     "duration": 0.024942,
     "end_time": "2025-08-05T16:08:45.121398",
     "exception": false,
     "start_time": "2025-08-05T16:08:45.096456",
     "status": "completed"
    },
    "tags": []
   },
   "outputs": [],
   "source": [
    "from utils import flatten_once\n",
    "\n",
    "excluded_features_columns = flatten_once(excluded_features_columns)"
   ]
  },
  {
   "cell_type": "code",
   "execution_count": 22,
   "id": "884dea22",
   "metadata": {
    "execution": {
     "iopub.execute_input": "2025-08-05T16:08:45.163349Z",
     "iopub.status.busy": "2025-08-05T16:08:45.163052Z",
     "iopub.status.idle": "2025-08-05T16:08:45.170926Z",
     "shell.execute_reply": "2025-08-05T16:08:45.169453Z"
    },
    "papermill": {
     "duration": 0.030688,
     "end_time": "2025-08-05T16:08:45.172544",
     "exception": false,
     "start_time": "2025-08-05T16:08:45.141856",
     "status": "completed"
    },
    "tags": []
   },
   "outputs": [
    {
     "name": "stdout",
     "output_type": "stream",
     "text": [
      "Dropping features: ['maxdeutsch1', 'maxdeutsch.Missing.']\n"
     ]
    }
   ],
   "source": [
    "if len(excluded_features_columns) > 0:\n",
    "    print(f\"Dropping features: {excluded_features_columns}\")\n",
    "    X_train.drop(excluded_features_columns, axis=1, inplace=True)"
   ]
  },
  {
   "cell_type": "code",
   "execution_count": 23,
   "id": "95ab8b16",
   "metadata": {
    "execution": {
     "iopub.execute_input": "2025-08-05T16:08:45.194801Z",
     "iopub.status.busy": "2025-08-05T16:08:45.194288Z",
     "iopub.status.idle": "2025-08-05T16:08:45.245903Z",
     "shell.execute_reply": "2025-08-05T16:08:45.244978Z"
    },
    "papermill": {
     "duration": 0.063486,
     "end_time": "2025-08-05T16:08:45.247307",
     "exception": false,
     "start_time": "2025-08-05T16:08:45.183821",
     "status": "completed"
    },
    "tags": []
   },
   "outputs": [
    {
     "name": "stdout",
     "output_type": "stream",
     "text": [
      "Dropping features: ['maxdeutsch1', 'maxdeutsch.Missing.']\n"
     ]
    }
   ],
   "source": [
    "if len(excluded_features_columns) > 0:\n",
    "    print(f\"Dropping features: {excluded_features_columns}\")\n",
    "    X_test.drop(excluded_features_columns, axis=1, inplace=True)"
   ]
  },
  {
   "cell_type": "code",
   "execution_count": 24,
   "id": "1853aaf5-fb9f-46cb-a2b5-8ea4ae2237e4",
   "metadata": {
    "execution": {
     "iopub.execute_input": "2025-08-05T16:08:45.268727Z",
     "iopub.status.busy": "2025-08-05T16:08:45.268213Z",
     "iopub.status.idle": "2025-08-05T16:08:45.316073Z",
     "shell.execute_reply": "2025-08-05T16:08:45.315175Z"
    },
    "papermill": {
     "duration": 0.059798,
     "end_time": "2025-08-05T16:08:45.317380",
     "exception": false,
     "start_time": "2025-08-05T16:08:45.257582",
     "status": "completed"
    },
    "tags": []
   },
   "outputs": [
    {
     "name": "stdout",
     "output_type": "stream",
     "text": [
      "Dropping features: ['maxdeutsch1', 'maxdeutsch.Missing.']\n"
     ]
    }
   ],
   "source": [
    "if len(excluded_features_columns) > 0:\n",
    "    print(f\"Dropping features: {excluded_features_columns}\")\n",
    "    X_calib.drop(excluded_features_columns, axis=1, inplace=True)"
   ]
  },
  {
   "cell_type": "code",
   "execution_count": 25,
   "id": "76c4dc6d",
   "metadata": {
    "execution": {
     "iopub.execute_input": "2025-08-05T16:08:45.338680Z",
     "iopub.status.busy": "2025-08-05T16:08:45.338149Z",
     "iopub.status.idle": "2025-08-05T16:08:45.343592Z",
     "shell.execute_reply": "2025-08-05T16:08:45.342524Z"
    },
    "papermill": {
     "duration": 0.019133,
     "end_time": "2025-08-05T16:08:45.346813",
     "exception": false,
     "start_time": "2025-08-05T16:08:45.327680",
     "status": "completed"
    },
    "tags": []
   },
   "outputs": [],
   "source": [
    "# EXCLUDE CERTAIN SUBGROUPS\n",
    "# ----------------------\n",
    "\n",
    "mode = universe.get(\"exclude_subgroups\", \"keep-all\") \n",
    "# Fetches the exclude_subgroups setting from the universe dict.\n",
    "# Defaults to \"keep-all\" if the key is missing."
   ]
  },
  {
   "cell_type": "code",
   "execution_count": 26,
   "id": "21994072",
   "metadata": {
    "execution": {
     "iopub.execute_input": "2025-08-05T16:08:45.391865Z",
     "iopub.status.busy": "2025-08-05T16:08:45.390899Z",
     "iopub.status.idle": "2025-08-05T16:08:45.398697Z",
     "shell.execute_reply": "2025-08-05T16:08:45.397334Z"
    },
    "papermill": {
     "duration": 0.032692,
     "end_time": "2025-08-05T16:08:45.400669",
     "exception": false,
     "start_time": "2025-08-05T16:08:45.367977",
     "status": "completed"
    },
    "tags": []
   },
   "outputs": [],
   "source": [
    "if mode == \"keep-all\":\n",
    "    keep_mask = pd.Series(True, index=org_train.index)\n",
    "\n",
    "# org_train contains the original feature columns from features_org (in Simson)\n",
    "# features_org contains unprocessed features, for me X_train at beginning ???\n",
    "# For keep-all, creates a boolean Series (keep_mask) of all True, so no rows are removed.\n",
    "\n",
    "elif mode == \"drop-non-german\":\n",
    "    keep_mask = org_train[\"maxdeutsch1\"] == 1 # ??? what about missing values?\n",
    "\n",
    "else:\n",
    "    raise ValueError(f\"Unsupported mode for exclude_subgroups: {mode}\")"
   ]
  },
  {
   "cell_type": "code",
   "execution_count": 27,
   "id": "71651440",
   "metadata": {
    "execution": {
     "iopub.execute_input": "2025-08-05T16:08:45.461407Z",
     "iopub.status.busy": "2025-08-05T16:08:45.460897Z",
     "iopub.status.idle": "2025-08-05T16:08:45.467869Z",
     "shell.execute_reply": "2025-08-05T16:08:45.466692Z"
    },
    "papermill": {
     "duration": 0.034146,
     "end_time": "2025-08-05T16:08:45.469859",
     "exception": false,
     "start_time": "2025-08-05T16:08:45.435713",
     "status": "completed"
    },
    "tags": []
   },
   "outputs": [],
   "source": [
    "n_drop = (~keep_mask).sum() # Calculates how many rows are set to be dropped\n",
    "if n_drop > 0:\n",
    "    pct = n_drop / len(keep_mask) * 100\n",
    "    print(f\"Dropping {n_drop} rows ({pct:.2f}%) where mode='{mode}'\")"
   ]
  },
  {
   "cell_type": "code",
   "execution_count": 28,
   "id": "5fb8eee5",
   "metadata": {
    "execution": {
     "iopub.execute_input": "2025-08-05T16:08:45.515120Z",
     "iopub.status.busy": "2025-08-05T16:08:45.514791Z",
     "iopub.status.idle": "2025-08-05T16:08:45.520472Z",
     "shell.execute_reply": "2025-08-05T16:08:45.519468Z"
    },
    "papermill": {
     "duration": 0.029647,
     "end_time": "2025-08-05T16:08:45.522397",
     "exception": false,
     "start_time": "2025-08-05T16:08:45.492750",
     "status": "completed"
    },
    "tags": []
   },
   "outputs": [],
   "source": [
    "X_train = X_train[keep_mask]"
   ]
  },
  {
   "cell_type": "code",
   "execution_count": 29,
   "id": "b202bb3a",
   "metadata": {
    "execution": {
     "iopub.execute_input": "2025-08-05T16:08:45.568198Z",
     "iopub.status.busy": "2025-08-05T16:08:45.567390Z",
     "iopub.status.idle": "2025-08-05T16:08:45.573141Z",
     "shell.execute_reply": "2025-08-05T16:08:45.572032Z"
    },
    "papermill": {
     "duration": 0.030597,
     "end_time": "2025-08-05T16:08:45.575113",
     "exception": false,
     "start_time": "2025-08-05T16:08:45.544516",
     "status": "completed"
    },
    "tags": []
   },
   "outputs": [],
   "source": [
    "y_train = y_train[keep_mask]"
   ]
  },
  {
   "cell_type": "markdown",
   "id": "493e2ac3",
   "metadata": {
    "papermill": {
     "duration": 0.021175,
     "end_time": "2025-08-05T16:08:45.619136",
     "exception": false,
     "start_time": "2025-08-05T16:08:45.597961",
     "status": "completed"
    },
    "tags": []
   },
   "source": [
    "# Model Training"
   ]
  },
  {
   "cell_type": "code",
   "execution_count": 30,
   "id": "679e1268",
   "metadata": {
    "execution": {
     "iopub.execute_input": "2025-08-05T16:08:45.662949Z",
     "iopub.status.busy": "2025-08-05T16:08:45.662520Z",
     "iopub.status.idle": "2025-08-05T16:08:45.767534Z",
     "shell.execute_reply": "2025-08-05T16:08:45.766543Z"
    },
    "papermill": {
     "duration": 0.129306,
     "end_time": "2025-08-05T16:08:45.769655",
     "exception": false,
     "start_time": "2025-08-05T16:08:45.640349",
     "status": "completed"
    },
    "tags": []
   },
   "outputs": [],
   "source": [
    "from sklearn.linear_model import LogisticRegression\n",
    "from sklearn.ensemble import GradientBoostingClassifier, RandomForestClassifier\n",
    "\n",
    "if (universe[\"model\"] == \"logreg\"):\n",
    "    model = LogisticRegression() #penalty=\"none\", solver=\"newton-cg\", max_iter=1) # include random_state=19 ?\n",
    "elif (universe[\"model\"] == \"penalized_logreg\"):\n",
    "    model = LogisticRegression(penalty=\"l2\", C=0.1) #, solver=\"newton-cg\", max_iter=1)\n",
    "elif (universe[\"model\"] == \"rf\"):\n",
    "    model = RandomForestClassifier() # n_estimators=100, n_jobs=-1\n",
    "elif (universe[\"model\"] == \"gbm\"):\n",
    "    model = GradientBoostingClassifier()\n",
    "elif (universe[\"model\"] == \"elasticnet\"):\n",
    "    model = LogisticRegression(penalty = 'elasticnet', solver = 'saga', l1_ratio = 0.5) # max_iter=5000\n",
    "else:\n",
    "    raise \"Unsupported universe.model\""
   ]
  },
  {
   "cell_type": "code",
   "execution_count": 31,
   "id": "0cc8f744",
   "metadata": {
    "execution": {
     "iopub.execute_input": "2025-08-05T16:08:45.816854Z",
     "iopub.status.busy": "2025-08-05T16:08:45.816120Z",
     "iopub.status.idle": "2025-08-05T16:08:45.823396Z",
     "shell.execute_reply": "2025-08-05T16:08:45.822221Z"
    },
    "papermill": {
     "duration": 0.032867,
     "end_time": "2025-08-05T16:08:45.825262",
     "exception": false,
     "start_time": "2025-08-05T16:08:45.792395",
     "status": "completed"
    },
    "tags": []
   },
   "outputs": [],
   "source": [
    "import numpy as np\n",
    "from sklearn.pipeline import Pipeline\n",
    "from sklearn.preprocessing import StandardScaler\n",
    "\n",
    "model = Pipeline([\n",
    "    #(\"continuous_processor\", continuous_processor),\n",
    "    #(\"categorical_preprocessor\", categorical_preprocessor),\n",
    "    (\"scale\", StandardScaler() if universe[\"scale\"] == \"scale\" else None), \n",
    "    (\"model\", model),\n",
    "])"
   ]
  },
  {
   "cell_type": "code",
   "execution_count": 32,
   "id": "9442c04d",
   "metadata": {
    "execution": {
     "iopub.execute_input": "2025-08-05T16:08:45.870334Z",
     "iopub.status.busy": "2025-08-05T16:08:45.869984Z",
     "iopub.status.idle": "2025-08-05T16:08:45.944990Z",
     "shell.execute_reply": "2025-08-05T16:08:45.944063Z"
    },
    "papermill": {
     "duration": 0.09907,
     "end_time": "2025-08-05T16:08:45.946711",
     "exception": false,
     "start_time": "2025-08-05T16:08:45.847641",
     "status": "completed"
    },
    "tags": []
   },
   "outputs": [
    {
     "name": "stderr",
     "output_type": "stream",
     "text": [
      "/dss/dsshome1/0C/ra93lal2/.local/share/virtualenvs/CMA_Fairness_v2-3j10GkSs/lib/python3.10/site-packages/sklearn/linear_model/_logistic.py:444: ConvergenceWarning: lbfgs failed to converge (status=1):\n",
      "STOP: TOTAL NO. of ITERATIONS REACHED LIMIT.\n",
      "\n",
      "Increase the number of iterations (max_iter) or scale the data as shown in:\n",
      "    https://scikit-learn.org/stable/modules/preprocessing.html\n",
      "Please also refer to the documentation for alternative solver options:\n",
      "    https://scikit-learn.org/stable/modules/linear_model.html#logistic-regression\n",
      "  n_iter_i = _check_optimize_result(\n"
     ]
    },
    {
     "data": {
      "text/html": [
       "<style>#sk-container-id-1 {color: black;background-color: white;}#sk-container-id-1 pre{padding: 0;}#sk-container-id-1 div.sk-toggleable {background-color: white;}#sk-container-id-1 label.sk-toggleable__label {cursor: pointer;display: block;width: 100%;margin-bottom: 0;padding: 0.3em;box-sizing: border-box;text-align: center;}#sk-container-id-1 label.sk-toggleable__label-arrow:before {content: \"▸\";float: left;margin-right: 0.25em;color: #696969;}#sk-container-id-1 label.sk-toggleable__label-arrow:hover:before {color: black;}#sk-container-id-1 div.sk-estimator:hover label.sk-toggleable__label-arrow:before {color: black;}#sk-container-id-1 div.sk-toggleable__content {max-height: 0;max-width: 0;overflow: hidden;text-align: left;background-color: #f0f8ff;}#sk-container-id-1 div.sk-toggleable__content pre {margin: 0.2em;color: black;border-radius: 0.25em;background-color: #f0f8ff;}#sk-container-id-1 input.sk-toggleable__control:checked~div.sk-toggleable__content {max-height: 200px;max-width: 100%;overflow: auto;}#sk-container-id-1 input.sk-toggleable__control:checked~label.sk-toggleable__label-arrow:before {content: \"▾\";}#sk-container-id-1 div.sk-estimator input.sk-toggleable__control:checked~label.sk-toggleable__label {background-color: #d4ebff;}#sk-container-id-1 div.sk-label input.sk-toggleable__control:checked~label.sk-toggleable__label {background-color: #d4ebff;}#sk-container-id-1 input.sk-hidden--visually {border: 0;clip: rect(1px 1px 1px 1px);clip: rect(1px, 1px, 1px, 1px);height: 1px;margin: -1px;overflow: hidden;padding: 0;position: absolute;width: 1px;}#sk-container-id-1 div.sk-estimator {font-family: monospace;background-color: #f0f8ff;border: 1px dotted black;border-radius: 0.25em;box-sizing: border-box;margin-bottom: 0.5em;}#sk-container-id-1 div.sk-estimator:hover {background-color: #d4ebff;}#sk-container-id-1 div.sk-parallel-item::after {content: \"\";width: 100%;border-bottom: 1px solid gray;flex-grow: 1;}#sk-container-id-1 div.sk-label:hover label.sk-toggleable__label {background-color: #d4ebff;}#sk-container-id-1 div.sk-serial::before {content: \"\";position: absolute;border-left: 1px solid gray;box-sizing: border-box;top: 0;bottom: 0;left: 50%;z-index: 0;}#sk-container-id-1 div.sk-serial {display: flex;flex-direction: column;align-items: center;background-color: white;padding-right: 0.2em;padding-left: 0.2em;position: relative;}#sk-container-id-1 div.sk-item {position: relative;z-index: 1;}#sk-container-id-1 div.sk-parallel {display: flex;align-items: stretch;justify-content: center;background-color: white;position: relative;}#sk-container-id-1 div.sk-item::before, #sk-container-id-1 div.sk-parallel-item::before {content: \"\";position: absolute;border-left: 1px solid gray;box-sizing: border-box;top: 0;bottom: 0;left: 50%;z-index: -1;}#sk-container-id-1 div.sk-parallel-item {display: flex;flex-direction: column;z-index: 1;position: relative;background-color: white;}#sk-container-id-1 div.sk-parallel-item:first-child::after {align-self: flex-end;width: 50%;}#sk-container-id-1 div.sk-parallel-item:last-child::after {align-self: flex-start;width: 50%;}#sk-container-id-1 div.sk-parallel-item:only-child::after {width: 0;}#sk-container-id-1 div.sk-dashed-wrapped {border: 1px dashed gray;margin: 0 0.4em 0.5em 0.4em;box-sizing: border-box;padding-bottom: 0.4em;background-color: white;}#sk-container-id-1 div.sk-label label {font-family: monospace;font-weight: bold;display: inline-block;line-height: 1.2em;}#sk-container-id-1 div.sk-label-container {text-align: center;}#sk-container-id-1 div.sk-container {/* jupyter's `normalize.less` sets `[hidden] { display: none; }` but bootstrap.min.css set `[hidden] { display: none !important; }` so we also need the `!important` here to be able to override the default hidden behavior on the sphinx rendered scikit-learn.org. See: https://github.com/scikit-learn/scikit-learn/issues/21755 */display: inline-block !important;position: relative;}#sk-container-id-1 div.sk-text-repr-fallback {display: none;}</style><div id=\"sk-container-id-1\" class=\"sk-top-container\"><div class=\"sk-text-repr-fallback\"><pre>Pipeline(steps=[(&#x27;scale&#x27;, None), (&#x27;model&#x27;, LogisticRegression())])</pre><b>In a Jupyter environment, please rerun this cell to show the HTML representation or trust the notebook. <br />On GitHub, the HTML representation is unable to render, please try loading this page with nbviewer.org.</b></div><div class=\"sk-container\" hidden><div class=\"sk-item sk-dashed-wrapped\"><div class=\"sk-label-container\"><div class=\"sk-label sk-toggleable\"><input class=\"sk-toggleable__control sk-hidden--visually\" id=\"sk-estimator-id-1\" type=\"checkbox\" ><label for=\"sk-estimator-id-1\" class=\"sk-toggleable__label sk-toggleable__label-arrow\">Pipeline</label><div class=\"sk-toggleable__content\"><pre>Pipeline(steps=[(&#x27;scale&#x27;, None), (&#x27;model&#x27;, LogisticRegression())])</pre></div></div></div><div class=\"sk-serial\"><div class=\"sk-item\"><div class=\"sk-estimator sk-toggleable\"><input class=\"sk-toggleable__control sk-hidden--visually\" id=\"sk-estimator-id-2\" type=\"checkbox\" ><label for=\"sk-estimator-id-2\" class=\"sk-toggleable__label sk-toggleable__label-arrow\">None</label><div class=\"sk-toggleable__content\"><pre>None</pre></div></div></div><div class=\"sk-item\"><div class=\"sk-estimator sk-toggleable\"><input class=\"sk-toggleable__control sk-hidden--visually\" id=\"sk-estimator-id-3\" type=\"checkbox\" ><label for=\"sk-estimator-id-3\" class=\"sk-toggleable__label sk-toggleable__label-arrow\">LogisticRegression</label><div class=\"sk-toggleable__content\"><pre>LogisticRegression()</pre></div></div></div></div></div></div></div>"
      ],
      "text/plain": [
       "Pipeline(steps=[('scale', None), ('model', LogisticRegression())])"
      ]
     },
     "execution_count": 32,
     "metadata": {},
     "output_type": "execute_result"
    }
   ],
   "source": [
    "model.fit(X_train, y_train.values.ravel())"
   ]
  },
  {
   "cell_type": "code",
   "execution_count": 33,
   "id": "af59f8c0",
   "metadata": {
    "execution": {
     "iopub.execute_input": "2025-08-05T16:08:45.992684Z",
     "iopub.status.busy": "2025-08-05T16:08:45.991930Z",
     "iopub.status.idle": "2025-08-05T16:08:45.997038Z",
     "shell.execute_reply": "2025-08-05T16:08:45.995981Z"
    },
    "papermill": {
     "duration": 0.029614,
     "end_time": "2025-08-05T16:08:45.998909",
     "exception": false,
     "start_time": "2025-08-05T16:08:45.969295",
     "status": "completed"
    },
    "tags": []
   },
   "outputs": [],
   "source": [
    "from fairness_multiverse.universe import predict_w_threshold"
   ]
  },
  {
   "cell_type": "code",
   "execution_count": 34,
   "id": "a7cf2e16",
   "metadata": {
    "execution": {
     "iopub.execute_input": "2025-08-05T16:08:46.044708Z",
     "iopub.status.busy": "2025-08-05T16:08:46.044374Z",
     "iopub.status.idle": "2025-08-05T16:08:46.140281Z",
     "shell.execute_reply": "2025-08-05T16:08:46.139256Z"
    },
    "papermill": {
     "duration": 0.121024,
     "end_time": "2025-08-05T16:08:46.142359",
     "exception": false,
     "start_time": "2025-08-05T16:08:46.021335",
     "status": "completed"
    },
    "tags": []
   },
   "outputs": [
    {
     "data": {
      "text/plain": [
       "0.8505852190391261"
      ]
     },
     "execution_count": 34,
     "metadata": {},
     "output_type": "execute_result"
    }
   ],
   "source": [
    "probs_test = model.predict_proba(X_test)\n",
    "\n",
    "'''\n",
    "Below code returns a boolean array (or binary 0/1 array depending on how it’s used) where each element \n",
    "is True if the probability of class 1 is greater than or equal to the threshold, and False otherwise.\n",
    "'''\n",
    "y_pred_default = predict_w_threshold(probs_test, 0.5)\n",
    "\n",
    "from sklearn.metrics import accuracy_score\n",
    "\n",
    "# Naive prediction\n",
    "accuracy_score(y_true = y_true, y_pred = y_pred_default)"
   ]
  },
  {
   "cell_type": "code",
   "execution_count": 35,
   "id": "081964c3",
   "metadata": {
    "execution": {
     "iopub.execute_input": "2025-08-05T16:08:46.189805Z",
     "iopub.status.busy": "2025-08-05T16:08:46.189060Z",
     "iopub.status.idle": "2025-08-05T16:08:46.275880Z",
     "shell.execute_reply": "2025-08-05T16:08:46.274842Z"
    },
    "papermill": {
     "duration": 0.112112,
     "end_time": "2025-08-05T16:08:46.277852",
     "exception": false,
     "start_time": "2025-08-05T16:08:46.165740",
     "status": "completed"
    },
    "tags": []
   },
   "outputs": [
    {
     "data": {
      "text/plain": [
       "array([0, 0, 0, ..., 0, 0, 0])"
      ]
     },
     "execution_count": 35,
     "metadata": {},
     "output_type": "execute_result"
    }
   ],
   "source": [
    "model.predict(X_test)"
   ]
  },
  {
   "cell_type": "markdown",
   "id": "56c9705b",
   "metadata": {
    "papermill": {
     "duration": 0.022355,
     "end_time": "2025-08-05T16:08:46.324055",
     "exception": false,
     "start_time": "2025-08-05T16:08:46.301700",
     "status": "completed"
    },
    "tags": []
   },
   "source": [
    "# Conformal Prediction"
   ]
  },
  {
   "cell_type": "code",
   "execution_count": 36,
   "id": "160ec6ff",
   "metadata": {
    "execution": {
     "iopub.execute_input": "2025-08-05T16:08:46.370647Z",
     "iopub.status.busy": "2025-08-05T16:08:46.369777Z",
     "iopub.status.idle": "2025-08-05T16:08:46.375243Z",
     "shell.execute_reply": "2025-08-05T16:08:46.374210Z"
    },
    "papermill": {
     "duration": 0.030948,
     "end_time": "2025-08-05T16:08:46.377308",
     "exception": false,
     "start_time": "2025-08-05T16:08:46.346360",
     "status": "completed"
    },
    "tags": []
   },
   "outputs": [],
   "source": [
    "# Miscoverage level for conformal prediction (10% allowed error rate => 90% target coverage)\n",
    "alpha = 0.1"
   ]
  },
  {
   "cell_type": "code",
   "execution_count": 37,
   "id": "eadf4555-3dd3-440e-8e35-f82a4ad9f855",
   "metadata": {
    "execution": {
     "iopub.execute_input": "2025-08-05T16:08:46.424259Z",
     "iopub.status.busy": "2025-08-05T16:08:46.423716Z",
     "iopub.status.idle": "2025-08-05T16:08:46.505005Z",
     "shell.execute_reply": "2025-08-05T16:08:46.503938Z"
    },
    "papermill": {
     "duration": 0.106769,
     "end_time": "2025-08-05T16:08:46.507164",
     "exception": false,
     "start_time": "2025-08-05T16:08:46.400395",
     "status": "completed"
    },
    "tags": []
   },
   "outputs": [],
   "source": [
    "probs_calib = model.predict_proba(X_calib)"
   ]
  },
  {
   "cell_type": "code",
   "execution_count": 38,
   "id": "2ed93547-6d5d-4983-9b36-1ecb300da49a",
   "metadata": {
    "execution": {
     "iopub.execute_input": "2025-08-05T16:08:46.553570Z",
     "iopub.status.busy": "2025-08-05T16:08:46.552763Z",
     "iopub.status.idle": "2025-08-05T16:08:46.558355Z",
     "shell.execute_reply": "2025-08-05T16:08:46.557289Z"
    },
    "papermill": {
     "duration": 0.029933,
     "end_time": "2025-08-05T16:08:46.560296",
     "exception": false,
     "start_time": "2025-08-05T16:08:46.530363",
     "status": "completed"
    },
    "tags": []
   },
   "outputs": [],
   "source": [
    "y_calib = y_calib.values.ravel().astype(int)"
   ]
  },
  {
   "cell_type": "code",
   "execution_count": 39,
   "id": "65d1320d-f588-4b38-9072-62af1ae97f7d",
   "metadata": {
    "execution": {
     "iopub.execute_input": "2025-08-05T16:08:46.607783Z",
     "iopub.status.busy": "2025-08-05T16:08:46.607076Z",
     "iopub.status.idle": "2025-08-05T16:08:46.614433Z",
     "shell.execute_reply": "2025-08-05T16:08:46.613351Z"
    },
    "papermill": {
     "duration": 0.032771,
     "end_time": "2025-08-05T16:08:46.616247",
     "exception": false,
     "start_time": "2025-08-05T16:08:46.583476",
     "status": "completed"
    },
    "tags": []
   },
   "outputs": [],
   "source": [
    "from fairness_multiverse.conformal import compute_nc_scores\n",
    "\n",
    "# Compute nonconformity scores on calibration set (1 - probability of true class)\n",
    "nc_scores = compute_nc_scores(probs_calib, y_calib)"
   ]
  },
  {
   "cell_type": "code",
   "execution_count": 40,
   "id": "df3b8ca3-53b7-43d5-9667-7c85da7aeda2",
   "metadata": {
    "execution": {
     "iopub.execute_input": "2025-08-05T16:08:46.666745Z",
     "iopub.status.busy": "2025-08-05T16:08:46.666197Z",
     "iopub.status.idle": "2025-08-05T16:08:46.673791Z",
     "shell.execute_reply": "2025-08-05T16:08:46.672680Z"
    },
    "papermill": {
     "duration": 0.034692,
     "end_time": "2025-08-05T16:08:46.675724",
     "exception": false,
     "start_time": "2025-08-05T16:08:46.641032",
     "status": "completed"
    },
    "tags": []
   },
   "outputs": [],
   "source": [
    "from fairness_multiverse.conformal import find_threshold\n",
    "\n",
    "# Find conformal threshold q_hat for the given alpha (split conformal method)\n",
    "q_hat = find_threshold(nc_scores, alpha)"
   ]
  },
  {
   "cell_type": "code",
   "execution_count": 41,
   "id": "4d29e6c1-0ef6-4aa4-b8fe-4fe79b0d033a",
   "metadata": {
    "execution": {
     "iopub.execute_input": "2025-08-05T16:08:46.723568Z",
     "iopub.status.busy": "2025-08-05T16:08:46.722849Z",
     "iopub.status.idle": "2025-08-05T16:08:46.731676Z",
     "shell.execute_reply": "2025-08-05T16:08:46.730627Z"
    },
    "papermill": {
     "duration": 0.034181,
     "end_time": "2025-08-05T16:08:46.733430",
     "exception": false,
     "start_time": "2025-08-05T16:08:46.699249",
     "status": "completed"
    },
    "tags": []
   },
   "outputs": [
    {
     "data": {
      "text/plain": [
       "0.6905529840047056"
      ]
     },
     "execution_count": 41,
     "metadata": {},
     "output_type": "execute_result"
    }
   ],
   "source": [
    "q_hat"
   ]
  },
  {
   "cell_type": "code",
   "execution_count": 42,
   "id": "92460794-cdac-4be2-ba28-f28c0515a6fb",
   "metadata": {
    "execution": {
     "iopub.execute_input": "2025-08-05T16:08:46.781069Z",
     "iopub.status.busy": "2025-08-05T16:08:46.780575Z",
     "iopub.status.idle": "2025-08-05T16:08:47.681729Z",
     "shell.execute_reply": "2025-08-05T16:08:47.680795Z"
    },
    "papermill": {
     "duration": 0.927156,
     "end_time": "2025-08-05T16:08:47.683759",
     "exception": false,
     "start_time": "2025-08-05T16:08:46.756603",
     "status": "completed"
    },
    "tags": []
   },
   "outputs": [],
   "source": [
    "from fairness_multiverse.conformal import predict_conformal_sets\n",
    "\n",
    "# Generate prediction sets for each test example\n",
    "pred_sets = predict_conformal_sets(model, X_test, q_hat)"
   ]
  },
  {
   "cell_type": "code",
   "execution_count": 43,
   "id": "d90c9a65-e6db-4f5d-80cd-e68fb7e46829",
   "metadata": {
    "execution": {
     "iopub.execute_input": "2025-08-05T16:08:47.728606Z",
     "iopub.status.busy": "2025-08-05T16:08:47.728098Z",
     "iopub.status.idle": "2025-08-05T16:08:47.733892Z",
     "shell.execute_reply": "2025-08-05T16:08:47.732923Z"
    },
    "papermill": {
     "duration": 0.031057,
     "end_time": "2025-08-05T16:08:47.735973",
     "exception": false,
     "start_time": "2025-08-05T16:08:47.704916",
     "status": "completed"
    },
    "tags": []
   },
   "outputs": [],
   "source": [
    "y_true = y_true.squeeze()"
   ]
  },
  {
   "cell_type": "code",
   "execution_count": 44,
   "id": "3a58a54a-1e68-46b9-927a-df01f18aebc8",
   "metadata": {
    "execution": {
     "iopub.execute_input": "2025-08-05T16:08:47.780878Z",
     "iopub.status.busy": "2025-08-05T16:08:47.780438Z",
     "iopub.status.idle": "2025-08-05T16:08:48.436655Z",
     "shell.execute_reply": "2025-08-05T16:08:48.435907Z"
    },
    "papermill": {
     "duration": 0.680286,
     "end_time": "2025-08-05T16:08:48.438111",
     "exception": false,
     "start_time": "2025-08-05T16:08:47.757825",
     "status": "completed"
    },
    "tags": []
   },
   "outputs": [],
   "source": [
    "from fairness_multiverse.conformal import evaluate_sets\n",
    "\n",
    "# Evaluate coverage and average set size on test data\n",
    "metrics = evaluate_sets(pred_sets, y_true)"
   ]
  },
  {
   "cell_type": "markdown",
   "id": "2b569c12-9aaa-4c88-98c9-bbcd0cf3ebb8",
   "metadata": {
    "papermill": {
     "duration": 0.010423,
     "end_time": "2025-08-05T16:08:48.459951",
     "exception": false,
     "start_time": "2025-08-05T16:08:48.449528",
     "status": "completed"
    },
    "tags": []
   },
   "source": [
    "# CP Metrics"
   ]
  },
  {
   "cell_type": "code",
   "execution_count": 45,
   "id": "5ce0a5cb-201f-45a0-ade5-94c7f0bd6095",
   "metadata": {
    "execution": {
     "iopub.execute_input": "2025-08-05T16:08:48.482523Z",
     "iopub.status.busy": "2025-08-05T16:08:48.481901Z",
     "iopub.status.idle": "2025-08-05T16:08:48.487820Z",
     "shell.execute_reply": "2025-08-05T16:08:48.487050Z"
    },
    "papermill": {
     "duration": 0.018699,
     "end_time": "2025-08-05T16:08:48.489296",
     "exception": false,
     "start_time": "2025-08-05T16:08:48.470597",
     "status": "completed"
    },
    "tags": []
   },
   "outputs": [
    {
     "data": {
      "text/plain": [
       "{'coverage': 0.9093523575967005, 'avg_size': 1.2223832348679078}"
      ]
     },
     "execution_count": 45,
     "metadata": {},
     "output_type": "execute_result"
    }
   ],
   "source": [
    "metrics"
   ]
  },
  {
   "cell_type": "code",
   "execution_count": 46,
   "id": "9b9a838d-31c9-430b-ae14-12baee460d17",
   "metadata": {
    "execution": {
     "iopub.execute_input": "2025-08-05T16:08:48.513111Z",
     "iopub.status.busy": "2025-08-05T16:08:48.512630Z",
     "iopub.status.idle": "2025-08-05T16:08:48.517438Z",
     "shell.execute_reply": "2025-08-05T16:08:48.516736Z"
    },
    "papermill": {
     "duration": 0.018268,
     "end_time": "2025-08-05T16:08:48.518887",
     "exception": false,
     "start_time": "2025-08-05T16:08:48.500619",
     "status": "completed"
    },
    "tags": []
   },
   "outputs": [],
   "source": [
    "example_universe = universe.copy()\n",
    "universe_training_year = example_universe.get(\"training_year\")\n",
    "universe_training_size = example_universe.get(\"training_size\")\n",
    "universe_scale = example_universe.get(\"scale\")\n",
    "universe_model = example_universe.get(\"model\")\n",
    "universe_exclude_features = example_universe.get(\"exclude_features\")\n",
    "universe_exclude_subgroups = example_universe.get(\"exclude_subgroups\")"
   ]
  },
  {
   "cell_type": "code",
   "execution_count": 47,
   "id": "f4b6a8ac-9dc0-4245-8a91-5b3b5999c4f9",
   "metadata": {
    "execution": {
     "iopub.execute_input": "2025-08-05T16:08:48.541787Z",
     "iopub.status.busy": "2025-08-05T16:08:48.541180Z",
     "iopub.status.idle": "2025-08-05T16:08:48.546006Z",
     "shell.execute_reply": "2025-08-05T16:08:48.545251Z"
    },
    "papermill": {
     "duration": 0.017571,
     "end_time": "2025-08-05T16:08:48.547546",
     "exception": false,
     "start_time": "2025-08-05T16:08:48.529975",
     "status": "completed"
    },
    "tags": []
   },
   "outputs": [],
   "source": [
    "cp_metrics_dict = {\n",
    "    \"universe_id\": [universe_id],\n",
    "    \"universe_training_year\": [universe_training_year],\n",
    "    \"universe_training_size\": [universe_training_size],\n",
    "    \"universe_scale\": [universe_scale],\n",
    "    \"universe_model\": [universe_model],\n",
    "    \"universe_exclude_features\": [universe_exclude_features],\n",
    "    \"universe_exclude_subgroups\": [universe_exclude_subgroups],\n",
    "    \"q_hat\": [q_hat],\n",
    "    \"coverage\": [metrics[\"coverage\"]],\n",
    "    \"avg_size\": [metrics[\"avg_size\"]],\n",
    "}"
   ]
  },
  {
   "cell_type": "code",
   "execution_count": 48,
   "id": "908acbb1-0371-4915-85ca-3fa520d2efe2",
   "metadata": {
    "execution": {
     "iopub.execute_input": "2025-08-05T16:08:48.570264Z",
     "iopub.status.busy": "2025-08-05T16:08:48.569882Z",
     "iopub.status.idle": "2025-08-05T16:08:48.575728Z",
     "shell.execute_reply": "2025-08-05T16:08:48.574896Z"
    },
    "papermill": {
     "duration": 0.018374,
     "end_time": "2025-08-05T16:08:48.577050",
     "exception": false,
     "start_time": "2025-08-05T16:08:48.558676",
     "status": "completed"
    },
    "tags": []
   },
   "outputs": [
    {
     "data": {
      "text/plain": [
       "{'universe_id': ['4cc8c81eff71d8c6e8bc54b89116759b'],\n",
       " 'universe_training_year': ['2014'],\n",
       " 'universe_training_size': ['1k'],\n",
       " 'universe_scale': ['do-not-scale'],\n",
       " 'universe_model': ['logreg'],\n",
       " 'universe_exclude_features': ['nationality'],\n",
       " 'universe_exclude_subgroups': ['keep-all'],\n",
       " 'q_hat': [0.6905529840047056],\n",
       " 'coverage': [0.9093523575967005],\n",
       " 'avg_size': [1.2223832348679078]}"
      ]
     },
     "execution_count": 48,
     "metadata": {},
     "output_type": "execute_result"
    }
   ],
   "source": [
    "cp_metrics_dict"
   ]
  },
  {
   "cell_type": "code",
   "execution_count": 49,
   "id": "33007efc-14e9-4ec6-97ac-56a455c82265",
   "metadata": {
    "execution": {
     "iopub.execute_input": "2025-08-05T16:08:48.600121Z",
     "iopub.status.busy": "2025-08-05T16:08:48.599642Z",
     "iopub.status.idle": "2025-08-05T16:08:48.604626Z",
     "shell.execute_reply": "2025-08-05T16:08:48.603851Z"
    },
    "papermill": {
     "duration": 0.017718,
     "end_time": "2025-08-05T16:08:48.606068",
     "exception": false,
     "start_time": "2025-08-05T16:08:48.588350",
     "status": "completed"
    },
    "tags": []
   },
   "outputs": [],
   "source": [
    "cp_metrics_df = pd.DataFrame(cp_metrics_dict)"
   ]
  },
  {
   "cell_type": "code",
   "execution_count": 50,
   "id": "db12611b-57b2-4910-b9d0-355adfd6e7bf",
   "metadata": {
    "execution": {
     "iopub.execute_input": "2025-08-05T16:08:48.629216Z",
     "iopub.status.busy": "2025-08-05T16:08:48.628730Z",
     "iopub.status.idle": "2025-08-05T16:08:48.642574Z",
     "shell.execute_reply": "2025-08-05T16:08:48.641735Z"
    },
    "papermill": {
     "duration": 0.026346,
     "end_time": "2025-08-05T16:08:48.643733",
     "exception": false,
     "start_time": "2025-08-05T16:08:48.617387",
     "status": "completed"
    },
    "tags": []
   },
   "outputs": [
    {
     "data": {
      "text/html": [
       "<div>\n",
       "<style scoped>\n",
       "    .dataframe tbody tr th:only-of-type {\n",
       "        vertical-align: middle;\n",
       "    }\n",
       "\n",
       "    .dataframe tbody tr th {\n",
       "        vertical-align: top;\n",
       "    }\n",
       "\n",
       "    .dataframe thead th {\n",
       "        text-align: right;\n",
       "    }\n",
       "</style>\n",
       "<table border=\"1\" class=\"dataframe\">\n",
       "  <thead>\n",
       "    <tr style=\"text-align: right;\">\n",
       "      <th></th>\n",
       "      <th>universe_id</th>\n",
       "      <th>universe_training_year</th>\n",
       "      <th>universe_training_size</th>\n",
       "      <th>universe_scale</th>\n",
       "      <th>universe_model</th>\n",
       "      <th>universe_exclude_features</th>\n",
       "      <th>universe_exclude_subgroups</th>\n",
       "      <th>q_hat</th>\n",
       "      <th>coverage</th>\n",
       "      <th>avg_size</th>\n",
       "    </tr>\n",
       "  </thead>\n",
       "  <tbody>\n",
       "    <tr>\n",
       "      <th>0</th>\n",
       "      <td>4cc8c81eff71d8c6e8bc54b89116759b</td>\n",
       "      <td>2014</td>\n",
       "      <td>1k</td>\n",
       "      <td>do-not-scale</td>\n",
       "      <td>logreg</td>\n",
       "      <td>nationality</td>\n",
       "      <td>keep-all</td>\n",
       "      <td>0.690553</td>\n",
       "      <td>0.909352</td>\n",
       "      <td>1.222383</td>\n",
       "    </tr>\n",
       "  </tbody>\n",
       "</table>\n",
       "</div>"
      ],
      "text/plain": [
       "                        universe_id universe_training_year  \\\n",
       "0  4cc8c81eff71d8c6e8bc54b89116759b                   2014   \n",
       "\n",
       "  universe_training_size universe_scale universe_model  \\\n",
       "0                     1k   do-not-scale         logreg   \n",
       "\n",
       "  universe_exclude_features universe_exclude_subgroups     q_hat  coverage  \\\n",
       "0               nationality                   keep-all  0.690553  0.909352   \n",
       "\n",
       "   avg_size  \n",
       "0  1.222383  "
      ]
     },
     "execution_count": 50,
     "metadata": {},
     "output_type": "execute_result"
    }
   ],
   "source": [
    "cp_metrics_df"
   ]
  },
  {
   "cell_type": "code",
   "execution_count": 51,
   "id": "b7fbde55-a0a1-47e4-9af6-fe4a17fa8c61",
   "metadata": {
    "execution": {
     "iopub.execute_input": "2025-08-05T16:08:48.666500Z",
     "iopub.status.busy": "2025-08-05T16:08:48.666011Z",
     "iopub.status.idle": "2025-08-05T16:08:48.670011Z",
     "shell.execute_reply": "2025-08-05T16:08:48.669262Z"
    },
    "papermill": {
     "duration": 0.016823,
     "end_time": "2025-08-05T16:08:48.671387",
     "exception": false,
     "start_time": "2025-08-05T16:08:48.654564",
     "status": "completed"
    },
    "tags": []
   },
   "outputs": [],
   "source": [
    "# Conditional Coverage & looking at subgroups"
   ]
  },
  {
   "cell_type": "code",
   "execution_count": 52,
   "id": "027ae886-68dd-4141-96c7-805a5450e1ef",
   "metadata": {
    "execution": {
     "iopub.execute_input": "2025-08-05T16:08:48.695050Z",
     "iopub.status.busy": "2025-08-05T16:08:48.694573Z",
     "iopub.status.idle": "2025-08-05T16:08:48.858429Z",
     "shell.execute_reply": "2025-08-05T16:08:48.857673Z"
    },
    "papermill": {
     "duration": 0.176871,
     "end_time": "2025-08-05T16:08:48.859855",
     "exception": false,
     "start_time": "2025-08-05T16:08:48.682984",
     "status": "completed"
    },
    "tags": []
   },
   "outputs": [],
   "source": [
    "from fairness_multiverse.conformal import build_cp_groups\n",
    "\n",
    "cp_groups_df = build_cp_groups(pred_sets, y_true, X_test.index, org_test)\n",
    "#needs universe_id and setting"
   ]
  },
  {
   "cell_type": "code",
   "execution_count": 53,
   "id": "6cbdab96-b2b2-45af-ad54-d0516db2e28d",
   "metadata": {
    "execution": {
     "iopub.execute_input": "2025-08-05T16:08:48.883915Z",
     "iopub.status.busy": "2025-08-05T16:08:48.883680Z",
     "iopub.status.idle": "2025-08-05T16:08:49.882849Z",
     "shell.execute_reply": "2025-08-05T16:08:49.882102Z"
    },
    "papermill": {
     "duration": 1.012622,
     "end_time": "2025-08-05T16:08:49.884422",
     "exception": false,
     "start_time": "2025-08-05T16:08:48.871800",
     "status": "completed"
    },
    "tags": []
   },
   "outputs": [],
   "source": [
    "# Define covered = 1 if true_label is in the predicted set\n",
    "cp_groups_df['covered'] = cp_groups_df.apply(\n",
    "    lambda r: int(r['true_label'] in r['pred_set']),\n",
    "    axis=1\n",
    ")"
   ]
  },
  {
   "cell_type": "code",
   "execution_count": 54,
   "id": "338ff529-1a6b-4b87-a931-8e4788d52aad",
   "metadata": {
    "execution": {
     "iopub.execute_input": "2025-08-05T16:08:49.908411Z",
     "iopub.status.busy": "2025-08-05T16:08:49.908118Z",
     "iopub.status.idle": "2025-08-05T16:08:49.912073Z",
     "shell.execute_reply": "2025-08-05T16:08:49.911389Z"
    },
    "papermill": {
     "duration": 0.016858,
     "end_time": "2025-08-05T16:08:49.913229",
     "exception": false,
     "start_time": "2025-08-05T16:08:49.896371",
     "status": "completed"
    },
    "tags": []
   },
   "outputs": [],
   "source": [
    "#cp_groups_df"
   ]
  },
  {
   "cell_type": "code",
   "execution_count": 55,
   "id": "90032e27-66df-4540-9169-4e89cfbaa758",
   "metadata": {
    "execution": {
     "iopub.execute_input": "2025-08-05T16:08:49.936623Z",
     "iopub.status.busy": "2025-08-05T16:08:49.936146Z",
     "iopub.status.idle": "2025-08-05T16:08:49.974237Z",
     "shell.execute_reply": "2025-08-05T16:08:49.973523Z"
    },
    "papermill": {
     "duration": 0.051024,
     "end_time": "2025-08-05T16:08:49.975438",
     "exception": false,
     "start_time": "2025-08-05T16:08:49.924414",
     "status": "completed"
    },
    "tags": []
   },
   "outputs": [],
   "source": [
    "subgroups = ['frau1','nongerman','nongerman_male','nongerman_female']\n",
    "\n",
    "# Conditional coverage for subgroup==1\n",
    "cond_coverage = {\n",
    "    g: cp_groups_df.loc[cp_groups_df[g]==1, 'covered'].mean()\n",
    "    for g in subgroups\n",
    "}"
   ]
  },
  {
   "cell_type": "code",
   "execution_count": 56,
   "id": "1e348fb1-b9c3-45bc-ba23-f016827a7e0d",
   "metadata": {
    "execution": {
     "iopub.execute_input": "2025-08-05T16:08:49.999726Z",
     "iopub.status.busy": "2025-08-05T16:08:49.999234Z",
     "iopub.status.idle": "2025-08-05T16:08:50.005403Z",
     "shell.execute_reply": "2025-08-05T16:08:50.004626Z"
    },
    "papermill": {
     "duration": 0.019416,
     "end_time": "2025-08-05T16:08:50.006872",
     "exception": false,
     "start_time": "2025-08-05T16:08:49.987456",
     "status": "completed"
    },
    "tags": []
   },
   "outputs": [
    {
     "data": {
      "text/plain": [
       "{'frau1': 0.9071303410163095,\n",
       " 'nongerman': 0.9309493066861281,\n",
       " 'nongerman_male': 0.9443393677384491,\n",
       " 'nongerman_female': 0.9087928464977645}"
      ]
     },
     "execution_count": 56,
     "metadata": {},
     "output_type": "execute_result"
    }
   ],
   "source": [
    "cond_coverage"
   ]
  },
  {
   "cell_type": "code",
   "execution_count": 57,
   "id": "f5093324-c3dd-4d63-bc4c-8d945e5c8bbb",
   "metadata": {
    "execution": {
     "iopub.execute_input": "2025-08-05T16:08:50.030644Z",
     "iopub.status.busy": "2025-08-05T16:08:50.030160Z",
     "iopub.status.idle": "2025-08-05T16:08:50.035540Z",
     "shell.execute_reply": "2025-08-05T16:08:50.034841Z"
    },
    "papermill": {
     "duration": 0.018545,
     "end_time": "2025-08-05T16:08:50.036882",
     "exception": false,
     "start_time": "2025-08-05T16:08:50.018337",
     "status": "completed"
    },
    "tags": []
   },
   "outputs": [],
   "source": [
    "for subgroup, cov in cond_coverage.items():\n",
    "    cp_metrics_df[f\"cov_{subgroup}\"] = cov"
   ]
  },
  {
   "cell_type": "code",
   "execution_count": 58,
   "id": "6e872e10-dbe5-49e8-b554-5030c98ff75d",
   "metadata": {
    "execution": {
     "iopub.execute_input": "2025-08-05T16:08:50.061873Z",
     "iopub.status.busy": "2025-08-05T16:08:50.061336Z",
     "iopub.status.idle": "2025-08-05T16:08:50.075248Z",
     "shell.execute_reply": "2025-08-05T16:08:50.074170Z"
    },
    "papermill": {
     "duration": 0.027711,
     "end_time": "2025-08-05T16:08:50.076651",
     "exception": false,
     "start_time": "2025-08-05T16:08:50.048940",
     "status": "completed"
    },
    "tags": []
   },
   "outputs": [
    {
     "data": {
      "text/html": [
       "<div>\n",
       "<style scoped>\n",
       "    .dataframe tbody tr th:only-of-type {\n",
       "        vertical-align: middle;\n",
       "    }\n",
       "\n",
       "    .dataframe tbody tr th {\n",
       "        vertical-align: top;\n",
       "    }\n",
       "\n",
       "    .dataframe thead th {\n",
       "        text-align: right;\n",
       "    }\n",
       "</style>\n",
       "<table border=\"1\" class=\"dataframe\">\n",
       "  <thead>\n",
       "    <tr style=\"text-align: right;\">\n",
       "      <th></th>\n",
       "      <th>universe_id</th>\n",
       "      <th>universe_training_year</th>\n",
       "      <th>universe_training_size</th>\n",
       "      <th>universe_scale</th>\n",
       "      <th>universe_model</th>\n",
       "      <th>universe_exclude_features</th>\n",
       "      <th>universe_exclude_subgroups</th>\n",
       "      <th>q_hat</th>\n",
       "      <th>coverage</th>\n",
       "      <th>avg_size</th>\n",
       "      <th>cov_frau1</th>\n",
       "      <th>cov_nongerman</th>\n",
       "      <th>cov_nongerman_male</th>\n",
       "      <th>cov_nongerman_female</th>\n",
       "    </tr>\n",
       "  </thead>\n",
       "  <tbody>\n",
       "    <tr>\n",
       "      <th>0</th>\n",
       "      <td>4cc8c81eff71d8c6e8bc54b89116759b</td>\n",
       "      <td>2014</td>\n",
       "      <td>1k</td>\n",
       "      <td>do-not-scale</td>\n",
       "      <td>logreg</td>\n",
       "      <td>nationality</td>\n",
       "      <td>keep-all</td>\n",
       "      <td>0.690553</td>\n",
       "      <td>0.909352</td>\n",
       "      <td>1.222383</td>\n",
       "      <td>0.90713</td>\n",
       "      <td>0.930949</td>\n",
       "      <td>0.944339</td>\n",
       "      <td>0.908793</td>\n",
       "    </tr>\n",
       "  </tbody>\n",
       "</table>\n",
       "</div>"
      ],
      "text/plain": [
       "                        universe_id universe_training_year  \\\n",
       "0  4cc8c81eff71d8c6e8bc54b89116759b                   2014   \n",
       "\n",
       "  universe_training_size universe_scale universe_model  \\\n",
       "0                     1k   do-not-scale         logreg   \n",
       "\n",
       "  universe_exclude_features universe_exclude_subgroups     q_hat  coverage  \\\n",
       "0               nationality                   keep-all  0.690553  0.909352   \n",
       "\n",
       "   avg_size  cov_frau1  cov_nongerman  cov_nongerman_male  \\\n",
       "0  1.222383    0.90713       0.930949            0.944339   \n",
       "\n",
       "   cov_nongerman_female  \n",
       "0              0.908793  "
      ]
     },
     "execution_count": 58,
     "metadata": {},
     "output_type": "execute_result"
    }
   ],
   "source": [
    "cp_metrics_df"
   ]
  },
  {
   "cell_type": "markdown",
   "id": "33774451",
   "metadata": {
    "papermill": {
     "duration": 0.011336,
     "end_time": "2025-08-05T16:08:50.100001",
     "exception": false,
     "start_time": "2025-08-05T16:08:50.088665",
     "status": "completed"
    },
    "tags": []
   },
   "source": [
    "# (Fairness) Metrics"
   ]
  },
  {
   "cell_type": "code",
   "execution_count": 59,
   "id": "debc5d62",
   "metadata": {
    "execution": {
     "iopub.execute_input": "2025-08-05T16:08:50.123710Z",
     "iopub.status.busy": "2025-08-05T16:08:50.123225Z",
     "iopub.status.idle": "2025-08-05T16:08:50.136419Z",
     "shell.execute_reply": "2025-08-05T16:08:50.135754Z"
    },
    "papermill": {
     "duration": 0.026633,
     "end_time": "2025-08-05T16:08:50.137877",
     "exception": false,
     "start_time": "2025-08-05T16:08:50.111244",
     "status": "completed"
    },
    "tags": []
   },
   "outputs": [],
   "source": [
    "# do I need to include maxdeutsch1.missing?\n",
    "\n",
    "import numpy as np\n",
    "\n",
    "colname_to_bin = \"maxdeutsch1\"\n",
    "majority_value = org_train[colname_to_bin].mode()[0]\n",
    "\n",
    "org_test[\"majmin\"] = np.where(org_test[colname_to_bin] == majority_value, \"majority\", \"minority\")"
   ]
  },
  {
   "cell_type": "code",
   "execution_count": 60,
   "id": "06a50de5",
   "metadata": {
    "execution": {
     "iopub.execute_input": "2025-08-05T16:08:50.161850Z",
     "iopub.status.busy": "2025-08-05T16:08:50.161462Z",
     "iopub.status.idle": "2025-08-05T16:08:51.676535Z",
     "shell.execute_reply": "2025-08-05T16:08:51.675800Z"
    },
    "papermill": {
     "duration": 1.528405,
     "end_time": "2025-08-05T16:08:51.677969",
     "exception": false,
     "start_time": "2025-08-05T16:08:50.149564",
     "status": "completed"
    },
    "tags": []
   },
   "outputs": [],
   "source": [
    "example_universe = universe.copy()\n",
    "example_universe[\"cutoff\"] = example_universe[\"cutoff\"][0]\n",
    "example_universe[\"eval_fairness_grouping\"] = example_universe[\"eval_fairness_grouping\"][0]\n",
    "fairness_dict, metric_frame = universe_analysis.compute_metrics(\n",
    "    example_universe,\n",
    "    y_pred_prob=probs_test,\n",
    "    y_test=y_true,\n",
    "    org_test=org_test,\n",
    ")"
   ]
  },
  {
   "cell_type": "markdown",
   "id": "f95d4e02",
   "metadata": {
    "papermill": {
     "duration": 0.011292,
     "end_time": "2025-08-05T16:08:51.701807",
     "exception": false,
     "start_time": "2025-08-05T16:08:51.690515",
     "status": "completed"
    },
    "tags": []
   },
   "source": [
    "# Overall"
   ]
  },
  {
   "cell_type": "markdown",
   "id": "bdee4871",
   "metadata": {
    "papermill": {
     "duration": 0.011374,
     "end_time": "2025-08-05T16:08:51.724795",
     "exception": false,
     "start_time": "2025-08-05T16:08:51.713421",
     "status": "completed"
    },
    "tags": []
   },
   "source": [
    "Fairness\n",
    "Main fairness target: Equalized Odds. Seems to be a better fit than equal opportunity, since we're not only interested in Y = 1. Seems to be a better fit than demographic parity, since we also care about accuracy, not just equal distribution of preds.\n",
    "\n",
    "Pick column for computation of fairness metrics\n",
    "\n",
    "Performance\n",
    "Overall performance measures, most interesting in relation to the measures split by group below"
   ]
  },
  {
   "cell_type": "code",
   "execution_count": 61,
   "id": "c4e067c6",
   "metadata": {
    "execution": {
     "iopub.execute_input": "2025-08-05T16:08:51.748834Z",
     "iopub.status.busy": "2025-08-05T16:08:51.748391Z",
     "iopub.status.idle": "2025-08-05T16:08:51.755859Z",
     "shell.execute_reply": "2025-08-05T16:08:51.755157Z"
    },
    "papermill": {
     "duration": 0.021225,
     "end_time": "2025-08-05T16:08:51.757329",
     "exception": false,
     "start_time": "2025-08-05T16:08:51.736104",
     "status": "completed"
    },
    "tags": []
   },
   "outputs": [
    {
     "data": {
      "text/plain": [
       "accuracy                   0.217846\n",
       "balanced accuracy          0.534032\n",
       "f1                         0.239357\n",
       "precision                  0.136737\n",
       "false positive rate        0.891269\n",
       "false negative rate        0.040667\n",
       "selection rate             0.900000\n",
       "count                  89710.000000\n",
       "dtype: float64"
      ]
     },
     "execution_count": 61,
     "metadata": {},
     "output_type": "execute_result"
    }
   ],
   "source": [
    "metric_frame.overall"
   ]
  },
  {
   "cell_type": "markdown",
   "id": "e968fe9d",
   "metadata": {
    "papermill": {
     "duration": 0.011668,
     "end_time": "2025-08-05T16:08:51.781681",
     "exception": false,
     "start_time": "2025-08-05T16:08:51.770013",
     "status": "completed"
    },
    "tags": []
   },
   "source": [
    "By Group"
   ]
  },
  {
   "cell_type": "code",
   "execution_count": 62,
   "id": "ec325bce",
   "metadata": {
    "execution": {
     "iopub.execute_input": "2025-08-05T16:08:51.806498Z",
     "iopub.status.busy": "2025-08-05T16:08:51.805989Z",
     "iopub.status.idle": "2025-08-05T16:08:51.818108Z",
     "shell.execute_reply": "2025-08-05T16:08:51.817007Z"
    },
    "papermill": {
     "duration": 0.026379,
     "end_time": "2025-08-05T16:08:51.819715",
     "exception": false,
     "start_time": "2025-08-05T16:08:51.793336",
     "status": "completed"
    },
    "tags": []
   },
   "outputs": [
    {
     "data": {
      "text/html": [
       "<div>\n",
       "<style scoped>\n",
       "    .dataframe tbody tr th:only-of-type {\n",
       "        vertical-align: middle;\n",
       "    }\n",
       "\n",
       "    .dataframe tbody tr th {\n",
       "        vertical-align: top;\n",
       "    }\n",
       "\n",
       "    .dataframe thead th {\n",
       "        text-align: right;\n",
       "    }\n",
       "</style>\n",
       "<table border=\"1\" class=\"dataframe\">\n",
       "  <thead>\n",
       "    <tr style=\"text-align: right;\">\n",
       "      <th></th>\n",
       "      <th>accuracy</th>\n",
       "      <th>balanced accuracy</th>\n",
       "      <th>f1</th>\n",
       "      <th>precision</th>\n",
       "      <th>false positive rate</th>\n",
       "      <th>false negative rate</th>\n",
       "      <th>selection rate</th>\n",
       "      <th>count</th>\n",
       "    </tr>\n",
       "    <tr>\n",
       "      <th>majmin</th>\n",
       "      <th></th>\n",
       "      <th></th>\n",
       "      <th></th>\n",
       "      <th></th>\n",
       "      <th></th>\n",
       "      <th></th>\n",
       "      <th></th>\n",
       "      <th></th>\n",
       "    </tr>\n",
       "  </thead>\n",
       "  <tbody>\n",
       "    <tr>\n",
       "      <th>majority</th>\n",
       "      <td>0.239280</td>\n",
       "      <td>0.542157</td>\n",
       "      <td>0.248890</td>\n",
       "      <td>0.143117</td>\n",
       "      <td>0.869515</td>\n",
       "      <td>0.046171</td>\n",
       "      <td>0.880656</td>\n",
       "      <td>69170.0</td>\n",
       "    </tr>\n",
       "    <tr>\n",
       "      <th>minority</th>\n",
       "      <td>0.145667</td>\n",
       "      <td>0.508722</td>\n",
       "      <td>0.209265</td>\n",
       "      <td>0.117131</td>\n",
       "      <td>0.963130</td>\n",
       "      <td>0.019426</td>\n",
       "      <td>0.965141</td>\n",
       "      <td>20540.0</td>\n",
       "    </tr>\n",
       "  </tbody>\n",
       "</table>\n",
       "</div>"
      ],
      "text/plain": [
       "          accuracy  balanced accuracy        f1  precision  \\\n",
       "majmin                                                       \n",
       "majority  0.239280           0.542157  0.248890   0.143117   \n",
       "minority  0.145667           0.508722  0.209265   0.117131   \n",
       "\n",
       "          false positive rate  false negative rate  selection rate    count  \n",
       "majmin                                                                       \n",
       "majority             0.869515             0.046171        0.880656  69170.0  \n",
       "minority             0.963130             0.019426        0.965141  20540.0  "
      ]
     },
     "execution_count": 62,
     "metadata": {},
     "output_type": "execute_result"
    }
   ],
   "source": [
    "metric_frame.by_group"
   ]
  },
  {
   "cell_type": "code",
   "execution_count": 63,
   "id": "a9ddbe63",
   "metadata": {
    "execution": {
     "iopub.execute_input": "2025-08-05T16:08:51.864462Z",
     "iopub.status.busy": "2025-08-05T16:08:51.863784Z",
     "iopub.status.idle": "2025-08-05T16:08:53.794668Z",
     "shell.execute_reply": "2025-08-05T16:08:53.793367Z"
    },
    "papermill": {
     "duration": 1.955325,
     "end_time": "2025-08-05T16:08:53.796355",
     "exception": false,
     "start_time": "2025-08-05T16:08:51.841030",
     "status": "completed"
    },
    "tags": []
   },
   "outputs": [
    {
     "data": {
      "text/plain": [
       "array([[<Axes: title={'center': 'accuracy'}, xlabel='majmin'>,\n",
       "        <Axes: title={'center': 'balanced accuracy'}, xlabel='majmin'>,\n",
       "        <Axes: title={'center': 'f1'}, xlabel='majmin'>],\n",
       "       [<Axes: title={'center': 'precision'}, xlabel='majmin'>,\n",
       "        <Axes: title={'center': 'false positive rate'}, xlabel='majmin'>,\n",
       "        <Axes: title={'center': 'false negative rate'}, xlabel='majmin'>],\n",
       "       [<Axes: title={'center': 'selection rate'}, xlabel='majmin'>,\n",
       "        <Axes: title={'center': 'count'}, xlabel='majmin'>,\n",
       "        <Axes: xlabel='majmin'>]], dtype=object)"
      ]
     },
     "execution_count": 63,
     "metadata": {},
     "output_type": "execute_result"
    },
    {
     "data": {
      "image/png": "[encoded data removed]",
      "text/plain": [
       "<Figure size 1200x800 with 9 Axes>"
      ]
     },
     "metadata": {},
     "output_type": "display_data"
    }
   ],
   "source": [
    "# In a graphic\n",
    "metric_frame.by_group.plot.bar(\n",
    "    subplots=True,\n",
    "    layout=[3, 3],\n",
    "    legend=False,\n",
    "    figsize=[12, 8],\n",
    "    title=\"Show all metrics\",\n",
    ")"
   ]
  },
  {
   "cell_type": "markdown",
   "id": "f57a0bac",
   "metadata": {
    "papermill": {
     "duration": 0.013085,
     "end_time": "2025-08-05T16:08:53.835493",
     "exception": false,
     "start_time": "2025-08-05T16:08:53.822408",
     "status": "completed"
    },
    "tags": []
   },
   "source": [
    "# Final Output"
   ]
  },
  {
   "cell_type": "code",
   "execution_count": 64,
   "id": "96d280a3",
   "metadata": {
    "execution": {
     "iopub.execute_input": "2025-08-05T16:08:53.862434Z",
     "iopub.status.busy": "2025-08-05T16:08:53.861934Z",
     "iopub.status.idle": "2025-08-05T16:08:53.869442Z",
     "shell.execute_reply": "2025-08-05T16:08:53.868475Z"
    },
    "papermill": {
     "duration": 0.023137,
     "end_time": "2025-08-05T16:08:53.871242",
     "exception": false,
     "start_time": "2025-08-05T16:08:53.848105",
     "status": "completed"
    },
    "tags": []
   },
   "outputs": [
    {
     "data": {
      "text/plain": [
       "4"
      ]
     },
     "execution_count": 64,
     "metadata": {},
     "output_type": "execute_result"
    }
   ],
   "source": [
    "sub_universes = universe_analysis.generate_sub_universes()\n",
    "len(sub_universes)"
   ]
  },
  {
   "cell_type": "code",
   "execution_count": 65,
   "id": "92adf7ba",
   "metadata": {
    "execution": {
     "iopub.execute_input": "2025-08-05T16:08:53.909557Z",
     "iopub.status.busy": "2025-08-05T16:08:53.908953Z",
     "iopub.status.idle": "2025-08-05T16:08:53.913697Z",
     "shell.execute_reply": "2025-08-05T16:08:53.912871Z"
    },
    "papermill": {
     "duration": 0.02454,
     "end_time": "2025-08-05T16:08:53.915288",
     "exception": false,
     "start_time": "2025-08-05T16:08:53.890748",
     "status": "completed"
    },
    "tags": []
   },
   "outputs": [],
   "source": [
    "def filter_sub_universe_data(sub_universe, org_test):\n",
    "    # Keep all rows — no filtering\n",
    "    keep_rows_mask = np.ones(org_test.shape[0], dtype=bool)\n",
    "\n",
    "    print(f\"[INFO] Keeping all rows: {keep_rows_mask.sum()} rows retained.\")\n",
    "    return keep_rows_mask"
   ]
  },
  {
   "cell_type": "code",
   "execution_count": 66,
   "id": "4a759155",
   "metadata": {
    "execution": {
     "iopub.execute_input": "2025-08-05T16:08:53.959605Z",
     "iopub.status.busy": "2025-08-05T16:08:53.959093Z",
     "iopub.status.idle": "2025-08-05T16:09:02.165722Z",
     "shell.execute_reply": "2025-08-05T16:09:02.164739Z"
    },
    "papermill": {
     "duration": 8.228231,
     "end_time": "2025-08-05T16:09:02.167466",
     "exception": false,
     "start_time": "2025-08-05T16:08:53.939235",
     "status": "completed"
    },
    "tags": []
   },
   "outputs": [
    {
     "name": "stdout",
     "output_type": "stream",
     "text": [
      "Stopping execution_time clock.\n",
      "[INFO] Keeping all rows: 89710 rows retained.\n"
     ]
    },
    {
     "name": "stdout",
     "output_type": "stream",
     "text": [
      "[INFO] Keeping all rows: 89710 rows retained.\n"
     ]
    },
    {
     "name": "stdout",
     "output_type": "stream",
     "text": [
      "[INFO] Keeping all rows: 89710 rows retained.\n"
     ]
    },
    {
     "name": "stdout",
     "output_type": "stream",
     "text": [
      "[INFO] Keeping all rows: 89710 rows retained.\n"
     ]
    },
    {
     "data": {
      "text/html": [
       "<div>\n",
       "<style scoped>\n",
       "    .dataframe tbody tr th:only-of-type {\n",
       "        vertical-align: middle;\n",
       "    }\n",
       "\n",
       "    .dataframe tbody tr th {\n",
       "        vertical-align: top;\n",
       "    }\n",
       "\n",
       "    .dataframe thead th {\n",
       "        text-align: right;\n",
       "    }\n",
       "</style>\n",
       "<table border=\"1\" class=\"dataframe\">\n",
       "  <thead>\n",
       "    <tr style=\"text-align: right;\">\n",
       "      <th></th>\n",
       "      <th>run_no</th>\n",
       "      <th>universe_id</th>\n",
       "      <th>universe_settings</th>\n",
       "      <th>execution_time</th>\n",
       "      <th>test_size_n</th>\n",
       "      <th>test_size_frac</th>\n",
       "      <th>fair_main_equalized_odds_difference</th>\n",
       "      <th>fair_main_equalized_odds_ratio</th>\n",
       "      <th>fair_main_demographic_parity_difference</th>\n",
       "      <th>fair_main_demographic_parity_ratio</th>\n",
       "      <th>...</th>\n",
       "      <th>perf_grp_precision_0</th>\n",
       "      <th>perf_grp_precision_1</th>\n",
       "      <th>perf_grp_false positive rate_0</th>\n",
       "      <th>perf_grp_false positive rate_1</th>\n",
       "      <th>perf_grp_false negative rate_0</th>\n",
       "      <th>perf_grp_false negative rate_1</th>\n",
       "      <th>perf_grp_selection rate_0</th>\n",
       "      <th>perf_grp_selection rate_1</th>\n",
       "      <th>perf_grp_count_0</th>\n",
       "      <th>perf_grp_count_1</th>\n",
       "    </tr>\n",
       "  </thead>\n",
       "  <tbody>\n",
       "    <tr>\n",
       "      <th>0</th>\n",
       "      <td>15</td>\n",
       "      <td>4cc8c81eff71d8c6e8bc54b89116759b</td>\n",
       "      <td>{\"cutoff\": \"quantile_0.1\", \"eval_fairness_grou...</td>\n",
       "      <td>23.28229</td>\n",
       "      <td>89710</td>\n",
       "      <td>1.0</td>\n",
       "      <td>0.093615</td>\n",
       "      <td>0.902801</td>\n",
       "      <td>0.084485</td>\n",
       "      <td>0.912464</td>\n",
       "      <td>...</td>\n",
       "      <td>NaN</td>\n",
       "      <td>NaN</td>\n",
       "      <td>NaN</td>\n",
       "      <td>NaN</td>\n",
       "      <td>NaN</td>\n",
       "      <td>NaN</td>\n",
       "      <td>NaN</td>\n",
       "      <td>NaN</td>\n",
       "      <td>NaN</td>\n",
       "      <td>NaN</td>\n",
       "    </tr>\n",
       "    <tr>\n",
       "      <th>0</th>\n",
       "      <td>15</td>\n",
       "      <td>4cc8c81eff71d8c6e8bc54b89116759b</td>\n",
       "      <td>{\"cutoff\": \"quantile_0.1\", \"eval_fairness_grou...</td>\n",
       "      <td>23.28229</td>\n",
       "      <td>89710</td>\n",
       "      <td>1.0</td>\n",
       "      <td>0.093615</td>\n",
       "      <td>0.902801</td>\n",
       "      <td>0.084485</td>\n",
       "      <td>0.912464</td>\n",
       "      <td>...</td>\n",
       "      <td>0.117131</td>\n",
       "      <td>0.143117</td>\n",
       "      <td>0.963130</td>\n",
       "      <td>0.869515</td>\n",
       "      <td>0.019426</td>\n",
       "      <td>0.046171</td>\n",
       "      <td>0.965141</td>\n",
       "      <td>0.880656</td>\n",
       "      <td>20540.0</td>\n",
       "      <td>69170.0</td>\n",
       "    </tr>\n",
       "    <tr>\n",
       "      <th>0</th>\n",
       "      <td>15</td>\n",
       "      <td>4cc8c81eff71d8c6e8bc54b89116759b</td>\n",
       "      <td>{\"cutoff\": \"quantile_0.25\", \"eval_fairness_gro...</td>\n",
       "      <td>23.28229</td>\n",
       "      <td>89710</td>\n",
       "      <td>1.0</td>\n",
       "      <td>0.209489</td>\n",
       "      <td>0.765488</td>\n",
       "      <td>0.192024</td>\n",
       "      <td>0.786177</td>\n",
       "      <td>...</td>\n",
       "      <td>NaN</td>\n",
       "      <td>NaN</td>\n",
       "      <td>NaN</td>\n",
       "      <td>NaN</td>\n",
       "      <td>NaN</td>\n",
       "      <td>NaN</td>\n",
       "      <td>NaN</td>\n",
       "      <td>NaN</td>\n",
       "      <td>NaN</td>\n",
       "      <td>NaN</td>\n",
       "    </tr>\n",
       "    <tr>\n",
       "      <th>0</th>\n",
       "      <td>15</td>\n",
       "      <td>4cc8c81eff71d8c6e8bc54b89116759b</td>\n",
       "      <td>{\"cutoff\": \"quantile_0.25\", \"eval_fairness_gro...</td>\n",
       "      <td>23.28229</td>\n",
       "      <td>89710</td>\n",
       "      <td>1.0</td>\n",
       "      <td>0.209489</td>\n",
       "      <td>0.765488</td>\n",
       "      <td>0.192024</td>\n",
       "      <td>0.786177</td>\n",
       "      <td>...</td>\n",
       "      <td>0.119972</td>\n",
       "      <td>0.159452</td>\n",
       "      <td>0.893297</td>\n",
       "      <td>0.683808</td>\n",
       "      <td>0.065456</td>\n",
       "      <td>0.148031</td>\n",
       "      <td>0.898053</td>\n",
       "      <td>0.706029</td>\n",
       "      <td>20540.0</td>\n",
       "      <td>69170.0</td>\n",
       "    </tr>\n",
       "  </tbody>\n",
       "</table>\n",
       "<p>4 rows × 50 columns</p>\n",
       "</div>"
      ],
      "text/plain": [
       "  run_no                       universe_id  \\\n",
       "0     15  4cc8c81eff71d8c6e8bc54b89116759b   \n",
       "0     15  4cc8c81eff71d8c6e8bc54b89116759b   \n",
       "0     15  4cc8c81eff71d8c6e8bc54b89116759b   \n",
       "0     15  4cc8c81eff71d8c6e8bc54b89116759b   \n",
       "\n",
       "                                   universe_settings  execution_time  \\\n",
       "0  {\"cutoff\": \"quantile_0.1\", \"eval_fairness_grou...        23.28229   \n",
       "0  {\"cutoff\": \"quantile_0.1\", \"eval_fairness_grou...        23.28229   \n",
       "0  {\"cutoff\": \"quantile_0.25\", \"eval_fairness_gro...        23.28229   \n",
       "0  {\"cutoff\": \"quantile_0.25\", \"eval_fairness_gro...        23.28229   \n",
       "\n",
       "   test_size_n  test_size_frac  fair_main_equalized_odds_difference  \\\n",
       "0        89710             1.0                             0.093615   \n",
       "0        89710             1.0                             0.093615   \n",
       "0        89710             1.0                             0.209489   \n",
       "0        89710             1.0                             0.209489   \n",
       "\n",
       "   fair_main_equalized_odds_ratio  fair_main_demographic_parity_difference  \\\n",
       "0                        0.902801                                 0.084485   \n",
       "0                        0.902801                                 0.084485   \n",
       "0                        0.765488                                 0.192024   \n",
       "0                        0.765488                                 0.192024   \n",
       "\n",
       "   fair_main_demographic_parity_ratio  ...  perf_grp_precision_0  \\\n",
       "0                            0.912464  ...                   NaN   \n",
       "0                            0.912464  ...              0.117131   \n",
       "0                            0.786177  ...                   NaN   \n",
       "0                            0.786177  ...              0.119972   \n",
       "\n",
       "   perf_grp_precision_1  perf_grp_false positive rate_0  \\\n",
       "0                   NaN                             NaN   \n",
       "0              0.143117                        0.963130   \n",
       "0                   NaN                             NaN   \n",
       "0              0.159452                        0.893297   \n",
       "\n",
       "   perf_grp_false positive rate_1  perf_grp_false negative rate_0  \\\n",
       "0                             NaN                             NaN   \n",
       "0                        0.869515                        0.019426   \n",
       "0                             NaN                             NaN   \n",
       "0                        0.683808                        0.065456   \n",
       "\n",
       "   perf_grp_false negative rate_1  perf_grp_selection rate_0  \\\n",
       "0                             NaN                        NaN   \n",
       "0                        0.046171                   0.965141   \n",
       "0                             NaN                        NaN   \n",
       "0                        0.148031                   0.898053   \n",
       "\n",
       "   perf_grp_selection rate_1  perf_grp_count_0  perf_grp_count_1  \n",
       "0                        NaN               NaN               NaN  \n",
       "0                   0.880656           20540.0           69170.0  \n",
       "0                        NaN               NaN               NaN  \n",
       "0                   0.706029           20540.0           69170.0  \n",
       "\n",
       "[4 rows x 50 columns]"
      ]
     },
     "execution_count": 66,
     "metadata": {},
     "output_type": "execute_result"
    }
   ],
   "source": [
    "final_output = universe_analysis.generate_final_output(\n",
    "    y_pred_prob=probs_test,\n",
    "    y_test=y_true,\n",
    "    org_test=org_test,\n",
    "    filter_data=filter_sub_universe_data,\n",
    "    cp_metrics_df=cp_metrics_df,\n",
    "    save=True,\n",
    ")\n",
    "final_output"
   ]
  }
 ],
 "metadata": {
  "celltoolbar": "Tags",
  "kernelspec": {
   "display_name": "Python (CMA Fairness)",
   "language": "python",
   "name": "cma_fair_env"
  },
  "language_info": {
   "codemirror_mode": {
    "name": "ipython",
    "version": 3
   },
   "file_extension": ".py",
   "mimetype": "text/x-python",
   "name": "python",
   "nbconvert_exporter": "python",
   "pygments_lexer": "ipython3",
   "version": "3.10.12"
  },
  "papermill": {
   "default_parameters": {},
   "duration": 35.673871,
   "end_time": "2025-08-05T16:09:02.920141",
   "environment_variables": {},
   "exception": null,
   "input_path": "universe_analysis.ipynb",
   "output_path": "output/runs/15/notebooks/m_15-4cc8c81eff71d8c6e8bc54b89116759b.ipynb",
   "parameters": {
    "output_dir": "output",
    "run_no": "15",
    "seed": "2023",
    "universe": "{\"cutoff\": [\"quantile_0.1\", \"quantile_0.25\"], \"eval_fairness_grouping\": [\"majority-minority\", \"nationality-all\"], \"exclude_features\": \"nationality\", \"exclude_subgroups\": \"keep-all\", \"model\": \"logreg\", \"scale\": \"do-not-scale\", \"training_size\": \"1k\", \"training_year\": \"2014\"}",
    "universe_id": "4cc8c81eff71d8c6e8bc54b89116759b"
   },
   "start_time": "2025-08-05T16:08:27.246270",
   "version": "2.6.0"
  }
 },
 "nbformat": 4,
 "nbformat_minor": 5
}