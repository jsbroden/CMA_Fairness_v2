{
 "cells": [
  {
   "cell_type": "code",
   "execution_count": 1,
   "id": "f159f837-637b-42ba-96b5-ec9a68c44524",
   "metadata": {
    "execution": {
     "iopub.execute_input": "2025-08-05T16:39:27.081027Z",
     "iopub.status.busy": "2025-08-05T16:39:27.080317Z",
     "iopub.status.idle": "2025-08-05T16:39:27.091218Z",
     "shell.execute_reply": "2025-08-05T16:39:27.090255Z"
    },
    "papermill": {
     "duration": 0.022251,
     "end_time": "2025-08-05T16:39:27.092697",
     "exception": false,
     "start_time": "2025-08-05T16:39:27.070446",
     "status": "completed"
    },
    "tags": []
   },
   "outputs": [
    {
     "name": "stdout",
     "output_type": "stream",
     "text": [
      "/dss/dsshome1/0C/ra93lal2/cma/CMA_Fairness_v2\n"
     ]
    },
    {
     "name": "stderr",
     "output_type": "stream",
     "text": [
      "/dss/dsshome1/0C/ra93lal2/.local/share/virtualenvs/CMA_Fairness_v2-3j10GkSs/lib/python3.10/site-packages/IPython/core/magics/osm.py:393: UserWarning: This is now an optional IPython functionality, using bookmarks requires you to install the `pickleshare` library.\n",
      "  bkms = self.shell.db.get('bookmarks', {})\n",
      "/dss/dsshome1/0C/ra93lal2/.local/share/virtualenvs/CMA_Fairness_v2-3j10GkSs/lib/python3.10/site-packages/IPython/core/magics/osm.py:417: UserWarning: This is now an optional IPython functionality, setting dhist requires you to install the `pickleshare` library.\n",
      "  self.shell.db['dhist'] = compress_dhist(dhist)[-100:]\n"
     ]
    }
   ],
   "source": [
    "%cd ~/cma/CMA_Fairness_v2"
   ]
  },
  {
   "cell_type": "markdown",
   "id": "de2603b9",
   "metadata": {
    "papermill": {
     "duration": 0.008388,
     "end_time": "2025-08-05T16:39:27.110008",
     "exception": false,
     "start_time": "2025-08-05T16:39:27.101620",
     "status": "completed"
    },
    "tags": []
   },
   "source": [
    "The following cell holds the definition of our parameters, these values can be overriden by rendering the with e.g. the following command:\n",
    "\n",
    "papermill -p alpha 0.2 -p ratio 0.3 universe_analysis.ipynb output/test_run.ipynb"
   ]
  },
  {
   "cell_type": "code",
   "execution_count": 2,
   "id": "a80968a0-40bb-4fa9-85ef-2d5eefb01975",
   "metadata": {
    "execution": {
     "iopub.execute_input": "2025-08-05T16:39:27.127861Z",
     "iopub.status.busy": "2025-08-05T16:39:27.127382Z",
     "iopub.status.idle": "2025-08-05T16:39:27.131978Z",
     "shell.execute_reply": "2025-08-05T16:39:27.131266Z"
    },
    "papermill": {
     "duration": 0.01533,
     "end_time": "2025-08-05T16:39:27.133605",
     "exception": false,
     "start_time": "2025-08-05T16:39:27.118275",
     "status": "completed"
    },
    "tags": []
   },
   "outputs": [
    {
     "name": "stdout",
     "output_type": "stream",
     "text": [
      "Current working directory: /dss/dsshome1/0C/ra93lal2/cma/CMA_Fairness_v2\n"
     ]
    }
   ],
   "source": [
    "import os\n",
    "print(\"Current working directory:\", os.getcwd())"
   ]
  },
  {
   "cell_type": "code",
   "execution_count": 3,
   "id": "2dce4c03",
   "metadata": {
    "execution": {
     "iopub.execute_input": "2025-08-05T16:39:27.153572Z",
     "iopub.status.busy": "2025-08-05T16:39:27.153277Z",
     "iopub.status.idle": "2025-08-05T16:39:27.158258Z",
     "shell.execute_reply": "2025-08-05T16:39:27.157457Z"
    },
    "papermill": {
     "duration": 0.01685,
     "end_time": "2025-08-05T16:39:27.160218",
     "exception": false,
     "start_time": "2025-08-05T16:39:27.143368",
     "status": "completed"
    },
    "tags": [
     "parameters"
    ]
   },
   "outputs": [],
   "source": [
    "run_no = 0\n",
    "universe_id = \"test\"\n",
    "universe = {\n",
    "    \"training_size\": \"25k\", # \"25k\", \"5k\", \"1k\"\n",
    "    \"training_year\": \"2014\", # \"2014\", \"2012_14\", \"2010_14\"\n",
    "    \"scale\": \"scale\", # \"scale\", \"do-not-scale\",\n",
    "    \"model\": \"elasticnet\", # \"logreg\", \"penalized_logreg\", \"rf\", \"gbm\", \"elasticnet\"\n",
    "    \"cutoff\": [\"quantile_0.15\", \"quantile_0.30\"],\n",
    "    \"exclude_features\": \"age\", # \"none\", \"nationality\", \"sex\", \"nationality-sex\", \"age\"\n",
    "    \"exclude_subgroups\": \"keep-all\", # \"keep-all\", \"drop-non-german\"\n",
    "    \"eval_fairness_grouping\": [\"majority-minority\", \"nationality-all\"]\n",
    "}\n",
    "\n",
    "output_dir=\"./output\"\n",
    "seed=0"
   ]
  },
  {
   "cell_type": "code",
   "execution_count": 4,
   "id": "7f04a562",
   "metadata": {
    "execution": {
     "iopub.execute_input": "2025-08-05T16:39:27.202396Z",
     "iopub.status.busy": "2025-08-05T16:39:27.201575Z",
     "iopub.status.idle": "2025-08-05T16:39:27.207276Z",
     "shell.execute_reply": "2025-08-05T16:39:27.206069Z"
    },
    "papermill": {
     "duration": 0.029482,
     "end_time": "2025-08-05T16:39:27.209179",
     "exception": false,
     "start_time": "2025-08-05T16:39:27.179697",
     "status": "completed"
    },
    "tags": [
     "injected-parameters"
    ]
   },
   "outputs": [],
   "source": [
    "# Parameters\n",
    "universe_id = \"26239ec606a5746569d2f48e33b3a1e3\"\n",
    "run_no = \"15\"\n",
    "universe = \"{\\\"cutoff\\\": [\\\"quantile_0.1\\\", \\\"quantile_0.25\\\"], \\\"eval_fairness_grouping\\\": [\\\"majority-minority\\\", \\\"nationality-all\\\"], \\\"exclude_features\\\": \\\"age\\\", \\\"exclude_subgroups\\\": \\\"keep-all\\\", \\\"model\\\": \\\"logreg\\\", \\\"scale\\\": \\\"do-not-scale\\\", \\\"training_size\\\": \\\"1k\\\", \\\"training_year\\\": \\\"2010_14\\\"}\"\n",
    "output_dir = \"output\"\n",
    "seed = \"2023\"\n"
   ]
  },
  {
   "cell_type": "code",
   "execution_count": 5,
   "id": "1650acaf",
   "metadata": {
    "execution": {
     "iopub.execute_input": "2025-08-05T16:39:27.245202Z",
     "iopub.status.busy": "2025-08-05T16:39:27.244660Z",
     "iopub.status.idle": "2025-08-05T16:39:27.250880Z",
     "shell.execute_reply": "2025-08-05T16:39:27.249845Z"
    },
    "papermill": {
     "duration": 0.025485,
     "end_time": "2025-08-05T16:39:27.253181",
     "exception": false,
     "start_time": "2025-08-05T16:39:27.227696",
     "status": "completed"
    },
    "tags": []
   },
   "outputs": [],
   "source": [
    "import json\n",
    "if isinstance(universe, str):\n",
    "    universe = json.loads(universe)"
   ]
  },
  {
   "cell_type": "code",
   "execution_count": 6,
   "id": "16620c48",
   "metadata": {
    "execution": {
     "iopub.execute_input": "2025-08-05T16:39:27.299043Z",
     "iopub.status.busy": "2025-08-05T16:39:27.298611Z",
     "iopub.status.idle": "2025-08-05T16:39:27.325888Z",
     "shell.execute_reply": "2025-08-05T16:39:27.325164Z"
    },
    "papermill": {
     "duration": 0.047335,
     "end_time": "2025-08-05T16:39:27.327105",
     "exception": false,
     "start_time": "2025-08-05T16:39:27.279770",
     "status": "completed"
    },
    "tags": []
   },
   "outputs": [],
   "source": [
    "# Auto-reload the custom package\n",
    "%load_ext autoreload\n",
    "%autoreload 1\n",
    "%aimport fairness_multiverse"
   ]
  },
  {
   "cell_type": "code",
   "execution_count": 7,
   "id": "01c5c9f3",
   "metadata": {
    "execution": {
     "iopub.execute_input": "2025-08-05T16:39:27.345489Z",
     "iopub.status.busy": "2025-08-05T16:39:27.345162Z",
     "iopub.status.idle": "2025-08-05T16:39:28.740944Z",
     "shell.execute_reply": "2025-08-05T16:39:28.740027Z"
    },
    "papermill": {
     "duration": 1.406494,
     "end_time": "2025-08-05T16:39:28.742559",
     "exception": false,
     "start_time": "2025-08-05T16:39:27.336065",
     "status": "completed"
    },
    "tags": []
   },
   "outputs": [],
   "source": [
    "from fairness_multiverse.universe import UniverseAnalysis\n",
    "\n",
    "universe_analysis = UniverseAnalysis(\n",
    "    run_no = run_no,\n",
    "    universe_id = universe_id,\n",
    "    universe = universe,\n",
    "    output_dir=output_dir,\n",
    ")"
   ]
  },
  {
   "cell_type": "code",
   "execution_count": 8,
   "id": "106241f5",
   "metadata": {
    "execution": {
     "iopub.execute_input": "2025-08-05T16:39:28.762567Z",
     "iopub.status.busy": "2025-08-05T16:39:28.762244Z",
     "iopub.status.idle": "2025-08-05T16:39:28.767902Z",
     "shell.execute_reply": "2025-08-05T16:39:28.766887Z"
    },
    "papermill": {
     "duration": 0.017037,
     "end_time": "2025-08-05T16:39:28.769348",
     "exception": false,
     "start_time": "2025-08-05T16:39:28.752311",
     "status": "completed"
    },
    "tags": []
   },
   "outputs": [
    {
     "name": "stdout",
     "output_type": "stream",
     "text": [
      "Using Seed: 2023\n"
     ]
    }
   ],
   "source": [
    "import numpy as np\n",
    "parsed_seed = int(seed)\n",
    "np.random.seed(parsed_seed)\n",
    "print(f\"Using Seed: {parsed_seed}\")"
   ]
  },
  {
   "cell_type": "markdown",
   "id": "e0ebdc57",
   "metadata": {
    "papermill": {
     "duration": 0.008717,
     "end_time": "2025-08-05T16:39:28.787931",
     "exception": false,
     "start_time": "2025-08-05T16:39:28.779214",
     "status": "completed"
    },
    "tags": []
   },
   "source": [
    "# Loading Data"
   ]
  },
  {
   "cell_type": "code",
   "execution_count": 9,
   "id": "f0496b8a",
   "metadata": {
    "execution": {
     "iopub.execute_input": "2025-08-05T16:39:28.806232Z",
     "iopub.status.busy": "2025-08-05T16:39:28.805709Z",
     "iopub.status.idle": "2025-08-05T16:39:39.797669Z",
     "shell.execute_reply": "2025-08-05T16:39:39.796612Z"
    },
    "papermill": {
     "duration": 11.003002,
     "end_time": "2025-08-05T16:39:39.799448",
     "exception": false,
     "start_time": "2025-08-05T16:39:28.796446",
     "status": "completed"
    },
    "tags": []
   },
   "outputs": [
    {
     "name": "stdout",
     "output_type": "stream",
     "text": [
      "Loading SIAB data from cache: data/siab_cached.csv.gz\n"
     ]
    },
    {
     "name": "stdout",
     "output_type": "stream",
     "text": [
      "(643690, 164)\n"
     ]
    }
   ],
   "source": [
    "from pathlib import Path\n",
    "import pandas as pd\n",
    "\n",
    "# File paths\n",
    "raw_file = Path(\"data/raw/siab.csv\")\n",
    "cache_file = Path(\"data/siab_cached.csv.gz\")\n",
    "\n",
    "# Ensure cache directory exists\n",
    "cache_file.parent.mkdir(parents=True, exist_ok=True)\n",
    "\n",
    "# Load with simple caching\n",
    "if cache_file.exists():\n",
    "    print(f\"Loading SIAB data from cache: {cache_file}\")\n",
    "    siab = pd.read_csv(cache_file, compression='gzip')\n",
    "else:\n",
    "    print(f\"Cache not found. Reading raw SIAB data: {raw_file}\")\n",
    "    siab = pd.read_csv(raw_file)\n",
    "    siab.to_csv(cache_file, index=False, compression='gzip')\n",
    "    print(f\"Cached SIAB data to: {cache_file}\")\n",
    "\n",
    "print(siab.shape)"
   ]
  },
  {
   "cell_type": "code",
   "execution_count": 10,
   "id": "db0ca512-5f53-4dba-abdb-a2888bca41ba",
   "metadata": {
    "execution": {
     "iopub.execute_input": "2025-08-05T16:39:39.843958Z",
     "iopub.status.busy": "2025-08-05T16:39:39.843458Z",
     "iopub.status.idle": "2025-08-05T16:39:39.849091Z",
     "shell.execute_reply": "2025-08-05T16:39:39.848116Z"
    },
    "papermill": {
     "duration": 0.027961,
     "end_time": "2025-08-05T16:39:39.851066",
     "exception": false,
     "start_time": "2025-08-05T16:39:39.823105",
     "status": "completed"
    },
    "tags": []
   },
   "outputs": [],
   "source": [
    "#siab"
   ]
  },
  {
   "cell_type": "markdown",
   "id": "997051c5-15bd-4b69-9786-c3001a3ce484",
   "metadata": {
    "papermill": {
     "duration": 0.020624,
     "end_time": "2025-08-05T16:39:39.891098",
     "exception": false,
     "start_time": "2025-08-05T16:39:39.870474",
     "status": "completed"
    },
    "tags": []
   },
   "source": [
    "# Splitting Data and Setting Training Data Size"
   ]
  },
  {
   "cell_type": "code",
   "execution_count": 11,
   "id": "aea9c6ef-6f46-42c8-85eb-5a62025c1508",
   "metadata": {
    "execution": {
     "iopub.execute_input": "2025-08-05T16:39:39.932728Z",
     "iopub.status.busy": "2025-08-05T16:39:39.932214Z",
     "iopub.status.idle": "2025-08-05T16:39:41.040859Z",
     "shell.execute_reply": "2025-08-05T16:39:41.039579Z"
    },
    "papermill": {
     "duration": 1.132798,
     "end_time": "2025-08-05T16:39:41.043029",
     "exception": false,
     "start_time": "2025-08-05T16:39:39.910231",
     "status": "completed"
    },
    "tags": []
   },
   "outputs": [],
   "source": [
    "from fairness_multiverse.universe import sample_by_year_size\n",
    "\n",
    "siab_train = sample_by_year_size(siab,\n",
    "                               training_year=universe[\"training_year\"],\n",
    "                               training_size=universe[\"training_size\"])"
   ]
  },
  {
   "cell_type": "code",
   "execution_count": 12,
   "id": "8d3afb32-789d-442c-8d5d-9f5aa8dd2eed",
   "metadata": {
    "execution": {
     "iopub.execute_input": "2025-08-05T16:39:41.082395Z",
     "iopub.status.busy": "2025-08-05T16:39:41.081586Z",
     "iopub.status.idle": "2025-08-05T16:39:41.087864Z",
     "shell.execute_reply": "2025-08-05T16:39:41.086703Z"
    },
    "papermill": {
     "duration": 0.028102,
     "end_time": "2025-08-05T16:39:41.089930",
     "exception": false,
     "start_time": "2025-08-05T16:39:41.061828",
     "status": "completed"
    },
    "tags": []
   },
   "outputs": [],
   "source": [
    "#siab_train.shape"
   ]
  },
  {
   "cell_type": "code",
   "execution_count": 13,
   "id": "d582db68-1a4c-47fb-84fc-08518dc1975a",
   "metadata": {
    "execution": {
     "iopub.execute_input": "2025-08-05T16:39:41.127215Z",
     "iopub.status.busy": "2025-08-05T16:39:41.126568Z",
     "iopub.status.idle": "2025-08-05T16:39:41.132357Z",
     "shell.execute_reply": "2025-08-05T16:39:41.131326Z"
    },
    "papermill": {
     "duration": 0.02698,
     "end_time": "2025-08-05T16:39:41.134223",
     "exception": false,
     "start_time": "2025-08-05T16:39:41.107243",
     "status": "completed"
    },
    "tags": []
   },
   "outputs": [],
   "source": [
    "#display(siab_train.groupby(\"year\").size())"
   ]
  },
  {
   "cell_type": "code",
   "execution_count": 14,
   "id": "a561edb4-d032-42cb-8256-22eac1111c64",
   "metadata": {
    "execution": {
     "iopub.execute_input": "2025-08-05T16:39:41.171577Z",
     "iopub.status.busy": "2025-08-05T16:39:41.170959Z",
     "iopub.status.idle": "2025-08-05T16:39:41.570902Z",
     "shell.execute_reply": "2025-08-05T16:39:41.569275Z"
    },
    "papermill": {
     "duration": 0.420058,
     "end_time": "2025-08-05T16:39:41.573027",
     "exception": false,
     "start_time": "2025-08-05T16:39:41.152969",
     "status": "completed"
    },
    "tags": []
   },
   "outputs": [],
   "source": [
    "#siab_train = siab_s[siab_s.year < 2015]\n",
    "siab_calib = siab[siab.year == 2015]\n",
    "siab_test = siab[siab.year == 2016]"
   ]
  },
  {
   "cell_type": "code",
   "execution_count": 15,
   "id": "472de16f-c3db-4916-846b-1f0de9cf1746",
   "metadata": {
    "execution": {
     "iopub.execute_input": "2025-08-05T16:39:41.611526Z",
     "iopub.status.busy": "2025-08-05T16:39:41.610667Z",
     "iopub.status.idle": "2025-08-05T16:39:41.619649Z",
     "shell.execute_reply": "2025-08-05T16:39:41.618484Z"
    },
    "papermill": {
     "duration": 0.030716,
     "end_time": "2025-08-05T16:39:41.621787",
     "exception": false,
     "start_time": "2025-08-05T16:39:41.591071",
     "status": "completed"
    },
    "tags": []
   },
   "outputs": [],
   "source": [
    "X_train = siab_train.iloc[:,4:164]\n",
    "y_train = siab_train.iloc[:, [3]]"
   ]
  },
  {
   "cell_type": "code",
   "execution_count": 16,
   "id": "828c96af-f43a-4ed6-ba47-8ac73a47d56c",
   "metadata": {
    "execution": {
     "iopub.execute_input": "2025-08-05T16:39:41.658854Z",
     "iopub.status.busy": "2025-08-05T16:39:41.658371Z",
     "iopub.status.idle": "2025-08-05T16:39:41.712473Z",
     "shell.execute_reply": "2025-08-05T16:39:41.711278Z"
    },
    "papermill": {
     "duration": 0.074119,
     "end_time": "2025-08-05T16:39:41.714435",
     "exception": false,
     "start_time": "2025-08-05T16:39:41.640316",
     "status": "completed"
    },
    "tags": []
   },
   "outputs": [],
   "source": [
    "X_calib = siab_calib.iloc[:,4:164]\n",
    "y_calib = siab_calib.iloc[:, [3]]"
   ]
  },
  {
   "cell_type": "code",
   "execution_count": 17,
   "id": "c34be9c3-6bd6-476e-acd3-845840e303be",
   "metadata": {
    "execution": {
     "iopub.execute_input": "2025-08-05T16:39:41.747750Z",
     "iopub.status.busy": "2025-08-05T16:39:41.747489Z",
     "iopub.status.idle": "2025-08-05T16:39:41.797903Z",
     "shell.execute_reply": "2025-08-05T16:39:41.796958Z"
    },
    "papermill": {
     "duration": 0.06723,
     "end_time": "2025-08-05T16:39:41.799486",
     "exception": false,
     "start_time": "2025-08-05T16:39:41.732256",
     "status": "completed"
    },
    "tags": []
   },
   "outputs": [],
   "source": [
    "X_test = siab_test.iloc[:,4:164]\n",
    "y_true = siab_test.iloc[:, [3]]"
   ]
  },
  {
   "cell_type": "code",
   "execution_count": 18,
   "id": "e6c733c5",
   "metadata": {
    "execution": {
     "iopub.execute_input": "2025-08-05T16:39:41.820819Z",
     "iopub.status.busy": "2025-08-05T16:39:41.820292Z",
     "iopub.status.idle": "2025-08-05T16:39:41.909887Z",
     "shell.execute_reply": "2025-08-05T16:39:41.909055Z"
    },
    "papermill": {
     "duration": 0.10139,
     "end_time": "2025-08-05T16:39:41.911431",
     "exception": false,
     "start_time": "2025-08-05T16:39:41.810041",
     "status": "completed"
    },
    "tags": []
   },
   "outputs": [],
   "source": [
    "# Auxiliary data needed downstream in the pipeline\n",
    "\n",
    "org_train = X_train.copy()\n",
    "org_test = X_test.copy()\n",
    "org_calib = X_calib.copy()"
   ]
  },
  {
   "cell_type": "markdown",
   "id": "0a4a1b33",
   "metadata": {
    "papermill": {
     "duration": 0.009214,
     "end_time": "2025-08-05T16:39:41.930353",
     "exception": false,
     "start_time": "2025-08-05T16:39:41.921139",
     "status": "completed"
    },
    "tags": []
   },
   "source": [
    "# Preprocessing Data"
   ]
  },
  {
   "cell_type": "code",
   "execution_count": 19,
   "id": "ca879031",
   "metadata": {
    "execution": {
     "iopub.execute_input": "2025-08-05T16:39:41.950477Z",
     "iopub.status.busy": "2025-08-05T16:39:41.950115Z",
     "iopub.status.idle": "2025-08-05T16:39:41.955087Z",
     "shell.execute_reply": "2025-08-05T16:39:41.954151Z"
    },
    "papermill": {
     "duration": 0.016893,
     "end_time": "2025-08-05T16:39:41.956686",
     "exception": false,
     "start_time": "2025-08-05T16:39:41.939793",
     "status": "completed"
    },
    "tags": []
   },
   "outputs": [],
   "source": [
    "# EXCLUDE PROTECTED FEATURES\n",
    "# ----------------------\n",
    "# \"exclude_features\": \"none\", # \"nationality\", \"sex\", \"nationality-sex\"\n",
    "\n",
    "excluded_features = universe[\"exclude_features\"].split(\"-\") # split, e.g.: \"nationality-sex\" -> [\"nationality\", \"sex\"]\n",
    "excluded_features_dictionary = {\n",
    "    \"nationality\": [\"maxdeutsch1\", \"maxdeutsch.Missing.\"],\n",
    "    \"sex\": [\"frau1\"],\n",
    "    \"age\": [\"age\"],\n",
    "}"
   ]
  },
  {
   "cell_type": "code",
   "execution_count": 20,
   "id": "b745ac60",
   "metadata": {
    "execution": {
     "iopub.execute_input": "2025-08-05T16:39:41.978732Z",
     "iopub.status.busy": "2025-08-05T16:39:41.977959Z",
     "iopub.status.idle": "2025-08-05T16:39:41.983125Z",
     "shell.execute_reply": "2025-08-05T16:39:41.982312Z"
    },
    "papermill": {
     "duration": 0.017014,
     "end_time": "2025-08-05T16:39:41.984704",
     "exception": false,
     "start_time": "2025-08-05T16:39:41.967690",
     "status": "completed"
    },
    "tags": []
   },
   "outputs": [],
   "source": [
    "# Code nice names to column names\n",
    "\n",
    "excluded_features_columns = [\n",
    "    excluded_features_dictionary[f] for f in excluded_features if len(f) > 0 and f != \"none\"\n",
    "]"
   ]
  },
  {
   "cell_type": "code",
   "execution_count": 21,
   "id": "f84f73a2",
   "metadata": {
    "execution": {
     "iopub.execute_input": "2025-08-05T16:39:42.006497Z",
     "iopub.status.busy": "2025-08-05T16:39:42.005792Z",
     "iopub.status.idle": "2025-08-05T16:39:42.011895Z",
     "shell.execute_reply": "2025-08-05T16:39:42.011039Z"
    },
    "papermill": {
     "duration": 0.018032,
     "end_time": "2025-08-05T16:39:42.013423",
     "exception": false,
     "start_time": "2025-08-05T16:39:41.995391",
     "status": "completed"
    },
    "tags": []
   },
   "outputs": [],
   "source": [
    "from utils import flatten_once\n",
    "\n",
    "excluded_features_columns = flatten_once(excluded_features_columns)"
   ]
  },
  {
   "cell_type": "code",
   "execution_count": 22,
   "id": "884dea22",
   "metadata": {
    "execution": {
     "iopub.execute_input": "2025-08-05T16:39:42.035191Z",
     "iopub.status.busy": "2025-08-05T16:39:42.034828Z",
     "iopub.status.idle": "2025-08-05T16:39:42.042161Z",
     "shell.execute_reply": "2025-08-05T16:39:42.041040Z"
    },
    "papermill": {
     "duration": 0.019505,
     "end_time": "2025-08-05T16:39:42.043715",
     "exception": false,
     "start_time": "2025-08-05T16:39:42.024210",
     "status": "completed"
    },
    "tags": []
   },
   "outputs": [
    {
     "name": "stdout",
     "output_type": "stream",
     "text": [
      "Dropping features: ['age']\n"
     ]
    }
   ],
   "source": [
    "if len(excluded_features_columns) > 0:\n",
    "    print(f\"Dropping features: {excluded_features_columns}\")\n",
    "    X_train.drop(excluded_features_columns, axis=1, inplace=True)"
   ]
  },
  {
   "cell_type": "code",
   "execution_count": 23,
   "id": "95ab8b16",
   "metadata": {
    "execution": {
     "iopub.execute_input": "2025-08-05T16:39:42.065777Z",
     "iopub.status.busy": "2025-08-05T16:39:42.065362Z",
     "iopub.status.idle": "2025-08-05T16:39:42.116046Z",
     "shell.execute_reply": "2025-08-05T16:39:42.115230Z"
    },
    "papermill": {
     "duration": 0.062809,
     "end_time": "2025-08-05T16:39:42.117510",
     "exception": false,
     "start_time": "2025-08-05T16:39:42.054701",
     "status": "completed"
    },
    "tags": []
   },
   "outputs": [
    {
     "name": "stdout",
     "output_type": "stream",
     "text": [
      "Dropping features: ['age']\n"
     ]
    }
   ],
   "source": [
    "if len(excluded_features_columns) > 0:\n",
    "    print(f\"Dropping features: {excluded_features_columns}\")\n",
    "    X_test.drop(excluded_features_columns, axis=1, inplace=True)"
   ]
  },
  {
   "cell_type": "code",
   "execution_count": 24,
   "id": "1853aaf5-fb9f-46cb-a2b5-8ea4ae2237e4",
   "metadata": {
    "execution": {
     "iopub.execute_input": "2025-08-05T16:39:42.138372Z",
     "iopub.status.busy": "2025-08-05T16:39:42.137862Z",
     "iopub.status.idle": "2025-08-05T16:39:42.186841Z",
     "shell.execute_reply": "2025-08-05T16:39:42.186082Z"
    },
    "papermill": {
     "duration": 0.060485,
     "end_time": "2025-08-05T16:39:42.188275",
     "exception": false,
     "start_time": "2025-08-05T16:39:42.127790",
     "status": "completed"
    },
    "tags": []
   },
   "outputs": [
    {
     "name": "stdout",
     "output_type": "stream",
     "text": [
      "Dropping features: ['age']\n"
     ]
    }
   ],
   "source": [
    "if len(excluded_features_columns) > 0:\n",
    "    print(f\"Dropping features: {excluded_features_columns}\")\n",
    "    X_calib.drop(excluded_features_columns, axis=1, inplace=True)"
   ]
  },
  {
   "cell_type": "code",
   "execution_count": 25,
   "id": "76c4dc6d",
   "metadata": {
    "execution": {
     "iopub.execute_input": "2025-08-05T16:39:42.210942Z",
     "iopub.status.busy": "2025-08-05T16:39:42.210415Z",
     "iopub.status.idle": "2025-08-05T16:39:42.215382Z",
     "shell.execute_reply": "2025-08-05T16:39:42.214543Z"
    },
    "papermill": {
     "duration": 0.01696,
     "end_time": "2025-08-05T16:39:42.216841",
     "exception": false,
     "start_time": "2025-08-05T16:39:42.199881",
     "status": "completed"
    },
    "tags": []
   },
   "outputs": [],
   "source": [
    "# EXCLUDE CERTAIN SUBGROUPS\n",
    "# ----------------------\n",
    "\n",
    "mode = universe.get(\"exclude_subgroups\", \"keep-all\") \n",
    "# Fetches the exclude_subgroups setting from the universe dict.\n",
    "# Defaults to \"keep-all\" if the key is missing."
   ]
  },
  {
   "cell_type": "code",
   "execution_count": 26,
   "id": "21994072",
   "metadata": {
    "execution": {
     "iopub.execute_input": "2025-08-05T16:39:42.238577Z",
     "iopub.status.busy": "2025-08-05T16:39:42.237873Z",
     "iopub.status.idle": "2025-08-05T16:39:42.244142Z",
     "shell.execute_reply": "2025-08-05T16:39:42.243339Z"
    },
    "papermill": {
     "duration": 0.018171,
     "end_time": "2025-08-05T16:39:42.245718",
     "exception": false,
     "start_time": "2025-08-05T16:39:42.227547",
     "status": "completed"
    },
    "tags": []
   },
   "outputs": [],
   "source": [
    "if mode == \"keep-all\":\n",
    "    keep_mask = pd.Series(True, index=org_train.index)\n",
    "\n",
    "# org_train contains the original feature columns from features_org (in Simson)\n",
    "# features_org contains unprocessed features, for me X_train at beginning ???\n",
    "# For keep-all, creates a boolean Series (keep_mask) of all True, so no rows are removed.\n",
    "\n",
    "elif mode == \"drop-non-german\":\n",
    "    keep_mask = org_train[\"maxdeutsch1\"] == 1 # ??? what about missing values?\n",
    "\n",
    "else:\n",
    "    raise ValueError(f\"Unsupported mode for exclude_subgroups: {mode}\")"
   ]
  },
  {
   "cell_type": "code",
   "execution_count": 27,
   "id": "71651440",
   "metadata": {
    "execution": {
     "iopub.execute_input": "2025-08-05T16:39:42.267507Z",
     "iopub.status.busy": "2025-08-05T16:39:42.267169Z",
     "iopub.status.idle": "2025-08-05T16:39:42.272337Z",
     "shell.execute_reply": "2025-08-05T16:39:42.271399Z"
    },
    "papermill": {
     "duration": 0.01745,
     "end_time": "2025-08-05T16:39:42.273896",
     "exception": false,
     "start_time": "2025-08-05T16:39:42.256446",
     "status": "completed"
    },
    "tags": []
   },
   "outputs": [],
   "source": [
    "n_drop = (~keep_mask).sum() # Calculates how many rows are set to be dropped\n",
    "if n_drop > 0:\n",
    "    pct = n_drop / len(keep_mask) * 100\n",
    "    print(f\"Dropping {n_drop} rows ({pct:.2f}%) where mode='{mode}'\")"
   ]
  },
  {
   "cell_type": "code",
   "execution_count": 28,
   "id": "5fb8eee5",
   "metadata": {
    "execution": {
     "iopub.execute_input": "2025-08-05T16:39:42.295774Z",
     "iopub.status.busy": "2025-08-05T16:39:42.294953Z",
     "iopub.status.idle": "2025-08-05T16:39:42.300502Z",
     "shell.execute_reply": "2025-08-05T16:39:42.299720Z"
    },
    "papermill": {
     "duration": 0.017539,
     "end_time": "2025-08-05T16:39:42.302004",
     "exception": false,
     "start_time": "2025-08-05T16:39:42.284465",
     "status": "completed"
    },
    "tags": []
   },
   "outputs": [],
   "source": [
    "X_train = X_train[keep_mask]"
   ]
  },
  {
   "cell_type": "code",
   "execution_count": 29,
   "id": "b202bb3a",
   "metadata": {
    "execution": {
     "iopub.execute_input": "2025-08-05T16:39:42.324333Z",
     "iopub.status.busy": "2025-08-05T16:39:42.323586Z",
     "iopub.status.idle": "2025-08-05T16:39:42.328703Z",
     "shell.execute_reply": "2025-08-05T16:39:42.327978Z"
    },
    "papermill": {
     "duration": 0.016857,
     "end_time": "2025-08-05T16:39:42.330130",
     "exception": false,
     "start_time": "2025-08-05T16:39:42.313273",
     "status": "completed"
    },
    "tags": []
   },
   "outputs": [],
   "source": [
    "y_train = y_train[keep_mask]"
   ]
  },
  {
   "cell_type": "markdown",
   "id": "493e2ac3",
   "metadata": {
    "papermill": {
     "duration": 0.009622,
     "end_time": "2025-08-05T16:39:42.350666",
     "exception": false,
     "start_time": "2025-08-05T16:39:42.341044",
     "status": "completed"
    },
    "tags": []
   },
   "source": [
    "# Model Training"
   ]
  },
  {
   "cell_type": "code",
   "execution_count": 30,
   "id": "679e1268",
   "metadata": {
    "execution": {
     "iopub.execute_input": "2025-08-05T16:39:42.372299Z",
     "iopub.status.busy": "2025-08-05T16:39:42.371810Z",
     "iopub.status.idle": "2025-08-05T16:39:42.448180Z",
     "shell.execute_reply": "2025-08-05T16:39:42.447382Z"
    },
    "papermill": {
     "duration": 0.089299,
     "end_time": "2025-08-05T16:39:42.449807",
     "exception": false,
     "start_time": "2025-08-05T16:39:42.360508",
     "status": "completed"
    },
    "tags": []
   },
   "outputs": [],
   "source": [
    "from sklearn.linear_model import LogisticRegression\n",
    "from sklearn.ensemble import GradientBoostingClassifier, RandomForestClassifier\n",
    "\n",
    "if (universe[\"model\"] == \"logreg\"):\n",
    "    model = LogisticRegression() #penalty=\"none\", solver=\"newton-cg\", max_iter=1) # include random_state=19 ?\n",
    "elif (universe[\"model\"] == \"penalized_logreg\"):\n",
    "    model = LogisticRegression(penalty=\"l2\", C=0.1) #, solver=\"newton-cg\", max_iter=1)\n",
    "elif (universe[\"model\"] == \"rf\"):\n",
    "    model = RandomForestClassifier() # n_estimators=100, n_jobs=-1\n",
    "elif (universe[\"model\"] == \"gbm\"):\n",
    "    model = GradientBoostingClassifier()\n",
    "elif (universe[\"model\"] == \"elasticnet\"):\n",
    "    model = LogisticRegression(penalty = 'elasticnet', solver = 'saga', l1_ratio = 0.5) # max_iter=5000\n",
    "else:\n",
    "    raise \"Unsupported universe.model\""
   ]
  },
  {
   "cell_type": "code",
   "execution_count": 31,
   "id": "0cc8f744",
   "metadata": {
    "execution": {
     "iopub.execute_input": "2025-08-05T16:39:42.471495Z",
     "iopub.status.busy": "2025-08-05T16:39:42.470973Z",
     "iopub.status.idle": "2025-08-05T16:39:42.476415Z",
     "shell.execute_reply": "2025-08-05T16:39:42.475626Z"
    },
    "papermill": {
     "duration": 0.017714,
     "end_time": "2025-08-05T16:39:42.477873",
     "exception": false,
     "start_time": "2025-08-05T16:39:42.460159",
     "status": "completed"
    },
    "tags": []
   },
   "outputs": [],
   "source": [
    "import numpy as np\n",
    "from sklearn.pipeline import Pipeline\n",
    "from sklearn.preprocessing import StandardScaler\n",
    "\n",
    "model = Pipeline([\n",
    "    #(\"continuous_processor\", continuous_processor),\n",
    "    #(\"categorical_preprocessor\", categorical_preprocessor),\n",
    "    (\"scale\", StandardScaler() if universe[\"scale\"] == \"scale\" else None), \n",
    "    (\"model\", model),\n",
    "])"
   ]
  },
  {
   "cell_type": "code",
   "execution_count": 32,
   "id": "9442c04d",
   "metadata": {
    "execution": {
     "iopub.execute_input": "2025-08-05T16:39:42.500784Z",
     "iopub.status.busy": "2025-08-05T16:39:42.500034Z",
     "iopub.status.idle": "2025-08-05T16:39:42.551421Z",
     "shell.execute_reply": "2025-08-05T16:39:42.550480Z"
    },
    "papermill": {
     "duration": 0.063705,
     "end_time": "2025-08-05T16:39:42.552736",
     "exception": false,
     "start_time": "2025-08-05T16:39:42.489031",
     "status": "completed"
    },
    "tags": []
   },
   "outputs": [
    {
     "name": "stderr",
     "output_type": "stream",
     "text": [
      "/dss/dsshome1/0C/ra93lal2/.local/share/virtualenvs/CMA_Fairness_v2-3j10GkSs/lib/python3.10/site-packages/sklearn/linear_model/_logistic.py:444: ConvergenceWarning: lbfgs failed to converge (status=1):\n",
      "STOP: TOTAL NO. of ITERATIONS REACHED LIMIT.\n",
      "\n",
      "Increase the number of iterations (max_iter) or scale the data as shown in:\n",
      "    https://scikit-learn.org/stable/modules/preprocessing.html\n",
      "Please also refer to the documentation for alternative solver options:\n",
      "    https://scikit-learn.org/stable/modules/linear_model.html#logistic-regression\n",
      "  n_iter_i = _check_optimize_result(\n"
     ]
    },
    {
     "data": {
      "text/html": [
       "<style>#sk-container-id-1 {color: black;background-color: white;}#sk-container-id-1 pre{padding: 0;}#sk-container-id-1 div.sk-toggleable {background-color: white;}#sk-container-id-1 label.sk-toggleable__label {cursor: pointer;display: block;width: 100%;margin-bottom: 0;padding: 0.3em;box-sizing: border-box;text-align: center;}#sk-container-id-1 label.sk-toggleable__label-arrow:before {content: \"▸\";float: left;margin-right: 0.25em;color: #696969;}#sk-container-id-1 label.sk-toggleable__label-arrow:hover:before {color: black;}#sk-container-id-1 div.sk-estimator:hover label.sk-toggleable__label-arrow:before {color: black;}#sk-container-id-1 div.sk-toggleable__content {max-height: 0;max-width: 0;overflow: hidden;text-align: left;background-color: #f0f8ff;}#sk-container-id-1 div.sk-toggleable__content pre {margin: 0.2em;color: black;border-radius: 0.25em;background-color: #f0f8ff;}#sk-container-id-1 input.sk-toggleable__control:checked~div.sk-toggleable__content {max-height: 200px;max-width: 100%;overflow: auto;}#sk-container-id-1 input.sk-toggleable__control:checked~label.sk-toggleable__label-arrow:before {content: \"▾\";}#sk-container-id-1 div.sk-estimator input.sk-toggleable__control:checked~label.sk-toggleable__label {background-color: #d4ebff;}#sk-container-id-1 div.sk-label input.sk-toggleable__control:checked~label.sk-toggleable__label {background-color: #d4ebff;}#sk-container-id-1 input.sk-hidden--visually {border: 0;clip: rect(1px 1px 1px 1px);clip: rect(1px, 1px, 1px, 1px);height: 1px;margin: -1px;overflow: hidden;padding: 0;position: absolute;width: 1px;}#sk-container-id-1 div.sk-estimator {font-family: monospace;background-color: #f0f8ff;border: 1px dotted black;border-radius: 0.25em;box-sizing: border-box;margin-bottom: 0.5em;}#sk-container-id-1 div.sk-estimator:hover {background-color: #d4ebff;}#sk-container-id-1 div.sk-parallel-item::after {content: \"\";width: 100%;border-bottom: 1px solid gray;flex-grow: 1;}#sk-container-id-1 div.sk-label:hover label.sk-toggleable__label {background-color: #d4ebff;}#sk-container-id-1 div.sk-serial::before {content: \"\";position: absolute;border-left: 1px solid gray;box-sizing: border-box;top: 0;bottom: 0;left: 50%;z-index: 0;}#sk-container-id-1 div.sk-serial {display: flex;flex-direction: column;align-items: center;background-color: white;padding-right: 0.2em;padding-left: 0.2em;position: relative;}#sk-container-id-1 div.sk-item {position: relative;z-index: 1;}#sk-container-id-1 div.sk-parallel {display: flex;align-items: stretch;justify-content: center;background-color: white;position: relative;}#sk-container-id-1 div.sk-item::before, #sk-container-id-1 div.sk-parallel-item::before {content: \"\";position: absolute;border-left: 1px solid gray;box-sizing: border-box;top: 0;bottom: 0;left: 50%;z-index: -1;}#sk-container-id-1 div.sk-parallel-item {display: flex;flex-direction: column;z-index: 1;position: relative;background-color: white;}#sk-container-id-1 div.sk-parallel-item:first-child::after {align-self: flex-end;width: 50%;}#sk-container-id-1 div.sk-parallel-item:last-child::after {align-self: flex-start;width: 50%;}#sk-container-id-1 div.sk-parallel-item:only-child::after {width: 0;}#sk-container-id-1 div.sk-dashed-wrapped {border: 1px dashed gray;margin: 0 0.4em 0.5em 0.4em;box-sizing: border-box;padding-bottom: 0.4em;background-color: white;}#sk-container-id-1 div.sk-label label {font-family: monospace;font-weight: bold;display: inline-block;line-height: 1.2em;}#sk-container-id-1 div.sk-label-container {text-align: center;}#sk-container-id-1 div.sk-container {/* jupyter's `normalize.less` sets `[hidden] { display: none; }` but bootstrap.min.css set `[hidden] { display: none !important; }` so we also need the `!important` here to be able to override the default hidden behavior on the sphinx rendered scikit-learn.org. See: https://github.com/scikit-learn/scikit-learn/issues/21755 */display: inline-block !important;position: relative;}#sk-container-id-1 div.sk-text-repr-fallback {display: none;}</style><div id=\"sk-container-id-1\" class=\"sk-top-container\"><div class=\"sk-text-repr-fallback\"><pre>Pipeline(steps=[(&#x27;scale&#x27;, None), (&#x27;model&#x27;, LogisticRegression())])</pre><b>In a Jupyter environment, please rerun this cell to show the HTML representation or trust the notebook. <br />On GitHub, the HTML representation is unable to render, please try loading this page with nbviewer.org.</b></div><div class=\"sk-container\" hidden><div class=\"sk-item sk-dashed-wrapped\"><div class=\"sk-label-container\"><div class=\"sk-label sk-toggleable\"><input class=\"sk-toggleable__control sk-hidden--visually\" id=\"sk-estimator-id-1\" type=\"checkbox\" ><label for=\"sk-estimator-id-1\" class=\"sk-toggleable__label sk-toggleable__label-arrow\">Pipeline</label><div class=\"sk-toggleable__content\"><pre>Pipeline(steps=[(&#x27;scale&#x27;, None), (&#x27;model&#x27;, LogisticRegression())])</pre></div></div></div><div class=\"sk-serial\"><div class=\"sk-item\"><div class=\"sk-estimator sk-toggleable\"><input class=\"sk-toggleable__control sk-hidden--visually\" id=\"sk-estimator-id-2\" type=\"checkbox\" ><label for=\"sk-estimator-id-2\" class=\"sk-toggleable__label sk-toggleable__label-arrow\">None</label><div class=\"sk-toggleable__content\"><pre>None</pre></div></div></div><div class=\"sk-item\"><div class=\"sk-estimator sk-toggleable\"><input class=\"sk-toggleable__control sk-hidden--visually\" id=\"sk-estimator-id-3\" type=\"checkbox\" ><label for=\"sk-estimator-id-3\" class=\"sk-toggleable__label sk-toggleable__label-arrow\">LogisticRegression</label><div class=\"sk-toggleable__content\"><pre>LogisticRegression()</pre></div></div></div></div></div></div></div>"
      ],
      "text/plain": [
       "Pipeline(steps=[('scale', None), ('model', LogisticRegression())])"
      ]
     },
     "execution_count": 32,
     "metadata": {},
     "output_type": "execute_result"
    }
   ],
   "source": [
    "model.fit(X_train, y_train.values.ravel())"
   ]
  },
  {
   "cell_type": "code",
   "execution_count": 33,
   "id": "af59f8c0",
   "metadata": {
    "execution": {
     "iopub.execute_input": "2025-08-05T16:39:42.575372Z",
     "iopub.status.busy": "2025-08-05T16:39:42.574758Z",
     "iopub.status.idle": "2025-08-05T16:39:42.579479Z",
     "shell.execute_reply": "2025-08-05T16:39:42.578700Z"
    },
    "papermill": {
     "duration": 0.017486,
     "end_time": "2025-08-05T16:39:42.580997",
     "exception": false,
     "start_time": "2025-08-05T16:39:42.563511",
     "status": "completed"
    },
    "tags": []
   },
   "outputs": [],
   "source": [
    "from fairness_multiverse.universe import predict_w_threshold"
   ]
  },
  {
   "cell_type": "code",
   "execution_count": 34,
   "id": "a7cf2e16",
   "metadata": {
    "execution": {
     "iopub.execute_input": "2025-08-05T16:39:42.604660Z",
     "iopub.status.busy": "2025-08-05T16:39:42.604120Z",
     "iopub.status.idle": "2025-08-05T16:39:42.687552Z",
     "shell.execute_reply": "2025-08-05T16:39:42.686637Z"
    },
    "papermill": {
     "duration": 0.096096,
     "end_time": "2025-08-05T16:39:42.688942",
     "exception": false,
     "start_time": "2025-08-05T16:39:42.592846",
     "status": "completed"
    },
    "tags": []
   },
   "outputs": [
    {
     "data": {
      "text/plain": [
       "0.8548433842381006"
      ]
     },
     "execution_count": 34,
     "metadata": {},
     "output_type": "execute_result"
    }
   ],
   "source": [
    "probs_test = model.predict_proba(X_test)\n",
    "\n",
    "'''\n",
    "Below code returns a boolean array (or binary 0/1 array depending on how it’s used) where each element \n",
    "is True if the probability of class 1 is greater than or equal to the threshold, and False otherwise.\n",
    "'''\n",
    "y_pred_default = predict_w_threshold(probs_test, 0.5)\n",
    "\n",
    "from sklearn.metrics import accuracy_score\n",
    "\n",
    "# Naive prediction\n",
    "accuracy_score(y_true = y_true, y_pred = y_pred_default)"
   ]
  },
  {
   "cell_type": "code",
   "execution_count": 35,
   "id": "081964c3",
   "metadata": {
    "execution": {
     "iopub.execute_input": "2025-08-05T16:39:42.711773Z",
     "iopub.status.busy": "2025-08-05T16:39:42.711415Z",
     "iopub.status.idle": "2025-08-05T16:39:42.792714Z",
     "shell.execute_reply": "2025-08-05T16:39:42.791813Z"
    },
    "papermill": {
     "duration": 0.094485,
     "end_time": "2025-08-05T16:39:42.794140",
     "exception": false,
     "start_time": "2025-08-05T16:39:42.699655",
     "status": "completed"
    },
    "tags": []
   },
   "outputs": [
    {
     "data": {
      "text/plain": [
       "array([0, 0, 0, ..., 0, 0, 0])"
      ]
     },
     "execution_count": 35,
     "metadata": {},
     "output_type": "execute_result"
    }
   ],
   "source": [
    "model.predict(X_test)"
   ]
  },
  {
   "cell_type": "markdown",
   "id": "56c9705b",
   "metadata": {
    "papermill": {
     "duration": 0.021818,
     "end_time": "2025-08-05T16:39:42.832976",
     "exception": false,
     "start_time": "2025-08-05T16:39:42.811158",
     "status": "completed"
    },
    "tags": []
   },
   "source": [
    "# Conformal Prediction"
   ]
  },
  {
   "cell_type": "code",
   "execution_count": 36,
   "id": "160ec6ff",
   "metadata": {
    "execution": {
     "iopub.execute_input": "2025-08-05T16:39:42.876434Z",
     "iopub.status.busy": "2025-08-05T16:39:42.876008Z",
     "iopub.status.idle": "2025-08-05T16:39:42.881264Z",
     "shell.execute_reply": "2025-08-05T16:39:42.880165Z"
    },
    "papermill": {
     "duration": 0.02827,
     "end_time": "2025-08-05T16:39:42.883006",
     "exception": false,
     "start_time": "2025-08-05T16:39:42.854736",
     "status": "completed"
    },
    "tags": []
   },
   "outputs": [],
   "source": [
    "# Miscoverage level for conformal prediction (10% allowed error rate => 90% target coverage)\n",
    "alpha = 0.1"
   ]
  },
  {
   "cell_type": "code",
   "execution_count": 37,
   "id": "eadf4555-3dd3-440e-8e35-f82a4ad9f855",
   "metadata": {
    "execution": {
     "iopub.execute_input": "2025-08-05T16:39:42.925910Z",
     "iopub.status.busy": "2025-08-05T16:39:42.925411Z",
     "iopub.status.idle": "2025-08-05T16:39:42.999245Z",
     "shell.execute_reply": "2025-08-05T16:39:42.998434Z"
    },
    "papermill": {
     "duration": 0.096342,
     "end_time": "2025-08-05T16:39:43.000789",
     "exception": false,
     "start_time": "2025-08-05T16:39:42.904447",
     "status": "completed"
    },
    "tags": []
   },
   "outputs": [],
   "source": [
    "probs_calib = model.predict_proba(X_calib)"
   ]
  },
  {
   "cell_type": "code",
   "execution_count": 38,
   "id": "2ed93547-6d5d-4983-9b36-1ecb300da49a",
   "metadata": {
    "execution": {
     "iopub.execute_input": "2025-08-05T16:39:43.023695Z",
     "iopub.status.busy": "2025-08-05T16:39:43.023327Z",
     "iopub.status.idle": "2025-08-05T16:39:43.028222Z",
     "shell.execute_reply": "2025-08-05T16:39:43.027320Z"
    },
    "papermill": {
     "duration": 0.018082,
     "end_time": "2025-08-05T16:39:43.029783",
     "exception": false,
     "start_time": "2025-08-05T16:39:43.011701",
     "status": "completed"
    },
    "tags": []
   },
   "outputs": [],
   "source": [
    "y_calib = y_calib.values.ravel().astype(int)"
   ]
  },
  {
   "cell_type": "code",
   "execution_count": 39,
   "id": "65d1320d-f588-4b38-9072-62af1ae97f7d",
   "metadata": {
    "execution": {
     "iopub.execute_input": "2025-08-05T16:39:43.053624Z",
     "iopub.status.busy": "2025-08-05T16:39:43.053086Z",
     "iopub.status.idle": "2025-08-05T16:39:43.059512Z",
     "shell.execute_reply": "2025-08-05T16:39:43.058680Z"
    },
    "papermill": {
     "duration": 0.019438,
     "end_time": "2025-08-05T16:39:43.061057",
     "exception": false,
     "start_time": "2025-08-05T16:39:43.041619",
     "status": "completed"
    },
    "tags": []
   },
   "outputs": [],
   "source": [
    "from fairness_multiverse.conformal import compute_nc_scores\n",
    "\n",
    "# Compute nonconformity scores on calibration set (1 - probability of true class)\n",
    "nc_scores = compute_nc_scores(probs_calib, y_calib)"
   ]
  },
  {
   "cell_type": "code",
   "execution_count": 40,
   "id": "df3b8ca3-53b7-43d5-9667-7c85da7aeda2",
   "metadata": {
    "execution": {
     "iopub.execute_input": "2025-08-05T16:39:43.085228Z",
     "iopub.status.busy": "2025-08-05T16:39:43.084377Z",
     "iopub.status.idle": "2025-08-05T16:39:43.090295Z",
     "shell.execute_reply": "2025-08-05T16:39:43.089475Z"
    },
    "papermill": {
     "duration": 0.019227,
     "end_time": "2025-08-05T16:39:43.091847",
     "exception": false,
     "start_time": "2025-08-05T16:39:43.072620",
     "status": "completed"
    },
    "tags": []
   },
   "outputs": [],
   "source": [
    "from fairness_multiverse.conformal import find_threshold\n",
    "\n",
    "# Find conformal threshold q_hat for the given alpha (split conformal method)\n",
    "q_hat = find_threshold(nc_scores, alpha)"
   ]
  },
  {
   "cell_type": "code",
   "execution_count": 41,
   "id": "4d29e6c1-0ef6-4aa4-b8fe-4fe79b0d033a",
   "metadata": {
    "execution": {
     "iopub.execute_input": "2025-08-05T16:39:43.115981Z",
     "iopub.status.busy": "2025-08-05T16:39:43.115140Z",
     "iopub.status.idle": "2025-08-05T16:39:43.121563Z",
     "shell.execute_reply": "2025-08-05T16:39:43.120688Z"
    },
    "papermill": {
     "duration": 0.01971,
     "end_time": "2025-08-05T16:39:43.123128",
     "exception": false,
     "start_time": "2025-08-05T16:39:43.103418",
     "status": "completed"
    },
    "tags": []
   },
   "outputs": [
    {
     "data": {
      "text/plain": [
       "0.6768602344056824"
      ]
     },
     "execution_count": 41,
     "metadata": {},
     "output_type": "execute_result"
    }
   ],
   "source": [
    "q_hat"
   ]
  },
  {
   "cell_type": "code",
   "execution_count": 42,
   "id": "92460794-cdac-4be2-ba28-f28c0515a6fb",
   "metadata": {
    "execution": {
     "iopub.execute_input": "2025-08-05T16:39:43.147798Z",
     "iopub.status.busy": "2025-08-05T16:39:43.147024Z",
     "iopub.status.idle": "2025-08-05T16:39:44.084071Z",
     "shell.execute_reply": "2025-08-05T16:39:44.083276Z"
    },
    "papermill": {
     "duration": 0.950439,
     "end_time": "2025-08-05T16:39:44.085588",
     "exception": false,
     "start_time": "2025-08-05T16:39:43.135149",
     "status": "completed"
    },
    "tags": []
   },
   "outputs": [],
   "source": [
    "from fairness_multiverse.conformal import predict_conformal_sets\n",
    "\n",
    "# Generate prediction sets for each test example\n",
    "pred_sets = predict_conformal_sets(model, X_test, q_hat)"
   ]
  },
  {
   "cell_type": "code",
   "execution_count": 43,
   "id": "d90c9a65-e6db-4f5d-80cd-e68fb7e46829",
   "metadata": {
    "execution": {
     "iopub.execute_input": "2025-08-05T16:39:44.113307Z",
     "iopub.status.busy": "2025-08-05T16:39:44.112952Z",
     "iopub.status.idle": "2025-08-05T16:39:44.118044Z",
     "shell.execute_reply": "2025-08-05T16:39:44.117217Z"
    },
    "papermill": {
     "duration": 0.022934,
     "end_time": "2025-08-05T16:39:44.119576",
     "exception": false,
     "start_time": "2025-08-05T16:39:44.096642",
     "status": "completed"
    },
    "tags": []
   },
   "outputs": [],
   "source": [
    "y_true = y_true.squeeze()"
   ]
  },
  {
   "cell_type": "code",
   "execution_count": 44,
   "id": "3a58a54a-1e68-46b9-927a-df01f18aebc8",
   "metadata": {
    "execution": {
     "iopub.execute_input": "2025-08-05T16:39:44.143765Z",
     "iopub.status.busy": "2025-08-05T16:39:44.143247Z",
     "iopub.status.idle": "2025-08-05T16:39:44.923461Z",
     "shell.execute_reply": "2025-08-05T16:39:44.922581Z"
    },
    "papermill": {
     "duration": 0.793792,
     "end_time": "2025-08-05T16:39:44.925305",
     "exception": false,
     "start_time": "2025-08-05T16:39:44.131513",
     "status": "completed"
    },
    "tags": []
   },
   "outputs": [],
   "source": [
    "from fairness_multiverse.conformal import evaluate_sets\n",
    "\n",
    "# Evaluate coverage and average set size on test data\n",
    "metrics = evaluate_sets(pred_sets, y_true)"
   ]
  },
  {
   "cell_type": "markdown",
   "id": "2b569c12-9aaa-4c88-98c9-bbcd0cf3ebb8",
   "metadata": {
    "papermill": {
     "duration": 0.011151,
     "end_time": "2025-08-05T16:39:44.972455",
     "exception": false,
     "start_time": "2025-08-05T16:39:44.961304",
     "status": "completed"
    },
    "tags": []
   },
   "source": [
    "# CP Metrics"
   ]
  },
  {
   "cell_type": "code",
   "execution_count": 45,
   "id": "5ce0a5cb-201f-45a0-ade5-94c7f0bd6095",
   "metadata": {
    "execution": {
     "iopub.execute_input": "2025-08-05T16:39:45.018437Z",
     "iopub.status.busy": "2025-08-05T16:39:45.017456Z",
     "iopub.status.idle": "2025-08-05T16:39:45.025098Z",
     "shell.execute_reply": "2025-08-05T16:39:45.023997Z"
    },
    "papermill": {
     "duration": 0.033618,
     "end_time": "2025-08-05T16:39:45.027130",
     "exception": false,
     "start_time": "2025-08-05T16:39:44.993512",
     "status": "completed"
    },
    "tags": []
   },
   "outputs": [
    {
     "data": {
      "text/plain": [
       "{'coverage': 0.9133652881507078, 'avg_size': 1.272143573737599}"
      ]
     },
     "execution_count": 45,
     "metadata": {},
     "output_type": "execute_result"
    }
   ],
   "source": [
    "metrics"
   ]
  },
  {
   "cell_type": "code",
   "execution_count": 46,
   "id": "9b9a838d-31c9-430b-ae14-12baee460d17",
   "metadata": {
    "execution": {
     "iopub.execute_input": "2025-08-05T16:39:45.073902Z",
     "iopub.status.busy": "2025-08-05T16:39:45.073435Z",
     "iopub.status.idle": "2025-08-05T16:39:45.080343Z",
     "shell.execute_reply": "2025-08-05T16:39:45.079350Z"
    },
    "papermill": {
     "duration": 0.031718,
     "end_time": "2025-08-05T16:39:45.082244",
     "exception": false,
     "start_time": "2025-08-05T16:39:45.050526",
     "status": "completed"
    },
    "tags": []
   },
   "outputs": [],
   "source": [
    "example_universe = universe.copy()\n",
    "universe_training_year = example_universe.get(\"training_year\")\n",
    "universe_training_size = example_universe.get(\"training_size\")\n",
    "universe_scale = example_universe.get(\"scale\")\n",
    "universe_model = example_universe.get(\"model\")\n",
    "universe_exclude_features = example_universe.get(\"exclude_features\")\n",
    "universe_exclude_subgroups = example_universe.get(\"exclude_subgroups\")"
   ]
  },
  {
   "cell_type": "code",
   "execution_count": 47,
   "id": "f4b6a8ac-9dc0-4245-8a91-5b3b5999c4f9",
   "metadata": {
    "execution": {
     "iopub.execute_input": "2025-08-05T16:39:45.129177Z",
     "iopub.status.busy": "2025-08-05T16:39:45.128556Z",
     "iopub.status.idle": "2025-08-05T16:39:45.145408Z",
     "shell.execute_reply": "2025-08-05T16:39:45.144473Z"
    },
    "papermill": {
     "duration": 0.040265,
     "end_time": "2025-08-05T16:39:45.147015",
     "exception": false,
     "start_time": "2025-08-05T16:39:45.106750",
     "status": "completed"
    },
    "tags": []
   },
   "outputs": [],
   "source": [
    "cp_metrics_dict = {\n",
    "    \"universe_id\": [universe_id],\n",
    "    \"universe_training_year\": [universe_training_year],\n",
    "    \"universe_training_size\": [universe_training_size],\n",
    "    \"universe_scale\": [universe_scale],\n",
    "    \"universe_model\": [universe_model],\n",
    "    \"universe_exclude_features\": [universe_exclude_features],\n",
    "    \"universe_exclude_subgroups\": [universe_exclude_subgroups],\n",
    "    \"q_hat\": [q_hat],\n",
    "    \"coverage\": [metrics[\"coverage\"]],\n",
    "    \"avg_size\": [metrics[\"avg_size\"]],\n",
    "}"
   ]
  },
  {
   "cell_type": "code",
   "execution_count": 48,
   "id": "908acbb1-0371-4915-85ca-3fa520d2efe2",
   "metadata": {
    "execution": {
     "iopub.execute_input": "2025-08-05T16:39:45.172201Z",
     "iopub.status.busy": "2025-08-05T16:39:45.171847Z",
     "iopub.status.idle": "2025-08-05T16:39:45.178648Z",
     "shell.execute_reply": "2025-08-05T16:39:45.177766Z"
    },
    "papermill": {
     "duration": 0.020376,
     "end_time": "2025-08-05T16:39:45.180191",
     "exception": false,
     "start_time": "2025-08-05T16:39:45.159815",
     "status": "completed"
    },
    "tags": []
   },
   "outputs": [
    {
     "data": {
      "text/plain": [
       "{'universe_id': ['26239ec606a5746569d2f48e33b3a1e3'],\n",
       " 'universe_training_year': ['2010_14'],\n",
       " 'universe_training_size': ['1k'],\n",
       " 'universe_scale': ['do-not-scale'],\n",
       " 'universe_model': ['logreg'],\n",
       " 'universe_exclude_features': ['age'],\n",
       " 'universe_exclude_subgroups': ['keep-all'],\n",
       " 'q_hat': [0.6768602344056824],\n",
       " 'coverage': [0.9133652881507078],\n",
       " 'avg_size': [1.272143573737599]}"
      ]
     },
     "execution_count": 48,
     "metadata": {},
     "output_type": "execute_result"
    }
   ],
   "source": [
    "cp_metrics_dict"
   ]
  },
  {
   "cell_type": "code",
   "execution_count": 49,
   "id": "33007efc-14e9-4ec6-97ac-56a455c82265",
   "metadata": {
    "execution": {
     "iopub.execute_input": "2025-08-05T16:39:45.205742Z",
     "iopub.status.busy": "2025-08-05T16:39:45.204918Z",
     "iopub.status.idle": "2025-08-05T16:39:45.210904Z",
     "shell.execute_reply": "2025-08-05T16:39:45.209893Z"
    },
    "papermill": {
     "duration": 0.02029,
     "end_time": "2025-08-05T16:39:45.212705",
     "exception": false,
     "start_time": "2025-08-05T16:39:45.192415",
     "status": "completed"
    },
    "tags": []
   },
   "outputs": [],
   "source": [
    "cp_metrics_df = pd.DataFrame(cp_metrics_dict)"
   ]
  },
  {
   "cell_type": "code",
   "execution_count": 50,
   "id": "db12611b-57b2-4910-b9d0-355adfd6e7bf",
   "metadata": {
    "execution": {
     "iopub.execute_input": "2025-08-05T16:39:45.266709Z",
     "iopub.status.busy": "2025-08-05T16:39:45.265974Z",
     "iopub.status.idle": "2025-08-05T16:39:45.280905Z",
     "shell.execute_reply": "2025-08-05T16:39:45.280094Z"
    },
    "papermill": {
     "duration": 0.041143,
     "end_time": "2025-08-05T16:39:45.282370",
     "exception": false,
     "start_time": "2025-08-05T16:39:45.241227",
     "status": "completed"
    },
    "tags": []
   },
   "outputs": [
    {
     "data": {
      "text/html": [
       "<div>\n",
       "<style scoped>\n",
       "    .dataframe tbody tr th:only-of-type {\n",
       "        vertical-align: middle;\n",
       "    }\n",
       "\n",
       "    .dataframe tbody tr th {\n",
       "        vertical-align: top;\n",
       "    }\n",
       "\n",
       "    .dataframe thead th {\n",
       "        text-align: right;\n",
       "    }\n",
       "</style>\n",
       "<table border=\"1\" class=\"dataframe\">\n",
       "  <thead>\n",
       "    <tr style=\"text-align: right;\">\n",
       "      <th></th>\n",
       "      <th>universe_id</th>\n",
       "      <th>universe_training_year</th>\n",
       "      <th>universe_training_size</th>\n",
       "      <th>universe_scale</th>\n",
       "      <th>universe_model</th>\n",
       "      <th>universe_exclude_features</th>\n",
       "      <th>universe_exclude_subgroups</th>\n",
       "      <th>q_hat</th>\n",
       "      <th>coverage</th>\n",
       "      <th>avg_size</th>\n",
       "    </tr>\n",
       "  </thead>\n",
       "  <tbody>\n",
       "    <tr>\n",
       "      <th>0</th>\n",
       "      <td>26239ec606a5746569d2f48e33b3a1e3</td>\n",
       "      <td>2010_14</td>\n",
       "      <td>1k</td>\n",
       "      <td>do-not-scale</td>\n",
       "      <td>logreg</td>\n",
       "      <td>age</td>\n",
       "      <td>keep-all</td>\n",
       "      <td>0.67686</td>\n",
       "      <td>0.913365</td>\n",
       "      <td>1.272144</td>\n",
       "    </tr>\n",
       "  </tbody>\n",
       "</table>\n",
       "</div>"
      ],
      "text/plain": [
       "                        universe_id universe_training_year  \\\n",
       "0  26239ec606a5746569d2f48e33b3a1e3                2010_14   \n",
       "\n",
       "  universe_training_size universe_scale universe_model  \\\n",
       "0                     1k   do-not-scale         logreg   \n",
       "\n",
       "  universe_exclude_features universe_exclude_subgroups    q_hat  coverage  \\\n",
       "0                       age                   keep-all  0.67686  0.913365   \n",
       "\n",
       "   avg_size  \n",
       "0  1.272144  "
      ]
     },
     "execution_count": 50,
     "metadata": {},
     "output_type": "execute_result"
    }
   ],
   "source": [
    "cp_metrics_df"
   ]
  },
  {
   "cell_type": "code",
   "execution_count": 51,
   "id": "b7fbde55-a0a1-47e4-9af6-fe4a17fa8c61",
   "metadata": {
    "execution": {
     "iopub.execute_input": "2025-08-05T16:39:45.306921Z",
     "iopub.status.busy": "2025-08-05T16:39:45.306143Z",
     "iopub.status.idle": "2025-08-05T16:39:45.312113Z",
     "shell.execute_reply": "2025-08-05T16:39:45.310457Z"
    },
    "papermill": {
     "duration": 0.020496,
     "end_time": "2025-08-05T16:39:45.314937",
     "exception": false,
     "start_time": "2025-08-05T16:39:45.294441",
     "status": "completed"
    },
    "tags": []
   },
   "outputs": [],
   "source": [
    "# Conditional Coverage & looking at subgroups"
   ]
  },
  {
   "cell_type": "code",
   "execution_count": 52,
   "id": "027ae886-68dd-4141-96c7-805a5450e1ef",
   "metadata": {
    "execution": {
     "iopub.execute_input": "2025-08-05T16:39:45.341341Z",
     "iopub.status.busy": "2025-08-05T16:39:45.340824Z",
     "iopub.status.idle": "2025-08-05T16:39:45.585788Z",
     "shell.execute_reply": "2025-08-05T16:39:45.584739Z"
    },
    "papermill": {
     "duration": 0.260177,
     "end_time": "2025-08-05T16:39:45.587861",
     "exception": false,
     "start_time": "2025-08-05T16:39:45.327684",
     "status": "completed"
    },
    "tags": []
   },
   "outputs": [],
   "source": [
    "from fairness_multiverse.conformal import build_cp_groups\n",
    "\n",
    "cp_groups_df = build_cp_groups(pred_sets, y_true, X_test.index, org_test)\n",
    "#needs universe_id and setting"
   ]
  },
  {
   "cell_type": "code",
   "execution_count": 53,
   "id": "6cbdab96-b2b2-45af-ad54-d0516db2e28d",
   "metadata": {
    "execution": {
     "iopub.execute_input": "2025-08-05T16:39:45.637533Z",
     "iopub.status.busy": "2025-08-05T16:39:45.636696Z",
     "iopub.status.idle": "2025-08-05T16:39:46.914232Z",
     "shell.execute_reply": "2025-08-05T16:39:46.913446Z"
    },
    "papermill": {
     "duration": 1.303284,
     "end_time": "2025-08-05T16:39:46.915690",
     "exception": false,
     "start_time": "2025-08-05T16:39:45.612406",
     "status": "completed"
    },
    "tags": []
   },
   "outputs": [],
   "source": [
    "# Define covered = 1 if true_label is in the predicted set\n",
    "cp_groups_df['covered'] = cp_groups_df.apply(\n",
    "    lambda r: int(r['true_label'] in r['pred_set']),\n",
    "    axis=1\n",
    ")"
   ]
  },
  {
   "cell_type": "code",
   "execution_count": 54,
   "id": "338ff529-1a6b-4b87-a931-8e4788d52aad",
   "metadata": {
    "execution": {
     "iopub.execute_input": "2025-08-05T16:39:46.940140Z",
     "iopub.status.busy": "2025-08-05T16:39:46.939479Z",
     "iopub.status.idle": "2025-08-05T16:39:46.944102Z",
     "shell.execute_reply": "2025-08-05T16:39:46.943276Z"
    },
    "papermill": {
     "duration": 0.017823,
     "end_time": "2025-08-05T16:39:46.945459",
     "exception": false,
     "start_time": "2025-08-05T16:39:46.927636",
     "status": "completed"
    },
    "tags": []
   },
   "outputs": [],
   "source": [
    "#cp_groups_df"
   ]
  },
  {
   "cell_type": "code",
   "execution_count": 55,
   "id": "90032e27-66df-4540-9169-4e89cfbaa758",
   "metadata": {
    "execution": {
     "iopub.execute_input": "2025-08-05T16:39:46.969740Z",
     "iopub.status.busy": "2025-08-05T16:39:46.969051Z",
     "iopub.status.idle": "2025-08-05T16:39:46.978587Z",
     "shell.execute_reply": "2025-08-05T16:39:46.977772Z"
    },
    "papermill": {
     "duration": 0.022929,
     "end_time": "2025-08-05T16:39:46.980133",
     "exception": false,
     "start_time": "2025-08-05T16:39:46.957204",
     "status": "completed"
    },
    "tags": []
   },
   "outputs": [],
   "source": [
    "subgroups = ['frau1','nongerman','nongerman_male','nongerman_female']\n",
    "\n",
    "# Conditional coverage for subgroup==1\n",
    "cond_coverage = {\n",
    "    g: cp_groups_df.loc[cp_groups_df[g]==1, 'covered'].mean()\n",
    "    for g in subgroups\n",
    "}"
   ]
  },
  {
   "cell_type": "code",
   "execution_count": 56,
   "id": "1e348fb1-b9c3-45bc-ba23-f016827a7e0d",
   "metadata": {
    "execution": {
     "iopub.execute_input": "2025-08-05T16:39:47.005398Z",
     "iopub.status.busy": "2025-08-05T16:39:47.004883Z",
     "iopub.status.idle": "2025-08-05T16:39:47.012074Z",
     "shell.execute_reply": "2025-08-05T16:39:47.011206Z"
    },
    "papermill": {
     "duration": 0.021357,
     "end_time": "2025-08-05T16:39:47.013660",
     "exception": false,
     "start_time": "2025-08-05T16:39:46.992303",
     "status": "completed"
    },
    "tags": []
   },
   "outputs": [
    {
     "data": {
      "text/plain": [
       "{'frau1': 0.913303679741205,\n",
       " 'nongerman': 0.9626677145904676,\n",
       " 'nongerman_male': 0.9684769882013871,\n",
       " 'nongerman_female': 0.9530551415797317}"
      ]
     },
     "execution_count": 56,
     "metadata": {},
     "output_type": "execute_result"
    }
   ],
   "source": [
    "cond_coverage"
   ]
  },
  {
   "cell_type": "code",
   "execution_count": 57,
   "id": "f5093324-c3dd-4d63-bc4c-8d945e5c8bbb",
   "metadata": {
    "execution": {
     "iopub.execute_input": "2025-08-05T16:39:47.039059Z",
     "iopub.status.busy": "2025-08-05T16:39:47.038317Z",
     "iopub.status.idle": "2025-08-05T16:39:47.044714Z",
     "shell.execute_reply": "2025-08-05T16:39:47.043884Z"
    },
    "papermill": {
     "duration": 0.020263,
     "end_time": "2025-08-05T16:39:47.046332",
     "exception": false,
     "start_time": "2025-08-05T16:39:47.026069",
     "status": "completed"
    },
    "tags": []
   },
   "outputs": [],
   "source": [
    "for subgroup, cov in cond_coverage.items():\n",
    "    cp_metrics_df[f\"cov_{subgroup}\"] = cov"
   ]
  },
  {
   "cell_type": "code",
   "execution_count": 58,
   "id": "6e872e10-dbe5-49e8-b554-5030c98ff75d",
   "metadata": {
    "execution": {
     "iopub.execute_input": "2025-08-05T16:39:47.072322Z",
     "iopub.status.busy": "2025-08-05T16:39:47.071800Z",
     "iopub.status.idle": "2025-08-05T16:39:47.086958Z",
     "shell.execute_reply": "2025-08-05T16:39:47.085912Z"
    },
    "papermill": {
     "duration": 0.029086,
     "end_time": "2025-08-05T16:39:47.088396",
     "exception": false,
     "start_time": "2025-08-05T16:39:47.059310",
     "status": "completed"
    },
    "tags": []
   },
   "outputs": [
    {
     "data": {
      "text/html": [
       "<div>\n",
       "<style scoped>\n",
       "    .dataframe tbody tr th:only-of-type {\n",
       "        vertical-align: middle;\n",
       "    }\n",
       "\n",
       "    .dataframe tbody tr th {\n",
       "        vertical-align: top;\n",
       "    }\n",
       "\n",
       "    .dataframe thead th {\n",
       "        text-align: right;\n",
       "    }\n",
       "</style>\n",
       "<table border=\"1\" class=\"dataframe\">\n",
       "  <thead>\n",
       "    <tr style=\"text-align: right;\">\n",
       "      <th></th>\n",
       "      <th>universe_id</th>\n",
       "      <th>universe_training_year</th>\n",
       "      <th>universe_training_size</th>\n",
       "      <th>universe_scale</th>\n",
       "      <th>universe_model</th>\n",
       "      <th>universe_exclude_features</th>\n",
       "      <th>universe_exclude_subgroups</th>\n",
       "      <th>q_hat</th>\n",
       "      <th>coverage</th>\n",
       "      <th>avg_size</th>\n",
       "      <th>cov_frau1</th>\n",
       "      <th>cov_nongerman</th>\n",
       "      <th>cov_nongerman_male</th>\n",
       "      <th>cov_nongerman_female</th>\n",
       "    </tr>\n",
       "  </thead>\n",
       "  <tbody>\n",
       "    <tr>\n",
       "      <th>0</th>\n",
       "      <td>26239ec606a5746569d2f48e33b3a1e3</td>\n",
       "      <td>2010_14</td>\n",
       "      <td>1k</td>\n",
       "      <td>do-not-scale</td>\n",
       "      <td>logreg</td>\n",
       "      <td>age</td>\n",
       "      <td>keep-all</td>\n",
       "      <td>0.67686</td>\n",
       "      <td>0.913365</td>\n",
       "      <td>1.272144</td>\n",
       "      <td>0.913304</td>\n",
       "      <td>0.962668</td>\n",
       "      <td>0.968477</td>\n",
       "      <td>0.953055</td>\n",
       "    </tr>\n",
       "  </tbody>\n",
       "</table>\n",
       "</div>"
      ],
      "text/plain": [
       "                        universe_id universe_training_year  \\\n",
       "0  26239ec606a5746569d2f48e33b3a1e3                2010_14   \n",
       "\n",
       "  universe_training_size universe_scale universe_model  \\\n",
       "0                     1k   do-not-scale         logreg   \n",
       "\n",
       "  universe_exclude_features universe_exclude_subgroups    q_hat  coverage  \\\n",
       "0                       age                   keep-all  0.67686  0.913365   \n",
       "\n",
       "   avg_size  cov_frau1  cov_nongerman  cov_nongerman_male  \\\n",
       "0  1.272144   0.913304       0.962668            0.968477   \n",
       "\n",
       "   cov_nongerman_female  \n",
       "0              0.953055  "
      ]
     },
     "execution_count": 58,
     "metadata": {},
     "output_type": "execute_result"
    }
   ],
   "source": [
    "cp_metrics_df"
   ]
  },
  {
   "cell_type": "markdown",
   "id": "33774451",
   "metadata": {
    "papermill": {
     "duration": 0.011276,
     "end_time": "2025-08-05T16:39:47.112441",
     "exception": false,
     "start_time": "2025-08-05T16:39:47.101165",
     "status": "completed"
    },
    "tags": []
   },
   "source": [
    "# (Fairness) Metrics"
   ]
  },
  {
   "cell_type": "code",
   "execution_count": 59,
   "id": "debc5d62",
   "metadata": {
    "execution": {
     "iopub.execute_input": "2025-08-05T16:39:47.136852Z",
     "iopub.status.busy": "2025-08-05T16:39:47.136108Z",
     "iopub.status.idle": "2025-08-05T16:39:47.150777Z",
     "shell.execute_reply": "2025-08-05T16:39:47.150000Z"
    },
    "papermill": {
     "duration": 0.028601,
     "end_time": "2025-08-05T16:39:47.152257",
     "exception": false,
     "start_time": "2025-08-05T16:39:47.123656",
     "status": "completed"
    },
    "tags": []
   },
   "outputs": [],
   "source": [
    "# do I need to include maxdeutsch1.missing?\n",
    "\n",
    "import numpy as np\n",
    "\n",
    "colname_to_bin = \"maxdeutsch1\"\n",
    "majority_value = org_train[colname_to_bin].mode()[0]\n",
    "\n",
    "org_test[\"majmin\"] = np.where(org_test[colname_to_bin] == majority_value, \"majority\", \"minority\")"
   ]
  },
  {
   "cell_type": "code",
   "execution_count": 60,
   "id": "06a50de5",
   "metadata": {
    "execution": {
     "iopub.execute_input": "2025-08-05T16:39:47.178136Z",
     "iopub.status.busy": "2025-08-05T16:39:47.177615Z",
     "iopub.status.idle": "2025-08-05T16:39:48.745694Z",
     "shell.execute_reply": "2025-08-05T16:39:48.744827Z"
    },
    "papermill": {
     "duration": 1.582407,
     "end_time": "2025-08-05T16:39:48.747253",
     "exception": false,
     "start_time": "2025-08-05T16:39:47.164846",
     "status": "completed"
    },
    "tags": []
   },
   "outputs": [],
   "source": [
    "example_universe = universe.copy()\n",
    "example_universe[\"cutoff\"] = example_universe[\"cutoff\"][0]\n",
    "example_universe[\"eval_fairness_grouping\"] = example_universe[\"eval_fairness_grouping\"][0]\n",
    "fairness_dict, metric_frame = universe_analysis.compute_metrics(\n",
    "    example_universe,\n",
    "    y_pred_prob=probs_test,\n",
    "    y_test=y_true,\n",
    "    org_test=org_test,\n",
    ")"
   ]
  },
  {
   "cell_type": "markdown",
   "id": "f95d4e02",
   "metadata": {
    "papermill": {
     "duration": 0.011874,
     "end_time": "2025-08-05T16:39:48.771673",
     "exception": false,
     "start_time": "2025-08-05T16:39:48.759799",
     "status": "completed"
    },
    "tags": []
   },
   "source": [
    "# Overall"
   ]
  },
  {
   "cell_type": "markdown",
   "id": "bdee4871",
   "metadata": {
    "papermill": {
     "duration": 0.011767,
     "end_time": "2025-08-05T16:39:48.794984",
     "exception": false,
     "start_time": "2025-08-05T16:39:48.783217",
     "status": "completed"
    },
    "tags": []
   },
   "source": [
    "Fairness\n",
    "Main fairness target: Equalized Odds. Seems to be a better fit than equal opportunity, since we're not only interested in Y = 1. Seems to be a better fit than demographic parity, since we also care about accuracy, not just equal distribution of preds.\n",
    "\n",
    "Pick column for computation of fairness metrics\n",
    "\n",
    "Performance\n",
    "Overall performance measures, most interesting in relation to the measures split by group below"
   ]
  },
  {
   "cell_type": "code",
   "execution_count": 61,
   "id": "c4e067c6",
   "metadata": {
    "execution": {
     "iopub.execute_input": "2025-08-05T16:39:48.839741Z",
     "iopub.status.busy": "2025-08-05T16:39:48.839000Z",
     "iopub.status.idle": "2025-08-05T16:39:48.850433Z",
     "shell.execute_reply": "2025-08-05T16:39:48.849428Z"
    },
    "papermill": {
     "duration": 0.037234,
     "end_time": "2025-08-05T16:39:48.852259",
     "exception": false,
     "start_time": "2025-08-05T16:39:48.815025",
     "status": "completed"
    },
    "tags": []
   },
   "outputs": [
    {
     "data": {
      "text/plain": [
       "accuracy                   0.213900\n",
       "balanced accuracy          0.525210\n",
       "f1                         0.235520\n",
       "precision                  0.134545\n",
       "false positive rate        0.893532\n",
       "false negative rate        0.056048\n",
       "selection rate             0.900000\n",
       "count                  89710.000000\n",
       "dtype: float64"
      ]
     },
     "execution_count": 61,
     "metadata": {},
     "output_type": "execute_result"
    }
   ],
   "source": [
    "metric_frame.overall"
   ]
  },
  {
   "cell_type": "markdown",
   "id": "e968fe9d",
   "metadata": {
    "papermill": {
     "duration": 0.013548,
     "end_time": "2025-08-05T16:39:48.878646",
     "exception": false,
     "start_time": "2025-08-05T16:39:48.865098",
     "status": "completed"
    },
    "tags": []
   },
   "source": [
    "By Group"
   ]
  },
  {
   "cell_type": "code",
   "execution_count": 62,
   "id": "ec325bce",
   "metadata": {
    "execution": {
     "iopub.execute_input": "2025-08-05T16:39:48.903315Z",
     "iopub.status.busy": "2025-08-05T16:39:48.902954Z",
     "iopub.status.idle": "2025-08-05T16:39:48.915874Z",
     "shell.execute_reply": "2025-08-05T16:39:48.914998Z"
    },
    "papermill": {
     "duration": 0.027094,
     "end_time": "2025-08-05T16:39:48.917444",
     "exception": false,
     "start_time": "2025-08-05T16:39:48.890350",
     "status": "completed"
    },
    "tags": []
   },
   "outputs": [
    {
     "data": {
      "text/html": [
       "<div>\n",
       "<style scoped>\n",
       "    .dataframe tbody tr th:only-of-type {\n",
       "        vertical-align: middle;\n",
       "    }\n",
       "\n",
       "    .dataframe tbody tr th {\n",
       "        vertical-align: top;\n",
       "    }\n",
       "\n",
       "    .dataframe thead th {\n",
       "        text-align: right;\n",
       "    }\n",
       "</style>\n",
       "<table border=\"1\" class=\"dataframe\">\n",
       "  <thead>\n",
       "    <tr style=\"text-align: right;\">\n",
       "      <th></th>\n",
       "      <th>accuracy</th>\n",
       "      <th>balanced accuracy</th>\n",
       "      <th>f1</th>\n",
       "      <th>precision</th>\n",
       "      <th>false positive rate</th>\n",
       "      <th>false negative rate</th>\n",
       "      <th>selection rate</th>\n",
       "      <th>count</th>\n",
       "    </tr>\n",
       "    <tr>\n",
       "      <th>majmin</th>\n",
       "      <th></th>\n",
       "      <th></th>\n",
       "      <th></th>\n",
       "      <th></th>\n",
       "      <th></th>\n",
       "      <th></th>\n",
       "      <th></th>\n",
       "      <th></th>\n",
       "    </tr>\n",
       "  </thead>\n",
       "  <tbody>\n",
       "    <tr>\n",
       "      <th>majority</th>\n",
       "      <td>0.235912</td>\n",
       "      <td>0.531405</td>\n",
       "      <td>0.243978</td>\n",
       "      <td>0.140337</td>\n",
       "      <td>0.870232</td>\n",
       "      <td>0.066958</td>\n",
       "      <td>0.878531</td>\n",
       "      <td>69170.0</td>\n",
       "    </tr>\n",
       "    <tr>\n",
       "      <th>minority</th>\n",
       "      <td>0.139776</td>\n",
       "      <td>0.507780</td>\n",
       "      <td>0.209051</td>\n",
       "      <td>0.116920</td>\n",
       "      <td>0.970504</td>\n",
       "      <td>0.013936</td>\n",
       "      <td>0.972298</td>\n",
       "      <td>20540.0</td>\n",
       "    </tr>\n",
       "  </tbody>\n",
       "</table>\n",
       "</div>"
      ],
      "text/plain": [
       "          accuracy  balanced accuracy        f1  precision  \\\n",
       "majmin                                                       \n",
       "majority  0.235912           0.531405  0.243978   0.140337   \n",
       "minority  0.139776           0.507780  0.209051   0.116920   \n",
       "\n",
       "          false positive rate  false negative rate  selection rate    count  \n",
       "majmin                                                                       \n",
       "majority             0.870232             0.066958        0.878531  69170.0  \n",
       "minority             0.970504             0.013936        0.972298  20540.0  "
      ]
     },
     "execution_count": 62,
     "metadata": {},
     "output_type": "execute_result"
    }
   ],
   "source": [
    "metric_frame.by_group"
   ]
  },
  {
   "cell_type": "code",
   "execution_count": 63,
   "id": "a9ddbe63",
   "metadata": {
    "execution": {
     "iopub.execute_input": "2025-08-05T16:39:48.961711Z",
     "iopub.status.busy": "2025-08-05T16:39:48.961228Z",
     "iopub.status.idle": "2025-08-05T16:39:51.611362Z",
     "shell.execute_reply": "2025-08-05T16:39:51.610391Z"
    },
    "papermill": {
     "duration": 2.68234,
     "end_time": "2025-08-05T16:39:51.612820",
     "exception": false,
     "start_time": "2025-08-05T16:39:48.930480",
     "status": "completed"
    },
    "tags": []
   },
   "outputs": [
    {
     "data": {
      "text/plain": [
       "array([[<Axes: title={'center': 'accuracy'}, xlabel='majmin'>,\n",
       "        <Axes: title={'center': 'balanced accuracy'}, xlabel='majmin'>,\n",
       "        <Axes: title={'center': 'f1'}, xlabel='majmin'>],\n",
       "       [<Axes: title={'center': 'precision'}, xlabel='majmin'>,\n",
       "        <Axes: title={'center': 'false positive rate'}, xlabel='majmin'>,\n",
       "        <Axes: title={'center': 'false negative rate'}, xlabel='majmin'>],\n",
       "       [<Axes: title={'center': 'selection rate'}, xlabel='majmin'>,\n",
       "        <Axes: title={'center': 'count'}, xlabel='majmin'>,\n",
       "        <Axes: xlabel='majmin'>]], dtype=object)"
      ]
     },
     "execution_count": 63,
     "metadata": {},
     "output_type": "execute_result"
    },
    {
     "data": {
      "image/png": "[encoded data removed]",
      "text/plain": [
       "<Figure size 1200x800 with 9 Axes>"
      ]
     },
     "metadata": {},
     "output_type": "display_data"
    }
   ],
   "source": [
    "# In a graphic\n",
    "metric_frame.by_group.plot.bar(\n",
    "    subplots=True,\n",
    "    layout=[3, 3],\n",
    "    legend=False,\n",
    "    figsize=[12, 8],\n",
    "    title=\"Show all metrics\",\n",
    ")"
   ]
  },
  {
   "cell_type": "markdown",
   "id": "f57a0bac",
   "metadata": {
    "papermill": {
     "duration": 0.024076,
     "end_time": "2025-08-05T16:39:51.664512",
     "exception": false,
     "start_time": "2025-08-05T16:39:51.640436",
     "status": "completed"
    },
    "tags": []
   },
   "source": [
    "# Final Output"
   ]
  },
  {
   "cell_type": "code",
   "execution_count": 64,
   "id": "96d280a3",
   "metadata": {
    "execution": {
     "iopub.execute_input": "2025-08-05T16:39:51.713785Z",
     "iopub.status.busy": "2025-08-05T16:39:51.713164Z",
     "iopub.status.idle": "2025-08-05T16:39:51.722844Z",
     "shell.execute_reply": "2025-08-05T16:39:51.721813Z"
    },
    "papermill": {
     "duration": 0.0435,
     "end_time": "2025-08-05T16:39:51.732611",
     "exception": false,
     "start_time": "2025-08-05T16:39:51.689111",
     "status": "completed"
    },
    "tags": []
   },
   "outputs": [
    {
     "data": {
      "text/plain": [
       "4"
      ]
     },
     "execution_count": 64,
     "metadata": {},
     "output_type": "execute_result"
    }
   ],
   "source": [
    "sub_universes = universe_analysis.generate_sub_universes()\n",
    "len(sub_universes)"
   ]
  },
  {
   "cell_type": "code",
   "execution_count": 65,
   "id": "92adf7ba",
   "metadata": {
    "execution": {
     "iopub.execute_input": "2025-08-05T16:39:51.787485Z",
     "iopub.status.busy": "2025-08-05T16:39:51.786949Z",
     "iopub.status.idle": "2025-08-05T16:39:51.794609Z",
     "shell.execute_reply": "2025-08-05T16:39:51.793559Z"
    },
    "papermill": {
     "duration": 0.035466,
     "end_time": "2025-08-05T16:39:51.796570",
     "exception": false,
     "start_time": "2025-08-05T16:39:51.761104",
     "status": "completed"
    },
    "tags": []
   },
   "outputs": [],
   "source": [
    "def filter_sub_universe_data(sub_universe, org_test):\n",
    "    # Keep all rows — no filtering\n",
    "    keep_rows_mask = np.ones(org_test.shape[0], dtype=bool)\n",
    "\n",
    "    print(f\"[INFO] Keeping all rows: {keep_rows_mask.sum()} rows retained.\")\n",
    "    return keep_rows_mask"
   ]
  },
  {
   "cell_type": "code",
   "execution_count": 66,
   "id": "4a759155",
   "metadata": {
    "execution": {
     "iopub.execute_input": "2025-08-05T16:39:51.849848Z",
     "iopub.status.busy": "2025-08-05T16:39:51.849094Z",
     "iopub.status.idle": "2025-08-05T16:39:59.102673Z",
     "shell.execute_reply": "2025-08-05T16:39:59.101968Z"
    },
    "papermill": {
     "duration": 7.27836,
     "end_time": "2025-08-05T16:39:59.103866",
     "exception": false,
     "start_time": "2025-08-05T16:39:51.825506",
     "status": "completed"
    },
    "tags": []
   },
   "outputs": [
    {
     "name": "stdout",
     "output_type": "stream",
     "text": [
      "Stopping execution_time clock.\n",
      "[INFO] Keeping all rows: 89710 rows retained.\n"
     ]
    },
    {
     "name": "stdout",
     "output_type": "stream",
     "text": [
      "[INFO] Keeping all rows: 89710 rows retained.\n"
     ]
    },
    {
     "name": "stdout",
     "output_type": "stream",
     "text": [
      "[INFO] Keeping all rows: 89710 rows retained.\n"
     ]
    },
    {
     "name": "stdout",
     "output_type": "stream",
     "text": [
      "[INFO] Keeping all rows: 89710 rows retained.\n"
     ]
    },
    {
     "data": {
      "text/html": [
       "<div>\n",
       "<style scoped>\n",
       "    .dataframe tbody tr th:only-of-type {\n",
       "        vertical-align: middle;\n",
       "    }\n",
       "\n",
       "    .dataframe tbody tr th {\n",
       "        vertical-align: top;\n",
       "    }\n",
       "\n",
       "    .dataframe thead th {\n",
       "        text-align: right;\n",
       "    }\n",
       "</style>\n",
       "<table border=\"1\" class=\"dataframe\">\n",
       "  <thead>\n",
       "    <tr style=\"text-align: right;\">\n",
       "      <th></th>\n",
       "      <th>run_no</th>\n",
       "      <th>universe_id</th>\n",
       "      <th>universe_settings</th>\n",
       "      <th>execution_time</th>\n",
       "      <th>test_size_n</th>\n",
       "      <th>test_size_frac</th>\n",
       "      <th>fair_main_equalized_odds_difference</th>\n",
       "      <th>fair_main_equalized_odds_ratio</th>\n",
       "      <th>fair_main_demographic_parity_difference</th>\n",
       "      <th>fair_main_demographic_parity_ratio</th>\n",
       "      <th>...</th>\n",
       "      <th>perf_grp_precision_0</th>\n",
       "      <th>perf_grp_precision_1</th>\n",
       "      <th>perf_grp_false positive rate_0</th>\n",
       "      <th>perf_grp_false positive rate_1</th>\n",
       "      <th>perf_grp_false negative rate_0</th>\n",
       "      <th>perf_grp_false negative rate_1</th>\n",
       "      <th>perf_grp_selection rate_0</th>\n",
       "      <th>perf_grp_selection rate_1</th>\n",
       "      <th>perf_grp_count_0</th>\n",
       "      <th>perf_grp_count_1</th>\n",
       "    </tr>\n",
       "  </thead>\n",
       "  <tbody>\n",
       "    <tr>\n",
       "      <th>0</th>\n",
       "      <td>15</td>\n",
       "      <td>26239ec606a5746569d2f48e33b3a1e3</td>\n",
       "      <td>{\"cutoff\": \"quantile_0.1\", \"eval_fairness_grou...</td>\n",
       "      <td>23.149908</td>\n",
       "      <td>89710</td>\n",
       "      <td>1.0</td>\n",
       "      <td>0.100273</td>\n",
       "      <td>0.896680</td>\n",
       "      <td>0.093767</td>\n",
       "      <td>0.903562</td>\n",
       "      <td>...</td>\n",
       "      <td>NaN</td>\n",
       "      <td>NaN</td>\n",
       "      <td>NaN</td>\n",
       "      <td>NaN</td>\n",
       "      <td>NaN</td>\n",
       "      <td>NaN</td>\n",
       "      <td>NaN</td>\n",
       "      <td>NaN</td>\n",
       "      <td>NaN</td>\n",
       "      <td>NaN</td>\n",
       "    </tr>\n",
       "    <tr>\n",
       "      <th>0</th>\n",
       "      <td>15</td>\n",
       "      <td>26239ec606a5746569d2f48e33b3a1e3</td>\n",
       "      <td>{\"cutoff\": \"quantile_0.1\", \"eval_fairness_grou...</td>\n",
       "      <td>23.149908</td>\n",
       "      <td>89710</td>\n",
       "      <td>1.0</td>\n",
       "      <td>0.100273</td>\n",
       "      <td>0.896680</td>\n",
       "      <td>0.093767</td>\n",
       "      <td>0.903562</td>\n",
       "      <td>...</td>\n",
       "      <td>0.116920</td>\n",
       "      <td>0.140337</td>\n",
       "      <td>0.970504</td>\n",
       "      <td>0.870232</td>\n",
       "      <td>0.013936</td>\n",
       "      <td>0.066958</td>\n",
       "      <td>0.972298</td>\n",
       "      <td>0.878531</td>\n",
       "      <td>20540.0</td>\n",
       "      <td>69170.0</td>\n",
       "    </tr>\n",
       "    <tr>\n",
       "      <th>0</th>\n",
       "      <td>15</td>\n",
       "      <td>26239ec606a5746569d2f48e33b3a1e3</td>\n",
       "      <td>{\"cutoff\": \"quantile_0.25\", \"eval_fairness_gro...</td>\n",
       "      <td>23.149908</td>\n",
       "      <td>89710</td>\n",
       "      <td>1.0</td>\n",
       "      <td>0.233726</td>\n",
       "      <td>0.744017</td>\n",
       "      <td>0.217849</td>\n",
       "      <td>0.762682</td>\n",
       "      <td>...</td>\n",
       "      <td>NaN</td>\n",
       "      <td>NaN</td>\n",
       "      <td>NaN</td>\n",
       "      <td>NaN</td>\n",
       "      <td>NaN</td>\n",
       "      <td>NaN</td>\n",
       "      <td>NaN</td>\n",
       "      <td>NaN</td>\n",
       "      <td>NaN</td>\n",
       "      <td>NaN</td>\n",
       "    </tr>\n",
       "    <tr>\n",
       "      <th>0</th>\n",
       "      <td>15</td>\n",
       "      <td>26239ec606a5746569d2f48e33b3a1e3</td>\n",
       "      <td>{\"cutoff\": \"quantile_0.25\", \"eval_fairness_gro...</td>\n",
       "      <td>23.149908</td>\n",
       "      <td>89710</td>\n",
       "      <td>1.0</td>\n",
       "      <td>0.233726</td>\n",
       "      <td>0.744017</td>\n",
       "      <td>0.217849</td>\n",
       "      <td>0.762682</td>\n",
       "      <td>...</td>\n",
       "      <td>0.120021</td>\n",
       "      <td>0.157908</td>\n",
       "      <td>0.913053</td>\n",
       "      <td>0.679327</td>\n",
       "      <td>0.044341</td>\n",
       "      <td>0.163348</td>\n",
       "      <td>0.917965</td>\n",
       "      <td>0.700116</td>\n",
       "      <td>20540.0</td>\n",
       "      <td>69170.0</td>\n",
       "    </tr>\n",
       "  </tbody>\n",
       "</table>\n",
       "<p>4 rows × 50 columns</p>\n",
       "</div>"
      ],
      "text/plain": [
       "  run_no                       universe_id  \\\n",
       "0     15  26239ec606a5746569d2f48e33b3a1e3   \n",
       "0     15  26239ec606a5746569d2f48e33b3a1e3   \n",
       "0     15  26239ec606a5746569d2f48e33b3a1e3   \n",
       "0     15  26239ec606a5746569d2f48e33b3a1e3   \n",
       "\n",
       "                                   universe_settings  execution_time  \\\n",
       "0  {\"cutoff\": \"quantile_0.1\", \"eval_fairness_grou...       23.149908   \n",
       "0  {\"cutoff\": \"quantile_0.1\", \"eval_fairness_grou...       23.149908   \n",
       "0  {\"cutoff\": \"quantile_0.25\", \"eval_fairness_gro...       23.149908   \n",
       "0  {\"cutoff\": \"quantile_0.25\", \"eval_fairness_gro...       23.149908   \n",
       "\n",
       "   test_size_n  test_size_frac  fair_main_equalized_odds_difference  \\\n",
       "0        89710             1.0                             0.100273   \n",
       "0        89710             1.0                             0.100273   \n",
       "0        89710             1.0                             0.233726   \n",
       "0        89710             1.0                             0.233726   \n",
       "\n",
       "   fair_main_equalized_odds_ratio  fair_main_demographic_parity_difference  \\\n",
       "0                        0.896680                                 0.093767   \n",
       "0                        0.896680                                 0.093767   \n",
       "0                        0.744017                                 0.217849   \n",
       "0                        0.744017                                 0.217849   \n",
       "\n",
       "   fair_main_demographic_parity_ratio  ...  perf_grp_precision_0  \\\n",
       "0                            0.903562  ...                   NaN   \n",
       "0                            0.903562  ...              0.116920   \n",
       "0                            0.762682  ...                   NaN   \n",
       "0                            0.762682  ...              0.120021   \n",
       "\n",
       "   perf_grp_precision_1  perf_grp_false positive rate_0  \\\n",
       "0                   NaN                             NaN   \n",
       "0              0.140337                        0.970504   \n",
       "0                   NaN                             NaN   \n",
       "0              0.157908                        0.913053   \n",
       "\n",
       "   perf_grp_false positive rate_1  perf_grp_false negative rate_0  \\\n",
       "0                             NaN                             NaN   \n",
       "0                        0.870232                        0.013936   \n",
       "0                             NaN                             NaN   \n",
       "0                        0.679327                        0.044341   \n",
       "\n",
       "   perf_grp_false negative rate_1  perf_grp_selection rate_0  \\\n",
       "0                             NaN                        NaN   \n",
       "0                        0.066958                   0.972298   \n",
       "0                             NaN                        NaN   \n",
       "0                        0.163348                   0.917965   \n",
       "\n",
       "   perf_grp_selection rate_1  perf_grp_count_0  perf_grp_count_1  \n",
       "0                        NaN               NaN               NaN  \n",
       "0                   0.878531           20540.0           69170.0  \n",
       "0                        NaN               NaN               NaN  \n",
       "0                   0.700116           20540.0           69170.0  \n",
       "\n",
       "[4 rows x 50 columns]"
      ]
     },
     "execution_count": 66,
     "metadata": {},
     "output_type": "execute_result"
    }
   ],
   "source": [
    "final_output = universe_analysis.generate_final_output(\n",
    "    y_pred_prob=probs_test,\n",
    "    y_test=y_true,\n",
    "    org_test=org_test,\n",
    "    filter_data=filter_sub_universe_data,\n",
    "    cp_metrics_df=cp_metrics_df,\n",
    "    save=True,\n",
    ")\n",
    "final_output"
   ]
  }
 ],
 "metadata": {
  "celltoolbar": "Tags",
  "kernelspec": {
   "display_name": "Python (CMA Fairness)",
   "language": "python",
   "name": "cma_fair_env"
  },
  "language_info": {
   "codemirror_mode": {
    "name": "ipython",
    "version": 3
   },
   "file_extension": ".py",
   "mimetype": "text/x-python",
   "name": "python",
   "nbconvert_exporter": "python",
   "pygments_lexer": "ipython3",
   "version": "3.10.12"
  },
  "papermill": {
   "default_parameters": {},
   "duration": 33.789786,
   "end_time": "2025-08-05T16:39:59.738273",
   "environment_variables": {},
   "exception": null,
   "input_path": "universe_analysis.ipynb",
   "output_path": "output/runs/15/notebooks/m_15-26239ec606a5746569d2f48e33b3a1e3.ipynb",
   "parameters": {
    "output_dir": "output",
    "run_no": "15",
    "seed": "2023",
    "universe": "{\"cutoff\": [\"quantile_0.1\", \"quantile_0.25\"], \"eval_fairness_grouping\": [\"majority-minority\", \"nationality-all\"], \"exclude_features\": \"age\", \"exclude_subgroups\": \"keep-all\", \"model\": \"logreg\", \"scale\": \"do-not-scale\", \"training_size\": \"1k\", \"training_year\": \"2010_14\"}",
    "universe_id": "26239ec606a5746569d2f48e33b3a1e3"
   },
   "start_time": "2025-08-05T16:39:25.948487",
   "version": "2.6.0"
  }
 },
 "nbformat": 4,
 "nbformat_minor": 5
}