{
 "cells": [
  {
   "cell_type": "code",
   "execution_count": 1,
   "id": "f159f837-637b-42ba-96b5-ec9a68c44524",
   "metadata": {
    "execution": {
     "iopub.execute_input": "2025-08-05T14:42:00.230377Z",
     "iopub.status.busy": "2025-08-05T14:42:00.229437Z",
     "iopub.status.idle": "2025-08-05T14:42:00.243116Z",
     "shell.execute_reply": "2025-08-05T14:42:00.242144Z"
    },
    "papermill": {
     "duration": 0.036996,
     "end_time": "2025-08-05T14:42:00.245112",
     "exception": false,
     "start_time": "2025-08-05T14:42:00.208116",
     "status": "completed"
    },
    "tags": []
   },
   "outputs": [
    {
     "name": "stdout",
     "output_type": "stream",
     "text": [
      "/dss/dsshome1/0C/ra93lal2/cma/CMA_Fairness_v2\n"
     ]
    },
    {
     "name": "stderr",
     "output_type": "stream",
     "text": [
      "/dss/dsshome1/0C/ra93lal2/.local/share/virtualenvs/CMA_Fairness_v2-3j10GkSs/lib/python3.10/site-packages/IPython/core/magics/osm.py:393: UserWarning: This is now an optional IPython functionality, using bookmarks requires you to install the `pickleshare` library.\n",
      "  bkms = self.shell.db.get('bookmarks', {})\n",
      "/dss/dsshome1/0C/ra93lal2/.local/share/virtualenvs/CMA_Fairness_v2-3j10GkSs/lib/python3.10/site-packages/IPython/core/magics/osm.py:417: UserWarning: This is now an optional IPython functionality, setting dhist requires you to install the `pickleshare` library.\n",
      "  self.shell.db['dhist'] = compress_dhist(dhist)[-100:]\n"
     ]
    }
   ],
   "source": [
    "%cd ~/cma/CMA_Fairness_v2"
   ]
  },
  {
   "cell_type": "markdown",
   "id": "de2603b9",
   "metadata": {
    "papermill": {
     "duration": 0.017857,
     "end_time": "2025-08-05T14:42:00.280629",
     "exception": false,
     "start_time": "2025-08-05T14:42:00.262772",
     "status": "completed"
    },
    "tags": []
   },
   "source": [
    "The following cell holds the definition of our parameters, these values can be overriden by rendering the with e.g. the following command:\n",
    "\n",
    "papermill -p alpha 0.2 -p ratio 0.3 universe_analysis.ipynb output/test_run.ipynb"
   ]
  },
  {
   "cell_type": "code",
   "execution_count": 2,
   "id": "a80968a0-40bb-4fa9-85ef-2d5eefb01975",
   "metadata": {
    "execution": {
     "iopub.execute_input": "2025-08-05T14:42:00.318790Z",
     "iopub.status.busy": "2025-08-05T14:42:00.318345Z",
     "iopub.status.idle": "2025-08-05T14:42:00.324025Z",
     "shell.execute_reply": "2025-08-05T14:42:00.322923Z"
    },
    "papermill": {
     "duration": 0.02618,
     "end_time": "2025-08-05T14:42:00.325591",
     "exception": false,
     "start_time": "2025-08-05T14:42:00.299411",
     "status": "completed"
    },
    "tags": []
   },
   "outputs": [
    {
     "name": "stdout",
     "output_type": "stream",
     "text": [
      "Current working directory: /dss/dsshome1/0C/ra93lal2/cma/CMA_Fairness_v2\n"
     ]
    }
   ],
   "source": [
    "import os\n",
    "print(\"Current working directory:\", os.getcwd())"
   ]
  },
  {
   "cell_type": "code",
   "execution_count": 3,
   "id": "2dce4c03",
   "metadata": {
    "execution": {
     "iopub.execute_input": "2025-08-05T14:42:00.344121Z",
     "iopub.status.busy": "2025-08-05T14:42:00.343527Z",
     "iopub.status.idle": "2025-08-05T14:42:00.348371Z",
     "shell.execute_reply": "2025-08-05T14:42:00.347684Z"
    },
    "papermill": {
     "duration": 0.015329,
     "end_time": "2025-08-05T14:42:00.349901",
     "exception": false,
     "start_time": "2025-08-05T14:42:00.334572",
     "status": "completed"
    },
    "tags": [
     "parameters"
    ]
   },
   "outputs": [],
   "source": [
    "run_no = 0\n",
    "universe_id = \"test\"\n",
    "universe = {\n",
    "    \"training_size\": \"25k\", # \"25k\", \"5k\", \"1k\"\n",
    "    \"training_year\": \"2014\", # \"2014\", \"2012_14\", \"2010_14\"\n",
    "    \"scale\": \"scale\", # \"scale\", \"do-not-scale\",\n",
    "    \"model\": \"elasticnet\", # \"logreg\", \"penalized_logreg\", \"rf\", \"gbm\", \"elasticnet\"\n",
    "    \"cutoff\": [\"quantile_0.15\", \"quantile_0.30\"],\n",
    "    \"exclude_features\": \"age\", # \"none\", \"nationality\", \"sex\", \"nationality-sex\", \"age\"\n",
    "    \"exclude_subgroups\": \"keep-all\", # \"keep-all\", \"drop-non-german\"\n",
    "    \"eval_fairness_grouping\": [\"majority-minority\", \"nationality-all\"]\n",
    "}\n",
    "\n",
    "output_dir=\"./output\"\n",
    "seed=0"
   ]
  },
  {
   "cell_type": "code",
   "execution_count": 4,
   "id": "65842479",
   "metadata": {
    "execution": {
     "iopub.execute_input": "2025-08-05T14:42:00.371132Z",
     "iopub.status.busy": "2025-08-05T14:42:00.370547Z",
     "iopub.status.idle": "2025-08-05T14:42:00.374852Z",
     "shell.execute_reply": "2025-08-05T14:42:00.374087Z"
    },
    "papermill": {
     "duration": 0.017335,
     "end_time": "2025-08-05T14:42:00.376358",
     "exception": false,
     "start_time": "2025-08-05T14:42:00.359023",
     "status": "completed"
    },
    "tags": [
     "injected-parameters"
    ]
   },
   "outputs": [],
   "source": [
    "# Parameters\n",
    "universe_id = \"ef0b5702ea097f4599214d88d43eb321\"\n",
    "run_no = \"15\"\n",
    "universe = \"{\\\"cutoff\\\": [\\\"quantile_0.1\\\", \\\"quantile_0.25\\\"], \\\"eval_fairness_grouping\\\": [\\\"majority-minority\\\", \\\"nationality-all\\\"], \\\"exclude_features\\\": \\\"age\\\", \\\"exclude_subgroups\\\": \\\"drop-non-german\\\", \\\"model\\\": \\\"penalized_logreg\\\", \\\"scale\\\": \\\"do-not-scale\\\", \\\"training_size\\\": \\\"25k\\\", \\\"training_year\\\": \\\"2014\\\"}\"\n",
    "output_dir = \"output\"\n",
    "seed = \"2023\"\n"
   ]
  },
  {
   "cell_type": "code",
   "execution_count": 5,
   "id": "1650acaf",
   "metadata": {
    "execution": {
     "iopub.execute_input": "2025-08-05T14:42:00.394858Z",
     "iopub.status.busy": "2025-08-05T14:42:00.394278Z",
     "iopub.status.idle": "2025-08-05T14:42:00.398767Z",
     "shell.execute_reply": "2025-08-05T14:42:00.397968Z"
    },
    "papermill": {
     "duration": 0.01488,
     "end_time": "2025-08-05T14:42:00.400101",
     "exception": false,
     "start_time": "2025-08-05T14:42:00.385221",
     "status": "completed"
    },
    "tags": []
   },
   "outputs": [],
   "source": [
    "import json\n",
    "if isinstance(universe, str):\n",
    "    universe = json.loads(universe)"
   ]
  },
  {
   "cell_type": "code",
   "execution_count": 6,
   "id": "16620c48",
   "metadata": {
    "execution": {
     "iopub.execute_input": "2025-08-05T14:42:00.418685Z",
     "iopub.status.busy": "2025-08-05T14:42:00.418109Z",
     "iopub.status.idle": "2025-08-05T14:42:00.446231Z",
     "shell.execute_reply": "2025-08-05T14:42:00.445577Z"
    },
    "papermill": {
     "duration": 0.038298,
     "end_time": "2025-08-05T14:42:00.447457",
     "exception": false,
     "start_time": "2025-08-05T14:42:00.409159",
     "status": "completed"
    },
    "tags": []
   },
   "outputs": [],
   "source": [
    "# Auto-reload the custom package\n",
    "%load_ext autoreload\n",
    "%autoreload 1\n",
    "%aimport fairness_multiverse"
   ]
  },
  {
   "cell_type": "code",
   "execution_count": 7,
   "id": "01c5c9f3",
   "metadata": {
    "execution": {
     "iopub.execute_input": "2025-08-05T14:42:00.465406Z",
     "iopub.status.busy": "2025-08-05T14:42:00.464823Z",
     "iopub.status.idle": "2025-08-05T14:42:02.053083Z",
     "shell.execute_reply": "2025-08-05T14:42:02.051946Z"
    },
    "papermill": {
     "duration": 1.599191,
     "end_time": "2025-08-05T14:42:02.055137",
     "exception": false,
     "start_time": "2025-08-05T14:42:00.455946",
     "status": "completed"
    },
    "tags": []
   },
   "outputs": [],
   "source": [
    "from fairness_multiverse.universe import UniverseAnalysis\n",
    "\n",
    "universe_analysis = UniverseAnalysis(\n",
    "    run_no = run_no,\n",
    "    universe_id = universe_id,\n",
    "    universe = universe,\n",
    "    output_dir=output_dir,\n",
    ")"
   ]
  },
  {
   "cell_type": "code",
   "execution_count": 8,
   "id": "106241f5",
   "metadata": {
    "execution": {
     "iopub.execute_input": "2025-08-05T14:42:02.091766Z",
     "iopub.status.busy": "2025-08-05T14:42:02.090818Z",
     "iopub.status.idle": "2025-08-05T14:42:02.098243Z",
     "shell.execute_reply": "2025-08-05T14:42:02.096961Z"
    },
    "papermill": {
     "duration": 0.026728,
     "end_time": "2025-08-05T14:42:02.099931",
     "exception": false,
     "start_time": "2025-08-05T14:42:02.073203",
     "status": "completed"
    },
    "tags": []
   },
   "outputs": [
    {
     "name": "stdout",
     "output_type": "stream",
     "text": [
      "Using Seed: 2023\n"
     ]
    }
   ],
   "source": [
    "import numpy as np\n",
    "parsed_seed = int(seed)\n",
    "np.random.seed(parsed_seed)\n",
    "print(f\"Using Seed: {parsed_seed}\")"
   ]
  },
  {
   "cell_type": "markdown",
   "id": "e0ebdc57",
   "metadata": {
    "papermill": {
     "duration": 0.017195,
     "end_time": "2025-08-05T14:42:02.134419",
     "exception": false,
     "start_time": "2025-08-05T14:42:02.117224",
     "status": "completed"
    },
    "tags": []
   },
   "source": [
    "# Loading Data"
   ]
  },
  {
   "cell_type": "markdown",
   "id": "681925a3",
   "metadata": {
    "papermill": {
     "duration": 0.0159,
     "end_time": "2025-08-05T14:42:02.166832",
     "exception": false,
     "start_time": "2025-08-05T14:42:02.150932",
     "status": "completed"
    },
    "tags": []
   },
   "source": [
    "Load siab_train, siab_test, siab_calib and/or \n",
    "load siab_train_features, siab_train_labels"
   ]
  },
  {
   "cell_type": "code",
   "execution_count": 9,
   "id": "f0496b8a",
   "metadata": {
    "execution": {
     "iopub.execute_input": "2025-08-05T14:42:02.202664Z",
     "iopub.status.busy": "2025-08-05T14:42:02.201937Z",
     "iopub.status.idle": "2025-08-05T14:42:13.852847Z",
     "shell.execute_reply": "2025-08-05T14:42:13.851982Z"
    },
    "papermill": {
     "duration": 11.670687,
     "end_time": "2025-08-05T14:42:13.854170",
     "exception": false,
     "start_time": "2025-08-05T14:42:02.183483",
     "status": "completed"
    },
    "tags": []
   },
   "outputs": [
    {
     "name": "stdout",
     "output_type": "stream",
     "text": [
      "Loading SIAB data from cache: data/siab_cached.csv.gz\n"
     ]
    },
    {
     "name": "stdout",
     "output_type": "stream",
     "text": [
      "(643690, 164)\n"
     ]
    }
   ],
   "source": [
    "from pathlib import Path\n",
    "import pandas as pd\n",
    "\n",
    "# File paths\n",
    "raw_file = Path(\"data/raw/siab.csv\")\n",
    "cache_file = Path(\"data/siab_cached.csv.gz\")\n",
    "\n",
    "# Ensure cache directory exists\n",
    "cache_file.parent.mkdir(parents=True, exist_ok=True)\n",
    "\n",
    "# Load with simple caching\n",
    "if cache_file.exists():\n",
    "    print(f\"Loading SIAB data from cache: {cache_file}\")\n",
    "    siab = pd.read_csv(cache_file, compression='gzip')\n",
    "else:\n",
    "    print(f\"Cache not found. Reading raw SIAB data: {raw_file}\")\n",
    "    siab = pd.read_csv(raw_file)\n",
    "    siab.to_csv(cache_file, index=False, compression='gzip')\n",
    "    print(f\"Cached SIAB data to: {cache_file}\")\n",
    "\n",
    "print(siab.shape)"
   ]
  },
  {
   "cell_type": "code",
   "execution_count": 10,
   "id": "db0ca512-5f53-4dba-abdb-a2888bca41ba",
   "metadata": {
    "execution": {
     "iopub.execute_input": "2025-08-05T14:42:13.876645Z",
     "iopub.status.busy": "2025-08-05T14:42:13.876045Z",
     "iopub.status.idle": "2025-08-05T14:42:13.881227Z",
     "shell.execute_reply": "2025-08-05T14:42:13.880455Z"
    },
    "papermill": {
     "duration": 0.017048,
     "end_time": "2025-08-05T14:42:13.882760",
     "exception": false,
     "start_time": "2025-08-05T14:42:13.865712",
     "status": "completed"
    },
    "tags": []
   },
   "outputs": [],
   "source": [
    "#siab"
   ]
  },
  {
   "cell_type": "markdown",
   "id": "997051c5-15bd-4b69-9786-c3001a3ce484",
   "metadata": {
    "papermill": {
     "duration": 0.008862,
     "end_time": "2025-08-05T14:42:13.901765",
     "exception": false,
     "start_time": "2025-08-05T14:42:13.892903",
     "status": "completed"
    },
    "tags": []
   },
   "source": [
    "# Splitting Data and Setting Training Data Size"
   ]
  },
  {
   "cell_type": "code",
   "execution_count": 11,
   "id": "aea9c6ef-6f46-42c8-85eb-5a62025c1508",
   "metadata": {
    "execution": {
     "iopub.execute_input": "2025-08-05T14:42:13.921695Z",
     "iopub.status.busy": "2025-08-05T14:42:13.921156Z",
     "iopub.status.idle": "2025-08-05T14:42:14.214386Z",
     "shell.execute_reply": "2025-08-05T14:42:14.213210Z"
    },
    "papermill": {
     "duration": 0.305645,
     "end_time": "2025-08-05T14:42:14.216769",
     "exception": false,
     "start_time": "2025-08-05T14:42:13.911124",
     "status": "completed"
    },
    "tags": []
   },
   "outputs": [],
   "source": [
    "from fairness_multiverse.universe import sample_by_year_size\n",
    "\n",
    "siab_train = sample_by_year_size(siab,\n",
    "                               training_year=universe[\"training_year\"],\n",
    "                               training_size=universe[\"training_size\"])"
   ]
  },
  {
   "cell_type": "code",
   "execution_count": 12,
   "id": "8d3afb32-789d-442c-8d5d-9f5aa8dd2eed",
   "metadata": {
    "execution": {
     "iopub.execute_input": "2025-08-05T14:42:14.259020Z",
     "iopub.status.busy": "2025-08-05T14:42:14.258451Z",
     "iopub.status.idle": "2025-08-05T14:42:14.264164Z",
     "shell.execute_reply": "2025-08-05T14:42:14.263088Z"
    },
    "papermill": {
     "duration": 0.028406,
     "end_time": "2025-08-05T14:42:14.266161",
     "exception": false,
     "start_time": "2025-08-05T14:42:14.237755",
     "status": "completed"
    },
    "tags": []
   },
   "outputs": [],
   "source": [
    "#siab_train.shape"
   ]
  },
  {
   "cell_type": "code",
   "execution_count": 13,
   "id": "d582db68-1a4c-47fb-84fc-08518dc1975a",
   "metadata": {
    "execution": {
     "iopub.execute_input": "2025-08-05T14:42:14.304068Z",
     "iopub.status.busy": "2025-08-05T14:42:14.303420Z",
     "iopub.status.idle": "2025-08-05T14:42:14.309462Z",
     "shell.execute_reply": "2025-08-05T14:42:14.308255Z"
    },
    "papermill": {
     "duration": 0.026815,
     "end_time": "2025-08-05T14:42:14.311346",
     "exception": false,
     "start_time": "2025-08-05T14:42:14.284531",
     "status": "completed"
    },
    "tags": []
   },
   "outputs": [],
   "source": [
    "#display(siab_train.groupby(\"year\").size())"
   ]
  },
  {
   "cell_type": "code",
   "execution_count": 14,
   "id": "a561edb4-d032-42cb-8256-22eac1111c64",
   "metadata": {
    "execution": {
     "iopub.execute_input": "2025-08-05T14:42:14.350306Z",
     "iopub.status.busy": "2025-08-05T14:42:14.349616Z",
     "iopub.status.idle": "2025-08-05T14:42:14.638055Z",
     "shell.execute_reply": "2025-08-05T14:42:14.637184Z"
    },
    "papermill": {
     "duration": 0.310902,
     "end_time": "2025-08-05T14:42:14.640002",
     "exception": false,
     "start_time": "2025-08-05T14:42:14.329100",
     "status": "completed"
    },
    "tags": []
   },
   "outputs": [],
   "source": [
    "#siab_train = siab_s[siab_s.year < 2015]\n",
    "siab_calib = siab[siab.year == 2015]\n",
    "siab_test = siab[siab.year == 2016]"
   ]
  },
  {
   "cell_type": "code",
   "execution_count": 15,
   "id": "472de16f-c3db-4916-846b-1f0de9cf1746",
   "metadata": {
    "execution": {
     "iopub.execute_input": "2025-08-05T14:42:14.686582Z",
     "iopub.status.busy": "2025-08-05T14:42:14.685916Z",
     "iopub.status.idle": "2025-08-05T14:42:14.701137Z",
     "shell.execute_reply": "2025-08-05T14:42:14.700426Z"
    },
    "papermill": {
     "duration": 0.042982,
     "end_time": "2025-08-05T14:42:14.702329",
     "exception": false,
     "start_time": "2025-08-05T14:42:14.659347",
     "status": "completed"
    },
    "tags": []
   },
   "outputs": [],
   "source": [
    "X_train = siab_train.iloc[:,4:164]\n",
    "y_train = siab_train.iloc[:, [3]]"
   ]
  },
  {
   "cell_type": "code",
   "execution_count": 16,
   "id": "828c96af-f43a-4ed6-ba47-8ac73a47d56c",
   "metadata": {
    "execution": {
     "iopub.execute_input": "2025-08-05T14:42:14.723536Z",
     "iopub.status.busy": "2025-08-05T14:42:14.723045Z",
     "iopub.status.idle": "2025-08-05T14:42:14.789015Z",
     "shell.execute_reply": "2025-08-05T14:42:14.787658Z"
    },
    "papermill": {
     "duration": 0.078095,
     "end_time": "2025-08-05T14:42:14.791264",
     "exception": false,
     "start_time": "2025-08-05T14:42:14.713169",
     "status": "completed"
    },
    "tags": []
   },
   "outputs": [],
   "source": [
    "X_calib = siab_calib.iloc[:,4:164]\n",
    "y_calib = siab_calib.iloc[:, [3]]"
   ]
  },
  {
   "cell_type": "code",
   "execution_count": 17,
   "id": "c34be9c3-6bd6-476e-acd3-845840e303be",
   "metadata": {
    "execution": {
     "iopub.execute_input": "2025-08-05T14:42:14.838570Z",
     "iopub.status.busy": "2025-08-05T14:42:14.838070Z",
     "iopub.status.idle": "2025-08-05T14:42:14.916510Z",
     "shell.execute_reply": "2025-08-05T14:42:14.915408Z"
    },
    "papermill": {
     "duration": 0.09993,
     "end_time": "2025-08-05T14:42:14.918448",
     "exception": false,
     "start_time": "2025-08-05T14:42:14.818518",
     "status": "completed"
    },
    "tags": []
   },
   "outputs": [],
   "source": [
    "X_test = siab_test.iloc[:,4:164]\n",
    "y_true = siab_test.iloc[:, [3]]"
   ]
  },
  {
   "cell_type": "code",
   "execution_count": 18,
   "id": "e6c733c5",
   "metadata": {
    "execution": {
     "iopub.execute_input": "2025-08-05T14:42:14.954862Z",
     "iopub.status.busy": "2025-08-05T14:42:14.953964Z",
     "iopub.status.idle": "2025-08-05T14:42:15.053633Z",
     "shell.execute_reply": "2025-08-05T14:42:15.052647Z"
    },
    "papermill": {
     "duration": 0.118619,
     "end_time": "2025-08-05T14:42:15.055060",
     "exception": false,
     "start_time": "2025-08-05T14:42:14.936441",
     "status": "completed"
    },
    "tags": []
   },
   "outputs": [],
   "source": [
    "# Auxiliary data needed downstream in the pipeline\n",
    "\n",
    "org_train = X_train.copy()\n",
    "org_test = X_test.copy()\n",
    "org_calib = X_calib.copy()"
   ]
  },
  {
   "cell_type": "markdown",
   "id": "0a4a1b33",
   "metadata": {
    "papermill": {
     "duration": 0.018994,
     "end_time": "2025-08-05T14:42:15.100118",
     "exception": false,
     "start_time": "2025-08-05T14:42:15.081124",
     "status": "completed"
    },
    "tags": []
   },
   "source": [
    "# Preprocessing Data"
   ]
  },
  {
   "cell_type": "code",
   "execution_count": 19,
   "id": "ca879031",
   "metadata": {
    "execution": {
     "iopub.execute_input": "2025-08-05T14:42:15.135844Z",
     "iopub.status.busy": "2025-08-05T14:42:15.135243Z",
     "iopub.status.idle": "2025-08-05T14:42:15.141700Z",
     "shell.execute_reply": "2025-08-05T14:42:15.140429Z"
    },
    "papermill": {
     "duration": 0.02757,
     "end_time": "2025-08-05T14:42:15.143324",
     "exception": false,
     "start_time": "2025-08-05T14:42:15.115754",
     "status": "completed"
    },
    "tags": []
   },
   "outputs": [],
   "source": [
    "# EXCLUDE PROTECTED FEATURES\n",
    "# ----------------------\n",
    "# \"exclude_features\": \"none\", # \"nationality\", \"sex\", \"nationality-sex\"\n",
    "\n",
    "excluded_features = universe[\"exclude_features\"].split(\"-\") # split, e.g.: \"nationality-sex\" -> [\"nationality\", \"sex\"]\n",
    "excluded_features_dictionary = {\n",
    "    \"nationality\": [\"maxdeutsch1\", \"maxdeutsch.Missing.\"],\n",
    "    \"sex\": [\"frau1\"],\n",
    "    \"age\": [\"age\"],\n",
    "}"
   ]
  },
  {
   "cell_type": "code",
   "execution_count": 20,
   "id": "b745ac60",
   "metadata": {
    "execution": {
     "iopub.execute_input": "2025-08-05T14:42:15.181876Z",
     "iopub.status.busy": "2025-08-05T14:42:15.181365Z",
     "iopub.status.idle": "2025-08-05T14:42:15.194567Z",
     "shell.execute_reply": "2025-08-05T14:42:15.193584Z"
    },
    "papermill": {
     "duration": 0.036058,
     "end_time": "2025-08-05T14:42:15.196246",
     "exception": false,
     "start_time": "2025-08-05T14:42:15.160188",
     "status": "completed"
    },
    "tags": []
   },
   "outputs": [],
   "source": [
    "# Code nice names to column names\n",
    "\n",
    "excluded_features_columns = [\n",
    "    excluded_features_dictionary[f] for f in excluded_features if len(f) > 0 and f != \"none\"\n",
    "]"
   ]
  },
  {
   "cell_type": "code",
   "execution_count": 21,
   "id": "f84f73a2",
   "metadata": {
    "execution": {
     "iopub.execute_input": "2025-08-05T14:42:15.231618Z",
     "iopub.status.busy": "2025-08-05T14:42:15.231086Z",
     "iopub.status.idle": "2025-08-05T14:42:15.237470Z",
     "shell.execute_reply": "2025-08-05T14:42:15.236447Z"
    },
    "papermill": {
     "duration": 0.026139,
     "end_time": "2025-08-05T14:42:15.239431",
     "exception": false,
     "start_time": "2025-08-05T14:42:15.213292",
     "status": "completed"
    },
    "tags": []
   },
   "outputs": [],
   "source": [
    "from utils import flatten_once\n",
    "\n",
    "excluded_features_columns = flatten_once(excluded_features_columns)"
   ]
  },
  {
   "cell_type": "code",
   "execution_count": 22,
   "id": "884dea22",
   "metadata": {
    "execution": {
     "iopub.execute_input": "2025-08-05T14:42:15.276011Z",
     "iopub.status.busy": "2025-08-05T14:42:15.275332Z",
     "iopub.status.idle": "2025-08-05T14:42:15.291482Z",
     "shell.execute_reply": "2025-08-05T14:42:15.290574Z"
    },
    "papermill": {
     "duration": 0.035607,
     "end_time": "2025-08-05T14:42:15.293110",
     "exception": false,
     "start_time": "2025-08-05T14:42:15.257503",
     "status": "completed"
    },
    "tags": []
   },
   "outputs": [
    {
     "name": "stdout",
     "output_type": "stream",
     "text": [
      "Dropping features: ['age']\n"
     ]
    }
   ],
   "source": [
    "if len(excluded_features_columns) > 0:\n",
    "    print(f\"Dropping features: {excluded_features_columns}\")\n",
    "    X_train.drop(excluded_features_columns, axis=1, inplace=True)"
   ]
  },
  {
   "cell_type": "code",
   "execution_count": 23,
   "id": "95ab8b16",
   "metadata": {
    "execution": {
     "iopub.execute_input": "2025-08-05T14:42:15.330934Z",
     "iopub.status.busy": "2025-08-05T14:42:15.330130Z",
     "iopub.status.idle": "2025-08-05T14:42:15.385900Z",
     "shell.execute_reply": "2025-08-05T14:42:15.384346Z"
    },
    "papermill": {
     "duration": 0.076584,
     "end_time": "2025-08-05T14:42:15.387828",
     "exception": false,
     "start_time": "2025-08-05T14:42:15.311244",
     "status": "completed"
    },
    "tags": []
   },
   "outputs": [
    {
     "name": "stdout",
     "output_type": "stream",
     "text": [
      "Dropping features: ['age']\n"
     ]
    }
   ],
   "source": [
    "if len(excluded_features_columns) > 0:\n",
    "    print(f\"Dropping features: {excluded_features_columns}\")\n",
    "    X_test.drop(excluded_features_columns, axis=1, inplace=True)"
   ]
  },
  {
   "cell_type": "code",
   "execution_count": 24,
   "id": "1853aaf5-fb9f-46cb-a2b5-8ea4ae2237e4",
   "metadata": {
    "execution": {
     "iopub.execute_input": "2025-08-05T14:42:15.424436Z",
     "iopub.status.busy": "2025-08-05T14:42:15.423728Z",
     "iopub.status.idle": "2025-08-05T14:42:15.475762Z",
     "shell.execute_reply": "2025-08-05T14:42:15.474801Z"
    },
    "papermill": {
     "duration": 0.071376,
     "end_time": "2025-08-05T14:42:15.477503",
     "exception": false,
     "start_time": "2025-08-05T14:42:15.406127",
     "status": "completed"
    },
    "tags": []
   },
   "outputs": [
    {
     "name": "stdout",
     "output_type": "stream",
     "text": [
      "Dropping features: ['age']\n"
     ]
    }
   ],
   "source": [
    "if len(excluded_features_columns) > 0:\n",
    "    print(f\"Dropping features: {excluded_features_columns}\")\n",
    "    X_calib.drop(excluded_features_columns, axis=1, inplace=True)"
   ]
  },
  {
   "cell_type": "code",
   "execution_count": 25,
   "id": "76c4dc6d",
   "metadata": {
    "execution": {
     "iopub.execute_input": "2025-08-05T14:42:15.515836Z",
     "iopub.status.busy": "2025-08-05T14:42:15.515053Z",
     "iopub.status.idle": "2025-08-05T14:42:15.520425Z",
     "shell.execute_reply": "2025-08-05T14:42:15.519285Z"
    },
    "papermill": {
     "duration": 0.026993,
     "end_time": "2025-08-05T14:42:15.522244",
     "exception": false,
     "start_time": "2025-08-05T14:42:15.495251",
     "status": "completed"
    },
    "tags": []
   },
   "outputs": [],
   "source": [
    "# EXCLUDE CERTAIN SUBGROUPS\n",
    "# ----------------------\n",
    "\n",
    "mode = universe.get(\"exclude_subgroups\", \"keep-all\") \n",
    "# Fetches the exclude_subgroups setting from the universe dict.\n",
    "# Defaults to \"keep-all\" if the key is missing."
   ]
  },
  {
   "cell_type": "code",
   "execution_count": 26,
   "id": "21994072",
   "metadata": {
    "execution": {
     "iopub.execute_input": "2025-08-05T14:42:15.559322Z",
     "iopub.status.busy": "2025-08-05T14:42:15.557547Z",
     "iopub.status.idle": "2025-08-05T14:42:15.565487Z",
     "shell.execute_reply": "2025-08-05T14:42:15.564676Z"
    },
    "papermill": {
     "duration": 0.027717,
     "end_time": "2025-08-05T14:42:15.566970",
     "exception": false,
     "start_time": "2025-08-05T14:42:15.539253",
     "status": "completed"
    },
    "tags": []
   },
   "outputs": [],
   "source": [
    "if mode == \"keep-all\":\n",
    "    keep_mask = pd.Series(True, index=org_train.index)\n",
    "\n",
    "# org_train contains the original feature columns from features_org (in Simson)\n",
    "# features_org contains unprocessed features, for me X_train at beginning ???\n",
    "# For keep-all, creates a boolean Series (keep_mask) of all True, so no rows are removed.\n",
    "\n",
    "elif mode == \"drop-non-german\":\n",
    "    keep_mask = org_train[\"maxdeutsch1\"] == 1 # ??? what about missing values?\n",
    "\n",
    "else:\n",
    "    raise ValueError(f\"Unsupported mode for exclude_subgroups: {mode}\")"
   ]
  },
  {
   "cell_type": "code",
   "execution_count": 27,
   "id": "71651440",
   "metadata": {
    "execution": {
     "iopub.execute_input": "2025-08-05T14:42:15.606878Z",
     "iopub.status.busy": "2025-08-05T14:42:15.606091Z",
     "iopub.status.idle": "2025-08-05T14:42:15.614312Z",
     "shell.execute_reply": "2025-08-05T14:42:15.613336Z"
    },
    "papermill": {
     "duration": 0.030803,
     "end_time": "2025-08-05T14:42:15.615910",
     "exception": false,
     "start_time": "2025-08-05T14:42:15.585107",
     "status": "completed"
    },
    "tags": []
   },
   "outputs": [
    {
     "name": "stdout",
     "output_type": "stream",
     "text": [
      "Dropping 3688 rows (14.75%) where mode='drop-non-german'\n"
     ]
    }
   ],
   "source": [
    "n_drop = (~keep_mask).sum() # Calculates how many rows are set to be dropped\n",
    "if n_drop > 0:\n",
    "    pct = n_drop / len(keep_mask) * 100\n",
    "    print(f\"Dropping {n_drop} rows ({pct:.2f}%) where mode='{mode}'\")"
   ]
  },
  {
   "cell_type": "code",
   "execution_count": 28,
   "id": "5fb8eee5",
   "metadata": {
    "execution": {
     "iopub.execute_input": "2025-08-05T14:42:15.652632Z",
     "iopub.status.busy": "2025-08-05T14:42:15.651962Z",
     "iopub.status.idle": "2025-08-05T14:42:15.665363Z",
     "shell.execute_reply": "2025-08-05T14:42:15.664418Z"
    },
    "papermill": {
     "duration": 0.033562,
     "end_time": "2025-08-05T14:42:15.667327",
     "exception": false,
     "start_time": "2025-08-05T14:42:15.633765",
     "status": "completed"
    },
    "tags": []
   },
   "outputs": [],
   "source": [
    "X_train = X_train[keep_mask]"
   ]
  },
  {
   "cell_type": "code",
   "execution_count": 29,
   "id": "b202bb3a",
   "metadata": {
    "execution": {
     "iopub.execute_input": "2025-08-05T14:42:15.704813Z",
     "iopub.status.busy": "2025-08-05T14:42:15.704135Z",
     "iopub.status.idle": "2025-08-05T14:42:15.710388Z",
     "shell.execute_reply": "2025-08-05T14:42:15.709448Z"
    },
    "papermill": {
     "duration": 0.026932,
     "end_time": "2025-08-05T14:42:15.711767",
     "exception": false,
     "start_time": "2025-08-05T14:42:15.684835",
     "status": "completed"
    },
    "tags": []
   },
   "outputs": [],
   "source": [
    "y_train = y_train[keep_mask]"
   ]
  },
  {
   "cell_type": "markdown",
   "id": "493e2ac3",
   "metadata": {
    "papermill": {
     "duration": 0.017387,
     "end_time": "2025-08-05T14:42:15.746570",
     "exception": false,
     "start_time": "2025-08-05T14:42:15.729183",
     "status": "completed"
    },
    "tags": []
   },
   "source": [
    "# Model Training"
   ]
  },
  {
   "cell_type": "code",
   "execution_count": 30,
   "id": "679e1268",
   "metadata": {
    "execution": {
     "iopub.execute_input": "2025-08-05T14:42:15.782774Z",
     "iopub.status.busy": "2025-08-05T14:42:15.781999Z",
     "iopub.status.idle": "2025-08-05T14:42:15.907891Z",
     "shell.execute_reply": "2025-08-05T14:42:15.906948Z"
    },
    "papermill": {
     "duration": 0.146297,
     "end_time": "2025-08-05T14:42:15.909815",
     "exception": false,
     "start_time": "2025-08-05T14:42:15.763518",
     "status": "completed"
    },
    "tags": []
   },
   "outputs": [],
   "source": [
    "from sklearn.linear_model import LogisticRegression\n",
    "from sklearn.ensemble import GradientBoostingClassifier, RandomForestClassifier\n",
    "\n",
    "if (universe[\"model\"] == \"logreg\"):\n",
    "    model = LogisticRegression() #penalty=\"none\", solver=\"newton-cg\", max_iter=1) # include random_state=19 ?\n",
    "elif (universe[\"model\"] == \"penalized_logreg\"):\n",
    "    model = LogisticRegression(penalty=\"l2\", C=0.1) #, solver=\"newton-cg\", max_iter=1)\n",
    "elif (universe[\"model\"] == \"rf\"):\n",
    "    model = RandomForestClassifier() # n_estimators=100, n_jobs=-1\n",
    "elif (universe[\"model\"] == \"gbm\"):\n",
    "    model = GradientBoostingClassifier()\n",
    "elif (universe[\"model\"] == \"elasticnet\"):\n",
    "    model = LogisticRegression(penalty = 'elasticnet', solver = 'saga', l1_ratio = 0.5) # max_iter=5000\n",
    "else:\n",
    "    raise \"Unsupported universe.model\""
   ]
  },
  {
   "cell_type": "code",
   "execution_count": 31,
   "id": "0cc8f744",
   "metadata": {
    "execution": {
     "iopub.execute_input": "2025-08-05T14:42:15.950698Z",
     "iopub.status.busy": "2025-08-05T14:42:15.949863Z",
     "iopub.status.idle": "2025-08-05T14:42:15.956523Z",
     "shell.execute_reply": "2025-08-05T14:42:15.955529Z"
    },
    "papermill": {
     "duration": 0.029121,
     "end_time": "2025-08-05T14:42:15.958425",
     "exception": false,
     "start_time": "2025-08-05T14:42:15.929304",
     "status": "completed"
    },
    "tags": []
   },
   "outputs": [],
   "source": [
    "import numpy as np\n",
    "from sklearn.pipeline import Pipeline\n",
    "from sklearn.preprocessing import StandardScaler\n",
    "\n",
    "model = Pipeline([\n",
    "    #(\"continuous_processor\", continuous_processor),\n",
    "    #(\"categorical_preprocessor\", categorical_preprocessor),\n",
    "    (\"scale\", StandardScaler() if universe[\"scale\"] == \"scale\" else None), \n",
    "    (\"model\", model),\n",
    "])"
   ]
  },
  {
   "cell_type": "code",
   "execution_count": 32,
   "id": "9442c04d",
   "metadata": {
    "execution": {
     "iopub.execute_input": "2025-08-05T14:42:15.998989Z",
     "iopub.status.busy": "2025-08-05T14:42:15.998353Z",
     "iopub.status.idle": "2025-08-05T14:42:16.750976Z",
     "shell.execute_reply": "2025-08-05T14:42:16.749948Z"
    },
    "papermill": {
     "duration": 0.774483,
     "end_time": "2025-08-05T14:42:16.752697",
     "exception": false,
     "start_time": "2025-08-05T14:42:15.978214",
     "status": "completed"
    },
    "tags": []
   },
   "outputs": [
    {
     "name": "stderr",
     "output_type": "stream",
     "text": [
      "/dss/dsshome1/0C/ra93lal2/.local/share/virtualenvs/CMA_Fairness_v2-3j10GkSs/lib/python3.10/site-packages/sklearn/linear_model/_logistic.py:444: ConvergenceWarning: lbfgs failed to converge (status=1):\n",
      "STOP: TOTAL NO. of ITERATIONS REACHED LIMIT.\n",
      "\n",
      "Increase the number of iterations (max_iter) or scale the data as shown in:\n",
      "    https://scikit-learn.org/stable/modules/preprocessing.html\n",
      "Please also refer to the documentation for alternative solver options:\n",
      "    https://scikit-learn.org/stable/modules/linear_model.html#logistic-regression\n",
      "  n_iter_i = _check_optimize_result(\n"
     ]
    },
    {
     "data": {
      "text/html": [
       "<style>#sk-container-id-1 {color: black;background-color: white;}#sk-container-id-1 pre{padding: 0;}#sk-container-id-1 div.sk-toggleable {background-color: white;}#sk-container-id-1 label.sk-toggleable__label {cursor: pointer;display: block;width: 100%;margin-bottom: 0;padding: 0.3em;box-sizing: border-box;text-align: center;}#sk-container-id-1 label.sk-toggleable__label-arrow:before {content: \"▸\";float: left;margin-right: 0.25em;color: #696969;}#sk-container-id-1 label.sk-toggleable__label-arrow:hover:before {color: black;}#sk-container-id-1 div.sk-estimator:hover label.sk-toggleable__label-arrow:before {color: black;}#sk-container-id-1 div.sk-toggleable__content {max-height: 0;max-width: 0;overflow: hidden;text-align: left;background-color: #f0f8ff;}#sk-container-id-1 div.sk-toggleable__content pre {margin: 0.2em;color: black;border-radius: 0.25em;background-color: #f0f8ff;}#sk-container-id-1 input.sk-toggleable__control:checked~div.sk-toggleable__content {max-height: 200px;max-width: 100%;overflow: auto;}#sk-container-id-1 input.sk-toggleable__control:checked~label.sk-toggleable__label-arrow:before {content: \"▾\";}#sk-container-id-1 div.sk-estimator input.sk-toggleable__control:checked~label.sk-toggleable__label {background-color: #d4ebff;}#sk-container-id-1 div.sk-label input.sk-toggleable__control:checked~label.sk-toggleable__label {background-color: #d4ebff;}#sk-container-id-1 input.sk-hidden--visually {border: 0;clip: rect(1px 1px 1px 1px);clip: rect(1px, 1px, 1px, 1px);height: 1px;margin: -1px;overflow: hidden;padding: 0;position: absolute;width: 1px;}#sk-container-id-1 div.sk-estimator {font-family: monospace;background-color: #f0f8ff;border: 1px dotted black;border-radius: 0.25em;box-sizing: border-box;margin-bottom: 0.5em;}#sk-container-id-1 div.sk-estimator:hover {background-color: #d4ebff;}#sk-container-id-1 div.sk-parallel-item::after {content: \"\";width: 100%;border-bottom: 1px solid gray;flex-grow: 1;}#sk-container-id-1 div.sk-label:hover label.sk-toggleable__label {background-color: #d4ebff;}#sk-container-id-1 div.sk-serial::before {content: \"\";position: absolute;border-left: 1px solid gray;box-sizing: border-box;top: 0;bottom: 0;left: 50%;z-index: 0;}#sk-container-id-1 div.sk-serial {display: flex;flex-direction: column;align-items: center;background-color: white;padding-right: 0.2em;padding-left: 0.2em;position: relative;}#sk-container-id-1 div.sk-item {position: relative;z-index: 1;}#sk-container-id-1 div.sk-parallel {display: flex;align-items: stretch;justify-content: center;background-color: white;position: relative;}#sk-container-id-1 div.sk-item::before, #sk-container-id-1 div.sk-parallel-item::before {content: \"\";position: absolute;border-left: 1px solid gray;box-sizing: border-box;top: 0;bottom: 0;left: 50%;z-index: -1;}#sk-container-id-1 div.sk-parallel-item {display: flex;flex-direction: column;z-index: 1;position: relative;background-color: white;}#sk-container-id-1 div.sk-parallel-item:first-child::after {align-self: flex-end;width: 50%;}#sk-container-id-1 div.sk-parallel-item:last-child::after {align-self: flex-start;width: 50%;}#sk-container-id-1 div.sk-parallel-item:only-child::after {width: 0;}#sk-container-id-1 div.sk-dashed-wrapped {border: 1px dashed gray;margin: 0 0.4em 0.5em 0.4em;box-sizing: border-box;padding-bottom: 0.4em;background-color: white;}#sk-container-id-1 div.sk-label label {font-family: monospace;font-weight: bold;display: inline-block;line-height: 1.2em;}#sk-container-id-1 div.sk-label-container {text-align: center;}#sk-container-id-1 div.sk-container {/* jupyter's `normalize.less` sets `[hidden] { display: none; }` but bootstrap.min.css set `[hidden] { display: none !important; }` so we also need the `!important` here to be able to override the default hidden behavior on the sphinx rendered scikit-learn.org. See: https://github.com/scikit-learn/scikit-learn/issues/21755 */display: inline-block !important;position: relative;}#sk-container-id-1 div.sk-text-repr-fallback {display: none;}</style><div id=\"sk-container-id-1\" class=\"sk-top-container\"><div class=\"sk-text-repr-fallback\"><pre>Pipeline(steps=[(&#x27;scale&#x27;, None), (&#x27;model&#x27;, LogisticRegression(C=0.1))])</pre><b>In a Jupyter environment, please rerun this cell to show the HTML representation or trust the notebook. <br />On GitHub, the HTML representation is unable to render, please try loading this page with nbviewer.org.</b></div><div class=\"sk-container\" hidden><div class=\"sk-item sk-dashed-wrapped\"><div class=\"sk-label-container\"><div class=\"sk-label sk-toggleable\"><input class=\"sk-toggleable__control sk-hidden--visually\" id=\"sk-estimator-id-1\" type=\"checkbox\" ><label for=\"sk-estimator-id-1\" class=\"sk-toggleable__label sk-toggleable__label-arrow\">Pipeline</label><div class=\"sk-toggleable__content\"><pre>Pipeline(steps=[(&#x27;scale&#x27;, None), (&#x27;model&#x27;, LogisticRegression(C=0.1))])</pre></div></div></div><div class=\"sk-serial\"><div class=\"sk-item\"><div class=\"sk-estimator sk-toggleable\"><input class=\"sk-toggleable__control sk-hidden--visually\" id=\"sk-estimator-id-2\" type=\"checkbox\" ><label for=\"sk-estimator-id-2\" class=\"sk-toggleable__label sk-toggleable__label-arrow\">None</label><div class=\"sk-toggleable__content\"><pre>None</pre></div></div></div><div class=\"sk-item\"><div class=\"sk-estimator sk-toggleable\"><input class=\"sk-toggleable__control sk-hidden--visually\" id=\"sk-estimator-id-3\" type=\"checkbox\" ><label for=\"sk-estimator-id-3\" class=\"sk-toggleable__label sk-toggleable__label-arrow\">LogisticRegression</label><div class=\"sk-toggleable__content\"><pre>LogisticRegression(C=0.1)</pre></div></div></div></div></div></div></div>"
      ],
      "text/plain": [
       "Pipeline(steps=[('scale', None), ('model', LogisticRegression(C=0.1))])"
      ]
     },
     "execution_count": 32,
     "metadata": {},
     "output_type": "execute_result"
    }
   ],
   "source": [
    "model.fit(X_train, y_train.values.ravel())"
   ]
  },
  {
   "cell_type": "code",
   "execution_count": 33,
   "id": "af59f8c0",
   "metadata": {
    "execution": {
     "iopub.execute_input": "2025-08-05T14:42:16.795979Z",
     "iopub.status.busy": "2025-08-05T14:42:16.795503Z",
     "iopub.status.idle": "2025-08-05T14:42:16.800775Z",
     "shell.execute_reply": "2025-08-05T14:42:16.799797Z"
    },
    "papermill": {
     "duration": 0.027895,
     "end_time": "2025-08-05T14:42:16.802529",
     "exception": false,
     "start_time": "2025-08-05T14:42:16.774634",
     "status": "completed"
    },
    "tags": []
   },
   "outputs": [],
   "source": [
    "from fairness_multiverse.universe import predict_w_threshold"
   ]
  },
  {
   "cell_type": "code",
   "execution_count": 34,
   "id": "a7cf2e16",
   "metadata": {
    "execution": {
     "iopub.execute_input": "2025-08-05T14:42:16.844775Z",
     "iopub.status.busy": "2025-08-05T14:42:16.844118Z",
     "iopub.status.idle": "2025-08-05T14:42:16.943061Z",
     "shell.execute_reply": "2025-08-05T14:42:16.942200Z"
    },
    "papermill": {
     "duration": 0.121262,
     "end_time": "2025-08-05T14:42:16.944710",
     "exception": false,
     "start_time": "2025-08-05T14:42:16.823448",
     "status": "completed"
    },
    "tags": []
   },
   "outputs": [
    {
     "data": {
      "text/plain": [
       "0.8618994537955634"
      ]
     },
     "execution_count": 34,
     "metadata": {},
     "output_type": "execute_result"
    }
   ],
   "source": [
    "probs_test = model.predict_proba(X_test)\n",
    "\n",
    "'''\n",
    "Below code returns a boolean array (or binary 0/1 array depending on how it’s used) where each element \n",
    "is True if the probability of class 1 is greater than or equal to the threshold, and False otherwise.\n",
    "'''\n",
    "y_pred_default = predict_w_threshold(probs_test, 0.5)\n",
    "\n",
    "from sklearn.metrics import accuracy_score\n",
    "\n",
    "# Naive prediction\n",
    "accuracy_score(y_true = y_true, y_pred = y_pred_default)"
   ]
  },
  {
   "cell_type": "code",
   "execution_count": 35,
   "id": "081964c3",
   "metadata": {
    "execution": {
     "iopub.execute_input": "2025-08-05T14:42:16.985830Z",
     "iopub.status.busy": "2025-08-05T14:42:16.985337Z",
     "iopub.status.idle": "2025-08-05T14:42:17.069933Z",
     "shell.execute_reply": "2025-08-05T14:42:17.066401Z"
    },
    "papermill": {
     "duration": 0.108408,
     "end_time": "2025-08-05T14:42:17.071769",
     "exception": false,
     "start_time": "2025-08-05T14:42:16.963361",
     "status": "completed"
    },
    "tags": []
   },
   "outputs": [
    {
     "data": {
      "text/plain": [
       "array([0, 0, 0, ..., 0, 0, 0])"
      ]
     },
     "execution_count": 35,
     "metadata": {},
     "output_type": "execute_result"
    }
   ],
   "source": [
    "model.predict(X_test)"
   ]
  },
  {
   "cell_type": "markdown",
   "id": "56c9705b",
   "metadata": {
    "papermill": {
     "duration": 0.019561,
     "end_time": "2025-08-05T14:42:17.112270",
     "exception": false,
     "start_time": "2025-08-05T14:42:17.092709",
     "status": "completed"
    },
    "tags": []
   },
   "source": [
    "# Conformal Prediction"
   ]
  },
  {
   "cell_type": "code",
   "execution_count": 36,
   "id": "160ec6ff",
   "metadata": {
    "execution": {
     "iopub.execute_input": "2025-08-05T14:42:17.167882Z",
     "iopub.status.busy": "2025-08-05T14:42:17.167188Z",
     "iopub.status.idle": "2025-08-05T14:42:17.173475Z",
     "shell.execute_reply": "2025-08-05T14:42:17.172378Z"
    },
    "papermill": {
     "duration": 0.036247,
     "end_time": "2025-08-05T14:42:17.175422",
     "exception": false,
     "start_time": "2025-08-05T14:42:17.139175",
     "status": "completed"
    },
    "tags": []
   },
   "outputs": [],
   "source": [
    "# Miscoverage level for conformal prediction (10% allowed error rate => 90% target coverage)\n",
    "alpha = 0.1"
   ]
  },
  {
   "cell_type": "code",
   "execution_count": 37,
   "id": "eadf4555-3dd3-440e-8e35-f82a4ad9f855",
   "metadata": {
    "execution": {
     "iopub.execute_input": "2025-08-05T14:42:17.215209Z",
     "iopub.status.busy": "2025-08-05T14:42:17.214763Z",
     "iopub.status.idle": "2025-08-05T14:42:17.299263Z",
     "shell.execute_reply": "2025-08-05T14:42:17.297863Z"
    },
    "papermill": {
     "duration": 0.105962,
     "end_time": "2025-08-05T14:42:17.301134",
     "exception": false,
     "start_time": "2025-08-05T14:42:17.195172",
     "status": "completed"
    },
    "tags": []
   },
   "outputs": [],
   "source": [
    "probs_calib = model.predict_proba(X_calib)"
   ]
  },
  {
   "cell_type": "code",
   "execution_count": 38,
   "id": "2ed93547-6d5d-4983-9b36-1ecb300da49a",
   "metadata": {
    "execution": {
     "iopub.execute_input": "2025-08-05T14:42:17.338038Z",
     "iopub.status.busy": "2025-08-05T14:42:17.337731Z",
     "iopub.status.idle": "2025-08-05T14:42:17.342127Z",
     "shell.execute_reply": "2025-08-05T14:42:17.341388Z"
    },
    "papermill": {
     "duration": 0.021026,
     "end_time": "2025-08-05T14:42:17.343660",
     "exception": false,
     "start_time": "2025-08-05T14:42:17.322634",
     "status": "completed"
    },
    "tags": []
   },
   "outputs": [],
   "source": [
    "y_calib = y_calib.values.ravel().astype(int)"
   ]
  },
  {
   "cell_type": "code",
   "execution_count": 39,
   "id": "65d1320d-f588-4b38-9072-62af1ae97f7d",
   "metadata": {
    "execution": {
     "iopub.execute_input": "2025-08-05T14:42:17.365384Z",
     "iopub.status.busy": "2025-08-05T14:42:17.365006Z",
     "iopub.status.idle": "2025-08-05T14:42:17.370265Z",
     "shell.execute_reply": "2025-08-05T14:42:17.369493Z"
    },
    "papermill": {
     "duration": 0.01723,
     "end_time": "2025-08-05T14:42:17.371659",
     "exception": false,
     "start_time": "2025-08-05T14:42:17.354429",
     "status": "completed"
    },
    "tags": []
   },
   "outputs": [],
   "source": [
    "from fairness_multiverse.conformal import compute_nc_scores\n",
    "\n",
    "# Compute nonconformity scores on calibration set (1 - probability of true class)\n",
    "nc_scores = compute_nc_scores(probs_calib, y_calib)"
   ]
  },
  {
   "cell_type": "code",
   "execution_count": 40,
   "id": "df3b8ca3-53b7-43d5-9667-7c85da7aeda2",
   "metadata": {
    "execution": {
     "iopub.execute_input": "2025-08-05T14:42:17.416282Z",
     "iopub.status.busy": "2025-08-05T14:42:17.415777Z",
     "iopub.status.idle": "2025-08-05T14:42:17.423188Z",
     "shell.execute_reply": "2025-08-05T14:42:17.421944Z"
    },
    "papermill": {
     "duration": 0.037985,
     "end_time": "2025-08-05T14:42:17.425720",
     "exception": false,
     "start_time": "2025-08-05T14:42:17.387735",
     "status": "completed"
    },
    "tags": []
   },
   "outputs": [],
   "source": [
    "from fairness_multiverse.conformal import find_threshold\n",
    "\n",
    "# Find conformal threshold q_hat for the given alpha (split conformal method)\n",
    "q_hat = find_threshold(nc_scores, alpha)"
   ]
  },
  {
   "cell_type": "code",
   "execution_count": 41,
   "id": "4d29e6c1-0ef6-4aa4-b8fe-4fe79b0d033a",
   "metadata": {
    "execution": {
     "iopub.execute_input": "2025-08-05T14:42:17.478144Z",
     "iopub.status.busy": "2025-08-05T14:42:17.477696Z",
     "iopub.status.idle": "2025-08-05T14:42:17.485476Z",
     "shell.execute_reply": "2025-08-05T14:42:17.484406Z"
    },
    "papermill": {
     "duration": 0.032924,
     "end_time": "2025-08-05T14:42:17.487383",
     "exception": false,
     "start_time": "2025-08-05T14:42:17.454459",
     "status": "completed"
    },
    "tags": []
   },
   "outputs": [
    {
     "data": {
      "text/plain": [
       "0.6427170180308777"
      ]
     },
     "execution_count": 41,
     "metadata": {},
     "output_type": "execute_result"
    }
   ],
   "source": [
    "q_hat"
   ]
  },
  {
   "cell_type": "code",
   "execution_count": 42,
   "id": "92460794-cdac-4be2-ba28-f28c0515a6fb",
   "metadata": {
    "execution": {
     "iopub.execute_input": "2025-08-05T14:42:17.533365Z",
     "iopub.status.busy": "2025-08-05T14:42:17.533041Z",
     "iopub.status.idle": "2025-08-05T14:42:18.168222Z",
     "shell.execute_reply": "2025-08-05T14:42:18.167479Z"
    },
    "papermill": {
     "duration": 0.660005,
     "end_time": "2025-08-05T14:42:18.170005",
     "exception": false,
     "start_time": "2025-08-05T14:42:17.510000",
     "status": "completed"
    },
    "tags": []
   },
   "outputs": [],
   "source": [
    "from fairness_multiverse.conformal import predict_conformal_sets\n",
    "\n",
    "# Generate prediction sets for each test example\n",
    "pred_sets = predict_conformal_sets(model, X_test, q_hat)"
   ]
  },
  {
   "cell_type": "code",
   "execution_count": 43,
   "id": "d90c9a65-e6db-4f5d-80cd-e68fb7e46829",
   "metadata": {
    "execution": {
     "iopub.execute_input": "2025-08-05T14:42:18.214373Z",
     "iopub.status.busy": "2025-08-05T14:42:18.213702Z",
     "iopub.status.idle": "2025-08-05T14:42:18.219128Z",
     "shell.execute_reply": "2025-08-05T14:42:18.218121Z"
    },
    "papermill": {
     "duration": 0.029341,
     "end_time": "2025-08-05T14:42:18.220972",
     "exception": false,
     "start_time": "2025-08-05T14:42:18.191631",
     "status": "completed"
    },
    "tags": []
   },
   "outputs": [],
   "source": [
    "y_true = y_true.squeeze()"
   ]
  },
  {
   "cell_type": "code",
   "execution_count": 44,
   "id": "3a58a54a-1e68-46b9-927a-df01f18aebc8",
   "metadata": {
    "execution": {
     "iopub.execute_input": "2025-08-05T14:42:18.264993Z",
     "iopub.status.busy": "2025-08-05T14:42:18.264337Z",
     "iopub.status.idle": "2025-08-05T14:42:19.308350Z",
     "shell.execute_reply": "2025-08-05T14:42:19.307233Z"
    },
    "papermill": {
     "duration": 1.071273,
     "end_time": "2025-08-05T14:42:19.313655",
     "exception": false,
     "start_time": "2025-08-05T14:42:18.242382",
     "status": "completed"
    },
    "tags": []
   },
   "outputs": [],
   "source": [
    "from fairness_multiverse.conformal import evaluate_sets\n",
    "\n",
    "# Evaluate coverage and average set size on test data\n",
    "metrics = evaluate_sets(pred_sets, y_true)"
   ]
  },
  {
   "cell_type": "markdown",
   "id": "2b569c12-9aaa-4c88-98c9-bbcd0cf3ebb8",
   "metadata": {
    "papermill": {
     "duration": 0.011047,
     "end_time": "2025-08-05T14:42:19.340286",
     "exception": false,
     "start_time": "2025-08-05T14:42:19.329239",
     "status": "completed"
    },
    "tags": []
   },
   "source": [
    "# CP Metrics"
   ]
  },
  {
   "cell_type": "code",
   "execution_count": 45,
   "id": "5ce0a5cb-201f-45a0-ade5-94c7f0bd6095",
   "metadata": {
    "execution": {
     "iopub.execute_input": "2025-08-05T14:42:19.362827Z",
     "iopub.status.busy": "2025-08-05T14:42:19.362367Z",
     "iopub.status.idle": "2025-08-05T14:42:19.369613Z",
     "shell.execute_reply": "2025-08-05T14:42:19.368565Z"
    },
    "papermill": {
     "duration": 0.020214,
     "end_time": "2025-08-05T14:42:19.370934",
     "exception": false,
     "start_time": "2025-08-05T14:42:19.350720",
     "status": "completed"
    },
    "tags": []
   },
   "outputs": [
    {
     "data": {
      "text/plain": [
       "{'coverage': 0.9131423475643741, 'avg_size': 1.2499944264853418}"
      ]
     },
     "execution_count": 45,
     "metadata": {},
     "output_type": "execute_result"
    }
   ],
   "source": [
    "metrics"
   ]
  },
  {
   "cell_type": "code",
   "execution_count": 46,
   "id": "9b9a838d-31c9-430b-ae14-12baee460d17",
   "metadata": {
    "execution": {
     "iopub.execute_input": "2025-08-05T14:42:19.408538Z",
     "iopub.status.busy": "2025-08-05T14:42:19.407745Z",
     "iopub.status.idle": "2025-08-05T14:42:19.414002Z",
     "shell.execute_reply": "2025-08-05T14:42:19.412960Z"
    },
    "papermill": {
     "duration": 0.029417,
     "end_time": "2025-08-05T14:42:19.415837",
     "exception": false,
     "start_time": "2025-08-05T14:42:19.386420",
     "status": "completed"
    },
    "tags": []
   },
   "outputs": [],
   "source": [
    "example_universe = universe.copy()\n",
    "universe_training_year = example_universe.get(\"training_year\")\n",
    "universe_training_size = example_universe.get(\"training_size\")\n",
    "universe_scale = example_universe.get(\"scale\")\n",
    "universe_model = example_universe.get(\"model\")\n",
    "universe_exclude_features = example_universe.get(\"exclude_features\")\n",
    "universe_exclude_subgroups = example_universe.get(\"exclude_subgroups\")"
   ]
  },
  {
   "cell_type": "code",
   "execution_count": 47,
   "id": "f4b6a8ac-9dc0-4245-8a91-5b3b5999c4f9",
   "metadata": {
    "execution": {
     "iopub.execute_input": "2025-08-05T14:42:19.460209Z",
     "iopub.status.busy": "2025-08-05T14:42:19.459635Z",
     "iopub.status.idle": "2025-08-05T14:42:19.466168Z",
     "shell.execute_reply": "2025-08-05T14:42:19.464995Z"
    },
    "papermill": {
     "duration": 0.030413,
     "end_time": "2025-08-05T14:42:19.467606",
     "exception": false,
     "start_time": "2025-08-05T14:42:19.437193",
     "status": "completed"
    },
    "tags": []
   },
   "outputs": [],
   "source": [
    "cp_metrics_dict = {\n",
    "    \"universe_id\": [universe_id],\n",
    "    \"universe_training_year\": [universe_training_year],\n",
    "    \"universe_training_size\": [universe_training_size],\n",
    "    \"universe_scale\": [universe_scale],\n",
    "    \"universe_model\": [universe_model],\n",
    "    \"universe_exclude_features\": [universe_exclude_features],\n",
    "    \"universe_exclude_subgroups\": [universe_exclude_subgroups],\n",
    "    \"q_hat\": [q_hat],\n",
    "    \"coverage\": [metrics[\"coverage\"]],\n",
    "    \"avg_size\": [metrics[\"avg_size\"]],\n",
    "}"
   ]
  },
  {
   "cell_type": "code",
   "execution_count": 48,
   "id": "908acbb1-0371-4915-85ca-3fa520d2efe2",
   "metadata": {
    "execution": {
     "iopub.execute_input": "2025-08-05T14:42:19.511277Z",
     "iopub.status.busy": "2025-08-05T14:42:19.510528Z",
     "iopub.status.idle": "2025-08-05T14:42:19.517960Z",
     "shell.execute_reply": "2025-08-05T14:42:19.516848Z"
    },
    "papermill": {
     "duration": 0.031423,
     "end_time": "2025-08-05T14:42:19.519787",
     "exception": false,
     "start_time": "2025-08-05T14:42:19.488364",
     "status": "completed"
    },
    "tags": []
   },
   "outputs": [
    {
     "data": {
      "text/plain": [
       "{'universe_id': ['ef0b5702ea097f4599214d88d43eb321'],\n",
       " 'universe_training_year': ['2014'],\n",
       " 'universe_training_size': ['25k'],\n",
       " 'universe_scale': ['do-not-scale'],\n",
       " 'universe_model': ['penalized_logreg'],\n",
       " 'universe_exclude_features': ['age'],\n",
       " 'universe_exclude_subgroups': ['drop-non-german'],\n",
       " 'q_hat': [0.6427170180308777],\n",
       " 'coverage': [0.9131423475643741],\n",
       " 'avg_size': [1.2499944264853418]}"
      ]
     },
     "execution_count": 48,
     "metadata": {},
     "output_type": "execute_result"
    }
   ],
   "source": [
    "cp_metrics_dict"
   ]
  },
  {
   "cell_type": "code",
   "execution_count": 49,
   "id": "33007efc-14e9-4ec6-97ac-56a455c82265",
   "metadata": {
    "execution": {
     "iopub.execute_input": "2025-08-05T14:42:19.563460Z",
     "iopub.status.busy": "2025-08-05T14:42:19.562718Z",
     "iopub.status.idle": "2025-08-05T14:42:19.569010Z",
     "shell.execute_reply": "2025-08-05T14:42:19.567859Z"
    },
    "papermill": {
     "duration": 0.029996,
     "end_time": "2025-08-05T14:42:19.570815",
     "exception": false,
     "start_time": "2025-08-05T14:42:19.540819",
     "status": "completed"
    },
    "tags": []
   },
   "outputs": [],
   "source": [
    "cp_metrics_df = pd.DataFrame(cp_metrics_dict)"
   ]
  },
  {
   "cell_type": "code",
   "execution_count": 50,
   "id": "db12611b-57b2-4910-b9d0-355adfd6e7bf",
   "metadata": {
    "execution": {
     "iopub.execute_input": "2025-08-05T14:42:19.616586Z",
     "iopub.status.busy": "2025-08-05T14:42:19.615854Z",
     "iopub.status.idle": "2025-08-05T14:42:19.635642Z",
     "shell.execute_reply": "2025-08-05T14:42:19.634652Z"
    },
    "papermill": {
     "duration": 0.043484,
     "end_time": "2025-08-05T14:42:19.637277",
     "exception": false,
     "start_time": "2025-08-05T14:42:19.593793",
     "status": "completed"
    },
    "tags": []
   },
   "outputs": [
    {
     "data": {
      "text/html": [
       "<div>\n",
       "<style scoped>\n",
       "    .dataframe tbody tr th:only-of-type {\n",
       "        vertical-align: middle;\n",
       "    }\n",
       "\n",
       "    .dataframe tbody tr th {\n",
       "        vertical-align: top;\n",
       "    }\n",
       "\n",
       "    .dataframe thead th {\n",
       "        text-align: right;\n",
       "    }\n",
       "</style>\n",
       "<table border=\"1\" class=\"dataframe\">\n",
       "  <thead>\n",
       "    <tr style=\"text-align: right;\">\n",
       "      <th></th>\n",
       "      <th>universe_id</th>\n",
       "      <th>universe_training_year</th>\n",
       "      <th>universe_training_size</th>\n",
       "      <th>universe_scale</th>\n",
       "      <th>universe_model</th>\n",
       "      <th>universe_exclude_features</th>\n",
       "      <th>universe_exclude_subgroups</th>\n",
       "      <th>q_hat</th>\n",
       "      <th>coverage</th>\n",
       "      <th>avg_size</th>\n",
       "    </tr>\n",
       "  </thead>\n",
       "  <tbody>\n",
       "    <tr>\n",
       "      <th>0</th>\n",
       "      <td>ef0b5702ea097f4599214d88d43eb321</td>\n",
       "      <td>2014</td>\n",
       "      <td>25k</td>\n",
       "      <td>do-not-scale</td>\n",
       "      <td>penalized_logreg</td>\n",
       "      <td>age</td>\n",
       "      <td>drop-non-german</td>\n",
       "      <td>0.642717</td>\n",
       "      <td>0.913142</td>\n",
       "      <td>1.249994</td>\n",
       "    </tr>\n",
       "  </tbody>\n",
       "</table>\n",
       "</div>"
      ],
      "text/plain": [
       "                        universe_id universe_training_year  \\\n",
       "0  ef0b5702ea097f4599214d88d43eb321                   2014   \n",
       "\n",
       "  universe_training_size universe_scale    universe_model  \\\n",
       "0                    25k   do-not-scale  penalized_logreg   \n",
       "\n",
       "  universe_exclude_features universe_exclude_subgroups     q_hat  coverage  \\\n",
       "0                       age            drop-non-german  0.642717  0.913142   \n",
       "\n",
       "   avg_size  \n",
       "0  1.249994  "
      ]
     },
     "execution_count": 50,
     "metadata": {},
     "output_type": "execute_result"
    }
   ],
   "source": [
    "cp_metrics_df"
   ]
  },
  {
   "cell_type": "code",
   "execution_count": 51,
   "id": "b7fbde55-a0a1-47e4-9af6-fe4a17fa8c61",
   "metadata": {
    "execution": {
     "iopub.execute_input": "2025-08-05T14:42:19.682474Z",
     "iopub.status.busy": "2025-08-05T14:42:19.681783Z",
     "iopub.status.idle": "2025-08-05T14:42:19.686818Z",
     "shell.execute_reply": "2025-08-05T14:42:19.685851Z"
    },
    "papermill": {
     "duration": 0.029894,
     "end_time": "2025-08-05T14:42:19.688720",
     "exception": false,
     "start_time": "2025-08-05T14:42:19.658826",
     "status": "completed"
    },
    "tags": []
   },
   "outputs": [],
   "source": [
    "# Conditional Coverage & looking at subgroups"
   ]
  },
  {
   "cell_type": "code",
   "execution_count": 52,
   "id": "027ae886-68dd-4141-96c7-805a5450e1ef",
   "metadata": {
    "execution": {
     "iopub.execute_input": "2025-08-05T14:42:19.734112Z",
     "iopub.status.busy": "2025-08-05T14:42:19.733641Z",
     "iopub.status.idle": "2025-08-05T14:42:19.898815Z",
     "shell.execute_reply": "2025-08-05T14:42:19.897836Z"
    },
    "papermill": {
     "duration": 0.188808,
     "end_time": "2025-08-05T14:42:19.900684",
     "exception": false,
     "start_time": "2025-08-05T14:42:19.711876",
     "status": "completed"
    },
    "tags": []
   },
   "outputs": [],
   "source": [
    "from fairness_multiverse.conformal import build_cp_groups\n",
    "\n",
    "cp_groups_df = build_cp_groups(pred_sets, y_true, X_test.index, org_test)\n",
    "#needs universe_id and setting"
   ]
  },
  {
   "cell_type": "code",
   "execution_count": 53,
   "id": "6cbdab96-b2b2-45af-ad54-d0516db2e28d",
   "metadata": {
    "execution": {
     "iopub.execute_input": "2025-08-05T14:42:19.952342Z",
     "iopub.status.busy": "2025-08-05T14:42:19.951920Z",
     "iopub.status.idle": "2025-08-05T14:42:21.491114Z",
     "shell.execute_reply": "2025-08-05T14:42:21.490246Z"
    },
    "papermill": {
     "duration": 1.564057,
     "end_time": "2025-08-05T14:42:21.492885",
     "exception": false,
     "start_time": "2025-08-05T14:42:19.928828",
     "status": "completed"
    },
    "tags": []
   },
   "outputs": [],
   "source": [
    "# Define covered = 1 if true_label is in the predicted set\n",
    "cp_groups_df['covered'] = cp_groups_df.apply(\n",
    "    lambda r: int(r['true_label'] in r['pred_set']),\n",
    "    axis=1\n",
    ")"
   ]
  },
  {
   "cell_type": "code",
   "execution_count": 54,
   "id": "338ff529-1a6b-4b87-a931-8e4788d52aad",
   "metadata": {
    "execution": {
     "iopub.execute_input": "2025-08-05T14:42:21.537941Z",
     "iopub.status.busy": "2025-08-05T14:42:21.537536Z",
     "iopub.status.idle": "2025-08-05T14:42:21.541910Z",
     "shell.execute_reply": "2025-08-05T14:42:21.541006Z"
    },
    "papermill": {
     "duration": 0.02805,
     "end_time": "2025-08-05T14:42:21.543639",
     "exception": false,
     "start_time": "2025-08-05T14:42:21.515589",
     "status": "completed"
    },
    "tags": []
   },
   "outputs": [],
   "source": [
    "#cp_groups_df"
   ]
  },
  {
   "cell_type": "code",
   "execution_count": 55,
   "id": "90032e27-66df-4540-9169-4e89cfbaa758",
   "metadata": {
    "execution": {
     "iopub.execute_input": "2025-08-05T14:42:21.587657Z",
     "iopub.status.busy": "2025-08-05T14:42:21.587103Z",
     "iopub.status.idle": "2025-08-05T14:42:21.598228Z",
     "shell.execute_reply": "2025-08-05T14:42:21.597130Z"
    },
    "papermill": {
     "duration": 0.033088,
     "end_time": "2025-08-05T14:42:21.599987",
     "exception": false,
     "start_time": "2025-08-05T14:42:21.566899",
     "status": "completed"
    },
    "tags": []
   },
   "outputs": [],
   "source": [
    "subgroups = ['frau1','nongerman','nongerman_male','nongerman_female']\n",
    "\n",
    "# Conditional coverage for subgroup==1\n",
    "cond_coverage = {\n",
    "    g: cp_groups_df.loc[cp_groups_df[g]==1, 'covered'].mean()\n",
    "    for g in subgroups\n",
    "}"
   ]
  },
  {
   "cell_type": "code",
   "execution_count": 56,
   "id": "1e348fb1-b9c3-45bc-ba23-f016827a7e0d",
   "metadata": {
    "execution": {
     "iopub.execute_input": "2025-08-05T14:42:21.645785Z",
     "iopub.status.busy": "2025-08-05T14:42:21.645024Z",
     "iopub.status.idle": "2025-08-05T14:42:21.653358Z",
     "shell.execute_reply": "2025-08-05T14:42:21.652281Z"
    },
    "papermill": {
     "duration": 0.031991,
     "end_time": "2025-08-05T14:42:21.655025",
     "exception": false,
     "start_time": "2025-08-05T14:42:21.623034",
     "status": "completed"
    },
    "tags": []
   },
   "outputs": [
    {
     "data": {
      "text/plain": [
       "{'frau1': 0.9130341016309476,\n",
       " 'nongerman': 0.9612642452141694,\n",
       " 'nongerman_male': 0.9676663964694227,\n",
       " 'nongerman_female': 0.9506706408345753}"
      ]
     },
     "execution_count": 56,
     "metadata": {},
     "output_type": "execute_result"
    }
   ],
   "source": [
    "cond_coverage"
   ]
  },
  {
   "cell_type": "code",
   "execution_count": 57,
   "id": "f5093324-c3dd-4d63-bc4c-8d945e5c8bbb",
   "metadata": {
    "execution": {
     "iopub.execute_input": "2025-08-05T14:42:21.699600Z",
     "iopub.status.busy": "2025-08-05T14:42:21.699102Z",
     "iopub.status.idle": "2025-08-05T14:42:21.707851Z",
     "shell.execute_reply": "2025-08-05T14:42:21.706609Z"
    },
    "papermill": {
     "duration": 0.032793,
     "end_time": "2025-08-05T14:42:21.710116",
     "exception": false,
     "start_time": "2025-08-05T14:42:21.677323",
     "status": "completed"
    },
    "tags": []
   },
   "outputs": [],
   "source": [
    "for subgroup, cov in cond_coverage.items():\n",
    "    cp_metrics_df[f\"cov_{subgroup}\"] = cov"
   ]
  },
  {
   "cell_type": "code",
   "execution_count": 58,
   "id": "6e872e10-dbe5-49e8-b554-5030c98ff75d",
   "metadata": {
    "execution": {
     "iopub.execute_input": "2025-08-05T14:42:21.753162Z",
     "iopub.status.busy": "2025-08-05T14:42:21.752673Z",
     "iopub.status.idle": "2025-08-05T14:42:21.772498Z",
     "shell.execute_reply": "2025-08-05T14:42:21.771405Z"
    },
    "papermill": {
     "duration": 0.042655,
     "end_time": "2025-08-05T14:42:21.774217",
     "exception": false,
     "start_time": "2025-08-05T14:42:21.731562",
     "status": "completed"
    },
    "tags": []
   },
   "outputs": [
    {
     "data": {
      "text/html": [
       "<div>\n",
       "<style scoped>\n",
       "    .dataframe tbody tr th:only-of-type {\n",
       "        vertical-align: middle;\n",
       "    }\n",
       "\n",
       "    .dataframe tbody tr th {\n",
       "        vertical-align: top;\n",
       "    }\n",
       "\n",
       "    .dataframe thead th {\n",
       "        text-align: right;\n",
       "    }\n",
       "</style>\n",
       "<table border=\"1\" class=\"dataframe\">\n",
       "  <thead>\n",
       "    <tr style=\"text-align: right;\">\n",
       "      <th></th>\n",
       "      <th>universe_id</th>\n",
       "      <th>universe_training_year</th>\n",
       "      <th>universe_training_size</th>\n",
       "      <th>universe_scale</th>\n",
       "      <th>universe_model</th>\n",
       "      <th>universe_exclude_features</th>\n",
       "      <th>universe_exclude_subgroups</th>\n",
       "      <th>q_hat</th>\n",
       "      <th>coverage</th>\n",
       "      <th>avg_size</th>\n",
       "      <th>cov_frau1</th>\n",
       "      <th>cov_nongerman</th>\n",
       "      <th>cov_nongerman_male</th>\n",
       "      <th>cov_nongerman_female</th>\n",
       "    </tr>\n",
       "  </thead>\n",
       "  <tbody>\n",
       "    <tr>\n",
       "      <th>0</th>\n",
       "      <td>ef0b5702ea097f4599214d88d43eb321</td>\n",
       "      <td>2014</td>\n",
       "      <td>25k</td>\n",
       "      <td>do-not-scale</td>\n",
       "      <td>penalized_logreg</td>\n",
       "      <td>age</td>\n",
       "      <td>drop-non-german</td>\n",
       "      <td>0.642717</td>\n",
       "      <td>0.913142</td>\n",
       "      <td>1.249994</td>\n",
       "      <td>0.913034</td>\n",
       "      <td>0.961264</td>\n",
       "      <td>0.967666</td>\n",
       "      <td>0.950671</td>\n",
       "    </tr>\n",
       "  </tbody>\n",
       "</table>\n",
       "</div>"
      ],
      "text/plain": [
       "                        universe_id universe_training_year  \\\n",
       "0  ef0b5702ea097f4599214d88d43eb321                   2014   \n",
       "\n",
       "  universe_training_size universe_scale    universe_model  \\\n",
       "0                    25k   do-not-scale  penalized_logreg   \n",
       "\n",
       "  universe_exclude_features universe_exclude_subgroups     q_hat  coverage  \\\n",
       "0                       age            drop-non-german  0.642717  0.913142   \n",
       "\n",
       "   avg_size  cov_frau1  cov_nongerman  cov_nongerman_male  \\\n",
       "0  1.249994   0.913034       0.961264            0.967666   \n",
       "\n",
       "   cov_nongerman_female  \n",
       "0              0.950671  "
      ]
     },
     "execution_count": 58,
     "metadata": {},
     "output_type": "execute_result"
    }
   ],
   "source": [
    "cp_metrics_df"
   ]
  },
  {
   "cell_type": "markdown",
   "id": "33774451",
   "metadata": {
    "papermill": {
     "duration": 0.021339,
     "end_time": "2025-08-05T14:42:21.816475",
     "exception": false,
     "start_time": "2025-08-05T14:42:21.795136",
     "status": "completed"
    },
    "tags": []
   },
   "source": [
    "# (Fairness) Metrics"
   ]
  },
  {
   "cell_type": "code",
   "execution_count": 59,
   "id": "debc5d62",
   "metadata": {
    "execution": {
     "iopub.execute_input": "2025-08-05T14:42:21.860088Z",
     "iopub.status.busy": "2025-08-05T14:42:21.859622Z",
     "iopub.status.idle": "2025-08-05T14:42:21.879966Z",
     "shell.execute_reply": "2025-08-05T14:42:21.879090Z"
    },
    "papermill": {
     "duration": 0.043714,
     "end_time": "2025-08-05T14:42:21.881691",
     "exception": false,
     "start_time": "2025-08-05T14:42:21.837977",
     "status": "completed"
    },
    "tags": []
   },
   "outputs": [],
   "source": [
    "# do I need to include maxdeutsch1.missing?\n",
    "\n",
    "import numpy as np\n",
    "\n",
    "colname_to_bin = \"maxdeutsch1\"\n",
    "majority_value = org_train[colname_to_bin].mode()[0]\n",
    "\n",
    "org_test[\"majmin\"] = np.where(org_test[colname_to_bin] == majority_value, \"majority\", \"minority\")"
   ]
  },
  {
   "cell_type": "code",
   "execution_count": 60,
   "id": "06a50de5",
   "metadata": {
    "execution": {
     "iopub.execute_input": "2025-08-05T14:42:21.926062Z",
     "iopub.status.busy": "2025-08-05T14:42:21.925267Z",
     "iopub.status.idle": "2025-08-05T14:42:24.673825Z",
     "shell.execute_reply": "2025-08-05T14:42:24.672746Z"
    },
    "papermill": {
     "duration": 2.771891,
     "end_time": "2025-08-05T14:42:24.675959",
     "exception": false,
     "start_time": "2025-08-05T14:42:21.904068",
     "status": "completed"
    },
    "tags": []
   },
   "outputs": [],
   "source": [
    "example_universe = universe.copy()\n",
    "example_universe[\"cutoff\"] = example_universe[\"cutoff\"][0]\n",
    "example_universe[\"eval_fairness_grouping\"] = example_universe[\"eval_fairness_grouping\"][0]\n",
    "fairness_dict, metric_frame = universe_analysis.compute_metrics(\n",
    "    example_universe,\n",
    "    y_pred_prob=probs_test,\n",
    "    y_test=y_true,\n",
    "    org_test=org_test,\n",
    ")"
   ]
  },
  {
   "cell_type": "markdown",
   "id": "f95d4e02",
   "metadata": {
    "papermill": {
     "duration": 0.02487,
     "end_time": "2025-08-05T14:42:24.726727",
     "exception": false,
     "start_time": "2025-08-05T14:42:24.701857",
     "status": "completed"
    },
    "tags": []
   },
   "source": [
    "# Overall"
   ]
  },
  {
   "cell_type": "markdown",
   "id": "bdee4871",
   "metadata": {
    "papermill": {
     "duration": 0.024451,
     "end_time": "2025-08-05T14:42:24.775879",
     "exception": false,
     "start_time": "2025-08-05T14:42:24.751428",
     "status": "completed"
    },
    "tags": []
   },
   "source": [
    "Fairness\n",
    "Main fairness target: Equalized Odds. Seems to be a better fit than equal opportunity, since we're not only interested in Y = 1. Seems to be a better fit than demographic parity, since we also care about accuracy, not just equal distribution of preds.\n",
    "\n",
    "Pick column for computation of fairness metrics\n",
    "\n",
    "Performance\n",
    "Overall performance measures, most interesting in relation to the measures split by group below"
   ]
  },
  {
   "cell_type": "code",
   "execution_count": 61,
   "id": "c4e067c6",
   "metadata": {
    "execution": {
     "iopub.execute_input": "2025-08-05T14:42:24.827428Z",
     "iopub.status.busy": "2025-08-05T14:42:24.826733Z",
     "iopub.status.idle": "2025-08-05T14:42:24.836547Z",
     "shell.execute_reply": "2025-08-05T14:42:24.835512Z"
    },
    "papermill": {
     "duration": 0.037449,
     "end_time": "2025-08-05T14:42:24.838286",
     "exception": false,
     "start_time": "2025-08-05T14:42:24.800837",
     "status": "completed"
    },
    "tags": []
   },
   "outputs": [
    {
     "data": {
      "text/plain": [
       "accuracy                   0.216799\n",
       "balanced accuracy          0.531689\n",
       "f1                         0.238338\n",
       "precision                  0.136155\n",
       "false positive rate        0.891870\n",
       "false negative rate        0.044751\n",
       "selection rate             0.900000\n",
       "count                  89710.000000\n",
       "dtype: float64"
      ]
     },
     "execution_count": 61,
     "metadata": {},
     "output_type": "execute_result"
    }
   ],
   "source": [
    "metric_frame.overall"
   ]
  },
  {
   "cell_type": "markdown",
   "id": "e968fe9d",
   "metadata": {
    "papermill": {
     "duration": 0.021426,
     "end_time": "2025-08-05T14:42:24.880790",
     "exception": false,
     "start_time": "2025-08-05T14:42:24.859364",
     "status": "completed"
    },
    "tags": []
   },
   "source": [
    "By Group"
   ]
  },
  {
   "cell_type": "code",
   "execution_count": 62,
   "id": "ec325bce",
   "metadata": {
    "execution": {
     "iopub.execute_input": "2025-08-05T14:42:24.923108Z",
     "iopub.status.busy": "2025-08-05T14:42:24.922407Z",
     "iopub.status.idle": "2025-08-05T14:42:24.937682Z",
     "shell.execute_reply": "2025-08-05T14:42:24.936451Z"
    },
    "papermill": {
     "duration": 0.038667,
     "end_time": "2025-08-05T14:42:24.939612",
     "exception": false,
     "start_time": "2025-08-05T14:42:24.900945",
     "status": "completed"
    },
    "tags": []
   },
   "outputs": [
    {
     "data": {
      "text/html": [
       "<div>\n",
       "<style scoped>\n",
       "    .dataframe tbody tr th:only-of-type {\n",
       "        vertical-align: middle;\n",
       "    }\n",
       "\n",
       "    .dataframe tbody tr th {\n",
       "        vertical-align: top;\n",
       "    }\n",
       "\n",
       "    .dataframe thead th {\n",
       "        text-align: right;\n",
       "    }\n",
       "</style>\n",
       "<table border=\"1\" class=\"dataframe\">\n",
       "  <thead>\n",
       "    <tr style=\"text-align: right;\">\n",
       "      <th></th>\n",
       "      <th>accuracy</th>\n",
       "      <th>balanced accuracy</th>\n",
       "      <th>f1</th>\n",
       "      <th>precision</th>\n",
       "      <th>false positive rate</th>\n",
       "      <th>false negative rate</th>\n",
       "      <th>selection rate</th>\n",
       "      <th>count</th>\n",
       "    </tr>\n",
       "    <tr>\n",
       "      <th>majmin</th>\n",
       "      <th></th>\n",
       "      <th></th>\n",
       "      <th></th>\n",
       "      <th></th>\n",
       "      <th></th>\n",
       "      <th></th>\n",
       "      <th></th>\n",
       "      <th></th>\n",
       "    </tr>\n",
       "  </thead>\n",
       "  <tbody>\n",
       "    <tr>\n",
       "      <th>majority</th>\n",
       "      <td>0.238962</td>\n",
       "      <td>0.539238</td>\n",
       "      <td>0.247545</td>\n",
       "      <td>0.142373</td>\n",
       "      <td>0.868899</td>\n",
       "      <td>0.052626</td>\n",
       "      <td>0.879268</td>\n",
       "      <td>69170.0</td>\n",
       "    </tr>\n",
       "    <tr>\n",
       "      <th>minority</th>\n",
       "      <td>0.142162</td>\n",
       "      <td>0.508945</td>\n",
       "      <td>0.209440</td>\n",
       "      <td>0.117169</td>\n",
       "      <td>0.967753</td>\n",
       "      <td>0.014358</td>\n",
       "      <td>0.969815</td>\n",
       "      <td>20540.0</td>\n",
       "    </tr>\n",
       "  </tbody>\n",
       "</table>\n",
       "</div>"
      ],
      "text/plain": [
       "          accuracy  balanced accuracy        f1  precision  \\\n",
       "majmin                                                       \n",
       "majority  0.238962           0.539238  0.247545   0.142373   \n",
       "minority  0.142162           0.508945  0.209440   0.117169   \n",
       "\n",
       "          false positive rate  false negative rate  selection rate    count  \n",
       "majmin                                                                       \n",
       "majority             0.868899             0.052626        0.879268  69170.0  \n",
       "minority             0.967753             0.014358        0.969815  20540.0  "
      ]
     },
     "execution_count": 62,
     "metadata": {},
     "output_type": "execute_result"
    }
   ],
   "source": [
    "metric_frame.by_group"
   ]
  },
  {
   "cell_type": "code",
   "execution_count": 63,
   "id": "a9ddbe63",
   "metadata": {
    "execution": {
     "iopub.execute_input": "2025-08-05T14:42:24.987487Z",
     "iopub.status.busy": "2025-08-05T14:42:24.986576Z",
     "iopub.status.idle": "2025-08-05T14:42:27.276695Z",
     "shell.execute_reply": "2025-08-05T14:42:27.275850Z"
    },
    "papermill": {
     "duration": 2.31434,
     "end_time": "2025-08-05T14:42:27.278250",
     "exception": false,
     "start_time": "2025-08-05T14:42:24.963910",
     "status": "completed"
    },
    "tags": []
   },
   "outputs": [
    {
     "data": {
      "text/plain": [
       "array([[<Axes: title={'center': 'accuracy'}, xlabel='majmin'>,\n",
       "        <Axes: title={'center': 'balanced accuracy'}, xlabel='majmin'>,\n",
       "        <Axes: title={'center': 'f1'}, xlabel='majmin'>],\n",
       "       [<Axes: title={'center': 'precision'}, xlabel='majmin'>,\n",
       "        <Axes: title={'center': 'false positive rate'}, xlabel='majmin'>,\n",
       "        <Axes: title={'center': 'false negative rate'}, xlabel='majmin'>],\n",
       "       [<Axes: title={'center': 'selection rate'}, xlabel='majmin'>,\n",
       "        <Axes: title={'center': 'count'}, xlabel='majmin'>,\n",
       "        <Axes: xlabel='majmin'>]], dtype=object)"
      ]
     },
     "execution_count": 63,
     "metadata": {},
     "output_type": "execute_result"
    },
    {
     "data": {
      "image/png": "[encoded data removed]",
      "text/plain": [
       "<Figure size 1200x800 with 9 Axes>"
      ]
     },
     "metadata": {},
     "output_type": "display_data"
    }
   ],
   "source": [
    "# In a graphic\n",
    "metric_frame.by_group.plot.bar(\n",
    "    subplots=True,\n",
    "    layout=[3, 3],\n",
    "    legend=False,\n",
    "    figsize=[12, 8],\n",
    "    title=\"Show all metrics\",\n",
    ")"
   ]
  },
  {
   "cell_type": "markdown",
   "id": "f57a0bac",
   "metadata": {
    "papermill": {
     "duration": 0.022138,
     "end_time": "2025-08-05T14:42:27.325700",
     "exception": false,
     "start_time": "2025-08-05T14:42:27.303562",
     "status": "completed"
    },
    "tags": []
   },
   "source": [
    "# Final Output"
   ]
  },
  {
   "cell_type": "code",
   "execution_count": 64,
   "id": "96d280a3",
   "metadata": {
    "execution": {
     "iopub.execute_input": "2025-08-05T14:42:27.373158Z",
     "iopub.status.busy": "2025-08-05T14:42:27.372201Z",
     "iopub.status.idle": "2025-08-05T14:42:27.380322Z",
     "shell.execute_reply": "2025-08-05T14:42:27.379217Z"
    },
    "papermill": {
     "duration": 0.032903,
     "end_time": "2025-08-05T14:42:27.382032",
     "exception": false,
     "start_time": "2025-08-05T14:42:27.349129",
     "status": "completed"
    },
    "tags": []
   },
   "outputs": [
    {
     "data": {
      "text/plain": [
       "4"
      ]
     },
     "execution_count": 64,
     "metadata": {},
     "output_type": "execute_result"
    }
   ],
   "source": [
    "sub_universes = universe_analysis.generate_sub_universes()\n",
    "len(sub_universes)"
   ]
  },
  {
   "cell_type": "code",
   "execution_count": 65,
   "id": "92adf7ba",
   "metadata": {
    "execution": {
     "iopub.execute_input": "2025-08-05T14:42:27.431775Z",
     "iopub.status.busy": "2025-08-05T14:42:27.430940Z",
     "iopub.status.idle": "2025-08-05T14:42:27.436920Z",
     "shell.execute_reply": "2025-08-05T14:42:27.435909Z"
    },
    "papermill": {
     "duration": 0.031859,
     "end_time": "2025-08-05T14:42:27.438654",
     "exception": false,
     "start_time": "2025-08-05T14:42:27.406795",
     "status": "completed"
    },
    "tags": []
   },
   "outputs": [],
   "source": [
    "def filter_sub_universe_data(sub_universe, org_test):\n",
    "    # Keep all rows — no filtering\n",
    "    keep_rows_mask = np.ones(org_test.shape[0], dtype=bool)\n",
    "\n",
    "    print(f\"[INFO] Keeping all rows: {keep_rows_mask.sum()} rows retained.\")\n",
    "    return keep_rows_mask"
   ]
  },
  {
   "cell_type": "code",
   "execution_count": 66,
   "id": "4a759155",
   "metadata": {
    "execution": {
     "iopub.execute_input": "2025-08-05T14:42:27.486177Z",
     "iopub.status.busy": "2025-08-05T14:42:27.485355Z",
     "iopub.status.idle": "2025-08-05T14:42:35.993324Z",
     "shell.execute_reply": "2025-08-05T14:42:35.992626Z"
    },
    "papermill": {
     "duration": 8.532616,
     "end_time": "2025-08-05T14:42:35.994626",
     "exception": false,
     "start_time": "2025-08-05T14:42:27.462010",
     "status": "completed"
    },
    "tags": []
   },
   "outputs": [
    {
     "name": "stdout",
     "output_type": "stream",
     "text": [
      "Stopping execution_time clock.\n",
      "[INFO] Keeping all rows: 89710 rows retained.\n"
     ]
    },
    {
     "name": "stdout",
     "output_type": "stream",
     "text": [
      "[INFO] Keeping all rows: 89710 rows retained.\n"
     ]
    },
    {
     "name": "stdout",
     "output_type": "stream",
     "text": [
      "[INFO] Keeping all rows: 89710 rows retained.\n"
     ]
    },
    {
     "name": "stdout",
     "output_type": "stream",
     "text": [
      "[INFO] Keeping all rows: 89710 rows retained.\n"
     ]
    },
    {
     "data": {
      "text/html": [
       "<div>\n",
       "<style scoped>\n",
       "    .dataframe tbody tr th:only-of-type {\n",
       "        vertical-align: middle;\n",
       "    }\n",
       "\n",
       "    .dataframe tbody tr th {\n",
       "        vertical-align: top;\n",
       "    }\n",
       "\n",
       "    .dataframe thead th {\n",
       "        text-align: right;\n",
       "    }\n",
       "</style>\n",
       "<table border=\"1\" class=\"dataframe\">\n",
       "  <thead>\n",
       "    <tr style=\"text-align: right;\">\n",
       "      <th></th>\n",
       "      <th>run_no</th>\n",
       "      <th>universe_id</th>\n",
       "      <th>universe_settings</th>\n",
       "      <th>execution_time</th>\n",
       "      <th>test_size_n</th>\n",
       "      <th>test_size_frac</th>\n",
       "      <th>fair_main_equalized_odds_difference</th>\n",
       "      <th>fair_main_equalized_odds_ratio</th>\n",
       "      <th>fair_main_demographic_parity_difference</th>\n",
       "      <th>fair_main_demographic_parity_ratio</th>\n",
       "      <th>...</th>\n",
       "      <th>perf_grp_precision_0</th>\n",
       "      <th>perf_grp_precision_1</th>\n",
       "      <th>perf_grp_false positive rate_0</th>\n",
       "      <th>perf_grp_false positive rate_1</th>\n",
       "      <th>perf_grp_false negative rate_0</th>\n",
       "      <th>perf_grp_false negative rate_1</th>\n",
       "      <th>perf_grp_selection rate_0</th>\n",
       "      <th>perf_grp_selection rate_1</th>\n",
       "      <th>perf_grp_count_0</th>\n",
       "      <th>perf_grp_count_1</th>\n",
       "    </tr>\n",
       "  </thead>\n",
       "  <tbody>\n",
       "    <tr>\n",
       "      <th>0</th>\n",
       "      <td>15</td>\n",
       "      <td>ef0b5702ea097f4599214d88d43eb321</td>\n",
       "      <td>{\"cutoff\": \"quantile_0.1\", \"eval_fairness_grou...</td>\n",
       "      <td>25.49758</td>\n",
       "      <td>89710</td>\n",
       "      <td>1.0</td>\n",
       "      <td>0.098854</td>\n",
       "      <td>0.897852</td>\n",
       "      <td>0.090547</td>\n",
       "      <td>0.906635</td>\n",
       "      <td>...</td>\n",
       "      <td>NaN</td>\n",
       "      <td>NaN</td>\n",
       "      <td>NaN</td>\n",
       "      <td>NaN</td>\n",
       "      <td>NaN</td>\n",
       "      <td>NaN</td>\n",
       "      <td>NaN</td>\n",
       "      <td>NaN</td>\n",
       "      <td>NaN</td>\n",
       "      <td>NaN</td>\n",
       "    </tr>\n",
       "    <tr>\n",
       "      <th>0</th>\n",
       "      <td>15</td>\n",
       "      <td>ef0b5702ea097f4599214d88d43eb321</td>\n",
       "      <td>{\"cutoff\": \"quantile_0.1\", \"eval_fairness_grou...</td>\n",
       "      <td>25.49758</td>\n",
       "      <td>89710</td>\n",
       "      <td>1.0</td>\n",
       "      <td>0.098854</td>\n",
       "      <td>0.897852</td>\n",
       "      <td>0.090547</td>\n",
       "      <td>0.906635</td>\n",
       "      <td>...</td>\n",
       "      <td>0.117169</td>\n",
       "      <td>0.142373</td>\n",
       "      <td>0.967753</td>\n",
       "      <td>0.868899</td>\n",
       "      <td>0.014358</td>\n",
       "      <td>0.052626</td>\n",
       "      <td>0.969815</td>\n",
       "      <td>0.879268</td>\n",
       "      <td>20540.0</td>\n",
       "      <td>69170.0</td>\n",
       "    </tr>\n",
       "    <tr>\n",
       "      <th>0</th>\n",
       "      <td>15</td>\n",
       "      <td>ef0b5702ea097f4599214d88d43eb321</td>\n",
       "      <td>{\"cutoff\": \"quantile_0.25\", \"eval_fairness_gro...</td>\n",
       "      <td>25.49758</td>\n",
       "      <td>89710</td>\n",
       "      <td>1.0</td>\n",
       "      <td>0.234608</td>\n",
       "      <td>0.742896</td>\n",
       "      <td>0.216271</td>\n",
       "      <td>0.764089</td>\n",
       "      <td>...</td>\n",
       "      <td>NaN</td>\n",
       "      <td>NaN</td>\n",
       "      <td>NaN</td>\n",
       "      <td>NaN</td>\n",
       "      <td>NaN</td>\n",
       "      <td>NaN</td>\n",
       "      <td>NaN</td>\n",
       "      <td>NaN</td>\n",
       "      <td>NaN</td>\n",
       "      <td>NaN</td>\n",
       "    </tr>\n",
       "    <tr>\n",
       "      <th>0</th>\n",
       "      <td>15</td>\n",
       "      <td>ef0b5702ea097f4599214d88d43eb321</td>\n",
       "      <td>{\"cutoff\": \"quantile_0.25\", \"eval_fairness_gro...</td>\n",
       "      <td>25.49758</td>\n",
       "      <td>89710</td>\n",
       "      <td>1.0</td>\n",
       "      <td>0.234608</td>\n",
       "      <td>0.742896</td>\n",
       "      <td>0.216271</td>\n",
       "      <td>0.764089</td>\n",
       "      <td>...</td>\n",
       "      <td>0.119384</td>\n",
       "      <td>0.160117</td>\n",
       "      <td>0.912503</td>\n",
       "      <td>0.677894</td>\n",
       "      <td>0.050676</td>\n",
       "      <td>0.151204</td>\n",
       "      <td>0.916748</td>\n",
       "      <td>0.700477</td>\n",
       "      <td>20540.0</td>\n",
       "      <td>69170.0</td>\n",
       "    </tr>\n",
       "  </tbody>\n",
       "</table>\n",
       "<p>4 rows × 50 columns</p>\n",
       "</div>"
      ],
      "text/plain": [
       "  run_no                       universe_id  \\\n",
       "0     15  ef0b5702ea097f4599214d88d43eb321   \n",
       "0     15  ef0b5702ea097f4599214d88d43eb321   \n",
       "0     15  ef0b5702ea097f4599214d88d43eb321   \n",
       "0     15  ef0b5702ea097f4599214d88d43eb321   \n",
       "\n",
       "                                   universe_settings  execution_time  \\\n",
       "0  {\"cutoff\": \"quantile_0.1\", \"eval_fairness_grou...        25.49758   \n",
       "0  {\"cutoff\": \"quantile_0.1\", \"eval_fairness_grou...        25.49758   \n",
       "0  {\"cutoff\": \"quantile_0.25\", \"eval_fairness_gro...        25.49758   \n",
       "0  {\"cutoff\": \"quantile_0.25\", \"eval_fairness_gro...        25.49758   \n",
       "\n",
       "   test_size_n  test_size_frac  fair_main_equalized_odds_difference  \\\n",
       "0        89710             1.0                             0.098854   \n",
       "0        89710             1.0                             0.098854   \n",
       "0        89710             1.0                             0.234608   \n",
       "0        89710             1.0                             0.234608   \n",
       "\n",
       "   fair_main_equalized_odds_ratio  fair_main_demographic_parity_difference  \\\n",
       "0                        0.897852                                 0.090547   \n",
       "0                        0.897852                                 0.090547   \n",
       "0                        0.742896                                 0.216271   \n",
       "0                        0.742896                                 0.216271   \n",
       "\n",
       "   fair_main_demographic_parity_ratio  ...  perf_grp_precision_0  \\\n",
       "0                            0.906635  ...                   NaN   \n",
       "0                            0.906635  ...              0.117169   \n",
       "0                            0.764089  ...                   NaN   \n",
       "0                            0.764089  ...              0.119384   \n",
       "\n",
       "   perf_grp_precision_1  perf_grp_false positive rate_0  \\\n",
       "0                   NaN                             NaN   \n",
       "0              0.142373                        0.967753   \n",
       "0                   NaN                             NaN   \n",
       "0              0.160117                        0.912503   \n",
       "\n",
       "   perf_grp_false positive rate_1  perf_grp_false negative rate_0  \\\n",
       "0                             NaN                             NaN   \n",
       "0                        0.868899                        0.014358   \n",
       "0                             NaN                             NaN   \n",
       "0                        0.677894                        0.050676   \n",
       "\n",
       "   perf_grp_false negative rate_1  perf_grp_selection rate_0  \\\n",
       "0                             NaN                        NaN   \n",
       "0                        0.052626                   0.969815   \n",
       "0                             NaN                        NaN   \n",
       "0                        0.151204                   0.916748   \n",
       "\n",
       "   perf_grp_selection rate_1  perf_grp_count_0  perf_grp_count_1  \n",
       "0                        NaN               NaN               NaN  \n",
       "0                   0.879268           20540.0           69170.0  \n",
       "0                        NaN               NaN               NaN  \n",
       "0                   0.700477           20540.0           69170.0  \n",
       "\n",
       "[4 rows x 50 columns]"
      ]
     },
     "execution_count": 66,
     "metadata": {},
     "output_type": "execute_result"
    }
   ],
   "source": [
    "final_output = universe_analysis.generate_final_output(\n",
    "    y_pred_prob=probs_test,\n",
    "    y_test=y_true,\n",
    "    org_test=org_test,\n",
    "    filter_data=filter_sub_universe_data,\n",
    "    cp_metrics_df=cp_metrics_df,\n",
    "    save=True,\n",
    ")\n",
    "final_output"
   ]
  }
 ],
 "metadata": {
  "celltoolbar": "Tags",
  "kernelspec": {
   "display_name": "Python (CMA Fairness)",
   "language": "python",
   "name": "cma_fair_env"
  },
  "language_info": {
   "codemirror_mode": {
    "name": "ipython",
    "version": 3
   },
   "file_extension": ".py",
   "mimetype": "text/x-python",
   "name": "python",
   "nbconvert_exporter": "python",
   "pygments_lexer": "ipython3",
   "version": "3.10.12"
  },
  "papermill": {
   "default_parameters": {},
   "duration": 37.588046,
   "end_time": "2025-08-05T14:42:36.628469",
   "environment_variables": {},
   "exception": null,
   "input_path": "universe_analysis.ipynb",
   "output_path": "output/runs/15/notebooks/m_15-ef0b5702ea097f4599214d88d43eb321.ipynb",
   "parameters": {
    "output_dir": "output",
    "run_no": "15",
    "seed": "2023",
    "universe": "{\"cutoff\": [\"quantile_0.1\", \"quantile_0.25\"], \"eval_fairness_grouping\": [\"majority-minority\", \"nationality-all\"], \"exclude_features\": \"age\", \"exclude_subgroups\": \"drop-non-german\", \"model\": \"penalized_logreg\", \"scale\": \"do-not-scale\", \"training_size\": \"25k\", \"training_year\": \"2014\"}",
    "universe_id": "ef0b5702ea097f4599214d88d43eb321"
   },
   "start_time": "2025-08-05T14:41:59.040423",
   "version": "2.6.0"
  }
 },
 "nbformat": 4,
 "nbformat_minor": 5
}