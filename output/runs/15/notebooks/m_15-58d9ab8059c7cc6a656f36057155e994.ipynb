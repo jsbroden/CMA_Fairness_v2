{
 "cells": [
  {
   "cell_type": "code",
   "execution_count": 1,
   "id": "f159f837-637b-42ba-96b5-ec9a68c44524",
   "metadata": {
    "execution": {
     "iopub.execute_input": "2025-08-05T15:57:01.390803Z",
     "iopub.status.busy": "2025-08-05T15:57:01.390131Z",
     "iopub.status.idle": "2025-08-05T15:57:01.404353Z",
     "shell.execute_reply": "2025-08-05T15:57:01.403321Z"
    },
    "papermill": {
     "duration": 0.03829,
     "end_time": "2025-08-05T15:57:01.406249",
     "exception": false,
     "start_time": "2025-08-05T15:57:01.367959",
     "status": "completed"
    },
    "tags": []
   },
   "outputs": [
    {
     "name": "stdout",
     "output_type": "stream",
     "text": [
      "/dss/dsshome1/0C/ra93lal2/cma/CMA_Fairness_v2\n"
     ]
    },
    {
     "name": "stderr",
     "output_type": "stream",
     "text": [
      "/dss/dsshome1/0C/ra93lal2/.local/share/virtualenvs/CMA_Fairness_v2-3j10GkSs/lib/python3.10/site-packages/IPython/core/magics/osm.py:393: UserWarning: This is now an optional IPython functionality, using bookmarks requires you to install the `pickleshare` library.\n",
      "  bkms = self.shell.db.get('bookmarks', {})\n",
      "/dss/dsshome1/0C/ra93lal2/.local/share/virtualenvs/CMA_Fairness_v2-3j10GkSs/lib/python3.10/site-packages/IPython/core/magics/osm.py:417: UserWarning: This is now an optional IPython functionality, setting dhist requires you to install the `pickleshare` library.\n",
      "  self.shell.db['dhist'] = compress_dhist(dhist)[-100:]\n"
     ]
    }
   ],
   "source": [
    "%cd ~/cma/CMA_Fairness_v2"
   ]
  },
  {
   "cell_type": "markdown",
   "id": "de2603b9",
   "metadata": {
    "papermill": {
     "duration": 0.024987,
     "end_time": "2025-08-05T15:57:01.451801",
     "exception": false,
     "start_time": "2025-08-05T15:57:01.426814",
     "status": "completed"
    },
    "tags": []
   },
   "source": [
    "The following cell holds the definition of our parameters, these values can be overriden by rendering the with e.g. the following command:\n",
    "\n",
    "papermill -p alpha 0.2 -p ratio 0.3 universe_analysis.ipynb output/test_run.ipynb"
   ]
  },
  {
   "cell_type": "code",
   "execution_count": 2,
   "id": "a80968a0-40bb-4fa9-85ef-2d5eefb01975",
   "metadata": {
    "execution": {
     "iopub.execute_input": "2025-08-05T15:57:01.499627Z",
     "iopub.status.busy": "2025-08-05T15:57:01.498923Z",
     "iopub.status.idle": "2025-08-05T15:57:01.505222Z",
     "shell.execute_reply": "2025-08-05T15:57:01.504168Z"
    },
    "papermill": {
     "duration": 0.029157,
     "end_time": "2025-08-05T15:57:01.506988",
     "exception": false,
     "start_time": "2025-08-05T15:57:01.477831",
     "status": "completed"
    },
    "tags": []
   },
   "outputs": [
    {
     "name": "stdout",
     "output_type": "stream",
     "text": [
      "Current working directory: /dss/dsshome1/0C/ra93lal2/cma/CMA_Fairness_v2\n"
     ]
    }
   ],
   "source": [
    "import os\n",
    "print(\"Current working directory:\", os.getcwd())"
   ]
  },
  {
   "cell_type": "code",
   "execution_count": 3,
   "id": "2dce4c03",
   "metadata": {
    "execution": {
     "iopub.execute_input": "2025-08-05T15:57:01.545146Z",
     "iopub.status.busy": "2025-08-05T15:57:01.544273Z",
     "iopub.status.idle": "2025-08-05T15:57:01.550888Z",
     "shell.execute_reply": "2025-08-05T15:57:01.549902Z"
    },
    "papermill": {
     "duration": 0.027396,
     "end_time": "2025-08-05T15:57:01.552707",
     "exception": false,
     "start_time": "2025-08-05T15:57:01.525311",
     "status": "completed"
    },
    "tags": [
     "parameters"
    ]
   },
   "outputs": [],
   "source": [
    "run_no = 0\n",
    "universe_id = \"test\"\n",
    "universe = {\n",
    "    \"training_size\": \"25k\", # \"25k\", \"5k\", \"1k\"\n",
    "    \"training_year\": \"2014\", # \"2014\", \"2012_14\", \"2010_14\"\n",
    "    \"scale\": \"scale\", # \"scale\", \"do-not-scale\",\n",
    "    \"model\": \"elasticnet\", # \"logreg\", \"penalized_logreg\", \"rf\", \"gbm\", \"elasticnet\"\n",
    "    \"cutoff\": [\"quantile_0.15\", \"quantile_0.30\"],\n",
    "    \"exclude_features\": \"age\", # \"none\", \"nationality\", \"sex\", \"nationality-sex\", \"age\"\n",
    "    \"exclude_subgroups\": \"keep-all\", # \"keep-all\", \"drop-non-german\"\n",
    "    \"eval_fairness_grouping\": [\"majority-minority\", \"nationality-all\"]\n",
    "}\n",
    "\n",
    "output_dir=\"./output\"\n",
    "seed=0"
   ]
  },
  {
   "cell_type": "code",
   "execution_count": 4,
   "id": "49b879f7",
   "metadata": {
    "execution": {
     "iopub.execute_input": "2025-08-05T15:57:01.588508Z",
     "iopub.status.busy": "2025-08-05T15:57:01.587805Z",
     "iopub.status.idle": "2025-08-05T15:57:01.592929Z",
     "shell.execute_reply": "2025-08-05T15:57:01.592027Z"
    },
    "papermill": {
     "duration": 0.024388,
     "end_time": "2025-08-05T15:57:01.594724",
     "exception": false,
     "start_time": "2025-08-05T15:57:01.570336",
     "status": "completed"
    },
    "tags": [
     "injected-parameters"
    ]
   },
   "outputs": [],
   "source": [
    "# Parameters\n",
    "universe_id = \"58d9ab8059c7cc6a656f36057155e994\"\n",
    "run_no = \"15\"\n",
    "universe = \"{\\\"cutoff\\\": [\\\"quantile_0.1\\\", \\\"quantile_0.25\\\"], \\\"eval_fairness_grouping\\\": [\\\"majority-minority\\\", \\\"nationality-all\\\"], \\\"exclude_features\\\": \\\"age\\\", \\\"exclude_subgroups\\\": \\\"keep-all\\\", \\\"model\\\": \\\"penalized_logreg\\\", \\\"scale\\\": \\\"do-not-scale\\\", \\\"training_size\\\": \\\"5k\\\", \\\"training_year\\\": \\\"2010_14\\\"}\"\n",
    "output_dir = \"output\"\n",
    "seed = \"2023\"\n"
   ]
  },
  {
   "cell_type": "code",
   "execution_count": 5,
   "id": "1650acaf",
   "metadata": {
    "execution": {
     "iopub.execute_input": "2025-08-05T15:57:01.631956Z",
     "iopub.status.busy": "2025-08-05T15:57:01.631259Z",
     "iopub.status.idle": "2025-08-05T15:57:01.635682Z",
     "shell.execute_reply": "2025-08-05T15:57:01.634837Z"
    },
    "papermill": {
     "duration": 0.024342,
     "end_time": "2025-08-05T15:57:01.637188",
     "exception": false,
     "start_time": "2025-08-05T15:57:01.612846",
     "status": "completed"
    },
    "tags": []
   },
   "outputs": [],
   "source": [
    "import json\n",
    "if isinstance(universe, str):\n",
    "    universe = json.loads(universe)"
   ]
  },
  {
   "cell_type": "code",
   "execution_count": 6,
   "id": "16620c48",
   "metadata": {
    "execution": {
     "iopub.execute_input": "2025-08-05T15:57:01.657205Z",
     "iopub.status.busy": "2025-08-05T15:57:01.656686Z",
     "iopub.status.idle": "2025-08-05T15:57:01.686852Z",
     "shell.execute_reply": "2025-08-05T15:57:01.686111Z"
    },
    "papermill": {
     "duration": 0.040923,
     "end_time": "2025-08-05T15:57:01.688079",
     "exception": false,
     "start_time": "2025-08-05T15:57:01.647156",
     "status": "completed"
    },
    "tags": []
   },
   "outputs": [],
   "source": [
    "# Auto-reload the custom package\n",
    "%load_ext autoreload\n",
    "%autoreload 1\n",
    "%aimport fairness_multiverse"
   ]
  },
  {
   "cell_type": "code",
   "execution_count": 7,
   "id": "01c5c9f3",
   "metadata": {
    "execution": {
     "iopub.execute_input": "2025-08-05T15:57:01.707791Z",
     "iopub.status.busy": "2025-08-05T15:57:01.707064Z",
     "iopub.status.idle": "2025-08-05T15:57:03.182457Z",
     "shell.execute_reply": "2025-08-05T15:57:03.181407Z"
    },
    "papermill": {
     "duration": 1.486432,
     "end_time": "2025-08-05T15:57:03.184046",
     "exception": false,
     "start_time": "2025-08-05T15:57:01.697614",
     "status": "completed"
    },
    "tags": []
   },
   "outputs": [],
   "source": [
    "from fairness_multiverse.universe import UniverseAnalysis\n",
    "\n",
    "universe_analysis = UniverseAnalysis(\n",
    "    run_no = run_no,\n",
    "    universe_id = universe_id,\n",
    "    universe = universe,\n",
    "    output_dir=output_dir,\n",
    ")"
   ]
  },
  {
   "cell_type": "code",
   "execution_count": 8,
   "id": "106241f5",
   "metadata": {
    "execution": {
     "iopub.execute_input": "2025-08-05T15:57:03.204676Z",
     "iopub.status.busy": "2025-08-05T15:57:03.203870Z",
     "iopub.status.idle": "2025-08-05T15:57:03.210274Z",
     "shell.execute_reply": "2025-08-05T15:57:03.209196Z"
    },
    "papermill": {
     "duration": 0.01784,
     "end_time": "2025-08-05T15:57:03.211888",
     "exception": false,
     "start_time": "2025-08-05T15:57:03.194048",
     "status": "completed"
    },
    "tags": []
   },
   "outputs": [
    {
     "name": "stdout",
     "output_type": "stream",
     "text": [
      "Using Seed: 2023\n"
     ]
    }
   ],
   "source": [
    "import numpy as np\n",
    "parsed_seed = int(seed)\n",
    "np.random.seed(parsed_seed)\n",
    "print(f\"Using Seed: {parsed_seed}\")"
   ]
  },
  {
   "cell_type": "markdown",
   "id": "e0ebdc57",
   "metadata": {
    "papermill": {
     "duration": 0.009063,
     "end_time": "2025-08-05T15:57:03.231151",
     "exception": false,
     "start_time": "2025-08-05T15:57:03.222088",
     "status": "completed"
    },
    "tags": []
   },
   "source": [
    "# Loading Data"
   ]
  },
  {
   "cell_type": "code",
   "execution_count": 9,
   "id": "f0496b8a",
   "metadata": {
    "execution": {
     "iopub.execute_input": "2025-08-05T15:57:03.250724Z",
     "iopub.status.busy": "2025-08-05T15:57:03.249905Z",
     "iopub.status.idle": "2025-08-05T15:57:14.611161Z",
     "shell.execute_reply": "2025-08-05T15:57:14.610063Z"
    },
    "papermill": {
     "duration": 11.372488,
     "end_time": "2025-08-05T15:57:14.612544",
     "exception": false,
     "start_time": "2025-08-05T15:57:03.240056",
     "status": "completed"
    },
    "tags": []
   },
   "outputs": [
    {
     "name": "stdout",
     "output_type": "stream",
     "text": [
      "Loading SIAB data from cache: data/siab_cached.csv.gz\n"
     ]
    },
    {
     "name": "stdout",
     "output_type": "stream",
     "text": [
      "(643690, 164)\n"
     ]
    }
   ],
   "source": [
    "from pathlib import Path\n",
    "import pandas as pd\n",
    "\n",
    "# File paths\n",
    "raw_file = Path(\"data/raw/siab.csv\")\n",
    "cache_file = Path(\"data/siab_cached.csv.gz\")\n",
    "\n",
    "# Ensure cache directory exists\n",
    "cache_file.parent.mkdir(parents=True, exist_ok=True)\n",
    "\n",
    "# Load with simple caching\n",
    "if cache_file.exists():\n",
    "    print(f\"Loading SIAB data from cache: {cache_file}\")\n",
    "    siab = pd.read_csv(cache_file, compression='gzip')\n",
    "else:\n",
    "    print(f\"Cache not found. Reading raw SIAB data: {raw_file}\")\n",
    "    siab = pd.read_csv(raw_file)\n",
    "    siab.to_csv(cache_file, index=False, compression='gzip')\n",
    "    print(f\"Cached SIAB data to: {cache_file}\")\n",
    "\n",
    "print(siab.shape)"
   ]
  },
  {
   "cell_type": "code",
   "execution_count": 10,
   "id": "db0ca512-5f53-4dba-abdb-a2888bca41ba",
   "metadata": {
    "execution": {
     "iopub.execute_input": "2025-08-05T15:57:14.635505Z",
     "iopub.status.busy": "2025-08-05T15:57:14.634825Z",
     "iopub.status.idle": "2025-08-05T15:57:14.640261Z",
     "shell.execute_reply": "2025-08-05T15:57:14.639492Z"
    },
    "papermill": {
     "duration": 0.017077,
     "end_time": "2025-08-05T15:57:14.641728",
     "exception": false,
     "start_time": "2025-08-05T15:57:14.624651",
     "status": "completed"
    },
    "tags": []
   },
   "outputs": [],
   "source": [
    "#siab"
   ]
  },
  {
   "cell_type": "markdown",
   "id": "997051c5-15bd-4b69-9786-c3001a3ce484",
   "metadata": {
    "papermill": {
     "duration": 0.009293,
     "end_time": "2025-08-05T15:57:14.661295",
     "exception": false,
     "start_time": "2025-08-05T15:57:14.652002",
     "status": "completed"
    },
    "tags": []
   },
   "source": [
    "# Splitting Data and Setting Training Data Size"
   ]
  },
  {
   "cell_type": "code",
   "execution_count": 11,
   "id": "aea9c6ef-6f46-42c8-85eb-5a62025c1508",
   "metadata": {
    "execution": {
     "iopub.execute_input": "2025-08-05T15:57:14.680466Z",
     "iopub.status.busy": "2025-08-05T15:57:14.679793Z",
     "iopub.status.idle": "2025-08-05T15:57:15.626578Z",
     "shell.execute_reply": "2025-08-05T15:57:15.625511Z"
    },
    "papermill": {
     "duration": 0.958425,
     "end_time": "2025-08-05T15:57:15.628549",
     "exception": false,
     "start_time": "2025-08-05T15:57:14.670124",
     "status": "completed"
    },
    "tags": []
   },
   "outputs": [],
   "source": [
    "from fairness_multiverse.universe import sample_by_year_size\n",
    "\n",
    "siab_train = sample_by_year_size(siab,\n",
    "                               training_year=universe[\"training_year\"],\n",
    "                               training_size=universe[\"training_size\"])"
   ]
  },
  {
   "cell_type": "code",
   "execution_count": 12,
   "id": "8d3afb32-789d-442c-8d5d-9f5aa8dd2eed",
   "metadata": {
    "execution": {
     "iopub.execute_input": "2025-08-05T15:57:15.666840Z",
     "iopub.status.busy": "2025-08-05T15:57:15.666353Z",
     "iopub.status.idle": "2025-08-05T15:57:15.671268Z",
     "shell.execute_reply": "2025-08-05T15:57:15.670279Z"
    },
    "papermill": {
     "duration": 0.026093,
     "end_time": "2025-08-05T15:57:15.673228",
     "exception": false,
     "start_time": "2025-08-05T15:57:15.647135",
     "status": "completed"
    },
    "tags": []
   },
   "outputs": [],
   "source": [
    "#siab_train.shape"
   ]
  },
  {
   "cell_type": "code",
   "execution_count": 13,
   "id": "d582db68-1a4c-47fb-84fc-08518dc1975a",
   "metadata": {
    "execution": {
     "iopub.execute_input": "2025-08-05T15:57:15.712098Z",
     "iopub.status.busy": "2025-08-05T15:57:15.711180Z",
     "iopub.status.idle": "2025-08-05T15:57:15.716786Z",
     "shell.execute_reply": "2025-08-05T15:57:15.715637Z"
    },
    "papermill": {
     "duration": 0.027021,
     "end_time": "2025-08-05T15:57:15.718696",
     "exception": false,
     "start_time": "2025-08-05T15:57:15.691675",
     "status": "completed"
    },
    "tags": []
   },
   "outputs": [],
   "source": [
    "#display(siab_train.groupby(\"year\").size())"
   ]
  },
  {
   "cell_type": "code",
   "execution_count": 14,
   "id": "a561edb4-d032-42cb-8256-22eac1111c64",
   "metadata": {
    "execution": {
     "iopub.execute_input": "2025-08-05T15:57:15.757658Z",
     "iopub.status.busy": "2025-08-05T15:57:15.756871Z",
     "iopub.status.idle": "2025-08-05T15:57:15.996211Z",
     "shell.execute_reply": "2025-08-05T15:57:15.995213Z"
    },
    "papermill": {
     "duration": 0.260571,
     "end_time": "2025-08-05T15:57:15.998288",
     "exception": false,
     "start_time": "2025-08-05T15:57:15.737717",
     "status": "completed"
    },
    "tags": []
   },
   "outputs": [],
   "source": [
    "#siab_train = siab_s[siab_s.year < 2015]\n",
    "siab_calib = siab[siab.year == 2015]\n",
    "siab_test = siab[siab.year == 2016]"
   ]
  },
  {
   "cell_type": "code",
   "execution_count": 15,
   "id": "472de16f-c3db-4916-846b-1f0de9cf1746",
   "metadata": {
    "execution": {
     "iopub.execute_input": "2025-08-05T15:57:16.040440Z",
     "iopub.status.busy": "2025-08-05T15:57:16.040031Z",
     "iopub.status.idle": "2025-08-05T15:57:16.047905Z",
     "shell.execute_reply": "2025-08-05T15:57:16.046906Z"
    },
    "papermill": {
     "duration": 0.030291,
     "end_time": "2025-08-05T15:57:16.049936",
     "exception": false,
     "start_time": "2025-08-05T15:57:16.019645",
     "status": "completed"
    },
    "tags": []
   },
   "outputs": [],
   "source": [
    "X_train = siab_train.iloc[:,4:164]\n",
    "y_train = siab_train.iloc[:, [3]]"
   ]
  },
  {
   "cell_type": "code",
   "execution_count": 16,
   "id": "828c96af-f43a-4ed6-ba47-8ac73a47d56c",
   "metadata": {
    "execution": {
     "iopub.execute_input": "2025-08-05T15:57:16.091351Z",
     "iopub.status.busy": "2025-08-05T15:57:16.090442Z",
     "iopub.status.idle": "2025-08-05T15:57:16.142492Z",
     "shell.execute_reply": "2025-08-05T15:57:16.141282Z"
    },
    "papermill": {
     "duration": 0.074271,
     "end_time": "2025-08-05T15:57:16.144813",
     "exception": false,
     "start_time": "2025-08-05T15:57:16.070542",
     "status": "completed"
    },
    "tags": []
   },
   "outputs": [],
   "source": [
    "X_calib = siab_calib.iloc[:,4:164]\n",
    "y_calib = siab_calib.iloc[:, [3]]"
   ]
  },
  {
   "cell_type": "code",
   "execution_count": 17,
   "id": "c34be9c3-6bd6-476e-acd3-845840e303be",
   "metadata": {
    "execution": {
     "iopub.execute_input": "2025-08-05T15:57:16.187185Z",
     "iopub.status.busy": "2025-08-05T15:57:16.186154Z",
     "iopub.status.idle": "2025-08-05T15:57:16.240295Z",
     "shell.execute_reply": "2025-08-05T15:57:16.239085Z"
    },
    "papermill": {
     "duration": 0.077976,
     "end_time": "2025-08-05T15:57:16.242694",
     "exception": false,
     "start_time": "2025-08-05T15:57:16.164718",
     "status": "completed"
    },
    "tags": []
   },
   "outputs": [],
   "source": [
    "X_test = siab_test.iloc[:,4:164]\n",
    "y_true = siab_test.iloc[:, [3]]"
   ]
  },
  {
   "cell_type": "code",
   "execution_count": 18,
   "id": "e6c733c5",
   "metadata": {
    "execution": {
     "iopub.execute_input": "2025-08-05T15:57:16.283582Z",
     "iopub.status.busy": "2025-08-05T15:57:16.282686Z",
     "iopub.status.idle": "2025-08-05T15:57:16.379588Z",
     "shell.execute_reply": "2025-08-05T15:57:16.378591Z"
    },
    "papermill": {
     "duration": 0.118961,
     "end_time": "2025-08-05T15:57:16.381614",
     "exception": false,
     "start_time": "2025-08-05T15:57:16.262653",
     "status": "completed"
    },
    "tags": []
   },
   "outputs": [],
   "source": [
    "# Auxiliary data needed downstream in the pipeline\n",
    "\n",
    "org_train = X_train.copy()\n",
    "org_test = X_test.copy()\n",
    "org_calib = X_calib.copy()"
   ]
  },
  {
   "cell_type": "markdown",
   "id": "0a4a1b33",
   "metadata": {
    "papermill": {
     "duration": 0.018448,
     "end_time": "2025-08-05T15:57:16.419114",
     "exception": false,
     "start_time": "2025-08-05T15:57:16.400666",
     "status": "completed"
    },
    "tags": []
   },
   "source": [
    "# Preprocessing Data"
   ]
  },
  {
   "cell_type": "code",
   "execution_count": 19,
   "id": "ca879031",
   "metadata": {
    "execution": {
     "iopub.execute_input": "2025-08-05T15:57:16.456315Z",
     "iopub.status.busy": "2025-08-05T15:57:16.455599Z",
     "iopub.status.idle": "2025-08-05T15:57:16.462042Z",
     "shell.execute_reply": "2025-08-05T15:57:16.460875Z"
    },
    "papermill": {
     "duration": 0.026936,
     "end_time": "2025-08-05T15:57:16.463820",
     "exception": false,
     "start_time": "2025-08-05T15:57:16.436884",
     "status": "completed"
    },
    "tags": []
   },
   "outputs": [],
   "source": [
    "# EXCLUDE PROTECTED FEATURES\n",
    "# ----------------------\n",
    "# \"exclude_features\": \"none\", # \"nationality\", \"sex\", \"nationality-sex\"\n",
    "\n",
    "excluded_features = universe[\"exclude_features\"].split(\"-\") # split, e.g.: \"nationality-sex\" -> [\"nationality\", \"sex\"]\n",
    "excluded_features_dictionary = {\n",
    "    \"nationality\": [\"maxdeutsch1\", \"maxdeutsch.Missing.\"],\n",
    "    \"sex\": [\"frau1\"],\n",
    "    \"age\": [\"age\"],\n",
    "}"
   ]
  },
  {
   "cell_type": "code",
   "execution_count": 20,
   "id": "b745ac60",
   "metadata": {
    "execution": {
     "iopub.execute_input": "2025-08-05T15:57:16.504159Z",
     "iopub.status.busy": "2025-08-05T15:57:16.503479Z",
     "iopub.status.idle": "2025-08-05T15:57:16.509212Z",
     "shell.execute_reply": "2025-08-05T15:57:16.508210Z"
    },
    "papermill": {
     "duration": 0.027876,
     "end_time": "2025-08-05T15:57:16.511073",
     "exception": false,
     "start_time": "2025-08-05T15:57:16.483197",
     "status": "completed"
    },
    "tags": []
   },
   "outputs": [],
   "source": [
    "# Code nice names to column names\n",
    "\n",
    "excluded_features_columns = [\n",
    "    excluded_features_dictionary[f] for f in excluded_features if len(f) > 0 and f != \"none\"\n",
    "]"
   ]
  },
  {
   "cell_type": "code",
   "execution_count": 21,
   "id": "f84f73a2",
   "metadata": {
    "execution": {
     "iopub.execute_input": "2025-08-05T15:57:16.552443Z",
     "iopub.status.busy": "2025-08-05T15:57:16.551775Z",
     "iopub.status.idle": "2025-08-05T15:57:16.559866Z",
     "shell.execute_reply": "2025-08-05T15:57:16.558781Z"
    },
    "papermill": {
     "duration": 0.031029,
     "end_time": "2025-08-05T15:57:16.561604",
     "exception": false,
     "start_time": "2025-08-05T15:57:16.530575",
     "status": "completed"
    },
    "tags": []
   },
   "outputs": [],
   "source": [
    "from utils import flatten_once\n",
    "\n",
    "excluded_features_columns = flatten_once(excluded_features_columns)"
   ]
  },
  {
   "cell_type": "code",
   "execution_count": 22,
   "id": "884dea22",
   "metadata": {
    "execution": {
     "iopub.execute_input": "2025-08-05T15:57:16.603084Z",
     "iopub.status.busy": "2025-08-05T15:57:16.602237Z",
     "iopub.status.idle": "2025-08-05T15:57:16.612230Z",
     "shell.execute_reply": "2025-08-05T15:57:16.611125Z"
    },
    "papermill": {
     "duration": 0.03189,
     "end_time": "2025-08-05T15:57:16.614301",
     "exception": false,
     "start_time": "2025-08-05T15:57:16.582411",
     "status": "completed"
    },
    "tags": []
   },
   "outputs": [
    {
     "name": "stdout",
     "output_type": "stream",
     "text": [
      "Dropping features: ['age']\n"
     ]
    }
   ],
   "source": [
    "if len(excluded_features_columns) > 0:\n",
    "    print(f\"Dropping features: {excluded_features_columns}\")\n",
    "    X_train.drop(excluded_features_columns, axis=1, inplace=True)"
   ]
  },
  {
   "cell_type": "code",
   "execution_count": 23,
   "id": "95ab8b16",
   "metadata": {
    "execution": {
     "iopub.execute_input": "2025-08-05T15:57:16.654885Z",
     "iopub.status.busy": "2025-08-05T15:57:16.653939Z",
     "iopub.status.idle": "2025-08-05T15:57:16.707983Z",
     "shell.execute_reply": "2025-08-05T15:57:16.706812Z"
    },
    "papermill": {
     "duration": 0.075933,
     "end_time": "2025-08-05T15:57:16.709736",
     "exception": false,
     "start_time": "2025-08-05T15:57:16.633803",
     "status": "completed"
    },
    "tags": []
   },
   "outputs": [
    {
     "name": "stdout",
     "output_type": "stream",
     "text": [
      "Dropping features: ['age']\n"
     ]
    }
   ],
   "source": [
    "if len(excluded_features_columns) > 0:\n",
    "    print(f\"Dropping features: {excluded_features_columns}\")\n",
    "    X_test.drop(excluded_features_columns, axis=1, inplace=True)"
   ]
  },
  {
   "cell_type": "code",
   "execution_count": 24,
   "id": "1853aaf5-fb9f-46cb-a2b5-8ea4ae2237e4",
   "metadata": {
    "execution": {
     "iopub.execute_input": "2025-08-05T15:57:16.750943Z",
     "iopub.status.busy": "2025-08-05T15:57:16.750026Z",
     "iopub.status.idle": "2025-08-05T15:57:16.804105Z",
     "shell.execute_reply": "2025-08-05T15:57:16.803110Z"
    },
    "papermill": {
     "duration": 0.076584,
     "end_time": "2025-08-05T15:57:16.806307",
     "exception": false,
     "start_time": "2025-08-05T15:57:16.729723",
     "status": "completed"
    },
    "tags": []
   },
   "outputs": [
    {
     "name": "stdout",
     "output_type": "stream",
     "text": [
      "Dropping features: ['age']\n"
     ]
    }
   ],
   "source": [
    "if len(excluded_features_columns) > 0:\n",
    "    print(f\"Dropping features: {excluded_features_columns}\")\n",
    "    X_calib.drop(excluded_features_columns, axis=1, inplace=True)"
   ]
  },
  {
   "cell_type": "code",
   "execution_count": 25,
   "id": "76c4dc6d",
   "metadata": {
    "execution": {
     "iopub.execute_input": "2025-08-05T15:57:16.847005Z",
     "iopub.status.busy": "2025-08-05T15:57:16.846314Z",
     "iopub.status.idle": "2025-08-05T15:57:16.852555Z",
     "shell.execute_reply": "2025-08-05T15:57:16.851429Z"
    },
    "papermill": {
     "duration": 0.028751,
     "end_time": "2025-08-05T15:57:16.854391",
     "exception": false,
     "start_time": "2025-08-05T15:57:16.825640",
     "status": "completed"
    },
    "tags": []
   },
   "outputs": [],
   "source": [
    "# EXCLUDE CERTAIN SUBGROUPS\n",
    "# ----------------------\n",
    "\n",
    "mode = universe.get(\"exclude_subgroups\", \"keep-all\") \n",
    "# Fetches the exclude_subgroups setting from the universe dict.\n",
    "# Defaults to \"keep-all\" if the key is missing."
   ]
  },
  {
   "cell_type": "code",
   "execution_count": 26,
   "id": "21994072",
   "metadata": {
    "execution": {
     "iopub.execute_input": "2025-08-05T15:57:16.894095Z",
     "iopub.status.busy": "2025-08-05T15:57:16.893356Z",
     "iopub.status.idle": "2025-08-05T15:57:16.900571Z",
     "shell.execute_reply": "2025-08-05T15:57:16.899428Z"
    },
    "papermill": {
     "duration": 0.028573,
     "end_time": "2025-08-05T15:57:16.902537",
     "exception": false,
     "start_time": "2025-08-05T15:57:16.873964",
     "status": "completed"
    },
    "tags": []
   },
   "outputs": [],
   "source": [
    "if mode == \"keep-all\":\n",
    "    keep_mask = pd.Series(True, index=org_train.index)\n",
    "\n",
    "# org_train contains the original feature columns from features_org (in Simson)\n",
    "# features_org contains unprocessed features, for me X_train at beginning ???\n",
    "# For keep-all, creates a boolean Series (keep_mask) of all True, so no rows are removed.\n",
    "\n",
    "elif mode == \"drop-non-german\":\n",
    "    keep_mask = org_train[\"maxdeutsch1\"] == 1 # ??? what about missing values?\n",
    "\n",
    "else:\n",
    "    raise ValueError(f\"Unsupported mode for exclude_subgroups: {mode}\")"
   ]
  },
  {
   "cell_type": "code",
   "execution_count": 27,
   "id": "71651440",
   "metadata": {
    "execution": {
     "iopub.execute_input": "2025-08-05T15:57:16.943463Z",
     "iopub.status.busy": "2025-08-05T15:57:16.942644Z",
     "iopub.status.idle": "2025-08-05T15:57:16.949554Z",
     "shell.execute_reply": "2025-08-05T15:57:16.948475Z"
    },
    "papermill": {
     "duration": 0.028491,
     "end_time": "2025-08-05T15:57:16.951492",
     "exception": false,
     "start_time": "2025-08-05T15:57:16.923001",
     "status": "completed"
    },
    "tags": []
   },
   "outputs": [],
   "source": [
    "n_drop = (~keep_mask).sum() # Calculates how many rows are set to be dropped\n",
    "if n_drop > 0:\n",
    "    pct = n_drop / len(keep_mask) * 100\n",
    "    print(f\"Dropping {n_drop} rows ({pct:.2f}%) where mode='{mode}'\")"
   ]
  },
  {
   "cell_type": "code",
   "execution_count": 28,
   "id": "5fb8eee5",
   "metadata": {
    "execution": {
     "iopub.execute_input": "2025-08-05T15:57:16.995272Z",
     "iopub.status.busy": "2025-08-05T15:57:16.994326Z",
     "iopub.status.idle": "2025-08-05T15:57:17.002727Z",
     "shell.execute_reply": "2025-08-05T15:57:17.001593Z"
    },
    "papermill": {
     "duration": 0.030889,
     "end_time": "2025-08-05T15:57:17.004442",
     "exception": false,
     "start_time": "2025-08-05T15:57:16.973553",
     "status": "completed"
    },
    "tags": []
   },
   "outputs": [],
   "source": [
    "X_train = X_train[keep_mask]"
   ]
  },
  {
   "cell_type": "code",
   "execution_count": 29,
   "id": "b202bb3a",
   "metadata": {
    "execution": {
     "iopub.execute_input": "2025-08-05T15:57:17.047484Z",
     "iopub.status.busy": "2025-08-05T15:57:17.046746Z",
     "iopub.status.idle": "2025-08-05T15:57:17.053377Z",
     "shell.execute_reply": "2025-08-05T15:57:17.052311Z"
    },
    "papermill": {
     "duration": 0.035229,
     "end_time": "2025-08-05T15:57:17.060274",
     "exception": false,
     "start_time": "2025-08-05T15:57:17.025045",
     "status": "completed"
    },
    "tags": []
   },
   "outputs": [],
   "source": [
    "y_train = y_train[keep_mask]"
   ]
  },
  {
   "cell_type": "markdown",
   "id": "493e2ac3",
   "metadata": {
    "papermill": {
     "duration": 0.020129,
     "end_time": "2025-08-05T15:57:17.100777",
     "exception": false,
     "start_time": "2025-08-05T15:57:17.080648",
     "status": "completed"
    },
    "tags": []
   },
   "source": [
    "# Model Training"
   ]
  },
  {
   "cell_type": "code",
   "execution_count": 30,
   "id": "679e1268",
   "metadata": {
    "execution": {
     "iopub.execute_input": "2025-08-05T15:57:17.143995Z",
     "iopub.status.busy": "2025-08-05T15:57:17.143016Z",
     "iopub.status.idle": "2025-08-05T15:57:17.254956Z",
     "shell.execute_reply": "2025-08-05T15:57:17.254015Z"
    },
    "papermill": {
     "duration": 0.1348,
     "end_time": "2025-08-05T15:57:17.256844",
     "exception": false,
     "start_time": "2025-08-05T15:57:17.122044",
     "status": "completed"
    },
    "tags": []
   },
   "outputs": [],
   "source": [
    "from sklearn.linear_model import LogisticRegression\n",
    "from sklearn.ensemble import GradientBoostingClassifier, RandomForestClassifier\n",
    "\n",
    "if (universe[\"model\"] == \"logreg\"):\n",
    "    model = LogisticRegression() #penalty=\"none\", solver=\"newton-cg\", max_iter=1) # include random_state=19 ?\n",
    "elif (universe[\"model\"] == \"penalized_logreg\"):\n",
    "    model = LogisticRegression(penalty=\"l2\", C=0.1) #, solver=\"newton-cg\", max_iter=1)\n",
    "elif (universe[\"model\"] == \"rf\"):\n",
    "    model = RandomForestClassifier() # n_estimators=100, n_jobs=-1\n",
    "elif (universe[\"model\"] == \"gbm\"):\n",
    "    model = GradientBoostingClassifier()\n",
    "elif (universe[\"model\"] == \"elasticnet\"):\n",
    "    model = LogisticRegression(penalty = 'elasticnet', solver = 'saga', l1_ratio = 0.5) # max_iter=5000\n",
    "else:\n",
    "    raise \"Unsupported universe.model\""
   ]
  },
  {
   "cell_type": "code",
   "execution_count": 31,
   "id": "0cc8f744",
   "metadata": {
    "execution": {
     "iopub.execute_input": "2025-08-05T15:57:17.299720Z",
     "iopub.status.busy": "2025-08-05T15:57:17.298937Z",
     "iopub.status.idle": "2025-08-05T15:57:17.305924Z",
     "shell.execute_reply": "2025-08-05T15:57:17.304767Z"
    },
    "papermill": {
     "duration": 0.029906,
     "end_time": "2025-08-05T15:57:17.307754",
     "exception": false,
     "start_time": "2025-08-05T15:57:17.277848",
     "status": "completed"
    },
    "tags": []
   },
   "outputs": [],
   "source": [
    "import numpy as np\n",
    "from sklearn.pipeline import Pipeline\n",
    "from sklearn.preprocessing import StandardScaler\n",
    "\n",
    "model = Pipeline([\n",
    "    #(\"continuous_processor\", continuous_processor),\n",
    "    #(\"categorical_preprocessor\", categorical_preprocessor),\n",
    "    (\"scale\", StandardScaler() if universe[\"scale\"] == \"scale\" else None), \n",
    "    (\"model\", model),\n",
    "])"
   ]
  },
  {
   "cell_type": "code",
   "execution_count": 32,
   "id": "9442c04d",
   "metadata": {
    "execution": {
     "iopub.execute_input": "2025-08-05T15:57:17.349154Z",
     "iopub.status.busy": "2025-08-05T15:57:17.348438Z",
     "iopub.status.idle": "2025-08-05T15:57:17.504746Z",
     "shell.execute_reply": "2025-08-05T15:57:17.503799Z"
    },
    "papermill": {
     "duration": 0.179058,
     "end_time": "2025-08-05T15:57:17.507230",
     "exception": false,
     "start_time": "2025-08-05T15:57:17.328172",
     "status": "completed"
    },
    "tags": []
   },
   "outputs": [
    {
     "name": "stderr",
     "output_type": "stream",
     "text": [
      "/dss/dsshome1/0C/ra93lal2/.local/share/virtualenvs/CMA_Fairness_v2-3j10GkSs/lib/python3.10/site-packages/sklearn/linear_model/_logistic.py:444: ConvergenceWarning: lbfgs failed to converge (status=1):\n",
      "STOP: TOTAL NO. of ITERATIONS REACHED LIMIT.\n",
      "\n",
      "Increase the number of iterations (max_iter) or scale the data as shown in:\n",
      "    https://scikit-learn.org/stable/modules/preprocessing.html\n",
      "Please also refer to the documentation for alternative solver options:\n",
      "    https://scikit-learn.org/stable/modules/linear_model.html#logistic-regression\n",
      "  n_iter_i = _check_optimize_result(\n"
     ]
    },
    {
     "data": {
      "text/html": [
       "<style>#sk-container-id-1 {color: black;background-color: white;}#sk-container-id-1 pre{padding: 0;}#sk-container-id-1 div.sk-toggleable {background-color: white;}#sk-container-id-1 label.sk-toggleable__label {cursor: pointer;display: block;width: 100%;margin-bottom: 0;padding: 0.3em;box-sizing: border-box;text-align: center;}#sk-container-id-1 label.sk-toggleable__label-arrow:before {content: \"▸\";float: left;margin-right: 0.25em;color: #696969;}#sk-container-id-1 label.sk-toggleable__label-arrow:hover:before {color: black;}#sk-container-id-1 div.sk-estimator:hover label.sk-toggleable__label-arrow:before {color: black;}#sk-container-id-1 div.sk-toggleable__content {max-height: 0;max-width: 0;overflow: hidden;text-align: left;background-color: #f0f8ff;}#sk-container-id-1 div.sk-toggleable__content pre {margin: 0.2em;color: black;border-radius: 0.25em;background-color: #f0f8ff;}#sk-container-id-1 input.sk-toggleable__control:checked~div.sk-toggleable__content {max-height: 200px;max-width: 100%;overflow: auto;}#sk-container-id-1 input.sk-toggleable__control:checked~label.sk-toggleable__label-arrow:before {content: \"▾\";}#sk-container-id-1 div.sk-estimator input.sk-toggleable__control:checked~label.sk-toggleable__label {background-color: #d4ebff;}#sk-container-id-1 div.sk-label input.sk-toggleable__control:checked~label.sk-toggleable__label {background-color: #d4ebff;}#sk-container-id-1 input.sk-hidden--visually {border: 0;clip: rect(1px 1px 1px 1px);clip: rect(1px, 1px, 1px, 1px);height: 1px;margin: -1px;overflow: hidden;padding: 0;position: absolute;width: 1px;}#sk-container-id-1 div.sk-estimator {font-family: monospace;background-color: #f0f8ff;border: 1px dotted black;border-radius: 0.25em;box-sizing: border-box;margin-bottom: 0.5em;}#sk-container-id-1 div.sk-estimator:hover {background-color: #d4ebff;}#sk-container-id-1 div.sk-parallel-item::after {content: \"\";width: 100%;border-bottom: 1px solid gray;flex-grow: 1;}#sk-container-id-1 div.sk-label:hover label.sk-toggleable__label {background-color: #d4ebff;}#sk-container-id-1 div.sk-serial::before {content: \"\";position: absolute;border-left: 1px solid gray;box-sizing: border-box;top: 0;bottom: 0;left: 50%;z-index: 0;}#sk-container-id-1 div.sk-serial {display: flex;flex-direction: column;align-items: center;background-color: white;padding-right: 0.2em;padding-left: 0.2em;position: relative;}#sk-container-id-1 div.sk-item {position: relative;z-index: 1;}#sk-container-id-1 div.sk-parallel {display: flex;align-items: stretch;justify-content: center;background-color: white;position: relative;}#sk-container-id-1 div.sk-item::before, #sk-container-id-1 div.sk-parallel-item::before {content: \"\";position: absolute;border-left: 1px solid gray;box-sizing: border-box;top: 0;bottom: 0;left: 50%;z-index: -1;}#sk-container-id-1 div.sk-parallel-item {display: flex;flex-direction: column;z-index: 1;position: relative;background-color: white;}#sk-container-id-1 div.sk-parallel-item:first-child::after {align-self: flex-end;width: 50%;}#sk-container-id-1 div.sk-parallel-item:last-child::after {align-self: flex-start;width: 50%;}#sk-container-id-1 div.sk-parallel-item:only-child::after {width: 0;}#sk-container-id-1 div.sk-dashed-wrapped {border: 1px dashed gray;margin: 0 0.4em 0.5em 0.4em;box-sizing: border-box;padding-bottom: 0.4em;background-color: white;}#sk-container-id-1 div.sk-label label {font-family: monospace;font-weight: bold;display: inline-block;line-height: 1.2em;}#sk-container-id-1 div.sk-label-container {text-align: center;}#sk-container-id-1 div.sk-container {/* jupyter's `normalize.less` sets `[hidden] { display: none; }` but bootstrap.min.css set `[hidden] { display: none !important; }` so we also need the `!important` here to be able to override the default hidden behavior on the sphinx rendered scikit-learn.org. See: https://github.com/scikit-learn/scikit-learn/issues/21755 */display: inline-block !important;position: relative;}#sk-container-id-1 div.sk-text-repr-fallback {display: none;}</style><div id=\"sk-container-id-1\" class=\"sk-top-container\"><div class=\"sk-text-repr-fallback\"><pre>Pipeline(steps=[(&#x27;scale&#x27;, None), (&#x27;model&#x27;, LogisticRegression(C=0.1))])</pre><b>In a Jupyter environment, please rerun this cell to show the HTML representation or trust the notebook. <br />On GitHub, the HTML representation is unable to render, please try loading this page with nbviewer.org.</b></div><div class=\"sk-container\" hidden><div class=\"sk-item sk-dashed-wrapped\"><div class=\"sk-label-container\"><div class=\"sk-label sk-toggleable\"><input class=\"sk-toggleable__control sk-hidden--visually\" id=\"sk-estimator-id-1\" type=\"checkbox\" ><label for=\"sk-estimator-id-1\" class=\"sk-toggleable__label sk-toggleable__label-arrow\">Pipeline</label><div class=\"sk-toggleable__content\"><pre>Pipeline(steps=[(&#x27;scale&#x27;, None), (&#x27;model&#x27;, LogisticRegression(C=0.1))])</pre></div></div></div><div class=\"sk-serial\"><div class=\"sk-item\"><div class=\"sk-estimator sk-toggleable\"><input class=\"sk-toggleable__control sk-hidden--visually\" id=\"sk-estimator-id-2\" type=\"checkbox\" ><label for=\"sk-estimator-id-2\" class=\"sk-toggleable__label sk-toggleable__label-arrow\">None</label><div class=\"sk-toggleable__content\"><pre>None</pre></div></div></div><div class=\"sk-item\"><div class=\"sk-estimator sk-toggleable\"><input class=\"sk-toggleable__control sk-hidden--visually\" id=\"sk-estimator-id-3\" type=\"checkbox\" ><label for=\"sk-estimator-id-3\" class=\"sk-toggleable__label sk-toggleable__label-arrow\">LogisticRegression</label><div class=\"sk-toggleable__content\"><pre>LogisticRegression(C=0.1)</pre></div></div></div></div></div></div></div>"
      ],
      "text/plain": [
       "Pipeline(steps=[('scale', None), ('model', LogisticRegression(C=0.1))])"
      ]
     },
     "execution_count": 32,
     "metadata": {},
     "output_type": "execute_result"
    }
   ],
   "source": [
    "model.fit(X_train, y_train.values.ravel())"
   ]
  },
  {
   "cell_type": "code",
   "execution_count": 33,
   "id": "af59f8c0",
   "metadata": {
    "execution": {
     "iopub.execute_input": "2025-08-05T15:57:17.548887Z",
     "iopub.status.busy": "2025-08-05T15:57:17.548203Z",
     "iopub.status.idle": "2025-08-05T15:57:17.553755Z",
     "shell.execute_reply": "2025-08-05T15:57:17.552642Z"
    },
    "papermill": {
     "duration": 0.028462,
     "end_time": "2025-08-05T15:57:17.555765",
     "exception": false,
     "start_time": "2025-08-05T15:57:17.527303",
     "status": "completed"
    },
    "tags": []
   },
   "outputs": [],
   "source": [
    "from fairness_multiverse.universe import predict_w_threshold"
   ]
  },
  {
   "cell_type": "code",
   "execution_count": 34,
   "id": "a7cf2e16",
   "metadata": {
    "execution": {
     "iopub.execute_input": "2025-08-05T15:57:17.598496Z",
     "iopub.status.busy": "2025-08-05T15:57:17.597795Z",
     "iopub.status.idle": "2025-08-05T15:57:17.703473Z",
     "shell.execute_reply": "2025-08-05T15:57:17.702501Z"
    },
    "papermill": {
     "duration": 0.128338,
     "end_time": "2025-08-05T15:57:17.705184",
     "exception": false,
     "start_time": "2025-08-05T15:57:17.576846",
     "status": "completed"
    },
    "tags": []
   },
   "outputs": [
    {
     "data": {
      "text/plain": [
       "0.8602719875153272"
      ]
     },
     "execution_count": 34,
     "metadata": {},
     "output_type": "execute_result"
    }
   ],
   "source": [
    "probs_test = model.predict_proba(X_test)\n",
    "\n",
    "'''\n",
    "Below code returns a boolean array (or binary 0/1 array depending on how it’s used) where each element \n",
    "is True if the probability of class 1 is greater than or equal to the threshold, and False otherwise.\n",
    "'''\n",
    "y_pred_default = predict_w_threshold(probs_test, 0.5)\n",
    "\n",
    "from sklearn.metrics import accuracy_score\n",
    "\n",
    "# Naive prediction\n",
    "accuracy_score(y_true = y_true, y_pred = y_pred_default)"
   ]
  },
  {
   "cell_type": "code",
   "execution_count": 35,
   "id": "081964c3",
   "metadata": {
    "execution": {
     "iopub.execute_input": "2025-08-05T15:57:17.751297Z",
     "iopub.status.busy": "2025-08-05T15:57:17.750427Z",
     "iopub.status.idle": "2025-08-05T15:57:17.840930Z",
     "shell.execute_reply": "2025-08-05T15:57:17.839766Z"
    },
    "papermill": {
     "duration": 0.114375,
     "end_time": "2025-08-05T15:57:17.843297",
     "exception": false,
     "start_time": "2025-08-05T15:57:17.728922",
     "status": "completed"
    },
    "tags": []
   },
   "outputs": [
    {
     "data": {
      "text/plain": [
       "array([0, 0, 0, ..., 0, 0, 0])"
      ]
     },
     "execution_count": 35,
     "metadata": {},
     "output_type": "execute_result"
    }
   ],
   "source": [
    "model.predict(X_test)"
   ]
  },
  {
   "cell_type": "markdown",
   "id": "56c9705b",
   "metadata": {
    "papermill": {
     "duration": 0.022216,
     "end_time": "2025-08-05T15:57:17.889277",
     "exception": false,
     "start_time": "2025-08-05T15:57:17.867061",
     "status": "completed"
    },
    "tags": []
   },
   "source": [
    "# Conformal Prediction"
   ]
  },
  {
   "cell_type": "code",
   "execution_count": 36,
   "id": "160ec6ff",
   "metadata": {
    "execution": {
     "iopub.execute_input": "2025-08-05T15:57:17.929775Z",
     "iopub.status.busy": "2025-08-05T15:57:17.929235Z",
     "iopub.status.idle": "2025-08-05T15:57:17.934937Z",
     "shell.execute_reply": "2025-08-05T15:57:17.934129Z"
    },
    "papermill": {
     "duration": 0.024099,
     "end_time": "2025-08-05T15:57:17.936301",
     "exception": false,
     "start_time": "2025-08-05T15:57:17.912202",
     "status": "completed"
    },
    "tags": []
   },
   "outputs": [],
   "source": [
    "# Miscoverage level for conformal prediction (10% allowed error rate => 90% target coverage)\n",
    "alpha = 0.1"
   ]
  },
  {
   "cell_type": "code",
   "execution_count": 37,
   "id": "eadf4555-3dd3-440e-8e35-f82a4ad9f855",
   "metadata": {
    "execution": {
     "iopub.execute_input": "2025-08-05T15:57:17.959607Z",
     "iopub.status.busy": "2025-08-05T15:57:17.958894Z",
     "iopub.status.idle": "2025-08-05T15:57:18.037719Z",
     "shell.execute_reply": "2025-08-05T15:57:18.036838Z"
    },
    "papermill": {
     "duration": 0.091373,
     "end_time": "2025-08-05T15:57:18.039228",
     "exception": false,
     "start_time": "2025-08-05T15:57:17.947855",
     "status": "completed"
    },
    "tags": []
   },
   "outputs": [],
   "source": [
    "probs_calib = model.predict_proba(X_calib)"
   ]
  },
  {
   "cell_type": "code",
   "execution_count": 38,
   "id": "2ed93547-6d5d-4983-9b36-1ecb300da49a",
   "metadata": {
    "execution": {
     "iopub.execute_input": "2025-08-05T15:57:18.063164Z",
     "iopub.status.busy": "2025-08-05T15:57:18.062630Z",
     "iopub.status.idle": "2025-08-05T15:57:18.068512Z",
     "shell.execute_reply": "2025-08-05T15:57:18.067526Z"
    },
    "papermill": {
     "duration": 0.019302,
     "end_time": "2025-08-05T15:57:18.070253",
     "exception": false,
     "start_time": "2025-08-05T15:57:18.050951",
     "status": "completed"
    },
    "tags": []
   },
   "outputs": [],
   "source": [
    "y_calib = y_calib.values.ravel().astype(int)"
   ]
  },
  {
   "cell_type": "code",
   "execution_count": 39,
   "id": "65d1320d-f588-4b38-9072-62af1ae97f7d",
   "metadata": {
    "execution": {
     "iopub.execute_input": "2025-08-05T15:57:18.094067Z",
     "iopub.status.busy": "2025-08-05T15:57:18.093503Z",
     "iopub.status.idle": "2025-08-05T15:57:18.100354Z",
     "shell.execute_reply": "2025-08-05T15:57:18.099448Z"
    },
    "papermill": {
     "duration": 0.019824,
     "end_time": "2025-08-05T15:57:18.102003",
     "exception": false,
     "start_time": "2025-08-05T15:57:18.082179",
     "status": "completed"
    },
    "tags": []
   },
   "outputs": [],
   "source": [
    "from fairness_multiverse.conformal import compute_nc_scores\n",
    "\n",
    "# Compute nonconformity scores on calibration set (1 - probability of true class)\n",
    "nc_scores = compute_nc_scores(probs_calib, y_calib)"
   ]
  },
  {
   "cell_type": "code",
   "execution_count": 40,
   "id": "df3b8ca3-53b7-43d5-9667-7c85da7aeda2",
   "metadata": {
    "execution": {
     "iopub.execute_input": "2025-08-05T15:57:18.127139Z",
     "iopub.status.busy": "2025-08-05T15:57:18.126271Z",
     "iopub.status.idle": "2025-08-05T15:57:18.132536Z",
     "shell.execute_reply": "2025-08-05T15:57:18.131634Z"
    },
    "papermill": {
     "duration": 0.019901,
     "end_time": "2025-08-05T15:57:18.134193",
     "exception": false,
     "start_time": "2025-08-05T15:57:18.114292",
     "status": "completed"
    },
    "tags": []
   },
   "outputs": [],
   "source": [
    "from fairness_multiverse.conformal import find_threshold\n",
    "\n",
    "# Find conformal threshold q_hat for the given alpha (split conformal method)\n",
    "q_hat = find_threshold(nc_scores, alpha)"
   ]
  },
  {
   "cell_type": "code",
   "execution_count": 41,
   "id": "4d29e6c1-0ef6-4aa4-b8fe-4fe79b0d033a",
   "metadata": {
    "execution": {
     "iopub.execute_input": "2025-08-05T15:57:18.159278Z",
     "iopub.status.busy": "2025-08-05T15:57:18.158415Z",
     "iopub.status.idle": "2025-08-05T15:57:18.165132Z",
     "shell.execute_reply": "2025-08-05T15:57:18.164218Z"
    },
    "papermill": {
     "duration": 0.019917,
     "end_time": "2025-08-05T15:57:18.166650",
     "exception": false,
     "start_time": "2025-08-05T15:57:18.146733",
     "status": "completed"
    },
    "tags": []
   },
   "outputs": [
    {
     "data": {
      "text/plain": [
       "0.6745151245702137"
      ]
     },
     "execution_count": 41,
     "metadata": {},
     "output_type": "execute_result"
    }
   ],
   "source": [
    "q_hat"
   ]
  },
  {
   "cell_type": "code",
   "execution_count": 42,
   "id": "92460794-cdac-4be2-ba28-f28c0515a6fb",
   "metadata": {
    "execution": {
     "iopub.execute_input": "2025-08-05T15:57:18.191628Z",
     "iopub.status.busy": "2025-08-05T15:57:18.190884Z",
     "iopub.status.idle": "2025-08-05T15:57:18.806349Z",
     "shell.execute_reply": "2025-08-05T15:57:18.805544Z"
    },
    "papermill": {
     "duration": 0.628996,
     "end_time": "2025-08-05T15:57:18.807888",
     "exception": false,
     "start_time": "2025-08-05T15:57:18.178892",
     "status": "completed"
    },
    "tags": []
   },
   "outputs": [],
   "source": [
    "from fairness_multiverse.conformal import predict_conformal_sets\n",
    "\n",
    "# Generate prediction sets for each test example\n",
    "pred_sets = predict_conformal_sets(model, X_test, q_hat)"
   ]
  },
  {
   "cell_type": "code",
   "execution_count": 43,
   "id": "d90c9a65-e6db-4f5d-80cd-e68fb7e46829",
   "metadata": {
    "execution": {
     "iopub.execute_input": "2025-08-05T15:57:18.831500Z",
     "iopub.status.busy": "2025-08-05T15:57:18.831159Z",
     "iopub.status.idle": "2025-08-05T15:57:18.835884Z",
     "shell.execute_reply": "2025-08-05T15:57:18.835021Z"
    },
    "papermill": {
     "duration": 0.017637,
     "end_time": "2025-08-05T15:57:18.837366",
     "exception": false,
     "start_time": "2025-08-05T15:57:18.819729",
     "status": "completed"
    },
    "tags": []
   },
   "outputs": [],
   "source": [
    "y_true = y_true.squeeze()"
   ]
  },
  {
   "cell_type": "code",
   "execution_count": 44,
   "id": "3a58a54a-1e68-46b9-927a-df01f18aebc8",
   "metadata": {
    "execution": {
     "iopub.execute_input": "2025-08-05T15:57:18.861975Z",
     "iopub.status.busy": "2025-08-05T15:57:18.861607Z",
     "iopub.status.idle": "2025-08-05T15:57:19.360761Z",
     "shell.execute_reply": "2025-08-05T15:57:19.359968Z"
    },
    "papermill": {
     "duration": 0.512842,
     "end_time": "2025-08-05T15:57:19.362296",
     "exception": false,
     "start_time": "2025-08-05T15:57:18.849454",
     "status": "completed"
    },
    "tags": []
   },
   "outputs": [],
   "source": [
    "from fairness_multiverse.conformal import evaluate_sets\n",
    "\n",
    "# Evaluate coverage and average set size on test data\n",
    "metrics = evaluate_sets(pred_sets, y_true)"
   ]
  },
  {
   "cell_type": "markdown",
   "id": "2b569c12-9aaa-4c88-98c9-bbcd0cf3ebb8",
   "metadata": {
    "papermill": {
     "duration": 0.010818,
     "end_time": "2025-08-05T15:57:19.384539",
     "exception": false,
     "start_time": "2025-08-05T15:57:19.373721",
     "status": "completed"
    },
    "tags": []
   },
   "source": [
    "# CP Metrics"
   ]
  },
  {
   "cell_type": "code",
   "execution_count": 45,
   "id": "5ce0a5cb-201f-45a0-ade5-94c7f0bd6095",
   "metadata": {
    "execution": {
     "iopub.execute_input": "2025-08-05T15:57:19.408287Z",
     "iopub.status.busy": "2025-08-05T15:57:19.407532Z",
     "iopub.status.idle": "2025-08-05T15:57:19.414249Z",
     "shell.execute_reply": "2025-08-05T15:57:19.413145Z"
    },
    "papermill": {
     "duration": 0.020452,
     "end_time": "2025-08-05T15:57:19.416029",
     "exception": false,
     "start_time": "2025-08-05T15:57:19.395577",
     "status": "completed"
    },
    "tags": []
   },
   "outputs": [
    {
     "data": {
      "text/plain": [
       "{'coverage': 0.9136551109129417, 'avg_size': 1.2539404748634488}"
      ]
     },
     "execution_count": 45,
     "metadata": {},
     "output_type": "execute_result"
    }
   ],
   "source": [
    "metrics"
   ]
  },
  {
   "cell_type": "code",
   "execution_count": 46,
   "id": "9b9a838d-31c9-430b-ae14-12baee460d17",
   "metadata": {
    "execution": {
     "iopub.execute_input": "2025-08-05T15:57:19.441323Z",
     "iopub.status.busy": "2025-08-05T15:57:19.440573Z",
     "iopub.status.idle": "2025-08-05T15:57:19.446445Z",
     "shell.execute_reply": "2025-08-05T15:57:19.445523Z"
    },
    "papermill": {
     "duration": 0.019091,
     "end_time": "2025-08-05T15:57:19.447819",
     "exception": false,
     "start_time": "2025-08-05T15:57:19.428728",
     "status": "completed"
    },
    "tags": []
   },
   "outputs": [],
   "source": [
    "example_universe = universe.copy()\n",
    "universe_training_year = example_universe.get(\"training_year\")\n",
    "universe_training_size = example_universe.get(\"training_size\")\n",
    "universe_scale = example_universe.get(\"scale\")\n",
    "universe_model = example_universe.get(\"model\")\n",
    "universe_exclude_features = example_universe.get(\"exclude_features\")\n",
    "universe_exclude_subgroups = example_universe.get(\"exclude_subgroups\")"
   ]
  },
  {
   "cell_type": "code",
   "execution_count": 47,
   "id": "f4b6a8ac-9dc0-4245-8a91-5b3b5999c4f9",
   "metadata": {
    "execution": {
     "iopub.execute_input": "2025-08-05T15:57:19.473537Z",
     "iopub.status.busy": "2025-08-05T15:57:19.472768Z",
     "iopub.status.idle": "2025-08-05T15:57:19.478553Z",
     "shell.execute_reply": "2025-08-05T15:57:19.477733Z"
    },
    "papermill": {
     "duration": 0.019621,
     "end_time": "2025-08-05T15:57:19.480142",
     "exception": false,
     "start_time": "2025-08-05T15:57:19.460521",
     "status": "completed"
    },
    "tags": []
   },
   "outputs": [],
   "source": [
    "cp_metrics_dict = {\n",
    "    \"universe_id\": [universe_id],\n",
    "    \"universe_training_year\": [universe_training_year],\n",
    "    \"universe_training_size\": [universe_training_size],\n",
    "    \"universe_scale\": [universe_scale],\n",
    "    \"universe_model\": [universe_model],\n",
    "    \"universe_exclude_features\": [universe_exclude_features],\n",
    "    \"universe_exclude_subgroups\": [universe_exclude_subgroups],\n",
    "    \"q_hat\": [q_hat],\n",
    "    \"coverage\": [metrics[\"coverage\"]],\n",
    "    \"avg_size\": [metrics[\"avg_size\"]],\n",
    "}"
   ]
  },
  {
   "cell_type": "code",
   "execution_count": 48,
   "id": "908acbb1-0371-4915-85ca-3fa520d2efe2",
   "metadata": {
    "execution": {
     "iopub.execute_input": "2025-08-05T15:57:19.505501Z",
     "iopub.status.busy": "2025-08-05T15:57:19.504976Z",
     "iopub.status.idle": "2025-08-05T15:57:19.512440Z",
     "shell.execute_reply": "2025-08-05T15:57:19.511571Z"
    },
    "papermill": {
     "duration": 0.021333,
     "end_time": "2025-08-05T15:57:19.513988",
     "exception": false,
     "start_time": "2025-08-05T15:57:19.492655",
     "status": "completed"
    },
    "tags": []
   },
   "outputs": [
    {
     "data": {
      "text/plain": [
       "{'universe_id': ['58d9ab8059c7cc6a656f36057155e994'],\n",
       " 'universe_training_year': ['2010_14'],\n",
       " 'universe_training_size': ['5k'],\n",
       " 'universe_scale': ['do-not-scale'],\n",
       " 'universe_model': ['penalized_logreg'],\n",
       " 'universe_exclude_features': ['age'],\n",
       " 'universe_exclude_subgroups': ['keep-all'],\n",
       " 'q_hat': [0.6745151245702137],\n",
       " 'coverage': [0.9136551109129417],\n",
       " 'avg_size': [1.2539404748634488]}"
      ]
     },
     "execution_count": 48,
     "metadata": {},
     "output_type": "execute_result"
    }
   ],
   "source": [
    "cp_metrics_dict"
   ]
  },
  {
   "cell_type": "code",
   "execution_count": 49,
   "id": "33007efc-14e9-4ec6-97ac-56a455c82265",
   "metadata": {
    "execution": {
     "iopub.execute_input": "2025-08-05T15:57:19.538995Z",
     "iopub.status.busy": "2025-08-05T15:57:19.538159Z",
     "iopub.status.idle": "2025-08-05T15:57:19.543999Z",
     "shell.execute_reply": "2025-08-05T15:57:19.543156Z"
    },
    "papermill": {
     "duration": 0.019457,
     "end_time": "2025-08-05T15:57:19.545659",
     "exception": false,
     "start_time": "2025-08-05T15:57:19.526202",
     "status": "completed"
    },
    "tags": []
   },
   "outputs": [],
   "source": [
    "cp_metrics_df = pd.DataFrame(cp_metrics_dict)"
   ]
  },
  {
   "cell_type": "code",
   "execution_count": 50,
   "id": "db12611b-57b2-4910-b9d0-355adfd6e7bf",
   "metadata": {
    "execution": {
     "iopub.execute_input": "2025-08-05T15:57:19.571800Z",
     "iopub.status.busy": "2025-08-05T15:57:19.571273Z",
     "iopub.status.idle": "2025-08-05T15:57:19.586167Z",
     "shell.execute_reply": "2025-08-05T15:57:19.585105Z"
    },
    "papermill": {
     "duration": 0.02876,
     "end_time": "2025-08-05T15:57:19.587524",
     "exception": false,
     "start_time": "2025-08-05T15:57:19.558764",
     "status": "completed"
    },
    "tags": []
   },
   "outputs": [
    {
     "data": {
      "text/html": [
       "<div>\n",
       "<style scoped>\n",
       "    .dataframe tbody tr th:only-of-type {\n",
       "        vertical-align: middle;\n",
       "    }\n",
       "\n",
       "    .dataframe tbody tr th {\n",
       "        vertical-align: top;\n",
       "    }\n",
       "\n",
       "    .dataframe thead th {\n",
       "        text-align: right;\n",
       "    }\n",
       "</style>\n",
       "<table border=\"1\" class=\"dataframe\">\n",
       "  <thead>\n",
       "    <tr style=\"text-align: right;\">\n",
       "      <th></th>\n",
       "      <th>universe_id</th>\n",
       "      <th>universe_training_year</th>\n",
       "      <th>universe_training_size</th>\n",
       "      <th>universe_scale</th>\n",
       "      <th>universe_model</th>\n",
       "      <th>universe_exclude_features</th>\n",
       "      <th>universe_exclude_subgroups</th>\n",
       "      <th>q_hat</th>\n",
       "      <th>coverage</th>\n",
       "      <th>avg_size</th>\n",
       "    </tr>\n",
       "  </thead>\n",
       "  <tbody>\n",
       "    <tr>\n",
       "      <th>0</th>\n",
       "      <td>58d9ab8059c7cc6a656f36057155e994</td>\n",
       "      <td>2010_14</td>\n",
       "      <td>5k</td>\n",
       "      <td>do-not-scale</td>\n",
       "      <td>penalized_logreg</td>\n",
       "      <td>age</td>\n",
       "      <td>keep-all</td>\n",
       "      <td>0.674515</td>\n",
       "      <td>0.913655</td>\n",
       "      <td>1.25394</td>\n",
       "    </tr>\n",
       "  </tbody>\n",
       "</table>\n",
       "</div>"
      ],
      "text/plain": [
       "                        universe_id universe_training_year  \\\n",
       "0  58d9ab8059c7cc6a656f36057155e994                2010_14   \n",
       "\n",
       "  universe_training_size universe_scale    universe_model  \\\n",
       "0                     5k   do-not-scale  penalized_logreg   \n",
       "\n",
       "  universe_exclude_features universe_exclude_subgroups     q_hat  coverage  \\\n",
       "0                       age                   keep-all  0.674515  0.913655   \n",
       "\n",
       "   avg_size  \n",
       "0   1.25394  "
      ]
     },
     "execution_count": 50,
     "metadata": {},
     "output_type": "execute_result"
    }
   ],
   "source": [
    "cp_metrics_df"
   ]
  },
  {
   "cell_type": "code",
   "execution_count": 51,
   "id": "b7fbde55-a0a1-47e4-9af6-fe4a17fa8c61",
   "metadata": {
    "execution": {
     "iopub.execute_input": "2025-08-05T15:57:19.613328Z",
     "iopub.status.busy": "2025-08-05T15:57:19.612443Z",
     "iopub.status.idle": "2025-08-05T15:57:19.617443Z",
     "shell.execute_reply": "2025-08-05T15:57:19.616552Z"
    },
    "papermill": {
     "duration": 0.019252,
     "end_time": "2025-08-05T15:57:19.619049",
     "exception": false,
     "start_time": "2025-08-05T15:57:19.599797",
     "status": "completed"
    },
    "tags": []
   },
   "outputs": [],
   "source": [
    "# Conditional Coverage & looking at subgroups"
   ]
  },
  {
   "cell_type": "code",
   "execution_count": 52,
   "id": "027ae886-68dd-4141-96c7-805a5450e1ef",
   "metadata": {
    "execution": {
     "iopub.execute_input": "2025-08-05T15:57:19.645297Z",
     "iopub.status.busy": "2025-08-05T15:57:19.644463Z",
     "iopub.status.idle": "2025-08-05T15:57:19.834773Z",
     "shell.execute_reply": "2025-08-05T15:57:19.833947Z"
    },
    "papermill": {
     "duration": 0.204212,
     "end_time": "2025-08-05T15:57:19.836355",
     "exception": false,
     "start_time": "2025-08-05T15:57:19.632143",
     "status": "completed"
    },
    "tags": []
   },
   "outputs": [],
   "source": [
    "from fairness_multiverse.conformal import build_cp_groups\n",
    "\n",
    "cp_groups_df = build_cp_groups(pred_sets, y_true, X_test.index, org_test)\n",
    "#needs universe_id and setting"
   ]
  },
  {
   "cell_type": "code",
   "execution_count": 53,
   "id": "6cbdab96-b2b2-45af-ad54-d0516db2e28d",
   "metadata": {
    "execution": {
     "iopub.execute_input": "2025-08-05T15:57:19.862697Z",
     "iopub.status.busy": "2025-08-05T15:57:19.862326Z",
     "iopub.status.idle": "2025-08-05T15:57:20.960715Z",
     "shell.execute_reply": "2025-08-05T15:57:20.959892Z"
    },
    "papermill": {
     "duration": 1.113389,
     "end_time": "2025-08-05T15:57:20.962237",
     "exception": false,
     "start_time": "2025-08-05T15:57:19.848848",
     "status": "completed"
    },
    "tags": []
   },
   "outputs": [],
   "source": [
    "# Define covered = 1 if true_label is in the predicted set\n",
    "cp_groups_df['covered'] = cp_groups_df.apply(\n",
    "    lambda r: int(r['true_label'] in r['pred_set']),\n",
    "    axis=1\n",
    ")"
   ]
  },
  {
   "cell_type": "code",
   "execution_count": 54,
   "id": "338ff529-1a6b-4b87-a931-8e4788d52aad",
   "metadata": {
    "execution": {
     "iopub.execute_input": "2025-08-05T15:57:21.001669Z",
     "iopub.status.busy": "2025-08-05T15:57:21.001070Z",
     "iopub.status.idle": "2025-08-05T15:57:21.007232Z",
     "shell.execute_reply": "2025-08-05T15:57:21.006078Z"
    },
    "papermill": {
     "duration": 0.035177,
     "end_time": "2025-08-05T15:57:21.010021",
     "exception": false,
     "start_time": "2025-08-05T15:57:20.974844",
     "status": "completed"
    },
    "tags": []
   },
   "outputs": [],
   "source": [
    "#cp_groups_df"
   ]
  },
  {
   "cell_type": "code",
   "execution_count": 55,
   "id": "90032e27-66df-4540-9169-4e89cfbaa758",
   "metadata": {
    "execution": {
     "iopub.execute_input": "2025-08-05T15:57:21.078737Z",
     "iopub.status.busy": "2025-08-05T15:57:21.077349Z",
     "iopub.status.idle": "2025-08-05T15:57:21.094387Z",
     "shell.execute_reply": "2025-08-05T15:57:21.093224Z"
    },
    "papermill": {
     "duration": 0.054462,
     "end_time": "2025-08-05T15:57:21.096975",
     "exception": false,
     "start_time": "2025-08-05T15:57:21.042513",
     "status": "completed"
    },
    "tags": []
   },
   "outputs": [],
   "source": [
    "subgroups = ['frau1','nongerman','nongerman_male','nongerman_female']\n",
    "\n",
    "# Conditional coverage for subgroup==1\n",
    "cond_coverage = {\n",
    "    g: cp_groups_df.loc[cp_groups_df[g]==1, 'covered'].mean()\n",
    "    for g in subgroups\n",
    "}"
   ]
  },
  {
   "cell_type": "code",
   "execution_count": 56,
   "id": "1e348fb1-b9c3-45bc-ba23-f016827a7e0d",
   "metadata": {
    "execution": {
     "iopub.execute_input": "2025-08-05T15:57:21.151392Z",
     "iopub.status.busy": "2025-08-05T15:57:21.150704Z",
     "iopub.status.idle": "2025-08-05T15:57:21.160650Z",
     "shell.execute_reply": "2025-08-05T15:57:21.159463Z"
    },
    "papermill": {
     "duration": 0.04106,
     "end_time": "2025-08-05T15:57:21.162313",
     "exception": false,
     "start_time": "2025-08-05T15:57:21.121253",
     "status": "completed"
    },
    "tags": []
   },
   "outputs": [
    {
     "data": {
      "text/plain": [
       "{'frau1': 0.9143819921822348,\n",
       " 'nongerman': 0.9649694043675967,\n",
       " 'nongerman_male': 0.9691975141853553,\n",
       " 'nongerman_female': 0.957973174366617}"
      ]
     },
     "execution_count": 56,
     "metadata": {},
     "output_type": "execute_result"
    }
   ],
   "source": [
    "cond_coverage"
   ]
  },
  {
   "cell_type": "code",
   "execution_count": 57,
   "id": "f5093324-c3dd-4d63-bc4c-8d945e5c8bbb",
   "metadata": {
    "execution": {
     "iopub.execute_input": "2025-08-05T15:57:21.213749Z",
     "iopub.status.busy": "2025-08-05T15:57:21.212994Z",
     "iopub.status.idle": "2025-08-05T15:57:21.223697Z",
     "shell.execute_reply": "2025-08-05T15:57:21.222243Z"
    },
    "papermill": {
     "duration": 0.037624,
     "end_time": "2025-08-05T15:57:21.225729",
     "exception": false,
     "start_time": "2025-08-05T15:57:21.188105",
     "status": "completed"
    },
    "tags": []
   },
   "outputs": [],
   "source": [
    "for subgroup, cov in cond_coverage.items():\n",
    "    cp_metrics_df[f\"cov_{subgroup}\"] = cov"
   ]
  },
  {
   "cell_type": "code",
   "execution_count": 58,
   "id": "6e872e10-dbe5-49e8-b554-5030c98ff75d",
   "metadata": {
    "execution": {
     "iopub.execute_input": "2025-08-05T15:57:21.282381Z",
     "iopub.status.busy": "2025-08-05T15:57:21.281607Z",
     "iopub.status.idle": "2025-08-05T15:57:21.303121Z",
     "shell.execute_reply": "2025-08-05T15:57:21.302084Z"
    },
    "papermill": {
     "duration": 0.057009,
     "end_time": "2025-08-05T15:57:21.309435",
     "exception": false,
     "start_time": "2025-08-05T15:57:21.252426",
     "status": "completed"
    },
    "tags": []
   },
   "outputs": [
    {
     "data": {
      "text/html": [
       "<div>\n",
       "<style scoped>\n",
       "    .dataframe tbody tr th:only-of-type {\n",
       "        vertical-align: middle;\n",
       "    }\n",
       "\n",
       "    .dataframe tbody tr th {\n",
       "        vertical-align: top;\n",
       "    }\n",
       "\n",
       "    .dataframe thead th {\n",
       "        text-align: right;\n",
       "    }\n",
       "</style>\n",
       "<table border=\"1\" class=\"dataframe\">\n",
       "  <thead>\n",
       "    <tr style=\"text-align: right;\">\n",
       "      <th></th>\n",
       "      <th>universe_id</th>\n",
       "      <th>universe_training_year</th>\n",
       "      <th>universe_training_size</th>\n",
       "      <th>universe_scale</th>\n",
       "      <th>universe_model</th>\n",
       "      <th>universe_exclude_features</th>\n",
       "      <th>universe_exclude_subgroups</th>\n",
       "      <th>q_hat</th>\n",
       "      <th>coverage</th>\n",
       "      <th>avg_size</th>\n",
       "      <th>cov_frau1</th>\n",
       "      <th>cov_nongerman</th>\n",
       "      <th>cov_nongerman_male</th>\n",
       "      <th>cov_nongerman_female</th>\n",
       "    </tr>\n",
       "  </thead>\n",
       "  <tbody>\n",
       "    <tr>\n",
       "      <th>0</th>\n",
       "      <td>58d9ab8059c7cc6a656f36057155e994</td>\n",
       "      <td>2010_14</td>\n",
       "      <td>5k</td>\n",
       "      <td>do-not-scale</td>\n",
       "      <td>penalized_logreg</td>\n",
       "      <td>age</td>\n",
       "      <td>keep-all</td>\n",
       "      <td>0.674515</td>\n",
       "      <td>0.913655</td>\n",
       "      <td>1.25394</td>\n",
       "      <td>0.914382</td>\n",
       "      <td>0.964969</td>\n",
       "      <td>0.969198</td>\n",
       "      <td>0.957973</td>\n",
       "    </tr>\n",
       "  </tbody>\n",
       "</table>\n",
       "</div>"
      ],
      "text/plain": [
       "                        universe_id universe_training_year  \\\n",
       "0  58d9ab8059c7cc6a656f36057155e994                2010_14   \n",
       "\n",
       "  universe_training_size universe_scale    universe_model  \\\n",
       "0                     5k   do-not-scale  penalized_logreg   \n",
       "\n",
       "  universe_exclude_features universe_exclude_subgroups     q_hat  coverage  \\\n",
       "0                       age                   keep-all  0.674515  0.913655   \n",
       "\n",
       "   avg_size  cov_frau1  cov_nongerman  cov_nongerman_male  \\\n",
       "0   1.25394   0.914382       0.964969            0.969198   \n",
       "\n",
       "   cov_nongerman_female  \n",
       "0              0.957973  "
      ]
     },
     "execution_count": 58,
     "metadata": {},
     "output_type": "execute_result"
    }
   ],
   "source": [
    "cp_metrics_df"
   ]
  },
  {
   "cell_type": "markdown",
   "id": "33774451",
   "metadata": {
    "papermill": {
     "duration": 0.023603,
     "end_time": "2025-08-05T15:57:21.356993",
     "exception": false,
     "start_time": "2025-08-05T15:57:21.333390",
     "status": "completed"
    },
    "tags": []
   },
   "source": [
    "# (Fairness) Metrics"
   ]
  },
  {
   "cell_type": "code",
   "execution_count": 59,
   "id": "debc5d62",
   "metadata": {
    "execution": {
     "iopub.execute_input": "2025-08-05T15:57:21.408235Z",
     "iopub.status.busy": "2025-08-05T15:57:21.407747Z",
     "iopub.status.idle": "2025-08-05T15:57:21.429559Z",
     "shell.execute_reply": "2025-08-05T15:57:21.428549Z"
    },
    "papermill": {
     "duration": 0.04835,
     "end_time": "2025-08-05T15:57:21.431409",
     "exception": false,
     "start_time": "2025-08-05T15:57:21.383059",
     "status": "completed"
    },
    "tags": []
   },
   "outputs": [],
   "source": [
    "# do I need to include maxdeutsch1.missing?\n",
    "\n",
    "import numpy as np\n",
    "\n",
    "colname_to_bin = \"maxdeutsch1\"\n",
    "majority_value = org_train[colname_to_bin].mode()[0]\n",
    "\n",
    "org_test[\"majmin\"] = np.where(org_test[colname_to_bin] == majority_value, \"majority\", \"minority\")"
   ]
  },
  {
   "cell_type": "code",
   "execution_count": 60,
   "id": "06a50de5",
   "metadata": {
    "execution": {
     "iopub.execute_input": "2025-08-05T15:57:21.485987Z",
     "iopub.status.busy": "2025-08-05T15:57:21.485073Z",
     "iopub.status.idle": "2025-08-05T15:57:23.994523Z",
     "shell.execute_reply": "2025-08-05T15:57:23.993761Z"
    },
    "papermill": {
     "duration": 2.53853,
     "end_time": "2025-08-05T15:57:23.995930",
     "exception": false,
     "start_time": "2025-08-05T15:57:21.457400",
     "status": "completed"
    },
    "tags": []
   },
   "outputs": [],
   "source": [
    "example_universe = universe.copy()\n",
    "example_universe[\"cutoff\"] = example_universe[\"cutoff\"][0]\n",
    "example_universe[\"eval_fairness_grouping\"] = example_universe[\"eval_fairness_grouping\"][0]\n",
    "fairness_dict, metric_frame = universe_analysis.compute_metrics(\n",
    "    example_universe,\n",
    "    y_pred_prob=probs_test,\n",
    "    y_test=y_true,\n",
    "    org_test=org_test,\n",
    ")"
   ]
  },
  {
   "cell_type": "markdown",
   "id": "f95d4e02",
   "metadata": {
    "papermill": {
     "duration": 0.025019,
     "end_time": "2025-08-05T15:57:24.039712",
     "exception": false,
     "start_time": "2025-08-05T15:57:24.014693",
     "status": "completed"
    },
    "tags": []
   },
   "source": [
    "# Overall"
   ]
  },
  {
   "cell_type": "markdown",
   "id": "bdee4871",
   "metadata": {
    "papermill": {
     "duration": 0.03207,
     "end_time": "2025-08-05T15:57:24.093852",
     "exception": false,
     "start_time": "2025-08-05T15:57:24.061782",
     "status": "completed"
    },
    "tags": []
   },
   "source": [
    "Fairness\n",
    "Main fairness target: Equalized Odds. Seems to be a better fit than equal opportunity, since we're not only interested in Y = 1. Seems to be a better fit than demographic parity, since we also care about accuracy, not just equal distribution of preds.\n",
    "\n",
    "Pick column for computation of fairness metrics\n",
    "\n",
    "Performance\n",
    "Overall performance measures, most interesting in relation to the measures split by group below"
   ]
  },
  {
   "cell_type": "code",
   "execution_count": 61,
   "id": "c4e067c6",
   "metadata": {
    "execution": {
     "iopub.execute_input": "2025-08-05T15:57:24.158265Z",
     "iopub.status.busy": "2025-08-05T15:57:24.157633Z",
     "iopub.status.idle": "2025-08-05T15:57:24.168500Z",
     "shell.execute_reply": "2025-08-05T15:57:24.167225Z"
    },
    "papermill": {
     "duration": 0.046433,
     "end_time": "2025-08-05T15:57:24.170949",
     "exception": false,
     "start_time": "2025-08-05T15:57:24.124516",
     "status": "completed"
    },
    "tags": []
   },
   "outputs": [
    {
     "data": {
      "text/plain": [
       "accuracy                   0.216754\n",
       "balanced accuracy          0.531590\n",
       "f1                         0.238295\n",
       "precision                  0.136130\n",
       "false positive rate        0.891895\n",
       "false negative rate        0.044925\n",
       "selection rate             0.900000\n",
       "count                  89710.000000\n",
       "dtype: float64"
      ]
     },
     "execution_count": 61,
     "metadata": {},
     "output_type": "execute_result"
    }
   ],
   "source": [
    "metric_frame.overall"
   ]
  },
  {
   "cell_type": "markdown",
   "id": "e968fe9d",
   "metadata": {
    "papermill": {
     "duration": 0.029908,
     "end_time": "2025-08-05T15:57:24.231745",
     "exception": false,
     "start_time": "2025-08-05T15:57:24.201837",
     "status": "completed"
    },
    "tags": []
   },
   "source": [
    "By Group"
   ]
  },
  {
   "cell_type": "code",
   "execution_count": 62,
   "id": "ec325bce",
   "metadata": {
    "execution": {
     "iopub.execute_input": "2025-08-05T15:57:24.294872Z",
     "iopub.status.busy": "2025-08-05T15:57:24.294343Z",
     "iopub.status.idle": "2025-08-05T15:57:24.312303Z",
     "shell.execute_reply": "2025-08-05T15:57:24.311042Z"
    },
    "papermill": {
     "duration": 0.053,
     "end_time": "2025-08-05T15:57:24.314341",
     "exception": false,
     "start_time": "2025-08-05T15:57:24.261341",
     "status": "completed"
    },
    "tags": []
   },
   "outputs": [
    {
     "data": {
      "text/html": [
       "<div>\n",
       "<style scoped>\n",
       "    .dataframe tbody tr th:only-of-type {\n",
       "        vertical-align: middle;\n",
       "    }\n",
       "\n",
       "    .dataframe tbody tr th {\n",
       "        vertical-align: top;\n",
       "    }\n",
       "\n",
       "    .dataframe thead th {\n",
       "        text-align: right;\n",
       "    }\n",
       "</style>\n",
       "<table border=\"1\" class=\"dataframe\">\n",
       "  <thead>\n",
       "    <tr style=\"text-align: right;\">\n",
       "      <th></th>\n",
       "      <th>accuracy</th>\n",
       "      <th>balanced accuracy</th>\n",
       "      <th>f1</th>\n",
       "      <th>precision</th>\n",
       "      <th>false positive rate</th>\n",
       "      <th>false negative rate</th>\n",
       "      <th>selection rate</th>\n",
       "      <th>count</th>\n",
       "    </tr>\n",
       "    <tr>\n",
       "      <th>majmin</th>\n",
       "      <th></th>\n",
       "      <th></th>\n",
       "      <th></th>\n",
       "      <th></th>\n",
       "      <th></th>\n",
       "      <th></th>\n",
       "      <th></th>\n",
       "      <th></th>\n",
       "    </tr>\n",
       "  </thead>\n",
       "  <tbody>\n",
       "    <tr>\n",
       "      <th>majority</th>\n",
       "      <td>0.238861</td>\n",
       "      <td>0.539040</td>\n",
       "      <td>0.247456</td>\n",
       "      <td>0.142322</td>\n",
       "      <td>0.868966</td>\n",
       "      <td>0.052954</td>\n",
       "      <td>0.879283</td>\n",
       "      <td>69170.0</td>\n",
       "    </tr>\n",
       "    <tr>\n",
       "      <th>minority</th>\n",
       "      <td>0.142308</td>\n",
       "      <td>0.509211</td>\n",
       "      <td>0.209539</td>\n",
       "      <td>0.117225</td>\n",
       "      <td>0.967643</td>\n",
       "      <td>0.013936</td>\n",
       "      <td>0.969766</td>\n",
       "      <td>20540.0</td>\n",
       "    </tr>\n",
       "  </tbody>\n",
       "</table>\n",
       "</div>"
      ],
      "text/plain": [
       "          accuracy  balanced accuracy        f1  precision  \\\n",
       "majmin                                                       \n",
       "majority  0.238861           0.539040  0.247456   0.142322   \n",
       "minority  0.142308           0.509211  0.209539   0.117225   \n",
       "\n",
       "          false positive rate  false negative rate  selection rate    count  \n",
       "majmin                                                                       \n",
       "majority             0.868966             0.052954        0.879283  69170.0  \n",
       "minority             0.967643             0.013936        0.969766  20540.0  "
      ]
     },
     "execution_count": 62,
     "metadata": {},
     "output_type": "execute_result"
    }
   ],
   "source": [
    "metric_frame.by_group"
   ]
  },
  {
   "cell_type": "code",
   "execution_count": 63,
   "id": "a9ddbe63",
   "metadata": {
    "execution": {
     "iopub.execute_input": "2025-08-05T15:57:24.379378Z",
     "iopub.status.busy": "2025-08-05T15:57:24.378737Z",
     "iopub.status.idle": "2025-08-05T15:57:26.330509Z",
     "shell.execute_reply": "2025-08-05T15:57:26.329770Z"
    },
    "papermill": {
     "duration": 1.98553,
     "end_time": "2025-08-05T15:57:26.331828",
     "exception": false,
     "start_time": "2025-08-05T15:57:24.346298",
     "status": "completed"
    },
    "tags": []
   },
   "outputs": [
    {
     "data": {
      "text/plain": [
       "array([[<Axes: title={'center': 'accuracy'}, xlabel='majmin'>,\n",
       "        <Axes: title={'center': 'balanced accuracy'}, xlabel='majmin'>,\n",
       "        <Axes: title={'center': 'f1'}, xlabel='majmin'>],\n",
       "       [<Axes: title={'center': 'precision'}, xlabel='majmin'>,\n",
       "        <Axes: title={'center': 'false positive rate'}, xlabel='majmin'>,\n",
       "        <Axes: title={'center': 'false negative rate'}, xlabel='majmin'>],\n",
       "       [<Axes: title={'center': 'selection rate'}, xlabel='majmin'>,\n",
       "        <Axes: title={'center': 'count'}, xlabel='majmin'>,\n",
       "        <Axes: xlabel='majmin'>]], dtype=object)"
      ]
     },
     "execution_count": 63,
     "metadata": {},
     "output_type": "execute_result"
    },
    {
     "data": {
      "image/png": "[encoded data removed]",
      "text/plain": [
       "<Figure size 1200x800 with 9 Axes>"
      ]
     },
     "metadata": {},
     "output_type": "display_data"
    }
   ],
   "source": [
    "# In a graphic\n",
    "metric_frame.by_group.plot.bar(\n",
    "    subplots=True,\n",
    "    layout=[3, 3],\n",
    "    legend=False,\n",
    "    figsize=[12, 8],\n",
    "    title=\"Show all metrics\",\n",
    ")"
   ]
  },
  {
   "cell_type": "markdown",
   "id": "f57a0bac",
   "metadata": {
    "papermill": {
     "duration": 0.013377,
     "end_time": "2025-08-05T15:57:26.359310",
     "exception": false,
     "start_time": "2025-08-05T15:57:26.345933",
     "status": "completed"
    },
    "tags": []
   },
   "source": [
    "# Final Output"
   ]
  },
  {
   "cell_type": "code",
   "execution_count": 64,
   "id": "96d280a3",
   "metadata": {
    "execution": {
     "iopub.execute_input": "2025-08-05T15:57:26.386771Z",
     "iopub.status.busy": "2025-08-05T15:57:26.385995Z",
     "iopub.status.idle": "2025-08-05T15:57:26.393663Z",
     "shell.execute_reply": "2025-08-05T15:57:26.392852Z"
    },
    "papermill": {
     "duration": 0.022665,
     "end_time": "2025-08-05T15:57:26.394904",
     "exception": false,
     "start_time": "2025-08-05T15:57:26.372239",
     "status": "completed"
    },
    "tags": []
   },
   "outputs": [
    {
     "data": {
      "text/plain": [
       "4"
      ]
     },
     "execution_count": 64,
     "metadata": {},
     "output_type": "execute_result"
    }
   ],
   "source": [
    "sub_universes = universe_analysis.generate_sub_universes()\n",
    "len(sub_universes)"
   ]
  },
  {
   "cell_type": "code",
   "execution_count": 65,
   "id": "92adf7ba",
   "metadata": {
    "execution": {
     "iopub.execute_input": "2025-08-05T15:57:26.424582Z",
     "iopub.status.busy": "2025-08-05T15:57:26.423860Z",
     "iopub.status.idle": "2025-08-05T15:57:26.454585Z",
     "shell.execute_reply": "2025-08-05T15:57:26.453752Z"
    },
    "papermill": {
     "duration": 0.047115,
     "end_time": "2025-08-05T15:57:26.456322",
     "exception": false,
     "start_time": "2025-08-05T15:57:26.409207",
     "status": "completed"
    },
    "tags": []
   },
   "outputs": [],
   "source": [
    "def filter_sub_universe_data(sub_universe, org_test):\n",
    "    # Keep all rows — no filtering\n",
    "    keep_rows_mask = np.ones(org_test.shape[0], dtype=bool)\n",
    "\n",
    "    print(f\"[INFO] Keeping all rows: {keep_rows_mask.sum()} rows retained.\")\n",
    "    return keep_rows_mask"
   ]
  },
  {
   "cell_type": "code",
   "execution_count": 66,
   "id": "4a759155",
   "metadata": {
    "execution": {
     "iopub.execute_input": "2025-08-05T15:57:26.486661Z",
     "iopub.status.busy": "2025-08-05T15:57:26.485945Z",
     "iopub.status.idle": "2025-08-05T15:57:35.848344Z",
     "shell.execute_reply": "2025-08-05T15:57:35.847453Z"
    },
    "papermill": {
     "duration": 9.378569,
     "end_time": "2025-08-05T15:57:35.850136",
     "exception": false,
     "start_time": "2025-08-05T15:57:26.471567",
     "status": "completed"
    },
    "tags": []
   },
   "outputs": [
    {
     "name": "stdout",
     "output_type": "stream",
     "text": [
      "Stopping execution_time clock.\n",
      "[INFO] Keeping all rows: 89710 rows retained.\n"
     ]
    },
    {
     "name": "stdout",
     "output_type": "stream",
     "text": [
      "[INFO] Keeping all rows: 89710 rows retained.\n"
     ]
    },
    {
     "name": "stdout",
     "output_type": "stream",
     "text": [
      "[INFO] Keeping all rows: 89710 rows retained.\n"
     ]
    },
    {
     "name": "stdout",
     "output_type": "stream",
     "text": [
      "[INFO] Keeping all rows: 89710 rows retained.\n"
     ]
    },
    {
     "data": {
      "text/html": [
       "<div>\n",
       "<style scoped>\n",
       "    .dataframe tbody tr th:only-of-type {\n",
       "        vertical-align: middle;\n",
       "    }\n",
       "\n",
       "    .dataframe tbody tr th {\n",
       "        vertical-align: top;\n",
       "    }\n",
       "\n",
       "    .dataframe thead th {\n",
       "        text-align: right;\n",
       "    }\n",
       "</style>\n",
       "<table border=\"1\" class=\"dataframe\">\n",
       "  <thead>\n",
       "    <tr style=\"text-align: right;\">\n",
       "      <th></th>\n",
       "      <th>run_no</th>\n",
       "      <th>universe_id</th>\n",
       "      <th>universe_settings</th>\n",
       "      <th>execution_time</th>\n",
       "      <th>test_size_n</th>\n",
       "      <th>test_size_frac</th>\n",
       "      <th>fair_main_equalized_odds_difference</th>\n",
       "      <th>fair_main_equalized_odds_ratio</th>\n",
       "      <th>fair_main_demographic_parity_difference</th>\n",
       "      <th>fair_main_demographic_parity_ratio</th>\n",
       "      <th>...</th>\n",
       "      <th>perf_grp_precision_0</th>\n",
       "      <th>perf_grp_precision_1</th>\n",
       "      <th>perf_grp_false positive rate_0</th>\n",
       "      <th>perf_grp_false positive rate_1</th>\n",
       "      <th>perf_grp_false negative rate_0</th>\n",
       "      <th>perf_grp_false negative rate_1</th>\n",
       "      <th>perf_grp_selection rate_0</th>\n",
       "      <th>perf_grp_selection rate_1</th>\n",
       "      <th>perf_grp_count_0</th>\n",
       "      <th>perf_grp_count_1</th>\n",
       "    </tr>\n",
       "  </thead>\n",
       "  <tbody>\n",
       "    <tr>\n",
       "      <th>0</th>\n",
       "      <td>15</td>\n",
       "      <td>58d9ab8059c7cc6a656f36057155e994</td>\n",
       "      <td>{\"cutoff\": \"quantile_0.1\", \"eval_fairness_grou...</td>\n",
       "      <td>23.346859</td>\n",
       "      <td>89710</td>\n",
       "      <td>1.0</td>\n",
       "      <td>0.098677</td>\n",
       "      <td>0.898023</td>\n",
       "      <td>0.090483</td>\n",
       "      <td>0.906696</td>\n",
       "      <td>...</td>\n",
       "      <td>NaN</td>\n",
       "      <td>NaN</td>\n",
       "      <td>NaN</td>\n",
       "      <td>NaN</td>\n",
       "      <td>NaN</td>\n",
       "      <td>NaN</td>\n",
       "      <td>NaN</td>\n",
       "      <td>NaN</td>\n",
       "      <td>NaN</td>\n",
       "      <td>NaN</td>\n",
       "    </tr>\n",
       "    <tr>\n",
       "      <th>0</th>\n",
       "      <td>15</td>\n",
       "      <td>58d9ab8059c7cc6a656f36057155e994</td>\n",
       "      <td>{\"cutoff\": \"quantile_0.1\", \"eval_fairness_grou...</td>\n",
       "      <td>23.346859</td>\n",
       "      <td>89710</td>\n",
       "      <td>1.0</td>\n",
       "      <td>0.098677</td>\n",
       "      <td>0.898023</td>\n",
       "      <td>0.090483</td>\n",
       "      <td>0.906696</td>\n",
       "      <td>...</td>\n",
       "      <td>0.117225</td>\n",
       "      <td>0.142322</td>\n",
       "      <td>0.967643</td>\n",
       "      <td>0.868966</td>\n",
       "      <td>0.013936</td>\n",
       "      <td>0.052954</td>\n",
       "      <td>0.969766</td>\n",
       "      <td>0.879283</td>\n",
       "      <td>20540.0</td>\n",
       "      <td>69170.0</td>\n",
       "    </tr>\n",
       "    <tr>\n",
       "      <th>0</th>\n",
       "      <td>15</td>\n",
       "      <td>58d9ab8059c7cc6a656f36057155e994</td>\n",
       "      <td>{\"cutoff\": \"quantile_0.25\", \"eval_fairness_gro...</td>\n",
       "      <td>23.346859</td>\n",
       "      <td>89710</td>\n",
       "      <td>1.0</td>\n",
       "      <td>0.234994</td>\n",
       "      <td>0.742582</td>\n",
       "      <td>0.216523</td>\n",
       "      <td>0.763864</td>\n",
       "      <td>...</td>\n",
       "      <td>NaN</td>\n",
       "      <td>NaN</td>\n",
       "      <td>NaN</td>\n",
       "      <td>NaN</td>\n",
       "      <td>NaN</td>\n",
       "      <td>NaN</td>\n",
       "      <td>NaN</td>\n",
       "      <td>NaN</td>\n",
       "      <td>NaN</td>\n",
       "      <td>NaN</td>\n",
       "    </tr>\n",
       "    <tr>\n",
       "      <th>0</th>\n",
       "      <td>15</td>\n",
       "      <td>58d9ab8059c7cc6a656f36057155e994</td>\n",
       "      <td>{\"cutoff\": \"quantile_0.25\", \"eval_fairness_gro...</td>\n",
       "      <td>23.346859</td>\n",
       "      <td>89710</td>\n",
       "      <td>1.0</td>\n",
       "      <td>0.234994</td>\n",
       "      <td>0.742582</td>\n",
       "      <td>0.216523</td>\n",
       "      <td>0.763864</td>\n",
       "      <td>...</td>\n",
       "      <td>0.119199</td>\n",
       "      <td>0.160048</td>\n",
       "      <td>0.912888</td>\n",
       "      <td>0.677894</td>\n",
       "      <td>0.051943</td>\n",
       "      <td>0.151641</td>\n",
       "      <td>0.916943</td>\n",
       "      <td>0.700419</td>\n",
       "      <td>20540.0</td>\n",
       "      <td>69170.0</td>\n",
       "    </tr>\n",
       "  </tbody>\n",
       "</table>\n",
       "<p>4 rows × 50 columns</p>\n",
       "</div>"
      ],
      "text/plain": [
       "  run_no                       universe_id  \\\n",
       "0     15  58d9ab8059c7cc6a656f36057155e994   \n",
       "0     15  58d9ab8059c7cc6a656f36057155e994   \n",
       "0     15  58d9ab8059c7cc6a656f36057155e994   \n",
       "0     15  58d9ab8059c7cc6a656f36057155e994   \n",
       "\n",
       "                                   universe_settings  execution_time  \\\n",
       "0  {\"cutoff\": \"quantile_0.1\", \"eval_fairness_grou...       23.346859   \n",
       "0  {\"cutoff\": \"quantile_0.1\", \"eval_fairness_grou...       23.346859   \n",
       "0  {\"cutoff\": \"quantile_0.25\", \"eval_fairness_gro...       23.346859   \n",
       "0  {\"cutoff\": \"quantile_0.25\", \"eval_fairness_gro...       23.346859   \n",
       "\n",
       "   test_size_n  test_size_frac  fair_main_equalized_odds_difference  \\\n",
       "0        89710             1.0                             0.098677   \n",
       "0        89710             1.0                             0.098677   \n",
       "0        89710             1.0                             0.234994   \n",
       "0        89710             1.0                             0.234994   \n",
       "\n",
       "   fair_main_equalized_odds_ratio  fair_main_demographic_parity_difference  \\\n",
       "0                        0.898023                                 0.090483   \n",
       "0                        0.898023                                 0.090483   \n",
       "0                        0.742582                                 0.216523   \n",
       "0                        0.742582                                 0.216523   \n",
       "\n",
       "   fair_main_demographic_parity_ratio  ...  perf_grp_precision_0  \\\n",
       "0                            0.906696  ...                   NaN   \n",
       "0                            0.906696  ...              0.117225   \n",
       "0                            0.763864  ...                   NaN   \n",
       "0                            0.763864  ...              0.119199   \n",
       "\n",
       "   perf_grp_precision_1  perf_grp_false positive rate_0  \\\n",
       "0                   NaN                             NaN   \n",
       "0              0.142322                        0.967643   \n",
       "0                   NaN                             NaN   \n",
       "0              0.160048                        0.912888   \n",
       "\n",
       "   perf_grp_false positive rate_1  perf_grp_false negative rate_0  \\\n",
       "0                             NaN                             NaN   \n",
       "0                        0.868966                        0.013936   \n",
       "0                             NaN                             NaN   \n",
       "0                        0.677894                        0.051943   \n",
       "\n",
       "   perf_grp_false negative rate_1  perf_grp_selection rate_0  \\\n",
       "0                             NaN                        NaN   \n",
       "0                        0.052954                   0.969766   \n",
       "0                             NaN                        NaN   \n",
       "0                        0.151641                   0.916943   \n",
       "\n",
       "   perf_grp_selection rate_1  perf_grp_count_0  perf_grp_count_1  \n",
       "0                        NaN               NaN               NaN  \n",
       "0                   0.879283           20540.0           69170.0  \n",
       "0                        NaN               NaN               NaN  \n",
       "0                   0.700419           20540.0           69170.0  \n",
       "\n",
       "[4 rows x 50 columns]"
      ]
     },
     "execution_count": 66,
     "metadata": {},
     "output_type": "execute_result"
    }
   ],
   "source": [
    "final_output = universe_analysis.generate_final_output(\n",
    "    y_pred_prob=probs_test,\n",
    "    y_test=y_true,\n",
    "    org_test=org_test,\n",
    "    filter_data=filter_sub_universe_data,\n",
    "    cp_metrics_df=cp_metrics_df,\n",
    "    save=True,\n",
    ")\n",
    "final_output"
   ]
  }
 ],
 "metadata": {
  "celltoolbar": "Tags",
  "kernelspec": {
   "display_name": "Python (CMA Fairness)",
   "language": "python",
   "name": "cma_fair_env"
  },
  "language_info": {
   "codemirror_mode": {
    "name": "ipython",
    "version": 3
   },
   "file_extension": ".py",
   "mimetype": "text/x-python",
   "name": "python",
   "nbconvert_exporter": "python",
   "pygments_lexer": "ipython3",
   "version": "3.10.12"
  },
  "papermill": {
   "default_parameters": {},
   "duration": 36.485708,
   "end_time": "2025-08-05T15:57:36.700832",
   "environment_variables": {},
   "exception": null,
   "input_path": "universe_analysis.ipynb",
   "output_path": "output/runs/15/notebooks/m_15-58d9ab8059c7cc6a656f36057155e994.ipynb",
   "parameters": {
    "output_dir": "output",
    "run_no": "15",
    "seed": "2023",
    "universe": "{\"cutoff\": [\"quantile_0.1\", \"quantile_0.25\"], \"eval_fairness_grouping\": [\"majority-minority\", \"nationality-all\"], \"exclude_features\": \"age\", \"exclude_subgroups\": \"keep-all\", \"model\": \"penalized_logreg\", \"scale\": \"do-not-scale\", \"training_size\": \"5k\", \"training_year\": \"2010_14\"}",
    "universe_id": "58d9ab8059c7cc6a656f36057155e994"
   },
   "start_time": "2025-08-05T15:57:00.215124",
   "version": "2.6.0"
  }
 },
 "nbformat": 4,
 "nbformat_minor": 5
}