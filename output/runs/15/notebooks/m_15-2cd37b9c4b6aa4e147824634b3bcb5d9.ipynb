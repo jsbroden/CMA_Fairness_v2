{
 "cells": [
  {
   "cell_type": "code",
   "execution_count": 1,
   "id": "f159f837-637b-42ba-96b5-ec9a68c44524",
   "metadata": {
    "execution": {
     "iopub.execute_input": "2025-08-05T15:14:39.793736Z",
     "iopub.status.busy": "2025-08-05T15:14:39.792747Z",
     "iopub.status.idle": "2025-08-05T15:14:39.807025Z",
     "shell.execute_reply": "2025-08-05T15:14:39.805976Z"
    },
    "papermill": {
     "duration": 0.038345,
     "end_time": "2025-08-05T15:14:39.808771",
     "exception": false,
     "start_time": "2025-08-05T15:14:39.770426",
     "status": "completed"
    },
    "tags": []
   },
   "outputs": [
    {
     "name": "stdout",
     "output_type": "stream",
     "text": [
      "/dss/dsshome1/0C/ra93lal2/cma/CMA_Fairness_v2\n"
     ]
    },
    {
     "name": "stderr",
     "output_type": "stream",
     "text": [
      "/dss/dsshome1/0C/ra93lal2/.local/share/virtualenvs/CMA_Fairness_v2-3j10GkSs/lib/python3.10/site-packages/IPython/core/magics/osm.py:393: UserWarning: This is now an optional IPython functionality, using bookmarks requires you to install the `pickleshare` library.\n",
      "  bkms = self.shell.db.get('bookmarks', {})\n",
      "/dss/dsshome1/0C/ra93lal2/.local/share/virtualenvs/CMA_Fairness_v2-3j10GkSs/lib/python3.10/site-packages/IPython/core/magics/osm.py:417: UserWarning: This is now an optional IPython functionality, setting dhist requires you to install the `pickleshare` library.\n",
      "  self.shell.db['dhist'] = compress_dhist(dhist)[-100:]\n"
     ]
    }
   ],
   "source": [
    "%cd ~/cma/CMA_Fairness_v2"
   ]
  },
  {
   "cell_type": "markdown",
   "id": "de2603b9",
   "metadata": {
    "papermill": {
     "duration": 0.019283,
     "end_time": "2025-08-05T15:14:39.847305",
     "exception": false,
     "start_time": "2025-08-05T15:14:39.828022",
     "status": "completed"
    },
    "tags": []
   },
   "source": [
    "The following cell holds the definition of our parameters, these values can be overriden by rendering the with e.g. the following command:\n",
    "\n",
    "papermill -p alpha 0.2 -p ratio 0.3 universe_analysis.ipynb output/test_run.ipynb"
   ]
  },
  {
   "cell_type": "code",
   "execution_count": 2,
   "id": "a80968a0-40bb-4fa9-85ef-2d5eefb01975",
   "metadata": {
    "execution": {
     "iopub.execute_input": "2025-08-05T15:14:39.886170Z",
     "iopub.status.busy": "2025-08-05T15:14:39.885388Z",
     "iopub.status.idle": "2025-08-05T15:14:39.891671Z",
     "shell.execute_reply": "2025-08-05T15:14:39.890533Z"
    },
    "papermill": {
     "duration": 0.027888,
     "end_time": "2025-08-05T15:14:39.893693",
     "exception": false,
     "start_time": "2025-08-05T15:14:39.865805",
     "status": "completed"
    },
    "tags": []
   },
   "outputs": [
    {
     "name": "stdout",
     "output_type": "stream",
     "text": [
      "Current working directory: /dss/dsshome1/0C/ra93lal2/cma/CMA_Fairness_v2\n"
     ]
    }
   ],
   "source": [
    "import os\n",
    "print(\"Current working directory:\", os.getcwd())"
   ]
  },
  {
   "cell_type": "code",
   "execution_count": 3,
   "id": "2dce4c03",
   "metadata": {
    "execution": {
     "iopub.execute_input": "2025-08-05T15:14:39.933090Z",
     "iopub.status.busy": "2025-08-05T15:14:39.932460Z",
     "iopub.status.idle": "2025-08-05T15:14:39.938575Z",
     "shell.execute_reply": "2025-08-05T15:14:39.937489Z"
    },
    "papermill": {
     "duration": 0.027405,
     "end_time": "2025-08-05T15:14:39.940324",
     "exception": false,
     "start_time": "2025-08-05T15:14:39.912919",
     "status": "completed"
    },
    "tags": [
     "parameters"
    ]
   },
   "outputs": [],
   "source": [
    "run_no = 0\n",
    "universe_id = \"test\"\n",
    "universe = {\n",
    "    \"training_size\": \"25k\", # \"25k\", \"5k\", \"1k\"\n",
    "    \"training_year\": \"2014\", # \"2014\", \"2012_14\", \"2010_14\"\n",
    "    \"scale\": \"scale\", # \"scale\", \"do-not-scale\",\n",
    "    \"model\": \"elasticnet\", # \"logreg\", \"penalized_logreg\", \"rf\", \"gbm\", \"elasticnet\"\n",
    "    \"cutoff\": [\"quantile_0.15\", \"quantile_0.30\"],\n",
    "    \"exclude_features\": \"age\", # \"none\", \"nationality\", \"sex\", \"nationality-sex\", \"age\"\n",
    "    \"exclude_subgroups\": \"keep-all\", # \"keep-all\", \"drop-non-german\"\n",
    "    \"eval_fairness_grouping\": [\"majority-minority\", \"nationality-all\"]\n",
    "}\n",
    "\n",
    "output_dir=\"./output\"\n",
    "seed=0"
   ]
  },
  {
   "cell_type": "code",
   "execution_count": 4,
   "id": "e4f64ded",
   "metadata": {
    "execution": {
     "iopub.execute_input": "2025-08-05T15:14:39.979532Z",
     "iopub.status.busy": "2025-08-05T15:14:39.979036Z",
     "iopub.status.idle": "2025-08-05T15:14:39.983988Z",
     "shell.execute_reply": "2025-08-05T15:14:39.983007Z"
    },
    "papermill": {
     "duration": 0.026315,
     "end_time": "2025-08-05T15:14:39.985753",
     "exception": false,
     "start_time": "2025-08-05T15:14:39.959438",
     "status": "completed"
    },
    "tags": [
     "injected-parameters"
    ]
   },
   "outputs": [],
   "source": [
    "# Parameters\n",
    "universe_id = \"2cd37b9c4b6aa4e147824634b3bcb5d9\"\n",
    "run_no = \"15\"\n",
    "universe = \"{\\\"cutoff\\\": [\\\"quantile_0.1\\\", \\\"quantile_0.25\\\"], \\\"eval_fairness_grouping\\\": [\\\"majority-minority\\\", \\\"nationality-all\\\"], \\\"exclude_features\\\": \\\"none\\\", \\\"exclude_subgroups\\\": \\\"keep-all\\\", \\\"model\\\": \\\"rf\\\", \\\"scale\\\": \\\"do-not-scale\\\", \\\"training_size\\\": \\\"25k\\\", \\\"training_year\\\": \\\"2010_14\\\"}\"\n",
    "output_dir = \"output\"\n",
    "seed = \"2023\"\n"
   ]
  },
  {
   "cell_type": "code",
   "execution_count": 5,
   "id": "1650acaf",
   "metadata": {
    "execution": {
     "iopub.execute_input": "2025-08-05T15:14:40.025627Z",
     "iopub.status.busy": "2025-08-05T15:14:40.025167Z",
     "iopub.status.idle": "2025-08-05T15:14:40.030209Z",
     "shell.execute_reply": "2025-08-05T15:14:40.029109Z"
    },
    "papermill": {
     "duration": 0.027478,
     "end_time": "2025-08-05T15:14:40.032526",
     "exception": false,
     "start_time": "2025-08-05T15:14:40.005048",
     "status": "completed"
    },
    "tags": []
   },
   "outputs": [],
   "source": [
    "import json\n",
    "if isinstance(universe, str):\n",
    "    universe = json.loads(universe)"
   ]
  },
  {
   "cell_type": "code",
   "execution_count": 6,
   "id": "16620c48",
   "metadata": {
    "execution": {
     "iopub.execute_input": "2025-08-05T15:14:40.073560Z",
     "iopub.status.busy": "2025-08-05T15:14:40.073127Z",
     "iopub.status.idle": "2025-08-05T15:14:40.116716Z",
     "shell.execute_reply": "2025-08-05T15:14:40.115745Z"
    },
    "papermill": {
     "duration": 0.065891,
     "end_time": "2025-08-05T15:14:40.118577",
     "exception": false,
     "start_time": "2025-08-05T15:14:40.052686",
     "status": "completed"
    },
    "tags": []
   },
   "outputs": [],
   "source": [
    "# Auto-reload the custom package\n",
    "%load_ext autoreload\n",
    "%autoreload 1\n",
    "%aimport fairness_multiverse"
   ]
  },
  {
   "cell_type": "code",
   "execution_count": 7,
   "id": "01c5c9f3",
   "metadata": {
    "execution": {
     "iopub.execute_input": "2025-08-05T15:14:40.163470Z",
     "iopub.status.busy": "2025-08-05T15:14:40.162484Z",
     "iopub.status.idle": "2025-08-05T15:14:41.599779Z",
     "shell.execute_reply": "2025-08-05T15:14:41.598892Z"
    },
    "papermill": {
     "duration": 1.460859,
     "end_time": "2025-08-05T15:14:41.601373",
     "exception": false,
     "start_time": "2025-08-05T15:14:40.140514",
     "status": "completed"
    },
    "tags": []
   },
   "outputs": [],
   "source": [
    "from fairness_multiverse.universe import UniverseAnalysis\n",
    "\n",
    "universe_analysis = UniverseAnalysis(\n",
    "    run_no = run_no,\n",
    "    universe_id = universe_id,\n",
    "    universe = universe,\n",
    "    output_dir=output_dir,\n",
    ")"
   ]
  },
  {
   "cell_type": "code",
   "execution_count": 8,
   "id": "106241f5",
   "metadata": {
    "execution": {
     "iopub.execute_input": "2025-08-05T15:14:41.622927Z",
     "iopub.status.busy": "2025-08-05T15:14:41.622559Z",
     "iopub.status.idle": "2025-08-05T15:14:41.628536Z",
     "shell.execute_reply": "2025-08-05T15:14:41.627617Z"
    },
    "papermill": {
     "duration": 0.017461,
     "end_time": "2025-08-05T15:14:41.630128",
     "exception": false,
     "start_time": "2025-08-05T15:14:41.612667",
     "status": "completed"
    },
    "tags": []
   },
   "outputs": [
    {
     "name": "stdout",
     "output_type": "stream",
     "text": [
      "Using Seed: 2023\n"
     ]
    }
   ],
   "source": [
    "import numpy as np\n",
    "parsed_seed = int(seed)\n",
    "np.random.seed(parsed_seed)\n",
    "print(f\"Using Seed: {parsed_seed}\")"
   ]
  },
  {
   "cell_type": "markdown",
   "id": "e0ebdc57",
   "metadata": {
    "papermill": {
     "duration": 0.008681,
     "end_time": "2025-08-05T15:14:41.648470",
     "exception": false,
     "start_time": "2025-08-05T15:14:41.639789",
     "status": "completed"
    },
    "tags": []
   },
   "source": [
    "# Loading Data"
   ]
  },
  {
   "cell_type": "code",
   "execution_count": 9,
   "id": "f0496b8a",
   "metadata": {
    "execution": {
     "iopub.execute_input": "2025-08-05T15:14:41.667299Z",
     "iopub.status.busy": "2025-08-05T15:14:41.666773Z",
     "iopub.status.idle": "2025-08-05T15:14:52.204880Z",
     "shell.execute_reply": "2025-08-05T15:14:52.203543Z"
    },
    "papermill": {
     "duration": 10.549548,
     "end_time": "2025-08-05T15:14:52.206643",
     "exception": false,
     "start_time": "2025-08-05T15:14:41.657095",
     "status": "completed"
    },
    "tags": []
   },
   "outputs": [
    {
     "name": "stdout",
     "output_type": "stream",
     "text": [
      "Loading SIAB data from cache: data/siab_cached.csv.gz\n"
     ]
    },
    {
     "name": "stdout",
     "output_type": "stream",
     "text": [
      "(643690, 164)\n"
     ]
    }
   ],
   "source": [
    "from pathlib import Path\n",
    "import pandas as pd\n",
    "\n",
    "# File paths\n",
    "raw_file = Path(\"data/raw/siab.csv\")\n",
    "cache_file = Path(\"data/siab_cached.csv.gz\")\n",
    "\n",
    "# Ensure cache directory exists\n",
    "cache_file.parent.mkdir(parents=True, exist_ok=True)\n",
    "\n",
    "# Load with simple caching\n",
    "if cache_file.exists():\n",
    "    print(f\"Loading SIAB data from cache: {cache_file}\")\n",
    "    siab = pd.read_csv(cache_file, compression='gzip')\n",
    "else:\n",
    "    print(f\"Cache not found. Reading raw SIAB data: {raw_file}\")\n",
    "    siab = pd.read_csv(raw_file)\n",
    "    siab.to_csv(cache_file, index=False, compression='gzip')\n",
    "    print(f\"Cached SIAB data to: {cache_file}\")\n",
    "\n",
    "print(siab.shape)"
   ]
  },
  {
   "cell_type": "code",
   "execution_count": 10,
   "id": "db0ca512-5f53-4dba-abdb-a2888bca41ba",
   "metadata": {
    "execution": {
     "iopub.execute_input": "2025-08-05T15:14:52.254857Z",
     "iopub.status.busy": "2025-08-05T15:14:52.254353Z",
     "iopub.status.idle": "2025-08-05T15:14:52.259633Z",
     "shell.execute_reply": "2025-08-05T15:14:52.258671Z"
    },
    "papermill": {
     "duration": 0.033732,
     "end_time": "2025-08-05T15:14:52.261254",
     "exception": false,
     "start_time": "2025-08-05T15:14:52.227522",
     "status": "completed"
    },
    "tags": []
   },
   "outputs": [],
   "source": [
    "#siab"
   ]
  },
  {
   "cell_type": "markdown",
   "id": "997051c5-15bd-4b69-9786-c3001a3ce484",
   "metadata": {
    "papermill": {
     "duration": 0.009468,
     "end_time": "2025-08-05T15:14:52.281112",
     "exception": false,
     "start_time": "2025-08-05T15:14:52.271644",
     "status": "completed"
    },
    "tags": []
   },
   "source": [
    "# Splitting Data and Setting Training Data Size"
   ]
  },
  {
   "cell_type": "code",
   "execution_count": 11,
   "id": "aea9c6ef-6f46-42c8-85eb-5a62025c1508",
   "metadata": {
    "execution": {
     "iopub.execute_input": "2025-08-05T15:14:52.300663Z",
     "iopub.status.busy": "2025-08-05T15:14:52.300214Z",
     "iopub.status.idle": "2025-08-05T15:14:53.447984Z",
     "shell.execute_reply": "2025-08-05T15:14:53.447015Z"
    },
    "papermill": {
     "duration": 1.15947,
     "end_time": "2025-08-05T15:14:53.449780",
     "exception": false,
     "start_time": "2025-08-05T15:14:52.290310",
     "status": "completed"
    },
    "tags": []
   },
   "outputs": [],
   "source": [
    "from fairness_multiverse.universe import sample_by_year_size\n",
    "\n",
    "siab_train = sample_by_year_size(siab,\n",
    "                               training_year=universe[\"training_year\"],\n",
    "                               training_size=universe[\"training_size\"])"
   ]
  },
  {
   "cell_type": "code",
   "execution_count": 12,
   "id": "8d3afb32-789d-442c-8d5d-9f5aa8dd2eed",
   "metadata": {
    "execution": {
     "iopub.execute_input": "2025-08-05T15:14:53.487317Z",
     "iopub.status.busy": "2025-08-05T15:14:53.486793Z",
     "iopub.status.idle": "2025-08-05T15:14:53.492429Z",
     "shell.execute_reply": "2025-08-05T15:14:53.491294Z"
    },
    "papermill": {
     "duration": 0.025685,
     "end_time": "2025-08-05T15:14:53.494411",
     "exception": false,
     "start_time": "2025-08-05T15:14:53.468726",
     "status": "completed"
    },
    "tags": []
   },
   "outputs": [],
   "source": [
    "#siab_train.shape"
   ]
  },
  {
   "cell_type": "code",
   "execution_count": 13,
   "id": "d582db68-1a4c-47fb-84fc-08518dc1975a",
   "metadata": {
    "execution": {
     "iopub.execute_input": "2025-08-05T15:14:53.532286Z",
     "iopub.status.busy": "2025-08-05T15:14:53.531638Z",
     "iopub.status.idle": "2025-08-05T15:14:53.536917Z",
     "shell.execute_reply": "2025-08-05T15:14:53.535735Z"
    },
    "papermill": {
     "duration": 0.025955,
     "end_time": "2025-08-05T15:14:53.538786",
     "exception": false,
     "start_time": "2025-08-05T15:14:53.512831",
     "status": "completed"
    },
    "tags": []
   },
   "outputs": [],
   "source": [
    "#display(siab_train.groupby(\"year\").size())"
   ]
  },
  {
   "cell_type": "code",
   "execution_count": 14,
   "id": "a561edb4-d032-42cb-8256-22eac1111c64",
   "metadata": {
    "execution": {
     "iopub.execute_input": "2025-08-05T15:14:53.582729Z",
     "iopub.status.busy": "2025-08-05T15:14:53.581855Z",
     "iopub.status.idle": "2025-08-05T15:14:53.838239Z",
     "shell.execute_reply": "2025-08-05T15:14:53.836897Z"
    },
    "papermill": {
     "duration": 0.278428,
     "end_time": "2025-08-05T15:14:53.839775",
     "exception": false,
     "start_time": "2025-08-05T15:14:53.561347",
     "status": "completed"
    },
    "tags": []
   },
   "outputs": [],
   "source": [
    "#siab_train = siab_s[siab_s.year < 2015]\n",
    "siab_calib = siab[siab.year == 2015]\n",
    "siab_test = siab[siab.year == 2016]"
   ]
  },
  {
   "cell_type": "code",
   "execution_count": 15,
   "id": "472de16f-c3db-4916-846b-1f0de9cf1746",
   "metadata": {
    "execution": {
     "iopub.execute_input": "2025-08-05T15:14:53.873946Z",
     "iopub.status.busy": "2025-08-05T15:14:53.873294Z",
     "iopub.status.idle": "2025-08-05T15:14:53.888735Z",
     "shell.execute_reply": "2025-08-05T15:14:53.887729Z"
    },
    "papermill": {
     "duration": 0.033852,
     "end_time": "2025-08-05T15:14:53.890589",
     "exception": false,
     "start_time": "2025-08-05T15:14:53.856737",
     "status": "completed"
    },
    "tags": []
   },
   "outputs": [],
   "source": [
    "X_train = siab_train.iloc[:,4:164]\n",
    "y_train = siab_train.iloc[:, [3]]"
   ]
  },
  {
   "cell_type": "code",
   "execution_count": 16,
   "id": "828c96af-f43a-4ed6-ba47-8ac73a47d56c",
   "metadata": {
    "execution": {
     "iopub.execute_input": "2025-08-05T15:14:53.929496Z",
     "iopub.status.busy": "2025-08-05T15:14:53.928826Z",
     "iopub.status.idle": "2025-08-05T15:14:53.978815Z",
     "shell.execute_reply": "2025-08-05T15:14:53.977979Z"
    },
    "papermill": {
     "duration": 0.07143,
     "end_time": "2025-08-05T15:14:53.980431",
     "exception": false,
     "start_time": "2025-08-05T15:14:53.909001",
     "status": "completed"
    },
    "tags": []
   },
   "outputs": [],
   "source": [
    "X_calib = siab_calib.iloc[:,4:164]\n",
    "y_calib = siab_calib.iloc[:, [3]]"
   ]
  },
  {
   "cell_type": "code",
   "execution_count": 17,
   "id": "c34be9c3-6bd6-476e-acd3-845840e303be",
   "metadata": {
    "execution": {
     "iopub.execute_input": "2025-08-05T15:14:54.001138Z",
     "iopub.status.busy": "2025-08-05T15:14:54.000255Z",
     "iopub.status.idle": "2025-08-05T15:14:54.055431Z",
     "shell.execute_reply": "2025-08-05T15:14:54.054091Z"
    },
    "papermill": {
     "duration": 0.066784,
     "end_time": "2025-08-05T15:14:54.057475",
     "exception": false,
     "start_time": "2025-08-05T15:14:53.990691",
     "status": "completed"
    },
    "tags": []
   },
   "outputs": [],
   "source": [
    "X_test = siab_test.iloc[:,4:164]\n",
    "y_true = siab_test.iloc[:, [3]]"
   ]
  },
  {
   "cell_type": "code",
   "execution_count": 18,
   "id": "e6c733c5",
   "metadata": {
    "execution": {
     "iopub.execute_input": "2025-08-05T15:14:54.100012Z",
     "iopub.status.busy": "2025-08-05T15:14:54.099265Z",
     "iopub.status.idle": "2025-08-05T15:14:54.205949Z",
     "shell.execute_reply": "2025-08-05T15:14:54.204808Z"
    },
    "papermill": {
     "duration": 0.129983,
     "end_time": "2025-08-05T15:14:54.208040",
     "exception": false,
     "start_time": "2025-08-05T15:14:54.078057",
     "status": "completed"
    },
    "tags": []
   },
   "outputs": [],
   "source": [
    "# Auxiliary data needed downstream in the pipeline\n",
    "\n",
    "org_train = X_train.copy()\n",
    "org_test = X_test.copy()\n",
    "org_calib = X_calib.copy()"
   ]
  },
  {
   "cell_type": "markdown",
   "id": "0a4a1b33",
   "metadata": {
    "papermill": {
     "duration": 0.020395,
     "end_time": "2025-08-05T15:14:54.249136",
     "exception": false,
     "start_time": "2025-08-05T15:14:54.228741",
     "status": "completed"
    },
    "tags": []
   },
   "source": [
    "# Preprocessing Data"
   ]
  },
  {
   "cell_type": "code",
   "execution_count": 19,
   "id": "ca879031",
   "metadata": {
    "execution": {
     "iopub.execute_input": "2025-08-05T15:14:54.286705Z",
     "iopub.status.busy": "2025-08-05T15:14:54.286323Z",
     "iopub.status.idle": "2025-08-05T15:14:54.290835Z",
     "shell.execute_reply": "2025-08-05T15:14:54.290107Z"
    },
    "papermill": {
     "duration": 0.024919,
     "end_time": "2025-08-05T15:14:54.292231",
     "exception": false,
     "start_time": "2025-08-05T15:14:54.267312",
     "status": "completed"
    },
    "tags": []
   },
   "outputs": [],
   "source": [
    "# EXCLUDE PROTECTED FEATURES\n",
    "# ----------------------\n",
    "# \"exclude_features\": \"none\", # \"nationality\", \"sex\", \"nationality-sex\"\n",
    "\n",
    "excluded_features = universe[\"exclude_features\"].split(\"-\") # split, e.g.: \"nationality-sex\" -> [\"nationality\", \"sex\"]\n",
    "excluded_features_dictionary = {\n",
    "    \"nationality\": [\"maxdeutsch1\", \"maxdeutsch.Missing.\"],\n",
    "    \"sex\": [\"frau1\"],\n",
    "    \"age\": [\"age\"],\n",
    "}"
   ]
  },
  {
   "cell_type": "code",
   "execution_count": 20,
   "id": "b745ac60",
   "metadata": {
    "execution": {
     "iopub.execute_input": "2025-08-05T15:14:54.312089Z",
     "iopub.status.busy": "2025-08-05T15:14:54.311588Z",
     "iopub.status.idle": "2025-08-05T15:14:54.316316Z",
     "shell.execute_reply": "2025-08-05T15:14:54.315350Z"
    },
    "papermill": {
     "duration": 0.016162,
     "end_time": "2025-08-05T15:14:54.318294",
     "exception": false,
     "start_time": "2025-08-05T15:14:54.302132",
     "status": "completed"
    },
    "tags": []
   },
   "outputs": [],
   "source": [
    "# Code nice names to column names\n",
    "\n",
    "excluded_features_columns = [\n",
    "    excluded_features_dictionary[f] for f in excluded_features if len(f) > 0 and f != \"none\"\n",
    "]"
   ]
  },
  {
   "cell_type": "code",
   "execution_count": 21,
   "id": "f84f73a2",
   "metadata": {
    "execution": {
     "iopub.execute_input": "2025-08-05T15:14:54.356332Z",
     "iopub.status.busy": "2025-08-05T15:14:54.355886Z",
     "iopub.status.idle": "2025-08-05T15:14:54.362196Z",
     "shell.execute_reply": "2025-08-05T15:14:54.361145Z"
    },
    "papermill": {
     "duration": 0.028133,
     "end_time": "2025-08-05T15:14:54.363902",
     "exception": false,
     "start_time": "2025-08-05T15:14:54.335769",
     "status": "completed"
    },
    "tags": []
   },
   "outputs": [],
   "source": [
    "from utils import flatten_once\n",
    "\n",
    "excluded_features_columns = flatten_once(excluded_features_columns)"
   ]
  },
  {
   "cell_type": "code",
   "execution_count": 22,
   "id": "884dea22",
   "metadata": {
    "execution": {
     "iopub.execute_input": "2025-08-05T15:14:54.401922Z",
     "iopub.status.busy": "2025-08-05T15:14:54.401450Z",
     "iopub.status.idle": "2025-08-05T15:14:54.407497Z",
     "shell.execute_reply": "2025-08-05T15:14:54.406387Z"
    },
    "papermill": {
     "duration": 0.026085,
     "end_time": "2025-08-05T15:14:54.409365",
     "exception": false,
     "start_time": "2025-08-05T15:14:54.383280",
     "status": "completed"
    },
    "tags": []
   },
   "outputs": [],
   "source": [
    "if len(excluded_features_columns) > 0:\n",
    "    print(f\"Dropping features: {excluded_features_columns}\")\n",
    "    X_train.drop(excluded_features_columns, axis=1, inplace=True)"
   ]
  },
  {
   "cell_type": "code",
   "execution_count": 23,
   "id": "95ab8b16",
   "metadata": {
    "execution": {
     "iopub.execute_input": "2025-08-05T15:14:54.447040Z",
     "iopub.status.busy": "2025-08-05T15:14:54.446353Z",
     "iopub.status.idle": "2025-08-05T15:14:54.451938Z",
     "shell.execute_reply": "2025-08-05T15:14:54.450870Z"
    },
    "papermill": {
     "duration": 0.025786,
     "end_time": "2025-08-05T15:14:54.453750",
     "exception": false,
     "start_time": "2025-08-05T15:14:54.427964",
     "status": "completed"
    },
    "tags": []
   },
   "outputs": [],
   "source": [
    "if len(excluded_features_columns) > 0:\n",
    "    print(f\"Dropping features: {excluded_features_columns}\")\n",
    "    X_test.drop(excluded_features_columns, axis=1, inplace=True)"
   ]
  },
  {
   "cell_type": "code",
   "execution_count": 24,
   "id": "1853aaf5-fb9f-46cb-a2b5-8ea4ae2237e4",
   "metadata": {
    "execution": {
     "iopub.execute_input": "2025-08-05T15:14:54.491585Z",
     "iopub.status.busy": "2025-08-05T15:14:54.491180Z",
     "iopub.status.idle": "2025-08-05T15:14:54.496381Z",
     "shell.execute_reply": "2025-08-05T15:14:54.495592Z"
    },
    "papermill": {
     "duration": 0.025211,
     "end_time": "2025-08-05T15:14:54.497781",
     "exception": false,
     "start_time": "2025-08-05T15:14:54.472570",
     "status": "completed"
    },
    "tags": []
   },
   "outputs": [],
   "source": [
    "if len(excluded_features_columns) > 0:\n",
    "    print(f\"Dropping features: {excluded_features_columns}\")\n",
    "    X_calib.drop(excluded_features_columns, axis=1, inplace=True)"
   ]
  },
  {
   "cell_type": "code",
   "execution_count": 25,
   "id": "76c4dc6d",
   "metadata": {
    "execution": {
     "iopub.execute_input": "2025-08-05T15:14:54.517526Z",
     "iopub.status.busy": "2025-08-05T15:14:54.517047Z",
     "iopub.status.idle": "2025-08-05T15:14:54.521245Z",
     "shell.execute_reply": "2025-08-05T15:14:54.520498Z"
    },
    "papermill": {
     "duration": 0.015082,
     "end_time": "2025-08-05T15:14:54.522547",
     "exception": false,
     "start_time": "2025-08-05T15:14:54.507465",
     "status": "completed"
    },
    "tags": []
   },
   "outputs": [],
   "source": [
    "# EXCLUDE CERTAIN SUBGROUPS\n",
    "# ----------------------\n",
    "\n",
    "mode = universe.get(\"exclude_subgroups\", \"keep-all\") \n",
    "# Fetches the exclude_subgroups setting from the universe dict.\n",
    "# Defaults to \"keep-all\" if the key is missing."
   ]
  },
  {
   "cell_type": "code",
   "execution_count": 26,
   "id": "21994072",
   "metadata": {
    "execution": {
     "iopub.execute_input": "2025-08-05T15:14:54.542095Z",
     "iopub.status.busy": "2025-08-05T15:14:54.541705Z",
     "iopub.status.idle": "2025-08-05T15:14:54.546445Z",
     "shell.execute_reply": "2025-08-05T15:14:54.545673Z"
    },
    "papermill": {
     "duration": 0.015613,
     "end_time": "2025-08-05T15:14:54.547810",
     "exception": false,
     "start_time": "2025-08-05T15:14:54.532197",
     "status": "completed"
    },
    "tags": []
   },
   "outputs": [],
   "source": [
    "if mode == \"keep-all\":\n",
    "    keep_mask = pd.Series(True, index=org_train.index)\n",
    "\n",
    "# org_train contains the original feature columns from features_org (in Simson)\n",
    "# features_org contains unprocessed features, for me X_train at beginning ???\n",
    "# For keep-all, creates a boolean Series (keep_mask) of all True, so no rows are removed.\n",
    "\n",
    "elif mode == \"drop-non-german\":\n",
    "    keep_mask = org_train[\"maxdeutsch1\"] == 1 # ??? what about missing values?\n",
    "\n",
    "else:\n",
    "    raise ValueError(f\"Unsupported mode for exclude_subgroups: {mode}\")"
   ]
  },
  {
   "cell_type": "code",
   "execution_count": 27,
   "id": "71651440",
   "metadata": {
    "execution": {
     "iopub.execute_input": "2025-08-05T15:14:54.567461Z",
     "iopub.status.busy": "2025-08-05T15:14:54.567020Z",
     "iopub.status.idle": "2025-08-05T15:14:54.573504Z",
     "shell.execute_reply": "2025-08-05T15:14:54.572402Z"
    },
    "papermill": {
     "duration": 0.01777,
     "end_time": "2025-08-05T15:14:54.575208",
     "exception": false,
     "start_time": "2025-08-05T15:14:54.557438",
     "status": "completed"
    },
    "tags": []
   },
   "outputs": [],
   "source": [
    "n_drop = (~keep_mask).sum() # Calculates how many rows are set to be dropped\n",
    "if n_drop > 0:\n",
    "    pct = n_drop / len(keep_mask) * 100\n",
    "    print(f\"Dropping {n_drop} rows ({pct:.2f}%) where mode='{mode}'\")"
   ]
  },
  {
   "cell_type": "code",
   "execution_count": 28,
   "id": "5fb8eee5",
   "metadata": {
    "execution": {
     "iopub.execute_input": "2025-08-05T15:14:54.613491Z",
     "iopub.status.busy": "2025-08-05T15:14:54.612833Z",
     "iopub.status.idle": "2025-08-05T15:14:54.628386Z",
     "shell.execute_reply": "2025-08-05T15:14:54.627270Z"
    },
    "papermill": {
     "duration": 0.036714,
     "end_time": "2025-08-05T15:14:54.630401",
     "exception": false,
     "start_time": "2025-08-05T15:14:54.593687",
     "status": "completed"
    },
    "tags": []
   },
   "outputs": [],
   "source": [
    "X_train = X_train[keep_mask]"
   ]
  },
  {
   "cell_type": "code",
   "execution_count": 29,
   "id": "b202bb3a",
   "metadata": {
    "execution": {
     "iopub.execute_input": "2025-08-05T15:14:54.670851Z",
     "iopub.status.busy": "2025-08-05T15:14:54.670128Z",
     "iopub.status.idle": "2025-08-05T15:14:54.676342Z",
     "shell.execute_reply": "2025-08-05T15:14:54.675287Z"
    },
    "papermill": {
     "duration": 0.027571,
     "end_time": "2025-08-05T15:14:54.678160",
     "exception": false,
     "start_time": "2025-08-05T15:14:54.650589",
     "status": "completed"
    },
    "tags": []
   },
   "outputs": [],
   "source": [
    "y_train = y_train[keep_mask]"
   ]
  },
  {
   "cell_type": "markdown",
   "id": "493e2ac3",
   "metadata": {
    "papermill": {
     "duration": 0.017745,
     "end_time": "2025-08-05T15:14:54.714576",
     "exception": false,
     "start_time": "2025-08-05T15:14:54.696831",
     "status": "completed"
    },
    "tags": []
   },
   "source": [
    "# Model Training"
   ]
  },
  {
   "cell_type": "code",
   "execution_count": 30,
   "id": "679e1268",
   "metadata": {
    "execution": {
     "iopub.execute_input": "2025-08-05T15:14:54.734004Z",
     "iopub.status.busy": "2025-08-05T15:14:54.733619Z",
     "iopub.status.idle": "2025-08-05T15:14:54.822091Z",
     "shell.execute_reply": "2025-08-05T15:14:54.820980Z"
    },
    "papermill": {
     "duration": 0.09988,
     "end_time": "2025-08-05T15:14:54.823547",
     "exception": false,
     "start_time": "2025-08-05T15:14:54.723667",
     "status": "completed"
    },
    "tags": []
   },
   "outputs": [],
   "source": [
    "from sklearn.linear_model import LogisticRegression\n",
    "from sklearn.ensemble import GradientBoostingClassifier, RandomForestClassifier\n",
    "\n",
    "if (universe[\"model\"] == \"logreg\"):\n",
    "    model = LogisticRegression() #penalty=\"none\", solver=\"newton-cg\", max_iter=1) # include random_state=19 ?\n",
    "elif (universe[\"model\"] == \"penalized_logreg\"):\n",
    "    model = LogisticRegression(penalty=\"l2\", C=0.1) #, solver=\"newton-cg\", max_iter=1)\n",
    "elif (universe[\"model\"] == \"rf\"):\n",
    "    model = RandomForestClassifier() # n_estimators=100, n_jobs=-1\n",
    "elif (universe[\"model\"] == \"gbm\"):\n",
    "    model = GradientBoostingClassifier()\n",
    "elif (universe[\"model\"] == \"elasticnet\"):\n",
    "    model = LogisticRegression(penalty = 'elasticnet', solver = 'saga', l1_ratio = 0.5) # max_iter=5000\n",
    "else:\n",
    "    raise \"Unsupported universe.model\""
   ]
  },
  {
   "cell_type": "code",
   "execution_count": 31,
   "id": "0cc8f744",
   "metadata": {
    "execution": {
     "iopub.execute_input": "2025-08-05T15:14:54.844476Z",
     "iopub.status.busy": "2025-08-05T15:14:54.843981Z",
     "iopub.status.idle": "2025-08-05T15:14:54.848578Z",
     "shell.execute_reply": "2025-08-05T15:14:54.847796Z"
    },
    "papermill": {
     "duration": 0.016501,
     "end_time": "2025-08-05T15:14:54.850534",
     "exception": false,
     "start_time": "2025-08-05T15:14:54.834033",
     "status": "completed"
    },
    "tags": []
   },
   "outputs": [],
   "source": [
    "import numpy as np\n",
    "from sklearn.pipeline import Pipeline\n",
    "from sklearn.preprocessing import StandardScaler\n",
    "\n",
    "model = Pipeline([\n",
    "    #(\"continuous_processor\", continuous_processor),\n",
    "    #(\"categorical_preprocessor\", categorical_preprocessor),\n",
    "    (\"scale\", StandardScaler() if universe[\"scale\"] == \"scale\" else None), \n",
    "    (\"model\", model),\n",
    "])"
   ]
  },
  {
   "cell_type": "code",
   "execution_count": 32,
   "id": "9442c04d",
   "metadata": {
    "execution": {
     "iopub.execute_input": "2025-08-05T15:14:54.892469Z",
     "iopub.status.busy": "2025-08-05T15:14:54.892033Z",
     "iopub.status.idle": "2025-08-05T15:15:04.629027Z",
     "shell.execute_reply": "2025-08-05T15:15:04.627782Z"
    },
    "papermill": {
     "duration": 9.760084,
     "end_time": "2025-08-05T15:15:04.631316",
     "exception": false,
     "start_time": "2025-08-05T15:14:54.871232",
     "status": "completed"
    },
    "tags": []
   },
   "outputs": [
    {
     "data": {
      "text/html": [
       "<style>#sk-container-id-1 {color: black;background-color: white;}#sk-container-id-1 pre{padding: 0;}#sk-container-id-1 div.sk-toggleable {background-color: white;}#sk-container-id-1 label.sk-toggleable__label {cursor: pointer;display: block;width: 100%;margin-bottom: 0;padding: 0.3em;box-sizing: border-box;text-align: center;}#sk-container-id-1 label.sk-toggleable__label-arrow:before {content: \"▸\";float: left;margin-right: 0.25em;color: #696969;}#sk-container-id-1 label.sk-toggleable__label-arrow:hover:before {color: black;}#sk-container-id-1 div.sk-estimator:hover label.sk-toggleable__label-arrow:before {color: black;}#sk-container-id-1 div.sk-toggleable__content {max-height: 0;max-width: 0;overflow: hidden;text-align: left;background-color: #f0f8ff;}#sk-container-id-1 div.sk-toggleable__content pre {margin: 0.2em;color: black;border-radius: 0.25em;background-color: #f0f8ff;}#sk-container-id-1 input.sk-toggleable__control:checked~div.sk-toggleable__content {max-height: 200px;max-width: 100%;overflow: auto;}#sk-container-id-1 input.sk-toggleable__control:checked~label.sk-toggleable__label-arrow:before {content: \"▾\";}#sk-container-id-1 div.sk-estimator input.sk-toggleable__control:checked~label.sk-toggleable__label {background-color: #d4ebff;}#sk-container-id-1 div.sk-label input.sk-toggleable__control:checked~label.sk-toggleable__label {background-color: #d4ebff;}#sk-container-id-1 input.sk-hidden--visually {border: 0;clip: rect(1px 1px 1px 1px);clip: rect(1px, 1px, 1px, 1px);height: 1px;margin: -1px;overflow: hidden;padding: 0;position: absolute;width: 1px;}#sk-container-id-1 div.sk-estimator {font-family: monospace;background-color: #f0f8ff;border: 1px dotted black;border-radius: 0.25em;box-sizing: border-box;margin-bottom: 0.5em;}#sk-container-id-1 div.sk-estimator:hover {background-color: #d4ebff;}#sk-container-id-1 div.sk-parallel-item::after {content: \"\";width: 100%;border-bottom: 1px solid gray;flex-grow: 1;}#sk-container-id-1 div.sk-label:hover label.sk-toggleable__label {background-color: #d4ebff;}#sk-container-id-1 div.sk-serial::before {content: \"\";position: absolute;border-left: 1px solid gray;box-sizing: border-box;top: 0;bottom: 0;left: 50%;z-index: 0;}#sk-container-id-1 div.sk-serial {display: flex;flex-direction: column;align-items: center;background-color: white;padding-right: 0.2em;padding-left: 0.2em;position: relative;}#sk-container-id-1 div.sk-item {position: relative;z-index: 1;}#sk-container-id-1 div.sk-parallel {display: flex;align-items: stretch;justify-content: center;background-color: white;position: relative;}#sk-container-id-1 div.sk-item::before, #sk-container-id-1 div.sk-parallel-item::before {content: \"\";position: absolute;border-left: 1px solid gray;box-sizing: border-box;top: 0;bottom: 0;left: 50%;z-index: -1;}#sk-container-id-1 div.sk-parallel-item {display: flex;flex-direction: column;z-index: 1;position: relative;background-color: white;}#sk-container-id-1 div.sk-parallel-item:first-child::after {align-self: flex-end;width: 50%;}#sk-container-id-1 div.sk-parallel-item:last-child::after {align-self: flex-start;width: 50%;}#sk-container-id-1 div.sk-parallel-item:only-child::after {width: 0;}#sk-container-id-1 div.sk-dashed-wrapped {border: 1px dashed gray;margin: 0 0.4em 0.5em 0.4em;box-sizing: border-box;padding-bottom: 0.4em;background-color: white;}#sk-container-id-1 div.sk-label label {font-family: monospace;font-weight: bold;display: inline-block;line-height: 1.2em;}#sk-container-id-1 div.sk-label-container {text-align: center;}#sk-container-id-1 div.sk-container {/* jupyter's `normalize.less` sets `[hidden] { display: none; }` but bootstrap.min.css set `[hidden] { display: none !important; }` so we also need the `!important` here to be able to override the default hidden behavior on the sphinx rendered scikit-learn.org. See: https://github.com/scikit-learn/scikit-learn/issues/21755 */display: inline-block !important;position: relative;}#sk-container-id-1 div.sk-text-repr-fallback {display: none;}</style><div id=\"sk-container-id-1\" class=\"sk-top-container\"><div class=\"sk-text-repr-fallback\"><pre>Pipeline(steps=[(&#x27;scale&#x27;, None), (&#x27;model&#x27;, RandomForestClassifier())])</pre><b>In a Jupyter environment, please rerun this cell to show the HTML representation or trust the notebook. <br />On GitHub, the HTML representation is unable to render, please try loading this page with nbviewer.org.</b></div><div class=\"sk-container\" hidden><div class=\"sk-item sk-dashed-wrapped\"><div class=\"sk-label-container\"><div class=\"sk-label sk-toggleable\"><input class=\"sk-toggleable__control sk-hidden--visually\" id=\"sk-estimator-id-1\" type=\"checkbox\" ><label for=\"sk-estimator-id-1\" class=\"sk-toggleable__label sk-toggleable__label-arrow\">Pipeline</label><div class=\"sk-toggleable__content\"><pre>Pipeline(steps=[(&#x27;scale&#x27;, None), (&#x27;model&#x27;, RandomForestClassifier())])</pre></div></div></div><div class=\"sk-serial\"><div class=\"sk-item\"><div class=\"sk-estimator sk-toggleable\"><input class=\"sk-toggleable__control sk-hidden--visually\" id=\"sk-estimator-id-2\" type=\"checkbox\" ><label for=\"sk-estimator-id-2\" class=\"sk-toggleable__label sk-toggleable__label-arrow\">None</label><div class=\"sk-toggleable__content\"><pre>None</pre></div></div></div><div class=\"sk-item\"><div class=\"sk-estimator sk-toggleable\"><input class=\"sk-toggleable__control sk-hidden--visually\" id=\"sk-estimator-id-3\" type=\"checkbox\" ><label for=\"sk-estimator-id-3\" class=\"sk-toggleable__label sk-toggleable__label-arrow\">RandomForestClassifier</label><div class=\"sk-toggleable__content\"><pre>RandomForestClassifier()</pre></div></div></div></div></div></div></div>"
      ],
      "text/plain": [
       "Pipeline(steps=[('scale', None), ('model', RandomForestClassifier())])"
      ]
     },
     "execution_count": 32,
     "metadata": {},
     "output_type": "execute_result"
    }
   ],
   "source": [
    "model.fit(X_train, y_train.values.ravel())"
   ]
  },
  {
   "cell_type": "code",
   "execution_count": 33,
   "id": "af59f8c0",
   "metadata": {
    "execution": {
     "iopub.execute_input": "2025-08-05T15:15:04.681857Z",
     "iopub.status.busy": "2025-08-05T15:15:04.681293Z",
     "iopub.status.idle": "2025-08-05T15:15:04.687586Z",
     "shell.execute_reply": "2025-08-05T15:15:04.686492Z"
    },
    "papermill": {
     "duration": 0.02942,
     "end_time": "2025-08-05T15:15:04.689917",
     "exception": false,
     "start_time": "2025-08-05T15:15:04.660497",
     "status": "completed"
    },
    "tags": []
   },
   "outputs": [],
   "source": [
    "from fairness_multiverse.universe import predict_w_threshold"
   ]
  },
  {
   "cell_type": "code",
   "execution_count": 34,
   "id": "a7cf2e16",
   "metadata": {
    "execution": {
     "iopub.execute_input": "2025-08-05T15:15:04.744707Z",
     "iopub.status.busy": "2025-08-05T15:15:04.744000Z",
     "iopub.status.idle": "2025-08-05T15:15:08.592528Z",
     "shell.execute_reply": "2025-08-05T15:15:08.591827Z"
    },
    "papermill": {
     "duration": 3.87738,
     "end_time": "2025-08-05T15:15:08.593936",
     "exception": false,
     "start_time": "2025-08-05T15:15:04.716556",
     "status": "completed"
    },
    "tags": []
   },
   "outputs": [
    {
     "data": {
      "text/plain": [
       "0.8653773269423699"
      ]
     },
     "execution_count": 34,
     "metadata": {},
     "output_type": "execute_result"
    }
   ],
   "source": [
    "probs_test = model.predict_proba(X_test)\n",
    "\n",
    "'''\n",
    "Below code returns a boolean array (or binary 0/1 array depending on how it’s used) where each element \n",
    "is True if the probability of class 1 is greater than or equal to the threshold, and False otherwise.\n",
    "'''\n",
    "y_pred_default = predict_w_threshold(probs_test, 0.5)\n",
    "\n",
    "from sklearn.metrics import accuracy_score\n",
    "\n",
    "# Naive prediction\n",
    "accuracy_score(y_true = y_true, y_pred = y_pred_default)"
   ]
  },
  {
   "cell_type": "code",
   "execution_count": 35,
   "id": "081964c3",
   "metadata": {
    "execution": {
     "iopub.execute_input": "2025-08-05T15:15:08.619874Z",
     "iopub.status.busy": "2025-08-05T15:15:08.619517Z",
     "iopub.status.idle": "2025-08-05T15:15:11.595637Z",
     "shell.execute_reply": "2025-08-05T15:15:11.594727Z"
    },
    "papermill": {
     "duration": 2.989086,
     "end_time": "2025-08-05T15:15:11.597289",
     "exception": false,
     "start_time": "2025-08-05T15:15:08.608203",
     "status": "completed"
    },
    "tags": []
   },
   "outputs": [
    {
     "data": {
      "text/plain": [
       "array([0, 0, 0, ..., 0, 0, 0])"
      ]
     },
     "execution_count": 35,
     "metadata": {},
     "output_type": "execute_result"
    }
   ],
   "source": [
    "model.predict(X_test)"
   ]
  },
  {
   "cell_type": "markdown",
   "id": "56c9705b",
   "metadata": {
    "papermill": {
     "duration": 0.019406,
     "end_time": "2025-08-05T15:15:11.637257",
     "exception": false,
     "start_time": "2025-08-05T15:15:11.617851",
     "status": "completed"
    },
    "tags": []
   },
   "source": [
    "# Conformal Prediction"
   ]
  },
  {
   "cell_type": "code",
   "execution_count": 36,
   "id": "160ec6ff",
   "metadata": {
    "execution": {
     "iopub.execute_input": "2025-08-05T15:15:11.678088Z",
     "iopub.status.busy": "2025-08-05T15:15:11.677582Z",
     "iopub.status.idle": "2025-08-05T15:15:11.683084Z",
     "shell.execute_reply": "2025-08-05T15:15:11.682030Z"
    },
    "papermill": {
     "duration": 0.027584,
     "end_time": "2025-08-05T15:15:11.684789",
     "exception": false,
     "start_time": "2025-08-05T15:15:11.657205",
     "status": "completed"
    },
    "tags": []
   },
   "outputs": [],
   "source": [
    "# Miscoverage level for conformal prediction (10% allowed error rate => 90% target coverage)\n",
    "alpha = 0.1"
   ]
  },
  {
   "cell_type": "code",
   "execution_count": 37,
   "id": "eadf4555-3dd3-440e-8e35-f82a4ad9f855",
   "metadata": {
    "execution": {
     "iopub.execute_input": "2025-08-05T15:15:11.711147Z",
     "iopub.status.busy": "2025-08-05T15:15:11.710800Z",
     "iopub.status.idle": "2025-08-05T15:15:14.031828Z",
     "shell.execute_reply": "2025-08-05T15:15:14.031081Z"
    },
    "papermill": {
     "duration": 2.333736,
     "end_time": "2025-08-05T15:15:14.033245",
     "exception": false,
     "start_time": "2025-08-05T15:15:11.699509",
     "status": "completed"
    },
    "tags": []
   },
   "outputs": [],
   "source": [
    "probs_calib = model.predict_proba(X_calib)"
   ]
  },
  {
   "cell_type": "code",
   "execution_count": 38,
   "id": "2ed93547-6d5d-4983-9b36-1ecb300da49a",
   "metadata": {
    "execution": {
     "iopub.execute_input": "2025-08-05T15:15:14.057074Z",
     "iopub.status.busy": "2025-08-05T15:15:14.056594Z",
     "iopub.status.idle": "2025-08-05T15:15:14.061547Z",
     "shell.execute_reply": "2025-08-05T15:15:14.060797Z"
    },
    "papermill": {
     "duration": 0.016843,
     "end_time": "2025-08-05T15:15:14.062948",
     "exception": false,
     "start_time": "2025-08-05T15:15:14.046105",
     "status": "completed"
    },
    "tags": []
   },
   "outputs": [],
   "source": [
    "y_calib = y_calib.values.ravel().astype(int)"
   ]
  },
  {
   "cell_type": "code",
   "execution_count": 39,
   "id": "65d1320d-f588-4b38-9072-62af1ae97f7d",
   "metadata": {
    "execution": {
     "iopub.execute_input": "2025-08-05T15:15:14.084928Z",
     "iopub.status.busy": "2025-08-05T15:15:14.084482Z",
     "iopub.status.idle": "2025-08-05T15:15:14.090379Z",
     "shell.execute_reply": "2025-08-05T15:15:14.089603Z"
    },
    "papermill": {
     "duration": 0.017753,
     "end_time": "2025-08-05T15:15:14.091783",
     "exception": false,
     "start_time": "2025-08-05T15:15:14.074030",
     "status": "completed"
    },
    "tags": []
   },
   "outputs": [],
   "source": [
    "from fairness_multiverse.conformal import compute_nc_scores\n",
    "\n",
    "# Compute nonconformity scores on calibration set (1 - probability of true class)\n",
    "nc_scores = compute_nc_scores(probs_calib, y_calib)"
   ]
  },
  {
   "cell_type": "code",
   "execution_count": 40,
   "id": "df3b8ca3-53b7-43d5-9667-7c85da7aeda2",
   "metadata": {
    "execution": {
     "iopub.execute_input": "2025-08-05T15:15:14.113107Z",
     "iopub.status.busy": "2025-08-05T15:15:14.112507Z",
     "iopub.status.idle": "2025-08-05T15:15:14.117911Z",
     "shell.execute_reply": "2025-08-05T15:15:14.117085Z"
    },
    "papermill": {
     "duration": 0.017114,
     "end_time": "2025-08-05T15:15:14.119318",
     "exception": false,
     "start_time": "2025-08-05T15:15:14.102204",
     "status": "completed"
    },
    "tags": []
   },
   "outputs": [],
   "source": [
    "from fairness_multiverse.conformal import find_threshold\n",
    "\n",
    "# Find conformal threshold q_hat for the given alpha (split conformal method)\n",
    "q_hat = find_threshold(nc_scores, alpha)"
   ]
  },
  {
   "cell_type": "code",
   "execution_count": 41,
   "id": "4d29e6c1-0ef6-4aa4-b8fe-4fe79b0d033a",
   "metadata": {
    "execution": {
     "iopub.execute_input": "2025-08-05T15:15:14.141881Z",
     "iopub.status.busy": "2025-08-05T15:15:14.141205Z",
     "iopub.status.idle": "2025-08-05T15:15:14.147181Z",
     "shell.execute_reply": "2025-08-05T15:15:14.146374Z"
    },
    "papermill": {
     "duration": 0.018518,
     "end_time": "2025-08-05T15:15:14.148511",
     "exception": false,
     "start_time": "2025-08-05T15:15:14.129993",
     "status": "completed"
    },
    "tags": []
   },
   "outputs": [
    {
     "data": {
      "text/plain": [
       "0.6599999999999999"
      ]
     },
     "execution_count": 41,
     "metadata": {},
     "output_type": "execute_result"
    }
   ],
   "source": [
    "q_hat"
   ]
  },
  {
   "cell_type": "code",
   "execution_count": 42,
   "id": "92460794-cdac-4be2-ba28-f28c0515a6fb",
   "metadata": {
    "execution": {
     "iopub.execute_input": "2025-08-05T15:15:14.170559Z",
     "iopub.status.busy": "2025-08-05T15:15:14.169938Z",
     "iopub.status.idle": "2025-08-05T15:15:18.178644Z",
     "shell.execute_reply": "2025-08-05T15:15:18.177685Z"
    },
    "papermill": {
     "duration": 4.02122,
     "end_time": "2025-08-05T15:15:18.180505",
     "exception": false,
     "start_time": "2025-08-05T15:15:14.159285",
     "status": "completed"
    },
    "tags": []
   },
   "outputs": [],
   "source": [
    "from fairness_multiverse.conformal import predict_conformal_sets\n",
    "\n",
    "# Generate prediction sets for each test example\n",
    "pred_sets = predict_conformal_sets(model, X_test, q_hat)"
   ]
  },
  {
   "cell_type": "code",
   "execution_count": 43,
   "id": "d90c9a65-e6db-4f5d-80cd-e68fb7e46829",
   "metadata": {
    "execution": {
     "iopub.execute_input": "2025-08-05T15:15:18.224956Z",
     "iopub.status.busy": "2025-08-05T15:15:18.224055Z",
     "iopub.status.idle": "2025-08-05T15:15:18.230146Z",
     "shell.execute_reply": "2025-08-05T15:15:18.229160Z"
    },
    "papermill": {
     "duration": 0.027878,
     "end_time": "2025-08-05T15:15:18.231864",
     "exception": false,
     "start_time": "2025-08-05T15:15:18.203986",
     "status": "completed"
    },
    "tags": []
   },
   "outputs": [],
   "source": [
    "y_true = y_true.squeeze()"
   ]
  },
  {
   "cell_type": "code",
   "execution_count": 44,
   "id": "3a58a54a-1e68-46b9-927a-df01f18aebc8",
   "metadata": {
    "execution": {
     "iopub.execute_input": "2025-08-05T15:15:18.279203Z",
     "iopub.status.busy": "2025-08-05T15:15:18.278533Z",
     "iopub.status.idle": "2025-08-05T15:15:19.139785Z",
     "shell.execute_reply": "2025-08-05T15:15:19.138866Z"
    },
    "papermill": {
     "duration": 0.884318,
     "end_time": "2025-08-05T15:15:19.141770",
     "exception": false,
     "start_time": "2025-08-05T15:15:18.257452",
     "status": "completed"
    },
    "tags": []
   },
   "outputs": [],
   "source": [
    "from fairness_multiverse.conformal import evaluate_sets\n",
    "\n",
    "# Evaluate coverage and average set size on test data\n",
    "metrics = evaluate_sets(pred_sets, y_true)"
   ]
  },
  {
   "cell_type": "markdown",
   "id": "2b569c12-9aaa-4c88-98c9-bbcd0cf3ebb8",
   "metadata": {
    "papermill": {
     "duration": 0.019756,
     "end_time": "2025-08-05T15:15:19.182200",
     "exception": false,
     "start_time": "2025-08-05T15:15:19.162444",
     "status": "completed"
    },
    "tags": []
   },
   "source": [
    "# CP Metrics"
   ]
  },
  {
   "cell_type": "code",
   "execution_count": 45,
   "id": "5ce0a5cb-201f-45a0-ade5-94c7f0bd6095",
   "metadata": {
    "execution": {
     "iopub.execute_input": "2025-08-05T15:15:19.222407Z",
     "iopub.status.busy": "2025-08-05T15:15:19.221680Z",
     "iopub.status.idle": "2025-08-05T15:15:19.229322Z",
     "shell.execute_reply": "2025-08-05T15:15:19.228385Z"
    },
    "papermill": {
     "duration": 0.029633,
     "end_time": "2025-08-05T15:15:19.231010",
     "exception": false,
     "start_time": "2025-08-05T15:15:19.201377",
     "status": "completed"
    },
    "tags": []
   },
   "outputs": [
    {
     "data": {
      "text/plain": [
       "{'coverage': 0.9155612529260952, 'avg_size': 1.1505740720098094}"
      ]
     },
     "execution_count": 45,
     "metadata": {},
     "output_type": "execute_result"
    }
   ],
   "source": [
    "metrics"
   ]
  },
  {
   "cell_type": "code",
   "execution_count": 46,
   "id": "9b9a838d-31c9-430b-ae14-12baee460d17",
   "metadata": {
    "execution": {
     "iopub.execute_input": "2025-08-05T15:15:19.271763Z",
     "iopub.status.busy": "2025-08-05T15:15:19.270851Z",
     "iopub.status.idle": "2025-08-05T15:15:19.277655Z",
     "shell.execute_reply": "2025-08-05T15:15:19.276456Z"
    },
    "papermill": {
     "duration": 0.028455,
     "end_time": "2025-08-05T15:15:19.279295",
     "exception": false,
     "start_time": "2025-08-05T15:15:19.250840",
     "status": "completed"
    },
    "tags": []
   },
   "outputs": [],
   "source": [
    "example_universe = universe.copy()\n",
    "universe_training_year = example_universe.get(\"training_year\")\n",
    "universe_training_size = example_universe.get(\"training_size\")\n",
    "universe_scale = example_universe.get(\"scale\")\n",
    "universe_model = example_universe.get(\"model\")\n",
    "universe_exclude_features = example_universe.get(\"exclude_features\")\n",
    "universe_exclude_subgroups = example_universe.get(\"exclude_subgroups\")"
   ]
  },
  {
   "cell_type": "code",
   "execution_count": 47,
   "id": "f4b6a8ac-9dc0-4245-8a91-5b3b5999c4f9",
   "metadata": {
    "execution": {
     "iopub.execute_input": "2025-08-05T15:15:19.320117Z",
     "iopub.status.busy": "2025-08-05T15:15:19.319248Z",
     "iopub.status.idle": "2025-08-05T15:15:19.325994Z",
     "shell.execute_reply": "2025-08-05T15:15:19.324848Z"
    },
    "papermill": {
     "duration": 0.02866,
     "end_time": "2025-08-05T15:15:19.327574",
     "exception": false,
     "start_time": "2025-08-05T15:15:19.298914",
     "status": "completed"
    },
    "tags": []
   },
   "outputs": [],
   "source": [
    "cp_metrics_dict = {\n",
    "    \"universe_id\": [universe_id],\n",
    "    \"universe_training_year\": [universe_training_year],\n",
    "    \"universe_training_size\": [universe_training_size],\n",
    "    \"universe_scale\": [universe_scale],\n",
    "    \"universe_model\": [universe_model],\n",
    "    \"universe_exclude_features\": [universe_exclude_features],\n",
    "    \"universe_exclude_subgroups\": [universe_exclude_subgroups],\n",
    "    \"q_hat\": [q_hat],\n",
    "    \"coverage\": [metrics[\"coverage\"]],\n",
    "    \"avg_size\": [metrics[\"avg_size\"]],\n",
    "}"
   ]
  },
  {
   "cell_type": "code",
   "execution_count": 48,
   "id": "908acbb1-0371-4915-85ca-3fa520d2efe2",
   "metadata": {
    "execution": {
     "iopub.execute_input": "2025-08-05T15:15:19.371058Z",
     "iopub.status.busy": "2025-08-05T15:15:19.370116Z",
     "iopub.status.idle": "2025-08-05T15:15:19.378260Z",
     "shell.execute_reply": "2025-08-05T15:15:19.377084Z"
    },
    "papermill": {
     "duration": 0.03197,
     "end_time": "2025-08-05T15:15:19.380044",
     "exception": false,
     "start_time": "2025-08-05T15:15:19.348074",
     "status": "completed"
    },
    "tags": []
   },
   "outputs": [
    {
     "data": {
      "text/plain": [
       "{'universe_id': ['2cd37b9c4b6aa4e147824634b3bcb5d9'],\n",
       " 'universe_training_year': ['2010_14'],\n",
       " 'universe_training_size': ['25k'],\n",
       " 'universe_scale': ['do-not-scale'],\n",
       " 'universe_model': ['rf'],\n",
       " 'universe_exclude_features': ['none'],\n",
       " 'universe_exclude_subgroups': ['keep-all'],\n",
       " 'q_hat': [0.6599999999999999],\n",
       " 'coverage': [0.9155612529260952],\n",
       " 'avg_size': [1.1505740720098094]}"
      ]
     },
     "execution_count": 48,
     "metadata": {},
     "output_type": "execute_result"
    }
   ],
   "source": [
    "cp_metrics_dict"
   ]
  },
  {
   "cell_type": "code",
   "execution_count": 49,
   "id": "33007efc-14e9-4ec6-97ac-56a455c82265",
   "metadata": {
    "execution": {
     "iopub.execute_input": "2025-08-05T15:15:19.421715Z",
     "iopub.status.busy": "2025-08-05T15:15:19.420834Z",
     "iopub.status.idle": "2025-08-05T15:15:19.427483Z",
     "shell.execute_reply": "2025-08-05T15:15:19.426419Z"
    },
    "papermill": {
     "duration": 0.028688,
     "end_time": "2025-08-05T15:15:19.429150",
     "exception": false,
     "start_time": "2025-08-05T15:15:19.400462",
     "status": "completed"
    },
    "tags": []
   },
   "outputs": [],
   "source": [
    "cp_metrics_df = pd.DataFrame(cp_metrics_dict)"
   ]
  },
  {
   "cell_type": "code",
   "execution_count": 50,
   "id": "db12611b-57b2-4910-b9d0-355adfd6e7bf",
   "metadata": {
    "execution": {
     "iopub.execute_input": "2025-08-05T15:15:19.472878Z",
     "iopub.status.busy": "2025-08-05T15:15:19.472192Z",
     "iopub.status.idle": "2025-08-05T15:15:19.490911Z",
     "shell.execute_reply": "2025-08-05T15:15:19.490043Z"
    },
    "papermill": {
     "duration": 0.041992,
     "end_time": "2025-08-05T15:15:19.492501",
     "exception": false,
     "start_time": "2025-08-05T15:15:19.450509",
     "status": "completed"
    },
    "tags": []
   },
   "outputs": [
    {
     "data": {
      "text/html": [
       "<div>\n",
       "<style scoped>\n",
       "    .dataframe tbody tr th:only-of-type {\n",
       "        vertical-align: middle;\n",
       "    }\n",
       "\n",
       "    .dataframe tbody tr th {\n",
       "        vertical-align: top;\n",
       "    }\n",
       "\n",
       "    .dataframe thead th {\n",
       "        text-align: right;\n",
       "    }\n",
       "</style>\n",
       "<table border=\"1\" class=\"dataframe\">\n",
       "  <thead>\n",
       "    <tr style=\"text-align: right;\">\n",
       "      <th></th>\n",
       "      <th>universe_id</th>\n",
       "      <th>universe_training_year</th>\n",
       "      <th>universe_training_size</th>\n",
       "      <th>universe_scale</th>\n",
       "      <th>universe_model</th>\n",
       "      <th>universe_exclude_features</th>\n",
       "      <th>universe_exclude_subgroups</th>\n",
       "      <th>q_hat</th>\n",
       "      <th>coverage</th>\n",
       "      <th>avg_size</th>\n",
       "    </tr>\n",
       "  </thead>\n",
       "  <tbody>\n",
       "    <tr>\n",
       "      <th>0</th>\n",
       "      <td>2cd37b9c4b6aa4e147824634b3bcb5d9</td>\n",
       "      <td>2010_14</td>\n",
       "      <td>25k</td>\n",
       "      <td>do-not-scale</td>\n",
       "      <td>rf</td>\n",
       "      <td>none</td>\n",
       "      <td>keep-all</td>\n",
       "      <td>0.66</td>\n",
       "      <td>0.915561</td>\n",
       "      <td>1.150574</td>\n",
       "    </tr>\n",
       "  </tbody>\n",
       "</table>\n",
       "</div>"
      ],
      "text/plain": [
       "                        universe_id universe_training_year  \\\n",
       "0  2cd37b9c4b6aa4e147824634b3bcb5d9                2010_14   \n",
       "\n",
       "  universe_training_size universe_scale universe_model  \\\n",
       "0                    25k   do-not-scale             rf   \n",
       "\n",
       "  universe_exclude_features universe_exclude_subgroups  q_hat  coverage  \\\n",
       "0                      none                   keep-all   0.66  0.915561   \n",
       "\n",
       "   avg_size  \n",
       "0  1.150574  "
      ]
     },
     "execution_count": 50,
     "metadata": {},
     "output_type": "execute_result"
    }
   ],
   "source": [
    "cp_metrics_df"
   ]
  },
  {
   "cell_type": "code",
   "execution_count": 51,
   "id": "b7fbde55-a0a1-47e4-9af6-fe4a17fa8c61",
   "metadata": {
    "execution": {
     "iopub.execute_input": "2025-08-05T15:15:19.535781Z",
     "iopub.status.busy": "2025-08-05T15:15:19.535085Z",
     "iopub.status.idle": "2025-08-05T15:15:19.540108Z",
     "shell.execute_reply": "2025-08-05T15:15:19.539155Z"
    },
    "papermill": {
     "duration": 0.028585,
     "end_time": "2025-08-05T15:15:19.541893",
     "exception": false,
     "start_time": "2025-08-05T15:15:19.513308",
     "status": "completed"
    },
    "tags": []
   },
   "outputs": [],
   "source": [
    "# Conditional Coverage & looking at subgroups"
   ]
  },
  {
   "cell_type": "code",
   "execution_count": 52,
   "id": "027ae886-68dd-4141-96c7-805a5450e1ef",
   "metadata": {
    "execution": {
     "iopub.execute_input": "2025-08-05T15:15:19.585908Z",
     "iopub.status.busy": "2025-08-05T15:15:19.585238Z",
     "iopub.status.idle": "2025-08-05T15:15:19.787108Z",
     "shell.execute_reply": "2025-08-05T15:15:19.786353Z"
    },
    "papermill": {
     "duration": 0.225401,
     "end_time": "2025-08-05T15:15:19.789130",
     "exception": false,
     "start_time": "2025-08-05T15:15:19.563729",
     "status": "completed"
    },
    "tags": []
   },
   "outputs": [],
   "source": [
    "from fairness_multiverse.conformal import build_cp_groups\n",
    "\n",
    "cp_groups_df = build_cp_groups(pred_sets, y_true, X_test.index, org_test)\n",
    "#needs universe_id and setting"
   ]
  },
  {
   "cell_type": "code",
   "execution_count": 53,
   "id": "6cbdab96-b2b2-45af-ad54-d0516db2e28d",
   "metadata": {
    "execution": {
     "iopub.execute_input": "2025-08-05T15:15:19.834651Z",
     "iopub.status.busy": "2025-08-05T15:15:19.833700Z",
     "iopub.status.idle": "2025-08-05T15:15:21.551038Z",
     "shell.execute_reply": "2025-08-05T15:15:21.549814Z"
    },
    "papermill": {
     "duration": 1.741956,
     "end_time": "2025-08-05T15:15:21.553072",
     "exception": false,
     "start_time": "2025-08-05T15:15:19.811116",
     "status": "completed"
    },
    "tags": []
   },
   "outputs": [],
   "source": [
    "# Define covered = 1 if true_label is in the predicted set\n",
    "cp_groups_df['covered'] = cp_groups_df.apply(\n",
    "    lambda r: int(r['true_label'] in r['pred_set']),\n",
    "    axis=1\n",
    ")"
   ]
  },
  {
   "cell_type": "code",
   "execution_count": 54,
   "id": "338ff529-1a6b-4b87-a931-8e4788d52aad",
   "metadata": {
    "execution": {
     "iopub.execute_input": "2025-08-05T15:15:21.602949Z",
     "iopub.status.busy": "2025-08-05T15:15:21.601919Z",
     "iopub.status.idle": "2025-08-05T15:15:21.608151Z",
     "shell.execute_reply": "2025-08-05T15:15:21.607078Z"
    },
    "papermill": {
     "duration": 0.033606,
     "end_time": "2025-08-05T15:15:21.610051",
     "exception": false,
     "start_time": "2025-08-05T15:15:21.576445",
     "status": "completed"
    },
    "tags": []
   },
   "outputs": [],
   "source": [
    "#cp_groups_df"
   ]
  },
  {
   "cell_type": "code",
   "execution_count": 55,
   "id": "90032e27-66df-4540-9169-4e89cfbaa758",
   "metadata": {
    "execution": {
     "iopub.execute_input": "2025-08-05T15:15:21.655141Z",
     "iopub.status.busy": "2025-08-05T15:15:21.654272Z",
     "iopub.status.idle": "2025-08-05T15:15:21.666253Z",
     "shell.execute_reply": "2025-08-05T15:15:21.665240Z"
    },
    "papermill": {
     "duration": 0.035773,
     "end_time": "2025-08-05T15:15:21.668008",
     "exception": false,
     "start_time": "2025-08-05T15:15:21.632235",
     "status": "completed"
    },
    "tags": []
   },
   "outputs": [],
   "source": [
    "subgroups = ['frau1','nongerman','nongerman_male','nongerman_female']\n",
    "\n",
    "# Conditional coverage for subgroup==1\n",
    "cond_coverage = {\n",
    "    g: cp_groups_df.loc[cp_groups_df[g]==1, 'covered'].mean()\n",
    "    for g in subgroups\n",
    "}"
   ]
  },
  {
   "cell_type": "code",
   "execution_count": 56,
   "id": "1e348fb1-b9c3-45bc-ba23-f016827a7e0d",
   "metadata": {
    "execution": {
     "iopub.execute_input": "2025-08-05T15:15:21.717975Z",
     "iopub.status.busy": "2025-08-05T15:15:21.717160Z",
     "iopub.status.idle": "2025-08-05T15:15:21.725063Z",
     "shell.execute_reply": "2025-08-05T15:15:21.724030Z"
    },
    "papermill": {
     "duration": 0.034912,
     "end_time": "2025-08-05T15:15:21.726779",
     "exception": false,
     "start_time": "2025-08-05T15:15:21.691867",
     "status": "completed"
    },
    "tags": []
   },
   "outputs": [
    {
     "data": {
      "text/plain": [
       "{'frau1': 0.9134384687963337,\n",
       " 'nongerman': 0.9077639925896817,\n",
       " 'nongerman_male': 0.9217328649914438,\n",
       " 'nongerman_female': 0.8846497764530551}"
      ]
     },
     "execution_count": 56,
     "metadata": {},
     "output_type": "execute_result"
    }
   ],
   "source": [
    "cond_coverage"
   ]
  },
  {
   "cell_type": "code",
   "execution_count": 57,
   "id": "f5093324-c3dd-4d63-bc4c-8d945e5c8bbb",
   "metadata": {
    "execution": {
     "iopub.execute_input": "2025-08-05T15:15:21.776918Z",
     "iopub.status.busy": "2025-08-05T15:15:21.775934Z",
     "iopub.status.idle": "2025-08-05T15:15:21.783570Z",
     "shell.execute_reply": "2025-08-05T15:15:21.782512Z"
    },
    "papermill": {
     "duration": 0.034982,
     "end_time": "2025-08-05T15:15:21.785466",
     "exception": false,
     "start_time": "2025-08-05T15:15:21.750484",
     "status": "completed"
    },
    "tags": []
   },
   "outputs": [],
   "source": [
    "for subgroup, cov in cond_coverage.items():\n",
    "    cp_metrics_df[f\"cov_{subgroup}\"] = cov"
   ]
  },
  {
   "cell_type": "code",
   "execution_count": 58,
   "id": "6e872e10-dbe5-49e8-b554-5030c98ff75d",
   "metadata": {
    "execution": {
     "iopub.execute_input": "2025-08-05T15:15:21.835824Z",
     "iopub.status.busy": "2025-08-05T15:15:21.834857Z",
     "iopub.status.idle": "2025-08-05T15:15:21.854591Z",
     "shell.execute_reply": "2025-08-05T15:15:21.853461Z"
    },
    "papermill": {
     "duration": 0.046758,
     "end_time": "2025-08-05T15:15:21.856448",
     "exception": false,
     "start_time": "2025-08-05T15:15:21.809690",
     "status": "completed"
    },
    "tags": []
   },
   "outputs": [
    {
     "data": {
      "text/html": [
       "<div>\n",
       "<style scoped>\n",
       "    .dataframe tbody tr th:only-of-type {\n",
       "        vertical-align: middle;\n",
       "    }\n",
       "\n",
       "    .dataframe tbody tr th {\n",
       "        vertical-align: top;\n",
       "    }\n",
       "\n",
       "    .dataframe thead th {\n",
       "        text-align: right;\n",
       "    }\n",
       "</style>\n",
       "<table border=\"1\" class=\"dataframe\">\n",
       "  <thead>\n",
       "    <tr style=\"text-align: right;\">\n",
       "      <th></th>\n",
       "      <th>universe_id</th>\n",
       "      <th>universe_training_year</th>\n",
       "      <th>universe_training_size</th>\n",
       "      <th>universe_scale</th>\n",
       "      <th>universe_model</th>\n",
       "      <th>universe_exclude_features</th>\n",
       "      <th>universe_exclude_subgroups</th>\n",
       "      <th>q_hat</th>\n",
       "      <th>coverage</th>\n",
       "      <th>avg_size</th>\n",
       "      <th>cov_frau1</th>\n",
       "      <th>cov_nongerman</th>\n",
       "      <th>cov_nongerman_male</th>\n",
       "      <th>cov_nongerman_female</th>\n",
       "    </tr>\n",
       "  </thead>\n",
       "  <tbody>\n",
       "    <tr>\n",
       "      <th>0</th>\n",
       "      <td>2cd37b9c4b6aa4e147824634b3bcb5d9</td>\n",
       "      <td>2010_14</td>\n",
       "      <td>25k</td>\n",
       "      <td>do-not-scale</td>\n",
       "      <td>rf</td>\n",
       "      <td>none</td>\n",
       "      <td>keep-all</td>\n",
       "      <td>0.66</td>\n",
       "      <td>0.915561</td>\n",
       "      <td>1.150574</td>\n",
       "      <td>0.913438</td>\n",
       "      <td>0.907764</td>\n",
       "      <td>0.921733</td>\n",
       "      <td>0.88465</td>\n",
       "    </tr>\n",
       "  </tbody>\n",
       "</table>\n",
       "</div>"
      ],
      "text/plain": [
       "                        universe_id universe_training_year  \\\n",
       "0  2cd37b9c4b6aa4e147824634b3bcb5d9                2010_14   \n",
       "\n",
       "  universe_training_size universe_scale universe_model  \\\n",
       "0                    25k   do-not-scale             rf   \n",
       "\n",
       "  universe_exclude_features universe_exclude_subgroups  q_hat  coverage  \\\n",
       "0                      none                   keep-all   0.66  0.915561   \n",
       "\n",
       "   avg_size  cov_frau1  cov_nongerman  cov_nongerman_male  \\\n",
       "0  1.150574   0.913438       0.907764            0.921733   \n",
       "\n",
       "   cov_nongerman_female  \n",
       "0               0.88465  "
      ]
     },
     "execution_count": 58,
     "metadata": {},
     "output_type": "execute_result"
    }
   ],
   "source": [
    "cp_metrics_df"
   ]
  },
  {
   "cell_type": "markdown",
   "id": "33774451",
   "metadata": {
    "papermill": {
     "duration": 0.024867,
     "end_time": "2025-08-05T15:15:21.905661",
     "exception": false,
     "start_time": "2025-08-05T15:15:21.880794",
     "status": "completed"
    },
    "tags": []
   },
   "source": [
    "# (Fairness) Metrics"
   ]
  },
  {
   "cell_type": "code",
   "execution_count": 59,
   "id": "debc5d62",
   "metadata": {
    "execution": {
     "iopub.execute_input": "2025-08-05T15:15:21.955489Z",
     "iopub.status.busy": "2025-08-05T15:15:21.954562Z",
     "iopub.status.idle": "2025-08-05T15:15:21.977079Z",
     "shell.execute_reply": "2025-08-05T15:15:21.976109Z"
    },
    "papermill": {
     "duration": 0.049177,
     "end_time": "2025-08-05T15:15:21.979066",
     "exception": false,
     "start_time": "2025-08-05T15:15:21.929889",
     "status": "completed"
    },
    "tags": []
   },
   "outputs": [],
   "source": [
    "# do I need to include maxdeutsch1.missing?\n",
    "\n",
    "import numpy as np\n",
    "\n",
    "colname_to_bin = \"maxdeutsch1\"\n",
    "majority_value = org_train[colname_to_bin].mode()[0]\n",
    "\n",
    "org_test[\"majmin\"] = np.where(org_test[colname_to_bin] == majority_value, \"majority\", \"minority\")"
   ]
  },
  {
   "cell_type": "code",
   "execution_count": 60,
   "id": "06a50de5",
   "metadata": {
    "execution": {
     "iopub.execute_input": "2025-08-05T15:15:22.030795Z",
     "iopub.status.busy": "2025-08-05T15:15:22.029912Z",
     "iopub.status.idle": "2025-08-05T15:15:24.503232Z",
     "shell.execute_reply": "2025-08-05T15:15:24.502436Z"
    },
    "papermill": {
     "duration": 2.501153,
     "end_time": "2025-08-05T15:15:24.504747",
     "exception": false,
     "start_time": "2025-08-05T15:15:22.003594",
     "status": "completed"
    },
    "tags": []
   },
   "outputs": [],
   "source": [
    "example_universe = universe.copy()\n",
    "example_universe[\"cutoff\"] = example_universe[\"cutoff\"][0]\n",
    "example_universe[\"eval_fairness_grouping\"] = example_universe[\"eval_fairness_grouping\"][0]\n",
    "fairness_dict, metric_frame = universe_analysis.compute_metrics(\n",
    "    example_universe,\n",
    "    y_pred_prob=probs_test,\n",
    "    y_test=y_true,\n",
    "    org_test=org_test,\n",
    ")"
   ]
  },
  {
   "cell_type": "markdown",
   "id": "f95d4e02",
   "metadata": {
    "papermill": {
     "duration": 0.011613,
     "end_time": "2025-08-05T15:15:24.530530",
     "exception": false,
     "start_time": "2025-08-05T15:15:24.518917",
     "status": "completed"
    },
    "tags": []
   },
   "source": [
    "# Overall"
   ]
  },
  {
   "cell_type": "markdown",
   "id": "bdee4871",
   "metadata": {
    "papermill": {
     "duration": 0.01152,
     "end_time": "2025-08-05T15:15:24.553742",
     "exception": false,
     "start_time": "2025-08-05T15:15:24.542222",
     "status": "completed"
    },
    "tags": []
   },
   "source": [
    "Fairness\n",
    "Main fairness target: Equalized Odds. Seems to be a better fit than equal opportunity, since we're not only interested in Y = 1. Seems to be a better fit than demographic parity, since we also care about accuracy, not just equal distribution of preds.\n",
    "\n",
    "Pick column for computation of fairness metrics\n",
    "\n",
    "Performance\n",
    "Overall performance measures, most interesting in relation to the measures split by group below"
   ]
  },
  {
   "cell_type": "code",
   "execution_count": 61,
   "id": "c4e067c6",
   "metadata": {
    "execution": {
     "iopub.execute_input": "2025-08-05T15:15:24.578643Z",
     "iopub.status.busy": "2025-08-05T15:15:24.577787Z",
     "iopub.status.idle": "2025-08-05T15:15:24.585630Z",
     "shell.execute_reply": "2025-08-05T15:15:24.584745Z"
    },
    "papermill": {
     "duration": 0.022124,
     "end_time": "2025-08-05T15:15:24.587140",
     "exception": false,
     "start_time": "2025-08-05T15:15:24.565016",
     "status": "completed"
    },
    "tags": []
   },
   "outputs": [
    {
     "data": {
      "text/plain": [
       "accuracy                   0.189945\n",
       "balanced accuracy          0.528737\n",
       "f1                         0.237685\n",
       "precision                  0.135159\n",
       "false positive rate        0.926971\n",
       "false negative rate        0.015554\n",
       "selection rate             0.934344\n",
       "count                  89710.000000\n",
       "dtype: float64"
      ]
     },
     "execution_count": 61,
     "metadata": {},
     "output_type": "execute_result"
    }
   ],
   "source": [
    "metric_frame.overall"
   ]
  },
  {
   "cell_type": "markdown",
   "id": "e968fe9d",
   "metadata": {
    "papermill": {
     "duration": 0.01153,
     "end_time": "2025-08-05T15:15:24.611287",
     "exception": false,
     "start_time": "2025-08-05T15:15:24.599757",
     "status": "completed"
    },
    "tags": []
   },
   "source": [
    "By Group"
   ]
  },
  {
   "cell_type": "code",
   "execution_count": 62,
   "id": "ec325bce",
   "metadata": {
    "execution": {
     "iopub.execute_input": "2025-08-05T15:15:24.635818Z",
     "iopub.status.busy": "2025-08-05T15:15:24.635295Z",
     "iopub.status.idle": "2025-08-05T15:15:24.648195Z",
     "shell.execute_reply": "2025-08-05T15:15:24.647099Z"
    },
    "papermill": {
     "duration": 0.02731,
     "end_time": "2025-08-05T15:15:24.650197",
     "exception": false,
     "start_time": "2025-08-05T15:15:24.622887",
     "status": "completed"
    },
    "tags": []
   },
   "outputs": [
    {
     "data": {
      "text/html": [
       "<div>\n",
       "<style scoped>\n",
       "    .dataframe tbody tr th:only-of-type {\n",
       "        vertical-align: middle;\n",
       "    }\n",
       "\n",
       "    .dataframe tbody tr th {\n",
       "        vertical-align: top;\n",
       "    }\n",
       "\n",
       "    .dataframe thead th {\n",
       "        text-align: right;\n",
       "    }\n",
       "</style>\n",
       "<table border=\"1\" class=\"dataframe\">\n",
       "  <thead>\n",
       "    <tr style=\"text-align: right;\">\n",
       "      <th></th>\n",
       "      <th>accuracy</th>\n",
       "      <th>balanced accuracy</th>\n",
       "      <th>f1</th>\n",
       "      <th>precision</th>\n",
       "      <th>false positive rate</th>\n",
       "      <th>false negative rate</th>\n",
       "      <th>selection rate</th>\n",
       "      <th>count</th>\n",
       "    </tr>\n",
       "    <tr>\n",
       "      <th>majmin</th>\n",
       "      <th></th>\n",
       "      <th></th>\n",
       "      <th></th>\n",
       "      <th></th>\n",
       "      <th></th>\n",
       "      <th></th>\n",
       "      <th></th>\n",
       "      <th></th>\n",
       "    </tr>\n",
       "  </thead>\n",
       "  <tbody>\n",
       "    <tr>\n",
       "      <th>majority</th>\n",
       "      <td>0.186222</td>\n",
       "      <td>0.528006</td>\n",
       "      <td>0.243763</td>\n",
       "      <td>0.138943</td>\n",
       "      <td>0.936548</td>\n",
       "      <td>0.007440</td>\n",
       "      <td>0.943950</td>\n",
       "      <td>69170.0</td>\n",
       "    </tr>\n",
       "    <tr>\n",
       "      <th>minority</th>\n",
       "      <td>0.202483</td>\n",
       "      <td>0.528896</td>\n",
       "      <td>0.216033</td>\n",
       "      <td>0.121822</td>\n",
       "      <td>0.895333</td>\n",
       "      <td>0.046875</td>\n",
       "      <td>0.901996</td>\n",
       "      <td>20540.0</td>\n",
       "    </tr>\n",
       "  </tbody>\n",
       "</table>\n",
       "</div>"
      ],
      "text/plain": [
       "          accuracy  balanced accuracy        f1  precision  \\\n",
       "majmin                                                       \n",
       "majority  0.186222           0.528006  0.243763   0.138943   \n",
       "minority  0.202483           0.528896  0.216033   0.121822   \n",
       "\n",
       "          false positive rate  false negative rate  selection rate    count  \n",
       "majmin                                                                       \n",
       "majority             0.936548             0.007440        0.943950  69170.0  \n",
       "minority             0.895333             0.046875        0.901996  20540.0  "
      ]
     },
     "execution_count": 62,
     "metadata": {},
     "output_type": "execute_result"
    }
   ],
   "source": [
    "metric_frame.by_group"
   ]
  },
  {
   "cell_type": "code",
   "execution_count": 63,
   "id": "a9ddbe63",
   "metadata": {
    "execution": {
     "iopub.execute_input": "2025-08-05T15:15:24.678141Z",
     "iopub.status.busy": "2025-08-05T15:15:24.677716Z",
     "iopub.status.idle": "2025-08-05T15:15:27.313958Z",
     "shell.execute_reply": "2025-08-05T15:15:27.312936Z"
    },
    "papermill": {
     "duration": 2.650656,
     "end_time": "2025-08-05T15:15:27.315697",
     "exception": false,
     "start_time": "2025-08-05T15:15:24.665041",
     "status": "completed"
    },
    "tags": []
   },
   "outputs": [
    {
     "data": {
      "text/plain": [
       "array([[<Axes: title={'center': 'accuracy'}, xlabel='majmin'>,\n",
       "        <Axes: title={'center': 'balanced accuracy'}, xlabel='majmin'>,\n",
       "        <Axes: title={'center': 'f1'}, xlabel='majmin'>],\n",
       "       [<Axes: title={'center': 'precision'}, xlabel='majmin'>,\n",
       "        <Axes: title={'center': 'false positive rate'}, xlabel='majmin'>,\n",
       "        <Axes: title={'center': 'false negative rate'}, xlabel='majmin'>],\n",
       "       [<Axes: title={'center': 'selection rate'}, xlabel='majmin'>,\n",
       "        <Axes: title={'center': 'count'}, xlabel='majmin'>,\n",
       "        <Axes: xlabel='majmin'>]], dtype=object)"
      ]
     },
     "execution_count": 63,
     "metadata": {},
     "output_type": "execute_result"
    },
    {
     "data": {
      "image/png": "[encoded data removed]",
      "text/plain": [
       "<Figure size 1200x800 with 9 Axes>"
      ]
     },
     "metadata": {},
     "output_type": "display_data"
    }
   ],
   "source": [
    "# In a graphic\n",
    "metric_frame.by_group.plot.bar(\n",
    "    subplots=True,\n",
    "    layout=[3, 3],\n",
    "    legend=False,\n",
    "    figsize=[12, 8],\n",
    "    title=\"Show all metrics\",\n",
    ")"
   ]
  },
  {
   "cell_type": "markdown",
   "id": "f57a0bac",
   "metadata": {
    "papermill": {
     "duration": 0.026901,
     "end_time": "2025-08-05T15:15:27.363391",
     "exception": false,
     "start_time": "2025-08-05T15:15:27.336490",
     "status": "completed"
    },
    "tags": []
   },
   "source": [
    "# Final Output"
   ]
  },
  {
   "cell_type": "code",
   "execution_count": 64,
   "id": "96d280a3",
   "metadata": {
    "execution": {
     "iopub.execute_input": "2025-08-05T15:15:27.418386Z",
     "iopub.status.busy": "2025-08-05T15:15:27.417314Z",
     "iopub.status.idle": "2025-08-05T15:15:27.426564Z",
     "shell.execute_reply": "2025-08-05T15:15:27.425606Z"
    },
    "papermill": {
     "duration": 0.037718,
     "end_time": "2025-08-05T15:15:27.427791",
     "exception": false,
     "start_time": "2025-08-05T15:15:27.390073",
     "status": "completed"
    },
    "tags": []
   },
   "outputs": [
    {
     "data": {
      "text/plain": [
       "4"
      ]
     },
     "execution_count": 64,
     "metadata": {},
     "output_type": "execute_result"
    }
   ],
   "source": [
    "sub_universes = universe_analysis.generate_sub_universes()\n",
    "len(sub_universes)"
   ]
  },
  {
   "cell_type": "code",
   "execution_count": 65,
   "id": "92adf7ba",
   "metadata": {
    "execution": {
     "iopub.execute_input": "2025-08-05T15:15:27.474245Z",
     "iopub.status.busy": "2025-08-05T15:15:27.473733Z",
     "iopub.status.idle": "2025-08-05T15:15:27.480245Z",
     "shell.execute_reply": "2025-08-05T15:15:27.479072Z"
    },
    "papermill": {
     "duration": 0.030333,
     "end_time": "2025-08-05T15:15:27.482074",
     "exception": false,
     "start_time": "2025-08-05T15:15:27.451741",
     "status": "completed"
    },
    "tags": []
   },
   "outputs": [],
   "source": [
    "def filter_sub_universe_data(sub_universe, org_test):\n",
    "    # Keep all rows — no filtering\n",
    "    keep_rows_mask = np.ones(org_test.shape[0], dtype=bool)\n",
    "\n",
    "    print(f\"[INFO] Keeping all rows: {keep_rows_mask.sum()} rows retained.\")\n",
    "    return keep_rows_mask"
   ]
  },
  {
   "cell_type": "code",
   "execution_count": 66,
   "id": "4a759155",
   "metadata": {
    "execution": {
     "iopub.execute_input": "2025-08-05T15:15:27.526876Z",
     "iopub.status.busy": "2025-08-05T15:15:27.526378Z",
     "iopub.status.idle": "2025-08-05T15:15:35.263498Z",
     "shell.execute_reply": "2025-08-05T15:15:35.262483Z"
    },
    "papermill": {
     "duration": 7.759495,
     "end_time": "2025-08-05T15:15:35.265120",
     "exception": false,
     "start_time": "2025-08-05T15:15:27.505625",
     "status": "completed"
    },
    "tags": []
   },
   "outputs": [
    {
     "name": "stdout",
     "output_type": "stream",
     "text": [
      "Stopping execution_time clock.\n",
      "[INFO] Keeping all rows: 89710 rows retained.\n"
     ]
    },
    {
     "name": "stdout",
     "output_type": "stream",
     "text": [
      "[INFO] Keeping all rows: 89710 rows retained.\n"
     ]
    },
    {
     "name": "stdout",
     "output_type": "stream",
     "text": [
      "[INFO] Keeping all rows: 89710 rows retained.\n"
     ]
    },
    {
     "name": "stdout",
     "output_type": "stream",
     "text": [
      "[INFO] Keeping all rows: 89710 rows retained.\n"
     ]
    },
    {
     "data": {
      "text/html": [
       "<div>\n",
       "<style scoped>\n",
       "    .dataframe tbody tr th:only-of-type {\n",
       "        vertical-align: middle;\n",
       "    }\n",
       "\n",
       "    .dataframe tbody tr th {\n",
       "        vertical-align: top;\n",
       "    }\n",
       "\n",
       "    .dataframe thead th {\n",
       "        text-align: right;\n",
       "    }\n",
       "</style>\n",
       "<table border=\"1\" class=\"dataframe\">\n",
       "  <thead>\n",
       "    <tr style=\"text-align: right;\">\n",
       "      <th></th>\n",
       "      <th>run_no</th>\n",
       "      <th>universe_id</th>\n",
       "      <th>universe_settings</th>\n",
       "      <th>execution_time</th>\n",
       "      <th>test_size_n</th>\n",
       "      <th>test_size_frac</th>\n",
       "      <th>fair_main_equalized_odds_difference</th>\n",
       "      <th>fair_main_equalized_odds_ratio</th>\n",
       "      <th>fair_main_demographic_parity_difference</th>\n",
       "      <th>fair_main_demographic_parity_ratio</th>\n",
       "      <th>...</th>\n",
       "      <th>perf_grp_precision_0</th>\n",
       "      <th>perf_grp_precision_1</th>\n",
       "      <th>perf_grp_false positive rate_0</th>\n",
       "      <th>perf_grp_false positive rate_1</th>\n",
       "      <th>perf_grp_false negative rate_0</th>\n",
       "      <th>perf_grp_false negative rate_1</th>\n",
       "      <th>perf_grp_selection rate_0</th>\n",
       "      <th>perf_grp_selection rate_1</th>\n",
       "      <th>perf_grp_count_0</th>\n",
       "      <th>perf_grp_count_1</th>\n",
       "    </tr>\n",
       "  </thead>\n",
       "  <tbody>\n",
       "    <tr>\n",
       "      <th>0</th>\n",
       "      <td>15</td>\n",
       "      <td>2cd37b9c4b6aa4e147824634b3bcb5d9</td>\n",
       "      <td>{\"cutoff\": \"quantile_0.1\", \"eval_fairness_grou...</td>\n",
       "      <td>45.98233</td>\n",
       "      <td>89710</td>\n",
       "      <td>1.0</td>\n",
       "      <td>0.041215</td>\n",
       "      <td>0.955993</td>\n",
       "      <td>0.041954</td>\n",
       "      <td>0.955555</td>\n",
       "      <td>...</td>\n",
       "      <td>NaN</td>\n",
       "      <td>NaN</td>\n",
       "      <td>NaN</td>\n",
       "      <td>NaN</td>\n",
       "      <td>NaN</td>\n",
       "      <td>NaN</td>\n",
       "      <td>NaN</td>\n",
       "      <td>NaN</td>\n",
       "      <td>NaN</td>\n",
       "      <td>NaN</td>\n",
       "    </tr>\n",
       "    <tr>\n",
       "      <th>0</th>\n",
       "      <td>15</td>\n",
       "      <td>2cd37b9c4b6aa4e147824634b3bcb5d9</td>\n",
       "      <td>{\"cutoff\": \"quantile_0.1\", \"eval_fairness_grou...</td>\n",
       "      <td>45.98233</td>\n",
       "      <td>89710</td>\n",
       "      <td>1.0</td>\n",
       "      <td>0.041215</td>\n",
       "      <td>0.955993</td>\n",
       "      <td>0.041954</td>\n",
       "      <td>0.955555</td>\n",
       "      <td>...</td>\n",
       "      <td>0.121822</td>\n",
       "      <td>0.138943</td>\n",
       "      <td>0.895333</td>\n",
       "      <td>0.936548</td>\n",
       "      <td>0.046875</td>\n",
       "      <td>0.007440</td>\n",
       "      <td>0.901996</td>\n",
       "      <td>0.943950</td>\n",
       "      <td>20540.0</td>\n",
       "      <td>69170.0</td>\n",
       "    </tr>\n",
       "    <tr>\n",
       "      <th>0</th>\n",
       "      <td>15</td>\n",
       "      <td>2cd37b9c4b6aa4e147824634b3bcb5d9</td>\n",
       "      <td>{\"cutoff\": \"quantile_0.25\", \"eval_fairness_gro...</td>\n",
       "      <td>45.98233</td>\n",
       "      <td>89710</td>\n",
       "      <td>1.0</td>\n",
       "      <td>0.087903</td>\n",
       "      <td>0.907534</td>\n",
       "      <td>0.064821</td>\n",
       "      <td>0.915355</td>\n",
       "      <td>...</td>\n",
       "      <td>NaN</td>\n",
       "      <td>NaN</td>\n",
       "      <td>NaN</td>\n",
       "      <td>NaN</td>\n",
       "      <td>NaN</td>\n",
       "      <td>NaN</td>\n",
       "      <td>NaN</td>\n",
       "      <td>NaN</td>\n",
       "      <td>NaN</td>\n",
       "      <td>NaN</td>\n",
       "    </tr>\n",
       "    <tr>\n",
       "      <th>0</th>\n",
       "      <td>15</td>\n",
       "      <td>2cd37b9c4b6aa4e147824634b3bcb5d9</td>\n",
       "      <td>{\"cutoff\": \"quantile_0.25\", \"eval_fairness_gro...</td>\n",
       "      <td>45.98233</td>\n",
       "      <td>89710</td>\n",
       "      <td>1.0</td>\n",
       "      <td>0.087903</td>\n",
       "      <td>0.907534</td>\n",
       "      <td>0.064821</td>\n",
       "      <td>0.915355</td>\n",
       "      <td>...</td>\n",
       "      <td>0.141895</td>\n",
       "      <td>0.164036</td>\n",
       "      <td>0.679892</td>\n",
       "      <td>0.737648</td>\n",
       "      <td>0.137247</td>\n",
       "      <td>0.049344</td>\n",
       "      <td>0.700974</td>\n",
       "      <td>0.765794</td>\n",
       "      <td>20540.0</td>\n",
       "      <td>69170.0</td>\n",
       "    </tr>\n",
       "  </tbody>\n",
       "</table>\n",
       "<p>4 rows × 50 columns</p>\n",
       "</div>"
      ],
      "text/plain": [
       "  run_no                       universe_id  \\\n",
       "0     15  2cd37b9c4b6aa4e147824634b3bcb5d9   \n",
       "0     15  2cd37b9c4b6aa4e147824634b3bcb5d9   \n",
       "0     15  2cd37b9c4b6aa4e147824634b3bcb5d9   \n",
       "0     15  2cd37b9c4b6aa4e147824634b3bcb5d9   \n",
       "\n",
       "                                   universe_settings  execution_time  \\\n",
       "0  {\"cutoff\": \"quantile_0.1\", \"eval_fairness_grou...        45.98233   \n",
       "0  {\"cutoff\": \"quantile_0.1\", \"eval_fairness_grou...        45.98233   \n",
       "0  {\"cutoff\": \"quantile_0.25\", \"eval_fairness_gro...        45.98233   \n",
       "0  {\"cutoff\": \"quantile_0.25\", \"eval_fairness_gro...        45.98233   \n",
       "\n",
       "   test_size_n  test_size_frac  fair_main_equalized_odds_difference  \\\n",
       "0        89710             1.0                             0.041215   \n",
       "0        89710             1.0                             0.041215   \n",
       "0        89710             1.0                             0.087903   \n",
       "0        89710             1.0                             0.087903   \n",
       "\n",
       "   fair_main_equalized_odds_ratio  fair_main_demographic_parity_difference  \\\n",
       "0                        0.955993                                 0.041954   \n",
       "0                        0.955993                                 0.041954   \n",
       "0                        0.907534                                 0.064821   \n",
       "0                        0.907534                                 0.064821   \n",
       "\n",
       "   fair_main_demographic_parity_ratio  ...  perf_grp_precision_0  \\\n",
       "0                            0.955555  ...                   NaN   \n",
       "0                            0.955555  ...              0.121822   \n",
       "0                            0.915355  ...                   NaN   \n",
       "0                            0.915355  ...              0.141895   \n",
       "\n",
       "   perf_grp_precision_1  perf_grp_false positive rate_0  \\\n",
       "0                   NaN                             NaN   \n",
       "0              0.138943                        0.895333   \n",
       "0                   NaN                             NaN   \n",
       "0              0.164036                        0.679892   \n",
       "\n",
       "   perf_grp_false positive rate_1  perf_grp_false negative rate_0  \\\n",
       "0                             NaN                             NaN   \n",
       "0                        0.936548                        0.046875   \n",
       "0                             NaN                             NaN   \n",
       "0                        0.737648                        0.137247   \n",
       "\n",
       "   perf_grp_false negative rate_1  perf_grp_selection rate_0  \\\n",
       "0                             NaN                        NaN   \n",
       "0                        0.007440                   0.901996   \n",
       "0                             NaN                        NaN   \n",
       "0                        0.049344                   0.700974   \n",
       "\n",
       "   perf_grp_selection rate_1  perf_grp_count_0  perf_grp_count_1  \n",
       "0                        NaN               NaN               NaN  \n",
       "0                   0.943950           20540.0           69170.0  \n",
       "0                        NaN               NaN               NaN  \n",
       "0                   0.765794           20540.0           69170.0  \n",
       "\n",
       "[4 rows x 50 columns]"
      ]
     },
     "execution_count": 66,
     "metadata": {},
     "output_type": "execute_result"
    }
   ],
   "source": [
    "final_output = universe_analysis.generate_final_output(\n",
    "    y_pred_prob=probs_test,\n",
    "    y_test=y_true,\n",
    "    org_test=org_test,\n",
    "    filter_data=filter_sub_universe_data,\n",
    "    cp_metrics_df=cp_metrics_df,\n",
    "    save=True,\n",
    ")\n",
    "final_output"
   ]
  }
 ],
 "metadata": {
  "celltoolbar": "Tags",
  "kernelspec": {
   "display_name": "Python (CMA Fairness)",
   "language": "python",
   "name": "cma_fair_env"
  },
  "language_info": {
   "codemirror_mode": {
    "name": "ipython",
    "version": 3
   },
   "file_extension": ".py",
   "mimetype": "text/x-python",
   "name": "python",
   "nbconvert_exporter": "python",
   "pygments_lexer": "ipython3",
   "version": "3.10.12"
  },
  "papermill": {
   "default_parameters": {},
   "duration": 57.410871,
   "end_time": "2025-08-05T15:15:36.005311",
   "environment_variables": {},
   "exception": null,
   "input_path": "universe_analysis.ipynb",
   "output_path": "output/runs/15/notebooks/m_15-2cd37b9c4b6aa4e147824634b3bcb5d9.ipynb",
   "parameters": {
    "output_dir": "output",
    "run_no": "15",
    "seed": "2023",
    "universe": "{\"cutoff\": [\"quantile_0.1\", \"quantile_0.25\"], \"eval_fairness_grouping\": [\"majority-minority\", \"nationality-all\"], \"exclude_features\": \"none\", \"exclude_subgroups\": \"keep-all\", \"model\": \"rf\", \"scale\": \"do-not-scale\", \"training_size\": \"25k\", \"training_year\": \"2010_14\"}",
    "universe_id": "2cd37b9c4b6aa4e147824634b3bcb5d9"
   },
   "start_time": "2025-08-05T15:14:38.594440",
   "version": "2.6.0"
  }
 },
 "nbformat": 4,
 "nbformat_minor": 5
}