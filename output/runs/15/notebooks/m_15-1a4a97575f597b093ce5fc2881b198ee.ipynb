{
 "cells": [
  {
   "cell_type": "code",
   "execution_count": 1,
   "id": "f159f837-637b-42ba-96b5-ec9a68c44524",
   "metadata": {
    "execution": {
     "iopub.execute_input": "2025-08-05T15:55:03.606386Z",
     "iopub.status.busy": "2025-08-05T15:55:03.605837Z",
     "iopub.status.idle": "2025-08-05T15:55:03.619647Z",
     "shell.execute_reply": "2025-08-05T15:55:03.618706Z"
    },
    "papermill": {
     "duration": 0.025989,
     "end_time": "2025-08-05T15:55:03.621460",
     "exception": false,
     "start_time": "2025-08-05T15:55:03.595471",
     "status": "completed"
    },
    "tags": []
   },
   "outputs": [
    {
     "name": "stdout",
     "output_type": "stream",
     "text": [
      "/dss/dsshome1/0C/ra93lal2/cma/CMA_Fairness_v2\n"
     ]
    },
    {
     "name": "stderr",
     "output_type": "stream",
     "text": [
      "/dss/dsshome1/0C/ra93lal2/.local/share/virtualenvs/CMA_Fairness_v2-3j10GkSs/lib/python3.10/site-packages/IPython/core/magics/osm.py:393: UserWarning: This is now an optional IPython functionality, using bookmarks requires you to install the `pickleshare` library.\n",
      "  bkms = self.shell.db.get('bookmarks', {})\n",
      "/dss/dsshome1/0C/ra93lal2/.local/share/virtualenvs/CMA_Fairness_v2-3j10GkSs/lib/python3.10/site-packages/IPython/core/magics/osm.py:417: UserWarning: This is now an optional IPython functionality, setting dhist requires you to install the `pickleshare` library.\n",
      "  self.shell.db['dhist'] = compress_dhist(dhist)[-100:]\n"
     ]
    }
   ],
   "source": [
    "%cd ~/cma/CMA_Fairness_v2"
   ]
  },
  {
   "cell_type": "markdown",
   "id": "de2603b9",
   "metadata": {
    "papermill": {
     "duration": 0.009304,
     "end_time": "2025-08-05T15:55:03.648953",
     "exception": false,
     "start_time": "2025-08-05T15:55:03.639649",
     "status": "completed"
    },
    "tags": []
   },
   "source": [
    "The following cell holds the definition of our parameters, these values can be overriden by rendering the with e.g. the following command:\n",
    "\n",
    "papermill -p alpha 0.2 -p ratio 0.3 universe_analysis.ipynb output/test_run.ipynb"
   ]
  },
  {
   "cell_type": "code",
   "execution_count": 2,
   "id": "a80968a0-40bb-4fa9-85ef-2d5eefb01975",
   "metadata": {
    "execution": {
     "iopub.execute_input": "2025-08-05T15:55:03.668299Z",
     "iopub.status.busy": "2025-08-05T15:55:03.667953Z",
     "iopub.status.idle": "2025-08-05T15:55:03.672809Z",
     "shell.execute_reply": "2025-08-05T15:55:03.672123Z"
    },
    "papermill": {
     "duration": 0.015894,
     "end_time": "2025-08-05T15:55:03.674367",
     "exception": false,
     "start_time": "2025-08-05T15:55:03.658473",
     "status": "completed"
    },
    "tags": []
   },
   "outputs": [
    {
     "name": "stdout",
     "output_type": "stream",
     "text": [
      "Current working directory: /dss/dsshome1/0C/ra93lal2/cma/CMA_Fairness_v2\n"
     ]
    }
   ],
   "source": [
    "import os\n",
    "print(\"Current working directory:\", os.getcwd())"
   ]
  },
  {
   "cell_type": "code",
   "execution_count": 3,
   "id": "2dce4c03",
   "metadata": {
    "execution": {
     "iopub.execute_input": "2025-08-05T15:55:03.694351Z",
     "iopub.status.busy": "2025-08-05T15:55:03.694009Z",
     "iopub.status.idle": "2025-08-05T15:55:03.698827Z",
     "shell.execute_reply": "2025-08-05T15:55:03.698033Z"
    },
    "papermill": {
     "duration": 0.016084,
     "end_time": "2025-08-05T15:55:03.700266",
     "exception": false,
     "start_time": "2025-08-05T15:55:03.684182",
     "status": "completed"
    },
    "tags": [
     "parameters"
    ]
   },
   "outputs": [],
   "source": [
    "run_no = 0\n",
    "universe_id = \"test\"\n",
    "universe = {\n",
    "    \"training_size\": \"25k\", # \"25k\", \"5k\", \"1k\"\n",
    "    \"training_year\": \"2014\", # \"2014\", \"2012_14\", \"2010_14\"\n",
    "    \"scale\": \"scale\", # \"scale\", \"do-not-scale\",\n",
    "    \"model\": \"elasticnet\", # \"logreg\", \"penalized_logreg\", \"rf\", \"gbm\", \"elasticnet\"\n",
    "    \"cutoff\": [\"quantile_0.15\", \"quantile_0.30\"],\n",
    "    \"exclude_features\": \"age\", # \"none\", \"nationality\", \"sex\", \"nationality-sex\", \"age\"\n",
    "    \"exclude_subgroups\": \"keep-all\", # \"keep-all\", \"drop-non-german\"\n",
    "    \"eval_fairness_grouping\": [\"majority-minority\", \"nationality-all\"]\n",
    "}\n",
    "\n",
    "output_dir=\"./output\"\n",
    "seed=0"
   ]
  },
  {
   "cell_type": "code",
   "execution_count": 4,
   "id": "6a6cad6b",
   "metadata": {
    "execution": {
     "iopub.execute_input": "2025-08-05T15:55:03.720108Z",
     "iopub.status.busy": "2025-08-05T15:55:03.719627Z",
     "iopub.status.idle": "2025-08-05T15:55:03.723970Z",
     "shell.execute_reply": "2025-08-05T15:55:03.723183Z"
    },
    "papermill": {
     "duration": 0.015283,
     "end_time": "2025-08-05T15:55:03.725430",
     "exception": false,
     "start_time": "2025-08-05T15:55:03.710147",
     "status": "completed"
    },
    "tags": [
     "injected-parameters"
    ]
   },
   "outputs": [],
   "source": [
    "# Parameters\n",
    "universe_id = \"1a4a97575f597b093ce5fc2881b198ee\"\n",
    "run_no = \"15\"\n",
    "universe = \"{\\\"cutoff\\\": [\\\"quantile_0.1\\\", \\\"quantile_0.25\\\"], \\\"eval_fairness_grouping\\\": [\\\"majority-minority\\\", \\\"nationality-all\\\"], \\\"exclude_features\\\": \\\"nationality\\\", \\\"exclude_subgroups\\\": \\\"drop-non-german\\\", \\\"model\\\": \\\"logreg\\\", \\\"scale\\\": \\\"do-not-scale\\\", \\\"training_size\\\": \\\"5k\\\", \\\"training_year\\\": \\\"2010_14\\\"}\"\n",
    "output_dir = \"output\"\n",
    "seed = \"2023\"\n"
   ]
  },
  {
   "cell_type": "code",
   "execution_count": 5,
   "id": "1650acaf",
   "metadata": {
    "execution": {
     "iopub.execute_input": "2025-08-05T15:55:03.745286Z",
     "iopub.status.busy": "2025-08-05T15:55:03.744789Z",
     "iopub.status.idle": "2025-08-05T15:55:03.749174Z",
     "shell.execute_reply": "2025-08-05T15:55:03.748336Z"
    },
    "papermill": {
     "duration": 0.015693,
     "end_time": "2025-08-05T15:55:03.750840",
     "exception": false,
     "start_time": "2025-08-05T15:55:03.735147",
     "status": "completed"
    },
    "tags": []
   },
   "outputs": [],
   "source": [
    "import json\n",
    "if isinstance(universe, str):\n",
    "    universe = json.loads(universe)"
   ]
  },
  {
   "cell_type": "code",
   "execution_count": 6,
   "id": "16620c48",
   "metadata": {
    "execution": {
     "iopub.execute_input": "2025-08-05T15:55:03.771087Z",
     "iopub.status.busy": "2025-08-05T15:55:03.770619Z",
     "iopub.status.idle": "2025-08-05T15:55:03.799675Z",
     "shell.execute_reply": "2025-08-05T15:55:03.798952Z"
    },
    "papermill": {
     "duration": 0.040102,
     "end_time": "2025-08-05T15:55:03.801150",
     "exception": false,
     "start_time": "2025-08-05T15:55:03.761048",
     "status": "completed"
    },
    "tags": []
   },
   "outputs": [],
   "source": [
    "# Auto-reload the custom package\n",
    "%load_ext autoreload\n",
    "%autoreload 1\n",
    "%aimport fairness_multiverse"
   ]
  },
  {
   "cell_type": "code",
   "execution_count": 7,
   "id": "01c5c9f3",
   "metadata": {
    "execution": {
     "iopub.execute_input": "2025-08-05T15:55:03.821021Z",
     "iopub.status.busy": "2025-08-05T15:55:03.820344Z",
     "iopub.status.idle": "2025-08-05T15:55:05.894934Z",
     "shell.execute_reply": "2025-08-05T15:55:05.893857Z"
    },
    "papermill": {
     "duration": 2.086237,
     "end_time": "2025-08-05T15:55:05.896919",
     "exception": false,
     "start_time": "2025-08-05T15:55:03.810682",
     "status": "completed"
    },
    "tags": []
   },
   "outputs": [],
   "source": [
    "from fairness_multiverse.universe import UniverseAnalysis\n",
    "\n",
    "universe_analysis = UniverseAnalysis(\n",
    "    run_no = run_no,\n",
    "    universe_id = universe_id,\n",
    "    universe = universe,\n",
    "    output_dir=output_dir,\n",
    ")"
   ]
  },
  {
   "cell_type": "code",
   "execution_count": 8,
   "id": "106241f5",
   "metadata": {
    "execution": {
     "iopub.execute_input": "2025-08-05T15:55:05.937933Z",
     "iopub.status.busy": "2025-08-05T15:55:05.937321Z",
     "iopub.status.idle": "2025-08-05T15:55:05.944716Z",
     "shell.execute_reply": "2025-08-05T15:55:05.943611Z"
    },
    "papermill": {
     "duration": 0.029779,
     "end_time": "2025-08-05T15:55:05.946691",
     "exception": false,
     "start_time": "2025-08-05T15:55:05.916912",
     "status": "completed"
    },
    "tags": []
   },
   "outputs": [
    {
     "name": "stdout",
     "output_type": "stream",
     "text": [
      "Using Seed: 2023\n"
     ]
    }
   ],
   "source": [
    "import numpy as np\n",
    "parsed_seed = int(seed)\n",
    "np.random.seed(parsed_seed)\n",
    "print(f\"Using Seed: {parsed_seed}\")"
   ]
  },
  {
   "cell_type": "markdown",
   "id": "e0ebdc57",
   "metadata": {
    "papermill": {
     "duration": 0.018009,
     "end_time": "2025-08-05T15:55:05.983067",
     "exception": false,
     "start_time": "2025-08-05T15:55:05.965058",
     "status": "completed"
    },
    "tags": []
   },
   "source": [
    "# Loading Data"
   ]
  },
  {
   "cell_type": "code",
   "execution_count": 9,
   "id": "f0496b8a",
   "metadata": {
    "execution": {
     "iopub.execute_input": "2025-08-05T15:55:06.022851Z",
     "iopub.status.busy": "2025-08-05T15:55:06.022028Z",
     "iopub.status.idle": "2025-08-05T15:55:17.825372Z",
     "shell.execute_reply": "2025-08-05T15:55:17.824434Z"
    },
    "papermill": {
     "duration": 11.826018,
     "end_time": "2025-08-05T15:55:17.827762",
     "exception": false,
     "start_time": "2025-08-05T15:55:06.001744",
     "status": "completed"
    },
    "tags": []
   },
   "outputs": [
    {
     "name": "stdout",
     "output_type": "stream",
     "text": [
      "Loading SIAB data from cache: data/siab_cached.csv.gz\n"
     ]
    },
    {
     "name": "stdout",
     "output_type": "stream",
     "text": [
      "(643690, 164)\n"
     ]
    }
   ],
   "source": [
    "from pathlib import Path\n",
    "import pandas as pd\n",
    "\n",
    "# File paths\n",
    "raw_file = Path(\"data/raw/siab.csv\")\n",
    "cache_file = Path(\"data/siab_cached.csv.gz\")\n",
    "\n",
    "# Ensure cache directory exists\n",
    "cache_file.parent.mkdir(parents=True, exist_ok=True)\n",
    "\n",
    "# Load with simple caching\n",
    "if cache_file.exists():\n",
    "    print(f\"Loading SIAB data from cache: {cache_file}\")\n",
    "    siab = pd.read_csv(cache_file, compression='gzip')\n",
    "else:\n",
    "    print(f\"Cache not found. Reading raw SIAB data: {raw_file}\")\n",
    "    siab = pd.read_csv(raw_file)\n",
    "    siab.to_csv(cache_file, index=False, compression='gzip')\n",
    "    print(f\"Cached SIAB data to: {cache_file}\")\n",
    "\n",
    "print(siab.shape)"
   ]
  },
  {
   "cell_type": "code",
   "execution_count": 10,
   "id": "db0ca512-5f53-4dba-abdb-a2888bca41ba",
   "metadata": {
    "execution": {
     "iopub.execute_input": "2025-08-05T15:55:17.889440Z",
     "iopub.status.busy": "2025-08-05T15:55:17.888564Z",
     "iopub.status.idle": "2025-08-05T15:55:17.895315Z",
     "shell.execute_reply": "2025-08-05T15:55:17.893937Z"
    },
    "papermill": {
     "duration": 0.040142,
     "end_time": "2025-08-05T15:55:17.898016",
     "exception": false,
     "start_time": "2025-08-05T15:55:17.857874",
     "status": "completed"
    },
    "tags": []
   },
   "outputs": [],
   "source": [
    "#siab"
   ]
  },
  {
   "cell_type": "markdown",
   "id": "997051c5-15bd-4b69-9786-c3001a3ce484",
   "metadata": {
    "papermill": {
     "duration": 0.028209,
     "end_time": "2025-08-05T15:55:17.954810",
     "exception": false,
     "start_time": "2025-08-05T15:55:17.926601",
     "status": "completed"
    },
    "tags": []
   },
   "source": [
    "# Splitting Data and Setting Training Data Size"
   ]
  },
  {
   "cell_type": "code",
   "execution_count": 11,
   "id": "aea9c6ef-6f46-42c8-85eb-5a62025c1508",
   "metadata": {
    "execution": {
     "iopub.execute_input": "2025-08-05T15:55:18.013379Z",
     "iopub.status.busy": "2025-08-05T15:55:18.012923Z",
     "iopub.status.idle": "2025-08-05T15:55:19.012090Z",
     "shell.execute_reply": "2025-08-05T15:55:19.011344Z"
    },
    "papermill": {
     "duration": 1.032003,
     "end_time": "2025-08-05T15:55:19.014531",
     "exception": false,
     "start_time": "2025-08-05T15:55:17.982528",
     "status": "completed"
    },
    "tags": []
   },
   "outputs": [],
   "source": [
    "from fairness_multiverse.universe import sample_by_year_size\n",
    "\n",
    "siab_train = sample_by_year_size(siab,\n",
    "                               training_year=universe[\"training_year\"],\n",
    "                               training_size=universe[\"training_size\"])"
   ]
  },
  {
   "cell_type": "code",
   "execution_count": 12,
   "id": "8d3afb32-789d-442c-8d5d-9f5aa8dd2eed",
   "metadata": {
    "execution": {
     "iopub.execute_input": "2025-08-05T15:55:19.046761Z",
     "iopub.status.busy": "2025-08-05T15:55:19.046243Z",
     "iopub.status.idle": "2025-08-05T15:55:19.050848Z",
     "shell.execute_reply": "2025-08-05T15:55:19.050047Z"
    },
    "papermill": {
     "duration": 0.016412,
     "end_time": "2025-08-05T15:55:19.052209",
     "exception": false,
     "start_time": "2025-08-05T15:55:19.035797",
     "status": "completed"
    },
    "tags": []
   },
   "outputs": [],
   "source": [
    "#siab_train.shape"
   ]
  },
  {
   "cell_type": "code",
   "execution_count": 13,
   "id": "d582db68-1a4c-47fb-84fc-08518dc1975a",
   "metadata": {
    "execution": {
     "iopub.execute_input": "2025-08-05T15:55:19.073273Z",
     "iopub.status.busy": "2025-08-05T15:55:19.072520Z",
     "iopub.status.idle": "2025-08-05T15:55:19.077153Z",
     "shell.execute_reply": "2025-08-05T15:55:19.076462Z"
    },
    "papermill": {
     "duration": 0.016269,
     "end_time": "2025-08-05T15:55:19.078727",
     "exception": false,
     "start_time": "2025-08-05T15:55:19.062458",
     "status": "completed"
    },
    "tags": []
   },
   "outputs": [],
   "source": [
    "#display(siab_train.groupby(\"year\").size())"
   ]
  },
  {
   "cell_type": "code",
   "execution_count": 14,
   "id": "a561edb4-d032-42cb-8256-22eac1111c64",
   "metadata": {
    "execution": {
     "iopub.execute_input": "2025-08-05T15:55:19.100494Z",
     "iopub.status.busy": "2025-08-05T15:55:19.099801Z",
     "iopub.status.idle": "2025-08-05T15:55:19.305706Z",
     "shell.execute_reply": "2025-08-05T15:55:19.304917Z"
    },
    "papermill": {
     "duration": 0.217443,
     "end_time": "2025-08-05T15:55:19.307199",
     "exception": false,
     "start_time": "2025-08-05T15:55:19.089756",
     "status": "completed"
    },
    "tags": []
   },
   "outputs": [],
   "source": [
    "#siab_train = siab_s[siab_s.year < 2015]\n",
    "siab_calib = siab[siab.year == 2015]\n",
    "siab_test = siab[siab.year == 2016]"
   ]
  },
  {
   "cell_type": "code",
   "execution_count": 15,
   "id": "472de16f-c3db-4916-846b-1f0de9cf1746",
   "metadata": {
    "execution": {
     "iopub.execute_input": "2025-08-05T15:55:19.328453Z",
     "iopub.status.busy": "2025-08-05T15:55:19.328099Z",
     "iopub.status.idle": "2025-08-05T15:55:19.334991Z",
     "shell.execute_reply": "2025-08-05T15:55:19.333947Z"
    },
    "papermill": {
     "duration": 0.019312,
     "end_time": "2025-08-05T15:55:19.336360",
     "exception": false,
     "start_time": "2025-08-05T15:55:19.317048",
     "status": "completed"
    },
    "tags": []
   },
   "outputs": [],
   "source": [
    "X_train = siab_train.iloc[:,4:164]\n",
    "y_train = siab_train.iloc[:, [3]]"
   ]
  },
  {
   "cell_type": "code",
   "execution_count": 16,
   "id": "828c96af-f43a-4ed6-ba47-8ac73a47d56c",
   "metadata": {
    "execution": {
     "iopub.execute_input": "2025-08-05T15:55:19.359129Z",
     "iopub.status.busy": "2025-08-05T15:55:19.358381Z",
     "iopub.status.idle": "2025-08-05T15:55:19.406729Z",
     "shell.execute_reply": "2025-08-05T15:55:19.405813Z"
    },
    "papermill": {
     "duration": 0.060713,
     "end_time": "2025-08-05T15:55:19.408164",
     "exception": false,
     "start_time": "2025-08-05T15:55:19.347451",
     "status": "completed"
    },
    "tags": []
   },
   "outputs": [],
   "source": [
    "X_calib = siab_calib.iloc[:,4:164]\n",
    "y_calib = siab_calib.iloc[:, [3]]"
   ]
  },
  {
   "cell_type": "code",
   "execution_count": 17,
   "id": "c34be9c3-6bd6-476e-acd3-845840e303be",
   "metadata": {
    "execution": {
     "iopub.execute_input": "2025-08-05T15:55:19.430327Z",
     "iopub.status.busy": "2025-08-05T15:55:19.429809Z",
     "iopub.status.idle": "2025-08-05T15:55:19.479734Z",
     "shell.execute_reply": "2025-08-05T15:55:19.478885Z"
    },
    "papermill": {
     "duration": 0.06201,
     "end_time": "2025-08-05T15:55:19.481196",
     "exception": false,
     "start_time": "2025-08-05T15:55:19.419186",
     "status": "completed"
    },
    "tags": []
   },
   "outputs": [],
   "source": [
    "X_test = siab_test.iloc[:,4:164]\n",
    "y_true = siab_test.iloc[:, [3]]"
   ]
  },
  {
   "cell_type": "code",
   "execution_count": 18,
   "id": "e6c733c5",
   "metadata": {
    "execution": {
     "iopub.execute_input": "2025-08-05T15:55:19.503251Z",
     "iopub.status.busy": "2025-08-05T15:55:19.502703Z",
     "iopub.status.idle": "2025-08-05T15:55:19.593502Z",
     "shell.execute_reply": "2025-08-05T15:55:19.592719Z"
    },
    "papermill": {
     "duration": 0.103093,
     "end_time": "2025-08-05T15:55:19.595115",
     "exception": false,
     "start_time": "2025-08-05T15:55:19.492022",
     "status": "completed"
    },
    "tags": []
   },
   "outputs": [],
   "source": [
    "# Auxiliary data needed downstream in the pipeline\n",
    "\n",
    "org_train = X_train.copy()\n",
    "org_test = X_test.copy()\n",
    "org_calib = X_calib.copy()"
   ]
  },
  {
   "cell_type": "markdown",
   "id": "0a4a1b33",
   "metadata": {
    "papermill": {
     "duration": 0.009899,
     "end_time": "2025-08-05T15:55:19.614938",
     "exception": false,
     "start_time": "2025-08-05T15:55:19.605039",
     "status": "completed"
    },
    "tags": []
   },
   "source": [
    "# Preprocessing Data"
   ]
  },
  {
   "cell_type": "code",
   "execution_count": 19,
   "id": "ca879031",
   "metadata": {
    "execution": {
     "iopub.execute_input": "2025-08-05T15:55:19.635763Z",
     "iopub.status.busy": "2025-08-05T15:55:19.635237Z",
     "iopub.status.idle": "2025-08-05T15:55:19.640406Z",
     "shell.execute_reply": "2025-08-05T15:55:19.639466Z"
    },
    "papermill": {
     "duration": 0.017445,
     "end_time": "2025-08-05T15:55:19.641962",
     "exception": false,
     "start_time": "2025-08-05T15:55:19.624517",
     "status": "completed"
    },
    "tags": []
   },
   "outputs": [],
   "source": [
    "# EXCLUDE PROTECTED FEATURES\n",
    "# ----------------------\n",
    "# \"exclude_features\": \"none\", # \"nationality\", \"sex\", \"nationality-sex\"\n",
    "\n",
    "excluded_features = universe[\"exclude_features\"].split(\"-\") # split, e.g.: \"nationality-sex\" -> [\"nationality\", \"sex\"]\n",
    "excluded_features_dictionary = {\n",
    "    \"nationality\": [\"maxdeutsch1\", \"maxdeutsch.Missing.\"],\n",
    "    \"sex\": [\"frau1\"],\n",
    "    \"age\": [\"age\"],\n",
    "}"
   ]
  },
  {
   "cell_type": "code",
   "execution_count": 20,
   "id": "b745ac60",
   "metadata": {
    "execution": {
     "iopub.execute_input": "2025-08-05T15:55:19.664400Z",
     "iopub.status.busy": "2025-08-05T15:55:19.663869Z",
     "iopub.status.idle": "2025-08-05T15:55:19.668723Z",
     "shell.execute_reply": "2025-08-05T15:55:19.667925Z"
    },
    "papermill": {
     "duration": 0.016898,
     "end_time": "2025-08-05T15:55:19.670189",
     "exception": false,
     "start_time": "2025-08-05T15:55:19.653291",
     "status": "completed"
    },
    "tags": []
   },
   "outputs": [],
   "source": [
    "# Code nice names to column names\n",
    "\n",
    "excluded_features_columns = [\n",
    "    excluded_features_dictionary[f] for f in excluded_features if len(f) > 0 and f != \"none\"\n",
    "]"
   ]
  },
  {
   "cell_type": "code",
   "execution_count": 21,
   "id": "f84f73a2",
   "metadata": {
    "execution": {
     "iopub.execute_input": "2025-08-05T15:55:19.691745Z",
     "iopub.status.busy": "2025-08-05T15:55:19.690981Z",
     "iopub.status.idle": "2025-08-05T15:55:19.696368Z",
     "shell.execute_reply": "2025-08-05T15:55:19.695616Z"
    },
    "papermill": {
     "duration": 0.017069,
     "end_time": "2025-08-05T15:55:19.697874",
     "exception": false,
     "start_time": "2025-08-05T15:55:19.680805",
     "status": "completed"
    },
    "tags": []
   },
   "outputs": [],
   "source": [
    "from utils import flatten_once\n",
    "\n",
    "excluded_features_columns = flatten_once(excluded_features_columns)"
   ]
  },
  {
   "cell_type": "code",
   "execution_count": 22,
   "id": "884dea22",
   "metadata": {
    "execution": {
     "iopub.execute_input": "2025-08-05T15:55:19.718135Z",
     "iopub.status.busy": "2025-08-05T15:55:19.717808Z",
     "iopub.status.idle": "2025-08-05T15:55:19.725583Z",
     "shell.execute_reply": "2025-08-05T15:55:19.724844Z"
    },
    "papermill": {
     "duration": 0.019205,
     "end_time": "2025-08-05T15:55:19.727134",
     "exception": false,
     "start_time": "2025-08-05T15:55:19.707929",
     "status": "completed"
    },
    "tags": []
   },
   "outputs": [
    {
     "name": "stdout",
     "output_type": "stream",
     "text": [
      "Dropping features: ['maxdeutsch1', 'maxdeutsch.Missing.']\n"
     ]
    }
   ],
   "source": [
    "if len(excluded_features_columns) > 0:\n",
    "    print(f\"Dropping features: {excluded_features_columns}\")\n",
    "    X_train.drop(excluded_features_columns, axis=1, inplace=True)"
   ]
  },
  {
   "cell_type": "code",
   "execution_count": 23,
   "id": "95ab8b16",
   "metadata": {
    "execution": {
     "iopub.execute_input": "2025-08-05T15:55:19.754895Z",
     "iopub.status.busy": "2025-08-05T15:55:19.754384Z",
     "iopub.status.idle": "2025-08-05T15:55:19.816537Z",
     "shell.execute_reply": "2025-08-05T15:55:19.815292Z"
    },
    "papermill": {
     "duration": 0.080161,
     "end_time": "2025-08-05T15:55:19.818382",
     "exception": false,
     "start_time": "2025-08-05T15:55:19.738221",
     "status": "completed"
    },
    "tags": []
   },
   "outputs": [
    {
     "name": "stdout",
     "output_type": "stream",
     "text": [
      "Dropping features: ['maxdeutsch1', 'maxdeutsch.Missing.']\n"
     ]
    }
   ],
   "source": [
    "if len(excluded_features_columns) > 0:\n",
    "    print(f\"Dropping features: {excluded_features_columns}\")\n",
    "    X_test.drop(excluded_features_columns, axis=1, inplace=True)"
   ]
  },
  {
   "cell_type": "code",
   "execution_count": 24,
   "id": "1853aaf5-fb9f-46cb-a2b5-8ea4ae2237e4",
   "metadata": {
    "execution": {
     "iopub.execute_input": "2025-08-05T15:55:19.867538Z",
     "iopub.status.busy": "2025-08-05T15:55:19.867059Z",
     "iopub.status.idle": "2025-08-05T15:55:19.943807Z",
     "shell.execute_reply": "2025-08-05T15:55:19.942986Z"
    },
    "papermill": {
     "duration": 0.104544,
     "end_time": "2025-08-05T15:55:19.947048",
     "exception": false,
     "start_time": "2025-08-05T15:55:19.842504",
     "status": "completed"
    },
    "tags": []
   },
   "outputs": [
    {
     "name": "stdout",
     "output_type": "stream",
     "text": [
      "Dropping features: ['maxdeutsch1', 'maxdeutsch.Missing.']\n"
     ]
    }
   ],
   "source": [
    "if len(excluded_features_columns) > 0:\n",
    "    print(f\"Dropping features: {excluded_features_columns}\")\n",
    "    X_calib.drop(excluded_features_columns, axis=1, inplace=True)"
   ]
  },
  {
   "cell_type": "code",
   "execution_count": 25,
   "id": "76c4dc6d",
   "metadata": {
    "execution": {
     "iopub.execute_input": "2025-08-05T15:55:20.000543Z",
     "iopub.status.busy": "2025-08-05T15:55:19.999879Z",
     "iopub.status.idle": "2025-08-05T15:55:20.004875Z",
     "shell.execute_reply": "2025-08-05T15:55:20.004068Z"
    },
    "papermill": {
     "duration": 0.018553,
     "end_time": "2025-08-05T15:55:20.006578",
     "exception": false,
     "start_time": "2025-08-05T15:55:19.988025",
     "status": "completed"
    },
    "tags": []
   },
   "outputs": [],
   "source": [
    "# EXCLUDE CERTAIN SUBGROUPS\n",
    "# ----------------------\n",
    "\n",
    "mode = universe.get(\"exclude_subgroups\", \"keep-all\") \n",
    "# Fetches the exclude_subgroups setting from the universe dict.\n",
    "# Defaults to \"keep-all\" if the key is missing."
   ]
  },
  {
   "cell_type": "code",
   "execution_count": 26,
   "id": "21994072",
   "metadata": {
    "execution": {
     "iopub.execute_input": "2025-08-05T15:55:20.034023Z",
     "iopub.status.busy": "2025-08-05T15:55:20.033432Z",
     "iopub.status.idle": "2025-08-05T15:55:20.039237Z",
     "shell.execute_reply": "2025-08-05T15:55:20.038433Z"
    },
    "papermill": {
     "duration": 0.022912,
     "end_time": "2025-08-05T15:55:20.040775",
     "exception": false,
     "start_time": "2025-08-05T15:55:20.017863",
     "status": "completed"
    },
    "tags": []
   },
   "outputs": [],
   "source": [
    "if mode == \"keep-all\":\n",
    "    keep_mask = pd.Series(True, index=org_train.index)\n",
    "\n",
    "# org_train contains the original feature columns from features_org (in Simson)\n",
    "# features_org contains unprocessed features, for me X_train at beginning ???\n",
    "# For keep-all, creates a boolean Series (keep_mask) of all True, so no rows are removed.\n",
    "\n",
    "elif mode == \"drop-non-german\":\n",
    "    keep_mask = org_train[\"maxdeutsch1\"] == 1 # ??? what about missing values?\n",
    "\n",
    "else:\n",
    "    raise ValueError(f\"Unsupported mode for exclude_subgroups: {mode}\")"
   ]
  },
  {
   "cell_type": "code",
   "execution_count": 27,
   "id": "71651440",
   "metadata": {
    "execution": {
     "iopub.execute_input": "2025-08-05T15:55:20.064464Z",
     "iopub.status.busy": "2025-08-05T15:55:20.063918Z",
     "iopub.status.idle": "2025-08-05T15:55:20.070812Z",
     "shell.execute_reply": "2025-08-05T15:55:20.069960Z"
    },
    "papermill": {
     "duration": 0.019991,
     "end_time": "2025-08-05T15:55:20.072440",
     "exception": false,
     "start_time": "2025-08-05T15:55:20.052449",
     "status": "completed"
    },
    "tags": []
   },
   "outputs": [
    {
     "name": "stdout",
     "output_type": "stream",
     "text": [
      "Dropping 657 rows (13.14%) where mode='drop-non-german'\n"
     ]
    }
   ],
   "source": [
    "n_drop = (~keep_mask).sum() # Calculates how many rows are set to be dropped\n",
    "if n_drop > 0:\n",
    "    pct = n_drop / len(keep_mask) * 100\n",
    "    print(f\"Dropping {n_drop} rows ({pct:.2f}%) where mode='{mode}'\")"
   ]
  },
  {
   "cell_type": "code",
   "execution_count": 28,
   "id": "5fb8eee5",
   "metadata": {
    "execution": {
     "iopub.execute_input": "2025-08-05T15:55:20.099520Z",
     "iopub.status.busy": "2025-08-05T15:55:20.098733Z",
     "iopub.status.idle": "2025-08-05T15:55:20.107483Z",
     "shell.execute_reply": "2025-08-05T15:55:20.106553Z"
    },
    "papermill": {
     "duration": 0.025207,
     "end_time": "2025-08-05T15:55:20.109215",
     "exception": false,
     "start_time": "2025-08-05T15:55:20.084008",
     "status": "completed"
    },
    "tags": []
   },
   "outputs": [],
   "source": [
    "X_train = X_train[keep_mask]"
   ]
  },
  {
   "cell_type": "code",
   "execution_count": 29,
   "id": "b202bb3a",
   "metadata": {
    "execution": {
     "iopub.execute_input": "2025-08-05T15:55:20.151892Z",
     "iopub.status.busy": "2025-08-05T15:55:20.151546Z",
     "iopub.status.idle": "2025-08-05T15:55:20.157388Z",
     "shell.execute_reply": "2025-08-05T15:55:20.156166Z"
    },
    "papermill": {
     "duration": 0.02924,
     "end_time": "2025-08-05T15:55:20.159457",
     "exception": false,
     "start_time": "2025-08-05T15:55:20.130217",
     "status": "completed"
    },
    "tags": []
   },
   "outputs": [],
   "source": [
    "y_train = y_train[keep_mask]"
   ]
  },
  {
   "cell_type": "markdown",
   "id": "493e2ac3",
   "metadata": {
    "papermill": {
     "duration": 0.022808,
     "end_time": "2025-08-05T15:55:20.205584",
     "exception": false,
     "start_time": "2025-08-05T15:55:20.182776",
     "status": "completed"
    },
    "tags": []
   },
   "source": [
    "# Model Training"
   ]
  },
  {
   "cell_type": "code",
   "execution_count": 30,
   "id": "679e1268",
   "metadata": {
    "execution": {
     "iopub.execute_input": "2025-08-05T15:55:20.252274Z",
     "iopub.status.busy": "2025-08-05T15:55:20.251605Z",
     "iopub.status.idle": "2025-08-05T15:55:20.377711Z",
     "shell.execute_reply": "2025-08-05T15:55:20.376130Z"
    },
    "papermill": {
     "duration": 0.156465,
     "end_time": "2025-08-05T15:55:20.382919",
     "exception": false,
     "start_time": "2025-08-05T15:55:20.226454",
     "status": "completed"
    },
    "tags": []
   },
   "outputs": [],
   "source": [
    "from sklearn.linear_model import LogisticRegression\n",
    "from sklearn.ensemble import GradientBoostingClassifier, RandomForestClassifier\n",
    "\n",
    "if (universe[\"model\"] == \"logreg\"):\n",
    "    model = LogisticRegression() #penalty=\"none\", solver=\"newton-cg\", max_iter=1) # include random_state=19 ?\n",
    "elif (universe[\"model\"] == \"penalized_logreg\"):\n",
    "    model = LogisticRegression(penalty=\"l2\", C=0.1) #, solver=\"newton-cg\", max_iter=1)\n",
    "elif (universe[\"model\"] == \"rf\"):\n",
    "    model = RandomForestClassifier() # n_estimators=100, n_jobs=-1\n",
    "elif (universe[\"model\"] == \"gbm\"):\n",
    "    model = GradientBoostingClassifier()\n",
    "elif (universe[\"model\"] == \"elasticnet\"):\n",
    "    model = LogisticRegression(penalty = 'elasticnet', solver = 'saga', l1_ratio = 0.5) # max_iter=5000\n",
    "else:\n",
    "    raise \"Unsupported universe.model\""
   ]
  },
  {
   "cell_type": "code",
   "execution_count": 31,
   "id": "0cc8f744",
   "metadata": {
    "execution": {
     "iopub.execute_input": "2025-08-05T15:55:20.423020Z",
     "iopub.status.busy": "2025-08-05T15:55:20.422597Z",
     "iopub.status.idle": "2025-08-05T15:55:20.428760Z",
     "shell.execute_reply": "2025-08-05T15:55:20.427987Z"
    },
    "papermill": {
     "duration": 0.022287,
     "end_time": "2025-08-05T15:55:20.430365",
     "exception": false,
     "start_time": "2025-08-05T15:55:20.408078",
     "status": "completed"
    },
    "tags": []
   },
   "outputs": [],
   "source": [
    "import numpy as np\n",
    "from sklearn.pipeline import Pipeline\n",
    "from sklearn.preprocessing import StandardScaler\n",
    "\n",
    "model = Pipeline([\n",
    "    #(\"continuous_processor\", continuous_processor),\n",
    "    #(\"categorical_preprocessor\", categorical_preprocessor),\n",
    "    (\"scale\", StandardScaler() if universe[\"scale\"] == \"scale\" else None), \n",
    "    (\"model\", model),\n",
    "])"
   ]
  },
  {
   "cell_type": "code",
   "execution_count": 32,
   "id": "9442c04d",
   "metadata": {
    "execution": {
     "iopub.execute_input": "2025-08-05T15:55:20.466693Z",
     "iopub.status.busy": "2025-08-05T15:55:20.466256Z",
     "iopub.status.idle": "2025-08-05T15:55:20.600633Z",
     "shell.execute_reply": "2025-08-05T15:55:20.599874Z"
    },
    "papermill": {
     "duration": 0.157993,
     "end_time": "2025-08-05T15:55:20.602116",
     "exception": false,
     "start_time": "2025-08-05T15:55:20.444123",
     "status": "completed"
    },
    "tags": []
   },
   "outputs": [
    {
     "name": "stderr",
     "output_type": "stream",
     "text": [
      "/dss/dsshome1/0C/ra93lal2/.local/share/virtualenvs/CMA_Fairness_v2-3j10GkSs/lib/python3.10/site-packages/sklearn/linear_model/_logistic.py:444: ConvergenceWarning: lbfgs failed to converge (status=1):\n",
      "STOP: TOTAL NO. of ITERATIONS REACHED LIMIT.\n",
      "\n",
      "Increase the number of iterations (max_iter) or scale the data as shown in:\n",
      "    https://scikit-learn.org/stable/modules/preprocessing.html\n",
      "Please also refer to the documentation for alternative solver options:\n",
      "    https://scikit-learn.org/stable/modules/linear_model.html#logistic-regression\n",
      "  n_iter_i = _check_optimize_result(\n"
     ]
    },
    {
     "data": {
      "text/html": [
       "<style>#sk-container-id-1 {color: black;background-color: white;}#sk-container-id-1 pre{padding: 0;}#sk-container-id-1 div.sk-toggleable {background-color: white;}#sk-container-id-1 label.sk-toggleable__label {cursor: pointer;display: block;width: 100%;margin-bottom: 0;padding: 0.3em;box-sizing: border-box;text-align: center;}#sk-container-id-1 label.sk-toggleable__label-arrow:before {content: \"▸\";float: left;margin-right: 0.25em;color: #696969;}#sk-container-id-1 label.sk-toggleable__label-arrow:hover:before {color: black;}#sk-container-id-1 div.sk-estimator:hover label.sk-toggleable__label-arrow:before {color: black;}#sk-container-id-1 div.sk-toggleable__content {max-height: 0;max-width: 0;overflow: hidden;text-align: left;background-color: #f0f8ff;}#sk-container-id-1 div.sk-toggleable__content pre {margin: 0.2em;color: black;border-radius: 0.25em;background-color: #f0f8ff;}#sk-container-id-1 input.sk-toggleable__control:checked~div.sk-toggleable__content {max-height: 200px;max-width: 100%;overflow: auto;}#sk-container-id-1 input.sk-toggleable__control:checked~label.sk-toggleable__label-arrow:before {content: \"▾\";}#sk-container-id-1 div.sk-estimator input.sk-toggleable__control:checked~label.sk-toggleable__label {background-color: #d4ebff;}#sk-container-id-1 div.sk-label input.sk-toggleable__control:checked~label.sk-toggleable__label {background-color: #d4ebff;}#sk-container-id-1 input.sk-hidden--visually {border: 0;clip: rect(1px 1px 1px 1px);clip: rect(1px, 1px, 1px, 1px);height: 1px;margin: -1px;overflow: hidden;padding: 0;position: absolute;width: 1px;}#sk-container-id-1 div.sk-estimator {font-family: monospace;background-color: #f0f8ff;border: 1px dotted black;border-radius: 0.25em;box-sizing: border-box;margin-bottom: 0.5em;}#sk-container-id-1 div.sk-estimator:hover {background-color: #d4ebff;}#sk-container-id-1 div.sk-parallel-item::after {content: \"\";width: 100%;border-bottom: 1px solid gray;flex-grow: 1;}#sk-container-id-1 div.sk-label:hover label.sk-toggleable__label {background-color: #d4ebff;}#sk-container-id-1 div.sk-serial::before {content: \"\";position: absolute;border-left: 1px solid gray;box-sizing: border-box;top: 0;bottom: 0;left: 50%;z-index: 0;}#sk-container-id-1 div.sk-serial {display: flex;flex-direction: column;align-items: center;background-color: white;padding-right: 0.2em;padding-left: 0.2em;position: relative;}#sk-container-id-1 div.sk-item {position: relative;z-index: 1;}#sk-container-id-1 div.sk-parallel {display: flex;align-items: stretch;justify-content: center;background-color: white;position: relative;}#sk-container-id-1 div.sk-item::before, #sk-container-id-1 div.sk-parallel-item::before {content: \"\";position: absolute;border-left: 1px solid gray;box-sizing: border-box;top: 0;bottom: 0;left: 50%;z-index: -1;}#sk-container-id-1 div.sk-parallel-item {display: flex;flex-direction: column;z-index: 1;position: relative;background-color: white;}#sk-container-id-1 div.sk-parallel-item:first-child::after {align-self: flex-end;width: 50%;}#sk-container-id-1 div.sk-parallel-item:last-child::after {align-self: flex-start;width: 50%;}#sk-container-id-1 div.sk-parallel-item:only-child::after {width: 0;}#sk-container-id-1 div.sk-dashed-wrapped {border: 1px dashed gray;margin: 0 0.4em 0.5em 0.4em;box-sizing: border-box;padding-bottom: 0.4em;background-color: white;}#sk-container-id-1 div.sk-label label {font-family: monospace;font-weight: bold;display: inline-block;line-height: 1.2em;}#sk-container-id-1 div.sk-label-container {text-align: center;}#sk-container-id-1 div.sk-container {/* jupyter's `normalize.less` sets `[hidden] { display: none; }` but bootstrap.min.css set `[hidden] { display: none !important; }` so we also need the `!important` here to be able to override the default hidden behavior on the sphinx rendered scikit-learn.org. See: https://github.com/scikit-learn/scikit-learn/issues/21755 */display: inline-block !important;position: relative;}#sk-container-id-1 div.sk-text-repr-fallback {display: none;}</style><div id=\"sk-container-id-1\" class=\"sk-top-container\"><div class=\"sk-text-repr-fallback\"><pre>Pipeline(steps=[(&#x27;scale&#x27;, None), (&#x27;model&#x27;, LogisticRegression())])</pre><b>In a Jupyter environment, please rerun this cell to show the HTML representation or trust the notebook. <br />On GitHub, the HTML representation is unable to render, please try loading this page with nbviewer.org.</b></div><div class=\"sk-container\" hidden><div class=\"sk-item sk-dashed-wrapped\"><div class=\"sk-label-container\"><div class=\"sk-label sk-toggleable\"><input class=\"sk-toggleable__control sk-hidden--visually\" id=\"sk-estimator-id-1\" type=\"checkbox\" ><label for=\"sk-estimator-id-1\" class=\"sk-toggleable__label sk-toggleable__label-arrow\">Pipeline</label><div class=\"sk-toggleable__content\"><pre>Pipeline(steps=[(&#x27;scale&#x27;, None), (&#x27;model&#x27;, LogisticRegression())])</pre></div></div></div><div class=\"sk-serial\"><div class=\"sk-item\"><div class=\"sk-estimator sk-toggleable\"><input class=\"sk-toggleable__control sk-hidden--visually\" id=\"sk-estimator-id-2\" type=\"checkbox\" ><label for=\"sk-estimator-id-2\" class=\"sk-toggleable__label sk-toggleable__label-arrow\">None</label><div class=\"sk-toggleable__content\"><pre>None</pre></div></div></div><div class=\"sk-item\"><div class=\"sk-estimator sk-toggleable\"><input class=\"sk-toggleable__control sk-hidden--visually\" id=\"sk-estimator-id-3\" type=\"checkbox\" ><label for=\"sk-estimator-id-3\" class=\"sk-toggleable__label sk-toggleable__label-arrow\">LogisticRegression</label><div class=\"sk-toggleable__content\"><pre>LogisticRegression()</pre></div></div></div></div></div></div></div>"
      ],
      "text/plain": [
       "Pipeline(steps=[('scale', None), ('model', LogisticRegression())])"
      ]
     },
     "execution_count": 32,
     "metadata": {},
     "output_type": "execute_result"
    }
   ],
   "source": [
    "model.fit(X_train, y_train.values.ravel())"
   ]
  },
  {
   "cell_type": "code",
   "execution_count": 33,
   "id": "af59f8c0",
   "metadata": {
    "execution": {
     "iopub.execute_input": "2025-08-05T15:55:20.624811Z",
     "iopub.status.busy": "2025-08-05T15:55:20.624477Z",
     "iopub.status.idle": "2025-08-05T15:55:20.628853Z",
     "shell.execute_reply": "2025-08-05T15:55:20.628041Z"
    },
    "papermill": {
     "duration": 0.01691,
     "end_time": "2025-08-05T15:55:20.630340",
     "exception": false,
     "start_time": "2025-08-05T15:55:20.613430",
     "status": "completed"
    },
    "tags": []
   },
   "outputs": [],
   "source": [
    "from fairness_multiverse.universe import predict_w_threshold"
   ]
  },
  {
   "cell_type": "code",
   "execution_count": 34,
   "id": "a7cf2e16",
   "metadata": {
    "execution": {
     "iopub.execute_input": "2025-08-05T15:55:20.683652Z",
     "iopub.status.busy": "2025-08-05T15:55:20.682570Z",
     "iopub.status.idle": "2025-08-05T15:55:20.781590Z",
     "shell.execute_reply": "2025-08-05T15:55:20.780034Z"
    },
    "papermill": {
     "duration": 0.13513,
     "end_time": "2025-08-05T15:55:20.783398",
     "exception": false,
     "start_time": "2025-08-05T15:55:20.648268",
     "status": "completed"
    },
    "tags": []
   },
   "outputs": [
    {
     "data": {
      "text/plain": [
       "0.8611526028313454"
      ]
     },
     "execution_count": 34,
     "metadata": {},
     "output_type": "execute_result"
    }
   ],
   "source": [
    "probs_test = model.predict_proba(X_test)\n",
    "\n",
    "'''\n",
    "Below code returns a boolean array (or binary 0/1 array depending on how it’s used) where each element \n",
    "is True if the probability of class 1 is greater than or equal to the threshold, and False otherwise.\n",
    "'''\n",
    "y_pred_default = predict_w_threshold(probs_test, 0.5)\n",
    "\n",
    "from sklearn.metrics import accuracy_score\n",
    "\n",
    "# Naive prediction\n",
    "accuracy_score(y_true = y_true, y_pred = y_pred_default)"
   ]
  },
  {
   "cell_type": "code",
   "execution_count": 35,
   "id": "081964c3",
   "metadata": {
    "execution": {
     "iopub.execute_input": "2025-08-05T15:55:20.833589Z",
     "iopub.status.busy": "2025-08-05T15:55:20.832664Z",
     "iopub.status.idle": "2025-08-05T15:55:20.921913Z",
     "shell.execute_reply": "2025-08-05T15:55:20.920434Z"
    },
    "papermill": {
     "duration": 0.116769,
     "end_time": "2025-08-05T15:55:20.923781",
     "exception": false,
     "start_time": "2025-08-05T15:55:20.807012",
     "status": "completed"
    },
    "tags": []
   },
   "outputs": [
    {
     "data": {
      "text/plain": [
       "array([0, 0, 0, ..., 0, 0, 0])"
      ]
     },
     "execution_count": 35,
     "metadata": {},
     "output_type": "execute_result"
    }
   ],
   "source": [
    "model.predict(X_test)"
   ]
  },
  {
   "cell_type": "markdown",
   "id": "56c9705b",
   "metadata": {
    "papermill": {
     "duration": 0.020169,
     "end_time": "2025-08-05T15:55:20.963567",
     "exception": false,
     "start_time": "2025-08-05T15:55:20.943398",
     "status": "completed"
    },
    "tags": []
   },
   "source": [
    "# Conformal Prediction"
   ]
  },
  {
   "cell_type": "code",
   "execution_count": 36,
   "id": "160ec6ff",
   "metadata": {
    "execution": {
     "iopub.execute_input": "2025-08-05T15:55:21.004536Z",
     "iopub.status.busy": "2025-08-05T15:55:21.003590Z",
     "iopub.status.idle": "2025-08-05T15:55:21.008339Z",
     "shell.execute_reply": "2025-08-05T15:55:21.007503Z"
    },
    "papermill": {
     "duration": 0.027471,
     "end_time": "2025-08-05T15:55:21.009768",
     "exception": false,
     "start_time": "2025-08-05T15:55:20.982297",
     "status": "completed"
    },
    "tags": []
   },
   "outputs": [],
   "source": [
    "# Miscoverage level for conformal prediction (10% allowed error rate => 90% target coverage)\n",
    "alpha = 0.1"
   ]
  },
  {
   "cell_type": "code",
   "execution_count": 37,
   "id": "eadf4555-3dd3-440e-8e35-f82a4ad9f855",
   "metadata": {
    "execution": {
     "iopub.execute_input": "2025-08-05T15:55:21.035820Z",
     "iopub.status.busy": "2025-08-05T15:55:21.035295Z",
     "iopub.status.idle": "2025-08-05T15:55:21.117389Z",
     "shell.execute_reply": "2025-08-05T15:55:21.116423Z"
    },
    "papermill": {
     "duration": 0.096813,
     "end_time": "2025-08-05T15:55:21.119472",
     "exception": false,
     "start_time": "2025-08-05T15:55:21.022659",
     "status": "completed"
    },
    "tags": []
   },
   "outputs": [],
   "source": [
    "probs_calib = model.predict_proba(X_calib)"
   ]
  },
  {
   "cell_type": "code",
   "execution_count": 38,
   "id": "2ed93547-6d5d-4983-9b36-1ecb300da49a",
   "metadata": {
    "execution": {
     "iopub.execute_input": "2025-08-05T15:55:21.163415Z",
     "iopub.status.busy": "2025-08-05T15:55:21.162914Z",
     "iopub.status.idle": "2025-08-05T15:55:21.168304Z",
     "shell.execute_reply": "2025-08-05T15:55:21.167490Z"
    },
    "papermill": {
     "duration": 0.026793,
     "end_time": "2025-08-05T15:55:21.170248",
     "exception": false,
     "start_time": "2025-08-05T15:55:21.143455",
     "status": "completed"
    },
    "tags": []
   },
   "outputs": [],
   "source": [
    "y_calib = y_calib.values.ravel().astype(int)"
   ]
  },
  {
   "cell_type": "code",
   "execution_count": 39,
   "id": "65d1320d-f588-4b38-9072-62af1ae97f7d",
   "metadata": {
    "execution": {
     "iopub.execute_input": "2025-08-05T15:55:21.212511Z",
     "iopub.status.busy": "2025-08-05T15:55:21.211505Z",
     "iopub.status.idle": "2025-08-05T15:55:21.218424Z",
     "shell.execute_reply": "2025-08-05T15:55:21.217607Z"
    },
    "papermill": {
     "duration": 0.02555,
     "end_time": "2025-08-05T15:55:21.219765",
     "exception": false,
     "start_time": "2025-08-05T15:55:21.194215",
     "status": "completed"
    },
    "tags": []
   },
   "outputs": [],
   "source": [
    "from fairness_multiverse.conformal import compute_nc_scores\n",
    "\n",
    "# Compute nonconformity scores on calibration set (1 - probability of true class)\n",
    "nc_scores = compute_nc_scores(probs_calib, y_calib)"
   ]
  },
  {
   "cell_type": "code",
   "execution_count": 40,
   "id": "df3b8ca3-53b7-43d5-9667-7c85da7aeda2",
   "metadata": {
    "execution": {
     "iopub.execute_input": "2025-08-05T15:55:21.244662Z",
     "iopub.status.busy": "2025-08-05T15:55:21.243935Z",
     "iopub.status.idle": "2025-08-05T15:55:21.249830Z",
     "shell.execute_reply": "2025-08-05T15:55:21.248904Z"
    },
    "papermill": {
     "duration": 0.019008,
     "end_time": "2025-08-05T15:55:21.251415",
     "exception": false,
     "start_time": "2025-08-05T15:55:21.232407",
     "status": "completed"
    },
    "tags": []
   },
   "outputs": [],
   "source": [
    "from fairness_multiverse.conformal import find_threshold\n",
    "\n",
    "# Find conformal threshold q_hat for the given alpha (split conformal method)\n",
    "q_hat = find_threshold(nc_scores, alpha)"
   ]
  },
  {
   "cell_type": "code",
   "execution_count": 41,
   "id": "4d29e6c1-0ef6-4aa4-b8fe-4fe79b0d033a",
   "metadata": {
    "execution": {
     "iopub.execute_input": "2025-08-05T15:55:21.275893Z",
     "iopub.status.busy": "2025-08-05T15:55:21.275191Z",
     "iopub.status.idle": "2025-08-05T15:55:21.281586Z",
     "shell.execute_reply": "2025-08-05T15:55:21.280711Z"
    },
    "papermill": {
     "duration": 0.019192,
     "end_time": "2025-08-05T15:55:21.283039",
     "exception": false,
     "start_time": "2025-08-05T15:55:21.263847",
     "status": "completed"
    },
    "tags": []
   },
   "outputs": [
    {
     "data": {
      "text/plain": [
       "0.6763762174000252"
      ]
     },
     "execution_count": 41,
     "metadata": {},
     "output_type": "execute_result"
    }
   ],
   "source": [
    "q_hat"
   ]
  },
  {
   "cell_type": "code",
   "execution_count": 42,
   "id": "92460794-cdac-4be2-ba28-f28c0515a6fb",
   "metadata": {
    "execution": {
     "iopub.execute_input": "2025-08-05T15:55:21.307105Z",
     "iopub.status.busy": "2025-08-05T15:55:21.306600Z",
     "iopub.status.idle": "2025-08-05T15:55:22.107708Z",
     "shell.execute_reply": "2025-08-05T15:55:22.106935Z"
    },
    "papermill": {
     "duration": 0.814469,
     "end_time": "2025-08-05T15:55:22.109149",
     "exception": false,
     "start_time": "2025-08-05T15:55:21.294680",
     "status": "completed"
    },
    "tags": []
   },
   "outputs": [],
   "source": [
    "from fairness_multiverse.conformal import predict_conformal_sets\n",
    "\n",
    "# Generate prediction sets for each test example\n",
    "pred_sets = predict_conformal_sets(model, X_test, q_hat)"
   ]
  },
  {
   "cell_type": "code",
   "execution_count": 43,
   "id": "d90c9a65-e6db-4f5d-80cd-e68fb7e46829",
   "metadata": {
    "execution": {
     "iopub.execute_input": "2025-08-05T15:55:22.136067Z",
     "iopub.status.busy": "2025-08-05T15:55:22.135511Z",
     "iopub.status.idle": "2025-08-05T15:55:22.140992Z",
     "shell.execute_reply": "2025-08-05T15:55:22.139858Z"
    },
    "papermill": {
     "duration": 0.019877,
     "end_time": "2025-08-05T15:55:22.143270",
     "exception": false,
     "start_time": "2025-08-05T15:55:22.123393",
     "status": "completed"
    },
    "tags": []
   },
   "outputs": [],
   "source": [
    "y_true = y_true.squeeze()"
   ]
  },
  {
   "cell_type": "code",
   "execution_count": 44,
   "id": "3a58a54a-1e68-46b9-927a-df01f18aebc8",
   "metadata": {
    "execution": {
     "iopub.execute_input": "2025-08-05T15:55:22.169610Z",
     "iopub.status.busy": "2025-08-05T15:55:22.168915Z",
     "iopub.status.idle": "2025-08-05T15:55:23.417970Z",
     "shell.execute_reply": "2025-08-05T15:55:23.416851Z"
    },
    "papermill": {
     "duration": 1.264296,
     "end_time": "2025-08-05T15:55:23.420056",
     "exception": false,
     "start_time": "2025-08-05T15:55:22.155760",
     "status": "completed"
    },
    "tags": []
   },
   "outputs": [],
   "source": [
    "from fairness_multiverse.conformal import evaluate_sets\n",
    "\n",
    "# Evaluate coverage and average set size on test data\n",
    "metrics = evaluate_sets(pred_sets, y_true)"
   ]
  },
  {
   "cell_type": "markdown",
   "id": "2b569c12-9aaa-4c88-98c9-bbcd0cf3ebb8",
   "metadata": {
    "papermill": {
     "duration": 0.023689,
     "end_time": "2025-08-05T15:55:23.483682",
     "exception": false,
     "start_time": "2025-08-05T15:55:23.459993",
     "status": "completed"
    },
    "tags": []
   },
   "source": [
    "# CP Metrics"
   ]
  },
  {
   "cell_type": "code",
   "execution_count": 45,
   "id": "5ce0a5cb-201f-45a0-ade5-94c7f0bd6095",
   "metadata": {
    "execution": {
     "iopub.execute_input": "2025-08-05T15:55:23.534172Z",
     "iopub.status.busy": "2025-08-05T15:55:23.533598Z",
     "iopub.status.idle": "2025-08-05T15:55:23.541500Z",
     "shell.execute_reply": "2025-08-05T15:55:23.540380Z"
    },
    "papermill": {
     "duration": 0.034783,
     "end_time": "2025-08-05T15:55:23.543335",
     "exception": false,
     "start_time": "2025-08-05T15:55:23.508552",
     "status": "completed"
    },
    "tags": []
   },
   "outputs": [
    {
     "data": {
      "text/plain": [
       "{'coverage': 0.9124400847174228, 'avg_size': 1.2162189276557798}"
      ]
     },
     "execution_count": 45,
     "metadata": {},
     "output_type": "execute_result"
    }
   ],
   "source": [
    "metrics"
   ]
  },
  {
   "cell_type": "code",
   "execution_count": 46,
   "id": "9b9a838d-31c9-430b-ae14-12baee460d17",
   "metadata": {
    "execution": {
     "iopub.execute_input": "2025-08-05T15:55:23.597641Z",
     "iopub.status.busy": "2025-08-05T15:55:23.596866Z",
     "iopub.status.idle": "2025-08-05T15:55:23.604729Z",
     "shell.execute_reply": "2025-08-05T15:55:23.603664Z"
    },
    "papermill": {
     "duration": 0.036845,
     "end_time": "2025-08-05T15:55:23.606814",
     "exception": false,
     "start_time": "2025-08-05T15:55:23.569969",
     "status": "completed"
    },
    "tags": []
   },
   "outputs": [],
   "source": [
    "example_universe = universe.copy()\n",
    "universe_training_year = example_universe.get(\"training_year\")\n",
    "universe_training_size = example_universe.get(\"training_size\")\n",
    "universe_scale = example_universe.get(\"scale\")\n",
    "universe_model = example_universe.get(\"model\")\n",
    "universe_exclude_features = example_universe.get(\"exclude_features\")\n",
    "universe_exclude_subgroups = example_universe.get(\"exclude_subgroups\")"
   ]
  },
  {
   "cell_type": "code",
   "execution_count": 47,
   "id": "f4b6a8ac-9dc0-4245-8a91-5b3b5999c4f9",
   "metadata": {
    "execution": {
     "iopub.execute_input": "2025-08-05T15:55:23.657738Z",
     "iopub.status.busy": "2025-08-05T15:55:23.656950Z",
     "iopub.status.idle": "2025-08-05T15:55:23.664250Z",
     "shell.execute_reply": "2025-08-05T15:55:23.663005Z"
    },
    "papermill": {
     "duration": 0.034806,
     "end_time": "2025-08-05T15:55:23.666442",
     "exception": false,
     "start_time": "2025-08-05T15:55:23.631636",
     "status": "completed"
    },
    "tags": []
   },
   "outputs": [],
   "source": [
    "cp_metrics_dict = {\n",
    "    \"universe_id\": [universe_id],\n",
    "    \"universe_training_year\": [universe_training_year],\n",
    "    \"universe_training_size\": [universe_training_size],\n",
    "    \"universe_scale\": [universe_scale],\n",
    "    \"universe_model\": [universe_model],\n",
    "    \"universe_exclude_features\": [universe_exclude_features],\n",
    "    \"universe_exclude_subgroups\": [universe_exclude_subgroups],\n",
    "    \"q_hat\": [q_hat],\n",
    "    \"coverage\": [metrics[\"coverage\"]],\n",
    "    \"avg_size\": [metrics[\"avg_size\"]],\n",
    "}"
   ]
  },
  {
   "cell_type": "code",
   "execution_count": 48,
   "id": "908acbb1-0371-4915-85ca-3fa520d2efe2",
   "metadata": {
    "execution": {
     "iopub.execute_input": "2025-08-05T15:55:23.716668Z",
     "iopub.status.busy": "2025-08-05T15:55:23.715959Z",
     "iopub.status.idle": "2025-08-05T15:55:23.724203Z",
     "shell.execute_reply": "2025-08-05T15:55:23.722991Z"
    },
    "papermill": {
     "duration": 0.034652,
     "end_time": "2025-08-05T15:55:23.726197",
     "exception": false,
     "start_time": "2025-08-05T15:55:23.691545",
     "status": "completed"
    },
    "tags": []
   },
   "outputs": [
    {
     "data": {
      "text/plain": [
       "{'universe_id': ['1a4a97575f597b093ce5fc2881b198ee'],\n",
       " 'universe_training_year': ['2010_14'],\n",
       " 'universe_training_size': ['5k'],\n",
       " 'universe_scale': ['do-not-scale'],\n",
       " 'universe_model': ['logreg'],\n",
       " 'universe_exclude_features': ['nationality'],\n",
       " 'universe_exclude_subgroups': ['drop-non-german'],\n",
       " 'q_hat': [0.6763762174000252],\n",
       " 'coverage': [0.9124400847174228],\n",
       " 'avg_size': [1.2162189276557798]}"
      ]
     },
     "execution_count": 48,
     "metadata": {},
     "output_type": "execute_result"
    }
   ],
   "source": [
    "cp_metrics_dict"
   ]
  },
  {
   "cell_type": "code",
   "execution_count": 49,
   "id": "33007efc-14e9-4ec6-97ac-56a455c82265",
   "metadata": {
    "execution": {
     "iopub.execute_input": "2025-08-05T15:55:23.778688Z",
     "iopub.status.busy": "2025-08-05T15:55:23.777960Z",
     "iopub.status.idle": "2025-08-05T15:55:23.785409Z",
     "shell.execute_reply": "2025-08-05T15:55:23.784262Z"
    },
    "papermill": {
     "duration": 0.035651,
     "end_time": "2025-08-05T15:55:23.787264",
     "exception": false,
     "start_time": "2025-08-05T15:55:23.751613",
     "status": "completed"
    },
    "tags": []
   },
   "outputs": [],
   "source": [
    "cp_metrics_df = pd.DataFrame(cp_metrics_dict)"
   ]
  },
  {
   "cell_type": "code",
   "execution_count": 50,
   "id": "db12611b-57b2-4910-b9d0-355adfd6e7bf",
   "metadata": {
    "execution": {
     "iopub.execute_input": "2025-08-05T15:55:23.840462Z",
     "iopub.status.busy": "2025-08-05T15:55:23.839513Z",
     "iopub.status.idle": "2025-08-05T15:55:23.859926Z",
     "shell.execute_reply": "2025-08-05T15:55:23.858953Z"
    },
    "papermill": {
     "duration": 0.048417,
     "end_time": "2025-08-05T15:55:23.861721",
     "exception": false,
     "start_time": "2025-08-05T15:55:23.813304",
     "status": "completed"
    },
    "tags": []
   },
   "outputs": [
    {
     "data": {
      "text/html": [
       "<div>\n",
       "<style scoped>\n",
       "    .dataframe tbody tr th:only-of-type {\n",
       "        vertical-align: middle;\n",
       "    }\n",
       "\n",
       "    .dataframe tbody tr th {\n",
       "        vertical-align: top;\n",
       "    }\n",
       "\n",
       "    .dataframe thead th {\n",
       "        text-align: right;\n",
       "    }\n",
       "</style>\n",
       "<table border=\"1\" class=\"dataframe\">\n",
       "  <thead>\n",
       "    <tr style=\"text-align: right;\">\n",
       "      <th></th>\n",
       "      <th>universe_id</th>\n",
       "      <th>universe_training_year</th>\n",
       "      <th>universe_training_size</th>\n",
       "      <th>universe_scale</th>\n",
       "      <th>universe_model</th>\n",
       "      <th>universe_exclude_features</th>\n",
       "      <th>universe_exclude_subgroups</th>\n",
       "      <th>q_hat</th>\n",
       "      <th>coverage</th>\n",
       "      <th>avg_size</th>\n",
       "    </tr>\n",
       "  </thead>\n",
       "  <tbody>\n",
       "    <tr>\n",
       "      <th>0</th>\n",
       "      <td>1a4a97575f597b093ce5fc2881b198ee</td>\n",
       "      <td>2010_14</td>\n",
       "      <td>5k</td>\n",
       "      <td>do-not-scale</td>\n",
       "      <td>logreg</td>\n",
       "      <td>nationality</td>\n",
       "      <td>drop-non-german</td>\n",
       "      <td>0.676376</td>\n",
       "      <td>0.91244</td>\n",
       "      <td>1.216219</td>\n",
       "    </tr>\n",
       "  </tbody>\n",
       "</table>\n",
       "</div>"
      ],
      "text/plain": [
       "                        universe_id universe_training_year  \\\n",
       "0  1a4a97575f597b093ce5fc2881b198ee                2010_14   \n",
       "\n",
       "  universe_training_size universe_scale universe_model  \\\n",
       "0                     5k   do-not-scale         logreg   \n",
       "\n",
       "  universe_exclude_features universe_exclude_subgroups     q_hat  coverage  \\\n",
       "0               nationality            drop-non-german  0.676376   0.91244   \n",
       "\n",
       "   avg_size  \n",
       "0  1.216219  "
      ]
     },
     "execution_count": 50,
     "metadata": {},
     "output_type": "execute_result"
    }
   ],
   "source": [
    "cp_metrics_df"
   ]
  },
  {
   "cell_type": "code",
   "execution_count": 51,
   "id": "b7fbde55-a0a1-47e4-9af6-fe4a17fa8c61",
   "metadata": {
    "execution": {
     "iopub.execute_input": "2025-08-05T15:55:23.914852Z",
     "iopub.status.busy": "2025-08-05T15:55:23.914111Z",
     "iopub.status.idle": "2025-08-05T15:55:23.919512Z",
     "shell.execute_reply": "2025-08-05T15:55:23.918448Z"
    },
    "papermill": {
     "duration": 0.032946,
     "end_time": "2025-08-05T15:55:23.921439",
     "exception": false,
     "start_time": "2025-08-05T15:55:23.888493",
     "status": "completed"
    },
    "tags": []
   },
   "outputs": [],
   "source": [
    "# Conditional Coverage & looking at subgroups"
   ]
  },
  {
   "cell_type": "code",
   "execution_count": 52,
   "id": "027ae886-68dd-4141-96c7-805a5450e1ef",
   "metadata": {
    "execution": {
     "iopub.execute_input": "2025-08-05T15:55:23.974166Z",
     "iopub.status.busy": "2025-08-05T15:55:23.973278Z",
     "iopub.status.idle": "2025-08-05T15:55:24.265942Z",
     "shell.execute_reply": "2025-08-05T15:55:24.264796Z"
    },
    "papermill": {
     "duration": 0.320915,
     "end_time": "2025-08-05T15:55:24.267945",
     "exception": false,
     "start_time": "2025-08-05T15:55:23.947030",
     "status": "completed"
    },
    "tags": []
   },
   "outputs": [],
   "source": [
    "from fairness_multiverse.conformal import build_cp_groups\n",
    "\n",
    "cp_groups_df = build_cp_groups(pred_sets, y_true, X_test.index, org_test)\n",
    "#needs universe_id and setting"
   ]
  },
  {
   "cell_type": "code",
   "execution_count": 53,
   "id": "6cbdab96-b2b2-45af-ad54-d0516db2e28d",
   "metadata": {
    "execution": {
     "iopub.execute_input": "2025-08-05T15:55:24.318517Z",
     "iopub.status.busy": "2025-08-05T15:55:24.317964Z",
     "iopub.status.idle": "2025-08-05T15:55:25.949052Z",
     "shell.execute_reply": "2025-08-05T15:55:25.948261Z"
    },
    "papermill": {
     "duration": 1.65763,
     "end_time": "2025-08-05T15:55:25.950750",
     "exception": false,
     "start_time": "2025-08-05T15:55:24.293120",
     "status": "completed"
    },
    "tags": []
   },
   "outputs": [],
   "source": [
    "# Define covered = 1 if true_label is in the predicted set\n",
    "cp_groups_df['covered'] = cp_groups_df.apply(\n",
    "    lambda r: int(r['true_label'] in r['pred_set']),\n",
    "    axis=1\n",
    ")"
   ]
  },
  {
   "cell_type": "code",
   "execution_count": 54,
   "id": "338ff529-1a6b-4b87-a931-8e4788d52aad",
   "metadata": {
    "execution": {
     "iopub.execute_input": "2025-08-05T15:55:25.976123Z",
     "iopub.status.busy": "2025-08-05T15:55:25.975756Z",
     "iopub.status.idle": "2025-08-05T15:55:25.980512Z",
     "shell.execute_reply": "2025-08-05T15:55:25.979272Z"
    },
    "papermill": {
     "duration": 0.019399,
     "end_time": "2025-08-05T15:55:25.982309",
     "exception": false,
     "start_time": "2025-08-05T15:55:25.962910",
     "status": "completed"
    },
    "tags": []
   },
   "outputs": [],
   "source": [
    "#cp_groups_df"
   ]
  },
  {
   "cell_type": "code",
   "execution_count": 55,
   "id": "90032e27-66df-4540-9169-4e89cfbaa758",
   "metadata": {
    "execution": {
     "iopub.execute_input": "2025-08-05T15:55:26.038653Z",
     "iopub.status.busy": "2025-08-05T15:55:26.038192Z",
     "iopub.status.idle": "2025-08-05T15:55:26.051857Z",
     "shell.execute_reply": "2025-08-05T15:55:26.050670Z"
    },
    "papermill": {
     "duration": 0.043233,
     "end_time": "2025-08-05T15:55:26.053967",
     "exception": false,
     "start_time": "2025-08-05T15:55:26.010734",
     "status": "completed"
    },
    "tags": []
   },
   "outputs": [],
   "source": [
    "subgroups = ['frau1','nongerman','nongerman_male','nongerman_female']\n",
    "\n",
    "# Conditional coverage for subgroup==1\n",
    "cond_coverage = {\n",
    "    g: cp_groups_df.loc[cp_groups_df[g]==1, 'covered'].mean()\n",
    "    for g in subgroups\n",
    "}"
   ]
  },
  {
   "cell_type": "code",
   "execution_count": 56,
   "id": "1e348fb1-b9c3-45bc-ba23-f016827a7e0d",
   "metadata": {
    "execution": {
     "iopub.execute_input": "2025-08-05T15:55:26.108779Z",
     "iopub.status.busy": "2025-08-05T15:55:26.108306Z",
     "iopub.status.idle": "2025-08-05T15:55:26.116350Z",
     "shell.execute_reply": "2025-08-05T15:55:26.115072Z"
    },
    "papermill": {
     "duration": 0.037371,
     "end_time": "2025-08-05T15:55:26.118783",
     "exception": false,
     "start_time": "2025-08-05T15:55:26.081412",
     "status": "completed"
    },
    "tags": []
   },
   "outputs": [
    {
     "data": {
      "text/plain": [
       "{'frau1': 0.913195848497102,\n",
       " 'nongerman': 0.9406051759950598,\n",
       " 'nongerman_male': 0.9492929838782311,\n",
       " 'nongerman_female': 0.9262295081967213}"
      ]
     },
     "execution_count": 56,
     "metadata": {},
     "output_type": "execute_result"
    }
   ],
   "source": [
    "cond_coverage"
   ]
  },
  {
   "cell_type": "code",
   "execution_count": 57,
   "id": "f5093324-c3dd-4d63-bc4c-8d945e5c8bbb",
   "metadata": {
    "execution": {
     "iopub.execute_input": "2025-08-05T15:55:26.158321Z",
     "iopub.status.busy": "2025-08-05T15:55:26.157890Z",
     "iopub.status.idle": "2025-08-05T15:55:26.165041Z",
     "shell.execute_reply": "2025-08-05T15:55:26.163948Z"
    },
    "papermill": {
     "duration": 0.024954,
     "end_time": "2025-08-05T15:55:26.167283",
     "exception": false,
     "start_time": "2025-08-05T15:55:26.142329",
     "status": "completed"
    },
    "tags": []
   },
   "outputs": [],
   "source": [
    "for subgroup, cov in cond_coverage.items():\n",
    "    cp_metrics_df[f\"cov_{subgroup}\"] = cov"
   ]
  },
  {
   "cell_type": "code",
   "execution_count": 58,
   "id": "6e872e10-dbe5-49e8-b554-5030c98ff75d",
   "metadata": {
    "execution": {
     "iopub.execute_input": "2025-08-05T15:55:26.211288Z",
     "iopub.status.busy": "2025-08-05T15:55:26.210790Z",
     "iopub.status.idle": "2025-08-05T15:55:26.229136Z",
     "shell.execute_reply": "2025-08-05T15:55:26.227687Z"
    },
    "papermill": {
     "duration": 0.037828,
     "end_time": "2025-08-05T15:55:26.231407",
     "exception": false,
     "start_time": "2025-08-05T15:55:26.193579",
     "status": "completed"
    },
    "tags": []
   },
   "outputs": [
    {
     "data": {
      "text/html": [
       "<div>\n",
       "<style scoped>\n",
       "    .dataframe tbody tr th:only-of-type {\n",
       "        vertical-align: middle;\n",
       "    }\n",
       "\n",
       "    .dataframe tbody tr th {\n",
       "        vertical-align: top;\n",
       "    }\n",
       "\n",
       "    .dataframe thead th {\n",
       "        text-align: right;\n",
       "    }\n",
       "</style>\n",
       "<table border=\"1\" class=\"dataframe\">\n",
       "  <thead>\n",
       "    <tr style=\"text-align: right;\">\n",
       "      <th></th>\n",
       "      <th>universe_id</th>\n",
       "      <th>universe_training_year</th>\n",
       "      <th>universe_training_size</th>\n",
       "      <th>universe_scale</th>\n",
       "      <th>universe_model</th>\n",
       "      <th>universe_exclude_features</th>\n",
       "      <th>universe_exclude_subgroups</th>\n",
       "      <th>q_hat</th>\n",
       "      <th>coverage</th>\n",
       "      <th>avg_size</th>\n",
       "      <th>cov_frau1</th>\n",
       "      <th>cov_nongerman</th>\n",
       "      <th>cov_nongerman_male</th>\n",
       "      <th>cov_nongerman_female</th>\n",
       "    </tr>\n",
       "  </thead>\n",
       "  <tbody>\n",
       "    <tr>\n",
       "      <th>0</th>\n",
       "      <td>1a4a97575f597b093ce5fc2881b198ee</td>\n",
       "      <td>2010_14</td>\n",
       "      <td>5k</td>\n",
       "      <td>do-not-scale</td>\n",
       "      <td>logreg</td>\n",
       "      <td>nationality</td>\n",
       "      <td>drop-non-german</td>\n",
       "      <td>0.676376</td>\n",
       "      <td>0.91244</td>\n",
       "      <td>1.216219</td>\n",
       "      <td>0.913196</td>\n",
       "      <td>0.940605</td>\n",
       "      <td>0.949293</td>\n",
       "      <td>0.92623</td>\n",
       "    </tr>\n",
       "  </tbody>\n",
       "</table>\n",
       "</div>"
      ],
      "text/plain": [
       "                        universe_id universe_training_year  \\\n",
       "0  1a4a97575f597b093ce5fc2881b198ee                2010_14   \n",
       "\n",
       "  universe_training_size universe_scale universe_model  \\\n",
       "0                     5k   do-not-scale         logreg   \n",
       "\n",
       "  universe_exclude_features universe_exclude_subgroups     q_hat  coverage  \\\n",
       "0               nationality            drop-non-german  0.676376   0.91244   \n",
       "\n",
       "   avg_size  cov_frau1  cov_nongerman  cov_nongerman_male  \\\n",
       "0  1.216219   0.913196       0.940605            0.949293   \n",
       "\n",
       "   cov_nongerman_female  \n",
       "0               0.92623  "
      ]
     },
     "execution_count": 58,
     "metadata": {},
     "output_type": "execute_result"
    }
   ],
   "source": [
    "cp_metrics_df"
   ]
  },
  {
   "cell_type": "markdown",
   "id": "33774451",
   "metadata": {
    "papermill": {
     "duration": 0.025777,
     "end_time": "2025-08-05T15:55:26.284686",
     "exception": false,
     "start_time": "2025-08-05T15:55:26.258909",
     "status": "completed"
    },
    "tags": []
   },
   "source": [
    "# (Fairness) Metrics"
   ]
  },
  {
   "cell_type": "code",
   "execution_count": 59,
   "id": "debc5d62",
   "metadata": {
    "execution": {
     "iopub.execute_input": "2025-08-05T15:55:26.314581Z",
     "iopub.status.busy": "2025-08-05T15:55:26.313965Z",
     "iopub.status.idle": "2025-08-05T15:55:26.330243Z",
     "shell.execute_reply": "2025-08-05T15:55:26.329283Z"
    },
    "papermill": {
     "duration": 0.033456,
     "end_time": "2025-08-05T15:55:26.331801",
     "exception": false,
     "start_time": "2025-08-05T15:55:26.298345",
     "status": "completed"
    },
    "tags": []
   },
   "outputs": [],
   "source": [
    "# do I need to include maxdeutsch1.missing?\n",
    "\n",
    "import numpy as np\n",
    "\n",
    "colname_to_bin = \"maxdeutsch1\"\n",
    "majority_value = org_train[colname_to_bin].mode()[0]\n",
    "\n",
    "org_test[\"majmin\"] = np.where(org_test[colname_to_bin] == majority_value, \"majority\", \"minority\")"
   ]
  },
  {
   "cell_type": "code",
   "execution_count": 60,
   "id": "06a50de5",
   "metadata": {
    "execution": {
     "iopub.execute_input": "2025-08-05T15:55:26.359179Z",
     "iopub.status.busy": "2025-08-05T15:55:26.358645Z",
     "iopub.status.idle": "2025-08-05T15:55:28.080467Z",
     "shell.execute_reply": "2025-08-05T15:55:28.079603Z"
    },
    "papermill": {
     "duration": 1.737355,
     "end_time": "2025-08-05T15:55:28.082153",
     "exception": false,
     "start_time": "2025-08-05T15:55:26.344798",
     "status": "completed"
    },
    "tags": []
   },
   "outputs": [],
   "source": [
    "example_universe = universe.copy()\n",
    "example_universe[\"cutoff\"] = example_universe[\"cutoff\"][0]\n",
    "example_universe[\"eval_fairness_grouping\"] = example_universe[\"eval_fairness_grouping\"][0]\n",
    "fairness_dict, metric_frame = universe_analysis.compute_metrics(\n",
    "    example_universe,\n",
    "    y_pred_prob=probs_test,\n",
    "    y_test=y_true,\n",
    "    org_test=org_test,\n",
    ")"
   ]
  },
  {
   "cell_type": "markdown",
   "id": "f95d4e02",
   "metadata": {
    "papermill": {
     "duration": 0.012592,
     "end_time": "2025-08-05T15:55:28.110170",
     "exception": false,
     "start_time": "2025-08-05T15:55:28.097578",
     "status": "completed"
    },
    "tags": []
   },
   "source": [
    "# Overall"
   ]
  },
  {
   "cell_type": "markdown",
   "id": "bdee4871",
   "metadata": {
    "papermill": {
     "duration": 0.012387,
     "end_time": "2025-08-05T15:55:28.142500",
     "exception": false,
     "start_time": "2025-08-05T15:55:28.130113",
     "status": "completed"
    },
    "tags": []
   },
   "source": [
    "Fairness\n",
    "Main fairness target: Equalized Odds. Seems to be a better fit than equal opportunity, since we're not only interested in Y = 1. Seems to be a better fit than demographic parity, since we also care about accuracy, not just equal distribution of preds.\n",
    "\n",
    "Pick column for computation of fairness metrics\n",
    "\n",
    "Performance\n",
    "Overall performance measures, most interesting in relation to the measures split by group below"
   ]
  },
  {
   "cell_type": "code",
   "execution_count": 61,
   "id": "c4e067c6",
   "metadata": {
    "execution": {
     "iopub.execute_input": "2025-08-05T15:55:28.170156Z",
     "iopub.status.busy": "2025-08-05T15:55:28.169779Z",
     "iopub.status.idle": "2025-08-05T15:55:28.176944Z",
     "shell.execute_reply": "2025-08-05T15:55:28.176187Z"
    },
    "papermill": {
     "duration": 0.024061,
     "end_time": "2025-08-05T15:55:28.178341",
     "exception": false,
     "start_time": "2025-08-05T15:55:28.154280",
     "status": "completed"
    },
    "tags": []
   },
   "outputs": [
    {
     "data": {
      "text/plain": [
       "accuracy                   0.217623\n",
       "balanced accuracy          0.533534\n",
       "f1                         0.239141\n",
       "precision                  0.136613\n",
       "false positive rate        0.891397\n",
       "false negative rate        0.041536\n",
       "selection rate             0.900000\n",
       "count                  89710.000000\n",
       "dtype: float64"
      ]
     },
     "execution_count": 61,
     "metadata": {},
     "output_type": "execute_result"
    }
   ],
   "source": [
    "metric_frame.overall"
   ]
  },
  {
   "cell_type": "markdown",
   "id": "e968fe9d",
   "metadata": {
    "papermill": {
     "duration": 0.013513,
     "end_time": "2025-08-05T15:55:28.205226",
     "exception": false,
     "start_time": "2025-08-05T15:55:28.191713",
     "status": "completed"
    },
    "tags": []
   },
   "source": [
    "By Group"
   ]
  },
  {
   "cell_type": "code",
   "execution_count": 62,
   "id": "ec325bce",
   "metadata": {
    "execution": {
     "iopub.execute_input": "2025-08-05T15:55:28.257034Z",
     "iopub.status.busy": "2025-08-05T15:55:28.256561Z",
     "iopub.status.idle": "2025-08-05T15:55:28.273657Z",
     "shell.execute_reply": "2025-08-05T15:55:28.272566Z"
    },
    "papermill": {
     "duration": 0.046791,
     "end_time": "2025-08-05T15:55:28.275804",
     "exception": false,
     "start_time": "2025-08-05T15:55:28.229013",
     "status": "completed"
    },
    "tags": []
   },
   "outputs": [
    {
     "data": {
      "text/html": [
       "<div>\n",
       "<style scoped>\n",
       "    .dataframe tbody tr th:only-of-type {\n",
       "        vertical-align: middle;\n",
       "    }\n",
       "\n",
       "    .dataframe tbody tr th {\n",
       "        vertical-align: top;\n",
       "    }\n",
       "\n",
       "    .dataframe thead th {\n",
       "        text-align: right;\n",
       "    }\n",
       "</style>\n",
       "<table border=\"1\" class=\"dataframe\">\n",
       "  <thead>\n",
       "    <tr style=\"text-align: right;\">\n",
       "      <th></th>\n",
       "      <th>accuracy</th>\n",
       "      <th>balanced accuracy</th>\n",
       "      <th>f1</th>\n",
       "      <th>precision</th>\n",
       "      <th>false positive rate</th>\n",
       "      <th>false negative rate</th>\n",
       "      <th>selection rate</th>\n",
       "      <th>count</th>\n",
       "    </tr>\n",
       "    <tr>\n",
       "      <th>majmin</th>\n",
       "      <th></th>\n",
       "      <th></th>\n",
       "      <th></th>\n",
       "      <th></th>\n",
       "      <th></th>\n",
       "      <th></th>\n",
       "      <th></th>\n",
       "      <th></th>\n",
       "    </tr>\n",
       "  </thead>\n",
       "  <tbody>\n",
       "    <tr>\n",
       "      <th>majority</th>\n",
       "      <td>0.238817</td>\n",
       "      <td>0.541102</td>\n",
       "      <td>0.248412</td>\n",
       "      <td>0.142843</td>\n",
       "      <td>0.869765</td>\n",
       "      <td>0.048031</td>\n",
       "      <td>0.880627</td>\n",
       "      <td>69170.0</td>\n",
       "    </tr>\n",
       "    <tr>\n",
       "      <th>minority</th>\n",
       "      <td>0.146251</td>\n",
       "      <td>0.510338</td>\n",
       "      <td>0.209877</td>\n",
       "      <td>0.117472</td>\n",
       "      <td>0.962855</td>\n",
       "      <td>0.016470</td>\n",
       "      <td>0.965239</td>\n",
       "      <td>20540.0</td>\n",
       "    </tr>\n",
       "  </tbody>\n",
       "</table>\n",
       "</div>"
      ],
      "text/plain": [
       "          accuracy  balanced accuracy        f1  precision  \\\n",
       "majmin                                                       \n",
       "majority  0.238817           0.541102  0.248412   0.142843   \n",
       "minority  0.146251           0.510338  0.209877   0.117472   \n",
       "\n",
       "          false positive rate  false negative rate  selection rate    count  \n",
       "majmin                                                                       \n",
       "majority             0.869765             0.048031        0.880627  69170.0  \n",
       "minority             0.962855             0.016470        0.965239  20540.0  "
      ]
     },
     "execution_count": 62,
     "metadata": {},
     "output_type": "execute_result"
    }
   ],
   "source": [
    "metric_frame.by_group"
   ]
  },
  {
   "cell_type": "code",
   "execution_count": 63,
   "id": "a9ddbe63",
   "metadata": {
    "execution": {
     "iopub.execute_input": "2025-08-05T15:55:28.329261Z",
     "iopub.status.busy": "2025-08-05T15:55:28.328806Z",
     "iopub.status.idle": "2025-08-05T15:55:30.645385Z",
     "shell.execute_reply": "2025-08-05T15:55:30.644550Z"
    },
    "papermill": {
     "duration": 2.332935,
     "end_time": "2025-08-05T15:55:30.646898",
     "exception": false,
     "start_time": "2025-08-05T15:55:28.313963",
     "status": "completed"
    },
    "tags": []
   },
   "outputs": [
    {
     "data": {
      "text/plain": [
       "array([[<Axes: title={'center': 'accuracy'}, xlabel='majmin'>,\n",
       "        <Axes: title={'center': 'balanced accuracy'}, xlabel='majmin'>,\n",
       "        <Axes: title={'center': 'f1'}, xlabel='majmin'>],\n",
       "       [<Axes: title={'center': 'precision'}, xlabel='majmin'>,\n",
       "        <Axes: title={'center': 'false positive rate'}, xlabel='majmin'>,\n",
       "        <Axes: title={'center': 'false negative rate'}, xlabel='majmin'>],\n",
       "       [<Axes: title={'center': 'selection rate'}, xlabel='majmin'>,\n",
       "        <Axes: title={'center': 'count'}, xlabel='majmin'>,\n",
       "        <Axes: xlabel='majmin'>]], dtype=object)"
      ]
     },
     "execution_count": 63,
     "metadata": {},
     "output_type": "execute_result"
    },
    {
     "data": {
      "image/png": "[encoded data removed]",
      "text/plain": [
       "<Figure size 1200x800 with 9 Axes>"
      ]
     },
     "metadata": {},
     "output_type": "display_data"
    }
   ],
   "source": [
    "# In a graphic\n",
    "metric_frame.by_group.plot.bar(\n",
    "    subplots=True,\n",
    "    layout=[3, 3],\n",
    "    legend=False,\n",
    "    figsize=[12, 8],\n",
    "    title=\"Show all metrics\",\n",
    ")"
   ]
  },
  {
   "cell_type": "markdown",
   "id": "f57a0bac",
   "metadata": {
    "papermill": {
     "duration": 0.013483,
     "end_time": "2025-08-05T15:55:30.677328",
     "exception": false,
     "start_time": "2025-08-05T15:55:30.663845",
     "status": "completed"
    },
    "tags": []
   },
   "source": [
    "# Final Output"
   ]
  },
  {
   "cell_type": "code",
   "execution_count": 64,
   "id": "96d280a3",
   "metadata": {
    "execution": {
     "iopub.execute_input": "2025-08-05T15:55:30.710789Z",
     "iopub.status.busy": "2025-08-05T15:55:30.709992Z",
     "iopub.status.idle": "2025-08-05T15:55:30.718246Z",
     "shell.execute_reply": "2025-08-05T15:55:30.717244Z"
    },
    "papermill": {
     "duration": 0.027026,
     "end_time": "2025-08-05T15:55:30.721760",
     "exception": false,
     "start_time": "2025-08-05T15:55:30.694734",
     "status": "completed"
    },
    "tags": []
   },
   "outputs": [
    {
     "data": {
      "text/plain": [
       "4"
      ]
     },
     "execution_count": 64,
     "metadata": {},
     "output_type": "execute_result"
    }
   ],
   "source": [
    "sub_universes = universe_analysis.generate_sub_universes()\n",
    "len(sub_universes)"
   ]
  },
  {
   "cell_type": "code",
   "execution_count": 65,
   "id": "92adf7ba",
   "metadata": {
    "execution": {
     "iopub.execute_input": "2025-08-05T15:55:30.779371Z",
     "iopub.status.busy": "2025-08-05T15:55:30.778516Z",
     "iopub.status.idle": "2025-08-05T15:55:30.785602Z",
     "shell.execute_reply": "2025-08-05T15:55:30.784671Z"
    },
    "papermill": {
     "duration": 0.039826,
     "end_time": "2025-08-05T15:55:30.787345",
     "exception": false,
     "start_time": "2025-08-05T15:55:30.747519",
     "status": "completed"
    },
    "tags": []
   },
   "outputs": [],
   "source": [
    "def filter_sub_universe_data(sub_universe, org_test):\n",
    "    # Keep all rows — no filtering\n",
    "    keep_rows_mask = np.ones(org_test.shape[0], dtype=bool)\n",
    "\n",
    "    print(f\"[INFO] Keeping all rows: {keep_rows_mask.sum()} rows retained.\")\n",
    "    return keep_rows_mask"
   ]
  },
  {
   "cell_type": "code",
   "execution_count": 66,
   "id": "4a759155",
   "metadata": {
    "execution": {
     "iopub.execute_input": "2025-08-05T15:55:30.818411Z",
     "iopub.status.busy": "2025-08-05T15:55:30.818138Z",
     "iopub.status.idle": "2025-08-05T15:55:40.874934Z",
     "shell.execute_reply": "2025-08-05T15:55:40.873962Z"
    },
    "papermill": {
     "duration": 10.0734,
     "end_time": "2025-08-05T15:55:40.876434",
     "exception": false,
     "start_time": "2025-08-05T15:55:30.803034",
     "status": "completed"
    },
    "tags": []
   },
   "outputs": [
    {
     "name": "stdout",
     "output_type": "stream",
     "text": [
      "Stopping execution_time clock.\n",
      "[INFO] Keeping all rows: 89710 rows retained.\n"
     ]
    },
    {
     "name": "stdout",
     "output_type": "stream",
     "text": [
      "[INFO] Keeping all rows: 89710 rows retained.\n"
     ]
    },
    {
     "name": "stdout",
     "output_type": "stream",
     "text": [
      "[INFO] Keeping all rows: 89710 rows retained.\n"
     ]
    },
    {
     "name": "stdout",
     "output_type": "stream",
     "text": [
      "[INFO] Keeping all rows: 89710 rows retained.\n"
     ]
    },
    {
     "data": {
      "text/html": [
       "<div>\n",
       "<style scoped>\n",
       "    .dataframe tbody tr th:only-of-type {\n",
       "        vertical-align: middle;\n",
       "    }\n",
       "\n",
       "    .dataframe tbody tr th {\n",
       "        vertical-align: top;\n",
       "    }\n",
       "\n",
       "    .dataframe thead th {\n",
       "        text-align: right;\n",
       "    }\n",
       "</style>\n",
       "<table border=\"1\" class=\"dataframe\">\n",
       "  <thead>\n",
       "    <tr style=\"text-align: right;\">\n",
       "      <th></th>\n",
       "      <th>run_no</th>\n",
       "      <th>universe_id</th>\n",
       "      <th>universe_settings</th>\n",
       "      <th>execution_time</th>\n",
       "      <th>test_size_n</th>\n",
       "      <th>test_size_frac</th>\n",
       "      <th>fair_main_equalized_odds_difference</th>\n",
       "      <th>fair_main_equalized_odds_ratio</th>\n",
       "      <th>fair_main_demographic_parity_difference</th>\n",
       "      <th>fair_main_demographic_parity_ratio</th>\n",
       "      <th>...</th>\n",
       "      <th>perf_grp_precision_0</th>\n",
       "      <th>perf_grp_precision_1</th>\n",
       "      <th>perf_grp_false positive rate_0</th>\n",
       "      <th>perf_grp_false positive rate_1</th>\n",
       "      <th>perf_grp_false negative rate_0</th>\n",
       "      <th>perf_grp_false negative rate_1</th>\n",
       "      <th>perf_grp_selection rate_0</th>\n",
       "      <th>perf_grp_selection rate_1</th>\n",
       "      <th>perf_grp_count_0</th>\n",
       "      <th>perf_grp_count_1</th>\n",
       "    </tr>\n",
       "  </thead>\n",
       "  <tbody>\n",
       "    <tr>\n",
       "      <th>0</th>\n",
       "      <td>15</td>\n",
       "      <td>1a4a97575f597b093ce5fc2881b198ee</td>\n",
       "      <td>{\"cutoff\": \"quantile_0.1\", \"eval_fairness_grou...</td>\n",
       "      <td>24.985161</td>\n",
       "      <td>89710</td>\n",
       "      <td>1.0</td>\n",
       "      <td>0.093090</td>\n",
       "      <td>0.903319</td>\n",
       "      <td>0.084611</td>\n",
       "      <td>0.912342</td>\n",
       "      <td>...</td>\n",
       "      <td>NaN</td>\n",
       "      <td>NaN</td>\n",
       "      <td>NaN</td>\n",
       "      <td>NaN</td>\n",
       "      <td>NaN</td>\n",
       "      <td>NaN</td>\n",
       "      <td>NaN</td>\n",
       "      <td>NaN</td>\n",
       "      <td>NaN</td>\n",
       "      <td>NaN</td>\n",
       "    </tr>\n",
       "    <tr>\n",
       "      <th>0</th>\n",
       "      <td>15</td>\n",
       "      <td>1a4a97575f597b093ce5fc2881b198ee</td>\n",
       "      <td>{\"cutoff\": \"quantile_0.1\", \"eval_fairness_grou...</td>\n",
       "      <td>24.985161</td>\n",
       "      <td>89710</td>\n",
       "      <td>1.0</td>\n",
       "      <td>0.093090</td>\n",
       "      <td>0.903319</td>\n",
       "      <td>0.084611</td>\n",
       "      <td>0.912342</td>\n",
       "      <td>...</td>\n",
       "      <td>0.117472</td>\n",
       "      <td>0.142843</td>\n",
       "      <td>0.962855</td>\n",
       "      <td>0.869765</td>\n",
       "      <td>0.016470</td>\n",
       "      <td>0.048031</td>\n",
       "      <td>0.965239</td>\n",
       "      <td>0.880627</td>\n",
       "      <td>20540.0</td>\n",
       "      <td>69170.0</td>\n",
       "    </tr>\n",
       "    <tr>\n",
       "      <th>0</th>\n",
       "      <td>15</td>\n",
       "      <td>1a4a97575f597b093ce5fc2881b198ee</td>\n",
       "      <td>{\"cutoff\": \"quantile_0.25\", \"eval_fairness_gro...</td>\n",
       "      <td>24.985161</td>\n",
       "      <td>89710</td>\n",
       "      <td>1.0</td>\n",
       "      <td>0.218705</td>\n",
       "      <td>0.756566</td>\n",
       "      <td>0.200359</td>\n",
       "      <td>0.778482</td>\n",
       "      <td>...</td>\n",
       "      <td>NaN</td>\n",
       "      <td>NaN</td>\n",
       "      <td>NaN</td>\n",
       "      <td>NaN</td>\n",
       "      <td>NaN</td>\n",
       "      <td>NaN</td>\n",
       "      <td>NaN</td>\n",
       "      <td>NaN</td>\n",
       "      <td>NaN</td>\n",
       "      <td>NaN</td>\n",
       "    </tr>\n",
       "    <tr>\n",
       "      <th>0</th>\n",
       "      <td>15</td>\n",
       "      <td>1a4a97575f597b093ce5fc2881b198ee</td>\n",
       "      <td>{\"cutoff\": \"quantile_0.25\", \"eval_fairness_gro...</td>\n",
       "      <td>24.985161</td>\n",
       "      <td>89710</td>\n",
       "      <td>1.0</td>\n",
       "      <td>0.218705</td>\n",
       "      <td>0.756566</td>\n",
       "      <td>0.200359</td>\n",
       "      <td>0.778482</td>\n",
       "      <td>...</td>\n",
       "      <td>0.121219</td>\n",
       "      <td>0.162225</td>\n",
       "      <td>0.898415</td>\n",
       "      <td>0.679710</td>\n",
       "      <td>0.048986</td>\n",
       "      <td>0.135558</td>\n",
       "      <td>0.904479</td>\n",
       "      <td>0.704120</td>\n",
       "      <td>20540.0</td>\n",
       "      <td>69170.0</td>\n",
       "    </tr>\n",
       "  </tbody>\n",
       "</table>\n",
       "<p>4 rows × 50 columns</p>\n",
       "</div>"
      ],
      "text/plain": [
       "  run_no                       universe_id  \\\n",
       "0     15  1a4a97575f597b093ce5fc2881b198ee   \n",
       "0     15  1a4a97575f597b093ce5fc2881b198ee   \n",
       "0     15  1a4a97575f597b093ce5fc2881b198ee   \n",
       "0     15  1a4a97575f597b093ce5fc2881b198ee   \n",
       "\n",
       "                                   universe_settings  execution_time  \\\n",
       "0  {\"cutoff\": \"quantile_0.1\", \"eval_fairness_grou...       24.985161   \n",
       "0  {\"cutoff\": \"quantile_0.1\", \"eval_fairness_grou...       24.985161   \n",
       "0  {\"cutoff\": \"quantile_0.25\", \"eval_fairness_gro...       24.985161   \n",
       "0  {\"cutoff\": \"quantile_0.25\", \"eval_fairness_gro...       24.985161   \n",
       "\n",
       "   test_size_n  test_size_frac  fair_main_equalized_odds_difference  \\\n",
       "0        89710             1.0                             0.093090   \n",
       "0        89710             1.0                             0.093090   \n",
       "0        89710             1.0                             0.218705   \n",
       "0        89710             1.0                             0.218705   \n",
       "\n",
       "   fair_main_equalized_odds_ratio  fair_main_demographic_parity_difference  \\\n",
       "0                        0.903319                                 0.084611   \n",
       "0                        0.903319                                 0.084611   \n",
       "0                        0.756566                                 0.200359   \n",
       "0                        0.756566                                 0.200359   \n",
       "\n",
       "   fair_main_demographic_parity_ratio  ...  perf_grp_precision_0  \\\n",
       "0                            0.912342  ...                   NaN   \n",
       "0                            0.912342  ...              0.117472   \n",
       "0                            0.778482  ...                   NaN   \n",
       "0                            0.778482  ...              0.121219   \n",
       "\n",
       "   perf_grp_precision_1  perf_grp_false positive rate_0  \\\n",
       "0                   NaN                             NaN   \n",
       "0              0.142843                        0.962855   \n",
       "0                   NaN                             NaN   \n",
       "0              0.162225                        0.898415   \n",
       "\n",
       "   perf_grp_false positive rate_1  perf_grp_false negative rate_0  \\\n",
       "0                             NaN                             NaN   \n",
       "0                        0.869765                        0.016470   \n",
       "0                             NaN                             NaN   \n",
       "0                        0.679710                        0.048986   \n",
       "\n",
       "   perf_grp_false negative rate_1  perf_grp_selection rate_0  \\\n",
       "0                             NaN                        NaN   \n",
       "0                        0.048031                   0.965239   \n",
       "0                             NaN                        NaN   \n",
       "0                        0.135558                   0.904479   \n",
       "\n",
       "   perf_grp_selection rate_1  perf_grp_count_0  perf_grp_count_1  \n",
       "0                        NaN               NaN               NaN  \n",
       "0                   0.880627           20540.0           69170.0  \n",
       "0                        NaN               NaN               NaN  \n",
       "0                   0.704120           20540.0           69170.0  \n",
       "\n",
       "[4 rows x 50 columns]"
      ]
     },
     "execution_count": 66,
     "metadata": {},
     "output_type": "execute_result"
    }
   ],
   "source": [
    "final_output = universe_analysis.generate_final_output(\n",
    "    y_pred_prob=probs_test,\n",
    "    y_test=y_true,\n",
    "    org_test=org_test,\n",
    "    filter_data=filter_sub_universe_data,\n",
    "    cp_metrics_df=cp_metrics_df,\n",
    "    save=True,\n",
    ")\n",
    "final_output"
   ]
  }
 ],
 "metadata": {
  "celltoolbar": "Tags",
  "kernelspec": {
   "display_name": "Python (CMA Fairness)",
   "language": "python",
   "name": "cma_fair_env"
  },
  "language_info": {
   "codemirror_mode": {
    "name": "ipython",
    "version": 3
   },
   "file_extension": ".py",
   "mimetype": "text/x-python",
   "name": "python",
   "nbconvert_exporter": "python",
   "pygments_lexer": "ipython3",
   "version": "3.10.12"
  },
  "papermill": {
   "default_parameters": {},
   "duration": 39.261217,
   "end_time": "2025-08-05T15:55:41.721091",
   "environment_variables": {},
   "exception": null,
   "input_path": "universe_analysis.ipynb",
   "output_path": "output/runs/15/notebooks/m_15-1a4a97575f597b093ce5fc2881b198ee.ipynb",
   "parameters": {
    "output_dir": "output",
    "run_no": "15",
    "seed": "2023",
    "universe": "{\"cutoff\": [\"quantile_0.1\", \"quantile_0.25\"], \"eval_fairness_grouping\": [\"majority-minority\", \"nationality-all\"], \"exclude_features\": \"nationality\", \"exclude_subgroups\": \"drop-non-german\", \"model\": \"logreg\", \"scale\": \"do-not-scale\", \"training_size\": \"5k\", \"training_year\": \"2010_14\"}",
    "universe_id": "1a4a97575f597b093ce5fc2881b198ee"
   },
   "start_time": "2025-08-05T15:55:02.459874",
   "version": "2.6.0"
  }
 },
 "nbformat": 4,
 "nbformat_minor": 5
}