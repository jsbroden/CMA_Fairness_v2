{
 "cells": [
  {
   "cell_type": "code",
   "execution_count": 1,
   "id": "f159f837-637b-42ba-96b5-ec9a68c44524",
   "metadata": {
    "execution": {
     "iopub.execute_input": "2025-08-05T16:40:38.948366Z",
     "iopub.status.busy": "2025-08-05T16:40:38.947892Z",
     "iopub.status.idle": "2025-08-05T16:40:38.962541Z",
     "shell.execute_reply": "2025-08-05T16:40:38.961308Z"
    },
    "papermill": {
     "duration": 0.036968,
     "end_time": "2025-08-05T16:40:38.964193",
     "exception": false,
     "start_time": "2025-08-05T16:40:38.927225",
     "status": "completed"
    },
    "tags": []
   },
   "outputs": [
    {
     "name": "stdout",
     "output_type": "stream",
     "text": [
      "/dss/dsshome1/0C/ra93lal2/cma/CMA_Fairness_v2\n"
     ]
    },
    {
     "name": "stderr",
     "output_type": "stream",
     "text": [
      "/dss/dsshome1/0C/ra93lal2/.local/share/virtualenvs/CMA_Fairness_v2-3j10GkSs/lib/python3.10/site-packages/IPython/core/magics/osm.py:393: UserWarning: This is now an optional IPython functionality, using bookmarks requires you to install the `pickleshare` library.\n",
      "  bkms = self.shell.db.get('bookmarks', {})\n",
      "/dss/dsshome1/0C/ra93lal2/.local/share/virtualenvs/CMA_Fairness_v2-3j10GkSs/lib/python3.10/site-packages/IPython/core/magics/osm.py:417: UserWarning: This is now an optional IPython functionality, setting dhist requires you to install the `pickleshare` library.\n",
      "  self.shell.db['dhist'] = compress_dhist(dhist)[-100:]\n"
     ]
    }
   ],
   "source": [
    "%cd ~/cma/CMA_Fairness_v2"
   ]
  },
  {
   "cell_type": "markdown",
   "id": "de2603b9",
   "metadata": {
    "papermill": {
     "duration": 0.018547,
     "end_time": "2025-08-05T16:40:39.002535",
     "exception": false,
     "start_time": "2025-08-05T16:40:38.983988",
     "status": "completed"
    },
    "tags": []
   },
   "source": [
    "The following cell holds the definition of our parameters, these values can be overriden by rendering the with e.g. the following command:\n",
    "\n",
    "papermill -p alpha 0.2 -p ratio 0.3 universe_analysis.ipynb output/test_run.ipynb"
   ]
  },
  {
   "cell_type": "code",
   "execution_count": 2,
   "id": "a80968a0-40bb-4fa9-85ef-2d5eefb01975",
   "metadata": {
    "execution": {
     "iopub.execute_input": "2025-08-05T16:40:39.042517Z",
     "iopub.status.busy": "2025-08-05T16:40:39.041702Z",
     "iopub.status.idle": "2025-08-05T16:40:39.048058Z",
     "shell.execute_reply": "2025-08-05T16:40:39.046890Z"
    },
    "papermill": {
     "duration": 0.028871,
     "end_time": "2025-08-05T16:40:39.050203",
     "exception": false,
     "start_time": "2025-08-05T16:40:39.021332",
     "status": "completed"
    },
    "tags": []
   },
   "outputs": [
    {
     "name": "stdout",
     "output_type": "stream",
     "text": [
      "Current working directory: /dss/dsshome1/0C/ra93lal2/cma/CMA_Fairness_v2\n"
     ]
    }
   ],
   "source": [
    "import os\n",
    "print(\"Current working directory:\", os.getcwd())"
   ]
  },
  {
   "cell_type": "code",
   "execution_count": 3,
   "id": "2dce4c03",
   "metadata": {
    "execution": {
     "iopub.execute_input": "2025-08-05T16:40:39.090428Z",
     "iopub.status.busy": "2025-08-05T16:40:39.090048Z",
     "iopub.status.idle": "2025-08-05T16:40:39.094820Z",
     "shell.execute_reply": "2025-08-05T16:40:39.093902Z"
    },
    "papermill": {
     "duration": 0.026737,
     "end_time": "2025-08-05T16:40:39.096414",
     "exception": false,
     "start_time": "2025-08-05T16:40:39.069677",
     "status": "completed"
    },
    "tags": [
     "parameters"
    ]
   },
   "outputs": [],
   "source": [
    "run_no = 0\n",
    "universe_id = \"test\"\n",
    "universe = {\n",
    "    \"training_size\": \"25k\", # \"25k\", \"5k\", \"1k\"\n",
    "    \"training_year\": \"2014\", # \"2014\", \"2012_14\", \"2010_14\"\n",
    "    \"scale\": \"scale\", # \"scale\", \"do-not-scale\",\n",
    "    \"model\": \"elasticnet\", # \"logreg\", \"penalized_logreg\", \"rf\", \"gbm\", \"elasticnet\"\n",
    "    \"cutoff\": [\"quantile_0.15\", \"quantile_0.30\"],\n",
    "    \"exclude_features\": \"age\", # \"none\", \"nationality\", \"sex\", \"nationality-sex\", \"age\"\n",
    "    \"exclude_subgroups\": \"keep-all\", # \"keep-all\", \"drop-non-german\"\n",
    "    \"eval_fairness_grouping\": [\"majority-minority\", \"nationality-all\"]\n",
    "}\n",
    "\n",
    "output_dir=\"./output\"\n",
    "seed=0"
   ]
  },
  {
   "cell_type": "code",
   "execution_count": 4,
   "id": "f4055fda",
   "metadata": {
    "execution": {
     "iopub.execute_input": "2025-08-05T16:40:39.128143Z",
     "iopub.status.busy": "2025-08-05T16:40:39.127592Z",
     "iopub.status.idle": "2025-08-05T16:40:39.132820Z",
     "shell.execute_reply": "2025-08-05T16:40:39.131876Z"
    },
    "papermill": {
     "duration": 0.023839,
     "end_time": "2025-08-05T16:40:39.134727",
     "exception": false,
     "start_time": "2025-08-05T16:40:39.110888",
     "status": "completed"
    },
    "tags": [
     "injected-parameters"
    ]
   },
   "outputs": [],
   "source": [
    "# Parameters\n",
    "universe_id = \"f3501c6b464abbd2b5f7452d6e840be1\"\n",
    "run_no = \"15\"\n",
    "universe = \"{\\\"cutoff\\\": [\\\"quantile_0.1\\\", \\\"quantile_0.25\\\"], \\\"eval_fairness_grouping\\\": [\\\"majority-minority\\\", \\\"nationality-all\\\"], \\\"exclude_features\\\": \\\"age\\\", \\\"exclude_subgroups\\\": \\\"keep-all\\\", \\\"model\\\": \\\"penalized_logreg\\\", \\\"scale\\\": \\\"do-not-scale\\\", \\\"training_size\\\": \\\"1k\\\", \\\"training_year\\\": \\\"2010_14\\\"}\"\n",
    "output_dir = \"output\"\n",
    "seed = \"2023\"\n"
   ]
  },
  {
   "cell_type": "code",
   "execution_count": 5,
   "id": "1650acaf",
   "metadata": {
    "execution": {
     "iopub.execute_input": "2025-08-05T16:40:39.169711Z",
     "iopub.status.busy": "2025-08-05T16:40:39.168687Z",
     "iopub.status.idle": "2025-08-05T16:40:39.174392Z",
     "shell.execute_reply": "2025-08-05T16:40:39.173053Z"
    },
    "papermill": {
     "duration": 0.024473,
     "end_time": "2025-08-05T16:40:39.175897",
     "exception": false,
     "start_time": "2025-08-05T16:40:39.151424",
     "status": "completed"
    },
    "tags": []
   },
   "outputs": [],
   "source": [
    "import json\n",
    "if isinstance(universe, str):\n",
    "    universe = json.loads(universe)"
   ]
  },
  {
   "cell_type": "code",
   "execution_count": 6,
   "id": "16620c48",
   "metadata": {
    "execution": {
     "iopub.execute_input": "2025-08-05T16:40:39.196625Z",
     "iopub.status.busy": "2025-08-05T16:40:39.196223Z",
     "iopub.status.idle": "2025-08-05T16:40:39.226918Z",
     "shell.execute_reply": "2025-08-05T16:40:39.226209Z"
    },
    "papermill": {
     "duration": 0.042622,
     "end_time": "2025-08-05T16:40:39.228884",
     "exception": false,
     "start_time": "2025-08-05T16:40:39.186262",
     "status": "completed"
    },
    "tags": []
   },
   "outputs": [],
   "source": [
    "# Auto-reload the custom package\n",
    "%load_ext autoreload\n",
    "%autoreload 1\n",
    "%aimport fairness_multiverse"
   ]
  },
  {
   "cell_type": "code",
   "execution_count": 7,
   "id": "01c5c9f3",
   "metadata": {
    "execution": {
     "iopub.execute_input": "2025-08-05T16:40:39.251262Z",
     "iopub.status.busy": "2025-08-05T16:40:39.250978Z",
     "iopub.status.idle": "2025-08-05T16:40:41.130061Z",
     "shell.execute_reply": "2025-08-05T16:40:41.129012Z"
    },
    "papermill": {
     "duration": 1.890673,
     "end_time": "2025-08-05T16:40:41.132043",
     "exception": false,
     "start_time": "2025-08-05T16:40:39.241370",
     "status": "completed"
    },
    "tags": []
   },
   "outputs": [],
   "source": [
    "from fairness_multiverse.universe import UniverseAnalysis\n",
    "\n",
    "universe_analysis = UniverseAnalysis(\n",
    "    run_no = run_no,\n",
    "    universe_id = universe_id,\n",
    "    universe = universe,\n",
    "    output_dir=output_dir,\n",
    ")"
   ]
  },
  {
   "cell_type": "code",
   "execution_count": 8,
   "id": "106241f5",
   "metadata": {
    "execution": {
     "iopub.execute_input": "2025-08-05T16:40:41.169865Z",
     "iopub.status.busy": "2025-08-05T16:40:41.168859Z",
     "iopub.status.idle": "2025-08-05T16:40:41.176089Z",
     "shell.execute_reply": "2025-08-05T16:40:41.175037Z"
    },
    "papermill": {
     "duration": 0.027948,
     "end_time": "2025-08-05T16:40:41.178224",
     "exception": false,
     "start_time": "2025-08-05T16:40:41.150276",
     "status": "completed"
    },
    "tags": []
   },
   "outputs": [
    {
     "name": "stdout",
     "output_type": "stream",
     "text": [
      "Using Seed: 2023\n"
     ]
    }
   ],
   "source": [
    "import numpy as np\n",
    "parsed_seed = int(seed)\n",
    "np.random.seed(parsed_seed)\n",
    "print(f\"Using Seed: {parsed_seed}\")"
   ]
  },
  {
   "cell_type": "markdown",
   "id": "e0ebdc57",
   "metadata": {
    "papermill": {
     "duration": 0.015767,
     "end_time": "2025-08-05T16:40:41.212498",
     "exception": false,
     "start_time": "2025-08-05T16:40:41.196731",
     "status": "completed"
    },
    "tags": []
   },
   "source": [
    "# Loading Data"
   ]
  },
  {
   "cell_type": "code",
   "execution_count": 9,
   "id": "f0496b8a",
   "metadata": {
    "execution": {
     "iopub.execute_input": "2025-08-05T16:40:41.245948Z",
     "iopub.status.busy": "2025-08-05T16:40:41.245057Z",
     "iopub.status.idle": "2025-08-05T16:40:54.592204Z",
     "shell.execute_reply": "2025-08-05T16:40:54.590582Z"
    },
    "papermill": {
     "duration": 13.365709,
     "end_time": "2025-08-05T16:40:54.594175",
     "exception": false,
     "start_time": "2025-08-05T16:40:41.228466",
     "status": "completed"
    },
    "tags": []
   },
   "outputs": [
    {
     "name": "stdout",
     "output_type": "stream",
     "text": [
      "Loading SIAB data from cache: data/siab_cached.csv.gz\n"
     ]
    },
    {
     "name": "stdout",
     "output_type": "stream",
     "text": [
      "(643690, 164)\n"
     ]
    }
   ],
   "source": [
    "from pathlib import Path\n",
    "import pandas as pd\n",
    "\n",
    "# File paths\n",
    "raw_file = Path(\"data/raw/siab.csv\")\n",
    "cache_file = Path(\"data/siab_cached.csv.gz\")\n",
    "\n",
    "# Ensure cache directory exists\n",
    "cache_file.parent.mkdir(parents=True, exist_ok=True)\n",
    "\n",
    "# Load with simple caching\n",
    "if cache_file.exists():\n",
    "    print(f\"Loading SIAB data from cache: {cache_file}\")\n",
    "    siab = pd.read_csv(cache_file, compression='gzip')\n",
    "else:\n",
    "    print(f\"Cache not found. Reading raw SIAB data: {raw_file}\")\n",
    "    siab = pd.read_csv(raw_file)\n",
    "    siab.to_csv(cache_file, index=False, compression='gzip')\n",
    "    print(f\"Cached SIAB data to: {cache_file}\")\n",
    "\n",
    "print(siab.shape)"
   ]
  },
  {
   "cell_type": "code",
   "execution_count": 10,
   "id": "db0ca512-5f53-4dba-abdb-a2888bca41ba",
   "metadata": {
    "execution": {
     "iopub.execute_input": "2025-08-05T16:40:54.640293Z",
     "iopub.status.busy": "2025-08-05T16:40:54.639663Z",
     "iopub.status.idle": "2025-08-05T16:40:54.646113Z",
     "shell.execute_reply": "2025-08-05T16:40:54.645015Z"
    },
    "papermill": {
     "duration": 0.031467,
     "end_time": "2025-08-05T16:40:54.648118",
     "exception": false,
     "start_time": "2025-08-05T16:40:54.616651",
     "status": "completed"
    },
    "tags": []
   },
   "outputs": [],
   "source": [
    "#siab"
   ]
  },
  {
   "cell_type": "markdown",
   "id": "997051c5-15bd-4b69-9786-c3001a3ce484",
   "metadata": {
    "papermill": {
     "duration": 0.019999,
     "end_time": "2025-08-05T16:40:54.688226",
     "exception": false,
     "start_time": "2025-08-05T16:40:54.668227",
     "status": "completed"
    },
    "tags": []
   },
   "source": [
    "# Splitting Data and Setting Training Data Size"
   ]
  },
  {
   "cell_type": "code",
   "execution_count": 11,
   "id": "aea9c6ef-6f46-42c8-85eb-5a62025c1508",
   "metadata": {
    "execution": {
     "iopub.execute_input": "2025-08-05T16:40:54.729930Z",
     "iopub.status.busy": "2025-08-05T16:40:54.729149Z",
     "iopub.status.idle": "2025-08-05T16:40:55.736462Z",
     "shell.execute_reply": "2025-08-05T16:40:55.735295Z"
    },
    "papermill": {
     "duration": 1.030103,
     "end_time": "2025-08-05T16:40:55.738603",
     "exception": false,
     "start_time": "2025-08-05T16:40:54.708500",
     "status": "completed"
    },
    "tags": []
   },
   "outputs": [],
   "source": [
    "from fairness_multiverse.universe import sample_by_year_size\n",
    "\n",
    "siab_train = sample_by_year_size(siab,\n",
    "                               training_year=universe[\"training_year\"],\n",
    "                               training_size=universe[\"training_size\"])"
   ]
  },
  {
   "cell_type": "code",
   "execution_count": 12,
   "id": "8d3afb32-789d-442c-8d5d-9f5aa8dd2eed",
   "metadata": {
    "execution": {
     "iopub.execute_input": "2025-08-05T16:40:55.782794Z",
     "iopub.status.busy": "2025-08-05T16:40:55.782289Z",
     "iopub.status.idle": "2025-08-05T16:40:55.788894Z",
     "shell.execute_reply": "2025-08-05T16:40:55.787675Z"
    },
    "papermill": {
     "duration": 0.031414,
     "end_time": "2025-08-05T16:40:55.791373",
     "exception": false,
     "start_time": "2025-08-05T16:40:55.759959",
     "status": "completed"
    },
    "tags": []
   },
   "outputs": [],
   "source": [
    "#siab_train.shape"
   ]
  },
  {
   "cell_type": "code",
   "execution_count": 13,
   "id": "d582db68-1a4c-47fb-84fc-08518dc1975a",
   "metadata": {
    "execution": {
     "iopub.execute_input": "2025-08-05T16:40:55.836292Z",
     "iopub.status.busy": "2025-08-05T16:40:55.835170Z",
     "iopub.status.idle": "2025-08-05T16:40:55.841393Z",
     "shell.execute_reply": "2025-08-05T16:40:55.840197Z"
    },
    "papermill": {
     "duration": 0.031013,
     "end_time": "2025-08-05T16:40:55.843812",
     "exception": false,
     "start_time": "2025-08-05T16:40:55.812799",
     "status": "completed"
    },
    "tags": []
   },
   "outputs": [],
   "source": [
    "#display(siab_train.groupby(\"year\").size())"
   ]
  },
  {
   "cell_type": "code",
   "execution_count": 14,
   "id": "a561edb4-d032-42cb-8256-22eac1111c64",
   "metadata": {
    "execution": {
     "iopub.execute_input": "2025-08-05T16:40:55.886693Z",
     "iopub.status.busy": "2025-08-05T16:40:55.886168Z",
     "iopub.status.idle": "2025-08-05T16:40:56.187498Z",
     "shell.execute_reply": "2025-08-05T16:40:56.186493Z"
    },
    "papermill": {
     "duration": 0.325055,
     "end_time": "2025-08-05T16:40:56.189565",
     "exception": false,
     "start_time": "2025-08-05T16:40:55.864510",
     "status": "completed"
    },
    "tags": []
   },
   "outputs": [],
   "source": [
    "#siab_train = siab_s[siab_s.year < 2015]\n",
    "siab_calib = siab[siab.year == 2015]\n",
    "siab_test = siab[siab.year == 2016]"
   ]
  },
  {
   "cell_type": "code",
   "execution_count": 15,
   "id": "472de16f-c3db-4916-846b-1f0de9cf1746",
   "metadata": {
    "execution": {
     "iopub.execute_input": "2025-08-05T16:40:56.234513Z",
     "iopub.status.busy": "2025-08-05T16:40:56.234028Z",
     "iopub.status.idle": "2025-08-05T16:40:56.240928Z",
     "shell.execute_reply": "2025-08-05T16:40:56.240044Z"
    },
    "papermill": {
     "duration": 0.030774,
     "end_time": "2025-08-05T16:40:56.243092",
     "exception": false,
     "start_time": "2025-08-05T16:40:56.212318",
     "status": "completed"
    },
    "tags": []
   },
   "outputs": [],
   "source": [
    "X_train = siab_train.iloc[:,4:164]\n",
    "y_train = siab_train.iloc[:, [3]]"
   ]
  },
  {
   "cell_type": "code",
   "execution_count": 16,
   "id": "828c96af-f43a-4ed6-ba47-8ac73a47d56c",
   "metadata": {
    "execution": {
     "iopub.execute_input": "2025-08-05T16:40:56.287536Z",
     "iopub.status.busy": "2025-08-05T16:40:56.287039Z",
     "iopub.status.idle": "2025-08-05T16:40:56.342957Z",
     "shell.execute_reply": "2025-08-05T16:40:56.341629Z"
    },
    "papermill": {
     "duration": 0.08105,
     "end_time": "2025-08-05T16:40:56.345051",
     "exception": false,
     "start_time": "2025-08-05T16:40:56.264001",
     "status": "completed"
    },
    "tags": []
   },
   "outputs": [],
   "source": [
    "X_calib = siab_calib.iloc[:,4:164]\n",
    "y_calib = siab_calib.iloc[:, [3]]"
   ]
  },
  {
   "cell_type": "code",
   "execution_count": 17,
   "id": "c34be9c3-6bd6-476e-acd3-845840e303be",
   "metadata": {
    "execution": {
     "iopub.execute_input": "2025-08-05T16:40:56.392806Z",
     "iopub.status.busy": "2025-08-05T16:40:56.391840Z",
     "iopub.status.idle": "2025-08-05T16:40:56.463452Z",
     "shell.execute_reply": "2025-08-05T16:40:56.462346Z"
    },
    "papermill": {
     "duration": 0.096649,
     "end_time": "2025-08-05T16:40:56.465747",
     "exception": false,
     "start_time": "2025-08-05T16:40:56.369098",
     "status": "completed"
    },
    "tags": []
   },
   "outputs": [],
   "source": [
    "X_test = siab_test.iloc[:,4:164]\n",
    "y_true = siab_test.iloc[:, [3]]"
   ]
  },
  {
   "cell_type": "code",
   "execution_count": 18,
   "id": "e6c733c5",
   "metadata": {
    "execution": {
     "iopub.execute_input": "2025-08-05T16:40:56.509480Z",
     "iopub.status.busy": "2025-08-05T16:40:56.508727Z",
     "iopub.status.idle": "2025-08-05T16:40:56.609620Z",
     "shell.execute_reply": "2025-08-05T16:40:56.608585Z"
    },
    "papermill": {
     "duration": 0.12533,
     "end_time": "2025-08-05T16:40:56.611643",
     "exception": false,
     "start_time": "2025-08-05T16:40:56.486313",
     "status": "completed"
    },
    "tags": []
   },
   "outputs": [],
   "source": [
    "# Auxiliary data needed downstream in the pipeline\n",
    "\n",
    "org_train = X_train.copy()\n",
    "org_test = X_test.copy()\n",
    "org_calib = X_calib.copy()"
   ]
  },
  {
   "cell_type": "markdown",
   "id": "0a4a1b33",
   "metadata": {
    "papermill": {
     "duration": 0.019629,
     "end_time": "2025-08-05T16:40:56.654640",
     "exception": false,
     "start_time": "2025-08-05T16:40:56.635011",
     "status": "completed"
    },
    "tags": []
   },
   "source": [
    "# Preprocessing Data"
   ]
  },
  {
   "cell_type": "code",
   "execution_count": 19,
   "id": "ca879031",
   "metadata": {
    "execution": {
     "iopub.execute_input": "2025-08-05T16:40:56.698397Z",
     "iopub.status.busy": "2025-08-05T16:40:56.697422Z",
     "iopub.status.idle": "2025-08-05T16:40:56.703941Z",
     "shell.execute_reply": "2025-08-05T16:40:56.702922Z"
    },
    "papermill": {
     "duration": 0.03061,
     "end_time": "2025-08-05T16:40:56.705748",
     "exception": false,
     "start_time": "2025-08-05T16:40:56.675138",
     "status": "completed"
    },
    "tags": []
   },
   "outputs": [],
   "source": [
    "# EXCLUDE PROTECTED FEATURES\n",
    "# ----------------------\n",
    "# \"exclude_features\": \"none\", # \"nationality\", \"sex\", \"nationality-sex\"\n",
    "\n",
    "excluded_features = universe[\"exclude_features\"].split(\"-\") # split, e.g.: \"nationality-sex\" -> [\"nationality\", \"sex\"]\n",
    "excluded_features_dictionary = {\n",
    "    \"nationality\": [\"maxdeutsch1\", \"maxdeutsch.Missing.\"],\n",
    "    \"sex\": [\"frau1\"],\n",
    "    \"age\": [\"age\"],\n",
    "}"
   ]
  },
  {
   "cell_type": "code",
   "execution_count": 20,
   "id": "b745ac60",
   "metadata": {
    "execution": {
     "iopub.execute_input": "2025-08-05T16:40:56.748954Z",
     "iopub.status.busy": "2025-08-05T16:40:56.748003Z",
     "iopub.status.idle": "2025-08-05T16:40:56.754174Z",
     "shell.execute_reply": "2025-08-05T16:40:56.753092Z"
    },
    "papermill": {
     "duration": 0.029802,
     "end_time": "2025-08-05T16:40:56.756060",
     "exception": false,
     "start_time": "2025-08-05T16:40:56.726258",
     "status": "completed"
    },
    "tags": []
   },
   "outputs": [],
   "source": [
    "# Code nice names to column names\n",
    "\n",
    "excluded_features_columns = [\n",
    "    excluded_features_dictionary[f] for f in excluded_features if len(f) > 0 and f != \"none\"\n",
    "]"
   ]
  },
  {
   "cell_type": "code",
   "execution_count": 21,
   "id": "f84f73a2",
   "metadata": {
    "execution": {
     "iopub.execute_input": "2025-08-05T16:40:56.798861Z",
     "iopub.status.busy": "2025-08-05T16:40:56.797984Z",
     "iopub.status.idle": "2025-08-05T16:40:56.804972Z",
     "shell.execute_reply": "2025-08-05T16:40:56.803734Z"
    },
    "papermill": {
     "duration": 0.029141,
     "end_time": "2025-08-05T16:40:56.806991",
     "exception": false,
     "start_time": "2025-08-05T16:40:56.777850",
     "status": "completed"
    },
    "tags": []
   },
   "outputs": [],
   "source": [
    "from utils import flatten_once\n",
    "\n",
    "excluded_features_columns = flatten_once(excluded_features_columns)"
   ]
  },
  {
   "cell_type": "code",
   "execution_count": 22,
   "id": "884dea22",
   "metadata": {
    "execution": {
     "iopub.execute_input": "2025-08-05T16:40:56.844554Z",
     "iopub.status.busy": "2025-08-05T16:40:56.843858Z",
     "iopub.status.idle": "2025-08-05T16:40:56.852550Z",
     "shell.execute_reply": "2025-08-05T16:40:56.851363Z"
    },
    "papermill": {
     "duration": 0.029045,
     "end_time": "2025-08-05T16:40:56.854475",
     "exception": false,
     "start_time": "2025-08-05T16:40:56.825430",
     "status": "completed"
    },
    "tags": []
   },
   "outputs": [
    {
     "name": "stdout",
     "output_type": "stream",
     "text": [
      "Dropping features: ['age']\n"
     ]
    }
   ],
   "source": [
    "if len(excluded_features_columns) > 0:\n",
    "    print(f\"Dropping features: {excluded_features_columns}\")\n",
    "    X_train.drop(excluded_features_columns, axis=1, inplace=True)"
   ]
  },
  {
   "cell_type": "code",
   "execution_count": 23,
   "id": "95ab8b16",
   "metadata": {
    "execution": {
     "iopub.execute_input": "2025-08-05T16:40:56.898542Z",
     "iopub.status.busy": "2025-08-05T16:40:56.897593Z",
     "iopub.status.idle": "2025-08-05T16:40:56.952686Z",
     "shell.execute_reply": "2025-08-05T16:40:56.951561Z"
    },
    "papermill": {
     "duration": 0.078392,
     "end_time": "2025-08-05T16:40:56.954959",
     "exception": false,
     "start_time": "2025-08-05T16:40:56.876567",
     "status": "completed"
    },
    "tags": []
   },
   "outputs": [
    {
     "name": "stdout",
     "output_type": "stream",
     "text": [
      "Dropping features: ['age']\n"
     ]
    }
   ],
   "source": [
    "if len(excluded_features_columns) > 0:\n",
    "    print(f\"Dropping features: {excluded_features_columns}\")\n",
    "    X_test.drop(excluded_features_columns, axis=1, inplace=True)"
   ]
  },
  {
   "cell_type": "code",
   "execution_count": 24,
   "id": "1853aaf5-fb9f-46cb-a2b5-8ea4ae2237e4",
   "metadata": {
    "execution": {
     "iopub.execute_input": "2025-08-05T16:40:56.999786Z",
     "iopub.status.busy": "2025-08-05T16:40:56.999322Z",
     "iopub.status.idle": "2025-08-05T16:40:57.052697Z",
     "shell.execute_reply": "2025-08-05T16:40:57.051532Z"
    },
    "papermill": {
     "duration": 0.078172,
     "end_time": "2025-08-05T16:40:57.054680",
     "exception": false,
     "start_time": "2025-08-05T16:40:56.976508",
     "status": "completed"
    },
    "tags": []
   },
   "outputs": [
    {
     "name": "stdout",
     "output_type": "stream",
     "text": [
      "Dropping features: ['age']\n"
     ]
    }
   ],
   "source": [
    "if len(excluded_features_columns) > 0:\n",
    "    print(f\"Dropping features: {excluded_features_columns}\")\n",
    "    X_calib.drop(excluded_features_columns, axis=1, inplace=True)"
   ]
  },
  {
   "cell_type": "code",
   "execution_count": 25,
   "id": "76c4dc6d",
   "metadata": {
    "execution": {
     "iopub.execute_input": "2025-08-05T16:40:57.094022Z",
     "iopub.status.busy": "2025-08-05T16:40:57.093481Z",
     "iopub.status.idle": "2025-08-05T16:40:57.099071Z",
     "shell.execute_reply": "2025-08-05T16:40:57.097998Z"
    },
    "papermill": {
     "duration": 0.026038,
     "end_time": "2025-08-05T16:40:57.100708",
     "exception": false,
     "start_time": "2025-08-05T16:40:57.074670",
     "status": "completed"
    },
    "tags": []
   },
   "outputs": [],
   "source": [
    "# EXCLUDE CERTAIN SUBGROUPS\n",
    "# ----------------------\n",
    "\n",
    "mode = universe.get(\"exclude_subgroups\", \"keep-all\") \n",
    "# Fetches the exclude_subgroups setting from the universe dict.\n",
    "# Defaults to \"keep-all\" if the key is missing."
   ]
  },
  {
   "cell_type": "code",
   "execution_count": 26,
   "id": "21994072",
   "metadata": {
    "execution": {
     "iopub.execute_input": "2025-08-05T16:40:57.142227Z",
     "iopub.status.busy": "2025-08-05T16:40:57.141271Z",
     "iopub.status.idle": "2025-08-05T16:40:57.148192Z",
     "shell.execute_reply": "2025-08-05T16:40:57.147237Z"
    },
    "papermill": {
     "duration": 0.028535,
     "end_time": "2025-08-05T16:40:57.149929",
     "exception": false,
     "start_time": "2025-08-05T16:40:57.121394",
     "status": "completed"
    },
    "tags": []
   },
   "outputs": [],
   "source": [
    "if mode == \"keep-all\":\n",
    "    keep_mask = pd.Series(True, index=org_train.index)\n",
    "\n",
    "# org_train contains the original feature columns from features_org (in Simson)\n",
    "# features_org contains unprocessed features, for me X_train at beginning ???\n",
    "# For keep-all, creates a boolean Series (keep_mask) of all True, so no rows are removed.\n",
    "\n",
    "elif mode == \"drop-non-german\":\n",
    "    keep_mask = org_train[\"maxdeutsch1\"] == 1 # ??? what about missing values?\n",
    "\n",
    "else:\n",
    "    raise ValueError(f\"Unsupported mode for exclude_subgroups: {mode}\")"
   ]
  },
  {
   "cell_type": "code",
   "execution_count": 27,
   "id": "71651440",
   "metadata": {
    "execution": {
     "iopub.execute_input": "2025-08-05T16:40:57.190297Z",
     "iopub.status.busy": "2025-08-05T16:40:57.189604Z",
     "iopub.status.idle": "2025-08-05T16:40:57.196231Z",
     "shell.execute_reply": "2025-08-05T16:40:57.195284Z"
    },
    "papermill": {
     "duration": 0.028264,
     "end_time": "2025-08-05T16:40:57.197861",
     "exception": false,
     "start_time": "2025-08-05T16:40:57.169597",
     "status": "completed"
    },
    "tags": []
   },
   "outputs": [],
   "source": [
    "n_drop = (~keep_mask).sum() # Calculates how many rows are set to be dropped\n",
    "if n_drop > 0:\n",
    "    pct = n_drop / len(keep_mask) * 100\n",
    "    print(f\"Dropping {n_drop} rows ({pct:.2f}%) where mode='{mode}'\")"
   ]
  },
  {
   "cell_type": "code",
   "execution_count": 28,
   "id": "5fb8eee5",
   "metadata": {
    "execution": {
     "iopub.execute_input": "2025-08-05T16:40:57.236798Z",
     "iopub.status.busy": "2025-08-05T16:40:57.236359Z",
     "iopub.status.idle": "2025-08-05T16:40:57.243304Z",
     "shell.execute_reply": "2025-08-05T16:40:57.242138Z"
    },
    "papermill": {
     "duration": 0.028083,
     "end_time": "2025-08-05T16:40:57.245283",
     "exception": false,
     "start_time": "2025-08-05T16:40:57.217200",
     "status": "completed"
    },
    "tags": []
   },
   "outputs": [],
   "source": [
    "X_train = X_train[keep_mask]"
   ]
  },
  {
   "cell_type": "code",
   "execution_count": 29,
   "id": "b202bb3a",
   "metadata": {
    "execution": {
     "iopub.execute_input": "2025-08-05T16:40:57.284306Z",
     "iopub.status.busy": "2025-08-05T16:40:57.283840Z",
     "iopub.status.idle": "2025-08-05T16:40:57.290471Z",
     "shell.execute_reply": "2025-08-05T16:40:57.289395Z"
    },
    "papermill": {
     "duration": 0.027218,
     "end_time": "2025-08-05T16:40:57.292262",
     "exception": false,
     "start_time": "2025-08-05T16:40:57.265044",
     "status": "completed"
    },
    "tags": []
   },
   "outputs": [],
   "source": [
    "y_train = y_train[keep_mask]"
   ]
  },
  {
   "cell_type": "markdown",
   "id": "493e2ac3",
   "metadata": {
    "papermill": {
     "duration": 0.018523,
     "end_time": "2025-08-05T16:40:57.330707",
     "exception": false,
     "start_time": "2025-08-05T16:40:57.312184",
     "status": "completed"
    },
    "tags": []
   },
   "source": [
    "# Model Training"
   ]
  },
  {
   "cell_type": "code",
   "execution_count": 30,
   "id": "679e1268",
   "metadata": {
    "execution": {
     "iopub.execute_input": "2025-08-05T16:40:57.368675Z",
     "iopub.status.busy": "2025-08-05T16:40:57.368217Z",
     "iopub.status.idle": "2025-08-05T16:40:57.474965Z",
     "shell.execute_reply": "2025-08-05T16:40:57.473958Z"
    },
    "papermill": {
     "duration": 0.127596,
     "end_time": "2025-08-05T16:40:57.476986",
     "exception": false,
     "start_time": "2025-08-05T16:40:57.349390",
     "status": "completed"
    },
    "tags": []
   },
   "outputs": [],
   "source": [
    "from sklearn.linear_model import LogisticRegression\n",
    "from sklearn.ensemble import GradientBoostingClassifier, RandomForestClassifier\n",
    "\n",
    "if (universe[\"model\"] == \"logreg\"):\n",
    "    model = LogisticRegression() #penalty=\"none\", solver=\"newton-cg\", max_iter=1) # include random_state=19 ?\n",
    "elif (universe[\"model\"] == \"penalized_logreg\"):\n",
    "    model = LogisticRegression(penalty=\"l2\", C=0.1) #, solver=\"newton-cg\", max_iter=1)\n",
    "elif (universe[\"model\"] == \"rf\"):\n",
    "    model = RandomForestClassifier() # n_estimators=100, n_jobs=-1\n",
    "elif (universe[\"model\"] == \"gbm\"):\n",
    "    model = GradientBoostingClassifier()\n",
    "elif (universe[\"model\"] == \"elasticnet\"):\n",
    "    model = LogisticRegression(penalty = 'elasticnet', solver = 'saga', l1_ratio = 0.5) # max_iter=5000\n",
    "else:\n",
    "    raise \"Unsupported universe.model\""
   ]
  },
  {
   "cell_type": "code",
   "execution_count": 31,
   "id": "0cc8f744",
   "metadata": {
    "execution": {
     "iopub.execute_input": "2025-08-05T16:40:57.515950Z",
     "iopub.status.busy": "2025-08-05T16:40:57.515037Z",
     "iopub.status.idle": "2025-08-05T16:40:57.521241Z",
     "shell.execute_reply": "2025-08-05T16:40:57.520276Z"
    },
    "papermill": {
     "duration": 0.027021,
     "end_time": "2025-08-05T16:40:57.522917",
     "exception": false,
     "start_time": "2025-08-05T16:40:57.495896",
     "status": "completed"
    },
    "tags": []
   },
   "outputs": [],
   "source": [
    "import numpy as np\n",
    "from sklearn.pipeline import Pipeline\n",
    "from sklearn.preprocessing import StandardScaler\n",
    "\n",
    "model = Pipeline([\n",
    "    #(\"continuous_processor\", continuous_processor),\n",
    "    #(\"categorical_preprocessor\", categorical_preprocessor),\n",
    "    (\"scale\", StandardScaler() if universe[\"scale\"] == \"scale\" else None), \n",
    "    (\"model\", model),\n",
    "])"
   ]
  },
  {
   "cell_type": "code",
   "execution_count": 32,
   "id": "9442c04d",
   "metadata": {
    "execution": {
     "iopub.execute_input": "2025-08-05T16:40:57.564332Z",
     "iopub.status.busy": "2025-08-05T16:40:57.563842Z",
     "iopub.status.idle": "2025-08-05T16:40:57.635603Z",
     "shell.execute_reply": "2025-08-05T16:40:57.634606Z"
    },
    "papermill": {
     "duration": 0.093346,
     "end_time": "2025-08-05T16:40:57.637192",
     "exception": false,
     "start_time": "2025-08-05T16:40:57.543846",
     "status": "completed"
    },
    "tags": []
   },
   "outputs": [
    {
     "name": "stderr",
     "output_type": "stream",
     "text": [
      "/dss/dsshome1/0C/ra93lal2/.local/share/virtualenvs/CMA_Fairness_v2-3j10GkSs/lib/python3.10/site-packages/sklearn/linear_model/_logistic.py:444: ConvergenceWarning: lbfgs failed to converge (status=1):\n",
      "STOP: TOTAL NO. of ITERATIONS REACHED LIMIT.\n",
      "\n",
      "Increase the number of iterations (max_iter) or scale the data as shown in:\n",
      "    https://scikit-learn.org/stable/modules/preprocessing.html\n",
      "Please also refer to the documentation for alternative solver options:\n",
      "    https://scikit-learn.org/stable/modules/linear_model.html#logistic-regression\n",
      "  n_iter_i = _check_optimize_result(\n"
     ]
    },
    {
     "data": {
      "text/html": [
       "<style>#sk-container-id-1 {color: black;background-color: white;}#sk-container-id-1 pre{padding: 0;}#sk-container-id-1 div.sk-toggleable {background-color: white;}#sk-container-id-1 label.sk-toggleable__label {cursor: pointer;display: block;width: 100%;margin-bottom: 0;padding: 0.3em;box-sizing: border-box;text-align: center;}#sk-container-id-1 label.sk-toggleable__label-arrow:before {content: \"▸\";float: left;margin-right: 0.25em;color: #696969;}#sk-container-id-1 label.sk-toggleable__label-arrow:hover:before {color: black;}#sk-container-id-1 div.sk-estimator:hover label.sk-toggleable__label-arrow:before {color: black;}#sk-container-id-1 div.sk-toggleable__content {max-height: 0;max-width: 0;overflow: hidden;text-align: left;background-color: #f0f8ff;}#sk-container-id-1 div.sk-toggleable__content pre {margin: 0.2em;color: black;border-radius: 0.25em;background-color: #f0f8ff;}#sk-container-id-1 input.sk-toggleable__control:checked~div.sk-toggleable__content {max-height: 200px;max-width: 100%;overflow: auto;}#sk-container-id-1 input.sk-toggleable__control:checked~label.sk-toggleable__label-arrow:before {content: \"▾\";}#sk-container-id-1 div.sk-estimator input.sk-toggleable__control:checked~label.sk-toggleable__label {background-color: #d4ebff;}#sk-container-id-1 div.sk-label input.sk-toggleable__control:checked~label.sk-toggleable__label {background-color: #d4ebff;}#sk-container-id-1 input.sk-hidden--visually {border: 0;clip: rect(1px 1px 1px 1px);clip: rect(1px, 1px, 1px, 1px);height: 1px;margin: -1px;overflow: hidden;padding: 0;position: absolute;width: 1px;}#sk-container-id-1 div.sk-estimator {font-family: monospace;background-color: #f0f8ff;border: 1px dotted black;border-radius: 0.25em;box-sizing: border-box;margin-bottom: 0.5em;}#sk-container-id-1 div.sk-estimator:hover {background-color: #d4ebff;}#sk-container-id-1 div.sk-parallel-item::after {content: \"\";width: 100%;border-bottom: 1px solid gray;flex-grow: 1;}#sk-container-id-1 div.sk-label:hover label.sk-toggleable__label {background-color: #d4ebff;}#sk-container-id-1 div.sk-serial::before {content: \"\";position: absolute;border-left: 1px solid gray;box-sizing: border-box;top: 0;bottom: 0;left: 50%;z-index: 0;}#sk-container-id-1 div.sk-serial {display: flex;flex-direction: column;align-items: center;background-color: white;padding-right: 0.2em;padding-left: 0.2em;position: relative;}#sk-container-id-1 div.sk-item {position: relative;z-index: 1;}#sk-container-id-1 div.sk-parallel {display: flex;align-items: stretch;justify-content: center;background-color: white;position: relative;}#sk-container-id-1 div.sk-item::before, #sk-container-id-1 div.sk-parallel-item::before {content: \"\";position: absolute;border-left: 1px solid gray;box-sizing: border-box;top: 0;bottom: 0;left: 50%;z-index: -1;}#sk-container-id-1 div.sk-parallel-item {display: flex;flex-direction: column;z-index: 1;position: relative;background-color: white;}#sk-container-id-1 div.sk-parallel-item:first-child::after {align-self: flex-end;width: 50%;}#sk-container-id-1 div.sk-parallel-item:last-child::after {align-self: flex-start;width: 50%;}#sk-container-id-1 div.sk-parallel-item:only-child::after {width: 0;}#sk-container-id-1 div.sk-dashed-wrapped {border: 1px dashed gray;margin: 0 0.4em 0.5em 0.4em;box-sizing: border-box;padding-bottom: 0.4em;background-color: white;}#sk-container-id-1 div.sk-label label {font-family: monospace;font-weight: bold;display: inline-block;line-height: 1.2em;}#sk-container-id-1 div.sk-label-container {text-align: center;}#sk-container-id-1 div.sk-container {/* jupyter's `normalize.less` sets `[hidden] { display: none; }` but bootstrap.min.css set `[hidden] { display: none !important; }` so we also need the `!important` here to be able to override the default hidden behavior on the sphinx rendered scikit-learn.org. See: https://github.com/scikit-learn/scikit-learn/issues/21755 */display: inline-block !important;position: relative;}#sk-container-id-1 div.sk-text-repr-fallback {display: none;}</style><div id=\"sk-container-id-1\" class=\"sk-top-container\"><div class=\"sk-text-repr-fallback\"><pre>Pipeline(steps=[(&#x27;scale&#x27;, None), (&#x27;model&#x27;, LogisticRegression(C=0.1))])</pre><b>In a Jupyter environment, please rerun this cell to show the HTML representation or trust the notebook. <br />On GitHub, the HTML representation is unable to render, please try loading this page with nbviewer.org.</b></div><div class=\"sk-container\" hidden><div class=\"sk-item sk-dashed-wrapped\"><div class=\"sk-label-container\"><div class=\"sk-label sk-toggleable\"><input class=\"sk-toggleable__control sk-hidden--visually\" id=\"sk-estimator-id-1\" type=\"checkbox\" ><label for=\"sk-estimator-id-1\" class=\"sk-toggleable__label sk-toggleable__label-arrow\">Pipeline</label><div class=\"sk-toggleable__content\"><pre>Pipeline(steps=[(&#x27;scale&#x27;, None), (&#x27;model&#x27;, LogisticRegression(C=0.1))])</pre></div></div></div><div class=\"sk-serial\"><div class=\"sk-item\"><div class=\"sk-estimator sk-toggleable\"><input class=\"sk-toggleable__control sk-hidden--visually\" id=\"sk-estimator-id-2\" type=\"checkbox\" ><label for=\"sk-estimator-id-2\" class=\"sk-toggleable__label sk-toggleable__label-arrow\">None</label><div class=\"sk-toggleable__content\"><pre>None</pre></div></div></div><div class=\"sk-item\"><div class=\"sk-estimator sk-toggleable\"><input class=\"sk-toggleable__control sk-hidden--visually\" id=\"sk-estimator-id-3\" type=\"checkbox\" ><label for=\"sk-estimator-id-3\" class=\"sk-toggleable__label sk-toggleable__label-arrow\">LogisticRegression</label><div class=\"sk-toggleable__content\"><pre>LogisticRegression(C=0.1)</pre></div></div></div></div></div></div></div>"
      ],
      "text/plain": [
       "Pipeline(steps=[('scale', None), ('model', LogisticRegression(C=0.1))])"
      ]
     },
     "execution_count": 32,
     "metadata": {},
     "output_type": "execute_result"
    }
   ],
   "source": [
    "model.fit(X_train, y_train.values.ravel())"
   ]
  },
  {
   "cell_type": "code",
   "execution_count": 33,
   "id": "af59f8c0",
   "metadata": {
    "execution": {
     "iopub.execute_input": "2025-08-05T16:40:57.679730Z",
     "iopub.status.busy": "2025-08-05T16:40:57.678760Z",
     "iopub.status.idle": "2025-08-05T16:40:57.684604Z",
     "shell.execute_reply": "2025-08-05T16:40:57.683586Z"
    },
    "papermill": {
     "duration": 0.029028,
     "end_time": "2025-08-05T16:40:57.686517",
     "exception": false,
     "start_time": "2025-08-05T16:40:57.657489",
     "status": "completed"
    },
    "tags": []
   },
   "outputs": [],
   "source": [
    "from fairness_multiverse.universe import predict_w_threshold"
   ]
  },
  {
   "cell_type": "code",
   "execution_count": 34,
   "id": "a7cf2e16",
   "metadata": {
    "execution": {
     "iopub.execute_input": "2025-08-05T16:40:57.727398Z",
     "iopub.status.busy": "2025-08-05T16:40:57.726574Z",
     "iopub.status.idle": "2025-08-05T16:40:57.824748Z",
     "shell.execute_reply": "2025-08-05T16:40:57.823704Z"
    },
    "papermill": {
     "duration": 0.120361,
     "end_time": "2025-08-05T16:40:57.826983",
     "exception": false,
     "start_time": "2025-08-05T16:40:57.706622",
     "status": "completed"
    },
    "tags": []
   },
   "outputs": [
    {
     "data": {
      "text/plain": [
       "0.8537509753650652"
      ]
     },
     "execution_count": 34,
     "metadata": {},
     "output_type": "execute_result"
    }
   ],
   "source": [
    "probs_test = model.predict_proba(X_test)\n",
    "\n",
    "'''\n",
    "Below code returns a boolean array (or binary 0/1 array depending on how it’s used) where each element \n",
    "is True if the probability of class 1 is greater than or equal to the threshold, and False otherwise.\n",
    "'''\n",
    "y_pred_default = predict_w_threshold(probs_test, 0.5)\n",
    "\n",
    "from sklearn.metrics import accuracy_score\n",
    "\n",
    "# Naive prediction\n",
    "accuracy_score(y_true = y_true, y_pred = y_pred_default)"
   ]
  },
  {
   "cell_type": "code",
   "execution_count": 35,
   "id": "081964c3",
   "metadata": {
    "execution": {
     "iopub.execute_input": "2025-08-05T16:40:57.869299Z",
     "iopub.status.busy": "2025-08-05T16:40:57.868505Z",
     "iopub.status.idle": "2025-08-05T16:40:57.955894Z",
     "shell.execute_reply": "2025-08-05T16:40:57.954889Z"
    },
    "papermill": {
     "duration": 0.110323,
     "end_time": "2025-08-05T16:40:57.957631",
     "exception": false,
     "start_time": "2025-08-05T16:40:57.847308",
     "status": "completed"
    },
    "tags": []
   },
   "outputs": [
    {
     "data": {
      "text/plain": [
       "array([0, 0, 0, ..., 0, 0, 0])"
      ]
     },
     "execution_count": 35,
     "metadata": {},
     "output_type": "execute_result"
    }
   ],
   "source": [
    "model.predict(X_test)"
   ]
  },
  {
   "cell_type": "markdown",
   "id": "56c9705b",
   "metadata": {
    "papermill": {
     "duration": 0.019473,
     "end_time": "2025-08-05T16:40:57.997473",
     "exception": false,
     "start_time": "2025-08-05T16:40:57.978000",
     "status": "completed"
    },
    "tags": []
   },
   "source": [
    "# Conformal Prediction"
   ]
  },
  {
   "cell_type": "code",
   "execution_count": 36,
   "id": "160ec6ff",
   "metadata": {
    "execution": {
     "iopub.execute_input": "2025-08-05T16:40:58.041044Z",
     "iopub.status.busy": "2025-08-05T16:40:58.040110Z",
     "iopub.status.idle": "2025-08-05T16:40:58.045687Z",
     "shell.execute_reply": "2025-08-05T16:40:58.044614Z"
    },
    "papermill": {
     "duration": 0.029003,
     "end_time": "2025-08-05T16:40:58.047574",
     "exception": false,
     "start_time": "2025-08-05T16:40:58.018571",
     "status": "completed"
    },
    "tags": []
   },
   "outputs": [],
   "source": [
    "# Miscoverage level for conformal prediction (10% allowed error rate => 90% target coverage)\n",
    "alpha = 0.1"
   ]
  },
  {
   "cell_type": "code",
   "execution_count": 37,
   "id": "eadf4555-3dd3-440e-8e35-f82a4ad9f855",
   "metadata": {
    "execution": {
     "iopub.execute_input": "2025-08-05T16:40:58.091050Z",
     "iopub.status.busy": "2025-08-05T16:40:58.090456Z",
     "iopub.status.idle": "2025-08-05T16:40:58.179172Z",
     "shell.execute_reply": "2025-08-05T16:40:58.178150Z"
    },
    "papermill": {
     "duration": 0.112306,
     "end_time": "2025-08-05T16:40:58.181077",
     "exception": false,
     "start_time": "2025-08-05T16:40:58.068771",
     "status": "completed"
    },
    "tags": []
   },
   "outputs": [],
   "source": [
    "probs_calib = model.predict_proba(X_calib)"
   ]
  },
  {
   "cell_type": "code",
   "execution_count": 38,
   "id": "2ed93547-6d5d-4983-9b36-1ecb300da49a",
   "metadata": {
    "execution": {
     "iopub.execute_input": "2025-08-05T16:40:58.224334Z",
     "iopub.status.busy": "2025-08-05T16:40:58.223414Z",
     "iopub.status.idle": "2025-08-05T16:40:58.229497Z",
     "shell.execute_reply": "2025-08-05T16:40:58.228457Z"
    },
    "papermill": {
     "duration": 0.029644,
     "end_time": "2025-08-05T16:40:58.231641",
     "exception": false,
     "start_time": "2025-08-05T16:40:58.201997",
     "status": "completed"
    },
    "tags": []
   },
   "outputs": [],
   "source": [
    "y_calib = y_calib.values.ravel().astype(int)"
   ]
  },
  {
   "cell_type": "code",
   "execution_count": 39,
   "id": "65d1320d-f588-4b38-9072-62af1ae97f7d",
   "metadata": {
    "execution": {
     "iopub.execute_input": "2025-08-05T16:40:58.275612Z",
     "iopub.status.busy": "2025-08-05T16:40:58.275073Z",
     "iopub.status.idle": "2025-08-05T16:40:58.282664Z",
     "shell.execute_reply": "2025-08-05T16:40:58.281612Z"
    },
    "papermill": {
     "duration": 0.031611,
     "end_time": "2025-08-05T16:40:58.284506",
     "exception": false,
     "start_time": "2025-08-05T16:40:58.252895",
     "status": "completed"
    },
    "tags": []
   },
   "outputs": [],
   "source": [
    "from fairness_multiverse.conformal import compute_nc_scores\n",
    "\n",
    "# Compute nonconformity scores on calibration set (1 - probability of true class)\n",
    "nc_scores = compute_nc_scores(probs_calib, y_calib)"
   ]
  },
  {
   "cell_type": "code",
   "execution_count": 40,
   "id": "df3b8ca3-53b7-43d5-9667-7c85da7aeda2",
   "metadata": {
    "execution": {
     "iopub.execute_input": "2025-08-05T16:40:58.328536Z",
     "iopub.status.busy": "2025-08-05T16:40:58.327573Z",
     "iopub.status.idle": "2025-08-05T16:40:58.334769Z",
     "shell.execute_reply": "2025-08-05T16:40:58.333605Z"
    },
    "papermill": {
     "duration": 0.030326,
     "end_time": "2025-08-05T16:40:58.336658",
     "exception": false,
     "start_time": "2025-08-05T16:40:58.306332",
     "status": "completed"
    },
    "tags": []
   },
   "outputs": [],
   "source": [
    "from fairness_multiverse.conformal import find_threshold\n",
    "\n",
    "# Find conformal threshold q_hat for the given alpha (split conformal method)\n",
    "q_hat = find_threshold(nc_scores, alpha)"
   ]
  },
  {
   "cell_type": "code",
   "execution_count": 41,
   "id": "4d29e6c1-0ef6-4aa4-b8fe-4fe79b0d033a",
   "metadata": {
    "execution": {
     "iopub.execute_input": "2025-08-05T16:40:58.381043Z",
     "iopub.status.busy": "2025-08-05T16:40:58.380135Z",
     "iopub.status.idle": "2025-08-05T16:40:58.387808Z",
     "shell.execute_reply": "2025-08-05T16:40:58.386801Z"
    },
    "papermill": {
     "duration": 0.0314,
     "end_time": "2025-08-05T16:40:58.389617",
     "exception": false,
     "start_time": "2025-08-05T16:40:58.358217",
     "status": "completed"
    },
    "tags": []
   },
   "outputs": [
    {
     "data": {
      "text/plain": [
       "0.6804987546321943"
      ]
     },
     "execution_count": 41,
     "metadata": {},
     "output_type": "execute_result"
    }
   ],
   "source": [
    "q_hat"
   ]
  },
  {
   "cell_type": "code",
   "execution_count": 42,
   "id": "92460794-cdac-4be2-ba28-f28c0515a6fb",
   "metadata": {
    "execution": {
     "iopub.execute_input": "2025-08-05T16:40:58.434532Z",
     "iopub.status.busy": "2025-08-05T16:40:58.433921Z",
     "iopub.status.idle": "2025-08-05T16:40:59.896576Z",
     "shell.execute_reply": "2025-08-05T16:40:59.895758Z"
    },
    "papermill": {
     "duration": 1.486538,
     "end_time": "2025-08-05T16:40:59.898105",
     "exception": false,
     "start_time": "2025-08-05T16:40:58.411567",
     "status": "completed"
    },
    "tags": []
   },
   "outputs": [],
   "source": [
    "from fairness_multiverse.conformal import predict_conformal_sets\n",
    "\n",
    "# Generate prediction sets for each test example\n",
    "pred_sets = predict_conformal_sets(model, X_test, q_hat)"
   ]
  },
  {
   "cell_type": "code",
   "execution_count": 43,
   "id": "d90c9a65-e6db-4f5d-80cd-e68fb7e46829",
   "metadata": {
    "execution": {
     "iopub.execute_input": "2025-08-05T16:40:59.930534Z",
     "iopub.status.busy": "2025-08-05T16:40:59.930042Z",
     "iopub.status.idle": "2025-08-05T16:40:59.935955Z",
     "shell.execute_reply": "2025-08-05T16:40:59.935067Z"
    },
    "papermill": {
     "duration": 0.02983,
     "end_time": "2025-08-05T16:40:59.938905",
     "exception": false,
     "start_time": "2025-08-05T16:40:59.909075",
     "status": "completed"
    },
    "tags": []
   },
   "outputs": [],
   "source": [
    "y_true = y_true.squeeze()"
   ]
  },
  {
   "cell_type": "code",
   "execution_count": 44,
   "id": "3a58a54a-1e68-46b9-927a-df01f18aebc8",
   "metadata": {
    "execution": {
     "iopub.execute_input": "2025-08-05T16:41:00.004717Z",
     "iopub.status.busy": "2025-08-05T16:41:00.004306Z",
     "iopub.status.idle": "2025-08-05T16:41:00.659522Z",
     "shell.execute_reply": "2025-08-05T16:41:00.658719Z"
    },
    "papermill": {
     "duration": 0.689647,
     "end_time": "2025-08-05T16:41:00.660904",
     "exception": false,
     "start_time": "2025-08-05T16:40:59.971257",
     "status": "completed"
    },
    "tags": []
   },
   "outputs": [],
   "source": [
    "from fairness_multiverse.conformal import evaluate_sets\n",
    "\n",
    "# Evaluate coverage and average set size on test data\n",
    "metrics = evaluate_sets(pred_sets, y_true)"
   ]
  },
  {
   "cell_type": "markdown",
   "id": "2b569c12-9aaa-4c88-98c9-bbcd0cf3ebb8",
   "metadata": {
    "papermill": {
     "duration": 0.011431,
     "end_time": "2025-08-05T16:41:00.683670",
     "exception": false,
     "start_time": "2025-08-05T16:41:00.672239",
     "status": "completed"
    },
    "tags": []
   },
   "source": [
    "# CP Metrics"
   ]
  },
  {
   "cell_type": "code",
   "execution_count": 45,
   "id": "5ce0a5cb-201f-45a0-ade5-94c7f0bd6095",
   "metadata": {
    "execution": {
     "iopub.execute_input": "2025-08-05T16:41:00.707115Z",
     "iopub.status.busy": "2025-08-05T16:41:00.706371Z",
     "iopub.status.idle": "2025-08-05T16:41:00.713345Z",
     "shell.execute_reply": "2025-08-05T16:41:00.712535Z"
    },
    "papermill": {
     "duration": 0.020481,
     "end_time": "2025-08-05T16:41:00.715021",
     "exception": false,
     "start_time": "2025-08-05T16:41:00.694540",
     "status": "completed"
    },
    "tags": []
   },
   "outputs": [
    {
     "data": {
      "text/plain": [
       "{'coverage': 0.9130977594471074, 'avg_size': 1.2747296845390703}"
      ]
     },
     "execution_count": 45,
     "metadata": {},
     "output_type": "execute_result"
    }
   ],
   "source": [
    "metrics"
   ]
  },
  {
   "cell_type": "code",
   "execution_count": 46,
   "id": "9b9a838d-31c9-430b-ae14-12baee460d17",
   "metadata": {
    "execution": {
     "iopub.execute_input": "2025-08-05T16:41:00.741039Z",
     "iopub.status.busy": "2025-08-05T16:41:00.740193Z",
     "iopub.status.idle": "2025-08-05T16:41:00.746038Z",
     "shell.execute_reply": "2025-08-05T16:41:00.745155Z"
    },
    "papermill": {
     "duration": 0.020043,
     "end_time": "2025-08-05T16:41:00.747547",
     "exception": false,
     "start_time": "2025-08-05T16:41:00.727504",
     "status": "completed"
    },
    "tags": []
   },
   "outputs": [],
   "source": [
    "example_universe = universe.copy()\n",
    "universe_training_year = example_universe.get(\"training_year\")\n",
    "universe_training_size = example_universe.get(\"training_size\")\n",
    "universe_scale = example_universe.get(\"scale\")\n",
    "universe_model = example_universe.get(\"model\")\n",
    "universe_exclude_features = example_universe.get(\"exclude_features\")\n",
    "universe_exclude_subgroups = example_universe.get(\"exclude_subgroups\")"
   ]
  },
  {
   "cell_type": "code",
   "execution_count": 47,
   "id": "f4b6a8ac-9dc0-4245-8a91-5b3b5999c4f9",
   "metadata": {
    "execution": {
     "iopub.execute_input": "2025-08-05T16:41:00.773637Z",
     "iopub.status.busy": "2025-08-05T16:41:00.772803Z",
     "iopub.status.idle": "2025-08-05T16:41:00.778676Z",
     "shell.execute_reply": "2025-08-05T16:41:00.777852Z"
    },
    "papermill": {
     "duration": 0.020005,
     "end_time": "2025-08-05T16:41:00.780340",
     "exception": false,
     "start_time": "2025-08-05T16:41:00.760335",
     "status": "completed"
    },
    "tags": []
   },
   "outputs": [],
   "source": [
    "cp_metrics_dict = {\n",
    "    \"universe_id\": [universe_id],\n",
    "    \"universe_training_year\": [universe_training_year],\n",
    "    \"universe_training_size\": [universe_training_size],\n",
    "    \"universe_scale\": [universe_scale],\n",
    "    \"universe_model\": [universe_model],\n",
    "    \"universe_exclude_features\": [universe_exclude_features],\n",
    "    \"universe_exclude_subgroups\": [universe_exclude_subgroups],\n",
    "    \"q_hat\": [q_hat],\n",
    "    \"coverage\": [metrics[\"coverage\"]],\n",
    "    \"avg_size\": [metrics[\"avg_size\"]],\n",
    "}"
   ]
  },
  {
   "cell_type": "code",
   "execution_count": 48,
   "id": "908acbb1-0371-4915-85ca-3fa520d2efe2",
   "metadata": {
    "execution": {
     "iopub.execute_input": "2025-08-05T16:41:00.805332Z",
     "iopub.status.busy": "2025-08-05T16:41:00.804975Z",
     "iopub.status.idle": "2025-08-05T16:41:00.812293Z",
     "shell.execute_reply": "2025-08-05T16:41:00.811306Z"
    },
    "papermill": {
     "duration": 0.021149,
     "end_time": "2025-08-05T16:41:00.813899",
     "exception": false,
     "start_time": "2025-08-05T16:41:00.792750",
     "status": "completed"
    },
    "tags": []
   },
   "outputs": [
    {
     "data": {
      "text/plain": [
       "{'universe_id': ['f3501c6b464abbd2b5f7452d6e840be1'],\n",
       " 'universe_training_year': ['2010_14'],\n",
       " 'universe_training_size': ['1k'],\n",
       " 'universe_scale': ['do-not-scale'],\n",
       " 'universe_model': ['penalized_logreg'],\n",
       " 'universe_exclude_features': ['age'],\n",
       " 'universe_exclude_subgroups': ['keep-all'],\n",
       " 'q_hat': [0.6804987546321943],\n",
       " 'coverage': [0.9130977594471074],\n",
       " 'avg_size': [1.2747296845390703]}"
      ]
     },
     "execution_count": 48,
     "metadata": {},
     "output_type": "execute_result"
    }
   ],
   "source": [
    "cp_metrics_dict"
   ]
  },
  {
   "cell_type": "code",
   "execution_count": 49,
   "id": "33007efc-14e9-4ec6-97ac-56a455c82265",
   "metadata": {
    "execution": {
     "iopub.execute_input": "2025-08-05T16:41:00.838539Z",
     "iopub.status.busy": "2025-08-05T16:41:00.838179Z",
     "iopub.status.idle": "2025-08-05T16:41:00.843653Z",
     "shell.execute_reply": "2025-08-05T16:41:00.842774Z"
    },
    "papermill": {
     "duration": 0.019179,
     "end_time": "2025-08-05T16:41:00.845166",
     "exception": false,
     "start_time": "2025-08-05T16:41:00.825987",
     "status": "completed"
    },
    "tags": []
   },
   "outputs": [],
   "source": [
    "cp_metrics_df = pd.DataFrame(cp_metrics_dict)"
   ]
  },
  {
   "cell_type": "code",
   "execution_count": 50,
   "id": "db12611b-57b2-4910-b9d0-355adfd6e7bf",
   "metadata": {
    "execution": {
     "iopub.execute_input": "2025-08-05T16:41:00.871460Z",
     "iopub.status.busy": "2025-08-05T16:41:00.870601Z",
     "iopub.status.idle": "2025-08-05T16:41:00.886240Z",
     "shell.execute_reply": "2025-08-05T16:41:00.885302Z"
    },
    "papermill": {
     "duration": 0.029529,
     "end_time": "2025-08-05T16:41:00.887571",
     "exception": false,
     "start_time": "2025-08-05T16:41:00.858042",
     "status": "completed"
    },
    "tags": []
   },
   "outputs": [
    {
     "data": {
      "text/html": [
       "<div>\n",
       "<style scoped>\n",
       "    .dataframe tbody tr th:only-of-type {\n",
       "        vertical-align: middle;\n",
       "    }\n",
       "\n",
       "    .dataframe tbody tr th {\n",
       "        vertical-align: top;\n",
       "    }\n",
       "\n",
       "    .dataframe thead th {\n",
       "        text-align: right;\n",
       "    }\n",
       "</style>\n",
       "<table border=\"1\" class=\"dataframe\">\n",
       "  <thead>\n",
       "    <tr style=\"text-align: right;\">\n",
       "      <th></th>\n",
       "      <th>universe_id</th>\n",
       "      <th>universe_training_year</th>\n",
       "      <th>universe_training_size</th>\n",
       "      <th>universe_scale</th>\n",
       "      <th>universe_model</th>\n",
       "      <th>universe_exclude_features</th>\n",
       "      <th>universe_exclude_subgroups</th>\n",
       "      <th>q_hat</th>\n",
       "      <th>coverage</th>\n",
       "      <th>avg_size</th>\n",
       "    </tr>\n",
       "  </thead>\n",
       "  <tbody>\n",
       "    <tr>\n",
       "      <th>0</th>\n",
       "      <td>f3501c6b464abbd2b5f7452d6e840be1</td>\n",
       "      <td>2010_14</td>\n",
       "      <td>1k</td>\n",
       "      <td>do-not-scale</td>\n",
       "      <td>penalized_logreg</td>\n",
       "      <td>age</td>\n",
       "      <td>keep-all</td>\n",
       "      <td>0.680499</td>\n",
       "      <td>0.913098</td>\n",
       "      <td>1.27473</td>\n",
       "    </tr>\n",
       "  </tbody>\n",
       "</table>\n",
       "</div>"
      ],
      "text/plain": [
       "                        universe_id universe_training_year  \\\n",
       "0  f3501c6b464abbd2b5f7452d6e840be1                2010_14   \n",
       "\n",
       "  universe_training_size universe_scale    universe_model  \\\n",
       "0                     1k   do-not-scale  penalized_logreg   \n",
       "\n",
       "  universe_exclude_features universe_exclude_subgroups     q_hat  coverage  \\\n",
       "0                       age                   keep-all  0.680499  0.913098   \n",
       "\n",
       "   avg_size  \n",
       "0   1.27473  "
      ]
     },
     "execution_count": 50,
     "metadata": {},
     "output_type": "execute_result"
    }
   ],
   "source": [
    "cp_metrics_df"
   ]
  },
  {
   "cell_type": "code",
   "execution_count": 51,
   "id": "b7fbde55-a0a1-47e4-9af6-fe4a17fa8c61",
   "metadata": {
    "execution": {
     "iopub.execute_input": "2025-08-05T16:41:00.926389Z",
     "iopub.status.busy": "2025-08-05T16:41:00.926015Z",
     "iopub.status.idle": "2025-08-05T16:41:00.930319Z",
     "shell.execute_reply": "2025-08-05T16:41:00.929493Z"
    },
    "papermill": {
     "duration": 0.03126,
     "end_time": "2025-08-05T16:41:00.931932",
     "exception": false,
     "start_time": "2025-08-05T16:41:00.900672",
     "status": "completed"
    },
    "tags": []
   },
   "outputs": [],
   "source": [
    "# Conditional Coverage & looking at subgroups"
   ]
  },
  {
   "cell_type": "code",
   "execution_count": 52,
   "id": "027ae886-68dd-4141-96c7-805a5450e1ef",
   "metadata": {
    "execution": {
     "iopub.execute_input": "2025-08-05T16:41:00.959890Z",
     "iopub.status.busy": "2025-08-05T16:41:00.959509Z",
     "iopub.status.idle": "2025-08-05T16:41:01.243598Z",
     "shell.execute_reply": "2025-08-05T16:41:01.242578Z"
    },
    "papermill": {
     "duration": 0.302177,
     "end_time": "2025-08-05T16:41:01.245905",
     "exception": false,
     "start_time": "2025-08-05T16:41:00.943728",
     "status": "completed"
    },
    "tags": []
   },
   "outputs": [],
   "source": [
    "from fairness_multiverse.conformal import build_cp_groups\n",
    "\n",
    "cp_groups_df = build_cp_groups(pred_sets, y_true, X_test.index, org_test)\n",
    "#needs universe_id and setting"
   ]
  },
  {
   "cell_type": "code",
   "execution_count": 53,
   "id": "6cbdab96-b2b2-45af-ad54-d0516db2e28d",
   "metadata": {
    "execution": {
     "iopub.execute_input": "2025-08-05T16:41:01.320427Z",
     "iopub.status.busy": "2025-08-05T16:41:01.319894Z",
     "iopub.status.idle": "2025-08-05T16:41:02.586436Z",
     "shell.execute_reply": "2025-08-05T16:41:02.585310Z"
    },
    "papermill": {
     "duration": 1.297069,
     "end_time": "2025-08-05T16:41:02.588396",
     "exception": false,
     "start_time": "2025-08-05T16:41:01.291327",
     "status": "completed"
    },
    "tags": []
   },
   "outputs": [],
   "source": [
    "# Define covered = 1 if true_label is in the predicted set\n",
    "cp_groups_df['covered'] = cp_groups_df.apply(\n",
    "    lambda r: int(r['true_label'] in r['pred_set']),\n",
    "    axis=1\n",
    ")"
   ]
  },
  {
   "cell_type": "code",
   "execution_count": 54,
   "id": "338ff529-1a6b-4b87-a931-8e4788d52aad",
   "metadata": {
    "execution": {
     "iopub.execute_input": "2025-08-05T16:41:02.639510Z",
     "iopub.status.busy": "2025-08-05T16:41:02.639004Z",
     "iopub.status.idle": "2025-08-05T16:41:02.645137Z",
     "shell.execute_reply": "2025-08-05T16:41:02.644370Z"
    },
    "papermill": {
     "duration": 0.03385,
     "end_time": "2025-08-05T16:41:02.647817",
     "exception": false,
     "start_time": "2025-08-05T16:41:02.613967",
     "status": "completed"
    },
    "tags": []
   },
   "outputs": [],
   "source": [
    "#cp_groups_df"
   ]
  },
  {
   "cell_type": "code",
   "execution_count": 55,
   "id": "90032e27-66df-4540-9169-4e89cfbaa758",
   "metadata": {
    "execution": {
     "iopub.execute_input": "2025-08-05T16:41:02.702022Z",
     "iopub.status.busy": "2025-08-05T16:41:02.701251Z",
     "iopub.status.idle": "2025-08-05T16:41:02.714631Z",
     "shell.execute_reply": "2025-08-05T16:41:02.713457Z"
    },
    "papermill": {
     "duration": 0.041286,
     "end_time": "2025-08-05T16:41:02.716521",
     "exception": false,
     "start_time": "2025-08-05T16:41:02.675235",
     "status": "completed"
    },
    "tags": []
   },
   "outputs": [],
   "source": [
    "subgroups = ['frau1','nongerman','nongerman_male','nongerman_female']\n",
    "\n",
    "# Conditional coverage for subgroup==1\n",
    "cond_coverage = {\n",
    "    g: cp_groups_df.loc[cp_groups_df[g]==1, 'covered'].mean()\n",
    "    for g in subgroups\n",
    "}"
   ]
  },
  {
   "cell_type": "code",
   "execution_count": 56,
   "id": "1e348fb1-b9c3-45bc-ba23-f016827a7e0d",
   "metadata": {
    "execution": {
     "iopub.execute_input": "2025-08-05T16:41:02.768533Z",
     "iopub.status.busy": "2025-08-05T16:41:02.768103Z",
     "iopub.status.idle": "2025-08-05T16:41:02.776288Z",
     "shell.execute_reply": "2025-08-05T16:41:02.775202Z"
    },
    "papermill": {
     "duration": 0.036617,
     "end_time": "2025-08-05T16:41:02.778355",
     "exception": false,
     "start_time": "2025-08-05T16:41:02.741738",
     "status": "completed"
    },
    "tags": []
   },
   "outputs": [
    {
     "data": {
      "text/plain": [
       "{'frau1': 0.9141124140719774,\n",
       " 'nongerman': 0.9630606860158312,\n",
       " 'nongerman_male': 0.9682968567053949,\n",
       " 'nongerman_female': 0.9543964232488823}"
      ]
     },
     "execution_count": 56,
     "metadata": {},
     "output_type": "execute_result"
    }
   ],
   "source": [
    "cond_coverage"
   ]
  },
  {
   "cell_type": "code",
   "execution_count": 57,
   "id": "f5093324-c3dd-4d63-bc4c-8d945e5c8bbb",
   "metadata": {
    "execution": {
     "iopub.execute_input": "2025-08-05T16:41:02.833924Z",
     "iopub.status.busy": "2025-08-05T16:41:02.833197Z",
     "iopub.status.idle": "2025-08-05T16:41:02.842837Z",
     "shell.execute_reply": "2025-08-05T16:41:02.841423Z"
    },
    "papermill": {
     "duration": 0.039006,
     "end_time": "2025-08-05T16:41:02.845203",
     "exception": false,
     "start_time": "2025-08-05T16:41:02.806197",
     "status": "completed"
    },
    "tags": []
   },
   "outputs": [],
   "source": [
    "for subgroup, cov in cond_coverage.items():\n",
    "    cp_metrics_df[f\"cov_{subgroup}\"] = cov"
   ]
  },
  {
   "cell_type": "code",
   "execution_count": 58,
   "id": "6e872e10-dbe5-49e8-b554-5030c98ff75d",
   "metadata": {
    "execution": {
     "iopub.execute_input": "2025-08-05T16:41:02.898973Z",
     "iopub.status.busy": "2025-08-05T16:41:02.898526Z",
     "iopub.status.idle": "2025-08-05T16:41:02.923110Z",
     "shell.execute_reply": "2025-08-05T16:41:02.921658Z"
    },
    "papermill": {
     "duration": 0.052949,
     "end_time": "2025-08-05T16:41:02.925369",
     "exception": false,
     "start_time": "2025-08-05T16:41:02.872420",
     "status": "completed"
    },
    "tags": []
   },
   "outputs": [
    {
     "data": {
      "text/html": [
       "<div>\n",
       "<style scoped>\n",
       "    .dataframe tbody tr th:only-of-type {\n",
       "        vertical-align: middle;\n",
       "    }\n",
       "\n",
       "    .dataframe tbody tr th {\n",
       "        vertical-align: top;\n",
       "    }\n",
       "\n",
       "    .dataframe thead th {\n",
       "        text-align: right;\n",
       "    }\n",
       "</style>\n",
       "<table border=\"1\" class=\"dataframe\">\n",
       "  <thead>\n",
       "    <tr style=\"text-align: right;\">\n",
       "      <th></th>\n",
       "      <th>universe_id</th>\n",
       "      <th>universe_training_year</th>\n",
       "      <th>universe_training_size</th>\n",
       "      <th>universe_scale</th>\n",
       "      <th>universe_model</th>\n",
       "      <th>universe_exclude_features</th>\n",
       "      <th>universe_exclude_subgroups</th>\n",
       "      <th>q_hat</th>\n",
       "      <th>coverage</th>\n",
       "      <th>avg_size</th>\n",
       "      <th>cov_frau1</th>\n",
       "      <th>cov_nongerman</th>\n",
       "      <th>cov_nongerman_male</th>\n",
       "      <th>cov_nongerman_female</th>\n",
       "    </tr>\n",
       "  </thead>\n",
       "  <tbody>\n",
       "    <tr>\n",
       "      <th>0</th>\n",
       "      <td>f3501c6b464abbd2b5f7452d6e840be1</td>\n",
       "      <td>2010_14</td>\n",
       "      <td>1k</td>\n",
       "      <td>do-not-scale</td>\n",
       "      <td>penalized_logreg</td>\n",
       "      <td>age</td>\n",
       "      <td>keep-all</td>\n",
       "      <td>0.680499</td>\n",
       "      <td>0.913098</td>\n",
       "      <td>1.27473</td>\n",
       "      <td>0.914112</td>\n",
       "      <td>0.963061</td>\n",
       "      <td>0.968297</td>\n",
       "      <td>0.954396</td>\n",
       "    </tr>\n",
       "  </tbody>\n",
       "</table>\n",
       "</div>"
      ],
      "text/plain": [
       "                        universe_id universe_training_year  \\\n",
       "0  f3501c6b464abbd2b5f7452d6e840be1                2010_14   \n",
       "\n",
       "  universe_training_size universe_scale    universe_model  \\\n",
       "0                     1k   do-not-scale  penalized_logreg   \n",
       "\n",
       "  universe_exclude_features universe_exclude_subgroups     q_hat  coverage  \\\n",
       "0                       age                   keep-all  0.680499  0.913098   \n",
       "\n",
       "   avg_size  cov_frau1  cov_nongerman  cov_nongerman_male  \\\n",
       "0   1.27473   0.914112       0.963061            0.968297   \n",
       "\n",
       "   cov_nongerman_female  \n",
       "0              0.954396  "
      ]
     },
     "execution_count": 58,
     "metadata": {},
     "output_type": "execute_result"
    }
   ],
   "source": [
    "cp_metrics_df"
   ]
  },
  {
   "cell_type": "markdown",
   "id": "33774451",
   "metadata": {
    "papermill": {
     "duration": 0.0262,
     "end_time": "2025-08-05T16:41:02.978555",
     "exception": false,
     "start_time": "2025-08-05T16:41:02.952355",
     "status": "completed"
    },
    "tags": []
   },
   "source": [
    "# (Fairness) Metrics"
   ]
  },
  {
   "cell_type": "code",
   "execution_count": 59,
   "id": "debc5d62",
   "metadata": {
    "execution": {
     "iopub.execute_input": "2025-08-05T16:41:03.031879Z",
     "iopub.status.busy": "2025-08-05T16:41:03.030691Z",
     "iopub.status.idle": "2025-08-05T16:41:03.053489Z",
     "shell.execute_reply": "2025-08-05T16:41:03.052276Z"
    },
    "papermill": {
     "duration": 0.052289,
     "end_time": "2025-08-05T16:41:03.055633",
     "exception": false,
     "start_time": "2025-08-05T16:41:03.003344",
     "status": "completed"
    },
    "tags": []
   },
   "outputs": [],
   "source": [
    "# do I need to include maxdeutsch1.missing?\n",
    "\n",
    "import numpy as np\n",
    "\n",
    "colname_to_bin = \"maxdeutsch1\"\n",
    "majority_value = org_train[colname_to_bin].mode()[0]\n",
    "\n",
    "org_test[\"majmin\"] = np.where(org_test[colname_to_bin] == majority_value, \"majority\", \"minority\")"
   ]
  },
  {
   "cell_type": "code",
   "execution_count": 60,
   "id": "06a50de5",
   "metadata": {
    "execution": {
     "iopub.execute_input": "2025-08-05T16:41:03.086609Z",
     "iopub.status.busy": "2025-08-05T16:41:03.086247Z",
     "iopub.status.idle": "2025-08-05T16:41:05.409052Z",
     "shell.execute_reply": "2025-08-05T16:41:05.408274Z"
    },
    "papermill": {
     "duration": 2.3383,
     "end_time": "2025-08-05T16:41:05.410514",
     "exception": false,
     "start_time": "2025-08-05T16:41:03.072214",
     "status": "completed"
    },
    "tags": []
   },
   "outputs": [],
   "source": [
    "example_universe = universe.copy()\n",
    "example_universe[\"cutoff\"] = example_universe[\"cutoff\"][0]\n",
    "example_universe[\"eval_fairness_grouping\"] = example_universe[\"eval_fairness_grouping\"][0]\n",
    "fairness_dict, metric_frame = universe_analysis.compute_metrics(\n",
    "    example_universe,\n",
    "    y_pred_prob=probs_test,\n",
    "    y_test=y_true,\n",
    "    org_test=org_test,\n",
    ")"
   ]
  },
  {
   "cell_type": "markdown",
   "id": "f95d4e02",
   "metadata": {
    "papermill": {
     "duration": 0.011383,
     "end_time": "2025-08-05T16:41:05.434293",
     "exception": false,
     "start_time": "2025-08-05T16:41:05.422910",
     "status": "completed"
    },
    "tags": []
   },
   "source": [
    "# Overall"
   ]
  },
  {
   "cell_type": "markdown",
   "id": "bdee4871",
   "metadata": {
    "papermill": {
     "duration": 0.011681,
     "end_time": "2025-08-05T16:41:05.457707",
     "exception": false,
     "start_time": "2025-08-05T16:41:05.446026",
     "status": "completed"
    },
    "tags": []
   },
   "source": [
    "Fairness\n",
    "Main fairness target: Equalized Odds. Seems to be a better fit than equal opportunity, since we're not only interested in Y = 1. Seems to be a better fit than demographic parity, since we also care about accuracy, not just equal distribution of preds.\n",
    "\n",
    "Pick column for computation of fairness metrics\n",
    "\n",
    "Performance\n",
    "Overall performance measures, most interesting in relation to the measures split by group below"
   ]
  },
  {
   "cell_type": "code",
   "execution_count": 61,
   "id": "c4e067c6",
   "metadata": {
    "execution": {
     "iopub.execute_input": "2025-08-05T16:41:05.484407Z",
     "iopub.status.busy": "2025-08-05T16:41:05.483817Z",
     "iopub.status.idle": "2025-08-05T16:41:05.491498Z",
     "shell.execute_reply": "2025-08-05T16:41:05.490720Z"
    },
    "papermill": {
     "duration": 0.023772,
     "end_time": "2025-08-05T16:41:05.492998",
     "exception": false,
     "start_time": "2025-08-05T16:41:05.469226",
     "status": "completed"
    },
    "tags": []
   },
   "outputs": [
    {
     "data": {
      "text/plain": [
       "accuracy                   0.213967\n",
       "balanced accuracy          0.525359\n",
       "f1                         0.235585\n",
       "precision                  0.134582\n",
       "false positive rate        0.893494\n",
       "false negative rate        0.055787\n",
       "selection rate             0.900000\n",
       "count                  89710.000000\n",
       "dtype: float64"
      ]
     },
     "execution_count": 61,
     "metadata": {},
     "output_type": "execute_result"
    }
   ],
   "source": [
    "metric_frame.overall"
   ]
  },
  {
   "cell_type": "markdown",
   "id": "e968fe9d",
   "metadata": {
    "papermill": {
     "duration": 0.011607,
     "end_time": "2025-08-05T16:41:05.517842",
     "exception": false,
     "start_time": "2025-08-05T16:41:05.506235",
     "status": "completed"
    },
    "tags": []
   },
   "source": [
    "By Group"
   ]
  },
  {
   "cell_type": "code",
   "execution_count": 62,
   "id": "ec325bce",
   "metadata": {
    "execution": {
     "iopub.execute_input": "2025-08-05T16:41:05.543098Z",
     "iopub.status.busy": "2025-08-05T16:41:05.542377Z",
     "iopub.status.idle": "2025-08-05T16:41:05.555017Z",
     "shell.execute_reply": "2025-08-05T16:41:05.554210Z"
    },
    "papermill": {
     "duration": 0.026634,
     "end_time": "2025-08-05T16:41:05.556485",
     "exception": false,
     "start_time": "2025-08-05T16:41:05.529851",
     "status": "completed"
    },
    "tags": []
   },
   "outputs": [
    {
     "data": {
      "text/html": [
       "<div>\n",
       "<style scoped>\n",
       "    .dataframe tbody tr th:only-of-type {\n",
       "        vertical-align: middle;\n",
       "    }\n",
       "\n",
       "    .dataframe tbody tr th {\n",
       "        vertical-align: top;\n",
       "    }\n",
       "\n",
       "    .dataframe thead th {\n",
       "        text-align: right;\n",
       "    }\n",
       "</style>\n",
       "<table border=\"1\" class=\"dataframe\">\n",
       "  <thead>\n",
       "    <tr style=\"text-align: right;\">\n",
       "      <th></th>\n",
       "      <th>accuracy</th>\n",
       "      <th>balanced accuracy</th>\n",
       "      <th>f1</th>\n",
       "      <th>precision</th>\n",
       "      <th>false positive rate</th>\n",
       "      <th>false negative rate</th>\n",
       "      <th>selection rate</th>\n",
       "      <th>count</th>\n",
       "    </tr>\n",
       "    <tr>\n",
       "      <th>majmin</th>\n",
       "      <th></th>\n",
       "      <th></th>\n",
       "      <th></th>\n",
       "      <th></th>\n",
       "      <th></th>\n",
       "      <th></th>\n",
       "      <th></th>\n",
       "      <th></th>\n",
       "    </tr>\n",
       "  </thead>\n",
       "  <tbody>\n",
       "    <tr>\n",
       "      <th>majority</th>\n",
       "      <td>0.235897</td>\n",
       "      <td>0.531582</td>\n",
       "      <td>0.244061</td>\n",
       "      <td>0.140382</td>\n",
       "      <td>0.870315</td>\n",
       "      <td>0.066521</td>\n",
       "      <td>0.878661</td>\n",
       "      <td>69170.0</td>\n",
       "    </tr>\n",
       "    <tr>\n",
       "      <th>minority</th>\n",
       "      <td>0.140117</td>\n",
       "      <td>0.507789</td>\n",
       "      <td>0.209046</td>\n",
       "      <td>0.116922</td>\n",
       "      <td>0.970064</td>\n",
       "      <td>0.014358</td>\n",
       "      <td>0.971860</td>\n",
       "      <td>20540.0</td>\n",
       "    </tr>\n",
       "  </tbody>\n",
       "</table>\n",
       "</div>"
      ],
      "text/plain": [
       "          accuracy  balanced accuracy        f1  precision  \\\n",
       "majmin                                                       \n",
       "majority  0.235897           0.531582  0.244061   0.140382   \n",
       "minority  0.140117           0.507789  0.209046   0.116922   \n",
       "\n",
       "          false positive rate  false negative rate  selection rate    count  \n",
       "majmin                                                                       \n",
       "majority             0.870315             0.066521        0.878661  69170.0  \n",
       "minority             0.970064             0.014358        0.971860  20540.0  "
      ]
     },
     "execution_count": 62,
     "metadata": {},
     "output_type": "execute_result"
    }
   ],
   "source": [
    "metric_frame.by_group"
   ]
  },
  {
   "cell_type": "code",
   "execution_count": 63,
   "id": "a9ddbe63",
   "metadata": {
    "execution": {
     "iopub.execute_input": "2025-08-05T16:41:05.584971Z",
     "iopub.status.busy": "2025-08-05T16:41:05.584459Z",
     "iopub.status.idle": "2025-08-05T16:41:07.901318Z",
     "shell.execute_reply": "2025-08-05T16:41:07.899963Z"
    },
    "papermill": {
     "duration": 2.333606,
     "end_time": "2025-08-05T16:41:07.903711",
     "exception": false,
     "start_time": "2025-08-05T16:41:05.570105",
     "status": "completed"
    },
    "tags": []
   },
   "outputs": [
    {
     "data": {
      "text/plain": [
       "array([[<Axes: title={'center': 'accuracy'}, xlabel='majmin'>,\n",
       "        <Axes: title={'center': 'balanced accuracy'}, xlabel='majmin'>,\n",
       "        <Axes: title={'center': 'f1'}, xlabel='majmin'>],\n",
       "       [<Axes: title={'center': 'precision'}, xlabel='majmin'>,\n",
       "        <Axes: title={'center': 'false positive rate'}, xlabel='majmin'>,\n",
       "        <Axes: title={'center': 'false negative rate'}, xlabel='majmin'>],\n",
       "       [<Axes: title={'center': 'selection rate'}, xlabel='majmin'>,\n",
       "        <Axes: title={'center': 'count'}, xlabel='majmin'>,\n",
       "        <Axes: xlabel='majmin'>]], dtype=object)"
      ]
     },
     "execution_count": 63,
     "metadata": {},
     "output_type": "execute_result"
    },
    {
     "data": {
      "image/png": "[encoded data removed]",
      "text/plain": [
       "<Figure size 1200x800 with 9 Axes>"
      ]
     },
     "metadata": {},
     "output_type": "display_data"
    }
   ],
   "source": [
    "# In a graphic\n",
    "metric_frame.by_group.plot.bar(\n",
    "    subplots=True,\n",
    "    layout=[3, 3],\n",
    "    legend=False,\n",
    "    figsize=[12, 8],\n",
    "    title=\"Show all metrics\",\n",
    ")"
   ]
  },
  {
   "cell_type": "markdown",
   "id": "f57a0bac",
   "metadata": {
    "papermill": {
     "duration": 0.033911,
     "end_time": "2025-08-05T16:41:07.973571",
     "exception": false,
     "start_time": "2025-08-05T16:41:07.939660",
     "status": "completed"
    },
    "tags": []
   },
   "source": [
    "# Final Output"
   ]
  },
  {
   "cell_type": "code",
   "execution_count": 64,
   "id": "96d280a3",
   "metadata": {
    "execution": {
     "iopub.execute_input": "2025-08-05T16:41:08.029490Z",
     "iopub.status.busy": "2025-08-05T16:41:08.028810Z",
     "iopub.status.idle": "2025-08-05T16:41:08.038477Z",
     "shell.execute_reply": "2025-08-05T16:41:08.037396Z"
    },
    "papermill": {
     "duration": 0.035212,
     "end_time": "2025-08-05T16:41:08.039988",
     "exception": false,
     "start_time": "2025-08-05T16:41:08.004776",
     "status": "completed"
    },
    "tags": []
   },
   "outputs": [
    {
     "data": {
      "text/plain": [
       "4"
      ]
     },
     "execution_count": 64,
     "metadata": {},
     "output_type": "execute_result"
    }
   ],
   "source": [
    "sub_universes = universe_analysis.generate_sub_universes()\n",
    "len(sub_universes)"
   ]
  },
  {
   "cell_type": "code",
   "execution_count": 65,
   "id": "92adf7ba",
   "metadata": {
    "execution": {
     "iopub.execute_input": "2025-08-05T16:41:08.087527Z",
     "iopub.status.busy": "2025-08-05T16:41:08.087053Z",
     "iopub.status.idle": "2025-08-05T16:41:08.107225Z",
     "shell.execute_reply": "2025-08-05T16:41:08.106265Z"
    },
    "papermill": {
     "duration": 0.046166,
     "end_time": "2025-08-05T16:41:08.109242",
     "exception": false,
     "start_time": "2025-08-05T16:41:08.063076",
     "status": "completed"
    },
    "tags": []
   },
   "outputs": [],
   "source": [
    "def filter_sub_universe_data(sub_universe, org_test):\n",
    "    # Keep all rows — no filtering\n",
    "    keep_rows_mask = np.ones(org_test.shape[0], dtype=bool)\n",
    "\n",
    "    print(f\"[INFO] Keeping all rows: {keep_rows_mask.sum()} rows retained.\")\n",
    "    return keep_rows_mask"
   ]
  },
  {
   "cell_type": "code",
   "execution_count": 66,
   "id": "4a759155",
   "metadata": {
    "execution": {
     "iopub.execute_input": "2025-08-05T16:41:08.160775Z",
     "iopub.status.busy": "2025-08-05T16:41:08.159671Z",
     "iopub.status.idle": "2025-08-05T16:41:17.243302Z",
     "shell.execute_reply": "2025-08-05T16:41:17.242213Z"
    },
    "papermill": {
     "duration": 9.111181,
     "end_time": "2025-08-05T16:41:17.245018",
     "exception": false,
     "start_time": "2025-08-05T16:41:08.133837",
     "status": "completed"
    },
    "tags": []
   },
   "outputs": [
    {
     "name": "stdout",
     "output_type": "stream",
     "text": [
      "Stopping execution_time clock.\n",
      "[INFO] Keeping all rows: 89710 rows retained.\n"
     ]
    },
    {
     "name": "stdout",
     "output_type": "stream",
     "text": [
      "[INFO] Keeping all rows: 89710 rows retained.\n"
     ]
    },
    {
     "name": "stdout",
     "output_type": "stream",
     "text": [
      "[INFO] Keeping all rows: 89710 rows retained.\n"
     ]
    },
    {
     "name": "stdout",
     "output_type": "stream",
     "text": [
      "[INFO] Keeping all rows: 89710 rows retained.\n"
     ]
    },
    {
     "data": {
      "text/html": [
       "<div>\n",
       "<style scoped>\n",
       "    .dataframe tbody tr th:only-of-type {\n",
       "        vertical-align: middle;\n",
       "    }\n",
       "\n",
       "    .dataframe tbody tr th {\n",
       "        vertical-align: top;\n",
       "    }\n",
       "\n",
       "    .dataframe thead th {\n",
       "        text-align: right;\n",
       "    }\n",
       "</style>\n",
       "<table border=\"1\" class=\"dataframe\">\n",
       "  <thead>\n",
       "    <tr style=\"text-align: right;\">\n",
       "      <th></th>\n",
       "      <th>run_no</th>\n",
       "      <th>universe_id</th>\n",
       "      <th>universe_settings</th>\n",
       "      <th>execution_time</th>\n",
       "      <th>test_size_n</th>\n",
       "      <th>test_size_frac</th>\n",
       "      <th>fair_main_equalized_odds_difference</th>\n",
       "      <th>fair_main_equalized_odds_ratio</th>\n",
       "      <th>fair_main_demographic_parity_difference</th>\n",
       "      <th>fair_main_demographic_parity_ratio</th>\n",
       "      <th>...</th>\n",
       "      <th>perf_grp_precision_0</th>\n",
       "      <th>perf_grp_precision_1</th>\n",
       "      <th>perf_grp_false positive rate_0</th>\n",
       "      <th>perf_grp_false positive rate_1</th>\n",
       "      <th>perf_grp_false negative rate_0</th>\n",
       "      <th>perf_grp_false negative rate_1</th>\n",
       "      <th>perf_grp_selection rate_0</th>\n",
       "      <th>perf_grp_selection rate_1</th>\n",
       "      <th>perf_grp_count_0</th>\n",
       "      <th>perf_grp_count_1</th>\n",
       "    </tr>\n",
       "  </thead>\n",
       "  <tbody>\n",
       "    <tr>\n",
       "      <th>0</th>\n",
       "      <td>15</td>\n",
       "      <td>f3501c6b464abbd2b5f7452d6e840be1</td>\n",
       "      <td>{\"cutoff\": \"quantile_0.1\", \"eval_fairness_grou...</td>\n",
       "      <td>27.091696</td>\n",
       "      <td>89710</td>\n",
       "      <td>1.0</td>\n",
       "      <td>0.099749</td>\n",
       "      <td>0.897173</td>\n",
       "      <td>0.093199</td>\n",
       "      <td>0.904103</td>\n",
       "      <td>...</td>\n",
       "      <td>NaN</td>\n",
       "      <td>NaN</td>\n",
       "      <td>NaN</td>\n",
       "      <td>NaN</td>\n",
       "      <td>NaN</td>\n",
       "      <td>NaN</td>\n",
       "      <td>NaN</td>\n",
       "      <td>NaN</td>\n",
       "      <td>NaN</td>\n",
       "      <td>NaN</td>\n",
       "    </tr>\n",
       "    <tr>\n",
       "      <th>0</th>\n",
       "      <td>15</td>\n",
       "      <td>f3501c6b464abbd2b5f7452d6e840be1</td>\n",
       "      <td>{\"cutoff\": \"quantile_0.1\", \"eval_fairness_grou...</td>\n",
       "      <td>27.091696</td>\n",
       "      <td>89710</td>\n",
       "      <td>1.0</td>\n",
       "      <td>0.099749</td>\n",
       "      <td>0.897173</td>\n",
       "      <td>0.093199</td>\n",
       "      <td>0.904103</td>\n",
       "      <td>...</td>\n",
       "      <td>0.116922</td>\n",
       "      <td>0.140382</td>\n",
       "      <td>0.970064</td>\n",
       "      <td>0.870315</td>\n",
       "      <td>0.014358</td>\n",
       "      <td>0.066521</td>\n",
       "      <td>0.971860</td>\n",
       "      <td>0.878661</td>\n",
       "      <td>20540.0</td>\n",
       "      <td>69170.0</td>\n",
       "    </tr>\n",
       "    <tr>\n",
       "      <th>0</th>\n",
       "      <td>15</td>\n",
       "      <td>f3501c6b464abbd2b5f7452d6e840be1</td>\n",
       "      <td>{\"cutoff\": \"quantile_0.25\", \"eval_fairness_gro...</td>\n",
       "      <td>27.091696</td>\n",
       "      <td>89710</td>\n",
       "      <td>1.0</td>\n",
       "      <td>0.233298</td>\n",
       "      <td>0.744501</td>\n",
       "      <td>0.217407</td>\n",
       "      <td>0.763076</td>\n",
       "      <td>...</td>\n",
       "      <td>NaN</td>\n",
       "      <td>NaN</td>\n",
       "      <td>NaN</td>\n",
       "      <td>NaN</td>\n",
       "      <td>NaN</td>\n",
       "      <td>NaN</td>\n",
       "      <td>NaN</td>\n",
       "      <td>NaN</td>\n",
       "      <td>NaN</td>\n",
       "      <td>NaN</td>\n",
       "    </tr>\n",
       "    <tr>\n",
       "      <th>0</th>\n",
       "      <td>15</td>\n",
       "      <td>f3501c6b464abbd2b5f7452d6e840be1</td>\n",
       "      <td>{\"cutoff\": \"quantile_0.25\", \"eval_fairness_gro...</td>\n",
       "      <td>27.091696</td>\n",
       "      <td>89710</td>\n",
       "      <td>1.0</td>\n",
       "      <td>0.233298</td>\n",
       "      <td>0.744501</td>\n",
       "      <td>0.217407</td>\n",
       "      <td>0.763076</td>\n",
       "      <td>...</td>\n",
       "      <td>0.119641</td>\n",
       "      <td>0.157431</td>\n",
       "      <td>0.913108</td>\n",
       "      <td>0.679810</td>\n",
       "      <td>0.047720</td>\n",
       "      <td>0.165755</td>\n",
       "      <td>0.917624</td>\n",
       "      <td>0.700217</td>\n",
       "      <td>20540.0</td>\n",
       "      <td>69170.0</td>\n",
       "    </tr>\n",
       "  </tbody>\n",
       "</table>\n",
       "<p>4 rows × 50 columns</p>\n",
       "</div>"
      ],
      "text/plain": [
       "  run_no                       universe_id  \\\n",
       "0     15  f3501c6b464abbd2b5f7452d6e840be1   \n",
       "0     15  f3501c6b464abbd2b5f7452d6e840be1   \n",
       "0     15  f3501c6b464abbd2b5f7452d6e840be1   \n",
       "0     15  f3501c6b464abbd2b5f7452d6e840be1   \n",
       "\n",
       "                                   universe_settings  execution_time  \\\n",
       "0  {\"cutoff\": \"quantile_0.1\", \"eval_fairness_grou...       27.091696   \n",
       "0  {\"cutoff\": \"quantile_0.1\", \"eval_fairness_grou...       27.091696   \n",
       "0  {\"cutoff\": \"quantile_0.25\", \"eval_fairness_gro...       27.091696   \n",
       "0  {\"cutoff\": \"quantile_0.25\", \"eval_fairness_gro...       27.091696   \n",
       "\n",
       "   test_size_n  test_size_frac  fair_main_equalized_odds_difference  \\\n",
       "0        89710             1.0                             0.099749   \n",
       "0        89710             1.0                             0.099749   \n",
       "0        89710             1.0                             0.233298   \n",
       "0        89710             1.0                             0.233298   \n",
       "\n",
       "   fair_main_equalized_odds_ratio  fair_main_demographic_parity_difference  \\\n",
       "0                        0.897173                                 0.093199   \n",
       "0                        0.897173                                 0.093199   \n",
       "0                        0.744501                                 0.217407   \n",
       "0                        0.744501                                 0.217407   \n",
       "\n",
       "   fair_main_demographic_parity_ratio  ...  perf_grp_precision_0  \\\n",
       "0                            0.904103  ...                   NaN   \n",
       "0                            0.904103  ...              0.116922   \n",
       "0                            0.763076  ...                   NaN   \n",
       "0                            0.763076  ...              0.119641   \n",
       "\n",
       "   perf_grp_precision_1  perf_grp_false positive rate_0  \\\n",
       "0                   NaN                             NaN   \n",
       "0              0.140382                        0.970064   \n",
       "0                   NaN                             NaN   \n",
       "0              0.157431                        0.913108   \n",
       "\n",
       "   perf_grp_false positive rate_1  perf_grp_false negative rate_0  \\\n",
       "0                             NaN                             NaN   \n",
       "0                        0.870315                        0.014358   \n",
       "0                             NaN                             NaN   \n",
       "0                        0.679810                        0.047720   \n",
       "\n",
       "   perf_grp_false negative rate_1  perf_grp_selection rate_0  \\\n",
       "0                             NaN                        NaN   \n",
       "0                        0.066521                   0.971860   \n",
       "0                             NaN                        NaN   \n",
       "0                        0.165755                   0.917624   \n",
       "\n",
       "   perf_grp_selection rate_1  perf_grp_count_0  perf_grp_count_1  \n",
       "0                        NaN               NaN               NaN  \n",
       "0                   0.878661           20540.0           69170.0  \n",
       "0                        NaN               NaN               NaN  \n",
       "0                   0.700217           20540.0           69170.0  \n",
       "\n",
       "[4 rows x 50 columns]"
      ]
     },
     "execution_count": 66,
     "metadata": {},
     "output_type": "execute_result"
    }
   ],
   "source": [
    "final_output = universe_analysis.generate_final_output(\n",
    "    y_pred_prob=probs_test,\n",
    "    y_test=y_true,\n",
    "    org_test=org_test,\n",
    "    filter_data=filter_sub_universe_data,\n",
    "    cp_metrics_df=cp_metrics_df,\n",
    "    save=True,\n",
    ")\n",
    "final_output"
   ]
  }
 ],
 "metadata": {
  "celltoolbar": "Tags",
  "kernelspec": {
   "display_name": "Python (CMA Fairness)",
   "language": "python",
   "name": "cma_fair_env"
  },
  "language_info": {
   "codemirror_mode": {
    "name": "ipython",
    "version": 3
   },
   "file_extension": ".py",
   "mimetype": "text/x-python",
   "name": "python",
   "nbconvert_exporter": "python",
   "pygments_lexer": "ipython3",
   "version": "3.10.12"
  },
  "papermill": {
   "default_parameters": {},
   "duration": 40.39914,
   "end_time": "2025-08-05T16:41:17.983587",
   "environment_variables": {},
   "exception": null,
   "input_path": "universe_analysis.ipynb",
   "output_path": "output/runs/15/notebooks/m_15-f3501c6b464abbd2b5f7452d6e840be1.ipynb",
   "parameters": {
    "output_dir": "output",
    "run_no": "15",
    "seed": "2023",
    "universe": "{\"cutoff\": [\"quantile_0.1\", \"quantile_0.25\"], \"eval_fairness_grouping\": [\"majority-minority\", \"nationality-all\"], \"exclude_features\": \"age\", \"exclude_subgroups\": \"keep-all\", \"model\": \"penalized_logreg\", \"scale\": \"do-not-scale\", \"training_size\": \"1k\", \"training_year\": \"2010_14\"}",
    "universe_id": "f3501c6b464abbd2b5f7452d6e840be1"
   },
   "start_time": "2025-08-05T16:40:37.584447",
   "version": "2.6.0"
  }
 },
 "nbformat": 4,
 "nbformat_minor": 5
}