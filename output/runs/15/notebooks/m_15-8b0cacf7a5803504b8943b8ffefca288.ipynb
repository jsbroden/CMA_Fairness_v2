{
 "cells": [
  {
   "cell_type": "code",
   "execution_count": 1,
   "id": "f159f837-637b-42ba-96b5-ec9a68c44524",
   "metadata": {
    "execution": {
     "iopub.execute_input": "2025-08-05T15:28:48.159543Z",
     "iopub.status.busy": "2025-08-05T15:28:48.158675Z",
     "iopub.status.idle": "2025-08-05T15:28:48.171688Z",
     "shell.execute_reply": "2025-08-05T15:28:48.170828Z"
    },
    "papermill": {
     "duration": 0.030834,
     "end_time": "2025-08-05T15:28:48.173125",
     "exception": false,
     "start_time": "2025-08-05T15:28:48.142291",
     "status": "completed"
    },
    "tags": []
   },
   "outputs": [
    {
     "name": "stdout",
     "output_type": "stream",
     "text": [
      "/dss/dsshome1/0C/ra93lal2/cma/CMA_Fairness_v2\n"
     ]
    },
    {
     "name": "stderr",
     "output_type": "stream",
     "text": [
      "/dss/dsshome1/0C/ra93lal2/.local/share/virtualenvs/CMA_Fairness_v2-3j10GkSs/lib/python3.10/site-packages/IPython/core/magics/osm.py:393: UserWarning: This is now an optional IPython functionality, using bookmarks requires you to install the `pickleshare` library.\n",
      "  bkms = self.shell.db.get('bookmarks', {})\n",
      "/dss/dsshome1/0C/ra93lal2/.local/share/virtualenvs/CMA_Fairness_v2-3j10GkSs/lib/python3.10/site-packages/IPython/core/magics/osm.py:417: UserWarning: This is now an optional IPython functionality, setting dhist requires you to install the `pickleshare` library.\n",
      "  self.shell.db['dhist'] = compress_dhist(dhist)[-100:]\n"
     ]
    }
   ],
   "source": [
    "%cd ~/cma/CMA_Fairness_v2"
   ]
  },
  {
   "cell_type": "markdown",
   "id": "de2603b9",
   "metadata": {
    "papermill": {
     "duration": 0.015789,
     "end_time": "2025-08-05T15:28:48.204457",
     "exception": false,
     "start_time": "2025-08-05T15:28:48.188668",
     "status": "completed"
    },
    "tags": []
   },
   "source": [
    "The following cell holds the definition of our parameters, these values can be overriden by rendering the with e.g. the following command:\n",
    "\n",
    "papermill -p alpha 0.2 -p ratio 0.3 universe_analysis.ipynb output/test_run.ipynb"
   ]
  },
  {
   "cell_type": "code",
   "execution_count": 2,
   "id": "a80968a0-40bb-4fa9-85ef-2d5eefb01975",
   "metadata": {
    "execution": {
     "iopub.execute_input": "2025-08-05T15:28:48.237117Z",
     "iopub.status.busy": "2025-08-05T15:28:48.236420Z",
     "iopub.status.idle": "2025-08-05T15:28:48.242324Z",
     "shell.execute_reply": "2025-08-05T15:28:48.241112Z"
    },
    "papermill": {
     "duration": 0.024359,
     "end_time": "2025-08-05T15:28:48.244150",
     "exception": false,
     "start_time": "2025-08-05T15:28:48.219791",
     "status": "completed"
    },
    "tags": []
   },
   "outputs": [
    {
     "name": "stdout",
     "output_type": "stream",
     "text": [
      "Current working directory: /dss/dsshome1/0C/ra93lal2/cma/CMA_Fairness_v2\n"
     ]
    }
   ],
   "source": [
    "import os\n",
    "print(\"Current working directory:\", os.getcwd())"
   ]
  },
  {
   "cell_type": "code",
   "execution_count": 3,
   "id": "2dce4c03",
   "metadata": {
    "execution": {
     "iopub.execute_input": "2025-08-05T15:28:48.280356Z",
     "iopub.status.busy": "2025-08-05T15:28:48.279807Z",
     "iopub.status.idle": "2025-08-05T15:28:48.287194Z",
     "shell.execute_reply": "2025-08-05T15:28:48.286083Z"
    },
    "papermill": {
     "duration": 0.028848,
     "end_time": "2025-08-05T15:28:48.288895",
     "exception": false,
     "start_time": "2025-08-05T15:28:48.260047",
     "status": "completed"
    },
    "tags": [
     "parameters"
    ]
   },
   "outputs": [],
   "source": [
    "run_no = 0\n",
    "universe_id = \"test\"\n",
    "universe = {\n",
    "    \"training_size\": \"25k\", # \"25k\", \"5k\", \"1k\"\n",
    "    \"training_year\": \"2014\", # \"2014\", \"2012_14\", \"2010_14\"\n",
    "    \"scale\": \"scale\", # \"scale\", \"do-not-scale\",\n",
    "    \"model\": \"elasticnet\", # \"logreg\", \"penalized_logreg\", \"rf\", \"gbm\", \"elasticnet\"\n",
    "    \"cutoff\": [\"quantile_0.15\", \"quantile_0.30\"],\n",
    "    \"exclude_features\": \"age\", # \"none\", \"nationality\", \"sex\", \"nationality-sex\", \"age\"\n",
    "    \"exclude_subgroups\": \"keep-all\", # \"keep-all\", \"drop-non-german\"\n",
    "    \"eval_fairness_grouping\": [\"majority-minority\", \"nationality-all\"]\n",
    "}\n",
    "\n",
    "output_dir=\"./output\"\n",
    "seed=0"
   ]
  },
  {
   "cell_type": "code",
   "execution_count": 4,
   "id": "c33cec96",
   "metadata": {
    "execution": {
     "iopub.execute_input": "2025-08-05T15:28:48.324123Z",
     "iopub.status.busy": "2025-08-05T15:28:48.323492Z",
     "iopub.status.idle": "2025-08-05T15:28:48.329139Z",
     "shell.execute_reply": "2025-08-05T15:28:48.328162Z"
    },
    "papermill": {
     "duration": 0.024925,
     "end_time": "2025-08-05T15:28:48.331533",
     "exception": false,
     "start_time": "2025-08-05T15:28:48.306608",
     "status": "completed"
    },
    "tags": [
     "injected-parameters"
    ]
   },
   "outputs": [],
   "source": [
    "# Parameters\n",
    "universe_id = \"8b0cacf7a5803504b8943b8ffefca288\"\n",
    "run_no = \"15\"\n",
    "universe = \"{\\\"cutoff\\\": [\\\"quantile_0.1\\\", \\\"quantile_0.25\\\"], \\\"eval_fairness_grouping\\\": [\\\"majority-minority\\\", \\\"nationality-all\\\"], \\\"exclude_features\\\": \\\"nationality\\\", \\\"exclude_subgroups\\\": \\\"drop-non-german\\\", \\\"model\\\": \\\"penalized_logreg\\\", \\\"scale\\\": \\\"do-not-scale\\\", \\\"training_size\\\": \\\"5k\\\", \\\"training_year\\\": \\\"2014\\\"}\"\n",
    "output_dir = \"output\"\n",
    "seed = \"2023\"\n"
   ]
  },
  {
   "cell_type": "code",
   "execution_count": 5,
   "id": "1650acaf",
   "metadata": {
    "execution": {
     "iopub.execute_input": "2025-08-05T15:28:48.366641Z",
     "iopub.status.busy": "2025-08-05T15:28:48.366191Z",
     "iopub.status.idle": "2025-08-05T15:28:48.371380Z",
     "shell.execute_reply": "2025-08-05T15:28:48.370413Z"
    },
    "papermill": {
     "duration": 0.023393,
     "end_time": "2025-08-05T15:28:48.373327",
     "exception": false,
     "start_time": "2025-08-05T15:28:48.349934",
     "status": "completed"
    },
    "tags": []
   },
   "outputs": [],
   "source": [
    "import json\n",
    "if isinstance(universe, str):\n",
    "    universe = json.loads(universe)"
   ]
  },
  {
   "cell_type": "code",
   "execution_count": 6,
   "id": "16620c48",
   "metadata": {
    "execution": {
     "iopub.execute_input": "2025-08-05T15:28:48.407102Z",
     "iopub.status.busy": "2025-08-05T15:28:48.406743Z",
     "iopub.status.idle": "2025-08-05T15:28:48.450987Z",
     "shell.execute_reply": "2025-08-05T15:28:48.450188Z"
    },
    "papermill": {
     "duration": 0.061868,
     "end_time": "2025-08-05T15:28:48.452608",
     "exception": false,
     "start_time": "2025-08-05T15:28:48.390740",
     "status": "completed"
    },
    "tags": []
   },
   "outputs": [],
   "source": [
    "# Auto-reload the custom package\n",
    "%load_ext autoreload\n",
    "%autoreload 1\n",
    "%aimport fairness_multiverse"
   ]
  },
  {
   "cell_type": "code",
   "execution_count": 7,
   "id": "01c5c9f3",
   "metadata": {
    "execution": {
     "iopub.execute_input": "2025-08-05T15:28:48.486571Z",
     "iopub.status.busy": "2025-08-05T15:28:48.485909Z",
     "iopub.status.idle": "2025-08-05T15:28:50.395542Z",
     "shell.execute_reply": "2025-08-05T15:28:50.394631Z"
    },
    "papermill": {
     "duration": 1.928258,
     "end_time": "2025-08-05T15:28:50.397339",
     "exception": false,
     "start_time": "2025-08-05T15:28:48.469081",
     "status": "completed"
    },
    "tags": []
   },
   "outputs": [],
   "source": [
    "from fairness_multiverse.universe import UniverseAnalysis\n",
    "\n",
    "universe_analysis = UniverseAnalysis(\n",
    "    run_no = run_no,\n",
    "    universe_id = universe_id,\n",
    "    universe = universe,\n",
    "    output_dir=output_dir,\n",
    ")"
   ]
  },
  {
   "cell_type": "code",
   "execution_count": 8,
   "id": "106241f5",
   "metadata": {
    "execution": {
     "iopub.execute_input": "2025-08-05T15:28:50.430845Z",
     "iopub.status.busy": "2025-08-05T15:28:50.430400Z",
     "iopub.status.idle": "2025-08-05T15:28:50.436725Z",
     "shell.execute_reply": "2025-08-05T15:28:50.435805Z"
    },
    "papermill": {
     "duration": 0.024622,
     "end_time": "2025-08-05T15:28:50.438829",
     "exception": false,
     "start_time": "2025-08-05T15:28:50.414207",
     "status": "completed"
    },
    "tags": []
   },
   "outputs": [
    {
     "name": "stdout",
     "output_type": "stream",
     "text": [
      "Using Seed: 2023\n"
     ]
    }
   ],
   "source": [
    "import numpy as np\n",
    "parsed_seed = int(seed)\n",
    "np.random.seed(parsed_seed)\n",
    "print(f\"Using Seed: {parsed_seed}\")"
   ]
  },
  {
   "cell_type": "markdown",
   "id": "e0ebdc57",
   "metadata": {
    "papermill": {
     "duration": 0.015344,
     "end_time": "2025-08-05T15:28:50.471277",
     "exception": false,
     "start_time": "2025-08-05T15:28:50.455933",
     "status": "completed"
    },
    "tags": []
   },
   "source": [
    "# Loading Data"
   ]
  },
  {
   "cell_type": "code",
   "execution_count": 9,
   "id": "f0496b8a",
   "metadata": {
    "execution": {
     "iopub.execute_input": "2025-08-05T15:28:50.504402Z",
     "iopub.status.busy": "2025-08-05T15:28:50.503641Z",
     "iopub.status.idle": "2025-08-05T15:29:00.834211Z",
     "shell.execute_reply": "2025-08-05T15:29:00.832848Z"
    },
    "papermill": {
     "duration": 10.349451,
     "end_time": "2025-08-05T15:29:00.836165",
     "exception": false,
     "start_time": "2025-08-05T15:28:50.486714",
     "status": "completed"
    },
    "tags": []
   },
   "outputs": [
    {
     "name": "stdout",
     "output_type": "stream",
     "text": [
      "Loading SIAB data from cache: data/siab_cached.csv.gz\n"
     ]
    },
    {
     "name": "stdout",
     "output_type": "stream",
     "text": [
      "(643690, 164)\n"
     ]
    }
   ],
   "source": [
    "from pathlib import Path\n",
    "import pandas as pd\n",
    "\n",
    "# File paths\n",
    "raw_file = Path(\"data/raw/siab.csv\")\n",
    "cache_file = Path(\"data/siab_cached.csv.gz\")\n",
    "\n",
    "# Ensure cache directory exists\n",
    "cache_file.parent.mkdir(parents=True, exist_ok=True)\n",
    "\n",
    "# Load with simple caching\n",
    "if cache_file.exists():\n",
    "    print(f\"Loading SIAB data from cache: {cache_file}\")\n",
    "    siab = pd.read_csv(cache_file, compression='gzip')\n",
    "else:\n",
    "    print(f\"Cache not found. Reading raw SIAB data: {raw_file}\")\n",
    "    siab = pd.read_csv(raw_file)\n",
    "    siab.to_csv(cache_file, index=False, compression='gzip')\n",
    "    print(f\"Cached SIAB data to: {cache_file}\")\n",
    "\n",
    "print(siab.shape)"
   ]
  },
  {
   "cell_type": "code",
   "execution_count": 10,
   "id": "db0ca512-5f53-4dba-abdb-a2888bca41ba",
   "metadata": {
    "execution": {
     "iopub.execute_input": "2025-08-05T15:29:00.882909Z",
     "iopub.status.busy": "2025-08-05T15:29:00.881944Z",
     "iopub.status.idle": "2025-08-05T15:29:00.888786Z",
     "shell.execute_reply": "2025-08-05T15:29:00.887588Z"
    },
    "papermill": {
     "duration": 0.031438,
     "end_time": "2025-08-05T15:29:00.890906",
     "exception": false,
     "start_time": "2025-08-05T15:29:00.859468",
     "status": "completed"
    },
    "tags": []
   },
   "outputs": [],
   "source": [
    "#siab"
   ]
  },
  {
   "cell_type": "markdown",
   "id": "997051c5-15bd-4b69-9786-c3001a3ce484",
   "metadata": {
    "papermill": {
     "duration": 0.017238,
     "end_time": "2025-08-05T15:29:00.926957",
     "exception": false,
     "start_time": "2025-08-05T15:29:00.909719",
     "status": "completed"
    },
    "tags": []
   },
   "source": [
    "# Splitting Data and Setting Training Data Size"
   ]
  },
  {
   "cell_type": "code",
   "execution_count": 11,
   "id": "aea9c6ef-6f46-42c8-85eb-5a62025c1508",
   "metadata": {
    "execution": {
     "iopub.execute_input": "2025-08-05T15:29:00.966586Z",
     "iopub.status.busy": "2025-08-05T15:29:00.965646Z",
     "iopub.status.idle": "2025-08-05T15:29:01.175479Z",
     "shell.execute_reply": "2025-08-05T15:29:01.174362Z"
    },
    "papermill": {
     "duration": 0.232185,
     "end_time": "2025-08-05T15:29:01.177741",
     "exception": false,
     "start_time": "2025-08-05T15:29:00.945556",
     "status": "completed"
    },
    "tags": []
   },
   "outputs": [],
   "source": [
    "from fairness_multiverse.universe import sample_by_year_size\n",
    "\n",
    "siab_train = sample_by_year_size(siab,\n",
    "                               training_year=universe[\"training_year\"],\n",
    "                               training_size=universe[\"training_size\"])"
   ]
  },
  {
   "cell_type": "code",
   "execution_count": 12,
   "id": "8d3afb32-789d-442c-8d5d-9f5aa8dd2eed",
   "metadata": {
    "execution": {
     "iopub.execute_input": "2025-08-05T15:29:01.222247Z",
     "iopub.status.busy": "2025-08-05T15:29:01.221332Z",
     "iopub.status.idle": "2025-08-05T15:29:01.226723Z",
     "shell.execute_reply": "2025-08-05T15:29:01.225898Z"
    },
    "papermill": {
     "duration": 0.029078,
     "end_time": "2025-08-05T15:29:01.228358",
     "exception": false,
     "start_time": "2025-08-05T15:29:01.199280",
     "status": "completed"
    },
    "tags": []
   },
   "outputs": [],
   "source": [
    "#siab_train.shape"
   ]
  },
  {
   "cell_type": "code",
   "execution_count": 13,
   "id": "d582db68-1a4c-47fb-84fc-08518dc1975a",
   "metadata": {
    "execution": {
     "iopub.execute_input": "2025-08-05T15:29:01.249014Z",
     "iopub.status.busy": "2025-08-05T15:29:01.248456Z",
     "iopub.status.idle": "2025-08-05T15:29:01.252753Z",
     "shell.execute_reply": "2025-08-05T15:29:01.251854Z"
    },
    "papermill": {
     "duration": 0.015905,
     "end_time": "2025-08-05T15:29:01.254485",
     "exception": false,
     "start_time": "2025-08-05T15:29:01.238580",
     "status": "completed"
    },
    "tags": []
   },
   "outputs": [],
   "source": [
    "#display(siab_train.groupby(\"year\").size())"
   ]
  },
  {
   "cell_type": "code",
   "execution_count": 14,
   "id": "a561edb4-d032-42cb-8256-22eac1111c64",
   "metadata": {
    "execution": {
     "iopub.execute_input": "2025-08-05T15:29:01.277134Z",
     "iopub.status.busy": "2025-08-05T15:29:01.276384Z",
     "iopub.status.idle": "2025-08-05T15:29:01.479622Z",
     "shell.execute_reply": "2025-08-05T15:29:01.478598Z"
    },
    "papermill": {
     "duration": 0.215739,
     "end_time": "2025-08-05T15:29:01.481629",
     "exception": false,
     "start_time": "2025-08-05T15:29:01.265890",
     "status": "completed"
    },
    "tags": []
   },
   "outputs": [],
   "source": [
    "#siab_train = siab_s[siab_s.year < 2015]\n",
    "siab_calib = siab[siab.year == 2015]\n",
    "siab_test = siab[siab.year == 2016]"
   ]
  },
  {
   "cell_type": "code",
   "execution_count": 15,
   "id": "472de16f-c3db-4916-846b-1f0de9cf1746",
   "metadata": {
    "execution": {
     "iopub.execute_input": "2025-08-05T15:29:01.520516Z",
     "iopub.status.busy": "2025-08-05T15:29:01.520030Z",
     "iopub.status.idle": "2025-08-05T15:29:01.530695Z",
     "shell.execute_reply": "2025-08-05T15:29:01.529610Z"
    },
    "papermill": {
     "duration": 0.032425,
     "end_time": "2025-08-05T15:29:01.532681",
     "exception": false,
     "start_time": "2025-08-05T15:29:01.500256",
     "status": "completed"
    },
    "tags": []
   },
   "outputs": [],
   "source": [
    "X_train = siab_train.iloc[:,4:164]\n",
    "y_train = siab_train.iloc[:, [3]]"
   ]
  },
  {
   "cell_type": "code",
   "execution_count": 16,
   "id": "828c96af-f43a-4ed6-ba47-8ac73a47d56c",
   "metadata": {
    "execution": {
     "iopub.execute_input": "2025-08-05T15:29:01.568332Z",
     "iopub.status.busy": "2025-08-05T15:29:01.567889Z",
     "iopub.status.idle": "2025-08-05T15:29:01.616949Z",
     "shell.execute_reply": "2025-08-05T15:29:01.616040Z"
    },
    "papermill": {
     "duration": 0.06766,
     "end_time": "2025-08-05T15:29:01.618551",
     "exception": false,
     "start_time": "2025-08-05T15:29:01.550891",
     "status": "completed"
    },
    "tags": []
   },
   "outputs": [],
   "source": [
    "X_calib = siab_calib.iloc[:,4:164]\n",
    "y_calib = siab_calib.iloc[:, [3]]"
   ]
  },
  {
   "cell_type": "code",
   "execution_count": 17,
   "id": "c34be9c3-6bd6-476e-acd3-845840e303be",
   "metadata": {
    "execution": {
     "iopub.execute_input": "2025-08-05T15:29:01.638917Z",
     "iopub.status.busy": "2025-08-05T15:29:01.638595Z",
     "iopub.status.idle": "2025-08-05T15:29:01.691069Z",
     "shell.execute_reply": "2025-08-05T15:29:01.690022Z"
    },
    "papermill": {
     "duration": 0.064035,
     "end_time": "2025-08-05T15:29:01.692778",
     "exception": false,
     "start_time": "2025-08-05T15:29:01.628743",
     "status": "completed"
    },
    "tags": []
   },
   "outputs": [],
   "source": [
    "X_test = siab_test.iloc[:,4:164]\n",
    "y_true = siab_test.iloc[:, [3]]"
   ]
  },
  {
   "cell_type": "code",
   "execution_count": 18,
   "id": "e6c733c5",
   "metadata": {
    "execution": {
     "iopub.execute_input": "2025-08-05T15:29:01.728261Z",
     "iopub.status.busy": "2025-08-05T15:29:01.727788Z",
     "iopub.status.idle": "2025-08-05T15:29:01.824302Z",
     "shell.execute_reply": "2025-08-05T15:29:01.823523Z"
    },
    "papermill": {
     "duration": 0.115365,
     "end_time": "2025-08-05T15:29:01.825872",
     "exception": false,
     "start_time": "2025-08-05T15:29:01.710507",
     "status": "completed"
    },
    "tags": []
   },
   "outputs": [],
   "source": [
    "# Auxiliary data needed downstream in the pipeline\n",
    "\n",
    "org_train = X_train.copy()\n",
    "org_test = X_test.copy()\n",
    "org_calib = X_calib.copy()"
   ]
  },
  {
   "cell_type": "markdown",
   "id": "0a4a1b33",
   "metadata": {
    "papermill": {
     "duration": 0.00926,
     "end_time": "2025-08-05T15:29:01.845021",
     "exception": false,
     "start_time": "2025-08-05T15:29:01.835761",
     "status": "completed"
    },
    "tags": []
   },
   "source": [
    "# Preprocessing Data"
   ]
  },
  {
   "cell_type": "code",
   "execution_count": 19,
   "id": "ca879031",
   "metadata": {
    "execution": {
     "iopub.execute_input": "2025-08-05T15:29:01.871046Z",
     "iopub.status.busy": "2025-08-05T15:29:01.870711Z",
     "iopub.status.idle": "2025-08-05T15:29:01.876109Z",
     "shell.execute_reply": "2025-08-05T15:29:01.875296Z"
    },
    "papermill": {
     "duration": 0.02308,
     "end_time": "2025-08-05T15:29:01.877620",
     "exception": false,
     "start_time": "2025-08-05T15:29:01.854540",
     "status": "completed"
    },
    "tags": []
   },
   "outputs": [],
   "source": [
    "# EXCLUDE PROTECTED FEATURES\n",
    "# ----------------------\n",
    "# \"exclude_features\": \"none\", # \"nationality\", \"sex\", \"nationality-sex\"\n",
    "\n",
    "excluded_features = universe[\"exclude_features\"].split(\"-\") # split, e.g.: \"nationality-sex\" -> [\"nationality\", \"sex\"]\n",
    "excluded_features_dictionary = {\n",
    "    \"nationality\": [\"maxdeutsch1\", \"maxdeutsch.Missing.\"],\n",
    "    \"sex\": [\"frau1\"],\n",
    "    \"age\": [\"age\"],\n",
    "}"
   ]
  },
  {
   "cell_type": "code",
   "execution_count": 20,
   "id": "b745ac60",
   "metadata": {
    "execution": {
     "iopub.execute_input": "2025-08-05T15:29:01.898859Z",
     "iopub.status.busy": "2025-08-05T15:29:01.898223Z",
     "iopub.status.idle": "2025-08-05T15:29:01.903629Z",
     "shell.execute_reply": "2025-08-05T15:29:01.902629Z"
    },
    "papermill": {
     "duration": 0.017961,
     "end_time": "2025-08-05T15:29:01.906198",
     "exception": false,
     "start_time": "2025-08-05T15:29:01.888237",
     "status": "completed"
    },
    "tags": []
   },
   "outputs": [],
   "source": [
    "# Code nice names to column names\n",
    "\n",
    "excluded_features_columns = [\n",
    "    excluded_features_dictionary[f] for f in excluded_features if len(f) > 0 and f != \"none\"\n",
    "]"
   ]
  },
  {
   "cell_type": "code",
   "execution_count": 21,
   "id": "f84f73a2",
   "metadata": {
    "execution": {
     "iopub.execute_input": "2025-08-05T15:29:01.928525Z",
     "iopub.status.busy": "2025-08-05T15:29:01.928161Z",
     "iopub.status.idle": "2025-08-05T15:29:01.934020Z",
     "shell.execute_reply": "2025-08-05T15:29:01.933162Z"
    },
    "papermill": {
     "duration": 0.018416,
     "end_time": "2025-08-05T15:29:01.935352",
     "exception": false,
     "start_time": "2025-08-05T15:29:01.916936",
     "status": "completed"
    },
    "tags": []
   },
   "outputs": [],
   "source": [
    "from utils import flatten_once\n",
    "\n",
    "excluded_features_columns = flatten_once(excluded_features_columns)"
   ]
  },
  {
   "cell_type": "code",
   "execution_count": 22,
   "id": "884dea22",
   "metadata": {
    "execution": {
     "iopub.execute_input": "2025-08-05T15:29:01.962521Z",
     "iopub.status.busy": "2025-08-05T15:29:01.961987Z",
     "iopub.status.idle": "2025-08-05T15:29:01.972006Z",
     "shell.execute_reply": "2025-08-05T15:29:01.971013Z"
    },
    "papermill": {
     "duration": 0.02731,
     "end_time": "2025-08-05T15:29:01.973478",
     "exception": false,
     "start_time": "2025-08-05T15:29:01.946168",
     "status": "completed"
    },
    "tags": []
   },
   "outputs": [
    {
     "name": "stdout",
     "output_type": "stream",
     "text": [
      "Dropping features: ['maxdeutsch1', 'maxdeutsch.Missing.']\n"
     ]
    }
   ],
   "source": [
    "if len(excluded_features_columns) > 0:\n",
    "    print(f\"Dropping features: {excluded_features_columns}\")\n",
    "    X_train.drop(excluded_features_columns, axis=1, inplace=True)"
   ]
  },
  {
   "cell_type": "code",
   "execution_count": 23,
   "id": "95ab8b16",
   "metadata": {
    "execution": {
     "iopub.execute_input": "2025-08-05T15:29:01.996163Z",
     "iopub.status.busy": "2025-08-05T15:29:01.995550Z",
     "iopub.status.idle": "2025-08-05T15:29:02.048370Z",
     "shell.execute_reply": "2025-08-05T15:29:02.047471Z"
    },
    "papermill": {
     "duration": 0.066636,
     "end_time": "2025-08-05T15:29:02.050474",
     "exception": false,
     "start_time": "2025-08-05T15:29:01.983838",
     "status": "completed"
    },
    "tags": []
   },
   "outputs": [
    {
     "name": "stdout",
     "output_type": "stream",
     "text": [
      "Dropping features: ['maxdeutsch1', 'maxdeutsch.Missing.']\n"
     ]
    }
   ],
   "source": [
    "if len(excluded_features_columns) > 0:\n",
    "    print(f\"Dropping features: {excluded_features_columns}\")\n",
    "    X_test.drop(excluded_features_columns, axis=1, inplace=True)"
   ]
  },
  {
   "cell_type": "code",
   "execution_count": 24,
   "id": "1853aaf5-fb9f-46cb-a2b5-8ea4ae2237e4",
   "metadata": {
    "execution": {
     "iopub.execute_input": "2025-08-05T15:29:02.107504Z",
     "iopub.status.busy": "2025-08-05T15:29:02.106651Z",
     "iopub.status.idle": "2025-08-05T15:29:02.158532Z",
     "shell.execute_reply": "2025-08-05T15:29:02.157624Z"
    },
    "papermill": {
     "duration": 0.085613,
     "end_time": "2025-08-05T15:29:02.159923",
     "exception": false,
     "start_time": "2025-08-05T15:29:02.074310",
     "status": "completed"
    },
    "tags": []
   },
   "outputs": [
    {
     "name": "stdout",
     "output_type": "stream",
     "text": [
      "Dropping features: ['maxdeutsch1', 'maxdeutsch.Missing.']\n"
     ]
    }
   ],
   "source": [
    "if len(excluded_features_columns) > 0:\n",
    "    print(f\"Dropping features: {excluded_features_columns}\")\n",
    "    X_calib.drop(excluded_features_columns, axis=1, inplace=True)"
   ]
  },
  {
   "cell_type": "code",
   "execution_count": 25,
   "id": "76c4dc6d",
   "metadata": {
    "execution": {
     "iopub.execute_input": "2025-08-05T15:29:02.182235Z",
     "iopub.status.busy": "2025-08-05T15:29:02.181562Z",
     "iopub.status.idle": "2025-08-05T15:29:02.186193Z",
     "shell.execute_reply": "2025-08-05T15:29:02.185388Z"
    },
    "papermill": {
     "duration": 0.016385,
     "end_time": "2025-08-05T15:29:02.187741",
     "exception": false,
     "start_time": "2025-08-05T15:29:02.171356",
     "status": "completed"
    },
    "tags": []
   },
   "outputs": [],
   "source": [
    "# EXCLUDE CERTAIN SUBGROUPS\n",
    "# ----------------------\n",
    "\n",
    "mode = universe.get(\"exclude_subgroups\", \"keep-all\") \n",
    "# Fetches the exclude_subgroups setting from the universe dict.\n",
    "# Defaults to \"keep-all\" if the key is missing."
   ]
  },
  {
   "cell_type": "code",
   "execution_count": 26,
   "id": "21994072",
   "metadata": {
    "execution": {
     "iopub.execute_input": "2025-08-05T15:29:02.209159Z",
     "iopub.status.busy": "2025-08-05T15:29:02.208621Z",
     "iopub.status.idle": "2025-08-05T15:29:02.214039Z",
     "shell.execute_reply": "2025-08-05T15:29:02.213200Z"
    },
    "papermill": {
     "duration": 0.01736,
     "end_time": "2025-08-05T15:29:02.215564",
     "exception": false,
     "start_time": "2025-08-05T15:29:02.198204",
     "status": "completed"
    },
    "tags": []
   },
   "outputs": [],
   "source": [
    "if mode == \"keep-all\":\n",
    "    keep_mask = pd.Series(True, index=org_train.index)\n",
    "\n",
    "# org_train contains the original feature columns from features_org (in Simson)\n",
    "# features_org contains unprocessed features, for me X_train at beginning ???\n",
    "# For keep-all, creates a boolean Series (keep_mask) of all True, so no rows are removed.\n",
    "\n",
    "elif mode == \"drop-non-german\":\n",
    "    keep_mask = org_train[\"maxdeutsch1\"] == 1 # ??? what about missing values?\n",
    "\n",
    "else:\n",
    "    raise ValueError(f\"Unsupported mode for exclude_subgroups: {mode}\")"
   ]
  },
  {
   "cell_type": "code",
   "execution_count": 27,
   "id": "71651440",
   "metadata": {
    "execution": {
     "iopub.execute_input": "2025-08-05T15:29:02.259468Z",
     "iopub.status.busy": "2025-08-05T15:29:02.259028Z",
     "iopub.status.idle": "2025-08-05T15:29:02.266317Z",
     "shell.execute_reply": "2025-08-05T15:29:02.265196Z"
    },
    "papermill": {
     "duration": 0.031193,
     "end_time": "2025-08-05T15:29:02.268489",
     "exception": false,
     "start_time": "2025-08-05T15:29:02.237296",
     "status": "completed"
    },
    "tags": []
   },
   "outputs": [
    {
     "name": "stdout",
     "output_type": "stream",
     "text": [
      "Dropping 741 rows (14.82%) where mode='drop-non-german'\n"
     ]
    }
   ],
   "source": [
    "n_drop = (~keep_mask).sum() # Calculates how many rows are set to be dropped\n",
    "if n_drop > 0:\n",
    "    pct = n_drop / len(keep_mask) * 100\n",
    "    print(f\"Dropping {n_drop} rows ({pct:.2f}%) where mode='{mode}'\")"
   ]
  },
  {
   "cell_type": "code",
   "execution_count": 28,
   "id": "5fb8eee5",
   "metadata": {
    "execution": {
     "iopub.execute_input": "2025-08-05T15:29:02.314094Z",
     "iopub.status.busy": "2025-08-05T15:29:02.313649Z",
     "iopub.status.idle": "2025-08-05T15:29:02.321730Z",
     "shell.execute_reply": "2025-08-05T15:29:02.320563Z"
    },
    "papermill": {
     "duration": 0.032536,
     "end_time": "2025-08-05T15:29:02.323597",
     "exception": false,
     "start_time": "2025-08-05T15:29:02.291061",
     "status": "completed"
    },
    "tags": []
   },
   "outputs": [],
   "source": [
    "X_train = X_train[keep_mask]"
   ]
  },
  {
   "cell_type": "code",
   "execution_count": 29,
   "id": "b202bb3a",
   "metadata": {
    "execution": {
     "iopub.execute_input": "2025-08-05T15:29:02.369354Z",
     "iopub.status.busy": "2025-08-05T15:29:02.368482Z",
     "iopub.status.idle": "2025-08-05T15:29:02.375264Z",
     "shell.execute_reply": "2025-08-05T15:29:02.374061Z"
    },
    "papermill": {
     "duration": 0.031349,
     "end_time": "2025-08-05T15:29:02.377168",
     "exception": false,
     "start_time": "2025-08-05T15:29:02.345819",
     "status": "completed"
    },
    "tags": []
   },
   "outputs": [],
   "source": [
    "y_train = y_train[keep_mask]"
   ]
  },
  {
   "cell_type": "markdown",
   "id": "493e2ac3",
   "metadata": {
    "papermill": {
     "duration": 0.021276,
     "end_time": "2025-08-05T15:29:02.420182",
     "exception": false,
     "start_time": "2025-08-05T15:29:02.398906",
     "status": "completed"
    },
    "tags": []
   },
   "source": [
    "# Model Training"
   ]
  },
  {
   "cell_type": "code",
   "execution_count": 30,
   "id": "679e1268",
   "metadata": {
    "execution": {
     "iopub.execute_input": "2025-08-05T15:29:02.464983Z",
     "iopub.status.busy": "2025-08-05T15:29:02.464372Z",
     "iopub.status.idle": "2025-08-05T15:29:02.570051Z",
     "shell.execute_reply": "2025-08-05T15:29:02.569026Z"
    },
    "papermill": {
     "duration": 0.130282,
     "end_time": "2025-08-05T15:29:02.571999",
     "exception": false,
     "start_time": "2025-08-05T15:29:02.441717",
     "status": "completed"
    },
    "tags": []
   },
   "outputs": [],
   "source": [
    "from sklearn.linear_model import LogisticRegression\n",
    "from sklearn.ensemble import GradientBoostingClassifier, RandomForestClassifier\n",
    "\n",
    "if (universe[\"model\"] == \"logreg\"):\n",
    "    model = LogisticRegression() #penalty=\"none\", solver=\"newton-cg\", max_iter=1) # include random_state=19 ?\n",
    "elif (universe[\"model\"] == \"penalized_logreg\"):\n",
    "    model = LogisticRegression(penalty=\"l2\", C=0.1) #, solver=\"newton-cg\", max_iter=1)\n",
    "elif (universe[\"model\"] == \"rf\"):\n",
    "    model = RandomForestClassifier() # n_estimators=100, n_jobs=-1\n",
    "elif (universe[\"model\"] == \"gbm\"):\n",
    "    model = GradientBoostingClassifier()\n",
    "elif (universe[\"model\"] == \"elasticnet\"):\n",
    "    model = LogisticRegression(penalty = 'elasticnet', solver = 'saga', l1_ratio = 0.5) # max_iter=5000\n",
    "else:\n",
    "    raise \"Unsupported universe.model\""
   ]
  },
  {
   "cell_type": "code",
   "execution_count": 31,
   "id": "0cc8f744",
   "metadata": {
    "execution": {
     "iopub.execute_input": "2025-08-05T15:29:02.616396Z",
     "iopub.status.busy": "2025-08-05T15:29:02.615447Z",
     "iopub.status.idle": "2025-08-05T15:29:02.622262Z",
     "shell.execute_reply": "2025-08-05T15:29:02.621086Z"
    },
    "papermill": {
     "duration": 0.030944,
     "end_time": "2025-08-05T15:29:02.624249",
     "exception": false,
     "start_time": "2025-08-05T15:29:02.593305",
     "status": "completed"
    },
    "tags": []
   },
   "outputs": [],
   "source": [
    "import numpy as np\n",
    "from sklearn.pipeline import Pipeline\n",
    "from sklearn.preprocessing import StandardScaler\n",
    "\n",
    "model = Pipeline([\n",
    "    #(\"continuous_processor\", continuous_processor),\n",
    "    #(\"categorical_preprocessor\", categorical_preprocessor),\n",
    "    (\"scale\", StandardScaler() if universe[\"scale\"] == \"scale\" else None), \n",
    "    (\"model\", model),\n",
    "])"
   ]
  },
  {
   "cell_type": "code",
   "execution_count": 32,
   "id": "9442c04d",
   "metadata": {
    "execution": {
     "iopub.execute_input": "2025-08-05T15:29:02.665931Z",
     "iopub.status.busy": "2025-08-05T15:29:02.665287Z",
     "iopub.status.idle": "2025-08-05T15:29:02.804987Z",
     "shell.execute_reply": "2025-08-05T15:29:02.804018Z"
    },
    "papermill": {
     "duration": 0.161767,
     "end_time": "2025-08-05T15:29:02.806736",
     "exception": false,
     "start_time": "2025-08-05T15:29:02.644969",
     "status": "completed"
    },
    "tags": []
   },
   "outputs": [
    {
     "name": "stderr",
     "output_type": "stream",
     "text": [
      "/dss/dsshome1/0C/ra93lal2/.local/share/virtualenvs/CMA_Fairness_v2-3j10GkSs/lib/python3.10/site-packages/sklearn/linear_model/_logistic.py:444: ConvergenceWarning: lbfgs failed to converge (status=1):\n",
      "STOP: TOTAL NO. of ITERATIONS REACHED LIMIT.\n",
      "\n",
      "Increase the number of iterations (max_iter) or scale the data as shown in:\n",
      "    https://scikit-learn.org/stable/modules/preprocessing.html\n",
      "Please also refer to the documentation for alternative solver options:\n",
      "    https://scikit-learn.org/stable/modules/linear_model.html#logistic-regression\n",
      "  n_iter_i = _check_optimize_result(\n"
     ]
    },
    {
     "data": {
      "text/html": [
       "<style>#sk-container-id-1 {color: black;background-color: white;}#sk-container-id-1 pre{padding: 0;}#sk-container-id-1 div.sk-toggleable {background-color: white;}#sk-container-id-1 label.sk-toggleable__label {cursor: pointer;display: block;width: 100%;margin-bottom: 0;padding: 0.3em;box-sizing: border-box;text-align: center;}#sk-container-id-1 label.sk-toggleable__label-arrow:before {content: \"▸\";float: left;margin-right: 0.25em;color: #696969;}#sk-container-id-1 label.sk-toggleable__label-arrow:hover:before {color: black;}#sk-container-id-1 div.sk-estimator:hover label.sk-toggleable__label-arrow:before {color: black;}#sk-container-id-1 div.sk-toggleable__content {max-height: 0;max-width: 0;overflow: hidden;text-align: left;background-color: #f0f8ff;}#sk-container-id-1 div.sk-toggleable__content pre {margin: 0.2em;color: black;border-radius: 0.25em;background-color: #f0f8ff;}#sk-container-id-1 input.sk-toggleable__control:checked~div.sk-toggleable__content {max-height: 200px;max-width: 100%;overflow: auto;}#sk-container-id-1 input.sk-toggleable__control:checked~label.sk-toggleable__label-arrow:before {content: \"▾\";}#sk-container-id-1 div.sk-estimator input.sk-toggleable__control:checked~label.sk-toggleable__label {background-color: #d4ebff;}#sk-container-id-1 div.sk-label input.sk-toggleable__control:checked~label.sk-toggleable__label {background-color: #d4ebff;}#sk-container-id-1 input.sk-hidden--visually {border: 0;clip: rect(1px 1px 1px 1px);clip: rect(1px, 1px, 1px, 1px);height: 1px;margin: -1px;overflow: hidden;padding: 0;position: absolute;width: 1px;}#sk-container-id-1 div.sk-estimator {font-family: monospace;background-color: #f0f8ff;border: 1px dotted black;border-radius: 0.25em;box-sizing: border-box;margin-bottom: 0.5em;}#sk-container-id-1 div.sk-estimator:hover {background-color: #d4ebff;}#sk-container-id-1 div.sk-parallel-item::after {content: \"\";width: 100%;border-bottom: 1px solid gray;flex-grow: 1;}#sk-container-id-1 div.sk-label:hover label.sk-toggleable__label {background-color: #d4ebff;}#sk-container-id-1 div.sk-serial::before {content: \"\";position: absolute;border-left: 1px solid gray;box-sizing: border-box;top: 0;bottom: 0;left: 50%;z-index: 0;}#sk-container-id-1 div.sk-serial {display: flex;flex-direction: column;align-items: center;background-color: white;padding-right: 0.2em;padding-left: 0.2em;position: relative;}#sk-container-id-1 div.sk-item {position: relative;z-index: 1;}#sk-container-id-1 div.sk-parallel {display: flex;align-items: stretch;justify-content: center;background-color: white;position: relative;}#sk-container-id-1 div.sk-item::before, #sk-container-id-1 div.sk-parallel-item::before {content: \"\";position: absolute;border-left: 1px solid gray;box-sizing: border-box;top: 0;bottom: 0;left: 50%;z-index: -1;}#sk-container-id-1 div.sk-parallel-item {display: flex;flex-direction: column;z-index: 1;position: relative;background-color: white;}#sk-container-id-1 div.sk-parallel-item:first-child::after {align-self: flex-end;width: 50%;}#sk-container-id-1 div.sk-parallel-item:last-child::after {align-self: flex-start;width: 50%;}#sk-container-id-1 div.sk-parallel-item:only-child::after {width: 0;}#sk-container-id-1 div.sk-dashed-wrapped {border: 1px dashed gray;margin: 0 0.4em 0.5em 0.4em;box-sizing: border-box;padding-bottom: 0.4em;background-color: white;}#sk-container-id-1 div.sk-label label {font-family: monospace;font-weight: bold;display: inline-block;line-height: 1.2em;}#sk-container-id-1 div.sk-label-container {text-align: center;}#sk-container-id-1 div.sk-container {/* jupyter's `normalize.less` sets `[hidden] { display: none; }` but bootstrap.min.css set `[hidden] { display: none !important; }` so we also need the `!important` here to be able to override the default hidden behavior on the sphinx rendered scikit-learn.org. See: https://github.com/scikit-learn/scikit-learn/issues/21755 */display: inline-block !important;position: relative;}#sk-container-id-1 div.sk-text-repr-fallback {display: none;}</style><div id=\"sk-container-id-1\" class=\"sk-top-container\"><div class=\"sk-text-repr-fallback\"><pre>Pipeline(steps=[(&#x27;scale&#x27;, None), (&#x27;model&#x27;, LogisticRegression(C=0.1))])</pre><b>In a Jupyter environment, please rerun this cell to show the HTML representation or trust the notebook. <br />On GitHub, the HTML representation is unable to render, please try loading this page with nbviewer.org.</b></div><div class=\"sk-container\" hidden><div class=\"sk-item sk-dashed-wrapped\"><div class=\"sk-label-container\"><div class=\"sk-label sk-toggleable\"><input class=\"sk-toggleable__control sk-hidden--visually\" id=\"sk-estimator-id-1\" type=\"checkbox\" ><label for=\"sk-estimator-id-1\" class=\"sk-toggleable__label sk-toggleable__label-arrow\">Pipeline</label><div class=\"sk-toggleable__content\"><pre>Pipeline(steps=[(&#x27;scale&#x27;, None), (&#x27;model&#x27;, LogisticRegression(C=0.1))])</pre></div></div></div><div class=\"sk-serial\"><div class=\"sk-item\"><div class=\"sk-estimator sk-toggleable\"><input class=\"sk-toggleable__control sk-hidden--visually\" id=\"sk-estimator-id-2\" type=\"checkbox\" ><label for=\"sk-estimator-id-2\" class=\"sk-toggleable__label sk-toggleable__label-arrow\">None</label><div class=\"sk-toggleable__content\"><pre>None</pre></div></div></div><div class=\"sk-item\"><div class=\"sk-estimator sk-toggleable\"><input class=\"sk-toggleable__control sk-hidden--visually\" id=\"sk-estimator-id-3\" type=\"checkbox\" ><label for=\"sk-estimator-id-3\" class=\"sk-toggleable__label sk-toggleable__label-arrow\">LogisticRegression</label><div class=\"sk-toggleable__content\"><pre>LogisticRegression(C=0.1)</pre></div></div></div></div></div></div></div>"
      ],
      "text/plain": [
       "Pipeline(steps=[('scale', None), ('model', LogisticRegression(C=0.1))])"
      ]
     },
     "execution_count": 32,
     "metadata": {},
     "output_type": "execute_result"
    }
   ],
   "source": [
    "model.fit(X_train, y_train.values.ravel())"
   ]
  },
  {
   "cell_type": "code",
   "execution_count": 33,
   "id": "af59f8c0",
   "metadata": {
    "execution": {
     "iopub.execute_input": "2025-08-05T15:29:02.850372Z",
     "iopub.status.busy": "2025-08-05T15:29:02.849380Z",
     "iopub.status.idle": "2025-08-05T15:29:02.855165Z",
     "shell.execute_reply": "2025-08-05T15:29:02.854038Z"
    },
    "papermill": {
     "duration": 0.028997,
     "end_time": "2025-08-05T15:29:02.857007",
     "exception": false,
     "start_time": "2025-08-05T15:29:02.828010",
     "status": "completed"
    },
    "tags": []
   },
   "outputs": [],
   "source": [
    "from fairness_multiverse.universe import predict_w_threshold"
   ]
  },
  {
   "cell_type": "code",
   "execution_count": 34,
   "id": "a7cf2e16",
   "metadata": {
    "execution": {
     "iopub.execute_input": "2025-08-05T15:29:02.899707Z",
     "iopub.status.busy": "2025-08-05T15:29:02.898073Z",
     "iopub.status.idle": "2025-08-05T15:29:02.997291Z",
     "shell.execute_reply": "2025-08-05T15:29:02.996338Z"
    },
    "papermill": {
     "duration": 0.122725,
     "end_time": "2025-08-05T15:29:02.999107",
     "exception": false,
     "start_time": "2025-08-05T15:29:02.876382",
     "status": "completed"
    },
    "tags": []
   },
   "outputs": [
    {
     "data": {
      "text/plain": [
       "0.8585776390591907"
      ]
     },
     "execution_count": 34,
     "metadata": {},
     "output_type": "execute_result"
    }
   ],
   "source": [
    "probs_test = model.predict_proba(X_test)\n",
    "\n",
    "'''\n",
    "Below code returns a boolean array (or binary 0/1 array depending on how it’s used) where each element \n",
    "is True if the probability of class 1 is greater than or equal to the threshold, and False otherwise.\n",
    "'''\n",
    "y_pred_default = predict_w_threshold(probs_test, 0.5)\n",
    "\n",
    "from sklearn.metrics import accuracy_score\n",
    "\n",
    "# Naive prediction\n",
    "accuracy_score(y_true = y_true, y_pred = y_pred_default)"
   ]
  },
  {
   "cell_type": "code",
   "execution_count": 35,
   "id": "081964c3",
   "metadata": {
    "execution": {
     "iopub.execute_input": "2025-08-05T15:29:03.047137Z",
     "iopub.status.busy": "2025-08-05T15:29:03.046467Z",
     "iopub.status.idle": "2025-08-05T15:29:03.132822Z",
     "shell.execute_reply": "2025-08-05T15:29:03.131815Z"
    },
    "papermill": {
     "duration": 0.112151,
     "end_time": "2025-08-05T15:29:03.134672",
     "exception": false,
     "start_time": "2025-08-05T15:29:03.022521",
     "status": "completed"
    },
    "tags": []
   },
   "outputs": [
    {
     "data": {
      "text/plain": [
       "array([0, 0, 0, ..., 0, 0, 0])"
      ]
     },
     "execution_count": 35,
     "metadata": {},
     "output_type": "execute_result"
    }
   ],
   "source": [
    "model.predict(X_test)"
   ]
  },
  {
   "cell_type": "markdown",
   "id": "56c9705b",
   "metadata": {
    "papermill": {
     "duration": 0.020823,
     "end_time": "2025-08-05T15:29:03.177056",
     "exception": false,
     "start_time": "2025-08-05T15:29:03.156233",
     "status": "completed"
    },
    "tags": []
   },
   "source": [
    "# Conformal Prediction"
   ]
  },
  {
   "cell_type": "code",
   "execution_count": 36,
   "id": "160ec6ff",
   "metadata": {
    "execution": {
     "iopub.execute_input": "2025-08-05T15:29:03.219511Z",
     "iopub.status.busy": "2025-08-05T15:29:03.218607Z",
     "iopub.status.idle": "2025-08-05T15:29:03.224198Z",
     "shell.execute_reply": "2025-08-05T15:29:03.223077Z"
    },
    "papermill": {
     "duration": 0.028831,
     "end_time": "2025-08-05T15:29:03.226238",
     "exception": false,
     "start_time": "2025-08-05T15:29:03.197407",
     "status": "completed"
    },
    "tags": []
   },
   "outputs": [],
   "source": [
    "# Miscoverage level for conformal prediction (10% allowed error rate => 90% target coverage)\n",
    "alpha = 0.1"
   ]
  },
  {
   "cell_type": "code",
   "execution_count": 37,
   "id": "eadf4555-3dd3-440e-8e35-f82a4ad9f855",
   "metadata": {
    "execution": {
     "iopub.execute_input": "2025-08-05T15:29:03.270057Z",
     "iopub.status.busy": "2025-08-05T15:29:03.269347Z",
     "iopub.status.idle": "2025-08-05T15:29:03.352786Z",
     "shell.execute_reply": "2025-08-05T15:29:03.351750Z"
    },
    "papermill": {
     "duration": 0.106856,
     "end_time": "2025-08-05T15:29:03.354798",
     "exception": false,
     "start_time": "2025-08-05T15:29:03.247942",
     "status": "completed"
    },
    "tags": []
   },
   "outputs": [],
   "source": [
    "probs_calib = model.predict_proba(X_calib)"
   ]
  },
  {
   "cell_type": "code",
   "execution_count": 38,
   "id": "2ed93547-6d5d-4983-9b36-1ecb300da49a",
   "metadata": {
    "execution": {
     "iopub.execute_input": "2025-08-05T15:29:03.399186Z",
     "iopub.status.busy": "2025-08-05T15:29:03.398495Z",
     "iopub.status.idle": "2025-08-05T15:29:03.404849Z",
     "shell.execute_reply": "2025-08-05T15:29:03.403689Z"
    },
    "papermill": {
     "duration": 0.0303,
     "end_time": "2025-08-05T15:29:03.406890",
     "exception": false,
     "start_time": "2025-08-05T15:29:03.376590",
     "status": "completed"
    },
    "tags": []
   },
   "outputs": [],
   "source": [
    "y_calib = y_calib.values.ravel().astype(int)"
   ]
  },
  {
   "cell_type": "code",
   "execution_count": 39,
   "id": "65d1320d-f588-4b38-9072-62af1ae97f7d",
   "metadata": {
    "execution": {
     "iopub.execute_input": "2025-08-05T15:29:03.453726Z",
     "iopub.status.busy": "2025-08-05T15:29:03.453056Z",
     "iopub.status.idle": "2025-08-05T15:29:03.461721Z",
     "shell.execute_reply": "2025-08-05T15:29:03.460655Z"
    },
    "papermill": {
     "duration": 0.034037,
     "end_time": "2025-08-05T15:29:03.463664",
     "exception": false,
     "start_time": "2025-08-05T15:29:03.429627",
     "status": "completed"
    },
    "tags": []
   },
   "outputs": [],
   "source": [
    "from fairness_multiverse.conformal import compute_nc_scores\n",
    "\n",
    "# Compute nonconformity scores on calibration set (1 - probability of true class)\n",
    "nc_scores = compute_nc_scores(probs_calib, y_calib)"
   ]
  },
  {
   "cell_type": "code",
   "execution_count": 40,
   "id": "df3b8ca3-53b7-43d5-9667-7c85da7aeda2",
   "metadata": {
    "execution": {
     "iopub.execute_input": "2025-08-05T15:29:03.510046Z",
     "iopub.status.busy": "2025-08-05T15:29:03.509193Z",
     "iopub.status.idle": "2025-08-05T15:29:03.516792Z",
     "shell.execute_reply": "2025-08-05T15:29:03.515731Z"
    },
    "papermill": {
     "duration": 0.032553,
     "end_time": "2025-08-05T15:29:03.518625",
     "exception": false,
     "start_time": "2025-08-05T15:29:03.486072",
     "status": "completed"
    },
    "tags": []
   },
   "outputs": [],
   "source": [
    "from fairness_multiverse.conformal import find_threshold\n",
    "\n",
    "# Find conformal threshold q_hat for the given alpha (split conformal method)\n",
    "q_hat = find_threshold(nc_scores, alpha)"
   ]
  },
  {
   "cell_type": "code",
   "execution_count": 41,
   "id": "4d29e6c1-0ef6-4aa4-b8fe-4fe79b0d033a",
   "metadata": {
    "execution": {
     "iopub.execute_input": "2025-08-05T15:29:03.564934Z",
     "iopub.status.busy": "2025-08-05T15:29:03.564108Z",
     "iopub.status.idle": "2025-08-05T15:29:03.571758Z",
     "shell.execute_reply": "2025-08-05T15:29:03.570727Z"
    },
    "papermill": {
     "duration": 0.032444,
     "end_time": "2025-08-05T15:29:03.573350",
     "exception": false,
     "start_time": "2025-08-05T15:29:03.540906",
     "status": "completed"
    },
    "tags": []
   },
   "outputs": [
    {
     "data": {
      "text/plain": [
       "0.6673649067187291"
      ]
     },
     "execution_count": 41,
     "metadata": {},
     "output_type": "execute_result"
    }
   ],
   "source": [
    "q_hat"
   ]
  },
  {
   "cell_type": "code",
   "execution_count": 42,
   "id": "92460794-cdac-4be2-ba28-f28c0515a6fb",
   "metadata": {
    "execution": {
     "iopub.execute_input": "2025-08-05T15:29:03.616208Z",
     "iopub.status.busy": "2025-08-05T15:29:03.615371Z",
     "iopub.status.idle": "2025-08-05T15:29:04.434183Z",
     "shell.execute_reply": "2025-08-05T15:29:04.433188Z"
    },
    "papermill": {
     "duration": 0.842063,
     "end_time": "2025-08-05T15:29:04.435729",
     "exception": false,
     "start_time": "2025-08-05T15:29:03.593666",
     "status": "completed"
    },
    "tags": []
   },
   "outputs": [],
   "source": [
    "from fairness_multiverse.conformal import predict_conformal_sets\n",
    "\n",
    "# Generate prediction sets for each test example\n",
    "pred_sets = predict_conformal_sets(model, X_test, q_hat)"
   ]
  },
  {
   "cell_type": "code",
   "execution_count": 43,
   "id": "d90c9a65-e6db-4f5d-80cd-e68fb7e46829",
   "metadata": {
    "execution": {
     "iopub.execute_input": "2025-08-05T15:29:04.486299Z",
     "iopub.status.busy": "2025-08-05T15:29:04.485220Z",
     "iopub.status.idle": "2025-08-05T15:29:04.491302Z",
     "shell.execute_reply": "2025-08-05T15:29:04.490280Z"
    },
    "papermill": {
     "duration": 0.032793,
     "end_time": "2025-08-05T15:29:04.493172",
     "exception": false,
     "start_time": "2025-08-05T15:29:04.460379",
     "status": "completed"
    },
    "tags": []
   },
   "outputs": [],
   "source": [
    "y_true = y_true.squeeze()"
   ]
  },
  {
   "cell_type": "code",
   "execution_count": 44,
   "id": "3a58a54a-1e68-46b9-927a-df01f18aebc8",
   "metadata": {
    "execution": {
     "iopub.execute_input": "2025-08-05T15:29:04.542455Z",
     "iopub.status.busy": "2025-08-05T15:29:04.541482Z",
     "iopub.status.idle": "2025-08-05T15:29:05.615840Z",
     "shell.execute_reply": "2025-08-05T15:29:05.614734Z"
    },
    "papermill": {
     "duration": 1.101736,
     "end_time": "2025-08-05T15:29:05.618150",
     "exception": false,
     "start_time": "2025-08-05T15:29:04.516414",
     "status": "completed"
    },
    "tags": []
   },
   "outputs": [],
   "source": [
    "from fairness_multiverse.conformal import evaluate_sets\n",
    "\n",
    "# Evaluate coverage and average set size on test data\n",
    "metrics = evaluate_sets(pred_sets, y_true)"
   ]
  },
  {
   "cell_type": "markdown",
   "id": "2b569c12-9aaa-4c88-98c9-bbcd0cf3ebb8",
   "metadata": {
    "papermill": {
     "duration": 0.026506,
     "end_time": "2025-08-05T15:29:05.671073",
     "exception": false,
     "start_time": "2025-08-05T15:29:05.644567",
     "status": "completed"
    },
    "tags": []
   },
   "source": [
    "# CP Metrics"
   ]
  },
  {
   "cell_type": "code",
   "execution_count": 45,
   "id": "5ce0a5cb-201f-45a0-ade5-94c7f0bd6095",
   "metadata": {
    "execution": {
     "iopub.execute_input": "2025-08-05T15:29:05.725834Z",
     "iopub.status.busy": "2025-08-05T15:29:05.725102Z",
     "iopub.status.idle": "2025-08-05T15:29:05.734106Z",
     "shell.execute_reply": "2025-08-05T15:29:05.732721Z"
    },
    "papermill": {
     "duration": 0.038659,
     "end_time": "2025-08-05T15:29:05.736142",
     "exception": false,
     "start_time": "2025-08-05T15:29:05.697483",
     "status": "completed"
    },
    "tags": []
   },
   "outputs": [
    {
     "data": {
      "text/plain": [
       "{'coverage': 0.9106119719094862, 'avg_size': 1.2104113253817859}"
      ]
     },
     "execution_count": 45,
     "metadata": {},
     "output_type": "execute_result"
    }
   ],
   "source": [
    "metrics"
   ]
  },
  {
   "cell_type": "code",
   "execution_count": 46,
   "id": "9b9a838d-31c9-430b-ae14-12baee460d17",
   "metadata": {
    "execution": {
     "iopub.execute_input": "2025-08-05T15:29:05.788609Z",
     "iopub.status.busy": "2025-08-05T15:29:05.787663Z",
     "iopub.status.idle": "2025-08-05T15:29:05.794922Z",
     "shell.execute_reply": "2025-08-05T15:29:05.793877Z"
    },
    "papermill": {
     "duration": 0.035725,
     "end_time": "2025-08-05T15:29:05.796969",
     "exception": false,
     "start_time": "2025-08-05T15:29:05.761244",
     "status": "completed"
    },
    "tags": []
   },
   "outputs": [],
   "source": [
    "example_universe = universe.copy()\n",
    "universe_training_year = example_universe.get(\"training_year\")\n",
    "universe_training_size = example_universe.get(\"training_size\")\n",
    "universe_scale = example_universe.get(\"scale\")\n",
    "universe_model = example_universe.get(\"model\")\n",
    "universe_exclude_features = example_universe.get(\"exclude_features\")\n",
    "universe_exclude_subgroups = example_universe.get(\"exclude_subgroups\")"
   ]
  },
  {
   "cell_type": "code",
   "execution_count": 47,
   "id": "f4b6a8ac-9dc0-4245-8a91-5b3b5999c4f9",
   "metadata": {
    "execution": {
     "iopub.execute_input": "2025-08-05T15:29:05.853384Z",
     "iopub.status.busy": "2025-08-05T15:29:05.852593Z",
     "iopub.status.idle": "2025-08-05T15:29:05.860394Z",
     "shell.execute_reply": "2025-08-05T15:29:05.859192Z"
    },
    "papermill": {
     "duration": 0.038077,
     "end_time": "2025-08-05T15:29:05.862597",
     "exception": false,
     "start_time": "2025-08-05T15:29:05.824520",
     "status": "completed"
    },
    "tags": []
   },
   "outputs": [],
   "source": [
    "cp_metrics_dict = {\n",
    "    \"universe_id\": [universe_id],\n",
    "    \"universe_training_year\": [universe_training_year],\n",
    "    \"universe_training_size\": [universe_training_size],\n",
    "    \"universe_scale\": [universe_scale],\n",
    "    \"universe_model\": [universe_model],\n",
    "    \"universe_exclude_features\": [universe_exclude_features],\n",
    "    \"universe_exclude_subgroups\": [universe_exclude_subgroups],\n",
    "    \"q_hat\": [q_hat],\n",
    "    \"coverage\": [metrics[\"coverage\"]],\n",
    "    \"avg_size\": [metrics[\"avg_size\"]],\n",
    "}"
   ]
  },
  {
   "cell_type": "code",
   "execution_count": 48,
   "id": "908acbb1-0371-4915-85ca-3fa520d2efe2",
   "metadata": {
    "execution": {
     "iopub.execute_input": "2025-08-05T15:29:05.913894Z",
     "iopub.status.busy": "2025-08-05T15:29:05.912930Z",
     "iopub.status.idle": "2025-08-05T15:29:05.921425Z",
     "shell.execute_reply": "2025-08-05T15:29:05.920273Z"
    },
    "papermill": {
     "duration": 0.035616,
     "end_time": "2025-08-05T15:29:05.923567",
     "exception": false,
     "start_time": "2025-08-05T15:29:05.887951",
     "status": "completed"
    },
    "tags": []
   },
   "outputs": [
    {
     "data": {
      "text/plain": [
       "{'universe_id': ['8b0cacf7a5803504b8943b8ffefca288'],\n",
       " 'universe_training_year': ['2014'],\n",
       " 'universe_training_size': ['5k'],\n",
       " 'universe_scale': ['do-not-scale'],\n",
       " 'universe_model': ['penalized_logreg'],\n",
       " 'universe_exclude_features': ['nationality'],\n",
       " 'universe_exclude_subgroups': ['drop-non-german'],\n",
       " 'q_hat': [0.6673649067187291],\n",
       " 'coverage': [0.9106119719094862],\n",
       " 'avg_size': [1.2104113253817859]}"
      ]
     },
     "execution_count": 48,
     "metadata": {},
     "output_type": "execute_result"
    }
   ],
   "source": [
    "cp_metrics_dict"
   ]
  },
  {
   "cell_type": "code",
   "execution_count": 49,
   "id": "33007efc-14e9-4ec6-97ac-56a455c82265",
   "metadata": {
    "execution": {
     "iopub.execute_input": "2025-08-05T15:29:05.980454Z",
     "iopub.status.busy": "2025-08-05T15:29:05.979687Z",
     "iopub.status.idle": "2025-08-05T15:29:05.986900Z",
     "shell.execute_reply": "2025-08-05T15:29:05.985771Z"
    },
    "papermill": {
     "duration": 0.037874,
     "end_time": "2025-08-05T15:29:05.988949",
     "exception": false,
     "start_time": "2025-08-05T15:29:05.951075",
     "status": "completed"
    },
    "tags": []
   },
   "outputs": [],
   "source": [
    "cp_metrics_df = pd.DataFrame(cp_metrics_dict)"
   ]
  },
  {
   "cell_type": "code",
   "execution_count": 50,
   "id": "db12611b-57b2-4910-b9d0-355adfd6e7bf",
   "metadata": {
    "execution": {
     "iopub.execute_input": "2025-08-05T15:29:06.046293Z",
     "iopub.status.busy": "2025-08-05T15:29:06.045491Z",
     "iopub.status.idle": "2025-08-05T15:29:06.065588Z",
     "shell.execute_reply": "2025-08-05T15:29:06.064554Z"
    },
    "papermill": {
     "duration": 0.050935,
     "end_time": "2025-08-05T15:29:06.067671",
     "exception": false,
     "start_time": "2025-08-05T15:29:06.016736",
     "status": "completed"
    },
    "tags": []
   },
   "outputs": [
    {
     "data": {
      "text/html": [
       "<div>\n",
       "<style scoped>\n",
       "    .dataframe tbody tr th:only-of-type {\n",
       "        vertical-align: middle;\n",
       "    }\n",
       "\n",
       "    .dataframe tbody tr th {\n",
       "        vertical-align: top;\n",
       "    }\n",
       "\n",
       "    .dataframe thead th {\n",
       "        text-align: right;\n",
       "    }\n",
       "</style>\n",
       "<table border=\"1\" class=\"dataframe\">\n",
       "  <thead>\n",
       "    <tr style=\"text-align: right;\">\n",
       "      <th></th>\n",
       "      <th>universe_id</th>\n",
       "      <th>universe_training_year</th>\n",
       "      <th>universe_training_size</th>\n",
       "      <th>universe_scale</th>\n",
       "      <th>universe_model</th>\n",
       "      <th>universe_exclude_features</th>\n",
       "      <th>universe_exclude_subgroups</th>\n",
       "      <th>q_hat</th>\n",
       "      <th>coverage</th>\n",
       "      <th>avg_size</th>\n",
       "    </tr>\n",
       "  </thead>\n",
       "  <tbody>\n",
       "    <tr>\n",
       "      <th>0</th>\n",
       "      <td>8b0cacf7a5803504b8943b8ffefca288</td>\n",
       "      <td>2014</td>\n",
       "      <td>5k</td>\n",
       "      <td>do-not-scale</td>\n",
       "      <td>penalized_logreg</td>\n",
       "      <td>nationality</td>\n",
       "      <td>drop-non-german</td>\n",
       "      <td>0.667365</td>\n",
       "      <td>0.910612</td>\n",
       "      <td>1.210411</td>\n",
       "    </tr>\n",
       "  </tbody>\n",
       "</table>\n",
       "</div>"
      ],
      "text/plain": [
       "                        universe_id universe_training_year  \\\n",
       "0  8b0cacf7a5803504b8943b8ffefca288                   2014   \n",
       "\n",
       "  universe_training_size universe_scale    universe_model  \\\n",
       "0                     5k   do-not-scale  penalized_logreg   \n",
       "\n",
       "  universe_exclude_features universe_exclude_subgroups     q_hat  coverage  \\\n",
       "0               nationality            drop-non-german  0.667365  0.910612   \n",
       "\n",
       "   avg_size  \n",
       "0  1.210411  "
      ]
     },
     "execution_count": 50,
     "metadata": {},
     "output_type": "execute_result"
    }
   ],
   "source": [
    "cp_metrics_df"
   ]
  },
  {
   "cell_type": "code",
   "execution_count": 51,
   "id": "b7fbde55-a0a1-47e4-9af6-fe4a17fa8c61",
   "metadata": {
    "execution": {
     "iopub.execute_input": "2025-08-05T15:29:06.125741Z",
     "iopub.status.busy": "2025-08-05T15:29:06.124967Z",
     "iopub.status.idle": "2025-08-05T15:29:06.131280Z",
     "shell.execute_reply": "2025-08-05T15:29:06.130085Z"
    },
    "papermill": {
     "duration": 0.037556,
     "end_time": "2025-08-05T15:29:06.133295",
     "exception": false,
     "start_time": "2025-08-05T15:29:06.095739",
     "status": "completed"
    },
    "tags": []
   },
   "outputs": [],
   "source": [
    "# Conditional Coverage & looking at subgroups"
   ]
  },
  {
   "cell_type": "code",
   "execution_count": 52,
   "id": "027ae886-68dd-4141-96c7-805a5450e1ef",
   "metadata": {
    "execution": {
     "iopub.execute_input": "2025-08-05T15:29:06.186049Z",
     "iopub.status.busy": "2025-08-05T15:29:06.184991Z",
     "iopub.status.idle": "2025-08-05T15:29:06.580875Z",
     "shell.execute_reply": "2025-08-05T15:29:06.579635Z"
    },
    "papermill": {
     "duration": 0.424404,
     "end_time": "2025-08-05T15:29:06.583137",
     "exception": false,
     "start_time": "2025-08-05T15:29:06.158733",
     "status": "completed"
    },
    "tags": []
   },
   "outputs": [],
   "source": [
    "from fairness_multiverse.conformal import build_cp_groups\n",
    "\n",
    "cp_groups_df = build_cp_groups(pred_sets, y_true, X_test.index, org_test)\n",
    "#needs universe_id and setting"
   ]
  },
  {
   "cell_type": "code",
   "execution_count": 53,
   "id": "6cbdab96-b2b2-45af-ad54-d0516db2e28d",
   "metadata": {
    "execution": {
     "iopub.execute_input": "2025-08-05T15:29:06.635477Z",
     "iopub.status.busy": "2025-08-05T15:29:06.634775Z",
     "iopub.status.idle": "2025-08-05T15:29:08.256145Z",
     "shell.execute_reply": "2025-08-05T15:29:08.255387Z"
    },
    "papermill": {
     "duration": 1.648844,
     "end_time": "2025-08-05T15:29:08.257617",
     "exception": false,
     "start_time": "2025-08-05T15:29:06.608773",
     "status": "completed"
    },
    "tags": []
   },
   "outputs": [],
   "source": [
    "# Define covered = 1 if true_label is in the predicted set\n",
    "cp_groups_df['covered'] = cp_groups_df.apply(\n",
    "    lambda r: int(r['true_label'] in r['pred_set']),\n",
    "    axis=1\n",
    ")"
   ]
  },
  {
   "cell_type": "code",
   "execution_count": 54,
   "id": "338ff529-1a6b-4b87-a931-8e4788d52aad",
   "metadata": {
    "execution": {
     "iopub.execute_input": "2025-08-05T15:29:08.314246Z",
     "iopub.status.busy": "2025-08-05T15:29:08.313781Z",
     "iopub.status.idle": "2025-08-05T15:29:08.319269Z",
     "shell.execute_reply": "2025-08-05T15:29:08.318288Z"
    },
    "papermill": {
     "duration": 0.039994,
     "end_time": "2025-08-05T15:29:08.321118",
     "exception": false,
     "start_time": "2025-08-05T15:29:08.281124",
     "status": "completed"
    },
    "tags": []
   },
   "outputs": [],
   "source": [
    "#cp_groups_df"
   ]
  },
  {
   "cell_type": "code",
   "execution_count": 55,
   "id": "90032e27-66df-4540-9169-4e89cfbaa758",
   "metadata": {
    "execution": {
     "iopub.execute_input": "2025-08-05T15:29:08.383384Z",
     "iopub.status.busy": "2025-08-05T15:29:08.383035Z",
     "iopub.status.idle": "2025-08-05T15:29:08.393613Z",
     "shell.execute_reply": "2025-08-05T15:29:08.392390Z"
    },
    "papermill": {
     "duration": 0.044284,
     "end_time": "2025-08-05T15:29:08.395418",
     "exception": false,
     "start_time": "2025-08-05T15:29:08.351134",
     "status": "completed"
    },
    "tags": []
   },
   "outputs": [],
   "source": [
    "subgroups = ['frau1','nongerman','nongerman_male','nongerman_female']\n",
    "\n",
    "# Conditional coverage for subgroup==1\n",
    "cond_coverage = {\n",
    "    g: cp_groups_df.loc[cp_groups_df[g]==1, 'covered'].mean()\n",
    "    for g in subgroups\n",
    "}"
   ]
  },
  {
   "cell_type": "code",
   "execution_count": 56,
   "id": "1e348fb1-b9c3-45bc-ba23-f016827a7e0d",
   "metadata": {
    "execution": {
     "iopub.execute_input": "2025-08-05T15:29:08.433009Z",
     "iopub.status.busy": "2025-08-05T15:29:08.432255Z",
     "iopub.status.idle": "2025-08-05T15:29:08.441316Z",
     "shell.execute_reply": "2025-08-05T15:29:08.440208Z"
    },
    "papermill": {
     "duration": 0.029365,
     "end_time": "2025-08-05T15:29:08.443203",
     "exception": false,
     "start_time": "2025-08-05T15:29:08.413838",
     "status": "completed"
    },
    "tags": []
   },
   "outputs": [
    {
     "data": {
      "text/plain": [
       "{'frau1': 0.9090713034101631,\n",
       " 'nongerman': 0.933363274013361,\n",
       " 'nongerman_male': 0.9462307484463659,\n",
       " 'nongerman_female': 0.9120715350223547}"
      ]
     },
     "execution_count": 56,
     "metadata": {},
     "output_type": "execute_result"
    }
   ],
   "source": [
    "cond_coverage"
   ]
  },
  {
   "cell_type": "code",
   "execution_count": 57,
   "id": "f5093324-c3dd-4d63-bc4c-8d945e5c8bbb",
   "metadata": {
    "execution": {
     "iopub.execute_input": "2025-08-05T15:29:08.497374Z",
     "iopub.status.busy": "2025-08-05T15:29:08.497037Z",
     "iopub.status.idle": "2025-08-05T15:29:08.505142Z",
     "shell.execute_reply": "2025-08-05T15:29:08.504157Z"
    },
    "papermill": {
     "duration": 0.034687,
     "end_time": "2025-08-05T15:29:08.510777",
     "exception": false,
     "start_time": "2025-08-05T15:29:08.476090",
     "status": "completed"
    },
    "tags": []
   },
   "outputs": [],
   "source": [
    "for subgroup, cov in cond_coverage.items():\n",
    "    cp_metrics_df[f\"cov_{subgroup}\"] = cov"
   ]
  },
  {
   "cell_type": "code",
   "execution_count": 58,
   "id": "6e872e10-dbe5-49e8-b554-5030c98ff75d",
   "metadata": {
    "execution": {
     "iopub.execute_input": "2025-08-05T15:29:08.558197Z",
     "iopub.status.busy": "2025-08-05T15:29:08.556982Z",
     "iopub.status.idle": "2025-08-05T15:29:08.579876Z",
     "shell.execute_reply": "2025-08-05T15:29:08.578598Z"
    },
    "papermill": {
     "duration": 0.052808,
     "end_time": "2025-08-05T15:29:08.582017",
     "exception": false,
     "start_time": "2025-08-05T15:29:08.529209",
     "status": "completed"
    },
    "tags": []
   },
   "outputs": [
    {
     "data": {
      "text/html": [
       "<div>\n",
       "<style scoped>\n",
       "    .dataframe tbody tr th:only-of-type {\n",
       "        vertical-align: middle;\n",
       "    }\n",
       "\n",
       "    .dataframe tbody tr th {\n",
       "        vertical-align: top;\n",
       "    }\n",
       "\n",
       "    .dataframe thead th {\n",
       "        text-align: right;\n",
       "    }\n",
       "</style>\n",
       "<table border=\"1\" class=\"dataframe\">\n",
       "  <thead>\n",
       "    <tr style=\"text-align: right;\">\n",
       "      <th></th>\n",
       "      <th>universe_id</th>\n",
       "      <th>universe_training_year</th>\n",
       "      <th>universe_training_size</th>\n",
       "      <th>universe_scale</th>\n",
       "      <th>universe_model</th>\n",
       "      <th>universe_exclude_features</th>\n",
       "      <th>universe_exclude_subgroups</th>\n",
       "      <th>q_hat</th>\n",
       "      <th>coverage</th>\n",
       "      <th>avg_size</th>\n",
       "      <th>cov_frau1</th>\n",
       "      <th>cov_nongerman</th>\n",
       "      <th>cov_nongerman_male</th>\n",
       "      <th>cov_nongerman_female</th>\n",
       "    </tr>\n",
       "  </thead>\n",
       "  <tbody>\n",
       "    <tr>\n",
       "      <th>0</th>\n",
       "      <td>8b0cacf7a5803504b8943b8ffefca288</td>\n",
       "      <td>2014</td>\n",
       "      <td>5k</td>\n",
       "      <td>do-not-scale</td>\n",
       "      <td>penalized_logreg</td>\n",
       "      <td>nationality</td>\n",
       "      <td>drop-non-german</td>\n",
       "      <td>0.667365</td>\n",
       "      <td>0.910612</td>\n",
       "      <td>1.210411</td>\n",
       "      <td>0.909071</td>\n",
       "      <td>0.933363</td>\n",
       "      <td>0.946231</td>\n",
       "      <td>0.912072</td>\n",
       "    </tr>\n",
       "  </tbody>\n",
       "</table>\n",
       "</div>"
      ],
      "text/plain": [
       "                        universe_id universe_training_year  \\\n",
       "0  8b0cacf7a5803504b8943b8ffefca288                   2014   \n",
       "\n",
       "  universe_training_size universe_scale    universe_model  \\\n",
       "0                     5k   do-not-scale  penalized_logreg   \n",
       "\n",
       "  universe_exclude_features universe_exclude_subgroups     q_hat  coverage  \\\n",
       "0               nationality            drop-non-german  0.667365  0.910612   \n",
       "\n",
       "   avg_size  cov_frau1  cov_nongerman  cov_nongerman_male  \\\n",
       "0  1.210411   0.909071       0.933363            0.946231   \n",
       "\n",
       "   cov_nongerman_female  \n",
       "0              0.912072  "
      ]
     },
     "execution_count": 58,
     "metadata": {},
     "output_type": "execute_result"
    }
   ],
   "source": [
    "cp_metrics_df"
   ]
  },
  {
   "cell_type": "markdown",
   "id": "33774451",
   "metadata": {
    "papermill": {
     "duration": 0.018541,
     "end_time": "2025-08-05T15:29:08.626022",
     "exception": false,
     "start_time": "2025-08-05T15:29:08.607481",
     "status": "completed"
    },
    "tags": []
   },
   "source": [
    "# (Fairness) Metrics"
   ]
  },
  {
   "cell_type": "code",
   "execution_count": 59,
   "id": "debc5d62",
   "metadata": {
    "execution": {
     "iopub.execute_input": "2025-08-05T15:29:08.674239Z",
     "iopub.status.busy": "2025-08-05T15:29:08.673921Z",
     "iopub.status.idle": "2025-08-05T15:29:08.693336Z",
     "shell.execute_reply": "2025-08-05T15:29:08.692199Z"
    },
    "papermill": {
     "duration": 0.04431,
     "end_time": "2025-08-05T15:29:08.694882",
     "exception": false,
     "start_time": "2025-08-05T15:29:08.650572",
     "status": "completed"
    },
    "tags": []
   },
   "outputs": [],
   "source": [
    "# do I need to include maxdeutsch1.missing?\n",
    "\n",
    "import numpy as np\n",
    "\n",
    "colname_to_bin = \"maxdeutsch1\"\n",
    "majority_value = org_train[colname_to_bin].mode()[0]\n",
    "\n",
    "org_test[\"majmin\"] = np.where(org_test[colname_to_bin] == majority_value, \"majority\", \"minority\")"
   ]
  },
  {
   "cell_type": "code",
   "execution_count": 60,
   "id": "06a50de5",
   "metadata": {
    "execution": {
     "iopub.execute_input": "2025-08-05T15:29:08.738747Z",
     "iopub.status.busy": "2025-08-05T15:29:08.737760Z",
     "iopub.status.idle": "2025-08-05T15:29:11.122673Z",
     "shell.execute_reply": "2025-08-05T15:29:11.121568Z"
    },
    "papermill": {
     "duration": 2.407356,
     "end_time": "2025-08-05T15:29:11.124934",
     "exception": false,
     "start_time": "2025-08-05T15:29:08.717578",
     "status": "completed"
    },
    "tags": []
   },
   "outputs": [],
   "source": [
    "example_universe = universe.copy()\n",
    "example_universe[\"cutoff\"] = example_universe[\"cutoff\"][0]\n",
    "example_universe[\"eval_fairness_grouping\"] = example_universe[\"eval_fairness_grouping\"][0]\n",
    "fairness_dict, metric_frame = universe_analysis.compute_metrics(\n",
    "    example_universe,\n",
    "    y_pred_prob=probs_test,\n",
    "    y_test=y_true,\n",
    "    org_test=org_test,\n",
    ")"
   ]
  },
  {
   "cell_type": "markdown",
   "id": "f95d4e02",
   "metadata": {
    "papermill": {
     "duration": 0.026479,
     "end_time": "2025-08-05T15:29:11.179469",
     "exception": false,
     "start_time": "2025-08-05T15:29:11.152990",
     "status": "completed"
    },
    "tags": []
   },
   "source": [
    "# Overall"
   ]
  },
  {
   "cell_type": "markdown",
   "id": "bdee4871",
   "metadata": {
    "papermill": {
     "duration": 0.024724,
     "end_time": "2025-08-05T15:29:11.229967",
     "exception": false,
     "start_time": "2025-08-05T15:29:11.205243",
     "status": "completed"
    },
    "tags": []
   },
   "source": [
    "Fairness\n",
    "Main fairness target: Equalized Odds. Seems to be a better fit than equal opportunity, since we're not only interested in Y = 1. Seems to be a better fit than demographic parity, since we also care about accuracy, not just equal distribution of preds.\n",
    "\n",
    "Pick column for computation of fairness metrics\n",
    "\n",
    "Performance\n",
    "Overall performance measures, most interesting in relation to the measures split by group below"
   ]
  },
  {
   "cell_type": "code",
   "execution_count": 61,
   "id": "c4e067c6",
   "metadata": {
    "execution": {
     "iopub.execute_input": "2025-08-05T15:29:11.284609Z",
     "iopub.status.busy": "2025-08-05T15:29:11.284090Z",
     "iopub.status.idle": "2025-08-05T15:29:11.292447Z",
     "shell.execute_reply": "2025-08-05T15:29:11.291308Z"
    },
    "papermill": {
     "duration": 0.038001,
     "end_time": "2025-08-05T15:29:11.294302",
     "exception": false,
     "start_time": "2025-08-05T15:29:11.256301",
     "status": "completed"
    },
    "tags": []
   },
   "outputs": [
    {
     "data": {
      "text/plain": [
       "accuracy                   0.217066\n",
       "balanced accuracy          0.532287\n",
       "f1                         0.238599\n",
       "precision                  0.136303\n",
       "false positive rate        0.891716\n",
       "false negative rate        0.043709\n",
       "selection rate             0.900000\n",
       "count                  89710.000000\n",
       "dtype: float64"
      ]
     },
     "execution_count": 61,
     "metadata": {},
     "output_type": "execute_result"
    }
   ],
   "source": [
    "metric_frame.overall"
   ]
  },
  {
   "cell_type": "markdown",
   "id": "e968fe9d",
   "metadata": {
    "papermill": {
     "duration": 0.025897,
     "end_time": "2025-08-05T15:29:11.346872",
     "exception": false,
     "start_time": "2025-08-05T15:29:11.320975",
     "status": "completed"
    },
    "tags": []
   },
   "source": [
    "By Group"
   ]
  },
  {
   "cell_type": "code",
   "execution_count": 62,
   "id": "ec325bce",
   "metadata": {
    "execution": {
     "iopub.execute_input": "2025-08-05T15:29:11.393283Z",
     "iopub.status.busy": "2025-08-05T15:29:11.392829Z",
     "iopub.status.idle": "2025-08-05T15:29:11.412242Z",
     "shell.execute_reply": "2025-08-05T15:29:11.411196Z"
    },
    "papermill": {
     "duration": 0.03971,
     "end_time": "2025-08-05T15:29:11.414440",
     "exception": false,
     "start_time": "2025-08-05T15:29:11.374730",
     "status": "completed"
    },
    "tags": []
   },
   "outputs": [
    {
     "data": {
      "text/html": [
       "<div>\n",
       "<style scoped>\n",
       "    .dataframe tbody tr th:only-of-type {\n",
       "        vertical-align: middle;\n",
       "    }\n",
       "\n",
       "    .dataframe tbody tr th {\n",
       "        vertical-align: top;\n",
       "    }\n",
       "\n",
       "    .dataframe thead th {\n",
       "        text-align: right;\n",
       "    }\n",
       "</style>\n",
       "<table border=\"1\" class=\"dataframe\">\n",
       "  <thead>\n",
       "    <tr style=\"text-align: right;\">\n",
       "      <th></th>\n",
       "      <th>accuracy</th>\n",
       "      <th>balanced accuracy</th>\n",
       "      <th>f1</th>\n",
       "      <th>precision</th>\n",
       "      <th>false positive rate</th>\n",
       "      <th>false negative rate</th>\n",
       "      <th>selection rate</th>\n",
       "      <th>count</th>\n",
       "    </tr>\n",
       "    <tr>\n",
       "      <th>majmin</th>\n",
       "      <th></th>\n",
       "      <th></th>\n",
       "      <th></th>\n",
       "      <th></th>\n",
       "      <th></th>\n",
       "      <th></th>\n",
       "      <th></th>\n",
       "      <th></th>\n",
       "    </tr>\n",
       "  </thead>\n",
       "  <tbody>\n",
       "    <tr>\n",
       "      <th>majority</th>\n",
       "      <td>0.238702</td>\n",
       "      <td>0.539691</td>\n",
       "      <td>0.247761</td>\n",
       "      <td>0.142484</td>\n",
       "      <td>0.869415</td>\n",
       "      <td>0.051204</td>\n",
       "      <td>0.879905</td>\n",
       "      <td>69170.0</td>\n",
       "    </tr>\n",
       "    <tr>\n",
       "      <th>minority</th>\n",
       "      <td>0.144206</td>\n",
       "      <td>0.509917</td>\n",
       "      <td>0.209764</td>\n",
       "      <td>0.117378</td>\n",
       "      <td>0.965386</td>\n",
       "      <td>0.014780</td>\n",
       "      <td>0.967673</td>\n",
       "      <td>20540.0</td>\n",
       "    </tr>\n",
       "  </tbody>\n",
       "</table>\n",
       "</div>"
      ],
      "text/plain": [
       "          accuracy  balanced accuracy        f1  precision  \\\n",
       "majmin                                                       \n",
       "majority  0.238702           0.539691  0.247761   0.142484   \n",
       "minority  0.144206           0.509917  0.209764   0.117378   \n",
       "\n",
       "          false positive rate  false negative rate  selection rate    count  \n",
       "majmin                                                                       \n",
       "majority             0.869415             0.051204        0.879905  69170.0  \n",
       "minority             0.965386             0.014780        0.967673  20540.0  "
      ]
     },
     "execution_count": 62,
     "metadata": {},
     "output_type": "execute_result"
    }
   ],
   "source": [
    "metric_frame.by_group"
   ]
  },
  {
   "cell_type": "code",
   "execution_count": 63,
   "id": "a9ddbe63",
   "metadata": {
    "execution": {
     "iopub.execute_input": "2025-08-05T15:29:11.462943Z",
     "iopub.status.busy": "2025-08-05T15:29:11.462296Z",
     "iopub.status.idle": "2025-08-05T15:29:14.028327Z",
     "shell.execute_reply": "2025-08-05T15:29:14.027398Z"
    },
    "papermill": {
     "duration": 2.591879,
     "end_time": "2025-08-05T15:29:14.029997",
     "exception": false,
     "start_time": "2025-08-05T15:29:11.438118",
     "status": "completed"
    },
    "tags": []
   },
   "outputs": [
    {
     "data": {
      "text/plain": [
       "array([[<Axes: title={'center': 'accuracy'}, xlabel='majmin'>,\n",
       "        <Axes: title={'center': 'balanced accuracy'}, xlabel='majmin'>,\n",
       "        <Axes: title={'center': 'f1'}, xlabel='majmin'>],\n",
       "       [<Axes: title={'center': 'precision'}, xlabel='majmin'>,\n",
       "        <Axes: title={'center': 'false positive rate'}, xlabel='majmin'>,\n",
       "        <Axes: title={'center': 'false negative rate'}, xlabel='majmin'>],\n",
       "       [<Axes: title={'center': 'selection rate'}, xlabel='majmin'>,\n",
       "        <Axes: title={'center': 'count'}, xlabel='majmin'>,\n",
       "        <Axes: xlabel='majmin'>]], dtype=object)"
      ]
     },
     "execution_count": 63,
     "metadata": {},
     "output_type": "execute_result"
    },
    {
     "data": {
      "image/png": "[encoded data removed]",
      "text/plain": [
       "<Figure size 1200x800 with 9 Axes>"
      ]
     },
     "metadata": {},
     "output_type": "display_data"
    }
   ],
   "source": [
    "# In a graphic\n",
    "metric_frame.by_group.plot.bar(\n",
    "    subplots=True,\n",
    "    layout=[3, 3],\n",
    "    legend=False,\n",
    "    figsize=[12, 8],\n",
    "    title=\"Show all metrics\",\n",
    ")"
   ]
  },
  {
   "cell_type": "markdown",
   "id": "f57a0bac",
   "metadata": {
    "papermill": {
     "duration": 0.027138,
     "end_time": "2025-08-05T15:29:14.085251",
     "exception": false,
     "start_time": "2025-08-05T15:29:14.058113",
     "status": "completed"
    },
    "tags": []
   },
   "source": [
    "# Final Output"
   ]
  },
  {
   "cell_type": "code",
   "execution_count": 64,
   "id": "96d280a3",
   "metadata": {
    "execution": {
     "iopub.execute_input": "2025-08-05T15:29:14.142349Z",
     "iopub.status.busy": "2025-08-05T15:29:14.141219Z",
     "iopub.status.idle": "2025-08-05T15:29:14.150347Z",
     "shell.execute_reply": "2025-08-05T15:29:14.149315Z"
    },
    "papermill": {
     "duration": 0.039254,
     "end_time": "2025-08-05T15:29:14.151915",
     "exception": false,
     "start_time": "2025-08-05T15:29:14.112661",
     "status": "completed"
    },
    "tags": []
   },
   "outputs": [
    {
     "data": {
      "text/plain": [
       "4"
      ]
     },
     "execution_count": 64,
     "metadata": {},
     "output_type": "execute_result"
    }
   ],
   "source": [
    "sub_universes = universe_analysis.generate_sub_universes()\n",
    "len(sub_universes)"
   ]
  },
  {
   "cell_type": "code",
   "execution_count": 65,
   "id": "92adf7ba",
   "metadata": {
    "execution": {
     "iopub.execute_input": "2025-08-05T15:29:14.206234Z",
     "iopub.status.busy": "2025-08-05T15:29:14.205144Z",
     "iopub.status.idle": "2025-08-05T15:29:14.211620Z",
     "shell.execute_reply": "2025-08-05T15:29:14.210707Z"
    },
    "papermill": {
     "duration": 0.03743,
     "end_time": "2025-08-05T15:29:14.213282",
     "exception": false,
     "start_time": "2025-08-05T15:29:14.175852",
     "status": "completed"
    },
    "tags": []
   },
   "outputs": [],
   "source": [
    "def filter_sub_universe_data(sub_universe, org_test):\n",
    "    # Keep all rows — no filtering\n",
    "    keep_rows_mask = np.ones(org_test.shape[0], dtype=bool)\n",
    "\n",
    "    print(f\"[INFO] Keeping all rows: {keep_rows_mask.sum()} rows retained.\")\n",
    "    return keep_rows_mask"
   ]
  },
  {
   "cell_type": "code",
   "execution_count": 66,
   "id": "4a759155",
   "metadata": {
    "execution": {
     "iopub.execute_input": "2025-08-05T15:29:14.261709Z",
     "iopub.status.busy": "2025-08-05T15:29:14.261100Z",
     "iopub.status.idle": "2025-08-05T15:29:22.755113Z",
     "shell.execute_reply": "2025-08-05T15:29:22.754415Z"
    },
    "papermill": {
     "duration": 8.519334,
     "end_time": "2025-08-05T15:29:22.756411",
     "exception": false,
     "start_time": "2025-08-05T15:29:14.237077",
     "status": "completed"
    },
    "tags": []
   },
   "outputs": [
    {
     "name": "stdout",
     "output_type": "stream",
     "text": [
      "Stopping execution_time clock.\n",
      "[INFO] Keeping all rows: 89710 rows retained.\n"
     ]
    },
    {
     "name": "stdout",
     "output_type": "stream",
     "text": [
      "[INFO] Keeping all rows: 89710 rows retained.\n"
     ]
    },
    {
     "name": "stdout",
     "output_type": "stream",
     "text": [
      "[INFO] Keeping all rows: 89710 rows retained.\n"
     ]
    },
    {
     "name": "stdout",
     "output_type": "stream",
     "text": [
      "[INFO] Keeping all rows: 89710 rows retained.\n"
     ]
    },
    {
     "data": {
      "text/html": [
       "<div>\n",
       "<style scoped>\n",
       "    .dataframe tbody tr th:only-of-type {\n",
       "        vertical-align: middle;\n",
       "    }\n",
       "\n",
       "    .dataframe tbody tr th {\n",
       "        vertical-align: top;\n",
       "    }\n",
       "\n",
       "    .dataframe thead th {\n",
       "        text-align: right;\n",
       "    }\n",
       "</style>\n",
       "<table border=\"1\" class=\"dataframe\">\n",
       "  <thead>\n",
       "    <tr style=\"text-align: right;\">\n",
       "      <th></th>\n",
       "      <th>run_no</th>\n",
       "      <th>universe_id</th>\n",
       "      <th>universe_settings</th>\n",
       "      <th>execution_time</th>\n",
       "      <th>test_size_n</th>\n",
       "      <th>test_size_frac</th>\n",
       "      <th>fair_main_equalized_odds_difference</th>\n",
       "      <th>fair_main_equalized_odds_ratio</th>\n",
       "      <th>fair_main_demographic_parity_difference</th>\n",
       "      <th>fair_main_demographic_parity_ratio</th>\n",
       "      <th>...</th>\n",
       "      <th>perf_grp_precision_0</th>\n",
       "      <th>perf_grp_precision_1</th>\n",
       "      <th>perf_grp_false positive rate_0</th>\n",
       "      <th>perf_grp_false positive rate_1</th>\n",
       "      <th>perf_grp_false negative rate_0</th>\n",
       "      <th>perf_grp_false negative rate_1</th>\n",
       "      <th>perf_grp_selection rate_0</th>\n",
       "      <th>perf_grp_selection rate_1</th>\n",
       "      <th>perf_grp_count_0</th>\n",
       "      <th>perf_grp_count_1</th>\n",
       "    </tr>\n",
       "  </thead>\n",
       "  <tbody>\n",
       "    <tr>\n",
       "      <th>0</th>\n",
       "      <td>15</td>\n",
       "      <td>8b0cacf7a5803504b8943b8ffefca288</td>\n",
       "      <td>{\"cutoff\": \"quantile_0.1\", \"eval_fairness_grou...</td>\n",
       "      <td>23.922637</td>\n",
       "      <td>89710</td>\n",
       "      <td>1.0</td>\n",
       "      <td>0.095971</td>\n",
       "      <td>0.900588</td>\n",
       "      <td>0.087768</td>\n",
       "      <td>0.909300</td>\n",
       "      <td>...</td>\n",
       "      <td>NaN</td>\n",
       "      <td>NaN</td>\n",
       "      <td>NaN</td>\n",
       "      <td>NaN</td>\n",
       "      <td>NaN</td>\n",
       "      <td>NaN</td>\n",
       "      <td>NaN</td>\n",
       "      <td>NaN</td>\n",
       "      <td>NaN</td>\n",
       "      <td>NaN</td>\n",
       "    </tr>\n",
       "    <tr>\n",
       "      <th>0</th>\n",
       "      <td>15</td>\n",
       "      <td>8b0cacf7a5803504b8943b8ffefca288</td>\n",
       "      <td>{\"cutoff\": \"quantile_0.1\", \"eval_fairness_grou...</td>\n",
       "      <td>23.922637</td>\n",
       "      <td>89710</td>\n",
       "      <td>1.0</td>\n",
       "      <td>0.095971</td>\n",
       "      <td>0.900588</td>\n",
       "      <td>0.087768</td>\n",
       "      <td>0.909300</td>\n",
       "      <td>...</td>\n",
       "      <td>0.117378</td>\n",
       "      <td>0.142484</td>\n",
       "      <td>0.965386</td>\n",
       "      <td>0.869415</td>\n",
       "      <td>0.014780</td>\n",
       "      <td>0.051204</td>\n",
       "      <td>0.967673</td>\n",
       "      <td>0.879905</td>\n",
       "      <td>20540.0</td>\n",
       "      <td>69170.0</td>\n",
       "    </tr>\n",
       "    <tr>\n",
       "      <th>0</th>\n",
       "      <td>15</td>\n",
       "      <td>8b0cacf7a5803504b8943b8ffefca288</td>\n",
       "      <td>{\"cutoff\": \"quantile_0.25\", \"eval_fairness_gro...</td>\n",
       "      <td>23.922637</td>\n",
       "      <td>89710</td>\n",
       "      <td>1.0</td>\n",
       "      <td>0.217508</td>\n",
       "      <td>0.757661</td>\n",
       "      <td>0.199285</td>\n",
       "      <td>0.779467</td>\n",
       "      <td>...</td>\n",
       "      <td>NaN</td>\n",
       "      <td>NaN</td>\n",
       "      <td>NaN</td>\n",
       "      <td>NaN</td>\n",
       "      <td>NaN</td>\n",
       "      <td>NaN</td>\n",
       "      <td>NaN</td>\n",
       "      <td>NaN</td>\n",
       "      <td>NaN</td>\n",
       "      <td>NaN</td>\n",
       "    </tr>\n",
       "    <tr>\n",
       "      <th>0</th>\n",
       "      <td>15</td>\n",
       "      <td>8b0cacf7a5803504b8943b8ffefca288</td>\n",
       "      <td>{\"cutoff\": \"quantile_0.25\", \"eval_fairness_gro...</td>\n",
       "      <td>23.922637</td>\n",
       "      <td>89710</td>\n",
       "      <td>1.0</td>\n",
       "      <td>0.217508</td>\n",
       "      <td>0.757661</td>\n",
       "      <td>0.199285</td>\n",
       "      <td>0.779467</td>\n",
       "      <td>...</td>\n",
       "      <td>0.121276</td>\n",
       "      <td>0.162127</td>\n",
       "      <td>0.897535</td>\n",
       "      <td>0.680027</td>\n",
       "      <td>0.049409</td>\n",
       "      <td>0.135777</td>\n",
       "      <td>0.903651</td>\n",
       "      <td>0.704366</td>\n",
       "      <td>20540.0</td>\n",
       "      <td>69170.0</td>\n",
       "    </tr>\n",
       "  </tbody>\n",
       "</table>\n",
       "<p>4 rows × 50 columns</p>\n",
       "</div>"
      ],
      "text/plain": [
       "  run_no                       universe_id  \\\n",
       "0     15  8b0cacf7a5803504b8943b8ffefca288   \n",
       "0     15  8b0cacf7a5803504b8943b8ffefca288   \n",
       "0     15  8b0cacf7a5803504b8943b8ffefca288   \n",
       "0     15  8b0cacf7a5803504b8943b8ffefca288   \n",
       "\n",
       "                                   universe_settings  execution_time  \\\n",
       "0  {\"cutoff\": \"quantile_0.1\", \"eval_fairness_grou...       23.922637   \n",
       "0  {\"cutoff\": \"quantile_0.1\", \"eval_fairness_grou...       23.922637   \n",
       "0  {\"cutoff\": \"quantile_0.25\", \"eval_fairness_gro...       23.922637   \n",
       "0  {\"cutoff\": \"quantile_0.25\", \"eval_fairness_gro...       23.922637   \n",
       "\n",
       "   test_size_n  test_size_frac  fair_main_equalized_odds_difference  \\\n",
       "0        89710             1.0                             0.095971   \n",
       "0        89710             1.0                             0.095971   \n",
       "0        89710             1.0                             0.217508   \n",
       "0        89710             1.0                             0.217508   \n",
       "\n",
       "   fair_main_equalized_odds_ratio  fair_main_demographic_parity_difference  \\\n",
       "0                        0.900588                                 0.087768   \n",
       "0                        0.900588                                 0.087768   \n",
       "0                        0.757661                                 0.199285   \n",
       "0                        0.757661                                 0.199285   \n",
       "\n",
       "   fair_main_demographic_parity_ratio  ...  perf_grp_precision_0  \\\n",
       "0                            0.909300  ...                   NaN   \n",
       "0                            0.909300  ...              0.117378   \n",
       "0                            0.779467  ...                   NaN   \n",
       "0                            0.779467  ...              0.121276   \n",
       "\n",
       "   perf_grp_precision_1  perf_grp_false positive rate_0  \\\n",
       "0                   NaN                             NaN   \n",
       "0              0.142484                        0.965386   \n",
       "0                   NaN                             NaN   \n",
       "0              0.162127                        0.897535   \n",
       "\n",
       "   perf_grp_false positive rate_1  perf_grp_false negative rate_0  \\\n",
       "0                             NaN                             NaN   \n",
       "0                        0.869415                        0.014780   \n",
       "0                             NaN                             NaN   \n",
       "0                        0.680027                        0.049409   \n",
       "\n",
       "   perf_grp_false negative rate_1  perf_grp_selection rate_0  \\\n",
       "0                             NaN                        NaN   \n",
       "0                        0.051204                   0.967673   \n",
       "0                             NaN                        NaN   \n",
       "0                        0.135777                   0.903651   \n",
       "\n",
       "   perf_grp_selection rate_1  perf_grp_count_0  perf_grp_count_1  \n",
       "0                        NaN               NaN               NaN  \n",
       "0                   0.879905           20540.0           69170.0  \n",
       "0                        NaN               NaN               NaN  \n",
       "0                   0.704366           20540.0           69170.0  \n",
       "\n",
       "[4 rows x 50 columns]"
      ]
     },
     "execution_count": 66,
     "metadata": {},
     "output_type": "execute_result"
    }
   ],
   "source": [
    "final_output = universe_analysis.generate_final_output(\n",
    "    y_pred_prob=probs_test,\n",
    "    y_test=y_true,\n",
    "    org_test=org_test,\n",
    "    filter_data=filter_sub_universe_data,\n",
    "    cp_metrics_df=cp_metrics_df,\n",
    "    save=True,\n",
    ")\n",
    "final_output"
   ]
  }
 ],
 "metadata": {
  "celltoolbar": "Tags",
  "kernelspec": {
   "display_name": "Python (CMA Fairness)",
   "language": "python",
   "name": "cma_fair_env"
  },
  "language_info": {
   "codemirror_mode": {
    "name": "ipython",
    "version": 3
   },
   "file_extension": ".py",
   "mimetype": "text/x-python",
   "name": "python",
   "nbconvert_exporter": "python",
   "pygments_lexer": "ipython3",
   "version": "3.10.12"
  },
  "papermill": {
   "default_parameters": {},
   "duration": 36.455984,
   "end_time": "2025-08-05T15:29:23.508989",
   "environment_variables": {},
   "exception": null,
   "input_path": "universe_analysis.ipynb",
   "output_path": "output/runs/15/notebooks/m_15-8b0cacf7a5803504b8943b8ffefca288.ipynb",
   "parameters": {
    "output_dir": "output",
    "run_no": "15",
    "seed": "2023",
    "universe": "{\"cutoff\": [\"quantile_0.1\", \"quantile_0.25\"], \"eval_fairness_grouping\": [\"majority-minority\", \"nationality-all\"], \"exclude_features\": \"nationality\", \"exclude_subgroups\": \"drop-non-german\", \"model\": \"penalized_logreg\", \"scale\": \"do-not-scale\", \"training_size\": \"5k\", \"training_year\": \"2014\"}",
    "universe_id": "8b0cacf7a5803504b8943b8ffefca288"
   },
   "start_time": "2025-08-05T15:28:47.053005",
   "version": "2.6.0"
  }
 },
 "nbformat": 4,
 "nbformat_minor": 5
}