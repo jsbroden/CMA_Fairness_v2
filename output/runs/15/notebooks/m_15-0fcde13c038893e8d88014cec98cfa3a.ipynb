{
 "cells": [
  {
   "cell_type": "code",
   "execution_count": 1,
   "id": "f159f837-637b-42ba-96b5-ec9a68c44524",
   "metadata": {
    "execution": {
     "iopub.execute_input": "2025-08-05T14:34:26.646807Z",
     "iopub.status.busy": "2025-08-05T14:34:26.646342Z",
     "iopub.status.idle": "2025-08-05T14:34:26.661281Z",
     "shell.execute_reply": "2025-08-05T14:34:26.660350Z"
    },
    "papermill": {
     "duration": 0.0409,
     "end_time": "2025-08-05T14:34:26.663107",
     "exception": false,
     "start_time": "2025-08-05T14:34:26.622207",
     "status": "completed"
    },
    "tags": []
   },
   "outputs": [
    {
     "name": "stdout",
     "output_type": "stream",
     "text": [
      "/dss/dsshome1/0C/ra93lal2/cma/CMA_Fairness_v2\n"
     ]
    },
    {
     "name": "stderr",
     "output_type": "stream",
     "text": [
      "/dss/dsshome1/0C/ra93lal2/.local/share/virtualenvs/CMA_Fairness_v2-3j10GkSs/lib/python3.10/site-packages/IPython/core/magics/osm.py:393: UserWarning: This is now an optional IPython functionality, using bookmarks requires you to install the `pickleshare` library.\n",
      "  bkms = self.shell.db.get('bookmarks', {})\n",
      "/dss/dsshome1/0C/ra93lal2/.local/share/virtualenvs/CMA_Fairness_v2-3j10GkSs/lib/python3.10/site-packages/IPython/core/magics/osm.py:417: UserWarning: This is now an optional IPython functionality, setting dhist requires you to install the `pickleshare` library.\n",
      "  self.shell.db['dhist'] = compress_dhist(dhist)[-100:]\n"
     ]
    }
   ],
   "source": [
    "%cd ~/cma/CMA_Fairness_v2"
   ]
  },
  {
   "cell_type": "markdown",
   "id": "de2603b9",
   "metadata": {
    "papermill": {
     "duration": 0.019156,
     "end_time": "2025-08-05T14:34:26.702596",
     "exception": false,
     "start_time": "2025-08-05T14:34:26.683440",
     "status": "completed"
    },
    "tags": []
   },
   "source": [
    "The following cell holds the definition of our parameters, these values can be overriden by rendering the with e.g. the following command:\n",
    "\n",
    "papermill -p alpha 0.2 -p ratio 0.3 universe_analysis.ipynb output/test_run.ipynb"
   ]
  },
  {
   "cell_type": "code",
   "execution_count": 2,
   "id": "a80968a0-40bb-4fa9-85ef-2d5eefb01975",
   "metadata": {
    "execution": {
     "iopub.execute_input": "2025-08-05T14:34:26.742731Z",
     "iopub.status.busy": "2025-08-05T14:34:26.742241Z",
     "iopub.status.idle": "2025-08-05T14:34:26.747979Z",
     "shell.execute_reply": "2025-08-05T14:34:26.746931Z"
    },
    "papermill": {
     "duration": 0.02841,
     "end_time": "2025-08-05T14:34:26.749979",
     "exception": false,
     "start_time": "2025-08-05T14:34:26.721569",
     "status": "completed"
    },
    "tags": []
   },
   "outputs": [
    {
     "name": "stdout",
     "output_type": "stream",
     "text": [
      "Current working directory: /dss/dsshome1/0C/ra93lal2/cma/CMA_Fairness_v2\n"
     ]
    }
   ],
   "source": [
    "import os\n",
    "print(\"Current working directory:\", os.getcwd())"
   ]
  },
  {
   "cell_type": "code",
   "execution_count": 3,
   "id": "2dce4c03",
   "metadata": {
    "execution": {
     "iopub.execute_input": "2025-08-05T14:34:26.790304Z",
     "iopub.status.busy": "2025-08-05T14:34:26.789428Z",
     "iopub.status.idle": "2025-08-05T14:34:26.796082Z",
     "shell.execute_reply": "2025-08-05T14:34:26.795078Z"
    },
    "papermill": {
     "duration": 0.028239,
     "end_time": "2025-08-05T14:34:26.797995",
     "exception": false,
     "start_time": "2025-08-05T14:34:26.769756",
     "status": "completed"
    },
    "tags": [
     "parameters"
    ]
   },
   "outputs": [],
   "source": [
    "run_no = 0\n",
    "universe_id = \"test\"\n",
    "universe = {\n",
    "    \"training_size\": \"25k\", # \"25k\", \"5k\", \"1k\"\n",
    "    \"training_year\": \"2014\", # \"2014\", \"2012_14\", \"2010_14\"\n",
    "    \"scale\": \"scale\", # \"scale\", \"do-not-scale\",\n",
    "    #\"stratify_split\": \"target\", # \"none\", \"target\", \"protected-attribute\", \"both\",\n",
    "    \"model\": \"elasticnet\", # \"logreg\", \"penalized_logreg\", \"rf\", \"gbm\", \"elasticnet\"\n",
    "    \"cutoff\": [\"quantile_0.15\", \"quantile_0.30\"],\n",
    "    \"exclude_features\": \"age\", # \"none\", \"nationality\", \"sex\", \"nationality-sex\", \"age\"\n",
    "    \"exclude_subgroups\": \"keep-all\", # \"keep-all\", \"drop-non-german\"\n",
    "    \"eval_fairness_grouping\": [\"majority-minority\", \"nationality-all\"]\n",
    "}\n",
    "\n",
    "output_dir=\"./output\"\n",
    "seed=0"
   ]
  },
  {
   "cell_type": "code",
   "execution_count": 4,
   "id": "318f32cc",
   "metadata": {
    "execution": {
     "iopub.execute_input": "2025-08-05T14:34:26.841121Z",
     "iopub.status.busy": "2025-08-05T14:34:26.840266Z",
     "iopub.status.idle": "2025-08-05T14:34:26.845918Z",
     "shell.execute_reply": "2025-08-05T14:34:26.844772Z"
    },
    "papermill": {
     "duration": 0.029025,
     "end_time": "2025-08-05T14:34:26.847855",
     "exception": false,
     "start_time": "2025-08-05T14:34:26.818830",
     "status": "completed"
    },
    "tags": [
     "injected-parameters"
    ]
   },
   "outputs": [],
   "source": [
    "# Parameters\n",
    "universe_id = \"0fcde13c038893e8d88014cec98cfa3a\"\n",
    "run_no = \"15\"\n",
    "universe = \"{\\\"cutoff\\\": [\\\"quantile_0.1\\\", \\\"quantile_0.25\\\"], \\\"eval_fairness_grouping\\\": [\\\"majority-minority\\\", \\\"nationality-all\\\"], \\\"exclude_features\\\": \\\"sex\\\", \\\"exclude_subgroups\\\": \\\"keep-all\\\", \\\"model\\\": \\\"rf\\\", \\\"scale\\\": \\\"scale\\\", \\\"training_size\\\": \\\"25k\\\", \\\"training_year\\\": \\\"2014\\\"}\"\n",
    "output_dir = \"output\"\n",
    "seed = \"2023\"\n"
   ]
  },
  {
   "cell_type": "code",
   "execution_count": 5,
   "id": "1650acaf",
   "metadata": {
    "execution": {
     "iopub.execute_input": "2025-08-05T14:34:26.889022Z",
     "iopub.status.busy": "2025-08-05T14:34:26.888202Z",
     "iopub.status.idle": "2025-08-05T14:34:26.893498Z",
     "shell.execute_reply": "2025-08-05T14:34:26.892448Z"
    },
    "papermill": {
     "duration": 0.028143,
     "end_time": "2025-08-05T14:34:26.895445",
     "exception": false,
     "start_time": "2025-08-05T14:34:26.867302",
     "status": "completed"
    },
    "tags": []
   },
   "outputs": [],
   "source": [
    "import json\n",
    "# Parse universe into dict if it is passed as a string\n",
    "if isinstance(universe, str):\n",
    "    universe = json.loads(universe)"
   ]
  },
  {
   "cell_type": "code",
   "execution_count": 6,
   "id": "16620c48",
   "metadata": {
    "execution": {
     "iopub.execute_input": "2025-08-05T14:34:26.936211Z",
     "iopub.status.busy": "2025-08-05T14:34:26.935083Z",
     "iopub.status.idle": "2025-08-05T14:34:26.979834Z",
     "shell.execute_reply": "2025-08-05T14:34:26.978818Z"
    },
    "papermill": {
     "duration": 0.066517,
     "end_time": "2025-08-05T14:34:26.981936",
     "exception": false,
     "start_time": "2025-08-05T14:34:26.915419",
     "status": "completed"
    },
    "tags": []
   },
   "outputs": [],
   "source": [
    "# Auto-reload the custom package\n",
    "%load_ext autoreload\n",
    "%autoreload 1\n",
    "%aimport fairness_multiverse"
   ]
  },
  {
   "cell_type": "code",
   "execution_count": 7,
   "id": "01c5c9f3",
   "metadata": {
    "execution": {
     "iopub.execute_input": "2025-08-05T14:34:27.028207Z",
     "iopub.status.busy": "2025-08-05T14:34:27.027573Z",
     "iopub.status.idle": "2025-08-05T14:34:29.000805Z",
     "shell.execute_reply": "2025-08-05T14:34:28.999754Z"
    },
    "papermill": {
     "duration": 1.997835,
     "end_time": "2025-08-05T14:34:29.002902",
     "exception": false,
     "start_time": "2025-08-05T14:34:27.005067",
     "status": "completed"
    },
    "tags": []
   },
   "outputs": [],
   "source": [
    "from fairness_multiverse.universe import UniverseAnalysis\n",
    "\n",
    "universe_analysis = UniverseAnalysis(\n",
    "    run_no = run_no,\n",
    "    universe_id = universe_id,\n",
    "    universe = universe,\n",
    "    output_dir=output_dir,\n",
    ")"
   ]
  },
  {
   "cell_type": "code",
   "execution_count": 8,
   "id": "106241f5",
   "metadata": {
    "execution": {
     "iopub.execute_input": "2025-08-05T14:34:29.052358Z",
     "iopub.status.busy": "2025-08-05T14:34:29.051382Z",
     "iopub.status.idle": "2025-08-05T14:34:29.058382Z",
     "shell.execute_reply": "2025-08-05T14:34:29.057357Z"
    },
    "papermill": {
     "duration": 0.033226,
     "end_time": "2025-08-05T14:34:29.060225",
     "exception": false,
     "start_time": "2025-08-05T14:34:29.026999",
     "status": "completed"
    },
    "tags": []
   },
   "outputs": [
    {
     "name": "stdout",
     "output_type": "stream",
     "text": [
      "Using Seed: 2023\n"
     ]
    }
   ],
   "source": [
    "import numpy as np\n",
    "parsed_seed = int(seed)\n",
    "np.random.seed(parsed_seed)\n",
    "print(f\"Using Seed: {parsed_seed}\")"
   ]
  },
  {
   "cell_type": "markdown",
   "id": "e0ebdc57",
   "metadata": {
    "papermill": {
     "duration": 0.019446,
     "end_time": "2025-08-05T14:34:29.100543",
     "exception": false,
     "start_time": "2025-08-05T14:34:29.081097",
     "status": "completed"
    },
    "tags": []
   },
   "source": [
    "# Loading Data"
   ]
  },
  {
   "cell_type": "markdown",
   "id": "681925a3",
   "metadata": {
    "papermill": {
     "duration": 0.02011,
     "end_time": "2025-08-05T14:34:29.141196",
     "exception": false,
     "start_time": "2025-08-05T14:34:29.121086",
     "status": "completed"
    },
    "tags": []
   },
   "source": [
    "Load siab_train, siab_test, siab_calib and/or \n",
    "load siab_train_features, siab_train_labels"
   ]
  },
  {
   "cell_type": "code",
   "execution_count": 9,
   "id": "f0496b8a",
   "metadata": {
    "execution": {
     "iopub.execute_input": "2025-08-05T14:34:29.183058Z",
     "iopub.status.busy": "2025-08-05T14:34:29.182158Z",
     "iopub.status.idle": "2025-08-05T14:34:41.767904Z",
     "shell.execute_reply": "2025-08-05T14:34:41.766672Z"
    },
    "papermill": {
     "duration": 12.607973,
     "end_time": "2025-08-05T14:34:41.769604",
     "exception": false,
     "start_time": "2025-08-05T14:34:29.161631",
     "status": "completed"
    },
    "tags": []
   },
   "outputs": [
    {
     "name": "stdout",
     "output_type": "stream",
     "text": [
      "Loading SIAB data from cache: data/siab_cached.csv.gz\n"
     ]
    },
    {
     "name": "stdout",
     "output_type": "stream",
     "text": [
      "(643690, 164)\n"
     ]
    }
   ],
   "source": [
    "from pathlib import Path\n",
    "import pandas as pd\n",
    "\n",
    "# File paths\n",
    "raw_file = Path(\"data/raw/siab.csv\")\n",
    "cache_file = Path(\"data/siab_cached.csv.gz\")\n",
    "\n",
    "# Ensure cache directory exists\n",
    "cache_file.parent.mkdir(parents=True, exist_ok=True)\n",
    "\n",
    "# Load with simple caching\n",
    "if cache_file.exists():\n",
    "    print(f\"Loading SIAB data from cache: {cache_file}\")\n",
    "    siab = pd.read_csv(cache_file, compression='gzip')\n",
    "else:\n",
    "    print(f\"Cache not found. Reading raw SIAB data: {raw_file}\")\n",
    "    siab = pd.read_csv(raw_file)\n",
    "    siab.to_csv(cache_file, index=False, compression='gzip')\n",
    "    print(f\"Cached SIAB data to: {cache_file}\")\n",
    "\n",
    "# Now use `siab` DataFrame as needed\n",
    "print(siab.shape)"
   ]
  },
  {
   "cell_type": "code",
   "execution_count": 10,
   "id": "db0ca512-5f53-4dba-abdb-a2888bca41ba",
   "metadata": {
    "execution": {
     "iopub.execute_input": "2025-08-05T14:34:41.815570Z",
     "iopub.status.busy": "2025-08-05T14:34:41.815041Z",
     "iopub.status.idle": "2025-08-05T14:34:41.820846Z",
     "shell.execute_reply": "2025-08-05T14:34:41.819905Z"
    },
    "papermill": {
     "duration": 0.029642,
     "end_time": "2025-08-05T14:34:41.822709",
     "exception": false,
     "start_time": "2025-08-05T14:34:41.793067",
     "status": "completed"
    },
    "tags": []
   },
   "outputs": [],
   "source": [
    "#siab"
   ]
  },
  {
   "cell_type": "code",
   "execution_count": 11,
   "id": "a0edb063",
   "metadata": {
    "execution": {
     "iopub.execute_input": "2025-08-05T14:34:41.866174Z",
     "iopub.status.busy": "2025-08-05T14:34:41.865467Z",
     "iopub.status.idle": "2025-08-05T14:34:41.870892Z",
     "shell.execute_reply": "2025-08-05T14:34:41.869935Z"
    },
    "papermill": {
     "duration": 0.028786,
     "end_time": "2025-08-05T14:34:41.872788",
     "exception": false,
     "start_time": "2025-08-05T14:34:41.844002",
     "status": "completed"
    },
    "tags": []
   },
   "outputs": [],
   "source": [
    "#import pandas as pd\n",
    "#\n",
    "#X_train = pd.read_csv(\"./data/X_train.csv\")\n",
    "#y_train = pd.read_csv(\"./data/y_train.csv\")"
   ]
  },
  {
   "cell_type": "code",
   "execution_count": 12,
   "id": "63d08085",
   "metadata": {
    "execution": {
     "iopub.execute_input": "2025-08-05T14:34:41.916216Z",
     "iopub.status.busy": "2025-08-05T14:34:41.915527Z",
     "iopub.status.idle": "2025-08-05T14:34:41.920662Z",
     "shell.execute_reply": "2025-08-05T14:34:41.919620Z"
    },
    "papermill": {
     "duration": 0.028509,
     "end_time": "2025-08-05T14:34:41.922621",
     "exception": false,
     "start_time": "2025-08-05T14:34:41.894112",
     "status": "completed"
    },
    "tags": []
   },
   "outputs": [],
   "source": [
    "#X_test = pd.read_csv(\"./data/X_test.csv\")\n",
    "#y_true = pd.read_csv(\"./data/y_test.csv\")"
   ]
  },
  {
   "cell_type": "code",
   "execution_count": 13,
   "id": "98a8d0fa-1d3d-4ed8-bb2c-281470e24add",
   "metadata": {
    "execution": {
     "iopub.execute_input": "2025-08-05T14:34:41.966663Z",
     "iopub.status.busy": "2025-08-05T14:34:41.965672Z",
     "iopub.status.idle": "2025-08-05T14:34:41.970915Z",
     "shell.execute_reply": "2025-08-05T14:34:41.969825Z"
    },
    "papermill": {
     "duration": 0.028978,
     "end_time": "2025-08-05T14:34:41.972725",
     "exception": false,
     "start_time": "2025-08-05T14:34:41.943747",
     "status": "completed"
    },
    "tags": []
   },
   "outputs": [],
   "source": [
    "# Calibration data for conformal\n",
    "#X_calib = pd.read_csv(\"./data/X_calib.csv\")\n",
    "#y_calib = pd.read_csv(\"./data/y_calib.csv\")"
   ]
  },
  {
   "cell_type": "markdown",
   "id": "997051c5-15bd-4b69-9786-c3001a3ce484",
   "metadata": {
    "papermill": {
     "duration": 0.020575,
     "end_time": "2025-08-05T14:34:42.014591",
     "exception": false,
     "start_time": "2025-08-05T14:34:41.994016",
     "status": "completed"
    },
    "tags": []
   },
   "source": [
    "# Splitting Data and Setting Training Data Size"
   ]
  },
  {
   "cell_type": "code",
   "execution_count": 14,
   "id": "e993b61f-042d-41a6-8c81-f55681f86335",
   "metadata": {
    "execution": {
     "iopub.execute_input": "2025-08-05T14:34:42.058677Z",
     "iopub.status.busy": "2025-08-05T14:34:42.057764Z",
     "iopub.status.idle": "2025-08-05T14:34:42.071117Z",
     "shell.execute_reply": "2025-08-05T14:34:42.070073Z"
    },
    "papermill": {
     "duration": 0.037633,
     "end_time": "2025-08-05T14:34:42.073066",
     "exception": false,
     "start_time": "2025-08-05T14:34:42.035433",
     "status": "completed"
    },
    "tags": []
   },
   "outputs": [],
   "source": [
    "def sample_by_year_size(df,\n",
    "                        training_year: str,\n",
    "                        training_size: str,\n",
    "                        random_state: int = 42):\n",
    "    # --- parse training_year into a list of int years ---\n",
    "    if \"_\" in training_year:\n",
    "        start_str, end_str = training_year.split(\"_\", 1)\n",
    "        start = int(start_str)\n",
    "        end   = int(end_str) if len(end_str) == 4 else (int(end_str) + (start // 100)*100)\n",
    "        years = list(range(start, end + 1))\n",
    "    else:\n",
    "        years = [int(training_year)]\n",
    "\n",
    "    df = df[df[\"year\"].isin(years)].reset_index(drop=True)\n",
    "\n",
    "    # --- map training_size to total number of samples ---\n",
    "    total_map = {\"25k\": 25_000, \"5k\": 5_000, \"1k\": 1_000}\n",
    "    if training_size not in total_map:\n",
    "        return df  # e.g. \"all\"\n",
    "\n",
    "    total_samples = total_map[training_size]\n",
    "    n_years       = len(years)\n",
    "    base          = total_samples // n_years\n",
    "    remainder     = total_samples % n_years\n",
    "\n",
    "    # --- build a dict: year -> how many to sample ---\n",
    "    # give +1 to the first `remainder` years in ascending order\n",
    "    quotas = {\n",
    "        year: base + (1 if idx < remainder else 0)\n",
    "        for idx, year in enumerate(sorted(years))\n",
    "    }\n",
    "\n",
    "    # --- sample per‐year according to the quota dict ---\n",
    "    sampled = (\n",
    "        df\n",
    "        .groupby(\"year\", group_keys=False)\n",
    "        .apply(lambda grp: grp.sample(\n",
    "            n=min(len(grp), quotas[grp.name]),\n",
    "            random_state=random_state))\n",
    "        .reset_index(drop=True)\n",
    "    )\n",
    "\n",
    "    return sampled"
   ]
  },
  {
   "cell_type": "code",
   "execution_count": 15,
   "id": "c0ccd338-0e02-41f3-a09d-f56f9266e3fb",
   "metadata": {
    "execution": {
     "iopub.execute_input": "2025-08-05T14:34:42.117431Z",
     "iopub.status.busy": "2025-08-05T14:34:42.116726Z",
     "iopub.status.idle": "2025-08-05T14:34:42.122235Z",
     "shell.execute_reply": "2025-08-05T14:34:42.121119Z"
    },
    "papermill": {
     "duration": 0.02924,
     "end_time": "2025-08-05T14:34:42.124020",
     "exception": false,
     "start_time": "2025-08-05T14:34:42.094780",
     "status": "completed"
    },
    "tags": []
   },
   "outputs": [],
   "source": [
    "#universe[\"training_size\"]"
   ]
  },
  {
   "cell_type": "code",
   "execution_count": 16,
   "id": "ca707fd7-8047-4acd-bfa5-66248fbbf8e6",
   "metadata": {
    "execution": {
     "iopub.execute_input": "2025-08-05T14:34:42.167828Z",
     "iopub.status.busy": "2025-08-05T14:34:42.167156Z",
     "iopub.status.idle": "2025-08-05T14:34:42.172339Z",
     "shell.execute_reply": "2025-08-05T14:34:42.171239Z"
    },
    "papermill": {
     "duration": 0.02894,
     "end_time": "2025-08-05T14:34:42.174267",
     "exception": false,
     "start_time": "2025-08-05T14:34:42.145327",
     "status": "completed"
    },
    "tags": []
   },
   "outputs": [],
   "source": [
    "#universe[\"training_year\"]"
   ]
  },
  {
   "cell_type": "code",
   "execution_count": 17,
   "id": "aea9c6ef-6f46-42c8-85eb-5a62025c1508",
   "metadata": {
    "execution": {
     "iopub.execute_input": "2025-08-05T14:34:42.219256Z",
     "iopub.status.busy": "2025-08-05T14:34:42.218385Z",
     "iopub.status.idle": "2025-08-05T14:34:42.502169Z",
     "shell.execute_reply": "2025-08-05T14:34:42.501188Z"
    },
    "papermill": {
     "duration": 0.308055,
     "end_time": "2025-08-05T14:34:42.504086",
     "exception": false,
     "start_time": "2025-08-05T14:34:42.196031",
     "status": "completed"
    },
    "tags": []
   },
   "outputs": [],
   "source": [
    "siab_train = sample_by_year_size(siab,\n",
    "                               training_year=universe[\"training_year\"],\n",
    "                               training_size=universe[\"training_size\"])"
   ]
  },
  {
   "cell_type": "code",
   "execution_count": 18,
   "id": "8d3afb32-789d-442c-8d5d-9f5aa8dd2eed",
   "metadata": {
    "execution": {
     "iopub.execute_input": "2025-08-05T14:34:42.548222Z",
     "iopub.status.busy": "2025-08-05T14:34:42.547722Z",
     "iopub.status.idle": "2025-08-05T14:34:42.552917Z",
     "shell.execute_reply": "2025-08-05T14:34:42.551916Z"
    },
    "papermill": {
     "duration": 0.029326,
     "end_time": "2025-08-05T14:34:42.554832",
     "exception": false,
     "start_time": "2025-08-05T14:34:42.525506",
     "status": "completed"
    },
    "tags": []
   },
   "outputs": [],
   "source": [
    "#siab_train.shape"
   ]
  },
  {
   "cell_type": "code",
   "execution_count": 19,
   "id": "d582db68-1a4c-47fb-84fc-08518dc1975a",
   "metadata": {
    "execution": {
     "iopub.execute_input": "2025-08-05T14:34:42.602301Z",
     "iopub.status.busy": "2025-08-05T14:34:42.601806Z",
     "iopub.status.idle": "2025-08-05T14:34:42.607361Z",
     "shell.execute_reply": "2025-08-05T14:34:42.606155Z"
    },
    "papermill": {
     "duration": 0.03127,
     "end_time": "2025-08-05T14:34:42.609385",
     "exception": false,
     "start_time": "2025-08-05T14:34:42.578115",
     "status": "completed"
    },
    "tags": []
   },
   "outputs": [],
   "source": [
    "#display(siab_train.groupby(\"year\").size())"
   ]
  },
  {
   "cell_type": "code",
   "execution_count": 20,
   "id": "a561edb4-d032-42cb-8256-22eac1111c64",
   "metadata": {
    "execution": {
     "iopub.execute_input": "2025-08-05T14:34:42.653876Z",
     "iopub.status.busy": "2025-08-05T14:34:42.653437Z",
     "iopub.status.idle": "2025-08-05T14:34:42.872021Z",
     "shell.execute_reply": "2025-08-05T14:34:42.871046Z"
    },
    "papermill": {
     "duration": 0.24252,
     "end_time": "2025-08-05T14:34:42.873942",
     "exception": false,
     "start_time": "2025-08-05T14:34:42.631422",
     "status": "completed"
    },
    "tags": []
   },
   "outputs": [],
   "source": [
    "#siab_train = siab_s[siab_s.year < 2015]\n",
    "siab_calib = siab[siab.year == 2015]\n",
    "siab_test = siab[siab.year == 2016]"
   ]
  },
  {
   "cell_type": "code",
   "execution_count": 21,
   "id": "472de16f-c3db-4916-846b-1f0de9cf1746",
   "metadata": {
    "execution": {
     "iopub.execute_input": "2025-08-05T14:34:42.919416Z",
     "iopub.status.busy": "2025-08-05T14:34:42.918527Z",
     "iopub.status.idle": "2025-08-05T14:34:42.937833Z",
     "shell.execute_reply": "2025-08-05T14:34:42.936574Z"
    },
    "papermill": {
     "duration": 0.043951,
     "end_time": "2025-08-05T14:34:42.939852",
     "exception": false,
     "start_time": "2025-08-05T14:34:42.895901",
     "status": "completed"
    },
    "tags": []
   },
   "outputs": [],
   "source": [
    "X_train = siab_train.iloc[:,4:164]\n",
    "y_train = siab_train.iloc[:, [3]]"
   ]
  },
  {
   "cell_type": "code",
   "execution_count": 22,
   "id": "828c96af-f43a-4ed6-ba47-8ac73a47d56c",
   "metadata": {
    "execution": {
     "iopub.execute_input": "2025-08-05T14:34:42.985224Z",
     "iopub.status.busy": "2025-08-05T14:34:42.984382Z",
     "iopub.status.idle": "2025-08-05T14:34:43.036331Z",
     "shell.execute_reply": "2025-08-05T14:34:43.035172Z"
    },
    "papermill": {
     "duration": 0.076861,
     "end_time": "2025-08-05T14:34:43.039018",
     "exception": false,
     "start_time": "2025-08-05T14:34:42.962157",
     "status": "completed"
    },
    "tags": []
   },
   "outputs": [],
   "source": [
    "X_calib = siab_calib.iloc[:,4:164]\n",
    "y_calib = siab_calib.iloc[:, [3]]"
   ]
  },
  {
   "cell_type": "code",
   "execution_count": 23,
   "id": "c34be9c3-6bd6-476e-acd3-845840e303be",
   "metadata": {
    "execution": {
     "iopub.execute_input": "2025-08-05T14:34:43.084927Z",
     "iopub.status.busy": "2025-08-05T14:34:43.084019Z",
     "iopub.status.idle": "2025-08-05T14:34:43.137327Z",
     "shell.execute_reply": "2025-08-05T14:34:43.136240Z"
    },
    "papermill": {
     "duration": 0.078163,
     "end_time": "2025-08-05T14:34:43.139724",
     "exception": false,
     "start_time": "2025-08-05T14:34:43.061561",
     "status": "completed"
    },
    "tags": []
   },
   "outputs": [],
   "source": [
    "X_test = siab_test.iloc[:,4:164]\n",
    "y_true = siab_test.iloc[:, [3]]"
   ]
  },
  {
   "cell_type": "markdown",
   "id": "9901737e-04df-44f0-9100-f5ad144ed040",
   "metadata": {
    "papermill": {
     "duration": 0.021188,
     "end_time": "2025-08-05T14:34:43.183582",
     "exception": false,
     "start_time": "2025-08-05T14:34:43.162394",
     "status": "completed"
    },
    "tags": []
   },
   "source": [
    "# Splitting Data and Setting Training Data Size OLD VERSION"
   ]
  },
  {
   "cell_type": "code",
   "execution_count": 24,
   "id": "acbc8f7d-8fc8-4e86-8c59-5dcb0f58384b",
   "metadata": {
    "execution": {
     "iopub.execute_input": "2025-08-05T14:34:43.228157Z",
     "iopub.status.busy": "2025-08-05T14:34:43.227474Z",
     "iopub.status.idle": "2025-08-05T14:34:43.233016Z",
     "shell.execute_reply": "2025-08-05T14:34:43.232053Z"
    },
    "papermill": {
     "duration": 0.030172,
     "end_time": "2025-08-05T14:34:43.235022",
     "exception": false,
     "start_time": "2025-08-05T14:34:43.204850",
     "status": "completed"
    },
    "tags": []
   },
   "outputs": [],
   "source": [
    "#def sample_by_year(df, training_size, random_state=42):\n",
    "#    if training_size == \"2014\":\n",
    "#        return df[df[\"year\"] == 2014].reset_index(drop=True)\n",
    "#    \n",
    "#    size_map = {\n",
    "#        \"25k\": 5000,\n",
    "#        \"5k\": 1000,\n",
    "#        \"1k\": 200\n",
    "#    }\n",
    "#\n",
    "#    if training_size not in size_map:\n",
    "#        return df.reset_index(drop=True)  # use all data\n",
    "#\n",
    "#    n_per_year = size_map[training_size]\n",
    "#    grouped = df.groupby(\"year\")\n",
    "#    sampled = grouped.apply(lambda x: x.sample(n=min(n_per_year, len(x)), random_state=random_state))\n",
    "#    return sampled.reset_index(drop=True)"
   ]
  },
  {
   "cell_type": "code",
   "execution_count": 25,
   "id": "6d931f52-beaf-43ff-9e78-9d44a448d54e",
   "metadata": {
    "execution": {
     "iopub.execute_input": "2025-08-05T14:34:43.280490Z",
     "iopub.status.busy": "2025-08-05T14:34:43.280003Z",
     "iopub.status.idle": "2025-08-05T14:34:43.285281Z",
     "shell.execute_reply": "2025-08-05T14:34:43.284261Z"
    },
    "papermill": {
     "duration": 0.030071,
     "end_time": "2025-08-05T14:34:43.287358",
     "exception": false,
     "start_time": "2025-08-05T14:34:43.257287",
     "status": "completed"
    },
    "tags": []
   },
   "outputs": [],
   "source": [
    "#siab_s = sample_by_year(siab, universe[\"training_size\"])"
   ]
  },
  {
   "cell_type": "code",
   "execution_count": 26,
   "id": "5db0a40e-a4e2-4920-be85-b12ae061d70d",
   "metadata": {
    "execution": {
     "iopub.execute_input": "2025-08-05T14:34:43.333273Z",
     "iopub.status.busy": "2025-08-05T14:34:43.332571Z",
     "iopub.status.idle": "2025-08-05T14:34:43.337933Z",
     "shell.execute_reply": "2025-08-05T14:34:43.336886Z"
    },
    "papermill": {
     "duration": 0.030165,
     "end_time": "2025-08-05T14:34:43.339759",
     "exception": false,
     "start_time": "2025-08-05T14:34:43.309594",
     "status": "completed"
    },
    "tags": []
   },
   "outputs": [],
   "source": [
    "#display(siab_s.groupby(\"year\").size())"
   ]
  },
  {
   "cell_type": "code",
   "execution_count": 27,
   "id": "e6c733c5",
   "metadata": {
    "execution": {
     "iopub.execute_input": "2025-08-05T14:34:43.385763Z",
     "iopub.status.busy": "2025-08-05T14:34:43.384804Z",
     "iopub.status.idle": "2025-08-05T14:34:43.498043Z",
     "shell.execute_reply": "2025-08-05T14:34:43.496942Z"
    },
    "papermill": {
     "duration": 0.137752,
     "end_time": "2025-08-05T14:34:43.500040",
     "exception": false,
     "start_time": "2025-08-05T14:34:43.362288",
     "status": "completed"
    },
    "tags": []
   },
   "outputs": [],
   "source": [
    "# Auxiliary data needed downstream in the pipeline\n",
    "\n",
    "org_train = X_train.copy()\n",
    "org_test = X_test.copy()\n",
    "org_calib = X_calib.copy()"
   ]
  },
  {
   "cell_type": "code",
   "execution_count": 28,
   "id": "1466abac-c6da-4492-a62f-4240ae3783af",
   "metadata": {
    "execution": {
     "iopub.execute_input": "2025-08-05T14:34:43.546410Z",
     "iopub.status.busy": "2025-08-05T14:34:43.545439Z",
     "iopub.status.idle": "2025-08-05T14:34:43.551438Z",
     "shell.execute_reply": "2025-08-05T14:34:43.550495Z"
    },
    "papermill": {
     "duration": 0.030629,
     "end_time": "2025-08-05T14:34:43.553251",
     "exception": false,
     "start_time": "2025-08-05T14:34:43.522622",
     "status": "completed"
    },
    "tags": []
   },
   "outputs": [],
   "source": [
    "# put in other script?\n",
    "# Group sizes\n",
    "\n",
    "#def calculate_percentages(df, df_name):\n",
    "#    total_entries = len(df)\n",
    "#\n",
    "#    female_pct = (df['frau1'] == 1).mean() * 100\n",
    "#    non_german_pct = ((df['maxdeutsch1'] == 0) & (df['maxdeutsch.Missing.'] == 0)).mean() * 100\n",
    "#    non_german_male_pct = ((df['frau1'] == 0) & (df['maxdeutsch1'] == 0) & (df['maxdeutsch.Missing.'] == 0)).mean() * 100\n",
    "#    non_german_female_pct = ((df['frau1'] == 1) & (df['maxdeutsch1'] == 0) & (df['maxdeutsch.Missing.'] == 0)).mean() * 100\n",
    "#\n",
    "#    print(f\"--- {df_name} ---\")\n",
    "#    print(f\"Female: {female_pct:.2f}%\")\n",
    "#    print(f\"Non-German: {non_german_pct:.2f}%\")\n",
    "#    print(f\"Non-German Male: {non_german_male_pct:.2f}%\")\n",
    "#    print(f\"Non-German Female: {non_german_female_pct:.2f}%\\n\")\n",
    "#\n",
    "## Calculate for each DataFrame\n",
    "#calculate_percentages(siab_calib, \"siab_calib\")\n",
    "#calculate_percentages(siab_test, \"siab_test\")\n",
    "#calculate_percentages(siab_train, \"siab_train\")"
   ]
  },
  {
   "cell_type": "markdown",
   "id": "0a4a1b33",
   "metadata": {
    "papermill": {
     "duration": 0.024899,
     "end_time": "2025-08-05T14:34:43.604186",
     "exception": false,
     "start_time": "2025-08-05T14:34:43.579287",
     "status": "completed"
    },
    "tags": []
   },
   "source": [
    "# Preprocessing Data"
   ]
  },
  {
   "cell_type": "code",
   "execution_count": 29,
   "id": "ca879031",
   "metadata": {
    "execution": {
     "iopub.execute_input": "2025-08-05T14:34:43.655480Z",
     "iopub.status.busy": "2025-08-05T14:34:43.654503Z",
     "iopub.status.idle": "2025-08-05T14:34:43.660804Z",
     "shell.execute_reply": "2025-08-05T14:34:43.659897Z"
    },
    "papermill": {
     "duration": 0.033524,
     "end_time": "2025-08-05T14:34:43.662887",
     "exception": false,
     "start_time": "2025-08-05T14:34:43.629363",
     "status": "completed"
    },
    "tags": []
   },
   "outputs": [],
   "source": [
    "# EXCLUDE PROTECTED FEATURES\n",
    "# ----------------------\n",
    "# \"exclude_features\": \"none\", # \"nationality\", \"sex\", \"nationality-sex\"\n",
    "\n",
    "excluded_features = universe[\"exclude_features\"].split(\"-\") # split, e.g.: \"nationality-sex\" -> [\"nationality\", \"sex\"]\n",
    "excluded_features_dictionary = {\n",
    "    \"nationality\": [\"maxdeutsch1\", \"maxdeutsch.Missing.\"],\n",
    "    \"sex\": [\"frau1\"],\n",
    "    \"age\": [\"age\"],\n",
    "}\n"
   ]
  },
  {
   "cell_type": "code",
   "execution_count": 30,
   "id": "b745ac60",
   "metadata": {
    "execution": {
     "iopub.execute_input": "2025-08-05T14:34:43.710810Z",
     "iopub.status.busy": "2025-08-05T14:34:43.710320Z",
     "iopub.status.idle": "2025-08-05T14:34:43.716610Z",
     "shell.execute_reply": "2025-08-05T14:34:43.715650Z"
    },
    "papermill": {
     "duration": 0.032034,
     "end_time": "2025-08-05T14:34:43.718675",
     "exception": false,
     "start_time": "2025-08-05T14:34:43.686641",
     "status": "completed"
    },
    "tags": []
   },
   "outputs": [],
   "source": [
    "# Code nice names to column names\n",
    "\n",
    "excluded_features_columns = [\n",
    "    excluded_features_dictionary[f] for f in excluded_features if len(f) > 0 and f != \"none\"\n",
    "]"
   ]
  },
  {
   "cell_type": "code",
   "execution_count": 31,
   "id": "f84f73a2",
   "metadata": {
    "execution": {
     "iopub.execute_input": "2025-08-05T14:34:43.767161Z",
     "iopub.status.busy": "2025-08-05T14:34:43.766383Z",
     "iopub.status.idle": "2025-08-05T14:34:43.773335Z",
     "shell.execute_reply": "2025-08-05T14:34:43.772293Z"
    },
    "papermill": {
     "duration": 0.032829,
     "end_time": "2025-08-05T14:34:43.775173",
     "exception": false,
     "start_time": "2025-08-05T14:34:43.742344",
     "status": "completed"
    },
    "tags": []
   },
   "outputs": [],
   "source": [
    "from utils import flatten_once\n",
    "\n",
    "excluded_features_columns = flatten_once(excluded_features_columns)"
   ]
  },
  {
   "cell_type": "code",
   "execution_count": 32,
   "id": "884dea22",
   "metadata": {
    "execution": {
     "iopub.execute_input": "2025-08-05T14:34:43.823535Z",
     "iopub.status.busy": "2025-08-05T14:34:43.822833Z",
     "iopub.status.idle": "2025-08-05T14:34:43.848842Z",
     "shell.execute_reply": "2025-08-05T14:34:43.847688Z"
    },
    "papermill": {
     "duration": 0.052399,
     "end_time": "2025-08-05T14:34:43.850800",
     "exception": false,
     "start_time": "2025-08-05T14:34:43.798401",
     "status": "completed"
    },
    "tags": []
   },
   "outputs": [
    {
     "name": "stdout",
     "output_type": "stream",
     "text": [
      "Dropping features: ['frau1']\n"
     ]
    }
   ],
   "source": [
    "if len(excluded_features_columns) > 0:\n",
    "    print(f\"Dropping features: {excluded_features_columns}\")\n",
    "    X_train.drop(excluded_features_columns, axis=1, inplace=True)"
   ]
  },
  {
   "cell_type": "code",
   "execution_count": 33,
   "id": "95ab8b16",
   "metadata": {
    "execution": {
     "iopub.execute_input": "2025-08-05T14:34:43.899743Z",
     "iopub.status.busy": "2025-08-05T14:34:43.898836Z",
     "iopub.status.idle": "2025-08-05T14:34:43.953888Z",
     "shell.execute_reply": "2025-08-05T14:34:43.952516Z"
    },
    "papermill": {
     "duration": 0.081057,
     "end_time": "2025-08-05T14:34:43.955921",
     "exception": false,
     "start_time": "2025-08-05T14:34:43.874864",
     "status": "completed"
    },
    "tags": []
   },
   "outputs": [
    {
     "name": "stdout",
     "output_type": "stream",
     "text": [
      "Dropping features: ['frau1']\n"
     ]
    }
   ],
   "source": [
    "if len(excluded_features_columns) > 0:\n",
    "    print(f\"Dropping features: {excluded_features_columns}\")\n",
    "    X_test.drop(excluded_features_columns, axis=1, inplace=True)"
   ]
  },
  {
   "cell_type": "code",
   "execution_count": 34,
   "id": "1853aaf5-fb9f-46cb-a2b5-8ea4ae2237e4",
   "metadata": {
    "execution": {
     "iopub.execute_input": "2025-08-05T14:34:44.003224Z",
     "iopub.status.busy": "2025-08-05T14:34:44.002306Z",
     "iopub.status.idle": "2025-08-05T14:34:44.056557Z",
     "shell.execute_reply": "2025-08-05T14:34:44.055226Z"
    },
    "papermill": {
     "duration": 0.079521,
     "end_time": "2025-08-05T14:34:44.058393",
     "exception": false,
     "start_time": "2025-08-05T14:34:43.978872",
     "status": "completed"
    },
    "tags": []
   },
   "outputs": [
    {
     "name": "stdout",
     "output_type": "stream",
     "text": [
      "Dropping features: ['frau1']\n"
     ]
    }
   ],
   "source": [
    "if len(excluded_features_columns) > 0:\n",
    "    print(f\"Dropping features: {excluded_features_columns}\")\n",
    "    X_calib.drop(excluded_features_columns, axis=1, inplace=True)"
   ]
  },
  {
   "cell_type": "code",
   "execution_count": 35,
   "id": "6727d079-03e5-481e-9d38-292a90b7a0a8",
   "metadata": {
    "execution": {
     "iopub.execute_input": "2025-08-05T14:34:44.105753Z",
     "iopub.status.busy": "2025-08-05T14:34:44.105014Z",
     "iopub.status.idle": "2025-08-05T14:34:44.110133Z",
     "shell.execute_reply": "2025-08-05T14:34:44.109090Z"
    },
    "papermill": {
     "duration": 0.030405,
     "end_time": "2025-08-05T14:34:44.111757",
     "exception": false,
     "start_time": "2025-08-05T14:34:44.081352",
     "status": "completed"
    },
    "tags": []
   },
   "outputs": [],
   "source": [
    "# SPLIT & STRATIFY DATA\n",
    "# ----------------------"
   ]
  },
  {
   "cell_type": "code",
   "execution_count": 36,
   "id": "76c4dc6d",
   "metadata": {
    "execution": {
     "iopub.execute_input": "2025-08-05T14:34:44.160273Z",
     "iopub.status.busy": "2025-08-05T14:34:44.159355Z",
     "iopub.status.idle": "2025-08-05T14:34:44.165053Z",
     "shell.execute_reply": "2025-08-05T14:34:44.164108Z"
    },
    "papermill": {
     "duration": 0.031432,
     "end_time": "2025-08-05T14:34:44.167122",
     "exception": false,
     "start_time": "2025-08-05T14:34:44.135690",
     "status": "completed"
    },
    "tags": []
   },
   "outputs": [],
   "source": [
    "# EXCLUDE CERTAIN SUBGROUPS\n",
    "# ----------------------\n",
    "\n",
    "mode = universe.get(\"exclude_subgroups\", \"keep-all\") \n",
    "# Fetches the exclude_subgroups setting from the universe dict.\n",
    "# Defaults to \"keep-all\" if the key is missing."
   ]
  },
  {
   "cell_type": "code",
   "execution_count": 37,
   "id": "21994072",
   "metadata": {
    "execution": {
     "iopub.execute_input": "2025-08-05T14:34:44.215383Z",
     "iopub.status.busy": "2025-08-05T14:34:44.214476Z",
     "iopub.status.idle": "2025-08-05T14:34:44.221751Z",
     "shell.execute_reply": "2025-08-05T14:34:44.220639Z"
    },
    "papermill": {
     "duration": 0.033323,
     "end_time": "2025-08-05T14:34:44.223763",
     "exception": false,
     "start_time": "2025-08-05T14:34:44.190440",
     "status": "completed"
    },
    "tags": []
   },
   "outputs": [],
   "source": [
    "if mode == \"keep-all\":\n",
    "    keep_mask = pd.Series(True, index=org_train.index)\n",
    "\n",
    "# org_train contains the original feature columns from features_org (in Simson)\n",
    "# features_org contains unprocessed features, for me X_train at beginning ???\n",
    "# For keep-all, creates a boolean Series (keep_mask) of all True, so no rows are removed.\n",
    "\n",
    "elif mode == \"drop-non-german\":\n",
    "    keep_mask = org_train[\"maxdeutsch1\"] == 1 # ??? what about missing values?\n",
    "\n",
    "else:\n",
    "    raise ValueError(f\"Unsupported mode for exclude_subgroups: {mode}\")\n"
   ]
  },
  {
   "cell_type": "code",
   "execution_count": 38,
   "id": "71651440",
   "metadata": {
    "execution": {
     "iopub.execute_input": "2025-08-05T14:34:44.271598Z",
     "iopub.status.busy": "2025-08-05T14:34:44.270674Z",
     "iopub.status.idle": "2025-08-05T14:34:44.277676Z",
     "shell.execute_reply": "2025-08-05T14:34:44.276642Z"
    },
    "papermill": {
     "duration": 0.032521,
     "end_time": "2025-08-05T14:34:44.279443",
     "exception": false,
     "start_time": "2025-08-05T14:34:44.246922",
     "status": "completed"
    },
    "tags": []
   },
   "outputs": [],
   "source": [
    "n_drop = (~keep_mask).sum() # Calculates how many rows are set to be dropped\n",
    "if n_drop > 0:\n",
    "    pct = n_drop / len(keep_mask) * 100\n",
    "    print(f\"Dropping {n_drop} rows ({pct:.2f}%) where mode='{mode}'\")"
   ]
  },
  {
   "cell_type": "code",
   "execution_count": 39,
   "id": "5fb8eee5",
   "metadata": {
    "execution": {
     "iopub.execute_input": "2025-08-05T14:34:44.327484Z",
     "iopub.status.busy": "2025-08-05T14:34:44.326565Z",
     "iopub.status.idle": "2025-08-05T14:34:44.342589Z",
     "shell.execute_reply": "2025-08-05T14:34:44.341438Z"
    },
    "papermill": {
     "duration": 0.041986,
     "end_time": "2025-08-05T14:34:44.344627",
     "exception": false,
     "start_time": "2025-08-05T14:34:44.302641",
     "status": "completed"
    },
    "tags": []
   },
   "outputs": [],
   "source": [
    "X_train = X_train[keep_mask]"
   ]
  },
  {
   "cell_type": "code",
   "execution_count": 40,
   "id": "b202bb3a",
   "metadata": {
    "execution": {
     "iopub.execute_input": "2025-08-05T14:34:44.392859Z",
     "iopub.status.busy": "2025-08-05T14:34:44.392230Z",
     "iopub.status.idle": "2025-08-05T14:34:44.399211Z",
     "shell.execute_reply": "2025-08-05T14:34:44.398205Z"
    },
    "papermill": {
     "duration": 0.032422,
     "end_time": "2025-08-05T14:34:44.400942",
     "exception": false,
     "start_time": "2025-08-05T14:34:44.368520",
     "status": "completed"
    },
    "tags": []
   },
   "outputs": [],
   "source": [
    "y_train = y_train[keep_mask]"
   ]
  },
  {
   "cell_type": "markdown",
   "id": "493e2ac3",
   "metadata": {
    "papermill": {
     "duration": 0.022569,
     "end_time": "2025-08-05T14:34:44.447086",
     "exception": false,
     "start_time": "2025-08-05T14:34:44.424517",
     "status": "completed"
    },
    "tags": []
   },
   "source": [
    "# Model Training"
   ]
  },
  {
   "cell_type": "code",
   "execution_count": 41,
   "id": "679e1268",
   "metadata": {
    "execution": {
     "iopub.execute_input": "2025-08-05T14:34:44.495112Z",
     "iopub.status.busy": "2025-08-05T14:34:44.494179Z",
     "iopub.status.idle": "2025-08-05T14:34:44.600020Z",
     "shell.execute_reply": "2025-08-05T14:34:44.599059Z"
    },
    "papermill": {
     "duration": 0.132188,
     "end_time": "2025-08-05T14:34:44.602022",
     "exception": false,
     "start_time": "2025-08-05T14:34:44.469834",
     "status": "completed"
    },
    "tags": []
   },
   "outputs": [],
   "source": [
    "from sklearn.linear_model import LogisticRegression\n",
    "from sklearn.ensemble import GradientBoostingClassifier, RandomForestClassifier\n",
    "\n",
    "if (universe[\"model\"] == \"logreg\"):\n",
    "    model = LogisticRegression() #penalty=\"none\", solver=\"newton-cg\", max_iter=1) # include random_state=19 ?\n",
    "elif (universe[\"model\"] == \"penalized_logreg\"):\n",
    "    model = LogisticRegression(penalty=\"l2\", C=0.1) #, solver=\"newton-cg\", max_iter=1)\n",
    "elif (universe[\"model\"] == \"rf\"):\n",
    "    model = RandomForestClassifier() # n_estimators=100, n_jobs=-1\n",
    "elif (universe[\"model\"] == \"gbm\"):\n",
    "    model = GradientBoostingClassifier()\n",
    "elif (universe[\"model\"] == \"elasticnet\"):\n",
    "    model = LogisticRegression(penalty = 'elasticnet', solver = 'saga', l1_ratio = 0.5) # max_iter=5000\n",
    "else:\n",
    "    raise \"Unsupported universe.model\""
   ]
  },
  {
   "cell_type": "code",
   "execution_count": 42,
   "id": "0cc8f744",
   "metadata": {
    "execution": {
     "iopub.execute_input": "2025-08-05T14:34:44.650955Z",
     "iopub.status.busy": "2025-08-05T14:34:44.650039Z",
     "iopub.status.idle": "2025-08-05T14:34:44.656811Z",
     "shell.execute_reply": "2025-08-05T14:34:44.655856Z"
    },
    "papermill": {
     "duration": 0.032755,
     "end_time": "2025-08-05T14:34:44.658719",
     "exception": false,
     "start_time": "2025-08-05T14:34:44.625964",
     "status": "completed"
    },
    "tags": []
   },
   "outputs": [],
   "source": [
    "import numpy as np\n",
    "from sklearn.pipeline import Pipeline\n",
    "from sklearn.preprocessing import StandardScaler\n",
    "\n",
    "model = Pipeline([\n",
    "    #(\"continuous_processor\", continuous_processor),\n",
    "    #(\"categorical_preprocessor\", categorical_preprocessor),\n",
    "    (\"scale\", StandardScaler() if universe[\"scale\"] == \"scale\" else None), \n",
    "    (\"model\", model),\n",
    "])"
   ]
  },
  {
   "cell_type": "code",
   "execution_count": 43,
   "id": "9442c04d",
   "metadata": {
    "execution": {
     "iopub.execute_input": "2025-08-05T14:34:44.707185Z",
     "iopub.status.busy": "2025-08-05T14:34:44.706276Z",
     "iopub.status.idle": "2025-08-05T14:34:53.655918Z",
     "shell.execute_reply": "2025-08-05T14:34:53.654999Z"
    },
    "papermill": {
     "duration": 8.97502,
     "end_time": "2025-08-05T14:34:53.657602",
     "exception": false,
     "start_time": "2025-08-05T14:34:44.682582",
     "status": "completed"
    },
    "tags": []
   },
   "outputs": [
    {
     "data": {
      "text/html": [
       "<style>#sk-container-id-1 {color: black;background-color: white;}#sk-container-id-1 pre{padding: 0;}#sk-container-id-1 div.sk-toggleable {background-color: white;}#sk-container-id-1 label.sk-toggleable__label {cursor: pointer;display: block;width: 100%;margin-bottom: 0;padding: 0.3em;box-sizing: border-box;text-align: center;}#sk-container-id-1 label.sk-toggleable__label-arrow:before {content: \"▸\";float: left;margin-right: 0.25em;color: #696969;}#sk-container-id-1 label.sk-toggleable__label-arrow:hover:before {color: black;}#sk-container-id-1 div.sk-estimator:hover label.sk-toggleable__label-arrow:before {color: black;}#sk-container-id-1 div.sk-toggleable__content {max-height: 0;max-width: 0;overflow: hidden;text-align: left;background-color: #f0f8ff;}#sk-container-id-1 div.sk-toggleable__content pre {margin: 0.2em;color: black;border-radius: 0.25em;background-color: #f0f8ff;}#sk-container-id-1 input.sk-toggleable__control:checked~div.sk-toggleable__content {max-height: 200px;max-width: 100%;overflow: auto;}#sk-container-id-1 input.sk-toggleable__control:checked~label.sk-toggleable__label-arrow:before {content: \"▾\";}#sk-container-id-1 div.sk-estimator input.sk-toggleable__control:checked~label.sk-toggleable__label {background-color: #d4ebff;}#sk-container-id-1 div.sk-label input.sk-toggleable__control:checked~label.sk-toggleable__label {background-color: #d4ebff;}#sk-container-id-1 input.sk-hidden--visually {border: 0;clip: rect(1px 1px 1px 1px);clip: rect(1px, 1px, 1px, 1px);height: 1px;margin: -1px;overflow: hidden;padding: 0;position: absolute;width: 1px;}#sk-container-id-1 div.sk-estimator {font-family: monospace;background-color: #f0f8ff;border: 1px dotted black;border-radius: 0.25em;box-sizing: border-box;margin-bottom: 0.5em;}#sk-container-id-1 div.sk-estimator:hover {background-color: #d4ebff;}#sk-container-id-1 div.sk-parallel-item::after {content: \"\";width: 100%;border-bottom: 1px solid gray;flex-grow: 1;}#sk-container-id-1 div.sk-label:hover label.sk-toggleable__label {background-color: #d4ebff;}#sk-container-id-1 div.sk-serial::before {content: \"\";position: absolute;border-left: 1px solid gray;box-sizing: border-box;top: 0;bottom: 0;left: 50%;z-index: 0;}#sk-container-id-1 div.sk-serial {display: flex;flex-direction: column;align-items: center;background-color: white;padding-right: 0.2em;padding-left: 0.2em;position: relative;}#sk-container-id-1 div.sk-item {position: relative;z-index: 1;}#sk-container-id-1 div.sk-parallel {display: flex;align-items: stretch;justify-content: center;background-color: white;position: relative;}#sk-container-id-1 div.sk-item::before, #sk-container-id-1 div.sk-parallel-item::before {content: \"\";position: absolute;border-left: 1px solid gray;box-sizing: border-box;top: 0;bottom: 0;left: 50%;z-index: -1;}#sk-container-id-1 div.sk-parallel-item {display: flex;flex-direction: column;z-index: 1;position: relative;background-color: white;}#sk-container-id-1 div.sk-parallel-item:first-child::after {align-self: flex-end;width: 50%;}#sk-container-id-1 div.sk-parallel-item:last-child::after {align-self: flex-start;width: 50%;}#sk-container-id-1 div.sk-parallel-item:only-child::after {width: 0;}#sk-container-id-1 div.sk-dashed-wrapped {border: 1px dashed gray;margin: 0 0.4em 0.5em 0.4em;box-sizing: border-box;padding-bottom: 0.4em;background-color: white;}#sk-container-id-1 div.sk-label label {font-family: monospace;font-weight: bold;display: inline-block;line-height: 1.2em;}#sk-container-id-1 div.sk-label-container {text-align: center;}#sk-container-id-1 div.sk-container {/* jupyter's `normalize.less` sets `[hidden] { display: none; }` but bootstrap.min.css set `[hidden] { display: none !important; }` so we also need the `!important` here to be able to override the default hidden behavior on the sphinx rendered scikit-learn.org. See: https://github.com/scikit-learn/scikit-learn/issues/21755 */display: inline-block !important;position: relative;}#sk-container-id-1 div.sk-text-repr-fallback {display: none;}</style><div id=\"sk-container-id-1\" class=\"sk-top-container\"><div class=\"sk-text-repr-fallback\"><pre>Pipeline(steps=[(&#x27;scale&#x27;, StandardScaler()),\n",
       "                (&#x27;model&#x27;, RandomForestClassifier())])</pre><b>In a Jupyter environment, please rerun this cell to show the HTML representation or trust the notebook. <br />On GitHub, the HTML representation is unable to render, please try loading this page with nbviewer.org.</b></div><div class=\"sk-container\" hidden><div class=\"sk-item sk-dashed-wrapped\"><div class=\"sk-label-container\"><div class=\"sk-label sk-toggleable\"><input class=\"sk-toggleable__control sk-hidden--visually\" id=\"sk-estimator-id-1\" type=\"checkbox\" ><label for=\"sk-estimator-id-1\" class=\"sk-toggleable__label sk-toggleable__label-arrow\">Pipeline</label><div class=\"sk-toggleable__content\"><pre>Pipeline(steps=[(&#x27;scale&#x27;, StandardScaler()),\n",
       "                (&#x27;model&#x27;, RandomForestClassifier())])</pre></div></div></div><div class=\"sk-serial\"><div class=\"sk-item\"><div class=\"sk-estimator sk-toggleable\"><input class=\"sk-toggleable__control sk-hidden--visually\" id=\"sk-estimator-id-2\" type=\"checkbox\" ><label for=\"sk-estimator-id-2\" class=\"sk-toggleable__label sk-toggleable__label-arrow\">StandardScaler</label><div class=\"sk-toggleable__content\"><pre>StandardScaler()</pre></div></div></div><div class=\"sk-item\"><div class=\"sk-estimator sk-toggleable\"><input class=\"sk-toggleable__control sk-hidden--visually\" id=\"sk-estimator-id-3\" type=\"checkbox\" ><label for=\"sk-estimator-id-3\" class=\"sk-toggleable__label sk-toggleable__label-arrow\">RandomForestClassifier</label><div class=\"sk-toggleable__content\"><pre>RandomForestClassifier()</pre></div></div></div></div></div></div></div>"
      ],
      "text/plain": [
       "Pipeline(steps=[('scale', StandardScaler()),\n",
       "                ('model', RandomForestClassifier())])"
      ]
     },
     "execution_count": 43,
     "metadata": {},
     "output_type": "execute_result"
    }
   ],
   "source": [
    "model.fit(X_train, y_train.values.ravel())"
   ]
  },
  {
   "cell_type": "code",
   "execution_count": 44,
   "id": "af59f8c0",
   "metadata": {
    "execution": {
     "iopub.execute_input": "2025-08-05T14:34:53.711752Z",
     "iopub.status.busy": "2025-08-05T14:34:53.711060Z",
     "iopub.status.idle": "2025-08-05T14:34:53.716625Z",
     "shell.execute_reply": "2025-08-05T14:34:53.715674Z"
    },
    "papermill": {
     "duration": 0.033562,
     "end_time": "2025-08-05T14:34:53.718351",
     "exception": false,
     "start_time": "2025-08-05T14:34:53.684789",
     "status": "completed"
    },
    "tags": []
   },
   "outputs": [],
   "source": [
    "from fairness_multiverse.universe import predict_w_threshold"
   ]
  },
  {
   "cell_type": "code",
   "execution_count": 45,
   "id": "a7cf2e16",
   "metadata": {
    "execution": {
     "iopub.execute_input": "2025-08-05T14:34:53.770261Z",
     "iopub.status.busy": "2025-08-05T14:34:53.769480Z",
     "iopub.status.idle": "2025-08-05T14:34:57.285801Z",
     "shell.execute_reply": "2025-08-05T14:34:57.284892Z"
    },
    "papermill": {
     "duration": 3.54381,
     "end_time": "2025-08-05T14:34:57.287641",
     "exception": false,
     "start_time": "2025-08-05T14:34:53.743831",
     "status": "completed"
    },
    "tags": []
   },
   "outputs": [
    {
     "data": {
      "text/plain": [
       "0.8670159402519229"
      ]
     },
     "execution_count": 45,
     "metadata": {},
     "output_type": "execute_result"
    }
   ],
   "source": [
    "probs_test = model.predict_proba(X_test)\n",
    "\n",
    "'''\n",
    "Below code returns a boolean array (or binary 0/1 array depending on how it’s used) where each element \n",
    "is True if the probability of class 1 is greater than or equal to the threshold, and False otherwise.\n",
    "'''\n",
    "y_pred_default = predict_w_threshold(probs_test, 0.5)\n",
    "\n",
    "from sklearn.metrics import accuracy_score\n",
    "\n",
    "# Naive prediction\n",
    "accuracy_score(y_true = y_true, y_pred = y_pred_default)"
   ]
  },
  {
   "cell_type": "code",
   "execution_count": 46,
   "id": "081964c3",
   "metadata": {
    "execution": {
     "iopub.execute_input": "2025-08-05T14:34:57.336343Z",
     "iopub.status.busy": "2025-08-05T14:34:57.335677Z",
     "iopub.status.idle": "2025-08-05T14:35:00.713301Z",
     "shell.execute_reply": "2025-08-05T14:35:00.712309Z"
    },
    "papermill": {
     "duration": 3.403297,
     "end_time": "2025-08-05T14:35:00.715226",
     "exception": false,
     "start_time": "2025-08-05T14:34:57.311929",
     "status": "completed"
    },
    "tags": []
   },
   "outputs": [
    {
     "data": {
      "text/plain": [
       "array([0, 0, 0, ..., 0, 0, 0])"
      ]
     },
     "execution_count": 46,
     "metadata": {},
     "output_type": "execute_result"
    }
   ],
   "source": [
    "model.predict(X_test)"
   ]
  },
  {
   "cell_type": "markdown",
   "id": "56c9705b",
   "metadata": {
    "papermill": {
     "duration": 0.023986,
     "end_time": "2025-08-05T14:35:00.763799",
     "exception": false,
     "start_time": "2025-08-05T14:35:00.739813",
     "status": "completed"
    },
    "tags": []
   },
   "source": [
    "# Conformal Prediction"
   ]
  },
  {
   "cell_type": "code",
   "execution_count": 47,
   "id": "160ec6ff",
   "metadata": {
    "execution": {
     "iopub.execute_input": "2025-08-05T14:35:00.792454Z",
     "iopub.status.busy": "2025-08-05T14:35:00.792058Z",
     "iopub.status.idle": "2025-08-05T14:35:00.797751Z",
     "shell.execute_reply": "2025-08-05T14:35:00.796831Z"
    },
    "papermill": {
     "duration": 0.021647,
     "end_time": "2025-08-05T14:35:00.799821",
     "exception": false,
     "start_time": "2025-08-05T14:35:00.778174",
     "status": "completed"
    },
    "tags": []
   },
   "outputs": [],
   "source": [
    "# Miscoverage level for conformal prediction (10% allowed error rate => 90% target coverage)\n",
    "alpha = 0.1"
   ]
  },
  {
   "cell_type": "code",
   "execution_count": 48,
   "id": "eadf4555-3dd3-440e-8e35-f82a4ad9f855",
   "metadata": {
    "execution": {
     "iopub.execute_input": "2025-08-05T14:35:00.853002Z",
     "iopub.status.busy": "2025-08-05T14:35:00.852309Z",
     "iopub.status.idle": "2025-08-05T14:35:04.071888Z",
     "shell.execute_reply": "2025-08-05T14:35:04.070917Z"
    },
    "papermill": {
     "duration": 3.247465,
     "end_time": "2025-08-05T14:35:04.073453",
     "exception": false,
     "start_time": "2025-08-05T14:35:00.825988",
     "status": "completed"
    },
    "tags": []
   },
   "outputs": [],
   "source": [
    "probs_calib = model.predict_proba(X_calib)"
   ]
  },
  {
   "cell_type": "code",
   "execution_count": 49,
   "id": "2ed93547-6d5d-4983-9b36-1ecb300da49a",
   "metadata": {
    "execution": {
     "iopub.execute_input": "2025-08-05T14:35:04.107204Z",
     "iopub.status.busy": "2025-08-05T14:35:04.106188Z",
     "iopub.status.idle": "2025-08-05T14:35:04.112357Z",
     "shell.execute_reply": "2025-08-05T14:35:04.111450Z"
    },
    "papermill": {
     "duration": 0.025705,
     "end_time": "2025-08-05T14:35:04.114165",
     "exception": false,
     "start_time": "2025-08-05T14:35:04.088460",
     "status": "completed"
    },
    "tags": []
   },
   "outputs": [],
   "source": [
    "y_calib = y_calib.values.ravel().astype(int)"
   ]
  },
  {
   "cell_type": "code",
   "execution_count": 50,
   "id": "65d1320d-f588-4b38-9072-62af1ae97f7d",
   "metadata": {
    "execution": {
     "iopub.execute_input": "2025-08-05T14:35:04.164474Z",
     "iopub.status.busy": "2025-08-05T14:35:04.163778Z",
     "iopub.status.idle": "2025-08-05T14:35:04.170791Z",
     "shell.execute_reply": "2025-08-05T14:35:04.169905Z"
    },
    "papermill": {
     "duration": 0.033325,
     "end_time": "2025-08-05T14:35:04.172324",
     "exception": false,
     "start_time": "2025-08-05T14:35:04.138999",
     "status": "completed"
    },
    "tags": []
   },
   "outputs": [],
   "source": [
    "from fairness_multiverse.conformal import compute_nc_scores\n",
    "\n",
    "# Compute nonconformity scores on calibration set (1 - probability of true class)\n",
    "nc_scores = compute_nc_scores(probs_calib, y_calib)"
   ]
  },
  {
   "cell_type": "code",
   "execution_count": 51,
   "id": "df3b8ca3-53b7-43d5-9667-7c85da7aeda2",
   "metadata": {
    "execution": {
     "iopub.execute_input": "2025-08-05T14:35:04.226232Z",
     "iopub.status.busy": "2025-08-05T14:35:04.225916Z",
     "iopub.status.idle": "2025-08-05T14:35:04.232188Z",
     "shell.execute_reply": "2025-08-05T14:35:04.231285Z"
    },
    "papermill": {
     "duration": 0.036514,
     "end_time": "2025-08-05T14:35:04.233895",
     "exception": false,
     "start_time": "2025-08-05T14:35:04.197381",
     "status": "completed"
    },
    "tags": []
   },
   "outputs": [],
   "source": [
    "from fairness_multiverse.conformal import find_threshold\n",
    "\n",
    "# Find conformal threshold q_hat for the given alpha (split conformal method)\n",
    "q_hat = find_threshold(nc_scores, alpha)"
   ]
  },
  {
   "cell_type": "code",
   "execution_count": 52,
   "id": "4d29e6c1-0ef6-4aa4-b8fe-4fe79b0d033a",
   "metadata": {
    "execution": {
     "iopub.execute_input": "2025-08-05T14:35:04.284889Z",
     "iopub.status.busy": "2025-08-05T14:35:04.284486Z",
     "iopub.status.idle": "2025-08-05T14:35:04.291601Z",
     "shell.execute_reply": "2025-08-05T14:35:04.290430Z"
    },
    "papermill": {
     "duration": 0.035044,
     "end_time": "2025-08-05T14:35:04.294140",
     "exception": false,
     "start_time": "2025-08-05T14:35:04.259096",
     "status": "completed"
    },
    "tags": []
   },
   "outputs": [
    {
     "data": {
      "text/plain": [
       "0.6599999999999999"
      ]
     },
     "execution_count": 52,
     "metadata": {},
     "output_type": "execute_result"
    }
   ],
   "source": [
    "q_hat"
   ]
  },
  {
   "cell_type": "code",
   "execution_count": 53,
   "id": "92460794-cdac-4be2-ba28-f28c0515a6fb",
   "metadata": {
    "execution": {
     "iopub.execute_input": "2025-08-05T14:35:04.346086Z",
     "iopub.status.busy": "2025-08-05T14:35:04.345649Z",
     "iopub.status.idle": "2025-08-05T14:35:08.203009Z",
     "shell.execute_reply": "2025-08-05T14:35:08.201439Z"
    },
    "papermill": {
     "duration": 3.885009,
     "end_time": "2025-08-05T14:35:08.205327",
     "exception": false,
     "start_time": "2025-08-05T14:35:04.320318",
     "status": "completed"
    },
    "tags": []
   },
   "outputs": [],
   "source": [
    "from fairness_multiverse.conformal import predict_conformal_sets\n",
    "\n",
    "# Generate prediction sets for each test example\n",
    "pred_sets = predict_conformal_sets(model, X_test, q_hat)"
   ]
  },
  {
   "cell_type": "code",
   "execution_count": 54,
   "id": "d90c9a65-e6db-4f5d-80cd-e68fb7e46829",
   "metadata": {
    "execution": {
     "iopub.execute_input": "2025-08-05T14:35:08.260263Z",
     "iopub.status.busy": "2025-08-05T14:35:08.259132Z",
     "iopub.status.idle": "2025-08-05T14:35:08.266648Z",
     "shell.execute_reply": "2025-08-05T14:35:08.265448Z"
    },
    "papermill": {
     "duration": 0.036613,
     "end_time": "2025-08-05T14:35:08.268520",
     "exception": false,
     "start_time": "2025-08-05T14:35:08.231907",
     "status": "completed"
    },
    "tags": []
   },
   "outputs": [],
   "source": [
    "y_true = y_true.squeeze()"
   ]
  },
  {
   "cell_type": "code",
   "execution_count": 55,
   "id": "3a58a54a-1e68-46b9-927a-df01f18aebc8",
   "metadata": {
    "execution": {
     "iopub.execute_input": "2025-08-05T14:35:08.317297Z",
     "iopub.status.busy": "2025-08-05T14:35:08.316648Z",
     "iopub.status.idle": "2025-08-05T14:35:09.182922Z",
     "shell.execute_reply": "2025-08-05T14:35:09.182045Z"
    },
    "papermill": {
     "duration": 0.891741,
     "end_time": "2025-08-05T14:35:09.184775",
     "exception": false,
     "start_time": "2025-08-05T14:35:08.293034",
     "status": "completed"
    },
    "tags": []
   },
   "outputs": [],
   "source": [
    "from fairness_multiverse.conformal import evaluate_sets\n",
    "\n",
    "# Evaluate coverage and average set size on test data\n",
    "metrics = evaluate_sets(pred_sets, y_true)"
   ]
  },
  {
   "cell_type": "markdown",
   "id": "2b569c12-9aaa-4c88-98c9-bbcd0cf3ebb8",
   "metadata": {
    "papermill": {
     "duration": 0.023438,
     "end_time": "2025-08-05T14:35:09.231221",
     "exception": false,
     "start_time": "2025-08-05T14:35:09.207783",
     "status": "completed"
    },
    "tags": []
   },
   "source": [
    "# CP Metrics"
   ]
  },
  {
   "cell_type": "code",
   "execution_count": 56,
   "id": "5ce0a5cb-201f-45a0-ade5-94c7f0bd6095",
   "metadata": {
    "execution": {
     "iopub.execute_input": "2025-08-05T14:35:09.276910Z",
     "iopub.status.busy": "2025-08-05T14:35:09.276257Z",
     "iopub.status.idle": "2025-08-05T14:35:09.283425Z",
     "shell.execute_reply": "2025-08-05T14:35:09.282471Z"
    },
    "papermill": {
     "duration": 0.031589,
     "end_time": "2025-08-05T14:35:09.285059",
     "exception": false,
     "start_time": "2025-08-05T14:35:09.253470",
     "status": "completed"
    },
    "tags": []
   },
   "outputs": [
    {
     "data": {
      "text/plain": [
       "{'coverage': 0.9139003455579088, 'avg_size': 1.1381228402630699}"
      ]
     },
     "execution_count": 56,
     "metadata": {},
     "output_type": "execute_result"
    }
   ],
   "source": [
    "metrics"
   ]
  },
  {
   "cell_type": "code",
   "execution_count": 57,
   "id": "9b9a838d-31c9-430b-ae14-12baee460d17",
   "metadata": {
    "execution": {
     "iopub.execute_input": "2025-08-05T14:35:09.331870Z",
     "iopub.status.busy": "2025-08-05T14:35:09.331571Z",
     "iopub.status.idle": "2025-08-05T14:35:09.338000Z",
     "shell.execute_reply": "2025-08-05T14:35:09.337015Z"
    },
    "papermill": {
     "duration": 0.032361,
     "end_time": "2025-08-05T14:35:09.339832",
     "exception": false,
     "start_time": "2025-08-05T14:35:09.307471",
     "status": "completed"
    },
    "tags": []
   },
   "outputs": [],
   "source": [
    "example_universe = universe.copy()\n",
    "universe_training_year = example_universe.get(\"training_year\")\n",
    "universe_training_size = example_universe.get(\"training_size\")\n",
    "universe_scale = example_universe.get(\"scale\")\n",
    "universe_model = example_universe.get(\"model\")\n",
    "universe_exclude_features = example_universe.get(\"exclude_features\")\n",
    "universe_exclude_subgroups = example_universe.get(\"exclude_subgroups\")"
   ]
  },
  {
   "cell_type": "code",
   "execution_count": 58,
   "id": "f4b6a8ac-9dc0-4245-8a91-5b3b5999c4f9",
   "metadata": {
    "execution": {
     "iopub.execute_input": "2025-08-05T14:35:09.387415Z",
     "iopub.status.busy": "2025-08-05T14:35:09.386697Z",
     "iopub.status.idle": "2025-08-05T14:35:09.393248Z",
     "shell.execute_reply": "2025-08-05T14:35:09.392135Z"
    },
    "papermill": {
     "duration": 0.03154,
     "end_time": "2025-08-05T14:35:09.394959",
     "exception": false,
     "start_time": "2025-08-05T14:35:09.363419",
     "status": "completed"
    },
    "tags": []
   },
   "outputs": [],
   "source": [
    "cp_metrics_dict = {\n",
    "    \"universe_id\": [universe_id],\n",
    "    \"universe_training_year\": [universe_training_year],\n",
    "    \"universe_training_size\": [universe_training_size],\n",
    "    \"universe_scale\": [universe_scale],\n",
    "    \"universe_model\": [universe_model],\n",
    "    \"universe_exclude_features\": [universe_exclude_features],\n",
    "    \"universe_exclude_subgroups\": [universe_exclude_subgroups],\n",
    "    \"q_hat\": [q_hat],\n",
    "    \"coverage\": [metrics[\"coverage\"]],\n",
    "    \"avg_size\": [metrics[\"avg_size\"]],\n",
    "}"
   ]
  },
  {
   "cell_type": "code",
   "execution_count": 59,
   "id": "908acbb1-0371-4915-85ca-3fa520d2efe2",
   "metadata": {
    "execution": {
     "iopub.execute_input": "2025-08-05T14:35:09.441776Z",
     "iopub.status.busy": "2025-08-05T14:35:09.441026Z",
     "iopub.status.idle": "2025-08-05T14:35:09.448123Z",
     "shell.execute_reply": "2025-08-05T14:35:09.447132Z"
    },
    "papermill": {
     "duration": 0.031704,
     "end_time": "2025-08-05T14:35:09.449734",
     "exception": false,
     "start_time": "2025-08-05T14:35:09.418030",
     "status": "completed"
    },
    "tags": []
   },
   "outputs": [
    {
     "data": {
      "text/plain": [
       "{'universe_id': ['0fcde13c038893e8d88014cec98cfa3a'],\n",
       " 'universe_training_year': ['2014'],\n",
       " 'universe_training_size': ['25k'],\n",
       " 'universe_scale': ['scale'],\n",
       " 'universe_model': ['rf'],\n",
       " 'universe_exclude_features': ['sex'],\n",
       " 'universe_exclude_subgroups': ['keep-all'],\n",
       " 'q_hat': [0.6599999999999999],\n",
       " 'coverage': [0.9139003455579088],\n",
       " 'avg_size': [1.1381228402630699]}"
      ]
     },
     "execution_count": 59,
     "metadata": {},
     "output_type": "execute_result"
    }
   ],
   "source": [
    "cp_metrics_dict"
   ]
  },
  {
   "cell_type": "code",
   "execution_count": 60,
   "id": "33007efc-14e9-4ec6-97ac-56a455c82265",
   "metadata": {
    "execution": {
     "iopub.execute_input": "2025-08-05T14:35:09.496459Z",
     "iopub.status.busy": "2025-08-05T14:35:09.495836Z",
     "iopub.status.idle": "2025-08-05T14:35:09.501559Z",
     "shell.execute_reply": "2025-08-05T14:35:09.500679Z"
    },
    "papermill": {
     "duration": 0.030728,
     "end_time": "2025-08-05T14:35:09.503394",
     "exception": false,
     "start_time": "2025-08-05T14:35:09.472666",
     "status": "completed"
    },
    "tags": []
   },
   "outputs": [],
   "source": [
    "cp_metrics_df = pd.DataFrame(cp_metrics_dict)"
   ]
  },
  {
   "cell_type": "code",
   "execution_count": 61,
   "id": "db12611b-57b2-4910-b9d0-355adfd6e7bf",
   "metadata": {
    "execution": {
     "iopub.execute_input": "2025-08-05T14:35:09.551555Z",
     "iopub.status.busy": "2025-08-05T14:35:09.551163Z",
     "iopub.status.idle": "2025-08-05T14:35:09.568888Z",
     "shell.execute_reply": "2025-08-05T14:35:09.567921Z"
    },
    "papermill": {
     "duration": 0.044198,
     "end_time": "2025-08-05T14:35:09.570495",
     "exception": false,
     "start_time": "2025-08-05T14:35:09.526297",
     "status": "completed"
    },
    "tags": []
   },
   "outputs": [
    {
     "data": {
      "text/html": [
       "<div>\n",
       "<style scoped>\n",
       "    .dataframe tbody tr th:only-of-type {\n",
       "        vertical-align: middle;\n",
       "    }\n",
       "\n",
       "    .dataframe tbody tr th {\n",
       "        vertical-align: top;\n",
       "    }\n",
       "\n",
       "    .dataframe thead th {\n",
       "        text-align: right;\n",
       "    }\n",
       "</style>\n",
       "<table border=\"1\" class=\"dataframe\">\n",
       "  <thead>\n",
       "    <tr style=\"text-align: right;\">\n",
       "      <th></th>\n",
       "      <th>universe_id</th>\n",
       "      <th>universe_training_year</th>\n",
       "      <th>universe_training_size</th>\n",
       "      <th>universe_scale</th>\n",
       "      <th>universe_model</th>\n",
       "      <th>universe_exclude_features</th>\n",
       "      <th>universe_exclude_subgroups</th>\n",
       "      <th>q_hat</th>\n",
       "      <th>coverage</th>\n",
       "      <th>avg_size</th>\n",
       "    </tr>\n",
       "  </thead>\n",
       "  <tbody>\n",
       "    <tr>\n",
       "      <th>0</th>\n",
       "      <td>0fcde13c038893e8d88014cec98cfa3a</td>\n",
       "      <td>2014</td>\n",
       "      <td>25k</td>\n",
       "      <td>scale</td>\n",
       "      <td>rf</td>\n",
       "      <td>sex</td>\n",
       "      <td>keep-all</td>\n",
       "      <td>0.66</td>\n",
       "      <td>0.9139</td>\n",
       "      <td>1.138123</td>\n",
       "    </tr>\n",
       "  </tbody>\n",
       "</table>\n",
       "</div>"
      ],
      "text/plain": [
       "                        universe_id universe_training_year  \\\n",
       "0  0fcde13c038893e8d88014cec98cfa3a                   2014   \n",
       "\n",
       "  universe_training_size universe_scale universe_model  \\\n",
       "0                    25k          scale             rf   \n",
       "\n",
       "  universe_exclude_features universe_exclude_subgroups  q_hat  coverage  \\\n",
       "0                       sex                   keep-all   0.66    0.9139   \n",
       "\n",
       "   avg_size  \n",
       "0  1.138123  "
      ]
     },
     "execution_count": 61,
     "metadata": {},
     "output_type": "execute_result"
    }
   ],
   "source": [
    "cp_metrics_df"
   ]
  },
  {
   "cell_type": "code",
   "execution_count": 62,
   "id": "b7fbde55-a0a1-47e4-9af6-fe4a17fa8c61",
   "metadata": {
    "execution": {
     "iopub.execute_input": "2025-08-05T14:35:09.621406Z",
     "iopub.status.busy": "2025-08-05T14:35:09.620638Z",
     "iopub.status.idle": "2025-08-05T14:35:09.625409Z",
     "shell.execute_reply": "2025-08-05T14:35:09.624518Z"
    },
    "papermill": {
     "duration": 0.031482,
     "end_time": "2025-08-05T14:35:09.627375",
     "exception": false,
     "start_time": "2025-08-05T14:35:09.595893",
     "status": "completed"
    },
    "tags": []
   },
   "outputs": [],
   "source": [
    "# Conditional Coverage & looking at subgroups"
   ]
  },
  {
   "cell_type": "code",
   "execution_count": 63,
   "id": "027ae886-68dd-4141-96c7-805a5450e1ef",
   "metadata": {
    "execution": {
     "iopub.execute_input": "2025-08-05T14:35:09.676824Z",
     "iopub.status.busy": "2025-08-05T14:35:09.676177Z",
     "iopub.status.idle": "2025-08-05T14:35:09.926460Z",
     "shell.execute_reply": "2025-08-05T14:35:09.925572Z"
    },
    "papermill": {
     "duration": 0.276346,
     "end_time": "2025-08-05T14:35:09.928289",
     "exception": false,
     "start_time": "2025-08-05T14:35:09.651943",
     "status": "completed"
    },
    "tags": []
   },
   "outputs": [],
   "source": [
    "from fairness_multiverse.conformal import build_cp_groups\n",
    "\n",
    "cp_groups_df = build_cp_groups(pred_sets, y_true, X_test.index, org_test)\n",
    "#needs universe_id and setting"
   ]
  },
  {
   "cell_type": "code",
   "execution_count": 64,
   "id": "01d5802c-663a-4d1f-9d69-e036faaffbf7",
   "metadata": {
    "execution": {
     "iopub.execute_input": "2025-08-05T14:35:09.977468Z",
     "iopub.status.busy": "2025-08-05T14:35:09.976867Z",
     "iopub.status.idle": "2025-08-05T14:35:09.982510Z",
     "shell.execute_reply": "2025-08-05T14:35:09.981489Z"
    },
    "papermill": {
     "duration": 0.032235,
     "end_time": "2025-08-05T14:35:09.984265",
     "exception": false,
     "start_time": "2025-08-05T14:35:09.952030",
     "status": "completed"
    },
    "tags": []
   },
   "outputs": [],
   "source": [
    "#delete\n",
    "#cp_groups_df"
   ]
  },
  {
   "cell_type": "code",
   "execution_count": 65,
   "id": "fa424af1-d1eb-443d-b717-2d279ada8408",
   "metadata": {
    "execution": {
     "iopub.execute_input": "2025-08-05T14:35:10.032291Z",
     "iopub.status.busy": "2025-08-05T14:35:10.031916Z",
     "iopub.status.idle": "2025-08-05T14:35:10.036460Z",
     "shell.execute_reply": "2025-08-05T14:35:10.035437Z"
    },
    "papermill": {
     "duration": 0.030162,
     "end_time": "2025-08-05T14:35:10.038299",
     "exception": false,
     "start_time": "2025-08-05T14:35:10.008137",
     "status": "completed"
    },
    "tags": []
   },
   "outputs": [],
   "source": [
    "#delete\n",
    "#percentage = (cp_groups_df['nongerman_female'] == 1).mean() * 100\n",
    "#print(percentage)\n"
   ]
  },
  {
   "cell_type": "code",
   "execution_count": 66,
   "id": "6cbdab96-b2b2-45af-ad54-d0516db2e28d",
   "metadata": {
    "execution": {
     "iopub.execute_input": "2025-08-05T14:35:10.086508Z",
     "iopub.status.busy": "2025-08-05T14:35:10.086133Z",
     "iopub.status.idle": "2025-08-05T14:35:11.624319Z",
     "shell.execute_reply": "2025-08-05T14:35:11.623408Z"
    },
    "papermill": {
     "duration": 1.564585,
     "end_time": "2025-08-05T14:35:11.626203",
     "exception": false,
     "start_time": "2025-08-05T14:35:10.061618",
     "status": "completed"
    },
    "tags": []
   },
   "outputs": [],
   "source": [
    "# Define covered = 1 if true_label is in the predicted set\n",
    "cp_groups_df['covered'] = cp_groups_df.apply(\n",
    "    lambda r: int(r['true_label'] in r['pred_set']),\n",
    "    axis=1\n",
    ")"
   ]
  },
  {
   "cell_type": "code",
   "execution_count": 67,
   "id": "338ff529-1a6b-4b87-a931-8e4788d52aad",
   "metadata": {
    "execution": {
     "iopub.execute_input": "2025-08-05T14:35:11.676268Z",
     "iopub.status.busy": "2025-08-05T14:35:11.675606Z",
     "iopub.status.idle": "2025-08-05T14:35:11.680763Z",
     "shell.execute_reply": "2025-08-05T14:35:11.679875Z"
    },
    "papermill": {
     "duration": 0.031041,
     "end_time": "2025-08-05T14:35:11.682404",
     "exception": false,
     "start_time": "2025-08-05T14:35:11.651363",
     "status": "completed"
    },
    "tags": []
   },
   "outputs": [],
   "source": [
    "#cp_groups_df"
   ]
  },
  {
   "cell_type": "code",
   "execution_count": 68,
   "id": "90032e27-66df-4540-9169-4e89cfbaa758",
   "metadata": {
    "execution": {
     "iopub.execute_input": "2025-08-05T14:35:11.731316Z",
     "iopub.status.busy": "2025-08-05T14:35:11.730615Z",
     "iopub.status.idle": "2025-08-05T14:35:11.741353Z",
     "shell.execute_reply": "2025-08-05T14:35:11.740452Z"
    },
    "papermill": {
     "duration": 0.036332,
     "end_time": "2025-08-05T14:35:11.743137",
     "exception": false,
     "start_time": "2025-08-05T14:35:11.706805",
     "status": "completed"
    },
    "tags": []
   },
   "outputs": [],
   "source": [
    "subgroups = ['frau1','nongerman','nongerman_male','nongerman_female']\n",
    "\n",
    "# Conditional coverage for subgroup==1\n",
    "cond_coverage = {\n",
    "    g: cp_groups_df.loc[cp_groups_df[g]==1, 'covered'].mean()\n",
    "    for g in subgroups\n",
    "}"
   ]
  },
  {
   "cell_type": "code",
   "execution_count": 69,
   "id": "1e348fb1-b9c3-45bc-ba23-f016827a7e0d",
   "metadata": {
    "execution": {
     "iopub.execute_input": "2025-08-05T14:35:11.792224Z",
     "iopub.status.busy": "2025-08-05T14:35:11.791512Z",
     "iopub.status.idle": "2025-08-05T14:35:11.798665Z",
     "shell.execute_reply": "2025-08-05T14:35:11.797565Z"
    },
    "papermill": {
     "duration": 0.033409,
     "end_time": "2025-08-05T14:35:11.800292",
     "exception": false,
     "start_time": "2025-08-05T14:35:11.766883",
     "status": "completed"
    },
    "tags": []
   },
   "outputs": [
    {
     "data": {
      "text/plain": [
       "{'frau1': 0.913195848497102,\n",
       " 'nongerman': 0.9115814292932128,\n",
       " 'nongerman_male': 0.9256056921552733,\n",
       " 'nongerman_female': 0.8883755588673622}"
      ]
     },
     "execution_count": 69,
     "metadata": {},
     "output_type": "execute_result"
    }
   ],
   "source": [
    "cond_coverage"
   ]
  },
  {
   "cell_type": "code",
   "execution_count": 70,
   "id": "f5093324-c3dd-4d63-bc4c-8d945e5c8bbb",
   "metadata": {
    "execution": {
     "iopub.execute_input": "2025-08-05T14:35:11.851268Z",
     "iopub.status.busy": "2025-08-05T14:35:11.850167Z",
     "iopub.status.idle": "2025-08-05T14:35:11.859194Z",
     "shell.execute_reply": "2025-08-05T14:35:11.857788Z"
    },
    "papermill": {
     "duration": 0.036934,
     "end_time": "2025-08-05T14:35:11.861344",
     "exception": false,
     "start_time": "2025-08-05T14:35:11.824410",
     "status": "completed"
    },
    "tags": []
   },
   "outputs": [],
   "source": [
    "for subgroup, cov in cond_coverage.items():\n",
    "    cp_metrics_df[f\"cov_{subgroup}\"] = cov"
   ]
  },
  {
   "cell_type": "code",
   "execution_count": 71,
   "id": "6e872e10-dbe5-49e8-b554-5030c98ff75d",
   "metadata": {
    "execution": {
     "iopub.execute_input": "2025-08-05T14:35:11.912173Z",
     "iopub.status.busy": "2025-08-05T14:35:11.911222Z",
     "iopub.status.idle": "2025-08-05T14:35:11.929394Z",
     "shell.execute_reply": "2025-08-05T14:35:11.928229Z"
    },
    "papermill": {
     "duration": 0.045006,
     "end_time": "2025-08-05T14:35:11.931140",
     "exception": false,
     "start_time": "2025-08-05T14:35:11.886134",
     "status": "completed"
    },
    "tags": []
   },
   "outputs": [
    {
     "data": {
      "text/html": [
       "<div>\n",
       "<style scoped>\n",
       "    .dataframe tbody tr th:only-of-type {\n",
       "        vertical-align: middle;\n",
       "    }\n",
       "\n",
       "    .dataframe tbody tr th {\n",
       "        vertical-align: top;\n",
       "    }\n",
       "\n",
       "    .dataframe thead th {\n",
       "        text-align: right;\n",
       "    }\n",
       "</style>\n",
       "<table border=\"1\" class=\"dataframe\">\n",
       "  <thead>\n",
       "    <tr style=\"text-align: right;\">\n",
       "      <th></th>\n",
       "      <th>universe_id</th>\n",
       "      <th>universe_training_year</th>\n",
       "      <th>universe_training_size</th>\n",
       "      <th>universe_scale</th>\n",
       "      <th>universe_model</th>\n",
       "      <th>universe_exclude_features</th>\n",
       "      <th>universe_exclude_subgroups</th>\n",
       "      <th>q_hat</th>\n",
       "      <th>coverage</th>\n",
       "      <th>avg_size</th>\n",
       "      <th>cov_frau1</th>\n",
       "      <th>cov_nongerman</th>\n",
       "      <th>cov_nongerman_male</th>\n",
       "      <th>cov_nongerman_female</th>\n",
       "    </tr>\n",
       "  </thead>\n",
       "  <tbody>\n",
       "    <tr>\n",
       "      <th>0</th>\n",
       "      <td>0fcde13c038893e8d88014cec98cfa3a</td>\n",
       "      <td>2014</td>\n",
       "      <td>25k</td>\n",
       "      <td>scale</td>\n",
       "      <td>rf</td>\n",
       "      <td>sex</td>\n",
       "      <td>keep-all</td>\n",
       "      <td>0.66</td>\n",
       "      <td>0.9139</td>\n",
       "      <td>1.138123</td>\n",
       "      <td>0.913196</td>\n",
       "      <td>0.911581</td>\n",
       "      <td>0.925606</td>\n",
       "      <td>0.888376</td>\n",
       "    </tr>\n",
       "  </tbody>\n",
       "</table>\n",
       "</div>"
      ],
      "text/plain": [
       "                        universe_id universe_training_year  \\\n",
       "0  0fcde13c038893e8d88014cec98cfa3a                   2014   \n",
       "\n",
       "  universe_training_size universe_scale universe_model  \\\n",
       "0                    25k          scale             rf   \n",
       "\n",
       "  universe_exclude_features universe_exclude_subgroups  q_hat  coverage  \\\n",
       "0                       sex                   keep-all   0.66    0.9139   \n",
       "\n",
       "   avg_size  cov_frau1  cov_nongerman  cov_nongerman_male  \\\n",
       "0  1.138123   0.913196       0.911581            0.925606   \n",
       "\n",
       "   cov_nongerman_female  \n",
       "0              0.888376  "
      ]
     },
     "execution_count": 71,
     "metadata": {},
     "output_type": "execute_result"
    }
   ],
   "source": [
    "cp_metrics_df"
   ]
  },
  {
   "cell_type": "markdown",
   "id": "33774451",
   "metadata": {
    "papermill": {
     "duration": 0.024994,
     "end_time": "2025-08-05T14:35:11.980976",
     "exception": false,
     "start_time": "2025-08-05T14:35:11.955982",
     "status": "completed"
    },
    "tags": []
   },
   "source": [
    "# (Fairness) Metrics"
   ]
  },
  {
   "cell_type": "code",
   "execution_count": 72,
   "id": "debc5d62",
   "metadata": {
    "execution": {
     "iopub.execute_input": "2025-08-05T14:35:12.030860Z",
     "iopub.status.busy": "2025-08-05T14:35:12.030060Z",
     "iopub.status.idle": "2025-08-05T14:35:12.052471Z",
     "shell.execute_reply": "2025-08-05T14:35:12.051668Z"
    },
    "papermill": {
     "duration": 0.049391,
     "end_time": "2025-08-05T14:35:12.054179",
     "exception": false,
     "start_time": "2025-08-05T14:35:12.004788",
     "status": "completed"
    },
    "tags": []
   },
   "outputs": [],
   "source": [
    "# do I need to include maxdeutsch1.missing?\n",
    "\n",
    "import numpy as np\n",
    "\n",
    "colname_to_bin = \"maxdeutsch1\"\n",
    "majority_value = org_train[colname_to_bin].mode()[0]\n",
    "\n",
    "org_test[\"majmin\"] = np.where(org_test[colname_to_bin] == majority_value, \"majority\", \"minority\")"
   ]
  },
  {
   "cell_type": "code",
   "execution_count": 73,
   "id": "06a50de5",
   "metadata": {
    "execution": {
     "iopub.execute_input": "2025-08-05T14:35:12.107292Z",
     "iopub.status.busy": "2025-08-05T14:35:12.106868Z",
     "iopub.status.idle": "2025-08-05T14:35:14.912339Z",
     "shell.execute_reply": "2025-08-05T14:35:14.911407Z"
    },
    "papermill": {
     "duration": 2.833074,
     "end_time": "2025-08-05T14:35:14.914354",
     "exception": false,
     "start_time": "2025-08-05T14:35:12.081280",
     "status": "completed"
    },
    "tags": []
   },
   "outputs": [],
   "source": [
    "example_universe = universe.copy()\n",
    "example_universe[\"cutoff\"] = example_universe[\"cutoff\"][0]\n",
    "example_universe[\"eval_fairness_grouping\"] = example_universe[\"eval_fairness_grouping\"][0]\n",
    "fairness_dict, metric_frame = universe_analysis.compute_metrics(\n",
    "    example_universe,\n",
    "    y_pred_prob=probs_test,\n",
    "    y_test=y_true,\n",
    "    org_test=org_test,\n",
    ")"
   ]
  },
  {
   "cell_type": "markdown",
   "id": "f95d4e02",
   "metadata": {
    "papermill": {
     "duration": 0.026065,
     "end_time": "2025-08-05T14:35:14.969052",
     "exception": false,
     "start_time": "2025-08-05T14:35:14.942987",
     "status": "completed"
    },
    "tags": []
   },
   "source": [
    "# Overall"
   ]
  },
  {
   "cell_type": "markdown",
   "id": "bdee4871",
   "metadata": {
    "papermill": {
     "duration": 0.013868,
     "end_time": "2025-08-05T14:35:15.011115",
     "exception": false,
     "start_time": "2025-08-05T14:35:14.997247",
     "status": "completed"
    },
    "tags": []
   },
   "source": [
    "Fairness\n",
    "Main fairness target: Equalized Odds. Seems to be a better fit than equal opportunity, since we're not only interested in Y = 1. Seems to be a better fit than demographic parity, since we also care about accuracy, not just equal distribution of preds.\n",
    "\n",
    "Pick column for computation of fairness metrics\n",
    "\n",
    "Performance\n",
    "Overall performance measures, most interesting in relation to the measures split by group below"
   ]
  },
  {
   "cell_type": "code",
   "execution_count": 74,
   "id": "c4e067c6",
   "metadata": {
    "execution": {
     "iopub.execute_input": "2025-08-05T14:35:15.040014Z",
     "iopub.status.busy": "2025-08-05T14:35:15.039629Z",
     "iopub.status.idle": "2025-08-05T14:35:15.048510Z",
     "shell.execute_reply": "2025-08-05T14:35:15.047374Z"
    },
    "papermill": {
     "duration": 0.025334,
     "end_time": "2025-08-05T14:35:15.050190",
     "exception": false,
     "start_time": "2025-08-05T14:35:15.024856",
     "status": "completed"
    },
    "tags": []
   },
   "outputs": [
    {
     "data": {
      "text/plain": [
       "accuracy                   0.213388\n",
       "balanced accuracy          0.538330\n",
       "f1                         0.241354\n",
       "precision                  0.137715\n",
       "false positive rate        0.898749\n",
       "false negative rate        0.024592\n",
       "selection rate             0.908583\n",
       "count                  89710.000000\n",
       "dtype: float64"
      ]
     },
     "execution_count": 74,
     "metadata": {},
     "output_type": "execute_result"
    }
   ],
   "source": [
    "metric_frame.overall"
   ]
  },
  {
   "cell_type": "markdown",
   "id": "e968fe9d",
   "metadata": {
    "papermill": {
     "duration": 0.017796,
     "end_time": "2025-08-05T14:35:15.093465",
     "exception": false,
     "start_time": "2025-08-05T14:35:15.075669",
     "status": "completed"
    },
    "tags": []
   },
   "source": [
    "By Group"
   ]
  },
  {
   "cell_type": "code",
   "execution_count": 75,
   "id": "ec325bce",
   "metadata": {
    "execution": {
     "iopub.execute_input": "2025-08-05T14:35:15.122316Z",
     "iopub.status.busy": "2025-08-05T14:35:15.121644Z",
     "iopub.status.idle": "2025-08-05T14:35:15.137462Z",
     "shell.execute_reply": "2025-08-05T14:35:15.136508Z"
    },
    "papermill": {
     "duration": 0.032062,
     "end_time": "2025-08-05T14:35:15.138850",
     "exception": false,
     "start_time": "2025-08-05T14:35:15.106788",
     "status": "completed"
    },
    "tags": []
   },
   "outputs": [
    {
     "data": {
      "text/html": [
       "<div>\n",
       "<style scoped>\n",
       "    .dataframe tbody tr th:only-of-type {\n",
       "        vertical-align: middle;\n",
       "    }\n",
       "\n",
       "    .dataframe tbody tr th {\n",
       "        vertical-align: top;\n",
       "    }\n",
       "\n",
       "    .dataframe thead th {\n",
       "        text-align: right;\n",
       "    }\n",
       "</style>\n",
       "<table border=\"1\" class=\"dataframe\">\n",
       "  <thead>\n",
       "    <tr style=\"text-align: right;\">\n",
       "      <th></th>\n",
       "      <th>accuracy</th>\n",
       "      <th>balanced accuracy</th>\n",
       "      <th>f1</th>\n",
       "      <th>precision</th>\n",
       "      <th>false positive rate</th>\n",
       "      <th>false negative rate</th>\n",
       "      <th>selection rate</th>\n",
       "      <th>count</th>\n",
       "    </tr>\n",
       "    <tr>\n",
       "      <th>majmin</th>\n",
       "      <th></th>\n",
       "      <th></th>\n",
       "      <th></th>\n",
       "      <th></th>\n",
       "      <th></th>\n",
       "      <th></th>\n",
       "      <th></th>\n",
       "      <th></th>\n",
       "    </tr>\n",
       "  </thead>\n",
       "  <tbody>\n",
       "    <tr>\n",
       "      <th>majority</th>\n",
       "      <td>0.201055</td>\n",
       "      <td>0.535299</td>\n",
       "      <td>0.246616</td>\n",
       "      <td>0.140859</td>\n",
       "      <td>0.919007</td>\n",
       "      <td>0.010394</td>\n",
       "      <td>0.928336</td>\n",
       "      <td>69170.0</td>\n",
       "    </tr>\n",
       "    <tr>\n",
       "      <th>minority</th>\n",
       "      <td>0.254917</td>\n",
       "      <td>0.544389</td>\n",
       "      <td>0.221725</td>\n",
       "      <td>0.126041</td>\n",
       "      <td>0.831829</td>\n",
       "      <td>0.079392</td>\n",
       "      <td>0.842064</td>\n",
       "      <td>20540.0</td>\n",
       "    </tr>\n",
       "  </tbody>\n",
       "</table>\n",
       "</div>"
      ],
      "text/plain": [
       "          accuracy  balanced accuracy        f1  precision  \\\n",
       "majmin                                                       \n",
       "majority  0.201055           0.535299  0.246616   0.140859   \n",
       "minority  0.254917           0.544389  0.221725   0.126041   \n",
       "\n",
       "          false positive rate  false negative rate  selection rate    count  \n",
       "majmin                                                                       \n",
       "majority             0.919007             0.010394        0.928336  69170.0  \n",
       "minority             0.831829             0.079392        0.842064  20540.0  "
      ]
     },
     "execution_count": 75,
     "metadata": {},
     "output_type": "execute_result"
    }
   ],
   "source": [
    "metric_frame.by_group"
   ]
  },
  {
   "cell_type": "code",
   "execution_count": 76,
   "id": "a9ddbe63",
   "metadata": {
    "execution": {
     "iopub.execute_input": "2025-08-05T14:35:15.174502Z",
     "iopub.status.busy": "2025-08-05T14:35:15.174186Z",
     "iopub.status.idle": "2025-08-05T14:35:17.434676Z",
     "shell.execute_reply": "2025-08-05T14:35:17.433713Z"
    },
    "papermill": {
     "duration": 2.283036,
     "end_time": "2025-08-05T14:35:17.436226",
     "exception": false,
     "start_time": "2025-08-05T14:35:15.153190",
     "status": "completed"
    },
    "tags": []
   },
   "outputs": [
    {
     "data": {
      "text/plain": [
       "array([[<Axes: title={'center': 'accuracy'}, xlabel='majmin'>,\n",
       "        <Axes: title={'center': 'balanced accuracy'}, xlabel='majmin'>,\n",
       "        <Axes: title={'center': 'f1'}, xlabel='majmin'>],\n",
       "       [<Axes: title={'center': 'precision'}, xlabel='majmin'>,\n",
       "        <Axes: title={'center': 'false positive rate'}, xlabel='majmin'>,\n",
       "        <Axes: title={'center': 'false negative rate'}, xlabel='majmin'>],\n",
       "       [<Axes: title={'center': 'selection rate'}, xlabel='majmin'>,\n",
       "        <Axes: title={'center': 'count'}, xlabel='majmin'>,\n",
       "        <Axes: xlabel='majmin'>]], dtype=object)"
      ]
     },
     "execution_count": 76,
     "metadata": {},
     "output_type": "execute_result"
    },
    {
     "data": {
      "image/png": "[encoded data removed]",
      "text/plain": [
       "<Figure size 1200x800 with 9 Axes>"
      ]
     },
     "metadata": {},
     "output_type": "display_data"
    }
   ],
   "source": [
    "# In a graphic\n",
    "metric_frame.by_group.plot.bar(\n",
    "    subplots=True,\n",
    "    layout=[3, 3],\n",
    "    legend=False,\n",
    "    figsize=[12, 8],\n",
    "    title=\"Show all metrics\",\n",
    ")"
   ]
  },
  {
   "cell_type": "markdown",
   "id": "f57a0bac",
   "metadata": {
    "papermill": {
     "duration": 0.027199,
     "end_time": "2025-08-05T14:35:17.490204",
     "exception": false,
     "start_time": "2025-08-05T14:35:17.463005",
     "status": "completed"
    },
    "tags": []
   },
   "source": [
    "# Final Output"
   ]
  },
  {
   "cell_type": "code",
   "execution_count": 77,
   "id": "96d280a3",
   "metadata": {
    "execution": {
     "iopub.execute_input": "2025-08-05T14:35:17.547506Z",
     "iopub.status.busy": "2025-08-05T14:35:17.546518Z",
     "iopub.status.idle": "2025-08-05T14:35:17.554831Z",
     "shell.execute_reply": "2025-08-05T14:35:17.553870Z"
    },
    "papermill": {
     "duration": 0.038574,
     "end_time": "2025-08-05T14:35:17.556234",
     "exception": false,
     "start_time": "2025-08-05T14:35:17.517660",
     "status": "completed"
    },
    "tags": []
   },
   "outputs": [
    {
     "data": {
      "text/plain": [
       "4"
      ]
     },
     "execution_count": 77,
     "metadata": {},
     "output_type": "execute_result"
    }
   ],
   "source": [
    "sub_universes = universe_analysis.generate_sub_universes()\n",
    "len(sub_universes)"
   ]
  },
  {
   "cell_type": "code",
   "execution_count": 78,
   "id": "92adf7ba",
   "metadata": {
    "execution": {
     "iopub.execute_input": "2025-08-05T14:35:17.587537Z",
     "iopub.status.busy": "2025-08-05T14:35:17.587154Z",
     "iopub.status.idle": "2025-08-05T14:35:17.594348Z",
     "shell.execute_reply": "2025-08-05T14:35:17.593328Z"
    },
    "papermill": {
     "duration": 0.024499,
     "end_time": "2025-08-05T14:35:17.595707",
     "exception": false,
     "start_time": "2025-08-05T14:35:17.571208",
     "status": "completed"
    },
    "tags": []
   },
   "outputs": [],
   "source": [
    "def filter_sub_universe_data(sub_universe, org_test):\n",
    "    # Keep all rows — no filtering\n",
    "    keep_rows_mask = np.ones(org_test.shape[0], dtype=bool)\n",
    "\n",
    "    print(f\"[INFO] Keeping all rows: {keep_rows_mask.sum()} rows retained.\")\n",
    "    return keep_rows_mask"
   ]
  },
  {
   "cell_type": "code",
   "execution_count": 79,
   "id": "4a759155",
   "metadata": {
    "execution": {
     "iopub.execute_input": "2025-08-05T14:35:17.627380Z",
     "iopub.status.busy": "2025-08-05T14:35:17.627015Z",
     "iopub.status.idle": "2025-08-05T14:35:27.247828Z",
     "shell.execute_reply": "2025-08-05T14:35:27.246457Z"
    },
    "papermill": {
     "duration": 9.638509,
     "end_time": "2025-08-05T14:35:27.250209",
     "exception": false,
     "start_time": "2025-08-05T14:35:17.611700",
     "status": "completed"
    },
    "tags": []
   },
   "outputs": [
    {
     "name": "stdout",
     "output_type": "stream",
     "text": [
      "Stopping execution_time clock.\n",
      "[INFO] Keeping all rows: 89710 rows retained.\n"
     ]
    },
    {
     "name": "stdout",
     "output_type": "stream",
     "text": [
      "[INFO] Keeping all rows: 89710 rows retained.\n"
     ]
    },
    {
     "name": "stdout",
     "output_type": "stream",
     "text": [
      "[INFO] Keeping all rows: 89710 rows retained.\n"
     ]
    },
    {
     "name": "stdout",
     "output_type": "stream",
     "text": [
      "[INFO] Keeping all rows: 89710 rows retained.\n"
     ]
    },
    {
     "data": {
      "text/html": [
       "<div>\n",
       "<style scoped>\n",
       "    .dataframe tbody tr th:only-of-type {\n",
       "        vertical-align: middle;\n",
       "    }\n",
       "\n",
       "    .dataframe tbody tr th {\n",
       "        vertical-align: top;\n",
       "    }\n",
       "\n",
       "    .dataframe thead th {\n",
       "        text-align: right;\n",
       "    }\n",
       "</style>\n",
       "<table border=\"1\" class=\"dataframe\">\n",
       "  <thead>\n",
       "    <tr style=\"text-align: right;\">\n",
       "      <th></th>\n",
       "      <th>run_no</th>\n",
       "      <th>universe_id</th>\n",
       "      <th>universe_settings</th>\n",
       "      <th>execution_time</th>\n",
       "      <th>test_size_n</th>\n",
       "      <th>test_size_frac</th>\n",
       "      <th>fair_main_equalized_odds_difference</th>\n",
       "      <th>fair_main_equalized_odds_ratio</th>\n",
       "      <th>fair_main_demographic_parity_difference</th>\n",
       "      <th>fair_main_demographic_parity_ratio</th>\n",
       "      <th>...</th>\n",
       "      <th>perf_grp_precision_0</th>\n",
       "      <th>perf_grp_precision_1</th>\n",
       "      <th>perf_grp_false positive rate_0</th>\n",
       "      <th>perf_grp_false positive rate_1</th>\n",
       "      <th>perf_grp_false negative rate_0</th>\n",
       "      <th>perf_grp_false negative rate_1</th>\n",
       "      <th>perf_grp_selection rate_0</th>\n",
       "      <th>perf_grp_selection rate_1</th>\n",
       "      <th>perf_grp_count_0</th>\n",
       "      <th>perf_grp_count_1</th>\n",
       "    </tr>\n",
       "  </thead>\n",
       "  <tbody>\n",
       "    <tr>\n",
       "      <th>0</th>\n",
       "      <td>15</td>\n",
       "      <td>0fcde13c038893e8d88014cec98cfa3a</td>\n",
       "      <td>{\"cutoff\": \"quantile_0.1\", \"eval_fairness_grou...</td>\n",
       "      <td>48.686743</td>\n",
       "      <td>89710</td>\n",
       "      <td>1.0</td>\n",
       "      <td>0.087178</td>\n",
       "      <td>0.905139</td>\n",
       "      <td>0.086272</td>\n",
       "      <td>0.907068</td>\n",
       "      <td>...</td>\n",
       "      <td>NaN</td>\n",
       "      <td>NaN</td>\n",
       "      <td>NaN</td>\n",
       "      <td>NaN</td>\n",
       "      <td>NaN</td>\n",
       "      <td>NaN</td>\n",
       "      <td>NaN</td>\n",
       "      <td>NaN</td>\n",
       "      <td>NaN</td>\n",
       "      <td>NaN</td>\n",
       "    </tr>\n",
       "    <tr>\n",
       "      <th>0</th>\n",
       "      <td>15</td>\n",
       "      <td>0fcde13c038893e8d88014cec98cfa3a</td>\n",
       "      <td>{\"cutoff\": \"quantile_0.1\", \"eval_fairness_grou...</td>\n",
       "      <td>48.686743</td>\n",
       "      <td>89710</td>\n",
       "      <td>1.0</td>\n",
       "      <td>0.087178</td>\n",
       "      <td>0.905139</td>\n",
       "      <td>0.086272</td>\n",
       "      <td>0.907068</td>\n",
       "      <td>...</td>\n",
       "      <td>0.126041</td>\n",
       "      <td>0.140859</td>\n",
       "      <td>0.831829</td>\n",
       "      <td>0.919007</td>\n",
       "      <td>0.079392</td>\n",
       "      <td>0.010394</td>\n",
       "      <td>0.842064</td>\n",
       "      <td>0.928336</td>\n",
       "      <td>20540.0</td>\n",
       "      <td>69170.0</td>\n",
       "    </tr>\n",
       "    <tr>\n",
       "      <th>0</th>\n",
       "      <td>15</td>\n",
       "      <td>0fcde13c038893e8d88014cec98cfa3a</td>\n",
       "      <td>{\"cutoff\": \"quantile_0.25\", \"eval_fairness_gro...</td>\n",
       "      <td>48.686743</td>\n",
       "      <td>89710</td>\n",
       "      <td>1.0</td>\n",
       "      <td>0.099921</td>\n",
       "      <td>0.896478</td>\n",
       "      <td>0.080825</td>\n",
       "      <td>0.899660</td>\n",
       "      <td>...</td>\n",
       "      <td>NaN</td>\n",
       "      <td>NaN</td>\n",
       "      <td>NaN</td>\n",
       "      <td>NaN</td>\n",
       "      <td>NaN</td>\n",
       "      <td>NaN</td>\n",
       "      <td>NaN</td>\n",
       "      <td>NaN</td>\n",
       "      <td>NaN</td>\n",
       "      <td>NaN</td>\n",
       "    </tr>\n",
       "    <tr>\n",
       "      <th>0</th>\n",
       "      <td>15</td>\n",
       "      <td>0fcde13c038893e8d88014cec98cfa3a</td>\n",
       "      <td>{\"cutoff\": \"quantile_0.25\", \"eval_fairness_gro...</td>\n",
       "      <td>48.686743</td>\n",
       "      <td>89710</td>\n",
       "      <td>1.0</td>\n",
       "      <td>0.099921</td>\n",
       "      <td>0.896478</td>\n",
       "      <td>0.080825</td>\n",
       "      <td>0.899660</td>\n",
       "      <td>...</td>\n",
       "      <td>0.137655</td>\n",
       "      <td>0.158336</td>\n",
       "      <td>0.706361</td>\n",
       "      <td>0.781193</td>\n",
       "      <td>0.134713</td>\n",
       "      <td>0.034792</td>\n",
       "      <td>0.724684</td>\n",
       "      <td>0.805508</td>\n",
       "      <td>20540.0</td>\n",
       "      <td>69170.0</td>\n",
       "    </tr>\n",
       "  </tbody>\n",
       "</table>\n",
       "<p>4 rows × 50 columns</p>\n",
       "</div>"
      ],
      "text/plain": [
       "  run_no                       universe_id  \\\n",
       "0     15  0fcde13c038893e8d88014cec98cfa3a   \n",
       "0     15  0fcde13c038893e8d88014cec98cfa3a   \n",
       "0     15  0fcde13c038893e8d88014cec98cfa3a   \n",
       "0     15  0fcde13c038893e8d88014cec98cfa3a   \n",
       "\n",
       "                                   universe_settings  execution_time  \\\n",
       "0  {\"cutoff\": \"quantile_0.1\", \"eval_fairness_grou...       48.686743   \n",
       "0  {\"cutoff\": \"quantile_0.1\", \"eval_fairness_grou...       48.686743   \n",
       "0  {\"cutoff\": \"quantile_0.25\", \"eval_fairness_gro...       48.686743   \n",
       "0  {\"cutoff\": \"quantile_0.25\", \"eval_fairness_gro...       48.686743   \n",
       "\n",
       "   test_size_n  test_size_frac  fair_main_equalized_odds_difference  \\\n",
       "0        89710             1.0                             0.087178   \n",
       "0        89710             1.0                             0.087178   \n",
       "0        89710             1.0                             0.099921   \n",
       "0        89710             1.0                             0.099921   \n",
       "\n",
       "   fair_main_equalized_odds_ratio  fair_main_demographic_parity_difference  \\\n",
       "0                        0.905139                                 0.086272   \n",
       "0                        0.905139                                 0.086272   \n",
       "0                        0.896478                                 0.080825   \n",
       "0                        0.896478                                 0.080825   \n",
       "\n",
       "   fair_main_demographic_parity_ratio  ...  perf_grp_precision_0  \\\n",
       "0                            0.907068  ...                   NaN   \n",
       "0                            0.907068  ...              0.126041   \n",
       "0                            0.899660  ...                   NaN   \n",
       "0                            0.899660  ...              0.137655   \n",
       "\n",
       "   perf_grp_precision_1  perf_grp_false positive rate_0  \\\n",
       "0                   NaN                             NaN   \n",
       "0              0.140859                        0.831829   \n",
       "0                   NaN                             NaN   \n",
       "0              0.158336                        0.706361   \n",
       "\n",
       "   perf_grp_false positive rate_1  perf_grp_false negative rate_0  \\\n",
       "0                             NaN                             NaN   \n",
       "0                        0.919007                        0.079392   \n",
       "0                             NaN                             NaN   \n",
       "0                        0.781193                        0.134713   \n",
       "\n",
       "   perf_grp_false negative rate_1  perf_grp_selection rate_0  \\\n",
       "0                             NaN                        NaN   \n",
       "0                        0.010394                   0.842064   \n",
       "0                             NaN                        NaN   \n",
       "0                        0.034792                   0.724684   \n",
       "\n",
       "   perf_grp_selection rate_1  perf_grp_count_0  perf_grp_count_1  \n",
       "0                        NaN               NaN               NaN  \n",
       "0                   0.928336           20540.0           69170.0  \n",
       "0                        NaN               NaN               NaN  \n",
       "0                   0.805508           20540.0           69170.0  \n",
       "\n",
       "[4 rows x 50 columns]"
      ]
     },
     "execution_count": 79,
     "metadata": {},
     "output_type": "execute_result"
    }
   ],
   "source": [
    "final_output = universe_analysis.generate_final_output(\n",
    "    y_pred_prob=probs_test,\n",
    "    y_test=y_true,\n",
    "    org_test=org_test,\n",
    "    filter_data=filter_sub_universe_data,\n",
    "    cp_metrics_df=cp_metrics_df,\n",
    "    save=True,\n",
    ")\n",
    "final_output"
   ]
  },
  {
   "cell_type": "code",
   "execution_count": null,
   "id": "721ff514-cb11-46f8-b6fc-50392f74b5cb",
   "metadata": {
    "papermill": {
     "duration": 0.045191,
     "end_time": "2025-08-05T14:35:27.343680",
     "exception": false,
     "start_time": "2025-08-05T14:35:27.298489",
     "status": "completed"
    },
    "tags": []
   },
   "outputs": [],
   "source": []
  }
 ],
 "metadata": {
  "celltoolbar": "Tags",
  "kernelspec": {
   "display_name": "Python (CMA Fairness)",
   "language": "python",
   "name": "cma_fair_env"
  },
  "language_info": {
   "codemirror_mode": {
    "name": "ipython",
    "version": 3
   },
   "file_extension": ".py",
   "mimetype": "text/x-python",
   "name": "python",
   "nbconvert_exporter": "python",
   "pygments_lexer": "ipython3",
   "version": "3.10.12"
  },
  "papermill": {
   "default_parameters": {},
   "duration": 62.768946,
   "end_time": "2025-08-05T14:35:28.311204",
   "environment_variables": {},
   "exception": null,
   "input_path": "universe_analysis.ipynb",
   "output_path": "output/runs/15/notebooks/m_15-0fcde13c038893e8d88014cec98cfa3a.ipynb",
   "parameters": {
    "output_dir": "output",
    "run_no": "15",
    "seed": "2023",
    "universe": "{\"cutoff\": [\"quantile_0.1\", \"quantile_0.25\"], \"eval_fairness_grouping\": [\"majority-minority\", \"nationality-all\"], \"exclude_features\": \"sex\", \"exclude_subgroups\": \"keep-all\", \"model\": \"rf\", \"scale\": \"scale\", \"training_size\": \"25k\", \"training_year\": \"2014\"}",
    "universe_id": "0fcde13c038893e8d88014cec98cfa3a"
   },
   "start_time": "2025-08-05T14:34:25.542258",
   "version": "2.6.0"
  }
 },
 "nbformat": 4,
 "nbformat_minor": 5
}