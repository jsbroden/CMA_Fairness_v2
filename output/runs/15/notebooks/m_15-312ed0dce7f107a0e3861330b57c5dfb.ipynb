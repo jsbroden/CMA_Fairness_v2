{
 "cells": [
  {
   "cell_type": "code",
   "execution_count": 1,
   "id": "f159f837-637b-42ba-96b5-ec9a68c44524",
   "metadata": {
    "execution": {
     "iopub.execute_input": "2025-08-05T14:41:06.291187Z",
     "iopub.status.busy": "2025-08-05T14:41:06.290363Z",
     "iopub.status.idle": "2025-08-05T14:41:06.304712Z",
     "shell.execute_reply": "2025-08-05T14:41:06.303719Z"
    },
    "papermill": {
     "duration": 0.032586,
     "end_time": "2025-08-05T14:41:06.306454",
     "exception": false,
     "start_time": "2025-08-05T14:41:06.273868",
     "status": "completed"
    },
    "tags": []
   },
   "outputs": [
    {
     "name": "stdout",
     "output_type": "stream",
     "text": [
      "/dss/dsshome1/0C/ra93lal2/cma/CMA_Fairness_v2\n"
     ]
    },
    {
     "name": "stderr",
     "output_type": "stream",
     "text": [
      "/dss/dsshome1/0C/ra93lal2/.local/share/virtualenvs/CMA_Fairness_v2-3j10GkSs/lib/python3.10/site-packages/IPython/core/magics/osm.py:393: UserWarning: This is now an optional IPython functionality, using bookmarks requires you to install the `pickleshare` library.\n",
      "  bkms = self.shell.db.get('bookmarks', {})\n",
      "/dss/dsshome1/0C/ra93lal2/.local/share/virtualenvs/CMA_Fairness_v2-3j10GkSs/lib/python3.10/site-packages/IPython/core/magics/osm.py:417: UserWarning: This is now an optional IPython functionality, setting dhist requires you to install the `pickleshare` library.\n",
      "  self.shell.db['dhist'] = compress_dhist(dhist)[-100:]\n"
     ]
    }
   ],
   "source": [
    "%cd ~/cma/CMA_Fairness_v2"
   ]
  },
  {
   "cell_type": "markdown",
   "id": "de2603b9",
   "metadata": {
    "papermill": {
     "duration": 0.014668,
     "end_time": "2025-08-05T14:41:06.336700",
     "exception": false,
     "start_time": "2025-08-05T14:41:06.322032",
     "status": "completed"
    },
    "tags": []
   },
   "source": [
    "The following cell holds the definition of our parameters, these values can be overriden by rendering the with e.g. the following command:\n",
    "\n",
    "papermill -p alpha 0.2 -p ratio 0.3 universe_analysis.ipynb output/test_run.ipynb"
   ]
  },
  {
   "cell_type": "code",
   "execution_count": 2,
   "id": "a80968a0-40bb-4fa9-85ef-2d5eefb01975",
   "metadata": {
    "execution": {
     "iopub.execute_input": "2025-08-05T14:41:06.368041Z",
     "iopub.status.busy": "2025-08-05T14:41:06.367514Z",
     "iopub.status.idle": "2025-08-05T14:41:06.373215Z",
     "shell.execute_reply": "2025-08-05T14:41:06.372159Z"
    },
    "papermill": {
     "duration": 0.023592,
     "end_time": "2025-08-05T14:41:06.374906",
     "exception": false,
     "start_time": "2025-08-05T14:41:06.351314",
     "status": "completed"
    },
    "tags": []
   },
   "outputs": [
    {
     "name": "stdout",
     "output_type": "stream",
     "text": [
      "Current working directory: /dss/dsshome1/0C/ra93lal2/cma/CMA_Fairness_v2\n"
     ]
    }
   ],
   "source": [
    "import os\n",
    "print(\"Current working directory:\", os.getcwd())"
   ]
  },
  {
   "cell_type": "code",
   "execution_count": 3,
   "id": "2dce4c03",
   "metadata": {
    "execution": {
     "iopub.execute_input": "2025-08-05T14:41:06.406989Z",
     "iopub.status.busy": "2025-08-05T14:41:06.406348Z",
     "iopub.status.idle": "2025-08-05T14:41:06.412660Z",
     "shell.execute_reply": "2025-08-05T14:41:06.411699Z"
    },
    "papermill": {
     "duration": 0.023717,
     "end_time": "2025-08-05T14:41:06.414383",
     "exception": false,
     "start_time": "2025-08-05T14:41:06.390666",
     "status": "completed"
    },
    "tags": [
     "parameters"
    ]
   },
   "outputs": [],
   "source": [
    "run_no = 0\n",
    "universe_id = \"test\"\n",
    "universe = {\n",
    "    \"training_size\": \"25k\", # \"25k\", \"5k\", \"1k\"\n",
    "    \"training_year\": \"2014\", # \"2014\", \"2012_14\", \"2010_14\"\n",
    "    \"scale\": \"scale\", # \"scale\", \"do-not-scale\",\n",
    "    \"model\": \"elasticnet\", # \"logreg\", \"penalized_logreg\", \"rf\", \"gbm\", \"elasticnet\"\n",
    "    \"cutoff\": [\"quantile_0.15\", \"quantile_0.30\"],\n",
    "    \"exclude_features\": \"age\", # \"none\", \"nationality\", \"sex\", \"nationality-sex\", \"age\"\n",
    "    \"exclude_subgroups\": \"keep-all\", # \"keep-all\", \"drop-non-german\"\n",
    "    \"eval_fairness_grouping\": [\"majority-minority\", \"nationality-all\"]\n",
    "}\n",
    "\n",
    "output_dir=\"./output\"\n",
    "seed=0"
   ]
  },
  {
   "cell_type": "code",
   "execution_count": 4,
   "id": "62244707",
   "metadata": {
    "execution": {
     "iopub.execute_input": "2025-08-05T14:41:06.447669Z",
     "iopub.status.busy": "2025-08-05T14:41:06.447003Z",
     "iopub.status.idle": "2025-08-05T14:41:06.451811Z",
     "shell.execute_reply": "2025-08-05T14:41:06.450991Z"
    },
    "papermill": {
     "duration": 0.022826,
     "end_time": "2025-08-05T14:41:06.453438",
     "exception": false,
     "start_time": "2025-08-05T14:41:06.430612",
     "status": "completed"
    },
    "tags": [
     "injected-parameters"
    ]
   },
   "outputs": [],
   "source": [
    "# Parameters\n",
    "universe_id = \"312ed0dce7f107a0e3861330b57c5dfb\"\n",
    "run_no = \"15\"\n",
    "universe = \"{\\\"cutoff\\\": [\\\"quantile_0.1\\\", \\\"quantile_0.25\\\"], \\\"eval_fairness_grouping\\\": [\\\"majority-minority\\\", \\\"nationality-all\\\"], \\\"exclude_features\\\": \\\"none\\\", \\\"exclude_subgroups\\\": \\\"keep-all\\\", \\\"model\\\": \\\"penalized_logreg\\\", \\\"scale\\\": \\\"do-not-scale\\\", \\\"training_size\\\": \\\"25k\\\", \\\"training_year\\\": \\\"2014\\\"}\"\n",
    "output_dir = \"output\"\n",
    "seed = \"2023\"\n"
   ]
  },
  {
   "cell_type": "code",
   "execution_count": 5,
   "id": "1650acaf",
   "metadata": {
    "execution": {
     "iopub.execute_input": "2025-08-05T14:41:06.485546Z",
     "iopub.status.busy": "2025-08-05T14:41:06.484851Z",
     "iopub.status.idle": "2025-08-05T14:41:06.489270Z",
     "shell.execute_reply": "2025-08-05T14:41:06.488370Z"
    },
    "papermill": {
     "duration": 0.022442,
     "end_time": "2025-08-05T14:41:06.491462",
     "exception": false,
     "start_time": "2025-08-05T14:41:06.469020",
     "status": "completed"
    },
    "tags": []
   },
   "outputs": [],
   "source": [
    "import json\n",
    "if isinstance(universe, str):\n",
    "    universe = json.loads(universe)"
   ]
  },
  {
   "cell_type": "code",
   "execution_count": 6,
   "id": "16620c48",
   "metadata": {
    "execution": {
     "iopub.execute_input": "2025-08-05T14:41:06.524246Z",
     "iopub.status.busy": "2025-08-05T14:41:06.523753Z",
     "iopub.status.idle": "2025-08-05T14:41:06.567008Z",
     "shell.execute_reply": "2025-08-05T14:41:06.566006Z"
    },
    "papermill": {
     "duration": 0.060599,
     "end_time": "2025-08-05T14:41:06.568546",
     "exception": false,
     "start_time": "2025-08-05T14:41:06.507947",
     "status": "completed"
    },
    "tags": []
   },
   "outputs": [],
   "source": [
    "# Auto-reload the custom package\n",
    "%load_ext autoreload\n",
    "%autoreload 1\n",
    "%aimport fairness_multiverse"
   ]
  },
  {
   "cell_type": "code",
   "execution_count": 7,
   "id": "01c5c9f3",
   "metadata": {
    "execution": {
     "iopub.execute_input": "2025-08-05T14:41:06.604043Z",
     "iopub.status.busy": "2025-08-05T14:41:06.603729Z",
     "iopub.status.idle": "2025-08-05T14:41:08.285833Z",
     "shell.execute_reply": "2025-08-05T14:41:08.284631Z"
    },
    "papermill": {
     "duration": 1.702006,
     "end_time": "2025-08-05T14:41:08.287864",
     "exception": false,
     "start_time": "2025-08-05T14:41:06.585858",
     "status": "completed"
    },
    "tags": []
   },
   "outputs": [],
   "source": [
    "from fairness_multiverse.universe import UniverseAnalysis\n",
    "\n",
    "universe_analysis = UniverseAnalysis(\n",
    "    run_no = run_no,\n",
    "    universe_id = universe_id,\n",
    "    universe = universe,\n",
    "    output_dir=output_dir,\n",
    ")"
   ]
  },
  {
   "cell_type": "code",
   "execution_count": 8,
   "id": "106241f5",
   "metadata": {
    "execution": {
     "iopub.execute_input": "2025-08-05T14:41:08.327556Z",
     "iopub.status.busy": "2025-08-05T14:41:08.327065Z",
     "iopub.status.idle": "2025-08-05T14:41:08.334627Z",
     "shell.execute_reply": "2025-08-05T14:41:08.333503Z"
    },
    "papermill": {
     "duration": 0.029082,
     "end_time": "2025-08-05T14:41:08.336476",
     "exception": false,
     "start_time": "2025-08-05T14:41:08.307394",
     "status": "completed"
    },
    "tags": []
   },
   "outputs": [
    {
     "name": "stdout",
     "output_type": "stream",
     "text": [
      "Using Seed: 2023\n"
     ]
    }
   ],
   "source": [
    "import numpy as np\n",
    "parsed_seed = int(seed)\n",
    "np.random.seed(parsed_seed)\n",
    "print(f\"Using Seed: {parsed_seed}\")"
   ]
  },
  {
   "cell_type": "markdown",
   "id": "e0ebdc57",
   "metadata": {
    "papermill": {
     "duration": 0.019558,
     "end_time": "2025-08-05T14:41:08.374593",
     "exception": false,
     "start_time": "2025-08-05T14:41:08.355035",
     "status": "completed"
    },
    "tags": []
   },
   "source": [
    "# Loading Data"
   ]
  },
  {
   "cell_type": "markdown",
   "id": "681925a3",
   "metadata": {
    "papermill": {
     "duration": 0.016799,
     "end_time": "2025-08-05T14:41:08.410245",
     "exception": false,
     "start_time": "2025-08-05T14:41:08.393446",
     "status": "completed"
    },
    "tags": []
   },
   "source": [
    "Load siab_train, siab_test, siab_calib and/or \n",
    "load siab_train_features, siab_train_labels"
   ]
  },
  {
   "cell_type": "code",
   "execution_count": 9,
   "id": "f0496b8a",
   "metadata": {
    "execution": {
     "iopub.execute_input": "2025-08-05T14:41:08.446591Z",
     "iopub.status.busy": "2025-08-05T14:41:08.445976Z",
     "iopub.status.idle": "2025-08-05T14:41:16.960336Z",
     "shell.execute_reply": "2025-08-05T14:41:16.959532Z"
    },
    "papermill": {
     "duration": 8.534385,
     "end_time": "2025-08-05T14:41:16.961899",
     "exception": false,
     "start_time": "2025-08-05T14:41:08.427514",
     "status": "completed"
    },
    "tags": []
   },
   "outputs": [
    {
     "name": "stdout",
     "output_type": "stream",
     "text": [
      "Loading SIAB data from cache: data/siab_cached.csv.gz\n"
     ]
    },
    {
     "name": "stdout",
     "output_type": "stream",
     "text": [
      "(643690, 164)\n"
     ]
    }
   ],
   "source": [
    "from pathlib import Path\n",
    "import pandas as pd\n",
    "\n",
    "# File paths\n",
    "raw_file = Path(\"data/raw/siab.csv\")\n",
    "cache_file = Path(\"data/siab_cached.csv.gz\")\n",
    "\n",
    "# Ensure cache directory exists\n",
    "cache_file.parent.mkdir(parents=True, exist_ok=True)\n",
    "\n",
    "# Load with simple caching\n",
    "if cache_file.exists():\n",
    "    print(f\"Loading SIAB data from cache: {cache_file}\")\n",
    "    siab = pd.read_csv(cache_file, compression='gzip')\n",
    "else:\n",
    "    print(f\"Cache not found. Reading raw SIAB data: {raw_file}\")\n",
    "    siab = pd.read_csv(raw_file)\n",
    "    siab.to_csv(cache_file, index=False, compression='gzip')\n",
    "    print(f\"Cached SIAB data to: {cache_file}\")\n",
    "\n",
    "print(siab.shape)"
   ]
  },
  {
   "cell_type": "code",
   "execution_count": 10,
   "id": "db0ca512-5f53-4dba-abdb-a2888bca41ba",
   "metadata": {
    "execution": {
     "iopub.execute_input": "2025-08-05T14:41:17.000052Z",
     "iopub.status.busy": "2025-08-05T14:41:16.999559Z",
     "iopub.status.idle": "2025-08-05T14:41:17.004613Z",
     "shell.execute_reply": "2025-08-05T14:41:17.003722Z"
    },
    "papermill": {
     "duration": 0.024798,
     "end_time": "2025-08-05T14:41:17.006240",
     "exception": false,
     "start_time": "2025-08-05T14:41:16.981442",
     "status": "completed"
    },
    "tags": []
   },
   "outputs": [],
   "source": [
    "#siab"
   ]
  },
  {
   "cell_type": "markdown",
   "id": "997051c5-15bd-4b69-9786-c3001a3ce484",
   "metadata": {
    "papermill": {
     "duration": 0.015788,
     "end_time": "2025-08-05T14:41:17.038646",
     "exception": false,
     "start_time": "2025-08-05T14:41:17.022858",
     "status": "completed"
    },
    "tags": []
   },
   "source": [
    "# Splitting Data and Setting Training Data Size"
   ]
  },
  {
   "cell_type": "code",
   "execution_count": 11,
   "id": "aea9c6ef-6f46-42c8-85eb-5a62025c1508",
   "metadata": {
    "execution": {
     "iopub.execute_input": "2025-08-05T14:41:17.072604Z",
     "iopub.status.busy": "2025-08-05T14:41:17.071790Z",
     "iopub.status.idle": "2025-08-05T14:41:17.338602Z",
     "shell.execute_reply": "2025-08-05T14:41:17.337773Z"
    },
    "papermill": {
     "duration": 0.285286,
     "end_time": "2025-08-05T14:41:17.339955",
     "exception": false,
     "start_time": "2025-08-05T14:41:17.054669",
     "status": "completed"
    },
    "tags": []
   },
   "outputs": [],
   "source": [
    "from fairness_multiverse.universe import sample_by_year_size\n",
    "\n",
    "siab_train = sample_by_year_size(siab,\n",
    "                               training_year=universe[\"training_year\"],\n",
    "                               training_size=universe[\"training_size\"])"
   ]
  },
  {
   "cell_type": "code",
   "execution_count": 12,
   "id": "8d3afb32-789d-442c-8d5d-9f5aa8dd2eed",
   "metadata": {
    "execution": {
     "iopub.execute_input": "2025-08-05T14:41:17.371540Z",
     "iopub.status.busy": "2025-08-05T14:41:17.370830Z",
     "iopub.status.idle": "2025-08-05T14:41:17.379152Z",
     "shell.execute_reply": "2025-08-05T14:41:17.378138Z"
    },
    "papermill": {
     "duration": 0.028457,
     "end_time": "2025-08-05T14:41:17.380805",
     "exception": false,
     "start_time": "2025-08-05T14:41:17.352348",
     "status": "completed"
    },
    "tags": []
   },
   "outputs": [],
   "source": [
    "#siab_train.shape"
   ]
  },
  {
   "cell_type": "code",
   "execution_count": 13,
   "id": "d582db68-1a4c-47fb-84fc-08518dc1975a",
   "metadata": {
    "execution": {
     "iopub.execute_input": "2025-08-05T14:41:17.415088Z",
     "iopub.status.busy": "2025-08-05T14:41:17.414382Z",
     "iopub.status.idle": "2025-08-05T14:41:17.419277Z",
     "shell.execute_reply": "2025-08-05T14:41:17.418245Z"
    },
    "papermill": {
     "duration": 0.023432,
     "end_time": "2025-08-05T14:41:17.421123",
     "exception": false,
     "start_time": "2025-08-05T14:41:17.397691",
     "status": "completed"
    },
    "tags": []
   },
   "outputs": [],
   "source": [
    "#display(siab_train.groupby(\"year\").size())"
   ]
  },
  {
   "cell_type": "code",
   "execution_count": 14,
   "id": "a561edb4-d032-42cb-8256-22eac1111c64",
   "metadata": {
    "execution": {
     "iopub.execute_input": "2025-08-05T14:41:17.455120Z",
     "iopub.status.busy": "2025-08-05T14:41:17.454747Z",
     "iopub.status.idle": "2025-08-05T14:41:17.693788Z",
     "shell.execute_reply": "2025-08-05T14:41:17.692568Z"
    },
    "papermill": {
     "duration": 0.257815,
     "end_time": "2025-08-05T14:41:17.695860",
     "exception": false,
     "start_time": "2025-08-05T14:41:17.438045",
     "status": "completed"
    },
    "tags": []
   },
   "outputs": [],
   "source": [
    "#siab_train = siab_s[siab_s.year < 2015]\n",
    "siab_calib = siab[siab.year == 2015]\n",
    "siab_test = siab[siab.year == 2016]"
   ]
  },
  {
   "cell_type": "code",
   "execution_count": 15,
   "id": "472de16f-c3db-4916-846b-1f0de9cf1746",
   "metadata": {
    "execution": {
     "iopub.execute_input": "2025-08-05T14:41:17.747119Z",
     "iopub.status.busy": "2025-08-05T14:41:17.746628Z",
     "iopub.status.idle": "2025-08-05T14:41:17.761033Z",
     "shell.execute_reply": "2025-08-05T14:41:17.759642Z"
    },
    "papermill": {
     "duration": 0.041539,
     "end_time": "2025-08-05T14:41:17.763008",
     "exception": false,
     "start_time": "2025-08-05T14:41:17.721469",
     "status": "completed"
    },
    "tags": []
   },
   "outputs": [],
   "source": [
    "X_train = siab_train.iloc[:,4:164]\n",
    "y_train = siab_train.iloc[:, [3]]"
   ]
  },
  {
   "cell_type": "code",
   "execution_count": 16,
   "id": "828c96af-f43a-4ed6-ba47-8ac73a47d56c",
   "metadata": {
    "execution": {
     "iopub.execute_input": "2025-08-05T14:41:17.801653Z",
     "iopub.status.busy": "2025-08-05T14:41:17.801136Z",
     "iopub.status.idle": "2025-08-05T14:41:17.855974Z",
     "shell.execute_reply": "2025-08-05T14:41:17.854931Z"
    },
    "papermill": {
     "duration": 0.075768,
     "end_time": "2025-08-05T14:41:17.857630",
     "exception": false,
     "start_time": "2025-08-05T14:41:17.781862",
     "status": "completed"
    },
    "tags": []
   },
   "outputs": [],
   "source": [
    "X_calib = siab_calib.iloc[:,4:164]\n",
    "y_calib = siab_calib.iloc[:, [3]]"
   ]
  },
  {
   "cell_type": "code",
   "execution_count": 17,
   "id": "c34be9c3-6bd6-476e-acd3-845840e303be",
   "metadata": {
    "execution": {
     "iopub.execute_input": "2025-08-05T14:41:17.898006Z",
     "iopub.status.busy": "2025-08-05T14:41:17.897442Z",
     "iopub.status.idle": "2025-08-05T14:41:17.955032Z",
     "shell.execute_reply": "2025-08-05T14:41:17.954037Z"
    },
    "papermill": {
     "duration": 0.078187,
     "end_time": "2025-08-05T14:41:17.956690",
     "exception": false,
     "start_time": "2025-08-05T14:41:17.878503",
     "status": "completed"
    },
    "tags": []
   },
   "outputs": [],
   "source": [
    "X_test = siab_test.iloc[:,4:164]\n",
    "y_true = siab_test.iloc[:, [3]]"
   ]
  },
  {
   "cell_type": "code",
   "execution_count": 18,
   "id": "e6c733c5",
   "metadata": {
    "execution": {
     "iopub.execute_input": "2025-08-05T14:41:17.993178Z",
     "iopub.status.busy": "2025-08-05T14:41:17.992440Z",
     "iopub.status.idle": "2025-08-05T14:41:18.090959Z",
     "shell.execute_reply": "2025-08-05T14:41:18.090036Z"
    },
    "papermill": {
     "duration": 0.118433,
     "end_time": "2025-08-05T14:41:18.092671",
     "exception": false,
     "start_time": "2025-08-05T14:41:17.974238",
     "status": "completed"
    },
    "tags": []
   },
   "outputs": [],
   "source": [
    "# Auxiliary data needed downstream in the pipeline\n",
    "\n",
    "org_train = X_train.copy()\n",
    "org_test = X_test.copy()\n",
    "org_calib = X_calib.copy()"
   ]
  },
  {
   "cell_type": "markdown",
   "id": "0a4a1b33",
   "metadata": {
    "papermill": {
     "duration": 0.017423,
     "end_time": "2025-08-05T14:41:18.126970",
     "exception": false,
     "start_time": "2025-08-05T14:41:18.109547",
     "status": "completed"
    },
    "tags": []
   },
   "source": [
    "# Preprocessing Data"
   ]
  },
  {
   "cell_type": "code",
   "execution_count": 19,
   "id": "ca879031",
   "metadata": {
    "execution": {
     "iopub.execute_input": "2025-08-05T14:41:18.168328Z",
     "iopub.status.busy": "2025-08-05T14:41:18.167812Z",
     "iopub.status.idle": "2025-08-05T14:41:18.174452Z",
     "shell.execute_reply": "2025-08-05T14:41:18.173475Z"
    },
    "papermill": {
     "duration": 0.029531,
     "end_time": "2025-08-05T14:41:18.176197",
     "exception": false,
     "start_time": "2025-08-05T14:41:18.146666",
     "status": "completed"
    },
    "tags": []
   },
   "outputs": [],
   "source": [
    "# EXCLUDE PROTECTED FEATURES\n",
    "# ----------------------\n",
    "# \"exclude_features\": \"none\", # \"nationality\", \"sex\", \"nationality-sex\"\n",
    "\n",
    "excluded_features = universe[\"exclude_features\"].split(\"-\") # split, e.g.: \"nationality-sex\" -> [\"nationality\", \"sex\"]\n",
    "excluded_features_dictionary = {\n",
    "    \"nationality\": [\"maxdeutsch1\", \"maxdeutsch.Missing.\"],\n",
    "    \"sex\": [\"frau1\"],\n",
    "    \"age\": [\"age\"],\n",
    "}"
   ]
  },
  {
   "cell_type": "code",
   "execution_count": 20,
   "id": "b745ac60",
   "metadata": {
    "execution": {
     "iopub.execute_input": "2025-08-05T14:41:18.211535Z",
     "iopub.status.busy": "2025-08-05T14:41:18.210932Z",
     "iopub.status.idle": "2025-08-05T14:41:18.216158Z",
     "shell.execute_reply": "2025-08-05T14:41:18.215103Z"
    },
    "papermill": {
     "duration": 0.024919,
     "end_time": "2025-08-05T14:41:18.217965",
     "exception": false,
     "start_time": "2025-08-05T14:41:18.193046",
     "status": "completed"
    },
    "tags": []
   },
   "outputs": [],
   "source": [
    "# Code nice names to column names\n",
    "\n",
    "excluded_features_columns = [\n",
    "    excluded_features_dictionary[f] for f in excluded_features if len(f) > 0 and f != \"none\"\n",
    "]"
   ]
  },
  {
   "cell_type": "code",
   "execution_count": 21,
   "id": "f84f73a2",
   "metadata": {
    "execution": {
     "iopub.execute_input": "2025-08-05T14:41:18.258579Z",
     "iopub.status.busy": "2025-08-05T14:41:18.258227Z",
     "iopub.status.idle": "2025-08-05T14:41:18.263104Z",
     "shell.execute_reply": "2025-08-05T14:41:18.262316Z"
    },
    "papermill": {
     "duration": 0.027168,
     "end_time": "2025-08-05T14:41:18.265064",
     "exception": false,
     "start_time": "2025-08-05T14:41:18.237896",
     "status": "completed"
    },
    "tags": []
   },
   "outputs": [],
   "source": [
    "from utils import flatten_once\n",
    "\n",
    "excluded_features_columns = flatten_once(excluded_features_columns)"
   ]
  },
  {
   "cell_type": "code",
   "execution_count": 22,
   "id": "884dea22",
   "metadata": {
    "execution": {
     "iopub.execute_input": "2025-08-05T14:41:18.308302Z",
     "iopub.status.busy": "2025-08-05T14:41:18.307749Z",
     "iopub.status.idle": "2025-08-05T14:41:18.313892Z",
     "shell.execute_reply": "2025-08-05T14:41:18.312861Z"
    },
    "papermill": {
     "duration": 0.029724,
     "end_time": "2025-08-05T14:41:18.315887",
     "exception": false,
     "start_time": "2025-08-05T14:41:18.286163",
     "status": "completed"
    },
    "tags": []
   },
   "outputs": [],
   "source": [
    "if len(excluded_features_columns) > 0:\n",
    "    print(f\"Dropping features: {excluded_features_columns}\")\n",
    "    X_train.drop(excluded_features_columns, axis=1, inplace=True)"
   ]
  },
  {
   "cell_type": "code",
   "execution_count": 23,
   "id": "95ab8b16",
   "metadata": {
    "execution": {
     "iopub.execute_input": "2025-08-05T14:41:18.355521Z",
     "iopub.status.busy": "2025-08-05T14:41:18.355024Z",
     "iopub.status.idle": "2025-08-05T14:41:18.360584Z",
     "shell.execute_reply": "2025-08-05T14:41:18.359649Z"
    },
    "papermill": {
     "duration": 0.026832,
     "end_time": "2025-08-05T14:41:18.362580",
     "exception": false,
     "start_time": "2025-08-05T14:41:18.335748",
     "status": "completed"
    },
    "tags": []
   },
   "outputs": [],
   "source": [
    "if len(excluded_features_columns) > 0:\n",
    "    print(f\"Dropping features: {excluded_features_columns}\")\n",
    "    X_test.drop(excluded_features_columns, axis=1, inplace=True)"
   ]
  },
  {
   "cell_type": "code",
   "execution_count": 24,
   "id": "1853aaf5-fb9f-46cb-a2b5-8ea4ae2237e4",
   "metadata": {
    "execution": {
     "iopub.execute_input": "2025-08-05T14:41:18.402983Z",
     "iopub.status.busy": "2025-08-05T14:41:18.402504Z",
     "iopub.status.idle": "2025-08-05T14:41:18.408112Z",
     "shell.execute_reply": "2025-08-05T14:41:18.407166Z"
    },
    "papermill": {
     "duration": 0.027438,
     "end_time": "2025-08-05T14:41:18.410011",
     "exception": false,
     "start_time": "2025-08-05T14:41:18.382573",
     "status": "completed"
    },
    "tags": []
   },
   "outputs": [],
   "source": [
    "if len(excluded_features_columns) > 0:\n",
    "    print(f\"Dropping features: {excluded_features_columns}\")\n",
    "    X_calib.drop(excluded_features_columns, axis=1, inplace=True)"
   ]
  },
  {
   "cell_type": "code",
   "execution_count": 25,
   "id": "76c4dc6d",
   "metadata": {
    "execution": {
     "iopub.execute_input": "2025-08-05T14:41:18.452448Z",
     "iopub.status.busy": "2025-08-05T14:41:18.452036Z",
     "iopub.status.idle": "2025-08-05T14:41:18.458206Z",
     "shell.execute_reply": "2025-08-05T14:41:18.457164Z"
    },
    "papermill": {
     "duration": 0.029925,
     "end_time": "2025-08-05T14:41:18.460128",
     "exception": false,
     "start_time": "2025-08-05T14:41:18.430203",
     "status": "completed"
    },
    "tags": []
   },
   "outputs": [],
   "source": [
    "# EXCLUDE CERTAIN SUBGROUPS\n",
    "# ----------------------\n",
    "\n",
    "mode = universe.get(\"exclude_subgroups\", \"keep-all\") \n",
    "# Fetches the exclude_subgroups setting from the universe dict.\n",
    "# Defaults to \"keep-all\" if the key is missing."
   ]
  },
  {
   "cell_type": "code",
   "execution_count": 26,
   "id": "21994072",
   "metadata": {
    "execution": {
     "iopub.execute_input": "2025-08-05T14:41:18.501268Z",
     "iopub.status.busy": "2025-08-05T14:41:18.500694Z",
     "iopub.status.idle": "2025-08-05T14:41:18.506732Z",
     "shell.execute_reply": "2025-08-05T14:41:18.506059Z"
    },
    "papermill": {
     "duration": 0.027187,
     "end_time": "2025-08-05T14:41:18.508007",
     "exception": false,
     "start_time": "2025-08-05T14:41:18.480820",
     "status": "completed"
    },
    "tags": []
   },
   "outputs": [],
   "source": [
    "if mode == \"keep-all\":\n",
    "    keep_mask = pd.Series(True, index=org_train.index)\n",
    "\n",
    "# org_train contains the original feature columns from features_org (in Simson)\n",
    "# features_org contains unprocessed features, for me X_train at beginning ???\n",
    "# For keep-all, creates a boolean Series (keep_mask) of all True, so no rows are removed.\n",
    "\n",
    "elif mode == \"drop-non-german\":\n",
    "    keep_mask = org_train[\"maxdeutsch1\"] == 1 # ??? what about missing values?\n",
    "\n",
    "else:\n",
    "    raise ValueError(f\"Unsupported mode for exclude_subgroups: {mode}\")"
   ]
  },
  {
   "cell_type": "code",
   "execution_count": 27,
   "id": "71651440",
   "metadata": {
    "execution": {
     "iopub.execute_input": "2025-08-05T14:41:18.534881Z",
     "iopub.status.busy": "2025-08-05T14:41:18.534222Z",
     "iopub.status.idle": "2025-08-05T14:41:18.542003Z",
     "shell.execute_reply": "2025-08-05T14:41:18.540126Z"
    },
    "papermill": {
     "duration": 0.025303,
     "end_time": "2025-08-05T14:41:18.543812",
     "exception": false,
     "start_time": "2025-08-05T14:41:18.518509",
     "status": "completed"
    },
    "tags": []
   },
   "outputs": [],
   "source": [
    "n_drop = (~keep_mask).sum() # Calculates how many rows are set to be dropped\n",
    "if n_drop > 0:\n",
    "    pct = n_drop / len(keep_mask) * 100\n",
    "    print(f\"Dropping {n_drop} rows ({pct:.2f}%) where mode='{mode}'\")"
   ]
  },
  {
   "cell_type": "code",
   "execution_count": 28,
   "id": "5fb8eee5",
   "metadata": {
    "execution": {
     "iopub.execute_input": "2025-08-05T14:41:18.570264Z",
     "iopub.status.busy": "2025-08-05T14:41:18.569638Z",
     "iopub.status.idle": "2025-08-05T14:41:18.588725Z",
     "shell.execute_reply": "2025-08-05T14:41:18.587826Z"
    },
    "papermill": {
     "duration": 0.031419,
     "end_time": "2025-08-05T14:41:18.590497",
     "exception": false,
     "start_time": "2025-08-05T14:41:18.559078",
     "status": "completed"
    },
    "tags": []
   },
   "outputs": [],
   "source": [
    "X_train = X_train[keep_mask]"
   ]
  },
  {
   "cell_type": "code",
   "execution_count": 29,
   "id": "b202bb3a",
   "metadata": {
    "execution": {
     "iopub.execute_input": "2025-08-05T14:41:18.612052Z",
     "iopub.status.busy": "2025-08-05T14:41:18.611420Z",
     "iopub.status.idle": "2025-08-05T14:41:18.616745Z",
     "shell.execute_reply": "2025-08-05T14:41:18.615986Z"
    },
    "papermill": {
     "duration": 0.017029,
     "end_time": "2025-08-05T14:41:18.618160",
     "exception": false,
     "start_time": "2025-08-05T14:41:18.601131",
     "status": "completed"
    },
    "tags": []
   },
   "outputs": [],
   "source": [
    "y_train = y_train[keep_mask]"
   ]
  },
  {
   "cell_type": "markdown",
   "id": "493e2ac3",
   "metadata": {
    "papermill": {
     "duration": 0.019339,
     "end_time": "2025-08-05T14:41:18.649536",
     "exception": false,
     "start_time": "2025-08-05T14:41:18.630197",
     "status": "completed"
    },
    "tags": []
   },
   "source": [
    "# Model Training"
   ]
  },
  {
   "cell_type": "code",
   "execution_count": 30,
   "id": "679e1268",
   "metadata": {
    "execution": {
     "iopub.execute_input": "2025-08-05T14:41:18.690397Z",
     "iopub.status.busy": "2025-08-05T14:41:18.689915Z",
     "iopub.status.idle": "2025-08-05T14:41:18.794838Z",
     "shell.execute_reply": "2025-08-05T14:41:18.793824Z"
    },
    "papermill": {
     "duration": 0.127517,
     "end_time": "2025-08-05T14:41:18.796756",
     "exception": false,
     "start_time": "2025-08-05T14:41:18.669239",
     "status": "completed"
    },
    "tags": []
   },
   "outputs": [],
   "source": [
    "from sklearn.linear_model import LogisticRegression\n",
    "from sklearn.ensemble import GradientBoostingClassifier, RandomForestClassifier\n",
    "\n",
    "if (universe[\"model\"] == \"logreg\"):\n",
    "    model = LogisticRegression() #penalty=\"none\", solver=\"newton-cg\", max_iter=1) # include random_state=19 ?\n",
    "elif (universe[\"model\"] == \"penalized_logreg\"):\n",
    "    model = LogisticRegression(penalty=\"l2\", C=0.1) #, solver=\"newton-cg\", max_iter=1)\n",
    "elif (universe[\"model\"] == \"rf\"):\n",
    "    model = RandomForestClassifier() # n_estimators=100, n_jobs=-1\n",
    "elif (universe[\"model\"] == \"gbm\"):\n",
    "    model = GradientBoostingClassifier()\n",
    "elif (universe[\"model\"] == \"elasticnet\"):\n",
    "    model = LogisticRegression(penalty = 'elasticnet', solver = 'saga', l1_ratio = 0.5) # max_iter=5000\n",
    "else:\n",
    "    raise \"Unsupported universe.model\""
   ]
  },
  {
   "cell_type": "code",
   "execution_count": 31,
   "id": "0cc8f744",
   "metadata": {
    "execution": {
     "iopub.execute_input": "2025-08-05T14:41:18.837638Z",
     "iopub.status.busy": "2025-08-05T14:41:18.837167Z",
     "iopub.status.idle": "2025-08-05T14:41:18.843369Z",
     "shell.execute_reply": "2025-08-05T14:41:18.842378Z"
    },
    "papermill": {
     "duration": 0.028073,
     "end_time": "2025-08-05T14:41:18.845235",
     "exception": false,
     "start_time": "2025-08-05T14:41:18.817162",
     "status": "completed"
    },
    "tags": []
   },
   "outputs": [],
   "source": [
    "import numpy as np\n",
    "from sklearn.pipeline import Pipeline\n",
    "from sklearn.preprocessing import StandardScaler\n",
    "\n",
    "model = Pipeline([\n",
    "    #(\"continuous_processor\", continuous_processor),\n",
    "    #(\"categorical_preprocessor\", categorical_preprocessor),\n",
    "    (\"scale\", StandardScaler() if universe[\"scale\"] == \"scale\" else None), \n",
    "    (\"model\", model),\n",
    "])"
   ]
  },
  {
   "cell_type": "code",
   "execution_count": 32,
   "id": "9442c04d",
   "metadata": {
    "execution": {
     "iopub.execute_input": "2025-08-05T14:41:18.883980Z",
     "iopub.status.busy": "2025-08-05T14:41:18.883398Z",
     "iopub.status.idle": "2025-08-05T14:41:19.450703Z",
     "shell.execute_reply": "2025-08-05T14:41:19.449616Z"
    },
    "papermill": {
     "duration": 0.588954,
     "end_time": "2025-08-05T14:41:19.452883",
     "exception": false,
     "start_time": "2025-08-05T14:41:18.863929",
     "status": "completed"
    },
    "tags": []
   },
   "outputs": [
    {
     "name": "stderr",
     "output_type": "stream",
     "text": [
      "/dss/dsshome1/0C/ra93lal2/.local/share/virtualenvs/CMA_Fairness_v2-3j10GkSs/lib/python3.10/site-packages/sklearn/linear_model/_logistic.py:444: ConvergenceWarning: lbfgs failed to converge (status=1):\n",
      "STOP: TOTAL NO. of ITERATIONS REACHED LIMIT.\n",
      "\n",
      "Increase the number of iterations (max_iter) or scale the data as shown in:\n",
      "    https://scikit-learn.org/stable/modules/preprocessing.html\n",
      "Please also refer to the documentation for alternative solver options:\n",
      "    https://scikit-learn.org/stable/modules/linear_model.html#logistic-regression\n",
      "  n_iter_i = _check_optimize_result(\n"
     ]
    },
    {
     "data": {
      "text/html": [
       "<style>#sk-container-id-1 {color: black;background-color: white;}#sk-container-id-1 pre{padding: 0;}#sk-container-id-1 div.sk-toggleable {background-color: white;}#sk-container-id-1 label.sk-toggleable__label {cursor: pointer;display: block;width: 100%;margin-bottom: 0;padding: 0.3em;box-sizing: border-box;text-align: center;}#sk-container-id-1 label.sk-toggleable__label-arrow:before {content: \"▸\";float: left;margin-right: 0.25em;color: #696969;}#sk-container-id-1 label.sk-toggleable__label-arrow:hover:before {color: black;}#sk-container-id-1 div.sk-estimator:hover label.sk-toggleable__label-arrow:before {color: black;}#sk-container-id-1 div.sk-toggleable__content {max-height: 0;max-width: 0;overflow: hidden;text-align: left;background-color: #f0f8ff;}#sk-container-id-1 div.sk-toggleable__content pre {margin: 0.2em;color: black;border-radius: 0.25em;background-color: #f0f8ff;}#sk-container-id-1 input.sk-toggleable__control:checked~div.sk-toggleable__content {max-height: 200px;max-width: 100%;overflow: auto;}#sk-container-id-1 input.sk-toggleable__control:checked~label.sk-toggleable__label-arrow:before {content: \"▾\";}#sk-container-id-1 div.sk-estimator input.sk-toggleable__control:checked~label.sk-toggleable__label {background-color: #d4ebff;}#sk-container-id-1 div.sk-label input.sk-toggleable__control:checked~label.sk-toggleable__label {background-color: #d4ebff;}#sk-container-id-1 input.sk-hidden--visually {border: 0;clip: rect(1px 1px 1px 1px);clip: rect(1px, 1px, 1px, 1px);height: 1px;margin: -1px;overflow: hidden;padding: 0;position: absolute;width: 1px;}#sk-container-id-1 div.sk-estimator {font-family: monospace;background-color: #f0f8ff;border: 1px dotted black;border-radius: 0.25em;box-sizing: border-box;margin-bottom: 0.5em;}#sk-container-id-1 div.sk-estimator:hover {background-color: #d4ebff;}#sk-container-id-1 div.sk-parallel-item::after {content: \"\";width: 100%;border-bottom: 1px solid gray;flex-grow: 1;}#sk-container-id-1 div.sk-label:hover label.sk-toggleable__label {background-color: #d4ebff;}#sk-container-id-1 div.sk-serial::before {content: \"\";position: absolute;border-left: 1px solid gray;box-sizing: border-box;top: 0;bottom: 0;left: 50%;z-index: 0;}#sk-container-id-1 div.sk-serial {display: flex;flex-direction: column;align-items: center;background-color: white;padding-right: 0.2em;padding-left: 0.2em;position: relative;}#sk-container-id-1 div.sk-item {position: relative;z-index: 1;}#sk-container-id-1 div.sk-parallel {display: flex;align-items: stretch;justify-content: center;background-color: white;position: relative;}#sk-container-id-1 div.sk-item::before, #sk-container-id-1 div.sk-parallel-item::before {content: \"\";position: absolute;border-left: 1px solid gray;box-sizing: border-box;top: 0;bottom: 0;left: 50%;z-index: -1;}#sk-container-id-1 div.sk-parallel-item {display: flex;flex-direction: column;z-index: 1;position: relative;background-color: white;}#sk-container-id-1 div.sk-parallel-item:first-child::after {align-self: flex-end;width: 50%;}#sk-container-id-1 div.sk-parallel-item:last-child::after {align-self: flex-start;width: 50%;}#sk-container-id-1 div.sk-parallel-item:only-child::after {width: 0;}#sk-container-id-1 div.sk-dashed-wrapped {border: 1px dashed gray;margin: 0 0.4em 0.5em 0.4em;box-sizing: border-box;padding-bottom: 0.4em;background-color: white;}#sk-container-id-1 div.sk-label label {font-family: monospace;font-weight: bold;display: inline-block;line-height: 1.2em;}#sk-container-id-1 div.sk-label-container {text-align: center;}#sk-container-id-1 div.sk-container {/* jupyter's `normalize.less` sets `[hidden] { display: none; }` but bootstrap.min.css set `[hidden] { display: none !important; }` so we also need the `!important` here to be able to override the default hidden behavior on the sphinx rendered scikit-learn.org. See: https://github.com/scikit-learn/scikit-learn/issues/21755 */display: inline-block !important;position: relative;}#sk-container-id-1 div.sk-text-repr-fallback {display: none;}</style><div id=\"sk-container-id-1\" class=\"sk-top-container\"><div class=\"sk-text-repr-fallback\"><pre>Pipeline(steps=[(&#x27;scale&#x27;, None), (&#x27;model&#x27;, LogisticRegression(C=0.1))])</pre><b>In a Jupyter environment, please rerun this cell to show the HTML representation or trust the notebook. <br />On GitHub, the HTML representation is unable to render, please try loading this page with nbviewer.org.</b></div><div class=\"sk-container\" hidden><div class=\"sk-item sk-dashed-wrapped\"><div class=\"sk-label-container\"><div class=\"sk-label sk-toggleable\"><input class=\"sk-toggleable__control sk-hidden--visually\" id=\"sk-estimator-id-1\" type=\"checkbox\" ><label for=\"sk-estimator-id-1\" class=\"sk-toggleable__label sk-toggleable__label-arrow\">Pipeline</label><div class=\"sk-toggleable__content\"><pre>Pipeline(steps=[(&#x27;scale&#x27;, None), (&#x27;model&#x27;, LogisticRegression(C=0.1))])</pre></div></div></div><div class=\"sk-serial\"><div class=\"sk-item\"><div class=\"sk-estimator sk-toggleable\"><input class=\"sk-toggleable__control sk-hidden--visually\" id=\"sk-estimator-id-2\" type=\"checkbox\" ><label for=\"sk-estimator-id-2\" class=\"sk-toggleable__label sk-toggleable__label-arrow\">None</label><div class=\"sk-toggleable__content\"><pre>None</pre></div></div></div><div class=\"sk-item\"><div class=\"sk-estimator sk-toggleable\"><input class=\"sk-toggleable__control sk-hidden--visually\" id=\"sk-estimator-id-3\" type=\"checkbox\" ><label for=\"sk-estimator-id-3\" class=\"sk-toggleable__label sk-toggleable__label-arrow\">LogisticRegression</label><div class=\"sk-toggleable__content\"><pre>LogisticRegression(C=0.1)</pre></div></div></div></div></div></div></div>"
      ],
      "text/plain": [
       "Pipeline(steps=[('scale', None), ('model', LogisticRegression(C=0.1))])"
      ]
     },
     "execution_count": 32,
     "metadata": {},
     "output_type": "execute_result"
    }
   ],
   "source": [
    "model.fit(X_train, y_train.values.ravel())"
   ]
  },
  {
   "cell_type": "code",
   "execution_count": 33,
   "id": "af59f8c0",
   "metadata": {
    "execution": {
     "iopub.execute_input": "2025-08-05T14:41:19.494673Z",
     "iopub.status.busy": "2025-08-05T14:41:19.494240Z",
     "iopub.status.idle": "2025-08-05T14:41:19.499208Z",
     "shell.execute_reply": "2025-08-05T14:41:19.498283Z"
    },
    "papermill": {
     "duration": 0.026816,
     "end_time": "2025-08-05T14:41:19.501020",
     "exception": false,
     "start_time": "2025-08-05T14:41:19.474204",
     "status": "completed"
    },
    "tags": []
   },
   "outputs": [],
   "source": [
    "from fairness_multiverse.universe import predict_w_threshold"
   ]
  },
  {
   "cell_type": "code",
   "execution_count": 34,
   "id": "a7cf2e16",
   "metadata": {
    "execution": {
     "iopub.execute_input": "2025-08-05T14:41:19.543075Z",
     "iopub.status.busy": "2025-08-05T14:41:19.542736Z",
     "iopub.status.idle": "2025-08-05T14:41:19.638465Z",
     "shell.execute_reply": "2025-08-05T14:41:19.637605Z"
    },
    "papermill": {
     "duration": 0.118197,
     "end_time": "2025-08-05T14:41:19.640198",
     "exception": false,
     "start_time": "2025-08-05T14:41:19.522001",
     "status": "completed"
    },
    "tags": []
   },
   "outputs": [
    {
     "data": {
      "text/plain": [
       "0.8633485676067328"
      ]
     },
     "execution_count": 34,
     "metadata": {},
     "output_type": "execute_result"
    }
   ],
   "source": [
    "probs_test = model.predict_proba(X_test)\n",
    "\n",
    "'''\n",
    "Below code returns a boolean array (or binary 0/1 array depending on how it’s used) where each element \n",
    "is True if the probability of class 1 is greater than or equal to the threshold, and False otherwise.\n",
    "'''\n",
    "y_pred_default = predict_w_threshold(probs_test, 0.5)\n",
    "\n",
    "from sklearn.metrics import accuracy_score\n",
    "\n",
    "# Naive prediction\n",
    "accuracy_score(y_true = y_true, y_pred = y_pred_default)"
   ]
  },
  {
   "cell_type": "code",
   "execution_count": 35,
   "id": "081964c3",
   "metadata": {
    "execution": {
     "iopub.execute_input": "2025-08-05T14:41:19.686632Z",
     "iopub.status.busy": "2025-08-05T14:41:19.686193Z",
     "iopub.status.idle": "2025-08-05T14:41:19.775274Z",
     "shell.execute_reply": "2025-08-05T14:41:19.774305Z"
    },
    "papermill": {
     "duration": 0.113273,
     "end_time": "2025-08-05T14:41:19.776954",
     "exception": false,
     "start_time": "2025-08-05T14:41:19.663681",
     "status": "completed"
    },
    "tags": []
   },
   "outputs": [
    {
     "data": {
      "text/plain": [
       "array([0, 0, 0, ..., 0, 0, 0])"
      ]
     },
     "execution_count": 35,
     "metadata": {},
     "output_type": "execute_result"
    }
   ],
   "source": [
    "model.predict(X_test)"
   ]
  },
  {
   "cell_type": "markdown",
   "id": "56c9705b",
   "metadata": {
    "papermill": {
     "duration": 0.019447,
     "end_time": "2025-08-05T14:41:19.817162",
     "exception": false,
     "start_time": "2025-08-05T14:41:19.797715",
     "status": "completed"
    },
    "tags": []
   },
   "source": [
    "# Conformal Prediction"
   ]
  },
  {
   "cell_type": "code",
   "execution_count": 36,
   "id": "160ec6ff",
   "metadata": {
    "execution": {
     "iopub.execute_input": "2025-08-05T14:41:19.858973Z",
     "iopub.status.busy": "2025-08-05T14:41:19.858420Z",
     "iopub.status.idle": "2025-08-05T14:41:19.863253Z",
     "shell.execute_reply": "2025-08-05T14:41:19.862352Z"
    },
    "papermill": {
     "duration": 0.027978,
     "end_time": "2025-08-05T14:41:19.864936",
     "exception": false,
     "start_time": "2025-08-05T14:41:19.836958",
     "status": "completed"
    },
    "tags": []
   },
   "outputs": [],
   "source": [
    "# Miscoverage level for conformal prediction (10% allowed error rate => 90% target coverage)\n",
    "alpha = 0.1"
   ]
  },
  {
   "cell_type": "code",
   "execution_count": 37,
   "id": "eadf4555-3dd3-440e-8e35-f82a4ad9f855",
   "metadata": {
    "execution": {
     "iopub.execute_input": "2025-08-05T14:41:19.910829Z",
     "iopub.status.busy": "2025-08-05T14:41:19.910268Z",
     "iopub.status.idle": "2025-08-05T14:41:19.996880Z",
     "shell.execute_reply": "2025-08-05T14:41:19.995823Z"
    },
    "papermill": {
     "duration": 0.112601,
     "end_time": "2025-08-05T14:41:19.999234",
     "exception": false,
     "start_time": "2025-08-05T14:41:19.886633",
     "status": "completed"
    },
    "tags": []
   },
   "outputs": [],
   "source": [
    "probs_calib = model.predict_proba(X_calib)"
   ]
  },
  {
   "cell_type": "code",
   "execution_count": 38,
   "id": "2ed93547-6d5d-4983-9b36-1ecb300da49a",
   "metadata": {
    "execution": {
     "iopub.execute_input": "2025-08-05T14:41:20.042572Z",
     "iopub.status.busy": "2025-08-05T14:41:20.042017Z",
     "iopub.status.idle": "2025-08-05T14:41:20.047434Z",
     "shell.execute_reply": "2025-08-05T14:41:20.046231Z"
    },
    "papermill": {
     "duration": 0.028352,
     "end_time": "2025-08-05T14:41:20.049217",
     "exception": false,
     "start_time": "2025-08-05T14:41:20.020865",
     "status": "completed"
    },
    "tags": []
   },
   "outputs": [],
   "source": [
    "y_calib = y_calib.values.ravel().astype(int)"
   ]
  },
  {
   "cell_type": "code",
   "execution_count": 39,
   "id": "65d1320d-f588-4b38-9072-62af1ae97f7d",
   "metadata": {
    "execution": {
     "iopub.execute_input": "2025-08-05T14:41:20.092027Z",
     "iopub.status.busy": "2025-08-05T14:41:20.091453Z",
     "iopub.status.idle": "2025-08-05T14:41:20.098360Z",
     "shell.execute_reply": "2025-08-05T14:41:20.097645Z"
    },
    "papermill": {
     "duration": 0.028338,
     "end_time": "2025-08-05T14:41:20.099664",
     "exception": false,
     "start_time": "2025-08-05T14:41:20.071326",
     "status": "completed"
    },
    "tags": []
   },
   "outputs": [],
   "source": [
    "from fairness_multiverse.conformal import compute_nc_scores\n",
    "\n",
    "# Compute nonconformity scores on calibration set (1 - probability of true class)\n",
    "nc_scores = compute_nc_scores(probs_calib, y_calib)"
   ]
  },
  {
   "cell_type": "code",
   "execution_count": 40,
   "id": "df3b8ca3-53b7-43d5-9667-7c85da7aeda2",
   "metadata": {
    "execution": {
     "iopub.execute_input": "2025-08-05T14:41:20.123112Z",
     "iopub.status.busy": "2025-08-05T14:41:20.122647Z",
     "iopub.status.idle": "2025-08-05T14:41:20.129111Z",
     "shell.execute_reply": "2025-08-05T14:41:20.128093Z"
    },
    "papermill": {
     "duration": 0.020645,
     "end_time": "2025-08-05T14:41:20.132171",
     "exception": false,
     "start_time": "2025-08-05T14:41:20.111526",
     "status": "completed"
    },
    "tags": []
   },
   "outputs": [],
   "source": [
    "from fairness_multiverse.conformal import find_threshold\n",
    "\n",
    "# Find conformal threshold q_hat for the given alpha (split conformal method)\n",
    "q_hat = find_threshold(nc_scores, alpha)"
   ]
  },
  {
   "cell_type": "code",
   "execution_count": 41,
   "id": "4d29e6c1-0ef6-4aa4-b8fe-4fe79b0d033a",
   "metadata": {
    "execution": {
     "iopub.execute_input": "2025-08-05T14:41:20.183315Z",
     "iopub.status.busy": "2025-08-05T14:41:20.182756Z",
     "iopub.status.idle": "2025-08-05T14:41:20.190554Z",
     "shell.execute_reply": "2025-08-05T14:41:20.189465Z"
    },
    "papermill": {
     "duration": 0.03562,
     "end_time": "2025-08-05T14:41:20.192621",
     "exception": false,
     "start_time": "2025-08-05T14:41:20.157001",
     "status": "completed"
    },
    "tags": []
   },
   "outputs": [
    {
     "data": {
      "text/plain": [
       "0.6815929549826574"
      ]
     },
     "execution_count": 41,
     "metadata": {},
     "output_type": "execute_result"
    }
   ],
   "source": [
    "q_hat"
   ]
  },
  {
   "cell_type": "code",
   "execution_count": 42,
   "id": "92460794-cdac-4be2-ba28-f28c0515a6fb",
   "metadata": {
    "execution": {
     "iopub.execute_input": "2025-08-05T14:41:20.227040Z",
     "iopub.status.busy": "2025-08-05T14:41:20.226700Z",
     "iopub.status.idle": "2025-08-05T14:41:20.951103Z",
     "shell.execute_reply": "2025-08-05T14:41:20.950073Z"
    },
    "papermill": {
     "duration": 0.737563,
     "end_time": "2025-08-05T14:41:20.952918",
     "exception": false,
     "start_time": "2025-08-05T14:41:20.215355",
     "status": "completed"
    },
    "tags": []
   },
   "outputs": [],
   "source": [
    "from fairness_multiverse.conformal import predict_conformal_sets\n",
    "\n",
    "# Generate prediction sets for each test example\n",
    "pred_sets = predict_conformal_sets(model, X_test, q_hat)"
   ]
  },
  {
   "cell_type": "code",
   "execution_count": 43,
   "id": "d90c9a65-e6db-4f5d-80cd-e68fb7e46829",
   "metadata": {
    "execution": {
     "iopub.execute_input": "2025-08-05T14:41:20.995465Z",
     "iopub.status.busy": "2025-08-05T14:41:20.994801Z",
     "iopub.status.idle": "2025-08-05T14:41:21.000975Z",
     "shell.execute_reply": "2025-08-05T14:41:20.999851Z"
    },
    "papermill": {
     "duration": 0.029843,
     "end_time": "2025-08-05T14:41:21.003292",
     "exception": false,
     "start_time": "2025-08-05T14:41:20.973449",
     "status": "completed"
    },
    "tags": []
   },
   "outputs": [],
   "source": [
    "y_true = y_true.squeeze()"
   ]
  },
  {
   "cell_type": "code",
   "execution_count": 44,
   "id": "3a58a54a-1e68-46b9-927a-df01f18aebc8",
   "metadata": {
    "execution": {
     "iopub.execute_input": "2025-08-05T14:41:21.047928Z",
     "iopub.status.busy": "2025-08-05T14:41:21.047095Z",
     "iopub.status.idle": "2025-08-05T14:41:21.765529Z",
     "shell.execute_reply": "2025-08-05T14:41:21.764756Z"
    },
    "papermill": {
     "duration": 0.742115,
     "end_time": "2025-08-05T14:41:21.767286",
     "exception": false,
     "start_time": "2025-08-05T14:41:21.025171",
     "status": "completed"
    },
    "tags": []
   },
   "outputs": [],
   "source": [
    "from fairness_multiverse.conformal import evaluate_sets\n",
    "\n",
    "# Evaluate coverage and average set size on test data\n",
    "metrics = evaluate_sets(pred_sets, y_true)"
   ]
  },
  {
   "cell_type": "markdown",
   "id": "2b569c12-9aaa-4c88-98c9-bbcd0cf3ebb8",
   "metadata": {
    "papermill": {
     "duration": 0.020018,
     "end_time": "2025-08-05T14:41:21.807859",
     "exception": false,
     "start_time": "2025-08-05T14:41:21.787841",
     "status": "completed"
    },
    "tags": []
   },
   "source": [
    "# CP Metrics"
   ]
  },
  {
   "cell_type": "code",
   "execution_count": 45,
   "id": "5ce0a5cb-201f-45a0-ade5-94c7f0bd6095",
   "metadata": {
    "execution": {
     "iopub.execute_input": "2025-08-05T14:41:21.850734Z",
     "iopub.status.busy": "2025-08-05T14:41:21.850217Z",
     "iopub.status.idle": "2025-08-05T14:41:21.857319Z",
     "shell.execute_reply": "2025-08-05T14:41:21.856257Z"
    },
    "papermill": {
     "duration": 0.030077,
     "end_time": "2025-08-05T14:41:21.859119",
     "exception": false,
     "start_time": "2025-08-05T14:41:21.829042",
     "status": "completed"
    },
    "tags": []
   },
   "outputs": [
    {
     "data": {
      "text/plain": [
       "{'coverage': 0.9116486456359381, 'avg_size': 1.1988852970683312}"
      ]
     },
     "execution_count": 45,
     "metadata": {},
     "output_type": "execute_result"
    }
   ],
   "source": [
    "metrics"
   ]
  },
  {
   "cell_type": "code",
   "execution_count": 46,
   "id": "9b9a838d-31c9-430b-ae14-12baee460d17",
   "metadata": {
    "execution": {
     "iopub.execute_input": "2025-08-05T14:41:21.900332Z",
     "iopub.status.busy": "2025-08-05T14:41:21.899899Z",
     "iopub.status.idle": "2025-08-05T14:41:21.906428Z",
     "shell.execute_reply": "2025-08-05T14:41:21.905330Z"
    },
    "papermill": {
     "duration": 0.029053,
     "end_time": "2025-08-05T14:41:21.908262",
     "exception": false,
     "start_time": "2025-08-05T14:41:21.879209",
     "status": "completed"
    },
    "tags": []
   },
   "outputs": [],
   "source": [
    "example_universe = universe.copy()\n",
    "universe_training_year = example_universe.get(\"training_year\")\n",
    "universe_training_size = example_universe.get(\"training_size\")\n",
    "universe_scale = example_universe.get(\"scale\")\n",
    "universe_model = example_universe.get(\"model\")\n",
    "universe_exclude_features = example_universe.get(\"exclude_features\")\n",
    "universe_exclude_subgroups = example_universe.get(\"exclude_subgroups\")"
   ]
  },
  {
   "cell_type": "code",
   "execution_count": 47,
   "id": "f4b6a8ac-9dc0-4245-8a91-5b3b5999c4f9",
   "metadata": {
    "execution": {
     "iopub.execute_input": "2025-08-05T14:41:21.950809Z",
     "iopub.status.busy": "2025-08-05T14:41:21.950057Z",
     "iopub.status.idle": "2025-08-05T14:41:21.957333Z",
     "shell.execute_reply": "2025-08-05T14:41:21.956141Z"
    },
    "papermill": {
     "duration": 0.029937,
     "end_time": "2025-08-05T14:41:21.959278",
     "exception": false,
     "start_time": "2025-08-05T14:41:21.929341",
     "status": "completed"
    },
    "tags": []
   },
   "outputs": [],
   "source": [
    "cp_metrics_dict = {\n",
    "    \"universe_id\": [universe_id],\n",
    "    \"universe_training_year\": [universe_training_year],\n",
    "    \"universe_training_size\": [universe_training_size],\n",
    "    \"universe_scale\": [universe_scale],\n",
    "    \"universe_model\": [universe_model],\n",
    "    \"universe_exclude_features\": [universe_exclude_features],\n",
    "    \"universe_exclude_subgroups\": [universe_exclude_subgroups],\n",
    "    \"q_hat\": [q_hat],\n",
    "    \"coverage\": [metrics[\"coverage\"]],\n",
    "    \"avg_size\": [metrics[\"avg_size\"]],\n",
    "}"
   ]
  },
  {
   "cell_type": "code",
   "execution_count": 48,
   "id": "908acbb1-0371-4915-85ca-3fa520d2efe2",
   "metadata": {
    "execution": {
     "iopub.execute_input": "2025-08-05T14:41:22.002813Z",
     "iopub.status.busy": "2025-08-05T14:41:22.002083Z",
     "iopub.status.idle": "2025-08-05T14:41:22.010149Z",
     "shell.execute_reply": "2025-08-05T14:41:22.009049Z"
    },
    "papermill": {
     "duration": 0.031054,
     "end_time": "2025-08-05T14:41:22.011767",
     "exception": false,
     "start_time": "2025-08-05T14:41:21.980713",
     "status": "completed"
    },
    "tags": []
   },
   "outputs": [
    {
     "data": {
      "text/plain": [
       "{'universe_id': ['312ed0dce7f107a0e3861330b57c5dfb'],\n",
       " 'universe_training_year': ['2014'],\n",
       " 'universe_training_size': ['25k'],\n",
       " 'universe_scale': ['do-not-scale'],\n",
       " 'universe_model': ['penalized_logreg'],\n",
       " 'universe_exclude_features': ['none'],\n",
       " 'universe_exclude_subgroups': ['keep-all'],\n",
       " 'q_hat': [0.6815929549826574],\n",
       " 'coverage': [0.9116486456359381],\n",
       " 'avg_size': [1.1988852970683312]}"
      ]
     },
     "execution_count": 48,
     "metadata": {},
     "output_type": "execute_result"
    }
   ],
   "source": [
    "cp_metrics_dict"
   ]
  },
  {
   "cell_type": "code",
   "execution_count": 49,
   "id": "33007efc-14e9-4ec6-97ac-56a455c82265",
   "metadata": {
    "execution": {
     "iopub.execute_input": "2025-08-05T14:41:22.055880Z",
     "iopub.status.busy": "2025-08-05T14:41:22.055169Z",
     "iopub.status.idle": "2025-08-05T14:41:22.061927Z",
     "shell.execute_reply": "2025-08-05T14:41:22.060692Z"
    },
    "papermill": {
     "duration": 0.030637,
     "end_time": "2025-08-05T14:41:22.063541",
     "exception": false,
     "start_time": "2025-08-05T14:41:22.032904",
     "status": "completed"
    },
    "tags": []
   },
   "outputs": [],
   "source": [
    "cp_metrics_df = pd.DataFrame(cp_metrics_dict)"
   ]
  },
  {
   "cell_type": "code",
   "execution_count": 50,
   "id": "db12611b-57b2-4910-b9d0-355adfd6e7bf",
   "metadata": {
    "execution": {
     "iopub.execute_input": "2025-08-05T14:41:22.107277Z",
     "iopub.status.busy": "2025-08-05T14:41:22.106453Z",
     "iopub.status.idle": "2025-08-05T14:41:22.125090Z",
     "shell.execute_reply": "2025-08-05T14:41:22.124165Z"
    },
    "papermill": {
     "duration": 0.042688,
     "end_time": "2025-08-05T14:41:22.126907",
     "exception": false,
     "start_time": "2025-08-05T14:41:22.084219",
     "status": "completed"
    },
    "tags": []
   },
   "outputs": [
    {
     "data": {
      "text/html": [
       "<div>\n",
       "<style scoped>\n",
       "    .dataframe tbody tr th:only-of-type {\n",
       "        vertical-align: middle;\n",
       "    }\n",
       "\n",
       "    .dataframe tbody tr th {\n",
       "        vertical-align: top;\n",
       "    }\n",
       "\n",
       "    .dataframe thead th {\n",
       "        text-align: right;\n",
       "    }\n",
       "</style>\n",
       "<table border=\"1\" class=\"dataframe\">\n",
       "  <thead>\n",
       "    <tr style=\"text-align: right;\">\n",
       "      <th></th>\n",
       "      <th>universe_id</th>\n",
       "      <th>universe_training_year</th>\n",
       "      <th>universe_training_size</th>\n",
       "      <th>universe_scale</th>\n",
       "      <th>universe_model</th>\n",
       "      <th>universe_exclude_features</th>\n",
       "      <th>universe_exclude_subgroups</th>\n",
       "      <th>q_hat</th>\n",
       "      <th>coverage</th>\n",
       "      <th>avg_size</th>\n",
       "    </tr>\n",
       "  </thead>\n",
       "  <tbody>\n",
       "    <tr>\n",
       "      <th>0</th>\n",
       "      <td>312ed0dce7f107a0e3861330b57c5dfb</td>\n",
       "      <td>2014</td>\n",
       "      <td>25k</td>\n",
       "      <td>do-not-scale</td>\n",
       "      <td>penalized_logreg</td>\n",
       "      <td>none</td>\n",
       "      <td>keep-all</td>\n",
       "      <td>0.681593</td>\n",
       "      <td>0.911649</td>\n",
       "      <td>1.198885</td>\n",
       "    </tr>\n",
       "  </tbody>\n",
       "</table>\n",
       "</div>"
      ],
      "text/plain": [
       "                        universe_id universe_training_year  \\\n",
       "0  312ed0dce7f107a0e3861330b57c5dfb                   2014   \n",
       "\n",
       "  universe_training_size universe_scale    universe_model  \\\n",
       "0                    25k   do-not-scale  penalized_logreg   \n",
       "\n",
       "  universe_exclude_features universe_exclude_subgroups     q_hat  coverage  \\\n",
       "0                      none                   keep-all  0.681593  0.911649   \n",
       "\n",
       "   avg_size  \n",
       "0  1.198885  "
      ]
     },
     "execution_count": 50,
     "metadata": {},
     "output_type": "execute_result"
    }
   ],
   "source": [
    "cp_metrics_df"
   ]
  },
  {
   "cell_type": "code",
   "execution_count": 51,
   "id": "b7fbde55-a0a1-47e4-9af6-fe4a17fa8c61",
   "metadata": {
    "execution": {
     "iopub.execute_input": "2025-08-05T14:41:22.172140Z",
     "iopub.status.busy": "2025-08-05T14:41:22.171755Z",
     "iopub.status.idle": "2025-08-05T14:41:22.177034Z",
     "shell.execute_reply": "2025-08-05T14:41:22.175881Z"
    },
    "papermill": {
     "duration": 0.029604,
     "end_time": "2025-08-05T14:41:22.178682",
     "exception": false,
     "start_time": "2025-08-05T14:41:22.149078",
     "status": "completed"
    },
    "tags": []
   },
   "outputs": [],
   "source": [
    "# Conditional Coverage & looking at subgroups"
   ]
  },
  {
   "cell_type": "code",
   "execution_count": 52,
   "id": "027ae886-68dd-4141-96c7-805a5450e1ef",
   "metadata": {
    "execution": {
     "iopub.execute_input": "2025-08-05T14:41:22.224276Z",
     "iopub.status.busy": "2025-08-05T14:41:22.223866Z",
     "iopub.status.idle": "2025-08-05T14:41:22.487638Z",
     "shell.execute_reply": "2025-08-05T14:41:22.486490Z"
    },
    "papermill": {
     "duration": 0.289285,
     "end_time": "2025-08-05T14:41:22.489620",
     "exception": false,
     "start_time": "2025-08-05T14:41:22.200335",
     "status": "completed"
    },
    "tags": []
   },
   "outputs": [],
   "source": [
    "from fairness_multiverse.conformal import build_cp_groups\n",
    "\n",
    "cp_groups_df = build_cp_groups(pred_sets, y_true, X_test.index, org_test)\n",
    "#needs universe_id and setting"
   ]
  },
  {
   "cell_type": "code",
   "execution_count": 53,
   "id": "6cbdab96-b2b2-45af-ad54-d0516db2e28d",
   "metadata": {
    "execution": {
     "iopub.execute_input": "2025-08-05T14:41:22.534232Z",
     "iopub.status.busy": "2025-08-05T14:41:22.533570Z",
     "iopub.status.idle": "2025-08-05T14:41:24.601319Z",
     "shell.execute_reply": "2025-08-05T14:41:24.600325Z"
    },
    "papermill": {
     "duration": 2.092325,
     "end_time": "2025-08-05T14:41:24.603245",
     "exception": false,
     "start_time": "2025-08-05T14:41:22.510920",
     "status": "completed"
    },
    "tags": []
   },
   "outputs": [],
   "source": [
    "# Define covered = 1 if true_label is in the predicted set\n",
    "cp_groups_df['covered'] = cp_groups_df.apply(\n",
    "    lambda r: int(r['true_label'] in r['pred_set']),\n",
    "    axis=1\n",
    ")"
   ]
  },
  {
   "cell_type": "code",
   "execution_count": 54,
   "id": "338ff529-1a6b-4b87-a931-8e4788d52aad",
   "metadata": {
    "execution": {
     "iopub.execute_input": "2025-08-05T14:41:24.649185Z",
     "iopub.status.busy": "2025-08-05T14:41:24.648461Z",
     "iopub.status.idle": "2025-08-05T14:41:24.653891Z",
     "shell.execute_reply": "2025-08-05T14:41:24.652697Z"
    },
    "papermill": {
     "duration": 0.02972,
     "end_time": "2025-08-05T14:41:24.655687",
     "exception": false,
     "start_time": "2025-08-05T14:41:24.625967",
     "status": "completed"
    },
    "tags": []
   },
   "outputs": [],
   "source": [
    "#cp_groups_df"
   ]
  },
  {
   "cell_type": "code",
   "execution_count": 55,
   "id": "90032e27-66df-4540-9169-4e89cfbaa758",
   "metadata": {
    "execution": {
     "iopub.execute_input": "2025-08-05T14:41:24.702749Z",
     "iopub.status.busy": "2025-08-05T14:41:24.701955Z",
     "iopub.status.idle": "2025-08-05T14:41:24.713869Z",
     "shell.execute_reply": "2025-08-05T14:41:24.712899Z"
    },
    "papermill": {
     "duration": 0.037323,
     "end_time": "2025-08-05T14:41:24.715694",
     "exception": false,
     "start_time": "2025-08-05T14:41:24.678371",
     "status": "completed"
    },
    "tags": []
   },
   "outputs": [],
   "source": [
    "subgroups = ['frau1','nongerman','nongerman_male','nongerman_female']\n",
    "\n",
    "# Conditional coverage for subgroup==1\n",
    "cond_coverage = {\n",
    "    g: cp_groups_df.loc[cp_groups_df[g]==1, 'covered'].mean()\n",
    "    for g in subgroups\n",
    "}"
   ]
  },
  {
   "cell_type": "code",
   "execution_count": 56,
   "id": "1e348fb1-b9c3-45bc-ba23-f016827a7e0d",
   "metadata": {
    "execution": {
     "iopub.execute_input": "2025-08-05T14:41:24.766722Z",
     "iopub.status.busy": "2025-08-05T14:41:24.766014Z",
     "iopub.status.idle": "2025-08-05T14:41:24.774290Z",
     "shell.execute_reply": "2025-08-05T14:41:24.772984Z"
    },
    "papermill": {
     "duration": 0.034895,
     "end_time": "2025-08-05T14:41:24.776215",
     "exception": false,
     "start_time": "2025-08-05T14:41:24.741320",
     "status": "completed"
    },
    "tags": []
   },
   "outputs": [
    {
     "data": {
      "text/plain": [
       "{'frau1': 0.9095565440086265,\n",
       " 'nongerman': 0.9280300903834279,\n",
       " 'nongerman_male': 0.9422678555345402,\n",
       " 'nongerman_female': 0.9044709388971685}"
      ]
     },
     "execution_count": 56,
     "metadata": {},
     "output_type": "execute_result"
    }
   ],
   "source": [
    "cond_coverage"
   ]
  },
  {
   "cell_type": "code",
   "execution_count": 57,
   "id": "f5093324-c3dd-4d63-bc4c-8d945e5c8bbb",
   "metadata": {
    "execution": {
     "iopub.execute_input": "2025-08-05T14:41:24.850860Z",
     "iopub.status.busy": "2025-08-05T14:41:24.850296Z",
     "iopub.status.idle": "2025-08-05T14:41:24.858221Z",
     "shell.execute_reply": "2025-08-05T14:41:24.857051Z"
    },
    "papermill": {
     "duration": 0.058984,
     "end_time": "2025-08-05T14:41:24.861092",
     "exception": false,
     "start_time": "2025-08-05T14:41:24.802108",
     "status": "completed"
    },
    "tags": []
   },
   "outputs": [],
   "source": [
    "for subgroup, cov in cond_coverage.items():\n",
    "    cp_metrics_df[f\"cov_{subgroup}\"] = cov"
   ]
  },
  {
   "cell_type": "code",
   "execution_count": 58,
   "id": "6e872e10-dbe5-49e8-b554-5030c98ff75d",
   "metadata": {
    "execution": {
     "iopub.execute_input": "2025-08-05T14:41:24.913626Z",
     "iopub.status.busy": "2025-08-05T14:41:24.913087Z",
     "iopub.status.idle": "2025-08-05T14:41:24.933715Z",
     "shell.execute_reply": "2025-08-05T14:41:24.932630Z"
    },
    "papermill": {
     "duration": 0.047461,
     "end_time": "2025-08-05T14:41:24.935218",
     "exception": false,
     "start_time": "2025-08-05T14:41:24.887757",
     "status": "completed"
    },
    "tags": []
   },
   "outputs": [
    {
     "data": {
      "text/html": [
       "<div>\n",
       "<style scoped>\n",
       "    .dataframe tbody tr th:only-of-type {\n",
       "        vertical-align: middle;\n",
       "    }\n",
       "\n",
       "    .dataframe tbody tr th {\n",
       "        vertical-align: top;\n",
       "    }\n",
       "\n",
       "    .dataframe thead th {\n",
       "        text-align: right;\n",
       "    }\n",
       "</style>\n",
       "<table border=\"1\" class=\"dataframe\">\n",
       "  <thead>\n",
       "    <tr style=\"text-align: right;\">\n",
       "      <th></th>\n",
       "      <th>universe_id</th>\n",
       "      <th>universe_training_year</th>\n",
       "      <th>universe_training_size</th>\n",
       "      <th>universe_scale</th>\n",
       "      <th>universe_model</th>\n",
       "      <th>universe_exclude_features</th>\n",
       "      <th>universe_exclude_subgroups</th>\n",
       "      <th>q_hat</th>\n",
       "      <th>coverage</th>\n",
       "      <th>avg_size</th>\n",
       "      <th>cov_frau1</th>\n",
       "      <th>cov_nongerman</th>\n",
       "      <th>cov_nongerman_male</th>\n",
       "      <th>cov_nongerman_female</th>\n",
       "    </tr>\n",
       "  </thead>\n",
       "  <tbody>\n",
       "    <tr>\n",
       "      <th>0</th>\n",
       "      <td>312ed0dce7f107a0e3861330b57c5dfb</td>\n",
       "      <td>2014</td>\n",
       "      <td>25k</td>\n",
       "      <td>do-not-scale</td>\n",
       "      <td>penalized_logreg</td>\n",
       "      <td>none</td>\n",
       "      <td>keep-all</td>\n",
       "      <td>0.681593</td>\n",
       "      <td>0.911649</td>\n",
       "      <td>1.198885</td>\n",
       "      <td>0.909557</td>\n",
       "      <td>0.92803</td>\n",
       "      <td>0.942268</td>\n",
       "      <td>0.904471</td>\n",
       "    </tr>\n",
       "  </tbody>\n",
       "</table>\n",
       "</div>"
      ],
      "text/plain": [
       "                        universe_id universe_training_year  \\\n",
       "0  312ed0dce7f107a0e3861330b57c5dfb                   2014   \n",
       "\n",
       "  universe_training_size universe_scale    universe_model  \\\n",
       "0                    25k   do-not-scale  penalized_logreg   \n",
       "\n",
       "  universe_exclude_features universe_exclude_subgroups     q_hat  coverage  \\\n",
       "0                      none                   keep-all  0.681593  0.911649   \n",
       "\n",
       "   avg_size  cov_frau1  cov_nongerman  cov_nongerman_male  \\\n",
       "0  1.198885   0.909557        0.92803            0.942268   \n",
       "\n",
       "   cov_nongerman_female  \n",
       "0              0.904471  "
      ]
     },
     "execution_count": 58,
     "metadata": {},
     "output_type": "execute_result"
    }
   ],
   "source": [
    "cp_metrics_df"
   ]
  },
  {
   "cell_type": "markdown",
   "id": "33774451",
   "metadata": {
    "papermill": {
     "duration": 0.025501,
     "end_time": "2025-08-05T14:41:24.985724",
     "exception": false,
     "start_time": "2025-08-05T14:41:24.960223",
     "status": "completed"
    },
    "tags": []
   },
   "source": [
    "# (Fairness) Metrics"
   ]
  },
  {
   "cell_type": "code",
   "execution_count": 59,
   "id": "debc5d62",
   "metadata": {
    "execution": {
     "iopub.execute_input": "2025-08-05T14:41:25.036634Z",
     "iopub.status.busy": "2025-08-05T14:41:25.035709Z",
     "iopub.status.idle": "2025-08-05T14:41:25.057204Z",
     "shell.execute_reply": "2025-08-05T14:41:25.056202Z"
    },
    "papermill": {
     "duration": 0.048456,
     "end_time": "2025-08-05T14:41:25.059048",
     "exception": false,
     "start_time": "2025-08-05T14:41:25.010592",
     "status": "completed"
    },
    "tags": []
   },
   "outputs": [],
   "source": [
    "# do I need to include maxdeutsch1.missing?\n",
    "\n",
    "import numpy as np\n",
    "\n",
    "colname_to_bin = \"maxdeutsch1\"\n",
    "majority_value = org_train[colname_to_bin].mode()[0]\n",
    "\n",
    "org_test[\"majmin\"] = np.where(org_test[colname_to_bin] == majority_value, \"majority\", \"minority\")"
   ]
  },
  {
   "cell_type": "code",
   "execution_count": 60,
   "id": "06a50de5",
   "metadata": {
    "execution": {
     "iopub.execute_input": "2025-08-05T14:41:25.104642Z",
     "iopub.status.busy": "2025-08-05T14:41:25.104066Z",
     "iopub.status.idle": "2025-08-05T14:41:27.798892Z",
     "shell.execute_reply": "2025-08-05T14:41:27.797882Z"
    },
    "papermill": {
     "duration": 2.718592,
     "end_time": "2025-08-05T14:41:27.800878",
     "exception": false,
     "start_time": "2025-08-05T14:41:25.082286",
     "status": "completed"
    },
    "tags": []
   },
   "outputs": [],
   "source": [
    "example_universe = universe.copy()\n",
    "example_universe[\"cutoff\"] = example_universe[\"cutoff\"][0]\n",
    "example_universe[\"eval_fairness_grouping\"] = example_universe[\"eval_fairness_grouping\"][0]\n",
    "fairness_dict, metric_frame = universe_analysis.compute_metrics(\n",
    "    example_universe,\n",
    "    y_pred_prob=probs_test,\n",
    "    y_test=y_true,\n",
    "    org_test=org_test,\n",
    ")"
   ]
  },
  {
   "cell_type": "markdown",
   "id": "f95d4e02",
   "metadata": {
    "papermill": {
     "duration": 0.021532,
     "end_time": "2025-08-05T14:41:27.847998",
     "exception": false,
     "start_time": "2025-08-05T14:41:27.826466",
     "status": "completed"
    },
    "tags": []
   },
   "source": [
    "# Overall"
   ]
  },
  {
   "cell_type": "markdown",
   "id": "bdee4871",
   "metadata": {
    "papermill": {
     "duration": 0.022621,
     "end_time": "2025-08-05T14:41:27.892603",
     "exception": false,
     "start_time": "2025-08-05T14:41:27.869982",
     "status": "completed"
    },
    "tags": []
   },
   "source": [
    "Fairness\n",
    "Main fairness target: Equalized Odds. Seems to be a better fit than equal opportunity, since we're not only interested in Y = 1. Seems to be a better fit than demographic parity, since we also care about accuracy, not just equal distribution of preds.\n",
    "\n",
    "Pick column for computation of fairness metrics\n",
    "\n",
    "Performance\n",
    "Overall performance measures, most interesting in relation to the measures split by group below"
   ]
  },
  {
   "cell_type": "code",
   "execution_count": 61,
   "id": "c4e067c6",
   "metadata": {
    "execution": {
     "iopub.execute_input": "2025-08-05T14:41:27.938234Z",
     "iopub.status.busy": "2025-08-05T14:41:27.937324Z",
     "iopub.status.idle": "2025-08-05T14:41:27.946520Z",
     "shell.execute_reply": "2025-08-05T14:41:27.945378Z"
    },
    "papermill": {
     "duration": 0.034034,
     "end_time": "2025-08-05T14:41:27.948355",
     "exception": false,
     "start_time": "2025-08-05T14:41:27.914321",
     "status": "completed"
    },
    "tags": []
   },
   "outputs": [
    {
     "data": {
      "text/plain": [
       "accuracy                   0.217244\n",
       "balanced accuracy          0.532686\n",
       "f1                         0.238772\n",
       "precision                  0.136402\n",
       "false positive rate        0.891614\n",
       "false negative rate        0.043014\n",
       "selection rate             0.900000\n",
       "count                  89710.000000\n",
       "dtype: float64"
      ]
     },
     "execution_count": 61,
     "metadata": {},
     "output_type": "execute_result"
    }
   ],
   "source": [
    "metric_frame.overall"
   ]
  },
  {
   "cell_type": "markdown",
   "id": "e968fe9d",
   "metadata": {
    "papermill": {
     "duration": 0.024222,
     "end_time": "2025-08-05T14:41:27.998946",
     "exception": false,
     "start_time": "2025-08-05T14:41:27.974724",
     "status": "completed"
    },
    "tags": []
   },
   "source": [
    "By Group"
   ]
  },
  {
   "cell_type": "code",
   "execution_count": 62,
   "id": "ec325bce",
   "metadata": {
    "execution": {
     "iopub.execute_input": "2025-08-05T14:41:28.051704Z",
     "iopub.status.busy": "2025-08-05T14:41:28.051026Z",
     "iopub.status.idle": "2025-08-05T14:41:28.067155Z",
     "shell.execute_reply": "2025-08-05T14:41:28.066028Z"
    },
    "papermill": {
     "duration": 0.044193,
     "end_time": "2025-08-05T14:41:28.068961",
     "exception": false,
     "start_time": "2025-08-05T14:41:28.024768",
     "status": "completed"
    },
    "tags": []
   },
   "outputs": [
    {
     "data": {
      "text/html": [
       "<div>\n",
       "<style scoped>\n",
       "    .dataframe tbody tr th:only-of-type {\n",
       "        vertical-align: middle;\n",
       "    }\n",
       "\n",
       "    .dataframe tbody tr th {\n",
       "        vertical-align: top;\n",
       "    }\n",
       "\n",
       "    .dataframe thead th {\n",
       "        text-align: right;\n",
       "    }\n",
       "</style>\n",
       "<table border=\"1\" class=\"dataframe\">\n",
       "  <thead>\n",
       "    <tr style=\"text-align: right;\">\n",
       "      <th></th>\n",
       "      <th>accuracy</th>\n",
       "      <th>balanced accuracy</th>\n",
       "      <th>f1</th>\n",
       "      <th>precision</th>\n",
       "      <th>false positive rate</th>\n",
       "      <th>false negative rate</th>\n",
       "      <th>selection rate</th>\n",
       "      <th>count</th>\n",
       "    </tr>\n",
       "    <tr>\n",
       "      <th>majmin</th>\n",
       "      <th></th>\n",
       "      <th></th>\n",
       "      <th></th>\n",
       "      <th></th>\n",
       "      <th></th>\n",
       "      <th></th>\n",
       "      <th></th>\n",
       "      <th></th>\n",
       "    </tr>\n",
       "  </thead>\n",
       "  <tbody>\n",
       "    <tr>\n",
       "      <th>majority</th>\n",
       "      <td>0.238933</td>\n",
       "      <td>0.540009</td>\n",
       "      <td>0.247903</td>\n",
       "      <td>0.142568</td>\n",
       "      <td>0.869215</td>\n",
       "      <td>0.050766</td>\n",
       "      <td>0.879789</td>\n",
       "      <td>69170.0</td>\n",
       "    </tr>\n",
       "    <tr>\n",
       "      <th>minority</th>\n",
       "      <td>0.144206</td>\n",
       "      <td>0.510651</td>\n",
       "      <td>0.210049</td>\n",
       "      <td>0.117532</td>\n",
       "      <td>0.965606</td>\n",
       "      <td>0.013091</td>\n",
       "      <td>0.968062</td>\n",
       "      <td>20540.0</td>\n",
       "    </tr>\n",
       "  </tbody>\n",
       "</table>\n",
       "</div>"
      ],
      "text/plain": [
       "          accuracy  balanced accuracy        f1  precision  \\\n",
       "majmin                                                       \n",
       "majority  0.238933           0.540009  0.247903   0.142568   \n",
       "minority  0.144206           0.510651  0.210049   0.117532   \n",
       "\n",
       "          false positive rate  false negative rate  selection rate    count  \n",
       "majmin                                                                       \n",
       "majority             0.869215             0.050766        0.879789  69170.0  \n",
       "minority             0.965606             0.013091        0.968062  20540.0  "
      ]
     },
     "execution_count": 62,
     "metadata": {},
     "output_type": "execute_result"
    }
   ],
   "source": [
    "metric_frame.by_group"
   ]
  },
  {
   "cell_type": "code",
   "execution_count": 63,
   "id": "a9ddbe63",
   "metadata": {
    "execution": {
     "iopub.execute_input": "2025-08-05T14:41:28.123282Z",
     "iopub.status.busy": "2025-08-05T14:41:28.122317Z",
     "iopub.status.idle": "2025-08-05T14:41:30.951962Z",
     "shell.execute_reply": "2025-08-05T14:41:30.951243Z"
    },
    "papermill": {
     "duration": 2.857598,
     "end_time": "2025-08-05T14:41:30.953575",
     "exception": false,
     "start_time": "2025-08-05T14:41:28.095977",
     "status": "completed"
    },
    "tags": []
   },
   "outputs": [
    {
     "data": {
      "text/plain": [
       "array([[<Axes: title={'center': 'accuracy'}, xlabel='majmin'>,\n",
       "        <Axes: title={'center': 'balanced accuracy'}, xlabel='majmin'>,\n",
       "        <Axes: title={'center': 'f1'}, xlabel='majmin'>],\n",
       "       [<Axes: title={'center': 'precision'}, xlabel='majmin'>,\n",
       "        <Axes: title={'center': 'false positive rate'}, xlabel='majmin'>,\n",
       "        <Axes: title={'center': 'false negative rate'}, xlabel='majmin'>],\n",
       "       [<Axes: title={'center': 'selection rate'}, xlabel='majmin'>,\n",
       "        <Axes: title={'center': 'count'}, xlabel='majmin'>,\n",
       "        <Axes: xlabel='majmin'>]], dtype=object)"
      ]
     },
     "execution_count": 63,
     "metadata": {},
     "output_type": "execute_result"
    },
    {
     "data": {
      "image/png": "[encoded data removed]",
      "text/plain": [
       "<Figure size 1200x800 with 9 Axes>"
      ]
     },
     "metadata": {},
     "output_type": "display_data"
    }
   ],
   "source": [
    "# In a graphic\n",
    "metric_frame.by_group.plot.bar(\n",
    "    subplots=True,\n",
    "    layout=[3, 3],\n",
    "    legend=False,\n",
    "    figsize=[12, 8],\n",
    "    title=\"Show all metrics\",\n",
    ")"
   ]
  },
  {
   "cell_type": "markdown",
   "id": "f57a0bac",
   "metadata": {
    "papermill": {
     "duration": 0.029208,
     "end_time": "2025-08-05T14:41:31.028335",
     "exception": false,
     "start_time": "2025-08-05T14:41:30.999127",
     "status": "completed"
    },
    "tags": []
   },
   "source": [
    "# Final Output"
   ]
  },
  {
   "cell_type": "code",
   "execution_count": 64,
   "id": "96d280a3",
   "metadata": {
    "execution": {
     "iopub.execute_input": "2025-08-05T14:41:31.098850Z",
     "iopub.status.busy": "2025-08-05T14:41:31.097964Z",
     "iopub.status.idle": "2025-08-05T14:41:31.109091Z",
     "shell.execute_reply": "2025-08-05T14:41:31.107873Z"
    },
    "papermill": {
     "duration": 0.050092,
     "end_time": "2025-08-05T14:41:31.111273",
     "exception": false,
     "start_time": "2025-08-05T14:41:31.061181",
     "status": "completed"
    },
    "tags": []
   },
   "outputs": [
    {
     "data": {
      "text/plain": [
       "4"
      ]
     },
     "execution_count": 64,
     "metadata": {},
     "output_type": "execute_result"
    }
   ],
   "source": [
    "sub_universes = universe_analysis.generate_sub_universes()\n",
    "len(sub_universes)"
   ]
  },
  {
   "cell_type": "code",
   "execution_count": 65,
   "id": "92adf7ba",
   "metadata": {
    "execution": {
     "iopub.execute_input": "2025-08-05T14:41:31.184775Z",
     "iopub.status.busy": "2025-08-05T14:41:31.183998Z",
     "iopub.status.idle": "2025-08-05T14:41:31.191360Z",
     "shell.execute_reply": "2025-08-05T14:41:31.190102Z"
    },
    "papermill": {
     "duration": 0.046843,
     "end_time": "2025-08-05T14:41:31.193435",
     "exception": false,
     "start_time": "2025-08-05T14:41:31.146592",
     "status": "completed"
    },
    "tags": []
   },
   "outputs": [],
   "source": [
    "def filter_sub_universe_data(sub_universe, org_test):\n",
    "    # Keep all rows — no filtering\n",
    "    keep_rows_mask = np.ones(org_test.shape[0], dtype=bool)\n",
    "\n",
    "    print(f\"[INFO] Keeping all rows: {keep_rows_mask.sum()} rows retained.\")\n",
    "    return keep_rows_mask"
   ]
  },
  {
   "cell_type": "code",
   "execution_count": 66,
   "id": "4a759155",
   "metadata": {
    "execution": {
     "iopub.execute_input": "2025-08-05T14:41:31.259487Z",
     "iopub.status.busy": "2025-08-05T14:41:31.258583Z",
     "iopub.status.idle": "2025-08-05T14:41:40.436048Z",
     "shell.execute_reply": "2025-08-05T14:41:40.434954Z"
    },
    "papermill": {
     "duration": 9.21104,
     "end_time": "2025-08-05T14:41:40.437346",
     "exception": false,
     "start_time": "2025-08-05T14:41:31.226306",
     "status": "completed"
    },
    "tags": []
   },
   "outputs": [
    {
     "name": "stdout",
     "output_type": "stream",
     "text": [
      "Stopping execution_time clock.\n",
      "[INFO] Keeping all rows: 89710 rows retained.\n"
     ]
    },
    {
     "name": "stdout",
     "output_type": "stream",
     "text": [
      "[INFO] Keeping all rows: 89710 rows retained.\n"
     ]
    },
    {
     "name": "stdout",
     "output_type": "stream",
     "text": [
      "[INFO] Keeping all rows: 89710 rows retained.\n"
     ]
    },
    {
     "name": "stdout",
     "output_type": "stream",
     "text": [
      "[INFO] Keeping all rows: 89710 rows retained.\n"
     ]
    },
    {
     "data": {
      "text/html": [
       "<div>\n",
       "<style scoped>\n",
       "    .dataframe tbody tr th:only-of-type {\n",
       "        vertical-align: middle;\n",
       "    }\n",
       "\n",
       "    .dataframe tbody tr th {\n",
       "        vertical-align: top;\n",
       "    }\n",
       "\n",
       "    .dataframe thead th {\n",
       "        text-align: right;\n",
       "    }\n",
       "</style>\n",
       "<table border=\"1\" class=\"dataframe\">\n",
       "  <thead>\n",
       "    <tr style=\"text-align: right;\">\n",
       "      <th></th>\n",
       "      <th>run_no</th>\n",
       "      <th>universe_id</th>\n",
       "      <th>universe_settings</th>\n",
       "      <th>execution_time</th>\n",
       "      <th>test_size_n</th>\n",
       "      <th>test_size_frac</th>\n",
       "      <th>fair_main_equalized_odds_difference</th>\n",
       "      <th>fair_main_equalized_odds_ratio</th>\n",
       "      <th>fair_main_demographic_parity_difference</th>\n",
       "      <th>fair_main_demographic_parity_ratio</th>\n",
       "      <th>...</th>\n",
       "      <th>perf_grp_precision_0</th>\n",
       "      <th>perf_grp_precision_1</th>\n",
       "      <th>perf_grp_false positive rate_0</th>\n",
       "      <th>perf_grp_false positive rate_1</th>\n",
       "      <th>perf_grp_false negative rate_0</th>\n",
       "      <th>perf_grp_false negative rate_1</th>\n",
       "      <th>perf_grp_selection rate_0</th>\n",
       "      <th>perf_grp_selection rate_1</th>\n",
       "      <th>perf_grp_count_0</th>\n",
       "      <th>perf_grp_count_1</th>\n",
       "    </tr>\n",
       "  </thead>\n",
       "  <tbody>\n",
       "    <tr>\n",
       "      <th>0</th>\n",
       "      <td>15</td>\n",
       "      <td>312ed0dce7f107a0e3861330b57c5dfb</td>\n",
       "      <td>{\"cutoff\": \"quantile_0.1\", \"eval_fairness_grou...</td>\n",
       "      <td>23.037123</td>\n",
       "      <td>89710</td>\n",
       "      <td>1.0</td>\n",
       "      <td>0.096391</td>\n",
       "      <td>0.900176</td>\n",
       "      <td>0.088273</td>\n",
       "      <td>0.908814</td>\n",
       "      <td>...</td>\n",
       "      <td>NaN</td>\n",
       "      <td>NaN</td>\n",
       "      <td>NaN</td>\n",
       "      <td>NaN</td>\n",
       "      <td>NaN</td>\n",
       "      <td>NaN</td>\n",
       "      <td>NaN</td>\n",
       "      <td>NaN</td>\n",
       "      <td>NaN</td>\n",
       "      <td>NaN</td>\n",
       "    </tr>\n",
       "    <tr>\n",
       "      <th>0</th>\n",
       "      <td>15</td>\n",
       "      <td>312ed0dce7f107a0e3861330b57c5dfb</td>\n",
       "      <td>{\"cutoff\": \"quantile_0.1\", \"eval_fairness_grou...</td>\n",
       "      <td>23.037123</td>\n",
       "      <td>89710</td>\n",
       "      <td>1.0</td>\n",
       "      <td>0.096391</td>\n",
       "      <td>0.900176</td>\n",
       "      <td>0.088273</td>\n",
       "      <td>0.908814</td>\n",
       "      <td>...</td>\n",
       "      <td>0.117532</td>\n",
       "      <td>0.142568</td>\n",
       "      <td>0.965606</td>\n",
       "      <td>0.869215</td>\n",
       "      <td>0.013091</td>\n",
       "      <td>0.050766</td>\n",
       "      <td>0.968062</td>\n",
       "      <td>0.879789</td>\n",
       "      <td>20540.0</td>\n",
       "      <td>69170.0</td>\n",
       "    </tr>\n",
       "    <tr>\n",
       "      <th>0</th>\n",
       "      <td>15</td>\n",
       "      <td>312ed0dce7f107a0e3861330b57c5dfb</td>\n",
       "      <td>{\"cutoff\": \"quantile_0.25\", \"eval_fairness_gro...</td>\n",
       "      <td>23.037123</td>\n",
       "      <td>89710</td>\n",
       "      <td>1.0</td>\n",
       "      <td>0.212231</td>\n",
       "      <td>0.762302</td>\n",
       "      <td>0.194360</td>\n",
       "      <td>0.784009</td>\n",
       "      <td>...</td>\n",
       "      <td>NaN</td>\n",
       "      <td>NaN</td>\n",
       "      <td>NaN</td>\n",
       "      <td>NaN</td>\n",
       "      <td>NaN</td>\n",
       "      <td>NaN</td>\n",
       "      <td>NaN</td>\n",
       "      <td>NaN</td>\n",
       "      <td>NaN</td>\n",
       "      <td>NaN</td>\n",
       "    </tr>\n",
       "    <tr>\n",
       "      <th>0</th>\n",
       "      <td>15</td>\n",
       "      <td>312ed0dce7f107a0e3861330b57c5dfb</td>\n",
       "      <td>{\"cutoff\": \"quantile_0.25\", \"eval_fairness_gro...</td>\n",
       "      <td>23.037123</td>\n",
       "      <td>89710</td>\n",
       "      <td>1.0</td>\n",
       "      <td>0.212231</td>\n",
       "      <td>0.762302</td>\n",
       "      <td>0.194360</td>\n",
       "      <td>0.784009</td>\n",
       "      <td>...</td>\n",
       "      <td>0.122166</td>\n",
       "      <td>0.162729</td>\n",
       "      <td>0.892857</td>\n",
       "      <td>0.680626</td>\n",
       "      <td>0.046453</td>\n",
       "      <td>0.131182</td>\n",
       "      <td>0.899854</td>\n",
       "      <td>0.705494</td>\n",
       "      <td>20540.0</td>\n",
       "      <td>69170.0</td>\n",
       "    </tr>\n",
       "  </tbody>\n",
       "</table>\n",
       "<p>4 rows × 50 columns</p>\n",
       "</div>"
      ],
      "text/plain": [
       "  run_no                       universe_id  \\\n",
       "0     15  312ed0dce7f107a0e3861330b57c5dfb   \n",
       "0     15  312ed0dce7f107a0e3861330b57c5dfb   \n",
       "0     15  312ed0dce7f107a0e3861330b57c5dfb   \n",
       "0     15  312ed0dce7f107a0e3861330b57c5dfb   \n",
       "\n",
       "                                   universe_settings  execution_time  \\\n",
       "0  {\"cutoff\": \"quantile_0.1\", \"eval_fairness_grou...       23.037123   \n",
       "0  {\"cutoff\": \"quantile_0.1\", \"eval_fairness_grou...       23.037123   \n",
       "0  {\"cutoff\": \"quantile_0.25\", \"eval_fairness_gro...       23.037123   \n",
       "0  {\"cutoff\": \"quantile_0.25\", \"eval_fairness_gro...       23.037123   \n",
       "\n",
       "   test_size_n  test_size_frac  fair_main_equalized_odds_difference  \\\n",
       "0        89710             1.0                             0.096391   \n",
       "0        89710             1.0                             0.096391   \n",
       "0        89710             1.0                             0.212231   \n",
       "0        89710             1.0                             0.212231   \n",
       "\n",
       "   fair_main_equalized_odds_ratio  fair_main_demographic_parity_difference  \\\n",
       "0                        0.900176                                 0.088273   \n",
       "0                        0.900176                                 0.088273   \n",
       "0                        0.762302                                 0.194360   \n",
       "0                        0.762302                                 0.194360   \n",
       "\n",
       "   fair_main_demographic_parity_ratio  ...  perf_grp_precision_0  \\\n",
       "0                            0.908814  ...                   NaN   \n",
       "0                            0.908814  ...              0.117532   \n",
       "0                            0.784009  ...                   NaN   \n",
       "0                            0.784009  ...              0.122166   \n",
       "\n",
       "   perf_grp_precision_1  perf_grp_false positive rate_0  \\\n",
       "0                   NaN                             NaN   \n",
       "0              0.142568                        0.965606   \n",
       "0                   NaN                             NaN   \n",
       "0              0.162729                        0.892857   \n",
       "\n",
       "   perf_grp_false positive rate_1  perf_grp_false negative rate_0  \\\n",
       "0                             NaN                             NaN   \n",
       "0                        0.869215                        0.013091   \n",
       "0                             NaN                             NaN   \n",
       "0                        0.680626                        0.046453   \n",
       "\n",
       "   perf_grp_false negative rate_1  perf_grp_selection rate_0  \\\n",
       "0                             NaN                        NaN   \n",
       "0                        0.050766                   0.968062   \n",
       "0                             NaN                        NaN   \n",
       "0                        0.131182                   0.899854   \n",
       "\n",
       "   perf_grp_selection rate_1  perf_grp_count_0  perf_grp_count_1  \n",
       "0                        NaN               NaN               NaN  \n",
       "0                   0.879789           20540.0           69170.0  \n",
       "0                        NaN               NaN               NaN  \n",
       "0                   0.705494           20540.0           69170.0  \n",
       "\n",
       "[4 rows x 50 columns]"
      ]
     },
     "execution_count": 66,
     "metadata": {},
     "output_type": "execute_result"
    }
   ],
   "source": [
    "final_output = universe_analysis.generate_final_output(\n",
    "    y_pred_prob=probs_test,\n",
    "    y_test=y_true,\n",
    "    org_test=org_test,\n",
    "    filter_data=filter_sub_universe_data,\n",
    "    cp_metrics_df=cp_metrics_df,\n",
    "    save=True,\n",
    ")\n",
    "final_output"
   ]
  }
 ],
 "metadata": {
  "celltoolbar": "Tags",
  "kernelspec": {
   "display_name": "Python (CMA Fairness)",
   "language": "python",
   "name": "cma_fair_env"
  },
  "language_info": {
   "codemirror_mode": {
    "name": "ipython",
    "version": 3
   },
   "file_extension": ".py",
   "mimetype": "text/x-python",
   "name": "python",
   "nbconvert_exporter": "python",
   "pygments_lexer": "ipython3",
   "version": "3.10.12"
  },
  "papermill": {
   "default_parameters": {},
   "duration": 36.019454,
   "end_time": "2025-08-05T14:41:41.185294",
   "environment_variables": {},
   "exception": null,
   "input_path": "universe_analysis.ipynb",
   "output_path": "output/runs/15/notebooks/m_15-312ed0dce7f107a0e3861330b57c5dfb.ipynb",
   "parameters": {
    "output_dir": "output",
    "run_no": "15",
    "seed": "2023",
    "universe": "{\"cutoff\": [\"quantile_0.1\", \"quantile_0.25\"], \"eval_fairness_grouping\": [\"majority-minority\", \"nationality-all\"], \"exclude_features\": \"none\", \"exclude_subgroups\": \"keep-all\", \"model\": \"penalized_logreg\", \"scale\": \"do-not-scale\", \"training_size\": \"25k\", \"training_year\": \"2014\"}",
    "universe_id": "312ed0dce7f107a0e3861330b57c5dfb"
   },
   "start_time": "2025-08-05T14:41:05.165840",
   "version": "2.6.0"
  }
 },
 "nbformat": 4,
 "nbformat_minor": 5
}