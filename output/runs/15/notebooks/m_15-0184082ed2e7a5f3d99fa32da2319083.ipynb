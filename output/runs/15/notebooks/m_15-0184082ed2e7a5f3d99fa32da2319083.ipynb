{
 "cells": [
  {
   "cell_type": "code",
   "execution_count": 1,
   "id": "f159f837-637b-42ba-96b5-ec9a68c44524",
   "metadata": {
    "execution": {
     "iopub.execute_input": "2025-08-05T15:35:44.548048Z",
     "iopub.status.busy": "2025-08-05T15:35:44.547235Z",
     "iopub.status.idle": "2025-08-05T15:35:44.561468Z",
     "shell.execute_reply": "2025-08-05T15:35:44.560419Z"
    },
    "papermill": {
     "duration": 0.0348,
     "end_time": "2025-08-05T15:35:44.563130",
     "exception": false,
     "start_time": "2025-08-05T15:35:44.528330",
     "status": "completed"
    },
    "tags": []
   },
   "outputs": [
    {
     "name": "stdout",
     "output_type": "stream",
     "text": [
      "/dss/dsshome1/0C/ra93lal2/cma/CMA_Fairness_v2\n"
     ]
    },
    {
     "name": "stderr",
     "output_type": "stream",
     "text": [
      "/dss/dsshome1/0C/ra93lal2/.local/share/virtualenvs/CMA_Fairness_v2-3j10GkSs/lib/python3.10/site-packages/IPython/core/magics/osm.py:393: UserWarning: This is now an optional IPython functionality, using bookmarks requires you to install the `pickleshare` library.\n",
      "  bkms = self.shell.db.get('bookmarks', {})\n",
      "/dss/dsshome1/0C/ra93lal2/.local/share/virtualenvs/CMA_Fairness_v2-3j10GkSs/lib/python3.10/site-packages/IPython/core/magics/osm.py:417: UserWarning: This is now an optional IPython functionality, setting dhist requires you to install the `pickleshare` library.\n",
      "  self.shell.db['dhist'] = compress_dhist(dhist)[-100:]\n"
     ]
    }
   ],
   "source": [
    "%cd ~/cma/CMA_Fairness_v2"
   ]
  },
  {
   "cell_type": "markdown",
   "id": "de2603b9",
   "metadata": {
    "papermill": {
     "duration": 0.016352,
     "end_time": "2025-08-05T15:35:44.595914",
     "exception": false,
     "start_time": "2025-08-05T15:35:44.579562",
     "status": "completed"
    },
    "tags": []
   },
   "source": [
    "The following cell holds the definition of our parameters, these values can be overriden by rendering the with e.g. the following command:\n",
    "\n",
    "papermill -p alpha 0.2 -p ratio 0.3 universe_analysis.ipynb output/test_run.ipynb"
   ]
  },
  {
   "cell_type": "code",
   "execution_count": 2,
   "id": "a80968a0-40bb-4fa9-85ef-2d5eefb01975",
   "metadata": {
    "execution": {
     "iopub.execute_input": "2025-08-05T15:35:44.630263Z",
     "iopub.status.busy": "2025-08-05T15:35:44.629349Z",
     "iopub.status.idle": "2025-08-05T15:35:44.634973Z",
     "shell.execute_reply": "2025-08-05T15:35:44.634079Z"
    },
    "papermill": {
     "duration": 0.024562,
     "end_time": "2025-08-05T15:35:44.636867",
     "exception": false,
     "start_time": "2025-08-05T15:35:44.612305",
     "status": "completed"
    },
    "tags": []
   },
   "outputs": [
    {
     "name": "stdout",
     "output_type": "stream",
     "text": [
      "Current working directory: /dss/dsshome1/0C/ra93lal2/cma/CMA_Fairness_v2\n"
     ]
    }
   ],
   "source": [
    "import os\n",
    "print(\"Current working directory:\", os.getcwd())"
   ]
  },
  {
   "cell_type": "code",
   "execution_count": 3,
   "id": "2dce4c03",
   "metadata": {
    "execution": {
     "iopub.execute_input": "2025-08-05T15:35:44.675580Z",
     "iopub.status.busy": "2025-08-05T15:35:44.674775Z",
     "iopub.status.idle": "2025-08-05T15:35:44.681257Z",
     "shell.execute_reply": "2025-08-05T15:35:44.680157Z"
    },
    "papermill": {
     "duration": 0.027552,
     "end_time": "2025-08-05T15:35:44.683266",
     "exception": false,
     "start_time": "2025-08-05T15:35:44.655714",
     "status": "completed"
    },
    "tags": [
     "parameters"
    ]
   },
   "outputs": [],
   "source": [
    "run_no = 0\n",
    "universe_id = \"test\"\n",
    "universe = {\n",
    "    \"training_size\": \"25k\", # \"25k\", \"5k\", \"1k\"\n",
    "    \"training_year\": \"2014\", # \"2014\", \"2012_14\", \"2010_14\"\n",
    "    \"scale\": \"scale\", # \"scale\", \"do-not-scale\",\n",
    "    \"model\": \"elasticnet\", # \"logreg\", \"penalized_logreg\", \"rf\", \"gbm\", \"elasticnet\"\n",
    "    \"cutoff\": [\"quantile_0.15\", \"quantile_0.30\"],\n",
    "    \"exclude_features\": \"age\", # \"none\", \"nationality\", \"sex\", \"nationality-sex\", \"age\"\n",
    "    \"exclude_subgroups\": \"keep-all\", # \"keep-all\", \"drop-non-german\"\n",
    "    \"eval_fairness_grouping\": [\"majority-minority\", \"nationality-all\"]\n",
    "}\n",
    "\n",
    "output_dir=\"./output\"\n",
    "seed=0"
   ]
  },
  {
   "cell_type": "code",
   "execution_count": 4,
   "id": "462bca98",
   "metadata": {
    "execution": {
     "iopub.execute_input": "2025-08-05T15:35:44.722226Z",
     "iopub.status.busy": "2025-08-05T15:35:44.721512Z",
     "iopub.status.idle": "2025-08-05T15:35:44.726913Z",
     "shell.execute_reply": "2025-08-05T15:35:44.725993Z"
    },
    "papermill": {
     "duration": 0.026638,
     "end_time": "2025-08-05T15:35:44.728811",
     "exception": false,
     "start_time": "2025-08-05T15:35:44.702173",
     "status": "completed"
    },
    "tags": [
     "injected-parameters"
    ]
   },
   "outputs": [],
   "source": [
    "# Parameters\n",
    "universe_id = \"0184082ed2e7a5f3d99fa32da2319083\"\n",
    "run_no = \"15\"\n",
    "universe = \"{\\\"cutoff\\\": [\\\"quantile_0.1\\\", \\\"quantile_0.25\\\"], \\\"eval_fairness_grouping\\\": [\\\"majority-minority\\\", \\\"nationality-all\\\"], \\\"exclude_features\\\": \\\"nationality-sex\\\", \\\"exclude_subgroups\\\": \\\"keep-all\\\", \\\"model\\\": \\\"penalized_logreg\\\", \\\"scale\\\": \\\"scale\\\", \\\"training_size\\\": \\\"5k\\\", \\\"training_year\\\": \\\"2012_14\\\"}\"\n",
    "output_dir = \"output\"\n",
    "seed = \"2023\"\n"
   ]
  },
  {
   "cell_type": "code",
   "execution_count": 5,
   "id": "1650acaf",
   "metadata": {
    "execution": {
     "iopub.execute_input": "2025-08-05T15:35:44.764768Z",
     "iopub.status.busy": "2025-08-05T15:35:44.764087Z",
     "iopub.status.idle": "2025-08-05T15:35:44.769331Z",
     "shell.execute_reply": "2025-08-05T15:35:44.768317Z"
    },
    "papermill": {
     "duration": 0.024866,
     "end_time": "2025-08-05T15:35:44.771196",
     "exception": false,
     "start_time": "2025-08-05T15:35:44.746330",
     "status": "completed"
    },
    "tags": []
   },
   "outputs": [],
   "source": [
    "import json\n",
    "if isinstance(universe, str):\n",
    "    universe = json.loads(universe)"
   ]
  },
  {
   "cell_type": "code",
   "execution_count": 6,
   "id": "16620c48",
   "metadata": {
    "execution": {
     "iopub.execute_input": "2025-08-05T15:35:44.805605Z",
     "iopub.status.busy": "2025-08-05T15:35:44.804918Z",
     "iopub.status.idle": "2025-08-05T15:35:44.853396Z",
     "shell.execute_reply": "2025-08-05T15:35:44.852449Z"
    },
    "papermill": {
     "duration": 0.067456,
     "end_time": "2025-08-05T15:35:44.855281",
     "exception": false,
     "start_time": "2025-08-05T15:35:44.787825",
     "status": "completed"
    },
    "tags": []
   },
   "outputs": [],
   "source": [
    "# Auto-reload the custom package\n",
    "%load_ext autoreload\n",
    "%autoreload 1\n",
    "%aimport fairness_multiverse"
   ]
  },
  {
   "cell_type": "code",
   "execution_count": 7,
   "id": "01c5c9f3",
   "metadata": {
    "execution": {
     "iopub.execute_input": "2025-08-05T15:35:44.892629Z",
     "iopub.status.busy": "2025-08-05T15:35:44.891878Z",
     "iopub.status.idle": "2025-08-05T15:35:46.796589Z",
     "shell.execute_reply": "2025-08-05T15:35:46.795697Z"
    },
    "papermill": {
     "duration": 1.923082,
     "end_time": "2025-08-05T15:35:46.798045",
     "exception": false,
     "start_time": "2025-08-05T15:35:44.874963",
     "status": "completed"
    },
    "tags": []
   },
   "outputs": [],
   "source": [
    "from fairness_multiverse.universe import UniverseAnalysis\n",
    "\n",
    "universe_analysis = UniverseAnalysis(\n",
    "    run_no = run_no,\n",
    "    universe_id = universe_id,\n",
    "    universe = universe,\n",
    "    output_dir=output_dir,\n",
    ")"
   ]
  },
  {
   "cell_type": "code",
   "execution_count": 8,
   "id": "106241f5",
   "metadata": {
    "execution": {
     "iopub.execute_input": "2025-08-05T15:35:46.819105Z",
     "iopub.status.busy": "2025-08-05T15:35:46.818799Z",
     "iopub.status.idle": "2025-08-05T15:35:46.823647Z",
     "shell.execute_reply": "2025-08-05T15:35:46.822920Z"
    },
    "papermill": {
     "duration": 0.015635,
     "end_time": "2025-08-05T15:35:46.825343",
     "exception": false,
     "start_time": "2025-08-05T15:35:46.809708",
     "status": "completed"
    },
    "tags": []
   },
   "outputs": [
    {
     "name": "stdout",
     "output_type": "stream",
     "text": [
      "Using Seed: 2023\n"
     ]
    }
   ],
   "source": [
    "import numpy as np\n",
    "parsed_seed = int(seed)\n",
    "np.random.seed(parsed_seed)\n",
    "print(f\"Using Seed: {parsed_seed}\")"
   ]
  },
  {
   "cell_type": "markdown",
   "id": "e0ebdc57",
   "metadata": {
    "papermill": {
     "duration": 0.016766,
     "end_time": "2025-08-05T15:35:46.863107",
     "exception": false,
     "start_time": "2025-08-05T15:35:46.846341",
     "status": "completed"
    },
    "tags": []
   },
   "source": [
    "# Loading Data"
   ]
  },
  {
   "cell_type": "code",
   "execution_count": 9,
   "id": "f0496b8a",
   "metadata": {
    "execution": {
     "iopub.execute_input": "2025-08-05T15:35:46.896193Z",
     "iopub.status.busy": "2025-08-05T15:35:46.895860Z",
     "iopub.status.idle": "2025-08-05T15:35:56.684567Z",
     "shell.execute_reply": "2025-08-05T15:35:56.683388Z"
    },
    "papermill": {
     "duration": 9.806792,
     "end_time": "2025-08-05T15:35:56.686356",
     "exception": false,
     "start_time": "2025-08-05T15:35:46.879564",
     "status": "completed"
    },
    "tags": []
   },
   "outputs": [
    {
     "name": "stdout",
     "output_type": "stream",
     "text": [
      "Loading SIAB data from cache: data/siab_cached.csv.gz\n"
     ]
    },
    {
     "name": "stdout",
     "output_type": "stream",
     "text": [
      "(643690, 164)\n"
     ]
    }
   ],
   "source": [
    "from pathlib import Path\n",
    "import pandas as pd\n",
    "\n",
    "# File paths\n",
    "raw_file = Path(\"data/raw/siab.csv\")\n",
    "cache_file = Path(\"data/siab_cached.csv.gz\")\n",
    "\n",
    "# Ensure cache directory exists\n",
    "cache_file.parent.mkdir(parents=True, exist_ok=True)\n",
    "\n",
    "# Load with simple caching\n",
    "if cache_file.exists():\n",
    "    print(f\"Loading SIAB data from cache: {cache_file}\")\n",
    "    siab = pd.read_csv(cache_file, compression='gzip')\n",
    "else:\n",
    "    print(f\"Cache not found. Reading raw SIAB data: {raw_file}\")\n",
    "    siab = pd.read_csv(raw_file)\n",
    "    siab.to_csv(cache_file, index=False, compression='gzip')\n",
    "    print(f\"Cached SIAB data to: {cache_file}\")\n",
    "\n",
    "print(siab.shape)"
   ]
  },
  {
   "cell_type": "code",
   "execution_count": 10,
   "id": "db0ca512-5f53-4dba-abdb-a2888bca41ba",
   "metadata": {
    "execution": {
     "iopub.execute_input": "2025-08-05T15:35:56.727131Z",
     "iopub.status.busy": "2025-08-05T15:35:56.726145Z",
     "iopub.status.idle": "2025-08-05T15:35:56.732241Z",
     "shell.execute_reply": "2025-08-05T15:35:56.731178Z"
    },
    "papermill": {
     "duration": 0.028128,
     "end_time": "2025-08-05T15:35:56.734598",
     "exception": false,
     "start_time": "2025-08-05T15:35:56.706470",
     "status": "completed"
    },
    "tags": []
   },
   "outputs": [],
   "source": [
    "#siab"
   ]
  },
  {
   "cell_type": "markdown",
   "id": "997051c5-15bd-4b69-9786-c3001a3ce484",
   "metadata": {
    "papermill": {
     "duration": 0.022752,
     "end_time": "2025-08-05T15:35:56.783899",
     "exception": false,
     "start_time": "2025-08-05T15:35:56.761147",
     "status": "completed"
    },
    "tags": []
   },
   "source": [
    "# Splitting Data and Setting Training Data Size"
   ]
  },
  {
   "cell_type": "code",
   "execution_count": 11,
   "id": "aea9c6ef-6f46-42c8-85eb-5a62025c1508",
   "metadata": {
    "execution": {
     "iopub.execute_input": "2025-08-05T15:35:56.821913Z",
     "iopub.status.busy": "2025-08-05T15:35:56.820504Z",
     "iopub.status.idle": "2025-08-05T15:35:57.528215Z",
     "shell.execute_reply": "2025-08-05T15:35:57.527412Z"
    },
    "papermill": {
     "duration": 0.729086,
     "end_time": "2025-08-05T15:35:57.529886",
     "exception": false,
     "start_time": "2025-08-05T15:35:56.800800",
     "status": "completed"
    },
    "tags": []
   },
   "outputs": [],
   "source": [
    "from fairness_multiverse.universe import sample_by_year_size\n",
    "\n",
    "siab_train = sample_by_year_size(siab,\n",
    "                               training_year=universe[\"training_year\"],\n",
    "                               training_size=universe[\"training_size\"])"
   ]
  },
  {
   "cell_type": "code",
   "execution_count": 12,
   "id": "8d3afb32-789d-442c-8d5d-9f5aa8dd2eed",
   "metadata": {
    "execution": {
     "iopub.execute_input": "2025-08-05T15:35:57.553025Z",
     "iopub.status.busy": "2025-08-05T15:35:57.552666Z",
     "iopub.status.idle": "2025-08-05T15:35:57.557083Z",
     "shell.execute_reply": "2025-08-05T15:35:57.556089Z"
    },
    "papermill": {
     "duration": 0.017493,
     "end_time": "2025-08-05T15:35:57.558710",
     "exception": false,
     "start_time": "2025-08-05T15:35:57.541217",
     "status": "completed"
    },
    "tags": []
   },
   "outputs": [],
   "source": [
    "#siab_train.shape"
   ]
  },
  {
   "cell_type": "code",
   "execution_count": 13,
   "id": "d582db68-1a4c-47fb-84fc-08518dc1975a",
   "metadata": {
    "execution": {
     "iopub.execute_input": "2025-08-05T15:35:57.582783Z",
     "iopub.status.busy": "2025-08-05T15:35:57.582439Z",
     "iopub.status.idle": "2025-08-05T15:35:57.587020Z",
     "shell.execute_reply": "2025-08-05T15:35:57.585957Z"
    },
    "papermill": {
     "duration": 0.020186,
     "end_time": "2025-08-05T15:35:57.589200",
     "exception": false,
     "start_time": "2025-08-05T15:35:57.569014",
     "status": "completed"
    },
    "tags": []
   },
   "outputs": [],
   "source": [
    "#display(siab_train.groupby(\"year\").size())"
   ]
  },
  {
   "cell_type": "code",
   "execution_count": 14,
   "id": "a561edb4-d032-42cb-8256-22eac1111c64",
   "metadata": {
    "execution": {
     "iopub.execute_input": "2025-08-05T15:35:57.642039Z",
     "iopub.status.busy": "2025-08-05T15:35:57.641467Z",
     "iopub.status.idle": "2025-08-05T15:35:57.908769Z",
     "shell.execute_reply": "2025-08-05T15:35:57.907750Z"
    },
    "papermill": {
     "duration": 0.29733,
     "end_time": "2025-08-05T15:35:57.910333",
     "exception": false,
     "start_time": "2025-08-05T15:35:57.613003",
     "status": "completed"
    },
    "tags": []
   },
   "outputs": [],
   "source": [
    "#siab_train = siab_s[siab_s.year < 2015]\n",
    "siab_calib = siab[siab.year == 2015]\n",
    "siab_test = siab[siab.year == 2016]"
   ]
  },
  {
   "cell_type": "code",
   "execution_count": 15,
   "id": "472de16f-c3db-4916-846b-1f0de9cf1746",
   "metadata": {
    "execution": {
     "iopub.execute_input": "2025-08-05T15:35:57.949608Z",
     "iopub.status.busy": "2025-08-05T15:35:57.948820Z",
     "iopub.status.idle": "2025-08-05T15:35:57.959309Z",
     "shell.execute_reply": "2025-08-05T15:35:57.958115Z"
    },
    "papermill": {
     "duration": 0.034994,
     "end_time": "2025-08-05T15:35:57.961388",
     "exception": false,
     "start_time": "2025-08-05T15:35:57.926394",
     "status": "completed"
    },
    "tags": []
   },
   "outputs": [],
   "source": [
    "X_train = siab_train.iloc[:,4:164]\n",
    "y_train = siab_train.iloc[:, [3]]"
   ]
  },
  {
   "cell_type": "code",
   "execution_count": 16,
   "id": "828c96af-f43a-4ed6-ba47-8ac73a47d56c",
   "metadata": {
    "execution": {
     "iopub.execute_input": "2025-08-05T15:35:58.003901Z",
     "iopub.status.busy": "2025-08-05T15:35:58.003103Z",
     "iopub.status.idle": "2025-08-05T15:35:58.057166Z",
     "shell.execute_reply": "2025-08-05T15:35:58.055971Z"
    },
    "papermill": {
     "duration": 0.077801,
     "end_time": "2025-08-05T15:35:58.059132",
     "exception": false,
     "start_time": "2025-08-05T15:35:57.981331",
     "status": "completed"
    },
    "tags": []
   },
   "outputs": [],
   "source": [
    "X_calib = siab_calib.iloc[:,4:164]\n",
    "y_calib = siab_calib.iloc[:, [3]]"
   ]
  },
  {
   "cell_type": "code",
   "execution_count": 17,
   "id": "c34be9c3-6bd6-476e-acd3-845840e303be",
   "metadata": {
    "execution": {
     "iopub.execute_input": "2025-08-05T15:35:58.099612Z",
     "iopub.status.busy": "2025-08-05T15:35:58.098933Z",
     "iopub.status.idle": "2025-08-05T15:35:58.151508Z",
     "shell.execute_reply": "2025-08-05T15:35:58.150204Z"
    },
    "papermill": {
     "duration": 0.074483,
     "end_time": "2025-08-05T15:35:58.153736",
     "exception": false,
     "start_time": "2025-08-05T15:35:58.079253",
     "status": "completed"
    },
    "tags": []
   },
   "outputs": [],
   "source": [
    "X_test = siab_test.iloc[:,4:164]\n",
    "y_true = siab_test.iloc[:, [3]]"
   ]
  },
  {
   "cell_type": "code",
   "execution_count": 18,
   "id": "e6c733c5",
   "metadata": {
    "execution": {
     "iopub.execute_input": "2025-08-05T15:35:58.191726Z",
     "iopub.status.busy": "2025-08-05T15:35:58.191299Z",
     "iopub.status.idle": "2025-08-05T15:35:58.291624Z",
     "shell.execute_reply": "2025-08-05T15:35:58.290891Z"
    },
    "papermill": {
     "duration": 0.12106,
     "end_time": "2025-08-05T15:35:58.293254",
     "exception": false,
     "start_time": "2025-08-05T15:35:58.172194",
     "status": "completed"
    },
    "tags": []
   },
   "outputs": [],
   "source": [
    "# Auxiliary data needed downstream in the pipeline\n",
    "\n",
    "org_train = X_train.copy()\n",
    "org_test = X_test.copy()\n",
    "org_calib = X_calib.copy()"
   ]
  },
  {
   "cell_type": "markdown",
   "id": "0a4a1b33",
   "metadata": {
    "papermill": {
     "duration": 0.018076,
     "end_time": "2025-08-05T15:35:58.328729",
     "exception": false,
     "start_time": "2025-08-05T15:35:58.310653",
     "status": "completed"
    },
    "tags": []
   },
   "source": [
    "# Preprocessing Data"
   ]
  },
  {
   "cell_type": "code",
   "execution_count": 19,
   "id": "ca879031",
   "metadata": {
    "execution": {
     "iopub.execute_input": "2025-08-05T15:35:58.365882Z",
     "iopub.status.busy": "2025-08-05T15:35:58.365164Z",
     "iopub.status.idle": "2025-08-05T15:35:58.371307Z",
     "shell.execute_reply": "2025-08-05T15:35:58.370295Z"
    },
    "papermill": {
     "duration": 0.025823,
     "end_time": "2025-08-05T15:35:58.373147",
     "exception": false,
     "start_time": "2025-08-05T15:35:58.347324",
     "status": "completed"
    },
    "tags": []
   },
   "outputs": [],
   "source": [
    "# EXCLUDE PROTECTED FEATURES\n",
    "# ----------------------\n",
    "# \"exclude_features\": \"none\", # \"nationality\", \"sex\", \"nationality-sex\"\n",
    "\n",
    "excluded_features = universe[\"exclude_features\"].split(\"-\") # split, e.g.: \"nationality-sex\" -> [\"nationality\", \"sex\"]\n",
    "excluded_features_dictionary = {\n",
    "    \"nationality\": [\"maxdeutsch1\", \"maxdeutsch.Missing.\"],\n",
    "    \"sex\": [\"frau1\"],\n",
    "    \"age\": [\"age\"],\n",
    "}"
   ]
  },
  {
   "cell_type": "code",
   "execution_count": 20,
   "id": "b745ac60",
   "metadata": {
    "execution": {
     "iopub.execute_input": "2025-08-05T15:35:58.412055Z",
     "iopub.status.busy": "2025-08-05T15:35:58.411415Z",
     "iopub.status.idle": "2025-08-05T15:35:58.416967Z",
     "shell.execute_reply": "2025-08-05T15:35:58.416051Z"
    },
    "papermill": {
     "duration": 0.026961,
     "end_time": "2025-08-05T15:35:58.418961",
     "exception": false,
     "start_time": "2025-08-05T15:35:58.392000",
     "status": "completed"
    },
    "tags": []
   },
   "outputs": [],
   "source": [
    "# Code nice names to column names\n",
    "\n",
    "excluded_features_columns = [\n",
    "    excluded_features_dictionary[f] for f in excluded_features if len(f) > 0 and f != \"none\"\n",
    "]"
   ]
  },
  {
   "cell_type": "code",
   "execution_count": 21,
   "id": "f84f73a2",
   "metadata": {
    "execution": {
     "iopub.execute_input": "2025-08-05T15:35:58.459765Z",
     "iopub.status.busy": "2025-08-05T15:35:58.459431Z",
     "iopub.status.idle": "2025-08-05T15:35:58.465278Z",
     "shell.execute_reply": "2025-08-05T15:35:58.464303Z"
    },
    "papermill": {
     "duration": 0.028008,
     "end_time": "2025-08-05T15:35:58.466932",
     "exception": false,
     "start_time": "2025-08-05T15:35:58.438924",
     "status": "completed"
    },
    "tags": []
   },
   "outputs": [],
   "source": [
    "from utils import flatten_once\n",
    "\n",
    "excluded_features_columns = flatten_once(excluded_features_columns)"
   ]
  },
  {
   "cell_type": "code",
   "execution_count": 22,
   "id": "884dea22",
   "metadata": {
    "execution": {
     "iopub.execute_input": "2025-08-05T15:35:58.505815Z",
     "iopub.status.busy": "2025-08-05T15:35:58.504973Z",
     "iopub.status.idle": "2025-08-05T15:35:58.514109Z",
     "shell.execute_reply": "2025-08-05T15:35:58.513007Z"
    },
    "papermill": {
     "duration": 0.02995,
     "end_time": "2025-08-05T15:35:58.515860",
     "exception": false,
     "start_time": "2025-08-05T15:35:58.485910",
     "status": "completed"
    },
    "tags": []
   },
   "outputs": [
    {
     "name": "stdout",
     "output_type": "stream",
     "text": [
      "Dropping features: ['maxdeutsch1', 'maxdeutsch.Missing.', 'frau1']\n"
     ]
    }
   ],
   "source": [
    "if len(excluded_features_columns) > 0:\n",
    "    print(f\"Dropping features: {excluded_features_columns}\")\n",
    "    X_train.drop(excluded_features_columns, axis=1, inplace=True)"
   ]
  },
  {
   "cell_type": "code",
   "execution_count": 23,
   "id": "95ab8b16",
   "metadata": {
    "execution": {
     "iopub.execute_input": "2025-08-05T15:35:58.555939Z",
     "iopub.status.busy": "2025-08-05T15:35:58.555141Z",
     "iopub.status.idle": "2025-08-05T15:35:58.608736Z",
     "shell.execute_reply": "2025-08-05T15:35:58.607691Z"
    },
    "papermill": {
     "duration": 0.095614,
     "end_time": "2025-08-05T15:35:58.631227",
     "exception": false,
     "start_time": "2025-08-05T15:35:58.535613",
     "status": "completed"
    },
    "tags": []
   },
   "outputs": [
    {
     "name": "stdout",
     "output_type": "stream",
     "text": [
      "Dropping features: ['maxdeutsch1', 'maxdeutsch.Missing.', 'frau1']\n"
     ]
    }
   ],
   "source": [
    "if len(excluded_features_columns) > 0:\n",
    "    print(f\"Dropping features: {excluded_features_columns}\")\n",
    "    X_test.drop(excluded_features_columns, axis=1, inplace=True)"
   ]
  },
  {
   "cell_type": "code",
   "execution_count": 24,
   "id": "1853aaf5-fb9f-46cb-a2b5-8ea4ae2237e4",
   "metadata": {
    "execution": {
     "iopub.execute_input": "2025-08-05T15:35:58.670991Z",
     "iopub.status.busy": "2025-08-05T15:35:58.670344Z",
     "iopub.status.idle": "2025-08-05T15:35:58.721804Z",
     "shell.execute_reply": "2025-08-05T15:35:58.720705Z"
    },
    "papermill": {
     "duration": 0.074151,
     "end_time": "2025-08-05T15:35:58.723695",
     "exception": false,
     "start_time": "2025-08-05T15:35:58.649544",
     "status": "completed"
    },
    "tags": []
   },
   "outputs": [
    {
     "name": "stdout",
     "output_type": "stream",
     "text": [
      "Dropping features: ['maxdeutsch1', 'maxdeutsch.Missing.', 'frau1']\n"
     ]
    }
   ],
   "source": [
    "if len(excluded_features_columns) > 0:\n",
    "    print(f\"Dropping features: {excluded_features_columns}\")\n",
    "    X_calib.drop(excluded_features_columns, axis=1, inplace=True)"
   ]
  },
  {
   "cell_type": "code",
   "execution_count": 25,
   "id": "76c4dc6d",
   "metadata": {
    "execution": {
     "iopub.execute_input": "2025-08-05T15:35:58.766177Z",
     "iopub.status.busy": "2025-08-05T15:35:58.765754Z",
     "iopub.status.idle": "2025-08-05T15:35:58.771280Z",
     "shell.execute_reply": "2025-08-05T15:35:58.770192Z"
    },
    "papermill": {
     "duration": 0.027681,
     "end_time": "2025-08-05T15:35:58.773087",
     "exception": false,
     "start_time": "2025-08-05T15:35:58.745406",
     "status": "completed"
    },
    "tags": []
   },
   "outputs": [],
   "source": [
    "# EXCLUDE CERTAIN SUBGROUPS\n",
    "# ----------------------\n",
    "\n",
    "mode = universe.get(\"exclude_subgroups\", \"keep-all\") \n",
    "# Fetches the exclude_subgroups setting from the universe dict.\n",
    "# Defaults to \"keep-all\" if the key is missing."
   ]
  },
  {
   "cell_type": "code",
   "execution_count": 26,
   "id": "21994072",
   "metadata": {
    "execution": {
     "iopub.execute_input": "2025-08-05T15:35:58.813556Z",
     "iopub.status.busy": "2025-08-05T15:35:58.813217Z",
     "iopub.status.idle": "2025-08-05T15:35:58.819174Z",
     "shell.execute_reply": "2025-08-05T15:35:58.818162Z"
    },
    "papermill": {
     "duration": 0.028017,
     "end_time": "2025-08-05T15:35:58.821149",
     "exception": false,
     "start_time": "2025-08-05T15:35:58.793132",
     "status": "completed"
    },
    "tags": []
   },
   "outputs": [],
   "source": [
    "if mode == \"keep-all\":\n",
    "    keep_mask = pd.Series(True, index=org_train.index)\n",
    "\n",
    "# org_train contains the original feature columns from features_org (in Simson)\n",
    "# features_org contains unprocessed features, for me X_train at beginning ???\n",
    "# For keep-all, creates a boolean Series (keep_mask) of all True, so no rows are removed.\n",
    "\n",
    "elif mode == \"drop-non-german\":\n",
    "    keep_mask = org_train[\"maxdeutsch1\"] == 1 # ??? what about missing values?\n",
    "\n",
    "else:\n",
    "    raise ValueError(f\"Unsupported mode for exclude_subgroups: {mode}\")"
   ]
  },
  {
   "cell_type": "code",
   "execution_count": 27,
   "id": "71651440",
   "metadata": {
    "execution": {
     "iopub.execute_input": "2025-08-05T15:35:58.862817Z",
     "iopub.status.busy": "2025-08-05T15:35:58.862491Z",
     "iopub.status.idle": "2025-08-05T15:35:58.868791Z",
     "shell.execute_reply": "2025-08-05T15:35:58.867685Z"
    },
    "papermill": {
     "duration": 0.029294,
     "end_time": "2025-08-05T15:35:58.870637",
     "exception": false,
     "start_time": "2025-08-05T15:35:58.841343",
     "status": "completed"
    },
    "tags": []
   },
   "outputs": [],
   "source": [
    "n_drop = (~keep_mask).sum() # Calculates how many rows are set to be dropped\n",
    "if n_drop > 0:\n",
    "    pct = n_drop / len(keep_mask) * 100\n",
    "    print(f\"Dropping {n_drop} rows ({pct:.2f}%) where mode='{mode}'\")"
   ]
  },
  {
   "cell_type": "code",
   "execution_count": 28,
   "id": "5fb8eee5",
   "metadata": {
    "execution": {
     "iopub.execute_input": "2025-08-05T15:35:58.911934Z",
     "iopub.status.busy": "2025-08-05T15:35:58.911607Z",
     "iopub.status.idle": "2025-08-05T15:35:58.919498Z",
     "shell.execute_reply": "2025-08-05T15:35:58.918560Z"
    },
    "papermill": {
     "duration": 0.030394,
     "end_time": "2025-08-05T15:35:58.921273",
     "exception": false,
     "start_time": "2025-08-05T15:35:58.890879",
     "status": "completed"
    },
    "tags": []
   },
   "outputs": [],
   "source": [
    "X_train = X_train[keep_mask]"
   ]
  },
  {
   "cell_type": "code",
   "execution_count": 29,
   "id": "b202bb3a",
   "metadata": {
    "execution": {
     "iopub.execute_input": "2025-08-05T15:35:58.961943Z",
     "iopub.status.busy": "2025-08-05T15:35:58.961610Z",
     "iopub.status.idle": "2025-08-05T15:35:58.967524Z",
     "shell.execute_reply": "2025-08-05T15:35:58.966481Z"
    },
    "papermill": {
     "duration": 0.028305,
     "end_time": "2025-08-05T15:35:58.969378",
     "exception": false,
     "start_time": "2025-08-05T15:35:58.941073",
     "status": "completed"
    },
    "tags": []
   },
   "outputs": [],
   "source": [
    "y_train = y_train[keep_mask]"
   ]
  },
  {
   "cell_type": "markdown",
   "id": "493e2ac3",
   "metadata": {
    "papermill": {
     "duration": 0.019763,
     "end_time": "2025-08-05T15:35:59.009900",
     "exception": false,
     "start_time": "2025-08-05T15:35:58.990137",
     "status": "completed"
    },
    "tags": []
   },
   "source": [
    "# Model Training"
   ]
  },
  {
   "cell_type": "code",
   "execution_count": 30,
   "id": "679e1268",
   "metadata": {
    "execution": {
     "iopub.execute_input": "2025-08-05T15:35:59.034182Z",
     "iopub.status.busy": "2025-08-05T15:35:59.033772Z",
     "iopub.status.idle": "2025-08-05T15:35:59.139897Z",
     "shell.execute_reply": "2025-08-05T15:35:59.138933Z"
    },
    "papermill": {
     "duration": 0.118006,
     "end_time": "2025-08-05T15:35:59.141555",
     "exception": false,
     "start_time": "2025-08-05T15:35:59.023549",
     "status": "completed"
    },
    "tags": []
   },
   "outputs": [],
   "source": [
    "from sklearn.linear_model import LogisticRegression\n",
    "from sklearn.ensemble import GradientBoostingClassifier, RandomForestClassifier\n",
    "\n",
    "if (universe[\"model\"] == \"logreg\"):\n",
    "    model = LogisticRegression() #penalty=\"none\", solver=\"newton-cg\", max_iter=1) # include random_state=19 ?\n",
    "elif (universe[\"model\"] == \"penalized_logreg\"):\n",
    "    model = LogisticRegression(penalty=\"l2\", C=0.1) #, solver=\"newton-cg\", max_iter=1)\n",
    "elif (universe[\"model\"] == \"rf\"):\n",
    "    model = RandomForestClassifier() # n_estimators=100, n_jobs=-1\n",
    "elif (universe[\"model\"] == \"gbm\"):\n",
    "    model = GradientBoostingClassifier()\n",
    "elif (universe[\"model\"] == \"elasticnet\"):\n",
    "    model = LogisticRegression(penalty = 'elasticnet', solver = 'saga', l1_ratio = 0.5) # max_iter=5000\n",
    "else:\n",
    "    raise \"Unsupported universe.model\""
   ]
  },
  {
   "cell_type": "code",
   "execution_count": 31,
   "id": "0cc8f744",
   "metadata": {
    "execution": {
     "iopub.execute_input": "2025-08-05T15:35:59.179351Z",
     "iopub.status.busy": "2025-08-05T15:35:59.178379Z",
     "iopub.status.idle": "2025-08-05T15:35:59.185066Z",
     "shell.execute_reply": "2025-08-05T15:35:59.184118Z"
    },
    "papermill": {
     "duration": 0.025509,
     "end_time": "2025-08-05T15:35:59.186928",
     "exception": false,
     "start_time": "2025-08-05T15:35:59.161419",
     "status": "completed"
    },
    "tags": []
   },
   "outputs": [],
   "source": [
    "import numpy as np\n",
    "from sklearn.pipeline import Pipeline\n",
    "from sklearn.preprocessing import StandardScaler\n",
    "\n",
    "model = Pipeline([\n",
    "    #(\"continuous_processor\", continuous_processor),\n",
    "    #(\"categorical_preprocessor\", categorical_preprocessor),\n",
    "    (\"scale\", StandardScaler() if universe[\"scale\"] == \"scale\" else None), \n",
    "    (\"model\", model),\n",
    "])"
   ]
  },
  {
   "cell_type": "code",
   "execution_count": 32,
   "id": "9442c04d",
   "metadata": {
    "execution": {
     "iopub.execute_input": "2025-08-05T15:35:59.221027Z",
     "iopub.status.busy": "2025-08-05T15:35:59.220801Z",
     "iopub.status.idle": "2025-08-05T15:35:59.322509Z",
     "shell.execute_reply": "2025-08-05T15:35:59.321774Z"
    },
    "papermill": {
     "duration": 0.115991,
     "end_time": "2025-08-05T15:35:59.323842",
     "exception": false,
     "start_time": "2025-08-05T15:35:59.207851",
     "status": "completed"
    },
    "tags": []
   },
   "outputs": [
    {
     "data": {
      "text/html": [
       "<style>#sk-container-id-1 {color: black;background-color: white;}#sk-container-id-1 pre{padding: 0;}#sk-container-id-1 div.sk-toggleable {background-color: white;}#sk-container-id-1 label.sk-toggleable__label {cursor: pointer;display: block;width: 100%;margin-bottom: 0;padding: 0.3em;box-sizing: border-box;text-align: center;}#sk-container-id-1 label.sk-toggleable__label-arrow:before {content: \"▸\";float: left;margin-right: 0.25em;color: #696969;}#sk-container-id-1 label.sk-toggleable__label-arrow:hover:before {color: black;}#sk-container-id-1 div.sk-estimator:hover label.sk-toggleable__label-arrow:before {color: black;}#sk-container-id-1 div.sk-toggleable__content {max-height: 0;max-width: 0;overflow: hidden;text-align: left;background-color: #f0f8ff;}#sk-container-id-1 div.sk-toggleable__content pre {margin: 0.2em;color: black;border-radius: 0.25em;background-color: #f0f8ff;}#sk-container-id-1 input.sk-toggleable__control:checked~div.sk-toggleable__content {max-height: 200px;max-width: 100%;overflow: auto;}#sk-container-id-1 input.sk-toggleable__control:checked~label.sk-toggleable__label-arrow:before {content: \"▾\";}#sk-container-id-1 div.sk-estimator input.sk-toggleable__control:checked~label.sk-toggleable__label {background-color: #d4ebff;}#sk-container-id-1 div.sk-label input.sk-toggleable__control:checked~label.sk-toggleable__label {background-color: #d4ebff;}#sk-container-id-1 input.sk-hidden--visually {border: 0;clip: rect(1px 1px 1px 1px);clip: rect(1px, 1px, 1px, 1px);height: 1px;margin: -1px;overflow: hidden;padding: 0;position: absolute;width: 1px;}#sk-container-id-1 div.sk-estimator {font-family: monospace;background-color: #f0f8ff;border: 1px dotted black;border-radius: 0.25em;box-sizing: border-box;margin-bottom: 0.5em;}#sk-container-id-1 div.sk-estimator:hover {background-color: #d4ebff;}#sk-container-id-1 div.sk-parallel-item::after {content: \"\";width: 100%;border-bottom: 1px solid gray;flex-grow: 1;}#sk-container-id-1 div.sk-label:hover label.sk-toggleable__label {background-color: #d4ebff;}#sk-container-id-1 div.sk-serial::before {content: \"\";position: absolute;border-left: 1px solid gray;box-sizing: border-box;top: 0;bottom: 0;left: 50%;z-index: 0;}#sk-container-id-1 div.sk-serial {display: flex;flex-direction: column;align-items: center;background-color: white;padding-right: 0.2em;padding-left: 0.2em;position: relative;}#sk-container-id-1 div.sk-item {position: relative;z-index: 1;}#sk-container-id-1 div.sk-parallel {display: flex;align-items: stretch;justify-content: center;background-color: white;position: relative;}#sk-container-id-1 div.sk-item::before, #sk-container-id-1 div.sk-parallel-item::before {content: \"\";position: absolute;border-left: 1px solid gray;box-sizing: border-box;top: 0;bottom: 0;left: 50%;z-index: -1;}#sk-container-id-1 div.sk-parallel-item {display: flex;flex-direction: column;z-index: 1;position: relative;background-color: white;}#sk-container-id-1 div.sk-parallel-item:first-child::after {align-self: flex-end;width: 50%;}#sk-container-id-1 div.sk-parallel-item:last-child::after {align-self: flex-start;width: 50%;}#sk-container-id-1 div.sk-parallel-item:only-child::after {width: 0;}#sk-container-id-1 div.sk-dashed-wrapped {border: 1px dashed gray;margin: 0 0.4em 0.5em 0.4em;box-sizing: border-box;padding-bottom: 0.4em;background-color: white;}#sk-container-id-1 div.sk-label label {font-family: monospace;font-weight: bold;display: inline-block;line-height: 1.2em;}#sk-container-id-1 div.sk-label-container {text-align: center;}#sk-container-id-1 div.sk-container {/* jupyter's `normalize.less` sets `[hidden] { display: none; }` but bootstrap.min.css set `[hidden] { display: none !important; }` so we also need the `!important` here to be able to override the default hidden behavior on the sphinx rendered scikit-learn.org. See: https://github.com/scikit-learn/scikit-learn/issues/21755 */display: inline-block !important;position: relative;}#sk-container-id-1 div.sk-text-repr-fallback {display: none;}</style><div id=\"sk-container-id-1\" class=\"sk-top-container\"><div class=\"sk-text-repr-fallback\"><pre>Pipeline(steps=[(&#x27;scale&#x27;, StandardScaler()),\n",
       "                (&#x27;model&#x27;, LogisticRegression(C=0.1))])</pre><b>In a Jupyter environment, please rerun this cell to show the HTML representation or trust the notebook. <br />On GitHub, the HTML representation is unable to render, please try loading this page with nbviewer.org.</b></div><div class=\"sk-container\" hidden><div class=\"sk-item sk-dashed-wrapped\"><div class=\"sk-label-container\"><div class=\"sk-label sk-toggleable\"><input class=\"sk-toggleable__control sk-hidden--visually\" id=\"sk-estimator-id-1\" type=\"checkbox\" ><label for=\"sk-estimator-id-1\" class=\"sk-toggleable__label sk-toggleable__label-arrow\">Pipeline</label><div class=\"sk-toggleable__content\"><pre>Pipeline(steps=[(&#x27;scale&#x27;, StandardScaler()),\n",
       "                (&#x27;model&#x27;, LogisticRegression(C=0.1))])</pre></div></div></div><div class=\"sk-serial\"><div class=\"sk-item\"><div class=\"sk-estimator sk-toggleable\"><input class=\"sk-toggleable__control sk-hidden--visually\" id=\"sk-estimator-id-2\" type=\"checkbox\" ><label for=\"sk-estimator-id-2\" class=\"sk-toggleable__label sk-toggleable__label-arrow\">StandardScaler</label><div class=\"sk-toggleable__content\"><pre>StandardScaler()</pre></div></div></div><div class=\"sk-item\"><div class=\"sk-estimator sk-toggleable\"><input class=\"sk-toggleable__control sk-hidden--visually\" id=\"sk-estimator-id-3\" type=\"checkbox\" ><label for=\"sk-estimator-id-3\" class=\"sk-toggleable__label sk-toggleable__label-arrow\">LogisticRegression</label><div class=\"sk-toggleable__content\"><pre>LogisticRegression(C=0.1)</pre></div></div></div></div></div></div></div>"
      ],
      "text/plain": [
       "Pipeline(steps=[('scale', StandardScaler()),\n",
       "                ('model', LogisticRegression(C=0.1))])"
      ]
     },
     "execution_count": 32,
     "metadata": {},
     "output_type": "execute_result"
    }
   ],
   "source": [
    "model.fit(X_train, y_train.values.ravel())"
   ]
  },
  {
   "cell_type": "code",
   "execution_count": 33,
   "id": "af59f8c0",
   "metadata": {
    "execution": {
     "iopub.execute_input": "2025-08-05T15:35:59.348712Z",
     "iopub.status.busy": "2025-08-05T15:35:59.348021Z",
     "iopub.status.idle": "2025-08-05T15:35:59.352618Z",
     "shell.execute_reply": "2025-08-05T15:35:59.351883Z"
    },
    "papermill": {
     "duration": 0.017148,
     "end_time": "2025-08-05T15:35:59.354198",
     "exception": false,
     "start_time": "2025-08-05T15:35:59.337050",
     "status": "completed"
    },
    "tags": []
   },
   "outputs": [],
   "source": [
    "from fairness_multiverse.universe import predict_w_threshold"
   ]
  },
  {
   "cell_type": "code",
   "execution_count": 34,
   "id": "a7cf2e16",
   "metadata": {
    "execution": {
     "iopub.execute_input": "2025-08-05T15:35:59.376186Z",
     "iopub.status.busy": "2025-08-05T15:35:59.375793Z",
     "iopub.status.idle": "2025-08-05T15:35:59.555799Z",
     "shell.execute_reply": "2025-08-05T15:35:59.554891Z"
    },
    "papermill": {
     "duration": 0.19232,
     "end_time": "2025-08-05T15:35:59.557449",
     "exception": false,
     "start_time": "2025-08-05T15:35:59.365129",
     "status": "completed"
    },
    "tags": []
   },
   "outputs": [
    {
     "data": {
      "text/plain": [
       "0.8579422583881395"
      ]
     },
     "execution_count": 34,
     "metadata": {},
     "output_type": "execute_result"
    }
   ],
   "source": [
    "probs_test = model.predict_proba(X_test)\n",
    "\n",
    "'''\n",
    "Below code returns a boolean array (or binary 0/1 array depending on how it’s used) where each element \n",
    "is True if the probability of class 1 is greater than or equal to the threshold, and False otherwise.\n",
    "'''\n",
    "y_pred_default = predict_w_threshold(probs_test, 0.5)\n",
    "\n",
    "from sklearn.metrics import accuracy_score\n",
    "\n",
    "# Naive prediction\n",
    "accuracy_score(y_true = y_true, y_pred = y_pred_default)"
   ]
  },
  {
   "cell_type": "code",
   "execution_count": 35,
   "id": "081964c3",
   "metadata": {
    "execution": {
     "iopub.execute_input": "2025-08-05T15:35:59.598875Z",
     "iopub.status.busy": "2025-08-05T15:35:59.598356Z",
     "iopub.status.idle": "2025-08-05T15:35:59.779107Z",
     "shell.execute_reply": "2025-08-05T15:35:59.778097Z"
    },
    "papermill": {
     "duration": 0.203031,
     "end_time": "2025-08-05T15:35:59.780783",
     "exception": false,
     "start_time": "2025-08-05T15:35:59.577752",
     "status": "completed"
    },
    "tags": []
   },
   "outputs": [
    {
     "data": {
      "text/plain": [
       "array([0, 0, 0, ..., 0, 0, 0])"
      ]
     },
     "execution_count": 35,
     "metadata": {},
     "output_type": "execute_result"
    }
   ],
   "source": [
    "model.predict(X_test)"
   ]
  },
  {
   "cell_type": "markdown",
   "id": "56c9705b",
   "metadata": {
    "papermill": {
     "duration": 0.02346,
     "end_time": "2025-08-05T15:35:59.842295",
     "exception": false,
     "start_time": "2025-08-05T15:35:59.818835",
     "status": "completed"
    },
    "tags": []
   },
   "source": [
    "# Conformal Prediction"
   ]
  },
  {
   "cell_type": "code",
   "execution_count": 36,
   "id": "160ec6ff",
   "metadata": {
    "execution": {
     "iopub.execute_input": "2025-08-05T15:35:59.891818Z",
     "iopub.status.busy": "2025-08-05T15:35:59.891312Z",
     "iopub.status.idle": "2025-08-05T15:35:59.897128Z",
     "shell.execute_reply": "2025-08-05T15:35:59.896127Z"
    },
    "papermill": {
     "duration": 0.03112,
     "end_time": "2025-08-05T15:35:59.899049",
     "exception": false,
     "start_time": "2025-08-05T15:35:59.867929",
     "status": "completed"
    },
    "tags": []
   },
   "outputs": [],
   "source": [
    "# Miscoverage level for conformal prediction (10% allowed error rate => 90% target coverage)\n",
    "alpha = 0.1"
   ]
  },
  {
   "cell_type": "code",
   "execution_count": 37,
   "id": "eadf4555-3dd3-440e-8e35-f82a4ad9f855",
   "metadata": {
    "execution": {
     "iopub.execute_input": "2025-08-05T15:35:59.940526Z",
     "iopub.status.busy": "2025-08-05T15:35:59.940025Z",
     "iopub.status.idle": "2025-08-05T15:36:00.123665Z",
     "shell.execute_reply": "2025-08-05T15:36:00.122341Z"
    },
    "papermill": {
     "duration": 0.20849,
     "end_time": "2025-08-05T15:36:00.125680",
     "exception": false,
     "start_time": "2025-08-05T15:35:59.917190",
     "status": "completed"
    },
    "tags": []
   },
   "outputs": [],
   "source": [
    "probs_calib = model.predict_proba(X_calib)"
   ]
  },
  {
   "cell_type": "code",
   "execution_count": 38,
   "id": "2ed93547-6d5d-4983-9b36-1ecb300da49a",
   "metadata": {
    "execution": {
     "iopub.execute_input": "2025-08-05T15:36:00.174610Z",
     "iopub.status.busy": "2025-08-05T15:36:00.173877Z",
     "iopub.status.idle": "2025-08-05T15:36:00.180789Z",
     "shell.execute_reply": "2025-08-05T15:36:00.179652Z"
    },
    "papermill": {
     "duration": 0.033317,
     "end_time": "2025-08-05T15:36:00.182874",
     "exception": false,
     "start_time": "2025-08-05T15:36:00.149557",
     "status": "completed"
    },
    "tags": []
   },
   "outputs": [],
   "source": [
    "y_calib = y_calib.values.ravel().astype(int)"
   ]
  },
  {
   "cell_type": "code",
   "execution_count": 39,
   "id": "65d1320d-f588-4b38-9072-62af1ae97f7d",
   "metadata": {
    "execution": {
     "iopub.execute_input": "2025-08-05T15:36:00.229628Z",
     "iopub.status.busy": "2025-08-05T15:36:00.228900Z",
     "iopub.status.idle": "2025-08-05T15:36:00.237384Z",
     "shell.execute_reply": "2025-08-05T15:36:00.236306Z"
    },
    "papermill": {
     "duration": 0.032774,
     "end_time": "2025-08-05T15:36:00.239318",
     "exception": false,
     "start_time": "2025-08-05T15:36:00.206544",
     "status": "completed"
    },
    "tags": []
   },
   "outputs": [],
   "source": [
    "from fairness_multiverse.conformal import compute_nc_scores\n",
    "\n",
    "# Compute nonconformity scores on calibration set (1 - probability of true class)\n",
    "nc_scores = compute_nc_scores(probs_calib, y_calib)"
   ]
  },
  {
   "cell_type": "code",
   "execution_count": 40,
   "id": "df3b8ca3-53b7-43d5-9667-7c85da7aeda2",
   "metadata": {
    "execution": {
     "iopub.execute_input": "2025-08-05T15:36:00.286428Z",
     "iopub.status.busy": "2025-08-05T15:36:00.285380Z",
     "iopub.status.idle": "2025-08-05T15:36:00.292717Z",
     "shell.execute_reply": "2025-08-05T15:36:00.291704Z"
    },
    "papermill": {
     "duration": 0.032625,
     "end_time": "2025-08-05T15:36:00.294610",
     "exception": false,
     "start_time": "2025-08-05T15:36:00.261985",
     "status": "completed"
    },
    "tags": []
   },
   "outputs": [],
   "source": [
    "from fairness_multiverse.conformal import find_threshold\n",
    "\n",
    "# Find conformal threshold q_hat for the given alpha (split conformal method)\n",
    "q_hat = find_threshold(nc_scores, alpha)"
   ]
  },
  {
   "cell_type": "code",
   "execution_count": 41,
   "id": "4d29e6c1-0ef6-4aa4-b8fe-4fe79b0d033a",
   "metadata": {
    "execution": {
     "iopub.execute_input": "2025-08-05T15:36:00.344040Z",
     "iopub.status.busy": "2025-08-05T15:36:00.343301Z",
     "iopub.status.idle": "2025-08-05T15:36:00.351952Z",
     "shell.execute_reply": "2025-08-05T15:36:00.350843Z"
    },
    "papermill": {
     "duration": 0.035567,
     "end_time": "2025-08-05T15:36:00.353642",
     "exception": false,
     "start_time": "2025-08-05T15:36:00.318075",
     "status": "completed"
    },
    "tags": []
   },
   "outputs": [
    {
     "data": {
      "text/plain": [
       "0.6834320090290874"
      ]
     },
     "execution_count": 41,
     "metadata": {},
     "output_type": "execute_result"
    }
   ],
   "source": [
    "q_hat"
   ]
  },
  {
   "cell_type": "code",
   "execution_count": 42,
   "id": "92460794-cdac-4be2-ba28-f28c0515a6fb",
   "metadata": {
    "execution": {
     "iopub.execute_input": "2025-08-05T15:36:00.401258Z",
     "iopub.status.busy": "2025-08-05T15:36:00.400749Z",
     "iopub.status.idle": "2025-08-05T15:36:01.706195Z",
     "shell.execute_reply": "2025-08-05T15:36:01.705234Z"
    },
    "papermill": {
     "duration": 1.33141,
     "end_time": "2025-08-05T15:36:01.708017",
     "exception": false,
     "start_time": "2025-08-05T15:36:00.376607",
     "status": "completed"
    },
    "tags": []
   },
   "outputs": [],
   "source": [
    "from fairness_multiverse.conformal import predict_conformal_sets\n",
    "\n",
    "# Generate prediction sets for each test example\n",
    "pred_sets = predict_conformal_sets(model, X_test, q_hat)"
   ]
  },
  {
   "cell_type": "code",
   "execution_count": 43,
   "id": "d90c9a65-e6db-4f5d-80cd-e68fb7e46829",
   "metadata": {
    "execution": {
     "iopub.execute_input": "2025-08-05T15:36:01.748159Z",
     "iopub.status.busy": "2025-08-05T15:36:01.747444Z",
     "iopub.status.idle": "2025-08-05T15:36:01.753599Z",
     "shell.execute_reply": "2025-08-05T15:36:01.752483Z"
    },
    "papermill": {
     "duration": 0.027954,
     "end_time": "2025-08-05T15:36:01.755256",
     "exception": false,
     "start_time": "2025-08-05T15:36:01.727302",
     "status": "completed"
    },
    "tags": []
   },
   "outputs": [],
   "source": [
    "y_true = y_true.squeeze()"
   ]
  },
  {
   "cell_type": "code",
   "execution_count": 44,
   "id": "3a58a54a-1e68-46b9-927a-df01f18aebc8",
   "metadata": {
    "execution": {
     "iopub.execute_input": "2025-08-05T15:36:01.797502Z",
     "iopub.status.busy": "2025-08-05T15:36:01.796798Z",
     "iopub.status.idle": "2025-08-05T15:36:02.765830Z",
     "shell.execute_reply": "2025-08-05T15:36:02.764832Z"
    },
    "papermill": {
     "duration": 0.991192,
     "end_time": "2025-08-05T15:36:02.767721",
     "exception": false,
     "start_time": "2025-08-05T15:36:01.776529",
     "status": "completed"
    },
    "tags": []
   },
   "outputs": [],
   "source": [
    "from fairness_multiverse.conformal import evaluate_sets\n",
    "\n",
    "# Evaluate coverage and average set size on test data\n",
    "metrics = evaluate_sets(pred_sets, y_true)"
   ]
  },
  {
   "cell_type": "markdown",
   "id": "2b569c12-9aaa-4c88-98c9-bbcd0cf3ebb8",
   "metadata": {
    "papermill": {
     "duration": 0.01954,
     "end_time": "2025-08-05T15:36:02.807303",
     "exception": false,
     "start_time": "2025-08-05T15:36:02.787763",
     "status": "completed"
    },
    "tags": []
   },
   "source": [
    "# CP Metrics"
   ]
  },
  {
   "cell_type": "code",
   "execution_count": 45,
   "id": "5ce0a5cb-201f-45a0-ade5-94c7f0bd6095",
   "metadata": {
    "execution": {
     "iopub.execute_input": "2025-08-05T15:36:02.835877Z",
     "iopub.status.busy": "2025-08-05T15:36:02.835304Z",
     "iopub.status.idle": "2025-08-05T15:36:02.842885Z",
     "shell.execute_reply": "2025-08-05T15:36:02.841675Z"
    },
    "papermill": {
     "duration": 0.023479,
     "end_time": "2025-08-05T15:36:02.845133",
     "exception": false,
     "start_time": "2025-08-05T15:36:02.821654",
     "status": "completed"
    },
    "tags": []
   },
   "outputs": [
    {
     "data": {
      "text/plain": [
       "{'coverage': 0.9107457362612864, 'avg_size': 1.1346449671162635}"
      ]
     },
     "execution_count": 45,
     "metadata": {},
     "output_type": "execute_result"
    }
   ],
   "source": [
    "metrics"
   ]
  },
  {
   "cell_type": "code",
   "execution_count": 46,
   "id": "9b9a838d-31c9-430b-ae14-12baee460d17",
   "metadata": {
    "execution": {
     "iopub.execute_input": "2025-08-05T15:36:02.894333Z",
     "iopub.status.busy": "2025-08-05T15:36:02.893238Z",
     "iopub.status.idle": "2025-08-05T15:36:02.898894Z",
     "shell.execute_reply": "2025-08-05T15:36:02.898195Z"
    },
    "papermill": {
     "duration": 0.030405,
     "end_time": "2025-08-05T15:36:02.900151",
     "exception": false,
     "start_time": "2025-08-05T15:36:02.869746",
     "status": "completed"
    },
    "tags": []
   },
   "outputs": [],
   "source": [
    "example_universe = universe.copy()\n",
    "universe_training_year = example_universe.get(\"training_year\")\n",
    "universe_training_size = example_universe.get(\"training_size\")\n",
    "universe_scale = example_universe.get(\"scale\")\n",
    "universe_model = example_universe.get(\"model\")\n",
    "universe_exclude_features = example_universe.get(\"exclude_features\")\n",
    "universe_exclude_subgroups = example_universe.get(\"exclude_subgroups\")"
   ]
  },
  {
   "cell_type": "code",
   "execution_count": 47,
   "id": "f4b6a8ac-9dc0-4245-8a91-5b3b5999c4f9",
   "metadata": {
    "execution": {
     "iopub.execute_input": "2025-08-05T15:36:02.925762Z",
     "iopub.status.busy": "2025-08-05T15:36:02.925233Z",
     "iopub.status.idle": "2025-08-05T15:36:02.931107Z",
     "shell.execute_reply": "2025-08-05T15:36:02.930343Z"
    },
    "papermill": {
     "duration": 0.019727,
     "end_time": "2025-08-05T15:36:02.932670",
     "exception": false,
     "start_time": "2025-08-05T15:36:02.912943",
     "status": "completed"
    },
    "tags": []
   },
   "outputs": [],
   "source": [
    "cp_metrics_dict = {\n",
    "    \"universe_id\": [universe_id],\n",
    "    \"universe_training_year\": [universe_training_year],\n",
    "    \"universe_training_size\": [universe_training_size],\n",
    "    \"universe_scale\": [universe_scale],\n",
    "    \"universe_model\": [universe_model],\n",
    "    \"universe_exclude_features\": [universe_exclude_features],\n",
    "    \"universe_exclude_subgroups\": [universe_exclude_subgroups],\n",
    "    \"q_hat\": [q_hat],\n",
    "    \"coverage\": [metrics[\"coverage\"]],\n",
    "    \"avg_size\": [metrics[\"avg_size\"]],\n",
    "}"
   ]
  },
  {
   "cell_type": "code",
   "execution_count": 48,
   "id": "908acbb1-0371-4915-85ca-3fa520d2efe2",
   "metadata": {
    "execution": {
     "iopub.execute_input": "2025-08-05T15:36:02.978039Z",
     "iopub.status.busy": "2025-08-05T15:36:02.977579Z",
     "iopub.status.idle": "2025-08-05T15:36:02.984903Z",
     "shell.execute_reply": "2025-08-05T15:36:02.984051Z"
    },
    "papermill": {
     "duration": 0.033275,
     "end_time": "2025-08-05T15:36:02.986504",
     "exception": false,
     "start_time": "2025-08-05T15:36:02.953229",
     "status": "completed"
    },
    "tags": []
   },
   "outputs": [
    {
     "data": {
      "text/plain": [
       "{'universe_id': ['0184082ed2e7a5f3d99fa32da2319083'],\n",
       " 'universe_training_year': ['2012_14'],\n",
       " 'universe_training_size': ['5k'],\n",
       " 'universe_scale': ['scale'],\n",
       " 'universe_model': ['penalized_logreg'],\n",
       " 'universe_exclude_features': ['nationality-sex'],\n",
       " 'universe_exclude_subgroups': ['keep-all'],\n",
       " 'q_hat': [0.6834320090290874],\n",
       " 'coverage': [0.9107457362612864],\n",
       " 'avg_size': [1.1346449671162635]}"
      ]
     },
     "execution_count": 48,
     "metadata": {},
     "output_type": "execute_result"
    }
   ],
   "source": [
    "cp_metrics_dict"
   ]
  },
  {
   "cell_type": "code",
   "execution_count": 49,
   "id": "33007efc-14e9-4ec6-97ac-56a455c82265",
   "metadata": {
    "execution": {
     "iopub.execute_input": "2025-08-05T15:36:03.017147Z",
     "iopub.status.busy": "2025-08-05T15:36:03.016461Z",
     "iopub.status.idle": "2025-08-05T15:36:03.022227Z",
     "shell.execute_reply": "2025-08-05T15:36:03.021477Z"
    },
    "papermill": {
     "duration": 0.02008,
     "end_time": "2025-08-05T15:36:03.023594",
     "exception": false,
     "start_time": "2025-08-05T15:36:03.003514",
     "status": "completed"
    },
    "tags": []
   },
   "outputs": [],
   "source": [
    "cp_metrics_df = pd.DataFrame(cp_metrics_dict)"
   ]
  },
  {
   "cell_type": "code",
   "execution_count": 50,
   "id": "db12611b-57b2-4910-b9d0-355adfd6e7bf",
   "metadata": {
    "execution": {
     "iopub.execute_input": "2025-08-05T15:36:03.070593Z",
     "iopub.status.busy": "2025-08-05T15:36:03.070041Z",
     "iopub.status.idle": "2025-08-05T15:36:03.089569Z",
     "shell.execute_reply": "2025-08-05T15:36:03.088851Z"
    },
    "papermill": {
     "duration": 0.054667,
     "end_time": "2025-08-05T15:36:03.101208",
     "exception": false,
     "start_time": "2025-08-05T15:36:03.046541",
     "status": "completed"
    },
    "tags": []
   },
   "outputs": [
    {
     "data": {
      "text/html": [
       "<div>\n",
       "<style scoped>\n",
       "    .dataframe tbody tr th:only-of-type {\n",
       "        vertical-align: middle;\n",
       "    }\n",
       "\n",
       "    .dataframe tbody tr th {\n",
       "        vertical-align: top;\n",
       "    }\n",
       "\n",
       "    .dataframe thead th {\n",
       "        text-align: right;\n",
       "    }\n",
       "</style>\n",
       "<table border=\"1\" class=\"dataframe\">\n",
       "  <thead>\n",
       "    <tr style=\"text-align: right;\">\n",
       "      <th></th>\n",
       "      <th>universe_id</th>\n",
       "      <th>universe_training_year</th>\n",
       "      <th>universe_training_size</th>\n",
       "      <th>universe_scale</th>\n",
       "      <th>universe_model</th>\n",
       "      <th>universe_exclude_features</th>\n",
       "      <th>universe_exclude_subgroups</th>\n",
       "      <th>q_hat</th>\n",
       "      <th>coverage</th>\n",
       "      <th>avg_size</th>\n",
       "    </tr>\n",
       "  </thead>\n",
       "  <tbody>\n",
       "    <tr>\n",
       "      <th>0</th>\n",
       "      <td>0184082ed2e7a5f3d99fa32da2319083</td>\n",
       "      <td>2012_14</td>\n",
       "      <td>5k</td>\n",
       "      <td>scale</td>\n",
       "      <td>penalized_logreg</td>\n",
       "      <td>nationality-sex</td>\n",
       "      <td>keep-all</td>\n",
       "      <td>0.683432</td>\n",
       "      <td>0.910746</td>\n",
       "      <td>1.134645</td>\n",
       "    </tr>\n",
       "  </tbody>\n",
       "</table>\n",
       "</div>"
      ],
      "text/plain": [
       "                        universe_id universe_training_year  \\\n",
       "0  0184082ed2e7a5f3d99fa32da2319083                2012_14   \n",
       "\n",
       "  universe_training_size universe_scale    universe_model  \\\n",
       "0                     5k          scale  penalized_logreg   \n",
       "\n",
       "  universe_exclude_features universe_exclude_subgroups     q_hat  coverage  \\\n",
       "0           nationality-sex                   keep-all  0.683432  0.910746   \n",
       "\n",
       "   avg_size  \n",
       "0  1.134645  "
      ]
     },
     "execution_count": 50,
     "metadata": {},
     "output_type": "execute_result"
    }
   ],
   "source": [
    "cp_metrics_df"
   ]
  },
  {
   "cell_type": "code",
   "execution_count": 51,
   "id": "b7fbde55-a0a1-47e4-9af6-fe4a17fa8c61",
   "metadata": {
    "execution": {
     "iopub.execute_input": "2025-08-05T15:36:03.148881Z",
     "iopub.status.busy": "2025-08-05T15:36:03.148442Z",
     "iopub.status.idle": "2025-08-05T15:36:03.153800Z",
     "shell.execute_reply": "2025-08-05T15:36:03.152787Z"
    },
    "papermill": {
     "duration": 0.030856,
     "end_time": "2025-08-05T15:36:03.155513",
     "exception": false,
     "start_time": "2025-08-05T15:36:03.124657",
     "status": "completed"
    },
    "tags": []
   },
   "outputs": [],
   "source": [
    "# Conditional Coverage & looking at subgroups"
   ]
  },
  {
   "cell_type": "code",
   "execution_count": 52,
   "id": "027ae886-68dd-4141-96c7-805a5450e1ef",
   "metadata": {
    "execution": {
     "iopub.execute_input": "2025-08-05T15:36:03.180691Z",
     "iopub.status.busy": "2025-08-05T15:36:03.180313Z",
     "iopub.status.idle": "2025-08-05T15:36:03.419510Z",
     "shell.execute_reply": "2025-08-05T15:36:03.418239Z"
    },
    "papermill": {
     "duration": 0.253259,
     "end_time": "2025-08-05T15:36:03.421173",
     "exception": false,
     "start_time": "2025-08-05T15:36:03.167914",
     "status": "completed"
    },
    "tags": []
   },
   "outputs": [],
   "source": [
    "from fairness_multiverse.conformal import build_cp_groups\n",
    "\n",
    "cp_groups_df = build_cp_groups(pred_sets, y_true, X_test.index, org_test)\n",
    "#needs universe_id and setting"
   ]
  },
  {
   "cell_type": "code",
   "execution_count": 53,
   "id": "6cbdab96-b2b2-45af-ad54-d0516db2e28d",
   "metadata": {
    "execution": {
     "iopub.execute_input": "2025-08-05T15:36:03.469570Z",
     "iopub.status.busy": "2025-08-05T15:36:03.469095Z",
     "iopub.status.idle": "2025-08-05T15:36:05.315410Z",
     "shell.execute_reply": "2025-08-05T15:36:05.314281Z"
    },
    "papermill": {
     "duration": 1.872894,
     "end_time": "2025-08-05T15:36:05.317414",
     "exception": false,
     "start_time": "2025-08-05T15:36:03.444520",
     "status": "completed"
    },
    "tags": []
   },
   "outputs": [],
   "source": [
    "# Define covered = 1 if true_label is in the predicted set\n",
    "cp_groups_df['covered'] = cp_groups_df.apply(\n",
    "    lambda r: int(r['true_label'] in r['pred_set']),\n",
    "    axis=1\n",
    ")"
   ]
  },
  {
   "cell_type": "code",
   "execution_count": 54,
   "id": "338ff529-1a6b-4b87-a931-8e4788d52aad",
   "metadata": {
    "execution": {
     "iopub.execute_input": "2025-08-05T15:36:05.367990Z",
     "iopub.status.busy": "2025-08-05T15:36:05.367246Z",
     "iopub.status.idle": "2025-08-05T15:36:05.372725Z",
     "shell.execute_reply": "2025-08-05T15:36:05.371691Z"
    },
    "papermill": {
     "duration": 0.032241,
     "end_time": "2025-08-05T15:36:05.374629",
     "exception": false,
     "start_time": "2025-08-05T15:36:05.342388",
     "status": "completed"
    },
    "tags": []
   },
   "outputs": [],
   "source": [
    "#cp_groups_df"
   ]
  },
  {
   "cell_type": "code",
   "execution_count": 55,
   "id": "90032e27-66df-4540-9169-4e89cfbaa758",
   "metadata": {
    "execution": {
     "iopub.execute_input": "2025-08-05T15:36:05.424363Z",
     "iopub.status.busy": "2025-08-05T15:36:05.423766Z",
     "iopub.status.idle": "2025-08-05T15:36:05.435545Z",
     "shell.execute_reply": "2025-08-05T15:36:05.434536Z"
    },
    "papermill": {
     "duration": 0.03824,
     "end_time": "2025-08-05T15:36:05.437267",
     "exception": false,
     "start_time": "2025-08-05T15:36:05.399027",
     "status": "completed"
    },
    "tags": []
   },
   "outputs": [],
   "source": [
    "subgroups = ['frau1','nongerman','nongerman_male','nongerman_female']\n",
    "\n",
    "# Conditional coverage for subgroup==1\n",
    "cond_coverage = {\n",
    "    g: cp_groups_df.loc[cp_groups_df[g]==1, 'covered'].mean()\n",
    "    for g in subgroups\n",
    "}"
   ]
  },
  {
   "cell_type": "code",
   "execution_count": 56,
   "id": "1e348fb1-b9c3-45bc-ba23-f016827a7e0d",
   "metadata": {
    "execution": {
     "iopub.execute_input": "2025-08-05T15:36:05.487291Z",
     "iopub.status.busy": "2025-08-05T15:36:05.486662Z",
     "iopub.status.idle": "2025-08-05T15:36:05.494140Z",
     "shell.execute_reply": "2025-08-05T15:36:05.492982Z"
    },
    "papermill": {
     "duration": 0.034429,
     "end_time": "2025-08-05T15:36:05.495883",
     "exception": false,
     "start_time": "2025-08-05T15:36:05.461454",
     "status": "completed"
    },
    "tags": []
   },
   "outputs": [
    {
     "data": {
      "text/plain": [
       "{'frau1': 0.907912117536056,\n",
       " 'nongerman': 0.9102902374670184,\n",
       " 'nongerman_male': 0.9267765468792218,\n",
       " 'nongerman_female': 0.88301043219076}"
      ]
     },
     "execution_count": 56,
     "metadata": {},
     "output_type": "execute_result"
    }
   ],
   "source": [
    "cond_coverage"
   ]
  },
  {
   "cell_type": "code",
   "execution_count": 57,
   "id": "f5093324-c3dd-4d63-bc4c-8d945e5c8bbb",
   "metadata": {
    "execution": {
     "iopub.execute_input": "2025-08-05T15:36:05.545914Z",
     "iopub.status.busy": "2025-08-05T15:36:05.545540Z",
     "iopub.status.idle": "2025-08-05T15:36:05.550767Z",
     "shell.execute_reply": "2025-08-05T15:36:05.549843Z"
    },
    "papermill": {
     "duration": 0.031704,
     "end_time": "2025-08-05T15:36:05.552166",
     "exception": false,
     "start_time": "2025-08-05T15:36:05.520462",
     "status": "completed"
    },
    "tags": []
   },
   "outputs": [],
   "source": [
    "for subgroup, cov in cond_coverage.items():\n",
    "    cp_metrics_df[f\"cov_{subgroup}\"] = cov"
   ]
  },
  {
   "cell_type": "code",
   "execution_count": 58,
   "id": "6e872e10-dbe5-49e8-b554-5030c98ff75d",
   "metadata": {
    "execution": {
     "iopub.execute_input": "2025-08-05T15:36:05.576245Z",
     "iopub.status.busy": "2025-08-05T15:36:05.576032Z",
     "iopub.status.idle": "2025-08-05T15:36:05.589103Z",
     "shell.execute_reply": "2025-08-05T15:36:05.588308Z"
    },
    "papermill": {
     "duration": 0.026535,
     "end_time": "2025-08-05T15:36:05.590530",
     "exception": false,
     "start_time": "2025-08-05T15:36:05.563995",
     "status": "completed"
    },
    "tags": []
   },
   "outputs": [
    {
     "data": {
      "text/html": [
       "<div>\n",
       "<style scoped>\n",
       "    .dataframe tbody tr th:only-of-type {\n",
       "        vertical-align: middle;\n",
       "    }\n",
       "\n",
       "    .dataframe tbody tr th {\n",
       "        vertical-align: top;\n",
       "    }\n",
       "\n",
       "    .dataframe thead th {\n",
       "        text-align: right;\n",
       "    }\n",
       "</style>\n",
       "<table border=\"1\" class=\"dataframe\">\n",
       "  <thead>\n",
       "    <tr style=\"text-align: right;\">\n",
       "      <th></th>\n",
       "      <th>universe_id</th>\n",
       "      <th>universe_training_year</th>\n",
       "      <th>universe_training_size</th>\n",
       "      <th>universe_scale</th>\n",
       "      <th>universe_model</th>\n",
       "      <th>universe_exclude_features</th>\n",
       "      <th>universe_exclude_subgroups</th>\n",
       "      <th>q_hat</th>\n",
       "      <th>coverage</th>\n",
       "      <th>avg_size</th>\n",
       "      <th>cov_frau1</th>\n",
       "      <th>cov_nongerman</th>\n",
       "      <th>cov_nongerman_male</th>\n",
       "      <th>cov_nongerman_female</th>\n",
       "    </tr>\n",
       "  </thead>\n",
       "  <tbody>\n",
       "    <tr>\n",
       "      <th>0</th>\n",
       "      <td>0184082ed2e7a5f3d99fa32da2319083</td>\n",
       "      <td>2012_14</td>\n",
       "      <td>5k</td>\n",
       "      <td>scale</td>\n",
       "      <td>penalized_logreg</td>\n",
       "      <td>nationality-sex</td>\n",
       "      <td>keep-all</td>\n",
       "      <td>0.683432</td>\n",
       "      <td>0.910746</td>\n",
       "      <td>1.134645</td>\n",
       "      <td>0.907912</td>\n",
       "      <td>0.91029</td>\n",
       "      <td>0.926777</td>\n",
       "      <td>0.88301</td>\n",
       "    </tr>\n",
       "  </tbody>\n",
       "</table>\n",
       "</div>"
      ],
      "text/plain": [
       "                        universe_id universe_training_year  \\\n",
       "0  0184082ed2e7a5f3d99fa32da2319083                2012_14   \n",
       "\n",
       "  universe_training_size universe_scale    universe_model  \\\n",
       "0                     5k          scale  penalized_logreg   \n",
       "\n",
       "  universe_exclude_features universe_exclude_subgroups     q_hat  coverage  \\\n",
       "0           nationality-sex                   keep-all  0.683432  0.910746   \n",
       "\n",
       "   avg_size  cov_frau1  cov_nongerman  cov_nongerman_male  \\\n",
       "0  1.134645   0.907912        0.91029            0.926777   \n",
       "\n",
       "   cov_nongerman_female  \n",
       "0               0.88301  "
      ]
     },
     "execution_count": 58,
     "metadata": {},
     "output_type": "execute_result"
    }
   ],
   "source": [
    "cp_metrics_df"
   ]
  },
  {
   "cell_type": "markdown",
   "id": "33774451",
   "metadata": {
    "papermill": {
     "duration": 0.019649,
     "end_time": "2025-08-05T15:36:05.631816",
     "exception": false,
     "start_time": "2025-08-05T15:36:05.612167",
     "status": "completed"
    },
    "tags": []
   },
   "source": [
    "# (Fairness) Metrics"
   ]
  },
  {
   "cell_type": "code",
   "execution_count": 59,
   "id": "debc5d62",
   "metadata": {
    "execution": {
     "iopub.execute_input": "2025-08-05T15:36:05.678880Z",
     "iopub.status.busy": "2025-08-05T15:36:05.678515Z",
     "iopub.status.idle": "2025-08-05T15:36:05.699443Z",
     "shell.execute_reply": "2025-08-05T15:36:05.697858Z"
    },
    "papermill": {
     "duration": 0.04649,
     "end_time": "2025-08-05T15:36:05.701459",
     "exception": false,
     "start_time": "2025-08-05T15:36:05.654969",
     "status": "completed"
    },
    "tags": []
   },
   "outputs": [],
   "source": [
    "# do I need to include maxdeutsch1.missing?\n",
    "\n",
    "import numpy as np\n",
    "\n",
    "colname_to_bin = \"maxdeutsch1\"\n",
    "majority_value = org_train[colname_to_bin].mode()[0]\n",
    "\n",
    "org_test[\"majmin\"] = np.where(org_test[colname_to_bin] == majority_value, \"majority\", \"minority\")"
   ]
  },
  {
   "cell_type": "code",
   "execution_count": 60,
   "id": "06a50de5",
   "metadata": {
    "execution": {
     "iopub.execute_input": "2025-08-05T15:36:05.748713Z",
     "iopub.status.busy": "2025-08-05T15:36:05.747876Z",
     "iopub.status.idle": "2025-08-05T15:36:08.367651Z",
     "shell.execute_reply": "2025-08-05T15:36:08.366544Z"
    },
    "papermill": {
     "duration": 2.644057,
     "end_time": "2025-08-05T15:36:08.369882",
     "exception": false,
     "start_time": "2025-08-05T15:36:05.725825",
     "status": "completed"
    },
    "tags": []
   },
   "outputs": [],
   "source": [
    "example_universe = universe.copy()\n",
    "example_universe[\"cutoff\"] = example_universe[\"cutoff\"][0]\n",
    "example_universe[\"eval_fairness_grouping\"] = example_universe[\"eval_fairness_grouping\"][0]\n",
    "fairness_dict, metric_frame = universe_analysis.compute_metrics(\n",
    "    example_universe,\n",
    "    y_pred_prob=probs_test,\n",
    "    y_test=y_true,\n",
    "    org_test=org_test,\n",
    ")"
   ]
  },
  {
   "cell_type": "markdown",
   "id": "f95d4e02",
   "metadata": {
    "papermill": {
     "duration": 0.021045,
     "end_time": "2025-08-05T15:36:08.411837",
     "exception": false,
     "start_time": "2025-08-05T15:36:08.390792",
     "status": "completed"
    },
    "tags": []
   },
   "source": [
    "# Overall"
   ]
  },
  {
   "cell_type": "markdown",
   "id": "bdee4871",
   "metadata": {
    "papermill": {
     "duration": 0.02009,
     "end_time": "2025-08-05T15:36:08.452853",
     "exception": false,
     "start_time": "2025-08-05T15:36:08.432763",
     "status": "completed"
    },
    "tags": []
   },
   "source": [
    "Fairness\n",
    "Main fairness target: Equalized Odds. Seems to be a better fit than equal opportunity, since we're not only interested in Y = 1. Seems to be a better fit than demographic parity, since we also care about accuracy, not just equal distribution of preds.\n",
    "\n",
    "Pick column for computation of fairness metrics\n",
    "\n",
    "Performance\n",
    "Overall performance measures, most interesting in relation to the measures split by group below"
   ]
  },
  {
   "cell_type": "code",
   "execution_count": 61,
   "id": "c4e067c6",
   "metadata": {
    "execution": {
     "iopub.execute_input": "2025-08-05T15:36:08.496183Z",
     "iopub.status.busy": "2025-08-05T15:36:08.495310Z",
     "iopub.status.idle": "2025-08-05T15:36:08.503798Z",
     "shell.execute_reply": "2025-08-05T15:36:08.502746Z"
    },
    "papermill": {
     "duration": 0.032676,
     "end_time": "2025-08-05T15:36:08.505463",
     "exception": false,
     "start_time": "2025-08-05T15:36:08.472787",
     "status": "completed"
    },
    "tags": []
   },
   "outputs": [
    {
     "data": {
      "text/plain": [
       "accuracy                   0.223977\n",
       "balanced accuracy          0.547738\n",
       "f1                         0.245320\n",
       "precision                  0.140143\n",
       "false positive rate        0.887752\n",
       "false negative rate        0.016771\n",
       "selection rate             0.900000\n",
       "count                  89710.000000\n",
       "dtype: float64"
      ]
     },
     "execution_count": 61,
     "metadata": {},
     "output_type": "execute_result"
    }
   ],
   "source": [
    "metric_frame.overall"
   ]
  },
  {
   "cell_type": "markdown",
   "id": "e968fe9d",
   "metadata": {
    "papermill": {
     "duration": 0.021747,
     "end_time": "2025-08-05T15:36:08.549753",
     "exception": false,
     "start_time": "2025-08-05T15:36:08.528006",
     "status": "completed"
    },
    "tags": []
   },
   "source": [
    "By Group"
   ]
  },
  {
   "cell_type": "code",
   "execution_count": 62,
   "id": "ec325bce",
   "metadata": {
    "execution": {
     "iopub.execute_input": "2025-08-05T15:36:08.595110Z",
     "iopub.status.busy": "2025-08-05T15:36:08.594416Z",
     "iopub.status.idle": "2025-08-05T15:36:08.612380Z",
     "shell.execute_reply": "2025-08-05T15:36:08.611294Z"
    },
    "papermill": {
     "duration": 0.043389,
     "end_time": "2025-08-05T15:36:08.614124",
     "exception": false,
     "start_time": "2025-08-05T15:36:08.570735",
     "status": "completed"
    },
    "tags": []
   },
   "outputs": [
    {
     "data": {
      "text/html": [
       "<div>\n",
       "<style scoped>\n",
       "    .dataframe tbody tr th:only-of-type {\n",
       "        vertical-align: middle;\n",
       "    }\n",
       "\n",
       "    .dataframe tbody tr th {\n",
       "        vertical-align: top;\n",
       "    }\n",
       "\n",
       "    .dataframe thead th {\n",
       "        text-align: right;\n",
       "    }\n",
       "</style>\n",
       "<table border=\"1\" class=\"dataframe\">\n",
       "  <thead>\n",
       "    <tr style=\"text-align: right;\">\n",
       "      <th></th>\n",
       "      <th>accuracy</th>\n",
       "      <th>balanced accuracy</th>\n",
       "      <th>f1</th>\n",
       "      <th>precision</th>\n",
       "      <th>false positive rate</th>\n",
       "      <th>false negative rate</th>\n",
       "      <th>selection rate</th>\n",
       "      <th>count</th>\n",
       "    </tr>\n",
       "    <tr>\n",
       "      <th>majmin</th>\n",
       "      <th></th>\n",
       "      <th></th>\n",
       "      <th></th>\n",
       "      <th></th>\n",
       "      <th></th>\n",
       "      <th></th>\n",
       "      <th></th>\n",
       "      <th></th>\n",
       "    </tr>\n",
       "  </thead>\n",
       "  <tbody>\n",
       "    <tr>\n",
       "      <th>majority</th>\n",
       "      <td>0.245323</td>\n",
       "      <td>0.557418</td>\n",
       "      <td>0.255813</td>\n",
       "      <td>0.147070</td>\n",
       "      <td>0.866783</td>\n",
       "      <td>0.018381</td>\n",
       "      <td>0.881957</td>\n",
       "      <td>69170.0</td>\n",
       "    </tr>\n",
       "    <tr>\n",
       "      <th>minority</th>\n",
       "      <td>0.152093</td>\n",
       "      <td>0.516210</td>\n",
       "      <td>0.212017</td>\n",
       "      <td>0.118729</td>\n",
       "      <td>0.957022</td>\n",
       "      <td>0.010557</td>\n",
       "      <td>0.960759</td>\n",
       "      <td>20540.0</td>\n",
       "    </tr>\n",
       "  </tbody>\n",
       "</table>\n",
       "</div>"
      ],
      "text/plain": [
       "          accuracy  balanced accuracy        f1  precision  \\\n",
       "majmin                                                       \n",
       "majority  0.245323           0.557418  0.255813   0.147070   \n",
       "minority  0.152093           0.516210  0.212017   0.118729   \n",
       "\n",
       "          false positive rate  false negative rate  selection rate    count  \n",
       "majmin                                                                       \n",
       "majority             0.866783             0.018381        0.881957  69170.0  \n",
       "minority             0.957022             0.010557        0.960759  20540.0  "
      ]
     },
     "execution_count": 62,
     "metadata": {},
     "output_type": "execute_result"
    }
   ],
   "source": [
    "metric_frame.by_group"
   ]
  },
  {
   "cell_type": "code",
   "execution_count": 63,
   "id": "a9ddbe63",
   "metadata": {
    "execution": {
     "iopub.execute_input": "2025-08-05T15:36:08.665573Z",
     "iopub.status.busy": "2025-08-05T15:36:08.664867Z",
     "iopub.status.idle": "2025-08-05T15:36:10.902826Z",
     "shell.execute_reply": "2025-08-05T15:36:10.901717Z"
    },
    "papermill": {
     "duration": 2.265286,
     "end_time": "2025-08-05T15:36:10.904609",
     "exception": false,
     "start_time": "2025-08-05T15:36:08.639323",
     "status": "completed"
    },
    "tags": []
   },
   "outputs": [
    {
     "data": {
      "text/plain": [
       "array([[<Axes: title={'center': 'accuracy'}, xlabel='majmin'>,\n",
       "        <Axes: title={'center': 'balanced accuracy'}, xlabel='majmin'>,\n",
       "        <Axes: title={'center': 'f1'}, xlabel='majmin'>],\n",
       "       [<Axes: title={'center': 'precision'}, xlabel='majmin'>,\n",
       "        <Axes: title={'center': 'false positive rate'}, xlabel='majmin'>,\n",
       "        <Axes: title={'center': 'false negative rate'}, xlabel='majmin'>],\n",
       "       [<Axes: title={'center': 'selection rate'}, xlabel='majmin'>,\n",
       "        <Axes: title={'center': 'count'}, xlabel='majmin'>,\n",
       "        <Axes: xlabel='majmin'>]], dtype=object)"
      ]
     },
     "execution_count": 63,
     "metadata": {},
     "output_type": "execute_result"
    },
    {
     "data": {
      "image/png": "[encoded data removed]",
      "text/plain": [
       "<Figure size 1200x800 with 9 Axes>"
      ]
     },
     "metadata": {},
     "output_type": "display_data"
    }
   ],
   "source": [
    "# In a graphic\n",
    "metric_frame.by_group.plot.bar(\n",
    "    subplots=True,\n",
    "    layout=[3, 3],\n",
    "    legend=False,\n",
    "    figsize=[12, 8],\n",
    "    title=\"Show all metrics\",\n",
    ")"
   ]
  },
  {
   "cell_type": "markdown",
   "id": "f57a0bac",
   "metadata": {
    "papermill": {
     "duration": 0.0333,
     "end_time": "2025-08-05T15:36:10.967317",
     "exception": false,
     "start_time": "2025-08-05T15:36:10.934017",
     "status": "completed"
    },
    "tags": []
   },
   "source": [
    "# Final Output"
   ]
  },
  {
   "cell_type": "code",
   "execution_count": 64,
   "id": "96d280a3",
   "metadata": {
    "execution": {
     "iopub.execute_input": "2025-08-05T15:36:11.018237Z",
     "iopub.status.busy": "2025-08-05T15:36:11.017426Z",
     "iopub.status.idle": "2025-08-05T15:36:11.027782Z",
     "shell.execute_reply": "2025-08-05T15:36:11.026773Z"
    },
    "papermill": {
     "duration": 0.036846,
     "end_time": "2025-08-05T15:36:11.029304",
     "exception": false,
     "start_time": "2025-08-05T15:36:10.992458",
     "status": "completed"
    },
    "tags": []
   },
   "outputs": [
    {
     "data": {
      "text/plain": [
       "4"
      ]
     },
     "execution_count": 64,
     "metadata": {},
     "output_type": "execute_result"
    }
   ],
   "source": [
    "sub_universes = universe_analysis.generate_sub_universes()\n",
    "len(sub_universes)"
   ]
  },
  {
   "cell_type": "code",
   "execution_count": 65,
   "id": "92adf7ba",
   "metadata": {
    "execution": {
     "iopub.execute_input": "2025-08-05T15:36:11.079286Z",
     "iopub.status.busy": "2025-08-05T15:36:11.078354Z",
     "iopub.status.idle": "2025-08-05T15:36:11.085755Z",
     "shell.execute_reply": "2025-08-05T15:36:11.084622Z"
    },
    "papermill": {
     "duration": 0.034564,
     "end_time": "2025-08-05T15:36:11.087525",
     "exception": false,
     "start_time": "2025-08-05T15:36:11.052961",
     "status": "completed"
    },
    "tags": []
   },
   "outputs": [],
   "source": [
    "def filter_sub_universe_data(sub_universe, org_test):\n",
    "    # Keep all rows — no filtering\n",
    "    keep_rows_mask = np.ones(org_test.shape[0], dtype=bool)\n",
    "\n",
    "    print(f\"[INFO] Keeping all rows: {keep_rows_mask.sum()} rows retained.\")\n",
    "    return keep_rows_mask"
   ]
  },
  {
   "cell_type": "code",
   "execution_count": 66,
   "id": "4a759155",
   "metadata": {
    "execution": {
     "iopub.execute_input": "2025-08-05T15:36:11.136031Z",
     "iopub.status.busy": "2025-08-05T15:36:11.135471Z",
     "iopub.status.idle": "2025-08-05T15:36:20.753922Z",
     "shell.execute_reply": "2025-08-05T15:36:20.753079Z"
    },
    "papermill": {
     "duration": 9.643719,
     "end_time": "2025-08-05T15:36:20.755172",
     "exception": false,
     "start_time": "2025-08-05T15:36:11.111453",
     "status": "completed"
    },
    "tags": []
   },
   "outputs": [
    {
     "name": "stdout",
     "output_type": "stream",
     "text": [
      "Stopping execution_time clock.\n",
      "[INFO] Keeping all rows: 89710 rows retained.\n"
     ]
    },
    {
     "name": "stdout",
     "output_type": "stream",
     "text": [
      "[INFO] Keeping all rows: 89710 rows retained.\n"
     ]
    },
    {
     "name": "stdout",
     "output_type": "stream",
     "text": [
      "[INFO] Keeping all rows: 89710 rows retained.\n"
     ]
    },
    {
     "name": "stdout",
     "output_type": "stream",
     "text": [
      "[INFO] Keeping all rows: 89710 rows retained.\n"
     ]
    },
    {
     "data": {
      "text/html": [
       "<div>\n",
       "<style scoped>\n",
       "    .dataframe tbody tr th:only-of-type {\n",
       "        vertical-align: middle;\n",
       "    }\n",
       "\n",
       "    .dataframe tbody tr th {\n",
       "        vertical-align: top;\n",
       "    }\n",
       "\n",
       "    .dataframe thead th {\n",
       "        text-align: right;\n",
       "    }\n",
       "</style>\n",
       "<table border=\"1\" class=\"dataframe\">\n",
       "  <thead>\n",
       "    <tr style=\"text-align: right;\">\n",
       "      <th></th>\n",
       "      <th>run_no</th>\n",
       "      <th>universe_id</th>\n",
       "      <th>universe_settings</th>\n",
       "      <th>execution_time</th>\n",
       "      <th>test_size_n</th>\n",
       "      <th>test_size_frac</th>\n",
       "      <th>fair_main_equalized_odds_difference</th>\n",
       "      <th>fair_main_equalized_odds_ratio</th>\n",
       "      <th>fair_main_demographic_parity_difference</th>\n",
       "      <th>fair_main_demographic_parity_ratio</th>\n",
       "      <th>...</th>\n",
       "      <th>perf_grp_precision_0</th>\n",
       "      <th>perf_grp_precision_1</th>\n",
       "      <th>perf_grp_false positive rate_0</th>\n",
       "      <th>perf_grp_false positive rate_1</th>\n",
       "      <th>perf_grp_false negative rate_0</th>\n",
       "      <th>perf_grp_false negative rate_1</th>\n",
       "      <th>perf_grp_selection rate_0</th>\n",
       "      <th>perf_grp_selection rate_1</th>\n",
       "      <th>perf_grp_count_0</th>\n",
       "      <th>perf_grp_count_1</th>\n",
       "    </tr>\n",
       "  </thead>\n",
       "  <tbody>\n",
       "    <tr>\n",
       "      <th>0</th>\n",
       "      <td>15</td>\n",
       "      <td>0184082ed2e7a5f3d99fa32da2319083</td>\n",
       "      <td>{\"cutoff\": \"quantile_0.1\", \"eval_fairness_grou...</td>\n",
       "      <td>24.396439</td>\n",
       "      <td>89710</td>\n",
       "      <td>1.0</td>\n",
       "      <td>0.090239</td>\n",
       "      <td>0.905709</td>\n",
       "      <td>0.078802</td>\n",
       "      <td>0.917979</td>\n",
       "      <td>...</td>\n",
       "      <td>NaN</td>\n",
       "      <td>NaN</td>\n",
       "      <td>NaN</td>\n",
       "      <td>NaN</td>\n",
       "      <td>NaN</td>\n",
       "      <td>NaN</td>\n",
       "      <td>NaN</td>\n",
       "      <td>NaN</td>\n",
       "      <td>NaN</td>\n",
       "      <td>NaN</td>\n",
       "    </tr>\n",
       "    <tr>\n",
       "      <th>0</th>\n",
       "      <td>15</td>\n",
       "      <td>0184082ed2e7a5f3d99fa32da2319083</td>\n",
       "      <td>{\"cutoff\": \"quantile_0.1\", \"eval_fairness_grou...</td>\n",
       "      <td>24.396439</td>\n",
       "      <td>89710</td>\n",
       "      <td>1.0</td>\n",
       "      <td>0.090239</td>\n",
       "      <td>0.905709</td>\n",
       "      <td>0.078802</td>\n",
       "      <td>0.917979</td>\n",
       "      <td>...</td>\n",
       "      <td>0.118729</td>\n",
       "      <td>0.147070</td>\n",
       "      <td>0.957022</td>\n",
       "      <td>0.866783</td>\n",
       "      <td>0.010557</td>\n",
       "      <td>0.018381</td>\n",
       "      <td>0.960759</td>\n",
       "      <td>0.881957</td>\n",
       "      <td>20540.0</td>\n",
       "      <td>69170.0</td>\n",
       "    </tr>\n",
       "    <tr>\n",
       "      <th>0</th>\n",
       "      <td>15</td>\n",
       "      <td>0184082ed2e7a5f3d99fa32da2319083</td>\n",
       "      <td>{\"cutoff\": \"quantile_0.25\", \"eval_fairness_gro...</td>\n",
       "      <td>24.396439</td>\n",
       "      <td>89710</td>\n",
       "      <td>1.0</td>\n",
       "      <td>0.155814</td>\n",
       "      <td>0.814937</td>\n",
       "      <td>0.135701</td>\n",
       "      <td>0.841216</td>\n",
       "      <td>...</td>\n",
       "      <td>NaN</td>\n",
       "      <td>NaN</td>\n",
       "      <td>NaN</td>\n",
       "      <td>NaN</td>\n",
       "      <td>NaN</td>\n",
       "      <td>NaN</td>\n",
       "      <td>NaN</td>\n",
       "      <td>NaN</td>\n",
       "      <td>NaN</td>\n",
       "      <td>NaN</td>\n",
       "    </tr>\n",
       "    <tr>\n",
       "      <th>0</th>\n",
       "      <td>15</td>\n",
       "      <td>0184082ed2e7a5f3d99fa32da2319083</td>\n",
       "      <td>{\"cutoff\": \"quantile_0.25\", \"eval_fairness_gro...</td>\n",
       "      <td>24.396439</td>\n",
       "      <td>89710</td>\n",
       "      <td>1.0</td>\n",
       "      <td>0.155814</td>\n",
       "      <td>0.814937</td>\n",
       "      <td>0.135701</td>\n",
       "      <td>0.841216</td>\n",
       "      <td>...</td>\n",
       "      <td>0.128404</td>\n",
       "      <td>0.171714</td>\n",
       "      <td>0.841955</td>\n",
       "      <td>0.686140</td>\n",
       "      <td>0.048142</td>\n",
       "      <td>0.065755</td>\n",
       "      <td>0.854625</td>\n",
       "      <td>0.718924</td>\n",
       "      <td>20540.0</td>\n",
       "      <td>69170.0</td>\n",
       "    </tr>\n",
       "  </tbody>\n",
       "</table>\n",
       "<p>4 rows × 50 columns</p>\n",
       "</div>"
      ],
      "text/plain": [
       "  run_no                       universe_id  \\\n",
       "0     15  0184082ed2e7a5f3d99fa32da2319083   \n",
       "0     15  0184082ed2e7a5f3d99fa32da2319083   \n",
       "0     15  0184082ed2e7a5f3d99fa32da2319083   \n",
       "0     15  0184082ed2e7a5f3d99fa32da2319083   \n",
       "\n",
       "                                   universe_settings  execution_time  \\\n",
       "0  {\"cutoff\": \"quantile_0.1\", \"eval_fairness_grou...       24.396439   \n",
       "0  {\"cutoff\": \"quantile_0.1\", \"eval_fairness_grou...       24.396439   \n",
       "0  {\"cutoff\": \"quantile_0.25\", \"eval_fairness_gro...       24.396439   \n",
       "0  {\"cutoff\": \"quantile_0.25\", \"eval_fairness_gro...       24.396439   \n",
       "\n",
       "   test_size_n  test_size_frac  fair_main_equalized_odds_difference  \\\n",
       "0        89710             1.0                             0.090239   \n",
       "0        89710             1.0                             0.090239   \n",
       "0        89710             1.0                             0.155814   \n",
       "0        89710             1.0                             0.155814   \n",
       "\n",
       "   fair_main_equalized_odds_ratio  fair_main_demographic_parity_difference  \\\n",
       "0                        0.905709                                 0.078802   \n",
       "0                        0.905709                                 0.078802   \n",
       "0                        0.814937                                 0.135701   \n",
       "0                        0.814937                                 0.135701   \n",
       "\n",
       "   fair_main_demographic_parity_ratio  ...  perf_grp_precision_0  \\\n",
       "0                            0.917979  ...                   NaN   \n",
       "0                            0.917979  ...              0.118729   \n",
       "0                            0.841216  ...                   NaN   \n",
       "0                            0.841216  ...              0.128404   \n",
       "\n",
       "   perf_grp_precision_1  perf_grp_false positive rate_0  \\\n",
       "0                   NaN                             NaN   \n",
       "0              0.147070                        0.957022   \n",
       "0                   NaN                             NaN   \n",
       "0              0.171714                        0.841955   \n",
       "\n",
       "   perf_grp_false positive rate_1  perf_grp_false negative rate_0  \\\n",
       "0                             NaN                             NaN   \n",
       "0                        0.866783                        0.010557   \n",
       "0                             NaN                             NaN   \n",
       "0                        0.686140                        0.048142   \n",
       "\n",
       "   perf_grp_false negative rate_1  perf_grp_selection rate_0  \\\n",
       "0                             NaN                        NaN   \n",
       "0                        0.018381                   0.960759   \n",
       "0                             NaN                        NaN   \n",
       "0                        0.065755                   0.854625   \n",
       "\n",
       "   perf_grp_selection rate_1  perf_grp_count_0  perf_grp_count_1  \n",
       "0                        NaN               NaN               NaN  \n",
       "0                   0.881957           20540.0           69170.0  \n",
       "0                        NaN               NaN               NaN  \n",
       "0                   0.718924           20540.0           69170.0  \n",
       "\n",
       "[4 rows x 50 columns]"
      ]
     },
     "execution_count": 66,
     "metadata": {},
     "output_type": "execute_result"
    }
   ],
   "source": [
    "final_output = universe_analysis.generate_final_output(\n",
    "    y_pred_prob=probs_test,\n",
    "    y_test=y_true,\n",
    "    org_test=org_test,\n",
    "    filter_data=filter_sub_universe_data,\n",
    "    cp_metrics_df=cp_metrics_df,\n",
    "    save=True,\n",
    ")\n",
    "final_output"
   ]
  }
 ],
 "metadata": {
  "celltoolbar": "Tags",
  "kernelspec": {
   "display_name": "Python (CMA Fairness)",
   "language": "python",
   "name": "cma_fair_env"
  },
  "language_info": {
   "codemirror_mode": {
    "name": "ipython",
    "version": 3
   },
   "file_extension": ".py",
   "mimetype": "text/x-python",
   "name": "python",
   "nbconvert_exporter": "python",
   "pygments_lexer": "ipython3",
   "version": "3.10.12"
  },
  "papermill": {
   "default_parameters": {},
   "duration": 38.090896,
   "end_time": "2025-08-05T15:36:21.490587",
   "environment_variables": {},
   "exception": null,
   "input_path": "universe_analysis.ipynb",
   "output_path": "output/runs/15/notebooks/m_15-0184082ed2e7a5f3d99fa32da2319083.ipynb",
   "parameters": {
    "output_dir": "output",
    "run_no": "15",
    "seed": "2023",
    "universe": "{\"cutoff\": [\"quantile_0.1\", \"quantile_0.25\"], \"eval_fairness_grouping\": [\"majority-minority\", \"nationality-all\"], \"exclude_features\": \"nationality-sex\", \"exclude_subgroups\": \"keep-all\", \"model\": \"penalized_logreg\", \"scale\": \"scale\", \"training_size\": \"5k\", \"training_year\": \"2012_14\"}",
    "universe_id": "0184082ed2e7a5f3d99fa32da2319083"
   },
   "start_time": "2025-08-05T15:35:43.399691",
   "version": "2.6.0"
  }
 },
 "nbformat": 4,
 "nbformat_minor": 5
}