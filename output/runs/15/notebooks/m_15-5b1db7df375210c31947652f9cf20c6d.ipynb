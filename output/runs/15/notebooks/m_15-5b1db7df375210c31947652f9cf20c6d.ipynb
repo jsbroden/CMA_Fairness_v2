{
 "cells": [
  {
   "cell_type": "code",
   "execution_count": 1,
   "id": "f159f837-637b-42ba-96b5-ec9a68c44524",
   "metadata": {
    "execution": {
     "iopub.execute_input": "2025-08-05T16:07:06.072790Z",
     "iopub.status.busy": "2025-08-05T16:07:06.071933Z",
     "iopub.status.idle": "2025-08-05T16:07:06.085206Z",
     "shell.execute_reply": "2025-08-05T16:07:06.084274Z"
    },
    "papermill": {
     "duration": 0.034119,
     "end_time": "2025-08-05T16:07:06.087191",
     "exception": false,
     "start_time": "2025-08-05T16:07:06.053072",
     "status": "completed"
    },
    "tags": []
   },
   "outputs": [
    {
     "name": "stdout",
     "output_type": "stream",
     "text": [
      "/dss/dsshome1/0C/ra93lal2/cma/CMA_Fairness_v2\n"
     ]
    },
    {
     "name": "stderr",
     "output_type": "stream",
     "text": [
      "/dss/dsshome1/0C/ra93lal2/.local/share/virtualenvs/CMA_Fairness_v2-3j10GkSs/lib/python3.10/site-packages/IPython/core/magics/osm.py:393: UserWarning: This is now an optional IPython functionality, using bookmarks requires you to install the `pickleshare` library.\n",
      "  bkms = self.shell.db.get('bookmarks', {})\n",
      "/dss/dsshome1/0C/ra93lal2/.local/share/virtualenvs/CMA_Fairness_v2-3j10GkSs/lib/python3.10/site-packages/IPython/core/magics/osm.py:417: UserWarning: This is now an optional IPython functionality, setting dhist requires you to install the `pickleshare` library.\n",
      "  self.shell.db['dhist'] = compress_dhist(dhist)[-100:]\n"
     ]
    }
   ],
   "source": [
    "%cd ~/cma/CMA_Fairness_v2"
   ]
  },
  {
   "cell_type": "markdown",
   "id": "de2603b9",
   "metadata": {
    "papermill": {
     "duration": 0.017008,
     "end_time": "2025-08-05T16:07:06.122782",
     "exception": false,
     "start_time": "2025-08-05T16:07:06.105774",
     "status": "completed"
    },
    "tags": []
   },
   "source": [
    "The following cell holds the definition of our parameters, these values can be overriden by rendering the with e.g. the following command:\n",
    "\n",
    "papermill -p alpha 0.2 -p ratio 0.3 universe_analysis.ipynb output/test_run.ipynb"
   ]
  },
  {
   "cell_type": "code",
   "execution_count": 2,
   "id": "a80968a0-40bb-4fa9-85ef-2d5eefb01975",
   "metadata": {
    "execution": {
     "iopub.execute_input": "2025-08-05T16:07:06.158732Z",
     "iopub.status.busy": "2025-08-05T16:07:06.157932Z",
     "iopub.status.idle": "2025-08-05T16:07:06.163806Z",
     "shell.execute_reply": "2025-08-05T16:07:06.162791Z"
    },
    "papermill": {
     "duration": 0.02588,
     "end_time": "2025-08-05T16:07:06.165600",
     "exception": false,
     "start_time": "2025-08-05T16:07:06.139720",
     "status": "completed"
    },
    "tags": []
   },
   "outputs": [
    {
     "name": "stdout",
     "output_type": "stream",
     "text": [
      "Current working directory: /dss/dsshome1/0C/ra93lal2/cma/CMA_Fairness_v2\n"
     ]
    }
   ],
   "source": [
    "import os\n",
    "print(\"Current working directory:\", os.getcwd())"
   ]
  },
  {
   "cell_type": "code",
   "execution_count": 3,
   "id": "2dce4c03",
   "metadata": {
    "execution": {
     "iopub.execute_input": "2025-08-05T16:07:06.203436Z",
     "iopub.status.busy": "2025-08-05T16:07:06.202572Z",
     "iopub.status.idle": "2025-08-05T16:07:06.209034Z",
     "shell.execute_reply": "2025-08-05T16:07:06.208039Z"
    },
    "papermill": {
     "duration": 0.027372,
     "end_time": "2025-08-05T16:07:06.210992",
     "exception": false,
     "start_time": "2025-08-05T16:07:06.183620",
     "status": "completed"
    },
    "tags": [
     "parameters"
    ]
   },
   "outputs": [],
   "source": [
    "run_no = 0\n",
    "universe_id = \"test\"\n",
    "universe = {\n",
    "    \"training_size\": \"25k\", # \"25k\", \"5k\", \"1k\"\n",
    "    \"training_year\": \"2014\", # \"2014\", \"2012_14\", \"2010_14\"\n",
    "    \"scale\": \"scale\", # \"scale\", \"do-not-scale\",\n",
    "    \"model\": \"elasticnet\", # \"logreg\", \"penalized_logreg\", \"rf\", \"gbm\", \"elasticnet\"\n",
    "    \"cutoff\": [\"quantile_0.15\", \"quantile_0.30\"],\n",
    "    \"exclude_features\": \"age\", # \"none\", \"nationality\", \"sex\", \"nationality-sex\", \"age\"\n",
    "    \"exclude_subgroups\": \"keep-all\", # \"keep-all\", \"drop-non-german\"\n",
    "    \"eval_fairness_grouping\": [\"majority-minority\", \"nationality-all\"]\n",
    "}\n",
    "\n",
    "output_dir=\"./output\"\n",
    "seed=0"
   ]
  },
  {
   "cell_type": "code",
   "execution_count": 4,
   "id": "860b9155",
   "metadata": {
    "execution": {
     "iopub.execute_input": "2025-08-05T16:07:06.248107Z",
     "iopub.status.busy": "2025-08-05T16:07:06.247212Z",
     "iopub.status.idle": "2025-08-05T16:07:06.253372Z",
     "shell.execute_reply": "2025-08-05T16:07:06.252228Z"
    },
    "papermill": {
     "duration": 0.025799,
     "end_time": "2025-08-05T16:07:06.255429",
     "exception": false,
     "start_time": "2025-08-05T16:07:06.229630",
     "status": "completed"
    },
    "tags": [
     "injected-parameters"
    ]
   },
   "outputs": [],
   "source": [
    "# Parameters\n",
    "universe_id = \"5b1db7df375210c31947652f9cf20c6d\"\n",
    "run_no = \"15\"\n",
    "universe = \"{\\\"cutoff\\\": [\\\"quantile_0.1\\\", \\\"quantile_0.25\\\"], \\\"eval_fairness_grouping\\\": [\\\"majority-minority\\\", \\\"nationality-all\\\"], \\\"exclude_features\\\": \\\"none\\\", \\\"exclude_subgroups\\\": \\\"drop-non-german\\\", \\\"model\\\": \\\"elasticnet\\\", \\\"scale\\\": \\\"scale\\\", \\\"training_size\\\": \\\"1k\\\", \\\"training_year\\\": \\\"2014\\\"}\"\n",
    "output_dir = \"output\"\n",
    "seed = \"2023\"\n"
   ]
  },
  {
   "cell_type": "code",
   "execution_count": 5,
   "id": "1650acaf",
   "metadata": {
    "execution": {
     "iopub.execute_input": "2025-08-05T16:07:06.293289Z",
     "iopub.status.busy": "2025-08-05T16:07:06.292709Z",
     "iopub.status.idle": "2025-08-05T16:07:06.297885Z",
     "shell.execute_reply": "2025-08-05T16:07:06.296788Z"
    },
    "papermill": {
     "duration": 0.02571,
     "end_time": "2025-08-05T16:07:06.299737",
     "exception": false,
     "start_time": "2025-08-05T16:07:06.274027",
     "status": "completed"
    },
    "tags": []
   },
   "outputs": [],
   "source": [
    "import json\n",
    "if isinstance(universe, str):\n",
    "    universe = json.loads(universe)"
   ]
  },
  {
   "cell_type": "code",
   "execution_count": 6,
   "id": "16620c48",
   "metadata": {
    "execution": {
     "iopub.execute_input": "2025-08-05T16:07:06.336284Z",
     "iopub.status.busy": "2025-08-05T16:07:06.335619Z",
     "iopub.status.idle": "2025-08-05T16:07:06.382447Z",
     "shell.execute_reply": "2025-08-05T16:07:06.381402Z"
    },
    "papermill": {
     "duration": 0.066841,
     "end_time": "2025-08-05T16:07:06.384400",
     "exception": false,
     "start_time": "2025-08-05T16:07:06.317559",
     "status": "completed"
    },
    "tags": []
   },
   "outputs": [],
   "source": [
    "# Auto-reload the custom package\n",
    "%load_ext autoreload\n",
    "%autoreload 1\n",
    "%aimport fairness_multiverse"
   ]
  },
  {
   "cell_type": "code",
   "execution_count": 7,
   "id": "01c5c9f3",
   "metadata": {
    "execution": {
     "iopub.execute_input": "2025-08-05T16:07:06.420395Z",
     "iopub.status.busy": "2025-08-05T16:07:06.419750Z",
     "iopub.status.idle": "2025-08-05T16:07:08.467080Z",
     "shell.execute_reply": "2025-08-05T16:07:08.465929Z"
    },
    "papermill": {
     "duration": 2.066569,
     "end_time": "2025-08-05T16:07:08.469164",
     "exception": false,
     "start_time": "2025-08-05T16:07:06.402595",
     "status": "completed"
    },
    "tags": []
   },
   "outputs": [],
   "source": [
    "from fairness_multiverse.universe import UniverseAnalysis\n",
    "\n",
    "universe_analysis = UniverseAnalysis(\n",
    "    run_no = run_no,\n",
    "    universe_id = universe_id,\n",
    "    universe = universe,\n",
    "    output_dir=output_dir,\n",
    ")"
   ]
  },
  {
   "cell_type": "code",
   "execution_count": 8,
   "id": "106241f5",
   "metadata": {
    "execution": {
     "iopub.execute_input": "2025-08-05T16:07:08.508542Z",
     "iopub.status.busy": "2025-08-05T16:07:08.507963Z",
     "iopub.status.idle": "2025-08-05T16:07:08.515686Z",
     "shell.execute_reply": "2025-08-05T16:07:08.514330Z"
    },
    "papermill": {
     "duration": 0.030243,
     "end_time": "2025-08-05T16:07:08.517544",
     "exception": false,
     "start_time": "2025-08-05T16:07:08.487301",
     "status": "completed"
    },
    "tags": []
   },
   "outputs": [
    {
     "name": "stdout",
     "output_type": "stream",
     "text": [
      "Using Seed: 2023\n"
     ]
    }
   ],
   "source": [
    "import numpy as np\n",
    "parsed_seed = int(seed)\n",
    "np.random.seed(parsed_seed)\n",
    "print(f\"Using Seed: {parsed_seed}\")"
   ]
  },
  {
   "cell_type": "markdown",
   "id": "e0ebdc57",
   "metadata": {
    "papermill": {
     "duration": 0.01956,
     "end_time": "2025-08-05T16:07:08.555354",
     "exception": false,
     "start_time": "2025-08-05T16:07:08.535794",
     "status": "completed"
    },
    "tags": []
   },
   "source": [
    "# Loading Data"
   ]
  },
  {
   "cell_type": "code",
   "execution_count": 9,
   "id": "f0496b8a",
   "metadata": {
    "execution": {
     "iopub.execute_input": "2025-08-05T16:07:08.593292Z",
     "iopub.status.busy": "2025-08-05T16:07:08.592303Z",
     "iopub.status.idle": "2025-08-05T16:07:20.929672Z",
     "shell.execute_reply": "2025-08-05T16:07:20.928540Z"
    },
    "papermill": {
     "duration": 12.358276,
     "end_time": "2025-08-05T16:07:20.931440",
     "exception": false,
     "start_time": "2025-08-05T16:07:08.573164",
     "status": "completed"
    },
    "tags": []
   },
   "outputs": [
    {
     "name": "stdout",
     "output_type": "stream",
     "text": [
      "Loading SIAB data from cache: data/siab_cached.csv.gz\n"
     ]
    },
    {
     "name": "stdout",
     "output_type": "stream",
     "text": [
      "(643690, 164)\n"
     ]
    }
   ],
   "source": [
    "from pathlib import Path\n",
    "import pandas as pd\n",
    "\n",
    "# File paths\n",
    "raw_file = Path(\"data/raw/siab.csv\")\n",
    "cache_file = Path(\"data/siab_cached.csv.gz\")\n",
    "\n",
    "# Ensure cache directory exists\n",
    "cache_file.parent.mkdir(parents=True, exist_ok=True)\n",
    "\n",
    "# Load with simple caching\n",
    "if cache_file.exists():\n",
    "    print(f\"Loading SIAB data from cache: {cache_file}\")\n",
    "    siab = pd.read_csv(cache_file, compression='gzip')\n",
    "else:\n",
    "    print(f\"Cache not found. Reading raw SIAB data: {raw_file}\")\n",
    "    siab = pd.read_csv(raw_file)\n",
    "    siab.to_csv(cache_file, index=False, compression='gzip')\n",
    "    print(f\"Cached SIAB data to: {cache_file}\")\n",
    "\n",
    "print(siab.shape)"
   ]
  },
  {
   "cell_type": "code",
   "execution_count": 10,
   "id": "db0ca512-5f53-4dba-abdb-a2888bca41ba",
   "metadata": {
    "execution": {
     "iopub.execute_input": "2025-08-05T16:07:20.965696Z",
     "iopub.status.busy": "2025-08-05T16:07:20.965215Z",
     "iopub.status.idle": "2025-08-05T16:07:20.970516Z",
     "shell.execute_reply": "2025-08-05T16:07:20.969667Z"
    },
    "papermill": {
     "duration": 0.018969,
     "end_time": "2025-08-05T16:07:20.972160",
     "exception": false,
     "start_time": "2025-08-05T16:07:20.953191",
     "status": "completed"
    },
    "tags": []
   },
   "outputs": [],
   "source": [
    "#siab"
   ]
  },
  {
   "cell_type": "markdown",
   "id": "997051c5-15bd-4b69-9786-c3001a3ce484",
   "metadata": {
    "papermill": {
     "duration": 0.008627,
     "end_time": "2025-08-05T16:07:20.991068",
     "exception": false,
     "start_time": "2025-08-05T16:07:20.982441",
     "status": "completed"
    },
    "tags": []
   },
   "source": [
    "# Splitting Data and Setting Training Data Size"
   ]
  },
  {
   "cell_type": "code",
   "execution_count": 11,
   "id": "aea9c6ef-6f46-42c8-85eb-5a62025c1508",
   "metadata": {
    "execution": {
     "iopub.execute_input": "2025-08-05T16:07:21.016003Z",
     "iopub.status.busy": "2025-08-05T16:07:21.015549Z",
     "iopub.status.idle": "2025-08-05T16:07:21.250239Z",
     "shell.execute_reply": "2025-08-05T16:07:21.249427Z"
    },
    "papermill": {
     "duration": 0.247463,
     "end_time": "2025-08-05T16:07:21.251586",
     "exception": false,
     "start_time": "2025-08-05T16:07:21.004123",
     "status": "completed"
    },
    "tags": []
   },
   "outputs": [],
   "source": [
    "from fairness_multiverse.universe import sample_by_year_size\n",
    "\n",
    "siab_train = sample_by_year_size(siab,\n",
    "                               training_year=universe[\"training_year\"],\n",
    "                               training_size=universe[\"training_size\"])"
   ]
  },
  {
   "cell_type": "code",
   "execution_count": 12,
   "id": "8d3afb32-789d-442c-8d5d-9f5aa8dd2eed",
   "metadata": {
    "execution": {
     "iopub.execute_input": "2025-08-05T16:07:21.271711Z",
     "iopub.status.busy": "2025-08-05T16:07:21.271191Z",
     "iopub.status.idle": "2025-08-05T16:07:21.275530Z",
     "shell.execute_reply": "2025-08-05T16:07:21.274704Z"
    },
    "papermill": {
     "duration": 0.015377,
     "end_time": "2025-08-05T16:07:21.276993",
     "exception": false,
     "start_time": "2025-08-05T16:07:21.261616",
     "status": "completed"
    },
    "tags": []
   },
   "outputs": [],
   "source": [
    "#siab_train.shape"
   ]
  },
  {
   "cell_type": "code",
   "execution_count": 13,
   "id": "d582db68-1a4c-47fb-84fc-08518dc1975a",
   "metadata": {
    "execution": {
     "iopub.execute_input": "2025-08-05T16:07:21.312942Z",
     "iopub.status.busy": "2025-08-05T16:07:21.312419Z",
     "iopub.status.idle": "2025-08-05T16:07:21.317650Z",
     "shell.execute_reply": "2025-08-05T16:07:21.316657Z"
    },
    "papermill": {
     "duration": 0.026152,
     "end_time": "2025-08-05T16:07:21.319733",
     "exception": false,
     "start_time": "2025-08-05T16:07:21.293581",
     "status": "completed"
    },
    "tags": []
   },
   "outputs": [],
   "source": [
    "#display(siab_train.groupby(\"year\").size())"
   ]
  },
  {
   "cell_type": "code",
   "execution_count": 14,
   "id": "a561edb4-d032-42cb-8256-22eac1111c64",
   "metadata": {
    "execution": {
     "iopub.execute_input": "2025-08-05T16:07:21.360908Z",
     "iopub.status.busy": "2025-08-05T16:07:21.360241Z",
     "iopub.status.idle": "2025-08-05T16:07:21.628264Z",
     "shell.execute_reply": "2025-08-05T16:07:21.627305Z"
    },
    "papermill": {
     "duration": 0.291095,
     "end_time": "2025-08-05T16:07:21.630636",
     "exception": false,
     "start_time": "2025-08-05T16:07:21.339541",
     "status": "completed"
    },
    "tags": []
   },
   "outputs": [],
   "source": [
    "#siab_train = siab_s[siab_s.year < 2015]\n",
    "siab_calib = siab[siab.year == 2015]\n",
    "siab_test = siab[siab.year == 2016]"
   ]
  },
  {
   "cell_type": "code",
   "execution_count": 15,
   "id": "472de16f-c3db-4916-846b-1f0de9cf1746",
   "metadata": {
    "execution": {
     "iopub.execute_input": "2025-08-05T16:07:21.673207Z",
     "iopub.status.busy": "2025-08-05T16:07:21.672450Z",
     "iopub.status.idle": "2025-08-05T16:07:21.680086Z",
     "shell.execute_reply": "2025-08-05T16:07:21.678948Z"
    },
    "papermill": {
     "duration": 0.03088,
     "end_time": "2025-08-05T16:07:21.682371",
     "exception": false,
     "start_time": "2025-08-05T16:07:21.651491",
     "status": "completed"
    },
    "tags": []
   },
   "outputs": [],
   "source": [
    "X_train = siab_train.iloc[:,4:164]\n",
    "y_train = siab_train.iloc[:, [3]]"
   ]
  },
  {
   "cell_type": "code",
   "execution_count": 16,
   "id": "828c96af-f43a-4ed6-ba47-8ac73a47d56c",
   "metadata": {
    "execution": {
     "iopub.execute_input": "2025-08-05T16:07:21.726078Z",
     "iopub.status.busy": "2025-08-05T16:07:21.725292Z",
     "iopub.status.idle": "2025-08-05T16:07:21.779827Z",
     "shell.execute_reply": "2025-08-05T16:07:21.778595Z"
    },
    "papermill": {
     "duration": 0.077934,
     "end_time": "2025-08-05T16:07:21.781659",
     "exception": false,
     "start_time": "2025-08-05T16:07:21.703725",
     "status": "completed"
    },
    "tags": []
   },
   "outputs": [],
   "source": [
    "X_calib = siab_calib.iloc[:,4:164]\n",
    "y_calib = siab_calib.iloc[:, [3]]"
   ]
  },
  {
   "cell_type": "code",
   "execution_count": 17,
   "id": "c34be9c3-6bd6-476e-acd3-845840e303be",
   "metadata": {
    "execution": {
     "iopub.execute_input": "2025-08-05T16:07:21.818222Z",
     "iopub.status.busy": "2025-08-05T16:07:21.817485Z",
     "iopub.status.idle": "2025-08-05T16:07:21.873031Z",
     "shell.execute_reply": "2025-08-05T16:07:21.871810Z"
    },
    "papermill": {
     "duration": 0.075114,
     "end_time": "2025-08-05T16:07:21.875272",
     "exception": false,
     "start_time": "2025-08-05T16:07:21.800158",
     "status": "completed"
    },
    "tags": []
   },
   "outputs": [],
   "source": [
    "X_test = siab_test.iloc[:,4:164]\n",
    "y_true = siab_test.iloc[:, [3]]"
   ]
  },
  {
   "cell_type": "code",
   "execution_count": 18,
   "id": "e6c733c5",
   "metadata": {
    "execution": {
     "iopub.execute_input": "2025-08-05T16:07:21.912875Z",
     "iopub.status.busy": "2025-08-05T16:07:21.912135Z",
     "iopub.status.idle": "2025-08-05T16:07:22.012960Z",
     "shell.execute_reply": "2025-08-05T16:07:22.012032Z"
    },
    "papermill": {
     "duration": 0.121555,
     "end_time": "2025-08-05T16:07:22.014916",
     "exception": false,
     "start_time": "2025-08-05T16:07:21.893361",
     "status": "completed"
    },
    "tags": []
   },
   "outputs": [],
   "source": [
    "# Auxiliary data needed downstream in the pipeline\n",
    "\n",
    "org_train = X_train.copy()\n",
    "org_test = X_test.copy()\n",
    "org_calib = X_calib.copy()"
   ]
  },
  {
   "cell_type": "markdown",
   "id": "0a4a1b33",
   "metadata": {
    "papermill": {
     "duration": 0.01693,
     "end_time": "2025-08-05T16:07:22.049722",
     "exception": false,
     "start_time": "2025-08-05T16:07:22.032792",
     "status": "completed"
    },
    "tags": []
   },
   "source": [
    "# Preprocessing Data"
   ]
  },
  {
   "cell_type": "code",
   "execution_count": 19,
   "id": "ca879031",
   "metadata": {
    "execution": {
     "iopub.execute_input": "2025-08-05T16:07:22.087021Z",
     "iopub.status.busy": "2025-08-05T16:07:22.086266Z",
     "iopub.status.idle": "2025-08-05T16:07:22.092867Z",
     "shell.execute_reply": "2025-08-05T16:07:22.091800Z"
    },
    "papermill": {
     "duration": 0.026794,
     "end_time": "2025-08-05T16:07:22.094806",
     "exception": false,
     "start_time": "2025-08-05T16:07:22.068012",
     "status": "completed"
    },
    "tags": []
   },
   "outputs": [],
   "source": [
    "# EXCLUDE PROTECTED FEATURES\n",
    "# ----------------------\n",
    "# \"exclude_features\": \"none\", # \"nationality\", \"sex\", \"nationality-sex\"\n",
    "\n",
    "excluded_features = universe[\"exclude_features\"].split(\"-\") # split, e.g.: \"nationality-sex\" -> [\"nationality\", \"sex\"]\n",
    "excluded_features_dictionary = {\n",
    "    \"nationality\": [\"maxdeutsch1\", \"maxdeutsch.Missing.\"],\n",
    "    \"sex\": [\"frau1\"],\n",
    "    \"age\": [\"age\"],\n",
    "}"
   ]
  },
  {
   "cell_type": "code",
   "execution_count": 20,
   "id": "b745ac60",
   "metadata": {
    "execution": {
     "iopub.execute_input": "2025-08-05T16:07:22.130811Z",
     "iopub.status.busy": "2025-08-05T16:07:22.130339Z",
     "iopub.status.idle": "2025-08-05T16:07:22.135808Z",
     "shell.execute_reply": "2025-08-05T16:07:22.134695Z"
    },
    "papermill": {
     "duration": 0.025341,
     "end_time": "2025-08-05T16:07:22.137768",
     "exception": false,
     "start_time": "2025-08-05T16:07:22.112427",
     "status": "completed"
    },
    "tags": []
   },
   "outputs": [],
   "source": [
    "# Code nice names to column names\n",
    "\n",
    "excluded_features_columns = [\n",
    "    excluded_features_dictionary[f] for f in excluded_features if len(f) > 0 and f != \"none\"\n",
    "]"
   ]
  },
  {
   "cell_type": "code",
   "execution_count": 21,
   "id": "f84f73a2",
   "metadata": {
    "execution": {
     "iopub.execute_input": "2025-08-05T16:07:22.174441Z",
     "iopub.status.busy": "2025-08-05T16:07:22.173733Z",
     "iopub.status.idle": "2025-08-05T16:07:22.180603Z",
     "shell.execute_reply": "2025-08-05T16:07:22.179461Z"
    },
    "papermill": {
     "duration": 0.026821,
     "end_time": "2025-08-05T16:07:22.182465",
     "exception": false,
     "start_time": "2025-08-05T16:07:22.155644",
     "status": "completed"
    },
    "tags": []
   },
   "outputs": [],
   "source": [
    "from utils import flatten_once\n",
    "\n",
    "excluded_features_columns = flatten_once(excluded_features_columns)"
   ]
  },
  {
   "cell_type": "code",
   "execution_count": 22,
   "id": "884dea22",
   "metadata": {
    "execution": {
     "iopub.execute_input": "2025-08-05T16:07:22.223075Z",
     "iopub.status.busy": "2025-08-05T16:07:22.222250Z",
     "iopub.status.idle": "2025-08-05T16:07:22.228182Z",
     "shell.execute_reply": "2025-08-05T16:07:22.227150Z"
    },
    "papermill": {
     "duration": 0.02936,
     "end_time": "2025-08-05T16:07:22.230252",
     "exception": false,
     "start_time": "2025-08-05T16:07:22.200892",
     "status": "completed"
    },
    "tags": []
   },
   "outputs": [],
   "source": [
    "if len(excluded_features_columns) > 0:\n",
    "    print(f\"Dropping features: {excluded_features_columns}\")\n",
    "    X_train.drop(excluded_features_columns, axis=1, inplace=True)"
   ]
  },
  {
   "cell_type": "code",
   "execution_count": 23,
   "id": "95ab8b16",
   "metadata": {
    "execution": {
     "iopub.execute_input": "2025-08-05T16:07:22.277401Z",
     "iopub.status.busy": "2025-08-05T16:07:22.276509Z",
     "iopub.status.idle": "2025-08-05T16:07:22.283197Z",
     "shell.execute_reply": "2025-08-05T16:07:22.282155Z"
    },
    "papermill": {
     "duration": 0.031492,
     "end_time": "2025-08-05T16:07:22.285375",
     "exception": false,
     "start_time": "2025-08-05T16:07:22.253883",
     "status": "completed"
    },
    "tags": []
   },
   "outputs": [],
   "source": [
    "if len(excluded_features_columns) > 0:\n",
    "    print(f\"Dropping features: {excluded_features_columns}\")\n",
    "    X_test.drop(excluded_features_columns, axis=1, inplace=True)"
   ]
  },
  {
   "cell_type": "code",
   "execution_count": 24,
   "id": "1853aaf5-fb9f-46cb-a2b5-8ea4ae2237e4",
   "metadata": {
    "execution": {
     "iopub.execute_input": "2025-08-05T16:07:22.324342Z",
     "iopub.status.busy": "2025-08-05T16:07:22.323612Z",
     "iopub.status.idle": "2025-08-05T16:07:22.329171Z",
     "shell.execute_reply": "2025-08-05T16:07:22.328144Z"
    },
    "papermill": {
     "duration": 0.026017,
     "end_time": "2025-08-05T16:07:22.331103",
     "exception": false,
     "start_time": "2025-08-05T16:07:22.305086",
     "status": "completed"
    },
    "tags": []
   },
   "outputs": [],
   "source": [
    "if len(excluded_features_columns) > 0:\n",
    "    print(f\"Dropping features: {excluded_features_columns}\")\n",
    "    X_calib.drop(excluded_features_columns, axis=1, inplace=True)"
   ]
  },
  {
   "cell_type": "code",
   "execution_count": 25,
   "id": "76c4dc6d",
   "metadata": {
    "execution": {
     "iopub.execute_input": "2025-08-05T16:07:22.373338Z",
     "iopub.status.busy": "2025-08-05T16:07:22.372663Z",
     "iopub.status.idle": "2025-08-05T16:07:22.378405Z",
     "shell.execute_reply": "2025-08-05T16:07:22.377291Z"
    },
    "papermill": {
     "duration": 0.028482,
     "end_time": "2025-08-05T16:07:22.380362",
     "exception": false,
     "start_time": "2025-08-05T16:07:22.351880",
     "status": "completed"
    },
    "tags": []
   },
   "outputs": [],
   "source": [
    "# EXCLUDE CERTAIN SUBGROUPS\n",
    "# ----------------------\n",
    "\n",
    "mode = universe.get(\"exclude_subgroups\", \"keep-all\") \n",
    "# Fetches the exclude_subgroups setting from the universe dict.\n",
    "# Defaults to \"keep-all\" if the key is missing."
   ]
  },
  {
   "cell_type": "code",
   "execution_count": 26,
   "id": "21994072",
   "metadata": {
    "execution": {
     "iopub.execute_input": "2025-08-05T16:07:22.424034Z",
     "iopub.status.busy": "2025-08-05T16:07:22.423369Z",
     "iopub.status.idle": "2025-08-05T16:07:22.432591Z",
     "shell.execute_reply": "2025-08-05T16:07:22.431277Z"
    },
    "papermill": {
     "duration": 0.032716,
     "end_time": "2025-08-05T16:07:22.434866",
     "exception": false,
     "start_time": "2025-08-05T16:07:22.402150",
     "status": "completed"
    },
    "tags": []
   },
   "outputs": [],
   "source": [
    "if mode == \"keep-all\":\n",
    "    keep_mask = pd.Series(True, index=org_train.index)\n",
    "\n",
    "# org_train contains the original feature columns from features_org (in Simson)\n",
    "# features_org contains unprocessed features, for me X_train at beginning ???\n",
    "# For keep-all, creates a boolean Series (keep_mask) of all True, so no rows are removed.\n",
    "\n",
    "elif mode == \"drop-non-german\":\n",
    "    keep_mask = org_train[\"maxdeutsch1\"] == 1 # ??? what about missing values?\n",
    "\n",
    "else:\n",
    "    raise ValueError(f\"Unsupported mode for exclude_subgroups: {mode}\")"
   ]
  },
  {
   "cell_type": "code",
   "execution_count": 27,
   "id": "71651440",
   "metadata": {
    "execution": {
     "iopub.execute_input": "2025-08-05T16:07:22.471705Z",
     "iopub.status.busy": "2025-08-05T16:07:22.471213Z",
     "iopub.status.idle": "2025-08-05T16:07:22.478765Z",
     "shell.execute_reply": "2025-08-05T16:07:22.477666Z"
    },
    "papermill": {
     "duration": 0.027286,
     "end_time": "2025-08-05T16:07:22.480564",
     "exception": false,
     "start_time": "2025-08-05T16:07:22.453278",
     "status": "completed"
    },
    "tags": []
   },
   "outputs": [
    {
     "name": "stdout",
     "output_type": "stream",
     "text": [
      "Dropping 147 rows (14.70%) where mode='drop-non-german'\n"
     ]
    }
   ],
   "source": [
    "n_drop = (~keep_mask).sum() # Calculates how many rows are set to be dropped\n",
    "if n_drop > 0:\n",
    "    pct = n_drop / len(keep_mask) * 100\n",
    "    print(f\"Dropping {n_drop} rows ({pct:.2f}%) where mode='{mode}'\")"
   ]
  },
  {
   "cell_type": "code",
   "execution_count": 28,
   "id": "5fb8eee5",
   "metadata": {
    "execution": {
     "iopub.execute_input": "2025-08-05T16:07:22.517121Z",
     "iopub.status.busy": "2025-08-05T16:07:22.516563Z",
     "iopub.status.idle": "2025-08-05T16:07:22.522654Z",
     "shell.execute_reply": "2025-08-05T16:07:22.521620Z"
    },
    "papermill": {
     "duration": 0.025943,
     "end_time": "2025-08-05T16:07:22.524454",
     "exception": false,
     "start_time": "2025-08-05T16:07:22.498511",
     "status": "completed"
    },
    "tags": []
   },
   "outputs": [],
   "source": [
    "X_train = X_train[keep_mask]"
   ]
  },
  {
   "cell_type": "code",
   "execution_count": 29,
   "id": "b202bb3a",
   "metadata": {
    "execution": {
     "iopub.execute_input": "2025-08-05T16:07:22.564057Z",
     "iopub.status.busy": "2025-08-05T16:07:22.563218Z",
     "iopub.status.idle": "2025-08-05T16:07:22.569487Z",
     "shell.execute_reply": "2025-08-05T16:07:22.568194Z"
    },
    "papermill": {
     "duration": 0.028954,
     "end_time": "2025-08-05T16:07:22.571537",
     "exception": false,
     "start_time": "2025-08-05T16:07:22.542583",
     "status": "completed"
    },
    "tags": []
   },
   "outputs": [],
   "source": [
    "y_train = y_train[keep_mask]"
   ]
  },
  {
   "cell_type": "markdown",
   "id": "493e2ac3",
   "metadata": {
    "papermill": {
     "duration": 0.009333,
     "end_time": "2025-08-05T16:07:22.597509",
     "exception": false,
     "start_time": "2025-08-05T16:07:22.588176",
     "status": "completed"
    },
    "tags": []
   },
   "source": [
    "# Model Training"
   ]
  },
  {
   "cell_type": "code",
   "execution_count": 30,
   "id": "679e1268",
   "metadata": {
    "execution": {
     "iopub.execute_input": "2025-08-05T16:07:22.618622Z",
     "iopub.status.busy": "2025-08-05T16:07:22.618188Z",
     "iopub.status.idle": "2025-08-05T16:07:22.695957Z",
     "shell.execute_reply": "2025-08-05T16:07:22.695222Z"
    },
    "papermill": {
     "duration": 0.090459,
     "end_time": "2025-08-05T16:07:22.697436",
     "exception": false,
     "start_time": "2025-08-05T16:07:22.606977",
     "status": "completed"
    },
    "tags": []
   },
   "outputs": [],
   "source": [
    "from sklearn.linear_model import LogisticRegression\n",
    "from sklearn.ensemble import GradientBoostingClassifier, RandomForestClassifier\n",
    "\n",
    "if (universe[\"model\"] == \"logreg\"):\n",
    "    model = LogisticRegression() #penalty=\"none\", solver=\"newton-cg\", max_iter=1) # include random_state=19 ?\n",
    "elif (universe[\"model\"] == \"penalized_logreg\"):\n",
    "    model = LogisticRegression(penalty=\"l2\", C=0.1) #, solver=\"newton-cg\", max_iter=1)\n",
    "elif (universe[\"model\"] == \"rf\"):\n",
    "    model = RandomForestClassifier() # n_estimators=100, n_jobs=-1\n",
    "elif (universe[\"model\"] == \"gbm\"):\n",
    "    model = GradientBoostingClassifier()\n",
    "elif (universe[\"model\"] == \"elasticnet\"):\n",
    "    model = LogisticRegression(penalty = 'elasticnet', solver = 'saga', l1_ratio = 0.5) # max_iter=5000\n",
    "else:\n",
    "    raise \"Unsupported universe.model\""
   ]
  },
  {
   "cell_type": "code",
   "execution_count": 31,
   "id": "0cc8f744",
   "metadata": {
    "execution": {
     "iopub.execute_input": "2025-08-05T16:07:22.718488Z",
     "iopub.status.busy": "2025-08-05T16:07:22.718184Z",
     "iopub.status.idle": "2025-08-05T16:07:22.724537Z",
     "shell.execute_reply": "2025-08-05T16:07:22.723181Z"
    },
    "papermill": {
     "duration": 0.01832,
     "end_time": "2025-08-05T16:07:22.726431",
     "exception": false,
     "start_time": "2025-08-05T16:07:22.708111",
     "status": "completed"
    },
    "tags": []
   },
   "outputs": [],
   "source": [
    "import numpy as np\n",
    "from sklearn.pipeline import Pipeline\n",
    "from sklearn.preprocessing import StandardScaler\n",
    "\n",
    "model = Pipeline([\n",
    "    #(\"continuous_processor\", continuous_processor),\n",
    "    #(\"categorical_preprocessor\", categorical_preprocessor),\n",
    "    (\"scale\", StandardScaler() if universe[\"scale\"] == \"scale\" else None), \n",
    "    (\"model\", model),\n",
    "])"
   ]
  },
  {
   "cell_type": "code",
   "execution_count": 32,
   "id": "9442c04d",
   "metadata": {
    "execution": {
     "iopub.execute_input": "2025-08-05T16:07:22.748735Z",
     "iopub.status.busy": "2025-08-05T16:07:22.748171Z",
     "iopub.status.idle": "2025-08-05T16:07:22.992994Z",
     "shell.execute_reply": "2025-08-05T16:07:22.992111Z"
    },
    "papermill": {
     "duration": 0.257394,
     "end_time": "2025-08-05T16:07:22.995024",
     "exception": false,
     "start_time": "2025-08-05T16:07:22.737630",
     "status": "completed"
    },
    "tags": []
   },
   "outputs": [
    {
     "name": "stderr",
     "output_type": "stream",
     "text": [
      "/dss/dsshome1/0C/ra93lal2/.local/share/virtualenvs/CMA_Fairness_v2-3j10GkSs/lib/python3.10/site-packages/sklearn/linear_model/_sag.py:350: ConvergenceWarning: The max_iter was reached which means the coef_ did not converge\n",
      "  warnings.warn(\n"
     ]
    },
    {
     "data": {
      "text/html": [
       "<style>#sk-container-id-1 {color: black;background-color: white;}#sk-container-id-1 pre{padding: 0;}#sk-container-id-1 div.sk-toggleable {background-color: white;}#sk-container-id-1 label.sk-toggleable__label {cursor: pointer;display: block;width: 100%;margin-bottom: 0;padding: 0.3em;box-sizing: border-box;text-align: center;}#sk-container-id-1 label.sk-toggleable__label-arrow:before {content: \"▸\";float: left;margin-right: 0.25em;color: #696969;}#sk-container-id-1 label.sk-toggleable__label-arrow:hover:before {color: black;}#sk-container-id-1 div.sk-estimator:hover label.sk-toggleable__label-arrow:before {color: black;}#sk-container-id-1 div.sk-toggleable__content {max-height: 0;max-width: 0;overflow: hidden;text-align: left;background-color: #f0f8ff;}#sk-container-id-1 div.sk-toggleable__content pre {margin: 0.2em;color: black;border-radius: 0.25em;background-color: #f0f8ff;}#sk-container-id-1 input.sk-toggleable__control:checked~div.sk-toggleable__content {max-height: 200px;max-width: 100%;overflow: auto;}#sk-container-id-1 input.sk-toggleable__control:checked~label.sk-toggleable__label-arrow:before {content: \"▾\";}#sk-container-id-1 div.sk-estimator input.sk-toggleable__control:checked~label.sk-toggleable__label {background-color: #d4ebff;}#sk-container-id-1 div.sk-label input.sk-toggleable__control:checked~label.sk-toggleable__label {background-color: #d4ebff;}#sk-container-id-1 input.sk-hidden--visually {border: 0;clip: rect(1px 1px 1px 1px);clip: rect(1px, 1px, 1px, 1px);height: 1px;margin: -1px;overflow: hidden;padding: 0;position: absolute;width: 1px;}#sk-container-id-1 div.sk-estimator {font-family: monospace;background-color: #f0f8ff;border: 1px dotted black;border-radius: 0.25em;box-sizing: border-box;margin-bottom: 0.5em;}#sk-container-id-1 div.sk-estimator:hover {background-color: #d4ebff;}#sk-container-id-1 div.sk-parallel-item::after {content: \"\";width: 100%;border-bottom: 1px solid gray;flex-grow: 1;}#sk-container-id-1 div.sk-label:hover label.sk-toggleable__label {background-color: #d4ebff;}#sk-container-id-1 div.sk-serial::before {content: \"\";position: absolute;border-left: 1px solid gray;box-sizing: border-box;top: 0;bottom: 0;left: 50%;z-index: 0;}#sk-container-id-1 div.sk-serial {display: flex;flex-direction: column;align-items: center;background-color: white;padding-right: 0.2em;padding-left: 0.2em;position: relative;}#sk-container-id-1 div.sk-item {position: relative;z-index: 1;}#sk-container-id-1 div.sk-parallel {display: flex;align-items: stretch;justify-content: center;background-color: white;position: relative;}#sk-container-id-1 div.sk-item::before, #sk-container-id-1 div.sk-parallel-item::before {content: \"\";position: absolute;border-left: 1px solid gray;box-sizing: border-box;top: 0;bottom: 0;left: 50%;z-index: -1;}#sk-container-id-1 div.sk-parallel-item {display: flex;flex-direction: column;z-index: 1;position: relative;background-color: white;}#sk-container-id-1 div.sk-parallel-item:first-child::after {align-self: flex-end;width: 50%;}#sk-container-id-1 div.sk-parallel-item:last-child::after {align-self: flex-start;width: 50%;}#sk-container-id-1 div.sk-parallel-item:only-child::after {width: 0;}#sk-container-id-1 div.sk-dashed-wrapped {border: 1px dashed gray;margin: 0 0.4em 0.5em 0.4em;box-sizing: border-box;padding-bottom: 0.4em;background-color: white;}#sk-container-id-1 div.sk-label label {font-family: monospace;font-weight: bold;display: inline-block;line-height: 1.2em;}#sk-container-id-1 div.sk-label-container {text-align: center;}#sk-container-id-1 div.sk-container {/* jupyter's `normalize.less` sets `[hidden] { display: none; }` but bootstrap.min.css set `[hidden] { display: none !important; }` so we also need the `!important` here to be able to override the default hidden behavior on the sphinx rendered scikit-learn.org. See: https://github.com/scikit-learn/scikit-learn/issues/21755 */display: inline-block !important;position: relative;}#sk-container-id-1 div.sk-text-repr-fallback {display: none;}</style><div id=\"sk-container-id-1\" class=\"sk-top-container\"><div class=\"sk-text-repr-fallback\"><pre>Pipeline(steps=[(&#x27;scale&#x27;, StandardScaler()),\n",
       "                (&#x27;model&#x27;,\n",
       "                 LogisticRegression(l1_ratio=0.5, penalty=&#x27;elasticnet&#x27;,\n",
       "                                    solver=&#x27;saga&#x27;))])</pre><b>In a Jupyter environment, please rerun this cell to show the HTML representation or trust the notebook. <br />On GitHub, the HTML representation is unable to render, please try loading this page with nbviewer.org.</b></div><div class=\"sk-container\" hidden><div class=\"sk-item sk-dashed-wrapped\"><div class=\"sk-label-container\"><div class=\"sk-label sk-toggleable\"><input class=\"sk-toggleable__control sk-hidden--visually\" id=\"sk-estimator-id-1\" type=\"checkbox\" ><label for=\"sk-estimator-id-1\" class=\"sk-toggleable__label sk-toggleable__label-arrow\">Pipeline</label><div class=\"sk-toggleable__content\"><pre>Pipeline(steps=[(&#x27;scale&#x27;, StandardScaler()),\n",
       "                (&#x27;model&#x27;,\n",
       "                 LogisticRegression(l1_ratio=0.5, penalty=&#x27;elasticnet&#x27;,\n",
       "                                    solver=&#x27;saga&#x27;))])</pre></div></div></div><div class=\"sk-serial\"><div class=\"sk-item\"><div class=\"sk-estimator sk-toggleable\"><input class=\"sk-toggleable__control sk-hidden--visually\" id=\"sk-estimator-id-2\" type=\"checkbox\" ><label for=\"sk-estimator-id-2\" class=\"sk-toggleable__label sk-toggleable__label-arrow\">StandardScaler</label><div class=\"sk-toggleable__content\"><pre>StandardScaler()</pre></div></div></div><div class=\"sk-item\"><div class=\"sk-estimator sk-toggleable\"><input class=\"sk-toggleable__control sk-hidden--visually\" id=\"sk-estimator-id-3\" type=\"checkbox\" ><label for=\"sk-estimator-id-3\" class=\"sk-toggleable__label sk-toggleable__label-arrow\">LogisticRegression</label><div class=\"sk-toggleable__content\"><pre>LogisticRegression(l1_ratio=0.5, penalty=&#x27;elasticnet&#x27;, solver=&#x27;saga&#x27;)</pre></div></div></div></div></div></div></div>"
      ],
      "text/plain": [
       "Pipeline(steps=[('scale', StandardScaler()),\n",
       "                ('model',\n",
       "                 LogisticRegression(l1_ratio=0.5, penalty='elasticnet',\n",
       "                                    solver='saga'))])"
      ]
     },
     "execution_count": 32,
     "metadata": {},
     "output_type": "execute_result"
    }
   ],
   "source": [
    "model.fit(X_train, y_train.values.ravel())"
   ]
  },
  {
   "cell_type": "code",
   "execution_count": 33,
   "id": "af59f8c0",
   "metadata": {
    "execution": {
     "iopub.execute_input": "2025-08-05T16:07:23.048278Z",
     "iopub.status.busy": "2025-08-05T16:07:23.047620Z",
     "iopub.status.idle": "2025-08-05T16:07:23.054153Z",
     "shell.execute_reply": "2025-08-05T16:07:23.052849Z"
    },
    "papermill": {
     "duration": 0.039692,
     "end_time": "2025-08-05T16:07:23.059921",
     "exception": false,
     "start_time": "2025-08-05T16:07:23.020229",
     "status": "completed"
    },
    "tags": []
   },
   "outputs": [],
   "source": [
    "from fairness_multiverse.universe import predict_w_threshold"
   ]
  },
  {
   "cell_type": "code",
   "execution_count": 34,
   "id": "a7cf2e16",
   "metadata": {
    "execution": {
     "iopub.execute_input": "2025-08-05T16:07:23.105788Z",
     "iopub.status.busy": "2025-08-05T16:07:23.105308Z",
     "iopub.status.idle": "2025-08-05T16:07:23.299070Z",
     "shell.execute_reply": "2025-08-05T16:07:23.298365Z"
    },
    "papermill": {
     "duration": 0.216609,
     "end_time": "2025-08-05T16:07:23.300294",
     "exception": false,
     "start_time": "2025-08-05T16:07:23.083685",
     "status": "completed"
    },
    "tags": []
   },
   "outputs": [
    {
     "data": {
      "text/plain": [
       "0.8156281351019953"
      ]
     },
     "execution_count": 34,
     "metadata": {},
     "output_type": "execute_result"
    }
   ],
   "source": [
    "probs_test = model.predict_proba(X_test)\n",
    "\n",
    "'''\n",
    "Below code returns a boolean array (or binary 0/1 array depending on how it’s used) where each element \n",
    "is True if the probability of class 1 is greater than or equal to the threshold, and False otherwise.\n",
    "'''\n",
    "y_pred_default = predict_w_threshold(probs_test, 0.5)\n",
    "\n",
    "from sklearn.metrics import accuracy_score\n",
    "\n",
    "# Naive prediction\n",
    "accuracy_score(y_true = y_true, y_pred = y_pred_default)"
   ]
  },
  {
   "cell_type": "code",
   "execution_count": 35,
   "id": "081964c3",
   "metadata": {
    "execution": {
     "iopub.execute_input": "2025-08-05T16:07:23.323608Z",
     "iopub.status.busy": "2025-08-05T16:07:23.322975Z",
     "iopub.status.idle": "2025-08-05T16:07:23.502105Z",
     "shell.execute_reply": "2025-08-05T16:07:23.501350Z"
    },
    "papermill": {
     "duration": 0.192367,
     "end_time": "2025-08-05T16:07:23.503390",
     "exception": false,
     "start_time": "2025-08-05T16:07:23.311023",
     "status": "completed"
    },
    "tags": []
   },
   "outputs": [
    {
     "data": {
      "text/plain": [
       "array([0, 0, 0, ..., 0, 0, 0])"
      ]
     },
     "execution_count": 35,
     "metadata": {},
     "output_type": "execute_result"
    }
   ],
   "source": [
    "model.predict(X_test)"
   ]
  },
  {
   "cell_type": "markdown",
   "id": "56c9705b",
   "metadata": {
    "papermill": {
     "duration": 0.009944,
     "end_time": "2025-08-05T16:07:23.524018",
     "exception": false,
     "start_time": "2025-08-05T16:07:23.514074",
     "status": "completed"
    },
    "tags": []
   },
   "source": [
    "# Conformal Prediction"
   ]
  },
  {
   "cell_type": "code",
   "execution_count": 36,
   "id": "160ec6ff",
   "metadata": {
    "execution": {
     "iopub.execute_input": "2025-08-05T16:07:23.546558Z",
     "iopub.status.busy": "2025-08-05T16:07:23.546073Z",
     "iopub.status.idle": "2025-08-05T16:07:23.551259Z",
     "shell.execute_reply": "2025-08-05T16:07:23.550159Z"
    },
    "papermill": {
     "duration": 0.018109,
     "end_time": "2025-08-05T16:07:23.553263",
     "exception": false,
     "start_time": "2025-08-05T16:07:23.535154",
     "status": "completed"
    },
    "tags": []
   },
   "outputs": [],
   "source": [
    "# Miscoverage level for conformal prediction (10% allowed error rate => 90% target coverage)\n",
    "alpha = 0.1"
   ]
  },
  {
   "cell_type": "code",
   "execution_count": 37,
   "id": "eadf4555-3dd3-440e-8e35-f82a4ad9f855",
   "metadata": {
    "execution": {
     "iopub.execute_input": "2025-08-05T16:07:23.594761Z",
     "iopub.status.busy": "2025-08-05T16:07:23.594328Z",
     "iopub.status.idle": "2025-08-05T16:07:23.765675Z",
     "shell.execute_reply": "2025-08-05T16:07:23.764782Z"
    },
    "papermill": {
     "duration": 0.193273,
     "end_time": "2025-08-05T16:07:23.767687",
     "exception": false,
     "start_time": "2025-08-05T16:07:23.574414",
     "status": "completed"
    },
    "tags": []
   },
   "outputs": [],
   "source": [
    "probs_calib = model.predict_proba(X_calib)"
   ]
  },
  {
   "cell_type": "code",
   "execution_count": 38,
   "id": "2ed93547-6d5d-4983-9b36-1ecb300da49a",
   "metadata": {
    "execution": {
     "iopub.execute_input": "2025-08-05T16:07:23.812772Z",
     "iopub.status.busy": "2025-08-05T16:07:23.812101Z",
     "iopub.status.idle": "2025-08-05T16:07:23.818450Z",
     "shell.execute_reply": "2025-08-05T16:07:23.817204Z"
    },
    "papermill": {
     "duration": 0.031209,
     "end_time": "2025-08-05T16:07:23.820736",
     "exception": false,
     "start_time": "2025-08-05T16:07:23.789527",
     "status": "completed"
    },
    "tags": []
   },
   "outputs": [],
   "source": [
    "y_calib = y_calib.values.ravel().astype(int)"
   ]
  },
  {
   "cell_type": "code",
   "execution_count": 39,
   "id": "65d1320d-f588-4b38-9072-62af1ae97f7d",
   "metadata": {
    "execution": {
     "iopub.execute_input": "2025-08-05T16:07:23.867683Z",
     "iopub.status.busy": "2025-08-05T16:07:23.866731Z",
     "iopub.status.idle": "2025-08-05T16:07:23.874952Z",
     "shell.execute_reply": "2025-08-05T16:07:23.873810Z"
    },
    "papermill": {
     "duration": 0.033264,
     "end_time": "2025-08-05T16:07:23.876994",
     "exception": false,
     "start_time": "2025-08-05T16:07:23.843730",
     "status": "completed"
    },
    "tags": []
   },
   "outputs": [],
   "source": [
    "from fairness_multiverse.conformal import compute_nc_scores\n",
    "\n",
    "# Compute nonconformity scores on calibration set (1 - probability of true class)\n",
    "nc_scores = compute_nc_scores(probs_calib, y_calib)"
   ]
  },
  {
   "cell_type": "code",
   "execution_count": 40,
   "id": "df3b8ca3-53b7-43d5-9667-7c85da7aeda2",
   "metadata": {
    "execution": {
     "iopub.execute_input": "2025-08-05T16:07:23.924680Z",
     "iopub.status.busy": "2025-08-05T16:07:23.924019Z",
     "iopub.status.idle": "2025-08-05T16:07:23.931378Z",
     "shell.execute_reply": "2025-08-05T16:07:23.930261Z"
    },
    "papermill": {
     "duration": 0.033257,
     "end_time": "2025-08-05T16:07:23.933407",
     "exception": false,
     "start_time": "2025-08-05T16:07:23.900150",
     "status": "completed"
    },
    "tags": []
   },
   "outputs": [],
   "source": [
    "from fairness_multiverse.conformal import find_threshold\n",
    "\n",
    "# Find conformal threshold q_hat for the given alpha (split conformal method)\n",
    "q_hat = find_threshold(nc_scores, alpha)"
   ]
  },
  {
   "cell_type": "code",
   "execution_count": 41,
   "id": "4d29e6c1-0ef6-4aa4-b8fe-4fe79b0d033a",
   "metadata": {
    "execution": {
     "iopub.execute_input": "2025-08-05T16:07:23.974452Z",
     "iopub.status.busy": "2025-08-05T16:07:23.973410Z",
     "iopub.status.idle": "2025-08-05T16:07:23.982516Z",
     "shell.execute_reply": "2025-08-05T16:07:23.981580Z"
    },
    "papermill": {
     "duration": 0.030252,
     "end_time": "2025-08-05T16:07:23.984101",
     "exception": false,
     "start_time": "2025-08-05T16:07:23.953849",
     "status": "completed"
    },
    "tags": []
   },
   "outputs": [
    {
     "data": {
      "text/plain": [
       "0.8097912404712461"
      ]
     },
     "execution_count": 41,
     "metadata": {},
     "output_type": "execute_result"
    }
   ],
   "source": [
    "q_hat"
   ]
  },
  {
   "cell_type": "code",
   "execution_count": 42,
   "id": "92460794-cdac-4be2-ba28-f28c0515a6fb",
   "metadata": {
    "execution": {
     "iopub.execute_input": "2025-08-05T16:07:24.006588Z",
     "iopub.status.busy": "2025-08-05T16:07:24.006224Z",
     "iopub.status.idle": "2025-08-05T16:07:24.565044Z",
     "shell.execute_reply": "2025-08-05T16:07:24.564268Z"
    },
    "papermill": {
     "duration": 0.571085,
     "end_time": "2025-08-05T16:07:24.566510",
     "exception": false,
     "start_time": "2025-08-05T16:07:23.995425",
     "status": "completed"
    },
    "tags": []
   },
   "outputs": [],
   "source": [
    "from fairness_multiverse.conformal import predict_conformal_sets\n",
    "\n",
    "# Generate prediction sets for each test example\n",
    "pred_sets = predict_conformal_sets(model, X_test, q_hat)"
   ]
  },
  {
   "cell_type": "code",
   "execution_count": 43,
   "id": "d90c9a65-e6db-4f5d-80cd-e68fb7e46829",
   "metadata": {
    "execution": {
     "iopub.execute_input": "2025-08-05T16:07:24.588764Z",
     "iopub.status.busy": "2025-08-05T16:07:24.588453Z",
     "iopub.status.idle": "2025-08-05T16:07:24.593086Z",
     "shell.execute_reply": "2025-08-05T16:07:24.592106Z"
    },
    "papermill": {
     "duration": 0.017307,
     "end_time": "2025-08-05T16:07:24.594582",
     "exception": false,
     "start_time": "2025-08-05T16:07:24.577275",
     "status": "completed"
    },
    "tags": []
   },
   "outputs": [],
   "source": [
    "y_true = y_true.squeeze()"
   ]
  },
  {
   "cell_type": "code",
   "execution_count": 44,
   "id": "3a58a54a-1e68-46b9-927a-df01f18aebc8",
   "metadata": {
    "execution": {
     "iopub.execute_input": "2025-08-05T16:07:24.618246Z",
     "iopub.status.busy": "2025-08-05T16:07:24.617704Z",
     "iopub.status.idle": "2025-08-05T16:07:25.084889Z",
     "shell.execute_reply": "2025-08-05T16:07:25.084150Z"
    },
    "papermill": {
     "duration": 0.479665,
     "end_time": "2025-08-05T16:07:25.086331",
     "exception": false,
     "start_time": "2025-08-05T16:07:24.606666",
     "status": "completed"
    },
    "tags": []
   },
   "outputs": [],
   "source": [
    "from fairness_multiverse.conformal import evaluate_sets\n",
    "\n",
    "# Evaluate coverage and average set size on test data\n",
    "metrics = evaluate_sets(pred_sets, y_true)"
   ]
  },
  {
   "cell_type": "markdown",
   "id": "2b569c12-9aaa-4c88-98c9-bbcd0cf3ebb8",
   "metadata": {
    "papermill": {
     "duration": 0.010521,
     "end_time": "2025-08-05T16:07:25.108094",
     "exception": false,
     "start_time": "2025-08-05T16:07:25.097573",
     "status": "completed"
    },
    "tags": []
   },
   "source": [
    "# CP Metrics"
   ]
  },
  {
   "cell_type": "code",
   "execution_count": 45,
   "id": "5ce0a5cb-201f-45a0-ade5-94c7f0bd6095",
   "metadata": {
    "execution": {
     "iopub.execute_input": "2025-08-05T16:07:25.130618Z",
     "iopub.status.busy": "2025-08-05T16:07:25.130113Z",
     "iopub.status.idle": "2025-08-05T16:07:25.136719Z",
     "shell.execute_reply": "2025-08-05T16:07:25.135859Z"
    },
    "papermill": {
     "duration": 0.019809,
     "end_time": "2025-08-05T16:07:25.138347",
     "exception": false,
     "start_time": "2025-08-05T16:07:25.118538",
     "status": "completed"
    },
    "tags": []
   },
   "outputs": [
    {
     "data": {
      "text/plain": [
       "{'coverage': 0.908761565042916, 'avg_size': 1.2456470850518337}"
      ]
     },
     "execution_count": 45,
     "metadata": {},
     "output_type": "execute_result"
    }
   ],
   "source": [
    "metrics"
   ]
  },
  {
   "cell_type": "code",
   "execution_count": 46,
   "id": "9b9a838d-31c9-430b-ae14-12baee460d17",
   "metadata": {
    "execution": {
     "iopub.execute_input": "2025-08-05T16:07:25.163073Z",
     "iopub.status.busy": "2025-08-05T16:07:25.162725Z",
     "iopub.status.idle": "2025-08-05T16:07:25.168231Z",
     "shell.execute_reply": "2025-08-05T16:07:25.167393Z"
    },
    "papermill": {
     "duration": 0.018491,
     "end_time": "2025-08-05T16:07:25.169768",
     "exception": false,
     "start_time": "2025-08-05T16:07:25.151277",
     "status": "completed"
    },
    "tags": []
   },
   "outputs": [],
   "source": [
    "example_universe = universe.copy()\n",
    "universe_training_year = example_universe.get(\"training_year\")\n",
    "universe_training_size = example_universe.get(\"training_size\")\n",
    "universe_scale = example_universe.get(\"scale\")\n",
    "universe_model = example_universe.get(\"model\")\n",
    "universe_exclude_features = example_universe.get(\"exclude_features\")\n",
    "universe_exclude_subgroups = example_universe.get(\"exclude_subgroups\")"
   ]
  },
  {
   "cell_type": "code",
   "execution_count": 47,
   "id": "f4b6a8ac-9dc0-4245-8a91-5b3b5999c4f9",
   "metadata": {
    "execution": {
     "iopub.execute_input": "2025-08-05T16:07:25.193459Z",
     "iopub.status.busy": "2025-08-05T16:07:25.192976Z",
     "iopub.status.idle": "2025-08-05T16:07:25.199716Z",
     "shell.execute_reply": "2025-08-05T16:07:25.198909Z"
    },
    "papermill": {
     "duration": 0.019595,
     "end_time": "2025-08-05T16:07:25.201178",
     "exception": false,
     "start_time": "2025-08-05T16:07:25.181583",
     "status": "completed"
    },
    "tags": []
   },
   "outputs": [],
   "source": [
    "cp_metrics_dict = {\n",
    "    \"universe_id\": [universe_id],\n",
    "    \"universe_training_year\": [universe_training_year],\n",
    "    \"universe_training_size\": [universe_training_size],\n",
    "    \"universe_scale\": [universe_scale],\n",
    "    \"universe_model\": [universe_model],\n",
    "    \"universe_exclude_features\": [universe_exclude_features],\n",
    "    \"universe_exclude_subgroups\": [universe_exclude_subgroups],\n",
    "    \"q_hat\": [q_hat],\n",
    "    \"coverage\": [metrics[\"coverage\"]],\n",
    "    \"avg_size\": [metrics[\"avg_size\"]],\n",
    "}"
   ]
  },
  {
   "cell_type": "code",
   "execution_count": 48,
   "id": "908acbb1-0371-4915-85ca-3fa520d2efe2",
   "metadata": {
    "execution": {
     "iopub.execute_input": "2025-08-05T16:07:25.225183Z",
     "iopub.status.busy": "2025-08-05T16:07:25.224562Z",
     "iopub.status.idle": "2025-08-05T16:07:25.231561Z",
     "shell.execute_reply": "2025-08-05T16:07:25.230306Z"
    },
    "papermill": {
     "duration": 0.020056,
     "end_time": "2025-08-05T16:07:25.233269",
     "exception": false,
     "start_time": "2025-08-05T16:07:25.213213",
     "status": "completed"
    },
    "tags": []
   },
   "outputs": [
    {
     "data": {
      "text/plain": [
       "{'universe_id': ['5b1db7df375210c31947652f9cf20c6d'],\n",
       " 'universe_training_year': ['2014'],\n",
       " 'universe_training_size': ['1k'],\n",
       " 'universe_scale': ['scale'],\n",
       " 'universe_model': ['elasticnet'],\n",
       " 'universe_exclude_features': ['none'],\n",
       " 'universe_exclude_subgroups': ['drop-non-german'],\n",
       " 'q_hat': [0.8097912404712461],\n",
       " 'coverage': [0.908761565042916],\n",
       " 'avg_size': [1.2456470850518337]}"
      ]
     },
     "execution_count": 48,
     "metadata": {},
     "output_type": "execute_result"
    }
   ],
   "source": [
    "cp_metrics_dict"
   ]
  },
  {
   "cell_type": "code",
   "execution_count": 49,
   "id": "33007efc-14e9-4ec6-97ac-56a455c82265",
   "metadata": {
    "execution": {
     "iopub.execute_input": "2025-08-05T16:07:25.276431Z",
     "iopub.status.busy": "2025-08-05T16:07:25.275754Z",
     "iopub.status.idle": "2025-08-05T16:07:25.282700Z",
     "shell.execute_reply": "2025-08-05T16:07:25.281496Z"
    },
    "papermill": {
     "duration": 0.029045,
     "end_time": "2025-08-05T16:07:25.284624",
     "exception": false,
     "start_time": "2025-08-05T16:07:25.255579",
     "status": "completed"
    },
    "tags": []
   },
   "outputs": [],
   "source": [
    "cp_metrics_df = pd.DataFrame(cp_metrics_dict)"
   ]
  },
  {
   "cell_type": "code",
   "execution_count": 50,
   "id": "db12611b-57b2-4910-b9d0-355adfd6e7bf",
   "metadata": {
    "execution": {
     "iopub.execute_input": "2025-08-05T16:07:25.331214Z",
     "iopub.status.busy": "2025-08-05T16:07:25.330216Z",
     "iopub.status.idle": "2025-08-05T16:07:25.348469Z",
     "shell.execute_reply": "2025-08-05T16:07:25.347605Z"
    },
    "papermill": {
     "duration": 0.042415,
     "end_time": "2025-08-05T16:07:25.350135",
     "exception": false,
     "start_time": "2025-08-05T16:07:25.307720",
     "status": "completed"
    },
    "tags": []
   },
   "outputs": [
    {
     "data": {
      "text/html": [
       "<div>\n",
       "<style scoped>\n",
       "    .dataframe tbody tr th:only-of-type {\n",
       "        vertical-align: middle;\n",
       "    }\n",
       "\n",
       "    .dataframe tbody tr th {\n",
       "        vertical-align: top;\n",
       "    }\n",
       "\n",
       "    .dataframe thead th {\n",
       "        text-align: right;\n",
       "    }\n",
       "</style>\n",
       "<table border=\"1\" class=\"dataframe\">\n",
       "  <thead>\n",
       "    <tr style=\"text-align: right;\">\n",
       "      <th></th>\n",
       "      <th>universe_id</th>\n",
       "      <th>universe_training_year</th>\n",
       "      <th>universe_training_size</th>\n",
       "      <th>universe_scale</th>\n",
       "      <th>universe_model</th>\n",
       "      <th>universe_exclude_features</th>\n",
       "      <th>universe_exclude_subgroups</th>\n",
       "      <th>q_hat</th>\n",
       "      <th>coverage</th>\n",
       "      <th>avg_size</th>\n",
       "    </tr>\n",
       "  </thead>\n",
       "  <tbody>\n",
       "    <tr>\n",
       "      <th>0</th>\n",
       "      <td>5b1db7df375210c31947652f9cf20c6d</td>\n",
       "      <td>2014</td>\n",
       "      <td>1k</td>\n",
       "      <td>scale</td>\n",
       "      <td>elasticnet</td>\n",
       "      <td>none</td>\n",
       "      <td>drop-non-german</td>\n",
       "      <td>0.809791</td>\n",
       "      <td>0.908762</td>\n",
       "      <td>1.245647</td>\n",
       "    </tr>\n",
       "  </tbody>\n",
       "</table>\n",
       "</div>"
      ],
      "text/plain": [
       "                        universe_id universe_training_year  \\\n",
       "0  5b1db7df375210c31947652f9cf20c6d                   2014   \n",
       "\n",
       "  universe_training_size universe_scale universe_model  \\\n",
       "0                     1k          scale     elasticnet   \n",
       "\n",
       "  universe_exclude_features universe_exclude_subgroups     q_hat  coverage  \\\n",
       "0                      none            drop-non-german  0.809791  0.908762   \n",
       "\n",
       "   avg_size  \n",
       "0  1.245647  "
      ]
     },
     "execution_count": 50,
     "metadata": {},
     "output_type": "execute_result"
    }
   ],
   "source": [
    "cp_metrics_df"
   ]
  },
  {
   "cell_type": "code",
   "execution_count": 51,
   "id": "b7fbde55-a0a1-47e4-9af6-fe4a17fa8c61",
   "metadata": {
    "execution": {
     "iopub.execute_input": "2025-08-05T16:07:25.394245Z",
     "iopub.status.busy": "2025-08-05T16:07:25.393179Z",
     "iopub.status.idle": "2025-08-05T16:07:25.398692Z",
     "shell.execute_reply": "2025-08-05T16:07:25.397928Z"
    },
    "papermill": {
     "duration": 0.025703,
     "end_time": "2025-08-05T16:07:25.400124",
     "exception": false,
     "start_time": "2025-08-05T16:07:25.374421",
     "status": "completed"
    },
    "tags": []
   },
   "outputs": [],
   "source": [
    "# Conditional Coverage & looking at subgroups"
   ]
  },
  {
   "cell_type": "code",
   "execution_count": 52,
   "id": "027ae886-68dd-4141-96c7-805a5450e1ef",
   "metadata": {
    "execution": {
     "iopub.execute_input": "2025-08-05T16:07:25.426998Z",
     "iopub.status.busy": "2025-08-05T16:07:25.426345Z",
     "iopub.status.idle": "2025-08-05T16:07:25.688162Z",
     "shell.execute_reply": "2025-08-05T16:07:25.687277Z"
    },
    "papermill": {
     "duration": 0.275783,
     "end_time": "2025-08-05T16:07:25.689927",
     "exception": false,
     "start_time": "2025-08-05T16:07:25.414144",
     "status": "completed"
    },
    "tags": []
   },
   "outputs": [],
   "source": [
    "from fairness_multiverse.conformal import build_cp_groups\n",
    "\n",
    "cp_groups_df = build_cp_groups(pred_sets, y_true, X_test.index, org_test)\n",
    "#needs universe_id and setting"
   ]
  },
  {
   "cell_type": "code",
   "execution_count": 53,
   "id": "6cbdab96-b2b2-45af-ad54-d0516db2e28d",
   "metadata": {
    "execution": {
     "iopub.execute_input": "2025-08-05T16:07:25.736554Z",
     "iopub.status.busy": "2025-08-05T16:07:25.735724Z",
     "iopub.status.idle": "2025-08-05T16:07:27.311240Z",
     "shell.execute_reply": "2025-08-05T16:07:27.310209Z"
    },
    "papermill": {
     "duration": 1.601689,
     "end_time": "2025-08-05T16:07:27.313394",
     "exception": false,
     "start_time": "2025-08-05T16:07:25.711705",
     "status": "completed"
    },
    "tags": []
   },
   "outputs": [],
   "source": [
    "# Define covered = 1 if true_label is in the predicted set\n",
    "cp_groups_df['covered'] = cp_groups_df.apply(\n",
    "    lambda r: int(r['true_label'] in r['pred_set']),\n",
    "    axis=1\n",
    ")"
   ]
  },
  {
   "cell_type": "code",
   "execution_count": 54,
   "id": "338ff529-1a6b-4b87-a931-8e4788d52aad",
   "metadata": {
    "execution": {
     "iopub.execute_input": "2025-08-05T16:07:27.365554Z",
     "iopub.status.busy": "2025-08-05T16:07:27.364617Z",
     "iopub.status.idle": "2025-08-05T16:07:27.370798Z",
     "shell.execute_reply": "2025-08-05T16:07:27.369582Z"
    },
    "papermill": {
     "duration": 0.035078,
     "end_time": "2025-08-05T16:07:27.373324",
     "exception": false,
     "start_time": "2025-08-05T16:07:27.338246",
     "status": "completed"
    },
    "tags": []
   },
   "outputs": [],
   "source": [
    "#cp_groups_df"
   ]
  },
  {
   "cell_type": "code",
   "execution_count": 55,
   "id": "90032e27-66df-4540-9169-4e89cfbaa758",
   "metadata": {
    "execution": {
     "iopub.execute_input": "2025-08-05T16:07:27.445786Z",
     "iopub.status.busy": "2025-08-05T16:07:27.444938Z",
     "iopub.status.idle": "2025-08-05T16:07:27.458774Z",
     "shell.execute_reply": "2025-08-05T16:07:27.457364Z"
    },
    "papermill": {
     "duration": 0.052745,
     "end_time": "2025-08-05T16:07:27.461297",
     "exception": false,
     "start_time": "2025-08-05T16:07:27.408552",
     "status": "completed"
    },
    "tags": []
   },
   "outputs": [],
   "source": [
    "subgroups = ['frau1','nongerman','nongerman_male','nongerman_female']\n",
    "\n",
    "# Conditional coverage for subgroup==1\n",
    "cond_coverage = {\n",
    "    g: cp_groups_df.loc[cp_groups_df[g]==1, 'covered'].mean()\n",
    "    for g in subgroups\n",
    "}"
   ]
  },
  {
   "cell_type": "code",
   "execution_count": 56,
   "id": "1e348fb1-b9c3-45bc-ba23-f016827a7e0d",
   "metadata": {
    "execution": {
     "iopub.execute_input": "2025-08-05T16:07:27.533328Z",
     "iopub.status.busy": "2025-08-05T16:07:27.532612Z",
     "iopub.status.idle": "2025-08-05T16:07:27.541579Z",
     "shell.execute_reply": "2025-08-05T16:07:27.540109Z"
    },
    "papermill": {
     "duration": 0.048053,
     "end_time": "2025-08-05T16:07:27.544264",
     "exception": false,
     "start_time": "2025-08-05T16:07:27.496211",
     "status": "completed"
    },
    "tags": []
   },
   "outputs": [
    {
     "data": {
      "text/plain": [
       "{'frau1': 0.905593745787842,\n",
       " 'nongerman': 0.9060798293381238,\n",
       " 'nongerman_male': 0.924614968927317,\n",
       " 'nongerman_female': 0.8754098360655738}"
      ]
     },
     "execution_count": 56,
     "metadata": {},
     "output_type": "execute_result"
    }
   ],
   "source": [
    "cond_coverage"
   ]
  },
  {
   "cell_type": "code",
   "execution_count": 57,
   "id": "f5093324-c3dd-4d63-bc4c-8d945e5c8bbb",
   "metadata": {
    "execution": {
     "iopub.execute_input": "2025-08-05T16:07:27.617407Z",
     "iopub.status.busy": "2025-08-05T16:07:27.616630Z",
     "iopub.status.idle": "2025-08-05T16:07:27.626697Z",
     "shell.execute_reply": "2025-08-05T16:07:27.625288Z"
    },
    "papermill": {
     "duration": 0.048884,
     "end_time": "2025-08-05T16:07:27.628766",
     "exception": false,
     "start_time": "2025-08-05T16:07:27.579882",
     "status": "completed"
    },
    "tags": []
   },
   "outputs": [],
   "source": [
    "for subgroup, cov in cond_coverage.items():\n",
    "    cp_metrics_df[f\"cov_{subgroup}\"] = cov"
   ]
  },
  {
   "cell_type": "code",
   "execution_count": 58,
   "id": "6e872e10-dbe5-49e8-b554-5030c98ff75d",
   "metadata": {
    "execution": {
     "iopub.execute_input": "2025-08-05T16:07:27.684124Z",
     "iopub.status.busy": "2025-08-05T16:07:27.683393Z",
     "iopub.status.idle": "2025-08-05T16:07:27.710605Z",
     "shell.execute_reply": "2025-08-05T16:07:27.709268Z"
    },
    "papermill": {
     "duration": 0.057199,
     "end_time": "2025-08-05T16:07:27.712763",
     "exception": false,
     "start_time": "2025-08-05T16:07:27.655564",
     "status": "completed"
    },
    "tags": []
   },
   "outputs": [
    {
     "data": {
      "text/html": [
       "<div>\n",
       "<style scoped>\n",
       "    .dataframe tbody tr th:only-of-type {\n",
       "        vertical-align: middle;\n",
       "    }\n",
       "\n",
       "    .dataframe tbody tr th {\n",
       "        vertical-align: top;\n",
       "    }\n",
       "\n",
       "    .dataframe thead th {\n",
       "        text-align: right;\n",
       "    }\n",
       "</style>\n",
       "<table border=\"1\" class=\"dataframe\">\n",
       "  <thead>\n",
       "    <tr style=\"text-align: right;\">\n",
       "      <th></th>\n",
       "      <th>universe_id</th>\n",
       "      <th>universe_training_year</th>\n",
       "      <th>universe_training_size</th>\n",
       "      <th>universe_scale</th>\n",
       "      <th>universe_model</th>\n",
       "      <th>universe_exclude_features</th>\n",
       "      <th>universe_exclude_subgroups</th>\n",
       "      <th>q_hat</th>\n",
       "      <th>coverage</th>\n",
       "      <th>avg_size</th>\n",
       "      <th>cov_frau1</th>\n",
       "      <th>cov_nongerman</th>\n",
       "      <th>cov_nongerman_male</th>\n",
       "      <th>cov_nongerman_female</th>\n",
       "    </tr>\n",
       "  </thead>\n",
       "  <tbody>\n",
       "    <tr>\n",
       "      <th>0</th>\n",
       "      <td>5b1db7df375210c31947652f9cf20c6d</td>\n",
       "      <td>2014</td>\n",
       "      <td>1k</td>\n",
       "      <td>scale</td>\n",
       "      <td>elasticnet</td>\n",
       "      <td>none</td>\n",
       "      <td>drop-non-german</td>\n",
       "      <td>0.809791</td>\n",
       "      <td>0.908762</td>\n",
       "      <td>1.245647</td>\n",
       "      <td>0.905594</td>\n",
       "      <td>0.90608</td>\n",
       "      <td>0.924615</td>\n",
       "      <td>0.87541</td>\n",
       "    </tr>\n",
       "  </tbody>\n",
       "</table>\n",
       "</div>"
      ],
      "text/plain": [
       "                        universe_id universe_training_year  \\\n",
       "0  5b1db7df375210c31947652f9cf20c6d                   2014   \n",
       "\n",
       "  universe_training_size universe_scale universe_model  \\\n",
       "0                     1k          scale     elasticnet   \n",
       "\n",
       "  universe_exclude_features universe_exclude_subgroups     q_hat  coverage  \\\n",
       "0                      none            drop-non-german  0.809791  0.908762   \n",
       "\n",
       "   avg_size  cov_frau1  cov_nongerman  cov_nongerman_male  \\\n",
       "0  1.245647   0.905594        0.90608            0.924615   \n",
       "\n",
       "   cov_nongerman_female  \n",
       "0               0.87541  "
      ]
     },
     "execution_count": 58,
     "metadata": {},
     "output_type": "execute_result"
    }
   ],
   "source": [
    "cp_metrics_df"
   ]
  },
  {
   "cell_type": "markdown",
   "id": "33774451",
   "metadata": {
    "papermill": {
     "duration": 0.026554,
     "end_time": "2025-08-05T16:07:27.768924",
     "exception": false,
     "start_time": "2025-08-05T16:07:27.742370",
     "status": "completed"
    },
    "tags": []
   },
   "source": [
    "# (Fairness) Metrics"
   ]
  },
  {
   "cell_type": "code",
   "execution_count": 59,
   "id": "debc5d62",
   "metadata": {
    "execution": {
     "iopub.execute_input": "2025-08-05T16:07:27.819305Z",
     "iopub.status.busy": "2025-08-05T16:07:27.818538Z",
     "iopub.status.idle": "2025-08-05T16:07:27.843183Z",
     "shell.execute_reply": "2025-08-05T16:07:27.842018Z"
    },
    "papermill": {
     "duration": 0.050101,
     "end_time": "2025-08-05T16:07:27.845270",
     "exception": false,
     "start_time": "2025-08-05T16:07:27.795169",
     "status": "completed"
    },
    "tags": []
   },
   "outputs": [],
   "source": [
    "# do I need to include maxdeutsch1.missing?\n",
    "\n",
    "import numpy as np\n",
    "\n",
    "colname_to_bin = \"maxdeutsch1\"\n",
    "majority_value = org_train[colname_to_bin].mode()[0]\n",
    "\n",
    "org_test[\"majmin\"] = np.where(org_test[colname_to_bin] == majority_value, \"majority\", \"minority\")"
   ]
  },
  {
   "cell_type": "code",
   "execution_count": 60,
   "id": "06a50de5",
   "metadata": {
    "execution": {
     "iopub.execute_input": "2025-08-05T16:07:27.874695Z",
     "iopub.status.busy": "2025-08-05T16:07:27.874335Z",
     "iopub.status.idle": "2025-08-05T16:07:29.966249Z",
     "shell.execute_reply": "2025-08-05T16:07:29.965323Z"
    },
    "papermill": {
     "duration": 2.106617,
     "end_time": "2025-08-05T16:07:29.968184",
     "exception": false,
     "start_time": "2025-08-05T16:07:27.861567",
     "status": "completed"
    },
    "tags": []
   },
   "outputs": [],
   "source": [
    "example_universe = universe.copy()\n",
    "example_universe[\"cutoff\"] = example_universe[\"cutoff\"][0]\n",
    "example_universe[\"eval_fairness_grouping\"] = example_universe[\"eval_fairness_grouping\"][0]\n",
    "fairness_dict, metric_frame = universe_analysis.compute_metrics(\n",
    "    example_universe,\n",
    "    y_pred_prob=probs_test,\n",
    "    y_test=y_true,\n",
    "    org_test=org_test,\n",
    ")"
   ]
  },
  {
   "cell_type": "markdown",
   "id": "f95d4e02",
   "metadata": {
    "papermill": {
     "duration": 0.021572,
     "end_time": "2025-08-05T16:07:30.011864",
     "exception": false,
     "start_time": "2025-08-05T16:07:29.990292",
     "status": "completed"
    },
    "tags": []
   },
   "source": [
    "# Overall"
   ]
  },
  {
   "cell_type": "markdown",
   "id": "bdee4871",
   "metadata": {
    "papermill": {
     "duration": 0.021128,
     "end_time": "2025-08-05T16:07:30.055712",
     "exception": false,
     "start_time": "2025-08-05T16:07:30.034584",
     "status": "completed"
    },
    "tags": []
   },
   "source": [
    "Fairness\n",
    "Main fairness target: Equalized Odds. Seems to be a better fit than equal opportunity, since we're not only interested in Y = 1. Seems to be a better fit than demographic parity, since we also care about accuracy, not just equal distribution of preds.\n",
    "\n",
    "Pick column for computation of fairness metrics\n",
    "\n",
    "Performance\n",
    "Overall performance measures, most interesting in relation to the measures split by group below"
   ]
  },
  {
   "cell_type": "code",
   "execution_count": 61,
   "id": "c4e067c6",
   "metadata": {
    "execution": {
     "iopub.execute_input": "2025-08-05T16:07:30.099324Z",
     "iopub.status.busy": "2025-08-05T16:07:30.098836Z",
     "iopub.status.idle": "2025-08-05T16:07:30.108185Z",
     "shell.execute_reply": "2025-08-05T16:07:30.106930Z"
    },
    "papermill": {
     "duration": 0.033775,
     "end_time": "2025-08-05T16:07:30.110678",
     "exception": false,
     "start_time": "2025-08-05T16:07:30.076903",
     "status": "completed"
    },
    "tags": []
   },
   "outputs": [
    {
     "data": {
      "text/plain": [
       "accuracy                   0.218760\n",
       "balanced accuracy          0.536075\n",
       "f1                         0.240246\n",
       "precision                  0.137245\n",
       "false positive rate        0.890744\n",
       "false negative rate        0.037105\n",
       "selection rate             0.900000\n",
       "count                  89710.000000\n",
       "dtype: float64"
      ]
     },
     "execution_count": 61,
     "metadata": {},
     "output_type": "execute_result"
    }
   ],
   "source": [
    "metric_frame.overall"
   ]
  },
  {
   "cell_type": "markdown",
   "id": "e968fe9d",
   "metadata": {
    "papermill": {
     "duration": 0.022723,
     "end_time": "2025-08-05T16:07:30.158490",
     "exception": false,
     "start_time": "2025-08-05T16:07:30.135767",
     "status": "completed"
    },
    "tags": []
   },
   "source": [
    "By Group"
   ]
  },
  {
   "cell_type": "code",
   "execution_count": 62,
   "id": "ec325bce",
   "metadata": {
    "execution": {
     "iopub.execute_input": "2025-08-05T16:07:30.222915Z",
     "iopub.status.busy": "2025-08-05T16:07:30.222487Z",
     "iopub.status.idle": "2025-08-05T16:07:30.237707Z",
     "shell.execute_reply": "2025-08-05T16:07:30.236625Z"
    },
    "papermill": {
     "duration": 0.042991,
     "end_time": "2025-08-05T16:07:30.239637",
     "exception": false,
     "start_time": "2025-08-05T16:07:30.196646",
     "status": "completed"
    },
    "tags": []
   },
   "outputs": [
    {
     "data": {
      "text/html": [
       "<div>\n",
       "<style scoped>\n",
       "    .dataframe tbody tr th:only-of-type {\n",
       "        vertical-align: middle;\n",
       "    }\n",
       "\n",
       "    .dataframe tbody tr th {\n",
       "        vertical-align: top;\n",
       "    }\n",
       "\n",
       "    .dataframe thead th {\n",
       "        text-align: right;\n",
       "    }\n",
       "</style>\n",
       "<table border=\"1\" class=\"dataframe\">\n",
       "  <thead>\n",
       "    <tr style=\"text-align: right;\">\n",
       "      <th></th>\n",
       "      <th>accuracy</th>\n",
       "      <th>balanced accuracy</th>\n",
       "      <th>f1</th>\n",
       "      <th>precision</th>\n",
       "      <th>false positive rate</th>\n",
       "      <th>false negative rate</th>\n",
       "      <th>selection rate</th>\n",
       "      <th>count</th>\n",
       "    </tr>\n",
       "    <tr>\n",
       "      <th>majmin</th>\n",
       "      <th></th>\n",
       "      <th></th>\n",
       "      <th></th>\n",
       "      <th></th>\n",
       "      <th></th>\n",
       "      <th></th>\n",
       "      <th></th>\n",
       "      <th></th>\n",
       "    </tr>\n",
       "  </thead>\n",
       "  <tbody>\n",
       "    <tr>\n",
       "      <th>majority</th>\n",
       "      <td>0.234610</td>\n",
       "      <td>0.541878</td>\n",
       "      <td>0.248858</td>\n",
       "      <td>0.142969</td>\n",
       "      <td>0.875762</td>\n",
       "      <td>0.040481</td>\n",
       "      <td>0.886830</td>\n",
       "      <td>69170.0</td>\n",
       "    </tr>\n",
       "    <tr>\n",
       "      <th>minority</th>\n",
       "      <td>0.165385</td>\n",
       "      <td>0.517846</td>\n",
       "      <td>0.212359</td>\n",
       "      <td>0.119142</td>\n",
       "      <td>0.940238</td>\n",
       "      <td>0.024071</td>\n",
       "      <td>0.944352</td>\n",
       "      <td>20540.0</td>\n",
       "    </tr>\n",
       "  </tbody>\n",
       "</table>\n",
       "</div>"
      ],
      "text/plain": [
       "          accuracy  balanced accuracy        f1  precision  \\\n",
       "majmin                                                       \n",
       "majority  0.234610           0.541878  0.248858   0.142969   \n",
       "minority  0.165385           0.517846  0.212359   0.119142   \n",
       "\n",
       "          false positive rate  false negative rate  selection rate    count  \n",
       "majmin                                                                       \n",
       "majority             0.875762             0.040481        0.886830  69170.0  \n",
       "minority             0.940238             0.024071        0.944352  20540.0  "
      ]
     },
     "execution_count": 62,
     "metadata": {},
     "output_type": "execute_result"
    }
   ],
   "source": [
    "metric_frame.by_group"
   ]
  },
  {
   "cell_type": "code",
   "execution_count": 63,
   "id": "a9ddbe63",
   "metadata": {
    "execution": {
     "iopub.execute_input": "2025-08-05T16:07:30.289305Z",
     "iopub.status.busy": "2025-08-05T16:07:30.288865Z",
     "iopub.status.idle": "2025-08-05T16:07:32.622700Z",
     "shell.execute_reply": "2025-08-05T16:07:32.621721Z"
    },
    "papermill": {
     "duration": 2.360058,
     "end_time": "2025-08-05T16:07:32.624356",
     "exception": false,
     "start_time": "2025-08-05T16:07:30.264298",
     "status": "completed"
    },
    "tags": []
   },
   "outputs": [
    {
     "data": {
      "text/plain": [
       "array([[<Axes: title={'center': 'accuracy'}, xlabel='majmin'>,\n",
       "        <Axes: title={'center': 'balanced accuracy'}, xlabel='majmin'>,\n",
       "        <Axes: title={'center': 'f1'}, xlabel='majmin'>],\n",
       "       [<Axes: title={'center': 'precision'}, xlabel='majmin'>,\n",
       "        <Axes: title={'center': 'false positive rate'}, xlabel='majmin'>,\n",
       "        <Axes: title={'center': 'false negative rate'}, xlabel='majmin'>],\n",
       "       [<Axes: title={'center': 'selection rate'}, xlabel='majmin'>,\n",
       "        <Axes: title={'center': 'count'}, xlabel='majmin'>,\n",
       "        <Axes: xlabel='majmin'>]], dtype=object)"
      ]
     },
     "execution_count": 63,
     "metadata": {},
     "output_type": "execute_result"
    },
    {
     "data": {
      "image/png": "[encoded data removed]",
      "text/plain": [
       "<Figure size 1200x800 with 9 Axes>"
      ]
     },
     "metadata": {},
     "output_type": "display_data"
    }
   ],
   "source": [
    "# In a graphic\n",
    "metric_frame.by_group.plot.bar(\n",
    "    subplots=True,\n",
    "    layout=[3, 3],\n",
    "    legend=False,\n",
    "    figsize=[12, 8],\n",
    "    title=\"Show all metrics\",\n",
    ")"
   ]
  },
  {
   "cell_type": "markdown",
   "id": "f57a0bac",
   "metadata": {
    "papermill": {
     "duration": 0.022662,
     "end_time": "2025-08-05T16:07:32.670966",
     "exception": false,
     "start_time": "2025-08-05T16:07:32.648304",
     "status": "completed"
    },
    "tags": []
   },
   "source": [
    "# Final Output"
   ]
  },
  {
   "cell_type": "code",
   "execution_count": 64,
   "id": "96d280a3",
   "metadata": {
    "execution": {
     "iopub.execute_input": "2025-08-05T16:07:32.717975Z",
     "iopub.status.busy": "2025-08-05T16:07:32.716898Z",
     "iopub.status.idle": "2025-08-05T16:07:32.725368Z",
     "shell.execute_reply": "2025-08-05T16:07:32.724169Z"
    },
    "papermill": {
     "duration": 0.03389,
     "end_time": "2025-08-05T16:07:32.727320",
     "exception": false,
     "start_time": "2025-08-05T16:07:32.693430",
     "status": "completed"
    },
    "tags": []
   },
   "outputs": [
    {
     "data": {
      "text/plain": [
       "4"
      ]
     },
     "execution_count": 64,
     "metadata": {},
     "output_type": "execute_result"
    }
   ],
   "source": [
    "sub_universes = universe_analysis.generate_sub_universes()\n",
    "len(sub_universes)"
   ]
  },
  {
   "cell_type": "code",
   "execution_count": 65,
   "id": "92adf7ba",
   "metadata": {
    "execution": {
     "iopub.execute_input": "2025-08-05T16:07:32.779046Z",
     "iopub.status.busy": "2025-08-05T16:07:32.778218Z",
     "iopub.status.idle": "2025-08-05T16:07:32.784281Z",
     "shell.execute_reply": "2025-08-05T16:07:32.783328Z"
    },
    "papermill": {
     "duration": 0.031418,
     "end_time": "2025-08-05T16:07:32.786309",
     "exception": false,
     "start_time": "2025-08-05T16:07:32.754891",
     "status": "completed"
    },
    "tags": []
   },
   "outputs": [],
   "source": [
    "def filter_sub_universe_data(sub_universe, org_test):\n",
    "    # Keep all rows — no filtering\n",
    "    keep_rows_mask = np.ones(org_test.shape[0], dtype=bool)\n",
    "\n",
    "    print(f\"[INFO] Keeping all rows: {keep_rows_mask.sum()} rows retained.\")\n",
    "    return keep_rows_mask"
   ]
  },
  {
   "cell_type": "code",
   "execution_count": 66,
   "id": "4a759155",
   "metadata": {
    "execution": {
     "iopub.execute_input": "2025-08-05T16:07:32.840578Z",
     "iopub.status.busy": "2025-08-05T16:07:32.840050Z",
     "iopub.status.idle": "2025-08-05T16:07:41.913934Z",
     "shell.execute_reply": "2025-08-05T16:07:41.912961Z"
    },
    "papermill": {
     "duration": 9.100446,
     "end_time": "2025-08-05T16:07:41.915654",
     "exception": false,
     "start_time": "2025-08-05T16:07:32.815208",
     "status": "completed"
    },
    "tags": []
   },
   "outputs": [
    {
     "name": "stdout",
     "output_type": "stream",
     "text": [
      "Stopping execution_time clock.\n",
      "[INFO] Keeping all rows: 89710 rows retained.\n"
     ]
    },
    {
     "name": "stdout",
     "output_type": "stream",
     "text": [
      "[INFO] Keeping all rows: 89710 rows retained.\n"
     ]
    },
    {
     "name": "stdout",
     "output_type": "stream",
     "text": [
      "[INFO] Keeping all rows: 89710 rows retained.\n"
     ]
    },
    {
     "name": "stdout",
     "output_type": "stream",
     "text": [
      "[INFO] Keeping all rows: 89710 rows retained.\n"
     ]
    },
    {
     "data": {
      "text/html": [
       "<div>\n",
       "<style scoped>\n",
       "    .dataframe tbody tr th:only-of-type {\n",
       "        vertical-align: middle;\n",
       "    }\n",
       "\n",
       "    .dataframe tbody tr th {\n",
       "        vertical-align: top;\n",
       "    }\n",
       "\n",
       "    .dataframe thead th {\n",
       "        text-align: right;\n",
       "    }\n",
       "</style>\n",
       "<table border=\"1\" class=\"dataframe\">\n",
       "  <thead>\n",
       "    <tr style=\"text-align: right;\">\n",
       "      <th></th>\n",
       "      <th>run_no</th>\n",
       "      <th>universe_id</th>\n",
       "      <th>universe_settings</th>\n",
       "      <th>execution_time</th>\n",
       "      <th>test_size_n</th>\n",
       "      <th>test_size_frac</th>\n",
       "      <th>fair_main_equalized_odds_difference</th>\n",
       "      <th>fair_main_equalized_odds_ratio</th>\n",
       "      <th>fair_main_demographic_parity_difference</th>\n",
       "      <th>fair_main_demographic_parity_ratio</th>\n",
       "      <th>...</th>\n",
       "      <th>perf_grp_precision_0</th>\n",
       "      <th>perf_grp_precision_1</th>\n",
       "      <th>perf_grp_false positive rate_0</th>\n",
       "      <th>perf_grp_false positive rate_1</th>\n",
       "      <th>perf_grp_false negative rate_0</th>\n",
       "      <th>perf_grp_false negative rate_1</th>\n",
       "      <th>perf_grp_selection rate_0</th>\n",
       "      <th>perf_grp_selection rate_1</th>\n",
       "      <th>perf_grp_count_0</th>\n",
       "      <th>perf_grp_count_1</th>\n",
       "    </tr>\n",
       "  </thead>\n",
       "  <tbody>\n",
       "    <tr>\n",
       "      <th>0</th>\n",
       "      <td>15</td>\n",
       "      <td>5b1db7df375210c31947652f9cf20c6d</td>\n",
       "      <td>{\"cutoff\": \"quantile_0.1\", \"eval_fairness_grou...</td>\n",
       "      <td>24.441493</td>\n",
       "      <td>89710</td>\n",
       "      <td>1.0</td>\n",
       "      <td>0.064476</td>\n",
       "      <td>0.931426</td>\n",
       "      <td>0.057523</td>\n",
       "      <td>0.939087</td>\n",
       "      <td>...</td>\n",
       "      <td>NaN</td>\n",
       "      <td>NaN</td>\n",
       "      <td>NaN</td>\n",
       "      <td>NaN</td>\n",
       "      <td>NaN</td>\n",
       "      <td>NaN</td>\n",
       "      <td>NaN</td>\n",
       "      <td>NaN</td>\n",
       "      <td>NaN</td>\n",
       "      <td>NaN</td>\n",
       "    </tr>\n",
       "    <tr>\n",
       "      <th>0</th>\n",
       "      <td>15</td>\n",
       "      <td>5b1db7df375210c31947652f9cf20c6d</td>\n",
       "      <td>{\"cutoff\": \"quantile_0.1\", \"eval_fairness_grou...</td>\n",
       "      <td>24.441493</td>\n",
       "      <td>89710</td>\n",
       "      <td>1.0</td>\n",
       "      <td>0.064476</td>\n",
       "      <td>0.931426</td>\n",
       "      <td>0.057523</td>\n",
       "      <td>0.939087</td>\n",
       "      <td>...</td>\n",
       "      <td>0.119142</td>\n",
       "      <td>0.142969</td>\n",
       "      <td>0.940238</td>\n",
       "      <td>0.875762</td>\n",
       "      <td>0.024071</td>\n",
       "      <td>0.040481</td>\n",
       "      <td>0.944352</td>\n",
       "      <td>0.886830</td>\n",
       "      <td>20540.0</td>\n",
       "      <td>69170.0</td>\n",
       "    </tr>\n",
       "    <tr>\n",
       "      <th>0</th>\n",
       "      <td>15</td>\n",
       "      <td>5b1db7df375210c31947652f9cf20c6d</td>\n",
       "      <td>{\"cutoff\": \"quantile_0.25\", \"eval_fairness_gro...</td>\n",
       "      <td>24.441493</td>\n",
       "      <td>89710</td>\n",
       "      <td>1.0</td>\n",
       "      <td>0.060595</td>\n",
       "      <td>0.921889</td>\n",
       "      <td>0.050774</td>\n",
       "      <td>0.935659</td>\n",
       "      <td>...</td>\n",
       "      <td>NaN</td>\n",
       "      <td>NaN</td>\n",
       "      <td>NaN</td>\n",
       "      <td>NaN</td>\n",
       "      <td>NaN</td>\n",
       "      <td>NaN</td>\n",
       "      <td>NaN</td>\n",
       "      <td>NaN</td>\n",
       "      <td>NaN</td>\n",
       "      <td>NaN</td>\n",
       "    </tr>\n",
       "    <tr>\n",
       "      <th>0</th>\n",
       "      <td>15</td>\n",
       "      <td>5b1db7df375210c31947652f9cf20c6d</td>\n",
       "      <td>{\"cutoff\": \"quantile_0.25\", \"eval_fairness_gro...</td>\n",
       "      <td>24.441493</td>\n",
       "      <td>89710</td>\n",
       "      <td>1.0</td>\n",
       "      <td>0.060595</td>\n",
       "      <td>0.921889</td>\n",
       "      <td>0.050774</td>\n",
       "      <td>0.935659</td>\n",
       "      <td>...</td>\n",
       "      <td>0.130298</td>\n",
       "      <td>0.159419</td>\n",
       "      <td>0.775754</td>\n",
       "      <td>0.715159</td>\n",
       "      <td>0.108108</td>\n",
       "      <td>0.109190</td>\n",
       "      <td>0.789143</td>\n",
       "      <td>0.738369</td>\n",
       "      <td>20540.0</td>\n",
       "      <td>69170.0</td>\n",
       "    </tr>\n",
       "  </tbody>\n",
       "</table>\n",
       "<p>4 rows × 50 columns</p>\n",
       "</div>"
      ],
      "text/plain": [
       "  run_no                       universe_id  \\\n",
       "0     15  5b1db7df375210c31947652f9cf20c6d   \n",
       "0     15  5b1db7df375210c31947652f9cf20c6d   \n",
       "0     15  5b1db7df375210c31947652f9cf20c6d   \n",
       "0     15  5b1db7df375210c31947652f9cf20c6d   \n",
       "\n",
       "                                   universe_settings  execution_time  \\\n",
       "0  {\"cutoff\": \"quantile_0.1\", \"eval_fairness_grou...       24.441493   \n",
       "0  {\"cutoff\": \"quantile_0.1\", \"eval_fairness_grou...       24.441493   \n",
       "0  {\"cutoff\": \"quantile_0.25\", \"eval_fairness_gro...       24.441493   \n",
       "0  {\"cutoff\": \"quantile_0.25\", \"eval_fairness_gro...       24.441493   \n",
       "\n",
       "   test_size_n  test_size_frac  fair_main_equalized_odds_difference  \\\n",
       "0        89710             1.0                             0.064476   \n",
       "0        89710             1.0                             0.064476   \n",
       "0        89710             1.0                             0.060595   \n",
       "0        89710             1.0                             0.060595   \n",
       "\n",
       "   fair_main_equalized_odds_ratio  fair_main_demographic_parity_difference  \\\n",
       "0                        0.931426                                 0.057523   \n",
       "0                        0.931426                                 0.057523   \n",
       "0                        0.921889                                 0.050774   \n",
       "0                        0.921889                                 0.050774   \n",
       "\n",
       "   fair_main_demographic_parity_ratio  ...  perf_grp_precision_0  \\\n",
       "0                            0.939087  ...                   NaN   \n",
       "0                            0.939087  ...              0.119142   \n",
       "0                            0.935659  ...                   NaN   \n",
       "0                            0.935659  ...              0.130298   \n",
       "\n",
       "   perf_grp_precision_1  perf_grp_false positive rate_0  \\\n",
       "0                   NaN                             NaN   \n",
       "0              0.142969                        0.940238   \n",
       "0                   NaN                             NaN   \n",
       "0              0.159419                        0.775754   \n",
       "\n",
       "   perf_grp_false positive rate_1  perf_grp_false negative rate_0  \\\n",
       "0                             NaN                             NaN   \n",
       "0                        0.875762                        0.024071   \n",
       "0                             NaN                             NaN   \n",
       "0                        0.715159                        0.108108   \n",
       "\n",
       "   perf_grp_false negative rate_1  perf_grp_selection rate_0  \\\n",
       "0                             NaN                        NaN   \n",
       "0                        0.040481                   0.944352   \n",
       "0                             NaN                        NaN   \n",
       "0                        0.109190                   0.789143   \n",
       "\n",
       "   perf_grp_selection rate_1  perf_grp_count_0  perf_grp_count_1  \n",
       "0                        NaN               NaN               NaN  \n",
       "0                   0.886830           20540.0           69170.0  \n",
       "0                        NaN               NaN               NaN  \n",
       "0                   0.738369           20540.0           69170.0  \n",
       "\n",
       "[4 rows x 50 columns]"
      ]
     },
     "execution_count": 66,
     "metadata": {},
     "output_type": "execute_result"
    }
   ],
   "source": [
    "final_output = universe_analysis.generate_final_output(\n",
    "    y_pred_prob=probs_test,\n",
    "    y_test=y_true,\n",
    "    org_test=org_test,\n",
    "    filter_data=filter_sub_universe_data,\n",
    "    cp_metrics_df=cp_metrics_df,\n",
    "    save=True,\n",
    ")\n",
    "final_output"
   ]
  }
 ],
 "metadata": {
  "celltoolbar": "Tags",
  "kernelspec": {
   "display_name": "Python (CMA Fairness)",
   "language": "python",
   "name": "cma_fair_env"
  },
  "language_info": {
   "codemirror_mode": {
    "name": "ipython",
    "version": 3
   },
   "file_extension": ".py",
   "mimetype": "text/x-python",
   "name": "python",
   "nbconvert_exporter": "python",
   "pygments_lexer": "ipython3",
   "version": "3.10.12"
  },
  "papermill": {
   "default_parameters": {},
   "duration": 37.583337,
   "end_time": "2025-08-05T16:07:42.767043",
   "environment_variables": {},
   "exception": null,
   "input_path": "universe_analysis.ipynb",
   "output_path": "output/runs/15/notebooks/m_15-5b1db7df375210c31947652f9cf20c6d.ipynb",
   "parameters": {
    "output_dir": "output",
    "run_no": "15",
    "seed": "2023",
    "universe": "{\"cutoff\": [\"quantile_0.1\", \"quantile_0.25\"], \"eval_fairness_grouping\": [\"majority-minority\", \"nationality-all\"], \"exclude_features\": \"none\", \"exclude_subgroups\": \"drop-non-german\", \"model\": \"elasticnet\", \"scale\": \"scale\", \"training_size\": \"1k\", \"training_year\": \"2014\"}",
    "universe_id": "5b1db7df375210c31947652f9cf20c6d"
   },
   "start_time": "2025-08-05T16:07:05.183706",
   "version": "2.6.0"
  }
 },
 "nbformat": 4,
 "nbformat_minor": 5
}