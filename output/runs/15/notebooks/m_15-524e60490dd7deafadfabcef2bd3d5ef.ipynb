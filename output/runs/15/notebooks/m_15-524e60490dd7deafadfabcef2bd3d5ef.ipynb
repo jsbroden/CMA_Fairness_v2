{
 "cells": [
  {
   "cell_type": "code",
   "execution_count": 1,
   "id": "f159f837-637b-42ba-96b5-ec9a68c44524",
   "metadata": {
    "execution": {
     "iopub.execute_input": "2025-08-05T16:10:16.804410Z",
     "iopub.status.busy": "2025-08-05T16:10:16.803665Z",
     "iopub.status.idle": "2025-08-05T16:10:16.817489Z",
     "shell.execute_reply": "2025-08-05T16:10:16.816434Z"
    },
    "papermill": {
     "duration": 0.035046,
     "end_time": "2025-08-05T16:10:16.819190",
     "exception": false,
     "start_time": "2025-08-05T16:10:16.784144",
     "status": "completed"
    },
    "tags": []
   },
   "outputs": [
    {
     "name": "stdout",
     "output_type": "stream",
     "text": [
      "/dss/dsshome1/0C/ra93lal2/cma/CMA_Fairness_v2\n"
     ]
    },
    {
     "name": "stderr",
     "output_type": "stream",
     "text": [
      "/dss/dsshome1/0C/ra93lal2/.local/share/virtualenvs/CMA_Fairness_v2-3j10GkSs/lib/python3.10/site-packages/IPython/core/magics/osm.py:393: UserWarning: This is now an optional IPython functionality, using bookmarks requires you to install the `pickleshare` library.\n",
      "  bkms = self.shell.db.get('bookmarks', {})\n",
      "/dss/dsshome1/0C/ra93lal2/.local/share/virtualenvs/CMA_Fairness_v2-3j10GkSs/lib/python3.10/site-packages/IPython/core/magics/osm.py:417: UserWarning: This is now an optional IPython functionality, setting dhist requires you to install the `pickleshare` library.\n",
      "  self.shell.db['dhist'] = compress_dhist(dhist)[-100:]\n"
     ]
    }
   ],
   "source": [
    "%cd ~/cma/CMA_Fairness_v2"
   ]
  },
  {
   "cell_type": "markdown",
   "id": "de2603b9",
   "metadata": {
    "papermill": {
     "duration": 0.017334,
     "end_time": "2025-08-05T16:10:16.854240",
     "exception": false,
     "start_time": "2025-08-05T16:10:16.836906",
     "status": "completed"
    },
    "tags": []
   },
   "source": [
    "The following cell holds the definition of our parameters, these values can be overriden by rendering the with e.g. the following command:\n",
    "\n",
    "papermill -p alpha 0.2 -p ratio 0.3 universe_analysis.ipynb output/test_run.ipynb"
   ]
  },
  {
   "cell_type": "code",
   "execution_count": 2,
   "id": "a80968a0-40bb-4fa9-85ef-2d5eefb01975",
   "metadata": {
    "execution": {
     "iopub.execute_input": "2025-08-05T16:10:16.887557Z",
     "iopub.status.busy": "2025-08-05T16:10:16.887075Z",
     "iopub.status.idle": "2025-08-05T16:10:16.892954Z",
     "shell.execute_reply": "2025-08-05T16:10:16.891902Z"
    },
    "papermill": {
     "duration": 0.024207,
     "end_time": "2025-08-05T16:10:16.894933",
     "exception": false,
     "start_time": "2025-08-05T16:10:16.870726",
     "status": "completed"
    },
    "tags": []
   },
   "outputs": [
    {
     "name": "stdout",
     "output_type": "stream",
     "text": [
      "Current working directory: /dss/dsshome1/0C/ra93lal2/cma/CMA_Fairness_v2\n"
     ]
    }
   ],
   "source": [
    "import os\n",
    "print(\"Current working directory:\", os.getcwd())"
   ]
  },
  {
   "cell_type": "code",
   "execution_count": 3,
   "id": "2dce4c03",
   "metadata": {
    "execution": {
     "iopub.execute_input": "2025-08-05T16:10:16.930324Z",
     "iopub.status.busy": "2025-08-05T16:10:16.929534Z",
     "iopub.status.idle": "2025-08-05T16:10:16.935619Z",
     "shell.execute_reply": "2025-08-05T16:10:16.934692Z"
    },
    "papermill": {
     "duration": 0.025642,
     "end_time": "2025-08-05T16:10:16.937412",
     "exception": false,
     "start_time": "2025-08-05T16:10:16.911770",
     "status": "completed"
    },
    "tags": [
     "parameters"
    ]
   },
   "outputs": [],
   "source": [
    "run_no = 0\n",
    "universe_id = \"test\"\n",
    "universe = {\n",
    "    \"training_size\": \"25k\", # \"25k\", \"5k\", \"1k\"\n",
    "    \"training_year\": \"2014\", # \"2014\", \"2012_14\", \"2010_14\"\n",
    "    \"scale\": \"scale\", # \"scale\", \"do-not-scale\",\n",
    "    \"model\": \"elasticnet\", # \"logreg\", \"penalized_logreg\", \"rf\", \"gbm\", \"elasticnet\"\n",
    "    \"cutoff\": [\"quantile_0.15\", \"quantile_0.30\"],\n",
    "    \"exclude_features\": \"age\", # \"none\", \"nationality\", \"sex\", \"nationality-sex\", \"age\"\n",
    "    \"exclude_subgroups\": \"keep-all\", # \"keep-all\", \"drop-non-german\"\n",
    "    \"eval_fairness_grouping\": [\"majority-minority\", \"nationality-all\"]\n",
    "}\n",
    "\n",
    "output_dir=\"./output\"\n",
    "seed=0"
   ]
  },
  {
   "cell_type": "code",
   "execution_count": 4,
   "id": "757eaf54",
   "metadata": {
    "execution": {
     "iopub.execute_input": "2025-08-05T16:10:16.972507Z",
     "iopub.status.busy": "2025-08-05T16:10:16.971518Z",
     "iopub.status.idle": "2025-08-05T16:10:16.977020Z",
     "shell.execute_reply": "2025-08-05T16:10:16.976053Z"
    },
    "papermill": {
     "duration": 0.024742,
     "end_time": "2025-08-05T16:10:16.978928",
     "exception": false,
     "start_time": "2025-08-05T16:10:16.954186",
     "status": "completed"
    },
    "tags": [
     "injected-parameters"
    ]
   },
   "outputs": [],
   "source": [
    "# Parameters\n",
    "universe_id = \"524e60490dd7deafadfabcef2bd3d5ef\"\n",
    "run_no = \"15\"\n",
    "universe = \"{\\\"cutoff\\\": [\\\"quantile_0.1\\\", \\\"quantile_0.25\\\"], \\\"eval_fairness_grouping\\\": [\\\"majority-minority\\\", \\\"nationality-all\\\"], \\\"exclude_features\\\": \\\"nationality-sex\\\", \\\"exclude_subgroups\\\": \\\"keep-all\\\", \\\"model\\\": \\\"penalized_logreg\\\", \\\"scale\\\": \\\"do-not-scale\\\", \\\"training_size\\\": \\\"1k\\\", \\\"training_year\\\": \\\"2014\\\"}\"\n",
    "output_dir = \"output\"\n",
    "seed = \"2023\"\n"
   ]
  },
  {
   "cell_type": "code",
   "execution_count": 5,
   "id": "1650acaf",
   "metadata": {
    "execution": {
     "iopub.execute_input": "2025-08-05T16:10:17.012937Z",
     "iopub.status.busy": "2025-08-05T16:10:17.012472Z",
     "iopub.status.idle": "2025-08-05T16:10:17.017406Z",
     "shell.execute_reply": "2025-08-05T16:10:17.016390Z"
    },
    "papermill": {
     "duration": 0.023476,
     "end_time": "2025-08-05T16:10:17.019120",
     "exception": false,
     "start_time": "2025-08-05T16:10:16.995644",
     "status": "completed"
    },
    "tags": []
   },
   "outputs": [],
   "source": [
    "import json\n",
    "if isinstance(universe, str):\n",
    "    universe = json.loads(universe)"
   ]
  },
  {
   "cell_type": "code",
   "execution_count": 6,
   "id": "16620c48",
   "metadata": {
    "execution": {
     "iopub.execute_input": "2025-08-05T16:10:17.053315Z",
     "iopub.status.busy": "2025-08-05T16:10:17.052534Z",
     "iopub.status.idle": "2025-08-05T16:10:17.095614Z",
     "shell.execute_reply": "2025-08-05T16:10:17.094713Z"
    },
    "papermill": {
     "duration": 0.062479,
     "end_time": "2025-08-05T16:10:17.097474",
     "exception": false,
     "start_time": "2025-08-05T16:10:17.034995",
     "status": "completed"
    },
    "tags": []
   },
   "outputs": [],
   "source": [
    "# Auto-reload the custom package\n",
    "%load_ext autoreload\n",
    "%autoreload 1\n",
    "%aimport fairness_multiverse"
   ]
  },
  {
   "cell_type": "code",
   "execution_count": 7,
   "id": "01c5c9f3",
   "metadata": {
    "execution": {
     "iopub.execute_input": "2025-08-05T16:10:17.135203Z",
     "iopub.status.busy": "2025-08-05T16:10:17.134424Z",
     "iopub.status.idle": "2025-08-05T16:10:19.067266Z",
     "shell.execute_reply": "2025-08-05T16:10:19.066044Z"
    },
    "papermill": {
     "duration": 1.953779,
     "end_time": "2025-08-05T16:10:19.069658",
     "exception": false,
     "start_time": "2025-08-05T16:10:17.115879",
     "status": "completed"
    },
    "tags": []
   },
   "outputs": [],
   "source": [
    "from fairness_multiverse.universe import UniverseAnalysis\n",
    "\n",
    "universe_analysis = UniverseAnalysis(\n",
    "    run_no = run_no,\n",
    "    universe_id = universe_id,\n",
    "    universe = universe,\n",
    "    output_dir=output_dir,\n",
    ")"
   ]
  },
  {
   "cell_type": "code",
   "execution_count": 8,
   "id": "106241f5",
   "metadata": {
    "execution": {
     "iopub.execute_input": "2025-08-05T16:10:19.113131Z",
     "iopub.status.busy": "2025-08-05T16:10:19.112579Z",
     "iopub.status.idle": "2025-08-05T16:10:19.119995Z",
     "shell.execute_reply": "2025-08-05T16:10:19.118806Z"
    },
    "papermill": {
     "duration": 0.031301,
     "end_time": "2025-08-05T16:10:19.121993",
     "exception": false,
     "start_time": "2025-08-05T16:10:19.090692",
     "status": "completed"
    },
    "tags": []
   },
   "outputs": [
    {
     "name": "stdout",
     "output_type": "stream",
     "text": [
      "Using Seed: 2023\n"
     ]
    }
   ],
   "source": [
    "import numpy as np\n",
    "parsed_seed = int(seed)\n",
    "np.random.seed(parsed_seed)\n",
    "print(f\"Using Seed: {parsed_seed}\")"
   ]
  },
  {
   "cell_type": "markdown",
   "id": "e0ebdc57",
   "metadata": {
    "papermill": {
     "duration": 0.02062,
     "end_time": "2025-08-05T16:10:19.164032",
     "exception": false,
     "start_time": "2025-08-05T16:10:19.143412",
     "status": "completed"
    },
    "tags": []
   },
   "source": [
    "# Loading Data"
   ]
  },
  {
   "cell_type": "code",
   "execution_count": 9,
   "id": "f0496b8a",
   "metadata": {
    "execution": {
     "iopub.execute_input": "2025-08-05T16:10:19.207462Z",
     "iopub.status.busy": "2025-08-05T16:10:19.206378Z",
     "iopub.status.idle": "2025-08-05T16:10:30.364418Z",
     "shell.execute_reply": "2025-08-05T16:10:30.363198Z"
    },
    "papermill": {
     "duration": 11.181406,
     "end_time": "2025-08-05T16:10:30.365992",
     "exception": false,
     "start_time": "2025-08-05T16:10:19.184586",
     "status": "completed"
    },
    "tags": []
   },
   "outputs": [
    {
     "name": "stdout",
     "output_type": "stream",
     "text": [
      "Loading SIAB data from cache: data/siab_cached.csv.gz\n"
     ]
    },
    {
     "name": "stdout",
     "output_type": "stream",
     "text": [
      "(643690, 164)\n"
     ]
    }
   ],
   "source": [
    "from pathlib import Path\n",
    "import pandas as pd\n",
    "\n",
    "# File paths\n",
    "raw_file = Path(\"data/raw/siab.csv\")\n",
    "cache_file = Path(\"data/siab_cached.csv.gz\")\n",
    "\n",
    "# Ensure cache directory exists\n",
    "cache_file.parent.mkdir(parents=True, exist_ok=True)\n",
    "\n",
    "# Load with simple caching\n",
    "if cache_file.exists():\n",
    "    print(f\"Loading SIAB data from cache: {cache_file}\")\n",
    "    siab = pd.read_csv(cache_file, compression='gzip')\n",
    "else:\n",
    "    print(f\"Cache not found. Reading raw SIAB data: {raw_file}\")\n",
    "    siab = pd.read_csv(raw_file)\n",
    "    siab.to_csv(cache_file, index=False, compression='gzip')\n",
    "    print(f\"Cached SIAB data to: {cache_file}\")\n",
    "\n",
    "print(siab.shape)"
   ]
  },
  {
   "cell_type": "code",
   "execution_count": 10,
   "id": "db0ca512-5f53-4dba-abdb-a2888bca41ba",
   "metadata": {
    "execution": {
     "iopub.execute_input": "2025-08-05T16:10:30.406291Z",
     "iopub.status.busy": "2025-08-05T16:10:30.405645Z",
     "iopub.status.idle": "2025-08-05T16:10:30.410975Z",
     "shell.execute_reply": "2025-08-05T16:10:30.409924Z"
    },
    "papermill": {
     "duration": 0.025368,
     "end_time": "2025-08-05T16:10:30.412703",
     "exception": false,
     "start_time": "2025-08-05T16:10:30.387335",
     "status": "completed"
    },
    "tags": []
   },
   "outputs": [],
   "source": [
    "#siab"
   ]
  },
  {
   "cell_type": "markdown",
   "id": "997051c5-15bd-4b69-9786-c3001a3ce484",
   "metadata": {
    "papermill": {
     "duration": 0.016069,
     "end_time": "2025-08-05T16:10:30.446266",
     "exception": false,
     "start_time": "2025-08-05T16:10:30.430197",
     "status": "completed"
    },
    "tags": []
   },
   "source": [
    "# Splitting Data and Setting Training Data Size"
   ]
  },
  {
   "cell_type": "code",
   "execution_count": 11,
   "id": "aea9c6ef-6f46-42c8-85eb-5a62025c1508",
   "metadata": {
    "execution": {
     "iopub.execute_input": "2025-08-05T16:10:30.482009Z",
     "iopub.status.busy": "2025-08-05T16:10:30.481164Z",
     "iopub.status.idle": "2025-08-05T16:10:30.680588Z",
     "shell.execute_reply": "2025-08-05T16:10:30.679583Z"
    },
    "papermill": {
     "duration": 0.219784,
     "end_time": "2025-08-05T16:10:30.682679",
     "exception": false,
     "start_time": "2025-08-05T16:10:30.462895",
     "status": "completed"
    },
    "tags": []
   },
   "outputs": [],
   "source": [
    "from fairness_multiverse.universe import sample_by_year_size\n",
    "\n",
    "siab_train = sample_by_year_size(siab,\n",
    "                               training_year=universe[\"training_year\"],\n",
    "                               training_size=universe[\"training_size\"])"
   ]
  },
  {
   "cell_type": "code",
   "execution_count": 12,
   "id": "8d3afb32-789d-442c-8d5d-9f5aa8dd2eed",
   "metadata": {
    "execution": {
     "iopub.execute_input": "2025-08-05T16:10:30.719619Z",
     "iopub.status.busy": "2025-08-05T16:10:30.718991Z",
     "iopub.status.idle": "2025-08-05T16:10:30.724166Z",
     "shell.execute_reply": "2025-08-05T16:10:30.723202Z"
    },
    "papermill": {
     "duration": 0.02498,
     "end_time": "2025-08-05T16:10:30.726012",
     "exception": false,
     "start_time": "2025-08-05T16:10:30.701032",
     "status": "completed"
    },
    "tags": []
   },
   "outputs": [],
   "source": [
    "#siab_train.shape"
   ]
  },
  {
   "cell_type": "code",
   "execution_count": 13,
   "id": "d582db68-1a4c-47fb-84fc-08518dc1975a",
   "metadata": {
    "execution": {
     "iopub.execute_input": "2025-08-05T16:10:30.761104Z",
     "iopub.status.busy": "2025-08-05T16:10:30.760786Z",
     "iopub.status.idle": "2025-08-05T16:10:30.765079Z",
     "shell.execute_reply": "2025-08-05T16:10:30.764052Z"
    },
    "papermill": {
     "duration": 0.024235,
     "end_time": "2025-08-05T16:10:30.766751",
     "exception": false,
     "start_time": "2025-08-05T16:10:30.742516",
     "status": "completed"
    },
    "tags": []
   },
   "outputs": [],
   "source": [
    "#display(siab_train.groupby(\"year\").size())"
   ]
  },
  {
   "cell_type": "code",
   "execution_count": 14,
   "id": "a561edb4-d032-42cb-8256-22eac1111c64",
   "metadata": {
    "execution": {
     "iopub.execute_input": "2025-08-05T16:10:30.802216Z",
     "iopub.status.busy": "2025-08-05T16:10:30.801652Z",
     "iopub.status.idle": "2025-08-05T16:10:31.041010Z",
     "shell.execute_reply": "2025-08-05T16:10:31.039998Z"
    },
    "papermill": {
     "duration": 0.258037,
     "end_time": "2025-08-05T16:10:31.042496",
     "exception": false,
     "start_time": "2025-08-05T16:10:30.784459",
     "status": "completed"
    },
    "tags": []
   },
   "outputs": [],
   "source": [
    "#siab_train = siab_s[siab_s.year < 2015]\n",
    "siab_calib = siab[siab.year == 2015]\n",
    "siab_test = siab[siab.year == 2016]"
   ]
  },
  {
   "cell_type": "code",
   "execution_count": 15,
   "id": "472de16f-c3db-4916-846b-1f0de9cf1746",
   "metadata": {
    "execution": {
     "iopub.execute_input": "2025-08-05T16:10:31.073446Z",
     "iopub.status.busy": "2025-08-05T16:10:31.073044Z",
     "iopub.status.idle": "2025-08-05T16:10:31.079391Z",
     "shell.execute_reply": "2025-08-05T16:10:31.078393Z"
    },
    "papermill": {
     "duration": 0.027132,
     "end_time": "2025-08-05T16:10:31.080793",
     "exception": false,
     "start_time": "2025-08-05T16:10:31.053661",
     "status": "completed"
    },
    "tags": []
   },
   "outputs": [],
   "source": [
    "X_train = siab_train.iloc[:,4:164]\n",
    "y_train = siab_train.iloc[:, [3]]"
   ]
  },
  {
   "cell_type": "code",
   "execution_count": 16,
   "id": "828c96af-f43a-4ed6-ba47-8ac73a47d56c",
   "metadata": {
    "execution": {
     "iopub.execute_input": "2025-08-05T16:10:31.100207Z",
     "iopub.status.busy": "2025-08-05T16:10:31.099692Z",
     "iopub.status.idle": "2025-08-05T16:10:31.150256Z",
     "shell.execute_reply": "2025-08-05T16:10:31.149047Z"
    },
    "papermill": {
     "duration": 0.062085,
     "end_time": "2025-08-05T16:10:31.152311",
     "exception": false,
     "start_time": "2025-08-05T16:10:31.090226",
     "status": "completed"
    },
    "tags": []
   },
   "outputs": [],
   "source": [
    "X_calib = siab_calib.iloc[:,4:164]\n",
    "y_calib = siab_calib.iloc[:, [3]]"
   ]
  },
  {
   "cell_type": "code",
   "execution_count": 17,
   "id": "c34be9c3-6bd6-476e-acd3-845840e303be",
   "metadata": {
    "execution": {
     "iopub.execute_input": "2025-08-05T16:10:31.189607Z",
     "iopub.status.busy": "2025-08-05T16:10:31.188568Z",
     "iopub.status.idle": "2025-08-05T16:10:31.239551Z",
     "shell.execute_reply": "2025-08-05T16:10:31.238412Z"
    },
    "papermill": {
     "duration": 0.06942,
     "end_time": "2025-08-05T16:10:31.241963",
     "exception": false,
     "start_time": "2025-08-05T16:10:31.172543",
     "status": "completed"
    },
    "tags": []
   },
   "outputs": [],
   "source": [
    "X_test = siab_test.iloc[:,4:164]\n",
    "y_true = siab_test.iloc[:, [3]]"
   ]
  },
  {
   "cell_type": "code",
   "execution_count": 18,
   "id": "e6c733c5",
   "metadata": {
    "execution": {
     "iopub.execute_input": "2025-08-05T16:10:31.282498Z",
     "iopub.status.busy": "2025-08-05T16:10:31.281791Z",
     "iopub.status.idle": "2025-08-05T16:10:31.380873Z",
     "shell.execute_reply": "2025-08-05T16:10:31.379646Z"
    },
    "papermill": {
     "duration": 0.122268,
     "end_time": "2025-08-05T16:10:31.383100",
     "exception": false,
     "start_time": "2025-08-05T16:10:31.260832",
     "status": "completed"
    },
    "tags": []
   },
   "outputs": [],
   "source": [
    "# Auxiliary data needed downstream in the pipeline\n",
    "\n",
    "org_train = X_train.copy()\n",
    "org_test = X_test.copy()\n",
    "org_calib = X_calib.copy()"
   ]
  },
  {
   "cell_type": "markdown",
   "id": "0a4a1b33",
   "metadata": {
    "papermill": {
     "duration": 0.019139,
     "end_time": "2025-08-05T16:10:31.422203",
     "exception": false,
     "start_time": "2025-08-05T16:10:31.403064",
     "status": "completed"
    },
    "tags": []
   },
   "source": [
    "# Preprocessing Data"
   ]
  },
  {
   "cell_type": "code",
   "execution_count": 19,
   "id": "ca879031",
   "metadata": {
    "execution": {
     "iopub.execute_input": "2025-08-05T16:10:31.444303Z",
     "iopub.status.busy": "2025-08-05T16:10:31.443898Z",
     "iopub.status.idle": "2025-08-05T16:10:31.449946Z",
     "shell.execute_reply": "2025-08-05T16:10:31.448874Z"
    },
    "papermill": {
     "duration": 0.018143,
     "end_time": "2025-08-05T16:10:31.452049",
     "exception": false,
     "start_time": "2025-08-05T16:10:31.433906",
     "status": "completed"
    },
    "tags": []
   },
   "outputs": [],
   "source": [
    "# EXCLUDE PROTECTED FEATURES\n",
    "# ----------------------\n",
    "# \"exclude_features\": \"none\", # \"nationality\", \"sex\", \"nationality-sex\"\n",
    "\n",
    "excluded_features = universe[\"exclude_features\"].split(\"-\") # split, e.g.: \"nationality-sex\" -> [\"nationality\", \"sex\"]\n",
    "excluded_features_dictionary = {\n",
    "    \"nationality\": [\"maxdeutsch1\", \"maxdeutsch.Missing.\"],\n",
    "    \"sex\": [\"frau1\"],\n",
    "    \"age\": [\"age\"],\n",
    "}"
   ]
  },
  {
   "cell_type": "code",
   "execution_count": 20,
   "id": "b745ac60",
   "metadata": {
    "execution": {
     "iopub.execute_input": "2025-08-05T16:10:31.496163Z",
     "iopub.status.busy": "2025-08-05T16:10:31.495489Z",
     "iopub.status.idle": "2025-08-05T16:10:31.501639Z",
     "shell.execute_reply": "2025-08-05T16:10:31.500531Z"
    },
    "papermill": {
     "duration": 0.029521,
     "end_time": "2025-08-05T16:10:31.503279",
     "exception": false,
     "start_time": "2025-08-05T16:10:31.473758",
     "status": "completed"
    },
    "tags": []
   },
   "outputs": [],
   "source": [
    "# Code nice names to column names\n",
    "\n",
    "excluded_features_columns = [\n",
    "    excluded_features_dictionary[f] for f in excluded_features if len(f) > 0 and f != \"none\"\n",
    "]"
   ]
  },
  {
   "cell_type": "code",
   "execution_count": 21,
   "id": "f84f73a2",
   "metadata": {
    "execution": {
     "iopub.execute_input": "2025-08-05T16:10:31.541052Z",
     "iopub.status.busy": "2025-08-05T16:10:31.540131Z",
     "iopub.status.idle": "2025-08-05T16:10:31.546939Z",
     "shell.execute_reply": "2025-08-05T16:10:31.545781Z"
    },
    "papermill": {
     "duration": 0.027254,
     "end_time": "2025-08-05T16:10:31.548661",
     "exception": false,
     "start_time": "2025-08-05T16:10:31.521407",
     "status": "completed"
    },
    "tags": []
   },
   "outputs": [],
   "source": [
    "from utils import flatten_once\n",
    "\n",
    "excluded_features_columns = flatten_once(excluded_features_columns)"
   ]
  },
  {
   "cell_type": "code",
   "execution_count": 22,
   "id": "884dea22",
   "metadata": {
    "execution": {
     "iopub.execute_input": "2025-08-05T16:10:31.594336Z",
     "iopub.status.busy": "2025-08-05T16:10:31.593497Z",
     "iopub.status.idle": "2025-08-05T16:10:31.603734Z",
     "shell.execute_reply": "2025-08-05T16:10:31.602586Z"
    },
    "papermill": {
     "duration": 0.033388,
     "end_time": "2025-08-05T16:10:31.605677",
     "exception": false,
     "start_time": "2025-08-05T16:10:31.572289",
     "status": "completed"
    },
    "tags": []
   },
   "outputs": [
    {
     "name": "stdout",
     "output_type": "stream",
     "text": [
      "Dropping features: ['maxdeutsch1', 'maxdeutsch.Missing.', 'frau1']\n"
     ]
    }
   ],
   "source": [
    "if len(excluded_features_columns) > 0:\n",
    "    print(f\"Dropping features: {excluded_features_columns}\")\n",
    "    X_train.drop(excluded_features_columns, axis=1, inplace=True)"
   ]
  },
  {
   "cell_type": "code",
   "execution_count": 23,
   "id": "95ab8b16",
   "metadata": {
    "execution": {
     "iopub.execute_input": "2025-08-05T16:10:31.642057Z",
     "iopub.status.busy": "2025-08-05T16:10:31.641196Z",
     "iopub.status.idle": "2025-08-05T16:10:31.692257Z",
     "shell.execute_reply": "2025-08-05T16:10:31.691293Z"
    },
    "papermill": {
     "duration": 0.083863,
     "end_time": "2025-08-05T16:10:31.706672",
     "exception": false,
     "start_time": "2025-08-05T16:10:31.622809",
     "status": "completed"
    },
    "tags": []
   },
   "outputs": [
    {
     "name": "stdout",
     "output_type": "stream",
     "text": [
      "Dropping features: ['maxdeutsch1', 'maxdeutsch.Missing.', 'frau1']\n"
     ]
    }
   ],
   "source": [
    "if len(excluded_features_columns) > 0:\n",
    "    print(f\"Dropping features: {excluded_features_columns}\")\n",
    "    X_test.drop(excluded_features_columns, axis=1, inplace=True)"
   ]
  },
  {
   "cell_type": "code",
   "execution_count": 24,
   "id": "1853aaf5-fb9f-46cb-a2b5-8ea4ae2237e4",
   "metadata": {
    "execution": {
     "iopub.execute_input": "2025-08-05T16:10:31.751389Z",
     "iopub.status.busy": "2025-08-05T16:10:31.750735Z",
     "iopub.status.idle": "2025-08-05T16:10:31.784475Z",
     "shell.execute_reply": "2025-08-05T16:10:31.783272Z"
    },
    "papermill": {
     "duration": 0.059079,
     "end_time": "2025-08-05T16:10:31.786918",
     "exception": false,
     "start_time": "2025-08-05T16:10:31.727839",
     "status": "completed"
    },
    "tags": []
   },
   "outputs": [
    {
     "name": "stdout",
     "output_type": "stream",
     "text": [
      "Dropping features: ['maxdeutsch1', 'maxdeutsch.Missing.', 'frau1']\n"
     ]
    }
   ],
   "source": [
    "if len(excluded_features_columns) > 0:\n",
    "    print(f\"Dropping features: {excluded_features_columns}\")\n",
    "    X_calib.drop(excluded_features_columns, axis=1, inplace=True)"
   ]
  },
  {
   "cell_type": "code",
   "execution_count": 25,
   "id": "76c4dc6d",
   "metadata": {
    "execution": {
     "iopub.execute_input": "2025-08-05T16:10:31.825453Z",
     "iopub.status.busy": "2025-08-05T16:10:31.824678Z",
     "iopub.status.idle": "2025-08-05T16:10:31.830163Z",
     "shell.execute_reply": "2025-08-05T16:10:31.829086Z"
    },
    "papermill": {
     "duration": 0.0263,
     "end_time": "2025-08-05T16:10:31.831866",
     "exception": false,
     "start_time": "2025-08-05T16:10:31.805566",
     "status": "completed"
    },
    "tags": []
   },
   "outputs": [],
   "source": [
    "# EXCLUDE CERTAIN SUBGROUPS\n",
    "# ----------------------\n",
    "\n",
    "mode = universe.get(\"exclude_subgroups\", \"keep-all\") \n",
    "# Fetches the exclude_subgroups setting from the universe dict.\n",
    "# Defaults to \"keep-all\" if the key is missing."
   ]
  },
  {
   "cell_type": "code",
   "execution_count": 26,
   "id": "21994072",
   "metadata": {
    "execution": {
     "iopub.execute_input": "2025-08-05T16:10:31.872482Z",
     "iopub.status.busy": "2025-08-05T16:10:31.872127Z",
     "iopub.status.idle": "2025-08-05T16:10:31.878627Z",
     "shell.execute_reply": "2025-08-05T16:10:31.877610Z"
    },
    "papermill": {
     "duration": 0.030716,
     "end_time": "2025-08-05T16:10:31.880788",
     "exception": false,
     "start_time": "2025-08-05T16:10:31.850072",
     "status": "completed"
    },
    "tags": []
   },
   "outputs": [],
   "source": [
    "if mode == \"keep-all\":\n",
    "    keep_mask = pd.Series(True, index=org_train.index)\n",
    "\n",
    "# org_train contains the original feature columns from features_org (in Simson)\n",
    "# features_org contains unprocessed features, for me X_train at beginning ???\n",
    "# For keep-all, creates a boolean Series (keep_mask) of all True, so no rows are removed.\n",
    "\n",
    "elif mode == \"drop-non-german\":\n",
    "    keep_mask = org_train[\"maxdeutsch1\"] == 1 # ??? what about missing values?\n",
    "\n",
    "else:\n",
    "    raise ValueError(f\"Unsupported mode for exclude_subgroups: {mode}\")"
   ]
  },
  {
   "cell_type": "code",
   "execution_count": 27,
   "id": "71651440",
   "metadata": {
    "execution": {
     "iopub.execute_input": "2025-08-05T16:10:31.926792Z",
     "iopub.status.busy": "2025-08-05T16:10:31.926299Z",
     "iopub.status.idle": "2025-08-05T16:10:31.932819Z",
     "shell.execute_reply": "2025-08-05T16:10:31.931775Z"
    },
    "papermill": {
     "duration": 0.031797,
     "end_time": "2025-08-05T16:10:31.934623",
     "exception": false,
     "start_time": "2025-08-05T16:10:31.902826",
     "status": "completed"
    },
    "tags": []
   },
   "outputs": [],
   "source": [
    "n_drop = (~keep_mask).sum() # Calculates how many rows are set to be dropped\n",
    "if n_drop > 0:\n",
    "    pct = n_drop / len(keep_mask) * 100\n",
    "    print(f\"Dropping {n_drop} rows ({pct:.2f}%) where mode='{mode}'\")"
   ]
  },
  {
   "cell_type": "code",
   "execution_count": 28,
   "id": "5fb8eee5",
   "metadata": {
    "execution": {
     "iopub.execute_input": "2025-08-05T16:10:31.981007Z",
     "iopub.status.busy": "2025-08-05T16:10:31.980137Z",
     "iopub.status.idle": "2025-08-05T16:10:31.987430Z",
     "shell.execute_reply": "2025-08-05T16:10:31.986304Z"
    },
    "papermill": {
     "duration": 0.031679,
     "end_time": "2025-08-05T16:10:31.989250",
     "exception": false,
     "start_time": "2025-08-05T16:10:31.957571",
     "status": "completed"
    },
    "tags": []
   },
   "outputs": [],
   "source": [
    "X_train = X_train[keep_mask]"
   ]
  },
  {
   "cell_type": "code",
   "execution_count": 29,
   "id": "b202bb3a",
   "metadata": {
    "execution": {
     "iopub.execute_input": "2025-08-05T16:10:32.033666Z",
     "iopub.status.busy": "2025-08-05T16:10:32.033342Z",
     "iopub.status.idle": "2025-08-05T16:10:32.038585Z",
     "shell.execute_reply": "2025-08-05T16:10:32.037494Z"
    },
    "papermill": {
     "duration": 0.029402,
     "end_time": "2025-08-05T16:10:32.040481",
     "exception": false,
     "start_time": "2025-08-05T16:10:32.011079",
     "status": "completed"
    },
    "tags": []
   },
   "outputs": [],
   "source": [
    "y_train = y_train[keep_mask]"
   ]
  },
  {
   "cell_type": "markdown",
   "id": "493e2ac3",
   "metadata": {
    "papermill": {
     "duration": 0.021094,
     "end_time": "2025-08-05T16:10:32.083110",
     "exception": false,
     "start_time": "2025-08-05T16:10:32.062016",
     "status": "completed"
    },
    "tags": []
   },
   "source": [
    "# Model Training"
   ]
  },
  {
   "cell_type": "code",
   "execution_count": 30,
   "id": "679e1268",
   "metadata": {
    "execution": {
     "iopub.execute_input": "2025-08-05T16:10:32.126373Z",
     "iopub.status.busy": "2025-08-05T16:10:32.125982Z",
     "iopub.status.idle": "2025-08-05T16:10:32.231480Z",
     "shell.execute_reply": "2025-08-05T16:10:32.230438Z"
    },
    "papermill": {
     "duration": 0.130302,
     "end_time": "2025-08-05T16:10:32.233554",
     "exception": false,
     "start_time": "2025-08-05T16:10:32.103252",
     "status": "completed"
    },
    "tags": []
   },
   "outputs": [],
   "source": [
    "from sklearn.linear_model import LogisticRegression\n",
    "from sklearn.ensemble import GradientBoostingClassifier, RandomForestClassifier\n",
    "\n",
    "if (universe[\"model\"] == \"logreg\"):\n",
    "    model = LogisticRegression() #penalty=\"none\", solver=\"newton-cg\", max_iter=1) # include random_state=19 ?\n",
    "elif (universe[\"model\"] == \"penalized_logreg\"):\n",
    "    model = LogisticRegression(penalty=\"l2\", C=0.1) #, solver=\"newton-cg\", max_iter=1)\n",
    "elif (universe[\"model\"] == \"rf\"):\n",
    "    model = RandomForestClassifier() # n_estimators=100, n_jobs=-1\n",
    "elif (universe[\"model\"] == \"gbm\"):\n",
    "    model = GradientBoostingClassifier()\n",
    "elif (universe[\"model\"] == \"elasticnet\"):\n",
    "    model = LogisticRegression(penalty = 'elasticnet', solver = 'saga', l1_ratio = 0.5) # max_iter=5000\n",
    "else:\n",
    "    raise \"Unsupported universe.model\""
   ]
  },
  {
   "cell_type": "code",
   "execution_count": 31,
   "id": "0cc8f744",
   "metadata": {
    "execution": {
     "iopub.execute_input": "2025-08-05T16:10:32.277138Z",
     "iopub.status.busy": "2025-08-05T16:10:32.276232Z",
     "iopub.status.idle": "2025-08-05T16:10:32.282733Z",
     "shell.execute_reply": "2025-08-05T16:10:32.281727Z"
    },
    "papermill": {
     "duration": 0.027966,
     "end_time": "2025-08-05T16:10:32.284451",
     "exception": false,
     "start_time": "2025-08-05T16:10:32.256485",
     "status": "completed"
    },
    "tags": []
   },
   "outputs": [],
   "source": [
    "import numpy as np\n",
    "from sklearn.pipeline import Pipeline\n",
    "from sklearn.preprocessing import StandardScaler\n",
    "\n",
    "model = Pipeline([\n",
    "    #(\"continuous_processor\", continuous_processor),\n",
    "    #(\"categorical_preprocessor\", categorical_preprocessor),\n",
    "    (\"scale\", StandardScaler() if universe[\"scale\"] == \"scale\" else None), \n",
    "    (\"model\", model),\n",
    "])"
   ]
  },
  {
   "cell_type": "code",
   "execution_count": 32,
   "id": "9442c04d",
   "metadata": {
    "execution": {
     "iopub.execute_input": "2025-08-05T16:10:32.321952Z",
     "iopub.status.busy": "2025-08-05T16:10:32.321362Z",
     "iopub.status.idle": "2025-08-05T16:10:32.400212Z",
     "shell.execute_reply": "2025-08-05T16:10:32.399211Z"
    },
    "papermill": {
     "duration": 0.099703,
     "end_time": "2025-08-05T16:10:32.402795",
     "exception": false,
     "start_time": "2025-08-05T16:10:32.303092",
     "status": "completed"
    },
    "tags": []
   },
   "outputs": [
    {
     "name": "stderr",
     "output_type": "stream",
     "text": [
      "/dss/dsshome1/0C/ra93lal2/.local/share/virtualenvs/CMA_Fairness_v2-3j10GkSs/lib/python3.10/site-packages/sklearn/linear_model/_logistic.py:444: ConvergenceWarning: lbfgs failed to converge (status=1):\n",
      "STOP: TOTAL NO. of ITERATIONS REACHED LIMIT.\n",
      "\n",
      "Increase the number of iterations (max_iter) or scale the data as shown in:\n",
      "    https://scikit-learn.org/stable/modules/preprocessing.html\n",
      "Please also refer to the documentation for alternative solver options:\n",
      "    https://scikit-learn.org/stable/modules/linear_model.html#logistic-regression\n",
      "  n_iter_i = _check_optimize_result(\n"
     ]
    },
    {
     "data": {
      "text/html": [
       "<style>#sk-container-id-1 {color: black;background-color: white;}#sk-container-id-1 pre{padding: 0;}#sk-container-id-1 div.sk-toggleable {background-color: white;}#sk-container-id-1 label.sk-toggleable__label {cursor: pointer;display: block;width: 100%;margin-bottom: 0;padding: 0.3em;box-sizing: border-box;text-align: center;}#sk-container-id-1 label.sk-toggleable__label-arrow:before {content: \"▸\";float: left;margin-right: 0.25em;color: #696969;}#sk-container-id-1 label.sk-toggleable__label-arrow:hover:before {color: black;}#sk-container-id-1 div.sk-estimator:hover label.sk-toggleable__label-arrow:before {color: black;}#sk-container-id-1 div.sk-toggleable__content {max-height: 0;max-width: 0;overflow: hidden;text-align: left;background-color: #f0f8ff;}#sk-container-id-1 div.sk-toggleable__content pre {margin: 0.2em;color: black;border-radius: 0.25em;background-color: #f0f8ff;}#sk-container-id-1 input.sk-toggleable__control:checked~div.sk-toggleable__content {max-height: 200px;max-width: 100%;overflow: auto;}#sk-container-id-1 input.sk-toggleable__control:checked~label.sk-toggleable__label-arrow:before {content: \"▾\";}#sk-container-id-1 div.sk-estimator input.sk-toggleable__control:checked~label.sk-toggleable__label {background-color: #d4ebff;}#sk-container-id-1 div.sk-label input.sk-toggleable__control:checked~label.sk-toggleable__label {background-color: #d4ebff;}#sk-container-id-1 input.sk-hidden--visually {border: 0;clip: rect(1px 1px 1px 1px);clip: rect(1px, 1px, 1px, 1px);height: 1px;margin: -1px;overflow: hidden;padding: 0;position: absolute;width: 1px;}#sk-container-id-1 div.sk-estimator {font-family: monospace;background-color: #f0f8ff;border: 1px dotted black;border-radius: 0.25em;box-sizing: border-box;margin-bottom: 0.5em;}#sk-container-id-1 div.sk-estimator:hover {background-color: #d4ebff;}#sk-container-id-1 div.sk-parallel-item::after {content: \"\";width: 100%;border-bottom: 1px solid gray;flex-grow: 1;}#sk-container-id-1 div.sk-label:hover label.sk-toggleable__label {background-color: #d4ebff;}#sk-container-id-1 div.sk-serial::before {content: \"\";position: absolute;border-left: 1px solid gray;box-sizing: border-box;top: 0;bottom: 0;left: 50%;z-index: 0;}#sk-container-id-1 div.sk-serial {display: flex;flex-direction: column;align-items: center;background-color: white;padding-right: 0.2em;padding-left: 0.2em;position: relative;}#sk-container-id-1 div.sk-item {position: relative;z-index: 1;}#sk-container-id-1 div.sk-parallel {display: flex;align-items: stretch;justify-content: center;background-color: white;position: relative;}#sk-container-id-1 div.sk-item::before, #sk-container-id-1 div.sk-parallel-item::before {content: \"\";position: absolute;border-left: 1px solid gray;box-sizing: border-box;top: 0;bottom: 0;left: 50%;z-index: -1;}#sk-container-id-1 div.sk-parallel-item {display: flex;flex-direction: column;z-index: 1;position: relative;background-color: white;}#sk-container-id-1 div.sk-parallel-item:first-child::after {align-self: flex-end;width: 50%;}#sk-container-id-1 div.sk-parallel-item:last-child::after {align-self: flex-start;width: 50%;}#sk-container-id-1 div.sk-parallel-item:only-child::after {width: 0;}#sk-container-id-1 div.sk-dashed-wrapped {border: 1px dashed gray;margin: 0 0.4em 0.5em 0.4em;box-sizing: border-box;padding-bottom: 0.4em;background-color: white;}#sk-container-id-1 div.sk-label label {font-family: monospace;font-weight: bold;display: inline-block;line-height: 1.2em;}#sk-container-id-1 div.sk-label-container {text-align: center;}#sk-container-id-1 div.sk-container {/* jupyter's `normalize.less` sets `[hidden] { display: none; }` but bootstrap.min.css set `[hidden] { display: none !important; }` so we also need the `!important` here to be able to override the default hidden behavior on the sphinx rendered scikit-learn.org. See: https://github.com/scikit-learn/scikit-learn/issues/21755 */display: inline-block !important;position: relative;}#sk-container-id-1 div.sk-text-repr-fallback {display: none;}</style><div id=\"sk-container-id-1\" class=\"sk-top-container\"><div class=\"sk-text-repr-fallback\"><pre>Pipeline(steps=[(&#x27;scale&#x27;, None), (&#x27;model&#x27;, LogisticRegression(C=0.1))])</pre><b>In a Jupyter environment, please rerun this cell to show the HTML representation or trust the notebook. <br />On GitHub, the HTML representation is unable to render, please try loading this page with nbviewer.org.</b></div><div class=\"sk-container\" hidden><div class=\"sk-item sk-dashed-wrapped\"><div class=\"sk-label-container\"><div class=\"sk-label sk-toggleable\"><input class=\"sk-toggleable__control sk-hidden--visually\" id=\"sk-estimator-id-1\" type=\"checkbox\" ><label for=\"sk-estimator-id-1\" class=\"sk-toggleable__label sk-toggleable__label-arrow\">Pipeline</label><div class=\"sk-toggleable__content\"><pre>Pipeline(steps=[(&#x27;scale&#x27;, None), (&#x27;model&#x27;, LogisticRegression(C=0.1))])</pre></div></div></div><div class=\"sk-serial\"><div class=\"sk-item\"><div class=\"sk-estimator sk-toggleable\"><input class=\"sk-toggleable__control sk-hidden--visually\" id=\"sk-estimator-id-2\" type=\"checkbox\" ><label for=\"sk-estimator-id-2\" class=\"sk-toggleable__label sk-toggleable__label-arrow\">None</label><div class=\"sk-toggleable__content\"><pre>None</pre></div></div></div><div class=\"sk-item\"><div class=\"sk-estimator sk-toggleable\"><input class=\"sk-toggleable__control sk-hidden--visually\" id=\"sk-estimator-id-3\" type=\"checkbox\" ><label for=\"sk-estimator-id-3\" class=\"sk-toggleable__label sk-toggleable__label-arrow\">LogisticRegression</label><div class=\"sk-toggleable__content\"><pre>LogisticRegression(C=0.1)</pre></div></div></div></div></div></div></div>"
      ],
      "text/plain": [
       "Pipeline(steps=[('scale', None), ('model', LogisticRegression(C=0.1))])"
      ]
     },
     "execution_count": 32,
     "metadata": {},
     "output_type": "execute_result"
    }
   ],
   "source": [
    "model.fit(X_train, y_train.values.ravel())"
   ]
  },
  {
   "cell_type": "code",
   "execution_count": 33,
   "id": "af59f8c0",
   "metadata": {
    "execution": {
     "iopub.execute_input": "2025-08-05T16:10:32.444140Z",
     "iopub.status.busy": "2025-08-05T16:10:32.443271Z",
     "iopub.status.idle": "2025-08-05T16:10:32.448560Z",
     "shell.execute_reply": "2025-08-05T16:10:32.447544Z"
    },
    "papermill": {
     "duration": 0.027473,
     "end_time": "2025-08-05T16:10:32.450297",
     "exception": false,
     "start_time": "2025-08-05T16:10:32.422824",
     "status": "completed"
    },
    "tags": []
   },
   "outputs": [],
   "source": [
    "from fairness_multiverse.universe import predict_w_threshold"
   ]
  },
  {
   "cell_type": "code",
   "execution_count": 34,
   "id": "a7cf2e16",
   "metadata": {
    "execution": {
     "iopub.execute_input": "2025-08-05T16:10:32.489979Z",
     "iopub.status.busy": "2025-08-05T16:10:32.489195Z",
     "iopub.status.idle": "2025-08-05T16:10:32.583503Z",
     "shell.execute_reply": "2025-08-05T16:10:32.582461Z"
    },
    "papermill": {
     "duration": 0.116323,
     "end_time": "2025-08-05T16:10:32.585302",
     "exception": false,
     "start_time": "2025-08-05T16:10:32.468979",
     "status": "completed"
    },
    "tags": []
   },
   "outputs": [
    {
     "data": {
      "text/plain": [
       "0.84909151711069"
      ]
     },
     "execution_count": 34,
     "metadata": {},
     "output_type": "execute_result"
    }
   ],
   "source": [
    "probs_test = model.predict_proba(X_test)\n",
    "\n",
    "'''\n",
    "Below code returns a boolean array (or binary 0/1 array depending on how it’s used) where each element \n",
    "is True if the probability of class 1 is greater than or equal to the threshold, and False otherwise.\n",
    "'''\n",
    "y_pred_default = predict_w_threshold(probs_test, 0.5)\n",
    "\n",
    "from sklearn.metrics import accuracy_score\n",
    "\n",
    "# Naive prediction\n",
    "accuracy_score(y_true = y_true, y_pred = y_pred_default)"
   ]
  },
  {
   "cell_type": "code",
   "execution_count": 35,
   "id": "081964c3",
   "metadata": {
    "execution": {
     "iopub.execute_input": "2025-08-05T16:10:32.625065Z",
     "iopub.status.busy": "2025-08-05T16:10:32.624336Z",
     "iopub.status.idle": "2025-08-05T16:10:32.708992Z",
     "shell.execute_reply": "2025-08-05T16:10:32.707925Z"
    },
    "papermill": {
     "duration": 0.106013,
     "end_time": "2025-08-05T16:10:32.711183",
     "exception": false,
     "start_time": "2025-08-05T16:10:32.605170",
     "status": "completed"
    },
    "tags": []
   },
   "outputs": [
    {
     "data": {
      "text/plain": [
       "array([0, 0, 0, ..., 0, 0, 0])"
      ]
     },
     "execution_count": 35,
     "metadata": {},
     "output_type": "execute_result"
    }
   ],
   "source": [
    "model.predict(X_test)"
   ]
  },
  {
   "cell_type": "markdown",
   "id": "56c9705b",
   "metadata": {
    "papermill": {
     "duration": 0.022357,
     "end_time": "2025-08-05T16:10:32.757081",
     "exception": false,
     "start_time": "2025-08-05T16:10:32.734724",
     "status": "completed"
    },
    "tags": []
   },
   "source": [
    "# Conformal Prediction"
   ]
  },
  {
   "cell_type": "code",
   "execution_count": 36,
   "id": "160ec6ff",
   "metadata": {
    "execution": {
     "iopub.execute_input": "2025-08-05T16:10:32.804099Z",
     "iopub.status.busy": "2025-08-05T16:10:32.803106Z",
     "iopub.status.idle": "2025-08-05T16:10:32.808431Z",
     "shell.execute_reply": "2025-08-05T16:10:32.807392Z"
    },
    "papermill": {
     "duration": 0.030752,
     "end_time": "2025-08-05T16:10:32.810244",
     "exception": false,
     "start_time": "2025-08-05T16:10:32.779492",
     "status": "completed"
    },
    "tags": []
   },
   "outputs": [],
   "source": [
    "# Miscoverage level for conformal prediction (10% allowed error rate => 90% target coverage)\n",
    "alpha = 0.1"
   ]
  },
  {
   "cell_type": "code",
   "execution_count": 37,
   "id": "eadf4555-3dd3-440e-8e35-f82a4ad9f855",
   "metadata": {
    "execution": {
     "iopub.execute_input": "2025-08-05T16:10:32.857032Z",
     "iopub.status.busy": "2025-08-05T16:10:32.856727Z",
     "iopub.status.idle": "2025-08-05T16:10:32.946261Z",
     "shell.execute_reply": "2025-08-05T16:10:32.945037Z"
    },
    "papermill": {
     "duration": 0.115395,
     "end_time": "2025-08-05T16:10:32.948513",
     "exception": false,
     "start_time": "2025-08-05T16:10:32.833118",
     "status": "completed"
    },
    "tags": []
   },
   "outputs": [],
   "source": [
    "probs_calib = model.predict_proba(X_calib)"
   ]
  },
  {
   "cell_type": "code",
   "execution_count": 38,
   "id": "2ed93547-6d5d-4983-9b36-1ecb300da49a",
   "metadata": {
    "execution": {
     "iopub.execute_input": "2025-08-05T16:10:32.999356Z",
     "iopub.status.busy": "2025-08-05T16:10:32.998978Z",
     "iopub.status.idle": "2025-08-05T16:10:33.004599Z",
     "shell.execute_reply": "2025-08-05T16:10:33.003431Z"
    },
    "papermill": {
     "duration": 0.033416,
     "end_time": "2025-08-05T16:10:33.006391",
     "exception": false,
     "start_time": "2025-08-05T16:10:32.972975",
     "status": "completed"
    },
    "tags": []
   },
   "outputs": [],
   "source": [
    "y_calib = y_calib.values.ravel().astype(int)"
   ]
  },
  {
   "cell_type": "code",
   "execution_count": 39,
   "id": "65d1320d-f588-4b38-9072-62af1ae97f7d",
   "metadata": {
    "execution": {
     "iopub.execute_input": "2025-08-05T16:10:33.054264Z",
     "iopub.status.busy": "2025-08-05T16:10:33.053902Z",
     "iopub.status.idle": "2025-08-05T16:10:33.061656Z",
     "shell.execute_reply": "2025-08-05T16:10:33.060519Z"
    },
    "papermill": {
     "duration": 0.033213,
     "end_time": "2025-08-05T16:10:33.063352",
     "exception": false,
     "start_time": "2025-08-05T16:10:33.030139",
     "status": "completed"
    },
    "tags": []
   },
   "outputs": [],
   "source": [
    "from fairness_multiverse.conformal import compute_nc_scores\n",
    "\n",
    "# Compute nonconformity scores on calibration set (1 - probability of true class)\n",
    "nc_scores = compute_nc_scores(probs_calib, y_calib)"
   ]
  },
  {
   "cell_type": "code",
   "execution_count": 40,
   "id": "df3b8ca3-53b7-43d5-9667-7c85da7aeda2",
   "metadata": {
    "execution": {
     "iopub.execute_input": "2025-08-05T16:10:33.113384Z",
     "iopub.status.busy": "2025-08-05T16:10:33.113059Z",
     "iopub.status.idle": "2025-08-05T16:10:33.119540Z",
     "shell.execute_reply": "2025-08-05T16:10:33.118322Z"
    },
    "papermill": {
     "duration": 0.03274,
     "end_time": "2025-08-05T16:10:33.121423",
     "exception": false,
     "start_time": "2025-08-05T16:10:33.088683",
     "status": "completed"
    },
    "tags": []
   },
   "outputs": [],
   "source": [
    "from fairness_multiverse.conformal import find_threshold\n",
    "\n",
    "# Find conformal threshold q_hat for the given alpha (split conformal method)\n",
    "q_hat = find_threshold(nc_scores, alpha)"
   ]
  },
  {
   "cell_type": "code",
   "execution_count": 41,
   "id": "4d29e6c1-0ef6-4aa4-b8fe-4fe79b0d033a",
   "metadata": {
    "execution": {
     "iopub.execute_input": "2025-08-05T16:10:33.171851Z",
     "iopub.status.busy": "2025-08-05T16:10:33.170883Z",
     "iopub.status.idle": "2025-08-05T16:10:33.179519Z",
     "shell.execute_reply": "2025-08-05T16:10:33.178235Z"
    },
    "papermill": {
     "duration": 0.036477,
     "end_time": "2025-08-05T16:10:33.181702",
     "exception": false,
     "start_time": "2025-08-05T16:10:33.145225",
     "status": "completed"
    },
    "tags": []
   },
   "outputs": [
    {
     "data": {
      "text/plain": [
       "0.6975553944505807"
      ]
     },
     "execution_count": 41,
     "metadata": {},
     "output_type": "execute_result"
    }
   ],
   "source": [
    "q_hat"
   ]
  },
  {
   "cell_type": "code",
   "execution_count": 42,
   "id": "92460794-cdac-4be2-ba28-f28c0515a6fb",
   "metadata": {
    "execution": {
     "iopub.execute_input": "2025-08-05T16:10:33.234562Z",
     "iopub.status.busy": "2025-08-05T16:10:33.233735Z",
     "iopub.status.idle": "2025-08-05T16:10:34.386694Z",
     "shell.execute_reply": "2025-08-05T16:10:34.385571Z"
    },
    "papermill": {
     "duration": 1.181343,
     "end_time": "2025-08-05T16:10:34.389082",
     "exception": false,
     "start_time": "2025-08-05T16:10:33.207739",
     "status": "completed"
    },
    "tags": []
   },
   "outputs": [],
   "source": [
    "from fairness_multiverse.conformal import predict_conformal_sets\n",
    "\n",
    "# Generate prediction sets for each test example\n",
    "pred_sets = predict_conformal_sets(model, X_test, q_hat)"
   ]
  },
  {
   "cell_type": "code",
   "execution_count": 43,
   "id": "d90c9a65-e6db-4f5d-80cd-e68fb7e46829",
   "metadata": {
    "execution": {
     "iopub.execute_input": "2025-08-05T16:10:34.449590Z",
     "iopub.status.busy": "2025-08-05T16:10:34.449024Z",
     "iopub.status.idle": "2025-08-05T16:10:34.457265Z",
     "shell.execute_reply": "2025-08-05T16:10:34.454802Z"
    },
    "papermill": {
     "duration": 0.041127,
     "end_time": "2025-08-05T16:10:34.459437",
     "exception": false,
     "start_time": "2025-08-05T16:10:34.418310",
     "status": "completed"
    },
    "tags": []
   },
   "outputs": [],
   "source": [
    "y_true = y_true.squeeze()"
   ]
  },
  {
   "cell_type": "code",
   "execution_count": 44,
   "id": "3a58a54a-1e68-46b9-927a-df01f18aebc8",
   "metadata": {
    "execution": {
     "iopub.execute_input": "2025-08-05T16:10:34.504989Z",
     "iopub.status.busy": "2025-08-05T16:10:34.503958Z",
     "iopub.status.idle": "2025-08-05T16:10:35.491355Z",
     "shell.execute_reply": "2025-08-05T16:10:35.490212Z"
    },
    "papermill": {
     "duration": 1.012283,
     "end_time": "2025-08-05T16:10:35.493420",
     "exception": false,
     "start_time": "2025-08-05T16:10:34.481137",
     "status": "completed"
    },
    "tags": []
   },
   "outputs": [],
   "source": [
    "from fairness_multiverse.conformal import evaluate_sets\n",
    "\n",
    "# Evaluate coverage and average set size on test data\n",
    "metrics = evaluate_sets(pred_sets, y_true)"
   ]
  },
  {
   "cell_type": "markdown",
   "id": "2b569c12-9aaa-4c88-98c9-bbcd0cf3ebb8",
   "metadata": {
    "papermill": {
     "duration": 0.023653,
     "end_time": "2025-08-05T16:10:35.540168",
     "exception": false,
     "start_time": "2025-08-05T16:10:35.516515",
     "status": "completed"
    },
    "tags": []
   },
   "source": [
    "# CP Metrics"
   ]
  },
  {
   "cell_type": "code",
   "execution_count": 45,
   "id": "5ce0a5cb-201f-45a0-ade5-94c7f0bd6095",
   "metadata": {
    "execution": {
     "iopub.execute_input": "2025-08-05T16:10:35.588463Z",
     "iopub.status.busy": "2025-08-05T16:10:35.587490Z",
     "iopub.status.idle": "2025-08-05T16:10:35.594577Z",
     "shell.execute_reply": "2025-08-05T16:10:35.593662Z"
    },
    "papermill": {
     "duration": 0.03295,
     "end_time": "2025-08-05T16:10:35.596036",
     "exception": false,
     "start_time": "2025-08-05T16:10:35.563086",
     "status": "completed"
    },
    "tags": []
   },
   "outputs": [
    {
     "data": {
      "text/plain": [
       "{'coverage': 0.9087058298963326, 'avg_size': 1.2225392932783414}"
      ]
     },
     "execution_count": 45,
     "metadata": {},
     "output_type": "execute_result"
    }
   ],
   "source": [
    "metrics"
   ]
  },
  {
   "cell_type": "code",
   "execution_count": 46,
   "id": "9b9a838d-31c9-430b-ae14-12baee460d17",
   "metadata": {
    "execution": {
     "iopub.execute_input": "2025-08-05T16:10:35.630690Z",
     "iopub.status.busy": "2025-08-05T16:10:35.629879Z",
     "iopub.status.idle": "2025-08-05T16:10:35.636621Z",
     "shell.execute_reply": "2025-08-05T16:10:35.635608Z"
    },
    "papermill": {
     "duration": 0.030156,
     "end_time": "2025-08-05T16:10:35.638124",
     "exception": false,
     "start_time": "2025-08-05T16:10:35.607968",
     "status": "completed"
    },
    "tags": []
   },
   "outputs": [],
   "source": [
    "example_universe = universe.copy()\n",
    "universe_training_year = example_universe.get(\"training_year\")\n",
    "universe_training_size = example_universe.get(\"training_size\")\n",
    "universe_scale = example_universe.get(\"scale\")\n",
    "universe_model = example_universe.get(\"model\")\n",
    "universe_exclude_features = example_universe.get(\"exclude_features\")\n",
    "universe_exclude_subgroups = example_universe.get(\"exclude_subgroups\")"
   ]
  },
  {
   "cell_type": "code",
   "execution_count": 47,
   "id": "f4b6a8ac-9dc0-4245-8a91-5b3b5999c4f9",
   "metadata": {
    "execution": {
     "iopub.execute_input": "2025-08-05T16:10:35.682279Z",
     "iopub.status.busy": "2025-08-05T16:10:35.681911Z",
     "iopub.status.idle": "2025-08-05T16:10:35.688637Z",
     "shell.execute_reply": "2025-08-05T16:10:35.687566Z"
    },
    "papermill": {
     "duration": 0.031731,
     "end_time": "2025-08-05T16:10:35.690546",
     "exception": false,
     "start_time": "2025-08-05T16:10:35.658815",
     "status": "completed"
    },
    "tags": []
   },
   "outputs": [],
   "source": [
    "cp_metrics_dict = {\n",
    "    \"universe_id\": [universe_id],\n",
    "    \"universe_training_year\": [universe_training_year],\n",
    "    \"universe_training_size\": [universe_training_size],\n",
    "    \"universe_scale\": [universe_scale],\n",
    "    \"universe_model\": [universe_model],\n",
    "    \"universe_exclude_features\": [universe_exclude_features],\n",
    "    \"universe_exclude_subgroups\": [universe_exclude_subgroups],\n",
    "    \"q_hat\": [q_hat],\n",
    "    \"coverage\": [metrics[\"coverage\"]],\n",
    "    \"avg_size\": [metrics[\"avg_size\"]],\n",
    "}"
   ]
  },
  {
   "cell_type": "code",
   "execution_count": 48,
   "id": "908acbb1-0371-4915-85ca-3fa520d2efe2",
   "metadata": {
    "execution": {
     "iopub.execute_input": "2025-08-05T16:10:35.734049Z",
     "iopub.status.busy": "2025-08-05T16:10:35.733738Z",
     "iopub.status.idle": "2025-08-05T16:10:35.740830Z",
     "shell.execute_reply": "2025-08-05T16:10:35.739962Z"
    },
    "papermill": {
     "duration": 0.027904,
     "end_time": "2025-08-05T16:10:35.742611",
     "exception": false,
     "start_time": "2025-08-05T16:10:35.714707",
     "status": "completed"
    },
    "tags": []
   },
   "outputs": [
    {
     "data": {
      "text/plain": [
       "{'universe_id': ['524e60490dd7deafadfabcef2bd3d5ef'],\n",
       " 'universe_training_year': ['2014'],\n",
       " 'universe_training_size': ['1k'],\n",
       " 'universe_scale': ['do-not-scale'],\n",
       " 'universe_model': ['penalized_logreg'],\n",
       " 'universe_exclude_features': ['nationality-sex'],\n",
       " 'universe_exclude_subgroups': ['keep-all'],\n",
       " 'q_hat': [0.6975553944505807],\n",
       " 'coverage': [0.9087058298963326],\n",
       " 'avg_size': [1.2225392932783414]}"
      ]
     },
     "execution_count": 48,
     "metadata": {},
     "output_type": "execute_result"
    }
   ],
   "source": [
    "cp_metrics_dict"
   ]
  },
  {
   "cell_type": "code",
   "execution_count": 49,
   "id": "33007efc-14e9-4ec6-97ac-56a455c82265",
   "metadata": {
    "execution": {
     "iopub.execute_input": "2025-08-05T16:10:35.779208Z",
     "iopub.status.busy": "2025-08-05T16:10:35.778761Z",
     "iopub.status.idle": "2025-08-05T16:10:35.784664Z",
     "shell.execute_reply": "2025-08-05T16:10:35.783850Z"
    },
    "papermill": {
     "duration": 0.021452,
     "end_time": "2025-08-05T16:10:35.786115",
     "exception": false,
     "start_time": "2025-08-05T16:10:35.764663",
     "status": "completed"
    },
    "tags": []
   },
   "outputs": [],
   "source": [
    "cp_metrics_df = pd.DataFrame(cp_metrics_dict)"
   ]
  },
  {
   "cell_type": "code",
   "execution_count": 50,
   "id": "db12611b-57b2-4910-b9d0-355adfd6e7bf",
   "metadata": {
    "execution": {
     "iopub.execute_input": "2025-08-05T16:10:35.810433Z",
     "iopub.status.busy": "2025-08-05T16:10:35.809723Z",
     "iopub.status.idle": "2025-08-05T16:10:35.825811Z",
     "shell.execute_reply": "2025-08-05T16:10:35.824881Z"
    },
    "papermill": {
     "duration": 0.029624,
     "end_time": "2025-08-05T16:10:35.827602",
     "exception": false,
     "start_time": "2025-08-05T16:10:35.797978",
     "status": "completed"
    },
    "tags": []
   },
   "outputs": [
    {
     "data": {
      "text/html": [
       "<div>\n",
       "<style scoped>\n",
       "    .dataframe tbody tr th:only-of-type {\n",
       "        vertical-align: middle;\n",
       "    }\n",
       "\n",
       "    .dataframe tbody tr th {\n",
       "        vertical-align: top;\n",
       "    }\n",
       "\n",
       "    .dataframe thead th {\n",
       "        text-align: right;\n",
       "    }\n",
       "</style>\n",
       "<table border=\"1\" class=\"dataframe\">\n",
       "  <thead>\n",
       "    <tr style=\"text-align: right;\">\n",
       "      <th></th>\n",
       "      <th>universe_id</th>\n",
       "      <th>universe_training_year</th>\n",
       "      <th>universe_training_size</th>\n",
       "      <th>universe_scale</th>\n",
       "      <th>universe_model</th>\n",
       "      <th>universe_exclude_features</th>\n",
       "      <th>universe_exclude_subgroups</th>\n",
       "      <th>q_hat</th>\n",
       "      <th>coverage</th>\n",
       "      <th>avg_size</th>\n",
       "    </tr>\n",
       "  </thead>\n",
       "  <tbody>\n",
       "    <tr>\n",
       "      <th>0</th>\n",
       "      <td>524e60490dd7deafadfabcef2bd3d5ef</td>\n",
       "      <td>2014</td>\n",
       "      <td>1k</td>\n",
       "      <td>do-not-scale</td>\n",
       "      <td>penalized_logreg</td>\n",
       "      <td>nationality-sex</td>\n",
       "      <td>keep-all</td>\n",
       "      <td>0.697555</td>\n",
       "      <td>0.908706</td>\n",
       "      <td>1.222539</td>\n",
       "    </tr>\n",
       "  </tbody>\n",
       "</table>\n",
       "</div>"
      ],
      "text/plain": [
       "                        universe_id universe_training_year  \\\n",
       "0  524e60490dd7deafadfabcef2bd3d5ef                   2014   \n",
       "\n",
       "  universe_training_size universe_scale    universe_model  \\\n",
       "0                     1k   do-not-scale  penalized_logreg   \n",
       "\n",
       "  universe_exclude_features universe_exclude_subgroups     q_hat  coverage  \\\n",
       "0           nationality-sex                   keep-all  0.697555  0.908706   \n",
       "\n",
       "   avg_size  \n",
       "0  1.222539  "
      ]
     },
     "execution_count": 50,
     "metadata": {},
     "output_type": "execute_result"
    }
   ],
   "source": [
    "cp_metrics_df"
   ]
  },
  {
   "cell_type": "code",
   "execution_count": 51,
   "id": "b7fbde55-a0a1-47e4-9af6-fe4a17fa8c61",
   "metadata": {
    "execution": {
     "iopub.execute_input": "2025-08-05T16:10:35.855961Z",
     "iopub.status.busy": "2025-08-05T16:10:35.855567Z",
     "iopub.status.idle": "2025-08-05T16:10:35.859690Z",
     "shell.execute_reply": "2025-08-05T16:10:35.858739Z"
    },
    "papermill": {
     "duration": 0.016919,
     "end_time": "2025-08-05T16:10:35.861027",
     "exception": false,
     "start_time": "2025-08-05T16:10:35.844108",
     "status": "completed"
    },
    "tags": []
   },
   "outputs": [],
   "source": [
    "# Conditional Coverage & looking at subgroups"
   ]
  },
  {
   "cell_type": "code",
   "execution_count": 52,
   "id": "027ae886-68dd-4141-96c7-805a5450e1ef",
   "metadata": {
    "execution": {
     "iopub.execute_input": "2025-08-05T16:10:35.886600Z",
     "iopub.status.busy": "2025-08-05T16:10:35.886243Z",
     "iopub.status.idle": "2025-08-05T16:10:36.138423Z",
     "shell.execute_reply": "2025-08-05T16:10:36.137579Z"
    },
    "papermill": {
     "duration": 0.265832,
     "end_time": "2025-08-05T16:10:36.139820",
     "exception": false,
     "start_time": "2025-08-05T16:10:35.873988",
     "status": "completed"
    },
    "tags": []
   },
   "outputs": [],
   "source": [
    "from fairness_multiverse.conformal import build_cp_groups\n",
    "\n",
    "cp_groups_df = build_cp_groups(pred_sets, y_true, X_test.index, org_test)\n",
    "#needs universe_id and setting"
   ]
  },
  {
   "cell_type": "code",
   "execution_count": 53,
   "id": "6cbdab96-b2b2-45af-ad54-d0516db2e28d",
   "metadata": {
    "execution": {
     "iopub.execute_input": "2025-08-05T16:10:36.165136Z",
     "iopub.status.busy": "2025-08-05T16:10:36.164836Z",
     "iopub.status.idle": "2025-08-05T16:10:38.057444Z",
     "shell.execute_reply": "2025-08-05T16:10:38.056347Z"
    },
    "papermill": {
     "duration": 1.906298,
     "end_time": "2025-08-05T16:10:38.059528",
     "exception": false,
     "start_time": "2025-08-05T16:10:36.153230",
     "status": "completed"
    },
    "tags": []
   },
   "outputs": [],
   "source": [
    "# Define covered = 1 if true_label is in the predicted set\n",
    "cp_groups_df['covered'] = cp_groups_df.apply(\n",
    "    lambda r: int(r['true_label'] in r['pred_set']),\n",
    "    axis=1\n",
    ")"
   ]
  },
  {
   "cell_type": "code",
   "execution_count": 54,
   "id": "338ff529-1a6b-4b87-a931-8e4788d52aad",
   "metadata": {
    "execution": {
     "iopub.execute_input": "2025-08-05T16:10:38.108859Z",
     "iopub.status.busy": "2025-08-05T16:10:38.108080Z",
     "iopub.status.idle": "2025-08-05T16:10:38.113248Z",
     "shell.execute_reply": "2025-08-05T16:10:38.112223Z"
    },
    "papermill": {
     "duration": 0.031018,
     "end_time": "2025-08-05T16:10:38.115105",
     "exception": false,
     "start_time": "2025-08-05T16:10:38.084087",
     "status": "completed"
    },
    "tags": []
   },
   "outputs": [],
   "source": [
    "#cp_groups_df"
   ]
  },
  {
   "cell_type": "code",
   "execution_count": 55,
   "id": "90032e27-66df-4540-9169-4e89cfbaa758",
   "metadata": {
    "execution": {
     "iopub.execute_input": "2025-08-05T16:10:38.155382Z",
     "iopub.status.busy": "2025-08-05T16:10:38.155076Z",
     "iopub.status.idle": "2025-08-05T16:10:38.165353Z",
     "shell.execute_reply": "2025-08-05T16:10:38.164341Z"
    },
    "papermill": {
     "duration": 0.032532,
     "end_time": "2025-08-05T16:10:38.167069",
     "exception": false,
     "start_time": "2025-08-05T16:10:38.134537",
     "status": "completed"
    },
    "tags": []
   },
   "outputs": [],
   "source": [
    "subgroups = ['frau1','nongerman','nongerman_male','nongerman_female']\n",
    "\n",
    "# Conditional coverage for subgroup==1\n",
    "cond_coverage = {\n",
    "    g: cp_groups_df.loc[cp_groups_df[g]==1, 'covered'].mean()\n",
    "    for g in subgroups\n",
    "}"
   ]
  },
  {
   "cell_type": "code",
   "execution_count": 56,
   "id": "1e348fb1-b9c3-45bc-ba23-f016827a7e0d",
   "metadata": {
    "execution": {
     "iopub.execute_input": "2025-08-05T16:10:38.212800Z",
     "iopub.status.busy": "2025-08-05T16:10:38.212126Z",
     "iopub.status.idle": "2025-08-05T16:10:38.221806Z",
     "shell.execute_reply": "2025-08-05T16:10:38.218679Z"
    },
    "papermill": {
     "duration": 0.034284,
     "end_time": "2025-08-05T16:10:38.223594",
     "exception": false,
     "start_time": "2025-08-05T16:10:38.189310",
     "status": "completed"
    },
    "tags": []
   },
   "outputs": [
    {
     "data": {
      "text/plain": [
       "{'frau1': 0.906860762906052,\n",
       " 'nongerman': 0.9298265311850895,\n",
       " 'nongerman_male': 0.9432585787624966,\n",
       " 'nongerman_female': 0.9076005961251863}"
      ]
     },
     "execution_count": 56,
     "metadata": {},
     "output_type": "execute_result"
    }
   ],
   "source": [
    "cond_coverage"
   ]
  },
  {
   "cell_type": "code",
   "execution_count": 57,
   "id": "f5093324-c3dd-4d63-bc4c-8d945e5c8bbb",
   "metadata": {
    "execution": {
     "iopub.execute_input": "2025-08-05T16:10:38.269708Z",
     "iopub.status.busy": "2025-08-05T16:10:38.268958Z",
     "iopub.status.idle": "2025-08-05T16:10:38.275545Z",
     "shell.execute_reply": "2025-08-05T16:10:38.274757Z"
    },
    "papermill": {
     "duration": 0.030682,
     "end_time": "2025-08-05T16:10:38.276882",
     "exception": false,
     "start_time": "2025-08-05T16:10:38.246200",
     "status": "completed"
    },
    "tags": []
   },
   "outputs": [],
   "source": [
    "for subgroup, cov in cond_coverage.items():\n",
    "    cp_metrics_df[f\"cov_{subgroup}\"] = cov"
   ]
  },
  {
   "cell_type": "code",
   "execution_count": 58,
   "id": "6e872e10-dbe5-49e8-b554-5030c98ff75d",
   "metadata": {
    "execution": {
     "iopub.execute_input": "2025-08-05T16:10:38.317114Z",
     "iopub.status.busy": "2025-08-05T16:10:38.316340Z",
     "iopub.status.idle": "2025-08-05T16:10:38.350224Z",
     "shell.execute_reply": "2025-08-05T16:10:38.337889Z"
    },
    "papermill": {
     "duration": 0.060319,
     "end_time": "2025-08-05T16:10:38.352046",
     "exception": false,
     "start_time": "2025-08-05T16:10:38.291727",
     "status": "completed"
    },
    "tags": []
   },
   "outputs": [
    {
     "data": {
      "text/html": [
       "<div>\n",
       "<style scoped>\n",
       "    .dataframe tbody tr th:only-of-type {\n",
       "        vertical-align: middle;\n",
       "    }\n",
       "\n",
       "    .dataframe tbody tr th {\n",
       "        vertical-align: top;\n",
       "    }\n",
       "\n",
       "    .dataframe thead th {\n",
       "        text-align: right;\n",
       "    }\n",
       "</style>\n",
       "<table border=\"1\" class=\"dataframe\">\n",
       "  <thead>\n",
       "    <tr style=\"text-align: right;\">\n",
       "      <th></th>\n",
       "      <th>universe_id</th>\n",
       "      <th>universe_training_year</th>\n",
       "      <th>universe_training_size</th>\n",
       "      <th>universe_scale</th>\n",
       "      <th>universe_model</th>\n",
       "      <th>universe_exclude_features</th>\n",
       "      <th>universe_exclude_subgroups</th>\n",
       "      <th>q_hat</th>\n",
       "      <th>coverage</th>\n",
       "      <th>avg_size</th>\n",
       "      <th>cov_frau1</th>\n",
       "      <th>cov_nongerman</th>\n",
       "      <th>cov_nongerman_male</th>\n",
       "      <th>cov_nongerman_female</th>\n",
       "    </tr>\n",
       "  </thead>\n",
       "  <tbody>\n",
       "    <tr>\n",
       "      <th>0</th>\n",
       "      <td>524e60490dd7deafadfabcef2bd3d5ef</td>\n",
       "      <td>2014</td>\n",
       "      <td>1k</td>\n",
       "      <td>do-not-scale</td>\n",
       "      <td>penalized_logreg</td>\n",
       "      <td>nationality-sex</td>\n",
       "      <td>keep-all</td>\n",
       "      <td>0.697555</td>\n",
       "      <td>0.908706</td>\n",
       "      <td>1.222539</td>\n",
       "      <td>0.906861</td>\n",
       "      <td>0.929827</td>\n",
       "      <td>0.943259</td>\n",
       "      <td>0.907601</td>\n",
       "    </tr>\n",
       "  </tbody>\n",
       "</table>\n",
       "</div>"
      ],
      "text/plain": [
       "                        universe_id universe_training_year  \\\n",
       "0  524e60490dd7deafadfabcef2bd3d5ef                   2014   \n",
       "\n",
       "  universe_training_size universe_scale    universe_model  \\\n",
       "0                     1k   do-not-scale  penalized_logreg   \n",
       "\n",
       "  universe_exclude_features universe_exclude_subgroups     q_hat  coverage  \\\n",
       "0           nationality-sex                   keep-all  0.697555  0.908706   \n",
       "\n",
       "   avg_size  cov_frau1  cov_nongerman  cov_nongerman_male  \\\n",
       "0  1.222539   0.906861       0.929827            0.943259   \n",
       "\n",
       "   cov_nongerman_female  \n",
       "0              0.907601  "
      ]
     },
     "execution_count": 58,
     "metadata": {},
     "output_type": "execute_result"
    }
   ],
   "source": [
    "cp_metrics_df"
   ]
  },
  {
   "cell_type": "markdown",
   "id": "33774451",
   "metadata": {
    "papermill": {
     "duration": 0.021689,
     "end_time": "2025-08-05T16:10:38.395728",
     "exception": false,
     "start_time": "2025-08-05T16:10:38.374039",
     "status": "completed"
    },
    "tags": []
   },
   "source": [
    "# (Fairness) Metrics"
   ]
  },
  {
   "cell_type": "code",
   "execution_count": 59,
   "id": "debc5d62",
   "metadata": {
    "execution": {
     "iopub.execute_input": "2025-08-05T16:10:38.443161Z",
     "iopub.status.busy": "2025-08-05T16:10:38.442234Z",
     "iopub.status.idle": "2025-08-05T16:10:38.463897Z",
     "shell.execute_reply": "2025-08-05T16:10:38.462988Z"
    },
    "papermill": {
     "duration": 0.047529,
     "end_time": "2025-08-05T16:10:38.466652",
     "exception": false,
     "start_time": "2025-08-05T16:10:38.419123",
     "status": "completed"
    },
    "tags": []
   },
   "outputs": [],
   "source": [
    "# do I need to include maxdeutsch1.missing?\n",
    "\n",
    "import numpy as np\n",
    "\n",
    "colname_to_bin = \"maxdeutsch1\"\n",
    "majority_value = org_train[colname_to_bin].mode()[0]\n",
    "\n",
    "org_test[\"majmin\"] = np.where(org_test[colname_to_bin] == majority_value, \"majority\", \"minority\")"
   ]
  },
  {
   "cell_type": "code",
   "execution_count": 60,
   "id": "06a50de5",
   "metadata": {
    "execution": {
     "iopub.execute_input": "2025-08-05T16:10:38.513745Z",
     "iopub.status.busy": "2025-08-05T16:10:38.513018Z",
     "iopub.status.idle": "2025-08-05T16:10:40.038997Z",
     "shell.execute_reply": "2025-08-05T16:10:40.038262Z"
    },
    "papermill": {
     "duration": 1.550688,
     "end_time": "2025-08-05T16:10:40.040412",
     "exception": false,
     "start_time": "2025-08-05T16:10:38.489724",
     "status": "completed"
    },
    "tags": []
   },
   "outputs": [],
   "source": [
    "example_universe = universe.copy()\n",
    "example_universe[\"cutoff\"] = example_universe[\"cutoff\"][0]\n",
    "example_universe[\"eval_fairness_grouping\"] = example_universe[\"eval_fairness_grouping\"][0]\n",
    "fairness_dict, metric_frame = universe_analysis.compute_metrics(\n",
    "    example_universe,\n",
    "    y_pred_prob=probs_test,\n",
    "    y_test=y_true,\n",
    "    org_test=org_test,\n",
    ")"
   ]
  },
  {
   "cell_type": "markdown",
   "id": "f95d4e02",
   "metadata": {
    "papermill": {
     "duration": 0.012236,
     "end_time": "2025-08-05T16:10:40.066997",
     "exception": false,
     "start_time": "2025-08-05T16:10:40.054761",
     "status": "completed"
    },
    "tags": []
   },
   "source": [
    "# Overall"
   ]
  },
  {
   "cell_type": "markdown",
   "id": "bdee4871",
   "metadata": {
    "papermill": {
     "duration": 0.010886,
     "end_time": "2025-08-05T16:10:40.089741",
     "exception": false,
     "start_time": "2025-08-05T16:10:40.078855",
     "status": "completed"
    },
    "tags": []
   },
   "source": [
    "Fairness\n",
    "Main fairness target: Equalized Odds. Seems to be a better fit than equal opportunity, since we're not only interested in Y = 1. Seems to be a better fit than demographic parity, since we also care about accuracy, not just equal distribution of preds.\n",
    "\n",
    "Pick column for computation of fairness metrics\n",
    "\n",
    "Performance\n",
    "Overall performance measures, most interesting in relation to the measures split by group below"
   ]
  },
  {
   "cell_type": "code",
   "execution_count": 61,
   "id": "c4e067c6",
   "metadata": {
    "execution": {
     "iopub.execute_input": "2025-08-05T16:10:40.113296Z",
     "iopub.status.busy": "2025-08-05T16:10:40.112652Z",
     "iopub.status.idle": "2025-08-05T16:10:40.121636Z",
     "shell.execute_reply": "2025-08-05T16:10:40.119152Z"
    },
    "papermill": {
     "duration": 0.022723,
     "end_time": "2025-08-05T16:10:40.123380",
     "exception": false,
     "start_time": "2025-08-05T16:10:40.100657",
     "status": "completed"
    },
    "tags": []
   },
   "outputs": [
    {
     "data": {
      "text/plain": [
       "accuracy                   0.217378\n",
       "balanced accuracy          0.532985\n",
       "f1                         0.238902\n",
       "precision                  0.136477\n",
       "false positive rate        0.891537\n",
       "false negative rate        0.042492\n",
       "selection rate             0.900000\n",
       "count                  89710.000000\n",
       "dtype: float64"
      ]
     },
     "execution_count": 61,
     "metadata": {},
     "output_type": "execute_result"
    }
   ],
   "source": [
    "metric_frame.overall"
   ]
  },
  {
   "cell_type": "markdown",
   "id": "e968fe9d",
   "metadata": {
    "papermill": {
     "duration": 0.022708,
     "end_time": "2025-08-05T16:10:40.170115",
     "exception": false,
     "start_time": "2025-08-05T16:10:40.147407",
     "status": "completed"
    },
    "tags": []
   },
   "source": [
    "By Group"
   ]
  },
  {
   "cell_type": "code",
   "execution_count": 62,
   "id": "ec325bce",
   "metadata": {
    "execution": {
     "iopub.execute_input": "2025-08-05T16:10:40.215766Z",
     "iopub.status.busy": "2025-08-05T16:10:40.215089Z",
     "iopub.status.idle": "2025-08-05T16:10:40.231698Z",
     "shell.execute_reply": "2025-08-05T16:10:40.230662Z"
    },
    "papermill": {
     "duration": 0.04371,
     "end_time": "2025-08-05T16:10:40.233570",
     "exception": false,
     "start_time": "2025-08-05T16:10:40.189860",
     "status": "completed"
    },
    "tags": []
   },
   "outputs": [
    {
     "data": {
      "text/html": [
       "<div>\n",
       "<style scoped>\n",
       "    .dataframe tbody tr th:only-of-type {\n",
       "        vertical-align: middle;\n",
       "    }\n",
       "\n",
       "    .dataframe tbody tr th {\n",
       "        vertical-align: top;\n",
       "    }\n",
       "\n",
       "    .dataframe thead th {\n",
       "        text-align: right;\n",
       "    }\n",
       "</style>\n",
       "<table border=\"1\" class=\"dataframe\">\n",
       "  <thead>\n",
       "    <tr style=\"text-align: right;\">\n",
       "      <th></th>\n",
       "      <th>accuracy</th>\n",
       "      <th>balanced accuracy</th>\n",
       "      <th>f1</th>\n",
       "      <th>precision</th>\n",
       "      <th>false positive rate</th>\n",
       "      <th>false negative rate</th>\n",
       "      <th>selection rate</th>\n",
       "      <th>count</th>\n",
       "    </tr>\n",
       "    <tr>\n",
       "      <th>majmin</th>\n",
       "      <th></th>\n",
       "      <th></th>\n",
       "      <th></th>\n",
       "      <th></th>\n",
       "      <th></th>\n",
       "      <th></th>\n",
       "      <th></th>\n",
       "      <th></th>\n",
       "    </tr>\n",
       "  </thead>\n",
       "  <tbody>\n",
       "    <tr>\n",
       "      <th>majority</th>\n",
       "      <td>0.238282</td>\n",
       "      <td>0.540701</td>\n",
       "      <td>0.248238</td>\n",
       "      <td>0.142733</td>\n",
       "      <td>0.870348</td>\n",
       "      <td>0.048249</td>\n",
       "      <td>0.881105</td>\n",
       "      <td>69170.0</td>\n",
       "    </tr>\n",
       "    <tr>\n",
       "      <th>minority</th>\n",
       "      <td>0.146981</td>\n",
       "      <td>0.509098</td>\n",
       "      <td>0.209377</td>\n",
       "      <td>0.117213</td>\n",
       "      <td>0.961534</td>\n",
       "      <td>0.020270</td>\n",
       "      <td>0.963632</td>\n",
       "      <td>20540.0</td>\n",
       "    </tr>\n",
       "  </tbody>\n",
       "</table>\n",
       "</div>"
      ],
      "text/plain": [
       "          accuracy  balanced accuracy        f1  precision  \\\n",
       "majmin                                                       \n",
       "majority  0.238282           0.540701  0.248238   0.142733   \n",
       "minority  0.146981           0.509098  0.209377   0.117213   \n",
       "\n",
       "          false positive rate  false negative rate  selection rate    count  \n",
       "majmin                                                                       \n",
       "majority             0.870348             0.048249        0.881105  69170.0  \n",
       "minority             0.961534             0.020270        0.963632  20540.0  "
      ]
     },
     "execution_count": 62,
     "metadata": {},
     "output_type": "execute_result"
    }
   ],
   "source": [
    "metric_frame.by_group"
   ]
  },
  {
   "cell_type": "code",
   "execution_count": 63,
   "id": "a9ddbe63",
   "metadata": {
    "execution": {
     "iopub.execute_input": "2025-08-05T16:10:40.282055Z",
     "iopub.status.busy": "2025-08-05T16:10:40.281069Z",
     "iopub.status.idle": "2025-08-05T16:10:41.891338Z",
     "shell.execute_reply": "2025-08-05T16:10:41.890366Z"
    },
    "papermill": {
     "duration": 1.634867,
     "end_time": "2025-08-05T16:10:41.892611",
     "exception": false,
     "start_time": "2025-08-05T16:10:40.257744",
     "status": "completed"
    },
    "tags": []
   },
   "outputs": [
    {
     "data": {
      "text/plain": [
       "array([[<Axes: title={'center': 'accuracy'}, xlabel='majmin'>,\n",
       "        <Axes: title={'center': 'balanced accuracy'}, xlabel='majmin'>,\n",
       "        <Axes: title={'center': 'f1'}, xlabel='majmin'>],\n",
       "       [<Axes: title={'center': 'precision'}, xlabel='majmin'>,\n",
       "        <Axes: title={'center': 'false positive rate'}, xlabel='majmin'>,\n",
       "        <Axes: title={'center': 'false negative rate'}, xlabel='majmin'>],\n",
       "       [<Axes: title={'center': 'selection rate'}, xlabel='majmin'>,\n",
       "        <Axes: title={'center': 'count'}, xlabel='majmin'>,\n",
       "        <Axes: xlabel='majmin'>]], dtype=object)"
      ]
     },
     "execution_count": 63,
     "metadata": {},
     "output_type": "execute_result"
    },
    {
     "data": {
      "image/png": "[encoded data removed]",
      "text/plain": [
       "<Figure size 1200x800 with 9 Axes>"
      ]
     },
     "metadata": {},
     "output_type": "display_data"
    }
   ],
   "source": [
    "# In a graphic\n",
    "metric_frame.by_group.plot.bar(\n",
    "    subplots=True,\n",
    "    layout=[3, 3],\n",
    "    legend=False,\n",
    "    figsize=[12, 8],\n",
    "    title=\"Show all metrics\",\n",
    ")"
   ]
  },
  {
   "cell_type": "markdown",
   "id": "f57a0bac",
   "metadata": {
    "papermill": {
     "duration": 0.012457,
     "end_time": "2025-08-05T16:10:41.918217",
     "exception": false,
     "start_time": "2025-08-05T16:10:41.905760",
     "status": "completed"
    },
    "tags": []
   },
   "source": [
    "# Final Output"
   ]
  },
  {
   "cell_type": "code",
   "execution_count": 64,
   "id": "96d280a3",
   "metadata": {
    "execution": {
     "iopub.execute_input": "2025-08-05T16:10:41.943802Z",
     "iopub.status.busy": "2025-08-05T16:10:41.943383Z",
     "iopub.status.idle": "2025-08-05T16:10:41.949888Z",
     "shell.execute_reply": "2025-08-05T16:10:41.949161Z"
    },
    "papermill": {
     "duration": 0.020883,
     "end_time": "2025-08-05T16:10:41.951249",
     "exception": false,
     "start_time": "2025-08-05T16:10:41.930366",
     "status": "completed"
    },
    "tags": []
   },
   "outputs": [
    {
     "data": {
      "text/plain": [
       "4"
      ]
     },
     "execution_count": 64,
     "metadata": {},
     "output_type": "execute_result"
    }
   ],
   "source": [
    "sub_universes = universe_analysis.generate_sub_universes()\n",
    "len(sub_universes)"
   ]
  },
  {
   "cell_type": "code",
   "execution_count": 65,
   "id": "92adf7ba",
   "metadata": {
    "execution": {
     "iopub.execute_input": "2025-08-05T16:10:41.977672Z",
     "iopub.status.busy": "2025-08-05T16:10:41.977165Z",
     "iopub.status.idle": "2025-08-05T16:10:41.982235Z",
     "shell.execute_reply": "2025-08-05T16:10:41.981365Z"
    },
    "papermill": {
     "duration": 0.02014,
     "end_time": "2025-08-05T16:10:41.983625",
     "exception": false,
     "start_time": "2025-08-05T16:10:41.963485",
     "status": "completed"
    },
    "tags": []
   },
   "outputs": [],
   "source": [
    "def filter_sub_universe_data(sub_universe, org_test):\n",
    "    # Keep all rows — no filtering\n",
    "    keep_rows_mask = np.ones(org_test.shape[0], dtype=bool)\n",
    "\n",
    "    print(f\"[INFO] Keeping all rows: {keep_rows_mask.sum()} rows retained.\")\n",
    "    return keep_rows_mask"
   ]
  },
  {
   "cell_type": "code",
   "execution_count": 66,
   "id": "4a759155",
   "metadata": {
    "execution": {
     "iopub.execute_input": "2025-08-05T16:10:42.010049Z",
     "iopub.status.busy": "2025-08-05T16:10:42.009639Z",
     "iopub.status.idle": "2025-08-05T16:10:50.553175Z",
     "shell.execute_reply": "2025-08-05T16:10:50.552298Z"
    },
    "papermill": {
     "duration": 8.558003,
     "end_time": "2025-08-05T16:10:50.554594",
     "exception": false,
     "start_time": "2025-08-05T16:10:41.996591",
     "status": "completed"
    },
    "tags": []
   },
   "outputs": [
    {
     "name": "stdout",
     "output_type": "stream",
     "text": [
      "Stopping execution_time clock.\n",
      "[INFO] Keeping all rows: 89710 rows retained.\n"
     ]
    },
    {
     "name": "stdout",
     "output_type": "stream",
     "text": [
      "[INFO] Keeping all rows: 89710 rows retained.\n"
     ]
    },
    {
     "name": "stdout",
     "output_type": "stream",
     "text": [
      "[INFO] Keeping all rows: 89710 rows retained.\n"
     ]
    },
    {
     "name": "stdout",
     "output_type": "stream",
     "text": [
      "[INFO] Keeping all rows: 89710 rows retained.\n"
     ]
    },
    {
     "data": {
      "text/html": [
       "<div>\n",
       "<style scoped>\n",
       "    .dataframe tbody tr th:only-of-type {\n",
       "        vertical-align: middle;\n",
       "    }\n",
       "\n",
       "    .dataframe tbody tr th {\n",
       "        vertical-align: top;\n",
       "    }\n",
       "\n",
       "    .dataframe thead th {\n",
       "        text-align: right;\n",
       "    }\n",
       "</style>\n",
       "<table border=\"1\" class=\"dataframe\">\n",
       "  <thead>\n",
       "    <tr style=\"text-align: right;\">\n",
       "      <th></th>\n",
       "      <th>run_no</th>\n",
       "      <th>universe_id</th>\n",
       "      <th>universe_settings</th>\n",
       "      <th>execution_time</th>\n",
       "      <th>test_size_n</th>\n",
       "      <th>test_size_frac</th>\n",
       "      <th>fair_main_equalized_odds_difference</th>\n",
       "      <th>fair_main_equalized_odds_ratio</th>\n",
       "      <th>fair_main_demographic_parity_difference</th>\n",
       "      <th>fair_main_demographic_parity_ratio</th>\n",
       "      <th>...</th>\n",
       "      <th>perf_grp_precision_0</th>\n",
       "      <th>perf_grp_precision_1</th>\n",
       "      <th>perf_grp_false positive rate_0</th>\n",
       "      <th>perf_grp_false positive rate_1</th>\n",
       "      <th>perf_grp_false negative rate_0</th>\n",
       "      <th>perf_grp_false negative rate_1</th>\n",
       "      <th>perf_grp_selection rate_0</th>\n",
       "      <th>perf_grp_selection rate_1</th>\n",
       "      <th>perf_grp_count_0</th>\n",
       "      <th>perf_grp_count_1</th>\n",
       "    </tr>\n",
       "  </thead>\n",
       "  <tbody>\n",
       "    <tr>\n",
       "      <th>0</th>\n",
       "      <td>15</td>\n",
       "      <td>524e60490dd7deafadfabcef2bd3d5ef</td>\n",
       "      <td>{\"cutoff\": \"quantile_0.1\", \"eval_fairness_grou...</td>\n",
       "      <td>23.005314</td>\n",
       "      <td>89710</td>\n",
       "      <td>1.0</td>\n",
       "      <td>0.091186</td>\n",
       "      <td>0.905166</td>\n",
       "      <td>0.082527</td>\n",
       "      <td>0.914358</td>\n",
       "      <td>...</td>\n",
       "      <td>NaN</td>\n",
       "      <td>NaN</td>\n",
       "      <td>NaN</td>\n",
       "      <td>NaN</td>\n",
       "      <td>NaN</td>\n",
       "      <td>NaN</td>\n",
       "      <td>NaN</td>\n",
       "      <td>NaN</td>\n",
       "      <td>NaN</td>\n",
       "      <td>NaN</td>\n",
       "    </tr>\n",
       "    <tr>\n",
       "      <th>0</th>\n",
       "      <td>15</td>\n",
       "      <td>524e60490dd7deafadfabcef2bd3d5ef</td>\n",
       "      <td>{\"cutoff\": \"quantile_0.1\", \"eval_fairness_grou...</td>\n",
       "      <td>23.005314</td>\n",
       "      <td>89710</td>\n",
       "      <td>1.0</td>\n",
       "      <td>0.091186</td>\n",
       "      <td>0.905166</td>\n",
       "      <td>0.082527</td>\n",
       "      <td>0.914358</td>\n",
       "      <td>...</td>\n",
       "      <td>0.117213</td>\n",
       "      <td>0.142733</td>\n",
       "      <td>0.961534</td>\n",
       "      <td>0.870348</td>\n",
       "      <td>0.020270</td>\n",
       "      <td>0.048249</td>\n",
       "      <td>0.963632</td>\n",
       "      <td>0.881105</td>\n",
       "      <td>20540.0</td>\n",
       "      <td>69170.0</td>\n",
       "    </tr>\n",
       "    <tr>\n",
       "      <th>0</th>\n",
       "      <td>15</td>\n",
       "      <td>524e60490dd7deafadfabcef2bd3d5ef</td>\n",
       "      <td>{\"cutoff\": \"quantile_0.25\", \"eval_fairness_gro...</td>\n",
       "      <td>23.005314</td>\n",
       "      <td>89710</td>\n",
       "      <td>1.0</td>\n",
       "      <td>0.208111</td>\n",
       "      <td>0.766758</td>\n",
       "      <td>0.190635</td>\n",
       "      <td>0.787471</td>\n",
       "      <td>...</td>\n",
       "      <td>NaN</td>\n",
       "      <td>NaN</td>\n",
       "      <td>NaN</td>\n",
       "      <td>NaN</td>\n",
       "      <td>NaN</td>\n",
       "      <td>NaN</td>\n",
       "      <td>NaN</td>\n",
       "      <td>NaN</td>\n",
       "      <td>NaN</td>\n",
       "      <td>NaN</td>\n",
       "    </tr>\n",
       "    <tr>\n",
       "      <th>0</th>\n",
       "      <td>15</td>\n",
       "      <td>524e60490dd7deafadfabcef2bd3d5ef</td>\n",
       "      <td>{\"cutoff\": \"quantile_0.25\", \"eval_fairness_gro...</td>\n",
       "      <td>23.005314</td>\n",
       "      <td>89710</td>\n",
       "      <td>1.0</td>\n",
       "      <td>0.208111</td>\n",
       "      <td>0.766758</td>\n",
       "      <td>0.190635</td>\n",
       "      <td>0.787471</td>\n",
       "      <td>...</td>\n",
       "      <td>0.119952</td>\n",
       "      <td>0.159421</td>\n",
       "      <td>0.892252</td>\n",
       "      <td>0.684141</td>\n",
       "      <td>0.066723</td>\n",
       "      <td>0.147812</td>\n",
       "      <td>0.896981</td>\n",
       "      <td>0.706347</td>\n",
       "      <td>20540.0</td>\n",
       "      <td>69170.0</td>\n",
       "    </tr>\n",
       "  </tbody>\n",
       "</table>\n",
       "<p>4 rows × 50 columns</p>\n",
       "</div>"
      ],
      "text/plain": [
       "  run_no                       universe_id  \\\n",
       "0     15  524e60490dd7deafadfabcef2bd3d5ef   \n",
       "0     15  524e60490dd7deafadfabcef2bd3d5ef   \n",
       "0     15  524e60490dd7deafadfabcef2bd3d5ef   \n",
       "0     15  524e60490dd7deafadfabcef2bd3d5ef   \n",
       "\n",
       "                                   universe_settings  execution_time  \\\n",
       "0  {\"cutoff\": \"quantile_0.1\", \"eval_fairness_grou...       23.005314   \n",
       "0  {\"cutoff\": \"quantile_0.1\", \"eval_fairness_grou...       23.005314   \n",
       "0  {\"cutoff\": \"quantile_0.25\", \"eval_fairness_gro...       23.005314   \n",
       "0  {\"cutoff\": \"quantile_0.25\", \"eval_fairness_gro...       23.005314   \n",
       "\n",
       "   test_size_n  test_size_frac  fair_main_equalized_odds_difference  \\\n",
       "0        89710             1.0                             0.091186   \n",
       "0        89710             1.0                             0.091186   \n",
       "0        89710             1.0                             0.208111   \n",
       "0        89710             1.0                             0.208111   \n",
       "\n",
       "   fair_main_equalized_odds_ratio  fair_main_demographic_parity_difference  \\\n",
       "0                        0.905166                                 0.082527   \n",
       "0                        0.905166                                 0.082527   \n",
       "0                        0.766758                                 0.190635   \n",
       "0                        0.766758                                 0.190635   \n",
       "\n",
       "   fair_main_demographic_parity_ratio  ...  perf_grp_precision_0  \\\n",
       "0                            0.914358  ...                   NaN   \n",
       "0                            0.914358  ...              0.117213   \n",
       "0                            0.787471  ...                   NaN   \n",
       "0                            0.787471  ...              0.119952   \n",
       "\n",
       "   perf_grp_precision_1  perf_grp_false positive rate_0  \\\n",
       "0                   NaN                             NaN   \n",
       "0              0.142733                        0.961534   \n",
       "0                   NaN                             NaN   \n",
       "0              0.159421                        0.892252   \n",
       "\n",
       "   perf_grp_false positive rate_1  perf_grp_false negative rate_0  \\\n",
       "0                             NaN                             NaN   \n",
       "0                        0.870348                        0.020270   \n",
       "0                             NaN                             NaN   \n",
       "0                        0.684141                        0.066723   \n",
       "\n",
       "   perf_grp_false negative rate_1  perf_grp_selection rate_0  \\\n",
       "0                             NaN                        NaN   \n",
       "0                        0.048249                   0.963632   \n",
       "0                             NaN                        NaN   \n",
       "0                        0.147812                   0.896981   \n",
       "\n",
       "   perf_grp_selection rate_1  perf_grp_count_0  perf_grp_count_1  \n",
       "0                        NaN               NaN               NaN  \n",
       "0                   0.881105           20540.0           69170.0  \n",
       "0                        NaN               NaN               NaN  \n",
       "0                   0.706347           20540.0           69170.0  \n",
       "\n",
       "[4 rows x 50 columns]"
      ]
     },
     "execution_count": 66,
     "metadata": {},
     "output_type": "execute_result"
    }
   ],
   "source": [
    "final_output = universe_analysis.generate_final_output(\n",
    "    y_pred_prob=probs_test,\n",
    "    y_test=y_true,\n",
    "    org_test=org_test,\n",
    "    filter_data=filter_sub_universe_data,\n",
    "    cp_metrics_df=cp_metrics_df,\n",
    "    save=True,\n",
    ")\n",
    "final_output"
   ]
  }
 ],
 "metadata": {
  "celltoolbar": "Tags",
  "kernelspec": {
   "display_name": "Python (CMA Fairness)",
   "language": "python",
   "name": "cma_fair_env"
  },
  "language_info": {
   "codemirror_mode": {
    "name": "ipython",
    "version": 3
   },
   "file_extension": ".py",
   "mimetype": "text/x-python",
   "name": "python",
   "nbconvert_exporter": "python",
   "pygments_lexer": "ipython3",
   "version": "3.10.12"
  },
  "papermill": {
   "default_parameters": {},
   "duration": 35.598426,
   "end_time": "2025-08-05T16:10:51.389296",
   "environment_variables": {},
   "exception": null,
   "input_path": "universe_analysis.ipynb",
   "output_path": "output/runs/15/notebooks/m_15-524e60490dd7deafadfabcef2bd3d5ef.ipynb",
   "parameters": {
    "output_dir": "output",
    "run_no": "15",
    "seed": "2023",
    "universe": "{\"cutoff\": [\"quantile_0.1\", \"quantile_0.25\"], \"eval_fairness_grouping\": [\"majority-minority\", \"nationality-all\"], \"exclude_features\": \"nationality-sex\", \"exclude_subgroups\": \"keep-all\", \"model\": \"penalized_logreg\", \"scale\": \"do-not-scale\", \"training_size\": \"1k\", \"training_year\": \"2014\"}",
    "universe_id": "524e60490dd7deafadfabcef2bd3d5ef"
   },
   "start_time": "2025-08-05T16:10:15.790870",
   "version": "2.6.0"
  }
 },
 "nbformat": 4,
 "nbformat_minor": 5
}