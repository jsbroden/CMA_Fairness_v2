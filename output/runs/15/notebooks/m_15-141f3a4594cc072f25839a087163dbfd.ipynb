{
 "cells": [
  {
   "cell_type": "code",
   "execution_count": 1,
   "id": "f159f837-637b-42ba-96b5-ec9a68c44524",
   "metadata": {
    "execution": {
     "iopub.execute_input": "2025-08-05T16:18:13.173741Z",
     "iopub.status.busy": "2025-08-05T16:18:13.173139Z",
     "iopub.status.idle": "2025-08-05T16:18:13.189983Z",
     "shell.execute_reply": "2025-08-05T16:18:13.188846Z"
    },
    "papermill": {
     "duration": 0.038412,
     "end_time": "2025-08-05T16:18:13.191989",
     "exception": false,
     "start_time": "2025-08-05T16:18:13.153577",
     "status": "completed"
    },
    "tags": []
   },
   "outputs": [
    {
     "name": "stdout",
     "output_type": "stream",
     "text": [
      "/dss/dsshome1/0C/ra93lal2/cma/CMA_Fairness_v2\n"
     ]
    },
    {
     "name": "stderr",
     "output_type": "stream",
     "text": [
      "/dss/dsshome1/0C/ra93lal2/.local/share/virtualenvs/CMA_Fairness_v2-3j10GkSs/lib/python3.10/site-packages/IPython/core/magics/osm.py:393: UserWarning: This is now an optional IPython functionality, using bookmarks requires you to install the `pickleshare` library.\n",
      "  bkms = self.shell.db.get('bookmarks', {})\n",
      "/dss/dsshome1/0C/ra93lal2/.local/share/virtualenvs/CMA_Fairness_v2-3j10GkSs/lib/python3.10/site-packages/IPython/core/magics/osm.py:417: UserWarning: This is now an optional IPython functionality, setting dhist requires you to install the `pickleshare` library.\n",
      "  self.shell.db['dhist'] = compress_dhist(dhist)[-100:]\n"
     ]
    }
   ],
   "source": [
    "%cd ~/cma/CMA_Fairness_v2"
   ]
  },
  {
   "cell_type": "markdown",
   "id": "de2603b9",
   "metadata": {
    "papermill": {
     "duration": 0.012335,
     "end_time": "2025-08-05T16:18:13.226284",
     "exception": false,
     "start_time": "2025-08-05T16:18:13.213949",
     "status": "completed"
    },
    "tags": []
   },
   "source": [
    "The following cell holds the definition of our parameters, these values can be overriden by rendering the with e.g. the following command:\n",
    "\n",
    "papermill -p alpha 0.2 -p ratio 0.3 universe_analysis.ipynb output/test_run.ipynb"
   ]
  },
  {
   "cell_type": "code",
   "execution_count": 2,
   "id": "a80968a0-40bb-4fa9-85ef-2d5eefb01975",
   "metadata": {
    "execution": {
     "iopub.execute_input": "2025-08-05T16:18:13.249366Z",
     "iopub.status.busy": "2025-08-05T16:18:13.248904Z",
     "iopub.status.idle": "2025-08-05T16:18:13.255136Z",
     "shell.execute_reply": "2025-08-05T16:18:13.254051Z"
    },
    "papermill": {
     "duration": 0.019772,
     "end_time": "2025-08-05T16:18:13.256785",
     "exception": false,
     "start_time": "2025-08-05T16:18:13.237013",
     "status": "completed"
    },
    "tags": []
   },
   "outputs": [
    {
     "name": "stdout",
     "output_type": "stream",
     "text": [
      "Current working directory: /dss/dsshome1/0C/ra93lal2/cma/CMA_Fairness_v2\n"
     ]
    }
   ],
   "source": [
    "import os\n",
    "print(\"Current working directory:\", os.getcwd())"
   ]
  },
  {
   "cell_type": "code",
   "execution_count": 3,
   "id": "2dce4c03",
   "metadata": {
    "execution": {
     "iopub.execute_input": "2025-08-05T16:18:13.280942Z",
     "iopub.status.busy": "2025-08-05T16:18:13.280540Z",
     "iopub.status.idle": "2025-08-05T16:18:13.286222Z",
     "shell.execute_reply": "2025-08-05T16:18:13.285309Z"
    },
    "papermill": {
     "duration": 0.019558,
     "end_time": "2025-08-05T16:18:13.287793",
     "exception": false,
     "start_time": "2025-08-05T16:18:13.268235",
     "status": "completed"
    },
    "tags": [
     "parameters"
    ]
   },
   "outputs": [],
   "source": [
    "run_no = 0\n",
    "universe_id = \"test\"\n",
    "universe = {\n",
    "    \"training_size\": \"25k\", # \"25k\", \"5k\", \"1k\"\n",
    "    \"training_year\": \"2014\", # \"2014\", \"2012_14\", \"2010_14\"\n",
    "    \"scale\": \"scale\", # \"scale\", \"do-not-scale\",\n",
    "    \"model\": \"elasticnet\", # \"logreg\", \"penalized_logreg\", \"rf\", \"gbm\", \"elasticnet\"\n",
    "    \"cutoff\": [\"quantile_0.15\", \"quantile_0.30\"],\n",
    "    \"exclude_features\": \"age\", # \"none\", \"nationality\", \"sex\", \"nationality-sex\", \"age\"\n",
    "    \"exclude_subgroups\": \"keep-all\", # \"keep-all\", \"drop-non-german\"\n",
    "    \"eval_fairness_grouping\": [\"majority-minority\", \"nationality-all\"]\n",
    "}\n",
    "\n",
    "output_dir=\"./output\"\n",
    "seed=0"
   ]
  },
  {
   "cell_type": "code",
   "execution_count": 4,
   "id": "19be22dc",
   "metadata": {
    "execution": {
     "iopub.execute_input": "2025-08-05T16:18:13.311625Z",
     "iopub.status.busy": "2025-08-05T16:18:13.311228Z",
     "iopub.status.idle": "2025-08-05T16:18:13.316233Z",
     "shell.execute_reply": "2025-08-05T16:18:13.315186Z"
    },
    "papermill": {
     "duration": 0.018496,
     "end_time": "2025-08-05T16:18:13.317813",
     "exception": false,
     "start_time": "2025-08-05T16:18:13.299317",
     "status": "completed"
    },
    "tags": [
     "injected-parameters"
    ]
   },
   "outputs": [],
   "source": [
    "# Parameters\n",
    "universe_id = \"141f3a4594cc072f25839a087163dbfd\"\n",
    "run_no = \"15\"\n",
    "universe = \"{\\\"cutoff\\\": [\\\"quantile_0.1\\\", \\\"quantile_0.25\\\"], \\\"eval_fairness_grouping\\\": [\\\"majority-minority\\\", \\\"nationality-all\\\"], \\\"exclude_features\\\": \\\"age\\\", \\\"exclude_subgroups\\\": \\\"drop-non-german\\\", \\\"model\\\": \\\"penalized_logreg\\\", \\\"scale\\\": \\\"scale\\\", \\\"training_size\\\": \\\"1k\\\", \\\"training_year\\\": \\\"2012_14\\\"}\"\n",
    "output_dir = \"output\"\n",
    "seed = \"2023\"\n"
   ]
  },
  {
   "cell_type": "code",
   "execution_count": 5,
   "id": "1650acaf",
   "metadata": {
    "execution": {
     "iopub.execute_input": "2025-08-05T16:18:13.342281Z",
     "iopub.status.busy": "2025-08-05T16:18:13.341420Z",
     "iopub.status.idle": "2025-08-05T16:18:13.346751Z",
     "shell.execute_reply": "2025-08-05T16:18:13.345919Z"
    },
    "papermill": {
     "duration": 0.019372,
     "end_time": "2025-08-05T16:18:13.348548",
     "exception": false,
     "start_time": "2025-08-05T16:18:13.329176",
     "status": "completed"
    },
    "tags": []
   },
   "outputs": [],
   "source": [
    "import json\n",
    "if isinstance(universe, str):\n",
    "    universe = json.loads(universe)"
   ]
  },
  {
   "cell_type": "code",
   "execution_count": 6,
   "id": "16620c48",
   "metadata": {
    "execution": {
     "iopub.execute_input": "2025-08-05T16:18:13.373481Z",
     "iopub.status.busy": "2025-08-05T16:18:13.372864Z",
     "iopub.status.idle": "2025-08-05T16:18:13.407986Z",
     "shell.execute_reply": "2025-08-05T16:18:13.406977Z"
    },
    "papermill": {
     "duration": 0.049174,
     "end_time": "2025-08-05T16:18:13.409784",
     "exception": false,
     "start_time": "2025-08-05T16:18:13.360610",
     "status": "completed"
    },
    "tags": []
   },
   "outputs": [],
   "source": [
    "# Auto-reload the custom package\n",
    "%load_ext autoreload\n",
    "%autoreload 1\n",
    "%aimport fairness_multiverse"
   ]
  },
  {
   "cell_type": "code",
   "execution_count": 7,
   "id": "01c5c9f3",
   "metadata": {
    "execution": {
     "iopub.execute_input": "2025-08-05T16:18:13.433312Z",
     "iopub.status.busy": "2025-08-05T16:18:13.432896Z",
     "iopub.status.idle": "2025-08-05T16:18:15.159891Z",
     "shell.execute_reply": "2025-08-05T16:18:15.159026Z"
    },
    "papermill": {
     "duration": 1.740266,
     "end_time": "2025-08-05T16:18:15.161635",
     "exception": false,
     "start_time": "2025-08-05T16:18:13.421369",
     "status": "completed"
    },
    "tags": []
   },
   "outputs": [],
   "source": [
    "from fairness_multiverse.universe import UniverseAnalysis\n",
    "\n",
    "universe_analysis = UniverseAnalysis(\n",
    "    run_no = run_no,\n",
    "    universe_id = universe_id,\n",
    "    universe = universe,\n",
    "    output_dir=output_dir,\n",
    ")"
   ]
  },
  {
   "cell_type": "code",
   "execution_count": 8,
   "id": "106241f5",
   "metadata": {
    "execution": {
     "iopub.execute_input": "2025-08-05T16:18:15.184614Z",
     "iopub.status.busy": "2025-08-05T16:18:15.184253Z",
     "iopub.status.idle": "2025-08-05T16:18:15.190904Z",
     "shell.execute_reply": "2025-08-05T16:18:15.190137Z"
    },
    "papermill": {
     "duration": 0.019526,
     "end_time": "2025-08-05T16:18:15.192372",
     "exception": false,
     "start_time": "2025-08-05T16:18:15.172846",
     "status": "completed"
    },
    "tags": []
   },
   "outputs": [
    {
     "name": "stdout",
     "output_type": "stream",
     "text": [
      "Using Seed: 2023\n"
     ]
    }
   ],
   "source": [
    "import numpy as np\n",
    "parsed_seed = int(seed)\n",
    "np.random.seed(parsed_seed)\n",
    "print(f\"Using Seed: {parsed_seed}\")"
   ]
  },
  {
   "cell_type": "markdown",
   "id": "e0ebdc57",
   "metadata": {
    "papermill": {
     "duration": 0.010426,
     "end_time": "2025-08-05T16:18:15.213561",
     "exception": false,
     "start_time": "2025-08-05T16:18:15.203135",
     "status": "completed"
    },
    "tags": []
   },
   "source": [
    "# Loading Data"
   ]
  },
  {
   "cell_type": "code",
   "execution_count": 9,
   "id": "f0496b8a",
   "metadata": {
    "execution": {
     "iopub.execute_input": "2025-08-05T16:18:15.236140Z",
     "iopub.status.busy": "2025-08-05T16:18:15.235540Z",
     "iopub.status.idle": "2025-08-05T16:18:28.607284Z",
     "shell.execute_reply": "2025-08-05T16:18:28.605851Z"
    },
    "papermill": {
     "duration": 13.385102,
     "end_time": "2025-08-05T16:18:28.609224",
     "exception": false,
     "start_time": "2025-08-05T16:18:15.224122",
     "status": "completed"
    },
    "tags": []
   },
   "outputs": [
    {
     "name": "stdout",
     "output_type": "stream",
     "text": [
      "Loading SIAB data from cache: data/siab_cached.csv.gz\n"
     ]
    },
    {
     "name": "stdout",
     "output_type": "stream",
     "text": [
      "(643690, 164)\n"
     ]
    }
   ],
   "source": [
    "from pathlib import Path\n",
    "import pandas as pd\n",
    "\n",
    "# File paths\n",
    "raw_file = Path(\"data/raw/siab.csv\")\n",
    "cache_file = Path(\"data/siab_cached.csv.gz\")\n",
    "\n",
    "# Ensure cache directory exists\n",
    "cache_file.parent.mkdir(parents=True, exist_ok=True)\n",
    "\n",
    "# Load with simple caching\n",
    "if cache_file.exists():\n",
    "    print(f\"Loading SIAB data from cache: {cache_file}\")\n",
    "    siab = pd.read_csv(cache_file, compression='gzip')\n",
    "else:\n",
    "    print(f\"Cache not found. Reading raw SIAB data: {raw_file}\")\n",
    "    siab = pd.read_csv(raw_file)\n",
    "    siab.to_csv(cache_file, index=False, compression='gzip')\n",
    "    print(f\"Cached SIAB data to: {cache_file}\")\n",
    "\n",
    "print(siab.shape)"
   ]
  },
  {
   "cell_type": "code",
   "execution_count": 10,
   "id": "db0ca512-5f53-4dba-abdb-a2888bca41ba",
   "metadata": {
    "execution": {
     "iopub.execute_input": "2025-08-05T16:18:28.657207Z",
     "iopub.status.busy": "2025-08-05T16:18:28.656289Z",
     "iopub.status.idle": "2025-08-05T16:18:28.663274Z",
     "shell.execute_reply": "2025-08-05T16:18:28.662154Z"
    },
    "papermill": {
     "duration": 0.031622,
     "end_time": "2025-08-05T16:18:28.665283",
     "exception": false,
     "start_time": "2025-08-05T16:18:28.633661",
     "status": "completed"
    },
    "tags": []
   },
   "outputs": [],
   "source": [
    "#siab"
   ]
  },
  {
   "cell_type": "markdown",
   "id": "997051c5-15bd-4b69-9786-c3001a3ce484",
   "metadata": {
    "papermill": {
     "duration": 0.021442,
     "end_time": "2025-08-05T16:18:28.708102",
     "exception": false,
     "start_time": "2025-08-05T16:18:28.686660",
     "status": "completed"
    },
    "tags": []
   },
   "source": [
    "# Splitting Data and Setting Training Data Size"
   ]
  },
  {
   "cell_type": "code",
   "execution_count": 11,
   "id": "aea9c6ef-6f46-42c8-85eb-5a62025c1508",
   "metadata": {
    "execution": {
     "iopub.execute_input": "2025-08-05T16:18:28.754187Z",
     "iopub.status.busy": "2025-08-05T16:18:28.753212Z",
     "iopub.status.idle": "2025-08-05T16:18:29.392782Z",
     "shell.execute_reply": "2025-08-05T16:18:29.391648Z"
    },
    "papermill": {
     "duration": 0.665372,
     "end_time": "2025-08-05T16:18:29.395183",
     "exception": false,
     "start_time": "2025-08-05T16:18:28.729811",
     "status": "completed"
    },
    "tags": []
   },
   "outputs": [],
   "source": [
    "from fairness_multiverse.universe import sample_by_year_size\n",
    "\n",
    "siab_train = sample_by_year_size(siab,\n",
    "                               training_year=universe[\"training_year\"],\n",
    "                               training_size=universe[\"training_size\"])"
   ]
  },
  {
   "cell_type": "code",
   "execution_count": 12,
   "id": "8d3afb32-789d-442c-8d5d-9f5aa8dd2eed",
   "metadata": {
    "execution": {
     "iopub.execute_input": "2025-08-05T16:18:29.427418Z",
     "iopub.status.busy": "2025-08-05T16:18:29.426768Z",
     "iopub.status.idle": "2025-08-05T16:18:29.431908Z",
     "shell.execute_reply": "2025-08-05T16:18:29.430895Z"
    },
    "papermill": {
     "duration": 0.018601,
     "end_time": "2025-08-05T16:18:29.433451",
     "exception": false,
     "start_time": "2025-08-05T16:18:29.414850",
     "status": "completed"
    },
    "tags": []
   },
   "outputs": [],
   "source": [
    "#siab_train.shape"
   ]
  },
  {
   "cell_type": "code",
   "execution_count": 13,
   "id": "d582db68-1a4c-47fb-84fc-08518dc1975a",
   "metadata": {
    "execution": {
     "iopub.execute_input": "2025-08-05T16:18:29.458058Z",
     "iopub.status.busy": "2025-08-05T16:18:29.457494Z",
     "iopub.status.idle": "2025-08-05T16:18:29.462294Z",
     "shell.execute_reply": "2025-08-05T16:18:29.461206Z"
    },
    "papermill": {
     "duration": 0.019116,
     "end_time": "2025-08-05T16:18:29.463808",
     "exception": false,
     "start_time": "2025-08-05T16:18:29.444692",
     "status": "completed"
    },
    "tags": []
   },
   "outputs": [],
   "source": [
    "#display(siab_train.groupby(\"year\").size())"
   ]
  },
  {
   "cell_type": "code",
   "execution_count": 14,
   "id": "a561edb4-d032-42cb-8256-22eac1111c64",
   "metadata": {
    "execution": {
     "iopub.execute_input": "2025-08-05T16:18:29.488165Z",
     "iopub.status.busy": "2025-08-05T16:18:29.487584Z",
     "iopub.status.idle": "2025-08-05T16:18:29.716075Z",
     "shell.execute_reply": "2025-08-05T16:18:29.714904Z"
    },
    "papermill": {
     "duration": 0.24273,
     "end_time": "2025-08-05T16:18:29.718159",
     "exception": false,
     "start_time": "2025-08-05T16:18:29.475429",
     "status": "completed"
    },
    "tags": []
   },
   "outputs": [],
   "source": [
    "#siab_train = siab_s[siab_s.year < 2015]\n",
    "siab_calib = siab[siab.year == 2015]\n",
    "siab_test = siab[siab.year == 2016]"
   ]
  },
  {
   "cell_type": "code",
   "execution_count": 15,
   "id": "472de16f-c3db-4916-846b-1f0de9cf1746",
   "metadata": {
    "execution": {
     "iopub.execute_input": "2025-08-05T16:18:29.767383Z",
     "iopub.status.busy": "2025-08-05T16:18:29.766766Z",
     "iopub.status.idle": "2025-08-05T16:18:29.775489Z",
     "shell.execute_reply": "2025-08-05T16:18:29.774284Z"
    },
    "papermill": {
     "duration": 0.035595,
     "end_time": "2025-08-05T16:18:29.777714",
     "exception": false,
     "start_time": "2025-08-05T16:18:29.742119",
     "status": "completed"
    },
    "tags": []
   },
   "outputs": [],
   "source": [
    "X_train = siab_train.iloc[:,4:164]\n",
    "y_train = siab_train.iloc[:, [3]]"
   ]
  },
  {
   "cell_type": "code",
   "execution_count": 16,
   "id": "828c96af-f43a-4ed6-ba47-8ac73a47d56c",
   "metadata": {
    "execution": {
     "iopub.execute_input": "2025-08-05T16:18:29.832679Z",
     "iopub.status.busy": "2025-08-05T16:18:29.832066Z",
     "iopub.status.idle": "2025-08-05T16:18:29.889767Z",
     "shell.execute_reply": "2025-08-05T16:18:29.888652Z"
    },
    "papermill": {
     "duration": 0.085184,
     "end_time": "2025-08-05T16:18:29.891713",
     "exception": false,
     "start_time": "2025-08-05T16:18:29.806529",
     "status": "completed"
    },
    "tags": []
   },
   "outputs": [],
   "source": [
    "X_calib = siab_calib.iloc[:,4:164]\n",
    "y_calib = siab_calib.iloc[:, [3]]"
   ]
  },
  {
   "cell_type": "code",
   "execution_count": 17,
   "id": "c34be9c3-6bd6-476e-acd3-845840e303be",
   "metadata": {
    "execution": {
     "iopub.execute_input": "2025-08-05T16:18:29.934601Z",
     "iopub.status.busy": "2025-08-05T16:18:29.933831Z",
     "iopub.status.idle": "2025-08-05T16:18:29.994863Z",
     "shell.execute_reply": "2025-08-05T16:18:29.993770Z"
    },
    "papermill": {
     "duration": 0.084678,
     "end_time": "2025-08-05T16:18:29.997109",
     "exception": false,
     "start_time": "2025-08-05T16:18:29.912431",
     "status": "completed"
    },
    "tags": []
   },
   "outputs": [],
   "source": [
    "X_test = siab_test.iloc[:,4:164]\n",
    "y_true = siab_test.iloc[:, [3]]"
   ]
  },
  {
   "cell_type": "code",
   "execution_count": 18,
   "id": "e6c733c5",
   "metadata": {
    "execution": {
     "iopub.execute_input": "2025-08-05T16:18:30.041026Z",
     "iopub.status.busy": "2025-08-05T16:18:30.040072Z",
     "iopub.status.idle": "2025-08-05T16:18:30.146415Z",
     "shell.execute_reply": "2025-08-05T16:18:30.145275Z"
    },
    "papermill": {
     "duration": 0.130969,
     "end_time": "2025-08-05T16:18:30.148841",
     "exception": false,
     "start_time": "2025-08-05T16:18:30.017872",
     "status": "completed"
    },
    "tags": []
   },
   "outputs": [],
   "source": [
    "# Auxiliary data needed downstream in the pipeline\n",
    "\n",
    "org_train = X_train.copy()\n",
    "org_test = X_test.copy()\n",
    "org_calib = X_calib.copy()"
   ]
  },
  {
   "cell_type": "markdown",
   "id": "0a4a1b33",
   "metadata": {
    "papermill": {
     "duration": 0.020507,
     "end_time": "2025-08-05T16:18:30.191441",
     "exception": false,
     "start_time": "2025-08-05T16:18:30.170934",
     "status": "completed"
    },
    "tags": []
   },
   "source": [
    "# Preprocessing Data"
   ]
  },
  {
   "cell_type": "code",
   "execution_count": 19,
   "id": "ca879031",
   "metadata": {
    "execution": {
     "iopub.execute_input": "2025-08-05T16:18:30.234285Z",
     "iopub.status.busy": "2025-08-05T16:18:30.233713Z",
     "iopub.status.idle": "2025-08-05T16:18:30.241061Z",
     "shell.execute_reply": "2025-08-05T16:18:30.239896Z"
    },
    "papermill": {
     "duration": 0.031127,
     "end_time": "2025-08-05T16:18:30.242921",
     "exception": false,
     "start_time": "2025-08-05T16:18:30.211794",
     "status": "completed"
    },
    "tags": []
   },
   "outputs": [],
   "source": [
    "# EXCLUDE PROTECTED FEATURES\n",
    "# ----------------------\n",
    "# \"exclude_features\": \"none\", # \"nationality\", \"sex\", \"nationality-sex\"\n",
    "\n",
    "excluded_features = universe[\"exclude_features\"].split(\"-\") # split, e.g.: \"nationality-sex\" -> [\"nationality\", \"sex\"]\n",
    "excluded_features_dictionary = {\n",
    "    \"nationality\": [\"maxdeutsch1\", \"maxdeutsch.Missing.\"],\n",
    "    \"sex\": [\"frau1\"],\n",
    "    \"age\": [\"age\"],\n",
    "}"
   ]
  },
  {
   "cell_type": "code",
   "execution_count": 20,
   "id": "b745ac60",
   "metadata": {
    "execution": {
     "iopub.execute_input": "2025-08-05T16:18:30.287783Z",
     "iopub.status.busy": "2025-08-05T16:18:30.287088Z",
     "iopub.status.idle": "2025-08-05T16:18:30.294982Z",
     "shell.execute_reply": "2025-08-05T16:18:30.293745Z"
    },
    "papermill": {
     "duration": 0.033044,
     "end_time": "2025-08-05T16:18:30.297175",
     "exception": false,
     "start_time": "2025-08-05T16:18:30.264131",
     "status": "completed"
    },
    "tags": []
   },
   "outputs": [],
   "source": [
    "# Code nice names to column names\n",
    "\n",
    "excluded_features_columns = [\n",
    "    excluded_features_dictionary[f] for f in excluded_features if len(f) > 0 and f != \"none\"\n",
    "]"
   ]
  },
  {
   "cell_type": "code",
   "execution_count": 21,
   "id": "f84f73a2",
   "metadata": {
    "execution": {
     "iopub.execute_input": "2025-08-05T16:18:30.351311Z",
     "iopub.status.busy": "2025-08-05T16:18:30.350673Z",
     "iopub.status.idle": "2025-08-05T16:18:30.358374Z",
     "shell.execute_reply": "2025-08-05T16:18:30.357125Z"
    },
    "papermill": {
     "duration": 0.036592,
     "end_time": "2025-08-05T16:18:30.360640",
     "exception": false,
     "start_time": "2025-08-05T16:18:30.324048",
     "status": "completed"
    },
    "tags": []
   },
   "outputs": [],
   "source": [
    "from utils import flatten_once\n",
    "\n",
    "excluded_features_columns = flatten_once(excluded_features_columns)"
   ]
  },
  {
   "cell_type": "code",
   "execution_count": 22,
   "id": "884dea22",
   "metadata": {
    "execution": {
     "iopub.execute_input": "2025-08-05T16:18:30.413697Z",
     "iopub.status.busy": "2025-08-05T16:18:30.412612Z",
     "iopub.status.idle": "2025-08-05T16:18:30.422527Z",
     "shell.execute_reply": "2025-08-05T16:18:30.421362Z"
    },
    "papermill": {
     "duration": 0.038994,
     "end_time": "2025-08-05T16:18:30.424618",
     "exception": false,
     "start_time": "2025-08-05T16:18:30.385624",
     "status": "completed"
    },
    "tags": []
   },
   "outputs": [
    {
     "name": "stdout",
     "output_type": "stream",
     "text": [
      "Dropping features: ['age']\n"
     ]
    }
   ],
   "source": [
    "if len(excluded_features_columns) > 0:\n",
    "    print(f\"Dropping features: {excluded_features_columns}\")\n",
    "    X_train.drop(excluded_features_columns, axis=1, inplace=True)"
   ]
  },
  {
   "cell_type": "code",
   "execution_count": 23,
   "id": "95ab8b16",
   "metadata": {
    "execution": {
     "iopub.execute_input": "2025-08-05T16:18:30.478888Z",
     "iopub.status.busy": "2025-08-05T16:18:30.478079Z",
     "iopub.status.idle": "2025-08-05T16:18:30.542559Z",
     "shell.execute_reply": "2025-08-05T16:18:30.541176Z"
    },
    "papermill": {
     "duration": 0.093394,
     "end_time": "2025-08-05T16:18:30.544887",
     "exception": false,
     "start_time": "2025-08-05T16:18:30.451493",
     "status": "completed"
    },
    "tags": []
   },
   "outputs": [
    {
     "name": "stdout",
     "output_type": "stream",
     "text": [
      "Dropping features: ['age']\n"
     ]
    }
   ],
   "source": [
    "if len(excluded_features_columns) > 0:\n",
    "    print(f\"Dropping features: {excluded_features_columns}\")\n",
    "    X_test.drop(excluded_features_columns, axis=1, inplace=True)"
   ]
  },
  {
   "cell_type": "code",
   "execution_count": 24,
   "id": "1853aaf5-fb9f-46cb-a2b5-8ea4ae2237e4",
   "metadata": {
    "execution": {
     "iopub.execute_input": "2025-08-05T16:18:30.589853Z",
     "iopub.status.busy": "2025-08-05T16:18:30.588967Z",
     "iopub.status.idle": "2025-08-05T16:18:30.642499Z",
     "shell.execute_reply": "2025-08-05T16:18:30.641606Z"
    },
    "papermill": {
     "duration": 0.072804,
     "end_time": "2025-08-05T16:18:30.644059",
     "exception": false,
     "start_time": "2025-08-05T16:18:30.571255",
     "status": "completed"
    },
    "tags": []
   },
   "outputs": [
    {
     "name": "stdout",
     "output_type": "stream",
     "text": [
      "Dropping features: ['age']\n"
     ]
    }
   ],
   "source": [
    "if len(excluded_features_columns) > 0:\n",
    "    print(f\"Dropping features: {excluded_features_columns}\")\n",
    "    X_calib.drop(excluded_features_columns, axis=1, inplace=True)"
   ]
  },
  {
   "cell_type": "code",
   "execution_count": 25,
   "id": "76c4dc6d",
   "metadata": {
    "execution": {
     "iopub.execute_input": "2025-08-05T16:18:30.670426Z",
     "iopub.status.busy": "2025-08-05T16:18:30.670080Z",
     "iopub.status.idle": "2025-08-05T16:18:30.675177Z",
     "shell.execute_reply": "2025-08-05T16:18:30.674366Z"
    },
    "papermill": {
     "duration": 0.019632,
     "end_time": "2025-08-05T16:18:30.676799",
     "exception": false,
     "start_time": "2025-08-05T16:18:30.657167",
     "status": "completed"
    },
    "tags": []
   },
   "outputs": [],
   "source": [
    "# EXCLUDE CERTAIN SUBGROUPS\n",
    "# ----------------------\n",
    "\n",
    "mode = universe.get(\"exclude_subgroups\", \"keep-all\") \n",
    "# Fetches the exclude_subgroups setting from the universe dict.\n",
    "# Defaults to \"keep-all\" if the key is missing."
   ]
  },
  {
   "cell_type": "code",
   "execution_count": 26,
   "id": "21994072",
   "metadata": {
    "execution": {
     "iopub.execute_input": "2025-08-05T16:18:30.701796Z",
     "iopub.status.busy": "2025-08-05T16:18:30.701529Z",
     "iopub.status.idle": "2025-08-05T16:18:30.707120Z",
     "shell.execute_reply": "2025-08-05T16:18:30.706269Z"
    },
    "papermill": {
     "duration": 0.019715,
     "end_time": "2025-08-05T16:18:30.708693",
     "exception": false,
     "start_time": "2025-08-05T16:18:30.688978",
     "status": "completed"
    },
    "tags": []
   },
   "outputs": [],
   "source": [
    "if mode == \"keep-all\":\n",
    "    keep_mask = pd.Series(True, index=org_train.index)\n",
    "\n",
    "# org_train contains the original feature columns from features_org (in Simson)\n",
    "# features_org contains unprocessed features, for me X_train at beginning ???\n",
    "# For keep-all, creates a boolean Series (keep_mask) of all True, so no rows are removed.\n",
    "\n",
    "elif mode == \"drop-non-german\":\n",
    "    keep_mask = org_train[\"maxdeutsch1\"] == 1 # ??? what about missing values?\n",
    "\n",
    "else:\n",
    "    raise ValueError(f\"Unsupported mode for exclude_subgroups: {mode}\")"
   ]
  },
  {
   "cell_type": "code",
   "execution_count": 27,
   "id": "71651440",
   "metadata": {
    "execution": {
     "iopub.execute_input": "2025-08-05T16:18:30.734456Z",
     "iopub.status.busy": "2025-08-05T16:18:30.734175Z",
     "iopub.status.idle": "2025-08-05T16:18:30.740834Z",
     "shell.execute_reply": "2025-08-05T16:18:30.739786Z"
    },
    "papermill": {
     "duration": 0.021467,
     "end_time": "2025-08-05T16:18:30.742444",
     "exception": false,
     "start_time": "2025-08-05T16:18:30.720977",
     "status": "completed"
    },
    "tags": []
   },
   "outputs": [
    {
     "name": "stdout",
     "output_type": "stream",
     "text": [
      "Dropping 147 rows (14.70%) where mode='drop-non-german'\n"
     ]
    }
   ],
   "source": [
    "n_drop = (~keep_mask).sum() # Calculates how many rows are set to be dropped\n",
    "if n_drop > 0:\n",
    "    pct = n_drop / len(keep_mask) * 100\n",
    "    print(f\"Dropping {n_drop} rows ({pct:.2f}%) where mode='{mode}'\")"
   ]
  },
  {
   "cell_type": "code",
   "execution_count": 28,
   "id": "5fb8eee5",
   "metadata": {
    "execution": {
     "iopub.execute_input": "2025-08-05T16:18:30.775213Z",
     "iopub.status.busy": "2025-08-05T16:18:30.774760Z",
     "iopub.status.idle": "2025-08-05T16:18:30.781900Z",
     "shell.execute_reply": "2025-08-05T16:18:30.780715Z"
    },
    "papermill": {
     "duration": 0.029542,
     "end_time": "2025-08-05T16:18:30.783981",
     "exception": false,
     "start_time": "2025-08-05T16:18:30.754439",
     "status": "completed"
    },
    "tags": []
   },
   "outputs": [],
   "source": [
    "X_train = X_train[keep_mask]"
   ]
  },
  {
   "cell_type": "code",
   "execution_count": 29,
   "id": "b202bb3a",
   "metadata": {
    "execution": {
     "iopub.execute_input": "2025-08-05T16:18:30.838061Z",
     "iopub.status.busy": "2025-08-05T16:18:30.837610Z",
     "iopub.status.idle": "2025-08-05T16:18:30.844504Z",
     "shell.execute_reply": "2025-08-05T16:18:30.843382Z"
    },
    "papermill": {
     "duration": 0.036111,
     "end_time": "2025-08-05T16:18:30.846549",
     "exception": false,
     "start_time": "2025-08-05T16:18:30.810438",
     "status": "completed"
    },
    "tags": []
   },
   "outputs": [],
   "source": [
    "y_train = y_train[keep_mask]"
   ]
  },
  {
   "cell_type": "markdown",
   "id": "493e2ac3",
   "metadata": {
    "papermill": {
     "duration": 0.026707,
     "end_time": "2025-08-05T16:18:30.898962",
     "exception": false,
     "start_time": "2025-08-05T16:18:30.872255",
     "status": "completed"
    },
    "tags": []
   },
   "source": [
    "# Model Training"
   ]
  },
  {
   "cell_type": "code",
   "execution_count": 30,
   "id": "679e1268",
   "metadata": {
    "execution": {
     "iopub.execute_input": "2025-08-05T16:18:30.939261Z",
     "iopub.status.busy": "2025-08-05T16:18:30.938840Z",
     "iopub.status.idle": "2025-08-05T16:18:31.061025Z",
     "shell.execute_reply": "2025-08-05T16:18:31.060119Z"
    },
    "papermill": {
     "duration": 0.138004,
     "end_time": "2025-08-05T16:18:31.063329",
     "exception": false,
     "start_time": "2025-08-05T16:18:30.925325",
     "status": "completed"
    },
    "tags": []
   },
   "outputs": [],
   "source": [
    "from sklearn.linear_model import LogisticRegression\n",
    "from sklearn.ensemble import GradientBoostingClassifier, RandomForestClassifier\n",
    "\n",
    "if (universe[\"model\"] == \"logreg\"):\n",
    "    model = LogisticRegression() #penalty=\"none\", solver=\"newton-cg\", max_iter=1) # include random_state=19 ?\n",
    "elif (universe[\"model\"] == \"penalized_logreg\"):\n",
    "    model = LogisticRegression(penalty=\"l2\", C=0.1) #, solver=\"newton-cg\", max_iter=1)\n",
    "elif (universe[\"model\"] == \"rf\"):\n",
    "    model = RandomForestClassifier() # n_estimators=100, n_jobs=-1\n",
    "elif (universe[\"model\"] == \"gbm\"):\n",
    "    model = GradientBoostingClassifier()\n",
    "elif (universe[\"model\"] == \"elasticnet\"):\n",
    "    model = LogisticRegression(penalty = 'elasticnet', solver = 'saga', l1_ratio = 0.5) # max_iter=5000\n",
    "else:\n",
    "    raise \"Unsupported universe.model\""
   ]
  },
  {
   "cell_type": "code",
   "execution_count": 31,
   "id": "0cc8f744",
   "metadata": {
    "execution": {
     "iopub.execute_input": "2025-08-05T16:18:31.118043Z",
     "iopub.status.busy": "2025-08-05T16:18:31.117420Z",
     "iopub.status.idle": "2025-08-05T16:18:31.125471Z",
     "shell.execute_reply": "2025-08-05T16:18:31.124228Z"
    },
    "papermill": {
     "duration": 0.038512,
     "end_time": "2025-08-05T16:18:31.127622",
     "exception": false,
     "start_time": "2025-08-05T16:18:31.089110",
     "status": "completed"
    },
    "tags": []
   },
   "outputs": [],
   "source": [
    "import numpy as np\n",
    "from sklearn.pipeline import Pipeline\n",
    "from sklearn.preprocessing import StandardScaler\n",
    "\n",
    "model = Pipeline([\n",
    "    #(\"continuous_processor\", continuous_processor),\n",
    "    #(\"categorical_preprocessor\", categorical_preprocessor),\n",
    "    (\"scale\", StandardScaler() if universe[\"scale\"] == \"scale\" else None), \n",
    "    (\"model\", model),\n",
    "])"
   ]
  },
  {
   "cell_type": "code",
   "execution_count": 32,
   "id": "9442c04d",
   "metadata": {
    "execution": {
     "iopub.execute_input": "2025-08-05T16:18:31.184209Z",
     "iopub.status.busy": "2025-08-05T16:18:31.183570Z",
     "iopub.status.idle": "2025-08-05T16:18:31.227672Z",
     "shell.execute_reply": "2025-08-05T16:18:31.226827Z"
    },
    "papermill": {
     "duration": 0.074669,
     "end_time": "2025-08-05T16:18:31.229198",
     "exception": false,
     "start_time": "2025-08-05T16:18:31.154529",
     "status": "completed"
    },
    "tags": []
   },
   "outputs": [
    {
     "data": {
      "text/html": [
       "<style>#sk-container-id-1 {color: black;background-color: white;}#sk-container-id-1 pre{padding: 0;}#sk-container-id-1 div.sk-toggleable {background-color: white;}#sk-container-id-1 label.sk-toggleable__label {cursor: pointer;display: block;width: 100%;margin-bottom: 0;padding: 0.3em;box-sizing: border-box;text-align: center;}#sk-container-id-1 label.sk-toggleable__label-arrow:before {content: \"▸\";float: left;margin-right: 0.25em;color: #696969;}#sk-container-id-1 label.sk-toggleable__label-arrow:hover:before {color: black;}#sk-container-id-1 div.sk-estimator:hover label.sk-toggleable__label-arrow:before {color: black;}#sk-container-id-1 div.sk-toggleable__content {max-height: 0;max-width: 0;overflow: hidden;text-align: left;background-color: #f0f8ff;}#sk-container-id-1 div.sk-toggleable__content pre {margin: 0.2em;color: black;border-radius: 0.25em;background-color: #f0f8ff;}#sk-container-id-1 input.sk-toggleable__control:checked~div.sk-toggleable__content {max-height: 200px;max-width: 100%;overflow: auto;}#sk-container-id-1 input.sk-toggleable__control:checked~label.sk-toggleable__label-arrow:before {content: \"▾\";}#sk-container-id-1 div.sk-estimator input.sk-toggleable__control:checked~label.sk-toggleable__label {background-color: #d4ebff;}#sk-container-id-1 div.sk-label input.sk-toggleable__control:checked~label.sk-toggleable__label {background-color: #d4ebff;}#sk-container-id-1 input.sk-hidden--visually {border: 0;clip: rect(1px 1px 1px 1px);clip: rect(1px, 1px, 1px, 1px);height: 1px;margin: -1px;overflow: hidden;padding: 0;position: absolute;width: 1px;}#sk-container-id-1 div.sk-estimator {font-family: monospace;background-color: #f0f8ff;border: 1px dotted black;border-radius: 0.25em;box-sizing: border-box;margin-bottom: 0.5em;}#sk-container-id-1 div.sk-estimator:hover {background-color: #d4ebff;}#sk-container-id-1 div.sk-parallel-item::after {content: \"\";width: 100%;border-bottom: 1px solid gray;flex-grow: 1;}#sk-container-id-1 div.sk-label:hover label.sk-toggleable__label {background-color: #d4ebff;}#sk-container-id-1 div.sk-serial::before {content: \"\";position: absolute;border-left: 1px solid gray;box-sizing: border-box;top: 0;bottom: 0;left: 50%;z-index: 0;}#sk-container-id-1 div.sk-serial {display: flex;flex-direction: column;align-items: center;background-color: white;padding-right: 0.2em;padding-left: 0.2em;position: relative;}#sk-container-id-1 div.sk-item {position: relative;z-index: 1;}#sk-container-id-1 div.sk-parallel {display: flex;align-items: stretch;justify-content: center;background-color: white;position: relative;}#sk-container-id-1 div.sk-item::before, #sk-container-id-1 div.sk-parallel-item::before {content: \"\";position: absolute;border-left: 1px solid gray;box-sizing: border-box;top: 0;bottom: 0;left: 50%;z-index: -1;}#sk-container-id-1 div.sk-parallel-item {display: flex;flex-direction: column;z-index: 1;position: relative;background-color: white;}#sk-container-id-1 div.sk-parallel-item:first-child::after {align-self: flex-end;width: 50%;}#sk-container-id-1 div.sk-parallel-item:last-child::after {align-self: flex-start;width: 50%;}#sk-container-id-1 div.sk-parallel-item:only-child::after {width: 0;}#sk-container-id-1 div.sk-dashed-wrapped {border: 1px dashed gray;margin: 0 0.4em 0.5em 0.4em;box-sizing: border-box;padding-bottom: 0.4em;background-color: white;}#sk-container-id-1 div.sk-label label {font-family: monospace;font-weight: bold;display: inline-block;line-height: 1.2em;}#sk-container-id-1 div.sk-label-container {text-align: center;}#sk-container-id-1 div.sk-container {/* jupyter's `normalize.less` sets `[hidden] { display: none; }` but bootstrap.min.css set `[hidden] { display: none !important; }` so we also need the `!important` here to be able to override the default hidden behavior on the sphinx rendered scikit-learn.org. See: https://github.com/scikit-learn/scikit-learn/issues/21755 */display: inline-block !important;position: relative;}#sk-container-id-1 div.sk-text-repr-fallback {display: none;}</style><div id=\"sk-container-id-1\" class=\"sk-top-container\"><div class=\"sk-text-repr-fallback\"><pre>Pipeline(steps=[(&#x27;scale&#x27;, StandardScaler()),\n",
       "                (&#x27;model&#x27;, LogisticRegression(C=0.1))])</pre><b>In a Jupyter environment, please rerun this cell to show the HTML representation or trust the notebook. <br />On GitHub, the HTML representation is unable to render, please try loading this page with nbviewer.org.</b></div><div class=\"sk-container\" hidden><div class=\"sk-item sk-dashed-wrapped\"><div class=\"sk-label-container\"><div class=\"sk-label sk-toggleable\"><input class=\"sk-toggleable__control sk-hidden--visually\" id=\"sk-estimator-id-1\" type=\"checkbox\" ><label for=\"sk-estimator-id-1\" class=\"sk-toggleable__label sk-toggleable__label-arrow\">Pipeline</label><div class=\"sk-toggleable__content\"><pre>Pipeline(steps=[(&#x27;scale&#x27;, StandardScaler()),\n",
       "                (&#x27;model&#x27;, LogisticRegression(C=0.1))])</pre></div></div></div><div class=\"sk-serial\"><div class=\"sk-item\"><div class=\"sk-estimator sk-toggleable\"><input class=\"sk-toggleable__control sk-hidden--visually\" id=\"sk-estimator-id-2\" type=\"checkbox\" ><label for=\"sk-estimator-id-2\" class=\"sk-toggleable__label sk-toggleable__label-arrow\">StandardScaler</label><div class=\"sk-toggleable__content\"><pre>StandardScaler()</pre></div></div></div><div class=\"sk-item\"><div class=\"sk-estimator sk-toggleable\"><input class=\"sk-toggleable__control sk-hidden--visually\" id=\"sk-estimator-id-3\" type=\"checkbox\" ><label for=\"sk-estimator-id-3\" class=\"sk-toggleable__label sk-toggleable__label-arrow\">LogisticRegression</label><div class=\"sk-toggleable__content\"><pre>LogisticRegression(C=0.1)</pre></div></div></div></div></div></div></div>"
      ],
      "text/plain": [
       "Pipeline(steps=[('scale', StandardScaler()),\n",
       "                ('model', LogisticRegression(C=0.1))])"
      ]
     },
     "execution_count": 32,
     "metadata": {},
     "output_type": "execute_result"
    }
   ],
   "source": [
    "model.fit(X_train, y_train.values.ravel())"
   ]
  },
  {
   "cell_type": "code",
   "execution_count": 33,
   "id": "af59f8c0",
   "metadata": {
    "execution": {
     "iopub.execute_input": "2025-08-05T16:18:31.261653Z",
     "iopub.status.busy": "2025-08-05T16:18:31.260856Z",
     "iopub.status.idle": "2025-08-05T16:18:31.268012Z",
     "shell.execute_reply": "2025-08-05T16:18:31.266775Z"
    },
    "papermill": {
     "duration": 0.023395,
     "end_time": "2025-08-05T16:18:31.269976",
     "exception": false,
     "start_time": "2025-08-05T16:18:31.246581",
     "status": "completed"
    },
    "tags": []
   },
   "outputs": [],
   "source": [
    "from fairness_multiverse.universe import predict_w_threshold"
   ]
  },
  {
   "cell_type": "code",
   "execution_count": 34,
   "id": "a7cf2e16",
   "metadata": {
    "execution": {
     "iopub.execute_input": "2025-08-05T16:18:31.299699Z",
     "iopub.status.busy": "2025-08-05T16:18:31.299039Z",
     "iopub.status.idle": "2025-08-05T16:18:31.503523Z",
     "shell.execute_reply": "2025-08-05T16:18:31.502528Z"
    },
    "papermill": {
     "duration": 0.219809,
     "end_time": "2025-08-05T16:18:31.504965",
     "exception": false,
     "start_time": "2025-08-05T16:18:31.285156",
     "status": "completed"
    },
    "tags": []
   },
   "outputs": [
    {
     "data": {
      "text/plain": [
       "0.842893768810612"
      ]
     },
     "execution_count": 34,
     "metadata": {},
     "output_type": "execute_result"
    }
   ],
   "source": [
    "probs_test = model.predict_proba(X_test)\n",
    "\n",
    "'''\n",
    "Below code returns a boolean array (or binary 0/1 array depending on how it’s used) where each element \n",
    "is True if the probability of class 1 is greater than or equal to the threshold, and False otherwise.\n",
    "'''\n",
    "y_pred_default = predict_w_threshold(probs_test, 0.5)\n",
    "\n",
    "from sklearn.metrics import accuracy_score\n",
    "\n",
    "# Naive prediction\n",
    "accuracy_score(y_true = y_true, y_pred = y_pred_default)"
   ]
  },
  {
   "cell_type": "code",
   "execution_count": 35,
   "id": "081964c3",
   "metadata": {
    "execution": {
     "iopub.execute_input": "2025-08-05T16:18:31.532449Z",
     "iopub.status.busy": "2025-08-05T16:18:31.531913Z",
     "iopub.status.idle": "2025-08-05T16:18:31.767128Z",
     "shell.execute_reply": "2025-08-05T16:18:31.766206Z"
    },
    "papermill": {
     "duration": 0.250648,
     "end_time": "2025-08-05T16:18:31.768599",
     "exception": false,
     "start_time": "2025-08-05T16:18:31.517951",
     "status": "completed"
    },
    "tags": []
   },
   "outputs": [
    {
     "data": {
      "text/plain": [
       "array([0, 0, 0, ..., 0, 0, 0])"
      ]
     },
     "execution_count": 35,
     "metadata": {},
     "output_type": "execute_result"
    }
   ],
   "source": [
    "model.predict(X_test)"
   ]
  },
  {
   "cell_type": "markdown",
   "id": "56c9705b",
   "metadata": {
    "papermill": {
     "duration": 0.02796,
     "end_time": "2025-08-05T16:18:31.818857",
     "exception": false,
     "start_time": "2025-08-05T16:18:31.790897",
     "status": "completed"
    },
    "tags": []
   },
   "source": [
    "# Conformal Prediction"
   ]
  },
  {
   "cell_type": "code",
   "execution_count": 36,
   "id": "160ec6ff",
   "metadata": {
    "execution": {
     "iopub.execute_input": "2025-08-05T16:18:31.871191Z",
     "iopub.status.busy": "2025-08-05T16:18:31.870355Z",
     "iopub.status.idle": "2025-08-05T16:18:31.876282Z",
     "shell.execute_reply": "2025-08-05T16:18:31.875253Z"
    },
    "papermill": {
     "duration": 0.036857,
     "end_time": "2025-08-05T16:18:31.877901",
     "exception": false,
     "start_time": "2025-08-05T16:18:31.841044",
     "status": "completed"
    },
    "tags": []
   },
   "outputs": [],
   "source": [
    "# Miscoverage level for conformal prediction (10% allowed error rate => 90% target coverage)\n",
    "alpha = 0.1"
   ]
  },
  {
   "cell_type": "code",
   "execution_count": 37,
   "id": "eadf4555-3dd3-440e-8e35-f82a4ad9f855",
   "metadata": {
    "execution": {
     "iopub.execute_input": "2025-08-05T16:18:31.905741Z",
     "iopub.status.busy": "2025-08-05T16:18:31.905047Z",
     "iopub.status.idle": "2025-08-05T16:18:32.174369Z",
     "shell.execute_reply": "2025-08-05T16:18:32.173120Z"
    },
    "papermill": {
     "duration": 0.285669,
     "end_time": "2025-08-05T16:18:32.176229",
     "exception": false,
     "start_time": "2025-08-05T16:18:31.890560",
     "status": "completed"
    },
    "tags": []
   },
   "outputs": [],
   "source": [
    "probs_calib = model.predict_proba(X_calib)"
   ]
  },
  {
   "cell_type": "code",
   "execution_count": 38,
   "id": "2ed93547-6d5d-4983-9b36-1ecb300da49a",
   "metadata": {
    "execution": {
     "iopub.execute_input": "2025-08-05T16:18:32.227464Z",
     "iopub.status.busy": "2025-08-05T16:18:32.227031Z",
     "iopub.status.idle": "2025-08-05T16:18:32.232628Z",
     "shell.execute_reply": "2025-08-05T16:18:32.231838Z"
    },
    "papermill": {
     "duration": 0.033006,
     "end_time": "2025-08-05T16:18:32.234114",
     "exception": false,
     "start_time": "2025-08-05T16:18:32.201108",
     "status": "completed"
    },
    "tags": []
   },
   "outputs": [],
   "source": [
    "y_calib = y_calib.values.ravel().astype(int)"
   ]
  },
  {
   "cell_type": "code",
   "execution_count": 39,
   "id": "65d1320d-f588-4b38-9072-62af1ae97f7d",
   "metadata": {
    "execution": {
     "iopub.execute_input": "2025-08-05T16:18:32.261872Z",
     "iopub.status.busy": "2025-08-05T16:18:32.261459Z",
     "iopub.status.idle": "2025-08-05T16:18:32.268391Z",
     "shell.execute_reply": "2025-08-05T16:18:32.267492Z"
    },
    "papermill": {
     "duration": 0.022225,
     "end_time": "2025-08-05T16:18:32.270016",
     "exception": false,
     "start_time": "2025-08-05T16:18:32.247791",
     "status": "completed"
    },
    "tags": []
   },
   "outputs": [],
   "source": [
    "from fairness_multiverse.conformal import compute_nc_scores\n",
    "\n",
    "# Compute nonconformity scores on calibration set (1 - probability of true class)\n",
    "nc_scores = compute_nc_scores(probs_calib, y_calib)"
   ]
  },
  {
   "cell_type": "code",
   "execution_count": 40,
   "id": "df3b8ca3-53b7-43d5-9667-7c85da7aeda2",
   "metadata": {
    "execution": {
     "iopub.execute_input": "2025-08-05T16:18:32.301456Z",
     "iopub.status.busy": "2025-08-05T16:18:32.300820Z",
     "iopub.status.idle": "2025-08-05T16:18:32.307309Z",
     "shell.execute_reply": "2025-08-05T16:18:32.306542Z"
    },
    "papermill": {
     "duration": 0.021801,
     "end_time": "2025-08-05T16:18:32.308826",
     "exception": false,
     "start_time": "2025-08-05T16:18:32.287025",
     "status": "completed"
    },
    "tags": []
   },
   "outputs": [],
   "source": [
    "from fairness_multiverse.conformal import find_threshold\n",
    "\n",
    "# Find conformal threshold q_hat for the given alpha (split conformal method)\n",
    "q_hat = find_threshold(nc_scores, alpha)"
   ]
  },
  {
   "cell_type": "code",
   "execution_count": 41,
   "id": "4d29e6c1-0ef6-4aa4-b8fe-4fe79b0d033a",
   "metadata": {
    "execution": {
     "iopub.execute_input": "2025-08-05T16:18:32.338734Z",
     "iopub.status.busy": "2025-08-05T16:18:32.337706Z",
     "iopub.status.idle": "2025-08-05T16:18:32.345909Z",
     "shell.execute_reply": "2025-08-05T16:18:32.345097Z"
    },
    "papermill": {
     "duration": 0.025363,
     "end_time": "2025-08-05T16:18:32.347425",
     "exception": false,
     "start_time": "2025-08-05T16:18:32.322062",
     "status": "completed"
    },
    "tags": []
   },
   "outputs": [
    {
     "data": {
      "text/plain": [
       "0.7628846564779775"
      ]
     },
     "execution_count": 41,
     "metadata": {},
     "output_type": "execute_result"
    }
   ],
   "source": [
    "q_hat"
   ]
  },
  {
   "cell_type": "code",
   "execution_count": 42,
   "id": "92460794-cdac-4be2-ba28-f28c0515a6fb",
   "metadata": {
    "execution": {
     "iopub.execute_input": "2025-08-05T16:18:32.376074Z",
     "iopub.status.busy": "2025-08-05T16:18:32.375387Z",
     "iopub.status.idle": "2025-08-05T16:18:33.408765Z",
     "shell.execute_reply": "2025-08-05T16:18:33.407494Z"
    },
    "papermill": {
     "duration": 1.050609,
     "end_time": "2025-08-05T16:18:33.411154",
     "exception": false,
     "start_time": "2025-08-05T16:18:32.360545",
     "status": "completed"
    },
    "tags": []
   },
   "outputs": [],
   "source": [
    "from fairness_multiverse.conformal import predict_conformal_sets\n",
    "\n",
    "# Generate prediction sets for each test example\n",
    "pred_sets = predict_conformal_sets(model, X_test, q_hat)"
   ]
  },
  {
   "cell_type": "code",
   "execution_count": 43,
   "id": "d90c9a65-e6db-4f5d-80cd-e68fb7e46829",
   "metadata": {
    "execution": {
     "iopub.execute_input": "2025-08-05T16:18:33.469225Z",
     "iopub.status.busy": "2025-08-05T16:18:33.468708Z",
     "iopub.status.idle": "2025-08-05T16:18:33.475427Z",
     "shell.execute_reply": "2025-08-05T16:18:33.474226Z"
    },
    "papermill": {
     "duration": 0.037734,
     "end_time": "2025-08-05T16:18:33.477594",
     "exception": false,
     "start_time": "2025-08-05T16:18:33.439860",
     "status": "completed"
    },
    "tags": []
   },
   "outputs": [],
   "source": [
    "y_true = y_true.squeeze()"
   ]
  },
  {
   "cell_type": "code",
   "execution_count": 44,
   "id": "3a58a54a-1e68-46b9-927a-df01f18aebc8",
   "metadata": {
    "execution": {
     "iopub.execute_input": "2025-08-05T16:18:33.534760Z",
     "iopub.status.busy": "2025-08-05T16:18:33.534097Z",
     "iopub.status.idle": "2025-08-05T16:18:34.664844Z",
     "shell.execute_reply": "2025-08-05T16:18:34.664010Z"
    },
    "papermill": {
     "duration": 1.159799,
     "end_time": "2025-08-05T16:18:34.666511",
     "exception": false,
     "start_time": "2025-08-05T16:18:33.506712",
     "status": "completed"
    },
    "tags": []
   },
   "outputs": [],
   "source": [
    "from fairness_multiverse.conformal import evaluate_sets\n",
    "\n",
    "# Evaluate coverage and average set size on test data\n",
    "metrics = evaluate_sets(pred_sets, y_true)"
   ]
  },
  {
   "cell_type": "markdown",
   "id": "2b569c12-9aaa-4c88-98c9-bbcd0cf3ebb8",
   "metadata": {
    "papermill": {
     "duration": 0.026788,
     "end_time": "2025-08-05T16:18:34.719827",
     "exception": false,
     "start_time": "2025-08-05T16:18:34.693039",
     "status": "completed"
    },
    "tags": []
   },
   "source": [
    "# CP Metrics"
   ]
  },
  {
   "cell_type": "code",
   "execution_count": 45,
   "id": "5ce0a5cb-201f-45a0-ade5-94c7f0bd6095",
   "metadata": {
    "execution": {
     "iopub.execute_input": "2025-08-05T16:18:34.771781Z",
     "iopub.status.busy": "2025-08-05T16:18:34.771244Z",
     "iopub.status.idle": "2025-08-05T16:18:34.779942Z",
     "shell.execute_reply": "2025-08-05T16:18:34.778795Z"
    },
    "papermill": {
     "duration": 0.0372,
     "end_time": "2025-08-05T16:18:34.782038",
     "exception": false,
     "start_time": "2025-08-05T16:18:34.744838",
     "status": "completed"
    },
    "tags": []
   },
   "outputs": [
    {
     "data": {
      "text/plain": [
       "{'coverage': 0.9118158510756883, 'avg_size': 1.2064429829450452}"
      ]
     },
     "execution_count": 45,
     "metadata": {},
     "output_type": "execute_result"
    }
   ],
   "source": [
    "metrics"
   ]
  },
  {
   "cell_type": "code",
   "execution_count": 46,
   "id": "9b9a838d-31c9-430b-ae14-12baee460d17",
   "metadata": {
    "execution": {
     "iopub.execute_input": "2025-08-05T16:18:34.833767Z",
     "iopub.status.busy": "2025-08-05T16:18:34.833204Z",
     "iopub.status.idle": "2025-08-05T16:18:34.840779Z",
     "shell.execute_reply": "2025-08-05T16:18:34.839616Z"
    },
    "papermill": {
     "duration": 0.035671,
     "end_time": "2025-08-05T16:18:34.842659",
     "exception": false,
     "start_time": "2025-08-05T16:18:34.806988",
     "status": "completed"
    },
    "tags": []
   },
   "outputs": [],
   "source": [
    "example_universe = universe.copy()\n",
    "universe_training_year = example_universe.get(\"training_year\")\n",
    "universe_training_size = example_universe.get(\"training_size\")\n",
    "universe_scale = example_universe.get(\"scale\")\n",
    "universe_model = example_universe.get(\"model\")\n",
    "universe_exclude_features = example_universe.get(\"exclude_features\")\n",
    "universe_exclude_subgroups = example_universe.get(\"exclude_subgroups\")"
   ]
  },
  {
   "cell_type": "code",
   "execution_count": 47,
   "id": "f4b6a8ac-9dc0-4245-8a91-5b3b5999c4f9",
   "metadata": {
    "execution": {
     "iopub.execute_input": "2025-08-05T16:18:34.894711Z",
     "iopub.status.busy": "2025-08-05T16:18:34.894182Z",
     "iopub.status.idle": "2025-08-05T16:18:34.904050Z",
     "shell.execute_reply": "2025-08-05T16:18:34.902881Z"
    },
    "papermill": {
     "duration": 0.037725,
     "end_time": "2025-08-05T16:18:34.906064",
     "exception": false,
     "start_time": "2025-08-05T16:18:34.868339",
     "status": "completed"
    },
    "tags": []
   },
   "outputs": [],
   "source": [
    "cp_metrics_dict = {\n",
    "    \"universe_id\": [universe_id],\n",
    "    \"universe_training_year\": [universe_training_year],\n",
    "    \"universe_training_size\": [universe_training_size],\n",
    "    \"universe_scale\": [universe_scale],\n",
    "    \"universe_model\": [universe_model],\n",
    "    \"universe_exclude_features\": [universe_exclude_features],\n",
    "    \"universe_exclude_subgroups\": [universe_exclude_subgroups],\n",
    "    \"q_hat\": [q_hat],\n",
    "    \"coverage\": [metrics[\"coverage\"]],\n",
    "    \"avg_size\": [metrics[\"avg_size\"]],\n",
    "}"
   ]
  },
  {
   "cell_type": "code",
   "execution_count": 48,
   "id": "908acbb1-0371-4915-85ca-3fa520d2efe2",
   "metadata": {
    "execution": {
     "iopub.execute_input": "2025-08-05T16:18:34.958940Z",
     "iopub.status.busy": "2025-08-05T16:18:34.958379Z",
     "iopub.status.idle": "2025-08-05T16:18:34.967575Z",
     "shell.execute_reply": "2025-08-05T16:18:34.966413Z"
    },
    "papermill": {
     "duration": 0.037525,
     "end_time": "2025-08-05T16:18:34.969629",
     "exception": false,
     "start_time": "2025-08-05T16:18:34.932104",
     "status": "completed"
    },
    "tags": []
   },
   "outputs": [
    {
     "data": {
      "text/plain": [
       "{'universe_id': ['141f3a4594cc072f25839a087163dbfd'],\n",
       " 'universe_training_year': ['2012_14'],\n",
       " 'universe_training_size': ['1k'],\n",
       " 'universe_scale': ['scale'],\n",
       " 'universe_model': ['penalized_logreg'],\n",
       " 'universe_exclude_features': ['age'],\n",
       " 'universe_exclude_subgroups': ['drop-non-german'],\n",
       " 'q_hat': [0.7628846564779775],\n",
       " 'coverage': [0.9118158510756883],\n",
       " 'avg_size': [1.2064429829450452]}"
      ]
     },
     "execution_count": 48,
     "metadata": {},
     "output_type": "execute_result"
    }
   ],
   "source": [
    "cp_metrics_dict"
   ]
  },
  {
   "cell_type": "code",
   "execution_count": 49,
   "id": "33007efc-14e9-4ec6-97ac-56a455c82265",
   "metadata": {
    "execution": {
     "iopub.execute_input": "2025-08-05T16:18:35.023895Z",
     "iopub.status.busy": "2025-08-05T16:18:35.023450Z",
     "iopub.status.idle": "2025-08-05T16:18:35.031043Z",
     "shell.execute_reply": "2025-08-05T16:18:35.029849Z"
    },
    "papermill": {
     "duration": 0.037102,
     "end_time": "2025-08-05T16:18:35.033277",
     "exception": false,
     "start_time": "2025-08-05T16:18:34.996175",
     "status": "completed"
    },
    "tags": []
   },
   "outputs": [],
   "source": [
    "cp_metrics_df = pd.DataFrame(cp_metrics_dict)"
   ]
  },
  {
   "cell_type": "code",
   "execution_count": 50,
   "id": "db12611b-57b2-4910-b9d0-355adfd6e7bf",
   "metadata": {
    "execution": {
     "iopub.execute_input": "2025-08-05T16:18:35.086492Z",
     "iopub.status.busy": "2025-08-05T16:18:35.085937Z",
     "iopub.status.idle": "2025-08-05T16:18:35.111218Z",
     "shell.execute_reply": "2025-08-05T16:18:35.110215Z"
    },
    "papermill": {
     "duration": 0.054178,
     "end_time": "2025-08-05T16:18:35.112689",
     "exception": false,
     "start_time": "2025-08-05T16:18:35.058511",
     "status": "completed"
    },
    "tags": []
   },
   "outputs": [
    {
     "data": {
      "text/html": [
       "<div>\n",
       "<style scoped>\n",
       "    .dataframe tbody tr th:only-of-type {\n",
       "        vertical-align: middle;\n",
       "    }\n",
       "\n",
       "    .dataframe tbody tr th {\n",
       "        vertical-align: top;\n",
       "    }\n",
       "\n",
       "    .dataframe thead th {\n",
       "        text-align: right;\n",
       "    }\n",
       "</style>\n",
       "<table border=\"1\" class=\"dataframe\">\n",
       "  <thead>\n",
       "    <tr style=\"text-align: right;\">\n",
       "      <th></th>\n",
       "      <th>universe_id</th>\n",
       "      <th>universe_training_year</th>\n",
       "      <th>universe_training_size</th>\n",
       "      <th>universe_scale</th>\n",
       "      <th>universe_model</th>\n",
       "      <th>universe_exclude_features</th>\n",
       "      <th>universe_exclude_subgroups</th>\n",
       "      <th>q_hat</th>\n",
       "      <th>coverage</th>\n",
       "      <th>avg_size</th>\n",
       "    </tr>\n",
       "  </thead>\n",
       "  <tbody>\n",
       "    <tr>\n",
       "      <th>0</th>\n",
       "      <td>141f3a4594cc072f25839a087163dbfd</td>\n",
       "      <td>2012_14</td>\n",
       "      <td>1k</td>\n",
       "      <td>scale</td>\n",
       "      <td>penalized_logreg</td>\n",
       "      <td>age</td>\n",
       "      <td>drop-non-german</td>\n",
       "      <td>0.762885</td>\n",
       "      <td>0.911816</td>\n",
       "      <td>1.206443</td>\n",
       "    </tr>\n",
       "  </tbody>\n",
       "</table>\n",
       "</div>"
      ],
      "text/plain": [
       "                        universe_id universe_training_year  \\\n",
       "0  141f3a4594cc072f25839a087163dbfd                2012_14   \n",
       "\n",
       "  universe_training_size universe_scale    universe_model  \\\n",
       "0                     1k          scale  penalized_logreg   \n",
       "\n",
       "  universe_exclude_features universe_exclude_subgroups     q_hat  coverage  \\\n",
       "0                       age            drop-non-german  0.762885  0.911816   \n",
       "\n",
       "   avg_size  \n",
       "0  1.206443  "
      ]
     },
     "execution_count": 50,
     "metadata": {},
     "output_type": "execute_result"
    }
   ],
   "source": [
    "cp_metrics_df"
   ]
  },
  {
   "cell_type": "code",
   "execution_count": 51,
   "id": "b7fbde55-a0a1-47e4-9af6-fe4a17fa8c61",
   "metadata": {
    "execution": {
     "iopub.execute_input": "2025-08-05T16:18:35.141454Z",
     "iopub.status.busy": "2025-08-05T16:18:35.140827Z",
     "iopub.status.idle": "2025-08-05T16:18:35.145642Z",
     "shell.execute_reply": "2025-08-05T16:18:35.144867Z"
    },
    "papermill": {
     "duration": 0.020417,
     "end_time": "2025-08-05T16:18:35.147144",
     "exception": false,
     "start_time": "2025-08-05T16:18:35.126727",
     "status": "completed"
    },
    "tags": []
   },
   "outputs": [],
   "source": [
    "# Conditional Coverage & looking at subgroups"
   ]
  },
  {
   "cell_type": "code",
   "execution_count": 52,
   "id": "027ae886-68dd-4141-96c7-805a5450e1ef",
   "metadata": {
    "execution": {
     "iopub.execute_input": "2025-08-05T16:18:35.179277Z",
     "iopub.status.busy": "2025-08-05T16:18:35.178863Z",
     "iopub.status.idle": "2025-08-05T16:18:35.409296Z",
     "shell.execute_reply": "2025-08-05T16:18:35.408399Z"
    },
    "papermill": {
     "duration": 0.247387,
     "end_time": "2025-08-05T16:18:35.410902",
     "exception": false,
     "start_time": "2025-08-05T16:18:35.163515",
     "status": "completed"
    },
    "tags": []
   },
   "outputs": [],
   "source": [
    "from fairness_multiverse.conformal import build_cp_groups\n",
    "\n",
    "cp_groups_df = build_cp_groups(pred_sets, y_true, X_test.index, org_test)\n",
    "#needs universe_id and setting"
   ]
  },
  {
   "cell_type": "code",
   "execution_count": 53,
   "id": "6cbdab96-b2b2-45af-ad54-d0516db2e28d",
   "metadata": {
    "execution": {
     "iopub.execute_input": "2025-08-05T16:18:35.441123Z",
     "iopub.status.busy": "2025-08-05T16:18:35.440089Z",
     "iopub.status.idle": "2025-08-05T16:18:37.516546Z",
     "shell.execute_reply": "2025-08-05T16:18:37.515462Z"
    },
    "papermill": {
     "duration": 2.093522,
     "end_time": "2025-08-05T16:18:37.518824",
     "exception": false,
     "start_time": "2025-08-05T16:18:35.425302",
     "status": "completed"
    },
    "tags": []
   },
   "outputs": [],
   "source": [
    "# Define covered = 1 if true_label is in the predicted set\n",
    "cp_groups_df['covered'] = cp_groups_df.apply(\n",
    "    lambda r: int(r['true_label'] in r['pred_set']),\n",
    "    axis=1\n",
    ")"
   ]
  },
  {
   "cell_type": "code",
   "execution_count": 54,
   "id": "338ff529-1a6b-4b87-a931-8e4788d52aad",
   "metadata": {
    "execution": {
     "iopub.execute_input": "2025-08-05T16:18:37.575861Z",
     "iopub.status.busy": "2025-08-05T16:18:37.575273Z",
     "iopub.status.idle": "2025-08-05T16:18:37.581049Z",
     "shell.execute_reply": "2025-08-05T16:18:37.579957Z"
    },
    "papermill": {
     "duration": 0.036362,
     "end_time": "2025-08-05T16:18:37.582828",
     "exception": false,
     "start_time": "2025-08-05T16:18:37.546466",
     "status": "completed"
    },
    "tags": []
   },
   "outputs": [],
   "source": [
    "#cp_groups_df"
   ]
  },
  {
   "cell_type": "code",
   "execution_count": 55,
   "id": "90032e27-66df-4540-9169-4e89cfbaa758",
   "metadata": {
    "execution": {
     "iopub.execute_input": "2025-08-05T16:18:37.639032Z",
     "iopub.status.busy": "2025-08-05T16:18:37.638040Z",
     "iopub.status.idle": "2025-08-05T16:18:37.652110Z",
     "shell.execute_reply": "2025-08-05T16:18:37.651046Z"
    },
    "papermill": {
     "duration": 0.044786,
     "end_time": "2025-08-05T16:18:37.654113",
     "exception": false,
     "start_time": "2025-08-05T16:18:37.609327",
     "status": "completed"
    },
    "tags": []
   },
   "outputs": [],
   "source": [
    "subgroups = ['frau1','nongerman','nongerman_male','nongerman_female']\n",
    "\n",
    "# Conditional coverage for subgroup==1\n",
    "cond_coverage = {\n",
    "    g: cp_groups_df.loc[cp_groups_df[g]==1, 'covered'].mean()\n",
    "    for g in subgroups\n",
    "}"
   ]
  },
  {
   "cell_type": "code",
   "execution_count": 56,
   "id": "1e348fb1-b9c3-45bc-ba23-f016827a7e0d",
   "metadata": {
    "execution": {
     "iopub.execute_input": "2025-08-05T16:18:37.711495Z",
     "iopub.status.busy": "2025-08-05T16:18:37.710724Z",
     "iopub.status.idle": "2025-08-05T16:18:37.719331Z",
     "shell.execute_reply": "2025-08-05T16:18:37.718216Z"
    },
    "papermill": {
     "duration": 0.038312,
     "end_time": "2025-08-05T16:18:37.721139",
     "exception": false,
     "start_time": "2025-08-05T16:18:37.682827",
     "status": "completed"
    },
    "tags": []
   },
   "outputs": [
    {
     "data": {
      "text/plain": [
       "{'frau1': 0.901900525677315,\n",
       " 'nongerman': 0.9139953966204457,\n",
       " 'nongerman_male': 0.9349725299468612,\n",
       " 'nongerman_female': 0.879284649776453}"
      ]
     },
     "execution_count": 56,
     "metadata": {},
     "output_type": "execute_result"
    }
   ],
   "source": [
    "cond_coverage"
   ]
  },
  {
   "cell_type": "code",
   "execution_count": 57,
   "id": "f5093324-c3dd-4d63-bc4c-8d945e5c8bbb",
   "metadata": {
    "execution": {
     "iopub.execute_input": "2025-08-05T16:18:37.778085Z",
     "iopub.status.busy": "2025-08-05T16:18:37.776915Z",
     "iopub.status.idle": "2025-08-05T16:18:37.785599Z",
     "shell.execute_reply": "2025-08-05T16:18:37.784559Z"
    },
    "papermill": {
     "duration": 0.039468,
     "end_time": "2025-08-05T16:18:37.787537",
     "exception": false,
     "start_time": "2025-08-05T16:18:37.748069",
     "status": "completed"
    },
    "tags": []
   },
   "outputs": [],
   "source": [
    "for subgroup, cov in cond_coverage.items():\n",
    "    cp_metrics_df[f\"cov_{subgroup}\"] = cov"
   ]
  },
  {
   "cell_type": "code",
   "execution_count": 58,
   "id": "6e872e10-dbe5-49e8-b554-5030c98ff75d",
   "metadata": {
    "execution": {
     "iopub.execute_input": "2025-08-05T16:18:37.844275Z",
     "iopub.status.busy": "2025-08-05T16:18:37.843250Z",
     "iopub.status.idle": "2025-08-05T16:18:37.866577Z",
     "shell.execute_reply": "2025-08-05T16:18:37.865348Z"
    },
    "papermill": {
     "duration": 0.053668,
     "end_time": "2025-08-05T16:18:37.868488",
     "exception": false,
     "start_time": "2025-08-05T16:18:37.814820",
     "status": "completed"
    },
    "tags": []
   },
   "outputs": [
    {
     "data": {
      "text/html": [
       "<div>\n",
       "<style scoped>\n",
       "    .dataframe tbody tr th:only-of-type {\n",
       "        vertical-align: middle;\n",
       "    }\n",
       "\n",
       "    .dataframe tbody tr th {\n",
       "        vertical-align: top;\n",
       "    }\n",
       "\n",
       "    .dataframe thead th {\n",
       "        text-align: right;\n",
       "    }\n",
       "</style>\n",
       "<table border=\"1\" class=\"dataframe\">\n",
       "  <thead>\n",
       "    <tr style=\"text-align: right;\">\n",
       "      <th></th>\n",
       "      <th>universe_id</th>\n",
       "      <th>universe_training_year</th>\n",
       "      <th>universe_training_size</th>\n",
       "      <th>universe_scale</th>\n",
       "      <th>universe_model</th>\n",
       "      <th>universe_exclude_features</th>\n",
       "      <th>universe_exclude_subgroups</th>\n",
       "      <th>q_hat</th>\n",
       "      <th>coverage</th>\n",
       "      <th>avg_size</th>\n",
       "      <th>cov_frau1</th>\n",
       "      <th>cov_nongerman</th>\n",
       "      <th>cov_nongerman_male</th>\n",
       "      <th>cov_nongerman_female</th>\n",
       "    </tr>\n",
       "  </thead>\n",
       "  <tbody>\n",
       "    <tr>\n",
       "      <th>0</th>\n",
       "      <td>141f3a4594cc072f25839a087163dbfd</td>\n",
       "      <td>2012_14</td>\n",
       "      <td>1k</td>\n",
       "      <td>scale</td>\n",
       "      <td>penalized_logreg</td>\n",
       "      <td>age</td>\n",
       "      <td>drop-non-german</td>\n",
       "      <td>0.762885</td>\n",
       "      <td>0.911816</td>\n",
       "      <td>1.206443</td>\n",
       "      <td>0.901901</td>\n",
       "      <td>0.913995</td>\n",
       "      <td>0.934973</td>\n",
       "      <td>0.879285</td>\n",
       "    </tr>\n",
       "  </tbody>\n",
       "</table>\n",
       "</div>"
      ],
      "text/plain": [
       "                        universe_id universe_training_year  \\\n",
       "0  141f3a4594cc072f25839a087163dbfd                2012_14   \n",
       "\n",
       "  universe_training_size universe_scale    universe_model  \\\n",
       "0                     1k          scale  penalized_logreg   \n",
       "\n",
       "  universe_exclude_features universe_exclude_subgroups     q_hat  coverage  \\\n",
       "0                       age            drop-non-german  0.762885  0.911816   \n",
       "\n",
       "   avg_size  cov_frau1  cov_nongerman  cov_nongerman_male  \\\n",
       "0  1.206443   0.901901       0.913995            0.934973   \n",
       "\n",
       "   cov_nongerman_female  \n",
       "0              0.879285  "
      ]
     },
     "execution_count": 58,
     "metadata": {},
     "output_type": "execute_result"
    }
   ],
   "source": [
    "cp_metrics_df"
   ]
  },
  {
   "cell_type": "markdown",
   "id": "33774451",
   "metadata": {
    "papermill": {
     "duration": 0.027932,
     "end_time": "2025-08-05T16:18:37.924206",
     "exception": false,
     "start_time": "2025-08-05T16:18:37.896274",
     "status": "completed"
    },
    "tags": []
   },
   "source": [
    "# (Fairness) Metrics"
   ]
  },
  {
   "cell_type": "code",
   "execution_count": 59,
   "id": "debc5d62",
   "metadata": {
    "execution": {
     "iopub.execute_input": "2025-08-05T16:18:37.981603Z",
     "iopub.status.busy": "2025-08-05T16:18:37.980503Z",
     "iopub.status.idle": "2025-08-05T16:18:38.005116Z",
     "shell.execute_reply": "2025-08-05T16:18:38.003979Z"
    },
    "papermill": {
     "duration": 0.055468,
     "end_time": "2025-08-05T16:18:38.007534",
     "exception": false,
     "start_time": "2025-08-05T16:18:37.952066",
     "status": "completed"
    },
    "tags": []
   },
   "outputs": [],
   "source": [
    "# do I need to include maxdeutsch1.missing?\n",
    "\n",
    "import numpy as np\n",
    "\n",
    "colname_to_bin = \"maxdeutsch1\"\n",
    "majority_value = org_train[colname_to_bin].mode()[0]\n",
    "\n",
    "org_test[\"majmin\"] = np.where(org_test[colname_to_bin] == majority_value, \"majority\", \"minority\")"
   ]
  },
  {
   "cell_type": "code",
   "execution_count": 60,
   "id": "06a50de5",
   "metadata": {
    "execution": {
     "iopub.execute_input": "2025-08-05T16:18:38.064612Z",
     "iopub.status.busy": "2025-08-05T16:18:38.064021Z",
     "iopub.status.idle": "2025-08-05T16:18:41.526977Z",
     "shell.execute_reply": "2025-08-05T16:18:41.525686Z"
    },
    "papermill": {
     "duration": 3.49359,
     "end_time": "2025-08-05T16:18:41.529363",
     "exception": false,
     "start_time": "2025-08-05T16:18:38.035773",
     "status": "completed"
    },
    "tags": []
   },
   "outputs": [],
   "source": [
    "example_universe = universe.copy()\n",
    "example_universe[\"cutoff\"] = example_universe[\"cutoff\"][0]\n",
    "example_universe[\"eval_fairness_grouping\"] = example_universe[\"eval_fairness_grouping\"][0]\n",
    "fairness_dict, metric_frame = universe_analysis.compute_metrics(\n",
    "    example_universe,\n",
    "    y_pred_prob=probs_test,\n",
    "    y_test=y_true,\n",
    "    org_test=org_test,\n",
    ")"
   ]
  },
  {
   "cell_type": "markdown",
   "id": "f95d4e02",
   "metadata": {
    "papermill": {
     "duration": 0.030368,
     "end_time": "2025-08-05T16:18:41.591744",
     "exception": false,
     "start_time": "2025-08-05T16:18:41.561376",
     "status": "completed"
    },
    "tags": []
   },
   "source": [
    "# Overall"
   ]
  },
  {
   "cell_type": "markdown",
   "id": "bdee4871",
   "metadata": {
    "papermill": {
     "duration": 0.030426,
     "end_time": "2025-08-05T16:18:41.653850",
     "exception": false,
     "start_time": "2025-08-05T16:18:41.623424",
     "status": "completed"
    },
    "tags": []
   },
   "source": [
    "Fairness\n",
    "Main fairness target: Equalized Odds. Seems to be a better fit than equal opportunity, since we're not only interested in Y = 1. Seems to be a better fit than demographic parity, since we also care about accuracy, not just equal distribution of preds.\n",
    "\n",
    "Pick column for computation of fairness metrics\n",
    "\n",
    "Performance\n",
    "Overall performance measures, most interesting in relation to the measures split by group below"
   ]
  },
  {
   "cell_type": "code",
   "execution_count": 61,
   "id": "c4e067c6",
   "metadata": {
    "execution": {
     "iopub.execute_input": "2025-08-05T16:18:41.717787Z",
     "iopub.status.busy": "2025-08-05T16:18:41.716942Z",
     "iopub.status.idle": "2025-08-05T16:18:41.727343Z",
     "shell.execute_reply": "2025-08-05T16:18:41.726165Z"
    },
    "papermill": {
     "duration": 0.045368,
     "end_time": "2025-08-05T16:18:41.729393",
     "exception": false,
     "start_time": "2025-08-05T16:18:41.684025",
     "status": "completed"
    },
    "tags": []
   },
   "outputs": [
    {
     "data": {
      "text/plain": [
       "accuracy                   0.218805\n",
       "balanced accuracy          0.536175\n",
       "f1                         0.240290\n",
       "precision                  0.137269\n",
       "false positive rate        0.890719\n",
       "false negative rate        0.036931\n",
       "selection rate             0.900000\n",
       "count                  89710.000000\n",
       "dtype: float64"
      ]
     },
     "execution_count": 61,
     "metadata": {},
     "output_type": "execute_result"
    }
   ],
   "source": [
    "metric_frame.overall"
   ]
  },
  {
   "cell_type": "markdown",
   "id": "e968fe9d",
   "metadata": {
    "papermill": {
     "duration": 0.031786,
     "end_time": "2025-08-05T16:18:41.792490",
     "exception": false,
     "start_time": "2025-08-05T16:18:41.760704",
     "status": "completed"
    },
    "tags": []
   },
   "source": [
    "By Group"
   ]
  },
  {
   "cell_type": "code",
   "execution_count": 62,
   "id": "ec325bce",
   "metadata": {
    "execution": {
     "iopub.execute_input": "2025-08-05T16:18:41.857848Z",
     "iopub.status.busy": "2025-08-05T16:18:41.856810Z",
     "iopub.status.idle": "2025-08-05T16:18:41.877369Z",
     "shell.execute_reply": "2025-08-05T16:18:41.876277Z"
    },
    "papermill": {
     "duration": 0.055624,
     "end_time": "2025-08-05T16:18:41.879359",
     "exception": false,
     "start_time": "2025-08-05T16:18:41.823735",
     "status": "completed"
    },
    "tags": []
   },
   "outputs": [
    {
     "data": {
      "text/html": [
       "<div>\n",
       "<style scoped>\n",
       "    .dataframe tbody tr th:only-of-type {\n",
       "        vertical-align: middle;\n",
       "    }\n",
       "\n",
       "    .dataframe tbody tr th {\n",
       "        vertical-align: top;\n",
       "    }\n",
       "\n",
       "    .dataframe thead th {\n",
       "        text-align: right;\n",
       "    }\n",
       "</style>\n",
       "<table border=\"1\" class=\"dataframe\">\n",
       "  <thead>\n",
       "    <tr style=\"text-align: right;\">\n",
       "      <th></th>\n",
       "      <th>accuracy</th>\n",
       "      <th>balanced accuracy</th>\n",
       "      <th>f1</th>\n",
       "      <th>precision</th>\n",
       "      <th>false positive rate</th>\n",
       "      <th>false negative rate</th>\n",
       "      <th>selection rate</th>\n",
       "      <th>count</th>\n",
       "    </tr>\n",
       "    <tr>\n",
       "      <th>majmin</th>\n",
       "      <th></th>\n",
       "      <th></th>\n",
       "      <th></th>\n",
       "      <th></th>\n",
       "      <th></th>\n",
       "      <th></th>\n",
       "      <th></th>\n",
       "      <th></th>\n",
       "    </tr>\n",
       "  </thead>\n",
       "  <tbody>\n",
       "    <tr>\n",
       "      <th>majority</th>\n",
       "      <td>0.234683</td>\n",
       "      <td>0.541503</td>\n",
       "      <td>0.248684</td>\n",
       "      <td>0.142876</td>\n",
       "      <td>0.875529</td>\n",
       "      <td>0.041466</td>\n",
       "      <td>0.886497</td>\n",
       "      <td>69170.0</td>\n",
       "    </tr>\n",
       "    <tr>\n",
       "      <th>minority</th>\n",
       "      <td>0.165336</td>\n",
       "      <td>0.519838</td>\n",
       "      <td>0.213145</td>\n",
       "      <td>0.119567</td>\n",
       "      <td>0.940898</td>\n",
       "      <td>0.019426</td>\n",
       "      <td>0.945472</td>\n",
       "      <td>20540.0</td>\n",
       "    </tr>\n",
       "  </tbody>\n",
       "</table>\n",
       "</div>"
      ],
      "text/plain": [
       "          accuracy  balanced accuracy        f1  precision  \\\n",
       "majmin                                                       \n",
       "majority  0.234683           0.541503  0.248684   0.142876   \n",
       "minority  0.165336           0.519838  0.213145   0.119567   \n",
       "\n",
       "          false positive rate  false negative rate  selection rate    count  \n",
       "majmin                                                                       \n",
       "majority             0.875529             0.041466        0.886497  69170.0  \n",
       "minority             0.940898             0.019426        0.945472  20540.0  "
      ]
     },
     "execution_count": 62,
     "metadata": {},
     "output_type": "execute_result"
    }
   ],
   "source": [
    "metric_frame.by_group"
   ]
  },
  {
   "cell_type": "code",
   "execution_count": 63,
   "id": "a9ddbe63",
   "metadata": {
    "execution": {
     "iopub.execute_input": "2025-08-05T16:18:41.939131Z",
     "iopub.status.busy": "2025-08-05T16:18:41.938328Z",
     "iopub.status.idle": "2025-08-05T16:18:45.080700Z",
     "shell.execute_reply": "2025-08-05T16:18:45.079471Z"
    },
    "papermill": {
     "duration": 3.173908,
     "end_time": "2025-08-05T16:18:45.083061",
     "exception": false,
     "start_time": "2025-08-05T16:18:41.909153",
     "status": "completed"
    },
    "tags": []
   },
   "outputs": [
    {
     "data": {
      "text/plain": [
       "array([[<Axes: title={'center': 'accuracy'}, xlabel='majmin'>,\n",
       "        <Axes: title={'center': 'balanced accuracy'}, xlabel='majmin'>,\n",
       "        <Axes: title={'center': 'f1'}, xlabel='majmin'>],\n",
       "       [<Axes: title={'center': 'precision'}, xlabel='majmin'>,\n",
       "        <Axes: title={'center': 'false positive rate'}, xlabel='majmin'>,\n",
       "        <Axes: title={'center': 'false negative rate'}, xlabel='majmin'>],\n",
       "       [<Axes: title={'center': 'selection rate'}, xlabel='majmin'>,\n",
       "        <Axes: title={'center': 'count'}, xlabel='majmin'>,\n",
       "        <Axes: xlabel='majmin'>]], dtype=object)"
      ]
     },
     "execution_count": 63,
     "metadata": {},
     "output_type": "execute_result"
    },
    {
     "data": {
      "image/png": "[encoded data removed]",
      "text/plain": [
       "<Figure size 1200x800 with 9 Axes>"
      ]
     },
     "metadata": {},
     "output_type": "display_data"
    }
   ],
   "source": [
    "# In a graphic\n",
    "metric_frame.by_group.plot.bar(\n",
    "    subplots=True,\n",
    "    layout=[3, 3],\n",
    "    legend=False,\n",
    "    figsize=[12, 8],\n",
    "    title=\"Show all metrics\",\n",
    ")"
   ]
  },
  {
   "cell_type": "markdown",
   "id": "f57a0bac",
   "metadata": {
    "papermill": {
     "duration": 0.037175,
     "end_time": "2025-08-05T16:18:45.158234",
     "exception": false,
     "start_time": "2025-08-05T16:18:45.121059",
     "status": "completed"
    },
    "tags": []
   },
   "source": [
    "# Final Output"
   ]
  },
  {
   "cell_type": "code",
   "execution_count": 64,
   "id": "96d280a3",
   "metadata": {
    "execution": {
     "iopub.execute_input": "2025-08-05T16:18:45.235372Z",
     "iopub.status.busy": "2025-08-05T16:18:45.234570Z",
     "iopub.status.idle": "2025-08-05T16:18:45.244408Z",
     "shell.execute_reply": "2025-08-05T16:18:45.243051Z"
    },
    "papermill": {
     "duration": 0.050947,
     "end_time": "2025-08-05T16:18:45.246709",
     "exception": false,
     "start_time": "2025-08-05T16:18:45.195762",
     "status": "completed"
    },
    "tags": []
   },
   "outputs": [
    {
     "data": {
      "text/plain": [
       "4"
      ]
     },
     "execution_count": 64,
     "metadata": {},
     "output_type": "execute_result"
    }
   ],
   "source": [
    "sub_universes = universe_analysis.generate_sub_universes()\n",
    "len(sub_universes)"
   ]
  },
  {
   "cell_type": "code",
   "execution_count": 65,
   "id": "92adf7ba",
   "metadata": {
    "execution": {
     "iopub.execute_input": "2025-08-05T16:18:45.324153Z",
     "iopub.status.busy": "2025-08-05T16:18:45.322987Z",
     "iopub.status.idle": "2025-08-05T16:18:45.331643Z",
     "shell.execute_reply": "2025-08-05T16:18:45.330327Z"
    },
    "papermill": {
     "duration": 0.049744,
     "end_time": "2025-08-05T16:18:45.333874",
     "exception": false,
     "start_time": "2025-08-05T16:18:45.284130",
     "status": "completed"
    },
    "tags": []
   },
   "outputs": [],
   "source": [
    "def filter_sub_universe_data(sub_universe, org_test):\n",
    "    # Keep all rows — no filtering\n",
    "    keep_rows_mask = np.ones(org_test.shape[0], dtype=bool)\n",
    "\n",
    "    print(f\"[INFO] Keeping all rows: {keep_rows_mask.sum()} rows retained.\")\n",
    "    return keep_rows_mask"
   ]
  },
  {
   "cell_type": "code",
   "execution_count": 66,
   "id": "4a759155",
   "metadata": {
    "execution": {
     "iopub.execute_input": "2025-08-05T16:18:45.404810Z",
     "iopub.status.busy": "2025-08-05T16:18:45.404077Z",
     "iopub.status.idle": "2025-08-05T16:18:57.047618Z",
     "shell.execute_reply": "2025-08-05T16:18:57.046356Z"
    },
    "papermill": {
     "duration": 11.681702,
     "end_time": "2025-08-05T16:18:57.049629",
     "exception": false,
     "start_time": "2025-08-05T16:18:45.367927",
     "status": "completed"
    },
    "tags": []
   },
   "outputs": [
    {
     "name": "stdout",
     "output_type": "stream",
     "text": [
      "Stopping execution_time clock.\n",
      "[INFO] Keeping all rows: 89710 rows retained.\n"
     ]
    },
    {
     "name": "stdout",
     "output_type": "stream",
     "text": [
      "[INFO] Keeping all rows: 89710 rows retained.\n"
     ]
    },
    {
     "name": "stdout",
     "output_type": "stream",
     "text": [
      "[INFO] Keeping all rows: 89710 rows retained.\n"
     ]
    },
    {
     "name": "stdout",
     "output_type": "stream",
     "text": [
      "[INFO] Keeping all rows: 89710 rows retained.\n"
     ]
    },
    {
     "data": {
      "text/html": [
       "<div>\n",
       "<style scoped>\n",
       "    .dataframe tbody tr th:only-of-type {\n",
       "        vertical-align: middle;\n",
       "    }\n",
       "\n",
       "    .dataframe tbody tr th {\n",
       "        vertical-align: top;\n",
       "    }\n",
       "\n",
       "    .dataframe thead th {\n",
       "        text-align: right;\n",
       "    }\n",
       "</style>\n",
       "<table border=\"1\" class=\"dataframe\">\n",
       "  <thead>\n",
       "    <tr style=\"text-align: right;\">\n",
       "      <th></th>\n",
       "      <th>run_no</th>\n",
       "      <th>universe_id</th>\n",
       "      <th>universe_settings</th>\n",
       "      <th>execution_time</th>\n",
       "      <th>test_size_n</th>\n",
       "      <th>test_size_frac</th>\n",
       "      <th>fair_main_equalized_odds_difference</th>\n",
       "      <th>fair_main_equalized_odds_ratio</th>\n",
       "      <th>fair_main_demographic_parity_difference</th>\n",
       "      <th>fair_main_demographic_parity_ratio</th>\n",
       "      <th>...</th>\n",
       "      <th>perf_grp_precision_0</th>\n",
       "      <th>perf_grp_precision_1</th>\n",
       "      <th>perf_grp_false positive rate_0</th>\n",
       "      <th>perf_grp_false positive rate_1</th>\n",
       "      <th>perf_grp_false negative rate_0</th>\n",
       "      <th>perf_grp_false negative rate_1</th>\n",
       "      <th>perf_grp_selection rate_0</th>\n",
       "      <th>perf_grp_selection rate_1</th>\n",
       "      <th>perf_grp_count_0</th>\n",
       "      <th>perf_grp_count_1</th>\n",
       "    </tr>\n",
       "  </thead>\n",
       "  <tbody>\n",
       "    <tr>\n",
       "      <th>0</th>\n",
       "      <td>15</td>\n",
       "      <td>141f3a4594cc072f25839a087163dbfd</td>\n",
       "      <td>{\"cutoff\": \"quantile_0.1\", \"eval_fairness_grou...</td>\n",
       "      <td>30.288903</td>\n",
       "      <td>89710</td>\n",
       "      <td>1.0</td>\n",
       "      <td>0.065369</td>\n",
       "      <td>0.930525</td>\n",
       "      <td>0.058975</td>\n",
       "      <td>0.937624</td>\n",
       "      <td>...</td>\n",
       "      <td>NaN</td>\n",
       "      <td>NaN</td>\n",
       "      <td>NaN</td>\n",
       "      <td>NaN</td>\n",
       "      <td>NaN</td>\n",
       "      <td>NaN</td>\n",
       "      <td>NaN</td>\n",
       "      <td>NaN</td>\n",
       "      <td>NaN</td>\n",
       "      <td>NaN</td>\n",
       "    </tr>\n",
       "    <tr>\n",
       "      <th>0</th>\n",
       "      <td>15</td>\n",
       "      <td>141f3a4594cc072f25839a087163dbfd</td>\n",
       "      <td>{\"cutoff\": \"quantile_0.1\", \"eval_fairness_grou...</td>\n",
       "      <td>30.288903</td>\n",
       "      <td>89710</td>\n",
       "      <td>1.0</td>\n",
       "      <td>0.065369</td>\n",
       "      <td>0.930525</td>\n",
       "      <td>0.058975</td>\n",
       "      <td>0.937624</td>\n",
       "      <td>...</td>\n",
       "      <td>0.119567</td>\n",
       "      <td>0.142876</td>\n",
       "      <td>0.940898</td>\n",
       "      <td>0.875529</td>\n",
       "      <td>0.019426</td>\n",
       "      <td>0.041466</td>\n",
       "      <td>0.945472</td>\n",
       "      <td>0.886497</td>\n",
       "      <td>20540.0</td>\n",
       "      <td>69170.0</td>\n",
       "    </tr>\n",
       "    <tr>\n",
       "      <th>0</th>\n",
       "      <td>15</td>\n",
       "      <td>141f3a4594cc072f25839a087163dbfd</td>\n",
       "      <td>{\"cutoff\": \"quantile_0.25\", \"eval_fairness_gro...</td>\n",
       "      <td>30.288903</td>\n",
       "      <td>89710</td>\n",
       "      <td>1.0</td>\n",
       "      <td>0.145415</td>\n",
       "      <td>0.827130</td>\n",
       "      <td>0.131154</td>\n",
       "      <td>0.845904</td>\n",
       "      <td>...</td>\n",
       "      <td>NaN</td>\n",
       "      <td>NaN</td>\n",
       "      <td>NaN</td>\n",
       "      <td>NaN</td>\n",
       "      <td>NaN</td>\n",
       "      <td>NaN</td>\n",
       "      <td>NaN</td>\n",
       "      <td>NaN</td>\n",
       "      <td>NaN</td>\n",
       "      <td>NaN</td>\n",
       "    </tr>\n",
       "    <tr>\n",
       "      <th>0</th>\n",
       "      <td>15</td>\n",
       "      <td>141f3a4594cc072f25839a087163dbfd</td>\n",
       "      <td>{\"cutoff\": \"quantile_0.25\", \"eval_fairness_gro...</td>\n",
       "      <td>30.288903</td>\n",
       "      <td>89710</td>\n",
       "      <td>1.0</td>\n",
       "      <td>0.145415</td>\n",
       "      <td>0.827130</td>\n",
       "      <td>0.131154</td>\n",
       "      <td>0.845904</td>\n",
       "      <td>...</td>\n",
       "      <td>0.125615</td>\n",
       "      <td>0.161305</td>\n",
       "      <td>0.841184</td>\n",
       "      <td>0.695769</td>\n",
       "      <td>0.072635</td>\n",
       "      <td>0.121116</td>\n",
       "      <td>0.851120</td>\n",
       "      <td>0.719965</td>\n",
       "      <td>20540.0</td>\n",
       "      <td>69170.0</td>\n",
       "    </tr>\n",
       "  </tbody>\n",
       "</table>\n",
       "<p>4 rows × 50 columns</p>\n",
       "</div>"
      ],
      "text/plain": [
       "  run_no                       universe_id  \\\n",
       "0     15  141f3a4594cc072f25839a087163dbfd   \n",
       "0     15  141f3a4594cc072f25839a087163dbfd   \n",
       "0     15  141f3a4594cc072f25839a087163dbfd   \n",
       "0     15  141f3a4594cc072f25839a087163dbfd   \n",
       "\n",
       "                                   universe_settings  execution_time  \\\n",
       "0  {\"cutoff\": \"quantile_0.1\", \"eval_fairness_grou...       30.288903   \n",
       "0  {\"cutoff\": \"quantile_0.1\", \"eval_fairness_grou...       30.288903   \n",
       "0  {\"cutoff\": \"quantile_0.25\", \"eval_fairness_gro...       30.288903   \n",
       "0  {\"cutoff\": \"quantile_0.25\", \"eval_fairness_gro...       30.288903   \n",
       "\n",
       "   test_size_n  test_size_frac  fair_main_equalized_odds_difference  \\\n",
       "0        89710             1.0                             0.065369   \n",
       "0        89710             1.0                             0.065369   \n",
       "0        89710             1.0                             0.145415   \n",
       "0        89710             1.0                             0.145415   \n",
       "\n",
       "   fair_main_equalized_odds_ratio  fair_main_demographic_parity_difference  \\\n",
       "0                        0.930525                                 0.058975   \n",
       "0                        0.930525                                 0.058975   \n",
       "0                        0.827130                                 0.131154   \n",
       "0                        0.827130                                 0.131154   \n",
       "\n",
       "   fair_main_demographic_parity_ratio  ...  perf_grp_precision_0  \\\n",
       "0                            0.937624  ...                   NaN   \n",
       "0                            0.937624  ...              0.119567   \n",
       "0                            0.845904  ...                   NaN   \n",
       "0                            0.845904  ...              0.125615   \n",
       "\n",
       "   perf_grp_precision_1  perf_grp_false positive rate_0  \\\n",
       "0                   NaN                             NaN   \n",
       "0              0.142876                        0.940898   \n",
       "0                   NaN                             NaN   \n",
       "0              0.161305                        0.841184   \n",
       "\n",
       "   perf_grp_false positive rate_1  perf_grp_false negative rate_0  \\\n",
       "0                             NaN                             NaN   \n",
       "0                        0.875529                        0.019426   \n",
       "0                             NaN                             NaN   \n",
       "0                        0.695769                        0.072635   \n",
       "\n",
       "   perf_grp_false negative rate_1  perf_grp_selection rate_0  \\\n",
       "0                             NaN                        NaN   \n",
       "0                        0.041466                   0.945472   \n",
       "0                             NaN                        NaN   \n",
       "0                        0.121116                   0.851120   \n",
       "\n",
       "   perf_grp_selection rate_1  perf_grp_count_0  perf_grp_count_1  \n",
       "0                        NaN               NaN               NaN  \n",
       "0                   0.886497           20540.0           69170.0  \n",
       "0                        NaN               NaN               NaN  \n",
       "0                   0.719965           20540.0           69170.0  \n",
       "\n",
       "[4 rows x 50 columns]"
      ]
     },
     "execution_count": 66,
     "metadata": {},
     "output_type": "execute_result"
    }
   ],
   "source": [
    "final_output = universe_analysis.generate_final_output(\n",
    "    y_pred_prob=probs_test,\n",
    "    y_test=y_true,\n",
    "    org_test=org_test,\n",
    "    filter_data=filter_sub_universe_data,\n",
    "    cp_metrics_df=cp_metrics_df,\n",
    "    save=True,\n",
    ")\n",
    "final_output"
   ]
  }
 ],
 "metadata": {
  "celltoolbar": "Tags",
  "kernelspec": {
   "display_name": "Python (CMA Fairness)",
   "language": "python",
   "name": "cma_fair_env"
  },
  "language_info": {
   "codemirror_mode": {
    "name": "ipython",
    "version": 3
   },
   "file_extension": ".py",
   "mimetype": "text/x-python",
   "name": "python",
   "nbconvert_exporter": "python",
   "pygments_lexer": "ipython3",
   "version": "3.10.12"
  },
  "papermill": {
   "default_parameters": {},
   "duration": 45.968919,
   "end_time": "2025-08-05T16:18:57.903425",
   "environment_variables": {},
   "exception": null,
   "input_path": "universe_analysis.ipynb",
   "output_path": "output/runs/15/notebooks/m_15-141f3a4594cc072f25839a087163dbfd.ipynb",
   "parameters": {
    "output_dir": "output",
    "run_no": "15",
    "seed": "2023",
    "universe": "{\"cutoff\": [\"quantile_0.1\", \"quantile_0.25\"], \"eval_fairness_grouping\": [\"majority-minority\", \"nationality-all\"], \"exclude_features\": \"age\", \"exclude_subgroups\": \"drop-non-german\", \"model\": \"penalized_logreg\", \"scale\": \"scale\", \"training_size\": \"1k\", \"training_year\": \"2012_14\"}",
    "universe_id": "141f3a4594cc072f25839a087163dbfd"
   },
   "start_time": "2025-08-05T16:18:11.934506",
   "version": "2.6.0"
  }
 },
 "nbformat": 4,
 "nbformat_minor": 5
}