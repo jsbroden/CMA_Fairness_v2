{
 "cells": [
  {
   "cell_type": "code",
   "execution_count": 1,
   "id": "f159f837-637b-42ba-96b5-ec9a68c44524",
   "metadata": {
    "execution": {
     "iopub.execute_input": "2025-08-05T16:40:37.406505Z",
     "iopub.status.busy": "2025-08-05T16:40:37.406022Z",
     "iopub.status.idle": "2025-08-05T16:40:37.420978Z",
     "shell.execute_reply": "2025-08-05T16:40:37.419970Z"
    },
    "papermill": {
     "duration": 0.030578,
     "end_time": "2025-08-05T16:40:37.422724",
     "exception": false,
     "start_time": "2025-08-05T16:40:37.392146",
     "status": "completed"
    },
    "tags": []
   },
   "outputs": [
    {
     "name": "stdout",
     "output_type": "stream",
     "text": [
      "/dss/dsshome1/0C/ra93lal2/cma/CMA_Fairness_v2\n"
     ]
    },
    {
     "name": "stderr",
     "output_type": "stream",
     "text": [
      "/dss/dsshome1/0C/ra93lal2/.local/share/virtualenvs/CMA_Fairness_v2-3j10GkSs/lib/python3.10/site-packages/IPython/core/magics/osm.py:393: UserWarning: This is now an optional IPython functionality, using bookmarks requires you to install the `pickleshare` library.\n",
      "  bkms = self.shell.db.get('bookmarks', {})\n",
      "/dss/dsshome1/0C/ra93lal2/.local/share/virtualenvs/CMA_Fairness_v2-3j10GkSs/lib/python3.10/site-packages/IPython/core/magics/osm.py:417: UserWarning: This is now an optional IPython functionality, setting dhist requires you to install the `pickleshare` library.\n",
      "  self.shell.db['dhist'] = compress_dhist(dhist)[-100:]\n"
     ]
    }
   ],
   "source": [
    "%cd ~/cma/CMA_Fairness_v2"
   ]
  },
  {
   "cell_type": "markdown",
   "id": "de2603b9",
   "metadata": {
    "papermill": {
     "duration": 0.017462,
     "end_time": "2025-08-05T16:40:37.458636",
     "exception": false,
     "start_time": "2025-08-05T16:40:37.441174",
     "status": "completed"
    },
    "tags": []
   },
   "source": [
    "The following cell holds the definition of our parameters, these values can be overriden by rendering the with e.g. the following command:\n",
    "\n",
    "papermill -p alpha 0.2 -p ratio 0.3 universe_analysis.ipynb output/test_run.ipynb"
   ]
  },
  {
   "cell_type": "code",
   "execution_count": 2,
   "id": "a80968a0-40bb-4fa9-85ef-2d5eefb01975",
   "metadata": {
    "execution": {
     "iopub.execute_input": "2025-08-05T16:40:37.491589Z",
     "iopub.status.busy": "2025-08-05T16:40:37.490986Z",
     "iopub.status.idle": "2025-08-05T16:40:37.496115Z",
     "shell.execute_reply": "2025-08-05T16:40:37.495167Z"
    },
    "papermill": {
     "duration": 0.027042,
     "end_time": "2025-08-05T16:40:37.498179",
     "exception": false,
     "start_time": "2025-08-05T16:40:37.471137",
     "status": "completed"
    },
    "tags": []
   },
   "outputs": [
    {
     "name": "stdout",
     "output_type": "stream",
     "text": [
      "Current working directory: /dss/dsshome1/0C/ra93lal2/cma/CMA_Fairness_v2\n"
     ]
    }
   ],
   "source": [
    "import os\n",
    "print(\"Current working directory:\", os.getcwd())"
   ]
  },
  {
   "cell_type": "code",
   "execution_count": 3,
   "id": "2dce4c03",
   "metadata": {
    "execution": {
     "iopub.execute_input": "2025-08-05T16:40:37.527937Z",
     "iopub.status.busy": "2025-08-05T16:40:37.527221Z",
     "iopub.status.idle": "2025-08-05T16:40:37.534027Z",
     "shell.execute_reply": "2025-08-05T16:40:37.533085Z"
    },
    "papermill": {
     "duration": 0.020242,
     "end_time": "2025-08-05T16:40:37.535695",
     "exception": false,
     "start_time": "2025-08-05T16:40:37.515453",
     "status": "completed"
    },
    "tags": [
     "parameters"
    ]
   },
   "outputs": [],
   "source": [
    "run_no = 0\n",
    "universe_id = \"test\"\n",
    "universe = {\n",
    "    \"training_size\": \"25k\", # \"25k\", \"5k\", \"1k\"\n",
    "    \"training_year\": \"2014\", # \"2014\", \"2012_14\", \"2010_14\"\n",
    "    \"scale\": \"scale\", # \"scale\", \"do-not-scale\",\n",
    "    \"model\": \"elasticnet\", # \"logreg\", \"penalized_logreg\", \"rf\", \"gbm\", \"elasticnet\"\n",
    "    \"cutoff\": [\"quantile_0.15\", \"quantile_0.30\"],\n",
    "    \"exclude_features\": \"age\", # \"none\", \"nationality\", \"sex\", \"nationality-sex\", \"age\"\n",
    "    \"exclude_subgroups\": \"keep-all\", # \"keep-all\", \"drop-non-german\"\n",
    "    \"eval_fairness_grouping\": [\"majority-minority\", \"nationality-all\"]\n",
    "}\n",
    "\n",
    "output_dir=\"./output\"\n",
    "seed=0"
   ]
  },
  {
   "cell_type": "code",
   "execution_count": 4,
   "id": "c85c3eaf",
   "metadata": {
    "execution": {
     "iopub.execute_input": "2025-08-05T16:40:37.572765Z",
     "iopub.status.busy": "2025-08-05T16:40:37.572396Z",
     "iopub.status.idle": "2025-08-05T16:40:37.577606Z",
     "shell.execute_reply": "2025-08-05T16:40:37.576587Z"
    },
    "papermill": {
     "duration": 0.025529,
     "end_time": "2025-08-05T16:40:37.579727",
     "exception": false,
     "start_time": "2025-08-05T16:40:37.554198",
     "status": "completed"
    },
    "tags": [
     "injected-parameters"
    ]
   },
   "outputs": [],
   "source": [
    "# Parameters\n",
    "universe_id = \"b099f47114c8c74041df535d2f7b31b6\"\n",
    "run_no = \"15\"\n",
    "universe = \"{\\\"cutoff\\\": [\\\"quantile_0.1\\\", \\\"quantile_0.25\\\"], \\\"eval_fairness_grouping\\\": [\\\"majority-minority\\\", \\\"nationality-all\\\"], \\\"exclude_features\\\": \\\"nationality-sex\\\", \\\"exclude_subgroups\\\": \\\"drop-non-german\\\", \\\"model\\\": \\\"penalized_logreg\\\", \\\"scale\\\": \\\"do-not-scale\\\", \\\"training_size\\\": \\\"1k\\\", \\\"training_year\\\": \\\"2010_14\\\"}\"\n",
    "output_dir = \"output\"\n",
    "seed = \"2023\"\n"
   ]
  },
  {
   "cell_type": "code",
   "execution_count": 5,
   "id": "1650acaf",
   "metadata": {
    "execution": {
     "iopub.execute_input": "2025-08-05T16:40:37.621363Z",
     "iopub.status.busy": "2025-08-05T16:40:37.620612Z",
     "iopub.status.idle": "2025-08-05T16:40:37.627641Z",
     "shell.execute_reply": "2025-08-05T16:40:37.626754Z"
    },
    "papermill": {
     "duration": 0.029222,
     "end_time": "2025-08-05T16:40:37.629037",
     "exception": false,
     "start_time": "2025-08-05T16:40:37.599815",
     "status": "completed"
    },
    "tags": []
   },
   "outputs": [],
   "source": [
    "import json\n",
    "if isinstance(universe, str):\n",
    "    universe = json.loads(universe)"
   ]
  },
  {
   "cell_type": "code",
   "execution_count": 6,
   "id": "16620c48",
   "metadata": {
    "execution": {
     "iopub.execute_input": "2025-08-05T16:40:37.649221Z",
     "iopub.status.busy": "2025-08-05T16:40:37.648524Z",
     "iopub.status.idle": "2025-08-05T16:40:37.700586Z",
     "shell.execute_reply": "2025-08-05T16:40:37.699793Z"
    },
    "papermill": {
     "duration": 0.064089,
     "end_time": "2025-08-05T16:40:37.702211",
     "exception": false,
     "start_time": "2025-08-05T16:40:37.638122",
     "status": "completed"
    },
    "tags": []
   },
   "outputs": [],
   "source": [
    "# Auto-reload the custom package\n",
    "%load_ext autoreload\n",
    "%autoreload 1\n",
    "%aimport fairness_multiverse"
   ]
  },
  {
   "cell_type": "code",
   "execution_count": 7,
   "id": "01c5c9f3",
   "metadata": {
    "execution": {
     "iopub.execute_input": "2025-08-05T16:40:37.722167Z",
     "iopub.status.busy": "2025-08-05T16:40:37.721318Z",
     "iopub.status.idle": "2025-08-05T16:40:39.629239Z",
     "shell.execute_reply": "2025-08-05T16:40:39.628078Z"
    },
    "papermill": {
     "duration": 1.919496,
     "end_time": "2025-08-05T16:40:39.631195",
     "exception": false,
     "start_time": "2025-08-05T16:40:37.711699",
     "status": "completed"
    },
    "tags": []
   },
   "outputs": [],
   "source": [
    "from fairness_multiverse.universe import UniverseAnalysis\n",
    "\n",
    "universe_analysis = UniverseAnalysis(\n",
    "    run_no = run_no,\n",
    "    universe_id = universe_id,\n",
    "    universe = universe,\n",
    "    output_dir=output_dir,\n",
    ")"
   ]
  },
  {
   "cell_type": "code",
   "execution_count": 8,
   "id": "106241f5",
   "metadata": {
    "execution": {
     "iopub.execute_input": "2025-08-05T16:40:39.669090Z",
     "iopub.status.busy": "2025-08-05T16:40:39.668561Z",
     "iopub.status.idle": "2025-08-05T16:40:39.676622Z",
     "shell.execute_reply": "2025-08-05T16:40:39.675375Z"
    },
    "papermill": {
     "duration": 0.028597,
     "end_time": "2025-08-05T16:40:39.678522",
     "exception": false,
     "start_time": "2025-08-05T16:40:39.649925",
     "status": "completed"
    },
    "tags": []
   },
   "outputs": [
    {
     "name": "stdout",
     "output_type": "stream",
     "text": [
      "Using Seed: 2023\n"
     ]
    }
   ],
   "source": [
    "import numpy as np\n",
    "parsed_seed = int(seed)\n",
    "np.random.seed(parsed_seed)\n",
    "print(f\"Using Seed: {parsed_seed}\")"
   ]
  },
  {
   "cell_type": "markdown",
   "id": "e0ebdc57",
   "metadata": {
    "papermill": {
     "duration": 0.017272,
     "end_time": "2025-08-05T16:40:39.713760",
     "exception": false,
     "start_time": "2025-08-05T16:40:39.696488",
     "status": "completed"
    },
    "tags": []
   },
   "source": [
    "# Loading Data"
   ]
  },
  {
   "cell_type": "code",
   "execution_count": 9,
   "id": "f0496b8a",
   "metadata": {
    "execution": {
     "iopub.execute_input": "2025-08-05T16:40:39.752119Z",
     "iopub.status.busy": "2025-08-05T16:40:39.751477Z",
     "iopub.status.idle": "2025-08-05T16:40:52.390779Z",
     "shell.execute_reply": "2025-08-05T16:40:52.389523Z"
    },
    "papermill": {
     "duration": 12.660106,
     "end_time": "2025-08-05T16:40:52.392600",
     "exception": false,
     "start_time": "2025-08-05T16:40:39.732494",
     "status": "completed"
    },
    "tags": []
   },
   "outputs": [
    {
     "name": "stdout",
     "output_type": "stream",
     "text": [
      "Loading SIAB data from cache: data/siab_cached.csv.gz\n"
     ]
    },
    {
     "name": "stdout",
     "output_type": "stream",
     "text": [
      "(643690, 164)\n"
     ]
    }
   ],
   "source": [
    "from pathlib import Path\n",
    "import pandas as pd\n",
    "\n",
    "# File paths\n",
    "raw_file = Path(\"data/raw/siab.csv\")\n",
    "cache_file = Path(\"data/siab_cached.csv.gz\")\n",
    "\n",
    "# Ensure cache directory exists\n",
    "cache_file.parent.mkdir(parents=True, exist_ok=True)\n",
    "\n",
    "# Load with simple caching\n",
    "if cache_file.exists():\n",
    "    print(f\"Loading SIAB data from cache: {cache_file}\")\n",
    "    siab = pd.read_csv(cache_file, compression='gzip')\n",
    "else:\n",
    "    print(f\"Cache not found. Reading raw SIAB data: {raw_file}\")\n",
    "    siab = pd.read_csv(raw_file)\n",
    "    siab.to_csv(cache_file, index=False, compression='gzip')\n",
    "    print(f\"Cached SIAB data to: {cache_file}\")\n",
    "\n",
    "print(siab.shape)"
   ]
  },
  {
   "cell_type": "code",
   "execution_count": 10,
   "id": "db0ca512-5f53-4dba-abdb-a2888bca41ba",
   "metadata": {
    "execution": {
     "iopub.execute_input": "2025-08-05T16:40:52.438204Z",
     "iopub.status.busy": "2025-08-05T16:40:52.437283Z",
     "iopub.status.idle": "2025-08-05T16:40:52.443193Z",
     "shell.execute_reply": "2025-08-05T16:40:52.442174Z"
    },
    "papermill": {
     "duration": 0.029572,
     "end_time": "2025-08-05T16:40:52.445032",
     "exception": false,
     "start_time": "2025-08-05T16:40:52.415460",
     "status": "completed"
    },
    "tags": []
   },
   "outputs": [],
   "source": [
    "#siab"
   ]
  },
  {
   "cell_type": "markdown",
   "id": "997051c5-15bd-4b69-9786-c3001a3ce484",
   "metadata": {
    "papermill": {
     "duration": 0.017478,
     "end_time": "2025-08-05T16:40:52.479983",
     "exception": false,
     "start_time": "2025-08-05T16:40:52.462505",
     "status": "completed"
    },
    "tags": []
   },
   "source": [
    "# Splitting Data and Setting Training Data Size"
   ]
  },
  {
   "cell_type": "code",
   "execution_count": 11,
   "id": "aea9c6ef-6f46-42c8-85eb-5a62025c1508",
   "metadata": {
    "execution": {
     "iopub.execute_input": "2025-08-05T16:40:52.516494Z",
     "iopub.status.busy": "2025-08-05T16:40:52.515656Z",
     "iopub.status.idle": "2025-08-05T16:40:53.555611Z",
     "shell.execute_reply": "2025-08-05T16:40:53.554815Z"
    },
    "papermill": {
     "duration": 1.059854,
     "end_time": "2025-08-05T16:40:53.557091",
     "exception": false,
     "start_time": "2025-08-05T16:40:52.497237",
     "status": "completed"
    },
    "tags": []
   },
   "outputs": [],
   "source": [
    "from fairness_multiverse.universe import sample_by_year_size\n",
    "\n",
    "siab_train = sample_by_year_size(siab,\n",
    "                               training_year=universe[\"training_year\"],\n",
    "                               training_size=universe[\"training_size\"])"
   ]
  },
  {
   "cell_type": "code",
   "execution_count": 12,
   "id": "8d3afb32-789d-442c-8d5d-9f5aa8dd2eed",
   "metadata": {
    "execution": {
     "iopub.execute_input": "2025-08-05T16:40:53.577793Z",
     "iopub.status.busy": "2025-08-05T16:40:53.577230Z",
     "iopub.status.idle": "2025-08-05T16:40:53.582233Z",
     "shell.execute_reply": "2025-08-05T16:40:53.581336Z"
    },
    "papermill": {
     "duration": 0.016858,
     "end_time": "2025-08-05T16:40:53.583896",
     "exception": false,
     "start_time": "2025-08-05T16:40:53.567038",
     "status": "completed"
    },
    "tags": []
   },
   "outputs": [],
   "source": [
    "#siab_train.shape"
   ]
  },
  {
   "cell_type": "code",
   "execution_count": 13,
   "id": "d582db68-1a4c-47fb-84fc-08518dc1975a",
   "metadata": {
    "execution": {
     "iopub.execute_input": "2025-08-05T16:40:53.604969Z",
     "iopub.status.busy": "2025-08-05T16:40:53.604551Z",
     "iopub.status.idle": "2025-08-05T16:40:53.609816Z",
     "shell.execute_reply": "2025-08-05T16:40:53.608471Z"
    },
    "papermill": {
     "duration": 0.017693,
     "end_time": "2025-08-05T16:40:53.612353",
     "exception": false,
     "start_time": "2025-08-05T16:40:53.594660",
     "status": "completed"
    },
    "tags": []
   },
   "outputs": [],
   "source": [
    "#display(siab_train.groupby(\"year\").size())"
   ]
  },
  {
   "cell_type": "code",
   "execution_count": 14,
   "id": "a561edb4-d032-42cb-8256-22eac1111c64",
   "metadata": {
    "execution": {
     "iopub.execute_input": "2025-08-05T16:40:53.663384Z",
     "iopub.status.busy": "2025-08-05T16:40:53.662837Z",
     "iopub.status.idle": "2025-08-05T16:40:53.936142Z",
     "shell.execute_reply": "2025-08-05T16:40:53.935095Z"
    },
    "papermill": {
     "duration": 0.298844,
     "end_time": "2025-08-05T16:40:53.938686",
     "exception": false,
     "start_time": "2025-08-05T16:40:53.639842",
     "status": "completed"
    },
    "tags": []
   },
   "outputs": [],
   "source": [
    "#siab_train = siab_s[siab_s.year < 2015]\n",
    "siab_calib = siab[siab.year == 2015]\n",
    "siab_test = siab[siab.year == 2016]"
   ]
  },
  {
   "cell_type": "code",
   "execution_count": 15,
   "id": "472de16f-c3db-4916-846b-1f0de9cf1746",
   "metadata": {
    "execution": {
     "iopub.execute_input": "2025-08-05T16:40:53.984179Z",
     "iopub.status.busy": "2025-08-05T16:40:53.983630Z",
     "iopub.status.idle": "2025-08-05T16:40:53.992056Z",
     "shell.execute_reply": "2025-08-05T16:40:53.990613Z"
    },
    "papermill": {
     "duration": 0.030145,
     "end_time": "2025-08-05T16:40:53.994698",
     "exception": false,
     "start_time": "2025-08-05T16:40:53.964553",
     "status": "completed"
    },
    "tags": []
   },
   "outputs": [],
   "source": [
    "X_train = siab_train.iloc[:,4:164]\n",
    "y_train = siab_train.iloc[:, [3]]"
   ]
  },
  {
   "cell_type": "code",
   "execution_count": 16,
   "id": "828c96af-f43a-4ed6-ba47-8ac73a47d56c",
   "metadata": {
    "execution": {
     "iopub.execute_input": "2025-08-05T16:40:54.049111Z",
     "iopub.status.busy": "2025-08-05T16:40:54.048741Z",
     "iopub.status.idle": "2025-08-05T16:40:54.104834Z",
     "shell.execute_reply": "2025-08-05T16:40:54.103362Z"
    },
    "papermill": {
     "duration": 0.086227,
     "end_time": "2025-08-05T16:40:54.107441",
     "exception": false,
     "start_time": "2025-08-05T16:40:54.021214",
     "status": "completed"
    },
    "tags": []
   },
   "outputs": [],
   "source": [
    "X_calib = siab_calib.iloc[:,4:164]\n",
    "y_calib = siab_calib.iloc[:, [3]]"
   ]
  },
  {
   "cell_type": "code",
   "execution_count": 17,
   "id": "c34be9c3-6bd6-476e-acd3-845840e303be",
   "metadata": {
    "execution": {
     "iopub.execute_input": "2025-08-05T16:40:54.161419Z",
     "iopub.status.busy": "2025-08-05T16:40:54.161027Z",
     "iopub.status.idle": "2025-08-05T16:40:54.219256Z",
     "shell.execute_reply": "2025-08-05T16:40:54.217812Z"
    },
    "papermill": {
     "duration": 0.087688,
     "end_time": "2025-08-05T16:40:54.221900",
     "exception": false,
     "start_time": "2025-08-05T16:40:54.134212",
     "status": "completed"
    },
    "tags": []
   },
   "outputs": [],
   "source": [
    "X_test = siab_test.iloc[:,4:164]\n",
    "y_true = siab_test.iloc[:, [3]]"
   ]
  },
  {
   "cell_type": "code",
   "execution_count": 18,
   "id": "e6c733c5",
   "metadata": {
    "execution": {
     "iopub.execute_input": "2025-08-05T16:40:54.276990Z",
     "iopub.status.busy": "2025-08-05T16:40:54.276272Z",
     "iopub.status.idle": "2025-08-05T16:40:54.374998Z",
     "shell.execute_reply": "2025-08-05T16:40:54.373790Z"
    },
    "papermill": {
     "duration": 0.12843,
     "end_time": "2025-08-05T16:40:54.377497",
     "exception": false,
     "start_time": "2025-08-05T16:40:54.249067",
     "status": "completed"
    },
    "tags": []
   },
   "outputs": [],
   "source": [
    "# Auxiliary data needed downstream in the pipeline\n",
    "\n",
    "org_train = X_train.copy()\n",
    "org_test = X_test.copy()\n",
    "org_calib = X_calib.copy()"
   ]
  },
  {
   "cell_type": "markdown",
   "id": "0a4a1b33",
   "metadata": {
    "papermill": {
     "duration": 0.025172,
     "end_time": "2025-08-05T16:40:54.428729",
     "exception": false,
     "start_time": "2025-08-05T16:40:54.403557",
     "status": "completed"
    },
    "tags": []
   },
   "source": [
    "# Preprocessing Data"
   ]
  },
  {
   "cell_type": "code",
   "execution_count": 19,
   "id": "ca879031",
   "metadata": {
    "execution": {
     "iopub.execute_input": "2025-08-05T16:40:54.481785Z",
     "iopub.status.busy": "2025-08-05T16:40:54.480960Z",
     "iopub.status.idle": "2025-08-05T16:40:54.488109Z",
     "shell.execute_reply": "2025-08-05T16:40:54.486910Z"
    },
    "papermill": {
     "duration": 0.035962,
     "end_time": "2025-08-05T16:40:54.490309",
     "exception": false,
     "start_time": "2025-08-05T16:40:54.454347",
     "status": "completed"
    },
    "tags": []
   },
   "outputs": [],
   "source": [
    "# EXCLUDE PROTECTED FEATURES\n",
    "# ----------------------\n",
    "# \"exclude_features\": \"none\", # \"nationality\", \"sex\", \"nationality-sex\"\n",
    "\n",
    "excluded_features = universe[\"exclude_features\"].split(\"-\") # split, e.g.: \"nationality-sex\" -> [\"nationality\", \"sex\"]\n",
    "excluded_features_dictionary = {\n",
    "    \"nationality\": [\"maxdeutsch1\", \"maxdeutsch.Missing.\"],\n",
    "    \"sex\": [\"frau1\"],\n",
    "    \"age\": [\"age\"],\n",
    "}"
   ]
  },
  {
   "cell_type": "code",
   "execution_count": 20,
   "id": "b745ac60",
   "metadata": {
    "execution": {
     "iopub.execute_input": "2025-08-05T16:40:54.534424Z",
     "iopub.status.busy": "2025-08-05T16:40:54.533430Z",
     "iopub.status.idle": "2025-08-05T16:40:54.539640Z",
     "shell.execute_reply": "2025-08-05T16:40:54.538612Z"
    },
    "papermill": {
     "duration": 0.029487,
     "end_time": "2025-08-05T16:40:54.541512",
     "exception": false,
     "start_time": "2025-08-05T16:40:54.512025",
     "status": "completed"
    },
    "tags": []
   },
   "outputs": [],
   "source": [
    "# Code nice names to column names\n",
    "\n",
    "excluded_features_columns = [\n",
    "    excluded_features_dictionary[f] for f in excluded_features if len(f) > 0 and f != \"none\"\n",
    "]"
   ]
  },
  {
   "cell_type": "code",
   "execution_count": 21,
   "id": "f84f73a2",
   "metadata": {
    "execution": {
     "iopub.execute_input": "2025-08-05T16:40:54.580131Z",
     "iopub.status.busy": "2025-08-05T16:40:54.579245Z",
     "iopub.status.idle": "2025-08-05T16:40:54.586276Z",
     "shell.execute_reply": "2025-08-05T16:40:54.585058Z"
    },
    "papermill": {
     "duration": 0.027523,
     "end_time": "2025-08-05T16:40:54.588205",
     "exception": false,
     "start_time": "2025-08-05T16:40:54.560682",
     "status": "completed"
    },
    "tags": []
   },
   "outputs": [],
   "source": [
    "from utils import flatten_once\n",
    "\n",
    "excluded_features_columns = flatten_once(excluded_features_columns)"
   ]
  },
  {
   "cell_type": "code",
   "execution_count": 22,
   "id": "884dea22",
   "metadata": {
    "execution": {
     "iopub.execute_input": "2025-08-05T16:40:54.626792Z",
     "iopub.status.busy": "2025-08-05T16:40:54.626322Z",
     "iopub.status.idle": "2025-08-05T16:40:54.634630Z",
     "shell.execute_reply": "2025-08-05T16:40:54.633481Z"
    },
    "papermill": {
     "duration": 0.029591,
     "end_time": "2025-08-05T16:40:54.636516",
     "exception": false,
     "start_time": "2025-08-05T16:40:54.606925",
     "status": "completed"
    },
    "tags": []
   },
   "outputs": [
    {
     "name": "stdout",
     "output_type": "stream",
     "text": [
      "Dropping features: ['maxdeutsch1', 'maxdeutsch.Missing.', 'frau1']\n"
     ]
    }
   ],
   "source": [
    "if len(excluded_features_columns) > 0:\n",
    "    print(f\"Dropping features: {excluded_features_columns}\")\n",
    "    X_train.drop(excluded_features_columns, axis=1, inplace=True)"
   ]
  },
  {
   "cell_type": "code",
   "execution_count": 23,
   "id": "95ab8b16",
   "metadata": {
    "execution": {
     "iopub.execute_input": "2025-08-05T16:40:54.675610Z",
     "iopub.status.busy": "2025-08-05T16:40:54.674995Z",
     "iopub.status.idle": "2025-08-05T16:40:54.729377Z",
     "shell.execute_reply": "2025-08-05T16:40:54.728248Z"
    },
    "papermill": {
     "duration": 0.076194,
     "end_time": "2025-08-05T16:40:54.731606",
     "exception": false,
     "start_time": "2025-08-05T16:40:54.655412",
     "status": "completed"
    },
    "tags": []
   },
   "outputs": [
    {
     "name": "stdout",
     "output_type": "stream",
     "text": [
      "Dropping features: ['maxdeutsch1', 'maxdeutsch.Missing.', 'frau1']\n"
     ]
    }
   ],
   "source": [
    "if len(excluded_features_columns) > 0:\n",
    "    print(f\"Dropping features: {excluded_features_columns}\")\n",
    "    X_test.drop(excluded_features_columns, axis=1, inplace=True)"
   ]
  },
  {
   "cell_type": "code",
   "execution_count": 24,
   "id": "1853aaf5-fb9f-46cb-a2b5-8ea4ae2237e4",
   "metadata": {
    "execution": {
     "iopub.execute_input": "2025-08-05T16:40:54.780426Z",
     "iopub.status.busy": "2025-08-05T16:40:54.779636Z",
     "iopub.status.idle": "2025-08-05T16:40:54.833375Z",
     "shell.execute_reply": "2025-08-05T16:40:54.832079Z"
    },
    "papermill": {
     "duration": 0.078924,
     "end_time": "2025-08-05T16:40:54.835613",
     "exception": false,
     "start_time": "2025-08-05T16:40:54.756689",
     "status": "completed"
    },
    "tags": []
   },
   "outputs": [
    {
     "name": "stdout",
     "output_type": "stream",
     "text": [
      "Dropping features: ['maxdeutsch1', 'maxdeutsch.Missing.', 'frau1']\n"
     ]
    }
   ],
   "source": [
    "if len(excluded_features_columns) > 0:\n",
    "    print(f\"Dropping features: {excluded_features_columns}\")\n",
    "    X_calib.drop(excluded_features_columns, axis=1, inplace=True)"
   ]
  },
  {
   "cell_type": "code",
   "execution_count": 25,
   "id": "76c4dc6d",
   "metadata": {
    "execution": {
     "iopub.execute_input": "2025-08-05T16:40:54.883176Z",
     "iopub.status.busy": "2025-08-05T16:40:54.882604Z",
     "iopub.status.idle": "2025-08-05T16:40:54.888101Z",
     "shell.execute_reply": "2025-08-05T16:40:54.887098Z"
    },
    "papermill": {
     "duration": 0.032691,
     "end_time": "2025-08-05T16:40:54.890276",
     "exception": false,
     "start_time": "2025-08-05T16:40:54.857585",
     "status": "completed"
    },
    "tags": []
   },
   "outputs": [],
   "source": [
    "# EXCLUDE CERTAIN SUBGROUPS\n",
    "# ----------------------\n",
    "\n",
    "mode = universe.get(\"exclude_subgroups\", \"keep-all\") \n",
    "# Fetches the exclude_subgroups setting from the universe dict.\n",
    "# Defaults to \"keep-all\" if the key is missing."
   ]
  },
  {
   "cell_type": "code",
   "execution_count": 26,
   "id": "21994072",
   "metadata": {
    "execution": {
     "iopub.execute_input": "2025-08-05T16:40:54.935639Z",
     "iopub.status.busy": "2025-08-05T16:40:54.935066Z",
     "iopub.status.idle": "2025-08-05T16:40:54.942927Z",
     "shell.execute_reply": "2025-08-05T16:40:54.941805Z"
    },
    "papermill": {
     "duration": 0.03321,
     "end_time": "2025-08-05T16:40:54.945079",
     "exception": false,
     "start_time": "2025-08-05T16:40:54.911869",
     "status": "completed"
    },
    "tags": []
   },
   "outputs": [],
   "source": [
    "if mode == \"keep-all\":\n",
    "    keep_mask = pd.Series(True, index=org_train.index)\n",
    "\n",
    "# org_train contains the original feature columns from features_org (in Simson)\n",
    "# features_org contains unprocessed features, for me X_train at beginning ???\n",
    "# For keep-all, creates a boolean Series (keep_mask) of all True, so no rows are removed.\n",
    "\n",
    "elif mode == \"drop-non-german\":\n",
    "    keep_mask = org_train[\"maxdeutsch1\"] == 1 # ??? what about missing values?\n",
    "\n",
    "else:\n",
    "    raise ValueError(f\"Unsupported mode for exclude_subgroups: {mode}\")"
   ]
  },
  {
   "cell_type": "code",
   "execution_count": 27,
   "id": "71651440",
   "metadata": {
    "execution": {
     "iopub.execute_input": "2025-08-05T16:40:54.990602Z",
     "iopub.status.busy": "2025-08-05T16:40:54.989877Z",
     "iopub.status.idle": "2025-08-05T16:40:54.997726Z",
     "shell.execute_reply": "2025-08-05T16:40:54.996585Z"
    },
    "papermill": {
     "duration": 0.032343,
     "end_time": "2025-08-05T16:40:55.000127",
     "exception": false,
     "start_time": "2025-08-05T16:40:54.967784",
     "status": "completed"
    },
    "tags": []
   },
   "outputs": [
    {
     "name": "stdout",
     "output_type": "stream",
     "text": [
      "Dropping 131 rows (13.10%) where mode='drop-non-german'\n"
     ]
    }
   ],
   "source": [
    "n_drop = (~keep_mask).sum() # Calculates how many rows are set to be dropped\n",
    "if n_drop > 0:\n",
    "    pct = n_drop / len(keep_mask) * 100\n",
    "    print(f\"Dropping {n_drop} rows ({pct:.2f}%) where mode='{mode}'\")"
   ]
  },
  {
   "cell_type": "code",
   "execution_count": 28,
   "id": "5fb8eee5",
   "metadata": {
    "execution": {
     "iopub.execute_input": "2025-08-05T16:40:55.053807Z",
     "iopub.status.busy": "2025-08-05T16:40:55.053223Z",
     "iopub.status.idle": "2025-08-05T16:40:55.060392Z",
     "shell.execute_reply": "2025-08-05T16:40:55.059232Z"
    },
    "papermill": {
     "duration": 0.036456,
     "end_time": "2025-08-05T16:40:55.062918",
     "exception": false,
     "start_time": "2025-08-05T16:40:55.026462",
     "status": "completed"
    },
    "tags": []
   },
   "outputs": [],
   "source": [
    "X_train = X_train[keep_mask]"
   ]
  },
  {
   "cell_type": "code",
   "execution_count": 29,
   "id": "b202bb3a",
   "metadata": {
    "execution": {
     "iopub.execute_input": "2025-08-05T16:40:55.106867Z",
     "iopub.status.busy": "2025-08-05T16:40:55.106305Z",
     "iopub.status.idle": "2025-08-05T16:40:55.113266Z",
     "shell.execute_reply": "2025-08-05T16:40:55.112139Z"
    },
    "papermill": {
     "duration": 0.030384,
     "end_time": "2025-08-05T16:40:55.115505",
     "exception": false,
     "start_time": "2025-08-05T16:40:55.085121",
     "status": "completed"
    },
    "tags": []
   },
   "outputs": [],
   "source": [
    "y_train = y_train[keep_mask]"
   ]
  },
  {
   "cell_type": "markdown",
   "id": "493e2ac3",
   "metadata": {
    "papermill": {
     "duration": 0.021777,
     "end_time": "2025-08-05T16:40:55.159955",
     "exception": false,
     "start_time": "2025-08-05T16:40:55.138178",
     "status": "completed"
    },
    "tags": []
   },
   "source": [
    "# Model Training"
   ]
  },
  {
   "cell_type": "code",
   "execution_count": 30,
   "id": "679e1268",
   "metadata": {
    "execution": {
     "iopub.execute_input": "2025-08-05T16:40:55.206057Z",
     "iopub.status.busy": "2025-08-05T16:40:55.205372Z",
     "iopub.status.idle": "2025-08-05T16:40:55.384970Z",
     "shell.execute_reply": "2025-08-05T16:40:55.383873Z"
    },
    "papermill": {
     "duration": 0.204814,
     "end_time": "2025-08-05T16:40:55.387105",
     "exception": false,
     "start_time": "2025-08-05T16:40:55.182291",
     "status": "completed"
    },
    "tags": []
   },
   "outputs": [],
   "source": [
    "from sklearn.linear_model import LogisticRegression\n",
    "from sklearn.ensemble import GradientBoostingClassifier, RandomForestClassifier\n",
    "\n",
    "if (universe[\"model\"] == \"logreg\"):\n",
    "    model = LogisticRegression() #penalty=\"none\", solver=\"newton-cg\", max_iter=1) # include random_state=19 ?\n",
    "elif (universe[\"model\"] == \"penalized_logreg\"):\n",
    "    model = LogisticRegression(penalty=\"l2\", C=0.1) #, solver=\"newton-cg\", max_iter=1)\n",
    "elif (universe[\"model\"] == \"rf\"):\n",
    "    model = RandomForestClassifier() # n_estimators=100, n_jobs=-1\n",
    "elif (universe[\"model\"] == \"gbm\"):\n",
    "    model = GradientBoostingClassifier()\n",
    "elif (universe[\"model\"] == \"elasticnet\"):\n",
    "    model = LogisticRegression(penalty = 'elasticnet', solver = 'saga', l1_ratio = 0.5) # max_iter=5000\n",
    "else:\n",
    "    raise \"Unsupported universe.model\""
   ]
  },
  {
   "cell_type": "code",
   "execution_count": 31,
   "id": "0cc8f744",
   "metadata": {
    "execution": {
     "iopub.execute_input": "2025-08-05T16:40:55.433032Z",
     "iopub.status.busy": "2025-08-05T16:40:55.432577Z",
     "iopub.status.idle": "2025-08-05T16:40:55.440310Z",
     "shell.execute_reply": "2025-08-05T16:40:55.439122Z"
    },
    "papermill": {
     "duration": 0.034233,
     "end_time": "2025-08-05T16:40:55.442355",
     "exception": false,
     "start_time": "2025-08-05T16:40:55.408122",
     "status": "completed"
    },
    "tags": []
   },
   "outputs": [],
   "source": [
    "import numpy as np\n",
    "from sklearn.pipeline import Pipeline\n",
    "from sklearn.preprocessing import StandardScaler\n",
    "\n",
    "model = Pipeline([\n",
    "    #(\"continuous_processor\", continuous_processor),\n",
    "    #(\"categorical_preprocessor\", categorical_preprocessor),\n",
    "    (\"scale\", StandardScaler() if universe[\"scale\"] == \"scale\" else None), \n",
    "    (\"model\", model),\n",
    "])"
   ]
  },
  {
   "cell_type": "code",
   "execution_count": 32,
   "id": "9442c04d",
   "metadata": {
    "execution": {
     "iopub.execute_input": "2025-08-05T16:40:55.505263Z",
     "iopub.status.busy": "2025-08-05T16:40:55.504770Z",
     "iopub.status.idle": "2025-08-05T16:40:55.579120Z",
     "shell.execute_reply": "2025-08-05T16:40:55.578144Z"
    },
    "papermill": {
     "duration": 0.114854,
     "end_time": "2025-08-05T16:40:55.580778",
     "exception": false,
     "start_time": "2025-08-05T16:40:55.465924",
     "status": "completed"
    },
    "tags": []
   },
   "outputs": [
    {
     "name": "stderr",
     "output_type": "stream",
     "text": [
      "/dss/dsshome1/0C/ra93lal2/.local/share/virtualenvs/CMA_Fairness_v2-3j10GkSs/lib/python3.10/site-packages/sklearn/linear_model/_logistic.py:444: ConvergenceWarning: lbfgs failed to converge (status=1):\n",
      "STOP: TOTAL NO. of ITERATIONS REACHED LIMIT.\n",
      "\n",
      "Increase the number of iterations (max_iter) or scale the data as shown in:\n",
      "    https://scikit-learn.org/stable/modules/preprocessing.html\n",
      "Please also refer to the documentation for alternative solver options:\n",
      "    https://scikit-learn.org/stable/modules/linear_model.html#logistic-regression\n",
      "  n_iter_i = _check_optimize_result(\n"
     ]
    },
    {
     "data": {
      "text/html": [
       "<style>#sk-container-id-1 {color: black;background-color: white;}#sk-container-id-1 pre{padding: 0;}#sk-container-id-1 div.sk-toggleable {background-color: white;}#sk-container-id-1 label.sk-toggleable__label {cursor: pointer;display: block;width: 100%;margin-bottom: 0;padding: 0.3em;box-sizing: border-box;text-align: center;}#sk-container-id-1 label.sk-toggleable__label-arrow:before {content: \"▸\";float: left;margin-right: 0.25em;color: #696969;}#sk-container-id-1 label.sk-toggleable__label-arrow:hover:before {color: black;}#sk-container-id-1 div.sk-estimator:hover label.sk-toggleable__label-arrow:before {color: black;}#sk-container-id-1 div.sk-toggleable__content {max-height: 0;max-width: 0;overflow: hidden;text-align: left;background-color: #f0f8ff;}#sk-container-id-1 div.sk-toggleable__content pre {margin: 0.2em;color: black;border-radius: 0.25em;background-color: #f0f8ff;}#sk-container-id-1 input.sk-toggleable__control:checked~div.sk-toggleable__content {max-height: 200px;max-width: 100%;overflow: auto;}#sk-container-id-1 input.sk-toggleable__control:checked~label.sk-toggleable__label-arrow:before {content: \"▾\";}#sk-container-id-1 div.sk-estimator input.sk-toggleable__control:checked~label.sk-toggleable__label {background-color: #d4ebff;}#sk-container-id-1 div.sk-label input.sk-toggleable__control:checked~label.sk-toggleable__label {background-color: #d4ebff;}#sk-container-id-1 input.sk-hidden--visually {border: 0;clip: rect(1px 1px 1px 1px);clip: rect(1px, 1px, 1px, 1px);height: 1px;margin: -1px;overflow: hidden;padding: 0;position: absolute;width: 1px;}#sk-container-id-1 div.sk-estimator {font-family: monospace;background-color: #f0f8ff;border: 1px dotted black;border-radius: 0.25em;box-sizing: border-box;margin-bottom: 0.5em;}#sk-container-id-1 div.sk-estimator:hover {background-color: #d4ebff;}#sk-container-id-1 div.sk-parallel-item::after {content: \"\";width: 100%;border-bottom: 1px solid gray;flex-grow: 1;}#sk-container-id-1 div.sk-label:hover label.sk-toggleable__label {background-color: #d4ebff;}#sk-container-id-1 div.sk-serial::before {content: \"\";position: absolute;border-left: 1px solid gray;box-sizing: border-box;top: 0;bottom: 0;left: 50%;z-index: 0;}#sk-container-id-1 div.sk-serial {display: flex;flex-direction: column;align-items: center;background-color: white;padding-right: 0.2em;padding-left: 0.2em;position: relative;}#sk-container-id-1 div.sk-item {position: relative;z-index: 1;}#sk-container-id-1 div.sk-parallel {display: flex;align-items: stretch;justify-content: center;background-color: white;position: relative;}#sk-container-id-1 div.sk-item::before, #sk-container-id-1 div.sk-parallel-item::before {content: \"\";position: absolute;border-left: 1px solid gray;box-sizing: border-box;top: 0;bottom: 0;left: 50%;z-index: -1;}#sk-container-id-1 div.sk-parallel-item {display: flex;flex-direction: column;z-index: 1;position: relative;background-color: white;}#sk-container-id-1 div.sk-parallel-item:first-child::after {align-self: flex-end;width: 50%;}#sk-container-id-1 div.sk-parallel-item:last-child::after {align-self: flex-start;width: 50%;}#sk-container-id-1 div.sk-parallel-item:only-child::after {width: 0;}#sk-container-id-1 div.sk-dashed-wrapped {border: 1px dashed gray;margin: 0 0.4em 0.5em 0.4em;box-sizing: border-box;padding-bottom: 0.4em;background-color: white;}#sk-container-id-1 div.sk-label label {font-family: monospace;font-weight: bold;display: inline-block;line-height: 1.2em;}#sk-container-id-1 div.sk-label-container {text-align: center;}#sk-container-id-1 div.sk-container {/* jupyter's `normalize.less` sets `[hidden] { display: none; }` but bootstrap.min.css set `[hidden] { display: none !important; }` so we also need the `!important` here to be able to override the default hidden behavior on the sphinx rendered scikit-learn.org. See: https://github.com/scikit-learn/scikit-learn/issues/21755 */display: inline-block !important;position: relative;}#sk-container-id-1 div.sk-text-repr-fallback {display: none;}</style><div id=\"sk-container-id-1\" class=\"sk-top-container\"><div class=\"sk-text-repr-fallback\"><pre>Pipeline(steps=[(&#x27;scale&#x27;, None), (&#x27;model&#x27;, LogisticRegression(C=0.1))])</pre><b>In a Jupyter environment, please rerun this cell to show the HTML representation or trust the notebook. <br />On GitHub, the HTML representation is unable to render, please try loading this page with nbviewer.org.</b></div><div class=\"sk-container\" hidden><div class=\"sk-item sk-dashed-wrapped\"><div class=\"sk-label-container\"><div class=\"sk-label sk-toggleable\"><input class=\"sk-toggleable__control sk-hidden--visually\" id=\"sk-estimator-id-1\" type=\"checkbox\" ><label for=\"sk-estimator-id-1\" class=\"sk-toggleable__label sk-toggleable__label-arrow\">Pipeline</label><div class=\"sk-toggleable__content\"><pre>Pipeline(steps=[(&#x27;scale&#x27;, None), (&#x27;model&#x27;, LogisticRegression(C=0.1))])</pre></div></div></div><div class=\"sk-serial\"><div class=\"sk-item\"><div class=\"sk-estimator sk-toggleable\"><input class=\"sk-toggleable__control sk-hidden--visually\" id=\"sk-estimator-id-2\" type=\"checkbox\" ><label for=\"sk-estimator-id-2\" class=\"sk-toggleable__label sk-toggleable__label-arrow\">None</label><div class=\"sk-toggleable__content\"><pre>None</pre></div></div></div><div class=\"sk-item\"><div class=\"sk-estimator sk-toggleable\"><input class=\"sk-toggleable__control sk-hidden--visually\" id=\"sk-estimator-id-3\" type=\"checkbox\" ><label for=\"sk-estimator-id-3\" class=\"sk-toggleable__label sk-toggleable__label-arrow\">LogisticRegression</label><div class=\"sk-toggleable__content\"><pre>LogisticRegression(C=0.1)</pre></div></div></div></div></div></div></div>"
      ],
      "text/plain": [
       "Pipeline(steps=[('scale', None), ('model', LogisticRegression(C=0.1))])"
      ]
     },
     "execution_count": 32,
     "metadata": {},
     "output_type": "execute_result"
    }
   ],
   "source": [
    "model.fit(X_train, y_train.values.ravel())"
   ]
  },
  {
   "cell_type": "code",
   "execution_count": 33,
   "id": "af59f8c0",
   "metadata": {
    "execution": {
     "iopub.execute_input": "2025-08-05T16:40:55.628088Z",
     "iopub.status.busy": "2025-08-05T16:40:55.627174Z",
     "iopub.status.idle": "2025-08-05T16:40:55.633714Z",
     "shell.execute_reply": "2025-08-05T16:40:55.632334Z"
    },
    "papermill": {
     "duration": 0.033636,
     "end_time": "2025-08-05T16:40:55.636206",
     "exception": false,
     "start_time": "2025-08-05T16:40:55.602570",
     "status": "completed"
    },
    "tags": []
   },
   "outputs": [],
   "source": [
    "from fairness_multiverse.universe import predict_w_threshold"
   ]
  },
  {
   "cell_type": "code",
   "execution_count": 34,
   "id": "a7cf2e16",
   "metadata": {
    "execution": {
     "iopub.execute_input": "2025-08-05T16:40:55.683781Z",
     "iopub.status.busy": "2025-08-05T16:40:55.683233Z",
     "iopub.status.idle": "2025-08-05T16:40:55.775965Z",
     "shell.execute_reply": "2025-08-05T16:40:55.775270Z"
    },
    "papermill": {
     "duration": 0.117873,
     "end_time": "2025-08-05T16:40:55.777246",
     "exception": false,
     "start_time": "2025-08-05T16:40:55.659373",
     "status": "completed"
    },
    "tags": []
   },
   "outputs": [
    {
     "data": {
      "text/plain": [
       "0.8548768253260506"
      ]
     },
     "execution_count": 34,
     "metadata": {},
     "output_type": "execute_result"
    }
   ],
   "source": [
    "probs_test = model.predict_proba(X_test)\n",
    "\n",
    "'''\n",
    "Below code returns a boolean array (or binary 0/1 array depending on how it’s used) where each element \n",
    "is True if the probability of class 1 is greater than or equal to the threshold, and False otherwise.\n",
    "'''\n",
    "y_pred_default = predict_w_threshold(probs_test, 0.5)\n",
    "\n",
    "from sklearn.metrics import accuracy_score\n",
    "\n",
    "# Naive prediction\n",
    "accuracy_score(y_true = y_true, y_pred = y_pred_default)"
   ]
  },
  {
   "cell_type": "code",
   "execution_count": 35,
   "id": "081964c3",
   "metadata": {
    "execution": {
     "iopub.execute_input": "2025-08-05T16:40:55.803361Z",
     "iopub.status.busy": "2025-08-05T16:40:55.803024Z",
     "iopub.status.idle": "2025-08-05T16:40:55.880947Z",
     "shell.execute_reply": "2025-08-05T16:40:55.879978Z"
    },
    "papermill": {
     "duration": 0.090888,
     "end_time": "2025-08-05T16:40:55.882310",
     "exception": false,
     "start_time": "2025-08-05T16:40:55.791422",
     "status": "completed"
    },
    "tags": []
   },
   "outputs": [
    {
     "data": {
      "text/plain": [
       "array([0, 0, 0, ..., 0, 0, 0])"
      ]
     },
     "execution_count": 35,
     "metadata": {},
     "output_type": "execute_result"
    }
   ],
   "source": [
    "model.predict(X_test)"
   ]
  },
  {
   "cell_type": "markdown",
   "id": "56c9705b",
   "metadata": {
    "papermill": {
     "duration": 0.025974,
     "end_time": "2025-08-05T16:40:55.928866",
     "exception": false,
     "start_time": "2025-08-05T16:40:55.902892",
     "status": "completed"
    },
    "tags": []
   },
   "source": [
    "# Conformal Prediction"
   ]
  },
  {
   "cell_type": "code",
   "execution_count": 36,
   "id": "160ec6ff",
   "metadata": {
    "execution": {
     "iopub.execute_input": "2025-08-05T16:40:55.983921Z",
     "iopub.status.busy": "2025-08-05T16:40:55.983114Z",
     "iopub.status.idle": "2025-08-05T16:40:55.989400Z",
     "shell.execute_reply": "2025-08-05T16:40:55.988278Z"
    },
    "papermill": {
     "duration": 0.036612,
     "end_time": "2025-08-05T16:40:55.991881",
     "exception": false,
     "start_time": "2025-08-05T16:40:55.955269",
     "status": "completed"
    },
    "tags": []
   },
   "outputs": [],
   "source": [
    "# Miscoverage level for conformal prediction (10% allowed error rate => 90% target coverage)\n",
    "alpha = 0.1"
   ]
  },
  {
   "cell_type": "code",
   "execution_count": 37,
   "id": "eadf4555-3dd3-440e-8e35-f82a4ad9f855",
   "metadata": {
    "execution": {
     "iopub.execute_input": "2025-08-05T16:40:56.040768Z",
     "iopub.status.busy": "2025-08-05T16:40:56.040082Z",
     "iopub.status.idle": "2025-08-05T16:40:56.153418Z",
     "shell.execute_reply": "2025-08-05T16:40:56.152268Z"
    },
    "papermill": {
     "duration": 0.140293,
     "end_time": "2025-08-05T16:40:56.155887",
     "exception": false,
     "start_time": "2025-08-05T16:40:56.015594",
     "status": "completed"
    },
    "tags": []
   },
   "outputs": [],
   "source": [
    "probs_calib = model.predict_proba(X_calib)"
   ]
  },
  {
   "cell_type": "code",
   "execution_count": 38,
   "id": "2ed93547-6d5d-4983-9b36-1ecb300da49a",
   "metadata": {
    "execution": {
     "iopub.execute_input": "2025-08-05T16:40:56.204041Z",
     "iopub.status.busy": "2025-08-05T16:40:56.203535Z",
     "iopub.status.idle": "2025-08-05T16:40:56.209476Z",
     "shell.execute_reply": "2025-08-05T16:40:56.208444Z"
    },
    "papermill": {
     "duration": 0.032643,
     "end_time": "2025-08-05T16:40:56.211225",
     "exception": false,
     "start_time": "2025-08-05T16:40:56.178582",
     "status": "completed"
    },
    "tags": []
   },
   "outputs": [],
   "source": [
    "y_calib = y_calib.values.ravel().astype(int)"
   ]
  },
  {
   "cell_type": "code",
   "execution_count": 39,
   "id": "65d1320d-f588-4b38-9072-62af1ae97f7d",
   "metadata": {
    "execution": {
     "iopub.execute_input": "2025-08-05T16:40:56.235568Z",
     "iopub.status.busy": "2025-08-05T16:40:56.234842Z",
     "iopub.status.idle": "2025-08-05T16:40:56.241905Z",
     "shell.execute_reply": "2025-08-05T16:40:56.240603Z"
    },
    "papermill": {
     "duration": 0.020707,
     "end_time": "2025-08-05T16:40:56.243358",
     "exception": false,
     "start_time": "2025-08-05T16:40:56.222651",
     "status": "completed"
    },
    "tags": []
   },
   "outputs": [],
   "source": [
    "from fairness_multiverse.conformal import compute_nc_scores\n",
    "\n",
    "# Compute nonconformity scores on calibration set (1 - probability of true class)\n",
    "nc_scores = compute_nc_scores(probs_calib, y_calib)"
   ]
  },
  {
   "cell_type": "code",
   "execution_count": 40,
   "id": "df3b8ca3-53b7-43d5-9667-7c85da7aeda2",
   "metadata": {
    "execution": {
     "iopub.execute_input": "2025-08-05T16:40:56.267811Z",
     "iopub.status.busy": "2025-08-05T16:40:56.266965Z",
     "iopub.status.idle": "2025-08-05T16:40:56.272546Z",
     "shell.execute_reply": "2025-08-05T16:40:56.271824Z"
    },
    "papermill": {
     "duration": 0.019507,
     "end_time": "2025-08-05T16:40:56.274090",
     "exception": false,
     "start_time": "2025-08-05T16:40:56.254583",
     "status": "completed"
    },
    "tags": []
   },
   "outputs": [],
   "source": [
    "from fairness_multiverse.conformal import find_threshold\n",
    "\n",
    "# Find conformal threshold q_hat for the given alpha (split conformal method)\n",
    "q_hat = find_threshold(nc_scores, alpha)"
   ]
  },
  {
   "cell_type": "code",
   "execution_count": 41,
   "id": "4d29e6c1-0ef6-4aa4-b8fe-4fe79b0d033a",
   "metadata": {
    "execution": {
     "iopub.execute_input": "2025-08-05T16:40:56.316630Z",
     "iopub.status.busy": "2025-08-05T16:40:56.316088Z",
     "iopub.status.idle": "2025-08-05T16:40:56.324386Z",
     "shell.execute_reply": "2025-08-05T16:40:56.323095Z"
    },
    "papermill": {
     "duration": 0.040829,
     "end_time": "2025-08-05T16:40:56.326907",
     "exception": false,
     "start_time": "2025-08-05T16:40:56.286078",
     "status": "completed"
    },
    "tags": []
   },
   "outputs": [
    {
     "data": {
      "text/plain": [
       "0.6878855715364998"
      ]
     },
     "execution_count": 41,
     "metadata": {},
     "output_type": "execute_result"
    }
   ],
   "source": [
    "q_hat"
   ]
  },
  {
   "cell_type": "code",
   "execution_count": 42,
   "id": "92460794-cdac-4be2-ba28-f28c0515a6fb",
   "metadata": {
    "execution": {
     "iopub.execute_input": "2025-08-05T16:40:56.361329Z",
     "iopub.status.busy": "2025-08-05T16:40:56.360928Z",
     "iopub.status.idle": "2025-08-05T16:40:57.072855Z",
     "shell.execute_reply": "2025-08-05T16:40:57.072106Z"
    },
    "papermill": {
     "duration": 0.725743,
     "end_time": "2025-08-05T16:40:57.074425",
     "exception": false,
     "start_time": "2025-08-05T16:40:56.348682",
     "status": "completed"
    },
    "tags": []
   },
   "outputs": [],
   "source": [
    "from fairness_multiverse.conformal import predict_conformal_sets\n",
    "\n",
    "# Generate prediction sets for each test example\n",
    "pred_sets = predict_conformal_sets(model, X_test, q_hat)"
   ]
  },
  {
   "cell_type": "code",
   "execution_count": 43,
   "id": "d90c9a65-e6db-4f5d-80cd-e68fb7e46829",
   "metadata": {
    "execution": {
     "iopub.execute_input": "2025-08-05T16:40:57.104363Z",
     "iopub.status.busy": "2025-08-05T16:40:57.103870Z",
     "iopub.status.idle": "2025-08-05T16:40:57.110408Z",
     "shell.execute_reply": "2025-08-05T16:40:57.109356Z"
    },
    "papermill": {
     "duration": 0.024285,
     "end_time": "2025-08-05T16:40:57.112191",
     "exception": false,
     "start_time": "2025-08-05T16:40:57.087906",
     "status": "completed"
    },
    "tags": []
   },
   "outputs": [],
   "source": [
    "y_true = y_true.squeeze()"
   ]
  },
  {
   "cell_type": "code",
   "execution_count": 44,
   "id": "3a58a54a-1e68-46b9-927a-df01f18aebc8",
   "metadata": {
    "execution": {
     "iopub.execute_input": "2025-08-05T16:40:57.158396Z",
     "iopub.status.busy": "2025-08-05T16:40:57.157476Z",
     "iopub.status.idle": "2025-08-05T16:40:58.408402Z",
     "shell.execute_reply": "2025-08-05T16:40:58.407210Z"
    },
    "papermill": {
     "duration": 1.277098,
     "end_time": "2025-08-05T16:40:58.410446",
     "exception": false,
     "start_time": "2025-08-05T16:40:57.133348",
     "status": "completed"
    },
    "tags": []
   },
   "outputs": [],
   "source": [
    "from fairness_multiverse.conformal import evaluate_sets\n",
    "\n",
    "# Evaluate coverage and average set size on test data\n",
    "metrics = evaluate_sets(pred_sets, y_true)"
   ]
  },
  {
   "cell_type": "markdown",
   "id": "2b569c12-9aaa-4c88-98c9-bbcd0cf3ebb8",
   "metadata": {
    "papermill": {
     "duration": 0.023458,
     "end_time": "2025-08-05T16:40:58.454927",
     "exception": false,
     "start_time": "2025-08-05T16:40:58.431469",
     "status": "completed"
    },
    "tags": []
   },
   "source": [
    "# CP Metrics"
   ]
  },
  {
   "cell_type": "code",
   "execution_count": 45,
   "id": "5ce0a5cb-201f-45a0-ade5-94c7f0bd6095",
   "metadata": {
    "execution": {
     "iopub.execute_input": "2025-08-05T16:40:58.499859Z",
     "iopub.status.busy": "2025-08-05T16:40:58.499291Z",
     "iopub.status.idle": "2025-08-05T16:40:58.506989Z",
     "shell.execute_reply": "2025-08-05T16:40:58.505940Z"
    },
    "papermill": {
     "duration": 0.032147,
     "end_time": "2025-08-05T16:40:58.508940",
     "exception": false,
     "start_time": "2025-08-05T16:40:58.476793",
     "status": "completed"
    },
    "tags": []
   },
   "outputs": [
    {
     "data": {
      "text/plain": [
       "{'coverage': 0.9121056738379222, 'avg_size': 1.239293278341322}"
      ]
     },
     "execution_count": 45,
     "metadata": {},
     "output_type": "execute_result"
    }
   ],
   "source": [
    "metrics"
   ]
  },
  {
   "cell_type": "code",
   "execution_count": 46,
   "id": "9b9a838d-31c9-430b-ae14-12baee460d17",
   "metadata": {
    "execution": {
     "iopub.execute_input": "2025-08-05T16:40:58.556410Z",
     "iopub.status.busy": "2025-08-05T16:40:58.555455Z",
     "iopub.status.idle": "2025-08-05T16:40:58.562443Z",
     "shell.execute_reply": "2025-08-05T16:40:58.561358Z"
    },
    "papermill": {
     "duration": 0.032181,
     "end_time": "2025-08-05T16:40:58.564348",
     "exception": false,
     "start_time": "2025-08-05T16:40:58.532167",
     "status": "completed"
    },
    "tags": []
   },
   "outputs": [],
   "source": [
    "example_universe = universe.copy()\n",
    "universe_training_year = example_universe.get(\"training_year\")\n",
    "universe_training_size = example_universe.get(\"training_size\")\n",
    "universe_scale = example_universe.get(\"scale\")\n",
    "universe_model = example_universe.get(\"model\")\n",
    "universe_exclude_features = example_universe.get(\"exclude_features\")\n",
    "universe_exclude_subgroups = example_universe.get(\"exclude_subgroups\")"
   ]
  },
  {
   "cell_type": "code",
   "execution_count": 47,
   "id": "f4b6a8ac-9dc0-4245-8a91-5b3b5999c4f9",
   "metadata": {
    "execution": {
     "iopub.execute_input": "2025-08-05T16:40:58.610388Z",
     "iopub.status.busy": "2025-08-05T16:40:58.609437Z",
     "iopub.status.idle": "2025-08-05T16:40:58.616707Z",
     "shell.execute_reply": "2025-08-05T16:40:58.615669Z"
    },
    "papermill": {
     "duration": 0.03199,
     "end_time": "2025-08-05T16:40:58.618635",
     "exception": false,
     "start_time": "2025-08-05T16:40:58.586645",
     "status": "completed"
    },
    "tags": []
   },
   "outputs": [],
   "source": [
    "cp_metrics_dict = {\n",
    "    \"universe_id\": [universe_id],\n",
    "    \"universe_training_year\": [universe_training_year],\n",
    "    \"universe_training_size\": [universe_training_size],\n",
    "    \"universe_scale\": [universe_scale],\n",
    "    \"universe_model\": [universe_model],\n",
    "    \"universe_exclude_features\": [universe_exclude_features],\n",
    "    \"universe_exclude_subgroups\": [universe_exclude_subgroups],\n",
    "    \"q_hat\": [q_hat],\n",
    "    \"coverage\": [metrics[\"coverage\"]],\n",
    "    \"avg_size\": [metrics[\"avg_size\"]],\n",
    "}"
   ]
  },
  {
   "cell_type": "code",
   "execution_count": 48,
   "id": "908acbb1-0371-4915-85ca-3fa520d2efe2",
   "metadata": {
    "execution": {
     "iopub.execute_input": "2025-08-05T16:40:58.663938Z",
     "iopub.status.busy": "2025-08-05T16:40:58.663029Z",
     "iopub.status.idle": "2025-08-05T16:40:58.671441Z",
     "shell.execute_reply": "2025-08-05T16:40:58.670106Z"
    },
    "papermill": {
     "duration": 0.033161,
     "end_time": "2025-08-05T16:40:58.673475",
     "exception": false,
     "start_time": "2025-08-05T16:40:58.640314",
     "status": "completed"
    },
    "tags": []
   },
   "outputs": [
    {
     "data": {
      "text/plain": [
       "{'universe_id': ['b099f47114c8c74041df535d2f7b31b6'],\n",
       " 'universe_training_year': ['2010_14'],\n",
       " 'universe_training_size': ['1k'],\n",
       " 'universe_scale': ['do-not-scale'],\n",
       " 'universe_model': ['penalized_logreg'],\n",
       " 'universe_exclude_features': ['nationality-sex'],\n",
       " 'universe_exclude_subgroups': ['drop-non-german'],\n",
       " 'q_hat': [0.6878855715364998],\n",
       " 'coverage': [0.9121056738379222],\n",
       " 'avg_size': [1.239293278341322]}"
      ]
     },
     "execution_count": 48,
     "metadata": {},
     "output_type": "execute_result"
    }
   ],
   "source": [
    "cp_metrics_dict"
   ]
  },
  {
   "cell_type": "code",
   "execution_count": 49,
   "id": "33007efc-14e9-4ec6-97ac-56a455c82265",
   "metadata": {
    "execution": {
     "iopub.execute_input": "2025-08-05T16:40:58.718154Z",
     "iopub.status.busy": "2025-08-05T16:40:58.717498Z",
     "iopub.status.idle": "2025-08-05T16:40:58.723979Z",
     "shell.execute_reply": "2025-08-05T16:40:58.723012Z"
    },
    "papermill": {
     "duration": 0.030382,
     "end_time": "2025-08-05T16:40:58.725948",
     "exception": false,
     "start_time": "2025-08-05T16:40:58.695566",
     "status": "completed"
    },
    "tags": []
   },
   "outputs": [],
   "source": [
    "cp_metrics_df = pd.DataFrame(cp_metrics_dict)"
   ]
  },
  {
   "cell_type": "code",
   "execution_count": 50,
   "id": "db12611b-57b2-4910-b9d0-355adfd6e7bf",
   "metadata": {
    "execution": {
     "iopub.execute_input": "2025-08-05T16:40:58.772532Z",
     "iopub.status.busy": "2025-08-05T16:40:58.771735Z",
     "iopub.status.idle": "2025-08-05T16:40:58.790672Z",
     "shell.execute_reply": "2025-08-05T16:40:58.789640Z"
    },
    "papermill": {
     "duration": 0.043444,
     "end_time": "2025-08-05T16:40:58.792489",
     "exception": false,
     "start_time": "2025-08-05T16:40:58.749045",
     "status": "completed"
    },
    "tags": []
   },
   "outputs": [
    {
     "data": {
      "text/html": [
       "<div>\n",
       "<style scoped>\n",
       "    .dataframe tbody tr th:only-of-type {\n",
       "        vertical-align: middle;\n",
       "    }\n",
       "\n",
       "    .dataframe tbody tr th {\n",
       "        vertical-align: top;\n",
       "    }\n",
       "\n",
       "    .dataframe thead th {\n",
       "        text-align: right;\n",
       "    }\n",
       "</style>\n",
       "<table border=\"1\" class=\"dataframe\">\n",
       "  <thead>\n",
       "    <tr style=\"text-align: right;\">\n",
       "      <th></th>\n",
       "      <th>universe_id</th>\n",
       "      <th>universe_training_year</th>\n",
       "      <th>universe_training_size</th>\n",
       "      <th>universe_scale</th>\n",
       "      <th>universe_model</th>\n",
       "      <th>universe_exclude_features</th>\n",
       "      <th>universe_exclude_subgroups</th>\n",
       "      <th>q_hat</th>\n",
       "      <th>coverage</th>\n",
       "      <th>avg_size</th>\n",
       "    </tr>\n",
       "  </thead>\n",
       "  <tbody>\n",
       "    <tr>\n",
       "      <th>0</th>\n",
       "      <td>b099f47114c8c74041df535d2f7b31b6</td>\n",
       "      <td>2010_14</td>\n",
       "      <td>1k</td>\n",
       "      <td>do-not-scale</td>\n",
       "      <td>penalized_logreg</td>\n",
       "      <td>nationality-sex</td>\n",
       "      <td>drop-non-german</td>\n",
       "      <td>0.687886</td>\n",
       "      <td>0.912106</td>\n",
       "      <td>1.239293</td>\n",
       "    </tr>\n",
       "  </tbody>\n",
       "</table>\n",
       "</div>"
      ],
      "text/plain": [
       "                        universe_id universe_training_year  \\\n",
       "0  b099f47114c8c74041df535d2f7b31b6                2010_14   \n",
       "\n",
       "  universe_training_size universe_scale    universe_model  \\\n",
       "0                     1k   do-not-scale  penalized_logreg   \n",
       "\n",
       "  universe_exclude_features universe_exclude_subgroups     q_hat  coverage  \\\n",
       "0           nationality-sex            drop-non-german  0.687886  0.912106   \n",
       "\n",
       "   avg_size  \n",
       "0  1.239293  "
      ]
     },
     "execution_count": 50,
     "metadata": {},
     "output_type": "execute_result"
    }
   ],
   "source": [
    "cp_metrics_df"
   ]
  },
  {
   "cell_type": "code",
   "execution_count": 51,
   "id": "b7fbde55-a0a1-47e4-9af6-fe4a17fa8c61",
   "metadata": {
    "execution": {
     "iopub.execute_input": "2025-08-05T16:40:58.838934Z",
     "iopub.status.busy": "2025-08-05T16:40:58.838281Z",
     "iopub.status.idle": "2025-08-05T16:40:58.843196Z",
     "shell.execute_reply": "2025-08-05T16:40:58.842216Z"
    },
    "papermill": {
     "duration": 0.02981,
     "end_time": "2025-08-05T16:40:58.845032",
     "exception": false,
     "start_time": "2025-08-05T16:40:58.815222",
     "status": "completed"
    },
    "tags": []
   },
   "outputs": [],
   "source": [
    "# Conditional Coverage & looking at subgroups"
   ]
  },
  {
   "cell_type": "code",
   "execution_count": 52,
   "id": "027ae886-68dd-4141-96c7-805a5450e1ef",
   "metadata": {
    "execution": {
     "iopub.execute_input": "2025-08-05T16:40:58.892948Z",
     "iopub.status.busy": "2025-08-05T16:40:58.892048Z",
     "iopub.status.idle": "2025-08-05T16:40:59.172181Z",
     "shell.execute_reply": "2025-08-05T16:40:59.171219Z"
    },
    "papermill": {
     "duration": 0.305327,
     "end_time": "2025-08-05T16:40:59.174151",
     "exception": false,
     "start_time": "2025-08-05T16:40:58.868824",
     "status": "completed"
    },
    "tags": []
   },
   "outputs": [],
   "source": [
    "from fairness_multiverse.conformal import build_cp_groups\n",
    "\n",
    "cp_groups_df = build_cp_groups(pred_sets, y_true, X_test.index, org_test)\n",
    "#needs universe_id and setting"
   ]
  },
  {
   "cell_type": "code",
   "execution_count": 53,
   "id": "6cbdab96-b2b2-45af-ad54-d0516db2e28d",
   "metadata": {
    "execution": {
     "iopub.execute_input": "2025-08-05T16:40:59.221176Z",
     "iopub.status.busy": "2025-08-05T16:40:59.220548Z",
     "iopub.status.idle": "2025-08-05T16:41:00.898634Z",
     "shell.execute_reply": "2025-08-05T16:41:00.897583Z"
    },
    "papermill": {
     "duration": 1.703874,
     "end_time": "2025-08-05T16:41:00.900543",
     "exception": false,
     "start_time": "2025-08-05T16:40:59.196669",
     "status": "completed"
    },
    "tags": []
   },
   "outputs": [],
   "source": [
    "# Define covered = 1 if true_label is in the predicted set\n",
    "cp_groups_df['covered'] = cp_groups_df.apply(\n",
    "    lambda r: int(r['true_label'] in r['pred_set']),\n",
    "    axis=1\n",
    ")"
   ]
  },
  {
   "cell_type": "code",
   "execution_count": 54,
   "id": "338ff529-1a6b-4b87-a931-8e4788d52aad",
   "metadata": {
    "execution": {
     "iopub.execute_input": "2025-08-05T16:41:00.951322Z",
     "iopub.status.busy": "2025-08-05T16:41:00.950796Z",
     "iopub.status.idle": "2025-08-05T16:41:00.955957Z",
     "shell.execute_reply": "2025-08-05T16:41:00.954974Z"
    },
    "papermill": {
     "duration": 0.032159,
     "end_time": "2025-08-05T16:41:00.958601",
     "exception": false,
     "start_time": "2025-08-05T16:41:00.926442",
     "status": "completed"
    },
    "tags": []
   },
   "outputs": [],
   "source": [
    "#cp_groups_df"
   ]
  },
  {
   "cell_type": "code",
   "execution_count": 55,
   "id": "90032e27-66df-4540-9169-4e89cfbaa758",
   "metadata": {
    "execution": {
     "iopub.execute_input": "2025-08-05T16:41:01.005906Z",
     "iopub.status.busy": "2025-08-05T16:41:01.005322Z",
     "iopub.status.idle": "2025-08-05T16:41:01.017562Z",
     "shell.execute_reply": "2025-08-05T16:41:01.016565Z"
    },
    "papermill": {
     "duration": 0.03778,
     "end_time": "2025-08-05T16:41:01.019420",
     "exception": false,
     "start_time": "2025-08-05T16:41:00.981640",
     "status": "completed"
    },
    "tags": []
   },
   "outputs": [],
   "source": [
    "subgroups = ['frau1','nongerman','nongerman_male','nongerman_female']\n",
    "\n",
    "# Conditional coverage for subgroup==1\n",
    "cond_coverage = {\n",
    "    g: cp_groups_df.loc[cp_groups_df[g]==1, 'covered'].mean()\n",
    "    for g in subgroups\n",
    "}"
   ]
  },
  {
   "cell_type": "code",
   "execution_count": 56,
   "id": "1e348fb1-b9c3-45bc-ba23-f016827a7e0d",
   "metadata": {
    "execution": {
     "iopub.execute_input": "2025-08-05T16:41:01.067579Z",
     "iopub.status.busy": "2025-08-05T16:41:01.066666Z",
     "iopub.status.idle": "2025-08-05T16:41:01.074681Z",
     "shell.execute_reply": "2025-08-05T16:41:01.073601Z"
    },
    "papermill": {
     "duration": 0.033677,
     "end_time": "2025-08-05T16:41:01.076417",
     "exception": false,
     "start_time": "2025-08-05T16:41:01.042740",
     "status": "completed"
    },
    "tags": []
   },
   "outputs": [
    {
     "data": {
      "text/plain": [
       "{'frau1': 0.9129801860088961,\n",
       " 'nongerman': 0.9376298209173076,\n",
       " 'nongerman_male': 0.949202918130235,\n",
       " 'nongerman_female': 0.9184798807749628}"
      ]
     },
     "execution_count": 56,
     "metadata": {},
     "output_type": "execute_result"
    }
   ],
   "source": [
    "cond_coverage"
   ]
  },
  {
   "cell_type": "code",
   "execution_count": 57,
   "id": "f5093324-c3dd-4d63-bc4c-8d945e5c8bbb",
   "metadata": {
    "execution": {
     "iopub.execute_input": "2025-08-05T16:41:01.135823Z",
     "iopub.status.busy": "2025-08-05T16:41:01.134829Z",
     "iopub.status.idle": "2025-08-05T16:41:01.143151Z",
     "shell.execute_reply": "2025-08-05T16:41:01.142027Z"
    },
    "papermill": {
     "duration": 0.040855,
     "end_time": "2025-08-05T16:41:01.145229",
     "exception": false,
     "start_time": "2025-08-05T16:41:01.104374",
     "status": "completed"
    },
    "tags": []
   },
   "outputs": [],
   "source": [
    "for subgroup, cov in cond_coverage.items():\n",
    "    cp_metrics_df[f\"cov_{subgroup}\"] = cov"
   ]
  },
  {
   "cell_type": "code",
   "execution_count": 58,
   "id": "6e872e10-dbe5-49e8-b554-5030c98ff75d",
   "metadata": {
    "execution": {
     "iopub.execute_input": "2025-08-05T16:41:01.201474Z",
     "iopub.status.busy": "2025-08-05T16:41:01.200541Z",
     "iopub.status.idle": "2025-08-05T16:41:01.220337Z",
     "shell.execute_reply": "2025-08-05T16:41:01.218802Z"
    },
    "papermill": {
     "duration": 0.050074,
     "end_time": "2025-08-05T16:41:01.222704",
     "exception": false,
     "start_time": "2025-08-05T16:41:01.172630",
     "status": "completed"
    },
    "tags": []
   },
   "outputs": [
    {
     "data": {
      "text/html": [
       "<div>\n",
       "<style scoped>\n",
       "    .dataframe tbody tr th:only-of-type {\n",
       "        vertical-align: middle;\n",
       "    }\n",
       "\n",
       "    .dataframe tbody tr th {\n",
       "        vertical-align: top;\n",
       "    }\n",
       "\n",
       "    .dataframe thead th {\n",
       "        text-align: right;\n",
       "    }\n",
       "</style>\n",
       "<table border=\"1\" class=\"dataframe\">\n",
       "  <thead>\n",
       "    <tr style=\"text-align: right;\">\n",
       "      <th></th>\n",
       "      <th>universe_id</th>\n",
       "      <th>universe_training_year</th>\n",
       "      <th>universe_training_size</th>\n",
       "      <th>universe_scale</th>\n",
       "      <th>universe_model</th>\n",
       "      <th>universe_exclude_features</th>\n",
       "      <th>universe_exclude_subgroups</th>\n",
       "      <th>q_hat</th>\n",
       "      <th>coverage</th>\n",
       "      <th>avg_size</th>\n",
       "      <th>cov_frau1</th>\n",
       "      <th>cov_nongerman</th>\n",
       "      <th>cov_nongerman_male</th>\n",
       "      <th>cov_nongerman_female</th>\n",
       "    </tr>\n",
       "  </thead>\n",
       "  <tbody>\n",
       "    <tr>\n",
       "      <th>0</th>\n",
       "      <td>b099f47114c8c74041df535d2f7b31b6</td>\n",
       "      <td>2010_14</td>\n",
       "      <td>1k</td>\n",
       "      <td>do-not-scale</td>\n",
       "      <td>penalized_logreg</td>\n",
       "      <td>nationality-sex</td>\n",
       "      <td>drop-non-german</td>\n",
       "      <td>0.687886</td>\n",
       "      <td>0.912106</td>\n",
       "      <td>1.239293</td>\n",
       "      <td>0.91298</td>\n",
       "      <td>0.93763</td>\n",
       "      <td>0.949203</td>\n",
       "      <td>0.91848</td>\n",
       "    </tr>\n",
       "  </tbody>\n",
       "</table>\n",
       "</div>"
      ],
      "text/plain": [
       "                        universe_id universe_training_year  \\\n",
       "0  b099f47114c8c74041df535d2f7b31b6                2010_14   \n",
       "\n",
       "  universe_training_size universe_scale    universe_model  \\\n",
       "0                     1k   do-not-scale  penalized_logreg   \n",
       "\n",
       "  universe_exclude_features universe_exclude_subgroups     q_hat  coverage  \\\n",
       "0           nationality-sex            drop-non-german  0.687886  0.912106   \n",
       "\n",
       "   avg_size  cov_frau1  cov_nongerman  cov_nongerman_male  \\\n",
       "0  1.239293    0.91298        0.93763            0.949203   \n",
       "\n",
       "   cov_nongerman_female  \n",
       "0               0.91848  "
      ]
     },
     "execution_count": 58,
     "metadata": {},
     "output_type": "execute_result"
    }
   ],
   "source": [
    "cp_metrics_df"
   ]
  },
  {
   "cell_type": "markdown",
   "id": "33774451",
   "metadata": {
    "papermill": {
     "duration": 0.012231,
     "end_time": "2025-08-05T16:41:01.259910",
     "exception": false,
     "start_time": "2025-08-05T16:41:01.247679",
     "status": "completed"
    },
    "tags": []
   },
   "source": [
    "# (Fairness) Metrics"
   ]
  },
  {
   "cell_type": "code",
   "execution_count": 59,
   "id": "debc5d62",
   "metadata": {
    "execution": {
     "iopub.execute_input": "2025-08-05T16:41:01.286236Z",
     "iopub.status.busy": "2025-08-05T16:41:01.285447Z",
     "iopub.status.idle": "2025-08-05T16:41:01.308405Z",
     "shell.execute_reply": "2025-08-05T16:41:01.307406Z"
    },
    "papermill": {
     "duration": 0.038468,
     "end_time": "2025-08-05T16:41:01.310595",
     "exception": false,
     "start_time": "2025-08-05T16:41:01.272127",
     "status": "completed"
    },
    "tags": []
   },
   "outputs": [],
   "source": [
    "# do I need to include maxdeutsch1.missing?\n",
    "\n",
    "import numpy as np\n",
    "\n",
    "colname_to_bin = \"maxdeutsch1\"\n",
    "majority_value = org_train[colname_to_bin].mode()[0]\n",
    "\n",
    "org_test[\"majmin\"] = np.where(org_test[colname_to_bin] == majority_value, \"majority\", \"minority\")"
   ]
  },
  {
   "cell_type": "code",
   "execution_count": 60,
   "id": "06a50de5",
   "metadata": {
    "execution": {
     "iopub.execute_input": "2025-08-05T16:41:01.344541Z",
     "iopub.status.busy": "2025-08-05T16:41:01.344097Z",
     "iopub.status.idle": "2025-08-05T16:41:04.136166Z",
     "shell.execute_reply": "2025-08-05T16:41:04.134885Z"
    },
    "papermill": {
     "duration": 2.80935,
     "end_time": "2025-08-05T16:41:04.138339",
     "exception": false,
     "start_time": "2025-08-05T16:41:01.328989",
     "status": "completed"
    },
    "tags": []
   },
   "outputs": [],
   "source": [
    "example_universe = universe.copy()\n",
    "example_universe[\"cutoff\"] = example_universe[\"cutoff\"][0]\n",
    "example_universe[\"eval_fairness_grouping\"] = example_universe[\"eval_fairness_grouping\"][0]\n",
    "fairness_dict, metric_frame = universe_analysis.compute_metrics(\n",
    "    example_universe,\n",
    "    y_pred_prob=probs_test,\n",
    "    y_test=y_true,\n",
    "    org_test=org_test,\n",
    ")"
   ]
  },
  {
   "cell_type": "markdown",
   "id": "f95d4e02",
   "metadata": {
    "papermill": {
     "duration": 0.026358,
     "end_time": "2025-08-05T16:41:04.193600",
     "exception": false,
     "start_time": "2025-08-05T16:41:04.167242",
     "status": "completed"
    },
    "tags": []
   },
   "source": [
    "# Overall"
   ]
  },
  {
   "cell_type": "markdown",
   "id": "bdee4871",
   "metadata": {
    "papermill": {
     "duration": 0.022861,
     "end_time": "2025-08-05T16:41:04.237268",
     "exception": false,
     "start_time": "2025-08-05T16:41:04.214407",
     "status": "completed"
    },
    "tags": []
   },
   "source": [
    "Fairness\n",
    "Main fairness target: Equalized Odds. Seems to be a better fit than equal opportunity, since we're not only interested in Y = 1. Seems to be a better fit than demographic parity, since we also care about accuracy, not just equal distribution of preds.\n",
    "\n",
    "Pick column for computation of fairness metrics\n",
    "\n",
    "Performance\n",
    "Overall performance measures, most interesting in relation to the measures split by group below"
   ]
  },
  {
   "cell_type": "code",
   "execution_count": 61,
   "id": "c4e067c6",
   "metadata": {
    "execution": {
     "iopub.execute_input": "2025-08-05T16:41:04.285294Z",
     "iopub.status.busy": "2025-08-05T16:41:04.284244Z",
     "iopub.status.idle": "2025-08-05T16:41:04.297583Z",
     "shell.execute_reply": "2025-08-05T16:41:04.296149Z"
    },
    "papermill": {
     "duration": 0.037946,
     "end_time": "2025-08-05T16:41:04.299558",
     "exception": false,
     "start_time": "2025-08-05T16:41:04.261612",
     "status": "completed"
    },
    "tags": []
   },
   "outputs": [
    {
     "data": {
      "text/plain": [
       "accuracy                   0.212853\n",
       "balanced accuracy          0.522867\n",
       "f1                         0.234501\n",
       "precision                  0.133963\n",
       "false positive rate        0.894133\n",
       "false negative rate        0.060132\n",
       "selection rate             0.900000\n",
       "count                  89710.000000\n",
       "dtype: float64"
      ]
     },
     "execution_count": 61,
     "metadata": {},
     "output_type": "execute_result"
    }
   ],
   "source": [
    "metric_frame.overall"
   ]
  },
  {
   "cell_type": "markdown",
   "id": "e968fe9d",
   "metadata": {
    "papermill": {
     "duration": 0.021683,
     "end_time": "2025-08-05T16:41:04.345605",
     "exception": false,
     "start_time": "2025-08-05T16:41:04.323922",
     "status": "completed"
    },
    "tags": []
   },
   "source": [
    "By Group"
   ]
  },
  {
   "cell_type": "code",
   "execution_count": 62,
   "id": "ec325bce",
   "metadata": {
    "execution": {
     "iopub.execute_input": "2025-08-05T16:41:04.390611Z",
     "iopub.status.busy": "2025-08-05T16:41:04.390083Z",
     "iopub.status.idle": "2025-08-05T16:41:04.408053Z",
     "shell.execute_reply": "2025-08-05T16:41:04.406941Z"
    },
    "papermill": {
     "duration": 0.043172,
     "end_time": "2025-08-05T16:41:04.409748",
     "exception": false,
     "start_time": "2025-08-05T16:41:04.366576",
     "status": "completed"
    },
    "tags": []
   },
   "outputs": [
    {
     "data": {
      "text/html": [
       "<div>\n",
       "<style scoped>\n",
       "    .dataframe tbody tr th:only-of-type {\n",
       "        vertical-align: middle;\n",
       "    }\n",
       "\n",
       "    .dataframe tbody tr th {\n",
       "        vertical-align: top;\n",
       "    }\n",
       "\n",
       "    .dataframe thead th {\n",
       "        text-align: right;\n",
       "    }\n",
       "</style>\n",
       "<table border=\"1\" class=\"dataframe\">\n",
       "  <thead>\n",
       "    <tr style=\"text-align: right;\">\n",
       "      <th></th>\n",
       "      <th>accuracy</th>\n",
       "      <th>balanced accuracy</th>\n",
       "      <th>f1</th>\n",
       "      <th>precision</th>\n",
       "      <th>false positive rate</th>\n",
       "      <th>false negative rate</th>\n",
       "      <th>selection rate</th>\n",
       "      <th>count</th>\n",
       "    </tr>\n",
       "    <tr>\n",
       "      <th>majmin</th>\n",
       "      <th></th>\n",
       "      <th></th>\n",
       "      <th></th>\n",
       "      <th></th>\n",
       "      <th></th>\n",
       "      <th></th>\n",
       "      <th></th>\n",
       "      <th></th>\n",
       "    </tr>\n",
       "  </thead>\n",
       "  <tbody>\n",
       "    <tr>\n",
       "      <th>majority</th>\n",
       "      <td>0.232876</td>\n",
       "      <td>0.527894</td>\n",
       "      <td>0.242426</td>\n",
       "      <td>0.139404</td>\n",
       "      <td>0.873097</td>\n",
       "      <td>0.071116</td>\n",
       "      <td>0.880468</td>\n",
       "      <td>69170.0</td>\n",
       "    </tr>\n",
       "    <tr>\n",
       "      <th>minority</th>\n",
       "      <td>0.145424</td>\n",
       "      <td>0.509319</td>\n",
       "      <td>0.209502</td>\n",
       "      <td>0.117256</td>\n",
       "      <td>0.963625</td>\n",
       "      <td>0.017736</td>\n",
       "      <td>0.965774</td>\n",
       "      <td>20540.0</td>\n",
       "    </tr>\n",
       "  </tbody>\n",
       "</table>\n",
       "</div>"
      ],
      "text/plain": [
       "          accuracy  balanced accuracy        f1  precision  \\\n",
       "majmin                                                       \n",
       "majority  0.232876           0.527894  0.242426   0.139404   \n",
       "minority  0.145424           0.509319  0.209502   0.117256   \n",
       "\n",
       "          false positive rate  false negative rate  selection rate    count  \n",
       "majmin                                                                       \n",
       "majority             0.873097             0.071116        0.880468  69170.0  \n",
       "minority             0.963625             0.017736        0.965774  20540.0  "
      ]
     },
     "execution_count": 62,
     "metadata": {},
     "output_type": "execute_result"
    }
   ],
   "source": [
    "metric_frame.by_group"
   ]
  },
  {
   "cell_type": "code",
   "execution_count": 63,
   "id": "a9ddbe63",
   "metadata": {
    "execution": {
     "iopub.execute_input": "2025-08-05T16:41:04.457091Z",
     "iopub.status.busy": "2025-08-05T16:41:04.456218Z",
     "iopub.status.idle": "2025-08-05T16:41:07.170058Z",
     "shell.execute_reply": "2025-08-05T16:41:07.168827Z"
    },
    "papermill": {
     "duration": 2.739385,
     "end_time": "2025-08-05T16:41:07.172071",
     "exception": false,
     "start_time": "2025-08-05T16:41:04.432686",
     "status": "completed"
    },
    "tags": []
   },
   "outputs": [
    {
     "data": {
      "text/plain": [
       "array([[<Axes: title={'center': 'accuracy'}, xlabel='majmin'>,\n",
       "        <Axes: title={'center': 'balanced accuracy'}, xlabel='majmin'>,\n",
       "        <Axes: title={'center': 'f1'}, xlabel='majmin'>],\n",
       "       [<Axes: title={'center': 'precision'}, xlabel='majmin'>,\n",
       "        <Axes: title={'center': 'false positive rate'}, xlabel='majmin'>,\n",
       "        <Axes: title={'center': 'false negative rate'}, xlabel='majmin'>],\n",
       "       [<Axes: title={'center': 'selection rate'}, xlabel='majmin'>,\n",
       "        <Axes: title={'center': 'count'}, xlabel='majmin'>,\n",
       "        <Axes: xlabel='majmin'>]], dtype=object)"
      ]
     },
     "execution_count": 63,
     "metadata": {},
     "output_type": "execute_result"
    },
    {
     "data": {
      "image/png": "[encoded data removed]",
      "text/plain": [
       "<Figure size 1200x800 with 9 Axes>"
      ]
     },
     "metadata": {},
     "output_type": "display_data"
    }
   ],
   "source": [
    "# In a graphic\n",
    "metric_frame.by_group.plot.bar(\n",
    "    subplots=True,\n",
    "    layout=[3, 3],\n",
    "    legend=False,\n",
    "    figsize=[12, 8],\n",
    "    title=\"Show all metrics\",\n",
    ")"
   ]
  },
  {
   "cell_type": "markdown",
   "id": "f57a0bac",
   "metadata": {
    "papermill": {
     "duration": 0.029171,
     "end_time": "2025-08-05T16:41:07.231247",
     "exception": false,
     "start_time": "2025-08-05T16:41:07.202076",
     "status": "completed"
    },
    "tags": []
   },
   "source": [
    "# Final Output"
   ]
  },
  {
   "cell_type": "code",
   "execution_count": 64,
   "id": "96d280a3",
   "metadata": {
    "execution": {
     "iopub.execute_input": "2025-08-05T16:41:07.289083Z",
     "iopub.status.busy": "2025-08-05T16:41:07.288357Z",
     "iopub.status.idle": "2025-08-05T16:41:07.297893Z",
     "shell.execute_reply": "2025-08-05T16:41:07.296491Z"
    },
    "papermill": {
     "duration": 0.040567,
     "end_time": "2025-08-05T16:41:07.299719",
     "exception": false,
     "start_time": "2025-08-05T16:41:07.259152",
     "status": "completed"
    },
    "tags": []
   },
   "outputs": [
    {
     "data": {
      "text/plain": [
       "4"
      ]
     },
     "execution_count": 64,
     "metadata": {},
     "output_type": "execute_result"
    }
   ],
   "source": [
    "sub_universes = universe_analysis.generate_sub_universes()\n",
    "len(sub_universes)"
   ]
  },
  {
   "cell_type": "code",
   "execution_count": 65,
   "id": "92adf7ba",
   "metadata": {
    "execution": {
     "iopub.execute_input": "2025-08-05T16:41:07.358485Z",
     "iopub.status.busy": "2025-08-05T16:41:07.357409Z",
     "iopub.status.idle": "2025-08-05T16:41:07.364138Z",
     "shell.execute_reply": "2025-08-05T16:41:07.363021Z"
    },
    "papermill": {
     "duration": 0.038433,
     "end_time": "2025-08-05T16:41:07.366161",
     "exception": false,
     "start_time": "2025-08-05T16:41:07.327728",
     "status": "completed"
    },
    "tags": []
   },
   "outputs": [],
   "source": [
    "def filter_sub_universe_data(sub_universe, org_test):\n",
    "    # Keep all rows — no filtering\n",
    "    keep_rows_mask = np.ones(org_test.shape[0], dtype=bool)\n",
    "\n",
    "    print(f\"[INFO] Keeping all rows: {keep_rows_mask.sum()} rows retained.\")\n",
    "    return keep_rows_mask"
   ]
  },
  {
   "cell_type": "code",
   "execution_count": 66,
   "id": "4a759155",
   "metadata": {
    "execution": {
     "iopub.execute_input": "2025-08-05T16:41:07.425679Z",
     "iopub.status.busy": "2025-08-05T16:41:07.424603Z",
     "iopub.status.idle": "2025-08-05T16:41:14.923055Z",
     "shell.execute_reply": "2025-08-05T16:41:14.922056Z"
    },
    "papermill": {
     "duration": 7.529995,
     "end_time": "2025-08-05T16:41:14.924789",
     "exception": false,
     "start_time": "2025-08-05T16:41:07.394794",
     "status": "completed"
    },
    "tags": []
   },
   "outputs": [
    {
     "name": "stdout",
     "output_type": "stream",
     "text": [
      "Stopping execution_time clock.\n",
      "[INFO] Keeping all rows: 89710 rows retained.\n"
     ]
    },
    {
     "name": "stdout",
     "output_type": "stream",
     "text": [
      "[INFO] Keeping all rows: 89710 rows retained.\n"
     ]
    },
    {
     "name": "stdout",
     "output_type": "stream",
     "text": [
      "[INFO] Keeping all rows: 89710 rows retained.\n"
     ]
    },
    {
     "name": "stdout",
     "output_type": "stream",
     "text": [
      "[INFO] Keeping all rows: 89710 rows retained.\n"
     ]
    },
    {
     "data": {
      "text/html": [
       "<div>\n",
       "<style scoped>\n",
       "    .dataframe tbody tr th:only-of-type {\n",
       "        vertical-align: middle;\n",
       "    }\n",
       "\n",
       "    .dataframe tbody tr th {\n",
       "        vertical-align: top;\n",
       "    }\n",
       "\n",
       "    .dataframe thead th {\n",
       "        text-align: right;\n",
       "    }\n",
       "</style>\n",
       "<table border=\"1\" class=\"dataframe\">\n",
       "  <thead>\n",
       "    <tr style=\"text-align: right;\">\n",
       "      <th></th>\n",
       "      <th>run_no</th>\n",
       "      <th>universe_id</th>\n",
       "      <th>universe_settings</th>\n",
       "      <th>execution_time</th>\n",
       "      <th>test_size_n</th>\n",
       "      <th>test_size_frac</th>\n",
       "      <th>fair_main_equalized_odds_difference</th>\n",
       "      <th>fair_main_equalized_odds_ratio</th>\n",
       "      <th>fair_main_demographic_parity_difference</th>\n",
       "      <th>fair_main_demographic_parity_ratio</th>\n",
       "      <th>...</th>\n",
       "      <th>perf_grp_precision_0</th>\n",
       "      <th>perf_grp_precision_1</th>\n",
       "      <th>perf_grp_false positive rate_0</th>\n",
       "      <th>perf_grp_false positive rate_1</th>\n",
       "      <th>perf_grp_false negative rate_0</th>\n",
       "      <th>perf_grp_false negative rate_1</th>\n",
       "      <th>perf_grp_selection rate_0</th>\n",
       "      <th>perf_grp_selection rate_1</th>\n",
       "      <th>perf_grp_count_0</th>\n",
       "      <th>perf_grp_count_1</th>\n",
       "    </tr>\n",
       "  </thead>\n",
       "  <tbody>\n",
       "    <tr>\n",
       "      <th>0</th>\n",
       "      <td>15</td>\n",
       "      <td>b099f47114c8c74041df535d2f7b31b6</td>\n",
       "      <td>{\"cutoff\": \"quantile_0.1\", \"eval_fairness_grou...</td>\n",
       "      <td>27.85913</td>\n",
       "      <td>89710</td>\n",
       "      <td>1.0</td>\n",
       "      <td>0.090529</td>\n",
       "      <td>0.906054</td>\n",
       "      <td>0.085306</td>\n",
       "      <td>0.911671</td>\n",
       "      <td>...</td>\n",
       "      <td>NaN</td>\n",
       "      <td>NaN</td>\n",
       "      <td>NaN</td>\n",
       "      <td>NaN</td>\n",
       "      <td>NaN</td>\n",
       "      <td>NaN</td>\n",
       "      <td>NaN</td>\n",
       "      <td>NaN</td>\n",
       "      <td>NaN</td>\n",
       "      <td>NaN</td>\n",
       "    </tr>\n",
       "    <tr>\n",
       "      <th>0</th>\n",
       "      <td>15</td>\n",
       "      <td>b099f47114c8c74041df535d2f7b31b6</td>\n",
       "      <td>{\"cutoff\": \"quantile_0.1\", \"eval_fairness_grou...</td>\n",
       "      <td>27.85913</td>\n",
       "      <td>89710</td>\n",
       "      <td>1.0</td>\n",
       "      <td>0.090529</td>\n",
       "      <td>0.906054</td>\n",
       "      <td>0.085306</td>\n",
       "      <td>0.911671</td>\n",
       "      <td>...</td>\n",
       "      <td>0.117256</td>\n",
       "      <td>0.139404</td>\n",
       "      <td>0.963625</td>\n",
       "      <td>0.873097</td>\n",
       "      <td>0.017736</td>\n",
       "      <td>0.071116</td>\n",
       "      <td>0.965774</td>\n",
       "      <td>0.880468</td>\n",
       "      <td>20540.0</td>\n",
       "      <td>69170.0</td>\n",
       "    </tr>\n",
       "    <tr>\n",
       "      <th>0</th>\n",
       "      <td>15</td>\n",
       "      <td>b099f47114c8c74041df535d2f7b31b6</td>\n",
       "      <td>{\"cutoff\": \"quantile_0.25\", \"eval_fairness_gro...</td>\n",
       "      <td>27.85913</td>\n",
       "      <td>89710</td>\n",
       "      <td>1.0</td>\n",
       "      <td>0.208785</td>\n",
       "      <td>0.766262</td>\n",
       "      <td>0.193855</td>\n",
       "      <td>0.784477</td>\n",
       "      <td>...</td>\n",
       "      <td>NaN</td>\n",
       "      <td>NaN</td>\n",
       "      <td>NaN</td>\n",
       "      <td>NaN</td>\n",
       "      <td>NaN</td>\n",
       "      <td>NaN</td>\n",
       "      <td>NaN</td>\n",
       "      <td>NaN</td>\n",
       "      <td>NaN</td>\n",
       "      <td>NaN</td>\n",
       "    </tr>\n",
       "    <tr>\n",
       "      <th>0</th>\n",
       "      <td>15</td>\n",
       "      <td>b099f47114c8c74041df535d2f7b31b6</td>\n",
       "      <td>{\"cutoff\": \"quantile_0.25\", \"eval_fairness_gro...</td>\n",
       "      <td>27.85913</td>\n",
       "      <td>89710</td>\n",
       "      <td>1.0</td>\n",
       "      <td>0.208785</td>\n",
       "      <td>0.766262</td>\n",
       "      <td>0.193855</td>\n",
       "      <td>0.784477</td>\n",
       "      <td>...</td>\n",
       "      <td>0.121407</td>\n",
       "      <td>0.158154</td>\n",
       "      <td>0.893242</td>\n",
       "      <td>0.684458</td>\n",
       "      <td>0.052787</td>\n",
       "      <td>0.155470</td>\n",
       "      <td>0.899464</td>\n",
       "      <td>0.705609</td>\n",
       "      <td>20540.0</td>\n",
       "      <td>69170.0</td>\n",
       "    </tr>\n",
       "  </tbody>\n",
       "</table>\n",
       "<p>4 rows × 50 columns</p>\n",
       "</div>"
      ],
      "text/plain": [
       "  run_no                       universe_id  \\\n",
       "0     15  b099f47114c8c74041df535d2f7b31b6   \n",
       "0     15  b099f47114c8c74041df535d2f7b31b6   \n",
       "0     15  b099f47114c8c74041df535d2f7b31b6   \n",
       "0     15  b099f47114c8c74041df535d2f7b31b6   \n",
       "\n",
       "                                   universe_settings  execution_time  \\\n",
       "0  {\"cutoff\": \"quantile_0.1\", \"eval_fairness_grou...        27.85913   \n",
       "0  {\"cutoff\": \"quantile_0.1\", \"eval_fairness_grou...        27.85913   \n",
       "0  {\"cutoff\": \"quantile_0.25\", \"eval_fairness_gro...        27.85913   \n",
       "0  {\"cutoff\": \"quantile_0.25\", \"eval_fairness_gro...        27.85913   \n",
       "\n",
       "   test_size_n  test_size_frac  fair_main_equalized_odds_difference  \\\n",
       "0        89710             1.0                             0.090529   \n",
       "0        89710             1.0                             0.090529   \n",
       "0        89710             1.0                             0.208785   \n",
       "0        89710             1.0                             0.208785   \n",
       "\n",
       "   fair_main_equalized_odds_ratio  fair_main_demographic_parity_difference  \\\n",
       "0                        0.906054                                 0.085306   \n",
       "0                        0.906054                                 0.085306   \n",
       "0                        0.766262                                 0.193855   \n",
       "0                        0.766262                                 0.193855   \n",
       "\n",
       "   fair_main_demographic_parity_ratio  ...  perf_grp_precision_0  \\\n",
       "0                            0.911671  ...                   NaN   \n",
       "0                            0.911671  ...              0.117256   \n",
       "0                            0.784477  ...                   NaN   \n",
       "0                            0.784477  ...              0.121407   \n",
       "\n",
       "   perf_grp_precision_1  perf_grp_false positive rate_0  \\\n",
       "0                   NaN                             NaN   \n",
       "0              0.139404                        0.963625   \n",
       "0                   NaN                             NaN   \n",
       "0              0.158154                        0.893242   \n",
       "\n",
       "   perf_grp_false positive rate_1  perf_grp_false negative rate_0  \\\n",
       "0                             NaN                             NaN   \n",
       "0                        0.873097                        0.017736   \n",
       "0                             NaN                             NaN   \n",
       "0                        0.684458                        0.052787   \n",
       "\n",
       "   perf_grp_false negative rate_1  perf_grp_selection rate_0  \\\n",
       "0                             NaN                        NaN   \n",
       "0                        0.071116                   0.965774   \n",
       "0                             NaN                        NaN   \n",
       "0                        0.155470                   0.899464   \n",
       "\n",
       "   perf_grp_selection rate_1  perf_grp_count_0  perf_grp_count_1  \n",
       "0                        NaN               NaN               NaN  \n",
       "0                   0.880468           20540.0           69170.0  \n",
       "0                        NaN               NaN               NaN  \n",
       "0                   0.705609           20540.0           69170.0  \n",
       "\n",
       "[4 rows x 50 columns]"
      ]
     },
     "execution_count": 66,
     "metadata": {},
     "output_type": "execute_result"
    }
   ],
   "source": [
    "final_output = universe_analysis.generate_final_output(\n",
    "    y_pred_prob=probs_test,\n",
    "    y_test=y_true,\n",
    "    org_test=org_test,\n",
    "    filter_data=filter_sub_universe_data,\n",
    "    cp_metrics_df=cp_metrics_df,\n",
    "    save=True,\n",
    ")\n",
    "final_output"
   ]
  }
 ],
 "metadata": {
  "celltoolbar": "Tags",
  "kernelspec": {
   "display_name": "Python (CMA Fairness)",
   "language": "python",
   "name": "cma_fair_env"
  },
  "language_info": {
   "codemirror_mode": {
    "name": "ipython",
    "version": 3
   },
   "file_extension": ".py",
   "mimetype": "text/x-python",
   "name": "python",
   "nbconvert_exporter": "python",
   "pygments_lexer": "ipython3",
   "version": "3.10.12"
  },
  "papermill": {
   "default_parameters": {},
   "duration": 39.602605,
   "end_time": "2025-08-05T16:41:15.775868",
   "environment_variables": {},
   "exception": null,
   "input_path": "universe_analysis.ipynb",
   "output_path": "output/runs/15/notebooks/m_15-b099f47114c8c74041df535d2f7b31b6.ipynb",
   "parameters": {
    "output_dir": "output",
    "run_no": "15",
    "seed": "2023",
    "universe": "{\"cutoff\": [\"quantile_0.1\", \"quantile_0.25\"], \"eval_fairness_grouping\": [\"majority-minority\", \"nationality-all\"], \"exclude_features\": \"nationality-sex\", \"exclude_subgroups\": \"drop-non-german\", \"model\": \"penalized_logreg\", \"scale\": \"do-not-scale\", \"training_size\": \"1k\", \"training_year\": \"2010_14\"}",
    "universe_id": "b099f47114c8c74041df535d2f7b31b6"
   },
   "start_time": "2025-08-05T16:40:36.173263",
   "version": "2.6.0"
  }
 },
 "nbformat": 4,
 "nbformat_minor": 5
}