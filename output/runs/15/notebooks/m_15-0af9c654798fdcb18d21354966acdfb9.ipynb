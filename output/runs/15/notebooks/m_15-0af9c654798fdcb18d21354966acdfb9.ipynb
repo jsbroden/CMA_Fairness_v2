{
 "cells": [
  {
   "cell_type": "code",
   "execution_count": 1,
   "id": "f159f837-637b-42ba-96b5-ec9a68c44524",
   "metadata": {
    "execution": {
     "iopub.execute_input": "2025-08-05T16:02:33.384813Z",
     "iopub.status.busy": "2025-08-05T16:02:33.384312Z",
     "iopub.status.idle": "2025-08-05T16:02:33.398528Z",
     "shell.execute_reply": "2025-08-05T16:02:33.397141Z"
    },
    "papermill": {
     "duration": 0.037204,
     "end_time": "2025-08-05T16:02:33.400696",
     "exception": false,
     "start_time": "2025-08-05T16:02:33.363492",
     "status": "completed"
    },
    "tags": []
   },
   "outputs": [
    {
     "name": "stdout",
     "output_type": "stream",
     "text": [
      "/dss/dsshome1/0C/ra93lal2/cma/CMA_Fairness_v2\n"
     ]
    },
    {
     "name": "stderr",
     "output_type": "stream",
     "text": [
      "/dss/dsshome1/0C/ra93lal2/.local/share/virtualenvs/CMA_Fairness_v2-3j10GkSs/lib/python3.10/site-packages/IPython/core/magics/osm.py:393: UserWarning: This is now an optional IPython functionality, using bookmarks requires you to install the `pickleshare` library.\n",
      "  bkms = self.shell.db.get('bookmarks', {})\n",
      "/dss/dsshome1/0C/ra93lal2/.local/share/virtualenvs/CMA_Fairness_v2-3j10GkSs/lib/python3.10/site-packages/IPython/core/magics/osm.py:417: UserWarning: This is now an optional IPython functionality, setting dhist requires you to install the `pickleshare` library.\n",
      "  self.shell.db['dhist'] = compress_dhist(dhist)[-100:]\n"
     ]
    }
   ],
   "source": [
    "%cd ~/cma/CMA_Fairness_v2"
   ]
  },
  {
   "cell_type": "markdown",
   "id": "de2603b9",
   "metadata": {
    "papermill": {
     "duration": 0.018073,
     "end_time": "2025-08-05T16:02:33.435505",
     "exception": false,
     "start_time": "2025-08-05T16:02:33.417432",
     "status": "completed"
    },
    "tags": []
   },
   "source": [
    "The following cell holds the definition of our parameters, these values can be overriden by rendering the with e.g. the following command:\n",
    "\n",
    "papermill -p alpha 0.2 -p ratio 0.3 universe_analysis.ipynb output/test_run.ipynb"
   ]
  },
  {
   "cell_type": "code",
   "execution_count": 2,
   "id": "a80968a0-40bb-4fa9-85ef-2d5eefb01975",
   "metadata": {
    "execution": {
     "iopub.execute_input": "2025-08-05T16:02:33.472546Z",
     "iopub.status.busy": "2025-08-05T16:02:33.472057Z",
     "iopub.status.idle": "2025-08-05T16:02:33.477838Z",
     "shell.execute_reply": "2025-08-05T16:02:33.476774Z"
    },
    "papermill": {
     "duration": 0.02615,
     "end_time": "2025-08-05T16:02:33.479560",
     "exception": false,
     "start_time": "2025-08-05T16:02:33.453410",
     "status": "completed"
    },
    "tags": []
   },
   "outputs": [
    {
     "name": "stdout",
     "output_type": "stream",
     "text": [
      "Current working directory: /dss/dsshome1/0C/ra93lal2/cma/CMA_Fairness_v2\n"
     ]
    }
   ],
   "source": [
    "import os\n",
    "print(\"Current working directory:\", os.getcwd())"
   ]
  },
  {
   "cell_type": "code",
   "execution_count": 3,
   "id": "2dce4c03",
   "metadata": {
    "execution": {
     "iopub.execute_input": "2025-08-05T16:02:33.514627Z",
     "iopub.status.busy": "2025-08-05T16:02:33.514227Z",
     "iopub.status.idle": "2025-08-05T16:02:33.519744Z",
     "shell.execute_reply": "2025-08-05T16:02:33.518881Z"
    },
    "papermill": {
     "duration": 0.025568,
     "end_time": "2025-08-05T16:02:33.521564",
     "exception": false,
     "start_time": "2025-08-05T16:02:33.495996",
     "status": "completed"
    },
    "tags": [
     "parameters"
    ]
   },
   "outputs": [],
   "source": [
    "run_no = 0\n",
    "universe_id = \"test\"\n",
    "universe = {\n",
    "    \"training_size\": \"25k\", # \"25k\", \"5k\", \"1k\"\n",
    "    \"training_year\": \"2014\", # \"2014\", \"2012_14\", \"2010_14\"\n",
    "    \"scale\": \"scale\", # \"scale\", \"do-not-scale\",\n",
    "    \"model\": \"elasticnet\", # \"logreg\", \"penalized_logreg\", \"rf\", \"gbm\", \"elasticnet\"\n",
    "    \"cutoff\": [\"quantile_0.15\", \"quantile_0.30\"],\n",
    "    \"exclude_features\": \"age\", # \"none\", \"nationality\", \"sex\", \"nationality-sex\", \"age\"\n",
    "    \"exclude_subgroups\": \"keep-all\", # \"keep-all\", \"drop-non-german\"\n",
    "    \"eval_fairness_grouping\": [\"majority-minority\", \"nationality-all\"]\n",
    "}\n",
    "\n",
    "output_dir=\"./output\"\n",
    "seed=0"
   ]
  },
  {
   "cell_type": "code",
   "execution_count": 4,
   "id": "b5af7a9f",
   "metadata": {
    "execution": {
     "iopub.execute_input": "2025-08-05T16:02:33.556139Z",
     "iopub.status.busy": "2025-08-05T16:02:33.555778Z",
     "iopub.status.idle": "2025-08-05T16:02:33.559948Z",
     "shell.execute_reply": "2025-08-05T16:02:33.559095Z"
    },
    "papermill": {
     "duration": 0.022503,
     "end_time": "2025-08-05T16:02:33.561547",
     "exception": false,
     "start_time": "2025-08-05T16:02:33.539044",
     "status": "completed"
    },
    "tags": [
     "injected-parameters"
    ]
   },
   "outputs": [],
   "source": [
    "# Parameters\n",
    "universe_id = \"0af9c654798fdcb18d21354966acdfb9\"\n",
    "run_no = \"15\"\n",
    "universe = \"{\\\"cutoff\\\": [\\\"quantile_0.1\\\", \\\"quantile_0.25\\\"], \\\"eval_fairness_grouping\\\": [\\\"majority-minority\\\", \\\"nationality-all\\\"], \\\"exclude_features\\\": \\\"nationality-sex\\\", \\\"exclude_subgroups\\\": \\\"drop-non-german\\\", \\\"model\\\": \\\"logreg\\\", \\\"scale\\\": \\\"scale\\\", \\\"training_size\\\": \\\"1k\\\", \\\"training_year\\\": \\\"2014\\\"}\"\n",
    "output_dir = \"output\"\n",
    "seed = \"2023\"\n"
   ]
  },
  {
   "cell_type": "code",
   "execution_count": 5,
   "id": "1650acaf",
   "metadata": {
    "execution": {
     "iopub.execute_input": "2025-08-05T16:02:33.586403Z",
     "iopub.status.busy": "2025-08-05T16:02:33.585983Z",
     "iopub.status.idle": "2025-08-05T16:02:33.590050Z",
     "shell.execute_reply": "2025-08-05T16:02:33.589112Z"
    },
    "papermill": {
     "duration": 0.019678,
     "end_time": "2025-08-05T16:02:33.591394",
     "exception": false,
     "start_time": "2025-08-05T16:02:33.571716",
     "status": "completed"
    },
    "tags": []
   },
   "outputs": [],
   "source": [
    "import json\n",
    "if isinstance(universe, str):\n",
    "    universe = json.loads(universe)"
   ]
  },
  {
   "cell_type": "code",
   "execution_count": 6,
   "id": "16620c48",
   "metadata": {
    "execution": {
     "iopub.execute_input": "2025-08-05T16:02:33.610781Z",
     "iopub.status.busy": "2025-08-05T16:02:33.610517Z",
     "iopub.status.idle": "2025-08-05T16:02:33.647863Z",
     "shell.execute_reply": "2025-08-05T16:02:33.646790Z"
    },
    "papermill": {
     "duration": 0.048956,
     "end_time": "2025-08-05T16:02:33.649956",
     "exception": false,
     "start_time": "2025-08-05T16:02:33.601000",
     "status": "completed"
    },
    "tags": []
   },
   "outputs": [],
   "source": [
    "# Auto-reload the custom package\n",
    "%load_ext autoreload\n",
    "%autoreload 1\n",
    "%aimport fairness_multiverse"
   ]
  },
  {
   "cell_type": "code",
   "execution_count": 7,
   "id": "01c5c9f3",
   "metadata": {
    "execution": {
     "iopub.execute_input": "2025-08-05T16:02:33.688096Z",
     "iopub.status.busy": "2025-08-05T16:02:33.687202Z",
     "iopub.status.idle": "2025-08-05T16:02:35.703685Z",
     "shell.execute_reply": "2025-08-05T16:02:35.702603Z"
    },
    "papermill": {
     "duration": 2.03771,
     "end_time": "2025-08-05T16:02:35.705361",
     "exception": false,
     "start_time": "2025-08-05T16:02:33.667651",
     "status": "completed"
    },
    "tags": []
   },
   "outputs": [],
   "source": [
    "from fairness_multiverse.universe import UniverseAnalysis\n",
    "\n",
    "universe_analysis = UniverseAnalysis(\n",
    "    run_no = run_no,\n",
    "    universe_id = universe_id,\n",
    "    universe = universe,\n",
    "    output_dir=output_dir,\n",
    ")"
   ]
  },
  {
   "cell_type": "code",
   "execution_count": 8,
   "id": "106241f5",
   "metadata": {
    "execution": {
     "iopub.execute_input": "2025-08-05T16:02:35.747611Z",
     "iopub.status.busy": "2025-08-05T16:02:35.747048Z",
     "iopub.status.idle": "2025-08-05T16:02:35.754819Z",
     "shell.execute_reply": "2025-08-05T16:02:35.754093Z"
    },
    "papermill": {
     "duration": 0.031832,
     "end_time": "2025-08-05T16:02:35.757044",
     "exception": false,
     "start_time": "2025-08-05T16:02:35.725212",
     "status": "completed"
    },
    "tags": []
   },
   "outputs": [
    {
     "name": "stdout",
     "output_type": "stream",
     "text": [
      "Using Seed: 2023\n"
     ]
    }
   ],
   "source": [
    "import numpy as np\n",
    "parsed_seed = int(seed)\n",
    "np.random.seed(parsed_seed)\n",
    "print(f\"Using Seed: {parsed_seed}\")"
   ]
  },
  {
   "cell_type": "markdown",
   "id": "e0ebdc57",
   "metadata": {
    "papermill": {
     "duration": 0.009944,
     "end_time": "2025-08-05T16:02:35.777580",
     "exception": false,
     "start_time": "2025-08-05T16:02:35.767636",
     "status": "completed"
    },
    "tags": []
   },
   "source": [
    "# Loading Data"
   ]
  },
  {
   "cell_type": "code",
   "execution_count": 9,
   "id": "f0496b8a",
   "metadata": {
    "execution": {
     "iopub.execute_input": "2025-08-05T16:02:35.799118Z",
     "iopub.status.busy": "2025-08-05T16:02:35.798342Z",
     "iopub.status.idle": "2025-08-05T16:02:47.479988Z",
     "shell.execute_reply": "2025-08-05T16:02:47.478962Z"
    },
    "papermill": {
     "duration": 11.693711,
     "end_time": "2025-08-05T16:02:47.481387",
     "exception": false,
     "start_time": "2025-08-05T16:02:35.787676",
     "status": "completed"
    },
    "tags": []
   },
   "outputs": [
    {
     "name": "stdout",
     "output_type": "stream",
     "text": [
      "Loading SIAB data from cache: data/siab_cached.csv.gz\n"
     ]
    },
    {
     "name": "stdout",
     "output_type": "stream",
     "text": [
      "(643690, 164)\n"
     ]
    }
   ],
   "source": [
    "from pathlib import Path\n",
    "import pandas as pd\n",
    "\n",
    "# File paths\n",
    "raw_file = Path(\"data/raw/siab.csv\")\n",
    "cache_file = Path(\"data/siab_cached.csv.gz\")\n",
    "\n",
    "# Ensure cache directory exists\n",
    "cache_file.parent.mkdir(parents=True, exist_ok=True)\n",
    "\n",
    "# Load with simple caching\n",
    "if cache_file.exists():\n",
    "    print(f\"Loading SIAB data from cache: {cache_file}\")\n",
    "    siab = pd.read_csv(cache_file, compression='gzip')\n",
    "else:\n",
    "    print(f\"Cache not found. Reading raw SIAB data: {raw_file}\")\n",
    "    siab = pd.read_csv(raw_file)\n",
    "    siab.to_csv(cache_file, index=False, compression='gzip')\n",
    "    print(f\"Cached SIAB data to: {cache_file}\")\n",
    "\n",
    "print(siab.shape)"
   ]
  },
  {
   "cell_type": "code",
   "execution_count": 10,
   "id": "db0ca512-5f53-4dba-abdb-a2888bca41ba",
   "metadata": {
    "execution": {
     "iopub.execute_input": "2025-08-05T16:02:47.503792Z",
     "iopub.status.busy": "2025-08-05T16:02:47.503433Z",
     "iopub.status.idle": "2025-08-05T16:02:47.508203Z",
     "shell.execute_reply": "2025-08-05T16:02:47.507485Z"
    },
    "papermill": {
     "duration": 0.016139,
     "end_time": "2025-08-05T16:02:47.509483",
     "exception": false,
     "start_time": "2025-08-05T16:02:47.493344",
     "status": "completed"
    },
    "tags": []
   },
   "outputs": [],
   "source": [
    "#siab"
   ]
  },
  {
   "cell_type": "markdown",
   "id": "997051c5-15bd-4b69-9786-c3001a3ce484",
   "metadata": {
    "papermill": {
     "duration": 0.00892,
     "end_time": "2025-08-05T16:02:47.528140",
     "exception": false,
     "start_time": "2025-08-05T16:02:47.519220",
     "status": "completed"
    },
    "tags": []
   },
   "source": [
    "# Splitting Data and Setting Training Data Size"
   ]
  },
  {
   "cell_type": "code",
   "execution_count": 11,
   "id": "aea9c6ef-6f46-42c8-85eb-5a62025c1508",
   "metadata": {
    "execution": {
     "iopub.execute_input": "2025-08-05T16:02:47.547782Z",
     "iopub.status.busy": "2025-08-05T16:02:47.547132Z",
     "iopub.status.idle": "2025-08-05T16:02:47.773715Z",
     "shell.execute_reply": "2025-08-05T16:02:47.772955Z"
    },
    "papermill": {
     "duration": 0.238214,
     "end_time": "2025-08-05T16:02:47.775180",
     "exception": false,
     "start_time": "2025-08-05T16:02:47.536966",
     "status": "completed"
    },
    "tags": []
   },
   "outputs": [],
   "source": [
    "from fairness_multiverse.universe import sample_by_year_size\n",
    "\n",
    "siab_train = sample_by_year_size(siab,\n",
    "                               training_year=universe[\"training_year\"],\n",
    "                               training_size=universe[\"training_size\"])"
   ]
  },
  {
   "cell_type": "code",
   "execution_count": 12,
   "id": "8d3afb32-789d-442c-8d5d-9f5aa8dd2eed",
   "metadata": {
    "execution": {
     "iopub.execute_input": "2025-08-05T16:02:47.796653Z",
     "iopub.status.busy": "2025-08-05T16:02:47.796354Z",
     "iopub.status.idle": "2025-08-05T16:02:47.800315Z",
     "shell.execute_reply": "2025-08-05T16:02:47.799432Z"
    },
    "papermill": {
     "duration": 0.015235,
     "end_time": "2025-08-05T16:02:47.801816",
     "exception": false,
     "start_time": "2025-08-05T16:02:47.786581",
     "status": "completed"
    },
    "tags": []
   },
   "outputs": [],
   "source": [
    "#siab_train.shape"
   ]
  },
  {
   "cell_type": "code",
   "execution_count": 13,
   "id": "d582db68-1a4c-47fb-84fc-08518dc1975a",
   "metadata": {
    "execution": {
     "iopub.execute_input": "2025-08-05T16:02:47.821841Z",
     "iopub.status.busy": "2025-08-05T16:02:47.821335Z",
     "iopub.status.idle": "2025-08-05T16:02:47.825510Z",
     "shell.execute_reply": "2025-08-05T16:02:47.824752Z"
    },
    "papermill": {
     "duration": 0.015282,
     "end_time": "2025-08-05T16:02:47.827094",
     "exception": false,
     "start_time": "2025-08-05T16:02:47.811812",
     "status": "completed"
    },
    "tags": []
   },
   "outputs": [],
   "source": [
    "#display(siab_train.groupby(\"year\").size())"
   ]
  },
  {
   "cell_type": "code",
   "execution_count": 14,
   "id": "a561edb4-d032-42cb-8256-22eac1111c64",
   "metadata": {
    "execution": {
     "iopub.execute_input": "2025-08-05T16:02:47.847474Z",
     "iopub.status.busy": "2025-08-05T16:02:47.846956Z",
     "iopub.status.idle": "2025-08-05T16:02:48.072832Z",
     "shell.execute_reply": "2025-08-05T16:02:48.072073Z"
    },
    "papermill": {
     "duration": 0.237294,
     "end_time": "2025-08-05T16:02:48.074338",
     "exception": false,
     "start_time": "2025-08-05T16:02:47.837044",
     "status": "completed"
    },
    "tags": []
   },
   "outputs": [],
   "source": [
    "#siab_train = siab_s[siab_s.year < 2015]\n",
    "siab_calib = siab[siab.year == 2015]\n",
    "siab_test = siab[siab.year == 2016]"
   ]
  },
  {
   "cell_type": "code",
   "execution_count": 15,
   "id": "472de16f-c3db-4916-846b-1f0de9cf1746",
   "metadata": {
    "execution": {
     "iopub.execute_input": "2025-08-05T16:02:48.094784Z",
     "iopub.status.busy": "2025-08-05T16:02:48.094476Z",
     "iopub.status.idle": "2025-08-05T16:02:48.099910Z",
     "shell.execute_reply": "2025-08-05T16:02:48.099007Z"
    },
    "papermill": {
     "duration": 0.017539,
     "end_time": "2025-08-05T16:02:48.101433",
     "exception": false,
     "start_time": "2025-08-05T16:02:48.083894",
     "status": "completed"
    },
    "tags": []
   },
   "outputs": [],
   "source": [
    "X_train = siab_train.iloc[:,4:164]\n",
    "y_train = siab_train.iloc[:, [3]]"
   ]
  },
  {
   "cell_type": "code",
   "execution_count": 16,
   "id": "828c96af-f43a-4ed6-ba47-8ac73a47d56c",
   "metadata": {
    "execution": {
     "iopub.execute_input": "2025-08-05T16:02:48.121630Z",
     "iopub.status.busy": "2025-08-05T16:02:48.120956Z",
     "iopub.status.idle": "2025-08-05T16:02:48.167329Z",
     "shell.execute_reply": "2025-08-05T16:02:48.166408Z"
    },
    "papermill": {
     "duration": 0.057616,
     "end_time": "2025-08-05T16:02:48.168899",
     "exception": false,
     "start_time": "2025-08-05T16:02:48.111283",
     "status": "completed"
    },
    "tags": []
   },
   "outputs": [],
   "source": [
    "X_calib = siab_calib.iloc[:,4:164]\n",
    "y_calib = siab_calib.iloc[:, [3]]"
   ]
  },
  {
   "cell_type": "code",
   "execution_count": 17,
   "id": "c34be9c3-6bd6-476e-acd3-845840e303be",
   "metadata": {
    "execution": {
     "iopub.execute_input": "2025-08-05T16:02:48.189877Z",
     "iopub.status.busy": "2025-08-05T16:02:48.189537Z",
     "iopub.status.idle": "2025-08-05T16:02:48.236905Z",
     "shell.execute_reply": "2025-08-05T16:02:48.235815Z"
    },
    "papermill": {
     "duration": 0.058746,
     "end_time": "2025-08-05T16:02:48.238405",
     "exception": false,
     "start_time": "2025-08-05T16:02:48.179659",
     "status": "completed"
    },
    "tags": []
   },
   "outputs": [],
   "source": [
    "X_test = siab_test.iloc[:,4:164]\n",
    "y_true = siab_test.iloc[:, [3]]"
   ]
  },
  {
   "cell_type": "code",
   "execution_count": 18,
   "id": "e6c733c5",
   "metadata": {
    "execution": {
     "iopub.execute_input": "2025-08-05T16:02:48.259359Z",
     "iopub.status.busy": "2025-08-05T16:02:48.259057Z",
     "iopub.status.idle": "2025-08-05T16:02:48.351482Z",
     "shell.execute_reply": "2025-08-05T16:02:48.350713Z"
    },
    "papermill": {
     "duration": 0.104097,
     "end_time": "2025-08-05T16:02:48.353183",
     "exception": false,
     "start_time": "2025-08-05T16:02:48.249086",
     "status": "completed"
    },
    "tags": []
   },
   "outputs": [],
   "source": [
    "# Auxiliary data needed downstream in the pipeline\n",
    "\n",
    "org_train = X_train.copy()\n",
    "org_test = X_test.copy()\n",
    "org_calib = X_calib.copy()"
   ]
  },
  {
   "cell_type": "markdown",
   "id": "0a4a1b33",
   "metadata": {
    "papermill": {
     "duration": 0.009082,
     "end_time": "2025-08-05T16:02:48.372031",
     "exception": false,
     "start_time": "2025-08-05T16:02:48.362949",
     "status": "completed"
    },
    "tags": []
   },
   "source": [
    "# Preprocessing Data"
   ]
  },
  {
   "cell_type": "code",
   "execution_count": 19,
   "id": "ca879031",
   "metadata": {
    "execution": {
     "iopub.execute_input": "2025-08-05T16:02:48.392136Z",
     "iopub.status.busy": "2025-08-05T16:02:48.391545Z",
     "iopub.status.idle": "2025-08-05T16:02:48.396632Z",
     "shell.execute_reply": "2025-08-05T16:02:48.395888Z"
    },
    "papermill": {
     "duration": 0.016656,
     "end_time": "2025-08-05T16:02:48.398053",
     "exception": false,
     "start_time": "2025-08-05T16:02:48.381397",
     "status": "completed"
    },
    "tags": []
   },
   "outputs": [],
   "source": [
    "# EXCLUDE PROTECTED FEATURES\n",
    "# ----------------------\n",
    "# \"exclude_features\": \"none\", # \"nationality\", \"sex\", \"nationality-sex\"\n",
    "\n",
    "excluded_features = universe[\"exclude_features\"].split(\"-\") # split, e.g.: \"nationality-sex\" -> [\"nationality\", \"sex\"]\n",
    "excluded_features_dictionary = {\n",
    "    \"nationality\": [\"maxdeutsch1\", \"maxdeutsch.Missing.\"],\n",
    "    \"sex\": [\"frau1\"],\n",
    "    \"age\": [\"age\"],\n",
    "}"
   ]
  },
  {
   "cell_type": "code",
   "execution_count": 20,
   "id": "b745ac60",
   "metadata": {
    "execution": {
     "iopub.execute_input": "2025-08-05T16:02:48.418916Z",
     "iopub.status.busy": "2025-08-05T16:02:48.418421Z",
     "iopub.status.idle": "2025-08-05T16:02:48.423030Z",
     "shell.execute_reply": "2025-08-05T16:02:48.422242Z"
    },
    "papermill": {
     "duration": 0.016114,
     "end_time": "2025-08-05T16:02:48.424566",
     "exception": false,
     "start_time": "2025-08-05T16:02:48.408452",
     "status": "completed"
    },
    "tags": []
   },
   "outputs": [],
   "source": [
    "# Code nice names to column names\n",
    "\n",
    "excluded_features_columns = [\n",
    "    excluded_features_dictionary[f] for f in excluded_features if len(f) > 0 and f != \"none\"\n",
    "]"
   ]
  },
  {
   "cell_type": "code",
   "execution_count": 21,
   "id": "f84f73a2",
   "metadata": {
    "execution": {
     "iopub.execute_input": "2025-08-05T16:02:48.445322Z",
     "iopub.status.busy": "2025-08-05T16:02:48.444985Z",
     "iopub.status.idle": "2025-08-05T16:02:48.450402Z",
     "shell.execute_reply": "2025-08-05T16:02:48.449426Z"
    },
    "papermill": {
     "duration": 0.016973,
     "end_time": "2025-08-05T16:02:48.451824",
     "exception": false,
     "start_time": "2025-08-05T16:02:48.434851",
     "status": "completed"
    },
    "tags": []
   },
   "outputs": [],
   "source": [
    "from utils import flatten_once\n",
    "\n",
    "excluded_features_columns = flatten_once(excluded_features_columns)"
   ]
  },
  {
   "cell_type": "code",
   "execution_count": 22,
   "id": "884dea22",
   "metadata": {
    "execution": {
     "iopub.execute_input": "2025-08-05T16:02:48.472226Z",
     "iopub.status.busy": "2025-08-05T16:02:48.471715Z",
     "iopub.status.idle": "2025-08-05T16:02:48.480168Z",
     "shell.execute_reply": "2025-08-05T16:02:48.479304Z"
    },
    "papermill": {
     "duration": 0.019947,
     "end_time": "2025-08-05T16:02:48.481760",
     "exception": false,
     "start_time": "2025-08-05T16:02:48.461813",
     "status": "completed"
    },
    "tags": []
   },
   "outputs": [
    {
     "name": "stdout",
     "output_type": "stream",
     "text": [
      "Dropping features: ['maxdeutsch1', 'maxdeutsch.Missing.', 'frau1']\n"
     ]
    }
   ],
   "source": [
    "if len(excluded_features_columns) > 0:\n",
    "    print(f\"Dropping features: {excluded_features_columns}\")\n",
    "    X_train.drop(excluded_features_columns, axis=1, inplace=True)"
   ]
  },
  {
   "cell_type": "code",
   "execution_count": 23,
   "id": "95ab8b16",
   "metadata": {
    "execution": {
     "iopub.execute_input": "2025-08-05T16:02:48.503458Z",
     "iopub.status.busy": "2025-08-05T16:02:48.503048Z",
     "iopub.status.idle": "2025-08-05T16:02:48.553060Z",
     "shell.execute_reply": "2025-08-05T16:02:48.551686Z"
    },
    "papermill": {
     "duration": 0.062148,
     "end_time": "2025-08-05T16:02:48.554834",
     "exception": false,
     "start_time": "2025-08-05T16:02:48.492686",
     "status": "completed"
    },
    "tags": []
   },
   "outputs": [
    {
     "name": "stdout",
     "output_type": "stream",
     "text": [
      "Dropping features: ['maxdeutsch1', 'maxdeutsch.Missing.', 'frau1']\n"
     ]
    }
   ],
   "source": [
    "if len(excluded_features_columns) > 0:\n",
    "    print(f\"Dropping features: {excluded_features_columns}\")\n",
    "    X_test.drop(excluded_features_columns, axis=1, inplace=True)"
   ]
  },
  {
   "cell_type": "code",
   "execution_count": 24,
   "id": "1853aaf5-fb9f-46cb-a2b5-8ea4ae2237e4",
   "metadata": {
    "execution": {
     "iopub.execute_input": "2025-08-05T16:02:48.577229Z",
     "iopub.status.busy": "2025-08-05T16:02:48.576710Z",
     "iopub.status.idle": "2025-08-05T16:02:48.624696Z",
     "shell.execute_reply": "2025-08-05T16:02:48.623592Z"
    },
    "papermill": {
     "duration": 0.060607,
     "end_time": "2025-08-05T16:02:48.626349",
     "exception": false,
     "start_time": "2025-08-05T16:02:48.565742",
     "status": "completed"
    },
    "tags": []
   },
   "outputs": [
    {
     "name": "stdout",
     "output_type": "stream",
     "text": [
      "Dropping features: ['maxdeutsch1', 'maxdeutsch.Missing.', 'frau1']\n"
     ]
    }
   ],
   "source": [
    "if len(excluded_features_columns) > 0:\n",
    "    print(f\"Dropping features: {excluded_features_columns}\")\n",
    "    X_calib.drop(excluded_features_columns, axis=1, inplace=True)"
   ]
  },
  {
   "cell_type": "code",
   "execution_count": 25,
   "id": "76c4dc6d",
   "metadata": {
    "execution": {
     "iopub.execute_input": "2025-08-05T16:02:48.648018Z",
     "iopub.status.busy": "2025-08-05T16:02:48.647528Z",
     "iopub.status.idle": "2025-08-05T16:02:48.652082Z",
     "shell.execute_reply": "2025-08-05T16:02:48.651323Z"
    },
    "papermill": {
     "duration": 0.016455,
     "end_time": "2025-08-05T16:02:48.653665",
     "exception": false,
     "start_time": "2025-08-05T16:02:48.637210",
     "status": "completed"
    },
    "tags": []
   },
   "outputs": [],
   "source": [
    "# EXCLUDE CERTAIN SUBGROUPS\n",
    "# ----------------------\n",
    "\n",
    "mode = universe.get(\"exclude_subgroups\", \"keep-all\") \n",
    "# Fetches the exclude_subgroups setting from the universe dict.\n",
    "# Defaults to \"keep-all\" if the key is missing."
   ]
  },
  {
   "cell_type": "code",
   "execution_count": 26,
   "id": "21994072",
   "metadata": {
    "execution": {
     "iopub.execute_input": "2025-08-05T16:02:48.675487Z",
     "iopub.status.busy": "2025-08-05T16:02:48.674983Z",
     "iopub.status.idle": "2025-08-05T16:02:48.680056Z",
     "shell.execute_reply": "2025-08-05T16:02:48.679120Z"
    },
    "papermill": {
     "duration": 0.017171,
     "end_time": "2025-08-05T16:02:48.681684",
     "exception": false,
     "start_time": "2025-08-05T16:02:48.664513",
     "status": "completed"
    },
    "tags": []
   },
   "outputs": [],
   "source": [
    "if mode == \"keep-all\":\n",
    "    keep_mask = pd.Series(True, index=org_train.index)\n",
    "\n",
    "# org_train contains the original feature columns from features_org (in Simson)\n",
    "# features_org contains unprocessed features, for me X_train at beginning ???\n",
    "# For keep-all, creates a boolean Series (keep_mask) of all True, so no rows are removed.\n",
    "\n",
    "elif mode == \"drop-non-german\":\n",
    "    keep_mask = org_train[\"maxdeutsch1\"] == 1 # ??? what about missing values?\n",
    "\n",
    "else:\n",
    "    raise ValueError(f\"Unsupported mode for exclude_subgroups: {mode}\")"
   ]
  },
  {
   "cell_type": "code",
   "execution_count": 27,
   "id": "71651440",
   "metadata": {
    "execution": {
     "iopub.execute_input": "2025-08-05T16:02:48.703735Z",
     "iopub.status.busy": "2025-08-05T16:02:48.703238Z",
     "iopub.status.idle": "2025-08-05T16:02:48.709204Z",
     "shell.execute_reply": "2025-08-05T16:02:48.708343Z"
    },
    "papermill": {
     "duration": 0.018443,
     "end_time": "2025-08-05T16:02:48.710732",
     "exception": false,
     "start_time": "2025-08-05T16:02:48.692289",
     "status": "completed"
    },
    "tags": []
   },
   "outputs": [
    {
     "name": "stdout",
     "output_type": "stream",
     "text": [
      "Dropping 147 rows (14.70%) where mode='drop-non-german'\n"
     ]
    }
   ],
   "source": [
    "n_drop = (~keep_mask).sum() # Calculates how many rows are set to be dropped\n",
    "if n_drop > 0:\n",
    "    pct = n_drop / len(keep_mask) * 100\n",
    "    print(f\"Dropping {n_drop} rows ({pct:.2f}%) where mode='{mode}'\")"
   ]
  },
  {
   "cell_type": "code",
   "execution_count": 28,
   "id": "5fb8eee5",
   "metadata": {
    "execution": {
     "iopub.execute_input": "2025-08-05T16:02:48.733126Z",
     "iopub.status.busy": "2025-08-05T16:02:48.732615Z",
     "iopub.status.idle": "2025-08-05T16:02:48.738351Z",
     "shell.execute_reply": "2025-08-05T16:02:48.737397Z"
    },
    "papermill": {
     "duration": 0.018402,
     "end_time": "2025-08-05T16:02:48.739826",
     "exception": false,
     "start_time": "2025-08-05T16:02:48.721424",
     "status": "completed"
    },
    "tags": []
   },
   "outputs": [],
   "source": [
    "X_train = X_train[keep_mask]"
   ]
  },
  {
   "cell_type": "code",
   "execution_count": 29,
   "id": "b202bb3a",
   "metadata": {
    "execution": {
     "iopub.execute_input": "2025-08-05T16:02:48.762908Z",
     "iopub.status.busy": "2025-08-05T16:02:48.762355Z",
     "iopub.status.idle": "2025-08-05T16:02:48.767537Z",
     "shell.execute_reply": "2025-08-05T16:02:48.766727Z"
    },
    "papermill": {
     "duration": 0.018141,
     "end_time": "2025-08-05T16:02:48.769010",
     "exception": false,
     "start_time": "2025-08-05T16:02:48.750869",
     "status": "completed"
    },
    "tags": []
   },
   "outputs": [],
   "source": [
    "y_train = y_train[keep_mask]"
   ]
  },
  {
   "cell_type": "markdown",
   "id": "493e2ac3",
   "metadata": {
    "papermill": {
     "duration": 0.011379,
     "end_time": "2025-08-05T16:02:48.791956",
     "exception": false,
     "start_time": "2025-08-05T16:02:48.780577",
     "status": "completed"
    },
    "tags": []
   },
   "source": [
    "# Model Training"
   ]
  },
  {
   "cell_type": "code",
   "execution_count": 30,
   "id": "679e1268",
   "metadata": {
    "execution": {
     "iopub.execute_input": "2025-08-05T16:02:48.815956Z",
     "iopub.status.busy": "2025-08-05T16:02:48.815240Z",
     "iopub.status.idle": "2025-08-05T16:02:48.950483Z",
     "shell.execute_reply": "2025-08-05T16:02:48.949610Z"
    },
    "papermill": {
     "duration": 0.149451,
     "end_time": "2025-08-05T16:02:48.951969",
     "exception": false,
     "start_time": "2025-08-05T16:02:48.802518",
     "status": "completed"
    },
    "tags": []
   },
   "outputs": [],
   "source": [
    "from sklearn.linear_model import LogisticRegression\n",
    "from sklearn.ensemble import GradientBoostingClassifier, RandomForestClassifier\n",
    "\n",
    "if (universe[\"model\"] == \"logreg\"):\n",
    "    model = LogisticRegression() #penalty=\"none\", solver=\"newton-cg\", max_iter=1) # include random_state=19 ?\n",
    "elif (universe[\"model\"] == \"penalized_logreg\"):\n",
    "    model = LogisticRegression(penalty=\"l2\", C=0.1) #, solver=\"newton-cg\", max_iter=1)\n",
    "elif (universe[\"model\"] == \"rf\"):\n",
    "    model = RandomForestClassifier() # n_estimators=100, n_jobs=-1\n",
    "elif (universe[\"model\"] == \"gbm\"):\n",
    "    model = GradientBoostingClassifier()\n",
    "elif (universe[\"model\"] == \"elasticnet\"):\n",
    "    model = LogisticRegression(penalty = 'elasticnet', solver = 'saga', l1_ratio = 0.5) # max_iter=5000\n",
    "else:\n",
    "    raise \"Unsupported universe.model\""
   ]
  },
  {
   "cell_type": "code",
   "execution_count": 31,
   "id": "0cc8f744",
   "metadata": {
    "execution": {
     "iopub.execute_input": "2025-08-05T16:02:48.974085Z",
     "iopub.status.busy": "2025-08-05T16:02:48.973367Z",
     "iopub.status.idle": "2025-08-05T16:02:48.978623Z",
     "shell.execute_reply": "2025-08-05T16:02:48.977810Z"
    },
    "papermill": {
     "duration": 0.017359,
     "end_time": "2025-08-05T16:02:48.980118",
     "exception": false,
     "start_time": "2025-08-05T16:02:48.962759",
     "status": "completed"
    },
    "tags": []
   },
   "outputs": [],
   "source": [
    "import numpy as np\n",
    "from sklearn.pipeline import Pipeline\n",
    "from sklearn.preprocessing import StandardScaler\n",
    "\n",
    "model = Pipeline([\n",
    "    #(\"continuous_processor\", continuous_processor),\n",
    "    #(\"categorical_preprocessor\", categorical_preprocessor),\n",
    "    (\"scale\", StandardScaler() if universe[\"scale\"] == \"scale\" else None), \n",
    "    (\"model\", model),\n",
    "])"
   ]
  },
  {
   "cell_type": "code",
   "execution_count": 32,
   "id": "9442c04d",
   "metadata": {
    "execution": {
     "iopub.execute_input": "2025-08-05T16:02:49.003016Z",
     "iopub.status.busy": "2025-08-05T16:02:49.002391Z",
     "iopub.status.idle": "2025-08-05T16:02:49.055847Z",
     "shell.execute_reply": "2025-08-05T16:02:49.055107Z"
    },
    "papermill": {
     "duration": 0.065698,
     "end_time": "2025-08-05T16:02:49.057126",
     "exception": false,
     "start_time": "2025-08-05T16:02:48.991428",
     "status": "completed"
    },
    "tags": []
   },
   "outputs": [
    {
     "name": "stderr",
     "output_type": "stream",
     "text": [
      "/dss/dsshome1/0C/ra93lal2/.local/share/virtualenvs/CMA_Fairness_v2-3j10GkSs/lib/python3.10/site-packages/sklearn/linear_model/_logistic.py:444: ConvergenceWarning: lbfgs failed to converge (status=1):\n",
      "STOP: TOTAL NO. of ITERATIONS REACHED LIMIT.\n",
      "\n",
      "Increase the number of iterations (max_iter) or scale the data as shown in:\n",
      "    https://scikit-learn.org/stable/modules/preprocessing.html\n",
      "Please also refer to the documentation for alternative solver options:\n",
      "    https://scikit-learn.org/stable/modules/linear_model.html#logistic-regression\n",
      "  n_iter_i = _check_optimize_result(\n"
     ]
    },
    {
     "data": {
      "text/html": [
       "<style>#sk-container-id-1 {color: black;background-color: white;}#sk-container-id-1 pre{padding: 0;}#sk-container-id-1 div.sk-toggleable {background-color: white;}#sk-container-id-1 label.sk-toggleable__label {cursor: pointer;display: block;width: 100%;margin-bottom: 0;padding: 0.3em;box-sizing: border-box;text-align: center;}#sk-container-id-1 label.sk-toggleable__label-arrow:before {content: \"▸\";float: left;margin-right: 0.25em;color: #696969;}#sk-container-id-1 label.sk-toggleable__label-arrow:hover:before {color: black;}#sk-container-id-1 div.sk-estimator:hover label.sk-toggleable__label-arrow:before {color: black;}#sk-container-id-1 div.sk-toggleable__content {max-height: 0;max-width: 0;overflow: hidden;text-align: left;background-color: #f0f8ff;}#sk-container-id-1 div.sk-toggleable__content pre {margin: 0.2em;color: black;border-radius: 0.25em;background-color: #f0f8ff;}#sk-container-id-1 input.sk-toggleable__control:checked~div.sk-toggleable__content {max-height: 200px;max-width: 100%;overflow: auto;}#sk-container-id-1 input.sk-toggleable__control:checked~label.sk-toggleable__label-arrow:before {content: \"▾\";}#sk-container-id-1 div.sk-estimator input.sk-toggleable__control:checked~label.sk-toggleable__label {background-color: #d4ebff;}#sk-container-id-1 div.sk-label input.sk-toggleable__control:checked~label.sk-toggleable__label {background-color: #d4ebff;}#sk-container-id-1 input.sk-hidden--visually {border: 0;clip: rect(1px 1px 1px 1px);clip: rect(1px, 1px, 1px, 1px);height: 1px;margin: -1px;overflow: hidden;padding: 0;position: absolute;width: 1px;}#sk-container-id-1 div.sk-estimator {font-family: monospace;background-color: #f0f8ff;border: 1px dotted black;border-radius: 0.25em;box-sizing: border-box;margin-bottom: 0.5em;}#sk-container-id-1 div.sk-estimator:hover {background-color: #d4ebff;}#sk-container-id-1 div.sk-parallel-item::after {content: \"\";width: 100%;border-bottom: 1px solid gray;flex-grow: 1;}#sk-container-id-1 div.sk-label:hover label.sk-toggleable__label {background-color: #d4ebff;}#sk-container-id-1 div.sk-serial::before {content: \"\";position: absolute;border-left: 1px solid gray;box-sizing: border-box;top: 0;bottom: 0;left: 50%;z-index: 0;}#sk-container-id-1 div.sk-serial {display: flex;flex-direction: column;align-items: center;background-color: white;padding-right: 0.2em;padding-left: 0.2em;position: relative;}#sk-container-id-1 div.sk-item {position: relative;z-index: 1;}#sk-container-id-1 div.sk-parallel {display: flex;align-items: stretch;justify-content: center;background-color: white;position: relative;}#sk-container-id-1 div.sk-item::before, #sk-container-id-1 div.sk-parallel-item::before {content: \"\";position: absolute;border-left: 1px solid gray;box-sizing: border-box;top: 0;bottom: 0;left: 50%;z-index: -1;}#sk-container-id-1 div.sk-parallel-item {display: flex;flex-direction: column;z-index: 1;position: relative;background-color: white;}#sk-container-id-1 div.sk-parallel-item:first-child::after {align-self: flex-end;width: 50%;}#sk-container-id-1 div.sk-parallel-item:last-child::after {align-self: flex-start;width: 50%;}#sk-container-id-1 div.sk-parallel-item:only-child::after {width: 0;}#sk-container-id-1 div.sk-dashed-wrapped {border: 1px dashed gray;margin: 0 0.4em 0.5em 0.4em;box-sizing: border-box;padding-bottom: 0.4em;background-color: white;}#sk-container-id-1 div.sk-label label {font-family: monospace;font-weight: bold;display: inline-block;line-height: 1.2em;}#sk-container-id-1 div.sk-label-container {text-align: center;}#sk-container-id-1 div.sk-container {/* jupyter's `normalize.less` sets `[hidden] { display: none; }` but bootstrap.min.css set `[hidden] { display: none !important; }` so we also need the `!important` here to be able to override the default hidden behavior on the sphinx rendered scikit-learn.org. See: https://github.com/scikit-learn/scikit-learn/issues/21755 */display: inline-block !important;position: relative;}#sk-container-id-1 div.sk-text-repr-fallback {display: none;}</style><div id=\"sk-container-id-1\" class=\"sk-top-container\"><div class=\"sk-text-repr-fallback\"><pre>Pipeline(steps=[(&#x27;scale&#x27;, StandardScaler()), (&#x27;model&#x27;, LogisticRegression())])</pre><b>In a Jupyter environment, please rerun this cell to show the HTML representation or trust the notebook. <br />On GitHub, the HTML representation is unable to render, please try loading this page with nbviewer.org.</b></div><div class=\"sk-container\" hidden><div class=\"sk-item sk-dashed-wrapped\"><div class=\"sk-label-container\"><div class=\"sk-label sk-toggleable\"><input class=\"sk-toggleable__control sk-hidden--visually\" id=\"sk-estimator-id-1\" type=\"checkbox\" ><label for=\"sk-estimator-id-1\" class=\"sk-toggleable__label sk-toggleable__label-arrow\">Pipeline</label><div class=\"sk-toggleable__content\"><pre>Pipeline(steps=[(&#x27;scale&#x27;, StandardScaler()), (&#x27;model&#x27;, LogisticRegression())])</pre></div></div></div><div class=\"sk-serial\"><div class=\"sk-item\"><div class=\"sk-estimator sk-toggleable\"><input class=\"sk-toggleable__control sk-hidden--visually\" id=\"sk-estimator-id-2\" type=\"checkbox\" ><label for=\"sk-estimator-id-2\" class=\"sk-toggleable__label sk-toggleable__label-arrow\">StandardScaler</label><div class=\"sk-toggleable__content\"><pre>StandardScaler()</pre></div></div></div><div class=\"sk-item\"><div class=\"sk-estimator sk-toggleable\"><input class=\"sk-toggleable__control sk-hidden--visually\" id=\"sk-estimator-id-3\" type=\"checkbox\" ><label for=\"sk-estimator-id-3\" class=\"sk-toggleable__label sk-toggleable__label-arrow\">LogisticRegression</label><div class=\"sk-toggleable__content\"><pre>LogisticRegression()</pre></div></div></div></div></div></div></div>"
      ],
      "text/plain": [
       "Pipeline(steps=[('scale', StandardScaler()), ('model', LogisticRegression())])"
      ]
     },
     "execution_count": 32,
     "metadata": {},
     "output_type": "execute_result"
    }
   ],
   "source": [
    "model.fit(X_train, y_train.values.ravel())"
   ]
  },
  {
   "cell_type": "code",
   "execution_count": 33,
   "id": "af59f8c0",
   "metadata": {
    "execution": {
     "iopub.execute_input": "2025-08-05T16:02:49.081434Z",
     "iopub.status.busy": "2025-08-05T16:02:49.080712Z",
     "iopub.status.idle": "2025-08-05T16:02:49.085453Z",
     "shell.execute_reply": "2025-08-05T16:02:49.084647Z"
    },
    "papermill": {
     "duration": 0.018656,
     "end_time": "2025-08-05T16:02:49.087117",
     "exception": false,
     "start_time": "2025-08-05T16:02:49.068461",
     "status": "completed"
    },
    "tags": []
   },
   "outputs": [],
   "source": [
    "from fairness_multiverse.universe import predict_w_threshold"
   ]
  },
  {
   "cell_type": "code",
   "execution_count": 34,
   "id": "a7cf2e16",
   "metadata": {
    "execution": {
     "iopub.execute_input": "2025-08-05T16:02:49.111120Z",
     "iopub.status.busy": "2025-08-05T16:02:49.110430Z",
     "iopub.status.idle": "2025-08-05T16:02:49.283754Z",
     "shell.execute_reply": "2025-08-05T16:02:49.282808Z"
    },
    "papermill": {
     "duration": 0.18652,
     "end_time": "2025-08-05T16:02:49.285160",
     "exception": false,
     "start_time": "2025-08-05T16:02:49.098640",
     "status": "completed"
    },
    "tags": []
   },
   "outputs": [
    {
     "data": {
      "text/plain": [
       "0.81086835358377"
      ]
     },
     "execution_count": 34,
     "metadata": {},
     "output_type": "execute_result"
    }
   ],
   "source": [
    "probs_test = model.predict_proba(X_test)\n",
    "\n",
    "'''\n",
    "Below code returns a boolean array (or binary 0/1 array depending on how it’s used) where each element \n",
    "is True if the probability of class 1 is greater than or equal to the threshold, and False otherwise.\n",
    "'''\n",
    "y_pred_default = predict_w_threshold(probs_test, 0.5)\n",
    "\n",
    "from sklearn.metrics import accuracy_score\n",
    "\n",
    "# Naive prediction\n",
    "accuracy_score(y_true = y_true, y_pred = y_pred_default)"
   ]
  },
  {
   "cell_type": "code",
   "execution_count": 35,
   "id": "081964c3",
   "metadata": {
    "execution": {
     "iopub.execute_input": "2025-08-05T16:02:49.308877Z",
     "iopub.status.busy": "2025-08-05T16:02:49.308579Z",
     "iopub.status.idle": "2025-08-05T16:02:49.474168Z",
     "shell.execute_reply": "2025-08-05T16:02:49.473153Z"
    },
    "papermill": {
     "duration": 0.178256,
     "end_time": "2025-08-05T16:02:49.475573",
     "exception": false,
     "start_time": "2025-08-05T16:02:49.297317",
     "status": "completed"
    },
    "tags": []
   },
   "outputs": [
    {
     "data": {
      "text/plain": [
       "array([0, 0, 0, ..., 0, 0, 0])"
      ]
     },
     "execution_count": 35,
     "metadata": {},
     "output_type": "execute_result"
    }
   ],
   "source": [
    "model.predict(X_test)"
   ]
  },
  {
   "cell_type": "markdown",
   "id": "56c9705b",
   "metadata": {
    "papermill": {
     "duration": 0.010854,
     "end_time": "2025-08-05T16:02:49.497852",
     "exception": false,
     "start_time": "2025-08-05T16:02:49.486998",
     "status": "completed"
    },
    "tags": []
   },
   "source": [
    "# Conformal Prediction"
   ]
  },
  {
   "cell_type": "code",
   "execution_count": 36,
   "id": "160ec6ff",
   "metadata": {
    "execution": {
     "iopub.execute_input": "2025-08-05T16:02:49.521121Z",
     "iopub.status.busy": "2025-08-05T16:02:49.520292Z",
     "iopub.status.idle": "2025-08-05T16:02:49.525073Z",
     "shell.execute_reply": "2025-08-05T16:02:49.524264Z"
    },
    "papermill": {
     "duration": 0.018126,
     "end_time": "2025-08-05T16:02:49.526678",
     "exception": false,
     "start_time": "2025-08-05T16:02:49.508552",
     "status": "completed"
    },
    "tags": []
   },
   "outputs": [],
   "source": [
    "# Miscoverage level for conformal prediction (10% allowed error rate => 90% target coverage)\n",
    "alpha = 0.1"
   ]
  },
  {
   "cell_type": "code",
   "execution_count": 37,
   "id": "eadf4555-3dd3-440e-8e35-f82a4ad9f855",
   "metadata": {
    "execution": {
     "iopub.execute_input": "2025-08-05T16:02:49.551997Z",
     "iopub.status.busy": "2025-08-05T16:02:49.551239Z",
     "iopub.status.idle": "2025-08-05T16:02:49.715161Z",
     "shell.execute_reply": "2025-08-05T16:02:49.714386Z"
    },
    "papermill": {
     "duration": 0.177731,
     "end_time": "2025-08-05T16:02:49.716678",
     "exception": false,
     "start_time": "2025-08-05T16:02:49.538947",
     "status": "completed"
    },
    "tags": []
   },
   "outputs": [],
   "source": [
    "probs_calib = model.predict_proba(X_calib)"
   ]
  },
  {
   "cell_type": "code",
   "execution_count": 38,
   "id": "2ed93547-6d5d-4983-9b36-1ecb300da49a",
   "metadata": {
    "execution": {
     "iopub.execute_input": "2025-08-05T16:02:49.739869Z",
     "iopub.status.busy": "2025-08-05T16:02:49.739580Z",
     "iopub.status.idle": "2025-08-05T16:02:49.743987Z",
     "shell.execute_reply": "2025-08-05T16:02:49.743218Z"
    },
    "papermill": {
     "duration": 0.017276,
     "end_time": "2025-08-05T16:02:49.745563",
     "exception": false,
     "start_time": "2025-08-05T16:02:49.728287",
     "status": "completed"
    },
    "tags": []
   },
   "outputs": [],
   "source": [
    "y_calib = y_calib.values.ravel().astype(int)"
   ]
  },
  {
   "cell_type": "code",
   "execution_count": 39,
   "id": "65d1320d-f588-4b38-9072-62af1ae97f7d",
   "metadata": {
    "execution": {
     "iopub.execute_input": "2025-08-05T16:02:49.768896Z",
     "iopub.status.busy": "2025-08-05T16:02:49.768389Z",
     "iopub.status.idle": "2025-08-05T16:02:49.774466Z",
     "shell.execute_reply": "2025-08-05T16:02:49.773593Z"
    },
    "papermill": {
     "duration": 0.018799,
     "end_time": "2025-08-05T16:02:49.775900",
     "exception": false,
     "start_time": "2025-08-05T16:02:49.757101",
     "status": "completed"
    },
    "tags": []
   },
   "outputs": [],
   "source": [
    "from fairness_multiverse.conformal import compute_nc_scores\n",
    "\n",
    "# Compute nonconformity scores on calibration set (1 - probability of true class)\n",
    "nc_scores = compute_nc_scores(probs_calib, y_calib)"
   ]
  },
  {
   "cell_type": "code",
   "execution_count": 40,
   "id": "df3b8ca3-53b7-43d5-9667-7c85da7aeda2",
   "metadata": {
    "execution": {
     "iopub.execute_input": "2025-08-05T16:02:49.799764Z",
     "iopub.status.busy": "2025-08-05T16:02:49.799363Z",
     "iopub.status.idle": "2025-08-05T16:02:49.805325Z",
     "shell.execute_reply": "2025-08-05T16:02:49.804466Z"
    },
    "papermill": {
     "duration": 0.019158,
     "end_time": "2025-08-05T16:02:49.806687",
     "exception": false,
     "start_time": "2025-08-05T16:02:49.787529",
     "status": "completed"
    },
    "tags": []
   },
   "outputs": [],
   "source": [
    "from fairness_multiverse.conformal import find_threshold\n",
    "\n",
    "# Find conformal threshold q_hat for the given alpha (split conformal method)\n",
    "q_hat = find_threshold(nc_scores, alpha)"
   ]
  },
  {
   "cell_type": "code",
   "execution_count": 41,
   "id": "4d29e6c1-0ef6-4aa4-b8fe-4fe79b0d033a",
   "metadata": {
    "execution": {
     "iopub.execute_input": "2025-08-05T16:02:49.829350Z",
     "iopub.status.busy": "2025-08-05T16:02:49.828861Z",
     "iopub.status.idle": "2025-08-05T16:02:49.834693Z",
     "shell.execute_reply": "2025-08-05T16:02:49.833866Z"
    },
    "papermill": {
     "duration": 0.018275,
     "end_time": "2025-08-05T16:02:49.836084",
     "exception": false,
     "start_time": "2025-08-05T16:02:49.817809",
     "status": "completed"
    },
    "tags": []
   },
   "outputs": [
    {
     "data": {
      "text/plain": [
       "0.8362031820237452"
      ]
     },
     "execution_count": 41,
     "metadata": {},
     "output_type": "execute_result"
    }
   ],
   "source": [
    "q_hat"
   ]
  },
  {
   "cell_type": "code",
   "execution_count": 42,
   "id": "92460794-cdac-4be2-ba28-f28c0515a6fb",
   "metadata": {
    "execution": {
     "iopub.execute_input": "2025-08-05T16:02:49.859097Z",
     "iopub.status.busy": "2025-08-05T16:02:49.858608Z",
     "iopub.status.idle": "2025-08-05T16:02:50.421690Z",
     "shell.execute_reply": "2025-08-05T16:02:50.420709Z"
    },
    "papermill": {
     "duration": 0.575646,
     "end_time": "2025-08-05T16:02:50.423170",
     "exception": false,
     "start_time": "2025-08-05T16:02:49.847524",
     "status": "completed"
    },
    "tags": []
   },
   "outputs": [],
   "source": [
    "from fairness_multiverse.conformal import predict_conformal_sets\n",
    "\n",
    "# Generate prediction sets for each test example\n",
    "pred_sets = predict_conformal_sets(model, X_test, q_hat)"
   ]
  },
  {
   "cell_type": "code",
   "execution_count": 43,
   "id": "d90c9a65-e6db-4f5d-80cd-e68fb7e46829",
   "metadata": {
    "execution": {
     "iopub.execute_input": "2025-08-05T16:02:50.446919Z",
     "iopub.status.busy": "2025-08-05T16:02:50.446565Z",
     "iopub.status.idle": "2025-08-05T16:02:50.451204Z",
     "shell.execute_reply": "2025-08-05T16:02:50.450412Z"
    },
    "papermill": {
     "duration": 0.017881,
     "end_time": "2025-08-05T16:02:50.452621",
     "exception": false,
     "start_time": "2025-08-05T16:02:50.434740",
     "status": "completed"
    },
    "tags": []
   },
   "outputs": [],
   "source": [
    "y_true = y_true.squeeze()"
   ]
  },
  {
   "cell_type": "code",
   "execution_count": 44,
   "id": "3a58a54a-1e68-46b9-927a-df01f18aebc8",
   "metadata": {
    "execution": {
     "iopub.execute_input": "2025-08-05T16:02:50.476644Z",
     "iopub.status.busy": "2025-08-05T16:02:50.476261Z",
     "iopub.status.idle": "2025-08-05T16:02:50.977500Z",
     "shell.execute_reply": "2025-08-05T16:02:50.976644Z"
    },
    "papermill": {
     "duration": 0.51458,
     "end_time": "2025-08-05T16:02:50.979189",
     "exception": false,
     "start_time": "2025-08-05T16:02:50.464609",
     "status": "completed"
    },
    "tags": []
   },
   "outputs": [],
   "source": [
    "from fairness_multiverse.conformal import evaluate_sets\n",
    "\n",
    "# Evaluate coverage and average set size on test data\n",
    "metrics = evaluate_sets(pred_sets, y_true)"
   ]
  },
  {
   "cell_type": "markdown",
   "id": "2b569c12-9aaa-4c88-98c9-bbcd0cf3ebb8",
   "metadata": {
    "papermill": {
     "duration": 0.010688,
     "end_time": "2025-08-05T16:02:51.001375",
     "exception": false,
     "start_time": "2025-08-05T16:02:50.990687",
     "status": "completed"
    },
    "tags": []
   },
   "source": [
    "# CP Metrics"
   ]
  },
  {
   "cell_type": "code",
   "execution_count": 45,
   "id": "5ce0a5cb-201f-45a0-ade5-94c7f0bd6095",
   "metadata": {
    "execution": {
     "iopub.execute_input": "2025-08-05T16:02:51.025225Z",
     "iopub.status.busy": "2025-08-05T16:02:51.024708Z",
     "iopub.status.idle": "2025-08-05T16:02:51.031450Z",
     "shell.execute_reply": "2025-08-05T16:02:51.030696Z"
    },
    "papermill": {
     "duration": 0.020126,
     "end_time": "2025-08-05T16:02:51.032907",
     "exception": false,
     "start_time": "2025-08-05T16:02:51.012781",
     "status": "completed"
    },
    "tags": []
   },
   "outputs": [
    {
     "data": {
      "text/plain": [
       "{'coverage': 0.9077360383457809, 'avg_size': 1.2642849180693345}"
      ]
     },
     "execution_count": 45,
     "metadata": {},
     "output_type": "execute_result"
    }
   ],
   "source": [
    "metrics"
   ]
  },
  {
   "cell_type": "code",
   "execution_count": 46,
   "id": "9b9a838d-31c9-430b-ae14-12baee460d17",
   "metadata": {
    "execution": {
     "iopub.execute_input": "2025-08-05T16:02:51.056816Z",
     "iopub.status.busy": "2025-08-05T16:02:51.056511Z",
     "iopub.status.idle": "2025-08-05T16:02:51.061506Z",
     "shell.execute_reply": "2025-08-05T16:02:51.060553Z"
    },
    "papermill": {
     "duration": 0.018163,
     "end_time": "2025-08-05T16:02:51.063166",
     "exception": false,
     "start_time": "2025-08-05T16:02:51.045003",
     "status": "completed"
    },
    "tags": []
   },
   "outputs": [],
   "source": [
    "example_universe = universe.copy()\n",
    "universe_training_year = example_universe.get(\"training_year\")\n",
    "universe_training_size = example_universe.get(\"training_size\")\n",
    "universe_scale = example_universe.get(\"scale\")\n",
    "universe_model = example_universe.get(\"model\")\n",
    "universe_exclude_features = example_universe.get(\"exclude_features\")\n",
    "universe_exclude_subgroups = example_universe.get(\"exclude_subgroups\")"
   ]
  },
  {
   "cell_type": "code",
   "execution_count": 47,
   "id": "f4b6a8ac-9dc0-4245-8a91-5b3b5999c4f9",
   "metadata": {
    "execution": {
     "iopub.execute_input": "2025-08-05T16:02:51.089104Z",
     "iopub.status.busy": "2025-08-05T16:02:51.088755Z",
     "iopub.status.idle": "2025-08-05T16:02:51.094291Z",
     "shell.execute_reply": "2025-08-05T16:02:51.093470Z"
    },
    "papermill": {
     "duration": 0.019669,
     "end_time": "2025-08-05T16:02:51.095724",
     "exception": false,
     "start_time": "2025-08-05T16:02:51.076055",
     "status": "completed"
    },
    "tags": []
   },
   "outputs": [],
   "source": [
    "cp_metrics_dict = {\n",
    "    \"universe_id\": [universe_id],\n",
    "    \"universe_training_year\": [universe_training_year],\n",
    "    \"universe_training_size\": [universe_training_size],\n",
    "    \"universe_scale\": [universe_scale],\n",
    "    \"universe_model\": [universe_model],\n",
    "    \"universe_exclude_features\": [universe_exclude_features],\n",
    "    \"universe_exclude_subgroups\": [universe_exclude_subgroups],\n",
    "    \"q_hat\": [q_hat],\n",
    "    \"coverage\": [metrics[\"coverage\"]],\n",
    "    \"avg_size\": [metrics[\"avg_size\"]],\n",
    "}"
   ]
  },
  {
   "cell_type": "code",
   "execution_count": 48,
   "id": "908acbb1-0371-4915-85ca-3fa520d2efe2",
   "metadata": {
    "execution": {
     "iopub.execute_input": "2025-08-05T16:02:51.119571Z",
     "iopub.status.busy": "2025-08-05T16:02:51.119083Z",
     "iopub.status.idle": "2025-08-05T16:02:51.125548Z",
     "shell.execute_reply": "2025-08-05T16:02:51.124576Z"
    },
    "papermill": {
     "duration": 0.019384,
     "end_time": "2025-08-05T16:02:51.127145",
     "exception": false,
     "start_time": "2025-08-05T16:02:51.107761",
     "status": "completed"
    },
    "tags": []
   },
   "outputs": [
    {
     "data": {
      "text/plain": [
       "{'universe_id': ['0af9c654798fdcb18d21354966acdfb9'],\n",
       " 'universe_training_year': ['2014'],\n",
       " 'universe_training_size': ['1k'],\n",
       " 'universe_scale': ['scale'],\n",
       " 'universe_model': ['logreg'],\n",
       " 'universe_exclude_features': ['nationality-sex'],\n",
       " 'universe_exclude_subgroups': ['drop-non-german'],\n",
       " 'q_hat': [0.8362031820237452],\n",
       " 'coverage': [0.9077360383457809],\n",
       " 'avg_size': [1.2642849180693345]}"
      ]
     },
     "execution_count": 48,
     "metadata": {},
     "output_type": "execute_result"
    }
   ],
   "source": [
    "cp_metrics_dict"
   ]
  },
  {
   "cell_type": "code",
   "execution_count": 49,
   "id": "33007efc-14e9-4ec6-97ac-56a455c82265",
   "metadata": {
    "execution": {
     "iopub.execute_input": "2025-08-05T16:02:51.151500Z",
     "iopub.status.busy": "2025-08-05T16:02:51.150997Z",
     "iopub.status.idle": "2025-08-05T16:02:51.156028Z",
     "shell.execute_reply": "2025-08-05T16:02:51.155248Z"
    },
    "papermill": {
     "duration": 0.01834,
     "end_time": "2025-08-05T16:02:51.157450",
     "exception": false,
     "start_time": "2025-08-05T16:02:51.139110",
     "status": "completed"
    },
    "tags": []
   },
   "outputs": [],
   "source": [
    "cp_metrics_df = pd.DataFrame(cp_metrics_dict)"
   ]
  },
  {
   "cell_type": "code",
   "execution_count": 50,
   "id": "db12611b-57b2-4910-b9d0-355adfd6e7bf",
   "metadata": {
    "execution": {
     "iopub.execute_input": "2025-08-05T16:02:51.183660Z",
     "iopub.status.busy": "2025-08-05T16:02:51.183004Z",
     "iopub.status.idle": "2025-08-05T16:02:51.197004Z",
     "shell.execute_reply": "2025-08-05T16:02:51.196273Z"
    },
    "papermill": {
     "duration": 0.028593,
     "end_time": "2025-08-05T16:02:51.198414",
     "exception": false,
     "start_time": "2025-08-05T16:02:51.169821",
     "status": "completed"
    },
    "tags": []
   },
   "outputs": [
    {
     "data": {
      "text/html": [
       "<div>\n",
       "<style scoped>\n",
       "    .dataframe tbody tr th:only-of-type {\n",
       "        vertical-align: middle;\n",
       "    }\n",
       "\n",
       "    .dataframe tbody tr th {\n",
       "        vertical-align: top;\n",
       "    }\n",
       "\n",
       "    .dataframe thead th {\n",
       "        text-align: right;\n",
       "    }\n",
       "</style>\n",
       "<table border=\"1\" class=\"dataframe\">\n",
       "  <thead>\n",
       "    <tr style=\"text-align: right;\">\n",
       "      <th></th>\n",
       "      <th>universe_id</th>\n",
       "      <th>universe_training_year</th>\n",
       "      <th>universe_training_size</th>\n",
       "      <th>universe_scale</th>\n",
       "      <th>universe_model</th>\n",
       "      <th>universe_exclude_features</th>\n",
       "      <th>universe_exclude_subgroups</th>\n",
       "      <th>q_hat</th>\n",
       "      <th>coverage</th>\n",
       "      <th>avg_size</th>\n",
       "    </tr>\n",
       "  </thead>\n",
       "  <tbody>\n",
       "    <tr>\n",
       "      <th>0</th>\n",
       "      <td>0af9c654798fdcb18d21354966acdfb9</td>\n",
       "      <td>2014</td>\n",
       "      <td>1k</td>\n",
       "      <td>scale</td>\n",
       "      <td>logreg</td>\n",
       "      <td>nationality-sex</td>\n",
       "      <td>drop-non-german</td>\n",
       "      <td>0.836203</td>\n",
       "      <td>0.907736</td>\n",
       "      <td>1.264285</td>\n",
       "    </tr>\n",
       "  </tbody>\n",
       "</table>\n",
       "</div>"
      ],
      "text/plain": [
       "                        universe_id universe_training_year  \\\n",
       "0  0af9c654798fdcb18d21354966acdfb9                   2014   \n",
       "\n",
       "  universe_training_size universe_scale universe_model  \\\n",
       "0                     1k          scale         logreg   \n",
       "\n",
       "  universe_exclude_features universe_exclude_subgroups     q_hat  coverage  \\\n",
       "0           nationality-sex            drop-non-german  0.836203  0.907736   \n",
       "\n",
       "   avg_size  \n",
       "0  1.264285  "
      ]
     },
     "execution_count": 50,
     "metadata": {},
     "output_type": "execute_result"
    }
   ],
   "source": [
    "cp_metrics_df"
   ]
  },
  {
   "cell_type": "code",
   "execution_count": 51,
   "id": "b7fbde55-a0a1-47e4-9af6-fe4a17fa8c61",
   "metadata": {
    "execution": {
     "iopub.execute_input": "2025-08-05T16:02:51.221490Z",
     "iopub.status.busy": "2025-08-05T16:02:51.221003Z",
     "iopub.status.idle": "2025-08-05T16:02:51.225260Z",
     "shell.execute_reply": "2025-08-05T16:02:51.224456Z"
    },
    "papermill": {
     "duration": 0.017564,
     "end_time": "2025-08-05T16:02:51.227187",
     "exception": false,
     "start_time": "2025-08-05T16:02:51.209623",
     "status": "completed"
    },
    "tags": []
   },
   "outputs": [],
   "source": [
    "# Conditional Coverage & looking at subgroups"
   ]
  },
  {
   "cell_type": "code",
   "execution_count": 52,
   "id": "027ae886-68dd-4141-96c7-805a5450e1ef",
   "metadata": {
    "execution": {
     "iopub.execute_input": "2025-08-05T16:02:51.253340Z",
     "iopub.status.busy": "2025-08-05T16:02:51.252625Z",
     "iopub.status.idle": "2025-08-05T16:02:51.443565Z",
     "shell.execute_reply": "2025-08-05T16:02:51.442557Z"
    },
    "papermill": {
     "duration": 0.20525,
     "end_time": "2025-08-05T16:02:51.445191",
     "exception": false,
     "start_time": "2025-08-05T16:02:51.239941",
     "status": "completed"
    },
    "tags": []
   },
   "outputs": [],
   "source": [
    "from fairness_multiverse.conformal import build_cp_groups\n",
    "\n",
    "cp_groups_df = build_cp_groups(pred_sets, y_true, X_test.index, org_test)\n",
    "#needs universe_id and setting"
   ]
  },
  {
   "cell_type": "code",
   "execution_count": 53,
   "id": "6cbdab96-b2b2-45af-ad54-d0516db2e28d",
   "metadata": {
    "execution": {
     "iopub.execute_input": "2025-08-05T16:02:51.490105Z",
     "iopub.status.busy": "2025-08-05T16:02:51.489456Z",
     "iopub.status.idle": "2025-08-05T16:02:53.180234Z",
     "shell.execute_reply": "2025-08-05T16:02:53.179397Z"
    },
    "papermill": {
     "duration": 1.716954,
     "end_time": "2025-08-05T16:02:53.181950",
     "exception": false,
     "start_time": "2025-08-05T16:02:51.464996",
     "status": "completed"
    },
    "tags": []
   },
   "outputs": [],
   "source": [
    "# Define covered = 1 if true_label is in the predicted set\n",
    "cp_groups_df['covered'] = cp_groups_df.apply(\n",
    "    lambda r: int(r['true_label'] in r['pred_set']),\n",
    "    axis=1\n",
    ")"
   ]
  },
  {
   "cell_type": "code",
   "execution_count": 54,
   "id": "338ff529-1a6b-4b87-a931-8e4788d52aad",
   "metadata": {
    "execution": {
     "iopub.execute_input": "2025-08-05T16:02:53.212807Z",
     "iopub.status.busy": "2025-08-05T16:02:53.212276Z",
     "iopub.status.idle": "2025-08-05T16:02:53.216576Z",
     "shell.execute_reply": "2025-08-05T16:02:53.215776Z"
    },
    "papermill": {
     "duration": 0.018243,
     "end_time": "2025-08-05T16:02:53.218051",
     "exception": false,
     "start_time": "2025-08-05T16:02:53.199808",
     "status": "completed"
    },
    "tags": []
   },
   "outputs": [],
   "source": [
    "#cp_groups_df"
   ]
  },
  {
   "cell_type": "code",
   "execution_count": 55,
   "id": "90032e27-66df-4540-9169-4e89cfbaa758",
   "metadata": {
    "execution": {
     "iopub.execute_input": "2025-08-05T16:02:53.243158Z",
     "iopub.status.busy": "2025-08-05T16:02:53.242650Z",
     "iopub.status.idle": "2025-08-05T16:02:53.251523Z",
     "shell.execute_reply": "2025-08-05T16:02:53.250815Z"
    },
    "papermill": {
     "duration": 0.022312,
     "end_time": "2025-08-05T16:02:53.252852",
     "exception": false,
     "start_time": "2025-08-05T16:02:53.230540",
     "status": "completed"
    },
    "tags": []
   },
   "outputs": [],
   "source": [
    "subgroups = ['frau1','nongerman','nongerman_male','nongerman_female']\n",
    "\n",
    "# Conditional coverage for subgroup==1\n",
    "cond_coverage = {\n",
    "    g: cp_groups_df.loc[cp_groups_df[g]==1, 'covered'].mean()\n",
    "    for g in subgroups\n",
    "}"
   ]
  },
  {
   "cell_type": "code",
   "execution_count": 56,
   "id": "1e348fb1-b9c3-45bc-ba23-f016827a7e0d",
   "metadata": {
    "execution": {
     "iopub.execute_input": "2025-08-05T16:02:53.281989Z",
     "iopub.status.busy": "2025-08-05T16:02:53.281144Z",
     "iopub.status.idle": "2025-08-05T16:02:53.287809Z",
     "shell.execute_reply": "2025-08-05T16:02:53.286879Z"
    },
    "papermill": {
     "duration": 0.023574,
     "end_time": "2025-08-05T16:02:53.289499",
     "exception": false,
     "start_time": "2025-08-05T16:02:53.265925",
     "status": "completed"
    },
    "tags": []
   },
   "outputs": [
    {
     "data": {
      "text/plain": [
       "{'frau1': 0.9052702520555331,\n",
       " 'nongerman': 0.9122550945938359,\n",
       " 'nongerman_male': 0.9269566783752139,\n",
       " 'nongerman_female': 0.8879284649776453}"
      ]
     },
     "execution_count": 56,
     "metadata": {},
     "output_type": "execute_result"
    }
   ],
   "source": [
    "cond_coverage"
   ]
  },
  {
   "cell_type": "code",
   "execution_count": 57,
   "id": "f5093324-c3dd-4d63-bc4c-8d945e5c8bbb",
   "metadata": {
    "execution": {
     "iopub.execute_input": "2025-08-05T16:02:53.335646Z",
     "iopub.status.busy": "2025-08-05T16:02:53.335068Z",
     "iopub.status.idle": "2025-08-05T16:02:53.342576Z",
     "shell.execute_reply": "2025-08-05T16:02:53.341577Z"
    },
    "papermill": {
     "duration": 0.032279,
     "end_time": "2025-08-05T16:02:53.344564",
     "exception": false,
     "start_time": "2025-08-05T16:02:53.312285",
     "status": "completed"
    },
    "tags": []
   },
   "outputs": [],
   "source": [
    "for subgroup, cov in cond_coverage.items():\n",
    "    cp_metrics_df[f\"cov_{subgroup}\"] = cov"
   ]
  },
  {
   "cell_type": "code",
   "execution_count": 58,
   "id": "6e872e10-dbe5-49e8-b554-5030c98ff75d",
   "metadata": {
    "execution": {
     "iopub.execute_input": "2025-08-05T16:02:53.391534Z",
     "iopub.status.busy": "2025-08-05T16:02:53.390626Z",
     "iopub.status.idle": "2025-08-05T16:02:53.409564Z",
     "shell.execute_reply": "2025-08-05T16:02:53.408466Z"
    },
    "papermill": {
     "duration": 0.042345,
     "end_time": "2025-08-05T16:02:53.411061",
     "exception": false,
     "start_time": "2025-08-05T16:02:53.368716",
     "status": "completed"
    },
    "tags": []
   },
   "outputs": [
    {
     "data": {
      "text/html": [
       "<div>\n",
       "<style scoped>\n",
       "    .dataframe tbody tr th:only-of-type {\n",
       "        vertical-align: middle;\n",
       "    }\n",
       "\n",
       "    .dataframe tbody tr th {\n",
       "        vertical-align: top;\n",
       "    }\n",
       "\n",
       "    .dataframe thead th {\n",
       "        text-align: right;\n",
       "    }\n",
       "</style>\n",
       "<table border=\"1\" class=\"dataframe\">\n",
       "  <thead>\n",
       "    <tr style=\"text-align: right;\">\n",
       "      <th></th>\n",
       "      <th>universe_id</th>\n",
       "      <th>universe_training_year</th>\n",
       "      <th>universe_training_size</th>\n",
       "      <th>universe_scale</th>\n",
       "      <th>universe_model</th>\n",
       "      <th>universe_exclude_features</th>\n",
       "      <th>universe_exclude_subgroups</th>\n",
       "      <th>q_hat</th>\n",
       "      <th>coverage</th>\n",
       "      <th>avg_size</th>\n",
       "      <th>cov_frau1</th>\n",
       "      <th>cov_nongerman</th>\n",
       "      <th>cov_nongerman_male</th>\n",
       "      <th>cov_nongerman_female</th>\n",
       "    </tr>\n",
       "  </thead>\n",
       "  <tbody>\n",
       "    <tr>\n",
       "      <th>0</th>\n",
       "      <td>0af9c654798fdcb18d21354966acdfb9</td>\n",
       "      <td>2014</td>\n",
       "      <td>1k</td>\n",
       "      <td>scale</td>\n",
       "      <td>logreg</td>\n",
       "      <td>nationality-sex</td>\n",
       "      <td>drop-non-german</td>\n",
       "      <td>0.836203</td>\n",
       "      <td>0.907736</td>\n",
       "      <td>1.264285</td>\n",
       "      <td>0.90527</td>\n",
       "      <td>0.912255</td>\n",
       "      <td>0.926957</td>\n",
       "      <td>0.887928</td>\n",
       "    </tr>\n",
       "  </tbody>\n",
       "</table>\n",
       "</div>"
      ],
      "text/plain": [
       "                        universe_id universe_training_year  \\\n",
       "0  0af9c654798fdcb18d21354966acdfb9                   2014   \n",
       "\n",
       "  universe_training_size universe_scale universe_model  \\\n",
       "0                     1k          scale         logreg   \n",
       "\n",
       "  universe_exclude_features universe_exclude_subgroups     q_hat  coverage  \\\n",
       "0           nationality-sex            drop-non-german  0.836203  0.907736   \n",
       "\n",
       "   avg_size  cov_frau1  cov_nongerman  cov_nongerman_male  \\\n",
       "0  1.264285    0.90527       0.912255            0.926957   \n",
       "\n",
       "   cov_nongerman_female  \n",
       "0              0.887928  "
      ]
     },
     "execution_count": 58,
     "metadata": {},
     "output_type": "execute_result"
    }
   ],
   "source": [
    "cp_metrics_df"
   ]
  },
  {
   "cell_type": "markdown",
   "id": "33774451",
   "metadata": {
    "papermill": {
     "duration": 0.011895,
     "end_time": "2025-08-05T16:02:53.437013",
     "exception": false,
     "start_time": "2025-08-05T16:02:53.425118",
     "status": "completed"
    },
    "tags": []
   },
   "source": [
    "# (Fairness) Metrics"
   ]
  },
  {
   "cell_type": "code",
   "execution_count": 59,
   "id": "debc5d62",
   "metadata": {
    "execution": {
     "iopub.execute_input": "2025-08-05T16:02:53.473955Z",
     "iopub.status.busy": "2025-08-05T16:02:53.473569Z",
     "iopub.status.idle": "2025-08-05T16:02:53.488291Z",
     "shell.execute_reply": "2025-08-05T16:02:53.487559Z"
    },
    "papermill": {
     "duration": 0.040716,
     "end_time": "2025-08-05T16:02:53.490032",
     "exception": false,
     "start_time": "2025-08-05T16:02:53.449316",
     "status": "completed"
    },
    "tags": []
   },
   "outputs": [],
   "source": [
    "# do I need to include maxdeutsch1.missing?\n",
    "\n",
    "import numpy as np\n",
    "\n",
    "colname_to_bin = \"maxdeutsch1\"\n",
    "majority_value = org_train[colname_to_bin].mode()[0]\n",
    "\n",
    "org_test[\"majmin\"] = np.where(org_test[colname_to_bin] == majority_value, \"majority\", \"minority\")"
   ]
  },
  {
   "cell_type": "code",
   "execution_count": 60,
   "id": "06a50de5",
   "metadata": {
    "execution": {
     "iopub.execute_input": "2025-08-05T16:02:53.537973Z",
     "iopub.status.busy": "2025-08-05T16:02:53.537140Z",
     "iopub.status.idle": "2025-08-05T16:02:55.273954Z",
     "shell.execute_reply": "2025-08-05T16:02:55.273131Z"
    },
    "papermill": {
     "duration": 1.761348,
     "end_time": "2025-08-05T16:02:55.275494",
     "exception": false,
     "start_time": "2025-08-05T16:02:53.514146",
     "status": "completed"
    },
    "tags": []
   },
   "outputs": [],
   "source": [
    "example_universe = universe.copy()\n",
    "example_universe[\"cutoff\"] = example_universe[\"cutoff\"][0]\n",
    "example_universe[\"eval_fairness_grouping\"] = example_universe[\"eval_fairness_grouping\"][0]\n",
    "fairness_dict, metric_frame = universe_analysis.compute_metrics(\n",
    "    example_universe,\n",
    "    y_pred_prob=probs_test,\n",
    "    y_test=y_true,\n",
    "    org_test=org_test,\n",
    ")"
   ]
  },
  {
   "cell_type": "markdown",
   "id": "f95d4e02",
   "metadata": {
    "papermill": {
     "duration": 0.012147,
     "end_time": "2025-08-05T16:02:55.300398",
     "exception": false,
     "start_time": "2025-08-05T16:02:55.288251",
     "status": "completed"
    },
    "tags": []
   },
   "source": [
    "# Overall"
   ]
  },
  {
   "cell_type": "markdown",
   "id": "bdee4871",
   "metadata": {
    "papermill": {
     "duration": 0.011634,
     "end_time": "2025-08-05T16:02:55.325379",
     "exception": false,
     "start_time": "2025-08-05T16:02:55.313745",
     "status": "completed"
    },
    "tags": []
   },
   "source": [
    "Fairness\n",
    "Main fairness target: Equalized Odds. Seems to be a better fit than equal opportunity, since we're not only interested in Y = 1. Seems to be a better fit than demographic parity, since we also care about accuracy, not just equal distribution of preds.\n",
    "\n",
    "Pick column for computation of fairness metrics\n",
    "\n",
    "Performance\n",
    "Overall performance measures, most interesting in relation to the measures split by group below"
   ]
  },
  {
   "cell_type": "code",
   "execution_count": 61,
   "id": "c4e067c6",
   "metadata": {
    "execution": {
     "iopub.execute_input": "2025-08-05T16:02:55.351590Z",
     "iopub.status.busy": "2025-08-05T16:02:55.350876Z",
     "iopub.status.idle": "2025-08-05T16:02:55.358270Z",
     "shell.execute_reply": "2025-08-05T16:02:55.357448Z"
    },
    "papermill": {
     "duration": 0.021854,
     "end_time": "2025-08-05T16:02:55.359576",
     "exception": false,
     "start_time": "2025-08-05T16:02:55.337722",
     "status": "completed"
    },
    "tags": []
   },
   "outputs": [
    {
     "data": {
      "text/plain": [
       "accuracy                   0.216709\n",
       "balanced accuracy          0.531490\n",
       "f1                         0.238252\n",
       "precision                  0.136105\n",
       "false positive rate        0.891921\n",
       "false negative rate        0.045099\n",
       "selection rate             0.900000\n",
       "count                  89710.000000\n",
       "dtype: float64"
      ]
     },
     "execution_count": 61,
     "metadata": {},
     "output_type": "execute_result"
    }
   ],
   "source": [
    "metric_frame.overall"
   ]
  },
  {
   "cell_type": "markdown",
   "id": "e968fe9d",
   "metadata": {
    "papermill": {
     "duration": 0.013162,
     "end_time": "2025-08-05T16:02:55.386178",
     "exception": false,
     "start_time": "2025-08-05T16:02:55.373016",
     "status": "completed"
    },
    "tags": []
   },
   "source": [
    "By Group"
   ]
  },
  {
   "cell_type": "code",
   "execution_count": 62,
   "id": "ec325bce",
   "metadata": {
    "execution": {
     "iopub.execute_input": "2025-08-05T16:02:55.416692Z",
     "iopub.status.busy": "2025-08-05T16:02:55.415989Z",
     "iopub.status.idle": "2025-08-05T16:02:55.433479Z",
     "shell.execute_reply": "2025-08-05T16:02:55.432363Z"
    },
    "papermill": {
     "duration": 0.036767,
     "end_time": "2025-08-05T16:02:55.434953",
     "exception": false,
     "start_time": "2025-08-05T16:02:55.398186",
     "status": "completed"
    },
    "tags": []
   },
   "outputs": [
    {
     "data": {
      "text/html": [
       "<div>\n",
       "<style scoped>\n",
       "    .dataframe tbody tr th:only-of-type {\n",
       "        vertical-align: middle;\n",
       "    }\n",
       "\n",
       "    .dataframe tbody tr th {\n",
       "        vertical-align: top;\n",
       "    }\n",
       "\n",
       "    .dataframe thead th {\n",
       "        text-align: right;\n",
       "    }\n",
       "</style>\n",
       "<table border=\"1\" class=\"dataframe\">\n",
       "  <thead>\n",
       "    <tr style=\"text-align: right;\">\n",
       "      <th></th>\n",
       "      <th>accuracy</th>\n",
       "      <th>balanced accuracy</th>\n",
       "      <th>f1</th>\n",
       "      <th>precision</th>\n",
       "      <th>false positive rate</th>\n",
       "      <th>false negative rate</th>\n",
       "      <th>selection rate</th>\n",
       "      <th>count</th>\n",
       "    </tr>\n",
       "    <tr>\n",
       "      <th>majmin</th>\n",
       "      <th></th>\n",
       "      <th></th>\n",
       "      <th></th>\n",
       "      <th></th>\n",
       "      <th></th>\n",
       "      <th></th>\n",
       "      <th></th>\n",
       "      <th></th>\n",
       "    </tr>\n",
       "  </thead>\n",
       "  <tbody>\n",
       "    <tr>\n",
       "      <th>majority</th>\n",
       "      <td>0.228596</td>\n",
       "      <td>0.534889</td>\n",
       "      <td>0.245781</td>\n",
       "      <td>0.141123</td>\n",
       "      <td>0.881426</td>\n",
       "      <td>0.048796</td>\n",
       "      <td>0.890646</td>\n",
       "      <td>69170.0</td>\n",
       "    </tr>\n",
       "    <tr>\n",
       "      <th>minority</th>\n",
       "      <td>0.176680</td>\n",
       "      <td>0.521291</td>\n",
       "      <td>0.213478</td>\n",
       "      <td>0.119950</td>\n",
       "      <td>0.926590</td>\n",
       "      <td>0.030828</td>\n",
       "      <td>0.931500</td>\n",
       "      <td>20540.0</td>\n",
       "    </tr>\n",
       "  </tbody>\n",
       "</table>\n",
       "</div>"
      ],
      "text/plain": [
       "          accuracy  balanced accuracy        f1  precision  \\\n",
       "majmin                                                       \n",
       "majority  0.228596           0.534889  0.245781   0.141123   \n",
       "minority  0.176680           0.521291  0.213478   0.119950   \n",
       "\n",
       "          false positive rate  false negative rate  selection rate    count  \n",
       "majmin                                                                       \n",
       "majority             0.881426             0.048796        0.890646  69170.0  \n",
       "minority             0.926590             0.030828        0.931500  20540.0  "
      ]
     },
     "execution_count": 62,
     "metadata": {},
     "output_type": "execute_result"
    }
   ],
   "source": [
    "metric_frame.by_group"
   ]
  },
  {
   "cell_type": "code",
   "execution_count": 63,
   "id": "a9ddbe63",
   "metadata": {
    "execution": {
     "iopub.execute_input": "2025-08-05T16:02:55.481382Z",
     "iopub.status.busy": "2025-08-05T16:02:55.480470Z",
     "iopub.status.idle": "2025-08-05T16:02:57.336612Z",
     "shell.execute_reply": "2025-08-05T16:02:57.335870Z"
    },
    "papermill": {
     "duration": 1.880177,
     "end_time": "2025-08-05T16:02:57.338333",
     "exception": false,
     "start_time": "2025-08-05T16:02:55.458156",
     "status": "completed"
    },
    "tags": []
   },
   "outputs": [
    {
     "data": {
      "text/plain": [
       "array([[<Axes: title={'center': 'accuracy'}, xlabel='majmin'>,\n",
       "        <Axes: title={'center': 'balanced accuracy'}, xlabel='majmin'>,\n",
       "        <Axes: title={'center': 'f1'}, xlabel='majmin'>],\n",
       "       [<Axes: title={'center': 'precision'}, xlabel='majmin'>,\n",
       "        <Axes: title={'center': 'false positive rate'}, xlabel='majmin'>,\n",
       "        <Axes: title={'center': 'false negative rate'}, xlabel='majmin'>],\n",
       "       [<Axes: title={'center': 'selection rate'}, xlabel='majmin'>,\n",
       "        <Axes: title={'center': 'count'}, xlabel='majmin'>,\n",
       "        <Axes: xlabel='majmin'>]], dtype=object)"
      ]
     },
     "execution_count": 63,
     "metadata": {},
     "output_type": "execute_result"
    },
    {
     "data": {
      "image/png": "[encoded data removed]",
      "text/plain": [
       "<Figure size 1200x800 with 9 Axes>"
      ]
     },
     "metadata": {},
     "output_type": "display_data"
    }
   ],
   "source": [
    "# In a graphic\n",
    "metric_frame.by_group.plot.bar(\n",
    "    subplots=True,\n",
    "    layout=[3, 3],\n",
    "    legend=False,\n",
    "    figsize=[12, 8],\n",
    "    title=\"Show all metrics\",\n",
    ")"
   ]
  },
  {
   "cell_type": "markdown",
   "id": "f57a0bac",
   "metadata": {
    "papermill": {
     "duration": 0.026169,
     "end_time": "2025-08-05T16:02:57.391972",
     "exception": false,
     "start_time": "2025-08-05T16:02:57.365803",
     "status": "completed"
    },
    "tags": []
   },
   "source": [
    "# Final Output"
   ]
  },
  {
   "cell_type": "code",
   "execution_count": 64,
   "id": "96d280a3",
   "metadata": {
    "execution": {
     "iopub.execute_input": "2025-08-05T16:02:57.445686Z",
     "iopub.status.busy": "2025-08-05T16:02:57.445053Z",
     "iopub.status.idle": "2025-08-05T16:02:57.453717Z",
     "shell.execute_reply": "2025-08-05T16:02:57.452460Z"
    },
    "papermill": {
     "duration": 0.038181,
     "end_time": "2025-08-05T16:02:57.455465",
     "exception": false,
     "start_time": "2025-08-05T16:02:57.417284",
     "status": "completed"
    },
    "tags": []
   },
   "outputs": [
    {
     "data": {
      "text/plain": [
       "4"
      ]
     },
     "execution_count": 64,
     "metadata": {},
     "output_type": "execute_result"
    }
   ],
   "source": [
    "sub_universes = universe_analysis.generate_sub_universes()\n",
    "len(sub_universes)"
   ]
  },
  {
   "cell_type": "code",
   "execution_count": 65,
   "id": "92adf7ba",
   "metadata": {
    "execution": {
     "iopub.execute_input": "2025-08-05T16:02:57.511578Z",
     "iopub.status.busy": "2025-08-05T16:02:57.510646Z",
     "iopub.status.idle": "2025-08-05T16:02:57.517308Z",
     "shell.execute_reply": "2025-08-05T16:02:57.516211Z"
    },
    "papermill": {
     "duration": 0.037651,
     "end_time": "2025-08-05T16:02:57.519467",
     "exception": false,
     "start_time": "2025-08-05T16:02:57.481816",
     "status": "completed"
    },
    "tags": []
   },
   "outputs": [],
   "source": [
    "def filter_sub_universe_data(sub_universe, org_test):\n",
    "    # Keep all rows — no filtering\n",
    "    keep_rows_mask = np.ones(org_test.shape[0], dtype=bool)\n",
    "\n",
    "    print(f\"[INFO] Keeping all rows: {keep_rows_mask.sum()} rows retained.\")\n",
    "    return keep_rows_mask"
   ]
  },
  {
   "cell_type": "code",
   "execution_count": 66,
   "id": "4a759155",
   "metadata": {
    "execution": {
     "iopub.execute_input": "2025-08-05T16:02:57.569252Z",
     "iopub.status.busy": "2025-08-05T16:02:57.568739Z",
     "iopub.status.idle": "2025-08-05T16:03:07.759669Z",
     "shell.execute_reply": "2025-08-05T16:03:07.758613Z"
    },
    "papermill": {
     "duration": 10.214913,
     "end_time": "2025-08-05T16:03:07.761606",
     "exception": false,
     "start_time": "2025-08-05T16:02:57.546693",
     "status": "completed"
    },
    "tags": []
   },
   "outputs": [
    {
     "name": "stdout",
     "output_type": "stream",
     "text": [
      "Stopping execution_time clock.\n",
      "[INFO] Keeping all rows: 89710 rows retained.\n"
     ]
    },
    {
     "name": "stdout",
     "output_type": "stream",
     "text": [
      "[INFO] Keeping all rows: 89710 rows retained.\n"
     ]
    },
    {
     "name": "stdout",
     "output_type": "stream",
     "text": [
      "[INFO] Keeping all rows: 89710 rows retained.\n"
     ]
    },
    {
     "name": "stdout",
     "output_type": "stream",
     "text": [
      "[INFO] Keeping all rows: 89710 rows retained.\n"
     ]
    },
    {
     "data": {
      "text/html": [
       "<div>\n",
       "<style scoped>\n",
       "    .dataframe tbody tr th:only-of-type {\n",
       "        vertical-align: middle;\n",
       "    }\n",
       "\n",
       "    .dataframe tbody tr th {\n",
       "        vertical-align: top;\n",
       "    }\n",
       "\n",
       "    .dataframe thead th {\n",
       "        text-align: right;\n",
       "    }\n",
       "</style>\n",
       "<table border=\"1\" class=\"dataframe\">\n",
       "  <thead>\n",
       "    <tr style=\"text-align: right;\">\n",
       "      <th></th>\n",
       "      <th>run_no</th>\n",
       "      <th>universe_id</th>\n",
       "      <th>universe_settings</th>\n",
       "      <th>execution_time</th>\n",
       "      <th>test_size_n</th>\n",
       "      <th>test_size_frac</th>\n",
       "      <th>fair_main_equalized_odds_difference</th>\n",
       "      <th>fair_main_equalized_odds_ratio</th>\n",
       "      <th>fair_main_demographic_parity_difference</th>\n",
       "      <th>fair_main_demographic_parity_ratio</th>\n",
       "      <th>...</th>\n",
       "      <th>perf_grp_precision_0</th>\n",
       "      <th>perf_grp_precision_1</th>\n",
       "      <th>perf_grp_false positive rate_0</th>\n",
       "      <th>perf_grp_false positive rate_1</th>\n",
       "      <th>perf_grp_false negative rate_0</th>\n",
       "      <th>perf_grp_false negative rate_1</th>\n",
       "      <th>perf_grp_selection rate_0</th>\n",
       "      <th>perf_grp_selection rate_1</th>\n",
       "      <th>perf_grp_count_0</th>\n",
       "      <th>perf_grp_count_1</th>\n",
       "    </tr>\n",
       "  </thead>\n",
       "  <tbody>\n",
       "    <tr>\n",
       "      <th>0</th>\n",
       "      <td>15</td>\n",
       "      <td>0af9c654798fdcb18d21354966acdfb9</td>\n",
       "      <td>{\"cutoff\": \"quantile_0.1\", \"eval_fairness_grou...</td>\n",
       "      <td>21.93783</td>\n",
       "      <td>89710</td>\n",
       "      <td>1.0</td>\n",
       "      <td>0.045164</td>\n",
       "      <td>0.951257</td>\n",
       "      <td>0.040853</td>\n",
       "      <td>0.956142</td>\n",
       "      <td>...</td>\n",
       "      <td>NaN</td>\n",
       "      <td>NaN</td>\n",
       "      <td>NaN</td>\n",
       "      <td>NaN</td>\n",
       "      <td>NaN</td>\n",
       "      <td>NaN</td>\n",
       "      <td>NaN</td>\n",
       "      <td>NaN</td>\n",
       "      <td>NaN</td>\n",
       "      <td>NaN</td>\n",
       "    </tr>\n",
       "    <tr>\n",
       "      <th>0</th>\n",
       "      <td>15</td>\n",
       "      <td>0af9c654798fdcb18d21354966acdfb9</td>\n",
       "      <td>{\"cutoff\": \"quantile_0.1\", \"eval_fairness_grou...</td>\n",
       "      <td>21.93783</td>\n",
       "      <td>89710</td>\n",
       "      <td>1.0</td>\n",
       "      <td>0.045164</td>\n",
       "      <td>0.951257</td>\n",
       "      <td>0.040853</td>\n",
       "      <td>0.956142</td>\n",
       "      <td>...</td>\n",
       "      <td>0.11995</td>\n",
       "      <td>0.141123</td>\n",
       "      <td>0.926590</td>\n",
       "      <td>0.881426</td>\n",
       "      <td>0.030828</td>\n",
       "      <td>0.048796</td>\n",
       "      <td>0.931500</td>\n",
       "      <td>0.890646</td>\n",
       "      <td>20540.0</td>\n",
       "      <td>69170.0</td>\n",
       "    </tr>\n",
       "    <tr>\n",
       "      <th>0</th>\n",
       "      <td>15</td>\n",
       "      <td>0af9c654798fdcb18d21354966acdfb9</td>\n",
       "      <td>{\"cutoff\": \"quantile_0.25\", \"eval_fairness_gro...</td>\n",
       "      <td>21.93783</td>\n",
       "      <td>89710</td>\n",
       "      <td>1.0</td>\n",
       "      <td>0.033099</td>\n",
       "      <td>0.956254</td>\n",
       "      <td>0.025717</td>\n",
       "      <td>0.966598</td>\n",
       "      <td>...</td>\n",
       "      <td>NaN</td>\n",
       "      <td>NaN</td>\n",
       "      <td>NaN</td>\n",
       "      <td>NaN</td>\n",
       "      <td>NaN</td>\n",
       "      <td>NaN</td>\n",
       "      <td>NaN</td>\n",
       "      <td>NaN</td>\n",
       "      <td>NaN</td>\n",
       "      <td>NaN</td>\n",
       "    </tr>\n",
       "    <tr>\n",
       "      <th>0</th>\n",
       "      <td>15</td>\n",
       "      <td>0af9c654798fdcb18d21354966acdfb9</td>\n",
       "      <td>{\"cutoff\": \"quantile_0.25\", \"eval_fairness_gro...</td>\n",
       "      <td>21.93783</td>\n",
       "      <td>89710</td>\n",
       "      <td>1.0</td>\n",
       "      <td>0.033099</td>\n",
       "      <td>0.956254</td>\n",
       "      <td>0.025717</td>\n",
       "      <td>0.966598</td>\n",
       "      <td>...</td>\n",
       "      <td>0.13058</td>\n",
       "      <td>0.156267</td>\n",
       "      <td>0.756604</td>\n",
       "      <td>0.723505</td>\n",
       "      <td>0.127956</td>\n",
       "      <td>0.119912</td>\n",
       "      <td>0.769912</td>\n",
       "      <td>0.744195</td>\n",
       "      <td>20540.0</td>\n",
       "      <td>69170.0</td>\n",
       "    </tr>\n",
       "  </tbody>\n",
       "</table>\n",
       "<p>4 rows × 50 columns</p>\n",
       "</div>"
      ],
      "text/plain": [
       "  run_no                       universe_id  \\\n",
       "0     15  0af9c654798fdcb18d21354966acdfb9   \n",
       "0     15  0af9c654798fdcb18d21354966acdfb9   \n",
       "0     15  0af9c654798fdcb18d21354966acdfb9   \n",
       "0     15  0af9c654798fdcb18d21354966acdfb9   \n",
       "\n",
       "                                   universe_settings  execution_time  \\\n",
       "0  {\"cutoff\": \"quantile_0.1\", \"eval_fairness_grou...        21.93783   \n",
       "0  {\"cutoff\": \"quantile_0.1\", \"eval_fairness_grou...        21.93783   \n",
       "0  {\"cutoff\": \"quantile_0.25\", \"eval_fairness_gro...        21.93783   \n",
       "0  {\"cutoff\": \"quantile_0.25\", \"eval_fairness_gro...        21.93783   \n",
       "\n",
       "   test_size_n  test_size_frac  fair_main_equalized_odds_difference  \\\n",
       "0        89710             1.0                             0.045164   \n",
       "0        89710             1.0                             0.045164   \n",
       "0        89710             1.0                             0.033099   \n",
       "0        89710             1.0                             0.033099   \n",
       "\n",
       "   fair_main_equalized_odds_ratio  fair_main_demographic_parity_difference  \\\n",
       "0                        0.951257                                 0.040853   \n",
       "0                        0.951257                                 0.040853   \n",
       "0                        0.956254                                 0.025717   \n",
       "0                        0.956254                                 0.025717   \n",
       "\n",
       "   fair_main_demographic_parity_ratio  ...  perf_grp_precision_0  \\\n",
       "0                            0.956142  ...                   NaN   \n",
       "0                            0.956142  ...               0.11995   \n",
       "0                            0.966598  ...                   NaN   \n",
       "0                            0.966598  ...               0.13058   \n",
       "\n",
       "   perf_grp_precision_1  perf_grp_false positive rate_0  \\\n",
       "0                   NaN                             NaN   \n",
       "0              0.141123                        0.926590   \n",
       "0                   NaN                             NaN   \n",
       "0              0.156267                        0.756604   \n",
       "\n",
       "   perf_grp_false positive rate_1  perf_grp_false negative rate_0  \\\n",
       "0                             NaN                             NaN   \n",
       "0                        0.881426                        0.030828   \n",
       "0                             NaN                             NaN   \n",
       "0                        0.723505                        0.127956   \n",
       "\n",
       "   perf_grp_false negative rate_1  perf_grp_selection rate_0  \\\n",
       "0                             NaN                        NaN   \n",
       "0                        0.048796                   0.931500   \n",
       "0                             NaN                        NaN   \n",
       "0                        0.119912                   0.769912   \n",
       "\n",
       "   perf_grp_selection rate_1  perf_grp_count_0  perf_grp_count_1  \n",
       "0                        NaN               NaN               NaN  \n",
       "0                   0.890646           20540.0           69170.0  \n",
       "0                        NaN               NaN               NaN  \n",
       "0                   0.744195           20540.0           69170.0  \n",
       "\n",
       "[4 rows x 50 columns]"
      ]
     },
     "execution_count": 66,
     "metadata": {},
     "output_type": "execute_result"
    }
   ],
   "source": [
    "final_output = universe_analysis.generate_final_output(\n",
    "    y_pred_prob=probs_test,\n",
    "    y_test=y_true,\n",
    "    org_test=org_test,\n",
    "    filter_data=filter_sub_universe_data,\n",
    "    cp_metrics_df=cp_metrics_df,\n",
    "    save=True,\n",
    ")\n",
    "final_output"
   ]
  }
 ],
 "metadata": {
  "celltoolbar": "Tags",
  "kernelspec": {
   "display_name": "Python (CMA Fairness)",
   "language": "python",
   "name": "cma_fair_env"
  },
  "language_info": {
   "codemirror_mode": {
    "name": "ipython",
    "version": 3
   },
   "file_extension": ".py",
   "mimetype": "text/x-python",
   "name": "python",
   "nbconvert_exporter": "python",
   "pygments_lexer": "ipython3",
   "version": "3.10.12"
  },
  "papermill": {
   "default_parameters": {},
   "duration": 36.233608,
   "end_time": "2025-08-05T16:03:08.514486",
   "environment_variables": {},
   "exception": null,
   "input_path": "universe_analysis.ipynb",
   "output_path": "output/runs/15/notebooks/m_15-0af9c654798fdcb18d21354966acdfb9.ipynb",
   "parameters": {
    "output_dir": "output",
    "run_no": "15",
    "seed": "2023",
    "universe": "{\"cutoff\": [\"quantile_0.1\", \"quantile_0.25\"], \"eval_fairness_grouping\": [\"majority-minority\", \"nationality-all\"], \"exclude_features\": \"nationality-sex\", \"exclude_subgroups\": \"drop-non-german\", \"model\": \"logreg\", \"scale\": \"scale\", \"training_size\": \"1k\", \"training_year\": \"2014\"}",
    "universe_id": "0af9c654798fdcb18d21354966acdfb9"
   },
   "start_time": "2025-08-05T16:02:32.280878",
   "version": "2.6.0"
  }
 },
 "nbformat": 4,
 "nbformat_minor": 5
}