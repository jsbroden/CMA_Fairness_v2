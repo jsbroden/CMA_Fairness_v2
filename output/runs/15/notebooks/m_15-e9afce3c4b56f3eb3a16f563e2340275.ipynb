{
 "cells": [
  {
   "cell_type": "code",
   "execution_count": 1,
   "id": "f159f837-637b-42ba-96b5-ec9a68c44524",
   "metadata": {
    "execution": {
     "iopub.execute_input": "2025-08-05T15:37:51.923070Z",
     "iopub.status.busy": "2025-08-05T15:37:51.922250Z",
     "iopub.status.idle": "2025-08-05T15:37:51.936388Z",
     "shell.execute_reply": "2025-08-05T15:37:51.935177Z"
    },
    "papermill": {
     "duration": 0.032591,
     "end_time": "2025-08-05T15:37:51.938216",
     "exception": false,
     "start_time": "2025-08-05T15:37:51.905625",
     "status": "completed"
    },
    "tags": []
   },
   "outputs": [
    {
     "name": "stdout",
     "output_type": "stream",
     "text": [
      "/dss/dsshome1/0C/ra93lal2/cma/CMA_Fairness_v2\n"
     ]
    },
    {
     "name": "stderr",
     "output_type": "stream",
     "text": [
      "/dss/dsshome1/0C/ra93lal2/.local/share/virtualenvs/CMA_Fairness_v2-3j10GkSs/lib/python3.10/site-packages/IPython/core/magics/osm.py:393: UserWarning: This is now an optional IPython functionality, using bookmarks requires you to install the `pickleshare` library.\n",
      "  bkms = self.shell.db.get('bookmarks', {})\n",
      "/dss/dsshome1/0C/ra93lal2/.local/share/virtualenvs/CMA_Fairness_v2-3j10GkSs/lib/python3.10/site-packages/IPython/core/magics/osm.py:417: UserWarning: This is now an optional IPython functionality, setting dhist requires you to install the `pickleshare` library.\n",
      "  self.shell.db['dhist'] = compress_dhist(dhist)[-100:]\n"
     ]
    }
   ],
   "source": [
    "%cd ~/cma/CMA_Fairness_v2"
   ]
  },
  {
   "cell_type": "markdown",
   "id": "de2603b9",
   "metadata": {
    "papermill": {
     "duration": 0.014621,
     "end_time": "2025-08-05T15:37:51.968736",
     "exception": false,
     "start_time": "2025-08-05T15:37:51.954115",
     "status": "completed"
    },
    "tags": []
   },
   "source": [
    "The following cell holds the definition of our parameters, these values can be overriden by rendering the with e.g. the following command:\n",
    "\n",
    "papermill -p alpha 0.2 -p ratio 0.3 universe_analysis.ipynb output/test_run.ipynb"
   ]
  },
  {
   "cell_type": "code",
   "execution_count": 2,
   "id": "a80968a0-40bb-4fa9-85ef-2d5eefb01975",
   "metadata": {
    "execution": {
     "iopub.execute_input": "2025-08-05T15:37:52.002169Z",
     "iopub.status.busy": "2025-08-05T15:37:52.001168Z",
     "iopub.status.idle": "2025-08-05T15:37:52.008195Z",
     "shell.execute_reply": "2025-08-05T15:37:52.007034Z"
    },
    "papermill": {
     "duration": 0.026181,
     "end_time": "2025-08-05T15:37:52.009945",
     "exception": false,
     "start_time": "2025-08-05T15:37:51.983764",
     "status": "completed"
    },
    "tags": []
   },
   "outputs": [
    {
     "name": "stdout",
     "output_type": "stream",
     "text": [
      "Current working directory: /dss/dsshome1/0C/ra93lal2/cma/CMA_Fairness_v2\n"
     ]
    }
   ],
   "source": [
    "import os\n",
    "print(\"Current working directory:\", os.getcwd())"
   ]
  },
  {
   "cell_type": "code",
   "execution_count": 3,
   "id": "2dce4c03",
   "metadata": {
    "execution": {
     "iopub.execute_input": "2025-08-05T15:37:52.043975Z",
     "iopub.status.busy": "2025-08-05T15:37:52.043306Z",
     "iopub.status.idle": "2025-08-05T15:37:52.050661Z",
     "shell.execute_reply": "2025-08-05T15:37:52.049574Z"
    },
    "papermill": {
     "duration": 0.026445,
     "end_time": "2025-08-05T15:37:52.052534",
     "exception": false,
     "start_time": "2025-08-05T15:37:52.026089",
     "status": "completed"
    },
    "tags": [
     "parameters"
    ]
   },
   "outputs": [],
   "source": [
    "run_no = 0\n",
    "universe_id = \"test\"\n",
    "universe = {\n",
    "    \"training_size\": \"25k\", # \"25k\", \"5k\", \"1k\"\n",
    "    \"training_year\": \"2014\", # \"2014\", \"2012_14\", \"2010_14\"\n",
    "    \"scale\": \"scale\", # \"scale\", \"do-not-scale\",\n",
    "    \"model\": \"elasticnet\", # \"logreg\", \"penalized_logreg\", \"rf\", \"gbm\", \"elasticnet\"\n",
    "    \"cutoff\": [\"quantile_0.15\", \"quantile_0.30\"],\n",
    "    \"exclude_features\": \"age\", # \"none\", \"nationality\", \"sex\", \"nationality-sex\", \"age\"\n",
    "    \"exclude_subgroups\": \"keep-all\", # \"keep-all\", \"drop-non-german\"\n",
    "    \"eval_fairness_grouping\": [\"majority-minority\", \"nationality-all\"]\n",
    "}\n",
    "\n",
    "output_dir=\"./output\"\n",
    "seed=0"
   ]
  },
  {
   "cell_type": "code",
   "execution_count": 4,
   "id": "f5dfd68f",
   "metadata": {
    "execution": {
     "iopub.execute_input": "2025-08-05T15:37:52.086704Z",
     "iopub.status.busy": "2025-08-05T15:37:52.085837Z",
     "iopub.status.idle": "2025-08-05T15:37:52.091942Z",
     "shell.execute_reply": "2025-08-05T15:37:52.090932Z"
    },
    "papermill": {
     "duration": 0.02483,
     "end_time": "2025-08-05T15:37:52.093626",
     "exception": false,
     "start_time": "2025-08-05T15:37:52.068796",
     "status": "completed"
    },
    "tags": [
     "injected-parameters"
    ]
   },
   "outputs": [],
   "source": [
    "# Parameters\n",
    "universe_id = \"e9afce3c4b56f3eb3a16f563e2340275\"\n",
    "run_no = \"15\"\n",
    "universe = \"{\\\"cutoff\\\": [\\\"quantile_0.1\\\", \\\"quantile_0.25\\\"], \\\"eval_fairness_grouping\\\": [\\\"majority-minority\\\", \\\"nationality-all\\\"], \\\"exclude_features\\\": \\\"none\\\", \\\"exclude_subgroups\\\": \\\"keep-all\\\", \\\"model\\\": \\\"gbm\\\", \\\"scale\\\": \\\"scale\\\", \\\"training_size\\\": \\\"5k\\\", \\\"training_year\\\": \\\"2012_14\\\"}\"\n",
    "output_dir = \"output\"\n",
    "seed = \"2023\"\n"
   ]
  },
  {
   "cell_type": "code",
   "execution_count": 5,
   "id": "1650acaf",
   "metadata": {
    "execution": {
     "iopub.execute_input": "2025-08-05T15:37:52.127428Z",
     "iopub.status.busy": "2025-08-05T15:37:52.126772Z",
     "iopub.status.idle": "2025-08-05T15:37:52.132323Z",
     "shell.execute_reply": "2025-08-05T15:37:52.131225Z"
    },
    "papermill": {
     "duration": 0.024301,
     "end_time": "2025-08-05T15:37:52.134492",
     "exception": false,
     "start_time": "2025-08-05T15:37:52.110191",
     "status": "completed"
    },
    "tags": []
   },
   "outputs": [],
   "source": [
    "import json\n",
    "if isinstance(universe, str):\n",
    "    universe = json.loads(universe)"
   ]
  },
  {
   "cell_type": "code",
   "execution_count": 6,
   "id": "16620c48",
   "metadata": {
    "execution": {
     "iopub.execute_input": "2025-08-05T15:37:52.168040Z",
     "iopub.status.busy": "2025-08-05T15:37:52.167381Z",
     "iopub.status.idle": "2025-08-05T15:37:52.211835Z",
     "shell.execute_reply": "2025-08-05T15:37:52.210879Z"
    },
    "papermill": {
     "duration": 0.063266,
     "end_time": "2025-08-05T15:37:52.213606",
     "exception": false,
     "start_time": "2025-08-05T15:37:52.150340",
     "status": "completed"
    },
    "tags": []
   },
   "outputs": [],
   "source": [
    "# Auto-reload the custom package\n",
    "%load_ext autoreload\n",
    "%autoreload 1\n",
    "%aimport fairness_multiverse"
   ]
  },
  {
   "cell_type": "code",
   "execution_count": 7,
   "id": "01c5c9f3",
   "metadata": {
    "execution": {
     "iopub.execute_input": "2025-08-05T15:37:52.245590Z",
     "iopub.status.busy": "2025-08-05T15:37:52.245094Z",
     "iopub.status.idle": "2025-08-05T15:37:54.075431Z",
     "shell.execute_reply": "2025-08-05T15:37:54.074363Z"
    },
    "papermill": {
     "duration": 1.848514,
     "end_time": "2025-08-05T15:37:54.077349",
     "exception": false,
     "start_time": "2025-08-05T15:37:52.228835",
     "status": "completed"
    },
    "tags": []
   },
   "outputs": [],
   "source": [
    "from fairness_multiverse.universe import UniverseAnalysis\n",
    "\n",
    "universe_analysis = UniverseAnalysis(\n",
    "    run_no = run_no,\n",
    "    universe_id = universe_id,\n",
    "    universe = universe,\n",
    "    output_dir=output_dir,\n",
    ")"
   ]
  },
  {
   "cell_type": "code",
   "execution_count": 8,
   "id": "106241f5",
   "metadata": {
    "execution": {
     "iopub.execute_input": "2025-08-05T15:37:54.097390Z",
     "iopub.status.busy": "2025-08-05T15:37:54.097048Z",
     "iopub.status.idle": "2025-08-05T15:37:54.103269Z",
     "shell.execute_reply": "2025-08-05T15:37:54.102263Z"
    },
    "papermill": {
     "duration": 0.017389,
     "end_time": "2025-08-05T15:37:54.105115",
     "exception": false,
     "start_time": "2025-08-05T15:37:54.087726",
     "status": "completed"
    },
    "tags": []
   },
   "outputs": [
    {
     "name": "stdout",
     "output_type": "stream",
     "text": [
      "Using Seed: 2023\n"
     ]
    }
   ],
   "source": [
    "import numpy as np\n",
    "parsed_seed = int(seed)\n",
    "np.random.seed(parsed_seed)\n",
    "print(f\"Using Seed: {parsed_seed}\")"
   ]
  },
  {
   "cell_type": "markdown",
   "id": "e0ebdc57",
   "metadata": {
    "papermill": {
     "duration": 0.017577,
     "end_time": "2025-08-05T15:37:54.141095",
     "exception": false,
     "start_time": "2025-08-05T15:37:54.123518",
     "status": "completed"
    },
    "tags": []
   },
   "source": [
    "# Loading Data"
   ]
  },
  {
   "cell_type": "code",
   "execution_count": 9,
   "id": "f0496b8a",
   "metadata": {
    "execution": {
     "iopub.execute_input": "2025-08-05T15:37:54.167435Z",
     "iopub.status.busy": "2025-08-05T15:37:54.167092Z",
     "iopub.status.idle": "2025-08-05T15:38:06.934432Z",
     "shell.execute_reply": "2025-08-05T15:38:06.932946Z"
    },
    "papermill": {
     "duration": 12.783178,
     "end_time": "2025-08-05T15:38:06.936107",
     "exception": false,
     "start_time": "2025-08-05T15:37:54.152929",
     "status": "completed"
    },
    "tags": []
   },
   "outputs": [
    {
     "name": "stdout",
     "output_type": "stream",
     "text": [
      "Loading SIAB data from cache: data/siab_cached.csv.gz\n"
     ]
    },
    {
     "name": "stdout",
     "output_type": "stream",
     "text": [
      "(643690, 164)\n"
     ]
    }
   ],
   "source": [
    "from pathlib import Path\n",
    "import pandas as pd\n",
    "\n",
    "# File paths\n",
    "raw_file = Path(\"data/raw/siab.csv\")\n",
    "cache_file = Path(\"data/siab_cached.csv.gz\")\n",
    "\n",
    "# Ensure cache directory exists\n",
    "cache_file.parent.mkdir(parents=True, exist_ok=True)\n",
    "\n",
    "# Load with simple caching\n",
    "if cache_file.exists():\n",
    "    print(f\"Loading SIAB data from cache: {cache_file}\")\n",
    "    siab = pd.read_csv(cache_file, compression='gzip')\n",
    "else:\n",
    "    print(f\"Cache not found. Reading raw SIAB data: {raw_file}\")\n",
    "    siab = pd.read_csv(raw_file)\n",
    "    siab.to_csv(cache_file, index=False, compression='gzip')\n",
    "    print(f\"Cached SIAB data to: {cache_file}\")\n",
    "\n",
    "print(siab.shape)"
   ]
  },
  {
   "cell_type": "code",
   "execution_count": 10,
   "id": "db0ca512-5f53-4dba-abdb-a2888bca41ba",
   "metadata": {
    "execution": {
     "iopub.execute_input": "2025-08-05T15:38:06.975399Z",
     "iopub.status.busy": "2025-08-05T15:38:06.974685Z",
     "iopub.status.idle": "2025-08-05T15:38:06.981416Z",
     "shell.execute_reply": "2025-08-05T15:38:06.980408Z"
    },
    "papermill": {
     "duration": 0.028126,
     "end_time": "2025-08-05T15:38:06.984004",
     "exception": false,
     "start_time": "2025-08-05T15:38:06.955878",
     "status": "completed"
    },
    "tags": []
   },
   "outputs": [],
   "source": [
    "#siab"
   ]
  },
  {
   "cell_type": "markdown",
   "id": "997051c5-15bd-4b69-9786-c3001a3ce484",
   "metadata": {
    "papermill": {
     "duration": 0.026908,
     "end_time": "2025-08-05T15:38:07.039198",
     "exception": false,
     "start_time": "2025-08-05T15:38:07.012290",
     "status": "completed"
    },
    "tags": []
   },
   "source": [
    "# Splitting Data and Setting Training Data Size"
   ]
  },
  {
   "cell_type": "code",
   "execution_count": 11,
   "id": "aea9c6ef-6f46-42c8-85eb-5a62025c1508",
   "metadata": {
    "execution": {
     "iopub.execute_input": "2025-08-05T15:38:07.097294Z",
     "iopub.status.busy": "2025-08-05T15:38:07.096109Z",
     "iopub.status.idle": "2025-08-05T15:38:07.953373Z",
     "shell.execute_reply": "2025-08-05T15:38:07.952225Z"
    },
    "papermill": {
     "duration": 0.888934,
     "end_time": "2025-08-05T15:38:07.955880",
     "exception": false,
     "start_time": "2025-08-05T15:38:07.066946",
     "status": "completed"
    },
    "tags": []
   },
   "outputs": [],
   "source": [
    "from fairness_multiverse.universe import sample_by_year_size\n",
    "\n",
    "siab_train = sample_by_year_size(siab,\n",
    "                               training_year=universe[\"training_year\"],\n",
    "                               training_size=universe[\"training_size\"])"
   ]
  },
  {
   "cell_type": "code",
   "execution_count": 12,
   "id": "8d3afb32-789d-442c-8d5d-9f5aa8dd2eed",
   "metadata": {
    "execution": {
     "iopub.execute_input": "2025-08-05T15:38:08.012915Z",
     "iopub.status.busy": "2025-08-05T15:38:08.012335Z",
     "iopub.status.idle": "2025-08-05T15:38:08.019094Z",
     "shell.execute_reply": "2025-08-05T15:38:08.017688Z"
    },
    "papermill": {
     "duration": 0.037008,
     "end_time": "2025-08-05T15:38:08.021728",
     "exception": false,
     "start_time": "2025-08-05T15:38:07.984720",
     "status": "completed"
    },
    "tags": []
   },
   "outputs": [],
   "source": [
    "#siab_train.shape"
   ]
  },
  {
   "cell_type": "code",
   "execution_count": 13,
   "id": "d582db68-1a4c-47fb-84fc-08518dc1975a",
   "metadata": {
    "execution": {
     "iopub.execute_input": "2025-08-05T15:38:08.076306Z",
     "iopub.status.busy": "2025-08-05T15:38:08.075440Z",
     "iopub.status.idle": "2025-08-05T15:38:08.084390Z",
     "shell.execute_reply": "2025-08-05T15:38:08.082831Z"
    },
    "papermill": {
     "duration": 0.039018,
     "end_time": "2025-08-05T15:38:08.086700",
     "exception": false,
     "start_time": "2025-08-05T15:38:08.047682",
     "status": "completed"
    },
    "tags": []
   },
   "outputs": [],
   "source": [
    "#display(siab_train.groupby(\"year\").size())"
   ]
  },
  {
   "cell_type": "code",
   "execution_count": 14,
   "id": "a561edb4-d032-42cb-8256-22eac1111c64",
   "metadata": {
    "execution": {
     "iopub.execute_input": "2025-08-05T15:38:08.141088Z",
     "iopub.status.busy": "2025-08-05T15:38:08.140258Z",
     "iopub.status.idle": "2025-08-05T15:38:08.507686Z",
     "shell.execute_reply": "2025-08-05T15:38:08.506836Z"
    },
    "papermill": {
     "duration": 0.397959,
     "end_time": "2025-08-05T15:38:08.510116",
     "exception": false,
     "start_time": "2025-08-05T15:38:08.112157",
     "status": "completed"
    },
    "tags": []
   },
   "outputs": [],
   "source": [
    "#siab_train = siab_s[siab_s.year < 2015]\n",
    "siab_calib = siab[siab.year == 2015]\n",
    "siab_test = siab[siab.year == 2016]"
   ]
  },
  {
   "cell_type": "code",
   "execution_count": 15,
   "id": "472de16f-c3db-4916-846b-1f0de9cf1746",
   "metadata": {
    "execution": {
     "iopub.execute_input": "2025-08-05T15:38:08.562660Z",
     "iopub.status.busy": "2025-08-05T15:38:08.562155Z",
     "iopub.status.idle": "2025-08-05T15:38:08.570522Z",
     "shell.execute_reply": "2025-08-05T15:38:08.569483Z"
    },
    "papermill": {
     "duration": 0.037739,
     "end_time": "2025-08-05T15:38:08.572989",
     "exception": false,
     "start_time": "2025-08-05T15:38:08.535250",
     "status": "completed"
    },
    "tags": []
   },
   "outputs": [],
   "source": [
    "X_train = siab_train.iloc[:,4:164]\n",
    "y_train = siab_train.iloc[:, [3]]"
   ]
  },
  {
   "cell_type": "code",
   "execution_count": 16,
   "id": "828c96af-f43a-4ed6-ba47-8ac73a47d56c",
   "metadata": {
    "execution": {
     "iopub.execute_input": "2025-08-05T15:38:08.626103Z",
     "iopub.status.busy": "2025-08-05T15:38:08.625055Z",
     "iopub.status.idle": "2025-08-05T15:38:08.706747Z",
     "shell.execute_reply": "2025-08-05T15:38:08.705464Z"
    },
    "papermill": {
     "duration": 0.109279,
     "end_time": "2025-08-05T15:38:08.708959",
     "exception": false,
     "start_time": "2025-08-05T15:38:08.599680",
     "status": "completed"
    },
    "tags": []
   },
   "outputs": [],
   "source": [
    "X_calib = siab_calib.iloc[:,4:164]\n",
    "y_calib = siab_calib.iloc[:, [3]]"
   ]
  },
  {
   "cell_type": "code",
   "execution_count": 17,
   "id": "c34be9c3-6bd6-476e-acd3-845840e303be",
   "metadata": {
    "execution": {
     "iopub.execute_input": "2025-08-05T15:38:08.746197Z",
     "iopub.status.busy": "2025-08-05T15:38:08.745017Z",
     "iopub.status.idle": "2025-08-05T15:38:08.827263Z",
     "shell.execute_reply": "2025-08-05T15:38:08.825904Z"
    },
    "papermill": {
     "duration": 0.103236,
     "end_time": "2025-08-05T15:38:08.829528",
     "exception": false,
     "start_time": "2025-08-05T15:38:08.726292",
     "status": "completed"
    },
    "tags": []
   },
   "outputs": [],
   "source": [
    "X_test = siab_test.iloc[:,4:164]\n",
    "y_true = siab_test.iloc[:, [3]]"
   ]
  },
  {
   "cell_type": "code",
   "execution_count": 18,
   "id": "e6c733c5",
   "metadata": {
    "execution": {
     "iopub.execute_input": "2025-08-05T15:38:08.866920Z",
     "iopub.status.busy": "2025-08-05T15:38:08.865944Z",
     "iopub.status.idle": "2025-08-05T15:38:09.022737Z",
     "shell.execute_reply": "2025-08-05T15:38:09.021578Z"
    },
    "papermill": {
     "duration": 0.177825,
     "end_time": "2025-08-05T15:38:09.024762",
     "exception": false,
     "start_time": "2025-08-05T15:38:08.846937",
     "status": "completed"
    },
    "tags": []
   },
   "outputs": [],
   "source": [
    "# Auxiliary data needed downstream in the pipeline\n",
    "\n",
    "org_train = X_train.copy()\n",
    "org_test = X_test.copy()\n",
    "org_calib = X_calib.copy()"
   ]
  },
  {
   "cell_type": "markdown",
   "id": "0a4a1b33",
   "metadata": {
    "papermill": {
     "duration": 0.030833,
     "end_time": "2025-08-05T15:38:09.081918",
     "exception": false,
     "start_time": "2025-08-05T15:38:09.051085",
     "status": "completed"
    },
    "tags": []
   },
   "source": [
    "# Preprocessing Data"
   ]
  },
  {
   "cell_type": "code",
   "execution_count": 19,
   "id": "ca879031",
   "metadata": {
    "execution": {
     "iopub.execute_input": "2025-08-05T15:38:09.124093Z",
     "iopub.status.busy": "2025-08-05T15:38:09.123243Z",
     "iopub.status.idle": "2025-08-05T15:38:09.129898Z",
     "shell.execute_reply": "2025-08-05T15:38:09.128640Z"
    },
    "papermill": {
     "duration": 0.030984,
     "end_time": "2025-08-05T15:38:09.131791",
     "exception": false,
     "start_time": "2025-08-05T15:38:09.100807",
     "status": "completed"
    },
    "tags": []
   },
   "outputs": [],
   "source": [
    "# EXCLUDE PROTECTED FEATURES\n",
    "# ----------------------\n",
    "# \"exclude_features\": \"none\", # \"nationality\", \"sex\", \"nationality-sex\"\n",
    "\n",
    "excluded_features = universe[\"exclude_features\"].split(\"-\") # split, e.g.: \"nationality-sex\" -> [\"nationality\", \"sex\"]\n",
    "excluded_features_dictionary = {\n",
    "    \"nationality\": [\"maxdeutsch1\", \"maxdeutsch.Missing.\"],\n",
    "    \"sex\": [\"frau1\"],\n",
    "    \"age\": [\"age\"],\n",
    "}"
   ]
  },
  {
   "cell_type": "code",
   "execution_count": 20,
   "id": "b745ac60",
   "metadata": {
    "execution": {
     "iopub.execute_input": "2025-08-05T15:38:09.177708Z",
     "iopub.status.busy": "2025-08-05T15:38:09.176679Z",
     "iopub.status.idle": "2025-08-05T15:38:09.183710Z",
     "shell.execute_reply": "2025-08-05T15:38:09.182491Z"
    },
    "papermill": {
     "duration": 0.031908,
     "end_time": "2025-08-05T15:38:09.185616",
     "exception": false,
     "start_time": "2025-08-05T15:38:09.153708",
     "status": "completed"
    },
    "tags": []
   },
   "outputs": [],
   "source": [
    "# Code nice names to column names\n",
    "\n",
    "excluded_features_columns = [\n",
    "    excluded_features_dictionary[f] for f in excluded_features if len(f) > 0 and f != \"none\"\n",
    "]"
   ]
  },
  {
   "cell_type": "code",
   "execution_count": 21,
   "id": "f84f73a2",
   "metadata": {
    "execution": {
     "iopub.execute_input": "2025-08-05T15:38:09.226248Z",
     "iopub.status.busy": "2025-08-05T15:38:09.225348Z",
     "iopub.status.idle": "2025-08-05T15:38:09.232782Z",
     "shell.execute_reply": "2025-08-05T15:38:09.231421Z"
    },
    "papermill": {
     "duration": 0.02987,
     "end_time": "2025-08-05T15:38:09.234635",
     "exception": false,
     "start_time": "2025-08-05T15:38:09.204765",
     "status": "completed"
    },
    "tags": []
   },
   "outputs": [],
   "source": [
    "from utils import flatten_once\n",
    "\n",
    "excluded_features_columns = flatten_once(excluded_features_columns)"
   ]
  },
  {
   "cell_type": "code",
   "execution_count": 22,
   "id": "884dea22",
   "metadata": {
    "execution": {
     "iopub.execute_input": "2025-08-05T15:38:09.282530Z",
     "iopub.status.busy": "2025-08-05T15:38:09.281870Z",
     "iopub.status.idle": "2025-08-05T15:38:09.287907Z",
     "shell.execute_reply": "2025-08-05T15:38:09.286850Z"
    },
    "papermill": {
     "duration": 0.027911,
     "end_time": "2025-08-05T15:38:09.289758",
     "exception": false,
     "start_time": "2025-08-05T15:38:09.261847",
     "status": "completed"
    },
    "tags": []
   },
   "outputs": [],
   "source": [
    "if len(excluded_features_columns) > 0:\n",
    "    print(f\"Dropping features: {excluded_features_columns}\")\n",
    "    X_train.drop(excluded_features_columns, axis=1, inplace=True)"
   ]
  },
  {
   "cell_type": "code",
   "execution_count": 23,
   "id": "95ab8b16",
   "metadata": {
    "execution": {
     "iopub.execute_input": "2025-08-05T15:38:09.330022Z",
     "iopub.status.busy": "2025-08-05T15:38:09.329129Z",
     "iopub.status.idle": "2025-08-05T15:38:09.335253Z",
     "shell.execute_reply": "2025-08-05T15:38:09.334229Z"
    },
    "papermill": {
     "duration": 0.029274,
     "end_time": "2025-08-05T15:38:09.337010",
     "exception": false,
     "start_time": "2025-08-05T15:38:09.307736",
     "status": "completed"
    },
    "tags": []
   },
   "outputs": [],
   "source": [
    "if len(excluded_features_columns) > 0:\n",
    "    print(f\"Dropping features: {excluded_features_columns}\")\n",
    "    X_test.drop(excluded_features_columns, axis=1, inplace=True)"
   ]
  },
  {
   "cell_type": "code",
   "execution_count": 24,
   "id": "1853aaf5-fb9f-46cb-a2b5-8ea4ae2237e4",
   "metadata": {
    "execution": {
     "iopub.execute_input": "2025-08-05T15:38:09.375904Z",
     "iopub.status.busy": "2025-08-05T15:38:09.375181Z",
     "iopub.status.idle": "2025-08-05T15:38:09.381259Z",
     "shell.execute_reply": "2025-08-05T15:38:09.380479Z"
    },
    "papermill": {
     "duration": 0.026867,
     "end_time": "2025-08-05T15:38:09.382693",
     "exception": false,
     "start_time": "2025-08-05T15:38:09.355826",
     "status": "completed"
    },
    "tags": []
   },
   "outputs": [],
   "source": [
    "if len(excluded_features_columns) > 0:\n",
    "    print(f\"Dropping features: {excluded_features_columns}\")\n",
    "    X_calib.drop(excluded_features_columns, axis=1, inplace=True)"
   ]
  },
  {
   "cell_type": "code",
   "execution_count": 25,
   "id": "76c4dc6d",
   "metadata": {
    "execution": {
     "iopub.execute_input": "2025-08-05T15:38:09.405363Z",
     "iopub.status.busy": "2025-08-05T15:38:09.404597Z",
     "iopub.status.idle": "2025-08-05T15:38:09.409270Z",
     "shell.execute_reply": "2025-08-05T15:38:09.408565Z"
    },
    "papermill": {
     "duration": 0.017178,
     "end_time": "2025-08-05T15:38:09.410782",
     "exception": false,
     "start_time": "2025-08-05T15:38:09.393604",
     "status": "completed"
    },
    "tags": []
   },
   "outputs": [],
   "source": [
    "# EXCLUDE CERTAIN SUBGROUPS\n",
    "# ----------------------\n",
    "\n",
    "mode = universe.get(\"exclude_subgroups\", \"keep-all\") \n",
    "# Fetches the exclude_subgroups setting from the universe dict.\n",
    "# Defaults to \"keep-all\" if the key is missing."
   ]
  },
  {
   "cell_type": "code",
   "execution_count": 26,
   "id": "21994072",
   "metadata": {
    "execution": {
     "iopub.execute_input": "2025-08-05T15:38:09.447238Z",
     "iopub.status.busy": "2025-08-05T15:38:09.446767Z",
     "iopub.status.idle": "2025-08-05T15:38:09.453437Z",
     "shell.execute_reply": "2025-08-05T15:38:09.452409Z"
    },
    "papermill": {
     "duration": 0.029783,
     "end_time": "2025-08-05T15:38:09.455281",
     "exception": false,
     "start_time": "2025-08-05T15:38:09.425498",
     "status": "completed"
    },
    "tags": []
   },
   "outputs": [],
   "source": [
    "if mode == \"keep-all\":\n",
    "    keep_mask = pd.Series(True, index=org_train.index)\n",
    "\n",
    "# org_train contains the original feature columns from features_org (in Simson)\n",
    "# features_org contains unprocessed features, for me X_train at beginning ???\n",
    "# For keep-all, creates a boolean Series (keep_mask) of all True, so no rows are removed.\n",
    "\n",
    "elif mode == \"drop-non-german\":\n",
    "    keep_mask = org_train[\"maxdeutsch1\"] == 1 # ??? what about missing values?\n",
    "\n",
    "else:\n",
    "    raise ValueError(f\"Unsupported mode for exclude_subgroups: {mode}\")"
   ]
  },
  {
   "cell_type": "code",
   "execution_count": 27,
   "id": "71651440",
   "metadata": {
    "execution": {
     "iopub.execute_input": "2025-08-05T15:38:09.483873Z",
     "iopub.status.busy": "2025-08-05T15:38:09.483370Z",
     "iopub.status.idle": "2025-08-05T15:38:09.488942Z",
     "shell.execute_reply": "2025-08-05T15:38:09.488266Z"
    },
    "papermill": {
     "duration": 0.01797,
     "end_time": "2025-08-05T15:38:09.490226",
     "exception": false,
     "start_time": "2025-08-05T15:38:09.472256",
     "status": "completed"
    },
    "tags": []
   },
   "outputs": [],
   "source": [
    "n_drop = (~keep_mask).sum() # Calculates how many rows are set to be dropped\n",
    "if n_drop > 0:\n",
    "    pct = n_drop / len(keep_mask) * 100\n",
    "    print(f\"Dropping {n_drop} rows ({pct:.2f}%) where mode='{mode}'\")"
   ]
  },
  {
   "cell_type": "code",
   "execution_count": 28,
   "id": "5fb8eee5",
   "metadata": {
    "execution": {
     "iopub.execute_input": "2025-08-05T15:38:09.512172Z",
     "iopub.status.busy": "2025-08-05T15:38:09.511517Z",
     "iopub.status.idle": "2025-08-05T15:38:09.558251Z",
     "shell.execute_reply": "2025-08-05T15:38:09.556766Z"
    },
    "papermill": {
     "duration": 0.060574,
     "end_time": "2025-08-05T15:38:09.561036",
     "exception": false,
     "start_time": "2025-08-05T15:38:09.500462",
     "status": "completed"
    },
    "tags": []
   },
   "outputs": [],
   "source": [
    "X_train = X_train[keep_mask]"
   ]
  },
  {
   "cell_type": "code",
   "execution_count": 29,
   "id": "b202bb3a",
   "metadata": {
    "execution": {
     "iopub.execute_input": "2025-08-05T15:38:09.607040Z",
     "iopub.status.busy": "2025-08-05T15:38:09.606636Z",
     "iopub.status.idle": "2025-08-05T15:38:09.612961Z",
     "shell.execute_reply": "2025-08-05T15:38:09.612133Z"
    },
    "papermill": {
     "duration": 0.026207,
     "end_time": "2025-08-05T15:38:09.614448",
     "exception": false,
     "start_time": "2025-08-05T15:38:09.588241",
     "status": "completed"
    },
    "tags": []
   },
   "outputs": [],
   "source": [
    "y_train = y_train[keep_mask]"
   ]
  },
  {
   "cell_type": "markdown",
   "id": "493e2ac3",
   "metadata": {
    "papermill": {
     "duration": 0.009523,
     "end_time": "2025-08-05T15:38:09.634863",
     "exception": false,
     "start_time": "2025-08-05T15:38:09.625340",
     "status": "completed"
    },
    "tags": []
   },
   "source": [
    "# Model Training"
   ]
  },
  {
   "cell_type": "code",
   "execution_count": 30,
   "id": "679e1268",
   "metadata": {
    "execution": {
     "iopub.execute_input": "2025-08-05T15:38:09.660257Z",
     "iopub.status.busy": "2025-08-05T15:38:09.659909Z",
     "iopub.status.idle": "2025-08-05T15:38:09.741699Z",
     "shell.execute_reply": "2025-08-05T15:38:09.740571Z"
    },
    "papermill": {
     "duration": 0.094238,
     "end_time": "2025-08-05T15:38:09.743224",
     "exception": false,
     "start_time": "2025-08-05T15:38:09.648986",
     "status": "completed"
    },
    "tags": []
   },
   "outputs": [],
   "source": [
    "from sklearn.linear_model import LogisticRegression\n",
    "from sklearn.ensemble import GradientBoostingClassifier, RandomForestClassifier\n",
    "\n",
    "if (universe[\"model\"] == \"logreg\"):\n",
    "    model = LogisticRegression() #penalty=\"none\", solver=\"newton-cg\", max_iter=1) # include random_state=19 ?\n",
    "elif (universe[\"model\"] == \"penalized_logreg\"):\n",
    "    model = LogisticRegression(penalty=\"l2\", C=0.1) #, solver=\"newton-cg\", max_iter=1)\n",
    "elif (universe[\"model\"] == \"rf\"):\n",
    "    model = RandomForestClassifier() # n_estimators=100, n_jobs=-1\n",
    "elif (universe[\"model\"] == \"gbm\"):\n",
    "    model = GradientBoostingClassifier()\n",
    "elif (universe[\"model\"] == \"elasticnet\"):\n",
    "    model = LogisticRegression(penalty = 'elasticnet', solver = 'saga', l1_ratio = 0.5) # max_iter=5000\n",
    "else:\n",
    "    raise \"Unsupported universe.model\""
   ]
  },
  {
   "cell_type": "code",
   "execution_count": 31,
   "id": "0cc8f744",
   "metadata": {
    "execution": {
     "iopub.execute_input": "2025-08-05T15:38:09.782124Z",
     "iopub.status.busy": "2025-08-05T15:38:09.781655Z",
     "iopub.status.idle": "2025-08-05T15:38:09.788818Z",
     "shell.execute_reply": "2025-08-05T15:38:09.787592Z"
    },
    "papermill": {
     "duration": 0.029585,
     "end_time": "2025-08-05T15:38:09.790783",
     "exception": false,
     "start_time": "2025-08-05T15:38:09.761198",
     "status": "completed"
    },
    "tags": []
   },
   "outputs": [],
   "source": [
    "import numpy as np\n",
    "from sklearn.pipeline import Pipeline\n",
    "from sklearn.preprocessing import StandardScaler\n",
    "\n",
    "model = Pipeline([\n",
    "    #(\"continuous_processor\", continuous_processor),\n",
    "    #(\"categorical_preprocessor\", categorical_preprocessor),\n",
    "    (\"scale\", StandardScaler() if universe[\"scale\"] == \"scale\" else None), \n",
    "    (\"model\", model),\n",
    "])"
   ]
  },
  {
   "cell_type": "code",
   "execution_count": 32,
   "id": "9442c04d",
   "metadata": {
    "execution": {
     "iopub.execute_input": "2025-08-05T15:38:09.831172Z",
     "iopub.status.busy": "2025-08-05T15:38:09.830707Z",
     "iopub.status.idle": "2025-08-05T15:38:14.575743Z",
     "shell.execute_reply": "2025-08-05T15:38:14.574810Z"
    },
    "papermill": {
     "duration": 4.76708,
     "end_time": "2025-08-05T15:38:14.577423",
     "exception": false,
     "start_time": "2025-08-05T15:38:09.810343",
     "status": "completed"
    },
    "tags": []
   },
   "outputs": [
    {
     "data": {
      "text/html": [
       "<style>#sk-container-id-1 {color: black;background-color: white;}#sk-container-id-1 pre{padding: 0;}#sk-container-id-1 div.sk-toggleable {background-color: white;}#sk-container-id-1 label.sk-toggleable__label {cursor: pointer;display: block;width: 100%;margin-bottom: 0;padding: 0.3em;box-sizing: border-box;text-align: center;}#sk-container-id-1 label.sk-toggleable__label-arrow:before {content: \"▸\";float: left;margin-right: 0.25em;color: #696969;}#sk-container-id-1 label.sk-toggleable__label-arrow:hover:before {color: black;}#sk-container-id-1 div.sk-estimator:hover label.sk-toggleable__label-arrow:before {color: black;}#sk-container-id-1 div.sk-toggleable__content {max-height: 0;max-width: 0;overflow: hidden;text-align: left;background-color: #f0f8ff;}#sk-container-id-1 div.sk-toggleable__content pre {margin: 0.2em;color: black;border-radius: 0.25em;background-color: #f0f8ff;}#sk-container-id-1 input.sk-toggleable__control:checked~div.sk-toggleable__content {max-height: 200px;max-width: 100%;overflow: auto;}#sk-container-id-1 input.sk-toggleable__control:checked~label.sk-toggleable__label-arrow:before {content: \"▾\";}#sk-container-id-1 div.sk-estimator input.sk-toggleable__control:checked~label.sk-toggleable__label {background-color: #d4ebff;}#sk-container-id-1 div.sk-label input.sk-toggleable__control:checked~label.sk-toggleable__label {background-color: #d4ebff;}#sk-container-id-1 input.sk-hidden--visually {border: 0;clip: rect(1px 1px 1px 1px);clip: rect(1px, 1px, 1px, 1px);height: 1px;margin: -1px;overflow: hidden;padding: 0;position: absolute;width: 1px;}#sk-container-id-1 div.sk-estimator {font-family: monospace;background-color: #f0f8ff;border: 1px dotted black;border-radius: 0.25em;box-sizing: border-box;margin-bottom: 0.5em;}#sk-container-id-1 div.sk-estimator:hover {background-color: #d4ebff;}#sk-container-id-1 div.sk-parallel-item::after {content: \"\";width: 100%;border-bottom: 1px solid gray;flex-grow: 1;}#sk-container-id-1 div.sk-label:hover label.sk-toggleable__label {background-color: #d4ebff;}#sk-container-id-1 div.sk-serial::before {content: \"\";position: absolute;border-left: 1px solid gray;box-sizing: border-box;top: 0;bottom: 0;left: 50%;z-index: 0;}#sk-container-id-1 div.sk-serial {display: flex;flex-direction: column;align-items: center;background-color: white;padding-right: 0.2em;padding-left: 0.2em;position: relative;}#sk-container-id-1 div.sk-item {position: relative;z-index: 1;}#sk-container-id-1 div.sk-parallel {display: flex;align-items: stretch;justify-content: center;background-color: white;position: relative;}#sk-container-id-1 div.sk-item::before, #sk-container-id-1 div.sk-parallel-item::before {content: \"\";position: absolute;border-left: 1px solid gray;box-sizing: border-box;top: 0;bottom: 0;left: 50%;z-index: -1;}#sk-container-id-1 div.sk-parallel-item {display: flex;flex-direction: column;z-index: 1;position: relative;background-color: white;}#sk-container-id-1 div.sk-parallel-item:first-child::after {align-self: flex-end;width: 50%;}#sk-container-id-1 div.sk-parallel-item:last-child::after {align-self: flex-start;width: 50%;}#sk-container-id-1 div.sk-parallel-item:only-child::after {width: 0;}#sk-container-id-1 div.sk-dashed-wrapped {border: 1px dashed gray;margin: 0 0.4em 0.5em 0.4em;box-sizing: border-box;padding-bottom: 0.4em;background-color: white;}#sk-container-id-1 div.sk-label label {font-family: monospace;font-weight: bold;display: inline-block;line-height: 1.2em;}#sk-container-id-1 div.sk-label-container {text-align: center;}#sk-container-id-1 div.sk-container {/* jupyter's `normalize.less` sets `[hidden] { display: none; }` but bootstrap.min.css set `[hidden] { display: none !important; }` so we also need the `!important` here to be able to override the default hidden behavior on the sphinx rendered scikit-learn.org. See: https://github.com/scikit-learn/scikit-learn/issues/21755 */display: inline-block !important;position: relative;}#sk-container-id-1 div.sk-text-repr-fallback {display: none;}</style><div id=\"sk-container-id-1\" class=\"sk-top-container\"><div class=\"sk-text-repr-fallback\"><pre>Pipeline(steps=[(&#x27;scale&#x27;, StandardScaler()),\n",
       "                (&#x27;model&#x27;, GradientBoostingClassifier())])</pre><b>In a Jupyter environment, please rerun this cell to show the HTML representation or trust the notebook. <br />On GitHub, the HTML representation is unable to render, please try loading this page with nbviewer.org.</b></div><div class=\"sk-container\" hidden><div class=\"sk-item sk-dashed-wrapped\"><div class=\"sk-label-container\"><div class=\"sk-label sk-toggleable\"><input class=\"sk-toggleable__control sk-hidden--visually\" id=\"sk-estimator-id-1\" type=\"checkbox\" ><label for=\"sk-estimator-id-1\" class=\"sk-toggleable__label sk-toggleable__label-arrow\">Pipeline</label><div class=\"sk-toggleable__content\"><pre>Pipeline(steps=[(&#x27;scale&#x27;, StandardScaler()),\n",
       "                (&#x27;model&#x27;, GradientBoostingClassifier())])</pre></div></div></div><div class=\"sk-serial\"><div class=\"sk-item\"><div class=\"sk-estimator sk-toggleable\"><input class=\"sk-toggleable__control sk-hidden--visually\" id=\"sk-estimator-id-2\" type=\"checkbox\" ><label for=\"sk-estimator-id-2\" class=\"sk-toggleable__label sk-toggleable__label-arrow\">StandardScaler</label><div class=\"sk-toggleable__content\"><pre>StandardScaler()</pre></div></div></div><div class=\"sk-item\"><div class=\"sk-estimator sk-toggleable\"><input class=\"sk-toggleable__control sk-hidden--visually\" id=\"sk-estimator-id-3\" type=\"checkbox\" ><label for=\"sk-estimator-id-3\" class=\"sk-toggleable__label sk-toggleable__label-arrow\">GradientBoostingClassifier</label><div class=\"sk-toggleable__content\"><pre>GradientBoostingClassifier()</pre></div></div></div></div></div></div></div>"
      ],
      "text/plain": [
       "Pipeline(steps=[('scale', StandardScaler()),\n",
       "                ('model', GradientBoostingClassifier())])"
      ]
     },
     "execution_count": 32,
     "metadata": {},
     "output_type": "execute_result"
    }
   ],
   "source": [
    "model.fit(X_train, y_train.values.ravel())"
   ]
  },
  {
   "cell_type": "code",
   "execution_count": 33,
   "id": "af59f8c0",
   "metadata": {
    "execution": {
     "iopub.execute_input": "2025-08-05T15:38:14.620393Z",
     "iopub.status.busy": "2025-08-05T15:38:14.619635Z",
     "iopub.status.idle": "2025-08-05T15:38:14.625837Z",
     "shell.execute_reply": "2025-08-05T15:38:14.624789Z"
    },
    "papermill": {
     "duration": 0.030654,
     "end_time": "2025-08-05T15:38:14.629658",
     "exception": false,
     "start_time": "2025-08-05T15:38:14.599004",
     "status": "completed"
    },
    "tags": []
   },
   "outputs": [],
   "source": [
    "from fairness_multiverse.universe import predict_w_threshold"
   ]
  },
  {
   "cell_type": "code",
   "execution_count": 34,
   "id": "a7cf2e16",
   "metadata": {
    "execution": {
     "iopub.execute_input": "2025-08-05T15:38:14.668827Z",
     "iopub.status.busy": "2025-08-05T15:38:14.668422Z",
     "iopub.status.idle": "2025-08-05T15:38:15.475934Z",
     "shell.execute_reply": "2025-08-05T15:38:15.475014Z"
    },
    "papermill": {
     "duration": 0.828713,
     "end_time": "2025-08-05T15:38:15.477642",
     "exception": false,
     "start_time": "2025-08-05T15:38:14.648929",
     "status": "completed"
    },
    "tags": []
   },
   "outputs": [
    {
     "data": {
      "text/plain": [
       "0.8632482443428826"
      ]
     },
     "execution_count": 34,
     "metadata": {},
     "output_type": "execute_result"
    }
   ],
   "source": [
    "probs_test = model.predict_proba(X_test)\n",
    "\n",
    "'''\n",
    "Below code returns a boolean array (or binary 0/1 array depending on how it’s used) where each element \n",
    "is True if the probability of class 1 is greater than or equal to the threshold, and False otherwise.\n",
    "'''\n",
    "y_pred_default = predict_w_threshold(probs_test, 0.5)\n",
    "\n",
    "from sklearn.metrics import accuracy_score\n",
    "\n",
    "# Naive prediction\n",
    "accuracy_score(y_true = y_true, y_pred = y_pred_default)"
   ]
  },
  {
   "cell_type": "code",
   "execution_count": 35,
   "id": "081964c3",
   "metadata": {
    "execution": {
     "iopub.execute_input": "2025-08-05T15:38:15.523188Z",
     "iopub.status.busy": "2025-08-05T15:38:15.522500Z",
     "iopub.status.idle": "2025-08-05T15:38:16.411084Z",
     "shell.execute_reply": "2025-08-05T15:38:16.410094Z"
    },
    "papermill": {
     "duration": 0.911556,
     "end_time": "2025-08-05T15:38:16.412617",
     "exception": false,
     "start_time": "2025-08-05T15:38:15.501061",
     "status": "completed"
    },
    "tags": []
   },
   "outputs": [
    {
     "data": {
      "text/plain": [
       "array([0, 0, 0, ..., 0, 0, 0])"
      ]
     },
     "execution_count": 35,
     "metadata": {},
     "output_type": "execute_result"
    }
   ],
   "source": [
    "model.predict(X_test)"
   ]
  },
  {
   "cell_type": "markdown",
   "id": "56c9705b",
   "metadata": {
    "papermill": {
     "duration": 0.010383,
     "end_time": "2025-08-05T15:38:16.439005",
     "exception": false,
     "start_time": "2025-08-05T15:38:16.428622",
     "status": "completed"
    },
    "tags": []
   },
   "source": [
    "# Conformal Prediction"
   ]
  },
  {
   "cell_type": "code",
   "execution_count": 36,
   "id": "160ec6ff",
   "metadata": {
    "execution": {
     "iopub.execute_input": "2025-08-05T15:38:16.460376Z",
     "iopub.status.busy": "2025-08-05T15:38:16.460021Z",
     "iopub.status.idle": "2025-08-05T15:38:16.464310Z",
     "shell.execute_reply": "2025-08-05T15:38:16.463488Z"
    },
    "papermill": {
     "duration": 0.016841,
     "end_time": "2025-08-05T15:38:16.465795",
     "exception": false,
     "start_time": "2025-08-05T15:38:16.448954",
     "status": "completed"
    },
    "tags": []
   },
   "outputs": [],
   "source": [
    "# Miscoverage level for conformal prediction (10% allowed error rate => 90% target coverage)\n",
    "alpha = 0.1"
   ]
  },
  {
   "cell_type": "code",
   "execution_count": 37,
   "id": "eadf4555-3dd3-440e-8e35-f82a4ad9f855",
   "metadata": {
    "execution": {
     "iopub.execute_input": "2025-08-05T15:38:16.492741Z",
     "iopub.status.busy": "2025-08-05T15:38:16.492393Z",
     "iopub.status.idle": "2025-08-05T15:38:16.991566Z",
     "shell.execute_reply": "2025-08-05T15:38:16.990798Z"
    },
    "papermill": {
     "duration": 0.513175,
     "end_time": "2025-08-05T15:38:16.993039",
     "exception": false,
     "start_time": "2025-08-05T15:38:16.479864",
     "status": "completed"
    },
    "tags": []
   },
   "outputs": [],
   "source": [
    "probs_calib = model.predict_proba(X_calib)"
   ]
  },
  {
   "cell_type": "code",
   "execution_count": 38,
   "id": "2ed93547-6d5d-4983-9b36-1ecb300da49a",
   "metadata": {
    "execution": {
     "iopub.execute_input": "2025-08-05T15:38:17.016010Z",
     "iopub.status.busy": "2025-08-05T15:38:17.015650Z",
     "iopub.status.idle": "2025-08-05T15:38:17.020596Z",
     "shell.execute_reply": "2025-08-05T15:38:17.019764Z"
    },
    "papermill": {
     "duration": 0.018207,
     "end_time": "2025-08-05T15:38:17.022132",
     "exception": false,
     "start_time": "2025-08-05T15:38:17.003925",
     "status": "completed"
    },
    "tags": []
   },
   "outputs": [],
   "source": [
    "y_calib = y_calib.values.ravel().astype(int)"
   ]
  },
  {
   "cell_type": "code",
   "execution_count": 39,
   "id": "65d1320d-f588-4b38-9072-62af1ae97f7d",
   "metadata": {
    "execution": {
     "iopub.execute_input": "2025-08-05T15:38:17.046259Z",
     "iopub.status.busy": "2025-08-05T15:38:17.045430Z",
     "iopub.status.idle": "2025-08-05T15:38:17.051911Z",
     "shell.execute_reply": "2025-08-05T15:38:17.051078Z"
    },
    "papermill": {
     "duration": 0.019686,
     "end_time": "2025-08-05T15:38:17.053457",
     "exception": false,
     "start_time": "2025-08-05T15:38:17.033771",
     "status": "completed"
    },
    "tags": []
   },
   "outputs": [],
   "source": [
    "from fairness_multiverse.conformal import compute_nc_scores\n",
    "\n",
    "# Compute nonconformity scores on calibration set (1 - probability of true class)\n",
    "nc_scores = compute_nc_scores(probs_calib, y_calib)"
   ]
  },
  {
   "cell_type": "code",
   "execution_count": 40,
   "id": "df3b8ca3-53b7-43d5-9667-7c85da7aeda2",
   "metadata": {
    "execution": {
     "iopub.execute_input": "2025-08-05T15:38:17.077087Z",
     "iopub.status.busy": "2025-08-05T15:38:17.076575Z",
     "iopub.status.idle": "2025-08-05T15:38:17.082773Z",
     "shell.execute_reply": "2025-08-05T15:38:17.081943Z"
    },
    "papermill": {
     "duration": 0.019624,
     "end_time": "2025-08-05T15:38:17.084371",
     "exception": false,
     "start_time": "2025-08-05T15:38:17.064747",
     "status": "completed"
    },
    "tags": []
   },
   "outputs": [],
   "source": [
    "from fairness_multiverse.conformal import find_threshold\n",
    "\n",
    "# Find conformal threshold q_hat for the given alpha (split conformal method)\n",
    "q_hat = find_threshold(nc_scores, alpha)"
   ]
  },
  {
   "cell_type": "code",
   "execution_count": 41,
   "id": "4d29e6c1-0ef6-4aa4-b8fe-4fe79b0d033a",
   "metadata": {
    "execution": {
     "iopub.execute_input": "2025-08-05T15:38:17.108379Z",
     "iopub.status.busy": "2025-08-05T15:38:17.107718Z",
     "iopub.status.idle": "2025-08-05T15:38:17.114019Z",
     "shell.execute_reply": "2025-08-05T15:38:17.113212Z"
    },
    "papermill": {
     "duration": 0.019743,
     "end_time": "2025-08-05T15:38:17.115514",
     "exception": false,
     "start_time": "2025-08-05T15:38:17.095771",
     "status": "completed"
    },
    "tags": []
   },
   "outputs": [
    {
     "data": {
      "text/plain": [
       "0.6911849385759771"
      ]
     },
     "execution_count": 41,
     "metadata": {},
     "output_type": "execute_result"
    }
   ],
   "source": [
    "q_hat"
   ]
  },
  {
   "cell_type": "code",
   "execution_count": 42,
   "id": "92460794-cdac-4be2-ba28-f28c0515a6fb",
   "metadata": {
    "execution": {
     "iopub.execute_input": "2025-08-05T15:38:17.139781Z",
     "iopub.status.busy": "2025-08-05T15:38:17.139273Z",
     "iopub.status.idle": "2025-08-05T15:38:18.644717Z",
     "shell.execute_reply": "2025-08-05T15:38:18.643685Z"
    },
    "papermill": {
     "duration": 1.519722,
     "end_time": "2025-08-05T15:38:18.646771",
     "exception": false,
     "start_time": "2025-08-05T15:38:17.127049",
     "status": "completed"
    },
    "tags": []
   },
   "outputs": [],
   "source": [
    "from fairness_multiverse.conformal import predict_conformal_sets\n",
    "\n",
    "# Generate prediction sets for each test example\n",
    "pred_sets = predict_conformal_sets(model, X_test, q_hat)"
   ]
  },
  {
   "cell_type": "code",
   "execution_count": 43,
   "id": "d90c9a65-e6db-4f5d-80cd-e68fb7e46829",
   "metadata": {
    "execution": {
     "iopub.execute_input": "2025-08-05T15:38:18.689698Z",
     "iopub.status.busy": "2025-08-05T15:38:18.688876Z",
     "iopub.status.idle": "2025-08-05T15:38:18.694616Z",
     "shell.execute_reply": "2025-08-05T15:38:18.693645Z"
    },
    "papermill": {
     "duration": 0.028234,
     "end_time": "2025-08-05T15:38:18.696410",
     "exception": false,
     "start_time": "2025-08-05T15:38:18.668176",
     "status": "completed"
    },
    "tags": []
   },
   "outputs": [],
   "source": [
    "y_true = y_true.squeeze()"
   ]
  },
  {
   "cell_type": "code",
   "execution_count": 44,
   "id": "3a58a54a-1e68-46b9-927a-df01f18aebc8",
   "metadata": {
    "execution": {
     "iopub.execute_input": "2025-08-05T15:38:18.739927Z",
     "iopub.status.busy": "2025-08-05T15:38:18.739212Z",
     "iopub.status.idle": "2025-08-05T15:38:19.287087Z",
     "shell.execute_reply": "2025-08-05T15:38:19.286295Z"
    },
    "papermill": {
     "duration": 0.571482,
     "end_time": "2025-08-05T15:38:19.288991",
     "exception": false,
     "start_time": "2025-08-05T15:38:18.717509",
     "status": "completed"
    },
    "tags": []
   },
   "outputs": [],
   "source": [
    "from fairness_multiverse.conformal import evaluate_sets\n",
    "\n",
    "# Evaluate coverage and average set size on test data\n",
    "metrics = evaluate_sets(pred_sets, y_true)"
   ]
  },
  {
   "cell_type": "markdown",
   "id": "2b569c12-9aaa-4c88-98c9-bbcd0cf3ebb8",
   "metadata": {
    "papermill": {
     "duration": 0.019332,
     "end_time": "2025-08-05T15:38:19.328937",
     "exception": false,
     "start_time": "2025-08-05T15:38:19.309605",
     "status": "completed"
    },
    "tags": []
   },
   "source": [
    "# CP Metrics"
   ]
  },
  {
   "cell_type": "code",
   "execution_count": 45,
   "id": "5ce0a5cb-201f-45a0-ade5-94c7f0bd6095",
   "metadata": {
    "execution": {
     "iopub.execute_input": "2025-08-05T15:38:19.370905Z",
     "iopub.status.busy": "2025-08-05T15:38:19.370075Z",
     "iopub.status.idle": "2025-08-05T15:38:19.377305Z",
     "shell.execute_reply": "2025-08-05T15:38:19.376308Z"
    },
    "papermill": {
     "duration": 0.030011,
     "end_time": "2025-08-05T15:38:19.379043",
     "exception": false,
     "start_time": "2025-08-05T15:38:19.349032",
     "status": "completed"
    },
    "tags": []
   },
   "outputs": [
    {
     "data": {
      "text/plain": [
       "{'coverage': 0.9093969457139672, 'avg_size': 1.1228291160405752}"
      ]
     },
     "execution_count": 45,
     "metadata": {},
     "output_type": "execute_result"
    }
   ],
   "source": [
    "metrics"
   ]
  },
  {
   "cell_type": "code",
   "execution_count": 46,
   "id": "9b9a838d-31c9-430b-ae14-12baee460d17",
   "metadata": {
    "execution": {
     "iopub.execute_input": "2025-08-05T15:38:19.420483Z",
     "iopub.status.busy": "2025-08-05T15:38:19.419918Z",
     "iopub.status.idle": "2025-08-05T15:38:19.425976Z",
     "shell.execute_reply": "2025-08-05T15:38:19.424964Z"
    },
    "papermill": {
     "duration": 0.029123,
     "end_time": "2025-08-05T15:38:19.427793",
     "exception": false,
     "start_time": "2025-08-05T15:38:19.398670",
     "status": "completed"
    },
    "tags": []
   },
   "outputs": [],
   "source": [
    "example_universe = universe.copy()\n",
    "universe_training_year = example_universe.get(\"training_year\")\n",
    "universe_training_size = example_universe.get(\"training_size\")\n",
    "universe_scale = example_universe.get(\"scale\")\n",
    "universe_model = example_universe.get(\"model\")\n",
    "universe_exclude_features = example_universe.get(\"exclude_features\")\n",
    "universe_exclude_subgroups = example_universe.get(\"exclude_subgroups\")"
   ]
  },
  {
   "cell_type": "code",
   "execution_count": 47,
   "id": "f4b6a8ac-9dc0-4245-8a91-5b3b5999c4f9",
   "metadata": {
    "execution": {
     "iopub.execute_input": "2025-08-05T15:38:19.471904Z",
     "iopub.status.busy": "2025-08-05T15:38:19.471242Z",
     "iopub.status.idle": "2025-08-05T15:38:19.477511Z",
     "shell.execute_reply": "2025-08-05T15:38:19.476502Z"
    },
    "papermill": {
     "duration": 0.029994,
     "end_time": "2025-08-05T15:38:19.479384",
     "exception": false,
     "start_time": "2025-08-05T15:38:19.449390",
     "status": "completed"
    },
    "tags": []
   },
   "outputs": [],
   "source": [
    "cp_metrics_dict = {\n",
    "    \"universe_id\": [universe_id],\n",
    "    \"universe_training_year\": [universe_training_year],\n",
    "    \"universe_training_size\": [universe_training_size],\n",
    "    \"universe_scale\": [universe_scale],\n",
    "    \"universe_model\": [universe_model],\n",
    "    \"universe_exclude_features\": [universe_exclude_features],\n",
    "    \"universe_exclude_subgroups\": [universe_exclude_subgroups],\n",
    "    \"q_hat\": [q_hat],\n",
    "    \"coverage\": [metrics[\"coverage\"]],\n",
    "    \"avg_size\": [metrics[\"avg_size\"]],\n",
    "}"
   ]
  },
  {
   "cell_type": "code",
   "execution_count": 48,
   "id": "908acbb1-0371-4915-85ca-3fa520d2efe2",
   "metadata": {
    "execution": {
     "iopub.execute_input": "2025-08-05T15:38:19.523403Z",
     "iopub.status.busy": "2025-08-05T15:38:19.522927Z",
     "iopub.status.idle": "2025-08-05T15:38:19.530347Z",
     "shell.execute_reply": "2025-08-05T15:38:19.529225Z"
    },
    "papermill": {
     "duration": 0.030829,
     "end_time": "2025-08-05T15:38:19.531948",
     "exception": false,
     "start_time": "2025-08-05T15:38:19.501119",
     "status": "completed"
    },
    "tags": []
   },
   "outputs": [
    {
     "data": {
      "text/plain": [
       "{'universe_id': ['e9afce3c4b56f3eb3a16f563e2340275'],\n",
       " 'universe_training_year': ['2012_14'],\n",
       " 'universe_training_size': ['5k'],\n",
       " 'universe_scale': ['scale'],\n",
       " 'universe_model': ['gbm'],\n",
       " 'universe_exclude_features': ['none'],\n",
       " 'universe_exclude_subgroups': ['keep-all'],\n",
       " 'q_hat': [0.6911849385759771],\n",
       " 'coverage': [0.9093969457139672],\n",
       " 'avg_size': [1.1228291160405752]}"
      ]
     },
     "execution_count": 48,
     "metadata": {},
     "output_type": "execute_result"
    }
   ],
   "source": [
    "cp_metrics_dict"
   ]
  },
  {
   "cell_type": "code",
   "execution_count": 49,
   "id": "33007efc-14e9-4ec6-97ac-56a455c82265",
   "metadata": {
    "execution": {
     "iopub.execute_input": "2025-08-05T15:38:19.576461Z",
     "iopub.status.busy": "2025-08-05T15:38:19.575758Z",
     "iopub.status.idle": "2025-08-05T15:38:19.582005Z",
     "shell.execute_reply": "2025-08-05T15:38:19.581003Z"
    },
    "papermill": {
     "duration": 0.030268,
     "end_time": "2025-08-05T15:38:19.583863",
     "exception": false,
     "start_time": "2025-08-05T15:38:19.553595",
     "status": "completed"
    },
    "tags": []
   },
   "outputs": [],
   "source": [
    "cp_metrics_df = pd.DataFrame(cp_metrics_dict)"
   ]
  },
  {
   "cell_type": "code",
   "execution_count": 50,
   "id": "db12611b-57b2-4910-b9d0-355adfd6e7bf",
   "metadata": {
    "execution": {
     "iopub.execute_input": "2025-08-05T15:38:19.628584Z",
     "iopub.status.busy": "2025-08-05T15:38:19.628174Z",
     "iopub.status.idle": "2025-08-05T15:38:19.646854Z",
     "shell.execute_reply": "2025-08-05T15:38:19.645900Z"
    },
    "papermill": {
     "duration": 0.042408,
     "end_time": "2025-08-05T15:38:19.648533",
     "exception": false,
     "start_time": "2025-08-05T15:38:19.606125",
     "status": "completed"
    },
    "tags": []
   },
   "outputs": [
    {
     "data": {
      "text/html": [
       "<div>\n",
       "<style scoped>\n",
       "    .dataframe tbody tr th:only-of-type {\n",
       "        vertical-align: middle;\n",
       "    }\n",
       "\n",
       "    .dataframe tbody tr th {\n",
       "        vertical-align: top;\n",
       "    }\n",
       "\n",
       "    .dataframe thead th {\n",
       "        text-align: right;\n",
       "    }\n",
       "</style>\n",
       "<table border=\"1\" class=\"dataframe\">\n",
       "  <thead>\n",
       "    <tr style=\"text-align: right;\">\n",
       "      <th></th>\n",
       "      <th>universe_id</th>\n",
       "      <th>universe_training_year</th>\n",
       "      <th>universe_training_size</th>\n",
       "      <th>universe_scale</th>\n",
       "      <th>universe_model</th>\n",
       "      <th>universe_exclude_features</th>\n",
       "      <th>universe_exclude_subgroups</th>\n",
       "      <th>q_hat</th>\n",
       "      <th>coverage</th>\n",
       "      <th>avg_size</th>\n",
       "    </tr>\n",
       "  </thead>\n",
       "  <tbody>\n",
       "    <tr>\n",
       "      <th>0</th>\n",
       "      <td>e9afce3c4b56f3eb3a16f563e2340275</td>\n",
       "      <td>2012_14</td>\n",
       "      <td>5k</td>\n",
       "      <td>scale</td>\n",
       "      <td>gbm</td>\n",
       "      <td>none</td>\n",
       "      <td>keep-all</td>\n",
       "      <td>0.691185</td>\n",
       "      <td>0.909397</td>\n",
       "      <td>1.122829</td>\n",
       "    </tr>\n",
       "  </tbody>\n",
       "</table>\n",
       "</div>"
      ],
      "text/plain": [
       "                        universe_id universe_training_year  \\\n",
       "0  e9afce3c4b56f3eb3a16f563e2340275                2012_14   \n",
       "\n",
       "  universe_training_size universe_scale universe_model  \\\n",
       "0                     5k          scale            gbm   \n",
       "\n",
       "  universe_exclude_features universe_exclude_subgroups     q_hat  coverage  \\\n",
       "0                      none                   keep-all  0.691185  0.909397   \n",
       "\n",
       "   avg_size  \n",
       "0  1.122829  "
      ]
     },
     "execution_count": 50,
     "metadata": {},
     "output_type": "execute_result"
    }
   ],
   "source": [
    "cp_metrics_df"
   ]
  },
  {
   "cell_type": "code",
   "execution_count": 51,
   "id": "b7fbde55-a0a1-47e4-9af6-fe4a17fa8c61",
   "metadata": {
    "execution": {
     "iopub.execute_input": "2025-08-05T15:38:19.698333Z",
     "iopub.status.busy": "2025-08-05T15:38:19.697476Z",
     "iopub.status.idle": "2025-08-05T15:38:19.702648Z",
     "shell.execute_reply": "2025-08-05T15:38:19.701780Z"
    },
    "papermill": {
     "duration": 0.031103,
     "end_time": "2025-08-05T15:38:19.704390",
     "exception": false,
     "start_time": "2025-08-05T15:38:19.673287",
     "status": "completed"
    },
    "tags": []
   },
   "outputs": [],
   "source": [
    "# Conditional Coverage & looking at subgroups"
   ]
  },
  {
   "cell_type": "code",
   "execution_count": 52,
   "id": "027ae886-68dd-4141-96c7-805a5450e1ef",
   "metadata": {
    "execution": {
     "iopub.execute_input": "2025-08-05T15:38:19.748475Z",
     "iopub.status.busy": "2025-08-05T15:38:19.747722Z",
     "iopub.status.idle": "2025-08-05T15:38:19.983412Z",
     "shell.execute_reply": "2025-08-05T15:38:19.981583Z"
    },
    "papermill": {
     "duration": 0.259738,
     "end_time": "2025-08-05T15:38:19.985491",
     "exception": false,
     "start_time": "2025-08-05T15:38:19.725753",
     "status": "completed"
    },
    "tags": []
   },
   "outputs": [],
   "source": [
    "from fairness_multiverse.conformal import build_cp_groups\n",
    "\n",
    "cp_groups_df = build_cp_groups(pred_sets, y_true, X_test.index, org_test)\n",
    "#needs universe_id and setting"
   ]
  },
  {
   "cell_type": "code",
   "execution_count": 53,
   "id": "6cbdab96-b2b2-45af-ad54-d0516db2e28d",
   "metadata": {
    "execution": {
     "iopub.execute_input": "2025-08-05T15:38:20.051997Z",
     "iopub.status.busy": "2025-08-05T15:38:20.051531Z",
     "iopub.status.idle": "2025-08-05T15:38:21.625399Z",
     "shell.execute_reply": "2025-08-05T15:38:21.624406Z"
    },
    "papermill": {
     "duration": 1.602098,
     "end_time": "2025-08-05T15:38:21.627263",
     "exception": false,
     "start_time": "2025-08-05T15:38:20.025165",
     "status": "completed"
    },
    "tags": []
   },
   "outputs": [],
   "source": [
    "# Define covered = 1 if true_label is in the predicted set\n",
    "cp_groups_df['covered'] = cp_groups_df.apply(\n",
    "    lambda r: int(r['true_label'] in r['pred_set']),\n",
    "    axis=1\n",
    ")"
   ]
  },
  {
   "cell_type": "code",
   "execution_count": 54,
   "id": "338ff529-1a6b-4b87-a931-8e4788d52aad",
   "metadata": {
    "execution": {
     "iopub.execute_input": "2025-08-05T15:38:21.672267Z",
     "iopub.status.busy": "2025-08-05T15:38:21.671426Z",
     "iopub.status.idle": "2025-08-05T15:38:21.676699Z",
     "shell.execute_reply": "2025-08-05T15:38:21.675654Z"
    },
    "papermill": {
     "duration": 0.029405,
     "end_time": "2025-08-05T15:38:21.678520",
     "exception": false,
     "start_time": "2025-08-05T15:38:21.649115",
     "status": "completed"
    },
    "tags": []
   },
   "outputs": [],
   "source": [
    "#cp_groups_df"
   ]
  },
  {
   "cell_type": "code",
   "execution_count": 55,
   "id": "90032e27-66df-4540-9169-4e89cfbaa758",
   "metadata": {
    "execution": {
     "iopub.execute_input": "2025-08-05T15:38:21.721644Z",
     "iopub.status.busy": "2025-08-05T15:38:21.721151Z",
     "iopub.status.idle": "2025-08-05T15:38:21.732659Z",
     "shell.execute_reply": "2025-08-05T15:38:21.731693Z"
    },
    "papermill": {
     "duration": 0.034975,
     "end_time": "2025-08-05T15:38:21.734253",
     "exception": false,
     "start_time": "2025-08-05T15:38:21.699278",
     "status": "completed"
    },
    "tags": []
   },
   "outputs": [],
   "source": [
    "subgroups = ['frau1','nongerman','nongerman_male','nongerman_female']\n",
    "\n",
    "# Conditional coverage for subgroup==1\n",
    "cond_coverage = {\n",
    "    g: cp_groups_df.loc[cp_groups_df[g]==1, 'covered'].mean()\n",
    "    for g in subgroups\n",
    "}"
   ]
  },
  {
   "cell_type": "code",
   "execution_count": 56,
   "id": "1e348fb1-b9c3-45bc-ba23-f016827a7e0d",
   "metadata": {
    "execution": {
     "iopub.execute_input": "2025-08-05T15:38:21.777023Z",
     "iopub.status.busy": "2025-08-05T15:38:21.776194Z",
     "iopub.status.idle": "2025-08-05T15:38:21.783379Z",
     "shell.execute_reply": "2025-08-05T15:38:21.782279Z"
    },
    "papermill": {
     "duration": 0.030443,
     "end_time": "2025-08-05T15:38:21.785103",
     "exception": false,
     "start_time": "2025-08-05T15:38:21.754660",
     "status": "completed"
    },
    "tags": []
   },
   "outputs": [
    {
     "data": {
      "text/plain": [
       "{'frau1': 0.9050276317563014,\n",
       " 'nongerman': 0.9070903272890586,\n",
       " 'nongerman_male': 0.9243447716833288,\n",
       " 'nongerman_female': 0.8785394932935916}"
      ]
     },
     "execution_count": 56,
     "metadata": {},
     "output_type": "execute_result"
    }
   ],
   "source": [
    "cond_coverage"
   ]
  },
  {
   "cell_type": "code",
   "execution_count": 57,
   "id": "f5093324-c3dd-4d63-bc4c-8d945e5c8bbb",
   "metadata": {
    "execution": {
     "iopub.execute_input": "2025-08-05T15:38:21.833363Z",
     "iopub.status.busy": "2025-08-05T15:38:21.832575Z",
     "iopub.status.idle": "2025-08-05T15:38:21.839386Z",
     "shell.execute_reply": "2025-08-05T15:38:21.838394Z"
    },
    "papermill": {
     "duration": 0.032388,
     "end_time": "2025-08-05T15:38:21.841279",
     "exception": false,
     "start_time": "2025-08-05T15:38:21.808891",
     "status": "completed"
    },
    "tags": []
   },
   "outputs": [],
   "source": [
    "for subgroup, cov in cond_coverage.items():\n",
    "    cp_metrics_df[f\"cov_{subgroup}\"] = cov"
   ]
  },
  {
   "cell_type": "code",
   "execution_count": 58,
   "id": "6e872e10-dbe5-49e8-b554-5030c98ff75d",
   "metadata": {
    "execution": {
     "iopub.execute_input": "2025-08-05T15:38:21.889225Z",
     "iopub.status.busy": "2025-08-05T15:38:21.888478Z",
     "iopub.status.idle": "2025-08-05T15:38:21.908270Z",
     "shell.execute_reply": "2025-08-05T15:38:21.907198Z"
    },
    "papermill": {
     "duration": 0.045142,
     "end_time": "2025-08-05T15:38:21.909938",
     "exception": false,
     "start_time": "2025-08-05T15:38:21.864796",
     "status": "completed"
    },
    "tags": []
   },
   "outputs": [
    {
     "data": {
      "text/html": [
       "<div>\n",
       "<style scoped>\n",
       "    .dataframe tbody tr th:only-of-type {\n",
       "        vertical-align: middle;\n",
       "    }\n",
       "\n",
       "    .dataframe tbody tr th {\n",
       "        vertical-align: top;\n",
       "    }\n",
       "\n",
       "    .dataframe thead th {\n",
       "        text-align: right;\n",
       "    }\n",
       "</style>\n",
       "<table border=\"1\" class=\"dataframe\">\n",
       "  <thead>\n",
       "    <tr style=\"text-align: right;\">\n",
       "      <th></th>\n",
       "      <th>universe_id</th>\n",
       "      <th>universe_training_year</th>\n",
       "      <th>universe_training_size</th>\n",
       "      <th>universe_scale</th>\n",
       "      <th>universe_model</th>\n",
       "      <th>universe_exclude_features</th>\n",
       "      <th>universe_exclude_subgroups</th>\n",
       "      <th>q_hat</th>\n",
       "      <th>coverage</th>\n",
       "      <th>avg_size</th>\n",
       "      <th>cov_frau1</th>\n",
       "      <th>cov_nongerman</th>\n",
       "      <th>cov_nongerman_male</th>\n",
       "      <th>cov_nongerman_female</th>\n",
       "    </tr>\n",
       "  </thead>\n",
       "  <tbody>\n",
       "    <tr>\n",
       "      <th>0</th>\n",
       "      <td>e9afce3c4b56f3eb3a16f563e2340275</td>\n",
       "      <td>2012_14</td>\n",
       "      <td>5k</td>\n",
       "      <td>scale</td>\n",
       "      <td>gbm</td>\n",
       "      <td>none</td>\n",
       "      <td>keep-all</td>\n",
       "      <td>0.691185</td>\n",
       "      <td>0.909397</td>\n",
       "      <td>1.122829</td>\n",
       "      <td>0.905028</td>\n",
       "      <td>0.90709</td>\n",
       "      <td>0.924345</td>\n",
       "      <td>0.878539</td>\n",
       "    </tr>\n",
       "  </tbody>\n",
       "</table>\n",
       "</div>"
      ],
      "text/plain": [
       "                        universe_id universe_training_year  \\\n",
       "0  e9afce3c4b56f3eb3a16f563e2340275                2012_14   \n",
       "\n",
       "  universe_training_size universe_scale universe_model  \\\n",
       "0                     5k          scale            gbm   \n",
       "\n",
       "  universe_exclude_features universe_exclude_subgroups     q_hat  coverage  \\\n",
       "0                      none                   keep-all  0.691185  0.909397   \n",
       "\n",
       "   avg_size  cov_frau1  cov_nongerman  cov_nongerman_male  \\\n",
       "0  1.122829   0.905028        0.90709            0.924345   \n",
       "\n",
       "   cov_nongerman_female  \n",
       "0              0.878539  "
      ]
     },
     "execution_count": 58,
     "metadata": {},
     "output_type": "execute_result"
    }
   ],
   "source": [
    "cp_metrics_df"
   ]
  },
  {
   "cell_type": "markdown",
   "id": "33774451",
   "metadata": {
    "papermill": {
     "duration": 0.023187,
     "end_time": "2025-08-05T15:38:21.956691",
     "exception": false,
     "start_time": "2025-08-05T15:38:21.933504",
     "status": "completed"
    },
    "tags": []
   },
   "source": [
    "# (Fairness) Metrics"
   ]
  },
  {
   "cell_type": "code",
   "execution_count": 59,
   "id": "debc5d62",
   "metadata": {
    "execution": {
     "iopub.execute_input": "2025-08-05T15:38:22.004092Z",
     "iopub.status.busy": "2025-08-05T15:38:22.003239Z",
     "iopub.status.idle": "2025-08-05T15:38:22.024918Z",
     "shell.execute_reply": "2025-08-05T15:38:22.024075Z"
    },
    "papermill": {
     "duration": 0.046689,
     "end_time": "2025-08-05T15:38:22.026637",
     "exception": false,
     "start_time": "2025-08-05T15:38:21.979948",
     "status": "completed"
    },
    "tags": []
   },
   "outputs": [],
   "source": [
    "# do I need to include maxdeutsch1.missing?\n",
    "\n",
    "import numpy as np\n",
    "\n",
    "colname_to_bin = \"maxdeutsch1\"\n",
    "majority_value = org_train[colname_to_bin].mode()[0]\n",
    "\n",
    "org_test[\"majmin\"] = np.where(org_test[colname_to_bin] == majority_value, \"majority\", \"minority\")"
   ]
  },
  {
   "cell_type": "code",
   "execution_count": 60,
   "id": "06a50de5",
   "metadata": {
    "execution": {
     "iopub.execute_input": "2025-08-05T15:38:22.059728Z",
     "iopub.status.busy": "2025-08-05T15:38:22.059290Z",
     "iopub.status.idle": "2025-08-05T15:38:24.456080Z",
     "shell.execute_reply": "2025-08-05T15:38:24.455066Z"
    },
    "papermill": {
     "duration": 2.410833,
     "end_time": "2025-08-05T15:38:24.458195",
     "exception": false,
     "start_time": "2025-08-05T15:38:22.047362",
     "status": "completed"
    },
    "tags": []
   },
   "outputs": [],
   "source": [
    "example_universe = universe.copy()\n",
    "example_universe[\"cutoff\"] = example_universe[\"cutoff\"][0]\n",
    "example_universe[\"eval_fairness_grouping\"] = example_universe[\"eval_fairness_grouping\"][0]\n",
    "fairness_dict, metric_frame = universe_analysis.compute_metrics(\n",
    "    example_universe,\n",
    "    y_pred_prob=probs_test,\n",
    "    y_test=y_true,\n",
    "    org_test=org_test,\n",
    ")"
   ]
  },
  {
   "cell_type": "markdown",
   "id": "f95d4e02",
   "metadata": {
    "papermill": {
     "duration": 0.026345,
     "end_time": "2025-08-05T15:38:24.511832",
     "exception": false,
     "start_time": "2025-08-05T15:38:24.485487",
     "status": "completed"
    },
    "tags": []
   },
   "source": [
    "# Overall"
   ]
  },
  {
   "cell_type": "markdown",
   "id": "bdee4871",
   "metadata": {
    "papermill": {
     "duration": 0.026311,
     "end_time": "2025-08-05T15:38:24.564608",
     "exception": false,
     "start_time": "2025-08-05T15:38:24.538297",
     "status": "completed"
    },
    "tags": []
   },
   "source": [
    "Fairness\n",
    "Main fairness target: Equalized Odds. Seems to be a better fit than equal opportunity, since we're not only interested in Y = 1. Seems to be a better fit than demographic parity, since we also care about accuracy, not just equal distribution of preds.\n",
    "\n",
    "Pick column for computation of fairness metrics\n",
    "\n",
    "Performance\n",
    "Overall performance measures, most interesting in relation to the measures split by group below"
   ]
  },
  {
   "cell_type": "code",
   "execution_count": 61,
   "id": "c4e067c6",
   "metadata": {
    "execution": {
     "iopub.execute_input": "2025-08-05T15:38:24.619134Z",
     "iopub.status.busy": "2025-08-05T15:38:24.618706Z",
     "iopub.status.idle": "2025-08-05T15:38:24.628501Z",
     "shell.execute_reply": "2025-08-05T15:38:24.627352Z"
    },
    "papermill": {
     "duration": 0.03926,
     "end_time": "2025-08-05T15:38:24.630362",
     "exception": false,
     "start_time": "2025-08-05T15:38:24.591102",
     "status": "completed"
    },
    "tags": []
   },
   "outputs": [
    {
     "data": {
      "text/plain": [
       "accuracy                   0.224624\n",
       "balanced accuracy          0.549184\n",
       "f1                         0.245948\n",
       "precision                  0.140502\n",
       "false positive rate        0.887381\n",
       "false negative rate        0.014251\n",
       "selection rate             0.900000\n",
       "count                  89710.000000\n",
       "dtype: float64"
      ]
     },
     "execution_count": 61,
     "metadata": {},
     "output_type": "execute_result"
    }
   ],
   "source": [
    "metric_frame.overall"
   ]
  },
  {
   "cell_type": "markdown",
   "id": "e968fe9d",
   "metadata": {
    "papermill": {
     "duration": 0.027465,
     "end_time": "2025-08-05T15:38:24.685464",
     "exception": false,
     "start_time": "2025-08-05T15:38:24.657999",
     "status": "completed"
    },
    "tags": []
   },
   "source": [
    "By Group"
   ]
  },
  {
   "cell_type": "code",
   "execution_count": 62,
   "id": "ec325bce",
   "metadata": {
    "execution": {
     "iopub.execute_input": "2025-08-05T15:38:24.740613Z",
     "iopub.status.busy": "2025-08-05T15:38:24.740116Z",
     "iopub.status.idle": "2025-08-05T15:38:24.756761Z",
     "shell.execute_reply": "2025-08-05T15:38:24.755701Z"
    },
    "papermill": {
     "duration": 0.046704,
     "end_time": "2025-08-05T15:38:24.758919",
     "exception": false,
     "start_time": "2025-08-05T15:38:24.712215",
     "status": "completed"
    },
    "tags": []
   },
   "outputs": [
    {
     "data": {
      "text/html": [
       "<div>\n",
       "<style scoped>\n",
       "    .dataframe tbody tr th:only-of-type {\n",
       "        vertical-align: middle;\n",
       "    }\n",
       "\n",
       "    .dataframe tbody tr th {\n",
       "        vertical-align: top;\n",
       "    }\n",
       "\n",
       "    .dataframe thead th {\n",
       "        text-align: right;\n",
       "    }\n",
       "</style>\n",
       "<table border=\"1\" class=\"dataframe\">\n",
       "  <thead>\n",
       "    <tr style=\"text-align: right;\">\n",
       "      <th></th>\n",
       "      <th>accuracy</th>\n",
       "      <th>balanced accuracy</th>\n",
       "      <th>f1</th>\n",
       "      <th>precision</th>\n",
       "      <th>false positive rate</th>\n",
       "      <th>false negative rate</th>\n",
       "      <th>selection rate</th>\n",
       "      <th>count</th>\n",
       "    </tr>\n",
       "    <tr>\n",
       "      <th>majmin</th>\n",
       "      <th></th>\n",
       "      <th></th>\n",
       "      <th></th>\n",
       "      <th></th>\n",
       "      <th></th>\n",
       "      <th></th>\n",
       "      <th></th>\n",
       "      <th></th>\n",
       "    </tr>\n",
       "  </thead>\n",
       "  <tbody>\n",
       "    <tr>\n",
       "      <th>majority</th>\n",
       "      <td>0.245280</td>\n",
       "      <td>0.558321</td>\n",
       "      <td>0.256226</td>\n",
       "      <td>0.147294</td>\n",
       "      <td>0.867166</td>\n",
       "      <td>0.016193</td>\n",
       "      <td>0.882579</td>\n",
       "      <td>69170.0</td>\n",
       "    </tr>\n",
       "    <tr>\n",
       "      <th>minority</th>\n",
       "      <td>0.155063</td>\n",
       "      <td>0.519541</td>\n",
       "      <td>0.213246</td>\n",
       "      <td>0.119445</td>\n",
       "      <td>0.954160</td>\n",
       "      <td>0.006757</td>\n",
       "      <td>0.958666</td>\n",
       "      <td>20540.0</td>\n",
       "    </tr>\n",
       "  </tbody>\n",
       "</table>\n",
       "</div>"
      ],
      "text/plain": [
       "          accuracy  balanced accuracy        f1  precision  \\\n",
       "majmin                                                       \n",
       "majority  0.245280           0.558321  0.256226   0.147294   \n",
       "minority  0.155063           0.519541  0.213246   0.119445   \n",
       "\n",
       "          false positive rate  false negative rate  selection rate    count  \n",
       "majmin                                                                       \n",
       "majority             0.867166             0.016193        0.882579  69170.0  \n",
       "minority             0.954160             0.006757        0.958666  20540.0  "
      ]
     },
     "execution_count": 62,
     "metadata": {},
     "output_type": "execute_result"
    }
   ],
   "source": [
    "metric_frame.by_group"
   ]
  },
  {
   "cell_type": "code",
   "execution_count": 63,
   "id": "a9ddbe63",
   "metadata": {
    "execution": {
     "iopub.execute_input": "2025-08-05T15:38:24.821799Z",
     "iopub.status.busy": "2025-08-05T15:38:24.821276Z",
     "iopub.status.idle": "2025-08-05T15:38:27.451945Z",
     "shell.execute_reply": "2025-08-05T15:38:27.450921Z"
    },
    "papermill": {
     "duration": 2.66543,
     "end_time": "2025-08-05T15:38:27.453705",
     "exception": false,
     "start_time": "2025-08-05T15:38:24.788275",
     "status": "completed"
    },
    "tags": []
   },
   "outputs": [
    {
     "data": {
      "text/plain": [
       "array([[<Axes: title={'center': 'accuracy'}, xlabel='majmin'>,\n",
       "        <Axes: title={'center': 'balanced accuracy'}, xlabel='majmin'>,\n",
       "        <Axes: title={'center': 'f1'}, xlabel='majmin'>],\n",
       "       [<Axes: title={'center': 'precision'}, xlabel='majmin'>,\n",
       "        <Axes: title={'center': 'false positive rate'}, xlabel='majmin'>,\n",
       "        <Axes: title={'center': 'false negative rate'}, xlabel='majmin'>],\n",
       "       [<Axes: title={'center': 'selection rate'}, xlabel='majmin'>,\n",
       "        <Axes: title={'center': 'count'}, xlabel='majmin'>,\n",
       "        <Axes: xlabel='majmin'>]], dtype=object)"
      ]
     },
     "execution_count": 63,
     "metadata": {},
     "output_type": "execute_result"
    },
    {
     "data": {
      "image/png": "[encoded data removed]",
      "text/plain": [
       "<Figure size 1200x800 with 9 Axes>"
      ]
     },
     "metadata": {},
     "output_type": "display_data"
    }
   ],
   "source": [
    "# In a graphic\n",
    "metric_frame.by_group.plot.bar(\n",
    "    subplots=True,\n",
    "    layout=[3, 3],\n",
    "    legend=False,\n",
    "    figsize=[12, 8],\n",
    "    title=\"Show all metrics\",\n",
    ")"
   ]
  },
  {
   "cell_type": "markdown",
   "id": "f57a0bac",
   "metadata": {
    "papermill": {
     "duration": 0.013024,
     "end_time": "2025-08-05T15:38:27.487961",
     "exception": false,
     "start_time": "2025-08-05T15:38:27.474937",
     "status": "completed"
    },
    "tags": []
   },
   "source": [
    "# Final Output"
   ]
  },
  {
   "cell_type": "code",
   "execution_count": 64,
   "id": "96d280a3",
   "metadata": {
    "execution": {
     "iopub.execute_input": "2025-08-05T15:38:27.519105Z",
     "iopub.status.busy": "2025-08-05T15:38:27.518405Z",
     "iopub.status.idle": "2025-08-05T15:38:27.527445Z",
     "shell.execute_reply": "2025-08-05T15:38:27.526438Z"
    },
    "papermill": {
     "duration": 0.028518,
     "end_time": "2025-08-05T15:38:27.529409",
     "exception": false,
     "start_time": "2025-08-05T15:38:27.500891",
     "status": "completed"
    },
    "tags": []
   },
   "outputs": [
    {
     "data": {
      "text/plain": [
       "4"
      ]
     },
     "execution_count": 64,
     "metadata": {},
     "output_type": "execute_result"
    }
   ],
   "source": [
    "sub_universes = universe_analysis.generate_sub_universes()\n",
    "len(sub_universes)"
   ]
  },
  {
   "cell_type": "code",
   "execution_count": 65,
   "id": "92adf7ba",
   "metadata": {
    "execution": {
     "iopub.execute_input": "2025-08-05T15:38:27.586705Z",
     "iopub.status.busy": "2025-08-05T15:38:27.586249Z",
     "iopub.status.idle": "2025-08-05T15:38:27.590751Z",
     "shell.execute_reply": "2025-08-05T15:38:27.589927Z"
    },
    "papermill": {
     "duration": 0.034383,
     "end_time": "2025-08-05T15:38:27.591854",
     "exception": false,
     "start_time": "2025-08-05T15:38:27.557471",
     "status": "completed"
    },
    "tags": []
   },
   "outputs": [],
   "source": [
    "def filter_sub_universe_data(sub_universe, org_test):\n",
    "    # Keep all rows — no filtering\n",
    "    keep_rows_mask = np.ones(org_test.shape[0], dtype=bool)\n",
    "\n",
    "    print(f\"[INFO] Keeping all rows: {keep_rows_mask.sum()} rows retained.\")\n",
    "    return keep_rows_mask"
   ]
  },
  {
   "cell_type": "code",
   "execution_count": 66,
   "id": "4a759155",
   "metadata": {
    "execution": {
     "iopub.execute_input": "2025-08-05T15:38:27.643295Z",
     "iopub.status.busy": "2025-08-05T15:38:27.642435Z",
     "iopub.status.idle": "2025-08-05T15:38:36.575288Z",
     "shell.execute_reply": "2025-08-05T15:38:36.574378Z"
    },
    "papermill": {
     "duration": 8.959135,
     "end_time": "2025-08-05T15:38:36.576579",
     "exception": false,
     "start_time": "2025-08-05T15:38:27.617444",
     "status": "completed"
    },
    "tags": []
   },
   "outputs": [
    {
     "name": "stdout",
     "output_type": "stream",
     "text": [
      "Stopping execution_time clock.\n",
      "[INFO] Keeping all rows: 89710 rows retained.\n"
     ]
    },
    {
     "name": "stdout",
     "output_type": "stream",
     "text": [
      "[INFO] Keeping all rows: 89710 rows retained.\n"
     ]
    },
    {
     "name": "stdout",
     "output_type": "stream",
     "text": [
      "[INFO] Keeping all rows: 89710 rows retained.\n"
     ]
    },
    {
     "name": "stdout",
     "output_type": "stream",
     "text": [
      "[INFO] Keeping all rows: 89710 rows retained.\n"
     ]
    },
    {
     "data": {
      "text/html": [
       "<div>\n",
       "<style scoped>\n",
       "    .dataframe tbody tr th:only-of-type {\n",
       "        vertical-align: middle;\n",
       "    }\n",
       "\n",
       "    .dataframe tbody tr th {\n",
       "        vertical-align: top;\n",
       "    }\n",
       "\n",
       "    .dataframe thead th {\n",
       "        text-align: right;\n",
       "    }\n",
       "</style>\n",
       "<table border=\"1\" class=\"dataframe\">\n",
       "  <thead>\n",
       "    <tr style=\"text-align: right;\">\n",
       "      <th></th>\n",
       "      <th>run_no</th>\n",
       "      <th>universe_id</th>\n",
       "      <th>universe_settings</th>\n",
       "      <th>execution_time</th>\n",
       "      <th>test_size_n</th>\n",
       "      <th>test_size_frac</th>\n",
       "      <th>fair_main_equalized_odds_difference</th>\n",
       "      <th>fair_main_equalized_odds_ratio</th>\n",
       "      <th>fair_main_demographic_parity_difference</th>\n",
       "      <th>fair_main_demographic_parity_ratio</th>\n",
       "      <th>...</th>\n",
       "      <th>perf_grp_precision_0</th>\n",
       "      <th>perf_grp_precision_1</th>\n",
       "      <th>perf_grp_false positive rate_0</th>\n",
       "      <th>perf_grp_false positive rate_1</th>\n",
       "      <th>perf_grp_false negative rate_0</th>\n",
       "      <th>perf_grp_false negative rate_1</th>\n",
       "      <th>perf_grp_selection rate_0</th>\n",
       "      <th>perf_grp_selection rate_1</th>\n",
       "      <th>perf_grp_count_0</th>\n",
       "      <th>perf_grp_count_1</th>\n",
       "    </tr>\n",
       "  </thead>\n",
       "  <tbody>\n",
       "    <tr>\n",
       "      <th>0</th>\n",
       "      <td>15</td>\n",
       "      <td>e9afce3c4b56f3eb3a16f563e2340275</td>\n",
       "      <td>{\"cutoff\": \"quantile_0.1\", \"eval_fairness_grou...</td>\n",
       "      <td>33.604618</td>\n",
       "      <td>89710</td>\n",
       "      <td>1.0</td>\n",
       "      <td>0.086994</td>\n",
       "      <td>0.908827</td>\n",
       "      <td>0.076087</td>\n",
       "      <td>0.920633</td>\n",
       "      <td>...</td>\n",
       "      <td>NaN</td>\n",
       "      <td>NaN</td>\n",
       "      <td>NaN</td>\n",
       "      <td>NaN</td>\n",
       "      <td>NaN</td>\n",
       "      <td>NaN</td>\n",
       "      <td>NaN</td>\n",
       "      <td>NaN</td>\n",
       "      <td>NaN</td>\n",
       "      <td>NaN</td>\n",
       "    </tr>\n",
       "    <tr>\n",
       "      <th>0</th>\n",
       "      <td>15</td>\n",
       "      <td>e9afce3c4b56f3eb3a16f563e2340275</td>\n",
       "      <td>{\"cutoff\": \"quantile_0.1\", \"eval_fairness_grou...</td>\n",
       "      <td>33.604618</td>\n",
       "      <td>89710</td>\n",
       "      <td>1.0</td>\n",
       "      <td>0.086994</td>\n",
       "      <td>0.908827</td>\n",
       "      <td>0.076087</td>\n",
       "      <td>0.920633</td>\n",
       "      <td>...</td>\n",
       "      <td>0.119445</td>\n",
       "      <td>0.147294</td>\n",
       "      <td>0.954160</td>\n",
       "      <td>0.867166</td>\n",
       "      <td>0.006757</td>\n",
       "      <td>0.016193</td>\n",
       "      <td>0.958666</td>\n",
       "      <td>0.882579</td>\n",
       "      <td>20540.0</td>\n",
       "      <td>69170.0</td>\n",
       "    </tr>\n",
       "    <tr>\n",
       "      <th>0</th>\n",
       "      <td>15</td>\n",
       "      <td>e9afce3c4b56f3eb3a16f563e2340275</td>\n",
       "      <td>{\"cutoff\": \"quantile_0.25\", \"eval_fairness_gro...</td>\n",
       "      <td>33.604618</td>\n",
       "      <td>89710</td>\n",
       "      <td>1.0</td>\n",
       "      <td>0.104333</td>\n",
       "      <td>0.869847</td>\n",
       "      <td>0.086891</td>\n",
       "      <td>0.893645</td>\n",
       "      <td>...</td>\n",
       "      <td>NaN</td>\n",
       "      <td>NaN</td>\n",
       "      <td>NaN</td>\n",
       "      <td>NaN</td>\n",
       "      <td>NaN</td>\n",
       "      <td>NaN</td>\n",
       "      <td>NaN</td>\n",
       "      <td>NaN</td>\n",
       "      <td>NaN</td>\n",
       "      <td>NaN</td>\n",
       "    </tr>\n",
       "    <tr>\n",
       "      <th>0</th>\n",
       "      <td>15</td>\n",
       "      <td>e9afce3c4b56f3eb3a16f563e2340275</td>\n",
       "      <td>{\"cutoff\": \"quantile_0.25\", \"eval_fairness_gro...</td>\n",
       "      <td>33.604618</td>\n",
       "      <td>89710</td>\n",
       "      <td>1.0</td>\n",
       "      <td>0.104333</td>\n",
       "      <td>0.869847</td>\n",
       "      <td>0.086891</td>\n",
       "      <td>0.893645</td>\n",
       "      <td>...</td>\n",
       "      <td>0.131935</td>\n",
       "      <td>0.171145</td>\n",
       "      <td>0.801618</td>\n",
       "      <td>0.697285</td>\n",
       "      <td>0.065034</td>\n",
       "      <td>0.054376</td>\n",
       "      <td>0.816991</td>\n",
       "      <td>0.730100</td>\n",
       "      <td>20540.0</td>\n",
       "      <td>69170.0</td>\n",
       "    </tr>\n",
       "  </tbody>\n",
       "</table>\n",
       "<p>4 rows × 50 columns</p>\n",
       "</div>"
      ],
      "text/plain": [
       "  run_no                       universe_id  \\\n",
       "0     15  e9afce3c4b56f3eb3a16f563e2340275   \n",
       "0     15  e9afce3c4b56f3eb3a16f563e2340275   \n",
       "0     15  e9afce3c4b56f3eb3a16f563e2340275   \n",
       "0     15  e9afce3c4b56f3eb3a16f563e2340275   \n",
       "\n",
       "                                   universe_settings  execution_time  \\\n",
       "0  {\"cutoff\": \"quantile_0.1\", \"eval_fairness_grou...       33.604618   \n",
       "0  {\"cutoff\": \"quantile_0.1\", \"eval_fairness_grou...       33.604618   \n",
       "0  {\"cutoff\": \"quantile_0.25\", \"eval_fairness_gro...       33.604618   \n",
       "0  {\"cutoff\": \"quantile_0.25\", \"eval_fairness_gro...       33.604618   \n",
       "\n",
       "   test_size_n  test_size_frac  fair_main_equalized_odds_difference  \\\n",
       "0        89710             1.0                             0.086994   \n",
       "0        89710             1.0                             0.086994   \n",
       "0        89710             1.0                             0.104333   \n",
       "0        89710             1.0                             0.104333   \n",
       "\n",
       "   fair_main_equalized_odds_ratio  fair_main_demographic_parity_difference  \\\n",
       "0                        0.908827                                 0.076087   \n",
       "0                        0.908827                                 0.076087   \n",
       "0                        0.869847                                 0.086891   \n",
       "0                        0.869847                                 0.086891   \n",
       "\n",
       "   fair_main_demographic_parity_ratio  ...  perf_grp_precision_0  \\\n",
       "0                            0.920633  ...                   NaN   \n",
       "0                            0.920633  ...              0.119445   \n",
       "0                            0.893645  ...                   NaN   \n",
       "0                            0.893645  ...              0.131935   \n",
       "\n",
       "   perf_grp_precision_1  perf_grp_false positive rate_0  \\\n",
       "0                   NaN                             NaN   \n",
       "0              0.147294                        0.954160   \n",
       "0                   NaN                             NaN   \n",
       "0              0.171145                        0.801618   \n",
       "\n",
       "   perf_grp_false positive rate_1  perf_grp_false negative rate_0  \\\n",
       "0                             NaN                             NaN   \n",
       "0                        0.867166                        0.006757   \n",
       "0                             NaN                             NaN   \n",
       "0                        0.697285                        0.065034   \n",
       "\n",
       "   perf_grp_false negative rate_1  perf_grp_selection rate_0  \\\n",
       "0                             NaN                        NaN   \n",
       "0                        0.016193                   0.958666   \n",
       "0                             NaN                        NaN   \n",
       "0                        0.054376                   0.816991   \n",
       "\n",
       "   perf_grp_selection rate_1  perf_grp_count_0  perf_grp_count_1  \n",
       "0                        NaN               NaN               NaN  \n",
       "0                   0.882579           20540.0           69170.0  \n",
       "0                        NaN               NaN               NaN  \n",
       "0                   0.730100           20540.0           69170.0  \n",
       "\n",
       "[4 rows x 50 columns]"
      ]
     },
     "execution_count": 66,
     "metadata": {},
     "output_type": "execute_result"
    }
   ],
   "source": [
    "final_output = universe_analysis.generate_final_output(\n",
    "    y_pred_prob=probs_test,\n",
    "    y_test=y_true,\n",
    "    org_test=org_test,\n",
    "    filter_data=filter_sub_universe_data,\n",
    "    cp_metrics_df=cp_metrics_df,\n",
    "    save=True,\n",
    ")\n",
    "final_output"
   ]
  }
 ],
 "metadata": {
  "celltoolbar": "Tags",
  "kernelspec": {
   "display_name": "Python (CMA Fairness)",
   "language": "python",
   "name": "cma_fair_env"
  },
  "language_info": {
   "codemirror_mode": {
    "name": "ipython",
    "version": 3
   },
   "file_extension": ".py",
   "mimetype": "text/x-python",
   "name": "python",
   "nbconvert_exporter": "python",
   "pygments_lexer": "ipython3",
   "version": "3.10.12"
  },
  "papermill": {
   "default_parameters": {},
   "duration": 46.337534,
   "end_time": "2025-08-05T15:38:37.110454",
   "environment_variables": {},
   "exception": null,
   "input_path": "universe_analysis.ipynb",
   "output_path": "output/runs/15/notebooks/m_15-e9afce3c4b56f3eb3a16f563e2340275.ipynb",
   "parameters": {
    "output_dir": "output",
    "run_no": "15",
    "seed": "2023",
    "universe": "{\"cutoff\": [\"quantile_0.1\", \"quantile_0.25\"], \"eval_fairness_grouping\": [\"majority-minority\", \"nationality-all\"], \"exclude_features\": \"none\", \"exclude_subgroups\": \"keep-all\", \"model\": \"gbm\", \"scale\": \"scale\", \"training_size\": \"5k\", \"training_year\": \"2012_14\"}",
    "universe_id": "e9afce3c4b56f3eb3a16f563e2340275"
   },
   "start_time": "2025-08-05T15:37:50.772920",
   "version": "2.6.0"
  }
 },
 "nbformat": 4,
 "nbformat_minor": 5
}