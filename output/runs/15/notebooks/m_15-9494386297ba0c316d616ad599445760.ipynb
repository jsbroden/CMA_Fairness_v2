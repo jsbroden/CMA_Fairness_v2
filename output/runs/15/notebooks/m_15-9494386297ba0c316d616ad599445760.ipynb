{
 "cells": [
  {
   "cell_type": "code",
   "execution_count": 1,
   "id": "f159f837-637b-42ba-96b5-ec9a68c44524",
   "metadata": {
    "execution": {
     "iopub.execute_input": "2025-08-05T15:31:47.056231Z",
     "iopub.status.busy": "2025-08-05T15:31:47.055889Z",
     "iopub.status.idle": "2025-08-05T15:31:47.065642Z",
     "shell.execute_reply": "2025-08-05T15:31:47.064762Z"
    },
    "papermill": {
     "duration": 0.027484,
     "end_time": "2025-08-05T15:31:47.066838",
     "exception": false,
     "start_time": "2025-08-05T15:31:47.039354",
     "status": "completed"
    },
    "tags": []
   },
   "outputs": [
    {
     "name": "stdout",
     "output_type": "stream",
     "text": [
      "/dss/dsshome1/0C/ra93lal2/cma/CMA_Fairness_v2\n"
     ]
    },
    {
     "name": "stderr",
     "output_type": "stream",
     "text": [
      "/dss/dsshome1/0C/ra93lal2/.local/share/virtualenvs/CMA_Fairness_v2-3j10GkSs/lib/python3.10/site-packages/IPython/core/magics/osm.py:393: UserWarning: This is now an optional IPython functionality, using bookmarks requires you to install the `pickleshare` library.\n",
      "  bkms = self.shell.db.get('bookmarks', {})\n",
      "/dss/dsshome1/0C/ra93lal2/.local/share/virtualenvs/CMA_Fairness_v2-3j10GkSs/lib/python3.10/site-packages/IPython/core/magics/osm.py:417: UserWarning: This is now an optional IPython functionality, setting dhist requires you to install the `pickleshare` library.\n",
      "  self.shell.db['dhist'] = compress_dhist(dhist)[-100:]\n"
     ]
    }
   ],
   "source": [
    "%cd ~/cma/CMA_Fairness_v2"
   ]
  },
  {
   "cell_type": "markdown",
   "id": "de2603b9",
   "metadata": {
    "papermill": {
     "duration": 0.008067,
     "end_time": "2025-08-05T15:31:47.084062",
     "exception": false,
     "start_time": "2025-08-05T15:31:47.075995",
     "status": "completed"
    },
    "tags": []
   },
   "source": [
    "The following cell holds the definition of our parameters, these values can be overriden by rendering the with e.g. the following command:\n",
    "\n",
    "papermill -p alpha 0.2 -p ratio 0.3 universe_analysis.ipynb output/test_run.ipynb"
   ]
  },
  {
   "cell_type": "code",
   "execution_count": 2,
   "id": "a80968a0-40bb-4fa9-85ef-2d5eefb01975",
   "metadata": {
    "execution": {
     "iopub.execute_input": "2025-08-05T15:31:47.101871Z",
     "iopub.status.busy": "2025-08-05T15:31:47.101491Z",
     "iopub.status.idle": "2025-08-05T15:31:47.106287Z",
     "shell.execute_reply": "2025-08-05T15:31:47.105290Z"
    },
    "papermill": {
     "duration": 0.015366,
     "end_time": "2025-08-05T15:31:47.107594",
     "exception": false,
     "start_time": "2025-08-05T15:31:47.092228",
     "status": "completed"
    },
    "tags": []
   },
   "outputs": [
    {
     "name": "stdout",
     "output_type": "stream",
     "text": [
      "Current working directory: /dss/dsshome1/0C/ra93lal2/cma/CMA_Fairness_v2\n"
     ]
    }
   ],
   "source": [
    "import os\n",
    "print(\"Current working directory:\", os.getcwd())"
   ]
  },
  {
   "cell_type": "code",
   "execution_count": 3,
   "id": "2dce4c03",
   "metadata": {
    "execution": {
     "iopub.execute_input": "2025-08-05T15:31:47.126639Z",
     "iopub.status.busy": "2025-08-05T15:31:47.126291Z",
     "iopub.status.idle": "2025-08-05T15:31:47.131092Z",
     "shell.execute_reply": "2025-08-05T15:31:47.130235Z"
    },
    "papermill": {
     "duration": 0.015744,
     "end_time": "2025-08-05T15:31:47.132527",
     "exception": false,
     "start_time": "2025-08-05T15:31:47.116783",
     "status": "completed"
    },
    "tags": [
     "parameters"
    ]
   },
   "outputs": [],
   "source": [
    "run_no = 0\n",
    "universe_id = \"test\"\n",
    "universe = {\n",
    "    \"training_size\": \"25k\", # \"25k\", \"5k\", \"1k\"\n",
    "    \"training_year\": \"2014\", # \"2014\", \"2012_14\", \"2010_14\"\n",
    "    \"scale\": \"scale\", # \"scale\", \"do-not-scale\",\n",
    "    \"model\": \"elasticnet\", # \"logreg\", \"penalized_logreg\", \"rf\", \"gbm\", \"elasticnet\"\n",
    "    \"cutoff\": [\"quantile_0.15\", \"quantile_0.30\"],\n",
    "    \"exclude_features\": \"age\", # \"none\", \"nationality\", \"sex\", \"nationality-sex\", \"age\"\n",
    "    \"exclude_subgroups\": \"keep-all\", # \"keep-all\", \"drop-non-german\"\n",
    "    \"eval_fairness_grouping\": [\"majority-minority\", \"nationality-all\"]\n",
    "}\n",
    "\n",
    "output_dir=\"./output\"\n",
    "seed=0"
   ]
  },
  {
   "cell_type": "code",
   "execution_count": 4,
   "id": "d88a9002",
   "metadata": {
    "execution": {
     "iopub.execute_input": "2025-08-05T15:31:47.151530Z",
     "iopub.status.busy": "2025-08-05T15:31:47.151184Z",
     "iopub.status.idle": "2025-08-05T15:31:47.155817Z",
     "shell.execute_reply": "2025-08-05T15:31:47.154980Z"
    },
    "papermill": {
     "duration": 0.016009,
     "end_time": "2025-08-05T15:31:47.157682",
     "exception": false,
     "start_time": "2025-08-05T15:31:47.141673",
     "status": "completed"
    },
    "tags": [
     "injected-parameters"
    ]
   },
   "outputs": [],
   "source": [
    "# Parameters\n",
    "universe_id = \"9494386297ba0c316d616ad599445760\"\n",
    "run_no = \"15\"\n",
    "universe = \"{\\\"cutoff\\\": [\\\"quantile_0.1\\\", \\\"quantile_0.25\\\"], \\\"eval_fairness_grouping\\\": [\\\"majority-minority\\\", \\\"nationality-all\\\"], \\\"exclude_features\\\": \\\"sex\\\", \\\"exclude_subgroups\\\": \\\"drop-non-german\\\", \\\"model\\\": \\\"gbm\\\", \\\"scale\\\": \\\"do-not-scale\\\", \\\"training_size\\\": \\\"5k\\\", \\\"training_year\\\": \\\"2014\\\"}\"\n",
    "output_dir = \"output\"\n",
    "seed = \"2023\"\n"
   ]
  },
  {
   "cell_type": "code",
   "execution_count": 5,
   "id": "1650acaf",
   "metadata": {
    "execution": {
     "iopub.execute_input": "2025-08-05T15:31:47.191501Z",
     "iopub.status.busy": "2025-08-05T15:31:47.190991Z",
     "iopub.status.idle": "2025-08-05T15:31:47.195229Z",
     "shell.execute_reply": "2025-08-05T15:31:47.194350Z"
    },
    "papermill": {
     "duration": 0.022094,
     "end_time": "2025-08-05T15:31:47.196661",
     "exception": false,
     "start_time": "2025-08-05T15:31:47.174567",
     "status": "completed"
    },
    "tags": []
   },
   "outputs": [],
   "source": [
    "import json\n",
    "if isinstance(universe, str):\n",
    "    universe = json.loads(universe)"
   ]
  },
  {
   "cell_type": "code",
   "execution_count": 6,
   "id": "16620c48",
   "metadata": {
    "execution": {
     "iopub.execute_input": "2025-08-05T15:31:47.215057Z",
     "iopub.status.busy": "2025-08-05T15:31:47.214776Z",
     "iopub.status.idle": "2025-08-05T15:31:47.258498Z",
     "shell.execute_reply": "2025-08-05T15:31:47.257460Z"
    },
    "papermill": {
     "duration": 0.054483,
     "end_time": "2025-08-05T15:31:47.260275",
     "exception": false,
     "start_time": "2025-08-05T15:31:47.205792",
     "status": "completed"
    },
    "tags": []
   },
   "outputs": [],
   "source": [
    "# Auto-reload the custom package\n",
    "%load_ext autoreload\n",
    "%autoreload 1\n",
    "%aimport fairness_multiverse"
   ]
  },
  {
   "cell_type": "code",
   "execution_count": 7,
   "id": "01c5c9f3",
   "metadata": {
    "execution": {
     "iopub.execute_input": "2025-08-05T15:31:47.299104Z",
     "iopub.status.busy": "2025-08-05T15:31:47.298321Z",
     "iopub.status.idle": "2025-08-05T15:31:49.233233Z",
     "shell.execute_reply": "2025-08-05T15:31:49.232176Z"
    },
    "papermill": {
     "duration": 1.955685,
     "end_time": "2025-08-05T15:31:49.234936",
     "exception": false,
     "start_time": "2025-08-05T15:31:47.279251",
     "status": "completed"
    },
    "tags": []
   },
   "outputs": [],
   "source": [
    "from fairness_multiverse.universe import UniverseAnalysis\n",
    "\n",
    "universe_analysis = UniverseAnalysis(\n",
    "    run_no = run_no,\n",
    "    universe_id = universe_id,\n",
    "    universe = universe,\n",
    "    output_dir=output_dir,\n",
    ")"
   ]
  },
  {
   "cell_type": "code",
   "execution_count": 8,
   "id": "106241f5",
   "metadata": {
    "execution": {
     "iopub.execute_input": "2025-08-05T15:31:49.272239Z",
     "iopub.status.busy": "2025-08-05T15:31:49.271667Z",
     "iopub.status.idle": "2025-08-05T15:31:49.278626Z",
     "shell.execute_reply": "2025-08-05T15:31:49.277587Z"
    },
    "papermill": {
     "duration": 0.029104,
     "end_time": "2025-08-05T15:31:49.280460",
     "exception": false,
     "start_time": "2025-08-05T15:31:49.251356",
     "status": "completed"
    },
    "tags": []
   },
   "outputs": [
    {
     "name": "stdout",
     "output_type": "stream",
     "text": [
      "Using Seed: 2023\n"
     ]
    }
   ],
   "source": [
    "import numpy as np\n",
    "parsed_seed = int(seed)\n",
    "np.random.seed(parsed_seed)\n",
    "print(f\"Using Seed: {parsed_seed}\")"
   ]
  },
  {
   "cell_type": "markdown",
   "id": "e0ebdc57",
   "metadata": {
    "papermill": {
     "duration": 0.019361,
     "end_time": "2025-08-05T15:31:49.320345",
     "exception": false,
     "start_time": "2025-08-05T15:31:49.300984",
     "status": "completed"
    },
    "tags": []
   },
   "source": [
    "# Loading Data"
   ]
  },
  {
   "cell_type": "code",
   "execution_count": 9,
   "id": "f0496b8a",
   "metadata": {
    "execution": {
     "iopub.execute_input": "2025-08-05T15:31:49.358116Z",
     "iopub.status.busy": "2025-08-05T15:31:49.357617Z",
     "iopub.status.idle": "2025-08-05T15:32:00.893546Z",
     "shell.execute_reply": "2025-08-05T15:32:00.892300Z"
    },
    "papermill": {
     "duration": 11.55501,
     "end_time": "2025-08-05T15:32:00.895360",
     "exception": false,
     "start_time": "2025-08-05T15:31:49.340350",
     "status": "completed"
    },
    "tags": []
   },
   "outputs": [
    {
     "name": "stdout",
     "output_type": "stream",
     "text": [
      "Loading SIAB data from cache: data/siab_cached.csv.gz\n"
     ]
    },
    {
     "name": "stdout",
     "output_type": "stream",
     "text": [
      "(643690, 164)\n"
     ]
    }
   ],
   "source": [
    "from pathlib import Path\n",
    "import pandas as pd\n",
    "\n",
    "# File paths\n",
    "raw_file = Path(\"data/raw/siab.csv\")\n",
    "cache_file = Path(\"data/siab_cached.csv.gz\")\n",
    "\n",
    "# Ensure cache directory exists\n",
    "cache_file.parent.mkdir(parents=True, exist_ok=True)\n",
    "\n",
    "# Load with simple caching\n",
    "if cache_file.exists():\n",
    "    print(f\"Loading SIAB data from cache: {cache_file}\")\n",
    "    siab = pd.read_csv(cache_file, compression='gzip')\n",
    "else:\n",
    "    print(f\"Cache not found. Reading raw SIAB data: {raw_file}\")\n",
    "    siab = pd.read_csv(raw_file)\n",
    "    siab.to_csv(cache_file, index=False, compression='gzip')\n",
    "    print(f\"Cached SIAB data to: {cache_file}\")\n",
    "\n",
    "print(siab.shape)"
   ]
  },
  {
   "cell_type": "code",
   "execution_count": 10,
   "id": "db0ca512-5f53-4dba-abdb-a2888bca41ba",
   "metadata": {
    "execution": {
     "iopub.execute_input": "2025-08-05T15:32:00.940689Z",
     "iopub.status.busy": "2025-08-05T15:32:00.940141Z",
     "iopub.status.idle": "2025-08-05T15:32:00.946369Z",
     "shell.execute_reply": "2025-08-05T15:32:00.945152Z"
    },
    "papermill": {
     "duration": 0.030291,
     "end_time": "2025-08-05T15:32:00.948065",
     "exception": false,
     "start_time": "2025-08-05T15:32:00.917774",
     "status": "completed"
    },
    "tags": []
   },
   "outputs": [],
   "source": [
    "#siab"
   ]
  },
  {
   "cell_type": "markdown",
   "id": "997051c5-15bd-4b69-9786-c3001a3ce484",
   "metadata": {
    "papermill": {
     "duration": 0.011974,
     "end_time": "2025-08-05T15:32:00.978995",
     "exception": false,
     "start_time": "2025-08-05T15:32:00.967021",
     "status": "completed"
    },
    "tags": []
   },
   "source": [
    "# Splitting Data and Setting Training Data Size"
   ]
  },
  {
   "cell_type": "code",
   "execution_count": 11,
   "id": "aea9c6ef-6f46-42c8-85eb-5a62025c1508",
   "metadata": {
    "execution": {
     "iopub.execute_input": "2025-08-05T15:32:00.999671Z",
     "iopub.status.busy": "2025-08-05T15:32:00.999220Z",
     "iopub.status.idle": "2025-08-05T15:32:01.199371Z",
     "shell.execute_reply": "2025-08-05T15:32:01.198391Z"
    },
    "papermill": {
     "duration": 0.212607,
     "end_time": "2025-08-05T15:32:01.201364",
     "exception": false,
     "start_time": "2025-08-05T15:32:00.988757",
     "status": "completed"
    },
    "tags": []
   },
   "outputs": [],
   "source": [
    "from fairness_multiverse.universe import sample_by_year_size\n",
    "\n",
    "siab_train = sample_by_year_size(siab,\n",
    "                               training_year=universe[\"training_year\"],\n",
    "                               training_size=universe[\"training_size\"])"
   ]
  },
  {
   "cell_type": "code",
   "execution_count": 12,
   "id": "8d3afb32-789d-442c-8d5d-9f5aa8dd2eed",
   "metadata": {
    "execution": {
     "iopub.execute_input": "2025-08-05T15:32:01.241855Z",
     "iopub.status.busy": "2025-08-05T15:32:01.241206Z",
     "iopub.status.idle": "2025-08-05T15:32:01.246985Z",
     "shell.execute_reply": "2025-08-05T15:32:01.245918Z"
    },
    "papermill": {
     "duration": 0.029445,
     "end_time": "2025-08-05T15:32:01.249003",
     "exception": false,
     "start_time": "2025-08-05T15:32:01.219558",
     "status": "completed"
    },
    "tags": []
   },
   "outputs": [],
   "source": [
    "#siab_train.shape"
   ]
  },
  {
   "cell_type": "code",
   "execution_count": 13,
   "id": "d582db68-1a4c-47fb-84fc-08518dc1975a",
   "metadata": {
    "execution": {
     "iopub.execute_input": "2025-08-05T15:32:01.292244Z",
     "iopub.status.busy": "2025-08-05T15:32:01.291759Z",
     "iopub.status.idle": "2025-08-05T15:32:01.296836Z",
     "shell.execute_reply": "2025-08-05T15:32:01.295875Z"
    },
    "papermill": {
     "duration": 0.028731,
     "end_time": "2025-08-05T15:32:01.299101",
     "exception": false,
     "start_time": "2025-08-05T15:32:01.270370",
     "status": "completed"
    },
    "tags": []
   },
   "outputs": [],
   "source": [
    "#display(siab_train.groupby(\"year\").size())"
   ]
  },
  {
   "cell_type": "code",
   "execution_count": 14,
   "id": "a561edb4-d032-42cb-8256-22eac1111c64",
   "metadata": {
    "execution": {
     "iopub.execute_input": "2025-08-05T15:32:01.342823Z",
     "iopub.status.busy": "2025-08-05T15:32:01.342308Z",
     "iopub.status.idle": "2025-08-05T15:32:01.592390Z",
     "shell.execute_reply": "2025-08-05T15:32:01.591636Z"
    },
    "papermill": {
     "duration": 0.27425,
     "end_time": "2025-08-05T15:32:01.594254",
     "exception": false,
     "start_time": "2025-08-05T15:32:01.320004",
     "status": "completed"
    },
    "tags": []
   },
   "outputs": [],
   "source": [
    "#siab_train = siab_s[siab_s.year < 2015]\n",
    "siab_calib = siab[siab.year == 2015]\n",
    "siab_test = siab[siab.year == 2016]"
   ]
  },
  {
   "cell_type": "code",
   "execution_count": 15,
   "id": "472de16f-c3db-4916-846b-1f0de9cf1746",
   "metadata": {
    "execution": {
     "iopub.execute_input": "2025-08-05T15:32:01.635893Z",
     "iopub.status.busy": "2025-08-05T15:32:01.635189Z",
     "iopub.status.idle": "2025-08-05T15:32:01.643433Z",
     "shell.execute_reply": "2025-08-05T15:32:01.642714Z"
    },
    "papermill": {
     "duration": 0.031166,
     "end_time": "2025-08-05T15:32:01.644970",
     "exception": false,
     "start_time": "2025-08-05T15:32:01.613804",
     "status": "completed"
    },
    "tags": []
   },
   "outputs": [],
   "source": [
    "X_train = siab_train.iloc[:,4:164]\n",
    "y_train = siab_train.iloc[:, [3]]"
   ]
  },
  {
   "cell_type": "code",
   "execution_count": 16,
   "id": "828c96af-f43a-4ed6-ba47-8ac73a47d56c",
   "metadata": {
    "execution": {
     "iopub.execute_input": "2025-08-05T15:32:01.695562Z",
     "iopub.status.busy": "2025-08-05T15:32:01.694974Z",
     "iopub.status.idle": "2025-08-05T15:32:01.764132Z",
     "shell.execute_reply": "2025-08-05T15:32:01.763026Z"
    },
    "papermill": {
     "duration": 0.098038,
     "end_time": "2025-08-05T15:32:01.766137",
     "exception": false,
     "start_time": "2025-08-05T15:32:01.668099",
     "status": "completed"
    },
    "tags": []
   },
   "outputs": [],
   "source": [
    "X_calib = siab_calib.iloc[:,4:164]\n",
    "y_calib = siab_calib.iloc[:, [3]]"
   ]
  },
  {
   "cell_type": "code",
   "execution_count": 17,
   "id": "c34be9c3-6bd6-476e-acd3-845840e303be",
   "metadata": {
    "execution": {
     "iopub.execute_input": "2025-08-05T15:32:01.803140Z",
     "iopub.status.busy": "2025-08-05T15:32:01.802669Z",
     "iopub.status.idle": "2025-08-05T15:32:01.856668Z",
     "shell.execute_reply": "2025-08-05T15:32:01.855555Z"
    },
    "papermill": {
     "duration": 0.074795,
     "end_time": "2025-08-05T15:32:01.858607",
     "exception": false,
     "start_time": "2025-08-05T15:32:01.783812",
     "status": "completed"
    },
    "tags": []
   },
   "outputs": [],
   "source": [
    "X_test = siab_test.iloc[:,4:164]\n",
    "y_true = siab_test.iloc[:, [3]]"
   ]
  },
  {
   "cell_type": "code",
   "execution_count": 18,
   "id": "e6c733c5",
   "metadata": {
    "execution": {
     "iopub.execute_input": "2025-08-05T15:32:01.897811Z",
     "iopub.status.busy": "2025-08-05T15:32:01.897227Z",
     "iopub.status.idle": "2025-08-05T15:32:01.998057Z",
     "shell.execute_reply": "2025-08-05T15:32:01.996992Z"
    },
    "papermill": {
     "duration": 0.122691,
     "end_time": "2025-08-05T15:32:02.000159",
     "exception": false,
     "start_time": "2025-08-05T15:32:01.877468",
     "status": "completed"
    },
    "tags": []
   },
   "outputs": [],
   "source": [
    "# Auxiliary data needed downstream in the pipeline\n",
    "\n",
    "org_train = X_train.copy()\n",
    "org_test = X_test.copy()\n",
    "org_calib = X_calib.copy()"
   ]
  },
  {
   "cell_type": "markdown",
   "id": "0a4a1b33",
   "metadata": {
    "papermill": {
     "duration": 0.020466,
     "end_time": "2025-08-05T15:32:02.040332",
     "exception": false,
     "start_time": "2025-08-05T15:32:02.019866",
     "status": "completed"
    },
    "tags": []
   },
   "source": [
    "# Preprocessing Data"
   ]
  },
  {
   "cell_type": "code",
   "execution_count": 19,
   "id": "ca879031",
   "metadata": {
    "execution": {
     "iopub.execute_input": "2025-08-05T15:32:02.080046Z",
     "iopub.status.busy": "2025-08-05T15:32:02.079521Z",
     "iopub.status.idle": "2025-08-05T15:32:02.085823Z",
     "shell.execute_reply": "2025-08-05T15:32:02.084833Z"
    },
    "papermill": {
     "duration": 0.028086,
     "end_time": "2025-08-05T15:32:02.087485",
     "exception": false,
     "start_time": "2025-08-05T15:32:02.059399",
     "status": "completed"
    },
    "tags": []
   },
   "outputs": [],
   "source": [
    "# EXCLUDE PROTECTED FEATURES\n",
    "# ----------------------\n",
    "# \"exclude_features\": \"none\", # \"nationality\", \"sex\", \"nationality-sex\"\n",
    "\n",
    "excluded_features = universe[\"exclude_features\"].split(\"-\") # split, e.g.: \"nationality-sex\" -> [\"nationality\", \"sex\"]\n",
    "excluded_features_dictionary = {\n",
    "    \"nationality\": [\"maxdeutsch1\", \"maxdeutsch.Missing.\"],\n",
    "    \"sex\": [\"frau1\"],\n",
    "    \"age\": [\"age\"],\n",
    "}"
   ]
  },
  {
   "cell_type": "code",
   "execution_count": 20,
   "id": "b745ac60",
   "metadata": {
    "execution": {
     "iopub.execute_input": "2025-08-05T15:32:02.126707Z",
     "iopub.status.busy": "2025-08-05T15:32:02.126135Z",
     "iopub.status.idle": "2025-08-05T15:32:02.132422Z",
     "shell.execute_reply": "2025-08-05T15:32:02.131420Z"
    },
    "papermill": {
     "duration": 0.027997,
     "end_time": "2025-08-05T15:32:02.134072",
     "exception": false,
     "start_time": "2025-08-05T15:32:02.106075",
     "status": "completed"
    },
    "tags": []
   },
   "outputs": [],
   "source": [
    "# Code nice names to column names\n",
    "\n",
    "excluded_features_columns = [\n",
    "    excluded_features_dictionary[f] for f in excluded_features if len(f) > 0 and f != \"none\"\n",
    "]"
   ]
  },
  {
   "cell_type": "code",
   "execution_count": 21,
   "id": "f84f73a2",
   "metadata": {
    "execution": {
     "iopub.execute_input": "2025-08-05T15:32:02.171457Z",
     "iopub.status.busy": "2025-08-05T15:32:02.170567Z",
     "iopub.status.idle": "2025-08-05T15:32:02.225542Z",
     "shell.execute_reply": "2025-08-05T15:32:02.224598Z"
    },
    "papermill": {
     "duration": 0.075463,
     "end_time": "2025-08-05T15:32:02.227227",
     "exception": false,
     "start_time": "2025-08-05T15:32:02.151764",
     "status": "completed"
    },
    "tags": []
   },
   "outputs": [],
   "source": [
    "from utils import flatten_once\n",
    "\n",
    "excluded_features_columns = flatten_once(excluded_features_columns)"
   ]
  },
  {
   "cell_type": "code",
   "execution_count": 22,
   "id": "884dea22",
   "metadata": {
    "execution": {
     "iopub.execute_input": "2025-08-05T15:32:02.250577Z",
     "iopub.status.busy": "2025-08-05T15:32:02.250023Z",
     "iopub.status.idle": "2025-08-05T15:32:02.262620Z",
     "shell.execute_reply": "2025-08-05T15:32:02.261188Z"
    },
    "papermill": {
     "duration": 0.027036,
     "end_time": "2025-08-05T15:32:02.264902",
     "exception": false,
     "start_time": "2025-08-05T15:32:02.237866",
     "status": "completed"
    },
    "tags": []
   },
   "outputs": [
    {
     "name": "stdout",
     "output_type": "stream",
     "text": [
      "Dropping features: ['frau1']\n"
     ]
    }
   ],
   "source": [
    "if len(excluded_features_columns) > 0:\n",
    "    print(f\"Dropping features: {excluded_features_columns}\")\n",
    "    X_train.drop(excluded_features_columns, axis=1, inplace=True)"
   ]
  },
  {
   "cell_type": "code",
   "execution_count": 23,
   "id": "95ab8b16",
   "metadata": {
    "execution": {
     "iopub.execute_input": "2025-08-05T15:32:02.316366Z",
     "iopub.status.busy": "2025-08-05T15:32:02.315574Z",
     "iopub.status.idle": "2025-08-05T15:32:02.379451Z",
     "shell.execute_reply": "2025-08-05T15:32:02.378533Z"
    },
    "papermill": {
     "duration": 0.089185,
     "end_time": "2025-08-05T15:32:02.381015",
     "exception": false,
     "start_time": "2025-08-05T15:32:02.291830",
     "status": "completed"
    },
    "tags": []
   },
   "outputs": [
    {
     "name": "stdout",
     "output_type": "stream",
     "text": [
      "Dropping features: ['frau1']\n"
     ]
    }
   ],
   "source": [
    "if len(excluded_features_columns) > 0:\n",
    "    print(f\"Dropping features: {excluded_features_columns}\")\n",
    "    X_test.drop(excluded_features_columns, axis=1, inplace=True)"
   ]
  },
  {
   "cell_type": "code",
   "execution_count": 24,
   "id": "1853aaf5-fb9f-46cb-a2b5-8ea4ae2237e4",
   "metadata": {
    "execution": {
     "iopub.execute_input": "2025-08-05T15:32:02.402272Z",
     "iopub.status.busy": "2025-08-05T15:32:02.401511Z",
     "iopub.status.idle": "2025-08-05T15:32:02.451480Z",
     "shell.execute_reply": "2025-08-05T15:32:02.450603Z"
    },
    "papermill": {
     "duration": 0.061639,
     "end_time": "2025-08-05T15:32:02.452930",
     "exception": false,
     "start_time": "2025-08-05T15:32:02.391291",
     "status": "completed"
    },
    "tags": []
   },
   "outputs": [
    {
     "name": "stdout",
     "output_type": "stream",
     "text": [
      "Dropping features: ['frau1']\n"
     ]
    }
   ],
   "source": [
    "if len(excluded_features_columns) > 0:\n",
    "    print(f\"Dropping features: {excluded_features_columns}\")\n",
    "    X_calib.drop(excluded_features_columns, axis=1, inplace=True)"
   ]
  },
  {
   "cell_type": "code",
   "execution_count": 25,
   "id": "76c4dc6d",
   "metadata": {
    "execution": {
     "iopub.execute_input": "2025-08-05T15:32:02.475764Z",
     "iopub.status.busy": "2025-08-05T15:32:02.474830Z",
     "iopub.status.idle": "2025-08-05T15:32:02.481603Z",
     "shell.execute_reply": "2025-08-05T15:32:02.480445Z"
    },
    "papermill": {
     "duration": 0.020511,
     "end_time": "2025-08-05T15:32:02.484115",
     "exception": false,
     "start_time": "2025-08-05T15:32:02.463604",
     "status": "completed"
    },
    "tags": []
   },
   "outputs": [],
   "source": [
    "# EXCLUDE CERTAIN SUBGROUPS\n",
    "# ----------------------\n",
    "\n",
    "mode = universe.get(\"exclude_subgroups\", \"keep-all\") \n",
    "# Fetches the exclude_subgroups setting from the universe dict.\n",
    "# Defaults to \"keep-all\" if the key is missing."
   ]
  },
  {
   "cell_type": "code",
   "execution_count": 26,
   "id": "21994072",
   "metadata": {
    "execution": {
     "iopub.execute_input": "2025-08-05T15:32:02.507873Z",
     "iopub.status.busy": "2025-08-05T15:32:02.507514Z",
     "iopub.status.idle": "2025-08-05T15:32:02.512999Z",
     "shell.execute_reply": "2025-08-05T15:32:02.512034Z"
    },
    "papermill": {
     "duration": 0.019384,
     "end_time": "2025-08-05T15:32:02.514718",
     "exception": false,
     "start_time": "2025-08-05T15:32:02.495334",
     "status": "completed"
    },
    "tags": []
   },
   "outputs": [],
   "source": [
    "if mode == \"keep-all\":\n",
    "    keep_mask = pd.Series(True, index=org_train.index)\n",
    "\n",
    "# org_train contains the original feature columns from features_org (in Simson)\n",
    "# features_org contains unprocessed features, for me X_train at beginning ???\n",
    "# For keep-all, creates a boolean Series (keep_mask) of all True, so no rows are removed.\n",
    "\n",
    "elif mode == \"drop-non-german\":\n",
    "    keep_mask = org_train[\"maxdeutsch1\"] == 1 # ??? what about missing values?\n",
    "\n",
    "else:\n",
    "    raise ValueError(f\"Unsupported mode for exclude_subgroups: {mode}\")"
   ]
  },
  {
   "cell_type": "code",
   "execution_count": 27,
   "id": "71651440",
   "metadata": {
    "execution": {
     "iopub.execute_input": "2025-08-05T15:32:02.540040Z",
     "iopub.status.busy": "2025-08-05T15:32:02.539556Z",
     "iopub.status.idle": "2025-08-05T15:32:02.547374Z",
     "shell.execute_reply": "2025-08-05T15:32:02.546291Z"
    },
    "papermill": {
     "duration": 0.023133,
     "end_time": "2025-08-05T15:32:02.549028",
     "exception": false,
     "start_time": "2025-08-05T15:32:02.525895",
     "status": "completed"
    },
    "tags": []
   },
   "outputs": [
    {
     "name": "stdout",
     "output_type": "stream",
     "text": [
      "Dropping 741 rows (14.82%) where mode='drop-non-german'\n"
     ]
    }
   ],
   "source": [
    "n_drop = (~keep_mask).sum() # Calculates how many rows are set to be dropped\n",
    "if n_drop > 0:\n",
    "    pct = n_drop / len(keep_mask) * 100\n",
    "    print(f\"Dropping {n_drop} rows ({pct:.2f}%) where mode='{mode}'\")"
   ]
  },
  {
   "cell_type": "code",
   "execution_count": 28,
   "id": "5fb8eee5",
   "metadata": {
    "execution": {
     "iopub.execute_input": "2025-08-05T15:32:02.590874Z",
     "iopub.status.busy": "2025-08-05T15:32:02.590355Z",
     "iopub.status.idle": "2025-08-05T15:32:02.597673Z",
     "shell.execute_reply": "2025-08-05T15:32:02.596846Z"
    },
    "papermill": {
     "duration": 0.028503,
     "end_time": "2025-08-05T15:32:02.599065",
     "exception": false,
     "start_time": "2025-08-05T15:32:02.570562",
     "status": "completed"
    },
    "tags": []
   },
   "outputs": [],
   "source": [
    "X_train = X_train[keep_mask]"
   ]
  },
  {
   "cell_type": "code",
   "execution_count": 29,
   "id": "b202bb3a",
   "metadata": {
    "execution": {
     "iopub.execute_input": "2025-08-05T15:32:02.623553Z",
     "iopub.status.busy": "2025-08-05T15:32:02.622726Z",
     "iopub.status.idle": "2025-08-05T15:32:02.627919Z",
     "shell.execute_reply": "2025-08-05T15:32:02.627167Z"
    },
    "papermill": {
     "duration": 0.018162,
     "end_time": "2025-08-05T15:32:02.629613",
     "exception": false,
     "start_time": "2025-08-05T15:32:02.611451",
     "status": "completed"
    },
    "tags": []
   },
   "outputs": [],
   "source": [
    "y_train = y_train[keep_mask]"
   ]
  },
  {
   "cell_type": "markdown",
   "id": "493e2ac3",
   "metadata": {
    "papermill": {
     "duration": 0.01015,
     "end_time": "2025-08-05T15:32:02.651148",
     "exception": false,
     "start_time": "2025-08-05T15:32:02.640998",
     "status": "completed"
    },
    "tags": []
   },
   "source": [
    "# Model Training"
   ]
  },
  {
   "cell_type": "code",
   "execution_count": 30,
   "id": "679e1268",
   "metadata": {
    "execution": {
     "iopub.execute_input": "2025-08-05T15:32:02.672580Z",
     "iopub.status.busy": "2025-08-05T15:32:02.671921Z",
     "iopub.status.idle": "2025-08-05T15:32:02.778321Z",
     "shell.execute_reply": "2025-08-05T15:32:02.777341Z"
    },
    "papermill": {
     "duration": 0.12557,
     "end_time": "2025-08-05T15:32:02.786525",
     "exception": false,
     "start_time": "2025-08-05T15:32:02.660955",
     "status": "completed"
    },
    "tags": []
   },
   "outputs": [],
   "source": [
    "from sklearn.linear_model import LogisticRegression\n",
    "from sklearn.ensemble import GradientBoostingClassifier, RandomForestClassifier\n",
    "\n",
    "if (universe[\"model\"] == \"logreg\"):\n",
    "    model = LogisticRegression() #penalty=\"none\", solver=\"newton-cg\", max_iter=1) # include random_state=19 ?\n",
    "elif (universe[\"model\"] == \"penalized_logreg\"):\n",
    "    model = LogisticRegression(penalty=\"l2\", C=0.1) #, solver=\"newton-cg\", max_iter=1)\n",
    "elif (universe[\"model\"] == \"rf\"):\n",
    "    model = RandomForestClassifier() # n_estimators=100, n_jobs=-1\n",
    "elif (universe[\"model\"] == \"gbm\"):\n",
    "    model = GradientBoostingClassifier()\n",
    "elif (universe[\"model\"] == \"elasticnet\"):\n",
    "    model = LogisticRegression(penalty = 'elasticnet', solver = 'saga', l1_ratio = 0.5) # max_iter=5000\n",
    "else:\n",
    "    raise \"Unsupported universe.model\""
   ]
  },
  {
   "cell_type": "code",
   "execution_count": 31,
   "id": "0cc8f744",
   "metadata": {
    "execution": {
     "iopub.execute_input": "2025-08-05T15:32:02.810286Z",
     "iopub.status.busy": "2025-08-05T15:32:02.809989Z",
     "iopub.status.idle": "2025-08-05T15:32:02.815299Z",
     "shell.execute_reply": "2025-08-05T15:32:02.814287Z"
    },
    "papermill": {
     "duration": 0.017951,
     "end_time": "2025-08-05T15:32:02.817270",
     "exception": false,
     "start_time": "2025-08-05T15:32:02.799319",
     "status": "completed"
    },
    "tags": []
   },
   "outputs": [],
   "source": [
    "import numpy as np\n",
    "from sklearn.pipeline import Pipeline\n",
    "from sklearn.preprocessing import StandardScaler\n",
    "\n",
    "model = Pipeline([\n",
    "    #(\"continuous_processor\", continuous_processor),\n",
    "    #(\"categorical_preprocessor\", categorical_preprocessor),\n",
    "    (\"scale\", StandardScaler() if universe[\"scale\"] == \"scale\" else None), \n",
    "    (\"model\", model),\n",
    "])"
   ]
  },
  {
   "cell_type": "code",
   "execution_count": 32,
   "id": "9442c04d",
   "metadata": {
    "execution": {
     "iopub.execute_input": "2025-08-05T15:32:02.857419Z",
     "iopub.status.busy": "2025-08-05T15:32:02.856917Z",
     "iopub.status.idle": "2025-08-05T15:32:07.404046Z",
     "shell.execute_reply": "2025-08-05T15:32:07.403135Z"
    },
    "papermill": {
     "duration": 4.563282,
     "end_time": "2025-08-05T15:32:07.405503",
     "exception": false,
     "start_time": "2025-08-05T15:32:02.842221",
     "status": "completed"
    },
    "tags": []
   },
   "outputs": [
    {
     "data": {
      "text/html": [
       "<style>#sk-container-id-1 {color: black;background-color: white;}#sk-container-id-1 pre{padding: 0;}#sk-container-id-1 div.sk-toggleable {background-color: white;}#sk-container-id-1 label.sk-toggleable__label {cursor: pointer;display: block;width: 100%;margin-bottom: 0;padding: 0.3em;box-sizing: border-box;text-align: center;}#sk-container-id-1 label.sk-toggleable__label-arrow:before {content: \"▸\";float: left;margin-right: 0.25em;color: #696969;}#sk-container-id-1 label.sk-toggleable__label-arrow:hover:before {color: black;}#sk-container-id-1 div.sk-estimator:hover label.sk-toggleable__label-arrow:before {color: black;}#sk-container-id-1 div.sk-toggleable__content {max-height: 0;max-width: 0;overflow: hidden;text-align: left;background-color: #f0f8ff;}#sk-container-id-1 div.sk-toggleable__content pre {margin: 0.2em;color: black;border-radius: 0.25em;background-color: #f0f8ff;}#sk-container-id-1 input.sk-toggleable__control:checked~div.sk-toggleable__content {max-height: 200px;max-width: 100%;overflow: auto;}#sk-container-id-1 input.sk-toggleable__control:checked~label.sk-toggleable__label-arrow:before {content: \"▾\";}#sk-container-id-1 div.sk-estimator input.sk-toggleable__control:checked~label.sk-toggleable__label {background-color: #d4ebff;}#sk-container-id-1 div.sk-label input.sk-toggleable__control:checked~label.sk-toggleable__label {background-color: #d4ebff;}#sk-container-id-1 input.sk-hidden--visually {border: 0;clip: rect(1px 1px 1px 1px);clip: rect(1px, 1px, 1px, 1px);height: 1px;margin: -1px;overflow: hidden;padding: 0;position: absolute;width: 1px;}#sk-container-id-1 div.sk-estimator {font-family: monospace;background-color: #f0f8ff;border: 1px dotted black;border-radius: 0.25em;box-sizing: border-box;margin-bottom: 0.5em;}#sk-container-id-1 div.sk-estimator:hover {background-color: #d4ebff;}#sk-container-id-1 div.sk-parallel-item::after {content: \"\";width: 100%;border-bottom: 1px solid gray;flex-grow: 1;}#sk-container-id-1 div.sk-label:hover label.sk-toggleable__label {background-color: #d4ebff;}#sk-container-id-1 div.sk-serial::before {content: \"\";position: absolute;border-left: 1px solid gray;box-sizing: border-box;top: 0;bottom: 0;left: 50%;z-index: 0;}#sk-container-id-1 div.sk-serial {display: flex;flex-direction: column;align-items: center;background-color: white;padding-right: 0.2em;padding-left: 0.2em;position: relative;}#sk-container-id-1 div.sk-item {position: relative;z-index: 1;}#sk-container-id-1 div.sk-parallel {display: flex;align-items: stretch;justify-content: center;background-color: white;position: relative;}#sk-container-id-1 div.sk-item::before, #sk-container-id-1 div.sk-parallel-item::before {content: \"\";position: absolute;border-left: 1px solid gray;box-sizing: border-box;top: 0;bottom: 0;left: 50%;z-index: -1;}#sk-container-id-1 div.sk-parallel-item {display: flex;flex-direction: column;z-index: 1;position: relative;background-color: white;}#sk-container-id-1 div.sk-parallel-item:first-child::after {align-self: flex-end;width: 50%;}#sk-container-id-1 div.sk-parallel-item:last-child::after {align-self: flex-start;width: 50%;}#sk-container-id-1 div.sk-parallel-item:only-child::after {width: 0;}#sk-container-id-1 div.sk-dashed-wrapped {border: 1px dashed gray;margin: 0 0.4em 0.5em 0.4em;box-sizing: border-box;padding-bottom: 0.4em;background-color: white;}#sk-container-id-1 div.sk-label label {font-family: monospace;font-weight: bold;display: inline-block;line-height: 1.2em;}#sk-container-id-1 div.sk-label-container {text-align: center;}#sk-container-id-1 div.sk-container {/* jupyter's `normalize.less` sets `[hidden] { display: none; }` but bootstrap.min.css set `[hidden] { display: none !important; }` so we also need the `!important` here to be able to override the default hidden behavior on the sphinx rendered scikit-learn.org. See: https://github.com/scikit-learn/scikit-learn/issues/21755 */display: inline-block !important;position: relative;}#sk-container-id-1 div.sk-text-repr-fallback {display: none;}</style><div id=\"sk-container-id-1\" class=\"sk-top-container\"><div class=\"sk-text-repr-fallback\"><pre>Pipeline(steps=[(&#x27;scale&#x27;, None), (&#x27;model&#x27;, GradientBoostingClassifier())])</pre><b>In a Jupyter environment, please rerun this cell to show the HTML representation or trust the notebook. <br />On GitHub, the HTML representation is unable to render, please try loading this page with nbviewer.org.</b></div><div class=\"sk-container\" hidden><div class=\"sk-item sk-dashed-wrapped\"><div class=\"sk-label-container\"><div class=\"sk-label sk-toggleable\"><input class=\"sk-toggleable__control sk-hidden--visually\" id=\"sk-estimator-id-1\" type=\"checkbox\" ><label for=\"sk-estimator-id-1\" class=\"sk-toggleable__label sk-toggleable__label-arrow\">Pipeline</label><div class=\"sk-toggleable__content\"><pre>Pipeline(steps=[(&#x27;scale&#x27;, None), (&#x27;model&#x27;, GradientBoostingClassifier())])</pre></div></div></div><div class=\"sk-serial\"><div class=\"sk-item\"><div class=\"sk-estimator sk-toggleable\"><input class=\"sk-toggleable__control sk-hidden--visually\" id=\"sk-estimator-id-2\" type=\"checkbox\" ><label for=\"sk-estimator-id-2\" class=\"sk-toggleable__label sk-toggleable__label-arrow\">None</label><div class=\"sk-toggleable__content\"><pre>None</pre></div></div></div><div class=\"sk-item\"><div class=\"sk-estimator sk-toggleable\"><input class=\"sk-toggleable__control sk-hidden--visually\" id=\"sk-estimator-id-3\" type=\"checkbox\" ><label for=\"sk-estimator-id-3\" class=\"sk-toggleable__label sk-toggleable__label-arrow\">GradientBoostingClassifier</label><div class=\"sk-toggleable__content\"><pre>GradientBoostingClassifier()</pre></div></div></div></div></div></div></div>"
      ],
      "text/plain": [
       "Pipeline(steps=[('scale', None), ('model', GradientBoostingClassifier())])"
      ]
     },
     "execution_count": 32,
     "metadata": {},
     "output_type": "execute_result"
    }
   ],
   "source": [
    "model.fit(X_train, y_train.values.ravel())"
   ]
  },
  {
   "cell_type": "code",
   "execution_count": 33,
   "id": "af59f8c0",
   "metadata": {
    "execution": {
     "iopub.execute_input": "2025-08-05T15:32:07.443739Z",
     "iopub.status.busy": "2025-08-05T15:32:07.443029Z",
     "iopub.status.idle": "2025-08-05T15:32:07.448150Z",
     "shell.execute_reply": "2025-08-05T15:32:07.447073Z"
    },
    "papermill": {
     "duration": 0.025699,
     "end_time": "2025-08-05T15:32:07.450224",
     "exception": false,
     "start_time": "2025-08-05T15:32:07.424525",
     "status": "completed"
    },
    "tags": []
   },
   "outputs": [],
   "source": [
    "from fairness_multiverse.universe import predict_w_threshold"
   ]
  },
  {
   "cell_type": "code",
   "execution_count": 34,
   "id": "a7cf2e16",
   "metadata": {
    "execution": {
     "iopub.execute_input": "2025-08-05T15:32:07.491453Z",
     "iopub.status.busy": "2025-08-05T15:32:07.490949Z",
     "iopub.status.idle": "2025-08-05T15:32:08.086560Z",
     "shell.execute_reply": "2025-08-05T15:32:08.085626Z"
    },
    "papermill": {
     "duration": 0.61791,
     "end_time": "2025-08-05T15:32:08.088204",
     "exception": false,
     "start_time": "2025-08-05T15:32:07.470294",
     "status": "completed"
    },
    "tags": []
   },
   "outputs": [
    {
     "data": {
      "text/plain": [
       "0.8663025303756549"
      ]
     },
     "execution_count": 34,
     "metadata": {},
     "output_type": "execute_result"
    }
   ],
   "source": [
    "probs_test = model.predict_proba(X_test)\n",
    "\n",
    "'''\n",
    "Below code returns a boolean array (or binary 0/1 array depending on how it’s used) where each element \n",
    "is True if the probability of class 1 is greater than or equal to the threshold, and False otherwise.\n",
    "'''\n",
    "y_pred_default = predict_w_threshold(probs_test, 0.5)\n",
    "\n",
    "from sklearn.metrics import accuracy_score\n",
    "\n",
    "# Naive prediction\n",
    "accuracy_score(y_true = y_true, y_pred = y_pred_default)"
   ]
  },
  {
   "cell_type": "code",
   "execution_count": 35,
   "id": "081964c3",
   "metadata": {
    "execution": {
     "iopub.execute_input": "2025-08-05T15:32:08.116601Z",
     "iopub.status.busy": "2025-08-05T15:32:08.116297Z",
     "iopub.status.idle": "2025-08-05T15:32:08.750524Z",
     "shell.execute_reply": "2025-08-05T15:32:08.749559Z"
    },
    "papermill": {
     "duration": 0.646347,
     "end_time": "2025-08-05T15:32:08.752191",
     "exception": false,
     "start_time": "2025-08-05T15:32:08.105844",
     "status": "completed"
    },
    "tags": []
   },
   "outputs": [
    {
     "data": {
      "text/plain": [
       "array([0, 0, 0, ..., 0, 0, 0])"
      ]
     },
     "execution_count": 35,
     "metadata": {},
     "output_type": "execute_result"
    }
   ],
   "source": [
    "model.predict(X_test)"
   ]
  },
  {
   "cell_type": "markdown",
   "id": "56c9705b",
   "metadata": {
    "papermill": {
     "duration": 0.020988,
     "end_time": "2025-08-05T15:32:08.795840",
     "exception": false,
     "start_time": "2025-08-05T15:32:08.774852",
     "status": "completed"
    },
    "tags": []
   },
   "source": [
    "# Conformal Prediction"
   ]
  },
  {
   "cell_type": "code",
   "execution_count": 36,
   "id": "160ec6ff",
   "metadata": {
    "execution": {
     "iopub.execute_input": "2025-08-05T15:32:08.840131Z",
     "iopub.status.busy": "2025-08-05T15:32:08.839435Z",
     "iopub.status.idle": "2025-08-05T15:32:08.845445Z",
     "shell.execute_reply": "2025-08-05T15:32:08.844472Z"
    },
    "papermill": {
     "duration": 0.029756,
     "end_time": "2025-08-05T15:32:08.847405",
     "exception": false,
     "start_time": "2025-08-05T15:32:08.817649",
     "status": "completed"
    },
    "tags": []
   },
   "outputs": [],
   "source": [
    "# Miscoverage level for conformal prediction (10% allowed error rate => 90% target coverage)\n",
    "alpha = 0.1"
   ]
  },
  {
   "cell_type": "code",
   "execution_count": 37,
   "id": "eadf4555-3dd3-440e-8e35-f82a4ad9f855",
   "metadata": {
    "execution": {
     "iopub.execute_input": "2025-08-05T15:32:08.890609Z",
     "iopub.status.busy": "2025-08-05T15:32:08.890189Z",
     "iopub.status.idle": "2025-08-05T15:32:09.543776Z",
     "shell.execute_reply": "2025-08-05T15:32:09.542845Z"
    },
    "papermill": {
     "duration": 0.675801,
     "end_time": "2025-08-05T15:32:09.545618",
     "exception": false,
     "start_time": "2025-08-05T15:32:08.869817",
     "status": "completed"
    },
    "tags": []
   },
   "outputs": [],
   "source": [
    "probs_calib = model.predict_proba(X_calib)"
   ]
  },
  {
   "cell_type": "code",
   "execution_count": 38,
   "id": "2ed93547-6d5d-4983-9b36-1ecb300da49a",
   "metadata": {
    "execution": {
     "iopub.execute_input": "2025-08-05T15:32:09.588284Z",
     "iopub.status.busy": "2025-08-05T15:32:09.587718Z",
     "iopub.status.idle": "2025-08-05T15:32:09.593416Z",
     "shell.execute_reply": "2025-08-05T15:32:09.592421Z"
    },
    "papermill": {
     "duration": 0.027581,
     "end_time": "2025-08-05T15:32:09.595436",
     "exception": false,
     "start_time": "2025-08-05T15:32:09.567855",
     "status": "completed"
    },
    "tags": []
   },
   "outputs": [],
   "source": [
    "y_calib = y_calib.values.ravel().astype(int)"
   ]
  },
  {
   "cell_type": "code",
   "execution_count": 39,
   "id": "65d1320d-f588-4b38-9072-62af1ae97f7d",
   "metadata": {
    "execution": {
     "iopub.execute_input": "2025-08-05T15:32:09.636641Z",
     "iopub.status.busy": "2025-08-05T15:32:09.636337Z",
     "iopub.status.idle": "2025-08-05T15:32:09.642972Z",
     "shell.execute_reply": "2025-08-05T15:32:09.642034Z"
    },
    "papermill": {
     "duration": 0.029351,
     "end_time": "2025-08-05T15:32:09.644539",
     "exception": false,
     "start_time": "2025-08-05T15:32:09.615188",
     "status": "completed"
    },
    "tags": []
   },
   "outputs": [],
   "source": [
    "from fairness_multiverse.conformal import compute_nc_scores\n",
    "\n",
    "# Compute nonconformity scores on calibration set (1 - probability of true class)\n",
    "nc_scores = compute_nc_scores(probs_calib, y_calib)"
   ]
  },
  {
   "cell_type": "code",
   "execution_count": 40,
   "id": "df3b8ca3-53b7-43d5-9667-7c85da7aeda2",
   "metadata": {
    "execution": {
     "iopub.execute_input": "2025-08-05T15:32:09.687443Z",
     "iopub.status.busy": "2025-08-05T15:32:09.685032Z",
     "iopub.status.idle": "2025-08-05T15:32:09.693407Z",
     "shell.execute_reply": "2025-08-05T15:32:09.692276Z"
    },
    "papermill": {
     "duration": 0.030442,
     "end_time": "2025-08-05T15:32:09.695397",
     "exception": false,
     "start_time": "2025-08-05T15:32:09.664955",
     "status": "completed"
    },
    "tags": []
   },
   "outputs": [],
   "source": [
    "from fairness_multiverse.conformal import find_threshold\n",
    "\n",
    "# Find conformal threshold q_hat for the given alpha (split conformal method)\n",
    "q_hat = find_threshold(nc_scores, alpha)"
   ]
  },
  {
   "cell_type": "code",
   "execution_count": 41,
   "id": "4d29e6c1-0ef6-4aa4-b8fe-4fe79b0d033a",
   "metadata": {
    "execution": {
     "iopub.execute_input": "2025-08-05T15:32:09.739158Z",
     "iopub.status.busy": "2025-08-05T15:32:09.738671Z",
     "iopub.status.idle": "2025-08-05T15:32:09.746115Z",
     "shell.execute_reply": "2025-08-05T15:32:09.744864Z"
    },
    "papermill": {
     "duration": 0.030177,
     "end_time": "2025-08-05T15:32:09.747892",
     "exception": false,
     "start_time": "2025-08-05T15:32:09.717715",
     "status": "completed"
    },
    "tags": []
   },
   "outputs": [
    {
     "data": {
      "text/plain": [
       "0.6894577263215058"
      ]
     },
     "execution_count": 41,
     "metadata": {},
     "output_type": "execute_result"
    }
   ],
   "source": [
    "q_hat"
   ]
  },
  {
   "cell_type": "code",
   "execution_count": 42,
   "id": "92460794-cdac-4be2-ba28-f28c0515a6fb",
   "metadata": {
    "execution": {
     "iopub.execute_input": "2025-08-05T15:32:09.791641Z",
     "iopub.status.busy": "2025-08-05T15:32:09.791250Z",
     "iopub.status.idle": "2025-08-05T15:32:10.967810Z",
     "shell.execute_reply": "2025-08-05T15:32:10.966759Z"
    },
    "papermill": {
     "duration": 1.200791,
     "end_time": "2025-08-05T15:32:10.969986",
     "exception": false,
     "start_time": "2025-08-05T15:32:09.769195",
     "status": "completed"
    },
    "tags": []
   },
   "outputs": [],
   "source": [
    "from fairness_multiverse.conformal import predict_conformal_sets\n",
    "\n",
    "# Generate prediction sets for each test example\n",
    "pred_sets = predict_conformal_sets(model, X_test, q_hat)"
   ]
  },
  {
   "cell_type": "code",
   "execution_count": 43,
   "id": "d90c9a65-e6db-4f5d-80cd-e68fb7e46829",
   "metadata": {
    "execution": {
     "iopub.execute_input": "2025-08-05T15:32:11.021446Z",
     "iopub.status.busy": "2025-08-05T15:32:11.020758Z",
     "iopub.status.idle": "2025-08-05T15:32:11.026608Z",
     "shell.execute_reply": "2025-08-05T15:32:11.025497Z"
    },
    "papermill": {
     "duration": 0.033562,
     "end_time": "2025-08-05T15:32:11.028640",
     "exception": false,
     "start_time": "2025-08-05T15:32:10.995078",
     "status": "completed"
    },
    "tags": []
   },
   "outputs": [],
   "source": [
    "y_true = y_true.squeeze()"
   ]
  },
  {
   "cell_type": "code",
   "execution_count": 44,
   "id": "3a58a54a-1e68-46b9-927a-df01f18aebc8",
   "metadata": {
    "execution": {
     "iopub.execute_input": "2025-08-05T15:32:11.078829Z",
     "iopub.status.busy": "2025-08-05T15:32:11.078148Z",
     "iopub.status.idle": "2025-08-05T15:32:11.957416Z",
     "shell.execute_reply": "2025-08-05T15:32:11.956517Z"
    },
    "papermill": {
     "duration": 0.906092,
     "end_time": "2025-08-05T15:32:11.959585",
     "exception": false,
     "start_time": "2025-08-05T15:32:11.053493",
     "status": "completed"
    },
    "tags": []
   },
   "outputs": [],
   "source": [
    "from fairness_multiverse.conformal import evaluate_sets\n",
    "\n",
    "# Evaluate coverage and average set size on test data\n",
    "metrics = evaluate_sets(pred_sets, y_true)"
   ]
  },
  {
   "cell_type": "markdown",
   "id": "2b569c12-9aaa-4c88-98c9-bbcd0cf3ebb8",
   "metadata": {
    "papermill": {
     "duration": 0.018637,
     "end_time": "2025-08-05T15:32:11.998308",
     "exception": false,
     "start_time": "2025-08-05T15:32:11.979671",
     "status": "completed"
    },
    "tags": []
   },
   "source": [
    "# CP Metrics"
   ]
  },
  {
   "cell_type": "code",
   "execution_count": 45,
   "id": "5ce0a5cb-201f-45a0-ade5-94c7f0bd6095",
   "metadata": {
    "execution": {
     "iopub.execute_input": "2025-08-05T15:32:12.039626Z",
     "iopub.status.busy": "2025-08-05T15:32:12.038936Z",
     "iopub.status.idle": "2025-08-05T15:32:12.046156Z",
     "shell.execute_reply": "2025-08-05T15:32:12.045068Z"
    },
    "papermill": {
     "duration": 0.030021,
     "end_time": "2025-08-05T15:32:12.048154",
     "exception": false,
     "start_time": "2025-08-05T15:32:12.018133",
     "status": "completed"
    },
    "tags": []
   },
   "outputs": [
    {
     "data": {
      "text/plain": [
       "{'coverage': 0.9099877382677516, 'avg_size': 1.1205662690892877}"
      ]
     },
     "execution_count": 45,
     "metadata": {},
     "output_type": "execute_result"
    }
   ],
   "source": [
    "metrics"
   ]
  },
  {
   "cell_type": "code",
   "execution_count": 46,
   "id": "9b9a838d-31c9-430b-ae14-12baee460d17",
   "metadata": {
    "execution": {
     "iopub.execute_input": "2025-08-05T15:32:12.090068Z",
     "iopub.status.busy": "2025-08-05T15:32:12.089335Z",
     "iopub.status.idle": "2025-08-05T15:32:12.095249Z",
     "shell.execute_reply": "2025-08-05T15:32:12.094312Z"
    },
    "papermill": {
     "duration": 0.028118,
     "end_time": "2025-08-05T15:32:12.097123",
     "exception": false,
     "start_time": "2025-08-05T15:32:12.069005",
     "status": "completed"
    },
    "tags": []
   },
   "outputs": [],
   "source": [
    "example_universe = universe.copy()\n",
    "universe_training_year = example_universe.get(\"training_year\")\n",
    "universe_training_size = example_universe.get(\"training_size\")\n",
    "universe_scale = example_universe.get(\"scale\")\n",
    "universe_model = example_universe.get(\"model\")\n",
    "universe_exclude_features = example_universe.get(\"exclude_features\")\n",
    "universe_exclude_subgroups = example_universe.get(\"exclude_subgroups\")"
   ]
  },
  {
   "cell_type": "code",
   "execution_count": 47,
   "id": "f4b6a8ac-9dc0-4245-8a91-5b3b5999c4f9",
   "metadata": {
    "execution": {
     "iopub.execute_input": "2025-08-05T15:32:12.139195Z",
     "iopub.status.busy": "2025-08-05T15:32:12.138599Z",
     "iopub.status.idle": "2025-08-05T15:32:12.144770Z",
     "shell.execute_reply": "2025-08-05T15:32:12.143845Z"
    },
    "papermill": {
     "duration": 0.037004,
     "end_time": "2025-08-05T15:32:12.155087",
     "exception": false,
     "start_time": "2025-08-05T15:32:12.118083",
     "status": "completed"
    },
    "tags": []
   },
   "outputs": [],
   "source": [
    "cp_metrics_dict = {\n",
    "    \"universe_id\": [universe_id],\n",
    "    \"universe_training_year\": [universe_training_year],\n",
    "    \"universe_training_size\": [universe_training_size],\n",
    "    \"universe_scale\": [universe_scale],\n",
    "    \"universe_model\": [universe_model],\n",
    "    \"universe_exclude_features\": [universe_exclude_features],\n",
    "    \"universe_exclude_subgroups\": [universe_exclude_subgroups],\n",
    "    \"q_hat\": [q_hat],\n",
    "    \"coverage\": [metrics[\"coverage\"]],\n",
    "    \"avg_size\": [metrics[\"avg_size\"]],\n",
    "}"
   ]
  },
  {
   "cell_type": "code",
   "execution_count": 48,
   "id": "908acbb1-0371-4915-85ca-3fa520d2efe2",
   "metadata": {
    "execution": {
     "iopub.execute_input": "2025-08-05T15:32:12.202511Z",
     "iopub.status.busy": "2025-08-05T15:32:12.201709Z",
     "iopub.status.idle": "2025-08-05T15:32:12.208673Z",
     "shell.execute_reply": "2025-08-05T15:32:12.207555Z"
    },
    "papermill": {
     "duration": 0.030337,
     "end_time": "2025-08-05T15:32:12.210484",
     "exception": false,
     "start_time": "2025-08-05T15:32:12.180147",
     "status": "completed"
    },
    "tags": []
   },
   "outputs": [
    {
     "data": {
      "text/plain": [
       "{'universe_id': ['9494386297ba0c316d616ad599445760'],\n",
       " 'universe_training_year': ['2014'],\n",
       " 'universe_training_size': ['5k'],\n",
       " 'universe_scale': ['do-not-scale'],\n",
       " 'universe_model': ['gbm'],\n",
       " 'universe_exclude_features': ['sex'],\n",
       " 'universe_exclude_subgroups': ['drop-non-german'],\n",
       " 'q_hat': [0.6894577263215058],\n",
       " 'coverage': [0.9099877382677516],\n",
       " 'avg_size': [1.1205662690892877]}"
      ]
     },
     "execution_count": 48,
     "metadata": {},
     "output_type": "execute_result"
    }
   ],
   "source": [
    "cp_metrics_dict"
   ]
  },
  {
   "cell_type": "code",
   "execution_count": 49,
   "id": "33007efc-14e9-4ec6-97ac-56a455c82265",
   "metadata": {
    "execution": {
     "iopub.execute_input": "2025-08-05T15:32:12.252481Z",
     "iopub.status.busy": "2025-08-05T15:32:12.252192Z",
     "iopub.status.idle": "2025-08-05T15:32:12.257251Z",
     "shell.execute_reply": "2025-08-05T15:32:12.256285Z"
    },
    "papermill": {
     "duration": 0.028089,
     "end_time": "2025-08-05T15:32:12.259103",
     "exception": false,
     "start_time": "2025-08-05T15:32:12.231014",
     "status": "completed"
    },
    "tags": []
   },
   "outputs": [],
   "source": [
    "cp_metrics_df = pd.DataFrame(cp_metrics_dict)"
   ]
  },
  {
   "cell_type": "code",
   "execution_count": 50,
   "id": "db12611b-57b2-4910-b9d0-355adfd6e7bf",
   "metadata": {
    "execution": {
     "iopub.execute_input": "2025-08-05T15:32:12.302752Z",
     "iopub.status.busy": "2025-08-05T15:32:12.302059Z",
     "iopub.status.idle": "2025-08-05T15:32:12.319201Z",
     "shell.execute_reply": "2025-08-05T15:32:12.318330Z"
    },
    "papermill": {
     "duration": 0.039984,
     "end_time": "2025-08-05T15:32:12.320676",
     "exception": false,
     "start_time": "2025-08-05T15:32:12.280692",
     "status": "completed"
    },
    "tags": []
   },
   "outputs": [
    {
     "data": {
      "text/html": [
       "<div>\n",
       "<style scoped>\n",
       "    .dataframe tbody tr th:only-of-type {\n",
       "        vertical-align: middle;\n",
       "    }\n",
       "\n",
       "    .dataframe tbody tr th {\n",
       "        vertical-align: top;\n",
       "    }\n",
       "\n",
       "    .dataframe thead th {\n",
       "        text-align: right;\n",
       "    }\n",
       "</style>\n",
       "<table border=\"1\" class=\"dataframe\">\n",
       "  <thead>\n",
       "    <tr style=\"text-align: right;\">\n",
       "      <th></th>\n",
       "      <th>universe_id</th>\n",
       "      <th>universe_training_year</th>\n",
       "      <th>universe_training_size</th>\n",
       "      <th>universe_scale</th>\n",
       "      <th>universe_model</th>\n",
       "      <th>universe_exclude_features</th>\n",
       "      <th>universe_exclude_subgroups</th>\n",
       "      <th>q_hat</th>\n",
       "      <th>coverage</th>\n",
       "      <th>avg_size</th>\n",
       "    </tr>\n",
       "  </thead>\n",
       "  <tbody>\n",
       "    <tr>\n",
       "      <th>0</th>\n",
       "      <td>9494386297ba0c316d616ad599445760</td>\n",
       "      <td>2014</td>\n",
       "      <td>5k</td>\n",
       "      <td>do-not-scale</td>\n",
       "      <td>gbm</td>\n",
       "      <td>sex</td>\n",
       "      <td>drop-non-german</td>\n",
       "      <td>0.689458</td>\n",
       "      <td>0.909988</td>\n",
       "      <td>1.120566</td>\n",
       "    </tr>\n",
       "  </tbody>\n",
       "</table>\n",
       "</div>"
      ],
      "text/plain": [
       "                        universe_id universe_training_year  \\\n",
       "0  9494386297ba0c316d616ad599445760                   2014   \n",
       "\n",
       "  universe_training_size universe_scale universe_model  \\\n",
       "0                     5k   do-not-scale            gbm   \n",
       "\n",
       "  universe_exclude_features universe_exclude_subgroups     q_hat  coverage  \\\n",
       "0                       sex            drop-non-german  0.689458  0.909988   \n",
       "\n",
       "   avg_size  \n",
       "0  1.120566  "
      ]
     },
     "execution_count": 50,
     "metadata": {},
     "output_type": "execute_result"
    }
   ],
   "source": [
    "cp_metrics_df"
   ]
  },
  {
   "cell_type": "code",
   "execution_count": 51,
   "id": "b7fbde55-a0a1-47e4-9af6-fe4a17fa8c61",
   "metadata": {
    "execution": {
     "iopub.execute_input": "2025-08-05T15:32:12.364178Z",
     "iopub.status.busy": "2025-08-05T15:32:12.363843Z",
     "iopub.status.idle": "2025-08-05T15:32:12.372443Z",
     "shell.execute_reply": "2025-08-05T15:32:12.371558Z"
    },
    "papermill": {
     "duration": 0.031726,
     "end_time": "2025-08-05T15:32:12.374171",
     "exception": false,
     "start_time": "2025-08-05T15:32:12.342445",
     "status": "completed"
    },
    "tags": []
   },
   "outputs": [],
   "source": [
    "# Conditional Coverage & looking at subgroups"
   ]
  },
  {
   "cell_type": "code",
   "execution_count": 52,
   "id": "027ae886-68dd-4141-96c7-805a5450e1ef",
   "metadata": {
    "execution": {
     "iopub.execute_input": "2025-08-05T15:32:12.418731Z",
     "iopub.status.busy": "2025-08-05T15:32:12.418301Z",
     "iopub.status.idle": "2025-08-05T15:32:12.665458Z",
     "shell.execute_reply": "2025-08-05T15:32:12.664504Z"
    },
    "papermill": {
     "duration": 0.27114,
     "end_time": "2025-08-05T15:32:12.667128",
     "exception": false,
     "start_time": "2025-08-05T15:32:12.395988",
     "status": "completed"
    },
    "tags": []
   },
   "outputs": [],
   "source": [
    "from fairness_multiverse.conformal import build_cp_groups\n",
    "\n",
    "cp_groups_df = build_cp_groups(pred_sets, y_true, X_test.index, org_test)\n",
    "#needs universe_id and setting"
   ]
  },
  {
   "cell_type": "code",
   "execution_count": 53,
   "id": "6cbdab96-b2b2-45af-ad54-d0516db2e28d",
   "metadata": {
    "execution": {
     "iopub.execute_input": "2025-08-05T15:32:12.713493Z",
     "iopub.status.busy": "2025-08-05T15:32:12.713015Z",
     "iopub.status.idle": "2025-08-05T15:32:13.843311Z",
     "shell.execute_reply": "2025-08-05T15:32:13.842518Z"
    },
    "papermill": {
     "duration": 1.157918,
     "end_time": "2025-08-05T15:32:13.844786",
     "exception": false,
     "start_time": "2025-08-05T15:32:12.686868",
     "status": "completed"
    },
    "tags": []
   },
   "outputs": [],
   "source": [
    "# Define covered = 1 if true_label is in the predicted set\n",
    "cp_groups_df['covered'] = cp_groups_df.apply(\n",
    "    lambda r: int(r['true_label'] in r['pred_set']),\n",
    "    axis=1\n",
    ")"
   ]
  },
  {
   "cell_type": "code",
   "execution_count": 54,
   "id": "338ff529-1a6b-4b87-a931-8e4788d52aad",
   "metadata": {
    "execution": {
     "iopub.execute_input": "2025-08-05T15:32:13.869380Z",
     "iopub.status.busy": "2025-08-05T15:32:13.868817Z",
     "iopub.status.idle": "2025-08-05T15:32:13.873287Z",
     "shell.execute_reply": "2025-08-05T15:32:13.872413Z"
    },
    "papermill": {
     "duration": 0.018484,
     "end_time": "2025-08-05T15:32:13.874969",
     "exception": false,
     "start_time": "2025-08-05T15:32:13.856485",
     "status": "completed"
    },
    "tags": []
   },
   "outputs": [],
   "source": [
    "#cp_groups_df"
   ]
  },
  {
   "cell_type": "code",
   "execution_count": 55,
   "id": "90032e27-66df-4540-9169-4e89cfbaa758",
   "metadata": {
    "execution": {
     "iopub.execute_input": "2025-08-05T15:32:13.900994Z",
     "iopub.status.busy": "2025-08-05T15:32:13.900226Z",
     "iopub.status.idle": "2025-08-05T15:32:13.910356Z",
     "shell.execute_reply": "2025-08-05T15:32:13.909543Z"
    },
    "papermill": {
     "duration": 0.023675,
     "end_time": "2025-08-05T15:32:13.911788",
     "exception": false,
     "start_time": "2025-08-05T15:32:13.888113",
     "status": "completed"
    },
    "tags": []
   },
   "outputs": [],
   "source": [
    "subgroups = ['frau1','nongerman','nongerman_male','nongerman_female']\n",
    "\n",
    "# Conditional coverage for subgroup==1\n",
    "cond_coverage = {\n",
    "    g: cp_groups_df.loc[cp_groups_df[g]==1, 'covered'].mean()\n",
    "    for g in subgroups\n",
    "}"
   ]
  },
  {
   "cell_type": "code",
   "execution_count": 56,
   "id": "1e348fb1-b9c3-45bc-ba23-f016827a7e0d",
   "metadata": {
    "execution": {
     "iopub.execute_input": "2025-08-05T15:32:13.936553Z",
     "iopub.status.busy": "2025-08-05T15:32:13.935867Z",
     "iopub.status.idle": "2025-08-05T15:32:13.942433Z",
     "shell.execute_reply": "2025-08-05T15:32:13.941529Z"
    },
    "papermill": {
     "duration": 0.02003,
     "end_time": "2025-08-05T15:32:13.944094",
     "exception": false,
     "start_time": "2025-08-05T15:32:13.924064",
     "status": "completed"
    },
    "tags": []
   },
   "outputs": [
    {
     "data": {
      "text/plain": [
       "{'frau1': 0.9087478096778542,\n",
       " 'nongerman': 0.9088867680907202,\n",
       " 'nongerman_male': 0.924614968927317,\n",
       " 'nongerman_female': 0.8828614008941877}"
      ]
     },
     "execution_count": 56,
     "metadata": {},
     "output_type": "execute_result"
    }
   ],
   "source": [
    "cond_coverage"
   ]
  },
  {
   "cell_type": "code",
   "execution_count": 57,
   "id": "f5093324-c3dd-4d63-bc4c-8d945e5c8bbb",
   "metadata": {
    "execution": {
     "iopub.execute_input": "2025-08-05T15:32:13.970328Z",
     "iopub.status.busy": "2025-08-05T15:32:13.969753Z",
     "iopub.status.idle": "2025-08-05T15:32:13.976416Z",
     "shell.execute_reply": "2025-08-05T15:32:13.975521Z"
    },
    "papermill": {
     "duration": 0.020949,
     "end_time": "2025-08-05T15:32:13.978136",
     "exception": false,
     "start_time": "2025-08-05T15:32:13.957187",
     "status": "completed"
    },
    "tags": []
   },
   "outputs": [],
   "source": [
    "for subgroup, cov in cond_coverage.items():\n",
    "    cp_metrics_df[f\"cov_{subgroup}\"] = cov"
   ]
  },
  {
   "cell_type": "code",
   "execution_count": 58,
   "id": "6e872e10-dbe5-49e8-b554-5030c98ff75d",
   "metadata": {
    "execution": {
     "iopub.execute_input": "2025-08-05T15:32:14.011855Z",
     "iopub.status.busy": "2025-08-05T15:32:14.011101Z",
     "iopub.status.idle": "2025-08-05T15:32:14.033295Z",
     "shell.execute_reply": "2025-08-05T15:32:14.031821Z"
    },
    "papermill": {
     "duration": 0.041642,
     "end_time": "2025-08-05T15:32:14.035411",
     "exception": false,
     "start_time": "2025-08-05T15:32:13.993769",
     "status": "completed"
    },
    "tags": []
   },
   "outputs": [
    {
     "data": {
      "text/html": [
       "<div>\n",
       "<style scoped>\n",
       "    .dataframe tbody tr th:only-of-type {\n",
       "        vertical-align: middle;\n",
       "    }\n",
       "\n",
       "    .dataframe tbody tr th {\n",
       "        vertical-align: top;\n",
       "    }\n",
       "\n",
       "    .dataframe thead th {\n",
       "        text-align: right;\n",
       "    }\n",
       "</style>\n",
       "<table border=\"1\" class=\"dataframe\">\n",
       "  <thead>\n",
       "    <tr style=\"text-align: right;\">\n",
       "      <th></th>\n",
       "      <th>universe_id</th>\n",
       "      <th>universe_training_year</th>\n",
       "      <th>universe_training_size</th>\n",
       "      <th>universe_scale</th>\n",
       "      <th>universe_model</th>\n",
       "      <th>universe_exclude_features</th>\n",
       "      <th>universe_exclude_subgroups</th>\n",
       "      <th>q_hat</th>\n",
       "      <th>coverage</th>\n",
       "      <th>avg_size</th>\n",
       "      <th>cov_frau1</th>\n",
       "      <th>cov_nongerman</th>\n",
       "      <th>cov_nongerman_male</th>\n",
       "      <th>cov_nongerman_female</th>\n",
       "    </tr>\n",
       "  </thead>\n",
       "  <tbody>\n",
       "    <tr>\n",
       "      <th>0</th>\n",
       "      <td>9494386297ba0c316d616ad599445760</td>\n",
       "      <td>2014</td>\n",
       "      <td>5k</td>\n",
       "      <td>do-not-scale</td>\n",
       "      <td>gbm</td>\n",
       "      <td>sex</td>\n",
       "      <td>drop-non-german</td>\n",
       "      <td>0.689458</td>\n",
       "      <td>0.909988</td>\n",
       "      <td>1.120566</td>\n",
       "      <td>0.908748</td>\n",
       "      <td>0.908887</td>\n",
       "      <td>0.924615</td>\n",
       "      <td>0.882861</td>\n",
       "    </tr>\n",
       "  </tbody>\n",
       "</table>\n",
       "</div>"
      ],
      "text/plain": [
       "                        universe_id universe_training_year  \\\n",
       "0  9494386297ba0c316d616ad599445760                   2014   \n",
       "\n",
       "  universe_training_size universe_scale universe_model  \\\n",
       "0                     5k   do-not-scale            gbm   \n",
       "\n",
       "  universe_exclude_features universe_exclude_subgroups     q_hat  coverage  \\\n",
       "0                       sex            drop-non-german  0.689458  0.909988   \n",
       "\n",
       "   avg_size  cov_frau1  cov_nongerman  cov_nongerman_male  \\\n",
       "0  1.120566   0.908748       0.908887            0.924615   \n",
       "\n",
       "   cov_nongerman_female  \n",
       "0              0.882861  "
      ]
     },
     "execution_count": 58,
     "metadata": {},
     "output_type": "execute_result"
    }
   ],
   "source": [
    "cp_metrics_df"
   ]
  },
  {
   "cell_type": "markdown",
   "id": "33774451",
   "metadata": {
    "papermill": {
     "duration": 0.023209,
     "end_time": "2025-08-05T15:32:14.082937",
     "exception": false,
     "start_time": "2025-08-05T15:32:14.059728",
     "status": "completed"
    },
    "tags": []
   },
   "source": [
    "# (Fairness) Metrics"
   ]
  },
  {
   "cell_type": "code",
   "execution_count": 59,
   "id": "debc5d62",
   "metadata": {
    "execution": {
     "iopub.execute_input": "2025-08-05T15:32:14.131603Z",
     "iopub.status.busy": "2025-08-05T15:32:14.130593Z",
     "iopub.status.idle": "2025-08-05T15:32:14.153839Z",
     "shell.execute_reply": "2025-08-05T15:32:14.152801Z"
    },
    "papermill": {
     "duration": 0.049919,
     "end_time": "2025-08-05T15:32:14.155892",
     "exception": false,
     "start_time": "2025-08-05T15:32:14.105973",
     "status": "completed"
    },
    "tags": []
   },
   "outputs": [],
   "source": [
    "# do I need to include maxdeutsch1.missing?\n",
    "\n",
    "import numpy as np\n",
    "\n",
    "colname_to_bin = \"maxdeutsch1\"\n",
    "majority_value = org_train[colname_to_bin].mode()[0]\n",
    "\n",
    "org_test[\"majmin\"] = np.where(org_test[colname_to_bin] == majority_value, \"majority\", \"minority\")"
   ]
  },
  {
   "cell_type": "code",
   "execution_count": 60,
   "id": "06a50de5",
   "metadata": {
    "execution": {
     "iopub.execute_input": "2025-08-05T15:32:14.203503Z",
     "iopub.status.busy": "2025-08-05T15:32:14.202990Z",
     "iopub.status.idle": "2025-08-05T15:32:16.786377Z",
     "shell.execute_reply": "2025-08-05T15:32:16.785450Z"
    },
    "papermill": {
     "duration": 2.609112,
     "end_time": "2025-08-05T15:32:16.788117",
     "exception": false,
     "start_time": "2025-08-05T15:32:14.179005",
     "status": "completed"
    },
    "tags": []
   },
   "outputs": [],
   "source": [
    "example_universe = universe.copy()\n",
    "example_universe[\"cutoff\"] = example_universe[\"cutoff\"][0]\n",
    "example_universe[\"eval_fairness_grouping\"] = example_universe[\"eval_fairness_grouping\"][0]\n",
    "fairness_dict, metric_frame = universe_analysis.compute_metrics(\n",
    "    example_universe,\n",
    "    y_pred_prob=probs_test,\n",
    "    y_test=y_true,\n",
    "    org_test=org_test,\n",
    ")"
   ]
  },
  {
   "cell_type": "markdown",
   "id": "f95d4e02",
   "metadata": {
    "papermill": {
     "duration": 0.023412,
     "end_time": "2025-08-05T15:32:16.836280",
     "exception": false,
     "start_time": "2025-08-05T15:32:16.812868",
     "status": "completed"
    },
    "tags": []
   },
   "source": [
    "# Overall"
   ]
  },
  {
   "cell_type": "markdown",
   "id": "bdee4871",
   "metadata": {
    "papermill": {
     "duration": 0.023092,
     "end_time": "2025-08-05T15:32:16.882221",
     "exception": false,
     "start_time": "2025-08-05T15:32:16.859129",
     "status": "completed"
    },
    "tags": []
   },
   "source": [
    "Fairness\n",
    "Main fairness target: Equalized Odds. Seems to be a better fit than equal opportunity, since we're not only interested in Y = 1. Seems to be a better fit than demographic parity, since we also care about accuracy, not just equal distribution of preds.\n",
    "\n",
    "Pick column for computation of fairness metrics\n",
    "\n",
    "Performance\n",
    "Overall performance measures, most interesting in relation to the measures split by group below"
   ]
  },
  {
   "cell_type": "code",
   "execution_count": 61,
   "id": "c4e067c6",
   "metadata": {
    "execution": {
     "iopub.execute_input": "2025-08-05T15:32:16.928539Z",
     "iopub.status.busy": "2025-08-05T15:32:16.928165Z",
     "iopub.status.idle": "2025-08-05T15:32:16.936603Z",
     "shell.execute_reply": "2025-08-05T15:32:16.935404Z"
    },
    "papermill": {
     "duration": 0.033802,
     "end_time": "2025-08-05T15:32:16.938571",
     "exception": false,
     "start_time": "2025-08-05T15:32:16.904769",
     "status": "completed"
    },
    "tags": []
   },
   "outputs": [
    {
     "data": {
      "text/plain": [
       "accuracy                   0.224512\n",
       "balanced accuracy          0.548935\n",
       "f1                         0.245840\n",
       "precision                  0.140440\n",
       "false positive rate        0.887445\n",
       "false negative rate        0.014685\n",
       "selection rate             0.900000\n",
       "count                  89710.000000\n",
       "dtype: float64"
      ]
     },
     "execution_count": 61,
     "metadata": {},
     "output_type": "execute_result"
    }
   ],
   "source": [
    "metric_frame.overall"
   ]
  },
  {
   "cell_type": "markdown",
   "id": "e968fe9d",
   "metadata": {
    "papermill": {
     "duration": 0.022446,
     "end_time": "2025-08-05T15:32:16.984616",
     "exception": false,
     "start_time": "2025-08-05T15:32:16.962170",
     "status": "completed"
    },
    "tags": []
   },
   "source": [
    "By Group"
   ]
  },
  {
   "cell_type": "code",
   "execution_count": 62,
   "id": "ec325bce",
   "metadata": {
    "execution": {
     "iopub.execute_input": "2025-08-05T15:32:17.034080Z",
     "iopub.status.busy": "2025-08-05T15:32:17.033617Z",
     "iopub.status.idle": "2025-08-05T15:32:17.049325Z",
     "shell.execute_reply": "2025-08-05T15:32:17.048134Z"
    },
    "papermill": {
     "duration": 0.044708,
     "end_time": "2025-08-05T15:32:17.051302",
     "exception": false,
     "start_time": "2025-08-05T15:32:17.006594",
     "status": "completed"
    },
    "tags": []
   },
   "outputs": [
    {
     "data": {
      "text/html": [
       "<div>\n",
       "<style scoped>\n",
       "    .dataframe tbody tr th:only-of-type {\n",
       "        vertical-align: middle;\n",
       "    }\n",
       "\n",
       "    .dataframe tbody tr th {\n",
       "        vertical-align: top;\n",
       "    }\n",
       "\n",
       "    .dataframe thead th {\n",
       "        text-align: right;\n",
       "    }\n",
       "</style>\n",
       "<table border=\"1\" class=\"dataframe\">\n",
       "  <thead>\n",
       "    <tr style=\"text-align: right;\">\n",
       "      <th></th>\n",
       "      <th>accuracy</th>\n",
       "      <th>balanced accuracy</th>\n",
       "      <th>f1</th>\n",
       "      <th>precision</th>\n",
       "      <th>false positive rate</th>\n",
       "      <th>false negative rate</th>\n",
       "      <th>selection rate</th>\n",
       "      <th>count</th>\n",
       "    </tr>\n",
       "    <tr>\n",
       "      <th>majmin</th>\n",
       "      <th></th>\n",
       "      <th></th>\n",
       "      <th></th>\n",
       "      <th></th>\n",
       "      <th></th>\n",
       "      <th></th>\n",
       "      <th></th>\n",
       "      <th></th>\n",
       "    </tr>\n",
       "  </thead>\n",
       "  <tbody>\n",
       "    <tr>\n",
       "      <th>majority</th>\n",
       "      <td>0.244615</td>\n",
       "      <td>0.557705</td>\n",
       "      <td>0.255952</td>\n",
       "      <td>0.147125</td>\n",
       "      <td>0.867849</td>\n",
       "      <td>0.016740</td>\n",
       "      <td>0.883100</td>\n",
       "      <td>69170.0</td>\n",
       "    </tr>\n",
       "    <tr>\n",
       "      <th>minority</th>\n",
       "      <td>0.156816</td>\n",
       "      <td>0.520532</td>\n",
       "      <td>0.213595</td>\n",
       "      <td>0.119664</td>\n",
       "      <td>0.952179</td>\n",
       "      <td>0.006757</td>\n",
       "      <td>0.956913</td>\n",
       "      <td>20540.0</td>\n",
       "    </tr>\n",
       "  </tbody>\n",
       "</table>\n",
       "</div>"
      ],
      "text/plain": [
       "          accuracy  balanced accuracy        f1  precision  \\\n",
       "majmin                                                       \n",
       "majority  0.244615           0.557705  0.255952   0.147125   \n",
       "minority  0.156816           0.520532  0.213595   0.119664   \n",
       "\n",
       "          false positive rate  false negative rate  selection rate    count  \n",
       "majmin                                                                       \n",
       "majority             0.867849             0.016740        0.883100  69170.0  \n",
       "minority             0.952179             0.006757        0.956913  20540.0  "
      ]
     },
     "execution_count": 62,
     "metadata": {},
     "output_type": "execute_result"
    }
   ],
   "source": [
    "metric_frame.by_group"
   ]
  },
  {
   "cell_type": "code",
   "execution_count": 63,
   "id": "a9ddbe63",
   "metadata": {
    "execution": {
     "iopub.execute_input": "2025-08-05T15:32:17.109186Z",
     "iopub.status.busy": "2025-08-05T15:32:17.108241Z",
     "iopub.status.idle": "2025-08-05T15:32:19.699048Z",
     "shell.execute_reply": "2025-08-05T15:32:19.698054Z"
    },
    "papermill": {
     "duration": 2.621324,
     "end_time": "2025-08-05T15:32:19.700744",
     "exception": false,
     "start_time": "2025-08-05T15:32:17.079420",
     "status": "completed"
    },
    "tags": []
   },
   "outputs": [
    {
     "data": {
      "text/plain": [
       "array([[<Axes: title={'center': 'accuracy'}, xlabel='majmin'>,\n",
       "        <Axes: title={'center': 'balanced accuracy'}, xlabel='majmin'>,\n",
       "        <Axes: title={'center': 'f1'}, xlabel='majmin'>],\n",
       "       [<Axes: title={'center': 'precision'}, xlabel='majmin'>,\n",
       "        <Axes: title={'center': 'false positive rate'}, xlabel='majmin'>,\n",
       "        <Axes: title={'center': 'false negative rate'}, xlabel='majmin'>],\n",
       "       [<Axes: title={'center': 'selection rate'}, xlabel='majmin'>,\n",
       "        <Axes: title={'center': 'count'}, xlabel='majmin'>,\n",
       "        <Axes: xlabel='majmin'>]], dtype=object)"
      ]
     },
     "execution_count": 63,
     "metadata": {},
     "output_type": "execute_result"
    },
    {
     "data": {
      "image/png": "[encoded data removed]",
      "text/plain": [
       "<Figure size 1200x800 with 9 Axes>"
      ]
     },
     "metadata": {},
     "output_type": "display_data"
    }
   ],
   "source": [
    "# In a graphic\n",
    "metric_frame.by_group.plot.bar(\n",
    "    subplots=True,\n",
    "    layout=[3, 3],\n",
    "    legend=False,\n",
    "    figsize=[12, 8],\n",
    "    title=\"Show all metrics\",\n",
    ")"
   ]
  },
  {
   "cell_type": "markdown",
   "id": "f57a0bac",
   "metadata": {
    "papermill": {
     "duration": 0.024156,
     "end_time": "2025-08-05T15:32:19.755283",
     "exception": false,
     "start_time": "2025-08-05T15:32:19.731127",
     "status": "completed"
    },
    "tags": []
   },
   "source": [
    "# Final Output"
   ]
  },
  {
   "cell_type": "code",
   "execution_count": 64,
   "id": "96d280a3",
   "metadata": {
    "execution": {
     "iopub.execute_input": "2025-08-05T15:32:19.809442Z",
     "iopub.status.busy": "2025-08-05T15:32:19.808744Z",
     "iopub.status.idle": "2025-08-05T15:32:19.817972Z",
     "shell.execute_reply": "2025-08-05T15:32:19.816870Z"
    },
    "papermill": {
     "duration": 0.038454,
     "end_time": "2025-08-05T15:32:19.819492",
     "exception": false,
     "start_time": "2025-08-05T15:32:19.781038",
     "status": "completed"
    },
    "tags": []
   },
   "outputs": [
    {
     "data": {
      "text/plain": [
       "4"
      ]
     },
     "execution_count": 64,
     "metadata": {},
     "output_type": "execute_result"
    }
   ],
   "source": [
    "sub_universes = universe_analysis.generate_sub_universes()\n",
    "len(sub_universes)"
   ]
  },
  {
   "cell_type": "code",
   "execution_count": 65,
   "id": "92adf7ba",
   "metadata": {
    "execution": {
     "iopub.execute_input": "2025-08-05T15:32:19.872713Z",
     "iopub.status.busy": "2025-08-05T15:32:19.871932Z",
     "iopub.status.idle": "2025-08-05T15:32:19.878981Z",
     "shell.execute_reply": "2025-08-05T15:32:19.877957Z"
    },
    "papermill": {
     "duration": 0.035895,
     "end_time": "2025-08-05T15:32:19.880639",
     "exception": false,
     "start_time": "2025-08-05T15:32:19.844744",
     "status": "completed"
    },
    "tags": []
   },
   "outputs": [],
   "source": [
    "def filter_sub_universe_data(sub_universe, org_test):\n",
    "    # Keep all rows — no filtering\n",
    "    keep_rows_mask = np.ones(org_test.shape[0], dtype=bool)\n",
    "\n",
    "    print(f\"[INFO] Keeping all rows: {keep_rows_mask.sum()} rows retained.\")\n",
    "    return keep_rows_mask"
   ]
  },
  {
   "cell_type": "code",
   "execution_count": 66,
   "id": "4a759155",
   "metadata": {
    "execution": {
     "iopub.execute_input": "2025-08-05T15:32:19.933923Z",
     "iopub.status.busy": "2025-08-05T15:32:19.933358Z",
     "iopub.status.idle": "2025-08-05T15:32:29.027569Z",
     "shell.execute_reply": "2025-08-05T15:32:29.026308Z"
    },
    "papermill": {
     "duration": 9.122603,
     "end_time": "2025-08-05T15:32:29.029504",
     "exception": false,
     "start_time": "2025-08-05T15:32:19.906901",
     "status": "completed"
    },
    "tags": []
   },
   "outputs": [
    {
     "name": "stdout",
     "output_type": "stream",
     "text": [
      "Stopping execution_time clock.\n",
      "[INFO] Keeping all rows: 89710 rows retained.\n"
     ]
    },
    {
     "name": "stdout",
     "output_type": "stream",
     "text": [
      "[INFO] Keeping all rows: 89710 rows retained.\n"
     ]
    },
    {
     "name": "stdout",
     "output_type": "stream",
     "text": [
      "[INFO] Keeping all rows: 89710 rows retained.\n"
     ]
    },
    {
     "name": "stdout",
     "output_type": "stream",
     "text": [
      "[INFO] Keeping all rows: 89710 rows retained.\n"
     ]
    },
    {
     "data": {
      "text/html": [
       "<div>\n",
       "<style scoped>\n",
       "    .dataframe tbody tr th:only-of-type {\n",
       "        vertical-align: middle;\n",
       "    }\n",
       "\n",
       "    .dataframe tbody tr th {\n",
       "        vertical-align: top;\n",
       "    }\n",
       "\n",
       "    .dataframe thead th {\n",
       "        text-align: right;\n",
       "    }\n",
       "</style>\n",
       "<table border=\"1\" class=\"dataframe\">\n",
       "  <thead>\n",
       "    <tr style=\"text-align: right;\">\n",
       "      <th></th>\n",
       "      <th>run_no</th>\n",
       "      <th>universe_id</th>\n",
       "      <th>universe_settings</th>\n",
       "      <th>execution_time</th>\n",
       "      <th>test_size_n</th>\n",
       "      <th>test_size_frac</th>\n",
       "      <th>fair_main_equalized_odds_difference</th>\n",
       "      <th>fair_main_equalized_odds_ratio</th>\n",
       "      <th>fair_main_demographic_parity_difference</th>\n",
       "      <th>fair_main_demographic_parity_ratio</th>\n",
       "      <th>...</th>\n",
       "      <th>perf_grp_precision_0</th>\n",
       "      <th>perf_grp_precision_1</th>\n",
       "      <th>perf_grp_false positive rate_0</th>\n",
       "      <th>perf_grp_false positive rate_1</th>\n",
       "      <th>perf_grp_false negative rate_0</th>\n",
       "      <th>perf_grp_false negative rate_1</th>\n",
       "      <th>perf_grp_selection rate_0</th>\n",
       "      <th>perf_grp_selection rate_1</th>\n",
       "      <th>perf_grp_count_0</th>\n",
       "      <th>perf_grp_count_1</th>\n",
       "    </tr>\n",
       "  </thead>\n",
       "  <tbody>\n",
       "    <tr>\n",
       "      <th>0</th>\n",
       "      <td>15</td>\n",
       "      <td>9494386297ba0c316d616ad599445760</td>\n",
       "      <td>{\"cutoff\": \"quantile_0.1\", \"eval_fairness_grou...</td>\n",
       "      <td>30.769614</td>\n",
       "      <td>89710</td>\n",
       "      <td>1.0</td>\n",
       "      <td>0.084330</td>\n",
       "      <td>0.911435</td>\n",
       "      <td>0.073814</td>\n",
       "      <td>0.922863</td>\n",
       "      <td>...</td>\n",
       "      <td>NaN</td>\n",
       "      <td>NaN</td>\n",
       "      <td>NaN</td>\n",
       "      <td>NaN</td>\n",
       "      <td>NaN</td>\n",
       "      <td>NaN</td>\n",
       "      <td>NaN</td>\n",
       "      <td>NaN</td>\n",
       "      <td>NaN</td>\n",
       "      <td>NaN</td>\n",
       "    </tr>\n",
       "    <tr>\n",
       "      <th>0</th>\n",
       "      <td>15</td>\n",
       "      <td>9494386297ba0c316d616ad599445760</td>\n",
       "      <td>{\"cutoff\": \"quantile_0.1\", \"eval_fairness_grou...</td>\n",
       "      <td>30.769614</td>\n",
       "      <td>89710</td>\n",
       "      <td>1.0</td>\n",
       "      <td>0.084330</td>\n",
       "      <td>0.911435</td>\n",
       "      <td>0.073814</td>\n",
       "      <td>0.922863</td>\n",
       "      <td>...</td>\n",
       "      <td>0.119664</td>\n",
       "      <td>0.147125</td>\n",
       "      <td>0.952179</td>\n",
       "      <td>0.867849</td>\n",
       "      <td>0.006757</td>\n",
       "      <td>0.016740</td>\n",
       "      <td>0.956913</td>\n",
       "      <td>0.88310</td>\n",
       "      <td>20540.0</td>\n",
       "      <td>69170.0</td>\n",
       "    </tr>\n",
       "    <tr>\n",
       "      <th>0</th>\n",
       "      <td>15</td>\n",
       "      <td>9494386297ba0c316d616ad599445760</td>\n",
       "      <td>{\"cutoff\": \"quantile_0.25\", \"eval_fairness_gro...</td>\n",
       "      <td>30.769614</td>\n",
       "      <td>89710</td>\n",
       "      <td>1.0</td>\n",
       "      <td>0.152585</td>\n",
       "      <td>0.818974</td>\n",
       "      <td>0.132893</td>\n",
       "      <td>0.844785</td>\n",
       "      <td>...</td>\n",
       "      <td>NaN</td>\n",
       "      <td>NaN</td>\n",
       "      <td>NaN</td>\n",
       "      <td>NaN</td>\n",
       "      <td>NaN</td>\n",
       "      <td>NaN</td>\n",
       "      <td>NaN</td>\n",
       "      <td>NaN</td>\n",
       "      <td>NaN</td>\n",
       "      <td>NaN</td>\n",
       "    </tr>\n",
       "    <tr>\n",
       "      <th>0</th>\n",
       "      <td>15</td>\n",
       "      <td>9494386297ba0c316d616ad599445760</td>\n",
       "      <td>{\"cutoff\": \"quantile_0.25\", \"eval_fairness_gro...</td>\n",
       "      <td>30.769614</td>\n",
       "      <td>89710</td>\n",
       "      <td>1.0</td>\n",
       "      <td>0.152585</td>\n",
       "      <td>0.818974</td>\n",
       "      <td>0.132893</td>\n",
       "      <td>0.844785</td>\n",
       "      <td>...</td>\n",
       "      <td>0.129023</td>\n",
       "      <td>0.171717</td>\n",
       "      <td>0.842890</td>\n",
       "      <td>0.690305</td>\n",
       "      <td>0.041807</td>\n",
       "      <td>0.060066</td>\n",
       "      <td>0.856183</td>\n",
       "      <td>0.72329</td>\n",
       "      <td>20540.0</td>\n",
       "      <td>69170.0</td>\n",
       "    </tr>\n",
       "  </tbody>\n",
       "</table>\n",
       "<p>4 rows × 50 columns</p>\n",
       "</div>"
      ],
      "text/plain": [
       "  run_no                       universe_id  \\\n",
       "0     15  9494386297ba0c316d616ad599445760   \n",
       "0     15  9494386297ba0c316d616ad599445760   \n",
       "0     15  9494386297ba0c316d616ad599445760   \n",
       "0     15  9494386297ba0c316d616ad599445760   \n",
       "\n",
       "                                   universe_settings  execution_time  \\\n",
       "0  {\"cutoff\": \"quantile_0.1\", \"eval_fairness_grou...       30.769614   \n",
       "0  {\"cutoff\": \"quantile_0.1\", \"eval_fairness_grou...       30.769614   \n",
       "0  {\"cutoff\": \"quantile_0.25\", \"eval_fairness_gro...       30.769614   \n",
       "0  {\"cutoff\": \"quantile_0.25\", \"eval_fairness_gro...       30.769614   \n",
       "\n",
       "   test_size_n  test_size_frac  fair_main_equalized_odds_difference  \\\n",
       "0        89710             1.0                             0.084330   \n",
       "0        89710             1.0                             0.084330   \n",
       "0        89710             1.0                             0.152585   \n",
       "0        89710             1.0                             0.152585   \n",
       "\n",
       "   fair_main_equalized_odds_ratio  fair_main_demographic_parity_difference  \\\n",
       "0                        0.911435                                 0.073814   \n",
       "0                        0.911435                                 0.073814   \n",
       "0                        0.818974                                 0.132893   \n",
       "0                        0.818974                                 0.132893   \n",
       "\n",
       "   fair_main_demographic_parity_ratio  ...  perf_grp_precision_0  \\\n",
       "0                            0.922863  ...                   NaN   \n",
       "0                            0.922863  ...              0.119664   \n",
       "0                            0.844785  ...                   NaN   \n",
       "0                            0.844785  ...              0.129023   \n",
       "\n",
       "   perf_grp_precision_1  perf_grp_false positive rate_0  \\\n",
       "0                   NaN                             NaN   \n",
       "0              0.147125                        0.952179   \n",
       "0                   NaN                             NaN   \n",
       "0              0.171717                        0.842890   \n",
       "\n",
       "   perf_grp_false positive rate_1  perf_grp_false negative rate_0  \\\n",
       "0                             NaN                             NaN   \n",
       "0                        0.867849                        0.006757   \n",
       "0                             NaN                             NaN   \n",
       "0                        0.690305                        0.041807   \n",
       "\n",
       "   perf_grp_false negative rate_1  perf_grp_selection rate_0  \\\n",
       "0                             NaN                        NaN   \n",
       "0                        0.016740                   0.956913   \n",
       "0                             NaN                        NaN   \n",
       "0                        0.060066                   0.856183   \n",
       "\n",
       "   perf_grp_selection rate_1  perf_grp_count_0  perf_grp_count_1  \n",
       "0                        NaN               NaN               NaN  \n",
       "0                    0.88310           20540.0           69170.0  \n",
       "0                        NaN               NaN               NaN  \n",
       "0                    0.72329           20540.0           69170.0  \n",
       "\n",
       "[4 rows x 50 columns]"
      ]
     },
     "execution_count": 66,
     "metadata": {},
     "output_type": "execute_result"
    }
   ],
   "source": [
    "final_output = universe_analysis.generate_final_output(\n",
    "    y_pred_prob=probs_test,\n",
    "    y_test=y_true,\n",
    "    org_test=org_test,\n",
    "    filter_data=filter_sub_universe_data,\n",
    "    cp_metrics_df=cp_metrics_df,\n",
    "    save=True,\n",
    ")\n",
    "final_output"
   ]
  }
 ],
 "metadata": {
  "celltoolbar": "Tags",
  "kernelspec": {
   "display_name": "Python (CMA Fairness)",
   "language": "python",
   "name": "cma_fair_env"
  },
  "language_info": {
   "codemirror_mode": {
    "name": "ipython",
    "version": 3
   },
   "file_extension": ".py",
   "mimetype": "text/x-python",
   "name": "python",
   "nbconvert_exporter": "python",
   "pygments_lexer": "ipython3",
   "version": "3.10.12"
  },
  "papermill": {
   "default_parameters": {},
   "duration": 43.866452,
   "end_time": "2025-08-05T15:32:29.778726",
   "environment_variables": {},
   "exception": null,
   "input_path": "universe_analysis.ipynb",
   "output_path": "output/runs/15/notebooks/m_15-9494386297ba0c316d616ad599445760.ipynb",
   "parameters": {
    "output_dir": "output",
    "run_no": "15",
    "seed": "2023",
    "universe": "{\"cutoff\": [\"quantile_0.1\", \"quantile_0.25\"], \"eval_fairness_grouping\": [\"majority-minority\", \"nationality-all\"], \"exclude_features\": \"sex\", \"exclude_subgroups\": \"drop-non-german\", \"model\": \"gbm\", \"scale\": \"do-not-scale\", \"training_size\": \"5k\", \"training_year\": \"2014\"}",
    "universe_id": "9494386297ba0c316d616ad599445760"
   },
   "start_time": "2025-08-05T15:31:45.912274",
   "version": "2.6.0"
  }
 },
 "nbformat": 4,
 "nbformat_minor": 5
}