{
 "cells": [
  {
   "cell_type": "code",
   "execution_count": 1,
   "id": "f159f837-637b-42ba-96b5-ec9a68c44524",
   "metadata": {
    "execution": {
     "iopub.execute_input": "2025-08-05T16:36:10.625270Z",
     "iopub.status.busy": "2025-08-05T16:36:10.624809Z",
     "iopub.status.idle": "2025-08-05T16:36:10.638493Z",
     "shell.execute_reply": "2025-08-05T16:36:10.637552Z"
    },
    "papermill": {
     "duration": 0.032201,
     "end_time": "2025-08-05T16:36:10.640400",
     "exception": false,
     "start_time": "2025-08-05T16:36:10.608199",
     "status": "completed"
    },
    "tags": []
   },
   "outputs": [
    {
     "name": "stdout",
     "output_type": "stream",
     "text": [
      "/dss/dsshome1/0C/ra93lal2/cma/CMA_Fairness_v2\n"
     ]
    },
    {
     "name": "stderr",
     "output_type": "stream",
     "text": [
      "/dss/dsshome1/0C/ra93lal2/.local/share/virtualenvs/CMA_Fairness_v2-3j10GkSs/lib/python3.10/site-packages/IPython/core/magics/osm.py:393: UserWarning: This is now an optional IPython functionality, using bookmarks requires you to install the `pickleshare` library.\n",
      "  bkms = self.shell.db.get('bookmarks', {})\n",
      "/dss/dsshome1/0C/ra93lal2/.local/share/virtualenvs/CMA_Fairness_v2-3j10GkSs/lib/python3.10/site-packages/IPython/core/magics/osm.py:417: UserWarning: This is now an optional IPython functionality, setting dhist requires you to install the `pickleshare` library.\n",
      "  self.shell.db['dhist'] = compress_dhist(dhist)[-100:]\n"
     ]
    }
   ],
   "source": [
    "%cd ~/cma/CMA_Fairness_v2"
   ]
  },
  {
   "cell_type": "markdown",
   "id": "de2603b9",
   "metadata": {
    "papermill": {
     "duration": 0.018615,
     "end_time": "2025-08-05T16:36:10.678316",
     "exception": false,
     "start_time": "2025-08-05T16:36:10.659701",
     "status": "completed"
    },
    "tags": []
   },
   "source": [
    "The following cell holds the definition of our parameters, these values can be overriden by rendering the with e.g. the following command:\n",
    "\n",
    "papermill -p alpha 0.2 -p ratio 0.3 universe_analysis.ipynb output/test_run.ipynb"
   ]
  },
  {
   "cell_type": "code",
   "execution_count": 2,
   "id": "a80968a0-40bb-4fa9-85ef-2d5eefb01975",
   "metadata": {
    "execution": {
     "iopub.execute_input": "2025-08-05T16:36:10.718184Z",
     "iopub.status.busy": "2025-08-05T16:36:10.717350Z",
     "iopub.status.idle": "2025-08-05T16:36:10.722921Z",
     "shell.execute_reply": "2025-08-05T16:36:10.722057Z"
    },
    "papermill": {
     "duration": 0.027699,
     "end_time": "2025-08-05T16:36:10.724751",
     "exception": false,
     "start_time": "2025-08-05T16:36:10.697052",
     "status": "completed"
    },
    "tags": []
   },
   "outputs": [
    {
     "name": "stdout",
     "output_type": "stream",
     "text": [
      "Current working directory: /dss/dsshome1/0C/ra93lal2/cma/CMA_Fairness_v2\n"
     ]
    }
   ],
   "source": [
    "import os\n",
    "print(\"Current working directory:\", os.getcwd())"
   ]
  },
  {
   "cell_type": "code",
   "execution_count": 3,
   "id": "2dce4c03",
   "metadata": {
    "execution": {
     "iopub.execute_input": "2025-08-05T16:36:10.764673Z",
     "iopub.status.busy": "2025-08-05T16:36:10.763880Z",
     "iopub.status.idle": "2025-08-05T16:36:10.770312Z",
     "shell.execute_reply": "2025-08-05T16:36:10.769126Z"
    },
    "papermill": {
     "duration": 0.028052,
     "end_time": "2025-08-05T16:36:10.772049",
     "exception": false,
     "start_time": "2025-08-05T16:36:10.743997",
     "status": "completed"
    },
    "tags": [
     "parameters"
    ]
   },
   "outputs": [],
   "source": [
    "run_no = 0\n",
    "universe_id = \"test\"\n",
    "universe = {\n",
    "    \"training_size\": \"25k\", # \"25k\", \"5k\", \"1k\"\n",
    "    \"training_year\": \"2014\", # \"2014\", \"2012_14\", \"2010_14\"\n",
    "    \"scale\": \"scale\", # \"scale\", \"do-not-scale\",\n",
    "    \"model\": \"elasticnet\", # \"logreg\", \"penalized_logreg\", \"rf\", \"gbm\", \"elasticnet\"\n",
    "    \"cutoff\": [\"quantile_0.15\", \"quantile_0.30\"],\n",
    "    \"exclude_features\": \"age\", # \"none\", \"nationality\", \"sex\", \"nationality-sex\", \"age\"\n",
    "    \"exclude_subgroups\": \"keep-all\", # \"keep-all\", \"drop-non-german\"\n",
    "    \"eval_fairness_grouping\": [\"majority-minority\", \"nationality-all\"]\n",
    "}\n",
    "\n",
    "output_dir=\"./output\"\n",
    "seed=0"
   ]
  },
  {
   "cell_type": "code",
   "execution_count": 4,
   "id": "69aa55ac",
   "metadata": {
    "execution": {
     "iopub.execute_input": "2025-08-05T16:36:10.811582Z",
     "iopub.status.busy": "2025-08-05T16:36:10.810958Z",
     "iopub.status.idle": "2025-08-05T16:36:10.816542Z",
     "shell.execute_reply": "2025-08-05T16:36:10.815581Z"
    },
    "papermill": {
     "duration": 0.027866,
     "end_time": "2025-08-05T16:36:10.818584",
     "exception": false,
     "start_time": "2025-08-05T16:36:10.790718",
     "status": "completed"
    },
    "tags": [
     "injected-parameters"
    ]
   },
   "outputs": [],
   "source": [
    "# Parameters\n",
    "universe_id = \"ffa422c889a36d1f1130db7dc42ff28e\"\n",
    "run_no = \"15\"\n",
    "universe = \"{\\\"cutoff\\\": [\\\"quantile_0.1\\\", \\\"quantile_0.25\\\"], \\\"eval_fairness_grouping\\\": [\\\"majority-minority\\\", \\\"nationality-all\\\"], \\\"exclude_features\\\": \\\"sex\\\", \\\"exclude_subgroups\\\": \\\"keep-all\\\", \\\"model\\\": \\\"gbm\\\", \\\"scale\\\": \\\"scale\\\", \\\"training_size\\\": \\\"1k\\\", \\\"training_year\\\": \\\"2010_14\\\"}\"\n",
    "output_dir = \"output\"\n",
    "seed = \"2023\"\n"
   ]
  },
  {
   "cell_type": "code",
   "execution_count": 5,
   "id": "1650acaf",
   "metadata": {
    "execution": {
     "iopub.execute_input": "2025-08-05T16:36:10.860150Z",
     "iopub.status.busy": "2025-08-05T16:36:10.859254Z",
     "iopub.status.idle": "2025-08-05T16:36:10.864294Z",
     "shell.execute_reply": "2025-08-05T16:36:10.863322Z"
    },
    "papermill": {
     "duration": 0.027732,
     "end_time": "2025-08-05T16:36:10.866287",
     "exception": false,
     "start_time": "2025-08-05T16:36:10.838555",
     "status": "completed"
    },
    "tags": []
   },
   "outputs": [],
   "source": [
    "import json\n",
    "if isinstance(universe, str):\n",
    "    universe = json.loads(universe)"
   ]
  },
  {
   "cell_type": "code",
   "execution_count": 6,
   "id": "16620c48",
   "metadata": {
    "execution": {
     "iopub.execute_input": "2025-08-05T16:36:10.908341Z",
     "iopub.status.busy": "2025-08-05T16:36:10.907479Z",
     "iopub.status.idle": "2025-08-05T16:36:10.955246Z",
     "shell.execute_reply": "2025-08-05T16:36:10.954357Z"
    },
    "papermill": {
     "duration": 0.070143,
     "end_time": "2025-08-05T16:36:10.957115",
     "exception": false,
     "start_time": "2025-08-05T16:36:10.886972",
     "status": "completed"
    },
    "tags": []
   },
   "outputs": [],
   "source": [
    "# Auto-reload the custom package\n",
    "%load_ext autoreload\n",
    "%autoreload 1\n",
    "%aimport fairness_multiverse"
   ]
  },
  {
   "cell_type": "code",
   "execution_count": 7,
   "id": "01c5c9f3",
   "metadata": {
    "execution": {
     "iopub.execute_input": "2025-08-05T16:36:10.990866Z",
     "iopub.status.busy": "2025-08-05T16:36:10.989952Z",
     "iopub.status.idle": "2025-08-05T16:36:12.759308Z",
     "shell.execute_reply": "2025-08-05T16:36:12.758485Z"
    },
    "papermill": {
     "duration": 1.788045,
     "end_time": "2025-08-05T16:36:12.760788",
     "exception": false,
     "start_time": "2025-08-05T16:36:10.972743",
     "status": "completed"
    },
    "tags": []
   },
   "outputs": [],
   "source": [
    "from fairness_multiverse.universe import UniverseAnalysis\n",
    "\n",
    "universe_analysis = UniverseAnalysis(\n",
    "    run_no = run_no,\n",
    "    universe_id = universe_id,\n",
    "    universe = universe,\n",
    "    output_dir=output_dir,\n",
    ")"
   ]
  },
  {
   "cell_type": "code",
   "execution_count": 8,
   "id": "106241f5",
   "metadata": {
    "execution": {
     "iopub.execute_input": "2025-08-05T16:36:12.780446Z",
     "iopub.status.busy": "2025-08-05T16:36:12.780015Z",
     "iopub.status.idle": "2025-08-05T16:36:12.786833Z",
     "shell.execute_reply": "2025-08-05T16:36:12.785826Z"
    },
    "papermill": {
     "duration": 0.018724,
     "end_time": "2025-08-05T16:36:12.788588",
     "exception": false,
     "start_time": "2025-08-05T16:36:12.769864",
     "status": "completed"
    },
    "tags": []
   },
   "outputs": [
    {
     "name": "stdout",
     "output_type": "stream",
     "text": [
      "Using Seed: 2023\n"
     ]
    }
   ],
   "source": [
    "import numpy as np\n",
    "parsed_seed = int(seed)\n",
    "np.random.seed(parsed_seed)\n",
    "print(f\"Using Seed: {parsed_seed}\")"
   ]
  },
  {
   "cell_type": "markdown",
   "id": "e0ebdc57",
   "metadata": {
    "papermill": {
     "duration": 0.017152,
     "end_time": "2025-08-05T16:36:12.822460",
     "exception": false,
     "start_time": "2025-08-05T16:36:12.805308",
     "status": "completed"
    },
    "tags": []
   },
   "source": [
    "# Loading Data"
   ]
  },
  {
   "cell_type": "code",
   "execution_count": 9,
   "id": "f0496b8a",
   "metadata": {
    "execution": {
     "iopub.execute_input": "2025-08-05T16:36:12.857792Z",
     "iopub.status.busy": "2025-08-05T16:36:12.856887Z",
     "iopub.status.idle": "2025-08-05T16:36:20.943739Z",
     "shell.execute_reply": "2025-08-05T16:36:20.942857Z"
    },
    "papermill": {
     "duration": 8.105989,
     "end_time": "2025-08-05T16:36:20.944992",
     "exception": false,
     "start_time": "2025-08-05T16:36:12.839003",
     "status": "completed"
    },
    "tags": []
   },
   "outputs": [
    {
     "name": "stdout",
     "output_type": "stream",
     "text": [
      "Loading SIAB data from cache: data/siab_cached.csv.gz\n"
     ]
    },
    {
     "name": "stdout",
     "output_type": "stream",
     "text": [
      "(643690, 164)\n"
     ]
    }
   ],
   "source": [
    "from pathlib import Path\n",
    "import pandas as pd\n",
    "\n",
    "# File paths\n",
    "raw_file = Path(\"data/raw/siab.csv\")\n",
    "cache_file = Path(\"data/siab_cached.csv.gz\")\n",
    "\n",
    "# Ensure cache directory exists\n",
    "cache_file.parent.mkdir(parents=True, exist_ok=True)\n",
    "\n",
    "# Load with simple caching\n",
    "if cache_file.exists():\n",
    "    print(f\"Loading SIAB data from cache: {cache_file}\")\n",
    "    siab = pd.read_csv(cache_file, compression='gzip')\n",
    "else:\n",
    "    print(f\"Cache not found. Reading raw SIAB data: {raw_file}\")\n",
    "    siab = pd.read_csv(raw_file)\n",
    "    siab.to_csv(cache_file, index=False, compression='gzip')\n",
    "    print(f\"Cached SIAB data to: {cache_file}\")\n",
    "\n",
    "print(siab.shape)"
   ]
  },
  {
   "cell_type": "code",
   "execution_count": 10,
   "id": "db0ca512-5f53-4dba-abdb-a2888bca41ba",
   "metadata": {
    "execution": {
     "iopub.execute_input": "2025-08-05T16:36:20.966817Z",
     "iopub.status.busy": "2025-08-05T16:36:20.966348Z",
     "iopub.status.idle": "2025-08-05T16:36:20.970636Z",
     "shell.execute_reply": "2025-08-05T16:36:20.969681Z"
    },
    "papermill": {
     "duration": 0.015336,
     "end_time": "2025-08-05T16:36:20.972045",
     "exception": false,
     "start_time": "2025-08-05T16:36:20.956709",
     "status": "completed"
    },
    "tags": []
   },
   "outputs": [],
   "source": [
    "#siab"
   ]
  },
  {
   "cell_type": "markdown",
   "id": "997051c5-15bd-4b69-9786-c3001a3ce484",
   "metadata": {
    "papermill": {
     "duration": 0.008649,
     "end_time": "2025-08-05T16:36:20.990098",
     "exception": false,
     "start_time": "2025-08-05T16:36:20.981449",
     "status": "completed"
    },
    "tags": []
   },
   "source": [
    "# Splitting Data and Setting Training Data Size"
   ]
  },
  {
   "cell_type": "code",
   "execution_count": 11,
   "id": "aea9c6ef-6f46-42c8-85eb-5a62025c1508",
   "metadata": {
    "execution": {
     "iopub.execute_input": "2025-08-05T16:36:21.008893Z",
     "iopub.status.busy": "2025-08-05T16:36:21.008145Z",
     "iopub.status.idle": "2025-08-05T16:36:21.902673Z",
     "shell.execute_reply": "2025-08-05T16:36:21.901919Z"
    },
    "papermill": {
     "duration": 0.905483,
     "end_time": "2025-08-05T16:36:21.904100",
     "exception": false,
     "start_time": "2025-08-05T16:36:20.998617",
     "status": "completed"
    },
    "tags": []
   },
   "outputs": [],
   "source": [
    "from fairness_multiverse.universe import sample_by_year_size\n",
    "\n",
    "siab_train = sample_by_year_size(siab,\n",
    "                               training_year=universe[\"training_year\"],\n",
    "                               training_size=universe[\"training_size\"])"
   ]
  },
  {
   "cell_type": "code",
   "execution_count": 12,
   "id": "8d3afb32-789d-442c-8d5d-9f5aa8dd2eed",
   "metadata": {
    "execution": {
     "iopub.execute_input": "2025-08-05T16:36:21.923742Z",
     "iopub.status.busy": "2025-08-05T16:36:21.923243Z",
     "iopub.status.idle": "2025-08-05T16:36:21.927526Z",
     "shell.execute_reply": "2025-08-05T16:36:21.926711Z"
    },
    "papermill": {
     "duration": 0.015336,
     "end_time": "2025-08-05T16:36:21.928960",
     "exception": false,
     "start_time": "2025-08-05T16:36:21.913624",
     "status": "completed"
    },
    "tags": []
   },
   "outputs": [],
   "source": [
    "#siab_train.shape"
   ]
  },
  {
   "cell_type": "code",
   "execution_count": 13,
   "id": "d582db68-1a4c-47fb-84fc-08518dc1975a",
   "metadata": {
    "execution": {
     "iopub.execute_input": "2025-08-05T16:36:21.949096Z",
     "iopub.status.busy": "2025-08-05T16:36:21.948342Z",
     "iopub.status.idle": "2025-08-05T16:36:21.953464Z",
     "shell.execute_reply": "2025-08-05T16:36:21.952416Z"
    },
    "papermill": {
     "duration": 0.016532,
     "end_time": "2025-08-05T16:36:21.955237",
     "exception": false,
     "start_time": "2025-08-05T16:36:21.938705",
     "status": "completed"
    },
    "tags": []
   },
   "outputs": [],
   "source": [
    "#display(siab_train.groupby(\"year\").size())"
   ]
  },
  {
   "cell_type": "code",
   "execution_count": 14,
   "id": "a561edb4-d032-42cb-8256-22eac1111c64",
   "metadata": {
    "execution": {
     "iopub.execute_input": "2025-08-05T16:36:21.993621Z",
     "iopub.status.busy": "2025-08-05T16:36:21.993141Z",
     "iopub.status.idle": "2025-08-05T16:36:22.255149Z",
     "shell.execute_reply": "2025-08-05T16:36:22.254104Z"
    },
    "papermill": {
     "duration": 0.282995,
     "end_time": "2025-08-05T16:36:22.257146",
     "exception": false,
     "start_time": "2025-08-05T16:36:21.974151",
     "status": "completed"
    },
    "tags": []
   },
   "outputs": [],
   "source": [
    "#siab_train = siab_s[siab_s.year < 2015]\n",
    "siab_calib = siab[siab.year == 2015]\n",
    "siab_test = siab[siab.year == 2016]"
   ]
  },
  {
   "cell_type": "code",
   "execution_count": 15,
   "id": "472de16f-c3db-4916-846b-1f0de9cf1746",
   "metadata": {
    "execution": {
     "iopub.execute_input": "2025-08-05T16:36:22.296596Z",
     "iopub.status.busy": "2025-08-05T16:36:22.296209Z",
     "iopub.status.idle": "2025-08-05T16:36:22.301818Z",
     "shell.execute_reply": "2025-08-05T16:36:22.300765Z"
    },
    "papermill": {
     "duration": 0.027919,
     "end_time": "2025-08-05T16:36:22.303917",
     "exception": false,
     "start_time": "2025-08-05T16:36:22.275998",
     "status": "completed"
    },
    "tags": []
   },
   "outputs": [],
   "source": [
    "X_train = siab_train.iloc[:,4:164]\n",
    "y_train = siab_train.iloc[:, [3]]"
   ]
  },
  {
   "cell_type": "code",
   "execution_count": 16,
   "id": "828c96af-f43a-4ed6-ba47-8ac73a47d56c",
   "metadata": {
    "execution": {
     "iopub.execute_input": "2025-08-05T16:36:22.344094Z",
     "iopub.status.busy": "2025-08-05T16:36:22.343199Z",
     "iopub.status.idle": "2025-08-05T16:36:22.397102Z",
     "shell.execute_reply": "2025-08-05T16:36:22.395949Z"
    },
    "papermill": {
     "duration": 0.075785,
     "end_time": "2025-08-05T16:36:22.399319",
     "exception": false,
     "start_time": "2025-08-05T16:36:22.323534",
     "status": "completed"
    },
    "tags": []
   },
   "outputs": [],
   "source": [
    "X_calib = siab_calib.iloc[:,4:164]\n",
    "y_calib = siab_calib.iloc[:, [3]]"
   ]
  },
  {
   "cell_type": "code",
   "execution_count": 17,
   "id": "c34be9c3-6bd6-476e-acd3-845840e303be",
   "metadata": {
    "execution": {
     "iopub.execute_input": "2025-08-05T16:36:22.440446Z",
     "iopub.status.busy": "2025-08-05T16:36:22.439531Z",
     "iopub.status.idle": "2025-08-05T16:36:22.493134Z",
     "shell.execute_reply": "2025-08-05T16:36:22.492072Z"
    },
    "papermill": {
     "duration": 0.076179,
     "end_time": "2025-08-05T16:36:22.495312",
     "exception": false,
     "start_time": "2025-08-05T16:36:22.419133",
     "status": "completed"
    },
    "tags": []
   },
   "outputs": [],
   "source": [
    "X_test = siab_test.iloc[:,4:164]\n",
    "y_true = siab_test.iloc[:, [3]]"
   ]
  },
  {
   "cell_type": "code",
   "execution_count": 18,
   "id": "e6c733c5",
   "metadata": {
    "execution": {
     "iopub.execute_input": "2025-08-05T16:36:22.535937Z",
     "iopub.status.busy": "2025-08-05T16:36:22.535204Z",
     "iopub.status.idle": "2025-08-05T16:36:22.637029Z",
     "shell.execute_reply": "2025-08-05T16:36:22.636077Z"
    },
    "papermill": {
     "duration": 0.124564,
     "end_time": "2025-08-05T16:36:22.639086",
     "exception": false,
     "start_time": "2025-08-05T16:36:22.514522",
     "status": "completed"
    },
    "tags": []
   },
   "outputs": [],
   "source": [
    "# Auxiliary data needed downstream in the pipeline\n",
    "\n",
    "org_train = X_train.copy()\n",
    "org_test = X_test.copy()\n",
    "org_calib = X_calib.copy()"
   ]
  },
  {
   "cell_type": "markdown",
   "id": "0a4a1b33",
   "metadata": {
    "papermill": {
     "duration": 0.018806,
     "end_time": "2025-08-05T16:36:22.679214",
     "exception": false,
     "start_time": "2025-08-05T16:36:22.660408",
     "status": "completed"
    },
    "tags": []
   },
   "source": [
    "# Preprocessing Data"
   ]
  },
  {
   "cell_type": "code",
   "execution_count": 19,
   "id": "ca879031",
   "metadata": {
    "execution": {
     "iopub.execute_input": "2025-08-05T16:36:22.718948Z",
     "iopub.status.busy": "2025-08-05T16:36:22.718014Z",
     "iopub.status.idle": "2025-08-05T16:36:22.724677Z",
     "shell.execute_reply": "2025-08-05T16:36:22.723542Z"
    },
    "papermill": {
     "duration": 0.028556,
     "end_time": "2025-08-05T16:36:22.726538",
     "exception": false,
     "start_time": "2025-08-05T16:36:22.697982",
     "status": "completed"
    },
    "tags": []
   },
   "outputs": [],
   "source": [
    "# EXCLUDE PROTECTED FEATURES\n",
    "# ----------------------\n",
    "# \"exclude_features\": \"none\", # \"nationality\", \"sex\", \"nationality-sex\"\n",
    "\n",
    "excluded_features = universe[\"exclude_features\"].split(\"-\") # split, e.g.: \"nationality-sex\" -> [\"nationality\", \"sex\"]\n",
    "excluded_features_dictionary = {\n",
    "    \"nationality\": [\"maxdeutsch1\", \"maxdeutsch.Missing.\"],\n",
    "    \"sex\": [\"frau1\"],\n",
    "    \"age\": [\"age\"],\n",
    "}"
   ]
  },
  {
   "cell_type": "code",
   "execution_count": 20,
   "id": "b745ac60",
   "metadata": {
    "execution": {
     "iopub.execute_input": "2025-08-05T16:36:22.767946Z",
     "iopub.status.busy": "2025-08-05T16:36:22.767258Z",
     "iopub.status.idle": "2025-08-05T16:36:22.773372Z",
     "shell.execute_reply": "2025-08-05T16:36:22.772304Z"
    },
    "papermill": {
     "duration": 0.027718,
     "end_time": "2025-08-05T16:36:22.775347",
     "exception": false,
     "start_time": "2025-08-05T16:36:22.747629",
     "status": "completed"
    },
    "tags": []
   },
   "outputs": [],
   "source": [
    "# Code nice names to column names\n",
    "\n",
    "excluded_features_columns = [\n",
    "    excluded_features_dictionary[f] for f in excluded_features if len(f) > 0 and f != \"none\"\n",
    "]"
   ]
  },
  {
   "cell_type": "code",
   "execution_count": 21,
   "id": "f84f73a2",
   "metadata": {
    "execution": {
     "iopub.execute_input": "2025-08-05T16:36:22.814663Z",
     "iopub.status.busy": "2025-08-05T16:36:22.814303Z",
     "iopub.status.idle": "2025-08-05T16:36:22.819607Z",
     "shell.execute_reply": "2025-08-05T16:36:22.818799Z"
    },
    "papermill": {
     "duration": 0.026019,
     "end_time": "2025-08-05T16:36:22.820937",
     "exception": false,
     "start_time": "2025-08-05T16:36:22.794918",
     "status": "completed"
    },
    "tags": []
   },
   "outputs": [],
   "source": [
    "from utils import flatten_once\n",
    "\n",
    "excluded_features_columns = flatten_once(excluded_features_columns)"
   ]
  },
  {
   "cell_type": "code",
   "execution_count": 22,
   "id": "884dea22",
   "metadata": {
    "execution": {
     "iopub.execute_input": "2025-08-05T16:36:22.848467Z",
     "iopub.status.busy": "2025-08-05T16:36:22.847557Z",
     "iopub.status.idle": "2025-08-05T16:36:22.856161Z",
     "shell.execute_reply": "2025-08-05T16:36:22.855095Z"
    },
    "papermill": {
     "duration": 0.026257,
     "end_time": "2025-08-05T16:36:22.857923",
     "exception": false,
     "start_time": "2025-08-05T16:36:22.831666",
     "status": "completed"
    },
    "tags": []
   },
   "outputs": [
    {
     "name": "stdout",
     "output_type": "stream",
     "text": [
      "Dropping features: ['frau1']\n"
     ]
    }
   ],
   "source": [
    "if len(excluded_features_columns) > 0:\n",
    "    print(f\"Dropping features: {excluded_features_columns}\")\n",
    "    X_train.drop(excluded_features_columns, axis=1, inplace=True)"
   ]
  },
  {
   "cell_type": "code",
   "execution_count": 23,
   "id": "95ab8b16",
   "metadata": {
    "execution": {
     "iopub.execute_input": "2025-08-05T16:36:22.898304Z",
     "iopub.status.busy": "2025-08-05T16:36:22.897323Z",
     "iopub.status.idle": "2025-08-05T16:36:22.951732Z",
     "shell.execute_reply": "2025-08-05T16:36:22.950495Z"
    },
    "papermill": {
     "duration": 0.075643,
     "end_time": "2025-08-05T16:36:22.953395",
     "exception": false,
     "start_time": "2025-08-05T16:36:22.877752",
     "status": "completed"
    },
    "tags": []
   },
   "outputs": [
    {
     "name": "stdout",
     "output_type": "stream",
     "text": [
      "Dropping features: ['frau1']\n"
     ]
    }
   ],
   "source": [
    "if len(excluded_features_columns) > 0:\n",
    "    print(f\"Dropping features: {excluded_features_columns}\")\n",
    "    X_test.drop(excluded_features_columns, axis=1, inplace=True)"
   ]
  },
  {
   "cell_type": "code",
   "execution_count": 24,
   "id": "1853aaf5-fb9f-46cb-a2b5-8ea4ae2237e4",
   "metadata": {
    "execution": {
     "iopub.execute_input": "2025-08-05T16:36:22.994532Z",
     "iopub.status.busy": "2025-08-05T16:36:22.993708Z",
     "iopub.status.idle": "2025-08-05T16:36:23.044972Z",
     "shell.execute_reply": "2025-08-05T16:36:23.043803Z"
    },
    "papermill": {
     "duration": 0.073656,
     "end_time": "2025-08-05T16:36:23.047161",
     "exception": false,
     "start_time": "2025-08-05T16:36:22.973505",
     "status": "completed"
    },
    "tags": []
   },
   "outputs": [
    {
     "name": "stdout",
     "output_type": "stream",
     "text": [
      "Dropping features: ['frau1']\n"
     ]
    }
   ],
   "source": [
    "if len(excluded_features_columns) > 0:\n",
    "    print(f\"Dropping features: {excluded_features_columns}\")\n",
    "    X_calib.drop(excluded_features_columns, axis=1, inplace=True)"
   ]
  },
  {
   "cell_type": "code",
   "execution_count": 25,
   "id": "76c4dc6d",
   "metadata": {
    "execution": {
     "iopub.execute_input": "2025-08-05T16:36:23.088250Z",
     "iopub.status.busy": "2025-08-05T16:36:23.087652Z",
     "iopub.status.idle": "2025-08-05T16:36:23.094941Z",
     "shell.execute_reply": "2025-08-05T16:36:23.093725Z"
    },
    "papermill": {
     "duration": 0.029551,
     "end_time": "2025-08-05T16:36:23.096798",
     "exception": false,
     "start_time": "2025-08-05T16:36:23.067247",
     "status": "completed"
    },
    "tags": []
   },
   "outputs": [],
   "source": [
    "# EXCLUDE CERTAIN SUBGROUPS\n",
    "# ----------------------\n",
    "\n",
    "mode = universe.get(\"exclude_subgroups\", \"keep-all\") \n",
    "# Fetches the exclude_subgroups setting from the universe dict.\n",
    "# Defaults to \"keep-all\" if the key is missing."
   ]
  },
  {
   "cell_type": "code",
   "execution_count": 26,
   "id": "21994072",
   "metadata": {
    "execution": {
     "iopub.execute_input": "2025-08-05T16:36:23.143810Z",
     "iopub.status.busy": "2025-08-05T16:36:23.142078Z",
     "iopub.status.idle": "2025-08-05T16:36:23.151299Z",
     "shell.execute_reply": "2025-08-05T16:36:23.149877Z"
    },
    "papermill": {
     "duration": 0.035635,
     "end_time": "2025-08-05T16:36:23.153243",
     "exception": false,
     "start_time": "2025-08-05T16:36:23.117608",
     "status": "completed"
    },
    "tags": []
   },
   "outputs": [],
   "source": [
    "if mode == \"keep-all\":\n",
    "    keep_mask = pd.Series(True, index=org_train.index)\n",
    "\n",
    "# org_train contains the original feature columns from features_org (in Simson)\n",
    "# features_org contains unprocessed features, for me X_train at beginning ???\n",
    "# For keep-all, creates a boolean Series (keep_mask) of all True, so no rows are removed.\n",
    "\n",
    "elif mode == \"drop-non-german\":\n",
    "    keep_mask = org_train[\"maxdeutsch1\"] == 1 # ??? what about missing values?\n",
    "\n",
    "else:\n",
    "    raise ValueError(f\"Unsupported mode for exclude_subgroups: {mode}\")"
   ]
  },
  {
   "cell_type": "code",
   "execution_count": 27,
   "id": "71651440",
   "metadata": {
    "execution": {
     "iopub.execute_input": "2025-08-05T16:36:23.208264Z",
     "iopub.status.busy": "2025-08-05T16:36:23.207289Z",
     "iopub.status.idle": "2025-08-05T16:36:23.216447Z",
     "shell.execute_reply": "2025-08-05T16:36:23.215382Z"
    },
    "papermill": {
     "duration": 0.041198,
     "end_time": "2025-08-05T16:36:23.218856",
     "exception": false,
     "start_time": "2025-08-05T16:36:23.177658",
     "status": "completed"
    },
    "tags": []
   },
   "outputs": [],
   "source": [
    "n_drop = (~keep_mask).sum() # Calculates how many rows are set to be dropped\n",
    "if n_drop > 0:\n",
    "    pct = n_drop / len(keep_mask) * 100\n",
    "    print(f\"Dropping {n_drop} rows ({pct:.2f}%) where mode='{mode}'\")"
   ]
  },
  {
   "cell_type": "code",
   "execution_count": 28,
   "id": "5fb8eee5",
   "metadata": {
    "execution": {
     "iopub.execute_input": "2025-08-05T16:36:23.259191Z",
     "iopub.status.busy": "2025-08-05T16:36:23.258663Z",
     "iopub.status.idle": "2025-08-05T16:36:23.265709Z",
     "shell.execute_reply": "2025-08-05T16:36:23.264666Z"
    },
    "papermill": {
     "duration": 0.028797,
     "end_time": "2025-08-05T16:36:23.267526",
     "exception": false,
     "start_time": "2025-08-05T16:36:23.238729",
     "status": "completed"
    },
    "tags": []
   },
   "outputs": [],
   "source": [
    "X_train = X_train[keep_mask]"
   ]
  },
  {
   "cell_type": "code",
   "execution_count": 29,
   "id": "b202bb3a",
   "metadata": {
    "execution": {
     "iopub.execute_input": "2025-08-05T16:36:23.307848Z",
     "iopub.status.busy": "2025-08-05T16:36:23.307285Z",
     "iopub.status.idle": "2025-08-05T16:36:23.383903Z",
     "shell.execute_reply": "2025-08-05T16:36:23.382612Z"
    },
    "papermill": {
     "duration": 0.099366,
     "end_time": "2025-08-05T16:36:23.386289",
     "exception": false,
     "start_time": "2025-08-05T16:36:23.286923",
     "status": "completed"
    },
    "tags": []
   },
   "outputs": [],
   "source": [
    "y_train = y_train[keep_mask]"
   ]
  },
  {
   "cell_type": "markdown",
   "id": "493e2ac3",
   "metadata": {
    "papermill": {
     "duration": 0.017643,
     "end_time": "2025-08-05T16:36:23.424343",
     "exception": false,
     "start_time": "2025-08-05T16:36:23.406700",
     "status": "completed"
    },
    "tags": []
   },
   "source": [
    "# Model Training"
   ]
  },
  {
   "cell_type": "code",
   "execution_count": 30,
   "id": "679e1268",
   "metadata": {
    "execution": {
     "iopub.execute_input": "2025-08-05T16:36:23.463823Z",
     "iopub.status.busy": "2025-08-05T16:36:23.463115Z",
     "iopub.status.idle": "2025-08-05T16:36:23.584461Z",
     "shell.execute_reply": "2025-08-05T16:36:23.583251Z"
    },
    "papermill": {
     "duration": 0.145636,
     "end_time": "2025-08-05T16:36:23.587783",
     "exception": false,
     "start_time": "2025-08-05T16:36:23.442147",
     "status": "completed"
    },
    "tags": []
   },
   "outputs": [],
   "source": [
    "from sklearn.linear_model import LogisticRegression\n",
    "from sklearn.ensemble import GradientBoostingClassifier, RandomForestClassifier\n",
    "\n",
    "if (universe[\"model\"] == \"logreg\"):\n",
    "    model = LogisticRegression() #penalty=\"none\", solver=\"newton-cg\", max_iter=1) # include random_state=19 ?\n",
    "elif (universe[\"model\"] == \"penalized_logreg\"):\n",
    "    model = LogisticRegression(penalty=\"l2\", C=0.1) #, solver=\"newton-cg\", max_iter=1)\n",
    "elif (universe[\"model\"] == \"rf\"):\n",
    "    model = RandomForestClassifier() # n_estimators=100, n_jobs=-1\n",
    "elif (universe[\"model\"] == \"gbm\"):\n",
    "    model = GradientBoostingClassifier()\n",
    "elif (universe[\"model\"] == \"elasticnet\"):\n",
    "    model = LogisticRegression(penalty = 'elasticnet', solver = 'saga', l1_ratio = 0.5) # max_iter=5000\n",
    "else:\n",
    "    raise \"Unsupported universe.model\""
   ]
  },
  {
   "cell_type": "code",
   "execution_count": 31,
   "id": "0cc8f744",
   "metadata": {
    "execution": {
     "iopub.execute_input": "2025-08-05T16:36:23.630390Z",
     "iopub.status.busy": "2025-08-05T16:36:23.630030Z",
     "iopub.status.idle": "2025-08-05T16:36:23.636766Z",
     "shell.execute_reply": "2025-08-05T16:36:23.635619Z"
    },
    "papermill": {
     "duration": 0.024635,
     "end_time": "2025-08-05T16:36:23.638733",
     "exception": false,
     "start_time": "2025-08-05T16:36:23.614098",
     "status": "completed"
    },
    "tags": []
   },
   "outputs": [],
   "source": [
    "import numpy as np\n",
    "from sklearn.pipeline import Pipeline\n",
    "from sklearn.preprocessing import StandardScaler\n",
    "\n",
    "model = Pipeline([\n",
    "    #(\"continuous_processor\", continuous_processor),\n",
    "    #(\"categorical_preprocessor\", categorical_preprocessor),\n",
    "    (\"scale\", StandardScaler() if universe[\"scale\"] == \"scale\" else None), \n",
    "    (\"model\", model),\n",
    "])"
   ]
  },
  {
   "cell_type": "code",
   "execution_count": 32,
   "id": "9442c04d",
   "metadata": {
    "execution": {
     "iopub.execute_input": "2025-08-05T16:36:23.677676Z",
     "iopub.status.busy": "2025-08-05T16:36:23.676670Z",
     "iopub.status.idle": "2025-08-05T16:36:24.642501Z",
     "shell.execute_reply": "2025-08-05T16:36:24.641814Z"
    },
    "papermill": {
     "duration": 0.987129,
     "end_time": "2025-08-05T16:36:24.643797",
     "exception": false,
     "start_time": "2025-08-05T16:36:23.656668",
     "status": "completed"
    },
    "tags": []
   },
   "outputs": [
    {
     "data": {
      "text/html": [
       "<style>#sk-container-id-1 {color: black;background-color: white;}#sk-container-id-1 pre{padding: 0;}#sk-container-id-1 div.sk-toggleable {background-color: white;}#sk-container-id-1 label.sk-toggleable__label {cursor: pointer;display: block;width: 100%;margin-bottom: 0;padding: 0.3em;box-sizing: border-box;text-align: center;}#sk-container-id-1 label.sk-toggleable__label-arrow:before {content: \"▸\";float: left;margin-right: 0.25em;color: #696969;}#sk-container-id-1 label.sk-toggleable__label-arrow:hover:before {color: black;}#sk-container-id-1 div.sk-estimator:hover label.sk-toggleable__label-arrow:before {color: black;}#sk-container-id-1 div.sk-toggleable__content {max-height: 0;max-width: 0;overflow: hidden;text-align: left;background-color: #f0f8ff;}#sk-container-id-1 div.sk-toggleable__content pre {margin: 0.2em;color: black;border-radius: 0.25em;background-color: #f0f8ff;}#sk-container-id-1 input.sk-toggleable__control:checked~div.sk-toggleable__content {max-height: 200px;max-width: 100%;overflow: auto;}#sk-container-id-1 input.sk-toggleable__control:checked~label.sk-toggleable__label-arrow:before {content: \"▾\";}#sk-container-id-1 div.sk-estimator input.sk-toggleable__control:checked~label.sk-toggleable__label {background-color: #d4ebff;}#sk-container-id-1 div.sk-label input.sk-toggleable__control:checked~label.sk-toggleable__label {background-color: #d4ebff;}#sk-container-id-1 input.sk-hidden--visually {border: 0;clip: rect(1px 1px 1px 1px);clip: rect(1px, 1px, 1px, 1px);height: 1px;margin: -1px;overflow: hidden;padding: 0;position: absolute;width: 1px;}#sk-container-id-1 div.sk-estimator {font-family: monospace;background-color: #f0f8ff;border: 1px dotted black;border-radius: 0.25em;box-sizing: border-box;margin-bottom: 0.5em;}#sk-container-id-1 div.sk-estimator:hover {background-color: #d4ebff;}#sk-container-id-1 div.sk-parallel-item::after {content: \"\";width: 100%;border-bottom: 1px solid gray;flex-grow: 1;}#sk-container-id-1 div.sk-label:hover label.sk-toggleable__label {background-color: #d4ebff;}#sk-container-id-1 div.sk-serial::before {content: \"\";position: absolute;border-left: 1px solid gray;box-sizing: border-box;top: 0;bottom: 0;left: 50%;z-index: 0;}#sk-container-id-1 div.sk-serial {display: flex;flex-direction: column;align-items: center;background-color: white;padding-right: 0.2em;padding-left: 0.2em;position: relative;}#sk-container-id-1 div.sk-item {position: relative;z-index: 1;}#sk-container-id-1 div.sk-parallel {display: flex;align-items: stretch;justify-content: center;background-color: white;position: relative;}#sk-container-id-1 div.sk-item::before, #sk-container-id-1 div.sk-parallel-item::before {content: \"\";position: absolute;border-left: 1px solid gray;box-sizing: border-box;top: 0;bottom: 0;left: 50%;z-index: -1;}#sk-container-id-1 div.sk-parallel-item {display: flex;flex-direction: column;z-index: 1;position: relative;background-color: white;}#sk-container-id-1 div.sk-parallel-item:first-child::after {align-self: flex-end;width: 50%;}#sk-container-id-1 div.sk-parallel-item:last-child::after {align-self: flex-start;width: 50%;}#sk-container-id-1 div.sk-parallel-item:only-child::after {width: 0;}#sk-container-id-1 div.sk-dashed-wrapped {border: 1px dashed gray;margin: 0 0.4em 0.5em 0.4em;box-sizing: border-box;padding-bottom: 0.4em;background-color: white;}#sk-container-id-1 div.sk-label label {font-family: monospace;font-weight: bold;display: inline-block;line-height: 1.2em;}#sk-container-id-1 div.sk-label-container {text-align: center;}#sk-container-id-1 div.sk-container {/* jupyter's `normalize.less` sets `[hidden] { display: none; }` but bootstrap.min.css set `[hidden] { display: none !important; }` so we also need the `!important` here to be able to override the default hidden behavior on the sphinx rendered scikit-learn.org. See: https://github.com/scikit-learn/scikit-learn/issues/21755 */display: inline-block !important;position: relative;}#sk-container-id-1 div.sk-text-repr-fallback {display: none;}</style><div id=\"sk-container-id-1\" class=\"sk-top-container\"><div class=\"sk-text-repr-fallback\"><pre>Pipeline(steps=[(&#x27;scale&#x27;, StandardScaler()),\n",
       "                (&#x27;model&#x27;, GradientBoostingClassifier())])</pre><b>In a Jupyter environment, please rerun this cell to show the HTML representation or trust the notebook. <br />On GitHub, the HTML representation is unable to render, please try loading this page with nbviewer.org.</b></div><div class=\"sk-container\" hidden><div class=\"sk-item sk-dashed-wrapped\"><div class=\"sk-label-container\"><div class=\"sk-label sk-toggleable\"><input class=\"sk-toggleable__control sk-hidden--visually\" id=\"sk-estimator-id-1\" type=\"checkbox\" ><label for=\"sk-estimator-id-1\" class=\"sk-toggleable__label sk-toggleable__label-arrow\">Pipeline</label><div class=\"sk-toggleable__content\"><pre>Pipeline(steps=[(&#x27;scale&#x27;, StandardScaler()),\n",
       "                (&#x27;model&#x27;, GradientBoostingClassifier())])</pre></div></div></div><div class=\"sk-serial\"><div class=\"sk-item\"><div class=\"sk-estimator sk-toggleable\"><input class=\"sk-toggleable__control sk-hidden--visually\" id=\"sk-estimator-id-2\" type=\"checkbox\" ><label for=\"sk-estimator-id-2\" class=\"sk-toggleable__label sk-toggleable__label-arrow\">StandardScaler</label><div class=\"sk-toggleable__content\"><pre>StandardScaler()</pre></div></div></div><div class=\"sk-item\"><div class=\"sk-estimator sk-toggleable\"><input class=\"sk-toggleable__control sk-hidden--visually\" id=\"sk-estimator-id-3\" type=\"checkbox\" ><label for=\"sk-estimator-id-3\" class=\"sk-toggleable__label sk-toggleable__label-arrow\">GradientBoostingClassifier</label><div class=\"sk-toggleable__content\"><pre>GradientBoostingClassifier()</pre></div></div></div></div></div></div></div>"
      ],
      "text/plain": [
       "Pipeline(steps=[('scale', StandardScaler()),\n",
       "                ('model', GradientBoostingClassifier())])"
      ]
     },
     "execution_count": 32,
     "metadata": {},
     "output_type": "execute_result"
    }
   ],
   "source": [
    "model.fit(X_train, y_train.values.ravel())"
   ]
  },
  {
   "cell_type": "code",
   "execution_count": 33,
   "id": "af59f8c0",
   "metadata": {
    "execution": {
     "iopub.execute_input": "2025-08-05T16:36:24.666589Z",
     "iopub.status.busy": "2025-08-05T16:36:24.665845Z",
     "iopub.status.idle": "2025-08-05T16:36:24.670577Z",
     "shell.execute_reply": "2025-08-05T16:36:24.669856Z"
    },
    "papermill": {
     "duration": 0.01733,
     "end_time": "2025-08-05T16:36:24.671900",
     "exception": false,
     "start_time": "2025-08-05T16:36:24.654570",
     "status": "completed"
    },
    "tags": []
   },
   "outputs": [],
   "source": [
    "from fairness_multiverse.universe import predict_w_threshold"
   ]
  },
  {
   "cell_type": "code",
   "execution_count": 34,
   "id": "a7cf2e16",
   "metadata": {
    "execution": {
     "iopub.execute_input": "2025-08-05T16:36:24.695630Z",
     "iopub.status.busy": "2025-08-05T16:36:24.695240Z",
     "iopub.status.idle": "2025-08-05T16:36:25.285739Z",
     "shell.execute_reply": "2025-08-05T16:36:25.285000Z"
    },
    "papermill": {
     "duration": 0.603578,
     "end_time": "2025-08-05T16:36:25.286973",
     "exception": false,
     "start_time": "2025-08-05T16:36:24.683395",
     "status": "completed"
    },
    "tags": []
   },
   "outputs": [
    {
     "data": {
      "text/plain": [
       "0.8407535391818081"
      ]
     },
     "execution_count": 34,
     "metadata": {},
     "output_type": "execute_result"
    }
   ],
   "source": [
    "probs_test = model.predict_proba(X_test)\n",
    "\n",
    "'''\n",
    "Below code returns a boolean array (or binary 0/1 array depending on how it’s used) where each element \n",
    "is True if the probability of class 1 is greater than or equal to the threshold, and False otherwise.\n",
    "'''\n",
    "y_pred_default = predict_w_threshold(probs_test, 0.5)\n",
    "\n",
    "from sklearn.metrics import accuracy_score\n",
    "\n",
    "# Naive prediction\n",
    "accuracy_score(y_true = y_true, y_pred = y_pred_default)"
   ]
  },
  {
   "cell_type": "code",
   "execution_count": 35,
   "id": "081964c3",
   "metadata": {
    "execution": {
     "iopub.execute_input": "2025-08-05T16:36:25.313274Z",
     "iopub.status.busy": "2025-08-05T16:36:25.312768Z",
     "iopub.status.idle": "2025-08-05T16:36:25.931522Z",
     "shell.execute_reply": "2025-08-05T16:36:25.930499Z"
    },
    "papermill": {
     "duration": 0.631748,
     "end_time": "2025-08-05T16:36:25.933346",
     "exception": false,
     "start_time": "2025-08-05T16:36:25.301598",
     "status": "completed"
    },
    "tags": []
   },
   "outputs": [
    {
     "data": {
      "text/plain": [
       "array([0, 0, 0, ..., 1, 0, 0])"
      ]
     },
     "execution_count": 35,
     "metadata": {},
     "output_type": "execute_result"
    }
   ],
   "source": [
    "model.predict(X_test)"
   ]
  },
  {
   "cell_type": "markdown",
   "id": "56c9705b",
   "metadata": {
    "papermill": {
     "duration": 0.022107,
     "end_time": "2025-08-05T16:36:25.975672",
     "exception": false,
     "start_time": "2025-08-05T16:36:25.953565",
     "status": "completed"
    },
    "tags": []
   },
   "source": [
    "# Conformal Prediction"
   ]
  },
  {
   "cell_type": "code",
   "execution_count": 36,
   "id": "160ec6ff",
   "metadata": {
    "execution": {
     "iopub.execute_input": "2025-08-05T16:36:26.022254Z",
     "iopub.status.busy": "2025-08-05T16:36:26.021236Z",
     "iopub.status.idle": "2025-08-05T16:36:26.026600Z",
     "shell.execute_reply": "2025-08-05T16:36:26.025551Z"
    },
    "papermill": {
     "duration": 0.030414,
     "end_time": "2025-08-05T16:36:26.028593",
     "exception": false,
     "start_time": "2025-08-05T16:36:25.998179",
     "status": "completed"
    },
    "tags": []
   },
   "outputs": [],
   "source": [
    "# Miscoverage level for conformal prediction (10% allowed error rate => 90% target coverage)\n",
    "alpha = 0.1"
   ]
  },
  {
   "cell_type": "code",
   "execution_count": 37,
   "id": "eadf4555-3dd3-440e-8e35-f82a4ad9f855",
   "metadata": {
    "execution": {
     "iopub.execute_input": "2025-08-05T16:36:26.075736Z",
     "iopub.status.busy": "2025-08-05T16:36:26.075271Z",
     "iopub.status.idle": "2025-08-05T16:36:26.783054Z",
     "shell.execute_reply": "2025-08-05T16:36:26.782052Z"
    },
    "papermill": {
     "duration": 0.734698,
     "end_time": "2025-08-05T16:36:26.785079",
     "exception": false,
     "start_time": "2025-08-05T16:36:26.050381",
     "status": "completed"
    },
    "tags": []
   },
   "outputs": [],
   "source": [
    "probs_calib = model.predict_proba(X_calib)"
   ]
  },
  {
   "cell_type": "code",
   "execution_count": 38,
   "id": "2ed93547-6d5d-4983-9b36-1ecb300da49a",
   "metadata": {
    "execution": {
     "iopub.execute_input": "2025-08-05T16:36:26.829152Z",
     "iopub.status.busy": "2025-08-05T16:36:26.828443Z",
     "iopub.status.idle": "2025-08-05T16:36:26.835364Z",
     "shell.execute_reply": "2025-08-05T16:36:26.834279Z"
    },
    "papermill": {
     "duration": 0.030624,
     "end_time": "2025-08-05T16:36:26.836991",
     "exception": false,
     "start_time": "2025-08-05T16:36:26.806367",
     "status": "completed"
    },
    "tags": []
   },
   "outputs": [],
   "source": [
    "y_calib = y_calib.values.ravel().astype(int)"
   ]
  },
  {
   "cell_type": "code",
   "execution_count": 39,
   "id": "65d1320d-f588-4b38-9072-62af1ae97f7d",
   "metadata": {
    "execution": {
     "iopub.execute_input": "2025-08-05T16:36:26.861220Z",
     "iopub.status.busy": "2025-08-05T16:36:26.860706Z",
     "iopub.status.idle": "2025-08-05T16:36:26.867252Z",
     "shell.execute_reply": "2025-08-05T16:36:26.866397Z"
    },
    "papermill": {
     "duration": 0.019906,
     "end_time": "2025-08-05T16:36:26.868733",
     "exception": false,
     "start_time": "2025-08-05T16:36:26.848827",
     "status": "completed"
    },
    "tags": []
   },
   "outputs": [],
   "source": [
    "from fairness_multiverse.conformal import compute_nc_scores\n",
    "\n",
    "# Compute nonconformity scores on calibration set (1 - probability of true class)\n",
    "nc_scores = compute_nc_scores(probs_calib, y_calib)"
   ]
  },
  {
   "cell_type": "code",
   "execution_count": 40,
   "id": "df3b8ca3-53b7-43d5-9667-7c85da7aeda2",
   "metadata": {
    "execution": {
     "iopub.execute_input": "2025-08-05T16:36:26.892872Z",
     "iopub.status.busy": "2025-08-05T16:36:26.892162Z",
     "iopub.status.idle": "2025-08-05T16:36:26.898129Z",
     "shell.execute_reply": "2025-08-05T16:36:26.897311Z"
    },
    "papermill": {
     "duration": 0.019426,
     "end_time": "2025-08-05T16:36:26.899650",
     "exception": false,
     "start_time": "2025-08-05T16:36:26.880224",
     "status": "completed"
    },
    "tags": []
   },
   "outputs": [],
   "source": [
    "from fairness_multiverse.conformal import find_threshold\n",
    "\n",
    "# Find conformal threshold q_hat for the given alpha (split conformal method)\n",
    "q_hat = find_threshold(nc_scores, alpha)"
   ]
  },
  {
   "cell_type": "code",
   "execution_count": 41,
   "id": "4d29e6c1-0ef6-4aa4-b8fe-4fe79b0d033a",
   "metadata": {
    "execution": {
     "iopub.execute_input": "2025-08-05T16:36:26.924418Z",
     "iopub.status.busy": "2025-08-05T16:36:26.923697Z",
     "iopub.status.idle": "2025-08-05T16:36:26.929972Z",
     "shell.execute_reply": "2025-08-05T16:36:26.929213Z"
    },
    "papermill": {
     "duration": 0.019953,
     "end_time": "2025-08-05T16:36:26.931644",
     "exception": false,
     "start_time": "2025-08-05T16:36:26.911691",
     "status": "completed"
    },
    "tags": []
   },
   "outputs": [
    {
     "data": {
      "text/plain": [
       "0.7473966071679066"
      ]
     },
     "execution_count": 41,
     "metadata": {},
     "output_type": "execute_result"
    }
   ],
   "source": [
    "q_hat"
   ]
  },
  {
   "cell_type": "code",
   "execution_count": 42,
   "id": "92460794-cdac-4be2-ba28-f28c0515a6fb",
   "metadata": {
    "execution": {
     "iopub.execute_input": "2025-08-05T16:36:26.976247Z",
     "iopub.status.busy": "2025-08-05T16:36:26.975737Z",
     "iopub.status.idle": "2025-08-05T16:36:28.416011Z",
     "shell.execute_reply": "2025-08-05T16:36:28.414987Z"
    },
    "papermill": {
     "duration": 1.464753,
     "end_time": "2025-08-05T16:36:28.418157",
     "exception": false,
     "start_time": "2025-08-05T16:36:26.953404",
     "status": "completed"
    },
    "tags": []
   },
   "outputs": [],
   "source": [
    "from fairness_multiverse.conformal import predict_conformal_sets\n",
    "\n",
    "# Generate prediction sets for each test example\n",
    "pred_sets = predict_conformal_sets(model, X_test, q_hat)"
   ]
  },
  {
   "cell_type": "code",
   "execution_count": 43,
   "id": "d90c9a65-e6db-4f5d-80cd-e68fb7e46829",
   "metadata": {
    "execution": {
     "iopub.execute_input": "2025-08-05T16:36:28.461715Z",
     "iopub.status.busy": "2025-08-05T16:36:28.461202Z",
     "iopub.status.idle": "2025-08-05T16:36:28.467141Z",
     "shell.execute_reply": "2025-08-05T16:36:28.466065Z"
    },
    "papermill": {
     "duration": 0.030095,
     "end_time": "2025-08-05T16:36:28.468795",
     "exception": false,
     "start_time": "2025-08-05T16:36:28.438700",
     "status": "completed"
    },
    "tags": []
   },
   "outputs": [],
   "source": [
    "y_true = y_true.squeeze()"
   ]
  },
  {
   "cell_type": "code",
   "execution_count": 44,
   "id": "3a58a54a-1e68-46b9-927a-df01f18aebc8",
   "metadata": {
    "execution": {
     "iopub.execute_input": "2025-08-05T16:36:28.492596Z",
     "iopub.status.busy": "2025-08-05T16:36:28.492088Z",
     "iopub.status.idle": "2025-08-05T16:36:29.100595Z",
     "shell.execute_reply": "2025-08-05T16:36:29.099847Z"
    },
    "papermill": {
     "duration": 0.621605,
     "end_time": "2025-08-05T16:36:29.102069",
     "exception": false,
     "start_time": "2025-08-05T16:36:28.480464",
     "status": "completed"
    },
    "tags": []
   },
   "outputs": [],
   "source": [
    "from fairness_multiverse.conformal import evaluate_sets\n",
    "\n",
    "# Evaluate coverage and average set size on test data\n",
    "metrics = evaluate_sets(pred_sets, y_true)"
   ]
  },
  {
   "cell_type": "markdown",
   "id": "2b569c12-9aaa-4c88-98c9-bbcd0cf3ebb8",
   "metadata": {
    "papermill": {
     "duration": 0.010138,
     "end_time": "2025-08-05T16:36:29.123148",
     "exception": false,
     "start_time": "2025-08-05T16:36:29.113010",
     "status": "completed"
    },
    "tags": []
   },
   "source": [
    "# CP Metrics"
   ]
  },
  {
   "cell_type": "code",
   "execution_count": 45,
   "id": "5ce0a5cb-201f-45a0-ade5-94c7f0bd6095",
   "metadata": {
    "execution": {
     "iopub.execute_input": "2025-08-05T16:36:29.159360Z",
     "iopub.status.busy": "2025-08-05T16:36:29.158858Z",
     "iopub.status.idle": "2025-08-05T16:36:29.166617Z",
     "shell.execute_reply": "2025-08-05T16:36:29.164972Z"
    },
    "papermill": {
     "duration": 0.032429,
     "end_time": "2025-08-05T16:36:29.168310",
     "exception": false,
     "start_time": "2025-08-05T16:36:29.135881",
     "status": "completed"
    },
    "tags": []
   },
   "outputs": [
    {
     "data": {
      "text/plain": [
       "{'coverage': 0.9118381451343217, 'avg_size': 1.178374763125627}"
      ]
     },
     "execution_count": 45,
     "metadata": {},
     "output_type": "execute_result"
    }
   ],
   "source": [
    "metrics"
   ]
  },
  {
   "cell_type": "code",
   "execution_count": 46,
   "id": "9b9a838d-31c9-430b-ae14-12baee460d17",
   "metadata": {
    "execution": {
     "iopub.execute_input": "2025-08-05T16:36:29.194423Z",
     "iopub.status.busy": "2025-08-05T16:36:29.193907Z",
     "iopub.status.idle": "2025-08-05T16:36:29.199820Z",
     "shell.execute_reply": "2025-08-05T16:36:29.198831Z"
    },
    "papermill": {
     "duration": 0.019651,
     "end_time": "2025-08-05T16:36:29.201901",
     "exception": false,
     "start_time": "2025-08-05T16:36:29.182250",
     "status": "completed"
    },
    "tags": []
   },
   "outputs": [],
   "source": [
    "example_universe = universe.copy()\n",
    "universe_training_year = example_universe.get(\"training_year\")\n",
    "universe_training_size = example_universe.get(\"training_size\")\n",
    "universe_scale = example_universe.get(\"scale\")\n",
    "universe_model = example_universe.get(\"model\")\n",
    "universe_exclude_features = example_universe.get(\"exclude_features\")\n",
    "universe_exclude_subgroups = example_universe.get(\"exclude_subgroups\")"
   ]
  },
  {
   "cell_type": "code",
   "execution_count": 47,
   "id": "f4b6a8ac-9dc0-4245-8a91-5b3b5999c4f9",
   "metadata": {
    "execution": {
     "iopub.execute_input": "2025-08-05T16:36:29.235926Z",
     "iopub.status.busy": "2025-08-05T16:36:29.235572Z",
     "iopub.status.idle": "2025-08-05T16:36:29.240849Z",
     "shell.execute_reply": "2025-08-05T16:36:29.239953Z"
    },
    "papermill": {
     "duration": 0.020706,
     "end_time": "2025-08-05T16:36:29.242285",
     "exception": false,
     "start_time": "2025-08-05T16:36:29.221579",
     "status": "completed"
    },
    "tags": []
   },
   "outputs": [],
   "source": [
    "cp_metrics_dict = {\n",
    "    \"universe_id\": [universe_id],\n",
    "    \"universe_training_year\": [universe_training_year],\n",
    "    \"universe_training_size\": [universe_training_size],\n",
    "    \"universe_scale\": [universe_scale],\n",
    "    \"universe_model\": [universe_model],\n",
    "    \"universe_exclude_features\": [universe_exclude_features],\n",
    "    \"universe_exclude_subgroups\": [universe_exclude_subgroups],\n",
    "    \"q_hat\": [q_hat],\n",
    "    \"coverage\": [metrics[\"coverage\"]],\n",
    "    \"avg_size\": [metrics[\"avg_size\"]],\n",
    "}"
   ]
  },
  {
   "cell_type": "code",
   "execution_count": 48,
   "id": "908acbb1-0371-4915-85ca-3fa520d2efe2",
   "metadata": {
    "execution": {
     "iopub.execute_input": "2025-08-05T16:36:29.266544Z",
     "iopub.status.busy": "2025-08-05T16:36:29.266193Z",
     "iopub.status.idle": "2025-08-05T16:36:29.272674Z",
     "shell.execute_reply": "2025-08-05T16:36:29.271854Z"
    },
    "papermill": {
     "duration": 0.019718,
     "end_time": "2025-08-05T16:36:29.274265",
     "exception": false,
     "start_time": "2025-08-05T16:36:29.254547",
     "status": "completed"
    },
    "tags": []
   },
   "outputs": [
    {
     "data": {
      "text/plain": [
       "{'universe_id': ['ffa422c889a36d1f1130db7dc42ff28e'],\n",
       " 'universe_training_year': ['2010_14'],\n",
       " 'universe_training_size': ['1k'],\n",
       " 'universe_scale': ['scale'],\n",
       " 'universe_model': ['gbm'],\n",
       " 'universe_exclude_features': ['sex'],\n",
       " 'universe_exclude_subgroups': ['keep-all'],\n",
       " 'q_hat': [0.7473966071679066],\n",
       " 'coverage': [0.9118381451343217],\n",
       " 'avg_size': [1.178374763125627]}"
      ]
     },
     "execution_count": 48,
     "metadata": {},
     "output_type": "execute_result"
    }
   ],
   "source": [
    "cp_metrics_dict"
   ]
  },
  {
   "cell_type": "code",
   "execution_count": 49,
   "id": "33007efc-14e9-4ec6-97ac-56a455c82265",
   "metadata": {
    "execution": {
     "iopub.execute_input": "2025-08-05T16:36:29.299599Z",
     "iopub.status.busy": "2025-08-05T16:36:29.298719Z",
     "iopub.status.idle": "2025-08-05T16:36:29.305718Z",
     "shell.execute_reply": "2025-08-05T16:36:29.304617Z"
    },
    "papermill": {
     "duration": 0.021483,
     "end_time": "2025-08-05T16:36:29.307662",
     "exception": false,
     "start_time": "2025-08-05T16:36:29.286179",
     "status": "completed"
    },
    "tags": []
   },
   "outputs": [],
   "source": [
    "cp_metrics_df = pd.DataFrame(cp_metrics_dict)"
   ]
  },
  {
   "cell_type": "code",
   "execution_count": 50,
   "id": "db12611b-57b2-4910-b9d0-355adfd6e7bf",
   "metadata": {
    "execution": {
     "iopub.execute_input": "2025-08-05T16:36:29.358534Z",
     "iopub.status.busy": "2025-08-05T16:36:29.357796Z",
     "iopub.status.idle": "2025-08-05T16:36:29.377679Z",
     "shell.execute_reply": "2025-08-05T16:36:29.376596Z"
    },
    "papermill": {
     "duration": 0.047373,
     "end_time": "2025-08-05T16:36:29.379445",
     "exception": false,
     "start_time": "2025-08-05T16:36:29.332072",
     "status": "completed"
    },
    "tags": []
   },
   "outputs": [
    {
     "data": {
      "text/html": [
       "<div>\n",
       "<style scoped>\n",
       "    .dataframe tbody tr th:only-of-type {\n",
       "        vertical-align: middle;\n",
       "    }\n",
       "\n",
       "    .dataframe tbody tr th {\n",
       "        vertical-align: top;\n",
       "    }\n",
       "\n",
       "    .dataframe thead th {\n",
       "        text-align: right;\n",
       "    }\n",
       "</style>\n",
       "<table border=\"1\" class=\"dataframe\">\n",
       "  <thead>\n",
       "    <tr style=\"text-align: right;\">\n",
       "      <th></th>\n",
       "      <th>universe_id</th>\n",
       "      <th>universe_training_year</th>\n",
       "      <th>universe_training_size</th>\n",
       "      <th>universe_scale</th>\n",
       "      <th>universe_model</th>\n",
       "      <th>universe_exclude_features</th>\n",
       "      <th>universe_exclude_subgroups</th>\n",
       "      <th>q_hat</th>\n",
       "      <th>coverage</th>\n",
       "      <th>avg_size</th>\n",
       "    </tr>\n",
       "  </thead>\n",
       "  <tbody>\n",
       "    <tr>\n",
       "      <th>0</th>\n",
       "      <td>ffa422c889a36d1f1130db7dc42ff28e</td>\n",
       "      <td>2010_14</td>\n",
       "      <td>1k</td>\n",
       "      <td>scale</td>\n",
       "      <td>gbm</td>\n",
       "      <td>sex</td>\n",
       "      <td>keep-all</td>\n",
       "      <td>0.747397</td>\n",
       "      <td>0.911838</td>\n",
       "      <td>1.178375</td>\n",
       "    </tr>\n",
       "  </tbody>\n",
       "</table>\n",
       "</div>"
      ],
      "text/plain": [
       "                        universe_id universe_training_year  \\\n",
       "0  ffa422c889a36d1f1130db7dc42ff28e                2010_14   \n",
       "\n",
       "  universe_training_size universe_scale universe_model  \\\n",
       "0                     1k          scale            gbm   \n",
       "\n",
       "  universe_exclude_features universe_exclude_subgroups     q_hat  coverage  \\\n",
       "0                       sex                   keep-all  0.747397  0.911838   \n",
       "\n",
       "   avg_size  \n",
       "0  1.178375  "
      ]
     },
     "execution_count": 50,
     "metadata": {},
     "output_type": "execute_result"
    }
   ],
   "source": [
    "cp_metrics_df"
   ]
  },
  {
   "cell_type": "code",
   "execution_count": 51,
   "id": "b7fbde55-a0a1-47e4-9af6-fe4a17fa8c61",
   "metadata": {
    "execution": {
     "iopub.execute_input": "2025-08-05T16:36:29.429336Z",
     "iopub.status.busy": "2025-08-05T16:36:29.428429Z",
     "iopub.status.idle": "2025-08-05T16:36:29.434053Z",
     "shell.execute_reply": "2025-08-05T16:36:29.432754Z"
    },
    "papermill": {
     "duration": 0.032235,
     "end_time": "2025-08-05T16:36:29.435968",
     "exception": false,
     "start_time": "2025-08-05T16:36:29.403733",
     "status": "completed"
    },
    "tags": []
   },
   "outputs": [],
   "source": [
    "# Conditional Coverage & looking at subgroups"
   ]
  },
  {
   "cell_type": "code",
   "execution_count": 52,
   "id": "027ae886-68dd-4141-96c7-805a5450e1ef",
   "metadata": {
    "execution": {
     "iopub.execute_input": "2025-08-05T16:36:29.486361Z",
     "iopub.status.busy": "2025-08-05T16:36:29.485365Z",
     "iopub.status.idle": "2025-08-05T16:36:29.747605Z",
     "shell.execute_reply": "2025-08-05T16:36:29.746839Z"
    },
    "papermill": {
     "duration": 0.288841,
     "end_time": "2025-08-05T16:36:29.749423",
     "exception": false,
     "start_time": "2025-08-05T16:36:29.460582",
     "status": "completed"
    },
    "tags": []
   },
   "outputs": [],
   "source": [
    "from fairness_multiverse.conformal import build_cp_groups\n",
    "\n",
    "cp_groups_df = build_cp_groups(pred_sets, y_true, X_test.index, org_test)\n",
    "#needs universe_id and setting"
   ]
  },
  {
   "cell_type": "code",
   "execution_count": 53,
   "id": "6cbdab96-b2b2-45af-ad54-d0516db2e28d",
   "metadata": {
    "execution": {
     "iopub.execute_input": "2025-08-05T16:36:29.800409Z",
     "iopub.status.busy": "2025-08-05T16:36:29.799678Z",
     "iopub.status.idle": "2025-08-05T16:36:31.469729Z",
     "shell.execute_reply": "2025-08-05T16:36:31.468999Z"
    },
    "papermill": {
     "duration": 1.697309,
     "end_time": "2025-08-05T16:36:31.471104",
     "exception": false,
     "start_time": "2025-08-05T16:36:29.773795",
     "status": "completed"
    },
    "tags": []
   },
   "outputs": [],
   "source": [
    "# Define covered = 1 if true_label is in the predicted set\n",
    "cp_groups_df['covered'] = cp_groups_df.apply(\n",
    "    lambda r: int(r['true_label'] in r['pred_set']),\n",
    "    axis=1\n",
    ")"
   ]
  },
  {
   "cell_type": "code",
   "execution_count": 54,
   "id": "338ff529-1a6b-4b87-a931-8e4788d52aad",
   "metadata": {
    "execution": {
     "iopub.execute_input": "2025-08-05T16:36:31.494474Z",
     "iopub.status.busy": "2025-08-05T16:36:31.493987Z",
     "iopub.status.idle": "2025-08-05T16:36:31.498157Z",
     "shell.execute_reply": "2025-08-05T16:36:31.497422Z"
    },
    "papermill": {
     "duration": 0.016758,
     "end_time": "2025-08-05T16:36:31.499435",
     "exception": false,
     "start_time": "2025-08-05T16:36:31.482677",
     "status": "completed"
    },
    "tags": []
   },
   "outputs": [],
   "source": [
    "#cp_groups_df"
   ]
  },
  {
   "cell_type": "code",
   "execution_count": 55,
   "id": "90032e27-66df-4540-9169-4e89cfbaa758",
   "metadata": {
    "execution": {
     "iopub.execute_input": "2025-08-05T16:36:31.535195Z",
     "iopub.status.busy": "2025-08-05T16:36:31.534456Z",
     "iopub.status.idle": "2025-08-05T16:36:31.546300Z",
     "shell.execute_reply": "2025-08-05T16:36:31.545269Z"
    },
    "papermill": {
     "duration": 0.037352,
     "end_time": "2025-08-05T16:36:31.548244",
     "exception": false,
     "start_time": "2025-08-05T16:36:31.510892",
     "status": "completed"
    },
    "tags": []
   },
   "outputs": [],
   "source": [
    "subgroups = ['frau1','nongerman','nongerman_male','nongerman_female']\n",
    "\n",
    "# Conditional coverage for subgroup==1\n",
    "cond_coverage = {\n",
    "    g: cp_groups_df.loc[cp_groups_df[g]==1, 'covered'].mean()\n",
    "    for g in subgroups\n",
    "}"
   ]
  },
  {
   "cell_type": "code",
   "execution_count": 56,
   "id": "1e348fb1-b9c3-45bc-ba23-f016827a7e0d",
   "metadata": {
    "execution": {
     "iopub.execute_input": "2025-08-05T16:36:31.596349Z",
     "iopub.status.busy": "2025-08-05T16:36:31.595469Z",
     "iopub.status.idle": "2025-08-05T16:36:31.602774Z",
     "shell.execute_reply": "2025-08-05T16:36:31.601699Z"
    },
    "papermill": {
     "duration": 0.032954,
     "end_time": "2025-08-05T16:36:31.604521",
     "exception": false,
     "start_time": "2025-08-05T16:36:31.571567",
     "status": "completed"
    },
    "tags": []
   },
   "outputs": [
    {
     "data": {
      "text/plain": [
       "{'frau1': 0.9111740126701712,\n",
       " 'nongerman': 0.9086622129905125,\n",
       " 'nongerman_male': 0.9253354949112852,\n",
       " 'nongerman_female': 0.8810730253353204}"
      ]
     },
     "execution_count": 56,
     "metadata": {},
     "output_type": "execute_result"
    }
   ],
   "source": [
    "cond_coverage"
   ]
  },
  {
   "cell_type": "code",
   "execution_count": 57,
   "id": "f5093324-c3dd-4d63-bc4c-8d945e5c8bbb",
   "metadata": {
    "execution": {
     "iopub.execute_input": "2025-08-05T16:36:31.653047Z",
     "iopub.status.busy": "2025-08-05T16:36:31.652262Z",
     "iopub.status.idle": "2025-08-05T16:36:31.661071Z",
     "shell.execute_reply": "2025-08-05T16:36:31.660085Z"
    },
    "papermill": {
     "duration": 0.038674,
     "end_time": "2025-08-05T16:36:31.666691",
     "exception": false,
     "start_time": "2025-08-05T16:36:31.628017",
     "status": "completed"
    },
    "tags": []
   },
   "outputs": [],
   "source": [
    "for subgroup, cov in cond_coverage.items():\n",
    "    cp_metrics_df[f\"cov_{subgroup}\"] = cov"
   ]
  },
  {
   "cell_type": "code",
   "execution_count": 58,
   "id": "6e872e10-dbe5-49e8-b554-5030c98ff75d",
   "metadata": {
    "execution": {
     "iopub.execute_input": "2025-08-05T16:36:31.712110Z",
     "iopub.status.busy": "2025-08-05T16:36:31.711299Z",
     "iopub.status.idle": "2025-08-05T16:36:31.730343Z",
     "shell.execute_reply": "2025-08-05T16:36:31.729215Z"
    },
    "papermill": {
     "duration": 0.046503,
     "end_time": "2025-08-05T16:36:31.734656",
     "exception": false,
     "start_time": "2025-08-05T16:36:31.688153",
     "status": "completed"
    },
    "tags": []
   },
   "outputs": [
    {
     "data": {
      "text/html": [
       "<div>\n",
       "<style scoped>\n",
       "    .dataframe tbody tr th:only-of-type {\n",
       "        vertical-align: middle;\n",
       "    }\n",
       "\n",
       "    .dataframe tbody tr th {\n",
       "        vertical-align: top;\n",
       "    }\n",
       "\n",
       "    .dataframe thead th {\n",
       "        text-align: right;\n",
       "    }\n",
       "</style>\n",
       "<table border=\"1\" class=\"dataframe\">\n",
       "  <thead>\n",
       "    <tr style=\"text-align: right;\">\n",
       "      <th></th>\n",
       "      <th>universe_id</th>\n",
       "      <th>universe_training_year</th>\n",
       "      <th>universe_training_size</th>\n",
       "      <th>universe_scale</th>\n",
       "      <th>universe_model</th>\n",
       "      <th>universe_exclude_features</th>\n",
       "      <th>universe_exclude_subgroups</th>\n",
       "      <th>q_hat</th>\n",
       "      <th>coverage</th>\n",
       "      <th>avg_size</th>\n",
       "      <th>cov_frau1</th>\n",
       "      <th>cov_nongerman</th>\n",
       "      <th>cov_nongerman_male</th>\n",
       "      <th>cov_nongerman_female</th>\n",
       "    </tr>\n",
       "  </thead>\n",
       "  <tbody>\n",
       "    <tr>\n",
       "      <th>0</th>\n",
       "      <td>ffa422c889a36d1f1130db7dc42ff28e</td>\n",
       "      <td>2010_14</td>\n",
       "      <td>1k</td>\n",
       "      <td>scale</td>\n",
       "      <td>gbm</td>\n",
       "      <td>sex</td>\n",
       "      <td>keep-all</td>\n",
       "      <td>0.747397</td>\n",
       "      <td>0.911838</td>\n",
       "      <td>1.178375</td>\n",
       "      <td>0.911174</td>\n",
       "      <td>0.908662</td>\n",
       "      <td>0.925335</td>\n",
       "      <td>0.881073</td>\n",
       "    </tr>\n",
       "  </tbody>\n",
       "</table>\n",
       "</div>"
      ],
      "text/plain": [
       "                        universe_id universe_training_year  \\\n",
       "0  ffa422c889a36d1f1130db7dc42ff28e                2010_14   \n",
       "\n",
       "  universe_training_size universe_scale universe_model  \\\n",
       "0                     1k          scale            gbm   \n",
       "\n",
       "  universe_exclude_features universe_exclude_subgroups     q_hat  coverage  \\\n",
       "0                       sex                   keep-all  0.747397  0.911838   \n",
       "\n",
       "   avg_size  cov_frau1  cov_nongerman  cov_nongerman_male  \\\n",
       "0  1.178375   0.911174       0.908662            0.925335   \n",
       "\n",
       "   cov_nongerman_female  \n",
       "0              0.881073  "
      ]
     },
     "execution_count": 58,
     "metadata": {},
     "output_type": "execute_result"
    }
   ],
   "source": [
    "cp_metrics_df"
   ]
  },
  {
   "cell_type": "markdown",
   "id": "33774451",
   "metadata": {
    "papermill": {
     "duration": 0.023278,
     "end_time": "2025-08-05T16:36:31.780292",
     "exception": false,
     "start_time": "2025-08-05T16:36:31.757014",
     "status": "completed"
    },
    "tags": []
   },
   "source": [
    "# (Fairness) Metrics"
   ]
  },
  {
   "cell_type": "code",
   "execution_count": 59,
   "id": "debc5d62",
   "metadata": {
    "execution": {
     "iopub.execute_input": "2025-08-05T16:36:31.824864Z",
     "iopub.status.busy": "2025-08-05T16:36:31.824048Z",
     "iopub.status.idle": "2025-08-05T16:36:31.844969Z",
     "shell.execute_reply": "2025-08-05T16:36:31.844001Z"
    },
    "papermill": {
     "duration": 0.045116,
     "end_time": "2025-08-05T16:36:31.846726",
     "exception": false,
     "start_time": "2025-08-05T16:36:31.801610",
     "status": "completed"
    },
    "tags": []
   },
   "outputs": [],
   "source": [
    "# do I need to include maxdeutsch1.missing?\n",
    "\n",
    "import numpy as np\n",
    "\n",
    "colname_to_bin = \"maxdeutsch1\"\n",
    "majority_value = org_train[colname_to_bin].mode()[0]\n",
    "\n",
    "org_test[\"majmin\"] = np.where(org_test[colname_to_bin] == majority_value, \"majority\", \"minority\")"
   ]
  },
  {
   "cell_type": "code",
   "execution_count": 60,
   "id": "06a50de5",
   "metadata": {
    "execution": {
     "iopub.execute_input": "2025-08-05T16:36:31.892804Z",
     "iopub.status.busy": "2025-08-05T16:36:31.891951Z",
     "iopub.status.idle": "2025-08-05T16:36:33.938169Z",
     "shell.execute_reply": "2025-08-05T16:36:33.937388Z"
    },
    "papermill": {
     "duration": 2.070322,
     "end_time": "2025-08-05T16:36:33.939548",
     "exception": false,
     "start_time": "2025-08-05T16:36:31.869226",
     "status": "completed"
    },
    "tags": []
   },
   "outputs": [],
   "source": [
    "example_universe = universe.copy()\n",
    "example_universe[\"cutoff\"] = example_universe[\"cutoff\"][0]\n",
    "example_universe[\"eval_fairness_grouping\"] = example_universe[\"eval_fairness_grouping\"][0]\n",
    "fairness_dict, metric_frame = universe_analysis.compute_metrics(\n",
    "    example_universe,\n",
    "    y_pred_prob=probs_test,\n",
    "    y_test=y_true,\n",
    "    org_test=org_test,\n",
    ")"
   ]
  },
  {
   "cell_type": "markdown",
   "id": "f95d4e02",
   "metadata": {
    "papermill": {
     "duration": 0.010966,
     "end_time": "2025-08-05T16:36:33.962534",
     "exception": false,
     "start_time": "2025-08-05T16:36:33.951568",
     "status": "completed"
    },
    "tags": []
   },
   "source": [
    "# Overall"
   ]
  },
  {
   "cell_type": "markdown",
   "id": "bdee4871",
   "metadata": {
    "papermill": {
     "duration": 0.010894,
     "end_time": "2025-08-05T16:36:33.984609",
     "exception": false,
     "start_time": "2025-08-05T16:36:33.973715",
     "status": "completed"
    },
    "tags": []
   },
   "source": [
    "Fairness\n",
    "Main fairness target: Equalized Odds. Seems to be a better fit than equal opportunity, since we're not only interested in Y = 1. Seems to be a better fit than demographic parity, since we also care about accuracy, not just equal distribution of preds.\n",
    "\n",
    "Pick column for computation of fairness metrics\n",
    "\n",
    "Performance\n",
    "Overall performance measures, most interesting in relation to the measures split by group below"
   ]
  },
  {
   "cell_type": "code",
   "execution_count": 61,
   "id": "c4e067c6",
   "metadata": {
    "execution": {
     "iopub.execute_input": "2025-08-05T16:36:34.008337Z",
     "iopub.status.busy": "2025-08-05T16:36:34.007666Z",
     "iopub.status.idle": "2025-08-05T16:36:34.014711Z",
     "shell.execute_reply": "2025-08-05T16:36:34.013977Z"
    },
    "papermill": {
     "duration": 0.020472,
     "end_time": "2025-08-05T16:36:34.016082",
     "exception": false,
     "start_time": "2025-08-05T16:36:33.995610",
     "status": "completed"
    },
    "tags": []
   },
   "outputs": [
    {
     "data": {
      "text/plain": [
       "accuracy                   0.222439\n",
       "balanced accuracy          0.544299\n",
       "f1                         0.243824\n",
       "precision                  0.139288\n",
       "false positive rate        0.888635\n",
       "false negative rate        0.022767\n",
       "selection rate             0.900000\n",
       "count                  89710.000000\n",
       "dtype: float64"
      ]
     },
     "execution_count": 61,
     "metadata": {},
     "output_type": "execute_result"
    }
   ],
   "source": [
    "metric_frame.overall"
   ]
  },
  {
   "cell_type": "markdown",
   "id": "e968fe9d",
   "metadata": {
    "papermill": {
     "duration": 0.011187,
     "end_time": "2025-08-05T16:36:34.039368",
     "exception": false,
     "start_time": "2025-08-05T16:36:34.028181",
     "status": "completed"
    },
    "tags": []
   },
   "source": [
    "By Group"
   ]
  },
  {
   "cell_type": "code",
   "execution_count": 62,
   "id": "ec325bce",
   "metadata": {
    "execution": {
     "iopub.execute_input": "2025-08-05T16:36:34.063488Z",
     "iopub.status.busy": "2025-08-05T16:36:34.062825Z",
     "iopub.status.idle": "2025-08-05T16:36:34.074722Z",
     "shell.execute_reply": "2025-08-05T16:36:34.073906Z"
    },
    "papermill": {
     "duration": 0.025422,
     "end_time": "2025-08-05T16:36:34.076145",
     "exception": false,
     "start_time": "2025-08-05T16:36:34.050723",
     "status": "completed"
    },
    "tags": []
   },
   "outputs": [
    {
     "data": {
      "text/html": [
       "<div>\n",
       "<style scoped>\n",
       "    .dataframe tbody tr th:only-of-type {\n",
       "        vertical-align: middle;\n",
       "    }\n",
       "\n",
       "    .dataframe tbody tr th {\n",
       "        vertical-align: top;\n",
       "    }\n",
       "\n",
       "    .dataframe thead th {\n",
       "        text-align: right;\n",
       "    }\n",
       "</style>\n",
       "<table border=\"1\" class=\"dataframe\">\n",
       "  <thead>\n",
       "    <tr style=\"text-align: right;\">\n",
       "      <th></th>\n",
       "      <th>accuracy</th>\n",
       "      <th>balanced accuracy</th>\n",
       "      <th>f1</th>\n",
       "      <th>precision</th>\n",
       "      <th>false positive rate</th>\n",
       "      <th>false negative rate</th>\n",
       "      <th>selection rate</th>\n",
       "      <th>count</th>\n",
       "    </tr>\n",
       "    <tr>\n",
       "      <th>majmin</th>\n",
       "      <th></th>\n",
       "      <th></th>\n",
       "      <th></th>\n",
       "      <th></th>\n",
       "      <th></th>\n",
       "      <th></th>\n",
       "      <th></th>\n",
       "      <th></th>\n",
       "    </tr>\n",
       "  </thead>\n",
       "  <tbody>\n",
       "    <tr>\n",
       "      <th>majority</th>\n",
       "      <td>0.237083</td>\n",
       "      <td>0.550537</td>\n",
       "      <td>0.252779</td>\n",
       "      <td>0.145178</td>\n",
       "      <td>0.875512</td>\n",
       "      <td>0.023414</td>\n",
       "      <td>0.888868</td>\n",
       "      <td>69170.0</td>\n",
       "    </tr>\n",
       "    <tr>\n",
       "      <th>minority</th>\n",
       "      <td>0.173126</td>\n",
       "      <td>0.523873</td>\n",
       "      <td>0.214576</td>\n",
       "      <td>0.120482</td>\n",
       "      <td>0.931983</td>\n",
       "      <td>0.020270</td>\n",
       "      <td>0.937488</td>\n",
       "      <td>20540.0</td>\n",
       "    </tr>\n",
       "  </tbody>\n",
       "</table>\n",
       "</div>"
      ],
      "text/plain": [
       "          accuracy  balanced accuracy        f1  precision  \\\n",
       "majmin                                                       \n",
       "majority  0.237083           0.550537  0.252779   0.145178   \n",
       "minority  0.173126           0.523873  0.214576   0.120482   \n",
       "\n",
       "          false positive rate  false negative rate  selection rate    count  \n",
       "majmin                                                                       \n",
       "majority             0.875512             0.023414        0.888868  69170.0  \n",
       "minority             0.931983             0.020270        0.937488  20540.0  "
      ]
     },
     "execution_count": 62,
     "metadata": {},
     "output_type": "execute_result"
    }
   ],
   "source": [
    "metric_frame.by_group"
   ]
  },
  {
   "cell_type": "code",
   "execution_count": 63,
   "id": "a9ddbe63",
   "metadata": {
    "execution": {
     "iopub.execute_input": "2025-08-05T16:36:34.101122Z",
     "iopub.status.busy": "2025-08-05T16:36:34.100432Z",
     "iopub.status.idle": "2025-08-05T16:36:35.761370Z",
     "shell.execute_reply": "2025-08-05T16:36:35.760543Z"
    },
    "papermill": {
     "duration": 1.674277,
     "end_time": "2025-08-05T16:36:35.762663",
     "exception": false,
     "start_time": "2025-08-05T16:36:34.088386",
     "status": "completed"
    },
    "tags": []
   },
   "outputs": [
    {
     "data": {
      "text/plain": [
       "array([[<Axes: title={'center': 'accuracy'}, xlabel='majmin'>,\n",
       "        <Axes: title={'center': 'balanced accuracy'}, xlabel='majmin'>,\n",
       "        <Axes: title={'center': 'f1'}, xlabel='majmin'>],\n",
       "       [<Axes: title={'center': 'precision'}, xlabel='majmin'>,\n",
       "        <Axes: title={'center': 'false positive rate'}, xlabel='majmin'>,\n",
       "        <Axes: title={'center': 'false negative rate'}, xlabel='majmin'>],\n",
       "       [<Axes: title={'center': 'selection rate'}, xlabel='majmin'>,\n",
       "        <Axes: title={'center': 'count'}, xlabel='majmin'>,\n",
       "        <Axes: xlabel='majmin'>]], dtype=object)"
      ]
     },
     "execution_count": 63,
     "metadata": {},
     "output_type": "execute_result"
    },
    {
     "data": {
      "image/png": "[encoded data removed]",
      "text/plain": [
       "<Figure size 1200x800 with 9 Axes>"
      ]
     },
     "metadata": {},
     "output_type": "display_data"
    }
   ],
   "source": [
    "# In a graphic\n",
    "metric_frame.by_group.plot.bar(\n",
    "    subplots=True,\n",
    "    layout=[3, 3],\n",
    "    legend=False,\n",
    "    figsize=[12, 8],\n",
    "    title=\"Show all metrics\",\n",
    ")"
   ]
  },
  {
   "cell_type": "markdown",
   "id": "f57a0bac",
   "metadata": {
    "papermill": {
     "duration": 0.01239,
     "end_time": "2025-08-05T16:36:35.788471",
     "exception": false,
     "start_time": "2025-08-05T16:36:35.776081",
     "status": "completed"
    },
    "tags": []
   },
   "source": [
    "# Final Output"
   ]
  },
  {
   "cell_type": "code",
   "execution_count": 64,
   "id": "96d280a3",
   "metadata": {
    "execution": {
     "iopub.execute_input": "2025-08-05T16:36:35.814721Z",
     "iopub.status.busy": "2025-08-05T16:36:35.814138Z",
     "iopub.status.idle": "2025-08-05T16:36:35.822332Z",
     "shell.execute_reply": "2025-08-05T16:36:35.821427Z"
    },
    "papermill": {
     "duration": 0.022855,
     "end_time": "2025-08-05T16:36:35.823553",
     "exception": false,
     "start_time": "2025-08-05T16:36:35.800698",
     "status": "completed"
    },
    "tags": []
   },
   "outputs": [
    {
     "data": {
      "text/plain": [
       "4"
      ]
     },
     "execution_count": 64,
     "metadata": {},
     "output_type": "execute_result"
    }
   ],
   "source": [
    "sub_universes = universe_analysis.generate_sub_universes()\n",
    "len(sub_universes)"
   ]
  },
  {
   "cell_type": "code",
   "execution_count": 65,
   "id": "92adf7ba",
   "metadata": {
    "execution": {
     "iopub.execute_input": "2025-08-05T16:36:35.850062Z",
     "iopub.status.busy": "2025-08-05T16:36:35.849426Z",
     "iopub.status.idle": "2025-08-05T16:36:35.866465Z",
     "shell.execute_reply": "2025-08-05T16:36:35.865714Z"
    },
    "papermill": {
     "duration": 0.03159,
     "end_time": "2025-08-05T16:36:35.867913",
     "exception": false,
     "start_time": "2025-08-05T16:36:35.836323",
     "status": "completed"
    },
    "tags": []
   },
   "outputs": [],
   "source": [
    "def filter_sub_universe_data(sub_universe, org_test):\n",
    "    # Keep all rows — no filtering\n",
    "    keep_rows_mask = np.ones(org_test.shape[0], dtype=bool)\n",
    "\n",
    "    print(f\"[INFO] Keeping all rows: {keep_rows_mask.sum()} rows retained.\")\n",
    "    return keep_rows_mask"
   ]
  },
  {
   "cell_type": "code",
   "execution_count": 66,
   "id": "4a759155",
   "metadata": {
    "execution": {
     "iopub.execute_input": "2025-08-05T16:36:35.895237Z",
     "iopub.status.busy": "2025-08-05T16:36:35.894547Z",
     "iopub.status.idle": "2025-08-05T16:36:44.394411Z",
     "shell.execute_reply": "2025-08-05T16:36:44.393361Z"
    },
    "papermill": {
     "duration": 8.514637,
     "end_time": "2025-08-05T16:36:44.396091",
     "exception": false,
     "start_time": "2025-08-05T16:36:35.881454",
     "status": "completed"
    },
    "tags": []
   },
   "outputs": [
    {
     "name": "stdout",
     "output_type": "stream",
     "text": [
      "Stopping execution_time clock.\n",
      "[INFO] Keeping all rows: 89710 rows retained.\n"
     ]
    },
    {
     "name": "stdout",
     "output_type": "stream",
     "text": [
      "[INFO] Keeping all rows: 89710 rows retained.\n"
     ]
    },
    {
     "name": "stdout",
     "output_type": "stream",
     "text": [
      "[INFO] Keeping all rows: 89710 rows retained.\n"
     ]
    },
    {
     "name": "stdout",
     "output_type": "stream",
     "text": [
      "[INFO] Keeping all rows: 89710 rows retained.\n"
     ]
    },
    {
     "data": {
      "text/html": [
       "<div>\n",
       "<style scoped>\n",
       "    .dataframe tbody tr th:only-of-type {\n",
       "        vertical-align: middle;\n",
       "    }\n",
       "\n",
       "    .dataframe tbody tr th {\n",
       "        vertical-align: top;\n",
       "    }\n",
       "\n",
       "    .dataframe thead th {\n",
       "        text-align: right;\n",
       "    }\n",
       "</style>\n",
       "<table border=\"1\" class=\"dataframe\">\n",
       "  <thead>\n",
       "    <tr style=\"text-align: right;\">\n",
       "      <th></th>\n",
       "      <th>run_no</th>\n",
       "      <th>universe_id</th>\n",
       "      <th>universe_settings</th>\n",
       "      <th>execution_time</th>\n",
       "      <th>test_size_n</th>\n",
       "      <th>test_size_frac</th>\n",
       "      <th>fair_main_equalized_odds_difference</th>\n",
       "      <th>fair_main_equalized_odds_ratio</th>\n",
       "      <th>fair_main_demographic_parity_difference</th>\n",
       "      <th>fair_main_demographic_parity_ratio</th>\n",
       "      <th>...</th>\n",
       "      <th>perf_grp_precision_0</th>\n",
       "      <th>perf_grp_precision_1</th>\n",
       "      <th>perf_grp_false positive rate_0</th>\n",
       "      <th>perf_grp_false positive rate_1</th>\n",
       "      <th>perf_grp_false negative rate_0</th>\n",
       "      <th>perf_grp_false negative rate_1</th>\n",
       "      <th>perf_grp_selection rate_0</th>\n",
       "      <th>perf_grp_selection rate_1</th>\n",
       "      <th>perf_grp_count_0</th>\n",
       "      <th>perf_grp_count_1</th>\n",
       "    </tr>\n",
       "  </thead>\n",
       "  <tbody>\n",
       "    <tr>\n",
       "      <th>0</th>\n",
       "      <td>15</td>\n",
       "      <td>ffa422c889a36d1f1130db7dc42ff28e</td>\n",
       "      <td>{\"cutoff\": \"quantile_0.1\", \"eval_fairness_grou...</td>\n",
       "      <td>23.178732</td>\n",
       "      <td>89710</td>\n",
       "      <td>1.0</td>\n",
       "      <td>0.056471</td>\n",
       "      <td>0.939408</td>\n",
       "      <td>0.048620</td>\n",
       "      <td>0.948138</td>\n",
       "      <td>...</td>\n",
       "      <td>NaN</td>\n",
       "      <td>NaN</td>\n",
       "      <td>NaN</td>\n",
       "      <td>NaN</td>\n",
       "      <td>NaN</td>\n",
       "      <td>NaN</td>\n",
       "      <td>NaN</td>\n",
       "      <td>NaN</td>\n",
       "      <td>NaN</td>\n",
       "      <td>NaN</td>\n",
       "    </tr>\n",
       "    <tr>\n",
       "      <th>0</th>\n",
       "      <td>15</td>\n",
       "      <td>ffa422c889a36d1f1130db7dc42ff28e</td>\n",
       "      <td>{\"cutoff\": \"quantile_0.1\", \"eval_fairness_grou...</td>\n",
       "      <td>23.178732</td>\n",
       "      <td>89710</td>\n",
       "      <td>1.0</td>\n",
       "      <td>0.056471</td>\n",
       "      <td>0.939408</td>\n",
       "      <td>0.048620</td>\n",
       "      <td>0.948138</td>\n",
       "      <td>...</td>\n",
       "      <td>0.120482</td>\n",
       "      <td>0.145178</td>\n",
       "      <td>0.931983</td>\n",
       "      <td>0.875512</td>\n",
       "      <td>0.020270</td>\n",
       "      <td>0.023414</td>\n",
       "      <td>0.937488</td>\n",
       "      <td>0.888868</td>\n",
       "      <td>20540.0</td>\n",
       "      <td>69170.0</td>\n",
       "    </tr>\n",
       "    <tr>\n",
       "      <th>0</th>\n",
       "      <td>15</td>\n",
       "      <td>ffa422c889a36d1f1130db7dc42ff28e</td>\n",
       "      <td>{\"cutoff\": \"quantile_0.25\", \"eval_fairness_gro...</td>\n",
       "      <td>23.178732</td>\n",
       "      <td>89710</td>\n",
       "      <td>1.0</td>\n",
       "      <td>0.137457</td>\n",
       "      <td>0.834314</td>\n",
       "      <td>0.119599</td>\n",
       "      <td>0.857993</td>\n",
       "      <td>...</td>\n",
       "      <td>NaN</td>\n",
       "      <td>NaN</td>\n",
       "      <td>NaN</td>\n",
       "      <td>NaN</td>\n",
       "      <td>NaN</td>\n",
       "      <td>NaN</td>\n",
       "      <td>NaN</td>\n",
       "      <td>NaN</td>\n",
       "      <td>NaN</td>\n",
       "      <td>NaN</td>\n",
       "    </tr>\n",
       "    <tr>\n",
       "      <th>0</th>\n",
       "      <td>15</td>\n",
       "      <td>ffa422c889a36d1f1130db7dc42ff28e</td>\n",
       "      <td>{\"cutoff\": \"quantile_0.25\", \"eval_fairness_gro...</td>\n",
       "      <td>23.178732</td>\n",
       "      <td>89710</td>\n",
       "      <td>1.0</td>\n",
       "      <td>0.137457</td>\n",
       "      <td>0.834314</td>\n",
       "      <td>0.119599</td>\n",
       "      <td>0.857993</td>\n",
       "      <td>...</td>\n",
       "      <td>0.128505</td>\n",
       "      <td>0.168697</td>\n",
       "      <td>0.829628</td>\n",
       "      <td>0.692171</td>\n",
       "      <td>0.061233</td>\n",
       "      <td>0.077462</td>\n",
       "      <td>0.842210</td>\n",
       "      <td>0.722611</td>\n",
       "      <td>20540.0</td>\n",
       "      <td>69170.0</td>\n",
       "    </tr>\n",
       "  </tbody>\n",
       "</table>\n",
       "<p>4 rows × 50 columns</p>\n",
       "</div>"
      ],
      "text/plain": [
       "  run_no                       universe_id  \\\n",
       "0     15  ffa422c889a36d1f1130db7dc42ff28e   \n",
       "0     15  ffa422c889a36d1f1130db7dc42ff28e   \n",
       "0     15  ffa422c889a36d1f1130db7dc42ff28e   \n",
       "0     15  ffa422c889a36d1f1130db7dc42ff28e   \n",
       "\n",
       "                                   universe_settings  execution_time  \\\n",
       "0  {\"cutoff\": \"quantile_0.1\", \"eval_fairness_grou...       23.178732   \n",
       "0  {\"cutoff\": \"quantile_0.1\", \"eval_fairness_grou...       23.178732   \n",
       "0  {\"cutoff\": \"quantile_0.25\", \"eval_fairness_gro...       23.178732   \n",
       "0  {\"cutoff\": \"quantile_0.25\", \"eval_fairness_gro...       23.178732   \n",
       "\n",
       "   test_size_n  test_size_frac  fair_main_equalized_odds_difference  \\\n",
       "0        89710             1.0                             0.056471   \n",
       "0        89710             1.0                             0.056471   \n",
       "0        89710             1.0                             0.137457   \n",
       "0        89710             1.0                             0.137457   \n",
       "\n",
       "   fair_main_equalized_odds_ratio  fair_main_demographic_parity_difference  \\\n",
       "0                        0.939408                                 0.048620   \n",
       "0                        0.939408                                 0.048620   \n",
       "0                        0.834314                                 0.119599   \n",
       "0                        0.834314                                 0.119599   \n",
       "\n",
       "   fair_main_demographic_parity_ratio  ...  perf_grp_precision_0  \\\n",
       "0                            0.948138  ...                   NaN   \n",
       "0                            0.948138  ...              0.120482   \n",
       "0                            0.857993  ...                   NaN   \n",
       "0                            0.857993  ...              0.128505   \n",
       "\n",
       "   perf_grp_precision_1  perf_grp_false positive rate_0  \\\n",
       "0                   NaN                             NaN   \n",
       "0              0.145178                        0.931983   \n",
       "0                   NaN                             NaN   \n",
       "0              0.168697                        0.829628   \n",
       "\n",
       "   perf_grp_false positive rate_1  perf_grp_false negative rate_0  \\\n",
       "0                             NaN                             NaN   \n",
       "0                        0.875512                        0.020270   \n",
       "0                             NaN                             NaN   \n",
       "0                        0.692171                        0.061233   \n",
       "\n",
       "   perf_grp_false negative rate_1  perf_grp_selection rate_0  \\\n",
       "0                             NaN                        NaN   \n",
       "0                        0.023414                   0.937488   \n",
       "0                             NaN                        NaN   \n",
       "0                        0.077462                   0.842210   \n",
       "\n",
       "   perf_grp_selection rate_1  perf_grp_count_0  perf_grp_count_1  \n",
       "0                        NaN               NaN               NaN  \n",
       "0                   0.888868           20540.0           69170.0  \n",
       "0                        NaN               NaN               NaN  \n",
       "0                   0.722611           20540.0           69170.0  \n",
       "\n",
       "[4 rows x 50 columns]"
      ]
     },
     "execution_count": 66,
     "metadata": {},
     "output_type": "execute_result"
    }
   ],
   "source": [
    "final_output = universe_analysis.generate_final_output(\n",
    "    y_pred_prob=probs_test,\n",
    "    y_test=y_true,\n",
    "    org_test=org_test,\n",
    "    filter_data=filter_sub_universe_data,\n",
    "    cp_metrics_df=cp_metrics_df,\n",
    "    save=True,\n",
    ")\n",
    "final_output"
   ]
  }
 ],
 "metadata": {
  "celltoolbar": "Tags",
  "kernelspec": {
   "display_name": "Python (CMA Fairness)",
   "language": "python",
   "name": "cma_fair_env"
  },
  "language_info": {
   "codemirror_mode": {
    "name": "ipython",
    "version": 3
   },
   "file_extension": ".py",
   "mimetype": "text/x-python",
   "name": "python",
   "nbconvert_exporter": "python",
   "pygments_lexer": "ipython3",
   "version": "3.10.12"
  },
  "papermill": {
   "default_parameters": {},
   "duration": 35.633339,
   "end_time": "2025-08-05T16:36:45.243727",
   "environment_variables": {},
   "exception": null,
   "input_path": "universe_analysis.ipynb",
   "output_path": "output/runs/15/notebooks/m_15-ffa422c889a36d1f1130db7dc42ff28e.ipynb",
   "parameters": {
    "output_dir": "output",
    "run_no": "15",
    "seed": "2023",
    "universe": "{\"cutoff\": [\"quantile_0.1\", \"quantile_0.25\"], \"eval_fairness_grouping\": [\"majority-minority\", \"nationality-all\"], \"exclude_features\": \"sex\", \"exclude_subgroups\": \"keep-all\", \"model\": \"gbm\", \"scale\": \"scale\", \"training_size\": \"1k\", \"training_year\": \"2010_14\"}",
    "universe_id": "ffa422c889a36d1f1130db7dc42ff28e"
   },
   "start_time": "2025-08-05T16:36:09.610388",
   "version": "2.6.0"
  }
 },
 "nbformat": 4,
 "nbformat_minor": 5
}