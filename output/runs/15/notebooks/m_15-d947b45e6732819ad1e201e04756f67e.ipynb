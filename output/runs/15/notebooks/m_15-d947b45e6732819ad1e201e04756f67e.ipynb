{
 "cells": [
  {
   "cell_type": "code",
   "execution_count": 1,
   "id": "f159f837-637b-42ba-96b5-ec9a68c44524",
   "metadata": {
    "execution": {
     "iopub.execute_input": "2025-08-05T15:56:21.893235Z",
     "iopub.status.busy": "2025-08-05T15:56:21.892698Z",
     "iopub.status.idle": "2025-08-05T15:56:21.910962Z",
     "shell.execute_reply": "2025-08-05T15:56:21.910014Z"
    },
    "papermill": {
     "duration": 0.031159,
     "end_time": "2025-08-05T15:56:21.912554",
     "exception": false,
     "start_time": "2025-08-05T15:56:21.881395",
     "status": "completed"
    },
    "tags": []
   },
   "outputs": [
    {
     "name": "stdout",
     "output_type": "stream",
     "text": [
      "/dss/dsshome1/0C/ra93lal2/cma/CMA_Fairness_v2\n"
     ]
    },
    {
     "name": "stderr",
     "output_type": "stream",
     "text": [
      "/dss/dsshome1/0C/ra93lal2/.local/share/virtualenvs/CMA_Fairness_v2-3j10GkSs/lib/python3.10/site-packages/IPython/core/magics/osm.py:393: UserWarning: This is now an optional IPython functionality, using bookmarks requires you to install the `pickleshare` library.\n",
      "  bkms = self.shell.db.get('bookmarks', {})\n",
      "/dss/dsshome1/0C/ra93lal2/.local/share/virtualenvs/CMA_Fairness_v2-3j10GkSs/lib/python3.10/site-packages/IPython/core/magics/osm.py:417: UserWarning: This is now an optional IPython functionality, setting dhist requires you to install the `pickleshare` library.\n",
      "  self.shell.db['dhist'] = compress_dhist(dhist)[-100:]\n"
     ]
    }
   ],
   "source": [
    "%cd ~/cma/CMA_Fairness_v2"
   ]
  },
  {
   "cell_type": "markdown",
   "id": "de2603b9",
   "metadata": {
    "papermill": {
     "duration": 0.015892,
     "end_time": "2025-08-05T15:56:21.944392",
     "exception": false,
     "start_time": "2025-08-05T15:56:21.928500",
     "status": "completed"
    },
    "tags": []
   },
   "source": [
    "The following cell holds the definition of our parameters, these values can be overriden by rendering the with e.g. the following command:\n",
    "\n",
    "papermill -p alpha 0.2 -p ratio 0.3 universe_analysis.ipynb output/test_run.ipynb"
   ]
  },
  {
   "cell_type": "code",
   "execution_count": 2,
   "id": "a80968a0-40bb-4fa9-85ef-2d5eefb01975",
   "metadata": {
    "execution": {
     "iopub.execute_input": "2025-08-05T15:56:21.977592Z",
     "iopub.status.busy": "2025-08-05T15:56:21.976995Z",
     "iopub.status.idle": "2025-08-05T15:56:21.983664Z",
     "shell.execute_reply": "2025-08-05T15:56:21.982563Z"
    },
    "papermill": {
     "duration": 0.025876,
     "end_time": "2025-08-05T15:56:21.985476",
     "exception": false,
     "start_time": "2025-08-05T15:56:21.959600",
     "status": "completed"
    },
    "tags": []
   },
   "outputs": [
    {
     "name": "stdout",
     "output_type": "stream",
     "text": [
      "Current working directory: /dss/dsshome1/0C/ra93lal2/cma/CMA_Fairness_v2\n"
     ]
    }
   ],
   "source": [
    "import os\n",
    "print(\"Current working directory:\", os.getcwd())"
   ]
  },
  {
   "cell_type": "code",
   "execution_count": 3,
   "id": "2dce4c03",
   "metadata": {
    "execution": {
     "iopub.execute_input": "2025-08-05T15:56:22.007602Z",
     "iopub.status.busy": "2025-08-05T15:56:22.006960Z",
     "iopub.status.idle": "2025-08-05T15:56:22.012078Z",
     "shell.execute_reply": "2025-08-05T15:56:22.011292Z"
    },
    "papermill": {
     "duration": 0.016502,
     "end_time": "2025-08-05T15:56:22.013613",
     "exception": false,
     "start_time": "2025-08-05T15:56:21.997111",
     "status": "completed"
    },
    "tags": [
     "parameters"
    ]
   },
   "outputs": [],
   "source": [
    "run_no = 0\n",
    "universe_id = \"test\"\n",
    "universe = {\n",
    "    \"training_size\": \"25k\", # \"25k\", \"5k\", \"1k\"\n",
    "    \"training_year\": \"2014\", # \"2014\", \"2012_14\", \"2010_14\"\n",
    "    \"scale\": \"scale\", # \"scale\", \"do-not-scale\",\n",
    "    \"model\": \"elasticnet\", # \"logreg\", \"penalized_logreg\", \"rf\", \"gbm\", \"elasticnet\"\n",
    "    \"cutoff\": [\"quantile_0.15\", \"quantile_0.30\"],\n",
    "    \"exclude_features\": \"age\", # \"none\", \"nationality\", \"sex\", \"nationality-sex\", \"age\"\n",
    "    \"exclude_subgroups\": \"keep-all\", # \"keep-all\", \"drop-non-german\"\n",
    "    \"eval_fairness_grouping\": [\"majority-minority\", \"nationality-all\"]\n",
    "}\n",
    "\n",
    "output_dir=\"./output\"\n",
    "seed=0"
   ]
  },
  {
   "cell_type": "code",
   "execution_count": 4,
   "id": "583cab7d",
   "metadata": {
    "execution": {
     "iopub.execute_input": "2025-08-05T15:56:22.033563Z",
     "iopub.status.busy": "2025-08-05T15:56:22.033215Z",
     "iopub.status.idle": "2025-08-05T15:56:22.037008Z",
     "shell.execute_reply": "2025-08-05T15:56:22.036287Z"
    },
    "papermill": {
     "duration": 0.014978,
     "end_time": "2025-08-05T15:56:22.038557",
     "exception": false,
     "start_time": "2025-08-05T15:56:22.023579",
     "status": "completed"
    },
    "tags": [
     "injected-parameters"
    ]
   },
   "outputs": [],
   "source": [
    "# Parameters\n",
    "universe_id = \"d947b45e6732819ad1e201e04756f67e\"\n",
    "run_no = \"15\"\n",
    "universe = \"{\\\"cutoff\\\": [\\\"quantile_0.1\\\", \\\"quantile_0.25\\\"], \\\"eval_fairness_grouping\\\": [\\\"majority-minority\\\", \\\"nationality-all\\\"], \\\"exclude_features\\\": \\\"nationality\\\", \\\"exclude_subgroups\\\": \\\"drop-non-german\\\", \\\"model\\\": \\\"penalized_logreg\\\", \\\"scale\\\": \\\"do-not-scale\\\", \\\"training_size\\\": \\\"5k\\\", \\\"training_year\\\": \\\"2010_14\\\"}\"\n",
    "output_dir = \"output\"\n",
    "seed = \"2023\"\n"
   ]
  },
  {
   "cell_type": "code",
   "execution_count": 5,
   "id": "1650acaf",
   "metadata": {
    "execution": {
     "iopub.execute_input": "2025-08-05T15:56:22.058640Z",
     "iopub.status.busy": "2025-08-05T15:56:22.057994Z",
     "iopub.status.idle": "2025-08-05T15:56:22.062581Z",
     "shell.execute_reply": "2025-08-05T15:56:22.061524Z"
    },
    "papermill": {
     "duration": 0.015346,
     "end_time": "2025-08-05T15:56:22.064097",
     "exception": false,
     "start_time": "2025-08-05T15:56:22.048751",
     "status": "completed"
    },
    "tags": []
   },
   "outputs": [],
   "source": [
    "import json\n",
    "if isinstance(universe, str):\n",
    "    universe = json.loads(universe)"
   ]
  },
  {
   "cell_type": "code",
   "execution_count": 6,
   "id": "16620c48",
   "metadata": {
    "execution": {
     "iopub.execute_input": "2025-08-05T15:56:22.083593Z",
     "iopub.status.busy": "2025-08-05T15:56:22.083010Z",
     "iopub.status.idle": "2025-08-05T15:56:22.119180Z",
     "shell.execute_reply": "2025-08-05T15:56:22.118495Z"
    },
    "papermill": {
     "duration": 0.046791,
     "end_time": "2025-08-05T15:56:22.120489",
     "exception": false,
     "start_time": "2025-08-05T15:56:22.073698",
     "status": "completed"
    },
    "tags": []
   },
   "outputs": [],
   "source": [
    "# Auto-reload the custom package\n",
    "%load_ext autoreload\n",
    "%autoreload 1\n",
    "%aimport fairness_multiverse"
   ]
  },
  {
   "cell_type": "code",
   "execution_count": 7,
   "id": "01c5c9f3",
   "metadata": {
    "execution": {
     "iopub.execute_input": "2025-08-05T15:56:22.139761Z",
     "iopub.status.busy": "2025-08-05T15:56:22.139425Z",
     "iopub.status.idle": "2025-08-05T15:56:23.651754Z",
     "shell.execute_reply": "2025-08-05T15:56:23.650828Z"
    },
    "papermill": {
     "duration": 1.523461,
     "end_time": "2025-08-05T15:56:23.653367",
     "exception": false,
     "start_time": "2025-08-05T15:56:22.129906",
     "status": "completed"
    },
    "tags": []
   },
   "outputs": [],
   "source": [
    "from fairness_multiverse.universe import UniverseAnalysis\n",
    "\n",
    "universe_analysis = UniverseAnalysis(\n",
    "    run_no = run_no,\n",
    "    universe_id = universe_id,\n",
    "    universe = universe,\n",
    "    output_dir=output_dir,\n",
    ")"
   ]
  },
  {
   "cell_type": "code",
   "execution_count": 8,
   "id": "106241f5",
   "metadata": {
    "execution": {
     "iopub.execute_input": "2025-08-05T15:56:23.673606Z",
     "iopub.status.busy": "2025-08-05T15:56:23.673082Z",
     "iopub.status.idle": "2025-08-05T15:56:23.678708Z",
     "shell.execute_reply": "2025-08-05T15:56:23.677747Z"
    },
    "papermill": {
     "duration": 0.017226,
     "end_time": "2025-08-05T15:56:23.680656",
     "exception": false,
     "start_time": "2025-08-05T15:56:23.663430",
     "status": "completed"
    },
    "tags": []
   },
   "outputs": [
    {
     "name": "stdout",
     "output_type": "stream",
     "text": [
      "Using Seed: 2023\n"
     ]
    }
   ],
   "source": [
    "import numpy as np\n",
    "parsed_seed = int(seed)\n",
    "np.random.seed(parsed_seed)\n",
    "print(f\"Using Seed: {parsed_seed}\")"
   ]
  },
  {
   "cell_type": "markdown",
   "id": "e0ebdc57",
   "metadata": {
    "papermill": {
     "duration": 0.008844,
     "end_time": "2025-08-05T15:56:23.699556",
     "exception": false,
     "start_time": "2025-08-05T15:56:23.690712",
     "status": "completed"
    },
    "tags": []
   },
   "source": [
    "# Loading Data"
   ]
  },
  {
   "cell_type": "code",
   "execution_count": 9,
   "id": "f0496b8a",
   "metadata": {
    "execution": {
     "iopub.execute_input": "2025-08-05T15:56:23.718412Z",
     "iopub.status.busy": "2025-08-05T15:56:23.717911Z",
     "iopub.status.idle": "2025-08-05T15:56:34.826892Z",
     "shell.execute_reply": "2025-08-05T15:56:34.825585Z"
    },
    "papermill": {
     "duration": 11.120297,
     "end_time": "2025-08-05T15:56:34.828648",
     "exception": false,
     "start_time": "2025-08-05T15:56:23.708351",
     "status": "completed"
    },
    "tags": []
   },
   "outputs": [
    {
     "name": "stdout",
     "output_type": "stream",
     "text": [
      "Loading SIAB data from cache: data/siab_cached.csv.gz\n"
     ]
    },
    {
     "name": "stdout",
     "output_type": "stream",
     "text": [
      "(643690, 164)\n"
     ]
    }
   ],
   "source": [
    "from pathlib import Path\n",
    "import pandas as pd\n",
    "\n",
    "# File paths\n",
    "raw_file = Path(\"data/raw/siab.csv\")\n",
    "cache_file = Path(\"data/siab_cached.csv.gz\")\n",
    "\n",
    "# Ensure cache directory exists\n",
    "cache_file.parent.mkdir(parents=True, exist_ok=True)\n",
    "\n",
    "# Load with simple caching\n",
    "if cache_file.exists():\n",
    "    print(f\"Loading SIAB data from cache: {cache_file}\")\n",
    "    siab = pd.read_csv(cache_file, compression='gzip')\n",
    "else:\n",
    "    print(f\"Cache not found. Reading raw SIAB data: {raw_file}\")\n",
    "    siab = pd.read_csv(raw_file)\n",
    "    siab.to_csv(cache_file, index=False, compression='gzip')\n",
    "    print(f\"Cached SIAB data to: {cache_file}\")\n",
    "\n",
    "print(siab.shape)"
   ]
  },
  {
   "cell_type": "code",
   "execution_count": 10,
   "id": "db0ca512-5f53-4dba-abdb-a2888bca41ba",
   "metadata": {
    "execution": {
     "iopub.execute_input": "2025-08-05T15:56:34.872903Z",
     "iopub.status.busy": "2025-08-05T15:56:34.872351Z",
     "iopub.status.idle": "2025-08-05T15:56:34.878717Z",
     "shell.execute_reply": "2025-08-05T15:56:34.877471Z"
    },
    "papermill": {
     "duration": 0.02918,
     "end_time": "2025-08-05T15:56:34.880694",
     "exception": false,
     "start_time": "2025-08-05T15:56:34.851514",
     "status": "completed"
    },
    "tags": []
   },
   "outputs": [],
   "source": [
    "#siab"
   ]
  },
  {
   "cell_type": "markdown",
   "id": "997051c5-15bd-4b69-9786-c3001a3ce484",
   "metadata": {
    "papermill": {
     "duration": 0.019237,
     "end_time": "2025-08-05T15:56:34.920258",
     "exception": false,
     "start_time": "2025-08-05T15:56:34.901021",
     "status": "completed"
    },
    "tags": []
   },
   "source": [
    "# Splitting Data and Setting Training Data Size"
   ]
  },
  {
   "cell_type": "code",
   "execution_count": 11,
   "id": "aea9c6ef-6f46-42c8-85eb-5a62025c1508",
   "metadata": {
    "execution": {
     "iopub.execute_input": "2025-08-05T15:56:34.961121Z",
     "iopub.status.busy": "2025-08-05T15:56:34.960102Z",
     "iopub.status.idle": "2025-08-05T15:56:35.931514Z",
     "shell.execute_reply": "2025-08-05T15:56:35.930717Z"
    },
    "papermill": {
     "duration": 0.993711,
     "end_time": "2025-08-05T15:56:35.933403",
     "exception": false,
     "start_time": "2025-08-05T15:56:34.939692",
     "status": "completed"
    },
    "tags": []
   },
   "outputs": [],
   "source": [
    "from fairness_multiverse.universe import sample_by_year_size\n",
    "\n",
    "siab_train = sample_by_year_size(siab,\n",
    "                               training_year=universe[\"training_year\"],\n",
    "                               training_size=universe[\"training_size\"])"
   ]
  },
  {
   "cell_type": "code",
   "execution_count": 12,
   "id": "8d3afb32-789d-442c-8d5d-9f5aa8dd2eed",
   "metadata": {
    "execution": {
     "iopub.execute_input": "2025-08-05T15:56:35.978149Z",
     "iopub.status.busy": "2025-08-05T15:56:35.977130Z",
     "iopub.status.idle": "2025-08-05T15:56:35.982954Z",
     "shell.execute_reply": "2025-08-05T15:56:35.982085Z"
    },
    "papermill": {
     "duration": 0.025531,
     "end_time": "2025-08-05T15:56:35.984589",
     "exception": false,
     "start_time": "2025-08-05T15:56:35.959058",
     "status": "completed"
    },
    "tags": []
   },
   "outputs": [],
   "source": [
    "#siab_train.shape"
   ]
  },
  {
   "cell_type": "code",
   "execution_count": 13,
   "id": "d582db68-1a4c-47fb-84fc-08518dc1975a",
   "metadata": {
    "execution": {
     "iopub.execute_input": "2025-08-05T15:56:36.024431Z",
     "iopub.status.busy": "2025-08-05T15:56:36.023775Z",
     "iopub.status.idle": "2025-08-05T15:56:36.050920Z",
     "shell.execute_reply": "2025-08-05T15:56:36.049657Z"
    },
    "papermill": {
     "duration": 0.049594,
     "end_time": "2025-08-05T15:56:36.052939",
     "exception": false,
     "start_time": "2025-08-05T15:56:36.003345",
     "status": "completed"
    },
    "tags": []
   },
   "outputs": [],
   "source": [
    "#display(siab_train.groupby(\"year\").size())"
   ]
  },
  {
   "cell_type": "code",
   "execution_count": 14,
   "id": "a561edb4-d032-42cb-8256-22eac1111c64",
   "metadata": {
    "execution": {
     "iopub.execute_input": "2025-08-05T15:56:36.091902Z",
     "iopub.status.busy": "2025-08-05T15:56:36.091292Z",
     "iopub.status.idle": "2025-08-05T15:56:36.332519Z",
     "shell.execute_reply": "2025-08-05T15:56:36.331460Z"
    },
    "papermill": {
     "duration": 0.26215,
     "end_time": "2025-08-05T15:56:36.334594",
     "exception": false,
     "start_time": "2025-08-05T15:56:36.072444",
     "status": "completed"
    },
    "tags": []
   },
   "outputs": [],
   "source": [
    "#siab_train = siab_s[siab_s.year < 2015]\n",
    "siab_calib = siab[siab.year == 2015]\n",
    "siab_test = siab[siab.year == 2016]"
   ]
  },
  {
   "cell_type": "code",
   "execution_count": 15,
   "id": "472de16f-c3db-4916-846b-1f0de9cf1746",
   "metadata": {
    "execution": {
     "iopub.execute_input": "2025-08-05T15:56:36.373326Z",
     "iopub.status.busy": "2025-08-05T15:56:36.372667Z",
     "iopub.status.idle": "2025-08-05T15:56:36.381057Z",
     "shell.execute_reply": "2025-08-05T15:56:36.380060Z"
    },
    "papermill": {
     "duration": 0.030127,
     "end_time": "2025-08-05T15:56:36.383031",
     "exception": false,
     "start_time": "2025-08-05T15:56:36.352904",
     "status": "completed"
    },
    "tags": []
   },
   "outputs": [],
   "source": [
    "X_train = siab_train.iloc[:,4:164]\n",
    "y_train = siab_train.iloc[:, [3]]"
   ]
  },
  {
   "cell_type": "code",
   "execution_count": 16,
   "id": "828c96af-f43a-4ed6-ba47-8ac73a47d56c",
   "metadata": {
    "execution": {
     "iopub.execute_input": "2025-08-05T15:56:36.424817Z",
     "iopub.status.busy": "2025-08-05T15:56:36.424075Z",
     "iopub.status.idle": "2025-08-05T15:56:36.478518Z",
     "shell.execute_reply": "2025-08-05T15:56:36.477146Z"
    },
    "papermill": {
     "duration": 0.078503,
     "end_time": "2025-08-05T15:56:36.480899",
     "exception": false,
     "start_time": "2025-08-05T15:56:36.402396",
     "status": "completed"
    },
    "tags": []
   },
   "outputs": [],
   "source": [
    "X_calib = siab_calib.iloc[:,4:164]\n",
    "y_calib = siab_calib.iloc[:, [3]]"
   ]
  },
  {
   "cell_type": "code",
   "execution_count": 17,
   "id": "c34be9c3-6bd6-476e-acd3-845840e303be",
   "metadata": {
    "execution": {
     "iopub.execute_input": "2025-08-05T15:56:36.522466Z",
     "iopub.status.busy": "2025-08-05T15:56:36.521470Z",
     "iopub.status.idle": "2025-08-05T15:56:36.575109Z",
     "shell.execute_reply": "2025-08-05T15:56:36.573627Z"
    },
    "papermill": {
     "duration": 0.076368,
     "end_time": "2025-08-05T15:56:36.577341",
     "exception": false,
     "start_time": "2025-08-05T15:56:36.500973",
     "status": "completed"
    },
    "tags": []
   },
   "outputs": [],
   "source": [
    "X_test = siab_test.iloc[:,4:164]\n",
    "y_true = siab_test.iloc[:, [3]]"
   ]
  },
  {
   "cell_type": "code",
   "execution_count": 18,
   "id": "e6c733c5",
   "metadata": {
    "execution": {
     "iopub.execute_input": "2025-08-05T15:56:36.617254Z",
     "iopub.status.busy": "2025-08-05T15:56:36.616589Z",
     "iopub.status.idle": "2025-08-05T15:56:36.718749Z",
     "shell.execute_reply": "2025-08-05T15:56:36.717683Z"
    },
    "papermill": {
     "duration": 0.123679,
     "end_time": "2025-08-05T15:56:36.720726",
     "exception": false,
     "start_time": "2025-08-05T15:56:36.597047",
     "status": "completed"
    },
    "tags": []
   },
   "outputs": [],
   "source": [
    "# Auxiliary data needed downstream in the pipeline\n",
    "\n",
    "org_train = X_train.copy()\n",
    "org_test = X_test.copy()\n",
    "org_calib = X_calib.copy()"
   ]
  },
  {
   "cell_type": "markdown",
   "id": "0a4a1b33",
   "metadata": {
    "papermill": {
     "duration": 0.020558,
     "end_time": "2025-08-05T15:56:36.763101",
     "exception": false,
     "start_time": "2025-08-05T15:56:36.742543",
     "status": "completed"
    },
    "tags": []
   },
   "source": [
    "# Preprocessing Data"
   ]
  },
  {
   "cell_type": "code",
   "execution_count": 19,
   "id": "ca879031",
   "metadata": {
    "execution": {
     "iopub.execute_input": "2025-08-05T15:56:36.804985Z",
     "iopub.status.busy": "2025-08-05T15:56:36.804084Z",
     "iopub.status.idle": "2025-08-05T15:56:36.810522Z",
     "shell.execute_reply": "2025-08-05T15:56:36.809496Z"
    },
    "papermill": {
     "duration": 0.029714,
     "end_time": "2025-08-05T15:56:36.812332",
     "exception": false,
     "start_time": "2025-08-05T15:56:36.782618",
     "status": "completed"
    },
    "tags": []
   },
   "outputs": [],
   "source": [
    "# EXCLUDE PROTECTED FEATURES\n",
    "# ----------------------\n",
    "# \"exclude_features\": \"none\", # \"nationality\", \"sex\", \"nationality-sex\"\n",
    "\n",
    "excluded_features = universe[\"exclude_features\"].split(\"-\") # split, e.g.: \"nationality-sex\" -> [\"nationality\", \"sex\"]\n",
    "excluded_features_dictionary = {\n",
    "    \"nationality\": [\"maxdeutsch1\", \"maxdeutsch.Missing.\"],\n",
    "    \"sex\": [\"frau1\"],\n",
    "    \"age\": [\"age\"],\n",
    "}"
   ]
  },
  {
   "cell_type": "code",
   "execution_count": 20,
   "id": "b745ac60",
   "metadata": {
    "execution": {
     "iopub.execute_input": "2025-08-05T15:56:36.855139Z",
     "iopub.status.busy": "2025-08-05T15:56:36.854475Z",
     "iopub.status.idle": "2025-08-05T15:56:36.861168Z",
     "shell.execute_reply": "2025-08-05T15:56:36.860206Z"
    },
    "papermill": {
     "duration": 0.029989,
     "end_time": "2025-08-05T15:56:36.863058",
     "exception": false,
     "start_time": "2025-08-05T15:56:36.833069",
     "status": "completed"
    },
    "tags": []
   },
   "outputs": [],
   "source": [
    "# Code nice names to column names\n",
    "\n",
    "excluded_features_columns = [\n",
    "    excluded_features_dictionary[f] for f in excluded_features if len(f) > 0 and f != \"none\"\n",
    "]"
   ]
  },
  {
   "cell_type": "code",
   "execution_count": 21,
   "id": "f84f73a2",
   "metadata": {
    "execution": {
     "iopub.execute_input": "2025-08-05T15:56:36.904722Z",
     "iopub.status.busy": "2025-08-05T15:56:36.904047Z",
     "iopub.status.idle": "2025-08-05T15:56:36.911282Z",
     "shell.execute_reply": "2025-08-05T15:56:36.910260Z"
    },
    "papermill": {
     "duration": 0.030054,
     "end_time": "2025-08-05T15:56:36.913020",
     "exception": false,
     "start_time": "2025-08-05T15:56:36.882966",
     "status": "completed"
    },
    "tags": []
   },
   "outputs": [],
   "source": [
    "from utils import flatten_once\n",
    "\n",
    "excluded_features_columns = flatten_once(excluded_features_columns)"
   ]
  },
  {
   "cell_type": "code",
   "execution_count": 22,
   "id": "884dea22",
   "metadata": {
    "execution": {
     "iopub.execute_input": "2025-08-05T15:56:36.951477Z",
     "iopub.status.busy": "2025-08-05T15:56:36.950813Z",
     "iopub.status.idle": "2025-08-05T15:56:36.961078Z",
     "shell.execute_reply": "2025-08-05T15:56:36.959978Z"
    },
    "papermill": {
     "duration": 0.031127,
     "end_time": "2025-08-05T15:56:36.962884",
     "exception": false,
     "start_time": "2025-08-05T15:56:36.931757",
     "status": "completed"
    },
    "tags": []
   },
   "outputs": [
    {
     "name": "stdout",
     "output_type": "stream",
     "text": [
      "Dropping features: ['maxdeutsch1', 'maxdeutsch.Missing.']\n"
     ]
    }
   ],
   "source": [
    "if len(excluded_features_columns) > 0:\n",
    "    print(f\"Dropping features: {excluded_features_columns}\")\n",
    "    X_train.drop(excluded_features_columns, axis=1, inplace=True)"
   ]
  },
  {
   "cell_type": "code",
   "execution_count": 23,
   "id": "95ab8b16",
   "metadata": {
    "execution": {
     "iopub.execute_input": "2025-08-05T15:56:37.003020Z",
     "iopub.status.busy": "2025-08-05T15:56:37.002452Z",
     "iopub.status.idle": "2025-08-05T15:56:37.057919Z",
     "shell.execute_reply": "2025-08-05T15:56:37.056736Z"
    },
    "papermill": {
     "duration": 0.077539,
     "end_time": "2025-08-05T15:56:37.060075",
     "exception": false,
     "start_time": "2025-08-05T15:56:36.982536",
     "status": "completed"
    },
    "tags": []
   },
   "outputs": [
    {
     "name": "stdout",
     "output_type": "stream",
     "text": [
      "Dropping features: ['maxdeutsch1', 'maxdeutsch.Missing.']\n"
     ]
    }
   ],
   "source": [
    "if len(excluded_features_columns) > 0:\n",
    "    print(f\"Dropping features: {excluded_features_columns}\")\n",
    "    X_test.drop(excluded_features_columns, axis=1, inplace=True)"
   ]
  },
  {
   "cell_type": "code",
   "execution_count": 24,
   "id": "1853aaf5-fb9f-46cb-a2b5-8ea4ae2237e4",
   "metadata": {
    "execution": {
     "iopub.execute_input": "2025-08-05T15:56:37.104186Z",
     "iopub.status.busy": "2025-08-05T15:56:37.103321Z",
     "iopub.status.idle": "2025-08-05T15:56:37.139780Z",
     "shell.execute_reply": "2025-08-05T15:56:37.138620Z"
    },
    "papermill": {
     "duration": 0.060027,
     "end_time": "2025-08-05T15:56:37.141784",
     "exception": false,
     "start_time": "2025-08-05T15:56:37.081757",
     "status": "completed"
    },
    "tags": []
   },
   "outputs": [
    {
     "name": "stdout",
     "output_type": "stream",
     "text": [
      "Dropping features: ['maxdeutsch1', 'maxdeutsch.Missing.']\n"
     ]
    }
   ],
   "source": [
    "if len(excluded_features_columns) > 0:\n",
    "    print(f\"Dropping features: {excluded_features_columns}\")\n",
    "    X_calib.drop(excluded_features_columns, axis=1, inplace=True)"
   ]
  },
  {
   "cell_type": "code",
   "execution_count": 25,
   "id": "76c4dc6d",
   "metadata": {
    "execution": {
     "iopub.execute_input": "2025-08-05T15:56:37.184775Z",
     "iopub.status.busy": "2025-08-05T15:56:37.183981Z",
     "iopub.status.idle": "2025-08-05T15:56:37.189671Z",
     "shell.execute_reply": "2025-08-05T15:56:37.188719Z"
    },
    "papermill": {
     "duration": 0.028829,
     "end_time": "2025-08-05T15:56:37.191491",
     "exception": false,
     "start_time": "2025-08-05T15:56:37.162662",
     "status": "completed"
    },
    "tags": []
   },
   "outputs": [],
   "source": [
    "# EXCLUDE CERTAIN SUBGROUPS\n",
    "# ----------------------\n",
    "\n",
    "mode = universe.get(\"exclude_subgroups\", \"keep-all\") \n",
    "# Fetches the exclude_subgroups setting from the universe dict.\n",
    "# Defaults to \"keep-all\" if the key is missing."
   ]
  },
  {
   "cell_type": "code",
   "execution_count": 26,
   "id": "21994072",
   "metadata": {
    "execution": {
     "iopub.execute_input": "2025-08-05T15:56:37.231851Z",
     "iopub.status.busy": "2025-08-05T15:56:37.231180Z",
     "iopub.status.idle": "2025-08-05T15:56:37.238645Z",
     "shell.execute_reply": "2025-08-05T15:56:37.237605Z"
    },
    "papermill": {
     "duration": 0.029638,
     "end_time": "2025-08-05T15:56:37.240527",
     "exception": false,
     "start_time": "2025-08-05T15:56:37.210889",
     "status": "completed"
    },
    "tags": []
   },
   "outputs": [],
   "source": [
    "if mode == \"keep-all\":\n",
    "    keep_mask = pd.Series(True, index=org_train.index)\n",
    "\n",
    "# org_train contains the original feature columns from features_org (in Simson)\n",
    "# features_org contains unprocessed features, for me X_train at beginning ???\n",
    "# For keep-all, creates a boolean Series (keep_mask) of all True, so no rows are removed.\n",
    "\n",
    "elif mode == \"drop-non-german\":\n",
    "    keep_mask = org_train[\"maxdeutsch1\"] == 1 # ??? what about missing values?\n",
    "\n",
    "else:\n",
    "    raise ValueError(f\"Unsupported mode for exclude_subgroups: {mode}\")"
   ]
  },
  {
   "cell_type": "code",
   "execution_count": 27,
   "id": "71651440",
   "metadata": {
    "execution": {
     "iopub.execute_input": "2025-08-05T15:56:37.281296Z",
     "iopub.status.busy": "2025-08-05T15:56:37.280444Z",
     "iopub.status.idle": "2025-08-05T15:56:37.288662Z",
     "shell.execute_reply": "2025-08-05T15:56:37.287696Z"
    },
    "papermill": {
     "duration": 0.029808,
     "end_time": "2025-08-05T15:56:37.290484",
     "exception": false,
     "start_time": "2025-08-05T15:56:37.260676",
     "status": "completed"
    },
    "tags": []
   },
   "outputs": [
    {
     "name": "stdout",
     "output_type": "stream",
     "text": [
      "Dropping 657 rows (13.14%) where mode='drop-non-german'\n"
     ]
    }
   ],
   "source": [
    "n_drop = (~keep_mask).sum() # Calculates how many rows are set to be dropped\n",
    "if n_drop > 0:\n",
    "    pct = n_drop / len(keep_mask) * 100\n",
    "    print(f\"Dropping {n_drop} rows ({pct:.2f}%) where mode='{mode}'\")"
   ]
  },
  {
   "cell_type": "code",
   "execution_count": 28,
   "id": "5fb8eee5",
   "metadata": {
    "execution": {
     "iopub.execute_input": "2025-08-05T15:56:37.334522Z",
     "iopub.status.busy": "2025-08-05T15:56:37.333324Z",
     "iopub.status.idle": "2025-08-05T15:56:37.345179Z",
     "shell.execute_reply": "2025-08-05T15:56:37.344163Z"
    },
    "papermill": {
     "duration": 0.035411,
     "end_time": "2025-08-05T15:56:37.347209",
     "exception": false,
     "start_time": "2025-08-05T15:56:37.311798",
     "status": "completed"
    },
    "tags": []
   },
   "outputs": [],
   "source": [
    "X_train = X_train[keep_mask]"
   ]
  },
  {
   "cell_type": "code",
   "execution_count": 29,
   "id": "b202bb3a",
   "metadata": {
    "execution": {
     "iopub.execute_input": "2025-08-05T15:56:37.390838Z",
     "iopub.status.busy": "2025-08-05T15:56:37.390172Z",
     "iopub.status.idle": "2025-08-05T15:56:37.396874Z",
     "shell.execute_reply": "2025-08-05T15:56:37.395820Z"
    },
    "papermill": {
     "duration": 0.030395,
     "end_time": "2025-08-05T15:56:37.399029",
     "exception": false,
     "start_time": "2025-08-05T15:56:37.368634",
     "status": "completed"
    },
    "tags": []
   },
   "outputs": [],
   "source": [
    "y_train = y_train[keep_mask]"
   ]
  },
  {
   "cell_type": "markdown",
   "id": "493e2ac3",
   "metadata": {
    "papermill": {
     "duration": 0.020473,
     "end_time": "2025-08-05T15:56:37.440388",
     "exception": false,
     "start_time": "2025-08-05T15:56:37.419915",
     "status": "completed"
    },
    "tags": []
   },
   "source": [
    "# Model Training"
   ]
  },
  {
   "cell_type": "code",
   "execution_count": 30,
   "id": "679e1268",
   "metadata": {
    "execution": {
     "iopub.execute_input": "2025-08-05T15:56:37.482901Z",
     "iopub.status.busy": "2025-08-05T15:56:37.482017Z",
     "iopub.status.idle": "2025-08-05T15:56:37.592135Z",
     "shell.execute_reply": "2025-08-05T15:56:37.591137Z"
    },
    "papermill": {
     "duration": 0.133072,
     "end_time": "2025-08-05T15:56:37.594222",
     "exception": false,
     "start_time": "2025-08-05T15:56:37.461150",
     "status": "completed"
    },
    "tags": []
   },
   "outputs": [],
   "source": [
    "from sklearn.linear_model import LogisticRegression\n",
    "from sklearn.ensemble import GradientBoostingClassifier, RandomForestClassifier\n",
    "\n",
    "if (universe[\"model\"] == \"logreg\"):\n",
    "    model = LogisticRegression() #penalty=\"none\", solver=\"newton-cg\", max_iter=1) # include random_state=19 ?\n",
    "elif (universe[\"model\"] == \"penalized_logreg\"):\n",
    "    model = LogisticRegression(penalty=\"l2\", C=0.1) #, solver=\"newton-cg\", max_iter=1)\n",
    "elif (universe[\"model\"] == \"rf\"):\n",
    "    model = RandomForestClassifier() # n_estimators=100, n_jobs=-1\n",
    "elif (universe[\"model\"] == \"gbm\"):\n",
    "    model = GradientBoostingClassifier()\n",
    "elif (universe[\"model\"] == \"elasticnet\"):\n",
    "    model = LogisticRegression(penalty = 'elasticnet', solver = 'saga', l1_ratio = 0.5) # max_iter=5000\n",
    "else:\n",
    "    raise \"Unsupported universe.model\""
   ]
  },
  {
   "cell_type": "code",
   "execution_count": 31,
   "id": "0cc8f744",
   "metadata": {
    "execution": {
     "iopub.execute_input": "2025-08-05T15:56:37.636926Z",
     "iopub.status.busy": "2025-08-05T15:56:37.636240Z",
     "iopub.status.idle": "2025-08-05T15:56:37.642735Z",
     "shell.execute_reply": "2025-08-05T15:56:37.641777Z"
    },
    "papermill": {
     "duration": 0.029676,
     "end_time": "2025-08-05T15:56:37.644578",
     "exception": false,
     "start_time": "2025-08-05T15:56:37.614902",
     "status": "completed"
    },
    "tags": []
   },
   "outputs": [],
   "source": [
    "import numpy as np\n",
    "from sklearn.pipeline import Pipeline\n",
    "from sklearn.preprocessing import StandardScaler\n",
    "\n",
    "model = Pipeline([\n",
    "    #(\"continuous_processor\", continuous_processor),\n",
    "    #(\"categorical_preprocessor\", categorical_preprocessor),\n",
    "    (\"scale\", StandardScaler() if universe[\"scale\"] == \"scale\" else None), \n",
    "    (\"model\", model),\n",
    "])"
   ]
  },
  {
   "cell_type": "code",
   "execution_count": 32,
   "id": "9442c04d",
   "metadata": {
    "execution": {
     "iopub.execute_input": "2025-08-05T15:56:37.686709Z",
     "iopub.status.busy": "2025-08-05T15:56:37.686005Z",
     "iopub.status.idle": "2025-08-05T15:56:37.822619Z",
     "shell.execute_reply": "2025-08-05T15:56:37.821592Z"
    },
    "papermill": {
     "duration": 0.160301,
     "end_time": "2025-08-05T15:56:37.824833",
     "exception": false,
     "start_time": "2025-08-05T15:56:37.664532",
     "status": "completed"
    },
    "tags": []
   },
   "outputs": [
    {
     "name": "stderr",
     "output_type": "stream",
     "text": [
      "/dss/dsshome1/0C/ra93lal2/.local/share/virtualenvs/CMA_Fairness_v2-3j10GkSs/lib/python3.10/site-packages/sklearn/linear_model/_logistic.py:444: ConvergenceWarning: lbfgs failed to converge (status=1):\n",
      "STOP: TOTAL NO. of ITERATIONS REACHED LIMIT.\n",
      "\n",
      "Increase the number of iterations (max_iter) or scale the data as shown in:\n",
      "    https://scikit-learn.org/stable/modules/preprocessing.html\n",
      "Please also refer to the documentation for alternative solver options:\n",
      "    https://scikit-learn.org/stable/modules/linear_model.html#logistic-regression\n",
      "  n_iter_i = _check_optimize_result(\n"
     ]
    },
    {
     "data": {
      "text/html": [
       "<style>#sk-container-id-1 {color: black;background-color: white;}#sk-container-id-1 pre{padding: 0;}#sk-container-id-1 div.sk-toggleable {background-color: white;}#sk-container-id-1 label.sk-toggleable__label {cursor: pointer;display: block;width: 100%;margin-bottom: 0;padding: 0.3em;box-sizing: border-box;text-align: center;}#sk-container-id-1 label.sk-toggleable__label-arrow:before {content: \"▸\";float: left;margin-right: 0.25em;color: #696969;}#sk-container-id-1 label.sk-toggleable__label-arrow:hover:before {color: black;}#sk-container-id-1 div.sk-estimator:hover label.sk-toggleable__label-arrow:before {color: black;}#sk-container-id-1 div.sk-toggleable__content {max-height: 0;max-width: 0;overflow: hidden;text-align: left;background-color: #f0f8ff;}#sk-container-id-1 div.sk-toggleable__content pre {margin: 0.2em;color: black;border-radius: 0.25em;background-color: #f0f8ff;}#sk-container-id-1 input.sk-toggleable__control:checked~div.sk-toggleable__content {max-height: 200px;max-width: 100%;overflow: auto;}#sk-container-id-1 input.sk-toggleable__control:checked~label.sk-toggleable__label-arrow:before {content: \"▾\";}#sk-container-id-1 div.sk-estimator input.sk-toggleable__control:checked~label.sk-toggleable__label {background-color: #d4ebff;}#sk-container-id-1 div.sk-label input.sk-toggleable__control:checked~label.sk-toggleable__label {background-color: #d4ebff;}#sk-container-id-1 input.sk-hidden--visually {border: 0;clip: rect(1px 1px 1px 1px);clip: rect(1px, 1px, 1px, 1px);height: 1px;margin: -1px;overflow: hidden;padding: 0;position: absolute;width: 1px;}#sk-container-id-1 div.sk-estimator {font-family: monospace;background-color: #f0f8ff;border: 1px dotted black;border-radius: 0.25em;box-sizing: border-box;margin-bottom: 0.5em;}#sk-container-id-1 div.sk-estimator:hover {background-color: #d4ebff;}#sk-container-id-1 div.sk-parallel-item::after {content: \"\";width: 100%;border-bottom: 1px solid gray;flex-grow: 1;}#sk-container-id-1 div.sk-label:hover label.sk-toggleable__label {background-color: #d4ebff;}#sk-container-id-1 div.sk-serial::before {content: \"\";position: absolute;border-left: 1px solid gray;box-sizing: border-box;top: 0;bottom: 0;left: 50%;z-index: 0;}#sk-container-id-1 div.sk-serial {display: flex;flex-direction: column;align-items: center;background-color: white;padding-right: 0.2em;padding-left: 0.2em;position: relative;}#sk-container-id-1 div.sk-item {position: relative;z-index: 1;}#sk-container-id-1 div.sk-parallel {display: flex;align-items: stretch;justify-content: center;background-color: white;position: relative;}#sk-container-id-1 div.sk-item::before, #sk-container-id-1 div.sk-parallel-item::before {content: \"\";position: absolute;border-left: 1px solid gray;box-sizing: border-box;top: 0;bottom: 0;left: 50%;z-index: -1;}#sk-container-id-1 div.sk-parallel-item {display: flex;flex-direction: column;z-index: 1;position: relative;background-color: white;}#sk-container-id-1 div.sk-parallel-item:first-child::after {align-self: flex-end;width: 50%;}#sk-container-id-1 div.sk-parallel-item:last-child::after {align-self: flex-start;width: 50%;}#sk-container-id-1 div.sk-parallel-item:only-child::after {width: 0;}#sk-container-id-1 div.sk-dashed-wrapped {border: 1px dashed gray;margin: 0 0.4em 0.5em 0.4em;box-sizing: border-box;padding-bottom: 0.4em;background-color: white;}#sk-container-id-1 div.sk-label label {font-family: monospace;font-weight: bold;display: inline-block;line-height: 1.2em;}#sk-container-id-1 div.sk-label-container {text-align: center;}#sk-container-id-1 div.sk-container {/* jupyter's `normalize.less` sets `[hidden] { display: none; }` but bootstrap.min.css set `[hidden] { display: none !important; }` so we also need the `!important` here to be able to override the default hidden behavior on the sphinx rendered scikit-learn.org. See: https://github.com/scikit-learn/scikit-learn/issues/21755 */display: inline-block !important;position: relative;}#sk-container-id-1 div.sk-text-repr-fallback {display: none;}</style><div id=\"sk-container-id-1\" class=\"sk-top-container\"><div class=\"sk-text-repr-fallback\"><pre>Pipeline(steps=[(&#x27;scale&#x27;, None), (&#x27;model&#x27;, LogisticRegression(C=0.1))])</pre><b>In a Jupyter environment, please rerun this cell to show the HTML representation or trust the notebook. <br />On GitHub, the HTML representation is unable to render, please try loading this page with nbviewer.org.</b></div><div class=\"sk-container\" hidden><div class=\"sk-item sk-dashed-wrapped\"><div class=\"sk-label-container\"><div class=\"sk-label sk-toggleable\"><input class=\"sk-toggleable__control sk-hidden--visually\" id=\"sk-estimator-id-1\" type=\"checkbox\" ><label for=\"sk-estimator-id-1\" class=\"sk-toggleable__label sk-toggleable__label-arrow\">Pipeline</label><div class=\"sk-toggleable__content\"><pre>Pipeline(steps=[(&#x27;scale&#x27;, None), (&#x27;model&#x27;, LogisticRegression(C=0.1))])</pre></div></div></div><div class=\"sk-serial\"><div class=\"sk-item\"><div class=\"sk-estimator sk-toggleable\"><input class=\"sk-toggleable__control sk-hidden--visually\" id=\"sk-estimator-id-2\" type=\"checkbox\" ><label for=\"sk-estimator-id-2\" class=\"sk-toggleable__label sk-toggleable__label-arrow\">None</label><div class=\"sk-toggleable__content\"><pre>None</pre></div></div></div><div class=\"sk-item\"><div class=\"sk-estimator sk-toggleable\"><input class=\"sk-toggleable__control sk-hidden--visually\" id=\"sk-estimator-id-3\" type=\"checkbox\" ><label for=\"sk-estimator-id-3\" class=\"sk-toggleable__label sk-toggleable__label-arrow\">LogisticRegression</label><div class=\"sk-toggleable__content\"><pre>LogisticRegression(C=0.1)</pre></div></div></div></div></div></div></div>"
      ],
      "text/plain": [
       "Pipeline(steps=[('scale', None), ('model', LogisticRegression(C=0.1))])"
      ]
     },
     "execution_count": 32,
     "metadata": {},
     "output_type": "execute_result"
    }
   ],
   "source": [
    "model.fit(X_train, y_train.values.ravel())"
   ]
  },
  {
   "cell_type": "code",
   "execution_count": 33,
   "id": "af59f8c0",
   "metadata": {
    "execution": {
     "iopub.execute_input": "2025-08-05T15:56:37.870389Z",
     "iopub.status.busy": "2025-08-05T15:56:37.869781Z",
     "iopub.status.idle": "2025-08-05T15:56:37.875460Z",
     "shell.execute_reply": "2025-08-05T15:56:37.874486Z"
    },
    "papermill": {
     "duration": 0.030734,
     "end_time": "2025-08-05T15:56:37.877347",
     "exception": false,
     "start_time": "2025-08-05T15:56:37.846613",
     "status": "completed"
    },
    "tags": []
   },
   "outputs": [],
   "source": [
    "from fairness_multiverse.universe import predict_w_threshold"
   ]
  },
  {
   "cell_type": "code",
   "execution_count": 34,
   "id": "a7cf2e16",
   "metadata": {
    "execution": {
     "iopub.execute_input": "2025-08-05T15:56:37.924044Z",
     "iopub.status.busy": "2025-08-05T15:56:37.923068Z",
     "iopub.status.idle": "2025-08-05T15:56:38.022030Z",
     "shell.execute_reply": "2025-08-05T15:56:38.020833Z"
    },
    "papermill": {
     "duration": 0.123529,
     "end_time": "2025-08-05T15:56:38.024164",
     "exception": false,
     "start_time": "2025-08-05T15:56:37.900635",
     "status": "completed"
    },
    "tags": []
   },
   "outputs": [
    {
     "data": {
      "text/plain": [
       "0.8595808716976926"
      ]
     },
     "execution_count": 34,
     "metadata": {},
     "output_type": "execute_result"
    }
   ],
   "source": [
    "probs_test = model.predict_proba(X_test)\n",
    "\n",
    "'''\n",
    "Below code returns a boolean array (or binary 0/1 array depending on how it’s used) where each element \n",
    "is True if the probability of class 1 is greater than or equal to the threshold, and False otherwise.\n",
    "'''\n",
    "y_pred_default = predict_w_threshold(probs_test, 0.5)\n",
    "\n",
    "from sklearn.metrics import accuracy_score\n",
    "\n",
    "# Naive prediction\n",
    "accuracy_score(y_true = y_true, y_pred = y_pred_default)"
   ]
  },
  {
   "cell_type": "code",
   "execution_count": 35,
   "id": "081964c3",
   "metadata": {
    "execution": {
     "iopub.execute_input": "2025-08-05T15:56:38.070613Z",
     "iopub.status.busy": "2025-08-05T15:56:38.070233Z",
     "iopub.status.idle": "2025-08-05T15:56:38.147012Z",
     "shell.execute_reply": "2025-08-05T15:56:38.146030Z"
    },
    "papermill": {
     "duration": 0.098806,
     "end_time": "2025-08-05T15:56:38.148545",
     "exception": false,
     "start_time": "2025-08-05T15:56:38.049739",
     "status": "completed"
    },
    "tags": []
   },
   "outputs": [
    {
     "data": {
      "text/plain": [
       "array([0, 0, 0, ..., 0, 0, 0])"
      ]
     },
     "execution_count": 35,
     "metadata": {},
     "output_type": "execute_result"
    }
   ],
   "source": [
    "model.predict(X_test)"
   ]
  },
  {
   "cell_type": "markdown",
   "id": "56c9705b",
   "metadata": {
    "papermill": {
     "duration": 0.010692,
     "end_time": "2025-08-05T15:56:38.170174",
     "exception": false,
     "start_time": "2025-08-05T15:56:38.159482",
     "status": "completed"
    },
    "tags": []
   },
   "source": [
    "# Conformal Prediction"
   ]
  },
  {
   "cell_type": "code",
   "execution_count": 36,
   "id": "160ec6ff",
   "metadata": {
    "execution": {
     "iopub.execute_input": "2025-08-05T15:56:38.192896Z",
     "iopub.status.busy": "2025-08-05T15:56:38.192158Z",
     "iopub.status.idle": "2025-08-05T15:56:38.197146Z",
     "shell.execute_reply": "2025-08-05T15:56:38.196282Z"
    },
    "papermill": {
     "duration": 0.018259,
     "end_time": "2025-08-05T15:56:38.198695",
     "exception": false,
     "start_time": "2025-08-05T15:56:38.180436",
     "status": "completed"
    },
    "tags": []
   },
   "outputs": [],
   "source": [
    "# Miscoverage level for conformal prediction (10% allowed error rate => 90% target coverage)\n",
    "alpha = 0.1"
   ]
  },
  {
   "cell_type": "code",
   "execution_count": 37,
   "id": "eadf4555-3dd3-440e-8e35-f82a4ad9f855",
   "metadata": {
    "execution": {
     "iopub.execute_input": "2025-08-05T15:56:38.230625Z",
     "iopub.status.busy": "2025-08-05T15:56:38.230244Z",
     "iopub.status.idle": "2025-08-05T15:56:38.304678Z",
     "shell.execute_reply": "2025-08-05T15:56:38.303808Z"
    },
    "papermill": {
     "duration": 0.095532,
     "end_time": "2025-08-05T15:56:38.306406",
     "exception": false,
     "start_time": "2025-08-05T15:56:38.210874",
     "status": "completed"
    },
    "tags": []
   },
   "outputs": [],
   "source": [
    "probs_calib = model.predict_proba(X_calib)"
   ]
  },
  {
   "cell_type": "code",
   "execution_count": 38,
   "id": "2ed93547-6d5d-4983-9b36-1ecb300da49a",
   "metadata": {
    "execution": {
     "iopub.execute_input": "2025-08-05T15:56:38.337840Z",
     "iopub.status.busy": "2025-08-05T15:56:38.337002Z",
     "iopub.status.idle": "2025-08-05T15:56:38.343992Z",
     "shell.execute_reply": "2025-08-05T15:56:38.343204Z"
    },
    "papermill": {
     "duration": 0.02771,
     "end_time": "2025-08-05T15:56:38.345460",
     "exception": false,
     "start_time": "2025-08-05T15:56:38.317750",
     "status": "completed"
    },
    "tags": []
   },
   "outputs": [],
   "source": [
    "y_calib = y_calib.values.ravel().astype(int)"
   ]
  },
  {
   "cell_type": "code",
   "execution_count": 39,
   "id": "65d1320d-f588-4b38-9072-62af1ae97f7d",
   "metadata": {
    "execution": {
     "iopub.execute_input": "2025-08-05T15:56:38.370486Z",
     "iopub.status.busy": "2025-08-05T15:56:38.370109Z",
     "iopub.status.idle": "2025-08-05T15:56:38.376445Z",
     "shell.execute_reply": "2025-08-05T15:56:38.375574Z"
    },
    "papermill": {
     "duration": 0.02112,
     "end_time": "2025-08-05T15:56:38.378128",
     "exception": false,
     "start_time": "2025-08-05T15:56:38.357008",
     "status": "completed"
    },
    "tags": []
   },
   "outputs": [],
   "source": [
    "from fairness_multiverse.conformal import compute_nc_scores\n",
    "\n",
    "# Compute nonconformity scores on calibration set (1 - probability of true class)\n",
    "nc_scores = compute_nc_scores(probs_calib, y_calib)"
   ]
  },
  {
   "cell_type": "code",
   "execution_count": 40,
   "id": "df3b8ca3-53b7-43d5-9667-7c85da7aeda2",
   "metadata": {
    "execution": {
     "iopub.execute_input": "2025-08-05T15:56:38.409761Z",
     "iopub.status.busy": "2025-08-05T15:56:38.409225Z",
     "iopub.status.idle": "2025-08-05T15:56:38.415462Z",
     "shell.execute_reply": "2025-08-05T15:56:38.414418Z"
    },
    "papermill": {
     "duration": 0.027977,
     "end_time": "2025-08-05T15:56:38.417601",
     "exception": false,
     "start_time": "2025-08-05T15:56:38.389624",
     "status": "completed"
    },
    "tags": []
   },
   "outputs": [],
   "source": [
    "from fairness_multiverse.conformal import find_threshold\n",
    "\n",
    "# Find conformal threshold q_hat for the given alpha (split conformal method)\n",
    "q_hat = find_threshold(nc_scores, alpha)"
   ]
  },
  {
   "cell_type": "code",
   "execution_count": 41,
   "id": "4d29e6c1-0ef6-4aa4-b8fe-4fe79b0d033a",
   "metadata": {
    "execution": {
     "iopub.execute_input": "2025-08-05T15:56:38.455548Z",
     "iopub.status.busy": "2025-08-05T15:56:38.454639Z",
     "iopub.status.idle": "2025-08-05T15:56:38.461912Z",
     "shell.execute_reply": "2025-08-05T15:56:38.461002Z"
    },
    "papermill": {
     "duration": 0.022334,
     "end_time": "2025-08-05T15:56:38.463356",
     "exception": false,
     "start_time": "2025-08-05T15:56:38.441022",
     "status": "completed"
    },
    "tags": []
   },
   "outputs": [
    {
     "data": {
      "text/plain": [
       "0.6772345146563232"
      ]
     },
     "execution_count": 41,
     "metadata": {},
     "output_type": "execute_result"
    }
   ],
   "source": [
    "q_hat"
   ]
  },
  {
   "cell_type": "code",
   "execution_count": 42,
   "id": "92460794-cdac-4be2-ba28-f28c0515a6fb",
   "metadata": {
    "execution": {
     "iopub.execute_input": "2025-08-05T15:56:38.488227Z",
     "iopub.status.busy": "2025-08-05T15:56:38.487713Z",
     "iopub.status.idle": "2025-08-05T15:56:39.342749Z",
     "shell.execute_reply": "2025-08-05T15:56:39.341564Z"
    },
    "papermill": {
     "duration": 0.869162,
     "end_time": "2025-08-05T15:56:39.344788",
     "exception": false,
     "start_time": "2025-08-05T15:56:38.475626",
     "status": "completed"
    },
    "tags": []
   },
   "outputs": [],
   "source": [
    "from fairness_multiverse.conformal import predict_conformal_sets\n",
    "\n",
    "# Generate prediction sets for each test example\n",
    "pred_sets = predict_conformal_sets(model, X_test, q_hat)"
   ]
  },
  {
   "cell_type": "code",
   "execution_count": 43,
   "id": "d90c9a65-e6db-4f5d-80cd-e68fb7e46829",
   "metadata": {
    "execution": {
     "iopub.execute_input": "2025-08-05T15:56:39.396953Z",
     "iopub.status.busy": "2025-08-05T15:56:39.395965Z",
     "iopub.status.idle": "2025-08-05T15:56:39.402217Z",
     "shell.execute_reply": "2025-08-05T15:56:39.401100Z"
    },
    "papermill": {
     "duration": 0.035774,
     "end_time": "2025-08-05T15:56:39.404322",
     "exception": false,
     "start_time": "2025-08-05T15:56:39.368548",
     "status": "completed"
    },
    "tags": []
   },
   "outputs": [],
   "source": [
    "y_true = y_true.squeeze()"
   ]
  },
  {
   "cell_type": "code",
   "execution_count": 44,
   "id": "3a58a54a-1e68-46b9-927a-df01f18aebc8",
   "metadata": {
    "execution": {
     "iopub.execute_input": "2025-08-05T15:56:39.459634Z",
     "iopub.status.busy": "2025-08-05T15:56:39.458691Z",
     "iopub.status.idle": "2025-08-05T15:56:40.449797Z",
     "shell.execute_reply": "2025-08-05T15:56:40.448549Z"
    },
    "papermill": {
     "duration": 1.020647,
     "end_time": "2025-08-05T15:56:40.452272",
     "exception": false,
     "start_time": "2025-08-05T15:56:39.431625",
     "status": "completed"
    },
    "tags": []
   },
   "outputs": [],
   "source": [
    "from fairness_multiverse.conformal import evaluate_sets\n",
    "\n",
    "# Evaluate coverage and average set size on test data\n",
    "metrics = evaluate_sets(pred_sets, y_true)"
   ]
  },
  {
   "cell_type": "markdown",
   "id": "2b569c12-9aaa-4c88-98c9-bbcd0cf3ebb8",
   "metadata": {
    "papermill": {
     "duration": 0.023212,
     "end_time": "2025-08-05T15:56:40.506063",
     "exception": false,
     "start_time": "2025-08-05T15:56:40.482851",
     "status": "completed"
    },
    "tags": []
   },
   "source": [
    "# CP Metrics"
   ]
  },
  {
   "cell_type": "code",
   "execution_count": 45,
   "id": "5ce0a5cb-201f-45a0-ade5-94c7f0bd6095",
   "metadata": {
    "execution": {
     "iopub.execute_input": "2025-08-05T15:56:40.552719Z",
     "iopub.status.busy": "2025-08-05T15:56:40.552057Z",
     "iopub.status.idle": "2025-08-05T15:56:40.559752Z",
     "shell.execute_reply": "2025-08-05T15:56:40.558625Z"
    },
    "papermill": {
     "duration": 0.033366,
     "end_time": "2025-08-05T15:56:40.561512",
     "exception": false,
     "start_time": "2025-08-05T15:56:40.528146",
     "status": "completed"
    },
    "tags": []
   },
   "outputs": [
    {
     "data": {
      "text/plain": [
       "{'coverage': 0.9132203767695909, 'avg_size': 1.2100323263850183}"
      ]
     },
     "execution_count": 45,
     "metadata": {},
     "output_type": "execute_result"
    }
   ],
   "source": [
    "metrics"
   ]
  },
  {
   "cell_type": "code",
   "execution_count": 46,
   "id": "9b9a838d-31c9-430b-ae14-12baee460d17",
   "metadata": {
    "execution": {
     "iopub.execute_input": "2025-08-05T15:56:40.612306Z",
     "iopub.status.busy": "2025-08-05T15:56:40.611578Z",
     "iopub.status.idle": "2025-08-05T15:56:40.619409Z",
     "shell.execute_reply": "2025-08-05T15:56:40.618320Z"
    },
    "papermill": {
     "duration": 0.036878,
     "end_time": "2025-08-05T15:56:40.621292",
     "exception": false,
     "start_time": "2025-08-05T15:56:40.584414",
     "status": "completed"
    },
    "tags": []
   },
   "outputs": [],
   "source": [
    "example_universe = universe.copy()\n",
    "universe_training_year = example_universe.get(\"training_year\")\n",
    "universe_training_size = example_universe.get(\"training_size\")\n",
    "universe_scale = example_universe.get(\"scale\")\n",
    "universe_model = example_universe.get(\"model\")\n",
    "universe_exclude_features = example_universe.get(\"exclude_features\")\n",
    "universe_exclude_subgroups = example_universe.get(\"exclude_subgroups\")"
   ]
  },
  {
   "cell_type": "code",
   "execution_count": 47,
   "id": "f4b6a8ac-9dc0-4245-8a91-5b3b5999c4f9",
   "metadata": {
    "execution": {
     "iopub.execute_input": "2025-08-05T15:56:40.675264Z",
     "iopub.status.busy": "2025-08-05T15:56:40.674463Z",
     "iopub.status.idle": "2025-08-05T15:56:40.681760Z",
     "shell.execute_reply": "2025-08-05T15:56:40.680648Z"
    },
    "papermill": {
     "duration": 0.035106,
     "end_time": "2025-08-05T15:56:40.683713",
     "exception": false,
     "start_time": "2025-08-05T15:56:40.648607",
     "status": "completed"
    },
    "tags": []
   },
   "outputs": [],
   "source": [
    "cp_metrics_dict = {\n",
    "    \"universe_id\": [universe_id],\n",
    "    \"universe_training_year\": [universe_training_year],\n",
    "    \"universe_training_size\": [universe_training_size],\n",
    "    \"universe_scale\": [universe_scale],\n",
    "    \"universe_model\": [universe_model],\n",
    "    \"universe_exclude_features\": [universe_exclude_features],\n",
    "    \"universe_exclude_subgroups\": [universe_exclude_subgroups],\n",
    "    \"q_hat\": [q_hat],\n",
    "    \"coverage\": [metrics[\"coverage\"]],\n",
    "    \"avg_size\": [metrics[\"avg_size\"]],\n",
    "}"
   ]
  },
  {
   "cell_type": "code",
   "execution_count": 48,
   "id": "908acbb1-0371-4915-85ca-3fa520d2efe2",
   "metadata": {
    "execution": {
     "iopub.execute_input": "2025-08-05T15:56:40.741363Z",
     "iopub.status.busy": "2025-08-05T15:56:40.740436Z",
     "iopub.status.idle": "2025-08-05T15:56:40.750640Z",
     "shell.execute_reply": "2025-08-05T15:56:40.749302Z"
    },
    "papermill": {
     "duration": 0.039972,
     "end_time": "2025-08-05T15:56:40.752522",
     "exception": false,
     "start_time": "2025-08-05T15:56:40.712550",
     "status": "completed"
    },
    "tags": []
   },
   "outputs": [
    {
     "data": {
      "text/plain": [
       "{'universe_id': ['d947b45e6732819ad1e201e04756f67e'],\n",
       " 'universe_training_year': ['2010_14'],\n",
       " 'universe_training_size': ['5k'],\n",
       " 'universe_scale': ['do-not-scale'],\n",
       " 'universe_model': ['penalized_logreg'],\n",
       " 'universe_exclude_features': ['nationality'],\n",
       " 'universe_exclude_subgroups': ['drop-non-german'],\n",
       " 'q_hat': [0.6772345146563232],\n",
       " 'coverage': [0.9132203767695909],\n",
       " 'avg_size': [1.2100323263850183]}"
      ]
     },
     "execution_count": 48,
     "metadata": {},
     "output_type": "execute_result"
    }
   ],
   "source": [
    "cp_metrics_dict"
   ]
  },
  {
   "cell_type": "code",
   "execution_count": 49,
   "id": "33007efc-14e9-4ec6-97ac-56a455c82265",
   "metadata": {
    "execution": {
     "iopub.execute_input": "2025-08-05T15:56:40.806447Z",
     "iopub.status.busy": "2025-08-05T15:56:40.805382Z",
     "iopub.status.idle": "2025-08-05T15:56:40.812445Z",
     "shell.execute_reply": "2025-08-05T15:56:40.811354Z"
    },
    "papermill": {
     "duration": 0.033732,
     "end_time": "2025-08-05T15:56:40.814250",
     "exception": false,
     "start_time": "2025-08-05T15:56:40.780518",
     "status": "completed"
    },
    "tags": []
   },
   "outputs": [],
   "source": [
    "cp_metrics_df = pd.DataFrame(cp_metrics_dict)"
   ]
  },
  {
   "cell_type": "code",
   "execution_count": 50,
   "id": "db12611b-57b2-4910-b9d0-355adfd6e7bf",
   "metadata": {
    "execution": {
     "iopub.execute_input": "2025-08-05T15:56:40.866486Z",
     "iopub.status.busy": "2025-08-05T15:56:40.865726Z",
     "iopub.status.idle": "2025-08-05T15:56:40.886224Z",
     "shell.execute_reply": "2025-08-05T15:56:40.885239Z"
    },
    "papermill": {
     "duration": 0.046613,
     "end_time": "2025-08-05T15:56:40.887923",
     "exception": false,
     "start_time": "2025-08-05T15:56:40.841310",
     "status": "completed"
    },
    "tags": []
   },
   "outputs": [
    {
     "data": {
      "text/html": [
       "<div>\n",
       "<style scoped>\n",
       "    .dataframe tbody tr th:only-of-type {\n",
       "        vertical-align: middle;\n",
       "    }\n",
       "\n",
       "    .dataframe tbody tr th {\n",
       "        vertical-align: top;\n",
       "    }\n",
       "\n",
       "    .dataframe thead th {\n",
       "        text-align: right;\n",
       "    }\n",
       "</style>\n",
       "<table border=\"1\" class=\"dataframe\">\n",
       "  <thead>\n",
       "    <tr style=\"text-align: right;\">\n",
       "      <th></th>\n",
       "      <th>universe_id</th>\n",
       "      <th>universe_training_year</th>\n",
       "      <th>universe_training_size</th>\n",
       "      <th>universe_scale</th>\n",
       "      <th>universe_model</th>\n",
       "      <th>universe_exclude_features</th>\n",
       "      <th>universe_exclude_subgroups</th>\n",
       "      <th>q_hat</th>\n",
       "      <th>coverage</th>\n",
       "      <th>avg_size</th>\n",
       "    </tr>\n",
       "  </thead>\n",
       "  <tbody>\n",
       "    <tr>\n",
       "      <th>0</th>\n",
       "      <td>d947b45e6732819ad1e201e04756f67e</td>\n",
       "      <td>2010_14</td>\n",
       "      <td>5k</td>\n",
       "      <td>do-not-scale</td>\n",
       "      <td>penalized_logreg</td>\n",
       "      <td>nationality</td>\n",
       "      <td>drop-non-german</td>\n",
       "      <td>0.677235</td>\n",
       "      <td>0.91322</td>\n",
       "      <td>1.210032</td>\n",
       "    </tr>\n",
       "  </tbody>\n",
       "</table>\n",
       "</div>"
      ],
      "text/plain": [
       "                        universe_id universe_training_year  \\\n",
       "0  d947b45e6732819ad1e201e04756f67e                2010_14   \n",
       "\n",
       "  universe_training_size universe_scale    universe_model  \\\n",
       "0                     5k   do-not-scale  penalized_logreg   \n",
       "\n",
       "  universe_exclude_features universe_exclude_subgroups     q_hat  coverage  \\\n",
       "0               nationality            drop-non-german  0.677235   0.91322   \n",
       "\n",
       "   avg_size  \n",
       "0  1.210032  "
      ]
     },
     "execution_count": 50,
     "metadata": {},
     "output_type": "execute_result"
    }
   ],
   "source": [
    "cp_metrics_df"
   ]
  },
  {
   "cell_type": "code",
   "execution_count": 51,
   "id": "b7fbde55-a0a1-47e4-9af6-fe4a17fa8c61",
   "metadata": {
    "execution": {
     "iopub.execute_input": "2025-08-05T15:56:40.938794Z",
     "iopub.status.busy": "2025-08-05T15:56:40.938105Z",
     "iopub.status.idle": "2025-08-05T15:56:40.944065Z",
     "shell.execute_reply": "2025-08-05T15:56:40.942868Z"
    },
    "papermill": {
     "duration": 0.037186,
     "end_time": "2025-08-05T15:56:40.950432",
     "exception": false,
     "start_time": "2025-08-05T15:56:40.913246",
     "status": "completed"
    },
    "tags": []
   },
   "outputs": [],
   "source": [
    "# Conditional Coverage & looking at subgroups"
   ]
  },
  {
   "cell_type": "code",
   "execution_count": 52,
   "id": "027ae886-68dd-4141-96c7-805a5450e1ef",
   "metadata": {
    "execution": {
     "iopub.execute_input": "2025-08-05T15:56:40.999726Z",
     "iopub.status.busy": "2025-08-05T15:56:40.998787Z",
     "iopub.status.idle": "2025-08-05T15:56:41.276700Z",
     "shell.execute_reply": "2025-08-05T15:56:41.275770Z"
    },
    "papermill": {
     "duration": 0.30458,
     "end_time": "2025-08-05T15:56:41.278881",
     "exception": false,
     "start_time": "2025-08-05T15:56:40.974301",
     "status": "completed"
    },
    "tags": []
   },
   "outputs": [],
   "source": [
    "from fairness_multiverse.conformal import build_cp_groups\n",
    "\n",
    "cp_groups_df = build_cp_groups(pred_sets, y_true, X_test.index, org_test)\n",
    "#needs universe_id and setting"
   ]
  },
  {
   "cell_type": "code",
   "execution_count": 53,
   "id": "6cbdab96-b2b2-45af-ad54-d0516db2e28d",
   "metadata": {
    "execution": {
     "iopub.execute_input": "2025-08-05T15:56:41.339120Z",
     "iopub.status.busy": "2025-08-05T15:56:41.338429Z",
     "iopub.status.idle": "2025-08-05T15:56:43.669652Z",
     "shell.execute_reply": "2025-08-05T15:56:43.668880Z"
    },
    "papermill": {
     "duration": 2.35741,
     "end_time": "2025-08-05T15:56:43.671103",
     "exception": false,
     "start_time": "2025-08-05T15:56:41.313693",
     "status": "completed"
    },
    "tags": []
   },
   "outputs": [],
   "source": [
    "# Define covered = 1 if true_label is in the predicted set\n",
    "cp_groups_df['covered'] = cp_groups_df.apply(\n",
    "    lambda r: int(r['true_label'] in r['pred_set']),\n",
    "    axis=1\n",
    ")"
   ]
  },
  {
   "cell_type": "code",
   "execution_count": 54,
   "id": "338ff529-1a6b-4b87-a931-8e4788d52aad",
   "metadata": {
    "execution": {
     "iopub.execute_input": "2025-08-05T15:56:43.698576Z",
     "iopub.status.busy": "2025-08-05T15:56:43.698108Z",
     "iopub.status.idle": "2025-08-05T15:56:43.702181Z",
     "shell.execute_reply": "2025-08-05T15:56:43.701380Z"
    },
    "papermill": {
     "duration": 0.01782,
     "end_time": "2025-08-05T15:56:43.703512",
     "exception": false,
     "start_time": "2025-08-05T15:56:43.685692",
     "status": "completed"
    },
    "tags": []
   },
   "outputs": [],
   "source": [
    "#cp_groups_df"
   ]
  },
  {
   "cell_type": "code",
   "execution_count": 55,
   "id": "90032e27-66df-4540-9169-4e89cfbaa758",
   "metadata": {
    "execution": {
     "iopub.execute_input": "2025-08-05T15:56:43.739020Z",
     "iopub.status.busy": "2025-08-05T15:56:43.738270Z",
     "iopub.status.idle": "2025-08-05T15:56:43.751035Z",
     "shell.execute_reply": "2025-08-05T15:56:43.749897Z"
    },
    "papermill": {
     "duration": 0.037823,
     "end_time": "2025-08-05T15:56:43.753619",
     "exception": false,
     "start_time": "2025-08-05T15:56:43.715796",
     "status": "completed"
    },
    "tags": []
   },
   "outputs": [],
   "source": [
    "subgroups = ['frau1','nongerman','nongerman_male','nongerman_female']\n",
    "\n",
    "# Conditional coverage for subgroup==1\n",
    "cond_coverage = {\n",
    "    g: cp_groups_df.loc[cp_groups_df[g]==1, 'covered'].mean()\n",
    "    for g in subgroups\n",
    "}"
   ]
  },
  {
   "cell_type": "code",
   "execution_count": 56,
   "id": "1e348fb1-b9c3-45bc-ba23-f016827a7e0d",
   "metadata": {
    "execution": {
     "iopub.execute_input": "2025-08-05T15:56:43.816355Z",
     "iopub.status.busy": "2025-08-05T15:56:43.815451Z",
     "iopub.status.idle": "2025-08-05T15:56:43.824028Z",
     "shell.execute_reply": "2025-08-05T15:56:43.822738Z"
    },
    "papermill": {
     "duration": 0.042121,
     "end_time": "2025-08-05T15:56:43.826181",
     "exception": false,
     "start_time": "2025-08-05T15:56:43.784060",
     "status": "completed"
    },
    "tags": []
   },
   "outputs": [
    {
     "data": {
      "text/plain": [
       "{'frau1': 0.9129532281978703,\n",
       " 'nongerman': 0.9344299107393477,\n",
       " 'nongerman_male': 0.9459605512023778,\n",
       " 'nongerman_female': 0.9153502235469448}"
      ]
     },
     "execution_count": 56,
     "metadata": {},
     "output_type": "execute_result"
    }
   ],
   "source": [
    "cond_coverage"
   ]
  },
  {
   "cell_type": "code",
   "execution_count": 57,
   "id": "f5093324-c3dd-4d63-bc4c-8d945e5c8bbb",
   "metadata": {
    "execution": {
     "iopub.execute_input": "2025-08-05T15:56:43.890075Z",
     "iopub.status.busy": "2025-08-05T15:56:43.889277Z",
     "iopub.status.idle": "2025-08-05T15:56:43.897241Z",
     "shell.execute_reply": "2025-08-05T15:56:43.896274Z"
    },
    "papermill": {
     "duration": 0.041989,
     "end_time": "2025-08-05T15:56:43.898766",
     "exception": false,
     "start_time": "2025-08-05T15:56:43.856777",
     "status": "completed"
    },
    "tags": []
   },
   "outputs": [],
   "source": [
    "for subgroup, cov in cond_coverage.items():\n",
    "    cp_metrics_df[f\"cov_{subgroup}\"] = cov"
   ]
  },
  {
   "cell_type": "code",
   "execution_count": 58,
   "id": "6e872e10-dbe5-49e8-b554-5030c98ff75d",
   "metadata": {
    "execution": {
     "iopub.execute_input": "2025-08-05T15:56:43.950245Z",
     "iopub.status.busy": "2025-08-05T15:56:43.949780Z",
     "iopub.status.idle": "2025-08-05T15:56:43.980944Z",
     "shell.execute_reply": "2025-08-05T15:56:43.979657Z"
    },
    "papermill": {
     "duration": 0.059138,
     "end_time": "2025-08-05T15:56:43.982957",
     "exception": false,
     "start_time": "2025-08-05T15:56:43.923819",
     "status": "completed"
    },
    "tags": []
   },
   "outputs": [
    {
     "data": {
      "text/html": [
       "<div>\n",
       "<style scoped>\n",
       "    .dataframe tbody tr th:only-of-type {\n",
       "        vertical-align: middle;\n",
       "    }\n",
       "\n",
       "    .dataframe tbody tr th {\n",
       "        vertical-align: top;\n",
       "    }\n",
       "\n",
       "    .dataframe thead th {\n",
       "        text-align: right;\n",
       "    }\n",
       "</style>\n",
       "<table border=\"1\" class=\"dataframe\">\n",
       "  <thead>\n",
       "    <tr style=\"text-align: right;\">\n",
       "      <th></th>\n",
       "      <th>universe_id</th>\n",
       "      <th>universe_training_year</th>\n",
       "      <th>universe_training_size</th>\n",
       "      <th>universe_scale</th>\n",
       "      <th>universe_model</th>\n",
       "      <th>universe_exclude_features</th>\n",
       "      <th>universe_exclude_subgroups</th>\n",
       "      <th>q_hat</th>\n",
       "      <th>coverage</th>\n",
       "      <th>avg_size</th>\n",
       "      <th>cov_frau1</th>\n",
       "      <th>cov_nongerman</th>\n",
       "      <th>cov_nongerman_male</th>\n",
       "      <th>cov_nongerman_female</th>\n",
       "    </tr>\n",
       "  </thead>\n",
       "  <tbody>\n",
       "    <tr>\n",
       "      <th>0</th>\n",
       "      <td>d947b45e6732819ad1e201e04756f67e</td>\n",
       "      <td>2010_14</td>\n",
       "      <td>5k</td>\n",
       "      <td>do-not-scale</td>\n",
       "      <td>penalized_logreg</td>\n",
       "      <td>nationality</td>\n",
       "      <td>drop-non-german</td>\n",
       "      <td>0.677235</td>\n",
       "      <td>0.91322</td>\n",
       "      <td>1.210032</td>\n",
       "      <td>0.912953</td>\n",
       "      <td>0.93443</td>\n",
       "      <td>0.945961</td>\n",
       "      <td>0.91535</td>\n",
       "    </tr>\n",
       "  </tbody>\n",
       "</table>\n",
       "</div>"
      ],
      "text/plain": [
       "                        universe_id universe_training_year  \\\n",
       "0  d947b45e6732819ad1e201e04756f67e                2010_14   \n",
       "\n",
       "  universe_training_size universe_scale    universe_model  \\\n",
       "0                     5k   do-not-scale  penalized_logreg   \n",
       "\n",
       "  universe_exclude_features universe_exclude_subgroups     q_hat  coverage  \\\n",
       "0               nationality            drop-non-german  0.677235   0.91322   \n",
       "\n",
       "   avg_size  cov_frau1  cov_nongerman  cov_nongerman_male  \\\n",
       "0  1.210032   0.912953        0.93443            0.945961   \n",
       "\n",
       "   cov_nongerman_female  \n",
       "0               0.91535  "
      ]
     },
     "execution_count": 58,
     "metadata": {},
     "output_type": "execute_result"
    }
   ],
   "source": [
    "cp_metrics_df"
   ]
  },
  {
   "cell_type": "markdown",
   "id": "33774451",
   "metadata": {
    "papermill": {
     "duration": 0.025287,
     "end_time": "2025-08-05T15:56:44.032523",
     "exception": false,
     "start_time": "2025-08-05T15:56:44.007236",
     "status": "completed"
    },
    "tags": []
   },
   "source": [
    "# (Fairness) Metrics"
   ]
  },
  {
   "cell_type": "code",
   "execution_count": 59,
   "id": "debc5d62",
   "metadata": {
    "execution": {
     "iopub.execute_input": "2025-08-05T15:56:44.080456Z",
     "iopub.status.busy": "2025-08-05T15:56:44.079451Z",
     "iopub.status.idle": "2025-08-05T15:56:44.104565Z",
     "shell.execute_reply": "2025-08-05T15:56:44.103471Z"
    },
    "papermill": {
     "duration": 0.050765,
     "end_time": "2025-08-05T15:56:44.106651",
     "exception": false,
     "start_time": "2025-08-05T15:56:44.055886",
     "status": "completed"
    },
    "tags": []
   },
   "outputs": [],
   "source": [
    "# do I need to include maxdeutsch1.missing?\n",
    "\n",
    "import numpy as np\n",
    "\n",
    "colname_to_bin = \"maxdeutsch1\"\n",
    "majority_value = org_train[colname_to_bin].mode()[0]\n",
    "\n",
    "org_test[\"majmin\"] = np.where(org_test[colname_to_bin] == majority_value, \"majority\", \"minority\")"
   ]
  },
  {
   "cell_type": "code",
   "execution_count": 60,
   "id": "06a50de5",
   "metadata": {
    "execution": {
     "iopub.execute_input": "2025-08-05T15:56:44.157924Z",
     "iopub.status.busy": "2025-08-05T15:56:44.156901Z",
     "iopub.status.idle": "2025-08-05T15:56:46.343549Z",
     "shell.execute_reply": "2025-08-05T15:56:46.342800Z"
    },
    "papermill": {
     "duration": 2.214489,
     "end_time": "2025-08-05T15:56:46.345131",
     "exception": false,
     "start_time": "2025-08-05T15:56:44.130642",
     "status": "completed"
    },
    "tags": []
   },
   "outputs": [],
   "source": [
    "example_universe = universe.copy()\n",
    "example_universe[\"cutoff\"] = example_universe[\"cutoff\"][0]\n",
    "example_universe[\"eval_fairness_grouping\"] = example_universe[\"eval_fairness_grouping\"][0]\n",
    "fairness_dict, metric_frame = universe_analysis.compute_metrics(\n",
    "    example_universe,\n",
    "    y_pred_prob=probs_test,\n",
    "    y_test=y_true,\n",
    "    org_test=org_test,\n",
    ")"
   ]
  },
  {
   "cell_type": "markdown",
   "id": "f95d4e02",
   "metadata": {
    "papermill": {
     "duration": 0.01206,
     "end_time": "2025-08-05T15:56:46.370756",
     "exception": false,
     "start_time": "2025-08-05T15:56:46.358696",
     "status": "completed"
    },
    "tags": []
   },
   "source": [
    "# Overall"
   ]
  },
  {
   "cell_type": "markdown",
   "id": "bdee4871",
   "metadata": {
    "papermill": {
     "duration": 0.011888,
     "end_time": "2025-08-05T15:56:46.394847",
     "exception": false,
     "start_time": "2025-08-05T15:56:46.382959",
     "status": "completed"
    },
    "tags": []
   },
   "source": [
    "Fairness\n",
    "Main fairness target: Equalized Odds. Seems to be a better fit than equal opportunity, since we're not only interested in Y = 1. Seems to be a better fit than demographic parity, since we also care about accuracy, not just equal distribution of preds.\n",
    "\n",
    "Pick column for computation of fairness metrics\n",
    "\n",
    "Performance\n",
    "Overall performance measures, most interesting in relation to the measures split by group below"
   ]
  },
  {
   "cell_type": "code",
   "execution_count": 61,
   "id": "c4e067c6",
   "metadata": {
    "execution": {
     "iopub.execute_input": "2025-08-05T15:56:46.420373Z",
     "iopub.status.busy": "2025-08-05T15:56:46.419865Z",
     "iopub.status.idle": "2025-08-05T15:56:46.427180Z",
     "shell.execute_reply": "2025-08-05T15:56:46.426431Z"
    },
    "papermill": {
     "duration": 0.021981,
     "end_time": "2025-08-05T15:56:46.428686",
     "exception": false,
     "start_time": "2025-08-05T15:56:46.406705",
     "status": "completed"
    },
    "tags": []
   },
   "outputs": [
    {
     "data": {
      "text/plain": [
       "accuracy                   0.217980\n",
       "balanced accuracy          0.534331\n",
       "f1                         0.239487\n",
       "precision                  0.136811\n",
       "false positive rate        0.891192\n",
       "false negative rate        0.040146\n",
       "selection rate             0.900000\n",
       "count                  89710.000000\n",
       "dtype: float64"
      ]
     },
     "execution_count": 61,
     "metadata": {},
     "output_type": "execute_result"
    }
   ],
   "source": [
    "metric_frame.overall"
   ]
  },
  {
   "cell_type": "markdown",
   "id": "e968fe9d",
   "metadata": {
    "papermill": {
     "duration": 0.012357,
     "end_time": "2025-08-05T15:56:46.454324",
     "exception": false,
     "start_time": "2025-08-05T15:56:46.441967",
     "status": "completed"
    },
    "tags": []
   },
   "source": [
    "By Group"
   ]
  },
  {
   "cell_type": "code",
   "execution_count": 62,
   "id": "ec325bce",
   "metadata": {
    "execution": {
     "iopub.execute_input": "2025-08-05T15:56:46.497886Z",
     "iopub.status.busy": "2025-08-05T15:56:46.497482Z",
     "iopub.status.idle": "2025-08-05T15:56:46.511609Z",
     "shell.execute_reply": "2025-08-05T15:56:46.510457Z"
    },
    "papermill": {
     "duration": 0.036808,
     "end_time": "2025-08-05T15:56:46.513044",
     "exception": false,
     "start_time": "2025-08-05T15:56:46.476236",
     "status": "completed"
    },
    "tags": []
   },
   "outputs": [
    {
     "data": {
      "text/html": [
       "<div>\n",
       "<style scoped>\n",
       "    .dataframe tbody tr th:only-of-type {\n",
       "        vertical-align: middle;\n",
       "    }\n",
       "\n",
       "    .dataframe tbody tr th {\n",
       "        vertical-align: top;\n",
       "    }\n",
       "\n",
       "    .dataframe thead th {\n",
       "        text-align: right;\n",
       "    }\n",
       "</style>\n",
       "<table border=\"1\" class=\"dataframe\">\n",
       "  <thead>\n",
       "    <tr style=\"text-align: right;\">\n",
       "      <th></th>\n",
       "      <th>accuracy</th>\n",
       "      <th>balanced accuracy</th>\n",
       "      <th>f1</th>\n",
       "      <th>precision</th>\n",
       "      <th>false positive rate</th>\n",
       "      <th>false negative rate</th>\n",
       "      <th>selection rate</th>\n",
       "      <th>count</th>\n",
       "    </tr>\n",
       "    <tr>\n",
       "      <th>majmin</th>\n",
       "      <th></th>\n",
       "      <th></th>\n",
       "      <th></th>\n",
       "      <th></th>\n",
       "      <th></th>\n",
       "      <th></th>\n",
       "      <th></th>\n",
       "      <th></th>\n",
       "    </tr>\n",
       "  </thead>\n",
       "  <tbody>\n",
       "    <tr>\n",
       "      <th>majority</th>\n",
       "      <td>0.239569</td>\n",
       "      <td>0.542324</td>\n",
       "      <td>0.248961</td>\n",
       "      <td>0.143164</td>\n",
       "      <td>0.869182</td>\n",
       "      <td>0.046171</td>\n",
       "      <td>0.880367</td>\n",
       "      <td>69170.0</td>\n",
       "    </tr>\n",
       "    <tr>\n",
       "      <th>minority</th>\n",
       "      <td>0.145278</td>\n",
       "      <td>0.509604</td>\n",
       "      <td>0.209616</td>\n",
       "      <td>0.117315</td>\n",
       "      <td>0.963901</td>\n",
       "      <td>0.016892</td>\n",
       "      <td>0.966115</td>\n",
       "      <td>20540.0</td>\n",
       "    </tr>\n",
       "  </tbody>\n",
       "</table>\n",
       "</div>"
      ],
      "text/plain": [
       "          accuracy  balanced accuracy        f1  precision  \\\n",
       "majmin                                                       \n",
       "majority  0.239569           0.542324  0.248961   0.143164   \n",
       "minority  0.145278           0.509604  0.209616   0.117315   \n",
       "\n",
       "          false positive rate  false negative rate  selection rate    count  \n",
       "majmin                                                                       \n",
       "majority             0.869182             0.046171        0.880367  69170.0  \n",
       "minority             0.963901             0.016892        0.966115  20540.0  "
      ]
     },
     "execution_count": 62,
     "metadata": {},
     "output_type": "execute_result"
    }
   ],
   "source": [
    "metric_frame.by_group"
   ]
  },
  {
   "cell_type": "code",
   "execution_count": 63,
   "id": "a9ddbe63",
   "metadata": {
    "execution": {
     "iopub.execute_input": "2025-08-05T15:56:46.541582Z",
     "iopub.status.busy": "2025-08-05T15:56:46.541045Z",
     "iopub.status.idle": "2025-08-05T15:56:48.872781Z",
     "shell.execute_reply": "2025-08-05T15:56:48.872057Z"
    },
    "papermill": {
     "duration": 2.347222,
     "end_time": "2025-08-05T15:56:48.874417",
     "exception": false,
     "start_time": "2025-08-05T15:56:46.527195",
     "status": "completed"
    },
    "tags": []
   },
   "outputs": [
    {
     "data": {
      "text/plain": [
       "array([[<Axes: title={'center': 'accuracy'}, xlabel='majmin'>,\n",
       "        <Axes: title={'center': 'balanced accuracy'}, xlabel='majmin'>,\n",
       "        <Axes: title={'center': 'f1'}, xlabel='majmin'>],\n",
       "       [<Axes: title={'center': 'precision'}, xlabel='majmin'>,\n",
       "        <Axes: title={'center': 'false positive rate'}, xlabel='majmin'>,\n",
       "        <Axes: title={'center': 'false negative rate'}, xlabel='majmin'>],\n",
       "       [<Axes: title={'center': 'selection rate'}, xlabel='majmin'>,\n",
       "        <Axes: title={'center': 'count'}, xlabel='majmin'>,\n",
       "        <Axes: xlabel='majmin'>]], dtype=object)"
      ]
     },
     "execution_count": 63,
     "metadata": {},
     "output_type": "execute_result"
    },
    {
     "data": {
      "image/png": "[encoded data removed]",
      "text/plain": [
       "<Figure size 1200x800 with 9 Axes>"
      ]
     },
     "metadata": {},
     "output_type": "display_data"
    }
   ],
   "source": [
    "# In a graphic\n",
    "metric_frame.by_group.plot.bar(\n",
    "    subplots=True,\n",
    "    layout=[3, 3],\n",
    "    legend=False,\n",
    "    figsize=[12, 8],\n",
    "    title=\"Show all metrics\",\n",
    ")"
   ]
  },
  {
   "cell_type": "markdown",
   "id": "f57a0bac",
   "metadata": {
    "papermill": {
     "duration": 0.012904,
     "end_time": "2025-08-05T15:56:48.913000",
     "exception": false,
     "start_time": "2025-08-05T15:56:48.900096",
     "status": "completed"
    },
    "tags": []
   },
   "source": [
    "# Final Output"
   ]
  },
  {
   "cell_type": "code",
   "execution_count": 64,
   "id": "96d280a3",
   "metadata": {
    "execution": {
     "iopub.execute_input": "2025-08-05T15:56:48.945671Z",
     "iopub.status.busy": "2025-08-05T15:56:48.945142Z",
     "iopub.status.idle": "2025-08-05T15:56:48.951340Z",
     "shell.execute_reply": "2025-08-05T15:56:48.950691Z"
    },
    "papermill": {
     "duration": 0.026772,
     "end_time": "2025-08-05T15:56:48.952702",
     "exception": false,
     "start_time": "2025-08-05T15:56:48.925930",
     "status": "completed"
    },
    "tags": []
   },
   "outputs": [
    {
     "data": {
      "text/plain": [
       "4"
      ]
     },
     "execution_count": 64,
     "metadata": {},
     "output_type": "execute_result"
    }
   ],
   "source": [
    "sub_universes = universe_analysis.generate_sub_universes()\n",
    "len(sub_universes)"
   ]
  },
  {
   "cell_type": "code",
   "execution_count": 65,
   "id": "92adf7ba",
   "metadata": {
    "execution": {
     "iopub.execute_input": "2025-08-05T15:56:48.981178Z",
     "iopub.status.busy": "2025-08-05T15:56:48.980732Z",
     "iopub.status.idle": "2025-08-05T15:56:48.986921Z",
     "shell.execute_reply": "2025-08-05T15:56:48.985780Z"
    },
    "papermill": {
     "duration": 0.022331,
     "end_time": "2025-08-05T15:56:48.989247",
     "exception": false,
     "start_time": "2025-08-05T15:56:48.966916",
     "status": "completed"
    },
    "tags": []
   },
   "outputs": [],
   "source": [
    "def filter_sub_universe_data(sub_universe, org_test):\n",
    "    # Keep all rows — no filtering\n",
    "    keep_rows_mask = np.ones(org_test.shape[0], dtype=bool)\n",
    "\n",
    "    print(f\"[INFO] Keeping all rows: {keep_rows_mask.sum()} rows retained.\")\n",
    "    return keep_rows_mask"
   ]
  },
  {
   "cell_type": "code",
   "execution_count": 66,
   "id": "4a759155",
   "metadata": {
    "execution": {
     "iopub.execute_input": "2025-08-05T15:56:49.047677Z",
     "iopub.status.busy": "2025-08-05T15:56:49.047153Z",
     "iopub.status.idle": "2025-08-05T15:56:59.281807Z",
     "shell.execute_reply": "2025-08-05T15:56:59.280692Z"
    },
    "papermill": {
     "duration": 10.265587,
     "end_time": "2025-08-05T15:56:59.283819",
     "exception": false,
     "start_time": "2025-08-05T15:56:49.018232",
     "status": "completed"
    },
    "tags": []
   },
   "outputs": [
    {
     "name": "stdout",
     "output_type": "stream",
     "text": [
      "Stopping execution_time clock.\n",
      "[INFO] Keeping all rows: 89710 rows retained.\n"
     ]
    },
    {
     "name": "stdout",
     "output_type": "stream",
     "text": [
      "[INFO] Keeping all rows: 89710 rows retained.\n"
     ]
    },
    {
     "name": "stdout",
     "output_type": "stream",
     "text": [
      "[INFO] Keeping all rows: 89710 rows retained.\n"
     ]
    },
    {
     "name": "stdout",
     "output_type": "stream",
     "text": [
      "[INFO] Keeping all rows: 89710 rows retained.\n"
     ]
    },
    {
     "data": {
      "text/html": [
       "<div>\n",
       "<style scoped>\n",
       "    .dataframe tbody tr th:only-of-type {\n",
       "        vertical-align: middle;\n",
       "    }\n",
       "\n",
       "    .dataframe tbody tr th {\n",
       "        vertical-align: top;\n",
       "    }\n",
       "\n",
       "    .dataframe thead th {\n",
       "        text-align: right;\n",
       "    }\n",
       "</style>\n",
       "<table border=\"1\" class=\"dataframe\">\n",
       "  <thead>\n",
       "    <tr style=\"text-align: right;\">\n",
       "      <th></th>\n",
       "      <th>run_no</th>\n",
       "      <th>universe_id</th>\n",
       "      <th>universe_settings</th>\n",
       "      <th>execution_time</th>\n",
       "      <th>test_size_n</th>\n",
       "      <th>test_size_frac</th>\n",
       "      <th>fair_main_equalized_odds_difference</th>\n",
       "      <th>fair_main_equalized_odds_ratio</th>\n",
       "      <th>fair_main_demographic_parity_difference</th>\n",
       "      <th>fair_main_demographic_parity_ratio</th>\n",
       "      <th>...</th>\n",
       "      <th>perf_grp_precision_0</th>\n",
       "      <th>perf_grp_precision_1</th>\n",
       "      <th>perf_grp_false positive rate_0</th>\n",
       "      <th>perf_grp_false positive rate_1</th>\n",
       "      <th>perf_grp_false negative rate_0</th>\n",
       "      <th>perf_grp_false negative rate_1</th>\n",
       "      <th>perf_grp_selection rate_0</th>\n",
       "      <th>perf_grp_selection rate_1</th>\n",
       "      <th>perf_grp_count_0</th>\n",
       "      <th>perf_grp_count_1</th>\n",
       "    </tr>\n",
       "  </thead>\n",
       "  <tbody>\n",
       "    <tr>\n",
       "      <th>0</th>\n",
       "      <td>15</td>\n",
       "      <td>d947b45e6732819ad1e201e04756f67e</td>\n",
       "      <td>{\"cutoff\": \"quantile_0.1\", \"eval_fairness_grou...</td>\n",
       "      <td>25.466063</td>\n",
       "      <td>89710</td>\n",
       "      <td>1.0</td>\n",
       "      <td>0.094718</td>\n",
       "      <td>0.901734</td>\n",
       "      <td>0.085748</td>\n",
       "      <td>0.911245</td>\n",
       "      <td>...</td>\n",
       "      <td>NaN</td>\n",
       "      <td>NaN</td>\n",
       "      <td>NaN</td>\n",
       "      <td>NaN</td>\n",
       "      <td>NaN</td>\n",
       "      <td>NaN</td>\n",
       "      <td>NaN</td>\n",
       "      <td>NaN</td>\n",
       "      <td>NaN</td>\n",
       "      <td>NaN</td>\n",
       "    </tr>\n",
       "    <tr>\n",
       "      <th>0</th>\n",
       "      <td>15</td>\n",
       "      <td>d947b45e6732819ad1e201e04756f67e</td>\n",
       "      <td>{\"cutoff\": \"quantile_0.1\", \"eval_fairness_grou...</td>\n",
       "      <td>25.466063</td>\n",
       "      <td>89710</td>\n",
       "      <td>1.0</td>\n",
       "      <td>0.094718</td>\n",
       "      <td>0.901734</td>\n",
       "      <td>0.085748</td>\n",
       "      <td>0.911245</td>\n",
       "      <td>...</td>\n",
       "      <td>0.117315</td>\n",
       "      <td>0.143164</td>\n",
       "      <td>0.963901</td>\n",
       "      <td>0.869182</td>\n",
       "      <td>0.016892</td>\n",
       "      <td>0.046171</td>\n",
       "      <td>0.966115</td>\n",
       "      <td>0.880367</td>\n",
       "      <td>20540.0</td>\n",
       "      <td>69170.0</td>\n",
       "    </tr>\n",
       "    <tr>\n",
       "      <th>0</th>\n",
       "      <td>15</td>\n",
       "      <td>d947b45e6732819ad1e201e04756f67e</td>\n",
       "      <td>{\"cutoff\": \"quantile_0.25\", \"eval_fairness_gro...</td>\n",
       "      <td>25.466063</td>\n",
       "      <td>89710</td>\n",
       "      <td>1.0</td>\n",
       "      <td>0.217817</td>\n",
       "      <td>0.757197</td>\n",
       "      <td>0.198843</td>\n",
       "      <td>0.779873</td>\n",
       "      <td>...</td>\n",
       "      <td>NaN</td>\n",
       "      <td>NaN</td>\n",
       "      <td>NaN</td>\n",
       "      <td>NaN</td>\n",
       "      <td>NaN</td>\n",
       "      <td>NaN</td>\n",
       "      <td>NaN</td>\n",
       "      <td>NaN</td>\n",
       "      <td>NaN</td>\n",
       "      <td>NaN</td>\n",
       "    </tr>\n",
       "    <tr>\n",
       "      <th>0</th>\n",
       "      <td>15</td>\n",
       "      <td>d947b45e6732819ad1e201e04756f67e</td>\n",
       "      <td>{\"cutoff\": \"quantile_0.25\", \"eval_fairness_gro...</td>\n",
       "      <td>25.466063</td>\n",
       "      <td>89710</td>\n",
       "      <td>1.0</td>\n",
       "      <td>0.217817</td>\n",
       "      <td>0.757197</td>\n",
       "      <td>0.198843</td>\n",
       "      <td>0.779873</td>\n",
       "      <td>...</td>\n",
       "      <td>0.121375</td>\n",
       "      <td>0.163171</td>\n",
       "      <td>0.897094</td>\n",
       "      <td>0.679277</td>\n",
       "      <td>0.048986</td>\n",
       "      <td>0.130088</td>\n",
       "      <td>0.903311</td>\n",
       "      <td>0.704467</td>\n",
       "      <td>20540.0</td>\n",
       "      <td>69170.0</td>\n",
       "    </tr>\n",
       "  </tbody>\n",
       "</table>\n",
       "<p>4 rows × 50 columns</p>\n",
       "</div>"
      ],
      "text/plain": [
       "  run_no                       universe_id  \\\n",
       "0     15  d947b45e6732819ad1e201e04756f67e   \n",
       "0     15  d947b45e6732819ad1e201e04756f67e   \n",
       "0     15  d947b45e6732819ad1e201e04756f67e   \n",
       "0     15  d947b45e6732819ad1e201e04756f67e   \n",
       "\n",
       "                                   universe_settings  execution_time  \\\n",
       "0  {\"cutoff\": \"quantile_0.1\", \"eval_fairness_grou...       25.466063   \n",
       "0  {\"cutoff\": \"quantile_0.1\", \"eval_fairness_grou...       25.466063   \n",
       "0  {\"cutoff\": \"quantile_0.25\", \"eval_fairness_gro...       25.466063   \n",
       "0  {\"cutoff\": \"quantile_0.25\", \"eval_fairness_gro...       25.466063   \n",
       "\n",
       "   test_size_n  test_size_frac  fair_main_equalized_odds_difference  \\\n",
       "0        89710             1.0                             0.094718   \n",
       "0        89710             1.0                             0.094718   \n",
       "0        89710             1.0                             0.217817   \n",
       "0        89710             1.0                             0.217817   \n",
       "\n",
       "   fair_main_equalized_odds_ratio  fair_main_demographic_parity_difference  \\\n",
       "0                        0.901734                                 0.085748   \n",
       "0                        0.901734                                 0.085748   \n",
       "0                        0.757197                                 0.198843   \n",
       "0                        0.757197                                 0.198843   \n",
       "\n",
       "   fair_main_demographic_parity_ratio  ...  perf_grp_precision_0  \\\n",
       "0                            0.911245  ...                   NaN   \n",
       "0                            0.911245  ...              0.117315   \n",
       "0                            0.779873  ...                   NaN   \n",
       "0                            0.779873  ...              0.121375   \n",
       "\n",
       "   perf_grp_precision_1  perf_grp_false positive rate_0  \\\n",
       "0                   NaN                             NaN   \n",
       "0              0.143164                        0.963901   \n",
       "0                   NaN                             NaN   \n",
       "0              0.163171                        0.897094   \n",
       "\n",
       "   perf_grp_false positive rate_1  perf_grp_false negative rate_0  \\\n",
       "0                             NaN                             NaN   \n",
       "0                        0.869182                        0.016892   \n",
       "0                             NaN                             NaN   \n",
       "0                        0.679277                        0.048986   \n",
       "\n",
       "   perf_grp_false negative rate_1  perf_grp_selection rate_0  \\\n",
       "0                             NaN                        NaN   \n",
       "0                        0.046171                   0.966115   \n",
       "0                             NaN                        NaN   \n",
       "0                        0.130088                   0.903311   \n",
       "\n",
       "   perf_grp_selection rate_1  perf_grp_count_0  perf_grp_count_1  \n",
       "0                        NaN               NaN               NaN  \n",
       "0                   0.880367           20540.0           69170.0  \n",
       "0                        NaN               NaN               NaN  \n",
       "0                   0.704467           20540.0           69170.0  \n",
       "\n",
       "[4 rows x 50 columns]"
      ]
     },
     "execution_count": 66,
     "metadata": {},
     "output_type": "execute_result"
    }
   ],
   "source": [
    "final_output = universe_analysis.generate_final_output(\n",
    "    y_pred_prob=probs_test,\n",
    "    y_test=y_true,\n",
    "    org_test=org_test,\n",
    "    filter_data=filter_sub_universe_data,\n",
    "    cp_metrics_df=cp_metrics_df,\n",
    "    save=True,\n",
    ")\n",
    "final_output"
   ]
  }
 ],
 "metadata": {
  "celltoolbar": "Tags",
  "kernelspec": {
   "display_name": "Python (CMA Fairness)",
   "language": "python",
   "name": "cma_fair_env"
  },
  "language_info": {
   "codemirror_mode": {
    "name": "ipython",
    "version": 3
   },
   "file_extension": ".py",
   "mimetype": "text/x-python",
   "name": "python",
   "nbconvert_exporter": "python",
   "pygments_lexer": "ipython3",
   "version": "3.10.12"
  },
  "papermill": {
   "default_parameters": {},
   "duration": 39.343461,
   "end_time": "2025-08-05T15:57:00.144250",
   "environment_variables": {},
   "exception": null,
   "input_path": "universe_analysis.ipynb",
   "output_path": "output/runs/15/notebooks/m_15-d947b45e6732819ad1e201e04756f67e.ipynb",
   "parameters": {
    "output_dir": "output",
    "run_no": "15",
    "seed": "2023",
    "universe": "{\"cutoff\": [\"quantile_0.1\", \"quantile_0.25\"], \"eval_fairness_grouping\": [\"majority-minority\", \"nationality-all\"], \"exclude_features\": \"nationality\", \"exclude_subgroups\": \"drop-non-german\", \"model\": \"penalized_logreg\", \"scale\": \"do-not-scale\", \"training_size\": \"5k\", \"training_year\": \"2010_14\"}",
    "universe_id": "d947b45e6732819ad1e201e04756f67e"
   },
   "start_time": "2025-08-05T15:56:20.800789",
   "version": "2.6.0"
  }
 },
 "nbformat": 4,
 "nbformat_minor": 5
}