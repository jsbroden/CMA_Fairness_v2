{
 "cells": [
  {
   "cell_type": "code",
   "execution_count": 1,
   "id": "f159f837-637b-42ba-96b5-ec9a68c44524",
   "metadata": {
    "execution": {
     "iopub.execute_input": "2025-08-05T16:17:30.743633Z",
     "iopub.status.busy": "2025-08-05T16:17:30.743050Z",
     "iopub.status.idle": "2025-08-05T16:17:30.760398Z",
     "shell.execute_reply": "2025-08-05T16:17:30.759189Z"
    },
    "papermill": {
     "duration": 0.04411,
     "end_time": "2025-08-05T16:17:30.762585",
     "exception": false,
     "start_time": "2025-08-05T16:17:30.718475",
     "status": "completed"
    },
    "tags": []
   },
   "outputs": [
    {
     "name": "stdout",
     "output_type": "stream",
     "text": [
      "/dss/dsshome1/0C/ra93lal2/cma/CMA_Fairness_v2\n"
     ]
    },
    {
     "name": "stderr",
     "output_type": "stream",
     "text": [
      "/dss/dsshome1/0C/ra93lal2/.local/share/virtualenvs/CMA_Fairness_v2-3j10GkSs/lib/python3.10/site-packages/IPython/core/magics/osm.py:393: UserWarning: This is now an optional IPython functionality, using bookmarks requires you to install the `pickleshare` library.\n",
      "  bkms = self.shell.db.get('bookmarks', {})\n",
      "/dss/dsshome1/0C/ra93lal2/.local/share/virtualenvs/CMA_Fairness_v2-3j10GkSs/lib/python3.10/site-packages/IPython/core/magics/osm.py:417: UserWarning: This is now an optional IPython functionality, setting dhist requires you to install the `pickleshare` library.\n",
      "  self.shell.db['dhist'] = compress_dhist(dhist)[-100:]\n"
     ]
    }
   ],
   "source": [
    "%cd ~/cma/CMA_Fairness_v2"
   ]
  },
  {
   "cell_type": "markdown",
   "id": "de2603b9",
   "metadata": {
    "papermill": {
     "duration": 0.021679,
     "end_time": "2025-08-05T16:17:30.807470",
     "exception": false,
     "start_time": "2025-08-05T16:17:30.785791",
     "status": "completed"
    },
    "tags": []
   },
   "source": [
    "The following cell holds the definition of our parameters, these values can be overriden by rendering the with e.g. the following command:\n",
    "\n",
    "papermill -p alpha 0.2 -p ratio 0.3 universe_analysis.ipynb output/test_run.ipynb"
   ]
  },
  {
   "cell_type": "code",
   "execution_count": 2,
   "id": "a80968a0-40bb-4fa9-85ef-2d5eefb01975",
   "metadata": {
    "execution": {
     "iopub.execute_input": "2025-08-05T16:17:30.852609Z",
     "iopub.status.busy": "2025-08-05T16:17:30.852141Z",
     "iopub.status.idle": "2025-08-05T16:17:30.858099Z",
     "shell.execute_reply": "2025-08-05T16:17:30.857097Z"
    },
    "papermill": {
     "duration": 0.030782,
     "end_time": "2025-08-05T16:17:30.860148",
     "exception": false,
     "start_time": "2025-08-05T16:17:30.829366",
     "status": "completed"
    },
    "tags": []
   },
   "outputs": [
    {
     "name": "stdout",
     "output_type": "stream",
     "text": [
      "Current working directory: /dss/dsshome1/0C/ra93lal2/cma/CMA_Fairness_v2\n"
     ]
    }
   ],
   "source": [
    "import os\n",
    "print(\"Current working directory:\", os.getcwd())"
   ]
  },
  {
   "cell_type": "code",
   "execution_count": 3,
   "id": "2dce4c03",
   "metadata": {
    "execution": {
     "iopub.execute_input": "2025-08-05T16:17:30.905818Z",
     "iopub.status.busy": "2025-08-05T16:17:30.905422Z",
     "iopub.status.idle": "2025-08-05T16:17:30.912724Z",
     "shell.execute_reply": "2025-08-05T16:17:30.911641Z"
    },
    "papermill": {
     "duration": 0.032527,
     "end_time": "2025-08-05T16:17:30.914780",
     "exception": false,
     "start_time": "2025-08-05T16:17:30.882253",
     "status": "completed"
    },
    "tags": [
     "parameters"
    ]
   },
   "outputs": [],
   "source": [
    "run_no = 0\n",
    "universe_id = \"test\"\n",
    "universe = {\n",
    "    \"training_size\": \"25k\", # \"25k\", \"5k\", \"1k\"\n",
    "    \"training_year\": \"2014\", # \"2014\", \"2012_14\", \"2010_14\"\n",
    "    \"scale\": \"scale\", # \"scale\", \"do-not-scale\",\n",
    "    \"model\": \"elasticnet\", # \"logreg\", \"penalized_logreg\", \"rf\", \"gbm\", \"elasticnet\"\n",
    "    \"cutoff\": [\"quantile_0.15\", \"quantile_0.30\"],\n",
    "    \"exclude_features\": \"age\", # \"none\", \"nationality\", \"sex\", \"nationality-sex\", \"age\"\n",
    "    \"exclude_subgroups\": \"keep-all\", # \"keep-all\", \"drop-non-german\"\n",
    "    \"eval_fairness_grouping\": [\"majority-minority\", \"nationality-all\"]\n",
    "}\n",
    "\n",
    "output_dir=\"./output\"\n",
    "seed=0"
   ]
  },
  {
   "cell_type": "code",
   "execution_count": 4,
   "id": "b9ad18e3",
   "metadata": {
    "execution": {
     "iopub.execute_input": "2025-08-05T16:17:30.960848Z",
     "iopub.status.busy": "2025-08-05T16:17:30.960272Z",
     "iopub.status.idle": "2025-08-05T16:17:30.965909Z",
     "shell.execute_reply": "2025-08-05T16:17:30.964817Z"
    },
    "papermill": {
     "duration": 0.030776,
     "end_time": "2025-08-05T16:17:30.967985",
     "exception": false,
     "start_time": "2025-08-05T16:17:30.937209",
     "status": "completed"
    },
    "tags": [
     "injected-parameters"
    ]
   },
   "outputs": [],
   "source": [
    "# Parameters\n",
    "universe_id = \"f7a963de121b4420f79d389821441c5a\"\n",
    "run_no = \"15\"\n",
    "universe = \"{\\\"cutoff\\\": [\\\"quantile_0.1\\\", \\\"quantile_0.25\\\"], \\\"eval_fairness_grouping\\\": [\\\"majority-minority\\\", \\\"nationality-all\\\"], \\\"exclude_features\\\": \\\"sex\\\", \\\"exclude_subgroups\\\": \\\"drop-non-german\\\", \\\"model\\\": \\\"penalized_logreg\\\", \\\"scale\\\": \\\"scale\\\", \\\"training_size\\\": \\\"1k\\\", \\\"training_year\\\": \\\"2012_14\\\"}\"\n",
    "output_dir = \"output\"\n",
    "seed = \"2023\"\n"
   ]
  },
  {
   "cell_type": "code",
   "execution_count": 5,
   "id": "1650acaf",
   "metadata": {
    "execution": {
     "iopub.execute_input": "2025-08-05T16:17:31.013448Z",
     "iopub.status.busy": "2025-08-05T16:17:31.013091Z",
     "iopub.status.idle": "2025-08-05T16:17:31.018004Z",
     "shell.execute_reply": "2025-08-05T16:17:31.016926Z"
    },
    "papermill": {
     "duration": 0.029849,
     "end_time": "2025-08-05T16:17:31.019915",
     "exception": false,
     "start_time": "2025-08-05T16:17:30.990066",
     "status": "completed"
    },
    "tags": []
   },
   "outputs": [],
   "source": [
    "import json\n",
    "if isinstance(universe, str):\n",
    "    universe = json.loads(universe)"
   ]
  },
  {
   "cell_type": "code",
   "execution_count": 6,
   "id": "16620c48",
   "metadata": {
    "execution": {
     "iopub.execute_input": "2025-08-05T16:17:31.065817Z",
     "iopub.status.busy": "2025-08-05T16:17:31.065461Z",
     "iopub.status.idle": "2025-08-05T16:17:31.118489Z",
     "shell.execute_reply": "2025-08-05T16:17:31.117472Z"
    },
    "papermill": {
     "duration": 0.07823,
     "end_time": "2025-08-05T16:17:31.120460",
     "exception": false,
     "start_time": "2025-08-05T16:17:31.042230",
     "status": "completed"
    },
    "tags": []
   },
   "outputs": [],
   "source": [
    "# Auto-reload the custom package\n",
    "%load_ext autoreload\n",
    "%autoreload 1\n",
    "%aimport fairness_multiverse"
   ]
  },
  {
   "cell_type": "code",
   "execution_count": 7,
   "id": "01c5c9f3",
   "metadata": {
    "execution": {
     "iopub.execute_input": "2025-08-05T16:17:31.166976Z",
     "iopub.status.busy": "2025-08-05T16:17:31.166151Z",
     "iopub.status.idle": "2025-08-05T16:17:33.437434Z",
     "shell.execute_reply": "2025-08-05T16:17:33.436258Z"
    },
    "papermill": {
     "duration": 2.296653,
     "end_time": "2025-08-05T16:17:33.439640",
     "exception": false,
     "start_time": "2025-08-05T16:17:31.142987",
     "status": "completed"
    },
    "tags": []
   },
   "outputs": [],
   "source": [
    "from fairness_multiverse.universe import UniverseAnalysis\n",
    "\n",
    "universe_analysis = UniverseAnalysis(\n",
    "    run_no = run_no,\n",
    "    universe_id = universe_id,\n",
    "    universe = universe,\n",
    "    output_dir=output_dir,\n",
    ")"
   ]
  },
  {
   "cell_type": "code",
   "execution_count": 8,
   "id": "106241f5",
   "metadata": {
    "execution": {
     "iopub.execute_input": "2025-08-05T16:17:33.484260Z",
     "iopub.status.busy": "2025-08-05T16:17:33.483499Z",
     "iopub.status.idle": "2025-08-05T16:17:33.493573Z",
     "shell.execute_reply": "2025-08-05T16:17:33.492516Z"
    },
    "papermill": {
     "duration": 0.033755,
     "end_time": "2025-08-05T16:17:33.495268",
     "exception": false,
     "start_time": "2025-08-05T16:17:33.461513",
     "status": "completed"
    },
    "tags": []
   },
   "outputs": [
    {
     "name": "stdout",
     "output_type": "stream",
     "text": [
      "Using Seed: 2023\n"
     ]
    }
   ],
   "source": [
    "import numpy as np\n",
    "parsed_seed = int(seed)\n",
    "np.random.seed(parsed_seed)\n",
    "print(f\"Using Seed: {parsed_seed}\")"
   ]
  },
  {
   "cell_type": "markdown",
   "id": "e0ebdc57",
   "metadata": {
    "papermill": {
     "duration": 0.020946,
     "end_time": "2025-08-05T16:17:33.537092",
     "exception": false,
     "start_time": "2025-08-05T16:17:33.516146",
     "status": "completed"
    },
    "tags": []
   },
   "source": [
    "# Loading Data"
   ]
  },
  {
   "cell_type": "code",
   "execution_count": 9,
   "id": "f0496b8a",
   "metadata": {
    "execution": {
     "iopub.execute_input": "2025-08-05T16:17:33.582218Z",
     "iopub.status.busy": "2025-08-05T16:17:33.581503Z",
     "iopub.status.idle": "2025-08-05T16:17:47.636192Z",
     "shell.execute_reply": "2025-08-05T16:17:47.634702Z"
    },
    "papermill": {
     "duration": 14.07943,
     "end_time": "2025-08-05T16:17:47.638248",
     "exception": false,
     "start_time": "2025-08-05T16:17:33.558818",
     "status": "completed"
    },
    "tags": []
   },
   "outputs": [
    {
     "name": "stdout",
     "output_type": "stream",
     "text": [
      "Loading SIAB data from cache: data/siab_cached.csv.gz\n"
     ]
    },
    {
     "name": "stdout",
     "output_type": "stream",
     "text": [
      "(643690, 164)\n"
     ]
    }
   ],
   "source": [
    "from pathlib import Path\n",
    "import pandas as pd\n",
    "\n",
    "# File paths\n",
    "raw_file = Path(\"data/raw/siab.csv\")\n",
    "cache_file = Path(\"data/siab_cached.csv.gz\")\n",
    "\n",
    "# Ensure cache directory exists\n",
    "cache_file.parent.mkdir(parents=True, exist_ok=True)\n",
    "\n",
    "# Load with simple caching\n",
    "if cache_file.exists():\n",
    "    print(f\"Loading SIAB data from cache: {cache_file}\")\n",
    "    siab = pd.read_csv(cache_file, compression='gzip')\n",
    "else:\n",
    "    print(f\"Cache not found. Reading raw SIAB data: {raw_file}\")\n",
    "    siab = pd.read_csv(raw_file)\n",
    "    siab.to_csv(cache_file, index=False, compression='gzip')\n",
    "    print(f\"Cached SIAB data to: {cache_file}\")\n",
    "\n",
    "print(siab.shape)"
   ]
  },
  {
   "cell_type": "code",
   "execution_count": 10,
   "id": "db0ca512-5f53-4dba-abdb-a2888bca41ba",
   "metadata": {
    "execution": {
     "iopub.execute_input": "2025-08-05T16:17:47.685951Z",
     "iopub.status.busy": "2025-08-05T16:17:47.685269Z",
     "iopub.status.idle": "2025-08-05T16:17:47.692306Z",
     "shell.execute_reply": "2025-08-05T16:17:47.691124Z"
    },
    "papermill": {
     "duration": 0.03301,
     "end_time": "2025-08-05T16:17:47.694327",
     "exception": false,
     "start_time": "2025-08-05T16:17:47.661317",
     "status": "completed"
    },
    "tags": []
   },
   "outputs": [],
   "source": [
    "#siab"
   ]
  },
  {
   "cell_type": "markdown",
   "id": "997051c5-15bd-4b69-9786-c3001a3ce484",
   "metadata": {
    "papermill": {
     "duration": 0.022492,
     "end_time": "2025-08-05T16:17:47.739621",
     "exception": false,
     "start_time": "2025-08-05T16:17:47.717129",
     "status": "completed"
    },
    "tags": []
   },
   "source": [
    "# Splitting Data and Setting Training Data Size"
   ]
  },
  {
   "cell_type": "code",
   "execution_count": 11,
   "id": "aea9c6ef-6f46-42c8-85eb-5a62025c1508",
   "metadata": {
    "execution": {
     "iopub.execute_input": "2025-08-05T16:17:47.785823Z",
     "iopub.status.busy": "2025-08-05T16:17:47.785170Z",
     "iopub.status.idle": "2025-08-05T16:17:48.447868Z",
     "shell.execute_reply": "2025-08-05T16:17:48.446655Z"
    },
    "papermill": {
     "duration": 0.685968,
     "end_time": "2025-08-05T16:17:48.449823",
     "exception": false,
     "start_time": "2025-08-05T16:17:47.763855",
     "status": "completed"
    },
    "tags": []
   },
   "outputs": [],
   "source": [
    "from fairness_multiverse.universe import sample_by_year_size\n",
    "\n",
    "siab_train = sample_by_year_size(siab,\n",
    "                               training_year=universe[\"training_year\"],\n",
    "                               training_size=universe[\"training_size\"])"
   ]
  },
  {
   "cell_type": "code",
   "execution_count": 12,
   "id": "8d3afb32-789d-442c-8d5d-9f5aa8dd2eed",
   "metadata": {
    "execution": {
     "iopub.execute_input": "2025-08-05T16:17:48.495828Z",
     "iopub.status.busy": "2025-08-05T16:17:48.494888Z",
     "iopub.status.idle": "2025-08-05T16:17:48.500917Z",
     "shell.execute_reply": "2025-08-05T16:17:48.499791Z"
    },
    "papermill": {
     "duration": 0.031077,
     "end_time": "2025-08-05T16:17:48.502994",
     "exception": false,
     "start_time": "2025-08-05T16:17:48.471917",
     "status": "completed"
    },
    "tags": []
   },
   "outputs": [],
   "source": [
    "#siab_train.shape"
   ]
  },
  {
   "cell_type": "code",
   "execution_count": 13,
   "id": "d582db68-1a4c-47fb-84fc-08518dc1975a",
   "metadata": {
    "execution": {
     "iopub.execute_input": "2025-08-05T16:17:48.548911Z",
     "iopub.status.busy": "2025-08-05T16:17:48.548159Z",
     "iopub.status.idle": "2025-08-05T16:17:48.553787Z",
     "shell.execute_reply": "2025-08-05T16:17:48.552697Z"
    },
    "papermill": {
     "duration": 0.030535,
     "end_time": "2025-08-05T16:17:48.555715",
     "exception": false,
     "start_time": "2025-08-05T16:17:48.525180",
     "status": "completed"
    },
    "tags": []
   },
   "outputs": [],
   "source": [
    "#display(siab_train.groupby(\"year\").size())"
   ]
  },
  {
   "cell_type": "code",
   "execution_count": 14,
   "id": "a561edb4-d032-42cb-8256-22eac1111c64",
   "metadata": {
    "execution": {
     "iopub.execute_input": "2025-08-05T16:17:48.603361Z",
     "iopub.status.busy": "2025-08-05T16:17:48.602545Z",
     "iopub.status.idle": "2025-08-05T16:17:48.859323Z",
     "shell.execute_reply": "2025-08-05T16:17:48.858289Z"
    },
    "papermill": {
     "duration": 0.283789,
     "end_time": "2025-08-05T16:17:48.861607",
     "exception": false,
     "start_time": "2025-08-05T16:17:48.577818",
     "status": "completed"
    },
    "tags": []
   },
   "outputs": [],
   "source": [
    "#siab_train = siab_s[siab_s.year < 2015]\n",
    "siab_calib = siab[siab.year == 2015]\n",
    "siab_test = siab[siab.year == 2016]"
   ]
  },
  {
   "cell_type": "code",
   "execution_count": 15,
   "id": "472de16f-c3db-4916-846b-1f0de9cf1746",
   "metadata": {
    "execution": {
     "iopub.execute_input": "2025-08-05T16:17:48.908977Z",
     "iopub.status.busy": "2025-08-05T16:17:48.908498Z",
     "iopub.status.idle": "2025-08-05T16:17:48.914304Z",
     "shell.execute_reply": "2025-08-05T16:17:48.913455Z"
    },
    "papermill": {
     "duration": 0.030848,
     "end_time": "2025-08-05T16:17:48.915827",
     "exception": false,
     "start_time": "2025-08-05T16:17:48.884979",
     "status": "completed"
    },
    "tags": []
   },
   "outputs": [],
   "source": [
    "X_train = siab_train.iloc[:,4:164]\n",
    "y_train = siab_train.iloc[:, [3]]"
   ]
  },
  {
   "cell_type": "code",
   "execution_count": 16,
   "id": "828c96af-f43a-4ed6-ba47-8ac73a47d56c",
   "metadata": {
    "execution": {
     "iopub.execute_input": "2025-08-05T16:17:48.939405Z",
     "iopub.status.busy": "2025-08-05T16:17:48.938974Z",
     "iopub.status.idle": "2025-08-05T16:17:48.998042Z",
     "shell.execute_reply": "2025-08-05T16:17:48.996992Z"
    },
    "papermill": {
     "duration": 0.073398,
     "end_time": "2025-08-05T16:17:49.000534",
     "exception": false,
     "start_time": "2025-08-05T16:17:48.927136",
     "status": "completed"
    },
    "tags": []
   },
   "outputs": [],
   "source": [
    "X_calib = siab_calib.iloc[:,4:164]\n",
    "y_calib = siab_calib.iloc[:, [3]]"
   ]
  },
  {
   "cell_type": "code",
   "execution_count": 17,
   "id": "c34be9c3-6bd6-476e-acd3-845840e303be",
   "metadata": {
    "execution": {
     "iopub.execute_input": "2025-08-05T16:17:49.058963Z",
     "iopub.status.busy": "2025-08-05T16:17:49.058491Z",
     "iopub.status.idle": "2025-08-05T16:17:49.127945Z",
     "shell.execute_reply": "2025-08-05T16:17:49.126765Z"
    },
    "papermill": {
     "duration": 0.097388,
     "end_time": "2025-08-05T16:17:49.130177",
     "exception": false,
     "start_time": "2025-08-05T16:17:49.032789",
     "status": "completed"
    },
    "tags": []
   },
   "outputs": [],
   "source": [
    "X_test = siab_test.iloc[:,4:164]\n",
    "y_true = siab_test.iloc[:, [3]]"
   ]
  },
  {
   "cell_type": "code",
   "execution_count": 18,
   "id": "e6c733c5",
   "metadata": {
    "execution": {
     "iopub.execute_input": "2025-08-05T16:17:49.174264Z",
     "iopub.status.busy": "2025-08-05T16:17:49.173750Z",
     "iopub.status.idle": "2025-08-05T16:17:49.272416Z",
     "shell.execute_reply": "2025-08-05T16:17:49.271076Z"
    },
    "papermill": {
     "duration": 0.121348,
     "end_time": "2025-08-05T16:17:49.274771",
     "exception": false,
     "start_time": "2025-08-05T16:17:49.153423",
     "status": "completed"
    },
    "tags": []
   },
   "outputs": [],
   "source": [
    "# Auxiliary data needed downstream in the pipeline\n",
    "\n",
    "org_train = X_train.copy()\n",
    "org_test = X_test.copy()\n",
    "org_calib = X_calib.copy()"
   ]
  },
  {
   "cell_type": "markdown",
   "id": "0a4a1b33",
   "metadata": {
    "papermill": {
     "duration": 0.022618,
     "end_time": "2025-08-05T16:17:49.322382",
     "exception": false,
     "start_time": "2025-08-05T16:17:49.299764",
     "status": "completed"
    },
    "tags": []
   },
   "source": [
    "# Preprocessing Data"
   ]
  },
  {
   "cell_type": "code",
   "execution_count": 19,
   "id": "ca879031",
   "metadata": {
    "execution": {
     "iopub.execute_input": "2025-08-05T16:17:49.372971Z",
     "iopub.status.busy": "2025-08-05T16:17:49.372221Z",
     "iopub.status.idle": "2025-08-05T16:17:49.383520Z",
     "shell.execute_reply": "2025-08-05T16:17:49.382406Z"
    },
    "papermill": {
     "duration": 0.038996,
     "end_time": "2025-08-05T16:17:49.385583",
     "exception": false,
     "start_time": "2025-08-05T16:17:49.346587",
     "status": "completed"
    },
    "tags": []
   },
   "outputs": [],
   "source": [
    "# EXCLUDE PROTECTED FEATURES\n",
    "# ----------------------\n",
    "# \"exclude_features\": \"none\", # \"nationality\", \"sex\", \"nationality-sex\"\n",
    "\n",
    "excluded_features = universe[\"exclude_features\"].split(\"-\") # split, e.g.: \"nationality-sex\" -> [\"nationality\", \"sex\"]\n",
    "excluded_features_dictionary = {\n",
    "    \"nationality\": [\"maxdeutsch1\", \"maxdeutsch.Missing.\"],\n",
    "    \"sex\": [\"frau1\"],\n",
    "    \"age\": [\"age\"],\n",
    "}"
   ]
  },
  {
   "cell_type": "code",
   "execution_count": 20,
   "id": "b745ac60",
   "metadata": {
    "execution": {
     "iopub.execute_input": "2025-08-05T16:17:49.434586Z",
     "iopub.status.busy": "2025-08-05T16:17:49.434095Z",
     "iopub.status.idle": "2025-08-05T16:17:49.444060Z",
     "shell.execute_reply": "2025-08-05T16:17:49.443197Z"
    },
    "papermill": {
     "duration": 0.035529,
     "end_time": "2025-08-05T16:17:49.445640",
     "exception": false,
     "start_time": "2025-08-05T16:17:49.410111",
     "status": "completed"
    },
    "tags": []
   },
   "outputs": [],
   "source": [
    "# Code nice names to column names\n",
    "\n",
    "excluded_features_columns = [\n",
    "    excluded_features_dictionary[f] for f in excluded_features if len(f) > 0 and f != \"none\"\n",
    "]"
   ]
  },
  {
   "cell_type": "code",
   "execution_count": 21,
   "id": "f84f73a2",
   "metadata": {
    "execution": {
     "iopub.execute_input": "2025-08-05T16:17:49.477261Z",
     "iopub.status.busy": "2025-08-05T16:17:49.476626Z",
     "iopub.status.idle": "2025-08-05T16:17:49.483975Z",
     "shell.execute_reply": "2025-08-05T16:17:49.482850Z"
    },
    "papermill": {
     "duration": 0.028901,
     "end_time": "2025-08-05T16:17:49.486174",
     "exception": false,
     "start_time": "2025-08-05T16:17:49.457273",
     "status": "completed"
    },
    "tags": []
   },
   "outputs": [],
   "source": [
    "from utils import flatten_once\n",
    "\n",
    "excluded_features_columns = flatten_once(excluded_features_columns)"
   ]
  },
  {
   "cell_type": "code",
   "execution_count": 22,
   "id": "884dea22",
   "metadata": {
    "execution": {
     "iopub.execute_input": "2025-08-05T16:17:49.533611Z",
     "iopub.status.busy": "2025-08-05T16:17:49.532918Z",
     "iopub.status.idle": "2025-08-05T16:17:49.541153Z",
     "shell.execute_reply": "2025-08-05T16:17:49.539808Z"
    },
    "papermill": {
     "duration": 0.032677,
     "end_time": "2025-08-05T16:17:49.543027",
     "exception": false,
     "start_time": "2025-08-05T16:17:49.510350",
     "status": "completed"
    },
    "tags": []
   },
   "outputs": [
    {
     "name": "stdout",
     "output_type": "stream",
     "text": [
      "Dropping features: ['frau1']\n"
     ]
    }
   ],
   "source": [
    "if len(excluded_features_columns) > 0:\n",
    "    print(f\"Dropping features: {excluded_features_columns}\")\n",
    "    X_train.drop(excluded_features_columns, axis=1, inplace=True)"
   ]
  },
  {
   "cell_type": "code",
   "execution_count": 23,
   "id": "95ab8b16",
   "metadata": {
    "execution": {
     "iopub.execute_input": "2025-08-05T16:17:49.568289Z",
     "iopub.status.busy": "2025-08-05T16:17:49.567681Z",
     "iopub.status.idle": "2025-08-05T16:17:49.626673Z",
     "shell.execute_reply": "2025-08-05T16:17:49.625748Z"
    },
    "papermill": {
     "duration": 0.073096,
     "end_time": "2025-08-05T16:17:49.628361",
     "exception": false,
     "start_time": "2025-08-05T16:17:49.555265",
     "status": "completed"
    },
    "tags": []
   },
   "outputs": [
    {
     "name": "stdout",
     "output_type": "stream",
     "text": [
      "Dropping features: ['frau1']\n"
     ]
    }
   ],
   "source": [
    "if len(excluded_features_columns) > 0:\n",
    "    print(f\"Dropping features: {excluded_features_columns}\")\n",
    "    X_test.drop(excluded_features_columns, axis=1, inplace=True)"
   ]
  },
  {
   "cell_type": "code",
   "execution_count": 24,
   "id": "1853aaf5-fb9f-46cb-a2b5-8ea4ae2237e4",
   "metadata": {
    "execution": {
     "iopub.execute_input": "2025-08-05T16:17:49.654941Z",
     "iopub.status.busy": "2025-08-05T16:17:49.654127Z",
     "iopub.status.idle": "2025-08-05T16:17:49.707680Z",
     "shell.execute_reply": "2025-08-05T16:17:49.706562Z"
    },
    "papermill": {
     "duration": 0.068769,
     "end_time": "2025-08-05T16:17:49.709626",
     "exception": false,
     "start_time": "2025-08-05T16:17:49.640857",
     "status": "completed"
    },
    "tags": []
   },
   "outputs": [
    {
     "name": "stdout",
     "output_type": "stream",
     "text": [
      "Dropping features: ['frau1']\n"
     ]
    }
   ],
   "source": [
    "if len(excluded_features_columns) > 0:\n",
    "    print(f\"Dropping features: {excluded_features_columns}\")\n",
    "    X_calib.drop(excluded_features_columns, axis=1, inplace=True)"
   ]
  },
  {
   "cell_type": "code",
   "execution_count": 25,
   "id": "76c4dc6d",
   "metadata": {
    "execution": {
     "iopub.execute_input": "2025-08-05T16:17:49.747930Z",
     "iopub.status.busy": "2025-08-05T16:17:49.747365Z",
     "iopub.status.idle": "2025-08-05T16:17:49.753664Z",
     "shell.execute_reply": "2025-08-05T16:17:49.752534Z"
    },
    "papermill": {
     "duration": 0.033987,
     "end_time": "2025-08-05T16:17:49.756175",
     "exception": false,
     "start_time": "2025-08-05T16:17:49.722188",
     "status": "completed"
    },
    "tags": []
   },
   "outputs": [],
   "source": [
    "# EXCLUDE CERTAIN SUBGROUPS\n",
    "# ----------------------\n",
    "\n",
    "mode = universe.get(\"exclude_subgroups\", \"keep-all\") \n",
    "# Fetches the exclude_subgroups setting from the universe dict.\n",
    "# Defaults to \"keep-all\" if the key is missing."
   ]
  },
  {
   "cell_type": "code",
   "execution_count": 26,
   "id": "21994072",
   "metadata": {
    "execution": {
     "iopub.execute_input": "2025-08-05T16:17:49.811691Z",
     "iopub.status.busy": "2025-08-05T16:17:49.810867Z",
     "iopub.status.idle": "2025-08-05T16:17:49.819104Z",
     "shell.execute_reply": "2025-08-05T16:17:49.817924Z"
    },
    "papermill": {
     "duration": 0.037832,
     "end_time": "2025-08-05T16:17:49.821092",
     "exception": false,
     "start_time": "2025-08-05T16:17:49.783260",
     "status": "completed"
    },
    "tags": []
   },
   "outputs": [],
   "source": [
    "if mode == \"keep-all\":\n",
    "    keep_mask = pd.Series(True, index=org_train.index)\n",
    "\n",
    "# org_train contains the original feature columns from features_org (in Simson)\n",
    "# features_org contains unprocessed features, for me X_train at beginning ???\n",
    "# For keep-all, creates a boolean Series (keep_mask) of all True, so no rows are removed.\n",
    "\n",
    "elif mode == \"drop-non-german\":\n",
    "    keep_mask = org_train[\"maxdeutsch1\"] == 1 # ??? what about missing values?\n",
    "\n",
    "else:\n",
    "    raise ValueError(f\"Unsupported mode for exclude_subgroups: {mode}\")"
   ]
  },
  {
   "cell_type": "code",
   "execution_count": 27,
   "id": "71651440",
   "metadata": {
    "execution": {
     "iopub.execute_input": "2025-08-05T16:17:49.874268Z",
     "iopub.status.busy": "2025-08-05T16:17:49.873401Z",
     "iopub.status.idle": "2025-08-05T16:17:49.882630Z",
     "shell.execute_reply": "2025-08-05T16:17:49.881441Z"
    },
    "papermill": {
     "duration": 0.037004,
     "end_time": "2025-08-05T16:17:49.884902",
     "exception": false,
     "start_time": "2025-08-05T16:17:49.847898",
     "status": "completed"
    },
    "tags": []
   },
   "outputs": [
    {
     "name": "stdout",
     "output_type": "stream",
     "text": [
      "Dropping 147 rows (14.70%) where mode='drop-non-german'\n"
     ]
    }
   ],
   "source": [
    "n_drop = (~keep_mask).sum() # Calculates how many rows are set to be dropped\n",
    "if n_drop > 0:\n",
    "    pct = n_drop / len(keep_mask) * 100\n",
    "    print(f\"Dropping {n_drop} rows ({pct:.2f}%) where mode='{mode}'\")"
   ]
  },
  {
   "cell_type": "code",
   "execution_count": 28,
   "id": "5fb8eee5",
   "metadata": {
    "execution": {
     "iopub.execute_input": "2025-08-05T16:17:49.933248Z",
     "iopub.status.busy": "2025-08-05T16:17:49.932553Z",
     "iopub.status.idle": "2025-08-05T16:17:49.940160Z",
     "shell.execute_reply": "2025-08-05T16:17:49.938920Z"
    },
    "papermill": {
     "duration": 0.033651,
     "end_time": "2025-08-05T16:17:49.942199",
     "exception": false,
     "start_time": "2025-08-05T16:17:49.908548",
     "status": "completed"
    },
    "tags": []
   },
   "outputs": [],
   "source": [
    "X_train = X_train[keep_mask]"
   ]
  },
  {
   "cell_type": "code",
   "execution_count": 29,
   "id": "b202bb3a",
   "metadata": {
    "execution": {
     "iopub.execute_input": "2025-08-05T16:17:49.991730Z",
     "iopub.status.busy": "2025-08-05T16:17:49.990335Z",
     "iopub.status.idle": "2025-08-05T16:17:49.997883Z",
     "shell.execute_reply": "2025-08-05T16:17:49.996648Z"
    },
    "papermill": {
     "duration": 0.03925,
     "end_time": "2025-08-05T16:17:50.004478",
     "exception": false,
     "start_time": "2025-08-05T16:17:49.965228",
     "status": "completed"
    },
    "tags": []
   },
   "outputs": [],
   "source": [
    "y_train = y_train[keep_mask]"
   ]
  },
  {
   "cell_type": "markdown",
   "id": "493e2ac3",
   "metadata": {
    "papermill": {
     "duration": 0.022529,
     "end_time": "2025-08-05T16:17:50.053438",
     "exception": false,
     "start_time": "2025-08-05T16:17:50.030909",
     "status": "completed"
    },
    "tags": []
   },
   "source": [
    "# Model Training"
   ]
  },
  {
   "cell_type": "code",
   "execution_count": 30,
   "id": "679e1268",
   "metadata": {
    "execution": {
     "iopub.execute_input": "2025-08-05T16:17:50.080709Z",
     "iopub.status.busy": "2025-08-05T16:17:50.080298Z",
     "iopub.status.idle": "2025-08-05T16:17:50.167656Z",
     "shell.execute_reply": "2025-08-05T16:17:50.166707Z"
    },
    "papermill": {
     "duration": 0.102509,
     "end_time": "2025-08-05T16:17:50.169502",
     "exception": false,
     "start_time": "2025-08-05T16:17:50.066993",
     "status": "completed"
    },
    "tags": []
   },
   "outputs": [],
   "source": [
    "from sklearn.linear_model import LogisticRegression\n",
    "from sklearn.ensemble import GradientBoostingClassifier, RandomForestClassifier\n",
    "\n",
    "if (universe[\"model\"] == \"logreg\"):\n",
    "    model = LogisticRegression() #penalty=\"none\", solver=\"newton-cg\", max_iter=1) # include random_state=19 ?\n",
    "elif (universe[\"model\"] == \"penalized_logreg\"):\n",
    "    model = LogisticRegression(penalty=\"l2\", C=0.1) #, solver=\"newton-cg\", max_iter=1)\n",
    "elif (universe[\"model\"] == \"rf\"):\n",
    "    model = RandomForestClassifier() # n_estimators=100, n_jobs=-1\n",
    "elif (universe[\"model\"] == \"gbm\"):\n",
    "    model = GradientBoostingClassifier()\n",
    "elif (universe[\"model\"] == \"elasticnet\"):\n",
    "    model = LogisticRegression(penalty = 'elasticnet', solver = 'saga', l1_ratio = 0.5) # max_iter=5000\n",
    "else:\n",
    "    raise \"Unsupported universe.model\""
   ]
  },
  {
   "cell_type": "code",
   "execution_count": 31,
   "id": "0cc8f744",
   "metadata": {
    "execution": {
     "iopub.execute_input": "2025-08-05T16:17:50.196177Z",
     "iopub.status.busy": "2025-08-05T16:17:50.195547Z",
     "iopub.status.idle": "2025-08-05T16:17:50.202199Z",
     "shell.execute_reply": "2025-08-05T16:17:50.200781Z"
    },
    "papermill": {
     "duration": 0.021967,
     "end_time": "2025-08-05T16:17:50.204328",
     "exception": false,
     "start_time": "2025-08-05T16:17:50.182361",
     "status": "completed"
    },
    "tags": []
   },
   "outputs": [],
   "source": [
    "import numpy as np\n",
    "from sklearn.pipeline import Pipeline\n",
    "from sklearn.preprocessing import StandardScaler\n",
    "\n",
    "model = Pipeline([\n",
    "    #(\"continuous_processor\", continuous_processor),\n",
    "    #(\"categorical_preprocessor\", categorical_preprocessor),\n",
    "    (\"scale\", StandardScaler() if universe[\"scale\"] == \"scale\" else None), \n",
    "    (\"model\", model),\n",
    "])"
   ]
  },
  {
   "cell_type": "code",
   "execution_count": 32,
   "id": "9442c04d",
   "metadata": {
    "execution": {
     "iopub.execute_input": "2025-08-05T16:17:50.256695Z",
     "iopub.status.busy": "2025-08-05T16:17:50.256264Z",
     "iopub.status.idle": "2025-08-05T16:17:50.298492Z",
     "shell.execute_reply": "2025-08-05T16:17:50.297614Z"
    },
    "papermill": {
     "duration": 0.070412,
     "end_time": "2025-08-05T16:17:50.299962",
     "exception": false,
     "start_time": "2025-08-05T16:17:50.229550",
     "status": "completed"
    },
    "tags": []
   },
   "outputs": [
    {
     "data": {
      "text/html": [
       "<style>#sk-container-id-1 {color: black;background-color: white;}#sk-container-id-1 pre{padding: 0;}#sk-container-id-1 div.sk-toggleable {background-color: white;}#sk-container-id-1 label.sk-toggleable__label {cursor: pointer;display: block;width: 100%;margin-bottom: 0;padding: 0.3em;box-sizing: border-box;text-align: center;}#sk-container-id-1 label.sk-toggleable__label-arrow:before {content: \"▸\";float: left;margin-right: 0.25em;color: #696969;}#sk-container-id-1 label.sk-toggleable__label-arrow:hover:before {color: black;}#sk-container-id-1 div.sk-estimator:hover label.sk-toggleable__label-arrow:before {color: black;}#sk-container-id-1 div.sk-toggleable__content {max-height: 0;max-width: 0;overflow: hidden;text-align: left;background-color: #f0f8ff;}#sk-container-id-1 div.sk-toggleable__content pre {margin: 0.2em;color: black;border-radius: 0.25em;background-color: #f0f8ff;}#sk-container-id-1 input.sk-toggleable__control:checked~div.sk-toggleable__content {max-height: 200px;max-width: 100%;overflow: auto;}#sk-container-id-1 input.sk-toggleable__control:checked~label.sk-toggleable__label-arrow:before {content: \"▾\";}#sk-container-id-1 div.sk-estimator input.sk-toggleable__control:checked~label.sk-toggleable__label {background-color: #d4ebff;}#sk-container-id-1 div.sk-label input.sk-toggleable__control:checked~label.sk-toggleable__label {background-color: #d4ebff;}#sk-container-id-1 input.sk-hidden--visually {border: 0;clip: rect(1px 1px 1px 1px);clip: rect(1px, 1px, 1px, 1px);height: 1px;margin: -1px;overflow: hidden;padding: 0;position: absolute;width: 1px;}#sk-container-id-1 div.sk-estimator {font-family: monospace;background-color: #f0f8ff;border: 1px dotted black;border-radius: 0.25em;box-sizing: border-box;margin-bottom: 0.5em;}#sk-container-id-1 div.sk-estimator:hover {background-color: #d4ebff;}#sk-container-id-1 div.sk-parallel-item::after {content: \"\";width: 100%;border-bottom: 1px solid gray;flex-grow: 1;}#sk-container-id-1 div.sk-label:hover label.sk-toggleable__label {background-color: #d4ebff;}#sk-container-id-1 div.sk-serial::before {content: \"\";position: absolute;border-left: 1px solid gray;box-sizing: border-box;top: 0;bottom: 0;left: 50%;z-index: 0;}#sk-container-id-1 div.sk-serial {display: flex;flex-direction: column;align-items: center;background-color: white;padding-right: 0.2em;padding-left: 0.2em;position: relative;}#sk-container-id-1 div.sk-item {position: relative;z-index: 1;}#sk-container-id-1 div.sk-parallel {display: flex;align-items: stretch;justify-content: center;background-color: white;position: relative;}#sk-container-id-1 div.sk-item::before, #sk-container-id-1 div.sk-parallel-item::before {content: \"\";position: absolute;border-left: 1px solid gray;box-sizing: border-box;top: 0;bottom: 0;left: 50%;z-index: -1;}#sk-container-id-1 div.sk-parallel-item {display: flex;flex-direction: column;z-index: 1;position: relative;background-color: white;}#sk-container-id-1 div.sk-parallel-item:first-child::after {align-self: flex-end;width: 50%;}#sk-container-id-1 div.sk-parallel-item:last-child::after {align-self: flex-start;width: 50%;}#sk-container-id-1 div.sk-parallel-item:only-child::after {width: 0;}#sk-container-id-1 div.sk-dashed-wrapped {border: 1px dashed gray;margin: 0 0.4em 0.5em 0.4em;box-sizing: border-box;padding-bottom: 0.4em;background-color: white;}#sk-container-id-1 div.sk-label label {font-family: monospace;font-weight: bold;display: inline-block;line-height: 1.2em;}#sk-container-id-1 div.sk-label-container {text-align: center;}#sk-container-id-1 div.sk-container {/* jupyter's `normalize.less` sets `[hidden] { display: none; }` but bootstrap.min.css set `[hidden] { display: none !important; }` so we also need the `!important` here to be able to override the default hidden behavior on the sphinx rendered scikit-learn.org. See: https://github.com/scikit-learn/scikit-learn/issues/21755 */display: inline-block !important;position: relative;}#sk-container-id-1 div.sk-text-repr-fallback {display: none;}</style><div id=\"sk-container-id-1\" class=\"sk-top-container\"><div class=\"sk-text-repr-fallback\"><pre>Pipeline(steps=[(&#x27;scale&#x27;, StandardScaler()),\n",
       "                (&#x27;model&#x27;, LogisticRegression(C=0.1))])</pre><b>In a Jupyter environment, please rerun this cell to show the HTML representation or trust the notebook. <br />On GitHub, the HTML representation is unable to render, please try loading this page with nbviewer.org.</b></div><div class=\"sk-container\" hidden><div class=\"sk-item sk-dashed-wrapped\"><div class=\"sk-label-container\"><div class=\"sk-label sk-toggleable\"><input class=\"sk-toggleable__control sk-hidden--visually\" id=\"sk-estimator-id-1\" type=\"checkbox\" ><label for=\"sk-estimator-id-1\" class=\"sk-toggleable__label sk-toggleable__label-arrow\">Pipeline</label><div class=\"sk-toggleable__content\"><pre>Pipeline(steps=[(&#x27;scale&#x27;, StandardScaler()),\n",
       "                (&#x27;model&#x27;, LogisticRegression(C=0.1))])</pre></div></div></div><div class=\"sk-serial\"><div class=\"sk-item\"><div class=\"sk-estimator sk-toggleable\"><input class=\"sk-toggleable__control sk-hidden--visually\" id=\"sk-estimator-id-2\" type=\"checkbox\" ><label for=\"sk-estimator-id-2\" class=\"sk-toggleable__label sk-toggleable__label-arrow\">StandardScaler</label><div class=\"sk-toggleable__content\"><pre>StandardScaler()</pre></div></div></div><div class=\"sk-item\"><div class=\"sk-estimator sk-toggleable\"><input class=\"sk-toggleable__control sk-hidden--visually\" id=\"sk-estimator-id-3\" type=\"checkbox\" ><label for=\"sk-estimator-id-3\" class=\"sk-toggleable__label sk-toggleable__label-arrow\">LogisticRegression</label><div class=\"sk-toggleable__content\"><pre>LogisticRegression(C=0.1)</pre></div></div></div></div></div></div></div>"
      ],
      "text/plain": [
       "Pipeline(steps=[('scale', StandardScaler()),\n",
       "                ('model', LogisticRegression(C=0.1))])"
      ]
     },
     "execution_count": 32,
     "metadata": {},
     "output_type": "execute_result"
    }
   ],
   "source": [
    "model.fit(X_train, y_train.values.ravel())"
   ]
  },
  {
   "cell_type": "code",
   "execution_count": 33,
   "id": "af59f8c0",
   "metadata": {
    "execution": {
     "iopub.execute_input": "2025-08-05T16:17:50.326364Z",
     "iopub.status.busy": "2025-08-05T16:17:50.326082Z",
     "iopub.status.idle": "2025-08-05T16:17:50.330854Z",
     "shell.execute_reply": "2025-08-05T16:17:50.330016Z"
    },
    "papermill": {
     "duration": 0.019712,
     "end_time": "2025-08-05T16:17:50.332393",
     "exception": false,
     "start_time": "2025-08-05T16:17:50.312681",
     "status": "completed"
    },
    "tags": []
   },
   "outputs": [],
   "source": [
    "from fairness_multiverse.universe import predict_w_threshold"
   ]
  },
  {
   "cell_type": "code",
   "execution_count": 34,
   "id": "a7cf2e16",
   "metadata": {
    "execution": {
     "iopub.execute_input": "2025-08-05T16:17:50.358869Z",
     "iopub.status.busy": "2025-08-05T16:17:50.358594Z",
     "iopub.status.idle": "2025-08-05T16:17:50.552389Z",
     "shell.execute_reply": "2025-08-05T16:17:50.551512Z"
    },
    "papermill": {
     "duration": 0.209634,
     "end_time": "2025-08-05T16:17:50.554819",
     "exception": false,
     "start_time": "2025-08-05T16:17:50.345185",
     "status": "completed"
    },
    "tags": []
   },
   "outputs": [
    {
     "data": {
      "text/plain": [
       "0.8435960316575633"
      ]
     },
     "execution_count": 34,
     "metadata": {},
     "output_type": "execute_result"
    }
   ],
   "source": [
    "probs_test = model.predict_proba(X_test)\n",
    "\n",
    "'''\n",
    "Below code returns a boolean array (or binary 0/1 array depending on how it’s used) where each element \n",
    "is True if the probability of class 1 is greater than or equal to the threshold, and False otherwise.\n",
    "'''\n",
    "y_pred_default = predict_w_threshold(probs_test, 0.5)\n",
    "\n",
    "from sklearn.metrics import accuracy_score\n",
    "\n",
    "# Naive prediction\n",
    "accuracy_score(y_true = y_true, y_pred = y_pred_default)"
   ]
  },
  {
   "cell_type": "code",
   "execution_count": 35,
   "id": "081964c3",
   "metadata": {
    "execution": {
     "iopub.execute_input": "2025-08-05T16:17:50.610197Z",
     "iopub.status.busy": "2025-08-05T16:17:50.609670Z",
     "iopub.status.idle": "2025-08-05T16:17:50.809503Z",
     "shell.execute_reply": "2025-08-05T16:17:50.808235Z"
    },
    "papermill": {
     "duration": 0.229978,
     "end_time": "2025-08-05T16:17:50.812181",
     "exception": false,
     "start_time": "2025-08-05T16:17:50.582203",
     "status": "completed"
    },
    "tags": []
   },
   "outputs": [
    {
     "data": {
      "text/plain": [
       "array([0, 0, 0, ..., 0, 0, 0])"
      ]
     },
     "execution_count": 35,
     "metadata": {},
     "output_type": "execute_result"
    }
   ],
   "source": [
    "model.predict(X_test)"
   ]
  },
  {
   "cell_type": "markdown",
   "id": "56c9705b",
   "metadata": {
    "papermill": {
     "duration": 0.027493,
     "end_time": "2025-08-05T16:17:50.868616",
     "exception": false,
     "start_time": "2025-08-05T16:17:50.841123",
     "status": "completed"
    },
    "tags": []
   },
   "source": [
    "# Conformal Prediction"
   ]
  },
  {
   "cell_type": "code",
   "execution_count": 36,
   "id": "160ec6ff",
   "metadata": {
    "execution": {
     "iopub.execute_input": "2025-08-05T16:17:50.926857Z",
     "iopub.status.busy": "2025-08-05T16:17:50.926056Z",
     "iopub.status.idle": "2025-08-05T16:17:50.932443Z",
     "shell.execute_reply": "2025-08-05T16:17:50.931357Z"
    },
    "papermill": {
     "duration": 0.037364,
     "end_time": "2025-08-05T16:17:50.934395",
     "exception": false,
     "start_time": "2025-08-05T16:17:50.897031",
     "status": "completed"
    },
    "tags": []
   },
   "outputs": [],
   "source": [
    "# Miscoverage level for conformal prediction (10% allowed error rate => 90% target coverage)\n",
    "alpha = 0.1"
   ]
  },
  {
   "cell_type": "code",
   "execution_count": 37,
   "id": "eadf4555-3dd3-440e-8e35-f82a4ad9f855",
   "metadata": {
    "execution": {
     "iopub.execute_input": "2025-08-05T16:17:50.980551Z",
     "iopub.status.busy": "2025-08-05T16:17:50.980124Z",
     "iopub.status.idle": "2025-08-05T16:17:51.158095Z",
     "shell.execute_reply": "2025-08-05T16:17:51.157128Z"
    },
    "papermill": {
     "duration": 0.196551,
     "end_time": "2025-08-05T16:17:51.160043",
     "exception": false,
     "start_time": "2025-08-05T16:17:50.963492",
     "status": "completed"
    },
    "tags": []
   },
   "outputs": [],
   "source": [
    "probs_calib = model.predict_proba(X_calib)"
   ]
  },
  {
   "cell_type": "code",
   "execution_count": 38,
   "id": "2ed93547-6d5d-4983-9b36-1ecb300da49a",
   "metadata": {
    "execution": {
     "iopub.execute_input": "2025-08-05T16:17:51.187988Z",
     "iopub.status.busy": "2025-08-05T16:17:51.187200Z",
     "iopub.status.idle": "2025-08-05T16:17:51.193062Z",
     "shell.execute_reply": "2025-08-05T16:17:51.192206Z"
    },
    "papermill": {
     "duration": 0.021142,
     "end_time": "2025-08-05T16:17:51.194714",
     "exception": false,
     "start_time": "2025-08-05T16:17:51.173572",
     "status": "completed"
    },
    "tags": []
   },
   "outputs": [],
   "source": [
    "y_calib = y_calib.values.ravel().astype(int)"
   ]
  },
  {
   "cell_type": "code",
   "execution_count": 39,
   "id": "65d1320d-f588-4b38-9072-62af1ae97f7d",
   "metadata": {
    "execution": {
     "iopub.execute_input": "2025-08-05T16:17:51.221889Z",
     "iopub.status.busy": "2025-08-05T16:17:51.221393Z",
     "iopub.status.idle": "2025-08-05T16:17:51.228199Z",
     "shell.execute_reply": "2025-08-05T16:17:51.227306Z"
    },
    "papermill": {
     "duration": 0.022135,
     "end_time": "2025-08-05T16:17:51.229991",
     "exception": false,
     "start_time": "2025-08-05T16:17:51.207856",
     "status": "completed"
    },
    "tags": []
   },
   "outputs": [],
   "source": [
    "from fairness_multiverse.conformal import compute_nc_scores\n",
    "\n",
    "# Compute nonconformity scores on calibration set (1 - probability of true class)\n",
    "nc_scores = compute_nc_scores(probs_calib, y_calib)"
   ]
  },
  {
   "cell_type": "code",
   "execution_count": 40,
   "id": "df3b8ca3-53b7-43d5-9667-7c85da7aeda2",
   "metadata": {
    "execution": {
     "iopub.execute_input": "2025-08-05T16:17:51.277904Z",
     "iopub.status.busy": "2025-08-05T16:17:51.276923Z",
     "iopub.status.idle": "2025-08-05T16:17:51.284910Z",
     "shell.execute_reply": "2025-08-05T16:17:51.283678Z"
    },
    "papermill": {
     "duration": 0.034047,
     "end_time": "2025-08-05T16:17:51.287016",
     "exception": false,
     "start_time": "2025-08-05T16:17:51.252969",
     "status": "completed"
    },
    "tags": []
   },
   "outputs": [],
   "source": [
    "from fairness_multiverse.conformal import find_threshold\n",
    "\n",
    "# Find conformal threshold q_hat for the given alpha (split conformal method)\n",
    "q_hat = find_threshold(nc_scores, alpha)"
   ]
  },
  {
   "cell_type": "code",
   "execution_count": 41,
   "id": "4d29e6c1-0ef6-4aa4-b8fe-4fe79b0d033a",
   "metadata": {
    "execution": {
     "iopub.execute_input": "2025-08-05T16:17:51.344700Z",
     "iopub.status.busy": "2025-08-05T16:17:51.344350Z",
     "iopub.status.idle": "2025-08-05T16:17:51.351872Z",
     "shell.execute_reply": "2025-08-05T16:17:51.350698Z"
    },
    "papermill": {
     "duration": 0.03866,
     "end_time": "2025-08-05T16:17:51.353926",
     "exception": false,
     "start_time": "2025-08-05T16:17:51.315266",
     "status": "completed"
    },
    "tags": []
   },
   "outputs": [
    {
     "data": {
      "text/plain": [
       "0.7560153555264469"
      ]
     },
     "execution_count": 41,
     "metadata": {},
     "output_type": "execute_result"
    }
   ],
   "source": [
    "q_hat"
   ]
  },
  {
   "cell_type": "code",
   "execution_count": 42,
   "id": "92460794-cdac-4be2-ba28-f28c0515a6fb",
   "metadata": {
    "execution": {
     "iopub.execute_input": "2025-08-05T16:17:51.410808Z",
     "iopub.status.busy": "2025-08-05T16:17:51.409870Z",
     "iopub.status.idle": "2025-08-05T16:17:52.466636Z",
     "shell.execute_reply": "2025-08-05T16:17:52.465424Z"
    },
    "papermill": {
     "duration": 1.087028,
     "end_time": "2025-08-05T16:17:52.468956",
     "exception": false,
     "start_time": "2025-08-05T16:17:51.381928",
     "status": "completed"
    },
    "tags": []
   },
   "outputs": [],
   "source": [
    "from fairness_multiverse.conformal import predict_conformal_sets\n",
    "\n",
    "# Generate prediction sets for each test example\n",
    "pred_sets = predict_conformal_sets(model, X_test, q_hat)"
   ]
  },
  {
   "cell_type": "code",
   "execution_count": 43,
   "id": "d90c9a65-e6db-4f5d-80cd-e68fb7e46829",
   "metadata": {
    "execution": {
     "iopub.execute_input": "2025-08-05T16:17:52.527467Z",
     "iopub.status.busy": "2025-08-05T16:17:52.526927Z",
     "iopub.status.idle": "2025-08-05T16:17:52.532166Z",
     "shell.execute_reply": "2025-08-05T16:17:52.531183Z"
    },
    "papermill": {
     "duration": 0.034887,
     "end_time": "2025-08-05T16:17:52.533743",
     "exception": false,
     "start_time": "2025-08-05T16:17:52.498856",
     "status": "completed"
    },
    "tags": []
   },
   "outputs": [],
   "source": [
    "y_true = y_true.squeeze()"
   ]
  },
  {
   "cell_type": "code",
   "execution_count": 44,
   "id": "3a58a54a-1e68-46b9-927a-df01f18aebc8",
   "metadata": {
    "execution": {
     "iopub.execute_input": "2025-08-05T16:17:52.562071Z",
     "iopub.status.busy": "2025-08-05T16:17:52.561463Z",
     "iopub.status.idle": "2025-08-05T16:17:53.397732Z",
     "shell.execute_reply": "2025-08-05T16:17:53.396398Z"
    },
    "papermill": {
     "duration": 0.852625,
     "end_time": "2025-08-05T16:17:53.399711",
     "exception": false,
     "start_time": "2025-08-05T16:17:52.547086",
     "status": "completed"
    },
    "tags": []
   },
   "outputs": [],
   "source": [
    "from fairness_multiverse.conformal import evaluate_sets\n",
    "\n",
    "# Evaluate coverage and average set size on test data\n",
    "metrics = evaluate_sets(pred_sets, y_true)"
   ]
  },
  {
   "cell_type": "markdown",
   "id": "2b569c12-9aaa-4c88-98c9-bbcd0cf3ebb8",
   "metadata": {
    "papermill": {
     "duration": 0.025937,
     "end_time": "2025-08-05T16:17:53.451067",
     "exception": false,
     "start_time": "2025-08-05T16:17:53.425130",
     "status": "completed"
    },
    "tags": []
   },
   "source": [
    "# CP Metrics"
   ]
  },
  {
   "cell_type": "code",
   "execution_count": 45,
   "id": "5ce0a5cb-201f-45a0-ade5-94c7f0bd6095",
   "metadata": {
    "execution": {
     "iopub.execute_input": "2025-08-05T16:17:53.504805Z",
     "iopub.status.busy": "2025-08-05T16:17:53.504240Z",
     "iopub.status.idle": "2025-08-05T16:17:53.513871Z",
     "shell.execute_reply": "2025-08-05T16:17:53.512640Z"
    },
    "papermill": {
     "duration": 0.038624,
     "end_time": "2025-08-05T16:17:53.515940",
     "exception": false,
     "start_time": "2025-08-05T16:17:53.477316",
     "status": "completed"
    },
    "tags": []
   },
   "outputs": [
    {
     "data": {
      "text/plain": [
       "{'coverage': 0.9120164976033887, 'avg_size': 1.2007691450228515}"
      ]
     },
     "execution_count": 45,
     "metadata": {},
     "output_type": "execute_result"
    }
   ],
   "source": [
    "metrics"
   ]
  },
  {
   "cell_type": "code",
   "execution_count": 46,
   "id": "9b9a838d-31c9-430b-ae14-12baee460d17",
   "metadata": {
    "execution": {
     "iopub.execute_input": "2025-08-05T16:17:53.571167Z",
     "iopub.status.busy": "2025-08-05T16:17:53.570255Z",
     "iopub.status.idle": "2025-08-05T16:17:53.578164Z",
     "shell.execute_reply": "2025-08-05T16:17:53.577031Z"
    },
    "papermill": {
     "duration": 0.037891,
     "end_time": "2025-08-05T16:17:53.580139",
     "exception": false,
     "start_time": "2025-08-05T16:17:53.542248",
     "status": "completed"
    },
    "tags": []
   },
   "outputs": [],
   "source": [
    "example_universe = universe.copy()\n",
    "universe_training_year = example_universe.get(\"training_year\")\n",
    "universe_training_size = example_universe.get(\"training_size\")\n",
    "universe_scale = example_universe.get(\"scale\")\n",
    "universe_model = example_universe.get(\"model\")\n",
    "universe_exclude_features = example_universe.get(\"exclude_features\")\n",
    "universe_exclude_subgroups = example_universe.get(\"exclude_subgroups\")"
   ]
  },
  {
   "cell_type": "code",
   "execution_count": 47,
   "id": "f4b6a8ac-9dc0-4245-8a91-5b3b5999c4f9",
   "metadata": {
    "execution": {
     "iopub.execute_input": "2025-08-05T16:17:53.633120Z",
     "iopub.status.busy": "2025-08-05T16:17:53.632600Z",
     "iopub.status.idle": "2025-08-05T16:17:53.640577Z",
     "shell.execute_reply": "2025-08-05T16:17:53.639445Z"
    },
    "papermill": {
     "duration": 0.036464,
     "end_time": "2025-08-05T16:17:53.642556",
     "exception": false,
     "start_time": "2025-08-05T16:17:53.606092",
     "status": "completed"
    },
    "tags": []
   },
   "outputs": [],
   "source": [
    "cp_metrics_dict = {\n",
    "    \"universe_id\": [universe_id],\n",
    "    \"universe_training_year\": [universe_training_year],\n",
    "    \"universe_training_size\": [universe_training_size],\n",
    "    \"universe_scale\": [universe_scale],\n",
    "    \"universe_model\": [universe_model],\n",
    "    \"universe_exclude_features\": [universe_exclude_features],\n",
    "    \"universe_exclude_subgroups\": [universe_exclude_subgroups],\n",
    "    \"q_hat\": [q_hat],\n",
    "    \"coverage\": [metrics[\"coverage\"]],\n",
    "    \"avg_size\": [metrics[\"avg_size\"]],\n",
    "}"
   ]
  },
  {
   "cell_type": "code",
   "execution_count": 48,
   "id": "908acbb1-0371-4915-85ca-3fa520d2efe2",
   "metadata": {
    "execution": {
     "iopub.execute_input": "2025-08-05T16:17:53.697565Z",
     "iopub.status.busy": "2025-08-05T16:17:53.697058Z",
     "iopub.status.idle": "2025-08-05T16:17:53.706132Z",
     "shell.execute_reply": "2025-08-05T16:17:53.704939Z"
    },
    "papermill": {
     "duration": 0.039689,
     "end_time": "2025-08-05T16:17:53.708179",
     "exception": false,
     "start_time": "2025-08-05T16:17:53.668490",
     "status": "completed"
    },
    "tags": []
   },
   "outputs": [
    {
     "data": {
      "text/plain": [
       "{'universe_id': ['f7a963de121b4420f79d389821441c5a'],\n",
       " 'universe_training_year': ['2012_14'],\n",
       " 'universe_training_size': ['1k'],\n",
       " 'universe_scale': ['scale'],\n",
       " 'universe_model': ['penalized_logreg'],\n",
       " 'universe_exclude_features': ['sex'],\n",
       " 'universe_exclude_subgroups': ['drop-non-german'],\n",
       " 'q_hat': [0.7560153555264469],\n",
       " 'coverage': [0.9120164976033887],\n",
       " 'avg_size': [1.2007691450228515]}"
      ]
     },
     "execution_count": 48,
     "metadata": {},
     "output_type": "execute_result"
    }
   ],
   "source": [
    "cp_metrics_dict"
   ]
  },
  {
   "cell_type": "code",
   "execution_count": 49,
   "id": "33007efc-14e9-4ec6-97ac-56a455c82265",
   "metadata": {
    "execution": {
     "iopub.execute_input": "2025-08-05T16:17:53.769050Z",
     "iopub.status.busy": "2025-08-05T16:17:53.768666Z",
     "iopub.status.idle": "2025-08-05T16:17:53.774427Z",
     "shell.execute_reply": "2025-08-05T16:17:53.773423Z"
    },
    "papermill": {
     "duration": 0.038144,
     "end_time": "2025-08-05T16:17:53.776263",
     "exception": false,
     "start_time": "2025-08-05T16:17:53.738119",
     "status": "completed"
    },
    "tags": []
   },
   "outputs": [],
   "source": [
    "cp_metrics_df = pd.DataFrame(cp_metrics_dict)"
   ]
  },
  {
   "cell_type": "code",
   "execution_count": 50,
   "id": "db12611b-57b2-4910-b9d0-355adfd6e7bf",
   "metadata": {
    "execution": {
     "iopub.execute_input": "2025-08-05T16:17:53.835771Z",
     "iopub.status.busy": "2025-08-05T16:17:53.835113Z",
     "iopub.status.idle": "2025-08-05T16:17:53.850635Z",
     "shell.execute_reply": "2025-08-05T16:17:53.849714Z"
    },
    "papermill": {
     "duration": 0.047657,
     "end_time": "2025-08-05T16:17:53.852077",
     "exception": false,
     "start_time": "2025-08-05T16:17:53.804420",
     "status": "completed"
    },
    "tags": []
   },
   "outputs": [
    {
     "data": {
      "text/html": [
       "<div>\n",
       "<style scoped>\n",
       "    .dataframe tbody tr th:only-of-type {\n",
       "        vertical-align: middle;\n",
       "    }\n",
       "\n",
       "    .dataframe tbody tr th {\n",
       "        vertical-align: top;\n",
       "    }\n",
       "\n",
       "    .dataframe thead th {\n",
       "        text-align: right;\n",
       "    }\n",
       "</style>\n",
       "<table border=\"1\" class=\"dataframe\">\n",
       "  <thead>\n",
       "    <tr style=\"text-align: right;\">\n",
       "      <th></th>\n",
       "      <th>universe_id</th>\n",
       "      <th>universe_training_year</th>\n",
       "      <th>universe_training_size</th>\n",
       "      <th>universe_scale</th>\n",
       "      <th>universe_model</th>\n",
       "      <th>universe_exclude_features</th>\n",
       "      <th>universe_exclude_subgroups</th>\n",
       "      <th>q_hat</th>\n",
       "      <th>coverage</th>\n",
       "      <th>avg_size</th>\n",
       "    </tr>\n",
       "  </thead>\n",
       "  <tbody>\n",
       "    <tr>\n",
       "      <th>0</th>\n",
       "      <td>f7a963de121b4420f79d389821441c5a</td>\n",
       "      <td>2012_14</td>\n",
       "      <td>1k</td>\n",
       "      <td>scale</td>\n",
       "      <td>penalized_logreg</td>\n",
       "      <td>sex</td>\n",
       "      <td>drop-non-german</td>\n",
       "      <td>0.756015</td>\n",
       "      <td>0.912016</td>\n",
       "      <td>1.200769</td>\n",
       "    </tr>\n",
       "  </tbody>\n",
       "</table>\n",
       "</div>"
      ],
      "text/plain": [
       "                        universe_id universe_training_year  \\\n",
       "0  f7a963de121b4420f79d389821441c5a                2012_14   \n",
       "\n",
       "  universe_training_size universe_scale    universe_model  \\\n",
       "0                     1k          scale  penalized_logreg   \n",
       "\n",
       "  universe_exclude_features universe_exclude_subgroups     q_hat  coverage  \\\n",
       "0                       sex            drop-non-german  0.756015  0.912016   \n",
       "\n",
       "   avg_size  \n",
       "0  1.200769  "
      ]
     },
     "execution_count": 50,
     "metadata": {},
     "output_type": "execute_result"
    }
   ],
   "source": [
    "cp_metrics_df"
   ]
  },
  {
   "cell_type": "code",
   "execution_count": 51,
   "id": "b7fbde55-a0a1-47e4-9af6-fe4a17fa8c61",
   "metadata": {
    "execution": {
     "iopub.execute_input": "2025-08-05T16:17:53.881175Z",
     "iopub.status.busy": "2025-08-05T16:17:53.880712Z",
     "iopub.status.idle": "2025-08-05T16:17:53.886455Z",
     "shell.execute_reply": "2025-08-05T16:17:53.885498Z"
    },
    "papermill": {
     "duration": 0.021761,
     "end_time": "2025-08-05T16:17:53.887977",
     "exception": false,
     "start_time": "2025-08-05T16:17:53.866216",
     "status": "completed"
    },
    "tags": []
   },
   "outputs": [],
   "source": [
    "# Conditional Coverage & looking at subgroups"
   ]
  },
  {
   "cell_type": "code",
   "execution_count": 52,
   "id": "027ae886-68dd-4141-96c7-805a5450e1ef",
   "metadata": {
    "execution": {
     "iopub.execute_input": "2025-08-05T16:17:53.916007Z",
     "iopub.status.busy": "2025-08-05T16:17:53.915651Z",
     "iopub.status.idle": "2025-08-05T16:17:54.214669Z",
     "shell.execute_reply": "2025-08-05T16:17:54.213420Z"
    },
    "papermill": {
     "duration": 0.315342,
     "end_time": "2025-08-05T16:17:54.216836",
     "exception": false,
     "start_time": "2025-08-05T16:17:53.901494",
     "status": "completed"
    },
    "tags": []
   },
   "outputs": [],
   "source": [
    "from fairness_multiverse.conformal import build_cp_groups\n",
    "\n",
    "cp_groups_df = build_cp_groups(pred_sets, y_true, X_test.index, org_test)\n",
    "#needs universe_id and setting"
   ]
  },
  {
   "cell_type": "code",
   "execution_count": 53,
   "id": "6cbdab96-b2b2-45af-ad54-d0516db2e28d",
   "metadata": {
    "execution": {
     "iopub.execute_input": "2025-08-05T16:17:54.246430Z",
     "iopub.status.busy": "2025-08-05T16:17:54.245965Z",
     "iopub.status.idle": "2025-08-05T16:17:56.293481Z",
     "shell.execute_reply": "2025-08-05T16:17:56.292244Z"
    },
    "papermill": {
     "duration": 2.064288,
     "end_time": "2025-08-05T16:17:56.295637",
     "exception": false,
     "start_time": "2025-08-05T16:17:54.231349",
     "status": "completed"
    },
    "tags": []
   },
   "outputs": [],
   "source": [
    "# Define covered = 1 if true_label is in the predicted set\n",
    "cp_groups_df['covered'] = cp_groups_df.apply(\n",
    "    lambda r: int(r['true_label'] in r['pred_set']),\n",
    "    axis=1\n",
    ")"
   ]
  },
  {
   "cell_type": "code",
   "execution_count": 54,
   "id": "338ff529-1a6b-4b87-a931-8e4788d52aad",
   "metadata": {
    "execution": {
     "iopub.execute_input": "2025-08-05T16:17:56.351635Z",
     "iopub.status.busy": "2025-08-05T16:17:56.350609Z",
     "iopub.status.idle": "2025-08-05T16:17:56.356571Z",
     "shell.execute_reply": "2025-08-05T16:17:56.355567Z"
    },
    "papermill": {
     "duration": 0.035479,
     "end_time": "2025-08-05T16:17:56.358549",
     "exception": false,
     "start_time": "2025-08-05T16:17:56.323070",
     "status": "completed"
    },
    "tags": []
   },
   "outputs": [],
   "source": [
    "#cp_groups_df"
   ]
  },
  {
   "cell_type": "code",
   "execution_count": 55,
   "id": "90032e27-66df-4540-9169-4e89cfbaa758",
   "metadata": {
    "execution": {
     "iopub.execute_input": "2025-08-05T16:17:56.412479Z",
     "iopub.status.busy": "2025-08-05T16:17:56.411449Z",
     "iopub.status.idle": "2025-08-05T16:17:56.424518Z",
     "shell.execute_reply": "2025-08-05T16:17:56.423472Z"
    },
    "papermill": {
     "duration": 0.041969,
     "end_time": "2025-08-05T16:17:56.426484",
     "exception": false,
     "start_time": "2025-08-05T16:17:56.384515",
     "status": "completed"
    },
    "tags": []
   },
   "outputs": [],
   "source": [
    "subgroups = ['frau1','nongerman','nongerman_male','nongerman_female']\n",
    "\n",
    "# Conditional coverage for subgroup==1\n",
    "cond_coverage = {\n",
    "    g: cp_groups_df.loc[cp_groups_df[g]==1, 'covered'].mean()\n",
    "    for g in subgroups\n",
    "}"
   ]
  },
  {
   "cell_type": "code",
   "execution_count": 56,
   "id": "1e348fb1-b9c3-45bc-ba23-f016827a7e0d",
   "metadata": {
    "execution": {
     "iopub.execute_input": "2025-08-05T16:17:56.482760Z",
     "iopub.status.busy": "2025-08-05T16:17:56.481831Z",
     "iopub.status.idle": "2025-08-05T16:17:56.490886Z",
     "shell.execute_reply": "2025-08-05T16:17:56.489768Z"
    },
    "papermill": {
     "duration": 0.038854,
     "end_time": "2025-08-05T16:17:56.492801",
     "exception": false,
     "start_time": "2025-08-05T16:17:56.453947",
     "status": "completed"
    },
    "tags": []
   },
   "outputs": [
    {
     "data": {
      "text/plain": [
       "{'frau1': 0.9081008222132363,\n",
       " 'nongerman': 0.9170830292483018,\n",
       " 'nongerman_male': 0.9301089795550752,\n",
       " 'nongerman_female': 0.8955290611028316}"
      ]
     },
     "execution_count": 56,
     "metadata": {},
     "output_type": "execute_result"
    }
   ],
   "source": [
    "cond_coverage"
   ]
  },
  {
   "cell_type": "code",
   "execution_count": 57,
   "id": "f5093324-c3dd-4d63-bc4c-8d945e5c8bbb",
   "metadata": {
    "execution": {
     "iopub.execute_input": "2025-08-05T16:17:56.549305Z",
     "iopub.status.busy": "2025-08-05T16:17:56.548740Z",
     "iopub.status.idle": "2025-08-05T16:17:56.558528Z",
     "shell.execute_reply": "2025-08-05T16:17:56.557279Z"
    },
    "papermill": {
     "duration": 0.039854,
     "end_time": "2025-08-05T16:17:56.560367",
     "exception": false,
     "start_time": "2025-08-05T16:17:56.520513",
     "status": "completed"
    },
    "tags": []
   },
   "outputs": [],
   "source": [
    "for subgroup, cov in cond_coverage.items():\n",
    "    cp_metrics_df[f\"cov_{subgroup}\"] = cov"
   ]
  },
  {
   "cell_type": "code",
   "execution_count": 58,
   "id": "6e872e10-dbe5-49e8-b554-5030c98ff75d",
   "metadata": {
    "execution": {
     "iopub.execute_input": "2025-08-05T16:17:56.616689Z",
     "iopub.status.busy": "2025-08-05T16:17:56.615919Z",
     "iopub.status.idle": "2025-08-05T16:17:56.640006Z",
     "shell.execute_reply": "2025-08-05T16:17:56.638886Z"
    },
    "papermill": {
     "duration": 0.054392,
     "end_time": "2025-08-05T16:17:56.641724",
     "exception": false,
     "start_time": "2025-08-05T16:17:56.587332",
     "status": "completed"
    },
    "tags": []
   },
   "outputs": [
    {
     "data": {
      "text/html": [
       "<div>\n",
       "<style scoped>\n",
       "    .dataframe tbody tr th:only-of-type {\n",
       "        vertical-align: middle;\n",
       "    }\n",
       "\n",
       "    .dataframe tbody tr th {\n",
       "        vertical-align: top;\n",
       "    }\n",
       "\n",
       "    .dataframe thead th {\n",
       "        text-align: right;\n",
       "    }\n",
       "</style>\n",
       "<table border=\"1\" class=\"dataframe\">\n",
       "  <thead>\n",
       "    <tr style=\"text-align: right;\">\n",
       "      <th></th>\n",
       "      <th>universe_id</th>\n",
       "      <th>universe_training_year</th>\n",
       "      <th>universe_training_size</th>\n",
       "      <th>universe_scale</th>\n",
       "      <th>universe_model</th>\n",
       "      <th>universe_exclude_features</th>\n",
       "      <th>universe_exclude_subgroups</th>\n",
       "      <th>q_hat</th>\n",
       "      <th>coverage</th>\n",
       "      <th>avg_size</th>\n",
       "      <th>cov_frau1</th>\n",
       "      <th>cov_nongerman</th>\n",
       "      <th>cov_nongerman_male</th>\n",
       "      <th>cov_nongerman_female</th>\n",
       "    </tr>\n",
       "  </thead>\n",
       "  <tbody>\n",
       "    <tr>\n",
       "      <th>0</th>\n",
       "      <td>f7a963de121b4420f79d389821441c5a</td>\n",
       "      <td>2012_14</td>\n",
       "      <td>1k</td>\n",
       "      <td>scale</td>\n",
       "      <td>penalized_logreg</td>\n",
       "      <td>sex</td>\n",
       "      <td>drop-non-german</td>\n",
       "      <td>0.756015</td>\n",
       "      <td>0.912016</td>\n",
       "      <td>1.200769</td>\n",
       "      <td>0.908101</td>\n",
       "      <td>0.917083</td>\n",
       "      <td>0.930109</td>\n",
       "      <td>0.895529</td>\n",
       "    </tr>\n",
       "  </tbody>\n",
       "</table>\n",
       "</div>"
      ],
      "text/plain": [
       "                        universe_id universe_training_year  \\\n",
       "0  f7a963de121b4420f79d389821441c5a                2012_14   \n",
       "\n",
       "  universe_training_size universe_scale    universe_model  \\\n",
       "0                     1k          scale  penalized_logreg   \n",
       "\n",
       "  universe_exclude_features universe_exclude_subgroups     q_hat  coverage  \\\n",
       "0                       sex            drop-non-german  0.756015  0.912016   \n",
       "\n",
       "   avg_size  cov_frau1  cov_nongerman  cov_nongerman_male  \\\n",
       "0  1.200769   0.908101       0.917083            0.930109   \n",
       "\n",
       "   cov_nongerman_female  \n",
       "0              0.895529  "
      ]
     },
     "execution_count": 58,
     "metadata": {},
     "output_type": "execute_result"
    }
   ],
   "source": [
    "cp_metrics_df"
   ]
  },
  {
   "cell_type": "markdown",
   "id": "33774451",
   "metadata": {
    "papermill": {
     "duration": 0.027443,
     "end_time": "2025-08-05T16:17:56.697315",
     "exception": false,
     "start_time": "2025-08-05T16:17:56.669872",
     "status": "completed"
    },
    "tags": []
   },
   "source": [
    "# (Fairness) Metrics"
   ]
  },
  {
   "cell_type": "code",
   "execution_count": 59,
   "id": "debc5d62",
   "metadata": {
    "execution": {
     "iopub.execute_input": "2025-08-05T16:17:56.753744Z",
     "iopub.status.busy": "2025-08-05T16:17:56.753078Z",
     "iopub.status.idle": "2025-08-05T16:17:56.778055Z",
     "shell.execute_reply": "2025-08-05T16:17:56.776878Z"
    },
    "papermill": {
     "duration": 0.056224,
     "end_time": "2025-08-05T16:17:56.780215",
     "exception": false,
     "start_time": "2025-08-05T16:17:56.723991",
     "status": "completed"
    },
    "tags": []
   },
   "outputs": [],
   "source": [
    "# do I need to include maxdeutsch1.missing?\n",
    "\n",
    "import numpy as np\n",
    "\n",
    "colname_to_bin = \"maxdeutsch1\"\n",
    "majority_value = org_train[colname_to_bin].mode()[0]\n",
    "\n",
    "org_test[\"majmin\"] = np.where(org_test[colname_to_bin] == majority_value, \"majority\", \"minority\")"
   ]
  },
  {
   "cell_type": "code",
   "execution_count": 60,
   "id": "06a50de5",
   "metadata": {
    "execution": {
     "iopub.execute_input": "2025-08-05T16:17:56.838550Z",
     "iopub.status.busy": "2025-08-05T16:17:56.837735Z",
     "iopub.status.idle": "2025-08-05T16:18:00.235640Z",
     "shell.execute_reply": "2025-08-05T16:18:00.234340Z"
    },
    "papermill": {
     "duration": 3.430086,
     "end_time": "2025-08-05T16:18:00.238222",
     "exception": false,
     "start_time": "2025-08-05T16:17:56.808136",
     "status": "completed"
    },
    "tags": []
   },
   "outputs": [],
   "source": [
    "example_universe = universe.copy()\n",
    "example_universe[\"cutoff\"] = example_universe[\"cutoff\"][0]\n",
    "example_universe[\"eval_fairness_grouping\"] = example_universe[\"eval_fairness_grouping\"][0]\n",
    "fairness_dict, metric_frame = universe_analysis.compute_metrics(\n",
    "    example_universe,\n",
    "    y_pred_prob=probs_test,\n",
    "    y_test=y_true,\n",
    "    org_test=org_test,\n",
    ")"
   ]
  },
  {
   "cell_type": "markdown",
   "id": "f95d4e02",
   "metadata": {
    "papermill": {
     "duration": 0.028335,
     "end_time": "2025-08-05T16:18:00.294318",
     "exception": false,
     "start_time": "2025-08-05T16:18:00.265983",
     "status": "completed"
    },
    "tags": []
   },
   "source": [
    "# Overall"
   ]
  },
  {
   "cell_type": "markdown",
   "id": "bdee4871",
   "metadata": {
    "papermill": {
     "duration": 0.02736,
     "end_time": "2025-08-05T16:18:00.349185",
     "exception": false,
     "start_time": "2025-08-05T16:18:00.321825",
     "status": "completed"
    },
    "tags": []
   },
   "source": [
    "Fairness\n",
    "Main fairness target: Equalized Odds. Seems to be a better fit than equal opportunity, since we're not only interested in Y = 1. Seems to be a better fit than demographic parity, since we also care about accuracy, not just equal distribution of preds.\n",
    "\n",
    "Pick column for computation of fairness metrics\n",
    "\n",
    "Performance\n",
    "Overall performance measures, most interesting in relation to the measures split by group below"
   ]
  },
  {
   "cell_type": "code",
   "execution_count": 61,
   "id": "c4e067c6",
   "metadata": {
    "execution": {
     "iopub.execute_input": "2025-08-05T16:18:00.406518Z",
     "iopub.status.busy": "2025-08-05T16:18:00.405883Z",
     "iopub.status.idle": "2025-08-05T16:18:00.416245Z",
     "shell.execute_reply": "2025-08-05T16:18:00.415104Z"
    },
    "papermill": {
     "duration": 0.040926,
     "end_time": "2025-08-05T16:18:00.418156",
     "exception": false,
     "start_time": "2025-08-05T16:18:00.377230",
     "status": "completed"
    },
    "tags": []
   },
   "outputs": [
    {
     "data": {
      "text/plain": [
       "accuracy                   0.219095\n",
       "balanced accuracy          0.536823\n",
       "f1                         0.240572\n",
       "precision                  0.137430\n",
       "false positive rate        0.890553\n",
       "false negative rate        0.035801\n",
       "selection rate             0.900000\n",
       "count                  89710.000000\n",
       "dtype: float64"
      ]
     },
     "execution_count": 61,
     "metadata": {},
     "output_type": "execute_result"
    }
   ],
   "source": [
    "metric_frame.overall"
   ]
  },
  {
   "cell_type": "markdown",
   "id": "e968fe9d",
   "metadata": {
    "papermill": {
     "duration": 0.028369,
     "end_time": "2025-08-05T16:18:00.475105",
     "exception": false,
     "start_time": "2025-08-05T16:18:00.446736",
     "status": "completed"
    },
    "tags": []
   },
   "source": [
    "By Group"
   ]
  },
  {
   "cell_type": "code",
   "execution_count": 62,
   "id": "ec325bce",
   "metadata": {
    "execution": {
     "iopub.execute_input": "2025-08-05T16:18:00.535016Z",
     "iopub.status.busy": "2025-08-05T16:18:00.534274Z",
     "iopub.status.idle": "2025-08-05T16:18:00.557765Z",
     "shell.execute_reply": "2025-08-05T16:18:00.556311Z"
    },
    "papermill": {
     "duration": 0.056245,
     "end_time": "2025-08-05T16:18:00.559595",
     "exception": false,
     "start_time": "2025-08-05T16:18:00.503350",
     "status": "completed"
    },
    "tags": []
   },
   "outputs": [
    {
     "data": {
      "text/html": [
       "<div>\n",
       "<style scoped>\n",
       "    .dataframe tbody tr th:only-of-type {\n",
       "        vertical-align: middle;\n",
       "    }\n",
       "\n",
       "    .dataframe tbody tr th {\n",
       "        vertical-align: top;\n",
       "    }\n",
       "\n",
       "    .dataframe thead th {\n",
       "        text-align: right;\n",
       "    }\n",
       "</style>\n",
       "<table border=\"1\" class=\"dataframe\">\n",
       "  <thead>\n",
       "    <tr style=\"text-align: right;\">\n",
       "      <th></th>\n",
       "      <th>accuracy</th>\n",
       "      <th>balanced accuracy</th>\n",
       "      <th>f1</th>\n",
       "      <th>precision</th>\n",
       "      <th>false positive rate</th>\n",
       "      <th>false negative rate</th>\n",
       "      <th>selection rate</th>\n",
       "      <th>count</th>\n",
       "    </tr>\n",
       "    <tr>\n",
       "      <th>majmin</th>\n",
       "      <th></th>\n",
       "      <th></th>\n",
       "      <th></th>\n",
       "      <th></th>\n",
       "      <th></th>\n",
       "      <th></th>\n",
       "      <th></th>\n",
       "      <th></th>\n",
       "    </tr>\n",
       "  </thead>\n",
       "  <tbody>\n",
       "    <tr>\n",
       "      <th>majority</th>\n",
       "      <td>0.235131</td>\n",
       "      <td>0.542085</td>\n",
       "      <td>0.248942</td>\n",
       "      <td>0.143030</td>\n",
       "      <td>0.875129</td>\n",
       "      <td>0.040700</td>\n",
       "      <td>0.886251</td>\n",
       "      <td>69170.0</td>\n",
       "    </tr>\n",
       "    <tr>\n",
       "      <th>minority</th>\n",
       "      <td>0.165093</td>\n",
       "      <td>0.520802</td>\n",
       "      <td>0.213529</td>\n",
       "      <td>0.119772</td>\n",
       "      <td>0.941503</td>\n",
       "      <td>0.016892</td>\n",
       "      <td>0.946300</td>\n",
       "      <td>20540.0</td>\n",
       "    </tr>\n",
       "  </tbody>\n",
       "</table>\n",
       "</div>"
      ],
      "text/plain": [
       "          accuracy  balanced accuracy        f1  precision  \\\n",
       "majmin                                                       \n",
       "majority  0.235131           0.542085  0.248942   0.143030   \n",
       "minority  0.165093           0.520802  0.213529   0.119772   \n",
       "\n",
       "          false positive rate  false negative rate  selection rate    count  \n",
       "majmin                                                                       \n",
       "majority             0.875129             0.040700        0.886251  69170.0  \n",
       "minority             0.941503             0.016892        0.946300  20540.0  "
      ]
     },
     "execution_count": 62,
     "metadata": {},
     "output_type": "execute_result"
    }
   ],
   "source": [
    "metric_frame.by_group"
   ]
  },
  {
   "cell_type": "code",
   "execution_count": 63,
   "id": "a9ddbe63",
   "metadata": {
    "execution": {
     "iopub.execute_input": "2025-08-05T16:18:00.620922Z",
     "iopub.status.busy": "2025-08-05T16:18:00.619851Z",
     "iopub.status.idle": "2025-08-05T16:18:02.961020Z",
     "shell.execute_reply": "2025-08-05T16:18:02.960274Z"
    },
    "papermill": {
     "duration": 2.373995,
     "end_time": "2025-08-05T16:18:02.962385",
     "exception": false,
     "start_time": "2025-08-05T16:18:00.588390",
     "status": "completed"
    },
    "tags": []
   },
   "outputs": [
    {
     "data": {
      "text/plain": [
       "array([[<Axes: title={'center': 'accuracy'}, xlabel='majmin'>,\n",
       "        <Axes: title={'center': 'balanced accuracy'}, xlabel='majmin'>,\n",
       "        <Axes: title={'center': 'f1'}, xlabel='majmin'>],\n",
       "       [<Axes: title={'center': 'precision'}, xlabel='majmin'>,\n",
       "        <Axes: title={'center': 'false positive rate'}, xlabel='majmin'>,\n",
       "        <Axes: title={'center': 'false negative rate'}, xlabel='majmin'>],\n",
       "       [<Axes: title={'center': 'selection rate'}, xlabel='majmin'>,\n",
       "        <Axes: title={'center': 'count'}, xlabel='majmin'>,\n",
       "        <Axes: xlabel='majmin'>]], dtype=object)"
      ]
     },
     "execution_count": 63,
     "metadata": {},
     "output_type": "execute_result"
    },
    {
     "data": {
      "image/png": "[encoded data removed]",
      "text/plain": [
       "<Figure size 1200x800 with 9 Axes>"
      ]
     },
     "metadata": {},
     "output_type": "display_data"
    }
   ],
   "source": [
    "# In a graphic\n",
    "metric_frame.by_group.plot.bar(\n",
    "    subplots=True,\n",
    "    layout=[3, 3],\n",
    "    legend=False,\n",
    "    figsize=[12, 8],\n",
    "    title=\"Show all metrics\",\n",
    ")"
   ]
  },
  {
   "cell_type": "markdown",
   "id": "f57a0bac",
   "metadata": {
    "papermill": {
     "duration": 0.015481,
     "end_time": "2025-08-05T16:18:02.994869",
     "exception": false,
     "start_time": "2025-08-05T16:18:02.979388",
     "status": "completed"
    },
    "tags": []
   },
   "source": [
    "# Final Output"
   ]
  },
  {
   "cell_type": "code",
   "execution_count": 64,
   "id": "96d280a3",
   "metadata": {
    "execution": {
     "iopub.execute_input": "2025-08-05T16:18:03.026419Z",
     "iopub.status.busy": "2025-08-05T16:18:03.025695Z",
     "iopub.status.idle": "2025-08-05T16:18:03.033961Z",
     "shell.execute_reply": "2025-08-05T16:18:03.032970Z"
    },
    "papermill": {
     "duration": 0.028331,
     "end_time": "2025-08-05T16:18:03.035742",
     "exception": false,
     "start_time": "2025-08-05T16:18:03.007411",
     "status": "completed"
    },
    "tags": []
   },
   "outputs": [
    {
     "data": {
      "text/plain": [
       "4"
      ]
     },
     "execution_count": 64,
     "metadata": {},
     "output_type": "execute_result"
    }
   ],
   "source": [
    "sub_universes = universe_analysis.generate_sub_universes()\n",
    "len(sub_universes)"
   ]
  },
  {
   "cell_type": "code",
   "execution_count": 65,
   "id": "92adf7ba",
   "metadata": {
    "execution": {
     "iopub.execute_input": "2025-08-05T16:18:03.079851Z",
     "iopub.status.busy": "2025-08-05T16:18:03.079336Z",
     "iopub.status.idle": "2025-08-05T16:18:03.084608Z",
     "shell.execute_reply": "2025-08-05T16:18:03.083747Z"
    },
    "papermill": {
     "duration": 0.02578,
     "end_time": "2025-08-05T16:18:03.086178",
     "exception": false,
     "start_time": "2025-08-05T16:18:03.060398",
     "status": "completed"
    },
    "tags": []
   },
   "outputs": [],
   "source": [
    "def filter_sub_universe_data(sub_universe, org_test):\n",
    "    # Keep all rows — no filtering\n",
    "    keep_rows_mask = np.ones(org_test.shape[0], dtype=bool)\n",
    "\n",
    "    print(f\"[INFO] Keeping all rows: {keep_rows_mask.sum()} rows retained.\")\n",
    "    return keep_rows_mask"
   ]
  },
  {
   "cell_type": "code",
   "execution_count": 66,
   "id": "4a759155",
   "metadata": {
    "execution": {
     "iopub.execute_input": "2025-08-05T16:18:03.129588Z",
     "iopub.status.busy": "2025-08-05T16:18:03.128889Z",
     "iopub.status.idle": "2025-08-05T16:18:14.059501Z",
     "shell.execute_reply": "2025-08-05T16:18:14.058504Z"
    },
    "papermill": {
     "duration": 10.95822,
     "end_time": "2025-08-05T16:18:14.061050",
     "exception": false,
     "start_time": "2025-08-05T16:18:03.102830",
     "status": "completed"
    },
    "tags": []
   },
   "outputs": [
    {
     "name": "stdout",
     "output_type": "stream",
     "text": [
      "Stopping execution_time clock.\n",
      "[INFO] Keeping all rows: 89710 rows retained.\n"
     ]
    },
    {
     "name": "stdout",
     "output_type": "stream",
     "text": [
      "[INFO] Keeping all rows: 89710 rows retained.\n"
     ]
    },
    {
     "name": "stdout",
     "output_type": "stream",
     "text": [
      "[INFO] Keeping all rows: 89710 rows retained.\n"
     ]
    },
    {
     "name": "stdout",
     "output_type": "stream",
     "text": [
      "[INFO] Keeping all rows: 89710 rows retained.\n"
     ]
    },
    {
     "data": {
      "text/html": [
       "<div>\n",
       "<style scoped>\n",
       "    .dataframe tbody tr th:only-of-type {\n",
       "        vertical-align: middle;\n",
       "    }\n",
       "\n",
       "    .dataframe tbody tr th {\n",
       "        vertical-align: top;\n",
       "    }\n",
       "\n",
       "    .dataframe thead th {\n",
       "        text-align: right;\n",
       "    }\n",
       "</style>\n",
       "<table border=\"1\" class=\"dataframe\">\n",
       "  <thead>\n",
       "    <tr style=\"text-align: right;\">\n",
       "      <th></th>\n",
       "      <th>run_no</th>\n",
       "      <th>universe_id</th>\n",
       "      <th>universe_settings</th>\n",
       "      <th>execution_time</th>\n",
       "      <th>test_size_n</th>\n",
       "      <th>test_size_frac</th>\n",
       "      <th>fair_main_equalized_odds_difference</th>\n",
       "      <th>fair_main_equalized_odds_ratio</th>\n",
       "      <th>fair_main_demographic_parity_difference</th>\n",
       "      <th>fair_main_demographic_parity_ratio</th>\n",
       "      <th>...</th>\n",
       "      <th>perf_grp_precision_0</th>\n",
       "      <th>perf_grp_precision_1</th>\n",
       "      <th>perf_grp_false positive rate_0</th>\n",
       "      <th>perf_grp_false positive rate_1</th>\n",
       "      <th>perf_grp_false negative rate_0</th>\n",
       "      <th>perf_grp_false negative rate_1</th>\n",
       "      <th>perf_grp_selection rate_0</th>\n",
       "      <th>perf_grp_selection rate_1</th>\n",
       "      <th>perf_grp_count_0</th>\n",
       "      <th>perf_grp_count_1</th>\n",
       "    </tr>\n",
       "  </thead>\n",
       "  <tbody>\n",
       "    <tr>\n",
       "      <th>0</th>\n",
       "      <td>15</td>\n",
       "      <td>f7a963de121b4420f79d389821441c5a</td>\n",
       "      <td>{\"cutoff\": \"quantile_0.1\", \"eval_fairness_grou...</td>\n",
       "      <td>29.764262</td>\n",
       "      <td>89710</td>\n",
       "      <td>1.0</td>\n",
       "      <td>0.066374</td>\n",
       "      <td>0.929502</td>\n",
       "      <td>0.060049</td>\n",
       "      <td>0.936544</td>\n",
       "      <td>...</td>\n",
       "      <td>NaN</td>\n",
       "      <td>NaN</td>\n",
       "      <td>NaN</td>\n",
       "      <td>NaN</td>\n",
       "      <td>NaN</td>\n",
       "      <td>NaN</td>\n",
       "      <td>NaN</td>\n",
       "      <td>NaN</td>\n",
       "      <td>NaN</td>\n",
       "      <td>NaN</td>\n",
       "    </tr>\n",
       "    <tr>\n",
       "      <th>0</th>\n",
       "      <td>15</td>\n",
       "      <td>f7a963de121b4420f79d389821441c5a</td>\n",
       "      <td>{\"cutoff\": \"quantile_0.1\", \"eval_fairness_grou...</td>\n",
       "      <td>29.764262</td>\n",
       "      <td>89710</td>\n",
       "      <td>1.0</td>\n",
       "      <td>0.066374</td>\n",
       "      <td>0.929502</td>\n",
       "      <td>0.060049</td>\n",
       "      <td>0.936544</td>\n",
       "      <td>...</td>\n",
       "      <td>0.119772</td>\n",
       "      <td>0.143030</td>\n",
       "      <td>0.941503</td>\n",
       "      <td>0.875129</td>\n",
       "      <td>0.016892</td>\n",
       "      <td>0.04070</td>\n",
       "      <td>0.946300</td>\n",
       "      <td>0.886251</td>\n",
       "      <td>20540.0</td>\n",
       "      <td>69170.0</td>\n",
       "    </tr>\n",
       "    <tr>\n",
       "      <th>0</th>\n",
       "      <td>15</td>\n",
       "      <td>f7a963de121b4420f79d389821441c5a</td>\n",
       "      <td>{\"cutoff\": \"quantile_0.25\", \"eval_fairness_gro...</td>\n",
       "      <td>29.764262</td>\n",
       "      <td>89710</td>\n",
       "      <td>1.0</td>\n",
       "      <td>0.143421</td>\n",
       "      <td>0.829143</td>\n",
       "      <td>0.129828</td>\n",
       "      <td>0.847278</td>\n",
       "      <td>...</td>\n",
       "      <td>NaN</td>\n",
       "      <td>NaN</td>\n",
       "      <td>NaN</td>\n",
       "      <td>NaN</td>\n",
       "      <td>NaN</td>\n",
       "      <td>NaN</td>\n",
       "      <td>NaN</td>\n",
       "      <td>NaN</td>\n",
       "      <td>NaN</td>\n",
       "      <td>NaN</td>\n",
       "    </tr>\n",
       "    <tr>\n",
       "      <th>0</th>\n",
       "      <td>15</td>\n",
       "      <td>f7a963de121b4420f79d389821441c5a</td>\n",
       "      <td>{\"cutoff\": \"quantile_0.25\", \"eval_fairness_gro...</td>\n",
       "      <td>29.764262</td>\n",
       "      <td>89710</td>\n",
       "      <td>1.0</td>\n",
       "      <td>0.143421</td>\n",
       "      <td>0.829143</td>\n",
       "      <td>0.129828</td>\n",
       "      <td>0.847278</td>\n",
       "      <td>...</td>\n",
       "      <td>0.126396</td>\n",
       "      <td>0.161378</td>\n",
       "      <td>0.839423</td>\n",
       "      <td>0.696002</td>\n",
       "      <td>0.067990</td>\n",
       "      <td>0.12035</td>\n",
       "      <td>0.850097</td>\n",
       "      <td>0.720269</td>\n",
       "      <td>20540.0</td>\n",
       "      <td>69170.0</td>\n",
       "    </tr>\n",
       "  </tbody>\n",
       "</table>\n",
       "<p>4 rows × 50 columns</p>\n",
       "</div>"
      ],
      "text/plain": [
       "  run_no                       universe_id  \\\n",
       "0     15  f7a963de121b4420f79d389821441c5a   \n",
       "0     15  f7a963de121b4420f79d389821441c5a   \n",
       "0     15  f7a963de121b4420f79d389821441c5a   \n",
       "0     15  f7a963de121b4420f79d389821441c5a   \n",
       "\n",
       "                                   universe_settings  execution_time  \\\n",
       "0  {\"cutoff\": \"quantile_0.1\", \"eval_fairness_grou...       29.764262   \n",
       "0  {\"cutoff\": \"quantile_0.1\", \"eval_fairness_grou...       29.764262   \n",
       "0  {\"cutoff\": \"quantile_0.25\", \"eval_fairness_gro...       29.764262   \n",
       "0  {\"cutoff\": \"quantile_0.25\", \"eval_fairness_gro...       29.764262   \n",
       "\n",
       "   test_size_n  test_size_frac  fair_main_equalized_odds_difference  \\\n",
       "0        89710             1.0                             0.066374   \n",
       "0        89710             1.0                             0.066374   \n",
       "0        89710             1.0                             0.143421   \n",
       "0        89710             1.0                             0.143421   \n",
       "\n",
       "   fair_main_equalized_odds_ratio  fair_main_demographic_parity_difference  \\\n",
       "0                        0.929502                                 0.060049   \n",
       "0                        0.929502                                 0.060049   \n",
       "0                        0.829143                                 0.129828   \n",
       "0                        0.829143                                 0.129828   \n",
       "\n",
       "   fair_main_demographic_parity_ratio  ...  perf_grp_precision_0  \\\n",
       "0                            0.936544  ...                   NaN   \n",
       "0                            0.936544  ...              0.119772   \n",
       "0                            0.847278  ...                   NaN   \n",
       "0                            0.847278  ...              0.126396   \n",
       "\n",
       "   perf_grp_precision_1  perf_grp_false positive rate_0  \\\n",
       "0                   NaN                             NaN   \n",
       "0              0.143030                        0.941503   \n",
       "0                   NaN                             NaN   \n",
       "0              0.161378                        0.839423   \n",
       "\n",
       "   perf_grp_false positive rate_1  perf_grp_false negative rate_0  \\\n",
       "0                             NaN                             NaN   \n",
       "0                        0.875129                        0.016892   \n",
       "0                             NaN                             NaN   \n",
       "0                        0.696002                        0.067990   \n",
       "\n",
       "   perf_grp_false negative rate_1  perf_grp_selection rate_0  \\\n",
       "0                             NaN                        NaN   \n",
       "0                         0.04070                   0.946300   \n",
       "0                             NaN                        NaN   \n",
       "0                         0.12035                   0.850097   \n",
       "\n",
       "   perf_grp_selection rate_1  perf_grp_count_0  perf_grp_count_1  \n",
       "0                        NaN               NaN               NaN  \n",
       "0                   0.886251           20540.0           69170.0  \n",
       "0                        NaN               NaN               NaN  \n",
       "0                   0.720269           20540.0           69170.0  \n",
       "\n",
       "[4 rows x 50 columns]"
      ]
     },
     "execution_count": 66,
     "metadata": {},
     "output_type": "execute_result"
    }
   ],
   "source": [
    "final_output = universe_analysis.generate_final_output(\n",
    "    y_pred_prob=probs_test,\n",
    "    y_test=y_true,\n",
    "    org_test=org_test,\n",
    "    filter_data=filter_sub_universe_data,\n",
    "    cp_metrics_df=cp_metrics_df,\n",
    "    save=True,\n",
    ")\n",
    "final_output"
   ]
  }
 ],
 "metadata": {
  "celltoolbar": "Tags",
  "kernelspec": {
   "display_name": "Python (CMA Fairness)",
   "language": "python",
   "name": "cma_fair_env"
  },
  "language_info": {
   "codemirror_mode": {
    "name": "ipython",
    "version": 3
   },
   "file_extension": ".py",
   "mimetype": "text/x-python",
   "name": "python",
   "nbconvert_exporter": "python",
   "pygments_lexer": "ipython3",
   "version": "3.10.12"
  },
  "papermill": {
   "default_parameters": {},
   "duration": 45.344841,
   "end_time": "2025-08-05T16:18:14.897446",
   "environment_variables": {},
   "exception": null,
   "input_path": "universe_analysis.ipynb",
   "output_path": "output/runs/15/notebooks/m_15-f7a963de121b4420f79d389821441c5a.ipynb",
   "parameters": {
    "output_dir": "output",
    "run_no": "15",
    "seed": "2023",
    "universe": "{\"cutoff\": [\"quantile_0.1\", \"quantile_0.25\"], \"eval_fairness_grouping\": [\"majority-minority\", \"nationality-all\"], \"exclude_features\": \"sex\", \"exclude_subgroups\": \"drop-non-german\", \"model\": \"penalized_logreg\", \"scale\": \"scale\", \"training_size\": \"1k\", \"training_year\": \"2012_14\"}",
    "universe_id": "f7a963de121b4420f79d389821441c5a"
   },
   "start_time": "2025-08-05T16:17:29.552605",
   "version": "2.6.0"
  }
 },
 "nbformat": 4,
 "nbformat_minor": 5
}