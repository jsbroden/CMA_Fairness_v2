{
 "cells": [
  {
   "cell_type": "code",
   "execution_count": 1,
   "id": "f159f837-637b-42ba-96b5-ec9a68c44524",
   "metadata": {
    "execution": {
     "iopub.execute_input": "2025-08-05T16:29:56.528041Z",
     "iopub.status.busy": "2025-08-05T16:29:56.527409Z",
     "iopub.status.idle": "2025-08-05T16:29:56.544088Z",
     "shell.execute_reply": "2025-08-05T16:29:56.542080Z"
    },
    "papermill": {
     "duration": 0.040166,
     "end_time": "2025-08-05T16:29:56.545668",
     "exception": false,
     "start_time": "2025-08-05T16:29:56.505502",
     "status": "completed"
    },
    "tags": []
   },
   "outputs": [
    {
     "name": "stdout",
     "output_type": "stream",
     "text": [
      "/dss/dsshome1/0C/ra93lal2/cma/CMA_Fairness_v2\n"
     ]
    },
    {
     "name": "stderr",
     "output_type": "stream",
     "text": [
      "/dss/dsshome1/0C/ra93lal2/.local/share/virtualenvs/CMA_Fairness_v2-3j10GkSs/lib/python3.10/site-packages/IPython/core/magics/osm.py:393: UserWarning: This is now an optional IPython functionality, using bookmarks requires you to install the `pickleshare` library.\n",
      "  bkms = self.shell.db.get('bookmarks', {})\n",
      "/dss/dsshome1/0C/ra93lal2/.local/share/virtualenvs/CMA_Fairness_v2-3j10GkSs/lib/python3.10/site-packages/IPython/core/magics/osm.py:417: UserWarning: This is now an optional IPython functionality, setting dhist requires you to install the `pickleshare` library.\n",
      "  self.shell.db['dhist'] = compress_dhist(dhist)[-100:]\n"
     ]
    }
   ],
   "source": [
    "%cd ~/cma/CMA_Fairness_v2"
   ]
  },
  {
   "cell_type": "markdown",
   "id": "de2603b9",
   "metadata": {
    "papermill": {
     "duration": 0.011076,
     "end_time": "2025-08-05T16:29:56.567899",
     "exception": false,
     "start_time": "2025-08-05T16:29:56.556823",
     "status": "completed"
    },
    "tags": []
   },
   "source": [
    "The following cell holds the definition of our parameters, these values can be overriden by rendering the with e.g. the following command:\n",
    "\n",
    "papermill -p alpha 0.2 -p ratio 0.3 universe_analysis.ipynb output/test_run.ipynb"
   ]
  },
  {
   "cell_type": "code",
   "execution_count": 2,
   "id": "a80968a0-40bb-4fa9-85ef-2d5eefb01975",
   "metadata": {
    "execution": {
     "iopub.execute_input": "2025-08-05T16:29:56.590317Z",
     "iopub.status.busy": "2025-08-05T16:29:56.589872Z",
     "iopub.status.idle": "2025-08-05T16:29:56.596136Z",
     "shell.execute_reply": "2025-08-05T16:29:56.595052Z"
    },
    "papermill": {
     "duration": 0.021258,
     "end_time": "2025-08-05T16:29:56.599609",
     "exception": false,
     "start_time": "2025-08-05T16:29:56.578351",
     "status": "completed"
    },
    "tags": []
   },
   "outputs": [
    {
     "name": "stdout",
     "output_type": "stream",
     "text": [
      "Current working directory: /dss/dsshome1/0C/ra93lal2/cma/CMA_Fairness_v2\n"
     ]
    }
   ],
   "source": [
    "import os\n",
    "print(\"Current working directory:\", os.getcwd())"
   ]
  },
  {
   "cell_type": "code",
   "execution_count": 3,
   "id": "2dce4c03",
   "metadata": {
    "execution": {
     "iopub.execute_input": "2025-08-05T16:29:56.695752Z",
     "iopub.status.busy": "2025-08-05T16:29:56.695183Z",
     "iopub.status.idle": "2025-08-05T16:29:56.702818Z",
     "shell.execute_reply": "2025-08-05T16:29:56.701625Z"
    },
    "papermill": {
     "duration": 0.081309,
     "end_time": "2025-08-05T16:29:56.704845",
     "exception": false,
     "start_time": "2025-08-05T16:29:56.623536",
     "status": "completed"
    },
    "tags": [
     "parameters"
    ]
   },
   "outputs": [],
   "source": [
    "run_no = 0\n",
    "universe_id = \"test\"\n",
    "universe = {\n",
    "    \"training_size\": \"25k\", # \"25k\", \"5k\", \"1k\"\n",
    "    \"training_year\": \"2014\", # \"2014\", \"2012_14\", \"2010_14\"\n",
    "    \"scale\": \"scale\", # \"scale\", \"do-not-scale\",\n",
    "    \"model\": \"elasticnet\", # \"logreg\", \"penalized_logreg\", \"rf\", \"gbm\", \"elasticnet\"\n",
    "    \"cutoff\": [\"quantile_0.15\", \"quantile_0.30\"],\n",
    "    \"exclude_features\": \"age\", # \"none\", \"nationality\", \"sex\", \"nationality-sex\", \"age\"\n",
    "    \"exclude_subgroups\": \"keep-all\", # \"keep-all\", \"drop-non-german\"\n",
    "    \"eval_fairness_grouping\": [\"majority-minority\", \"nationality-all\"]\n",
    "}\n",
    "\n",
    "output_dir=\"./output\"\n",
    "seed=0"
   ]
  },
  {
   "cell_type": "code",
   "execution_count": 4,
   "id": "275e0afb",
   "metadata": {
    "execution": {
     "iopub.execute_input": "2025-08-05T16:29:56.753344Z",
     "iopub.status.busy": "2025-08-05T16:29:56.752803Z",
     "iopub.status.idle": "2025-08-05T16:29:56.759188Z",
     "shell.execute_reply": "2025-08-05T16:29:56.758082Z"
    },
    "papermill": {
     "duration": 0.033372,
     "end_time": "2025-08-05T16:29:56.761451",
     "exception": false,
     "start_time": "2025-08-05T16:29:56.728079",
     "status": "completed"
    },
    "tags": [
     "injected-parameters"
    ]
   },
   "outputs": [],
   "source": [
    "# Parameters\n",
    "universe_id = \"e6e8e7d3c49501ab1a6b770729886028\"\n",
    "run_no = \"15\"\n",
    "universe = \"{\\\"cutoff\\\": [\\\"quantile_0.1\\\", \\\"quantile_0.25\\\"], \\\"eval_fairness_grouping\\\": [\\\"majority-minority\\\", \\\"nationality-all\\\"], \\\"exclude_features\\\": \\\"sex\\\", \\\"exclude_subgroups\\\": \\\"keep-all\\\", \\\"model\\\": \\\"elasticnet\\\", \\\"scale\\\": \\\"do-not-scale\\\", \\\"training_size\\\": \\\"1k\\\", \\\"training_year\\\": \\\"2012_14\\\"}\"\n",
    "output_dir = \"output\"\n",
    "seed = \"2023\"\n"
   ]
  },
  {
   "cell_type": "code",
   "execution_count": 5,
   "id": "1650acaf",
   "metadata": {
    "execution": {
     "iopub.execute_input": "2025-08-05T16:29:56.809779Z",
     "iopub.status.busy": "2025-08-05T16:29:56.809237Z",
     "iopub.status.idle": "2025-08-05T16:29:56.814972Z",
     "shell.execute_reply": "2025-08-05T16:29:56.813881Z"
    },
    "papermill": {
     "duration": 0.031994,
     "end_time": "2025-08-05T16:29:56.817190",
     "exception": false,
     "start_time": "2025-08-05T16:29:56.785196",
     "status": "completed"
    },
    "tags": []
   },
   "outputs": [],
   "source": [
    "import json\n",
    "if isinstance(universe, str):\n",
    "    universe = json.loads(universe)"
   ]
  },
  {
   "cell_type": "code",
   "execution_count": 6,
   "id": "16620c48",
   "metadata": {
    "execution": {
     "iopub.execute_input": "2025-08-05T16:29:56.866076Z",
     "iopub.status.busy": "2025-08-05T16:29:56.865452Z",
     "iopub.status.idle": "2025-08-05T16:29:56.921937Z",
     "shell.execute_reply": "2025-08-05T16:29:56.920638Z"
    },
    "papermill": {
     "duration": 0.083574,
     "end_time": "2025-08-05T16:29:56.924232",
     "exception": false,
     "start_time": "2025-08-05T16:29:56.840658",
     "status": "completed"
    },
    "tags": []
   },
   "outputs": [],
   "source": [
    "# Auto-reload the custom package\n",
    "%load_ext autoreload\n",
    "%autoreload 1\n",
    "%aimport fairness_multiverse"
   ]
  },
  {
   "cell_type": "code",
   "execution_count": 7,
   "id": "01c5c9f3",
   "metadata": {
    "execution": {
     "iopub.execute_input": "2025-08-05T16:29:56.975042Z",
     "iopub.status.busy": "2025-08-05T16:29:56.974331Z",
     "iopub.status.idle": "2025-08-05T16:29:59.171604Z",
     "shell.execute_reply": "2025-08-05T16:29:59.170399Z"
    },
    "papermill": {
     "duration": 2.2249,
     "end_time": "2025-08-05T16:29:59.173865",
     "exception": false,
     "start_time": "2025-08-05T16:29:56.948965",
     "status": "completed"
    },
    "tags": []
   },
   "outputs": [],
   "source": [
    "from fairness_multiverse.universe import UniverseAnalysis\n",
    "\n",
    "universe_analysis = UniverseAnalysis(\n",
    "    run_no = run_no,\n",
    "    universe_id = universe_id,\n",
    "    universe = universe,\n",
    "    output_dir=output_dir,\n",
    ")"
   ]
  },
  {
   "cell_type": "code",
   "execution_count": 8,
   "id": "106241f5",
   "metadata": {
    "execution": {
     "iopub.execute_input": "2025-08-05T16:29:59.217717Z",
     "iopub.status.busy": "2025-08-05T16:29:59.217201Z",
     "iopub.status.idle": "2025-08-05T16:29:59.224466Z",
     "shell.execute_reply": "2025-08-05T16:29:59.223372Z"
    },
    "papermill": {
     "duration": 0.031849,
     "end_time": "2025-08-05T16:29:59.226860",
     "exception": false,
     "start_time": "2025-08-05T16:29:59.195011",
     "status": "completed"
    },
    "tags": []
   },
   "outputs": [
    {
     "name": "stdout",
     "output_type": "stream",
     "text": [
      "Using Seed: 2023\n"
     ]
    }
   ],
   "source": [
    "import numpy as np\n",
    "parsed_seed = int(seed)\n",
    "np.random.seed(parsed_seed)\n",
    "print(f\"Using Seed: {parsed_seed}\")"
   ]
  },
  {
   "cell_type": "markdown",
   "id": "e0ebdc57",
   "metadata": {
    "papermill": {
     "duration": 0.019949,
     "end_time": "2025-08-05T16:29:59.267740",
     "exception": false,
     "start_time": "2025-08-05T16:29:59.247791",
     "status": "completed"
    },
    "tags": []
   },
   "source": [
    "# Loading Data"
   ]
  },
  {
   "cell_type": "code",
   "execution_count": 9,
   "id": "f0496b8a",
   "metadata": {
    "execution": {
     "iopub.execute_input": "2025-08-05T16:29:59.312114Z",
     "iopub.status.busy": "2025-08-05T16:29:59.311390Z",
     "iopub.status.idle": "2025-08-05T16:30:13.124474Z",
     "shell.execute_reply": "2025-08-05T16:30:13.123007Z"
    },
    "papermill": {
     "duration": 13.837821,
     "end_time": "2025-08-05T16:30:13.126555",
     "exception": false,
     "start_time": "2025-08-05T16:29:59.288734",
     "status": "completed"
    },
    "tags": []
   },
   "outputs": [
    {
     "name": "stdout",
     "output_type": "stream",
     "text": [
      "Loading SIAB data from cache: data/siab_cached.csv.gz\n"
     ]
    },
    {
     "name": "stdout",
     "output_type": "stream",
     "text": [
      "(643690, 164)\n"
     ]
    }
   ],
   "source": [
    "from pathlib import Path\n",
    "import pandas as pd\n",
    "\n",
    "# File paths\n",
    "raw_file = Path(\"data/raw/siab.csv\")\n",
    "cache_file = Path(\"data/siab_cached.csv.gz\")\n",
    "\n",
    "# Ensure cache directory exists\n",
    "cache_file.parent.mkdir(parents=True, exist_ok=True)\n",
    "\n",
    "# Load with simple caching\n",
    "if cache_file.exists():\n",
    "    print(f\"Loading SIAB data from cache: {cache_file}\")\n",
    "    siab = pd.read_csv(cache_file, compression='gzip')\n",
    "else:\n",
    "    print(f\"Cache not found. Reading raw SIAB data: {raw_file}\")\n",
    "    siab = pd.read_csv(raw_file)\n",
    "    siab.to_csv(cache_file, index=False, compression='gzip')\n",
    "    print(f\"Cached SIAB data to: {cache_file}\")\n",
    "\n",
    "print(siab.shape)"
   ]
  },
  {
   "cell_type": "code",
   "execution_count": 10,
   "id": "db0ca512-5f53-4dba-abdb-a2888bca41ba",
   "metadata": {
    "execution": {
     "iopub.execute_input": "2025-08-05T16:30:13.175130Z",
     "iopub.status.busy": "2025-08-05T16:30:13.174543Z",
     "iopub.status.idle": "2025-08-05T16:30:13.181121Z",
     "shell.execute_reply": "2025-08-05T16:30:13.179817Z"
    },
    "papermill": {
     "duration": 0.032342,
     "end_time": "2025-08-05T16:30:13.183085",
     "exception": false,
     "start_time": "2025-08-05T16:30:13.150743",
     "status": "completed"
    },
    "tags": []
   },
   "outputs": [],
   "source": [
    "#siab"
   ]
  },
  {
   "cell_type": "markdown",
   "id": "997051c5-15bd-4b69-9786-c3001a3ce484",
   "metadata": {
    "papermill": {
     "duration": 0.022743,
     "end_time": "2025-08-05T16:30:13.228616",
     "exception": false,
     "start_time": "2025-08-05T16:30:13.205873",
     "status": "completed"
    },
    "tags": []
   },
   "source": [
    "# Splitting Data and Setting Training Data Size"
   ]
  },
  {
   "cell_type": "code",
   "execution_count": 11,
   "id": "aea9c6ef-6f46-42c8-85eb-5a62025c1508",
   "metadata": {
    "execution": {
     "iopub.execute_input": "2025-08-05T16:30:13.276233Z",
     "iopub.status.busy": "2025-08-05T16:30:13.275188Z",
     "iopub.status.idle": "2025-08-05T16:30:13.925743Z",
     "shell.execute_reply": "2025-08-05T16:30:13.924628Z"
    },
    "papermill": {
     "duration": 0.676514,
     "end_time": "2025-08-05T16:30:13.927925",
     "exception": false,
     "start_time": "2025-08-05T16:30:13.251411",
     "status": "completed"
    },
    "tags": []
   },
   "outputs": [],
   "source": [
    "from fairness_multiverse.universe import sample_by_year_size\n",
    "\n",
    "siab_train = sample_by_year_size(siab,\n",
    "                               training_year=universe[\"training_year\"],\n",
    "                               training_size=universe[\"training_size\"])"
   ]
  },
  {
   "cell_type": "code",
   "execution_count": 12,
   "id": "8d3afb32-789d-442c-8d5d-9f5aa8dd2eed",
   "metadata": {
    "execution": {
     "iopub.execute_input": "2025-08-05T16:30:13.972491Z",
     "iopub.status.busy": "2025-08-05T16:30:13.971450Z",
     "iopub.status.idle": "2025-08-05T16:30:13.978265Z",
     "shell.execute_reply": "2025-08-05T16:30:13.976380Z"
    },
    "papermill": {
     "duration": 0.03328,
     "end_time": "2025-08-05T16:30:13.983049",
     "exception": false,
     "start_time": "2025-08-05T16:30:13.949769",
     "status": "completed"
    },
    "tags": []
   },
   "outputs": [],
   "source": [
    "#siab_train.shape"
   ]
  },
  {
   "cell_type": "code",
   "execution_count": 13,
   "id": "d582db68-1a4c-47fb-84fc-08518dc1975a",
   "metadata": {
    "execution": {
     "iopub.execute_input": "2025-08-05T16:30:14.019237Z",
     "iopub.status.busy": "2025-08-05T16:30:14.018784Z",
     "iopub.status.idle": "2025-08-05T16:30:14.023813Z",
     "shell.execute_reply": "2025-08-05T16:30:14.022859Z"
    },
    "papermill": {
     "duration": 0.019563,
     "end_time": "2025-08-05T16:30:14.025545",
     "exception": false,
     "start_time": "2025-08-05T16:30:14.005982",
     "status": "completed"
    },
    "tags": []
   },
   "outputs": [],
   "source": [
    "#display(siab_train.groupby(\"year\").size())"
   ]
  },
  {
   "cell_type": "code",
   "execution_count": 14,
   "id": "a561edb4-d032-42cb-8256-22eac1111c64",
   "metadata": {
    "execution": {
     "iopub.execute_input": "2025-08-05T16:30:14.050522Z",
     "iopub.status.busy": "2025-08-05T16:30:14.050092Z",
     "iopub.status.idle": "2025-08-05T16:30:14.308401Z",
     "shell.execute_reply": "2025-08-05T16:30:14.307142Z"
    },
    "papermill": {
     "duration": 0.273283,
     "end_time": "2025-08-05T16:30:14.310903",
     "exception": false,
     "start_time": "2025-08-05T16:30:14.037620",
     "status": "completed"
    },
    "tags": []
   },
   "outputs": [],
   "source": [
    "#siab_train = siab_s[siab_s.year < 2015]\n",
    "siab_calib = siab[siab.year == 2015]\n",
    "siab_test = siab[siab.year == 2016]"
   ]
  },
  {
   "cell_type": "code",
   "execution_count": 15,
   "id": "472de16f-c3db-4916-846b-1f0de9cf1746",
   "metadata": {
    "execution": {
     "iopub.execute_input": "2025-08-05T16:30:14.367312Z",
     "iopub.status.busy": "2025-08-05T16:30:14.366668Z",
     "iopub.status.idle": "2025-08-05T16:30:14.375021Z",
     "shell.execute_reply": "2025-08-05T16:30:14.373759Z"
    },
    "papermill": {
     "duration": 0.03935,
     "end_time": "2025-08-05T16:30:14.377601",
     "exception": false,
     "start_time": "2025-08-05T16:30:14.338251",
     "status": "completed"
    },
    "tags": []
   },
   "outputs": [],
   "source": [
    "X_train = siab_train.iloc[:,4:164]\n",
    "y_train = siab_train.iloc[:, [3]]"
   ]
  },
  {
   "cell_type": "code",
   "execution_count": 16,
   "id": "828c96af-f43a-4ed6-ba47-8ac73a47d56c",
   "metadata": {
    "execution": {
     "iopub.execute_input": "2025-08-05T16:30:14.432809Z",
     "iopub.status.busy": "2025-08-05T16:30:14.432003Z",
     "iopub.status.idle": "2025-08-05T16:30:14.508325Z",
     "shell.execute_reply": "2025-08-05T16:30:14.506932Z"
    },
    "papermill": {
     "duration": 0.106678,
     "end_time": "2025-08-05T16:30:14.511262",
     "exception": false,
     "start_time": "2025-08-05T16:30:14.404584",
     "status": "completed"
    },
    "tags": []
   },
   "outputs": [],
   "source": [
    "X_calib = siab_calib.iloc[:,4:164]\n",
    "y_calib = siab_calib.iloc[:, [3]]"
   ]
  },
  {
   "cell_type": "code",
   "execution_count": 17,
   "id": "c34be9c3-6bd6-476e-acd3-845840e303be",
   "metadata": {
    "execution": {
     "iopub.execute_input": "2025-08-05T16:30:14.573023Z",
     "iopub.status.busy": "2025-08-05T16:30:14.572119Z",
     "iopub.status.idle": "2025-08-05T16:30:14.659716Z",
     "shell.execute_reply": "2025-08-05T16:30:14.658240Z"
    },
    "papermill": {
     "duration": 0.12327,
     "end_time": "2025-08-05T16:30:14.662391",
     "exception": false,
     "start_time": "2025-08-05T16:30:14.539121",
     "status": "completed"
    },
    "tags": []
   },
   "outputs": [],
   "source": [
    "X_test = siab_test.iloc[:,4:164]\n",
    "y_true = siab_test.iloc[:, [3]]"
   ]
  },
  {
   "cell_type": "code",
   "execution_count": 18,
   "id": "e6c733c5",
   "metadata": {
    "execution": {
     "iopub.execute_input": "2025-08-05T16:30:14.726035Z",
     "iopub.status.busy": "2025-08-05T16:30:14.725050Z",
     "iopub.status.idle": "2025-08-05T16:30:14.833087Z",
     "shell.execute_reply": "2025-08-05T16:30:14.831713Z"
    },
    "papermill": {
     "duration": 0.142669,
     "end_time": "2025-08-05T16:30:14.836132",
     "exception": false,
     "start_time": "2025-08-05T16:30:14.693463",
     "status": "completed"
    },
    "tags": []
   },
   "outputs": [],
   "source": [
    "# Auxiliary data needed downstream in the pipeline\n",
    "\n",
    "org_train = X_train.copy()\n",
    "org_test = X_test.copy()\n",
    "org_calib = X_calib.copy()"
   ]
  },
  {
   "cell_type": "markdown",
   "id": "0a4a1b33",
   "metadata": {
    "papermill": {
     "duration": 0.029664,
     "end_time": "2025-08-05T16:30:14.896958",
     "exception": false,
     "start_time": "2025-08-05T16:30:14.867294",
     "status": "completed"
    },
    "tags": []
   },
   "source": [
    "# Preprocessing Data"
   ]
  },
  {
   "cell_type": "code",
   "execution_count": 19,
   "id": "ca879031",
   "metadata": {
    "execution": {
     "iopub.execute_input": "2025-08-05T16:30:14.959448Z",
     "iopub.status.busy": "2025-08-05T16:30:14.958980Z",
     "iopub.status.idle": "2025-08-05T16:30:14.966927Z",
     "shell.execute_reply": "2025-08-05T16:30:14.965562Z"
    },
    "papermill": {
     "duration": 0.042239,
     "end_time": "2025-08-05T16:30:14.969006",
     "exception": false,
     "start_time": "2025-08-05T16:30:14.926767",
     "status": "completed"
    },
    "tags": []
   },
   "outputs": [],
   "source": [
    "# EXCLUDE PROTECTED FEATURES\n",
    "# ----------------------\n",
    "# \"exclude_features\": \"none\", # \"nationality\", \"sex\", \"nationality-sex\"\n",
    "\n",
    "excluded_features = universe[\"exclude_features\"].split(\"-\") # split, e.g.: \"nationality-sex\" -> [\"nationality\", \"sex\"]\n",
    "excluded_features_dictionary = {\n",
    "    \"nationality\": [\"maxdeutsch1\", \"maxdeutsch.Missing.\"],\n",
    "    \"sex\": [\"frau1\"],\n",
    "    \"age\": [\"age\"],\n",
    "}"
   ]
  },
  {
   "cell_type": "code",
   "execution_count": 20,
   "id": "b745ac60",
   "metadata": {
    "execution": {
     "iopub.execute_input": "2025-08-05T16:30:15.015946Z",
     "iopub.status.busy": "2025-08-05T16:30:15.014834Z",
     "iopub.status.idle": "2025-08-05T16:30:15.023462Z",
     "shell.execute_reply": "2025-08-05T16:30:15.022102Z"
    },
    "papermill": {
     "duration": 0.034019,
     "end_time": "2025-08-05T16:30:15.025394",
     "exception": false,
     "start_time": "2025-08-05T16:30:14.991375",
     "status": "completed"
    },
    "tags": []
   },
   "outputs": [],
   "source": [
    "# Code nice names to column names\n",
    "\n",
    "excluded_features_columns = [\n",
    "    excluded_features_dictionary[f] for f in excluded_features if len(f) > 0 and f != \"none\"\n",
    "]"
   ]
  },
  {
   "cell_type": "code",
   "execution_count": 21,
   "id": "f84f73a2",
   "metadata": {
    "execution": {
     "iopub.execute_input": "2025-08-05T16:30:15.070436Z",
     "iopub.status.busy": "2025-08-05T16:30:15.069257Z",
     "iopub.status.idle": "2025-08-05T16:30:15.078775Z",
     "shell.execute_reply": "2025-08-05T16:30:15.077447Z"
    },
    "papermill": {
     "duration": 0.03441,
     "end_time": "2025-08-05T16:30:15.080784",
     "exception": false,
     "start_time": "2025-08-05T16:30:15.046374",
     "status": "completed"
    },
    "tags": []
   },
   "outputs": [],
   "source": [
    "from utils import flatten_once\n",
    "\n",
    "excluded_features_columns = flatten_once(excluded_features_columns)"
   ]
  },
  {
   "cell_type": "code",
   "execution_count": 22,
   "id": "884dea22",
   "metadata": {
    "execution": {
     "iopub.execute_input": "2025-08-05T16:30:15.126414Z",
     "iopub.status.busy": "2025-08-05T16:30:15.125537Z",
     "iopub.status.idle": "2025-08-05T16:30:15.137723Z",
     "shell.execute_reply": "2025-08-05T16:30:15.136481Z"
    },
    "papermill": {
     "duration": 0.037618,
     "end_time": "2025-08-05T16:30:15.139838",
     "exception": false,
     "start_time": "2025-08-05T16:30:15.102220",
     "status": "completed"
    },
    "tags": []
   },
   "outputs": [
    {
     "name": "stdout",
     "output_type": "stream",
     "text": [
      "Dropping features: ['frau1']\n"
     ]
    }
   ],
   "source": [
    "if len(excluded_features_columns) > 0:\n",
    "    print(f\"Dropping features: {excluded_features_columns}\")\n",
    "    X_train.drop(excluded_features_columns, axis=1, inplace=True)"
   ]
  },
  {
   "cell_type": "code",
   "execution_count": 23,
   "id": "95ab8b16",
   "metadata": {
    "execution": {
     "iopub.execute_input": "2025-08-05T16:30:15.185557Z",
     "iopub.status.busy": "2025-08-05T16:30:15.184611Z",
     "iopub.status.idle": "2025-08-05T16:30:15.280136Z",
     "shell.execute_reply": "2025-08-05T16:30:15.278833Z"
    },
    "papermill": {
     "duration": 0.121225,
     "end_time": "2025-08-05T16:30:15.282233",
     "exception": false,
     "start_time": "2025-08-05T16:30:15.161008",
     "status": "completed"
    },
    "tags": []
   },
   "outputs": [
    {
     "name": "stdout",
     "output_type": "stream",
     "text": [
      "Dropping features: ['frau1']\n"
     ]
    }
   ],
   "source": [
    "if len(excluded_features_columns) > 0:\n",
    "    print(f\"Dropping features: {excluded_features_columns}\")\n",
    "    X_test.drop(excluded_features_columns, axis=1, inplace=True)"
   ]
  },
  {
   "cell_type": "code",
   "execution_count": 24,
   "id": "1853aaf5-fb9f-46cb-a2b5-8ea4ae2237e4",
   "metadata": {
    "execution": {
     "iopub.execute_input": "2025-08-05T16:30:15.328607Z",
     "iopub.status.busy": "2025-08-05T16:30:15.327448Z",
     "iopub.status.idle": "2025-08-05T16:30:15.418952Z",
     "shell.execute_reply": "2025-08-05T16:30:15.417469Z"
    },
    "papermill": {
     "duration": 0.116027,
     "end_time": "2025-08-05T16:30:15.420936",
     "exception": false,
     "start_time": "2025-08-05T16:30:15.304909",
     "status": "completed"
    },
    "tags": []
   },
   "outputs": [
    {
     "name": "stdout",
     "output_type": "stream",
     "text": [
      "Dropping features: ['frau1']"
     ]
    },
    {
     "name": "stdout",
     "output_type": "stream",
     "text": [
      "\n"
     ]
    }
   ],
   "source": [
    "if len(excluded_features_columns) > 0:\n",
    "    print(f\"Dropping features: {excluded_features_columns}\")\n",
    "    X_calib.drop(excluded_features_columns, axis=1, inplace=True)"
   ]
  },
  {
   "cell_type": "code",
   "execution_count": 25,
   "id": "76c4dc6d",
   "metadata": {
    "execution": {
     "iopub.execute_input": "2025-08-05T16:30:15.467845Z",
     "iopub.status.busy": "2025-08-05T16:30:15.466656Z",
     "iopub.status.idle": "2025-08-05T16:30:15.475428Z",
     "shell.execute_reply": "2025-08-05T16:30:15.474076Z"
    },
    "papermill": {
     "duration": 0.034369,
     "end_time": "2025-08-05T16:30:15.477428",
     "exception": false,
     "start_time": "2025-08-05T16:30:15.443059",
     "status": "completed"
    },
    "tags": []
   },
   "outputs": [],
   "source": [
    "# EXCLUDE CERTAIN SUBGROUPS\n",
    "# ----------------------\n",
    "\n",
    "mode = universe.get(\"exclude_subgroups\", \"keep-all\") \n",
    "# Fetches the exclude_subgroups setting from the universe dict.\n",
    "# Defaults to \"keep-all\" if the key is missing."
   ]
  },
  {
   "cell_type": "code",
   "execution_count": 26,
   "id": "21994072",
   "metadata": {
    "execution": {
     "iopub.execute_input": "2025-08-05T16:30:15.523819Z",
     "iopub.status.busy": "2025-08-05T16:30:15.523385Z",
     "iopub.status.idle": "2025-08-05T16:30:15.530826Z",
     "shell.execute_reply": "2025-08-05T16:30:15.529674Z"
    },
    "papermill": {
     "duration": 0.033801,
     "end_time": "2025-08-05T16:30:15.533290",
     "exception": false,
     "start_time": "2025-08-05T16:30:15.499489",
     "status": "completed"
    },
    "tags": []
   },
   "outputs": [],
   "source": [
    "if mode == \"keep-all\":\n",
    "    keep_mask = pd.Series(True, index=org_train.index)\n",
    "\n",
    "# org_train contains the original feature columns from features_org (in Simson)\n",
    "# features_org contains unprocessed features, for me X_train at beginning ???\n",
    "# For keep-all, creates a boolean Series (keep_mask) of all True, so no rows are removed.\n",
    "\n",
    "elif mode == \"drop-non-german\":\n",
    "    keep_mask = org_train[\"maxdeutsch1\"] == 1 # ??? what about missing values?\n",
    "\n",
    "else:\n",
    "    raise ValueError(f\"Unsupported mode for exclude_subgroups: {mode}\")"
   ]
  },
  {
   "cell_type": "code",
   "execution_count": 27,
   "id": "71651440",
   "metadata": {
    "execution": {
     "iopub.execute_input": "2025-08-05T16:30:15.599122Z",
     "iopub.status.busy": "2025-08-05T16:30:15.598221Z",
     "iopub.status.idle": "2025-08-05T16:30:15.607014Z",
     "shell.execute_reply": "2025-08-05T16:30:15.605749Z"
    },
    "papermill": {
     "duration": 0.044022,
     "end_time": "2025-08-05T16:30:15.609459",
     "exception": false,
     "start_time": "2025-08-05T16:30:15.565437",
     "status": "completed"
    },
    "tags": []
   },
   "outputs": [],
   "source": [
    "n_drop = (~keep_mask).sum() # Calculates how many rows are set to be dropped\n",
    "if n_drop > 0:\n",
    "    pct = n_drop / len(keep_mask) * 100\n",
    "    print(f\"Dropping {n_drop} rows ({pct:.2f}%) where mode='{mode}'\")"
   ]
  },
  {
   "cell_type": "code",
   "execution_count": 28,
   "id": "5fb8eee5",
   "metadata": {
    "execution": {
     "iopub.execute_input": "2025-08-05T16:30:15.674935Z",
     "iopub.status.busy": "2025-08-05T16:30:15.674487Z",
     "iopub.status.idle": "2025-08-05T16:30:15.682412Z",
     "shell.execute_reply": "2025-08-05T16:30:15.681049Z"
    },
    "papermill": {
     "duration": 0.043538,
     "end_time": "2025-08-05T16:30:15.685075",
     "exception": false,
     "start_time": "2025-08-05T16:30:15.641537",
     "status": "completed"
    },
    "tags": []
   },
   "outputs": [],
   "source": [
    "X_train = X_train[keep_mask]"
   ]
  },
  {
   "cell_type": "code",
   "execution_count": 29,
   "id": "b202bb3a",
   "metadata": {
    "execution": {
     "iopub.execute_input": "2025-08-05T16:30:15.750322Z",
     "iopub.status.busy": "2025-08-05T16:30:15.749104Z",
     "iopub.status.idle": "2025-08-05T16:30:15.756033Z",
     "shell.execute_reply": "2025-08-05T16:30:15.754910Z"
    },
    "papermill": {
     "duration": 0.041269,
     "end_time": "2025-08-05T16:30:15.758140",
     "exception": false,
     "start_time": "2025-08-05T16:30:15.716871",
     "status": "completed"
    },
    "tags": []
   },
   "outputs": [],
   "source": [
    "y_train = y_train[keep_mask]"
   ]
  },
  {
   "cell_type": "markdown",
   "id": "493e2ac3",
   "metadata": {
    "papermill": {
     "duration": 0.013799,
     "end_time": "2025-08-05T16:30:15.794242",
     "exception": false,
     "start_time": "2025-08-05T16:30:15.780443",
     "status": "completed"
    },
    "tags": []
   },
   "source": [
    "# Model Training"
   ]
  },
  {
   "cell_type": "code",
   "execution_count": 30,
   "id": "679e1268",
   "metadata": {
    "execution": {
     "iopub.execute_input": "2025-08-05T16:30:15.819081Z",
     "iopub.status.busy": "2025-08-05T16:30:15.818372Z",
     "iopub.status.idle": "2025-08-05T16:30:15.907399Z",
     "shell.execute_reply": "2025-08-05T16:30:15.906501Z"
    },
    "papermill": {
     "duration": 0.103074,
     "end_time": "2025-08-05T16:30:15.909034",
     "exception": false,
     "start_time": "2025-08-05T16:30:15.805960",
     "status": "completed"
    },
    "tags": []
   },
   "outputs": [],
   "source": [
    "from sklearn.linear_model import LogisticRegression\n",
    "from sklearn.ensemble import GradientBoostingClassifier, RandomForestClassifier\n",
    "\n",
    "if (universe[\"model\"] == \"logreg\"):\n",
    "    model = LogisticRegression() #penalty=\"none\", solver=\"newton-cg\", max_iter=1) # include random_state=19 ?\n",
    "elif (universe[\"model\"] == \"penalized_logreg\"):\n",
    "    model = LogisticRegression(penalty=\"l2\", C=0.1) #, solver=\"newton-cg\", max_iter=1)\n",
    "elif (universe[\"model\"] == \"rf\"):\n",
    "    model = RandomForestClassifier() # n_estimators=100, n_jobs=-1\n",
    "elif (universe[\"model\"] == \"gbm\"):\n",
    "    model = GradientBoostingClassifier()\n",
    "elif (universe[\"model\"] == \"elasticnet\"):\n",
    "    model = LogisticRegression(penalty = 'elasticnet', solver = 'saga', l1_ratio = 0.5) # max_iter=5000\n",
    "else:\n",
    "    raise \"Unsupported universe.model\""
   ]
  },
  {
   "cell_type": "code",
   "execution_count": 31,
   "id": "0cc8f744",
   "metadata": {
    "execution": {
     "iopub.execute_input": "2025-08-05T16:30:15.935807Z",
     "iopub.status.busy": "2025-08-05T16:30:15.935193Z",
     "iopub.status.idle": "2025-08-05T16:30:15.940836Z",
     "shell.execute_reply": "2025-08-05T16:30:15.939898Z"
    },
    "papermill": {
     "duration": 0.019955,
     "end_time": "2025-08-05T16:30:15.942247",
     "exception": false,
     "start_time": "2025-08-05T16:30:15.922292",
     "status": "completed"
    },
    "tags": []
   },
   "outputs": [],
   "source": [
    "import numpy as np\n",
    "from sklearn.pipeline import Pipeline\n",
    "from sklearn.preprocessing import StandardScaler\n",
    "\n",
    "model = Pipeline([\n",
    "    #(\"continuous_processor\", continuous_processor),\n",
    "    #(\"categorical_preprocessor\", categorical_preprocessor),\n",
    "    (\"scale\", StandardScaler() if universe[\"scale\"] == \"scale\" else None), \n",
    "    (\"model\", model),\n",
    "])"
   ]
  },
  {
   "cell_type": "code",
   "execution_count": 32,
   "id": "9442c04d",
   "metadata": {
    "execution": {
     "iopub.execute_input": "2025-08-05T16:30:15.997872Z",
     "iopub.status.busy": "2025-08-05T16:30:15.997308Z",
     "iopub.status.idle": "2025-08-05T16:30:16.540136Z",
     "shell.execute_reply": "2025-08-05T16:30:16.539148Z"
    },
    "papermill": {
     "duration": 0.576239,
     "end_time": "2025-08-05T16:30:16.541652",
     "exception": false,
     "start_time": "2025-08-05T16:30:15.965413",
     "status": "completed"
    },
    "tags": []
   },
   "outputs": [
    {
     "name": "stderr",
     "output_type": "stream",
     "text": [
      "/dss/dsshome1/0C/ra93lal2/.local/share/virtualenvs/CMA_Fairness_v2-3j10GkSs/lib/python3.10/site-packages/sklearn/linear_model/_sag.py:350: ConvergenceWarning: The max_iter was reached which means the coef_ did not converge\n",
      "  warnings.warn(\n"
     ]
    },
    {
     "data": {
      "text/html": [
       "<style>#sk-container-id-1 {color: black;background-color: white;}#sk-container-id-1 pre{padding: 0;}#sk-container-id-1 div.sk-toggleable {background-color: white;}#sk-container-id-1 label.sk-toggleable__label {cursor: pointer;display: block;width: 100%;margin-bottom: 0;padding: 0.3em;box-sizing: border-box;text-align: center;}#sk-container-id-1 label.sk-toggleable__label-arrow:before {content: \"▸\";float: left;margin-right: 0.25em;color: #696969;}#sk-container-id-1 label.sk-toggleable__label-arrow:hover:before {color: black;}#sk-container-id-1 div.sk-estimator:hover label.sk-toggleable__label-arrow:before {color: black;}#sk-container-id-1 div.sk-toggleable__content {max-height: 0;max-width: 0;overflow: hidden;text-align: left;background-color: #f0f8ff;}#sk-container-id-1 div.sk-toggleable__content pre {margin: 0.2em;color: black;border-radius: 0.25em;background-color: #f0f8ff;}#sk-container-id-1 input.sk-toggleable__control:checked~div.sk-toggleable__content {max-height: 200px;max-width: 100%;overflow: auto;}#sk-container-id-1 input.sk-toggleable__control:checked~label.sk-toggleable__label-arrow:before {content: \"▾\";}#sk-container-id-1 div.sk-estimator input.sk-toggleable__control:checked~label.sk-toggleable__label {background-color: #d4ebff;}#sk-container-id-1 div.sk-label input.sk-toggleable__control:checked~label.sk-toggleable__label {background-color: #d4ebff;}#sk-container-id-1 input.sk-hidden--visually {border: 0;clip: rect(1px 1px 1px 1px);clip: rect(1px, 1px, 1px, 1px);height: 1px;margin: -1px;overflow: hidden;padding: 0;position: absolute;width: 1px;}#sk-container-id-1 div.sk-estimator {font-family: monospace;background-color: #f0f8ff;border: 1px dotted black;border-radius: 0.25em;box-sizing: border-box;margin-bottom: 0.5em;}#sk-container-id-1 div.sk-estimator:hover {background-color: #d4ebff;}#sk-container-id-1 div.sk-parallel-item::after {content: \"\";width: 100%;border-bottom: 1px solid gray;flex-grow: 1;}#sk-container-id-1 div.sk-label:hover label.sk-toggleable__label {background-color: #d4ebff;}#sk-container-id-1 div.sk-serial::before {content: \"\";position: absolute;border-left: 1px solid gray;box-sizing: border-box;top: 0;bottom: 0;left: 50%;z-index: 0;}#sk-container-id-1 div.sk-serial {display: flex;flex-direction: column;align-items: center;background-color: white;padding-right: 0.2em;padding-left: 0.2em;position: relative;}#sk-container-id-1 div.sk-item {position: relative;z-index: 1;}#sk-container-id-1 div.sk-parallel {display: flex;align-items: stretch;justify-content: center;background-color: white;position: relative;}#sk-container-id-1 div.sk-item::before, #sk-container-id-1 div.sk-parallel-item::before {content: \"\";position: absolute;border-left: 1px solid gray;box-sizing: border-box;top: 0;bottom: 0;left: 50%;z-index: -1;}#sk-container-id-1 div.sk-parallel-item {display: flex;flex-direction: column;z-index: 1;position: relative;background-color: white;}#sk-container-id-1 div.sk-parallel-item:first-child::after {align-self: flex-end;width: 50%;}#sk-container-id-1 div.sk-parallel-item:last-child::after {align-self: flex-start;width: 50%;}#sk-container-id-1 div.sk-parallel-item:only-child::after {width: 0;}#sk-container-id-1 div.sk-dashed-wrapped {border: 1px dashed gray;margin: 0 0.4em 0.5em 0.4em;box-sizing: border-box;padding-bottom: 0.4em;background-color: white;}#sk-container-id-1 div.sk-label label {font-family: monospace;font-weight: bold;display: inline-block;line-height: 1.2em;}#sk-container-id-1 div.sk-label-container {text-align: center;}#sk-container-id-1 div.sk-container {/* jupyter's `normalize.less` sets `[hidden] { display: none; }` but bootstrap.min.css set `[hidden] { display: none !important; }` so we also need the `!important` here to be able to override the default hidden behavior on the sphinx rendered scikit-learn.org. See: https://github.com/scikit-learn/scikit-learn/issues/21755 */display: inline-block !important;position: relative;}#sk-container-id-1 div.sk-text-repr-fallback {display: none;}</style><div id=\"sk-container-id-1\" class=\"sk-top-container\"><div class=\"sk-text-repr-fallback\"><pre>Pipeline(steps=[(&#x27;scale&#x27;, None),\n",
       "                (&#x27;model&#x27;,\n",
       "                 LogisticRegression(l1_ratio=0.5, penalty=&#x27;elasticnet&#x27;,\n",
       "                                    solver=&#x27;saga&#x27;))])</pre><b>In a Jupyter environment, please rerun this cell to show the HTML representation or trust the notebook. <br />On GitHub, the HTML representation is unable to render, please try loading this page with nbviewer.org.</b></div><div class=\"sk-container\" hidden><div class=\"sk-item sk-dashed-wrapped\"><div class=\"sk-label-container\"><div class=\"sk-label sk-toggleable\"><input class=\"sk-toggleable__control sk-hidden--visually\" id=\"sk-estimator-id-1\" type=\"checkbox\" ><label for=\"sk-estimator-id-1\" class=\"sk-toggleable__label sk-toggleable__label-arrow\">Pipeline</label><div class=\"sk-toggleable__content\"><pre>Pipeline(steps=[(&#x27;scale&#x27;, None),\n",
       "                (&#x27;model&#x27;,\n",
       "                 LogisticRegression(l1_ratio=0.5, penalty=&#x27;elasticnet&#x27;,\n",
       "                                    solver=&#x27;saga&#x27;))])</pre></div></div></div><div class=\"sk-serial\"><div class=\"sk-item\"><div class=\"sk-estimator sk-toggleable\"><input class=\"sk-toggleable__control sk-hidden--visually\" id=\"sk-estimator-id-2\" type=\"checkbox\" ><label for=\"sk-estimator-id-2\" class=\"sk-toggleable__label sk-toggleable__label-arrow\">None</label><div class=\"sk-toggleable__content\"><pre>None</pre></div></div></div><div class=\"sk-item\"><div class=\"sk-estimator sk-toggleable\"><input class=\"sk-toggleable__control sk-hidden--visually\" id=\"sk-estimator-id-3\" type=\"checkbox\" ><label for=\"sk-estimator-id-3\" class=\"sk-toggleable__label sk-toggleable__label-arrow\">LogisticRegression</label><div class=\"sk-toggleable__content\"><pre>LogisticRegression(l1_ratio=0.5, penalty=&#x27;elasticnet&#x27;, solver=&#x27;saga&#x27;)</pre></div></div></div></div></div></div></div>"
      ],
      "text/plain": [
       "Pipeline(steps=[('scale', None),\n",
       "                ('model',\n",
       "                 LogisticRegression(l1_ratio=0.5, penalty='elasticnet',\n",
       "                                    solver='saga'))])"
      ]
     },
     "execution_count": 32,
     "metadata": {},
     "output_type": "execute_result"
    }
   ],
   "source": [
    "model.fit(X_train, y_train.values.ravel())"
   ]
  },
  {
   "cell_type": "code",
   "execution_count": 33,
   "id": "af59f8c0",
   "metadata": {
    "execution": {
     "iopub.execute_input": "2025-08-05T16:30:16.569140Z",
     "iopub.status.busy": "2025-08-05T16:30:16.568744Z",
     "iopub.status.idle": "2025-08-05T16:30:16.573999Z",
     "shell.execute_reply": "2025-08-05T16:30:16.572526Z"
    },
    "papermill": {
     "duration": 0.022233,
     "end_time": "2025-08-05T16:30:16.577489",
     "exception": false,
     "start_time": "2025-08-05T16:30:16.555256",
     "status": "completed"
    },
    "tags": []
   },
   "outputs": [],
   "source": [
    "from fairness_multiverse.universe import predict_w_threshold"
   ]
  },
  {
   "cell_type": "code",
   "execution_count": 34,
   "id": "a7cf2e16",
   "metadata": {
    "execution": {
     "iopub.execute_input": "2025-08-05T16:30:16.626713Z",
     "iopub.status.busy": "2025-08-05T16:30:16.626203Z",
     "iopub.status.idle": "2025-08-05T16:30:16.739537Z",
     "shell.execute_reply": "2025-08-05T16:30:16.738308Z"
    },
    "papermill": {
     "duration": 0.141684,
     "end_time": "2025-08-05T16:30:16.741892",
     "exception": false,
     "start_time": "2025-08-05T16:30:16.600208",
     "status": "completed"
    },
    "tags": []
   },
   "outputs": [
    {
     "data": {
      "text/plain": [
       "0.8667707056069558"
      ]
     },
     "execution_count": 34,
     "metadata": {},
     "output_type": "execute_result"
    }
   ],
   "source": [
    "probs_test = model.predict_proba(X_test)\n",
    "\n",
    "'''\n",
    "Below code returns a boolean array (or binary 0/1 array depending on how it’s used) where each element \n",
    "is True if the probability of class 1 is greater than or equal to the threshold, and False otherwise.\n",
    "'''\n",
    "y_pred_default = predict_w_threshold(probs_test, 0.5)\n",
    "\n",
    "from sklearn.metrics import accuracy_score\n",
    "\n",
    "# Naive prediction\n",
    "accuracy_score(y_true = y_true, y_pred = y_pred_default)"
   ]
  },
  {
   "cell_type": "code",
   "execution_count": 35,
   "id": "081964c3",
   "metadata": {
    "execution": {
     "iopub.execute_input": "2025-08-05T16:30:16.797068Z",
     "iopub.status.busy": "2025-08-05T16:30:16.796011Z",
     "iopub.status.idle": "2025-08-05T16:30:16.890159Z",
     "shell.execute_reply": "2025-08-05T16:30:16.888977Z"
    },
    "papermill": {
     "duration": 0.126897,
     "end_time": "2025-08-05T16:30:16.895249",
     "exception": false,
     "start_time": "2025-08-05T16:30:16.768352",
     "status": "completed"
    },
    "tags": []
   },
   "outputs": [
    {
     "data": {
      "text/plain": [
       "array([0, 0, 0, ..., 0, 0, 0])"
      ]
     },
     "execution_count": 35,
     "metadata": {},
     "output_type": "execute_result"
    }
   ],
   "source": [
    "model.predict(X_test)"
   ]
  },
  {
   "cell_type": "markdown",
   "id": "56c9705b",
   "metadata": {
    "papermill": {
     "duration": 0.027491,
     "end_time": "2025-08-05T16:30:16.948000",
     "exception": false,
     "start_time": "2025-08-05T16:30:16.920509",
     "status": "completed"
    },
    "tags": []
   },
   "source": [
    "# Conformal Prediction"
   ]
  },
  {
   "cell_type": "code",
   "execution_count": 36,
   "id": "160ec6ff",
   "metadata": {
    "execution": {
     "iopub.execute_input": "2025-08-05T16:30:17.011459Z",
     "iopub.status.busy": "2025-08-05T16:30:17.010747Z",
     "iopub.status.idle": "2025-08-05T16:30:17.015983Z",
     "shell.execute_reply": "2025-08-05T16:30:17.015051Z"
    },
    "papermill": {
     "duration": 0.044797,
     "end_time": "2025-08-05T16:30:17.017659",
     "exception": false,
     "start_time": "2025-08-05T16:30:16.972862",
     "status": "completed"
    },
    "tags": []
   },
   "outputs": [],
   "source": [
    "# Miscoverage level for conformal prediction (10% allowed error rate => 90% target coverage)\n",
    "alpha = 0.1"
   ]
  },
  {
   "cell_type": "code",
   "execution_count": 37,
   "id": "eadf4555-3dd3-440e-8e35-f82a4ad9f855",
   "metadata": {
    "execution": {
     "iopub.execute_input": "2025-08-05T16:30:17.074352Z",
     "iopub.status.busy": "2025-08-05T16:30:17.073844Z",
     "iopub.status.idle": "2025-08-05T16:30:17.163578Z",
     "shell.execute_reply": "2025-08-05T16:30:17.162508Z"
    },
    "papermill": {
     "duration": 0.122492,
     "end_time": "2025-08-05T16:30:17.165659",
     "exception": false,
     "start_time": "2025-08-05T16:30:17.043167",
     "status": "completed"
    },
    "tags": []
   },
   "outputs": [],
   "source": [
    "probs_calib = model.predict_proba(X_calib)"
   ]
  },
  {
   "cell_type": "code",
   "execution_count": 38,
   "id": "2ed93547-6d5d-4983-9b36-1ecb300da49a",
   "metadata": {
    "execution": {
     "iopub.execute_input": "2025-08-05T16:30:17.227315Z",
     "iopub.status.busy": "2025-08-05T16:30:17.226771Z",
     "iopub.status.idle": "2025-08-05T16:30:17.234554Z",
     "shell.execute_reply": "2025-08-05T16:30:17.233489Z"
    },
    "papermill": {
     "duration": 0.047124,
     "end_time": "2025-08-05T16:30:17.236345",
     "exception": false,
     "start_time": "2025-08-05T16:30:17.189221",
     "status": "completed"
    },
    "tags": []
   },
   "outputs": [],
   "source": [
    "y_calib = y_calib.values.ravel().astype(int)"
   ]
  },
  {
   "cell_type": "code",
   "execution_count": 39,
   "id": "65d1320d-f588-4b38-9072-62af1ae97f7d",
   "metadata": {
    "execution": {
     "iopub.execute_input": "2025-08-05T16:30:17.287453Z",
     "iopub.status.busy": "2025-08-05T16:30:17.286657Z",
     "iopub.status.idle": "2025-08-05T16:30:17.294833Z",
     "shell.execute_reply": "2025-08-05T16:30:17.293824Z"
    },
    "papermill": {
     "duration": 0.036687,
     "end_time": "2025-08-05T16:30:17.296710",
     "exception": false,
     "start_time": "2025-08-05T16:30:17.260023",
     "status": "completed"
    },
    "tags": []
   },
   "outputs": [],
   "source": [
    "from fairness_multiverse.conformal import compute_nc_scores\n",
    "\n",
    "# Compute nonconformity scores on calibration set (1 - probability of true class)\n",
    "nc_scores = compute_nc_scores(probs_calib, y_calib)"
   ]
  },
  {
   "cell_type": "code",
   "execution_count": 40,
   "id": "df3b8ca3-53b7-43d5-9667-7c85da7aeda2",
   "metadata": {
    "execution": {
     "iopub.execute_input": "2025-08-05T16:30:17.345326Z",
     "iopub.status.busy": "2025-08-05T16:30:17.344758Z",
     "iopub.status.idle": "2025-08-05T16:30:17.352368Z",
     "shell.execute_reply": "2025-08-05T16:30:17.351246Z"
    },
    "papermill": {
     "duration": 0.033484,
     "end_time": "2025-08-05T16:30:17.354352",
     "exception": false,
     "start_time": "2025-08-05T16:30:17.320868",
     "status": "completed"
    },
    "tags": []
   },
   "outputs": [],
   "source": [
    "from fairness_multiverse.conformal import find_threshold\n",
    "\n",
    "# Find conformal threshold q_hat for the given alpha (split conformal method)\n",
    "q_hat = find_threshold(nc_scores, alpha)"
   ]
  },
  {
   "cell_type": "code",
   "execution_count": 41,
   "id": "4d29e6c1-0ef6-4aa4-b8fe-4fe79b0d033a",
   "metadata": {
    "execution": {
     "iopub.execute_input": "2025-08-05T16:30:17.402975Z",
     "iopub.status.busy": "2025-08-05T16:30:17.402112Z",
     "iopub.status.idle": "2025-08-05T16:30:17.409732Z",
     "shell.execute_reply": "2025-08-05T16:30:17.408739Z"
    },
    "papermill": {
     "duration": 0.033478,
     "end_time": "2025-08-05T16:30:17.411546",
     "exception": false,
     "start_time": "2025-08-05T16:30:17.378068",
     "status": "completed"
    },
    "tags": []
   },
   "outputs": [
    {
     "data": {
      "text/plain": [
       "0.684346985351098"
      ]
     },
     "execution_count": 41,
     "metadata": {},
     "output_type": "execute_result"
    }
   ],
   "source": [
    "q_hat"
   ]
  },
  {
   "cell_type": "code",
   "execution_count": 42,
   "id": "92460794-cdac-4be2-ba28-f28c0515a6fb",
   "metadata": {
    "execution": {
     "iopub.execute_input": "2025-08-05T16:30:17.459905Z",
     "iopub.status.busy": "2025-08-05T16:30:17.458944Z",
     "iopub.status.idle": "2025-08-05T16:30:18.355668Z",
     "shell.execute_reply": "2025-08-05T16:30:18.354459Z"
    },
    "papermill": {
     "duration": 0.922757,
     "end_time": "2025-08-05T16:30:18.357688",
     "exception": false,
     "start_time": "2025-08-05T16:30:17.434931",
     "status": "completed"
    },
    "tags": []
   },
   "outputs": [],
   "source": [
    "from fairness_multiverse.conformal import predict_conformal_sets\n",
    "\n",
    "# Generate prediction sets for each test example\n",
    "pred_sets = predict_conformal_sets(model, X_test, q_hat)"
   ]
  },
  {
   "cell_type": "code",
   "execution_count": 43,
   "id": "d90c9a65-e6db-4f5d-80cd-e68fb7e46829",
   "metadata": {
    "execution": {
     "iopub.execute_input": "2025-08-05T16:30:18.412649Z",
     "iopub.status.busy": "2025-08-05T16:30:18.412249Z",
     "iopub.status.idle": "2025-08-05T16:30:18.418349Z",
     "shell.execute_reply": "2025-08-05T16:30:18.417252Z"
    },
    "papermill": {
     "duration": 0.048203,
     "end_time": "2025-08-05T16:30:18.431029",
     "exception": false,
     "start_time": "2025-08-05T16:30:18.382826",
     "status": "completed"
    },
    "tags": []
   },
   "outputs": [],
   "source": [
    "y_true = y_true.squeeze()"
   ]
  },
  {
   "cell_type": "code",
   "execution_count": 44,
   "id": "3a58a54a-1e68-46b9-927a-df01f18aebc8",
   "metadata": {
    "execution": {
     "iopub.execute_input": "2025-08-05T16:30:18.489870Z",
     "iopub.status.busy": "2025-08-05T16:30:18.489016Z",
     "iopub.status.idle": "2025-08-05T16:30:19.681077Z",
     "shell.execute_reply": "2025-08-05T16:30:19.680098Z"
    },
    "papermill": {
     "duration": 1.223345,
     "end_time": "2025-08-05T16:30:19.682908",
     "exception": false,
     "start_time": "2025-08-05T16:30:18.459563",
     "status": "completed"
    },
    "tags": []
   },
   "outputs": [],
   "source": [
    "from fairness_multiverse.conformal import evaluate_sets\n",
    "\n",
    "# Evaluate coverage and average set size on test data\n",
    "metrics = evaluate_sets(pred_sets, y_true)"
   ]
  },
  {
   "cell_type": "markdown",
   "id": "2b569c12-9aaa-4c88-98c9-bbcd0cf3ebb8",
   "metadata": {
    "papermill": {
     "duration": 0.013014,
     "end_time": "2025-08-05T16:30:19.710749",
     "exception": false,
     "start_time": "2025-08-05T16:30:19.697735",
     "status": "completed"
    },
    "tags": []
   },
   "source": [
    "# CP Metrics"
   ]
  },
  {
   "cell_type": "code",
   "execution_count": 45,
   "id": "5ce0a5cb-201f-45a0-ade5-94c7f0bd6095",
   "metadata": {
    "execution": {
     "iopub.execute_input": "2025-08-05T16:30:19.739681Z",
     "iopub.status.busy": "2025-08-05T16:30:19.739307Z",
     "iopub.status.idle": "2025-08-05T16:30:19.747941Z",
     "shell.execute_reply": "2025-08-05T16:30:19.746847Z"
    },
    "papermill": {
     "duration": 0.026202,
     "end_time": "2025-08-05T16:30:19.750121",
     "exception": false,
     "start_time": "2025-08-05T16:30:19.723919",
     "status": "completed"
    },
    "tags": []
   },
   "outputs": [
    {
     "data": {
      "text/plain": [
       "{'coverage': 0.9128859658900903, 'avg_size': 1.3069557462936128}"
      ]
     },
     "execution_count": 45,
     "metadata": {},
     "output_type": "execute_result"
    }
   ],
   "source": [
    "metrics"
   ]
  },
  {
   "cell_type": "code",
   "execution_count": 46,
   "id": "9b9a838d-31c9-430b-ae14-12baee460d17",
   "metadata": {
    "execution": {
     "iopub.execute_input": "2025-08-05T16:30:19.806917Z",
     "iopub.status.busy": "2025-08-05T16:30:19.805722Z",
     "iopub.status.idle": "2025-08-05T16:30:19.813501Z",
     "shell.execute_reply": "2025-08-05T16:30:19.812381Z"
    },
    "papermill": {
     "duration": 0.035996,
     "end_time": "2025-08-05T16:30:19.815212",
     "exception": false,
     "start_time": "2025-08-05T16:30:19.779216",
     "status": "completed"
    },
    "tags": []
   },
   "outputs": [],
   "source": [
    "example_universe = universe.copy()\n",
    "universe_training_year = example_universe.get(\"training_year\")\n",
    "universe_training_size = example_universe.get(\"training_size\")\n",
    "universe_scale = example_universe.get(\"scale\")\n",
    "universe_model = example_universe.get(\"model\")\n",
    "universe_exclude_features = example_universe.get(\"exclude_features\")\n",
    "universe_exclude_subgroups = example_universe.get(\"exclude_subgroups\")"
   ]
  },
  {
   "cell_type": "code",
   "execution_count": 47,
   "id": "f4b6a8ac-9dc0-4245-8a91-5b3b5999c4f9",
   "metadata": {
    "execution": {
     "iopub.execute_input": "2025-08-05T16:30:19.843735Z",
     "iopub.status.busy": "2025-08-05T16:30:19.843115Z",
     "iopub.status.idle": "2025-08-05T16:30:19.849175Z",
     "shell.execute_reply": "2025-08-05T16:30:19.848335Z"
    },
    "papermill": {
     "duration": 0.021784,
     "end_time": "2025-08-05T16:30:19.850743",
     "exception": false,
     "start_time": "2025-08-05T16:30:19.828959",
     "status": "completed"
    },
    "tags": []
   },
   "outputs": [],
   "source": [
    "cp_metrics_dict = {\n",
    "    \"universe_id\": [universe_id],\n",
    "    \"universe_training_year\": [universe_training_year],\n",
    "    \"universe_training_size\": [universe_training_size],\n",
    "    \"universe_scale\": [universe_scale],\n",
    "    \"universe_model\": [universe_model],\n",
    "    \"universe_exclude_features\": [universe_exclude_features],\n",
    "    \"universe_exclude_subgroups\": [universe_exclude_subgroups],\n",
    "    \"q_hat\": [q_hat],\n",
    "    \"coverage\": [metrics[\"coverage\"]],\n",
    "    \"avg_size\": [metrics[\"avg_size\"]],\n",
    "}"
   ]
  },
  {
   "cell_type": "code",
   "execution_count": 48,
   "id": "908acbb1-0371-4915-85ca-3fa520d2efe2",
   "metadata": {
    "execution": {
     "iopub.execute_input": "2025-08-05T16:30:19.878985Z",
     "iopub.status.busy": "2025-08-05T16:30:19.878441Z",
     "iopub.status.idle": "2025-08-05T16:30:19.885708Z",
     "shell.execute_reply": "2025-08-05T16:30:19.884886Z"
    },
    "papermill": {
     "duration": 0.022737,
     "end_time": "2025-08-05T16:30:19.887352",
     "exception": false,
     "start_time": "2025-08-05T16:30:19.864615",
     "status": "completed"
    },
    "tags": []
   },
   "outputs": [
    {
     "data": {
      "text/plain": [
       "{'universe_id': ['e6e8e7d3c49501ab1a6b770729886028'],\n",
       " 'universe_training_year': ['2012_14'],\n",
       " 'universe_training_size': ['1k'],\n",
       " 'universe_scale': ['do-not-scale'],\n",
       " 'universe_model': ['elasticnet'],\n",
       " 'universe_exclude_features': ['sex'],\n",
       " 'universe_exclude_subgroups': ['keep-all'],\n",
       " 'q_hat': [0.684346985351098],\n",
       " 'coverage': [0.9128859658900903],\n",
       " 'avg_size': [1.3069557462936128]}"
      ]
     },
     "execution_count": 48,
     "metadata": {},
     "output_type": "execute_result"
    }
   ],
   "source": [
    "cp_metrics_dict"
   ]
  },
  {
   "cell_type": "code",
   "execution_count": 49,
   "id": "33007efc-14e9-4ec6-97ac-56a455c82265",
   "metadata": {
    "execution": {
     "iopub.execute_input": "2025-08-05T16:30:19.916370Z",
     "iopub.status.busy": "2025-08-05T16:30:19.915733Z",
     "iopub.status.idle": "2025-08-05T16:30:19.921773Z",
     "shell.execute_reply": "2025-08-05T16:30:19.920900Z"
    },
    "papermill": {
     "duration": 0.022121,
     "end_time": "2025-08-05T16:30:19.923337",
     "exception": false,
     "start_time": "2025-08-05T16:30:19.901216",
     "status": "completed"
    },
    "tags": []
   },
   "outputs": [],
   "source": [
    "cp_metrics_df = pd.DataFrame(cp_metrics_dict)"
   ]
  },
  {
   "cell_type": "code",
   "execution_count": 50,
   "id": "db12611b-57b2-4910-b9d0-355adfd6e7bf",
   "metadata": {
    "execution": {
     "iopub.execute_input": "2025-08-05T16:30:19.953290Z",
     "iopub.status.busy": "2025-08-05T16:30:19.952366Z",
     "iopub.status.idle": "2025-08-05T16:30:19.968725Z",
     "shell.execute_reply": "2025-08-05T16:30:19.967857Z"
    },
    "papermill": {
     "duration": 0.032914,
     "end_time": "2025-08-05T16:30:19.970358",
     "exception": false,
     "start_time": "2025-08-05T16:30:19.937444",
     "status": "completed"
    },
    "tags": []
   },
   "outputs": [
    {
     "data": {
      "text/html": [
       "<div>\n",
       "<style scoped>\n",
       "    .dataframe tbody tr th:only-of-type {\n",
       "        vertical-align: middle;\n",
       "    }\n",
       "\n",
       "    .dataframe tbody tr th {\n",
       "        vertical-align: top;\n",
       "    }\n",
       "\n",
       "    .dataframe thead th {\n",
       "        text-align: right;\n",
       "    }\n",
       "</style>\n",
       "<table border=\"1\" class=\"dataframe\">\n",
       "  <thead>\n",
       "    <tr style=\"text-align: right;\">\n",
       "      <th></th>\n",
       "      <th>universe_id</th>\n",
       "      <th>universe_training_year</th>\n",
       "      <th>universe_training_size</th>\n",
       "      <th>universe_scale</th>\n",
       "      <th>universe_model</th>\n",
       "      <th>universe_exclude_features</th>\n",
       "      <th>universe_exclude_subgroups</th>\n",
       "      <th>q_hat</th>\n",
       "      <th>coverage</th>\n",
       "      <th>avg_size</th>\n",
       "    </tr>\n",
       "  </thead>\n",
       "  <tbody>\n",
       "    <tr>\n",
       "      <th>0</th>\n",
       "      <td>e6e8e7d3c49501ab1a6b770729886028</td>\n",
       "      <td>2012_14</td>\n",
       "      <td>1k</td>\n",
       "      <td>do-not-scale</td>\n",
       "      <td>elasticnet</td>\n",
       "      <td>sex</td>\n",
       "      <td>keep-all</td>\n",
       "      <td>0.684347</td>\n",
       "      <td>0.912886</td>\n",
       "      <td>1.306956</td>\n",
       "    </tr>\n",
       "  </tbody>\n",
       "</table>\n",
       "</div>"
      ],
      "text/plain": [
       "                        universe_id universe_training_year  \\\n",
       "0  e6e8e7d3c49501ab1a6b770729886028                2012_14   \n",
       "\n",
       "  universe_training_size universe_scale universe_model  \\\n",
       "0                     1k   do-not-scale     elasticnet   \n",
       "\n",
       "  universe_exclude_features universe_exclude_subgroups     q_hat  coverage  \\\n",
       "0                       sex                   keep-all  0.684347  0.912886   \n",
       "\n",
       "   avg_size  \n",
       "0  1.306956  "
      ]
     },
     "execution_count": 50,
     "metadata": {},
     "output_type": "execute_result"
    }
   ],
   "source": [
    "cp_metrics_df"
   ]
  },
  {
   "cell_type": "code",
   "execution_count": 51,
   "id": "b7fbde55-a0a1-47e4-9af6-fe4a17fa8c61",
   "metadata": {
    "execution": {
     "iopub.execute_input": "2025-08-05T16:30:20.000668Z",
     "iopub.status.busy": "2025-08-05T16:30:20.000002Z",
     "iopub.status.idle": "2025-08-05T16:30:20.005318Z",
     "shell.execute_reply": "2025-08-05T16:30:20.004450Z"
    },
    "papermill": {
     "duration": 0.021973,
     "end_time": "2025-08-05T16:30:20.006878",
     "exception": false,
     "start_time": "2025-08-05T16:30:19.984905",
     "status": "completed"
    },
    "tags": []
   },
   "outputs": [],
   "source": [
    "# Conditional Coverage & looking at subgroups"
   ]
  },
  {
   "cell_type": "code",
   "execution_count": 52,
   "id": "027ae886-68dd-4141-96c7-805a5450e1ef",
   "metadata": {
    "execution": {
     "iopub.execute_input": "2025-08-05T16:30:20.036289Z",
     "iopub.status.busy": "2025-08-05T16:30:20.035660Z",
     "iopub.status.idle": "2025-08-05T16:30:20.290528Z",
     "shell.execute_reply": "2025-08-05T16:30:20.289603Z"
    },
    "papermill": {
     "duration": 0.271106,
     "end_time": "2025-08-05T16:30:20.292238",
     "exception": false,
     "start_time": "2025-08-05T16:30:20.021132",
     "status": "completed"
    },
    "tags": []
   },
   "outputs": [],
   "source": [
    "from fairness_multiverse.conformal import build_cp_groups\n",
    "\n",
    "cp_groups_df = build_cp_groups(pred_sets, y_true, X_test.index, org_test)\n",
    "#needs universe_id and setting"
   ]
  },
  {
   "cell_type": "code",
   "execution_count": 53,
   "id": "6cbdab96-b2b2-45af-ad54-d0516db2e28d",
   "metadata": {
    "execution": {
     "iopub.execute_input": "2025-08-05T16:30:20.353486Z",
     "iopub.status.busy": "2025-08-05T16:30:20.352403Z",
     "iopub.status.idle": "2025-08-05T16:30:21.965718Z",
     "shell.execute_reply": "2025-08-05T16:30:21.964677Z"
    },
    "papermill": {
     "duration": 1.645712,
     "end_time": "2025-08-05T16:30:21.967913",
     "exception": false,
     "start_time": "2025-08-05T16:30:20.322201",
     "status": "completed"
    },
    "tags": []
   },
   "outputs": [],
   "source": [
    "# Define covered = 1 if true_label is in the predicted set\n",
    "cp_groups_df['covered'] = cp_groups_df.apply(\n",
    "    lambda r: int(r['true_label'] in r['pred_set']),\n",
    "    axis=1\n",
    ")"
   ]
  },
  {
   "cell_type": "code",
   "execution_count": 54,
   "id": "338ff529-1a6b-4b87-a931-8e4788d52aad",
   "metadata": {
    "execution": {
     "iopub.execute_input": "2025-08-05T16:30:22.031913Z",
     "iopub.status.busy": "2025-08-05T16:30:22.031342Z",
     "iopub.status.idle": "2025-08-05T16:30:22.036926Z",
     "shell.execute_reply": "2025-08-05T16:30:22.035846Z"
    },
    "papermill": {
     "duration": 0.039015,
     "end_time": "2025-08-05T16:30:22.038888",
     "exception": false,
     "start_time": "2025-08-05T16:30:21.999873",
     "status": "completed"
    },
    "tags": []
   },
   "outputs": [],
   "source": [
    "#cp_groups_df"
   ]
  },
  {
   "cell_type": "code",
   "execution_count": 55,
   "id": "90032e27-66df-4540-9169-4e89cfbaa758",
   "metadata": {
    "execution": {
     "iopub.execute_input": "2025-08-05T16:30:22.094173Z",
     "iopub.status.busy": "2025-08-05T16:30:22.093462Z",
     "iopub.status.idle": "2025-08-05T16:30:22.106960Z",
     "shell.execute_reply": "2025-08-05T16:30:22.105893Z"
    },
    "papermill": {
     "duration": 0.042725,
     "end_time": "2025-08-05T16:30:22.108892",
     "exception": false,
     "start_time": "2025-08-05T16:30:22.066167",
     "status": "completed"
    },
    "tags": []
   },
   "outputs": [],
   "source": [
    "subgroups = ['frau1','nongerman','nongerman_male','nongerman_female']\n",
    "\n",
    "# Conditional coverage for subgroup==1\n",
    "cond_coverage = {\n",
    "    g: cp_groups_df.loc[cp_groups_df[g]==1, 'covered'].mean()\n",
    "    for g in subgroups\n",
    "}"
   ]
  },
  {
   "cell_type": "code",
   "execution_count": 56,
   "id": "1e348fb1-b9c3-45bc-ba23-f016827a7e0d",
   "metadata": {
    "execution": {
     "iopub.execute_input": "2025-08-05T16:30:22.165444Z",
     "iopub.status.busy": "2025-08-05T16:30:22.164607Z",
     "iopub.status.idle": "2025-08-05T16:30:22.172851Z",
     "shell.execute_reply": "2025-08-05T16:30:22.171755Z"
    },
    "papermill": {
     "duration": 0.039237,
     "end_time": "2025-08-05T16:30:22.174775",
     "exception": false,
     "start_time": "2025-08-05T16:30:22.135538",
     "status": "completed"
    },
    "tags": []
   },
   "outputs": [
    {
     "data": {
      "text/plain": [
       "{'frau1': 0.9113357595363256,\n",
       " 'nongerman': 0.969460506371751,\n",
       " 'nongerman_male': 0.9773034315049987,\n",
       " 'nongerman_female': 0.9564828614008942}"
      ]
     },
     "execution_count": 56,
     "metadata": {},
     "output_type": "execute_result"
    }
   ],
   "source": [
    "cond_coverage"
   ]
  },
  {
   "cell_type": "code",
   "execution_count": 57,
   "id": "f5093324-c3dd-4d63-bc4c-8d945e5c8bbb",
   "metadata": {
    "execution": {
     "iopub.execute_input": "2025-08-05T16:30:22.233346Z",
     "iopub.status.busy": "2025-08-05T16:30:22.232540Z",
     "iopub.status.idle": "2025-08-05T16:30:22.241801Z",
     "shell.execute_reply": "2025-08-05T16:30:22.240638Z"
    },
    "papermill": {
     "duration": 0.040333,
     "end_time": "2025-08-05T16:30:22.243847",
     "exception": false,
     "start_time": "2025-08-05T16:30:22.203514",
     "status": "completed"
    },
    "tags": []
   },
   "outputs": [],
   "source": [
    "for subgroup, cov in cond_coverage.items():\n",
    "    cp_metrics_df[f\"cov_{subgroup}\"] = cov"
   ]
  },
  {
   "cell_type": "code",
   "execution_count": 58,
   "id": "6e872e10-dbe5-49e8-b554-5030c98ff75d",
   "metadata": {
    "execution": {
     "iopub.execute_input": "2025-08-05T16:30:22.310302Z",
     "iopub.status.busy": "2025-08-05T16:30:22.309412Z",
     "iopub.status.idle": "2025-08-05T16:30:22.333956Z",
     "shell.execute_reply": "2025-08-05T16:30:22.332688Z"
    },
    "papermill": {
     "duration": 0.058229,
     "end_time": "2025-08-05T16:30:22.336089",
     "exception": false,
     "start_time": "2025-08-05T16:30:22.277860",
     "status": "completed"
    },
    "tags": []
   },
   "outputs": [
    {
     "data": {
      "text/html": [
       "<div>\n",
       "<style scoped>\n",
       "    .dataframe tbody tr th:only-of-type {\n",
       "        vertical-align: middle;\n",
       "    }\n",
       "\n",
       "    .dataframe tbody tr th {\n",
       "        vertical-align: top;\n",
       "    }\n",
       "\n",
       "    .dataframe thead th {\n",
       "        text-align: right;\n",
       "    }\n",
       "</style>\n",
       "<table border=\"1\" class=\"dataframe\">\n",
       "  <thead>\n",
       "    <tr style=\"text-align: right;\">\n",
       "      <th></th>\n",
       "      <th>universe_id</th>\n",
       "      <th>universe_training_year</th>\n",
       "      <th>universe_training_size</th>\n",
       "      <th>universe_scale</th>\n",
       "      <th>universe_model</th>\n",
       "      <th>universe_exclude_features</th>\n",
       "      <th>universe_exclude_subgroups</th>\n",
       "      <th>q_hat</th>\n",
       "      <th>coverage</th>\n",
       "      <th>avg_size</th>\n",
       "      <th>cov_frau1</th>\n",
       "      <th>cov_nongerman</th>\n",
       "      <th>cov_nongerman_male</th>\n",
       "      <th>cov_nongerman_female</th>\n",
       "    </tr>\n",
       "  </thead>\n",
       "  <tbody>\n",
       "    <tr>\n",
       "      <th>0</th>\n",
       "      <td>e6e8e7d3c49501ab1a6b770729886028</td>\n",
       "      <td>2012_14</td>\n",
       "      <td>1k</td>\n",
       "      <td>do-not-scale</td>\n",
       "      <td>elasticnet</td>\n",
       "      <td>sex</td>\n",
       "      <td>keep-all</td>\n",
       "      <td>0.684347</td>\n",
       "      <td>0.912886</td>\n",
       "      <td>1.306956</td>\n",
       "      <td>0.911336</td>\n",
       "      <td>0.969461</td>\n",
       "      <td>0.977303</td>\n",
       "      <td>0.956483</td>\n",
       "    </tr>\n",
       "  </tbody>\n",
       "</table>\n",
       "</div>"
      ],
      "text/plain": [
       "                        universe_id universe_training_year  \\\n",
       "0  e6e8e7d3c49501ab1a6b770729886028                2012_14   \n",
       "\n",
       "  universe_training_size universe_scale universe_model  \\\n",
       "0                     1k   do-not-scale     elasticnet   \n",
       "\n",
       "  universe_exclude_features universe_exclude_subgroups     q_hat  coverage  \\\n",
       "0                       sex                   keep-all  0.684347  0.912886   \n",
       "\n",
       "   avg_size  cov_frau1  cov_nongerman  cov_nongerman_male  \\\n",
       "0  1.306956   0.911336       0.969461            0.977303   \n",
       "\n",
       "   cov_nongerman_female  \n",
       "0              0.956483  "
      ]
     },
     "execution_count": 58,
     "metadata": {},
     "output_type": "execute_result"
    }
   ],
   "source": [
    "cp_metrics_df"
   ]
  },
  {
   "cell_type": "markdown",
   "id": "33774451",
   "metadata": {
    "papermill": {
     "duration": 0.029749,
     "end_time": "2025-08-05T16:30:22.394971",
     "exception": false,
     "start_time": "2025-08-05T16:30:22.365222",
     "status": "completed"
    },
    "tags": []
   },
   "source": [
    "# (Fairness) Metrics"
   ]
  },
  {
   "cell_type": "code",
   "execution_count": 59,
   "id": "debc5d62",
   "metadata": {
    "execution": {
     "iopub.execute_input": "2025-08-05T16:30:22.457720Z",
     "iopub.status.busy": "2025-08-05T16:30:22.456733Z",
     "iopub.status.idle": "2025-08-05T16:30:22.481275Z",
     "shell.execute_reply": "2025-08-05T16:30:22.480178Z"
    },
    "papermill": {
     "duration": 0.05722,
     "end_time": "2025-08-05T16:30:22.483755",
     "exception": false,
     "start_time": "2025-08-05T16:30:22.426535",
     "status": "completed"
    },
    "tags": []
   },
   "outputs": [],
   "source": [
    "# do I need to include maxdeutsch1.missing?\n",
    "\n",
    "import numpy as np\n",
    "\n",
    "colname_to_bin = \"maxdeutsch1\"\n",
    "majority_value = org_train[colname_to_bin].mode()[0]\n",
    "\n",
    "org_test[\"majmin\"] = np.where(org_test[colname_to_bin] == majority_value, \"majority\", \"minority\")"
   ]
  },
  {
   "cell_type": "code",
   "execution_count": 60,
   "id": "06a50de5",
   "metadata": {
    "execution": {
     "iopub.execute_input": "2025-08-05T16:30:22.549776Z",
     "iopub.status.busy": "2025-08-05T16:30:22.548691Z",
     "iopub.status.idle": "2025-08-05T16:30:26.144198Z",
     "shell.execute_reply": "2025-08-05T16:30:26.143003Z"
    },
    "papermill": {
     "duration": 3.630052,
     "end_time": "2025-08-05T16:30:26.146612",
     "exception": false,
     "start_time": "2025-08-05T16:30:22.516560",
     "status": "completed"
    },
    "tags": []
   },
   "outputs": [],
   "source": [
    "example_universe = universe.copy()\n",
    "example_universe[\"cutoff\"] = example_universe[\"cutoff\"][0]\n",
    "example_universe[\"eval_fairness_grouping\"] = example_universe[\"eval_fairness_grouping\"][0]\n",
    "fairness_dict, metric_frame = universe_analysis.compute_metrics(\n",
    "    example_universe,\n",
    "    y_pred_prob=probs_test,\n",
    "    y_test=y_true,\n",
    "    org_test=org_test,\n",
    ")"
   ]
  },
  {
   "cell_type": "markdown",
   "id": "f95d4e02",
   "metadata": {
    "papermill": {
     "duration": 0.029604,
     "end_time": "2025-08-05T16:30:26.206984",
     "exception": false,
     "start_time": "2025-08-05T16:30:26.177380",
     "status": "completed"
    },
    "tags": []
   },
   "source": [
    "# Overall"
   ]
  },
  {
   "cell_type": "markdown",
   "id": "bdee4871",
   "metadata": {
    "papermill": {
     "duration": 0.029209,
     "end_time": "2025-08-05T16:30:26.265605",
     "exception": false,
     "start_time": "2025-08-05T16:30:26.236396",
     "status": "completed"
    },
    "tags": []
   },
   "source": [
    "Fairness\n",
    "Main fairness target: Equalized Odds. Seems to be a better fit than equal opportunity, since we're not only interested in Y = 1. Seems to be a better fit than demographic parity, since we also care about accuracy, not just equal distribution of preds.\n",
    "\n",
    "Pick column for computation of fairness metrics\n",
    "\n",
    "Performance\n",
    "Overall performance measures, most interesting in relation to the measures split by group below"
   ]
  },
  {
   "cell_type": "code",
   "execution_count": 61,
   "id": "c4e067c6",
   "metadata": {
    "execution": {
     "iopub.execute_input": "2025-08-05T16:30:26.325693Z",
     "iopub.status.busy": "2025-08-05T16:30:26.324542Z",
     "iopub.status.idle": "2025-08-05T16:30:26.335159Z",
     "shell.execute_reply": "2025-08-05T16:30:26.333967Z"
    },
    "papermill": {
     "duration": 0.043011,
     "end_time": "2025-08-05T16:30:26.337196",
     "exception": false,
     "start_time": "2025-08-05T16:30:26.294185",
     "status": "completed"
    },
    "tags": []
   },
   "outputs": [
    {
     "data": {
      "text/plain": [
       "accuracy                   0.208394\n",
       "balanced accuracy          0.512899\n",
       "f1                         0.230165\n",
       "precision                  0.131485\n",
       "false positive rate        0.896691\n",
       "false negative rate        0.077511\n",
       "selection rate             0.900000\n",
       "count                  89710.000000\n",
       "dtype: float64"
      ]
     },
     "execution_count": 61,
     "metadata": {},
     "output_type": "execute_result"
    }
   ],
   "source": [
    "metric_frame.overall"
   ]
  },
  {
   "cell_type": "markdown",
   "id": "e968fe9d",
   "metadata": {
    "papermill": {
     "duration": 0.029081,
     "end_time": "2025-08-05T16:30:26.395998",
     "exception": false,
     "start_time": "2025-08-05T16:30:26.366917",
     "status": "completed"
    },
    "tags": []
   },
   "source": [
    "By Group"
   ]
  },
  {
   "cell_type": "code",
   "execution_count": 62,
   "id": "ec325bce",
   "metadata": {
    "execution": {
     "iopub.execute_input": "2025-08-05T16:30:26.426307Z",
     "iopub.status.busy": "2025-08-05T16:30:26.425956Z",
     "iopub.status.idle": "2025-08-05T16:30:26.440264Z",
     "shell.execute_reply": "2025-08-05T16:30:26.439444Z"
    },
    "papermill": {
     "duration": 0.031213,
     "end_time": "2025-08-05T16:30:26.441766",
     "exception": false,
     "start_time": "2025-08-05T16:30:26.410553",
     "status": "completed"
    },
    "tags": []
   },
   "outputs": [
    {
     "data": {
      "text/html": [
       "<div>\n",
       "<style scoped>\n",
       "    .dataframe tbody tr th:only-of-type {\n",
       "        vertical-align: middle;\n",
       "    }\n",
       "\n",
       "    .dataframe tbody tr th {\n",
       "        vertical-align: top;\n",
       "    }\n",
       "\n",
       "    .dataframe thead th {\n",
       "        text-align: right;\n",
       "    }\n",
       "</style>\n",
       "<table border=\"1\" class=\"dataframe\">\n",
       "  <thead>\n",
       "    <tr style=\"text-align: right;\">\n",
       "      <th></th>\n",
       "      <th>accuracy</th>\n",
       "      <th>balanced accuracy</th>\n",
       "      <th>f1</th>\n",
       "      <th>precision</th>\n",
       "      <th>false positive rate</th>\n",
       "      <th>false negative rate</th>\n",
       "      <th>selection rate</th>\n",
       "      <th>count</th>\n",
       "    </tr>\n",
       "    <tr>\n",
       "      <th>majmin</th>\n",
       "      <th></th>\n",
       "      <th></th>\n",
       "      <th></th>\n",
       "      <th></th>\n",
       "      <th></th>\n",
       "      <th></th>\n",
       "      <th></th>\n",
       "      <th></th>\n",
       "    </tr>\n",
       "  </thead>\n",
       "  <tbody>\n",
       "    <tr>\n",
       "      <th>majority</th>\n",
       "      <td>0.228481</td>\n",
       "      <td>0.516875</td>\n",
       "      <td>0.237411</td>\n",
       "      <td>0.136538</td>\n",
       "      <td>0.875112</td>\n",
       "      <td>0.091138</td>\n",
       "      <td>0.879572</td>\n",
       "      <td>69170.0</td>\n",
       "    </tr>\n",
       "    <tr>\n",
       "      <th>minority</th>\n",
       "      <td>0.140750</td>\n",
       "      <td>0.503556</td>\n",
       "      <td>0.207392</td>\n",
       "      <td>0.116036</td>\n",
       "      <td>0.967973</td>\n",
       "      <td>0.024916</td>\n",
       "      <td>0.968793</td>\n",
       "      <td>20540.0</td>\n",
       "    </tr>\n",
       "  </tbody>\n",
       "</table>\n",
       "</div>"
      ],
      "text/plain": [
       "          accuracy  balanced accuracy        f1  precision  \\\n",
       "majmin                                                       \n",
       "majority  0.228481           0.516875  0.237411   0.136538   \n",
       "minority  0.140750           0.503556  0.207392   0.116036   \n",
       "\n",
       "          false positive rate  false negative rate  selection rate    count  \n",
       "majmin                                                                       \n",
       "majority             0.875112             0.091138        0.879572  69170.0  \n",
       "minority             0.967973             0.024916        0.968793  20540.0  "
      ]
     },
     "execution_count": 62,
     "metadata": {},
     "output_type": "execute_result"
    }
   ],
   "source": [
    "metric_frame.by_group"
   ]
  },
  {
   "cell_type": "code",
   "execution_count": 63,
   "id": "a9ddbe63",
   "metadata": {
    "execution": {
     "iopub.execute_input": "2025-08-05T16:30:26.473167Z",
     "iopub.status.busy": "2025-08-05T16:30:26.472293Z",
     "iopub.status.idle": "2025-08-05T16:30:28.832277Z",
     "shell.execute_reply": "2025-08-05T16:30:28.831159Z"
    },
    "papermill": {
     "duration": 2.377356,
     "end_time": "2025-08-05T16:30:28.834270",
     "exception": false,
     "start_time": "2025-08-05T16:30:26.456914",
     "status": "completed"
    },
    "tags": []
   },
   "outputs": [
    {
     "data": {
      "text/plain": [
       "array([[<Axes: title={'center': 'accuracy'}, xlabel='majmin'>,\n",
       "        <Axes: title={'center': 'balanced accuracy'}, xlabel='majmin'>,\n",
       "        <Axes: title={'center': 'f1'}, xlabel='majmin'>],\n",
       "       [<Axes: title={'center': 'precision'}, xlabel='majmin'>,\n",
       "        <Axes: title={'center': 'false positive rate'}, xlabel='majmin'>,\n",
       "        <Axes: title={'center': 'false negative rate'}, xlabel='majmin'>],\n",
       "       [<Axes: title={'center': 'selection rate'}, xlabel='majmin'>,\n",
       "        <Axes: title={'center': 'count'}, xlabel='majmin'>,\n",
       "        <Axes: xlabel='majmin'>]], dtype=object)"
      ]
     },
     "execution_count": 63,
     "metadata": {},
     "output_type": "execute_result"
    },
    {
     "data": {
      "image/png": "[encoded data removed]",
      "text/plain": [
       "<Figure size 1200x800 with 9 Axes>"
      ]
     },
     "metadata": {},
     "output_type": "display_data"
    }
   ],
   "source": [
    "# In a graphic\n",
    "metric_frame.by_group.plot.bar(\n",
    "    subplots=True,\n",
    "    layout=[3, 3],\n",
    "    legend=False,\n",
    "    figsize=[12, 8],\n",
    "    title=\"Show all metrics\",\n",
    ")"
   ]
  },
  {
   "cell_type": "markdown",
   "id": "f57a0bac",
   "metadata": {
    "papermill": {
     "duration": 0.034652,
     "end_time": "2025-08-05T16:30:28.902552",
     "exception": false,
     "start_time": "2025-08-05T16:30:28.867900",
     "status": "completed"
    },
    "tags": []
   },
   "source": [
    "# Final Output"
   ]
  },
  {
   "cell_type": "code",
   "execution_count": 64,
   "id": "96d280a3",
   "metadata": {
    "execution": {
     "iopub.execute_input": "2025-08-05T16:30:28.965943Z",
     "iopub.status.busy": "2025-08-05T16:30:28.965189Z",
     "iopub.status.idle": "2025-08-05T16:30:28.974392Z",
     "shell.execute_reply": "2025-08-05T16:30:28.973389Z"
    },
    "papermill": {
     "duration": 0.042608,
     "end_time": "2025-08-05T16:30:28.976185",
     "exception": false,
     "start_time": "2025-08-05T16:30:28.933577",
     "status": "completed"
    },
    "tags": []
   },
   "outputs": [
    {
     "data": {
      "text/plain": [
       "4"
      ]
     },
     "execution_count": 64,
     "metadata": {},
     "output_type": "execute_result"
    }
   ],
   "source": [
    "sub_universes = universe_analysis.generate_sub_universes()\n",
    "len(sub_universes)"
   ]
  },
  {
   "cell_type": "code",
   "execution_count": 65,
   "id": "92adf7ba",
   "metadata": {
    "execution": {
     "iopub.execute_input": "2025-08-05T16:30:29.037576Z",
     "iopub.status.busy": "2025-08-05T16:30:29.036991Z",
     "iopub.status.idle": "2025-08-05T16:30:29.044261Z",
     "shell.execute_reply": "2025-08-05T16:30:29.043080Z"
    },
    "papermill": {
     "duration": 0.040481,
     "end_time": "2025-08-05T16:30:29.046157",
     "exception": false,
     "start_time": "2025-08-05T16:30:29.005676",
     "status": "completed"
    },
    "tags": []
   },
   "outputs": [],
   "source": [
    "def filter_sub_universe_data(sub_universe, org_test):\n",
    "    # Keep all rows — no filtering\n",
    "    keep_rows_mask = np.ones(org_test.shape[0], dtype=bool)\n",
    "\n",
    "    print(f\"[INFO] Keeping all rows: {keep_rows_mask.sum()} rows retained.\")\n",
    "    return keep_rows_mask"
   ]
  },
  {
   "cell_type": "code",
   "execution_count": 66,
   "id": "4a759155",
   "metadata": {
    "execution": {
     "iopub.execute_input": "2025-08-05T16:30:29.113381Z",
     "iopub.status.busy": "2025-08-05T16:30:29.112478Z",
     "iopub.status.idle": "2025-08-05T16:30:42.242203Z",
     "shell.execute_reply": "2025-08-05T16:30:42.240917Z"
    },
    "papermill": {
     "duration": 13.165126,
     "end_time": "2025-08-05T16:30:42.244352",
     "exception": false,
     "start_time": "2025-08-05T16:30:29.079226",
     "status": "completed"
    },
    "tags": []
   },
   "outputs": [
    {
     "name": "stdout",
     "output_type": "stream",
     "text": [
      "Stopping execution_time clock.\n",
      "[INFO] Keeping all rows: 89710 rows retained.\n"
     ]
    },
    {
     "name": "stdout",
     "output_type": "stream",
     "text": [
      "[INFO] Keeping all rows: 89710 rows retained.\n"
     ]
    },
    {
     "name": "stdout",
     "output_type": "stream",
     "text": [
      "[INFO] Keeping all rows: 89710 rows retained.\n"
     ]
    },
    {
     "name": "stdout",
     "output_type": "stream",
     "text": [
      "[INFO] Keeping all rows: 89710 rows retained.\n"
     ]
    },
    {
     "data": {
      "text/html": [
       "<div>\n",
       "<style scoped>\n",
       "    .dataframe tbody tr th:only-of-type {\n",
       "        vertical-align: middle;\n",
       "    }\n",
       "\n",
       "    .dataframe tbody tr th {\n",
       "        vertical-align: top;\n",
       "    }\n",
       "\n",
       "    .dataframe thead th {\n",
       "        text-align: right;\n",
       "    }\n",
       "</style>\n",
       "<table border=\"1\" class=\"dataframe\">\n",
       "  <thead>\n",
       "    <tr style=\"text-align: right;\">\n",
       "      <th></th>\n",
       "      <th>run_no</th>\n",
       "      <th>universe_id</th>\n",
       "      <th>universe_settings</th>\n",
       "      <th>execution_time</th>\n",
       "      <th>test_size_n</th>\n",
       "      <th>test_size_frac</th>\n",
       "      <th>fair_main_equalized_odds_difference</th>\n",
       "      <th>fair_main_equalized_odds_ratio</th>\n",
       "      <th>fair_main_demographic_parity_difference</th>\n",
       "      <th>fair_main_demographic_parity_ratio</th>\n",
       "      <th>...</th>\n",
       "      <th>perf_grp_precision_0</th>\n",
       "      <th>perf_grp_precision_1</th>\n",
       "      <th>perf_grp_false positive rate_0</th>\n",
       "      <th>perf_grp_false positive rate_1</th>\n",
       "      <th>perf_grp_false negative rate_0</th>\n",
       "      <th>perf_grp_false negative rate_1</th>\n",
       "      <th>perf_grp_selection rate_0</th>\n",
       "      <th>perf_grp_selection rate_1</th>\n",
       "      <th>perf_grp_count_0</th>\n",
       "      <th>perf_grp_count_1</th>\n",
       "    </tr>\n",
       "  </thead>\n",
       "  <tbody>\n",
       "    <tr>\n",
       "      <th>0</th>\n",
       "      <td>15</td>\n",
       "      <td>e6e8e7d3c49501ab1a6b770729886028</td>\n",
       "      <td>{\"cutoff\": \"quantile_0.1\", \"eval_fairness_grou...</td>\n",
       "      <td>30.016446</td>\n",
       "      <td>89710</td>\n",
       "      <td>1.0</td>\n",
       "      <td>0.092860</td>\n",
       "      <td>0.904067</td>\n",
       "      <td>0.089221</td>\n",
       "      <td>0.907905</td>\n",
       "      <td>...</td>\n",
       "      <td>NaN</td>\n",
       "      <td>NaN</td>\n",
       "      <td>NaN</td>\n",
       "      <td>NaN</td>\n",
       "      <td>NaN</td>\n",
       "      <td>NaN</td>\n",
       "      <td>NaN</td>\n",
       "      <td>NaN</td>\n",
       "      <td>NaN</td>\n",
       "      <td>NaN</td>\n",
       "    </tr>\n",
       "    <tr>\n",
       "      <th>0</th>\n",
       "      <td>15</td>\n",
       "      <td>e6e8e7d3c49501ab1a6b770729886028</td>\n",
       "      <td>{\"cutoff\": \"quantile_0.1\", \"eval_fairness_grou...</td>\n",
       "      <td>30.016446</td>\n",
       "      <td>89710</td>\n",
       "      <td>1.0</td>\n",
       "      <td>0.092860</td>\n",
       "      <td>0.904067</td>\n",
       "      <td>0.089221</td>\n",
       "      <td>0.907905</td>\n",
       "      <td>...</td>\n",
       "      <td>0.116036</td>\n",
       "      <td>0.136538</td>\n",
       "      <td>0.967973</td>\n",
       "      <td>0.875112</td>\n",
       "      <td>0.024916</td>\n",
       "      <td>0.091138</td>\n",
       "      <td>0.968793</td>\n",
       "      <td>0.879572</td>\n",
       "      <td>20540.0</td>\n",
       "      <td>69170.0</td>\n",
       "    </tr>\n",
       "    <tr>\n",
       "      <th>0</th>\n",
       "      <td>15</td>\n",
       "      <td>e6e8e7d3c49501ab1a6b770729886028</td>\n",
       "      <td>{\"cutoff\": \"quantile_0.25\", \"eval_fairness_gro...</td>\n",
       "      <td>30.016446</td>\n",
       "      <td>89710</td>\n",
       "      <td>1.0</td>\n",
       "      <td>0.227501</td>\n",
       "      <td>0.751837</td>\n",
       "      <td>0.217849</td>\n",
       "      <td>0.762682</td>\n",
       "      <td>...</td>\n",
       "      <td>NaN</td>\n",
       "      <td>NaN</td>\n",
       "      <td>NaN</td>\n",
       "      <td>NaN</td>\n",
       "      <td>NaN</td>\n",
       "      <td>NaN</td>\n",
       "      <td>NaN</td>\n",
       "      <td>NaN</td>\n",
       "      <td>NaN</td>\n",
       "      <td>NaN</td>\n",
       "    </tr>\n",
       "    <tr>\n",
       "      <th>0</th>\n",
       "      <td>15</td>\n",
       "      <td>e6e8e7d3c49501ab1a6b770729886028</td>\n",
       "      <td>{\"cutoff\": \"quantile_0.25\", \"eval_fairness_gro...</td>\n",
       "      <td>30.016446</td>\n",
       "      <td>89710</td>\n",
       "      <td>1.0</td>\n",
       "      <td>0.227501</td>\n",
       "      <td>0.751837</td>\n",
       "      <td>0.217849</td>\n",
       "      <td>0.762682</td>\n",
       "      <td>...</td>\n",
       "      <td>0.116468</td>\n",
       "      <td>0.145621</td>\n",
       "      <td>0.916740</td>\n",
       "      <td>0.689239</td>\n",
       "      <td>0.072635</td>\n",
       "      <td>0.228446</td>\n",
       "      <td>0.917965</td>\n",
       "      <td>0.700116</td>\n",
       "      <td>20540.0</td>\n",
       "      <td>69170.0</td>\n",
       "    </tr>\n",
       "  </tbody>\n",
       "</table>\n",
       "<p>4 rows × 50 columns</p>\n",
       "</div>"
      ],
      "text/plain": [
       "  run_no                       universe_id  \\\n",
       "0     15  e6e8e7d3c49501ab1a6b770729886028   \n",
       "0     15  e6e8e7d3c49501ab1a6b770729886028   \n",
       "0     15  e6e8e7d3c49501ab1a6b770729886028   \n",
       "0     15  e6e8e7d3c49501ab1a6b770729886028   \n",
       "\n",
       "                                   universe_settings  execution_time  \\\n",
       "0  {\"cutoff\": \"quantile_0.1\", \"eval_fairness_grou...       30.016446   \n",
       "0  {\"cutoff\": \"quantile_0.1\", \"eval_fairness_grou...       30.016446   \n",
       "0  {\"cutoff\": \"quantile_0.25\", \"eval_fairness_gro...       30.016446   \n",
       "0  {\"cutoff\": \"quantile_0.25\", \"eval_fairness_gro...       30.016446   \n",
       "\n",
       "   test_size_n  test_size_frac  fair_main_equalized_odds_difference  \\\n",
       "0        89710             1.0                             0.092860   \n",
       "0        89710             1.0                             0.092860   \n",
       "0        89710             1.0                             0.227501   \n",
       "0        89710             1.0                             0.227501   \n",
       "\n",
       "   fair_main_equalized_odds_ratio  fair_main_demographic_parity_difference  \\\n",
       "0                        0.904067                                 0.089221   \n",
       "0                        0.904067                                 0.089221   \n",
       "0                        0.751837                                 0.217849   \n",
       "0                        0.751837                                 0.217849   \n",
       "\n",
       "   fair_main_demographic_parity_ratio  ...  perf_grp_precision_0  \\\n",
       "0                            0.907905  ...                   NaN   \n",
       "0                            0.907905  ...              0.116036   \n",
       "0                            0.762682  ...                   NaN   \n",
       "0                            0.762682  ...              0.116468   \n",
       "\n",
       "   perf_grp_precision_1  perf_grp_false positive rate_0  \\\n",
       "0                   NaN                             NaN   \n",
       "0              0.136538                        0.967973   \n",
       "0                   NaN                             NaN   \n",
       "0              0.145621                        0.916740   \n",
       "\n",
       "   perf_grp_false positive rate_1  perf_grp_false negative rate_0  \\\n",
       "0                             NaN                             NaN   \n",
       "0                        0.875112                        0.024916   \n",
       "0                             NaN                             NaN   \n",
       "0                        0.689239                        0.072635   \n",
       "\n",
       "   perf_grp_false negative rate_1  perf_grp_selection rate_0  \\\n",
       "0                             NaN                        NaN   \n",
       "0                        0.091138                   0.968793   \n",
       "0                             NaN                        NaN   \n",
       "0                        0.228446                   0.917965   \n",
       "\n",
       "   perf_grp_selection rate_1  perf_grp_count_0  perf_grp_count_1  \n",
       "0                        NaN               NaN               NaN  \n",
       "0                   0.879572           20540.0           69170.0  \n",
       "0                        NaN               NaN               NaN  \n",
       "0                   0.700116           20540.0           69170.0  \n",
       "\n",
       "[4 rows x 50 columns]"
      ]
     },
     "execution_count": 66,
     "metadata": {},
     "output_type": "execute_result"
    }
   ],
   "source": [
    "final_output = universe_analysis.generate_final_output(\n",
    "    y_pred_prob=probs_test,\n",
    "    y_test=y_true,\n",
    "    org_test=org_test,\n",
    "    filter_data=filter_sub_universe_data,\n",
    "    cp_metrics_df=cp_metrics_df,\n",
    "    save=True,\n",
    ")\n",
    "final_output"
   ]
  }
 ],
 "metadata": {
  "celltoolbar": "Tags",
  "kernelspec": {
   "display_name": "Python (CMA Fairness)",
   "language": "python",
   "name": "cma_fair_env"
  },
  "language_info": {
   "codemirror_mode": {
    "name": "ipython",
    "version": 3
   },
   "file_extension": ".py",
   "mimetype": "text/x-python",
   "name": "python",
   "nbconvert_exporter": "python",
   "pygments_lexer": "ipython3",
   "version": "3.10.12"
  },
  "papermill": {
   "default_parameters": {},
   "duration": 47.912381,
   "end_time": "2025-08-05T16:30:43.204486",
   "environment_variables": {},
   "exception": null,
   "input_path": "universe_analysis.ipynb",
   "output_path": "output/runs/15/notebooks/m_15-e6e8e7d3c49501ab1a6b770729886028.ipynb",
   "parameters": {
    "output_dir": "output",
    "run_no": "15",
    "seed": "2023",
    "universe": "{\"cutoff\": [\"quantile_0.1\", \"quantile_0.25\"], \"eval_fairness_grouping\": [\"majority-minority\", \"nationality-all\"], \"exclude_features\": \"sex\", \"exclude_subgroups\": \"keep-all\", \"model\": \"elasticnet\", \"scale\": \"do-not-scale\", \"training_size\": \"1k\", \"training_year\": \"2012_14\"}",
    "universe_id": "e6e8e7d3c49501ab1a6b770729886028"
   },
   "start_time": "2025-08-05T16:29:55.292105",
   "version": "2.6.0"
  }
 },
 "nbformat": 4,
 "nbformat_minor": 5
}