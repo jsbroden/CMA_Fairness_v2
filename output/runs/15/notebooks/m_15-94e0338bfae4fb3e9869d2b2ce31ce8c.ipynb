{
 "cells": [
  {
   "cell_type": "code",
   "execution_count": 1,
   "id": "f159f837-637b-42ba-96b5-ec9a68c44524",
   "metadata": {
    "execution": {
     "iopub.execute_input": "2025-08-05T16:12:12.292325Z",
     "iopub.status.busy": "2025-08-05T16:12:12.291859Z",
     "iopub.status.idle": "2025-08-05T16:12:12.305866Z",
     "shell.execute_reply": "2025-08-05T16:12:12.304807Z"
    },
    "papermill": {
     "duration": 0.035867,
     "end_time": "2025-08-05T16:12:12.307508",
     "exception": false,
     "start_time": "2025-08-05T16:12:12.271641",
     "status": "completed"
    },
    "tags": []
   },
   "outputs": [
    {
     "name": "stdout",
     "output_type": "stream",
     "text": [
      "/dss/dsshome1/0C/ra93lal2/cma/CMA_Fairness_v2\n"
     ]
    },
    {
     "name": "stderr",
     "output_type": "stream",
     "text": [
      "/dss/dsshome1/0C/ra93lal2/.local/share/virtualenvs/CMA_Fairness_v2-3j10GkSs/lib/python3.10/site-packages/IPython/core/magics/osm.py:393: UserWarning: This is now an optional IPython functionality, using bookmarks requires you to install the `pickleshare` library.\n",
      "  bkms = self.shell.db.get('bookmarks', {})\n",
      "/dss/dsshome1/0C/ra93lal2/.local/share/virtualenvs/CMA_Fairness_v2-3j10GkSs/lib/python3.10/site-packages/IPython/core/magics/osm.py:417: UserWarning: This is now an optional IPython functionality, setting dhist requires you to install the `pickleshare` library.\n",
      "  self.shell.db['dhist'] = compress_dhist(dhist)[-100:]\n"
     ]
    }
   ],
   "source": [
    "%cd ~/cma/CMA_Fairness_v2"
   ]
  },
  {
   "cell_type": "markdown",
   "id": "de2603b9",
   "metadata": {
    "papermill": {
     "duration": 0.015328,
     "end_time": "2025-08-05T16:12:12.339677",
     "exception": false,
     "start_time": "2025-08-05T16:12:12.324349",
     "status": "completed"
    },
    "tags": []
   },
   "source": [
    "The following cell holds the definition of our parameters, these values can be overriden by rendering the with e.g. the following command:\n",
    "\n",
    "papermill -p alpha 0.2 -p ratio 0.3 universe_analysis.ipynb output/test_run.ipynb"
   ]
  },
  {
   "cell_type": "code",
   "execution_count": 2,
   "id": "a80968a0-40bb-4fa9-85ef-2d5eefb01975",
   "metadata": {
    "execution": {
     "iopub.execute_input": "2025-08-05T16:12:12.372983Z",
     "iopub.status.busy": "2025-08-05T16:12:12.372337Z",
     "iopub.status.idle": "2025-08-05T16:12:12.377936Z",
     "shell.execute_reply": "2025-08-05T16:12:12.376925Z"
    },
    "papermill": {
     "duration": 0.024144,
     "end_time": "2025-08-05T16:12:12.379468",
     "exception": false,
     "start_time": "2025-08-05T16:12:12.355324",
     "status": "completed"
    },
    "tags": []
   },
   "outputs": [
    {
     "name": "stdout",
     "output_type": "stream",
     "text": [
      "Current working directory: /dss/dsshome1/0C/ra93lal2/cma/CMA_Fairness_v2\n"
     ]
    }
   ],
   "source": [
    "import os\n",
    "print(\"Current working directory:\", os.getcwd())"
   ]
  },
  {
   "cell_type": "code",
   "execution_count": 3,
   "id": "2dce4c03",
   "metadata": {
    "execution": {
     "iopub.execute_input": "2025-08-05T16:12:12.412575Z",
     "iopub.status.busy": "2025-08-05T16:12:12.411903Z",
     "iopub.status.idle": "2025-08-05T16:12:12.418186Z",
     "shell.execute_reply": "2025-08-05T16:12:12.417042Z"
    },
    "papermill": {
     "duration": 0.023774,
     "end_time": "2025-08-05T16:12:12.420094",
     "exception": false,
     "start_time": "2025-08-05T16:12:12.396320",
     "status": "completed"
    },
    "tags": [
     "parameters"
    ]
   },
   "outputs": [],
   "source": [
    "run_no = 0\n",
    "universe_id = \"test\"\n",
    "universe = {\n",
    "    \"training_size\": \"25k\", # \"25k\", \"5k\", \"1k\"\n",
    "    \"training_year\": \"2014\", # \"2014\", \"2012_14\", \"2010_14\"\n",
    "    \"scale\": \"scale\", # \"scale\", \"do-not-scale\",\n",
    "    \"model\": \"elasticnet\", # \"logreg\", \"penalized_logreg\", \"rf\", \"gbm\", \"elasticnet\"\n",
    "    \"cutoff\": [\"quantile_0.15\", \"quantile_0.30\"],\n",
    "    \"exclude_features\": \"age\", # \"none\", \"nationality\", \"sex\", \"nationality-sex\", \"age\"\n",
    "    \"exclude_subgroups\": \"keep-all\", # \"keep-all\", \"drop-non-german\"\n",
    "    \"eval_fairness_grouping\": [\"majority-minority\", \"nationality-all\"]\n",
    "}\n",
    "\n",
    "output_dir=\"./output\"\n",
    "seed=0"
   ]
  },
  {
   "cell_type": "code",
   "execution_count": 4,
   "id": "247761c1",
   "metadata": {
    "execution": {
     "iopub.execute_input": "2025-08-05T16:12:12.452631Z",
     "iopub.status.busy": "2025-08-05T16:12:12.452278Z",
     "iopub.status.idle": "2025-08-05T16:12:12.457127Z",
     "shell.execute_reply": "2025-08-05T16:12:12.456189Z"
    },
    "papermill": {
     "duration": 0.022843,
     "end_time": "2025-08-05T16:12:12.458929",
     "exception": false,
     "start_time": "2025-08-05T16:12:12.436086",
     "status": "completed"
    },
    "tags": [
     "injected-parameters"
    ]
   },
   "outputs": [],
   "source": [
    "# Parameters\n",
    "universe_id = \"94e0338bfae4fb3e9869d2b2ce31ce8c\"\n",
    "run_no = \"15\"\n",
    "universe = \"{\\\"cutoff\\\": [\\\"quantile_0.1\\\", \\\"quantile_0.25\\\"], \\\"eval_fairness_grouping\\\": [\\\"majority-minority\\\", \\\"nationality-all\\\"], \\\"exclude_features\\\": \\\"none\\\", \\\"exclude_subgroups\\\": \\\"keep-all\\\", \\\"model\\\": \\\"gbm\\\", \\\"scale\\\": \\\"do-not-scale\\\", \\\"training_size\\\": \\\"1k\\\", \\\"training_year\\\": \\\"2014\\\"}\"\n",
    "output_dir = \"output\"\n",
    "seed = \"2023\"\n"
   ]
  },
  {
   "cell_type": "code",
   "execution_count": 5,
   "id": "1650acaf",
   "metadata": {
    "execution": {
     "iopub.execute_input": "2025-08-05T16:12:12.491480Z",
     "iopub.status.busy": "2025-08-05T16:12:12.490869Z",
     "iopub.status.idle": "2025-08-05T16:12:12.495712Z",
     "shell.execute_reply": "2025-08-05T16:12:12.494786Z"
    },
    "papermill": {
     "duration": 0.022064,
     "end_time": "2025-08-05T16:12:12.497379",
     "exception": false,
     "start_time": "2025-08-05T16:12:12.475315",
     "status": "completed"
    },
    "tags": []
   },
   "outputs": [],
   "source": [
    "import json\n",
    "if isinstance(universe, str):\n",
    "    universe = json.loads(universe)"
   ]
  },
  {
   "cell_type": "code",
   "execution_count": 6,
   "id": "16620c48",
   "metadata": {
    "execution": {
     "iopub.execute_input": "2025-08-05T16:12:12.532262Z",
     "iopub.status.busy": "2025-08-05T16:12:12.531448Z",
     "iopub.status.idle": "2025-08-05T16:12:12.575018Z",
     "shell.execute_reply": "2025-08-05T16:12:12.573873Z"
    },
    "papermill": {
     "duration": 0.062363,
     "end_time": "2025-08-05T16:12:12.576992",
     "exception": false,
     "start_time": "2025-08-05T16:12:12.514629",
     "status": "completed"
    },
    "tags": []
   },
   "outputs": [],
   "source": [
    "# Auto-reload the custom package\n",
    "%load_ext autoreload\n",
    "%autoreload 1\n",
    "%aimport fairness_multiverse"
   ]
  },
  {
   "cell_type": "code",
   "execution_count": 7,
   "id": "01c5c9f3",
   "metadata": {
    "execution": {
     "iopub.execute_input": "2025-08-05T16:12:12.610783Z",
     "iopub.status.busy": "2025-08-05T16:12:12.610027Z",
     "iopub.status.idle": "2025-08-05T16:12:14.650899Z",
     "shell.execute_reply": "2025-08-05T16:12:14.649837Z"
    },
    "papermill": {
     "duration": 2.059287,
     "end_time": "2025-08-05T16:12:14.652851",
     "exception": false,
     "start_time": "2025-08-05T16:12:12.593564",
     "status": "completed"
    },
    "tags": []
   },
   "outputs": [],
   "source": [
    "from fairness_multiverse.universe import UniverseAnalysis\n",
    "\n",
    "universe_analysis = UniverseAnalysis(\n",
    "    run_no = run_no,\n",
    "    universe_id = universe_id,\n",
    "    universe = universe,\n",
    "    output_dir=output_dir,\n",
    ")"
   ]
  },
  {
   "cell_type": "code",
   "execution_count": 8,
   "id": "106241f5",
   "metadata": {
    "execution": {
     "iopub.execute_input": "2025-08-05T16:12:14.693611Z",
     "iopub.status.busy": "2025-08-05T16:12:14.692877Z",
     "iopub.status.idle": "2025-08-05T16:12:14.699903Z",
     "shell.execute_reply": "2025-08-05T16:12:14.698848Z"
    },
    "papermill": {
     "duration": 0.029578,
     "end_time": "2025-08-05T16:12:14.701991",
     "exception": false,
     "start_time": "2025-08-05T16:12:14.672413",
     "status": "completed"
    },
    "tags": []
   },
   "outputs": [
    {
     "name": "stdout",
     "output_type": "stream",
     "text": [
      "Using Seed: 2023\n"
     ]
    }
   ],
   "source": [
    "import numpy as np\n",
    "parsed_seed = int(seed)\n",
    "np.random.seed(parsed_seed)\n",
    "print(f\"Using Seed: {parsed_seed}\")"
   ]
  },
  {
   "cell_type": "markdown",
   "id": "e0ebdc57",
   "metadata": {
    "papermill": {
     "duration": 0.015309,
     "end_time": "2025-08-05T16:12:14.734345",
     "exception": false,
     "start_time": "2025-08-05T16:12:14.719036",
     "status": "completed"
    },
    "tags": []
   },
   "source": [
    "# Loading Data"
   ]
  },
  {
   "cell_type": "code",
   "execution_count": 9,
   "id": "f0496b8a",
   "metadata": {
    "execution": {
     "iopub.execute_input": "2025-08-05T16:12:14.769334Z",
     "iopub.status.busy": "2025-08-05T16:12:14.768359Z",
     "iopub.status.idle": "2025-08-05T16:12:27.434711Z",
     "shell.execute_reply": "2025-08-05T16:12:27.433174Z"
    },
    "papermill": {
     "duration": 12.685036,
     "end_time": "2025-08-05T16:12:27.436631",
     "exception": false,
     "start_time": "2025-08-05T16:12:14.751595",
     "status": "completed"
    },
    "tags": []
   },
   "outputs": [
    {
     "name": "stdout",
     "output_type": "stream",
     "text": [
      "Loading SIAB data from cache: data/siab_cached.csv.gz\n"
     ]
    },
    {
     "name": "stdout",
     "output_type": "stream",
     "text": [
      "(643690, 164)\n"
     ]
    }
   ],
   "source": [
    "from pathlib import Path\n",
    "import pandas as pd\n",
    "\n",
    "# File paths\n",
    "raw_file = Path(\"data/raw/siab.csv\")\n",
    "cache_file = Path(\"data/siab_cached.csv.gz\")\n",
    "\n",
    "# Ensure cache directory exists\n",
    "cache_file.parent.mkdir(parents=True, exist_ok=True)\n",
    "\n",
    "# Load with simple caching\n",
    "if cache_file.exists():\n",
    "    print(f\"Loading SIAB data from cache: {cache_file}\")\n",
    "    siab = pd.read_csv(cache_file, compression='gzip')\n",
    "else:\n",
    "    print(f\"Cache not found. Reading raw SIAB data: {raw_file}\")\n",
    "    siab = pd.read_csv(raw_file)\n",
    "    siab.to_csv(cache_file, index=False, compression='gzip')\n",
    "    print(f\"Cached SIAB data to: {cache_file}\")\n",
    "\n",
    "print(siab.shape)"
   ]
  },
  {
   "cell_type": "code",
   "execution_count": 10,
   "id": "db0ca512-5f53-4dba-abdb-a2888bca41ba",
   "metadata": {
    "execution": {
     "iopub.execute_input": "2025-08-05T16:12:27.481909Z",
     "iopub.status.busy": "2025-08-05T16:12:27.481278Z",
     "iopub.status.idle": "2025-08-05T16:12:27.488265Z",
     "shell.execute_reply": "2025-08-05T16:12:27.486860Z"
    },
    "papermill": {
     "duration": 0.031089,
     "end_time": "2025-08-05T16:12:27.490231",
     "exception": false,
     "start_time": "2025-08-05T16:12:27.459142",
     "status": "completed"
    },
    "tags": []
   },
   "outputs": [],
   "source": [
    "#siab"
   ]
  },
  {
   "cell_type": "markdown",
   "id": "997051c5-15bd-4b69-9786-c3001a3ce484",
   "metadata": {
    "papermill": {
     "duration": 0.020761,
     "end_time": "2025-08-05T16:12:27.531099",
     "exception": false,
     "start_time": "2025-08-05T16:12:27.510338",
     "status": "completed"
    },
    "tags": []
   },
   "source": [
    "# Splitting Data and Setting Training Data Size"
   ]
  },
  {
   "cell_type": "code",
   "execution_count": 11,
   "id": "aea9c6ef-6f46-42c8-85eb-5a62025c1508",
   "metadata": {
    "execution": {
     "iopub.execute_input": "2025-08-05T16:12:27.574189Z",
     "iopub.status.busy": "2025-08-05T16:12:27.573458Z",
     "iopub.status.idle": "2025-08-05T16:12:27.841152Z",
     "shell.execute_reply": "2025-08-05T16:12:27.839937Z"
    },
    "papermill": {
     "duration": 0.291668,
     "end_time": "2025-08-05T16:12:27.843579",
     "exception": false,
     "start_time": "2025-08-05T16:12:27.551911",
     "status": "completed"
    },
    "tags": []
   },
   "outputs": [],
   "source": [
    "from fairness_multiverse.universe import sample_by_year_size\n",
    "\n",
    "siab_train = sample_by_year_size(siab,\n",
    "                               training_year=universe[\"training_year\"],\n",
    "                               training_size=universe[\"training_size\"])"
   ]
  },
  {
   "cell_type": "code",
   "execution_count": 12,
   "id": "8d3afb32-789d-442c-8d5d-9f5aa8dd2eed",
   "metadata": {
    "execution": {
     "iopub.execute_input": "2025-08-05T16:12:27.886714Z",
     "iopub.status.busy": "2025-08-05T16:12:27.885733Z",
     "iopub.status.idle": "2025-08-05T16:12:27.892107Z",
     "shell.execute_reply": "2025-08-05T16:12:27.890866Z"
    },
    "papermill": {
     "duration": 0.029396,
     "end_time": "2025-08-05T16:12:27.894083",
     "exception": false,
     "start_time": "2025-08-05T16:12:27.864687",
     "status": "completed"
    },
    "tags": []
   },
   "outputs": [],
   "source": [
    "#siab_train.shape"
   ]
  },
  {
   "cell_type": "code",
   "execution_count": 13,
   "id": "d582db68-1a4c-47fb-84fc-08518dc1975a",
   "metadata": {
    "execution": {
     "iopub.execute_input": "2025-08-05T16:12:27.937249Z",
     "iopub.status.busy": "2025-08-05T16:12:27.936316Z",
     "iopub.status.idle": "2025-08-05T16:12:27.942396Z",
     "shell.execute_reply": "2025-08-05T16:12:27.941242Z"
    },
    "papermill": {
     "duration": 0.029586,
     "end_time": "2025-08-05T16:12:27.944411",
     "exception": false,
     "start_time": "2025-08-05T16:12:27.914825",
     "status": "completed"
    },
    "tags": []
   },
   "outputs": [],
   "source": [
    "#display(siab_train.groupby(\"year\").size())"
   ]
  },
  {
   "cell_type": "code",
   "execution_count": 14,
   "id": "a561edb4-d032-42cb-8256-22eac1111c64",
   "metadata": {
    "execution": {
     "iopub.execute_input": "2025-08-05T16:12:27.987248Z",
     "iopub.status.busy": "2025-08-05T16:12:27.986132Z",
     "iopub.status.idle": "2025-08-05T16:12:28.251710Z",
     "shell.execute_reply": "2025-08-05T16:12:28.250403Z"
    },
    "papermill": {
     "duration": 0.290349,
     "end_time": "2025-08-05T16:12:28.254784",
     "exception": false,
     "start_time": "2025-08-05T16:12:27.964435",
     "status": "completed"
    },
    "tags": []
   },
   "outputs": [],
   "source": [
    "#siab_train = siab_s[siab_s.year < 2015]\n",
    "siab_calib = siab[siab.year == 2015]\n",
    "siab_test = siab[siab.year == 2016]"
   ]
  },
  {
   "cell_type": "code",
   "execution_count": 15,
   "id": "472de16f-c3db-4916-846b-1f0de9cf1746",
   "metadata": {
    "execution": {
     "iopub.execute_input": "2025-08-05T16:12:28.304149Z",
     "iopub.status.busy": "2025-08-05T16:12:28.303024Z",
     "iopub.status.idle": "2025-08-05T16:12:28.311640Z",
     "shell.execute_reply": "2025-08-05T16:12:28.310478Z"
    },
    "papermill": {
     "duration": 0.03334,
     "end_time": "2025-08-05T16:12:28.314043",
     "exception": false,
     "start_time": "2025-08-05T16:12:28.280703",
     "status": "completed"
    },
    "tags": []
   },
   "outputs": [],
   "source": [
    "X_train = siab_train.iloc[:,4:164]\n",
    "y_train = siab_train.iloc[:, [3]]"
   ]
  },
  {
   "cell_type": "code",
   "execution_count": 16,
   "id": "828c96af-f43a-4ed6-ba47-8ac73a47d56c",
   "metadata": {
    "execution": {
     "iopub.execute_input": "2025-08-05T16:12:28.363846Z",
     "iopub.status.busy": "2025-08-05T16:12:28.363326Z",
     "iopub.status.idle": "2025-08-05T16:12:28.419640Z",
     "shell.execute_reply": "2025-08-05T16:12:28.418458Z"
    },
    "papermill": {
     "duration": 0.083112,
     "end_time": "2025-08-05T16:12:28.421877",
     "exception": false,
     "start_time": "2025-08-05T16:12:28.338765",
     "status": "completed"
    },
    "tags": []
   },
   "outputs": [],
   "source": [
    "X_calib = siab_calib.iloc[:,4:164]\n",
    "y_calib = siab_calib.iloc[:, [3]]"
   ]
  },
  {
   "cell_type": "code",
   "execution_count": 17,
   "id": "c34be9c3-6bd6-476e-acd3-845840e303be",
   "metadata": {
    "execution": {
     "iopub.execute_input": "2025-08-05T16:12:28.465871Z",
     "iopub.status.busy": "2025-08-05T16:12:28.464711Z",
     "iopub.status.idle": "2025-08-05T16:12:28.524076Z",
     "shell.execute_reply": "2025-08-05T16:12:28.522783Z"
    },
    "papermill": {
     "duration": 0.084023,
     "end_time": "2025-08-05T16:12:28.526601",
     "exception": false,
     "start_time": "2025-08-05T16:12:28.442578",
     "status": "completed"
    },
    "tags": []
   },
   "outputs": [],
   "source": [
    "X_test = siab_test.iloc[:,4:164]\n",
    "y_true = siab_test.iloc[:, [3]]"
   ]
  },
  {
   "cell_type": "code",
   "execution_count": 18,
   "id": "e6c733c5",
   "metadata": {
    "execution": {
     "iopub.execute_input": "2025-08-05T16:12:28.569484Z",
     "iopub.status.busy": "2025-08-05T16:12:28.568959Z",
     "iopub.status.idle": "2025-08-05T16:12:28.674176Z",
     "shell.execute_reply": "2025-08-05T16:12:28.672889Z"
    },
    "papermill": {
     "duration": 0.128585,
     "end_time": "2025-08-05T16:12:28.676395",
     "exception": false,
     "start_time": "2025-08-05T16:12:28.547810",
     "status": "completed"
    },
    "tags": []
   },
   "outputs": [],
   "source": [
    "# Auxiliary data needed downstream in the pipeline\n",
    "\n",
    "org_train = X_train.copy()\n",
    "org_test = X_test.copy()\n",
    "org_calib = X_calib.copy()"
   ]
  },
  {
   "cell_type": "markdown",
   "id": "0a4a1b33",
   "metadata": {
    "papermill": {
     "duration": 0.020251,
     "end_time": "2025-08-05T16:12:28.717988",
     "exception": false,
     "start_time": "2025-08-05T16:12:28.697737",
     "status": "completed"
    },
    "tags": []
   },
   "source": [
    "# Preprocessing Data"
   ]
  },
  {
   "cell_type": "code",
   "execution_count": 19,
   "id": "ca879031",
   "metadata": {
    "execution": {
     "iopub.execute_input": "2025-08-05T16:12:28.760621Z",
     "iopub.status.busy": "2025-08-05T16:12:28.759896Z",
     "iopub.status.idle": "2025-08-05T16:12:28.767720Z",
     "shell.execute_reply": "2025-08-05T16:12:28.766601Z"
    },
    "papermill": {
     "duration": 0.031234,
     "end_time": "2025-08-05T16:12:28.769595",
     "exception": false,
     "start_time": "2025-08-05T16:12:28.738361",
     "status": "completed"
    },
    "tags": []
   },
   "outputs": [],
   "source": [
    "# EXCLUDE PROTECTED FEATURES\n",
    "# ----------------------\n",
    "# \"exclude_features\": \"none\", # \"nationality\", \"sex\", \"nationality-sex\"\n",
    "\n",
    "excluded_features = universe[\"exclude_features\"].split(\"-\") # split, e.g.: \"nationality-sex\" -> [\"nationality\", \"sex\"]\n",
    "excluded_features_dictionary = {\n",
    "    \"nationality\": [\"maxdeutsch1\", \"maxdeutsch.Missing.\"],\n",
    "    \"sex\": [\"frau1\"],\n",
    "    \"age\": [\"age\"],\n",
    "}"
   ]
  },
  {
   "cell_type": "code",
   "execution_count": 20,
   "id": "b745ac60",
   "metadata": {
    "execution": {
     "iopub.execute_input": "2025-08-05T16:12:28.812380Z",
     "iopub.status.busy": "2025-08-05T16:12:28.811640Z",
     "iopub.status.idle": "2025-08-05T16:12:28.818149Z",
     "shell.execute_reply": "2025-08-05T16:12:28.817049Z"
    },
    "papermill": {
     "duration": 0.029777,
     "end_time": "2025-08-05T16:12:28.820014",
     "exception": false,
     "start_time": "2025-08-05T16:12:28.790237",
     "status": "completed"
    },
    "tags": []
   },
   "outputs": [],
   "source": [
    "# Code nice names to column names\n",
    "\n",
    "excluded_features_columns = [\n",
    "    excluded_features_dictionary[f] for f in excluded_features if len(f) > 0 and f != \"none\"\n",
    "]"
   ]
  },
  {
   "cell_type": "code",
   "execution_count": 21,
   "id": "f84f73a2",
   "metadata": {
    "execution": {
     "iopub.execute_input": "2025-08-05T16:12:28.862332Z",
     "iopub.status.busy": "2025-08-05T16:12:28.861826Z",
     "iopub.status.idle": "2025-08-05T16:12:28.868540Z",
     "shell.execute_reply": "2025-08-05T16:12:28.867571Z"
    },
    "papermill": {
     "duration": 0.03057,
     "end_time": "2025-08-05T16:12:28.870606",
     "exception": false,
     "start_time": "2025-08-05T16:12:28.840036",
     "status": "completed"
    },
    "tags": []
   },
   "outputs": [],
   "source": [
    "from utils import flatten_once\n",
    "\n",
    "excluded_features_columns = flatten_once(excluded_features_columns)"
   ]
  },
  {
   "cell_type": "code",
   "execution_count": 22,
   "id": "884dea22",
   "metadata": {
    "execution": {
     "iopub.execute_input": "2025-08-05T16:12:28.916299Z",
     "iopub.status.busy": "2025-08-05T16:12:28.915754Z",
     "iopub.status.idle": "2025-08-05T16:12:28.922135Z",
     "shell.execute_reply": "2025-08-05T16:12:28.921083Z"
    },
    "papermill": {
     "duration": 0.031815,
     "end_time": "2025-08-05T16:12:28.923882",
     "exception": false,
     "start_time": "2025-08-05T16:12:28.892067",
     "status": "completed"
    },
    "tags": []
   },
   "outputs": [],
   "source": [
    "if len(excluded_features_columns) > 0:\n",
    "    print(f\"Dropping features: {excluded_features_columns}\")\n",
    "    X_train.drop(excluded_features_columns, axis=1, inplace=True)"
   ]
  },
  {
   "cell_type": "code",
   "execution_count": 23,
   "id": "95ab8b16",
   "metadata": {
    "execution": {
     "iopub.execute_input": "2025-08-05T16:12:28.968372Z",
     "iopub.status.busy": "2025-08-05T16:12:28.967798Z",
     "iopub.status.idle": "2025-08-05T16:12:28.974686Z",
     "shell.execute_reply": "2025-08-05T16:12:28.973559Z"
    },
    "papermill": {
     "duration": 0.031343,
     "end_time": "2025-08-05T16:12:28.976505",
     "exception": false,
     "start_time": "2025-08-05T16:12:28.945162",
     "status": "completed"
    },
    "tags": []
   },
   "outputs": [],
   "source": [
    "if len(excluded_features_columns) > 0:\n",
    "    print(f\"Dropping features: {excluded_features_columns}\")\n",
    "    X_test.drop(excluded_features_columns, axis=1, inplace=True)"
   ]
  },
  {
   "cell_type": "code",
   "execution_count": 24,
   "id": "1853aaf5-fb9f-46cb-a2b5-8ea4ae2237e4",
   "metadata": {
    "execution": {
     "iopub.execute_input": "2025-08-05T16:12:29.021763Z",
     "iopub.status.busy": "2025-08-05T16:12:29.020742Z",
     "iopub.status.idle": "2025-08-05T16:12:29.027657Z",
     "shell.execute_reply": "2025-08-05T16:12:29.026653Z"
    },
    "papermill": {
     "duration": 0.03064,
     "end_time": "2025-08-05T16:12:29.029439",
     "exception": false,
     "start_time": "2025-08-05T16:12:28.998799",
     "status": "completed"
    },
    "tags": []
   },
   "outputs": [],
   "source": [
    "if len(excluded_features_columns) > 0:\n",
    "    print(f\"Dropping features: {excluded_features_columns}\")\n",
    "    X_calib.drop(excluded_features_columns, axis=1, inplace=True)"
   ]
  },
  {
   "cell_type": "code",
   "execution_count": 25,
   "id": "76c4dc6d",
   "metadata": {
    "execution": {
     "iopub.execute_input": "2025-08-05T16:12:29.074184Z",
     "iopub.status.busy": "2025-08-05T16:12:29.073192Z",
     "iopub.status.idle": "2025-08-05T16:12:29.079358Z",
     "shell.execute_reply": "2025-08-05T16:12:29.078307Z"
    },
    "papermill": {
     "duration": 0.030841,
     "end_time": "2025-08-05T16:12:29.081175",
     "exception": false,
     "start_time": "2025-08-05T16:12:29.050334",
     "status": "completed"
    },
    "tags": []
   },
   "outputs": [],
   "source": [
    "# EXCLUDE CERTAIN SUBGROUPS\n",
    "# ----------------------\n",
    "\n",
    "mode = universe.get(\"exclude_subgroups\", \"keep-all\") \n",
    "# Fetches the exclude_subgroups setting from the universe dict.\n",
    "# Defaults to \"keep-all\" if the key is missing."
   ]
  },
  {
   "cell_type": "code",
   "execution_count": 26,
   "id": "21994072",
   "metadata": {
    "execution": {
     "iopub.execute_input": "2025-08-05T16:12:29.124803Z",
     "iopub.status.busy": "2025-08-05T16:12:29.123734Z",
     "iopub.status.idle": "2025-08-05T16:12:29.133392Z",
     "shell.execute_reply": "2025-08-05T16:12:29.132287Z"
    },
    "papermill": {
     "duration": 0.033476,
     "end_time": "2025-08-05T16:12:29.135333",
     "exception": false,
     "start_time": "2025-08-05T16:12:29.101857",
     "status": "completed"
    },
    "tags": []
   },
   "outputs": [],
   "source": [
    "if mode == \"keep-all\":\n",
    "    keep_mask = pd.Series(True, index=org_train.index)\n",
    "\n",
    "# org_train contains the original feature columns from features_org (in Simson)\n",
    "# features_org contains unprocessed features, for me X_train at beginning ???\n",
    "# For keep-all, creates a boolean Series (keep_mask) of all True, so no rows are removed.\n",
    "\n",
    "elif mode == \"drop-non-german\":\n",
    "    keep_mask = org_train[\"maxdeutsch1\"] == 1 # ??? what about missing values?\n",
    "\n",
    "else:\n",
    "    raise ValueError(f\"Unsupported mode for exclude_subgroups: {mode}\")"
   ]
  },
  {
   "cell_type": "code",
   "execution_count": 27,
   "id": "71651440",
   "metadata": {
    "execution": {
     "iopub.execute_input": "2025-08-05T16:12:29.179599Z",
     "iopub.status.busy": "2025-08-05T16:12:29.178641Z",
     "iopub.status.idle": "2025-08-05T16:12:29.186206Z",
     "shell.execute_reply": "2025-08-05T16:12:29.185253Z"
    },
    "papermill": {
     "duration": 0.030938,
     "end_time": "2025-08-05T16:12:29.187982",
     "exception": false,
     "start_time": "2025-08-05T16:12:29.157044",
     "status": "completed"
    },
    "tags": []
   },
   "outputs": [],
   "source": [
    "n_drop = (~keep_mask).sum() # Calculates how many rows are set to be dropped\n",
    "if n_drop > 0:\n",
    "    pct = n_drop / len(keep_mask) * 100\n",
    "    print(f\"Dropping {n_drop} rows ({pct:.2f}%) where mode='{mode}'\")"
   ]
  },
  {
   "cell_type": "code",
   "execution_count": 28,
   "id": "5fb8eee5",
   "metadata": {
    "execution": {
     "iopub.execute_input": "2025-08-05T16:12:29.232383Z",
     "iopub.status.busy": "2025-08-05T16:12:29.231421Z",
     "iopub.status.idle": "2025-08-05T16:12:29.238735Z",
     "shell.execute_reply": "2025-08-05T16:12:29.237644Z"
    },
    "papermill": {
     "duration": 0.031075,
     "end_time": "2025-08-05T16:12:29.240599",
     "exception": false,
     "start_time": "2025-08-05T16:12:29.209524",
     "status": "completed"
    },
    "tags": []
   },
   "outputs": [],
   "source": [
    "X_train = X_train[keep_mask]"
   ]
  },
  {
   "cell_type": "code",
   "execution_count": 29,
   "id": "b202bb3a",
   "metadata": {
    "execution": {
     "iopub.execute_input": "2025-08-05T16:12:29.284485Z",
     "iopub.status.busy": "2025-08-05T16:12:29.283562Z",
     "iopub.status.idle": "2025-08-05T16:12:29.290127Z",
     "shell.execute_reply": "2025-08-05T16:12:29.289139Z"
    },
    "papermill": {
     "duration": 0.030518,
     "end_time": "2025-08-05T16:12:29.292164",
     "exception": false,
     "start_time": "2025-08-05T16:12:29.261646",
     "status": "completed"
    },
    "tags": []
   },
   "outputs": [],
   "source": [
    "y_train = y_train[keep_mask]"
   ]
  },
  {
   "cell_type": "markdown",
   "id": "493e2ac3",
   "metadata": {
    "papermill": {
     "duration": 0.020783,
     "end_time": "2025-08-05T16:12:29.335657",
     "exception": false,
     "start_time": "2025-08-05T16:12:29.314874",
     "status": "completed"
    },
    "tags": []
   },
   "source": [
    "# Model Training"
   ]
  },
  {
   "cell_type": "code",
   "execution_count": 30,
   "id": "679e1268",
   "metadata": {
    "execution": {
     "iopub.execute_input": "2025-08-05T16:12:29.383174Z",
     "iopub.status.busy": "2025-08-05T16:12:29.382040Z",
     "iopub.status.idle": "2025-08-05T16:12:29.503182Z",
     "shell.execute_reply": "2025-08-05T16:12:29.501920Z"
    },
    "papermill": {
     "duration": 0.148763,
     "end_time": "2025-08-05T16:12:29.505380",
     "exception": false,
     "start_time": "2025-08-05T16:12:29.356617",
     "status": "completed"
    },
    "tags": []
   },
   "outputs": [],
   "source": [
    "from sklearn.linear_model import LogisticRegression\n",
    "from sklearn.ensemble import GradientBoostingClassifier, RandomForestClassifier\n",
    "\n",
    "if (universe[\"model\"] == \"logreg\"):\n",
    "    model = LogisticRegression() #penalty=\"none\", solver=\"newton-cg\", max_iter=1) # include random_state=19 ?\n",
    "elif (universe[\"model\"] == \"penalized_logreg\"):\n",
    "    model = LogisticRegression(penalty=\"l2\", C=0.1) #, solver=\"newton-cg\", max_iter=1)\n",
    "elif (universe[\"model\"] == \"rf\"):\n",
    "    model = RandomForestClassifier() # n_estimators=100, n_jobs=-1\n",
    "elif (universe[\"model\"] == \"gbm\"):\n",
    "    model = GradientBoostingClassifier()\n",
    "elif (universe[\"model\"] == \"elasticnet\"):\n",
    "    model = LogisticRegression(penalty = 'elasticnet', solver = 'saga', l1_ratio = 0.5) # max_iter=5000\n",
    "else:\n",
    "    raise \"Unsupported universe.model\""
   ]
  },
  {
   "cell_type": "code",
   "execution_count": 31,
   "id": "0cc8f744",
   "metadata": {
    "execution": {
     "iopub.execute_input": "2025-08-05T16:12:29.550528Z",
     "iopub.status.busy": "2025-08-05T16:12:29.549476Z",
     "iopub.status.idle": "2025-08-05T16:12:29.557816Z",
     "shell.execute_reply": "2025-08-05T16:12:29.556611Z"
    },
    "papermill": {
     "duration": 0.032446,
     "end_time": "2025-08-05T16:12:29.559536",
     "exception": false,
     "start_time": "2025-08-05T16:12:29.527090",
     "status": "completed"
    },
    "tags": []
   },
   "outputs": [],
   "source": [
    "import numpy as np\n",
    "from sklearn.pipeline import Pipeline\n",
    "from sklearn.preprocessing import StandardScaler\n",
    "\n",
    "model = Pipeline([\n",
    "    #(\"continuous_processor\", continuous_processor),\n",
    "    #(\"categorical_preprocessor\", categorical_preprocessor),\n",
    "    (\"scale\", StandardScaler() if universe[\"scale\"] == \"scale\" else None), \n",
    "    (\"model\", model),\n",
    "])"
   ]
  },
  {
   "cell_type": "code",
   "execution_count": 32,
   "id": "9442c04d",
   "metadata": {
    "execution": {
     "iopub.execute_input": "2025-08-05T16:12:29.604550Z",
     "iopub.status.busy": "2025-08-05T16:12:29.603799Z",
     "iopub.status.idle": "2025-08-05T16:12:30.931518Z",
     "shell.execute_reply": "2025-08-05T16:12:30.930528Z"
    },
    "papermill": {
     "duration": 1.352391,
     "end_time": "2025-08-05T16:12:30.933564",
     "exception": false,
     "start_time": "2025-08-05T16:12:29.581173",
     "status": "completed"
    },
    "tags": []
   },
   "outputs": [
    {
     "data": {
      "text/html": [
       "<style>#sk-container-id-1 {color: black;background-color: white;}#sk-container-id-1 pre{padding: 0;}#sk-container-id-1 div.sk-toggleable {background-color: white;}#sk-container-id-1 label.sk-toggleable__label {cursor: pointer;display: block;width: 100%;margin-bottom: 0;padding: 0.3em;box-sizing: border-box;text-align: center;}#sk-container-id-1 label.sk-toggleable__label-arrow:before {content: \"▸\";float: left;margin-right: 0.25em;color: #696969;}#sk-container-id-1 label.sk-toggleable__label-arrow:hover:before {color: black;}#sk-container-id-1 div.sk-estimator:hover label.sk-toggleable__label-arrow:before {color: black;}#sk-container-id-1 div.sk-toggleable__content {max-height: 0;max-width: 0;overflow: hidden;text-align: left;background-color: #f0f8ff;}#sk-container-id-1 div.sk-toggleable__content pre {margin: 0.2em;color: black;border-radius: 0.25em;background-color: #f0f8ff;}#sk-container-id-1 input.sk-toggleable__control:checked~div.sk-toggleable__content {max-height: 200px;max-width: 100%;overflow: auto;}#sk-container-id-1 input.sk-toggleable__control:checked~label.sk-toggleable__label-arrow:before {content: \"▾\";}#sk-container-id-1 div.sk-estimator input.sk-toggleable__control:checked~label.sk-toggleable__label {background-color: #d4ebff;}#sk-container-id-1 div.sk-label input.sk-toggleable__control:checked~label.sk-toggleable__label {background-color: #d4ebff;}#sk-container-id-1 input.sk-hidden--visually {border: 0;clip: rect(1px 1px 1px 1px);clip: rect(1px, 1px, 1px, 1px);height: 1px;margin: -1px;overflow: hidden;padding: 0;position: absolute;width: 1px;}#sk-container-id-1 div.sk-estimator {font-family: monospace;background-color: #f0f8ff;border: 1px dotted black;border-radius: 0.25em;box-sizing: border-box;margin-bottom: 0.5em;}#sk-container-id-1 div.sk-estimator:hover {background-color: #d4ebff;}#sk-container-id-1 div.sk-parallel-item::after {content: \"\";width: 100%;border-bottom: 1px solid gray;flex-grow: 1;}#sk-container-id-1 div.sk-label:hover label.sk-toggleable__label {background-color: #d4ebff;}#sk-container-id-1 div.sk-serial::before {content: \"\";position: absolute;border-left: 1px solid gray;box-sizing: border-box;top: 0;bottom: 0;left: 50%;z-index: 0;}#sk-container-id-1 div.sk-serial {display: flex;flex-direction: column;align-items: center;background-color: white;padding-right: 0.2em;padding-left: 0.2em;position: relative;}#sk-container-id-1 div.sk-item {position: relative;z-index: 1;}#sk-container-id-1 div.sk-parallel {display: flex;align-items: stretch;justify-content: center;background-color: white;position: relative;}#sk-container-id-1 div.sk-item::before, #sk-container-id-1 div.sk-parallel-item::before {content: \"\";position: absolute;border-left: 1px solid gray;box-sizing: border-box;top: 0;bottom: 0;left: 50%;z-index: -1;}#sk-container-id-1 div.sk-parallel-item {display: flex;flex-direction: column;z-index: 1;position: relative;background-color: white;}#sk-container-id-1 div.sk-parallel-item:first-child::after {align-self: flex-end;width: 50%;}#sk-container-id-1 div.sk-parallel-item:last-child::after {align-self: flex-start;width: 50%;}#sk-container-id-1 div.sk-parallel-item:only-child::after {width: 0;}#sk-container-id-1 div.sk-dashed-wrapped {border: 1px dashed gray;margin: 0 0.4em 0.5em 0.4em;box-sizing: border-box;padding-bottom: 0.4em;background-color: white;}#sk-container-id-1 div.sk-label label {font-family: monospace;font-weight: bold;display: inline-block;line-height: 1.2em;}#sk-container-id-1 div.sk-label-container {text-align: center;}#sk-container-id-1 div.sk-container {/* jupyter's `normalize.less` sets `[hidden] { display: none; }` but bootstrap.min.css set `[hidden] { display: none !important; }` so we also need the `!important` here to be able to override the default hidden behavior on the sphinx rendered scikit-learn.org. See: https://github.com/scikit-learn/scikit-learn/issues/21755 */display: inline-block !important;position: relative;}#sk-container-id-1 div.sk-text-repr-fallback {display: none;}</style><div id=\"sk-container-id-1\" class=\"sk-top-container\"><div class=\"sk-text-repr-fallback\"><pre>Pipeline(steps=[(&#x27;scale&#x27;, None), (&#x27;model&#x27;, GradientBoostingClassifier())])</pre><b>In a Jupyter environment, please rerun this cell to show the HTML representation or trust the notebook. <br />On GitHub, the HTML representation is unable to render, please try loading this page with nbviewer.org.</b></div><div class=\"sk-container\" hidden><div class=\"sk-item sk-dashed-wrapped\"><div class=\"sk-label-container\"><div class=\"sk-label sk-toggleable\"><input class=\"sk-toggleable__control sk-hidden--visually\" id=\"sk-estimator-id-1\" type=\"checkbox\" ><label for=\"sk-estimator-id-1\" class=\"sk-toggleable__label sk-toggleable__label-arrow\">Pipeline</label><div class=\"sk-toggleable__content\"><pre>Pipeline(steps=[(&#x27;scale&#x27;, None), (&#x27;model&#x27;, GradientBoostingClassifier())])</pre></div></div></div><div class=\"sk-serial\"><div class=\"sk-item\"><div class=\"sk-estimator sk-toggleable\"><input class=\"sk-toggleable__control sk-hidden--visually\" id=\"sk-estimator-id-2\" type=\"checkbox\" ><label for=\"sk-estimator-id-2\" class=\"sk-toggleable__label sk-toggleable__label-arrow\">None</label><div class=\"sk-toggleable__content\"><pre>None</pre></div></div></div><div class=\"sk-item\"><div class=\"sk-estimator sk-toggleable\"><input class=\"sk-toggleable__control sk-hidden--visually\" id=\"sk-estimator-id-3\" type=\"checkbox\" ><label for=\"sk-estimator-id-3\" class=\"sk-toggleable__label sk-toggleable__label-arrow\">GradientBoostingClassifier</label><div class=\"sk-toggleable__content\"><pre>GradientBoostingClassifier()</pre></div></div></div></div></div></div></div>"
      ],
      "text/plain": [
       "Pipeline(steps=[('scale', None), ('model', GradientBoostingClassifier())])"
      ]
     },
     "execution_count": 32,
     "metadata": {},
     "output_type": "execute_result"
    }
   ],
   "source": [
    "model.fit(X_train, y_train.values.ravel())"
   ]
  },
  {
   "cell_type": "code",
   "execution_count": 33,
   "id": "af59f8c0",
   "metadata": {
    "execution": {
     "iopub.execute_input": "2025-08-05T16:12:30.980482Z",
     "iopub.status.busy": "2025-08-05T16:12:30.979335Z",
     "iopub.status.idle": "2025-08-05T16:12:30.987248Z",
     "shell.execute_reply": "2025-08-05T16:12:30.986071Z"
    },
    "papermill": {
     "duration": 0.032658,
     "end_time": "2025-08-05T16:12:30.989164",
     "exception": false,
     "start_time": "2025-08-05T16:12:30.956506",
     "status": "completed"
    },
    "tags": []
   },
   "outputs": [],
   "source": [
    "from fairness_multiverse.universe import predict_w_threshold"
   ]
  },
  {
   "cell_type": "code",
   "execution_count": 34,
   "id": "a7cf2e16",
   "metadata": {
    "execution": {
     "iopub.execute_input": "2025-08-05T16:12:31.043675Z",
     "iopub.status.busy": "2025-08-05T16:12:31.042554Z",
     "iopub.status.idle": "2025-08-05T16:12:31.753477Z",
     "shell.execute_reply": "2025-08-05T16:12:31.752546Z"
    },
    "papermill": {
     "duration": 0.739223,
     "end_time": "2025-08-05T16:12:31.755311",
     "exception": false,
     "start_time": "2025-08-05T16:12:31.016088",
     "status": "completed"
    },
    "tags": []
   },
   "outputs": [
    {
     "data": {
      "text/plain": [
       "0.8503622784527923"
      ]
     },
     "execution_count": 34,
     "metadata": {},
     "output_type": "execute_result"
    }
   ],
   "source": [
    "probs_test = model.predict_proba(X_test)\n",
    "\n",
    "'''\n",
    "Below code returns a boolean array (or binary 0/1 array depending on how it’s used) where each element \n",
    "is True if the probability of class 1 is greater than or equal to the threshold, and False otherwise.\n",
    "'''\n",
    "y_pred_default = predict_w_threshold(probs_test, 0.5)\n",
    "\n",
    "from sklearn.metrics import accuracy_score\n",
    "\n",
    "# Naive prediction\n",
    "accuracy_score(y_true = y_true, y_pred = y_pred_default)"
   ]
  },
  {
   "cell_type": "code",
   "execution_count": 35,
   "id": "081964c3",
   "metadata": {
    "execution": {
     "iopub.execute_input": "2025-08-05T16:12:31.781524Z",
     "iopub.status.busy": "2025-08-05T16:12:31.781147Z",
     "iopub.status.idle": "2025-08-05T16:12:32.442706Z",
     "shell.execute_reply": "2025-08-05T16:12:32.441556Z"
    },
    "papermill": {
     "duration": 0.676416,
     "end_time": "2025-08-05T16:12:32.444748",
     "exception": false,
     "start_time": "2025-08-05T16:12:31.768332",
     "status": "completed"
    },
    "tags": []
   },
   "outputs": [
    {
     "data": {
      "text/plain": [
       "array([0, 0, 0, ..., 0, 0, 0])"
      ]
     },
     "execution_count": 35,
     "metadata": {},
     "output_type": "execute_result"
    }
   ],
   "source": [
    "model.predict(X_test)"
   ]
  },
  {
   "cell_type": "markdown",
   "id": "56c9705b",
   "metadata": {
    "papermill": {
     "duration": 0.02401,
     "end_time": "2025-08-05T16:12:32.494461",
     "exception": false,
     "start_time": "2025-08-05T16:12:32.470451",
     "status": "completed"
    },
    "tags": []
   },
   "source": [
    "# Conformal Prediction"
   ]
  },
  {
   "cell_type": "code",
   "execution_count": 36,
   "id": "160ec6ff",
   "metadata": {
    "execution": {
     "iopub.execute_input": "2025-08-05T16:12:32.545622Z",
     "iopub.status.busy": "2025-08-05T16:12:32.544498Z",
     "iopub.status.idle": "2025-08-05T16:12:32.550710Z",
     "shell.execute_reply": "2025-08-05T16:12:32.549574Z"
    },
    "papermill": {
     "duration": 0.034215,
     "end_time": "2025-08-05T16:12:32.552830",
     "exception": false,
     "start_time": "2025-08-05T16:12:32.518615",
     "status": "completed"
    },
    "tags": []
   },
   "outputs": [],
   "source": [
    "# Miscoverage level for conformal prediction (10% allowed error rate => 90% target coverage)\n",
    "alpha = 0.1"
   ]
  },
  {
   "cell_type": "code",
   "execution_count": 37,
   "id": "eadf4555-3dd3-440e-8e35-f82a4ad9f855",
   "metadata": {
    "execution": {
     "iopub.execute_input": "2025-08-05T16:12:32.599673Z",
     "iopub.status.busy": "2025-08-05T16:12:32.599026Z",
     "iopub.status.idle": "2025-08-05T16:12:33.003385Z",
     "shell.execute_reply": "2025-08-05T16:12:33.002260Z"
    },
    "papermill": {
     "duration": 0.430068,
     "end_time": "2025-08-05T16:12:33.005753",
     "exception": false,
     "start_time": "2025-08-05T16:12:32.575685",
     "status": "completed"
    },
    "tags": []
   },
   "outputs": [],
   "source": [
    "probs_calib = model.predict_proba(X_calib)"
   ]
  },
  {
   "cell_type": "code",
   "execution_count": 38,
   "id": "2ed93547-6d5d-4983-9b36-1ecb300da49a",
   "metadata": {
    "execution": {
     "iopub.execute_input": "2025-08-05T16:12:33.056517Z",
     "iopub.status.busy": "2025-08-05T16:12:33.055956Z",
     "iopub.status.idle": "2025-08-05T16:12:33.061931Z",
     "shell.execute_reply": "2025-08-05T16:12:33.060779Z"
    },
    "papermill": {
     "duration": 0.035007,
     "end_time": "2025-08-05T16:12:33.063868",
     "exception": false,
     "start_time": "2025-08-05T16:12:33.028861",
     "status": "completed"
    },
    "tags": []
   },
   "outputs": [],
   "source": [
    "y_calib = y_calib.values.ravel().astype(int)"
   ]
  },
  {
   "cell_type": "code",
   "execution_count": 39,
   "id": "65d1320d-f588-4b38-9072-62af1ae97f7d",
   "metadata": {
    "execution": {
     "iopub.execute_input": "2025-08-05T16:12:33.113127Z",
     "iopub.status.busy": "2025-08-05T16:12:33.111550Z",
     "iopub.status.idle": "2025-08-05T16:12:33.120340Z",
     "shell.execute_reply": "2025-08-05T16:12:33.119250Z"
    },
    "papermill": {
     "duration": 0.036202,
     "end_time": "2025-08-05T16:12:33.122266",
     "exception": false,
     "start_time": "2025-08-05T16:12:33.086064",
     "status": "completed"
    },
    "tags": []
   },
   "outputs": [],
   "source": [
    "from fairness_multiverse.conformal import compute_nc_scores\n",
    "\n",
    "# Compute nonconformity scores on calibration set (1 - probability of true class)\n",
    "nc_scores = compute_nc_scores(probs_calib, y_calib)"
   ]
  },
  {
   "cell_type": "code",
   "execution_count": 40,
   "id": "df3b8ca3-53b7-43d5-9667-7c85da7aeda2",
   "metadata": {
    "execution": {
     "iopub.execute_input": "2025-08-05T16:12:33.169718Z",
     "iopub.status.busy": "2025-08-05T16:12:33.169304Z",
     "iopub.status.idle": "2025-08-05T16:12:33.177295Z",
     "shell.execute_reply": "2025-08-05T16:12:33.176188Z"
    },
    "papermill": {
     "duration": 0.035585,
     "end_time": "2025-08-05T16:12:33.179113",
     "exception": false,
     "start_time": "2025-08-05T16:12:33.143528",
     "status": "completed"
    },
    "tags": []
   },
   "outputs": [],
   "source": [
    "from fairness_multiverse.conformal import find_threshold\n",
    "\n",
    "# Find conformal threshold q_hat for the given alpha (split conformal method)\n",
    "q_hat = find_threshold(nc_scores, alpha)"
   ]
  },
  {
   "cell_type": "code",
   "execution_count": 41,
   "id": "4d29e6c1-0ef6-4aa4-b8fe-4fe79b0d033a",
   "metadata": {
    "execution": {
     "iopub.execute_input": "2025-08-05T16:12:33.208959Z",
     "iopub.status.busy": "2025-08-05T16:12:33.208348Z",
     "iopub.status.idle": "2025-08-05T16:12:33.215426Z",
     "shell.execute_reply": "2025-08-05T16:12:33.214604Z"
    },
    "papermill": {
     "duration": 0.021881,
     "end_time": "2025-08-05T16:12:33.217014",
     "exception": false,
     "start_time": "2025-08-05T16:12:33.195133",
     "status": "completed"
    },
    "tags": []
   },
   "outputs": [
    {
     "data": {
      "text/plain": [
       "0.7418920731414473"
      ]
     },
     "execution_count": 41,
     "metadata": {},
     "output_type": "execute_result"
    }
   ],
   "source": [
    "q_hat"
   ]
  },
  {
   "cell_type": "code",
   "execution_count": 42,
   "id": "92460794-cdac-4be2-ba28-f28c0515a6fb",
   "metadata": {
    "execution": {
     "iopub.execute_input": "2025-08-05T16:12:33.258891Z",
     "iopub.status.busy": "2025-08-05T16:12:33.258100Z",
     "iopub.status.idle": "2025-08-05T16:12:34.740527Z",
     "shell.execute_reply": "2025-08-05T16:12:34.739248Z"
    },
    "papermill": {
     "duration": 1.510577,
     "end_time": "2025-08-05T16:12:34.742888",
     "exception": false,
     "start_time": "2025-08-05T16:12:33.232311",
     "status": "completed"
    },
    "tags": []
   },
   "outputs": [],
   "source": [
    "from fairness_multiverse.conformal import predict_conformal_sets\n",
    "\n",
    "# Generate prediction sets for each test example\n",
    "pred_sets = predict_conformal_sets(model, X_test, q_hat)"
   ]
  },
  {
   "cell_type": "code",
   "execution_count": 43,
   "id": "d90c9a65-e6db-4f5d-80cd-e68fb7e46829",
   "metadata": {
    "execution": {
     "iopub.execute_input": "2025-08-05T16:12:34.801078Z",
     "iopub.status.busy": "2025-08-05T16:12:34.799927Z",
     "iopub.status.idle": "2025-08-05T16:12:34.807336Z",
     "shell.execute_reply": "2025-08-05T16:12:34.806115Z"
    },
    "papermill": {
     "duration": 0.039444,
     "end_time": "2025-08-05T16:12:34.809449",
     "exception": false,
     "start_time": "2025-08-05T16:12:34.770005",
     "status": "completed"
    },
    "tags": []
   },
   "outputs": [],
   "source": [
    "y_true = y_true.squeeze()"
   ]
  },
  {
   "cell_type": "code",
   "execution_count": 44,
   "id": "3a58a54a-1e68-46b9-927a-df01f18aebc8",
   "metadata": {
    "execution": {
     "iopub.execute_input": "2025-08-05T16:12:34.853126Z",
     "iopub.status.busy": "2025-08-05T16:12:34.852160Z",
     "iopub.status.idle": "2025-08-05T16:12:36.218576Z",
     "shell.execute_reply": "2025-08-05T16:12:36.216988Z"
    },
    "papermill": {
     "duration": 1.393173,
     "end_time": "2025-08-05T16:12:36.220846",
     "exception": false,
     "start_time": "2025-08-05T16:12:34.827673",
     "status": "completed"
    },
    "tags": []
   },
   "outputs": [],
   "source": [
    "from fairness_multiverse.conformal import evaluate_sets\n",
    "\n",
    "# Evaluate coverage and average set size on test data\n",
    "metrics = evaluate_sets(pred_sets, y_true)"
   ]
  },
  {
   "cell_type": "markdown",
   "id": "2b569c12-9aaa-4c88-98c9-bbcd0cf3ebb8",
   "metadata": {
    "papermill": {
     "duration": 0.0237,
     "end_time": "2025-08-05T16:12:36.270563",
     "exception": false,
     "start_time": "2025-08-05T16:12:36.246863",
     "status": "completed"
    },
    "tags": []
   },
   "source": [
    "# CP Metrics"
   ]
  },
  {
   "cell_type": "code",
   "execution_count": 45,
   "id": "5ce0a5cb-201f-45a0-ade5-94c7f0bd6095",
   "metadata": {
    "execution": {
     "iopub.execute_input": "2025-08-05T16:12:36.322062Z",
     "iopub.status.busy": "2025-08-05T16:12:36.320912Z",
     "iopub.status.idle": "2025-08-05T16:12:36.329193Z",
     "shell.execute_reply": "2025-08-05T16:12:36.328109Z"
    },
    "papermill": {
     "duration": 0.036395,
     "end_time": "2025-08-05T16:12:36.331070",
     "exception": false,
     "start_time": "2025-08-05T16:12:36.294675",
     "status": "completed"
    },
    "tags": []
   },
   "outputs": [
    {
     "data": {
      "text/plain": [
       "{'coverage': 0.9102218258834021, 'avg_size': 1.1565154386356036}"
      ]
     },
     "execution_count": 45,
     "metadata": {},
     "output_type": "execute_result"
    }
   ],
   "source": [
    "metrics"
   ]
  },
  {
   "cell_type": "code",
   "execution_count": 46,
   "id": "9b9a838d-31c9-430b-ae14-12baee460d17",
   "metadata": {
    "execution": {
     "iopub.execute_input": "2025-08-05T16:12:36.372342Z",
     "iopub.status.busy": "2025-08-05T16:12:36.371954Z",
     "iopub.status.idle": "2025-08-05T16:12:36.378003Z",
     "shell.execute_reply": "2025-08-05T16:12:36.377104Z"
    },
    "papermill": {
     "duration": 0.024419,
     "end_time": "2025-08-05T16:12:36.379544",
     "exception": false,
     "start_time": "2025-08-05T16:12:36.355125",
     "status": "completed"
    },
    "tags": []
   },
   "outputs": [],
   "source": [
    "example_universe = universe.copy()\n",
    "universe_training_year = example_universe.get(\"training_year\")\n",
    "universe_training_size = example_universe.get(\"training_size\")\n",
    "universe_scale = example_universe.get(\"scale\")\n",
    "universe_model = example_universe.get(\"model\")\n",
    "universe_exclude_features = example_universe.get(\"exclude_features\")\n",
    "universe_exclude_subgroups = example_universe.get(\"exclude_subgroups\")"
   ]
  },
  {
   "cell_type": "code",
   "execution_count": 47,
   "id": "f4b6a8ac-9dc0-4245-8a91-5b3b5999c4f9",
   "metadata": {
    "execution": {
     "iopub.execute_input": "2025-08-05T16:12:36.407439Z",
     "iopub.status.busy": "2025-08-05T16:12:36.406813Z",
     "iopub.status.idle": "2025-08-05T16:12:36.414012Z",
     "shell.execute_reply": "2025-08-05T16:12:36.412383Z"
    },
    "papermill": {
     "duration": 0.024888,
     "end_time": "2025-08-05T16:12:36.418125",
     "exception": false,
     "start_time": "2025-08-05T16:12:36.393237",
     "status": "completed"
    },
    "tags": []
   },
   "outputs": [],
   "source": [
    "cp_metrics_dict = {\n",
    "    \"universe_id\": [universe_id],\n",
    "    \"universe_training_year\": [universe_training_year],\n",
    "    \"universe_training_size\": [universe_training_size],\n",
    "    \"universe_scale\": [universe_scale],\n",
    "    \"universe_model\": [universe_model],\n",
    "    \"universe_exclude_features\": [universe_exclude_features],\n",
    "    \"universe_exclude_subgroups\": [universe_exclude_subgroups],\n",
    "    \"q_hat\": [q_hat],\n",
    "    \"coverage\": [metrics[\"coverage\"]],\n",
    "    \"avg_size\": [metrics[\"avg_size\"]],\n",
    "}"
   ]
  },
  {
   "cell_type": "code",
   "execution_count": 48,
   "id": "908acbb1-0371-4915-85ca-3fa520d2efe2",
   "metadata": {
    "execution": {
     "iopub.execute_input": "2025-08-05T16:12:36.469984Z",
     "iopub.status.busy": "2025-08-05T16:12:36.469305Z",
     "iopub.status.idle": "2025-08-05T16:12:36.475949Z",
     "shell.execute_reply": "2025-08-05T16:12:36.474992Z"
    },
    "papermill": {
     "duration": 0.034454,
     "end_time": "2025-08-05T16:12:36.477985",
     "exception": false,
     "start_time": "2025-08-05T16:12:36.443531",
     "status": "completed"
    },
    "tags": []
   },
   "outputs": [
    {
     "data": {
      "text/plain": [
       "{'universe_id': ['94e0338bfae4fb3e9869d2b2ce31ce8c'],\n",
       " 'universe_training_year': ['2014'],\n",
       " 'universe_training_size': ['1k'],\n",
       " 'universe_scale': ['do-not-scale'],\n",
       " 'universe_model': ['gbm'],\n",
       " 'universe_exclude_features': ['none'],\n",
       " 'universe_exclude_subgroups': ['keep-all'],\n",
       " 'q_hat': [0.7418920731414473],\n",
       " 'coverage': [0.9102218258834021],\n",
       " 'avg_size': [1.1565154386356036]}"
      ]
     },
     "execution_count": 48,
     "metadata": {},
     "output_type": "execute_result"
    }
   ],
   "source": [
    "cp_metrics_dict"
   ]
  },
  {
   "cell_type": "code",
   "execution_count": 49,
   "id": "33007efc-14e9-4ec6-97ac-56a455c82265",
   "metadata": {
    "execution": {
     "iopub.execute_input": "2025-08-05T16:12:36.529432Z",
     "iopub.status.busy": "2025-08-05T16:12:36.528931Z",
     "iopub.status.idle": "2025-08-05T16:12:36.534283Z",
     "shell.execute_reply": "2025-08-05T16:12:36.533421Z"
    },
    "papermill": {
     "duration": 0.033624,
     "end_time": "2025-08-05T16:12:36.536047",
     "exception": false,
     "start_time": "2025-08-05T16:12:36.502423",
     "status": "completed"
    },
    "tags": []
   },
   "outputs": [],
   "source": [
    "cp_metrics_df = pd.DataFrame(cp_metrics_dict)"
   ]
  },
  {
   "cell_type": "code",
   "execution_count": 50,
   "id": "db12611b-57b2-4910-b9d0-355adfd6e7bf",
   "metadata": {
    "execution": {
     "iopub.execute_input": "2025-08-05T16:12:36.586617Z",
     "iopub.status.busy": "2025-08-05T16:12:36.586116Z",
     "iopub.status.idle": "2025-08-05T16:12:36.601508Z",
     "shell.execute_reply": "2025-08-05T16:12:36.600601Z"
    },
    "papermill": {
     "duration": 0.042428,
     "end_time": "2025-08-05T16:12:36.603016",
     "exception": false,
     "start_time": "2025-08-05T16:12:36.560588",
     "status": "completed"
    },
    "tags": []
   },
   "outputs": [
    {
     "data": {
      "text/html": [
       "<div>\n",
       "<style scoped>\n",
       "    .dataframe tbody tr th:only-of-type {\n",
       "        vertical-align: middle;\n",
       "    }\n",
       "\n",
       "    .dataframe tbody tr th {\n",
       "        vertical-align: top;\n",
       "    }\n",
       "\n",
       "    .dataframe thead th {\n",
       "        text-align: right;\n",
       "    }\n",
       "</style>\n",
       "<table border=\"1\" class=\"dataframe\">\n",
       "  <thead>\n",
       "    <tr style=\"text-align: right;\">\n",
       "      <th></th>\n",
       "      <th>universe_id</th>\n",
       "      <th>universe_training_year</th>\n",
       "      <th>universe_training_size</th>\n",
       "      <th>universe_scale</th>\n",
       "      <th>universe_model</th>\n",
       "      <th>universe_exclude_features</th>\n",
       "      <th>universe_exclude_subgroups</th>\n",
       "      <th>q_hat</th>\n",
       "      <th>coverage</th>\n",
       "      <th>avg_size</th>\n",
       "    </tr>\n",
       "  </thead>\n",
       "  <tbody>\n",
       "    <tr>\n",
       "      <th>0</th>\n",
       "      <td>94e0338bfae4fb3e9869d2b2ce31ce8c</td>\n",
       "      <td>2014</td>\n",
       "      <td>1k</td>\n",
       "      <td>do-not-scale</td>\n",
       "      <td>gbm</td>\n",
       "      <td>none</td>\n",
       "      <td>keep-all</td>\n",
       "      <td>0.741892</td>\n",
       "      <td>0.910222</td>\n",
       "      <td>1.156515</td>\n",
       "    </tr>\n",
       "  </tbody>\n",
       "</table>\n",
       "</div>"
      ],
      "text/plain": [
       "                        universe_id universe_training_year  \\\n",
       "0  94e0338bfae4fb3e9869d2b2ce31ce8c                   2014   \n",
       "\n",
       "  universe_training_size universe_scale universe_model  \\\n",
       "0                     1k   do-not-scale            gbm   \n",
       "\n",
       "  universe_exclude_features universe_exclude_subgroups     q_hat  coverage  \\\n",
       "0                      none                   keep-all  0.741892  0.910222   \n",
       "\n",
       "   avg_size  \n",
       "0  1.156515  "
      ]
     },
     "execution_count": 50,
     "metadata": {},
     "output_type": "execute_result"
    }
   ],
   "source": [
    "cp_metrics_df"
   ]
  },
  {
   "cell_type": "code",
   "execution_count": 51,
   "id": "b7fbde55-a0a1-47e4-9af6-fe4a17fa8c61",
   "metadata": {
    "execution": {
     "iopub.execute_input": "2025-08-05T16:12:36.631643Z",
     "iopub.status.busy": "2025-08-05T16:12:36.631047Z",
     "iopub.status.idle": "2025-08-05T16:12:36.636312Z",
     "shell.execute_reply": "2025-08-05T16:12:36.635486Z"
    },
    "papermill": {
     "duration": 0.021083,
     "end_time": "2025-08-05T16:12:36.637867",
     "exception": false,
     "start_time": "2025-08-05T16:12:36.616784",
     "status": "completed"
    },
    "tags": []
   },
   "outputs": [],
   "source": [
    "# Conditional Coverage & looking at subgroups"
   ]
  },
  {
   "cell_type": "code",
   "execution_count": 52,
   "id": "027ae886-68dd-4141-96c7-805a5450e1ef",
   "metadata": {
    "execution": {
     "iopub.execute_input": "2025-08-05T16:12:36.670199Z",
     "iopub.status.busy": "2025-08-05T16:12:36.669719Z",
     "iopub.status.idle": "2025-08-05T16:12:36.933836Z",
     "shell.execute_reply": "2025-08-05T16:12:36.932613Z"
    },
    "papermill": {
     "duration": 0.280734,
     "end_time": "2025-08-05T16:12:36.935715",
     "exception": false,
     "start_time": "2025-08-05T16:12:36.654981",
     "status": "completed"
    },
    "tags": []
   },
   "outputs": [],
   "source": [
    "from fairness_multiverse.conformal import build_cp_groups\n",
    "\n",
    "cp_groups_df = build_cp_groups(pred_sets, y_true, X_test.index, org_test)\n",
    "#needs universe_id and setting"
   ]
  },
  {
   "cell_type": "code",
   "execution_count": 53,
   "id": "6cbdab96-b2b2-45af-ad54-d0516db2e28d",
   "metadata": {
    "execution": {
     "iopub.execute_input": "2025-08-05T16:12:36.975473Z",
     "iopub.status.busy": "2025-08-05T16:12:36.975033Z",
     "iopub.status.idle": "2025-08-05T16:12:38.117334Z",
     "shell.execute_reply": "2025-08-05T16:12:38.116164Z"
    },
    "papermill": {
     "duration": 1.159855,
     "end_time": "2025-08-05T16:12:38.119128",
     "exception": false,
     "start_time": "2025-08-05T16:12:36.959273",
     "status": "completed"
    },
    "tags": []
   },
   "outputs": [],
   "source": [
    "# Define covered = 1 if true_label is in the predicted set\n",
    "cp_groups_df['covered'] = cp_groups_df.apply(\n",
    "    lambda r: int(r['true_label'] in r['pred_set']),\n",
    "    axis=1\n",
    ")"
   ]
  },
  {
   "cell_type": "code",
   "execution_count": 54,
   "id": "338ff529-1a6b-4b87-a931-8e4788d52aad",
   "metadata": {
    "execution": {
     "iopub.execute_input": "2025-08-05T16:12:38.173880Z",
     "iopub.status.busy": "2025-08-05T16:12:38.173334Z",
     "iopub.status.idle": "2025-08-05T16:12:38.179143Z",
     "shell.execute_reply": "2025-08-05T16:12:38.177939Z"
    },
    "papermill": {
     "duration": 0.035552,
     "end_time": "2025-08-05T16:12:38.180835",
     "exception": false,
     "start_time": "2025-08-05T16:12:38.145283",
     "status": "completed"
    },
    "tags": []
   },
   "outputs": [],
   "source": [
    "#cp_groups_df"
   ]
  },
  {
   "cell_type": "code",
   "execution_count": 55,
   "id": "90032e27-66df-4540-9169-4e89cfbaa758",
   "metadata": {
    "execution": {
     "iopub.execute_input": "2025-08-05T16:12:38.211012Z",
     "iopub.status.busy": "2025-08-05T16:12:38.210259Z",
     "iopub.status.idle": "2025-08-05T16:12:38.220826Z",
     "shell.execute_reply": "2025-08-05T16:12:38.220008Z"
    },
    "papermill": {
     "duration": 0.026686,
     "end_time": "2025-08-05T16:12:38.222401",
     "exception": false,
     "start_time": "2025-08-05T16:12:38.195715",
     "status": "completed"
    },
    "tags": []
   },
   "outputs": [],
   "source": [
    "subgroups = ['frau1','nongerman','nongerman_male','nongerman_female']\n",
    "\n",
    "# Conditional coverage for subgroup==1\n",
    "cond_coverage = {\n",
    "    g: cp_groups_df.loc[cp_groups_df[g]==1, 'covered'].mean()\n",
    "    for g in subgroups\n",
    "}"
   ]
  },
  {
   "cell_type": "code",
   "execution_count": 56,
   "id": "1e348fb1-b9c3-45bc-ba23-f016827a7e0d",
   "metadata": {
    "execution": {
     "iopub.execute_input": "2025-08-05T16:12:38.252356Z",
     "iopub.status.busy": "2025-08-05T16:12:38.251553Z",
     "iopub.status.idle": "2025-08-05T16:12:38.259275Z",
     "shell.execute_reply": "2025-08-05T16:12:38.258391Z"
    },
    "papermill": {
     "duration": 0.023981,
     "end_time": "2025-08-05T16:12:38.260843",
     "exception": false,
     "start_time": "2025-08-05T16:12:38.236862",
     "status": "completed"
    },
    "tags": []
   },
   "outputs": [
    {
     "data": {
      "text/plain": [
       "{'frau1': 0.9071303410163095,\n",
       " 'nongerman': 0.9072026048391624,\n",
       " 'nongerman_male': 0.9251553634152931,\n",
       " 'nongerman_female': 0.8774962742175857}"
      ]
     },
     "execution_count": 56,
     "metadata": {},
     "output_type": "execute_result"
    }
   ],
   "source": [
    "cond_coverage"
   ]
  },
  {
   "cell_type": "code",
   "execution_count": 57,
   "id": "f5093324-c3dd-4d63-bc4c-8d945e5c8bbb",
   "metadata": {
    "execution": {
     "iopub.execute_input": "2025-08-05T16:12:38.291181Z",
     "iopub.status.busy": "2025-08-05T16:12:38.290348Z",
     "iopub.status.idle": "2025-08-05T16:12:38.297295Z",
     "shell.execute_reply": "2025-08-05T16:12:38.296475Z"
    },
    "papermill": {
     "duration": 0.023584,
     "end_time": "2025-08-05T16:12:38.298973",
     "exception": false,
     "start_time": "2025-08-05T16:12:38.275389",
     "status": "completed"
    },
    "tags": []
   },
   "outputs": [],
   "source": [
    "for subgroup, cov in cond_coverage.items():\n",
    "    cp_metrics_df[f\"cov_{subgroup}\"] = cov"
   ]
  },
  {
   "cell_type": "code",
   "execution_count": 58,
   "id": "6e872e10-dbe5-49e8-b554-5030c98ff75d",
   "metadata": {
    "execution": {
     "iopub.execute_input": "2025-08-05T16:12:38.329080Z",
     "iopub.status.busy": "2025-08-05T16:12:38.328260Z",
     "iopub.status.idle": "2025-08-05T16:12:38.344788Z",
     "shell.execute_reply": "2025-08-05T16:12:38.343730Z"
    },
    "papermill": {
     "duration": 0.032906,
     "end_time": "2025-08-05T16:12:38.346402",
     "exception": false,
     "start_time": "2025-08-05T16:12:38.313496",
     "status": "completed"
    },
    "tags": []
   },
   "outputs": [
    {
     "data": {
      "text/html": [
       "<div>\n",
       "<style scoped>\n",
       "    .dataframe tbody tr th:only-of-type {\n",
       "        vertical-align: middle;\n",
       "    }\n",
       "\n",
       "    .dataframe tbody tr th {\n",
       "        vertical-align: top;\n",
       "    }\n",
       "\n",
       "    .dataframe thead th {\n",
       "        text-align: right;\n",
       "    }\n",
       "</style>\n",
       "<table border=\"1\" class=\"dataframe\">\n",
       "  <thead>\n",
       "    <tr style=\"text-align: right;\">\n",
       "      <th></th>\n",
       "      <th>universe_id</th>\n",
       "      <th>universe_training_year</th>\n",
       "      <th>universe_training_size</th>\n",
       "      <th>universe_scale</th>\n",
       "      <th>universe_model</th>\n",
       "      <th>universe_exclude_features</th>\n",
       "      <th>universe_exclude_subgroups</th>\n",
       "      <th>q_hat</th>\n",
       "      <th>coverage</th>\n",
       "      <th>avg_size</th>\n",
       "      <th>cov_frau1</th>\n",
       "      <th>cov_nongerman</th>\n",
       "      <th>cov_nongerman_male</th>\n",
       "      <th>cov_nongerman_female</th>\n",
       "    </tr>\n",
       "  </thead>\n",
       "  <tbody>\n",
       "    <tr>\n",
       "      <th>0</th>\n",
       "      <td>94e0338bfae4fb3e9869d2b2ce31ce8c</td>\n",
       "      <td>2014</td>\n",
       "      <td>1k</td>\n",
       "      <td>do-not-scale</td>\n",
       "      <td>gbm</td>\n",
       "      <td>none</td>\n",
       "      <td>keep-all</td>\n",
       "      <td>0.741892</td>\n",
       "      <td>0.910222</td>\n",
       "      <td>1.156515</td>\n",
       "      <td>0.90713</td>\n",
       "      <td>0.907203</td>\n",
       "      <td>0.925155</td>\n",
       "      <td>0.877496</td>\n",
       "    </tr>\n",
       "  </tbody>\n",
       "</table>\n",
       "</div>"
      ],
      "text/plain": [
       "                        universe_id universe_training_year  \\\n",
       "0  94e0338bfae4fb3e9869d2b2ce31ce8c                   2014   \n",
       "\n",
       "  universe_training_size universe_scale universe_model  \\\n",
       "0                     1k   do-not-scale            gbm   \n",
       "\n",
       "  universe_exclude_features universe_exclude_subgroups     q_hat  coverage  \\\n",
       "0                      none                   keep-all  0.741892  0.910222   \n",
       "\n",
       "   avg_size  cov_frau1  cov_nongerman  cov_nongerman_male  \\\n",
       "0  1.156515    0.90713       0.907203            0.925155   \n",
       "\n",
       "   cov_nongerman_female  \n",
       "0              0.877496  "
      ]
     },
     "execution_count": 58,
     "metadata": {},
     "output_type": "execute_result"
    }
   ],
   "source": [
    "cp_metrics_df"
   ]
  },
  {
   "cell_type": "markdown",
   "id": "33774451",
   "metadata": {
    "papermill": {
     "duration": 0.013935,
     "end_time": "2025-08-05T16:12:38.375486",
     "exception": false,
     "start_time": "2025-08-05T16:12:38.361551",
     "status": "completed"
    },
    "tags": []
   },
   "source": [
    "# (Fairness) Metrics"
   ]
  },
  {
   "cell_type": "code",
   "execution_count": 59,
   "id": "debc5d62",
   "metadata": {
    "execution": {
     "iopub.execute_input": "2025-08-05T16:12:38.405092Z",
     "iopub.status.busy": "2025-08-05T16:12:38.404275Z",
     "iopub.status.idle": "2025-08-05T16:12:38.420896Z",
     "shell.execute_reply": "2025-08-05T16:12:38.420056Z"
    },
    "papermill": {
     "duration": 0.033402,
     "end_time": "2025-08-05T16:12:38.422741",
     "exception": false,
     "start_time": "2025-08-05T16:12:38.389339",
     "status": "completed"
    },
    "tags": []
   },
   "outputs": [],
   "source": [
    "# do I need to include maxdeutsch1.missing?\n",
    "\n",
    "import numpy as np\n",
    "\n",
    "colname_to_bin = \"maxdeutsch1\"\n",
    "majority_value = org_train[colname_to_bin].mode()[0]\n",
    "\n",
    "org_test[\"majmin\"] = np.where(org_test[colname_to_bin] == majority_value, \"majority\", \"minority\")"
   ]
  },
  {
   "cell_type": "code",
   "execution_count": 60,
   "id": "06a50de5",
   "metadata": {
    "execution": {
     "iopub.execute_input": "2025-08-05T16:12:38.454060Z",
     "iopub.status.busy": "2025-08-05T16:12:38.453060Z",
     "iopub.status.idle": "2025-08-05T16:12:41.284163Z",
     "shell.execute_reply": "2025-08-05T16:12:41.282970Z"
    },
    "papermill": {
     "duration": 2.848937,
     "end_time": "2025-08-05T16:12:41.286528",
     "exception": false,
     "start_time": "2025-08-05T16:12:38.437591",
     "status": "completed"
    },
    "tags": []
   },
   "outputs": [],
   "source": [
    "example_universe = universe.copy()\n",
    "example_universe[\"cutoff\"] = example_universe[\"cutoff\"][0]\n",
    "example_universe[\"eval_fairness_grouping\"] = example_universe[\"eval_fairness_grouping\"][0]\n",
    "fairness_dict, metric_frame = universe_analysis.compute_metrics(\n",
    "    example_universe,\n",
    "    y_pred_prob=probs_test,\n",
    "    y_test=y_true,\n",
    "    org_test=org_test,\n",
    ")"
   ]
  },
  {
   "cell_type": "markdown",
   "id": "f95d4e02",
   "metadata": {
    "papermill": {
     "duration": 0.026157,
     "end_time": "2025-08-05T16:12:41.341240",
     "exception": false,
     "start_time": "2025-08-05T16:12:41.315083",
     "status": "completed"
    },
    "tags": []
   },
   "source": [
    "# Overall"
   ]
  },
  {
   "cell_type": "markdown",
   "id": "bdee4871",
   "metadata": {
    "papermill": {
     "duration": 0.026915,
     "end_time": "2025-08-05T16:12:41.395421",
     "exception": false,
     "start_time": "2025-08-05T16:12:41.368506",
     "status": "completed"
    },
    "tags": []
   },
   "source": [
    "Fairness\n",
    "Main fairness target: Equalized Odds. Seems to be a better fit than equal opportunity, since we're not only interested in Y = 1. Seems to be a better fit than demographic parity, since we also care about accuracy, not just equal distribution of preds.\n",
    "\n",
    "Pick column for computation of fairness metrics\n",
    "\n",
    "Performance\n",
    "Overall performance measures, most interesting in relation to the measures split by group below"
   ]
  },
  {
   "cell_type": "code",
   "execution_count": 61,
   "id": "c4e067c6",
   "metadata": {
    "execution": {
     "iopub.execute_input": "2025-08-05T16:12:41.451228Z",
     "iopub.status.busy": "2025-08-05T16:12:41.450554Z",
     "iopub.status.idle": "2025-08-05T16:12:41.461305Z",
     "shell.execute_reply": "2025-08-05T16:12:41.460214Z"
    },
    "papermill": {
     "duration": 0.041221,
     "end_time": "2025-08-05T16:12:41.463235",
     "exception": false,
     "start_time": "2025-08-05T16:12:41.422014",
     "status": "completed"
    },
    "tags": []
   },
   "outputs": [
    {
     "data": {
      "text/plain": [
       "accuracy                   0.221792\n",
       "balanced accuracy          0.542854\n",
       "f1                         0.243195\n",
       "precision                  0.138929\n",
       "false positive rate        0.889005\n",
       "false negative rate        0.025287\n",
       "selection rate             0.900000\n",
       "count                  89710.000000\n",
       "dtype: float64"
      ]
     },
     "execution_count": 61,
     "metadata": {},
     "output_type": "execute_result"
    }
   ],
   "source": [
    "metric_frame.overall"
   ]
  },
  {
   "cell_type": "markdown",
   "id": "e968fe9d",
   "metadata": {
    "papermill": {
     "duration": 0.026641,
     "end_time": "2025-08-05T16:12:41.516887",
     "exception": false,
     "start_time": "2025-08-05T16:12:41.490246",
     "status": "completed"
    },
    "tags": []
   },
   "source": [
    "By Group"
   ]
  },
  {
   "cell_type": "code",
   "execution_count": 62,
   "id": "ec325bce",
   "metadata": {
    "execution": {
     "iopub.execute_input": "2025-08-05T16:12:41.573911Z",
     "iopub.status.busy": "2025-08-05T16:12:41.572754Z",
     "iopub.status.idle": "2025-08-05T16:12:41.591762Z",
     "shell.execute_reply": "2025-08-05T16:12:41.590497Z"
    },
    "papermill": {
     "duration": 0.049064,
     "end_time": "2025-08-05T16:12:41.593848",
     "exception": false,
     "start_time": "2025-08-05T16:12:41.544784",
     "status": "completed"
    },
    "tags": []
   },
   "outputs": [
    {
     "data": {
      "text/html": [
       "<div>\n",
       "<style scoped>\n",
       "    .dataframe tbody tr th:only-of-type {\n",
       "        vertical-align: middle;\n",
       "    }\n",
       "\n",
       "    .dataframe tbody tr th {\n",
       "        vertical-align: top;\n",
       "    }\n",
       "\n",
       "    .dataframe thead th {\n",
       "        text-align: right;\n",
       "    }\n",
       "</style>\n",
       "<table border=\"1\" class=\"dataframe\">\n",
       "  <thead>\n",
       "    <tr style=\"text-align: right;\">\n",
       "      <th></th>\n",
       "      <th>accuracy</th>\n",
       "      <th>balanced accuracy</th>\n",
       "      <th>f1</th>\n",
       "      <th>precision</th>\n",
       "      <th>false positive rate</th>\n",
       "      <th>false negative rate</th>\n",
       "      <th>selection rate</th>\n",
       "      <th>count</th>\n",
       "    </tr>\n",
       "    <tr>\n",
       "      <th>majmin</th>\n",
       "      <th></th>\n",
       "      <th></th>\n",
       "      <th></th>\n",
       "      <th></th>\n",
       "      <th></th>\n",
       "      <th></th>\n",
       "      <th></th>\n",
       "      <th></th>\n",
       "    </tr>\n",
       "  </thead>\n",
       "  <tbody>\n",
       "    <tr>\n",
       "      <th>majority</th>\n",
       "      <td>0.243400</td>\n",
       "      <td>0.551487</td>\n",
       "      <td>0.253118</td>\n",
       "      <td>0.145544</td>\n",
       "      <td>0.867266</td>\n",
       "      <td>0.029759</td>\n",
       "      <td>0.880873</td>\n",
       "      <td>69170.0</td>\n",
       "    </tr>\n",
       "    <tr>\n",
       "      <th>minority</th>\n",
       "      <td>0.149026</td>\n",
       "      <td>0.515579</td>\n",
       "      <td>0.211841</td>\n",
       "      <td>0.118582</td>\n",
       "      <td>0.960819</td>\n",
       "      <td>0.008024</td>\n",
       "      <td>0.964411</td>\n",
       "      <td>20540.0</td>\n",
       "    </tr>\n",
       "  </tbody>\n",
       "</table>\n",
       "</div>"
      ],
      "text/plain": [
       "          accuracy  balanced accuracy        f1  precision  \\\n",
       "majmin                                                       \n",
       "majority  0.243400           0.551487  0.253118   0.145544   \n",
       "minority  0.149026           0.515579  0.211841   0.118582   \n",
       "\n",
       "          false positive rate  false negative rate  selection rate    count  \n",
       "majmin                                                                       \n",
       "majority             0.867266             0.029759        0.880873  69170.0  \n",
       "minority             0.960819             0.008024        0.964411  20540.0  "
      ]
     },
     "execution_count": 62,
     "metadata": {},
     "output_type": "execute_result"
    }
   ],
   "source": [
    "metric_frame.by_group"
   ]
  },
  {
   "cell_type": "code",
   "execution_count": 63,
   "id": "a9ddbe63",
   "metadata": {
    "execution": {
     "iopub.execute_input": "2025-08-05T16:12:41.659343Z",
     "iopub.status.busy": "2025-08-05T16:12:41.658737Z",
     "iopub.status.idle": "2025-08-05T16:12:44.873013Z",
     "shell.execute_reply": "2025-08-05T16:12:44.871860Z"
    },
    "papermill": {
     "duration": 3.248042,
     "end_time": "2025-08-05T16:12:44.874904",
     "exception": false,
     "start_time": "2025-08-05T16:12:41.626862",
     "status": "completed"
    },
    "tags": []
   },
   "outputs": [
    {
     "data": {
      "text/plain": [
       "array([[<Axes: title={'center': 'accuracy'}, xlabel='majmin'>,\n",
       "        <Axes: title={'center': 'balanced accuracy'}, xlabel='majmin'>,\n",
       "        <Axes: title={'center': 'f1'}, xlabel='majmin'>],\n",
       "       [<Axes: title={'center': 'precision'}, xlabel='majmin'>,\n",
       "        <Axes: title={'center': 'false positive rate'}, xlabel='majmin'>,\n",
       "        <Axes: title={'center': 'false negative rate'}, xlabel='majmin'>],\n",
       "       [<Axes: title={'center': 'selection rate'}, xlabel='majmin'>,\n",
       "        <Axes: title={'center': 'count'}, xlabel='majmin'>,\n",
       "        <Axes: xlabel='majmin'>]], dtype=object)"
      ]
     },
     "execution_count": 63,
     "metadata": {},
     "output_type": "execute_result"
    },
    {
     "data": {
      "image/png": "[encoded data removed]",
      "text/plain": [
       "<Figure size 1200x800 with 9 Axes>"
      ]
     },
     "metadata": {},
     "output_type": "display_data"
    }
   ],
   "source": [
    "# In a graphic\n",
    "metric_frame.by_group.plot.bar(\n",
    "    subplots=True,\n",
    "    layout=[3, 3],\n",
    "    legend=False,\n",
    "    figsize=[12, 8],\n",
    "    title=\"Show all metrics\",\n",
    ")"
   ]
  },
  {
   "cell_type": "markdown",
   "id": "f57a0bac",
   "metadata": {
    "papermill": {
     "duration": 0.030992,
     "end_time": "2025-08-05T16:12:44.939961",
     "exception": false,
     "start_time": "2025-08-05T16:12:44.908969",
     "status": "completed"
    },
    "tags": []
   },
   "source": [
    "# Final Output"
   ]
  },
  {
   "cell_type": "code",
   "execution_count": 64,
   "id": "96d280a3",
   "metadata": {
    "execution": {
     "iopub.execute_input": "2025-08-05T16:12:45.004414Z",
     "iopub.status.busy": "2025-08-05T16:12:45.003065Z",
     "iopub.status.idle": "2025-08-05T16:12:45.014201Z",
     "shell.execute_reply": "2025-08-05T16:12:45.012919Z"
    },
    "papermill": {
     "duration": 0.045535,
     "end_time": "2025-08-05T16:12:45.016345",
     "exception": false,
     "start_time": "2025-08-05T16:12:44.970810",
     "status": "completed"
    },
    "tags": []
   },
   "outputs": [
    {
     "data": {
      "text/plain": [
       "4"
      ]
     },
     "execution_count": 64,
     "metadata": {},
     "output_type": "execute_result"
    }
   ],
   "source": [
    "sub_universes = universe_analysis.generate_sub_universes()\n",
    "len(sub_universes)"
   ]
  },
  {
   "cell_type": "code",
   "execution_count": 65,
   "id": "92adf7ba",
   "metadata": {
    "execution": {
     "iopub.execute_input": "2025-08-05T16:12:45.078964Z",
     "iopub.status.busy": "2025-08-05T16:12:45.078265Z",
     "iopub.status.idle": "2025-08-05T16:12:45.085818Z",
     "shell.execute_reply": "2025-08-05T16:12:45.084597Z"
    },
    "papermill": {
     "duration": 0.041475,
     "end_time": "2025-08-05T16:12:45.088010",
     "exception": false,
     "start_time": "2025-08-05T16:12:45.046535",
     "status": "completed"
    },
    "tags": []
   },
   "outputs": [],
   "source": [
    "def filter_sub_universe_data(sub_universe, org_test):\n",
    "    # Keep all rows — no filtering\n",
    "    keep_rows_mask = np.ones(org_test.shape[0], dtype=bool)\n",
    "\n",
    "    print(f\"[INFO] Keeping all rows: {keep_rows_mask.sum()} rows retained.\")\n",
    "    return keep_rows_mask"
   ]
  },
  {
   "cell_type": "code",
   "execution_count": 66,
   "id": "4a759155",
   "metadata": {
    "execution": {
     "iopub.execute_input": "2025-08-05T16:12:45.148469Z",
     "iopub.status.busy": "2025-08-05T16:12:45.147428Z",
     "iopub.status.idle": "2025-08-05T16:12:57.327406Z",
     "shell.execute_reply": "2025-08-05T16:12:57.326449Z"
    },
    "papermill": {
     "duration": 12.211866,
     "end_time": "2025-08-05T16:12:57.329044",
     "exception": false,
     "start_time": "2025-08-05T16:12:45.117178",
     "status": "completed"
    },
    "tags": []
   },
   "outputs": [
    {
     "name": "stdout",
     "output_type": "stream",
     "text": [
      "Stopping execution_time clock.\n",
      "[INFO] Keeping all rows: 89710 rows retained.\n"
     ]
    },
    {
     "name": "stdout",
     "output_type": "stream",
     "text": [
      "[INFO] Keeping all rows: 89710 rows retained.\n"
     ]
    },
    {
     "name": "stdout",
     "output_type": "stream",
     "text": [
      "[INFO] Keeping all rows: 89710 rows retained.\n"
     ]
    },
    {
     "name": "stdout",
     "output_type": "stream",
     "text": [
      "[INFO] Keeping all rows: 89710 rows retained.\n"
     ]
    },
    {
     "data": {
      "text/html": [
       "<div>\n",
       "<style scoped>\n",
       "    .dataframe tbody tr th:only-of-type {\n",
       "        vertical-align: middle;\n",
       "    }\n",
       "\n",
       "    .dataframe tbody tr th {\n",
       "        vertical-align: top;\n",
       "    }\n",
       "\n",
       "    .dataframe thead th {\n",
       "        text-align: right;\n",
       "    }\n",
       "</style>\n",
       "<table border=\"1\" class=\"dataframe\">\n",
       "  <thead>\n",
       "    <tr style=\"text-align: right;\">\n",
       "      <th></th>\n",
       "      <th>run_no</th>\n",
       "      <th>universe_id</th>\n",
       "      <th>universe_settings</th>\n",
       "      <th>execution_time</th>\n",
       "      <th>test_size_n</th>\n",
       "      <th>test_size_frac</th>\n",
       "      <th>fair_main_equalized_odds_difference</th>\n",
       "      <th>fair_main_equalized_odds_ratio</th>\n",
       "      <th>fair_main_demographic_parity_difference</th>\n",
       "      <th>fair_main_demographic_parity_ratio</th>\n",
       "      <th>...</th>\n",
       "      <th>perf_grp_precision_0</th>\n",
       "      <th>perf_grp_precision_1</th>\n",
       "      <th>perf_grp_false positive rate_0</th>\n",
       "      <th>perf_grp_false positive rate_1</th>\n",
       "      <th>perf_grp_false negative rate_0</th>\n",
       "      <th>perf_grp_false negative rate_1</th>\n",
       "      <th>perf_grp_selection rate_0</th>\n",
       "      <th>perf_grp_selection rate_1</th>\n",
       "      <th>perf_grp_count_0</th>\n",
       "      <th>perf_grp_count_1</th>\n",
       "    </tr>\n",
       "  </thead>\n",
       "  <tbody>\n",
       "    <tr>\n",
       "      <th>0</th>\n",
       "      <td>15</td>\n",
       "      <td>94e0338bfae4fb3e9869d2b2ce31ce8c</td>\n",
       "      <td>{\"cutoff\": \"quantile_0.1\", \"eval_fairness_grou...</td>\n",
       "      <td>30.559223</td>\n",
       "      <td>89710</td>\n",
       "      <td>1.0</td>\n",
       "      <td>0.093552</td>\n",
       "      <td>0.902633</td>\n",
       "      <td>0.083538</td>\n",
       "      <td>0.913380</td>\n",
       "      <td>...</td>\n",
       "      <td>NaN</td>\n",
       "      <td>NaN</td>\n",
       "      <td>NaN</td>\n",
       "      <td>NaN</td>\n",
       "      <td>NaN</td>\n",
       "      <td>NaN</td>\n",
       "      <td>NaN</td>\n",
       "      <td>NaN</td>\n",
       "      <td>NaN</td>\n",
       "      <td>NaN</td>\n",
       "    </tr>\n",
       "    <tr>\n",
       "      <th>0</th>\n",
       "      <td>15</td>\n",
       "      <td>94e0338bfae4fb3e9869d2b2ce31ce8c</td>\n",
       "      <td>{\"cutoff\": \"quantile_0.1\", \"eval_fairness_grou...</td>\n",
       "      <td>30.559223</td>\n",
       "      <td>89710</td>\n",
       "      <td>1.0</td>\n",
       "      <td>0.093552</td>\n",
       "      <td>0.902633</td>\n",
       "      <td>0.083538</td>\n",
       "      <td>0.913380</td>\n",
       "      <td>...</td>\n",
       "      <td>0.118582</td>\n",
       "      <td>0.145544</td>\n",
       "      <td>0.960819</td>\n",
       "      <td>0.867266</td>\n",
       "      <td>0.008024</td>\n",
       "      <td>0.029759</td>\n",
       "      <td>0.964411</td>\n",
       "      <td>0.880873</td>\n",
       "      <td>20540.0</td>\n",
       "      <td>69170.0</td>\n",
       "    </tr>\n",
       "    <tr>\n",
       "      <th>0</th>\n",
       "      <td>15</td>\n",
       "      <td>94e0338bfae4fb3e9869d2b2ce31ce8c</td>\n",
       "      <td>{\"cutoff\": \"quantile_0.25\", \"eval_fairness_gro...</td>\n",
       "      <td>30.559223</td>\n",
       "      <td>89710</td>\n",
       "      <td>1.0</td>\n",
       "      <td>0.114479</td>\n",
       "      <td>0.859230</td>\n",
       "      <td>0.099141</td>\n",
       "      <td>0.880038</td>\n",
       "      <td>...</td>\n",
       "      <td>NaN</td>\n",
       "      <td>NaN</td>\n",
       "      <td>NaN</td>\n",
       "      <td>NaN</td>\n",
       "      <td>NaN</td>\n",
       "      <td>NaN</td>\n",
       "      <td>NaN</td>\n",
       "      <td>NaN</td>\n",
       "      <td>NaN</td>\n",
       "      <td>NaN</td>\n",
       "    </tr>\n",
       "    <tr>\n",
       "      <th>0</th>\n",
       "      <td>15</td>\n",
       "      <td>94e0338bfae4fb3e9869d2b2ce31ce8c</td>\n",
       "      <td>{\"cutoff\": \"quantile_0.25\", \"eval_fairness_gro...</td>\n",
       "      <td>30.559223</td>\n",
       "      <td>89710</td>\n",
       "      <td>1.0</td>\n",
       "      <td>0.114479</td>\n",
       "      <td>0.859230</td>\n",
       "      <td>0.099141</td>\n",
       "      <td>0.880038</td>\n",
       "      <td>...</td>\n",
       "      <td>0.129426</td>\n",
       "      <td>0.166200</td>\n",
       "      <td>0.813229</td>\n",
       "      <td>0.698751</td>\n",
       "      <td>0.072213</td>\n",
       "      <td>0.085230</td>\n",
       "      <td>0.826436</td>\n",
       "      <td>0.727295</td>\n",
       "      <td>20540.0</td>\n",
       "      <td>69170.0</td>\n",
       "    </tr>\n",
       "  </tbody>\n",
       "</table>\n",
       "<p>4 rows × 50 columns</p>\n",
       "</div>"
      ],
      "text/plain": [
       "  run_no                       universe_id  \\\n",
       "0     15  94e0338bfae4fb3e9869d2b2ce31ce8c   \n",
       "0     15  94e0338bfae4fb3e9869d2b2ce31ce8c   \n",
       "0     15  94e0338bfae4fb3e9869d2b2ce31ce8c   \n",
       "0     15  94e0338bfae4fb3e9869d2b2ce31ce8c   \n",
       "\n",
       "                                   universe_settings  execution_time  \\\n",
       "0  {\"cutoff\": \"quantile_0.1\", \"eval_fairness_grou...       30.559223   \n",
       "0  {\"cutoff\": \"quantile_0.1\", \"eval_fairness_grou...       30.559223   \n",
       "0  {\"cutoff\": \"quantile_0.25\", \"eval_fairness_gro...       30.559223   \n",
       "0  {\"cutoff\": \"quantile_0.25\", \"eval_fairness_gro...       30.559223   \n",
       "\n",
       "   test_size_n  test_size_frac  fair_main_equalized_odds_difference  \\\n",
       "0        89710             1.0                             0.093552   \n",
       "0        89710             1.0                             0.093552   \n",
       "0        89710             1.0                             0.114479   \n",
       "0        89710             1.0                             0.114479   \n",
       "\n",
       "   fair_main_equalized_odds_ratio  fair_main_demographic_parity_difference  \\\n",
       "0                        0.902633                                 0.083538   \n",
       "0                        0.902633                                 0.083538   \n",
       "0                        0.859230                                 0.099141   \n",
       "0                        0.859230                                 0.099141   \n",
       "\n",
       "   fair_main_demographic_parity_ratio  ...  perf_grp_precision_0  \\\n",
       "0                            0.913380  ...                   NaN   \n",
       "0                            0.913380  ...              0.118582   \n",
       "0                            0.880038  ...                   NaN   \n",
       "0                            0.880038  ...              0.129426   \n",
       "\n",
       "   perf_grp_precision_1  perf_grp_false positive rate_0  \\\n",
       "0                   NaN                             NaN   \n",
       "0              0.145544                        0.960819   \n",
       "0                   NaN                             NaN   \n",
       "0              0.166200                        0.813229   \n",
       "\n",
       "   perf_grp_false positive rate_1  perf_grp_false negative rate_0  \\\n",
       "0                             NaN                             NaN   \n",
       "0                        0.867266                        0.008024   \n",
       "0                             NaN                             NaN   \n",
       "0                        0.698751                        0.072213   \n",
       "\n",
       "   perf_grp_false negative rate_1  perf_grp_selection rate_0  \\\n",
       "0                             NaN                        NaN   \n",
       "0                        0.029759                   0.964411   \n",
       "0                             NaN                        NaN   \n",
       "0                        0.085230                   0.826436   \n",
       "\n",
       "   perf_grp_selection rate_1  perf_grp_count_0  perf_grp_count_1  \n",
       "0                        NaN               NaN               NaN  \n",
       "0                   0.880873           20540.0           69170.0  \n",
       "0                        NaN               NaN               NaN  \n",
       "0                   0.727295           20540.0           69170.0  \n",
       "\n",
       "[4 rows x 50 columns]"
      ]
     },
     "execution_count": 66,
     "metadata": {},
     "output_type": "execute_result"
    }
   ],
   "source": [
    "final_output = universe_analysis.generate_final_output(\n",
    "    y_pred_prob=probs_test,\n",
    "    y_test=y_true,\n",
    "    org_test=org_test,\n",
    "    filter_data=filter_sub_universe_data,\n",
    "    cp_metrics_df=cp_metrics_df,\n",
    "    save=True,\n",
    ")\n",
    "final_output"
   ]
  }
 ],
 "metadata": {
  "celltoolbar": "Tags",
  "kernelspec": {
   "display_name": "Python (CMA Fairness)",
   "language": "python",
   "name": "cma_fair_env"
  },
  "language_info": {
   "codemirror_mode": {
    "name": "ipython",
    "version": 3
   },
   "file_extension": ".py",
   "mimetype": "text/x-python",
   "name": "python",
   "nbconvert_exporter": "python",
   "pygments_lexer": "ipython3",
   "version": "3.10.12"
  },
  "papermill": {
   "default_parameters": {},
   "duration": 47.079565,
   "end_time": "2025-08-05T16:12:58.066840",
   "environment_variables": {},
   "exception": null,
   "input_path": "universe_analysis.ipynb",
   "output_path": "output/runs/15/notebooks/m_15-94e0338bfae4fb3e9869d2b2ce31ce8c.ipynb",
   "parameters": {
    "output_dir": "output",
    "run_no": "15",
    "seed": "2023",
    "universe": "{\"cutoff\": [\"quantile_0.1\", \"quantile_0.25\"], \"eval_fairness_grouping\": [\"majority-minority\", \"nationality-all\"], \"exclude_features\": \"none\", \"exclude_subgroups\": \"keep-all\", \"model\": \"gbm\", \"scale\": \"do-not-scale\", \"training_size\": \"1k\", \"training_year\": \"2014\"}",
    "universe_id": "94e0338bfae4fb3e9869d2b2ce31ce8c"
   },
   "start_time": "2025-08-05T16:12:10.987275",
   "version": "2.6.0"
  }
 },
 "nbformat": 4,
 "nbformat_minor": 5
}