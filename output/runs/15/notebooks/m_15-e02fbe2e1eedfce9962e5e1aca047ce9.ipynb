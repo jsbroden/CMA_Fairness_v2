{
 "cells": [
  {
   "cell_type": "code",
   "execution_count": 1,
   "id": "f159f837-637b-42ba-96b5-ec9a68c44524",
   "metadata": {
    "execution": {
     "iopub.execute_input": "2025-08-05T15:59:11.817737Z",
     "iopub.status.busy": "2025-08-05T15:59:11.817206Z",
     "iopub.status.idle": "2025-08-05T15:59:11.831335Z",
     "shell.execute_reply": "2025-08-05T15:59:11.830087Z"
    },
    "papermill": {
     "duration": 0.025994,
     "end_time": "2025-08-05T15:59:11.833166",
     "exception": false,
     "start_time": "2025-08-05T15:59:11.807172",
     "status": "completed"
    },
    "tags": []
   },
   "outputs": [
    {
     "name": "stdout",
     "output_type": "stream",
     "text": [
      "/dss/dsshome1/0C/ra93lal2/cma/CMA_Fairness_v2\n"
     ]
    },
    {
     "name": "stderr",
     "output_type": "stream",
     "text": [
      "/dss/dsshome1/0C/ra93lal2/.local/share/virtualenvs/CMA_Fairness_v2-3j10GkSs/lib/python3.10/site-packages/IPython/core/magics/osm.py:393: UserWarning: This is now an optional IPython functionality, using bookmarks requires you to install the `pickleshare` library.\n",
      "  bkms = self.shell.db.get('bookmarks', {})\n",
      "/dss/dsshome1/0C/ra93lal2/.local/share/virtualenvs/CMA_Fairness_v2-3j10GkSs/lib/python3.10/site-packages/IPython/core/magics/osm.py:417: UserWarning: This is now an optional IPython functionality, setting dhist requires you to install the `pickleshare` library.\n",
      "  self.shell.db['dhist'] = compress_dhist(dhist)[-100:]\n"
     ]
    }
   ],
   "source": [
    "%cd ~/cma/CMA_Fairness_v2"
   ]
  },
  {
   "cell_type": "markdown",
   "id": "de2603b9",
   "metadata": {
    "papermill": {
     "duration": 0.016913,
     "end_time": "2025-08-05T15:59:11.867228",
     "exception": false,
     "start_time": "2025-08-05T15:59:11.850315",
     "status": "completed"
    },
    "tags": []
   },
   "source": [
    "The following cell holds the definition of our parameters, these values can be overriden by rendering the with e.g. the following command:\n",
    "\n",
    "papermill -p alpha 0.2 -p ratio 0.3 universe_analysis.ipynb output/test_run.ipynb"
   ]
  },
  {
   "cell_type": "code",
   "execution_count": 2,
   "id": "a80968a0-40bb-4fa9-85ef-2d5eefb01975",
   "metadata": {
    "execution": {
     "iopub.execute_input": "2025-08-05T15:59:11.900362Z",
     "iopub.status.busy": "2025-08-05T15:59:11.899398Z",
     "iopub.status.idle": "2025-08-05T15:59:11.905364Z",
     "shell.execute_reply": "2025-08-05T15:59:11.904408Z"
    },
    "papermill": {
     "duration": 0.02229,
     "end_time": "2025-08-05T15:59:11.907052",
     "exception": false,
     "start_time": "2025-08-05T15:59:11.884762",
     "status": "completed"
    },
    "tags": []
   },
   "outputs": [
    {
     "name": "stdout",
     "output_type": "stream",
     "text": [
      "Current working directory: /dss/dsshome1/0C/ra93lal2/cma/CMA_Fairness_v2\n"
     ]
    }
   ],
   "source": [
    "import os\n",
    "print(\"Current working directory:\", os.getcwd())"
   ]
  },
  {
   "cell_type": "code",
   "execution_count": 3,
   "id": "2dce4c03",
   "metadata": {
    "execution": {
     "iopub.execute_input": "2025-08-05T15:59:11.945598Z",
     "iopub.status.busy": "2025-08-05T15:59:11.945086Z",
     "iopub.status.idle": "2025-08-05T15:59:11.967048Z",
     "shell.execute_reply": "2025-08-05T15:59:11.966228Z"
    },
    "papermill": {
     "duration": 0.042996,
     "end_time": "2025-08-05T15:59:11.968398",
     "exception": false,
     "start_time": "2025-08-05T15:59:11.925402",
     "status": "completed"
    },
    "tags": [
     "parameters"
    ]
   },
   "outputs": [],
   "source": [
    "run_no = 0\n",
    "universe_id = \"test\"\n",
    "universe = {\n",
    "    \"training_size\": \"25k\", # \"25k\", \"5k\", \"1k\"\n",
    "    \"training_year\": \"2014\", # \"2014\", \"2012_14\", \"2010_14\"\n",
    "    \"scale\": \"scale\", # \"scale\", \"do-not-scale\",\n",
    "    \"model\": \"elasticnet\", # \"logreg\", \"penalized_logreg\", \"rf\", \"gbm\", \"elasticnet\"\n",
    "    \"cutoff\": [\"quantile_0.15\", \"quantile_0.30\"],\n",
    "    \"exclude_features\": \"age\", # \"none\", \"nationality\", \"sex\", \"nationality-sex\", \"age\"\n",
    "    \"exclude_subgroups\": \"keep-all\", # \"keep-all\", \"drop-non-german\"\n",
    "    \"eval_fairness_grouping\": [\"majority-minority\", \"nationality-all\"]\n",
    "}\n",
    "\n",
    "output_dir=\"./output\"\n",
    "seed=0"
   ]
  },
  {
   "cell_type": "code",
   "execution_count": 4,
   "id": "807adf82",
   "metadata": {
    "execution": {
     "iopub.execute_input": "2025-08-05T15:59:11.987857Z",
     "iopub.status.busy": "2025-08-05T15:59:11.987536Z",
     "iopub.status.idle": "2025-08-05T15:59:11.991735Z",
     "shell.execute_reply": "2025-08-05T15:59:11.990823Z"
    },
    "papermill": {
     "duration": 0.01574,
     "end_time": "2025-08-05T15:59:11.993167",
     "exception": false,
     "start_time": "2025-08-05T15:59:11.977427",
     "status": "completed"
    },
    "tags": [
     "injected-parameters"
    ]
   },
   "outputs": [],
   "source": [
    "# Parameters\n",
    "universe_id = \"e02fbe2e1eedfce9962e5e1aca047ce9\"\n",
    "run_no = \"15\"\n",
    "universe = \"{\\\"cutoff\\\": [\\\"quantile_0.1\\\", \\\"quantile_0.25\\\"], \\\"eval_fairness_grouping\\\": [\\\"majority-minority\\\", \\\"nationality-all\\\"], \\\"exclude_features\\\": \\\"nationality\\\", \\\"exclude_subgroups\\\": \\\"keep-all\\\", \\\"model\\\": \\\"gbm\\\", \\\"scale\\\": \\\"do-not-scale\\\", \\\"training_size\\\": \\\"5k\\\", \\\"training_year\\\": \\\"2010_14\\\"}\"\n",
    "output_dir = \"output\"\n",
    "seed = \"2023\"\n"
   ]
  },
  {
   "cell_type": "code",
   "execution_count": 5,
   "id": "1650acaf",
   "metadata": {
    "execution": {
     "iopub.execute_input": "2025-08-05T15:59:12.020565Z",
     "iopub.status.busy": "2025-08-05T15:59:12.019996Z",
     "iopub.status.idle": "2025-08-05T15:59:12.024446Z",
     "shell.execute_reply": "2025-08-05T15:59:12.023721Z"
    },
    "papermill": {
     "duration": 0.023597,
     "end_time": "2025-08-05T15:59:12.026354",
     "exception": false,
     "start_time": "2025-08-05T15:59:12.002757",
     "status": "completed"
    },
    "tags": []
   },
   "outputs": [],
   "source": [
    "import json\n",
    "if isinstance(universe, str):\n",
    "    universe = json.loads(universe)"
   ]
  },
  {
   "cell_type": "code",
   "execution_count": 6,
   "id": "16620c48",
   "metadata": {
    "execution": {
     "iopub.execute_input": "2025-08-05T15:59:12.050968Z",
     "iopub.status.busy": "2025-08-05T15:59:12.050559Z",
     "iopub.status.idle": "2025-08-05T15:59:12.089817Z",
     "shell.execute_reply": "2025-08-05T15:59:12.088662Z"
    },
    "papermill": {
     "duration": 0.052098,
     "end_time": "2025-08-05T15:59:12.092044",
     "exception": false,
     "start_time": "2025-08-05T15:59:12.039946",
     "status": "completed"
    },
    "tags": []
   },
   "outputs": [],
   "source": [
    "# Auto-reload the custom package\n",
    "%load_ext autoreload\n",
    "%autoreload 1\n",
    "%aimport fairness_multiverse"
   ]
  },
  {
   "cell_type": "code",
   "execution_count": 7,
   "id": "01c5c9f3",
   "metadata": {
    "execution": {
     "iopub.execute_input": "2025-08-05T15:59:12.130679Z",
     "iopub.status.busy": "2025-08-05T15:59:12.129782Z",
     "iopub.status.idle": "2025-08-05T15:59:14.103271Z",
     "shell.execute_reply": "2025-08-05T15:59:14.102298Z"
    },
    "papermill": {
     "duration": 1.995093,
     "end_time": "2025-08-05T15:59:14.105070",
     "exception": false,
     "start_time": "2025-08-05T15:59:12.109977",
     "status": "completed"
    },
    "tags": []
   },
   "outputs": [],
   "source": [
    "from fairness_multiverse.universe import UniverseAnalysis\n",
    "\n",
    "universe_analysis = UniverseAnalysis(\n",
    "    run_no = run_no,\n",
    "    universe_id = universe_id,\n",
    "    universe = universe,\n",
    "    output_dir=output_dir,\n",
    ")"
   ]
  },
  {
   "cell_type": "code",
   "execution_count": 8,
   "id": "106241f5",
   "metadata": {
    "execution": {
     "iopub.execute_input": "2025-08-05T15:59:14.143962Z",
     "iopub.status.busy": "2025-08-05T15:59:14.143077Z",
     "iopub.status.idle": "2025-08-05T15:59:14.149643Z",
     "shell.execute_reply": "2025-08-05T15:59:14.148682Z"
    },
    "papermill": {
     "duration": 0.026821,
     "end_time": "2025-08-05T15:59:14.151309",
     "exception": false,
     "start_time": "2025-08-05T15:59:14.124488",
     "status": "completed"
    },
    "tags": []
   },
   "outputs": [
    {
     "name": "stdout",
     "output_type": "stream",
     "text": [
      "Using Seed: 2023\n"
     ]
    }
   ],
   "source": [
    "import numpy as np\n",
    "parsed_seed = int(seed)\n",
    "np.random.seed(parsed_seed)\n",
    "print(f\"Using Seed: {parsed_seed}\")"
   ]
  },
  {
   "cell_type": "markdown",
   "id": "e0ebdc57",
   "metadata": {
    "papermill": {
     "duration": 0.016533,
     "end_time": "2025-08-05T15:59:14.183889",
     "exception": false,
     "start_time": "2025-08-05T15:59:14.167356",
     "status": "completed"
    },
    "tags": []
   },
   "source": [
    "# Loading Data"
   ]
  },
  {
   "cell_type": "code",
   "execution_count": 9,
   "id": "f0496b8a",
   "metadata": {
    "execution": {
     "iopub.execute_input": "2025-08-05T15:59:14.216940Z",
     "iopub.status.busy": "2025-08-05T15:59:14.216217Z",
     "iopub.status.idle": "2025-08-05T15:59:26.603432Z",
     "shell.execute_reply": "2025-08-05T15:59:26.602535Z"
    },
    "papermill": {
     "duration": 12.405238,
     "end_time": "2025-08-05T15:59:26.604927",
     "exception": false,
     "start_time": "2025-08-05T15:59:14.199689",
     "status": "completed"
    },
    "tags": []
   },
   "outputs": [
    {
     "name": "stdout",
     "output_type": "stream",
     "text": [
      "Loading SIAB data from cache: data/siab_cached.csv.gz\n"
     ]
    },
    {
     "name": "stdout",
     "output_type": "stream",
     "text": [
      "(643690, 164)\n"
     ]
    }
   ],
   "source": [
    "from pathlib import Path\n",
    "import pandas as pd\n",
    "\n",
    "# File paths\n",
    "raw_file = Path(\"data/raw/siab.csv\")\n",
    "cache_file = Path(\"data/siab_cached.csv.gz\")\n",
    "\n",
    "# Ensure cache directory exists\n",
    "cache_file.parent.mkdir(parents=True, exist_ok=True)\n",
    "\n",
    "# Load with simple caching\n",
    "if cache_file.exists():\n",
    "    print(f\"Loading SIAB data from cache: {cache_file}\")\n",
    "    siab = pd.read_csv(cache_file, compression='gzip')\n",
    "else:\n",
    "    print(f\"Cache not found. Reading raw SIAB data: {raw_file}\")\n",
    "    siab = pd.read_csv(raw_file)\n",
    "    siab.to_csv(cache_file, index=False, compression='gzip')\n",
    "    print(f\"Cached SIAB data to: {cache_file}\")\n",
    "\n",
    "print(siab.shape)"
   ]
  },
  {
   "cell_type": "code",
   "execution_count": 10,
   "id": "db0ca512-5f53-4dba-abdb-a2888bca41ba",
   "metadata": {
    "execution": {
     "iopub.execute_input": "2025-08-05T15:59:26.635827Z",
     "iopub.status.busy": "2025-08-05T15:59:26.635423Z",
     "iopub.status.idle": "2025-08-05T15:59:26.640011Z",
     "shell.execute_reply": "2025-08-05T15:59:26.639252Z"
    },
    "papermill": {
     "duration": 0.024601,
     "end_time": "2025-08-05T15:59:26.641690",
     "exception": false,
     "start_time": "2025-08-05T15:59:26.617089",
     "status": "completed"
    },
    "tags": []
   },
   "outputs": [],
   "source": [
    "#siab"
   ]
  },
  {
   "cell_type": "markdown",
   "id": "997051c5-15bd-4b69-9786-c3001a3ce484",
   "metadata": {
    "papermill": {
     "duration": 0.008894,
     "end_time": "2025-08-05T15:59:26.660776",
     "exception": false,
     "start_time": "2025-08-05T15:59:26.651882",
     "status": "completed"
    },
    "tags": []
   },
   "source": [
    "# Splitting Data and Setting Training Data Size"
   ]
  },
  {
   "cell_type": "code",
   "execution_count": 11,
   "id": "aea9c6ef-6f46-42c8-85eb-5a62025c1508",
   "metadata": {
    "execution": {
     "iopub.execute_input": "2025-08-05T15:59:26.679862Z",
     "iopub.status.busy": "2025-08-05T15:59:26.679528Z",
     "iopub.status.idle": "2025-08-05T15:59:27.734093Z",
     "shell.execute_reply": "2025-08-05T15:59:27.733119Z"
    },
    "papermill": {
     "duration": 1.065702,
     "end_time": "2025-08-05T15:59:27.735450",
     "exception": false,
     "start_time": "2025-08-05T15:59:26.669748",
     "status": "completed"
    },
    "tags": []
   },
   "outputs": [],
   "source": [
    "from fairness_multiverse.universe import sample_by_year_size\n",
    "\n",
    "siab_train = sample_by_year_size(siab,\n",
    "                               training_year=universe[\"training_year\"],\n",
    "                               training_size=universe[\"training_size\"])"
   ]
  },
  {
   "cell_type": "code",
   "execution_count": 12,
   "id": "8d3afb32-789d-442c-8d5d-9f5aa8dd2eed",
   "metadata": {
    "execution": {
     "iopub.execute_input": "2025-08-05T15:59:27.756288Z",
     "iopub.status.busy": "2025-08-05T15:59:27.755619Z",
     "iopub.status.idle": "2025-08-05T15:59:27.760559Z",
     "shell.execute_reply": "2025-08-05T15:59:27.759553Z"
    },
    "papermill": {
     "duration": 0.016274,
     "end_time": "2025-08-05T15:59:27.762140",
     "exception": false,
     "start_time": "2025-08-05T15:59:27.745866",
     "status": "completed"
    },
    "tags": []
   },
   "outputs": [],
   "source": [
    "#siab_train.shape"
   ]
  },
  {
   "cell_type": "code",
   "execution_count": 13,
   "id": "d582db68-1a4c-47fb-84fc-08518dc1975a",
   "metadata": {
    "execution": {
     "iopub.execute_input": "2025-08-05T15:59:27.782072Z",
     "iopub.status.busy": "2025-08-05T15:59:27.781570Z",
     "iopub.status.idle": "2025-08-05T15:59:27.785493Z",
     "shell.execute_reply": "2025-08-05T15:59:27.784736Z"
    },
    "papermill": {
     "duration": 0.014687,
     "end_time": "2025-08-05T15:59:27.786860",
     "exception": false,
     "start_time": "2025-08-05T15:59:27.772173",
     "status": "completed"
    },
    "tags": []
   },
   "outputs": [],
   "source": [
    "#display(siab_train.groupby(\"year\").size())"
   ]
  },
  {
   "cell_type": "code",
   "execution_count": 14,
   "id": "a561edb4-d032-42cb-8256-22eac1111c64",
   "metadata": {
    "execution": {
     "iopub.execute_input": "2025-08-05T15:59:27.806686Z",
     "iopub.status.busy": "2025-08-05T15:59:27.806048Z",
     "iopub.status.idle": "2025-08-05T15:59:28.077527Z",
     "shell.execute_reply": "2025-08-05T15:59:28.076575Z"
    },
    "papermill": {
     "duration": 0.282505,
     "end_time": "2025-08-05T15:59:28.079057",
     "exception": false,
     "start_time": "2025-08-05T15:59:27.796552",
     "status": "completed"
    },
    "tags": []
   },
   "outputs": [],
   "source": [
    "#siab_train = siab_s[siab_s.year < 2015]\n",
    "siab_calib = siab[siab.year == 2015]\n",
    "siab_test = siab[siab.year == 2016]"
   ]
  },
  {
   "cell_type": "code",
   "execution_count": 15,
   "id": "472de16f-c3db-4916-846b-1f0de9cf1746",
   "metadata": {
    "execution": {
     "iopub.execute_input": "2025-08-05T15:59:28.115210Z",
     "iopub.status.busy": "2025-08-05T15:59:28.114755Z",
     "iopub.status.idle": "2025-08-05T15:59:28.123196Z",
     "shell.execute_reply": "2025-08-05T15:59:28.122088Z"
    },
    "papermill": {
     "duration": 0.02973,
     "end_time": "2025-08-05T15:59:28.125363",
     "exception": false,
     "start_time": "2025-08-05T15:59:28.095633",
     "status": "completed"
    },
    "tags": []
   },
   "outputs": [],
   "source": [
    "X_train = siab_train.iloc[:,4:164]\n",
    "y_train = siab_train.iloc[:, [3]]"
   ]
  },
  {
   "cell_type": "code",
   "execution_count": 16,
   "id": "828c96af-f43a-4ed6-ba47-8ac73a47d56c",
   "metadata": {
    "execution": {
     "iopub.execute_input": "2025-08-05T15:59:28.164031Z",
     "iopub.status.busy": "2025-08-05T15:59:28.163508Z",
     "iopub.status.idle": "2025-08-05T15:59:28.218005Z",
     "shell.execute_reply": "2025-08-05T15:59:28.217060Z"
    },
    "papermill": {
     "duration": 0.078449,
     "end_time": "2025-08-05T15:59:28.222625",
     "exception": false,
     "start_time": "2025-08-05T15:59:28.144176",
     "status": "completed"
    },
    "tags": []
   },
   "outputs": [],
   "source": [
    "X_calib = siab_calib.iloc[:,4:164]\n",
    "y_calib = siab_calib.iloc[:, [3]]"
   ]
  },
  {
   "cell_type": "code",
   "execution_count": 17,
   "id": "c34be9c3-6bd6-476e-acd3-845840e303be",
   "metadata": {
    "execution": {
     "iopub.execute_input": "2025-08-05T15:59:28.243326Z",
     "iopub.status.busy": "2025-08-05T15:59:28.243024Z",
     "iopub.status.idle": "2025-08-05T15:59:28.298463Z",
     "shell.execute_reply": "2025-08-05T15:59:28.297395Z"
    },
    "papermill": {
     "duration": 0.06751,
     "end_time": "2025-08-05T15:59:28.300571",
     "exception": false,
     "start_time": "2025-08-05T15:59:28.233061",
     "status": "completed"
    },
    "tags": []
   },
   "outputs": [],
   "source": [
    "X_test = siab_test.iloc[:,4:164]\n",
    "y_true = siab_test.iloc[:, [3]]"
   ]
  },
  {
   "cell_type": "code",
   "execution_count": 18,
   "id": "e6c733c5",
   "metadata": {
    "execution": {
     "iopub.execute_input": "2025-08-05T15:59:28.344625Z",
     "iopub.status.busy": "2025-08-05T15:59:28.344109Z",
     "iopub.status.idle": "2025-08-05T15:59:28.445156Z",
     "shell.execute_reply": "2025-08-05T15:59:28.444142Z"
    },
    "papermill": {
     "duration": 0.124815,
     "end_time": "2025-08-05T15:59:28.447208",
     "exception": false,
     "start_time": "2025-08-05T15:59:28.322393",
     "status": "completed"
    },
    "tags": []
   },
   "outputs": [],
   "source": [
    "# Auxiliary data needed downstream in the pipeline\n",
    "\n",
    "org_train = X_train.copy()\n",
    "org_test = X_test.copy()\n",
    "org_calib = X_calib.copy()"
   ]
  },
  {
   "cell_type": "markdown",
   "id": "0a4a1b33",
   "metadata": {
    "papermill": {
     "duration": 0.01841,
     "end_time": "2025-08-05T15:59:28.485059",
     "exception": false,
     "start_time": "2025-08-05T15:59:28.466649",
     "status": "completed"
    },
    "tags": []
   },
   "source": [
    "# Preprocessing Data"
   ]
  },
  {
   "cell_type": "code",
   "execution_count": 19,
   "id": "ca879031",
   "metadata": {
    "execution": {
     "iopub.execute_input": "2025-08-05T15:59:28.523387Z",
     "iopub.status.busy": "2025-08-05T15:59:28.522844Z",
     "iopub.status.idle": "2025-08-05T15:59:28.529215Z",
     "shell.execute_reply": "2025-08-05T15:59:28.528162Z"
    },
    "papermill": {
     "duration": 0.028036,
     "end_time": "2025-08-05T15:59:28.531469",
     "exception": false,
     "start_time": "2025-08-05T15:59:28.503433",
     "status": "completed"
    },
    "tags": []
   },
   "outputs": [],
   "source": [
    "# EXCLUDE PROTECTED FEATURES\n",
    "# ----------------------\n",
    "# \"exclude_features\": \"none\", # \"nationality\", \"sex\", \"nationality-sex\"\n",
    "\n",
    "excluded_features = universe[\"exclude_features\"].split(\"-\") # split, e.g.: \"nationality-sex\" -> [\"nationality\", \"sex\"]\n",
    "excluded_features_dictionary = {\n",
    "    \"nationality\": [\"maxdeutsch1\", \"maxdeutsch.Missing.\"],\n",
    "    \"sex\": [\"frau1\"],\n",
    "    \"age\": [\"age\"],\n",
    "}"
   ]
  },
  {
   "cell_type": "code",
   "execution_count": 20,
   "id": "b745ac60",
   "metadata": {
    "execution": {
     "iopub.execute_input": "2025-08-05T15:59:28.571615Z",
     "iopub.status.busy": "2025-08-05T15:59:28.570905Z",
     "iopub.status.idle": "2025-08-05T15:59:28.577008Z",
     "shell.execute_reply": "2025-08-05T15:59:28.575982Z"
    },
    "papermill": {
     "duration": 0.027481,
     "end_time": "2025-08-05T15:59:28.578847",
     "exception": false,
     "start_time": "2025-08-05T15:59:28.551366",
     "status": "completed"
    },
    "tags": []
   },
   "outputs": [],
   "source": [
    "# Code nice names to column names\n",
    "\n",
    "excluded_features_columns = [\n",
    "    excluded_features_dictionary[f] for f in excluded_features if len(f) > 0 and f != \"none\"\n",
    "]"
   ]
  },
  {
   "cell_type": "code",
   "execution_count": 21,
   "id": "f84f73a2",
   "metadata": {
    "execution": {
     "iopub.execute_input": "2025-08-05T15:59:28.634374Z",
     "iopub.status.busy": "2025-08-05T15:59:28.633471Z",
     "iopub.status.idle": "2025-08-05T15:59:28.640686Z",
     "shell.execute_reply": "2025-08-05T15:59:28.639616Z"
    },
    "papermill": {
     "duration": 0.04449,
     "end_time": "2025-08-05T15:59:28.642741",
     "exception": false,
     "start_time": "2025-08-05T15:59:28.598251",
     "status": "completed"
    },
    "tags": []
   },
   "outputs": [],
   "source": [
    "from utils import flatten_once\n",
    "\n",
    "excluded_features_columns = flatten_once(excluded_features_columns)"
   ]
  },
  {
   "cell_type": "code",
   "execution_count": 22,
   "id": "884dea22",
   "metadata": {
    "execution": {
     "iopub.execute_input": "2025-08-05T15:59:28.672790Z",
     "iopub.status.busy": "2025-08-05T15:59:28.672413Z",
     "iopub.status.idle": "2025-08-05T15:59:28.681798Z",
     "shell.execute_reply": "2025-08-05T15:59:28.680696Z"
    },
    "papermill": {
     "duration": 0.02209,
     "end_time": "2025-08-05T15:59:28.683749",
     "exception": false,
     "start_time": "2025-08-05T15:59:28.661659",
     "status": "completed"
    },
    "tags": []
   },
   "outputs": [
    {
     "name": "stdout",
     "output_type": "stream",
     "text": [
      "Dropping features: ['maxdeutsch1', 'maxdeutsch.Missing.']\n"
     ]
    }
   ],
   "source": [
    "if len(excluded_features_columns) > 0:\n",
    "    print(f\"Dropping features: {excluded_features_columns}\")\n",
    "    X_train.drop(excluded_features_columns, axis=1, inplace=True)"
   ]
  },
  {
   "cell_type": "code",
   "execution_count": 23,
   "id": "95ab8b16",
   "metadata": {
    "execution": {
     "iopub.execute_input": "2025-08-05T15:59:28.725492Z",
     "iopub.status.busy": "2025-08-05T15:59:28.724837Z",
     "iopub.status.idle": "2025-08-05T15:59:28.780645Z",
     "shell.execute_reply": "2025-08-05T15:59:28.779421Z"
    },
    "papermill": {
     "duration": 0.078586,
     "end_time": "2025-08-05T15:59:28.782592",
     "exception": false,
     "start_time": "2025-08-05T15:59:28.704006",
     "status": "completed"
    },
    "tags": []
   },
   "outputs": [
    {
     "name": "stdout",
     "output_type": "stream",
     "text": [
      "Dropping features: ['maxdeutsch1', 'maxdeutsch.Missing.']\n"
     ]
    }
   ],
   "source": [
    "if len(excluded_features_columns) > 0:\n",
    "    print(f\"Dropping features: {excluded_features_columns}\")\n",
    "    X_test.drop(excluded_features_columns, axis=1, inplace=True)"
   ]
  },
  {
   "cell_type": "code",
   "execution_count": 24,
   "id": "1853aaf5-fb9f-46cb-a2b5-8ea4ae2237e4",
   "metadata": {
    "execution": {
     "iopub.execute_input": "2025-08-05T15:59:28.822273Z",
     "iopub.status.busy": "2025-08-05T15:59:28.821288Z",
     "iopub.status.idle": "2025-08-05T15:59:28.867145Z",
     "shell.execute_reply": "2025-08-05T15:59:28.865926Z"
    },
    "papermill": {
     "duration": 0.067017,
     "end_time": "2025-08-05T15:59:28.868994",
     "exception": false,
     "start_time": "2025-08-05T15:59:28.801977",
     "status": "completed"
    },
    "tags": []
   },
   "outputs": [
    {
     "name": "stdout",
     "output_type": "stream",
     "text": [
      "Dropping features: ['maxdeutsch1', 'maxdeutsch.Missing.']\n"
     ]
    }
   ],
   "source": [
    "if len(excluded_features_columns) > 0:\n",
    "    print(f\"Dropping features: {excluded_features_columns}\")\n",
    "    X_calib.drop(excluded_features_columns, axis=1, inplace=True)"
   ]
  },
  {
   "cell_type": "code",
   "execution_count": 25,
   "id": "76c4dc6d",
   "metadata": {
    "execution": {
     "iopub.execute_input": "2025-08-05T15:59:28.909277Z",
     "iopub.status.busy": "2025-08-05T15:59:28.908605Z",
     "iopub.status.idle": "2025-08-05T15:59:28.914066Z",
     "shell.execute_reply": "2025-08-05T15:59:28.913101Z"
    },
    "papermill": {
     "duration": 0.028136,
     "end_time": "2025-08-05T15:59:28.915975",
     "exception": false,
     "start_time": "2025-08-05T15:59:28.887839",
     "status": "completed"
    },
    "tags": []
   },
   "outputs": [],
   "source": [
    "# EXCLUDE CERTAIN SUBGROUPS\n",
    "# ----------------------\n",
    "\n",
    "mode = universe.get(\"exclude_subgroups\", \"keep-all\") \n",
    "# Fetches the exclude_subgroups setting from the universe dict.\n",
    "# Defaults to \"keep-all\" if the key is missing."
   ]
  },
  {
   "cell_type": "code",
   "execution_count": 26,
   "id": "21994072",
   "metadata": {
    "execution": {
     "iopub.execute_input": "2025-08-05T15:59:28.956947Z",
     "iopub.status.busy": "2025-08-05T15:59:28.956448Z",
     "iopub.status.idle": "2025-08-05T15:59:28.963768Z",
     "shell.execute_reply": "2025-08-05T15:59:28.962783Z"
    },
    "papermill": {
     "duration": 0.030479,
     "end_time": "2025-08-05T15:59:28.965852",
     "exception": false,
     "start_time": "2025-08-05T15:59:28.935373",
     "status": "completed"
    },
    "tags": []
   },
   "outputs": [],
   "source": [
    "if mode == \"keep-all\":\n",
    "    keep_mask = pd.Series(True, index=org_train.index)\n",
    "\n",
    "# org_train contains the original feature columns from features_org (in Simson)\n",
    "# features_org contains unprocessed features, for me X_train at beginning ???\n",
    "# For keep-all, creates a boolean Series (keep_mask) of all True, so no rows are removed.\n",
    "\n",
    "elif mode == \"drop-non-german\":\n",
    "    keep_mask = org_train[\"maxdeutsch1\"] == 1 # ??? what about missing values?\n",
    "\n",
    "else:\n",
    "    raise ValueError(f\"Unsupported mode for exclude_subgroups: {mode}\")"
   ]
  },
  {
   "cell_type": "code",
   "execution_count": 27,
   "id": "71651440",
   "metadata": {
    "execution": {
     "iopub.execute_input": "2025-08-05T15:59:29.009671Z",
     "iopub.status.busy": "2025-08-05T15:59:29.008780Z",
     "iopub.status.idle": "2025-08-05T15:59:29.015681Z",
     "shell.execute_reply": "2025-08-05T15:59:29.014625Z"
    },
    "papermill": {
     "duration": 0.031373,
     "end_time": "2025-08-05T15:59:29.017676",
     "exception": false,
     "start_time": "2025-08-05T15:59:28.986303",
     "status": "completed"
    },
    "tags": []
   },
   "outputs": [],
   "source": [
    "n_drop = (~keep_mask).sum() # Calculates how many rows are set to be dropped\n",
    "if n_drop > 0:\n",
    "    pct = n_drop / len(keep_mask) * 100\n",
    "    print(f\"Dropping {n_drop} rows ({pct:.2f}%) where mode='{mode}'\")"
   ]
  },
  {
   "cell_type": "code",
   "execution_count": 28,
   "id": "5fb8eee5",
   "metadata": {
    "execution": {
     "iopub.execute_input": "2025-08-05T15:59:29.058155Z",
     "iopub.status.busy": "2025-08-05T15:59:29.057100Z",
     "iopub.status.idle": "2025-08-05T15:59:29.067072Z",
     "shell.execute_reply": "2025-08-05T15:59:29.065878Z"
    },
    "papermill": {
     "duration": 0.031184,
     "end_time": "2025-08-05T15:59:29.068962",
     "exception": false,
     "start_time": "2025-08-05T15:59:29.037778",
     "status": "completed"
    },
    "tags": []
   },
   "outputs": [],
   "source": [
    "X_train = X_train[keep_mask]"
   ]
  },
  {
   "cell_type": "code",
   "execution_count": 29,
   "id": "b202bb3a",
   "metadata": {
    "execution": {
     "iopub.execute_input": "2025-08-05T15:59:29.110558Z",
     "iopub.status.busy": "2025-08-05T15:59:29.109509Z",
     "iopub.status.idle": "2025-08-05T15:59:29.116073Z",
     "shell.execute_reply": "2025-08-05T15:59:29.114931Z"
    },
    "papermill": {
     "duration": 0.028825,
     "end_time": "2025-08-05T15:59:29.118148",
     "exception": false,
     "start_time": "2025-08-05T15:59:29.089323",
     "status": "completed"
    },
    "tags": []
   },
   "outputs": [],
   "source": [
    "y_train = y_train[keep_mask]"
   ]
  },
  {
   "cell_type": "markdown",
   "id": "493e2ac3",
   "metadata": {
    "papermill": {
     "duration": 0.020597,
     "end_time": "2025-08-05T15:59:29.160813",
     "exception": false,
     "start_time": "2025-08-05T15:59:29.140216",
     "status": "completed"
    },
    "tags": []
   },
   "source": [
    "# Model Training"
   ]
  },
  {
   "cell_type": "code",
   "execution_count": 30,
   "id": "679e1268",
   "metadata": {
    "execution": {
     "iopub.execute_input": "2025-08-05T15:59:29.204050Z",
     "iopub.status.busy": "2025-08-05T15:59:29.203568Z",
     "iopub.status.idle": "2025-08-05T15:59:29.362507Z",
     "shell.execute_reply": "2025-08-05T15:59:29.361340Z"
    },
    "papermill": {
     "duration": 0.181685,
     "end_time": "2025-08-05T15:59:29.364555",
     "exception": false,
     "start_time": "2025-08-05T15:59:29.182870",
     "status": "completed"
    },
    "tags": []
   },
   "outputs": [],
   "source": [
    "from sklearn.linear_model import LogisticRegression\n",
    "from sklearn.ensemble import GradientBoostingClassifier, RandomForestClassifier\n",
    "\n",
    "if (universe[\"model\"] == \"logreg\"):\n",
    "    model = LogisticRegression() #penalty=\"none\", solver=\"newton-cg\", max_iter=1) # include random_state=19 ?\n",
    "elif (universe[\"model\"] == \"penalized_logreg\"):\n",
    "    model = LogisticRegression(penalty=\"l2\", C=0.1) #, solver=\"newton-cg\", max_iter=1)\n",
    "elif (universe[\"model\"] == \"rf\"):\n",
    "    model = RandomForestClassifier() # n_estimators=100, n_jobs=-1\n",
    "elif (universe[\"model\"] == \"gbm\"):\n",
    "    model = GradientBoostingClassifier()\n",
    "elif (universe[\"model\"] == \"elasticnet\"):\n",
    "    model = LogisticRegression(penalty = 'elasticnet', solver = 'saga', l1_ratio = 0.5) # max_iter=5000\n",
    "else:\n",
    "    raise \"Unsupported universe.model\""
   ]
  },
  {
   "cell_type": "code",
   "execution_count": 31,
   "id": "0cc8f744",
   "metadata": {
    "execution": {
     "iopub.execute_input": "2025-08-05T15:59:29.407004Z",
     "iopub.status.busy": "2025-08-05T15:59:29.406017Z",
     "iopub.status.idle": "2025-08-05T15:59:29.413765Z",
     "shell.execute_reply": "2025-08-05T15:59:29.412594Z"
    },
    "papermill": {
     "duration": 0.030394,
     "end_time": "2025-08-05T15:59:29.415765",
     "exception": false,
     "start_time": "2025-08-05T15:59:29.385371",
     "status": "completed"
    },
    "tags": []
   },
   "outputs": [],
   "source": [
    "import numpy as np\n",
    "from sklearn.pipeline import Pipeline\n",
    "from sklearn.preprocessing import StandardScaler\n",
    "\n",
    "model = Pipeline([\n",
    "    #(\"continuous_processor\", continuous_processor),\n",
    "    #(\"categorical_preprocessor\", categorical_preprocessor),\n",
    "    (\"scale\", StandardScaler() if universe[\"scale\"] == \"scale\" else None), \n",
    "    (\"model\", model),\n",
    "])"
   ]
  },
  {
   "cell_type": "code",
   "execution_count": 32,
   "id": "9442c04d",
   "metadata": {
    "execution": {
     "iopub.execute_input": "2025-08-05T15:59:29.459594Z",
     "iopub.status.busy": "2025-08-05T15:59:29.458648Z",
     "iopub.status.idle": "2025-08-05T15:59:34.474246Z",
     "shell.execute_reply": "2025-08-05T15:59:34.473468Z"
    },
    "papermill": {
     "duration": 5.039061,
     "end_time": "2025-08-05T15:59:34.475546",
     "exception": false,
     "start_time": "2025-08-05T15:59:29.436485",
     "status": "completed"
    },
    "tags": []
   },
   "outputs": [
    {
     "data": {
      "text/html": [
       "<style>#sk-container-id-1 {color: black;background-color: white;}#sk-container-id-1 pre{padding: 0;}#sk-container-id-1 div.sk-toggleable {background-color: white;}#sk-container-id-1 label.sk-toggleable__label {cursor: pointer;display: block;width: 100%;margin-bottom: 0;padding: 0.3em;box-sizing: border-box;text-align: center;}#sk-container-id-1 label.sk-toggleable__label-arrow:before {content: \"▸\";float: left;margin-right: 0.25em;color: #696969;}#sk-container-id-1 label.sk-toggleable__label-arrow:hover:before {color: black;}#sk-container-id-1 div.sk-estimator:hover label.sk-toggleable__label-arrow:before {color: black;}#sk-container-id-1 div.sk-toggleable__content {max-height: 0;max-width: 0;overflow: hidden;text-align: left;background-color: #f0f8ff;}#sk-container-id-1 div.sk-toggleable__content pre {margin: 0.2em;color: black;border-radius: 0.25em;background-color: #f0f8ff;}#sk-container-id-1 input.sk-toggleable__control:checked~div.sk-toggleable__content {max-height: 200px;max-width: 100%;overflow: auto;}#sk-container-id-1 input.sk-toggleable__control:checked~label.sk-toggleable__label-arrow:before {content: \"▾\";}#sk-container-id-1 div.sk-estimator input.sk-toggleable__control:checked~label.sk-toggleable__label {background-color: #d4ebff;}#sk-container-id-1 div.sk-label input.sk-toggleable__control:checked~label.sk-toggleable__label {background-color: #d4ebff;}#sk-container-id-1 input.sk-hidden--visually {border: 0;clip: rect(1px 1px 1px 1px);clip: rect(1px, 1px, 1px, 1px);height: 1px;margin: -1px;overflow: hidden;padding: 0;position: absolute;width: 1px;}#sk-container-id-1 div.sk-estimator {font-family: monospace;background-color: #f0f8ff;border: 1px dotted black;border-radius: 0.25em;box-sizing: border-box;margin-bottom: 0.5em;}#sk-container-id-1 div.sk-estimator:hover {background-color: #d4ebff;}#sk-container-id-1 div.sk-parallel-item::after {content: \"\";width: 100%;border-bottom: 1px solid gray;flex-grow: 1;}#sk-container-id-1 div.sk-label:hover label.sk-toggleable__label {background-color: #d4ebff;}#sk-container-id-1 div.sk-serial::before {content: \"\";position: absolute;border-left: 1px solid gray;box-sizing: border-box;top: 0;bottom: 0;left: 50%;z-index: 0;}#sk-container-id-1 div.sk-serial {display: flex;flex-direction: column;align-items: center;background-color: white;padding-right: 0.2em;padding-left: 0.2em;position: relative;}#sk-container-id-1 div.sk-item {position: relative;z-index: 1;}#sk-container-id-1 div.sk-parallel {display: flex;align-items: stretch;justify-content: center;background-color: white;position: relative;}#sk-container-id-1 div.sk-item::before, #sk-container-id-1 div.sk-parallel-item::before {content: \"\";position: absolute;border-left: 1px solid gray;box-sizing: border-box;top: 0;bottom: 0;left: 50%;z-index: -1;}#sk-container-id-1 div.sk-parallel-item {display: flex;flex-direction: column;z-index: 1;position: relative;background-color: white;}#sk-container-id-1 div.sk-parallel-item:first-child::after {align-self: flex-end;width: 50%;}#sk-container-id-1 div.sk-parallel-item:last-child::after {align-self: flex-start;width: 50%;}#sk-container-id-1 div.sk-parallel-item:only-child::after {width: 0;}#sk-container-id-1 div.sk-dashed-wrapped {border: 1px dashed gray;margin: 0 0.4em 0.5em 0.4em;box-sizing: border-box;padding-bottom: 0.4em;background-color: white;}#sk-container-id-1 div.sk-label label {font-family: monospace;font-weight: bold;display: inline-block;line-height: 1.2em;}#sk-container-id-1 div.sk-label-container {text-align: center;}#sk-container-id-1 div.sk-container {/* jupyter's `normalize.less` sets `[hidden] { display: none; }` but bootstrap.min.css set `[hidden] { display: none !important; }` so we also need the `!important` here to be able to override the default hidden behavior on the sphinx rendered scikit-learn.org. See: https://github.com/scikit-learn/scikit-learn/issues/21755 */display: inline-block !important;position: relative;}#sk-container-id-1 div.sk-text-repr-fallback {display: none;}</style><div id=\"sk-container-id-1\" class=\"sk-top-container\"><div class=\"sk-text-repr-fallback\"><pre>Pipeline(steps=[(&#x27;scale&#x27;, None), (&#x27;model&#x27;, GradientBoostingClassifier())])</pre><b>In a Jupyter environment, please rerun this cell to show the HTML representation or trust the notebook. <br />On GitHub, the HTML representation is unable to render, please try loading this page with nbviewer.org.</b></div><div class=\"sk-container\" hidden><div class=\"sk-item sk-dashed-wrapped\"><div class=\"sk-label-container\"><div class=\"sk-label sk-toggleable\"><input class=\"sk-toggleable__control sk-hidden--visually\" id=\"sk-estimator-id-1\" type=\"checkbox\" ><label for=\"sk-estimator-id-1\" class=\"sk-toggleable__label sk-toggleable__label-arrow\">Pipeline</label><div class=\"sk-toggleable__content\"><pre>Pipeline(steps=[(&#x27;scale&#x27;, None), (&#x27;model&#x27;, GradientBoostingClassifier())])</pre></div></div></div><div class=\"sk-serial\"><div class=\"sk-item\"><div class=\"sk-estimator sk-toggleable\"><input class=\"sk-toggleable__control sk-hidden--visually\" id=\"sk-estimator-id-2\" type=\"checkbox\" ><label for=\"sk-estimator-id-2\" class=\"sk-toggleable__label sk-toggleable__label-arrow\">None</label><div class=\"sk-toggleable__content\"><pre>None</pre></div></div></div><div class=\"sk-item\"><div class=\"sk-estimator sk-toggleable\"><input class=\"sk-toggleable__control sk-hidden--visually\" id=\"sk-estimator-id-3\" type=\"checkbox\" ><label for=\"sk-estimator-id-3\" class=\"sk-toggleable__label sk-toggleable__label-arrow\">GradientBoostingClassifier</label><div class=\"sk-toggleable__content\"><pre>GradientBoostingClassifier()</pre></div></div></div></div></div></div></div>"
      ],
      "text/plain": [
       "Pipeline(steps=[('scale', None), ('model', GradientBoostingClassifier())])"
      ]
     },
     "execution_count": 32,
     "metadata": {},
     "output_type": "execute_result"
    }
   ],
   "source": [
    "model.fit(X_train, y_train.values.ravel())"
   ]
  },
  {
   "cell_type": "code",
   "execution_count": 33,
   "id": "af59f8c0",
   "metadata": {
    "execution": {
     "iopub.execute_input": "2025-08-05T15:59:34.501071Z",
     "iopub.status.busy": "2025-08-05T15:59:34.500709Z",
     "iopub.status.idle": "2025-08-05T15:59:34.505679Z",
     "shell.execute_reply": "2025-08-05T15:59:34.504756Z"
    },
    "papermill": {
     "duration": 0.018205,
     "end_time": "2025-08-05T15:59:34.507093",
     "exception": false,
     "start_time": "2025-08-05T15:59:34.488888",
     "status": "completed"
    },
    "tags": []
   },
   "outputs": [],
   "source": [
    "from fairness_multiverse.universe import predict_w_threshold"
   ]
  },
  {
   "cell_type": "code",
   "execution_count": 34,
   "id": "a7cf2e16",
   "metadata": {
    "execution": {
     "iopub.execute_input": "2025-08-05T15:59:34.530447Z",
     "iopub.status.busy": "2025-08-05T15:59:34.529655Z",
     "iopub.status.idle": "2025-08-05T15:59:34.926148Z",
     "shell.execute_reply": "2025-08-05T15:59:34.925180Z"
    },
    "papermill": {
     "duration": 0.40877,
     "end_time": "2025-08-05T15:59:34.927608",
     "exception": false,
     "start_time": "2025-08-05T15:59:34.518838",
     "status": "completed"
    },
    "tags": []
   },
   "outputs": [
    {
     "data": {
      "text/plain": [
       "0.8603165756325939"
      ]
     },
     "execution_count": 34,
     "metadata": {},
     "output_type": "execute_result"
    }
   ],
   "source": [
    "probs_test = model.predict_proba(X_test)\n",
    "\n",
    "'''\n",
    "Below code returns a boolean array (or binary 0/1 array depending on how it’s used) where each element \n",
    "is True if the probability of class 1 is greater than or equal to the threshold, and False otherwise.\n",
    "'''\n",
    "y_pred_default = predict_w_threshold(probs_test, 0.5)\n",
    "\n",
    "from sklearn.metrics import accuracy_score\n",
    "\n",
    "# Naive prediction\n",
    "accuracy_score(y_true = y_true, y_pred = y_pred_default)"
   ]
  },
  {
   "cell_type": "code",
   "execution_count": 35,
   "id": "081964c3",
   "metadata": {
    "execution": {
     "iopub.execute_input": "2025-08-05T15:59:34.951536Z",
     "iopub.status.busy": "2025-08-05T15:59:34.951223Z",
     "iopub.status.idle": "2025-08-05T15:59:35.307960Z",
     "shell.execute_reply": "2025-08-05T15:59:35.307198Z"
    },
    "papermill": {
     "duration": 0.368864,
     "end_time": "2025-08-05T15:59:35.309287",
     "exception": false,
     "start_time": "2025-08-05T15:59:34.940423",
     "status": "completed"
    },
    "tags": []
   },
   "outputs": [
    {
     "data": {
      "text/plain": [
       "array([0, 0, 0, ..., 0, 0, 0])"
      ]
     },
     "execution_count": 35,
     "metadata": {},
     "output_type": "execute_result"
    }
   ],
   "source": [
    "model.predict(X_test)"
   ]
  },
  {
   "cell_type": "markdown",
   "id": "56c9705b",
   "metadata": {
    "papermill": {
     "duration": 0.010615,
     "end_time": "2025-08-05T15:59:35.331451",
     "exception": false,
     "start_time": "2025-08-05T15:59:35.320836",
     "status": "completed"
    },
    "tags": []
   },
   "source": [
    "# Conformal Prediction"
   ]
  },
  {
   "cell_type": "code",
   "execution_count": 36,
   "id": "160ec6ff",
   "metadata": {
    "execution": {
     "iopub.execute_input": "2025-08-05T15:59:35.353691Z",
     "iopub.status.busy": "2025-08-05T15:59:35.353271Z",
     "iopub.status.idle": "2025-08-05T15:59:35.358168Z",
     "shell.execute_reply": "2025-08-05T15:59:35.357262Z"
    },
    "papermill": {
     "duration": 0.017813,
     "end_time": "2025-08-05T15:59:35.359796",
     "exception": false,
     "start_time": "2025-08-05T15:59:35.341983",
     "status": "completed"
    },
    "tags": []
   },
   "outputs": [],
   "source": [
    "# Miscoverage level for conformal prediction (10% allowed error rate => 90% target coverage)\n",
    "alpha = 0.1"
   ]
  },
  {
   "cell_type": "code",
   "execution_count": 37,
   "id": "eadf4555-3dd3-440e-8e35-f82a4ad9f855",
   "metadata": {
    "execution": {
     "iopub.execute_input": "2025-08-05T15:59:35.383662Z",
     "iopub.status.busy": "2025-08-05T15:59:35.383157Z",
     "iopub.status.idle": "2025-08-05T15:59:35.715016Z",
     "shell.execute_reply": "2025-08-05T15:59:35.714215Z"
    },
    "papermill": {
     "duration": 0.345173,
     "end_time": "2025-08-05T15:59:35.716540",
     "exception": false,
     "start_time": "2025-08-05T15:59:35.371367",
     "status": "completed"
    },
    "tags": []
   },
   "outputs": [],
   "source": [
    "probs_calib = model.predict_proba(X_calib)"
   ]
  },
  {
   "cell_type": "code",
   "execution_count": 38,
   "id": "2ed93547-6d5d-4983-9b36-1ecb300da49a",
   "metadata": {
    "execution": {
     "iopub.execute_input": "2025-08-05T15:59:35.738745Z",
     "iopub.status.busy": "2025-08-05T15:59:35.738424Z",
     "iopub.status.idle": "2025-08-05T15:59:35.743372Z",
     "shell.execute_reply": "2025-08-05T15:59:35.742575Z"
    },
    "papermill": {
     "duration": 0.017589,
     "end_time": "2025-08-05T15:59:35.744879",
     "exception": false,
     "start_time": "2025-08-05T15:59:35.727290",
     "status": "completed"
    },
    "tags": []
   },
   "outputs": [],
   "source": [
    "y_calib = y_calib.values.ravel().astype(int)"
   ]
  },
  {
   "cell_type": "code",
   "execution_count": 39,
   "id": "65d1320d-f588-4b38-9072-62af1ae97f7d",
   "metadata": {
    "execution": {
     "iopub.execute_input": "2025-08-05T15:59:35.767683Z",
     "iopub.status.busy": "2025-08-05T15:59:35.767043Z",
     "iopub.status.idle": "2025-08-05T15:59:35.773116Z",
     "shell.execute_reply": "2025-08-05T15:59:35.772329Z"
    },
    "papermill": {
     "duration": 0.018624,
     "end_time": "2025-08-05T15:59:35.774736",
     "exception": false,
     "start_time": "2025-08-05T15:59:35.756112",
     "status": "completed"
    },
    "tags": []
   },
   "outputs": [],
   "source": [
    "from fairness_multiverse.conformal import compute_nc_scores\n",
    "\n",
    "# Compute nonconformity scores on calibration set (1 - probability of true class)\n",
    "nc_scores = compute_nc_scores(probs_calib, y_calib)"
   ]
  },
  {
   "cell_type": "code",
   "execution_count": 40,
   "id": "df3b8ca3-53b7-43d5-9667-7c85da7aeda2",
   "metadata": {
    "execution": {
     "iopub.execute_input": "2025-08-05T15:59:35.797876Z",
     "iopub.status.busy": "2025-08-05T15:59:35.797163Z",
     "iopub.status.idle": "2025-08-05T15:59:35.803092Z",
     "shell.execute_reply": "2025-08-05T15:59:35.802213Z"
    },
    "papermill": {
     "duration": 0.018749,
     "end_time": "2025-08-05T15:59:35.804629",
     "exception": false,
     "start_time": "2025-08-05T15:59:35.785880",
     "status": "completed"
    },
    "tags": []
   },
   "outputs": [],
   "source": [
    "from fairness_multiverse.conformal import find_threshold\n",
    "\n",
    "# Find conformal threshold q_hat for the given alpha (split conformal method)\n",
    "q_hat = find_threshold(nc_scores, alpha)"
   ]
  },
  {
   "cell_type": "code",
   "execution_count": 41,
   "id": "4d29e6c1-0ef6-4aa4-b8fe-4fe79b0d033a",
   "metadata": {
    "execution": {
     "iopub.execute_input": "2025-08-05T15:59:35.828139Z",
     "iopub.status.busy": "2025-08-05T15:59:35.827802Z",
     "iopub.status.idle": "2025-08-05T15:59:35.834317Z",
     "shell.execute_reply": "2025-08-05T15:59:35.833343Z"
    },
    "papermill": {
     "duration": 0.019377,
     "end_time": "2025-08-05T15:59:35.835808",
     "exception": false,
     "start_time": "2025-08-05T15:59:35.816431",
     "status": "completed"
    },
    "tags": []
   },
   "outputs": [
    {
     "data": {
      "text/plain": [
       "0.6822787344479512"
      ]
     },
     "execution_count": 41,
     "metadata": {},
     "output_type": "execute_result"
    }
   ],
   "source": [
    "q_hat"
   ]
  },
  {
   "cell_type": "code",
   "execution_count": 42,
   "id": "92460794-cdac-4be2-ba28-f28c0515a6fb",
   "metadata": {
    "execution": {
     "iopub.execute_input": "2025-08-05T15:59:35.859546Z",
     "iopub.status.busy": "2025-08-05T15:59:35.859031Z",
     "iopub.status.idle": "2025-08-05T15:59:36.734294Z",
     "shell.execute_reply": "2025-08-05T15:59:36.733482Z"
    },
    "papermill": {
     "duration": 0.888429,
     "end_time": "2025-08-05T15:59:36.735825",
     "exception": false,
     "start_time": "2025-08-05T15:59:35.847396",
     "status": "completed"
    },
    "tags": []
   },
   "outputs": [],
   "source": [
    "from fairness_multiverse.conformal import predict_conformal_sets\n",
    "\n",
    "# Generate prediction sets for each test example\n",
    "pred_sets = predict_conformal_sets(model, X_test, q_hat)"
   ]
  },
  {
   "cell_type": "code",
   "execution_count": 43,
   "id": "d90c9a65-e6db-4f5d-80cd-e68fb7e46829",
   "metadata": {
    "execution": {
     "iopub.execute_input": "2025-08-05T15:59:36.761578Z",
     "iopub.status.busy": "2025-08-05T15:59:36.761213Z",
     "iopub.status.idle": "2025-08-05T15:59:36.766115Z",
     "shell.execute_reply": "2025-08-05T15:59:36.765331Z"
    },
    "papermill": {
     "duration": 0.017763,
     "end_time": "2025-08-05T15:59:36.767678",
     "exception": false,
     "start_time": "2025-08-05T15:59:36.749915",
     "status": "completed"
    },
    "tags": []
   },
   "outputs": [],
   "source": [
    "y_true = y_true.squeeze()"
   ]
  },
  {
   "cell_type": "code",
   "execution_count": 44,
   "id": "3a58a54a-1e68-46b9-927a-df01f18aebc8",
   "metadata": {
    "execution": {
     "iopub.execute_input": "2025-08-05T15:59:36.791506Z",
     "iopub.status.busy": "2025-08-05T15:59:36.791127Z",
     "iopub.status.idle": "2025-08-05T15:59:37.289417Z",
     "shell.execute_reply": "2025-08-05T15:59:37.288535Z"
    },
    "papermill": {
     "duration": 0.511614,
     "end_time": "2025-08-05T15:59:37.291126",
     "exception": false,
     "start_time": "2025-08-05T15:59:36.779512",
     "status": "completed"
    },
    "tags": []
   },
   "outputs": [],
   "source": [
    "from fairness_multiverse.conformal import evaluate_sets\n",
    "\n",
    "# Evaluate coverage and average set size on test data\n",
    "metrics = evaluate_sets(pred_sets, y_true)"
   ]
  },
  {
   "cell_type": "markdown",
   "id": "2b569c12-9aaa-4c88-98c9-bbcd0cf3ebb8",
   "metadata": {
    "papermill": {
     "duration": 0.011972,
     "end_time": "2025-08-05T15:59:37.317651",
     "exception": false,
     "start_time": "2025-08-05T15:59:37.305679",
     "status": "completed"
    },
    "tags": []
   },
   "source": [
    "# CP Metrics"
   ]
  },
  {
   "cell_type": "code",
   "execution_count": 45,
   "id": "5ce0a5cb-201f-45a0-ade5-94c7f0bd6095",
   "metadata": {
    "execution": {
     "iopub.execute_input": "2025-08-05T15:59:37.342606Z",
     "iopub.status.busy": "2025-08-05T15:59:37.342055Z",
     "iopub.status.idle": "2025-08-05T15:59:37.348742Z",
     "shell.execute_reply": "2025-08-05T15:59:37.347817Z"
    },
    "papermill": {
     "duration": 0.021172,
     "end_time": "2025-08-05T15:59:37.350395",
     "exception": false,
     "start_time": "2025-08-05T15:59:37.329223",
     "status": "completed"
    },
    "tags": []
   },
   "outputs": [
    {
     "data": {
      "text/plain": [
       "{'coverage': 0.9109463827889868, 'avg_size': 1.1322595028424924}"
      ]
     },
     "execution_count": 45,
     "metadata": {},
     "output_type": "execute_result"
    }
   ],
   "source": [
    "metrics"
   ]
  },
  {
   "cell_type": "code",
   "execution_count": 46,
   "id": "9b9a838d-31c9-430b-ae14-12baee460d17",
   "metadata": {
    "execution": {
     "iopub.execute_input": "2025-08-05T15:59:37.375800Z",
     "iopub.status.busy": "2025-08-05T15:59:37.375264Z",
     "iopub.status.idle": "2025-08-05T15:59:37.381260Z",
     "shell.execute_reply": "2025-08-05T15:59:37.380298Z"
    },
    "papermill": {
     "duration": 0.020124,
     "end_time": "2025-08-05T15:59:37.383037",
     "exception": false,
     "start_time": "2025-08-05T15:59:37.362913",
     "status": "completed"
    },
    "tags": []
   },
   "outputs": [],
   "source": [
    "example_universe = universe.copy()\n",
    "universe_training_year = example_universe.get(\"training_year\")\n",
    "universe_training_size = example_universe.get(\"training_size\")\n",
    "universe_scale = example_universe.get(\"scale\")\n",
    "universe_model = example_universe.get(\"model\")\n",
    "universe_exclude_features = example_universe.get(\"exclude_features\")\n",
    "universe_exclude_subgroups = example_universe.get(\"exclude_subgroups\")"
   ]
  },
  {
   "cell_type": "code",
   "execution_count": 47,
   "id": "f4b6a8ac-9dc0-4245-8a91-5b3b5999c4f9",
   "metadata": {
    "execution": {
     "iopub.execute_input": "2025-08-05T15:59:37.409074Z",
     "iopub.status.busy": "2025-08-05T15:59:37.408527Z",
     "iopub.status.idle": "2025-08-05T15:59:37.414479Z",
     "shell.execute_reply": "2025-08-05T15:59:37.413597Z"
    },
    "papermill": {
     "duration": 0.019597,
     "end_time": "2025-08-05T15:59:37.415930",
     "exception": false,
     "start_time": "2025-08-05T15:59:37.396333",
     "status": "completed"
    },
    "tags": []
   },
   "outputs": [],
   "source": [
    "cp_metrics_dict = {\n",
    "    \"universe_id\": [universe_id],\n",
    "    \"universe_training_year\": [universe_training_year],\n",
    "    \"universe_training_size\": [universe_training_size],\n",
    "    \"universe_scale\": [universe_scale],\n",
    "    \"universe_model\": [universe_model],\n",
    "    \"universe_exclude_features\": [universe_exclude_features],\n",
    "    \"universe_exclude_subgroups\": [universe_exclude_subgroups],\n",
    "    \"q_hat\": [q_hat],\n",
    "    \"coverage\": [metrics[\"coverage\"]],\n",
    "    \"avg_size\": [metrics[\"avg_size\"]],\n",
    "}"
   ]
  },
  {
   "cell_type": "code",
   "execution_count": 48,
   "id": "908acbb1-0371-4915-85ca-3fa520d2efe2",
   "metadata": {
    "execution": {
     "iopub.execute_input": "2025-08-05T15:59:37.441719Z",
     "iopub.status.busy": "2025-08-05T15:59:37.441160Z",
     "iopub.status.idle": "2025-08-05T15:59:37.448392Z",
     "shell.execute_reply": "2025-08-05T15:59:37.447371Z"
    },
    "papermill": {
     "duration": 0.021012,
     "end_time": "2025-08-05T15:59:37.450008",
     "exception": false,
     "start_time": "2025-08-05T15:59:37.428996",
     "status": "completed"
    },
    "tags": []
   },
   "outputs": [
    {
     "data": {
      "text/plain": [
       "{'universe_id': ['e02fbe2e1eedfce9962e5e1aca047ce9'],\n",
       " 'universe_training_year': ['2010_14'],\n",
       " 'universe_training_size': ['5k'],\n",
       " 'universe_scale': ['do-not-scale'],\n",
       " 'universe_model': ['gbm'],\n",
       " 'universe_exclude_features': ['nationality'],\n",
       " 'universe_exclude_subgroups': ['keep-all'],\n",
       " 'q_hat': [0.6822787344479512],\n",
       " 'coverage': [0.9109463827889868],\n",
       " 'avg_size': [1.1322595028424924]}"
      ]
     },
     "execution_count": 48,
     "metadata": {},
     "output_type": "execute_result"
    }
   ],
   "source": [
    "cp_metrics_dict"
   ]
  },
  {
   "cell_type": "code",
   "execution_count": 49,
   "id": "33007efc-14e9-4ec6-97ac-56a455c82265",
   "metadata": {
    "execution": {
     "iopub.execute_input": "2025-08-05T15:59:37.475937Z",
     "iopub.status.busy": "2025-08-05T15:59:37.475407Z",
     "iopub.status.idle": "2025-08-05T15:59:37.481077Z",
     "shell.execute_reply": "2025-08-05T15:59:37.480285Z"
    },
    "papermill": {
     "duration": 0.020017,
     "end_time": "2025-08-05T15:59:37.482755",
     "exception": false,
     "start_time": "2025-08-05T15:59:37.462738",
     "status": "completed"
    },
    "tags": []
   },
   "outputs": [],
   "source": [
    "cp_metrics_df = pd.DataFrame(cp_metrics_dict)"
   ]
  },
  {
   "cell_type": "code",
   "execution_count": 50,
   "id": "db12611b-57b2-4910-b9d0-355adfd6e7bf",
   "metadata": {
    "execution": {
     "iopub.execute_input": "2025-08-05T15:59:37.509066Z",
     "iopub.status.busy": "2025-08-05T15:59:37.508537Z",
     "iopub.status.idle": "2025-08-05T15:59:37.524070Z",
     "shell.execute_reply": "2025-08-05T15:59:37.523148Z"
    },
    "papermill": {
     "duration": 0.029765,
     "end_time": "2025-08-05T15:59:37.525564",
     "exception": false,
     "start_time": "2025-08-05T15:59:37.495799",
     "status": "completed"
    },
    "tags": []
   },
   "outputs": [
    {
     "data": {
      "text/html": [
       "<div>\n",
       "<style scoped>\n",
       "    .dataframe tbody tr th:only-of-type {\n",
       "        vertical-align: middle;\n",
       "    }\n",
       "\n",
       "    .dataframe tbody tr th {\n",
       "        vertical-align: top;\n",
       "    }\n",
       "\n",
       "    .dataframe thead th {\n",
       "        text-align: right;\n",
       "    }\n",
       "</style>\n",
       "<table border=\"1\" class=\"dataframe\">\n",
       "  <thead>\n",
       "    <tr style=\"text-align: right;\">\n",
       "      <th></th>\n",
       "      <th>universe_id</th>\n",
       "      <th>universe_training_year</th>\n",
       "      <th>universe_training_size</th>\n",
       "      <th>universe_scale</th>\n",
       "      <th>universe_model</th>\n",
       "      <th>universe_exclude_features</th>\n",
       "      <th>universe_exclude_subgroups</th>\n",
       "      <th>q_hat</th>\n",
       "      <th>coverage</th>\n",
       "      <th>avg_size</th>\n",
       "    </tr>\n",
       "  </thead>\n",
       "  <tbody>\n",
       "    <tr>\n",
       "      <th>0</th>\n",
       "      <td>e02fbe2e1eedfce9962e5e1aca047ce9</td>\n",
       "      <td>2010_14</td>\n",
       "      <td>5k</td>\n",
       "      <td>do-not-scale</td>\n",
       "      <td>gbm</td>\n",
       "      <td>nationality</td>\n",
       "      <td>keep-all</td>\n",
       "      <td>0.682279</td>\n",
       "      <td>0.910946</td>\n",
       "      <td>1.13226</td>\n",
       "    </tr>\n",
       "  </tbody>\n",
       "</table>\n",
       "</div>"
      ],
      "text/plain": [
       "                        universe_id universe_training_year  \\\n",
       "0  e02fbe2e1eedfce9962e5e1aca047ce9                2010_14   \n",
       "\n",
       "  universe_training_size universe_scale universe_model  \\\n",
       "0                     5k   do-not-scale            gbm   \n",
       "\n",
       "  universe_exclude_features universe_exclude_subgroups     q_hat  coverage  \\\n",
       "0               nationality                   keep-all  0.682279  0.910946   \n",
       "\n",
       "   avg_size  \n",
       "0   1.13226  "
      ]
     },
     "execution_count": 50,
     "metadata": {},
     "output_type": "execute_result"
    }
   ],
   "source": [
    "cp_metrics_df"
   ]
  },
  {
   "cell_type": "code",
   "execution_count": 51,
   "id": "b7fbde55-a0a1-47e4-9af6-fe4a17fa8c61",
   "metadata": {
    "execution": {
     "iopub.execute_input": "2025-08-05T15:59:37.551957Z",
     "iopub.status.busy": "2025-08-05T15:59:37.551386Z",
     "iopub.status.idle": "2025-08-05T15:59:37.556723Z",
     "shell.execute_reply": "2025-08-05T15:59:37.555894Z"
    },
    "papermill": {
     "duration": 0.019869,
     "end_time": "2025-08-05T15:59:37.558360",
     "exception": false,
     "start_time": "2025-08-05T15:59:37.538491",
     "status": "completed"
    },
    "tags": []
   },
   "outputs": [],
   "source": [
    "# Conditional Coverage & looking at subgroups"
   ]
  },
  {
   "cell_type": "code",
   "execution_count": 52,
   "id": "027ae886-68dd-4141-96c7-805a5450e1ef",
   "metadata": {
    "execution": {
     "iopub.execute_input": "2025-08-05T15:59:37.585589Z",
     "iopub.status.busy": "2025-08-05T15:59:37.584746Z",
     "iopub.status.idle": "2025-08-05T15:59:37.779296Z",
     "shell.execute_reply": "2025-08-05T15:59:37.778473Z"
    },
    "papermill": {
     "duration": 0.209038,
     "end_time": "2025-08-05T15:59:37.780874",
     "exception": false,
     "start_time": "2025-08-05T15:59:37.571836",
     "status": "completed"
    },
    "tags": []
   },
   "outputs": [],
   "source": [
    "from fairness_multiverse.conformal import build_cp_groups\n",
    "\n",
    "cp_groups_df = build_cp_groups(pred_sets, y_true, X_test.index, org_test)\n",
    "#needs universe_id and setting"
   ]
  },
  {
   "cell_type": "code",
   "execution_count": 53,
   "id": "6cbdab96-b2b2-45af-ad54-d0516db2e28d",
   "metadata": {
    "execution": {
     "iopub.execute_input": "2025-08-05T15:59:37.806980Z",
     "iopub.status.busy": "2025-08-05T15:59:37.806605Z",
     "iopub.status.idle": "2025-08-05T15:59:38.761728Z",
     "shell.execute_reply": "2025-08-05T15:59:38.760894Z"
    },
    "papermill": {
     "duration": 0.969714,
     "end_time": "2025-08-05T15:59:38.763346",
     "exception": false,
     "start_time": "2025-08-05T15:59:37.793632",
     "status": "completed"
    },
    "tags": []
   },
   "outputs": [],
   "source": [
    "# Define covered = 1 if true_label is in the predicted set\n",
    "cp_groups_df['covered'] = cp_groups_df.apply(\n",
    "    lambda r: int(r['true_label'] in r['pred_set']),\n",
    "    axis=1\n",
    ")"
   ]
  },
  {
   "cell_type": "code",
   "execution_count": 54,
   "id": "338ff529-1a6b-4b87-a931-8e4788d52aad",
   "metadata": {
    "execution": {
     "iopub.execute_input": "2025-08-05T15:59:38.788867Z",
     "iopub.status.busy": "2025-08-05T15:59:38.788488Z",
     "iopub.status.idle": "2025-08-05T15:59:38.793105Z",
     "shell.execute_reply": "2025-08-05T15:59:38.792125Z"
    },
    "papermill": {
     "duration": 0.018708,
     "end_time": "2025-08-05T15:59:38.794745",
     "exception": false,
     "start_time": "2025-08-05T15:59:38.776037",
     "status": "completed"
    },
    "tags": []
   },
   "outputs": [],
   "source": [
    "#cp_groups_df"
   ]
  },
  {
   "cell_type": "code",
   "execution_count": 55,
   "id": "90032e27-66df-4540-9169-4e89cfbaa758",
   "metadata": {
    "execution": {
     "iopub.execute_input": "2025-08-05T15:59:38.820732Z",
     "iopub.status.busy": "2025-08-05T15:59:38.819988Z",
     "iopub.status.idle": "2025-08-05T15:59:38.829870Z",
     "shell.execute_reply": "2025-08-05T15:59:38.829126Z"
    },
    "papermill": {
     "duration": 0.023842,
     "end_time": "2025-08-05T15:59:38.831319",
     "exception": false,
     "start_time": "2025-08-05T15:59:38.807477",
     "status": "completed"
    },
    "tags": []
   },
   "outputs": [],
   "source": [
    "subgroups = ['frau1','nongerman','nongerman_male','nongerman_female']\n",
    "\n",
    "# Conditional coverage for subgroup==1\n",
    "cond_coverage = {\n",
    "    g: cp_groups_df.loc[cp_groups_df[g]==1, 'covered'].mean()\n",
    "    for g in subgroups\n",
    "}"
   ]
  },
  {
   "cell_type": "code",
   "execution_count": 56,
   "id": "1e348fb1-b9c3-45bc-ba23-f016827a7e0d",
   "metadata": {
    "execution": {
     "iopub.execute_input": "2025-08-05T15:59:38.857059Z",
     "iopub.status.busy": "2025-08-05T15:59:38.856539Z",
     "iopub.status.idle": "2025-08-05T15:59:38.863323Z",
     "shell.execute_reply": "2025-08-05T15:59:38.862356Z"
    },
    "papermill": {
     "duration": 0.020648,
     "end_time": "2025-08-05T15:59:38.864771",
     "exception": false,
     "start_time": "2025-08-05T15:59:38.844123",
     "status": "completed"
    },
    "tags": []
   },
   "outputs": [
    {
     "data": {
      "text/plain": [
       "{'frau1': 0.9109313923709395,\n",
       " 'nongerman': 0.9108516252175377,\n",
       " 'nongerman_male': 0.9256957579032694,\n",
       " 'nongerman_female': 0.8862891207153503}"
      ]
     },
     "execution_count": 56,
     "metadata": {},
     "output_type": "execute_result"
    }
   ],
   "source": [
    "cond_coverage"
   ]
  },
  {
   "cell_type": "code",
   "execution_count": 57,
   "id": "f5093324-c3dd-4d63-bc4c-8d945e5c8bbb",
   "metadata": {
    "execution": {
     "iopub.execute_input": "2025-08-05T15:59:38.891269Z",
     "iopub.status.busy": "2025-08-05T15:59:38.890745Z",
     "iopub.status.idle": "2025-08-05T15:59:38.897194Z",
     "shell.execute_reply": "2025-08-05T15:59:38.896378Z"
    },
    "papermill": {
     "duration": 0.020772,
     "end_time": "2025-08-05T15:59:38.898841",
     "exception": false,
     "start_time": "2025-08-05T15:59:38.878069",
     "status": "completed"
    },
    "tags": []
   },
   "outputs": [],
   "source": [
    "for subgroup, cov in cond_coverage.items():\n",
    "    cp_metrics_df[f\"cov_{subgroup}\"] = cov"
   ]
  },
  {
   "cell_type": "code",
   "execution_count": 58,
   "id": "6e872e10-dbe5-49e8-b554-5030c98ff75d",
   "metadata": {
    "execution": {
     "iopub.execute_input": "2025-08-05T15:59:38.924928Z",
     "iopub.status.busy": "2025-08-05T15:59:38.924410Z",
     "iopub.status.idle": "2025-08-05T15:59:38.939208Z",
     "shell.execute_reply": "2025-08-05T15:59:38.938469Z"
    },
    "papermill": {
     "duration": 0.028579,
     "end_time": "2025-08-05T15:59:38.940527",
     "exception": false,
     "start_time": "2025-08-05T15:59:38.911948",
     "status": "completed"
    },
    "tags": []
   },
   "outputs": [
    {
     "data": {
      "text/html": [
       "<div>\n",
       "<style scoped>\n",
       "    .dataframe tbody tr th:only-of-type {\n",
       "        vertical-align: middle;\n",
       "    }\n",
       "\n",
       "    .dataframe tbody tr th {\n",
       "        vertical-align: top;\n",
       "    }\n",
       "\n",
       "    .dataframe thead th {\n",
       "        text-align: right;\n",
       "    }\n",
       "</style>\n",
       "<table border=\"1\" class=\"dataframe\">\n",
       "  <thead>\n",
       "    <tr style=\"text-align: right;\">\n",
       "      <th></th>\n",
       "      <th>universe_id</th>\n",
       "      <th>universe_training_year</th>\n",
       "      <th>universe_training_size</th>\n",
       "      <th>universe_scale</th>\n",
       "      <th>universe_model</th>\n",
       "      <th>universe_exclude_features</th>\n",
       "      <th>universe_exclude_subgroups</th>\n",
       "      <th>q_hat</th>\n",
       "      <th>coverage</th>\n",
       "      <th>avg_size</th>\n",
       "      <th>cov_frau1</th>\n",
       "      <th>cov_nongerman</th>\n",
       "      <th>cov_nongerman_male</th>\n",
       "      <th>cov_nongerman_female</th>\n",
       "    </tr>\n",
       "  </thead>\n",
       "  <tbody>\n",
       "    <tr>\n",
       "      <th>0</th>\n",
       "      <td>e02fbe2e1eedfce9962e5e1aca047ce9</td>\n",
       "      <td>2010_14</td>\n",
       "      <td>5k</td>\n",
       "      <td>do-not-scale</td>\n",
       "      <td>gbm</td>\n",
       "      <td>nationality</td>\n",
       "      <td>keep-all</td>\n",
       "      <td>0.682279</td>\n",
       "      <td>0.910946</td>\n",
       "      <td>1.13226</td>\n",
       "      <td>0.910931</td>\n",
       "      <td>0.910852</td>\n",
       "      <td>0.925696</td>\n",
       "      <td>0.886289</td>\n",
       "    </tr>\n",
       "  </tbody>\n",
       "</table>\n",
       "</div>"
      ],
      "text/plain": [
       "                        universe_id universe_training_year  \\\n",
       "0  e02fbe2e1eedfce9962e5e1aca047ce9                2010_14   \n",
       "\n",
       "  universe_training_size universe_scale universe_model  \\\n",
       "0                     5k   do-not-scale            gbm   \n",
       "\n",
       "  universe_exclude_features universe_exclude_subgroups     q_hat  coverage  \\\n",
       "0               nationality                   keep-all  0.682279  0.910946   \n",
       "\n",
       "   avg_size  cov_frau1  cov_nongerman  cov_nongerman_male  \\\n",
       "0   1.13226   0.910931       0.910852            0.925696   \n",
       "\n",
       "   cov_nongerman_female  \n",
       "0              0.886289  "
      ]
     },
     "execution_count": 58,
     "metadata": {},
     "output_type": "execute_result"
    }
   ],
   "source": [
    "cp_metrics_df"
   ]
  },
  {
   "cell_type": "markdown",
   "id": "33774451",
   "metadata": {
    "papermill": {
     "duration": 0.011346,
     "end_time": "2025-08-05T15:59:38.963841",
     "exception": false,
     "start_time": "2025-08-05T15:59:38.952495",
     "status": "completed"
    },
    "tags": []
   },
   "source": [
    "# (Fairness) Metrics"
   ]
  },
  {
   "cell_type": "code",
   "execution_count": 59,
   "id": "debc5d62",
   "metadata": {
    "execution": {
     "iopub.execute_input": "2025-08-05T15:59:39.001939Z",
     "iopub.status.busy": "2025-08-05T15:59:39.001073Z",
     "iopub.status.idle": "2025-08-05T15:59:39.028916Z",
     "shell.execute_reply": "2025-08-05T15:59:39.027418Z"
    },
    "papermill": {
     "duration": 0.054115,
     "end_time": "2025-08-05T15:59:39.031413",
     "exception": false,
     "start_time": "2025-08-05T15:59:38.977298",
     "status": "completed"
    },
    "tags": []
   },
   "outputs": [],
   "source": [
    "# do I need to include maxdeutsch1.missing?\n",
    "\n",
    "import numpy as np\n",
    "\n",
    "colname_to_bin = \"maxdeutsch1\"\n",
    "majority_value = org_train[colname_to_bin].mode()[0]\n",
    "\n",
    "org_test[\"majmin\"] = np.where(org_test[colname_to_bin] == majority_value, \"majority\", \"minority\")"
   ]
  },
  {
   "cell_type": "code",
   "execution_count": 60,
   "id": "06a50de5",
   "metadata": {
    "execution": {
     "iopub.execute_input": "2025-08-05T15:59:39.085667Z",
     "iopub.status.busy": "2025-08-05T15:59:39.084661Z",
     "iopub.status.idle": "2025-08-05T15:59:41.498573Z",
     "shell.execute_reply": "2025-08-05T15:59:41.497557Z"
    },
    "papermill": {
     "duration": 2.442152,
     "end_time": "2025-08-05T15:59:41.500490",
     "exception": false,
     "start_time": "2025-08-05T15:59:39.058338",
     "status": "completed"
    },
    "tags": []
   },
   "outputs": [],
   "source": [
    "example_universe = universe.copy()\n",
    "example_universe[\"cutoff\"] = example_universe[\"cutoff\"][0]\n",
    "example_universe[\"eval_fairness_grouping\"] = example_universe[\"eval_fairness_grouping\"][0]\n",
    "fairness_dict, metric_frame = universe_analysis.compute_metrics(\n",
    "    example_universe,\n",
    "    y_pred_prob=probs_test,\n",
    "    y_test=y_true,\n",
    "    org_test=org_test,\n",
    ")"
   ]
  },
  {
   "cell_type": "markdown",
   "id": "f95d4e02",
   "metadata": {
    "papermill": {
     "duration": 0.029947,
     "end_time": "2025-08-05T15:59:41.555071",
     "exception": false,
     "start_time": "2025-08-05T15:59:41.525124",
     "status": "completed"
    },
    "tags": []
   },
   "source": [
    "# Overall"
   ]
  },
  {
   "cell_type": "markdown",
   "id": "bdee4871",
   "metadata": {
    "papermill": {
     "duration": 0.022609,
     "end_time": "2025-08-05T15:59:41.601926",
     "exception": false,
     "start_time": "2025-08-05T15:59:41.579317",
     "status": "completed"
    },
    "tags": []
   },
   "source": [
    "Fairness\n",
    "Main fairness target: Equalized Odds. Seems to be a better fit than equal opportunity, since we're not only interested in Y = 1. Seems to be a better fit than demographic parity, since we also care about accuracy, not just equal distribution of preds.\n",
    "\n",
    "Pick column for computation of fairness metrics\n",
    "\n",
    "Performance\n",
    "Overall performance measures, most interesting in relation to the measures split by group below"
   ]
  },
  {
   "cell_type": "code",
   "execution_count": 61,
   "id": "c4e067c6",
   "metadata": {
    "execution": {
     "iopub.execute_input": "2025-08-05T15:59:41.650835Z",
     "iopub.status.busy": "2025-08-05T15:59:41.650136Z",
     "iopub.status.idle": "2025-08-05T15:59:41.659908Z",
     "shell.execute_reply": "2025-08-05T15:59:41.658870Z"
    },
    "papermill": {
     "duration": 0.035552,
     "end_time": "2025-08-05T15:59:41.661409",
     "exception": false,
     "start_time": "2025-08-05T15:59:41.625857",
     "status": "completed"
    },
    "tags": []
   },
   "outputs": [
    {
     "data": {
      "text/plain": [
       "accuracy                   0.224780\n",
       "balanced accuracy          0.549533\n",
       "f1                         0.246100\n",
       "precision                  0.140589\n",
       "false positive rate        0.887292\n",
       "false negative rate        0.013643\n",
       "selection rate             0.900000\n",
       "count                  89710.000000\n",
       "dtype: float64"
      ]
     },
     "execution_count": 61,
     "metadata": {},
     "output_type": "execute_result"
    }
   ],
   "source": [
    "metric_frame.overall"
   ]
  },
  {
   "cell_type": "markdown",
   "id": "e968fe9d",
   "metadata": {
    "papermill": {
     "duration": 0.025367,
     "end_time": "2025-08-05T15:59:41.711667",
     "exception": false,
     "start_time": "2025-08-05T15:59:41.686300",
     "status": "completed"
    },
    "tags": []
   },
   "source": [
    "By Group"
   ]
  },
  {
   "cell_type": "code",
   "execution_count": 62,
   "id": "ec325bce",
   "metadata": {
    "execution": {
     "iopub.execute_input": "2025-08-05T15:59:41.760023Z",
     "iopub.status.busy": "2025-08-05T15:59:41.759507Z",
     "iopub.status.idle": "2025-08-05T15:59:41.777866Z",
     "shell.execute_reply": "2025-08-05T15:59:41.776619Z"
    },
    "papermill": {
     "duration": 0.044731,
     "end_time": "2025-08-05T15:59:41.779771",
     "exception": false,
     "start_time": "2025-08-05T15:59:41.735040",
     "status": "completed"
    },
    "tags": []
   },
   "outputs": [
    {
     "data": {
      "text/html": [
       "<div>\n",
       "<style scoped>\n",
       "    .dataframe tbody tr th:only-of-type {\n",
       "        vertical-align: middle;\n",
       "    }\n",
       "\n",
       "    .dataframe tbody tr th {\n",
       "        vertical-align: top;\n",
       "    }\n",
       "\n",
       "    .dataframe thead th {\n",
       "        text-align: right;\n",
       "    }\n",
       "</style>\n",
       "<table border=\"1\" class=\"dataframe\">\n",
       "  <thead>\n",
       "    <tr style=\"text-align: right;\">\n",
       "      <th></th>\n",
       "      <th>accuracy</th>\n",
       "      <th>balanced accuracy</th>\n",
       "      <th>f1</th>\n",
       "      <th>precision</th>\n",
       "      <th>false positive rate</th>\n",
       "      <th>false negative rate</th>\n",
       "      <th>selection rate</th>\n",
       "      <th>count</th>\n",
       "    </tr>\n",
       "    <tr>\n",
       "      <th>majmin</th>\n",
       "      <th></th>\n",
       "      <th></th>\n",
       "      <th></th>\n",
       "      <th></th>\n",
       "      <th></th>\n",
       "      <th></th>\n",
       "      <th></th>\n",
       "      <th></th>\n",
       "    </tr>\n",
       "  </thead>\n",
       "  <tbody>\n",
       "    <tr>\n",
       "      <th>majority</th>\n",
       "      <td>0.243834</td>\n",
       "      <td>0.557998</td>\n",
       "      <td>0.256094</td>\n",
       "      <td>0.147180</td>\n",
       "      <td>0.869015</td>\n",
       "      <td>0.014989</td>\n",
       "      <td>0.884343</td>\n",
       "      <td>69170.0</td>\n",
       "    </tr>\n",
       "    <tr>\n",
       "      <th>minority</th>\n",
       "      <td>0.160613</td>\n",
       "      <td>0.521944</td>\n",
       "      <td>0.214068</td>\n",
       "      <td>0.119986</td>\n",
       "      <td>0.947667</td>\n",
       "      <td>0.008446</td>\n",
       "      <td>0.952726</td>\n",
       "      <td>20540.0</td>\n",
       "    </tr>\n",
       "  </tbody>\n",
       "</table>\n",
       "</div>"
      ],
      "text/plain": [
       "          accuracy  balanced accuracy        f1  precision  \\\n",
       "majmin                                                       \n",
       "majority  0.243834           0.557998  0.256094   0.147180   \n",
       "minority  0.160613           0.521944  0.214068   0.119986   \n",
       "\n",
       "          false positive rate  false negative rate  selection rate    count  \n",
       "majmin                                                                       \n",
       "majority             0.869015             0.014989        0.884343  69170.0  \n",
       "minority             0.947667             0.008446        0.952726  20540.0  "
      ]
     },
     "execution_count": 62,
     "metadata": {},
     "output_type": "execute_result"
    }
   ],
   "source": [
    "metric_frame.by_group"
   ]
  },
  {
   "cell_type": "code",
   "execution_count": 63,
   "id": "a9ddbe63",
   "metadata": {
    "execution": {
     "iopub.execute_input": "2025-08-05T15:59:41.830183Z",
     "iopub.status.busy": "2025-08-05T15:59:41.829378Z",
     "iopub.status.idle": "2025-08-05T15:59:44.315910Z",
     "shell.execute_reply": "2025-08-05T15:59:44.314921Z"
    },
    "papermill": {
     "duration": 2.513752,
     "end_time": "2025-08-05T15:59:44.317665",
     "exception": false,
     "start_time": "2025-08-05T15:59:41.803913",
     "status": "completed"
    },
    "tags": []
   },
   "outputs": [
    {
     "data": {
      "text/plain": [
       "array([[<Axes: title={'center': 'accuracy'}, xlabel='majmin'>,\n",
       "        <Axes: title={'center': 'balanced accuracy'}, xlabel='majmin'>,\n",
       "        <Axes: title={'center': 'f1'}, xlabel='majmin'>],\n",
       "       [<Axes: title={'center': 'precision'}, xlabel='majmin'>,\n",
       "        <Axes: title={'center': 'false positive rate'}, xlabel='majmin'>,\n",
       "        <Axes: title={'center': 'false negative rate'}, xlabel='majmin'>],\n",
       "       [<Axes: title={'center': 'selection rate'}, xlabel='majmin'>,\n",
       "        <Axes: title={'center': 'count'}, xlabel='majmin'>,\n",
       "        <Axes: xlabel='majmin'>]], dtype=object)"
      ]
     },
     "execution_count": 63,
     "metadata": {},
     "output_type": "execute_result"
    },
    {
     "data": {
      "image/png": "[encoded data removed]",
      "text/plain": [
       "<Figure size 1200x800 with 9 Axes>"
      ]
     },
     "metadata": {},
     "output_type": "display_data"
    }
   ],
   "source": [
    "# In a graphic\n",
    "metric_frame.by_group.plot.bar(\n",
    "    subplots=True,\n",
    "    layout=[3, 3],\n",
    "    legend=False,\n",
    "    figsize=[12, 8],\n",
    "    title=\"Show all metrics\",\n",
    ")"
   ]
  },
  {
   "cell_type": "markdown",
   "id": "f57a0bac",
   "metadata": {
    "papermill": {
     "duration": 0.027144,
     "end_time": "2025-08-05T15:59:44.376236",
     "exception": false,
     "start_time": "2025-08-05T15:59:44.349092",
     "status": "completed"
    },
    "tags": []
   },
   "source": [
    "# Final Output"
   ]
  },
  {
   "cell_type": "code",
   "execution_count": 64,
   "id": "96d280a3",
   "metadata": {
    "execution": {
     "iopub.execute_input": "2025-08-05T15:59:44.436632Z",
     "iopub.status.busy": "2025-08-05T15:59:44.435463Z",
     "iopub.status.idle": "2025-08-05T15:59:44.445096Z",
     "shell.execute_reply": "2025-08-05T15:59:44.443912Z"
    },
    "papermill": {
     "duration": 0.040916,
     "end_time": "2025-08-05T15:59:44.447083",
     "exception": false,
     "start_time": "2025-08-05T15:59:44.406167",
     "status": "completed"
    },
    "tags": []
   },
   "outputs": [
    {
     "data": {
      "text/plain": [
       "4"
      ]
     },
     "execution_count": 64,
     "metadata": {},
     "output_type": "execute_result"
    }
   ],
   "source": [
    "sub_universes = universe_analysis.generate_sub_universes()\n",
    "len(sub_universes)"
   ]
  },
  {
   "cell_type": "code",
   "execution_count": 65,
   "id": "92adf7ba",
   "metadata": {
    "execution": {
     "iopub.execute_input": "2025-08-05T15:59:44.505399Z",
     "iopub.status.busy": "2025-08-05T15:59:44.504380Z",
     "iopub.status.idle": "2025-08-05T15:59:44.511595Z",
     "shell.execute_reply": "2025-08-05T15:59:44.510388Z"
    },
    "papermill": {
     "duration": 0.038254,
     "end_time": "2025-08-05T15:59:44.513596",
     "exception": false,
     "start_time": "2025-08-05T15:59:44.475342",
     "status": "completed"
    },
    "tags": []
   },
   "outputs": [],
   "source": [
    "def filter_sub_universe_data(sub_universe, org_test):\n",
    "    # Keep all rows — no filtering\n",
    "    keep_rows_mask = np.ones(org_test.shape[0], dtype=bool)\n",
    "\n",
    "    print(f\"[INFO] Keeping all rows: {keep_rows_mask.sum()} rows retained.\")\n",
    "    return keep_rows_mask"
   ]
  },
  {
   "cell_type": "code",
   "execution_count": 66,
   "id": "4a759155",
   "metadata": {
    "execution": {
     "iopub.execute_input": "2025-08-05T15:59:44.572613Z",
     "iopub.status.busy": "2025-08-05T15:59:44.571662Z",
     "iopub.status.idle": "2025-08-05T15:59:52.879468Z",
     "shell.execute_reply": "2025-08-05T15:59:52.878450Z"
    },
    "papermill": {
     "duration": 8.338124,
     "end_time": "2025-08-05T15:59:52.880796",
     "exception": false,
     "start_time": "2025-08-05T15:59:44.542672",
     "status": "completed"
    },
    "tags": []
   },
   "outputs": [
    {
     "name": "stdout",
     "output_type": "stream",
     "text": [
      "Stopping execution_time clock.\n",
      "[INFO] Keeping all rows: 89710 rows retained.\n"
     ]
    },
    {
     "name": "stdout",
     "output_type": "stream",
     "text": [
      "[INFO] Keeping all rows: 89710 rows retained.\n"
     ]
    },
    {
     "name": "stdout",
     "output_type": "stream",
     "text": [
      "[INFO] Keeping all rows: 89710 rows retained.\n"
     ]
    },
    {
     "name": "stdout",
     "output_type": "stream",
     "text": [
      "[INFO] Keeping all rows: 89710 rows retained.\n"
     ]
    },
    {
     "data": {
      "text/html": [
       "<div>\n",
       "<style scoped>\n",
       "    .dataframe tbody tr th:only-of-type {\n",
       "        vertical-align: middle;\n",
       "    }\n",
       "\n",
       "    .dataframe tbody tr th {\n",
       "        vertical-align: top;\n",
       "    }\n",
       "\n",
       "    .dataframe thead th {\n",
       "        text-align: right;\n",
       "    }\n",
       "</style>\n",
       "<table border=\"1\" class=\"dataframe\">\n",
       "  <thead>\n",
       "    <tr style=\"text-align: right;\">\n",
       "      <th></th>\n",
       "      <th>run_no</th>\n",
       "      <th>universe_id</th>\n",
       "      <th>universe_settings</th>\n",
       "      <th>execution_time</th>\n",
       "      <th>test_size_n</th>\n",
       "      <th>test_size_frac</th>\n",
       "      <th>fair_main_equalized_odds_difference</th>\n",
       "      <th>fair_main_equalized_odds_ratio</th>\n",
       "      <th>fair_main_demographic_parity_difference</th>\n",
       "      <th>fair_main_demographic_parity_ratio</th>\n",
       "      <th>...</th>\n",
       "      <th>perf_grp_precision_0</th>\n",
       "      <th>perf_grp_precision_1</th>\n",
       "      <th>perf_grp_false positive rate_0</th>\n",
       "      <th>perf_grp_false positive rate_1</th>\n",
       "      <th>perf_grp_false negative rate_0</th>\n",
       "      <th>perf_grp_false negative rate_1</th>\n",
       "      <th>perf_grp_selection rate_0</th>\n",
       "      <th>perf_grp_selection rate_1</th>\n",
       "      <th>perf_grp_count_0</th>\n",
       "      <th>perf_grp_count_1</th>\n",
       "    </tr>\n",
       "  </thead>\n",
       "  <tbody>\n",
       "    <tr>\n",
       "      <th>0</th>\n",
       "      <td>15</td>\n",
       "      <td>e02fbe2e1eedfce9962e5e1aca047ce9</td>\n",
       "      <td>{\"cutoff\": \"quantile_0.1\", \"eval_fairness_grou...</td>\n",
       "      <td>30.531616</td>\n",
       "      <td>89710</td>\n",
       "      <td>1.0</td>\n",
       "      <td>0.078651</td>\n",
       "      <td>0.917005</td>\n",
       "      <td>0.068383</td>\n",
       "      <td>0.928223</td>\n",
       "      <td>...</td>\n",
       "      <td>NaN</td>\n",
       "      <td>NaN</td>\n",
       "      <td>NaN</td>\n",
       "      <td>NaN</td>\n",
       "      <td>NaN</td>\n",
       "      <td>NaN</td>\n",
       "      <td>NaN</td>\n",
       "      <td>NaN</td>\n",
       "      <td>NaN</td>\n",
       "      <td>NaN</td>\n",
       "    </tr>\n",
       "    <tr>\n",
       "      <th>0</th>\n",
       "      <td>15</td>\n",
       "      <td>e02fbe2e1eedfce9962e5e1aca047ce9</td>\n",
       "      <td>{\"cutoff\": \"quantile_0.1\", \"eval_fairness_grou...</td>\n",
       "      <td>30.531616</td>\n",
       "      <td>89710</td>\n",
       "      <td>1.0</td>\n",
       "      <td>0.078651</td>\n",
       "      <td>0.917005</td>\n",
       "      <td>0.068383</td>\n",
       "      <td>0.928223</td>\n",
       "      <td>...</td>\n",
       "      <td>0.119986</td>\n",
       "      <td>0.147180</td>\n",
       "      <td>0.947667</td>\n",
       "      <td>0.869015</td>\n",
       "      <td>0.008446</td>\n",
       "      <td>0.014989</td>\n",
       "      <td>0.952726</td>\n",
       "      <td>0.884343</td>\n",
       "      <td>20540.0</td>\n",
       "      <td>69170.0</td>\n",
       "    </tr>\n",
       "    <tr>\n",
       "      <th>0</th>\n",
       "      <td>15</td>\n",
       "      <td>e02fbe2e1eedfce9962e5e1aca047ce9</td>\n",
       "      <td>{\"cutoff\": \"quantile_0.25\", \"eval_fairness_gro...</td>\n",
       "      <td>30.531616</td>\n",
       "      <td>89710</td>\n",
       "      <td>1.0</td>\n",
       "      <td>0.063585</td>\n",
       "      <td>0.917485</td>\n",
       "      <td>0.050079</td>\n",
       "      <td>0.936497</td>\n",
       "      <td>...</td>\n",
       "      <td>NaN</td>\n",
       "      <td>NaN</td>\n",
       "      <td>NaN</td>\n",
       "      <td>NaN</td>\n",
       "      <td>NaN</td>\n",
       "      <td>NaN</td>\n",
       "      <td>NaN</td>\n",
       "      <td>NaN</td>\n",
       "      <td>NaN</td>\n",
       "      <td>NaN</td>\n",
       "    </tr>\n",
       "    <tr>\n",
       "      <th>0</th>\n",
       "      <td>15</td>\n",
       "      <td>e02fbe2e1eedfce9962e5e1aca047ce9</td>\n",
       "      <td>{\"cutoff\": \"quantile_0.25\", \"eval_fairness_gro...</td>\n",
       "      <td>30.531616</td>\n",
       "      <td>89710</td>\n",
       "      <td>1.0</td>\n",
       "      <td>0.063585</td>\n",
       "      <td>0.917485</td>\n",
       "      <td>0.050079</td>\n",
       "      <td>0.936497</td>\n",
       "      <td>...</td>\n",
       "      <td>0.135511</td>\n",
       "      <td>0.169192</td>\n",
       "      <td>0.770581</td>\n",
       "      <td>0.706997</td>\n",
       "      <td>0.073057</td>\n",
       "      <td>0.054376</td>\n",
       "      <td>0.788608</td>\n",
       "      <td>0.738528</td>\n",
       "      <td>20540.0</td>\n",
       "      <td>69170.0</td>\n",
       "    </tr>\n",
       "  </tbody>\n",
       "</table>\n",
       "<p>4 rows × 50 columns</p>\n",
       "</div>"
      ],
      "text/plain": [
       "  run_no                       universe_id  \\\n",
       "0     15  e02fbe2e1eedfce9962e5e1aca047ce9   \n",
       "0     15  e02fbe2e1eedfce9962e5e1aca047ce9   \n",
       "0     15  e02fbe2e1eedfce9962e5e1aca047ce9   \n",
       "0     15  e02fbe2e1eedfce9962e5e1aca047ce9   \n",
       "\n",
       "                                   universe_settings  execution_time  \\\n",
       "0  {\"cutoff\": \"quantile_0.1\", \"eval_fairness_grou...       30.531616   \n",
       "0  {\"cutoff\": \"quantile_0.1\", \"eval_fairness_grou...       30.531616   \n",
       "0  {\"cutoff\": \"quantile_0.25\", \"eval_fairness_gro...       30.531616   \n",
       "0  {\"cutoff\": \"quantile_0.25\", \"eval_fairness_gro...       30.531616   \n",
       "\n",
       "   test_size_n  test_size_frac  fair_main_equalized_odds_difference  \\\n",
       "0        89710             1.0                             0.078651   \n",
       "0        89710             1.0                             0.078651   \n",
       "0        89710             1.0                             0.063585   \n",
       "0        89710             1.0                             0.063585   \n",
       "\n",
       "   fair_main_equalized_odds_ratio  fair_main_demographic_parity_difference  \\\n",
       "0                        0.917005                                 0.068383   \n",
       "0                        0.917005                                 0.068383   \n",
       "0                        0.917485                                 0.050079   \n",
       "0                        0.917485                                 0.050079   \n",
       "\n",
       "   fair_main_demographic_parity_ratio  ...  perf_grp_precision_0  \\\n",
       "0                            0.928223  ...                   NaN   \n",
       "0                            0.928223  ...              0.119986   \n",
       "0                            0.936497  ...                   NaN   \n",
       "0                            0.936497  ...              0.135511   \n",
       "\n",
       "   perf_grp_precision_1  perf_grp_false positive rate_0  \\\n",
       "0                   NaN                             NaN   \n",
       "0              0.147180                        0.947667   \n",
       "0                   NaN                             NaN   \n",
       "0              0.169192                        0.770581   \n",
       "\n",
       "   perf_grp_false positive rate_1  perf_grp_false negative rate_0  \\\n",
       "0                             NaN                             NaN   \n",
       "0                        0.869015                        0.008446   \n",
       "0                             NaN                             NaN   \n",
       "0                        0.706997                        0.073057   \n",
       "\n",
       "   perf_grp_false negative rate_1  perf_grp_selection rate_0  \\\n",
       "0                             NaN                        NaN   \n",
       "0                        0.014989                   0.952726   \n",
       "0                             NaN                        NaN   \n",
       "0                        0.054376                   0.788608   \n",
       "\n",
       "   perf_grp_selection rate_1  perf_grp_count_0  perf_grp_count_1  \n",
       "0                        NaN               NaN               NaN  \n",
       "0                   0.884343           20540.0           69170.0  \n",
       "0                        NaN               NaN               NaN  \n",
       "0                   0.738528           20540.0           69170.0  \n",
       "\n",
       "[4 rows x 50 columns]"
      ]
     },
     "execution_count": 66,
     "metadata": {},
     "output_type": "execute_result"
    }
   ],
   "source": [
    "final_output = universe_analysis.generate_final_output(\n",
    "    y_pred_prob=probs_test,\n",
    "    y_test=y_true,\n",
    "    org_test=org_test,\n",
    "    filter_data=filter_sub_universe_data,\n",
    "    cp_metrics_df=cp_metrics_df,\n",
    "    save=True,\n",
    ")\n",
    "final_output"
   ]
  }
 ],
 "metadata": {
  "celltoolbar": "Tags",
  "kernelspec": {
   "display_name": "Python (CMA Fairness)",
   "language": "python",
   "name": "cma_fair_env"
  },
  "language_info": {
   "codemirror_mode": {
    "name": "ipython",
    "version": 3
   },
   "file_extension": ".py",
   "mimetype": "text/x-python",
   "name": "python",
   "nbconvert_exporter": "python",
   "pygments_lexer": "ipython3",
   "version": "3.10.12"
  },
  "papermill": {
   "default_parameters": {},
   "duration": 42.821004,
   "end_time": "2025-08-05T15:59:53.515365",
   "environment_variables": {},
   "exception": null,
   "input_path": "universe_analysis.ipynb",
   "output_path": "output/runs/15/notebooks/m_15-e02fbe2e1eedfce9962e5e1aca047ce9.ipynb",
   "parameters": {
    "output_dir": "output",
    "run_no": "15",
    "seed": "2023",
    "universe": "{\"cutoff\": [\"quantile_0.1\", \"quantile_0.25\"], \"eval_fairness_grouping\": [\"majority-minority\", \"nationality-all\"], \"exclude_features\": \"nationality\", \"exclude_subgroups\": \"keep-all\", \"model\": \"gbm\", \"scale\": \"do-not-scale\", \"training_size\": \"5k\", \"training_year\": \"2010_14\"}",
    "universe_id": "e02fbe2e1eedfce9962e5e1aca047ce9"
   },
   "start_time": "2025-08-05T15:59:10.694361",
   "version": "2.6.0"
  }
 },
 "nbformat": 4,
 "nbformat_minor": 5
}