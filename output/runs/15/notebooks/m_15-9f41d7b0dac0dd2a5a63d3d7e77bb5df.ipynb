{
 "cells": [
  {
   "cell_type": "code",
   "execution_count": 1,
   "id": "f159f837-637b-42ba-96b5-ec9a68c44524",
   "metadata": {
    "execution": {
     "iopub.execute_input": "2025-08-05T16:09:38.984832Z",
     "iopub.status.busy": "2025-08-05T16:09:38.983664Z",
     "iopub.status.idle": "2025-08-05T16:09:39.001109Z",
     "shell.execute_reply": "2025-08-05T16:09:38.999861Z"
    },
    "papermill": {
     "duration": 0.039672,
     "end_time": "2025-08-05T16:09:39.002761",
     "exception": false,
     "start_time": "2025-08-05T16:09:38.963089",
     "status": "completed"
    },
    "tags": []
   },
   "outputs": [
    {
     "name": "stdout",
     "output_type": "stream",
     "text": [
      "/dss/dsshome1/0C/ra93lal2/cma/CMA_Fairness_v2\n"
     ]
    },
    {
     "name": "stderr",
     "output_type": "stream",
     "text": [
      "/dss/dsshome1/0C/ra93lal2/.local/share/virtualenvs/CMA_Fairness_v2-3j10GkSs/lib/python3.10/site-packages/IPython/core/magics/osm.py:393: UserWarning: This is now an optional IPython functionality, using bookmarks requires you to install the `pickleshare` library.\n",
      "  bkms = self.shell.db.get('bookmarks', {})\n",
      "/dss/dsshome1/0C/ra93lal2/.local/share/virtualenvs/CMA_Fairness_v2-3j10GkSs/lib/python3.10/site-packages/IPython/core/magics/osm.py:417: UserWarning: This is now an optional IPython functionality, setting dhist requires you to install the `pickleshare` library.\n",
      "  self.shell.db['dhist'] = compress_dhist(dhist)[-100:]\n"
     ]
    }
   ],
   "source": [
    "%cd ~/cma/CMA_Fairness_v2"
   ]
  },
  {
   "cell_type": "markdown",
   "id": "de2603b9",
   "metadata": {
    "papermill": {
     "duration": 0.016464,
     "end_time": "2025-08-05T16:09:39.035837",
     "exception": false,
     "start_time": "2025-08-05T16:09:39.019373",
     "status": "completed"
    },
    "tags": []
   },
   "source": [
    "The following cell holds the definition of our parameters, these values can be overriden by rendering the with e.g. the following command:\n",
    "\n",
    "papermill -p alpha 0.2 -p ratio 0.3 universe_analysis.ipynb output/test_run.ipynb"
   ]
  },
  {
   "cell_type": "code",
   "execution_count": 2,
   "id": "a80968a0-40bb-4fa9-85ef-2d5eefb01975",
   "metadata": {
    "execution": {
     "iopub.execute_input": "2025-08-05T16:09:39.070492Z",
     "iopub.status.busy": "2025-08-05T16:09:39.069510Z",
     "iopub.status.idle": "2025-08-05T16:09:39.076985Z",
     "shell.execute_reply": "2025-08-05T16:09:39.074862Z"
    },
    "papermill": {
     "duration": 0.026515,
     "end_time": "2025-08-05T16:09:39.078724",
     "exception": false,
     "start_time": "2025-08-05T16:09:39.052209",
     "status": "completed"
    },
    "tags": []
   },
   "outputs": [
    {
     "name": "stdout",
     "output_type": "stream",
     "text": [
      "Current working directory: /dss/dsshome1/0C/ra93lal2/cma/CMA_Fairness_v2\n"
     ]
    }
   ],
   "source": [
    "import os\n",
    "print(\"Current working directory:\", os.getcwd())"
   ]
  },
  {
   "cell_type": "code",
   "execution_count": 3,
   "id": "2dce4c03",
   "metadata": {
    "execution": {
     "iopub.execute_input": "2025-08-05T16:09:39.114740Z",
     "iopub.status.busy": "2025-08-05T16:09:39.113769Z",
     "iopub.status.idle": "2025-08-05T16:09:39.121580Z",
     "shell.execute_reply": "2025-08-05T16:09:39.120403Z"
    },
    "papermill": {
     "duration": 0.028148,
     "end_time": "2025-08-05T16:09:39.123602",
     "exception": false,
     "start_time": "2025-08-05T16:09:39.095454",
     "status": "completed"
    },
    "tags": [
     "parameters"
    ]
   },
   "outputs": [],
   "source": [
    "run_no = 0\n",
    "universe_id = \"test\"\n",
    "universe = {\n",
    "    \"training_size\": \"25k\", # \"25k\", \"5k\", \"1k\"\n",
    "    \"training_year\": \"2014\", # \"2014\", \"2012_14\", \"2010_14\"\n",
    "    \"scale\": \"scale\", # \"scale\", \"do-not-scale\",\n",
    "    \"model\": \"elasticnet\", # \"logreg\", \"penalized_logreg\", \"rf\", \"gbm\", \"elasticnet\"\n",
    "    \"cutoff\": [\"quantile_0.15\", \"quantile_0.30\"],\n",
    "    \"exclude_features\": \"age\", # \"none\", \"nationality\", \"sex\", \"nationality-sex\", \"age\"\n",
    "    \"exclude_subgroups\": \"keep-all\", # \"keep-all\", \"drop-non-german\"\n",
    "    \"eval_fairness_grouping\": [\"majority-minority\", \"nationality-all\"]\n",
    "}\n",
    "\n",
    "output_dir=\"./output\"\n",
    "seed=0"
   ]
  },
  {
   "cell_type": "code",
   "execution_count": 4,
   "id": "57b5d20d",
   "metadata": {
    "execution": {
     "iopub.execute_input": "2025-08-05T16:09:39.158692Z",
     "iopub.status.busy": "2025-08-05T16:09:39.157710Z",
     "iopub.status.idle": "2025-08-05T16:09:39.163423Z",
     "shell.execute_reply": "2025-08-05T16:09:39.162335Z"
    },
    "papermill": {
     "duration": 0.025546,
     "end_time": "2025-08-05T16:09:39.165963",
     "exception": false,
     "start_time": "2025-08-05T16:09:39.140417",
     "status": "completed"
    },
    "tags": [
     "injected-parameters"
    ]
   },
   "outputs": [],
   "source": [
    "# Parameters\n",
    "universe_id = \"9f41d7b0dac0dd2a5a63d3d7e77bb5df\"\n",
    "run_no = \"15\"\n",
    "universe = \"{\\\"cutoff\\\": [\\\"quantile_0.1\\\", \\\"quantile_0.25\\\"], \\\"eval_fairness_grouping\\\": [\\\"majority-minority\\\", \\\"nationality-all\\\"], \\\"exclude_features\\\": \\\"none\\\", \\\"exclude_subgroups\\\": \\\"drop-non-german\\\", \\\"model\\\": \\\"penalized_logreg\\\", \\\"scale\\\": \\\"do-not-scale\\\", \\\"training_size\\\": \\\"1k\\\", \\\"training_year\\\": \\\"2014\\\"}\"\n",
    "output_dir = \"output\"\n",
    "seed = \"2023\"\n"
   ]
  },
  {
   "cell_type": "code",
   "execution_count": 5,
   "id": "1650acaf",
   "metadata": {
    "execution": {
     "iopub.execute_input": "2025-08-05T16:09:39.210527Z",
     "iopub.status.busy": "2025-08-05T16:09:39.209734Z",
     "iopub.status.idle": "2025-08-05T16:09:39.215377Z",
     "shell.execute_reply": "2025-08-05T16:09:39.214376Z"
    },
    "papermill": {
     "duration": 0.025695,
     "end_time": "2025-08-05T16:09:39.217397",
     "exception": false,
     "start_time": "2025-08-05T16:09:39.191702",
     "status": "completed"
    },
    "tags": []
   },
   "outputs": [],
   "source": [
    "import json\n",
    "if isinstance(universe, str):\n",
    "    universe = json.loads(universe)"
   ]
  },
  {
   "cell_type": "code",
   "execution_count": 6,
   "id": "16620c48",
   "metadata": {
    "execution": {
     "iopub.execute_input": "2025-08-05T16:09:39.239767Z",
     "iopub.status.busy": "2025-08-05T16:09:39.239473Z",
     "iopub.status.idle": "2025-08-05T16:09:39.269554Z",
     "shell.execute_reply": "2025-08-05T16:09:39.268729Z"
    },
    "papermill": {
     "duration": 0.040521,
     "end_time": "2025-08-05T16:09:39.271043",
     "exception": false,
     "start_time": "2025-08-05T16:09:39.230522",
     "status": "completed"
    },
    "tags": []
   },
   "outputs": [],
   "source": [
    "# Auto-reload the custom package\n",
    "%load_ext autoreload\n",
    "%autoreload 1\n",
    "%aimport fairness_multiverse"
   ]
  },
  {
   "cell_type": "code",
   "execution_count": 7,
   "id": "01c5c9f3",
   "metadata": {
    "execution": {
     "iopub.execute_input": "2025-08-05T16:09:39.307811Z",
     "iopub.status.busy": "2025-08-05T16:09:39.306977Z",
     "iopub.status.idle": "2025-08-05T16:09:41.019353Z",
     "shell.execute_reply": "2025-08-05T16:09:41.018250Z"
    },
    "papermill": {
     "duration": 1.733638,
     "end_time": "2025-08-05T16:09:41.021395",
     "exception": false,
     "start_time": "2025-08-05T16:09:39.287757",
     "status": "completed"
    },
    "tags": []
   },
   "outputs": [],
   "source": [
    "from fairness_multiverse.universe import UniverseAnalysis\n",
    "\n",
    "universe_analysis = UniverseAnalysis(\n",
    "    run_no = run_no,\n",
    "    universe_id = universe_id,\n",
    "    universe = universe,\n",
    "    output_dir=output_dir,\n",
    ")"
   ]
  },
  {
   "cell_type": "code",
   "execution_count": 8,
   "id": "106241f5",
   "metadata": {
    "execution": {
     "iopub.execute_input": "2025-08-05T16:09:41.058390Z",
     "iopub.status.busy": "2025-08-05T16:09:41.057744Z",
     "iopub.status.idle": "2025-08-05T16:09:41.065345Z",
     "shell.execute_reply": "2025-08-05T16:09:41.064368Z"
    },
    "papermill": {
     "duration": 0.029478,
     "end_time": "2025-08-05T16:09:41.068155",
     "exception": false,
     "start_time": "2025-08-05T16:09:41.038677",
     "status": "completed"
    },
    "tags": []
   },
   "outputs": [
    {
     "name": "stdout",
     "output_type": "stream",
     "text": [
      "Using Seed: 2023\n"
     ]
    }
   ],
   "source": [
    "import numpy as np\n",
    "parsed_seed = int(seed)\n",
    "np.random.seed(parsed_seed)\n",
    "print(f\"Using Seed: {parsed_seed}\")"
   ]
  },
  {
   "cell_type": "markdown",
   "id": "e0ebdc57",
   "metadata": {
    "papermill": {
     "duration": 0.022084,
     "end_time": "2025-08-05T16:09:41.117083",
     "exception": false,
     "start_time": "2025-08-05T16:09:41.094999",
     "status": "completed"
    },
    "tags": []
   },
   "source": [
    "# Loading Data"
   ]
  },
  {
   "cell_type": "code",
   "execution_count": 9,
   "id": "f0496b8a",
   "metadata": {
    "execution": {
     "iopub.execute_input": "2025-08-05T16:09:41.155961Z",
     "iopub.status.busy": "2025-08-05T16:09:41.155011Z",
     "iopub.status.idle": "2025-08-05T16:09:52.801873Z",
     "shell.execute_reply": "2025-08-05T16:09:52.800703Z"
    },
    "papermill": {
     "duration": 11.668101,
     "end_time": "2025-08-05T16:09:52.803530",
     "exception": false,
     "start_time": "2025-08-05T16:09:41.135429",
     "status": "completed"
    },
    "tags": []
   },
   "outputs": [
    {
     "name": "stdout",
     "output_type": "stream",
     "text": [
      "Loading SIAB data from cache: data/siab_cached.csv.gz\n"
     ]
    },
    {
     "name": "stdout",
     "output_type": "stream",
     "text": [
      "(643690, 164)\n"
     ]
    }
   ],
   "source": [
    "from pathlib import Path\n",
    "import pandas as pd\n",
    "\n",
    "# File paths\n",
    "raw_file = Path(\"data/raw/siab.csv\")\n",
    "cache_file = Path(\"data/siab_cached.csv.gz\")\n",
    "\n",
    "# Ensure cache directory exists\n",
    "cache_file.parent.mkdir(parents=True, exist_ok=True)\n",
    "\n",
    "# Load with simple caching\n",
    "if cache_file.exists():\n",
    "    print(f\"Loading SIAB data from cache: {cache_file}\")\n",
    "    siab = pd.read_csv(cache_file, compression='gzip')\n",
    "else:\n",
    "    print(f\"Cache not found. Reading raw SIAB data: {raw_file}\")\n",
    "    siab = pd.read_csv(raw_file)\n",
    "    siab.to_csv(cache_file, index=False, compression='gzip')\n",
    "    print(f\"Cached SIAB data to: {cache_file}\")\n",
    "\n",
    "print(siab.shape)"
   ]
  },
  {
   "cell_type": "code",
   "execution_count": 10,
   "id": "db0ca512-5f53-4dba-abdb-a2888bca41ba",
   "metadata": {
    "execution": {
     "iopub.execute_input": "2025-08-05T16:09:52.839097Z",
     "iopub.status.busy": "2025-08-05T16:09:52.838626Z",
     "iopub.status.idle": "2025-08-05T16:09:52.844200Z",
     "shell.execute_reply": "2025-08-05T16:09:52.843203Z"
    },
    "papermill": {
     "duration": 0.02378,
     "end_time": "2025-08-05T16:09:52.845976",
     "exception": false,
     "start_time": "2025-08-05T16:09:52.822196",
     "status": "completed"
    },
    "tags": []
   },
   "outputs": [],
   "source": [
    "#siab"
   ]
  },
  {
   "cell_type": "markdown",
   "id": "997051c5-15bd-4b69-9786-c3001a3ce484",
   "metadata": {
    "papermill": {
     "duration": 0.015977,
     "end_time": "2025-08-05T16:09:52.878186",
     "exception": false,
     "start_time": "2025-08-05T16:09:52.862209",
     "status": "completed"
    },
    "tags": []
   },
   "source": [
    "# Splitting Data and Setting Training Data Size"
   ]
  },
  {
   "cell_type": "code",
   "execution_count": 11,
   "id": "aea9c6ef-6f46-42c8-85eb-5a62025c1508",
   "metadata": {
    "execution": {
     "iopub.execute_input": "2025-08-05T16:09:52.909940Z",
     "iopub.status.busy": "2025-08-05T16:09:52.909299Z",
     "iopub.status.idle": "2025-08-05T16:09:53.117598Z",
     "shell.execute_reply": "2025-08-05T16:09:53.116650Z"
    },
    "papermill": {
     "duration": 0.226055,
     "end_time": "2025-08-05T16:09:53.119352",
     "exception": false,
     "start_time": "2025-08-05T16:09:52.893297",
     "status": "completed"
    },
    "tags": []
   },
   "outputs": [],
   "source": [
    "from fairness_multiverse.universe import sample_by_year_size\n",
    "\n",
    "siab_train = sample_by_year_size(siab,\n",
    "                               training_year=universe[\"training_year\"],\n",
    "                               training_size=universe[\"training_size\"])"
   ]
  },
  {
   "cell_type": "code",
   "execution_count": 12,
   "id": "8d3afb32-789d-442c-8d5d-9f5aa8dd2eed",
   "metadata": {
    "execution": {
     "iopub.execute_input": "2025-08-05T16:09:53.155383Z",
     "iopub.status.busy": "2025-08-05T16:09:53.154644Z",
     "iopub.status.idle": "2025-08-05T16:09:53.159547Z",
     "shell.execute_reply": "2025-08-05T16:09:53.158552Z"
    },
    "papermill": {
     "duration": 0.023502,
     "end_time": "2025-08-05T16:09:53.161343",
     "exception": false,
     "start_time": "2025-08-05T16:09:53.137841",
     "status": "completed"
    },
    "tags": []
   },
   "outputs": [],
   "source": [
    "#siab_train.shape"
   ]
  },
  {
   "cell_type": "code",
   "execution_count": 13,
   "id": "d582db68-1a4c-47fb-84fc-08518dc1975a",
   "metadata": {
    "execution": {
     "iopub.execute_input": "2025-08-05T16:09:53.197249Z",
     "iopub.status.busy": "2025-08-05T16:09:53.196467Z",
     "iopub.status.idle": "2025-08-05T16:09:53.200935Z",
     "shell.execute_reply": "2025-08-05T16:09:53.199984Z"
    },
    "papermill": {
     "duration": 0.02458,
     "end_time": "2025-08-05T16:09:53.202758",
     "exception": false,
     "start_time": "2025-08-05T16:09:53.178178",
     "status": "completed"
    },
    "tags": []
   },
   "outputs": [],
   "source": [
    "#display(siab_train.groupby(\"year\").size())"
   ]
  },
  {
   "cell_type": "code",
   "execution_count": 14,
   "id": "a561edb4-d032-42cb-8256-22eac1111c64",
   "metadata": {
    "execution": {
     "iopub.execute_input": "2025-08-05T16:09:53.238088Z",
     "iopub.status.busy": "2025-08-05T16:09:53.237425Z",
     "iopub.status.idle": "2025-08-05T16:09:53.476294Z",
     "shell.execute_reply": "2025-08-05T16:09:53.475380Z"
    },
    "papermill": {
     "duration": 0.258331,
     "end_time": "2025-08-05T16:09:53.478510",
     "exception": false,
     "start_time": "2025-08-05T16:09:53.220179",
     "status": "completed"
    },
    "tags": []
   },
   "outputs": [],
   "source": [
    "#siab_train = siab_s[siab_s.year < 2015]\n",
    "siab_calib = siab[siab.year == 2015]\n",
    "siab_test = siab[siab.year == 2016]"
   ]
  },
  {
   "cell_type": "code",
   "execution_count": 15,
   "id": "472de16f-c3db-4916-846b-1f0de9cf1746",
   "metadata": {
    "execution": {
     "iopub.execute_input": "2025-08-05T16:09:53.514930Z",
     "iopub.status.busy": "2025-08-05T16:09:53.514310Z",
     "iopub.status.idle": "2025-08-05T16:09:53.521124Z",
     "shell.execute_reply": "2025-08-05T16:09:53.520056Z"
    },
    "papermill": {
     "duration": 0.026771,
     "end_time": "2025-08-05T16:09:53.523264",
     "exception": false,
     "start_time": "2025-08-05T16:09:53.496493",
     "status": "completed"
    },
    "tags": []
   },
   "outputs": [],
   "source": [
    "X_train = siab_train.iloc[:,4:164]\n",
    "y_train = siab_train.iloc[:, [3]]"
   ]
  },
  {
   "cell_type": "code",
   "execution_count": 16,
   "id": "828c96af-f43a-4ed6-ba47-8ac73a47d56c",
   "metadata": {
    "execution": {
     "iopub.execute_input": "2025-08-05T16:09:53.558699Z",
     "iopub.status.busy": "2025-08-05T16:09:53.558253Z",
     "iopub.status.idle": "2025-08-05T16:09:53.611900Z",
     "shell.execute_reply": "2025-08-05T16:09:53.610794Z"
    },
    "papermill": {
     "duration": 0.085409,
     "end_time": "2025-08-05T16:09:53.626705",
     "exception": false,
     "start_time": "2025-08-05T16:09:53.541296",
     "status": "completed"
    },
    "tags": []
   },
   "outputs": [],
   "source": [
    "X_calib = siab_calib.iloc[:,4:164]\n",
    "y_calib = siab_calib.iloc[:, [3]]"
   ]
  },
  {
   "cell_type": "code",
   "execution_count": 17,
   "id": "c34be9c3-6bd6-476e-acd3-845840e303be",
   "metadata": {
    "execution": {
     "iopub.execute_input": "2025-08-05T16:09:53.676554Z",
     "iopub.status.busy": "2025-08-05T16:09:53.675817Z",
     "iopub.status.idle": "2025-08-05T16:09:53.727637Z",
     "shell.execute_reply": "2025-08-05T16:09:53.726661Z"
    },
    "papermill": {
     "duration": 0.070539,
     "end_time": "2025-08-05T16:09:53.729479",
     "exception": false,
     "start_time": "2025-08-05T16:09:53.658940",
     "status": "completed"
    },
    "tags": []
   },
   "outputs": [],
   "source": [
    "X_test = siab_test.iloc[:,4:164]\n",
    "y_true = siab_test.iloc[:, [3]]"
   ]
  },
  {
   "cell_type": "code",
   "execution_count": 18,
   "id": "e6c733c5",
   "metadata": {
    "execution": {
     "iopub.execute_input": "2025-08-05T16:09:53.767037Z",
     "iopub.status.busy": "2025-08-05T16:09:53.766505Z",
     "iopub.status.idle": "2025-08-05T16:09:53.882724Z",
     "shell.execute_reply": "2025-08-05T16:09:53.881638Z"
    },
    "papermill": {
     "duration": 0.136487,
     "end_time": "2025-08-05T16:09:53.884443",
     "exception": false,
     "start_time": "2025-08-05T16:09:53.747956",
     "status": "completed"
    },
    "tags": []
   },
   "outputs": [],
   "source": [
    "# Auxiliary data needed downstream in the pipeline\n",
    "\n",
    "org_train = X_train.copy()\n",
    "org_test = X_test.copy()\n",
    "org_calib = X_calib.copy()"
   ]
  },
  {
   "cell_type": "markdown",
   "id": "0a4a1b33",
   "metadata": {
    "papermill": {
     "duration": 0.011135,
     "end_time": "2025-08-05T16:09:53.930580",
     "exception": false,
     "start_time": "2025-08-05T16:09:53.919445",
     "status": "completed"
    },
    "tags": []
   },
   "source": [
    "# Preprocessing Data"
   ]
  },
  {
   "cell_type": "code",
   "execution_count": 19,
   "id": "ca879031",
   "metadata": {
    "execution": {
     "iopub.execute_input": "2025-08-05T16:09:53.954346Z",
     "iopub.status.busy": "2025-08-05T16:09:53.953983Z",
     "iopub.status.idle": "2025-08-05T16:09:53.959949Z",
     "shell.execute_reply": "2025-08-05T16:09:53.959136Z"
    },
    "papermill": {
     "duration": 0.017993,
     "end_time": "2025-08-05T16:09:53.961398",
     "exception": false,
     "start_time": "2025-08-05T16:09:53.943405",
     "status": "completed"
    },
    "tags": []
   },
   "outputs": [],
   "source": [
    "# EXCLUDE PROTECTED FEATURES\n",
    "# ----------------------\n",
    "# \"exclude_features\": \"none\", # \"nationality\", \"sex\", \"nationality-sex\"\n",
    "\n",
    "excluded_features = universe[\"exclude_features\"].split(\"-\") # split, e.g.: \"nationality-sex\" -> [\"nationality\", \"sex\"]\n",
    "excluded_features_dictionary = {\n",
    "    \"nationality\": [\"maxdeutsch1\", \"maxdeutsch.Missing.\"],\n",
    "    \"sex\": [\"frau1\"],\n",
    "    \"age\": [\"age\"],\n",
    "}"
   ]
  },
  {
   "cell_type": "code",
   "execution_count": 20,
   "id": "b745ac60",
   "metadata": {
    "execution": {
     "iopub.execute_input": "2025-08-05T16:09:53.980924Z",
     "iopub.status.busy": "2025-08-05T16:09:53.980519Z",
     "iopub.status.idle": "2025-08-05T16:09:53.985062Z",
     "shell.execute_reply": "2025-08-05T16:09:53.984202Z"
    },
    "papermill": {
     "duration": 0.015501,
     "end_time": "2025-08-05T16:09:53.986610",
     "exception": false,
     "start_time": "2025-08-05T16:09:53.971109",
     "status": "completed"
    },
    "tags": []
   },
   "outputs": [],
   "source": [
    "# Code nice names to column names\n",
    "\n",
    "excluded_features_columns = [\n",
    "    excluded_features_dictionary[f] for f in excluded_features if len(f) > 0 and f != \"none\"\n",
    "]"
   ]
  },
  {
   "cell_type": "code",
   "execution_count": 21,
   "id": "f84f73a2",
   "metadata": {
    "execution": {
     "iopub.execute_input": "2025-08-05T16:09:54.018218Z",
     "iopub.status.busy": "2025-08-05T16:09:54.017742Z",
     "iopub.status.idle": "2025-08-05T16:09:54.024617Z",
     "shell.execute_reply": "2025-08-05T16:09:54.023334Z"
    },
    "papermill": {
     "duration": 0.021527,
     "end_time": "2025-08-05T16:09:54.027678",
     "exception": false,
     "start_time": "2025-08-05T16:09:54.006151",
     "status": "completed"
    },
    "tags": []
   },
   "outputs": [],
   "source": [
    "from utils import flatten_once\n",
    "\n",
    "excluded_features_columns = flatten_once(excluded_features_columns)"
   ]
  },
  {
   "cell_type": "code",
   "execution_count": 22,
   "id": "884dea22",
   "metadata": {
    "execution": {
     "iopub.execute_input": "2025-08-05T16:09:54.055184Z",
     "iopub.status.busy": "2025-08-05T16:09:54.054945Z",
     "iopub.status.idle": "2025-08-05T16:09:54.060189Z",
     "shell.execute_reply": "2025-08-05T16:09:54.059264Z"
    },
    "papermill": {
     "duration": 0.019388,
     "end_time": "2025-08-05T16:09:54.062008",
     "exception": false,
     "start_time": "2025-08-05T16:09:54.042620",
     "status": "completed"
    },
    "tags": []
   },
   "outputs": [],
   "source": [
    "if len(excluded_features_columns) > 0:\n",
    "    print(f\"Dropping features: {excluded_features_columns}\")\n",
    "    X_train.drop(excluded_features_columns, axis=1, inplace=True)"
   ]
  },
  {
   "cell_type": "code",
   "execution_count": 23,
   "id": "95ab8b16",
   "metadata": {
    "execution": {
     "iopub.execute_input": "2025-08-05T16:09:54.096491Z",
     "iopub.status.busy": "2025-08-05T16:09:54.095875Z",
     "iopub.status.idle": "2025-08-05T16:09:54.101506Z",
     "shell.execute_reply": "2025-08-05T16:09:54.100603Z"
    },
    "papermill": {
     "duration": 0.023971,
     "end_time": "2025-08-05T16:09:54.103011",
     "exception": false,
     "start_time": "2025-08-05T16:09:54.079040",
     "status": "completed"
    },
    "tags": []
   },
   "outputs": [],
   "source": [
    "if len(excluded_features_columns) > 0:\n",
    "    print(f\"Dropping features: {excluded_features_columns}\")\n",
    "    X_test.drop(excluded_features_columns, axis=1, inplace=True)"
   ]
  },
  {
   "cell_type": "code",
   "execution_count": 24,
   "id": "1853aaf5-fb9f-46cb-a2b5-8ea4ae2237e4",
   "metadata": {
    "execution": {
     "iopub.execute_input": "2025-08-05T16:09:54.138816Z",
     "iopub.status.busy": "2025-08-05T16:09:54.137899Z",
     "iopub.status.idle": "2025-08-05T16:09:54.147047Z",
     "shell.execute_reply": "2025-08-05T16:09:54.146065Z"
    },
    "papermill": {
     "duration": 0.028598,
     "end_time": "2025-08-05T16:09:54.148977",
     "exception": false,
     "start_time": "2025-08-05T16:09:54.120379",
     "status": "completed"
    },
    "tags": []
   },
   "outputs": [],
   "source": [
    "if len(excluded_features_columns) > 0:\n",
    "    print(f\"Dropping features: {excluded_features_columns}\")\n",
    "    X_calib.drop(excluded_features_columns, axis=1, inplace=True)"
   ]
  },
  {
   "cell_type": "code",
   "execution_count": 25,
   "id": "76c4dc6d",
   "metadata": {
    "execution": {
     "iopub.execute_input": "2025-08-05T16:09:54.185527Z",
     "iopub.status.busy": "2025-08-05T16:09:54.184625Z",
     "iopub.status.idle": "2025-08-05T16:09:54.190486Z",
     "shell.execute_reply": "2025-08-05T16:09:54.189442Z"
    },
    "papermill": {
     "duration": 0.025814,
     "end_time": "2025-08-05T16:09:54.192288",
     "exception": false,
     "start_time": "2025-08-05T16:09:54.166474",
     "status": "completed"
    },
    "tags": []
   },
   "outputs": [],
   "source": [
    "# EXCLUDE CERTAIN SUBGROUPS\n",
    "# ----------------------\n",
    "\n",
    "mode = universe.get(\"exclude_subgroups\", \"keep-all\") \n",
    "# Fetches the exclude_subgroups setting from the universe dict.\n",
    "# Defaults to \"keep-all\" if the key is missing."
   ]
  },
  {
   "cell_type": "code",
   "execution_count": 26,
   "id": "21994072",
   "metadata": {
    "execution": {
     "iopub.execute_input": "2025-08-05T16:09:54.232158Z",
     "iopub.status.busy": "2025-08-05T16:09:54.231219Z",
     "iopub.status.idle": "2025-08-05T16:09:54.238738Z",
     "shell.execute_reply": "2025-08-05T16:09:54.237809Z"
    },
    "papermill": {
     "duration": 0.02794,
     "end_time": "2025-08-05T16:09:54.240434",
     "exception": false,
     "start_time": "2025-08-05T16:09:54.212494",
     "status": "completed"
    },
    "tags": []
   },
   "outputs": [],
   "source": [
    "if mode == \"keep-all\":\n",
    "    keep_mask = pd.Series(True, index=org_train.index)\n",
    "\n",
    "# org_train contains the original feature columns from features_org (in Simson)\n",
    "# features_org contains unprocessed features, for me X_train at beginning ???\n",
    "# For keep-all, creates a boolean Series (keep_mask) of all True, so no rows are removed.\n",
    "\n",
    "elif mode == \"drop-non-german\":\n",
    "    keep_mask = org_train[\"maxdeutsch1\"] == 1 # ??? what about missing values?\n",
    "\n",
    "else:\n",
    "    raise ValueError(f\"Unsupported mode for exclude_subgroups: {mode}\")"
   ]
  },
  {
   "cell_type": "code",
   "execution_count": 27,
   "id": "71651440",
   "metadata": {
    "execution": {
     "iopub.execute_input": "2025-08-05T16:09:54.276003Z",
     "iopub.status.busy": "2025-08-05T16:09:54.275470Z",
     "iopub.status.idle": "2025-08-05T16:09:54.284315Z",
     "shell.execute_reply": "2025-08-05T16:09:54.283326Z"
    },
    "papermill": {
     "duration": 0.028006,
     "end_time": "2025-08-05T16:09:54.285936",
     "exception": false,
     "start_time": "2025-08-05T16:09:54.257930",
     "status": "completed"
    },
    "tags": []
   },
   "outputs": [
    {
     "name": "stdout",
     "output_type": "stream",
     "text": [
      "Dropping 147 rows (14.70%) where mode='drop-non-german'\n"
     ]
    }
   ],
   "source": [
    "n_drop = (~keep_mask).sum() # Calculates how many rows are set to be dropped\n",
    "if n_drop > 0:\n",
    "    pct = n_drop / len(keep_mask) * 100\n",
    "    print(f\"Dropping {n_drop} rows ({pct:.2f}%) where mode='{mode}'\")"
   ]
  },
  {
   "cell_type": "code",
   "execution_count": 28,
   "id": "5fb8eee5",
   "metadata": {
    "execution": {
     "iopub.execute_input": "2025-08-05T16:09:54.322851Z",
     "iopub.status.busy": "2025-08-05T16:09:54.321827Z",
     "iopub.status.idle": "2025-08-05T16:09:54.328346Z",
     "shell.execute_reply": "2025-08-05T16:09:54.327371Z"
    },
    "papermill": {
     "duration": 0.02645,
     "end_time": "2025-08-05T16:09:54.330222",
     "exception": false,
     "start_time": "2025-08-05T16:09:54.303772",
     "status": "completed"
    },
    "tags": []
   },
   "outputs": [],
   "source": [
    "X_train = X_train[keep_mask]"
   ]
  },
  {
   "cell_type": "code",
   "execution_count": 29,
   "id": "b202bb3a",
   "metadata": {
    "execution": {
     "iopub.execute_input": "2025-08-05T16:09:54.364996Z",
     "iopub.status.busy": "2025-08-05T16:09:54.364534Z",
     "iopub.status.idle": "2025-08-05T16:09:54.370781Z",
     "shell.execute_reply": "2025-08-05T16:09:54.369813Z"
    },
    "papermill": {
     "duration": 0.024941,
     "end_time": "2025-08-05T16:09:54.372366",
     "exception": false,
     "start_time": "2025-08-05T16:09:54.347425",
     "status": "completed"
    },
    "tags": []
   },
   "outputs": [],
   "source": [
    "y_train = y_train[keep_mask]"
   ]
  },
  {
   "cell_type": "markdown",
   "id": "493e2ac3",
   "metadata": {
    "papermill": {
     "duration": 0.017236,
     "end_time": "2025-08-05T16:09:54.406940",
     "exception": false,
     "start_time": "2025-08-05T16:09:54.389704",
     "status": "completed"
    },
    "tags": []
   },
   "source": [
    "# Model Training"
   ]
  },
  {
   "cell_type": "code",
   "execution_count": 30,
   "id": "679e1268",
   "metadata": {
    "execution": {
     "iopub.execute_input": "2025-08-05T16:09:54.442298Z",
     "iopub.status.busy": "2025-08-05T16:09:54.441774Z",
     "iopub.status.idle": "2025-08-05T16:09:54.544805Z",
     "shell.execute_reply": "2025-08-05T16:09:54.543844Z"
    },
    "papermill": {
     "duration": 0.123373,
     "end_time": "2025-08-05T16:09:54.546772",
     "exception": false,
     "start_time": "2025-08-05T16:09:54.423399",
     "status": "completed"
    },
    "tags": []
   },
   "outputs": [],
   "source": [
    "from sklearn.linear_model import LogisticRegression\n",
    "from sklearn.ensemble import GradientBoostingClassifier, RandomForestClassifier\n",
    "\n",
    "if (universe[\"model\"] == \"logreg\"):\n",
    "    model = LogisticRegression() #penalty=\"none\", solver=\"newton-cg\", max_iter=1) # include random_state=19 ?\n",
    "elif (universe[\"model\"] == \"penalized_logreg\"):\n",
    "    model = LogisticRegression(penalty=\"l2\", C=0.1) #, solver=\"newton-cg\", max_iter=1)\n",
    "elif (universe[\"model\"] == \"rf\"):\n",
    "    model = RandomForestClassifier() # n_estimators=100, n_jobs=-1\n",
    "elif (universe[\"model\"] == \"gbm\"):\n",
    "    model = GradientBoostingClassifier()\n",
    "elif (universe[\"model\"] == \"elasticnet\"):\n",
    "    model = LogisticRegression(penalty = 'elasticnet', solver = 'saga', l1_ratio = 0.5) # max_iter=5000\n",
    "else:\n",
    "    raise \"Unsupported universe.model\""
   ]
  },
  {
   "cell_type": "code",
   "execution_count": 31,
   "id": "0cc8f744",
   "metadata": {
    "execution": {
     "iopub.execute_input": "2025-08-05T16:09:54.583229Z",
     "iopub.status.busy": "2025-08-05T16:09:54.582421Z",
     "iopub.status.idle": "2025-08-05T16:09:54.588546Z",
     "shell.execute_reply": "2025-08-05T16:09:54.587642Z"
    },
    "papermill": {
     "duration": 0.025023,
     "end_time": "2025-08-05T16:09:54.590105",
     "exception": false,
     "start_time": "2025-08-05T16:09:54.565082",
     "status": "completed"
    },
    "tags": []
   },
   "outputs": [],
   "source": [
    "import numpy as np\n",
    "from sklearn.pipeline import Pipeline\n",
    "from sklearn.preprocessing import StandardScaler\n",
    "\n",
    "model = Pipeline([\n",
    "    #(\"continuous_processor\", continuous_processor),\n",
    "    #(\"categorical_preprocessor\", categorical_preprocessor),\n",
    "    (\"scale\", StandardScaler() if universe[\"scale\"] == \"scale\" else None), \n",
    "    (\"model\", model),\n",
    "])"
   ]
  },
  {
   "cell_type": "code",
   "execution_count": 32,
   "id": "9442c04d",
   "metadata": {
    "execution": {
     "iopub.execute_input": "2025-08-05T16:09:54.626329Z",
     "iopub.status.busy": "2025-08-05T16:09:54.625699Z",
     "iopub.status.idle": "2025-08-05T16:09:54.690196Z",
     "shell.execute_reply": "2025-08-05T16:09:54.689274Z"
    },
    "papermill": {
     "duration": 0.084176,
     "end_time": "2025-08-05T16:09:54.692703",
     "exception": false,
     "start_time": "2025-08-05T16:09:54.608527",
     "status": "completed"
    },
    "tags": []
   },
   "outputs": [
    {
     "name": "stderr",
     "output_type": "stream",
     "text": [
      "/dss/dsshome1/0C/ra93lal2/.local/share/virtualenvs/CMA_Fairness_v2-3j10GkSs/lib/python3.10/site-packages/sklearn/linear_model/_logistic.py:444: ConvergenceWarning: lbfgs failed to converge (status=1):\n",
      "STOP: TOTAL NO. of ITERATIONS REACHED LIMIT.\n",
      "\n",
      "Increase the number of iterations (max_iter) or scale the data as shown in:\n",
      "    https://scikit-learn.org/stable/modules/preprocessing.html\n",
      "Please also refer to the documentation for alternative solver options:\n",
      "    https://scikit-learn.org/stable/modules/linear_model.html#logistic-regression\n",
      "  n_iter_i = _check_optimize_result(\n"
     ]
    },
    {
     "data": {
      "text/html": [
       "<style>#sk-container-id-1 {color: black;background-color: white;}#sk-container-id-1 pre{padding: 0;}#sk-container-id-1 div.sk-toggleable {background-color: white;}#sk-container-id-1 label.sk-toggleable__label {cursor: pointer;display: block;width: 100%;margin-bottom: 0;padding: 0.3em;box-sizing: border-box;text-align: center;}#sk-container-id-1 label.sk-toggleable__label-arrow:before {content: \"▸\";float: left;margin-right: 0.25em;color: #696969;}#sk-container-id-1 label.sk-toggleable__label-arrow:hover:before {color: black;}#sk-container-id-1 div.sk-estimator:hover label.sk-toggleable__label-arrow:before {color: black;}#sk-container-id-1 div.sk-toggleable__content {max-height: 0;max-width: 0;overflow: hidden;text-align: left;background-color: #f0f8ff;}#sk-container-id-1 div.sk-toggleable__content pre {margin: 0.2em;color: black;border-radius: 0.25em;background-color: #f0f8ff;}#sk-container-id-1 input.sk-toggleable__control:checked~div.sk-toggleable__content {max-height: 200px;max-width: 100%;overflow: auto;}#sk-container-id-1 input.sk-toggleable__control:checked~label.sk-toggleable__label-arrow:before {content: \"▾\";}#sk-container-id-1 div.sk-estimator input.sk-toggleable__control:checked~label.sk-toggleable__label {background-color: #d4ebff;}#sk-container-id-1 div.sk-label input.sk-toggleable__control:checked~label.sk-toggleable__label {background-color: #d4ebff;}#sk-container-id-1 input.sk-hidden--visually {border: 0;clip: rect(1px 1px 1px 1px);clip: rect(1px, 1px, 1px, 1px);height: 1px;margin: -1px;overflow: hidden;padding: 0;position: absolute;width: 1px;}#sk-container-id-1 div.sk-estimator {font-family: monospace;background-color: #f0f8ff;border: 1px dotted black;border-radius: 0.25em;box-sizing: border-box;margin-bottom: 0.5em;}#sk-container-id-1 div.sk-estimator:hover {background-color: #d4ebff;}#sk-container-id-1 div.sk-parallel-item::after {content: \"\";width: 100%;border-bottom: 1px solid gray;flex-grow: 1;}#sk-container-id-1 div.sk-label:hover label.sk-toggleable__label {background-color: #d4ebff;}#sk-container-id-1 div.sk-serial::before {content: \"\";position: absolute;border-left: 1px solid gray;box-sizing: border-box;top: 0;bottom: 0;left: 50%;z-index: 0;}#sk-container-id-1 div.sk-serial {display: flex;flex-direction: column;align-items: center;background-color: white;padding-right: 0.2em;padding-left: 0.2em;position: relative;}#sk-container-id-1 div.sk-item {position: relative;z-index: 1;}#sk-container-id-1 div.sk-parallel {display: flex;align-items: stretch;justify-content: center;background-color: white;position: relative;}#sk-container-id-1 div.sk-item::before, #sk-container-id-1 div.sk-parallel-item::before {content: \"\";position: absolute;border-left: 1px solid gray;box-sizing: border-box;top: 0;bottom: 0;left: 50%;z-index: -1;}#sk-container-id-1 div.sk-parallel-item {display: flex;flex-direction: column;z-index: 1;position: relative;background-color: white;}#sk-container-id-1 div.sk-parallel-item:first-child::after {align-self: flex-end;width: 50%;}#sk-container-id-1 div.sk-parallel-item:last-child::after {align-self: flex-start;width: 50%;}#sk-container-id-1 div.sk-parallel-item:only-child::after {width: 0;}#sk-container-id-1 div.sk-dashed-wrapped {border: 1px dashed gray;margin: 0 0.4em 0.5em 0.4em;box-sizing: border-box;padding-bottom: 0.4em;background-color: white;}#sk-container-id-1 div.sk-label label {font-family: monospace;font-weight: bold;display: inline-block;line-height: 1.2em;}#sk-container-id-1 div.sk-label-container {text-align: center;}#sk-container-id-1 div.sk-container {/* jupyter's `normalize.less` sets `[hidden] { display: none; }` but bootstrap.min.css set `[hidden] { display: none !important; }` so we also need the `!important` here to be able to override the default hidden behavior on the sphinx rendered scikit-learn.org. See: https://github.com/scikit-learn/scikit-learn/issues/21755 */display: inline-block !important;position: relative;}#sk-container-id-1 div.sk-text-repr-fallback {display: none;}</style><div id=\"sk-container-id-1\" class=\"sk-top-container\"><div class=\"sk-text-repr-fallback\"><pre>Pipeline(steps=[(&#x27;scale&#x27;, None), (&#x27;model&#x27;, LogisticRegression(C=0.1))])</pre><b>In a Jupyter environment, please rerun this cell to show the HTML representation or trust the notebook. <br />On GitHub, the HTML representation is unable to render, please try loading this page with nbviewer.org.</b></div><div class=\"sk-container\" hidden><div class=\"sk-item sk-dashed-wrapped\"><div class=\"sk-label-container\"><div class=\"sk-label sk-toggleable\"><input class=\"sk-toggleable__control sk-hidden--visually\" id=\"sk-estimator-id-1\" type=\"checkbox\" ><label for=\"sk-estimator-id-1\" class=\"sk-toggleable__label sk-toggleable__label-arrow\">Pipeline</label><div class=\"sk-toggleable__content\"><pre>Pipeline(steps=[(&#x27;scale&#x27;, None), (&#x27;model&#x27;, LogisticRegression(C=0.1))])</pre></div></div></div><div class=\"sk-serial\"><div class=\"sk-item\"><div class=\"sk-estimator sk-toggleable\"><input class=\"sk-toggleable__control sk-hidden--visually\" id=\"sk-estimator-id-2\" type=\"checkbox\" ><label for=\"sk-estimator-id-2\" class=\"sk-toggleable__label sk-toggleable__label-arrow\">None</label><div class=\"sk-toggleable__content\"><pre>None</pre></div></div></div><div class=\"sk-item\"><div class=\"sk-estimator sk-toggleable\"><input class=\"sk-toggleable__control sk-hidden--visually\" id=\"sk-estimator-id-3\" type=\"checkbox\" ><label for=\"sk-estimator-id-3\" class=\"sk-toggleable__label sk-toggleable__label-arrow\">LogisticRegression</label><div class=\"sk-toggleable__content\"><pre>LogisticRegression(C=0.1)</pre></div></div></div></div></div></div></div>"
      ],
      "text/plain": [
       "Pipeline(steps=[('scale', None), ('model', LogisticRegression(C=0.1))])"
      ]
     },
     "execution_count": 32,
     "metadata": {},
     "output_type": "execute_result"
    }
   ],
   "source": [
    "model.fit(X_train, y_train.values.ravel())"
   ]
  },
  {
   "cell_type": "code",
   "execution_count": 33,
   "id": "af59f8c0",
   "metadata": {
    "execution": {
     "iopub.execute_input": "2025-08-05T16:09:54.729691Z",
     "iopub.status.busy": "2025-08-05T16:09:54.729002Z",
     "iopub.status.idle": "2025-08-05T16:09:54.734545Z",
     "shell.execute_reply": "2025-08-05T16:09:54.733557Z"
    },
    "papermill": {
     "duration": 0.025443,
     "end_time": "2025-08-05T16:09:54.736134",
     "exception": false,
     "start_time": "2025-08-05T16:09:54.710691",
     "status": "completed"
    },
    "tags": []
   },
   "outputs": [],
   "source": [
    "from fairness_multiverse.universe import predict_w_threshold"
   ]
  },
  {
   "cell_type": "code",
   "execution_count": 34,
   "id": "a7cf2e16",
   "metadata": {
    "execution": {
     "iopub.execute_input": "2025-08-05T16:09:54.772349Z",
     "iopub.status.busy": "2025-08-05T16:09:54.771613Z",
     "iopub.status.idle": "2025-08-05T16:09:54.867055Z",
     "shell.execute_reply": "2025-08-05T16:09:54.866215Z"
    },
    "papermill": {
     "duration": 0.115092,
     "end_time": "2025-08-05T16:09:54.868692",
     "exception": false,
     "start_time": "2025-08-05T16:09:54.753600",
     "status": "completed"
    },
    "tags": []
   },
   "outputs": [
    {
     "data": {
      "text/plain": [
       "0.8458031434622673"
      ]
     },
     "execution_count": 34,
     "metadata": {},
     "output_type": "execute_result"
    }
   ],
   "source": [
    "probs_test = model.predict_proba(X_test)\n",
    "\n",
    "'''\n",
    "Below code returns a boolean array (or binary 0/1 array depending on how it’s used) where each element \n",
    "is True if the probability of class 1 is greater than or equal to the threshold, and False otherwise.\n",
    "'''\n",
    "y_pred_default = predict_w_threshold(probs_test, 0.5)\n",
    "\n",
    "from sklearn.metrics import accuracy_score\n",
    "\n",
    "# Naive prediction\n",
    "accuracy_score(y_true = y_true, y_pred = y_pred_default)"
   ]
  },
  {
   "cell_type": "code",
   "execution_count": 35,
   "id": "081964c3",
   "metadata": {
    "execution": {
     "iopub.execute_input": "2025-08-05T16:09:54.910374Z",
     "iopub.status.busy": "2025-08-05T16:09:54.909604Z",
     "iopub.status.idle": "2025-08-05T16:09:54.991099Z",
     "shell.execute_reply": "2025-08-05T16:09:54.990158Z"
    },
    "papermill": {
     "duration": 0.103366,
     "end_time": "2025-08-05T16:09:54.992678",
     "exception": false,
     "start_time": "2025-08-05T16:09:54.889312",
     "status": "completed"
    },
    "tags": []
   },
   "outputs": [
    {
     "data": {
      "text/plain": [
       "array([0, 0, 0, ..., 0, 0, 0])"
      ]
     },
     "execution_count": 35,
     "metadata": {},
     "output_type": "execute_result"
    }
   ],
   "source": [
    "model.predict(X_test)"
   ]
  },
  {
   "cell_type": "markdown",
   "id": "56c9705b",
   "metadata": {
    "papermill": {
     "duration": 0.020536,
     "end_time": "2025-08-05T16:09:55.031648",
     "exception": false,
     "start_time": "2025-08-05T16:09:55.011112",
     "status": "completed"
    },
    "tags": []
   },
   "source": [
    "# Conformal Prediction"
   ]
  },
  {
   "cell_type": "code",
   "execution_count": 36,
   "id": "160ec6ff",
   "metadata": {
    "execution": {
     "iopub.execute_input": "2025-08-05T16:09:55.075308Z",
     "iopub.status.busy": "2025-08-05T16:09:55.074578Z",
     "iopub.status.idle": "2025-08-05T16:09:55.081101Z",
     "shell.execute_reply": "2025-08-05T16:09:55.079947Z"
    },
    "papermill": {
     "duration": 0.030543,
     "end_time": "2025-08-05T16:09:55.082983",
     "exception": false,
     "start_time": "2025-08-05T16:09:55.052440",
     "status": "completed"
    },
    "tags": []
   },
   "outputs": [],
   "source": [
    "# Miscoverage level for conformal prediction (10% allowed error rate => 90% target coverage)\n",
    "alpha = 0.1"
   ]
  },
  {
   "cell_type": "code",
   "execution_count": 37,
   "id": "eadf4555-3dd3-440e-8e35-f82a4ad9f855",
   "metadata": {
    "execution": {
     "iopub.execute_input": "2025-08-05T16:09:55.125879Z",
     "iopub.status.busy": "2025-08-05T16:09:55.125205Z",
     "iopub.status.idle": "2025-08-05T16:09:55.203138Z",
     "shell.execute_reply": "2025-08-05T16:09:55.202181Z"
    },
    "papermill": {
     "duration": 0.101432,
     "end_time": "2025-08-05T16:09:55.205066",
     "exception": false,
     "start_time": "2025-08-05T16:09:55.103634",
     "status": "completed"
    },
    "tags": []
   },
   "outputs": [],
   "source": [
    "probs_calib = model.predict_proba(X_calib)"
   ]
  },
  {
   "cell_type": "code",
   "execution_count": 38,
   "id": "2ed93547-6d5d-4983-9b36-1ecb300da49a",
   "metadata": {
    "execution": {
     "iopub.execute_input": "2025-08-05T16:09:55.245124Z",
     "iopub.status.busy": "2025-08-05T16:09:55.244341Z",
     "iopub.status.idle": "2025-08-05T16:09:55.249853Z",
     "shell.execute_reply": "2025-08-05T16:09:55.248789Z"
    },
    "papermill": {
     "duration": 0.026839,
     "end_time": "2025-08-05T16:09:55.251507",
     "exception": false,
     "start_time": "2025-08-05T16:09:55.224668",
     "status": "completed"
    },
    "tags": []
   },
   "outputs": [],
   "source": [
    "y_calib = y_calib.values.ravel().astype(int)"
   ]
  },
  {
   "cell_type": "code",
   "execution_count": 39,
   "id": "65d1320d-f588-4b38-9072-62af1ae97f7d",
   "metadata": {
    "execution": {
     "iopub.execute_input": "2025-08-05T16:09:55.289810Z",
     "iopub.status.busy": "2025-08-05T16:09:55.289081Z",
     "iopub.status.idle": "2025-08-05T16:09:55.295905Z",
     "shell.execute_reply": "2025-08-05T16:09:55.294994Z"
    },
    "papermill": {
     "duration": 0.027902,
     "end_time": "2025-08-05T16:09:55.297405",
     "exception": false,
     "start_time": "2025-08-05T16:09:55.269503",
     "status": "completed"
    },
    "tags": []
   },
   "outputs": [],
   "source": [
    "from fairness_multiverse.conformal import compute_nc_scores\n",
    "\n",
    "# Compute nonconformity scores on calibration set (1 - probability of true class)\n",
    "nc_scores = compute_nc_scores(probs_calib, y_calib)"
   ]
  },
  {
   "cell_type": "code",
   "execution_count": 40,
   "id": "df3b8ca3-53b7-43d5-9667-7c85da7aeda2",
   "metadata": {
    "execution": {
     "iopub.execute_input": "2025-08-05T16:09:55.335119Z",
     "iopub.status.busy": "2025-08-05T16:09:55.334278Z",
     "iopub.status.idle": "2025-08-05T16:09:55.339903Z",
     "shell.execute_reply": "2025-08-05T16:09:55.339029Z"
    },
    "papermill": {
     "duration": 0.026373,
     "end_time": "2025-08-05T16:09:55.341572",
     "exception": false,
     "start_time": "2025-08-05T16:09:55.315199",
     "status": "completed"
    },
    "tags": []
   },
   "outputs": [],
   "source": [
    "from fairness_multiverse.conformal import find_threshold\n",
    "\n",
    "# Find conformal threshold q_hat for the given alpha (split conformal method)\n",
    "q_hat = find_threshold(nc_scores, alpha)"
   ]
  },
  {
   "cell_type": "code",
   "execution_count": 41,
   "id": "4d29e6c1-0ef6-4aa4-b8fe-4fe79b0d033a",
   "metadata": {
    "execution": {
     "iopub.execute_input": "2025-08-05T16:09:55.383180Z",
     "iopub.status.busy": "2025-08-05T16:09:55.382322Z",
     "iopub.status.idle": "2025-08-05T16:09:55.388839Z",
     "shell.execute_reply": "2025-08-05T16:09:55.387894Z"
    },
    "papermill": {
     "duration": 0.029046,
     "end_time": "2025-08-05T16:09:55.390520",
     "exception": false,
     "start_time": "2025-08-05T16:09:55.361474",
     "status": "completed"
    },
    "tags": []
   },
   "outputs": [
    {
     "data": {
      "text/plain": [
       "0.6903219624888731"
      ]
     },
     "execution_count": 41,
     "metadata": {},
     "output_type": "execute_result"
    }
   ],
   "source": [
    "q_hat"
   ]
  },
  {
   "cell_type": "code",
   "execution_count": 42,
   "id": "92460794-cdac-4be2-ba28-f28c0515a6fb",
   "metadata": {
    "execution": {
     "iopub.execute_input": "2025-08-05T16:09:55.432572Z",
     "iopub.status.busy": "2025-08-05T16:09:55.431936Z",
     "iopub.status.idle": "2025-08-05T16:09:56.168630Z",
     "shell.execute_reply": "2025-08-05T16:09:56.167675Z"
    },
    "papermill": {
     "duration": 0.759866,
     "end_time": "2025-08-05T16:09:56.170436",
     "exception": false,
     "start_time": "2025-08-05T16:09:55.410570",
     "status": "completed"
    },
    "tags": []
   },
   "outputs": [],
   "source": [
    "from fairness_multiverse.conformal import predict_conformal_sets\n",
    "\n",
    "# Generate prediction sets for each test example\n",
    "pred_sets = predict_conformal_sets(model, X_test, q_hat)"
   ]
  },
  {
   "cell_type": "code",
   "execution_count": 43,
   "id": "d90c9a65-e6db-4f5d-80cd-e68fb7e46829",
   "metadata": {
    "execution": {
     "iopub.execute_input": "2025-08-05T16:09:56.219990Z",
     "iopub.status.busy": "2025-08-05T16:09:56.219111Z",
     "iopub.status.idle": "2025-08-05T16:09:56.225080Z",
     "shell.execute_reply": "2025-08-05T16:09:56.223861Z"
    },
    "papermill": {
     "duration": 0.033388,
     "end_time": "2025-08-05T16:09:56.226930",
     "exception": false,
     "start_time": "2025-08-05T16:09:56.193542",
     "status": "completed"
    },
    "tags": []
   },
   "outputs": [],
   "source": [
    "y_true = y_true.squeeze()"
   ]
  },
  {
   "cell_type": "code",
   "execution_count": 44,
   "id": "3a58a54a-1e68-46b9-927a-df01f18aebc8",
   "metadata": {
    "execution": {
     "iopub.execute_input": "2025-08-05T16:09:56.274834Z",
     "iopub.status.busy": "2025-08-05T16:09:56.274353Z",
     "iopub.status.idle": "2025-08-05T16:09:57.509557Z",
     "shell.execute_reply": "2025-08-05T16:09:57.508486Z"
    },
    "papermill": {
     "duration": 1.259988,
     "end_time": "2025-08-05T16:09:57.511439",
     "exception": false,
     "start_time": "2025-08-05T16:09:56.251451",
     "status": "completed"
    },
    "tags": []
   },
   "outputs": [],
   "source": [
    "from fairness_multiverse.conformal import evaluate_sets\n",
    "\n",
    "# Evaluate coverage and average set size on test data\n",
    "metrics = evaluate_sets(pred_sets, y_true)"
   ]
  },
  {
   "cell_type": "markdown",
   "id": "2b569c12-9aaa-4c88-98c9-bbcd0cf3ebb8",
   "metadata": {
    "papermill": {
     "duration": 0.019454,
     "end_time": "2025-08-05T16:09:57.550692",
     "exception": false,
     "start_time": "2025-08-05T16:09:57.531238",
     "status": "completed"
    },
    "tags": []
   },
   "source": [
    "# CP Metrics"
   ]
  },
  {
   "cell_type": "code",
   "execution_count": 45,
   "id": "5ce0a5cb-201f-45a0-ade5-94c7f0bd6095",
   "metadata": {
    "execution": {
     "iopub.execute_input": "2025-08-05T16:09:57.588948Z",
     "iopub.status.busy": "2025-08-05T16:09:57.588229Z",
     "iopub.status.idle": "2025-08-05T16:09:57.597771Z",
     "shell.execute_reply": "2025-08-05T16:09:57.596536Z"
    },
    "papermill": {
     "duration": 0.030665,
     "end_time": "2025-08-05T16:09:57.599395",
     "exception": false,
     "start_time": "2025-08-05T16:09:57.568730",
     "status": "completed"
    },
    "tags": []
   },
   "outputs": [
    {
     "data": {
      "text/plain": [
       "{'coverage': 0.9087392709842826, 'avg_size': 1.241611860439193}"
      ]
     },
     "execution_count": 45,
     "metadata": {},
     "output_type": "execute_result"
    }
   ],
   "source": [
    "metrics"
   ]
  },
  {
   "cell_type": "code",
   "execution_count": 46,
   "id": "9b9a838d-31c9-430b-ae14-12baee460d17",
   "metadata": {
    "execution": {
     "iopub.execute_input": "2025-08-05T16:09:57.641092Z",
     "iopub.status.busy": "2025-08-05T16:09:57.640408Z",
     "iopub.status.idle": "2025-08-05T16:09:57.648962Z",
     "shell.execute_reply": "2025-08-05T16:09:57.647962Z"
    },
    "papermill": {
     "duration": 0.031883,
     "end_time": "2025-08-05T16:09:57.650815",
     "exception": false,
     "start_time": "2025-08-05T16:09:57.618932",
     "status": "completed"
    },
    "tags": []
   },
   "outputs": [],
   "source": [
    "example_universe = universe.copy()\n",
    "universe_training_year = example_universe.get(\"training_year\")\n",
    "universe_training_size = example_universe.get(\"training_size\")\n",
    "universe_scale = example_universe.get(\"scale\")\n",
    "universe_model = example_universe.get(\"model\")\n",
    "universe_exclude_features = example_universe.get(\"exclude_features\")\n",
    "universe_exclude_subgroups = example_universe.get(\"exclude_subgroups\")"
   ]
  },
  {
   "cell_type": "code",
   "execution_count": 47,
   "id": "f4b6a8ac-9dc0-4245-8a91-5b3b5999c4f9",
   "metadata": {
    "execution": {
     "iopub.execute_input": "2025-08-05T16:09:57.694699Z",
     "iopub.status.busy": "2025-08-05T16:09:57.693753Z",
     "iopub.status.idle": "2025-08-05T16:09:57.702198Z",
     "shell.execute_reply": "2025-08-05T16:09:57.701067Z"
    },
    "papermill": {
     "duration": 0.031586,
     "end_time": "2025-08-05T16:09:57.703986",
     "exception": false,
     "start_time": "2025-08-05T16:09:57.672400",
     "status": "completed"
    },
    "tags": []
   },
   "outputs": [],
   "source": [
    "cp_metrics_dict = {\n",
    "    \"universe_id\": [universe_id],\n",
    "    \"universe_training_year\": [universe_training_year],\n",
    "    \"universe_training_size\": [universe_training_size],\n",
    "    \"universe_scale\": [universe_scale],\n",
    "    \"universe_model\": [universe_model],\n",
    "    \"universe_exclude_features\": [universe_exclude_features],\n",
    "    \"universe_exclude_subgroups\": [universe_exclude_subgroups],\n",
    "    \"q_hat\": [q_hat],\n",
    "    \"coverage\": [metrics[\"coverage\"]],\n",
    "    \"avg_size\": [metrics[\"avg_size\"]],\n",
    "}"
   ]
  },
  {
   "cell_type": "code",
   "execution_count": 48,
   "id": "908acbb1-0371-4915-85ca-3fa520d2efe2",
   "metadata": {
    "execution": {
     "iopub.execute_input": "2025-08-05T16:09:57.744671Z",
     "iopub.status.busy": "2025-08-05T16:09:57.744003Z",
     "iopub.status.idle": "2025-08-05T16:09:57.753772Z",
     "shell.execute_reply": "2025-08-05T16:09:57.752679Z"
    },
    "papermill": {
     "duration": 0.031765,
     "end_time": "2025-08-05T16:09:57.755370",
     "exception": false,
     "start_time": "2025-08-05T16:09:57.723605",
     "status": "completed"
    },
    "tags": []
   },
   "outputs": [
    {
     "data": {
      "text/plain": [
       "{'universe_id': ['9f41d7b0dac0dd2a5a63d3d7e77bb5df'],\n",
       " 'universe_training_year': ['2014'],\n",
       " 'universe_training_size': ['1k'],\n",
       " 'universe_scale': ['do-not-scale'],\n",
       " 'universe_model': ['penalized_logreg'],\n",
       " 'universe_exclude_features': ['none'],\n",
       " 'universe_exclude_subgroups': ['drop-non-german'],\n",
       " 'q_hat': [0.6903219624888731],\n",
       " 'coverage': [0.9087392709842826],\n",
       " 'avg_size': [1.241611860439193]}"
      ]
     },
     "execution_count": 48,
     "metadata": {},
     "output_type": "execute_result"
    }
   ],
   "source": [
    "cp_metrics_dict"
   ]
  },
  {
   "cell_type": "code",
   "execution_count": 49,
   "id": "33007efc-14e9-4ec6-97ac-56a455c82265",
   "metadata": {
    "execution": {
     "iopub.execute_input": "2025-08-05T16:09:57.797042Z",
     "iopub.status.busy": "2025-08-05T16:09:57.796249Z",
     "iopub.status.idle": "2025-08-05T16:09:57.804132Z",
     "shell.execute_reply": "2025-08-05T16:09:57.802997Z"
    },
    "papermill": {
     "duration": 0.02964,
     "end_time": "2025-08-05T16:09:57.805790",
     "exception": false,
     "start_time": "2025-08-05T16:09:57.776150",
     "status": "completed"
    },
    "tags": []
   },
   "outputs": [],
   "source": [
    "cp_metrics_df = pd.DataFrame(cp_metrics_dict)"
   ]
  },
  {
   "cell_type": "code",
   "execution_count": 50,
   "id": "db12611b-57b2-4910-b9d0-355adfd6e7bf",
   "metadata": {
    "execution": {
     "iopub.execute_input": "2025-08-05T16:09:57.846369Z",
     "iopub.status.busy": "2025-08-05T16:09:57.845404Z",
     "iopub.status.idle": "2025-08-05T16:09:57.870094Z",
     "shell.execute_reply": "2025-08-05T16:09:57.869059Z"
    },
    "papermill": {
     "duration": 0.046575,
     "end_time": "2025-08-05T16:09:57.871694",
     "exception": false,
     "start_time": "2025-08-05T16:09:57.825119",
     "status": "completed"
    },
    "tags": []
   },
   "outputs": [
    {
     "data": {
      "text/html": [
       "<div>\n",
       "<style scoped>\n",
       "    .dataframe tbody tr th:only-of-type {\n",
       "        vertical-align: middle;\n",
       "    }\n",
       "\n",
       "    .dataframe tbody tr th {\n",
       "        vertical-align: top;\n",
       "    }\n",
       "\n",
       "    .dataframe thead th {\n",
       "        text-align: right;\n",
       "    }\n",
       "</style>\n",
       "<table border=\"1\" class=\"dataframe\">\n",
       "  <thead>\n",
       "    <tr style=\"text-align: right;\">\n",
       "      <th></th>\n",
       "      <th>universe_id</th>\n",
       "      <th>universe_training_year</th>\n",
       "      <th>universe_training_size</th>\n",
       "      <th>universe_scale</th>\n",
       "      <th>universe_model</th>\n",
       "      <th>universe_exclude_features</th>\n",
       "      <th>universe_exclude_subgroups</th>\n",
       "      <th>q_hat</th>\n",
       "      <th>coverage</th>\n",
       "      <th>avg_size</th>\n",
       "    </tr>\n",
       "  </thead>\n",
       "  <tbody>\n",
       "    <tr>\n",
       "      <th>0</th>\n",
       "      <td>9f41d7b0dac0dd2a5a63d3d7e77bb5df</td>\n",
       "      <td>2014</td>\n",
       "      <td>1k</td>\n",
       "      <td>do-not-scale</td>\n",
       "      <td>penalized_logreg</td>\n",
       "      <td>none</td>\n",
       "      <td>drop-non-german</td>\n",
       "      <td>0.690322</td>\n",
       "      <td>0.908739</td>\n",
       "      <td>1.241612</td>\n",
       "    </tr>\n",
       "  </tbody>\n",
       "</table>\n",
       "</div>"
      ],
      "text/plain": [
       "                        universe_id universe_training_year  \\\n",
       "0  9f41d7b0dac0dd2a5a63d3d7e77bb5df                   2014   \n",
       "\n",
       "  universe_training_size universe_scale    universe_model  \\\n",
       "0                     1k   do-not-scale  penalized_logreg   \n",
       "\n",
       "  universe_exclude_features universe_exclude_subgroups     q_hat  coverage  \\\n",
       "0                      none            drop-non-german  0.690322  0.908739   \n",
       "\n",
       "   avg_size  \n",
       "0  1.241612  "
      ]
     },
     "execution_count": 50,
     "metadata": {},
     "output_type": "execute_result"
    }
   ],
   "source": [
    "cp_metrics_df"
   ]
  },
  {
   "cell_type": "code",
   "execution_count": 51,
   "id": "b7fbde55-a0a1-47e4-9af6-fe4a17fa8c61",
   "metadata": {
    "execution": {
     "iopub.execute_input": "2025-08-05T16:09:57.916954Z",
     "iopub.status.busy": "2025-08-05T16:09:57.915994Z",
     "iopub.status.idle": "2025-08-05T16:09:57.927961Z",
     "shell.execute_reply": "2025-08-05T16:09:57.926857Z"
    },
    "papermill": {
     "duration": 0.03509,
     "end_time": "2025-08-05T16:09:57.929852",
     "exception": false,
     "start_time": "2025-08-05T16:09:57.894762",
     "status": "completed"
    },
    "tags": []
   },
   "outputs": [],
   "source": [
    "# Conditional Coverage & looking at subgroups"
   ]
  },
  {
   "cell_type": "code",
   "execution_count": 52,
   "id": "027ae886-68dd-4141-96c7-805a5450e1ef",
   "metadata": {
    "execution": {
     "iopub.execute_input": "2025-08-05T16:09:57.974609Z",
     "iopub.status.busy": "2025-08-05T16:09:57.973635Z",
     "iopub.status.idle": "2025-08-05T16:09:58.190276Z",
     "shell.execute_reply": "2025-08-05T16:09:58.189373Z"
    },
    "papermill": {
     "duration": 0.239967,
     "end_time": "2025-08-05T16:09:58.192131",
     "exception": false,
     "start_time": "2025-08-05T16:09:57.952164",
     "status": "completed"
    },
    "tags": []
   },
   "outputs": [],
   "source": [
    "from fairness_multiverse.conformal import build_cp_groups\n",
    "\n",
    "cp_groups_df = build_cp_groups(pred_sets, y_true, X_test.index, org_test)\n",
    "#needs universe_id and setting"
   ]
  },
  {
   "cell_type": "code",
   "execution_count": 53,
   "id": "6cbdab96-b2b2-45af-ad54-d0516db2e28d",
   "metadata": {
    "execution": {
     "iopub.execute_input": "2025-08-05T16:09:58.236937Z",
     "iopub.status.busy": "2025-08-05T16:09:58.236039Z",
     "iopub.status.idle": "2025-08-05T16:09:59.796116Z",
     "shell.execute_reply": "2025-08-05T16:09:59.795199Z"
    },
    "papermill": {
     "duration": 1.585096,
     "end_time": "2025-08-05T16:09:59.797881",
     "exception": false,
     "start_time": "2025-08-05T16:09:58.212785",
     "status": "completed"
    },
    "tags": []
   },
   "outputs": [],
   "source": [
    "# Define covered = 1 if true_label is in the predicted set\n",
    "cp_groups_df['covered'] = cp_groups_df.apply(\n",
    "    lambda r: int(r['true_label'] in r['pred_set']),\n",
    "    axis=1\n",
    ")"
   ]
  },
  {
   "cell_type": "code",
   "execution_count": 54,
   "id": "338ff529-1a6b-4b87-a931-8e4788d52aad",
   "metadata": {
    "execution": {
     "iopub.execute_input": "2025-08-05T16:09:59.838157Z",
     "iopub.status.busy": "2025-08-05T16:09:59.837746Z",
     "iopub.status.idle": "2025-08-05T16:09:59.842292Z",
     "shell.execute_reply": "2025-08-05T16:09:59.841310Z"
    },
    "papermill": {
     "duration": 0.026243,
     "end_time": "2025-08-05T16:09:59.844017",
     "exception": false,
     "start_time": "2025-08-05T16:09:59.817774",
     "status": "completed"
    },
    "tags": []
   },
   "outputs": [],
   "source": [
    "#cp_groups_df"
   ]
  },
  {
   "cell_type": "code",
   "execution_count": 55,
   "id": "90032e27-66df-4540-9169-4e89cfbaa758",
   "metadata": {
    "execution": {
     "iopub.execute_input": "2025-08-05T16:09:59.885630Z",
     "iopub.status.busy": "2025-08-05T16:09:59.884926Z",
     "iopub.status.idle": "2025-08-05T16:09:59.894459Z",
     "shell.execute_reply": "2025-08-05T16:09:59.893642Z"
    },
    "papermill": {
     "duration": 0.031976,
     "end_time": "2025-08-05T16:09:59.896276",
     "exception": false,
     "start_time": "2025-08-05T16:09:59.864300",
     "status": "completed"
    },
    "tags": []
   },
   "outputs": [],
   "source": [
    "subgroups = ['frau1','nongerman','nongerman_male','nongerman_female']\n",
    "\n",
    "# Conditional coverage for subgroup==1\n",
    "cond_coverage = {\n",
    "    g: cp_groups_df.loc[cp_groups_df[g]==1, 'covered'].mean()\n",
    "    for g in subgroups\n",
    "}"
   ]
  },
  {
   "cell_type": "code",
   "execution_count": 56,
   "id": "1e348fb1-b9c3-45bc-ba23-f016827a7e0d",
   "metadata": {
    "execution": {
     "iopub.execute_input": "2025-08-05T16:09:59.953494Z",
     "iopub.status.busy": "2025-08-05T16:09:59.952777Z",
     "iopub.status.idle": "2025-08-05T16:09:59.959128Z",
     "shell.execute_reply": "2025-08-05T16:09:59.958342Z"
    },
    "papermill": {
     "duration": 0.03992,
     "end_time": "2025-08-05T16:09:59.960506",
     "exception": false,
     "start_time": "2025-08-05T16:09:59.920586",
     "status": "completed"
    },
    "tags": []
   },
   "outputs": [
    {
     "data": {
      "text/plain": [
       "{'frau1': 0.9089904299770859,\n",
       " 'nongerman': 0.938808735193398,\n",
       " 'nongerman_male': 0.9492929838782311,\n",
       " 'nongerman_female': 0.9214605067064083}"
      ]
     },
     "execution_count": 56,
     "metadata": {},
     "output_type": "execute_result"
    }
   ],
   "source": [
    "cond_coverage"
   ]
  },
  {
   "cell_type": "code",
   "execution_count": 57,
   "id": "f5093324-c3dd-4d63-bc4c-8d945e5c8bbb",
   "metadata": {
    "execution": {
     "iopub.execute_input": "2025-08-05T16:10:00.003147Z",
     "iopub.status.busy": "2025-08-05T16:10:00.002530Z",
     "iopub.status.idle": "2025-08-05T16:10:00.009661Z",
     "shell.execute_reply": "2025-08-05T16:10:00.008720Z"
    },
    "papermill": {
     "duration": 0.031339,
     "end_time": "2025-08-05T16:10:00.011504",
     "exception": false,
     "start_time": "2025-08-05T16:09:59.980165",
     "status": "completed"
    },
    "tags": []
   },
   "outputs": [],
   "source": [
    "for subgroup, cov in cond_coverage.items():\n",
    "    cp_metrics_df[f\"cov_{subgroup}\"] = cov"
   ]
  },
  {
   "cell_type": "code",
   "execution_count": 58,
   "id": "6e872e10-dbe5-49e8-b554-5030c98ff75d",
   "metadata": {
    "execution": {
     "iopub.execute_input": "2025-08-05T16:10:00.063102Z",
     "iopub.status.busy": "2025-08-05T16:10:00.062376Z",
     "iopub.status.idle": "2025-08-05T16:10:00.082279Z",
     "shell.execute_reply": "2025-08-05T16:10:00.081003Z"
    },
    "papermill": {
     "duration": 0.047659,
     "end_time": "2025-08-05T16:10:00.084053",
     "exception": false,
     "start_time": "2025-08-05T16:10:00.036394",
     "status": "completed"
    },
    "tags": []
   },
   "outputs": [
    {
     "data": {
      "text/html": [
       "<div>\n",
       "<style scoped>\n",
       "    .dataframe tbody tr th:only-of-type {\n",
       "        vertical-align: middle;\n",
       "    }\n",
       "\n",
       "    .dataframe tbody tr th {\n",
       "        vertical-align: top;\n",
       "    }\n",
       "\n",
       "    .dataframe thead th {\n",
       "        text-align: right;\n",
       "    }\n",
       "</style>\n",
       "<table border=\"1\" class=\"dataframe\">\n",
       "  <thead>\n",
       "    <tr style=\"text-align: right;\">\n",
       "      <th></th>\n",
       "      <th>universe_id</th>\n",
       "      <th>universe_training_year</th>\n",
       "      <th>universe_training_size</th>\n",
       "      <th>universe_scale</th>\n",
       "      <th>universe_model</th>\n",
       "      <th>universe_exclude_features</th>\n",
       "      <th>universe_exclude_subgroups</th>\n",
       "      <th>q_hat</th>\n",
       "      <th>coverage</th>\n",
       "      <th>avg_size</th>\n",
       "      <th>cov_frau1</th>\n",
       "      <th>cov_nongerman</th>\n",
       "      <th>cov_nongerman_male</th>\n",
       "      <th>cov_nongerman_female</th>\n",
       "    </tr>\n",
       "  </thead>\n",
       "  <tbody>\n",
       "    <tr>\n",
       "      <th>0</th>\n",
       "      <td>9f41d7b0dac0dd2a5a63d3d7e77bb5df</td>\n",
       "      <td>2014</td>\n",
       "      <td>1k</td>\n",
       "      <td>do-not-scale</td>\n",
       "      <td>penalized_logreg</td>\n",
       "      <td>none</td>\n",
       "      <td>drop-non-german</td>\n",
       "      <td>0.690322</td>\n",
       "      <td>0.908739</td>\n",
       "      <td>1.241612</td>\n",
       "      <td>0.90899</td>\n",
       "      <td>0.938809</td>\n",
       "      <td>0.949293</td>\n",
       "      <td>0.921461</td>\n",
       "    </tr>\n",
       "  </tbody>\n",
       "</table>\n",
       "</div>"
      ],
      "text/plain": [
       "                        universe_id universe_training_year  \\\n",
       "0  9f41d7b0dac0dd2a5a63d3d7e77bb5df                   2014   \n",
       "\n",
       "  universe_training_size universe_scale    universe_model  \\\n",
       "0                     1k   do-not-scale  penalized_logreg   \n",
       "\n",
       "  universe_exclude_features universe_exclude_subgroups     q_hat  coverage  \\\n",
       "0                      none            drop-non-german  0.690322  0.908739   \n",
       "\n",
       "   avg_size  cov_frau1  cov_nongerman  cov_nongerman_male  \\\n",
       "0  1.241612    0.90899       0.938809            0.949293   \n",
       "\n",
       "   cov_nongerman_female  \n",
       "0              0.921461  "
      ]
     },
     "execution_count": 58,
     "metadata": {},
     "output_type": "execute_result"
    }
   ],
   "source": [
    "cp_metrics_df"
   ]
  },
  {
   "cell_type": "markdown",
   "id": "33774451",
   "metadata": {
    "papermill": {
     "duration": 0.025726,
     "end_time": "2025-08-05T16:10:00.136103",
     "exception": false,
     "start_time": "2025-08-05T16:10:00.110377",
     "status": "completed"
    },
    "tags": []
   },
   "source": [
    "# (Fairness) Metrics"
   ]
  },
  {
   "cell_type": "code",
   "execution_count": 59,
   "id": "debc5d62",
   "metadata": {
    "execution": {
     "iopub.execute_input": "2025-08-05T16:10:00.190302Z",
     "iopub.status.busy": "2025-08-05T16:10:00.189818Z",
     "iopub.status.idle": "2025-08-05T16:10:00.210750Z",
     "shell.execute_reply": "2025-08-05T16:10:00.209639Z"
    },
    "papermill": {
     "duration": 0.049674,
     "end_time": "2025-08-05T16:10:00.212385",
     "exception": false,
     "start_time": "2025-08-05T16:10:00.162711",
     "status": "completed"
    },
    "tags": []
   },
   "outputs": [],
   "source": [
    "# do I need to include maxdeutsch1.missing?\n",
    "\n",
    "import numpy as np\n",
    "\n",
    "colname_to_bin = \"maxdeutsch1\"\n",
    "majority_value = org_train[colname_to_bin].mode()[0]\n",
    "\n",
    "org_test[\"majmin\"] = np.where(org_test[colname_to_bin] == majority_value, \"majority\", \"minority\")"
   ]
  },
  {
   "cell_type": "code",
   "execution_count": 60,
   "id": "06a50de5",
   "metadata": {
    "execution": {
     "iopub.execute_input": "2025-08-05T16:10:00.239562Z",
     "iopub.status.busy": "2025-08-05T16:10:00.238807Z",
     "iopub.status.idle": "2025-08-05T16:10:02.736439Z",
     "shell.execute_reply": "2025-08-05T16:10:02.735270Z"
    },
    "papermill": {
     "duration": 2.512903,
     "end_time": "2025-08-05T16:10:02.738692",
     "exception": false,
     "start_time": "2025-08-05T16:10:00.225789",
     "status": "completed"
    },
    "tags": []
   },
   "outputs": [],
   "source": [
    "example_universe = universe.copy()\n",
    "example_universe[\"cutoff\"] = example_universe[\"cutoff\"][0]\n",
    "example_universe[\"eval_fairness_grouping\"] = example_universe[\"eval_fairness_grouping\"][0]\n",
    "fairness_dict, metric_frame = universe_analysis.compute_metrics(\n",
    "    example_universe,\n",
    "    y_pred_prob=probs_test,\n",
    "    y_test=y_true,\n",
    "    org_test=org_test,\n",
    ")"
   ]
  },
  {
   "cell_type": "markdown",
   "id": "f95d4e02",
   "metadata": {
    "papermill": {
     "duration": 0.011014,
     "end_time": "2025-08-05T16:10:02.774361",
     "exception": false,
     "start_time": "2025-08-05T16:10:02.763347",
     "status": "completed"
    },
    "tags": []
   },
   "source": [
    "# Overall"
   ]
  },
  {
   "cell_type": "markdown",
   "id": "bdee4871",
   "metadata": {
    "papermill": {
     "duration": 0.011098,
     "end_time": "2025-08-05T16:10:02.803010",
     "exception": false,
     "start_time": "2025-08-05T16:10:02.791912",
     "status": "completed"
    },
    "tags": []
   },
   "source": [
    "Fairness\n",
    "Main fairness target: Equalized Odds. Seems to be a better fit than equal opportunity, since we're not only interested in Y = 1. Seems to be a better fit than demographic parity, since we also care about accuracy, not just equal distribution of preds.\n",
    "\n",
    "Pick column for computation of fairness metrics\n",
    "\n",
    "Performance\n",
    "Overall performance measures, most interesting in relation to the measures split by group below"
   ]
  },
  {
   "cell_type": "code",
   "execution_count": 61,
   "id": "c4e067c6",
   "metadata": {
    "execution": {
     "iopub.execute_input": "2025-08-05T16:10:02.828781Z",
     "iopub.status.busy": "2025-08-05T16:10:02.828434Z",
     "iopub.status.idle": "2025-08-05T16:10:02.835742Z",
     "shell.execute_reply": "2025-08-05T16:10:02.834934Z"
    },
    "papermill": {
     "duration": 0.021752,
     "end_time": "2025-08-05T16:10:02.836942",
     "exception": false,
     "start_time": "2025-08-05T16:10:02.815190",
     "status": "completed"
    },
    "tags": []
   },
   "outputs": [
    {
     "data": {
      "text/plain": [
       "accuracy                   0.216955\n",
       "balanced accuracy          0.532038\n",
       "f1                         0.238490\n",
       "precision                  0.136241\n",
       "false positive rate        0.891780\n",
       "false negative rate        0.044143\n",
       "selection rate             0.900000\n",
       "count                  89710.000000\n",
       "dtype: float64"
      ]
     },
     "execution_count": 61,
     "metadata": {},
     "output_type": "execute_result"
    }
   ],
   "source": [
    "metric_frame.overall"
   ]
  },
  {
   "cell_type": "markdown",
   "id": "e968fe9d",
   "metadata": {
    "papermill": {
     "duration": 0.012469,
     "end_time": "2025-08-05T16:10:02.860800",
     "exception": false,
     "start_time": "2025-08-05T16:10:02.848331",
     "status": "completed"
    },
    "tags": []
   },
   "source": [
    "By Group"
   ]
  },
  {
   "cell_type": "code",
   "execution_count": 62,
   "id": "ec325bce",
   "metadata": {
    "execution": {
     "iopub.execute_input": "2025-08-05T16:10:02.909237Z",
     "iopub.status.busy": "2025-08-05T16:10:02.908777Z",
     "iopub.status.idle": "2025-08-05T16:10:02.929583Z",
     "shell.execute_reply": "2025-08-05T16:10:02.923943Z"
    },
    "papermill": {
     "duration": 0.0486,
     "end_time": "2025-08-05T16:10:02.931851",
     "exception": false,
     "start_time": "2025-08-05T16:10:02.883251",
     "status": "completed"
    },
    "tags": []
   },
   "outputs": [
    {
     "data": {
      "text/html": [
       "<div>\n",
       "<style scoped>\n",
       "    .dataframe tbody tr th:only-of-type {\n",
       "        vertical-align: middle;\n",
       "    }\n",
       "\n",
       "    .dataframe tbody tr th {\n",
       "        vertical-align: top;\n",
       "    }\n",
       "\n",
       "    .dataframe thead th {\n",
       "        text-align: right;\n",
       "    }\n",
       "</style>\n",
       "<table border=\"1\" class=\"dataframe\">\n",
       "  <thead>\n",
       "    <tr style=\"text-align: right;\">\n",
       "      <th></th>\n",
       "      <th>accuracy</th>\n",
       "      <th>balanced accuracy</th>\n",
       "      <th>f1</th>\n",
       "      <th>precision</th>\n",
       "      <th>false positive rate</th>\n",
       "      <th>false negative rate</th>\n",
       "      <th>selection rate</th>\n",
       "      <th>count</th>\n",
       "    </tr>\n",
       "    <tr>\n",
       "      <th>majmin</th>\n",
       "      <th></th>\n",
       "      <th></th>\n",
       "      <th></th>\n",
       "      <th></th>\n",
       "      <th></th>\n",
       "      <th></th>\n",
       "      <th></th>\n",
       "      <th></th>\n",
       "    </tr>\n",
       "  </thead>\n",
       "  <tbody>\n",
       "    <tr>\n",
       "      <th>majority</th>\n",
       "      <td>0.237430</td>\n",
       "      <td>0.539514</td>\n",
       "      <td>0.247707</td>\n",
       "      <td>0.142419</td>\n",
       "      <td>0.871081</td>\n",
       "      <td>0.049891</td>\n",
       "      <td>0.881524</td>\n",
       "      <td>69170.0</td>\n",
       "    </tr>\n",
       "    <tr>\n",
       "      <th>minority</th>\n",
       "      <td>0.148004</td>\n",
       "      <td>0.508941</td>\n",
       "      <td>0.209290</td>\n",
       "      <td>0.117183</td>\n",
       "      <td>0.960158</td>\n",
       "      <td>0.021959</td>\n",
       "      <td>0.962220</td>\n",
       "      <td>20540.0</td>\n",
       "    </tr>\n",
       "  </tbody>\n",
       "</table>\n",
       "</div>"
      ],
      "text/plain": [
       "          accuracy  balanced accuracy        f1  precision  \\\n",
       "majmin                                                       \n",
       "majority  0.237430           0.539514  0.247707   0.142419   \n",
       "minority  0.148004           0.508941  0.209290   0.117183   \n",
       "\n",
       "          false positive rate  false negative rate  selection rate    count  \n",
       "majmin                                                                       \n",
       "majority             0.871081             0.049891        0.881524  69170.0  \n",
       "minority             0.960158             0.021959        0.962220  20540.0  "
      ]
     },
     "execution_count": 62,
     "metadata": {},
     "output_type": "execute_result"
    }
   ],
   "source": [
    "metric_frame.by_group"
   ]
  },
  {
   "cell_type": "code",
   "execution_count": 63,
   "id": "a9ddbe63",
   "metadata": {
    "execution": {
     "iopub.execute_input": "2025-08-05T16:10:02.985974Z",
     "iopub.status.busy": "2025-08-05T16:10:02.985502Z",
     "iopub.status.idle": "2025-08-05T16:10:05.490873Z",
     "shell.execute_reply": "2025-08-05T16:10:05.489911Z"
    },
    "papermill": {
     "duration": 2.530942,
     "end_time": "2025-08-05T16:10:05.492627",
     "exception": false,
     "start_time": "2025-08-05T16:10:02.961685",
     "status": "completed"
    },
    "tags": []
   },
   "outputs": [
    {
     "data": {
      "text/plain": [
       "array([[<Axes: title={'center': 'accuracy'}, xlabel='majmin'>,\n",
       "        <Axes: title={'center': 'balanced accuracy'}, xlabel='majmin'>,\n",
       "        <Axes: title={'center': 'f1'}, xlabel='majmin'>],\n",
       "       [<Axes: title={'center': 'precision'}, xlabel='majmin'>,\n",
       "        <Axes: title={'center': 'false positive rate'}, xlabel='majmin'>,\n",
       "        <Axes: title={'center': 'false negative rate'}, xlabel='majmin'>],\n",
       "       [<Axes: title={'center': 'selection rate'}, xlabel='majmin'>,\n",
       "        <Axes: title={'center': 'count'}, xlabel='majmin'>,\n",
       "        <Axes: xlabel='majmin'>]], dtype=object)"
      ]
     },
     "execution_count": 63,
     "metadata": {},
     "output_type": "execute_result"
    },
    {
     "data": {
      "image/png": "[encoded data removed]",
      "text/plain": [
       "<Figure size 1200x800 with 9 Axes>"
      ]
     },
     "metadata": {},
     "output_type": "display_data"
    }
   ],
   "source": [
    "# In a graphic\n",
    "metric_frame.by_group.plot.bar(\n",
    "    subplots=True,\n",
    "    layout=[3, 3],\n",
    "    legend=False,\n",
    "    figsize=[12, 8],\n",
    "    title=\"Show all metrics\",\n",
    ")"
   ]
  },
  {
   "cell_type": "markdown",
   "id": "f57a0bac",
   "metadata": {
    "papermill": {
     "duration": 0.021421,
     "end_time": "2025-08-05T16:10:05.536335",
     "exception": false,
     "start_time": "2025-08-05T16:10:05.514914",
     "status": "completed"
    },
    "tags": []
   },
   "source": [
    "# Final Output"
   ]
  },
  {
   "cell_type": "code",
   "execution_count": 64,
   "id": "96d280a3",
   "metadata": {
    "execution": {
     "iopub.execute_input": "2025-08-05T16:10:05.581738Z",
     "iopub.status.busy": "2025-08-05T16:10:05.580718Z",
     "iopub.status.idle": "2025-08-05T16:10:05.588275Z",
     "shell.execute_reply": "2025-08-05T16:10:05.587403Z"
    },
    "papermill": {
     "duration": 0.031803,
     "end_time": "2025-08-05T16:10:05.589738",
     "exception": false,
     "start_time": "2025-08-05T16:10:05.557935",
     "status": "completed"
    },
    "tags": []
   },
   "outputs": [
    {
     "data": {
      "text/plain": [
       "4"
      ]
     },
     "execution_count": 64,
     "metadata": {},
     "output_type": "execute_result"
    }
   ],
   "source": [
    "sub_universes = universe_analysis.generate_sub_universes()\n",
    "len(sub_universes)"
   ]
  },
  {
   "cell_type": "code",
   "execution_count": 65,
   "id": "92adf7ba",
   "metadata": {
    "execution": {
     "iopub.execute_input": "2025-08-05T16:10:05.638584Z",
     "iopub.status.busy": "2025-08-05T16:10:05.637876Z",
     "iopub.status.idle": "2025-08-05T16:10:05.644109Z",
     "shell.execute_reply": "2025-08-05T16:10:05.643141Z"
    },
    "papermill": {
     "duration": 0.034051,
     "end_time": "2025-08-05T16:10:05.645902",
     "exception": false,
     "start_time": "2025-08-05T16:10:05.611851",
     "status": "completed"
    },
    "tags": []
   },
   "outputs": [],
   "source": [
    "def filter_sub_universe_data(sub_universe, org_test):\n",
    "    # Keep all rows — no filtering\n",
    "    keep_rows_mask = np.ones(org_test.shape[0], dtype=bool)\n",
    "\n",
    "    print(f\"[INFO] Keeping all rows: {keep_rows_mask.sum()} rows retained.\")\n",
    "    return keep_rows_mask"
   ]
  },
  {
   "cell_type": "code",
   "execution_count": 66,
   "id": "4a759155",
   "metadata": {
    "execution": {
     "iopub.execute_input": "2025-08-05T16:10:05.692133Z",
     "iopub.status.busy": "2025-08-05T16:10:05.691640Z",
     "iopub.status.idle": "2025-08-05T16:10:14.995978Z",
     "shell.execute_reply": "2025-08-05T16:10:14.994984Z"
    },
    "papermill": {
     "duration": 9.328342,
     "end_time": "2025-08-05T16:10:14.997307",
     "exception": false,
     "start_time": "2025-08-05T16:10:05.668965",
     "status": "completed"
    },
    "tags": []
   },
   "outputs": [
    {
     "name": "stdout",
     "output_type": "stream",
     "text": [
      "Stopping execution_time clock.\n",
      "[INFO] Keeping all rows: 89710 rows retained.\n"
     ]
    },
    {
     "name": "stdout",
     "output_type": "stream",
     "text": [
      "[INFO] Keeping all rows: 89710 rows retained.\n"
     ]
    },
    {
     "name": "stdout",
     "output_type": "stream",
     "text": [
      "[INFO] Keeping all rows: 89710 rows retained.\n"
     ]
    },
    {
     "name": "stdout",
     "output_type": "stream",
     "text": [
      "[INFO] Keeping all rows: 89710 rows retained.\n"
     ]
    },
    {
     "data": {
      "text/html": [
       "<div>\n",
       "<style scoped>\n",
       "    .dataframe tbody tr th:only-of-type {\n",
       "        vertical-align: middle;\n",
       "    }\n",
       "\n",
       "    .dataframe tbody tr th {\n",
       "        vertical-align: top;\n",
       "    }\n",
       "\n",
       "    .dataframe thead th {\n",
       "        text-align: right;\n",
       "    }\n",
       "</style>\n",
       "<table border=\"1\" class=\"dataframe\">\n",
       "  <thead>\n",
       "    <tr style=\"text-align: right;\">\n",
       "      <th></th>\n",
       "      <th>run_no</th>\n",
       "      <th>universe_id</th>\n",
       "      <th>universe_settings</th>\n",
       "      <th>execution_time</th>\n",
       "      <th>test_size_n</th>\n",
       "      <th>test_size_frac</th>\n",
       "      <th>fair_main_equalized_odds_difference</th>\n",
       "      <th>fair_main_equalized_odds_ratio</th>\n",
       "      <th>fair_main_demographic_parity_difference</th>\n",
       "      <th>fair_main_demographic_parity_ratio</th>\n",
       "      <th>...</th>\n",
       "      <th>perf_grp_precision_0</th>\n",
       "      <th>perf_grp_precision_1</th>\n",
       "      <th>perf_grp_false positive rate_0</th>\n",
       "      <th>perf_grp_false positive rate_1</th>\n",
       "      <th>perf_grp_false negative rate_0</th>\n",
       "      <th>perf_grp_false negative rate_1</th>\n",
       "      <th>perf_grp_selection rate_0</th>\n",
       "      <th>perf_grp_selection rate_1</th>\n",
       "      <th>perf_grp_count_0</th>\n",
       "      <th>perf_grp_count_1</th>\n",
       "    </tr>\n",
       "  </thead>\n",
       "  <tbody>\n",
       "    <tr>\n",
       "      <th>0</th>\n",
       "      <td>15</td>\n",
       "      <td>9f41d7b0dac0dd2a5a63d3d7e77bb5df</td>\n",
       "      <td>{\"cutoff\": \"quantile_0.1\", \"eval_fairness_grou...</td>\n",
       "      <td>24.734984</td>\n",
       "      <td>89710</td>\n",
       "      <td>1.0</td>\n",
       "      <td>0.089077</td>\n",
       "      <td>0.907226</td>\n",
       "      <td>0.080696</td>\n",
       "      <td>0.916135</td>\n",
       "      <td>...</td>\n",
       "      <td>NaN</td>\n",
       "      <td>NaN</td>\n",
       "      <td>NaN</td>\n",
       "      <td>NaN</td>\n",
       "      <td>NaN</td>\n",
       "      <td>NaN</td>\n",
       "      <td>NaN</td>\n",
       "      <td>NaN</td>\n",
       "      <td>NaN</td>\n",
       "      <td>NaN</td>\n",
       "    </tr>\n",
       "    <tr>\n",
       "      <th>0</th>\n",
       "      <td>15</td>\n",
       "      <td>9f41d7b0dac0dd2a5a63d3d7e77bb5df</td>\n",
       "      <td>{\"cutoff\": \"quantile_0.1\", \"eval_fairness_grou...</td>\n",
       "      <td>24.734984</td>\n",
       "      <td>89710</td>\n",
       "      <td>1.0</td>\n",
       "      <td>0.089077</td>\n",
       "      <td>0.907226</td>\n",
       "      <td>0.080696</td>\n",
       "      <td>0.916135</td>\n",
       "      <td>...</td>\n",
       "      <td>0.117183</td>\n",
       "      <td>0.142419</td>\n",
       "      <td>0.960158</td>\n",
       "      <td>0.871081</td>\n",
       "      <td>0.021959</td>\n",
       "      <td>0.049891</td>\n",
       "      <td>0.962220</td>\n",
       "      <td>0.881524</td>\n",
       "      <td>20540.0</td>\n",
       "      <td>69170.0</td>\n",
       "    </tr>\n",
       "    <tr>\n",
       "      <th>0</th>\n",
       "      <td>15</td>\n",
       "      <td>9f41d7b0dac0dd2a5a63d3d7e77bb5df</td>\n",
       "      <td>{\"cutoff\": \"quantile_0.25\", \"eval_fairness_gro...</td>\n",
       "      <td>24.734984</td>\n",
       "      <td>89710</td>\n",
       "      <td>1.0</td>\n",
       "      <td>0.207152</td>\n",
       "      <td>0.767618</td>\n",
       "      <td>0.189435</td>\n",
       "      <td>0.788590</td>\n",
       "      <td>...</td>\n",
       "      <td>NaN</td>\n",
       "      <td>NaN</td>\n",
       "      <td>NaN</td>\n",
       "      <td>NaN</td>\n",
       "      <td>NaN</td>\n",
       "      <td>NaN</td>\n",
       "      <td>NaN</td>\n",
       "      <td>NaN</td>\n",
       "      <td>NaN</td>\n",
       "      <td>NaN</td>\n",
       "    </tr>\n",
       "    <tr>\n",
       "      <th>0</th>\n",
       "      <td>15</td>\n",
       "      <td>9f41d7b0dac0dd2a5a63d3d7e77bb5df</td>\n",
       "      <td>{\"cutoff\": \"quantile_0.25\", \"eval_fairness_gro...</td>\n",
       "      <td>24.734984</td>\n",
       "      <td>89710</td>\n",
       "      <td>1.0</td>\n",
       "      <td>0.207152</td>\n",
       "      <td>0.767618</td>\n",
       "      <td>0.189435</td>\n",
       "      <td>0.788590</td>\n",
       "      <td>...</td>\n",
       "      <td>0.119859</td>\n",
       "      <td>0.159584</td>\n",
       "      <td>0.891426</td>\n",
       "      <td>0.684275</td>\n",
       "      <td>0.068412</td>\n",
       "      <td>0.146608</td>\n",
       "      <td>0.896056</td>\n",
       "      <td>0.706621</td>\n",
       "      <td>20540.0</td>\n",
       "      <td>69170.0</td>\n",
       "    </tr>\n",
       "  </tbody>\n",
       "</table>\n",
       "<p>4 rows × 50 columns</p>\n",
       "</div>"
      ],
      "text/plain": [
       "  run_no                       universe_id  \\\n",
       "0     15  9f41d7b0dac0dd2a5a63d3d7e77bb5df   \n",
       "0     15  9f41d7b0dac0dd2a5a63d3d7e77bb5df   \n",
       "0     15  9f41d7b0dac0dd2a5a63d3d7e77bb5df   \n",
       "0     15  9f41d7b0dac0dd2a5a63d3d7e77bb5df   \n",
       "\n",
       "                                   universe_settings  execution_time  \\\n",
       "0  {\"cutoff\": \"quantile_0.1\", \"eval_fairness_grou...       24.734984   \n",
       "0  {\"cutoff\": \"quantile_0.1\", \"eval_fairness_grou...       24.734984   \n",
       "0  {\"cutoff\": \"quantile_0.25\", \"eval_fairness_gro...       24.734984   \n",
       "0  {\"cutoff\": \"quantile_0.25\", \"eval_fairness_gro...       24.734984   \n",
       "\n",
       "   test_size_n  test_size_frac  fair_main_equalized_odds_difference  \\\n",
       "0        89710             1.0                             0.089077   \n",
       "0        89710             1.0                             0.089077   \n",
       "0        89710             1.0                             0.207152   \n",
       "0        89710             1.0                             0.207152   \n",
       "\n",
       "   fair_main_equalized_odds_ratio  fair_main_demographic_parity_difference  \\\n",
       "0                        0.907226                                 0.080696   \n",
       "0                        0.907226                                 0.080696   \n",
       "0                        0.767618                                 0.189435   \n",
       "0                        0.767618                                 0.189435   \n",
       "\n",
       "   fair_main_demographic_parity_ratio  ...  perf_grp_precision_0  \\\n",
       "0                            0.916135  ...                   NaN   \n",
       "0                            0.916135  ...              0.117183   \n",
       "0                            0.788590  ...                   NaN   \n",
       "0                            0.788590  ...              0.119859   \n",
       "\n",
       "   perf_grp_precision_1  perf_grp_false positive rate_0  \\\n",
       "0                   NaN                             NaN   \n",
       "0              0.142419                        0.960158   \n",
       "0                   NaN                             NaN   \n",
       "0              0.159584                        0.891426   \n",
       "\n",
       "   perf_grp_false positive rate_1  perf_grp_false negative rate_0  \\\n",
       "0                             NaN                             NaN   \n",
       "0                        0.871081                        0.021959   \n",
       "0                             NaN                             NaN   \n",
       "0                        0.684275                        0.068412   \n",
       "\n",
       "   perf_grp_false negative rate_1  perf_grp_selection rate_0  \\\n",
       "0                             NaN                        NaN   \n",
       "0                        0.049891                   0.962220   \n",
       "0                             NaN                        NaN   \n",
       "0                        0.146608                   0.896056   \n",
       "\n",
       "   perf_grp_selection rate_1  perf_grp_count_0  perf_grp_count_1  \n",
       "0                        NaN               NaN               NaN  \n",
       "0                   0.881524           20540.0           69170.0  \n",
       "0                        NaN               NaN               NaN  \n",
       "0                   0.706621           20540.0           69170.0  \n",
       "\n",
       "[4 rows x 50 columns]"
      ]
     },
     "execution_count": 66,
     "metadata": {},
     "output_type": "execute_result"
    }
   ],
   "source": [
    "final_output = universe_analysis.generate_final_output(\n",
    "    y_pred_prob=probs_test,\n",
    "    y_test=y_true,\n",
    "    org_test=org_test,\n",
    "    filter_data=filter_sub_universe_data,\n",
    "    cp_metrics_df=cp_metrics_df,\n",
    "    save=True,\n",
    ")\n",
    "final_output"
   ]
  }
 ],
 "metadata": {
  "celltoolbar": "Tags",
  "kernelspec": {
   "display_name": "Python (CMA Fairness)",
   "language": "python",
   "name": "cma_fair_env"
  },
  "language_info": {
   "codemirror_mode": {
    "name": "ipython",
    "version": 3
   },
   "file_extension": ".py",
   "mimetype": "text/x-python",
   "name": "python",
   "nbconvert_exporter": "python",
   "pygments_lexer": "ipython3",
   "version": "3.10.12"
  },
  "papermill": {
   "default_parameters": {},
   "duration": 37.920822,
   "end_time": "2025-08-05T16:10:15.733551",
   "environment_variables": {},
   "exception": null,
   "input_path": "universe_analysis.ipynb",
   "output_path": "output/runs/15/notebooks/m_15-9f41d7b0dac0dd2a5a63d3d7e77bb5df.ipynb",
   "parameters": {
    "output_dir": "output",
    "run_no": "15",
    "seed": "2023",
    "universe": "{\"cutoff\": [\"quantile_0.1\", \"quantile_0.25\"], \"eval_fairness_grouping\": [\"majority-minority\", \"nationality-all\"], \"exclude_features\": \"none\", \"exclude_subgroups\": \"drop-non-german\", \"model\": \"penalized_logreg\", \"scale\": \"do-not-scale\", \"training_size\": \"1k\", \"training_year\": \"2014\"}",
    "universe_id": "9f41d7b0dac0dd2a5a63d3d7e77bb5df"
   },
   "start_time": "2025-08-05T16:09:37.812729",
   "version": "2.6.0"
  }
 },
 "nbformat": 4,
 "nbformat_minor": 5
}