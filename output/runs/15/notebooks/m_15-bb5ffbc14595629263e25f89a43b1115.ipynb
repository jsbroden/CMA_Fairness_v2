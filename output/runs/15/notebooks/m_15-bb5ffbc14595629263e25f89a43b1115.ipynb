{
 "cells": [
  {
   "cell_type": "code",
   "execution_count": 1,
   "id": "f159f837-637b-42ba-96b5-ec9a68c44524",
   "metadata": {
    "execution": {
     "iopub.execute_input": "2025-08-05T16:04:48.827527Z",
     "iopub.status.busy": "2025-08-05T16:04:48.827015Z",
     "iopub.status.idle": "2025-08-05T16:04:48.841321Z",
     "shell.execute_reply": "2025-08-05T16:04:48.840245Z"
    },
    "papermill": {
     "duration": 0.033031,
     "end_time": "2025-08-05T16:04:48.843563",
     "exception": false,
     "start_time": "2025-08-05T16:04:48.810532",
     "status": "completed"
    },
    "tags": []
   },
   "outputs": [
    {
     "name": "stdout",
     "output_type": "stream",
     "text": [
      "/dss/dsshome1/0C/ra93lal2/cma/CMA_Fairness_v2\n"
     ]
    },
    {
     "name": "stderr",
     "output_type": "stream",
     "text": [
      "/dss/dsshome1/0C/ra93lal2/.local/share/virtualenvs/CMA_Fairness_v2-3j10GkSs/lib/python3.10/site-packages/IPython/core/magics/osm.py:393: UserWarning: This is now an optional IPython functionality, using bookmarks requires you to install the `pickleshare` library.\n",
      "  bkms = self.shell.db.get('bookmarks', {})\n",
      "/dss/dsshome1/0C/ra93lal2/.local/share/virtualenvs/CMA_Fairness_v2-3j10GkSs/lib/python3.10/site-packages/IPython/core/magics/osm.py:417: UserWarning: This is now an optional IPython functionality, setting dhist requires you to install the `pickleshare` library.\n",
      "  self.shell.db['dhist'] = compress_dhist(dhist)[-100:]\n"
     ]
    }
   ],
   "source": [
    "%cd ~/cma/CMA_Fairness_v2"
   ]
  },
  {
   "cell_type": "markdown",
   "id": "de2603b9",
   "metadata": {
    "papermill": {
     "duration": 0.018204,
     "end_time": "2025-08-05T16:04:48.924325",
     "exception": false,
     "start_time": "2025-08-05T16:04:48.906121",
     "status": "completed"
    },
    "tags": []
   },
   "source": [
    "The following cell holds the definition of our parameters, these values can be overriden by rendering the with e.g. the following command:\n",
    "\n",
    "papermill -p alpha 0.2 -p ratio 0.3 universe_analysis.ipynb output/test_run.ipynb"
   ]
  },
  {
   "cell_type": "code",
   "execution_count": 2,
   "id": "a80968a0-40bb-4fa9-85ef-2d5eefb01975",
   "metadata": {
    "execution": {
     "iopub.execute_input": "2025-08-05T16:04:48.961144Z",
     "iopub.status.busy": "2025-08-05T16:04:48.960196Z",
     "iopub.status.idle": "2025-08-05T16:04:48.967351Z",
     "shell.execute_reply": "2025-08-05T16:04:48.966196Z"
    },
    "papermill": {
     "duration": 0.027489,
     "end_time": "2025-08-05T16:04:48.969221",
     "exception": false,
     "start_time": "2025-08-05T16:04:48.941732",
     "status": "completed"
    },
    "tags": []
   },
   "outputs": [
    {
     "name": "stdout",
     "output_type": "stream",
     "text": [
      "Current working directory: /dss/dsshome1/0C/ra93lal2/cma/CMA_Fairness_v2\n"
     ]
    }
   ],
   "source": [
    "import os\n",
    "print(\"Current working directory:\", os.getcwd())"
   ]
  },
  {
   "cell_type": "code",
   "execution_count": 3,
   "id": "2dce4c03",
   "metadata": {
    "execution": {
     "iopub.execute_input": "2025-08-05T16:04:49.004695Z",
     "iopub.status.busy": "2025-08-05T16:04:49.003862Z",
     "iopub.status.idle": "2025-08-05T16:04:49.010414Z",
     "shell.execute_reply": "2025-08-05T16:04:49.009390Z"
    },
    "papermill": {
     "duration": 0.025812,
     "end_time": "2025-08-05T16:04:49.012184",
     "exception": false,
     "start_time": "2025-08-05T16:04:48.986372",
     "status": "completed"
    },
    "tags": [
     "parameters"
    ]
   },
   "outputs": [],
   "source": [
    "run_no = 0\n",
    "universe_id = \"test\"\n",
    "universe = {\n",
    "    \"training_size\": \"25k\", # \"25k\", \"5k\", \"1k\"\n",
    "    \"training_year\": \"2014\", # \"2014\", \"2012_14\", \"2010_14\"\n",
    "    \"scale\": \"scale\", # \"scale\", \"do-not-scale\",\n",
    "    \"model\": \"elasticnet\", # \"logreg\", \"penalized_logreg\", \"rf\", \"gbm\", \"elasticnet\"\n",
    "    \"cutoff\": [\"quantile_0.15\", \"quantile_0.30\"],\n",
    "    \"exclude_features\": \"age\", # \"none\", \"nationality\", \"sex\", \"nationality-sex\", \"age\"\n",
    "    \"exclude_subgroups\": \"keep-all\", # \"keep-all\", \"drop-non-german\"\n",
    "    \"eval_fairness_grouping\": [\"majority-minority\", \"nationality-all\"]\n",
    "}\n",
    "\n",
    "output_dir=\"./output\"\n",
    "seed=0"
   ]
  },
  {
   "cell_type": "code",
   "execution_count": 4,
   "id": "a0fcda26",
   "metadata": {
    "execution": {
     "iopub.execute_input": "2025-08-05T16:04:49.050820Z",
     "iopub.status.busy": "2025-08-05T16:04:49.050325Z",
     "iopub.status.idle": "2025-08-05T16:04:49.057054Z",
     "shell.execute_reply": "2025-08-05T16:04:49.056062Z"
    },
    "papermill": {
     "duration": 0.028021,
     "end_time": "2025-08-05T16:04:49.059094",
     "exception": false,
     "start_time": "2025-08-05T16:04:49.031073",
     "status": "completed"
    },
    "tags": [
     "injected-parameters"
    ]
   },
   "outputs": [],
   "source": [
    "# Parameters\n",
    "universe_id = \"bb5ffbc14595629263e25f89a43b1115\"\n",
    "run_no = \"15\"\n",
    "universe = \"{\\\"cutoff\\\": [\\\"quantile_0.1\\\", \\\"quantile_0.25\\\"], \\\"eval_fairness_grouping\\\": [\\\"majority-minority\\\", \\\"nationality-all\\\"], \\\"exclude_features\\\": \\\"sex\\\", \\\"exclude_subgroups\\\": \\\"keep-all\\\", \\\"model\\\": \\\"rf\\\", \\\"scale\\\": \\\"scale\\\", \\\"training_size\\\": \\\"1k\\\", \\\"training_year\\\": \\\"2014\\\"}\"\n",
    "output_dir = \"output\"\n",
    "seed = \"2023\"\n"
   ]
  },
  {
   "cell_type": "code",
   "execution_count": 5,
   "id": "1650acaf",
   "metadata": {
    "execution": {
     "iopub.execute_input": "2025-08-05T16:04:49.096476Z",
     "iopub.status.busy": "2025-08-05T16:04:49.095793Z",
     "iopub.status.idle": "2025-08-05T16:04:49.100766Z",
     "shell.execute_reply": "2025-08-05T16:04:49.099773Z"
    },
    "papermill": {
     "duration": 0.025976,
     "end_time": "2025-08-05T16:04:49.102869",
     "exception": false,
     "start_time": "2025-08-05T16:04:49.076893",
     "status": "completed"
    },
    "tags": []
   },
   "outputs": [],
   "source": [
    "import json\n",
    "if isinstance(universe, str):\n",
    "    universe = json.loads(universe)"
   ]
  },
  {
   "cell_type": "code",
   "execution_count": 6,
   "id": "16620c48",
   "metadata": {
    "execution": {
     "iopub.execute_input": "2025-08-05T16:04:49.140822Z",
     "iopub.status.busy": "2025-08-05T16:04:49.140427Z",
     "iopub.status.idle": "2025-08-05T16:04:49.185688Z",
     "shell.execute_reply": "2025-08-05T16:04:49.184788Z"
    },
    "papermill": {
     "duration": 0.066853,
     "end_time": "2025-08-05T16:04:49.188911",
     "exception": false,
     "start_time": "2025-08-05T16:04:49.122058",
     "status": "completed"
    },
    "tags": []
   },
   "outputs": [],
   "source": [
    "# Auto-reload the custom package\n",
    "%load_ext autoreload\n",
    "%autoreload 1\n",
    "%aimport fairness_multiverse"
   ]
  },
  {
   "cell_type": "code",
   "execution_count": 7,
   "id": "01c5c9f3",
   "metadata": {
    "execution": {
     "iopub.execute_input": "2025-08-05T16:04:49.227816Z",
     "iopub.status.busy": "2025-08-05T16:04:49.227321Z",
     "iopub.status.idle": "2025-08-05T16:04:50.728188Z",
     "shell.execute_reply": "2025-08-05T16:04:50.727288Z"
    },
    "papermill": {
     "duration": 1.521143,
     "end_time": "2025-08-05T16:04:50.729860",
     "exception": false,
     "start_time": "2025-08-05T16:04:49.208717",
     "status": "completed"
    },
    "tags": []
   },
   "outputs": [],
   "source": [
    "from fairness_multiverse.universe import UniverseAnalysis\n",
    "\n",
    "universe_analysis = UniverseAnalysis(\n",
    "    run_no = run_no,\n",
    "    universe_id = universe_id,\n",
    "    universe = universe,\n",
    "    output_dir=output_dir,\n",
    ")"
   ]
  },
  {
   "cell_type": "code",
   "execution_count": 8,
   "id": "106241f5",
   "metadata": {
    "execution": {
     "iopub.execute_input": "2025-08-05T16:04:50.750470Z",
     "iopub.status.busy": "2025-08-05T16:04:50.750201Z",
     "iopub.status.idle": "2025-08-05T16:04:50.756236Z",
     "shell.execute_reply": "2025-08-05T16:04:50.755321Z"
    },
    "papermill": {
     "duration": 0.018013,
     "end_time": "2025-08-05T16:04:50.757888",
     "exception": false,
     "start_time": "2025-08-05T16:04:50.739875",
     "status": "completed"
    },
    "tags": []
   },
   "outputs": [
    {
     "name": "stdout",
     "output_type": "stream",
     "text": [
      "Using Seed: 2023\n"
     ]
    }
   ],
   "source": [
    "import numpy as np\n",
    "parsed_seed = int(seed)\n",
    "np.random.seed(parsed_seed)\n",
    "print(f\"Using Seed: {parsed_seed}\")"
   ]
  },
  {
   "cell_type": "markdown",
   "id": "e0ebdc57",
   "metadata": {
    "papermill": {
     "duration": 0.009363,
     "end_time": "2025-08-05T16:04:50.778265",
     "exception": false,
     "start_time": "2025-08-05T16:04:50.768902",
     "status": "completed"
    },
    "tags": []
   },
   "source": [
    "# Loading Data"
   ]
  },
  {
   "cell_type": "code",
   "execution_count": 9,
   "id": "f0496b8a",
   "metadata": {
    "execution": {
     "iopub.execute_input": "2025-08-05T16:04:50.798849Z",
     "iopub.status.busy": "2025-08-05T16:04:50.798035Z",
     "iopub.status.idle": "2025-08-05T16:05:02.676757Z",
     "shell.execute_reply": "2025-08-05T16:05:02.675570Z"
    },
    "papermill": {
     "duration": 11.8907,
     "end_time": "2025-08-05T16:05:02.678336",
     "exception": false,
     "start_time": "2025-08-05T16:04:50.787636",
     "status": "completed"
    },
    "tags": []
   },
   "outputs": [
    {
     "name": "stdout",
     "output_type": "stream",
     "text": [
      "Loading SIAB data from cache: data/siab_cached.csv.gz\n"
     ]
    },
    {
     "name": "stdout",
     "output_type": "stream",
     "text": [
      "(643690, 164)\n"
     ]
    }
   ],
   "source": [
    "from pathlib import Path\n",
    "import pandas as pd\n",
    "\n",
    "# File paths\n",
    "raw_file = Path(\"data/raw/siab.csv\")\n",
    "cache_file = Path(\"data/siab_cached.csv.gz\")\n",
    "\n",
    "# Ensure cache directory exists\n",
    "cache_file.parent.mkdir(parents=True, exist_ok=True)\n",
    "\n",
    "# Load with simple caching\n",
    "if cache_file.exists():\n",
    "    print(f\"Loading SIAB data from cache: {cache_file}\")\n",
    "    siab = pd.read_csv(cache_file, compression='gzip')\n",
    "else:\n",
    "    print(f\"Cache not found. Reading raw SIAB data: {raw_file}\")\n",
    "    siab = pd.read_csv(raw_file)\n",
    "    siab.to_csv(cache_file, index=False, compression='gzip')\n",
    "    print(f\"Cached SIAB data to: {cache_file}\")\n",
    "\n",
    "print(siab.shape)"
   ]
  },
  {
   "cell_type": "code",
   "execution_count": 10,
   "id": "db0ca512-5f53-4dba-abdb-a2888bca41ba",
   "metadata": {
    "execution": {
     "iopub.execute_input": "2025-08-05T16:05:02.717623Z",
     "iopub.status.busy": "2025-08-05T16:05:02.717057Z",
     "iopub.status.idle": "2025-08-05T16:05:02.723774Z",
     "shell.execute_reply": "2025-08-05T16:05:02.722696Z"
    },
    "papermill": {
     "duration": 0.028318,
     "end_time": "2025-08-05T16:05:02.725742",
     "exception": false,
     "start_time": "2025-08-05T16:05:02.697424",
     "status": "completed"
    },
    "tags": []
   },
   "outputs": [],
   "source": [
    "#siab"
   ]
  },
  {
   "cell_type": "markdown",
   "id": "997051c5-15bd-4b69-9786-c3001a3ce484",
   "metadata": {
    "papermill": {
     "duration": 0.017917,
     "end_time": "2025-08-05T16:05:02.761640",
     "exception": false,
     "start_time": "2025-08-05T16:05:02.743723",
     "status": "completed"
    },
    "tags": []
   },
   "source": [
    "# Splitting Data and Setting Training Data Size"
   ]
  },
  {
   "cell_type": "code",
   "execution_count": 11,
   "id": "aea9c6ef-6f46-42c8-85eb-5a62025c1508",
   "metadata": {
    "execution": {
     "iopub.execute_input": "2025-08-05T16:05:02.797870Z",
     "iopub.status.busy": "2025-08-05T16:05:02.796690Z",
     "iopub.status.idle": "2025-08-05T16:05:03.124346Z",
     "shell.execute_reply": "2025-08-05T16:05:03.123452Z"
    },
    "papermill": {
     "duration": 0.348316,
     "end_time": "2025-08-05T16:05:03.126254",
     "exception": false,
     "start_time": "2025-08-05T16:05:02.777938",
     "status": "completed"
    },
    "tags": []
   },
   "outputs": [],
   "source": [
    "from fairness_multiverse.universe import sample_by_year_size\n",
    "\n",
    "siab_train = sample_by_year_size(siab,\n",
    "                               training_year=universe[\"training_year\"],\n",
    "                               training_size=universe[\"training_size\"])"
   ]
  },
  {
   "cell_type": "code",
   "execution_count": 12,
   "id": "8d3afb32-789d-442c-8d5d-9f5aa8dd2eed",
   "metadata": {
    "execution": {
     "iopub.execute_input": "2025-08-05T16:05:03.163126Z",
     "iopub.status.busy": "2025-08-05T16:05:03.162405Z",
     "iopub.status.idle": "2025-08-05T16:05:03.167883Z",
     "shell.execute_reply": "2025-08-05T16:05:03.166748Z"
    },
    "papermill": {
     "duration": 0.025869,
     "end_time": "2025-08-05T16:05:03.169953",
     "exception": false,
     "start_time": "2025-08-05T16:05:03.144084",
     "status": "completed"
    },
    "tags": []
   },
   "outputs": [],
   "source": [
    "#siab_train.shape"
   ]
  },
  {
   "cell_type": "code",
   "execution_count": 13,
   "id": "d582db68-1a4c-47fb-84fc-08518dc1975a",
   "metadata": {
    "execution": {
     "iopub.execute_input": "2025-08-05T16:05:03.208680Z",
     "iopub.status.busy": "2025-08-05T16:05:03.207815Z",
     "iopub.status.idle": "2025-08-05T16:05:03.213099Z",
     "shell.execute_reply": "2025-08-05T16:05:03.212009Z"
    },
    "papermill": {
     "duration": 0.02531,
     "end_time": "2025-08-05T16:05:03.214982",
     "exception": false,
     "start_time": "2025-08-05T16:05:03.189672",
     "status": "completed"
    },
    "tags": []
   },
   "outputs": [],
   "source": [
    "#display(siab_train.groupby(\"year\").size())"
   ]
  },
  {
   "cell_type": "code",
   "execution_count": 14,
   "id": "a561edb4-d032-42cb-8256-22eac1111c64",
   "metadata": {
    "execution": {
     "iopub.execute_input": "2025-08-05T16:05:03.250145Z",
     "iopub.status.busy": "2025-08-05T16:05:03.249272Z",
     "iopub.status.idle": "2025-08-05T16:05:03.492958Z",
     "shell.execute_reply": "2025-08-05T16:05:03.492033Z"
    },
    "papermill": {
     "duration": 0.262619,
     "end_time": "2025-08-05T16:05:03.494899",
     "exception": false,
     "start_time": "2025-08-05T16:05:03.232280",
     "status": "completed"
    },
    "tags": []
   },
   "outputs": [],
   "source": [
    "#siab_train = siab_s[siab_s.year < 2015]\n",
    "siab_calib = siab[siab.year == 2015]\n",
    "siab_test = siab[siab.year == 2016]"
   ]
  },
  {
   "cell_type": "code",
   "execution_count": 15,
   "id": "472de16f-c3db-4916-846b-1f0de9cf1746",
   "metadata": {
    "execution": {
     "iopub.execute_input": "2025-08-05T16:05:03.531418Z",
     "iopub.status.busy": "2025-08-05T16:05:03.530674Z",
     "iopub.status.idle": "2025-08-05T16:05:03.537881Z",
     "shell.execute_reply": "2025-08-05T16:05:03.536796Z"
    },
    "papermill": {
     "duration": 0.026814,
     "end_time": "2025-08-05T16:05:03.539827",
     "exception": false,
     "start_time": "2025-08-05T16:05:03.513013",
     "status": "completed"
    },
    "tags": []
   },
   "outputs": [],
   "source": [
    "X_train = siab_train.iloc[:,4:164]\n",
    "y_train = siab_train.iloc[:, [3]]"
   ]
  },
  {
   "cell_type": "code",
   "execution_count": 16,
   "id": "828c96af-f43a-4ed6-ba47-8ac73a47d56c",
   "metadata": {
    "execution": {
     "iopub.execute_input": "2025-08-05T16:05:03.578153Z",
     "iopub.status.busy": "2025-08-05T16:05:03.577265Z",
     "iopub.status.idle": "2025-08-05T16:05:03.629589Z",
     "shell.execute_reply": "2025-08-05T16:05:03.628484Z"
    },
    "papermill": {
     "duration": 0.073318,
     "end_time": "2025-08-05T16:05:03.631651",
     "exception": false,
     "start_time": "2025-08-05T16:05:03.558333",
     "status": "completed"
    },
    "tags": []
   },
   "outputs": [],
   "source": [
    "X_calib = siab_calib.iloc[:,4:164]\n",
    "y_calib = siab_calib.iloc[:, [3]]"
   ]
  },
  {
   "cell_type": "code",
   "execution_count": 17,
   "id": "c34be9c3-6bd6-476e-acd3-845840e303be",
   "metadata": {
    "execution": {
     "iopub.execute_input": "2025-08-05T16:05:03.670075Z",
     "iopub.status.busy": "2025-08-05T16:05:03.669354Z",
     "iopub.status.idle": "2025-08-05T16:05:03.720614Z",
     "shell.execute_reply": "2025-08-05T16:05:03.719517Z"
    },
    "papermill": {
     "duration": 0.072292,
     "end_time": "2025-08-05T16:05:03.722643",
     "exception": false,
     "start_time": "2025-08-05T16:05:03.650351",
     "status": "completed"
    },
    "tags": []
   },
   "outputs": [],
   "source": [
    "X_test = siab_test.iloc[:,4:164]\n",
    "y_true = siab_test.iloc[:, [3]]"
   ]
  },
  {
   "cell_type": "code",
   "execution_count": 18,
   "id": "e6c733c5",
   "metadata": {
    "execution": {
     "iopub.execute_input": "2025-08-05T16:05:03.762413Z",
     "iopub.status.busy": "2025-08-05T16:05:03.761431Z",
     "iopub.status.idle": "2025-08-05T16:05:03.861319Z",
     "shell.execute_reply": "2025-08-05T16:05:03.860247Z"
    },
    "papermill": {
     "duration": 0.12111,
     "end_time": "2025-08-05T16:05:03.863147",
     "exception": false,
     "start_time": "2025-08-05T16:05:03.742037",
     "status": "completed"
    },
    "tags": []
   },
   "outputs": [],
   "source": [
    "# Auxiliary data needed downstream in the pipeline\n",
    "\n",
    "org_train = X_train.copy()\n",
    "org_test = X_test.copy()\n",
    "org_calib = X_calib.copy()"
   ]
  },
  {
   "cell_type": "markdown",
   "id": "0a4a1b33",
   "metadata": {
    "papermill": {
     "duration": 0.01655,
     "end_time": "2025-08-05T16:05:03.896457",
     "exception": false,
     "start_time": "2025-08-05T16:05:03.879907",
     "status": "completed"
    },
    "tags": []
   },
   "source": [
    "# Preprocessing Data"
   ]
  },
  {
   "cell_type": "code",
   "execution_count": 19,
   "id": "ca879031",
   "metadata": {
    "execution": {
     "iopub.execute_input": "2025-08-05T16:05:03.933028Z",
     "iopub.status.busy": "2025-08-05T16:05:03.932145Z",
     "iopub.status.idle": "2025-08-05T16:05:03.938574Z",
     "shell.execute_reply": "2025-08-05T16:05:03.937427Z"
    },
    "papermill": {
     "duration": 0.026771,
     "end_time": "2025-08-05T16:05:03.940231",
     "exception": false,
     "start_time": "2025-08-05T16:05:03.913460",
     "status": "completed"
    },
    "tags": []
   },
   "outputs": [],
   "source": [
    "# EXCLUDE PROTECTED FEATURES\n",
    "# ----------------------\n",
    "# \"exclude_features\": \"none\", # \"nationality\", \"sex\", \"nationality-sex\"\n",
    "\n",
    "excluded_features = universe[\"exclude_features\"].split(\"-\") # split, e.g.: \"nationality-sex\" -> [\"nationality\", \"sex\"]\n",
    "excluded_features_dictionary = {\n",
    "    \"nationality\": [\"maxdeutsch1\", \"maxdeutsch.Missing.\"],\n",
    "    \"sex\": [\"frau1\"],\n",
    "    \"age\": [\"age\"],\n",
    "}"
   ]
  },
  {
   "cell_type": "code",
   "execution_count": 20,
   "id": "b745ac60",
   "metadata": {
    "execution": {
     "iopub.execute_input": "2025-08-05T16:05:03.975687Z",
     "iopub.status.busy": "2025-08-05T16:05:03.974646Z",
     "iopub.status.idle": "2025-08-05T16:05:03.980850Z",
     "shell.execute_reply": "2025-08-05T16:05:03.979911Z"
    },
    "papermill": {
     "duration": 0.025727,
     "end_time": "2025-08-05T16:05:03.982940",
     "exception": false,
     "start_time": "2025-08-05T16:05:03.957213",
     "status": "completed"
    },
    "tags": []
   },
   "outputs": [],
   "source": [
    "# Code nice names to column names\n",
    "\n",
    "excluded_features_columns = [\n",
    "    excluded_features_dictionary[f] for f in excluded_features if len(f) > 0 and f != \"none\"\n",
    "]"
   ]
  },
  {
   "cell_type": "code",
   "execution_count": 21,
   "id": "f84f73a2",
   "metadata": {
    "execution": {
     "iopub.execute_input": "2025-08-05T16:05:04.021702Z",
     "iopub.status.busy": "2025-08-05T16:05:04.021025Z",
     "iopub.status.idle": "2025-08-05T16:05:04.027557Z",
     "shell.execute_reply": "2025-08-05T16:05:04.026733Z"
    },
    "papermill": {
     "duration": 0.02696,
     "end_time": "2025-08-05T16:05:04.029235",
     "exception": false,
     "start_time": "2025-08-05T16:05:04.002275",
     "status": "completed"
    },
    "tags": []
   },
   "outputs": [],
   "source": [
    "from utils import flatten_once\n",
    "\n",
    "excluded_features_columns = flatten_once(excluded_features_columns)"
   ]
  },
  {
   "cell_type": "code",
   "execution_count": 22,
   "id": "884dea22",
   "metadata": {
    "execution": {
     "iopub.execute_input": "2025-08-05T16:05:04.068183Z",
     "iopub.status.busy": "2025-08-05T16:05:04.067331Z",
     "iopub.status.idle": "2025-08-05T16:05:04.077460Z",
     "shell.execute_reply": "2025-08-05T16:05:04.076524Z"
    },
    "papermill": {
     "duration": 0.031348,
     "end_time": "2025-08-05T16:05:04.079244",
     "exception": false,
     "start_time": "2025-08-05T16:05:04.047896",
     "status": "completed"
    },
    "tags": []
   },
   "outputs": [
    {
     "name": "stdout",
     "output_type": "stream",
     "text": [
      "Dropping features: ['frau1']\n"
     ]
    }
   ],
   "source": [
    "if len(excluded_features_columns) > 0:\n",
    "    print(f\"Dropping features: {excluded_features_columns}\")\n",
    "    X_train.drop(excluded_features_columns, axis=1, inplace=True)"
   ]
  },
  {
   "cell_type": "code",
   "execution_count": 23,
   "id": "95ab8b16",
   "metadata": {
    "execution": {
     "iopub.execute_input": "2025-08-05T16:05:04.118776Z",
     "iopub.status.busy": "2025-08-05T16:05:04.118075Z",
     "iopub.status.idle": "2025-08-05T16:05:04.184026Z",
     "shell.execute_reply": "2025-08-05T16:05:04.182836Z"
    },
    "papermill": {
     "duration": 0.088592,
     "end_time": "2025-08-05T16:05:04.187039",
     "exception": false,
     "start_time": "2025-08-05T16:05:04.098447",
     "status": "completed"
    },
    "tags": []
   },
   "outputs": [
    {
     "name": "stdout",
     "output_type": "stream",
     "text": [
      "Dropping features: ['frau1']\n"
     ]
    }
   ],
   "source": [
    "if len(excluded_features_columns) > 0:\n",
    "    print(f\"Dropping features: {excluded_features_columns}\")\n",
    "    X_test.drop(excluded_features_columns, axis=1, inplace=True)"
   ]
  },
  {
   "cell_type": "code",
   "execution_count": 24,
   "id": "1853aaf5-fb9f-46cb-a2b5-8ea4ae2237e4",
   "metadata": {
    "execution": {
     "iopub.execute_input": "2025-08-05T16:05:04.227119Z",
     "iopub.status.busy": "2025-08-05T16:05:04.226284Z",
     "iopub.status.idle": "2025-08-05T16:05:04.277938Z",
     "shell.execute_reply": "2025-08-05T16:05:04.276473Z"
    },
    "papermill": {
     "duration": 0.073498,
     "end_time": "2025-08-05T16:05:04.279852",
     "exception": false,
     "start_time": "2025-08-05T16:05:04.206354",
     "status": "completed"
    },
    "tags": []
   },
   "outputs": [
    {
     "name": "stdout",
     "output_type": "stream",
     "text": [
      "Dropping features: ['frau1']\n"
     ]
    }
   ],
   "source": [
    "if len(excluded_features_columns) > 0:\n",
    "    print(f\"Dropping features: {excluded_features_columns}\")\n",
    "    X_calib.drop(excluded_features_columns, axis=1, inplace=True)"
   ]
  },
  {
   "cell_type": "code",
   "execution_count": 25,
   "id": "76c4dc6d",
   "metadata": {
    "execution": {
     "iopub.execute_input": "2025-08-05T16:05:04.317469Z",
     "iopub.status.busy": "2025-08-05T16:05:04.316805Z",
     "iopub.status.idle": "2025-08-05T16:05:04.322625Z",
     "shell.execute_reply": "2025-08-05T16:05:04.321468Z"
    },
    "papermill": {
     "duration": 0.026021,
     "end_time": "2025-08-05T16:05:04.324427",
     "exception": false,
     "start_time": "2025-08-05T16:05:04.298406",
     "status": "completed"
    },
    "tags": []
   },
   "outputs": [],
   "source": [
    "# EXCLUDE CERTAIN SUBGROUPS\n",
    "# ----------------------\n",
    "\n",
    "mode = universe.get(\"exclude_subgroups\", \"keep-all\") \n",
    "# Fetches the exclude_subgroups setting from the universe dict.\n",
    "# Defaults to \"keep-all\" if the key is missing."
   ]
  },
  {
   "cell_type": "code",
   "execution_count": 26,
   "id": "21994072",
   "metadata": {
    "execution": {
     "iopub.execute_input": "2025-08-05T16:05:04.362822Z",
     "iopub.status.busy": "2025-08-05T16:05:04.361875Z",
     "iopub.status.idle": "2025-08-05T16:05:04.370484Z",
     "shell.execute_reply": "2025-08-05T16:05:04.369458Z"
    },
    "papermill": {
     "duration": 0.029897,
     "end_time": "2025-08-05T16:05:04.372445",
     "exception": false,
     "start_time": "2025-08-05T16:05:04.342548",
     "status": "completed"
    },
    "tags": []
   },
   "outputs": [],
   "source": [
    "if mode == \"keep-all\":\n",
    "    keep_mask = pd.Series(True, index=org_train.index)\n",
    "\n",
    "# org_train contains the original feature columns from features_org (in Simson)\n",
    "# features_org contains unprocessed features, for me X_train at beginning ???\n",
    "# For keep-all, creates a boolean Series (keep_mask) of all True, so no rows are removed.\n",
    "\n",
    "elif mode == \"drop-non-german\":\n",
    "    keep_mask = org_train[\"maxdeutsch1\"] == 1 # ??? what about missing values?\n",
    "\n",
    "else:\n",
    "    raise ValueError(f\"Unsupported mode for exclude_subgroups: {mode}\")"
   ]
  },
  {
   "cell_type": "code",
   "execution_count": 27,
   "id": "71651440",
   "metadata": {
    "execution": {
     "iopub.execute_input": "2025-08-05T16:05:04.413292Z",
     "iopub.status.busy": "2025-08-05T16:05:04.412326Z",
     "iopub.status.idle": "2025-08-05T16:05:04.421658Z",
     "shell.execute_reply": "2025-08-05T16:05:04.420393Z"
    },
    "papermill": {
     "duration": 0.032333,
     "end_time": "2025-08-05T16:05:04.423927",
     "exception": false,
     "start_time": "2025-08-05T16:05:04.391594",
     "status": "completed"
    },
    "tags": []
   },
   "outputs": [],
   "source": [
    "n_drop = (~keep_mask).sum() # Calculates how many rows are set to be dropped\n",
    "if n_drop > 0:\n",
    "    pct = n_drop / len(keep_mask) * 100\n",
    "    print(f\"Dropping {n_drop} rows ({pct:.2f}%) where mode='{mode}'\")"
   ]
  },
  {
   "cell_type": "code",
   "execution_count": 28,
   "id": "5fb8eee5",
   "metadata": {
    "execution": {
     "iopub.execute_input": "2025-08-05T16:05:04.470587Z",
     "iopub.status.busy": "2025-08-05T16:05:04.469564Z",
     "iopub.status.idle": "2025-08-05T16:05:04.477752Z",
     "shell.execute_reply": "2025-08-05T16:05:04.476615Z"
    },
    "papermill": {
     "duration": 0.034132,
     "end_time": "2025-08-05T16:05:04.480217",
     "exception": false,
     "start_time": "2025-08-05T16:05:04.446085",
     "status": "completed"
    },
    "tags": []
   },
   "outputs": [],
   "source": [
    "X_train = X_train[keep_mask]"
   ]
  },
  {
   "cell_type": "code",
   "execution_count": 29,
   "id": "b202bb3a",
   "metadata": {
    "execution": {
     "iopub.execute_input": "2025-08-05T16:05:04.542027Z",
     "iopub.status.busy": "2025-08-05T16:05:04.541241Z",
     "iopub.status.idle": "2025-08-05T16:05:04.548670Z",
     "shell.execute_reply": "2025-08-05T16:05:04.547457Z"
    },
    "papermill": {
     "duration": 0.03945,
     "end_time": "2025-08-05T16:05:04.551099",
     "exception": false,
     "start_time": "2025-08-05T16:05:04.511649",
     "status": "completed"
    },
    "tags": []
   },
   "outputs": [],
   "source": [
    "y_train = y_train[keep_mask]"
   ]
  },
  {
   "cell_type": "markdown",
   "id": "493e2ac3",
   "metadata": {
    "papermill": {
     "duration": 0.018848,
     "end_time": "2025-08-05T16:05:04.595276",
     "exception": false,
     "start_time": "2025-08-05T16:05:04.576428",
     "status": "completed"
    },
    "tags": []
   },
   "source": [
    "# Model Training"
   ]
  },
  {
   "cell_type": "code",
   "execution_count": 30,
   "id": "679e1268",
   "metadata": {
    "execution": {
     "iopub.execute_input": "2025-08-05T16:05:04.637900Z",
     "iopub.status.busy": "2025-08-05T16:05:04.637246Z",
     "iopub.status.idle": "2025-08-05T16:05:04.743946Z",
     "shell.execute_reply": "2025-08-05T16:05:04.742972Z"
    },
    "papermill": {
     "duration": 0.1311,
     "end_time": "2025-08-05T16:05:04.745946",
     "exception": false,
     "start_time": "2025-08-05T16:05:04.614846",
     "status": "completed"
    },
    "tags": []
   },
   "outputs": [],
   "source": [
    "from sklearn.linear_model import LogisticRegression\n",
    "from sklearn.ensemble import GradientBoostingClassifier, RandomForestClassifier\n",
    "\n",
    "if (universe[\"model\"] == \"logreg\"):\n",
    "    model = LogisticRegression() #penalty=\"none\", solver=\"newton-cg\", max_iter=1) # include random_state=19 ?\n",
    "elif (universe[\"model\"] == \"penalized_logreg\"):\n",
    "    model = LogisticRegression(penalty=\"l2\", C=0.1) #, solver=\"newton-cg\", max_iter=1)\n",
    "elif (universe[\"model\"] == \"rf\"):\n",
    "    model = RandomForestClassifier() # n_estimators=100, n_jobs=-1\n",
    "elif (universe[\"model\"] == \"gbm\"):\n",
    "    model = GradientBoostingClassifier()\n",
    "elif (universe[\"model\"] == \"elasticnet\"):\n",
    "    model = LogisticRegression(penalty = 'elasticnet', solver = 'saga', l1_ratio = 0.5) # max_iter=5000\n",
    "else:\n",
    "    raise \"Unsupported universe.model\""
   ]
  },
  {
   "cell_type": "code",
   "execution_count": 31,
   "id": "0cc8f744",
   "metadata": {
    "execution": {
     "iopub.execute_input": "2025-08-05T16:05:04.788380Z",
     "iopub.status.busy": "2025-08-05T16:05:04.787551Z",
     "iopub.status.idle": "2025-08-05T16:05:04.794615Z",
     "shell.execute_reply": "2025-08-05T16:05:04.793557Z"
    },
    "papermill": {
     "duration": 0.029161,
     "end_time": "2025-08-05T16:05:04.796509",
     "exception": false,
     "start_time": "2025-08-05T16:05:04.767348",
     "status": "completed"
    },
    "tags": []
   },
   "outputs": [],
   "source": [
    "import numpy as np\n",
    "from sklearn.pipeline import Pipeline\n",
    "from sklearn.preprocessing import StandardScaler\n",
    "\n",
    "model = Pipeline([\n",
    "    #(\"continuous_processor\", continuous_processor),\n",
    "    #(\"categorical_preprocessor\", categorical_preprocessor),\n",
    "    (\"scale\", StandardScaler() if universe[\"scale\"] == \"scale\" else None), \n",
    "    (\"model\", model),\n",
    "])"
   ]
  },
  {
   "cell_type": "code",
   "execution_count": 32,
   "id": "9442c04d",
   "metadata": {
    "execution": {
     "iopub.execute_input": "2025-08-05T16:05:04.839416Z",
     "iopub.status.busy": "2025-08-05T16:05:04.838754Z",
     "iopub.status.idle": "2025-08-05T16:05:05.226878Z",
     "shell.execute_reply": "2025-08-05T16:05:05.225854Z"
    },
    "papermill": {
     "duration": 0.411934,
     "end_time": "2025-08-05T16:05:05.228971",
     "exception": false,
     "start_time": "2025-08-05T16:05:04.817037",
     "status": "completed"
    },
    "tags": []
   },
   "outputs": [
    {
     "data": {
      "text/html": [
       "<style>#sk-container-id-1 {color: black;background-color: white;}#sk-container-id-1 pre{padding: 0;}#sk-container-id-1 div.sk-toggleable {background-color: white;}#sk-container-id-1 label.sk-toggleable__label {cursor: pointer;display: block;width: 100%;margin-bottom: 0;padding: 0.3em;box-sizing: border-box;text-align: center;}#sk-container-id-1 label.sk-toggleable__label-arrow:before {content: \"▸\";float: left;margin-right: 0.25em;color: #696969;}#sk-container-id-1 label.sk-toggleable__label-arrow:hover:before {color: black;}#sk-container-id-1 div.sk-estimator:hover label.sk-toggleable__label-arrow:before {color: black;}#sk-container-id-1 div.sk-toggleable__content {max-height: 0;max-width: 0;overflow: hidden;text-align: left;background-color: #f0f8ff;}#sk-container-id-1 div.sk-toggleable__content pre {margin: 0.2em;color: black;border-radius: 0.25em;background-color: #f0f8ff;}#sk-container-id-1 input.sk-toggleable__control:checked~div.sk-toggleable__content {max-height: 200px;max-width: 100%;overflow: auto;}#sk-container-id-1 input.sk-toggleable__control:checked~label.sk-toggleable__label-arrow:before {content: \"▾\";}#sk-container-id-1 div.sk-estimator input.sk-toggleable__control:checked~label.sk-toggleable__label {background-color: #d4ebff;}#sk-container-id-1 div.sk-label input.sk-toggleable__control:checked~label.sk-toggleable__label {background-color: #d4ebff;}#sk-container-id-1 input.sk-hidden--visually {border: 0;clip: rect(1px 1px 1px 1px);clip: rect(1px, 1px, 1px, 1px);height: 1px;margin: -1px;overflow: hidden;padding: 0;position: absolute;width: 1px;}#sk-container-id-1 div.sk-estimator {font-family: monospace;background-color: #f0f8ff;border: 1px dotted black;border-radius: 0.25em;box-sizing: border-box;margin-bottom: 0.5em;}#sk-container-id-1 div.sk-estimator:hover {background-color: #d4ebff;}#sk-container-id-1 div.sk-parallel-item::after {content: \"\";width: 100%;border-bottom: 1px solid gray;flex-grow: 1;}#sk-container-id-1 div.sk-label:hover label.sk-toggleable__label {background-color: #d4ebff;}#sk-container-id-1 div.sk-serial::before {content: \"\";position: absolute;border-left: 1px solid gray;box-sizing: border-box;top: 0;bottom: 0;left: 50%;z-index: 0;}#sk-container-id-1 div.sk-serial {display: flex;flex-direction: column;align-items: center;background-color: white;padding-right: 0.2em;padding-left: 0.2em;position: relative;}#sk-container-id-1 div.sk-item {position: relative;z-index: 1;}#sk-container-id-1 div.sk-parallel {display: flex;align-items: stretch;justify-content: center;background-color: white;position: relative;}#sk-container-id-1 div.sk-item::before, #sk-container-id-1 div.sk-parallel-item::before {content: \"\";position: absolute;border-left: 1px solid gray;box-sizing: border-box;top: 0;bottom: 0;left: 50%;z-index: -1;}#sk-container-id-1 div.sk-parallel-item {display: flex;flex-direction: column;z-index: 1;position: relative;background-color: white;}#sk-container-id-1 div.sk-parallel-item:first-child::after {align-self: flex-end;width: 50%;}#sk-container-id-1 div.sk-parallel-item:last-child::after {align-self: flex-start;width: 50%;}#sk-container-id-1 div.sk-parallel-item:only-child::after {width: 0;}#sk-container-id-1 div.sk-dashed-wrapped {border: 1px dashed gray;margin: 0 0.4em 0.5em 0.4em;box-sizing: border-box;padding-bottom: 0.4em;background-color: white;}#sk-container-id-1 div.sk-label label {font-family: monospace;font-weight: bold;display: inline-block;line-height: 1.2em;}#sk-container-id-1 div.sk-label-container {text-align: center;}#sk-container-id-1 div.sk-container {/* jupyter's `normalize.less` sets `[hidden] { display: none; }` but bootstrap.min.css set `[hidden] { display: none !important; }` so we also need the `!important` here to be able to override the default hidden behavior on the sphinx rendered scikit-learn.org. See: https://github.com/scikit-learn/scikit-learn/issues/21755 */display: inline-block !important;position: relative;}#sk-container-id-1 div.sk-text-repr-fallback {display: none;}</style><div id=\"sk-container-id-1\" class=\"sk-top-container\"><div class=\"sk-text-repr-fallback\"><pre>Pipeline(steps=[(&#x27;scale&#x27;, StandardScaler()),\n",
       "                (&#x27;model&#x27;, RandomForestClassifier())])</pre><b>In a Jupyter environment, please rerun this cell to show the HTML representation or trust the notebook. <br />On GitHub, the HTML representation is unable to render, please try loading this page with nbviewer.org.</b></div><div class=\"sk-container\" hidden><div class=\"sk-item sk-dashed-wrapped\"><div class=\"sk-label-container\"><div class=\"sk-label sk-toggleable\"><input class=\"sk-toggleable__control sk-hidden--visually\" id=\"sk-estimator-id-1\" type=\"checkbox\" ><label for=\"sk-estimator-id-1\" class=\"sk-toggleable__label sk-toggleable__label-arrow\">Pipeline</label><div class=\"sk-toggleable__content\"><pre>Pipeline(steps=[(&#x27;scale&#x27;, StandardScaler()),\n",
       "                (&#x27;model&#x27;, RandomForestClassifier())])</pre></div></div></div><div class=\"sk-serial\"><div class=\"sk-item\"><div class=\"sk-estimator sk-toggleable\"><input class=\"sk-toggleable__control sk-hidden--visually\" id=\"sk-estimator-id-2\" type=\"checkbox\" ><label for=\"sk-estimator-id-2\" class=\"sk-toggleable__label sk-toggleable__label-arrow\">StandardScaler</label><div class=\"sk-toggleable__content\"><pre>StandardScaler()</pre></div></div></div><div class=\"sk-item\"><div class=\"sk-estimator sk-toggleable\"><input class=\"sk-toggleable__control sk-hidden--visually\" id=\"sk-estimator-id-3\" type=\"checkbox\" ><label for=\"sk-estimator-id-3\" class=\"sk-toggleable__label sk-toggleable__label-arrow\">RandomForestClassifier</label><div class=\"sk-toggleable__content\"><pre>RandomForestClassifier()</pre></div></div></div></div></div></div></div>"
      ],
      "text/plain": [
       "Pipeline(steps=[('scale', StandardScaler()),\n",
       "                ('model', RandomForestClassifier())])"
      ]
     },
     "execution_count": 32,
     "metadata": {},
     "output_type": "execute_result"
    }
   ],
   "source": [
    "model.fit(X_train, y_train.values.ravel())"
   ]
  },
  {
   "cell_type": "code",
   "execution_count": 33,
   "id": "af59f8c0",
   "metadata": {
    "execution": {
     "iopub.execute_input": "2025-08-05T16:05:05.267128Z",
     "iopub.status.busy": "2025-08-05T16:05:05.266272Z",
     "iopub.status.idle": "2025-08-05T16:05:05.271861Z",
     "shell.execute_reply": "2025-08-05T16:05:05.270709Z"
    },
    "papermill": {
     "duration": 0.026201,
     "end_time": "2025-08-05T16:05:05.273752",
     "exception": false,
     "start_time": "2025-08-05T16:05:05.247551",
     "status": "completed"
    },
    "tags": []
   },
   "outputs": [],
   "source": [
    "from fairness_multiverse.universe import predict_w_threshold"
   ]
  },
  {
   "cell_type": "code",
   "execution_count": 34,
   "id": "a7cf2e16",
   "metadata": {
    "execution": {
     "iopub.execute_input": "2025-08-05T16:05:05.315772Z",
     "iopub.status.busy": "2025-08-05T16:05:05.314827Z",
     "iopub.status.idle": "2025-08-05T16:05:07.012758Z",
     "shell.execute_reply": "2025-08-05T16:05:07.012031Z"
    },
    "papermill": {
     "duration": 1.718971,
     "end_time": "2025-08-05T16:05:07.014050",
     "exception": false,
     "start_time": "2025-08-05T16:05:05.295079",
     "status": "completed"
    },
    "tags": []
   },
   "outputs": [
    {
     "data": {
      "text/plain": [
       "0.8613978374763126"
      ]
     },
     "execution_count": 34,
     "metadata": {},
     "output_type": "execute_result"
    }
   ],
   "source": [
    "probs_test = model.predict_proba(X_test)\n",
    "\n",
    "'''\n",
    "Below code returns a boolean array (or binary 0/1 array depending on how it’s used) where each element \n",
    "is True if the probability of class 1 is greater than or equal to the threshold, and False otherwise.\n",
    "'''\n",
    "y_pred_default = predict_w_threshold(probs_test, 0.5)\n",
    "\n",
    "from sklearn.metrics import accuracy_score\n",
    "\n",
    "# Naive prediction\n",
    "accuracy_score(y_true = y_true, y_pred = y_pred_default)"
   ]
  },
  {
   "cell_type": "code",
   "execution_count": 35,
   "id": "081964c3",
   "metadata": {
    "execution": {
     "iopub.execute_input": "2025-08-05T16:05:07.036843Z",
     "iopub.status.busy": "2025-08-05T16:05:07.036478Z",
     "iopub.status.idle": "2025-08-05T16:05:08.836870Z",
     "shell.execute_reply": "2025-08-05T16:05:08.835742Z"
    },
    "papermill": {
     "duration": 1.814101,
     "end_time": "2025-08-05T16:05:08.839016",
     "exception": false,
     "start_time": "2025-08-05T16:05:07.024915",
     "status": "completed"
    },
    "tags": []
   },
   "outputs": [
    {
     "data": {
      "text/plain": [
       "array([0, 0, 0, ..., 0, 0, 0])"
      ]
     },
     "execution_count": 35,
     "metadata": {},
     "output_type": "execute_result"
    }
   ],
   "source": [
    "model.predict(X_test)"
   ]
  },
  {
   "cell_type": "markdown",
   "id": "56c9705b",
   "metadata": {
    "papermill": {
     "duration": 0.021559,
     "end_time": "2025-08-05T16:05:08.885580",
     "exception": false,
     "start_time": "2025-08-05T16:05:08.864021",
     "status": "completed"
    },
    "tags": []
   },
   "source": [
    "# Conformal Prediction"
   ]
  },
  {
   "cell_type": "code",
   "execution_count": 36,
   "id": "160ec6ff",
   "metadata": {
    "execution": {
     "iopub.execute_input": "2025-08-05T16:05:08.927861Z",
     "iopub.status.busy": "2025-08-05T16:05:08.927307Z",
     "iopub.status.idle": "2025-08-05T16:05:08.932537Z",
     "shell.execute_reply": "2025-08-05T16:05:08.931799Z"
    },
    "papermill": {
     "duration": 0.026544,
     "end_time": "2025-08-05T16:05:08.933867",
     "exception": false,
     "start_time": "2025-08-05T16:05:08.907323",
     "status": "completed"
    },
    "tags": []
   },
   "outputs": [],
   "source": [
    "# Miscoverage level for conformal prediction (10% allowed error rate => 90% target coverage)\n",
    "alpha = 0.1"
   ]
  },
  {
   "cell_type": "code",
   "execution_count": 37,
   "id": "eadf4555-3dd3-440e-8e35-f82a4ad9f855",
   "metadata": {
    "execution": {
     "iopub.execute_input": "2025-08-05T16:05:08.957184Z",
     "iopub.status.busy": "2025-08-05T16:05:08.956551Z",
     "iopub.status.idle": "2025-08-05T16:05:10.508958Z",
     "shell.execute_reply": "2025-08-05T16:05:10.507965Z"
    },
    "papermill": {
     "duration": 1.565866,
     "end_time": "2025-08-05T16:05:10.511102",
     "exception": false,
     "start_time": "2025-08-05T16:05:08.945236",
     "status": "completed"
    },
    "tags": []
   },
   "outputs": [],
   "source": [
    "probs_calib = model.predict_proba(X_calib)"
   ]
  },
  {
   "cell_type": "code",
   "execution_count": 38,
   "id": "2ed93547-6d5d-4983-9b36-1ecb300da49a",
   "metadata": {
    "execution": {
     "iopub.execute_input": "2025-08-05T16:05:10.560368Z",
     "iopub.status.busy": "2025-08-05T16:05:10.559434Z",
     "iopub.status.idle": "2025-08-05T16:05:10.566058Z",
     "shell.execute_reply": "2025-08-05T16:05:10.565001Z"
    },
    "papermill": {
     "duration": 0.032732,
     "end_time": "2025-08-05T16:05:10.567947",
     "exception": false,
     "start_time": "2025-08-05T16:05:10.535215",
     "status": "completed"
    },
    "tags": []
   },
   "outputs": [],
   "source": [
    "y_calib = y_calib.values.ravel().astype(int)"
   ]
  },
  {
   "cell_type": "code",
   "execution_count": 39,
   "id": "65d1320d-f588-4b38-9072-62af1ae97f7d",
   "metadata": {
    "execution": {
     "iopub.execute_input": "2025-08-05T16:05:10.615285Z",
     "iopub.status.busy": "2025-08-05T16:05:10.614619Z",
     "iopub.status.idle": "2025-08-05T16:05:10.623013Z",
     "shell.execute_reply": "2025-08-05T16:05:10.622042Z"
    },
    "papermill": {
     "duration": 0.032561,
     "end_time": "2025-08-05T16:05:10.624761",
     "exception": false,
     "start_time": "2025-08-05T16:05:10.592200",
     "status": "completed"
    },
    "tags": []
   },
   "outputs": [],
   "source": [
    "from fairness_multiverse.conformal import compute_nc_scores\n",
    "\n",
    "# Compute nonconformity scores on calibration set (1 - probability of true class)\n",
    "nc_scores = compute_nc_scores(probs_calib, y_calib)"
   ]
  },
  {
   "cell_type": "code",
   "execution_count": 40,
   "id": "df3b8ca3-53b7-43d5-9667-7c85da7aeda2",
   "metadata": {
    "execution": {
     "iopub.execute_input": "2025-08-05T16:05:10.666186Z",
     "iopub.status.busy": "2025-08-05T16:05:10.665633Z",
     "iopub.status.idle": "2025-08-05T16:05:10.672142Z",
     "shell.execute_reply": "2025-08-05T16:05:10.671101Z"
    },
    "papermill": {
     "duration": 0.028257,
     "end_time": "2025-08-05T16:05:10.673972",
     "exception": false,
     "start_time": "2025-08-05T16:05:10.645715",
     "status": "completed"
    },
    "tags": []
   },
   "outputs": [],
   "source": [
    "from fairness_multiverse.conformal import find_threshold\n",
    "\n",
    "# Find conformal threshold q_hat for the given alpha (split conformal method)\n",
    "q_hat = find_threshold(nc_scores, alpha)"
   ]
  },
  {
   "cell_type": "code",
   "execution_count": 41,
   "id": "4d29e6c1-0ef6-4aa4-b8fe-4fe79b0d033a",
   "metadata": {
    "execution": {
     "iopub.execute_input": "2025-08-05T16:05:10.713656Z",
     "iopub.status.busy": "2025-08-05T16:05:10.713113Z",
     "iopub.status.idle": "2025-08-05T16:05:10.721281Z",
     "shell.execute_reply": "2025-08-05T16:05:10.720207Z"
    },
    "papermill": {
     "duration": 0.029721,
     "end_time": "2025-08-05T16:05:10.723045",
     "exception": false,
     "start_time": "2025-08-05T16:05:10.693324",
     "status": "completed"
    },
    "tags": []
   },
   "outputs": [
    {
     "data": {
      "text/plain": [
       "0.6699999999999999"
      ]
     },
     "execution_count": 41,
     "metadata": {},
     "output_type": "execute_result"
    }
   ],
   "source": [
    "q_hat"
   ]
  },
  {
   "cell_type": "code",
   "execution_count": 42,
   "id": "92460794-cdac-4be2-ba28-f28c0515a6fb",
   "metadata": {
    "execution": {
     "iopub.execute_input": "2025-08-05T16:05:10.764598Z",
     "iopub.status.busy": "2025-08-05T16:05:10.763762Z",
     "iopub.status.idle": "2025-08-05T16:05:13.278517Z",
     "shell.execute_reply": "2025-08-05T16:05:13.277461Z"
    },
    "papermill": {
     "duration": 2.537338,
     "end_time": "2025-08-05T16:05:13.280711",
     "exception": false,
     "start_time": "2025-08-05T16:05:10.743373",
     "status": "completed"
    },
    "tags": []
   },
   "outputs": [],
   "source": [
    "from fairness_multiverse.conformal import predict_conformal_sets\n",
    "\n",
    "# Generate prediction sets for each test example\n",
    "pred_sets = predict_conformal_sets(model, X_test, q_hat)"
   ]
  },
  {
   "cell_type": "code",
   "execution_count": 43,
   "id": "d90c9a65-e6db-4f5d-80cd-e68fb7e46829",
   "metadata": {
    "execution": {
     "iopub.execute_input": "2025-08-05T16:05:13.330772Z",
     "iopub.status.busy": "2025-08-05T16:05:13.330371Z",
     "iopub.status.idle": "2025-08-05T16:05:13.335406Z",
     "shell.execute_reply": "2025-08-05T16:05:13.334566Z"
    },
    "papermill": {
     "duration": 0.028169,
     "end_time": "2025-08-05T16:05:13.336818",
     "exception": false,
     "start_time": "2025-08-05T16:05:13.308649",
     "status": "completed"
    },
    "tags": []
   },
   "outputs": [],
   "source": [
    "y_true = y_true.squeeze()"
   ]
  },
  {
   "cell_type": "code",
   "execution_count": 44,
   "id": "3a58a54a-1e68-46b9-927a-df01f18aebc8",
   "metadata": {
    "execution": {
     "iopub.execute_input": "2025-08-05T16:05:13.383516Z",
     "iopub.status.busy": "2025-08-05T16:05:13.381482Z",
     "iopub.status.idle": "2025-08-05T16:05:14.454512Z",
     "shell.execute_reply": "2025-08-05T16:05:14.453398Z"
    },
    "papermill": {
     "duration": 1.101224,
     "end_time": "2025-08-05T16:05:14.456521",
     "exception": false,
     "start_time": "2025-08-05T16:05:13.355297",
     "status": "completed"
    },
    "tags": []
   },
   "outputs": [],
   "source": [
    "from fairness_multiverse.conformal import evaluate_sets\n",
    "\n",
    "# Evaluate coverage and average set size on test data\n",
    "metrics = evaluate_sets(pred_sets, y_true)"
   ]
  },
  {
   "cell_type": "markdown",
   "id": "2b569c12-9aaa-4c88-98c9-bbcd0cf3ebb8",
   "metadata": {
    "papermill": {
     "duration": 0.02045,
     "end_time": "2025-08-05T16:05:14.497902",
     "exception": false,
     "start_time": "2025-08-05T16:05:14.477452",
     "status": "completed"
    },
    "tags": []
   },
   "source": [
    "# CP Metrics"
   ]
  },
  {
   "cell_type": "code",
   "execution_count": 45,
   "id": "5ce0a5cb-201f-45a0-ade5-94c7f0bd6095",
   "metadata": {
    "execution": {
     "iopub.execute_input": "2025-08-05T16:05:14.541399Z",
     "iopub.status.busy": "2025-08-05T16:05:14.540476Z",
     "iopub.status.idle": "2025-08-05T16:05:14.548275Z",
     "shell.execute_reply": "2025-08-05T16:05:14.547132Z"
    },
    "papermill": {
     "duration": 0.031963,
     "end_time": "2025-08-05T16:05:14.550238",
     "exception": false,
     "start_time": "2025-08-05T16:05:14.518275",
     "status": "completed"
    },
    "tags": []
   },
   "outputs": [
    {
     "data": {
      "text/plain": [
       "{'coverage': 0.9134879054731914, 'avg_size': 1.1459257607847508}"
      ]
     },
     "execution_count": 45,
     "metadata": {},
     "output_type": "execute_result"
    }
   ],
   "source": [
    "metrics"
   ]
  },
  {
   "cell_type": "code",
   "execution_count": 46,
   "id": "9b9a838d-31c9-430b-ae14-12baee460d17",
   "metadata": {
    "execution": {
     "iopub.execute_input": "2025-08-05T16:05:14.593958Z",
     "iopub.status.busy": "2025-08-05T16:05:14.593090Z",
     "iopub.status.idle": "2025-08-05T16:05:14.599828Z",
     "shell.execute_reply": "2025-08-05T16:05:14.598834Z"
    },
    "papermill": {
     "duration": 0.030541,
     "end_time": "2025-08-05T16:05:14.601727",
     "exception": false,
     "start_time": "2025-08-05T16:05:14.571186",
     "status": "completed"
    },
    "tags": []
   },
   "outputs": [],
   "source": [
    "example_universe = universe.copy()\n",
    "universe_training_year = example_universe.get(\"training_year\")\n",
    "universe_training_size = example_universe.get(\"training_size\")\n",
    "universe_scale = example_universe.get(\"scale\")\n",
    "universe_model = example_universe.get(\"model\")\n",
    "universe_exclude_features = example_universe.get(\"exclude_features\")\n",
    "universe_exclude_subgroups = example_universe.get(\"exclude_subgroups\")"
   ]
  },
  {
   "cell_type": "code",
   "execution_count": 47,
   "id": "f4b6a8ac-9dc0-4245-8a91-5b3b5999c4f9",
   "metadata": {
    "execution": {
     "iopub.execute_input": "2025-08-05T16:05:14.646140Z",
     "iopub.status.busy": "2025-08-05T16:05:14.645367Z",
     "iopub.status.idle": "2025-08-05T16:05:14.652473Z",
     "shell.execute_reply": "2025-08-05T16:05:14.651325Z"
    },
    "papermill": {
     "duration": 0.03122,
     "end_time": "2025-08-05T16:05:14.654778",
     "exception": false,
     "start_time": "2025-08-05T16:05:14.623558",
     "status": "completed"
    },
    "tags": []
   },
   "outputs": [],
   "source": [
    "cp_metrics_dict = {\n",
    "    \"universe_id\": [universe_id],\n",
    "    \"universe_training_year\": [universe_training_year],\n",
    "    \"universe_training_size\": [universe_training_size],\n",
    "    \"universe_scale\": [universe_scale],\n",
    "    \"universe_model\": [universe_model],\n",
    "    \"universe_exclude_features\": [universe_exclude_features],\n",
    "    \"universe_exclude_subgroups\": [universe_exclude_subgroups],\n",
    "    \"q_hat\": [q_hat],\n",
    "    \"coverage\": [metrics[\"coverage\"]],\n",
    "    \"avg_size\": [metrics[\"avg_size\"]],\n",
    "}"
   ]
  },
  {
   "cell_type": "code",
   "execution_count": 48,
   "id": "908acbb1-0371-4915-85ca-3fa520d2efe2",
   "metadata": {
    "execution": {
     "iopub.execute_input": "2025-08-05T16:05:14.704756Z",
     "iopub.status.busy": "2025-08-05T16:05:14.703730Z",
     "iopub.status.idle": "2025-08-05T16:05:14.712498Z",
     "shell.execute_reply": "2025-08-05T16:05:14.711417Z"
    },
    "papermill": {
     "duration": 0.033935,
     "end_time": "2025-08-05T16:05:14.714361",
     "exception": false,
     "start_time": "2025-08-05T16:05:14.680426",
     "status": "completed"
    },
    "tags": []
   },
   "outputs": [
    {
     "data": {
      "text/plain": [
       "{'universe_id': ['bb5ffbc14595629263e25f89a43b1115'],\n",
       " 'universe_training_year': ['2014'],\n",
       " 'universe_training_size': ['1k'],\n",
       " 'universe_scale': ['scale'],\n",
       " 'universe_model': ['rf'],\n",
       " 'universe_exclude_features': ['sex'],\n",
       " 'universe_exclude_subgroups': ['keep-all'],\n",
       " 'q_hat': [0.6699999999999999],\n",
       " 'coverage': [0.9134879054731914],\n",
       " 'avg_size': [1.1459257607847508]}"
      ]
     },
     "execution_count": 48,
     "metadata": {},
     "output_type": "execute_result"
    }
   ],
   "source": [
    "cp_metrics_dict"
   ]
  },
  {
   "cell_type": "code",
   "execution_count": 49,
   "id": "33007efc-14e9-4ec6-97ac-56a455c82265",
   "metadata": {
    "execution": {
     "iopub.execute_input": "2025-08-05T16:05:14.759480Z",
     "iopub.status.busy": "2025-08-05T16:05:14.758998Z",
     "iopub.status.idle": "2025-08-05T16:05:14.766037Z",
     "shell.execute_reply": "2025-08-05T16:05:14.765055Z"
    },
    "papermill": {
     "duration": 0.030772,
     "end_time": "2025-08-05T16:05:14.768133",
     "exception": false,
     "start_time": "2025-08-05T16:05:14.737361",
     "status": "completed"
    },
    "tags": []
   },
   "outputs": [],
   "source": [
    "cp_metrics_df = pd.DataFrame(cp_metrics_dict)"
   ]
  },
  {
   "cell_type": "code",
   "execution_count": 50,
   "id": "db12611b-57b2-4910-b9d0-355adfd6e7bf",
   "metadata": {
    "execution": {
     "iopub.execute_input": "2025-08-05T16:05:14.812959Z",
     "iopub.status.busy": "2025-08-05T16:05:14.812404Z",
     "iopub.status.idle": "2025-08-05T16:05:14.833080Z",
     "shell.execute_reply": "2025-08-05T16:05:14.832065Z"
    },
    "papermill": {
     "duration": 0.044186,
     "end_time": "2025-08-05T16:05:14.834883",
     "exception": false,
     "start_time": "2025-08-05T16:05:14.790697",
     "status": "completed"
    },
    "tags": []
   },
   "outputs": [
    {
     "data": {
      "text/html": [
       "<div>\n",
       "<style scoped>\n",
       "    .dataframe tbody tr th:only-of-type {\n",
       "        vertical-align: middle;\n",
       "    }\n",
       "\n",
       "    .dataframe tbody tr th {\n",
       "        vertical-align: top;\n",
       "    }\n",
       "\n",
       "    .dataframe thead th {\n",
       "        text-align: right;\n",
       "    }\n",
       "</style>\n",
       "<table border=\"1\" class=\"dataframe\">\n",
       "  <thead>\n",
       "    <tr style=\"text-align: right;\">\n",
       "      <th></th>\n",
       "      <th>universe_id</th>\n",
       "      <th>universe_training_year</th>\n",
       "      <th>universe_training_size</th>\n",
       "      <th>universe_scale</th>\n",
       "      <th>universe_model</th>\n",
       "      <th>universe_exclude_features</th>\n",
       "      <th>universe_exclude_subgroups</th>\n",
       "      <th>q_hat</th>\n",
       "      <th>coverage</th>\n",
       "      <th>avg_size</th>\n",
       "    </tr>\n",
       "  </thead>\n",
       "  <tbody>\n",
       "    <tr>\n",
       "      <th>0</th>\n",
       "      <td>bb5ffbc14595629263e25f89a43b1115</td>\n",
       "      <td>2014</td>\n",
       "      <td>1k</td>\n",
       "      <td>scale</td>\n",
       "      <td>rf</td>\n",
       "      <td>sex</td>\n",
       "      <td>keep-all</td>\n",
       "      <td>0.67</td>\n",
       "      <td>0.913488</td>\n",
       "      <td>1.145926</td>\n",
       "    </tr>\n",
       "  </tbody>\n",
       "</table>\n",
       "</div>"
      ],
      "text/plain": [
       "                        universe_id universe_training_year  \\\n",
       "0  bb5ffbc14595629263e25f89a43b1115                   2014   \n",
       "\n",
       "  universe_training_size universe_scale universe_model  \\\n",
       "0                     1k          scale             rf   \n",
       "\n",
       "  universe_exclude_features universe_exclude_subgroups  q_hat  coverage  \\\n",
       "0                       sex                   keep-all   0.67  0.913488   \n",
       "\n",
       "   avg_size  \n",
       "0  1.145926  "
      ]
     },
     "execution_count": 50,
     "metadata": {},
     "output_type": "execute_result"
    }
   ],
   "source": [
    "cp_metrics_df"
   ]
  },
  {
   "cell_type": "code",
   "execution_count": 51,
   "id": "b7fbde55-a0a1-47e4-9af6-fe4a17fa8c61",
   "metadata": {
    "execution": {
     "iopub.execute_input": "2025-08-05T16:05:14.882096Z",
     "iopub.status.busy": "2025-08-05T16:05:14.881347Z",
     "iopub.status.idle": "2025-08-05T16:05:14.886937Z",
     "shell.execute_reply": "2025-08-05T16:05:14.885832Z"
    },
    "papermill": {
     "duration": 0.030191,
     "end_time": "2025-08-05T16:05:14.888863",
     "exception": false,
     "start_time": "2025-08-05T16:05:14.858672",
     "status": "completed"
    },
    "tags": []
   },
   "outputs": [],
   "source": [
    "# Conditional Coverage & looking at subgroups"
   ]
  },
  {
   "cell_type": "code",
   "execution_count": 52,
   "id": "027ae886-68dd-4141-96c7-805a5450e1ef",
   "metadata": {
    "execution": {
     "iopub.execute_input": "2025-08-05T16:05:14.937650Z",
     "iopub.status.busy": "2025-08-05T16:05:14.936918Z",
     "iopub.status.idle": "2025-08-05T16:05:15.211479Z",
     "shell.execute_reply": "2025-08-05T16:05:15.210543Z"
    },
    "papermill": {
     "duration": 0.30052,
     "end_time": "2025-08-05T16:05:15.213481",
     "exception": false,
     "start_time": "2025-08-05T16:05:14.912961",
     "status": "completed"
    },
    "tags": []
   },
   "outputs": [],
   "source": [
    "from fairness_multiverse.conformal import build_cp_groups\n",
    "\n",
    "cp_groups_df = build_cp_groups(pred_sets, y_true, X_test.index, org_test)\n",
    "#needs universe_id and setting"
   ]
  },
  {
   "cell_type": "code",
   "execution_count": 53,
   "id": "6cbdab96-b2b2-45af-ad54-d0516db2e28d",
   "metadata": {
    "execution": {
     "iopub.execute_input": "2025-08-05T16:05:15.259370Z",
     "iopub.status.busy": "2025-08-05T16:05:15.258353Z",
     "iopub.status.idle": "2025-08-05T16:05:16.689016Z",
     "shell.execute_reply": "2025-08-05T16:05:16.688204Z"
    },
    "papermill": {
     "duration": 1.455798,
     "end_time": "2025-08-05T16:05:16.690624",
     "exception": false,
     "start_time": "2025-08-05T16:05:15.234826",
     "status": "completed"
    },
    "tags": []
   },
   "outputs": [],
   "source": [
    "# Define covered = 1 if true_label is in the predicted set\n",
    "cp_groups_df['covered'] = cp_groups_df.apply(\n",
    "    lambda r: int(r['true_label'] in r['pred_set']),\n",
    "    axis=1\n",
    ")"
   ]
  },
  {
   "cell_type": "code",
   "execution_count": 54,
   "id": "338ff529-1a6b-4b87-a931-8e4788d52aad",
   "metadata": {
    "execution": {
     "iopub.execute_input": "2025-08-05T16:05:16.715518Z",
     "iopub.status.busy": "2025-08-05T16:05:16.715154Z",
     "iopub.status.idle": "2025-08-05T16:05:16.719871Z",
     "shell.execute_reply": "2025-08-05T16:05:16.718737Z"
    },
    "papermill": {
     "duration": 0.018688,
     "end_time": "2025-08-05T16:05:16.721685",
     "exception": false,
     "start_time": "2025-08-05T16:05:16.702997",
     "status": "completed"
    },
    "tags": []
   },
   "outputs": [],
   "source": [
    "#cp_groups_df"
   ]
  },
  {
   "cell_type": "code",
   "execution_count": 55,
   "id": "90032e27-66df-4540-9169-4e89cfbaa758",
   "metadata": {
    "execution": {
     "iopub.execute_input": "2025-08-05T16:05:16.747020Z",
     "iopub.status.busy": "2025-08-05T16:05:16.746279Z",
     "iopub.status.idle": "2025-08-05T16:05:16.755785Z",
     "shell.execute_reply": "2025-08-05T16:05:16.754981Z"
    },
    "papermill": {
     "duration": 0.023312,
     "end_time": "2025-08-05T16:05:16.757221",
     "exception": false,
     "start_time": "2025-08-05T16:05:16.733909",
     "status": "completed"
    },
    "tags": []
   },
   "outputs": [],
   "source": [
    "subgroups = ['frau1','nongerman','nongerman_male','nongerman_female']\n",
    "\n",
    "# Conditional coverage for subgroup==1\n",
    "cond_coverage = {\n",
    "    g: cp_groups_df.loc[cp_groups_df[g]==1, 'covered'].mean()\n",
    "    for g in subgroups\n",
    "}"
   ]
  },
  {
   "cell_type": "code",
   "execution_count": 56,
   "id": "1e348fb1-b9c3-45bc-ba23-f016827a7e0d",
   "metadata": {
    "execution": {
     "iopub.execute_input": "2025-08-05T16:05:16.782392Z",
     "iopub.status.busy": "2025-08-05T16:05:16.781561Z",
     "iopub.status.idle": "2025-08-05T16:05:16.788223Z",
     "shell.execute_reply": "2025-08-05T16:05:16.787277Z"
    },
    "papermill": {
     "duration": 0.020202,
     "end_time": "2025-08-05T16:05:16.789846",
     "exception": false,
     "start_time": "2025-08-05T16:05:16.769644",
     "status": "completed"
    },
    "tags": []
   },
   "outputs": [
    {
     "data": {
      "text/plain": [
       "{'frau1': 0.9091252190322145,\n",
       " 'nongerman': 0.9095604333913434,\n",
       " 'nongerman_male': 0.9253354949112852,\n",
       " 'nongerman_female': 0.8834575260804769}"
      ]
     },
     "execution_count": 56,
     "metadata": {},
     "output_type": "execute_result"
    }
   ],
   "source": [
    "cond_coverage"
   ]
  },
  {
   "cell_type": "code",
   "execution_count": 57,
   "id": "f5093324-c3dd-4d63-bc4c-8d945e5c8bbb",
   "metadata": {
    "execution": {
     "iopub.execute_input": "2025-08-05T16:05:16.815843Z",
     "iopub.status.busy": "2025-08-05T16:05:16.815302Z",
     "iopub.status.idle": "2025-08-05T16:05:16.821790Z",
     "shell.execute_reply": "2025-08-05T16:05:16.821001Z"
    },
    "papermill": {
     "duration": 0.020595,
     "end_time": "2025-08-05T16:05:16.823303",
     "exception": false,
     "start_time": "2025-08-05T16:05:16.802708",
     "status": "completed"
    },
    "tags": []
   },
   "outputs": [],
   "source": [
    "for subgroup, cov in cond_coverage.items():\n",
    "    cp_metrics_df[f\"cov_{subgroup}\"] = cov"
   ]
  },
  {
   "cell_type": "code",
   "execution_count": 58,
   "id": "6e872e10-dbe5-49e8-b554-5030c98ff75d",
   "metadata": {
    "execution": {
     "iopub.execute_input": "2025-08-05T16:05:16.850269Z",
     "iopub.status.busy": "2025-08-05T16:05:16.849502Z",
     "iopub.status.idle": "2025-08-05T16:05:16.864544Z",
     "shell.execute_reply": "2025-08-05T16:05:16.863472Z"
    },
    "papermill": {
     "duration": 0.029474,
     "end_time": "2025-08-05T16:05:16.866191",
     "exception": false,
     "start_time": "2025-08-05T16:05:16.836717",
     "status": "completed"
    },
    "tags": []
   },
   "outputs": [
    {
     "data": {
      "text/html": [
       "<div>\n",
       "<style scoped>\n",
       "    .dataframe tbody tr th:only-of-type {\n",
       "        vertical-align: middle;\n",
       "    }\n",
       "\n",
       "    .dataframe tbody tr th {\n",
       "        vertical-align: top;\n",
       "    }\n",
       "\n",
       "    .dataframe thead th {\n",
       "        text-align: right;\n",
       "    }\n",
       "</style>\n",
       "<table border=\"1\" class=\"dataframe\">\n",
       "  <thead>\n",
       "    <tr style=\"text-align: right;\">\n",
       "      <th></th>\n",
       "      <th>universe_id</th>\n",
       "      <th>universe_training_year</th>\n",
       "      <th>universe_training_size</th>\n",
       "      <th>universe_scale</th>\n",
       "      <th>universe_model</th>\n",
       "      <th>universe_exclude_features</th>\n",
       "      <th>universe_exclude_subgroups</th>\n",
       "      <th>q_hat</th>\n",
       "      <th>coverage</th>\n",
       "      <th>avg_size</th>\n",
       "      <th>cov_frau1</th>\n",
       "      <th>cov_nongerman</th>\n",
       "      <th>cov_nongerman_male</th>\n",
       "      <th>cov_nongerman_female</th>\n",
       "    </tr>\n",
       "  </thead>\n",
       "  <tbody>\n",
       "    <tr>\n",
       "      <th>0</th>\n",
       "      <td>bb5ffbc14595629263e25f89a43b1115</td>\n",
       "      <td>2014</td>\n",
       "      <td>1k</td>\n",
       "      <td>scale</td>\n",
       "      <td>rf</td>\n",
       "      <td>sex</td>\n",
       "      <td>keep-all</td>\n",
       "      <td>0.67</td>\n",
       "      <td>0.913488</td>\n",
       "      <td>1.145926</td>\n",
       "      <td>0.909125</td>\n",
       "      <td>0.90956</td>\n",
       "      <td>0.925335</td>\n",
       "      <td>0.883458</td>\n",
       "    </tr>\n",
       "  </tbody>\n",
       "</table>\n",
       "</div>"
      ],
      "text/plain": [
       "                        universe_id universe_training_year  \\\n",
       "0  bb5ffbc14595629263e25f89a43b1115                   2014   \n",
       "\n",
       "  universe_training_size universe_scale universe_model  \\\n",
       "0                     1k          scale             rf   \n",
       "\n",
       "  universe_exclude_features universe_exclude_subgroups  q_hat  coverage  \\\n",
       "0                       sex                   keep-all   0.67  0.913488   \n",
       "\n",
       "   avg_size  cov_frau1  cov_nongerman  cov_nongerman_male  \\\n",
       "0  1.145926   0.909125        0.90956            0.925335   \n",
       "\n",
       "   cov_nongerman_female  \n",
       "0              0.883458  "
      ]
     },
     "execution_count": 58,
     "metadata": {},
     "output_type": "execute_result"
    }
   ],
   "source": [
    "cp_metrics_df"
   ]
  },
  {
   "cell_type": "markdown",
   "id": "33774451",
   "metadata": {
    "papermill": {
     "duration": 0.011985,
     "end_time": "2025-08-05T16:05:16.891444",
     "exception": false,
     "start_time": "2025-08-05T16:05:16.879459",
     "status": "completed"
    },
    "tags": []
   },
   "source": [
    "# (Fairness) Metrics"
   ]
  },
  {
   "cell_type": "code",
   "execution_count": 59,
   "id": "debc5d62",
   "metadata": {
    "execution": {
     "iopub.execute_input": "2025-08-05T16:05:16.917292Z",
     "iopub.status.busy": "2025-08-05T16:05:16.916992Z",
     "iopub.status.idle": "2025-08-05T16:05:16.931845Z",
     "shell.execute_reply": "2025-08-05T16:05:16.931091Z"
    },
    "papermill": {
     "duration": 0.029208,
     "end_time": "2025-08-05T16:05:16.933282",
     "exception": false,
     "start_time": "2025-08-05T16:05:16.904074",
     "status": "completed"
    },
    "tags": []
   },
   "outputs": [],
   "source": [
    "# do I need to include maxdeutsch1.missing?\n",
    "\n",
    "import numpy as np\n",
    "\n",
    "colname_to_bin = \"maxdeutsch1\"\n",
    "majority_value = org_train[colname_to_bin].mode()[0]\n",
    "\n",
    "org_test[\"majmin\"] = np.where(org_test[colname_to_bin] == majority_value, \"majority\", \"minority\")"
   ]
  },
  {
   "cell_type": "code",
   "execution_count": 60,
   "id": "06a50de5",
   "metadata": {
    "execution": {
     "iopub.execute_input": "2025-08-05T16:05:16.959523Z",
     "iopub.status.busy": "2025-08-05T16:05:16.958438Z",
     "iopub.status.idle": "2025-08-05T16:05:18.529504Z",
     "shell.execute_reply": "2025-08-05T16:05:18.528698Z"
    },
    "papermill": {
     "duration": 1.585425,
     "end_time": "2025-08-05T16:05:18.531159",
     "exception": false,
     "start_time": "2025-08-05T16:05:16.945734",
     "status": "completed"
    },
    "tags": []
   },
   "outputs": [],
   "source": [
    "example_universe = universe.copy()\n",
    "example_universe[\"cutoff\"] = example_universe[\"cutoff\"][0]\n",
    "example_universe[\"eval_fairness_grouping\"] = example_universe[\"eval_fairness_grouping\"][0]\n",
    "fairness_dict, metric_frame = universe_analysis.compute_metrics(\n",
    "    example_universe,\n",
    "    y_pred_prob=probs_test,\n",
    "    y_test=y_true,\n",
    "    org_test=org_test,\n",
    ")"
   ]
  },
  {
   "cell_type": "markdown",
   "id": "f95d4e02",
   "metadata": {
    "papermill": {
     "duration": 0.011923,
     "end_time": "2025-08-05T16:05:18.559228",
     "exception": false,
     "start_time": "2025-08-05T16:05:18.547305",
     "status": "completed"
    },
    "tags": []
   },
   "source": [
    "# Overall"
   ]
  },
  {
   "cell_type": "markdown",
   "id": "bdee4871",
   "metadata": {
    "papermill": {
     "duration": 0.011981,
     "end_time": "2025-08-05T16:05:18.582901",
     "exception": false,
     "start_time": "2025-08-05T16:05:18.570920",
     "status": "completed"
    },
    "tags": []
   },
   "source": [
    "Fairness\n",
    "Main fairness target: Equalized Odds. Seems to be a better fit than equal opportunity, since we're not only interested in Y = 1. Seems to be a better fit than demographic parity, since we also care about accuracy, not just equal distribution of preds.\n",
    "\n",
    "Pick column for computation of fairness metrics\n",
    "\n",
    "Performance\n",
    "Overall performance measures, most interesting in relation to the measures split by group below"
   ]
  },
  {
   "cell_type": "code",
   "execution_count": 61,
   "id": "c4e067c6",
   "metadata": {
    "execution": {
     "iopub.execute_input": "2025-08-05T16:05:18.607761Z",
     "iopub.status.busy": "2025-08-05T16:05:18.607014Z",
     "iopub.status.idle": "2025-08-05T16:05:18.615112Z",
     "shell.execute_reply": "2025-08-05T16:05:18.614336Z"
    },
    "papermill": {
     "duration": 0.022189,
     "end_time": "2025-08-05T16:05:18.616591",
     "exception": false,
     "start_time": "2025-08-05T16:05:18.594402",
     "status": "completed"
    },
    "tags": []
   },
   "outputs": [
    {
     "data": {
      "text/plain": [
       "accuracy                   0.213978\n",
       "balanced accuracy          0.535037\n",
       "f1                         0.239889\n",
       "precision                  0.136931\n",
       "false positive rate        0.896818\n",
       "false negative rate        0.033107\n",
       "selection rate             0.905808\n",
       "count                  89710.000000\n",
       "dtype: float64"
      ]
     },
     "execution_count": 61,
     "metadata": {},
     "output_type": "execute_result"
    }
   ],
   "source": [
    "metric_frame.overall"
   ]
  },
  {
   "cell_type": "markdown",
   "id": "e968fe9d",
   "metadata": {
    "papermill": {
     "duration": 0.011962,
     "end_time": "2025-08-05T16:05:18.641207",
     "exception": false,
     "start_time": "2025-08-05T16:05:18.629245",
     "status": "completed"
    },
    "tags": []
   },
   "source": [
    "By Group"
   ]
  },
  {
   "cell_type": "code",
   "execution_count": 62,
   "id": "ec325bce",
   "metadata": {
    "execution": {
     "iopub.execute_input": "2025-08-05T16:05:18.666943Z",
     "iopub.status.busy": "2025-08-05T16:05:18.666088Z",
     "iopub.status.idle": "2025-08-05T16:05:18.679263Z",
     "shell.execute_reply": "2025-08-05T16:05:18.678259Z"
    },
    "papermill": {
     "duration": 0.027729,
     "end_time": "2025-08-05T16:05:18.680859",
     "exception": false,
     "start_time": "2025-08-05T16:05:18.653130",
     "status": "completed"
    },
    "tags": []
   },
   "outputs": [
    {
     "data": {
      "text/html": [
       "<div>\n",
       "<style scoped>\n",
       "    .dataframe tbody tr th:only-of-type {\n",
       "        vertical-align: middle;\n",
       "    }\n",
       "\n",
       "    .dataframe tbody tr th {\n",
       "        vertical-align: top;\n",
       "    }\n",
       "\n",
       "    .dataframe thead th {\n",
       "        text-align: right;\n",
       "    }\n",
       "</style>\n",
       "<table border=\"1\" class=\"dataframe\">\n",
       "  <thead>\n",
       "    <tr style=\"text-align: right;\">\n",
       "      <th></th>\n",
       "      <th>accuracy</th>\n",
       "      <th>balanced accuracy</th>\n",
       "      <th>f1</th>\n",
       "      <th>precision</th>\n",
       "      <th>false positive rate</th>\n",
       "      <th>false negative rate</th>\n",
       "      <th>selection rate</th>\n",
       "      <th>count</th>\n",
       "    </tr>\n",
       "    <tr>\n",
       "      <th>majmin</th>\n",
       "      <th></th>\n",
       "      <th></th>\n",
       "      <th></th>\n",
       "      <th></th>\n",
       "      <th></th>\n",
       "      <th></th>\n",
       "      <th></th>\n",
       "      <th></th>\n",
       "    </tr>\n",
       "  </thead>\n",
       "  <tbody>\n",
       "    <tr>\n",
       "      <th>majority</th>\n",
       "      <td>0.205465</td>\n",
       "      <td>0.536866</td>\n",
       "      <td>0.247213</td>\n",
       "      <td>0.141296</td>\n",
       "      <td>0.913577</td>\n",
       "      <td>0.012691</td>\n",
       "      <td>0.923319</td>\n",
       "      <td>69170.0</td>\n",
       "    </tr>\n",
       "    <tr>\n",
       "      <th>minority</th>\n",
       "      <td>0.242648</td>\n",
       "      <td>0.523316</td>\n",
       "      <td>0.212833</td>\n",
       "      <td>0.120904</td>\n",
       "      <td>0.841459</td>\n",
       "      <td>0.111909</td>\n",
       "      <td>0.846835</td>\n",
       "      <td>20540.0</td>\n",
       "    </tr>\n",
       "  </tbody>\n",
       "</table>\n",
       "</div>"
      ],
      "text/plain": [
       "          accuracy  balanced accuracy        f1  precision  \\\n",
       "majmin                                                       \n",
       "majority  0.205465           0.536866  0.247213   0.141296   \n",
       "minority  0.242648           0.523316  0.212833   0.120904   \n",
       "\n",
       "          false positive rate  false negative rate  selection rate    count  \n",
       "majmin                                                                       \n",
       "majority             0.913577             0.012691        0.923319  69170.0  \n",
       "minority             0.841459             0.111909        0.846835  20540.0  "
      ]
     },
     "execution_count": 62,
     "metadata": {},
     "output_type": "execute_result"
    }
   ],
   "source": [
    "metric_frame.by_group"
   ]
  },
  {
   "cell_type": "code",
   "execution_count": 63,
   "id": "a9ddbe63",
   "metadata": {
    "execution": {
     "iopub.execute_input": "2025-08-05T16:05:18.727468Z",
     "iopub.status.busy": "2025-08-05T16:05:18.726961Z",
     "iopub.status.idle": "2025-08-05T16:05:21.107402Z",
     "shell.execute_reply": "2025-08-05T16:05:21.106411Z"
    },
    "papermill": {
     "duration": 2.407804,
     "end_time": "2025-08-05T16:05:21.109176",
     "exception": false,
     "start_time": "2025-08-05T16:05:18.701372",
     "status": "completed"
    },
    "tags": []
   },
   "outputs": [
    {
     "data": {
      "text/plain": [
       "array([[<Axes: title={'center': 'accuracy'}, xlabel='majmin'>,\n",
       "        <Axes: title={'center': 'balanced accuracy'}, xlabel='majmin'>,\n",
       "        <Axes: title={'center': 'f1'}, xlabel='majmin'>],\n",
       "       [<Axes: title={'center': 'precision'}, xlabel='majmin'>,\n",
       "        <Axes: title={'center': 'false positive rate'}, xlabel='majmin'>,\n",
       "        <Axes: title={'center': 'false negative rate'}, xlabel='majmin'>],\n",
       "       [<Axes: title={'center': 'selection rate'}, xlabel='majmin'>,\n",
       "        <Axes: title={'center': 'count'}, xlabel='majmin'>,\n",
       "        <Axes: xlabel='majmin'>]], dtype=object)"
      ]
     },
     "execution_count": 63,
     "metadata": {},
     "output_type": "execute_result"
    },
    {
     "data": {
      "image/png": "[encoded data removed]",
      "text/plain": [
       "<Figure size 1200x800 with 9 Axes>"
      ]
     },
     "metadata": {},
     "output_type": "display_data"
    }
   ],
   "source": [
    "# In a graphic\n",
    "metric_frame.by_group.plot.bar(\n",
    "    subplots=True,\n",
    "    layout=[3, 3],\n",
    "    legend=False,\n",
    "    figsize=[12, 8],\n",
    "    title=\"Show all metrics\",\n",
    ")"
   ]
  },
  {
   "cell_type": "markdown",
   "id": "f57a0bac",
   "metadata": {
    "papermill": {
     "duration": 0.025101,
     "end_time": "2025-08-05T16:05:21.160269",
     "exception": false,
     "start_time": "2025-08-05T16:05:21.135168",
     "status": "completed"
    },
    "tags": []
   },
   "source": [
    "# Final Output"
   ]
  },
  {
   "cell_type": "code",
   "execution_count": 64,
   "id": "96d280a3",
   "metadata": {
    "execution": {
     "iopub.execute_input": "2025-08-05T16:05:21.211462Z",
     "iopub.status.busy": "2025-08-05T16:05:21.210811Z",
     "iopub.status.idle": "2025-08-05T16:05:21.219309Z",
     "shell.execute_reply": "2025-08-05T16:05:21.218239Z"
    },
    "papermill": {
     "duration": 0.036475,
     "end_time": "2025-08-05T16:05:21.220948",
     "exception": false,
     "start_time": "2025-08-05T16:05:21.184473",
     "status": "completed"
    },
    "tags": []
   },
   "outputs": [
    {
     "data": {
      "text/plain": [
       "4"
      ]
     },
     "execution_count": 64,
     "metadata": {},
     "output_type": "execute_result"
    }
   ],
   "source": [
    "sub_universes = universe_analysis.generate_sub_universes()\n",
    "len(sub_universes)"
   ]
  },
  {
   "cell_type": "code",
   "execution_count": 65,
   "id": "92adf7ba",
   "metadata": {
    "execution": {
     "iopub.execute_input": "2025-08-05T16:05:21.276609Z",
     "iopub.status.busy": "2025-08-05T16:05:21.275671Z",
     "iopub.status.idle": "2025-08-05T16:05:21.282303Z",
     "shell.execute_reply": "2025-08-05T16:05:21.281159Z"
    },
    "papermill": {
     "duration": 0.037081,
     "end_time": "2025-08-05T16:05:21.284311",
     "exception": false,
     "start_time": "2025-08-05T16:05:21.247230",
     "status": "completed"
    },
    "tags": []
   },
   "outputs": [],
   "source": [
    "def filter_sub_universe_data(sub_universe, org_test):\n",
    "    # Keep all rows — no filtering\n",
    "    keep_rows_mask = np.ones(org_test.shape[0], dtype=bool)\n",
    "\n",
    "    print(f\"[INFO] Keeping all rows: {keep_rows_mask.sum()} rows retained.\")\n",
    "    return keep_rows_mask"
   ]
  },
  {
   "cell_type": "code",
   "execution_count": 66,
   "id": "4a759155",
   "metadata": {
    "execution": {
     "iopub.execute_input": "2025-08-05T16:05:21.350459Z",
     "iopub.status.busy": "2025-08-05T16:05:21.349733Z",
     "iopub.status.idle": "2025-08-05T16:05:30.506770Z",
     "shell.execute_reply": "2025-08-05T16:05:30.505651Z"
    },
    "papermill": {
     "duration": 9.19172,
     "end_time": "2025-08-05T16:05:30.508406",
     "exception": false,
     "start_time": "2025-08-05T16:05:21.316686",
     "status": "completed"
    },
    "tags": []
   },
   "outputs": [
    {
     "name": "stdout",
     "output_type": "stream",
     "text": [
      "Stopping execution_time clock.\n",
      "[INFO] Keeping all rows: 89710 rows retained.\n"
     ]
    },
    {
     "name": "stdout",
     "output_type": "stream",
     "text": [
      "[INFO] Keeping all rows: 89710 rows retained.\n"
     ]
    },
    {
     "name": "stdout",
     "output_type": "stream",
     "text": [
      "[INFO] Keeping all rows: 89710 rows retained.\n"
     ]
    },
    {
     "name": "stdout",
     "output_type": "stream",
     "text": [
      "[INFO] Keeping all rows: 89710 rows retained.\n"
     ]
    },
    {
     "data": {
      "text/html": [
       "<div>\n",
       "<style scoped>\n",
       "    .dataframe tbody tr th:only-of-type {\n",
       "        vertical-align: middle;\n",
       "    }\n",
       "\n",
       "    .dataframe tbody tr th {\n",
       "        vertical-align: top;\n",
       "    }\n",
       "\n",
       "    .dataframe thead th {\n",
       "        text-align: right;\n",
       "    }\n",
       "</style>\n",
       "<table border=\"1\" class=\"dataframe\">\n",
       "  <thead>\n",
       "    <tr style=\"text-align: right;\">\n",
       "      <th></th>\n",
       "      <th>run_no</th>\n",
       "      <th>universe_id</th>\n",
       "      <th>universe_settings</th>\n",
       "      <th>execution_time</th>\n",
       "      <th>test_size_n</th>\n",
       "      <th>test_size_frac</th>\n",
       "      <th>fair_main_equalized_odds_difference</th>\n",
       "      <th>fair_main_equalized_odds_ratio</th>\n",
       "      <th>fair_main_demographic_parity_difference</th>\n",
       "      <th>fair_main_demographic_parity_ratio</th>\n",
       "      <th>...</th>\n",
       "      <th>perf_grp_precision_0</th>\n",
       "      <th>perf_grp_precision_1</th>\n",
       "      <th>perf_grp_false positive rate_0</th>\n",
       "      <th>perf_grp_false positive rate_1</th>\n",
       "      <th>perf_grp_false negative rate_0</th>\n",
       "      <th>perf_grp_false negative rate_1</th>\n",
       "      <th>perf_grp_selection rate_0</th>\n",
       "      <th>perf_grp_selection rate_1</th>\n",
       "      <th>perf_grp_count_0</th>\n",
       "      <th>perf_grp_count_1</th>\n",
       "    </tr>\n",
       "  </thead>\n",
       "  <tbody>\n",
       "    <tr>\n",
       "      <th>0</th>\n",
       "      <td>15</td>\n",
       "      <td>bb5ffbc14595629263e25f89a43b1115</td>\n",
       "      <td>{\"cutoff\": \"quantile_0.1\", \"eval_fairness_grou...</td>\n",
       "      <td>30.664611</td>\n",
       "      <td>89710</td>\n",
       "      <td>1.0</td>\n",
       "      <td>0.099217</td>\n",
       "      <td>0.899507</td>\n",
       "      <td>0.076484</td>\n",
       "      <td>0.917164</td>\n",
       "      <td>...</td>\n",
       "      <td>NaN</td>\n",
       "      <td>NaN</td>\n",
       "      <td>NaN</td>\n",
       "      <td>NaN</td>\n",
       "      <td>NaN</td>\n",
       "      <td>NaN</td>\n",
       "      <td>NaN</td>\n",
       "      <td>NaN</td>\n",
       "      <td>NaN</td>\n",
       "      <td>NaN</td>\n",
       "    </tr>\n",
       "    <tr>\n",
       "      <th>0</th>\n",
       "      <td>15</td>\n",
       "      <td>bb5ffbc14595629263e25f89a43b1115</td>\n",
       "      <td>{\"cutoff\": \"quantile_0.1\", \"eval_fairness_grou...</td>\n",
       "      <td>30.664611</td>\n",
       "      <td>89710</td>\n",
       "      <td>1.0</td>\n",
       "      <td>0.099217</td>\n",
       "      <td>0.899507</td>\n",
       "      <td>0.076484</td>\n",
       "      <td>0.917164</td>\n",
       "      <td>...</td>\n",
       "      <td>0.120904</td>\n",
       "      <td>0.141296</td>\n",
       "      <td>0.841459</td>\n",
       "      <td>0.913577</td>\n",
       "      <td>0.111909</td>\n",
       "      <td>0.012691</td>\n",
       "      <td>0.846835</td>\n",
       "      <td>0.923319</td>\n",
       "      <td>20540.0</td>\n",
       "      <td>69170.0</td>\n",
       "    </tr>\n",
       "    <tr>\n",
       "      <th>0</th>\n",
       "      <td>15</td>\n",
       "      <td>bb5ffbc14595629263e25f89a43b1115</td>\n",
       "      <td>{\"cutoff\": \"quantile_0.25\", \"eval_fairness_gro...</td>\n",
       "      <td>30.664611</td>\n",
       "      <td>89710</td>\n",
       "      <td>1.0</td>\n",
       "      <td>0.123505</td>\n",
       "      <td>0.869348</td>\n",
       "      <td>0.077195</td>\n",
       "      <td>0.900444</td>\n",
       "      <td>...</td>\n",
       "      <td>NaN</td>\n",
       "      <td>NaN</td>\n",
       "      <td>NaN</td>\n",
       "      <td>NaN</td>\n",
       "      <td>NaN</td>\n",
       "      <td>NaN</td>\n",
       "      <td>NaN</td>\n",
       "      <td>NaN</td>\n",
       "      <td>NaN</td>\n",
       "      <td>NaN</td>\n",
       "    </tr>\n",
       "    <tr>\n",
       "      <th>0</th>\n",
       "      <td>15</td>\n",
       "      <td>bb5ffbc14595629263e25f89a43b1115</td>\n",
       "      <td>{\"cutoff\": \"quantile_0.25\", \"eval_fairness_gro...</td>\n",
       "      <td>30.664611</td>\n",
       "      <td>89710</td>\n",
       "      <td>1.0</td>\n",
       "      <td>0.123505</td>\n",
       "      <td>0.869348</td>\n",
       "      <td>0.077195</td>\n",
       "      <td>0.900444</td>\n",
       "      <td>...</td>\n",
       "      <td>0.135695</td>\n",
       "      <td>0.161092</td>\n",
       "      <td>0.682093</td>\n",
       "      <td>0.749525</td>\n",
       "      <td>0.178209</td>\n",
       "      <td>0.054705</td>\n",
       "      <td>0.698199</td>\n",
       "      <td>0.775394</td>\n",
       "      <td>20540.0</td>\n",
       "      <td>69170.0</td>\n",
       "    </tr>\n",
       "  </tbody>\n",
       "</table>\n",
       "<p>4 rows × 50 columns</p>\n",
       "</div>"
      ],
      "text/plain": [
       "  run_no                       universe_id  \\\n",
       "0     15  bb5ffbc14595629263e25f89a43b1115   \n",
       "0     15  bb5ffbc14595629263e25f89a43b1115   \n",
       "0     15  bb5ffbc14595629263e25f89a43b1115   \n",
       "0     15  bb5ffbc14595629263e25f89a43b1115   \n",
       "\n",
       "                                   universe_settings  execution_time  \\\n",
       "0  {\"cutoff\": \"quantile_0.1\", \"eval_fairness_grou...       30.664611   \n",
       "0  {\"cutoff\": \"quantile_0.1\", \"eval_fairness_grou...       30.664611   \n",
       "0  {\"cutoff\": \"quantile_0.25\", \"eval_fairness_gro...       30.664611   \n",
       "0  {\"cutoff\": \"quantile_0.25\", \"eval_fairness_gro...       30.664611   \n",
       "\n",
       "   test_size_n  test_size_frac  fair_main_equalized_odds_difference  \\\n",
       "0        89710             1.0                             0.099217   \n",
       "0        89710             1.0                             0.099217   \n",
       "0        89710             1.0                             0.123505   \n",
       "0        89710             1.0                             0.123505   \n",
       "\n",
       "   fair_main_equalized_odds_ratio  fair_main_demographic_parity_difference  \\\n",
       "0                        0.899507                                 0.076484   \n",
       "0                        0.899507                                 0.076484   \n",
       "0                        0.869348                                 0.077195   \n",
       "0                        0.869348                                 0.077195   \n",
       "\n",
       "   fair_main_demographic_parity_ratio  ...  perf_grp_precision_0  \\\n",
       "0                            0.917164  ...                   NaN   \n",
       "0                            0.917164  ...              0.120904   \n",
       "0                            0.900444  ...                   NaN   \n",
       "0                            0.900444  ...              0.135695   \n",
       "\n",
       "   perf_grp_precision_1  perf_grp_false positive rate_0  \\\n",
       "0                   NaN                             NaN   \n",
       "0              0.141296                        0.841459   \n",
       "0                   NaN                             NaN   \n",
       "0              0.161092                        0.682093   \n",
       "\n",
       "   perf_grp_false positive rate_1  perf_grp_false negative rate_0  \\\n",
       "0                             NaN                             NaN   \n",
       "0                        0.913577                        0.111909   \n",
       "0                             NaN                             NaN   \n",
       "0                        0.749525                        0.178209   \n",
       "\n",
       "   perf_grp_false negative rate_1  perf_grp_selection rate_0  \\\n",
       "0                             NaN                        NaN   \n",
       "0                        0.012691                   0.846835   \n",
       "0                             NaN                        NaN   \n",
       "0                        0.054705                   0.698199   \n",
       "\n",
       "   perf_grp_selection rate_1  perf_grp_count_0  perf_grp_count_1  \n",
       "0                        NaN               NaN               NaN  \n",
       "0                   0.923319           20540.0           69170.0  \n",
       "0                        NaN               NaN               NaN  \n",
       "0                   0.775394           20540.0           69170.0  \n",
       "\n",
       "[4 rows x 50 columns]"
      ]
     },
     "execution_count": 66,
     "metadata": {},
     "output_type": "execute_result"
    }
   ],
   "source": [
    "final_output = universe_analysis.generate_final_output(\n",
    "    y_pred_prob=probs_test,\n",
    "    y_test=y_true,\n",
    "    org_test=org_test,\n",
    "    filter_data=filter_sub_universe_data,\n",
    "    cp_metrics_df=cp_metrics_df,\n",
    "    save=True,\n",
    ")\n",
    "final_output"
   ]
  }
 ],
 "metadata": {
  "celltoolbar": "Tags",
  "kernelspec": {
   "display_name": "Python (CMA Fairness)",
   "language": "python",
   "name": "cma_fair_env"
  },
  "language_info": {
   "codemirror_mode": {
    "name": "ipython",
    "version": 3
   },
   "file_extension": ".py",
   "mimetype": "text/x-python",
   "name": "python",
   "nbconvert_exporter": "python",
   "pygments_lexer": "ipython3",
   "version": "3.10.12"
  },
  "papermill": {
   "default_parameters": {},
   "duration": 43.501738,
   "end_time": "2025-08-05T16:05:31.155913",
   "environment_variables": {},
   "exception": null,
   "input_path": "universe_analysis.ipynb",
   "output_path": "output/runs/15/notebooks/m_15-bb5ffbc14595629263e25f89a43b1115.ipynb",
   "parameters": {
    "output_dir": "output",
    "run_no": "15",
    "seed": "2023",
    "universe": "{\"cutoff\": [\"quantile_0.1\", \"quantile_0.25\"], \"eval_fairness_grouping\": [\"majority-minority\", \"nationality-all\"], \"exclude_features\": \"sex\", \"exclude_subgroups\": \"keep-all\", \"model\": \"rf\", \"scale\": \"scale\", \"training_size\": \"1k\", \"training_year\": \"2014\"}",
    "universe_id": "bb5ffbc14595629263e25f89a43b1115"
   },
   "start_time": "2025-08-05T16:04:47.654175",
   "version": "2.6.0"
  }
 },
 "nbformat": 4,
 "nbformat_minor": 5
}