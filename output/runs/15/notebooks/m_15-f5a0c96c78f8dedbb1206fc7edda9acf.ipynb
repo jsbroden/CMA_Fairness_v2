{
 "cells": [
  {
   "cell_type": "code",
   "execution_count": 1,
   "id": "f159f837-637b-42ba-96b5-ec9a68c44524",
   "metadata": {
    "execution": {
     "iopub.execute_input": "2025-08-05T16:23:32.692875Z",
     "iopub.status.busy": "2025-08-05T16:23:32.692112Z",
     "iopub.status.idle": "2025-08-05T16:23:32.707784Z",
     "shell.execute_reply": "2025-08-05T16:23:32.706848Z"
    },
    "papermill": {
     "duration": 0.040025,
     "end_time": "2025-08-05T16:23:32.709603",
     "exception": false,
     "start_time": "2025-08-05T16:23:32.669578",
     "status": "completed"
    },
    "tags": []
   },
   "outputs": [
    {
     "name": "stdout",
     "output_type": "stream",
     "text": [
      "/dss/dsshome1/0C/ra93lal2/cma/CMA_Fairness_v2\n"
     ]
    },
    {
     "name": "stderr",
     "output_type": "stream",
     "text": [
      "/dss/dsshome1/0C/ra93lal2/.local/share/virtualenvs/CMA_Fairness_v2-3j10GkSs/lib/python3.10/site-packages/IPython/core/magics/osm.py:393: UserWarning: This is now an optional IPython functionality, using bookmarks requires you to install the `pickleshare` library.\n",
      "  bkms = self.shell.db.get('bookmarks', {})\n",
      "/dss/dsshome1/0C/ra93lal2/.local/share/virtualenvs/CMA_Fairness_v2-3j10GkSs/lib/python3.10/site-packages/IPython/core/magics/osm.py:417: UserWarning: This is now an optional IPython functionality, setting dhist requires you to install the `pickleshare` library.\n",
      "  self.shell.db['dhist'] = compress_dhist(dhist)[-100:]\n"
     ]
    }
   ],
   "source": [
    "%cd ~/cma/CMA_Fairness_v2"
   ]
  },
  {
   "cell_type": "markdown",
   "id": "de2603b9",
   "metadata": {
    "papermill": {
     "duration": 0.019519,
     "end_time": "2025-08-05T16:23:32.748834",
     "exception": false,
     "start_time": "2025-08-05T16:23:32.729315",
     "status": "completed"
    },
    "tags": []
   },
   "source": [
    "The following cell holds the definition of our parameters, these values can be overriden by rendering the with e.g. the following command:\n",
    "\n",
    "papermill -p alpha 0.2 -p ratio 0.3 universe_analysis.ipynb output/test_run.ipynb"
   ]
  },
  {
   "cell_type": "code",
   "execution_count": 2,
   "id": "a80968a0-40bb-4fa9-85ef-2d5eefb01975",
   "metadata": {
    "execution": {
     "iopub.execute_input": "2025-08-05T16:23:32.835020Z",
     "iopub.status.busy": "2025-08-05T16:23:32.834239Z",
     "iopub.status.idle": "2025-08-05T16:23:32.840913Z",
     "shell.execute_reply": "2025-08-05T16:23:32.839920Z"
    },
    "papermill": {
     "duration": 0.029231,
     "end_time": "2025-08-05T16:23:32.842819",
     "exception": false,
     "start_time": "2025-08-05T16:23:32.813588",
     "status": "completed"
    },
    "tags": []
   },
   "outputs": [
    {
     "name": "stdout",
     "output_type": "stream",
     "text": [
      "Current working directory: /dss/dsshome1/0C/ra93lal2/cma/CMA_Fairness_v2\n"
     ]
    }
   ],
   "source": [
    "import os\n",
    "print(\"Current working directory:\", os.getcwd())"
   ]
  },
  {
   "cell_type": "code",
   "execution_count": 3,
   "id": "2dce4c03",
   "metadata": {
    "execution": {
     "iopub.execute_input": "2025-08-05T16:23:32.885213Z",
     "iopub.status.busy": "2025-08-05T16:23:32.884719Z",
     "iopub.status.idle": "2025-08-05T16:23:32.891204Z",
     "shell.execute_reply": "2025-08-05T16:23:32.890228Z"
    },
    "papermill": {
     "duration": 0.029321,
     "end_time": "2025-08-05T16:23:32.892891",
     "exception": false,
     "start_time": "2025-08-05T16:23:32.863570",
     "status": "completed"
    },
    "tags": [
     "parameters"
    ]
   },
   "outputs": [],
   "source": [
    "run_no = 0\n",
    "universe_id = \"test\"\n",
    "universe = {\n",
    "    \"training_size\": \"25k\", # \"25k\", \"5k\", \"1k\"\n",
    "    \"training_year\": \"2014\", # \"2014\", \"2012_14\", \"2010_14\"\n",
    "    \"scale\": \"scale\", # \"scale\", \"do-not-scale\",\n",
    "    \"model\": \"elasticnet\", # \"logreg\", \"penalized_logreg\", \"rf\", \"gbm\", \"elasticnet\"\n",
    "    \"cutoff\": [\"quantile_0.15\", \"quantile_0.30\"],\n",
    "    \"exclude_features\": \"age\", # \"none\", \"nationality\", \"sex\", \"nationality-sex\", \"age\"\n",
    "    \"exclude_subgroups\": \"keep-all\", # \"keep-all\", \"drop-non-german\"\n",
    "    \"eval_fairness_grouping\": [\"majority-minority\", \"nationality-all\"]\n",
    "}\n",
    "\n",
    "output_dir=\"./output\"\n",
    "seed=0"
   ]
  },
  {
   "cell_type": "code",
   "execution_count": 4,
   "id": "38d3a2e2",
   "metadata": {
    "execution": {
     "iopub.execute_input": "2025-08-05T16:23:32.934773Z",
     "iopub.status.busy": "2025-08-05T16:23:32.934409Z",
     "iopub.status.idle": "2025-08-05T16:23:32.940099Z",
     "shell.execute_reply": "2025-08-05T16:23:32.938941Z"
    },
    "papermill": {
     "duration": 0.029488,
     "end_time": "2025-08-05T16:23:32.942016",
     "exception": false,
     "start_time": "2025-08-05T16:23:32.912528",
     "status": "completed"
    },
    "tags": [
     "injected-parameters"
    ]
   },
   "outputs": [],
   "source": [
    "# Parameters\n",
    "universe_id = \"f5a0c96c78f8dedbb1206fc7edda9acf\"\n",
    "run_no = \"15\"\n",
    "universe = \"{\\\"cutoff\\\": [\\\"quantile_0.1\\\", \\\"quantile_0.25\\\"], \\\"eval_fairness_grouping\\\": [\\\"majority-minority\\\", \\\"nationality-all\\\"], \\\"exclude_features\\\": \\\"nationality\\\", \\\"exclude_subgroups\\\": \\\"drop-non-german\\\", \\\"model\\\": \\\"logreg\\\", \\\"scale\\\": \\\"do-not-scale\\\", \\\"training_size\\\": \\\"1k\\\", \\\"training_year\\\": \\\"2012_14\\\"}\"\n",
    "output_dir = \"output\"\n",
    "seed = \"2023\"\n"
   ]
  },
  {
   "cell_type": "code",
   "execution_count": 5,
   "id": "1650acaf",
   "metadata": {
    "execution": {
     "iopub.execute_input": "2025-08-05T16:23:32.983747Z",
     "iopub.status.busy": "2025-08-05T16:23:32.982795Z",
     "iopub.status.idle": "2025-08-05T16:23:32.988282Z",
     "shell.execute_reply": "2025-08-05T16:23:32.987250Z"
    },
    "papermill": {
     "duration": 0.028048,
     "end_time": "2025-08-05T16:23:32.990114",
     "exception": false,
     "start_time": "2025-08-05T16:23:32.962066",
     "status": "completed"
    },
    "tags": []
   },
   "outputs": [],
   "source": [
    "import json\n",
    "if isinstance(universe, str):\n",
    "    universe = json.loads(universe)"
   ]
  },
  {
   "cell_type": "code",
   "execution_count": 6,
   "id": "16620c48",
   "metadata": {
    "execution": {
     "iopub.execute_input": "2025-08-05T16:23:33.033712Z",
     "iopub.status.busy": "2025-08-05T16:23:33.032884Z",
     "iopub.status.idle": "2025-08-05T16:23:33.089656Z",
     "shell.execute_reply": "2025-08-05T16:23:33.088450Z"
    },
    "papermill": {
     "duration": 0.080913,
     "end_time": "2025-08-05T16:23:33.091943",
     "exception": false,
     "start_time": "2025-08-05T16:23:33.011030",
     "status": "completed"
    },
    "tags": []
   },
   "outputs": [],
   "source": [
    "# Auto-reload the custom package\n",
    "%load_ext autoreload\n",
    "%autoreload 1\n",
    "%aimport fairness_multiverse"
   ]
  },
  {
   "cell_type": "code",
   "execution_count": 7,
   "id": "01c5c9f3",
   "metadata": {
    "execution": {
     "iopub.execute_input": "2025-08-05T16:23:33.136588Z",
     "iopub.status.busy": "2025-08-05T16:23:33.135700Z",
     "iopub.status.idle": "2025-08-05T16:23:35.419134Z",
     "shell.execute_reply": "2025-08-05T16:23:35.417908Z"
    },
    "papermill": {
     "duration": 2.30834,
     "end_time": "2025-08-05T16:23:35.421229",
     "exception": false,
     "start_time": "2025-08-05T16:23:33.112889",
     "status": "completed"
    },
    "tags": []
   },
   "outputs": [],
   "source": [
    "from fairness_multiverse.universe import UniverseAnalysis\n",
    "\n",
    "universe_analysis = UniverseAnalysis(\n",
    "    run_no = run_no,\n",
    "    universe_id = universe_id,\n",
    "    universe = universe,\n",
    "    output_dir=output_dir,\n",
    ")"
   ]
  },
  {
   "cell_type": "code",
   "execution_count": 8,
   "id": "106241f5",
   "metadata": {
    "execution": {
     "iopub.execute_input": "2025-08-05T16:23:35.463988Z",
     "iopub.status.busy": "2025-08-05T16:23:35.463383Z",
     "iopub.status.idle": "2025-08-05T16:23:35.471502Z",
     "shell.execute_reply": "2025-08-05T16:23:35.470309Z"
    },
    "papermill": {
     "duration": 0.03208,
     "end_time": "2025-08-05T16:23:35.473942",
     "exception": false,
     "start_time": "2025-08-05T16:23:35.441862",
     "status": "completed"
    },
    "tags": []
   },
   "outputs": [
    {
     "name": "stdout",
     "output_type": "stream",
     "text": [
      "Using Seed: 2023\n"
     ]
    }
   ],
   "source": [
    "import numpy as np\n",
    "parsed_seed = int(seed)\n",
    "np.random.seed(parsed_seed)\n",
    "print(f\"Using Seed: {parsed_seed}\")"
   ]
  },
  {
   "cell_type": "markdown",
   "id": "e0ebdc57",
   "metadata": {
    "papermill": {
     "duration": 0.019204,
     "end_time": "2025-08-05T16:23:35.513688",
     "exception": false,
     "start_time": "2025-08-05T16:23:35.494484",
     "status": "completed"
    },
    "tags": []
   },
   "source": [
    "# Loading Data"
   ]
  },
  {
   "cell_type": "code",
   "execution_count": 9,
   "id": "f0496b8a",
   "metadata": {
    "execution": {
     "iopub.execute_input": "2025-08-05T16:23:35.556379Z",
     "iopub.status.busy": "2025-08-05T16:23:35.555334Z",
     "iopub.status.idle": "2025-08-05T16:23:50.234660Z",
     "shell.execute_reply": "2025-08-05T16:23:50.233204Z"
    },
    "papermill": {
     "duration": 14.704756,
     "end_time": "2025-08-05T16:23:50.236972",
     "exception": false,
     "start_time": "2025-08-05T16:23:35.532216",
     "status": "completed"
    },
    "tags": []
   },
   "outputs": [
    {
     "name": "stdout",
     "output_type": "stream",
     "text": [
      "Loading SIAB data from cache: data/siab_cached.csv.gz\n"
     ]
    },
    {
     "name": "stdout",
     "output_type": "stream",
     "text": [
      "(643690, 164)\n"
     ]
    }
   ],
   "source": [
    "from pathlib import Path\n",
    "import pandas as pd\n",
    "\n",
    "# File paths\n",
    "raw_file = Path(\"data/raw/siab.csv\")\n",
    "cache_file = Path(\"data/siab_cached.csv.gz\")\n",
    "\n",
    "# Ensure cache directory exists\n",
    "cache_file.parent.mkdir(parents=True, exist_ok=True)\n",
    "\n",
    "# Load with simple caching\n",
    "if cache_file.exists():\n",
    "    print(f\"Loading SIAB data from cache: {cache_file}\")\n",
    "    siab = pd.read_csv(cache_file, compression='gzip')\n",
    "else:\n",
    "    print(f\"Cache not found. Reading raw SIAB data: {raw_file}\")\n",
    "    siab = pd.read_csv(raw_file)\n",
    "    siab.to_csv(cache_file, index=False, compression='gzip')\n",
    "    print(f\"Cached SIAB data to: {cache_file}\")\n",
    "\n",
    "print(siab.shape)"
   ]
  },
  {
   "cell_type": "code",
   "execution_count": 10,
   "id": "db0ca512-5f53-4dba-abdb-a2888bca41ba",
   "metadata": {
    "execution": {
     "iopub.execute_input": "2025-08-05T16:23:50.288062Z",
     "iopub.status.busy": "2025-08-05T16:23:50.287013Z",
     "iopub.status.idle": "2025-08-05T16:23:50.294118Z",
     "shell.execute_reply": "2025-08-05T16:23:50.292950Z"
    },
    "papermill": {
     "duration": 0.034332,
     "end_time": "2025-08-05T16:23:50.296300",
     "exception": false,
     "start_time": "2025-08-05T16:23:50.261968",
     "status": "completed"
    },
    "tags": []
   },
   "outputs": [],
   "source": [
    "#siab"
   ]
  },
  {
   "cell_type": "markdown",
   "id": "997051c5-15bd-4b69-9786-c3001a3ce484",
   "metadata": {
    "papermill": {
     "duration": 0.023899,
     "end_time": "2025-08-05T16:23:50.344133",
     "exception": false,
     "start_time": "2025-08-05T16:23:50.320234",
     "status": "completed"
    },
    "tags": []
   },
   "source": [
    "# Splitting Data and Setting Training Data Size"
   ]
  },
  {
   "cell_type": "code",
   "execution_count": 11,
   "id": "aea9c6ef-6f46-42c8-85eb-5a62025c1508",
   "metadata": {
    "execution": {
     "iopub.execute_input": "2025-08-05T16:23:50.394057Z",
     "iopub.status.busy": "2025-08-05T16:23:50.393551Z",
     "iopub.status.idle": "2025-08-05T16:23:51.057152Z",
     "shell.execute_reply": "2025-08-05T16:23:51.055624Z"
    },
    "papermill": {
     "duration": 0.691701,
     "end_time": "2025-08-05T16:23:51.059641",
     "exception": false,
     "start_time": "2025-08-05T16:23:50.367940",
     "status": "completed"
    },
    "tags": []
   },
   "outputs": [],
   "source": [
    "from fairness_multiverse.universe import sample_by_year_size\n",
    "\n",
    "siab_train = sample_by_year_size(siab,\n",
    "                               training_year=universe[\"training_year\"],\n",
    "                               training_size=universe[\"training_size\"])"
   ]
  },
  {
   "cell_type": "code",
   "execution_count": 12,
   "id": "8d3afb32-789d-442c-8d5d-9f5aa8dd2eed",
   "metadata": {
    "execution": {
     "iopub.execute_input": "2025-08-05T16:23:51.111877Z",
     "iopub.status.busy": "2025-08-05T16:23:51.110901Z",
     "iopub.status.idle": "2025-08-05T16:23:51.117645Z",
     "shell.execute_reply": "2025-08-05T16:23:51.116395Z"
    },
    "papermill": {
     "duration": 0.034834,
     "end_time": "2025-08-05T16:23:51.119582",
     "exception": false,
     "start_time": "2025-08-05T16:23:51.084748",
     "status": "completed"
    },
    "tags": []
   },
   "outputs": [],
   "source": [
    "#siab_train.shape"
   ]
  },
  {
   "cell_type": "code",
   "execution_count": 13,
   "id": "d582db68-1a4c-47fb-84fc-08518dc1975a",
   "metadata": {
    "execution": {
     "iopub.execute_input": "2025-08-05T16:23:51.165150Z",
     "iopub.status.busy": "2025-08-05T16:23:51.164486Z",
     "iopub.status.idle": "2025-08-05T16:23:51.171028Z",
     "shell.execute_reply": "2025-08-05T16:23:51.169888Z"
    },
    "papermill": {
     "duration": 0.034955,
     "end_time": "2025-08-05T16:23:51.173161",
     "exception": false,
     "start_time": "2025-08-05T16:23:51.138206",
     "status": "completed"
    },
    "tags": []
   },
   "outputs": [],
   "source": [
    "#display(siab_train.groupby(\"year\").size())"
   ]
  },
  {
   "cell_type": "code",
   "execution_count": 14,
   "id": "a561edb4-d032-42cb-8256-22eac1111c64",
   "metadata": {
    "execution": {
     "iopub.execute_input": "2025-08-05T16:23:51.218877Z",
     "iopub.status.busy": "2025-08-05T16:23:51.218241Z",
     "iopub.status.idle": "2025-08-05T16:23:51.461753Z",
     "shell.execute_reply": "2025-08-05T16:23:51.460817Z"
    },
    "papermill": {
     "duration": 0.266746,
     "end_time": "2025-08-05T16:23:51.463577",
     "exception": false,
     "start_time": "2025-08-05T16:23:51.196831",
     "status": "completed"
    },
    "tags": []
   },
   "outputs": [],
   "source": [
    "#siab_train = siab_s[siab_s.year < 2015]\n",
    "siab_calib = siab[siab.year == 2015]\n",
    "siab_test = siab[siab.year == 2016]"
   ]
  },
  {
   "cell_type": "code",
   "execution_count": 15,
   "id": "472de16f-c3db-4916-846b-1f0de9cf1746",
   "metadata": {
    "execution": {
     "iopub.execute_input": "2025-08-05T16:23:51.489721Z",
     "iopub.status.busy": "2025-08-05T16:23:51.489193Z",
     "iopub.status.idle": "2025-08-05T16:23:51.496875Z",
     "shell.execute_reply": "2025-08-05T16:23:51.495809Z"
    },
    "papermill": {
     "duration": 0.022879,
     "end_time": "2025-08-05T16:23:51.498604",
     "exception": false,
     "start_time": "2025-08-05T16:23:51.475725",
     "status": "completed"
    },
    "tags": []
   },
   "outputs": [],
   "source": [
    "X_train = siab_train.iloc[:,4:164]\n",
    "y_train = siab_train.iloc[:, [3]]"
   ]
  },
  {
   "cell_type": "code",
   "execution_count": 16,
   "id": "828c96af-f43a-4ed6-ba47-8ac73a47d56c",
   "metadata": {
    "execution": {
     "iopub.execute_input": "2025-08-05T16:23:51.524591Z",
     "iopub.status.busy": "2025-08-05T16:23:51.524189Z",
     "iopub.status.idle": "2025-08-05T16:23:51.578678Z",
     "shell.execute_reply": "2025-08-05T16:23:51.577563Z"
    },
    "papermill": {
     "duration": 0.069038,
     "end_time": "2025-08-05T16:23:51.580146",
     "exception": false,
     "start_time": "2025-08-05T16:23:51.511108",
     "status": "completed"
    },
    "tags": []
   },
   "outputs": [],
   "source": [
    "X_calib = siab_calib.iloc[:,4:164]\n",
    "y_calib = siab_calib.iloc[:, [3]]"
   ]
  },
  {
   "cell_type": "code",
   "execution_count": 17,
   "id": "c34be9c3-6bd6-476e-acd3-845840e303be",
   "metadata": {
    "execution": {
     "iopub.execute_input": "2025-08-05T16:23:51.604762Z",
     "iopub.status.busy": "2025-08-05T16:23:51.604197Z",
     "iopub.status.idle": "2025-08-05T16:23:51.660787Z",
     "shell.execute_reply": "2025-08-05T16:23:51.659688Z"
    },
    "papermill": {
     "duration": 0.070349,
     "end_time": "2025-08-05T16:23:51.662579",
     "exception": false,
     "start_time": "2025-08-05T16:23:51.592230",
     "status": "completed"
    },
    "tags": []
   },
   "outputs": [],
   "source": [
    "X_test = siab_test.iloc[:,4:164]\n",
    "y_true = siab_test.iloc[:, [3]]"
   ]
  },
  {
   "cell_type": "code",
   "execution_count": 18,
   "id": "e6c733c5",
   "metadata": {
    "execution": {
     "iopub.execute_input": "2025-08-05T16:23:51.687858Z",
     "iopub.status.busy": "2025-08-05T16:23:51.687421Z",
     "iopub.status.idle": "2025-08-05T16:23:51.799143Z",
     "shell.execute_reply": "2025-08-05T16:23:51.797959Z"
    },
    "papermill": {
     "duration": 0.12612,
     "end_time": "2025-08-05T16:23:51.801190",
     "exception": false,
     "start_time": "2025-08-05T16:23:51.675070",
     "status": "completed"
    },
    "tags": []
   },
   "outputs": [],
   "source": [
    "# Auxiliary data needed downstream in the pipeline\n",
    "\n",
    "org_train = X_train.copy()\n",
    "org_test = X_test.copy()\n",
    "org_calib = X_calib.copy()"
   ]
  },
  {
   "cell_type": "markdown",
   "id": "0a4a1b33",
   "metadata": {
    "papermill": {
     "duration": 0.022856,
     "end_time": "2025-08-05T16:23:51.849126",
     "exception": false,
     "start_time": "2025-08-05T16:23:51.826270",
     "status": "completed"
    },
    "tags": []
   },
   "source": [
    "# Preprocessing Data"
   ]
  },
  {
   "cell_type": "code",
   "execution_count": 19,
   "id": "ca879031",
   "metadata": {
    "execution": {
     "iopub.execute_input": "2025-08-05T16:23:51.888660Z",
     "iopub.status.busy": "2025-08-05T16:23:51.887607Z",
     "iopub.status.idle": "2025-08-05T16:23:51.896717Z",
     "shell.execute_reply": "2025-08-05T16:23:51.895219Z"
    },
    "papermill": {
     "duration": 0.036448,
     "end_time": "2025-08-05T16:23:51.899012",
     "exception": false,
     "start_time": "2025-08-05T16:23:51.862564",
     "status": "completed"
    },
    "tags": []
   },
   "outputs": [],
   "source": [
    "# EXCLUDE PROTECTED FEATURES\n",
    "# ----------------------\n",
    "# \"exclude_features\": \"none\", # \"nationality\", \"sex\", \"nationality-sex\"\n",
    "\n",
    "excluded_features = universe[\"exclude_features\"].split(\"-\") # split, e.g.: \"nationality-sex\" -> [\"nationality\", \"sex\"]\n",
    "excluded_features_dictionary = {\n",
    "    \"nationality\": [\"maxdeutsch1\", \"maxdeutsch.Missing.\"],\n",
    "    \"sex\": [\"frau1\"],\n",
    "    \"age\": [\"age\"],\n",
    "}"
   ]
  },
  {
   "cell_type": "code",
   "execution_count": 20,
   "id": "b745ac60",
   "metadata": {
    "execution": {
     "iopub.execute_input": "2025-08-05T16:23:51.940323Z",
     "iopub.status.busy": "2025-08-05T16:23:51.939763Z",
     "iopub.status.idle": "2025-08-05T16:23:51.946392Z",
     "shell.execute_reply": "2025-08-05T16:23:51.945491Z"
    },
    "papermill": {
     "duration": 0.024008,
     "end_time": "2025-08-05T16:23:51.947979",
     "exception": false,
     "start_time": "2025-08-05T16:23:51.923971",
     "status": "completed"
    },
    "tags": []
   },
   "outputs": [],
   "source": [
    "# Code nice names to column names\n",
    "\n",
    "excluded_features_columns = [\n",
    "    excluded_features_dictionary[f] for f in excluded_features if len(f) > 0 and f != \"none\"\n",
    "]"
   ]
  },
  {
   "cell_type": "code",
   "execution_count": 21,
   "id": "f84f73a2",
   "metadata": {
    "execution": {
     "iopub.execute_input": "2025-08-05T16:23:51.973447Z",
     "iopub.status.busy": "2025-08-05T16:23:51.973034Z",
     "iopub.status.idle": "2025-08-05T16:23:51.979828Z",
     "shell.execute_reply": "2025-08-05T16:23:51.978846Z"
    },
    "papermill": {
     "duration": 0.020876,
     "end_time": "2025-08-05T16:23:51.981563",
     "exception": false,
     "start_time": "2025-08-05T16:23:51.960687",
     "status": "completed"
    },
    "tags": []
   },
   "outputs": [],
   "source": [
    "from utils import flatten_once\n",
    "\n",
    "excluded_features_columns = flatten_once(excluded_features_columns)"
   ]
  },
  {
   "cell_type": "code",
   "execution_count": 22,
   "id": "884dea22",
   "metadata": {
    "execution": {
     "iopub.execute_input": "2025-08-05T16:23:52.006707Z",
     "iopub.status.busy": "2025-08-05T16:23:52.006003Z",
     "iopub.status.idle": "2025-08-05T16:23:52.014236Z",
     "shell.execute_reply": "2025-08-05T16:23:52.013357Z"
    },
    "papermill": {
     "duration": 0.022201,
     "end_time": "2025-08-05T16:23:52.015933",
     "exception": false,
     "start_time": "2025-08-05T16:23:51.993732",
     "status": "completed"
    },
    "tags": []
   },
   "outputs": [
    {
     "name": "stdout",
     "output_type": "stream",
     "text": [
      "Dropping features: ['maxdeutsch1', 'maxdeutsch.Missing.']\n"
     ]
    }
   ],
   "source": [
    "if len(excluded_features_columns) > 0:\n",
    "    print(f\"Dropping features: {excluded_features_columns}\")\n",
    "    X_train.drop(excluded_features_columns, axis=1, inplace=True)"
   ]
  },
  {
   "cell_type": "code",
   "execution_count": 23,
   "id": "95ab8b16",
   "metadata": {
    "execution": {
     "iopub.execute_input": "2025-08-05T16:23:52.041505Z",
     "iopub.status.busy": "2025-08-05T16:23:52.041101Z",
     "iopub.status.idle": "2025-08-05T16:23:52.095232Z",
     "shell.execute_reply": "2025-08-05T16:23:52.094085Z"
    },
    "papermill": {
     "duration": 0.06883,
     "end_time": "2025-08-05T16:23:52.097143",
     "exception": false,
     "start_time": "2025-08-05T16:23:52.028313",
     "status": "completed"
    },
    "tags": []
   },
   "outputs": [
    {
     "name": "stdout",
     "output_type": "stream",
     "text": [
      "Dropping features: ['maxdeutsch1', 'maxdeutsch.Missing.']\n"
     ]
    }
   ],
   "source": [
    "if len(excluded_features_columns) > 0:\n",
    "    print(f\"Dropping features: {excluded_features_columns}\")\n",
    "    X_test.drop(excluded_features_columns, axis=1, inplace=True)"
   ]
  },
  {
   "cell_type": "code",
   "execution_count": 24,
   "id": "1853aaf5-fb9f-46cb-a2b5-8ea4ae2237e4",
   "metadata": {
    "execution": {
     "iopub.execute_input": "2025-08-05T16:23:52.123463Z",
     "iopub.status.busy": "2025-08-05T16:23:52.122890Z",
     "iopub.status.idle": "2025-08-05T16:23:52.178093Z",
     "shell.execute_reply": "2025-08-05T16:23:52.177156Z"
    },
    "papermill": {
     "duration": 0.069788,
     "end_time": "2025-08-05T16:23:52.179727",
     "exception": false,
     "start_time": "2025-08-05T16:23:52.109939",
     "status": "completed"
    },
    "tags": []
   },
   "outputs": [
    {
     "name": "stdout",
     "output_type": "stream",
     "text": [
      "Dropping features: ['maxdeutsch1', 'maxdeutsch.Missing.']\n"
     ]
    }
   ],
   "source": [
    "if len(excluded_features_columns) > 0:\n",
    "    print(f\"Dropping features: {excluded_features_columns}\")\n",
    "    X_calib.drop(excluded_features_columns, axis=1, inplace=True)"
   ]
  },
  {
   "cell_type": "code",
   "execution_count": 25,
   "id": "76c4dc6d",
   "metadata": {
    "execution": {
     "iopub.execute_input": "2025-08-05T16:23:52.206189Z",
     "iopub.status.busy": "2025-08-05T16:23:52.205594Z",
     "iopub.status.idle": "2025-08-05T16:23:52.211216Z",
     "shell.execute_reply": "2025-08-05T16:23:52.210309Z"
    },
    "papermill": {
     "duration": 0.020119,
     "end_time": "2025-08-05T16:23:52.212827",
     "exception": false,
     "start_time": "2025-08-05T16:23:52.192708",
     "status": "completed"
    },
    "tags": []
   },
   "outputs": [],
   "source": [
    "# EXCLUDE CERTAIN SUBGROUPS\n",
    "# ----------------------\n",
    "\n",
    "mode = universe.get(\"exclude_subgroups\", \"keep-all\") \n",
    "# Fetches the exclude_subgroups setting from the universe dict.\n",
    "# Defaults to \"keep-all\" if the key is missing."
   ]
  },
  {
   "cell_type": "code",
   "execution_count": 26,
   "id": "21994072",
   "metadata": {
    "execution": {
     "iopub.execute_input": "2025-08-05T16:23:52.239432Z",
     "iopub.status.busy": "2025-08-05T16:23:52.238730Z",
     "iopub.status.idle": "2025-08-05T16:23:52.245890Z",
     "shell.execute_reply": "2025-08-05T16:23:52.244953Z"
    },
    "papermill": {
     "duration": 0.022184,
     "end_time": "2025-08-05T16:23:52.247680",
     "exception": false,
     "start_time": "2025-08-05T16:23:52.225496",
     "status": "completed"
    },
    "tags": []
   },
   "outputs": [],
   "source": [
    "if mode == \"keep-all\":\n",
    "    keep_mask = pd.Series(True, index=org_train.index)\n",
    "\n",
    "# org_train contains the original feature columns from features_org (in Simson)\n",
    "# features_org contains unprocessed features, for me X_train at beginning ???\n",
    "# For keep-all, creates a boolean Series (keep_mask) of all True, so no rows are removed.\n",
    "\n",
    "elif mode == \"drop-non-german\":\n",
    "    keep_mask = org_train[\"maxdeutsch1\"] == 1 # ??? what about missing values?\n",
    "\n",
    "else:\n",
    "    raise ValueError(f\"Unsupported mode for exclude_subgroups: {mode}\")"
   ]
  },
  {
   "cell_type": "code",
   "execution_count": 27,
   "id": "71651440",
   "metadata": {
    "execution": {
     "iopub.execute_input": "2025-08-05T16:23:52.274299Z",
     "iopub.status.busy": "2025-08-05T16:23:52.273878Z",
     "iopub.status.idle": "2025-08-05T16:23:52.281153Z",
     "shell.execute_reply": "2025-08-05T16:23:52.279959Z"
    },
    "papermill": {
     "duration": 0.0224,
     "end_time": "2025-08-05T16:23:52.282856",
     "exception": false,
     "start_time": "2025-08-05T16:23:52.260456",
     "status": "completed"
    },
    "tags": []
   },
   "outputs": [
    {
     "name": "stdout",
     "output_type": "stream",
     "text": [
      "Dropping 147 rows (14.70%) where mode='drop-non-german'\n"
     ]
    }
   ],
   "source": [
    "n_drop = (~keep_mask).sum() # Calculates how many rows are set to be dropped\n",
    "if n_drop > 0:\n",
    "    pct = n_drop / len(keep_mask) * 100\n",
    "    print(f\"Dropping {n_drop} rows ({pct:.2f}%) where mode='{mode}'\")"
   ]
  },
  {
   "cell_type": "code",
   "execution_count": 28,
   "id": "5fb8eee5",
   "metadata": {
    "execution": {
     "iopub.execute_input": "2025-08-05T16:23:52.308935Z",
     "iopub.status.busy": "2025-08-05T16:23:52.308510Z",
     "iopub.status.idle": "2025-08-05T16:23:52.315170Z",
     "shell.execute_reply": "2025-08-05T16:23:52.314286Z"
    },
    "papermill": {
     "duration": 0.02116,
     "end_time": "2025-08-05T16:23:52.316811",
     "exception": false,
     "start_time": "2025-08-05T16:23:52.295651",
     "status": "completed"
    },
    "tags": []
   },
   "outputs": [],
   "source": [
    "X_train = X_train[keep_mask]"
   ]
  },
  {
   "cell_type": "code",
   "execution_count": 29,
   "id": "b202bb3a",
   "metadata": {
    "execution": {
     "iopub.execute_input": "2025-08-05T16:23:52.343821Z",
     "iopub.status.busy": "2025-08-05T16:23:52.342976Z",
     "iopub.status.idle": "2025-08-05T16:23:52.348962Z",
     "shell.execute_reply": "2025-08-05T16:23:52.348023Z"
    },
    "papermill": {
     "duration": 0.021039,
     "end_time": "2025-08-05T16:23:52.350551",
     "exception": false,
     "start_time": "2025-08-05T16:23:52.329512",
     "status": "completed"
    },
    "tags": []
   },
   "outputs": [],
   "source": [
    "y_train = y_train[keep_mask]"
   ]
  },
  {
   "cell_type": "markdown",
   "id": "493e2ac3",
   "metadata": {
    "papermill": {
     "duration": 0.012013,
     "end_time": "2025-08-05T16:23:52.375420",
     "exception": false,
     "start_time": "2025-08-05T16:23:52.363407",
     "status": "completed"
    },
    "tags": []
   },
   "source": [
    "# Model Training"
   ]
  },
  {
   "cell_type": "code",
   "execution_count": 30,
   "id": "679e1268",
   "metadata": {
    "execution": {
     "iopub.execute_input": "2025-08-05T16:23:52.401232Z",
     "iopub.status.busy": "2025-08-05T16:23:52.400432Z",
     "iopub.status.idle": "2025-08-05T16:23:52.483262Z",
     "shell.execute_reply": "2025-08-05T16:23:52.482273Z"
    },
    "papermill": {
     "duration": 0.097674,
     "end_time": "2025-08-05T16:23:52.485058",
     "exception": false,
     "start_time": "2025-08-05T16:23:52.387384",
     "status": "completed"
    },
    "tags": []
   },
   "outputs": [],
   "source": [
    "from sklearn.linear_model import LogisticRegression\n",
    "from sklearn.ensemble import GradientBoostingClassifier, RandomForestClassifier\n",
    "\n",
    "if (universe[\"model\"] == \"logreg\"):\n",
    "    model = LogisticRegression() #penalty=\"none\", solver=\"newton-cg\", max_iter=1) # include random_state=19 ?\n",
    "elif (universe[\"model\"] == \"penalized_logreg\"):\n",
    "    model = LogisticRegression(penalty=\"l2\", C=0.1) #, solver=\"newton-cg\", max_iter=1)\n",
    "elif (universe[\"model\"] == \"rf\"):\n",
    "    model = RandomForestClassifier() # n_estimators=100, n_jobs=-1\n",
    "elif (universe[\"model\"] == \"gbm\"):\n",
    "    model = GradientBoostingClassifier()\n",
    "elif (universe[\"model\"] == \"elasticnet\"):\n",
    "    model = LogisticRegression(penalty = 'elasticnet', solver = 'saga', l1_ratio = 0.5) # max_iter=5000\n",
    "else:\n",
    "    raise \"Unsupported universe.model\""
   ]
  },
  {
   "cell_type": "code",
   "execution_count": 31,
   "id": "0cc8f744",
   "metadata": {
    "execution": {
     "iopub.execute_input": "2025-08-05T16:23:52.511968Z",
     "iopub.status.busy": "2025-08-05T16:23:52.511446Z",
     "iopub.status.idle": "2025-08-05T16:23:52.518050Z",
     "shell.execute_reply": "2025-08-05T16:23:52.517002Z"
    },
    "papermill": {
     "duration": 0.021409,
     "end_time": "2025-08-05T16:23:52.519788",
     "exception": false,
     "start_time": "2025-08-05T16:23:52.498379",
     "status": "completed"
    },
    "tags": []
   },
   "outputs": [],
   "source": [
    "import numpy as np\n",
    "from sklearn.pipeline import Pipeline\n",
    "from sklearn.preprocessing import StandardScaler\n",
    "\n",
    "model = Pipeline([\n",
    "    #(\"continuous_processor\", continuous_processor),\n",
    "    #(\"categorical_preprocessor\", categorical_preprocessor),\n",
    "    (\"scale\", StandardScaler() if universe[\"scale\"] == \"scale\" else None), \n",
    "    (\"model\", model),\n",
    "])"
   ]
  },
  {
   "cell_type": "code",
   "execution_count": 32,
   "id": "9442c04d",
   "metadata": {
    "execution": {
     "iopub.execute_input": "2025-08-05T16:23:52.547059Z",
     "iopub.status.busy": "2025-08-05T16:23:52.546219Z",
     "iopub.status.idle": "2025-08-05T16:23:52.603487Z",
     "shell.execute_reply": "2025-08-05T16:23:52.602409Z"
    },
    "papermill": {
     "duration": 0.072204,
     "end_time": "2025-08-05T16:23:52.605483",
     "exception": false,
     "start_time": "2025-08-05T16:23:52.533279",
     "status": "completed"
    },
    "tags": []
   },
   "outputs": [
    {
     "name": "stderr",
     "output_type": "stream",
     "text": [
      "/dss/dsshome1/0C/ra93lal2/.local/share/virtualenvs/CMA_Fairness_v2-3j10GkSs/lib/python3.10/site-packages/sklearn/linear_model/_logistic.py:444: ConvergenceWarning: lbfgs failed to converge (status=1):\n",
      "STOP: TOTAL NO. of ITERATIONS REACHED LIMIT.\n",
      "\n",
      "Increase the number of iterations (max_iter) or scale the data as shown in:\n",
      "    https://scikit-learn.org/stable/modules/preprocessing.html\n",
      "Please also refer to the documentation for alternative solver options:\n",
      "    https://scikit-learn.org/stable/modules/linear_model.html#logistic-regression\n",
      "  n_iter_i = _check_optimize_result(\n"
     ]
    },
    {
     "data": {
      "text/html": [
       "<style>#sk-container-id-1 {color: black;background-color: white;}#sk-container-id-1 pre{padding: 0;}#sk-container-id-1 div.sk-toggleable {background-color: white;}#sk-container-id-1 label.sk-toggleable__label {cursor: pointer;display: block;width: 100%;margin-bottom: 0;padding: 0.3em;box-sizing: border-box;text-align: center;}#sk-container-id-1 label.sk-toggleable__label-arrow:before {content: \"▸\";float: left;margin-right: 0.25em;color: #696969;}#sk-container-id-1 label.sk-toggleable__label-arrow:hover:before {color: black;}#sk-container-id-1 div.sk-estimator:hover label.sk-toggleable__label-arrow:before {color: black;}#sk-container-id-1 div.sk-toggleable__content {max-height: 0;max-width: 0;overflow: hidden;text-align: left;background-color: #f0f8ff;}#sk-container-id-1 div.sk-toggleable__content pre {margin: 0.2em;color: black;border-radius: 0.25em;background-color: #f0f8ff;}#sk-container-id-1 input.sk-toggleable__control:checked~div.sk-toggleable__content {max-height: 200px;max-width: 100%;overflow: auto;}#sk-container-id-1 input.sk-toggleable__control:checked~label.sk-toggleable__label-arrow:before {content: \"▾\";}#sk-container-id-1 div.sk-estimator input.sk-toggleable__control:checked~label.sk-toggleable__label {background-color: #d4ebff;}#sk-container-id-1 div.sk-label input.sk-toggleable__control:checked~label.sk-toggleable__label {background-color: #d4ebff;}#sk-container-id-1 input.sk-hidden--visually {border: 0;clip: rect(1px 1px 1px 1px);clip: rect(1px, 1px, 1px, 1px);height: 1px;margin: -1px;overflow: hidden;padding: 0;position: absolute;width: 1px;}#sk-container-id-1 div.sk-estimator {font-family: monospace;background-color: #f0f8ff;border: 1px dotted black;border-radius: 0.25em;box-sizing: border-box;margin-bottom: 0.5em;}#sk-container-id-1 div.sk-estimator:hover {background-color: #d4ebff;}#sk-container-id-1 div.sk-parallel-item::after {content: \"\";width: 100%;border-bottom: 1px solid gray;flex-grow: 1;}#sk-container-id-1 div.sk-label:hover label.sk-toggleable__label {background-color: #d4ebff;}#sk-container-id-1 div.sk-serial::before {content: \"\";position: absolute;border-left: 1px solid gray;box-sizing: border-box;top: 0;bottom: 0;left: 50%;z-index: 0;}#sk-container-id-1 div.sk-serial {display: flex;flex-direction: column;align-items: center;background-color: white;padding-right: 0.2em;padding-left: 0.2em;position: relative;}#sk-container-id-1 div.sk-item {position: relative;z-index: 1;}#sk-container-id-1 div.sk-parallel {display: flex;align-items: stretch;justify-content: center;background-color: white;position: relative;}#sk-container-id-1 div.sk-item::before, #sk-container-id-1 div.sk-parallel-item::before {content: \"\";position: absolute;border-left: 1px solid gray;box-sizing: border-box;top: 0;bottom: 0;left: 50%;z-index: -1;}#sk-container-id-1 div.sk-parallel-item {display: flex;flex-direction: column;z-index: 1;position: relative;background-color: white;}#sk-container-id-1 div.sk-parallel-item:first-child::after {align-self: flex-end;width: 50%;}#sk-container-id-1 div.sk-parallel-item:last-child::after {align-self: flex-start;width: 50%;}#sk-container-id-1 div.sk-parallel-item:only-child::after {width: 0;}#sk-container-id-1 div.sk-dashed-wrapped {border: 1px dashed gray;margin: 0 0.4em 0.5em 0.4em;box-sizing: border-box;padding-bottom: 0.4em;background-color: white;}#sk-container-id-1 div.sk-label label {font-family: monospace;font-weight: bold;display: inline-block;line-height: 1.2em;}#sk-container-id-1 div.sk-label-container {text-align: center;}#sk-container-id-1 div.sk-container {/* jupyter's `normalize.less` sets `[hidden] { display: none; }` but bootstrap.min.css set `[hidden] { display: none !important; }` so we also need the `!important` here to be able to override the default hidden behavior on the sphinx rendered scikit-learn.org. See: https://github.com/scikit-learn/scikit-learn/issues/21755 */display: inline-block !important;position: relative;}#sk-container-id-1 div.sk-text-repr-fallback {display: none;}</style><div id=\"sk-container-id-1\" class=\"sk-top-container\"><div class=\"sk-text-repr-fallback\"><pre>Pipeline(steps=[(&#x27;scale&#x27;, None), (&#x27;model&#x27;, LogisticRegression())])</pre><b>In a Jupyter environment, please rerun this cell to show the HTML representation or trust the notebook. <br />On GitHub, the HTML representation is unable to render, please try loading this page with nbviewer.org.</b></div><div class=\"sk-container\" hidden><div class=\"sk-item sk-dashed-wrapped\"><div class=\"sk-label-container\"><div class=\"sk-label sk-toggleable\"><input class=\"sk-toggleable__control sk-hidden--visually\" id=\"sk-estimator-id-1\" type=\"checkbox\" ><label for=\"sk-estimator-id-1\" class=\"sk-toggleable__label sk-toggleable__label-arrow\">Pipeline</label><div class=\"sk-toggleable__content\"><pre>Pipeline(steps=[(&#x27;scale&#x27;, None), (&#x27;model&#x27;, LogisticRegression())])</pre></div></div></div><div class=\"sk-serial\"><div class=\"sk-item\"><div class=\"sk-estimator sk-toggleable\"><input class=\"sk-toggleable__control sk-hidden--visually\" id=\"sk-estimator-id-2\" type=\"checkbox\" ><label for=\"sk-estimator-id-2\" class=\"sk-toggleable__label sk-toggleable__label-arrow\">None</label><div class=\"sk-toggleable__content\"><pre>None</pre></div></div></div><div class=\"sk-item\"><div class=\"sk-estimator sk-toggleable\"><input class=\"sk-toggleable__control sk-hidden--visually\" id=\"sk-estimator-id-3\" type=\"checkbox\" ><label for=\"sk-estimator-id-3\" class=\"sk-toggleable__label sk-toggleable__label-arrow\">LogisticRegression</label><div class=\"sk-toggleable__content\"><pre>LogisticRegression()</pre></div></div></div></div></div></div></div>"
      ],
      "text/plain": [
       "Pipeline(steps=[('scale', None), ('model', LogisticRegression())])"
      ]
     },
     "execution_count": 32,
     "metadata": {},
     "output_type": "execute_result"
    }
   ],
   "source": [
    "model.fit(X_train, y_train.values.ravel())"
   ]
  },
  {
   "cell_type": "code",
   "execution_count": 33,
   "id": "af59f8c0",
   "metadata": {
    "execution": {
     "iopub.execute_input": "2025-08-05T16:23:52.632239Z",
     "iopub.status.busy": "2025-08-05T16:23:52.631373Z",
     "iopub.status.idle": "2025-08-05T16:23:52.637486Z",
     "shell.execute_reply": "2025-08-05T16:23:52.636504Z"
    },
    "papermill": {
     "duration": 0.020819,
     "end_time": "2025-08-05T16:23:52.639165",
     "exception": false,
     "start_time": "2025-08-05T16:23:52.618346",
     "status": "completed"
    },
    "tags": []
   },
   "outputs": [],
   "source": [
    "from fairness_multiverse.universe import predict_w_threshold"
   ]
  },
  {
   "cell_type": "code",
   "execution_count": 34,
   "id": "a7cf2e16",
   "metadata": {
    "execution": {
     "iopub.execute_input": "2025-08-05T16:23:52.665667Z",
     "iopub.status.busy": "2025-08-05T16:23:52.664830Z",
     "iopub.status.idle": "2025-08-05T16:23:52.758540Z",
     "shell.execute_reply": "2025-08-05T16:23:52.757550Z"
    },
    "papermill": {
     "duration": 0.108241,
     "end_time": "2025-08-05T16:23:52.760156",
     "exception": false,
     "start_time": "2025-08-05T16:23:52.651915",
     "status": "completed"
    },
    "tags": []
   },
   "outputs": [
    {
     "data": {
      "text/plain": [
       "0.8609853973915952"
      ]
     },
     "execution_count": 34,
     "metadata": {},
     "output_type": "execute_result"
    }
   ],
   "source": [
    "probs_test = model.predict_proba(X_test)\n",
    "\n",
    "'''\n",
    "Below code returns a boolean array (or binary 0/1 array depending on how it’s used) where each element \n",
    "is True if the probability of class 1 is greater than or equal to the threshold, and False otherwise.\n",
    "'''\n",
    "y_pred_default = predict_w_threshold(probs_test, 0.5)\n",
    "\n",
    "from sklearn.metrics import accuracy_score\n",
    "\n",
    "# Naive prediction\n",
    "accuracy_score(y_true = y_true, y_pred = y_pred_default)"
   ]
  },
  {
   "cell_type": "code",
   "execution_count": 35,
   "id": "081964c3",
   "metadata": {
    "execution": {
     "iopub.execute_input": "2025-08-05T16:23:52.787188Z",
     "iopub.status.busy": "2025-08-05T16:23:52.786387Z",
     "iopub.status.idle": "2025-08-05T16:23:52.875584Z",
     "shell.execute_reply": "2025-08-05T16:23:52.874458Z"
    },
    "papermill": {
     "duration": 0.104477,
     "end_time": "2025-08-05T16:23:52.877327",
     "exception": false,
     "start_time": "2025-08-05T16:23:52.772850",
     "status": "completed"
    },
    "tags": []
   },
   "outputs": [
    {
     "data": {
      "text/plain": [
       "array([0, 0, 0, ..., 0, 0, 0])"
      ]
     },
     "execution_count": 35,
     "metadata": {},
     "output_type": "execute_result"
    }
   ],
   "source": [
    "model.predict(X_test)"
   ]
  },
  {
   "cell_type": "markdown",
   "id": "56c9705b",
   "metadata": {
    "papermill": {
     "duration": 0.019328,
     "end_time": "2025-08-05T16:23:52.924717",
     "exception": false,
     "start_time": "2025-08-05T16:23:52.905389",
     "status": "completed"
    },
    "tags": []
   },
   "source": [
    "# Conformal Prediction"
   ]
  },
  {
   "cell_type": "code",
   "execution_count": 36,
   "id": "160ec6ff",
   "metadata": {
    "execution": {
     "iopub.execute_input": "2025-08-05T16:23:52.951474Z",
     "iopub.status.busy": "2025-08-05T16:23:52.951154Z",
     "iopub.status.idle": "2025-08-05T16:23:52.956061Z",
     "shell.execute_reply": "2025-08-05T16:23:52.955031Z"
    },
    "papermill": {
     "duration": 0.019876,
     "end_time": "2025-08-05T16:23:52.957838",
     "exception": false,
     "start_time": "2025-08-05T16:23:52.937962",
     "status": "completed"
    },
    "tags": []
   },
   "outputs": [],
   "source": [
    "# Miscoverage level for conformal prediction (10% allowed error rate => 90% target coverage)\n",
    "alpha = 0.1"
   ]
  },
  {
   "cell_type": "code",
   "execution_count": 37,
   "id": "eadf4555-3dd3-440e-8e35-f82a4ad9f855",
   "metadata": {
    "execution": {
     "iopub.execute_input": "2025-08-05T16:23:52.984962Z",
     "iopub.status.busy": "2025-08-05T16:23:52.984675Z",
     "iopub.status.idle": "2025-08-05T16:23:53.067581Z",
     "shell.execute_reply": "2025-08-05T16:23:53.066658Z"
    },
    "papermill": {
     "duration": 0.098064,
     "end_time": "2025-08-05T16:23:53.069392",
     "exception": false,
     "start_time": "2025-08-05T16:23:52.971328",
     "status": "completed"
    },
    "tags": []
   },
   "outputs": [],
   "source": [
    "probs_calib = model.predict_proba(X_calib)"
   ]
  },
  {
   "cell_type": "code",
   "execution_count": 38,
   "id": "2ed93547-6d5d-4983-9b36-1ecb300da49a",
   "metadata": {
    "execution": {
     "iopub.execute_input": "2025-08-05T16:23:53.098855Z",
     "iopub.status.busy": "2025-08-05T16:23:53.097911Z",
     "iopub.status.idle": "2025-08-05T16:23:53.104037Z",
     "shell.execute_reply": "2025-08-05T16:23:53.103244Z"
    },
    "papermill": {
     "duration": 0.022528,
     "end_time": "2025-08-05T16:23:53.105809",
     "exception": false,
     "start_time": "2025-08-05T16:23:53.083281",
     "status": "completed"
    },
    "tags": []
   },
   "outputs": [],
   "source": [
    "y_calib = y_calib.values.ravel().astype(int)"
   ]
  },
  {
   "cell_type": "code",
   "execution_count": 39,
   "id": "65d1320d-f588-4b38-9072-62af1ae97f7d",
   "metadata": {
    "execution": {
     "iopub.execute_input": "2025-08-05T16:23:53.135251Z",
     "iopub.status.busy": "2025-08-05T16:23:53.134431Z",
     "iopub.status.idle": "2025-08-05T16:23:53.141850Z",
     "shell.execute_reply": "2025-08-05T16:23:53.140858Z"
    },
    "papermill": {
     "duration": 0.023615,
     "end_time": "2025-08-05T16:23:53.143444",
     "exception": false,
     "start_time": "2025-08-05T16:23:53.119829",
     "status": "completed"
    },
    "tags": []
   },
   "outputs": [],
   "source": [
    "from fairness_multiverse.conformal import compute_nc_scores\n",
    "\n",
    "# Compute nonconformity scores on calibration set (1 - probability of true class)\n",
    "nc_scores = compute_nc_scores(probs_calib, y_calib)"
   ]
  },
  {
   "cell_type": "code",
   "execution_count": 40,
   "id": "df3b8ca3-53b7-43d5-9667-7c85da7aeda2",
   "metadata": {
    "execution": {
     "iopub.execute_input": "2025-08-05T16:23:53.173250Z",
     "iopub.status.busy": "2025-08-05T16:23:53.172411Z",
     "iopub.status.idle": "2025-08-05T16:23:53.179056Z",
     "shell.execute_reply": "2025-08-05T16:23:53.178158Z"
    },
    "papermill": {
     "duration": 0.022802,
     "end_time": "2025-08-05T16:23:53.180613",
     "exception": false,
     "start_time": "2025-08-05T16:23:53.157811",
     "status": "completed"
    },
    "tags": []
   },
   "outputs": [],
   "source": [
    "from fairness_multiverse.conformal import find_threshold\n",
    "\n",
    "# Find conformal threshold q_hat for the given alpha (split conformal method)\n",
    "q_hat = find_threshold(nc_scores, alpha)"
   ]
  },
  {
   "cell_type": "code",
   "execution_count": 41,
   "id": "4d29e6c1-0ef6-4aa4-b8fe-4fe79b0d033a",
   "metadata": {
    "execution": {
     "iopub.execute_input": "2025-08-05T16:23:53.210390Z",
     "iopub.status.busy": "2025-08-05T16:23:53.209491Z",
     "iopub.status.idle": "2025-08-05T16:23:53.217061Z",
     "shell.execute_reply": "2025-08-05T16:23:53.216149Z"
    },
    "papermill": {
     "duration": 0.023935,
     "end_time": "2025-08-05T16:23:53.218669",
     "exception": false,
     "start_time": "2025-08-05T16:23:53.194734",
     "status": "completed"
    },
    "tags": []
   },
   "outputs": [
    {
     "data": {
      "text/plain": [
       "0.6947777675276768"
      ]
     },
     "execution_count": 41,
     "metadata": {},
     "output_type": "execute_result"
    }
   ],
   "source": [
    "q_hat"
   ]
  },
  {
   "cell_type": "code",
   "execution_count": 42,
   "id": "92460794-cdac-4be2-ba28-f28c0515a6fb",
   "metadata": {
    "execution": {
     "iopub.execute_input": "2025-08-05T16:23:53.248971Z",
     "iopub.status.busy": "2025-08-05T16:23:53.248260Z",
     "iopub.status.idle": "2025-08-05T16:23:54.360328Z",
     "shell.execute_reply": "2025-08-05T16:23:54.359210Z"
    },
    "papermill": {
     "duration": 1.129077,
     "end_time": "2025-08-05T16:23:54.362135",
     "exception": false,
     "start_time": "2025-08-05T16:23:53.233058",
     "status": "completed"
    },
    "tags": []
   },
   "outputs": [],
   "source": [
    "from fairness_multiverse.conformal import predict_conformal_sets\n",
    "\n",
    "# Generate prediction sets for each test example\n",
    "pred_sets = predict_conformal_sets(model, X_test, q_hat)"
   ]
  },
  {
   "cell_type": "code",
   "execution_count": 43,
   "id": "d90c9a65-e6db-4f5d-80cd-e68fb7e46829",
   "metadata": {
    "execution": {
     "iopub.execute_input": "2025-08-05T16:23:54.417561Z",
     "iopub.status.busy": "2025-08-05T16:23:54.416875Z",
     "iopub.status.idle": "2025-08-05T16:23:54.423266Z",
     "shell.execute_reply": "2025-08-05T16:23:54.422279Z"
    },
    "papermill": {
     "duration": 0.040453,
     "end_time": "2025-08-05T16:23:54.427148",
     "exception": false,
     "start_time": "2025-08-05T16:23:54.386695",
     "status": "completed"
    },
    "tags": []
   },
   "outputs": [],
   "source": [
    "y_true = y_true.squeeze()"
   ]
  },
  {
   "cell_type": "code",
   "execution_count": 44,
   "id": "3a58a54a-1e68-46b9-927a-df01f18aebc8",
   "metadata": {
    "execution": {
     "iopub.execute_input": "2025-08-05T16:23:54.480431Z",
     "iopub.status.busy": "2025-08-05T16:23:54.479606Z",
     "iopub.status.idle": "2025-08-05T16:23:55.801965Z",
     "shell.execute_reply": "2025-08-05T16:23:55.800340Z"
    },
    "papermill": {
     "duration": 1.351413,
     "end_time": "2025-08-05T16:23:55.804717",
     "exception": false,
     "start_time": "2025-08-05T16:23:54.453304",
     "status": "completed"
    },
    "tags": []
   },
   "outputs": [],
   "source": [
    "from fairness_multiverse.conformal import evaluate_sets\n",
    "\n",
    "# Evaluate coverage and average set size on test data\n",
    "metrics = evaluate_sets(pred_sets, y_true)"
   ]
  },
  {
   "cell_type": "markdown",
   "id": "2b569c12-9aaa-4c88-98c9-bbcd0cf3ebb8",
   "metadata": {
    "papermill": {
     "duration": 0.032637,
     "end_time": "2025-08-05T16:23:55.868853",
     "exception": false,
     "start_time": "2025-08-05T16:23:55.836216",
     "status": "completed"
    },
    "tags": []
   },
   "source": [
    "# CP Metrics"
   ]
  },
  {
   "cell_type": "code",
   "execution_count": 45,
   "id": "5ce0a5cb-201f-45a0-ade5-94c7f0bd6095",
   "metadata": {
    "execution": {
     "iopub.execute_input": "2025-08-05T16:23:55.941730Z",
     "iopub.status.busy": "2025-08-05T16:23:55.941078Z",
     "iopub.status.idle": "2025-08-05T16:23:55.950127Z",
     "shell.execute_reply": "2025-08-05T16:23:55.948952Z"
    },
    "papermill": {
     "duration": 0.04929,
     "end_time": "2025-08-05T16:23:55.952518",
     "exception": false,
     "start_time": "2025-08-05T16:23:55.903228",
     "status": "completed"
    },
    "tags": []
   },
   "outputs": [
    {
     "data": {
      "text/plain": [
       "{'coverage': 0.9124289376881061, 'avg_size': 1.2294727455133208}"
      ]
     },
     "execution_count": 45,
     "metadata": {},
     "output_type": "execute_result"
    }
   ],
   "source": [
    "metrics"
   ]
  },
  {
   "cell_type": "code",
   "execution_count": 46,
   "id": "9b9a838d-31c9-430b-ae14-12baee460d17",
   "metadata": {
    "execution": {
     "iopub.execute_input": "2025-08-05T16:23:56.009131Z",
     "iopub.status.busy": "2025-08-05T16:23:56.008573Z",
     "iopub.status.idle": "2025-08-05T16:23:56.016196Z",
     "shell.execute_reply": "2025-08-05T16:23:56.015119Z"
    },
    "papermill": {
     "duration": 0.03788,
     "end_time": "2025-08-05T16:23:56.018009",
     "exception": false,
     "start_time": "2025-08-05T16:23:55.980129",
     "status": "completed"
    },
    "tags": []
   },
   "outputs": [],
   "source": [
    "example_universe = universe.copy()\n",
    "universe_training_year = example_universe.get(\"training_year\")\n",
    "universe_training_size = example_universe.get(\"training_size\")\n",
    "universe_scale = example_universe.get(\"scale\")\n",
    "universe_model = example_universe.get(\"model\")\n",
    "universe_exclude_features = example_universe.get(\"exclude_features\")\n",
    "universe_exclude_subgroups = example_universe.get(\"exclude_subgroups\")"
   ]
  },
  {
   "cell_type": "code",
   "execution_count": 47,
   "id": "f4b6a8ac-9dc0-4245-8a91-5b3b5999c4f9",
   "metadata": {
    "execution": {
     "iopub.execute_input": "2025-08-05T16:23:56.073761Z",
     "iopub.status.busy": "2025-08-05T16:23:56.072761Z",
     "iopub.status.idle": "2025-08-05T16:23:56.080958Z",
     "shell.execute_reply": "2025-08-05T16:23:56.079815Z"
    },
    "papermill": {
     "duration": 0.038606,
     "end_time": "2025-08-05T16:23:56.082792",
     "exception": false,
     "start_time": "2025-08-05T16:23:56.044186",
     "status": "completed"
    },
    "tags": []
   },
   "outputs": [],
   "source": [
    "cp_metrics_dict = {\n",
    "    \"universe_id\": [universe_id],\n",
    "    \"universe_training_year\": [universe_training_year],\n",
    "    \"universe_training_size\": [universe_training_size],\n",
    "    \"universe_scale\": [universe_scale],\n",
    "    \"universe_model\": [universe_model],\n",
    "    \"universe_exclude_features\": [universe_exclude_features],\n",
    "    \"universe_exclude_subgroups\": [universe_exclude_subgroups],\n",
    "    \"q_hat\": [q_hat],\n",
    "    \"coverage\": [metrics[\"coverage\"]],\n",
    "    \"avg_size\": [metrics[\"avg_size\"]],\n",
    "}"
   ]
  },
  {
   "cell_type": "code",
   "execution_count": 48,
   "id": "908acbb1-0371-4915-85ca-3fa520d2efe2",
   "metadata": {
    "execution": {
     "iopub.execute_input": "2025-08-05T16:23:56.134855Z",
     "iopub.status.busy": "2025-08-05T16:23:56.133819Z",
     "iopub.status.idle": "2025-08-05T16:23:56.143210Z",
     "shell.execute_reply": "2025-08-05T16:23:56.142069Z"
    },
    "papermill": {
     "duration": 0.036617,
     "end_time": "2025-08-05T16:23:56.145167",
     "exception": false,
     "start_time": "2025-08-05T16:23:56.108550",
     "status": "completed"
    },
    "tags": []
   },
   "outputs": [
    {
     "data": {
      "text/plain": [
       "{'universe_id': ['f5a0c96c78f8dedbb1206fc7edda9acf'],\n",
       " 'universe_training_year': ['2012_14'],\n",
       " 'universe_training_size': ['1k'],\n",
       " 'universe_scale': ['do-not-scale'],\n",
       " 'universe_model': ['logreg'],\n",
       " 'universe_exclude_features': ['nationality'],\n",
       " 'universe_exclude_subgroups': ['drop-non-german'],\n",
       " 'q_hat': [0.6947777675276768],\n",
       " 'coverage': [0.9124289376881061],\n",
       " 'avg_size': [1.2294727455133208]}"
      ]
     },
     "execution_count": 48,
     "metadata": {},
     "output_type": "execute_result"
    }
   ],
   "source": [
    "cp_metrics_dict"
   ]
  },
  {
   "cell_type": "code",
   "execution_count": 49,
   "id": "33007efc-14e9-4ec6-97ac-56a455c82265",
   "metadata": {
    "execution": {
     "iopub.execute_input": "2025-08-05T16:23:56.204672Z",
     "iopub.status.busy": "2025-08-05T16:23:56.203754Z",
     "iopub.status.idle": "2025-08-05T16:23:56.213419Z",
     "shell.execute_reply": "2025-08-05T16:23:56.211847Z"
    },
    "papermill": {
     "duration": 0.041867,
     "end_time": "2025-08-05T16:23:56.216132",
     "exception": false,
     "start_time": "2025-08-05T16:23:56.174265",
     "status": "completed"
    },
    "tags": []
   },
   "outputs": [],
   "source": [
    "cp_metrics_df = pd.DataFrame(cp_metrics_dict)"
   ]
  },
  {
   "cell_type": "code",
   "execution_count": 50,
   "id": "db12611b-57b2-4910-b9d0-355adfd6e7bf",
   "metadata": {
    "execution": {
     "iopub.execute_input": "2025-08-05T16:23:56.276239Z",
     "iopub.status.busy": "2025-08-05T16:23:56.275161Z",
     "iopub.status.idle": "2025-08-05T16:23:56.305631Z",
     "shell.execute_reply": "2025-08-05T16:23:56.304359Z"
    },
    "papermill": {
     "duration": 0.063261,
     "end_time": "2025-08-05T16:23:56.307920",
     "exception": false,
     "start_time": "2025-08-05T16:23:56.244659",
     "status": "completed"
    },
    "tags": []
   },
   "outputs": [
    {
     "data": {
      "text/html": [
       "<div>\n",
       "<style scoped>\n",
       "    .dataframe tbody tr th:only-of-type {\n",
       "        vertical-align: middle;\n",
       "    }\n",
       "\n",
       "    .dataframe tbody tr th {\n",
       "        vertical-align: top;\n",
       "    }\n",
       "\n",
       "    .dataframe thead th {\n",
       "        text-align: right;\n",
       "    }\n",
       "</style>\n",
       "<table border=\"1\" class=\"dataframe\">\n",
       "  <thead>\n",
       "    <tr style=\"text-align: right;\">\n",
       "      <th></th>\n",
       "      <th>universe_id</th>\n",
       "      <th>universe_training_year</th>\n",
       "      <th>universe_training_size</th>\n",
       "      <th>universe_scale</th>\n",
       "      <th>universe_model</th>\n",
       "      <th>universe_exclude_features</th>\n",
       "      <th>universe_exclude_subgroups</th>\n",
       "      <th>q_hat</th>\n",
       "      <th>coverage</th>\n",
       "      <th>avg_size</th>\n",
       "    </tr>\n",
       "  </thead>\n",
       "  <tbody>\n",
       "    <tr>\n",
       "      <th>0</th>\n",
       "      <td>f5a0c96c78f8dedbb1206fc7edda9acf</td>\n",
       "      <td>2012_14</td>\n",
       "      <td>1k</td>\n",
       "      <td>do-not-scale</td>\n",
       "      <td>logreg</td>\n",
       "      <td>nationality</td>\n",
       "      <td>drop-non-german</td>\n",
       "      <td>0.694778</td>\n",
       "      <td>0.912429</td>\n",
       "      <td>1.229473</td>\n",
       "    </tr>\n",
       "  </tbody>\n",
       "</table>\n",
       "</div>"
      ],
      "text/plain": [
       "                        universe_id universe_training_year  \\\n",
       "0  f5a0c96c78f8dedbb1206fc7edda9acf                2012_14   \n",
       "\n",
       "  universe_training_size universe_scale universe_model  \\\n",
       "0                     1k   do-not-scale         logreg   \n",
       "\n",
       "  universe_exclude_features universe_exclude_subgroups     q_hat  coverage  \\\n",
       "0               nationality            drop-non-german  0.694778  0.912429   \n",
       "\n",
       "   avg_size  \n",
       "0  1.229473  "
      ]
     },
     "execution_count": 50,
     "metadata": {},
     "output_type": "execute_result"
    }
   ],
   "source": [
    "cp_metrics_df"
   ]
  },
  {
   "cell_type": "code",
   "execution_count": 51,
   "id": "b7fbde55-a0a1-47e4-9af6-fe4a17fa8c61",
   "metadata": {
    "execution": {
     "iopub.execute_input": "2025-08-05T16:23:56.366132Z",
     "iopub.status.busy": "2025-08-05T16:23:56.365666Z",
     "iopub.status.idle": "2025-08-05T16:23:56.373089Z",
     "shell.execute_reply": "2025-08-05T16:23:56.371703Z"
    },
    "papermill": {
     "duration": 0.038393,
     "end_time": "2025-08-05T16:23:56.375036",
     "exception": false,
     "start_time": "2025-08-05T16:23:56.336643",
     "status": "completed"
    },
    "tags": []
   },
   "outputs": [],
   "source": [
    "# Conditional Coverage & looking at subgroups"
   ]
  },
  {
   "cell_type": "code",
   "execution_count": 52,
   "id": "027ae886-68dd-4141-96c7-805a5450e1ef",
   "metadata": {
    "execution": {
     "iopub.execute_input": "2025-08-05T16:23:56.433829Z",
     "iopub.status.busy": "2025-08-05T16:23:56.433087Z",
     "iopub.status.idle": "2025-08-05T16:23:56.873145Z",
     "shell.execute_reply": "2025-08-05T16:23:56.871778Z"
    },
    "papermill": {
     "duration": 0.473249,
     "end_time": "2025-08-05T16:23:56.875672",
     "exception": false,
     "start_time": "2025-08-05T16:23:56.402423",
     "status": "completed"
    },
    "tags": []
   },
   "outputs": [],
   "source": [
    "from fairness_multiverse.conformal import build_cp_groups\n",
    "\n",
    "cp_groups_df = build_cp_groups(pred_sets, y_true, X_test.index, org_test)\n",
    "#needs universe_id and setting"
   ]
  },
  {
   "cell_type": "code",
   "execution_count": 53,
   "id": "6cbdab96-b2b2-45af-ad54-d0516db2e28d",
   "metadata": {
    "execution": {
     "iopub.execute_input": "2025-08-05T16:23:56.936321Z",
     "iopub.status.busy": "2025-08-05T16:23:56.935524Z",
     "iopub.status.idle": "2025-08-05T16:23:58.766991Z",
     "shell.execute_reply": "2025-08-05T16:23:58.766151Z"
    },
    "papermill": {
     "duration": 1.864224,
     "end_time": "2025-08-05T16:23:58.769000",
     "exception": false,
     "start_time": "2025-08-05T16:23:56.904776",
     "status": "completed"
    },
    "tags": []
   },
   "outputs": [],
   "source": [
    "# Define covered = 1 if true_label is in the predicted set\n",
    "cp_groups_df['covered'] = cp_groups_df.apply(\n",
    "    lambda r: int(r['true_label'] in r['pred_set']),\n",
    "    axis=1\n",
    ")"
   ]
  },
  {
   "cell_type": "code",
   "execution_count": 54,
   "id": "338ff529-1a6b-4b87-a931-8e4788d52aad",
   "metadata": {
    "execution": {
     "iopub.execute_input": "2025-08-05T16:23:58.835902Z",
     "iopub.status.busy": "2025-08-05T16:23:58.835365Z",
     "iopub.status.idle": "2025-08-05T16:23:58.842106Z",
     "shell.execute_reply": "2025-08-05T16:23:58.840908Z"
    },
    "papermill": {
     "duration": 0.038737,
     "end_time": "2025-08-05T16:23:58.844126",
     "exception": false,
     "start_time": "2025-08-05T16:23:58.805389",
     "status": "completed"
    },
    "tags": []
   },
   "outputs": [],
   "source": [
    "#cp_groups_df"
   ]
  },
  {
   "cell_type": "code",
   "execution_count": 55,
   "id": "90032e27-66df-4540-9169-4e89cfbaa758",
   "metadata": {
    "execution": {
     "iopub.execute_input": "2025-08-05T16:23:58.901600Z",
     "iopub.status.busy": "2025-08-05T16:23:58.900630Z",
     "iopub.status.idle": "2025-08-05T16:23:58.914152Z",
     "shell.execute_reply": "2025-08-05T16:23:58.912894Z"
    },
    "papermill": {
     "duration": 0.044413,
     "end_time": "2025-08-05T16:23:58.916402",
     "exception": false,
     "start_time": "2025-08-05T16:23:58.871989",
     "status": "completed"
    },
    "tags": []
   },
   "outputs": [],
   "source": [
    "subgroups = ['frau1','nongerman','nongerman_male','nongerman_female']\n",
    "\n",
    "# Conditional coverage for subgroup==1\n",
    "cond_coverage = {\n",
    "    g: cp_groups_df.loc[cp_groups_df[g]==1, 'covered'].mean()\n",
    "    for g in subgroups\n",
    "}"
   ]
  },
  {
   "cell_type": "code",
   "execution_count": 56,
   "id": "1e348fb1-b9c3-45bc-ba23-f016827a7e0d",
   "metadata": {
    "execution": {
     "iopub.execute_input": "2025-08-05T16:23:58.986390Z",
     "iopub.status.busy": "2025-08-05T16:23:58.985448Z",
     "iopub.status.idle": "2025-08-05T16:23:58.994435Z",
     "shell.execute_reply": "2025-08-05T16:23:58.993094Z"
    },
    "papermill": {
     "duration": 0.043847,
     "end_time": "2025-08-05T16:23:58.996605",
     "exception": false,
     "start_time": "2025-08-05T16:23:58.952758",
     "status": "completed"
    },
    "tags": []
   },
   "outputs": [
    {
     "data": {
      "text/plain": [
       "{'frau1': 0.9114166329694029,\n",
       " 'nongerman': 0.9409981474204233,\n",
       " 'nongerman_male': 0.951634693326128,\n",
       " 'nongerman_female': 0.923397913561848}"
      ]
     },
     "execution_count": 56,
     "metadata": {},
     "output_type": "execute_result"
    }
   ],
   "source": [
    "cond_coverage"
   ]
  },
  {
   "cell_type": "code",
   "execution_count": 57,
   "id": "f5093324-c3dd-4d63-bc4c-8d945e5c8bbb",
   "metadata": {
    "execution": {
     "iopub.execute_input": "2025-08-05T16:23:59.060828Z",
     "iopub.status.busy": "2025-08-05T16:23:59.060267Z",
     "iopub.status.idle": "2025-08-05T16:23:59.069031Z",
     "shell.execute_reply": "2025-08-05T16:23:59.067950Z"
    },
    "papermill": {
     "duration": 0.039043,
     "end_time": "2025-08-05T16:23:59.071033",
     "exception": false,
     "start_time": "2025-08-05T16:23:59.031990",
     "status": "completed"
    },
    "tags": []
   },
   "outputs": [],
   "source": [
    "for subgroup, cov in cond_coverage.items():\n",
    "    cp_metrics_df[f\"cov_{subgroup}\"] = cov"
   ]
  },
  {
   "cell_type": "code",
   "execution_count": 58,
   "id": "6e872e10-dbe5-49e8-b554-5030c98ff75d",
   "metadata": {
    "execution": {
     "iopub.execute_input": "2025-08-05T16:23:59.131648Z",
     "iopub.status.busy": "2025-08-05T16:23:59.130612Z",
     "iopub.status.idle": "2025-08-05T16:23:59.149846Z",
     "shell.execute_reply": "2025-08-05T16:23:59.148883Z"
    },
    "papermill": {
     "duration": 0.05085,
     "end_time": "2025-08-05T16:23:59.151419",
     "exception": false,
     "start_time": "2025-08-05T16:23:59.100569",
     "status": "completed"
    },
    "tags": []
   },
   "outputs": [
    {
     "data": {
      "text/html": [
       "<div>\n",
       "<style scoped>\n",
       "    .dataframe tbody tr th:only-of-type {\n",
       "        vertical-align: middle;\n",
       "    }\n",
       "\n",
       "    .dataframe tbody tr th {\n",
       "        vertical-align: top;\n",
       "    }\n",
       "\n",
       "    .dataframe thead th {\n",
       "        text-align: right;\n",
       "    }\n",
       "</style>\n",
       "<table border=\"1\" class=\"dataframe\">\n",
       "  <thead>\n",
       "    <tr style=\"text-align: right;\">\n",
       "      <th></th>\n",
       "      <th>universe_id</th>\n",
       "      <th>universe_training_year</th>\n",
       "      <th>universe_training_size</th>\n",
       "      <th>universe_scale</th>\n",
       "      <th>universe_model</th>\n",
       "      <th>universe_exclude_features</th>\n",
       "      <th>universe_exclude_subgroups</th>\n",
       "      <th>q_hat</th>\n",
       "      <th>coverage</th>\n",
       "      <th>avg_size</th>\n",
       "      <th>cov_frau1</th>\n",
       "      <th>cov_nongerman</th>\n",
       "      <th>cov_nongerman_male</th>\n",
       "      <th>cov_nongerman_female</th>\n",
       "    </tr>\n",
       "  </thead>\n",
       "  <tbody>\n",
       "    <tr>\n",
       "      <th>0</th>\n",
       "      <td>f5a0c96c78f8dedbb1206fc7edda9acf</td>\n",
       "      <td>2012_14</td>\n",
       "      <td>1k</td>\n",
       "      <td>do-not-scale</td>\n",
       "      <td>logreg</td>\n",
       "      <td>nationality</td>\n",
       "      <td>drop-non-german</td>\n",
       "      <td>0.694778</td>\n",
       "      <td>0.912429</td>\n",
       "      <td>1.229473</td>\n",
       "      <td>0.911417</td>\n",
       "      <td>0.940998</td>\n",
       "      <td>0.951635</td>\n",
       "      <td>0.923398</td>\n",
       "    </tr>\n",
       "  </tbody>\n",
       "</table>\n",
       "</div>"
      ],
      "text/plain": [
       "                        universe_id universe_training_year  \\\n",
       "0  f5a0c96c78f8dedbb1206fc7edda9acf                2012_14   \n",
       "\n",
       "  universe_training_size universe_scale universe_model  \\\n",
       "0                     1k   do-not-scale         logreg   \n",
       "\n",
       "  universe_exclude_features universe_exclude_subgroups     q_hat  coverage  \\\n",
       "0               nationality            drop-non-german  0.694778  0.912429   \n",
       "\n",
       "   avg_size  cov_frau1  cov_nongerman  cov_nongerman_male  \\\n",
       "0  1.229473   0.911417       0.940998            0.951635   \n",
       "\n",
       "   cov_nongerman_female  \n",
       "0              0.923398  "
      ]
     },
     "execution_count": 58,
     "metadata": {},
     "output_type": "execute_result"
    }
   ],
   "source": [
    "cp_metrics_df"
   ]
  },
  {
   "cell_type": "markdown",
   "id": "33774451",
   "metadata": {
    "papermill": {
     "duration": 0.014785,
     "end_time": "2025-08-05T16:23:59.181796",
     "exception": false,
     "start_time": "2025-08-05T16:23:59.167011",
     "status": "completed"
    },
    "tags": []
   },
   "source": [
    "# (Fairness) Metrics"
   ]
  },
  {
   "cell_type": "code",
   "execution_count": 59,
   "id": "debc5d62",
   "metadata": {
    "execution": {
     "iopub.execute_input": "2025-08-05T16:23:59.235755Z",
     "iopub.status.busy": "2025-08-05T16:23:59.235131Z",
     "iopub.status.idle": "2025-08-05T16:23:59.261662Z",
     "shell.execute_reply": "2025-08-05T16:23:59.260550Z"
    },
    "papermill": {
     "duration": 0.061713,
     "end_time": "2025-08-05T16:23:59.266851",
     "exception": false,
     "start_time": "2025-08-05T16:23:59.205138",
     "status": "completed"
    },
    "tags": []
   },
   "outputs": [],
   "source": [
    "# do I need to include maxdeutsch1.missing?\n",
    "\n",
    "import numpy as np\n",
    "\n",
    "colname_to_bin = \"maxdeutsch1\"\n",
    "majority_value = org_train[colname_to_bin].mode()[0]\n",
    "\n",
    "org_test[\"majmin\"] = np.where(org_test[colname_to_bin] == majority_value, \"majority\", \"minority\")"
   ]
  },
  {
   "cell_type": "code",
   "execution_count": 60,
   "id": "06a50de5",
   "metadata": {
    "execution": {
     "iopub.execute_input": "2025-08-05T16:23:59.322135Z",
     "iopub.status.busy": "2025-08-05T16:23:59.321676Z",
     "iopub.status.idle": "2025-08-05T16:24:01.694868Z",
     "shell.execute_reply": "2025-08-05T16:24:01.693936Z"
    },
    "papermill": {
     "duration": 2.40009,
     "end_time": "2025-08-05T16:24:01.696605",
     "exception": false,
     "start_time": "2025-08-05T16:23:59.296515",
     "status": "completed"
    },
    "tags": []
   },
   "outputs": [],
   "source": [
    "example_universe = universe.copy()\n",
    "example_universe[\"cutoff\"] = example_universe[\"cutoff\"][0]\n",
    "example_universe[\"eval_fairness_grouping\"] = example_universe[\"eval_fairness_grouping\"][0]\n",
    "fairness_dict, metric_frame = universe_analysis.compute_metrics(\n",
    "    example_universe,\n",
    "    y_pred_prob=probs_test,\n",
    "    y_test=y_true,\n",
    "    org_test=org_test,\n",
    ")"
   ]
  },
  {
   "cell_type": "markdown",
   "id": "f95d4e02",
   "metadata": {
    "papermill": {
     "duration": 0.011682,
     "end_time": "2025-08-05T16:24:01.724167",
     "exception": false,
     "start_time": "2025-08-05T16:24:01.712485",
     "status": "completed"
    },
    "tags": []
   },
   "source": [
    "# Overall"
   ]
  },
  {
   "cell_type": "markdown",
   "id": "bdee4871",
   "metadata": {
    "papermill": {
     "duration": 0.011693,
     "end_time": "2025-08-05T16:24:01.749022",
     "exception": false,
     "start_time": "2025-08-05T16:24:01.737329",
     "status": "completed"
    },
    "tags": []
   },
   "source": [
    "Fairness\n",
    "Main fairness target: Equalized Odds. Seems to be a better fit than equal opportunity, since we're not only interested in Y = 1. Seems to be a better fit than demographic parity, since we also care about accuracy, not just equal distribution of preds.\n",
    "\n",
    "Pick column for computation of fairness metrics\n",
    "\n",
    "Performance\n",
    "Overall performance measures, most interesting in relation to the measures split by group below"
   ]
  },
  {
   "cell_type": "code",
   "execution_count": 61,
   "id": "c4e067c6",
   "metadata": {
    "execution": {
     "iopub.execute_input": "2025-08-05T16:24:01.773824Z",
     "iopub.status.busy": "2025-08-05T16:24:01.773112Z",
     "iopub.status.idle": "2025-08-05T16:24:01.780617Z",
     "shell.execute_reply": "2025-08-05T16:24:01.779771Z"
    },
    "papermill": {
     "duration": 0.021878,
     "end_time": "2025-08-05T16:24:01.782201",
     "exception": false,
     "start_time": "2025-08-05T16:24:01.760323",
     "status": "completed"
    },
    "tags": []
   },
   "outputs": [
    {
     "data": {
      "text/plain": [
       "accuracy                   0.212741\n",
       "balanced accuracy          0.522618\n",
       "f1                         0.234392\n",
       "precision                  0.133901\n",
       "false positive rate        0.894197\n",
       "false negative rate        0.060567\n",
       "selection rate             0.900000\n",
       "count                  89710.000000\n",
       "dtype: float64"
      ]
     },
     "execution_count": 61,
     "metadata": {},
     "output_type": "execute_result"
    }
   ],
   "source": [
    "metric_frame.overall"
   ]
  },
  {
   "cell_type": "markdown",
   "id": "e968fe9d",
   "metadata": {
    "papermill": {
     "duration": 0.011577,
     "end_time": "2025-08-05T16:24:01.806689",
     "exception": false,
     "start_time": "2025-08-05T16:24:01.795112",
     "status": "completed"
    },
    "tags": []
   },
   "source": [
    "By Group"
   ]
  },
  {
   "cell_type": "code",
   "execution_count": 62,
   "id": "ec325bce",
   "metadata": {
    "execution": {
     "iopub.execute_input": "2025-08-05T16:24:01.831695Z",
     "iopub.status.busy": "2025-08-05T16:24:01.831041Z",
     "iopub.status.idle": "2025-08-05T16:24:01.843039Z",
     "shell.execute_reply": "2025-08-05T16:24:01.842114Z"
    },
    "papermill": {
     "duration": 0.026009,
     "end_time": "2025-08-05T16:24:01.844498",
     "exception": false,
     "start_time": "2025-08-05T16:24:01.818489",
     "status": "completed"
    },
    "tags": []
   },
   "outputs": [
    {
     "data": {
      "text/html": [
       "<div>\n",
       "<style scoped>\n",
       "    .dataframe tbody tr th:only-of-type {\n",
       "        vertical-align: middle;\n",
       "    }\n",
       "\n",
       "    .dataframe tbody tr th {\n",
       "        vertical-align: top;\n",
       "    }\n",
       "\n",
       "    .dataframe thead th {\n",
       "        text-align: right;\n",
       "    }\n",
       "</style>\n",
       "<table border=\"1\" class=\"dataframe\">\n",
       "  <thead>\n",
       "    <tr style=\"text-align: right;\">\n",
       "      <th></th>\n",
       "      <th>accuracy</th>\n",
       "      <th>balanced accuracy</th>\n",
       "      <th>f1</th>\n",
       "      <th>precision</th>\n",
       "      <th>false positive rate</th>\n",
       "      <th>false negative rate</th>\n",
       "      <th>selection rate</th>\n",
       "      <th>count</th>\n",
       "    </tr>\n",
       "    <tr>\n",
       "      <th>majmin</th>\n",
       "      <th></th>\n",
       "      <th></th>\n",
       "      <th></th>\n",
       "      <th></th>\n",
       "      <th></th>\n",
       "      <th></th>\n",
       "      <th></th>\n",
       "      <th></th>\n",
       "    </tr>\n",
       "  </thead>\n",
       "  <tbody>\n",
       "    <tr>\n",
       "      <th>majority</th>\n",
       "      <td>0.231748</td>\n",
       "      <td>0.527337</td>\n",
       "      <td>0.242200</td>\n",
       "      <td>0.139250</td>\n",
       "      <td>0.874429</td>\n",
       "      <td>0.070897</td>\n",
       "      <td>0.881654</td>\n",
       "      <td>69170.0</td>\n",
       "    </tr>\n",
       "    <tr>\n",
       "      <th>minority</th>\n",
       "      <td>0.148734</td>\n",
       "      <td>0.509905</td>\n",
       "      <td>0.209646</td>\n",
       "      <td>0.117388</td>\n",
       "      <td>0.959498</td>\n",
       "      <td>0.020693</td>\n",
       "      <td>0.961782</td>\n",
       "      <td>20540.0</td>\n",
       "    </tr>\n",
       "  </tbody>\n",
       "</table>\n",
       "</div>"
      ],
      "text/plain": [
       "          accuracy  balanced accuracy        f1  precision  \\\n",
       "majmin                                                       \n",
       "majority  0.231748           0.527337  0.242200   0.139250   \n",
       "minority  0.148734           0.509905  0.209646   0.117388   \n",
       "\n",
       "          false positive rate  false negative rate  selection rate    count  \n",
       "majmin                                                                       \n",
       "majority             0.874429             0.070897        0.881654  69170.0  \n",
       "minority             0.959498             0.020693        0.961782  20540.0  "
      ]
     },
     "execution_count": 62,
     "metadata": {},
     "output_type": "execute_result"
    }
   ],
   "source": [
    "metric_frame.by_group"
   ]
  },
  {
   "cell_type": "code",
   "execution_count": 63,
   "id": "a9ddbe63",
   "metadata": {
    "execution": {
     "iopub.execute_input": "2025-08-05T16:24:01.870275Z",
     "iopub.status.busy": "2025-08-05T16:24:01.869733Z",
     "iopub.status.idle": "2025-08-05T16:24:04.123641Z",
     "shell.execute_reply": "2025-08-05T16:24:04.122469Z"
    },
    "papermill": {
     "duration": 2.268375,
     "end_time": "2025-08-05T16:24:04.125722",
     "exception": false,
     "start_time": "2025-08-05T16:24:01.857347",
     "status": "completed"
    },
    "tags": []
   },
   "outputs": [
    {
     "data": {
      "text/plain": [
       "array([[<Axes: title={'center': 'accuracy'}, xlabel='majmin'>,\n",
       "        <Axes: title={'center': 'balanced accuracy'}, xlabel='majmin'>,\n",
       "        <Axes: title={'center': 'f1'}, xlabel='majmin'>],\n",
       "       [<Axes: title={'center': 'precision'}, xlabel='majmin'>,\n",
       "        <Axes: title={'center': 'false positive rate'}, xlabel='majmin'>,\n",
       "        <Axes: title={'center': 'false negative rate'}, xlabel='majmin'>],\n",
       "       [<Axes: title={'center': 'selection rate'}, xlabel='majmin'>,\n",
       "        <Axes: title={'center': 'count'}, xlabel='majmin'>,\n",
       "        <Axes: xlabel='majmin'>]], dtype=object)"
      ]
     },
     "execution_count": 63,
     "metadata": {},
     "output_type": "execute_result"
    },
    {
     "data": {
      "image/png": "[encoded data removed]",
      "text/plain": [
       "<Figure size 1200x800 with 9 Axes>"
      ]
     },
     "metadata": {},
     "output_type": "display_data"
    }
   ],
   "source": [
    "# In a graphic\n",
    "metric_frame.by_group.plot.bar(\n",
    "    subplots=True,\n",
    "    layout=[3, 3],\n",
    "    legend=False,\n",
    "    figsize=[12, 8],\n",
    "    title=\"Show all metrics\",\n",
    ")"
   ]
  },
  {
   "cell_type": "markdown",
   "id": "f57a0bac",
   "metadata": {
    "papermill": {
     "duration": 0.028578,
     "end_time": "2025-08-05T16:24:04.185735",
     "exception": false,
     "start_time": "2025-08-05T16:24:04.157157",
     "status": "completed"
    },
    "tags": []
   },
   "source": [
    "# Final Output"
   ]
  },
  {
   "cell_type": "code",
   "execution_count": 64,
   "id": "96d280a3",
   "metadata": {
    "execution": {
     "iopub.execute_input": "2025-08-05T16:24:04.244470Z",
     "iopub.status.busy": "2025-08-05T16:24:04.243708Z",
     "iopub.status.idle": "2025-08-05T16:24:04.254559Z",
     "shell.execute_reply": "2025-08-05T16:24:04.253390Z"
    },
    "papermill": {
     "duration": 0.042306,
     "end_time": "2025-08-05T16:24:04.256368",
     "exception": false,
     "start_time": "2025-08-05T16:24:04.214062",
     "status": "completed"
    },
    "tags": []
   },
   "outputs": [
    {
     "data": {
      "text/plain": [
       "4"
      ]
     },
     "execution_count": 64,
     "metadata": {},
     "output_type": "execute_result"
    }
   ],
   "source": [
    "sub_universes = universe_analysis.generate_sub_universes()\n",
    "len(sub_universes)"
   ]
  },
  {
   "cell_type": "code",
   "execution_count": 65,
   "id": "92adf7ba",
   "metadata": {
    "execution": {
     "iopub.execute_input": "2025-08-05T16:24:04.317770Z",
     "iopub.status.busy": "2025-08-05T16:24:04.317115Z",
     "iopub.status.idle": "2025-08-05T16:24:04.325711Z",
     "shell.execute_reply": "2025-08-05T16:24:04.324502Z"
    },
    "papermill": {
     "duration": 0.042779,
     "end_time": "2025-08-05T16:24:04.327532",
     "exception": false,
     "start_time": "2025-08-05T16:24:04.284753",
     "status": "completed"
    },
    "tags": []
   },
   "outputs": [],
   "source": [
    "def filter_sub_universe_data(sub_universe, org_test):\n",
    "    # Keep all rows — no filtering\n",
    "    keep_rows_mask = np.ones(org_test.shape[0], dtype=bool)\n",
    "\n",
    "    print(f\"[INFO] Keeping all rows: {keep_rows_mask.sum()} rows retained.\")\n",
    "    return keep_rows_mask"
   ]
  },
  {
   "cell_type": "code",
   "execution_count": 66,
   "id": "4a759155",
   "metadata": {
    "execution": {
     "iopub.execute_input": "2025-08-05T16:24:04.391324Z",
     "iopub.status.busy": "2025-08-05T16:24:04.390490Z",
     "iopub.status.idle": "2025-08-05T16:24:15.651768Z",
     "shell.execute_reply": "2025-08-05T16:24:15.650503Z"
    },
    "papermill": {
     "duration": 11.294598,
     "end_time": "2025-08-05T16:24:15.653798",
     "exception": false,
     "start_time": "2025-08-05T16:24:04.359200",
     "status": "completed"
    },
    "tags": []
   },
   "outputs": [
    {
     "name": "stdout",
     "output_type": "stream",
     "text": [
      "Stopping execution_time clock.\n",
      "[INFO] Keeping all rows: 89710 rows retained.\n"
     ]
    },
    {
     "name": "stdout",
     "output_type": "stream",
     "text": [
      "[INFO] Keeping all rows: 89710 rows retained.\n"
     ]
    },
    {
     "name": "stdout",
     "output_type": "stream",
     "text": [
      "[INFO] Keeping all rows: 89710 rows retained.\n"
     ]
    },
    {
     "name": "stdout",
     "output_type": "stream",
     "text": [
      "[INFO] Keeping all rows: 89710 rows retained.\n"
     ]
    },
    {
     "data": {
      "text/html": [
       "<div>\n",
       "<style scoped>\n",
       "    .dataframe tbody tr th:only-of-type {\n",
       "        vertical-align: middle;\n",
       "    }\n",
       "\n",
       "    .dataframe tbody tr th {\n",
       "        vertical-align: top;\n",
       "    }\n",
       "\n",
       "    .dataframe thead th {\n",
       "        text-align: right;\n",
       "    }\n",
       "</style>\n",
       "<table border=\"1\" class=\"dataframe\">\n",
       "  <thead>\n",
       "    <tr style=\"text-align: right;\">\n",
       "      <th></th>\n",
       "      <th>run_no</th>\n",
       "      <th>universe_id</th>\n",
       "      <th>universe_settings</th>\n",
       "      <th>execution_time</th>\n",
       "      <th>test_size_n</th>\n",
       "      <th>test_size_frac</th>\n",
       "      <th>fair_main_equalized_odds_difference</th>\n",
       "      <th>fair_main_equalized_odds_ratio</th>\n",
       "      <th>fair_main_demographic_parity_difference</th>\n",
       "      <th>fair_main_demographic_parity_ratio</th>\n",
       "      <th>...</th>\n",
       "      <th>perf_grp_precision_0</th>\n",
       "      <th>perf_grp_precision_1</th>\n",
       "      <th>perf_grp_false positive rate_0</th>\n",
       "      <th>perf_grp_false positive rate_1</th>\n",
       "      <th>perf_grp_false negative rate_0</th>\n",
       "      <th>perf_grp_false negative rate_1</th>\n",
       "      <th>perf_grp_selection rate_0</th>\n",
       "      <th>perf_grp_selection rate_1</th>\n",
       "      <th>perf_grp_count_0</th>\n",
       "      <th>perf_grp_count_1</th>\n",
       "    </tr>\n",
       "  </thead>\n",
       "  <tbody>\n",
       "    <tr>\n",
       "      <th>0</th>\n",
       "      <td>15</td>\n",
       "      <td>f5a0c96c78f8dedbb1206fc7edda9acf</td>\n",
       "      <td>{\"cutoff\": \"quantile_0.1\", \"eval_fairness_grou...</td>\n",
       "      <td>29.050141</td>\n",
       "      <td>89710</td>\n",
       "      <td>1.0</td>\n",
       "      <td>0.085069</td>\n",
       "      <td>0.911340</td>\n",
       "      <td>0.080128</td>\n",
       "      <td>0.916688</td>\n",
       "      <td>...</td>\n",
       "      <td>NaN</td>\n",
       "      <td>NaN</td>\n",
       "      <td>NaN</td>\n",
       "      <td>NaN</td>\n",
       "      <td>NaN</td>\n",
       "      <td>NaN</td>\n",
       "      <td>NaN</td>\n",
       "      <td>NaN</td>\n",
       "      <td>NaN</td>\n",
       "      <td>NaN</td>\n",
       "    </tr>\n",
       "    <tr>\n",
       "      <th>0</th>\n",
       "      <td>15</td>\n",
       "      <td>f5a0c96c78f8dedbb1206fc7edda9acf</td>\n",
       "      <td>{\"cutoff\": \"quantile_0.1\", \"eval_fairness_grou...</td>\n",
       "      <td>29.050141</td>\n",
       "      <td>89710</td>\n",
       "      <td>1.0</td>\n",
       "      <td>0.085069</td>\n",
       "      <td>0.911340</td>\n",
       "      <td>0.080128</td>\n",
       "      <td>0.916688</td>\n",
       "      <td>...</td>\n",
       "      <td>0.117388</td>\n",
       "      <td>0.139250</td>\n",
       "      <td>0.959498</td>\n",
       "      <td>0.874429</td>\n",
       "      <td>0.020693</td>\n",
       "      <td>0.070897</td>\n",
       "      <td>0.961782</td>\n",
       "      <td>0.881654</td>\n",
       "      <td>20540.0</td>\n",
       "      <td>69170.0</td>\n",
       "    </tr>\n",
       "    <tr>\n",
       "      <th>0</th>\n",
       "      <td>15</td>\n",
       "      <td>f5a0c96c78f8dedbb1206fc7edda9acf</td>\n",
       "      <td>{\"cutoff\": \"quantile_0.25\", \"eval_fairness_gro...</td>\n",
       "      <td>29.050141</td>\n",
       "      <td>89710</td>\n",
       "      <td>1.0</td>\n",
       "      <td>0.209736</td>\n",
       "      <td>0.765774</td>\n",
       "      <td>0.195118</td>\n",
       "      <td>0.783308</td>\n",
       "      <td>...</td>\n",
       "      <td>NaN</td>\n",
       "      <td>NaN</td>\n",
       "      <td>NaN</td>\n",
       "      <td>NaN</td>\n",
       "      <td>NaN</td>\n",
       "      <td>NaN</td>\n",
       "      <td>NaN</td>\n",
       "      <td>NaN</td>\n",
       "      <td>NaN</td>\n",
       "      <td>NaN</td>\n",
       "    </tr>\n",
       "    <tr>\n",
       "      <th>0</th>\n",
       "      <td>15</td>\n",
       "      <td>f5a0c96c78f8dedbb1206fc7edda9acf</td>\n",
       "      <td>{\"cutoff\": \"quantile_0.25\", \"eval_fairness_gro...</td>\n",
       "      <td>29.050141</td>\n",
       "      <td>89710</td>\n",
       "      <td>1.0</td>\n",
       "      <td>0.209736</td>\n",
       "      <td>0.765774</td>\n",
       "      <td>0.195118</td>\n",
       "      <td>0.783308</td>\n",
       "      <td>...</td>\n",
       "      <td>0.120195</td>\n",
       "      <td>0.156271</td>\n",
       "      <td>0.895444</td>\n",
       "      <td>0.685707</td>\n",
       "      <td>0.061233</td>\n",
       "      <td>0.165864</td>\n",
       "      <td>0.900438</td>\n",
       "      <td>0.705320</td>\n",
       "      <td>20540.0</td>\n",
       "      <td>69170.0</td>\n",
       "    </tr>\n",
       "  </tbody>\n",
       "</table>\n",
       "<p>4 rows × 50 columns</p>\n",
       "</div>"
      ],
      "text/plain": [
       "  run_no                       universe_id  \\\n",
       "0     15  f5a0c96c78f8dedbb1206fc7edda9acf   \n",
       "0     15  f5a0c96c78f8dedbb1206fc7edda9acf   \n",
       "0     15  f5a0c96c78f8dedbb1206fc7edda9acf   \n",
       "0     15  f5a0c96c78f8dedbb1206fc7edda9acf   \n",
       "\n",
       "                                   universe_settings  execution_time  \\\n",
       "0  {\"cutoff\": \"quantile_0.1\", \"eval_fairness_grou...       29.050141   \n",
       "0  {\"cutoff\": \"quantile_0.1\", \"eval_fairness_grou...       29.050141   \n",
       "0  {\"cutoff\": \"quantile_0.25\", \"eval_fairness_gro...       29.050141   \n",
       "0  {\"cutoff\": \"quantile_0.25\", \"eval_fairness_gro...       29.050141   \n",
       "\n",
       "   test_size_n  test_size_frac  fair_main_equalized_odds_difference  \\\n",
       "0        89710             1.0                             0.085069   \n",
       "0        89710             1.0                             0.085069   \n",
       "0        89710             1.0                             0.209736   \n",
       "0        89710             1.0                             0.209736   \n",
       "\n",
       "   fair_main_equalized_odds_ratio  fair_main_demographic_parity_difference  \\\n",
       "0                        0.911340                                 0.080128   \n",
       "0                        0.911340                                 0.080128   \n",
       "0                        0.765774                                 0.195118   \n",
       "0                        0.765774                                 0.195118   \n",
       "\n",
       "   fair_main_demographic_parity_ratio  ...  perf_grp_precision_0  \\\n",
       "0                            0.916688  ...                   NaN   \n",
       "0                            0.916688  ...              0.117388   \n",
       "0                            0.783308  ...                   NaN   \n",
       "0                            0.783308  ...              0.120195   \n",
       "\n",
       "   perf_grp_precision_1  perf_grp_false positive rate_0  \\\n",
       "0                   NaN                             NaN   \n",
       "0              0.139250                        0.959498   \n",
       "0                   NaN                             NaN   \n",
       "0              0.156271                        0.895444   \n",
       "\n",
       "   perf_grp_false positive rate_1  perf_grp_false negative rate_0  \\\n",
       "0                             NaN                             NaN   \n",
       "0                        0.874429                        0.020693   \n",
       "0                             NaN                             NaN   \n",
       "0                        0.685707                        0.061233   \n",
       "\n",
       "   perf_grp_false negative rate_1  perf_grp_selection rate_0  \\\n",
       "0                             NaN                        NaN   \n",
       "0                        0.070897                   0.961782   \n",
       "0                             NaN                        NaN   \n",
       "0                        0.165864                   0.900438   \n",
       "\n",
       "   perf_grp_selection rate_1  perf_grp_count_0  perf_grp_count_1  \n",
       "0                        NaN               NaN               NaN  \n",
       "0                   0.881654           20540.0           69170.0  \n",
       "0                        NaN               NaN               NaN  \n",
       "0                   0.705320           20540.0           69170.0  \n",
       "\n",
       "[4 rows x 50 columns]"
      ]
     },
     "execution_count": 66,
     "metadata": {},
     "output_type": "execute_result"
    }
   ],
   "source": [
    "final_output = universe_analysis.generate_final_output(\n",
    "    y_pred_prob=probs_test,\n",
    "    y_test=y_true,\n",
    "    org_test=org_test,\n",
    "    filter_data=filter_sub_universe_data,\n",
    "    cp_metrics_df=cp_metrics_df,\n",
    "    save=True,\n",
    ")\n",
    "final_output"
   ]
  }
 ],
 "metadata": {
  "celltoolbar": "Tags",
  "kernelspec": {
   "display_name": "Python (CMA Fairness)",
   "language": "python",
   "name": "cma_fair_env"
  },
  "language_info": {
   "codemirror_mode": {
    "name": "ipython",
    "version": 3
   },
   "file_extension": ".py",
   "mimetype": "text/x-python",
   "name": "python",
   "nbconvert_exporter": "python",
   "pygments_lexer": "ipython3",
   "version": "3.10.12"
  },
  "papermill": {
   "default_parameters": {},
   "duration": 45.150679,
   "end_time": "2025-08-05T16:24:16.508960",
   "environment_variables": {},
   "exception": null,
   "input_path": "universe_analysis.ipynb",
   "output_path": "output/runs/15/notebooks/m_15-f5a0c96c78f8dedbb1206fc7edda9acf.ipynb",
   "parameters": {
    "output_dir": "output",
    "run_no": "15",
    "seed": "2023",
    "universe": "{\"cutoff\": [\"quantile_0.1\", \"quantile_0.25\"], \"eval_fairness_grouping\": [\"majority-minority\", \"nationality-all\"], \"exclude_features\": \"nationality\", \"exclude_subgroups\": \"drop-non-german\", \"model\": \"logreg\", \"scale\": \"do-not-scale\", \"training_size\": \"1k\", \"training_year\": \"2012_14\"}",
    "universe_id": "f5a0c96c78f8dedbb1206fc7edda9acf"
   },
   "start_time": "2025-08-05T16:23:31.358281",
   "version": "2.6.0"
  }
 },
 "nbformat": 4,
 "nbformat_minor": 5
}