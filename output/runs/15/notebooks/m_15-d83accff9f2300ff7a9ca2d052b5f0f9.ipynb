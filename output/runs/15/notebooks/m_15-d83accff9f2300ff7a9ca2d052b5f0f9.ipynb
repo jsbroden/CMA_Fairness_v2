{
 "cells": [
  {
   "cell_type": "code",
   "execution_count": 1,
   "id": "f159f837-637b-42ba-96b5-ec9a68c44524",
   "metadata": {
    "execution": {
     "iopub.execute_input": "2025-08-05T15:34:29.218950Z",
     "iopub.status.busy": "2025-08-05T15:34:29.218509Z",
     "iopub.status.idle": "2025-08-05T15:34:29.232358Z",
     "shell.execute_reply": "2025-08-05T15:34:29.231300Z"
    },
    "papermill": {
     "duration": 0.031539,
     "end_time": "2025-08-05T15:34:29.235027",
     "exception": false,
     "start_time": "2025-08-05T15:34:29.203488",
     "status": "completed"
    },
    "tags": []
   },
   "outputs": [
    {
     "name": "stdout",
     "output_type": "stream",
     "text": [
      "/dss/dsshome1/0C/ra93lal2/cma/CMA_Fairness_v2\n"
     ]
    },
    {
     "name": "stderr",
     "output_type": "stream",
     "text": [
      "/dss/dsshome1/0C/ra93lal2/.local/share/virtualenvs/CMA_Fairness_v2-3j10GkSs/lib/python3.10/site-packages/IPython/core/magics/osm.py:393: UserWarning: This is now an optional IPython functionality, using bookmarks requires you to install the `pickleshare` library.\n",
      "  bkms = self.shell.db.get('bookmarks', {})\n",
      "/dss/dsshome1/0C/ra93lal2/.local/share/virtualenvs/CMA_Fairness_v2-3j10GkSs/lib/python3.10/site-packages/IPython/core/magics/osm.py:417: UserWarning: This is now an optional IPython functionality, setting dhist requires you to install the `pickleshare` library.\n",
      "  self.shell.db['dhist'] = compress_dhist(dhist)[-100:]\n"
     ]
    }
   ],
   "source": [
    "%cd ~/cma/CMA_Fairness_v2"
   ]
  },
  {
   "cell_type": "markdown",
   "id": "de2603b9",
   "metadata": {
    "papermill": {
     "duration": 0.017722,
     "end_time": "2025-08-05T15:34:29.271461",
     "exception": false,
     "start_time": "2025-08-05T15:34:29.253739",
     "status": "completed"
    },
    "tags": []
   },
   "source": [
    "The following cell holds the definition of our parameters, these values can be overriden by rendering the with e.g. the following command:\n",
    "\n",
    "papermill -p alpha 0.2 -p ratio 0.3 universe_analysis.ipynb output/test_run.ipynb"
   ]
  },
  {
   "cell_type": "code",
   "execution_count": 2,
   "id": "a80968a0-40bb-4fa9-85ef-2d5eefb01975",
   "metadata": {
    "execution": {
     "iopub.execute_input": "2025-08-05T15:34:29.309467Z",
     "iopub.status.busy": "2025-08-05T15:34:29.308805Z",
     "iopub.status.idle": "2025-08-05T15:34:29.314728Z",
     "shell.execute_reply": "2025-08-05T15:34:29.313740Z"
    },
    "papermill": {
     "duration": 0.027238,
     "end_time": "2025-08-05T15:34:29.316500",
     "exception": false,
     "start_time": "2025-08-05T15:34:29.289262",
     "status": "completed"
    },
    "tags": []
   },
   "outputs": [
    {
     "name": "stdout",
     "output_type": "stream",
     "text": [
      "Current working directory: /dss/dsshome1/0C/ra93lal2/cma/CMA_Fairness_v2\n"
     ]
    }
   ],
   "source": [
    "import os\n",
    "print(\"Current working directory:\", os.getcwd())"
   ]
  },
  {
   "cell_type": "code",
   "execution_count": 3,
   "id": "2dce4c03",
   "metadata": {
    "execution": {
     "iopub.execute_input": "2025-08-05T15:34:29.341947Z",
     "iopub.status.busy": "2025-08-05T15:34:29.341453Z",
     "iopub.status.idle": "2025-08-05T15:34:29.347761Z",
     "shell.execute_reply": "2025-08-05T15:34:29.346692Z"
    },
    "papermill": {
     "duration": 0.022121,
     "end_time": "2025-08-05T15:34:29.349642",
     "exception": false,
     "start_time": "2025-08-05T15:34:29.327521",
     "status": "completed"
    },
    "tags": [
     "parameters"
    ]
   },
   "outputs": [],
   "source": [
    "run_no = 0\n",
    "universe_id = \"test\"\n",
    "universe = {\n",
    "    \"training_size\": \"25k\", # \"25k\", \"5k\", \"1k\"\n",
    "    \"training_year\": \"2014\", # \"2014\", \"2012_14\", \"2010_14\"\n",
    "    \"scale\": \"scale\", # \"scale\", \"do-not-scale\",\n",
    "    \"model\": \"elasticnet\", # \"logreg\", \"penalized_logreg\", \"rf\", \"gbm\", \"elasticnet\"\n",
    "    \"cutoff\": [\"quantile_0.15\", \"quantile_0.30\"],\n",
    "    \"exclude_features\": \"age\", # \"none\", \"nationality\", \"sex\", \"nationality-sex\", \"age\"\n",
    "    \"exclude_subgroups\": \"keep-all\", # \"keep-all\", \"drop-non-german\"\n",
    "    \"eval_fairness_grouping\": [\"majority-minority\", \"nationality-all\"]\n",
    "}\n",
    "\n",
    "output_dir=\"./output\"\n",
    "seed=0"
   ]
  },
  {
   "cell_type": "code",
   "execution_count": 4,
   "id": "116e17a8",
   "metadata": {
    "execution": {
     "iopub.execute_input": "2025-08-05T15:34:29.387871Z",
     "iopub.status.busy": "2025-08-05T15:34:29.387283Z",
     "iopub.status.idle": "2025-08-05T15:34:29.392317Z",
     "shell.execute_reply": "2025-08-05T15:34:29.391258Z"
    },
    "papermill": {
     "duration": 0.025837,
     "end_time": "2025-08-05T15:34:29.394058",
     "exception": false,
     "start_time": "2025-08-05T15:34:29.368221",
     "status": "completed"
    },
    "tags": [
     "injected-parameters"
    ]
   },
   "outputs": [],
   "source": [
    "# Parameters\n",
    "universe_id = \"d83accff9f2300ff7a9ca2d052b5f0f9\"\n",
    "run_no = \"15\"\n",
    "universe = \"{\\\"cutoff\\\": [\\\"quantile_0.1\\\", \\\"quantile_0.25\\\"], \\\"eval_fairness_grouping\\\": [\\\"majority-minority\\\", \\\"nationality-all\\\"], \\\"exclude_features\\\": \\\"nationality-sex\\\", \\\"exclude_subgroups\\\": \\\"drop-non-german\\\", \\\"model\\\": \\\"logreg\\\", \\\"scale\\\": \\\"scale\\\", \\\"training_size\\\": \\\"5k\\\", \\\"training_year\\\": \\\"2012_14\\\"}\"\n",
    "output_dir = \"output\"\n",
    "seed = \"2023\"\n"
   ]
  },
  {
   "cell_type": "code",
   "execution_count": 5,
   "id": "1650acaf",
   "metadata": {
    "execution": {
     "iopub.execute_input": "2025-08-05T15:34:29.412791Z",
     "iopub.status.busy": "2025-08-05T15:34:29.412449Z",
     "iopub.status.idle": "2025-08-05T15:34:29.416940Z",
     "shell.execute_reply": "2025-08-05T15:34:29.416243Z"
    },
    "papermill": {
     "duration": 0.015058,
     "end_time": "2025-08-05T15:34:29.418321",
     "exception": false,
     "start_time": "2025-08-05T15:34:29.403263",
     "status": "completed"
    },
    "tags": []
   },
   "outputs": [],
   "source": [
    "import json\n",
    "if isinstance(universe, str):\n",
    "    universe = json.loads(universe)"
   ]
  },
  {
   "cell_type": "code",
   "execution_count": 6,
   "id": "16620c48",
   "metadata": {
    "execution": {
     "iopub.execute_input": "2025-08-05T15:34:29.446450Z",
     "iopub.status.busy": "2025-08-05T15:34:29.446053Z",
     "iopub.status.idle": "2025-08-05T15:34:29.491147Z",
     "shell.execute_reply": "2025-08-05T15:34:29.490194Z"
    },
    "papermill": {
     "duration": 0.065149,
     "end_time": "2025-08-05T15:34:29.493030",
     "exception": false,
     "start_time": "2025-08-05T15:34:29.427881",
     "status": "completed"
    },
    "tags": []
   },
   "outputs": [],
   "source": [
    "# Auto-reload the custom package\n",
    "%load_ext autoreload\n",
    "%autoreload 1\n",
    "%aimport fairness_multiverse"
   ]
  },
  {
   "cell_type": "code",
   "execution_count": 7,
   "id": "01c5c9f3",
   "metadata": {
    "execution": {
     "iopub.execute_input": "2025-08-05T15:34:29.527395Z",
     "iopub.status.busy": "2025-08-05T15:34:29.526824Z",
     "iopub.status.idle": "2025-08-05T15:34:31.561951Z",
     "shell.execute_reply": "2025-08-05T15:34:31.560807Z"
    },
    "papermill": {
     "duration": 2.054348,
     "end_time": "2025-08-05T15:34:31.564096",
     "exception": false,
     "start_time": "2025-08-05T15:34:29.509748",
     "status": "completed"
    },
    "tags": []
   },
   "outputs": [],
   "source": [
    "from fairness_multiverse.universe import UniverseAnalysis\n",
    "\n",
    "universe_analysis = UniverseAnalysis(\n",
    "    run_no = run_no,\n",
    "    universe_id = universe_id,\n",
    "    universe = universe,\n",
    "    output_dir=output_dir,\n",
    ")"
   ]
  },
  {
   "cell_type": "code",
   "execution_count": 8,
   "id": "106241f5",
   "metadata": {
    "execution": {
     "iopub.execute_input": "2025-08-05T15:34:31.604423Z",
     "iopub.status.busy": "2025-08-05T15:34:31.603864Z",
     "iopub.status.idle": "2025-08-05T15:34:31.611628Z",
     "shell.execute_reply": "2025-08-05T15:34:31.610467Z"
    },
    "papermill": {
     "duration": 0.029089,
     "end_time": "2025-08-05T15:34:31.613719",
     "exception": false,
     "start_time": "2025-08-05T15:34:31.584630",
     "status": "completed"
    },
    "tags": []
   },
   "outputs": [
    {
     "name": "stdout",
     "output_type": "stream",
     "text": [
      "Using Seed: 2023\n"
     ]
    }
   ],
   "source": [
    "import numpy as np\n",
    "parsed_seed = int(seed)\n",
    "np.random.seed(parsed_seed)\n",
    "print(f\"Using Seed: {parsed_seed}\")"
   ]
  },
  {
   "cell_type": "markdown",
   "id": "e0ebdc57",
   "metadata": {
    "papermill": {
     "duration": 0.019115,
     "end_time": "2025-08-05T15:34:31.652942",
     "exception": false,
     "start_time": "2025-08-05T15:34:31.633827",
     "status": "completed"
    },
    "tags": []
   },
   "source": [
    "# Loading Data"
   ]
  },
  {
   "cell_type": "code",
   "execution_count": 9,
   "id": "f0496b8a",
   "metadata": {
    "execution": {
     "iopub.execute_input": "2025-08-05T15:34:31.691357Z",
     "iopub.status.busy": "2025-08-05T15:34:31.690683Z",
     "iopub.status.idle": "2025-08-05T15:34:44.287521Z",
     "shell.execute_reply": "2025-08-05T15:34:44.286635Z"
    },
    "papermill": {
     "duration": 12.618115,
     "end_time": "2025-08-05T15:34:44.289272",
     "exception": false,
     "start_time": "2025-08-05T15:34:31.671157",
     "status": "completed"
    },
    "tags": []
   },
   "outputs": [
    {
     "name": "stdout",
     "output_type": "stream",
     "text": [
      "Loading SIAB data from cache: data/siab_cached.csv.gz\n"
     ]
    },
    {
     "name": "stdout",
     "output_type": "stream",
     "text": [
      "(643690, 164)\n"
     ]
    }
   ],
   "source": [
    "from pathlib import Path\n",
    "import pandas as pd\n",
    "\n",
    "# File paths\n",
    "raw_file = Path(\"data/raw/siab.csv\")\n",
    "cache_file = Path(\"data/siab_cached.csv.gz\")\n",
    "\n",
    "# Ensure cache directory exists\n",
    "cache_file.parent.mkdir(parents=True, exist_ok=True)\n",
    "\n",
    "# Load with simple caching\n",
    "if cache_file.exists():\n",
    "    print(f\"Loading SIAB data from cache: {cache_file}\")\n",
    "    siab = pd.read_csv(cache_file, compression='gzip')\n",
    "else:\n",
    "    print(f\"Cache not found. Reading raw SIAB data: {raw_file}\")\n",
    "    siab = pd.read_csv(raw_file)\n",
    "    siab.to_csv(cache_file, index=False, compression='gzip')\n",
    "    print(f\"Cached SIAB data to: {cache_file}\")\n",
    "\n",
    "print(siab.shape)"
   ]
  },
  {
   "cell_type": "code",
   "execution_count": 10,
   "id": "db0ca512-5f53-4dba-abdb-a2888bca41ba",
   "metadata": {
    "execution": {
     "iopub.execute_input": "2025-08-05T15:34:44.347482Z",
     "iopub.status.busy": "2025-08-05T15:34:44.346765Z",
     "iopub.status.idle": "2025-08-05T15:34:44.353203Z",
     "shell.execute_reply": "2025-08-05T15:34:44.352073Z"
    },
    "papermill": {
     "duration": 0.029821,
     "end_time": "2025-08-05T15:34:44.355421",
     "exception": false,
     "start_time": "2025-08-05T15:34:44.325600",
     "status": "completed"
    },
    "tags": []
   },
   "outputs": [],
   "source": [
    "#siab"
   ]
  },
  {
   "cell_type": "markdown",
   "id": "997051c5-15bd-4b69-9786-c3001a3ce484",
   "metadata": {
    "papermill": {
     "duration": 0.026999,
     "end_time": "2025-08-05T15:34:44.409569",
     "exception": false,
     "start_time": "2025-08-05T15:34:44.382570",
     "status": "completed"
    },
    "tags": []
   },
   "source": [
    "# Splitting Data and Setting Training Data Size"
   ]
  },
  {
   "cell_type": "code",
   "execution_count": 11,
   "id": "aea9c6ef-6f46-42c8-85eb-5a62025c1508",
   "metadata": {
    "execution": {
     "iopub.execute_input": "2025-08-05T15:34:44.465766Z",
     "iopub.status.busy": "2025-08-05T15:34:44.465234Z",
     "iopub.status.idle": "2025-08-05T15:34:45.100481Z",
     "shell.execute_reply": "2025-08-05T15:34:45.099517Z"
    },
    "papermill": {
     "duration": 0.664849,
     "end_time": "2025-08-05T15:34:45.102562",
     "exception": false,
     "start_time": "2025-08-05T15:34:44.437713",
     "status": "completed"
    },
    "tags": []
   },
   "outputs": [],
   "source": [
    "from fairness_multiverse.universe import sample_by_year_size\n",
    "\n",
    "siab_train = sample_by_year_size(siab,\n",
    "                               training_year=universe[\"training_year\"],\n",
    "                               training_size=universe[\"training_size\"])"
   ]
  },
  {
   "cell_type": "code",
   "execution_count": 12,
   "id": "8d3afb32-789d-442c-8d5d-9f5aa8dd2eed",
   "metadata": {
    "execution": {
     "iopub.execute_input": "2025-08-05T15:34:45.148853Z",
     "iopub.status.busy": "2025-08-05T15:34:45.148390Z",
     "iopub.status.idle": "2025-08-05T15:34:45.153430Z",
     "shell.execute_reply": "2025-08-05T15:34:45.152436Z"
    },
    "papermill": {
     "duration": 0.026551,
     "end_time": "2025-08-05T15:34:45.155601",
     "exception": false,
     "start_time": "2025-08-05T15:34:45.129050",
     "status": "completed"
    },
    "tags": []
   },
   "outputs": [],
   "source": [
    "#siab_train.shape"
   ]
  },
  {
   "cell_type": "code",
   "execution_count": 13,
   "id": "d582db68-1a4c-47fb-84fc-08518dc1975a",
   "metadata": {
    "execution": {
     "iopub.execute_input": "2025-08-05T15:34:45.199356Z",
     "iopub.status.busy": "2025-08-05T15:34:45.198069Z",
     "iopub.status.idle": "2025-08-05T15:34:45.204427Z",
     "shell.execute_reply": "2025-08-05T15:34:45.203329Z"
    },
    "papermill": {
     "duration": 0.030024,
     "end_time": "2025-08-05T15:34:45.206161",
     "exception": false,
     "start_time": "2025-08-05T15:34:45.176137",
     "status": "completed"
    },
    "tags": []
   },
   "outputs": [],
   "source": [
    "#display(siab_train.groupby(\"year\").size())"
   ]
  },
  {
   "cell_type": "code",
   "execution_count": 14,
   "id": "a561edb4-d032-42cb-8256-22eac1111c64",
   "metadata": {
    "execution": {
     "iopub.execute_input": "2025-08-05T15:34:45.249095Z",
     "iopub.status.busy": "2025-08-05T15:34:45.248106Z",
     "iopub.status.idle": "2025-08-05T15:34:45.563702Z",
     "shell.execute_reply": "2025-08-05T15:34:45.562758Z"
    },
    "papermill": {
     "duration": 0.339274,
     "end_time": "2025-08-05T15:34:45.565660",
     "exception": false,
     "start_time": "2025-08-05T15:34:45.226386",
     "status": "completed"
    },
    "tags": []
   },
   "outputs": [],
   "source": [
    "#siab_train = siab_s[siab_s.year < 2015]\n",
    "siab_calib = siab[siab.year == 2015]\n",
    "siab_test = siab[siab.year == 2016]"
   ]
  },
  {
   "cell_type": "code",
   "execution_count": 15,
   "id": "472de16f-c3db-4916-846b-1f0de9cf1746",
   "metadata": {
    "execution": {
     "iopub.execute_input": "2025-08-05T15:34:45.603850Z",
     "iopub.status.busy": "2025-08-05T15:34:45.603063Z",
     "iopub.status.idle": "2025-08-05T15:34:45.611757Z",
     "shell.execute_reply": "2025-08-05T15:34:45.610665Z"
    },
    "papermill": {
     "duration": 0.02947,
     "end_time": "2025-08-05T15:34:45.613686",
     "exception": false,
     "start_time": "2025-08-05T15:34:45.584216",
     "status": "completed"
    },
    "tags": []
   },
   "outputs": [],
   "source": [
    "X_train = siab_train.iloc[:,4:164]\n",
    "y_train = siab_train.iloc[:, [3]]"
   ]
  },
  {
   "cell_type": "code",
   "execution_count": 16,
   "id": "828c96af-f43a-4ed6-ba47-8ac73a47d56c",
   "metadata": {
    "execution": {
     "iopub.execute_input": "2025-08-05T15:34:45.654399Z",
     "iopub.status.busy": "2025-08-05T15:34:45.654003Z",
     "iopub.status.idle": "2025-08-05T15:34:45.710676Z",
     "shell.execute_reply": "2025-08-05T15:34:45.709397Z"
    },
    "papermill": {
     "duration": 0.078621,
     "end_time": "2025-08-05T15:34:45.712448",
     "exception": false,
     "start_time": "2025-08-05T15:34:45.633827",
     "status": "completed"
    },
    "tags": []
   },
   "outputs": [],
   "source": [
    "X_calib = siab_calib.iloc[:,4:164]\n",
    "y_calib = siab_calib.iloc[:, [3]]"
   ]
  },
  {
   "cell_type": "code",
   "execution_count": 17,
   "id": "c34be9c3-6bd6-476e-acd3-845840e303be",
   "metadata": {
    "execution": {
     "iopub.execute_input": "2025-08-05T15:34:45.756866Z",
     "iopub.status.busy": "2025-08-05T15:34:45.756398Z",
     "iopub.status.idle": "2025-08-05T15:34:45.805601Z",
     "shell.execute_reply": "2025-08-05T15:34:45.804800Z"
    },
    "papermill": {
     "duration": 0.072563,
     "end_time": "2025-08-05T15:34:45.807021",
     "exception": false,
     "start_time": "2025-08-05T15:34:45.734458",
     "status": "completed"
    },
    "tags": []
   },
   "outputs": [],
   "source": [
    "X_test = siab_test.iloc[:,4:164]\n",
    "y_true = siab_test.iloc[:, [3]]"
   ]
  },
  {
   "cell_type": "code",
   "execution_count": 18,
   "id": "e6c733c5",
   "metadata": {
    "execution": {
     "iopub.execute_input": "2025-08-05T15:34:45.838242Z",
     "iopub.status.busy": "2025-08-05T15:34:45.837960Z",
     "iopub.status.idle": "2025-08-05T15:34:45.927424Z",
     "shell.execute_reply": "2025-08-05T15:34:45.926694Z"
    },
    "papermill": {
     "duration": 0.107989,
     "end_time": "2025-08-05T15:34:45.928854",
     "exception": false,
     "start_time": "2025-08-05T15:34:45.820865",
     "status": "completed"
    },
    "tags": []
   },
   "outputs": [],
   "source": [
    "# Auxiliary data needed downstream in the pipeline\n",
    "\n",
    "org_train = X_train.copy()\n",
    "org_test = X_test.copy()\n",
    "org_calib = X_calib.copy()"
   ]
  },
  {
   "cell_type": "markdown",
   "id": "0a4a1b33",
   "metadata": {
    "papermill": {
     "duration": 0.012105,
     "end_time": "2025-08-05T15:34:45.950593",
     "exception": false,
     "start_time": "2025-08-05T15:34:45.938488",
     "status": "completed"
    },
    "tags": []
   },
   "source": [
    "# Preprocessing Data"
   ]
  },
  {
   "cell_type": "code",
   "execution_count": 19,
   "id": "ca879031",
   "metadata": {
    "execution": {
     "iopub.execute_input": "2025-08-05T15:34:45.988417Z",
     "iopub.status.busy": "2025-08-05T15:34:45.987653Z",
     "iopub.status.idle": "2025-08-05T15:34:45.994541Z",
     "shell.execute_reply": "2025-08-05T15:34:45.993445Z"
    },
    "papermill": {
     "duration": 0.028672,
     "end_time": "2025-08-05T15:34:45.996283",
     "exception": false,
     "start_time": "2025-08-05T15:34:45.967611",
     "status": "completed"
    },
    "tags": []
   },
   "outputs": [],
   "source": [
    "# EXCLUDE PROTECTED FEATURES\n",
    "# ----------------------\n",
    "# \"exclude_features\": \"none\", # \"nationality\", \"sex\", \"nationality-sex\"\n",
    "\n",
    "excluded_features = universe[\"exclude_features\"].split(\"-\") # split, e.g.: \"nationality-sex\" -> [\"nationality\", \"sex\"]\n",
    "excluded_features_dictionary = {\n",
    "    \"nationality\": [\"maxdeutsch1\", \"maxdeutsch.Missing.\"],\n",
    "    \"sex\": [\"frau1\"],\n",
    "    \"age\": [\"age\"],\n",
    "}"
   ]
  },
  {
   "cell_type": "code",
   "execution_count": 20,
   "id": "b745ac60",
   "metadata": {
    "execution": {
     "iopub.execute_input": "2025-08-05T15:34:46.035965Z",
     "iopub.status.busy": "2025-08-05T15:34:46.035232Z",
     "iopub.status.idle": "2025-08-05T15:34:46.041482Z",
     "shell.execute_reply": "2025-08-05T15:34:46.040479Z"
    },
    "papermill": {
     "duration": 0.027312,
     "end_time": "2025-08-05T15:34:46.043451",
     "exception": false,
     "start_time": "2025-08-05T15:34:46.016139",
     "status": "completed"
    },
    "tags": []
   },
   "outputs": [],
   "source": [
    "# Code nice names to column names\n",
    "\n",
    "excluded_features_columns = [\n",
    "    excluded_features_dictionary[f] for f in excluded_features if len(f) > 0 and f != \"none\"\n",
    "]"
   ]
  },
  {
   "cell_type": "code",
   "execution_count": 21,
   "id": "f84f73a2",
   "metadata": {
    "execution": {
     "iopub.execute_input": "2025-08-05T15:34:46.083948Z",
     "iopub.status.busy": "2025-08-05T15:34:46.083239Z",
     "iopub.status.idle": "2025-08-05T15:34:46.090190Z",
     "shell.execute_reply": "2025-08-05T15:34:46.089073Z"
    },
    "papermill": {
     "duration": 0.030158,
     "end_time": "2025-08-05T15:34:46.092100",
     "exception": false,
     "start_time": "2025-08-05T15:34:46.061942",
     "status": "completed"
    },
    "tags": []
   },
   "outputs": [],
   "source": [
    "from utils import flatten_once\n",
    "\n",
    "excluded_features_columns = flatten_once(excluded_features_columns)"
   ]
  },
  {
   "cell_type": "code",
   "execution_count": 22,
   "id": "884dea22",
   "metadata": {
    "execution": {
     "iopub.execute_input": "2025-08-05T15:34:46.132129Z",
     "iopub.status.busy": "2025-08-05T15:34:46.131327Z",
     "iopub.status.idle": "2025-08-05T15:34:46.140718Z",
     "shell.execute_reply": "2025-08-05T15:34:46.139640Z"
    },
    "papermill": {
     "duration": 0.030184,
     "end_time": "2025-08-05T15:34:46.142620",
     "exception": false,
     "start_time": "2025-08-05T15:34:46.112436",
     "status": "completed"
    },
    "tags": []
   },
   "outputs": [
    {
     "name": "stdout",
     "output_type": "stream",
     "text": [
      "Dropping features: ['maxdeutsch1', 'maxdeutsch.Missing.', 'frau1']\n"
     ]
    }
   ],
   "source": [
    "if len(excluded_features_columns) > 0:\n",
    "    print(f\"Dropping features: {excluded_features_columns}\")\n",
    "    X_train.drop(excluded_features_columns, axis=1, inplace=True)"
   ]
  },
  {
   "cell_type": "code",
   "execution_count": 23,
   "id": "95ab8b16",
   "metadata": {
    "execution": {
     "iopub.execute_input": "2025-08-05T15:34:46.198662Z",
     "iopub.status.busy": "2025-08-05T15:34:46.197989Z",
     "iopub.status.idle": "2025-08-05T15:34:46.255233Z",
     "shell.execute_reply": "2025-08-05T15:34:46.254162Z"
    },
    "papermill": {
     "duration": 0.095452,
     "end_time": "2025-08-05T15:34:46.258550",
     "exception": false,
     "start_time": "2025-08-05T15:34:46.163098",
     "status": "completed"
    },
    "tags": []
   },
   "outputs": [
    {
     "name": "stdout",
     "output_type": "stream",
     "text": [
      "Dropping features: ['maxdeutsch1', 'maxdeutsch.Missing.', 'frau1']\n"
     ]
    }
   ],
   "source": [
    "if len(excluded_features_columns) > 0:\n",
    "    print(f\"Dropping features: {excluded_features_columns}\")\n",
    "    X_test.drop(excluded_features_columns, axis=1, inplace=True)"
   ]
  },
  {
   "cell_type": "code",
   "execution_count": 24,
   "id": "1853aaf5-fb9f-46cb-a2b5-8ea4ae2237e4",
   "metadata": {
    "execution": {
     "iopub.execute_input": "2025-08-05T15:34:46.299779Z",
     "iopub.status.busy": "2025-08-05T15:34:46.299417Z",
     "iopub.status.idle": "2025-08-05T15:34:46.351197Z",
     "shell.execute_reply": "2025-08-05T15:34:46.350193Z"
    },
    "papermill": {
     "duration": 0.064481,
     "end_time": "2025-08-05T15:34:46.353494",
     "exception": false,
     "start_time": "2025-08-05T15:34:46.289013",
     "status": "completed"
    },
    "tags": []
   },
   "outputs": [
    {
     "name": "stdout",
     "output_type": "stream",
     "text": [
      "Dropping features: ['maxdeutsch1', 'maxdeutsch.Missing.', 'frau1']\n"
     ]
    }
   ],
   "source": [
    "if len(excluded_features_columns) > 0:\n",
    "    print(f\"Dropping features: {excluded_features_columns}\")\n",
    "    X_calib.drop(excluded_features_columns, axis=1, inplace=True)"
   ]
  },
  {
   "cell_type": "code",
   "execution_count": 25,
   "id": "76c4dc6d",
   "metadata": {
    "execution": {
     "iopub.execute_input": "2025-08-05T15:34:46.375136Z",
     "iopub.status.busy": "2025-08-05T15:34:46.374849Z",
     "iopub.status.idle": "2025-08-05T15:34:46.417001Z",
     "shell.execute_reply": "2025-08-05T15:34:46.416272Z"
    },
    "papermill": {
     "duration": 0.054038,
     "end_time": "2025-08-05T15:34:46.418476",
     "exception": false,
     "start_time": "2025-08-05T15:34:46.364438",
     "status": "completed"
    },
    "tags": []
   },
   "outputs": [],
   "source": [
    "# EXCLUDE CERTAIN SUBGROUPS\n",
    "# ----------------------\n",
    "\n",
    "mode = universe.get(\"exclude_subgroups\", \"keep-all\") \n",
    "# Fetches the exclude_subgroups setting from the universe dict.\n",
    "# Defaults to \"keep-all\" if the key is missing."
   ]
  },
  {
   "cell_type": "code",
   "execution_count": 26,
   "id": "21994072",
   "metadata": {
    "execution": {
     "iopub.execute_input": "2025-08-05T15:34:46.438808Z",
     "iopub.status.busy": "2025-08-05T15:34:46.438421Z",
     "iopub.status.idle": "2025-08-05T15:34:46.443337Z",
     "shell.execute_reply": "2025-08-05T15:34:46.442561Z"
    },
    "papermill": {
     "duration": 0.016285,
     "end_time": "2025-08-05T15:34:46.444738",
     "exception": false,
     "start_time": "2025-08-05T15:34:46.428453",
     "status": "completed"
    },
    "tags": []
   },
   "outputs": [],
   "source": [
    "if mode == \"keep-all\":\n",
    "    keep_mask = pd.Series(True, index=org_train.index)\n",
    "\n",
    "# org_train contains the original feature columns from features_org (in Simson)\n",
    "# features_org contains unprocessed features, for me X_train at beginning ???\n",
    "# For keep-all, creates a boolean Series (keep_mask) of all True, so no rows are removed.\n",
    "\n",
    "elif mode == \"drop-non-german\":\n",
    "    keep_mask = org_train[\"maxdeutsch1\"] == 1 # ??? what about missing values?\n",
    "\n",
    "else:\n",
    "    raise ValueError(f\"Unsupported mode for exclude_subgroups: {mode}\")"
   ]
  },
  {
   "cell_type": "code",
   "execution_count": 27,
   "id": "71651440",
   "metadata": {
    "execution": {
     "iopub.execute_input": "2025-08-05T15:34:46.465130Z",
     "iopub.status.busy": "2025-08-05T15:34:46.464804Z",
     "iopub.status.idle": "2025-08-05T15:34:46.470273Z",
     "shell.execute_reply": "2025-08-05T15:34:46.469431Z"
    },
    "papermill": {
     "duration": 0.017078,
     "end_time": "2025-08-05T15:34:46.471823",
     "exception": false,
     "start_time": "2025-08-05T15:34:46.454745",
     "status": "completed"
    },
    "tags": []
   },
   "outputs": [
    {
     "name": "stdout",
     "output_type": "stream",
     "text": [
      "Dropping 665 rows (13.30%) where mode='drop-non-german'\n"
     ]
    }
   ],
   "source": [
    "n_drop = (~keep_mask).sum() # Calculates how many rows are set to be dropped\n",
    "if n_drop > 0:\n",
    "    pct = n_drop / len(keep_mask) * 100\n",
    "    print(f\"Dropping {n_drop} rows ({pct:.2f}%) where mode='{mode}'\")"
   ]
  },
  {
   "cell_type": "code",
   "execution_count": 28,
   "id": "5fb8eee5",
   "metadata": {
    "execution": {
     "iopub.execute_input": "2025-08-05T15:34:46.492459Z",
     "iopub.status.busy": "2025-08-05T15:34:46.491967Z",
     "iopub.status.idle": "2025-08-05T15:34:46.498173Z",
     "shell.execute_reply": "2025-08-05T15:34:46.497299Z"
    },
    "papermill": {
     "duration": 0.0176,
     "end_time": "2025-08-05T15:34:46.499570",
     "exception": false,
     "start_time": "2025-08-05T15:34:46.481970",
     "status": "completed"
    },
    "tags": []
   },
   "outputs": [],
   "source": [
    "X_train = X_train[keep_mask]"
   ]
  },
  {
   "cell_type": "code",
   "execution_count": 29,
   "id": "b202bb3a",
   "metadata": {
    "execution": {
     "iopub.execute_input": "2025-08-05T15:34:46.520480Z",
     "iopub.status.busy": "2025-08-05T15:34:46.519991Z",
     "iopub.status.idle": "2025-08-05T15:34:46.524859Z",
     "shell.execute_reply": "2025-08-05T15:34:46.524031Z"
    },
    "papermill": {
     "duration": 0.016491,
     "end_time": "2025-08-05T15:34:46.526309",
     "exception": false,
     "start_time": "2025-08-05T15:34:46.509818",
     "status": "completed"
    },
    "tags": []
   },
   "outputs": [],
   "source": [
    "y_train = y_train[keep_mask]"
   ]
  },
  {
   "cell_type": "markdown",
   "id": "493e2ac3",
   "metadata": {
    "papermill": {
     "duration": 0.009459,
     "end_time": "2025-08-05T15:34:46.545989",
     "exception": false,
     "start_time": "2025-08-05T15:34:46.536530",
     "status": "completed"
    },
    "tags": []
   },
   "source": [
    "# Model Training"
   ]
  },
  {
   "cell_type": "code",
   "execution_count": 30,
   "id": "679e1268",
   "metadata": {
    "execution": {
     "iopub.execute_input": "2025-08-05T15:34:46.566026Z",
     "iopub.status.busy": "2025-08-05T15:34:46.565786Z",
     "iopub.status.idle": "2025-08-05T15:34:46.637671Z",
     "shell.execute_reply": "2025-08-05T15:34:46.636927Z"
    },
    "papermill": {
     "duration": 0.083595,
     "end_time": "2025-08-05T15:34:46.639003",
     "exception": false,
     "start_time": "2025-08-05T15:34:46.555408",
     "status": "completed"
    },
    "tags": []
   },
   "outputs": [],
   "source": [
    "from sklearn.linear_model import LogisticRegression\n",
    "from sklearn.ensemble import GradientBoostingClassifier, RandomForestClassifier\n",
    "\n",
    "if (universe[\"model\"] == \"logreg\"):\n",
    "    model = LogisticRegression() #penalty=\"none\", solver=\"newton-cg\", max_iter=1) # include random_state=19 ?\n",
    "elif (universe[\"model\"] == \"penalized_logreg\"):\n",
    "    model = LogisticRegression(penalty=\"l2\", C=0.1) #, solver=\"newton-cg\", max_iter=1)\n",
    "elif (universe[\"model\"] == \"rf\"):\n",
    "    model = RandomForestClassifier() # n_estimators=100, n_jobs=-1\n",
    "elif (universe[\"model\"] == \"gbm\"):\n",
    "    model = GradientBoostingClassifier()\n",
    "elif (universe[\"model\"] == \"elasticnet\"):\n",
    "    model = LogisticRegression(penalty = 'elasticnet', solver = 'saga', l1_ratio = 0.5) # max_iter=5000\n",
    "else:\n",
    "    raise \"Unsupported universe.model\""
   ]
  },
  {
   "cell_type": "code",
   "execution_count": 31,
   "id": "0cc8f744",
   "metadata": {
    "execution": {
     "iopub.execute_input": "2025-08-05T15:34:46.660615Z",
     "iopub.status.busy": "2025-08-05T15:34:46.660110Z",
     "iopub.status.idle": "2025-08-05T15:34:46.664779Z",
     "shell.execute_reply": "2025-08-05T15:34:46.664020Z"
    },
    "papermill": {
     "duration": 0.016488,
     "end_time": "2025-08-05T15:34:46.666309",
     "exception": false,
     "start_time": "2025-08-05T15:34:46.649821",
     "status": "completed"
    },
    "tags": []
   },
   "outputs": [],
   "source": [
    "import numpy as np\n",
    "from sklearn.pipeline import Pipeline\n",
    "from sklearn.preprocessing import StandardScaler\n",
    "\n",
    "model = Pipeline([\n",
    "    #(\"continuous_processor\", continuous_processor),\n",
    "    #(\"categorical_preprocessor\", categorical_preprocessor),\n",
    "    (\"scale\", StandardScaler() if universe[\"scale\"] == \"scale\" else None), \n",
    "    (\"model\", model),\n",
    "])"
   ]
  },
  {
   "cell_type": "code",
   "execution_count": 32,
   "id": "9442c04d",
   "metadata": {
    "execution": {
     "iopub.execute_input": "2025-08-05T15:34:46.687395Z",
     "iopub.status.busy": "2025-08-05T15:34:46.686902Z",
     "iopub.status.idle": "2025-08-05T15:34:46.782441Z",
     "shell.execute_reply": "2025-08-05T15:34:46.781556Z"
    },
    "papermill": {
     "duration": 0.107651,
     "end_time": "2025-08-05T15:34:46.784323",
     "exception": false,
     "start_time": "2025-08-05T15:34:46.676672",
     "status": "completed"
    },
    "tags": []
   },
   "outputs": [
    {
     "name": "stderr",
     "output_type": "stream",
     "text": [
      "/dss/dsshome1/0C/ra93lal2/.local/share/virtualenvs/CMA_Fairness_v2-3j10GkSs/lib/python3.10/site-packages/sklearn/linear_model/_logistic.py:444: ConvergenceWarning: lbfgs failed to converge (status=1):\n",
      "STOP: TOTAL NO. of ITERATIONS REACHED LIMIT.\n",
      "\n",
      "Increase the number of iterations (max_iter) or scale the data as shown in:\n",
      "    https://scikit-learn.org/stable/modules/preprocessing.html\n",
      "Please also refer to the documentation for alternative solver options:\n",
      "    https://scikit-learn.org/stable/modules/linear_model.html#logistic-regression\n",
      "  n_iter_i = _check_optimize_result(\n"
     ]
    },
    {
     "data": {
      "text/html": [
       "<style>#sk-container-id-1 {color: black;background-color: white;}#sk-container-id-1 pre{padding: 0;}#sk-container-id-1 div.sk-toggleable {background-color: white;}#sk-container-id-1 label.sk-toggleable__label {cursor: pointer;display: block;width: 100%;margin-bottom: 0;padding: 0.3em;box-sizing: border-box;text-align: center;}#sk-container-id-1 label.sk-toggleable__label-arrow:before {content: \"▸\";float: left;margin-right: 0.25em;color: #696969;}#sk-container-id-1 label.sk-toggleable__label-arrow:hover:before {color: black;}#sk-container-id-1 div.sk-estimator:hover label.sk-toggleable__label-arrow:before {color: black;}#sk-container-id-1 div.sk-toggleable__content {max-height: 0;max-width: 0;overflow: hidden;text-align: left;background-color: #f0f8ff;}#sk-container-id-1 div.sk-toggleable__content pre {margin: 0.2em;color: black;border-radius: 0.25em;background-color: #f0f8ff;}#sk-container-id-1 input.sk-toggleable__control:checked~div.sk-toggleable__content {max-height: 200px;max-width: 100%;overflow: auto;}#sk-container-id-1 input.sk-toggleable__control:checked~label.sk-toggleable__label-arrow:before {content: \"▾\";}#sk-container-id-1 div.sk-estimator input.sk-toggleable__control:checked~label.sk-toggleable__label {background-color: #d4ebff;}#sk-container-id-1 div.sk-label input.sk-toggleable__control:checked~label.sk-toggleable__label {background-color: #d4ebff;}#sk-container-id-1 input.sk-hidden--visually {border: 0;clip: rect(1px 1px 1px 1px);clip: rect(1px, 1px, 1px, 1px);height: 1px;margin: -1px;overflow: hidden;padding: 0;position: absolute;width: 1px;}#sk-container-id-1 div.sk-estimator {font-family: monospace;background-color: #f0f8ff;border: 1px dotted black;border-radius: 0.25em;box-sizing: border-box;margin-bottom: 0.5em;}#sk-container-id-1 div.sk-estimator:hover {background-color: #d4ebff;}#sk-container-id-1 div.sk-parallel-item::after {content: \"\";width: 100%;border-bottom: 1px solid gray;flex-grow: 1;}#sk-container-id-1 div.sk-label:hover label.sk-toggleable__label {background-color: #d4ebff;}#sk-container-id-1 div.sk-serial::before {content: \"\";position: absolute;border-left: 1px solid gray;box-sizing: border-box;top: 0;bottom: 0;left: 50%;z-index: 0;}#sk-container-id-1 div.sk-serial {display: flex;flex-direction: column;align-items: center;background-color: white;padding-right: 0.2em;padding-left: 0.2em;position: relative;}#sk-container-id-1 div.sk-item {position: relative;z-index: 1;}#sk-container-id-1 div.sk-parallel {display: flex;align-items: stretch;justify-content: center;background-color: white;position: relative;}#sk-container-id-1 div.sk-item::before, #sk-container-id-1 div.sk-parallel-item::before {content: \"\";position: absolute;border-left: 1px solid gray;box-sizing: border-box;top: 0;bottom: 0;left: 50%;z-index: -1;}#sk-container-id-1 div.sk-parallel-item {display: flex;flex-direction: column;z-index: 1;position: relative;background-color: white;}#sk-container-id-1 div.sk-parallel-item:first-child::after {align-self: flex-end;width: 50%;}#sk-container-id-1 div.sk-parallel-item:last-child::after {align-self: flex-start;width: 50%;}#sk-container-id-1 div.sk-parallel-item:only-child::after {width: 0;}#sk-container-id-1 div.sk-dashed-wrapped {border: 1px dashed gray;margin: 0 0.4em 0.5em 0.4em;box-sizing: border-box;padding-bottom: 0.4em;background-color: white;}#sk-container-id-1 div.sk-label label {font-family: monospace;font-weight: bold;display: inline-block;line-height: 1.2em;}#sk-container-id-1 div.sk-label-container {text-align: center;}#sk-container-id-1 div.sk-container {/* jupyter's `normalize.less` sets `[hidden] { display: none; }` but bootstrap.min.css set `[hidden] { display: none !important; }` so we also need the `!important` here to be able to override the default hidden behavior on the sphinx rendered scikit-learn.org. See: https://github.com/scikit-learn/scikit-learn/issues/21755 */display: inline-block !important;position: relative;}#sk-container-id-1 div.sk-text-repr-fallback {display: none;}</style><div id=\"sk-container-id-1\" class=\"sk-top-container\"><div class=\"sk-text-repr-fallback\"><pre>Pipeline(steps=[(&#x27;scale&#x27;, StandardScaler()), (&#x27;model&#x27;, LogisticRegression())])</pre><b>In a Jupyter environment, please rerun this cell to show the HTML representation or trust the notebook. <br />On GitHub, the HTML representation is unable to render, please try loading this page with nbviewer.org.</b></div><div class=\"sk-container\" hidden><div class=\"sk-item sk-dashed-wrapped\"><div class=\"sk-label-container\"><div class=\"sk-label sk-toggleable\"><input class=\"sk-toggleable__control sk-hidden--visually\" id=\"sk-estimator-id-1\" type=\"checkbox\" ><label for=\"sk-estimator-id-1\" class=\"sk-toggleable__label sk-toggleable__label-arrow\">Pipeline</label><div class=\"sk-toggleable__content\"><pre>Pipeline(steps=[(&#x27;scale&#x27;, StandardScaler()), (&#x27;model&#x27;, LogisticRegression())])</pre></div></div></div><div class=\"sk-serial\"><div class=\"sk-item\"><div class=\"sk-estimator sk-toggleable\"><input class=\"sk-toggleable__control sk-hidden--visually\" id=\"sk-estimator-id-2\" type=\"checkbox\" ><label for=\"sk-estimator-id-2\" class=\"sk-toggleable__label sk-toggleable__label-arrow\">StandardScaler</label><div class=\"sk-toggleable__content\"><pre>StandardScaler()</pre></div></div></div><div class=\"sk-item\"><div class=\"sk-estimator sk-toggleable\"><input class=\"sk-toggleable__control sk-hidden--visually\" id=\"sk-estimator-id-3\" type=\"checkbox\" ><label for=\"sk-estimator-id-3\" class=\"sk-toggleable__label sk-toggleable__label-arrow\">LogisticRegression</label><div class=\"sk-toggleable__content\"><pre>LogisticRegression()</pre></div></div></div></div></div></div></div>"
      ],
      "text/plain": [
       "Pipeline(steps=[('scale', StandardScaler()), ('model', LogisticRegression())])"
      ]
     },
     "execution_count": 32,
     "metadata": {},
     "output_type": "execute_result"
    }
   ],
   "source": [
    "model.fit(X_train, y_train.values.ravel())"
   ]
  },
  {
   "cell_type": "code",
   "execution_count": 33,
   "id": "af59f8c0",
   "metadata": {
    "execution": {
     "iopub.execute_input": "2025-08-05T15:34:46.805722Z",
     "iopub.status.busy": "2025-08-05T15:34:46.805409Z",
     "iopub.status.idle": "2025-08-05T15:34:46.809823Z",
     "shell.execute_reply": "2025-08-05T15:34:46.809039Z"
    },
    "papermill": {
     "duration": 0.016176,
     "end_time": "2025-08-05T15:34:46.811187",
     "exception": false,
     "start_time": "2025-08-05T15:34:46.795011",
     "status": "completed"
    },
    "tags": []
   },
   "outputs": [],
   "source": [
    "from fairness_multiverse.universe import predict_w_threshold"
   ]
  },
  {
   "cell_type": "code",
   "execution_count": 34,
   "id": "a7cf2e16",
   "metadata": {
    "execution": {
     "iopub.execute_input": "2025-08-05T15:34:46.832725Z",
     "iopub.status.busy": "2025-08-05T15:34:46.832507Z",
     "iopub.status.idle": "2025-08-05T15:34:46.998837Z",
     "shell.execute_reply": "2025-08-05T15:34:46.997937Z"
    },
    "papermill": {
     "duration": 0.178195,
     "end_time": "2025-08-05T15:34:47.000232",
     "exception": false,
     "start_time": "2025-08-05T15:34:46.822037",
     "status": "completed"
    },
    "tags": []
   },
   "outputs": [
    {
     "data": {
      "text/plain": [
       "0.8575632593913722"
      ]
     },
     "execution_count": 34,
     "metadata": {},
     "output_type": "execute_result"
    }
   ],
   "source": [
    "probs_test = model.predict_proba(X_test)\n",
    "\n",
    "'''\n",
    "Below code returns a boolean array (or binary 0/1 array depending on how it’s used) where each element \n",
    "is True if the probability of class 1 is greater than or equal to the threshold, and False otherwise.\n",
    "'''\n",
    "y_pred_default = predict_w_threshold(probs_test, 0.5)\n",
    "\n",
    "from sklearn.metrics import accuracy_score\n",
    "\n",
    "# Naive prediction\n",
    "accuracy_score(y_true = y_true, y_pred = y_pred_default)"
   ]
  },
  {
   "cell_type": "code",
   "execution_count": 35,
   "id": "081964c3",
   "metadata": {
    "execution": {
     "iopub.execute_input": "2025-08-05T15:34:47.022200Z",
     "iopub.status.busy": "2025-08-05T15:34:47.021914Z",
     "iopub.status.idle": "2025-08-05T15:34:47.181391Z",
     "shell.execute_reply": "2025-08-05T15:34:47.180497Z"
    },
    "papermill": {
     "duration": 0.171879,
     "end_time": "2025-08-05T15:34:47.182801",
     "exception": false,
     "start_time": "2025-08-05T15:34:47.010922",
     "status": "completed"
    },
    "tags": []
   },
   "outputs": [
    {
     "data": {
      "text/plain": [
       "array([0, 0, 0, ..., 0, 0, 0])"
      ]
     },
     "execution_count": 35,
     "metadata": {},
     "output_type": "execute_result"
    }
   ],
   "source": [
    "model.predict(X_test)"
   ]
  },
  {
   "cell_type": "markdown",
   "id": "56c9705b",
   "metadata": {
    "papermill": {
     "duration": 0.010186,
     "end_time": "2025-08-05T15:34:47.203849",
     "exception": false,
     "start_time": "2025-08-05T15:34:47.193663",
     "status": "completed"
    },
    "tags": []
   },
   "source": [
    "# Conformal Prediction"
   ]
  },
  {
   "cell_type": "code",
   "execution_count": 36,
   "id": "160ec6ff",
   "metadata": {
    "execution": {
     "iopub.execute_input": "2025-08-05T15:34:47.225052Z",
     "iopub.status.busy": "2025-08-05T15:34:47.224654Z",
     "iopub.status.idle": "2025-08-05T15:34:47.229024Z",
     "shell.execute_reply": "2025-08-05T15:34:47.228222Z"
    },
    "papermill": {
     "duration": 0.016671,
     "end_time": "2025-08-05T15:34:47.230576",
     "exception": false,
     "start_time": "2025-08-05T15:34:47.213905",
     "status": "completed"
    },
    "tags": []
   },
   "outputs": [],
   "source": [
    "# Miscoverage level for conformal prediction (10% allowed error rate => 90% target coverage)\n",
    "alpha = 0.1"
   ]
  },
  {
   "cell_type": "code",
   "execution_count": 37,
   "id": "eadf4555-3dd3-440e-8e35-f82a4ad9f855",
   "metadata": {
    "execution": {
     "iopub.execute_input": "2025-08-05T15:34:47.252958Z",
     "iopub.status.busy": "2025-08-05T15:34:47.252578Z",
     "iopub.status.idle": "2025-08-05T15:34:47.443126Z",
     "shell.execute_reply": "2025-08-05T15:34:47.441998Z"
    },
    "papermill": {
     "duration": 0.203274,
     "end_time": "2025-08-05T15:34:47.445188",
     "exception": false,
     "start_time": "2025-08-05T15:34:47.241914",
     "status": "completed"
    },
    "tags": []
   },
   "outputs": [],
   "source": [
    "probs_calib = model.predict_proba(X_calib)"
   ]
  },
  {
   "cell_type": "code",
   "execution_count": 38,
   "id": "2ed93547-6d5d-4983-9b36-1ecb300da49a",
   "metadata": {
    "execution": {
     "iopub.execute_input": "2025-08-05T15:34:47.489932Z",
     "iopub.status.busy": "2025-08-05T15:34:47.489439Z",
     "iopub.status.idle": "2025-08-05T15:34:47.495802Z",
     "shell.execute_reply": "2025-08-05T15:34:47.494741Z"
    },
    "papermill": {
     "duration": 0.030361,
     "end_time": "2025-08-05T15:34:47.497773",
     "exception": false,
     "start_time": "2025-08-05T15:34:47.467412",
     "status": "completed"
    },
    "tags": []
   },
   "outputs": [],
   "source": [
    "y_calib = y_calib.values.ravel().astype(int)"
   ]
  },
  {
   "cell_type": "code",
   "execution_count": 39,
   "id": "65d1320d-f588-4b38-9072-62af1ae97f7d",
   "metadata": {
    "execution": {
     "iopub.execute_input": "2025-08-05T15:34:47.543079Z",
     "iopub.status.busy": "2025-08-05T15:34:47.542392Z",
     "iopub.status.idle": "2025-08-05T15:34:47.550338Z",
     "shell.execute_reply": "2025-08-05T15:34:47.549213Z"
    },
    "papermill": {
     "duration": 0.032455,
     "end_time": "2025-08-05T15:34:47.551930",
     "exception": false,
     "start_time": "2025-08-05T15:34:47.519475",
     "status": "completed"
    },
    "tags": []
   },
   "outputs": [],
   "source": [
    "from fairness_multiverse.conformal import compute_nc_scores\n",
    "\n",
    "# Compute nonconformity scores on calibration set (1 - probability of true class)\n",
    "nc_scores = compute_nc_scores(probs_calib, y_calib)"
   ]
  },
  {
   "cell_type": "code",
   "execution_count": 40,
   "id": "df3b8ca3-53b7-43d5-9667-7c85da7aeda2",
   "metadata": {
    "execution": {
     "iopub.execute_input": "2025-08-05T15:34:47.596649Z",
     "iopub.status.busy": "2025-08-05T15:34:47.596075Z",
     "iopub.status.idle": "2025-08-05T15:34:47.602284Z",
     "shell.execute_reply": "2025-08-05T15:34:47.601333Z"
    },
    "papermill": {
     "duration": 0.029931,
     "end_time": "2025-08-05T15:34:47.603533",
     "exception": false,
     "start_time": "2025-08-05T15:34:47.573602",
     "status": "completed"
    },
    "tags": []
   },
   "outputs": [],
   "source": [
    "from fairness_multiverse.conformal import find_threshold\n",
    "\n",
    "# Find conformal threshold q_hat for the given alpha (split conformal method)\n",
    "q_hat = find_threshold(nc_scores, alpha)"
   ]
  },
  {
   "cell_type": "code",
   "execution_count": 41,
   "id": "4d29e6c1-0ef6-4aa4-b8fe-4fe79b0d033a",
   "metadata": {
    "execution": {
     "iopub.execute_input": "2025-08-05T15:34:47.628240Z",
     "iopub.status.busy": "2025-08-05T15:34:47.627867Z",
     "iopub.status.idle": "2025-08-05T15:34:47.634196Z",
     "shell.execute_reply": "2025-08-05T15:34:47.633275Z"
    },
    "papermill": {
     "duration": 0.020344,
     "end_time": "2025-08-05T15:34:47.635488",
     "exception": false,
     "start_time": "2025-08-05T15:34:47.615144",
     "status": "completed"
    },
    "tags": []
   },
   "outputs": [
    {
     "data": {
      "text/plain": [
       "0.6925440308075176"
      ]
     },
     "execution_count": 41,
     "metadata": {},
     "output_type": "execute_result"
    }
   ],
   "source": [
    "q_hat"
   ]
  },
  {
   "cell_type": "code",
   "execution_count": 42,
   "id": "92460794-cdac-4be2-ba28-f28c0515a6fb",
   "metadata": {
    "execution": {
     "iopub.execute_input": "2025-08-05T15:34:47.660041Z",
     "iopub.status.busy": "2025-08-05T15:34:47.659655Z",
     "iopub.status.idle": "2025-08-05T15:34:48.385407Z",
     "shell.execute_reply": "2025-08-05T15:34:48.384659Z"
    },
    "papermill": {
     "duration": 0.74064,
     "end_time": "2025-08-05T15:34:48.386836",
     "exception": false,
     "start_time": "2025-08-05T15:34:47.646196",
     "status": "completed"
    },
    "tags": []
   },
   "outputs": [],
   "source": [
    "from fairness_multiverse.conformal import predict_conformal_sets\n",
    "\n",
    "# Generate prediction sets for each test example\n",
    "pred_sets = predict_conformal_sets(model, X_test, q_hat)"
   ]
  },
  {
   "cell_type": "code",
   "execution_count": 43,
   "id": "d90c9a65-e6db-4f5d-80cd-e68fb7e46829",
   "metadata": {
    "execution": {
     "iopub.execute_input": "2025-08-05T15:34:48.409401Z",
     "iopub.status.busy": "2025-08-05T15:34:48.408907Z",
     "iopub.status.idle": "2025-08-05T15:34:48.413758Z",
     "shell.execute_reply": "2025-08-05T15:34:48.412988Z"
    },
    "papermill": {
     "duration": 0.017303,
     "end_time": "2025-08-05T15:34:48.415285",
     "exception": false,
     "start_time": "2025-08-05T15:34:48.397982",
     "status": "completed"
    },
    "tags": []
   },
   "outputs": [],
   "source": [
    "y_true = y_true.squeeze()"
   ]
  },
  {
   "cell_type": "code",
   "execution_count": 44,
   "id": "3a58a54a-1e68-46b9-927a-df01f18aebc8",
   "metadata": {
    "execution": {
     "iopub.execute_input": "2025-08-05T15:34:48.437550Z",
     "iopub.status.busy": "2025-08-05T15:34:48.437048Z",
     "iopub.status.idle": "2025-08-05T15:34:48.937178Z",
     "shell.execute_reply": "2025-08-05T15:34:48.936435Z"
    },
    "papermill": {
     "duration": 0.51251,
     "end_time": "2025-08-05T15:34:48.938760",
     "exception": false,
     "start_time": "2025-08-05T15:34:48.426250",
     "status": "completed"
    },
    "tags": []
   },
   "outputs": [],
   "source": [
    "from fairness_multiverse.conformal import evaluate_sets\n",
    "\n",
    "# Evaluate coverage and average set size on test data\n",
    "metrics = evaluate_sets(pred_sets, y_true)"
   ]
  },
  {
   "cell_type": "markdown",
   "id": "2b569c12-9aaa-4c88-98c9-bbcd0cf3ebb8",
   "metadata": {
    "papermill": {
     "duration": 0.010144,
     "end_time": "2025-08-05T15:34:48.960254",
     "exception": false,
     "start_time": "2025-08-05T15:34:48.950110",
     "status": "completed"
    },
    "tags": []
   },
   "source": [
    "# CP Metrics"
   ]
  },
  {
   "cell_type": "code",
   "execution_count": 45,
   "id": "5ce0a5cb-201f-45a0-ade5-94c7f0bd6095",
   "metadata": {
    "execution": {
     "iopub.execute_input": "2025-08-05T15:34:48.982306Z",
     "iopub.status.busy": "2025-08-05T15:34:48.981616Z",
     "iopub.status.idle": "2025-08-05T15:34:48.988343Z",
     "shell.execute_reply": "2025-08-05T15:34:48.987578Z"
    },
    "papermill": {
     "duration": 0.019085,
     "end_time": "2025-08-05T15:34:48.989808",
     "exception": false,
     "start_time": "2025-08-05T15:34:48.970723",
     "status": "completed"
    },
    "tags": []
   },
   "outputs": [
    {
     "data": {
      "text/plain": [
       "{'coverage': 0.9103890313231524, 'avg_size': 1.1355701705495485}"
      ]
     },
     "execution_count": 45,
     "metadata": {},
     "output_type": "execute_result"
    }
   ],
   "source": [
    "metrics"
   ]
  },
  {
   "cell_type": "code",
   "execution_count": 46,
   "id": "9b9a838d-31c9-430b-ae14-12baee460d17",
   "metadata": {
    "execution": {
     "iopub.execute_input": "2025-08-05T15:34:49.012249Z",
     "iopub.status.busy": "2025-08-05T15:34:49.011878Z",
     "iopub.status.idle": "2025-08-05T15:34:49.016434Z",
     "shell.execute_reply": "2025-08-05T15:34:49.015735Z"
    },
    "papermill": {
     "duration": 0.017228,
     "end_time": "2025-08-05T15:34:49.017987",
     "exception": false,
     "start_time": "2025-08-05T15:34:49.000759",
     "status": "completed"
    },
    "tags": []
   },
   "outputs": [],
   "source": [
    "example_universe = universe.copy()\n",
    "universe_training_year = example_universe.get(\"training_year\")\n",
    "universe_training_size = example_universe.get(\"training_size\")\n",
    "universe_scale = example_universe.get(\"scale\")\n",
    "universe_model = example_universe.get(\"model\")\n",
    "universe_exclude_features = example_universe.get(\"exclude_features\")\n",
    "universe_exclude_subgroups = example_universe.get(\"exclude_subgroups\")"
   ]
  },
  {
   "cell_type": "code",
   "execution_count": 47,
   "id": "f4b6a8ac-9dc0-4245-8a91-5b3b5999c4f9",
   "metadata": {
    "execution": {
     "iopub.execute_input": "2025-08-05T15:34:49.040754Z",
     "iopub.status.busy": "2025-08-05T15:34:49.040377Z",
     "iopub.status.idle": "2025-08-05T15:34:49.044909Z",
     "shell.execute_reply": "2025-08-05T15:34:49.044121Z"
    },
    "papermill": {
     "duration": 0.017329,
     "end_time": "2025-08-05T15:34:49.046356",
     "exception": false,
     "start_time": "2025-08-05T15:34:49.029027",
     "status": "completed"
    },
    "tags": []
   },
   "outputs": [],
   "source": [
    "cp_metrics_dict = {\n",
    "    \"universe_id\": [universe_id],\n",
    "    \"universe_training_year\": [universe_training_year],\n",
    "    \"universe_training_size\": [universe_training_size],\n",
    "    \"universe_scale\": [universe_scale],\n",
    "    \"universe_model\": [universe_model],\n",
    "    \"universe_exclude_features\": [universe_exclude_features],\n",
    "    \"universe_exclude_subgroups\": [universe_exclude_subgroups],\n",
    "    \"q_hat\": [q_hat],\n",
    "    \"coverage\": [metrics[\"coverage\"]],\n",
    "    \"avg_size\": [metrics[\"avg_size\"]],\n",
    "}"
   ]
  },
  {
   "cell_type": "code",
   "execution_count": 48,
   "id": "908acbb1-0371-4915-85ca-3fa520d2efe2",
   "metadata": {
    "execution": {
     "iopub.execute_input": "2025-08-05T15:34:49.069589Z",
     "iopub.status.busy": "2025-08-05T15:34:49.068989Z",
     "iopub.status.idle": "2025-08-05T15:34:49.075007Z",
     "shell.execute_reply": "2025-08-05T15:34:49.074117Z"
    },
    "papermill": {
     "duration": 0.018425,
     "end_time": "2025-08-05T15:34:49.076421",
     "exception": false,
     "start_time": "2025-08-05T15:34:49.057996",
     "status": "completed"
    },
    "tags": []
   },
   "outputs": [
    {
     "data": {
      "text/plain": [
       "{'universe_id': ['d83accff9f2300ff7a9ca2d052b5f0f9'],\n",
       " 'universe_training_year': ['2012_14'],\n",
       " 'universe_training_size': ['5k'],\n",
       " 'universe_scale': ['scale'],\n",
       " 'universe_model': ['logreg'],\n",
       " 'universe_exclude_features': ['nationality-sex'],\n",
       " 'universe_exclude_subgroups': ['drop-non-german'],\n",
       " 'q_hat': [0.6925440308075176],\n",
       " 'coverage': [0.9103890313231524],\n",
       " 'avg_size': [1.1355701705495485]}"
      ]
     },
     "execution_count": 48,
     "metadata": {},
     "output_type": "execute_result"
    }
   ],
   "source": [
    "cp_metrics_dict"
   ]
  },
  {
   "cell_type": "code",
   "execution_count": 49,
   "id": "33007efc-14e9-4ec6-97ac-56a455c82265",
   "metadata": {
    "execution": {
     "iopub.execute_input": "2025-08-05T15:34:49.099349Z",
     "iopub.status.busy": "2025-08-05T15:34:49.098874Z",
     "iopub.status.idle": "2025-08-05T15:34:49.103775Z",
     "shell.execute_reply": "2025-08-05T15:34:49.103066Z"
    },
    "papermill": {
     "duration": 0.017507,
     "end_time": "2025-08-05T15:34:49.105153",
     "exception": false,
     "start_time": "2025-08-05T15:34:49.087646",
     "status": "completed"
    },
    "tags": []
   },
   "outputs": [],
   "source": [
    "cp_metrics_df = pd.DataFrame(cp_metrics_dict)"
   ]
  },
  {
   "cell_type": "code",
   "execution_count": 50,
   "id": "db12611b-57b2-4910-b9d0-355adfd6e7bf",
   "metadata": {
    "execution": {
     "iopub.execute_input": "2025-08-05T15:34:49.127762Z",
     "iopub.status.busy": "2025-08-05T15:34:49.127549Z",
     "iopub.status.idle": "2025-08-05T15:34:49.141491Z",
     "shell.execute_reply": "2025-08-05T15:34:49.140830Z"
    },
    "papermill": {
     "duration": 0.026506,
     "end_time": "2025-08-05T15:34:49.142819",
     "exception": false,
     "start_time": "2025-08-05T15:34:49.116313",
     "status": "completed"
    },
    "tags": []
   },
   "outputs": [
    {
     "data": {
      "text/html": [
       "<div>\n",
       "<style scoped>\n",
       "    .dataframe tbody tr th:only-of-type {\n",
       "        vertical-align: middle;\n",
       "    }\n",
       "\n",
       "    .dataframe tbody tr th {\n",
       "        vertical-align: top;\n",
       "    }\n",
       "\n",
       "    .dataframe thead th {\n",
       "        text-align: right;\n",
       "    }\n",
       "</style>\n",
       "<table border=\"1\" class=\"dataframe\">\n",
       "  <thead>\n",
       "    <tr style=\"text-align: right;\">\n",
       "      <th></th>\n",
       "      <th>universe_id</th>\n",
       "      <th>universe_training_year</th>\n",
       "      <th>universe_training_size</th>\n",
       "      <th>universe_scale</th>\n",
       "      <th>universe_model</th>\n",
       "      <th>universe_exclude_features</th>\n",
       "      <th>universe_exclude_subgroups</th>\n",
       "      <th>q_hat</th>\n",
       "      <th>coverage</th>\n",
       "      <th>avg_size</th>\n",
       "    </tr>\n",
       "  </thead>\n",
       "  <tbody>\n",
       "    <tr>\n",
       "      <th>0</th>\n",
       "      <td>d83accff9f2300ff7a9ca2d052b5f0f9</td>\n",
       "      <td>2012_14</td>\n",
       "      <td>5k</td>\n",
       "      <td>scale</td>\n",
       "      <td>logreg</td>\n",
       "      <td>nationality-sex</td>\n",
       "      <td>drop-non-german</td>\n",
       "      <td>0.692544</td>\n",
       "      <td>0.910389</td>\n",
       "      <td>1.13557</td>\n",
       "    </tr>\n",
       "  </tbody>\n",
       "</table>\n",
       "</div>"
      ],
      "text/plain": [
       "                        universe_id universe_training_year  \\\n",
       "0  d83accff9f2300ff7a9ca2d052b5f0f9                2012_14   \n",
       "\n",
       "  universe_training_size universe_scale universe_model  \\\n",
       "0                     5k          scale         logreg   \n",
       "\n",
       "  universe_exclude_features universe_exclude_subgroups     q_hat  coverage  \\\n",
       "0           nationality-sex            drop-non-german  0.692544  0.910389   \n",
       "\n",
       "   avg_size  \n",
       "0   1.13557  "
      ]
     },
     "execution_count": 50,
     "metadata": {},
     "output_type": "execute_result"
    }
   ],
   "source": [
    "cp_metrics_df"
   ]
  },
  {
   "cell_type": "code",
   "execution_count": 51,
   "id": "b7fbde55-a0a1-47e4-9af6-fe4a17fa8c61",
   "metadata": {
    "execution": {
     "iopub.execute_input": "2025-08-05T15:34:49.165547Z",
     "iopub.status.busy": "2025-08-05T15:34:49.165041Z",
     "iopub.status.idle": "2025-08-05T15:34:49.169258Z",
     "shell.execute_reply": "2025-08-05T15:34:49.168543Z"
    },
    "papermill": {
     "duration": 0.017022,
     "end_time": "2025-08-05T15:34:49.170665",
     "exception": false,
     "start_time": "2025-08-05T15:34:49.153643",
     "status": "completed"
    },
    "tags": []
   },
   "outputs": [],
   "source": [
    "# Conditional Coverage & looking at subgroups"
   ]
  },
  {
   "cell_type": "code",
   "execution_count": 52,
   "id": "027ae886-68dd-4141-96c7-805a5450e1ef",
   "metadata": {
    "execution": {
     "iopub.execute_input": "2025-08-05T15:34:49.194379Z",
     "iopub.status.busy": "2025-08-05T15:34:49.193788Z",
     "iopub.status.idle": "2025-08-05T15:34:49.356266Z",
     "shell.execute_reply": "2025-08-05T15:34:49.355518Z"
    },
    "papermill": {
     "duration": 0.175276,
     "end_time": "2025-08-05T15:34:49.357767",
     "exception": false,
     "start_time": "2025-08-05T15:34:49.182491",
     "status": "completed"
    },
    "tags": []
   },
   "outputs": [],
   "source": [
    "from fairness_multiverse.conformal import build_cp_groups\n",
    "\n",
    "cp_groups_df = build_cp_groups(pred_sets, y_true, X_test.index, org_test)\n",
    "#needs universe_id and setting"
   ]
  },
  {
   "cell_type": "code",
   "execution_count": 53,
   "id": "6cbdab96-b2b2-45af-ad54-d0516db2e28d",
   "metadata": {
    "execution": {
     "iopub.execute_input": "2025-08-05T15:34:49.381787Z",
     "iopub.status.busy": "2025-08-05T15:34:49.381098Z",
     "iopub.status.idle": "2025-08-05T15:34:50.516790Z",
     "shell.execute_reply": "2025-08-05T15:34:50.515700Z"
    },
    "papermill": {
     "duration": 1.149194,
     "end_time": "2025-08-05T15:34:50.518819",
     "exception": false,
     "start_time": "2025-08-05T15:34:49.369625",
     "status": "completed"
    },
    "tags": []
   },
   "outputs": [],
   "source": [
    "# Define covered = 1 if true_label is in the predicted set\n",
    "cp_groups_df['covered'] = cp_groups_df.apply(\n",
    "    lambda r: int(r['true_label'] in r['pred_set']),\n",
    "    axis=1\n",
    ")"
   ]
  },
  {
   "cell_type": "code",
   "execution_count": 54,
   "id": "338ff529-1a6b-4b87-a931-8e4788d52aad",
   "metadata": {
    "execution": {
     "iopub.execute_input": "2025-08-05T15:34:50.546276Z",
     "iopub.status.busy": "2025-08-05T15:34:50.545893Z",
     "iopub.status.idle": "2025-08-05T15:34:50.551391Z",
     "shell.execute_reply": "2025-08-05T15:34:50.550358Z"
    },
    "papermill": {
     "duration": 0.019717,
     "end_time": "2025-08-05T15:34:50.553543",
     "exception": false,
     "start_time": "2025-08-05T15:34:50.533826",
     "status": "completed"
    },
    "tags": []
   },
   "outputs": [],
   "source": [
    "#cp_groups_df"
   ]
  },
  {
   "cell_type": "code",
   "execution_count": 55,
   "id": "90032e27-66df-4540-9169-4e89cfbaa758",
   "metadata": {
    "execution": {
     "iopub.execute_input": "2025-08-05T15:34:50.591914Z",
     "iopub.status.busy": "2025-08-05T15:34:50.591524Z",
     "iopub.status.idle": "2025-08-05T15:34:50.601363Z",
     "shell.execute_reply": "2025-08-05T15:34:50.600605Z"
    },
    "papermill": {
     "duration": 0.026061,
     "end_time": "2025-08-05T15:34:50.602757",
     "exception": false,
     "start_time": "2025-08-05T15:34:50.576696",
     "status": "completed"
    },
    "tags": []
   },
   "outputs": [],
   "source": [
    "subgroups = ['frau1','nongerman','nongerman_male','nongerman_female']\n",
    "\n",
    "# Conditional coverage for subgroup==1\n",
    "cond_coverage = {\n",
    "    g: cp_groups_df.loc[cp_groups_df[g]==1, 'covered'].mean()\n",
    "    for g in subgroups\n",
    "}"
   ]
  },
  {
   "cell_type": "code",
   "execution_count": 56,
   "id": "1e348fb1-b9c3-45bc-ba23-f016827a7e0d",
   "metadata": {
    "execution": {
     "iopub.execute_input": "2025-08-05T15:34:50.626415Z",
     "iopub.status.busy": "2025-08-05T15:34:50.625912Z",
     "iopub.status.idle": "2025-08-05T15:34:50.632168Z",
     "shell.execute_reply": "2025-08-05T15:34:50.631299Z"
    },
    "papermill": {
     "duration": 0.01941,
     "end_time": "2025-08-05T15:34:50.633764",
     "exception": false,
     "start_time": "2025-08-05T15:34:50.614354",
     "status": "completed"
    },
    "tags": []
   },
   "outputs": [
    {
     "data": {
      "text/plain": [
       "{'frau1': 0.9064563957406658,\n",
       " 'nongerman': 0.9069780497389547,\n",
       " 'nongerman_male': 0.924885166171305,\n",
       " 'nongerman_female': 0.8773472429210134}"
      ]
     },
     "execution_count": 56,
     "metadata": {},
     "output_type": "execute_result"
    }
   ],
   "source": [
    "cond_coverage"
   ]
  },
  {
   "cell_type": "code",
   "execution_count": 57,
   "id": "f5093324-c3dd-4d63-bc4c-8d945e5c8bbb",
   "metadata": {
    "execution": {
     "iopub.execute_input": "2025-08-05T15:34:50.663601Z",
     "iopub.status.busy": "2025-08-05T15:34:50.663101Z",
     "iopub.status.idle": "2025-08-05T15:34:50.668875Z",
     "shell.execute_reply": "2025-08-05T15:34:50.667989Z"
    },
    "papermill": {
     "duration": 0.025102,
     "end_time": "2025-08-05T15:34:50.670534",
     "exception": false,
     "start_time": "2025-08-05T15:34:50.645432",
     "status": "completed"
    },
    "tags": []
   },
   "outputs": [],
   "source": [
    "for subgroup, cov in cond_coverage.items():\n",
    "    cp_metrics_df[f\"cov_{subgroup}\"] = cov"
   ]
  },
  {
   "cell_type": "code",
   "execution_count": 58,
   "id": "6e872e10-dbe5-49e8-b554-5030c98ff75d",
   "metadata": {
    "execution": {
     "iopub.execute_input": "2025-08-05T15:34:50.694651Z",
     "iopub.status.busy": "2025-08-05T15:34:50.694146Z",
     "iopub.status.idle": "2025-08-05T15:34:50.708511Z",
     "shell.execute_reply": "2025-08-05T15:34:50.707659Z"
    },
    "papermill": {
     "duration": 0.027842,
     "end_time": "2025-08-05T15:34:50.710151",
     "exception": false,
     "start_time": "2025-08-05T15:34:50.682309",
     "status": "completed"
    },
    "tags": []
   },
   "outputs": [
    {
     "data": {
      "text/html": [
       "<div>\n",
       "<style scoped>\n",
       "    .dataframe tbody tr th:only-of-type {\n",
       "        vertical-align: middle;\n",
       "    }\n",
       "\n",
       "    .dataframe tbody tr th {\n",
       "        vertical-align: top;\n",
       "    }\n",
       "\n",
       "    .dataframe thead th {\n",
       "        text-align: right;\n",
       "    }\n",
       "</style>\n",
       "<table border=\"1\" class=\"dataframe\">\n",
       "  <thead>\n",
       "    <tr style=\"text-align: right;\">\n",
       "      <th></th>\n",
       "      <th>universe_id</th>\n",
       "      <th>universe_training_year</th>\n",
       "      <th>universe_training_size</th>\n",
       "      <th>universe_scale</th>\n",
       "      <th>universe_model</th>\n",
       "      <th>universe_exclude_features</th>\n",
       "      <th>universe_exclude_subgroups</th>\n",
       "      <th>q_hat</th>\n",
       "      <th>coverage</th>\n",
       "      <th>avg_size</th>\n",
       "      <th>cov_frau1</th>\n",
       "      <th>cov_nongerman</th>\n",
       "      <th>cov_nongerman_male</th>\n",
       "      <th>cov_nongerman_female</th>\n",
       "    </tr>\n",
       "  </thead>\n",
       "  <tbody>\n",
       "    <tr>\n",
       "      <th>0</th>\n",
       "      <td>d83accff9f2300ff7a9ca2d052b5f0f9</td>\n",
       "      <td>2012_14</td>\n",
       "      <td>5k</td>\n",
       "      <td>scale</td>\n",
       "      <td>logreg</td>\n",
       "      <td>nationality-sex</td>\n",
       "      <td>drop-non-german</td>\n",
       "      <td>0.692544</td>\n",
       "      <td>0.910389</td>\n",
       "      <td>1.13557</td>\n",
       "      <td>0.906456</td>\n",
       "      <td>0.906978</td>\n",
       "      <td>0.924885</td>\n",
       "      <td>0.877347</td>\n",
       "    </tr>\n",
       "  </tbody>\n",
       "</table>\n",
       "</div>"
      ],
      "text/plain": [
       "                        universe_id universe_training_year  \\\n",
       "0  d83accff9f2300ff7a9ca2d052b5f0f9                2012_14   \n",
       "\n",
       "  universe_training_size universe_scale universe_model  \\\n",
       "0                     5k          scale         logreg   \n",
       "\n",
       "  universe_exclude_features universe_exclude_subgroups     q_hat  coverage  \\\n",
       "0           nationality-sex            drop-non-german  0.692544  0.910389   \n",
       "\n",
       "   avg_size  cov_frau1  cov_nongerman  cov_nongerman_male  \\\n",
       "0   1.13557   0.906456       0.906978            0.924885   \n",
       "\n",
       "   cov_nongerman_female  \n",
       "0              0.877347  "
      ]
     },
     "execution_count": 58,
     "metadata": {},
     "output_type": "execute_result"
    }
   ],
   "source": [
    "cp_metrics_df"
   ]
  },
  {
   "cell_type": "markdown",
   "id": "33774451",
   "metadata": {
    "papermill": {
     "duration": 0.011193,
     "end_time": "2025-08-05T15:34:50.733282",
     "exception": false,
     "start_time": "2025-08-05T15:34:50.722089",
     "status": "completed"
    },
    "tags": []
   },
   "source": [
    "# (Fairness) Metrics"
   ]
  },
  {
   "cell_type": "code",
   "execution_count": 59,
   "id": "debc5d62",
   "metadata": {
    "execution": {
     "iopub.execute_input": "2025-08-05T15:34:50.771587Z",
     "iopub.status.busy": "2025-08-05T15:34:50.770768Z",
     "iopub.status.idle": "2025-08-05T15:34:50.791683Z",
     "shell.execute_reply": "2025-08-05T15:34:50.790770Z"
    },
    "papermill": {
     "duration": 0.048759,
     "end_time": "2025-08-05T15:34:50.793643",
     "exception": false,
     "start_time": "2025-08-05T15:34:50.744884",
     "status": "completed"
    },
    "tags": []
   },
   "outputs": [],
   "source": [
    "# do I need to include maxdeutsch1.missing?\n",
    "\n",
    "import numpy as np\n",
    "\n",
    "colname_to_bin = \"maxdeutsch1\"\n",
    "majority_value = org_train[colname_to_bin].mode()[0]\n",
    "\n",
    "org_test[\"majmin\"] = np.where(org_test[colname_to_bin] == majority_value, \"majority\", \"minority\")"
   ]
  },
  {
   "cell_type": "code",
   "execution_count": 60,
   "id": "06a50de5",
   "metadata": {
    "execution": {
     "iopub.execute_input": "2025-08-05T15:34:50.823972Z",
     "iopub.status.busy": "2025-08-05T15:34:50.823649Z",
     "iopub.status.idle": "2025-08-05T15:34:52.228433Z",
     "shell.execute_reply": "2025-08-05T15:34:52.227647Z"
    },
    "papermill": {
     "duration": 1.418689,
     "end_time": "2025-08-05T15:34:52.230020",
     "exception": false,
     "start_time": "2025-08-05T15:34:50.811331",
     "status": "completed"
    },
    "tags": []
   },
   "outputs": [],
   "source": [
    "example_universe = universe.copy()\n",
    "example_universe[\"cutoff\"] = example_universe[\"cutoff\"][0]\n",
    "example_universe[\"eval_fairness_grouping\"] = example_universe[\"eval_fairness_grouping\"][0]\n",
    "fairness_dict, metric_frame = universe_analysis.compute_metrics(\n",
    "    example_universe,\n",
    "    y_pred_prob=probs_test,\n",
    "    y_test=y_true,\n",
    "    org_test=org_test,\n",
    ")"
   ]
  },
  {
   "cell_type": "markdown",
   "id": "f95d4e02",
   "metadata": {
    "papermill": {
     "duration": 0.011497,
     "end_time": "2025-08-05T15:34:52.253763",
     "exception": false,
     "start_time": "2025-08-05T15:34:52.242266",
     "status": "completed"
    },
    "tags": []
   },
   "source": [
    "# Overall"
   ]
  },
  {
   "cell_type": "markdown",
   "id": "bdee4871",
   "metadata": {
    "papermill": {
     "duration": 0.012093,
     "end_time": "2025-08-05T15:34:52.277407",
     "exception": false,
     "start_time": "2025-08-05T15:34:52.265314",
     "status": "completed"
    },
    "tags": []
   },
   "source": [
    "Fairness\n",
    "Main fairness target: Equalized Odds. Seems to be a better fit than equal opportunity, since we're not only interested in Y = 1. Seems to be a better fit than demographic parity, since we also care about accuracy, not just equal distribution of preds.\n",
    "\n",
    "Pick column for computation of fairness metrics\n",
    "\n",
    "Performance\n",
    "Overall performance measures, most interesting in relation to the measures split by group below"
   ]
  },
  {
   "cell_type": "code",
   "execution_count": 61,
   "id": "c4e067c6",
   "metadata": {
    "execution": {
     "iopub.execute_input": "2025-08-05T15:34:52.301911Z",
     "iopub.status.busy": "2025-08-05T15:34:52.301337Z",
     "iopub.status.idle": "2025-08-05T15:34:52.309317Z",
     "shell.execute_reply": "2025-08-05T15:34:52.308444Z"
    },
    "papermill": {
     "duration": 0.022015,
     "end_time": "2025-08-05T15:34:52.310946",
     "exception": false,
     "start_time": "2025-08-05T15:34:52.288931",
     "status": "completed"
    },
    "tags": []
   },
   "outputs": [
    {
     "data": {
      "text/plain": [
       "accuracy                   0.223732\n",
       "balanced accuracy          0.547190\n",
       "f1                         0.245081\n",
       "precision                  0.140007\n",
       "false positive rate        0.887893\n",
       "false negative rate        0.017727\n",
       "selection rate             0.900000\n",
       "count                  89710.000000\n",
       "dtype: float64"
      ]
     },
     "execution_count": 61,
     "metadata": {},
     "output_type": "execute_result"
    }
   ],
   "source": [
    "metric_frame.overall"
   ]
  },
  {
   "cell_type": "markdown",
   "id": "e968fe9d",
   "metadata": {
    "papermill": {
     "duration": 0.011461,
     "end_time": "2025-08-05T15:34:52.335201",
     "exception": false,
     "start_time": "2025-08-05T15:34:52.323740",
     "status": "completed"
    },
    "tags": []
   },
   "source": [
    "By Group"
   ]
  },
  {
   "cell_type": "code",
   "execution_count": 62,
   "id": "ec325bce",
   "metadata": {
    "execution": {
     "iopub.execute_input": "2025-08-05T15:34:52.360328Z",
     "iopub.status.busy": "2025-08-05T15:34:52.359811Z",
     "iopub.status.idle": "2025-08-05T15:34:52.372701Z",
     "shell.execute_reply": "2025-08-05T15:34:52.371827Z"
    },
    "papermill": {
     "duration": 0.027012,
     "end_time": "2025-08-05T15:34:52.374301",
     "exception": false,
     "start_time": "2025-08-05T15:34:52.347289",
     "status": "completed"
    },
    "tags": []
   },
   "outputs": [
    {
     "data": {
      "text/html": [
       "<div>\n",
       "<style scoped>\n",
       "    .dataframe tbody tr th:only-of-type {\n",
       "        vertical-align: middle;\n",
       "    }\n",
       "\n",
       "    .dataframe tbody tr th {\n",
       "        vertical-align: top;\n",
       "    }\n",
       "\n",
       "    .dataframe thead th {\n",
       "        text-align: right;\n",
       "    }\n",
       "</style>\n",
       "<table border=\"1\" class=\"dataframe\">\n",
       "  <thead>\n",
       "    <tr style=\"text-align: right;\">\n",
       "      <th></th>\n",
       "      <th>accuracy</th>\n",
       "      <th>balanced accuracy</th>\n",
       "      <th>f1</th>\n",
       "      <th>precision</th>\n",
       "      <th>false positive rate</th>\n",
       "      <th>false negative rate</th>\n",
       "      <th>selection rate</th>\n",
       "      <th>count</th>\n",
       "    </tr>\n",
       "    <tr>\n",
       "      <th>majmin</th>\n",
       "      <th></th>\n",
       "      <th></th>\n",
       "      <th></th>\n",
       "      <th></th>\n",
       "      <th></th>\n",
       "      <th></th>\n",
       "      <th></th>\n",
       "      <th></th>\n",
       "    </tr>\n",
       "  </thead>\n",
       "  <tbody>\n",
       "    <tr>\n",
       "      <th>majority</th>\n",
       "      <td>0.238962</td>\n",
       "      <td>0.553985</td>\n",
       "      <td>0.254324</td>\n",
       "      <td>0.146074</td>\n",
       "      <td>0.874196</td>\n",
       "      <td>0.017834</td>\n",
       "      <td>0.888463</td>\n",
       "      <td>69170.0</td>\n",
       "    </tr>\n",
       "    <tr>\n",
       "      <th>minority</th>\n",
       "      <td>0.172444</td>\n",
       "      <td>0.524773</td>\n",
       "      <td>0.214946</td>\n",
       "      <td>0.120670</td>\n",
       "      <td>0.933139</td>\n",
       "      <td>0.017314</td>\n",
       "      <td>0.938851</td>\n",
       "      <td>20540.0</td>\n",
       "    </tr>\n",
       "  </tbody>\n",
       "</table>\n",
       "</div>"
      ],
      "text/plain": [
       "          accuracy  balanced accuracy        f1  precision  \\\n",
       "majmin                                                       \n",
       "majority  0.238962           0.553985  0.254324   0.146074   \n",
       "minority  0.172444           0.524773  0.214946   0.120670   \n",
       "\n",
       "          false positive rate  false negative rate  selection rate    count  \n",
       "majmin                                                                       \n",
       "majority             0.874196             0.017834        0.888463  69170.0  \n",
       "minority             0.933139             0.017314        0.938851  20540.0  "
      ]
     },
     "execution_count": 62,
     "metadata": {},
     "output_type": "execute_result"
    }
   ],
   "source": [
    "metric_frame.by_group"
   ]
  },
  {
   "cell_type": "code",
   "execution_count": 63,
   "id": "a9ddbe63",
   "metadata": {
    "execution": {
     "iopub.execute_input": "2025-08-05T15:34:52.400686Z",
     "iopub.status.busy": "2025-08-05T15:34:52.400175Z",
     "iopub.status.idle": "2025-08-05T15:34:54.761296Z",
     "shell.execute_reply": "2025-08-05T15:34:54.760086Z"
    },
    "papermill": {
     "duration": 2.376187,
     "end_time": "2025-08-05T15:34:54.763518",
     "exception": false,
     "start_time": "2025-08-05T15:34:52.387331",
     "status": "completed"
    },
    "tags": []
   },
   "outputs": [
    {
     "data": {
      "text/plain": [
       "array([[<Axes: title={'center': 'accuracy'}, xlabel='majmin'>,\n",
       "        <Axes: title={'center': 'balanced accuracy'}, xlabel='majmin'>,\n",
       "        <Axes: title={'center': 'f1'}, xlabel='majmin'>],\n",
       "       [<Axes: title={'center': 'precision'}, xlabel='majmin'>,\n",
       "        <Axes: title={'center': 'false positive rate'}, xlabel='majmin'>,\n",
       "        <Axes: title={'center': 'false negative rate'}, xlabel='majmin'>],\n",
       "       [<Axes: title={'center': 'selection rate'}, xlabel='majmin'>,\n",
       "        <Axes: title={'center': 'count'}, xlabel='majmin'>,\n",
       "        <Axes: xlabel='majmin'>]], dtype=object)"
      ]
     },
     "execution_count": 63,
     "metadata": {},
     "output_type": "execute_result"
    },
    {
     "data": {
      "image/png": "[encoded data removed]",
      "text/plain": [
       "<Figure size 1200x800 with 9 Axes>"
      ]
     },
     "metadata": {},
     "output_type": "display_data"
    }
   ],
   "source": [
    "# In a graphic\n",
    "metric_frame.by_group.plot.bar(\n",
    "    subplots=True,\n",
    "    layout=[3, 3],\n",
    "    legend=False,\n",
    "    figsize=[12, 8],\n",
    "    title=\"Show all metrics\",\n",
    ")"
   ]
  },
  {
   "cell_type": "markdown",
   "id": "f57a0bac",
   "metadata": {
    "papermill": {
     "duration": 0.029366,
     "end_time": "2025-08-05T15:34:54.822644",
     "exception": false,
     "start_time": "2025-08-05T15:34:54.793278",
     "status": "completed"
    },
    "tags": []
   },
   "source": [
    "# Final Output"
   ]
  },
  {
   "cell_type": "code",
   "execution_count": 64,
   "id": "96d280a3",
   "metadata": {
    "execution": {
     "iopub.execute_input": "2025-08-05T15:34:54.884250Z",
     "iopub.status.busy": "2025-08-05T15:34:54.883377Z",
     "iopub.status.idle": "2025-08-05T15:34:54.894169Z",
     "shell.execute_reply": "2025-08-05T15:34:54.892968Z"
    },
    "papermill": {
     "duration": 0.043357,
     "end_time": "2025-08-05T15:34:54.895935",
     "exception": false,
     "start_time": "2025-08-05T15:34:54.852578",
     "status": "completed"
    },
    "tags": []
   },
   "outputs": [
    {
     "data": {
      "text/plain": [
       "4"
      ]
     },
     "execution_count": 64,
     "metadata": {},
     "output_type": "execute_result"
    }
   ],
   "source": [
    "sub_universes = universe_analysis.generate_sub_universes()\n",
    "len(sub_universes)"
   ]
  },
  {
   "cell_type": "code",
   "execution_count": 65,
   "id": "92adf7ba",
   "metadata": {
    "execution": {
     "iopub.execute_input": "2025-08-05T15:34:54.955527Z",
     "iopub.status.busy": "2025-08-05T15:34:54.954826Z",
     "iopub.status.idle": "2025-08-05T15:34:54.960686Z",
     "shell.execute_reply": "2025-08-05T15:34:54.960032Z"
    },
    "papermill": {
     "duration": 0.036683,
     "end_time": "2025-08-05T15:34:54.961987",
     "exception": false,
     "start_time": "2025-08-05T15:34:54.925304",
     "status": "completed"
    },
    "tags": []
   },
   "outputs": [],
   "source": [
    "def filter_sub_universe_data(sub_universe, org_test):\n",
    "    # Keep all rows — no filtering\n",
    "    keep_rows_mask = np.ones(org_test.shape[0], dtype=bool)\n",
    "\n",
    "    print(f\"[INFO] Keeping all rows: {keep_rows_mask.sum()} rows retained.\")\n",
    "    return keep_rows_mask"
   ]
  },
  {
   "cell_type": "code",
   "execution_count": 66,
   "id": "4a759155",
   "metadata": {
    "execution": {
     "iopub.execute_input": "2025-08-05T15:34:54.992876Z",
     "iopub.status.busy": "2025-08-05T15:34:54.992377Z",
     "iopub.status.idle": "2025-08-05T15:35:02.219169Z",
     "shell.execute_reply": "2025-08-05T15:35:02.218474Z"
    },
    "papermill": {
     "duration": 7.24299,
     "end_time": "2025-08-05T15:35:02.220417",
     "exception": false,
     "start_time": "2025-08-05T15:34:54.977427",
     "status": "completed"
    },
    "tags": []
   },
   "outputs": [
    {
     "name": "stdout",
     "output_type": "stream",
     "text": [
      "Stopping execution_time clock.\n",
      "[INFO] Keeping all rows: 89710 rows retained.\n"
     ]
    },
    {
     "name": "stdout",
     "output_type": "stream",
     "text": [
      "[INFO] Keeping all rows: 89710 rows retained.\n"
     ]
    },
    {
     "name": "stdout",
     "output_type": "stream",
     "text": [
      "[INFO] Keeping all rows: 89710 rows retained.\n"
     ]
    },
    {
     "name": "stdout",
     "output_type": "stream",
     "text": [
      "[INFO] Keeping all rows: 89710 rows retained.\n"
     ]
    },
    {
     "data": {
      "text/html": [
       "<div>\n",
       "<style scoped>\n",
       "    .dataframe tbody tr th:only-of-type {\n",
       "        vertical-align: middle;\n",
       "    }\n",
       "\n",
       "    .dataframe tbody tr th {\n",
       "        vertical-align: top;\n",
       "    }\n",
       "\n",
       "    .dataframe thead th {\n",
       "        text-align: right;\n",
       "    }\n",
       "</style>\n",
       "<table border=\"1\" class=\"dataframe\">\n",
       "  <thead>\n",
       "    <tr style=\"text-align: right;\">\n",
       "      <th></th>\n",
       "      <th>run_no</th>\n",
       "      <th>universe_id</th>\n",
       "      <th>universe_settings</th>\n",
       "      <th>execution_time</th>\n",
       "      <th>test_size_n</th>\n",
       "      <th>test_size_frac</th>\n",
       "      <th>fair_main_equalized_odds_difference</th>\n",
       "      <th>fair_main_equalized_odds_ratio</th>\n",
       "      <th>fair_main_demographic_parity_difference</th>\n",
       "      <th>fair_main_demographic_parity_ratio</th>\n",
       "      <th>...</th>\n",
       "      <th>perf_grp_precision_0</th>\n",
       "      <th>perf_grp_precision_1</th>\n",
       "      <th>perf_grp_false positive rate_0</th>\n",
       "      <th>perf_grp_false positive rate_1</th>\n",
       "      <th>perf_grp_false negative rate_0</th>\n",
       "      <th>perf_grp_false negative rate_1</th>\n",
       "      <th>perf_grp_selection rate_0</th>\n",
       "      <th>perf_grp_selection rate_1</th>\n",
       "      <th>perf_grp_count_0</th>\n",
       "      <th>perf_grp_count_1</th>\n",
       "    </tr>\n",
       "  </thead>\n",
       "  <tbody>\n",
       "    <tr>\n",
       "      <th>0</th>\n",
       "      <td>15</td>\n",
       "      <td>d83accff9f2300ff7a9ca2d052b5f0f9</td>\n",
       "      <td>{\"cutoff\": \"quantile_0.1\", \"eval_fairness_grou...</td>\n",
       "      <td>23.493492</td>\n",
       "      <td>89710</td>\n",
       "      <td>1.0</td>\n",
       "      <td>0.058943</td>\n",
       "      <td>0.936834</td>\n",
       "      <td>0.050388</td>\n",
       "      <td>0.946330</td>\n",
       "      <td>...</td>\n",
       "      <td>NaN</td>\n",
       "      <td>NaN</td>\n",
       "      <td>NaN</td>\n",
       "      <td>NaN</td>\n",
       "      <td>NaN</td>\n",
       "      <td>NaN</td>\n",
       "      <td>NaN</td>\n",
       "      <td>NaN</td>\n",
       "      <td>NaN</td>\n",
       "      <td>NaN</td>\n",
       "    </tr>\n",
       "    <tr>\n",
       "      <th>0</th>\n",
       "      <td>15</td>\n",
       "      <td>d83accff9f2300ff7a9ca2d052b5f0f9</td>\n",
       "      <td>{\"cutoff\": \"quantile_0.1\", \"eval_fairness_grou...</td>\n",
       "      <td>23.493492</td>\n",
       "      <td>89710</td>\n",
       "      <td>1.0</td>\n",
       "      <td>0.058943</td>\n",
       "      <td>0.936834</td>\n",
       "      <td>0.050388</td>\n",
       "      <td>0.946330</td>\n",
       "      <td>...</td>\n",
       "      <td>0.120670</td>\n",
       "      <td>0.146074</td>\n",
       "      <td>0.933139</td>\n",
       "      <td>0.874196</td>\n",
       "      <td>0.017314</td>\n",
       "      <td>0.017834</td>\n",
       "      <td>0.938851</td>\n",
       "      <td>0.888463</td>\n",
       "      <td>20540.0</td>\n",
       "      <td>69170.0</td>\n",
       "    </tr>\n",
       "    <tr>\n",
       "      <th>0</th>\n",
       "      <td>15</td>\n",
       "      <td>d83accff9f2300ff7a9ca2d052b5f0f9</td>\n",
       "      <td>{\"cutoff\": \"quantile_0.25\", \"eval_fairness_gro...</td>\n",
       "      <td>23.493492</td>\n",
       "      <td>89710</td>\n",
       "      <td>1.0</td>\n",
       "      <td>0.112210</td>\n",
       "      <td>0.861240</td>\n",
       "      <td>0.095100</td>\n",
       "      <td>0.884492</td>\n",
       "      <td>...</td>\n",
       "      <td>NaN</td>\n",
       "      <td>NaN</td>\n",
       "      <td>NaN</td>\n",
       "      <td>NaN</td>\n",
       "      <td>NaN</td>\n",
       "      <td>NaN</td>\n",
       "      <td>NaN</td>\n",
       "      <td>NaN</td>\n",
       "      <td>NaN</td>\n",
       "      <td>NaN</td>\n",
       "    </tr>\n",
       "    <tr>\n",
       "      <th>0</th>\n",
       "      <td>15</td>\n",
       "      <td>d83accff9f2300ff7a9ca2d052b5f0f9</td>\n",
       "      <td>{\"cutoff\": \"quantile_0.25\", \"eval_fairness_gro...</td>\n",
       "      <td>23.493492</td>\n",
       "      <td>89710</td>\n",
       "      <td>1.0</td>\n",
       "      <td>0.112210</td>\n",
       "      <td>0.861240</td>\n",
       "      <td>0.095100</td>\n",
       "      <td>0.884492</td>\n",
       "      <td>...</td>\n",
       "      <td>0.131039</td>\n",
       "      <td>0.169999</td>\n",
       "      <td>0.808662</td>\n",
       "      <td>0.696452</td>\n",
       "      <td>0.064189</td>\n",
       "      <td>0.063129</td>\n",
       "      <td>0.823320</td>\n",
       "      <td>0.728220</td>\n",
       "      <td>20540.0</td>\n",
       "      <td>69170.0</td>\n",
       "    </tr>\n",
       "  </tbody>\n",
       "</table>\n",
       "<p>4 rows × 50 columns</p>\n",
       "</div>"
      ],
      "text/plain": [
       "  run_no                       universe_id  \\\n",
       "0     15  d83accff9f2300ff7a9ca2d052b5f0f9   \n",
       "0     15  d83accff9f2300ff7a9ca2d052b5f0f9   \n",
       "0     15  d83accff9f2300ff7a9ca2d052b5f0f9   \n",
       "0     15  d83accff9f2300ff7a9ca2d052b5f0f9   \n",
       "\n",
       "                                   universe_settings  execution_time  \\\n",
       "0  {\"cutoff\": \"quantile_0.1\", \"eval_fairness_grou...       23.493492   \n",
       "0  {\"cutoff\": \"quantile_0.1\", \"eval_fairness_grou...       23.493492   \n",
       "0  {\"cutoff\": \"quantile_0.25\", \"eval_fairness_gro...       23.493492   \n",
       "0  {\"cutoff\": \"quantile_0.25\", \"eval_fairness_gro...       23.493492   \n",
       "\n",
       "   test_size_n  test_size_frac  fair_main_equalized_odds_difference  \\\n",
       "0        89710             1.0                             0.058943   \n",
       "0        89710             1.0                             0.058943   \n",
       "0        89710             1.0                             0.112210   \n",
       "0        89710             1.0                             0.112210   \n",
       "\n",
       "   fair_main_equalized_odds_ratio  fair_main_demographic_parity_difference  \\\n",
       "0                        0.936834                                 0.050388   \n",
       "0                        0.936834                                 0.050388   \n",
       "0                        0.861240                                 0.095100   \n",
       "0                        0.861240                                 0.095100   \n",
       "\n",
       "   fair_main_demographic_parity_ratio  ...  perf_grp_precision_0  \\\n",
       "0                            0.946330  ...                   NaN   \n",
       "0                            0.946330  ...              0.120670   \n",
       "0                            0.884492  ...                   NaN   \n",
       "0                            0.884492  ...              0.131039   \n",
       "\n",
       "   perf_grp_precision_1  perf_grp_false positive rate_0  \\\n",
       "0                   NaN                             NaN   \n",
       "0              0.146074                        0.933139   \n",
       "0                   NaN                             NaN   \n",
       "0              0.169999                        0.808662   \n",
       "\n",
       "   perf_grp_false positive rate_1  perf_grp_false negative rate_0  \\\n",
       "0                             NaN                             NaN   \n",
       "0                        0.874196                        0.017314   \n",
       "0                             NaN                             NaN   \n",
       "0                        0.696452                        0.064189   \n",
       "\n",
       "   perf_grp_false negative rate_1  perf_grp_selection rate_0  \\\n",
       "0                             NaN                        NaN   \n",
       "0                        0.017834                   0.938851   \n",
       "0                             NaN                        NaN   \n",
       "0                        0.063129                   0.823320   \n",
       "\n",
       "   perf_grp_selection rate_1  perf_grp_count_0  perf_grp_count_1  \n",
       "0                        NaN               NaN               NaN  \n",
       "0                   0.888463           20540.0           69170.0  \n",
       "0                        NaN               NaN               NaN  \n",
       "0                   0.728220           20540.0           69170.0  \n",
       "\n",
       "[4 rows x 50 columns]"
      ]
     },
     "execution_count": 66,
     "metadata": {},
     "output_type": "execute_result"
    }
   ],
   "source": [
    "final_output = universe_analysis.generate_final_output(\n",
    "    y_pred_prob=probs_test,\n",
    "    y_test=y_true,\n",
    "    org_test=org_test,\n",
    "    filter_data=filter_sub_universe_data,\n",
    "    cp_metrics_df=cp_metrics_df,\n",
    "    save=True,\n",
    ")\n",
    "final_output"
   ]
  }
 ],
 "metadata": {
  "celltoolbar": "Tags",
  "kernelspec": {
   "display_name": "Python (CMA Fairness)",
   "language": "python",
   "name": "cma_fair_env"
  },
  "language_info": {
   "codemirror_mode": {
    "name": "ipython",
    "version": 3
   },
   "file_extension": ".py",
   "mimetype": "text/x-python",
   "name": "python",
   "nbconvert_exporter": "python",
   "pygments_lexer": "ipython3",
   "version": "3.10.12"
  },
  "papermill": {
   "default_parameters": {},
   "duration": 34.644589,
   "end_time": "2025-08-05T15:35:02.751294",
   "environment_variables": {},
   "exception": null,
   "input_path": "universe_analysis.ipynb",
   "output_path": "output/runs/15/notebooks/m_15-d83accff9f2300ff7a9ca2d052b5f0f9.ipynb",
   "parameters": {
    "output_dir": "output",
    "run_no": "15",
    "seed": "2023",
    "universe": "{\"cutoff\": [\"quantile_0.1\", \"quantile_0.25\"], \"eval_fairness_grouping\": [\"majority-minority\", \"nationality-all\"], \"exclude_features\": \"nationality-sex\", \"exclude_subgroups\": \"drop-non-german\", \"model\": \"logreg\", \"scale\": \"scale\", \"training_size\": \"5k\", \"training_year\": \"2012_14\"}",
    "universe_id": "d83accff9f2300ff7a9ca2d052b5f0f9"
   },
   "start_time": "2025-08-05T15:34:28.106705",
   "version": "2.6.0"
  }
 },
 "nbformat": 4,
 "nbformat_minor": 5
}