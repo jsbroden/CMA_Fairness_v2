{
 "cells": [
  {
   "cell_type": "code",
   "execution_count": 1,
   "id": "f159f837-637b-42ba-96b5-ec9a68c44524",
   "metadata": {
    "execution": {
     "iopub.execute_input": "2025-08-05T16:40:06.026613Z",
     "iopub.status.busy": "2025-08-05T16:40:06.026038Z",
     "iopub.status.idle": "2025-08-05T16:40:06.039906Z",
     "shell.execute_reply": "2025-08-05T16:40:06.038689Z"
    },
    "papermill": {
     "duration": 0.033871,
     "end_time": "2025-08-05T16:40:06.041694",
     "exception": false,
     "start_time": "2025-08-05T16:40:06.007823",
     "status": "completed"
    },
    "tags": []
   },
   "outputs": [
    {
     "name": "stdout",
     "output_type": "stream",
     "text": [
      "/dss/dsshome1/0C/ra93lal2/cma/CMA_Fairness_v2\n"
     ]
    },
    {
     "name": "stderr",
     "output_type": "stream",
     "text": [
      "/dss/dsshome1/0C/ra93lal2/.local/share/virtualenvs/CMA_Fairness_v2-3j10GkSs/lib/python3.10/site-packages/IPython/core/magics/osm.py:393: UserWarning: This is now an optional IPython functionality, using bookmarks requires you to install the `pickleshare` library.\n",
      "  bkms = self.shell.db.get('bookmarks', {})\n",
      "/dss/dsshome1/0C/ra93lal2/.local/share/virtualenvs/CMA_Fairness_v2-3j10GkSs/lib/python3.10/site-packages/IPython/core/magics/osm.py:417: UserWarning: This is now an optional IPython functionality, setting dhist requires you to install the `pickleshare` library.\n",
      "  self.shell.db['dhist'] = compress_dhist(dhist)[-100:]\n"
     ]
    }
   ],
   "source": [
    "%cd ~/cma/CMA_Fairness_v2"
   ]
  },
  {
   "cell_type": "markdown",
   "id": "de2603b9",
   "metadata": {
    "papermill": {
     "duration": 0.015134,
     "end_time": "2025-08-05T16:40:06.073914",
     "exception": false,
     "start_time": "2025-08-05T16:40:06.058780",
     "status": "completed"
    },
    "tags": []
   },
   "source": [
    "The following cell holds the definition of our parameters, these values can be overriden by rendering the with e.g. the following command:\n",
    "\n",
    "papermill -p alpha 0.2 -p ratio 0.3 universe_analysis.ipynb output/test_run.ipynb"
   ]
  },
  {
   "cell_type": "code",
   "execution_count": 2,
   "id": "a80968a0-40bb-4fa9-85ef-2d5eefb01975",
   "metadata": {
    "execution": {
     "iopub.execute_input": "2025-08-05T16:40:06.105719Z",
     "iopub.status.busy": "2025-08-05T16:40:06.105024Z",
     "iopub.status.idle": "2025-08-05T16:40:06.110996Z",
     "shell.execute_reply": "2025-08-05T16:40:06.109944Z"
    },
    "papermill": {
     "duration": 0.023917,
     "end_time": "2025-08-05T16:40:06.112823",
     "exception": false,
     "start_time": "2025-08-05T16:40:06.088906",
     "status": "completed"
    },
    "tags": []
   },
   "outputs": [
    {
     "name": "stdout",
     "output_type": "stream",
     "text": [
      "Current working directory: /dss/dsshome1/0C/ra93lal2/cma/CMA_Fairness_v2\n"
     ]
    }
   ],
   "source": [
    "import os\n",
    "print(\"Current working directory:\", os.getcwd())"
   ]
  },
  {
   "cell_type": "code",
   "execution_count": 3,
   "id": "2dce4c03",
   "metadata": {
    "execution": {
     "iopub.execute_input": "2025-08-05T16:40:06.150068Z",
     "iopub.status.busy": "2025-08-05T16:40:06.149114Z",
     "iopub.status.idle": "2025-08-05T16:40:06.156269Z",
     "shell.execute_reply": "2025-08-05T16:40:06.155175Z"
    },
    "papermill": {
     "duration": 0.027639,
     "end_time": "2025-08-05T16:40:06.158124",
     "exception": false,
     "start_time": "2025-08-05T16:40:06.130485",
     "status": "completed"
    },
    "tags": [
     "parameters"
    ]
   },
   "outputs": [],
   "source": [
    "run_no = 0\n",
    "universe_id = \"test\"\n",
    "universe = {\n",
    "    \"training_size\": \"25k\", # \"25k\", \"5k\", \"1k\"\n",
    "    \"training_year\": \"2014\", # \"2014\", \"2012_14\", \"2010_14\"\n",
    "    \"scale\": \"scale\", # \"scale\", \"do-not-scale\",\n",
    "    \"model\": \"elasticnet\", # \"logreg\", \"penalized_logreg\", \"rf\", \"gbm\", \"elasticnet\"\n",
    "    \"cutoff\": [\"quantile_0.15\", \"quantile_0.30\"],\n",
    "    \"exclude_features\": \"age\", # \"none\", \"nationality\", \"sex\", \"nationality-sex\", \"age\"\n",
    "    \"exclude_subgroups\": \"keep-all\", # \"keep-all\", \"drop-non-german\"\n",
    "    \"eval_fairness_grouping\": [\"majority-minority\", \"nationality-all\"]\n",
    "}\n",
    "\n",
    "output_dir=\"./output\"\n",
    "seed=0"
   ]
  },
  {
   "cell_type": "code",
   "execution_count": 4,
   "id": "355572ea",
   "metadata": {
    "execution": {
     "iopub.execute_input": "2025-08-05T16:40:06.195210Z",
     "iopub.status.busy": "2025-08-05T16:40:06.194257Z",
     "iopub.status.idle": "2025-08-05T16:40:06.200114Z",
     "shell.execute_reply": "2025-08-05T16:40:06.199030Z"
    },
    "papermill": {
     "duration": 0.02572,
     "end_time": "2025-08-05T16:40:06.202098",
     "exception": false,
     "start_time": "2025-08-05T16:40:06.176378",
     "status": "completed"
    },
    "tags": [
     "injected-parameters"
    ]
   },
   "outputs": [],
   "source": [
    "# Parameters\n",
    "universe_id = \"81630047975ae5f8d2f2b182234eb69c\"\n",
    "run_no = \"15\"\n",
    "universe = \"{\\\"cutoff\\\": [\\\"quantile_0.1\\\", \\\"quantile_0.25\\\"], \\\"eval_fairness_grouping\\\": [\\\"majority-minority\\\", \\\"nationality-all\\\"], \\\"exclude_features\\\": \\\"sex\\\", \\\"exclude_subgroups\\\": \\\"keep-all\\\", \\\"model\\\": \\\"penalized_logreg\\\", \\\"scale\\\": \\\"do-not-scale\\\", \\\"training_size\\\": \\\"1k\\\", \\\"training_year\\\": \\\"2010_14\\\"}\"\n",
    "output_dir = \"output\"\n",
    "seed = \"2023\"\n"
   ]
  },
  {
   "cell_type": "code",
   "execution_count": 5,
   "id": "1650acaf",
   "metadata": {
    "execution": {
     "iopub.execute_input": "2025-08-05T16:40:06.237192Z",
     "iopub.status.busy": "2025-08-05T16:40:06.236572Z",
     "iopub.status.idle": "2025-08-05T16:40:06.241607Z",
     "shell.execute_reply": "2025-08-05T16:40:06.240550Z"
    },
    "papermill": {
     "duration": 0.02336,
     "end_time": "2025-08-05T16:40:06.243499",
     "exception": false,
     "start_time": "2025-08-05T16:40:06.220139",
     "status": "completed"
    },
    "tags": []
   },
   "outputs": [],
   "source": [
    "import json\n",
    "if isinstance(universe, str):\n",
    "    universe = json.loads(universe)"
   ]
  },
  {
   "cell_type": "code",
   "execution_count": 6,
   "id": "16620c48",
   "metadata": {
    "execution": {
     "iopub.execute_input": "2025-08-05T16:40:06.277875Z",
     "iopub.status.busy": "2025-08-05T16:40:06.277056Z",
     "iopub.status.idle": "2025-08-05T16:40:06.322802Z",
     "shell.execute_reply": "2025-08-05T16:40:06.321908Z"
    },
    "papermill": {
     "duration": 0.064039,
     "end_time": "2025-08-05T16:40:06.324578",
     "exception": false,
     "start_time": "2025-08-05T16:40:06.260539",
     "status": "completed"
    },
    "tags": []
   },
   "outputs": [],
   "source": [
    "# Auto-reload the custom package\n",
    "%load_ext autoreload\n",
    "%autoreload 1\n",
    "%aimport fairness_multiverse"
   ]
  },
  {
   "cell_type": "code",
   "execution_count": 7,
   "id": "01c5c9f3",
   "metadata": {
    "execution": {
     "iopub.execute_input": "2025-08-05T16:40:06.358736Z",
     "iopub.status.busy": "2025-08-05T16:40:06.357865Z",
     "iopub.status.idle": "2025-08-05T16:40:08.327477Z",
     "shell.execute_reply": "2025-08-05T16:40:08.326383Z"
    },
    "papermill": {
     "duration": 1.988547,
     "end_time": "2025-08-05T16:40:08.329419",
     "exception": false,
     "start_time": "2025-08-05T16:40:06.340872",
     "status": "completed"
    },
    "tags": []
   },
   "outputs": [],
   "source": [
    "from fairness_multiverse.universe import UniverseAnalysis\n",
    "\n",
    "universe_analysis = UniverseAnalysis(\n",
    "    run_no = run_no,\n",
    "    universe_id = universe_id,\n",
    "    universe = universe,\n",
    "    output_dir=output_dir,\n",
    ")"
   ]
  },
  {
   "cell_type": "code",
   "execution_count": 8,
   "id": "106241f5",
   "metadata": {
    "execution": {
     "iopub.execute_input": "2025-08-05T16:40:08.366392Z",
     "iopub.status.busy": "2025-08-05T16:40:08.365916Z",
     "iopub.status.idle": "2025-08-05T16:40:08.372406Z",
     "shell.execute_reply": "2025-08-05T16:40:08.371377Z"
    },
    "papermill": {
     "duration": 0.025754,
     "end_time": "2025-08-05T16:40:08.374274",
     "exception": false,
     "start_time": "2025-08-05T16:40:08.348520",
     "status": "completed"
    },
    "tags": []
   },
   "outputs": [
    {
     "name": "stdout",
     "output_type": "stream",
     "text": [
      "Using Seed: 2023\n"
     ]
    }
   ],
   "source": [
    "import numpy as np\n",
    "parsed_seed = int(seed)\n",
    "np.random.seed(parsed_seed)\n",
    "print(f\"Using Seed: {parsed_seed}\")"
   ]
  },
  {
   "cell_type": "markdown",
   "id": "e0ebdc57",
   "metadata": {
    "papermill": {
     "duration": 0.017107,
     "end_time": "2025-08-05T16:40:08.410108",
     "exception": false,
     "start_time": "2025-08-05T16:40:08.393001",
     "status": "completed"
    },
    "tags": []
   },
   "source": [
    "# Loading Data"
   ]
  },
  {
   "cell_type": "code",
   "execution_count": 9,
   "id": "f0496b8a",
   "metadata": {
    "execution": {
     "iopub.execute_input": "2025-08-05T16:40:08.445767Z",
     "iopub.status.busy": "2025-08-05T16:40:08.445033Z",
     "iopub.status.idle": "2025-08-05T16:40:21.368134Z",
     "shell.execute_reply": "2025-08-05T16:40:21.367117Z"
    },
    "papermill": {
     "duration": 12.942533,
     "end_time": "2025-08-05T16:40:21.370054",
     "exception": false,
     "start_time": "2025-08-05T16:40:08.427521",
     "status": "completed"
    },
    "tags": []
   },
   "outputs": [
    {
     "name": "stdout",
     "output_type": "stream",
     "text": [
      "Loading SIAB data from cache: data/siab_cached.csv.gz\n"
     ]
    },
    {
     "name": "stdout",
     "output_type": "stream",
     "text": [
      "(643690, 164)\n"
     ]
    }
   ],
   "source": [
    "from pathlib import Path\n",
    "import pandas as pd\n",
    "\n",
    "# File paths\n",
    "raw_file = Path(\"data/raw/siab.csv\")\n",
    "cache_file = Path(\"data/siab_cached.csv.gz\")\n",
    "\n",
    "# Ensure cache directory exists\n",
    "cache_file.parent.mkdir(parents=True, exist_ok=True)\n",
    "\n",
    "# Load with simple caching\n",
    "if cache_file.exists():\n",
    "    print(f\"Loading SIAB data from cache: {cache_file}\")\n",
    "    siab = pd.read_csv(cache_file, compression='gzip')\n",
    "else:\n",
    "    print(f\"Cache not found. Reading raw SIAB data: {raw_file}\")\n",
    "    siab = pd.read_csv(raw_file)\n",
    "    siab.to_csv(cache_file, index=False, compression='gzip')\n",
    "    print(f\"Cached SIAB data to: {cache_file}\")\n",
    "\n",
    "print(siab.shape)"
   ]
  },
  {
   "cell_type": "code",
   "execution_count": 10,
   "id": "db0ca512-5f53-4dba-abdb-a2888bca41ba",
   "metadata": {
    "execution": {
     "iopub.execute_input": "2025-08-05T16:40:21.417180Z",
     "iopub.status.busy": "2025-08-05T16:40:21.416631Z",
     "iopub.status.idle": "2025-08-05T16:40:21.423126Z",
     "shell.execute_reply": "2025-08-05T16:40:21.421858Z"
    },
    "papermill": {
     "duration": 0.030289,
     "end_time": "2025-08-05T16:40:21.425156",
     "exception": false,
     "start_time": "2025-08-05T16:40:21.394867",
     "status": "completed"
    },
    "tags": []
   },
   "outputs": [],
   "source": [
    "#siab"
   ]
  },
  {
   "cell_type": "markdown",
   "id": "997051c5-15bd-4b69-9786-c3001a3ce484",
   "metadata": {
    "papermill": {
     "duration": 0.02265,
     "end_time": "2025-08-05T16:40:21.469306",
     "exception": false,
     "start_time": "2025-08-05T16:40:21.446656",
     "status": "completed"
    },
    "tags": []
   },
   "source": [
    "# Splitting Data and Setting Training Data Size"
   ]
  },
  {
   "cell_type": "code",
   "execution_count": 11,
   "id": "aea9c6ef-6f46-42c8-85eb-5a62025c1508",
   "metadata": {
    "execution": {
     "iopub.execute_input": "2025-08-05T16:40:21.517798Z",
     "iopub.status.busy": "2025-08-05T16:40:21.511917Z",
     "iopub.status.idle": "2025-08-05T16:40:22.591612Z",
     "shell.execute_reply": "2025-08-05T16:40:22.590648Z"
    },
    "papermill": {
     "duration": 1.103612,
     "end_time": "2025-08-05T16:40:22.593480",
     "exception": false,
     "start_time": "2025-08-05T16:40:21.489868",
     "status": "completed"
    },
    "tags": []
   },
   "outputs": [],
   "source": [
    "from fairness_multiverse.universe import sample_by_year_size\n",
    "\n",
    "siab_train = sample_by_year_size(siab,\n",
    "                               training_year=universe[\"training_year\"],\n",
    "                               training_size=universe[\"training_size\"])"
   ]
  },
  {
   "cell_type": "code",
   "execution_count": 12,
   "id": "8d3afb32-789d-442c-8d5d-9f5aa8dd2eed",
   "metadata": {
    "execution": {
     "iopub.execute_input": "2025-08-05T16:40:22.631148Z",
     "iopub.status.busy": "2025-08-05T16:40:22.630657Z",
     "iopub.status.idle": "2025-08-05T16:40:22.636427Z",
     "shell.execute_reply": "2025-08-05T16:40:22.635385Z"
    },
    "papermill": {
     "duration": 0.026547,
     "end_time": "2025-08-05T16:40:22.638402",
     "exception": false,
     "start_time": "2025-08-05T16:40:22.611855",
     "status": "completed"
    },
    "tags": []
   },
   "outputs": [],
   "source": [
    "#siab_train.shape"
   ]
  },
  {
   "cell_type": "code",
   "execution_count": 13,
   "id": "d582db68-1a4c-47fb-84fc-08518dc1975a",
   "metadata": {
    "execution": {
     "iopub.execute_input": "2025-08-05T16:40:22.679300Z",
     "iopub.status.busy": "2025-08-05T16:40:22.678118Z",
     "iopub.status.idle": "2025-08-05T16:40:22.684669Z",
     "shell.execute_reply": "2025-08-05T16:40:22.683285Z"
    },
    "papermill": {
     "duration": 0.029337,
     "end_time": "2025-08-05T16:40:22.686955",
     "exception": false,
     "start_time": "2025-08-05T16:40:22.657618",
     "status": "completed"
    },
    "tags": []
   },
   "outputs": [],
   "source": [
    "#display(siab_train.groupby(\"year\").size())"
   ]
  },
  {
   "cell_type": "code",
   "execution_count": 14,
   "id": "a561edb4-d032-42cb-8256-22eac1111c64",
   "metadata": {
    "execution": {
     "iopub.execute_input": "2025-08-05T16:40:22.726739Z",
     "iopub.status.busy": "2025-08-05T16:40:22.725777Z",
     "iopub.status.idle": "2025-08-05T16:40:23.004205Z",
     "shell.execute_reply": "2025-08-05T16:40:23.003164Z"
    },
    "papermill": {
     "duration": 0.299275,
     "end_time": "2025-08-05T16:40:23.006219",
     "exception": false,
     "start_time": "2025-08-05T16:40:22.706944",
     "status": "completed"
    },
    "tags": []
   },
   "outputs": [],
   "source": [
    "#siab_train = siab_s[siab_s.year < 2015]\n",
    "siab_calib = siab[siab.year == 2015]\n",
    "siab_test = siab[siab.year == 2016]"
   ]
  },
  {
   "cell_type": "code",
   "execution_count": 15,
   "id": "472de16f-c3db-4916-846b-1f0de9cf1746",
   "metadata": {
    "execution": {
     "iopub.execute_input": "2025-08-05T16:40:23.046292Z",
     "iopub.status.busy": "2025-08-05T16:40:23.045343Z",
     "iopub.status.idle": "2025-08-05T16:40:23.052443Z",
     "shell.execute_reply": "2025-08-05T16:40:23.051431Z"
    },
    "papermill": {
     "duration": 0.028482,
     "end_time": "2025-08-05T16:40:23.054582",
     "exception": false,
     "start_time": "2025-08-05T16:40:23.026100",
     "status": "completed"
    },
    "tags": []
   },
   "outputs": [],
   "source": [
    "X_train = siab_train.iloc[:,4:164]\n",
    "y_train = siab_train.iloc[:, [3]]"
   ]
  },
  {
   "cell_type": "code",
   "execution_count": 16,
   "id": "828c96af-f43a-4ed6-ba47-8ac73a47d56c",
   "metadata": {
    "execution": {
     "iopub.execute_input": "2025-08-05T16:40:23.094864Z",
     "iopub.status.busy": "2025-08-05T16:40:23.094373Z",
     "iopub.status.idle": "2025-08-05T16:40:23.146600Z",
     "shell.execute_reply": "2025-08-05T16:40:23.145564Z"
    },
    "papermill": {
     "duration": 0.074211,
     "end_time": "2025-08-05T16:40:23.148725",
     "exception": false,
     "start_time": "2025-08-05T16:40:23.074514",
     "status": "completed"
    },
    "tags": []
   },
   "outputs": [],
   "source": [
    "X_calib = siab_calib.iloc[:,4:164]\n",
    "y_calib = siab_calib.iloc[:, [3]]"
   ]
  },
  {
   "cell_type": "code",
   "execution_count": 17,
   "id": "c34be9c3-6bd6-476e-acd3-845840e303be",
   "metadata": {
    "execution": {
     "iopub.execute_input": "2025-08-05T16:40:23.190667Z",
     "iopub.status.busy": "2025-08-05T16:40:23.189704Z",
     "iopub.status.idle": "2025-08-05T16:40:23.244030Z",
     "shell.execute_reply": "2025-08-05T16:40:23.242832Z"
    },
    "papermill": {
     "duration": 0.075893,
     "end_time": "2025-08-05T16:40:23.246549",
     "exception": false,
     "start_time": "2025-08-05T16:40:23.170656",
     "status": "completed"
    },
    "tags": []
   },
   "outputs": [],
   "source": [
    "X_test = siab_test.iloc[:,4:164]\n",
    "y_true = siab_test.iloc[:, [3]]"
   ]
  },
  {
   "cell_type": "code",
   "execution_count": 18,
   "id": "e6c733c5",
   "metadata": {
    "execution": {
     "iopub.execute_input": "2025-08-05T16:40:23.286290Z",
     "iopub.status.busy": "2025-08-05T16:40:23.285460Z",
     "iopub.status.idle": "2025-08-05T16:40:23.382696Z",
     "shell.execute_reply": "2025-08-05T16:40:23.381672Z"
    },
    "papermill": {
     "duration": 0.11768,
     "end_time": "2025-08-05T16:40:23.384179",
     "exception": false,
     "start_time": "2025-08-05T16:40:23.266499",
     "status": "completed"
    },
    "tags": []
   },
   "outputs": [],
   "source": [
    "# Auxiliary data needed downstream in the pipeline\n",
    "\n",
    "org_train = X_train.copy()\n",
    "org_test = X_test.copy()\n",
    "org_calib = X_calib.copy()"
   ]
  },
  {
   "cell_type": "markdown",
   "id": "0a4a1b33",
   "metadata": {
    "papermill": {
     "duration": 0.018503,
     "end_time": "2025-08-05T16:40:23.420060",
     "exception": false,
     "start_time": "2025-08-05T16:40:23.401557",
     "status": "completed"
    },
    "tags": []
   },
   "source": [
    "# Preprocessing Data"
   ]
  },
  {
   "cell_type": "code",
   "execution_count": 19,
   "id": "ca879031",
   "metadata": {
    "execution": {
     "iopub.execute_input": "2025-08-05T16:40:23.453152Z",
     "iopub.status.busy": "2025-08-05T16:40:23.452508Z",
     "iopub.status.idle": "2025-08-05T16:40:23.458519Z",
     "shell.execute_reply": "2025-08-05T16:40:23.457804Z"
    },
    "papermill": {
     "duration": 0.021152,
     "end_time": "2025-08-05T16:40:23.459810",
     "exception": false,
     "start_time": "2025-08-05T16:40:23.438658",
     "status": "completed"
    },
    "tags": []
   },
   "outputs": [],
   "source": [
    "# EXCLUDE PROTECTED FEATURES\n",
    "# ----------------------\n",
    "# \"exclude_features\": \"none\", # \"nationality\", \"sex\", \"nationality-sex\"\n",
    "\n",
    "excluded_features = universe[\"exclude_features\"].split(\"-\") # split, e.g.: \"nationality-sex\" -> [\"nationality\", \"sex\"]\n",
    "excluded_features_dictionary = {\n",
    "    \"nationality\": [\"maxdeutsch1\", \"maxdeutsch.Missing.\"],\n",
    "    \"sex\": [\"frau1\"],\n",
    "    \"age\": [\"age\"],\n",
    "}"
   ]
  },
  {
   "cell_type": "code",
   "execution_count": 20,
   "id": "b745ac60",
   "metadata": {
    "execution": {
     "iopub.execute_input": "2025-08-05T16:40:23.481461Z",
     "iopub.status.busy": "2025-08-05T16:40:23.480883Z",
     "iopub.status.idle": "2025-08-05T16:40:23.486506Z",
     "shell.execute_reply": "2025-08-05T16:40:23.485451Z"
    },
    "papermill": {
     "duration": 0.017515,
     "end_time": "2025-08-05T16:40:23.488366",
     "exception": false,
     "start_time": "2025-08-05T16:40:23.470851",
     "status": "completed"
    },
    "tags": []
   },
   "outputs": [],
   "source": [
    "# Code nice names to column names\n",
    "\n",
    "excluded_features_columns = [\n",
    "    excluded_features_dictionary[f] for f in excluded_features if len(f) > 0 and f != \"none\"\n",
    "]"
   ]
  },
  {
   "cell_type": "code",
   "execution_count": 21,
   "id": "f84f73a2",
   "metadata": {
    "execution": {
     "iopub.execute_input": "2025-08-05T16:40:23.527105Z",
     "iopub.status.busy": "2025-08-05T16:40:23.526269Z",
     "iopub.status.idle": "2025-08-05T16:40:23.533644Z",
     "shell.execute_reply": "2025-08-05T16:40:23.531999Z"
    },
    "papermill": {
     "duration": 0.029656,
     "end_time": "2025-08-05T16:40:23.535699",
     "exception": false,
     "start_time": "2025-08-05T16:40:23.506043",
     "status": "completed"
    },
    "tags": []
   },
   "outputs": [],
   "source": [
    "from utils import flatten_once\n",
    "\n",
    "excluded_features_columns = flatten_once(excluded_features_columns)"
   ]
  },
  {
   "cell_type": "code",
   "execution_count": 22,
   "id": "884dea22",
   "metadata": {
    "execution": {
     "iopub.execute_input": "2025-08-05T16:40:23.571911Z",
     "iopub.status.busy": "2025-08-05T16:40:23.571144Z",
     "iopub.status.idle": "2025-08-05T16:40:23.579905Z",
     "shell.execute_reply": "2025-08-05T16:40:23.578791Z"
    },
    "papermill": {
     "duration": 0.025999,
     "end_time": "2025-08-05T16:40:23.581614",
     "exception": false,
     "start_time": "2025-08-05T16:40:23.555615",
     "status": "completed"
    },
    "tags": []
   },
   "outputs": [
    {
     "name": "stdout",
     "output_type": "stream",
     "text": [
      "Dropping features: ['frau1']\n"
     ]
    }
   ],
   "source": [
    "if len(excluded_features_columns) > 0:\n",
    "    print(f\"Dropping features: {excluded_features_columns}\")\n",
    "    X_train.drop(excluded_features_columns, axis=1, inplace=True)"
   ]
  },
  {
   "cell_type": "code",
   "execution_count": 23,
   "id": "95ab8b16",
   "metadata": {
    "execution": {
     "iopub.execute_input": "2025-08-05T16:40:23.621590Z",
     "iopub.status.busy": "2025-08-05T16:40:23.620814Z",
     "iopub.status.idle": "2025-08-05T16:40:23.676572Z",
     "shell.execute_reply": "2025-08-05T16:40:23.675427Z"
    },
    "papermill": {
     "duration": 0.076351,
     "end_time": "2025-08-05T16:40:23.678729",
     "exception": false,
     "start_time": "2025-08-05T16:40:23.602378",
     "status": "completed"
    },
    "tags": []
   },
   "outputs": [
    {
     "name": "stdout",
     "output_type": "stream",
     "text": [
      "Dropping features: ['frau1']\n"
     ]
    }
   ],
   "source": [
    "if len(excluded_features_columns) > 0:\n",
    "    print(f\"Dropping features: {excluded_features_columns}\")\n",
    "    X_test.drop(excluded_features_columns, axis=1, inplace=True)"
   ]
  },
  {
   "cell_type": "code",
   "execution_count": 24,
   "id": "1853aaf5-fb9f-46cb-a2b5-8ea4ae2237e4",
   "metadata": {
    "execution": {
     "iopub.execute_input": "2025-08-05T16:40:23.710252Z",
     "iopub.status.busy": "2025-08-05T16:40:23.709920Z",
     "iopub.status.idle": "2025-08-05T16:40:23.771042Z",
     "shell.execute_reply": "2025-08-05T16:40:23.769598Z"
    },
    "papermill": {
     "duration": 0.074584,
     "end_time": "2025-08-05T16:40:23.773152",
     "exception": false,
     "start_time": "2025-08-05T16:40:23.698568",
     "status": "completed"
    },
    "tags": []
   },
   "outputs": [
    {
     "name": "stdout",
     "output_type": "stream",
     "text": [
      "Dropping features: ['frau1']\n"
     ]
    }
   ],
   "source": [
    "if len(excluded_features_columns) > 0:\n",
    "    print(f\"Dropping features: {excluded_features_columns}\")\n",
    "    X_calib.drop(excluded_features_columns, axis=1, inplace=True)"
   ]
  },
  {
   "cell_type": "code",
   "execution_count": 25,
   "id": "76c4dc6d",
   "metadata": {
    "execution": {
     "iopub.execute_input": "2025-08-05T16:40:23.817054Z",
     "iopub.status.busy": "2025-08-05T16:40:23.816639Z",
     "iopub.status.idle": "2025-08-05T16:40:23.821780Z",
     "shell.execute_reply": "2025-08-05T16:40:23.820764Z"
    },
    "papermill": {
     "duration": 0.02737,
     "end_time": "2025-08-05T16:40:23.823407",
     "exception": false,
     "start_time": "2025-08-05T16:40:23.796037",
     "status": "completed"
    },
    "tags": []
   },
   "outputs": [],
   "source": [
    "# EXCLUDE CERTAIN SUBGROUPS\n",
    "# ----------------------\n",
    "\n",
    "mode = universe.get(\"exclude_subgroups\", \"keep-all\") \n",
    "# Fetches the exclude_subgroups setting from the universe dict.\n",
    "# Defaults to \"keep-all\" if the key is missing."
   ]
  },
  {
   "cell_type": "code",
   "execution_count": 26,
   "id": "21994072",
   "metadata": {
    "execution": {
     "iopub.execute_input": "2025-08-05T16:40:23.866203Z",
     "iopub.status.busy": "2025-08-05T16:40:23.865733Z",
     "iopub.status.idle": "2025-08-05T16:40:23.872604Z",
     "shell.execute_reply": "2025-08-05T16:40:23.871691Z"
    },
    "papermill": {
     "duration": 0.031743,
     "end_time": "2025-08-05T16:40:23.874808",
     "exception": false,
     "start_time": "2025-08-05T16:40:23.843065",
     "status": "completed"
    },
    "tags": []
   },
   "outputs": [],
   "source": [
    "if mode == \"keep-all\":\n",
    "    keep_mask = pd.Series(True, index=org_train.index)\n",
    "\n",
    "# org_train contains the original feature columns from features_org (in Simson)\n",
    "# features_org contains unprocessed features, for me X_train at beginning ???\n",
    "# For keep-all, creates a boolean Series (keep_mask) of all True, so no rows are removed.\n",
    "\n",
    "elif mode == \"drop-non-german\":\n",
    "    keep_mask = org_train[\"maxdeutsch1\"] == 1 # ??? what about missing values?\n",
    "\n",
    "else:\n",
    "    raise ValueError(f\"Unsupported mode for exclude_subgroups: {mode}\")"
   ]
  },
  {
   "cell_type": "code",
   "execution_count": 27,
   "id": "71651440",
   "metadata": {
    "execution": {
     "iopub.execute_input": "2025-08-05T16:40:23.915249Z",
     "iopub.status.busy": "2025-08-05T16:40:23.914823Z",
     "iopub.status.idle": "2025-08-05T16:40:23.921037Z",
     "shell.execute_reply": "2025-08-05T16:40:23.920011Z"
    },
    "papermill": {
     "duration": 0.029423,
     "end_time": "2025-08-05T16:40:23.923262",
     "exception": false,
     "start_time": "2025-08-05T16:40:23.893839",
     "status": "completed"
    },
    "tags": []
   },
   "outputs": [],
   "source": [
    "n_drop = (~keep_mask).sum() # Calculates how many rows are set to be dropped\n",
    "if n_drop > 0:\n",
    "    pct = n_drop / len(keep_mask) * 100\n",
    "    print(f\"Dropping {n_drop} rows ({pct:.2f}%) where mode='{mode}'\")"
   ]
  },
  {
   "cell_type": "code",
   "execution_count": 28,
   "id": "5fb8eee5",
   "metadata": {
    "execution": {
     "iopub.execute_input": "2025-08-05T16:40:23.952579Z",
     "iopub.status.busy": "2025-08-05T16:40:23.952207Z",
     "iopub.status.idle": "2025-08-05T16:40:23.958150Z",
     "shell.execute_reply": "2025-08-05T16:40:23.957257Z"
    },
    "papermill": {
     "duration": 0.020662,
     "end_time": "2025-08-05T16:40:23.959562",
     "exception": false,
     "start_time": "2025-08-05T16:40:23.938900",
     "status": "completed"
    },
    "tags": []
   },
   "outputs": [],
   "source": [
    "X_train = X_train[keep_mask]"
   ]
  },
  {
   "cell_type": "code",
   "execution_count": 29,
   "id": "b202bb3a",
   "metadata": {
    "execution": {
     "iopub.execute_input": "2025-08-05T16:40:23.983350Z",
     "iopub.status.busy": "2025-08-05T16:40:23.983006Z",
     "iopub.status.idle": "2025-08-05T16:40:23.989298Z",
     "shell.execute_reply": "2025-08-05T16:40:23.988099Z"
    },
    "papermill": {
     "duration": 0.020116,
     "end_time": "2025-08-05T16:40:23.991252",
     "exception": false,
     "start_time": "2025-08-05T16:40:23.971136",
     "status": "completed"
    },
    "tags": []
   },
   "outputs": [],
   "source": [
    "y_train = y_train[keep_mask]"
   ]
  },
  {
   "cell_type": "markdown",
   "id": "493e2ac3",
   "metadata": {
    "papermill": {
     "duration": 0.020411,
     "end_time": "2025-08-05T16:40:24.032931",
     "exception": false,
     "start_time": "2025-08-05T16:40:24.012520",
     "status": "completed"
    },
    "tags": []
   },
   "source": [
    "# Model Training"
   ]
  },
  {
   "cell_type": "code",
   "execution_count": 30,
   "id": "679e1268",
   "metadata": {
    "execution": {
     "iopub.execute_input": "2025-08-05T16:40:24.073552Z",
     "iopub.status.busy": "2025-08-05T16:40:24.072610Z",
     "iopub.status.idle": "2025-08-05T16:40:24.175679Z",
     "shell.execute_reply": "2025-08-05T16:40:24.174657Z"
    },
    "papermill": {
     "duration": 0.123902,
     "end_time": "2025-08-05T16:40:24.177921",
     "exception": false,
     "start_time": "2025-08-05T16:40:24.054019",
     "status": "completed"
    },
    "tags": []
   },
   "outputs": [],
   "source": [
    "from sklearn.linear_model import LogisticRegression\n",
    "from sklearn.ensemble import GradientBoostingClassifier, RandomForestClassifier\n",
    "\n",
    "if (universe[\"model\"] == \"logreg\"):\n",
    "    model = LogisticRegression() #penalty=\"none\", solver=\"newton-cg\", max_iter=1) # include random_state=19 ?\n",
    "elif (universe[\"model\"] == \"penalized_logreg\"):\n",
    "    model = LogisticRegression(penalty=\"l2\", C=0.1) #, solver=\"newton-cg\", max_iter=1)\n",
    "elif (universe[\"model\"] == \"rf\"):\n",
    "    model = RandomForestClassifier() # n_estimators=100, n_jobs=-1\n",
    "elif (universe[\"model\"] == \"gbm\"):\n",
    "    model = GradientBoostingClassifier()\n",
    "elif (universe[\"model\"] == \"elasticnet\"):\n",
    "    model = LogisticRegression(penalty = 'elasticnet', solver = 'saga', l1_ratio = 0.5) # max_iter=5000\n",
    "else:\n",
    "    raise \"Unsupported universe.model\""
   ]
  },
  {
   "cell_type": "code",
   "execution_count": 31,
   "id": "0cc8f744",
   "metadata": {
    "execution": {
     "iopub.execute_input": "2025-08-05T16:40:24.222997Z",
     "iopub.status.busy": "2025-08-05T16:40:24.222099Z",
     "iopub.status.idle": "2025-08-05T16:40:24.228627Z",
     "shell.execute_reply": "2025-08-05T16:40:24.227620Z"
    },
    "papermill": {
     "duration": 0.030216,
     "end_time": "2025-08-05T16:40:24.230802",
     "exception": false,
     "start_time": "2025-08-05T16:40:24.200586",
     "status": "completed"
    },
    "tags": []
   },
   "outputs": [],
   "source": [
    "import numpy as np\n",
    "from sklearn.pipeline import Pipeline\n",
    "from sklearn.preprocessing import StandardScaler\n",
    "\n",
    "model = Pipeline([\n",
    "    #(\"continuous_processor\", continuous_processor),\n",
    "    #(\"categorical_preprocessor\", categorical_preprocessor),\n",
    "    (\"scale\", StandardScaler() if universe[\"scale\"] == \"scale\" else None), \n",
    "    (\"model\", model),\n",
    "])"
   ]
  },
  {
   "cell_type": "code",
   "execution_count": 32,
   "id": "9442c04d",
   "metadata": {
    "execution": {
     "iopub.execute_input": "2025-08-05T16:40:24.283470Z",
     "iopub.status.busy": "2025-08-05T16:40:24.282500Z",
     "iopub.status.idle": "2025-08-05T16:40:24.352978Z",
     "shell.execute_reply": "2025-08-05T16:40:24.352026Z"
    },
    "papermill": {
     "duration": 0.098963,
     "end_time": "2025-08-05T16:40:24.354871",
     "exception": false,
     "start_time": "2025-08-05T16:40:24.255908",
     "status": "completed"
    },
    "tags": []
   },
   "outputs": [
    {
     "name": "stderr",
     "output_type": "stream",
     "text": [
      "/dss/dsshome1/0C/ra93lal2/.local/share/virtualenvs/CMA_Fairness_v2-3j10GkSs/lib/python3.10/site-packages/sklearn/linear_model/_logistic.py:444: ConvergenceWarning: lbfgs failed to converge (status=1):\n",
      "STOP: TOTAL NO. of ITERATIONS REACHED LIMIT.\n",
      "\n",
      "Increase the number of iterations (max_iter) or scale the data as shown in:\n",
      "    https://scikit-learn.org/stable/modules/preprocessing.html\n",
      "Please also refer to the documentation for alternative solver options:\n",
      "    https://scikit-learn.org/stable/modules/linear_model.html#logistic-regression\n",
      "  n_iter_i = _check_optimize_result(\n"
     ]
    },
    {
     "data": {
      "text/html": [
       "<style>#sk-container-id-1 {color: black;background-color: white;}#sk-container-id-1 pre{padding: 0;}#sk-container-id-1 div.sk-toggleable {background-color: white;}#sk-container-id-1 label.sk-toggleable__label {cursor: pointer;display: block;width: 100%;margin-bottom: 0;padding: 0.3em;box-sizing: border-box;text-align: center;}#sk-container-id-1 label.sk-toggleable__label-arrow:before {content: \"▸\";float: left;margin-right: 0.25em;color: #696969;}#sk-container-id-1 label.sk-toggleable__label-arrow:hover:before {color: black;}#sk-container-id-1 div.sk-estimator:hover label.sk-toggleable__label-arrow:before {color: black;}#sk-container-id-1 div.sk-toggleable__content {max-height: 0;max-width: 0;overflow: hidden;text-align: left;background-color: #f0f8ff;}#sk-container-id-1 div.sk-toggleable__content pre {margin: 0.2em;color: black;border-radius: 0.25em;background-color: #f0f8ff;}#sk-container-id-1 input.sk-toggleable__control:checked~div.sk-toggleable__content {max-height: 200px;max-width: 100%;overflow: auto;}#sk-container-id-1 input.sk-toggleable__control:checked~label.sk-toggleable__label-arrow:before {content: \"▾\";}#sk-container-id-1 div.sk-estimator input.sk-toggleable__control:checked~label.sk-toggleable__label {background-color: #d4ebff;}#sk-container-id-1 div.sk-label input.sk-toggleable__control:checked~label.sk-toggleable__label {background-color: #d4ebff;}#sk-container-id-1 input.sk-hidden--visually {border: 0;clip: rect(1px 1px 1px 1px);clip: rect(1px, 1px, 1px, 1px);height: 1px;margin: -1px;overflow: hidden;padding: 0;position: absolute;width: 1px;}#sk-container-id-1 div.sk-estimator {font-family: monospace;background-color: #f0f8ff;border: 1px dotted black;border-radius: 0.25em;box-sizing: border-box;margin-bottom: 0.5em;}#sk-container-id-1 div.sk-estimator:hover {background-color: #d4ebff;}#sk-container-id-1 div.sk-parallel-item::after {content: \"\";width: 100%;border-bottom: 1px solid gray;flex-grow: 1;}#sk-container-id-1 div.sk-label:hover label.sk-toggleable__label {background-color: #d4ebff;}#sk-container-id-1 div.sk-serial::before {content: \"\";position: absolute;border-left: 1px solid gray;box-sizing: border-box;top: 0;bottom: 0;left: 50%;z-index: 0;}#sk-container-id-1 div.sk-serial {display: flex;flex-direction: column;align-items: center;background-color: white;padding-right: 0.2em;padding-left: 0.2em;position: relative;}#sk-container-id-1 div.sk-item {position: relative;z-index: 1;}#sk-container-id-1 div.sk-parallel {display: flex;align-items: stretch;justify-content: center;background-color: white;position: relative;}#sk-container-id-1 div.sk-item::before, #sk-container-id-1 div.sk-parallel-item::before {content: \"\";position: absolute;border-left: 1px solid gray;box-sizing: border-box;top: 0;bottom: 0;left: 50%;z-index: -1;}#sk-container-id-1 div.sk-parallel-item {display: flex;flex-direction: column;z-index: 1;position: relative;background-color: white;}#sk-container-id-1 div.sk-parallel-item:first-child::after {align-self: flex-end;width: 50%;}#sk-container-id-1 div.sk-parallel-item:last-child::after {align-self: flex-start;width: 50%;}#sk-container-id-1 div.sk-parallel-item:only-child::after {width: 0;}#sk-container-id-1 div.sk-dashed-wrapped {border: 1px dashed gray;margin: 0 0.4em 0.5em 0.4em;box-sizing: border-box;padding-bottom: 0.4em;background-color: white;}#sk-container-id-1 div.sk-label label {font-family: monospace;font-weight: bold;display: inline-block;line-height: 1.2em;}#sk-container-id-1 div.sk-label-container {text-align: center;}#sk-container-id-1 div.sk-container {/* jupyter's `normalize.less` sets `[hidden] { display: none; }` but bootstrap.min.css set `[hidden] { display: none !important; }` so we also need the `!important` here to be able to override the default hidden behavior on the sphinx rendered scikit-learn.org. See: https://github.com/scikit-learn/scikit-learn/issues/21755 */display: inline-block !important;position: relative;}#sk-container-id-1 div.sk-text-repr-fallback {display: none;}</style><div id=\"sk-container-id-1\" class=\"sk-top-container\"><div class=\"sk-text-repr-fallback\"><pre>Pipeline(steps=[(&#x27;scale&#x27;, None), (&#x27;model&#x27;, LogisticRegression(C=0.1))])</pre><b>In a Jupyter environment, please rerun this cell to show the HTML representation or trust the notebook. <br />On GitHub, the HTML representation is unable to render, please try loading this page with nbviewer.org.</b></div><div class=\"sk-container\" hidden><div class=\"sk-item sk-dashed-wrapped\"><div class=\"sk-label-container\"><div class=\"sk-label sk-toggleable\"><input class=\"sk-toggleable__control sk-hidden--visually\" id=\"sk-estimator-id-1\" type=\"checkbox\" ><label for=\"sk-estimator-id-1\" class=\"sk-toggleable__label sk-toggleable__label-arrow\">Pipeline</label><div class=\"sk-toggleable__content\"><pre>Pipeline(steps=[(&#x27;scale&#x27;, None), (&#x27;model&#x27;, LogisticRegression(C=0.1))])</pre></div></div></div><div class=\"sk-serial\"><div class=\"sk-item\"><div class=\"sk-estimator sk-toggleable\"><input class=\"sk-toggleable__control sk-hidden--visually\" id=\"sk-estimator-id-2\" type=\"checkbox\" ><label for=\"sk-estimator-id-2\" class=\"sk-toggleable__label sk-toggleable__label-arrow\">None</label><div class=\"sk-toggleable__content\"><pre>None</pre></div></div></div><div class=\"sk-item\"><div class=\"sk-estimator sk-toggleable\"><input class=\"sk-toggleable__control sk-hidden--visually\" id=\"sk-estimator-id-3\" type=\"checkbox\" ><label for=\"sk-estimator-id-3\" class=\"sk-toggleable__label sk-toggleable__label-arrow\">LogisticRegression</label><div class=\"sk-toggleable__content\"><pre>LogisticRegression(C=0.1)</pre></div></div></div></div></div></div></div>"
      ],
      "text/plain": [
       "Pipeline(steps=[('scale', None), ('model', LogisticRegression(C=0.1))])"
      ]
     },
     "execution_count": 32,
     "metadata": {},
     "output_type": "execute_result"
    }
   ],
   "source": [
    "model.fit(X_train, y_train.values.ravel())"
   ]
  },
  {
   "cell_type": "code",
   "execution_count": 33,
   "id": "af59f8c0",
   "metadata": {
    "execution": {
     "iopub.execute_input": "2025-08-05T16:40:24.402158Z",
     "iopub.status.busy": "2025-08-05T16:40:24.401405Z",
     "iopub.status.idle": "2025-08-05T16:40:24.407122Z",
     "shell.execute_reply": "2025-08-05T16:40:24.406089Z"
    },
    "papermill": {
     "duration": 0.031431,
     "end_time": "2025-08-05T16:40:24.409185",
     "exception": false,
     "start_time": "2025-08-05T16:40:24.377754",
     "status": "completed"
    },
    "tags": []
   },
   "outputs": [],
   "source": [
    "from fairness_multiverse.universe import predict_w_threshold"
   ]
  },
  {
   "cell_type": "code",
   "execution_count": 34,
   "id": "a7cf2e16",
   "metadata": {
    "execution": {
     "iopub.execute_input": "2025-08-05T16:40:24.453484Z",
     "iopub.status.busy": "2025-08-05T16:40:24.453080Z",
     "iopub.status.idle": "2025-08-05T16:40:24.546544Z",
     "shell.execute_reply": "2025-08-05T16:40:24.545779Z"
    },
    "papermill": {
     "duration": 0.115053,
     "end_time": "2025-08-05T16:40:24.547994",
     "exception": false,
     "start_time": "2025-08-05T16:40:24.432941",
     "status": "completed"
    },
    "tags": []
   },
   "outputs": [
    {
     "data": {
      "text/plain": [
       "0.8502062200423587"
      ]
     },
     "execution_count": 34,
     "metadata": {},
     "output_type": "execute_result"
    }
   ],
   "source": [
    "probs_test = model.predict_proba(X_test)\n",
    "\n",
    "'''\n",
    "Below code returns a boolean array (or binary 0/1 array depending on how it’s used) where each element \n",
    "is True if the probability of class 1 is greater than or equal to the threshold, and False otherwise.\n",
    "'''\n",
    "y_pred_default = predict_w_threshold(probs_test, 0.5)\n",
    "\n",
    "from sklearn.metrics import accuracy_score\n",
    "\n",
    "# Naive prediction\n",
    "accuracy_score(y_true = y_true, y_pred = y_pred_default)"
   ]
  },
  {
   "cell_type": "code",
   "execution_count": 35,
   "id": "081964c3",
   "metadata": {
    "execution": {
     "iopub.execute_input": "2025-08-05T16:40:24.586931Z",
     "iopub.status.busy": "2025-08-05T16:40:24.586589Z",
     "iopub.status.idle": "2025-08-05T16:40:24.670019Z",
     "shell.execute_reply": "2025-08-05T16:40:24.668976Z"
    },
    "papermill": {
     "duration": 0.103714,
     "end_time": "2025-08-05T16:40:24.671620",
     "exception": false,
     "start_time": "2025-08-05T16:40:24.567906",
     "status": "completed"
    },
    "tags": []
   },
   "outputs": [
    {
     "data": {
      "text/plain": [
       "array([0, 0, 0, ..., 0, 0, 0])"
      ]
     },
     "execution_count": 35,
     "metadata": {},
     "output_type": "execute_result"
    }
   ],
   "source": [
    "model.predict(X_test)"
   ]
  },
  {
   "cell_type": "markdown",
   "id": "56c9705b",
   "metadata": {
    "papermill": {
     "duration": 0.018337,
     "end_time": "2025-08-05T16:40:24.709082",
     "exception": false,
     "start_time": "2025-08-05T16:40:24.690745",
     "status": "completed"
    },
    "tags": []
   },
   "source": [
    "# Conformal Prediction"
   ]
  },
  {
   "cell_type": "code",
   "execution_count": 36,
   "id": "160ec6ff",
   "metadata": {
    "execution": {
     "iopub.execute_input": "2025-08-05T16:40:24.748738Z",
     "iopub.status.busy": "2025-08-05T16:40:24.747892Z",
     "iopub.status.idle": "2025-08-05T16:40:24.753713Z",
     "shell.execute_reply": "2025-08-05T16:40:24.752689Z"
    },
    "papermill": {
     "duration": 0.027429,
     "end_time": "2025-08-05T16:40:24.755470",
     "exception": false,
     "start_time": "2025-08-05T16:40:24.728041",
     "status": "completed"
    },
    "tags": []
   },
   "outputs": [],
   "source": [
    "# Miscoverage level for conformal prediction (10% allowed error rate => 90% target coverage)\n",
    "alpha = 0.1"
   ]
  },
  {
   "cell_type": "code",
   "execution_count": 37,
   "id": "eadf4555-3dd3-440e-8e35-f82a4ad9f855",
   "metadata": {
    "execution": {
     "iopub.execute_input": "2025-08-05T16:40:24.795891Z",
     "iopub.status.busy": "2025-08-05T16:40:24.795107Z",
     "iopub.status.idle": "2025-08-05T16:40:24.880658Z",
     "shell.execute_reply": "2025-08-05T16:40:24.879627Z"
    },
    "papermill": {
     "duration": 0.107317,
     "end_time": "2025-08-05T16:40:24.882763",
     "exception": false,
     "start_time": "2025-08-05T16:40:24.775446",
     "status": "completed"
    },
    "tags": []
   },
   "outputs": [],
   "source": [
    "probs_calib = model.predict_proba(X_calib)"
   ]
  },
  {
   "cell_type": "code",
   "execution_count": 38,
   "id": "2ed93547-6d5d-4983-9b36-1ecb300da49a",
   "metadata": {
    "execution": {
     "iopub.execute_input": "2025-08-05T16:40:24.922259Z",
     "iopub.status.busy": "2025-08-05T16:40:24.921697Z",
     "iopub.status.idle": "2025-08-05T16:40:24.928005Z",
     "shell.execute_reply": "2025-08-05T16:40:24.926990Z"
    },
    "papermill": {
     "duration": 0.027693,
     "end_time": "2025-08-05T16:40:24.929802",
     "exception": false,
     "start_time": "2025-08-05T16:40:24.902109",
     "status": "completed"
    },
    "tags": []
   },
   "outputs": [],
   "source": [
    "y_calib = y_calib.values.ravel().astype(int)"
   ]
  },
  {
   "cell_type": "code",
   "execution_count": 39,
   "id": "65d1320d-f588-4b38-9072-62af1ae97f7d",
   "metadata": {
    "execution": {
     "iopub.execute_input": "2025-08-05T16:40:24.970303Z",
     "iopub.status.busy": "2025-08-05T16:40:24.969485Z",
     "iopub.status.idle": "2025-08-05T16:40:24.977449Z",
     "shell.execute_reply": "2025-08-05T16:40:24.976340Z"
    },
    "papermill": {
     "duration": 0.029224,
     "end_time": "2025-08-05T16:40:24.979491",
     "exception": false,
     "start_time": "2025-08-05T16:40:24.950267",
     "status": "completed"
    },
    "tags": []
   },
   "outputs": [],
   "source": [
    "from fairness_multiverse.conformal import compute_nc_scores\n",
    "\n",
    "# Compute nonconformity scores on calibration set (1 - probability of true class)\n",
    "nc_scores = compute_nc_scores(probs_calib, y_calib)"
   ]
  },
  {
   "cell_type": "code",
   "execution_count": 40,
   "id": "df3b8ca3-53b7-43d5-9667-7c85da7aeda2",
   "metadata": {
    "execution": {
     "iopub.execute_input": "2025-08-05T16:40:25.020214Z",
     "iopub.status.busy": "2025-08-05T16:40:25.019413Z",
     "iopub.status.idle": "2025-08-05T16:40:25.026419Z",
     "shell.execute_reply": "2025-08-05T16:40:25.025257Z"
    },
    "papermill": {
     "duration": 0.02862,
     "end_time": "2025-08-05T16:40:25.028386",
     "exception": false,
     "start_time": "2025-08-05T16:40:24.999766",
     "status": "completed"
    },
    "tags": []
   },
   "outputs": [],
   "source": [
    "from fairness_multiverse.conformal import find_threshold\n",
    "\n",
    "# Find conformal threshold q_hat for the given alpha (split conformal method)\n",
    "q_hat = find_threshold(nc_scores, alpha)"
   ]
  },
  {
   "cell_type": "code",
   "execution_count": 41,
   "id": "4d29e6c1-0ef6-4aa4-b8fe-4fe79b0d033a",
   "metadata": {
    "execution": {
     "iopub.execute_input": "2025-08-05T16:40:25.069185Z",
     "iopub.status.busy": "2025-08-05T16:40:25.068392Z",
     "iopub.status.idle": "2025-08-05T16:40:25.076456Z",
     "shell.execute_reply": "2025-08-05T16:40:25.075356Z"
    },
    "papermill": {
     "duration": 0.030219,
     "end_time": "2025-08-05T16:40:25.078368",
     "exception": false,
     "start_time": "2025-08-05T16:40:25.048149",
     "status": "completed"
    },
    "tags": []
   },
   "outputs": [
    {
     "data": {
      "text/plain": [
       "0.6941508841789905"
      ]
     },
     "execution_count": 41,
     "metadata": {},
     "output_type": "execute_result"
    }
   ],
   "source": [
    "q_hat"
   ]
  },
  {
   "cell_type": "code",
   "execution_count": 42,
   "id": "92460794-cdac-4be2-ba28-f28c0515a6fb",
   "metadata": {
    "execution": {
     "iopub.execute_input": "2025-08-05T16:40:25.120077Z",
     "iopub.status.busy": "2025-08-05T16:40:25.119246Z",
     "iopub.status.idle": "2025-08-05T16:40:26.339023Z",
     "shell.execute_reply": "2025-08-05T16:40:26.337875Z"
    },
    "papermill": {
     "duration": 1.242,
     "end_time": "2025-08-05T16:40:26.341012",
     "exception": false,
     "start_time": "2025-08-05T16:40:25.099012",
     "status": "completed"
    },
    "tags": []
   },
   "outputs": [],
   "source": [
    "from fairness_multiverse.conformal import predict_conformal_sets\n",
    "\n",
    "# Generate prediction sets for each test example\n",
    "pred_sets = predict_conformal_sets(model, X_test, q_hat)"
   ]
  },
  {
   "cell_type": "code",
   "execution_count": 43,
   "id": "d90c9a65-e6db-4f5d-80cd-e68fb7e46829",
   "metadata": {
    "execution": {
     "iopub.execute_input": "2025-08-05T16:40:26.390394Z",
     "iopub.status.busy": "2025-08-05T16:40:26.389667Z",
     "iopub.status.idle": "2025-08-05T16:40:26.395537Z",
     "shell.execute_reply": "2025-08-05T16:40:26.394444Z"
    },
    "papermill": {
     "duration": 0.032468,
     "end_time": "2025-08-05T16:40:26.397488",
     "exception": false,
     "start_time": "2025-08-05T16:40:26.365020",
     "status": "completed"
    },
    "tags": []
   },
   "outputs": [],
   "source": [
    "y_true = y_true.squeeze()"
   ]
  },
  {
   "cell_type": "code",
   "execution_count": 44,
   "id": "3a58a54a-1e68-46b9-927a-df01f18aebc8",
   "metadata": {
    "execution": {
     "iopub.execute_input": "2025-08-05T16:40:26.449449Z",
     "iopub.status.busy": "2025-08-05T16:40:26.448919Z",
     "iopub.status.idle": "2025-08-05T16:40:27.066363Z",
     "shell.execute_reply": "2025-08-05T16:40:27.065553Z"
    },
    "papermill": {
     "duration": 0.645537,
     "end_time": "2025-08-05T16:40:27.067819",
     "exception": false,
     "start_time": "2025-08-05T16:40:26.422282",
     "status": "completed"
    },
    "tags": []
   },
   "outputs": [],
   "source": [
    "from fairness_multiverse.conformal import evaluate_sets\n",
    "\n",
    "# Evaluate coverage and average set size on test data\n",
    "metrics = evaluate_sets(pred_sets, y_true)"
   ]
  },
  {
   "cell_type": "markdown",
   "id": "2b569c12-9aaa-4c88-98c9-bbcd0cf3ebb8",
   "metadata": {
    "papermill": {
     "duration": 0.011336,
     "end_time": "2025-08-05T16:40:27.090897",
     "exception": false,
     "start_time": "2025-08-05T16:40:27.079561",
     "status": "completed"
    },
    "tags": []
   },
   "source": [
    "# CP Metrics"
   ]
  },
  {
   "cell_type": "code",
   "execution_count": 45,
   "id": "5ce0a5cb-201f-45a0-ade5-94c7f0bd6095",
   "metadata": {
    "execution": {
     "iopub.execute_input": "2025-08-05T16:40:27.114935Z",
     "iopub.status.busy": "2025-08-05T16:40:27.114528Z",
     "iopub.status.idle": "2025-08-05T16:40:27.121176Z",
     "shell.execute_reply": "2025-08-05T16:40:27.120259Z"
    },
    "papermill": {
     "duration": 0.020865,
     "end_time": "2025-08-05T16:40:27.122870",
     "exception": false,
     "start_time": "2025-08-05T16:40:27.102005",
     "status": "completed"
    },
    "tags": []
   },
   "outputs": [
    {
     "data": {
      "text/plain": [
       "{'coverage': 0.910333296176569, 'avg_size': 1.2074016274662802}"
      ]
     },
     "execution_count": 45,
     "metadata": {},
     "output_type": "execute_result"
    }
   ],
   "source": [
    "metrics"
   ]
  },
  {
   "cell_type": "code",
   "execution_count": 46,
   "id": "9b9a838d-31c9-430b-ae14-12baee460d17",
   "metadata": {
    "execution": {
     "iopub.execute_input": "2025-08-05T16:40:27.148499Z",
     "iopub.status.busy": "2025-08-05T16:40:27.148121Z",
     "iopub.status.idle": "2025-08-05T16:40:27.154100Z",
     "shell.execute_reply": "2025-08-05T16:40:27.153121Z"
    },
    "papermill": {
     "duration": 0.020006,
     "end_time": "2025-08-05T16:40:27.155772",
     "exception": false,
     "start_time": "2025-08-05T16:40:27.135766",
     "status": "completed"
    },
    "tags": []
   },
   "outputs": [],
   "source": [
    "example_universe = universe.copy()\n",
    "universe_training_year = example_universe.get(\"training_year\")\n",
    "universe_training_size = example_universe.get(\"training_size\")\n",
    "universe_scale = example_universe.get(\"scale\")\n",
    "universe_model = example_universe.get(\"model\")\n",
    "universe_exclude_features = example_universe.get(\"exclude_features\")\n",
    "universe_exclude_subgroups = example_universe.get(\"exclude_subgroups\")"
   ]
  },
  {
   "cell_type": "code",
   "execution_count": 47,
   "id": "f4b6a8ac-9dc0-4245-8a91-5b3b5999c4f9",
   "metadata": {
    "execution": {
     "iopub.execute_input": "2025-08-05T16:40:27.182684Z",
     "iopub.status.busy": "2025-08-05T16:40:27.181915Z",
     "iopub.status.idle": "2025-08-05T16:40:27.187415Z",
     "shell.execute_reply": "2025-08-05T16:40:27.186658Z"
    },
    "papermill": {
     "duration": 0.020074,
     "end_time": "2025-08-05T16:40:27.189053",
     "exception": false,
     "start_time": "2025-08-05T16:40:27.168979",
     "status": "completed"
    },
    "tags": []
   },
   "outputs": [],
   "source": [
    "cp_metrics_dict = {\n",
    "    \"universe_id\": [universe_id],\n",
    "    \"universe_training_year\": [universe_training_year],\n",
    "    \"universe_training_size\": [universe_training_size],\n",
    "    \"universe_scale\": [universe_scale],\n",
    "    \"universe_model\": [universe_model],\n",
    "    \"universe_exclude_features\": [universe_exclude_features],\n",
    "    \"universe_exclude_subgroups\": [universe_exclude_subgroups],\n",
    "    \"q_hat\": [q_hat],\n",
    "    \"coverage\": [metrics[\"coverage\"]],\n",
    "    \"avg_size\": [metrics[\"avg_size\"]],\n",
    "}"
   ]
  },
  {
   "cell_type": "code",
   "execution_count": 48,
   "id": "908acbb1-0371-4915-85ca-3fa520d2efe2",
   "metadata": {
    "execution": {
     "iopub.execute_input": "2025-08-05T16:40:27.215903Z",
     "iopub.status.busy": "2025-08-05T16:40:27.215308Z",
     "iopub.status.idle": "2025-08-05T16:40:27.222208Z",
     "shell.execute_reply": "2025-08-05T16:40:27.221217Z"
    },
    "papermill": {
     "duration": 0.021109,
     "end_time": "2025-08-05T16:40:27.223710",
     "exception": false,
     "start_time": "2025-08-05T16:40:27.202601",
     "status": "completed"
    },
    "tags": []
   },
   "outputs": [
    {
     "data": {
      "text/plain": [
       "{'universe_id': ['81630047975ae5f8d2f2b182234eb69c'],\n",
       " 'universe_training_year': ['2010_14'],\n",
       " 'universe_training_size': ['1k'],\n",
       " 'universe_scale': ['do-not-scale'],\n",
       " 'universe_model': ['penalized_logreg'],\n",
       " 'universe_exclude_features': ['sex'],\n",
       " 'universe_exclude_subgroups': ['keep-all'],\n",
       " 'q_hat': [0.6941508841789905],\n",
       " 'coverage': [0.910333296176569],\n",
       " 'avg_size': [1.2074016274662802]}"
      ]
     },
     "execution_count": 48,
     "metadata": {},
     "output_type": "execute_result"
    }
   ],
   "source": [
    "cp_metrics_dict"
   ]
  },
  {
   "cell_type": "code",
   "execution_count": 49,
   "id": "33007efc-14e9-4ec6-97ac-56a455c82265",
   "metadata": {
    "execution": {
     "iopub.execute_input": "2025-08-05T16:40:27.250908Z",
     "iopub.status.busy": "2025-08-05T16:40:27.250546Z",
     "iopub.status.idle": "2025-08-05T16:40:27.255950Z",
     "shell.execute_reply": "2025-08-05T16:40:27.255032Z"
    },
    "papermill": {
     "duration": 0.020361,
     "end_time": "2025-08-05T16:40:27.257622",
     "exception": false,
     "start_time": "2025-08-05T16:40:27.237261",
     "status": "completed"
    },
    "tags": []
   },
   "outputs": [],
   "source": [
    "cp_metrics_df = pd.DataFrame(cp_metrics_dict)"
   ]
  },
  {
   "cell_type": "code",
   "execution_count": 50,
   "id": "db12611b-57b2-4910-b9d0-355adfd6e7bf",
   "metadata": {
    "execution": {
     "iopub.execute_input": "2025-08-05T16:40:27.284079Z",
     "iopub.status.busy": "2025-08-05T16:40:27.283392Z",
     "iopub.status.idle": "2025-08-05T16:40:27.298496Z",
     "shell.execute_reply": "2025-08-05T16:40:27.297384Z"
    },
    "papermill": {
     "duration": 0.029129,
     "end_time": "2025-08-05T16:40:27.299835",
     "exception": false,
     "start_time": "2025-08-05T16:40:27.270706",
     "status": "completed"
    },
    "tags": []
   },
   "outputs": [
    {
     "data": {
      "text/html": [
       "<div>\n",
       "<style scoped>\n",
       "    .dataframe tbody tr th:only-of-type {\n",
       "        vertical-align: middle;\n",
       "    }\n",
       "\n",
       "    .dataframe tbody tr th {\n",
       "        vertical-align: top;\n",
       "    }\n",
       "\n",
       "    .dataframe thead th {\n",
       "        text-align: right;\n",
       "    }\n",
       "</style>\n",
       "<table border=\"1\" class=\"dataframe\">\n",
       "  <thead>\n",
       "    <tr style=\"text-align: right;\">\n",
       "      <th></th>\n",
       "      <th>universe_id</th>\n",
       "      <th>universe_training_year</th>\n",
       "      <th>universe_training_size</th>\n",
       "      <th>universe_scale</th>\n",
       "      <th>universe_model</th>\n",
       "      <th>universe_exclude_features</th>\n",
       "      <th>universe_exclude_subgroups</th>\n",
       "      <th>q_hat</th>\n",
       "      <th>coverage</th>\n",
       "      <th>avg_size</th>\n",
       "    </tr>\n",
       "  </thead>\n",
       "  <tbody>\n",
       "    <tr>\n",
       "      <th>0</th>\n",
       "      <td>81630047975ae5f8d2f2b182234eb69c</td>\n",
       "      <td>2010_14</td>\n",
       "      <td>1k</td>\n",
       "      <td>do-not-scale</td>\n",
       "      <td>penalized_logreg</td>\n",
       "      <td>sex</td>\n",
       "      <td>keep-all</td>\n",
       "      <td>0.694151</td>\n",
       "      <td>0.910333</td>\n",
       "      <td>1.207402</td>\n",
       "    </tr>\n",
       "  </tbody>\n",
       "</table>\n",
       "</div>"
      ],
      "text/plain": [
       "                        universe_id universe_training_year  \\\n",
       "0  81630047975ae5f8d2f2b182234eb69c                2010_14   \n",
       "\n",
       "  universe_training_size universe_scale    universe_model  \\\n",
       "0                     1k   do-not-scale  penalized_logreg   \n",
       "\n",
       "  universe_exclude_features universe_exclude_subgroups     q_hat  coverage  \\\n",
       "0                       sex                   keep-all  0.694151  0.910333   \n",
       "\n",
       "   avg_size  \n",
       "0  1.207402  "
      ]
     },
     "execution_count": 50,
     "metadata": {},
     "output_type": "execute_result"
    }
   ],
   "source": [
    "cp_metrics_df"
   ]
  },
  {
   "cell_type": "code",
   "execution_count": 51,
   "id": "b7fbde55-a0a1-47e4-9af6-fe4a17fa8c61",
   "metadata": {
    "execution": {
     "iopub.execute_input": "2025-08-05T16:40:27.326434Z",
     "iopub.status.busy": "2025-08-05T16:40:27.325668Z",
     "iopub.status.idle": "2025-08-05T16:40:27.330479Z",
     "shell.execute_reply": "2025-08-05T16:40:27.329598Z"
    },
    "papermill": {
     "duration": 0.01941,
     "end_time": "2025-08-05T16:40:27.332040",
     "exception": false,
     "start_time": "2025-08-05T16:40:27.312630",
     "status": "completed"
    },
    "tags": []
   },
   "outputs": [],
   "source": [
    "# Conditional Coverage & looking at subgroups"
   ]
  },
  {
   "cell_type": "code",
   "execution_count": 52,
   "id": "027ae886-68dd-4141-96c7-805a5450e1ef",
   "metadata": {
    "execution": {
     "iopub.execute_input": "2025-08-05T16:40:27.358737Z",
     "iopub.status.busy": "2025-08-05T16:40:27.357864Z",
     "iopub.status.idle": "2025-08-05T16:40:27.734817Z",
     "shell.execute_reply": "2025-08-05T16:40:27.733653Z"
    },
    "papermill": {
     "duration": 0.391265,
     "end_time": "2025-08-05T16:40:27.736573",
     "exception": false,
     "start_time": "2025-08-05T16:40:27.345308",
     "status": "completed"
    },
    "tags": []
   },
   "outputs": [],
   "source": [
    "from fairness_multiverse.conformal import build_cp_groups\n",
    "\n",
    "cp_groups_df = build_cp_groups(pred_sets, y_true, X_test.index, org_test)\n",
    "#needs universe_id and setting"
   ]
  },
  {
   "cell_type": "code",
   "execution_count": 53,
   "id": "6cbdab96-b2b2-45af-ad54-d0516db2e28d",
   "metadata": {
    "execution": {
     "iopub.execute_input": "2025-08-05T16:40:27.804924Z",
     "iopub.status.busy": "2025-08-05T16:40:27.804476Z",
     "iopub.status.idle": "2025-08-05T16:40:29.521407Z",
     "shell.execute_reply": "2025-08-05T16:40:29.520450Z"
    },
    "papermill": {
     "duration": 1.754365,
     "end_time": "2025-08-05T16:40:29.523417",
     "exception": false,
     "start_time": "2025-08-05T16:40:27.769052",
     "status": "completed"
    },
    "tags": []
   },
   "outputs": [],
   "source": [
    "# Define covered = 1 if true_label is in the predicted set\n",
    "cp_groups_df['covered'] = cp_groups_df.apply(\n",
    "    lambda r: int(r['true_label'] in r['pred_set']),\n",
    "    axis=1\n",
    ")"
   ]
  },
  {
   "cell_type": "code",
   "execution_count": 54,
   "id": "338ff529-1a6b-4b87-a931-8e4788d52aad",
   "metadata": {
    "execution": {
     "iopub.execute_input": "2025-08-05T16:40:29.580027Z",
     "iopub.status.busy": "2025-08-05T16:40:29.579211Z",
     "iopub.status.idle": "2025-08-05T16:40:29.584585Z",
     "shell.execute_reply": "2025-08-05T16:40:29.583663Z"
    },
    "papermill": {
     "duration": 0.029017,
     "end_time": "2025-08-05T16:40:29.586239",
     "exception": false,
     "start_time": "2025-08-05T16:40:29.557222",
     "status": "completed"
    },
    "tags": []
   },
   "outputs": [],
   "source": [
    "#cp_groups_df"
   ]
  },
  {
   "cell_type": "code",
   "execution_count": 55,
   "id": "90032e27-66df-4540-9169-4e89cfbaa758",
   "metadata": {
    "execution": {
     "iopub.execute_input": "2025-08-05T16:40:29.631885Z",
     "iopub.status.busy": "2025-08-05T16:40:29.631359Z",
     "iopub.status.idle": "2025-08-05T16:40:29.644397Z",
     "shell.execute_reply": "2025-08-05T16:40:29.643538Z"
    },
    "papermill": {
     "duration": 0.037288,
     "end_time": "2025-08-05T16:40:29.646141",
     "exception": false,
     "start_time": "2025-08-05T16:40:29.608853",
     "status": "completed"
    },
    "tags": []
   },
   "outputs": [],
   "source": [
    "subgroups = ['frau1','nongerman','nongerman_male','nongerman_female']\n",
    "\n",
    "# Conditional coverage for subgroup==1\n",
    "cond_coverage = {\n",
    "    g: cp_groups_df.loc[cp_groups_df[g]==1, 'covered'].mean()\n",
    "    for g in subgroups\n",
    "}"
   ]
  },
  {
   "cell_type": "code",
   "execution_count": 56,
   "id": "1e348fb1-b9c3-45bc-ba23-f016827a7e0d",
   "metadata": {
    "execution": {
     "iopub.execute_input": "2025-08-05T16:40:29.697124Z",
     "iopub.status.busy": "2025-08-05T16:40:29.696501Z",
     "iopub.status.idle": "2025-08-05T16:40:29.705228Z",
     "shell.execute_reply": "2025-08-05T16:40:29.703271Z"
    },
    "papermill": {
     "duration": 0.034695,
     "end_time": "2025-08-05T16:40:29.707076",
     "exception": false,
     "start_time": "2025-08-05T16:40:29.672381",
     "status": "completed"
    },
    "tags": []
   },
   "outputs": [
    {
     "data": {
      "text/plain": [
       "{'frau1': 0.9105539830165791,\n",
       " 'nongerman': 0.9234828496042217,\n",
       " 'nongerman_male': 0.9375844366387462,\n",
       " 'nongerman_female': 0.9001490312965723}"
      ]
     },
     "execution_count": 56,
     "metadata": {},
     "output_type": "execute_result"
    }
   ],
   "source": [
    "cond_coverage"
   ]
  },
  {
   "cell_type": "code",
   "execution_count": 57,
   "id": "f5093324-c3dd-4d63-bc4c-8d945e5c8bbb",
   "metadata": {
    "execution": {
     "iopub.execute_input": "2025-08-05T16:40:29.749690Z",
     "iopub.status.busy": "2025-08-05T16:40:29.748912Z",
     "iopub.status.idle": "2025-08-05T16:40:29.756887Z",
     "shell.execute_reply": "2025-08-05T16:40:29.755763Z"
    },
    "papermill": {
     "duration": 0.030958,
     "end_time": "2025-08-05T16:40:29.758725",
     "exception": false,
     "start_time": "2025-08-05T16:40:29.727767",
     "status": "completed"
    },
    "tags": []
   },
   "outputs": [],
   "source": [
    "for subgroup, cov in cond_coverage.items():\n",
    "    cp_metrics_df[f\"cov_{subgroup}\"] = cov"
   ]
  },
  {
   "cell_type": "code",
   "execution_count": 58,
   "id": "6e872e10-dbe5-49e8-b554-5030c98ff75d",
   "metadata": {
    "execution": {
     "iopub.execute_input": "2025-08-05T16:40:29.803247Z",
     "iopub.status.busy": "2025-08-05T16:40:29.802672Z",
     "iopub.status.idle": "2025-08-05T16:40:29.823111Z",
     "shell.execute_reply": "2025-08-05T16:40:29.822087Z"
    },
    "papermill": {
     "duration": 0.044476,
     "end_time": "2025-08-05T16:40:29.824693",
     "exception": false,
     "start_time": "2025-08-05T16:40:29.780217",
     "status": "completed"
    },
    "tags": []
   },
   "outputs": [
    {
     "data": {
      "text/html": [
       "<div>\n",
       "<style scoped>\n",
       "    .dataframe tbody tr th:only-of-type {\n",
       "        vertical-align: middle;\n",
       "    }\n",
       "\n",
       "    .dataframe tbody tr th {\n",
       "        vertical-align: top;\n",
       "    }\n",
       "\n",
       "    .dataframe thead th {\n",
       "        text-align: right;\n",
       "    }\n",
       "</style>\n",
       "<table border=\"1\" class=\"dataframe\">\n",
       "  <thead>\n",
       "    <tr style=\"text-align: right;\">\n",
       "      <th></th>\n",
       "      <th>universe_id</th>\n",
       "      <th>universe_training_year</th>\n",
       "      <th>universe_training_size</th>\n",
       "      <th>universe_scale</th>\n",
       "      <th>universe_model</th>\n",
       "      <th>universe_exclude_features</th>\n",
       "      <th>universe_exclude_subgroups</th>\n",
       "      <th>q_hat</th>\n",
       "      <th>coverage</th>\n",
       "      <th>avg_size</th>\n",
       "      <th>cov_frau1</th>\n",
       "      <th>cov_nongerman</th>\n",
       "      <th>cov_nongerman_male</th>\n",
       "      <th>cov_nongerman_female</th>\n",
       "    </tr>\n",
       "  </thead>\n",
       "  <tbody>\n",
       "    <tr>\n",
       "      <th>0</th>\n",
       "      <td>81630047975ae5f8d2f2b182234eb69c</td>\n",
       "      <td>2010_14</td>\n",
       "      <td>1k</td>\n",
       "      <td>do-not-scale</td>\n",
       "      <td>penalized_logreg</td>\n",
       "      <td>sex</td>\n",
       "      <td>keep-all</td>\n",
       "      <td>0.694151</td>\n",
       "      <td>0.910333</td>\n",
       "      <td>1.207402</td>\n",
       "      <td>0.910554</td>\n",
       "      <td>0.923483</td>\n",
       "      <td>0.937584</td>\n",
       "      <td>0.900149</td>\n",
       "    </tr>\n",
       "  </tbody>\n",
       "</table>\n",
       "</div>"
      ],
      "text/plain": [
       "                        universe_id universe_training_year  \\\n",
       "0  81630047975ae5f8d2f2b182234eb69c                2010_14   \n",
       "\n",
       "  universe_training_size universe_scale    universe_model  \\\n",
       "0                     1k   do-not-scale  penalized_logreg   \n",
       "\n",
       "  universe_exclude_features universe_exclude_subgroups     q_hat  coverage  \\\n",
       "0                       sex                   keep-all  0.694151  0.910333   \n",
       "\n",
       "   avg_size  cov_frau1  cov_nongerman  cov_nongerman_male  \\\n",
       "0  1.207402   0.910554       0.923483            0.937584   \n",
       "\n",
       "   cov_nongerman_female  \n",
       "0              0.900149  "
      ]
     },
     "execution_count": 58,
     "metadata": {},
     "output_type": "execute_result"
    }
   ],
   "source": [
    "cp_metrics_df"
   ]
  },
  {
   "cell_type": "markdown",
   "id": "33774451",
   "metadata": {
    "papermill": {
     "duration": 0.022768,
     "end_time": "2025-08-05T16:40:29.870087",
     "exception": false,
     "start_time": "2025-08-05T16:40:29.847319",
     "status": "completed"
    },
    "tags": []
   },
   "source": [
    "# (Fairness) Metrics"
   ]
  },
  {
   "cell_type": "code",
   "execution_count": 59,
   "id": "debc5d62",
   "metadata": {
    "execution": {
     "iopub.execute_input": "2025-08-05T16:40:29.915193Z",
     "iopub.status.busy": "2025-08-05T16:40:29.914266Z",
     "iopub.status.idle": "2025-08-05T16:40:29.935767Z",
     "shell.execute_reply": "2025-08-05T16:40:29.934914Z"
    },
    "papermill": {
     "duration": 0.045912,
     "end_time": "2025-08-05T16:40:29.937613",
     "exception": false,
     "start_time": "2025-08-05T16:40:29.891701",
     "status": "completed"
    },
    "tags": []
   },
   "outputs": [],
   "source": [
    "# do I need to include maxdeutsch1.missing?\n",
    "\n",
    "import numpy as np\n",
    "\n",
    "colname_to_bin = \"maxdeutsch1\"\n",
    "majority_value = org_train[colname_to_bin].mode()[0]\n",
    "\n",
    "org_test[\"majmin\"] = np.where(org_test[colname_to_bin] == majority_value, \"majority\", \"minority\")"
   ]
  },
  {
   "cell_type": "code",
   "execution_count": 60,
   "id": "06a50de5",
   "metadata": {
    "execution": {
     "iopub.execute_input": "2025-08-05T16:40:29.983281Z",
     "iopub.status.busy": "2025-08-05T16:40:29.982769Z",
     "iopub.status.idle": "2025-08-05T16:40:32.913805Z",
     "shell.execute_reply": "2025-08-05T16:40:32.912844Z"
    },
    "papermill": {
     "duration": 2.956138,
     "end_time": "2025-08-05T16:40:32.915589",
     "exception": false,
     "start_time": "2025-08-05T16:40:29.959451",
     "status": "completed"
    },
    "tags": []
   },
   "outputs": [],
   "source": [
    "example_universe = universe.copy()\n",
    "example_universe[\"cutoff\"] = example_universe[\"cutoff\"][0]\n",
    "example_universe[\"eval_fairness_grouping\"] = example_universe[\"eval_fairness_grouping\"][0]\n",
    "fairness_dict, metric_frame = universe_analysis.compute_metrics(\n",
    "    example_universe,\n",
    "    y_pred_prob=probs_test,\n",
    "    y_test=y_true,\n",
    "    org_test=org_test,\n",
    ")"
   ]
  },
  {
   "cell_type": "markdown",
   "id": "f95d4e02",
   "metadata": {
    "papermill": {
     "duration": 0.023653,
     "end_time": "2025-08-05T16:40:32.960753",
     "exception": false,
     "start_time": "2025-08-05T16:40:32.937100",
     "status": "completed"
    },
    "tags": []
   },
   "source": [
    "# Overall"
   ]
  },
  {
   "cell_type": "markdown",
   "id": "bdee4871",
   "metadata": {
    "papermill": {
     "duration": 0.022253,
     "end_time": "2025-08-05T16:40:33.007374",
     "exception": false,
     "start_time": "2025-08-05T16:40:32.985121",
     "status": "completed"
    },
    "tags": []
   },
   "source": [
    "Fairness\n",
    "Main fairness target: Equalized Odds. Seems to be a better fit than equal opportunity, since we're not only interested in Y = 1. Seems to be a better fit than demographic parity, since we also care about accuracy, not just equal distribution of preds.\n",
    "\n",
    "Pick column for computation of fairness metrics\n",
    "\n",
    "Performance\n",
    "Overall performance measures, most interesting in relation to the measures split by group below"
   ]
  },
  {
   "cell_type": "code",
   "execution_count": 61,
   "id": "c4e067c6",
   "metadata": {
    "execution": {
     "iopub.execute_input": "2025-08-05T16:40:33.054889Z",
     "iopub.status.busy": "2025-08-05T16:40:33.054211Z",
     "iopub.status.idle": "2025-08-05T16:40:33.062954Z",
     "shell.execute_reply": "2025-08-05T16:40:33.061938Z"
    },
    "papermill": {
     "duration": 0.035671,
     "end_time": "2025-08-05T16:40:33.064639",
     "exception": false,
     "start_time": "2025-08-05T16:40:33.028968",
     "status": "completed"
    },
    "tags": []
   },
   "outputs": [
    {
     "data": {
      "text/plain": [
       "accuracy                   0.214591\n",
       "balanced accuracy          0.526755\n",
       "f1                         0.236192\n",
       "precision                  0.134929\n",
       "false positive rate        0.893136\n",
       "false negative rate        0.053354\n",
       "selection rate             0.900000\n",
       "count                  89710.000000\n",
       "dtype: float64"
      ]
     },
     "execution_count": 61,
     "metadata": {},
     "output_type": "execute_result"
    }
   ],
   "source": [
    "metric_frame.overall"
   ]
  },
  {
   "cell_type": "markdown",
   "id": "e968fe9d",
   "metadata": {
    "papermill": {
     "duration": 0.020549,
     "end_time": "2025-08-05T16:40:33.108638",
     "exception": false,
     "start_time": "2025-08-05T16:40:33.088089",
     "status": "completed"
    },
    "tags": []
   },
   "source": [
    "By Group"
   ]
  },
  {
   "cell_type": "code",
   "execution_count": 62,
   "id": "ec325bce",
   "metadata": {
    "execution": {
     "iopub.execute_input": "2025-08-05T16:40:33.155139Z",
     "iopub.status.busy": "2025-08-05T16:40:33.154578Z",
     "iopub.status.idle": "2025-08-05T16:40:33.174559Z",
     "shell.execute_reply": "2025-08-05T16:40:33.173465Z"
    },
    "papermill": {
     "duration": 0.045257,
     "end_time": "2025-08-05T16:40:33.176243",
     "exception": false,
     "start_time": "2025-08-05T16:40:33.130986",
     "status": "completed"
    },
    "tags": []
   },
   "outputs": [
    {
     "data": {
      "text/html": [
       "<div>\n",
       "<style scoped>\n",
       "    .dataframe tbody tr th:only-of-type {\n",
       "        vertical-align: middle;\n",
       "    }\n",
       "\n",
       "    .dataframe tbody tr th {\n",
       "        vertical-align: top;\n",
       "    }\n",
       "\n",
       "    .dataframe thead th {\n",
       "        text-align: right;\n",
       "    }\n",
       "</style>\n",
       "<table border=\"1\" class=\"dataframe\">\n",
       "  <thead>\n",
       "    <tr style=\"text-align: right;\">\n",
       "      <th></th>\n",
       "      <th>accuracy</th>\n",
       "      <th>balanced accuracy</th>\n",
       "      <th>f1</th>\n",
       "      <th>precision</th>\n",
       "      <th>false positive rate</th>\n",
       "      <th>false negative rate</th>\n",
       "      <th>selection rate</th>\n",
       "      <th>count</th>\n",
       "    </tr>\n",
       "    <tr>\n",
       "      <th>majmin</th>\n",
       "      <th></th>\n",
       "      <th></th>\n",
       "      <th></th>\n",
       "      <th></th>\n",
       "      <th></th>\n",
       "      <th></th>\n",
       "      <th></th>\n",
       "      <th></th>\n",
       "    </tr>\n",
       "  </thead>\n",
       "  <tbody>\n",
       "    <tr>\n",
       "      <th>majority</th>\n",
       "      <td>0.236215</td>\n",
       "      <td>0.532971</td>\n",
       "      <td>0.244700</td>\n",
       "      <td>0.140740</td>\n",
       "      <td>0.870381</td>\n",
       "      <td>0.063676</td>\n",
       "      <td>0.879095</td>\n",
       "      <td>69170.0</td>\n",
       "    </tr>\n",
       "    <tr>\n",
       "      <th>minority</th>\n",
       "      <td>0.141772</td>\n",
       "      <td>0.509092</td>\n",
       "      <td>0.209507</td>\n",
       "      <td>0.117198</td>\n",
       "      <td>0.968303</td>\n",
       "      <td>0.013514</td>\n",
       "      <td>0.970399</td>\n",
       "      <td>20540.0</td>\n",
       "    </tr>\n",
       "  </tbody>\n",
       "</table>\n",
       "</div>"
      ],
      "text/plain": [
       "          accuracy  balanced accuracy        f1  precision  \\\n",
       "majmin                                                       \n",
       "majority  0.236215           0.532971  0.244700   0.140740   \n",
       "minority  0.141772           0.509092  0.209507   0.117198   \n",
       "\n",
       "          false positive rate  false negative rate  selection rate    count  \n",
       "majmin                                                                       \n",
       "majority             0.870381             0.063676        0.879095  69170.0  \n",
       "minority             0.968303             0.013514        0.970399  20540.0  "
      ]
     },
     "execution_count": 62,
     "metadata": {},
     "output_type": "execute_result"
    }
   ],
   "source": [
    "metric_frame.by_group"
   ]
  },
  {
   "cell_type": "code",
   "execution_count": 63,
   "id": "a9ddbe63",
   "metadata": {
    "execution": {
     "iopub.execute_input": "2025-08-05T16:40:33.224321Z",
     "iopub.status.busy": "2025-08-05T16:40:33.223266Z",
     "iopub.status.idle": "2025-08-05T16:40:35.607895Z",
     "shell.execute_reply": "2025-08-05T16:40:35.606929Z"
    },
    "papermill": {
     "duration": 2.410037,
     "end_time": "2025-08-05T16:40:35.609098",
     "exception": false,
     "start_time": "2025-08-05T16:40:33.199061",
     "status": "completed"
    },
    "tags": []
   },
   "outputs": [
    {
     "data": {
      "text/plain": [
       "array([[<Axes: title={'center': 'accuracy'}, xlabel='majmin'>,\n",
       "        <Axes: title={'center': 'balanced accuracy'}, xlabel='majmin'>,\n",
       "        <Axes: title={'center': 'f1'}, xlabel='majmin'>],\n",
       "       [<Axes: title={'center': 'precision'}, xlabel='majmin'>,\n",
       "        <Axes: title={'center': 'false positive rate'}, xlabel='majmin'>,\n",
       "        <Axes: title={'center': 'false negative rate'}, xlabel='majmin'>],\n",
       "       [<Axes: title={'center': 'selection rate'}, xlabel='majmin'>,\n",
       "        <Axes: title={'center': 'count'}, xlabel='majmin'>,\n",
       "        <Axes: xlabel='majmin'>]], dtype=object)"
      ]
     },
     "execution_count": 63,
     "metadata": {},
     "output_type": "execute_result"
    },
    {
     "data": {
      "image/png": "[encoded data removed]",
      "text/plain": [
       "<Figure size 1200x800 with 9 Axes>"
      ]
     },
     "metadata": {},
     "output_type": "display_data"
    }
   ],
   "source": [
    "# In a graphic\n",
    "metric_frame.by_group.plot.bar(\n",
    "    subplots=True,\n",
    "    layout=[3, 3],\n",
    "    legend=False,\n",
    "    figsize=[12, 8],\n",
    "    title=\"Show all metrics\",\n",
    ")"
   ]
  },
  {
   "cell_type": "markdown",
   "id": "f57a0bac",
   "metadata": {
    "papermill": {
     "duration": 0.024368,
     "end_time": "2025-08-05T16:40:35.658888",
     "exception": false,
     "start_time": "2025-08-05T16:40:35.634520",
     "status": "completed"
    },
    "tags": []
   },
   "source": [
    "# Final Output"
   ]
  },
  {
   "cell_type": "code",
   "execution_count": 64,
   "id": "96d280a3",
   "metadata": {
    "execution": {
     "iopub.execute_input": "2025-08-05T16:40:35.710736Z",
     "iopub.status.busy": "2025-08-05T16:40:35.709915Z",
     "iopub.status.idle": "2025-08-05T16:40:35.718883Z",
     "shell.execute_reply": "2025-08-05T16:40:35.717843Z"
    },
    "papermill": {
     "duration": 0.038687,
     "end_time": "2025-08-05T16:40:35.720467",
     "exception": false,
     "start_time": "2025-08-05T16:40:35.681780",
     "status": "completed"
    },
    "tags": []
   },
   "outputs": [
    {
     "data": {
      "text/plain": [
       "4"
      ]
     },
     "execution_count": 64,
     "metadata": {},
     "output_type": "execute_result"
    }
   ],
   "source": [
    "sub_universes = universe_analysis.generate_sub_universes()\n",
    "len(sub_universes)"
   ]
  },
  {
   "cell_type": "code",
   "execution_count": 65,
   "id": "92adf7ba",
   "metadata": {
    "execution": {
     "iopub.execute_input": "2025-08-05T16:40:35.775019Z",
     "iopub.status.busy": "2025-08-05T16:40:35.774296Z",
     "iopub.status.idle": "2025-08-05T16:40:35.780857Z",
     "shell.execute_reply": "2025-08-05T16:40:35.779931Z"
    },
    "papermill": {
     "duration": 0.035391,
     "end_time": "2025-08-05T16:40:35.782747",
     "exception": false,
     "start_time": "2025-08-05T16:40:35.747356",
     "status": "completed"
    },
    "tags": []
   },
   "outputs": [],
   "source": [
    "def filter_sub_universe_data(sub_universe, org_test):\n",
    "    # Keep all rows — no filtering\n",
    "    keep_rows_mask = np.ones(org_test.shape[0], dtype=bool)\n",
    "\n",
    "    print(f\"[INFO] Keeping all rows: {keep_rows_mask.sum()} rows retained.\")\n",
    "    return keep_rows_mask"
   ]
  },
  {
   "cell_type": "code",
   "execution_count": 66,
   "id": "4a759155",
   "metadata": {
    "execution": {
     "iopub.execute_input": "2025-08-05T16:40:35.837405Z",
     "iopub.status.busy": "2025-08-05T16:40:35.836753Z",
     "iopub.status.idle": "2025-08-05T16:40:44.223540Z",
     "shell.execute_reply": "2025-08-05T16:40:44.222459Z"
    },
    "papermill": {
     "duration": 8.417077,
     "end_time": "2025-08-05T16:40:44.225238",
     "exception": false,
     "start_time": "2025-08-05T16:40:35.808161",
     "status": "completed"
    },
    "tags": []
   },
   "outputs": [
    {
     "name": "stdout",
     "output_type": "stream",
     "text": [
      "Stopping execution_time clock.\n",
      "[INFO] Keeping all rows: 89710 rows retained.\n"
     ]
    },
    {
     "name": "stdout",
     "output_type": "stream",
     "text": [
      "[INFO] Keeping all rows: 89710 rows retained.\n"
     ]
    },
    {
     "name": "stdout",
     "output_type": "stream",
     "text": [
      "[INFO] Keeping all rows: 89710 rows retained.\n"
     ]
    },
    {
     "name": "stdout",
     "output_type": "stream",
     "text": [
      "[INFO] Keeping all rows: 89710 rows retained.\n"
     ]
    },
    {
     "data": {
      "text/html": [
       "<div>\n",
       "<style scoped>\n",
       "    .dataframe tbody tr th:only-of-type {\n",
       "        vertical-align: middle;\n",
       "    }\n",
       "\n",
       "    .dataframe tbody tr th {\n",
       "        vertical-align: top;\n",
       "    }\n",
       "\n",
       "    .dataframe thead th {\n",
       "        text-align: right;\n",
       "    }\n",
       "</style>\n",
       "<table border=\"1\" class=\"dataframe\">\n",
       "  <thead>\n",
       "    <tr style=\"text-align: right;\">\n",
       "      <th></th>\n",
       "      <th>run_no</th>\n",
       "      <th>universe_id</th>\n",
       "      <th>universe_settings</th>\n",
       "      <th>execution_time</th>\n",
       "      <th>test_size_n</th>\n",
       "      <th>test_size_frac</th>\n",
       "      <th>fair_main_equalized_odds_difference</th>\n",
       "      <th>fair_main_equalized_odds_ratio</th>\n",
       "      <th>fair_main_demographic_parity_difference</th>\n",
       "      <th>fair_main_demographic_parity_ratio</th>\n",
       "      <th>...</th>\n",
       "      <th>perf_grp_precision_0</th>\n",
       "      <th>perf_grp_precision_1</th>\n",
       "      <th>perf_grp_false positive rate_0</th>\n",
       "      <th>perf_grp_false positive rate_1</th>\n",
       "      <th>perf_grp_false negative rate_0</th>\n",
       "      <th>perf_grp_false negative rate_1</th>\n",
       "      <th>perf_grp_selection rate_0</th>\n",
       "      <th>perf_grp_selection rate_1</th>\n",
       "      <th>perf_grp_count_0</th>\n",
       "      <th>perf_grp_count_1</th>\n",
       "    </tr>\n",
       "  </thead>\n",
       "  <tbody>\n",
       "    <tr>\n",
       "      <th>0</th>\n",
       "      <td>15</td>\n",
       "      <td>81630047975ae5f8d2f2b182234eb69c</td>\n",
       "      <td>{\"cutoff\": \"quantile_0.1\", \"eval_fairness_grou...</td>\n",
       "      <td>27.571246</td>\n",
       "      <td>89710</td>\n",
       "      <td>1.0</td>\n",
       "      <td>0.097921</td>\n",
       "      <td>0.898873</td>\n",
       "      <td>0.091304</td>\n",
       "      <td>0.905911</td>\n",
       "      <td>...</td>\n",
       "      <td>NaN</td>\n",
       "      <td>NaN</td>\n",
       "      <td>NaN</td>\n",
       "      <td>NaN</td>\n",
       "      <td>NaN</td>\n",
       "      <td>NaN</td>\n",
       "      <td>NaN</td>\n",
       "      <td>NaN</td>\n",
       "      <td>NaN</td>\n",
       "      <td>NaN</td>\n",
       "    </tr>\n",
       "    <tr>\n",
       "      <th>0</th>\n",
       "      <td>15</td>\n",
       "      <td>81630047975ae5f8d2f2b182234eb69c</td>\n",
       "      <td>{\"cutoff\": \"quantile_0.1\", \"eval_fairness_grou...</td>\n",
       "      <td>27.571246</td>\n",
       "      <td>89710</td>\n",
       "      <td>1.0</td>\n",
       "      <td>0.097921</td>\n",
       "      <td>0.898873</td>\n",
       "      <td>0.091304</td>\n",
       "      <td>0.905911</td>\n",
       "      <td>...</td>\n",
       "      <td>0.117198</td>\n",
       "      <td>0.140740</td>\n",
       "      <td>0.968303</td>\n",
       "      <td>0.870381</td>\n",
       "      <td>0.013514</td>\n",
       "      <td>0.063676</td>\n",
       "      <td>0.970399</td>\n",
       "      <td>0.879095</td>\n",
       "      <td>20540.0</td>\n",
       "      <td>69170.0</td>\n",
       "    </tr>\n",
       "    <tr>\n",
       "      <th>0</th>\n",
       "      <td>15</td>\n",
       "      <td>81630047975ae5f8d2f2b182234eb69c</td>\n",
       "      <td>{\"cutoff\": \"quantile_0.25\", \"eval_fairness_gro...</td>\n",
       "      <td>27.571246</td>\n",
       "      <td>89710</td>\n",
       "      <td>1.0</td>\n",
       "      <td>0.213956</td>\n",
       "      <td>0.761076</td>\n",
       "      <td>0.197328</td>\n",
       "      <td>0.781267</td>\n",
       "      <td>...</td>\n",
       "      <td>NaN</td>\n",
       "      <td>NaN</td>\n",
       "      <td>NaN</td>\n",
       "      <td>NaN</td>\n",
       "      <td>NaN</td>\n",
       "      <td>NaN</td>\n",
       "      <td>NaN</td>\n",
       "      <td>NaN</td>\n",
       "      <td>NaN</td>\n",
       "      <td>NaN</td>\n",
       "    </tr>\n",
       "    <tr>\n",
       "      <th>0</th>\n",
       "      <td>15</td>\n",
       "      <td>81630047975ae5f8d2f2b182234eb69c</td>\n",
       "      <td>{\"cutoff\": \"quantile_0.25\", \"eval_fairness_gro...</td>\n",
       "      <td>27.571246</td>\n",
       "      <td>89710</td>\n",
       "      <td>1.0</td>\n",
       "      <td>0.213956</td>\n",
       "      <td>0.761076</td>\n",
       "      <td>0.197328</td>\n",
       "      <td>0.781267</td>\n",
       "      <td>...</td>\n",
       "      <td>0.121802</td>\n",
       "      <td>0.160793</td>\n",
       "      <td>0.895499</td>\n",
       "      <td>0.681543</td>\n",
       "      <td>0.046875</td>\n",
       "      <td>0.142341</td>\n",
       "      <td>0.902142</td>\n",
       "      <td>0.704814</td>\n",
       "      <td>20540.0</td>\n",
       "      <td>69170.0</td>\n",
       "    </tr>\n",
       "  </tbody>\n",
       "</table>\n",
       "<p>4 rows × 50 columns</p>\n",
       "</div>"
      ],
      "text/plain": [
       "  run_no                       universe_id  \\\n",
       "0     15  81630047975ae5f8d2f2b182234eb69c   \n",
       "0     15  81630047975ae5f8d2f2b182234eb69c   \n",
       "0     15  81630047975ae5f8d2f2b182234eb69c   \n",
       "0     15  81630047975ae5f8d2f2b182234eb69c   \n",
       "\n",
       "                                   universe_settings  execution_time  \\\n",
       "0  {\"cutoff\": \"quantile_0.1\", \"eval_fairness_grou...       27.571246   \n",
       "0  {\"cutoff\": \"quantile_0.1\", \"eval_fairness_grou...       27.571246   \n",
       "0  {\"cutoff\": \"quantile_0.25\", \"eval_fairness_gro...       27.571246   \n",
       "0  {\"cutoff\": \"quantile_0.25\", \"eval_fairness_gro...       27.571246   \n",
       "\n",
       "   test_size_n  test_size_frac  fair_main_equalized_odds_difference  \\\n",
       "0        89710             1.0                             0.097921   \n",
       "0        89710             1.0                             0.097921   \n",
       "0        89710             1.0                             0.213956   \n",
       "0        89710             1.0                             0.213956   \n",
       "\n",
       "   fair_main_equalized_odds_ratio  fair_main_demographic_parity_difference  \\\n",
       "0                        0.898873                                 0.091304   \n",
       "0                        0.898873                                 0.091304   \n",
       "0                        0.761076                                 0.197328   \n",
       "0                        0.761076                                 0.197328   \n",
       "\n",
       "   fair_main_demographic_parity_ratio  ...  perf_grp_precision_0  \\\n",
       "0                            0.905911  ...                   NaN   \n",
       "0                            0.905911  ...              0.117198   \n",
       "0                            0.781267  ...                   NaN   \n",
       "0                            0.781267  ...              0.121802   \n",
       "\n",
       "   perf_grp_precision_1  perf_grp_false positive rate_0  \\\n",
       "0                   NaN                             NaN   \n",
       "0              0.140740                        0.968303   \n",
       "0                   NaN                             NaN   \n",
       "0              0.160793                        0.895499   \n",
       "\n",
       "   perf_grp_false positive rate_1  perf_grp_false negative rate_0  \\\n",
       "0                             NaN                             NaN   \n",
       "0                        0.870381                        0.013514   \n",
       "0                             NaN                             NaN   \n",
       "0                        0.681543                        0.046875   \n",
       "\n",
       "   perf_grp_false negative rate_1  perf_grp_selection rate_0  \\\n",
       "0                             NaN                        NaN   \n",
       "0                        0.063676                   0.970399   \n",
       "0                             NaN                        NaN   \n",
       "0                        0.142341                   0.902142   \n",
       "\n",
       "   perf_grp_selection rate_1  perf_grp_count_0  perf_grp_count_1  \n",
       "0                        NaN               NaN               NaN  \n",
       "0                   0.879095           20540.0           69170.0  \n",
       "0                        NaN               NaN               NaN  \n",
       "0                   0.704814           20540.0           69170.0  \n",
       "\n",
       "[4 rows x 50 columns]"
      ]
     },
     "execution_count": 66,
     "metadata": {},
     "output_type": "execute_result"
    }
   ],
   "source": [
    "final_output = universe_analysis.generate_final_output(\n",
    "    y_pred_prob=probs_test,\n",
    "    y_test=y_true,\n",
    "    org_test=org_test,\n",
    "    filter_data=filter_sub_universe_data,\n",
    "    cp_metrics_df=cp_metrics_df,\n",
    "    save=True,\n",
    ")\n",
    "final_output"
   ]
  }
 ],
 "metadata": {
  "celltoolbar": "Tags",
  "kernelspec": {
   "display_name": "Python (CMA Fairness)",
   "language": "python",
   "name": "cma_fair_env"
  },
  "language_info": {
   "codemirror_mode": {
    "name": "ipython",
    "version": 3
   },
   "file_extension": ".py",
   "mimetype": "text/x-python",
   "name": "python",
   "nbconvert_exporter": "python",
   "pygments_lexer": "ipython3",
   "version": "3.10.12"
  },
  "papermill": {
   "default_parameters": {},
   "duration": 39.95749,
   "end_time": "2025-08-05T16:40:44.978402",
   "environment_variables": {},
   "exception": null,
   "input_path": "universe_analysis.ipynb",
   "output_path": "output/runs/15/notebooks/m_15-81630047975ae5f8d2f2b182234eb69c.ipynb",
   "parameters": {
    "output_dir": "output",
    "run_no": "15",
    "seed": "2023",
    "universe": "{\"cutoff\": [\"quantile_0.1\", \"quantile_0.25\"], \"eval_fairness_grouping\": [\"majority-minority\", \"nationality-all\"], \"exclude_features\": \"sex\", \"exclude_subgroups\": \"keep-all\", \"model\": \"penalized_logreg\", \"scale\": \"do-not-scale\", \"training_size\": \"1k\", \"training_year\": \"2010_14\"}",
    "universe_id": "81630047975ae5f8d2f2b182234eb69c"
   },
   "start_time": "2025-08-05T16:40:05.020912",
   "version": "2.6.0"
  }
 },
 "nbformat": 4,
 "nbformat_minor": 5
}