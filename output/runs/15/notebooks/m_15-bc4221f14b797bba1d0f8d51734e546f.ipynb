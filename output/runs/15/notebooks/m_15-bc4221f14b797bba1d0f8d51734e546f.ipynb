{
 "cells": [
  {
   "cell_type": "code",
   "execution_count": 1,
   "id": "f159f837-637b-42ba-96b5-ec9a68c44524",
   "metadata": {
    "execution": {
     "iopub.execute_input": "2025-08-05T15:06:38.252144Z",
     "iopub.status.busy": "2025-08-05T15:06:38.251179Z",
     "iopub.status.idle": "2025-08-05T15:06:38.265200Z",
     "shell.execute_reply": "2025-08-05T15:06:38.264197Z"
    },
    "papermill": {
     "duration": 0.033365,
     "end_time": "2025-08-05T15:06:38.266904",
     "exception": false,
     "start_time": "2025-08-05T15:06:38.233539",
     "status": "completed"
    },
    "tags": []
   },
   "outputs": [
    {
     "name": "stdout",
     "output_type": "stream",
     "text": [
      "/dss/dsshome1/0C/ra93lal2/cma/CMA_Fairness_v2\n"
     ]
    },
    {
     "name": "stderr",
     "output_type": "stream",
     "text": [
      "/dss/dsshome1/0C/ra93lal2/.local/share/virtualenvs/CMA_Fairness_v2-3j10GkSs/lib/python3.10/site-packages/IPython/core/magics/osm.py:393: UserWarning: This is now an optional IPython functionality, using bookmarks requires you to install the `pickleshare` library.\n",
      "  bkms = self.shell.db.get('bookmarks', {})\n",
      "/dss/dsshome1/0C/ra93lal2/.local/share/virtualenvs/CMA_Fairness_v2-3j10GkSs/lib/python3.10/site-packages/IPython/core/magics/osm.py:417: UserWarning: This is now an optional IPython functionality, setting dhist requires you to install the `pickleshare` library.\n",
      "  self.shell.db['dhist'] = compress_dhist(dhist)[-100:]\n"
     ]
    }
   ],
   "source": [
    "%cd ~/cma/CMA_Fairness_v2"
   ]
  },
  {
   "cell_type": "markdown",
   "id": "de2603b9",
   "metadata": {
    "papermill": {
     "duration": 0.008604,
     "end_time": "2025-08-05T15:06:38.284889",
     "exception": false,
     "start_time": "2025-08-05T15:06:38.276285",
     "status": "completed"
    },
    "tags": []
   },
   "source": [
    "The following cell holds the definition of our parameters, these values can be overriden by rendering the with e.g. the following command:\n",
    "\n",
    "papermill -p alpha 0.2 -p ratio 0.3 universe_analysis.ipynb output/test_run.ipynb"
   ]
  },
  {
   "cell_type": "code",
   "execution_count": 2,
   "id": "a80968a0-40bb-4fa9-85ef-2d5eefb01975",
   "metadata": {
    "execution": {
     "iopub.execute_input": "2025-08-05T15:06:38.303782Z",
     "iopub.status.busy": "2025-08-05T15:06:38.303282Z",
     "iopub.status.idle": "2025-08-05T15:06:38.308319Z",
     "shell.execute_reply": "2025-08-05T15:06:38.307515Z"
    },
    "papermill": {
     "duration": 0.016491,
     "end_time": "2025-08-05T15:06:38.309971",
     "exception": false,
     "start_time": "2025-08-05T15:06:38.293480",
     "status": "completed"
    },
    "tags": []
   },
   "outputs": [
    {
     "name": "stdout",
     "output_type": "stream",
     "text": [
      "Current working directory: /dss/dsshome1/0C/ra93lal2/cma/CMA_Fairness_v2\n"
     ]
    }
   ],
   "source": [
    "import os\n",
    "print(\"Current working directory:\", os.getcwd())"
   ]
  },
  {
   "cell_type": "code",
   "execution_count": 3,
   "id": "2dce4c03",
   "metadata": {
    "execution": {
     "iopub.execute_input": "2025-08-05T15:06:38.330560Z",
     "iopub.status.busy": "2025-08-05T15:06:38.330024Z",
     "iopub.status.idle": "2025-08-05T15:06:38.335000Z",
     "shell.execute_reply": "2025-08-05T15:06:38.334023Z"
    },
    "papermill": {
     "duration": 0.016799,
     "end_time": "2025-08-05T15:06:38.336637",
     "exception": false,
     "start_time": "2025-08-05T15:06:38.319838",
     "status": "completed"
    },
    "tags": [
     "parameters"
    ]
   },
   "outputs": [],
   "source": [
    "run_no = 0\n",
    "universe_id = \"test\"\n",
    "universe = {\n",
    "    \"training_size\": \"25k\", # \"25k\", \"5k\", \"1k\"\n",
    "    \"training_year\": \"2014\", # \"2014\", \"2012_14\", \"2010_14\"\n",
    "    \"scale\": \"scale\", # \"scale\", \"do-not-scale\",\n",
    "    \"model\": \"elasticnet\", # \"logreg\", \"penalized_logreg\", \"rf\", \"gbm\", \"elasticnet\"\n",
    "    \"cutoff\": [\"quantile_0.15\", \"quantile_0.30\"],\n",
    "    \"exclude_features\": \"age\", # \"none\", \"nationality\", \"sex\", \"nationality-sex\", \"age\"\n",
    "    \"exclude_subgroups\": \"keep-all\", # \"keep-all\", \"drop-non-german\"\n",
    "    \"eval_fairness_grouping\": [\"majority-minority\", \"nationality-all\"]\n",
    "}\n",
    "\n",
    "output_dir=\"./output\"\n",
    "seed=0"
   ]
  },
  {
   "cell_type": "code",
   "execution_count": 4,
   "id": "fbf91650",
   "metadata": {
    "execution": {
     "iopub.execute_input": "2025-08-05T15:06:38.357528Z",
     "iopub.status.busy": "2025-08-05T15:06:38.356691Z",
     "iopub.status.idle": "2025-08-05T15:06:38.361388Z",
     "shell.execute_reply": "2025-08-05T15:06:38.360656Z"
    },
    "papermill": {
     "duration": 0.016407,
     "end_time": "2025-08-05T15:06:38.363132",
     "exception": false,
     "start_time": "2025-08-05T15:06:38.346725",
     "status": "completed"
    },
    "tags": [
     "injected-parameters"
    ]
   },
   "outputs": [],
   "source": [
    "# Parameters\n",
    "universe_id = \"bc4221f14b797bba1d0f8d51734e546f\"\n",
    "run_no = \"15\"\n",
    "universe = \"{\\\"cutoff\\\": [\\\"quantile_0.1\\\", \\\"quantile_0.25\\\"], \\\"eval_fairness_grouping\\\": [\\\"majority-minority\\\", \\\"nationality-all\\\"], \\\"exclude_features\\\": \\\"nationality\\\", \\\"exclude_subgroups\\\": \\\"keep-all\\\", \\\"model\\\": \\\"rf\\\", \\\"scale\\\": \\\"scale\\\", \\\"training_size\\\": \\\"25k\\\", \\\"training_year\\\": \\\"2010_14\\\"}\"\n",
    "output_dir = \"output\"\n",
    "seed = \"2023\"\n"
   ]
  },
  {
   "cell_type": "code",
   "execution_count": 5,
   "id": "1650acaf",
   "metadata": {
    "execution": {
     "iopub.execute_input": "2025-08-05T15:06:38.383776Z",
     "iopub.status.busy": "2025-08-05T15:06:38.383080Z",
     "iopub.status.idle": "2025-08-05T15:06:38.387702Z",
     "shell.execute_reply": "2025-08-05T15:06:38.386934Z"
    },
    "papermill": {
     "duration": 0.016249,
     "end_time": "2025-08-05T15:06:38.389275",
     "exception": false,
     "start_time": "2025-08-05T15:06:38.373026",
     "status": "completed"
    },
    "tags": []
   },
   "outputs": [],
   "source": [
    "import json\n",
    "if isinstance(universe, str):\n",
    "    universe = json.loads(universe)"
   ]
  },
  {
   "cell_type": "code",
   "execution_count": 6,
   "id": "16620c48",
   "metadata": {
    "execution": {
     "iopub.execute_input": "2025-08-05T15:06:38.409961Z",
     "iopub.status.busy": "2025-08-05T15:06:38.409134Z",
     "iopub.status.idle": "2025-08-05T15:06:38.438987Z",
     "shell.execute_reply": "2025-08-05T15:06:38.438229Z"
    },
    "papermill": {
     "duration": 0.041311,
     "end_time": "2025-08-05T15:06:38.440532",
     "exception": false,
     "start_time": "2025-08-05T15:06:38.399221",
     "status": "completed"
    },
    "tags": []
   },
   "outputs": [],
   "source": [
    "# Auto-reload the custom package\n",
    "%load_ext autoreload\n",
    "%autoreload 1\n",
    "%aimport fairness_multiverse"
   ]
  },
  {
   "cell_type": "code",
   "execution_count": 7,
   "id": "01c5c9f3",
   "metadata": {
    "execution": {
     "iopub.execute_input": "2025-08-05T15:06:38.460541Z",
     "iopub.status.busy": "2025-08-05T15:06:38.460035Z",
     "iopub.status.idle": "2025-08-05T15:06:40.145120Z",
     "shell.execute_reply": "2025-08-05T15:06:40.143553Z"
    },
    "papermill": {
     "duration": 1.697481,
     "end_time": "2025-08-05T15:06:40.147466",
     "exception": false,
     "start_time": "2025-08-05T15:06:38.449985",
     "status": "completed"
    },
    "tags": []
   },
   "outputs": [],
   "source": [
    "from fairness_multiverse.universe import UniverseAnalysis\n",
    "\n",
    "universe_analysis = UniverseAnalysis(\n",
    "    run_no = run_no,\n",
    "    universe_id = universe_id,\n",
    "    universe = universe,\n",
    "    output_dir=output_dir,\n",
    ")"
   ]
  },
  {
   "cell_type": "code",
   "execution_count": 8,
   "id": "106241f5",
   "metadata": {
    "execution": {
     "iopub.execute_input": "2025-08-05T15:06:40.187557Z",
     "iopub.status.busy": "2025-08-05T15:06:40.187039Z",
     "iopub.status.idle": "2025-08-05T15:06:40.194461Z",
     "shell.execute_reply": "2025-08-05T15:06:40.193209Z"
    },
    "papermill": {
     "duration": 0.046372,
     "end_time": "2025-08-05T15:06:40.211417",
     "exception": false,
     "start_time": "2025-08-05T15:06:40.165045",
     "status": "completed"
    },
    "tags": []
   },
   "outputs": [
    {
     "name": "stdout",
     "output_type": "stream",
     "text": [
      "Using Seed: 2023\n"
     ]
    }
   ],
   "source": [
    "import numpy as np\n",
    "parsed_seed = int(seed)\n",
    "np.random.seed(parsed_seed)\n",
    "print(f\"Using Seed: {parsed_seed}\")"
   ]
  },
  {
   "cell_type": "markdown",
   "id": "e0ebdc57",
   "metadata": {
    "papermill": {
     "duration": 0.01773,
     "end_time": "2025-08-05T15:06:40.247810",
     "exception": false,
     "start_time": "2025-08-05T15:06:40.230080",
     "status": "completed"
    },
    "tags": []
   },
   "source": [
    "# Loading Data"
   ]
  },
  {
   "cell_type": "code",
   "execution_count": 9,
   "id": "f0496b8a",
   "metadata": {
    "execution": {
     "iopub.execute_input": "2025-08-05T15:06:40.283292Z",
     "iopub.status.busy": "2025-08-05T15:06:40.282783Z",
     "iopub.status.idle": "2025-08-05T15:06:51.690735Z",
     "shell.execute_reply": "2025-08-05T15:06:51.689090Z"
    },
    "papermill": {
     "duration": 11.428096,
     "end_time": "2025-08-05T15:06:51.692763",
     "exception": false,
     "start_time": "2025-08-05T15:06:40.264667",
     "status": "completed"
    },
    "tags": []
   },
   "outputs": [
    {
     "name": "stdout",
     "output_type": "stream",
     "text": [
      "Loading SIAB data from cache: data/siab_cached.csv.gz\n"
     ]
    },
    {
     "name": "stdout",
     "output_type": "stream",
     "text": [
      "(643690, 164)\n"
     ]
    }
   ],
   "source": [
    "from pathlib import Path\n",
    "import pandas as pd\n",
    "\n",
    "# File paths\n",
    "raw_file = Path(\"data/raw/siab.csv\")\n",
    "cache_file = Path(\"data/siab_cached.csv.gz\")\n",
    "\n",
    "# Ensure cache directory exists\n",
    "cache_file.parent.mkdir(parents=True, exist_ok=True)\n",
    "\n",
    "# Load with simple caching\n",
    "if cache_file.exists():\n",
    "    print(f\"Loading SIAB data from cache: {cache_file}\")\n",
    "    siab = pd.read_csv(cache_file, compression='gzip')\n",
    "else:\n",
    "    print(f\"Cache not found. Reading raw SIAB data: {raw_file}\")\n",
    "    siab = pd.read_csv(raw_file)\n",
    "    siab.to_csv(cache_file, index=False, compression='gzip')\n",
    "    print(f\"Cached SIAB data to: {cache_file}\")\n",
    "\n",
    "print(siab.shape)"
   ]
  },
  {
   "cell_type": "code",
   "execution_count": 10,
   "id": "db0ca512-5f53-4dba-abdb-a2888bca41ba",
   "metadata": {
    "execution": {
     "iopub.execute_input": "2025-08-05T15:06:51.738841Z",
     "iopub.status.busy": "2025-08-05T15:06:51.737772Z",
     "iopub.status.idle": "2025-08-05T15:06:51.745411Z",
     "shell.execute_reply": "2025-08-05T15:06:51.744155Z"
    },
    "papermill": {
     "duration": 0.031702,
     "end_time": "2025-08-05T15:06:51.747413",
     "exception": false,
     "start_time": "2025-08-05T15:06:51.715711",
     "status": "completed"
    },
    "tags": []
   },
   "outputs": [],
   "source": [
    "#siab"
   ]
  },
  {
   "cell_type": "markdown",
   "id": "997051c5-15bd-4b69-9786-c3001a3ce484",
   "metadata": {
    "papermill": {
     "duration": 0.020564,
     "end_time": "2025-08-05T15:06:51.789089",
     "exception": false,
     "start_time": "2025-08-05T15:06:51.768525",
     "status": "completed"
    },
    "tags": []
   },
   "source": [
    "# Splitting Data and Setting Training Data Size"
   ]
  },
  {
   "cell_type": "code",
   "execution_count": 11,
   "id": "aea9c6ef-6f46-42c8-85eb-5a62025c1508",
   "metadata": {
    "execution": {
     "iopub.execute_input": "2025-08-05T15:06:51.823254Z",
     "iopub.status.busy": "2025-08-05T15:06:51.822434Z",
     "iopub.status.idle": "2025-08-05T15:06:53.283096Z",
     "shell.execute_reply": "2025-08-05T15:06:53.282029Z"
    },
    "papermill": {
     "duration": 1.479658,
     "end_time": "2025-08-05T15:06:53.285134",
     "exception": false,
     "start_time": "2025-08-05T15:06:51.805476",
     "status": "completed"
    },
    "tags": []
   },
   "outputs": [],
   "source": [
    "from fairness_multiverse.universe import sample_by_year_size\n",
    "\n",
    "siab_train = sample_by_year_size(siab,\n",
    "                               training_year=universe[\"training_year\"],\n",
    "                               training_size=universe[\"training_size\"])"
   ]
  },
  {
   "cell_type": "code",
   "execution_count": 12,
   "id": "8d3afb32-789d-442c-8d5d-9f5aa8dd2eed",
   "metadata": {
    "execution": {
     "iopub.execute_input": "2025-08-05T15:06:53.324113Z",
     "iopub.status.busy": "2025-08-05T15:06:53.323418Z",
     "iopub.status.idle": "2025-08-05T15:06:53.329589Z",
     "shell.execute_reply": "2025-08-05T15:06:53.328464Z"
    },
    "papermill": {
     "duration": 0.027817,
     "end_time": "2025-08-05T15:06:53.331462",
     "exception": false,
     "start_time": "2025-08-05T15:06:53.303645",
     "status": "completed"
    },
    "tags": []
   },
   "outputs": [],
   "source": [
    "#siab_train.shape"
   ]
  },
  {
   "cell_type": "code",
   "execution_count": 13,
   "id": "d582db68-1a4c-47fb-84fc-08518dc1975a",
   "metadata": {
    "execution": {
     "iopub.execute_input": "2025-08-05T15:06:53.370415Z",
     "iopub.status.busy": "2025-08-05T15:06:53.369562Z",
     "iopub.status.idle": "2025-08-05T15:06:53.375546Z",
     "shell.execute_reply": "2025-08-05T15:06:53.374378Z"
    },
    "papermill": {
     "duration": 0.027215,
     "end_time": "2025-08-05T15:06:53.377380",
     "exception": false,
     "start_time": "2025-08-05T15:06:53.350165",
     "status": "completed"
    },
    "tags": []
   },
   "outputs": [],
   "source": [
    "#display(siab_train.groupby(\"year\").size())"
   ]
  },
  {
   "cell_type": "code",
   "execution_count": 14,
   "id": "a561edb4-d032-42cb-8256-22eac1111c64",
   "metadata": {
    "execution": {
     "iopub.execute_input": "2025-08-05T15:06:53.406716Z",
     "iopub.status.busy": "2025-08-05T15:06:53.405956Z",
     "iopub.status.idle": "2025-08-05T15:06:53.690633Z",
     "shell.execute_reply": "2025-08-05T15:06:53.689833Z"
    },
    "papermill": {
     "duration": 0.29611,
     "end_time": "2025-08-05T15:06:53.692106",
     "exception": false,
     "start_time": "2025-08-05T15:06:53.395996",
     "status": "completed"
    },
    "tags": []
   },
   "outputs": [],
   "source": [
    "#siab_train = siab_s[siab_s.year < 2015]\n",
    "siab_calib = siab[siab.year == 2015]\n",
    "siab_test = siab[siab.year == 2016]"
   ]
  },
  {
   "cell_type": "code",
   "execution_count": 15,
   "id": "472de16f-c3db-4916-846b-1f0de9cf1746",
   "metadata": {
    "execution": {
     "iopub.execute_input": "2025-08-05T15:06:53.729893Z",
     "iopub.status.busy": "2025-08-05T15:06:53.729452Z",
     "iopub.status.idle": "2025-08-05T15:06:53.743290Z",
     "shell.execute_reply": "2025-08-05T15:06:53.742009Z"
    },
    "papermill": {
     "duration": 0.033508,
     "end_time": "2025-08-05T15:06:53.744818",
     "exception": false,
     "start_time": "2025-08-05T15:06:53.711310",
     "status": "completed"
    },
    "tags": []
   },
   "outputs": [],
   "source": [
    "X_train = siab_train.iloc[:,4:164]\n",
    "y_train = siab_train.iloc[:, [3]]"
   ]
  },
  {
   "cell_type": "code",
   "execution_count": 16,
   "id": "828c96af-f43a-4ed6-ba47-8ac73a47d56c",
   "metadata": {
    "execution": {
     "iopub.execute_input": "2025-08-05T15:06:53.766534Z",
     "iopub.status.busy": "2025-08-05T15:06:53.766019Z",
     "iopub.status.idle": "2025-08-05T15:06:53.815374Z",
     "shell.execute_reply": "2025-08-05T15:06:53.814462Z"
    },
    "papermill": {
     "duration": 0.061457,
     "end_time": "2025-08-05T15:06:53.817059",
     "exception": false,
     "start_time": "2025-08-05T15:06:53.755602",
     "status": "completed"
    },
    "tags": []
   },
   "outputs": [],
   "source": [
    "X_calib = siab_calib.iloc[:,4:164]\n",
    "y_calib = siab_calib.iloc[:, [3]]"
   ]
  },
  {
   "cell_type": "code",
   "execution_count": 17,
   "id": "c34be9c3-6bd6-476e-acd3-845840e303be",
   "metadata": {
    "execution": {
     "iopub.execute_input": "2025-08-05T15:06:53.849078Z",
     "iopub.status.busy": "2025-08-05T15:06:53.848662Z",
     "iopub.status.idle": "2025-08-05T15:06:53.907442Z",
     "shell.execute_reply": "2025-08-05T15:06:53.906303Z"
    },
    "papermill": {
     "duration": 0.080792,
     "end_time": "2025-08-05T15:06:53.909235",
     "exception": false,
     "start_time": "2025-08-05T15:06:53.828443",
     "status": "completed"
    },
    "tags": []
   },
   "outputs": [],
   "source": [
    "X_test = siab_test.iloc[:,4:164]\n",
    "y_true = siab_test.iloc[:, [3]]"
   ]
  },
  {
   "cell_type": "code",
   "execution_count": 18,
   "id": "e6c733c5",
   "metadata": {
    "execution": {
     "iopub.execute_input": "2025-08-05T15:06:53.941208Z",
     "iopub.status.busy": "2025-08-05T15:06:53.940793Z",
     "iopub.status.idle": "2025-08-05T15:06:54.056152Z",
     "shell.execute_reply": "2025-08-05T15:06:54.055049Z"
    },
    "papermill": {
     "duration": 0.130362,
     "end_time": "2025-08-05T15:06:54.058145",
     "exception": false,
     "start_time": "2025-08-05T15:06:53.927783",
     "status": "completed"
    },
    "tags": []
   },
   "outputs": [],
   "source": [
    "# Auxiliary data needed downstream in the pipeline\n",
    "\n",
    "org_train = X_train.copy()\n",
    "org_test = X_test.copy()\n",
    "org_calib = X_calib.copy()"
   ]
  },
  {
   "cell_type": "markdown",
   "id": "0a4a1b33",
   "metadata": {
    "papermill": {
     "duration": 0.015657,
     "end_time": "2025-08-05T15:06:54.094278",
     "exception": false,
     "start_time": "2025-08-05T15:06:54.078621",
     "status": "completed"
    },
    "tags": []
   },
   "source": [
    "# Preprocessing Data"
   ]
  },
  {
   "cell_type": "code",
   "execution_count": 19,
   "id": "ca879031",
   "metadata": {
    "execution": {
     "iopub.execute_input": "2025-08-05T15:06:54.140446Z",
     "iopub.status.busy": "2025-08-05T15:06:54.137927Z",
     "iopub.status.idle": "2025-08-05T15:06:54.146559Z",
     "shell.execute_reply": "2025-08-05T15:06:54.145345Z"
    },
    "papermill": {
     "duration": 0.034154,
     "end_time": "2025-08-05T15:06:54.148306",
     "exception": false,
     "start_time": "2025-08-05T15:06:54.114152",
     "status": "completed"
    },
    "tags": []
   },
   "outputs": [],
   "source": [
    "# EXCLUDE PROTECTED FEATURES\n",
    "# ----------------------\n",
    "# \"exclude_features\": \"none\", # \"nationality\", \"sex\", \"nationality-sex\"\n",
    "\n",
    "excluded_features = universe[\"exclude_features\"].split(\"-\") # split, e.g.: \"nationality-sex\" -> [\"nationality\", \"sex\"]\n",
    "excluded_features_dictionary = {\n",
    "    \"nationality\": [\"maxdeutsch1\", \"maxdeutsch.Missing.\"],\n",
    "    \"sex\": [\"frau1\"],\n",
    "    \"age\": [\"age\"],\n",
    "}"
   ]
  },
  {
   "cell_type": "code",
   "execution_count": 20,
   "id": "b745ac60",
   "metadata": {
    "execution": {
     "iopub.execute_input": "2025-08-05T15:06:54.192304Z",
     "iopub.status.busy": "2025-08-05T15:06:54.191314Z",
     "iopub.status.idle": "2025-08-05T15:06:54.202608Z",
     "shell.execute_reply": "2025-08-05T15:06:54.201591Z"
    },
    "papermill": {
     "duration": 0.035093,
     "end_time": "2025-08-05T15:06:54.204586",
     "exception": false,
     "start_time": "2025-08-05T15:06:54.169493",
     "status": "completed"
    },
    "tags": []
   },
   "outputs": [],
   "source": [
    "# Code nice names to column names\n",
    "\n",
    "excluded_features_columns = [\n",
    "    excluded_features_dictionary[f] for f in excluded_features if len(f) > 0 and f != \"none\"\n",
    "]"
   ]
  },
  {
   "cell_type": "code",
   "execution_count": 21,
   "id": "f84f73a2",
   "metadata": {
    "execution": {
     "iopub.execute_input": "2025-08-05T15:06:54.244940Z",
     "iopub.status.busy": "2025-08-05T15:06:54.244512Z",
     "iopub.status.idle": "2025-08-05T15:06:54.251336Z",
     "shell.execute_reply": "2025-08-05T15:06:54.250270Z"
    },
    "papermill": {
     "duration": 0.029396,
     "end_time": "2025-08-05T15:06:54.253092",
     "exception": false,
     "start_time": "2025-08-05T15:06:54.223696",
     "status": "completed"
    },
    "tags": []
   },
   "outputs": [],
   "source": [
    "from utils import flatten_once\n",
    "\n",
    "excluded_features_columns = flatten_once(excluded_features_columns)"
   ]
  },
  {
   "cell_type": "code",
   "execution_count": 22,
   "id": "884dea22",
   "metadata": {
    "execution": {
     "iopub.execute_input": "2025-08-05T15:06:54.291948Z",
     "iopub.status.busy": "2025-08-05T15:06:54.291243Z",
     "iopub.status.idle": "2025-08-05T15:06:54.316287Z",
     "shell.execute_reply": "2025-08-05T15:06:54.315098Z"
    },
    "papermill": {
     "duration": 0.045642,
     "end_time": "2025-08-05T15:06:54.318119",
     "exception": false,
     "start_time": "2025-08-05T15:06:54.272477",
     "status": "completed"
    },
    "tags": []
   },
   "outputs": [
    {
     "name": "stdout",
     "output_type": "stream",
     "text": [
      "Dropping features: ['maxdeutsch1', 'maxdeutsch.Missing.']\n"
     ]
    }
   ],
   "source": [
    "if len(excluded_features_columns) > 0:\n",
    "    print(f\"Dropping features: {excluded_features_columns}\")\n",
    "    X_train.drop(excluded_features_columns, axis=1, inplace=True)"
   ]
  },
  {
   "cell_type": "code",
   "execution_count": 23,
   "id": "95ab8b16",
   "metadata": {
    "execution": {
     "iopub.execute_input": "2025-08-05T15:06:54.358273Z",
     "iopub.status.busy": "2025-08-05T15:06:54.357527Z",
     "iopub.status.idle": "2025-08-05T15:06:54.409721Z",
     "shell.execute_reply": "2025-08-05T15:06:54.408678Z"
    },
    "papermill": {
     "duration": 0.073058,
     "end_time": "2025-08-05T15:06:54.411393",
     "exception": false,
     "start_time": "2025-08-05T15:06:54.338335",
     "status": "completed"
    },
    "tags": []
   },
   "outputs": [
    {
     "name": "stdout",
     "output_type": "stream",
     "text": [
      "Dropping features: ['maxdeutsch1', 'maxdeutsch.Missing.']\n"
     ]
    }
   ],
   "source": [
    "if len(excluded_features_columns) > 0:\n",
    "    print(f\"Dropping features: {excluded_features_columns}\")\n",
    "    X_test.drop(excluded_features_columns, axis=1, inplace=True)"
   ]
  },
  {
   "cell_type": "code",
   "execution_count": 24,
   "id": "1853aaf5-fb9f-46cb-a2b5-8ea4ae2237e4",
   "metadata": {
    "execution": {
     "iopub.execute_input": "2025-08-05T15:06:54.444813Z",
     "iopub.status.busy": "2025-08-05T15:06:54.443836Z",
     "iopub.status.idle": "2025-08-05T15:06:54.496545Z",
     "shell.execute_reply": "2025-08-05T15:06:54.495402Z"
    },
    "papermill": {
     "duration": 0.076493,
     "end_time": "2025-08-05T15:06:54.499270",
     "exception": false,
     "start_time": "2025-08-05T15:06:54.422777",
     "status": "completed"
    },
    "tags": []
   },
   "outputs": [
    {
     "name": "stdout",
     "output_type": "stream",
     "text": [
      "Dropping features: ['maxdeutsch1', 'maxdeutsch.Missing.']\n"
     ]
    }
   ],
   "source": [
    "if len(excluded_features_columns) > 0:\n",
    "    print(f\"Dropping features: {excluded_features_columns}\")\n",
    "    X_calib.drop(excluded_features_columns, axis=1, inplace=True)"
   ]
  },
  {
   "cell_type": "code",
   "execution_count": 25,
   "id": "76c4dc6d",
   "metadata": {
    "execution": {
     "iopub.execute_input": "2025-08-05T15:06:54.559716Z",
     "iopub.status.busy": "2025-08-05T15:06:54.558746Z",
     "iopub.status.idle": "2025-08-05T15:06:54.564550Z",
     "shell.execute_reply": "2025-08-05T15:06:54.563524Z"
    },
    "papermill": {
     "duration": 0.038249,
     "end_time": "2025-08-05T15:06:54.566545",
     "exception": false,
     "start_time": "2025-08-05T15:06:54.528296",
     "status": "completed"
    },
    "tags": []
   },
   "outputs": [],
   "source": [
    "# EXCLUDE CERTAIN SUBGROUPS\n",
    "# ----------------------\n",
    "\n",
    "mode = universe.get(\"exclude_subgroups\", \"keep-all\") \n",
    "# Fetches the exclude_subgroups setting from the universe dict.\n",
    "# Defaults to \"keep-all\" if the key is missing."
   ]
  },
  {
   "cell_type": "code",
   "execution_count": 26,
   "id": "21994072",
   "metadata": {
    "execution": {
     "iopub.execute_input": "2025-08-05T15:06:54.611808Z",
     "iopub.status.busy": "2025-08-05T15:06:54.610925Z",
     "iopub.status.idle": "2025-08-05T15:06:54.617994Z",
     "shell.execute_reply": "2025-08-05T15:06:54.616924Z"
    },
    "papermill": {
     "duration": 0.031144,
     "end_time": "2025-08-05T15:06:54.619980",
     "exception": false,
     "start_time": "2025-08-05T15:06:54.588836",
     "status": "completed"
    },
    "tags": []
   },
   "outputs": [],
   "source": [
    "if mode == \"keep-all\":\n",
    "    keep_mask = pd.Series(True, index=org_train.index)\n",
    "\n",
    "# org_train contains the original feature columns from features_org (in Simson)\n",
    "# features_org contains unprocessed features, for me X_train at beginning ???\n",
    "# For keep-all, creates a boolean Series (keep_mask) of all True, so no rows are removed.\n",
    "\n",
    "elif mode == \"drop-non-german\":\n",
    "    keep_mask = org_train[\"maxdeutsch1\"] == 1 # ??? what about missing values?\n",
    "\n",
    "else:\n",
    "    raise ValueError(f\"Unsupported mode for exclude_subgroups: {mode}\")"
   ]
  },
  {
   "cell_type": "code",
   "execution_count": 27,
   "id": "71651440",
   "metadata": {
    "execution": {
     "iopub.execute_input": "2025-08-05T15:06:54.664928Z",
     "iopub.status.busy": "2025-08-05T15:06:54.664037Z",
     "iopub.status.idle": "2025-08-05T15:06:54.671137Z",
     "shell.execute_reply": "2025-08-05T15:06:54.670061Z"
    },
    "papermill": {
     "duration": 0.030868,
     "end_time": "2025-08-05T15:06:54.673079",
     "exception": false,
     "start_time": "2025-08-05T15:06:54.642211",
     "status": "completed"
    },
    "tags": []
   },
   "outputs": [],
   "source": [
    "n_drop = (~keep_mask).sum() # Calculates how many rows are set to be dropped\n",
    "if n_drop > 0:\n",
    "    pct = n_drop / len(keep_mask) * 100\n",
    "    print(f\"Dropping {n_drop} rows ({pct:.2f}%) where mode='{mode}'\")"
   ]
  },
  {
   "cell_type": "code",
   "execution_count": 28,
   "id": "5fb8eee5",
   "metadata": {
    "execution": {
     "iopub.execute_input": "2025-08-05T15:06:54.717508Z",
     "iopub.status.busy": "2025-08-05T15:06:54.716674Z",
     "iopub.status.idle": "2025-08-05T15:06:54.740414Z",
     "shell.execute_reply": "2025-08-05T15:06:54.739262Z"
    },
    "papermill": {
     "duration": 0.048171,
     "end_time": "2025-08-05T15:06:54.742551",
     "exception": false,
     "start_time": "2025-08-05T15:06:54.694380",
     "status": "completed"
    },
    "tags": []
   },
   "outputs": [],
   "source": [
    "X_train = X_train[keep_mask]"
   ]
  },
  {
   "cell_type": "code",
   "execution_count": 29,
   "id": "b202bb3a",
   "metadata": {
    "execution": {
     "iopub.execute_input": "2025-08-05T15:06:54.782596Z",
     "iopub.status.busy": "2025-08-05T15:06:54.781707Z",
     "iopub.status.idle": "2025-08-05T15:06:54.788411Z",
     "shell.execute_reply": "2025-08-05T15:06:54.787324Z"
    },
    "papermill": {
     "duration": 0.028326,
     "end_time": "2025-08-05T15:06:54.790505",
     "exception": false,
     "start_time": "2025-08-05T15:06:54.762179",
     "status": "completed"
    },
    "tags": []
   },
   "outputs": [],
   "source": [
    "y_train = y_train[keep_mask]"
   ]
  },
  {
   "cell_type": "markdown",
   "id": "493e2ac3",
   "metadata": {
    "papermill": {
     "duration": 0.020975,
     "end_time": "2025-08-05T15:06:54.833762",
     "exception": false,
     "start_time": "2025-08-05T15:06:54.812787",
     "status": "completed"
    },
    "tags": []
   },
   "source": [
    "# Model Training"
   ]
  },
  {
   "cell_type": "code",
   "execution_count": 30,
   "id": "679e1268",
   "metadata": {
    "execution": {
     "iopub.execute_input": "2025-08-05T15:06:54.924142Z",
     "iopub.status.busy": "2025-08-05T15:06:54.923459Z",
     "iopub.status.idle": "2025-08-05T15:06:55.030228Z",
     "shell.execute_reply": "2025-08-05T15:06:55.029201Z"
    },
    "papermill": {
     "duration": 0.13091,
     "end_time": "2025-08-05T15:06:55.032227",
     "exception": false,
     "start_time": "2025-08-05T15:06:54.901317",
     "status": "completed"
    },
    "tags": []
   },
   "outputs": [],
   "source": [
    "from sklearn.linear_model import LogisticRegression\n",
    "from sklearn.ensemble import GradientBoostingClassifier, RandomForestClassifier\n",
    "\n",
    "if (universe[\"model\"] == \"logreg\"):\n",
    "    model = LogisticRegression() #penalty=\"none\", solver=\"newton-cg\", max_iter=1) # include random_state=19 ?\n",
    "elif (universe[\"model\"] == \"penalized_logreg\"):\n",
    "    model = LogisticRegression(penalty=\"l2\", C=0.1) #, solver=\"newton-cg\", max_iter=1)\n",
    "elif (universe[\"model\"] == \"rf\"):\n",
    "    model = RandomForestClassifier() # n_estimators=100, n_jobs=-1\n",
    "elif (universe[\"model\"] == \"gbm\"):\n",
    "    model = GradientBoostingClassifier()\n",
    "elif (universe[\"model\"] == \"elasticnet\"):\n",
    "    model = LogisticRegression(penalty = 'elasticnet', solver = 'saga', l1_ratio = 0.5) # max_iter=5000\n",
    "else:\n",
    "    raise \"Unsupported universe.model\""
   ]
  },
  {
   "cell_type": "code",
   "execution_count": 31,
   "id": "0cc8f744",
   "metadata": {
    "execution": {
     "iopub.execute_input": "2025-08-05T15:06:55.072609Z",
     "iopub.status.busy": "2025-08-05T15:06:55.071944Z",
     "iopub.status.idle": "2025-08-05T15:06:55.078567Z",
     "shell.execute_reply": "2025-08-05T15:06:55.077615Z"
    },
    "papermill": {
     "duration": 0.028466,
     "end_time": "2025-08-05T15:06:55.080373",
     "exception": false,
     "start_time": "2025-08-05T15:06:55.051907",
     "status": "completed"
    },
    "tags": []
   },
   "outputs": [],
   "source": [
    "import numpy as np\n",
    "from sklearn.pipeline import Pipeline\n",
    "from sklearn.preprocessing import StandardScaler\n",
    "\n",
    "model = Pipeline([\n",
    "    #(\"continuous_processor\", continuous_processor),\n",
    "    #(\"categorical_preprocessor\", categorical_preprocessor),\n",
    "    (\"scale\", StandardScaler() if universe[\"scale\"] == \"scale\" else None), \n",
    "    (\"model\", model),\n",
    "])"
   ]
  },
  {
   "cell_type": "code",
   "execution_count": 32,
   "id": "9442c04d",
   "metadata": {
    "execution": {
     "iopub.execute_input": "2025-08-05T15:06:55.120223Z",
     "iopub.status.busy": "2025-08-05T15:06:55.119695Z",
     "iopub.status.idle": "2025-08-05T15:07:04.938710Z",
     "shell.execute_reply": "2025-08-05T15:07:04.937725Z"
    },
    "papermill": {
     "duration": 9.840392,
     "end_time": "2025-08-05T15:07:04.940309",
     "exception": false,
     "start_time": "2025-08-05T15:06:55.099917",
     "status": "completed"
    },
    "tags": []
   },
   "outputs": [
    {
     "data": {
      "text/html": [
       "<style>#sk-container-id-1 {color: black;background-color: white;}#sk-container-id-1 pre{padding: 0;}#sk-container-id-1 div.sk-toggleable {background-color: white;}#sk-container-id-1 label.sk-toggleable__label {cursor: pointer;display: block;width: 100%;margin-bottom: 0;padding: 0.3em;box-sizing: border-box;text-align: center;}#sk-container-id-1 label.sk-toggleable__label-arrow:before {content: \"▸\";float: left;margin-right: 0.25em;color: #696969;}#sk-container-id-1 label.sk-toggleable__label-arrow:hover:before {color: black;}#sk-container-id-1 div.sk-estimator:hover label.sk-toggleable__label-arrow:before {color: black;}#sk-container-id-1 div.sk-toggleable__content {max-height: 0;max-width: 0;overflow: hidden;text-align: left;background-color: #f0f8ff;}#sk-container-id-1 div.sk-toggleable__content pre {margin: 0.2em;color: black;border-radius: 0.25em;background-color: #f0f8ff;}#sk-container-id-1 input.sk-toggleable__control:checked~div.sk-toggleable__content {max-height: 200px;max-width: 100%;overflow: auto;}#sk-container-id-1 input.sk-toggleable__control:checked~label.sk-toggleable__label-arrow:before {content: \"▾\";}#sk-container-id-1 div.sk-estimator input.sk-toggleable__control:checked~label.sk-toggleable__label {background-color: #d4ebff;}#sk-container-id-1 div.sk-label input.sk-toggleable__control:checked~label.sk-toggleable__label {background-color: #d4ebff;}#sk-container-id-1 input.sk-hidden--visually {border: 0;clip: rect(1px 1px 1px 1px);clip: rect(1px, 1px, 1px, 1px);height: 1px;margin: -1px;overflow: hidden;padding: 0;position: absolute;width: 1px;}#sk-container-id-1 div.sk-estimator {font-family: monospace;background-color: #f0f8ff;border: 1px dotted black;border-radius: 0.25em;box-sizing: border-box;margin-bottom: 0.5em;}#sk-container-id-1 div.sk-estimator:hover {background-color: #d4ebff;}#sk-container-id-1 div.sk-parallel-item::after {content: \"\";width: 100%;border-bottom: 1px solid gray;flex-grow: 1;}#sk-container-id-1 div.sk-label:hover label.sk-toggleable__label {background-color: #d4ebff;}#sk-container-id-1 div.sk-serial::before {content: \"\";position: absolute;border-left: 1px solid gray;box-sizing: border-box;top: 0;bottom: 0;left: 50%;z-index: 0;}#sk-container-id-1 div.sk-serial {display: flex;flex-direction: column;align-items: center;background-color: white;padding-right: 0.2em;padding-left: 0.2em;position: relative;}#sk-container-id-1 div.sk-item {position: relative;z-index: 1;}#sk-container-id-1 div.sk-parallel {display: flex;align-items: stretch;justify-content: center;background-color: white;position: relative;}#sk-container-id-1 div.sk-item::before, #sk-container-id-1 div.sk-parallel-item::before {content: \"\";position: absolute;border-left: 1px solid gray;box-sizing: border-box;top: 0;bottom: 0;left: 50%;z-index: -1;}#sk-container-id-1 div.sk-parallel-item {display: flex;flex-direction: column;z-index: 1;position: relative;background-color: white;}#sk-container-id-1 div.sk-parallel-item:first-child::after {align-self: flex-end;width: 50%;}#sk-container-id-1 div.sk-parallel-item:last-child::after {align-self: flex-start;width: 50%;}#sk-container-id-1 div.sk-parallel-item:only-child::after {width: 0;}#sk-container-id-1 div.sk-dashed-wrapped {border: 1px dashed gray;margin: 0 0.4em 0.5em 0.4em;box-sizing: border-box;padding-bottom: 0.4em;background-color: white;}#sk-container-id-1 div.sk-label label {font-family: monospace;font-weight: bold;display: inline-block;line-height: 1.2em;}#sk-container-id-1 div.sk-label-container {text-align: center;}#sk-container-id-1 div.sk-container {/* jupyter's `normalize.less` sets `[hidden] { display: none; }` but bootstrap.min.css set `[hidden] { display: none !important; }` so we also need the `!important` here to be able to override the default hidden behavior on the sphinx rendered scikit-learn.org. See: https://github.com/scikit-learn/scikit-learn/issues/21755 */display: inline-block !important;position: relative;}#sk-container-id-1 div.sk-text-repr-fallback {display: none;}</style><div id=\"sk-container-id-1\" class=\"sk-top-container\"><div class=\"sk-text-repr-fallback\"><pre>Pipeline(steps=[(&#x27;scale&#x27;, StandardScaler()),\n",
       "                (&#x27;model&#x27;, RandomForestClassifier())])</pre><b>In a Jupyter environment, please rerun this cell to show the HTML representation or trust the notebook. <br />On GitHub, the HTML representation is unable to render, please try loading this page with nbviewer.org.</b></div><div class=\"sk-container\" hidden><div class=\"sk-item sk-dashed-wrapped\"><div class=\"sk-label-container\"><div class=\"sk-label sk-toggleable\"><input class=\"sk-toggleable__control sk-hidden--visually\" id=\"sk-estimator-id-1\" type=\"checkbox\" ><label for=\"sk-estimator-id-1\" class=\"sk-toggleable__label sk-toggleable__label-arrow\">Pipeline</label><div class=\"sk-toggleable__content\"><pre>Pipeline(steps=[(&#x27;scale&#x27;, StandardScaler()),\n",
       "                (&#x27;model&#x27;, RandomForestClassifier())])</pre></div></div></div><div class=\"sk-serial\"><div class=\"sk-item\"><div class=\"sk-estimator sk-toggleable\"><input class=\"sk-toggleable__control sk-hidden--visually\" id=\"sk-estimator-id-2\" type=\"checkbox\" ><label for=\"sk-estimator-id-2\" class=\"sk-toggleable__label sk-toggleable__label-arrow\">StandardScaler</label><div class=\"sk-toggleable__content\"><pre>StandardScaler()</pre></div></div></div><div class=\"sk-item\"><div class=\"sk-estimator sk-toggleable\"><input class=\"sk-toggleable__control sk-hidden--visually\" id=\"sk-estimator-id-3\" type=\"checkbox\" ><label for=\"sk-estimator-id-3\" class=\"sk-toggleable__label sk-toggleable__label-arrow\">RandomForestClassifier</label><div class=\"sk-toggleable__content\"><pre>RandomForestClassifier()</pre></div></div></div></div></div></div></div>"
      ],
      "text/plain": [
       "Pipeline(steps=[('scale', StandardScaler()),\n",
       "                ('model', RandomForestClassifier())])"
      ]
     },
     "execution_count": 32,
     "metadata": {},
     "output_type": "execute_result"
    }
   ],
   "source": [
    "model.fit(X_train, y_train.values.ravel())"
   ]
  },
  {
   "cell_type": "code",
   "execution_count": 33,
   "id": "af59f8c0",
   "metadata": {
    "execution": {
     "iopub.execute_input": "2025-08-05T15:07:04.986131Z",
     "iopub.status.busy": "2025-08-05T15:07:04.985614Z",
     "iopub.status.idle": "2025-08-05T15:07:04.990763Z",
     "shell.execute_reply": "2025-08-05T15:07:04.989791Z"
    },
    "papermill": {
     "duration": 0.029754,
     "end_time": "2025-08-05T15:07:04.992500",
     "exception": false,
     "start_time": "2025-08-05T15:07:04.962746",
     "status": "completed"
    },
    "tags": []
   },
   "outputs": [],
   "source": [
    "from fairness_multiverse.universe import predict_w_threshold"
   ]
  },
  {
   "cell_type": "code",
   "execution_count": 34,
   "id": "a7cf2e16",
   "metadata": {
    "execution": {
     "iopub.execute_input": "2025-08-05T15:07:05.031980Z",
     "iopub.status.busy": "2025-08-05T15:07:05.031476Z",
     "iopub.status.idle": "2025-08-05T15:07:08.384074Z",
     "shell.execute_reply": "2025-08-05T15:07:08.383141Z"
    },
    "papermill": {
     "duration": 3.373873,
     "end_time": "2025-08-05T15:07:08.385710",
     "exception": false,
     "start_time": "2025-08-05T15:07:05.011837",
     "status": "completed"
    },
    "tags": []
   },
   "outputs": [
    {
     "data": {
      "text/plain": [
       "0.8647419462713187"
      ]
     },
     "execution_count": 34,
     "metadata": {},
     "output_type": "execute_result"
    }
   ],
   "source": [
    "probs_test = model.predict_proba(X_test)\n",
    "\n",
    "'''\n",
    "Below code returns a boolean array (or binary 0/1 array depending on how it’s used) where each element \n",
    "is True if the probability of class 1 is greater than or equal to the threshold, and False otherwise.\n",
    "'''\n",
    "y_pred_default = predict_w_threshold(probs_test, 0.5)\n",
    "\n",
    "from sklearn.metrics import accuracy_score\n",
    "\n",
    "# Naive prediction\n",
    "accuracy_score(y_true = y_true, y_pred = y_pred_default)"
   ]
  },
  {
   "cell_type": "code",
   "execution_count": 35,
   "id": "081964c3",
   "metadata": {
    "execution": {
     "iopub.execute_input": "2025-08-05T15:07:08.427610Z",
     "iopub.status.busy": "2025-08-05T15:07:08.427118Z",
     "iopub.status.idle": "2025-08-05T15:07:11.328655Z",
     "shell.execute_reply": "2025-08-05T15:07:11.327853Z"
    },
    "papermill": {
     "duration": 2.923922,
     "end_time": "2025-08-05T15:07:11.330047",
     "exception": false,
     "start_time": "2025-08-05T15:07:08.406125",
     "status": "completed"
    },
    "tags": []
   },
   "outputs": [
    {
     "data": {
      "text/plain": [
       "array([0, 0, 0, ..., 0, 0, 0])"
      ]
     },
     "execution_count": 35,
     "metadata": {},
     "output_type": "execute_result"
    }
   ],
   "source": [
    "model.predict(X_test)"
   ]
  },
  {
   "cell_type": "markdown",
   "id": "56c9705b",
   "metadata": {
    "papermill": {
     "duration": 0.010169,
     "end_time": "2025-08-05T15:07:11.351321",
     "exception": false,
     "start_time": "2025-08-05T15:07:11.341152",
     "status": "completed"
    },
    "tags": []
   },
   "source": [
    "# Conformal Prediction"
   ]
  },
  {
   "cell_type": "code",
   "execution_count": 36,
   "id": "160ec6ff",
   "metadata": {
    "execution": {
     "iopub.execute_input": "2025-08-05T15:07:11.377442Z",
     "iopub.status.busy": "2025-08-05T15:07:11.377095Z",
     "iopub.status.idle": "2025-08-05T15:07:11.381896Z",
     "shell.execute_reply": "2025-08-05T15:07:11.381126Z"
    },
    "papermill": {
     "duration": 0.021837,
     "end_time": "2025-08-05T15:07:11.383114",
     "exception": false,
     "start_time": "2025-08-05T15:07:11.361277",
     "status": "completed"
    },
    "tags": []
   },
   "outputs": [],
   "source": [
    "# Miscoverage level for conformal prediction (10% allowed error rate => 90% target coverage)\n",
    "alpha = 0.1"
   ]
  },
  {
   "cell_type": "code",
   "execution_count": 37,
   "id": "eadf4555-3dd3-440e-8e35-f82a4ad9f855",
   "metadata": {
    "execution": {
     "iopub.execute_input": "2025-08-05T15:07:11.406397Z",
     "iopub.status.busy": "2025-08-05T15:07:11.405865Z",
     "iopub.status.idle": "2025-08-05T15:07:14.438792Z",
     "shell.execute_reply": "2025-08-05T15:07:14.437715Z"
    },
    "papermill": {
     "duration": 3.046194,
     "end_time": "2025-08-05T15:07:14.440784",
     "exception": false,
     "start_time": "2025-08-05T15:07:11.394590",
     "status": "completed"
    },
    "tags": []
   },
   "outputs": [],
   "source": [
    "probs_calib = model.predict_proba(X_calib)"
   ]
  },
  {
   "cell_type": "code",
   "execution_count": 38,
   "id": "2ed93547-6d5d-4983-9b36-1ecb300da49a",
   "metadata": {
    "execution": {
     "iopub.execute_input": "2025-08-05T15:07:14.485018Z",
     "iopub.status.busy": "2025-08-05T15:07:14.484153Z",
     "iopub.status.idle": "2025-08-05T15:07:14.490034Z",
     "shell.execute_reply": "2025-08-05T15:07:14.489033Z"
    },
    "papermill": {
     "duration": 0.030315,
     "end_time": "2025-08-05T15:07:14.491942",
     "exception": false,
     "start_time": "2025-08-05T15:07:14.461627",
     "status": "completed"
    },
    "tags": []
   },
   "outputs": [],
   "source": [
    "y_calib = y_calib.values.ravel().astype(int)"
   ]
  },
  {
   "cell_type": "code",
   "execution_count": 39,
   "id": "65d1320d-f588-4b38-9072-62af1ae97f7d",
   "metadata": {
    "execution": {
     "iopub.execute_input": "2025-08-05T15:07:14.534672Z",
     "iopub.status.busy": "2025-08-05T15:07:14.533734Z",
     "iopub.status.idle": "2025-08-05T15:07:14.541337Z",
     "shell.execute_reply": "2025-08-05T15:07:14.540386Z"
    },
    "papermill": {
     "duration": 0.03009,
     "end_time": "2025-08-05T15:07:14.543052",
     "exception": false,
     "start_time": "2025-08-05T15:07:14.512962",
     "status": "completed"
    },
    "tags": []
   },
   "outputs": [],
   "source": [
    "from fairness_multiverse.conformal import compute_nc_scores\n",
    "\n",
    "# Compute nonconformity scores on calibration set (1 - probability of true class)\n",
    "nc_scores = compute_nc_scores(probs_calib, y_calib)"
   ]
  },
  {
   "cell_type": "code",
   "execution_count": 40,
   "id": "df3b8ca3-53b7-43d5-9667-7c85da7aeda2",
   "metadata": {
    "execution": {
     "iopub.execute_input": "2025-08-05T15:07:14.586003Z",
     "iopub.status.busy": "2025-08-05T15:07:14.585118Z",
     "iopub.status.idle": "2025-08-05T15:07:14.592003Z",
     "shell.execute_reply": "2025-08-05T15:07:14.590947Z"
    },
    "papermill": {
     "duration": 0.029981,
     "end_time": "2025-08-05T15:07:14.593813",
     "exception": false,
     "start_time": "2025-08-05T15:07:14.563832",
     "status": "completed"
    },
    "tags": []
   },
   "outputs": [],
   "source": [
    "from fairness_multiverse.conformal import find_threshold\n",
    "\n",
    "# Find conformal threshold q_hat for the given alpha (split conformal method)\n",
    "q_hat = find_threshold(nc_scores, alpha)"
   ]
  },
  {
   "cell_type": "code",
   "execution_count": 41,
   "id": "4d29e6c1-0ef6-4aa4-b8fe-4fe79b0d033a",
   "metadata": {
    "execution": {
     "iopub.execute_input": "2025-08-05T15:07:14.638566Z",
     "iopub.status.busy": "2025-08-05T15:07:14.637925Z",
     "iopub.status.idle": "2025-08-05T15:07:14.645881Z",
     "shell.execute_reply": "2025-08-05T15:07:14.644698Z"
    },
    "papermill": {
     "duration": 0.031902,
     "end_time": "2025-08-05T15:07:14.647651",
     "exception": false,
     "start_time": "2025-08-05T15:07:14.615749",
     "status": "completed"
    },
    "tags": []
   },
   "outputs": [
    {
     "data": {
      "text/plain": [
       "0.6599999999999999"
      ]
     },
     "execution_count": 41,
     "metadata": {},
     "output_type": "execute_result"
    }
   ],
   "source": [
    "q_hat"
   ]
  },
  {
   "cell_type": "code",
   "execution_count": 42,
   "id": "92460794-cdac-4be2-ba28-f28c0515a6fb",
   "metadata": {
    "execution": {
     "iopub.execute_input": "2025-08-05T15:07:14.693149Z",
     "iopub.status.busy": "2025-08-05T15:07:14.692495Z",
     "iopub.status.idle": "2025-08-05T15:07:19.043430Z",
     "shell.execute_reply": "2025-08-05T15:07:19.042571Z"
    },
    "papermill": {
     "duration": 4.375098,
     "end_time": "2025-08-05T15:07:19.044902",
     "exception": false,
     "start_time": "2025-08-05T15:07:14.669804",
     "status": "completed"
    },
    "tags": []
   },
   "outputs": [],
   "source": [
    "from fairness_multiverse.conformal import predict_conformal_sets\n",
    "\n",
    "# Generate prediction sets for each test example\n",
    "pred_sets = predict_conformal_sets(model, X_test, q_hat)"
   ]
  },
  {
   "cell_type": "code",
   "execution_count": 43,
   "id": "d90c9a65-e6db-4f5d-80cd-e68fb7e46829",
   "metadata": {
    "execution": {
     "iopub.execute_input": "2025-08-05T15:07:19.069186Z",
     "iopub.status.busy": "2025-08-05T15:07:19.068046Z",
     "iopub.status.idle": "2025-08-05T15:07:19.074035Z",
     "shell.execute_reply": "2025-08-05T15:07:19.073257Z"
    },
    "papermill": {
     "duration": 0.019566,
     "end_time": "2025-08-05T15:07:19.075594",
     "exception": false,
     "start_time": "2025-08-05T15:07:19.056028",
     "status": "completed"
    },
    "tags": []
   },
   "outputs": [],
   "source": [
    "y_true = y_true.squeeze()"
   ]
  },
  {
   "cell_type": "code",
   "execution_count": 44,
   "id": "3a58a54a-1e68-46b9-927a-df01f18aebc8",
   "metadata": {
    "execution": {
     "iopub.execute_input": "2025-08-05T15:07:19.106094Z",
     "iopub.status.busy": "2025-08-05T15:07:19.105723Z",
     "iopub.status.idle": "2025-08-05T15:07:19.797052Z",
     "shell.execute_reply": "2025-08-05T15:07:19.796316Z"
    },
    "papermill": {
     "duration": 0.710654,
     "end_time": "2025-08-05T15:07:19.798844",
     "exception": false,
     "start_time": "2025-08-05T15:07:19.088190",
     "status": "completed"
    },
    "tags": []
   },
   "outputs": [],
   "source": [
    "from fairness_multiverse.conformal import evaluate_sets\n",
    "\n",
    "# Evaluate coverage and average set size on test data\n",
    "metrics = evaluate_sets(pred_sets, y_true)"
   ]
  },
  {
   "cell_type": "markdown",
   "id": "2b569c12-9aaa-4c88-98c9-bbcd0cf3ebb8",
   "metadata": {
    "papermill": {
     "duration": 0.010208,
     "end_time": "2025-08-05T15:07:19.820559",
     "exception": false,
     "start_time": "2025-08-05T15:07:19.810351",
     "status": "completed"
    },
    "tags": []
   },
   "source": [
    "# CP Metrics"
   ]
  },
  {
   "cell_type": "code",
   "execution_count": 45,
   "id": "5ce0a5cb-201f-45a0-ade5-94c7f0bd6095",
   "metadata": {
    "execution": {
     "iopub.execute_input": "2025-08-05T15:07:19.856304Z",
     "iopub.status.busy": "2025-08-05T15:07:19.855915Z",
     "iopub.status.idle": "2025-08-05T15:07:19.862073Z",
     "shell.execute_reply": "2025-08-05T15:07:19.861341Z"
    },
    "papermill": {
     "duration": 0.019616,
     "end_time": "2025-08-05T15:07:19.863245",
     "exception": false,
     "start_time": "2025-08-05T15:07:19.843629",
     "status": "completed"
    },
    "tags": []
   },
   "outputs": [
    {
     "data": {
      "text/plain": [
       "{'coverage': 0.9146360494928102, 'avg_size': 1.1494705161074574}"
      ]
     },
     "execution_count": 45,
     "metadata": {},
     "output_type": "execute_result"
    }
   ],
   "source": [
    "metrics"
   ]
  },
  {
   "cell_type": "code",
   "execution_count": 46,
   "id": "9b9a838d-31c9-430b-ae14-12baee460d17",
   "metadata": {
    "execution": {
     "iopub.execute_input": "2025-08-05T15:07:19.893124Z",
     "iopub.status.busy": "2025-08-05T15:07:19.892752Z",
     "iopub.status.idle": "2025-08-05T15:07:19.897663Z",
     "shell.execute_reply": "2025-08-05T15:07:19.896860Z"
    },
    "papermill": {
     "duration": 0.023934,
     "end_time": "2025-08-05T15:07:19.899043",
     "exception": false,
     "start_time": "2025-08-05T15:07:19.875109",
     "status": "completed"
    },
    "tags": []
   },
   "outputs": [],
   "source": [
    "example_universe = universe.copy()\n",
    "universe_training_year = example_universe.get(\"training_year\")\n",
    "universe_training_size = example_universe.get(\"training_size\")\n",
    "universe_scale = example_universe.get(\"scale\")\n",
    "universe_model = example_universe.get(\"model\")\n",
    "universe_exclude_features = example_universe.get(\"exclude_features\")\n",
    "universe_exclude_subgroups = example_universe.get(\"exclude_subgroups\")"
   ]
  },
  {
   "cell_type": "code",
   "execution_count": 47,
   "id": "f4b6a8ac-9dc0-4245-8a91-5b3b5999c4f9",
   "metadata": {
    "execution": {
     "iopub.execute_input": "2025-08-05T15:07:19.923690Z",
     "iopub.status.busy": "2025-08-05T15:07:19.923197Z",
     "iopub.status.idle": "2025-08-05T15:07:19.928775Z",
     "shell.execute_reply": "2025-08-05T15:07:19.928013Z"
    },
    "papermill": {
     "duration": 0.01878,
     "end_time": "2025-08-05T15:07:19.930289",
     "exception": false,
     "start_time": "2025-08-05T15:07:19.911509",
     "status": "completed"
    },
    "tags": []
   },
   "outputs": [],
   "source": [
    "cp_metrics_dict = {\n",
    "    \"universe_id\": [universe_id],\n",
    "    \"universe_training_year\": [universe_training_year],\n",
    "    \"universe_training_size\": [universe_training_size],\n",
    "    \"universe_scale\": [universe_scale],\n",
    "    \"universe_model\": [universe_model],\n",
    "    \"universe_exclude_features\": [universe_exclude_features],\n",
    "    \"universe_exclude_subgroups\": [universe_exclude_subgroups],\n",
    "    \"q_hat\": [q_hat],\n",
    "    \"coverage\": [metrics[\"coverage\"]],\n",
    "    \"avg_size\": [metrics[\"avg_size\"]],\n",
    "}"
   ]
  },
  {
   "cell_type": "code",
   "execution_count": 48,
   "id": "908acbb1-0371-4915-85ca-3fa520d2efe2",
   "metadata": {
    "execution": {
     "iopub.execute_input": "2025-08-05T15:07:19.962820Z",
     "iopub.status.busy": "2025-08-05T15:07:19.961624Z",
     "iopub.status.idle": "2025-08-05T15:07:19.969886Z",
     "shell.execute_reply": "2025-08-05T15:07:19.969125Z"
    },
    "papermill": {
     "duration": 0.023191,
     "end_time": "2025-08-05T15:07:19.971378",
     "exception": false,
     "start_time": "2025-08-05T15:07:19.948187",
     "status": "completed"
    },
    "tags": []
   },
   "outputs": [
    {
     "data": {
      "text/plain": [
       "{'universe_id': ['bc4221f14b797bba1d0f8d51734e546f'],\n",
       " 'universe_training_year': ['2010_14'],\n",
       " 'universe_training_size': ['25k'],\n",
       " 'universe_scale': ['scale'],\n",
       " 'universe_model': ['rf'],\n",
       " 'universe_exclude_features': ['nationality'],\n",
       " 'universe_exclude_subgroups': ['keep-all'],\n",
       " 'q_hat': [0.6599999999999999],\n",
       " 'coverage': [0.9146360494928102],\n",
       " 'avg_size': [1.1494705161074574]}"
      ]
     },
     "execution_count": 48,
     "metadata": {},
     "output_type": "execute_result"
    }
   ],
   "source": [
    "cp_metrics_dict"
   ]
  },
  {
   "cell_type": "code",
   "execution_count": 49,
   "id": "33007efc-14e9-4ec6-97ac-56a455c82265",
   "metadata": {
    "execution": {
     "iopub.execute_input": "2025-08-05T15:07:19.996865Z",
     "iopub.status.busy": "2025-08-05T15:07:19.996487Z",
     "iopub.status.idle": "2025-08-05T15:07:20.001571Z",
     "shell.execute_reply": "2025-08-05T15:07:20.000630Z"
    },
    "papermill": {
     "duration": 0.020053,
     "end_time": "2025-08-05T15:07:20.003835",
     "exception": false,
     "start_time": "2025-08-05T15:07:19.983782",
     "status": "completed"
    },
    "tags": []
   },
   "outputs": [],
   "source": [
    "cp_metrics_df = pd.DataFrame(cp_metrics_dict)"
   ]
  },
  {
   "cell_type": "code",
   "execution_count": 50,
   "id": "db12611b-57b2-4910-b9d0-355adfd6e7bf",
   "metadata": {
    "execution": {
     "iopub.execute_input": "2025-08-05T15:07:20.058512Z",
     "iopub.status.busy": "2025-08-05T15:07:20.058122Z",
     "iopub.status.idle": "2025-08-05T15:07:20.076914Z",
     "shell.execute_reply": "2025-08-05T15:07:20.076020Z"
    },
    "papermill": {
     "duration": 0.044054,
     "end_time": "2025-08-05T15:07:20.079001",
     "exception": false,
     "start_time": "2025-08-05T15:07:20.034947",
     "status": "completed"
    },
    "tags": []
   },
   "outputs": [
    {
     "data": {
      "text/html": [
       "<div>\n",
       "<style scoped>\n",
       "    .dataframe tbody tr th:only-of-type {\n",
       "        vertical-align: middle;\n",
       "    }\n",
       "\n",
       "    .dataframe tbody tr th {\n",
       "        vertical-align: top;\n",
       "    }\n",
       "\n",
       "    .dataframe thead th {\n",
       "        text-align: right;\n",
       "    }\n",
       "</style>\n",
       "<table border=\"1\" class=\"dataframe\">\n",
       "  <thead>\n",
       "    <tr style=\"text-align: right;\">\n",
       "      <th></th>\n",
       "      <th>universe_id</th>\n",
       "      <th>universe_training_year</th>\n",
       "      <th>universe_training_size</th>\n",
       "      <th>universe_scale</th>\n",
       "      <th>universe_model</th>\n",
       "      <th>universe_exclude_features</th>\n",
       "      <th>universe_exclude_subgroups</th>\n",
       "      <th>q_hat</th>\n",
       "      <th>coverage</th>\n",
       "      <th>avg_size</th>\n",
       "    </tr>\n",
       "  </thead>\n",
       "  <tbody>\n",
       "    <tr>\n",
       "      <th>0</th>\n",
       "      <td>bc4221f14b797bba1d0f8d51734e546f</td>\n",
       "      <td>2010_14</td>\n",
       "      <td>25k</td>\n",
       "      <td>scale</td>\n",
       "      <td>rf</td>\n",
       "      <td>nationality</td>\n",
       "      <td>keep-all</td>\n",
       "      <td>0.66</td>\n",
       "      <td>0.914636</td>\n",
       "      <td>1.149471</td>\n",
       "    </tr>\n",
       "  </tbody>\n",
       "</table>\n",
       "</div>"
      ],
      "text/plain": [
       "                        universe_id universe_training_year  \\\n",
       "0  bc4221f14b797bba1d0f8d51734e546f                2010_14   \n",
       "\n",
       "  universe_training_size universe_scale universe_model  \\\n",
       "0                    25k          scale             rf   \n",
       "\n",
       "  universe_exclude_features universe_exclude_subgroups  q_hat  coverage  \\\n",
       "0               nationality                   keep-all   0.66  0.914636   \n",
       "\n",
       "   avg_size  \n",
       "0  1.149471  "
      ]
     },
     "execution_count": 50,
     "metadata": {},
     "output_type": "execute_result"
    }
   ],
   "source": [
    "cp_metrics_df"
   ]
  },
  {
   "cell_type": "code",
   "execution_count": 51,
   "id": "b7fbde55-a0a1-47e4-9af6-fe4a17fa8c61",
   "metadata": {
    "execution": {
     "iopub.execute_input": "2025-08-05T15:07:20.107916Z",
     "iopub.status.busy": "2025-08-05T15:07:20.107484Z",
     "iopub.status.idle": "2025-08-05T15:07:20.111722Z",
     "shell.execute_reply": "2025-08-05T15:07:20.111080Z"
    },
    "papermill": {
     "duration": 0.019656,
     "end_time": "2025-08-05T15:07:20.112955",
     "exception": false,
     "start_time": "2025-08-05T15:07:20.093299",
     "status": "completed"
    },
    "tags": []
   },
   "outputs": [],
   "source": [
    "# Conditional Coverage & looking at subgroups"
   ]
  },
  {
   "cell_type": "code",
   "execution_count": 52,
   "id": "027ae886-68dd-4141-96c7-805a5450e1ef",
   "metadata": {
    "execution": {
     "iopub.execute_input": "2025-08-05T15:07:20.138323Z",
     "iopub.status.busy": "2025-08-05T15:07:20.137967Z",
     "iopub.status.idle": "2025-08-05T15:07:20.457199Z",
     "shell.execute_reply": "2025-08-05T15:07:20.456478Z"
    },
    "papermill": {
     "duration": 0.334605,
     "end_time": "2025-08-05T15:07:20.458635",
     "exception": false,
     "start_time": "2025-08-05T15:07:20.124030",
     "status": "completed"
    },
    "tags": []
   },
   "outputs": [],
   "source": [
    "from fairness_multiverse.conformal import build_cp_groups\n",
    "\n",
    "cp_groups_df = build_cp_groups(pred_sets, y_true, X_test.index, org_test)\n",
    "#needs universe_id and setting"
   ]
  },
  {
   "cell_type": "code",
   "execution_count": 53,
   "id": "6cbdab96-b2b2-45af-ad54-d0516db2e28d",
   "metadata": {
    "execution": {
     "iopub.execute_input": "2025-08-05T15:07:20.484470Z",
     "iopub.status.busy": "2025-08-05T15:07:20.484074Z",
     "iopub.status.idle": "2025-08-05T15:07:22.024434Z",
     "shell.execute_reply": "2025-08-05T15:07:22.023512Z"
    },
    "papermill": {
     "duration": 1.555209,
     "end_time": "2025-08-05T15:07:22.026335",
     "exception": false,
     "start_time": "2025-08-05T15:07:20.471126",
     "status": "completed"
    },
    "tags": []
   },
   "outputs": [],
   "source": [
    "# Define covered = 1 if true_label is in the predicted set\n",
    "cp_groups_df['covered'] = cp_groups_df.apply(\n",
    "    lambda r: int(r['true_label'] in r['pred_set']),\n",
    "    axis=1\n",
    ")"
   ]
  },
  {
   "cell_type": "code",
   "execution_count": 54,
   "id": "338ff529-1a6b-4b87-a931-8e4788d52aad",
   "metadata": {
    "execution": {
     "iopub.execute_input": "2025-08-05T15:07:22.071132Z",
     "iopub.status.busy": "2025-08-05T15:07:22.070146Z",
     "iopub.status.idle": "2025-08-05T15:07:22.075592Z",
     "shell.execute_reply": "2025-08-05T15:07:22.074601Z"
    },
    "papermill": {
     "duration": 0.030382,
     "end_time": "2025-08-05T15:07:22.077335",
     "exception": false,
     "start_time": "2025-08-05T15:07:22.046953",
     "status": "completed"
    },
    "tags": []
   },
   "outputs": [],
   "source": [
    "#cp_groups_df"
   ]
  },
  {
   "cell_type": "code",
   "execution_count": 55,
   "id": "90032e27-66df-4540-9169-4e89cfbaa758",
   "metadata": {
    "execution": {
     "iopub.execute_input": "2025-08-05T15:07:22.118695Z",
     "iopub.status.busy": "2025-08-05T15:07:22.118168Z",
     "iopub.status.idle": "2025-08-05T15:07:22.127527Z",
     "shell.execute_reply": "2025-08-05T15:07:22.126783Z"
    },
    "papermill": {
     "duration": 0.022926,
     "end_time": "2025-08-05T15:07:22.128867",
     "exception": false,
     "start_time": "2025-08-05T15:07:22.105941",
     "status": "completed"
    },
    "tags": []
   },
   "outputs": [],
   "source": [
    "subgroups = ['frau1','nongerman','nongerman_male','nongerman_female']\n",
    "\n",
    "# Conditional coverage for subgroup==1\n",
    "cond_coverage = {\n",
    "    g: cp_groups_df.loc[cp_groups_df[g]==1, 'covered'].mean()\n",
    "    for g in subgroups\n",
    "}"
   ]
  },
  {
   "cell_type": "code",
   "execution_count": 56,
   "id": "1e348fb1-b9c3-45bc-ba23-f016827a7e0d",
   "metadata": {
    "execution": {
     "iopub.execute_input": "2025-08-05T15:07:22.152879Z",
     "iopub.status.busy": "2025-08-05T15:07:22.152261Z",
     "iopub.status.idle": "2025-08-05T15:07:22.158180Z",
     "shell.execute_reply": "2025-08-05T15:07:22.157379Z"
    },
    "papermill": {
     "duration": 0.018836,
     "end_time": "2025-08-05T15:07:22.159594",
     "exception": false,
     "start_time": "2025-08-05T15:07:22.140758",
     "status": "completed"
    },
    "tags": []
   },
   "outputs": [
    {
     "data": {
      "text/plain": [
       "{'frau1': 0.9137619625286427,\n",
       " 'nongerman': 0.906753494638747,\n",
       " 'nongerman_male': 0.9196613527875349,\n",
       " 'nongerman_female': 0.8853949329359165}"
      ]
     },
     "execution_count": 56,
     "metadata": {},
     "output_type": "execute_result"
    }
   ],
   "source": [
    "cond_coverage"
   ]
  },
  {
   "cell_type": "code",
   "execution_count": 57,
   "id": "f5093324-c3dd-4d63-bc4c-8d945e5c8bbb",
   "metadata": {
    "execution": {
     "iopub.execute_input": "2025-08-05T15:07:22.183728Z",
     "iopub.status.busy": "2025-08-05T15:07:22.183106Z",
     "iopub.status.idle": "2025-08-05T15:07:22.189070Z",
     "shell.execute_reply": "2025-08-05T15:07:22.188325Z"
    },
    "papermill": {
     "duration": 0.019125,
     "end_time": "2025-08-05T15:07:22.190509",
     "exception": false,
     "start_time": "2025-08-05T15:07:22.171384",
     "status": "completed"
    },
    "tags": []
   },
   "outputs": [],
   "source": [
    "for subgroup, cov in cond_coverage.items():\n",
    "    cp_metrics_df[f\"cov_{subgroup}\"] = cov"
   ]
  },
  {
   "cell_type": "code",
   "execution_count": 58,
   "id": "6e872e10-dbe5-49e8-b554-5030c98ff75d",
   "metadata": {
    "execution": {
     "iopub.execute_input": "2025-08-05T15:07:22.215207Z",
     "iopub.status.busy": "2025-08-05T15:07:22.214691Z",
     "iopub.status.idle": "2025-08-05T15:07:22.228654Z",
     "shell.execute_reply": "2025-08-05T15:07:22.227766Z"
    },
    "papermill": {
     "duration": 0.028057,
     "end_time": "2025-08-05T15:07:22.230716",
     "exception": false,
     "start_time": "2025-08-05T15:07:22.202659",
     "status": "completed"
    },
    "tags": []
   },
   "outputs": [
    {
     "data": {
      "text/html": [
       "<div>\n",
       "<style scoped>\n",
       "    .dataframe tbody tr th:only-of-type {\n",
       "        vertical-align: middle;\n",
       "    }\n",
       "\n",
       "    .dataframe tbody tr th {\n",
       "        vertical-align: top;\n",
       "    }\n",
       "\n",
       "    .dataframe thead th {\n",
       "        text-align: right;\n",
       "    }\n",
       "</style>\n",
       "<table border=\"1\" class=\"dataframe\">\n",
       "  <thead>\n",
       "    <tr style=\"text-align: right;\">\n",
       "      <th></th>\n",
       "      <th>universe_id</th>\n",
       "      <th>universe_training_year</th>\n",
       "      <th>universe_training_size</th>\n",
       "      <th>universe_scale</th>\n",
       "      <th>universe_model</th>\n",
       "      <th>universe_exclude_features</th>\n",
       "      <th>universe_exclude_subgroups</th>\n",
       "      <th>q_hat</th>\n",
       "      <th>coverage</th>\n",
       "      <th>avg_size</th>\n",
       "      <th>cov_frau1</th>\n",
       "      <th>cov_nongerman</th>\n",
       "      <th>cov_nongerman_male</th>\n",
       "      <th>cov_nongerman_female</th>\n",
       "    </tr>\n",
       "  </thead>\n",
       "  <tbody>\n",
       "    <tr>\n",
       "      <th>0</th>\n",
       "      <td>bc4221f14b797bba1d0f8d51734e546f</td>\n",
       "      <td>2010_14</td>\n",
       "      <td>25k</td>\n",
       "      <td>scale</td>\n",
       "      <td>rf</td>\n",
       "      <td>nationality</td>\n",
       "      <td>keep-all</td>\n",
       "      <td>0.66</td>\n",
       "      <td>0.914636</td>\n",
       "      <td>1.149471</td>\n",
       "      <td>0.913762</td>\n",
       "      <td>0.906753</td>\n",
       "      <td>0.919661</td>\n",
       "      <td>0.885395</td>\n",
       "    </tr>\n",
       "  </tbody>\n",
       "</table>\n",
       "</div>"
      ],
      "text/plain": [
       "                        universe_id universe_training_year  \\\n",
       "0  bc4221f14b797bba1d0f8d51734e546f                2010_14   \n",
       "\n",
       "  universe_training_size universe_scale universe_model  \\\n",
       "0                    25k          scale             rf   \n",
       "\n",
       "  universe_exclude_features universe_exclude_subgroups  q_hat  coverage  \\\n",
       "0               nationality                   keep-all   0.66  0.914636   \n",
       "\n",
       "   avg_size  cov_frau1  cov_nongerman  cov_nongerman_male  \\\n",
       "0  1.149471   0.913762       0.906753            0.919661   \n",
       "\n",
       "   cov_nongerman_female  \n",
       "0              0.885395  "
      ]
     },
     "execution_count": 58,
     "metadata": {},
     "output_type": "execute_result"
    }
   ],
   "source": [
    "cp_metrics_df"
   ]
  },
  {
   "cell_type": "markdown",
   "id": "33774451",
   "metadata": {
    "papermill": {
     "duration": 0.011564,
     "end_time": "2025-08-05T15:07:22.259447",
     "exception": false,
     "start_time": "2025-08-05T15:07:22.247883",
     "status": "completed"
    },
    "tags": []
   },
   "source": [
    "# (Fairness) Metrics"
   ]
  },
  {
   "cell_type": "code",
   "execution_count": 59,
   "id": "debc5d62",
   "metadata": {
    "execution": {
     "iopub.execute_input": "2025-08-05T15:07:22.283642Z",
     "iopub.status.busy": "2025-08-05T15:07:22.283206Z",
     "iopub.status.idle": "2025-08-05T15:07:22.304455Z",
     "shell.execute_reply": "2025-08-05T15:07:22.303574Z"
    },
    "papermill": {
     "duration": 0.035256,
     "end_time": "2025-08-05T15:07:22.306345",
     "exception": false,
     "start_time": "2025-08-05T15:07:22.271089",
     "status": "completed"
    },
    "tags": []
   },
   "outputs": [],
   "source": [
    "# do I need to include maxdeutsch1.missing?\n",
    "\n",
    "import numpy as np\n",
    "\n",
    "colname_to_bin = \"maxdeutsch1\"\n",
    "majority_value = org_train[colname_to_bin].mode()[0]\n",
    "\n",
    "org_test[\"majmin\"] = np.where(org_test[colname_to_bin] == majority_value, \"majority\", \"minority\")"
   ]
  },
  {
   "cell_type": "code",
   "execution_count": 60,
   "id": "06a50de5",
   "metadata": {
    "execution": {
     "iopub.execute_input": "2025-08-05T15:07:22.344828Z",
     "iopub.status.busy": "2025-08-05T15:07:22.344233Z",
     "iopub.status.idle": "2025-08-05T15:07:24.559902Z",
     "shell.execute_reply": "2025-08-05T15:07:24.558929Z"
    },
    "papermill": {
     "duration": 2.239931,
     "end_time": "2025-08-05T15:07:24.562023",
     "exception": false,
     "start_time": "2025-08-05T15:07:22.322092",
     "status": "completed"
    },
    "tags": []
   },
   "outputs": [],
   "source": [
    "example_universe = universe.copy()\n",
    "example_universe[\"cutoff\"] = example_universe[\"cutoff\"][0]\n",
    "example_universe[\"eval_fairness_grouping\"] = example_universe[\"eval_fairness_grouping\"][0]\n",
    "fairness_dict, metric_frame = universe_analysis.compute_metrics(\n",
    "    example_universe,\n",
    "    y_pred_prob=probs_test,\n",
    "    y_test=y_true,\n",
    "    org_test=org_test,\n",
    ")"
   ]
  },
  {
   "cell_type": "markdown",
   "id": "f95d4e02",
   "metadata": {
    "papermill": {
     "duration": 0.025299,
     "end_time": "2025-08-05T15:07:24.615757",
     "exception": false,
     "start_time": "2025-08-05T15:07:24.590458",
     "status": "completed"
    },
    "tags": []
   },
   "source": [
    "# Overall"
   ]
  },
  {
   "cell_type": "markdown",
   "id": "bdee4871",
   "metadata": {
    "papermill": {
     "duration": 0.01986,
     "end_time": "2025-08-05T15:07:24.656501",
     "exception": false,
     "start_time": "2025-08-05T15:07:24.636641",
     "status": "completed"
    },
    "tags": []
   },
   "source": [
    "Fairness\n",
    "Main fairness target: Equalized Odds. Seems to be a better fit than equal opportunity, since we're not only interested in Y = 1. Seems to be a better fit than demographic parity, since we also care about accuracy, not just equal distribution of preds.\n",
    "\n",
    "Pick column for computation of fairness metrics\n",
    "\n",
    "Performance\n",
    "Overall performance measures, most interesting in relation to the measures split by group below"
   ]
  },
  {
   "cell_type": "code",
   "execution_count": 61,
   "id": "c4e067c6",
   "metadata": {
    "execution": {
     "iopub.execute_input": "2025-08-05T15:07:24.693863Z",
     "iopub.status.busy": "2025-08-05T15:07:24.693440Z",
     "iopub.status.idle": "2025-08-05T15:07:24.700413Z",
     "shell.execute_reply": "2025-08-05T15:07:24.699503Z"
    },
    "papermill": {
     "duration": 0.025412,
     "end_time": "2025-08-05T15:07:24.702017",
     "exception": false,
     "start_time": "2025-08-05T15:07:24.676605",
     "status": "completed"
    },
    "tags": []
   },
   "outputs": [
    {
     "data": {
      "text/plain": [
       "accuracy                   0.222015\n",
       "balanced accuracy          0.543649\n",
       "f1                         0.243543\n",
       "precision                  0.139125\n",
       "false positive rate        0.888980\n",
       "false negative rate        0.023723\n",
       "selection rate             0.900178\n",
       "count                  89710.000000\n",
       "dtype: float64"
      ]
     },
     "execution_count": 61,
     "metadata": {},
     "output_type": "execute_result"
    }
   ],
   "source": [
    "metric_frame.overall"
   ]
  },
  {
   "cell_type": "markdown",
   "id": "e968fe9d",
   "metadata": {
    "papermill": {
     "duration": 0.011937,
     "end_time": "2025-08-05T15:07:24.726341",
     "exception": false,
     "start_time": "2025-08-05T15:07:24.714404",
     "status": "completed"
    },
    "tags": []
   },
   "source": [
    "By Group"
   ]
  },
  {
   "cell_type": "code",
   "execution_count": 62,
   "id": "ec325bce",
   "metadata": {
    "execution": {
     "iopub.execute_input": "2025-08-05T15:07:24.750571Z",
     "iopub.status.busy": "2025-08-05T15:07:24.749913Z",
     "iopub.status.idle": "2025-08-05T15:07:24.762094Z",
     "shell.execute_reply": "2025-08-05T15:07:24.761274Z"
    },
    "papermill": {
     "duration": 0.026059,
     "end_time": "2025-08-05T15:07:24.763546",
     "exception": false,
     "start_time": "2025-08-05T15:07:24.737487",
     "status": "completed"
    },
    "tags": []
   },
   "outputs": [
    {
     "data": {
      "text/html": [
       "<div>\n",
       "<style scoped>\n",
       "    .dataframe tbody tr th:only-of-type {\n",
       "        vertical-align: middle;\n",
       "    }\n",
       "\n",
       "    .dataframe tbody tr th {\n",
       "        vertical-align: top;\n",
       "    }\n",
       "\n",
       "    .dataframe thead th {\n",
       "        text-align: right;\n",
       "    }\n",
       "</style>\n",
       "<table border=\"1\" class=\"dataframe\">\n",
       "  <thead>\n",
       "    <tr style=\"text-align: right;\">\n",
       "      <th></th>\n",
       "      <th>accuracy</th>\n",
       "      <th>balanced accuracy</th>\n",
       "      <th>f1</th>\n",
       "      <th>precision</th>\n",
       "      <th>false positive rate</th>\n",
       "      <th>false negative rate</th>\n",
       "      <th>selection rate</th>\n",
       "      <th>count</th>\n",
       "    </tr>\n",
       "    <tr>\n",
       "      <th>majmin</th>\n",
       "      <th></th>\n",
       "      <th></th>\n",
       "      <th></th>\n",
       "      <th></th>\n",
       "      <th></th>\n",
       "      <th></th>\n",
       "      <th></th>\n",
       "      <th></th>\n",
       "    </tr>\n",
       "  </thead>\n",
       "  <tbody>\n",
       "    <tr>\n",
       "      <th>majority</th>\n",
       "      <td>0.216987</td>\n",
       "      <td>0.543133</td>\n",
       "      <td>0.249775</td>\n",
       "      <td>0.142991</td>\n",
       "      <td>0.900167</td>\n",
       "      <td>0.013567</td>\n",
       "      <td>0.911566</td>\n",
       "      <td>69170.0</td>\n",
       "    </tr>\n",
       "    <tr>\n",
       "      <th>minority</th>\n",
       "      <td>0.238948</td>\n",
       "      <td>0.542526</td>\n",
       "      <td>0.221126</td>\n",
       "      <td>0.125353</td>\n",
       "      <td>0.852025</td>\n",
       "      <td>0.062922</td>\n",
       "      <td>0.861831</td>\n",
       "      <td>20540.0</td>\n",
       "    </tr>\n",
       "  </tbody>\n",
       "</table>\n",
       "</div>"
      ],
      "text/plain": [
       "          accuracy  balanced accuracy        f1  precision  \\\n",
       "majmin                                                       \n",
       "majority  0.216987           0.543133  0.249775   0.142991   \n",
       "minority  0.238948           0.542526  0.221126   0.125353   \n",
       "\n",
       "          false positive rate  false negative rate  selection rate    count  \n",
       "majmin                                                                       \n",
       "majority             0.900167             0.013567        0.911566  69170.0  \n",
       "minority             0.852025             0.062922        0.861831  20540.0  "
      ]
     },
     "execution_count": 62,
     "metadata": {},
     "output_type": "execute_result"
    }
   ],
   "source": [
    "metric_frame.by_group"
   ]
  },
  {
   "cell_type": "code",
   "execution_count": 63,
   "id": "a9ddbe63",
   "metadata": {
    "execution": {
     "iopub.execute_input": "2025-08-05T15:07:24.790719Z",
     "iopub.status.busy": "2025-08-05T15:07:24.790127Z",
     "iopub.status.idle": "2025-08-05T15:07:26.328486Z",
     "shell.execute_reply": "2025-08-05T15:07:26.327776Z"
    },
    "papermill": {
     "duration": 1.553672,
     "end_time": "2025-08-05T15:07:26.329749",
     "exception": false,
     "start_time": "2025-08-05T15:07:24.776077",
     "status": "completed"
    },
    "tags": []
   },
   "outputs": [
    {
     "data": {
      "text/plain": [
       "array([[<Axes: title={'center': 'accuracy'}, xlabel='majmin'>,\n",
       "        <Axes: title={'center': 'balanced accuracy'}, xlabel='majmin'>,\n",
       "        <Axes: title={'center': 'f1'}, xlabel='majmin'>],\n",
       "       [<Axes: title={'center': 'precision'}, xlabel='majmin'>,\n",
       "        <Axes: title={'center': 'false positive rate'}, xlabel='majmin'>,\n",
       "        <Axes: title={'center': 'false negative rate'}, xlabel='majmin'>],\n",
       "       [<Axes: title={'center': 'selection rate'}, xlabel='majmin'>,\n",
       "        <Axes: title={'center': 'count'}, xlabel='majmin'>,\n",
       "        <Axes: xlabel='majmin'>]], dtype=object)"
      ]
     },
     "execution_count": 63,
     "metadata": {},
     "output_type": "execute_result"
    },
    {
     "data": {
      "image/png": "[encoded data removed]",
      "text/plain": [
       "<Figure size 1200x800 with 9 Axes>"
      ]
     },
     "metadata": {},
     "output_type": "display_data"
    }
   ],
   "source": [
    "# In a graphic\n",
    "metric_frame.by_group.plot.bar(\n",
    "    subplots=True,\n",
    "    layout=[3, 3],\n",
    "    legend=False,\n",
    "    figsize=[12, 8],\n",
    "    title=\"Show all metrics\",\n",
    ")"
   ]
  },
  {
   "cell_type": "markdown",
   "id": "f57a0bac",
   "metadata": {
    "papermill": {
     "duration": 0.012406,
     "end_time": "2025-08-05T15:07:26.355360",
     "exception": false,
     "start_time": "2025-08-05T15:07:26.342954",
     "status": "completed"
    },
    "tags": []
   },
   "source": [
    "# Final Output"
   ]
  },
  {
   "cell_type": "code",
   "execution_count": 64,
   "id": "96d280a3",
   "metadata": {
    "execution": {
     "iopub.execute_input": "2025-08-05T15:07:26.382205Z",
     "iopub.status.busy": "2025-08-05T15:07:26.381344Z",
     "iopub.status.idle": "2025-08-05T15:07:26.388406Z",
     "shell.execute_reply": "2025-08-05T15:07:26.387661Z"
    },
    "papermill": {
     "duration": 0.02219,
     "end_time": "2025-08-05T15:07:26.389957",
     "exception": false,
     "start_time": "2025-08-05T15:07:26.367767",
     "status": "completed"
    },
    "tags": []
   },
   "outputs": [
    {
     "data": {
      "text/plain": [
       "4"
      ]
     },
     "execution_count": 64,
     "metadata": {},
     "output_type": "execute_result"
    }
   ],
   "source": [
    "sub_universes = universe_analysis.generate_sub_universes()\n",
    "len(sub_universes)"
   ]
  },
  {
   "cell_type": "code",
   "execution_count": 65,
   "id": "92adf7ba",
   "metadata": {
    "execution": {
     "iopub.execute_input": "2025-08-05T15:07:26.417057Z",
     "iopub.status.busy": "2025-08-05T15:07:26.416565Z",
     "iopub.status.idle": "2025-08-05T15:07:26.421569Z",
     "shell.execute_reply": "2025-08-05T15:07:26.420767Z"
    },
    "papermill": {
     "duration": 0.019568,
     "end_time": "2025-08-05T15:07:26.422935",
     "exception": false,
     "start_time": "2025-08-05T15:07:26.403367",
     "status": "completed"
    },
    "tags": []
   },
   "outputs": [],
   "source": [
    "def filter_sub_universe_data(sub_universe, org_test):\n",
    "    # Keep all rows — no filtering\n",
    "    keep_rows_mask = np.ones(org_test.shape[0], dtype=bool)\n",
    "\n",
    "    print(f\"[INFO] Keeping all rows: {keep_rows_mask.sum()} rows retained.\")\n",
    "    return keep_rows_mask"
   ]
  },
  {
   "cell_type": "code",
   "execution_count": 66,
   "id": "4a759155",
   "metadata": {
    "execution": {
     "iopub.execute_input": "2025-08-05T15:07:26.451644Z",
     "iopub.status.busy": "2025-08-05T15:07:26.451193Z",
     "iopub.status.idle": "2025-08-05T15:07:34.185324Z",
     "shell.execute_reply": "2025-08-05T15:07:34.184333Z"
    },
    "papermill": {
     "duration": 7.749373,
     "end_time": "2025-08-05T15:07:34.187019",
     "exception": false,
     "start_time": "2025-08-05T15:07:26.437646",
     "status": "completed"
    },
    "tags": []
   },
   "outputs": [
    {
     "name": "stdout",
     "output_type": "stream",
     "text": [
      "Stopping execution_time clock.\n",
      "[INFO] Keeping all rows: 89710 rows retained.\n"
     ]
    },
    {
     "name": "stdout",
     "output_type": "stream",
     "text": [
      "[INFO] Keeping all rows: 89710 rows retained.\n"
     ]
    },
    {
     "name": "stdout",
     "output_type": "stream",
     "text": [
      "[INFO] Keeping all rows: 89710 rows retained.\n"
     ]
    },
    {
     "name": "stdout",
     "output_type": "stream",
     "text": [
      "[INFO] Keeping all rows: 89710 rows retained.\n"
     ]
    },
    {
     "data": {
      "text/html": [
       "<div>\n",
       "<style scoped>\n",
       "    .dataframe tbody tr th:only-of-type {\n",
       "        vertical-align: middle;\n",
       "    }\n",
       "\n",
       "    .dataframe tbody tr th {\n",
       "        vertical-align: top;\n",
       "    }\n",
       "\n",
       "    .dataframe thead th {\n",
       "        text-align: right;\n",
       "    }\n",
       "</style>\n",
       "<table border=\"1\" class=\"dataframe\">\n",
       "  <thead>\n",
       "    <tr style=\"text-align: right;\">\n",
       "      <th></th>\n",
       "      <th>run_no</th>\n",
       "      <th>universe_id</th>\n",
       "      <th>universe_settings</th>\n",
       "      <th>execution_time</th>\n",
       "      <th>test_size_n</th>\n",
       "      <th>test_size_frac</th>\n",
       "      <th>fair_main_equalized_odds_difference</th>\n",
       "      <th>fair_main_equalized_odds_ratio</th>\n",
       "      <th>fair_main_demographic_parity_difference</th>\n",
       "      <th>fair_main_demographic_parity_ratio</th>\n",
       "      <th>...</th>\n",
       "      <th>perf_grp_precision_0</th>\n",
       "      <th>perf_grp_precision_1</th>\n",
       "      <th>perf_grp_false positive rate_0</th>\n",
       "      <th>perf_grp_false positive rate_1</th>\n",
       "      <th>perf_grp_false negative rate_0</th>\n",
       "      <th>perf_grp_false negative rate_1</th>\n",
       "      <th>perf_grp_selection rate_0</th>\n",
       "      <th>perf_grp_selection rate_1</th>\n",
       "      <th>perf_grp_count_0</th>\n",
       "      <th>perf_grp_count_1</th>\n",
       "    </tr>\n",
       "  </thead>\n",
       "  <tbody>\n",
       "    <tr>\n",
       "      <th>0</th>\n",
       "      <td>15</td>\n",
       "      <td>bc4221f14b797bba1d0f8d51734e546f</td>\n",
       "      <td>{\"cutoff\": \"quantile_0.1\", \"eval_fairness_grou...</td>\n",
       "      <td>46.373358</td>\n",
       "      <td>89710</td>\n",
       "      <td>1.0</td>\n",
       "      <td>0.049356</td>\n",
       "      <td>0.946519</td>\n",
       "      <td>0.049735</td>\n",
       "      <td>0.945440</td>\n",
       "      <td>...</td>\n",
       "      <td>NaN</td>\n",
       "      <td>NaN</td>\n",
       "      <td>NaN</td>\n",
       "      <td>NaN</td>\n",
       "      <td>NaN</td>\n",
       "      <td>NaN</td>\n",
       "      <td>NaN</td>\n",
       "      <td>NaN</td>\n",
       "      <td>NaN</td>\n",
       "      <td>NaN</td>\n",
       "    </tr>\n",
       "    <tr>\n",
       "      <th>0</th>\n",
       "      <td>15</td>\n",
       "      <td>bc4221f14b797bba1d0f8d51734e546f</td>\n",
       "      <td>{\"cutoff\": \"quantile_0.1\", \"eval_fairness_grou...</td>\n",
       "      <td>46.373358</td>\n",
       "      <td>89710</td>\n",
       "      <td>1.0</td>\n",
       "      <td>0.049356</td>\n",
       "      <td>0.946519</td>\n",
       "      <td>0.049735</td>\n",
       "      <td>0.945440</td>\n",
       "      <td>...</td>\n",
       "      <td>0.125353</td>\n",
       "      <td>0.142991</td>\n",
       "      <td>0.852025</td>\n",
       "      <td>0.900167</td>\n",
       "      <td>0.062922</td>\n",
       "      <td>0.013567</td>\n",
       "      <td>0.861831</td>\n",
       "      <td>0.911566</td>\n",
       "      <td>20540.0</td>\n",
       "      <td>69170.0</td>\n",
       "    </tr>\n",
       "    <tr>\n",
       "      <th>0</th>\n",
       "      <td>15</td>\n",
       "      <td>bc4221f14b797bba1d0f8d51734e546f</td>\n",
       "      <td>{\"cutoff\": \"quantile_0.25\", \"eval_fairness_gro...</td>\n",
       "      <td>46.373358</td>\n",
       "      <td>89710</td>\n",
       "      <td>1.0</td>\n",
       "      <td>0.093923</td>\n",
       "      <td>0.901520</td>\n",
       "      <td>0.064018</td>\n",
       "      <td>0.916855</td>\n",
       "      <td>...</td>\n",
       "      <td>NaN</td>\n",
       "      <td>NaN</td>\n",
       "      <td>NaN</td>\n",
       "      <td>NaN</td>\n",
       "      <td>NaN</td>\n",
       "      <td>NaN</td>\n",
       "      <td>NaN</td>\n",
       "      <td>NaN</td>\n",
       "      <td>NaN</td>\n",
       "      <td>NaN</td>\n",
       "    </tr>\n",
       "    <tr>\n",
       "      <th>0</th>\n",
       "      <td>15</td>\n",
       "      <td>bc4221f14b797bba1d0f8d51734e546f</td>\n",
       "      <td>{\"cutoff\": \"quantile_0.25\", \"eval_fairness_gro...</td>\n",
       "      <td>46.373358</td>\n",
       "      <td>89710</td>\n",
       "      <td>1.0</td>\n",
       "      <td>0.093923</td>\n",
       "      <td>0.901520</td>\n",
       "      <td>0.064018</td>\n",
       "      <td>0.916855</td>\n",
       "      <td>...</td>\n",
       "      <td>0.140414</td>\n",
       "      <td>0.163675</td>\n",
       "      <td>0.685890</td>\n",
       "      <td>0.741979</td>\n",
       "      <td>0.140203</td>\n",
       "      <td>0.046280</td>\n",
       "      <td>0.705940</td>\n",
       "      <td>0.769958</td>\n",
       "      <td>20540.0</td>\n",
       "      <td>69170.0</td>\n",
       "    </tr>\n",
       "  </tbody>\n",
       "</table>\n",
       "<p>4 rows × 50 columns</p>\n",
       "</div>"
      ],
      "text/plain": [
       "  run_no                       universe_id  \\\n",
       "0     15  bc4221f14b797bba1d0f8d51734e546f   \n",
       "0     15  bc4221f14b797bba1d0f8d51734e546f   \n",
       "0     15  bc4221f14b797bba1d0f8d51734e546f   \n",
       "0     15  bc4221f14b797bba1d0f8d51734e546f   \n",
       "\n",
       "                                   universe_settings  execution_time  \\\n",
       "0  {\"cutoff\": \"quantile_0.1\", \"eval_fairness_grou...       46.373358   \n",
       "0  {\"cutoff\": \"quantile_0.1\", \"eval_fairness_grou...       46.373358   \n",
       "0  {\"cutoff\": \"quantile_0.25\", \"eval_fairness_gro...       46.373358   \n",
       "0  {\"cutoff\": \"quantile_0.25\", \"eval_fairness_gro...       46.373358   \n",
       "\n",
       "   test_size_n  test_size_frac  fair_main_equalized_odds_difference  \\\n",
       "0        89710             1.0                             0.049356   \n",
       "0        89710             1.0                             0.049356   \n",
       "0        89710             1.0                             0.093923   \n",
       "0        89710             1.0                             0.093923   \n",
       "\n",
       "   fair_main_equalized_odds_ratio  fair_main_demographic_parity_difference  \\\n",
       "0                        0.946519                                 0.049735   \n",
       "0                        0.946519                                 0.049735   \n",
       "0                        0.901520                                 0.064018   \n",
       "0                        0.901520                                 0.064018   \n",
       "\n",
       "   fair_main_demographic_parity_ratio  ...  perf_grp_precision_0  \\\n",
       "0                            0.945440  ...                   NaN   \n",
       "0                            0.945440  ...              0.125353   \n",
       "0                            0.916855  ...                   NaN   \n",
       "0                            0.916855  ...              0.140414   \n",
       "\n",
       "   perf_grp_precision_1  perf_grp_false positive rate_0  \\\n",
       "0                   NaN                             NaN   \n",
       "0              0.142991                        0.852025   \n",
       "0                   NaN                             NaN   \n",
       "0              0.163675                        0.685890   \n",
       "\n",
       "   perf_grp_false positive rate_1  perf_grp_false negative rate_0  \\\n",
       "0                             NaN                             NaN   \n",
       "0                        0.900167                        0.062922   \n",
       "0                             NaN                             NaN   \n",
       "0                        0.741979                        0.140203   \n",
       "\n",
       "   perf_grp_false negative rate_1  perf_grp_selection rate_0  \\\n",
       "0                             NaN                        NaN   \n",
       "0                        0.013567                   0.861831   \n",
       "0                             NaN                        NaN   \n",
       "0                        0.046280                   0.705940   \n",
       "\n",
       "   perf_grp_selection rate_1  perf_grp_count_0  perf_grp_count_1  \n",
       "0                        NaN               NaN               NaN  \n",
       "0                   0.911566           20540.0           69170.0  \n",
       "0                        NaN               NaN               NaN  \n",
       "0                   0.769958           20540.0           69170.0  \n",
       "\n",
       "[4 rows x 50 columns]"
      ]
     },
     "execution_count": 66,
     "metadata": {},
     "output_type": "execute_result"
    }
   ],
   "source": [
    "final_output = universe_analysis.generate_final_output(\n",
    "    y_pred_prob=probs_test,\n",
    "    y_test=y_true,\n",
    "    org_test=org_test,\n",
    "    filter_data=filter_sub_universe_data,\n",
    "    cp_metrics_df=cp_metrics_df,\n",
    "    save=True,\n",
    ")\n",
    "final_output"
   ]
  }
 ],
 "metadata": {
  "celltoolbar": "Tags",
  "kernelspec": {
   "display_name": "Python (CMA Fairness)",
   "language": "python",
   "name": "cma_fair_env"
  },
  "language_info": {
   "codemirror_mode": {
    "name": "ipython",
    "version": 3
   },
   "file_extension": ".py",
   "mimetype": "text/x-python",
   "name": "python",
   "nbconvert_exporter": "python",
   "pygments_lexer": "ipython3",
   "version": "3.10.12"
  },
  "papermill": {
   "default_parameters": {},
   "duration": 57.949343,
   "end_time": "2025-08-05T15:07:34.936929",
   "environment_variables": {},
   "exception": null,
   "input_path": "universe_analysis.ipynb",
   "output_path": "output/runs/15/notebooks/m_15-bc4221f14b797bba1d0f8d51734e546f.ipynb",
   "parameters": {
    "output_dir": "output",
    "run_no": "15",
    "seed": "2023",
    "universe": "{\"cutoff\": [\"quantile_0.1\", \"quantile_0.25\"], \"eval_fairness_grouping\": [\"majority-minority\", \"nationality-all\"], \"exclude_features\": \"nationality\", \"exclude_subgroups\": \"keep-all\", \"model\": \"rf\", \"scale\": \"scale\", \"training_size\": \"25k\", \"training_year\": \"2010_14\"}",
    "universe_id": "bc4221f14b797bba1d0f8d51734e546f"
   },
   "start_time": "2025-08-05T15:06:36.987586",
   "version": "2.6.0"
  }
 },
 "nbformat": 4,
 "nbformat_minor": 5
}