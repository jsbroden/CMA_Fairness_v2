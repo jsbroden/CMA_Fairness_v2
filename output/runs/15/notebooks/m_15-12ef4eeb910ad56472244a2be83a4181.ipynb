{
 "cells": [
  {
   "cell_type": "code",
   "execution_count": 1,
   "id": "f159f837-637b-42ba-96b5-ec9a68c44524",
   "metadata": {
    "execution": {
     "iopub.execute_input": "2025-08-05T16:15:11.929074Z",
     "iopub.status.busy": "2025-08-05T16:15:11.928526Z",
     "iopub.status.idle": "2025-08-05T16:15:11.947622Z",
     "shell.execute_reply": "2025-08-05T16:15:11.945627Z"
    },
    "papermill": {
     "duration": 0.051598,
     "end_time": "2025-08-05T16:15:11.951080",
     "exception": false,
     "start_time": "2025-08-05T16:15:11.899482",
     "status": "completed"
    },
    "tags": []
   },
   "outputs": [
    {
     "name": "stdout",
     "output_type": "stream",
     "text": [
      "/dss/dsshome1/0C/ra93lal2/cma/CMA_Fairness_v2\n"
     ]
    },
    {
     "name": "stderr",
     "output_type": "stream",
     "text": [
      "/dss/dsshome1/0C/ra93lal2/.local/share/virtualenvs/CMA_Fairness_v2-3j10GkSs/lib/python3.10/site-packages/IPython/core/magics/osm.py:393: UserWarning: This is now an optional IPython functionality, using bookmarks requires you to install the `pickleshare` library.\n",
      "  bkms = self.shell.db.get('bookmarks', {})\n",
      "/dss/dsshome1/0C/ra93lal2/.local/share/virtualenvs/CMA_Fairness_v2-3j10GkSs/lib/python3.10/site-packages/IPython/core/magics/osm.py:417: UserWarning: This is now an optional IPython functionality, setting dhist requires you to install the `pickleshare` library.\n",
      "  self.shell.db['dhist'] = compress_dhist(dhist)[-100:]\n"
     ]
    }
   ],
   "source": [
    "%cd ~/cma/CMA_Fairness_v2"
   ]
  },
  {
   "cell_type": "markdown",
   "id": "de2603b9",
   "metadata": {
    "papermill": {
     "duration": 0.020744,
     "end_time": "2025-08-05T16:15:11.993868",
     "exception": false,
     "start_time": "2025-08-05T16:15:11.973124",
     "status": "completed"
    },
    "tags": []
   },
   "source": [
    "The following cell holds the definition of our parameters, these values can be overriden by rendering the with e.g. the following command:\n",
    "\n",
    "papermill -p alpha 0.2 -p ratio 0.3 universe_analysis.ipynb output/test_run.ipynb"
   ]
  },
  {
   "cell_type": "code",
   "execution_count": 2,
   "id": "a80968a0-40bb-4fa9-85ef-2d5eefb01975",
   "metadata": {
    "execution": {
     "iopub.execute_input": "2025-08-05T16:15:12.036275Z",
     "iopub.status.busy": "2025-08-05T16:15:12.035721Z",
     "iopub.status.idle": "2025-08-05T16:15:12.042406Z",
     "shell.execute_reply": "2025-08-05T16:15:12.041267Z"
    },
    "papermill": {
     "duration": 0.030268,
     "end_time": "2025-08-05T16:15:12.044359",
     "exception": false,
     "start_time": "2025-08-05T16:15:12.014091",
     "status": "completed"
    },
    "tags": []
   },
   "outputs": [
    {
     "name": "stdout",
     "output_type": "stream",
     "text": [
      "Current working directory: /dss/dsshome1/0C/ra93lal2/cma/CMA_Fairness_v2\n"
     ]
    }
   ],
   "source": [
    "import os\n",
    "print(\"Current working directory:\", os.getcwd())"
   ]
  },
  {
   "cell_type": "code",
   "execution_count": 3,
   "id": "2dce4c03",
   "metadata": {
    "execution": {
     "iopub.execute_input": "2025-08-05T16:15:12.081596Z",
     "iopub.status.busy": "2025-08-05T16:15:12.081041Z",
     "iopub.status.idle": "2025-08-05T16:15:12.087940Z",
     "shell.execute_reply": "2025-08-05T16:15:12.086841Z"
    },
    "papermill": {
     "duration": 0.028112,
     "end_time": "2025-08-05T16:15:12.090015",
     "exception": false,
     "start_time": "2025-08-05T16:15:12.061903",
     "status": "completed"
    },
    "tags": [
     "parameters"
    ]
   },
   "outputs": [],
   "source": [
    "run_no = 0\n",
    "universe_id = \"test\"\n",
    "universe = {\n",
    "    \"training_size\": \"25k\", # \"25k\", \"5k\", \"1k\"\n",
    "    \"training_year\": \"2014\", # \"2014\", \"2012_14\", \"2010_14\"\n",
    "    \"scale\": \"scale\", # \"scale\", \"do-not-scale\",\n",
    "    \"model\": \"elasticnet\", # \"logreg\", \"penalized_logreg\", \"rf\", \"gbm\", \"elasticnet\"\n",
    "    \"cutoff\": [\"quantile_0.15\", \"quantile_0.30\"],\n",
    "    \"exclude_features\": \"age\", # \"none\", \"nationality\", \"sex\", \"nationality-sex\", \"age\"\n",
    "    \"exclude_subgroups\": \"keep-all\", # \"keep-all\", \"drop-non-german\"\n",
    "    \"eval_fairness_grouping\": [\"majority-minority\", \"nationality-all\"]\n",
    "}\n",
    "\n",
    "output_dir=\"./output\"\n",
    "seed=0"
   ]
  },
  {
   "cell_type": "code",
   "execution_count": 4,
   "id": "8442d9a8",
   "metadata": {
    "execution": {
     "iopub.execute_input": "2025-08-05T16:15:12.214269Z",
     "iopub.status.busy": "2025-08-05T16:15:12.213477Z",
     "iopub.status.idle": "2025-08-05T16:15:12.220022Z",
     "shell.execute_reply": "2025-08-05T16:15:12.218903Z"
    },
    "papermill": {
     "duration": 0.110721,
     "end_time": "2025-08-05T16:15:12.222026",
     "exception": false,
     "start_time": "2025-08-05T16:15:12.111305",
     "status": "completed"
    },
    "tags": [
     "injected-parameters"
    ]
   },
   "outputs": [],
   "source": [
    "# Parameters\n",
    "universe_id = \"12ef4eeb910ad56472244a2be83a4181\"\n",
    "run_no = \"15\"\n",
    "universe = \"{\\\"cutoff\\\": [\\\"quantile_0.1\\\", \\\"quantile_0.25\\\"], \\\"eval_fairness_grouping\\\": [\\\"majority-minority\\\", \\\"nationality-all\\\"], \\\"exclude_features\\\": \\\"age\\\", \\\"exclude_subgroups\\\": \\\"drop-non-german\\\", \\\"model\\\": \\\"elasticnet\\\", \\\"scale\\\": \\\"do-not-scale\\\", \\\"training_size\\\": \\\"1k\\\", \\\"training_year\\\": \\\"2014\\\"}\"\n",
    "output_dir = \"output\"\n",
    "seed = \"2023\"\n"
   ]
  },
  {
   "cell_type": "code",
   "execution_count": 5,
   "id": "1650acaf",
   "metadata": {
    "execution": {
     "iopub.execute_input": "2025-08-05T16:15:12.268340Z",
     "iopub.status.busy": "2025-08-05T16:15:12.266401Z",
     "iopub.status.idle": "2025-08-05T16:15:12.273832Z",
     "shell.execute_reply": "2025-08-05T16:15:12.272419Z"
    },
    "papermill": {
     "duration": 0.035355,
     "end_time": "2025-08-05T16:15:12.278913",
     "exception": false,
     "start_time": "2025-08-05T16:15:12.243558",
     "status": "completed"
    },
    "tags": []
   },
   "outputs": [],
   "source": [
    "import json\n",
    "if isinstance(universe, str):\n",
    "    universe = json.loads(universe)"
   ]
  },
  {
   "cell_type": "code",
   "execution_count": 6,
   "id": "16620c48",
   "metadata": {
    "execution": {
     "iopub.execute_input": "2025-08-05T16:15:12.324844Z",
     "iopub.status.busy": "2025-08-05T16:15:12.323651Z",
     "iopub.status.idle": "2025-08-05T16:15:12.378068Z",
     "shell.execute_reply": "2025-08-05T16:15:12.376869Z"
    },
    "papermill": {
     "duration": 0.080093,
     "end_time": "2025-08-05T16:15:12.380677",
     "exception": false,
     "start_time": "2025-08-05T16:15:12.300584",
     "status": "completed"
    },
    "tags": []
   },
   "outputs": [],
   "source": [
    "# Auto-reload the custom package\n",
    "%load_ext autoreload\n",
    "%autoreload 1\n",
    "%aimport fairness_multiverse"
   ]
  },
  {
   "cell_type": "code",
   "execution_count": 7,
   "id": "01c5c9f3",
   "metadata": {
    "execution": {
     "iopub.execute_input": "2025-08-05T16:15:12.429030Z",
     "iopub.status.busy": "2025-08-05T16:15:12.425082Z",
     "iopub.status.idle": "2025-08-05T16:15:14.808510Z",
     "shell.execute_reply": "2025-08-05T16:15:14.807255Z"
    },
    "papermill": {
     "duration": 2.408178,
     "end_time": "2025-08-05T16:15:14.810881",
     "exception": false,
     "start_time": "2025-08-05T16:15:12.402703",
     "status": "completed"
    },
    "tags": []
   },
   "outputs": [],
   "source": [
    "from fairness_multiverse.universe import UniverseAnalysis\n",
    "\n",
    "universe_analysis = UniverseAnalysis(\n",
    "    run_no = run_no,\n",
    "    universe_id = universe_id,\n",
    "    universe = universe,\n",
    "    output_dir=output_dir,\n",
    ")"
   ]
  },
  {
   "cell_type": "code",
   "execution_count": 8,
   "id": "106241f5",
   "metadata": {
    "execution": {
     "iopub.execute_input": "2025-08-05T16:15:14.857886Z",
     "iopub.status.busy": "2025-08-05T16:15:14.857280Z",
     "iopub.status.idle": "2025-08-05T16:15:14.865163Z",
     "shell.execute_reply": "2025-08-05T16:15:14.864056Z"
    },
    "papermill": {
     "duration": 0.034134,
     "end_time": "2025-08-05T16:15:14.868107",
     "exception": false,
     "start_time": "2025-08-05T16:15:14.833973",
     "status": "completed"
    },
    "tags": []
   },
   "outputs": [
    {
     "name": "stdout",
     "output_type": "stream",
     "text": [
      "Using Seed: 2023\n"
     ]
    }
   ],
   "source": [
    "import numpy as np\n",
    "parsed_seed = int(seed)\n",
    "np.random.seed(parsed_seed)\n",
    "print(f\"Using Seed: {parsed_seed}\")"
   ]
  },
  {
   "cell_type": "markdown",
   "id": "e0ebdc57",
   "metadata": {
    "papermill": {
     "duration": 0.021385,
     "end_time": "2025-08-05T16:15:14.911142",
     "exception": false,
     "start_time": "2025-08-05T16:15:14.889757",
     "status": "completed"
    },
    "tags": []
   },
   "source": [
    "# Loading Data"
   ]
  },
  {
   "cell_type": "code",
   "execution_count": 9,
   "id": "f0496b8a",
   "metadata": {
    "execution": {
     "iopub.execute_input": "2025-08-05T16:15:14.955740Z",
     "iopub.status.busy": "2025-08-05T16:15:14.955223Z",
     "iopub.status.idle": "2025-08-05T16:15:27.280109Z",
     "shell.execute_reply": "2025-08-05T16:15:27.278875Z"
    },
    "papermill": {
     "duration": 12.34914,
     "end_time": "2025-08-05T16:15:27.281840",
     "exception": false,
     "start_time": "2025-08-05T16:15:14.932700",
     "status": "completed"
    },
    "tags": []
   },
   "outputs": [
    {
     "name": "stdout",
     "output_type": "stream",
     "text": [
      "Loading SIAB data from cache: data/siab_cached.csv.gz\n"
     ]
    },
    {
     "name": "stdout",
     "output_type": "stream",
     "text": [
      "(643690, 164)\n"
     ]
    }
   ],
   "source": [
    "from pathlib import Path\n",
    "import pandas as pd\n",
    "\n",
    "# File paths\n",
    "raw_file = Path(\"data/raw/siab.csv\")\n",
    "cache_file = Path(\"data/siab_cached.csv.gz\")\n",
    "\n",
    "# Ensure cache directory exists\n",
    "cache_file.parent.mkdir(parents=True, exist_ok=True)\n",
    "\n",
    "# Load with simple caching\n",
    "if cache_file.exists():\n",
    "    print(f\"Loading SIAB data from cache: {cache_file}\")\n",
    "    siab = pd.read_csv(cache_file, compression='gzip')\n",
    "else:\n",
    "    print(f\"Cache not found. Reading raw SIAB data: {raw_file}\")\n",
    "    siab = pd.read_csv(raw_file)\n",
    "    siab.to_csv(cache_file, index=False, compression='gzip')\n",
    "    print(f\"Cached SIAB data to: {cache_file}\")\n",
    "\n",
    "print(siab.shape)"
   ]
  },
  {
   "cell_type": "code",
   "execution_count": 10,
   "id": "db0ca512-5f53-4dba-abdb-a2888bca41ba",
   "metadata": {
    "execution": {
     "iopub.execute_input": "2025-08-05T16:15:27.326287Z",
     "iopub.status.busy": "2025-08-05T16:15:27.325687Z",
     "iopub.status.idle": "2025-08-05T16:15:27.331579Z",
     "shell.execute_reply": "2025-08-05T16:15:27.330665Z"
    },
    "papermill": {
     "duration": 0.029878,
     "end_time": "2025-08-05T16:15:27.333421",
     "exception": false,
     "start_time": "2025-08-05T16:15:27.303543",
     "status": "completed"
    },
    "tags": []
   },
   "outputs": [],
   "source": [
    "#siab"
   ]
  },
  {
   "cell_type": "markdown",
   "id": "997051c5-15bd-4b69-9786-c3001a3ce484",
   "metadata": {
    "papermill": {
     "duration": 0.020283,
     "end_time": "2025-08-05T16:15:27.372121",
     "exception": false,
     "start_time": "2025-08-05T16:15:27.351838",
     "status": "completed"
    },
    "tags": []
   },
   "source": [
    "# Splitting Data and Setting Training Data Size"
   ]
  },
  {
   "cell_type": "code",
   "execution_count": 11,
   "id": "aea9c6ef-6f46-42c8-85eb-5a62025c1508",
   "metadata": {
    "execution": {
     "iopub.execute_input": "2025-08-05T16:15:27.412196Z",
     "iopub.status.busy": "2025-08-05T16:15:27.411606Z",
     "iopub.status.idle": "2025-08-05T16:15:27.628457Z",
     "shell.execute_reply": "2025-08-05T16:15:27.627475Z"
    },
    "papermill": {
     "duration": 0.239061,
     "end_time": "2025-08-05T16:15:27.630613",
     "exception": false,
     "start_time": "2025-08-05T16:15:27.391552",
     "status": "completed"
    },
    "tags": []
   },
   "outputs": [],
   "source": [
    "from fairness_multiverse.universe import sample_by_year_size\n",
    "\n",
    "siab_train = sample_by_year_size(siab,\n",
    "                               training_year=universe[\"training_year\"],\n",
    "                               training_size=universe[\"training_size\"])"
   ]
  },
  {
   "cell_type": "code",
   "execution_count": 12,
   "id": "8d3afb32-789d-442c-8d5d-9f5aa8dd2eed",
   "metadata": {
    "execution": {
     "iopub.execute_input": "2025-08-05T16:15:27.670780Z",
     "iopub.status.busy": "2025-08-05T16:15:27.669975Z",
     "iopub.status.idle": "2025-08-05T16:15:27.675354Z",
     "shell.execute_reply": "2025-08-05T16:15:27.674365Z"
    },
    "papermill": {
     "duration": 0.026683,
     "end_time": "2025-08-05T16:15:27.677568",
     "exception": false,
     "start_time": "2025-08-05T16:15:27.650885",
     "status": "completed"
    },
    "tags": []
   },
   "outputs": [],
   "source": [
    "#siab_train.shape"
   ]
  },
  {
   "cell_type": "code",
   "execution_count": 13,
   "id": "d582db68-1a4c-47fb-84fc-08518dc1975a",
   "metadata": {
    "execution": {
     "iopub.execute_input": "2025-08-05T16:15:27.721085Z",
     "iopub.status.busy": "2025-08-05T16:15:27.720252Z",
     "iopub.status.idle": "2025-08-05T16:15:27.725343Z",
     "shell.execute_reply": "2025-08-05T16:15:27.724411Z"
    },
    "papermill": {
     "duration": 0.027851,
     "end_time": "2025-08-05T16:15:27.727240",
     "exception": false,
     "start_time": "2025-08-05T16:15:27.699389",
     "status": "completed"
    },
    "tags": []
   },
   "outputs": [],
   "source": [
    "#display(siab_train.groupby(\"year\").size())"
   ]
  },
  {
   "cell_type": "code",
   "execution_count": 14,
   "id": "a561edb4-d032-42cb-8256-22eac1111c64",
   "metadata": {
    "execution": {
     "iopub.execute_input": "2025-08-05T16:15:27.775774Z",
     "iopub.status.busy": "2025-08-05T16:15:27.774802Z",
     "iopub.status.idle": "2025-08-05T16:15:28.022203Z",
     "shell.execute_reply": "2025-08-05T16:15:28.020653Z"
    },
    "papermill": {
     "duration": 0.273562,
     "end_time": "2025-08-05T16:15:28.024485",
     "exception": false,
     "start_time": "2025-08-05T16:15:27.750923",
     "status": "completed"
    },
    "tags": []
   },
   "outputs": [],
   "source": [
    "#siab_train = siab_s[siab_s.year < 2015]\n",
    "siab_calib = siab[siab.year == 2015]\n",
    "siab_test = siab[siab.year == 2016]"
   ]
  },
  {
   "cell_type": "code",
   "execution_count": 15,
   "id": "472de16f-c3db-4916-846b-1f0de9cf1746",
   "metadata": {
    "execution": {
     "iopub.execute_input": "2025-08-05T16:15:28.072472Z",
     "iopub.status.busy": "2025-08-05T16:15:28.071506Z",
     "iopub.status.idle": "2025-08-05T16:15:28.080398Z",
     "shell.execute_reply": "2025-08-05T16:15:28.079195Z"
    },
    "papermill": {
     "duration": 0.03453,
     "end_time": "2025-08-05T16:15:28.082402",
     "exception": false,
     "start_time": "2025-08-05T16:15:28.047872",
     "status": "completed"
    },
    "tags": []
   },
   "outputs": [],
   "source": [
    "X_train = siab_train.iloc[:,4:164]\n",
    "y_train = siab_train.iloc[:, [3]]"
   ]
  },
  {
   "cell_type": "code",
   "execution_count": 16,
   "id": "828c96af-f43a-4ed6-ba47-8ac73a47d56c",
   "metadata": {
    "execution": {
     "iopub.execute_input": "2025-08-05T16:15:28.127931Z",
     "iopub.status.busy": "2025-08-05T16:15:28.127221Z",
     "iopub.status.idle": "2025-08-05T16:15:28.181753Z",
     "shell.execute_reply": "2025-08-05T16:15:28.180422Z"
    },
    "papermill": {
     "duration": 0.080031,
     "end_time": "2025-08-05T16:15:28.184333",
     "exception": false,
     "start_time": "2025-08-05T16:15:28.104302",
     "status": "completed"
    },
    "tags": []
   },
   "outputs": [],
   "source": [
    "X_calib = siab_calib.iloc[:,4:164]\n",
    "y_calib = siab_calib.iloc[:, [3]]"
   ]
  },
  {
   "cell_type": "code",
   "execution_count": 17,
   "id": "c34be9c3-6bd6-476e-acd3-845840e303be",
   "metadata": {
    "execution": {
     "iopub.execute_input": "2025-08-05T16:15:28.229722Z",
     "iopub.status.busy": "2025-08-05T16:15:28.228785Z",
     "iopub.status.idle": "2025-08-05T16:15:28.290373Z",
     "shell.execute_reply": "2025-08-05T16:15:28.288963Z"
    },
    "papermill": {
     "duration": 0.086208,
     "end_time": "2025-08-05T16:15:28.292851",
     "exception": false,
     "start_time": "2025-08-05T16:15:28.206643",
     "status": "completed"
    },
    "tags": []
   },
   "outputs": [],
   "source": [
    "X_test = siab_test.iloc[:,4:164]\n",
    "y_true = siab_test.iloc[:, [3]]"
   ]
  },
  {
   "cell_type": "code",
   "execution_count": 18,
   "id": "e6c733c5",
   "metadata": {
    "execution": {
     "iopub.execute_input": "2025-08-05T16:15:28.342878Z",
     "iopub.status.busy": "2025-08-05T16:15:28.342037Z",
     "iopub.status.idle": "2025-08-05T16:15:28.450943Z",
     "shell.execute_reply": "2025-08-05T16:15:28.449713Z"
    },
    "papermill": {
     "duration": 0.13637,
     "end_time": "2025-08-05T16:15:28.453481",
     "exception": false,
     "start_time": "2025-08-05T16:15:28.317111",
     "status": "completed"
    },
    "tags": []
   },
   "outputs": [],
   "source": [
    "# Auxiliary data needed downstream in the pipeline\n",
    "\n",
    "org_train = X_train.copy()\n",
    "org_test = X_test.copy()\n",
    "org_calib = X_calib.copy()"
   ]
  },
  {
   "cell_type": "markdown",
   "id": "0a4a1b33",
   "metadata": {
    "papermill": {
     "duration": 0.02302,
     "end_time": "2025-08-05T16:15:28.501331",
     "exception": false,
     "start_time": "2025-08-05T16:15:28.478311",
     "status": "completed"
    },
    "tags": []
   },
   "source": [
    "# Preprocessing Data"
   ]
  },
  {
   "cell_type": "code",
   "execution_count": 19,
   "id": "ca879031",
   "metadata": {
    "execution": {
     "iopub.execute_input": "2025-08-05T16:15:28.550209Z",
     "iopub.status.busy": "2025-08-05T16:15:28.549047Z",
     "iopub.status.idle": "2025-08-05T16:15:28.556503Z",
     "shell.execute_reply": "2025-08-05T16:15:28.555305Z"
    },
    "papermill": {
     "duration": 0.03426,
     "end_time": "2025-08-05T16:15:28.558694",
     "exception": false,
     "start_time": "2025-08-05T16:15:28.524434",
     "status": "completed"
    },
    "tags": []
   },
   "outputs": [],
   "source": [
    "# EXCLUDE PROTECTED FEATURES\n",
    "# ----------------------\n",
    "# \"exclude_features\": \"none\", # \"nationality\", \"sex\", \"nationality-sex\"\n",
    "\n",
    "excluded_features = universe[\"exclude_features\"].split(\"-\") # split, e.g.: \"nationality-sex\" -> [\"nationality\", \"sex\"]\n",
    "excluded_features_dictionary = {\n",
    "    \"nationality\": [\"maxdeutsch1\", \"maxdeutsch.Missing.\"],\n",
    "    \"sex\": [\"frau1\"],\n",
    "    \"age\": [\"age\"],\n",
    "}"
   ]
  },
  {
   "cell_type": "code",
   "execution_count": 20,
   "id": "b745ac60",
   "metadata": {
    "execution": {
     "iopub.execute_input": "2025-08-05T16:15:28.609430Z",
     "iopub.status.busy": "2025-08-05T16:15:28.608397Z",
     "iopub.status.idle": "2025-08-05T16:15:28.615684Z",
     "shell.execute_reply": "2025-08-05T16:15:28.614458Z"
    },
    "papermill": {
     "duration": 0.034227,
     "end_time": "2025-08-05T16:15:28.617762",
     "exception": false,
     "start_time": "2025-08-05T16:15:28.583535",
     "status": "completed"
    },
    "tags": []
   },
   "outputs": [],
   "source": [
    "# Code nice names to column names\n",
    "\n",
    "excluded_features_columns = [\n",
    "    excluded_features_dictionary[f] for f in excluded_features if len(f) > 0 and f != \"none\"\n",
    "]"
   ]
  },
  {
   "cell_type": "code",
   "execution_count": 21,
   "id": "f84f73a2",
   "metadata": {
    "execution": {
     "iopub.execute_input": "2025-08-05T16:15:28.663524Z",
     "iopub.status.busy": "2025-08-05T16:15:28.662689Z",
     "iopub.status.idle": "2025-08-05T16:15:28.670404Z",
     "shell.execute_reply": "2025-08-05T16:15:28.669265Z"
    },
    "papermill": {
     "duration": 0.032694,
     "end_time": "2025-08-05T16:15:28.672336",
     "exception": false,
     "start_time": "2025-08-05T16:15:28.639642",
     "status": "completed"
    },
    "tags": []
   },
   "outputs": [],
   "source": [
    "from utils import flatten_once\n",
    "\n",
    "excluded_features_columns = flatten_once(excluded_features_columns)"
   ]
  },
  {
   "cell_type": "code",
   "execution_count": 22,
   "id": "884dea22",
   "metadata": {
    "execution": {
     "iopub.execute_input": "2025-08-05T16:15:28.719797Z",
     "iopub.status.busy": "2025-08-05T16:15:28.718713Z",
     "iopub.status.idle": "2025-08-05T16:15:28.727867Z",
     "shell.execute_reply": "2025-08-05T16:15:28.726907Z"
    },
    "papermill": {
     "duration": 0.034495,
     "end_time": "2025-08-05T16:15:28.729893",
     "exception": false,
     "start_time": "2025-08-05T16:15:28.695398",
     "status": "completed"
    },
    "tags": []
   },
   "outputs": [
    {
     "name": "stdout",
     "output_type": "stream",
     "text": [
      "Dropping features: ['age']\n"
     ]
    }
   ],
   "source": [
    "if len(excluded_features_columns) > 0:\n",
    "    print(f\"Dropping features: {excluded_features_columns}\")\n",
    "    X_train.drop(excluded_features_columns, axis=1, inplace=True)"
   ]
  },
  {
   "cell_type": "code",
   "execution_count": 23,
   "id": "95ab8b16",
   "metadata": {
    "execution": {
     "iopub.execute_input": "2025-08-05T16:15:28.777750Z",
     "iopub.status.busy": "2025-08-05T16:15:28.776682Z",
     "iopub.status.idle": "2025-08-05T16:15:28.840305Z",
     "shell.execute_reply": "2025-08-05T16:15:28.839093Z"
    },
    "papermill": {
     "duration": 0.089241,
     "end_time": "2025-08-05T16:15:28.842325",
     "exception": false,
     "start_time": "2025-08-05T16:15:28.753084",
     "status": "completed"
    },
    "tags": []
   },
   "outputs": [
    {
     "name": "stdout",
     "output_type": "stream",
     "text": [
      "Dropping features: ['age']\n"
     ]
    }
   ],
   "source": [
    "if len(excluded_features_columns) > 0:\n",
    "    print(f\"Dropping features: {excluded_features_columns}\")\n",
    "    X_test.drop(excluded_features_columns, axis=1, inplace=True)"
   ]
  },
  {
   "cell_type": "code",
   "execution_count": 24,
   "id": "1853aaf5-fb9f-46cb-a2b5-8ea4ae2237e4",
   "metadata": {
    "execution": {
     "iopub.execute_input": "2025-08-05T16:15:28.893203Z",
     "iopub.status.busy": "2025-08-05T16:15:28.892104Z",
     "iopub.status.idle": "2025-08-05T16:15:28.952392Z",
     "shell.execute_reply": "2025-08-05T16:15:28.951059Z"
    },
    "papermill": {
     "duration": 0.087885,
     "end_time": "2025-08-05T16:15:28.954795",
     "exception": false,
     "start_time": "2025-08-05T16:15:28.866910",
     "status": "completed"
    },
    "tags": []
   },
   "outputs": [
    {
     "name": "stdout",
     "output_type": "stream",
     "text": [
      "Dropping features: ['age']\n"
     ]
    }
   ],
   "source": [
    "if len(excluded_features_columns) > 0:\n",
    "    print(f\"Dropping features: {excluded_features_columns}\")\n",
    "    X_calib.drop(excluded_features_columns, axis=1, inplace=True)"
   ]
  },
  {
   "cell_type": "code",
   "execution_count": 25,
   "id": "76c4dc6d",
   "metadata": {
    "execution": {
     "iopub.execute_input": "2025-08-05T16:15:29.014518Z",
     "iopub.status.busy": "2025-08-05T16:15:29.013502Z",
     "iopub.status.idle": "2025-08-05T16:15:29.021407Z",
     "shell.execute_reply": "2025-08-05T16:15:29.020040Z"
    },
    "papermill": {
     "duration": 0.041274,
     "end_time": "2025-08-05T16:15:29.024324",
     "exception": false,
     "start_time": "2025-08-05T16:15:28.983050",
     "status": "completed"
    },
    "tags": []
   },
   "outputs": [],
   "source": [
    "# EXCLUDE CERTAIN SUBGROUPS\n",
    "# ----------------------\n",
    "\n",
    "mode = universe.get(\"exclude_subgroups\", \"keep-all\") \n",
    "# Fetches the exclude_subgroups setting from the universe dict.\n",
    "# Defaults to \"keep-all\" if the key is missing."
   ]
  },
  {
   "cell_type": "code",
   "execution_count": 26,
   "id": "21994072",
   "metadata": {
    "execution": {
     "iopub.execute_input": "2025-08-05T16:15:29.088082Z",
     "iopub.status.busy": "2025-08-05T16:15:29.086999Z",
     "iopub.status.idle": "2025-08-05T16:15:29.095369Z",
     "shell.execute_reply": "2025-08-05T16:15:29.094123Z"
    },
    "papermill": {
     "duration": 0.038992,
     "end_time": "2025-08-05T16:15:29.097235",
     "exception": false,
     "start_time": "2025-08-05T16:15:29.058243",
     "status": "completed"
    },
    "tags": []
   },
   "outputs": [],
   "source": [
    "if mode == \"keep-all\":\n",
    "    keep_mask = pd.Series(True, index=org_train.index)\n",
    "\n",
    "# org_train contains the original feature columns from features_org (in Simson)\n",
    "# features_org contains unprocessed features, for me X_train at beginning ???\n",
    "# For keep-all, creates a boolean Series (keep_mask) of all True, so no rows are removed.\n",
    "\n",
    "elif mode == \"drop-non-german\":\n",
    "    keep_mask = org_train[\"maxdeutsch1\"] == 1 # ??? what about missing values?\n",
    "\n",
    "else:\n",
    "    raise ValueError(f\"Unsupported mode for exclude_subgroups: {mode}\")"
   ]
  },
  {
   "cell_type": "code",
   "execution_count": 27,
   "id": "71651440",
   "metadata": {
    "execution": {
     "iopub.execute_input": "2025-08-05T16:15:29.145706Z",
     "iopub.status.busy": "2025-08-05T16:15:29.144610Z",
     "iopub.status.idle": "2025-08-05T16:15:29.153770Z",
     "shell.execute_reply": "2025-08-05T16:15:29.152383Z"
    },
    "papermill": {
     "duration": 0.035994,
     "end_time": "2025-08-05T16:15:29.155881",
     "exception": false,
     "start_time": "2025-08-05T16:15:29.119887",
     "status": "completed"
    },
    "tags": []
   },
   "outputs": [
    {
     "name": "stdout",
     "output_type": "stream",
     "text": [
      "Dropping 147 rows (14.70%) where mode='drop-non-german'\n"
     ]
    }
   ],
   "source": [
    "n_drop = (~keep_mask).sum() # Calculates how many rows are set to be dropped\n",
    "if n_drop > 0:\n",
    "    pct = n_drop / len(keep_mask) * 100\n",
    "    print(f\"Dropping {n_drop} rows ({pct:.2f}%) where mode='{mode}'\")"
   ]
  },
  {
   "cell_type": "code",
   "execution_count": 28,
   "id": "5fb8eee5",
   "metadata": {
    "execution": {
     "iopub.execute_input": "2025-08-05T16:15:29.204415Z",
     "iopub.status.busy": "2025-08-05T16:15:29.203386Z",
     "iopub.status.idle": "2025-08-05T16:15:29.211701Z",
     "shell.execute_reply": "2025-08-05T16:15:29.210564Z"
    },
    "papermill": {
     "duration": 0.034556,
     "end_time": "2025-08-05T16:15:29.214020",
     "exception": false,
     "start_time": "2025-08-05T16:15:29.179464",
     "status": "completed"
    },
    "tags": []
   },
   "outputs": [],
   "source": [
    "X_train = X_train[keep_mask]"
   ]
  },
  {
   "cell_type": "code",
   "execution_count": 29,
   "id": "b202bb3a",
   "metadata": {
    "execution": {
     "iopub.execute_input": "2025-08-05T16:15:29.266497Z",
     "iopub.status.busy": "2025-08-05T16:15:29.265424Z",
     "iopub.status.idle": "2025-08-05T16:15:29.273030Z",
     "shell.execute_reply": "2025-08-05T16:15:29.271868Z"
    },
    "papermill": {
     "duration": 0.034944,
     "end_time": "2025-08-05T16:15:29.275019",
     "exception": false,
     "start_time": "2025-08-05T16:15:29.240075",
     "status": "completed"
    },
    "tags": []
   },
   "outputs": [],
   "source": [
    "y_train = y_train[keep_mask]"
   ]
  },
  {
   "cell_type": "markdown",
   "id": "493e2ac3",
   "metadata": {
    "papermill": {
     "duration": 0.023963,
     "end_time": "2025-08-05T16:15:29.325313",
     "exception": false,
     "start_time": "2025-08-05T16:15:29.301350",
     "status": "completed"
    },
    "tags": []
   },
   "source": [
    "# Model Training"
   ]
  },
  {
   "cell_type": "code",
   "execution_count": 30,
   "id": "679e1268",
   "metadata": {
    "execution": {
     "iopub.execute_input": "2025-08-05T16:15:29.379239Z",
     "iopub.status.busy": "2025-08-05T16:15:29.378125Z",
     "iopub.status.idle": "2025-08-05T16:15:29.541109Z",
     "shell.execute_reply": "2025-08-05T16:15:29.539938Z"
    },
    "papermill": {
     "duration": 0.193766,
     "end_time": "2025-08-05T16:15:29.543459",
     "exception": false,
     "start_time": "2025-08-05T16:15:29.349693",
     "status": "completed"
    },
    "tags": []
   },
   "outputs": [],
   "source": [
    "from sklearn.linear_model import LogisticRegression\n",
    "from sklearn.ensemble import GradientBoostingClassifier, RandomForestClassifier\n",
    "\n",
    "if (universe[\"model\"] == \"logreg\"):\n",
    "    model = LogisticRegression() #penalty=\"none\", solver=\"newton-cg\", max_iter=1) # include random_state=19 ?\n",
    "elif (universe[\"model\"] == \"penalized_logreg\"):\n",
    "    model = LogisticRegression(penalty=\"l2\", C=0.1) #, solver=\"newton-cg\", max_iter=1)\n",
    "elif (universe[\"model\"] == \"rf\"):\n",
    "    model = RandomForestClassifier() # n_estimators=100, n_jobs=-1\n",
    "elif (universe[\"model\"] == \"gbm\"):\n",
    "    model = GradientBoostingClassifier()\n",
    "elif (universe[\"model\"] == \"elasticnet\"):\n",
    "    model = LogisticRegression(penalty = 'elasticnet', solver = 'saga', l1_ratio = 0.5) # max_iter=5000\n",
    "else:\n",
    "    raise \"Unsupported universe.model\""
   ]
  },
  {
   "cell_type": "code",
   "execution_count": 31,
   "id": "0cc8f744",
   "metadata": {
    "execution": {
     "iopub.execute_input": "2025-08-05T16:15:29.595337Z",
     "iopub.status.busy": "2025-08-05T16:15:29.594853Z",
     "iopub.status.idle": "2025-08-05T16:15:29.602424Z",
     "shell.execute_reply": "2025-08-05T16:15:29.601281Z"
    },
    "papermill": {
     "duration": 0.035644,
     "end_time": "2025-08-05T16:15:29.604310",
     "exception": false,
     "start_time": "2025-08-05T16:15:29.568666",
     "status": "completed"
    },
    "tags": []
   },
   "outputs": [],
   "source": [
    "import numpy as np\n",
    "from sklearn.pipeline import Pipeline\n",
    "from sklearn.preprocessing import StandardScaler\n",
    "\n",
    "model = Pipeline([\n",
    "    #(\"continuous_processor\", continuous_processor),\n",
    "    #(\"categorical_preprocessor\", categorical_preprocessor),\n",
    "    (\"scale\", StandardScaler() if universe[\"scale\"] == \"scale\" else None), \n",
    "    (\"model\", model),\n",
    "])"
   ]
  },
  {
   "cell_type": "code",
   "execution_count": 32,
   "id": "9442c04d",
   "metadata": {
    "execution": {
     "iopub.execute_input": "2025-08-05T16:15:29.657143Z",
     "iopub.status.busy": "2025-08-05T16:15:29.655989Z",
     "iopub.status.idle": "2025-08-05T16:15:30.111912Z",
     "shell.execute_reply": "2025-08-05T16:15:30.110741Z"
    },
    "papermill": {
     "duration": 0.485604,
     "end_time": "2025-08-05T16:15:30.114991",
     "exception": false,
     "start_time": "2025-08-05T16:15:29.629387",
     "status": "completed"
    },
    "tags": []
   },
   "outputs": [
    {
     "name": "stderr",
     "output_type": "stream",
     "text": [
      "/dss/dsshome1/0C/ra93lal2/.local/share/virtualenvs/CMA_Fairness_v2-3j10GkSs/lib/python3.10/site-packages/sklearn/linear_model/_sag.py:350: ConvergenceWarning: The max_iter was reached which means the coef_ did not converge\n",
      "  warnings.warn(\n"
     ]
    },
    {
     "data": {
      "text/html": [
       "<style>#sk-container-id-1 {color: black;background-color: white;}#sk-container-id-1 pre{padding: 0;}#sk-container-id-1 div.sk-toggleable {background-color: white;}#sk-container-id-1 label.sk-toggleable__label {cursor: pointer;display: block;width: 100%;margin-bottom: 0;padding: 0.3em;box-sizing: border-box;text-align: center;}#sk-container-id-1 label.sk-toggleable__label-arrow:before {content: \"▸\";float: left;margin-right: 0.25em;color: #696969;}#sk-container-id-1 label.sk-toggleable__label-arrow:hover:before {color: black;}#sk-container-id-1 div.sk-estimator:hover label.sk-toggleable__label-arrow:before {color: black;}#sk-container-id-1 div.sk-toggleable__content {max-height: 0;max-width: 0;overflow: hidden;text-align: left;background-color: #f0f8ff;}#sk-container-id-1 div.sk-toggleable__content pre {margin: 0.2em;color: black;border-radius: 0.25em;background-color: #f0f8ff;}#sk-container-id-1 input.sk-toggleable__control:checked~div.sk-toggleable__content {max-height: 200px;max-width: 100%;overflow: auto;}#sk-container-id-1 input.sk-toggleable__control:checked~label.sk-toggleable__label-arrow:before {content: \"▾\";}#sk-container-id-1 div.sk-estimator input.sk-toggleable__control:checked~label.sk-toggleable__label {background-color: #d4ebff;}#sk-container-id-1 div.sk-label input.sk-toggleable__control:checked~label.sk-toggleable__label {background-color: #d4ebff;}#sk-container-id-1 input.sk-hidden--visually {border: 0;clip: rect(1px 1px 1px 1px);clip: rect(1px, 1px, 1px, 1px);height: 1px;margin: -1px;overflow: hidden;padding: 0;position: absolute;width: 1px;}#sk-container-id-1 div.sk-estimator {font-family: monospace;background-color: #f0f8ff;border: 1px dotted black;border-radius: 0.25em;box-sizing: border-box;margin-bottom: 0.5em;}#sk-container-id-1 div.sk-estimator:hover {background-color: #d4ebff;}#sk-container-id-1 div.sk-parallel-item::after {content: \"\";width: 100%;border-bottom: 1px solid gray;flex-grow: 1;}#sk-container-id-1 div.sk-label:hover label.sk-toggleable__label {background-color: #d4ebff;}#sk-container-id-1 div.sk-serial::before {content: \"\";position: absolute;border-left: 1px solid gray;box-sizing: border-box;top: 0;bottom: 0;left: 50%;z-index: 0;}#sk-container-id-1 div.sk-serial {display: flex;flex-direction: column;align-items: center;background-color: white;padding-right: 0.2em;padding-left: 0.2em;position: relative;}#sk-container-id-1 div.sk-item {position: relative;z-index: 1;}#sk-container-id-1 div.sk-parallel {display: flex;align-items: stretch;justify-content: center;background-color: white;position: relative;}#sk-container-id-1 div.sk-item::before, #sk-container-id-1 div.sk-parallel-item::before {content: \"\";position: absolute;border-left: 1px solid gray;box-sizing: border-box;top: 0;bottom: 0;left: 50%;z-index: -1;}#sk-container-id-1 div.sk-parallel-item {display: flex;flex-direction: column;z-index: 1;position: relative;background-color: white;}#sk-container-id-1 div.sk-parallel-item:first-child::after {align-self: flex-end;width: 50%;}#sk-container-id-1 div.sk-parallel-item:last-child::after {align-self: flex-start;width: 50%;}#sk-container-id-1 div.sk-parallel-item:only-child::after {width: 0;}#sk-container-id-1 div.sk-dashed-wrapped {border: 1px dashed gray;margin: 0 0.4em 0.5em 0.4em;box-sizing: border-box;padding-bottom: 0.4em;background-color: white;}#sk-container-id-1 div.sk-label label {font-family: monospace;font-weight: bold;display: inline-block;line-height: 1.2em;}#sk-container-id-1 div.sk-label-container {text-align: center;}#sk-container-id-1 div.sk-container {/* jupyter's `normalize.less` sets `[hidden] { display: none; }` but bootstrap.min.css set `[hidden] { display: none !important; }` so we also need the `!important` here to be able to override the default hidden behavior on the sphinx rendered scikit-learn.org. See: https://github.com/scikit-learn/scikit-learn/issues/21755 */display: inline-block !important;position: relative;}#sk-container-id-1 div.sk-text-repr-fallback {display: none;}</style><div id=\"sk-container-id-1\" class=\"sk-top-container\"><div class=\"sk-text-repr-fallback\"><pre>Pipeline(steps=[(&#x27;scale&#x27;, None),\n",
       "                (&#x27;model&#x27;,\n",
       "                 LogisticRegression(l1_ratio=0.5, penalty=&#x27;elasticnet&#x27;,\n",
       "                                    solver=&#x27;saga&#x27;))])</pre><b>In a Jupyter environment, please rerun this cell to show the HTML representation or trust the notebook. <br />On GitHub, the HTML representation is unable to render, please try loading this page with nbviewer.org.</b></div><div class=\"sk-container\" hidden><div class=\"sk-item sk-dashed-wrapped\"><div class=\"sk-label-container\"><div class=\"sk-label sk-toggleable\"><input class=\"sk-toggleable__control sk-hidden--visually\" id=\"sk-estimator-id-1\" type=\"checkbox\" ><label for=\"sk-estimator-id-1\" class=\"sk-toggleable__label sk-toggleable__label-arrow\">Pipeline</label><div class=\"sk-toggleable__content\"><pre>Pipeline(steps=[(&#x27;scale&#x27;, None),\n",
       "                (&#x27;model&#x27;,\n",
       "                 LogisticRegression(l1_ratio=0.5, penalty=&#x27;elasticnet&#x27;,\n",
       "                                    solver=&#x27;saga&#x27;))])</pre></div></div></div><div class=\"sk-serial\"><div class=\"sk-item\"><div class=\"sk-estimator sk-toggleable\"><input class=\"sk-toggleable__control sk-hidden--visually\" id=\"sk-estimator-id-2\" type=\"checkbox\" ><label for=\"sk-estimator-id-2\" class=\"sk-toggleable__label sk-toggleable__label-arrow\">None</label><div class=\"sk-toggleable__content\"><pre>None</pre></div></div></div><div class=\"sk-item\"><div class=\"sk-estimator sk-toggleable\"><input class=\"sk-toggleable__control sk-hidden--visually\" id=\"sk-estimator-id-3\" type=\"checkbox\" ><label for=\"sk-estimator-id-3\" class=\"sk-toggleable__label sk-toggleable__label-arrow\">LogisticRegression</label><div class=\"sk-toggleable__content\"><pre>LogisticRegression(l1_ratio=0.5, penalty=&#x27;elasticnet&#x27;, solver=&#x27;saga&#x27;)</pre></div></div></div></div></div></div></div>"
      ],
      "text/plain": [
       "Pipeline(steps=[('scale', None),\n",
       "                ('model',\n",
       "                 LogisticRegression(l1_ratio=0.5, penalty='elasticnet',\n",
       "                                    solver='saga'))])"
      ]
     },
     "execution_count": 32,
     "metadata": {},
     "output_type": "execute_result"
    }
   ],
   "source": [
    "model.fit(X_train, y_train.values.ravel())"
   ]
  },
  {
   "cell_type": "code",
   "execution_count": 33,
   "id": "af59f8c0",
   "metadata": {
    "execution": {
     "iopub.execute_input": "2025-08-05T16:15:30.166187Z",
     "iopub.status.busy": "2025-08-05T16:15:30.165153Z",
     "iopub.status.idle": "2025-08-05T16:15:30.171518Z",
     "shell.execute_reply": "2025-08-05T16:15:30.170348Z"
    },
    "papermill": {
     "duration": 0.033364,
     "end_time": "2025-08-05T16:15:30.173414",
     "exception": false,
     "start_time": "2025-08-05T16:15:30.140050",
     "status": "completed"
    },
    "tags": []
   },
   "outputs": [],
   "source": [
    "from fairness_multiverse.universe import predict_w_threshold"
   ]
  },
  {
   "cell_type": "code",
   "execution_count": 34,
   "id": "a7cf2e16",
   "metadata": {
    "execution": {
     "iopub.execute_input": "2025-08-05T16:15:30.228813Z",
     "iopub.status.busy": "2025-08-05T16:15:30.227721Z",
     "iopub.status.idle": "2025-08-05T16:15:30.334793Z",
     "shell.execute_reply": "2025-08-05T16:15:30.333567Z"
    },
    "papermill": {
     "duration": 0.137128,
     "end_time": "2025-08-05T16:15:30.336840",
     "exception": false,
     "start_time": "2025-08-05T16:15:30.199712",
     "status": "completed"
    },
    "tags": []
   },
   "outputs": [
    {
     "data": {
      "text/plain": [
       "0.8430944153383123"
      ]
     },
     "execution_count": 34,
     "metadata": {},
     "output_type": "execute_result"
    }
   ],
   "source": [
    "probs_test = model.predict_proba(X_test)\n",
    "\n",
    "'''\n",
    "Below code returns a boolean array (or binary 0/1 array depending on how it’s used) where each element \n",
    "is True if the probability of class 1 is greater than or equal to the threshold, and False otherwise.\n",
    "'''\n",
    "y_pred_default = predict_w_threshold(probs_test, 0.5)\n",
    "\n",
    "from sklearn.metrics import accuracy_score\n",
    "\n",
    "# Naive prediction\n",
    "accuracy_score(y_true = y_true, y_pred = y_pred_default)"
   ]
  },
  {
   "cell_type": "code",
   "execution_count": 35,
   "id": "081964c3",
   "metadata": {
    "execution": {
     "iopub.execute_input": "2025-08-05T16:15:30.389120Z",
     "iopub.status.busy": "2025-08-05T16:15:30.388560Z",
     "iopub.status.idle": "2025-08-05T16:15:30.485059Z",
     "shell.execute_reply": "2025-08-05T16:15:30.483994Z"
    },
    "papermill": {
     "duration": 0.125745,
     "end_time": "2025-08-05T16:15:30.487273",
     "exception": false,
     "start_time": "2025-08-05T16:15:30.361528",
     "status": "completed"
    },
    "tags": []
   },
   "outputs": [
    {
     "data": {
      "text/plain": [
       "array([0, 0, 0, ..., 0, 0, 0])"
      ]
     },
     "execution_count": 35,
     "metadata": {},
     "output_type": "execute_result"
    }
   ],
   "source": [
    "model.predict(X_test)"
   ]
  },
  {
   "cell_type": "markdown",
   "id": "56c9705b",
   "metadata": {
    "papermill": {
     "duration": 0.025031,
     "end_time": "2025-08-05T16:15:30.537649",
     "exception": false,
     "start_time": "2025-08-05T16:15:30.512618",
     "status": "completed"
    },
    "tags": []
   },
   "source": [
    "# Conformal Prediction"
   ]
  },
  {
   "cell_type": "code",
   "execution_count": 36,
   "id": "160ec6ff",
   "metadata": {
    "execution": {
     "iopub.execute_input": "2025-08-05T16:15:30.590115Z",
     "iopub.status.busy": "2025-08-05T16:15:30.589569Z",
     "iopub.status.idle": "2025-08-05T16:15:30.595391Z",
     "shell.execute_reply": "2025-08-05T16:15:30.594250Z"
    },
    "papermill": {
     "duration": 0.03522,
     "end_time": "2025-08-05T16:15:30.597447",
     "exception": false,
     "start_time": "2025-08-05T16:15:30.562227",
     "status": "completed"
    },
    "tags": []
   },
   "outputs": [],
   "source": [
    "# Miscoverage level for conformal prediction (10% allowed error rate => 90% target coverage)\n",
    "alpha = 0.1"
   ]
  },
  {
   "cell_type": "code",
   "execution_count": 37,
   "id": "eadf4555-3dd3-440e-8e35-f82a4ad9f855",
   "metadata": {
    "execution": {
     "iopub.execute_input": "2025-08-05T16:15:30.649646Z",
     "iopub.status.busy": "2025-08-05T16:15:30.649161Z",
     "iopub.status.idle": "2025-08-05T16:15:30.738361Z",
     "shell.execute_reply": "2025-08-05T16:15:30.737232Z"
    },
    "papermill": {
     "duration": 0.11778,
     "end_time": "2025-08-05T16:15:30.740555",
     "exception": false,
     "start_time": "2025-08-05T16:15:30.622775",
     "status": "completed"
    },
    "tags": []
   },
   "outputs": [],
   "source": [
    "probs_calib = model.predict_proba(X_calib)"
   ]
  },
  {
   "cell_type": "code",
   "execution_count": 38,
   "id": "2ed93547-6d5d-4983-9b36-1ecb300da49a",
   "metadata": {
    "execution": {
     "iopub.execute_input": "2025-08-05T16:15:30.793324Z",
     "iopub.status.busy": "2025-08-05T16:15:30.792234Z",
     "iopub.status.idle": "2025-08-05T16:15:30.799048Z",
     "shell.execute_reply": "2025-08-05T16:15:30.797826Z"
    },
    "papermill": {
     "duration": 0.035694,
     "end_time": "2025-08-05T16:15:30.801011",
     "exception": false,
     "start_time": "2025-08-05T16:15:30.765317",
     "status": "completed"
    },
    "tags": []
   },
   "outputs": [],
   "source": [
    "y_calib = y_calib.values.ravel().astype(int)"
   ]
  },
  {
   "cell_type": "code",
   "execution_count": 39,
   "id": "65d1320d-f588-4b38-9072-62af1ae97f7d",
   "metadata": {
    "execution": {
     "iopub.execute_input": "2025-08-05T16:15:30.850617Z",
     "iopub.status.busy": "2025-08-05T16:15:30.849633Z",
     "iopub.status.idle": "2025-08-05T16:15:30.857942Z",
     "shell.execute_reply": "2025-08-05T16:15:30.856879Z"
    },
    "papermill": {
     "duration": 0.034487,
     "end_time": "2025-08-05T16:15:30.859793",
     "exception": false,
     "start_time": "2025-08-05T16:15:30.825306",
     "status": "completed"
    },
    "tags": []
   },
   "outputs": [],
   "source": [
    "from fairness_multiverse.conformal import compute_nc_scores\n",
    "\n",
    "# Compute nonconformity scores on calibration set (1 - probability of true class)\n",
    "nc_scores = compute_nc_scores(probs_calib, y_calib)"
   ]
  },
  {
   "cell_type": "code",
   "execution_count": 40,
   "id": "df3b8ca3-53b7-43d5-9667-7c85da7aeda2",
   "metadata": {
    "execution": {
     "iopub.execute_input": "2025-08-05T16:15:30.911308Z",
     "iopub.status.busy": "2025-08-05T16:15:30.910199Z",
     "iopub.status.idle": "2025-08-05T16:15:30.918382Z",
     "shell.execute_reply": "2025-08-05T16:15:30.917292Z"
    },
    "papermill": {
     "duration": 0.035831,
     "end_time": "2025-08-05T16:15:30.920377",
     "exception": false,
     "start_time": "2025-08-05T16:15:30.884546",
     "status": "completed"
    },
    "tags": []
   },
   "outputs": [],
   "source": [
    "from fairness_multiverse.conformal import find_threshold\n",
    "\n",
    "# Find conformal threshold q_hat for the given alpha (split conformal method)\n",
    "q_hat = find_threshold(nc_scores, alpha)"
   ]
  },
  {
   "cell_type": "code",
   "execution_count": 41,
   "id": "4d29e6c1-0ef6-4aa4-b8fe-4fe79b0d033a",
   "metadata": {
    "execution": {
     "iopub.execute_input": "2025-08-05T16:15:30.973860Z",
     "iopub.status.busy": "2025-08-05T16:15:30.972920Z",
     "iopub.status.idle": "2025-08-05T16:15:30.981477Z",
     "shell.execute_reply": "2025-08-05T16:15:30.980417Z"
    },
    "papermill": {
     "duration": 0.036786,
     "end_time": "2025-08-05T16:15:30.983312",
     "exception": false,
     "start_time": "2025-08-05T16:15:30.946526",
     "status": "completed"
    },
    "tags": []
   },
   "outputs": [
    {
     "data": {
      "text/plain": [
       "0.6224221138693207"
      ]
     },
     "execution_count": 41,
     "metadata": {},
     "output_type": "execute_result"
    }
   ],
   "source": [
    "q_hat"
   ]
  },
  {
   "cell_type": "code",
   "execution_count": 42,
   "id": "92460794-cdac-4be2-ba28-f28c0515a6fb",
   "metadata": {
    "execution": {
     "iopub.execute_input": "2025-08-05T16:15:31.037840Z",
     "iopub.status.busy": "2025-08-05T16:15:31.037023Z",
     "iopub.status.idle": "2025-08-05T16:15:31.968126Z",
     "shell.execute_reply": "2025-08-05T16:15:31.966978Z"
    },
    "papermill": {
     "duration": 0.960682,
     "end_time": "2025-08-05T16:15:31.970360",
     "exception": false,
     "start_time": "2025-08-05T16:15:31.009678",
     "status": "completed"
    },
    "tags": []
   },
   "outputs": [],
   "source": [
    "from fairness_multiverse.conformal import predict_conformal_sets\n",
    "\n",
    "# Generate prediction sets for each test example\n",
    "pred_sets = predict_conformal_sets(model, X_test, q_hat)"
   ]
  },
  {
   "cell_type": "code",
   "execution_count": 43,
   "id": "d90c9a65-e6db-4f5d-80cd-e68fb7e46829",
   "metadata": {
    "execution": {
     "iopub.execute_input": "2025-08-05T16:15:32.024402Z",
     "iopub.status.busy": "2025-08-05T16:15:32.023301Z",
     "iopub.status.idle": "2025-08-05T16:15:32.029641Z",
     "shell.execute_reply": "2025-08-05T16:15:32.028587Z"
    },
    "papermill": {
     "duration": 0.035179,
     "end_time": "2025-08-05T16:15:32.031411",
     "exception": false,
     "start_time": "2025-08-05T16:15:31.996232",
     "status": "completed"
    },
    "tags": []
   },
   "outputs": [],
   "source": [
    "y_true = y_true.squeeze()"
   ]
  },
  {
   "cell_type": "code",
   "execution_count": 44,
   "id": "3a58a54a-1e68-46b9-927a-df01f18aebc8",
   "metadata": {
    "execution": {
     "iopub.execute_input": "2025-08-05T16:15:32.081067Z",
     "iopub.status.busy": "2025-08-05T16:15:32.080360Z",
     "iopub.status.idle": "2025-08-05T16:15:33.248100Z",
     "shell.execute_reply": "2025-08-05T16:15:33.246916Z"
    },
    "papermill": {
     "duration": 1.194595,
     "end_time": "2025-08-05T16:15:33.250374",
     "exception": false,
     "start_time": "2025-08-05T16:15:32.055779",
     "status": "completed"
    },
    "tags": []
   },
   "outputs": [],
   "source": [
    "from fairness_multiverse.conformal import evaluate_sets\n",
    "\n",
    "# Evaluate coverage and average set size on test data\n",
    "metrics = evaluate_sets(pred_sets, y_true)"
   ]
  },
  {
   "cell_type": "markdown",
   "id": "2b569c12-9aaa-4c88-98c9-bbcd0cf3ebb8",
   "metadata": {
    "papermill": {
     "duration": 0.027106,
     "end_time": "2025-08-05T16:15:33.307613",
     "exception": false,
     "start_time": "2025-08-05T16:15:33.280507",
     "status": "completed"
    },
    "tags": []
   },
   "source": [
    "# CP Metrics"
   ]
  },
  {
   "cell_type": "code",
   "execution_count": 45,
   "id": "5ce0a5cb-201f-45a0-ade5-94c7f0bd6095",
   "metadata": {
    "execution": {
     "iopub.execute_input": "2025-08-05T16:15:33.366090Z",
     "iopub.status.busy": "2025-08-05T16:15:33.365074Z",
     "iopub.status.idle": "2025-08-05T16:15:33.373795Z",
     "shell.execute_reply": "2025-08-05T16:15:33.372561Z"
    },
    "papermill": {
     "duration": 0.039542,
     "end_time": "2025-08-05T16:15:33.375951",
     "exception": false,
     "start_time": "2025-08-05T16:15:33.336409",
     "status": "completed"
    },
    "tags": []
   },
   "outputs": [
    {
     "data": {
      "text/plain": [
       "{'coverage': 0.91271876045034, 'avg_size': 1.2869468286701593}"
      ]
     },
     "execution_count": 45,
     "metadata": {},
     "output_type": "execute_result"
    }
   ],
   "source": [
    "metrics"
   ]
  },
  {
   "cell_type": "code",
   "execution_count": 46,
   "id": "9b9a838d-31c9-430b-ae14-12baee460d17",
   "metadata": {
    "execution": {
     "iopub.execute_input": "2025-08-05T16:15:33.435504Z",
     "iopub.status.busy": "2025-08-05T16:15:33.434464Z",
     "iopub.status.idle": "2025-08-05T16:15:33.442202Z",
     "shell.execute_reply": "2025-08-05T16:15:33.441031Z"
    },
    "papermill": {
     "duration": 0.041107,
     "end_time": "2025-08-05T16:15:33.444054",
     "exception": false,
     "start_time": "2025-08-05T16:15:33.402947",
     "status": "completed"
    },
    "tags": []
   },
   "outputs": [],
   "source": [
    "example_universe = universe.copy()\n",
    "universe_training_year = example_universe.get(\"training_year\")\n",
    "universe_training_size = example_universe.get(\"training_size\")\n",
    "universe_scale = example_universe.get(\"scale\")\n",
    "universe_model = example_universe.get(\"model\")\n",
    "universe_exclude_features = example_universe.get(\"exclude_features\")\n",
    "universe_exclude_subgroups = example_universe.get(\"exclude_subgroups\")"
   ]
  },
  {
   "cell_type": "code",
   "execution_count": 47,
   "id": "f4b6a8ac-9dc0-4245-8a91-5b3b5999c4f9",
   "metadata": {
    "execution": {
     "iopub.execute_input": "2025-08-05T16:15:33.498273Z",
     "iopub.status.busy": "2025-08-05T16:15:33.497673Z",
     "iopub.status.idle": "2025-08-05T16:15:33.505506Z",
     "shell.execute_reply": "2025-08-05T16:15:33.504405Z"
    },
    "papermill": {
     "duration": 0.036837,
     "end_time": "2025-08-05T16:15:33.507506",
     "exception": false,
     "start_time": "2025-08-05T16:15:33.470669",
     "status": "completed"
    },
    "tags": []
   },
   "outputs": [],
   "source": [
    "cp_metrics_dict = {\n",
    "    \"universe_id\": [universe_id],\n",
    "    \"universe_training_year\": [universe_training_year],\n",
    "    \"universe_training_size\": [universe_training_size],\n",
    "    \"universe_scale\": [universe_scale],\n",
    "    \"universe_model\": [universe_model],\n",
    "    \"universe_exclude_features\": [universe_exclude_features],\n",
    "    \"universe_exclude_subgroups\": [universe_exclude_subgroups],\n",
    "    \"q_hat\": [q_hat],\n",
    "    \"coverage\": [metrics[\"coverage\"]],\n",
    "    \"avg_size\": [metrics[\"avg_size\"]],\n",
    "}"
   ]
  },
  {
   "cell_type": "code",
   "execution_count": 48,
   "id": "908acbb1-0371-4915-85ca-3fa520d2efe2",
   "metadata": {
    "execution": {
     "iopub.execute_input": "2025-08-05T16:15:33.562896Z",
     "iopub.status.busy": "2025-08-05T16:15:33.562078Z",
     "iopub.status.idle": "2025-08-05T16:15:33.570889Z",
     "shell.execute_reply": "2025-08-05T16:15:33.569760Z"
    },
    "papermill": {
     "duration": 0.03922,
     "end_time": "2025-08-05T16:15:33.572721",
     "exception": false,
     "start_time": "2025-08-05T16:15:33.533501",
     "status": "completed"
    },
    "tags": []
   },
   "outputs": [
    {
     "data": {
      "text/plain": [
       "{'universe_id': ['12ef4eeb910ad56472244a2be83a4181'],\n",
       " 'universe_training_year': ['2014'],\n",
       " 'universe_training_size': ['1k'],\n",
       " 'universe_scale': ['do-not-scale'],\n",
       " 'universe_model': ['elasticnet'],\n",
       " 'universe_exclude_features': ['age'],\n",
       " 'universe_exclude_subgroups': ['drop-non-german'],\n",
       " 'q_hat': [0.6224221138693207],\n",
       " 'coverage': [0.91271876045034],\n",
       " 'avg_size': [1.2869468286701593]}"
      ]
     },
     "execution_count": 48,
     "metadata": {},
     "output_type": "execute_result"
    }
   ],
   "source": [
    "cp_metrics_dict"
   ]
  },
  {
   "cell_type": "code",
   "execution_count": 49,
   "id": "33007efc-14e9-4ec6-97ac-56a455c82265",
   "metadata": {
    "execution": {
     "iopub.execute_input": "2025-08-05T16:15:33.627899Z",
     "iopub.status.busy": "2025-08-05T16:15:33.627099Z",
     "iopub.status.idle": "2025-08-05T16:15:33.634584Z",
     "shell.execute_reply": "2025-08-05T16:15:33.633225Z"
    },
    "papermill": {
     "duration": 0.037495,
     "end_time": "2025-08-05T16:15:33.636610",
     "exception": false,
     "start_time": "2025-08-05T16:15:33.599115",
     "status": "completed"
    },
    "tags": []
   },
   "outputs": [],
   "source": [
    "cp_metrics_df = pd.DataFrame(cp_metrics_dict)"
   ]
  },
  {
   "cell_type": "code",
   "execution_count": 50,
   "id": "db12611b-57b2-4910-b9d0-355adfd6e7bf",
   "metadata": {
    "execution": {
     "iopub.execute_input": "2025-08-05T16:15:33.695246Z",
     "iopub.status.busy": "2025-08-05T16:15:33.694439Z",
     "iopub.status.idle": "2025-08-05T16:15:33.717057Z",
     "shell.execute_reply": "2025-08-05T16:15:33.715803Z"
    },
    "papermill": {
     "duration": 0.054909,
     "end_time": "2025-08-05T16:15:33.719190",
     "exception": false,
     "start_time": "2025-08-05T16:15:33.664281",
     "status": "completed"
    },
    "tags": []
   },
   "outputs": [
    {
     "data": {
      "text/html": [
       "<div>\n",
       "<style scoped>\n",
       "    .dataframe tbody tr th:only-of-type {\n",
       "        vertical-align: middle;\n",
       "    }\n",
       "\n",
       "    .dataframe tbody tr th {\n",
       "        vertical-align: top;\n",
       "    }\n",
       "\n",
       "    .dataframe thead th {\n",
       "        text-align: right;\n",
       "    }\n",
       "</style>\n",
       "<table border=\"1\" class=\"dataframe\">\n",
       "  <thead>\n",
       "    <tr style=\"text-align: right;\">\n",
       "      <th></th>\n",
       "      <th>universe_id</th>\n",
       "      <th>universe_training_year</th>\n",
       "      <th>universe_training_size</th>\n",
       "      <th>universe_scale</th>\n",
       "      <th>universe_model</th>\n",
       "      <th>universe_exclude_features</th>\n",
       "      <th>universe_exclude_subgroups</th>\n",
       "      <th>q_hat</th>\n",
       "      <th>coverage</th>\n",
       "      <th>avg_size</th>\n",
       "    </tr>\n",
       "  </thead>\n",
       "  <tbody>\n",
       "    <tr>\n",
       "      <th>0</th>\n",
       "      <td>12ef4eeb910ad56472244a2be83a4181</td>\n",
       "      <td>2014</td>\n",
       "      <td>1k</td>\n",
       "      <td>do-not-scale</td>\n",
       "      <td>elasticnet</td>\n",
       "      <td>age</td>\n",
       "      <td>drop-non-german</td>\n",
       "      <td>0.622422</td>\n",
       "      <td>0.912719</td>\n",
       "      <td>1.286947</td>\n",
       "    </tr>\n",
       "  </tbody>\n",
       "</table>\n",
       "</div>"
      ],
      "text/plain": [
       "                        universe_id universe_training_year  \\\n",
       "0  12ef4eeb910ad56472244a2be83a4181                   2014   \n",
       "\n",
       "  universe_training_size universe_scale universe_model  \\\n",
       "0                     1k   do-not-scale     elasticnet   \n",
       "\n",
       "  universe_exclude_features universe_exclude_subgroups     q_hat  coverage  \\\n",
       "0                       age            drop-non-german  0.622422  0.912719   \n",
       "\n",
       "   avg_size  \n",
       "0  1.286947  "
      ]
     },
     "execution_count": 50,
     "metadata": {},
     "output_type": "execute_result"
    }
   ],
   "source": [
    "cp_metrics_df"
   ]
  },
  {
   "cell_type": "code",
   "execution_count": 51,
   "id": "b7fbde55-a0a1-47e4-9af6-fe4a17fa8c61",
   "metadata": {
    "execution": {
     "iopub.execute_input": "2025-08-05T16:15:33.773569Z",
     "iopub.status.busy": "2025-08-05T16:15:33.772853Z",
     "iopub.status.idle": "2025-08-05T16:15:33.778452Z",
     "shell.execute_reply": "2025-08-05T16:15:33.777183Z"
    },
    "papermill": {
     "duration": 0.034055,
     "end_time": "2025-08-05T16:15:33.780350",
     "exception": false,
     "start_time": "2025-08-05T16:15:33.746295",
     "status": "completed"
    },
    "tags": []
   },
   "outputs": [],
   "source": [
    "# Conditional Coverage & looking at subgroups"
   ]
  },
  {
   "cell_type": "code",
   "execution_count": 52,
   "id": "027ae886-68dd-4141-96c7-805a5450e1ef",
   "metadata": {
    "execution": {
     "iopub.execute_input": "2025-08-05T16:15:33.835710Z",
     "iopub.status.busy": "2025-08-05T16:15:33.834824Z",
     "iopub.status.idle": "2025-08-05T16:15:34.154523Z",
     "shell.execute_reply": "2025-08-05T16:15:34.153323Z"
    },
    "papermill": {
     "duration": 0.349081,
     "end_time": "2025-08-05T16:15:34.156878",
     "exception": false,
     "start_time": "2025-08-05T16:15:33.807797",
     "status": "completed"
    },
    "tags": []
   },
   "outputs": [],
   "source": [
    "from fairness_multiverse.conformal import build_cp_groups\n",
    "\n",
    "cp_groups_df = build_cp_groups(pred_sets, y_true, X_test.index, org_test)\n",
    "#needs universe_id and setting"
   ]
  },
  {
   "cell_type": "code",
   "execution_count": 53,
   "id": "6cbdab96-b2b2-45af-ad54-d0516db2e28d",
   "metadata": {
    "execution": {
     "iopub.execute_input": "2025-08-05T16:15:34.213606Z",
     "iopub.status.busy": "2025-08-05T16:15:34.212801Z",
     "iopub.status.idle": "2025-08-05T16:15:36.644813Z",
     "shell.execute_reply": "2025-08-05T16:15:36.643596Z"
    },
    "papermill": {
     "duration": 2.463258,
     "end_time": "2025-08-05T16:15:36.647199",
     "exception": false,
     "start_time": "2025-08-05T16:15:34.183941",
     "status": "completed"
    },
    "tags": []
   },
   "outputs": [],
   "source": [
    "# Define covered = 1 if true_label is in the predicted set\n",
    "cp_groups_df['covered'] = cp_groups_df.apply(\n",
    "    lambda r: int(r['true_label'] in r['pred_set']),\n",
    "    axis=1\n",
    ")"
   ]
  },
  {
   "cell_type": "code",
   "execution_count": 54,
   "id": "338ff529-1a6b-4b87-a931-8e4788d52aad",
   "metadata": {
    "execution": {
     "iopub.execute_input": "2025-08-05T16:15:36.704433Z",
     "iopub.status.busy": "2025-08-05T16:15:36.703854Z",
     "iopub.status.idle": "2025-08-05T16:15:36.709644Z",
     "shell.execute_reply": "2025-08-05T16:15:36.708542Z"
    },
    "papermill": {
     "duration": 0.03584,
     "end_time": "2025-08-05T16:15:36.711635",
     "exception": false,
     "start_time": "2025-08-05T16:15:36.675795",
     "status": "completed"
    },
    "tags": []
   },
   "outputs": [],
   "source": [
    "#cp_groups_df"
   ]
  },
  {
   "cell_type": "code",
   "execution_count": 55,
   "id": "90032e27-66df-4540-9169-4e89cfbaa758",
   "metadata": {
    "execution": {
     "iopub.execute_input": "2025-08-05T16:15:36.767867Z",
     "iopub.status.busy": "2025-08-05T16:15:36.767401Z",
     "iopub.status.idle": "2025-08-05T16:15:36.779439Z",
     "shell.execute_reply": "2025-08-05T16:15:36.778531Z"
    },
    "papermill": {
     "duration": 0.042838,
     "end_time": "2025-08-05T16:15:36.781315",
     "exception": false,
     "start_time": "2025-08-05T16:15:36.738477",
     "status": "completed"
    },
    "tags": []
   },
   "outputs": [],
   "source": [
    "subgroups = ['frau1','nongerman','nongerman_male','nongerman_female']\n",
    "\n",
    "# Conditional coverage for subgroup==1\n",
    "cond_coverage = {\n",
    "    g: cp_groups_df.loc[cp_groups_df[g]==1, 'covered'].mean()\n",
    "    for g in subgroups\n",
    "}"
   ]
  },
  {
   "cell_type": "code",
   "execution_count": 56,
   "id": "1e348fb1-b9c3-45bc-ba23-f016827a7e0d",
   "metadata": {
    "execution": {
     "iopub.execute_input": "2025-08-05T16:15:36.844482Z",
     "iopub.status.busy": "2025-08-05T16:15:36.843837Z",
     "iopub.status.idle": "2025-08-05T16:15:36.850841Z",
     "shell.execute_reply": "2025-08-05T16:15:36.849727Z"
    },
    "papermill": {
     "duration": 0.04059,
     "end_time": "2025-08-05T16:15:36.852901",
     "exception": false,
     "start_time": "2025-08-05T16:15:36.812311",
     "status": "completed"
    },
    "tags": []
   },
   "outputs": [
    {
     "data": {
      "text/plain": [
       "{'frau1': 0.9118749157568405,\n",
       " 'nongerman': 0.9660360410935833,\n",
       " 'nongerman_male': 0.973160407097181,\n",
       " 'nongerman_female': 0.95424739195231}"
      ]
     },
     "execution_count": 56,
     "metadata": {},
     "output_type": "execute_result"
    }
   ],
   "source": [
    "cond_coverage"
   ]
  },
  {
   "cell_type": "code",
   "execution_count": 57,
   "id": "f5093324-c3dd-4d63-bc4c-8d945e5c8bbb",
   "metadata": {
    "execution": {
     "iopub.execute_input": "2025-08-05T16:15:36.916264Z",
     "iopub.status.busy": "2025-08-05T16:15:36.915355Z",
     "iopub.status.idle": "2025-08-05T16:15:36.923415Z",
     "shell.execute_reply": "2025-08-05T16:15:36.922308Z"
    },
    "papermill": {
     "duration": 0.041688,
     "end_time": "2025-08-05T16:15:36.925373",
     "exception": false,
     "start_time": "2025-08-05T16:15:36.883685",
     "status": "completed"
    },
    "tags": []
   },
   "outputs": [],
   "source": [
    "for subgroup, cov in cond_coverage.items():\n",
    "    cp_metrics_df[f\"cov_{subgroup}\"] = cov"
   ]
  },
  {
   "cell_type": "code",
   "execution_count": 58,
   "id": "6e872e10-dbe5-49e8-b554-5030c98ff75d",
   "metadata": {
    "execution": {
     "iopub.execute_input": "2025-08-05T16:15:36.990726Z",
     "iopub.status.busy": "2025-08-05T16:15:36.990210Z",
     "iopub.status.idle": "2025-08-05T16:15:37.015348Z",
     "shell.execute_reply": "2025-08-05T16:15:37.013909Z"
    },
    "papermill": {
     "duration": 0.061259,
     "end_time": "2025-08-05T16:15:37.017443",
     "exception": false,
     "start_time": "2025-08-05T16:15:36.956184",
     "status": "completed"
    },
    "tags": []
   },
   "outputs": [
    {
     "data": {
      "text/html": [
       "<div>\n",
       "<style scoped>\n",
       "    .dataframe tbody tr th:only-of-type {\n",
       "        vertical-align: middle;\n",
       "    }\n",
       "\n",
       "    .dataframe tbody tr th {\n",
       "        vertical-align: top;\n",
       "    }\n",
       "\n",
       "    .dataframe thead th {\n",
       "        text-align: right;\n",
       "    }\n",
       "</style>\n",
       "<table border=\"1\" class=\"dataframe\">\n",
       "  <thead>\n",
       "    <tr style=\"text-align: right;\">\n",
       "      <th></th>\n",
       "      <th>universe_id</th>\n",
       "      <th>universe_training_year</th>\n",
       "      <th>universe_training_size</th>\n",
       "      <th>universe_scale</th>\n",
       "      <th>universe_model</th>\n",
       "      <th>universe_exclude_features</th>\n",
       "      <th>universe_exclude_subgroups</th>\n",
       "      <th>q_hat</th>\n",
       "      <th>coverage</th>\n",
       "      <th>avg_size</th>\n",
       "      <th>cov_frau1</th>\n",
       "      <th>cov_nongerman</th>\n",
       "      <th>cov_nongerman_male</th>\n",
       "      <th>cov_nongerman_female</th>\n",
       "    </tr>\n",
       "  </thead>\n",
       "  <tbody>\n",
       "    <tr>\n",
       "      <th>0</th>\n",
       "      <td>12ef4eeb910ad56472244a2be83a4181</td>\n",
       "      <td>2014</td>\n",
       "      <td>1k</td>\n",
       "      <td>do-not-scale</td>\n",
       "      <td>elasticnet</td>\n",
       "      <td>age</td>\n",
       "      <td>drop-non-german</td>\n",
       "      <td>0.622422</td>\n",
       "      <td>0.912719</td>\n",
       "      <td>1.286947</td>\n",
       "      <td>0.911875</td>\n",
       "      <td>0.966036</td>\n",
       "      <td>0.97316</td>\n",
       "      <td>0.954247</td>\n",
       "    </tr>\n",
       "  </tbody>\n",
       "</table>\n",
       "</div>"
      ],
      "text/plain": [
       "                        universe_id universe_training_year  \\\n",
       "0  12ef4eeb910ad56472244a2be83a4181                   2014   \n",
       "\n",
       "  universe_training_size universe_scale universe_model  \\\n",
       "0                     1k   do-not-scale     elasticnet   \n",
       "\n",
       "  universe_exclude_features universe_exclude_subgroups     q_hat  coverage  \\\n",
       "0                       age            drop-non-german  0.622422  0.912719   \n",
       "\n",
       "   avg_size  cov_frau1  cov_nongerman  cov_nongerman_male  \\\n",
       "0  1.286947   0.911875       0.966036             0.97316   \n",
       "\n",
       "   cov_nongerman_female  \n",
       "0              0.954247  "
      ]
     },
     "execution_count": 58,
     "metadata": {},
     "output_type": "execute_result"
    }
   ],
   "source": [
    "cp_metrics_df"
   ]
  },
  {
   "cell_type": "markdown",
   "id": "33774451",
   "metadata": {
    "papermill": {
     "duration": 0.032046,
     "end_time": "2025-08-05T16:15:37.081699",
     "exception": false,
     "start_time": "2025-08-05T16:15:37.049653",
     "status": "completed"
    },
    "tags": []
   },
   "source": [
    "# (Fairness) Metrics"
   ]
  },
  {
   "cell_type": "code",
   "execution_count": 59,
   "id": "debc5d62",
   "metadata": {
    "execution": {
     "iopub.execute_input": "2025-08-05T16:15:37.149044Z",
     "iopub.status.busy": "2025-08-05T16:15:37.147816Z",
     "iopub.status.idle": "2025-08-05T16:15:37.174563Z",
     "shell.execute_reply": "2025-08-05T16:15:37.173185Z"
    },
    "papermill": {
     "duration": 0.062863,
     "end_time": "2025-08-05T16:15:37.177132",
     "exception": false,
     "start_time": "2025-08-05T16:15:37.114269",
     "status": "completed"
    },
    "tags": []
   },
   "outputs": [],
   "source": [
    "# do I need to include maxdeutsch1.missing?\n",
    "\n",
    "import numpy as np\n",
    "\n",
    "colname_to_bin = \"maxdeutsch1\"\n",
    "majority_value = org_train[colname_to_bin].mode()[0]\n",
    "\n",
    "org_test[\"majmin\"] = np.where(org_test[colname_to_bin] == majority_value, \"majority\", \"minority\")"
   ]
  },
  {
   "cell_type": "code",
   "execution_count": 60,
   "id": "06a50de5",
   "metadata": {
    "execution": {
     "iopub.execute_input": "2025-08-05T16:15:37.247873Z",
     "iopub.status.busy": "2025-08-05T16:15:37.246636Z",
     "iopub.status.idle": "2025-08-05T16:15:40.298781Z",
     "shell.execute_reply": "2025-08-05T16:15:40.297366Z"
    },
    "papermill": {
     "duration": 3.089923,
     "end_time": "2025-08-05T16:15:40.301359",
     "exception": false,
     "start_time": "2025-08-05T16:15:37.211436",
     "status": "completed"
    },
    "tags": []
   },
   "outputs": [],
   "source": [
    "example_universe = universe.copy()\n",
    "example_universe[\"cutoff\"] = example_universe[\"cutoff\"][0]\n",
    "example_universe[\"eval_fairness_grouping\"] = example_universe[\"eval_fairness_grouping\"][0]\n",
    "fairness_dict, metric_frame = universe_analysis.compute_metrics(\n",
    "    example_universe,\n",
    "    y_pred_prob=probs_test,\n",
    "    y_test=y_true,\n",
    "    org_test=org_test,\n",
    ")"
   ]
  },
  {
   "cell_type": "markdown",
   "id": "f95d4e02",
   "metadata": {
    "papermill": {
     "duration": 0.027858,
     "end_time": "2025-08-05T16:15:40.358861",
     "exception": false,
     "start_time": "2025-08-05T16:15:40.331003",
     "status": "completed"
    },
    "tags": []
   },
   "source": [
    "# Overall"
   ]
  },
  {
   "cell_type": "markdown",
   "id": "bdee4871",
   "metadata": {
    "papermill": {
     "duration": 0.029038,
     "end_time": "2025-08-05T16:15:40.416067",
     "exception": false,
     "start_time": "2025-08-05T16:15:40.387029",
     "status": "completed"
    },
    "tags": []
   },
   "source": [
    "Fairness\n",
    "Main fairness target: Equalized Odds. Seems to be a better fit than equal opportunity, since we're not only interested in Y = 1. Seems to be a better fit than demographic parity, since we also care about accuracy, not just equal distribution of preds.\n",
    "\n",
    "Pick column for computation of fairness metrics\n",
    "\n",
    "Performance\n",
    "Overall performance measures, most interesting in relation to the measures split by group below"
   ]
  },
  {
   "cell_type": "code",
   "execution_count": 61,
   "id": "c4e067c6",
   "metadata": {
    "execution": {
     "iopub.execute_input": "2025-08-05T16:15:40.473029Z",
     "iopub.status.busy": "2025-08-05T16:15:40.472407Z",
     "iopub.status.idle": "2025-08-05T16:15:40.483531Z",
     "shell.execute_reply": "2025-08-05T16:15:40.482389Z"
    },
    "papermill": {
     "duration": 0.042093,
     "end_time": "2025-08-05T16:15:40.485436",
     "exception": false,
     "start_time": "2025-08-05T16:15:40.443343",
     "status": "completed"
    },
    "tags": []
   },
   "outputs": [
    {
     "data": {
      "text/plain": [
       "accuracy                   0.212496\n",
       "balanced accuracy          0.522070\n",
       "f1                         0.234154\n",
       "precision                  0.133764\n",
       "false positive rate        0.894338\n",
       "false negative rate        0.061522\n",
       "selection rate             0.900000\n",
       "count                  89710.000000\n",
       "dtype: float64"
      ]
     },
     "execution_count": 61,
     "metadata": {},
     "output_type": "execute_result"
    }
   ],
   "source": [
    "metric_frame.overall"
   ]
  },
  {
   "cell_type": "markdown",
   "id": "e968fe9d",
   "metadata": {
    "papermill": {
     "duration": 0.02783,
     "end_time": "2025-08-05T16:15:40.542356",
     "exception": false,
     "start_time": "2025-08-05T16:15:40.514526",
     "status": "completed"
    },
    "tags": []
   },
   "source": [
    "By Group"
   ]
  },
  {
   "cell_type": "code",
   "execution_count": 62,
   "id": "ec325bce",
   "metadata": {
    "execution": {
     "iopub.execute_input": "2025-08-05T16:15:40.601569Z",
     "iopub.status.busy": "2025-08-05T16:15:40.600932Z",
     "iopub.status.idle": "2025-08-05T16:15:40.619913Z",
     "shell.execute_reply": "2025-08-05T16:15:40.618808Z"
    },
    "papermill": {
     "duration": 0.050524,
     "end_time": "2025-08-05T16:15:40.621888",
     "exception": false,
     "start_time": "2025-08-05T16:15:40.571364",
     "status": "completed"
    },
    "tags": []
   },
   "outputs": [
    {
     "data": {
      "text/html": [
       "<div>\n",
       "<style scoped>\n",
       "    .dataframe tbody tr th:only-of-type {\n",
       "        vertical-align: middle;\n",
       "    }\n",
       "\n",
       "    .dataframe tbody tr th {\n",
       "        vertical-align: top;\n",
       "    }\n",
       "\n",
       "    .dataframe thead th {\n",
       "        text-align: right;\n",
       "    }\n",
       "</style>\n",
       "<table border=\"1\" class=\"dataframe\">\n",
       "  <thead>\n",
       "    <tr style=\"text-align: right;\">\n",
       "      <th></th>\n",
       "      <th>accuracy</th>\n",
       "      <th>balanced accuracy</th>\n",
       "      <th>f1</th>\n",
       "      <th>precision</th>\n",
       "      <th>false positive rate</th>\n",
       "      <th>false negative rate</th>\n",
       "      <th>selection rate</th>\n",
       "      <th>count</th>\n",
       "    </tr>\n",
       "    <tr>\n",
       "      <th>majmin</th>\n",
       "      <th></th>\n",
       "      <th></th>\n",
       "      <th></th>\n",
       "      <th></th>\n",
       "      <th></th>\n",
       "      <th></th>\n",
       "      <th></th>\n",
       "      <th></th>\n",
       "    </tr>\n",
       "  </thead>\n",
       "  <tbody>\n",
       "    <tr>\n",
       "      <th>majority</th>\n",
       "      <td>0.232586</td>\n",
       "      <td>0.527913</td>\n",
       "      <td>0.242443</td>\n",
       "      <td>0.139406</td>\n",
       "      <td>0.873497</td>\n",
       "      <td>0.070678</td>\n",
       "      <td>0.880873</td>\n",
       "      <td>69170.0</td>\n",
       "    </tr>\n",
       "    <tr>\n",
       "      <th>minority</th>\n",
       "      <td>0.144839</td>\n",
       "      <td>0.505316</td>\n",
       "      <td>0.207963</td>\n",
       "      <td>0.116412</td>\n",
       "      <td>0.963185</td>\n",
       "      <td>0.026182</td>\n",
       "      <td>0.964411</td>\n",
       "      <td>20540.0</td>\n",
       "    </tr>\n",
       "  </tbody>\n",
       "</table>\n",
       "</div>"
      ],
      "text/plain": [
       "          accuracy  balanced accuracy        f1  precision  \\\n",
       "majmin                                                       \n",
       "majority  0.232586           0.527913  0.242443   0.139406   \n",
       "minority  0.144839           0.505316  0.207963   0.116412   \n",
       "\n",
       "          false positive rate  false negative rate  selection rate    count  \n",
       "majmin                                                                       \n",
       "majority             0.873497             0.070678        0.880873  69170.0  \n",
       "minority             0.963185             0.026182        0.964411  20540.0  "
      ]
     },
     "execution_count": 62,
     "metadata": {},
     "output_type": "execute_result"
    }
   ],
   "source": [
    "metric_frame.by_group"
   ]
  },
  {
   "cell_type": "code",
   "execution_count": 63,
   "id": "a9ddbe63",
   "metadata": {
    "execution": {
     "iopub.execute_input": "2025-08-05T16:15:40.683653Z",
     "iopub.status.busy": "2025-08-05T16:15:40.682932Z",
     "iopub.status.idle": "2025-08-05T16:15:43.692491Z",
     "shell.execute_reply": "2025-08-05T16:15:43.691289Z"
    },
    "papermill": {
     "duration": 3.042202,
     "end_time": "2025-08-05T16:15:43.694390",
     "exception": false,
     "start_time": "2025-08-05T16:15:40.652188",
     "status": "completed"
    },
    "tags": []
   },
   "outputs": [
    {
     "data": {
      "text/plain": [
       "array([[<Axes: title={'center': 'accuracy'}, xlabel='majmin'>,\n",
       "        <Axes: title={'center': 'balanced accuracy'}, xlabel='majmin'>,\n",
       "        <Axes: title={'center': 'f1'}, xlabel='majmin'>],\n",
       "       [<Axes: title={'center': 'precision'}, xlabel='majmin'>,\n",
       "        <Axes: title={'center': 'false positive rate'}, xlabel='majmin'>,\n",
       "        <Axes: title={'center': 'false negative rate'}, xlabel='majmin'>],\n",
       "       [<Axes: title={'center': 'selection rate'}, xlabel='majmin'>,\n",
       "        <Axes: title={'center': 'count'}, xlabel='majmin'>,\n",
       "        <Axes: xlabel='majmin'>]], dtype=object)"
      ]
     },
     "execution_count": 63,
     "metadata": {},
     "output_type": "execute_result"
    },
    {
     "data": {
      "image/png": "[encoded data removed]",
      "text/plain": [
       "<Figure size 1200x800 with 9 Axes>"
      ]
     },
     "metadata": {},
     "output_type": "display_data"
    }
   ],
   "source": [
    "# In a graphic\n",
    "metric_frame.by_group.plot.bar(\n",
    "    subplots=True,\n",
    "    layout=[3, 3],\n",
    "    legend=False,\n",
    "    figsize=[12, 8],\n",
    "    title=\"Show all metrics\",\n",
    ")"
   ]
  },
  {
   "cell_type": "markdown",
   "id": "f57a0bac",
   "metadata": {
    "papermill": {
     "duration": 0.031116,
     "end_time": "2025-08-05T16:15:43.756430",
     "exception": false,
     "start_time": "2025-08-05T16:15:43.725314",
     "status": "completed"
    },
    "tags": []
   },
   "source": [
    "# Final Output"
   ]
  },
  {
   "cell_type": "code",
   "execution_count": 64,
   "id": "96d280a3",
   "metadata": {
    "execution": {
     "iopub.execute_input": "2025-08-05T16:15:43.818822Z",
     "iopub.status.busy": "2025-08-05T16:15:43.818016Z",
     "iopub.status.idle": "2025-08-05T16:15:43.828106Z",
     "shell.execute_reply": "2025-08-05T16:15:43.826939Z"
    },
    "papermill": {
     "duration": 0.043934,
     "end_time": "2025-08-05T16:15:43.830104",
     "exception": false,
     "start_time": "2025-08-05T16:15:43.786170",
     "status": "completed"
    },
    "tags": []
   },
   "outputs": [
    {
     "data": {
      "text/plain": [
       "4"
      ]
     },
     "execution_count": 64,
     "metadata": {},
     "output_type": "execute_result"
    }
   ],
   "source": [
    "sub_universes = universe_analysis.generate_sub_universes()\n",
    "len(sub_universes)"
   ]
  },
  {
   "cell_type": "code",
   "execution_count": 65,
   "id": "92adf7ba",
   "metadata": {
    "execution": {
     "iopub.execute_input": "2025-08-05T16:15:43.893140Z",
     "iopub.status.busy": "2025-08-05T16:15:43.892398Z",
     "iopub.status.idle": "2025-08-05T16:15:43.900234Z",
     "shell.execute_reply": "2025-08-05T16:15:43.898876Z"
    },
    "papermill": {
     "duration": 0.041947,
     "end_time": "2025-08-05T16:15:43.902403",
     "exception": false,
     "start_time": "2025-08-05T16:15:43.860456",
     "status": "completed"
    },
    "tags": []
   },
   "outputs": [],
   "source": [
    "def filter_sub_universe_data(sub_universe, org_test):\n",
    "    # Keep all rows — no filtering\n",
    "    keep_rows_mask = np.ones(org_test.shape[0], dtype=bool)\n",
    "\n",
    "    print(f\"[INFO] Keeping all rows: {keep_rows_mask.sum()} rows retained.\")\n",
    "    return keep_rows_mask"
   ]
  },
  {
   "cell_type": "code",
   "execution_count": 66,
   "id": "4a759155",
   "metadata": {
    "execution": {
     "iopub.execute_input": "2025-08-05T16:15:43.965564Z",
     "iopub.status.busy": "2025-08-05T16:15:43.964954Z",
     "iopub.status.idle": "2025-08-05T16:15:56.390873Z",
     "shell.execute_reply": "2025-08-05T16:15:56.389457Z"
    },
    "papermill": {
     "duration": 12.458957,
     "end_time": "2025-08-05T16:15:56.392856",
     "exception": false,
     "start_time": "2025-08-05T16:15:43.933899",
     "status": "completed"
    },
    "tags": []
   },
   "outputs": [
    {
     "name": "stdout",
     "output_type": "stream",
     "text": [
      "Stopping execution_time clock.\n",
      "[INFO] Keeping all rows: 89710 rows retained.\n"
     ]
    },
    {
     "name": "stdout",
     "output_type": "stream",
     "text": [
      "[INFO] Keeping all rows: 89710 rows retained.\n"
     ]
    },
    {
     "name": "stdout",
     "output_type": "stream",
     "text": [
      "[INFO] Keeping all rows: 89710 rows retained.\n"
     ]
    },
    {
     "name": "stdout",
     "output_type": "stream",
     "text": [
      "[INFO] Keeping all rows: 89710 rows retained.\n"
     ]
    },
    {
     "data": {
      "text/html": [
       "<div>\n",
       "<style scoped>\n",
       "    .dataframe tbody tr th:only-of-type {\n",
       "        vertical-align: middle;\n",
       "    }\n",
       "\n",
       "    .dataframe tbody tr th {\n",
       "        vertical-align: top;\n",
       "    }\n",
       "\n",
       "    .dataframe thead th {\n",
       "        text-align: right;\n",
       "    }\n",
       "</style>\n",
       "<table border=\"1\" class=\"dataframe\">\n",
       "  <thead>\n",
       "    <tr style=\"text-align: right;\">\n",
       "      <th></th>\n",
       "      <th>run_no</th>\n",
       "      <th>universe_id</th>\n",
       "      <th>universe_settings</th>\n",
       "      <th>execution_time</th>\n",
       "      <th>test_size_n</th>\n",
       "      <th>test_size_frac</th>\n",
       "      <th>fair_main_equalized_odds_difference</th>\n",
       "      <th>fair_main_equalized_odds_ratio</th>\n",
       "      <th>fair_main_demographic_parity_difference</th>\n",
       "      <th>fair_main_demographic_parity_ratio</th>\n",
       "      <th>...</th>\n",
       "      <th>perf_grp_precision_0</th>\n",
       "      <th>perf_grp_precision_1</th>\n",
       "      <th>perf_grp_false positive rate_0</th>\n",
       "      <th>perf_grp_false positive rate_1</th>\n",
       "      <th>perf_grp_false negative rate_0</th>\n",
       "      <th>perf_grp_false negative rate_1</th>\n",
       "      <th>perf_grp_selection rate_0</th>\n",
       "      <th>perf_grp_selection rate_1</th>\n",
       "      <th>perf_grp_count_0</th>\n",
       "      <th>perf_grp_count_1</th>\n",
       "    </tr>\n",
       "  </thead>\n",
       "  <tbody>\n",
       "    <tr>\n",
       "      <th>0</th>\n",
       "      <td>15</td>\n",
       "      <td>12ef4eeb910ad56472244a2be83a4181</td>\n",
       "      <td>{\"cutoff\": \"quantile_0.1\", \"eval_fairness_grou...</td>\n",
       "      <td>29.23541</td>\n",
       "      <td>89710</td>\n",
       "      <td>1.0</td>\n",
       "      <td>0.089689</td>\n",
       "      <td>0.906883</td>\n",
       "      <td>0.083538</td>\n",
       "      <td>0.913380</td>\n",
       "      <td>...</td>\n",
       "      <td>NaN</td>\n",
       "      <td>NaN</td>\n",
       "      <td>NaN</td>\n",
       "      <td>NaN</td>\n",
       "      <td>NaN</td>\n",
       "      <td>NaN</td>\n",
       "      <td>NaN</td>\n",
       "      <td>NaN</td>\n",
       "      <td>NaN</td>\n",
       "      <td>NaN</td>\n",
       "    </tr>\n",
       "    <tr>\n",
       "      <th>0</th>\n",
       "      <td>15</td>\n",
       "      <td>12ef4eeb910ad56472244a2be83a4181</td>\n",
       "      <td>{\"cutoff\": \"quantile_0.1\", \"eval_fairness_grou...</td>\n",
       "      <td>29.23541</td>\n",
       "      <td>89710</td>\n",
       "      <td>1.0</td>\n",
       "      <td>0.089689</td>\n",
       "      <td>0.906883</td>\n",
       "      <td>0.083538</td>\n",
       "      <td>0.913380</td>\n",
       "      <td>...</td>\n",
       "      <td>0.116412</td>\n",
       "      <td>0.139406</td>\n",
       "      <td>0.963185</td>\n",
       "      <td>0.873497</td>\n",
       "      <td>0.026182</td>\n",
       "      <td>0.070678</td>\n",
       "      <td>0.964411</td>\n",
       "      <td>0.880873</td>\n",
       "      <td>20540.0</td>\n",
       "      <td>69170.0</td>\n",
       "    </tr>\n",
       "    <tr>\n",
       "      <th>0</th>\n",
       "      <td>15</td>\n",
       "      <td>12ef4eeb910ad56472244a2be83a4181</td>\n",
       "      <td>{\"cutoff\": \"quantile_0.25\", \"eval_fairness_gro...</td>\n",
       "      <td>29.23541</td>\n",
       "      <td>89710</td>\n",
       "      <td>1.0</td>\n",
       "      <td>0.218833</td>\n",
       "      <td>0.758553</td>\n",
       "      <td>0.205789</td>\n",
       "      <td>0.773526</td>\n",
       "      <td>...</td>\n",
       "      <td>NaN</td>\n",
       "      <td>NaN</td>\n",
       "      <td>NaN</td>\n",
       "      <td>NaN</td>\n",
       "      <td>NaN</td>\n",
       "      <td>NaN</td>\n",
       "      <td>NaN</td>\n",
       "      <td>NaN</td>\n",
       "      <td>NaN</td>\n",
       "      <td>NaN</td>\n",
       "    </tr>\n",
       "    <tr>\n",
       "      <th>0</th>\n",
       "      <td>15</td>\n",
       "      <td>12ef4eeb910ad56472244a2be83a4181</td>\n",
       "      <td>{\"cutoff\": \"quantile_0.25\", \"eval_fairness_gro...</td>\n",
       "      <td>29.23541</td>\n",
       "      <td>89710</td>\n",
       "      <td>1.0</td>\n",
       "      <td>0.218833</td>\n",
       "      <td>0.758553</td>\n",
       "      <td>0.205789</td>\n",
       "      <td>0.773526</td>\n",
       "      <td>...</td>\n",
       "      <td>0.117553</td>\n",
       "      <td>0.151117</td>\n",
       "      <td>0.906339</td>\n",
       "      <td>0.687506</td>\n",
       "      <td>0.073480</td>\n",
       "      <td>0.196171</td>\n",
       "      <td>0.908666</td>\n",
       "      <td>0.702877</td>\n",
       "      <td>20540.0</td>\n",
       "      <td>69170.0</td>\n",
       "    </tr>\n",
       "  </tbody>\n",
       "</table>\n",
       "<p>4 rows × 50 columns</p>\n",
       "</div>"
      ],
      "text/plain": [
       "  run_no                       universe_id  \\\n",
       "0     15  12ef4eeb910ad56472244a2be83a4181   \n",
       "0     15  12ef4eeb910ad56472244a2be83a4181   \n",
       "0     15  12ef4eeb910ad56472244a2be83a4181   \n",
       "0     15  12ef4eeb910ad56472244a2be83a4181   \n",
       "\n",
       "                                   universe_settings  execution_time  \\\n",
       "0  {\"cutoff\": \"quantile_0.1\", \"eval_fairness_grou...        29.23541   \n",
       "0  {\"cutoff\": \"quantile_0.1\", \"eval_fairness_grou...        29.23541   \n",
       "0  {\"cutoff\": \"quantile_0.25\", \"eval_fairness_gro...        29.23541   \n",
       "0  {\"cutoff\": \"quantile_0.25\", \"eval_fairness_gro...        29.23541   \n",
       "\n",
       "   test_size_n  test_size_frac  fair_main_equalized_odds_difference  \\\n",
       "0        89710             1.0                             0.089689   \n",
       "0        89710             1.0                             0.089689   \n",
       "0        89710             1.0                             0.218833   \n",
       "0        89710             1.0                             0.218833   \n",
       "\n",
       "   fair_main_equalized_odds_ratio  fair_main_demographic_parity_difference  \\\n",
       "0                        0.906883                                 0.083538   \n",
       "0                        0.906883                                 0.083538   \n",
       "0                        0.758553                                 0.205789   \n",
       "0                        0.758553                                 0.205789   \n",
       "\n",
       "   fair_main_demographic_parity_ratio  ...  perf_grp_precision_0  \\\n",
       "0                            0.913380  ...                   NaN   \n",
       "0                            0.913380  ...              0.116412   \n",
       "0                            0.773526  ...                   NaN   \n",
       "0                            0.773526  ...              0.117553   \n",
       "\n",
       "   perf_grp_precision_1  perf_grp_false positive rate_0  \\\n",
       "0                   NaN                             NaN   \n",
       "0              0.139406                        0.963185   \n",
       "0                   NaN                             NaN   \n",
       "0              0.151117                        0.906339   \n",
       "\n",
       "   perf_grp_false positive rate_1  perf_grp_false negative rate_0  \\\n",
       "0                             NaN                             NaN   \n",
       "0                        0.873497                        0.026182   \n",
       "0                             NaN                             NaN   \n",
       "0                        0.687506                        0.073480   \n",
       "\n",
       "   perf_grp_false negative rate_1  perf_grp_selection rate_0  \\\n",
       "0                             NaN                        NaN   \n",
       "0                        0.070678                   0.964411   \n",
       "0                             NaN                        NaN   \n",
       "0                        0.196171                   0.908666   \n",
       "\n",
       "   perf_grp_selection rate_1  perf_grp_count_0  perf_grp_count_1  \n",
       "0                        NaN               NaN               NaN  \n",
       "0                   0.880873           20540.0           69170.0  \n",
       "0                        NaN               NaN               NaN  \n",
       "0                   0.702877           20540.0           69170.0  \n",
       "\n",
       "[4 rows x 50 columns]"
      ]
     },
     "execution_count": 66,
     "metadata": {},
     "output_type": "execute_result"
    }
   ],
   "source": [
    "final_output = universe_analysis.generate_final_output(\n",
    "    y_pred_prob=probs_test,\n",
    "    y_test=y_true,\n",
    "    org_test=org_test,\n",
    "    filter_data=filter_sub_universe_data,\n",
    "    cp_metrics_df=cp_metrics_df,\n",
    "    save=True,\n",
    ")\n",
    "final_output"
   ]
  }
 ],
 "metadata": {
  "celltoolbar": "Tags",
  "kernelspec": {
   "display_name": "Python (CMA Fairness)",
   "language": "python",
   "name": "cma_fair_env"
  },
  "language_info": {
   "codemirror_mode": {
    "name": "ipython",
    "version": 3
   },
   "file_extension": ".py",
   "mimetype": "text/x-python",
   "name": "python",
   "nbconvert_exporter": "python",
   "pygments_lexer": "ipython3",
   "version": "3.10.12"
  },
  "papermill": {
   "default_parameters": {},
   "duration": 46.581144,
   "end_time": "2025-08-05T16:15:57.259493",
   "environment_variables": {},
   "exception": null,
   "input_path": "universe_analysis.ipynb",
   "output_path": "output/runs/15/notebooks/m_15-12ef4eeb910ad56472244a2be83a4181.ipynb",
   "parameters": {
    "output_dir": "output",
    "run_no": "15",
    "seed": "2023",
    "universe": "{\"cutoff\": [\"quantile_0.1\", \"quantile_0.25\"], \"eval_fairness_grouping\": [\"majority-minority\", \"nationality-all\"], \"exclude_features\": \"age\", \"exclude_subgroups\": \"drop-non-german\", \"model\": \"elasticnet\", \"scale\": \"do-not-scale\", \"training_size\": \"1k\", \"training_year\": \"2014\"}",
    "universe_id": "12ef4eeb910ad56472244a2be83a4181"
   },
   "start_time": "2025-08-05T16:15:10.678349",
   "version": "2.6.0"
  }
 },
 "nbformat": 4,
 "nbformat_minor": 5
}