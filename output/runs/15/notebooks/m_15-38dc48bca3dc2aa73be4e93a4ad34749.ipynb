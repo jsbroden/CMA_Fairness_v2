{
 "cells": [
  {
   "cell_type": "code",
   "execution_count": 1,
   "id": "f159f837-637b-42ba-96b5-ec9a68c44524",
   "metadata": {
    "execution": {
     "iopub.execute_input": "2025-08-05T16:27:17.001419Z",
     "iopub.status.busy": "2025-08-05T16:27:17.001060Z",
     "iopub.status.idle": "2025-08-05T16:27:17.012817Z",
     "shell.execute_reply": "2025-08-05T16:27:17.011726Z"
    },
    "papermill": {
     "duration": 0.025092,
     "end_time": "2025-08-05T16:27:17.014315",
     "exception": false,
     "start_time": "2025-08-05T16:27:16.989223",
     "status": "completed"
    },
    "tags": []
   },
   "outputs": [
    {
     "name": "stdout",
     "output_type": "stream",
     "text": [
      "/dss/dsshome1/0C/ra93lal2/cma/CMA_Fairness_v2\n"
     ]
    },
    {
     "name": "stderr",
     "output_type": "stream",
     "text": [
      "/dss/dsshome1/0C/ra93lal2/.local/share/virtualenvs/CMA_Fairness_v2-3j10GkSs/lib/python3.10/site-packages/IPython/core/magics/osm.py:393: UserWarning: This is now an optional IPython functionality, using bookmarks requires you to install the `pickleshare` library.\n",
      "  bkms = self.shell.db.get('bookmarks', {})\n",
      "/dss/dsshome1/0C/ra93lal2/.local/share/virtualenvs/CMA_Fairness_v2-3j10GkSs/lib/python3.10/site-packages/IPython/core/magics/osm.py:417: UserWarning: This is now an optional IPython functionality, setting dhist requires you to install the `pickleshare` library.\n",
      "  self.shell.db['dhist'] = compress_dhist(dhist)[-100:]\n"
     ]
    }
   ],
   "source": [
    "%cd ~/cma/CMA_Fairness_v2"
   ]
  },
  {
   "cell_type": "markdown",
   "id": "de2603b9",
   "metadata": {
    "papermill": {
     "duration": 0.01,
     "end_time": "2025-08-05T16:27:17.034720",
     "exception": false,
     "start_time": "2025-08-05T16:27:17.024720",
     "status": "completed"
    },
    "tags": []
   },
   "source": [
    "The following cell holds the definition of our parameters, these values can be overriden by rendering the with e.g. the following command:\n",
    "\n",
    "papermill -p alpha 0.2 -p ratio 0.3 universe_analysis.ipynb output/test_run.ipynb"
   ]
  },
  {
   "cell_type": "code",
   "execution_count": 2,
   "id": "a80968a0-40bb-4fa9-85ef-2d5eefb01975",
   "metadata": {
    "execution": {
     "iopub.execute_input": "2025-08-05T16:27:17.056355Z",
     "iopub.status.busy": "2025-08-05T16:27:17.055664Z",
     "iopub.status.idle": "2025-08-05T16:27:17.060790Z",
     "shell.execute_reply": "2025-08-05T16:27:17.059841Z"
    },
    "papermill": {
     "duration": 0.017473,
     "end_time": "2025-08-05T16:27:17.062281",
     "exception": false,
     "start_time": "2025-08-05T16:27:17.044808",
     "status": "completed"
    },
    "tags": []
   },
   "outputs": [
    {
     "name": "stdout",
     "output_type": "stream",
     "text": [
      "Current working directory: /dss/dsshome1/0C/ra93lal2/cma/CMA_Fairness_v2\n"
     ]
    }
   ],
   "source": [
    "import os\n",
    "print(\"Current working directory:\", os.getcwd())"
   ]
  },
  {
   "cell_type": "code",
   "execution_count": 3,
   "id": "2dce4c03",
   "metadata": {
    "execution": {
     "iopub.execute_input": "2025-08-05T16:27:17.084214Z",
     "iopub.status.busy": "2025-08-05T16:27:17.083672Z",
     "iopub.status.idle": "2025-08-05T16:27:17.089237Z",
     "shell.execute_reply": "2025-08-05T16:27:17.088439Z"
    },
    "papermill": {
     "duration": 0.018031,
     "end_time": "2025-08-05T16:27:17.090687",
     "exception": false,
     "start_time": "2025-08-05T16:27:17.072656",
     "status": "completed"
    },
    "tags": [
     "parameters"
    ]
   },
   "outputs": [],
   "source": [
    "run_no = 0\n",
    "universe_id = \"test\"\n",
    "universe = {\n",
    "    \"training_size\": \"25k\", # \"25k\", \"5k\", \"1k\"\n",
    "    \"training_year\": \"2014\", # \"2014\", \"2012_14\", \"2010_14\"\n",
    "    \"scale\": \"scale\", # \"scale\", \"do-not-scale\",\n",
    "    \"model\": \"elasticnet\", # \"logreg\", \"penalized_logreg\", \"rf\", \"gbm\", \"elasticnet\"\n",
    "    \"cutoff\": [\"quantile_0.15\", \"quantile_0.30\"],\n",
    "    \"exclude_features\": \"age\", # \"none\", \"nationality\", \"sex\", \"nationality-sex\", \"age\"\n",
    "    \"exclude_subgroups\": \"keep-all\", # \"keep-all\", \"drop-non-german\"\n",
    "    \"eval_fairness_grouping\": [\"majority-minority\", \"nationality-all\"]\n",
    "}\n",
    "\n",
    "output_dir=\"./output\"\n",
    "seed=0"
   ]
  },
  {
   "cell_type": "code",
   "execution_count": 4,
   "id": "85adf95f",
   "metadata": {
    "execution": {
     "iopub.execute_input": "2025-08-05T16:27:17.112939Z",
     "iopub.status.busy": "2025-08-05T16:27:17.112344Z",
     "iopub.status.idle": "2025-08-05T16:27:17.117596Z",
     "shell.execute_reply": "2025-08-05T16:27:17.116622Z"
    },
    "papermill": {
     "duration": 0.017709,
     "end_time": "2025-08-05T16:27:17.119068",
     "exception": false,
     "start_time": "2025-08-05T16:27:17.101359",
     "status": "completed"
    },
    "tags": [
     "injected-parameters"
    ]
   },
   "outputs": [],
   "source": [
    "# Parameters\n",
    "universe_id = \"38dc48bca3dc2aa73be4e93a4ad34749\"\n",
    "run_no = \"15\"\n",
    "universe = \"{\\\"cutoff\\\": [\\\"quantile_0.1\\\", \\\"quantile_0.25\\\"], \\\"eval_fairness_grouping\\\": [\\\"majority-minority\\\", \\\"nationality-all\\\"], \\\"exclude_features\\\": \\\"nationality-sex\\\", \\\"exclude_subgroups\\\": \\\"drop-non-german\\\", \\\"model\\\": \\\"rf\\\", \\\"scale\\\": \\\"do-not-scale\\\", \\\"training_size\\\": \\\"1k\\\", \\\"training_year\\\": \\\"2012_14\\\"}\"\n",
    "output_dir = \"output\"\n",
    "seed = \"2023\"\n"
   ]
  },
  {
   "cell_type": "code",
   "execution_count": 5,
   "id": "1650acaf",
   "metadata": {
    "execution": {
     "iopub.execute_input": "2025-08-05T16:27:17.141132Z",
     "iopub.status.busy": "2025-08-05T16:27:17.140868Z",
     "iopub.status.idle": "2025-08-05T16:27:17.145067Z",
     "shell.execute_reply": "2025-08-05T16:27:17.144125Z"
    },
    "papermill": {
     "duration": 0.017127,
     "end_time": "2025-08-05T16:27:17.146860",
     "exception": false,
     "start_time": "2025-08-05T16:27:17.129733",
     "status": "completed"
    },
    "tags": []
   },
   "outputs": [],
   "source": [
    "import json\n",
    "if isinstance(universe, str):\n",
    "    universe = json.loads(universe)"
   ]
  },
  {
   "cell_type": "code",
   "execution_count": 6,
   "id": "16620c48",
   "metadata": {
    "execution": {
     "iopub.execute_input": "2025-08-05T16:27:17.181740Z",
     "iopub.status.busy": "2025-08-05T16:27:17.180771Z",
     "iopub.status.idle": "2025-08-05T16:27:17.235975Z",
     "shell.execute_reply": "2025-08-05T16:27:17.234837Z"
    },
    "papermill": {
     "duration": 0.07531,
     "end_time": "2025-08-05T16:27:17.238387",
     "exception": false,
     "start_time": "2025-08-05T16:27:17.163077",
     "status": "completed"
    },
    "tags": []
   },
   "outputs": [],
   "source": [
    "# Auto-reload the custom package\n",
    "%load_ext autoreload\n",
    "%autoreload 1\n",
    "%aimport fairness_multiverse"
   ]
  },
  {
   "cell_type": "code",
   "execution_count": 7,
   "id": "01c5c9f3",
   "metadata": {
    "execution": {
     "iopub.execute_input": "2025-08-05T16:27:17.281755Z",
     "iopub.status.busy": "2025-08-05T16:27:17.281337Z",
     "iopub.status.idle": "2025-08-05T16:27:19.277494Z",
     "shell.execute_reply": "2025-08-05T16:27:19.276507Z"
    },
    "papermill": {
     "duration": 2.019195,
     "end_time": "2025-08-05T16:27:19.279318",
     "exception": false,
     "start_time": "2025-08-05T16:27:17.260123",
     "status": "completed"
    },
    "tags": []
   },
   "outputs": [],
   "source": [
    "from fairness_multiverse.universe import UniverseAnalysis\n",
    "\n",
    "universe_analysis = UniverseAnalysis(\n",
    "    run_no = run_no,\n",
    "    universe_id = universe_id,\n",
    "    universe = universe,\n",
    "    output_dir=output_dir,\n",
    ")"
   ]
  },
  {
   "cell_type": "code",
   "execution_count": 8,
   "id": "106241f5",
   "metadata": {
    "execution": {
     "iopub.execute_input": "2025-08-05T16:27:19.302838Z",
     "iopub.status.busy": "2025-08-05T16:27:19.302486Z",
     "iopub.status.idle": "2025-08-05T16:27:19.309063Z",
     "shell.execute_reply": "2025-08-05T16:27:19.307995Z"
    },
    "papermill": {
     "duration": 0.019888,
     "end_time": "2025-08-05T16:27:19.310769",
     "exception": false,
     "start_time": "2025-08-05T16:27:19.290881",
     "status": "completed"
    },
    "tags": []
   },
   "outputs": [
    {
     "name": "stdout",
     "output_type": "stream",
     "text": [
      "Using Seed: 2023\n"
     ]
    }
   ],
   "source": [
    "import numpy as np\n",
    "parsed_seed = int(seed)\n",
    "np.random.seed(parsed_seed)\n",
    "print(f\"Using Seed: {parsed_seed}\")"
   ]
  },
  {
   "cell_type": "markdown",
   "id": "e0ebdc57",
   "metadata": {
    "papermill": {
     "duration": 0.010559,
     "end_time": "2025-08-05T16:27:19.332429",
     "exception": false,
     "start_time": "2025-08-05T16:27:19.321870",
     "status": "completed"
    },
    "tags": []
   },
   "source": [
    "# Loading Data"
   ]
  },
  {
   "cell_type": "code",
   "execution_count": 9,
   "id": "f0496b8a",
   "metadata": {
    "execution": {
     "iopub.execute_input": "2025-08-05T16:27:19.355279Z",
     "iopub.status.busy": "2025-08-05T16:27:19.354639Z",
     "iopub.status.idle": "2025-08-05T16:27:32.565105Z",
     "shell.execute_reply": "2025-08-05T16:27:32.563768Z"
    },
    "papermill": {
     "duration": 13.224019,
     "end_time": "2025-08-05T16:27:32.567070",
     "exception": false,
     "start_time": "2025-08-05T16:27:19.343051",
     "status": "completed"
    },
    "tags": []
   },
   "outputs": [
    {
     "name": "stdout",
     "output_type": "stream",
     "text": [
      "Loading SIAB data from cache: data/siab_cached.csv.gz\n"
     ]
    },
    {
     "name": "stdout",
     "output_type": "stream",
     "text": [
      "(643690, 164)\n"
     ]
    }
   ],
   "source": [
    "from pathlib import Path\n",
    "import pandas as pd\n",
    "\n",
    "# File paths\n",
    "raw_file = Path(\"data/raw/siab.csv\")\n",
    "cache_file = Path(\"data/siab_cached.csv.gz\")\n",
    "\n",
    "# Ensure cache directory exists\n",
    "cache_file.parent.mkdir(parents=True, exist_ok=True)\n",
    "\n",
    "# Load with simple caching\n",
    "if cache_file.exists():\n",
    "    print(f\"Loading SIAB data from cache: {cache_file}\")\n",
    "    siab = pd.read_csv(cache_file, compression='gzip')\n",
    "else:\n",
    "    print(f\"Cache not found. Reading raw SIAB data: {raw_file}\")\n",
    "    siab = pd.read_csv(raw_file)\n",
    "    siab.to_csv(cache_file, index=False, compression='gzip')\n",
    "    print(f\"Cached SIAB data to: {cache_file}\")\n",
    "\n",
    "print(siab.shape)"
   ]
  },
  {
   "cell_type": "code",
   "execution_count": 10,
   "id": "db0ca512-5f53-4dba-abdb-a2888bca41ba",
   "metadata": {
    "execution": {
     "iopub.execute_input": "2025-08-05T16:27:32.612902Z",
     "iopub.status.busy": "2025-08-05T16:27:32.612284Z",
     "iopub.status.idle": "2025-08-05T16:27:32.620126Z",
     "shell.execute_reply": "2025-08-05T16:27:32.618987Z"
    },
    "papermill": {
     "duration": 0.033588,
     "end_time": "2025-08-05T16:27:32.622628",
     "exception": false,
     "start_time": "2025-08-05T16:27:32.589040",
     "status": "completed"
    },
    "tags": []
   },
   "outputs": [],
   "source": [
    "#siab"
   ]
  },
  {
   "cell_type": "markdown",
   "id": "997051c5-15bd-4b69-9786-c3001a3ce484",
   "metadata": {
    "papermill": {
     "duration": 0.022523,
     "end_time": "2025-08-05T16:27:32.668787",
     "exception": false,
     "start_time": "2025-08-05T16:27:32.646264",
     "status": "completed"
    },
    "tags": []
   },
   "source": [
    "# Splitting Data and Setting Training Data Size"
   ]
  },
  {
   "cell_type": "code",
   "execution_count": 11,
   "id": "aea9c6ef-6f46-42c8-85eb-5a62025c1508",
   "metadata": {
    "execution": {
     "iopub.execute_input": "2025-08-05T16:27:32.717409Z",
     "iopub.status.busy": "2025-08-05T16:27:32.716338Z",
     "iopub.status.idle": "2025-08-05T16:27:33.381598Z",
     "shell.execute_reply": "2025-08-05T16:27:33.365811Z"
    },
    "papermill": {
     "duration": 0.691381,
     "end_time": "2025-08-05T16:27:33.383861",
     "exception": false,
     "start_time": "2025-08-05T16:27:32.692480",
     "status": "completed"
    },
    "tags": []
   },
   "outputs": [],
   "source": [
    "from fairness_multiverse.universe import sample_by_year_size\n",
    "\n",
    "siab_train = sample_by_year_size(siab,\n",
    "                               training_year=universe[\"training_year\"],\n",
    "                               training_size=universe[\"training_size\"])"
   ]
  },
  {
   "cell_type": "code",
   "execution_count": 12,
   "id": "8d3afb32-789d-442c-8d5d-9f5aa8dd2eed",
   "metadata": {
    "execution": {
     "iopub.execute_input": "2025-08-05T16:27:33.427698Z",
     "iopub.status.busy": "2025-08-05T16:27:33.426851Z",
     "iopub.status.idle": "2025-08-05T16:27:33.432917Z",
     "shell.execute_reply": "2025-08-05T16:27:33.431835Z"
    },
    "papermill": {
     "duration": 0.029723,
     "end_time": "2025-08-05T16:27:33.434939",
     "exception": false,
     "start_time": "2025-08-05T16:27:33.405216",
     "status": "completed"
    },
    "tags": []
   },
   "outputs": [],
   "source": [
    "#siab_train.shape"
   ]
  },
  {
   "cell_type": "code",
   "execution_count": 13,
   "id": "d582db68-1a4c-47fb-84fc-08518dc1975a",
   "metadata": {
    "execution": {
     "iopub.execute_input": "2025-08-05T16:27:33.480367Z",
     "iopub.status.busy": "2025-08-05T16:27:33.479765Z",
     "iopub.status.idle": "2025-08-05T16:27:33.485955Z",
     "shell.execute_reply": "2025-08-05T16:27:33.484827Z"
    },
    "papermill": {
     "duration": 0.031111,
     "end_time": "2025-08-05T16:27:33.487890",
     "exception": false,
     "start_time": "2025-08-05T16:27:33.456779",
     "status": "completed"
    },
    "tags": []
   },
   "outputs": [],
   "source": [
    "#display(siab_train.groupby(\"year\").size())"
   ]
  },
  {
   "cell_type": "code",
   "execution_count": 14,
   "id": "a561edb4-d032-42cb-8256-22eac1111c64",
   "metadata": {
    "execution": {
     "iopub.execute_input": "2025-08-05T16:27:33.534178Z",
     "iopub.status.busy": "2025-08-05T16:27:33.533351Z",
     "iopub.status.idle": "2025-08-05T16:27:33.835735Z",
     "shell.execute_reply": "2025-08-05T16:27:33.834636Z"
    },
    "papermill": {
     "duration": 0.328688,
     "end_time": "2025-08-05T16:27:33.838131",
     "exception": false,
     "start_time": "2025-08-05T16:27:33.509443",
     "status": "completed"
    },
    "tags": []
   },
   "outputs": [],
   "source": [
    "#siab_train = siab_s[siab_s.year < 2015]\n",
    "siab_calib = siab[siab.year == 2015]\n",
    "siab_test = siab[siab.year == 2016]"
   ]
  },
  {
   "cell_type": "code",
   "execution_count": 15,
   "id": "472de16f-c3db-4916-846b-1f0de9cf1746",
   "metadata": {
    "execution": {
     "iopub.execute_input": "2025-08-05T16:27:33.886211Z",
     "iopub.status.busy": "2025-08-05T16:27:33.885590Z",
     "iopub.status.idle": "2025-08-05T16:27:33.894430Z",
     "shell.execute_reply": "2025-08-05T16:27:33.893182Z"
    },
    "papermill": {
     "duration": 0.035463,
     "end_time": "2025-08-05T16:27:33.896608",
     "exception": false,
     "start_time": "2025-08-05T16:27:33.861145",
     "status": "completed"
    },
    "tags": []
   },
   "outputs": [],
   "source": [
    "X_train = siab_train.iloc[:,4:164]\n",
    "y_train = siab_train.iloc[:, [3]]"
   ]
  },
  {
   "cell_type": "code",
   "execution_count": 16,
   "id": "828c96af-f43a-4ed6-ba47-8ac73a47d56c",
   "metadata": {
    "execution": {
     "iopub.execute_input": "2025-08-05T16:27:33.943974Z",
     "iopub.status.busy": "2025-08-05T16:27:33.943366Z",
     "iopub.status.idle": "2025-08-05T16:27:34.002359Z",
     "shell.execute_reply": "2025-08-05T16:27:34.000956Z"
    },
    "papermill": {
     "duration": 0.084626,
     "end_time": "2025-08-05T16:27:34.004480",
     "exception": false,
     "start_time": "2025-08-05T16:27:33.919854",
     "status": "completed"
    },
    "tags": []
   },
   "outputs": [],
   "source": [
    "X_calib = siab_calib.iloc[:,4:164]\n",
    "y_calib = siab_calib.iloc[:, [3]]"
   ]
  },
  {
   "cell_type": "code",
   "execution_count": 17,
   "id": "c34be9c3-6bd6-476e-acd3-845840e303be",
   "metadata": {
    "execution": {
     "iopub.execute_input": "2025-08-05T16:27:34.052169Z",
     "iopub.status.busy": "2025-08-05T16:27:34.051608Z",
     "iopub.status.idle": "2025-08-05T16:27:34.113023Z",
     "shell.execute_reply": "2025-08-05T16:27:34.111663Z"
    },
    "papermill": {
     "duration": 0.087853,
     "end_time": "2025-08-05T16:27:34.114999",
     "exception": false,
     "start_time": "2025-08-05T16:27:34.027146",
     "status": "completed"
    },
    "tags": []
   },
   "outputs": [],
   "source": [
    "X_test = siab_test.iloc[:,4:164]\n",
    "y_true = siab_test.iloc[:, [3]]"
   ]
  },
  {
   "cell_type": "code",
   "execution_count": 18,
   "id": "e6c733c5",
   "metadata": {
    "execution": {
     "iopub.execute_input": "2025-08-05T16:27:34.163977Z",
     "iopub.status.busy": "2025-08-05T16:27:34.162975Z",
     "iopub.status.idle": "2025-08-05T16:27:34.268768Z",
     "shell.execute_reply": "2025-08-05T16:27:34.267559Z"
    },
    "papermill": {
     "duration": 0.132192,
     "end_time": "2025-08-05T16:27:34.271036",
     "exception": false,
     "start_time": "2025-08-05T16:27:34.138844",
     "status": "completed"
    },
    "tags": []
   },
   "outputs": [],
   "source": [
    "# Auxiliary data needed downstream in the pipeline\n",
    "\n",
    "org_train = X_train.copy()\n",
    "org_test = X_test.copy()\n",
    "org_calib = X_calib.copy()"
   ]
  },
  {
   "cell_type": "markdown",
   "id": "0a4a1b33",
   "metadata": {
    "papermill": {
     "duration": 0.022204,
     "end_time": "2025-08-05T16:27:34.317082",
     "exception": false,
     "start_time": "2025-08-05T16:27:34.294878",
     "status": "completed"
    },
    "tags": []
   },
   "source": [
    "# Preprocessing Data"
   ]
  },
  {
   "cell_type": "code",
   "execution_count": 19,
   "id": "ca879031",
   "metadata": {
    "execution": {
     "iopub.execute_input": "2025-08-05T16:27:34.361593Z",
     "iopub.status.busy": "2025-08-05T16:27:34.360941Z",
     "iopub.status.idle": "2025-08-05T16:27:34.368804Z",
     "shell.execute_reply": "2025-08-05T16:27:34.367652Z"
    },
    "papermill": {
     "duration": 0.032667,
     "end_time": "2025-08-05T16:27:34.370766",
     "exception": false,
     "start_time": "2025-08-05T16:27:34.338099",
     "status": "completed"
    },
    "tags": []
   },
   "outputs": [],
   "source": [
    "# EXCLUDE PROTECTED FEATURES\n",
    "# ----------------------\n",
    "# \"exclude_features\": \"none\", # \"nationality\", \"sex\", \"nationality-sex\"\n",
    "\n",
    "excluded_features = universe[\"exclude_features\"].split(\"-\") # split, e.g.: \"nationality-sex\" -> [\"nationality\", \"sex\"]\n",
    "excluded_features_dictionary = {\n",
    "    \"nationality\": [\"maxdeutsch1\", \"maxdeutsch.Missing.\"],\n",
    "    \"sex\": [\"frau1\"],\n",
    "    \"age\": [\"age\"],\n",
    "}"
   ]
  },
  {
   "cell_type": "code",
   "execution_count": 20,
   "id": "b745ac60",
   "metadata": {
    "execution": {
     "iopub.execute_input": "2025-08-05T16:27:34.416436Z",
     "iopub.status.busy": "2025-08-05T16:27:34.415447Z",
     "iopub.status.idle": "2025-08-05T16:27:34.422274Z",
     "shell.execute_reply": "2025-08-05T16:27:34.421237Z"
    },
    "papermill": {
     "duration": 0.031178,
     "end_time": "2025-08-05T16:27:34.424020",
     "exception": false,
     "start_time": "2025-08-05T16:27:34.392842",
     "status": "completed"
    },
    "tags": []
   },
   "outputs": [],
   "source": [
    "# Code nice names to column names\n",
    "\n",
    "excluded_features_columns = [\n",
    "    excluded_features_dictionary[f] for f in excluded_features if len(f) > 0 and f != \"none\"\n",
    "]"
   ]
  },
  {
   "cell_type": "code",
   "execution_count": 21,
   "id": "f84f73a2",
   "metadata": {
    "execution": {
     "iopub.execute_input": "2025-08-05T16:27:34.470154Z",
     "iopub.status.busy": "2025-08-05T16:27:34.469163Z",
     "iopub.status.idle": "2025-08-05T16:27:34.476683Z",
     "shell.execute_reply": "2025-08-05T16:27:34.475502Z"
    },
    "papermill": {
     "duration": 0.032989,
     "end_time": "2025-08-05T16:27:34.478631",
     "exception": false,
     "start_time": "2025-08-05T16:27:34.445642",
     "status": "completed"
    },
    "tags": []
   },
   "outputs": [],
   "source": [
    "from utils import flatten_once\n",
    "\n",
    "excluded_features_columns = flatten_once(excluded_features_columns)"
   ]
  },
  {
   "cell_type": "code",
   "execution_count": 22,
   "id": "884dea22",
   "metadata": {
    "execution": {
     "iopub.execute_input": "2025-08-05T16:27:34.523388Z",
     "iopub.status.busy": "2025-08-05T16:27:34.522765Z",
     "iopub.status.idle": "2025-08-05T16:27:34.531825Z",
     "shell.execute_reply": "2025-08-05T16:27:34.530695Z"
    },
    "papermill": {
     "duration": 0.034059,
     "end_time": "2025-08-05T16:27:34.533912",
     "exception": false,
     "start_time": "2025-08-05T16:27:34.499853",
     "status": "completed"
    },
    "tags": []
   },
   "outputs": [
    {
     "name": "stdout",
     "output_type": "stream",
     "text": [
      "Dropping features: ['maxdeutsch1', 'maxdeutsch.Missing.', 'frau1']\n"
     ]
    }
   ],
   "source": [
    "if len(excluded_features_columns) > 0:\n",
    "    print(f\"Dropping features: {excluded_features_columns}\")\n",
    "    X_train.drop(excluded_features_columns, axis=1, inplace=True)"
   ]
  },
  {
   "cell_type": "code",
   "execution_count": 23,
   "id": "95ab8b16",
   "metadata": {
    "execution": {
     "iopub.execute_input": "2025-08-05T16:27:34.581788Z",
     "iopub.status.busy": "2025-08-05T16:27:34.580812Z",
     "iopub.status.idle": "2025-08-05T16:27:34.644838Z",
     "shell.execute_reply": "2025-08-05T16:27:34.643624Z"
    },
    "papermill": {
     "duration": 0.089776,
     "end_time": "2025-08-05T16:27:34.646954",
     "exception": false,
     "start_time": "2025-08-05T16:27:34.557178",
     "status": "completed"
    },
    "tags": []
   },
   "outputs": [
    {
     "name": "stdout",
     "output_type": "stream",
     "text": [
      "Dropping features: ['maxdeutsch1', 'maxdeutsch.Missing.', 'frau1']\n"
     ]
    }
   ],
   "source": [
    "if len(excluded_features_columns) > 0:\n",
    "    print(f\"Dropping features: {excluded_features_columns}\")\n",
    "    X_test.drop(excluded_features_columns, axis=1, inplace=True)"
   ]
  },
  {
   "cell_type": "code",
   "execution_count": 24,
   "id": "1853aaf5-fb9f-46cb-a2b5-8ea4ae2237e4",
   "metadata": {
    "execution": {
     "iopub.execute_input": "2025-08-05T16:27:34.694048Z",
     "iopub.status.busy": "2025-08-05T16:27:34.693488Z",
     "iopub.status.idle": "2025-08-05T16:27:34.751280Z",
     "shell.execute_reply": "2025-08-05T16:27:34.749968Z"
    },
    "papermill": {
     "duration": 0.08352,
     "end_time": "2025-08-05T16:27:34.753542",
     "exception": false,
     "start_time": "2025-08-05T16:27:34.670022",
     "status": "completed"
    },
    "tags": []
   },
   "outputs": [
    {
     "name": "stdout",
     "output_type": "stream",
     "text": [
      "Dropping features: ['maxdeutsch1', 'maxdeutsch.Missing.', 'frau1']\n"
     ]
    }
   ],
   "source": [
    "if len(excluded_features_columns) > 0:\n",
    "    print(f\"Dropping features: {excluded_features_columns}\")\n",
    "    X_calib.drop(excluded_features_columns, axis=1, inplace=True)"
   ]
  },
  {
   "cell_type": "code",
   "execution_count": 25,
   "id": "76c4dc6d",
   "metadata": {
    "execution": {
     "iopub.execute_input": "2025-08-05T16:27:34.820495Z",
     "iopub.status.busy": "2025-08-05T16:27:34.820063Z",
     "iopub.status.idle": "2025-08-05T16:27:34.826669Z",
     "shell.execute_reply": "2025-08-05T16:27:34.825559Z"
    },
    "papermill": {
     "duration": 0.043777,
     "end_time": "2025-08-05T16:27:34.828689",
     "exception": false,
     "start_time": "2025-08-05T16:27:34.784912",
     "status": "completed"
    },
    "tags": []
   },
   "outputs": [],
   "source": [
    "# EXCLUDE CERTAIN SUBGROUPS\n",
    "# ----------------------\n",
    "\n",
    "mode = universe.get(\"exclude_subgroups\", \"keep-all\") \n",
    "# Fetches the exclude_subgroups setting from the universe dict.\n",
    "# Defaults to \"keep-all\" if the key is missing."
   ]
  },
  {
   "cell_type": "code",
   "execution_count": 26,
   "id": "21994072",
   "metadata": {
    "execution": {
     "iopub.execute_input": "2025-08-05T16:27:34.879147Z",
     "iopub.status.busy": "2025-08-05T16:27:34.878122Z",
     "iopub.status.idle": "2025-08-05T16:27:34.886120Z",
     "shell.execute_reply": "2025-08-05T16:27:34.885043Z"
    },
    "papermill": {
     "duration": 0.034427,
     "end_time": "2025-08-05T16:27:34.888092",
     "exception": false,
     "start_time": "2025-08-05T16:27:34.853665",
     "status": "completed"
    },
    "tags": []
   },
   "outputs": [],
   "source": [
    "if mode == \"keep-all\":\n",
    "    keep_mask = pd.Series(True, index=org_train.index)\n",
    "\n",
    "# org_train contains the original feature columns from features_org (in Simson)\n",
    "# features_org contains unprocessed features, for me X_train at beginning ???\n",
    "# For keep-all, creates a boolean Series (keep_mask) of all True, so no rows are removed.\n",
    "\n",
    "elif mode == \"drop-non-german\":\n",
    "    keep_mask = org_train[\"maxdeutsch1\"] == 1 # ??? what about missing values?\n",
    "\n",
    "else:\n",
    "    raise ValueError(f\"Unsupported mode for exclude_subgroups: {mode}\")"
   ]
  },
  {
   "cell_type": "code",
   "execution_count": 27,
   "id": "71651440",
   "metadata": {
    "execution": {
     "iopub.execute_input": "2025-08-05T16:27:34.937131Z",
     "iopub.status.busy": "2025-08-05T16:27:34.936197Z",
     "iopub.status.idle": "2025-08-05T16:27:34.944642Z",
     "shell.execute_reply": "2025-08-05T16:27:34.943581Z"
    },
    "papermill": {
     "duration": 0.034599,
     "end_time": "2025-08-05T16:27:34.946549",
     "exception": false,
     "start_time": "2025-08-05T16:27:34.911950",
     "status": "completed"
    },
    "tags": []
   },
   "outputs": [
    {
     "name": "stdout",
     "output_type": "stream",
     "text": [
      "Dropping 147 rows (14.70%) where mode='drop-non-german'\n"
     ]
    }
   ],
   "source": [
    "n_drop = (~keep_mask).sum() # Calculates how many rows are set to be dropped\n",
    "if n_drop > 0:\n",
    "    pct = n_drop / len(keep_mask) * 100\n",
    "    print(f\"Dropping {n_drop} rows ({pct:.2f}%) where mode='{mode}'\")"
   ]
  },
  {
   "cell_type": "code",
   "execution_count": 28,
   "id": "5fb8eee5",
   "metadata": {
    "execution": {
     "iopub.execute_input": "2025-08-05T16:27:34.993951Z",
     "iopub.status.busy": "2025-08-05T16:27:34.993055Z",
     "iopub.status.idle": "2025-08-05T16:27:35.000766Z",
     "shell.execute_reply": "2025-08-05T16:27:34.999695Z"
    },
    "papermill": {
     "duration": 0.033823,
     "end_time": "2025-08-05T16:27:35.002673",
     "exception": false,
     "start_time": "2025-08-05T16:27:34.968850",
     "status": "completed"
    },
    "tags": []
   },
   "outputs": [],
   "source": [
    "X_train = X_train[keep_mask]"
   ]
  },
  {
   "cell_type": "code",
   "execution_count": 29,
   "id": "b202bb3a",
   "metadata": {
    "execution": {
     "iopub.execute_input": "2025-08-05T16:27:35.049215Z",
     "iopub.status.busy": "2025-08-05T16:27:35.048357Z",
     "iopub.status.idle": "2025-08-05T16:27:35.055588Z",
     "shell.execute_reply": "2025-08-05T16:27:35.054446Z"
    },
    "papermill": {
     "duration": 0.032378,
     "end_time": "2025-08-05T16:27:35.057531",
     "exception": false,
     "start_time": "2025-08-05T16:27:35.025153",
     "status": "completed"
    },
    "tags": []
   },
   "outputs": [],
   "source": [
    "y_train = y_train[keep_mask]"
   ]
  },
  {
   "cell_type": "markdown",
   "id": "493e2ac3",
   "metadata": {
    "papermill": {
     "duration": 0.022441,
     "end_time": "2025-08-05T16:27:35.103656",
     "exception": false,
     "start_time": "2025-08-05T16:27:35.081215",
     "status": "completed"
    },
    "tags": []
   },
   "source": [
    "# Model Training"
   ]
  },
  {
   "cell_type": "code",
   "execution_count": 30,
   "id": "679e1268",
   "metadata": {
    "execution": {
     "iopub.execute_input": "2025-08-05T16:27:35.151281Z",
     "iopub.status.busy": "2025-08-05T16:27:35.150342Z",
     "iopub.status.idle": "2025-08-05T16:27:35.273491Z",
     "shell.execute_reply": "2025-08-05T16:27:35.272337Z"
    },
    "papermill": {
     "duration": 0.150183,
     "end_time": "2025-08-05T16:27:35.275795",
     "exception": false,
     "start_time": "2025-08-05T16:27:35.125612",
     "status": "completed"
    },
    "tags": []
   },
   "outputs": [],
   "source": [
    "from sklearn.linear_model import LogisticRegression\n",
    "from sklearn.ensemble import GradientBoostingClassifier, RandomForestClassifier\n",
    "\n",
    "if (universe[\"model\"] == \"logreg\"):\n",
    "    model = LogisticRegression() #penalty=\"none\", solver=\"newton-cg\", max_iter=1) # include random_state=19 ?\n",
    "elif (universe[\"model\"] == \"penalized_logreg\"):\n",
    "    model = LogisticRegression(penalty=\"l2\", C=0.1) #, solver=\"newton-cg\", max_iter=1)\n",
    "elif (universe[\"model\"] == \"rf\"):\n",
    "    model = RandomForestClassifier() # n_estimators=100, n_jobs=-1\n",
    "elif (universe[\"model\"] == \"gbm\"):\n",
    "    model = GradientBoostingClassifier()\n",
    "elif (universe[\"model\"] == \"elasticnet\"):\n",
    "    model = LogisticRegression(penalty = 'elasticnet', solver = 'saga', l1_ratio = 0.5) # max_iter=5000\n",
    "else:\n",
    "    raise \"Unsupported universe.model\""
   ]
  },
  {
   "cell_type": "code",
   "execution_count": 31,
   "id": "0cc8f744",
   "metadata": {
    "execution": {
     "iopub.execute_input": "2025-08-05T16:27:35.325278Z",
     "iopub.status.busy": "2025-08-05T16:27:35.324735Z",
     "iopub.status.idle": "2025-08-05T16:27:35.332305Z",
     "shell.execute_reply": "2025-08-05T16:27:35.331126Z"
    },
    "papermill": {
     "duration": 0.034512,
     "end_time": "2025-08-05T16:27:35.334250",
     "exception": false,
     "start_time": "2025-08-05T16:27:35.299738",
     "status": "completed"
    },
    "tags": []
   },
   "outputs": [],
   "source": [
    "import numpy as np\n",
    "from sklearn.pipeline import Pipeline\n",
    "from sklearn.preprocessing import StandardScaler\n",
    "\n",
    "model = Pipeline([\n",
    "    #(\"continuous_processor\", continuous_processor),\n",
    "    #(\"categorical_preprocessor\", categorical_preprocessor),\n",
    "    (\"scale\", StandardScaler() if universe[\"scale\"] == \"scale\" else None), \n",
    "    (\"model\", model),\n",
    "])"
   ]
  },
  {
   "cell_type": "code",
   "execution_count": 32,
   "id": "9442c04d",
   "metadata": {
    "execution": {
     "iopub.execute_input": "2025-08-05T16:27:35.384062Z",
     "iopub.status.busy": "2025-08-05T16:27:35.383180Z",
     "iopub.status.idle": "2025-08-05T16:27:35.846602Z",
     "shell.execute_reply": "2025-08-05T16:27:35.845450Z"
    },
    "papermill": {
     "duration": 0.490473,
     "end_time": "2025-08-05T16:27:35.848702",
     "exception": false,
     "start_time": "2025-08-05T16:27:35.358229",
     "status": "completed"
    },
    "tags": []
   },
   "outputs": [
    {
     "data": {
      "text/html": [
       "<style>#sk-container-id-1 {color: black;background-color: white;}#sk-container-id-1 pre{padding: 0;}#sk-container-id-1 div.sk-toggleable {background-color: white;}#sk-container-id-1 label.sk-toggleable__label {cursor: pointer;display: block;width: 100%;margin-bottom: 0;padding: 0.3em;box-sizing: border-box;text-align: center;}#sk-container-id-1 label.sk-toggleable__label-arrow:before {content: \"▸\";float: left;margin-right: 0.25em;color: #696969;}#sk-container-id-1 label.sk-toggleable__label-arrow:hover:before {color: black;}#sk-container-id-1 div.sk-estimator:hover label.sk-toggleable__label-arrow:before {color: black;}#sk-container-id-1 div.sk-toggleable__content {max-height: 0;max-width: 0;overflow: hidden;text-align: left;background-color: #f0f8ff;}#sk-container-id-1 div.sk-toggleable__content pre {margin: 0.2em;color: black;border-radius: 0.25em;background-color: #f0f8ff;}#sk-container-id-1 input.sk-toggleable__control:checked~div.sk-toggleable__content {max-height: 200px;max-width: 100%;overflow: auto;}#sk-container-id-1 input.sk-toggleable__control:checked~label.sk-toggleable__label-arrow:before {content: \"▾\";}#sk-container-id-1 div.sk-estimator input.sk-toggleable__control:checked~label.sk-toggleable__label {background-color: #d4ebff;}#sk-container-id-1 div.sk-label input.sk-toggleable__control:checked~label.sk-toggleable__label {background-color: #d4ebff;}#sk-container-id-1 input.sk-hidden--visually {border: 0;clip: rect(1px 1px 1px 1px);clip: rect(1px, 1px, 1px, 1px);height: 1px;margin: -1px;overflow: hidden;padding: 0;position: absolute;width: 1px;}#sk-container-id-1 div.sk-estimator {font-family: monospace;background-color: #f0f8ff;border: 1px dotted black;border-radius: 0.25em;box-sizing: border-box;margin-bottom: 0.5em;}#sk-container-id-1 div.sk-estimator:hover {background-color: #d4ebff;}#sk-container-id-1 div.sk-parallel-item::after {content: \"\";width: 100%;border-bottom: 1px solid gray;flex-grow: 1;}#sk-container-id-1 div.sk-label:hover label.sk-toggleable__label {background-color: #d4ebff;}#sk-container-id-1 div.sk-serial::before {content: \"\";position: absolute;border-left: 1px solid gray;box-sizing: border-box;top: 0;bottom: 0;left: 50%;z-index: 0;}#sk-container-id-1 div.sk-serial {display: flex;flex-direction: column;align-items: center;background-color: white;padding-right: 0.2em;padding-left: 0.2em;position: relative;}#sk-container-id-1 div.sk-item {position: relative;z-index: 1;}#sk-container-id-1 div.sk-parallel {display: flex;align-items: stretch;justify-content: center;background-color: white;position: relative;}#sk-container-id-1 div.sk-item::before, #sk-container-id-1 div.sk-parallel-item::before {content: \"\";position: absolute;border-left: 1px solid gray;box-sizing: border-box;top: 0;bottom: 0;left: 50%;z-index: -1;}#sk-container-id-1 div.sk-parallel-item {display: flex;flex-direction: column;z-index: 1;position: relative;background-color: white;}#sk-container-id-1 div.sk-parallel-item:first-child::after {align-self: flex-end;width: 50%;}#sk-container-id-1 div.sk-parallel-item:last-child::after {align-self: flex-start;width: 50%;}#sk-container-id-1 div.sk-parallel-item:only-child::after {width: 0;}#sk-container-id-1 div.sk-dashed-wrapped {border: 1px dashed gray;margin: 0 0.4em 0.5em 0.4em;box-sizing: border-box;padding-bottom: 0.4em;background-color: white;}#sk-container-id-1 div.sk-label label {font-family: monospace;font-weight: bold;display: inline-block;line-height: 1.2em;}#sk-container-id-1 div.sk-label-container {text-align: center;}#sk-container-id-1 div.sk-container {/* jupyter's `normalize.less` sets `[hidden] { display: none; }` but bootstrap.min.css set `[hidden] { display: none !important; }` so we also need the `!important` here to be able to override the default hidden behavior on the sphinx rendered scikit-learn.org. See: https://github.com/scikit-learn/scikit-learn/issues/21755 */display: inline-block !important;position: relative;}#sk-container-id-1 div.sk-text-repr-fallback {display: none;}</style><div id=\"sk-container-id-1\" class=\"sk-top-container\"><div class=\"sk-text-repr-fallback\"><pre>Pipeline(steps=[(&#x27;scale&#x27;, None), (&#x27;model&#x27;, RandomForestClassifier())])</pre><b>In a Jupyter environment, please rerun this cell to show the HTML representation or trust the notebook. <br />On GitHub, the HTML representation is unable to render, please try loading this page with nbviewer.org.</b></div><div class=\"sk-container\" hidden><div class=\"sk-item sk-dashed-wrapped\"><div class=\"sk-label-container\"><div class=\"sk-label sk-toggleable\"><input class=\"sk-toggleable__control sk-hidden--visually\" id=\"sk-estimator-id-1\" type=\"checkbox\" ><label for=\"sk-estimator-id-1\" class=\"sk-toggleable__label sk-toggleable__label-arrow\">Pipeline</label><div class=\"sk-toggleable__content\"><pre>Pipeline(steps=[(&#x27;scale&#x27;, None), (&#x27;model&#x27;, RandomForestClassifier())])</pre></div></div></div><div class=\"sk-serial\"><div class=\"sk-item\"><div class=\"sk-estimator sk-toggleable\"><input class=\"sk-toggleable__control sk-hidden--visually\" id=\"sk-estimator-id-2\" type=\"checkbox\" ><label for=\"sk-estimator-id-2\" class=\"sk-toggleable__label sk-toggleable__label-arrow\">None</label><div class=\"sk-toggleable__content\"><pre>None</pre></div></div></div><div class=\"sk-item\"><div class=\"sk-estimator sk-toggleable\"><input class=\"sk-toggleable__control sk-hidden--visually\" id=\"sk-estimator-id-3\" type=\"checkbox\" ><label for=\"sk-estimator-id-3\" class=\"sk-toggleable__label sk-toggleable__label-arrow\">RandomForestClassifier</label><div class=\"sk-toggleable__content\"><pre>RandomForestClassifier()</pre></div></div></div></div></div></div></div>"
      ],
      "text/plain": [
       "Pipeline(steps=[('scale', None), ('model', RandomForestClassifier())])"
      ]
     },
     "execution_count": 32,
     "metadata": {},
     "output_type": "execute_result"
    }
   ],
   "source": [
    "model.fit(X_train, y_train.values.ravel())"
   ]
  },
  {
   "cell_type": "code",
   "execution_count": 33,
   "id": "af59f8c0",
   "metadata": {
    "execution": {
     "iopub.execute_input": "2025-08-05T16:27:35.900919Z",
     "iopub.status.busy": "2025-08-05T16:27:35.900354Z",
     "iopub.status.idle": "2025-08-05T16:27:35.907786Z",
     "shell.execute_reply": "2025-08-05T16:27:35.906656Z"
    },
    "papermill": {
     "duration": 0.035303,
     "end_time": "2025-08-05T16:27:35.909906",
     "exception": false,
     "start_time": "2025-08-05T16:27:35.874603",
     "status": "completed"
    },
    "tags": []
   },
   "outputs": [],
   "source": [
    "from fairness_multiverse.universe import predict_w_threshold"
   ]
  },
  {
   "cell_type": "code",
   "execution_count": 34,
   "id": "a7cf2e16",
   "metadata": {
    "execution": {
     "iopub.execute_input": "2025-08-05T16:27:35.960947Z",
     "iopub.status.busy": "2025-08-05T16:27:35.960077Z",
     "iopub.status.idle": "2025-08-05T16:27:37.918122Z",
     "shell.execute_reply": "2025-08-05T16:27:37.916807Z"
    },
    "papermill": {
     "duration": 1.986672,
     "end_time": "2025-08-05T16:27:37.920851",
     "exception": false,
     "start_time": "2025-08-05T16:27:35.934179",
     "status": "completed"
    },
    "tags": []
   },
   "outputs": [
    {
     "data": {
      "text/plain": [
       "0.8596589009029094"
      ]
     },
     "execution_count": 34,
     "metadata": {},
     "output_type": "execute_result"
    }
   ],
   "source": [
    "probs_test = model.predict_proba(X_test)\n",
    "\n",
    "'''\n",
    "Below code returns a boolean array (or binary 0/1 array depending on how it’s used) where each element \n",
    "is True if the probability of class 1 is greater than or equal to the threshold, and False otherwise.\n",
    "'''\n",
    "y_pred_default = predict_w_threshold(probs_test, 0.5)\n",
    "\n",
    "from sklearn.metrics import accuracy_score\n",
    "\n",
    "# Naive prediction\n",
    "accuracy_score(y_true = y_true, y_pred = y_pred_default)"
   ]
  },
  {
   "cell_type": "code",
   "execution_count": 35,
   "id": "081964c3",
   "metadata": {
    "execution": {
     "iopub.execute_input": "2025-08-05T16:27:37.989673Z",
     "iopub.status.busy": "2025-08-05T16:27:37.988737Z",
     "iopub.status.idle": "2025-08-05T16:27:39.750432Z",
     "shell.execute_reply": "2025-08-05T16:27:39.749492Z"
    },
    "papermill": {
     "duration": 1.797895,
     "end_time": "2025-08-05T16:27:39.751928",
     "exception": false,
     "start_time": "2025-08-05T16:27:37.954033",
     "status": "completed"
    },
    "tags": []
   },
   "outputs": [
    {
     "data": {
      "text/plain": [
       "array([0, 0, 0, ..., 0, 0, 0])"
      ]
     },
     "execution_count": 35,
     "metadata": {},
     "output_type": "execute_result"
    }
   ],
   "source": [
    "model.predict(X_test)"
   ]
  },
  {
   "cell_type": "markdown",
   "id": "56c9705b",
   "metadata": {
    "papermill": {
     "duration": 0.012354,
     "end_time": "2025-08-05T16:27:39.777356",
     "exception": false,
     "start_time": "2025-08-05T16:27:39.765002",
     "status": "completed"
    },
    "tags": []
   },
   "source": [
    "# Conformal Prediction"
   ]
  },
  {
   "cell_type": "code",
   "execution_count": 36,
   "id": "160ec6ff",
   "metadata": {
    "execution": {
     "iopub.execute_input": "2025-08-05T16:27:39.808373Z",
     "iopub.status.busy": "2025-08-05T16:27:39.807962Z",
     "iopub.status.idle": "2025-08-05T16:27:39.813284Z",
     "shell.execute_reply": "2025-08-05T16:27:39.812452Z"
    },
    "papermill": {
     "duration": 0.02495,
     "end_time": "2025-08-05T16:27:39.814855",
     "exception": false,
     "start_time": "2025-08-05T16:27:39.789905",
     "status": "completed"
    },
    "tags": []
   },
   "outputs": [],
   "source": [
    "# Miscoverage level for conformal prediction (10% allowed error rate => 90% target coverage)\n",
    "alpha = 0.1"
   ]
  },
  {
   "cell_type": "code",
   "execution_count": 37,
   "id": "eadf4555-3dd3-440e-8e35-f82a4ad9f855",
   "metadata": {
    "execution": {
     "iopub.execute_input": "2025-08-05T16:27:39.841406Z",
     "iopub.status.busy": "2025-08-05T16:27:39.840792Z",
     "iopub.status.idle": "2025-08-05T16:27:41.417237Z",
     "shell.execute_reply": "2025-08-05T16:27:41.416331Z"
    },
    "papermill": {
     "duration": 1.591179,
     "end_time": "2025-08-05T16:27:41.418887",
     "exception": false,
     "start_time": "2025-08-05T16:27:39.827708",
     "status": "completed"
    },
    "tags": []
   },
   "outputs": [],
   "source": [
    "probs_calib = model.predict_proba(X_calib)"
   ]
  },
  {
   "cell_type": "code",
   "execution_count": 38,
   "id": "2ed93547-6d5d-4983-9b36-1ecb300da49a",
   "metadata": {
    "execution": {
     "iopub.execute_input": "2025-08-05T16:27:41.471924Z",
     "iopub.status.busy": "2025-08-05T16:27:41.471398Z",
     "iopub.status.idle": "2025-08-05T16:27:41.478709Z",
     "shell.execute_reply": "2025-08-05T16:27:41.477417Z"
    },
    "papermill": {
     "duration": 0.042459,
     "end_time": "2025-08-05T16:27:41.481027",
     "exception": false,
     "start_time": "2025-08-05T16:27:41.438568",
     "status": "completed"
    },
    "tags": []
   },
   "outputs": [],
   "source": [
    "y_calib = y_calib.values.ravel().astype(int)"
   ]
  },
  {
   "cell_type": "code",
   "execution_count": 39,
   "id": "65d1320d-f588-4b38-9072-62af1ae97f7d",
   "metadata": {
    "execution": {
     "iopub.execute_input": "2025-08-05T16:27:41.542816Z",
     "iopub.status.busy": "2025-08-05T16:27:41.542022Z",
     "iopub.status.idle": "2025-08-05T16:27:41.551114Z",
     "shell.execute_reply": "2025-08-05T16:27:41.550099Z"
    },
    "papermill": {
     "duration": 0.038546,
     "end_time": "2025-08-05T16:27:41.552852",
     "exception": false,
     "start_time": "2025-08-05T16:27:41.514306",
     "status": "completed"
    },
    "tags": []
   },
   "outputs": [],
   "source": [
    "from fairness_multiverse.conformal import compute_nc_scores\n",
    "\n",
    "# Compute nonconformity scores on calibration set (1 - probability of true class)\n",
    "nc_scores = compute_nc_scores(probs_calib, y_calib)"
   ]
  },
  {
   "cell_type": "code",
   "execution_count": 40,
   "id": "df3b8ca3-53b7-43d5-9667-7c85da7aeda2",
   "metadata": {
    "execution": {
     "iopub.execute_input": "2025-08-05T16:27:41.600329Z",
     "iopub.status.busy": "2025-08-05T16:27:41.599571Z",
     "iopub.status.idle": "2025-08-05T16:27:41.607664Z",
     "shell.execute_reply": "2025-08-05T16:27:41.606732Z"
    },
    "papermill": {
     "duration": 0.033697,
     "end_time": "2025-08-05T16:27:41.609306",
     "exception": false,
     "start_time": "2025-08-05T16:27:41.575609",
     "status": "completed"
    },
    "tags": []
   },
   "outputs": [],
   "source": [
    "from fairness_multiverse.conformal import find_threshold\n",
    "\n",
    "# Find conformal threshold q_hat for the given alpha (split conformal method)\n",
    "q_hat = find_threshold(nc_scores, alpha)"
   ]
  },
  {
   "cell_type": "code",
   "execution_count": 41,
   "id": "4d29e6c1-0ef6-4aa4-b8fe-4fe79b0d033a",
   "metadata": {
    "execution": {
     "iopub.execute_input": "2025-08-05T16:27:41.656241Z",
     "iopub.status.busy": "2025-08-05T16:27:41.655108Z",
     "iopub.status.idle": "2025-08-05T16:27:41.663940Z",
     "shell.execute_reply": "2025-08-05T16:27:41.662781Z"
    },
    "papermill": {
     "duration": 0.034002,
     "end_time": "2025-08-05T16:27:41.665721",
     "exception": false,
     "start_time": "2025-08-05T16:27:41.631719",
     "status": "completed"
    },
    "tags": []
   },
   "outputs": [
    {
     "data": {
      "text/plain": [
       "0.6699999999999999"
      ]
     },
     "execution_count": 41,
     "metadata": {},
     "output_type": "execute_result"
    }
   ],
   "source": [
    "q_hat"
   ]
  },
  {
   "cell_type": "code",
   "execution_count": 42,
   "id": "92460794-cdac-4be2-ba28-f28c0515a6fb",
   "metadata": {
    "execution": {
     "iopub.execute_input": "2025-08-05T16:27:41.719609Z",
     "iopub.status.busy": "2025-08-05T16:27:41.718595Z",
     "iopub.status.idle": "2025-08-05T16:27:44.980630Z",
     "shell.execute_reply": "2025-08-05T16:27:44.979279Z"
    },
    "papermill": {
     "duration": 3.29123,
     "end_time": "2025-08-05T16:27:44.982858",
     "exception": false,
     "start_time": "2025-08-05T16:27:41.691628",
     "status": "completed"
    },
    "tags": []
   },
   "outputs": [],
   "source": [
    "from fairness_multiverse.conformal import predict_conformal_sets\n",
    "\n",
    "# Generate prediction sets for each test example\n",
    "pred_sets = predict_conformal_sets(model, X_test, q_hat)"
   ]
  },
  {
   "cell_type": "code",
   "execution_count": 43,
   "id": "d90c9a65-e6db-4f5d-80cd-e68fb7e46829",
   "metadata": {
    "execution": {
     "iopub.execute_input": "2025-08-05T16:27:45.030631Z",
     "iopub.status.busy": "2025-08-05T16:27:45.030038Z",
     "iopub.status.idle": "2025-08-05T16:27:45.036840Z",
     "shell.execute_reply": "2025-08-05T16:27:45.035822Z"
    },
    "papermill": {
     "duration": 0.032473,
     "end_time": "2025-08-05T16:27:45.038785",
     "exception": false,
     "start_time": "2025-08-05T16:27:45.006312",
     "status": "completed"
    },
    "tags": []
   },
   "outputs": [],
   "source": [
    "y_true = y_true.squeeze()"
   ]
  },
  {
   "cell_type": "code",
   "execution_count": 44,
   "id": "3a58a54a-1e68-46b9-927a-df01f18aebc8",
   "metadata": {
    "execution": {
     "iopub.execute_input": "2025-08-05T16:27:45.092261Z",
     "iopub.status.busy": "2025-08-05T16:27:45.091490Z",
     "iopub.status.idle": "2025-08-05T16:27:45.776504Z",
     "shell.execute_reply": "2025-08-05T16:27:45.775174Z"
    },
    "papermill": {
     "duration": 0.71405,
     "end_time": "2025-08-05T16:27:45.778830",
     "exception": false,
     "start_time": "2025-08-05T16:27:45.064780",
     "status": "completed"
    },
    "tags": []
   },
   "outputs": [],
   "source": [
    "from fairness_multiverse.conformal import evaluate_sets\n",
    "\n",
    "# Evaluate coverage and average set size on test data\n",
    "metrics = evaluate_sets(pred_sets, y_true)"
   ]
  },
  {
   "cell_type": "markdown",
   "id": "2b569c12-9aaa-4c88-98c9-bbcd0cf3ebb8",
   "metadata": {
    "papermill": {
     "duration": 0.024958,
     "end_time": "2025-08-05T16:27:45.830709",
     "exception": false,
     "start_time": "2025-08-05T16:27:45.805751",
     "status": "completed"
    },
    "tags": []
   },
   "source": [
    "# CP Metrics"
   ]
  },
  {
   "cell_type": "code",
   "execution_count": 45,
   "id": "5ce0a5cb-201f-45a0-ade5-94c7f0bd6095",
   "metadata": {
    "execution": {
     "iopub.execute_input": "2025-08-05T16:27:45.883927Z",
     "iopub.status.busy": "2025-08-05T16:27:45.883474Z",
     "iopub.status.idle": "2025-08-05T16:27:45.891072Z",
     "shell.execute_reply": "2025-08-05T16:27:45.889956Z"
    },
    "papermill": {
     "duration": 0.036495,
     "end_time": "2025-08-05T16:27:45.893078",
     "exception": false,
     "start_time": "2025-08-05T16:27:45.856583",
     "status": "completed"
    },
    "tags": []
   },
   "outputs": [
    {
     "data": {
      "text/plain": [
       "{'coverage': 0.9163972801248468, 'avg_size': 1.1811392263961655}"
      ]
     },
     "execution_count": 45,
     "metadata": {},
     "output_type": "execute_result"
    }
   ],
   "source": [
    "metrics"
   ]
  },
  {
   "cell_type": "code",
   "execution_count": 46,
   "id": "9b9a838d-31c9-430b-ae14-12baee460d17",
   "metadata": {
    "execution": {
     "iopub.execute_input": "2025-08-05T16:27:45.946840Z",
     "iopub.status.busy": "2025-08-05T16:27:45.946397Z",
     "iopub.status.idle": "2025-08-05T16:27:45.954491Z",
     "shell.execute_reply": "2025-08-05T16:27:45.953291Z"
    },
    "papermill": {
     "duration": 0.036839,
     "end_time": "2025-08-05T16:27:45.956421",
     "exception": false,
     "start_time": "2025-08-05T16:27:45.919582",
     "status": "completed"
    },
    "tags": []
   },
   "outputs": [],
   "source": [
    "example_universe = universe.copy()\n",
    "universe_training_year = example_universe.get(\"training_year\")\n",
    "universe_training_size = example_universe.get(\"training_size\")\n",
    "universe_scale = example_universe.get(\"scale\")\n",
    "universe_model = example_universe.get(\"model\")\n",
    "universe_exclude_features = example_universe.get(\"exclude_features\")\n",
    "universe_exclude_subgroups = example_universe.get(\"exclude_subgroups\")"
   ]
  },
  {
   "cell_type": "code",
   "execution_count": 47,
   "id": "f4b6a8ac-9dc0-4245-8a91-5b3b5999c4f9",
   "metadata": {
    "execution": {
     "iopub.execute_input": "2025-08-05T16:27:46.007229Z",
     "iopub.status.busy": "2025-08-05T16:27:46.006132Z",
     "iopub.status.idle": "2025-08-05T16:27:46.014478Z",
     "shell.execute_reply": "2025-08-05T16:27:46.013282Z"
    },
    "papermill": {
     "duration": 0.036455,
     "end_time": "2025-08-05T16:27:46.016931",
     "exception": false,
     "start_time": "2025-08-05T16:27:45.980476",
     "status": "completed"
    },
    "tags": []
   },
   "outputs": [],
   "source": [
    "cp_metrics_dict = {\n",
    "    \"universe_id\": [universe_id],\n",
    "    \"universe_training_year\": [universe_training_year],\n",
    "    \"universe_training_size\": [universe_training_size],\n",
    "    \"universe_scale\": [universe_scale],\n",
    "    \"universe_model\": [universe_model],\n",
    "    \"universe_exclude_features\": [universe_exclude_features],\n",
    "    \"universe_exclude_subgroups\": [universe_exclude_subgroups],\n",
    "    \"q_hat\": [q_hat],\n",
    "    \"coverage\": [metrics[\"coverage\"]],\n",
    "    \"avg_size\": [metrics[\"avg_size\"]],\n",
    "}"
   ]
  },
  {
   "cell_type": "code",
   "execution_count": 48,
   "id": "908acbb1-0371-4915-85ca-3fa520d2efe2",
   "metadata": {
    "execution": {
     "iopub.execute_input": "2025-08-05T16:27:46.084544Z",
     "iopub.status.busy": "2025-08-05T16:27:46.083753Z",
     "iopub.status.idle": "2025-08-05T16:27:46.092940Z",
     "shell.execute_reply": "2025-08-05T16:27:46.091554Z"
    },
    "papermill": {
     "duration": 0.046017,
     "end_time": "2025-08-05T16:27:46.095179",
     "exception": false,
     "start_time": "2025-08-05T16:27:46.049162",
     "status": "completed"
    },
    "tags": []
   },
   "outputs": [
    {
     "data": {
      "text/plain": [
       "{'universe_id': ['38dc48bca3dc2aa73be4e93a4ad34749'],\n",
       " 'universe_training_year': ['2012_14'],\n",
       " 'universe_training_size': ['1k'],\n",
       " 'universe_scale': ['do-not-scale'],\n",
       " 'universe_model': ['rf'],\n",
       " 'universe_exclude_features': ['nationality-sex'],\n",
       " 'universe_exclude_subgroups': ['drop-non-german'],\n",
       " 'q_hat': [0.6699999999999999],\n",
       " 'coverage': [0.9163972801248468],\n",
       " 'avg_size': [1.1811392263961655]}"
      ]
     },
     "execution_count": 48,
     "metadata": {},
     "output_type": "execute_result"
    }
   ],
   "source": [
    "cp_metrics_dict"
   ]
  },
  {
   "cell_type": "code",
   "execution_count": 49,
   "id": "33007efc-14e9-4ec6-97ac-56a455c82265",
   "metadata": {
    "execution": {
     "iopub.execute_input": "2025-08-05T16:27:46.164303Z",
     "iopub.status.busy": "2025-08-05T16:27:46.163478Z",
     "iopub.status.idle": "2025-08-05T16:27:46.172025Z",
     "shell.execute_reply": "2025-08-05T16:27:46.170835Z"
    },
    "papermill": {
     "duration": 0.04532,
     "end_time": "2025-08-05T16:27:46.174296",
     "exception": false,
     "start_time": "2025-08-05T16:27:46.128976",
     "status": "completed"
    },
    "tags": []
   },
   "outputs": [],
   "source": [
    "cp_metrics_df = pd.DataFrame(cp_metrics_dict)"
   ]
  },
  {
   "cell_type": "code",
   "execution_count": 50,
   "id": "db12611b-57b2-4910-b9d0-355adfd6e7bf",
   "metadata": {
    "execution": {
     "iopub.execute_input": "2025-08-05T16:27:46.230341Z",
     "iopub.status.busy": "2025-08-05T16:27:46.229784Z",
     "iopub.status.idle": "2025-08-05T16:27:46.254959Z",
     "shell.execute_reply": "2025-08-05T16:27:46.253841Z"
    },
    "papermill": {
     "duration": 0.055006,
     "end_time": "2025-08-05T16:27:46.257047",
     "exception": false,
     "start_time": "2025-08-05T16:27:46.202041",
     "status": "completed"
    },
    "tags": []
   },
   "outputs": [
    {
     "data": {
      "text/html": [
       "<div>\n",
       "<style scoped>\n",
       "    .dataframe tbody tr th:only-of-type {\n",
       "        vertical-align: middle;\n",
       "    }\n",
       "\n",
       "    .dataframe tbody tr th {\n",
       "        vertical-align: top;\n",
       "    }\n",
       "\n",
       "    .dataframe thead th {\n",
       "        text-align: right;\n",
       "    }\n",
       "</style>\n",
       "<table border=\"1\" class=\"dataframe\">\n",
       "  <thead>\n",
       "    <tr style=\"text-align: right;\">\n",
       "      <th></th>\n",
       "      <th>universe_id</th>\n",
       "      <th>universe_training_year</th>\n",
       "      <th>universe_training_size</th>\n",
       "      <th>universe_scale</th>\n",
       "      <th>universe_model</th>\n",
       "      <th>universe_exclude_features</th>\n",
       "      <th>universe_exclude_subgroups</th>\n",
       "      <th>q_hat</th>\n",
       "      <th>coverage</th>\n",
       "      <th>avg_size</th>\n",
       "    </tr>\n",
       "  </thead>\n",
       "  <tbody>\n",
       "    <tr>\n",
       "      <th>0</th>\n",
       "      <td>38dc48bca3dc2aa73be4e93a4ad34749</td>\n",
       "      <td>2012_14</td>\n",
       "      <td>1k</td>\n",
       "      <td>do-not-scale</td>\n",
       "      <td>rf</td>\n",
       "      <td>nationality-sex</td>\n",
       "      <td>drop-non-german</td>\n",
       "      <td>0.67</td>\n",
       "      <td>0.916397</td>\n",
       "      <td>1.181139</td>\n",
       "    </tr>\n",
       "  </tbody>\n",
       "</table>\n",
       "</div>"
      ],
      "text/plain": [
       "                        universe_id universe_training_year  \\\n",
       "0  38dc48bca3dc2aa73be4e93a4ad34749                2012_14   \n",
       "\n",
       "  universe_training_size universe_scale universe_model  \\\n",
       "0                     1k   do-not-scale             rf   \n",
       "\n",
       "  universe_exclude_features universe_exclude_subgroups  q_hat  coverage  \\\n",
       "0           nationality-sex            drop-non-german   0.67  0.916397   \n",
       "\n",
       "   avg_size  \n",
       "0  1.181139  "
      ]
     },
     "execution_count": 50,
     "metadata": {},
     "output_type": "execute_result"
    }
   ],
   "source": [
    "cp_metrics_df"
   ]
  },
  {
   "cell_type": "code",
   "execution_count": 51,
   "id": "b7fbde55-a0a1-47e4-9af6-fe4a17fa8c61",
   "metadata": {
    "execution": {
     "iopub.execute_input": "2025-08-05T16:27:46.323343Z",
     "iopub.status.busy": "2025-08-05T16:27:46.322757Z",
     "iopub.status.idle": "2025-08-05T16:27:46.329230Z",
     "shell.execute_reply": "2025-08-05T16:27:46.328010Z"
    },
    "papermill": {
     "duration": 0.047641,
     "end_time": "2025-08-05T16:27:46.331675",
     "exception": false,
     "start_time": "2025-08-05T16:27:46.284034",
     "status": "completed"
    },
    "tags": []
   },
   "outputs": [],
   "source": [
    "# Conditional Coverage & looking at subgroups"
   ]
  },
  {
   "cell_type": "code",
   "execution_count": 52,
   "id": "027ae886-68dd-4141-96c7-805a5450e1ef",
   "metadata": {
    "execution": {
     "iopub.execute_input": "2025-08-05T16:27:46.365150Z",
     "iopub.status.busy": "2025-08-05T16:27:46.364484Z",
     "iopub.status.idle": "2025-08-05T16:27:46.628833Z",
     "shell.execute_reply": "2025-08-05T16:27:46.627928Z"
    },
    "papermill": {
     "duration": 0.280949,
     "end_time": "2025-08-05T16:27:46.630703",
     "exception": false,
     "start_time": "2025-08-05T16:27:46.349754",
     "status": "completed"
    },
    "tags": []
   },
   "outputs": [],
   "source": [
    "from fairness_multiverse.conformal import build_cp_groups\n",
    "\n",
    "cp_groups_df = build_cp_groups(pred_sets, y_true, X_test.index, org_test)\n",
    "#needs universe_id and setting"
   ]
  },
  {
   "cell_type": "code",
   "execution_count": 53,
   "id": "6cbdab96-b2b2-45af-ad54-d0516db2e28d",
   "metadata": {
    "execution": {
     "iopub.execute_input": "2025-08-05T16:27:46.660820Z",
     "iopub.status.busy": "2025-08-05T16:27:46.659988Z",
     "iopub.status.idle": "2025-08-05T16:27:48.577662Z",
     "shell.execute_reply": "2025-08-05T16:27:48.576363Z"
    },
    "papermill": {
     "duration": 1.93492,
     "end_time": "2025-08-05T16:27:48.580090",
     "exception": false,
     "start_time": "2025-08-05T16:27:46.645170",
     "status": "completed"
    },
    "tags": []
   },
   "outputs": [],
   "source": [
    "# Define covered = 1 if true_label is in the predicted set\n",
    "cp_groups_df['covered'] = cp_groups_df.apply(\n",
    "    lambda r: int(r['true_label'] in r['pred_set']),\n",
    "    axis=1\n",
    ")"
   ]
  },
  {
   "cell_type": "code",
   "execution_count": 54,
   "id": "338ff529-1a6b-4b87-a931-8e4788d52aad",
   "metadata": {
    "execution": {
     "iopub.execute_input": "2025-08-05T16:27:48.641251Z",
     "iopub.status.busy": "2025-08-05T16:27:48.640200Z",
     "iopub.status.idle": "2025-08-05T16:27:48.646936Z",
     "shell.execute_reply": "2025-08-05T16:27:48.645784Z"
    },
    "papermill": {
     "duration": 0.038739,
     "end_time": "2025-08-05T16:27:48.649147",
     "exception": false,
     "start_time": "2025-08-05T16:27:48.610408",
     "status": "completed"
    },
    "tags": []
   },
   "outputs": [],
   "source": [
    "#cp_groups_df"
   ]
  },
  {
   "cell_type": "code",
   "execution_count": 55,
   "id": "90032e27-66df-4540-9169-4e89cfbaa758",
   "metadata": {
    "execution": {
     "iopub.execute_input": "2025-08-05T16:27:48.709608Z",
     "iopub.status.busy": "2025-08-05T16:27:48.708992Z",
     "iopub.status.idle": "2025-08-05T16:27:48.722994Z",
     "shell.execute_reply": "2025-08-05T16:27:48.721895Z"
    },
    "papermill": {
     "duration": 0.046449,
     "end_time": "2025-08-05T16:27:48.725017",
     "exception": false,
     "start_time": "2025-08-05T16:27:48.678568",
     "status": "completed"
    },
    "tags": []
   },
   "outputs": [],
   "source": [
    "subgroups = ['frau1','nongerman','nongerman_male','nongerman_female']\n",
    "\n",
    "# Conditional coverage for subgroup==1\n",
    "cond_coverage = {\n",
    "    g: cp_groups_df.loc[cp_groups_df[g]==1, 'covered'].mean()\n",
    "    for g in subgroups\n",
    "}"
   ]
  },
  {
   "cell_type": "code",
   "execution_count": 56,
   "id": "1e348fb1-b9c3-45bc-ba23-f016827a7e0d",
   "metadata": {
    "execution": {
     "iopub.execute_input": "2025-08-05T16:27:48.784960Z",
     "iopub.status.busy": "2025-08-05T16:27:48.784396Z",
     "iopub.status.idle": "2025-08-05T16:27:48.792924Z",
     "shell.execute_reply": "2025-08-05T16:27:48.791756Z"
    },
    "papermill": {
     "duration": 0.040501,
     "end_time": "2025-08-05T16:27:48.794940",
     "exception": false,
     "start_time": "2025-08-05T16:27:48.754439",
     "status": "completed"
    },
    "tags": []
   },
   "outputs": [
    {
     "data": {
      "text/plain": [
       "{'frau1': 0.9150559374578784,\n",
       " 'nongerman': 0.9103463762420704,\n",
       " 'nongerman_male': 0.9234441142033685,\n",
       " 'nongerman_female': 0.8886736214605067}"
      ]
     },
     "execution_count": 56,
     "metadata": {},
     "output_type": "execute_result"
    }
   ],
   "source": [
    "cond_coverage"
   ]
  },
  {
   "cell_type": "code",
   "execution_count": 57,
   "id": "f5093324-c3dd-4d63-bc4c-8d945e5c8bbb",
   "metadata": {
    "execution": {
     "iopub.execute_input": "2025-08-05T16:27:48.856199Z",
     "iopub.status.busy": "2025-08-05T16:27:48.855389Z",
     "iopub.status.idle": "2025-08-05T16:27:48.864188Z",
     "shell.execute_reply": "2025-08-05T16:27:48.863079Z"
    },
    "papermill": {
     "duration": 0.04113,
     "end_time": "2025-08-05T16:27:48.866178",
     "exception": false,
     "start_time": "2025-08-05T16:27:48.825048",
     "status": "completed"
    },
    "tags": []
   },
   "outputs": [],
   "source": [
    "for subgroup, cov in cond_coverage.items():\n",
    "    cp_metrics_df[f\"cov_{subgroup}\"] = cov"
   ]
  },
  {
   "cell_type": "code",
   "execution_count": 58,
   "id": "6e872e10-dbe5-49e8-b554-5030c98ff75d",
   "metadata": {
    "execution": {
     "iopub.execute_input": "2025-08-05T16:27:48.926964Z",
     "iopub.status.busy": "2025-08-05T16:27:48.925913Z",
     "iopub.status.idle": "2025-08-05T16:27:48.949422Z",
     "shell.execute_reply": "2025-08-05T16:27:48.948202Z"
    },
    "papermill": {
     "duration": 0.055935,
     "end_time": "2025-08-05T16:27:48.951467",
     "exception": false,
     "start_time": "2025-08-05T16:27:48.895532",
     "status": "completed"
    },
    "tags": []
   },
   "outputs": [
    {
     "data": {
      "text/html": [
       "<div>\n",
       "<style scoped>\n",
       "    .dataframe tbody tr th:only-of-type {\n",
       "        vertical-align: middle;\n",
       "    }\n",
       "\n",
       "    .dataframe tbody tr th {\n",
       "        vertical-align: top;\n",
       "    }\n",
       "\n",
       "    .dataframe thead th {\n",
       "        text-align: right;\n",
       "    }\n",
       "</style>\n",
       "<table border=\"1\" class=\"dataframe\">\n",
       "  <thead>\n",
       "    <tr style=\"text-align: right;\">\n",
       "      <th></th>\n",
       "      <th>universe_id</th>\n",
       "      <th>universe_training_year</th>\n",
       "      <th>universe_training_size</th>\n",
       "      <th>universe_scale</th>\n",
       "      <th>universe_model</th>\n",
       "      <th>universe_exclude_features</th>\n",
       "      <th>universe_exclude_subgroups</th>\n",
       "      <th>q_hat</th>\n",
       "      <th>coverage</th>\n",
       "      <th>avg_size</th>\n",
       "      <th>cov_frau1</th>\n",
       "      <th>cov_nongerman</th>\n",
       "      <th>cov_nongerman_male</th>\n",
       "      <th>cov_nongerman_female</th>\n",
       "    </tr>\n",
       "  </thead>\n",
       "  <tbody>\n",
       "    <tr>\n",
       "      <th>0</th>\n",
       "      <td>38dc48bca3dc2aa73be4e93a4ad34749</td>\n",
       "      <td>2012_14</td>\n",
       "      <td>1k</td>\n",
       "      <td>do-not-scale</td>\n",
       "      <td>rf</td>\n",
       "      <td>nationality-sex</td>\n",
       "      <td>drop-non-german</td>\n",
       "      <td>0.67</td>\n",
       "      <td>0.916397</td>\n",
       "      <td>1.181139</td>\n",
       "      <td>0.915056</td>\n",
       "      <td>0.910346</td>\n",
       "      <td>0.923444</td>\n",
       "      <td>0.888674</td>\n",
       "    </tr>\n",
       "  </tbody>\n",
       "</table>\n",
       "</div>"
      ],
      "text/plain": [
       "                        universe_id universe_training_year  \\\n",
       "0  38dc48bca3dc2aa73be4e93a4ad34749                2012_14   \n",
       "\n",
       "  universe_training_size universe_scale universe_model  \\\n",
       "0                     1k   do-not-scale             rf   \n",
       "\n",
       "  universe_exclude_features universe_exclude_subgroups  q_hat  coverage  \\\n",
       "0           nationality-sex            drop-non-german   0.67  0.916397   \n",
       "\n",
       "   avg_size  cov_frau1  cov_nongerman  cov_nongerman_male  \\\n",
       "0  1.181139   0.915056       0.910346            0.923444   \n",
       "\n",
       "   cov_nongerman_female  \n",
       "0              0.888674  "
      ]
     },
     "execution_count": 58,
     "metadata": {},
     "output_type": "execute_result"
    }
   ],
   "source": [
    "cp_metrics_df"
   ]
  },
  {
   "cell_type": "markdown",
   "id": "33774451",
   "metadata": {
    "papermill": {
     "duration": 0.030466,
     "end_time": "2025-08-05T16:27:49.012255",
     "exception": false,
     "start_time": "2025-08-05T16:27:48.981789",
     "status": "completed"
    },
    "tags": []
   },
   "source": [
    "# (Fairness) Metrics"
   ]
  },
  {
   "cell_type": "code",
   "execution_count": 59,
   "id": "debc5d62",
   "metadata": {
    "execution": {
     "iopub.execute_input": "2025-08-05T16:27:49.073725Z",
     "iopub.status.busy": "2025-08-05T16:27:49.072627Z",
     "iopub.status.idle": "2025-08-05T16:27:49.101918Z",
     "shell.execute_reply": "2025-08-05T16:27:49.097048Z"
    },
    "papermill": {
     "duration": 0.062536,
     "end_time": "2025-08-05T16:27:49.104310",
     "exception": false,
     "start_time": "2025-08-05T16:27:49.041774",
     "status": "completed"
    },
    "tags": []
   },
   "outputs": [],
   "source": [
    "# do I need to include maxdeutsch1.missing?\n",
    "\n",
    "import numpy as np\n",
    "\n",
    "colname_to_bin = \"maxdeutsch1\"\n",
    "majority_value = org_train[colname_to_bin].mode()[0]\n",
    "\n",
    "org_test[\"majmin\"] = np.where(org_test[colname_to_bin] == majority_value, \"majority\", \"minority\")"
   ]
  },
  {
   "cell_type": "code",
   "execution_count": 60,
   "id": "06a50de5",
   "metadata": {
    "execution": {
     "iopub.execute_input": "2025-08-05T16:27:49.166904Z",
     "iopub.status.busy": "2025-08-05T16:27:49.166354Z",
     "iopub.status.idle": "2025-08-05T16:27:52.539737Z",
     "shell.execute_reply": "2025-08-05T16:27:52.538652Z"
    },
    "papermill": {
     "duration": 3.406952,
     "end_time": "2025-08-05T16:27:52.542084",
     "exception": false,
     "start_time": "2025-08-05T16:27:49.135132",
     "status": "completed"
    },
    "tags": []
   },
   "outputs": [],
   "source": [
    "example_universe = universe.copy()\n",
    "example_universe[\"cutoff\"] = example_universe[\"cutoff\"][0]\n",
    "example_universe[\"eval_fairness_grouping\"] = example_universe[\"eval_fairness_grouping\"][0]\n",
    "fairness_dict, metric_frame = universe_analysis.compute_metrics(\n",
    "    example_universe,\n",
    "    y_pred_prob=probs_test,\n",
    "    y_test=y_true,\n",
    "    org_test=org_test,\n",
    ")"
   ]
  },
  {
   "cell_type": "markdown",
   "id": "f95d4e02",
   "metadata": {
    "papermill": {
     "duration": 0.031919,
     "end_time": "2025-08-05T16:27:52.605359",
     "exception": false,
     "start_time": "2025-08-05T16:27:52.573440",
     "status": "completed"
    },
    "tags": []
   },
   "source": [
    "# Overall"
   ]
  },
  {
   "cell_type": "markdown",
   "id": "bdee4871",
   "metadata": {
    "papermill": {
     "duration": 0.030621,
     "end_time": "2025-08-05T16:27:52.666905",
     "exception": false,
     "start_time": "2025-08-05T16:27:52.636284",
     "status": "completed"
    },
    "tags": []
   },
   "source": [
    "Fairness\n",
    "Main fairness target: Equalized Odds. Seems to be a better fit than equal opportunity, since we're not only interested in Y = 1. Seems to be a better fit than demographic parity, since we also care about accuracy, not just equal distribution of preds.\n",
    "\n",
    "Pick column for computation of fairness metrics\n",
    "\n",
    "Performance\n",
    "Overall performance measures, most interesting in relation to the measures split by group below"
   ]
  },
  {
   "cell_type": "code",
   "execution_count": 61,
   "id": "c4e067c6",
   "metadata": {
    "execution": {
     "iopub.execute_input": "2025-08-05T16:27:52.731051Z",
     "iopub.status.busy": "2025-08-05T16:27:52.730018Z",
     "iopub.status.idle": "2025-08-05T16:27:52.739788Z",
     "shell.execute_reply": "2025-08-05T16:27:52.738679Z"
    },
    "papermill": {
     "duration": 0.043392,
     "end_time": "2025-08-05T16:27:52.741827",
     "exception": false,
     "start_time": "2025-08-05T16:27:52.698435",
     "status": "completed"
    },
    "tags": []
   },
   "outputs": [
    {
     "data": {
      "text/plain": [
       "accuracy                   0.220187\n",
       "balanced accuracy          0.544564\n",
       "f1                         0.243978\n",
       "precision                  0.139315\n",
       "false positive rate        0.891755\n",
       "false negative rate        0.019117\n",
       "selection rate             0.903188\n",
       "count                  89710.000000\n",
       "dtype: float64"
      ]
     },
     "execution_count": 61,
     "metadata": {},
     "output_type": "execute_result"
    }
   ],
   "source": [
    "metric_frame.overall"
   ]
  },
  {
   "cell_type": "markdown",
   "id": "e968fe9d",
   "metadata": {
    "papermill": {
     "duration": 0.030515,
     "end_time": "2025-08-05T16:27:52.804615",
     "exception": false,
     "start_time": "2025-08-05T16:27:52.774100",
     "status": "completed"
    },
    "tags": []
   },
   "source": [
    "By Group"
   ]
  },
  {
   "cell_type": "code",
   "execution_count": 62,
   "id": "ec325bce",
   "metadata": {
    "execution": {
     "iopub.execute_input": "2025-08-05T16:27:52.870390Z",
     "iopub.status.busy": "2025-08-05T16:27:52.869188Z",
     "iopub.status.idle": "2025-08-05T16:27:52.887615Z",
     "shell.execute_reply": "2025-08-05T16:27:52.886345Z"
    },
    "papermill": {
     "duration": 0.053372,
     "end_time": "2025-08-05T16:27:52.889653",
     "exception": false,
     "start_time": "2025-08-05T16:27:52.836281",
     "status": "completed"
    },
    "tags": []
   },
   "outputs": [
    {
     "data": {
      "text/html": [
       "<div>\n",
       "<style scoped>\n",
       "    .dataframe tbody tr th:only-of-type {\n",
       "        vertical-align: middle;\n",
       "    }\n",
       "\n",
       "    .dataframe tbody tr th {\n",
       "        vertical-align: top;\n",
       "    }\n",
       "\n",
       "    .dataframe thead th {\n",
       "        text-align: right;\n",
       "    }\n",
       "</style>\n",
       "<table border=\"1\" class=\"dataframe\">\n",
       "  <thead>\n",
       "    <tr style=\"text-align: right;\">\n",
       "      <th></th>\n",
       "      <th>accuracy</th>\n",
       "      <th>balanced accuracy</th>\n",
       "      <th>f1</th>\n",
       "      <th>precision</th>\n",
       "      <th>false positive rate</th>\n",
       "      <th>false negative rate</th>\n",
       "      <th>selection rate</th>\n",
       "      <th>count</th>\n",
       "    </tr>\n",
       "    <tr>\n",
       "      <th>majmin</th>\n",
       "      <th></th>\n",
       "      <th></th>\n",
       "      <th></th>\n",
       "      <th></th>\n",
       "      <th></th>\n",
       "      <th></th>\n",
       "      <th></th>\n",
       "      <th></th>\n",
       "    </tr>\n",
       "  </thead>\n",
       "  <tbody>\n",
       "    <tr>\n",
       "      <th>majority</th>\n",
       "      <td>0.232529</td>\n",
       "      <td>0.549908</td>\n",
       "      <td>0.252563</td>\n",
       "      <td>0.144932</td>\n",
       "      <td>0.881476</td>\n",
       "      <td>0.018709</td>\n",
       "      <td>0.894665</td>\n",
       "      <td>69170.0</td>\n",
       "    </tr>\n",
       "    <tr>\n",
       "      <th>minority</th>\n",
       "      <td>0.178627</td>\n",
       "      <td>0.526799</td>\n",
       "      <td>0.215631</td>\n",
       "      <td>0.121154</td>\n",
       "      <td>0.925710</td>\n",
       "      <td>0.020693</td>\n",
       "      <td>0.931889</td>\n",
       "      <td>20540.0</td>\n",
       "    </tr>\n",
       "  </tbody>\n",
       "</table>\n",
       "</div>"
      ],
      "text/plain": [
       "          accuracy  balanced accuracy        f1  precision  \\\n",
       "majmin                                                       \n",
       "majority  0.232529           0.549908  0.252563   0.144932   \n",
       "minority  0.178627           0.526799  0.215631   0.121154   \n",
       "\n",
       "          false positive rate  false negative rate  selection rate    count  \n",
       "majmin                                                                       \n",
       "majority             0.881476             0.018709        0.894665  69170.0  \n",
       "minority             0.925710             0.020693        0.931889  20540.0  "
      ]
     },
     "execution_count": 62,
     "metadata": {},
     "output_type": "execute_result"
    }
   ],
   "source": [
    "metric_frame.by_group"
   ]
  },
  {
   "cell_type": "code",
   "execution_count": 63,
   "id": "a9ddbe63",
   "metadata": {
    "execution": {
     "iopub.execute_input": "2025-08-05T16:27:52.956615Z",
     "iopub.status.busy": "2025-08-05T16:27:52.955840Z",
     "iopub.status.idle": "2025-08-05T16:27:56.622895Z",
     "shell.execute_reply": "2025-08-05T16:27:56.621197Z"
    },
    "papermill": {
     "duration": 3.703326,
     "end_time": "2025-08-05T16:27:56.626134",
     "exception": false,
     "start_time": "2025-08-05T16:27:52.922808",
     "status": "completed"
    },
    "tags": []
   },
   "outputs": [
    {
     "data": {
      "text/plain": [
       "array([[<Axes: title={'center': 'accuracy'}, xlabel='majmin'>,\n",
       "        <Axes: title={'center': 'balanced accuracy'}, xlabel='majmin'>,\n",
       "        <Axes: title={'center': 'f1'}, xlabel='majmin'>],\n",
       "       [<Axes: title={'center': 'precision'}, xlabel='majmin'>,\n",
       "        <Axes: title={'center': 'false positive rate'}, xlabel='majmin'>,\n",
       "        <Axes: title={'center': 'false negative rate'}, xlabel='majmin'>],\n",
       "       [<Axes: title={'center': 'selection rate'}, xlabel='majmin'>,\n",
       "        <Axes: title={'center': 'count'}, xlabel='majmin'>,\n",
       "        <Axes: xlabel='majmin'>]], dtype=object)"
      ]
     },
     "execution_count": 63,
     "metadata": {},
     "output_type": "execute_result"
    },
    {
     "data": {
      "image/png": "[encoded data removed]",
      "text/plain": [
       "<Figure size 1200x800 with 9 Axes>"
      ]
     },
     "metadata": {},
     "output_type": "display_data"
    }
   ],
   "source": [
    "# In a graphic\n",
    "metric_frame.by_group.plot.bar(\n",
    "    subplots=True,\n",
    "    layout=[3, 3],\n",
    "    legend=False,\n",
    "    figsize=[12, 8],\n",
    "    title=\"Show all metrics\",\n",
    ")"
   ]
  },
  {
   "cell_type": "markdown",
   "id": "f57a0bac",
   "metadata": {
    "papermill": {
     "duration": 0.02791,
     "end_time": "2025-08-05T16:27:56.683606",
     "exception": false,
     "start_time": "2025-08-05T16:27:56.655696",
     "status": "completed"
    },
    "tags": []
   },
   "source": [
    "# Final Output"
   ]
  },
  {
   "cell_type": "code",
   "execution_count": 64,
   "id": "96d280a3",
   "metadata": {
    "execution": {
     "iopub.execute_input": "2025-08-05T16:27:56.742788Z",
     "iopub.status.busy": "2025-08-05T16:27:56.741973Z",
     "iopub.status.idle": "2025-08-05T16:27:56.752271Z",
     "shell.execute_reply": "2025-08-05T16:27:56.751196Z"
    },
    "papermill": {
     "duration": 0.042429,
     "end_time": "2025-08-05T16:27:56.754194",
     "exception": false,
     "start_time": "2025-08-05T16:27:56.711765",
     "status": "completed"
    },
    "tags": []
   },
   "outputs": [
    {
     "data": {
      "text/plain": [
       "4"
      ]
     },
     "execution_count": 64,
     "metadata": {},
     "output_type": "execute_result"
    }
   ],
   "source": [
    "sub_universes = universe_analysis.generate_sub_universes()\n",
    "len(sub_universes)"
   ]
  },
  {
   "cell_type": "code",
   "execution_count": 65,
   "id": "92adf7ba",
   "metadata": {
    "execution": {
     "iopub.execute_input": "2025-08-05T16:27:56.795931Z",
     "iopub.status.busy": "2025-08-05T16:27:56.795463Z",
     "iopub.status.idle": "2025-08-05T16:27:56.801944Z",
     "shell.execute_reply": "2025-08-05T16:27:56.801106Z"
    },
    "papermill": {
     "duration": 0.027224,
     "end_time": "2025-08-05T16:27:56.803618",
     "exception": false,
     "start_time": "2025-08-05T16:27:56.776394",
     "status": "completed"
    },
    "tags": []
   },
   "outputs": [],
   "source": [
    "def filter_sub_universe_data(sub_universe, org_test):\n",
    "    # Keep all rows — no filtering\n",
    "    keep_rows_mask = np.ones(org_test.shape[0], dtype=bool)\n",
    "\n",
    "    print(f\"[INFO] Keeping all rows: {keep_rows_mask.sum()} rows retained.\")\n",
    "    return keep_rows_mask"
   ]
  },
  {
   "cell_type": "code",
   "execution_count": 66,
   "id": "4a759155",
   "metadata": {
    "execution": {
     "iopub.execute_input": "2025-08-05T16:27:56.844875Z",
     "iopub.status.busy": "2025-08-05T16:27:56.844235Z",
     "iopub.status.idle": "2025-08-05T16:28:08.270032Z",
     "shell.execute_reply": "2025-08-05T16:28:08.269059Z"
    },
    "papermill": {
     "duration": 11.450238,
     "end_time": "2025-08-05T16:28:08.271458",
     "exception": false,
     "start_time": "2025-08-05T16:27:56.821220",
     "status": "completed"
    },
    "tags": []
   },
   "outputs": [
    {
     "name": "stdout",
     "output_type": "stream",
     "text": [
      "Stopping execution_time clock.\n",
      "[INFO] Keeping all rows: 89710 rows retained.\n"
     ]
    },
    {
     "name": "stdout",
     "output_type": "stream",
     "text": [
      "[INFO] Keeping all rows: 89710 rows retained.\n"
     ]
    },
    {
     "name": "stdout",
     "output_type": "stream",
     "text": [
      "[INFO] Keeping all rows: 89710 rows retained.\n"
     ]
    },
    {
     "name": "stdout",
     "output_type": "stream",
     "text": [
      "[INFO] Keeping all rows: 89710 rows retained.\n"
     ]
    },
    {
     "data": {
      "text/html": [
       "<div>\n",
       "<style scoped>\n",
       "    .dataframe tbody tr th:only-of-type {\n",
       "        vertical-align: middle;\n",
       "    }\n",
       "\n",
       "    .dataframe tbody tr th {\n",
       "        vertical-align: top;\n",
       "    }\n",
       "\n",
       "    .dataframe thead th {\n",
       "        text-align: right;\n",
       "    }\n",
       "</style>\n",
       "<table border=\"1\" class=\"dataframe\">\n",
       "  <thead>\n",
       "    <tr style=\"text-align: right;\">\n",
       "      <th></th>\n",
       "      <th>run_no</th>\n",
       "      <th>universe_id</th>\n",
       "      <th>universe_settings</th>\n",
       "      <th>execution_time</th>\n",
       "      <th>test_size_n</th>\n",
       "      <th>test_size_frac</th>\n",
       "      <th>fair_main_equalized_odds_difference</th>\n",
       "      <th>fair_main_equalized_odds_ratio</th>\n",
       "      <th>fair_main_demographic_parity_difference</th>\n",
       "      <th>fair_main_demographic_parity_ratio</th>\n",
       "      <th>...</th>\n",
       "      <th>perf_grp_precision_0</th>\n",
       "      <th>perf_grp_precision_1</th>\n",
       "      <th>perf_grp_false positive rate_0</th>\n",
       "      <th>perf_grp_false positive rate_1</th>\n",
       "      <th>perf_grp_false negative rate_0</th>\n",
       "      <th>perf_grp_false negative rate_1</th>\n",
       "      <th>perf_grp_selection rate_0</th>\n",
       "      <th>perf_grp_selection rate_1</th>\n",
       "      <th>perf_grp_count_0</th>\n",
       "      <th>perf_grp_count_1</th>\n",
       "    </tr>\n",
       "  </thead>\n",
       "  <tbody>\n",
       "    <tr>\n",
       "      <th>0</th>\n",
       "      <td>15</td>\n",
       "      <td>38dc48bca3dc2aa73be4e93a4ad34749</td>\n",
       "      <td>{\"cutoff\": \"quantile_0.1\", \"eval_fairness_grou...</td>\n",
       "      <td>37.613522</td>\n",
       "      <td>89710</td>\n",
       "      <td>1.0</td>\n",
       "      <td>0.044234</td>\n",
       "      <td>0.952216</td>\n",
       "      <td>0.037224</td>\n",
       "      <td>0.960056</td>\n",
       "      <td>...</td>\n",
       "      <td>NaN</td>\n",
       "      <td>NaN</td>\n",
       "      <td>NaN</td>\n",
       "      <td>NaN</td>\n",
       "      <td>NaN</td>\n",
       "      <td>NaN</td>\n",
       "      <td>NaN</td>\n",
       "      <td>NaN</td>\n",
       "      <td>NaN</td>\n",
       "      <td>NaN</td>\n",
       "    </tr>\n",
       "    <tr>\n",
       "      <th>0</th>\n",
       "      <td>15</td>\n",
       "      <td>38dc48bca3dc2aa73be4e93a4ad34749</td>\n",
       "      <td>{\"cutoff\": \"quantile_0.1\", \"eval_fairness_grou...</td>\n",
       "      <td>37.613522</td>\n",
       "      <td>89710</td>\n",
       "      <td>1.0</td>\n",
       "      <td>0.044234</td>\n",
       "      <td>0.952216</td>\n",
       "      <td>0.037224</td>\n",
       "      <td>0.960056</td>\n",
       "      <td>...</td>\n",
       "      <td>0.121154</td>\n",
       "      <td>0.144932</td>\n",
       "      <td>0.925710</td>\n",
       "      <td>0.881476</td>\n",
       "      <td>0.020693</td>\n",
       "      <td>0.018709</td>\n",
       "      <td>0.931889</td>\n",
       "      <td>0.894665</td>\n",
       "      <td>20540.0</td>\n",
       "      <td>69170.0</td>\n",
       "    </tr>\n",
       "    <tr>\n",
       "      <th>0</th>\n",
       "      <td>15</td>\n",
       "      <td>38dc48bca3dc2aa73be4e93a4ad34749</td>\n",
       "      <td>{\"cutoff\": \"quantile_0.25\", \"eval_fairness_gro...</td>\n",
       "      <td>37.613522</td>\n",
       "      <td>89710</td>\n",
       "      <td>1.0</td>\n",
       "      <td>0.088839</td>\n",
       "      <td>0.889373</td>\n",
       "      <td>0.072942</td>\n",
       "      <td>0.910633</td>\n",
       "      <td>...</td>\n",
       "      <td>NaN</td>\n",
       "      <td>NaN</td>\n",
       "      <td>NaN</td>\n",
       "      <td>NaN</td>\n",
       "      <td>NaN</td>\n",
       "      <td>NaN</td>\n",
       "      <td>NaN</td>\n",
       "      <td>NaN</td>\n",
       "      <td>NaN</td>\n",
       "      <td>NaN</td>\n",
       "    </tr>\n",
       "    <tr>\n",
       "      <th>0</th>\n",
       "      <td>15</td>\n",
       "      <td>38dc48bca3dc2aa73be4e93a4ad34749</td>\n",
       "      <td>{\"cutoff\": \"quantile_0.25\", \"eval_fairness_gro...</td>\n",
       "      <td>37.613522</td>\n",
       "      <td>89710</td>\n",
       "      <td>1.0</td>\n",
       "      <td>0.088839</td>\n",
       "      <td>0.889373</td>\n",
       "      <td>0.072942</td>\n",
       "      <td>0.910633</td>\n",
       "      <td>...</td>\n",
       "      <td>0.129556</td>\n",
       "      <td>0.166070</td>\n",
       "      <td>0.803049</td>\n",
       "      <td>0.714210</td>\n",
       "      <td>0.082770</td>\n",
       "      <td>0.065864</td>\n",
       "      <td>0.816212</td>\n",
       "      <td>0.743270</td>\n",
       "      <td>20540.0</td>\n",
       "      <td>69170.0</td>\n",
       "    </tr>\n",
       "  </tbody>\n",
       "</table>\n",
       "<p>4 rows × 50 columns</p>\n",
       "</div>"
      ],
      "text/plain": [
       "  run_no                       universe_id  \\\n",
       "0     15  38dc48bca3dc2aa73be4e93a4ad34749   \n",
       "0     15  38dc48bca3dc2aa73be4e93a4ad34749   \n",
       "0     15  38dc48bca3dc2aa73be4e93a4ad34749   \n",
       "0     15  38dc48bca3dc2aa73be4e93a4ad34749   \n",
       "\n",
       "                                   universe_settings  execution_time  \\\n",
       "0  {\"cutoff\": \"quantile_0.1\", \"eval_fairness_grou...       37.613522   \n",
       "0  {\"cutoff\": \"quantile_0.1\", \"eval_fairness_grou...       37.613522   \n",
       "0  {\"cutoff\": \"quantile_0.25\", \"eval_fairness_gro...       37.613522   \n",
       "0  {\"cutoff\": \"quantile_0.25\", \"eval_fairness_gro...       37.613522   \n",
       "\n",
       "   test_size_n  test_size_frac  fair_main_equalized_odds_difference  \\\n",
       "0        89710             1.0                             0.044234   \n",
       "0        89710             1.0                             0.044234   \n",
       "0        89710             1.0                             0.088839   \n",
       "0        89710             1.0                             0.088839   \n",
       "\n",
       "   fair_main_equalized_odds_ratio  fair_main_demographic_parity_difference  \\\n",
       "0                        0.952216                                 0.037224   \n",
       "0                        0.952216                                 0.037224   \n",
       "0                        0.889373                                 0.072942   \n",
       "0                        0.889373                                 0.072942   \n",
       "\n",
       "   fair_main_demographic_parity_ratio  ...  perf_grp_precision_0  \\\n",
       "0                            0.960056  ...                   NaN   \n",
       "0                            0.960056  ...              0.121154   \n",
       "0                            0.910633  ...                   NaN   \n",
       "0                            0.910633  ...              0.129556   \n",
       "\n",
       "   perf_grp_precision_1  perf_grp_false positive rate_0  \\\n",
       "0                   NaN                             NaN   \n",
       "0              0.144932                        0.925710   \n",
       "0                   NaN                             NaN   \n",
       "0              0.166070                        0.803049   \n",
       "\n",
       "   perf_grp_false positive rate_1  perf_grp_false negative rate_0  \\\n",
       "0                             NaN                             NaN   \n",
       "0                        0.881476                        0.020693   \n",
       "0                             NaN                             NaN   \n",
       "0                        0.714210                        0.082770   \n",
       "\n",
       "   perf_grp_false negative rate_1  perf_grp_selection rate_0  \\\n",
       "0                             NaN                        NaN   \n",
       "0                        0.018709                   0.931889   \n",
       "0                             NaN                        NaN   \n",
       "0                        0.065864                   0.816212   \n",
       "\n",
       "   perf_grp_selection rate_1  perf_grp_count_0  perf_grp_count_1  \n",
       "0                        NaN               NaN               NaN  \n",
       "0                   0.894665           20540.0           69170.0  \n",
       "0                        NaN               NaN               NaN  \n",
       "0                   0.743270           20540.0           69170.0  \n",
       "\n",
       "[4 rows x 50 columns]"
      ]
     },
     "execution_count": 66,
     "metadata": {},
     "output_type": "execute_result"
    }
   ],
   "source": [
    "final_output = universe_analysis.generate_final_output(\n",
    "    y_pred_prob=probs_test,\n",
    "    y_test=y_true,\n",
    "    org_test=org_test,\n",
    "    filter_data=filter_sub_universe_data,\n",
    "    cp_metrics_df=cp_metrics_df,\n",
    "    save=True,\n",
    ")\n",
    "final_output"
   ]
  }
 ],
 "metadata": {
  "celltoolbar": "Tags",
  "kernelspec": {
   "display_name": "Python (CMA Fairness)",
   "language": "python",
   "name": "cma_fair_env"
  },
  "language_info": {
   "codemirror_mode": {
    "name": "ipython",
    "version": 3
   },
   "file_extension": ".py",
   "mimetype": "text/x-python",
   "name": "python",
   "nbconvert_exporter": "python",
   "pygments_lexer": "ipython3",
   "version": "3.10.12"
  },
  "papermill": {
   "default_parameters": {},
   "duration": 53.304691,
   "end_time": "2025-08-05T16:28:09.016959",
   "environment_variables": {},
   "exception": null,
   "input_path": "universe_analysis.ipynb",
   "output_path": "output/runs/15/notebooks/m_15-38dc48bca3dc2aa73be4e93a4ad34749.ipynb",
   "parameters": {
    "output_dir": "output",
    "run_no": "15",
    "seed": "2023",
    "universe": "{\"cutoff\": [\"quantile_0.1\", \"quantile_0.25\"], \"eval_fairness_grouping\": [\"majority-minority\", \"nationality-all\"], \"exclude_features\": \"nationality-sex\", \"exclude_subgroups\": \"drop-non-german\", \"model\": \"rf\", \"scale\": \"do-not-scale\", \"training_size\": \"1k\", \"training_year\": \"2012_14\"}",
    "universe_id": "38dc48bca3dc2aa73be4e93a4ad34749"
   },
   "start_time": "2025-08-05T16:27:15.712268",
   "version": "2.6.0"
  }
 },
 "nbformat": 4,
 "nbformat_minor": 5
}