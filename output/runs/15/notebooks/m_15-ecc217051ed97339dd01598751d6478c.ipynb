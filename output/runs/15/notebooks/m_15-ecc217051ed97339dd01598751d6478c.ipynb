{
 "cells": [
  {
   "cell_type": "code",
   "execution_count": 1,
   "id": "f159f837-637b-42ba-96b5-ec9a68c44524",
   "metadata": {
    "execution": {
     "iopub.execute_input": "2025-07-16T15:02:30.059263Z",
     "iopub.status.busy": "2025-07-16T15:02:30.058512Z",
     "iopub.status.idle": "2025-07-16T15:02:30.071082Z",
     "shell.execute_reply": "2025-07-16T15:02:30.070191Z"
    },
    "papermill": {
     "duration": 0.031077,
     "end_time": "2025-07-16T15:02:30.072915",
     "exception": false,
     "start_time": "2025-07-16T15:02:30.041838",
     "status": "completed"
    },
    "tags": []
   },
   "outputs": [
    {
     "name": "stdout",
     "output_type": "stream",
     "text": [
      "/dss/dsshome1/0C/ra93lal2/cma/CMA_Fairness_v2\n"
     ]
    },
    {
     "name": "stderr",
     "output_type": "stream",
     "text": [
      "/dss/dsshome1/0C/ra93lal2/.local/share/virtualenvs/CMA_Fairness_v2-3j10GkSs/lib/python3.10/site-packages/IPython/core/magics/osm.py:393: UserWarning: This is now an optional IPython functionality, using bookmarks requires you to install the `pickleshare` library.\n",
      "  bkms = self.shell.db.get('bookmarks', {})\n",
      "/dss/dsshome1/0C/ra93lal2/.local/share/virtualenvs/CMA_Fairness_v2-3j10GkSs/lib/python3.10/site-packages/IPython/core/magics/osm.py:417: UserWarning: This is now an optional IPython functionality, setting dhist requires you to install the `pickleshare` library.\n",
      "  self.shell.db['dhist'] = compress_dhist(dhist)[-100:]\n"
     ]
    }
   ],
   "source": [
    "%cd ~/cma/CMA_Fairness_v2"
   ]
  },
  {
   "cell_type": "markdown",
   "id": "de2603b9",
   "metadata": {
    "papermill": {
     "duration": 0.014233,
     "end_time": "2025-07-16T15:02:30.102985",
     "exception": false,
     "start_time": "2025-07-16T15:02:30.088752",
     "status": "completed"
    },
    "tags": []
   },
   "source": [
    "The following cell holds the definition of our parameters, these values can be overriden by rendering the with e.g. the following command:\n",
    "\n",
    "papermill -p alpha 0.2 -p ratio 0.3 universe_analysis.ipynb output/test_run.ipynb"
   ]
  },
  {
   "cell_type": "code",
   "execution_count": 2,
   "id": "a80968a0-40bb-4fa9-85ef-2d5eefb01975",
   "metadata": {
    "execution": {
     "iopub.execute_input": "2025-07-16T15:02:30.133053Z",
     "iopub.status.busy": "2025-07-16T15:02:30.132608Z",
     "iopub.status.idle": "2025-07-16T15:02:30.137303Z",
     "shell.execute_reply": "2025-07-16T15:02:30.136544Z"
    },
    "papermill": {
     "duration": 0.02132,
     "end_time": "2025-07-16T15:02:30.138799",
     "exception": false,
     "start_time": "2025-07-16T15:02:30.117479",
     "status": "completed"
    },
    "tags": []
   },
   "outputs": [
    {
     "name": "stdout",
     "output_type": "stream",
     "text": [
      "Current working directory: /dss/dsshome1/0C/ra93lal2/cma/CMA_Fairness_v2\n"
     ]
    }
   ],
   "source": [
    "import os\n",
    "print(\"Current working directory:\", os.getcwd())"
   ]
  },
  {
   "cell_type": "code",
   "execution_count": 3,
   "id": "2dce4c03",
   "metadata": {
    "execution": {
     "iopub.execute_input": "2025-07-16T15:02:30.169476Z",
     "iopub.status.busy": "2025-07-16T15:02:30.168967Z",
     "iopub.status.idle": "2025-07-16T15:02:30.173726Z",
     "shell.execute_reply": "2025-07-16T15:02:30.172639Z"
    },
    "papermill": {
     "duration": 0.020976,
     "end_time": "2025-07-16T15:02:30.175419",
     "exception": false,
     "start_time": "2025-07-16T15:02:30.154443",
     "status": "completed"
    },
    "tags": [
     "parameters"
    ]
   },
   "outputs": [],
   "source": [
    "run_no = 0\n",
    "universe_id = \"test\"\n",
    "universe = {\n",
    "    #\"scale\": \"scale\", # \"scale\", \"do-not-scale\",\n",
    "    #\"encode_categorical\": \"one-hot\", # \"ordinal\", \"one-hot\"\n",
    "    \"model\": \"elasticnet\", # \"logreg\", \"penalized_logreg\", \"rf\", \"gbm\", \"elasticnet\"\n",
    "    \"cutoff\": [\"quantile_0.15\", \"quantile_0.30\"],\n",
    "    \"exclude_features\": \"nationality-sex\", # \"none\", \"nationality\", \"sex\", \"nationality-sex\"\n",
    "    \"exclude_subgroups\": \"keep-all\", # \"keep-all\", \"drop-non-german\"\n",
    "    \"eval_fairness_grouping\": [\"majority-minority\", \"nationality-all\"]\n",
    "}\n",
    "\n",
    "output_dir=\"./output\"\n",
    "seed=0"
   ]
  },
  {
   "cell_type": "code",
   "execution_count": 4,
   "id": "83ea181c",
   "metadata": {
    "execution": {
     "iopub.execute_input": "2025-07-16T15:02:30.208635Z",
     "iopub.status.busy": "2025-07-16T15:02:30.208209Z",
     "iopub.status.idle": "2025-07-16T15:02:30.213134Z",
     "shell.execute_reply": "2025-07-16T15:02:30.212227Z"
    },
    "papermill": {
     "duration": 0.022987,
     "end_time": "2025-07-16T15:02:30.214873",
     "exception": false,
     "start_time": "2025-07-16T15:02:30.191886",
     "status": "completed"
    },
    "tags": [
     "injected-parameters"
    ]
   },
   "outputs": [],
   "source": [
    "# Parameters\n",
    "universe_id = \"ecc217051ed97339dd01598751d6478c\"\n",
    "run_no = \"15\"\n",
    "universe = \"{\\\"cutoff\\\": [\\\"quantile_0.1\\\", \\\"quantile_0.25\\\"], \\\"eval_fairness_grouping\\\": [\\\"majority-minority\\\", \\\"nationality-all\\\"], \\\"exclude_features\\\": \\\"nationality-sex\\\", \\\"exclude_subgroups\\\": \\\"drop-non-german\\\", \\\"model\\\": \\\"logreg\\\"}\"\n",
    "output_dir = \"output\"\n",
    "seed = \"2023\"\n"
   ]
  },
  {
   "cell_type": "code",
   "execution_count": 5,
   "id": "1650acaf",
   "metadata": {
    "execution": {
     "iopub.execute_input": "2025-07-16T15:02:30.246118Z",
     "iopub.status.busy": "2025-07-16T15:02:30.245688Z",
     "iopub.status.idle": "2025-07-16T15:02:30.250509Z",
     "shell.execute_reply": "2025-07-16T15:02:30.249507Z"
    },
    "papermill": {
     "duration": 0.021536,
     "end_time": "2025-07-16T15:02:30.252217",
     "exception": false,
     "start_time": "2025-07-16T15:02:30.230681",
     "status": "completed"
    },
    "tags": []
   },
   "outputs": [],
   "source": [
    "import json\n",
    "# Parse universe into dict if it is passed as a string\n",
    "if isinstance(universe, str):\n",
    "    universe = json.loads(universe)"
   ]
  },
  {
   "cell_type": "code",
   "execution_count": 6,
   "id": "16620c48",
   "metadata": {
    "execution": {
     "iopub.execute_input": "2025-07-16T15:02:30.283469Z",
     "iopub.status.busy": "2025-07-16T15:02:30.282779Z",
     "iopub.status.idle": "2025-07-16T15:02:30.328395Z",
     "shell.execute_reply": "2025-07-16T15:02:30.327537Z"
    },
    "papermill": {
     "duration": 0.062637,
     "end_time": "2025-07-16T15:02:30.330098",
     "exception": false,
     "start_time": "2025-07-16T15:02:30.267461",
     "status": "completed"
    },
    "tags": []
   },
   "outputs": [],
   "source": [
    "# Auto-reload the custom package\n",
    "%load_ext autoreload\n",
    "%autoreload 1\n",
    "%aimport fairness_multiverse"
   ]
  },
  {
   "cell_type": "code",
   "execution_count": 7,
   "id": "01c5c9f3",
   "metadata": {
    "execution": {
     "iopub.execute_input": "2025-07-16T15:02:30.366582Z",
     "iopub.status.busy": "2025-07-16T15:02:30.365902Z",
     "iopub.status.idle": "2025-07-16T15:02:32.355492Z",
     "shell.execute_reply": "2025-07-16T15:02:32.354714Z"
    },
    "papermill": {
     "duration": 2.010296,
     "end_time": "2025-07-16T15:02:32.357047",
     "exception": false,
     "start_time": "2025-07-16T15:02:30.346751",
     "status": "completed"
    },
    "tags": []
   },
   "outputs": [],
   "source": [
    "from fairness_multiverse.universe import UniverseAnalysis\n",
    "\n",
    "universe_analysis = UniverseAnalysis(\n",
    "    run_no = run_no,\n",
    "    universe_id = universe_id,\n",
    "    universe = universe,\n",
    "    output_dir=output_dir,\n",
    ")"
   ]
  },
  {
   "cell_type": "code",
   "execution_count": 8,
   "id": "106241f5",
   "metadata": {
    "execution": {
     "iopub.execute_input": "2025-07-16T15:02:32.377730Z",
     "iopub.status.busy": "2025-07-16T15:02:32.377362Z",
     "iopub.status.idle": "2025-07-16T15:02:32.382338Z",
     "shell.execute_reply": "2025-07-16T15:02:32.381604Z"
    },
    "papermill": {
     "duration": 0.017764,
     "end_time": "2025-07-16T15:02:32.384050",
     "exception": false,
     "start_time": "2025-07-16T15:02:32.366286",
     "status": "completed"
    },
    "tags": []
   },
   "outputs": [
    {
     "name": "stdout",
     "output_type": "stream",
     "text": [
      "Using Seed: 2023\n"
     ]
    }
   ],
   "source": [
    "import numpy as np\n",
    "parsed_seed = int(seed)\n",
    "np.random.seed(parsed_seed)\n",
    "print(f\"Using Seed: {parsed_seed}\")"
   ]
  },
  {
   "cell_type": "markdown",
   "id": "e0ebdc57",
   "metadata": {
    "papermill": {
     "duration": 0.016929,
     "end_time": "2025-07-16T15:02:32.419098",
     "exception": false,
     "start_time": "2025-07-16T15:02:32.402169",
     "status": "completed"
    },
    "tags": []
   },
   "source": [
    "# Loading Data"
   ]
  },
  {
   "cell_type": "markdown",
   "id": "681925a3",
   "metadata": {
    "papermill": {
     "duration": 0.01742,
     "end_time": "2025-07-16T15:02:32.454299",
     "exception": false,
     "start_time": "2025-07-16T15:02:32.436879",
     "status": "completed"
    },
    "tags": []
   },
   "source": [
    "Load siab_train, siab_test, siab_calib and/or \n",
    "load siab_train_features, siab_train_labels"
   ]
  },
  {
   "cell_type": "code",
   "execution_count": 9,
   "id": "f0496b8a",
   "metadata": {
    "execution": {
     "iopub.execute_input": "2025-07-16T15:02:32.490170Z",
     "iopub.status.busy": "2025-07-16T15:02:32.489580Z",
     "iopub.status.idle": "2025-07-16T15:02:42.210880Z",
     "shell.execute_reply": "2025-07-16T15:02:42.210144Z"
    },
    "papermill": {
     "duration": 9.741005,
     "end_time": "2025-07-16T15:02:42.212370",
     "exception": false,
     "start_time": "2025-07-16T15:02:32.471365",
     "status": "completed"
    },
    "tags": []
   },
   "outputs": [
    {
     "name": "stdout",
     "output_type": "stream",
     "text": [
      "Loading SIAB data from cache: data/siab_cached.csv.gz\n"
     ]
    },
    {
     "name": "stdout",
     "output_type": "stream",
     "text": [
      "(643690, 164)\n"
     ]
    }
   ],
   "source": [
    "# Do I need to load siab? Delete this cell?\n",
    "\n",
    "from pathlib import Path\n",
    "import pandas as pd\n",
    "\n",
    "# File paths\n",
    "raw_file = Path(\"data/raw/siab.csv\")\n",
    "cache_file = Path(\"data/siab_cached.csv.gz\")\n",
    "\n",
    "# Ensure cache directory exists\n",
    "cache_file.parent.mkdir(parents=True, exist_ok=True)\n",
    "\n",
    "# Load with simple caching\n",
    "if cache_file.exists():\n",
    "    print(f\"Loading SIAB data from cache: {cache_file}\")\n",
    "    siab = pd.read_csv(cache_file, compression='gzip')\n",
    "else:\n",
    "    print(f\"Cache not found. Reading raw SIAB data: {raw_file}\")\n",
    "    siab = pd.read_csv(raw_file)\n",
    "    siab.to_csv(cache_file, index=False, compression='gzip')\n",
    "    print(f\"Cached SIAB data to: {cache_file}\")\n",
    "\n",
    "# Now use `siab` DataFrame as needed\n",
    "print(siab.shape)\n"
   ]
  },
  {
   "cell_type": "code",
   "execution_count": 10,
   "id": "a0edb063",
   "metadata": {
    "execution": {
     "iopub.execute_input": "2025-07-16T15:02:42.247157Z",
     "iopub.status.busy": "2025-07-16T15:02:42.246788Z",
     "iopub.status.idle": "2025-07-16T15:02:42.492381Z",
     "shell.execute_reply": "2025-07-16T15:02:42.491460Z"
    },
    "papermill": {
     "duration": 0.263561,
     "end_time": "2025-07-16T15:02:42.493768",
     "exception": false,
     "start_time": "2025-07-16T15:02:42.230207",
     "status": "completed"
    },
    "tags": []
   },
   "outputs": [],
   "source": [
    "import pandas as pd\n",
    "\n",
    "X_train = pd.read_csv(\"./data/X_train.csv\")\n",
    "y_train = pd.read_csv(\"./data/y_train.csv\")"
   ]
  },
  {
   "cell_type": "code",
   "execution_count": 11,
   "id": "63d08085",
   "metadata": {
    "execution": {
     "iopub.execute_input": "2025-07-16T15:02:42.513022Z",
     "iopub.status.busy": "2025-07-16T15:02:42.512120Z",
     "iopub.status.idle": "2025-07-16T15:02:43.395287Z",
     "shell.execute_reply": "2025-07-16T15:02:43.394457Z"
    },
    "papermill": {
     "duration": 0.895007,
     "end_time": "2025-07-16T15:02:43.397735",
     "exception": false,
     "start_time": "2025-07-16T15:02:42.502728",
     "status": "completed"
    },
    "tags": []
   },
   "outputs": [],
   "source": [
    "X_test = pd.read_csv(\"./data/X_test.csv\")\n",
    "y_true = pd.read_csv(\"./data/y_test.csv\")"
   ]
  },
  {
   "cell_type": "code",
   "execution_count": 12,
   "id": "98a8d0fa-1d3d-4ed8-bb2c-281470e24add",
   "metadata": {
    "execution": {
     "iopub.execute_input": "2025-07-16T15:02:43.448914Z",
     "iopub.status.busy": "2025-07-16T15:02:43.448529Z",
     "iopub.status.idle": "2025-07-16T15:02:44.740931Z",
     "shell.execute_reply": "2025-07-16T15:02:44.739730Z"
    },
    "papermill": {
     "duration": 1.319269,
     "end_time": "2025-07-16T15:02:44.742980",
     "exception": false,
     "start_time": "2025-07-16T15:02:43.423711",
     "status": "completed"
    },
    "tags": []
   },
   "outputs": [],
   "source": [
    "# Calibration data for conformal\n",
    "X_calib = pd.read_csv(\"./data/X_calib.csv\")\n",
    "y_calib = pd.read_csv(\"./data/y_calib.csv\")"
   ]
  },
  {
   "cell_type": "code",
   "execution_count": 13,
   "id": "e6c733c5",
   "metadata": {
    "execution": {
     "iopub.execute_input": "2025-07-16T15:02:44.779601Z",
     "iopub.status.busy": "2025-07-16T15:02:44.778719Z",
     "iopub.status.idle": "2025-07-16T15:02:44.870530Z",
     "shell.execute_reply": "2025-07-16T15:02:44.869450Z"
    },
    "papermill": {
     "duration": 0.112187,
     "end_time": "2025-07-16T15:02:44.872679",
     "exception": false,
     "start_time": "2025-07-16T15:02:44.760492",
     "status": "completed"
    },
    "tags": []
   },
   "outputs": [],
   "source": [
    "# Auxiliary data needed downstream in the pipeline\n",
    "\n",
    "org_train = X_train.copy()\n",
    "org_test = X_test.copy()\n",
    "org_calib = X_calib.copy()"
   ]
  },
  {
   "cell_type": "code",
   "execution_count": 14,
   "id": "e33f5cce",
   "metadata": {
    "execution": {
     "iopub.execute_input": "2025-07-16T15:02:44.909311Z",
     "iopub.status.busy": "2025-07-16T15:02:44.908707Z",
     "iopub.status.idle": "2025-07-16T15:02:45.154132Z",
     "shell.execute_reply": "2025-07-16T15:02:45.152990Z"
    },
    "papermill": {
     "duration": 0.265853,
     "end_time": "2025-07-16T15:02:45.156101",
     "exception": false,
     "start_time": "2025-07-16T15:02:44.890248",
     "status": "completed"
    },
    "tags": []
   },
   "outputs": [
    {
     "data": {
      "text/html": [
       "<div>\n",
       "<style scoped>\n",
       "    .dataframe tbody tr th:only-of-type {\n",
       "        vertical-align: middle;\n",
       "    }\n",
       "\n",
       "    .dataframe tbody tr th {\n",
       "        vertical-align: top;\n",
       "    }\n",
       "\n",
       "    .dataframe thead th {\n",
       "        text-align: right;\n",
       "    }\n",
       "</style>\n",
       "<table border=\"1\" class=\"dataframe\">\n",
       "  <thead>\n",
       "    <tr style=\"text-align: right;\">\n",
       "      <th></th>\n",
       "      <th>persnr</th>\n",
       "      <th>year</th>\n",
       "      <th>nrEntry</th>\n",
       "      <th>ltue</th>\n",
       "      <th>employed_before</th>\n",
       "      <th>receipt_leh_before</th>\n",
       "      <th>receipt_lhg_before</th>\n",
       "      <th>se_before</th>\n",
       "      <th>ASU_notue_seeking_before</th>\n",
       "      <th>ASU_other_before</th>\n",
       "      <th>...</th>\n",
       "      <th>minijob_tot_dur_byage</th>\n",
       "      <th>ft_tot_dur_byage</th>\n",
       "      <th>befrist_tot_dur_byage</th>\n",
       "      <th>leih_tot_dur_byage</th>\n",
       "      <th>LHG_tot_dur_byage</th>\n",
       "      <th>LEH_tot_dur_byage</th>\n",
       "      <th>almp_tot_dur_byage</th>\n",
       "      <th>almp_aw_tot_dur_byage</th>\n",
       "      <th>se_tot_dur_byage</th>\n",
       "      <th>seeking1_tot_dur_byage</th>\n",
       "    </tr>\n",
       "  </thead>\n",
       "  <tbody>\n",
       "    <tr>\n",
       "      <th>0</th>\n",
       "      <td>7</td>\n",
       "      <td>2015</td>\n",
       "      <td>1</td>\n",
       "      <td>0</td>\n",
       "      <td>1</td>\n",
       "      <td>0</td>\n",
       "      <td>0</td>\n",
       "      <td>0</td>\n",
       "      <td>1</td>\n",
       "      <td>0</td>\n",
       "      <td>...</td>\n",
       "      <td>0.000000</td>\n",
       "      <td>0.000000</td>\n",
       "      <td>15.043478</td>\n",
       "      <td>0.000000</td>\n",
       "      <td>0.000000</td>\n",
       "      <td>0.000000</td>\n",
       "      <td>0.000000</td>\n",
       "      <td>0.000000</td>\n",
       "      <td>0.000000</td>\n",
       "      <td>0.000000</td>\n",
       "    </tr>\n",
       "    <tr>\n",
       "      <th>1</th>\n",
       "      <td>18</td>\n",
       "      <td>2010</td>\n",
       "      <td>1</td>\n",
       "      <td>1</td>\n",
       "      <td>0</td>\n",
       "      <td>0</td>\n",
       "      <td>0</td>\n",
       "      <td>0</td>\n",
       "      <td>0</td>\n",
       "      <td>0</td>\n",
       "      <td>...</td>\n",
       "      <td>0.000000</td>\n",
       "      <td>0.000000</td>\n",
       "      <td>0.000000</td>\n",
       "      <td>0.000000</td>\n",
       "      <td>0.000000</td>\n",
       "      <td>0.000000</td>\n",
       "      <td>0.000000</td>\n",
       "      <td>0.000000</td>\n",
       "      <td>0.000000</td>\n",
       "      <td>0.000000</td>\n",
       "    </tr>\n",
       "    <tr>\n",
       "      <th>2</th>\n",
       "      <td>18</td>\n",
       "      <td>2011</td>\n",
       "      <td>2</td>\n",
       "      <td>0</td>\n",
       "      <td>1</td>\n",
       "      <td>0</td>\n",
       "      <td>1</td>\n",
       "      <td>0</td>\n",
       "      <td>1</td>\n",
       "      <td>0</td>\n",
       "      <td>...</td>\n",
       "      <td>2.714286</td>\n",
       "      <td>2.714286</td>\n",
       "      <td>0.000000</td>\n",
       "      <td>0.000000</td>\n",
       "      <td>10.775510</td>\n",
       "      <td>0.000000</td>\n",
       "      <td>8.367347</td>\n",
       "      <td>0.000000</td>\n",
       "      <td>0.000000</td>\n",
       "      <td>9.836735</td>\n",
       "    </tr>\n",
       "    <tr>\n",
       "      <th>3</th>\n",
       "      <td>18</td>\n",
       "      <td>2012</td>\n",
       "      <td>3</td>\n",
       "      <td>0</td>\n",
       "      <td>1</td>\n",
       "      <td>0</td>\n",
       "      <td>1</td>\n",
       "      <td>0</td>\n",
       "      <td>1</td>\n",
       "      <td>0</td>\n",
       "      <td>...</td>\n",
       "      <td>4.200000</td>\n",
       "      <td>4.200000</td>\n",
       "      <td>0.000000</td>\n",
       "      <td>0.000000</td>\n",
       "      <td>12.100000</td>\n",
       "      <td>0.000000</td>\n",
       "      <td>9.400000</td>\n",
       "      <td>0.000000</td>\n",
       "      <td>0.000000</td>\n",
       "      <td>9.960000</td>\n",
       "    </tr>\n",
       "    <tr>\n",
       "      <th>4</th>\n",
       "      <td>18</td>\n",
       "      <td>2012</td>\n",
       "      <td>4</td>\n",
       "      <td>0</td>\n",
       "      <td>1</td>\n",
       "      <td>0</td>\n",
       "      <td>1</td>\n",
       "      <td>0</td>\n",
       "      <td>1</td>\n",
       "      <td>0</td>\n",
       "      <td>...</td>\n",
       "      <td>5.460000</td>\n",
       "      <td>5.460000</td>\n",
       "      <td>0.000000</td>\n",
       "      <td>0.000000</td>\n",
       "      <td>13.360000</td>\n",
       "      <td>0.000000</td>\n",
       "      <td>10.320000</td>\n",
       "      <td>0.000000</td>\n",
       "      <td>0.000000</td>\n",
       "      <td>10.280000</td>\n",
       "    </tr>\n",
       "    <tr>\n",
       "      <th>...</th>\n",
       "      <td>...</td>\n",
       "      <td>...</td>\n",
       "      <td>...</td>\n",
       "      <td>...</td>\n",
       "      <td>...</td>\n",
       "      <td>...</td>\n",
       "      <td>...</td>\n",
       "      <td>...</td>\n",
       "      <td>...</td>\n",
       "      <td>...</td>\n",
       "      <td>...</td>\n",
       "      <td>...</td>\n",
       "      <td>...</td>\n",
       "      <td>...</td>\n",
       "      <td>...</td>\n",
       "      <td>...</td>\n",
       "      <td>...</td>\n",
       "      <td>...</td>\n",
       "      <td>...</td>\n",
       "      <td>...</td>\n",
       "      <td>...</td>\n",
       "    </tr>\n",
       "    <tr>\n",
       "      <th>643685</th>\n",
       "      <td>1827860</td>\n",
       "      <td>2013</td>\n",
       "      <td>1</td>\n",
       "      <td>0</td>\n",
       "      <td>0</td>\n",
       "      <td>0</td>\n",
       "      <td>1</td>\n",
       "      <td>0</td>\n",
       "      <td>0</td>\n",
       "      <td>1</td>\n",
       "      <td>...</td>\n",
       "      <td>0.000000</td>\n",
       "      <td>0.000000</td>\n",
       "      <td>0.000000</td>\n",
       "      <td>0.000000</td>\n",
       "      <td>0.612903</td>\n",
       "      <td>0.000000</td>\n",
       "      <td>0.000000</td>\n",
       "      <td>0.000000</td>\n",
       "      <td>0.000000</td>\n",
       "      <td>0.000000</td>\n",
       "    </tr>\n",
       "    <tr>\n",
       "      <th>643686</th>\n",
       "      <td>1827860</td>\n",
       "      <td>2015</td>\n",
       "      <td>2</td>\n",
       "      <td>1</td>\n",
       "      <td>0</td>\n",
       "      <td>0</td>\n",
       "      <td>1</td>\n",
       "      <td>0</td>\n",
       "      <td>1</td>\n",
       "      <td>0</td>\n",
       "      <td>...</td>\n",
       "      <td>0.000000</td>\n",
       "      <td>0.000000</td>\n",
       "      <td>0.212121</td>\n",
       "      <td>0.212121</td>\n",
       "      <td>17.363636</td>\n",
       "      <td>0.000000</td>\n",
       "      <td>8.909091</td>\n",
       "      <td>0.000000</td>\n",
       "      <td>0.000000</td>\n",
       "      <td>7.121212</td>\n",
       "    </tr>\n",
       "    <tr>\n",
       "      <th>643687</th>\n",
       "      <td>1827860</td>\n",
       "      <td>2016</td>\n",
       "      <td>3</td>\n",
       "      <td>1</td>\n",
       "      <td>0</td>\n",
       "      <td>0</td>\n",
       "      <td>1</td>\n",
       "      <td>1</td>\n",
       "      <td>0</td>\n",
       "      <td>1</td>\n",
       "      <td>...</td>\n",
       "      <td>0.000000</td>\n",
       "      <td>0.000000</td>\n",
       "      <td>0.294118</td>\n",
       "      <td>0.205882</td>\n",
       "      <td>34.705882</td>\n",
       "      <td>0.000000</td>\n",
       "      <td>10.352941</td>\n",
       "      <td>1.705882</td>\n",
       "      <td>1.705882</td>\n",
       "      <td>23.911765</td>\n",
       "    </tr>\n",
       "    <tr>\n",
       "      <th>643688</th>\n",
       "      <td>1827869</td>\n",
       "      <td>2013</td>\n",
       "      <td>1</td>\n",
       "      <td>1</td>\n",
       "      <td>1</td>\n",
       "      <td>0</td>\n",
       "      <td>0</td>\n",
       "      <td>0</td>\n",
       "      <td>1</td>\n",
       "      <td>0</td>\n",
       "      <td>...</td>\n",
       "      <td>0.000000</td>\n",
       "      <td>0.000000</td>\n",
       "      <td>0.000000</td>\n",
       "      <td>0.000000</td>\n",
       "      <td>0.000000</td>\n",
       "      <td>0.525424</td>\n",
       "      <td>0.000000</td>\n",
       "      <td>0.000000</td>\n",
       "      <td>0.000000</td>\n",
       "      <td>0.000000</td>\n",
       "    </tr>\n",
       "    <tr>\n",
       "      <th>643689</th>\n",
       "      <td>1827869</td>\n",
       "      <td>2014</td>\n",
       "      <td>2</td>\n",
       "      <td>0</td>\n",
       "      <td>0</td>\n",
       "      <td>1</td>\n",
       "      <td>0</td>\n",
       "      <td>0</td>\n",
       "      <td>1</td>\n",
       "      <td>0</td>\n",
       "      <td>...</td>\n",
       "      <td>0.000000</td>\n",
       "      <td>0.666667</td>\n",
       "      <td>0.666667</td>\n",
       "      <td>0.000000</td>\n",
       "      <td>0.000000</td>\n",
       "      <td>8.950000</td>\n",
       "      <td>1.033333</td>\n",
       "      <td>0.083333</td>\n",
       "      <td>0.083333</td>\n",
       "      <td>8.133333</td>\n",
       "    </tr>\n",
       "  </tbody>\n",
       "</table>\n",
       "<p>643690 rows × 164 columns</p>\n",
       "</div>"
      ],
      "text/plain": [
       "         persnr  year  nrEntry  ltue  employed_before  receipt_leh_before  \\\n",
       "0             7  2015        1     0                1                   0   \n",
       "1            18  2010        1     1                0                   0   \n",
       "2            18  2011        2     0                1                   0   \n",
       "3            18  2012        3     0                1                   0   \n",
       "4            18  2012        4     0                1                   0   \n",
       "...         ...   ...      ...   ...              ...                 ...   \n",
       "643685  1827860  2013        1     0                0                   0   \n",
       "643686  1827860  2015        2     1                0                   0   \n",
       "643687  1827860  2016        3     1                0                   0   \n",
       "643688  1827869  2013        1     1                1                   0   \n",
       "643689  1827869  2014        2     0                0                   1   \n",
       "\n",
       "        receipt_lhg_before  se_before  ASU_notue_seeking_before  \\\n",
       "0                        0          0                         1   \n",
       "1                        0          0                         0   \n",
       "2                        1          0                         1   \n",
       "3                        1          0                         1   \n",
       "4                        1          0                         1   \n",
       "...                    ...        ...                       ...   \n",
       "643685                   1          0                         0   \n",
       "643686                   1          0                         1   \n",
       "643687                   1          1                         0   \n",
       "643688                   0          0                         1   \n",
       "643689                   0          0                         1   \n",
       "\n",
       "        ASU_other_before  ...  minijob_tot_dur_byage  ft_tot_dur_byage  \\\n",
       "0                      0  ...               0.000000          0.000000   \n",
       "1                      0  ...               0.000000          0.000000   \n",
       "2                      0  ...               2.714286          2.714286   \n",
       "3                      0  ...               4.200000          4.200000   \n",
       "4                      0  ...               5.460000          5.460000   \n",
       "...                  ...  ...                    ...               ...   \n",
       "643685                 1  ...               0.000000          0.000000   \n",
       "643686                 0  ...               0.000000          0.000000   \n",
       "643687                 1  ...               0.000000          0.000000   \n",
       "643688                 0  ...               0.000000          0.000000   \n",
       "643689                 0  ...               0.000000          0.666667   \n",
       "\n",
       "        befrist_tot_dur_byage  leih_tot_dur_byage  LHG_tot_dur_byage  \\\n",
       "0                   15.043478            0.000000           0.000000   \n",
       "1                    0.000000            0.000000           0.000000   \n",
       "2                    0.000000            0.000000          10.775510   \n",
       "3                    0.000000            0.000000          12.100000   \n",
       "4                    0.000000            0.000000          13.360000   \n",
       "...                       ...                 ...                ...   \n",
       "643685               0.000000            0.000000           0.612903   \n",
       "643686               0.212121            0.212121          17.363636   \n",
       "643687               0.294118            0.205882          34.705882   \n",
       "643688               0.000000            0.000000           0.000000   \n",
       "643689               0.666667            0.000000           0.000000   \n",
       "\n",
       "        LEH_tot_dur_byage  almp_tot_dur_byage  almp_aw_tot_dur_byage  \\\n",
       "0                0.000000            0.000000               0.000000   \n",
       "1                0.000000            0.000000               0.000000   \n",
       "2                0.000000            8.367347               0.000000   \n",
       "3                0.000000            9.400000               0.000000   \n",
       "4                0.000000           10.320000               0.000000   \n",
       "...                   ...                 ...                    ...   \n",
       "643685           0.000000            0.000000               0.000000   \n",
       "643686           0.000000            8.909091               0.000000   \n",
       "643687           0.000000           10.352941               1.705882   \n",
       "643688           0.525424            0.000000               0.000000   \n",
       "643689           8.950000            1.033333               0.083333   \n",
       "\n",
       "        se_tot_dur_byage  seeking1_tot_dur_byage  \n",
       "0               0.000000                0.000000  \n",
       "1               0.000000                0.000000  \n",
       "2               0.000000                9.836735  \n",
       "3               0.000000                9.960000  \n",
       "4               0.000000               10.280000  \n",
       "...                  ...                     ...  \n",
       "643685          0.000000                0.000000  \n",
       "643686          0.000000                7.121212  \n",
       "643687          1.705882               23.911765  \n",
       "643688          0.000000                0.000000  \n",
       "643689          0.083333                8.133333  \n",
       "\n",
       "[643690 rows x 164 columns]"
      ]
     },
     "execution_count": 14,
     "metadata": {},
     "output_type": "execute_result"
    }
   ],
   "source": [
    "siab"
   ]
  },
  {
   "cell_type": "markdown",
   "id": "ad49c3ce",
   "metadata": {
    "papermill": {
     "duration": 0.021598,
     "end_time": "2025-07-16T15:02:45.199292",
     "exception": false,
     "start_time": "2025-07-16T15:02:45.177694",
     "status": "completed"
    },
    "tags": []
   },
   "source": [
    "Pre-Processing for Selected Task -> skipped. I think I don't need this"
   ]
  },
  {
   "cell_type": "markdown",
   "id": "0a4a1b33",
   "metadata": {
    "papermill": {
     "duration": 0.02137,
     "end_time": "2025-07-16T15:02:45.242279",
     "exception": false,
     "start_time": "2025-07-16T15:02:45.220909",
     "status": "completed"
    },
    "tags": []
   },
   "source": [
    "# Preprocessing Data"
   ]
  },
  {
   "cell_type": "code",
   "execution_count": 15,
   "id": "ca879031",
   "metadata": {
    "execution": {
     "iopub.execute_input": "2025-07-16T15:02:45.287597Z",
     "iopub.status.busy": "2025-07-16T15:02:45.287063Z",
     "iopub.status.idle": "2025-07-16T15:02:45.293700Z",
     "shell.execute_reply": "2025-07-16T15:02:45.292543Z"
    },
    "papermill": {
     "duration": 0.032355,
     "end_time": "2025-07-16T15:02:45.296194",
     "exception": false,
     "start_time": "2025-07-16T15:02:45.263839",
     "status": "completed"
    },
    "tags": []
   },
   "outputs": [],
   "source": [
    "# EXCLUDE PROTECTED FEATURES\n",
    "# ----------------------\n",
    "# \"exclude_features\": \"none\", # \"nationality\", \"sex\", \"nationality-sex\"\n",
    "\n",
    "excluded_features = universe[\"exclude_features\"].split(\"-\") # split, e.g.: \"nationality-sex\" -> [\"nationality\", \"sex\"]\n",
    "excluded_features_dictionary = {\n",
    "    \"nationality\": [\"maxdeutsch1\", \"maxdeutsch.Missing.\"],\n",
    "    \"sex\": [\"frau1\"],\n",
    "}\n"
   ]
  },
  {
   "cell_type": "code",
   "execution_count": 16,
   "id": "b745ac60",
   "metadata": {
    "execution": {
     "iopub.execute_input": "2025-07-16T15:02:45.349872Z",
     "iopub.status.busy": "2025-07-16T15:02:45.348879Z",
     "iopub.status.idle": "2025-07-16T15:02:45.356077Z",
     "shell.execute_reply": "2025-07-16T15:02:45.354715Z"
    },
    "papermill": {
     "duration": 0.036273,
     "end_time": "2025-07-16T15:02:45.358371",
     "exception": false,
     "start_time": "2025-07-16T15:02:45.322098",
     "status": "completed"
    },
    "tags": []
   },
   "outputs": [],
   "source": [
    "# Code nice names to column names\n",
    "\n",
    "excluded_features_columns = [\n",
    "    excluded_features_dictionary[f] for f in excluded_features if len(f) > 0 and f != \"none\"\n",
    "]"
   ]
  },
  {
   "cell_type": "code",
   "execution_count": 17,
   "id": "f84f73a2",
   "metadata": {
    "execution": {
     "iopub.execute_input": "2025-07-16T15:02:45.406711Z",
     "iopub.status.busy": "2025-07-16T15:02:45.405708Z",
     "iopub.status.idle": "2025-07-16T15:02:45.413495Z",
     "shell.execute_reply": "2025-07-16T15:02:45.412320Z"
    },
    "papermill": {
     "duration": 0.034823,
     "end_time": "2025-07-16T15:02:45.416033",
     "exception": false,
     "start_time": "2025-07-16T15:02:45.381210",
     "status": "completed"
    },
    "tags": []
   },
   "outputs": [],
   "source": [
    "from utils import flatten_once\n",
    "\n",
    "excluded_features_columns = flatten_once(excluded_features_columns)"
   ]
  },
  {
   "cell_type": "code",
   "execution_count": 18,
   "id": "884dea22",
   "metadata": {
    "execution": {
     "iopub.execute_input": "2025-07-16T15:02:45.467982Z",
     "iopub.status.busy": "2025-07-16T15:02:45.467481Z",
     "iopub.status.idle": "2025-07-16T15:02:45.487785Z",
     "shell.execute_reply": "2025-07-16T15:02:45.486235Z"
    },
    "papermill": {
     "duration": 0.048546,
     "end_time": "2025-07-16T15:02:45.490191",
     "exception": false,
     "start_time": "2025-07-16T15:02:45.441645",
     "status": "completed"
    },
    "tags": []
   },
   "outputs": [
    {
     "name": "stdout",
     "output_type": "stream",
     "text": [
      "Dropping features: ['maxdeutsch1', 'maxdeutsch.Missing.', 'frau1']\n"
     ]
    }
   ],
   "source": [
    "if len(excluded_features_columns) > 0:\n",
    "    print(f\"Dropping features: {excluded_features_columns}\")\n",
    "    X_train.drop(excluded_features_columns, axis=1, inplace=True)"
   ]
  },
  {
   "cell_type": "code",
   "execution_count": 19,
   "id": "95ab8b16",
   "metadata": {
    "execution": {
     "iopub.execute_input": "2025-07-16T15:02:45.545266Z",
     "iopub.status.busy": "2025-07-16T15:02:45.544517Z",
     "iopub.status.idle": "2025-07-16T15:02:45.630983Z",
     "shell.execute_reply": "2025-07-16T15:02:45.629485Z"
    },
    "papermill": {
     "duration": 0.116236,
     "end_time": "2025-07-16T15:02:45.633618",
     "exception": false,
     "start_time": "2025-07-16T15:02:45.517382",
     "status": "completed"
    },
    "tags": []
   },
   "outputs": [
    {
     "name": "stdout",
     "output_type": "stream",
     "text": [
      "Dropping features: ['maxdeutsch1', 'maxdeutsch.Missing.', 'frau1']\n"
     ]
    }
   ],
   "source": [
    "if len(excluded_features_columns) > 0:\n",
    "    print(f\"Dropping features: {excluded_features_columns}\")\n",
    "    X_test.drop(excluded_features_columns, axis=1, inplace=True)"
   ]
  },
  {
   "cell_type": "code",
   "execution_count": 20,
   "id": "1853aaf5-fb9f-46cb-a2b5-8ea4ae2237e4",
   "metadata": {
    "execution": {
     "iopub.execute_input": "2025-07-16T15:02:45.688784Z",
     "iopub.status.busy": "2025-07-16T15:02:45.687613Z",
     "iopub.status.idle": "2025-07-16T15:02:45.743997Z",
     "shell.execute_reply": "2025-07-16T15:02:45.742561Z"
    },
    "papermill": {
     "duration": 0.086707,
     "end_time": "2025-07-16T15:02:45.746752",
     "exception": false,
     "start_time": "2025-07-16T15:02:45.660045",
     "status": "completed"
    },
    "tags": []
   },
   "outputs": [
    {
     "name": "stdout",
     "output_type": "stream",
     "text": [
      "Dropping features: ['maxdeutsch1', 'maxdeutsch.Missing.', 'frau1']\n"
     ]
    }
   ],
   "source": [
    "if len(excluded_features_columns) > 0:\n",
    "    print(f\"Dropping features: {excluded_features_columns}\")\n",
    "    X_calib.drop(excluded_features_columns, axis=1, inplace=True)"
   ]
  },
  {
   "cell_type": "code",
   "execution_count": 21,
   "id": "76c4dc6d",
   "metadata": {
    "execution": {
     "iopub.execute_input": "2025-07-16T15:02:45.802043Z",
     "iopub.status.busy": "2025-07-16T15:02:45.800691Z",
     "iopub.status.idle": "2025-07-16T15:02:45.808897Z",
     "shell.execute_reply": "2025-07-16T15:02:45.807335Z"
    },
    "papermill": {
     "duration": 0.038764,
     "end_time": "2025-07-16T15:02:45.811592",
     "exception": false,
     "start_time": "2025-07-16T15:02:45.772828",
     "status": "completed"
    },
    "tags": []
   },
   "outputs": [],
   "source": [
    "# EXCLUDE CERTAIN SUBGROUPS\n",
    "# ----------------------\n",
    "\n",
    "mode = universe.get(\"exclude_subgroups\", \"keep-all\") \n",
    "# Fetches the exclude_subgroups setting from the universe dict.\n",
    "# Defaults to \"keep-all\" if the key is missing."
   ]
  },
  {
   "cell_type": "code",
   "execution_count": 22,
   "id": "21994072",
   "metadata": {
    "execution": {
     "iopub.execute_input": "2025-07-16T15:02:45.866022Z",
     "iopub.status.busy": "2025-07-16T15:02:45.865314Z",
     "iopub.status.idle": "2025-07-16T15:02:45.874263Z",
     "shell.execute_reply": "2025-07-16T15:02:45.873013Z"
    },
    "papermill": {
     "duration": 0.038795,
     "end_time": "2025-07-16T15:02:45.876948",
     "exception": false,
     "start_time": "2025-07-16T15:02:45.838153",
     "status": "completed"
    },
    "tags": []
   },
   "outputs": [],
   "source": [
    "if mode == \"keep-all\":\n",
    "    keep_mask = pd.Series(True, index=org_train.index)\n",
    "\n",
    "# org_train contains the original feature columns from features_org (in Simson)\n",
    "# features_org contains unprocessed features, for me X_train at beginning ???\n",
    "# For keep-all, creates a boolean Series (keep_mask) of all True, so no rows are removed.\n",
    "\n",
    "elif mode == \"drop-non-german\":\n",
    "    keep_mask = org_train[\"maxdeutsch1\"] == 1 # ??? what about missing values?\n",
    "\n",
    "else:\n",
    "    raise ValueError(f\"Unsupported mode for exclude_subgroups: {mode}\")\n"
   ]
  },
  {
   "cell_type": "code",
   "execution_count": 23,
   "id": "71651440",
   "metadata": {
    "execution": {
     "iopub.execute_input": "2025-07-16T15:02:45.930932Z",
     "iopub.status.busy": "2025-07-16T15:02:45.930381Z",
     "iopub.status.idle": "2025-07-16T15:02:45.939190Z",
     "shell.execute_reply": "2025-07-16T15:02:45.937748Z"
    },
    "papermill": {
     "duration": 0.038606,
     "end_time": "2025-07-16T15:02:45.941739",
     "exception": false,
     "start_time": "2025-07-16T15:02:45.903133",
     "status": "completed"
    },
    "tags": []
   },
   "outputs": [
    {
     "name": "stdout",
     "output_type": "stream",
     "text": [
      "Dropping 3312 rows (13.25%) where mode='drop-non-german'\n"
     ]
    }
   ],
   "source": [
    "n_drop = (~keep_mask).sum() # Calculates how many rows are set to be dropped\n",
    "if n_drop > 0:\n",
    "    pct = n_drop / len(keep_mask) * 100\n",
    "    print(f\"Dropping {n_drop} rows ({pct:.2f}%) where mode='{mode}'\")"
   ]
  },
  {
   "cell_type": "code",
   "execution_count": 24,
   "id": "5fb8eee5",
   "metadata": {
    "execution": {
     "iopub.execute_input": "2025-07-16T15:02:45.997315Z",
     "iopub.status.busy": "2025-07-16T15:02:45.996235Z",
     "iopub.status.idle": "2025-07-16T15:02:46.022273Z",
     "shell.execute_reply": "2025-07-16T15:02:46.020789Z"
    },
    "papermill": {
     "duration": 0.056943,
     "end_time": "2025-07-16T15:02:46.025570",
     "exception": false,
     "start_time": "2025-07-16T15:02:45.968627",
     "status": "completed"
    },
    "tags": []
   },
   "outputs": [],
   "source": [
    "X_train = X_train[keep_mask]"
   ]
  },
  {
   "cell_type": "code",
   "execution_count": 25,
   "id": "b202bb3a",
   "metadata": {
    "execution": {
     "iopub.execute_input": "2025-07-16T15:02:46.080186Z",
     "iopub.status.busy": "2025-07-16T15:02:46.079674Z",
     "iopub.status.idle": "2025-07-16T15:02:46.087121Z",
     "shell.execute_reply": "2025-07-16T15:02:46.085888Z"
    },
    "papermill": {
     "duration": 0.037635,
     "end_time": "2025-07-16T15:02:46.089711",
     "exception": false,
     "start_time": "2025-07-16T15:02:46.052076",
     "status": "completed"
    },
    "tags": []
   },
   "outputs": [],
   "source": [
    "y_train = y_train[keep_mask]"
   ]
  },
  {
   "cell_type": "markdown",
   "id": "493e2ac3",
   "metadata": {
    "papermill": {
     "duration": 0.025944,
     "end_time": "2025-07-16T15:02:46.142635",
     "exception": false,
     "start_time": "2025-07-16T15:02:46.116691",
     "status": "completed"
    },
    "tags": []
   },
   "source": [
    "# Model Training"
   ]
  },
  {
   "cell_type": "code",
   "execution_count": 26,
   "id": "679e1268",
   "metadata": {
    "execution": {
     "iopub.execute_input": "2025-07-16T15:02:46.196781Z",
     "iopub.status.busy": "2025-07-16T15:02:46.195658Z",
     "iopub.status.idle": "2025-07-16T15:02:46.395569Z",
     "shell.execute_reply": "2025-07-16T15:02:46.394422Z"
    },
    "papermill": {
     "duration": 0.229159,
     "end_time": "2025-07-16T15:02:46.397704",
     "exception": false,
     "start_time": "2025-07-16T15:02:46.168545",
     "status": "completed"
    },
    "tags": []
   },
   "outputs": [],
   "source": [
    "from sklearn.linear_model import LogisticRegression\n",
    "from sklearn.ensemble import GradientBoostingClassifier, RandomForestClassifier\n",
    "\n",
    "if (universe[\"model\"] == \"logreg\"):\n",
    "    model = LogisticRegression() #penalty=\"none\") #, solver=\"newton-cg\", max_iter=1) # include random_state=19 ?\n",
    "elif (universe[\"model\"] == \"penalized_logreg\"):\n",
    "    model = LogisticRegression(penalty=\"l2\", C=1.0) #, solver=\"newton-cg\", max_iter=1)\n",
    "elif (universe[\"model\"] == \"rf\"):\n",
    "    model = RandomForestClassifier(n_estimators=100, n_jobs=-1)\n",
    "elif (universe[\"model\"] == \"gbm\"):\n",
    "    model = GradientBoostingClassifier()\n",
    "elif (universe[\"model\"] == \"elasticnet\"):\n",
    "    model = LogisticRegression(penalty = 'elasticnet', solver = 'saga', l1_ratio = 0.5, max_iter=5000) # which solver to use?\n",
    "else:\n",
    "    raise \"Unsupported universe.model\""
   ]
  },
  {
   "cell_type": "code",
   "execution_count": 27,
   "id": "0cc8f744",
   "metadata": {
    "execution": {
     "iopub.execute_input": "2025-07-16T15:02:46.438281Z",
     "iopub.status.busy": "2025-07-16T15:02:46.437358Z",
     "iopub.status.idle": "2025-07-16T15:02:46.445773Z",
     "shell.execute_reply": "2025-07-16T15:02:46.444215Z"
    },
    "papermill": {
     "duration": 0.03064,
     "end_time": "2025-07-16T15:02:46.447871",
     "exception": false,
     "start_time": "2025-07-16T15:02:46.417231",
     "status": "completed"
    },
    "tags": []
   },
   "outputs": [],
   "source": [
    "import numpy as np\n",
    "from sklearn.pipeline import Pipeline\n",
    "from sklearn.preprocessing import StandardScaler\n",
    "from sklearn.metrics import accuracy_score\n",
    "\n",
    "model = Pipeline([\n",
    "    #(\"continuous_processor\", continuous_processor),\n",
    "    #(\"categorical_preprocessor\", categorical_preprocessor),\n",
    "    #(\"scale\", StandardScaler() if universe[\"scale\"] == \"scale\" else None),\n",
    "    (\"model\", model),\n",
    "])"
   ]
  },
  {
   "cell_type": "code",
   "execution_count": 28,
   "id": "9442c04d",
   "metadata": {
    "execution": {
     "iopub.execute_input": "2025-07-16T15:02:46.488002Z",
     "iopub.status.busy": "2025-07-16T15:02:46.487517Z",
     "iopub.status.idle": "2025-07-16T15:02:47.319560Z",
     "shell.execute_reply": "2025-07-16T15:02:47.318520Z"
    },
    "papermill": {
     "duration": 0.853653,
     "end_time": "2025-07-16T15:02:47.321142",
     "exception": false,
     "start_time": "2025-07-16T15:02:46.467489",
     "status": "completed"
    },
    "tags": []
   },
   "outputs": [
    {
     "name": "stderr",
     "output_type": "stream",
     "text": [
      "/dss/dsshome1/0C/ra93lal2/.local/share/virtualenvs/CMA_Fairness_v2-3j10GkSs/lib/python3.10/site-packages/sklearn/linear_model/_logistic.py:444: ConvergenceWarning: lbfgs failed to converge (status=1):\n",
      "STOP: TOTAL NO. of ITERATIONS REACHED LIMIT.\n",
      "\n",
      "Increase the number of iterations (max_iter) or scale the data as shown in:\n",
      "    https://scikit-learn.org/stable/modules/preprocessing.html\n",
      "Please also refer to the documentation for alternative solver options:\n",
      "    https://scikit-learn.org/stable/modules/linear_model.html#logistic-regression\n",
      "  n_iter_i = _check_optimize_result(\n"
     ]
    },
    {
     "data": {
      "text/html": [
       "<style>#sk-container-id-1 {color: black;background-color: white;}#sk-container-id-1 pre{padding: 0;}#sk-container-id-1 div.sk-toggleable {background-color: white;}#sk-container-id-1 label.sk-toggleable__label {cursor: pointer;display: block;width: 100%;margin-bottom: 0;padding: 0.3em;box-sizing: border-box;text-align: center;}#sk-container-id-1 label.sk-toggleable__label-arrow:before {content: \"▸\";float: left;margin-right: 0.25em;color: #696969;}#sk-container-id-1 label.sk-toggleable__label-arrow:hover:before {color: black;}#sk-container-id-1 div.sk-estimator:hover label.sk-toggleable__label-arrow:before {color: black;}#sk-container-id-1 div.sk-toggleable__content {max-height: 0;max-width: 0;overflow: hidden;text-align: left;background-color: #f0f8ff;}#sk-container-id-1 div.sk-toggleable__content pre {margin: 0.2em;color: black;border-radius: 0.25em;background-color: #f0f8ff;}#sk-container-id-1 input.sk-toggleable__control:checked~div.sk-toggleable__content {max-height: 200px;max-width: 100%;overflow: auto;}#sk-container-id-1 input.sk-toggleable__control:checked~label.sk-toggleable__label-arrow:before {content: \"▾\";}#sk-container-id-1 div.sk-estimator input.sk-toggleable__control:checked~label.sk-toggleable__label {background-color: #d4ebff;}#sk-container-id-1 div.sk-label input.sk-toggleable__control:checked~label.sk-toggleable__label {background-color: #d4ebff;}#sk-container-id-1 input.sk-hidden--visually {border: 0;clip: rect(1px 1px 1px 1px);clip: rect(1px, 1px, 1px, 1px);height: 1px;margin: -1px;overflow: hidden;padding: 0;position: absolute;width: 1px;}#sk-container-id-1 div.sk-estimator {font-family: monospace;background-color: #f0f8ff;border: 1px dotted black;border-radius: 0.25em;box-sizing: border-box;margin-bottom: 0.5em;}#sk-container-id-1 div.sk-estimator:hover {background-color: #d4ebff;}#sk-container-id-1 div.sk-parallel-item::after {content: \"\";width: 100%;border-bottom: 1px solid gray;flex-grow: 1;}#sk-container-id-1 div.sk-label:hover label.sk-toggleable__label {background-color: #d4ebff;}#sk-container-id-1 div.sk-serial::before {content: \"\";position: absolute;border-left: 1px solid gray;box-sizing: border-box;top: 0;bottom: 0;left: 50%;z-index: 0;}#sk-container-id-1 div.sk-serial {display: flex;flex-direction: column;align-items: center;background-color: white;padding-right: 0.2em;padding-left: 0.2em;position: relative;}#sk-container-id-1 div.sk-item {position: relative;z-index: 1;}#sk-container-id-1 div.sk-parallel {display: flex;align-items: stretch;justify-content: center;background-color: white;position: relative;}#sk-container-id-1 div.sk-item::before, #sk-container-id-1 div.sk-parallel-item::before {content: \"\";position: absolute;border-left: 1px solid gray;box-sizing: border-box;top: 0;bottom: 0;left: 50%;z-index: -1;}#sk-container-id-1 div.sk-parallel-item {display: flex;flex-direction: column;z-index: 1;position: relative;background-color: white;}#sk-container-id-1 div.sk-parallel-item:first-child::after {align-self: flex-end;width: 50%;}#sk-container-id-1 div.sk-parallel-item:last-child::after {align-self: flex-start;width: 50%;}#sk-container-id-1 div.sk-parallel-item:only-child::after {width: 0;}#sk-container-id-1 div.sk-dashed-wrapped {border: 1px dashed gray;margin: 0 0.4em 0.5em 0.4em;box-sizing: border-box;padding-bottom: 0.4em;background-color: white;}#sk-container-id-1 div.sk-label label {font-family: monospace;font-weight: bold;display: inline-block;line-height: 1.2em;}#sk-container-id-1 div.sk-label-container {text-align: center;}#sk-container-id-1 div.sk-container {/* jupyter's `normalize.less` sets `[hidden] { display: none; }` but bootstrap.min.css set `[hidden] { display: none !important; }` so we also need the `!important` here to be able to override the default hidden behavior on the sphinx rendered scikit-learn.org. See: https://github.com/scikit-learn/scikit-learn/issues/21755 */display: inline-block !important;position: relative;}#sk-container-id-1 div.sk-text-repr-fallback {display: none;}</style><div id=\"sk-container-id-1\" class=\"sk-top-container\"><div class=\"sk-text-repr-fallback\"><pre>Pipeline(steps=[(&#x27;model&#x27;, LogisticRegression())])</pre><b>In a Jupyter environment, please rerun this cell to show the HTML representation or trust the notebook. <br />On GitHub, the HTML representation is unable to render, please try loading this page with nbviewer.org.</b></div><div class=\"sk-container\" hidden><div class=\"sk-item sk-dashed-wrapped\"><div class=\"sk-label-container\"><div class=\"sk-label sk-toggleable\"><input class=\"sk-toggleable__control sk-hidden--visually\" id=\"sk-estimator-id-1\" type=\"checkbox\" ><label for=\"sk-estimator-id-1\" class=\"sk-toggleable__label sk-toggleable__label-arrow\">Pipeline</label><div class=\"sk-toggleable__content\"><pre>Pipeline(steps=[(&#x27;model&#x27;, LogisticRegression())])</pre></div></div></div><div class=\"sk-serial\"><div class=\"sk-item\"><div class=\"sk-estimator sk-toggleable\"><input class=\"sk-toggleable__control sk-hidden--visually\" id=\"sk-estimator-id-2\" type=\"checkbox\" ><label for=\"sk-estimator-id-2\" class=\"sk-toggleable__label sk-toggleable__label-arrow\">LogisticRegression</label><div class=\"sk-toggleable__content\"><pre>LogisticRegression()</pre></div></div></div></div></div></div></div>"
      ],
      "text/plain": [
       "Pipeline(steps=[('model', LogisticRegression())])"
      ]
     },
     "execution_count": 28,
     "metadata": {},
     "output_type": "execute_result"
    }
   ],
   "source": [
    "model.fit(X_train, y_train.values.ravel())"
   ]
  },
  {
   "cell_type": "code",
   "execution_count": 29,
   "id": "af59f8c0",
   "metadata": {
    "execution": {
     "iopub.execute_input": "2025-07-16T15:02:47.363572Z",
     "iopub.status.busy": "2025-07-16T15:02:47.362520Z",
     "iopub.status.idle": "2025-07-16T15:02:47.368625Z",
     "shell.execute_reply": "2025-07-16T15:02:47.367613Z"
    },
    "papermill": {
     "duration": 0.028918,
     "end_time": "2025-07-16T15:02:47.370482",
     "exception": false,
     "start_time": "2025-07-16T15:02:47.341564",
     "status": "completed"
    },
    "tags": []
   },
   "outputs": [],
   "source": [
    "from fairness_multiverse.universe import predict_w_threshold"
   ]
  },
  {
   "cell_type": "code",
   "execution_count": 30,
   "id": "a7cf2e16",
   "metadata": {
    "execution": {
     "iopub.execute_input": "2025-07-16T15:02:47.414837Z",
     "iopub.status.busy": "2025-07-16T15:02:47.414031Z",
     "iopub.status.idle": "2025-07-16T15:02:47.576586Z",
     "shell.execute_reply": "2025-07-16T15:02:47.575614Z"
    },
    "papermill": {
     "duration": 0.18758,
     "end_time": "2025-07-16T15:02:47.578305",
     "exception": false,
     "start_time": "2025-07-16T15:02:47.390725",
     "status": "completed"
    },
    "tags": []
   },
   "outputs": [
    {
     "data": {
      "text/plain": [
       "0.8590904024077584"
      ]
     },
     "execution_count": 30,
     "metadata": {},
     "output_type": "execute_result"
    }
   ],
   "source": [
    "probs_test = model.predict_proba(X_test)\n",
    "\n",
    "'''\n",
    "Below code returns a boolean array (or binary 0/1 array depending on how it’s used) where each element \n",
    "is True if the probability of class 1 is greater than or equal to the threshold, and False otherwise.\n",
    "'''\n",
    "y_pred_default = predict_w_threshold(probs_test, 0.5)\n",
    "\n",
    "# Naive prediction\n",
    "accuracy_score(y_true = y_true, y_pred = y_pred_default)"
   ]
  },
  {
   "cell_type": "code",
   "execution_count": 31,
   "id": "081964c3",
   "metadata": {
    "execution": {
     "iopub.execute_input": "2025-07-16T15:02:47.620421Z",
     "iopub.status.busy": "2025-07-16T15:02:47.619586Z",
     "iopub.status.idle": "2025-07-16T15:02:47.722232Z",
     "shell.execute_reply": "2025-07-16T15:02:47.720781Z"
    },
    "papermill": {
     "duration": 0.126023,
     "end_time": "2025-07-16T15:02:47.724412",
     "exception": false,
     "start_time": "2025-07-16T15:02:47.598389",
     "status": "completed"
    },
    "tags": []
   },
   "outputs": [
    {
     "data": {
      "text/plain": [
       "array([0, 0, 0, ..., 0, 0, 0])"
      ]
     },
     "execution_count": 31,
     "metadata": {},
     "output_type": "execute_result"
    }
   ],
   "source": [
    "model.predict(X_test)"
   ]
  },
  {
   "cell_type": "markdown",
   "id": "56c9705b",
   "metadata": {
    "papermill": {
     "duration": 0.028651,
     "end_time": "2025-07-16T15:02:47.781031",
     "exception": false,
     "start_time": "2025-07-16T15:02:47.752380",
     "status": "completed"
    },
    "tags": []
   },
   "source": [
    "# Conformal Prediction"
   ]
  },
  {
   "cell_type": "code",
   "execution_count": 32,
   "id": "160ec6ff",
   "metadata": {
    "execution": {
     "iopub.execute_input": "2025-07-16T15:02:47.839824Z",
     "iopub.status.busy": "2025-07-16T15:02:47.839433Z",
     "iopub.status.idle": "2025-07-16T15:02:47.843743Z",
     "shell.execute_reply": "2025-07-16T15:02:47.842953Z"
    },
    "papermill": {
     "duration": 0.035619,
     "end_time": "2025-07-16T15:02:47.845938",
     "exception": false,
     "start_time": "2025-07-16T15:02:47.810319",
     "status": "completed"
    },
    "tags": []
   },
   "outputs": [],
   "source": [
    "# Miscoverage level for conformal prediction (10% allowed error rate => 90% target coverage)\n",
    "alpha = 0.05"
   ]
  },
  {
   "cell_type": "code",
   "execution_count": 33,
   "id": "eadf4555-3dd3-440e-8e35-f82a4ad9f855",
   "metadata": {
    "execution": {
     "iopub.execute_input": "2025-07-16T15:02:47.907708Z",
     "iopub.status.busy": "2025-07-16T15:02:47.907274Z",
     "iopub.status.idle": "2025-07-16T15:02:48.014368Z",
     "shell.execute_reply": "2025-07-16T15:02:48.013400Z"
    },
    "papermill": {
     "duration": 0.140162,
     "end_time": "2025-07-16T15:02:48.016262",
     "exception": false,
     "start_time": "2025-07-16T15:02:47.876100",
     "status": "completed"
    },
    "tags": []
   },
   "outputs": [],
   "source": [
    "probs_calib = model.predict_proba(X_calib)"
   ]
  },
  {
   "cell_type": "code",
   "execution_count": 34,
   "id": "2ed93547-6d5d-4983-9b36-1ecb300da49a",
   "metadata": {
    "execution": {
     "iopub.execute_input": "2025-07-16T15:02:48.058605Z",
     "iopub.status.busy": "2025-07-16T15:02:48.058222Z",
     "iopub.status.idle": "2025-07-16T15:02:48.064213Z",
     "shell.execute_reply": "2025-07-16T15:02:48.063117Z"
    },
    "papermill": {
     "duration": 0.028701,
     "end_time": "2025-07-16T15:02:48.066322",
     "exception": false,
     "start_time": "2025-07-16T15:02:48.037621",
     "status": "completed"
    },
    "tags": []
   },
   "outputs": [],
   "source": [
    "y_calib = y_calib.values.ravel().astype(int)"
   ]
  },
  {
   "cell_type": "code",
   "execution_count": 35,
   "id": "65d1320d-f588-4b38-9072-62af1ae97f7d",
   "metadata": {
    "execution": {
     "iopub.execute_input": "2025-07-16T15:02:48.109499Z",
     "iopub.status.busy": "2025-07-16T15:02:48.109110Z",
     "iopub.status.idle": "2025-07-16T15:02:48.117079Z",
     "shell.execute_reply": "2025-07-16T15:02:48.116129Z"
    },
    "papermill": {
     "duration": 0.02973,
     "end_time": "2025-07-16T15:02:48.118386",
     "exception": false,
     "start_time": "2025-07-16T15:02:48.088656",
     "status": "completed"
    },
    "tags": []
   },
   "outputs": [],
   "source": [
    "from fairness_multiverse.conformal import compute_nc_scores\n",
    "\n",
    "# Compute nonconformity scores on calibration set (1 - probability of true class)\n",
    "nc_scores = compute_nc_scores(probs_calib, y_calib)"
   ]
  },
  {
   "cell_type": "code",
   "execution_count": 36,
   "id": "df3b8ca3-53b7-43d5-9667-7c85da7aeda2",
   "metadata": {
    "execution": {
     "iopub.execute_input": "2025-07-16T15:02:48.142646Z",
     "iopub.status.busy": "2025-07-16T15:02:48.142237Z",
     "iopub.status.idle": "2025-07-16T15:02:48.150496Z",
     "shell.execute_reply": "2025-07-16T15:02:48.149320Z"
    },
    "papermill": {
     "duration": 0.023708,
     "end_time": "2025-07-16T15:02:48.153271",
     "exception": false,
     "start_time": "2025-07-16T15:02:48.129563",
     "status": "completed"
    },
    "tags": []
   },
   "outputs": [],
   "source": [
    "from fairness_multiverse.conformal import find_threshold\n",
    "\n",
    "# Find conformal threshold q_hat for the given alpha (split conformal method)\n",
    "q_hat = find_threshold(nc_scores, alpha)"
   ]
  },
  {
   "cell_type": "code",
   "execution_count": 37,
   "id": "4d29e6c1-0ef6-4aa4-b8fe-4fe79b0d033a",
   "metadata": {
    "execution": {
     "iopub.execute_input": "2025-07-16T15:02:48.212828Z",
     "iopub.status.busy": "2025-07-16T15:02:48.212177Z",
     "iopub.status.idle": "2025-07-16T15:02:48.220380Z",
     "shell.execute_reply": "2025-07-16T15:02:48.219048Z"
    },
    "papermill": {
     "duration": 0.039575,
     "end_time": "2025-07-16T15:02:48.222458",
     "exception": false,
     "start_time": "2025-07-16T15:02:48.182883",
     "status": "completed"
    },
    "tags": []
   },
   "outputs": [
    {
     "data": {
      "text/plain": [
       "0.8292956615541709"
      ]
     },
     "execution_count": 37,
     "metadata": {},
     "output_type": "execute_result"
    }
   ],
   "source": [
    "q_hat"
   ]
  },
  {
   "cell_type": "code",
   "execution_count": 38,
   "id": "92460794-cdac-4be2-ba28-f28c0515a6fb",
   "metadata": {
    "execution": {
     "iopub.execute_input": "2025-07-16T15:02:48.268371Z",
     "iopub.status.busy": "2025-07-16T15:02:48.267426Z",
     "iopub.status.idle": "2025-07-16T15:02:48.855857Z",
     "shell.execute_reply": "2025-07-16T15:02:48.855029Z"
    },
    "papermill": {
     "duration": 0.613165,
     "end_time": "2025-07-16T15:02:48.857912",
     "exception": false,
     "start_time": "2025-07-16T15:02:48.244747",
     "status": "completed"
    },
    "tags": []
   },
   "outputs": [],
   "source": [
    "from fairness_multiverse.conformal import predict_conformal_sets\n",
    "\n",
    "# Generate prediction sets for each test example\n",
    "pred_sets = predict_conformal_sets(model, X_test, q_hat)"
   ]
  },
  {
   "cell_type": "code",
   "execution_count": 39,
   "id": "d90c9a65-e6db-4f5d-80cd-e68fb7e46829",
   "metadata": {
    "execution": {
     "iopub.execute_input": "2025-07-16T15:02:48.905923Z",
     "iopub.status.busy": "2025-07-16T15:02:48.905514Z",
     "iopub.status.idle": "2025-07-16T15:02:48.910573Z",
     "shell.execute_reply": "2025-07-16T15:02:48.909547Z"
    },
    "papermill": {
     "duration": 0.030681,
     "end_time": "2025-07-16T15:02:48.911858",
     "exception": false,
     "start_time": "2025-07-16T15:02:48.881177",
     "status": "completed"
    },
    "tags": []
   },
   "outputs": [],
   "source": [
    "y_true = y_true.squeeze()"
   ]
  },
  {
   "cell_type": "code",
   "execution_count": 40,
   "id": "3a58a54a-1e68-46b9-927a-df01f18aebc8",
   "metadata": {
    "execution": {
     "iopub.execute_input": "2025-07-16T15:02:48.937949Z",
     "iopub.status.busy": "2025-07-16T15:02:48.937479Z",
     "iopub.status.idle": "2025-07-16T15:02:49.901304Z",
     "shell.execute_reply": "2025-07-16T15:02:49.900189Z"
    },
    "papermill": {
     "duration": 0.978294,
     "end_time": "2025-07-16T15:02:49.903173",
     "exception": false,
     "start_time": "2025-07-16T15:02:48.924879",
     "status": "completed"
    },
    "tags": []
   },
   "outputs": [],
   "source": [
    "from fairness_multiverse.conformal import evaluate_sets\n",
    "\n",
    "# Evaluate coverage and average set size on test data\n",
    "metrics = evaluate_sets(pred_sets, y_true)"
   ]
  },
  {
   "cell_type": "code",
   "execution_count": 41,
   "id": "5ce0a5cb-201f-45a0-ade5-94c7f0bd6095",
   "metadata": {
    "execution": {
     "iopub.execute_input": "2025-07-16T15:02:49.943180Z",
     "iopub.status.busy": "2025-07-16T15:02:49.942635Z",
     "iopub.status.idle": "2025-07-16T15:02:49.950529Z",
     "shell.execute_reply": "2025-07-16T15:02:49.949284Z"
    },
    "papermill": {
     "duration": 0.0315,
     "end_time": "2025-07-16T15:02:49.952015",
     "exception": false,
     "start_time": "2025-07-16T15:02:49.920515",
     "status": "completed"
    },
    "tags": []
   },
   "outputs": [
    {
     "data": {
      "text/plain": [
       "{'coverage': 0.9557351465834355, 'avg_size': 1.4592687548768253}"
      ]
     },
     "execution_count": 41,
     "metadata": {},
     "output_type": "execute_result"
    }
   ],
   "source": [
    "metrics"
   ]
  },
  {
   "cell_type": "code",
   "execution_count": 42,
   "id": "9b9a838d-31c9-430b-ae14-12baee460d17",
   "metadata": {
    "execution": {
     "iopub.execute_input": "2025-07-16T15:02:49.995809Z",
     "iopub.status.busy": "2025-07-16T15:02:49.994738Z",
     "iopub.status.idle": "2025-07-16T15:02:50.001771Z",
     "shell.execute_reply": "2025-07-16T15:02:50.000527Z"
    },
    "papermill": {
     "duration": 0.032829,
     "end_time": "2025-07-16T15:02:50.003600",
     "exception": false,
     "start_time": "2025-07-16T15:02:49.970771",
     "status": "completed"
    },
    "tags": []
   },
   "outputs": [],
   "source": [
    "example_universe = universe.copy()\n",
    "universe_model = example_universe.get(\"model\")\n",
    "universe_exclude_features = example_universe.get(\"exclude_features\")\n",
    "universe_exclude_subgroups = example_universe.get(\"exclude_subgroups\")"
   ]
  },
  {
   "cell_type": "code",
   "execution_count": 43,
   "id": "f4b6a8ac-9dc0-4245-8a91-5b3b5999c4f9",
   "metadata": {
    "execution": {
     "iopub.execute_input": "2025-07-16T15:02:50.035007Z",
     "iopub.status.busy": "2025-07-16T15:02:50.034573Z",
     "iopub.status.idle": "2025-07-16T15:02:50.041233Z",
     "shell.execute_reply": "2025-07-16T15:02:50.040217Z"
    },
    "papermill": {
     "duration": 0.021148,
     "end_time": "2025-07-16T15:02:50.042645",
     "exception": false,
     "start_time": "2025-07-16T15:02:50.021497",
     "status": "completed"
    },
    "tags": []
   },
   "outputs": [],
   "source": [
    "cp_metrics_dict = {\n",
    "    \"universe_id\": [universe_id],\n",
    "    \"universe_model\": [universe_model],\n",
    "    \"universe_exclude_features\": [universe_exclude_features],\n",
    "    \"universe_exclude_subgroups\": [universe_exclude_subgroups],\n",
    "    \"q_hat\": [q_hat],\n",
    "    \"coverage\": [metrics[\"coverage\"]],\n",
    "    \"avg_size\": [metrics[\"avg_size\"]],\n",
    "}"
   ]
  },
  {
   "cell_type": "code",
   "execution_count": 44,
   "id": "908acbb1-0371-4915-85ca-3fa520d2efe2",
   "metadata": {
    "execution": {
     "iopub.execute_input": "2025-07-16T15:02:50.086197Z",
     "iopub.status.busy": "2025-07-16T15:02:50.085637Z",
     "iopub.status.idle": "2025-07-16T15:02:50.094323Z",
     "shell.execute_reply": "2025-07-16T15:02:50.093385Z"
    },
    "papermill": {
     "duration": 0.034268,
     "end_time": "2025-07-16T15:02:50.096089",
     "exception": false,
     "start_time": "2025-07-16T15:02:50.061821",
     "status": "completed"
    },
    "tags": []
   },
   "outputs": [
    {
     "data": {
      "text/plain": [
       "{'universe_id': ['ecc217051ed97339dd01598751d6478c'],\n",
       " 'universe_model': ['logreg'],\n",
       " 'universe_exclude_features': ['nationality-sex'],\n",
       " 'universe_exclude_subgroups': ['drop-non-german'],\n",
       " 'q_hat': [0.8292956615541709],\n",
       " 'coverage': [0.9557351465834355],\n",
       " 'avg_size': [1.4592687548768253]}"
      ]
     },
     "execution_count": 44,
     "metadata": {},
     "output_type": "execute_result"
    }
   ],
   "source": [
    "cp_metrics_dict"
   ]
  },
  {
   "cell_type": "code",
   "execution_count": 45,
   "id": "33007efc-14e9-4ec6-97ac-56a455c82265",
   "metadata": {
    "execution": {
     "iopub.execute_input": "2025-07-16T15:02:50.125683Z",
     "iopub.status.busy": "2025-07-16T15:02:50.125180Z",
     "iopub.status.idle": "2025-07-16T15:02:50.132448Z",
     "shell.execute_reply": "2025-07-16T15:02:50.131274Z"
    },
    "papermill": {
     "duration": 0.022847,
     "end_time": "2025-07-16T15:02:50.134971",
     "exception": false,
     "start_time": "2025-07-16T15:02:50.112124",
     "status": "completed"
    },
    "tags": []
   },
   "outputs": [],
   "source": [
    "cp_metrics_df = pd.DataFrame(cp_metrics_dict)"
   ]
  },
  {
   "cell_type": "code",
   "execution_count": 46,
   "id": "db12611b-57b2-4910-b9d0-355adfd6e7bf",
   "metadata": {
    "execution": {
     "iopub.execute_input": "2025-07-16T15:02:50.203529Z",
     "iopub.status.busy": "2025-07-16T15:02:50.202982Z",
     "iopub.status.idle": "2025-07-16T15:02:50.219631Z",
     "shell.execute_reply": "2025-07-16T15:02:50.218315Z"
    },
    "papermill": {
     "duration": 0.052823,
     "end_time": "2025-07-16T15:02:50.221762",
     "exception": false,
     "start_time": "2025-07-16T15:02:50.168939",
     "status": "completed"
    },
    "tags": []
   },
   "outputs": [
    {
     "data": {
      "text/html": [
       "<div>\n",
       "<style scoped>\n",
       "    .dataframe tbody tr th:only-of-type {\n",
       "        vertical-align: middle;\n",
       "    }\n",
       "\n",
       "    .dataframe tbody tr th {\n",
       "        vertical-align: top;\n",
       "    }\n",
       "\n",
       "    .dataframe thead th {\n",
       "        text-align: right;\n",
       "    }\n",
       "</style>\n",
       "<table border=\"1\" class=\"dataframe\">\n",
       "  <thead>\n",
       "    <tr style=\"text-align: right;\">\n",
       "      <th></th>\n",
       "      <th>universe_id</th>\n",
       "      <th>universe_model</th>\n",
       "      <th>universe_exclude_features</th>\n",
       "      <th>universe_exclude_subgroups</th>\n",
       "      <th>q_hat</th>\n",
       "      <th>coverage</th>\n",
       "      <th>avg_size</th>\n",
       "    </tr>\n",
       "  </thead>\n",
       "  <tbody>\n",
       "    <tr>\n",
       "      <th>0</th>\n",
       "      <td>ecc217051ed97339dd01598751d6478c</td>\n",
       "      <td>logreg</td>\n",
       "      <td>nationality-sex</td>\n",
       "      <td>drop-non-german</td>\n",
       "      <td>0.829296</td>\n",
       "      <td>0.955735</td>\n",
       "      <td>1.459269</td>\n",
       "    </tr>\n",
       "  </tbody>\n",
       "</table>\n",
       "</div>"
      ],
      "text/plain": [
       "                        universe_id universe_model universe_exclude_features  \\\n",
       "0  ecc217051ed97339dd01598751d6478c         logreg           nationality-sex   \n",
       "\n",
       "  universe_exclude_subgroups     q_hat  coverage  avg_size  \n",
       "0            drop-non-german  0.829296  0.955735  1.459269  "
      ]
     },
     "execution_count": 46,
     "metadata": {},
     "output_type": "execute_result"
    }
   ],
   "source": [
    "cp_metrics_df.head()"
   ]
  },
  {
   "cell_type": "code",
   "execution_count": 47,
   "id": "e6aa1fe0-b882-4a50-8bdf-05f68c24faeb",
   "metadata": {
    "execution": {
     "iopub.execute_input": "2025-07-16T15:02:50.273866Z",
     "iopub.status.busy": "2025-07-16T15:02:50.273483Z",
     "iopub.status.idle": "2025-07-16T15:02:50.278753Z",
     "shell.execute_reply": "2025-07-16T15:02:50.277962Z"
    },
    "papermill": {
     "duration": 0.032191,
     "end_time": "2025-07-16T15:02:50.280665",
     "exception": false,
     "start_time": "2025-07-16T15:02:50.248474",
     "status": "completed"
    },
    "tags": []
   },
   "outputs": [],
   "source": [
    "output_folder = \"results/cp_metrics_alpha_05\"\n",
    "os.makedirs(output_folder, exist_ok=True)"
   ]
  },
  {
   "cell_type": "code",
   "execution_count": 48,
   "id": "b53d024f-1be6-4b80-9953-843618c45449",
   "metadata": {
    "execution": {
     "iopub.execute_input": "2025-07-16T15:02:50.311741Z",
     "iopub.status.busy": "2025-07-16T15:02:50.311323Z",
     "iopub.status.idle": "2025-07-16T15:02:50.316621Z",
     "shell.execute_reply": "2025-07-16T15:02:50.315563Z"
    },
    "papermill": {
     "duration": 0.021147,
     "end_time": "2025-07-16T15:02:50.317985",
     "exception": false,
     "start_time": "2025-07-16T15:02:50.296838",
     "status": "completed"
    },
    "tags": []
   },
   "outputs": [],
   "source": [
    "output_file = os.path.join(output_folder, f\"metrics_{universe_id}.csv\")"
   ]
  },
  {
   "cell_type": "code",
   "execution_count": 49,
   "id": "c1f366d1-edb8-4383-bdcb-c7ea0c25e9d1",
   "metadata": {
    "execution": {
     "iopub.execute_input": "2025-07-16T15:02:50.361268Z",
     "iopub.status.busy": "2025-07-16T15:02:50.360163Z",
     "iopub.status.idle": "2025-07-16T15:02:50.371581Z",
     "shell.execute_reply": "2025-07-16T15:02:50.370241Z"
    },
    "papermill": {
     "duration": 0.038378,
     "end_time": "2025-07-16T15:02:50.374060",
     "exception": false,
     "start_time": "2025-07-16T15:02:50.335682",
     "status": "completed"
    },
    "tags": []
   },
   "outputs": [],
   "source": [
    "cp_metrics_df.to_csv(output_file, index=False)"
   ]
  },
  {
   "cell_type": "markdown",
   "id": "33774451",
   "metadata": {
    "papermill": {
     "duration": 0.025442,
     "end_time": "2025-07-16T15:02:50.423693",
     "exception": false,
     "start_time": "2025-07-16T15:02:50.398251",
     "status": "completed"
    },
    "tags": []
   },
   "source": [
    "# (Fairness) Metrics"
   ]
  },
  {
   "cell_type": "code",
   "execution_count": 50,
   "id": "debc5d62",
   "metadata": {
    "execution": {
     "iopub.execute_input": "2025-07-16T15:02:50.475076Z",
     "iopub.status.busy": "2025-07-16T15:02:50.474430Z",
     "iopub.status.idle": "2025-07-16T15:02:50.498736Z",
     "shell.execute_reply": "2025-07-16T15:02:50.497691Z"
    },
    "papermill": {
     "duration": 0.052891,
     "end_time": "2025-07-16T15:02:50.500737",
     "exception": false,
     "start_time": "2025-07-16T15:02:50.447846",
     "status": "completed"
    },
    "tags": []
   },
   "outputs": [],
   "source": [
    "# do I need to include maxdeutsch1.missing?\n",
    "\n",
    "import numpy as np\n",
    "\n",
    "colname_to_bin = \"maxdeutsch1\"\n",
    "majority_value = org_train[colname_to_bin].mode()[0]\n",
    "\n",
    "org_test[\"majmin\"] = np.where(org_test[colname_to_bin] == majority_value, \"majority\", \"minority\")"
   ]
  },
  {
   "cell_type": "code",
   "execution_count": 51,
   "id": "06a50de5",
   "metadata": {
    "execution": {
     "iopub.execute_input": "2025-07-16T15:02:50.545633Z",
     "iopub.status.busy": "2025-07-16T15:02:50.545112Z",
     "iopub.status.idle": "2025-07-16T15:02:52.886882Z",
     "shell.execute_reply": "2025-07-16T15:02:52.885940Z"
    },
    "papermill": {
     "duration": 2.36558,
     "end_time": "2025-07-16T15:02:52.888735",
     "exception": false,
     "start_time": "2025-07-16T15:02:50.523155",
     "status": "completed"
    },
    "tags": []
   },
   "outputs": [],
   "source": [
    "example_universe = universe.copy()\n",
    "example_universe[\"cutoff\"] = example_universe[\"cutoff\"][0]\n",
    "example_universe[\"eval_fairness_grouping\"] = example_universe[\"eval_fairness_grouping\"][0]\n",
    "fairness_dict, metric_frame = universe_analysis.compute_metrics(\n",
    "    example_universe,\n",
    "    y_pred_prob=probs_test,\n",
    "    y_test=y_true,\n",
    "    org_test=org_test,\n",
    ")"
   ]
  },
  {
   "cell_type": "markdown",
   "id": "f95d4e02",
   "metadata": {
    "papermill": {
     "duration": 0.021315,
     "end_time": "2025-07-16T15:02:52.934637",
     "exception": false,
     "start_time": "2025-07-16T15:02:52.913322",
     "status": "completed"
    },
    "tags": []
   },
   "source": [
    "# Overall"
   ]
  },
  {
   "cell_type": "markdown",
   "id": "bdee4871",
   "metadata": {
    "papermill": {
     "duration": 0.020912,
     "end_time": "2025-07-16T15:02:52.978282",
     "exception": false,
     "start_time": "2025-07-16T15:02:52.957370",
     "status": "completed"
    },
    "tags": []
   },
   "source": [
    "Fairness\n",
    "Main fairness target: Equalized Odds. Seems to be a better fit than equal opportunity, since we're not only interested in Y = 1. Seems to be a better fit than demographic parity, since we also care about accuracy, not just equal distribution of preds.\n",
    "\n",
    "Pick column for computation of fairness metrics\n",
    "\n",
    "Performance\n",
    "Overall performance measures, most interesting in relation to the measures split by group below"
   ]
  },
  {
   "cell_type": "code",
   "execution_count": 52,
   "id": "c4e067c6",
   "metadata": {
    "execution": {
     "iopub.execute_input": "2025-07-16T15:02:53.023754Z",
     "iopub.status.busy": "2025-07-16T15:02:53.023191Z",
     "iopub.status.idle": "2025-07-16T15:02:53.034504Z",
     "shell.execute_reply": "2025-07-16T15:02:53.033517Z"
    },
    "papermill": {
     "duration": 0.03762,
     "end_time": "2025-07-16T15:02:53.036342",
     "exception": false,
     "start_time": "2025-07-16T15:02:52.998722",
     "status": "completed"
    },
    "tags": []
   },
   "outputs": [
    {
     "data": {
      "text/plain": [
       "accuracy                   0.217512\n",
       "balanced accuracy          0.533284\n",
       "f1                         0.239032\n",
       "precision                  0.136551\n",
       "false positive rate        0.891461\n",
       "false negative rate        0.041971\n",
       "selection rate             0.900000\n",
       "count                  89710.000000\n",
       "dtype: float64"
      ]
     },
     "execution_count": 52,
     "metadata": {},
     "output_type": "execute_result"
    }
   ],
   "source": [
    "metric_frame.overall"
   ]
  },
  {
   "cell_type": "markdown",
   "id": "e968fe9d",
   "metadata": {
    "papermill": {
     "duration": 0.022339,
     "end_time": "2025-07-16T15:02:53.081898",
     "exception": false,
     "start_time": "2025-07-16T15:02:53.059559",
     "status": "completed"
    },
    "tags": []
   },
   "source": [
    "By Group"
   ]
  },
  {
   "cell_type": "code",
   "execution_count": 53,
   "id": "ec325bce",
   "metadata": {
    "execution": {
     "iopub.execute_input": "2025-07-16T15:02:53.126250Z",
     "iopub.status.busy": "2025-07-16T15:02:53.125723Z",
     "iopub.status.idle": "2025-07-16T15:02:53.142723Z",
     "shell.execute_reply": "2025-07-16T15:02:53.141736Z"
    },
    "papermill": {
     "duration": 0.042034,
     "end_time": "2025-07-16T15:02:53.144291",
     "exception": false,
     "start_time": "2025-07-16T15:02:53.102257",
     "status": "completed"
    },
    "tags": []
   },
   "outputs": [
    {
     "data": {
      "text/html": [
       "<div>\n",
       "<style scoped>\n",
       "    .dataframe tbody tr th:only-of-type {\n",
       "        vertical-align: middle;\n",
       "    }\n",
       "\n",
       "    .dataframe tbody tr th {\n",
       "        vertical-align: top;\n",
       "    }\n",
       "\n",
       "    .dataframe thead th {\n",
       "        text-align: right;\n",
       "    }\n",
       "</style>\n",
       "<table border=\"1\" class=\"dataframe\">\n",
       "  <thead>\n",
       "    <tr style=\"text-align: right;\">\n",
       "      <th></th>\n",
       "      <th>accuracy</th>\n",
       "      <th>balanced accuracy</th>\n",
       "      <th>f1</th>\n",
       "      <th>precision</th>\n",
       "      <th>false positive rate</th>\n",
       "      <th>false negative rate</th>\n",
       "      <th>selection rate</th>\n",
       "      <th>count</th>\n",
       "    </tr>\n",
       "    <tr>\n",
       "      <th>majmin</th>\n",
       "      <th></th>\n",
       "      <th></th>\n",
       "      <th></th>\n",
       "      <th></th>\n",
       "      <th></th>\n",
       "      <th></th>\n",
       "      <th></th>\n",
       "      <th></th>\n",
       "    </tr>\n",
       "  </thead>\n",
       "  <tbody>\n",
       "    <tr>\n",
       "      <th>majority</th>\n",
       "      <td>0.23954</td>\n",
       "      <td>0.541101</td>\n",
       "      <td>0.248396</td>\n",
       "      <td>0.142855</td>\n",
       "      <td>0.868782</td>\n",
       "      <td>0.049015</td>\n",
       "      <td>0.879644</td>\n",
       "      <td>69170.0</td>\n",
       "    </tr>\n",
       "    <tr>\n",
       "      <th>minority</th>\n",
       "      <td>0.14333</td>\n",
       "      <td>0.509421</td>\n",
       "      <td>0.209595</td>\n",
       "      <td>0.117272</td>\n",
       "      <td>0.966377</td>\n",
       "      <td>0.014780</td>\n",
       "      <td>0.968549</td>\n",
       "      <td>20540.0</td>\n",
       "    </tr>\n",
       "  </tbody>\n",
       "</table>\n",
       "</div>"
      ],
      "text/plain": [
       "          accuracy  balanced accuracy        f1  precision  \\\n",
       "majmin                                                       \n",
       "majority   0.23954           0.541101  0.248396   0.142855   \n",
       "minority   0.14333           0.509421  0.209595   0.117272   \n",
       "\n",
       "          false positive rate  false negative rate  selection rate    count  \n",
       "majmin                                                                       \n",
       "majority             0.868782             0.049015        0.879644  69170.0  \n",
       "minority             0.966377             0.014780        0.968549  20540.0  "
      ]
     },
     "execution_count": 53,
     "metadata": {},
     "output_type": "execute_result"
    }
   ],
   "source": [
    "metric_frame.by_group"
   ]
  },
  {
   "cell_type": "code",
   "execution_count": null,
   "id": "a9ddbe63",
   "metadata": {
    "papermill": {
     "duration": null,
     "end_time": null,
     "exception": false,
     "start_time": "2025-07-16T15:02:53.166436",
     "status": "running"
    },
    "tags": []
   },
   "outputs": [],
   "source": [
    "# In a graphic\n",
    "metric_frame.by_group.plot.bar(\n",
    "    subplots=True,\n",
    "    layout=[3, 3],\n",
    "    legend=False,\n",
    "    figsize=[12, 8],\n",
    "    title=\"Show all metrics\",\n",
    ")"
   ]
  },
  {
   "cell_type": "markdown",
   "id": "f57a0bac",
   "metadata": {
    "papermill": {
     "duration": null,
     "end_time": null,
     "exception": null,
     "start_time": null,
     "status": "pending"
    },
    "tags": []
   },
   "source": [
    "# Final Output"
   ]
  },
  {
   "cell_type": "code",
   "execution_count": null,
   "id": "96d280a3",
   "metadata": {
    "papermill": {
     "duration": null,
     "end_time": null,
     "exception": null,
     "start_time": null,
     "status": "pending"
    },
    "tags": []
   },
   "outputs": [],
   "source": [
    "sub_universes = universe_analysis.generate_sub_universes()\n",
    "len(sub_universes)"
   ]
  },
  {
   "cell_type": "code",
   "execution_count": null,
   "id": "92adf7ba",
   "metadata": {
    "papermill": {
     "duration": null,
     "end_time": null,
     "exception": null,
     "start_time": null,
     "status": "pending"
    },
    "tags": []
   },
   "outputs": [],
   "source": [
    "def filter_sub_universe_data(sub_universe, org_test):\n",
    "    # Keep all rows — no filtering\n",
    "    keep_rows_mask = np.ones(org_test.shape[0], dtype=bool)\n",
    "\n",
    "    print(f\"[INFO] Keeping all rows: {keep_rows_mask.sum()} rows retained.\")\n",
    "    return keep_rows_mask"
   ]
  },
  {
   "cell_type": "code",
   "execution_count": null,
   "id": "4a759155",
   "metadata": {
    "papermill": {
     "duration": null,
     "end_time": null,
     "exception": null,
     "start_time": null,
     "status": "pending"
    },
    "tags": []
   },
   "outputs": [],
   "source": [
    "final_output = universe_analysis.generate_final_output(\n",
    "    y_pred_prob=probs_test,\n",
    "    y_test=y_true,\n",
    "    org_test=org_test,\n",
    "    save=True,\n",
    "    filter_data=filter_sub_universe_data\n",
    ")\n",
    "final_output"
   ]
  },
  {
   "cell_type": "code",
   "execution_count": null,
   "id": "721ff514-cb11-46f8-b6fc-50392f74b5cb",
   "metadata": {
    "papermill": {
     "duration": null,
     "end_time": null,
     "exception": null,
     "start_time": null,
     "status": "pending"
    },
    "tags": []
   },
   "outputs": [],
   "source": []
  }
 ],
 "metadata": {
  "celltoolbar": "Tags",
  "kernelspec": {
   "display_name": "Python (CMA Fairness)",
   "language": "python",
   "name": "cma_fair_env"
  },
  "language_info": {
   "codemirror_mode": {
    "name": "ipython",
    "version": 3
   },
   "file_extension": ".py",
   "mimetype": "text/x-python",
   "name": "python",
   "nbconvert_exporter": "python",
   "pygments_lexer": "ipython3",
   "version": "3.10.12"
  },
  "papermill": {
   "default_parameters": {},
   "duration": null,
   "end_time": null,
   "environment_variables": {},
   "exception": null,
   "input_path": "universe_analysis.ipynb",
   "output_path": "output/runs/15/notebooks/m_15-ecc217051ed97339dd01598751d6478c.ipynb",
   "parameters": {
    "output_dir": "output",
    "run_no": "15",
    "seed": "2023",
    "universe": "{\"cutoff\": [\"quantile_0.1\", \"quantile_0.25\"], \"eval_fairness_grouping\": [\"majority-minority\", \"nationality-all\"], \"exclude_features\": \"nationality-sex\", \"exclude_subgroups\": \"drop-non-german\", \"model\": \"logreg\"}",
    "universe_id": "ecc217051ed97339dd01598751d6478c"
   },
   "start_time": "2025-07-16T15:02:28.941266",
   "version": "2.6.0"
  }
 },
 "nbformat": 4,
 "nbformat_minor": 5
}