{
 "cells": [
  {
   "cell_type": "code",
   "execution_count": 1,
   "id": "f159f837-637b-42ba-96b5-ec9a68c44524",
   "metadata": {
    "execution": {
     "iopub.execute_input": "2025-08-05T15:22:41.013865Z",
     "iopub.status.busy": "2025-08-05T15:22:41.012962Z",
     "iopub.status.idle": "2025-08-05T15:22:41.026020Z",
     "shell.execute_reply": "2025-08-05T15:22:41.024967Z"
    },
    "papermill": {
     "duration": 0.031973,
     "end_time": "2025-08-05T15:22:41.027830",
     "exception": false,
     "start_time": "2025-08-05T15:22:40.995857",
     "status": "completed"
    },
    "tags": []
   },
   "outputs": [
    {
     "name": "stdout",
     "output_type": "stream",
     "text": [
      "/dss/dsshome1/0C/ra93lal2/cma/CMA_Fairness_v2\n"
     ]
    },
    {
     "name": "stderr",
     "output_type": "stream",
     "text": [
      "/dss/dsshome1/0C/ra93lal2/.local/share/virtualenvs/CMA_Fairness_v2-3j10GkSs/lib/python3.10/site-packages/IPython/core/magics/osm.py:393: UserWarning: This is now an optional IPython functionality, using bookmarks requires you to install the `pickleshare` library.\n",
      "  bkms = self.shell.db.get('bookmarks', {})\n",
      "/dss/dsshome1/0C/ra93lal2/.local/share/virtualenvs/CMA_Fairness_v2-3j10GkSs/lib/python3.10/site-packages/IPython/core/magics/osm.py:417: UserWarning: This is now an optional IPython functionality, setting dhist requires you to install the `pickleshare` library.\n",
      "  self.shell.db['dhist'] = compress_dhist(dhist)[-100:]\n"
     ]
    }
   ],
   "source": [
    "%cd ~/cma/CMA_Fairness_v2"
   ]
  },
  {
   "cell_type": "markdown",
   "id": "de2603b9",
   "metadata": {
    "papermill": {
     "duration": 0.016773,
     "end_time": "2025-08-05T15:22:41.061657",
     "exception": false,
     "start_time": "2025-08-05T15:22:41.044884",
     "status": "completed"
    },
    "tags": []
   },
   "source": [
    "The following cell holds the definition of our parameters, these values can be overriden by rendering the with e.g. the following command:\n",
    "\n",
    "papermill -p alpha 0.2 -p ratio 0.3 universe_analysis.ipynb output/test_run.ipynb"
   ]
  },
  {
   "cell_type": "code",
   "execution_count": 2,
   "id": "a80968a0-40bb-4fa9-85ef-2d5eefb01975",
   "metadata": {
    "execution": {
     "iopub.execute_input": "2025-08-05T15:22:41.098376Z",
     "iopub.status.busy": "2025-08-05T15:22:41.097617Z",
     "iopub.status.idle": "2025-08-05T15:22:41.102878Z",
     "shell.execute_reply": "2025-08-05T15:22:41.101751Z"
    },
    "papermill": {
     "duration": 0.024175,
     "end_time": "2025-08-05T15:22:41.104815",
     "exception": false,
     "start_time": "2025-08-05T15:22:41.080640",
     "status": "completed"
    },
    "tags": []
   },
   "outputs": [
    {
     "name": "stdout",
     "output_type": "stream",
     "text": [
      "Current working directory: /dss/dsshome1/0C/ra93lal2/cma/CMA_Fairness_v2\n"
     ]
    }
   ],
   "source": [
    "import os\n",
    "print(\"Current working directory:\", os.getcwd())"
   ]
  },
  {
   "cell_type": "code",
   "execution_count": 3,
   "id": "2dce4c03",
   "metadata": {
    "execution": {
     "iopub.execute_input": "2025-08-05T15:22:41.141762Z",
     "iopub.status.busy": "2025-08-05T15:22:41.140978Z",
     "iopub.status.idle": "2025-08-05T15:22:41.147044Z",
     "shell.execute_reply": "2025-08-05T15:22:41.145983Z"
    },
    "papermill": {
     "duration": 0.025685,
     "end_time": "2025-08-05T15:22:41.149041",
     "exception": false,
     "start_time": "2025-08-05T15:22:41.123356",
     "status": "completed"
    },
    "tags": [
     "parameters"
    ]
   },
   "outputs": [],
   "source": [
    "run_no = 0\n",
    "universe_id = \"test\"\n",
    "universe = {\n",
    "    \"training_size\": \"25k\", # \"25k\", \"5k\", \"1k\"\n",
    "    \"training_year\": \"2014\", # \"2014\", \"2012_14\", \"2010_14\"\n",
    "    \"scale\": \"scale\", # \"scale\", \"do-not-scale\",\n",
    "    \"model\": \"elasticnet\", # \"logreg\", \"penalized_logreg\", \"rf\", \"gbm\", \"elasticnet\"\n",
    "    \"cutoff\": [\"quantile_0.15\", \"quantile_0.30\"],\n",
    "    \"exclude_features\": \"age\", # \"none\", \"nationality\", \"sex\", \"nationality-sex\", \"age\"\n",
    "    \"exclude_subgroups\": \"keep-all\", # \"keep-all\", \"drop-non-german\"\n",
    "    \"eval_fairness_grouping\": [\"majority-minority\", \"nationality-all\"]\n",
    "}\n",
    "\n",
    "output_dir=\"./output\"\n",
    "seed=0"
   ]
  },
  {
   "cell_type": "code",
   "execution_count": 4,
   "id": "2d14b206",
   "metadata": {
    "execution": {
     "iopub.execute_input": "2025-08-05T15:22:41.185667Z",
     "iopub.status.busy": "2025-08-05T15:22:41.185359Z",
     "iopub.status.idle": "2025-08-05T15:22:41.190035Z",
     "shell.execute_reply": "2025-08-05T15:22:41.188981Z"
    },
    "papermill": {
     "duration": 0.024801,
     "end_time": "2025-08-05T15:22:41.192091",
     "exception": false,
     "start_time": "2025-08-05T15:22:41.167290",
     "status": "completed"
    },
    "tags": [
     "injected-parameters"
    ]
   },
   "outputs": [],
   "source": [
    "# Parameters\n",
    "universe_id = \"499dc4f2e7da7317b0a451883970c5ce\"\n",
    "run_no = \"15\"\n",
    "universe = \"{\\\"cutoff\\\": [\\\"quantile_0.1\\\", \\\"quantile_0.25\\\"], \\\"eval_fairness_grouping\\\": [\\\"majority-minority\\\", \\\"nationality-all\\\"], \\\"exclude_features\\\": \\\"age\\\", \\\"exclude_subgroups\\\": \\\"keep-all\\\", \\\"model\\\": \\\"penalized_logreg\\\", \\\"scale\\\": \\\"scale\\\", \\\"training_size\\\": \\\"5k\\\", \\\"training_year\\\": \\\"2014\\\"}\"\n",
    "output_dir = \"output\"\n",
    "seed = \"2023\"\n"
   ]
  },
  {
   "cell_type": "code",
   "execution_count": 5,
   "id": "1650acaf",
   "metadata": {
    "execution": {
     "iopub.execute_input": "2025-08-05T15:22:41.227649Z",
     "iopub.status.busy": "2025-08-05T15:22:41.227249Z",
     "iopub.status.idle": "2025-08-05T15:22:41.231924Z",
     "shell.execute_reply": "2025-08-05T15:22:41.230971Z"
    },
    "papermill": {
     "duration": 0.022557,
     "end_time": "2025-08-05T15:22:41.233889",
     "exception": false,
     "start_time": "2025-08-05T15:22:41.211332",
     "status": "completed"
    },
    "tags": []
   },
   "outputs": [],
   "source": [
    "import json\n",
    "if isinstance(universe, str):\n",
    "    universe = json.loads(universe)"
   ]
  },
  {
   "cell_type": "code",
   "execution_count": 6,
   "id": "16620c48",
   "metadata": {
    "execution": {
     "iopub.execute_input": "2025-08-05T15:22:41.267090Z",
     "iopub.status.busy": "2025-08-05T15:22:41.266360Z",
     "iopub.status.idle": "2025-08-05T15:22:41.308403Z",
     "shell.execute_reply": "2025-08-05T15:22:41.307619Z"
    },
    "papermill": {
     "duration": 0.059415,
     "end_time": "2025-08-05T15:22:41.310103",
     "exception": false,
     "start_time": "2025-08-05T15:22:41.250688",
     "status": "completed"
    },
    "tags": []
   },
   "outputs": [],
   "source": [
    "# Auto-reload the custom package\n",
    "%load_ext autoreload\n",
    "%autoreload 1\n",
    "%aimport fairness_multiverse"
   ]
  },
  {
   "cell_type": "code",
   "execution_count": 7,
   "id": "01c5c9f3",
   "metadata": {
    "execution": {
     "iopub.execute_input": "2025-08-05T15:22:41.347135Z",
     "iopub.status.busy": "2025-08-05T15:22:41.346609Z",
     "iopub.status.idle": "2025-08-05T15:22:43.251055Z",
     "shell.execute_reply": "2025-08-05T15:22:43.249999Z"
    },
    "papermill": {
     "duration": 1.925103,
     "end_time": "2025-08-05T15:22:43.252980",
     "exception": false,
     "start_time": "2025-08-05T15:22:41.327877",
     "status": "completed"
    },
    "tags": []
   },
   "outputs": [],
   "source": [
    "from fairness_multiverse.universe import UniverseAnalysis\n",
    "\n",
    "universe_analysis = UniverseAnalysis(\n",
    "    run_no = run_no,\n",
    "    universe_id = universe_id,\n",
    "    universe = universe,\n",
    "    output_dir=output_dir,\n",
    ")"
   ]
  },
  {
   "cell_type": "code",
   "execution_count": 8,
   "id": "106241f5",
   "metadata": {
    "execution": {
     "iopub.execute_input": "2025-08-05T15:22:43.286513Z",
     "iopub.status.busy": "2025-08-05T15:22:43.285641Z",
     "iopub.status.idle": "2025-08-05T15:22:43.292232Z",
     "shell.execute_reply": "2025-08-05T15:22:43.291231Z"
    },
    "papermill": {
     "duration": 0.024693,
     "end_time": "2025-08-05T15:22:43.293980",
     "exception": false,
     "start_time": "2025-08-05T15:22:43.269287",
     "status": "completed"
    },
    "tags": []
   },
   "outputs": [
    {
     "name": "stdout",
     "output_type": "stream",
     "text": [
      "Using Seed: 2023\n"
     ]
    }
   ],
   "source": [
    "import numpy as np\n",
    "parsed_seed = int(seed)\n",
    "np.random.seed(parsed_seed)\n",
    "print(f\"Using Seed: {parsed_seed}\")"
   ]
  },
  {
   "cell_type": "markdown",
   "id": "e0ebdc57",
   "metadata": {
    "papermill": {
     "duration": 0.008733,
     "end_time": "2025-08-05T15:22:43.312586",
     "exception": false,
     "start_time": "2025-08-05T15:22:43.303853",
     "status": "completed"
    },
    "tags": []
   },
   "source": [
    "# Loading Data"
   ]
  },
  {
   "cell_type": "code",
   "execution_count": 9,
   "id": "f0496b8a",
   "metadata": {
    "execution": {
     "iopub.execute_input": "2025-08-05T15:22:43.331539Z",
     "iopub.status.busy": "2025-08-05T15:22:43.330837Z",
     "iopub.status.idle": "2025-08-05T15:22:54.036360Z",
     "shell.execute_reply": "2025-08-05T15:22:54.035335Z"
    },
    "papermill": {
     "duration": 10.716469,
     "end_time": "2025-08-05T15:22:54.037739",
     "exception": false,
     "start_time": "2025-08-05T15:22:43.321270",
     "status": "completed"
    },
    "tags": []
   },
   "outputs": [
    {
     "name": "stdout",
     "output_type": "stream",
     "text": [
      "Loading SIAB data from cache: data/siab_cached.csv.gz\n"
     ]
    },
    {
     "name": "stdout",
     "output_type": "stream",
     "text": [
      "(643690, 164)\n"
     ]
    }
   ],
   "source": [
    "from pathlib import Path\n",
    "import pandas as pd\n",
    "\n",
    "# File paths\n",
    "raw_file = Path(\"data/raw/siab.csv\")\n",
    "cache_file = Path(\"data/siab_cached.csv.gz\")\n",
    "\n",
    "# Ensure cache directory exists\n",
    "cache_file.parent.mkdir(parents=True, exist_ok=True)\n",
    "\n",
    "# Load with simple caching\n",
    "if cache_file.exists():\n",
    "    print(f\"Loading SIAB data from cache: {cache_file}\")\n",
    "    siab = pd.read_csv(cache_file, compression='gzip')\n",
    "else:\n",
    "    print(f\"Cache not found. Reading raw SIAB data: {raw_file}\")\n",
    "    siab = pd.read_csv(raw_file)\n",
    "    siab.to_csv(cache_file, index=False, compression='gzip')\n",
    "    print(f\"Cached SIAB data to: {cache_file}\")\n",
    "\n",
    "print(siab.shape)"
   ]
  },
  {
   "cell_type": "code",
   "execution_count": 10,
   "id": "db0ca512-5f53-4dba-abdb-a2888bca41ba",
   "metadata": {
    "execution": {
     "iopub.execute_input": "2025-08-05T15:22:54.059317Z",
     "iopub.status.busy": "2025-08-05T15:22:54.058975Z",
     "iopub.status.idle": "2025-08-05T15:22:54.063754Z",
     "shell.execute_reply": "2025-08-05T15:22:54.062816Z"
    },
    "papermill": {
     "duration": 0.015808,
     "end_time": "2025-08-05T15:22:54.065118",
     "exception": false,
     "start_time": "2025-08-05T15:22:54.049310",
     "status": "completed"
    },
    "tags": []
   },
   "outputs": [],
   "source": [
    "#siab"
   ]
  },
  {
   "cell_type": "markdown",
   "id": "997051c5-15bd-4b69-9786-c3001a3ce484",
   "metadata": {
    "papermill": {
     "duration": 0.008781,
     "end_time": "2025-08-05T15:22:54.083909",
     "exception": false,
     "start_time": "2025-08-05T15:22:54.075128",
     "status": "completed"
    },
    "tags": []
   },
   "source": [
    "# Splitting Data and Setting Training Data Size"
   ]
  },
  {
   "cell_type": "code",
   "execution_count": 11,
   "id": "aea9c6ef-6f46-42c8-85eb-5a62025c1508",
   "metadata": {
    "execution": {
     "iopub.execute_input": "2025-08-05T15:22:54.102605Z",
     "iopub.status.busy": "2025-08-05T15:22:54.102120Z",
     "iopub.status.idle": "2025-08-05T15:22:54.294198Z",
     "shell.execute_reply": "2025-08-05T15:22:54.293442Z"
    },
    "papermill": {
     "duration": 0.203316,
     "end_time": "2025-08-05T15:22:54.295895",
     "exception": false,
     "start_time": "2025-08-05T15:22:54.092579",
     "status": "completed"
    },
    "tags": []
   },
   "outputs": [],
   "source": [
    "from fairness_multiverse.universe import sample_by_year_size\n",
    "\n",
    "siab_train = sample_by_year_size(siab,\n",
    "                               training_year=universe[\"training_year\"],\n",
    "                               training_size=universe[\"training_size\"])"
   ]
  },
  {
   "cell_type": "code",
   "execution_count": 12,
   "id": "8d3afb32-789d-442c-8d5d-9f5aa8dd2eed",
   "metadata": {
    "execution": {
     "iopub.execute_input": "2025-08-05T15:22:54.315082Z",
     "iopub.status.busy": "2025-08-05T15:22:54.314777Z",
     "iopub.status.idle": "2025-08-05T15:22:54.318732Z",
     "shell.execute_reply": "2025-08-05T15:22:54.317876Z"
    },
    "papermill": {
     "duration": 0.014795,
     "end_time": "2025-08-05T15:22:54.320071",
     "exception": false,
     "start_time": "2025-08-05T15:22:54.305276",
     "status": "completed"
    },
    "tags": []
   },
   "outputs": [],
   "source": [
    "#siab_train.shape"
   ]
  },
  {
   "cell_type": "code",
   "execution_count": 13,
   "id": "d582db68-1a4c-47fb-84fc-08518dc1975a",
   "metadata": {
    "execution": {
     "iopub.execute_input": "2025-08-05T15:22:54.340203Z",
     "iopub.status.busy": "2025-08-05T15:22:54.339604Z",
     "iopub.status.idle": "2025-08-05T15:22:54.343941Z",
     "shell.execute_reply": "2025-08-05T15:22:54.343160Z"
    },
    "papermill": {
     "duration": 0.015211,
     "end_time": "2025-08-05T15:22:54.345362",
     "exception": false,
     "start_time": "2025-08-05T15:22:54.330151",
     "status": "completed"
    },
    "tags": []
   },
   "outputs": [],
   "source": [
    "#display(siab_train.groupby(\"year\").size())"
   ]
  },
  {
   "cell_type": "code",
   "execution_count": 14,
   "id": "a561edb4-d032-42cb-8256-22eac1111c64",
   "metadata": {
    "execution": {
     "iopub.execute_input": "2025-08-05T15:22:54.365429Z",
     "iopub.status.busy": "2025-08-05T15:22:54.364783Z",
     "iopub.status.idle": "2025-08-05T15:22:54.567822Z",
     "shell.execute_reply": "2025-08-05T15:22:54.567071Z"
    },
    "papermill": {
     "duration": 0.214064,
     "end_time": "2025-08-05T15:22:54.569413",
     "exception": false,
     "start_time": "2025-08-05T15:22:54.355349",
     "status": "completed"
    },
    "tags": []
   },
   "outputs": [],
   "source": [
    "#siab_train = siab_s[siab_s.year < 2015]\n",
    "siab_calib = siab[siab.year == 2015]\n",
    "siab_test = siab[siab.year == 2016]"
   ]
  },
  {
   "cell_type": "code",
   "execution_count": 15,
   "id": "472de16f-c3db-4916-846b-1f0de9cf1746",
   "metadata": {
    "execution": {
     "iopub.execute_input": "2025-08-05T15:22:54.588816Z",
     "iopub.status.busy": "2025-08-05T15:22:54.588506Z",
     "iopub.status.idle": "2025-08-05T15:22:54.595114Z",
     "shell.execute_reply": "2025-08-05T15:22:54.594200Z"
    },
    "papermill": {
     "duration": 0.017503,
     "end_time": "2025-08-05T15:22:54.596492",
     "exception": false,
     "start_time": "2025-08-05T15:22:54.578989",
     "status": "completed"
    },
    "tags": []
   },
   "outputs": [],
   "source": [
    "X_train = siab_train.iloc[:,4:164]\n",
    "y_train = siab_train.iloc[:, [3]]"
   ]
  },
  {
   "cell_type": "code",
   "execution_count": 16,
   "id": "828c96af-f43a-4ed6-ba47-8ac73a47d56c",
   "metadata": {
    "execution": {
     "iopub.execute_input": "2025-08-05T15:22:54.616875Z",
     "iopub.status.busy": "2025-08-05T15:22:54.616357Z",
     "iopub.status.idle": "2025-08-05T15:22:54.663303Z",
     "shell.execute_reply": "2025-08-05T15:22:54.662525Z"
    },
    "papermill": {
     "duration": 0.058036,
     "end_time": "2025-08-05T15:22:54.664837",
     "exception": false,
     "start_time": "2025-08-05T15:22:54.606801",
     "status": "completed"
    },
    "tags": []
   },
   "outputs": [],
   "source": [
    "X_calib = siab_calib.iloc[:,4:164]\n",
    "y_calib = siab_calib.iloc[:, [3]]"
   ]
  },
  {
   "cell_type": "code",
   "execution_count": 17,
   "id": "c34be9c3-6bd6-476e-acd3-845840e303be",
   "metadata": {
    "execution": {
     "iopub.execute_input": "2025-08-05T15:22:54.686034Z",
     "iopub.status.busy": "2025-08-05T15:22:54.685700Z",
     "iopub.status.idle": "2025-08-05T15:22:54.732649Z",
     "shell.execute_reply": "2025-08-05T15:22:54.731624Z"
    },
    "papermill": {
     "duration": 0.058221,
     "end_time": "2025-08-05T15:22:54.734193",
     "exception": false,
     "start_time": "2025-08-05T15:22:54.675972",
     "status": "completed"
    },
    "tags": []
   },
   "outputs": [],
   "source": [
    "X_test = siab_test.iloc[:,4:164]\n",
    "y_true = siab_test.iloc[:, [3]]"
   ]
  },
  {
   "cell_type": "code",
   "execution_count": 18,
   "id": "e6c733c5",
   "metadata": {
    "execution": {
     "iopub.execute_input": "2025-08-05T15:22:54.755334Z",
     "iopub.status.busy": "2025-08-05T15:22:54.755021Z",
     "iopub.status.idle": "2025-08-05T15:22:54.842938Z",
     "shell.execute_reply": "2025-08-05T15:22:54.842196Z"
    },
    "papermill": {
     "duration": 0.099041,
     "end_time": "2025-08-05T15:22:54.844359",
     "exception": false,
     "start_time": "2025-08-05T15:22:54.745318",
     "status": "completed"
    },
    "tags": []
   },
   "outputs": [],
   "source": [
    "# Auxiliary data needed downstream in the pipeline\n",
    "\n",
    "org_train = X_train.copy()\n",
    "org_test = X_test.copy()\n",
    "org_calib = X_calib.copy()"
   ]
  },
  {
   "cell_type": "markdown",
   "id": "0a4a1b33",
   "metadata": {
    "papermill": {
     "duration": 0.008799,
     "end_time": "2025-08-05T15:22:54.862773",
     "exception": false,
     "start_time": "2025-08-05T15:22:54.853974",
     "status": "completed"
    },
    "tags": []
   },
   "source": [
    "# Preprocessing Data"
   ]
  },
  {
   "cell_type": "code",
   "execution_count": 19,
   "id": "ca879031",
   "metadata": {
    "execution": {
     "iopub.execute_input": "2025-08-05T15:22:54.882213Z",
     "iopub.status.busy": "2025-08-05T15:22:54.881595Z",
     "iopub.status.idle": "2025-08-05T15:22:54.886746Z",
     "shell.execute_reply": "2025-08-05T15:22:54.885938Z"
    },
    "papermill": {
     "duration": 0.016624,
     "end_time": "2025-08-05T15:22:54.888284",
     "exception": false,
     "start_time": "2025-08-05T15:22:54.871660",
     "status": "completed"
    },
    "tags": []
   },
   "outputs": [],
   "source": [
    "# EXCLUDE PROTECTED FEATURES\n",
    "# ----------------------\n",
    "# \"exclude_features\": \"none\", # \"nationality\", \"sex\", \"nationality-sex\"\n",
    "\n",
    "excluded_features = universe[\"exclude_features\"].split(\"-\") # split, e.g.: \"nationality-sex\" -> [\"nationality\", \"sex\"]\n",
    "excluded_features_dictionary = {\n",
    "    \"nationality\": [\"maxdeutsch1\", \"maxdeutsch.Missing.\"],\n",
    "    \"sex\": [\"frau1\"],\n",
    "    \"age\": [\"age\"],\n",
    "}"
   ]
  },
  {
   "cell_type": "code",
   "execution_count": 20,
   "id": "b745ac60",
   "metadata": {
    "execution": {
     "iopub.execute_input": "2025-08-05T15:22:54.909197Z",
     "iopub.status.busy": "2025-08-05T15:22:54.908473Z",
     "iopub.status.idle": "2025-08-05T15:22:54.913390Z",
     "shell.execute_reply": "2025-08-05T15:22:54.912626Z"
    },
    "papermill": {
     "duration": 0.016457,
     "end_time": "2025-08-05T15:22:54.914896",
     "exception": false,
     "start_time": "2025-08-05T15:22:54.898439",
     "status": "completed"
    },
    "tags": []
   },
   "outputs": [],
   "source": [
    "# Code nice names to column names\n",
    "\n",
    "excluded_features_columns = [\n",
    "    excluded_features_dictionary[f] for f in excluded_features if len(f) > 0 and f != \"none\"\n",
    "]"
   ]
  },
  {
   "cell_type": "code",
   "execution_count": 21,
   "id": "f84f73a2",
   "metadata": {
    "execution": {
     "iopub.execute_input": "2025-08-05T15:22:54.936322Z",
     "iopub.status.busy": "2025-08-05T15:22:54.935685Z",
     "iopub.status.idle": "2025-08-05T15:22:54.941048Z",
     "shell.execute_reply": "2025-08-05T15:22:54.940295Z"
    },
    "papermill": {
     "duration": 0.017174,
     "end_time": "2025-08-05T15:22:54.942578",
     "exception": false,
     "start_time": "2025-08-05T15:22:54.925404",
     "status": "completed"
    },
    "tags": []
   },
   "outputs": [],
   "source": [
    "from utils import flatten_once\n",
    "\n",
    "excluded_features_columns = flatten_once(excluded_features_columns)"
   ]
  },
  {
   "cell_type": "code",
   "execution_count": 22,
   "id": "884dea22",
   "metadata": {
    "execution": {
     "iopub.execute_input": "2025-08-05T15:22:54.963517Z",
     "iopub.status.busy": "2025-08-05T15:22:54.963174Z",
     "iopub.status.idle": "2025-08-05T15:22:54.970811Z",
     "shell.execute_reply": "2025-08-05T15:22:54.969574Z"
    },
    "papermill": {
     "duration": 0.019338,
     "end_time": "2025-08-05T15:22:54.972381",
     "exception": false,
     "start_time": "2025-08-05T15:22:54.953043",
     "status": "completed"
    },
    "tags": []
   },
   "outputs": [
    {
     "name": "stdout",
     "output_type": "stream",
     "text": [
      "Dropping features: ['age']\n"
     ]
    }
   ],
   "source": [
    "if len(excluded_features_columns) > 0:\n",
    "    print(f\"Dropping features: {excluded_features_columns}\")\n",
    "    X_train.drop(excluded_features_columns, axis=1, inplace=True)"
   ]
  },
  {
   "cell_type": "code",
   "execution_count": 23,
   "id": "95ab8b16",
   "metadata": {
    "execution": {
     "iopub.execute_input": "2025-08-05T15:22:54.994012Z",
     "iopub.status.busy": "2025-08-05T15:22:54.993293Z",
     "iopub.status.idle": "2025-08-05T15:22:55.043195Z",
     "shell.execute_reply": "2025-08-05T15:22:55.042233Z"
    },
    "papermill": {
     "duration": 0.061707,
     "end_time": "2025-08-05T15:22:55.044847",
     "exception": false,
     "start_time": "2025-08-05T15:22:54.983140",
     "status": "completed"
    },
    "tags": []
   },
   "outputs": [
    {
     "name": "stdout",
     "output_type": "stream",
     "text": [
      "Dropping features: ['age']\n"
     ]
    }
   ],
   "source": [
    "if len(excluded_features_columns) > 0:\n",
    "    print(f\"Dropping features: {excluded_features_columns}\")\n",
    "    X_test.drop(excluded_features_columns, axis=1, inplace=True)"
   ]
  },
  {
   "cell_type": "code",
   "execution_count": 24,
   "id": "1853aaf5-fb9f-46cb-a2b5-8ea4ae2237e4",
   "metadata": {
    "execution": {
     "iopub.execute_input": "2025-08-05T15:22:55.066545Z",
     "iopub.status.busy": "2025-08-05T15:22:55.065848Z",
     "iopub.status.idle": "2025-08-05T15:22:55.113902Z",
     "shell.execute_reply": "2025-08-05T15:22:55.113003Z"
    },
    "papermill": {
     "duration": 0.059772,
     "end_time": "2025-08-05T15:22:55.115394",
     "exception": false,
     "start_time": "2025-08-05T15:22:55.055622",
     "status": "completed"
    },
    "tags": []
   },
   "outputs": [
    {
     "name": "stdout",
     "output_type": "stream",
     "text": [
      "Dropping features: ['age']\n"
     ]
    }
   ],
   "source": [
    "if len(excluded_features_columns) > 0:\n",
    "    print(f\"Dropping features: {excluded_features_columns}\")\n",
    "    X_calib.drop(excluded_features_columns, axis=1, inplace=True)"
   ]
  },
  {
   "cell_type": "code",
   "execution_count": 25,
   "id": "76c4dc6d",
   "metadata": {
    "execution": {
     "iopub.execute_input": "2025-08-05T15:22:55.137431Z",
     "iopub.status.busy": "2025-08-05T15:22:55.136938Z",
     "iopub.status.idle": "2025-08-05T15:22:55.141458Z",
     "shell.execute_reply": "2025-08-05T15:22:55.140515Z"
    },
    "papermill": {
     "duration": 0.016552,
     "end_time": "2025-08-05T15:22:55.143132",
     "exception": false,
     "start_time": "2025-08-05T15:22:55.126580",
     "status": "completed"
    },
    "tags": []
   },
   "outputs": [],
   "source": [
    "# EXCLUDE CERTAIN SUBGROUPS\n",
    "# ----------------------\n",
    "\n",
    "mode = universe.get(\"exclude_subgroups\", \"keep-all\") \n",
    "# Fetches the exclude_subgroups setting from the universe dict.\n",
    "# Defaults to \"keep-all\" if the key is missing."
   ]
  },
  {
   "cell_type": "code",
   "execution_count": 26,
   "id": "21994072",
   "metadata": {
    "execution": {
     "iopub.execute_input": "2025-08-05T15:22:55.165198Z",
     "iopub.status.busy": "2025-08-05T15:22:55.164512Z",
     "iopub.status.idle": "2025-08-05T15:22:55.170014Z",
     "shell.execute_reply": "2025-08-05T15:22:55.169324Z"
    },
    "papermill": {
     "duration": 0.017427,
     "end_time": "2025-08-05T15:22:55.171469",
     "exception": false,
     "start_time": "2025-08-05T15:22:55.154042",
     "status": "completed"
    },
    "tags": []
   },
   "outputs": [],
   "source": [
    "if mode == \"keep-all\":\n",
    "    keep_mask = pd.Series(True, index=org_train.index)\n",
    "\n",
    "# org_train contains the original feature columns from features_org (in Simson)\n",
    "# features_org contains unprocessed features, for me X_train at beginning ???\n",
    "# For keep-all, creates a boolean Series (keep_mask) of all True, so no rows are removed.\n",
    "\n",
    "elif mode == \"drop-non-german\":\n",
    "    keep_mask = org_train[\"maxdeutsch1\"] == 1 # ??? what about missing values?\n",
    "\n",
    "else:\n",
    "    raise ValueError(f\"Unsupported mode for exclude_subgroups: {mode}\")"
   ]
  },
  {
   "cell_type": "code",
   "execution_count": 27,
   "id": "71651440",
   "metadata": {
    "execution": {
     "iopub.execute_input": "2025-08-05T15:22:55.193569Z",
     "iopub.status.busy": "2025-08-05T15:22:55.193069Z",
     "iopub.status.idle": "2025-08-05T15:22:55.198744Z",
     "shell.execute_reply": "2025-08-05T15:22:55.197933Z"
    },
    "papermill": {
     "duration": 0.017273,
     "end_time": "2025-08-05T15:22:55.199998",
     "exception": false,
     "start_time": "2025-08-05T15:22:55.182725",
     "status": "completed"
    },
    "tags": []
   },
   "outputs": [],
   "source": [
    "n_drop = (~keep_mask).sum() # Calculates how many rows are set to be dropped\n",
    "if n_drop > 0:\n",
    "    pct = n_drop / len(keep_mask) * 100\n",
    "    print(f\"Dropping {n_drop} rows ({pct:.2f}%) where mode='{mode}'\")"
   ]
  },
  {
   "cell_type": "code",
   "execution_count": 28,
   "id": "5fb8eee5",
   "metadata": {
    "execution": {
     "iopub.execute_input": "2025-08-05T15:22:55.223100Z",
     "iopub.status.busy": "2025-08-05T15:22:55.222280Z",
     "iopub.status.idle": "2025-08-05T15:22:55.229099Z",
     "shell.execute_reply": "2025-08-05T15:22:55.228230Z"
    },
    "papermill": {
     "duration": 0.019539,
     "end_time": "2025-08-05T15:22:55.230659",
     "exception": false,
     "start_time": "2025-08-05T15:22:55.211120",
     "status": "completed"
    },
    "tags": []
   },
   "outputs": [],
   "source": [
    "X_train = X_train[keep_mask]"
   ]
  },
  {
   "cell_type": "code",
   "execution_count": 29,
   "id": "b202bb3a",
   "metadata": {
    "execution": {
     "iopub.execute_input": "2025-08-05T15:22:55.252598Z",
     "iopub.status.busy": "2025-08-05T15:22:55.252105Z",
     "iopub.status.idle": "2025-08-05T15:22:55.257473Z",
     "shell.execute_reply": "2025-08-05T15:22:55.256724Z"
    },
    "papermill": {
     "duration": 0.017306,
     "end_time": "2025-08-05T15:22:55.259048",
     "exception": false,
     "start_time": "2025-08-05T15:22:55.241742",
     "status": "completed"
    },
    "tags": []
   },
   "outputs": [],
   "source": [
    "y_train = y_train[keep_mask]"
   ]
  },
  {
   "cell_type": "markdown",
   "id": "493e2ac3",
   "metadata": {
    "papermill": {
     "duration": 0.009414,
     "end_time": "2025-08-05T15:22:55.279692",
     "exception": false,
     "start_time": "2025-08-05T15:22:55.270278",
     "status": "completed"
    },
    "tags": []
   },
   "source": [
    "# Model Training"
   ]
  },
  {
   "cell_type": "code",
   "execution_count": 30,
   "id": "679e1268",
   "metadata": {
    "execution": {
     "iopub.execute_input": "2025-08-05T15:22:55.300038Z",
     "iopub.status.busy": "2025-08-05T15:22:55.299533Z",
     "iopub.status.idle": "2025-08-05T15:22:55.463269Z",
     "shell.execute_reply": "2025-08-05T15:22:55.462528Z"
    },
    "papermill": {
     "duration": 0.175539,
     "end_time": "2025-08-05T15:22:55.464644",
     "exception": false,
     "start_time": "2025-08-05T15:22:55.289105",
     "status": "completed"
    },
    "tags": []
   },
   "outputs": [],
   "source": [
    "from sklearn.linear_model import LogisticRegression\n",
    "from sklearn.ensemble import GradientBoostingClassifier, RandomForestClassifier\n",
    "\n",
    "if (universe[\"model\"] == \"logreg\"):\n",
    "    model = LogisticRegression() #penalty=\"none\", solver=\"newton-cg\", max_iter=1) # include random_state=19 ?\n",
    "elif (universe[\"model\"] == \"penalized_logreg\"):\n",
    "    model = LogisticRegression(penalty=\"l2\", C=0.1) #, solver=\"newton-cg\", max_iter=1)\n",
    "elif (universe[\"model\"] == \"rf\"):\n",
    "    model = RandomForestClassifier() # n_estimators=100, n_jobs=-1\n",
    "elif (universe[\"model\"] == \"gbm\"):\n",
    "    model = GradientBoostingClassifier()\n",
    "elif (universe[\"model\"] == \"elasticnet\"):\n",
    "    model = LogisticRegression(penalty = 'elasticnet', solver = 'saga', l1_ratio = 0.5) # max_iter=5000\n",
    "else:\n",
    "    raise \"Unsupported universe.model\""
   ]
  },
  {
   "cell_type": "code",
   "execution_count": 31,
   "id": "0cc8f744",
   "metadata": {
    "execution": {
     "iopub.execute_input": "2025-08-05T15:22:55.486576Z",
     "iopub.status.busy": "2025-08-05T15:22:55.485794Z",
     "iopub.status.idle": "2025-08-05T15:22:55.491219Z",
     "shell.execute_reply": "2025-08-05T15:22:55.490501Z"
    },
    "papermill": {
     "duration": 0.01747,
     "end_time": "2025-08-05T15:22:55.492631",
     "exception": false,
     "start_time": "2025-08-05T15:22:55.475161",
     "status": "completed"
    },
    "tags": []
   },
   "outputs": [],
   "source": [
    "import numpy as np\n",
    "from sklearn.pipeline import Pipeline\n",
    "from sklearn.preprocessing import StandardScaler\n",
    "\n",
    "model = Pipeline([\n",
    "    #(\"continuous_processor\", continuous_processor),\n",
    "    #(\"categorical_preprocessor\", categorical_preprocessor),\n",
    "    (\"scale\", StandardScaler() if universe[\"scale\"] == \"scale\" else None), \n",
    "    (\"model\", model),\n",
    "])"
   ]
  },
  {
   "cell_type": "code",
   "execution_count": 32,
   "id": "9442c04d",
   "metadata": {
    "execution": {
     "iopub.execute_input": "2025-08-05T15:22:55.515283Z",
     "iopub.status.busy": "2025-08-05T15:22:55.514922Z",
     "iopub.status.idle": "2025-08-05T15:22:55.614611Z",
     "shell.execute_reply": "2025-08-05T15:22:55.613763Z"
    },
    "papermill": {
     "duration": 0.111785,
     "end_time": "2025-08-05T15:22:55.616072",
     "exception": false,
     "start_time": "2025-08-05T15:22:55.504287",
     "status": "completed"
    },
    "tags": []
   },
   "outputs": [
    {
     "data": {
      "text/html": [
       "<style>#sk-container-id-1 {color: black;background-color: white;}#sk-container-id-1 pre{padding: 0;}#sk-container-id-1 div.sk-toggleable {background-color: white;}#sk-container-id-1 label.sk-toggleable__label {cursor: pointer;display: block;width: 100%;margin-bottom: 0;padding: 0.3em;box-sizing: border-box;text-align: center;}#sk-container-id-1 label.sk-toggleable__label-arrow:before {content: \"▸\";float: left;margin-right: 0.25em;color: #696969;}#sk-container-id-1 label.sk-toggleable__label-arrow:hover:before {color: black;}#sk-container-id-1 div.sk-estimator:hover label.sk-toggleable__label-arrow:before {color: black;}#sk-container-id-1 div.sk-toggleable__content {max-height: 0;max-width: 0;overflow: hidden;text-align: left;background-color: #f0f8ff;}#sk-container-id-1 div.sk-toggleable__content pre {margin: 0.2em;color: black;border-radius: 0.25em;background-color: #f0f8ff;}#sk-container-id-1 input.sk-toggleable__control:checked~div.sk-toggleable__content {max-height: 200px;max-width: 100%;overflow: auto;}#sk-container-id-1 input.sk-toggleable__control:checked~label.sk-toggleable__label-arrow:before {content: \"▾\";}#sk-container-id-1 div.sk-estimator input.sk-toggleable__control:checked~label.sk-toggleable__label {background-color: #d4ebff;}#sk-container-id-1 div.sk-label input.sk-toggleable__control:checked~label.sk-toggleable__label {background-color: #d4ebff;}#sk-container-id-1 input.sk-hidden--visually {border: 0;clip: rect(1px 1px 1px 1px);clip: rect(1px, 1px, 1px, 1px);height: 1px;margin: -1px;overflow: hidden;padding: 0;position: absolute;width: 1px;}#sk-container-id-1 div.sk-estimator {font-family: monospace;background-color: #f0f8ff;border: 1px dotted black;border-radius: 0.25em;box-sizing: border-box;margin-bottom: 0.5em;}#sk-container-id-1 div.sk-estimator:hover {background-color: #d4ebff;}#sk-container-id-1 div.sk-parallel-item::after {content: \"\";width: 100%;border-bottom: 1px solid gray;flex-grow: 1;}#sk-container-id-1 div.sk-label:hover label.sk-toggleable__label {background-color: #d4ebff;}#sk-container-id-1 div.sk-serial::before {content: \"\";position: absolute;border-left: 1px solid gray;box-sizing: border-box;top: 0;bottom: 0;left: 50%;z-index: 0;}#sk-container-id-1 div.sk-serial {display: flex;flex-direction: column;align-items: center;background-color: white;padding-right: 0.2em;padding-left: 0.2em;position: relative;}#sk-container-id-1 div.sk-item {position: relative;z-index: 1;}#sk-container-id-1 div.sk-parallel {display: flex;align-items: stretch;justify-content: center;background-color: white;position: relative;}#sk-container-id-1 div.sk-item::before, #sk-container-id-1 div.sk-parallel-item::before {content: \"\";position: absolute;border-left: 1px solid gray;box-sizing: border-box;top: 0;bottom: 0;left: 50%;z-index: -1;}#sk-container-id-1 div.sk-parallel-item {display: flex;flex-direction: column;z-index: 1;position: relative;background-color: white;}#sk-container-id-1 div.sk-parallel-item:first-child::after {align-self: flex-end;width: 50%;}#sk-container-id-1 div.sk-parallel-item:last-child::after {align-self: flex-start;width: 50%;}#sk-container-id-1 div.sk-parallel-item:only-child::after {width: 0;}#sk-container-id-1 div.sk-dashed-wrapped {border: 1px dashed gray;margin: 0 0.4em 0.5em 0.4em;box-sizing: border-box;padding-bottom: 0.4em;background-color: white;}#sk-container-id-1 div.sk-label label {font-family: monospace;font-weight: bold;display: inline-block;line-height: 1.2em;}#sk-container-id-1 div.sk-label-container {text-align: center;}#sk-container-id-1 div.sk-container {/* jupyter's `normalize.less` sets `[hidden] { display: none; }` but bootstrap.min.css set `[hidden] { display: none !important; }` so we also need the `!important` here to be able to override the default hidden behavior on the sphinx rendered scikit-learn.org. See: https://github.com/scikit-learn/scikit-learn/issues/21755 */display: inline-block !important;position: relative;}#sk-container-id-1 div.sk-text-repr-fallback {display: none;}</style><div id=\"sk-container-id-1\" class=\"sk-top-container\"><div class=\"sk-text-repr-fallback\"><pre>Pipeline(steps=[(&#x27;scale&#x27;, StandardScaler()),\n",
       "                (&#x27;model&#x27;, LogisticRegression(C=0.1))])</pre><b>In a Jupyter environment, please rerun this cell to show the HTML representation or trust the notebook. <br />On GitHub, the HTML representation is unable to render, please try loading this page with nbviewer.org.</b></div><div class=\"sk-container\" hidden><div class=\"sk-item sk-dashed-wrapped\"><div class=\"sk-label-container\"><div class=\"sk-label sk-toggleable\"><input class=\"sk-toggleable__control sk-hidden--visually\" id=\"sk-estimator-id-1\" type=\"checkbox\" ><label for=\"sk-estimator-id-1\" class=\"sk-toggleable__label sk-toggleable__label-arrow\">Pipeline</label><div class=\"sk-toggleable__content\"><pre>Pipeline(steps=[(&#x27;scale&#x27;, StandardScaler()),\n",
       "                (&#x27;model&#x27;, LogisticRegression(C=0.1))])</pre></div></div></div><div class=\"sk-serial\"><div class=\"sk-item\"><div class=\"sk-estimator sk-toggleable\"><input class=\"sk-toggleable__control sk-hidden--visually\" id=\"sk-estimator-id-2\" type=\"checkbox\" ><label for=\"sk-estimator-id-2\" class=\"sk-toggleable__label sk-toggleable__label-arrow\">StandardScaler</label><div class=\"sk-toggleable__content\"><pre>StandardScaler()</pre></div></div></div><div class=\"sk-item\"><div class=\"sk-estimator sk-toggleable\"><input class=\"sk-toggleable__control sk-hidden--visually\" id=\"sk-estimator-id-3\" type=\"checkbox\" ><label for=\"sk-estimator-id-3\" class=\"sk-toggleable__label sk-toggleable__label-arrow\">LogisticRegression</label><div class=\"sk-toggleable__content\"><pre>LogisticRegression(C=0.1)</pre></div></div></div></div></div></div></div>"
      ],
      "text/plain": [
       "Pipeline(steps=[('scale', StandardScaler()),\n",
       "                ('model', LogisticRegression(C=0.1))])"
      ]
     },
     "execution_count": 32,
     "metadata": {},
     "output_type": "execute_result"
    }
   ],
   "source": [
    "model.fit(X_train, y_train.values.ravel())"
   ]
  },
  {
   "cell_type": "code",
   "execution_count": 33,
   "id": "af59f8c0",
   "metadata": {
    "execution": {
     "iopub.execute_input": "2025-08-05T15:22:55.637612Z",
     "iopub.status.busy": "2025-08-05T15:22:55.637229Z",
     "iopub.status.idle": "2025-08-05T15:22:55.642314Z",
     "shell.execute_reply": "2025-08-05T15:22:55.641586Z"
    },
    "papermill": {
     "duration": 0.017375,
     "end_time": "2025-08-05T15:22:55.643899",
     "exception": false,
     "start_time": "2025-08-05T15:22:55.626524",
     "status": "completed"
    },
    "tags": []
   },
   "outputs": [],
   "source": [
    "from fairness_multiverse.universe import predict_w_threshold"
   ]
  },
  {
   "cell_type": "code",
   "execution_count": 34,
   "id": "a7cf2e16",
   "metadata": {
    "execution": {
     "iopub.execute_input": "2025-08-05T15:22:55.666892Z",
     "iopub.status.busy": "2025-08-05T15:22:55.666382Z",
     "iopub.status.idle": "2025-08-05T15:22:55.838064Z",
     "shell.execute_reply": "2025-08-05T15:22:55.837205Z"
    },
    "papermill": {
     "duration": 0.184154,
     "end_time": "2025-08-05T15:22:55.839470",
     "exception": false,
     "start_time": "2025-08-05T15:22:55.655316",
     "status": "completed"
    },
    "tags": []
   },
   "outputs": [
    {
     "data": {
      "text/plain": [
       "0.8586110801471408"
      ]
     },
     "execution_count": 34,
     "metadata": {},
     "output_type": "execute_result"
    }
   ],
   "source": [
    "probs_test = model.predict_proba(X_test)\n",
    "\n",
    "'''\n",
    "Below code returns a boolean array (or binary 0/1 array depending on how it’s used) where each element \n",
    "is True if the probability of class 1 is greater than or equal to the threshold, and False otherwise.\n",
    "'''\n",
    "y_pred_default = predict_w_threshold(probs_test, 0.5)\n",
    "\n",
    "from sklearn.metrics import accuracy_score\n",
    "\n",
    "# Naive prediction\n",
    "accuracy_score(y_true = y_true, y_pred = y_pred_default)"
   ]
  },
  {
   "cell_type": "code",
   "execution_count": 35,
   "id": "081964c3",
   "metadata": {
    "execution": {
     "iopub.execute_input": "2025-08-05T15:22:55.861171Z",
     "iopub.status.busy": "2025-08-05T15:22:55.860808Z",
     "iopub.status.idle": "2025-08-05T15:22:56.025557Z",
     "shell.execute_reply": "2025-08-05T15:22:56.024696Z"
    },
    "papermill": {
     "duration": 0.176971,
     "end_time": "2025-08-05T15:22:56.026920",
     "exception": false,
     "start_time": "2025-08-05T15:22:55.849949",
     "status": "completed"
    },
    "tags": []
   },
   "outputs": [
    {
     "data": {
      "text/plain": [
       "array([0, 0, 0, ..., 0, 0, 0])"
      ]
     },
     "execution_count": 35,
     "metadata": {},
     "output_type": "execute_result"
    }
   ],
   "source": [
    "model.predict(X_test)"
   ]
  },
  {
   "cell_type": "markdown",
   "id": "56c9705b",
   "metadata": {
    "papermill": {
     "duration": 0.009968,
     "end_time": "2025-08-05T15:22:56.047632",
     "exception": false,
     "start_time": "2025-08-05T15:22:56.037664",
     "status": "completed"
    },
    "tags": []
   },
   "source": [
    "# Conformal Prediction"
   ]
  },
  {
   "cell_type": "code",
   "execution_count": 36,
   "id": "160ec6ff",
   "metadata": {
    "execution": {
     "iopub.execute_input": "2025-08-05T15:22:56.069449Z",
     "iopub.status.busy": "2025-08-05T15:22:56.068680Z",
     "iopub.status.idle": "2025-08-05T15:22:56.073228Z",
     "shell.execute_reply": "2025-08-05T15:22:56.072555Z"
    },
    "papermill": {
     "duration": 0.016942,
     "end_time": "2025-08-05T15:22:56.074694",
     "exception": false,
     "start_time": "2025-08-05T15:22:56.057752",
     "status": "completed"
    },
    "tags": []
   },
   "outputs": [],
   "source": [
    "# Miscoverage level for conformal prediction (10% allowed error rate => 90% target coverage)\n",
    "alpha = 0.1"
   ]
  },
  {
   "cell_type": "code",
   "execution_count": 37,
   "id": "eadf4555-3dd3-440e-8e35-f82a4ad9f855",
   "metadata": {
    "execution": {
     "iopub.execute_input": "2025-08-05T15:22:56.098304Z",
     "iopub.status.busy": "2025-08-05T15:22:56.097599Z",
     "iopub.status.idle": "2025-08-05T15:22:56.262038Z",
     "shell.execute_reply": "2025-08-05T15:22:56.261235Z"
    },
    "papermill": {
     "duration": 0.176934,
     "end_time": "2025-08-05T15:22:56.263528",
     "exception": false,
     "start_time": "2025-08-05T15:22:56.086594",
     "status": "completed"
    },
    "tags": []
   },
   "outputs": [],
   "source": [
    "probs_calib = model.predict_proba(X_calib)"
   ]
  },
  {
   "cell_type": "code",
   "execution_count": 38,
   "id": "2ed93547-6d5d-4983-9b36-1ecb300da49a",
   "metadata": {
    "execution": {
     "iopub.execute_input": "2025-08-05T15:22:56.285871Z",
     "iopub.status.busy": "2025-08-05T15:22:56.285465Z",
     "iopub.status.idle": "2025-08-05T15:22:56.290169Z",
     "shell.execute_reply": "2025-08-05T15:22:56.289296Z"
    },
    "papermill": {
     "duration": 0.017384,
     "end_time": "2025-08-05T15:22:56.291764",
     "exception": false,
     "start_time": "2025-08-05T15:22:56.274380",
     "status": "completed"
    },
    "tags": []
   },
   "outputs": [],
   "source": [
    "y_calib = y_calib.values.ravel().astype(int)"
   ]
  },
  {
   "cell_type": "code",
   "execution_count": 39,
   "id": "65d1320d-f588-4b38-9072-62af1ae97f7d",
   "metadata": {
    "execution": {
     "iopub.execute_input": "2025-08-05T15:22:56.315116Z",
     "iopub.status.busy": "2025-08-05T15:22:56.314424Z",
     "iopub.status.idle": "2025-08-05T15:22:56.320812Z",
     "shell.execute_reply": "2025-08-05T15:22:56.320023Z"
    },
    "papermill": {
     "duration": 0.018892,
     "end_time": "2025-08-05T15:22:56.322388",
     "exception": false,
     "start_time": "2025-08-05T15:22:56.303496",
     "status": "completed"
    },
    "tags": []
   },
   "outputs": [],
   "source": [
    "from fairness_multiverse.conformal import compute_nc_scores\n",
    "\n",
    "# Compute nonconformity scores on calibration set (1 - probability of true class)\n",
    "nc_scores = compute_nc_scores(probs_calib, y_calib)"
   ]
  },
  {
   "cell_type": "code",
   "execution_count": 40,
   "id": "df3b8ca3-53b7-43d5-9667-7c85da7aeda2",
   "metadata": {
    "execution": {
     "iopub.execute_input": "2025-08-05T15:22:56.345503Z",
     "iopub.status.busy": "2025-08-05T15:22:56.345009Z",
     "iopub.status.idle": "2025-08-05T15:22:56.351025Z",
     "shell.execute_reply": "2025-08-05T15:22:56.350266Z"
    },
    "papermill": {
     "duration": 0.018507,
     "end_time": "2025-08-05T15:22:56.352553",
     "exception": false,
     "start_time": "2025-08-05T15:22:56.334046",
     "status": "completed"
    },
    "tags": []
   },
   "outputs": [],
   "source": [
    "from fairness_multiverse.conformal import find_threshold\n",
    "\n",
    "# Find conformal threshold q_hat for the given alpha (split conformal method)\n",
    "q_hat = find_threshold(nc_scores, alpha)"
   ]
  },
  {
   "cell_type": "code",
   "execution_count": 41,
   "id": "4d29e6c1-0ef6-4aa4-b8fe-4fe79b0d033a",
   "metadata": {
    "execution": {
     "iopub.execute_input": "2025-08-05T15:22:56.375676Z",
     "iopub.status.busy": "2025-08-05T15:22:56.375330Z",
     "iopub.status.idle": "2025-08-05T15:22:56.381409Z",
     "shell.execute_reply": "2025-08-05T15:22:56.380629Z"
    },
    "papermill": {
     "duration": 0.018696,
     "end_time": "2025-08-05T15:22:56.383043",
     "exception": false,
     "start_time": "2025-08-05T15:22:56.364347",
     "status": "completed"
    },
    "tags": []
   },
   "outputs": [
    {
     "data": {
      "text/plain": [
       "0.6916322471946208"
      ]
     },
     "execution_count": 41,
     "metadata": {},
     "output_type": "execute_result"
    }
   ],
   "source": [
    "q_hat"
   ]
  },
  {
   "cell_type": "code",
   "execution_count": 42,
   "id": "92460794-cdac-4be2-ba28-f28c0515a6fb",
   "metadata": {
    "execution": {
     "iopub.execute_input": "2025-08-05T15:22:56.406732Z",
     "iopub.status.busy": "2025-08-05T15:22:56.406233Z",
     "iopub.status.idle": "2025-08-05T15:22:57.106617Z",
     "shell.execute_reply": "2025-08-05T15:22:57.105539Z"
    },
    "papermill": {
     "duration": 0.713146,
     "end_time": "2025-08-05T15:22:57.108080",
     "exception": false,
     "start_time": "2025-08-05T15:22:56.394934",
     "status": "completed"
    },
    "tags": []
   },
   "outputs": [],
   "source": [
    "from fairness_multiverse.conformal import predict_conformal_sets\n",
    "\n",
    "# Generate prediction sets for each test example\n",
    "pred_sets = predict_conformal_sets(model, X_test, q_hat)"
   ]
  },
  {
   "cell_type": "code",
   "execution_count": 43,
   "id": "d90c9a65-e6db-4f5d-80cd-e68fb7e46829",
   "metadata": {
    "execution": {
     "iopub.execute_input": "2025-08-05T15:22:57.151179Z",
     "iopub.status.busy": "2025-08-05T15:22:57.150691Z",
     "iopub.status.idle": "2025-08-05T15:22:57.156535Z",
     "shell.execute_reply": "2025-08-05T15:22:57.155567Z"
    },
    "papermill": {
     "duration": 0.030164,
     "end_time": "2025-08-05T15:22:57.158310",
     "exception": false,
     "start_time": "2025-08-05T15:22:57.128146",
     "status": "completed"
    },
    "tags": []
   },
   "outputs": [],
   "source": [
    "y_true = y_true.squeeze()"
   ]
  },
  {
   "cell_type": "code",
   "execution_count": 44,
   "id": "3a58a54a-1e68-46b9-927a-df01f18aebc8",
   "metadata": {
    "execution": {
     "iopub.execute_input": "2025-08-05T15:22:57.201783Z",
     "iopub.status.busy": "2025-08-05T15:22:57.200950Z",
     "iopub.status.idle": "2025-08-05T15:22:58.364389Z",
     "shell.execute_reply": "2025-08-05T15:22:58.363143Z"
    },
    "papermill": {
     "duration": 1.185357,
     "end_time": "2025-08-05T15:22:58.366273",
     "exception": false,
     "start_time": "2025-08-05T15:22:57.180916",
     "status": "completed"
    },
    "tags": []
   },
   "outputs": [],
   "source": [
    "from fairness_multiverse.conformal import evaluate_sets\n",
    "\n",
    "# Evaluate coverage and average set size on test data\n",
    "metrics = evaluate_sets(pred_sets, y_true)"
   ]
  },
  {
   "cell_type": "markdown",
   "id": "2b569c12-9aaa-4c88-98c9-bbcd0cf3ebb8",
   "metadata": {
    "papermill": {
     "duration": 0.01466,
     "end_time": "2025-08-05T15:22:58.402891",
     "exception": false,
     "start_time": "2025-08-05T15:22:58.388231",
     "status": "completed"
    },
    "tags": []
   },
   "source": [
    "# CP Metrics"
   ]
  },
  {
   "cell_type": "code",
   "execution_count": 45,
   "id": "5ce0a5cb-201f-45a0-ade5-94c7f0bd6095",
   "metadata": {
    "execution": {
     "iopub.execute_input": "2025-08-05T15:22:58.426655Z",
     "iopub.status.busy": "2025-08-05T15:22:58.426301Z",
     "iopub.status.idle": "2025-08-05T15:22:58.432725Z",
     "shell.execute_reply": "2025-08-05T15:22:58.431717Z"
    },
    "papermill": {
     "duration": 0.019844,
     "end_time": "2025-08-05T15:22:58.434271",
     "exception": false,
     "start_time": "2025-08-05T15:22:58.414427",
     "status": "completed"
    },
    "tags": []
   },
   "outputs": [
    {
     "data": {
      "text/plain": [
       "{'coverage': 0.9106008248801695, 'avg_size': 1.135157730464831}"
      ]
     },
     "execution_count": 45,
     "metadata": {},
     "output_type": "execute_result"
    }
   ],
   "source": [
    "metrics"
   ]
  },
  {
   "cell_type": "code",
   "execution_count": 46,
   "id": "9b9a838d-31c9-430b-ae14-12baee460d17",
   "metadata": {
    "execution": {
     "iopub.execute_input": "2025-08-05T15:22:58.459044Z",
     "iopub.status.busy": "2025-08-05T15:22:58.458541Z",
     "iopub.status.idle": "2025-08-05T15:22:58.464049Z",
     "shell.execute_reply": "2025-08-05T15:22:58.463292Z"
    },
    "papermill": {
     "duration": 0.019033,
     "end_time": "2025-08-05T15:22:58.465403",
     "exception": false,
     "start_time": "2025-08-05T15:22:58.446370",
     "status": "completed"
    },
    "tags": []
   },
   "outputs": [],
   "source": [
    "example_universe = universe.copy()\n",
    "universe_training_year = example_universe.get(\"training_year\")\n",
    "universe_training_size = example_universe.get(\"training_size\")\n",
    "universe_scale = example_universe.get(\"scale\")\n",
    "universe_model = example_universe.get(\"model\")\n",
    "universe_exclude_features = example_universe.get(\"exclude_features\")\n",
    "universe_exclude_subgroups = example_universe.get(\"exclude_subgroups\")"
   ]
  },
  {
   "cell_type": "code",
   "execution_count": 47,
   "id": "f4b6a8ac-9dc0-4245-8a91-5b3b5999c4f9",
   "metadata": {
    "execution": {
     "iopub.execute_input": "2025-08-05T15:22:58.491160Z",
     "iopub.status.busy": "2025-08-05T15:22:58.490486Z",
     "iopub.status.idle": "2025-08-05T15:22:58.495900Z",
     "shell.execute_reply": "2025-08-05T15:22:58.495220Z"
    },
    "papermill": {
     "duration": 0.019058,
     "end_time": "2025-08-05T15:22:58.497416",
     "exception": false,
     "start_time": "2025-08-05T15:22:58.478358",
     "status": "completed"
    },
    "tags": []
   },
   "outputs": [],
   "source": [
    "cp_metrics_dict = {\n",
    "    \"universe_id\": [universe_id],\n",
    "    \"universe_training_year\": [universe_training_year],\n",
    "    \"universe_training_size\": [universe_training_size],\n",
    "    \"universe_scale\": [universe_scale],\n",
    "    \"universe_model\": [universe_model],\n",
    "    \"universe_exclude_features\": [universe_exclude_features],\n",
    "    \"universe_exclude_subgroups\": [universe_exclude_subgroups],\n",
    "    \"q_hat\": [q_hat],\n",
    "    \"coverage\": [metrics[\"coverage\"]],\n",
    "    \"avg_size\": [metrics[\"avg_size\"]],\n",
    "}"
   ]
  },
  {
   "cell_type": "code",
   "execution_count": 48,
   "id": "908acbb1-0371-4915-85ca-3fa520d2efe2",
   "metadata": {
    "execution": {
     "iopub.execute_input": "2025-08-05T15:22:58.523038Z",
     "iopub.status.busy": "2025-08-05T15:22:58.522527Z",
     "iopub.status.idle": "2025-08-05T15:22:58.529335Z",
     "shell.execute_reply": "2025-08-05T15:22:58.528440Z"
    },
    "papermill": {
     "duration": 0.020784,
     "end_time": "2025-08-05T15:22:58.530959",
     "exception": false,
     "start_time": "2025-08-05T15:22:58.510175",
     "status": "completed"
    },
    "tags": []
   },
   "outputs": [
    {
     "data": {
      "text/plain": [
       "{'universe_id': ['499dc4f2e7da7317b0a451883970c5ce'],\n",
       " 'universe_training_year': ['2014'],\n",
       " 'universe_training_size': ['5k'],\n",
       " 'universe_scale': ['scale'],\n",
       " 'universe_model': ['penalized_logreg'],\n",
       " 'universe_exclude_features': ['age'],\n",
       " 'universe_exclude_subgroups': ['keep-all'],\n",
       " 'q_hat': [0.6916322471946208],\n",
       " 'coverage': [0.9106008248801695],\n",
       " 'avg_size': [1.135157730464831]}"
      ]
     },
     "execution_count": 48,
     "metadata": {},
     "output_type": "execute_result"
    }
   ],
   "source": [
    "cp_metrics_dict"
   ]
  },
  {
   "cell_type": "code",
   "execution_count": 49,
   "id": "33007efc-14e9-4ec6-97ac-56a455c82265",
   "metadata": {
    "execution": {
     "iopub.execute_input": "2025-08-05T15:22:58.557068Z",
     "iopub.status.busy": "2025-08-05T15:22:58.556322Z",
     "iopub.status.idle": "2025-08-05T15:22:58.561920Z",
     "shell.execute_reply": "2025-08-05T15:22:58.561084Z"
    },
    "papermill": {
     "duration": 0.019901,
     "end_time": "2025-08-05T15:22:58.563652",
     "exception": false,
     "start_time": "2025-08-05T15:22:58.543751",
     "status": "completed"
    },
    "tags": []
   },
   "outputs": [],
   "source": [
    "cp_metrics_df = pd.DataFrame(cp_metrics_dict)"
   ]
  },
  {
   "cell_type": "code",
   "execution_count": 50,
   "id": "db12611b-57b2-4910-b9d0-355adfd6e7bf",
   "metadata": {
    "execution": {
     "iopub.execute_input": "2025-08-05T15:22:58.589566Z",
     "iopub.status.busy": "2025-08-05T15:22:58.589043Z",
     "iopub.status.idle": "2025-08-05T15:22:58.608837Z",
     "shell.execute_reply": "2025-08-05T15:22:58.607906Z"
    },
    "papermill": {
     "duration": 0.03458,
     "end_time": "2025-08-05T15:22:58.611264",
     "exception": false,
     "start_time": "2025-08-05T15:22:58.576684",
     "status": "completed"
    },
    "tags": []
   },
   "outputs": [
    {
     "data": {
      "text/html": [
       "<div>\n",
       "<style scoped>\n",
       "    .dataframe tbody tr th:only-of-type {\n",
       "        vertical-align: middle;\n",
       "    }\n",
       "\n",
       "    .dataframe tbody tr th {\n",
       "        vertical-align: top;\n",
       "    }\n",
       "\n",
       "    .dataframe thead th {\n",
       "        text-align: right;\n",
       "    }\n",
       "</style>\n",
       "<table border=\"1\" class=\"dataframe\">\n",
       "  <thead>\n",
       "    <tr style=\"text-align: right;\">\n",
       "      <th></th>\n",
       "      <th>universe_id</th>\n",
       "      <th>universe_training_year</th>\n",
       "      <th>universe_training_size</th>\n",
       "      <th>universe_scale</th>\n",
       "      <th>universe_model</th>\n",
       "      <th>universe_exclude_features</th>\n",
       "      <th>universe_exclude_subgroups</th>\n",
       "      <th>q_hat</th>\n",
       "      <th>coverage</th>\n",
       "      <th>avg_size</th>\n",
       "    </tr>\n",
       "  </thead>\n",
       "  <tbody>\n",
       "    <tr>\n",
       "      <th>0</th>\n",
       "      <td>499dc4f2e7da7317b0a451883970c5ce</td>\n",
       "      <td>2014</td>\n",
       "      <td>5k</td>\n",
       "      <td>scale</td>\n",
       "      <td>penalized_logreg</td>\n",
       "      <td>age</td>\n",
       "      <td>keep-all</td>\n",
       "      <td>0.691632</td>\n",
       "      <td>0.910601</td>\n",
       "      <td>1.135158</td>\n",
       "    </tr>\n",
       "  </tbody>\n",
       "</table>\n",
       "</div>"
      ],
      "text/plain": [
       "                        universe_id universe_training_year  \\\n",
       "0  499dc4f2e7da7317b0a451883970c5ce                   2014   \n",
       "\n",
       "  universe_training_size universe_scale    universe_model  \\\n",
       "0                     5k          scale  penalized_logreg   \n",
       "\n",
       "  universe_exclude_features universe_exclude_subgroups     q_hat  coverage  \\\n",
       "0                       age                   keep-all  0.691632  0.910601   \n",
       "\n",
       "   avg_size  \n",
       "0  1.135158  "
      ]
     },
     "execution_count": 50,
     "metadata": {},
     "output_type": "execute_result"
    }
   ],
   "source": [
    "cp_metrics_df"
   ]
  },
  {
   "cell_type": "code",
   "execution_count": 51,
   "id": "b7fbde55-a0a1-47e4-9af6-fe4a17fa8c61",
   "metadata": {
    "execution": {
     "iopub.execute_input": "2025-08-05T15:22:58.650547Z",
     "iopub.status.busy": "2025-08-05T15:22:58.650103Z",
     "iopub.status.idle": "2025-08-05T15:22:58.654475Z",
     "shell.execute_reply": "2025-08-05T15:22:58.653663Z"
    },
    "papermill": {
     "duration": 0.023997,
     "end_time": "2025-08-05T15:22:58.655899",
     "exception": false,
     "start_time": "2025-08-05T15:22:58.631902",
     "status": "completed"
    },
    "tags": []
   },
   "outputs": [],
   "source": [
    "# Conditional Coverage & looking at subgroups"
   ]
  },
  {
   "cell_type": "code",
   "execution_count": 52,
   "id": "027ae886-68dd-4141-96c7-805a5450e1ef",
   "metadata": {
    "execution": {
     "iopub.execute_input": "2025-08-05T15:22:58.682694Z",
     "iopub.status.busy": "2025-08-05T15:22:58.682339Z",
     "iopub.status.idle": "2025-08-05T15:22:58.905794Z",
     "shell.execute_reply": "2025-08-05T15:22:58.904704Z"
    },
    "papermill": {
     "duration": 0.237825,
     "end_time": "2025-08-05T15:22:58.907409",
     "exception": false,
     "start_time": "2025-08-05T15:22:58.669584",
     "status": "completed"
    },
    "tags": []
   },
   "outputs": [],
   "source": [
    "from fairness_multiverse.conformal import build_cp_groups\n",
    "\n",
    "cp_groups_df = build_cp_groups(pred_sets, y_true, X_test.index, org_test)\n",
    "#needs universe_id and setting"
   ]
  },
  {
   "cell_type": "code",
   "execution_count": 53,
   "id": "6cbdab96-b2b2-45af-ad54-d0516db2e28d",
   "metadata": {
    "execution": {
     "iopub.execute_input": "2025-08-05T15:22:58.941615Z",
     "iopub.status.busy": "2025-08-05T15:22:58.940944Z",
     "iopub.status.idle": "2025-08-05T15:23:00.012873Z",
     "shell.execute_reply": "2025-08-05T15:23:00.012133Z"
    },
    "papermill": {
     "duration": 1.088524,
     "end_time": "2025-08-05T15:23:00.014382",
     "exception": false,
     "start_time": "2025-08-05T15:22:58.925858",
     "status": "completed"
    },
    "tags": []
   },
   "outputs": [],
   "source": [
    "# Define covered = 1 if true_label is in the predicted set\n",
    "cp_groups_df['covered'] = cp_groups_df.apply(\n",
    "    lambda r: int(r['true_label'] in r['pred_set']),\n",
    "    axis=1\n",
    ")"
   ]
  },
  {
   "cell_type": "code",
   "execution_count": 54,
   "id": "338ff529-1a6b-4b87-a931-8e4788d52aad",
   "metadata": {
    "execution": {
     "iopub.execute_input": "2025-08-05T15:23:00.038669Z",
     "iopub.status.busy": "2025-08-05T15:23:00.037965Z",
     "iopub.status.idle": "2025-08-05T15:23:00.042540Z",
     "shell.execute_reply": "2025-08-05T15:23:00.041837Z"
    },
    "papermill": {
     "duration": 0.017827,
     "end_time": "2025-08-05T15:23:00.043854",
     "exception": false,
     "start_time": "2025-08-05T15:23:00.026027",
     "status": "completed"
    },
    "tags": []
   },
   "outputs": [],
   "source": [
    "#cp_groups_df"
   ]
  },
  {
   "cell_type": "code",
   "execution_count": 55,
   "id": "90032e27-66df-4540-9169-4e89cfbaa758",
   "metadata": {
    "execution": {
     "iopub.execute_input": "2025-08-05T15:23:00.069323Z",
     "iopub.status.busy": "2025-08-05T15:23:00.068609Z",
     "iopub.status.idle": "2025-08-05T15:23:00.077993Z",
     "shell.execute_reply": "2025-08-05T15:23:00.077132Z"
    },
    "papermill": {
     "duration": 0.022813,
     "end_time": "2025-08-05T15:23:00.079450",
     "exception": false,
     "start_time": "2025-08-05T15:23:00.056637",
     "status": "completed"
    },
    "tags": []
   },
   "outputs": [],
   "source": [
    "subgroups = ['frau1','nongerman','nongerman_male','nongerman_female']\n",
    "\n",
    "# Conditional coverage for subgroup==1\n",
    "cond_coverage = {\n",
    "    g: cp_groups_df.loc[cp_groups_df[g]==1, 'covered'].mean()\n",
    "    for g in subgroups\n",
    "}"
   ]
  },
  {
   "cell_type": "code",
   "execution_count": 56,
   "id": "1e348fb1-b9c3-45bc-ba23-f016827a7e0d",
   "metadata": {
    "execution": {
     "iopub.execute_input": "2025-08-05T15:23:00.104491Z",
     "iopub.status.busy": "2025-08-05T15:23:00.103793Z",
     "iopub.status.idle": "2025-08-05T15:23:00.110464Z",
     "shell.execute_reply": "2025-08-05T15:23:00.109617Z"
    },
    "papermill": {
     "duration": 0.020319,
     "end_time": "2025-08-05T15:23:00.112024",
     "exception": false,
     "start_time": "2025-08-05T15:23:00.091705",
     "status": "completed"
    },
    "tags": []
   },
   "outputs": [
    {
     "data": {
      "text/plain": [
       "{'frau1': 0.9074807925596442,\n",
       " 'nongerman': 0.9082131027900971,\n",
       " 'nongerman_male': 0.92704674412321,\n",
       " 'nongerman_female': 0.8770491803278688}"
      ]
     },
     "execution_count": 56,
     "metadata": {},
     "output_type": "execute_result"
    }
   ],
   "source": [
    "cond_coverage"
   ]
  },
  {
   "cell_type": "code",
   "execution_count": 57,
   "id": "f5093324-c3dd-4d63-bc4c-8d945e5c8bbb",
   "metadata": {
    "execution": {
     "iopub.execute_input": "2025-08-05T15:23:00.137309Z",
     "iopub.status.busy": "2025-08-05T15:23:00.136815Z",
     "iopub.status.idle": "2025-08-05T15:23:00.142965Z",
     "shell.execute_reply": "2025-08-05T15:23:00.142207Z"
    },
    "papermill": {
     "duration": 0.019951,
     "end_time": "2025-08-05T15:23:00.144607",
     "exception": false,
     "start_time": "2025-08-05T15:23:00.124656",
     "status": "completed"
    },
    "tags": []
   },
   "outputs": [],
   "source": [
    "for subgroup, cov in cond_coverage.items():\n",
    "    cp_metrics_df[f\"cov_{subgroup}\"] = cov"
   ]
  },
  {
   "cell_type": "code",
   "execution_count": 58,
   "id": "6e872e10-dbe5-49e8-b554-5030c98ff75d",
   "metadata": {
    "execution": {
     "iopub.execute_input": "2025-08-05T15:23:00.170301Z",
     "iopub.status.busy": "2025-08-05T15:23:00.169801Z",
     "iopub.status.idle": "2025-08-05T15:23:00.184542Z",
     "shell.execute_reply": "2025-08-05T15:23:00.183723Z"
    },
    "papermill": {
     "duration": 0.028418,
     "end_time": "2025-08-05T15:23:00.186000",
     "exception": false,
     "start_time": "2025-08-05T15:23:00.157582",
     "status": "completed"
    },
    "tags": []
   },
   "outputs": [
    {
     "data": {
      "text/html": [
       "<div>\n",
       "<style scoped>\n",
       "    .dataframe tbody tr th:only-of-type {\n",
       "        vertical-align: middle;\n",
       "    }\n",
       "\n",
       "    .dataframe tbody tr th {\n",
       "        vertical-align: top;\n",
       "    }\n",
       "\n",
       "    .dataframe thead th {\n",
       "        text-align: right;\n",
       "    }\n",
       "</style>\n",
       "<table border=\"1\" class=\"dataframe\">\n",
       "  <thead>\n",
       "    <tr style=\"text-align: right;\">\n",
       "      <th></th>\n",
       "      <th>universe_id</th>\n",
       "      <th>universe_training_year</th>\n",
       "      <th>universe_training_size</th>\n",
       "      <th>universe_scale</th>\n",
       "      <th>universe_model</th>\n",
       "      <th>universe_exclude_features</th>\n",
       "      <th>universe_exclude_subgroups</th>\n",
       "      <th>q_hat</th>\n",
       "      <th>coverage</th>\n",
       "      <th>avg_size</th>\n",
       "      <th>cov_frau1</th>\n",
       "      <th>cov_nongerman</th>\n",
       "      <th>cov_nongerman_male</th>\n",
       "      <th>cov_nongerman_female</th>\n",
       "    </tr>\n",
       "  </thead>\n",
       "  <tbody>\n",
       "    <tr>\n",
       "      <th>0</th>\n",
       "      <td>499dc4f2e7da7317b0a451883970c5ce</td>\n",
       "      <td>2014</td>\n",
       "      <td>5k</td>\n",
       "      <td>scale</td>\n",
       "      <td>penalized_logreg</td>\n",
       "      <td>age</td>\n",
       "      <td>keep-all</td>\n",
       "      <td>0.691632</td>\n",
       "      <td>0.910601</td>\n",
       "      <td>1.135158</td>\n",
       "      <td>0.907481</td>\n",
       "      <td>0.908213</td>\n",
       "      <td>0.927047</td>\n",
       "      <td>0.877049</td>\n",
       "    </tr>\n",
       "  </tbody>\n",
       "</table>\n",
       "</div>"
      ],
      "text/plain": [
       "                        universe_id universe_training_year  \\\n",
       "0  499dc4f2e7da7317b0a451883970c5ce                   2014   \n",
       "\n",
       "  universe_training_size universe_scale    universe_model  \\\n",
       "0                     5k          scale  penalized_logreg   \n",
       "\n",
       "  universe_exclude_features universe_exclude_subgroups     q_hat  coverage  \\\n",
       "0                       age                   keep-all  0.691632  0.910601   \n",
       "\n",
       "   avg_size  cov_frau1  cov_nongerman  cov_nongerman_male  \\\n",
       "0  1.135158   0.907481       0.908213            0.927047   \n",
       "\n",
       "   cov_nongerman_female  \n",
       "0              0.877049  "
      ]
     },
     "execution_count": 58,
     "metadata": {},
     "output_type": "execute_result"
    }
   ],
   "source": [
    "cp_metrics_df"
   ]
  },
  {
   "cell_type": "markdown",
   "id": "33774451",
   "metadata": {
    "papermill": {
     "duration": 0.020702,
     "end_time": "2025-08-05T15:23:00.219509",
     "exception": false,
     "start_time": "2025-08-05T15:23:00.198807",
     "status": "completed"
    },
    "tags": []
   },
   "source": [
    "# (Fairness) Metrics"
   ]
  },
  {
   "cell_type": "code",
   "execution_count": 59,
   "id": "debc5d62",
   "metadata": {
    "execution": {
     "iopub.execute_input": "2025-08-05T15:23:00.261646Z",
     "iopub.status.busy": "2025-08-05T15:23:00.261028Z",
     "iopub.status.idle": "2025-08-05T15:23:00.284930Z",
     "shell.execute_reply": "2025-08-05T15:23:00.283829Z"
    },
    "papermill": {
     "duration": 0.045703,
     "end_time": "2025-08-05T15:23:00.287001",
     "exception": false,
     "start_time": "2025-08-05T15:23:00.241298",
     "status": "completed"
    },
    "tags": []
   },
   "outputs": [],
   "source": [
    "# do I need to include maxdeutsch1.missing?\n",
    "\n",
    "import numpy as np\n",
    "\n",
    "colname_to_bin = \"maxdeutsch1\"\n",
    "majority_value = org_train[colname_to_bin].mode()[0]\n",
    "\n",
    "org_test[\"majmin\"] = np.where(org_test[colname_to_bin] == majority_value, \"majority\", \"minority\")"
   ]
  },
  {
   "cell_type": "code",
   "execution_count": 60,
   "id": "06a50de5",
   "metadata": {
    "execution": {
     "iopub.execute_input": "2025-08-05T15:23:00.325904Z",
     "iopub.status.busy": "2025-08-05T15:23:00.325215Z",
     "iopub.status.idle": "2025-08-05T15:23:02.830654Z",
     "shell.execute_reply": "2025-08-05T15:23:02.829557Z"
    },
    "papermill": {
     "duration": 2.522041,
     "end_time": "2025-08-05T15:23:02.832472",
     "exception": false,
     "start_time": "2025-08-05T15:23:00.310431",
     "status": "completed"
    },
    "tags": []
   },
   "outputs": [],
   "source": [
    "example_universe = universe.copy()\n",
    "example_universe[\"cutoff\"] = example_universe[\"cutoff\"][0]\n",
    "example_universe[\"eval_fairness_grouping\"] = example_universe[\"eval_fairness_grouping\"][0]\n",
    "fairness_dict, metric_frame = universe_analysis.compute_metrics(\n",
    "    example_universe,\n",
    "    y_pred_prob=probs_test,\n",
    "    y_test=y_true,\n",
    "    org_test=org_test,\n",
    ")"
   ]
  },
  {
   "cell_type": "markdown",
   "id": "f95d4e02",
   "metadata": {
    "papermill": {
     "duration": 0.023999,
     "end_time": "2025-08-05T15:23:02.879689",
     "exception": false,
     "start_time": "2025-08-05T15:23:02.855690",
     "status": "completed"
    },
    "tags": []
   },
   "source": [
    "# Overall"
   ]
  },
  {
   "cell_type": "markdown",
   "id": "bdee4871",
   "metadata": {
    "papermill": {
     "duration": 0.023044,
     "end_time": "2025-08-05T15:23:02.925292",
     "exception": false,
     "start_time": "2025-08-05T15:23:02.902248",
     "status": "completed"
    },
    "tags": []
   },
   "source": [
    "Fairness\n",
    "Main fairness target: Equalized Odds. Seems to be a better fit than equal opportunity, since we're not only interested in Y = 1. Seems to be a better fit than demographic parity, since we also care about accuracy, not just equal distribution of preds.\n",
    "\n",
    "Pick column for computation of fairness metrics\n",
    "\n",
    "Performance\n",
    "Overall performance measures, most interesting in relation to the measures split by group below"
   ]
  },
  {
   "cell_type": "code",
   "execution_count": 61,
   "id": "c4e067c6",
   "metadata": {
    "execution": {
     "iopub.execute_input": "2025-08-05T15:23:02.972826Z",
     "iopub.status.busy": "2025-08-05T15:23:02.972030Z",
     "iopub.status.idle": "2025-08-05T15:23:02.981638Z",
     "shell.execute_reply": "2025-08-05T15:23:02.980434Z"
    },
    "papermill": {
     "duration": 0.035632,
     "end_time": "2025-08-05T15:23:02.983639",
     "exception": false,
     "start_time": "2025-08-05T15:23:02.948007",
     "status": "completed"
    },
    "tags": []
   },
   "outputs": [
    {
     "data": {
      "text/plain": [
       "accuracy                   0.223933\n",
       "balanced accuracy          0.547639\n",
       "f1                         0.245276\n",
       "precision                  0.140118\n",
       "false positive rate        0.887778\n",
       "false negative rate        0.016945\n",
       "selection rate             0.900000\n",
       "count                  89710.000000\n",
       "dtype: float64"
      ]
     },
     "execution_count": 61,
     "metadata": {},
     "output_type": "execute_result"
    }
   ],
   "source": [
    "metric_frame.overall"
   ]
  },
  {
   "cell_type": "markdown",
   "id": "e968fe9d",
   "metadata": {
    "papermill": {
     "duration": 0.024019,
     "end_time": "2025-08-05T15:23:03.030851",
     "exception": false,
     "start_time": "2025-08-05T15:23:03.006832",
     "status": "completed"
    },
    "tags": []
   },
   "source": [
    "By Group"
   ]
  },
  {
   "cell_type": "code",
   "execution_count": 62,
   "id": "ec325bce",
   "metadata": {
    "execution": {
     "iopub.execute_input": "2025-08-05T15:23:03.080306Z",
     "iopub.status.busy": "2025-08-05T15:23:03.079376Z",
     "iopub.status.idle": "2025-08-05T15:23:03.100199Z",
     "shell.execute_reply": "2025-08-05T15:23:03.098776Z"
    },
    "papermill": {
     "duration": 0.048278,
     "end_time": "2025-08-05T15:23:03.102311",
     "exception": false,
     "start_time": "2025-08-05T15:23:03.054033",
     "status": "completed"
    },
    "tags": []
   },
   "outputs": [
    {
     "data": {
      "text/html": [
       "<div>\n",
       "<style scoped>\n",
       "    .dataframe tbody tr th:only-of-type {\n",
       "        vertical-align: middle;\n",
       "    }\n",
       "\n",
       "    .dataframe tbody tr th {\n",
       "        vertical-align: top;\n",
       "    }\n",
       "\n",
       "    .dataframe thead th {\n",
       "        text-align: right;\n",
       "    }\n",
       "</style>\n",
       "<table border=\"1\" class=\"dataframe\">\n",
       "  <thead>\n",
       "    <tr style=\"text-align: right;\">\n",
       "      <th></th>\n",
       "      <th>accuracy</th>\n",
       "      <th>balanced accuracy</th>\n",
       "      <th>f1</th>\n",
       "      <th>precision</th>\n",
       "      <th>false positive rate</th>\n",
       "      <th>false negative rate</th>\n",
       "      <th>selection rate</th>\n",
       "      <th>count</th>\n",
       "    </tr>\n",
       "    <tr>\n",
       "      <th>majmin</th>\n",
       "      <th></th>\n",
       "      <th></th>\n",
       "      <th></th>\n",
       "      <th></th>\n",
       "      <th></th>\n",
       "      <th></th>\n",
       "      <th></th>\n",
       "      <th></th>\n",
       "    </tr>\n",
       "  </thead>\n",
       "  <tbody>\n",
       "    <tr>\n",
       "      <th>majority</th>\n",
       "      <td>0.242865</td>\n",
       "      <td>0.556141</td>\n",
       "      <td>0.255258</td>\n",
       "      <td>0.146696</td>\n",
       "      <td>0.869665</td>\n",
       "      <td>0.018053</td>\n",
       "      <td>0.884502</td>\n",
       "      <td>69170.0</td>\n",
       "    </tr>\n",
       "    <tr>\n",
       "      <th>minority</th>\n",
       "      <td>0.160175</td>\n",
       "      <td>0.519860</td>\n",
       "      <td>0.213263</td>\n",
       "      <td>0.119542</td>\n",
       "      <td>0.947612</td>\n",
       "      <td>0.012669</td>\n",
       "      <td>0.952191</td>\n",
       "      <td>20540.0</td>\n",
       "    </tr>\n",
       "  </tbody>\n",
       "</table>\n",
       "</div>"
      ],
      "text/plain": [
       "          accuracy  balanced accuracy        f1  precision  \\\n",
       "majmin                                                       \n",
       "majority  0.242865           0.556141  0.255258   0.146696   \n",
       "minority  0.160175           0.519860  0.213263   0.119542   \n",
       "\n",
       "          false positive rate  false negative rate  selection rate    count  \n",
       "majmin                                                                       \n",
       "majority             0.869665             0.018053        0.884502  69170.0  \n",
       "minority             0.947612             0.012669        0.952191  20540.0  "
      ]
     },
     "execution_count": 62,
     "metadata": {},
     "output_type": "execute_result"
    }
   ],
   "source": [
    "metric_frame.by_group"
   ]
  },
  {
   "cell_type": "code",
   "execution_count": 63,
   "id": "a9ddbe63",
   "metadata": {
    "execution": {
     "iopub.execute_input": "2025-08-05T15:23:03.143047Z",
     "iopub.status.busy": "2025-08-05T15:23:03.142564Z",
     "iopub.status.idle": "2025-08-05T15:23:05.987479Z",
     "shell.execute_reply": "2025-08-05T15:23:05.986455Z"
    },
    "papermill": {
     "duration": 2.863365,
     "end_time": "2025-08-05T15:23:05.989237",
     "exception": false,
     "start_time": "2025-08-05T15:23:03.125872",
     "status": "completed"
    },
    "tags": []
   },
   "outputs": [
    {
     "data": {
      "text/plain": [
       "array([[<Axes: title={'center': 'accuracy'}, xlabel='majmin'>,\n",
       "        <Axes: title={'center': 'balanced accuracy'}, xlabel='majmin'>,\n",
       "        <Axes: title={'center': 'f1'}, xlabel='majmin'>],\n",
       "       [<Axes: title={'center': 'precision'}, xlabel='majmin'>,\n",
       "        <Axes: title={'center': 'false positive rate'}, xlabel='majmin'>,\n",
       "        <Axes: title={'center': 'false negative rate'}, xlabel='majmin'>],\n",
       "       [<Axes: title={'center': 'selection rate'}, xlabel='majmin'>,\n",
       "        <Axes: title={'center': 'count'}, xlabel='majmin'>,\n",
       "        <Axes: xlabel='majmin'>]], dtype=object)"
      ]
     },
     "execution_count": 63,
     "metadata": {},
     "output_type": "execute_result"
    },
    {
     "data": {
      "image/png": "[encoded data removed]",
      "text/plain": [
       "<Figure size 1200x800 with 9 Axes>"
      ]
     },
     "metadata": {},
     "output_type": "display_data"
    }
   ],
   "source": [
    "# In a graphic\n",
    "metric_frame.by_group.plot.bar(\n",
    "    subplots=True,\n",
    "    layout=[3, 3],\n",
    "    legend=False,\n",
    "    figsize=[12, 8],\n",
    "    title=\"Show all metrics\",\n",
    ")"
   ]
  },
  {
   "cell_type": "markdown",
   "id": "f57a0bac",
   "metadata": {
    "papermill": {
     "duration": 0.013576,
     "end_time": "2025-08-05T15:23:06.031318",
     "exception": false,
     "start_time": "2025-08-05T15:23:06.017742",
     "status": "completed"
    },
    "tags": []
   },
   "source": [
    "# Final Output"
   ]
  },
  {
   "cell_type": "code",
   "execution_count": 64,
   "id": "96d280a3",
   "metadata": {
    "execution": {
     "iopub.execute_input": "2025-08-05T15:23:06.060327Z",
     "iopub.status.busy": "2025-08-05T15:23:06.059738Z",
     "iopub.status.idle": "2025-08-05T15:23:06.068319Z",
     "shell.execute_reply": "2025-08-05T15:23:06.067545Z"
    },
    "papermill": {
     "duration": 0.024511,
     "end_time": "2025-08-05T15:23:06.069663",
     "exception": false,
     "start_time": "2025-08-05T15:23:06.045152",
     "status": "completed"
    },
    "tags": []
   },
   "outputs": [
    {
     "data": {
      "text/plain": [
       "4"
      ]
     },
     "execution_count": 64,
     "metadata": {},
     "output_type": "execute_result"
    }
   ],
   "source": [
    "sub_universes = universe_analysis.generate_sub_universes()\n",
    "len(sub_universes)"
   ]
  },
  {
   "cell_type": "code",
   "execution_count": 65,
   "id": "92adf7ba",
   "metadata": {
    "execution": {
     "iopub.execute_input": "2025-08-05T15:23:06.119969Z",
     "iopub.status.busy": "2025-08-05T15:23:06.119240Z",
     "iopub.status.idle": "2025-08-05T15:23:06.124718Z",
     "shell.execute_reply": "2025-08-05T15:23:06.123949Z"
    },
    "papermill": {
     "duration": 0.048389,
     "end_time": "2025-08-05T15:23:06.139742",
     "exception": false,
     "start_time": "2025-08-05T15:23:06.091353",
     "status": "completed"
    },
    "tags": []
   },
   "outputs": [],
   "source": [
    "def filter_sub_universe_data(sub_universe, org_test):\n",
    "    # Keep all rows — no filtering\n",
    "    keep_rows_mask = np.ones(org_test.shape[0], dtype=bool)\n",
    "\n",
    "    print(f\"[INFO] Keeping all rows: {keep_rows_mask.sum()} rows retained.\")\n",
    "    return keep_rows_mask"
   ]
  },
  {
   "cell_type": "code",
   "execution_count": 66,
   "id": "4a759155",
   "metadata": {
    "execution": {
     "iopub.execute_input": "2025-08-05T15:23:06.173685Z",
     "iopub.status.busy": "2025-08-05T15:23:06.173311Z",
     "iopub.status.idle": "2025-08-05T15:23:13.334149Z",
     "shell.execute_reply": "2025-08-05T15:23:13.333111Z"
    },
    "papermill": {
     "duration": 7.175844,
     "end_time": "2025-08-05T15:23:13.335417",
     "exception": false,
     "start_time": "2025-08-05T15:23:06.159573",
     "status": "completed"
    },
    "tags": []
   },
   "outputs": [
    {
     "name": "stdout",
     "output_type": "stream",
     "text": [
      "Stopping execution_time clock.\n",
      "[INFO] Keeping all rows: 89710 rows retained.\n"
     ]
    },
    {
     "name": "stdout",
     "output_type": "stream",
     "text": [
      "[INFO] Keeping all rows: 89710 rows retained.\n"
     ]
    },
    {
     "name": "stdout",
     "output_type": "stream",
     "text": [
      "[INFO] Keeping all rows: 89710 rows retained.\n"
     ]
    },
    {
     "name": "stdout",
     "output_type": "stream",
     "text": [
      "[INFO] Keeping all rows: 89710 rows retained.\n"
     ]
    },
    {
     "data": {
      "text/html": [
       "<div>\n",
       "<style scoped>\n",
       "    .dataframe tbody tr th:only-of-type {\n",
       "        vertical-align: middle;\n",
       "    }\n",
       "\n",
       "    .dataframe tbody tr th {\n",
       "        vertical-align: top;\n",
       "    }\n",
       "\n",
       "    .dataframe thead th {\n",
       "        text-align: right;\n",
       "    }\n",
       "</style>\n",
       "<table border=\"1\" class=\"dataframe\">\n",
       "  <thead>\n",
       "    <tr style=\"text-align: right;\">\n",
       "      <th></th>\n",
       "      <th>run_no</th>\n",
       "      <th>universe_id</th>\n",
       "      <th>universe_settings</th>\n",
       "      <th>execution_time</th>\n",
       "      <th>test_size_n</th>\n",
       "      <th>test_size_frac</th>\n",
       "      <th>fair_main_equalized_odds_difference</th>\n",
       "      <th>fair_main_equalized_odds_ratio</th>\n",
       "      <th>fair_main_demographic_parity_difference</th>\n",
       "      <th>fair_main_demographic_parity_ratio</th>\n",
       "      <th>...</th>\n",
       "      <th>perf_grp_precision_0</th>\n",
       "      <th>perf_grp_precision_1</th>\n",
       "      <th>perf_grp_false positive rate_0</th>\n",
       "      <th>perf_grp_false positive rate_1</th>\n",
       "      <th>perf_grp_false negative rate_0</th>\n",
       "      <th>perf_grp_false negative rate_1</th>\n",
       "      <th>perf_grp_selection rate_0</th>\n",
       "      <th>perf_grp_selection rate_1</th>\n",
       "      <th>perf_grp_count_0</th>\n",
       "      <th>perf_grp_count_1</th>\n",
       "    </tr>\n",
       "  </thead>\n",
       "  <tbody>\n",
       "    <tr>\n",
       "      <th>0</th>\n",
       "      <td>15</td>\n",
       "      <td>499dc4f2e7da7317b0a451883970c5ce</td>\n",
       "      <td>{\"cutoff\": \"quantile_0.1\", \"eval_fairness_grou...</td>\n",
       "      <td>22.980934</td>\n",
       "      <td>89710</td>\n",
       "      <td>1.0</td>\n",
       "      <td>0.077947</td>\n",
       "      <td>0.917744</td>\n",
       "      <td>0.067689</td>\n",
       "      <td>0.928912</td>\n",
       "      <td>...</td>\n",
       "      <td>NaN</td>\n",
       "      <td>NaN</td>\n",
       "      <td>NaN</td>\n",
       "      <td>NaN</td>\n",
       "      <td>NaN</td>\n",
       "      <td>NaN</td>\n",
       "      <td>NaN</td>\n",
       "      <td>NaN</td>\n",
       "      <td>NaN</td>\n",
       "      <td>NaN</td>\n",
       "    </tr>\n",
       "    <tr>\n",
       "      <th>0</th>\n",
       "      <td>15</td>\n",
       "      <td>499dc4f2e7da7317b0a451883970c5ce</td>\n",
       "      <td>{\"cutoff\": \"quantile_0.1\", \"eval_fairness_grou...</td>\n",
       "      <td>22.980934</td>\n",
       "      <td>89710</td>\n",
       "      <td>1.0</td>\n",
       "      <td>0.077947</td>\n",
       "      <td>0.917744</td>\n",
       "      <td>0.067689</td>\n",
       "      <td>0.928912</td>\n",
       "      <td>...</td>\n",
       "      <td>0.119542</td>\n",
       "      <td>0.146696</td>\n",
       "      <td>0.947612</td>\n",
       "      <td>0.869665</td>\n",
       "      <td>0.012669</td>\n",
       "      <td>0.018053</td>\n",
       "      <td>0.952191</td>\n",
       "      <td>0.884502</td>\n",
       "      <td>20540.0</td>\n",
       "      <td>69170.0</td>\n",
       "    </tr>\n",
       "    <tr>\n",
       "      <th>0</th>\n",
       "      <td>15</td>\n",
       "      <td>499dc4f2e7da7317b0a451883970c5ce</td>\n",
       "      <td>{\"cutoff\": \"quantile_0.25\", \"eval_fairness_gro...</td>\n",
       "      <td>22.980934</td>\n",
       "      <td>89710</td>\n",
       "      <td>1.0</td>\n",
       "      <td>0.151286</td>\n",
       "      <td>0.819739</td>\n",
       "      <td>0.131660</td>\n",
       "      <td>0.845381</td>\n",
       "      <td>...</td>\n",
       "      <td>NaN</td>\n",
       "      <td>NaN</td>\n",
       "      <td>NaN</td>\n",
       "      <td>NaN</td>\n",
       "      <td>NaN</td>\n",
       "      <td>NaN</td>\n",
       "      <td>NaN</td>\n",
       "      <td>NaN</td>\n",
       "      <td>NaN</td>\n",
       "      <td>NaN</td>\n",
       "    </tr>\n",
       "    <tr>\n",
       "      <th>0</th>\n",
       "      <td>15</td>\n",
       "      <td>499dc4f2e7da7317b0a451883970c5ce</td>\n",
       "      <td>{\"cutoff\": \"quantile_0.25\", \"eval_fairness_gro...</td>\n",
       "      <td>22.980934</td>\n",
       "      <td>89710</td>\n",
       "      <td>1.0</td>\n",
       "      <td>0.151286</td>\n",
       "      <td>0.819739</td>\n",
       "      <td>0.131660</td>\n",
       "      <td>0.845381</td>\n",
       "      <td>...</td>\n",
       "      <td>0.128016</td>\n",
       "      <td>0.170570</td>\n",
       "      <td>0.839258</td>\n",
       "      <td>0.687973</td>\n",
       "      <td>0.054476</td>\n",
       "      <td>0.070788</td>\n",
       "      <td>0.851509</td>\n",
       "      <td>0.719850</td>\n",
       "      <td>20540.0</td>\n",
       "      <td>69170.0</td>\n",
       "    </tr>\n",
       "  </tbody>\n",
       "</table>\n",
       "<p>4 rows × 50 columns</p>\n",
       "</div>"
      ],
      "text/plain": [
       "  run_no                       universe_id  \\\n",
       "0     15  499dc4f2e7da7317b0a451883970c5ce   \n",
       "0     15  499dc4f2e7da7317b0a451883970c5ce   \n",
       "0     15  499dc4f2e7da7317b0a451883970c5ce   \n",
       "0     15  499dc4f2e7da7317b0a451883970c5ce   \n",
       "\n",
       "                                   universe_settings  execution_time  \\\n",
       "0  {\"cutoff\": \"quantile_0.1\", \"eval_fairness_grou...       22.980934   \n",
       "0  {\"cutoff\": \"quantile_0.1\", \"eval_fairness_grou...       22.980934   \n",
       "0  {\"cutoff\": \"quantile_0.25\", \"eval_fairness_gro...       22.980934   \n",
       "0  {\"cutoff\": \"quantile_0.25\", \"eval_fairness_gro...       22.980934   \n",
       "\n",
       "   test_size_n  test_size_frac  fair_main_equalized_odds_difference  \\\n",
       "0        89710             1.0                             0.077947   \n",
       "0        89710             1.0                             0.077947   \n",
       "0        89710             1.0                             0.151286   \n",
       "0        89710             1.0                             0.151286   \n",
       "\n",
       "   fair_main_equalized_odds_ratio  fair_main_demographic_parity_difference  \\\n",
       "0                        0.917744                                 0.067689   \n",
       "0                        0.917744                                 0.067689   \n",
       "0                        0.819739                                 0.131660   \n",
       "0                        0.819739                                 0.131660   \n",
       "\n",
       "   fair_main_demographic_parity_ratio  ...  perf_grp_precision_0  \\\n",
       "0                            0.928912  ...                   NaN   \n",
       "0                            0.928912  ...              0.119542   \n",
       "0                            0.845381  ...                   NaN   \n",
       "0                            0.845381  ...              0.128016   \n",
       "\n",
       "   perf_grp_precision_1  perf_grp_false positive rate_0  \\\n",
       "0                   NaN                             NaN   \n",
       "0              0.146696                        0.947612   \n",
       "0                   NaN                             NaN   \n",
       "0              0.170570                        0.839258   \n",
       "\n",
       "   perf_grp_false positive rate_1  perf_grp_false negative rate_0  \\\n",
       "0                             NaN                             NaN   \n",
       "0                        0.869665                        0.012669   \n",
       "0                             NaN                             NaN   \n",
       "0                        0.687973                        0.054476   \n",
       "\n",
       "   perf_grp_false negative rate_1  perf_grp_selection rate_0  \\\n",
       "0                             NaN                        NaN   \n",
       "0                        0.018053                   0.952191   \n",
       "0                             NaN                        NaN   \n",
       "0                        0.070788                   0.851509   \n",
       "\n",
       "   perf_grp_selection rate_1  perf_grp_count_0  perf_grp_count_1  \n",
       "0                        NaN               NaN               NaN  \n",
       "0                   0.884502           20540.0           69170.0  \n",
       "0                        NaN               NaN               NaN  \n",
       "0                   0.719850           20540.0           69170.0  \n",
       "\n",
       "[4 rows x 50 columns]"
      ]
     },
     "execution_count": 66,
     "metadata": {},
     "output_type": "execute_result"
    }
   ],
   "source": [
    "final_output = universe_analysis.generate_final_output(\n",
    "    y_pred_prob=probs_test,\n",
    "    y_test=y_true,\n",
    "    org_test=org_test,\n",
    "    filter_data=filter_sub_universe_data,\n",
    "    cp_metrics_df=cp_metrics_df,\n",
    "    save=True,\n",
    ")\n",
    "final_output"
   ]
  }
 ],
 "metadata": {
  "celltoolbar": "Tags",
  "kernelspec": {
   "display_name": "Python (CMA Fairness)",
   "language": "python",
   "name": "cma_fair_env"
  },
  "language_info": {
   "codemirror_mode": {
    "name": "ipython",
    "version": 3
   },
   "file_extension": ".py",
   "mimetype": "text/x-python",
   "name": "python",
   "nbconvert_exporter": "python",
   "pygments_lexer": "ipython3",
   "version": "3.10.12"
  },
  "papermill": {
   "default_parameters": {},
   "duration": 34.088334,
   "end_time": "2025-08-05T15:23:13.968688",
   "environment_variables": {},
   "exception": null,
   "input_path": "universe_analysis.ipynb",
   "output_path": "output/runs/15/notebooks/m_15-499dc4f2e7da7317b0a451883970c5ce.ipynb",
   "parameters": {
    "output_dir": "output",
    "run_no": "15",
    "seed": "2023",
    "universe": "{\"cutoff\": [\"quantile_0.1\", \"quantile_0.25\"], \"eval_fairness_grouping\": [\"majority-minority\", \"nationality-all\"], \"exclude_features\": \"age\", \"exclude_subgroups\": \"keep-all\", \"model\": \"penalized_logreg\", \"scale\": \"scale\", \"training_size\": \"5k\", \"training_year\": \"2014\"}",
    "universe_id": "499dc4f2e7da7317b0a451883970c5ce"
   },
   "start_time": "2025-08-05T15:22:39.880354",
   "version": "2.6.0"
  }
 },
 "nbformat": 4,
 "nbformat_minor": 5
}