{
 "cells": [
  {
   "cell_type": "code",
   "execution_count": 1,
   "id": "f159f837-637b-42ba-96b5-ec9a68c44524",
   "metadata": {
    "execution": {
     "iopub.execute_input": "2025-08-05T16:21:57.784313Z",
     "iopub.status.busy": "2025-08-05T16:21:57.783754Z",
     "iopub.status.idle": "2025-08-05T16:21:57.799271Z",
     "shell.execute_reply": "2025-08-05T16:21:57.798301Z"
    },
    "papermill": {
     "duration": 0.044379,
     "end_time": "2025-08-05T16:21:57.801223",
     "exception": false,
     "start_time": "2025-08-05T16:21:57.756844",
     "status": "completed"
    },
    "tags": []
   },
   "outputs": [
    {
     "name": "stdout",
     "output_type": "stream",
     "text": [
      "/dss/dsshome1/0C/ra93lal2/cma/CMA_Fairness_v2\n"
     ]
    },
    {
     "name": "stderr",
     "output_type": "stream",
     "text": [
      "/dss/dsshome1/0C/ra93lal2/.local/share/virtualenvs/CMA_Fairness_v2-3j10GkSs/lib/python3.10/site-packages/IPython/core/magics/osm.py:393: UserWarning: This is now an optional IPython functionality, using bookmarks requires you to install the `pickleshare` library.\n",
      "  bkms = self.shell.db.get('bookmarks', {})\n",
      "/dss/dsshome1/0C/ra93lal2/.local/share/virtualenvs/CMA_Fairness_v2-3j10GkSs/lib/python3.10/site-packages/IPython/core/magics/osm.py:417: UserWarning: This is now an optional IPython functionality, setting dhist requires you to install the `pickleshare` library.\n",
      "  self.shell.db['dhist'] = compress_dhist(dhist)[-100:]\n"
     ]
    }
   ],
   "source": [
    "%cd ~/cma/CMA_Fairness_v2"
   ]
  },
  {
   "cell_type": "markdown",
   "id": "de2603b9",
   "metadata": {
    "papermill": {
     "duration": 0.020657,
     "end_time": "2025-08-05T16:21:57.844245",
     "exception": false,
     "start_time": "2025-08-05T16:21:57.823588",
     "status": "completed"
    },
    "tags": []
   },
   "source": [
    "The following cell holds the definition of our parameters, these values can be overriden by rendering the with e.g. the following command:\n",
    "\n",
    "papermill -p alpha 0.2 -p ratio 0.3 universe_analysis.ipynb output/test_run.ipynb"
   ]
  },
  {
   "cell_type": "code",
   "execution_count": 2,
   "id": "a80968a0-40bb-4fa9-85ef-2d5eefb01975",
   "metadata": {
    "execution": {
     "iopub.execute_input": "2025-08-05T16:21:57.892056Z",
     "iopub.status.busy": "2025-08-05T16:21:57.891294Z",
     "iopub.status.idle": "2025-08-05T16:21:57.898002Z",
     "shell.execute_reply": "2025-08-05T16:21:57.896923Z"
    },
    "papermill": {
     "duration": 0.032045,
     "end_time": "2025-08-05T16:21:57.900045",
     "exception": false,
     "start_time": "2025-08-05T16:21:57.868000",
     "status": "completed"
    },
    "tags": []
   },
   "outputs": [
    {
     "name": "stdout",
     "output_type": "stream",
     "text": [
      "Current working directory: /dss/dsshome1/0C/ra93lal2/cma/CMA_Fairness_v2\n"
     ]
    }
   ],
   "source": [
    "import os\n",
    "print(\"Current working directory:\", os.getcwd())"
   ]
  },
  {
   "cell_type": "code",
   "execution_count": 3,
   "id": "2dce4c03",
   "metadata": {
    "execution": {
     "iopub.execute_input": "2025-08-05T16:21:57.948950Z",
     "iopub.status.busy": "2025-08-05T16:21:57.947658Z",
     "iopub.status.idle": "2025-08-05T16:21:57.955664Z",
     "shell.execute_reply": "2025-08-05T16:21:57.954386Z"
    },
    "papermill": {
     "duration": 0.034792,
     "end_time": "2025-08-05T16:21:57.957666",
     "exception": false,
     "start_time": "2025-08-05T16:21:57.922874",
     "status": "completed"
    },
    "tags": [
     "parameters"
    ]
   },
   "outputs": [],
   "source": [
    "run_no = 0\n",
    "universe_id = \"test\"\n",
    "universe = {\n",
    "    \"training_size\": \"25k\", # \"25k\", \"5k\", \"1k\"\n",
    "    \"training_year\": \"2014\", # \"2014\", \"2012_14\", \"2010_14\"\n",
    "    \"scale\": \"scale\", # \"scale\", \"do-not-scale\",\n",
    "    \"model\": \"elasticnet\", # \"logreg\", \"penalized_logreg\", \"rf\", \"gbm\", \"elasticnet\"\n",
    "    \"cutoff\": [\"quantile_0.15\", \"quantile_0.30\"],\n",
    "    \"exclude_features\": \"age\", # \"none\", \"nationality\", \"sex\", \"nationality-sex\", \"age\"\n",
    "    \"exclude_subgroups\": \"keep-all\", # \"keep-all\", \"drop-non-german\"\n",
    "    \"eval_fairness_grouping\": [\"majority-minority\", \"nationality-all\"]\n",
    "}\n",
    "\n",
    "output_dir=\"./output\"\n",
    "seed=0"
   ]
  },
  {
   "cell_type": "code",
   "execution_count": 4,
   "id": "d8ad750e",
   "metadata": {
    "execution": {
     "iopub.execute_input": "2025-08-05T16:21:57.996431Z",
     "iopub.status.busy": "2025-08-05T16:21:57.995725Z",
     "iopub.status.idle": "2025-08-05T16:21:58.003000Z",
     "shell.execute_reply": "2025-08-05T16:21:58.001581Z"
    },
    "papermill": {
     "duration": 0.028865,
     "end_time": "2025-08-05T16:21:58.005110",
     "exception": false,
     "start_time": "2025-08-05T16:21:57.976245",
     "status": "completed"
    },
    "tags": [
     "injected-parameters"
    ]
   },
   "outputs": [],
   "source": [
    "# Parameters\n",
    "universe_id = \"8c18a54c433851487ce3cf5dbfd03684\"\n",
    "run_no = \"15\"\n",
    "universe = \"{\\\"cutoff\\\": [\\\"quantile_0.1\\\", \\\"quantile_0.25\\\"], \\\"eval_fairness_grouping\\\": [\\\"majority-minority\\\", \\\"nationality-all\\\"], \\\"exclude_features\\\": \\\"none\\\", \\\"exclude_subgroups\\\": \\\"drop-non-german\\\", \\\"model\\\": \\\"elasticnet\\\", \\\"scale\\\": \\\"scale\\\", \\\"training_size\\\": \\\"1k\\\", \\\"training_year\\\": \\\"2012_14\\\"}\"\n",
    "output_dir = \"output\"\n",
    "seed = \"2023\"\n"
   ]
  },
  {
   "cell_type": "code",
   "execution_count": 5,
   "id": "1650acaf",
   "metadata": {
    "execution": {
     "iopub.execute_input": "2025-08-05T16:21:58.044233Z",
     "iopub.status.busy": "2025-08-05T16:21:58.043454Z",
     "iopub.status.idle": "2025-08-05T16:21:58.049099Z",
     "shell.execute_reply": "2025-08-05T16:21:58.048023Z"
    },
    "papermill": {
     "duration": 0.026935,
     "end_time": "2025-08-05T16:21:58.051258",
     "exception": false,
     "start_time": "2025-08-05T16:21:58.024323",
     "status": "completed"
    },
    "tags": []
   },
   "outputs": [],
   "source": [
    "import json\n",
    "if isinstance(universe, str):\n",
    "    universe = json.loads(universe)"
   ]
  },
  {
   "cell_type": "code",
   "execution_count": 6,
   "id": "16620c48",
   "metadata": {
    "execution": {
     "iopub.execute_input": "2025-08-05T16:21:58.089647Z",
     "iopub.status.busy": "2025-08-05T16:21:58.088764Z",
     "iopub.status.idle": "2025-08-05T16:21:58.136409Z",
     "shell.execute_reply": "2025-08-05T16:21:58.135515Z"
    },
    "papermill": {
     "duration": 0.06805,
     "end_time": "2025-08-05T16:21:58.137778",
     "exception": false,
     "start_time": "2025-08-05T16:21:58.069728",
     "status": "completed"
    },
    "tags": []
   },
   "outputs": [],
   "source": [
    "# Auto-reload the custom package\n",
    "%load_ext autoreload\n",
    "%autoreload 1\n",
    "%aimport fairness_multiverse"
   ]
  },
  {
   "cell_type": "code",
   "execution_count": 7,
   "id": "01c5c9f3",
   "metadata": {
    "execution": {
     "iopub.execute_input": "2025-08-05T16:21:58.174896Z",
     "iopub.status.busy": "2025-08-05T16:21:58.174518Z",
     "iopub.status.idle": "2025-08-05T16:22:00.102682Z",
     "shell.execute_reply": "2025-08-05T16:22:00.101768Z"
    },
    "papermill": {
     "duration": 1.953272,
     "end_time": "2025-08-05T16:22:00.104410",
     "exception": false,
     "start_time": "2025-08-05T16:21:58.151138",
     "status": "completed"
    },
    "tags": []
   },
   "outputs": [],
   "source": [
    "from fairness_multiverse.universe import UniverseAnalysis\n",
    "\n",
    "universe_analysis = UniverseAnalysis(\n",
    "    run_no = run_no,\n",
    "    universe_id = universe_id,\n",
    "    universe = universe,\n",
    "    output_dir=output_dir,\n",
    ")"
   ]
  },
  {
   "cell_type": "code",
   "execution_count": 8,
   "id": "106241f5",
   "metadata": {
    "execution": {
     "iopub.execute_input": "2025-08-05T16:22:00.150446Z",
     "iopub.status.busy": "2025-08-05T16:22:00.149724Z",
     "iopub.status.idle": "2025-08-05T16:22:00.158707Z",
     "shell.execute_reply": "2025-08-05T16:22:00.157290Z"
    },
    "papermill": {
     "duration": 0.039726,
     "end_time": "2025-08-05T16:22:00.160712",
     "exception": false,
     "start_time": "2025-08-05T16:22:00.120986",
     "status": "completed"
    },
    "tags": []
   },
   "outputs": [
    {
     "name": "stdout",
     "output_type": "stream",
     "text": [
      "Using Seed: 2023\n"
     ]
    }
   ],
   "source": [
    "import numpy as np\n",
    "parsed_seed = int(seed)\n",
    "np.random.seed(parsed_seed)\n",
    "print(f\"Using Seed: {parsed_seed}\")"
   ]
  },
  {
   "cell_type": "markdown",
   "id": "e0ebdc57",
   "metadata": {
    "papermill": {
     "duration": 0.011062,
     "end_time": "2025-08-05T16:22:00.193779",
     "exception": false,
     "start_time": "2025-08-05T16:22:00.182717",
     "status": "completed"
    },
    "tags": []
   },
   "source": [
    "# Loading Data"
   ]
  },
  {
   "cell_type": "code",
   "execution_count": 9,
   "id": "f0496b8a",
   "metadata": {
    "execution": {
     "iopub.execute_input": "2025-08-05T16:22:00.216989Z",
     "iopub.status.busy": "2025-08-05T16:22:00.216563Z",
     "iopub.status.idle": "2025-08-05T16:22:14.307829Z",
     "shell.execute_reply": "2025-08-05T16:22:14.306259Z"
    },
    "papermill": {
     "duration": 14.105312,
     "end_time": "2025-08-05T16:22:14.309983",
     "exception": false,
     "start_time": "2025-08-05T16:22:00.204671",
     "status": "completed"
    },
    "tags": []
   },
   "outputs": [
    {
     "name": "stdout",
     "output_type": "stream",
     "text": [
      "Loading SIAB data from cache: data/siab_cached.csv.gz\n"
     ]
    },
    {
     "name": "stdout",
     "output_type": "stream",
     "text": [
      "(643690, 164)\n"
     ]
    }
   ],
   "source": [
    "from pathlib import Path\n",
    "import pandas as pd\n",
    "\n",
    "# File paths\n",
    "raw_file = Path(\"data/raw/siab.csv\")\n",
    "cache_file = Path(\"data/siab_cached.csv.gz\")\n",
    "\n",
    "# Ensure cache directory exists\n",
    "cache_file.parent.mkdir(parents=True, exist_ok=True)\n",
    "\n",
    "# Load with simple caching\n",
    "if cache_file.exists():\n",
    "    print(f\"Loading SIAB data from cache: {cache_file}\")\n",
    "    siab = pd.read_csv(cache_file, compression='gzip')\n",
    "else:\n",
    "    print(f\"Cache not found. Reading raw SIAB data: {raw_file}\")\n",
    "    siab = pd.read_csv(raw_file)\n",
    "    siab.to_csv(cache_file, index=False, compression='gzip')\n",
    "    print(f\"Cached SIAB data to: {cache_file}\")\n",
    "\n",
    "print(siab.shape)"
   ]
  },
  {
   "cell_type": "code",
   "execution_count": 10,
   "id": "db0ca512-5f53-4dba-abdb-a2888bca41ba",
   "metadata": {
    "execution": {
     "iopub.execute_input": "2025-08-05T16:22:14.358658Z",
     "iopub.status.busy": "2025-08-05T16:22:14.357666Z",
     "iopub.status.idle": "2025-08-05T16:22:14.364612Z",
     "shell.execute_reply": "2025-08-05T16:22:14.363494Z"
    },
    "papermill": {
     "duration": 0.031864,
     "end_time": "2025-08-05T16:22:14.366493",
     "exception": false,
     "start_time": "2025-08-05T16:22:14.334629",
     "status": "completed"
    },
    "tags": []
   },
   "outputs": [],
   "source": [
    "#siab"
   ]
  },
  {
   "cell_type": "markdown",
   "id": "997051c5-15bd-4b69-9786-c3001a3ce484",
   "metadata": {
    "papermill": {
     "duration": 0.021946,
     "end_time": "2025-08-05T16:22:14.410694",
     "exception": false,
     "start_time": "2025-08-05T16:22:14.388748",
     "status": "completed"
    },
    "tags": []
   },
   "source": [
    "# Splitting Data and Setting Training Data Size"
   ]
  },
  {
   "cell_type": "code",
   "execution_count": 11,
   "id": "aea9c6ef-6f46-42c8-85eb-5a62025c1508",
   "metadata": {
    "execution": {
     "iopub.execute_input": "2025-08-05T16:22:14.455327Z",
     "iopub.status.busy": "2025-08-05T16:22:14.454156Z",
     "iopub.status.idle": "2025-08-05T16:22:15.124597Z",
     "shell.execute_reply": "2025-08-05T16:22:15.123423Z"
    },
    "papermill": {
     "duration": 0.695091,
     "end_time": "2025-08-05T16:22:15.126849",
     "exception": false,
     "start_time": "2025-08-05T16:22:14.431758",
     "status": "completed"
    },
    "tags": []
   },
   "outputs": [],
   "source": [
    "from fairness_multiverse.universe import sample_by_year_size\n",
    "\n",
    "siab_train = sample_by_year_size(siab,\n",
    "                               training_year=universe[\"training_year\"],\n",
    "                               training_size=universe[\"training_size\"])"
   ]
  },
  {
   "cell_type": "code",
   "execution_count": 12,
   "id": "8d3afb32-789d-442c-8d5d-9f5aa8dd2eed",
   "metadata": {
    "execution": {
     "iopub.execute_input": "2025-08-05T16:22:15.175556Z",
     "iopub.status.busy": "2025-08-05T16:22:15.174941Z",
     "iopub.status.idle": "2025-08-05T16:22:15.181084Z",
     "shell.execute_reply": "2025-08-05T16:22:15.179751Z"
    },
    "papermill": {
     "duration": 0.034962,
     "end_time": "2025-08-05T16:22:15.183219",
     "exception": false,
     "start_time": "2025-08-05T16:22:15.148257",
     "status": "completed"
    },
    "tags": []
   },
   "outputs": [],
   "source": [
    "#siab_train.shape"
   ]
  },
  {
   "cell_type": "code",
   "execution_count": 13,
   "id": "d582db68-1a4c-47fb-84fc-08518dc1975a",
   "metadata": {
    "execution": {
     "iopub.execute_input": "2025-08-05T16:22:15.232740Z",
     "iopub.status.busy": "2025-08-05T16:22:15.231996Z",
     "iopub.status.idle": "2025-08-05T16:22:15.238340Z",
     "shell.execute_reply": "2025-08-05T16:22:15.237113Z"
    },
    "papermill": {
     "duration": 0.034063,
     "end_time": "2025-08-05T16:22:15.240424",
     "exception": false,
     "start_time": "2025-08-05T16:22:15.206361",
     "status": "completed"
    },
    "tags": []
   },
   "outputs": [],
   "source": [
    "#display(siab_train.groupby(\"year\").size())"
   ]
  },
  {
   "cell_type": "code",
   "execution_count": 14,
   "id": "a561edb4-d032-42cb-8256-22eac1111c64",
   "metadata": {
    "execution": {
     "iopub.execute_input": "2025-08-05T16:22:15.289835Z",
     "iopub.status.busy": "2025-08-05T16:22:15.289139Z",
     "iopub.status.idle": "2025-08-05T16:22:15.580881Z",
     "shell.execute_reply": "2025-08-05T16:22:15.579506Z"
    },
    "papermill": {
     "duration": 0.318881,
     "end_time": "2025-08-05T16:22:15.582849",
     "exception": false,
     "start_time": "2025-08-05T16:22:15.263968",
     "status": "completed"
    },
    "tags": []
   },
   "outputs": [],
   "source": [
    "#siab_train = siab_s[siab_s.year < 2015]\n",
    "siab_calib = siab[siab.year == 2015]\n",
    "siab_test = siab[siab.year == 2016]"
   ]
  },
  {
   "cell_type": "code",
   "execution_count": 15,
   "id": "472de16f-c3db-4916-846b-1f0de9cf1746",
   "metadata": {
    "execution": {
     "iopub.execute_input": "2025-08-05T16:22:15.631960Z",
     "iopub.status.busy": "2025-08-05T16:22:15.630849Z",
     "iopub.status.idle": "2025-08-05T16:22:15.641030Z",
     "shell.execute_reply": "2025-08-05T16:22:15.639400Z"
    },
    "papermill": {
     "duration": 0.038288,
     "end_time": "2025-08-05T16:22:15.643453",
     "exception": false,
     "start_time": "2025-08-05T16:22:15.605165",
     "status": "completed"
    },
    "tags": []
   },
   "outputs": [],
   "source": [
    "X_train = siab_train.iloc[:,4:164]\n",
    "y_train = siab_train.iloc[:, [3]]"
   ]
  },
  {
   "cell_type": "code",
   "execution_count": 16,
   "id": "828c96af-f43a-4ed6-ba47-8ac73a47d56c",
   "metadata": {
    "execution": {
     "iopub.execute_input": "2025-08-05T16:22:15.701317Z",
     "iopub.status.busy": "2025-08-05T16:22:15.699961Z",
     "iopub.status.idle": "2025-08-05T16:22:15.772465Z",
     "shell.execute_reply": "2025-08-05T16:22:15.771041Z"
    },
    "papermill": {
     "duration": 0.104192,
     "end_time": "2025-08-05T16:22:15.774932",
     "exception": false,
     "start_time": "2025-08-05T16:22:15.670740",
     "status": "completed"
    },
    "tags": []
   },
   "outputs": [],
   "source": [
    "X_calib = siab_calib.iloc[:,4:164]\n",
    "y_calib = siab_calib.iloc[:, [3]]"
   ]
  },
  {
   "cell_type": "code",
   "execution_count": 17,
   "id": "c34be9c3-6bd6-476e-acd3-845840e303be",
   "metadata": {
    "execution": {
     "iopub.execute_input": "2025-08-05T16:22:15.827580Z",
     "iopub.status.busy": "2025-08-05T16:22:15.826205Z",
     "iopub.status.idle": "2025-08-05T16:22:15.906580Z",
     "shell.execute_reply": "2025-08-05T16:22:15.905191Z"
    },
    "papermill": {
     "duration": 0.108995,
     "end_time": "2025-08-05T16:22:15.909104",
     "exception": false,
     "start_time": "2025-08-05T16:22:15.800109",
     "status": "completed"
    },
    "tags": []
   },
   "outputs": [],
   "source": [
    "X_test = siab_test.iloc[:,4:164]\n",
    "y_true = siab_test.iloc[:, [3]]"
   ]
  },
  {
   "cell_type": "code",
   "execution_count": 18,
   "id": "e6c733c5",
   "metadata": {
    "execution": {
     "iopub.execute_input": "2025-08-05T16:22:15.961065Z",
     "iopub.status.busy": "2025-08-05T16:22:15.959933Z",
     "iopub.status.idle": "2025-08-05T16:22:16.074393Z",
     "shell.execute_reply": "2025-08-05T16:22:16.073176Z"
    },
    "papermill": {
     "duration": 0.142742,
     "end_time": "2025-08-05T16:22:16.076669",
     "exception": false,
     "start_time": "2025-08-05T16:22:15.933927",
     "status": "completed"
    },
    "tags": []
   },
   "outputs": [],
   "source": [
    "# Auxiliary data needed downstream in the pipeline\n",
    "\n",
    "org_train = X_train.copy()\n",
    "org_test = X_test.copy()\n",
    "org_calib = X_calib.copy()"
   ]
  },
  {
   "cell_type": "markdown",
   "id": "0a4a1b33",
   "metadata": {
    "papermill": {
     "duration": 0.026056,
     "end_time": "2025-08-05T16:22:16.124782",
     "exception": false,
     "start_time": "2025-08-05T16:22:16.098726",
     "status": "completed"
    },
    "tags": []
   },
   "source": [
    "# Preprocessing Data"
   ]
  },
  {
   "cell_type": "code",
   "execution_count": 19,
   "id": "ca879031",
   "metadata": {
    "execution": {
     "iopub.execute_input": "2025-08-05T16:22:16.178386Z",
     "iopub.status.busy": "2025-08-05T16:22:16.177765Z",
     "iopub.status.idle": "2025-08-05T16:22:16.185215Z",
     "shell.execute_reply": "2025-08-05T16:22:16.183953Z"
    },
    "papermill": {
     "duration": 0.036349,
     "end_time": "2025-08-05T16:22:16.187120",
     "exception": false,
     "start_time": "2025-08-05T16:22:16.150771",
     "status": "completed"
    },
    "tags": []
   },
   "outputs": [],
   "source": [
    "# EXCLUDE PROTECTED FEATURES\n",
    "# ----------------------\n",
    "# \"exclude_features\": \"none\", # \"nationality\", \"sex\", \"nationality-sex\"\n",
    "\n",
    "excluded_features = universe[\"exclude_features\"].split(\"-\") # split, e.g.: \"nationality-sex\" -> [\"nationality\", \"sex\"]\n",
    "excluded_features_dictionary = {\n",
    "    \"nationality\": [\"maxdeutsch1\", \"maxdeutsch.Missing.\"],\n",
    "    \"sex\": [\"frau1\"],\n",
    "    \"age\": [\"age\"],\n",
    "}"
   ]
  },
  {
   "cell_type": "code",
   "execution_count": 20,
   "id": "b745ac60",
   "metadata": {
    "execution": {
     "iopub.execute_input": "2025-08-05T16:22:16.241335Z",
     "iopub.status.busy": "2025-08-05T16:22:16.240258Z",
     "iopub.status.idle": "2025-08-05T16:22:16.247449Z",
     "shell.execute_reply": "2025-08-05T16:22:16.246391Z"
    },
    "papermill": {
     "duration": 0.037435,
     "end_time": "2025-08-05T16:22:16.249702",
     "exception": false,
     "start_time": "2025-08-05T16:22:16.212267",
     "status": "completed"
    },
    "tags": []
   },
   "outputs": [],
   "source": [
    "# Code nice names to column names\n",
    "\n",
    "excluded_features_columns = [\n",
    "    excluded_features_dictionary[f] for f in excluded_features if len(f) > 0 and f != \"none\"\n",
    "]"
   ]
  },
  {
   "cell_type": "code",
   "execution_count": 21,
   "id": "f84f73a2",
   "metadata": {
    "execution": {
     "iopub.execute_input": "2025-08-05T16:22:16.296847Z",
     "iopub.status.busy": "2025-08-05T16:22:16.295667Z",
     "iopub.status.idle": "2025-08-05T16:22:16.303950Z",
     "shell.execute_reply": "2025-08-05T16:22:16.302762Z"
    },
    "papermill": {
     "duration": 0.033708,
     "end_time": "2025-08-05T16:22:16.305808",
     "exception": false,
     "start_time": "2025-08-05T16:22:16.272100",
     "status": "completed"
    },
    "tags": []
   },
   "outputs": [],
   "source": [
    "from utils import flatten_once\n",
    "\n",
    "excluded_features_columns = flatten_once(excluded_features_columns)"
   ]
  },
  {
   "cell_type": "code",
   "execution_count": 22,
   "id": "884dea22",
   "metadata": {
    "execution": {
     "iopub.execute_input": "2025-08-05T16:22:16.358840Z",
     "iopub.status.busy": "2025-08-05T16:22:16.357820Z",
     "iopub.status.idle": "2025-08-05T16:22:16.365133Z",
     "shell.execute_reply": "2025-08-05T16:22:16.363979Z"
    },
    "papermill": {
     "duration": 0.036263,
     "end_time": "2025-08-05T16:22:16.367362",
     "exception": false,
     "start_time": "2025-08-05T16:22:16.331099",
     "status": "completed"
    },
    "tags": []
   },
   "outputs": [],
   "source": [
    "if len(excluded_features_columns) > 0:\n",
    "    print(f\"Dropping features: {excluded_features_columns}\")\n",
    "    X_train.drop(excluded_features_columns, axis=1, inplace=True)"
   ]
  },
  {
   "cell_type": "code",
   "execution_count": 23,
   "id": "95ab8b16",
   "metadata": {
    "execution": {
     "iopub.execute_input": "2025-08-05T16:22:16.420422Z",
     "iopub.status.busy": "2025-08-05T16:22:16.419221Z",
     "iopub.status.idle": "2025-08-05T16:22:16.426621Z",
     "shell.execute_reply": "2025-08-05T16:22:16.425452Z"
    },
    "papermill": {
     "duration": 0.035719,
     "end_time": "2025-08-05T16:22:16.428755",
     "exception": false,
     "start_time": "2025-08-05T16:22:16.393036",
     "status": "completed"
    },
    "tags": []
   },
   "outputs": [],
   "source": [
    "if len(excluded_features_columns) > 0:\n",
    "    print(f\"Dropping features: {excluded_features_columns}\")\n",
    "    X_test.drop(excluded_features_columns, axis=1, inplace=True)"
   ]
  },
  {
   "cell_type": "code",
   "execution_count": 24,
   "id": "1853aaf5-fb9f-46cb-a2b5-8ea4ae2237e4",
   "metadata": {
    "execution": {
     "iopub.execute_input": "2025-08-05T16:22:16.483642Z",
     "iopub.status.busy": "2025-08-05T16:22:16.482703Z",
     "iopub.status.idle": "2025-08-05T16:22:16.490286Z",
     "shell.execute_reply": "2025-08-05T16:22:16.489171Z"
    },
    "papermill": {
     "duration": 0.036784,
     "end_time": "2025-08-05T16:22:16.492264",
     "exception": false,
     "start_time": "2025-08-05T16:22:16.455480",
     "status": "completed"
    },
    "tags": []
   },
   "outputs": [],
   "source": [
    "if len(excluded_features_columns) > 0:\n",
    "    print(f\"Dropping features: {excluded_features_columns}\")\n",
    "    X_calib.drop(excluded_features_columns, axis=1, inplace=True)"
   ]
  },
  {
   "cell_type": "code",
   "execution_count": 25,
   "id": "76c4dc6d",
   "metadata": {
    "execution": {
     "iopub.execute_input": "2025-08-05T16:22:16.548094Z",
     "iopub.status.busy": "2025-08-05T16:22:16.546929Z",
     "iopub.status.idle": "2025-08-05T16:22:16.553873Z",
     "shell.execute_reply": "2025-08-05T16:22:16.552758Z"
    },
    "papermill": {
     "duration": 0.037491,
     "end_time": "2025-08-05T16:22:16.555946",
     "exception": false,
     "start_time": "2025-08-05T16:22:16.518455",
     "status": "completed"
    },
    "tags": []
   },
   "outputs": [],
   "source": [
    "# EXCLUDE CERTAIN SUBGROUPS\n",
    "# ----------------------\n",
    "\n",
    "mode = universe.get(\"exclude_subgroups\", \"keep-all\") \n",
    "# Fetches the exclude_subgroups setting from the universe dict.\n",
    "# Defaults to \"keep-all\" if the key is missing."
   ]
  },
  {
   "cell_type": "code",
   "execution_count": 26,
   "id": "21994072",
   "metadata": {
    "execution": {
     "iopub.execute_input": "2025-08-05T16:22:16.606131Z",
     "iopub.status.busy": "2025-08-05T16:22:16.605353Z",
     "iopub.status.idle": "2025-08-05T16:22:16.613758Z",
     "shell.execute_reply": "2025-08-05T16:22:16.612464Z"
    },
    "papermill": {
     "duration": 0.033251,
     "end_time": "2025-08-05T16:22:16.615816",
     "exception": false,
     "start_time": "2025-08-05T16:22:16.582565",
     "status": "completed"
    },
    "tags": []
   },
   "outputs": [],
   "source": [
    "if mode == \"keep-all\":\n",
    "    keep_mask = pd.Series(True, index=org_train.index)\n",
    "\n",
    "# org_train contains the original feature columns from features_org (in Simson)\n",
    "# features_org contains unprocessed features, for me X_train at beginning ???\n",
    "# For keep-all, creates a boolean Series (keep_mask) of all True, so no rows are removed.\n",
    "\n",
    "elif mode == \"drop-non-german\":\n",
    "    keep_mask = org_train[\"maxdeutsch1\"] == 1 # ??? what about missing values?\n",
    "\n",
    "else:\n",
    "    raise ValueError(f\"Unsupported mode for exclude_subgroups: {mode}\")"
   ]
  },
  {
   "cell_type": "code",
   "execution_count": 27,
   "id": "71651440",
   "metadata": {
    "execution": {
     "iopub.execute_input": "2025-08-05T16:22:16.670570Z",
     "iopub.status.busy": "2025-08-05T16:22:16.669933Z",
     "iopub.status.idle": "2025-08-05T16:22:16.680857Z",
     "shell.execute_reply": "2025-08-05T16:22:16.679316Z"
    },
    "papermill": {
     "duration": 0.040337,
     "end_time": "2025-08-05T16:22:16.682849",
     "exception": false,
     "start_time": "2025-08-05T16:22:16.642512",
     "status": "completed"
    },
    "tags": []
   },
   "outputs": [
    {
     "name": "stdout",
     "output_type": "stream",
     "text": [
      "Dropping 147 rows (14.70%) where mode='drop-non-german'\n"
     ]
    }
   ],
   "source": [
    "n_drop = (~keep_mask).sum() # Calculates how many rows are set to be dropped\n",
    "if n_drop > 0:\n",
    "    pct = n_drop / len(keep_mask) * 100\n",
    "    print(f\"Dropping {n_drop} rows ({pct:.2f}%) where mode='{mode}'\")"
   ]
  },
  {
   "cell_type": "code",
   "execution_count": 28,
   "id": "5fb8eee5",
   "metadata": {
    "execution": {
     "iopub.execute_input": "2025-08-05T16:22:16.736507Z",
     "iopub.status.busy": "2025-08-05T16:22:16.735964Z",
     "iopub.status.idle": "2025-08-05T16:22:16.744624Z",
     "shell.execute_reply": "2025-08-05T16:22:16.743326Z"
    },
    "papermill": {
     "duration": 0.036496,
     "end_time": "2025-08-05T16:22:16.752414",
     "exception": false,
     "start_time": "2025-08-05T16:22:16.715918",
     "status": "completed"
    },
    "tags": []
   },
   "outputs": [],
   "source": [
    "X_train = X_train[keep_mask]"
   ]
  },
  {
   "cell_type": "code",
   "execution_count": 29,
   "id": "b202bb3a",
   "metadata": {
    "execution": {
     "iopub.execute_input": "2025-08-05T16:22:16.797601Z",
     "iopub.status.busy": "2025-08-05T16:22:16.797108Z",
     "iopub.status.idle": "2025-08-05T16:22:16.803601Z",
     "shell.execute_reply": "2025-08-05T16:22:16.802726Z"
    },
    "papermill": {
     "duration": 0.026055,
     "end_time": "2025-08-05T16:22:16.805209",
     "exception": false,
     "start_time": "2025-08-05T16:22:16.779154",
     "status": "completed"
    },
    "tags": []
   },
   "outputs": [],
   "source": [
    "y_train = y_train[keep_mask]"
   ]
  },
  {
   "cell_type": "markdown",
   "id": "493e2ac3",
   "metadata": {
    "papermill": {
     "duration": 0.012626,
     "end_time": "2025-08-05T16:22:16.830949",
     "exception": false,
     "start_time": "2025-08-05T16:22:16.818323",
     "status": "completed"
    },
    "tags": []
   },
   "source": [
    "# Model Training"
   ]
  },
  {
   "cell_type": "code",
   "execution_count": 30,
   "id": "679e1268",
   "metadata": {
    "execution": {
     "iopub.execute_input": "2025-08-05T16:22:16.857477Z",
     "iopub.status.busy": "2025-08-05T16:22:16.857044Z",
     "iopub.status.idle": "2025-08-05T16:22:17.030582Z",
     "shell.execute_reply": "2025-08-05T16:22:17.029569Z"
    },
    "papermill": {
     "duration": 0.189028,
     "end_time": "2025-08-05T16:22:17.032253",
     "exception": false,
     "start_time": "2025-08-05T16:22:16.843225",
     "status": "completed"
    },
    "tags": []
   },
   "outputs": [],
   "source": [
    "from sklearn.linear_model import LogisticRegression\n",
    "from sklearn.ensemble import GradientBoostingClassifier, RandomForestClassifier\n",
    "\n",
    "if (universe[\"model\"] == \"logreg\"):\n",
    "    model = LogisticRegression() #penalty=\"none\", solver=\"newton-cg\", max_iter=1) # include random_state=19 ?\n",
    "elif (universe[\"model\"] == \"penalized_logreg\"):\n",
    "    model = LogisticRegression(penalty=\"l2\", C=0.1) #, solver=\"newton-cg\", max_iter=1)\n",
    "elif (universe[\"model\"] == \"rf\"):\n",
    "    model = RandomForestClassifier() # n_estimators=100, n_jobs=-1\n",
    "elif (universe[\"model\"] == \"gbm\"):\n",
    "    model = GradientBoostingClassifier()\n",
    "elif (universe[\"model\"] == \"elasticnet\"):\n",
    "    model = LogisticRegression(penalty = 'elasticnet', solver = 'saga', l1_ratio = 0.5) # max_iter=5000\n",
    "else:\n",
    "    raise \"Unsupported universe.model\""
   ]
  },
  {
   "cell_type": "code",
   "execution_count": 31,
   "id": "0cc8f744",
   "metadata": {
    "execution": {
     "iopub.execute_input": "2025-08-05T16:22:17.059668Z",
     "iopub.status.busy": "2025-08-05T16:22:17.058816Z",
     "iopub.status.idle": "2025-08-05T16:22:17.065320Z",
     "shell.execute_reply": "2025-08-05T16:22:17.064301Z"
    },
    "papermill": {
     "duration": 0.021172,
     "end_time": "2025-08-05T16:22:17.066938",
     "exception": false,
     "start_time": "2025-08-05T16:22:17.045766",
     "status": "completed"
    },
    "tags": []
   },
   "outputs": [],
   "source": [
    "import numpy as np\n",
    "from sklearn.pipeline import Pipeline\n",
    "from sklearn.preprocessing import StandardScaler\n",
    "\n",
    "model = Pipeline([\n",
    "    #(\"continuous_processor\", continuous_processor),\n",
    "    #(\"categorical_preprocessor\", categorical_preprocessor),\n",
    "    (\"scale\", StandardScaler() if universe[\"scale\"] == \"scale\" else None), \n",
    "    (\"model\", model),\n",
    "])"
   ]
  },
  {
   "cell_type": "code",
   "execution_count": 32,
   "id": "9442c04d",
   "metadata": {
    "execution": {
     "iopub.execute_input": "2025-08-05T16:22:17.093657Z",
     "iopub.status.busy": "2025-08-05T16:22:17.092765Z",
     "iopub.status.idle": "2025-08-05T16:22:17.403435Z",
     "shell.execute_reply": "2025-08-05T16:22:17.402469Z"
    },
    "papermill": {
     "duration": 0.325269,
     "end_time": "2025-08-05T16:22:17.404978",
     "exception": false,
     "start_time": "2025-08-05T16:22:17.079709",
     "status": "completed"
    },
    "tags": []
   },
   "outputs": [
    {
     "name": "stderr",
     "output_type": "stream",
     "text": [
      "/dss/dsshome1/0C/ra93lal2/.local/share/virtualenvs/CMA_Fairness_v2-3j10GkSs/lib/python3.10/site-packages/sklearn/linear_model/_sag.py:350: ConvergenceWarning: The max_iter was reached which means the coef_ did not converge\n",
      "  warnings.warn(\n"
     ]
    },
    {
     "data": {
      "text/html": [
       "<style>#sk-container-id-1 {color: black;background-color: white;}#sk-container-id-1 pre{padding: 0;}#sk-container-id-1 div.sk-toggleable {background-color: white;}#sk-container-id-1 label.sk-toggleable__label {cursor: pointer;display: block;width: 100%;margin-bottom: 0;padding: 0.3em;box-sizing: border-box;text-align: center;}#sk-container-id-1 label.sk-toggleable__label-arrow:before {content: \"▸\";float: left;margin-right: 0.25em;color: #696969;}#sk-container-id-1 label.sk-toggleable__label-arrow:hover:before {color: black;}#sk-container-id-1 div.sk-estimator:hover label.sk-toggleable__label-arrow:before {color: black;}#sk-container-id-1 div.sk-toggleable__content {max-height: 0;max-width: 0;overflow: hidden;text-align: left;background-color: #f0f8ff;}#sk-container-id-1 div.sk-toggleable__content pre {margin: 0.2em;color: black;border-radius: 0.25em;background-color: #f0f8ff;}#sk-container-id-1 input.sk-toggleable__control:checked~div.sk-toggleable__content {max-height: 200px;max-width: 100%;overflow: auto;}#sk-container-id-1 input.sk-toggleable__control:checked~label.sk-toggleable__label-arrow:before {content: \"▾\";}#sk-container-id-1 div.sk-estimator input.sk-toggleable__control:checked~label.sk-toggleable__label {background-color: #d4ebff;}#sk-container-id-1 div.sk-label input.sk-toggleable__control:checked~label.sk-toggleable__label {background-color: #d4ebff;}#sk-container-id-1 input.sk-hidden--visually {border: 0;clip: rect(1px 1px 1px 1px);clip: rect(1px, 1px, 1px, 1px);height: 1px;margin: -1px;overflow: hidden;padding: 0;position: absolute;width: 1px;}#sk-container-id-1 div.sk-estimator {font-family: monospace;background-color: #f0f8ff;border: 1px dotted black;border-radius: 0.25em;box-sizing: border-box;margin-bottom: 0.5em;}#sk-container-id-1 div.sk-estimator:hover {background-color: #d4ebff;}#sk-container-id-1 div.sk-parallel-item::after {content: \"\";width: 100%;border-bottom: 1px solid gray;flex-grow: 1;}#sk-container-id-1 div.sk-label:hover label.sk-toggleable__label {background-color: #d4ebff;}#sk-container-id-1 div.sk-serial::before {content: \"\";position: absolute;border-left: 1px solid gray;box-sizing: border-box;top: 0;bottom: 0;left: 50%;z-index: 0;}#sk-container-id-1 div.sk-serial {display: flex;flex-direction: column;align-items: center;background-color: white;padding-right: 0.2em;padding-left: 0.2em;position: relative;}#sk-container-id-1 div.sk-item {position: relative;z-index: 1;}#sk-container-id-1 div.sk-parallel {display: flex;align-items: stretch;justify-content: center;background-color: white;position: relative;}#sk-container-id-1 div.sk-item::before, #sk-container-id-1 div.sk-parallel-item::before {content: \"\";position: absolute;border-left: 1px solid gray;box-sizing: border-box;top: 0;bottom: 0;left: 50%;z-index: -1;}#sk-container-id-1 div.sk-parallel-item {display: flex;flex-direction: column;z-index: 1;position: relative;background-color: white;}#sk-container-id-1 div.sk-parallel-item:first-child::after {align-self: flex-end;width: 50%;}#sk-container-id-1 div.sk-parallel-item:last-child::after {align-self: flex-start;width: 50%;}#sk-container-id-1 div.sk-parallel-item:only-child::after {width: 0;}#sk-container-id-1 div.sk-dashed-wrapped {border: 1px dashed gray;margin: 0 0.4em 0.5em 0.4em;box-sizing: border-box;padding-bottom: 0.4em;background-color: white;}#sk-container-id-1 div.sk-label label {font-family: monospace;font-weight: bold;display: inline-block;line-height: 1.2em;}#sk-container-id-1 div.sk-label-container {text-align: center;}#sk-container-id-1 div.sk-container {/* jupyter's `normalize.less` sets `[hidden] { display: none; }` but bootstrap.min.css set `[hidden] { display: none !important; }` so we also need the `!important` here to be able to override the default hidden behavior on the sphinx rendered scikit-learn.org. See: https://github.com/scikit-learn/scikit-learn/issues/21755 */display: inline-block !important;position: relative;}#sk-container-id-1 div.sk-text-repr-fallback {display: none;}</style><div id=\"sk-container-id-1\" class=\"sk-top-container\"><div class=\"sk-text-repr-fallback\"><pre>Pipeline(steps=[(&#x27;scale&#x27;, StandardScaler()),\n",
       "                (&#x27;model&#x27;,\n",
       "                 LogisticRegression(l1_ratio=0.5, penalty=&#x27;elasticnet&#x27;,\n",
       "                                    solver=&#x27;saga&#x27;))])</pre><b>In a Jupyter environment, please rerun this cell to show the HTML representation or trust the notebook. <br />On GitHub, the HTML representation is unable to render, please try loading this page with nbviewer.org.</b></div><div class=\"sk-container\" hidden><div class=\"sk-item sk-dashed-wrapped\"><div class=\"sk-label-container\"><div class=\"sk-label sk-toggleable\"><input class=\"sk-toggleable__control sk-hidden--visually\" id=\"sk-estimator-id-1\" type=\"checkbox\" ><label for=\"sk-estimator-id-1\" class=\"sk-toggleable__label sk-toggleable__label-arrow\">Pipeline</label><div class=\"sk-toggleable__content\"><pre>Pipeline(steps=[(&#x27;scale&#x27;, StandardScaler()),\n",
       "                (&#x27;model&#x27;,\n",
       "                 LogisticRegression(l1_ratio=0.5, penalty=&#x27;elasticnet&#x27;,\n",
       "                                    solver=&#x27;saga&#x27;))])</pre></div></div></div><div class=\"sk-serial\"><div class=\"sk-item\"><div class=\"sk-estimator sk-toggleable\"><input class=\"sk-toggleable__control sk-hidden--visually\" id=\"sk-estimator-id-2\" type=\"checkbox\" ><label for=\"sk-estimator-id-2\" class=\"sk-toggleable__label sk-toggleable__label-arrow\">StandardScaler</label><div class=\"sk-toggleable__content\"><pre>StandardScaler()</pre></div></div></div><div class=\"sk-item\"><div class=\"sk-estimator sk-toggleable\"><input class=\"sk-toggleable__control sk-hidden--visually\" id=\"sk-estimator-id-3\" type=\"checkbox\" ><label for=\"sk-estimator-id-3\" class=\"sk-toggleable__label sk-toggleable__label-arrow\">LogisticRegression</label><div class=\"sk-toggleable__content\"><pre>LogisticRegression(l1_ratio=0.5, penalty=&#x27;elasticnet&#x27;, solver=&#x27;saga&#x27;)</pre></div></div></div></div></div></div></div>"
      ],
      "text/plain": [
       "Pipeline(steps=[('scale', StandardScaler()),\n",
       "                ('model',\n",
       "                 LogisticRegression(l1_ratio=0.5, penalty='elasticnet',\n",
       "                                    solver='saga'))])"
      ]
     },
     "execution_count": 32,
     "metadata": {},
     "output_type": "execute_result"
    }
   ],
   "source": [
    "model.fit(X_train, y_train.values.ravel())"
   ]
  },
  {
   "cell_type": "code",
   "execution_count": 33,
   "id": "af59f8c0",
   "metadata": {
    "execution": {
     "iopub.execute_input": "2025-08-05T16:22:17.442008Z",
     "iopub.status.busy": "2025-08-05T16:22:17.441134Z",
     "iopub.status.idle": "2025-08-05T16:22:17.450063Z",
     "shell.execute_reply": "2025-08-05T16:22:17.448420Z"
    },
    "papermill": {
     "duration": 0.034977,
     "end_time": "2025-08-05T16:22:17.453049",
     "exception": false,
     "start_time": "2025-08-05T16:22:17.418072",
     "status": "completed"
    },
    "tags": []
   },
   "outputs": [],
   "source": [
    "from fairness_multiverse.universe import predict_w_threshold"
   ]
  },
  {
   "cell_type": "code",
   "execution_count": 34,
   "id": "a7cf2e16",
   "metadata": {
    "execution": {
     "iopub.execute_input": "2025-08-05T16:22:17.503631Z",
     "iopub.status.busy": "2025-08-05T16:22:17.503100Z",
     "iopub.status.idle": "2025-08-05T16:22:17.746843Z",
     "shell.execute_reply": "2025-08-05T16:22:17.745715Z"
    },
    "papermill": {
     "duration": 0.261093,
     "end_time": "2025-08-05T16:22:17.748553",
     "exception": false,
     "start_time": "2025-08-05T16:22:17.487460",
     "status": "completed"
    },
    "tags": []
   },
   "outputs": [
    {
     "data": {
      "text/plain": [
       "0.8328057072790102"
      ]
     },
     "execution_count": 34,
     "metadata": {},
     "output_type": "execute_result"
    }
   ],
   "source": [
    "probs_test = model.predict_proba(X_test)\n",
    "\n",
    "'''\n",
    "Below code returns a boolean array (or binary 0/1 array depending on how it’s used) where each element \n",
    "is True if the probability of class 1 is greater than or equal to the threshold, and False otherwise.\n",
    "'''\n",
    "y_pred_default = predict_w_threshold(probs_test, 0.5)\n",
    "\n",
    "from sklearn.metrics import accuracy_score\n",
    "\n",
    "# Naive prediction\n",
    "accuracy_score(y_true = y_true, y_pred = y_pred_default)"
   ]
  },
  {
   "cell_type": "code",
   "execution_count": 35,
   "id": "081964c3",
   "metadata": {
    "execution": {
     "iopub.execute_input": "2025-08-05T16:22:17.806303Z",
     "iopub.status.busy": "2025-08-05T16:22:17.805877Z",
     "iopub.status.idle": "2025-08-05T16:22:18.015913Z",
     "shell.execute_reply": "2025-08-05T16:22:18.014488Z"
    },
    "papermill": {
     "duration": 0.241333,
     "end_time": "2025-08-05T16:22:18.018136",
     "exception": false,
     "start_time": "2025-08-05T16:22:17.776803",
     "status": "completed"
    },
    "tags": []
   },
   "outputs": [
    {
     "data": {
      "text/plain": [
       "array([0, 0, 0, ..., 0, 0, 0])"
      ]
     },
     "execution_count": 35,
     "metadata": {},
     "output_type": "execute_result"
    }
   ],
   "source": [
    "model.predict(X_test)"
   ]
  },
  {
   "cell_type": "markdown",
   "id": "56c9705b",
   "metadata": {
    "papermill": {
     "duration": 0.014436,
     "end_time": "2025-08-05T16:22:18.059907",
     "exception": false,
     "start_time": "2025-08-05T16:22:18.045471",
     "status": "completed"
    },
    "tags": []
   },
   "source": [
    "# Conformal Prediction"
   ]
  },
  {
   "cell_type": "code",
   "execution_count": 36,
   "id": "160ec6ff",
   "metadata": {
    "execution": {
     "iopub.execute_input": "2025-08-05T16:22:18.087412Z",
     "iopub.status.busy": "2025-08-05T16:22:18.086731Z",
     "iopub.status.idle": "2025-08-05T16:22:18.093221Z",
     "shell.execute_reply": "2025-08-05T16:22:18.092133Z"
    },
    "papermill": {
     "duration": 0.022168,
     "end_time": "2025-08-05T16:22:18.094823",
     "exception": false,
     "start_time": "2025-08-05T16:22:18.072655",
     "status": "completed"
    },
    "tags": []
   },
   "outputs": [],
   "source": [
    "# Miscoverage level for conformal prediction (10% allowed error rate => 90% target coverage)\n",
    "alpha = 0.1"
   ]
  },
  {
   "cell_type": "code",
   "execution_count": 37,
   "id": "eadf4555-3dd3-440e-8e35-f82a4ad9f855",
   "metadata": {
    "execution": {
     "iopub.execute_input": "2025-08-05T16:22:18.123127Z",
     "iopub.status.busy": "2025-08-05T16:22:18.122681Z",
     "iopub.status.idle": "2025-08-05T16:22:18.314317Z",
     "shell.execute_reply": "2025-08-05T16:22:18.312992Z"
    },
    "papermill": {
     "duration": 0.207987,
     "end_time": "2025-08-05T16:22:18.316184",
     "exception": false,
     "start_time": "2025-08-05T16:22:18.108197",
     "status": "completed"
    },
    "tags": []
   },
   "outputs": [],
   "source": [
    "probs_calib = model.predict_proba(X_calib)"
   ]
  },
  {
   "cell_type": "code",
   "execution_count": 38,
   "id": "2ed93547-6d5d-4983-9b36-1ecb300da49a",
   "metadata": {
    "execution": {
     "iopub.execute_input": "2025-08-05T16:22:18.368834Z",
     "iopub.status.busy": "2025-08-05T16:22:18.368407Z",
     "iopub.status.idle": "2025-08-05T16:22:18.374366Z",
     "shell.execute_reply": "2025-08-05T16:22:18.373444Z"
    },
    "papermill": {
     "duration": 0.032195,
     "end_time": "2025-08-05T16:22:18.376016",
     "exception": false,
     "start_time": "2025-08-05T16:22:18.343821",
     "status": "completed"
    },
    "tags": []
   },
   "outputs": [],
   "source": [
    "y_calib = y_calib.values.ravel().astype(int)"
   ]
  },
  {
   "cell_type": "code",
   "execution_count": 39,
   "id": "65d1320d-f588-4b38-9072-62af1ae97f7d",
   "metadata": {
    "execution": {
     "iopub.execute_input": "2025-08-05T16:22:18.404045Z",
     "iopub.status.busy": "2025-08-05T16:22:18.403452Z",
     "iopub.status.idle": "2025-08-05T16:22:18.411575Z",
     "shell.execute_reply": "2025-08-05T16:22:18.410458Z"
    },
    "papermill": {
     "duration": 0.023971,
     "end_time": "2025-08-05T16:22:18.413886",
     "exception": false,
     "start_time": "2025-08-05T16:22:18.389915",
     "status": "completed"
    },
    "tags": []
   },
   "outputs": [],
   "source": [
    "from fairness_multiverse.conformal import compute_nc_scores\n",
    "\n",
    "# Compute nonconformity scores on calibration set (1 - probability of true class)\n",
    "nc_scores = compute_nc_scores(probs_calib, y_calib)"
   ]
  },
  {
   "cell_type": "code",
   "execution_count": 40,
   "id": "df3b8ca3-53b7-43d5-9667-7c85da7aeda2",
   "metadata": {
    "execution": {
     "iopub.execute_input": "2025-08-05T16:22:18.442510Z",
     "iopub.status.busy": "2025-08-05T16:22:18.441724Z",
     "iopub.status.idle": "2025-08-05T16:22:18.448288Z",
     "shell.execute_reply": "2025-08-05T16:22:18.447455Z"
    },
    "papermill": {
     "duration": 0.022071,
     "end_time": "2025-08-05T16:22:18.449942",
     "exception": false,
     "start_time": "2025-08-05T16:22:18.427871",
     "status": "completed"
    },
    "tags": []
   },
   "outputs": [],
   "source": [
    "from fairness_multiverse.conformal import find_threshold\n",
    "\n",
    "# Find conformal threshold q_hat for the given alpha (split conformal method)\n",
    "q_hat = find_threshold(nc_scores, alpha)"
   ]
  },
  {
   "cell_type": "code",
   "execution_count": 41,
   "id": "4d29e6c1-0ef6-4aa4-b8fe-4fe79b0d033a",
   "metadata": {
    "execution": {
     "iopub.execute_input": "2025-08-05T16:22:18.509509Z",
     "iopub.status.busy": "2025-08-05T16:22:18.509024Z",
     "iopub.status.idle": "2025-08-05T16:22:18.518098Z",
     "shell.execute_reply": "2025-08-05T16:22:18.517052Z"
    },
    "papermill": {
     "duration": 0.048934,
     "end_time": "2025-08-05T16:22:18.520455",
     "exception": false,
     "start_time": "2025-08-05T16:22:18.471521",
     "status": "completed"
    },
    "tags": []
   },
   "outputs": [
    {
     "data": {
      "text/plain": [
       "0.7768958804640791"
      ]
     },
     "execution_count": 41,
     "metadata": {},
     "output_type": "execute_result"
    }
   ],
   "source": [
    "q_hat"
   ]
  },
  {
   "cell_type": "code",
   "execution_count": 42,
   "id": "92460794-cdac-4be2-ba28-f28c0515a6fb",
   "metadata": {
    "execution": {
     "iopub.execute_input": "2025-08-05T16:22:18.595996Z",
     "iopub.status.busy": "2025-08-05T16:22:18.595552Z",
     "iopub.status.idle": "2025-08-05T16:22:19.755884Z",
     "shell.execute_reply": "2025-08-05T16:22:19.754542Z"
    },
    "papermill": {
     "duration": 1.200041,
     "end_time": "2025-08-05T16:22:19.758031",
     "exception": false,
     "start_time": "2025-08-05T16:22:18.557990",
     "status": "completed"
    },
    "tags": []
   },
   "outputs": [],
   "source": [
    "from fairness_multiverse.conformal import predict_conformal_sets\n",
    "\n",
    "# Generate prediction sets for each test example\n",
    "pred_sets = predict_conformal_sets(model, X_test, q_hat)"
   ]
  },
  {
   "cell_type": "code",
   "execution_count": 43,
   "id": "d90c9a65-e6db-4f5d-80cd-e68fb7e46829",
   "metadata": {
    "execution": {
     "iopub.execute_input": "2025-08-05T16:22:19.811754Z",
     "iopub.status.busy": "2025-08-05T16:22:19.811142Z",
     "iopub.status.idle": "2025-08-05T16:22:19.818149Z",
     "shell.execute_reply": "2025-08-05T16:22:19.816981Z"
    },
    "papermill": {
     "duration": 0.041948,
     "end_time": "2025-08-05T16:22:19.820212",
     "exception": false,
     "start_time": "2025-08-05T16:22:19.778264",
     "status": "completed"
    },
    "tags": []
   },
   "outputs": [],
   "source": [
    "y_true = y_true.squeeze()"
   ]
  },
  {
   "cell_type": "code",
   "execution_count": 44,
   "id": "3a58a54a-1e68-46b9-927a-df01f18aebc8",
   "metadata": {
    "execution": {
     "iopub.execute_input": "2025-08-05T16:22:19.879025Z",
     "iopub.status.busy": "2025-08-05T16:22:19.878426Z",
     "iopub.status.idle": "2025-08-05T16:22:20.769817Z",
     "shell.execute_reply": "2025-08-05T16:22:20.768531Z"
    },
    "papermill": {
     "duration": 0.925484,
     "end_time": "2025-08-05T16:22:20.771645",
     "exception": false,
     "start_time": "2025-08-05T16:22:19.846161",
     "status": "completed"
    },
    "tags": []
   },
   "outputs": [],
   "source": [
    "from fairness_multiverse.conformal import evaluate_sets\n",
    "\n",
    "# Evaluate coverage and average set size on test data\n",
    "metrics = evaluate_sets(pred_sets, y_true)"
   ]
  },
  {
   "cell_type": "markdown",
   "id": "2b569c12-9aaa-4c88-98c9-bbcd0cf3ebb8",
   "metadata": {
    "papermill": {
     "duration": 0.033237,
     "end_time": "2025-08-05T16:22:20.837349",
     "exception": false,
     "start_time": "2025-08-05T16:22:20.804112",
     "status": "completed"
    },
    "tags": []
   },
   "source": [
    "# CP Metrics"
   ]
  },
  {
   "cell_type": "code",
   "execution_count": 45,
   "id": "5ce0a5cb-201f-45a0-ade5-94c7f0bd6095",
   "metadata": {
    "execution": {
     "iopub.execute_input": "2025-08-05T16:22:20.912830Z",
     "iopub.status.busy": "2025-08-05T16:22:20.912199Z",
     "iopub.status.idle": "2025-08-05T16:22:20.922113Z",
     "shell.execute_reply": "2025-08-05T16:22:20.920713Z"
    },
    "papermill": {
     "duration": 0.051075,
     "end_time": "2025-08-05T16:22:20.925025",
     "exception": false,
     "start_time": "2025-08-05T16:22:20.873950",
     "status": "completed"
    },
    "tags": []
   },
   "outputs": [
    {
     "data": {
      "text/plain": [
       "{'coverage': 0.9112027644632705, 'avg_size': 1.2297291271876045}"
      ]
     },
     "execution_count": 45,
     "metadata": {},
     "output_type": "execute_result"
    }
   ],
   "source": [
    "metrics"
   ]
  },
  {
   "cell_type": "code",
   "execution_count": 46,
   "id": "9b9a838d-31c9-430b-ae14-12baee460d17",
   "metadata": {
    "execution": {
     "iopub.execute_input": "2025-08-05T16:22:21.002618Z",
     "iopub.status.busy": "2025-08-05T16:22:21.002106Z",
     "iopub.status.idle": "2025-08-05T16:22:21.010736Z",
     "shell.execute_reply": "2025-08-05T16:22:21.009612Z"
    },
    "papermill": {
     "duration": 0.04887,
     "end_time": "2025-08-05T16:22:21.012779",
     "exception": false,
     "start_time": "2025-08-05T16:22:20.963909",
     "status": "completed"
    },
    "tags": []
   },
   "outputs": [],
   "source": [
    "example_universe = universe.copy()\n",
    "universe_training_year = example_universe.get(\"training_year\")\n",
    "universe_training_size = example_universe.get(\"training_size\")\n",
    "universe_scale = example_universe.get(\"scale\")\n",
    "universe_model = example_universe.get(\"model\")\n",
    "universe_exclude_features = example_universe.get(\"exclude_features\")\n",
    "universe_exclude_subgroups = example_universe.get(\"exclude_subgroups\")"
   ]
  },
  {
   "cell_type": "code",
   "execution_count": 47,
   "id": "f4b6a8ac-9dc0-4245-8a91-5b3b5999c4f9",
   "metadata": {
    "execution": {
     "iopub.execute_input": "2025-08-05T16:22:21.074219Z",
     "iopub.status.busy": "2025-08-05T16:22:21.073140Z",
     "iopub.status.idle": "2025-08-05T16:22:21.081277Z",
     "shell.execute_reply": "2025-08-05T16:22:21.080150Z"
    },
    "papermill": {
     "duration": 0.04082,
     "end_time": "2025-08-05T16:22:21.083277",
     "exception": false,
     "start_time": "2025-08-05T16:22:21.042457",
     "status": "completed"
    },
    "tags": []
   },
   "outputs": [],
   "source": [
    "cp_metrics_dict = {\n",
    "    \"universe_id\": [universe_id],\n",
    "    \"universe_training_year\": [universe_training_year],\n",
    "    \"universe_training_size\": [universe_training_size],\n",
    "    \"universe_scale\": [universe_scale],\n",
    "    \"universe_model\": [universe_model],\n",
    "    \"universe_exclude_features\": [universe_exclude_features],\n",
    "    \"universe_exclude_subgroups\": [universe_exclude_subgroups],\n",
    "    \"q_hat\": [q_hat],\n",
    "    \"coverage\": [metrics[\"coverage\"]],\n",
    "    \"avg_size\": [metrics[\"avg_size\"]],\n",
    "}"
   ]
  },
  {
   "cell_type": "code",
   "execution_count": 48,
   "id": "908acbb1-0371-4915-85ca-3fa520d2efe2",
   "metadata": {
    "execution": {
     "iopub.execute_input": "2025-08-05T16:22:21.141096Z",
     "iopub.status.busy": "2025-08-05T16:22:21.139849Z",
     "iopub.status.idle": "2025-08-05T16:22:21.149169Z",
     "shell.execute_reply": "2025-08-05T16:22:21.147997Z"
    },
    "papermill": {
     "duration": 0.038976,
     "end_time": "2025-08-05T16:22:21.151216",
     "exception": false,
     "start_time": "2025-08-05T16:22:21.112240",
     "status": "completed"
    },
    "tags": []
   },
   "outputs": [
    {
     "data": {
      "text/plain": [
       "{'universe_id': ['8c18a54c433851487ce3cf5dbfd03684'],\n",
       " 'universe_training_year': ['2012_14'],\n",
       " 'universe_training_size': ['1k'],\n",
       " 'universe_scale': ['scale'],\n",
       " 'universe_model': ['elasticnet'],\n",
       " 'universe_exclude_features': ['none'],\n",
       " 'universe_exclude_subgroups': ['drop-non-german'],\n",
       " 'q_hat': [0.7768958804640791],\n",
       " 'coverage': [0.9112027644632705],\n",
       " 'avg_size': [1.2297291271876045]}"
      ]
     },
     "execution_count": 48,
     "metadata": {},
     "output_type": "execute_result"
    }
   ],
   "source": [
    "cp_metrics_dict"
   ]
  },
  {
   "cell_type": "code",
   "execution_count": 49,
   "id": "33007efc-14e9-4ec6-97ac-56a455c82265",
   "metadata": {
    "execution": {
     "iopub.execute_input": "2025-08-05T16:22:21.215242Z",
     "iopub.status.busy": "2025-08-05T16:22:21.214632Z",
     "iopub.status.idle": "2025-08-05T16:22:21.223230Z",
     "shell.execute_reply": "2025-08-05T16:22:21.221971Z"
    },
    "papermill": {
     "duration": 0.048819,
     "end_time": "2025-08-05T16:22:21.225696",
     "exception": false,
     "start_time": "2025-08-05T16:22:21.176877",
     "status": "completed"
    },
    "tags": []
   },
   "outputs": [],
   "source": [
    "cp_metrics_df = pd.DataFrame(cp_metrics_dict)"
   ]
  },
  {
   "cell_type": "code",
   "execution_count": 50,
   "id": "db12611b-57b2-4910-b9d0-355adfd6e7bf",
   "metadata": {
    "execution": {
     "iopub.execute_input": "2025-08-05T16:22:21.304851Z",
     "iopub.status.busy": "2025-08-05T16:22:21.304343Z",
     "iopub.status.idle": "2025-08-05T16:22:21.332493Z",
     "shell.execute_reply": "2025-08-05T16:22:21.331354Z"
    },
    "papermill": {
     "duration": 0.070324,
     "end_time": "2025-08-05T16:22:21.334715",
     "exception": false,
     "start_time": "2025-08-05T16:22:21.264391",
     "status": "completed"
    },
    "tags": []
   },
   "outputs": [
    {
     "data": {
      "text/html": [
       "<div>\n",
       "<style scoped>\n",
       "    .dataframe tbody tr th:only-of-type {\n",
       "        vertical-align: middle;\n",
       "    }\n",
       "\n",
       "    .dataframe tbody tr th {\n",
       "        vertical-align: top;\n",
       "    }\n",
       "\n",
       "    .dataframe thead th {\n",
       "        text-align: right;\n",
       "    }\n",
       "</style>\n",
       "<table border=\"1\" class=\"dataframe\">\n",
       "  <thead>\n",
       "    <tr style=\"text-align: right;\">\n",
       "      <th></th>\n",
       "      <th>universe_id</th>\n",
       "      <th>universe_training_year</th>\n",
       "      <th>universe_training_size</th>\n",
       "      <th>universe_scale</th>\n",
       "      <th>universe_model</th>\n",
       "      <th>universe_exclude_features</th>\n",
       "      <th>universe_exclude_subgroups</th>\n",
       "      <th>q_hat</th>\n",
       "      <th>coverage</th>\n",
       "      <th>avg_size</th>\n",
       "    </tr>\n",
       "  </thead>\n",
       "  <tbody>\n",
       "    <tr>\n",
       "      <th>0</th>\n",
       "      <td>8c18a54c433851487ce3cf5dbfd03684</td>\n",
       "      <td>2012_14</td>\n",
       "      <td>1k</td>\n",
       "      <td>scale</td>\n",
       "      <td>elasticnet</td>\n",
       "      <td>none</td>\n",
       "      <td>drop-non-german</td>\n",
       "      <td>0.776896</td>\n",
       "      <td>0.911203</td>\n",
       "      <td>1.229729</td>\n",
       "    </tr>\n",
       "  </tbody>\n",
       "</table>\n",
       "</div>"
      ],
      "text/plain": [
       "                        universe_id universe_training_year  \\\n",
       "0  8c18a54c433851487ce3cf5dbfd03684                2012_14   \n",
       "\n",
       "  universe_training_size universe_scale universe_model  \\\n",
       "0                     1k          scale     elasticnet   \n",
       "\n",
       "  universe_exclude_features universe_exclude_subgroups     q_hat  coverage  \\\n",
       "0                      none            drop-non-german  0.776896  0.911203   \n",
       "\n",
       "   avg_size  \n",
       "0  1.229729  "
      ]
     },
     "execution_count": 50,
     "metadata": {},
     "output_type": "execute_result"
    }
   ],
   "source": [
    "cp_metrics_df"
   ]
  },
  {
   "cell_type": "code",
   "execution_count": 51,
   "id": "b7fbde55-a0a1-47e4-9af6-fe4a17fa8c61",
   "metadata": {
    "execution": {
     "iopub.execute_input": "2025-08-05T16:22:21.392470Z",
     "iopub.status.busy": "2025-08-05T16:22:21.391968Z",
     "iopub.status.idle": "2025-08-05T16:22:21.398103Z",
     "shell.execute_reply": "2025-08-05T16:22:21.397210Z"
    },
    "papermill": {
     "duration": 0.026573,
     "end_time": "2025-08-05T16:22:21.399750",
     "exception": false,
     "start_time": "2025-08-05T16:22:21.373177",
     "status": "completed"
    },
    "tags": []
   },
   "outputs": [],
   "source": [
    "# Conditional Coverage & looking at subgroups"
   ]
  },
  {
   "cell_type": "code",
   "execution_count": 52,
   "id": "027ae886-68dd-4141-96c7-805a5450e1ef",
   "metadata": {
    "execution": {
     "iopub.execute_input": "2025-08-05T16:22:21.431304Z",
     "iopub.status.busy": "2025-08-05T16:22:21.430453Z",
     "iopub.status.idle": "2025-08-05T16:22:21.659799Z",
     "shell.execute_reply": "2025-08-05T16:22:21.658616Z"
    },
    "papermill": {
     "duration": 0.247566,
     "end_time": "2025-08-05T16:22:21.662087",
     "exception": false,
     "start_time": "2025-08-05T16:22:21.414521",
     "status": "completed"
    },
    "tags": []
   },
   "outputs": [],
   "source": [
    "from fairness_multiverse.conformal import build_cp_groups\n",
    "\n",
    "cp_groups_df = build_cp_groups(pred_sets, y_true, X_test.index, org_test)\n",
    "#needs universe_id and setting"
   ]
  },
  {
   "cell_type": "code",
   "execution_count": 53,
   "id": "6cbdab96-b2b2-45af-ad54-d0516db2e28d",
   "metadata": {
    "execution": {
     "iopub.execute_input": "2025-08-05T16:22:21.719785Z",
     "iopub.status.busy": "2025-08-05T16:22:21.719011Z",
     "iopub.status.idle": "2025-08-05T16:22:24.180146Z",
     "shell.execute_reply": "2025-08-05T16:22:24.178879Z"
    },
    "papermill": {
     "duration": 2.493063,
     "end_time": "2025-08-05T16:22:24.182502",
     "exception": false,
     "start_time": "2025-08-05T16:22:21.689439",
     "status": "completed"
    },
    "tags": []
   },
   "outputs": [],
   "source": [
    "# Define covered = 1 if true_label is in the predicted set\n",
    "cp_groups_df['covered'] = cp_groups_df.apply(\n",
    "    lambda r: int(r['true_label'] in r['pred_set']),\n",
    "    axis=1\n",
    ")"
   ]
  },
  {
   "cell_type": "code",
   "execution_count": 54,
   "id": "338ff529-1a6b-4b87-a931-8e4788d52aad",
   "metadata": {
    "execution": {
     "iopub.execute_input": "2025-08-05T16:22:24.241105Z",
     "iopub.status.busy": "2025-08-05T16:22:24.240689Z",
     "iopub.status.idle": "2025-08-05T16:22:24.245634Z",
     "shell.execute_reply": "2025-08-05T16:22:24.244519Z"
    },
    "papermill": {
     "duration": 0.031736,
     "end_time": "2025-08-05T16:22:24.247151",
     "exception": false,
     "start_time": "2025-08-05T16:22:24.215415",
     "status": "completed"
    },
    "tags": []
   },
   "outputs": [],
   "source": [
    "#cp_groups_df"
   ]
  },
  {
   "cell_type": "code",
   "execution_count": 55,
   "id": "90032e27-66df-4540-9169-4e89cfbaa758",
   "metadata": {
    "execution": {
     "iopub.execute_input": "2025-08-05T16:22:24.276413Z",
     "iopub.status.busy": "2025-08-05T16:22:24.275715Z",
     "iopub.status.idle": "2025-08-05T16:22:24.285755Z",
     "shell.execute_reply": "2025-08-05T16:22:24.284875Z"
    },
    "papermill": {
     "duration": 0.026193,
     "end_time": "2025-08-05T16:22:24.287256",
     "exception": false,
     "start_time": "2025-08-05T16:22:24.261063",
     "status": "completed"
    },
    "tags": []
   },
   "outputs": [],
   "source": [
    "subgroups = ['frau1','nongerman','nongerman_male','nongerman_female']\n",
    "\n",
    "# Conditional coverage for subgroup==1\n",
    "cond_coverage = {\n",
    "    g: cp_groups_df.loc[cp_groups_df[g]==1, 'covered'].mean()\n",
    "    for g in subgroups\n",
    "}"
   ]
  },
  {
   "cell_type": "code",
   "execution_count": 56,
   "id": "1e348fb1-b9c3-45bc-ba23-f016827a7e0d",
   "metadata": {
    "execution": {
     "iopub.execute_input": "2025-08-05T16:22:24.316204Z",
     "iopub.status.busy": "2025-08-05T16:22:24.315598Z",
     "iopub.status.idle": "2025-08-05T16:22:24.322453Z",
     "shell.execute_reply": "2025-08-05T16:22:24.321690Z"
    },
    "papermill": {
     "duration": 0.022752,
     "end_time": "2025-08-05T16:22:24.323946",
     "exception": false,
     "start_time": "2025-08-05T16:22:24.301194",
     "status": "completed"
    },
    "tags": []
   },
   "outputs": [
    {
     "data": {
      "text/plain": [
       "{'frau1': 0.9017118210001348,\n",
       " 'nongerman': 0.9186549149497558,\n",
       " 'nongerman_male': 0.9383049626227146,\n",
       " 'nongerman_female': 0.886140089418778}"
      ]
     },
     "execution_count": 56,
     "metadata": {},
     "output_type": "execute_result"
    }
   ],
   "source": [
    "cond_coverage"
   ]
  },
  {
   "cell_type": "code",
   "execution_count": 57,
   "id": "f5093324-c3dd-4d63-bc4c-8d945e5c8bbb",
   "metadata": {
    "execution": {
     "iopub.execute_input": "2025-08-05T16:22:24.356622Z",
     "iopub.status.busy": "2025-08-05T16:22:24.356034Z",
     "iopub.status.idle": "2025-08-05T16:22:24.362252Z",
     "shell.execute_reply": "2025-08-05T16:22:24.361146Z"
    },
    "papermill": {
     "duration": 0.025769,
     "end_time": "2025-08-05T16:22:24.363673",
     "exception": false,
     "start_time": "2025-08-05T16:22:24.337904",
     "status": "completed"
    },
    "tags": []
   },
   "outputs": [],
   "source": [
    "for subgroup, cov in cond_coverage.items():\n",
    "    cp_metrics_df[f\"cov_{subgroup}\"] = cov"
   ]
  },
  {
   "cell_type": "code",
   "execution_count": 58,
   "id": "6e872e10-dbe5-49e8-b554-5030c98ff75d",
   "metadata": {
    "execution": {
     "iopub.execute_input": "2025-08-05T16:22:24.393305Z",
     "iopub.status.busy": "2025-08-05T16:22:24.392593Z",
     "iopub.status.idle": "2025-08-05T16:22:24.408924Z",
     "shell.execute_reply": "2025-08-05T16:22:24.407973Z"
    },
    "papermill": {
     "duration": 0.034113,
     "end_time": "2025-08-05T16:22:24.411970",
     "exception": false,
     "start_time": "2025-08-05T16:22:24.377857",
     "status": "completed"
    },
    "tags": []
   },
   "outputs": [
    {
     "data": {
      "text/html": [
       "<div>\n",
       "<style scoped>\n",
       "    .dataframe tbody tr th:only-of-type {\n",
       "        vertical-align: middle;\n",
       "    }\n",
       "\n",
       "    .dataframe tbody tr th {\n",
       "        vertical-align: top;\n",
       "    }\n",
       "\n",
       "    .dataframe thead th {\n",
       "        text-align: right;\n",
       "    }\n",
       "</style>\n",
       "<table border=\"1\" class=\"dataframe\">\n",
       "  <thead>\n",
       "    <tr style=\"text-align: right;\">\n",
       "      <th></th>\n",
       "      <th>universe_id</th>\n",
       "      <th>universe_training_year</th>\n",
       "      <th>universe_training_size</th>\n",
       "      <th>universe_scale</th>\n",
       "      <th>universe_model</th>\n",
       "      <th>universe_exclude_features</th>\n",
       "      <th>universe_exclude_subgroups</th>\n",
       "      <th>q_hat</th>\n",
       "      <th>coverage</th>\n",
       "      <th>avg_size</th>\n",
       "      <th>cov_frau1</th>\n",
       "      <th>cov_nongerman</th>\n",
       "      <th>cov_nongerman_male</th>\n",
       "      <th>cov_nongerman_female</th>\n",
       "    </tr>\n",
       "  </thead>\n",
       "  <tbody>\n",
       "    <tr>\n",
       "      <th>0</th>\n",
       "      <td>8c18a54c433851487ce3cf5dbfd03684</td>\n",
       "      <td>2012_14</td>\n",
       "      <td>1k</td>\n",
       "      <td>scale</td>\n",
       "      <td>elasticnet</td>\n",
       "      <td>none</td>\n",
       "      <td>drop-non-german</td>\n",
       "      <td>0.776896</td>\n",
       "      <td>0.911203</td>\n",
       "      <td>1.229729</td>\n",
       "      <td>0.901712</td>\n",
       "      <td>0.918655</td>\n",
       "      <td>0.938305</td>\n",
       "      <td>0.88614</td>\n",
       "    </tr>\n",
       "  </tbody>\n",
       "</table>\n",
       "</div>"
      ],
      "text/plain": [
       "                        universe_id universe_training_year  \\\n",
       "0  8c18a54c433851487ce3cf5dbfd03684                2012_14   \n",
       "\n",
       "  universe_training_size universe_scale universe_model  \\\n",
       "0                     1k          scale     elasticnet   \n",
       "\n",
       "  universe_exclude_features universe_exclude_subgroups     q_hat  coverage  \\\n",
       "0                      none            drop-non-german  0.776896  0.911203   \n",
       "\n",
       "   avg_size  cov_frau1  cov_nongerman  cov_nongerman_male  \\\n",
       "0  1.229729   0.901712       0.918655            0.938305   \n",
       "\n",
       "   cov_nongerman_female  \n",
       "0               0.88614  "
      ]
     },
     "execution_count": 58,
     "metadata": {},
     "output_type": "execute_result"
    }
   ],
   "source": [
    "cp_metrics_df"
   ]
  },
  {
   "cell_type": "markdown",
   "id": "33774451",
   "metadata": {
    "papermill": {
     "duration": 0.014387,
     "end_time": "2025-08-05T16:22:24.442828",
     "exception": false,
     "start_time": "2025-08-05T16:22:24.428441",
     "status": "completed"
    },
    "tags": []
   },
   "source": [
    "# (Fairness) Metrics"
   ]
  },
  {
   "cell_type": "code",
   "execution_count": 59,
   "id": "debc5d62",
   "metadata": {
    "execution": {
     "iopub.execute_input": "2025-08-05T16:22:24.473635Z",
     "iopub.status.busy": "2025-08-05T16:22:24.473010Z",
     "iopub.status.idle": "2025-08-05T16:22:24.489719Z",
     "shell.execute_reply": "2025-08-05T16:22:24.488663Z"
    },
    "papermill": {
     "duration": 0.034009,
     "end_time": "2025-08-05T16:22:24.491341",
     "exception": false,
     "start_time": "2025-08-05T16:22:24.457332",
     "status": "completed"
    },
    "tags": []
   },
   "outputs": [],
   "source": [
    "# do I need to include maxdeutsch1.missing?\n",
    "\n",
    "import numpy as np\n",
    "\n",
    "colname_to_bin = \"maxdeutsch1\"\n",
    "majority_value = org_train[colname_to_bin].mode()[0]\n",
    "\n",
    "org_test[\"majmin\"] = np.where(org_test[colname_to_bin] == majority_value, \"majority\", \"minority\")"
   ]
  },
  {
   "cell_type": "code",
   "execution_count": 60,
   "id": "06a50de5",
   "metadata": {
    "execution": {
     "iopub.execute_input": "2025-08-05T16:22:24.523321Z",
     "iopub.status.busy": "2025-08-05T16:22:24.522284Z",
     "iopub.status.idle": "2025-08-05T16:22:27.827369Z",
     "shell.execute_reply": "2025-08-05T16:22:27.826314Z"
    },
    "papermill": {
     "duration": 3.323295,
     "end_time": "2025-08-05T16:22:27.829749",
     "exception": false,
     "start_time": "2025-08-05T16:22:24.506454",
     "status": "completed"
    },
    "tags": []
   },
   "outputs": [],
   "source": [
    "example_universe = universe.copy()\n",
    "example_universe[\"cutoff\"] = example_universe[\"cutoff\"][0]\n",
    "example_universe[\"eval_fairness_grouping\"] = example_universe[\"eval_fairness_grouping\"][0]\n",
    "fairness_dict, metric_frame = universe_analysis.compute_metrics(\n",
    "    example_universe,\n",
    "    y_pred_prob=probs_test,\n",
    "    y_test=y_true,\n",
    "    org_test=org_test,\n",
    ")"
   ]
  },
  {
   "cell_type": "markdown",
   "id": "f95d4e02",
   "metadata": {
    "papermill": {
     "duration": 0.02957,
     "end_time": "2025-08-05T16:22:27.890505",
     "exception": false,
     "start_time": "2025-08-05T16:22:27.860935",
     "status": "completed"
    },
    "tags": []
   },
   "source": [
    "# Overall"
   ]
  },
  {
   "cell_type": "markdown",
   "id": "bdee4871",
   "metadata": {
    "papermill": {
     "duration": 0.0285,
     "end_time": "2025-08-05T16:22:27.951114",
     "exception": false,
     "start_time": "2025-08-05T16:22:27.922614",
     "status": "completed"
    },
    "tags": []
   },
   "source": [
    "Fairness\n",
    "Main fairness target: Equalized Odds. Seems to be a better fit than equal opportunity, since we're not only interested in Y = 1. Seems to be a better fit than demographic parity, since we also care about accuracy, not just equal distribution of preds.\n",
    "\n",
    "Pick column for computation of fairness metrics\n",
    "\n",
    "Performance\n",
    "Overall performance measures, most interesting in relation to the measures split by group below"
   ]
  },
  {
   "cell_type": "code",
   "execution_count": 61,
   "id": "c4e067c6",
   "metadata": {
    "execution": {
     "iopub.execute_input": "2025-08-05T16:22:28.019587Z",
     "iopub.status.busy": "2025-08-05T16:22:28.018409Z",
     "iopub.status.idle": "2025-08-05T16:22:28.030154Z",
     "shell.execute_reply": "2025-08-05T16:22:28.028883Z"
    },
    "papermill": {
     "duration": 0.052075,
     "end_time": "2025-08-05T16:22:28.032123",
     "exception": false,
     "start_time": "2025-08-05T16:22:27.980048",
     "status": "completed"
    },
    "tags": []
   },
   "outputs": [
    {
     "data": {
      "text/plain": [
       "accuracy                   0.218092\n",
       "balanced accuracy          0.534580\n",
       "f1                         0.239596\n",
       "precision                  0.136873\n",
       "false positive rate        0.891128\n",
       "false negative rate        0.039712\n",
       "selection rate             0.900000\n",
       "count                  89710.000000\n",
       "dtype: float64"
      ]
     },
     "execution_count": 61,
     "metadata": {},
     "output_type": "execute_result"
    }
   ],
   "source": [
    "metric_frame.overall"
   ]
  },
  {
   "cell_type": "markdown",
   "id": "e968fe9d",
   "metadata": {
    "papermill": {
     "duration": 0.032909,
     "end_time": "2025-08-05T16:22:28.098419",
     "exception": false,
     "start_time": "2025-08-05T16:22:28.065510",
     "status": "completed"
    },
    "tags": []
   },
   "source": [
    "By Group"
   ]
  },
  {
   "cell_type": "code",
   "execution_count": 62,
   "id": "ec325bce",
   "metadata": {
    "execution": {
     "iopub.execute_input": "2025-08-05T16:22:28.166205Z",
     "iopub.status.busy": "2025-08-05T16:22:28.165434Z",
     "iopub.status.idle": "2025-08-05T16:22:28.191240Z",
     "shell.execute_reply": "2025-08-05T16:22:28.189883Z"
    },
    "papermill": {
     "duration": 0.062842,
     "end_time": "2025-08-05T16:22:28.193371",
     "exception": false,
     "start_time": "2025-08-05T16:22:28.130529",
     "status": "completed"
    },
    "tags": []
   },
   "outputs": [
    {
     "data": {
      "text/html": [
       "<div>\n",
       "<style scoped>\n",
       "    .dataframe tbody tr th:only-of-type {\n",
       "        vertical-align: middle;\n",
       "    }\n",
       "\n",
       "    .dataframe tbody tr th {\n",
       "        vertical-align: top;\n",
       "    }\n",
       "\n",
       "    .dataframe thead th {\n",
       "        text-align: right;\n",
       "    }\n",
       "</style>\n",
       "<table border=\"1\" class=\"dataframe\">\n",
       "  <thead>\n",
       "    <tr style=\"text-align: right;\">\n",
       "      <th></th>\n",
       "      <th>accuracy</th>\n",
       "      <th>balanced accuracy</th>\n",
       "      <th>f1</th>\n",
       "      <th>precision</th>\n",
       "      <th>false positive rate</th>\n",
       "      <th>false negative rate</th>\n",
       "      <th>selection rate</th>\n",
       "      <th>count</th>\n",
       "    </tr>\n",
       "    <tr>\n",
       "      <th>majmin</th>\n",
       "      <th></th>\n",
       "      <th></th>\n",
       "      <th></th>\n",
       "      <th></th>\n",
       "      <th></th>\n",
       "      <th></th>\n",
       "      <th></th>\n",
       "      <th></th>\n",
       "    </tr>\n",
       "  </thead>\n",
       "  <tbody>\n",
       "    <tr>\n",
       "      <th>majority</th>\n",
       "      <td>0.234683</td>\n",
       "      <td>0.539972</td>\n",
       "      <td>0.247979</td>\n",
       "      <td>0.142491</td>\n",
       "      <td>0.874979</td>\n",
       "      <td>0.045077</td>\n",
       "      <td>0.885543</td>\n",
       "      <td>69170.0</td>\n",
       "    </tr>\n",
       "    <tr>\n",
       "      <th>minority</th>\n",
       "      <td>0.162220</td>\n",
       "      <td>0.518261</td>\n",
       "      <td>0.212593</td>\n",
       "      <td>0.119214</td>\n",
       "      <td>0.944475</td>\n",
       "      <td>0.019003</td>\n",
       "      <td>0.948685</td>\n",
       "      <td>20540.0</td>\n",
       "    </tr>\n",
       "  </tbody>\n",
       "</table>\n",
       "</div>"
      ],
      "text/plain": [
       "          accuracy  balanced accuracy        f1  precision  \\\n",
       "majmin                                                       \n",
       "majority  0.234683           0.539972  0.247979   0.142491   \n",
       "minority  0.162220           0.518261  0.212593   0.119214   \n",
       "\n",
       "          false positive rate  false negative rate  selection rate    count  \n",
       "majmin                                                                       \n",
       "majority             0.874979             0.045077        0.885543  69170.0  \n",
       "minority             0.944475             0.019003        0.948685  20540.0  "
      ]
     },
     "execution_count": 62,
     "metadata": {},
     "output_type": "execute_result"
    }
   ],
   "source": [
    "metric_frame.by_group"
   ]
  },
  {
   "cell_type": "code",
   "execution_count": 63,
   "id": "a9ddbe63",
   "metadata": {
    "execution": {
     "iopub.execute_input": "2025-08-05T16:22:28.254402Z",
     "iopub.status.busy": "2025-08-05T16:22:28.253407Z",
     "iopub.status.idle": "2025-08-05T16:22:30.879368Z",
     "shell.execute_reply": "2025-08-05T16:22:30.878210Z"
    },
    "papermill": {
     "duration": 2.656582,
     "end_time": "2025-08-05T16:22:30.881201",
     "exception": false,
     "start_time": "2025-08-05T16:22:28.224619",
     "status": "completed"
    },
    "tags": []
   },
   "outputs": [
    {
     "data": {
      "text/plain": [
       "array([[<Axes: title={'center': 'accuracy'}, xlabel='majmin'>,\n",
       "        <Axes: title={'center': 'balanced accuracy'}, xlabel='majmin'>,\n",
       "        <Axes: title={'center': 'f1'}, xlabel='majmin'>],\n",
       "       [<Axes: title={'center': 'precision'}, xlabel='majmin'>,\n",
       "        <Axes: title={'center': 'false positive rate'}, xlabel='majmin'>,\n",
       "        <Axes: title={'center': 'false negative rate'}, xlabel='majmin'>],\n",
       "       [<Axes: title={'center': 'selection rate'}, xlabel='majmin'>,\n",
       "        <Axes: title={'center': 'count'}, xlabel='majmin'>,\n",
       "        <Axes: xlabel='majmin'>]], dtype=object)"
      ]
     },
     "execution_count": 63,
     "metadata": {},
     "output_type": "execute_result"
    },
    {
     "data": {
      "image/png": "[encoded data removed]",
      "text/plain": [
       "<Figure size 1200x800 with 9 Axes>"
      ]
     },
     "metadata": {},
     "output_type": "display_data"
    }
   ],
   "source": [
    "# In a graphic\n",
    "metric_frame.by_group.plot.bar(\n",
    "    subplots=True,\n",
    "    layout=[3, 3],\n",
    "    legend=False,\n",
    "    figsize=[12, 8],\n",
    "    title=\"Show all metrics\",\n",
    ")"
   ]
  },
  {
   "cell_type": "markdown",
   "id": "f57a0bac",
   "metadata": {
    "papermill": {
     "duration": 0.03402,
     "end_time": "2025-08-05T16:22:30.953572",
     "exception": false,
     "start_time": "2025-08-05T16:22:30.919552",
     "status": "completed"
    },
    "tags": []
   },
   "source": [
    "# Final Output"
   ]
  },
  {
   "cell_type": "code",
   "execution_count": 64,
   "id": "96d280a3",
   "metadata": {
    "execution": {
     "iopub.execute_input": "2025-08-05T16:22:31.025180Z",
     "iopub.status.busy": "2025-08-05T16:22:31.024433Z",
     "iopub.status.idle": "2025-08-05T16:22:31.034254Z",
     "shell.execute_reply": "2025-08-05T16:22:31.032960Z"
    },
    "papermill": {
     "duration": 0.047708,
     "end_time": "2025-08-05T16:22:31.036305",
     "exception": false,
     "start_time": "2025-08-05T16:22:30.988597",
     "status": "completed"
    },
    "tags": []
   },
   "outputs": [
    {
     "data": {
      "text/plain": [
       "4"
      ]
     },
     "execution_count": 64,
     "metadata": {},
     "output_type": "execute_result"
    }
   ],
   "source": [
    "sub_universes = universe_analysis.generate_sub_universes()\n",
    "len(sub_universes)"
   ]
  },
  {
   "cell_type": "code",
   "execution_count": 65,
   "id": "92adf7ba",
   "metadata": {
    "execution": {
     "iopub.execute_input": "2025-08-05T16:22:31.109672Z",
     "iopub.status.busy": "2025-08-05T16:22:31.109247Z",
     "iopub.status.idle": "2025-08-05T16:22:31.116174Z",
     "shell.execute_reply": "2025-08-05T16:22:31.114925Z"
    },
    "papermill": {
     "duration": 0.046061,
     "end_time": "2025-08-05T16:22:31.118380",
     "exception": false,
     "start_time": "2025-08-05T16:22:31.072319",
     "status": "completed"
    },
    "tags": []
   },
   "outputs": [],
   "source": [
    "def filter_sub_universe_data(sub_universe, org_test):\n",
    "    # Keep all rows — no filtering\n",
    "    keep_rows_mask = np.ones(org_test.shape[0], dtype=bool)\n",
    "\n",
    "    print(f\"[INFO] Keeping all rows: {keep_rows_mask.sum()} rows retained.\")\n",
    "    return keep_rows_mask"
   ]
  },
  {
   "cell_type": "code",
   "execution_count": 66,
   "id": "4a759155",
   "metadata": {
    "execution": {
     "iopub.execute_input": "2025-08-05T16:22:31.191340Z",
     "iopub.status.busy": "2025-08-05T16:22:31.190952Z",
     "iopub.status.idle": "2025-08-05T16:22:43.675005Z",
     "shell.execute_reply": "2025-08-05T16:22:43.674085Z"
    },
    "papermill": {
     "duration": 12.522422,
     "end_time": "2025-08-05T16:22:43.676423",
     "exception": false,
     "start_time": "2025-08-05T16:22:31.154001",
     "status": "completed"
    },
    "tags": []
   },
   "outputs": [
    {
     "name": "stdout",
     "output_type": "stream",
     "text": [
      "Stopping execution_time clock.\n",
      "[INFO] Keeping all rows: 89710 rows retained.\n"
     ]
    },
    {
     "name": "stdout",
     "output_type": "stream",
     "text": [
      "[INFO] Keeping all rows: 89710 rows retained.\n"
     ]
    },
    {
     "name": "stdout",
     "output_type": "stream",
     "text": [
      "[INFO] Keeping all rows: 89710 rows retained.\n"
     ]
    },
    {
     "name": "stdout",
     "output_type": "stream",
     "text": [
      "[INFO] Keeping all rows: 89710 rows retained.\n"
     ]
    },
    {
     "data": {
      "text/html": [
       "<div>\n",
       "<style scoped>\n",
       "    .dataframe tbody tr th:only-of-type {\n",
       "        vertical-align: middle;\n",
       "    }\n",
       "\n",
       "    .dataframe tbody tr th {\n",
       "        vertical-align: top;\n",
       "    }\n",
       "\n",
       "    .dataframe thead th {\n",
       "        text-align: right;\n",
       "    }\n",
       "</style>\n",
       "<table border=\"1\" class=\"dataframe\">\n",
       "  <thead>\n",
       "    <tr style=\"text-align: right;\">\n",
       "      <th></th>\n",
       "      <th>run_no</th>\n",
       "      <th>universe_id</th>\n",
       "      <th>universe_settings</th>\n",
       "      <th>execution_time</th>\n",
       "      <th>test_size_n</th>\n",
       "      <th>test_size_frac</th>\n",
       "      <th>fair_main_equalized_odds_difference</th>\n",
       "      <th>fair_main_equalized_odds_ratio</th>\n",
       "      <th>fair_main_demographic_parity_difference</th>\n",
       "      <th>fair_main_demographic_parity_ratio</th>\n",
       "      <th>...</th>\n",
       "      <th>perf_grp_precision_0</th>\n",
       "      <th>perf_grp_precision_1</th>\n",
       "      <th>perf_grp_false positive rate_0</th>\n",
       "      <th>perf_grp_false positive rate_1</th>\n",
       "      <th>perf_grp_false negative rate_0</th>\n",
       "      <th>perf_grp_false negative rate_1</th>\n",
       "      <th>perf_grp_selection rate_0</th>\n",
       "      <th>perf_grp_selection rate_1</th>\n",
       "      <th>perf_grp_count_0</th>\n",
       "      <th>perf_grp_count_1</th>\n",
       "    </tr>\n",
       "  </thead>\n",
       "  <tbody>\n",
       "    <tr>\n",
       "      <th>0</th>\n",
       "      <td>15</td>\n",
       "      <td>8c18a54c433851487ce3cf5dbfd03684</td>\n",
       "      <td>{\"cutoff\": \"quantile_0.1\", \"eval_fairness_grou...</td>\n",
       "      <td>31.131534</td>\n",
       "      <td>89710</td>\n",
       "      <td>1.0</td>\n",
       "      <td>0.069496</td>\n",
       "      <td>0.926419</td>\n",
       "      <td>0.063143</td>\n",
       "      <td>0.933442</td>\n",
       "      <td>...</td>\n",
       "      <td>NaN</td>\n",
       "      <td>NaN</td>\n",
       "      <td>NaN</td>\n",
       "      <td>NaN</td>\n",
       "      <td>NaN</td>\n",
       "      <td>NaN</td>\n",
       "      <td>NaN</td>\n",
       "      <td>NaN</td>\n",
       "      <td>NaN</td>\n",
       "      <td>NaN</td>\n",
       "    </tr>\n",
       "    <tr>\n",
       "      <th>0</th>\n",
       "      <td>15</td>\n",
       "      <td>8c18a54c433851487ce3cf5dbfd03684</td>\n",
       "      <td>{\"cutoff\": \"quantile_0.1\", \"eval_fairness_grou...</td>\n",
       "      <td>31.131534</td>\n",
       "      <td>89710</td>\n",
       "      <td>1.0</td>\n",
       "      <td>0.069496</td>\n",
       "      <td>0.926419</td>\n",
       "      <td>0.063143</td>\n",
       "      <td>0.933442</td>\n",
       "      <td>...</td>\n",
       "      <td>0.119214</td>\n",
       "      <td>0.142491</td>\n",
       "      <td>0.944475</td>\n",
       "      <td>0.874979</td>\n",
       "      <td>0.019003</td>\n",
       "      <td>0.045077</td>\n",
       "      <td>0.948685</td>\n",
       "      <td>0.885543</td>\n",
       "      <td>20540.0</td>\n",
       "      <td>69170.0</td>\n",
       "    </tr>\n",
       "    <tr>\n",
       "      <th>0</th>\n",
       "      <td>15</td>\n",
       "      <td>8c18a54c433851487ce3cf5dbfd03684</td>\n",
       "      <td>{\"cutoff\": \"quantile_0.25\", \"eval_fairness_gro...</td>\n",
       "      <td>31.131534</td>\n",
       "      <td>89710</td>\n",
       "      <td>1.0</td>\n",
       "      <td>0.153362</td>\n",
       "      <td>0.819127</td>\n",
       "      <td>0.139616</td>\n",
       "      <td>0.837210</td>\n",
       "      <td>...</td>\n",
       "      <td>NaN</td>\n",
       "      <td>NaN</td>\n",
       "      <td>NaN</td>\n",
       "      <td>NaN</td>\n",
       "      <td>NaN</td>\n",
       "      <td>NaN</td>\n",
       "      <td>NaN</td>\n",
       "      <td>NaN</td>\n",
       "      <td>NaN</td>\n",
       "      <td>NaN</td>\n",
       "    </tr>\n",
       "    <tr>\n",
       "      <th>0</th>\n",
       "      <td>15</td>\n",
       "      <td>8c18a54c433851487ce3cf5dbfd03684</td>\n",
       "      <td>{\"cutoff\": \"quantile_0.25\", \"eval_fairness_gro...</td>\n",
       "      <td>31.131534</td>\n",
       "      <td>89710</td>\n",
       "      <td>1.0</td>\n",
       "      <td>0.153362</td>\n",
       "      <td>0.819127</td>\n",
       "      <td>0.139616</td>\n",
       "      <td>0.837210</td>\n",
       "      <td>...</td>\n",
       "      <td>0.125341</td>\n",
       "      <td>0.160532</td>\n",
       "      <td>0.847898</td>\n",
       "      <td>0.694536</td>\n",
       "      <td>0.067568</td>\n",
       "      <td>0.127681</td>\n",
       "      <td>0.857644</td>\n",
       "      <td>0.718028</td>\n",
       "      <td>20540.0</td>\n",
       "      <td>69170.0</td>\n",
       "    </tr>\n",
       "  </tbody>\n",
       "</table>\n",
       "<p>4 rows × 50 columns</p>\n",
       "</div>"
      ],
      "text/plain": [
       "  run_no                       universe_id  \\\n",
       "0     15  8c18a54c433851487ce3cf5dbfd03684   \n",
       "0     15  8c18a54c433851487ce3cf5dbfd03684   \n",
       "0     15  8c18a54c433851487ce3cf5dbfd03684   \n",
       "0     15  8c18a54c433851487ce3cf5dbfd03684   \n",
       "\n",
       "                                   universe_settings  execution_time  \\\n",
       "0  {\"cutoff\": \"quantile_0.1\", \"eval_fairness_grou...       31.131534   \n",
       "0  {\"cutoff\": \"quantile_0.1\", \"eval_fairness_grou...       31.131534   \n",
       "0  {\"cutoff\": \"quantile_0.25\", \"eval_fairness_gro...       31.131534   \n",
       "0  {\"cutoff\": \"quantile_0.25\", \"eval_fairness_gro...       31.131534   \n",
       "\n",
       "   test_size_n  test_size_frac  fair_main_equalized_odds_difference  \\\n",
       "0        89710             1.0                             0.069496   \n",
       "0        89710             1.0                             0.069496   \n",
       "0        89710             1.0                             0.153362   \n",
       "0        89710             1.0                             0.153362   \n",
       "\n",
       "   fair_main_equalized_odds_ratio  fair_main_demographic_parity_difference  \\\n",
       "0                        0.926419                                 0.063143   \n",
       "0                        0.926419                                 0.063143   \n",
       "0                        0.819127                                 0.139616   \n",
       "0                        0.819127                                 0.139616   \n",
       "\n",
       "   fair_main_demographic_parity_ratio  ...  perf_grp_precision_0  \\\n",
       "0                            0.933442  ...                   NaN   \n",
       "0                            0.933442  ...              0.119214   \n",
       "0                            0.837210  ...                   NaN   \n",
       "0                            0.837210  ...              0.125341   \n",
       "\n",
       "   perf_grp_precision_1  perf_grp_false positive rate_0  \\\n",
       "0                   NaN                             NaN   \n",
       "0              0.142491                        0.944475   \n",
       "0                   NaN                             NaN   \n",
       "0              0.160532                        0.847898   \n",
       "\n",
       "   perf_grp_false positive rate_1  perf_grp_false negative rate_0  \\\n",
       "0                             NaN                             NaN   \n",
       "0                        0.874979                        0.019003   \n",
       "0                             NaN                             NaN   \n",
       "0                        0.694536                        0.067568   \n",
       "\n",
       "   perf_grp_false negative rate_1  perf_grp_selection rate_0  \\\n",
       "0                             NaN                        NaN   \n",
       "0                        0.045077                   0.948685   \n",
       "0                             NaN                        NaN   \n",
       "0                        0.127681                   0.857644   \n",
       "\n",
       "   perf_grp_selection rate_1  perf_grp_count_0  perf_grp_count_1  \n",
       "0                        NaN               NaN               NaN  \n",
       "0                   0.885543           20540.0           69170.0  \n",
       "0                        NaN               NaN               NaN  \n",
       "0                   0.718028           20540.0           69170.0  \n",
       "\n",
       "[4 rows x 50 columns]"
      ]
     },
     "execution_count": 66,
     "metadata": {},
     "output_type": "execute_result"
    }
   ],
   "source": [
    "final_output = universe_analysis.generate_final_output(\n",
    "    y_pred_prob=probs_test,\n",
    "    y_test=y_true,\n",
    "    org_test=org_test,\n",
    "    filter_data=filter_sub_universe_data,\n",
    "    cp_metrics_df=cp_metrics_df,\n",
    "    save=True,\n",
    ")\n",
    "final_output"
   ]
  }
 ],
 "metadata": {
  "celltoolbar": "Tags",
  "kernelspec": {
   "display_name": "Python (CMA Fairness)",
   "language": "python",
   "name": "cma_fair_env"
  },
  "language_info": {
   "codemirror_mode": {
    "name": "ipython",
    "version": 3
   },
   "file_extension": ".py",
   "mimetype": "text/x-python",
   "name": "python",
   "nbconvert_exporter": "python",
   "pygments_lexer": "ipython3",
   "version": "3.10.12"
  },
  "papermill": {
   "default_parameters": {},
   "duration": 48.022241,
   "end_time": "2025-08-05T16:22:44.514805",
   "environment_variables": {},
   "exception": null,
   "input_path": "universe_analysis.ipynb",
   "output_path": "output/runs/15/notebooks/m_15-8c18a54c433851487ce3cf5dbfd03684.ipynb",
   "parameters": {
    "output_dir": "output",
    "run_no": "15",
    "seed": "2023",
    "universe": "{\"cutoff\": [\"quantile_0.1\", \"quantile_0.25\"], \"eval_fairness_grouping\": [\"majority-minority\", \"nationality-all\"], \"exclude_features\": \"none\", \"exclude_subgroups\": \"drop-non-german\", \"model\": \"elasticnet\", \"scale\": \"scale\", \"training_size\": \"1k\", \"training_year\": \"2012_14\"}",
    "universe_id": "8c18a54c433851487ce3cf5dbfd03684"
   },
   "start_time": "2025-08-05T16:21:56.492564",
   "version": "2.6.0"
  }
 },
 "nbformat": 4,
 "nbformat_minor": 5
}