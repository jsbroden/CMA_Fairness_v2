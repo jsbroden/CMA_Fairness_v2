{
 "cells": [
  {
   "cell_type": "code",
   "execution_count": 1,
   "id": "f159f837-637b-42ba-96b5-ec9a68c44524",
   "metadata": {
    "execution": {
     "iopub.execute_input": "2025-08-05T15:13:33.922127Z",
     "iopub.status.busy": "2025-08-05T15:13:33.921618Z",
     "iopub.status.idle": "2025-08-05T15:13:33.934354Z",
     "shell.execute_reply": "2025-08-05T15:13:33.933484Z"
    },
    "papermill": {
     "duration": 0.031411,
     "end_time": "2025-08-05T15:13:33.935664",
     "exception": false,
     "start_time": "2025-08-05T15:13:33.904253",
     "status": "completed"
    },
    "tags": []
   },
   "outputs": [
    {
     "name": "stdout",
     "output_type": "stream",
     "text": [
      "/dss/dsshome1/0C/ra93lal2/cma/CMA_Fairness_v2\n"
     ]
    },
    {
     "name": "stderr",
     "output_type": "stream",
     "text": [
      "/dss/dsshome1/0C/ra93lal2/.local/share/virtualenvs/CMA_Fairness_v2-3j10GkSs/lib/python3.10/site-packages/IPython/core/magics/osm.py:393: UserWarning: This is now an optional IPython functionality, using bookmarks requires you to install the `pickleshare` library.\n",
      "  bkms = self.shell.db.get('bookmarks', {})\n",
      "/dss/dsshome1/0C/ra93lal2/.local/share/virtualenvs/CMA_Fairness_v2-3j10GkSs/lib/python3.10/site-packages/IPython/core/magics/osm.py:417: UserWarning: This is now an optional IPython functionality, setting dhist requires you to install the `pickleshare` library.\n",
      "  self.shell.db['dhist'] = compress_dhist(dhist)[-100:]\n"
     ]
    }
   ],
   "source": [
    "%cd ~/cma/CMA_Fairness_v2"
   ]
  },
  {
   "cell_type": "markdown",
   "id": "de2603b9",
   "metadata": {
    "papermill": {
     "duration": 0.015934,
     "end_time": "2025-08-05T15:13:33.961211",
     "exception": false,
     "start_time": "2025-08-05T15:13:33.945277",
     "status": "completed"
    },
    "tags": []
   },
   "source": [
    "The following cell holds the definition of our parameters, these values can be overriden by rendering the with e.g. the following command:\n",
    "\n",
    "papermill -p alpha 0.2 -p ratio 0.3 universe_analysis.ipynb output/test_run.ipynb"
   ]
  },
  {
   "cell_type": "code",
   "execution_count": 2,
   "id": "a80968a0-40bb-4fa9-85ef-2d5eefb01975",
   "metadata": {
    "execution": {
     "iopub.execute_input": "2025-08-05T15:13:33.995419Z",
     "iopub.status.busy": "2025-08-05T15:13:33.994923Z",
     "iopub.status.idle": "2025-08-05T15:13:34.000877Z",
     "shell.execute_reply": "2025-08-05T15:13:33.999704Z"
    },
    "papermill": {
     "duration": 0.025624,
     "end_time": "2025-08-05T15:13:34.002590",
     "exception": false,
     "start_time": "2025-08-05T15:13:33.976966",
     "status": "completed"
    },
    "tags": []
   },
   "outputs": [
    {
     "name": "stdout",
     "output_type": "stream",
     "text": [
      "Current working directory: /dss/dsshome1/0C/ra93lal2/cma/CMA_Fairness_v2\n"
     ]
    }
   ],
   "source": [
    "import os\n",
    "print(\"Current working directory:\", os.getcwd())"
   ]
  },
  {
   "cell_type": "code",
   "execution_count": 3,
   "id": "2dce4c03",
   "metadata": {
    "execution": {
     "iopub.execute_input": "2025-08-05T15:13:34.022688Z",
     "iopub.status.busy": "2025-08-05T15:13:34.022249Z",
     "iopub.status.idle": "2025-08-05T15:13:34.028892Z",
     "shell.execute_reply": "2025-08-05T15:13:34.028006Z"
    },
    "papermill": {
     "duration": 0.018062,
     "end_time": "2025-08-05T15:13:34.030477",
     "exception": false,
     "start_time": "2025-08-05T15:13:34.012415",
     "status": "completed"
    },
    "tags": [
     "parameters"
    ]
   },
   "outputs": [],
   "source": [
    "run_no = 0\n",
    "universe_id = \"test\"\n",
    "universe = {\n",
    "    \"training_size\": \"25k\", # \"25k\", \"5k\", \"1k\"\n",
    "    \"training_year\": \"2014\", # \"2014\", \"2012_14\", \"2010_14\"\n",
    "    \"scale\": \"scale\", # \"scale\", \"do-not-scale\",\n",
    "    \"model\": \"elasticnet\", # \"logreg\", \"penalized_logreg\", \"rf\", \"gbm\", \"elasticnet\"\n",
    "    \"cutoff\": [\"quantile_0.15\", \"quantile_0.30\"],\n",
    "    \"exclude_features\": \"age\", # \"none\", \"nationality\", \"sex\", \"nationality-sex\", \"age\"\n",
    "    \"exclude_subgroups\": \"keep-all\", # \"keep-all\", \"drop-non-german\"\n",
    "    \"eval_fairness_grouping\": [\"majority-minority\", \"nationality-all\"]\n",
    "}\n",
    "\n",
    "output_dir=\"./output\"\n",
    "seed=0"
   ]
  },
  {
   "cell_type": "code",
   "execution_count": 4,
   "id": "a3b05b23",
   "metadata": {
    "execution": {
     "iopub.execute_input": "2025-08-05T15:13:34.050293Z",
     "iopub.status.busy": "2025-08-05T15:13:34.049881Z",
     "iopub.status.idle": "2025-08-05T15:13:34.054927Z",
     "shell.execute_reply": "2025-08-05T15:13:34.053559Z"
    },
    "papermill": {
     "duration": 0.016876,
     "end_time": "2025-08-05T15:13:34.057108",
     "exception": false,
     "start_time": "2025-08-05T15:13:34.040232",
     "status": "completed"
    },
    "tags": [
     "injected-parameters"
    ]
   },
   "outputs": [],
   "source": [
    "# Parameters\n",
    "universe_id = \"66b2281b24d37ba30f3ca90a36032dc8\"\n",
    "run_no = \"15\"\n",
    "universe = \"{\\\"cutoff\\\": [\\\"quantile_0.1\\\", \\\"quantile_0.25\\\"], \\\"eval_fairness_grouping\\\": [\\\"majority-minority\\\", \\\"nationality-all\\\"], \\\"exclude_features\\\": \\\"nationality\\\", \\\"exclude_subgroups\\\": \\\"keep-all\\\", \\\"model\\\": \\\"penalized_logreg\\\", \\\"scale\\\": \\\"do-not-scale\\\", \\\"training_size\\\": \\\"25k\\\", \\\"training_year\\\": \\\"2010_14\\\"}\"\n",
    "output_dir = \"output\"\n",
    "seed = \"2023\"\n"
   ]
  },
  {
   "cell_type": "code",
   "execution_count": 5,
   "id": "1650acaf",
   "metadata": {
    "execution": {
     "iopub.execute_input": "2025-08-05T15:13:34.094297Z",
     "iopub.status.busy": "2025-08-05T15:13:34.093799Z",
     "iopub.status.idle": "2025-08-05T15:13:34.099564Z",
     "shell.execute_reply": "2025-08-05T15:13:34.098481Z"
    },
    "papermill": {
     "duration": 0.025918,
     "end_time": "2025-08-05T15:13:34.101418",
     "exception": false,
     "start_time": "2025-08-05T15:13:34.075500",
     "status": "completed"
    },
    "tags": []
   },
   "outputs": [],
   "source": [
    "import json\n",
    "if isinstance(universe, str):\n",
    "    universe = json.loads(universe)"
   ]
  },
  {
   "cell_type": "code",
   "execution_count": 6,
   "id": "16620c48",
   "metadata": {
    "execution": {
     "iopub.execute_input": "2025-08-05T15:13:34.138914Z",
     "iopub.status.busy": "2025-08-05T15:13:34.138196Z",
     "iopub.status.idle": "2025-08-05T15:13:34.182638Z",
     "shell.execute_reply": "2025-08-05T15:13:34.181585Z"
    },
    "papermill": {
     "duration": 0.066019,
     "end_time": "2025-08-05T15:13:34.184786",
     "exception": false,
     "start_time": "2025-08-05T15:13:34.118767",
     "status": "completed"
    },
    "tags": []
   },
   "outputs": [],
   "source": [
    "# Auto-reload the custom package\n",
    "%load_ext autoreload\n",
    "%autoreload 1\n",
    "%aimport fairness_multiverse"
   ]
  },
  {
   "cell_type": "code",
   "execution_count": 7,
   "id": "01c5c9f3",
   "metadata": {
    "execution": {
     "iopub.execute_input": "2025-08-05T15:13:34.232676Z",
     "iopub.status.busy": "2025-08-05T15:13:34.231998Z",
     "iopub.status.idle": "2025-08-05T15:13:36.222589Z",
     "shell.execute_reply": "2025-08-05T15:13:36.221778Z"
    },
    "papermill": {
     "duration": 2.015852,
     "end_time": "2025-08-05T15:13:36.224159",
     "exception": false,
     "start_time": "2025-08-05T15:13:34.208307",
     "status": "completed"
    },
    "tags": []
   },
   "outputs": [],
   "source": [
    "from fairness_multiverse.universe import UniverseAnalysis\n",
    "\n",
    "universe_analysis = UniverseAnalysis(\n",
    "    run_no = run_no,\n",
    "    universe_id = universe_id,\n",
    "    universe = universe,\n",
    "    output_dir=output_dir,\n",
    ")"
   ]
  },
  {
   "cell_type": "code",
   "execution_count": 8,
   "id": "106241f5",
   "metadata": {
    "execution": {
     "iopub.execute_input": "2025-08-05T15:13:36.244063Z",
     "iopub.status.busy": "2025-08-05T15:13:36.243691Z",
     "iopub.status.idle": "2025-08-05T15:13:36.249866Z",
     "shell.execute_reply": "2025-08-05T15:13:36.248522Z"
    },
    "papermill": {
     "duration": 0.017932,
     "end_time": "2025-08-05T15:13:36.251441",
     "exception": false,
     "start_time": "2025-08-05T15:13:36.233509",
     "status": "completed"
    },
    "tags": []
   },
   "outputs": [
    {
     "name": "stdout",
     "output_type": "stream",
     "text": [
      "Using Seed: 2023\n"
     ]
    }
   ],
   "source": [
    "import numpy as np\n",
    "parsed_seed = int(seed)\n",
    "np.random.seed(parsed_seed)\n",
    "print(f\"Using Seed: {parsed_seed}\")"
   ]
  },
  {
   "cell_type": "markdown",
   "id": "e0ebdc57",
   "metadata": {
    "papermill": {
     "duration": 0.019883,
     "end_time": "2025-08-05T15:13:36.281423",
     "exception": false,
     "start_time": "2025-08-05T15:13:36.261540",
     "status": "completed"
    },
    "tags": []
   },
   "source": [
    "# Loading Data"
   ]
  },
  {
   "cell_type": "code",
   "execution_count": 9,
   "id": "f0496b8a",
   "metadata": {
    "execution": {
     "iopub.execute_input": "2025-08-05T15:13:36.321237Z",
     "iopub.status.busy": "2025-08-05T15:13:36.320304Z",
     "iopub.status.idle": "2025-08-05T15:13:48.099062Z",
     "shell.execute_reply": "2025-08-05T15:13:48.098153Z"
    },
    "papermill": {
     "duration": 11.800229,
     "end_time": "2025-08-05T15:13:48.100399",
     "exception": false,
     "start_time": "2025-08-05T15:13:36.300170",
     "status": "completed"
    },
    "tags": []
   },
   "outputs": [
    {
     "name": "stdout",
     "output_type": "stream",
     "text": [
      "Loading SIAB data from cache: data/siab_cached.csv.gz\n"
     ]
    },
    {
     "name": "stdout",
     "output_type": "stream",
     "text": [
      "(643690, 164)\n"
     ]
    }
   ],
   "source": [
    "from pathlib import Path\n",
    "import pandas as pd\n",
    "\n",
    "# File paths\n",
    "raw_file = Path(\"data/raw/siab.csv\")\n",
    "cache_file = Path(\"data/siab_cached.csv.gz\")\n",
    "\n",
    "# Ensure cache directory exists\n",
    "cache_file.parent.mkdir(parents=True, exist_ok=True)\n",
    "\n",
    "# Load with simple caching\n",
    "if cache_file.exists():\n",
    "    print(f\"Loading SIAB data from cache: {cache_file}\")\n",
    "    siab = pd.read_csv(cache_file, compression='gzip')\n",
    "else:\n",
    "    print(f\"Cache not found. Reading raw SIAB data: {raw_file}\")\n",
    "    siab = pd.read_csv(raw_file)\n",
    "    siab.to_csv(cache_file, index=False, compression='gzip')\n",
    "    print(f\"Cached SIAB data to: {cache_file}\")\n",
    "\n",
    "print(siab.shape)"
   ]
  },
  {
   "cell_type": "code",
   "execution_count": 10,
   "id": "db0ca512-5f53-4dba-abdb-a2888bca41ba",
   "metadata": {
    "execution": {
     "iopub.execute_input": "2025-08-05T15:13:48.127380Z",
     "iopub.status.busy": "2025-08-05T15:13:48.126653Z",
     "iopub.status.idle": "2025-08-05T15:13:48.131837Z",
     "shell.execute_reply": "2025-08-05T15:13:48.131014Z"
    },
    "papermill": {
     "duration": 0.020516,
     "end_time": "2025-08-05T15:13:48.133101",
     "exception": false,
     "start_time": "2025-08-05T15:13:48.112585",
     "status": "completed"
    },
    "tags": []
   },
   "outputs": [],
   "source": [
    "#siab"
   ]
  },
  {
   "cell_type": "markdown",
   "id": "997051c5-15bd-4b69-9786-c3001a3ce484",
   "metadata": {
    "papermill": {
     "duration": 0.008826,
     "end_time": "2025-08-05T15:13:48.152143",
     "exception": false,
     "start_time": "2025-08-05T15:13:48.143317",
     "status": "completed"
    },
    "tags": []
   },
   "source": [
    "# Splitting Data and Setting Training Data Size"
   ]
  },
  {
   "cell_type": "code",
   "execution_count": 11,
   "id": "aea9c6ef-6f46-42c8-85eb-5a62025c1508",
   "metadata": {
    "execution": {
     "iopub.execute_input": "2025-08-05T15:13:48.174588Z",
     "iopub.status.busy": "2025-08-05T15:13:48.174367Z",
     "iopub.status.idle": "2025-08-05T15:13:49.285459Z",
     "shell.execute_reply": "2025-08-05T15:13:49.284379Z"
    },
    "papermill": {
     "duration": 1.124876,
     "end_time": "2025-08-05T15:13:49.287603",
     "exception": false,
     "start_time": "2025-08-05T15:13:48.162727",
     "status": "completed"
    },
    "tags": []
   },
   "outputs": [],
   "source": [
    "from fairness_multiverse.universe import sample_by_year_size\n",
    "\n",
    "siab_train = sample_by_year_size(siab,\n",
    "                               training_year=universe[\"training_year\"],\n",
    "                               training_size=universe[\"training_size\"])"
   ]
  },
  {
   "cell_type": "code",
   "execution_count": 12,
   "id": "8d3afb32-789d-442c-8d5d-9f5aa8dd2eed",
   "metadata": {
    "execution": {
     "iopub.execute_input": "2025-08-05T15:13:49.320680Z",
     "iopub.status.busy": "2025-08-05T15:13:49.320367Z",
     "iopub.status.idle": "2025-08-05T15:13:49.325478Z",
     "shell.execute_reply": "2025-08-05T15:13:49.324287Z"
    },
    "papermill": {
     "duration": 0.02059,
     "end_time": "2025-08-05T15:13:49.327502",
     "exception": false,
     "start_time": "2025-08-05T15:13:49.306912",
     "status": "completed"
    },
    "tags": []
   },
   "outputs": [],
   "source": [
    "#siab_train.shape"
   ]
  },
  {
   "cell_type": "code",
   "execution_count": 13,
   "id": "d582db68-1a4c-47fb-84fc-08518dc1975a",
   "metadata": {
    "execution": {
     "iopub.execute_input": "2025-08-05T15:13:49.370305Z",
     "iopub.status.busy": "2025-08-05T15:13:49.369441Z",
     "iopub.status.idle": "2025-08-05T15:13:49.374694Z",
     "shell.execute_reply": "2025-08-05T15:13:49.373688Z"
    },
    "papermill": {
     "duration": 0.028152,
     "end_time": "2025-08-05T15:13:49.376368",
     "exception": false,
     "start_time": "2025-08-05T15:13:49.348216",
     "status": "completed"
    },
    "tags": []
   },
   "outputs": [],
   "source": [
    "#display(siab_train.groupby(\"year\").size())"
   ]
  },
  {
   "cell_type": "code",
   "execution_count": 14,
   "id": "a561edb4-d032-42cb-8256-22eac1111c64",
   "metadata": {
    "execution": {
     "iopub.execute_input": "2025-08-05T15:13:49.398110Z",
     "iopub.status.busy": "2025-08-05T15:13:49.397712Z",
     "iopub.status.idle": "2025-08-05T15:13:49.669113Z",
     "shell.execute_reply": "2025-08-05T15:13:49.668097Z"
    },
    "papermill": {
     "duration": 0.282733,
     "end_time": "2025-08-05T15:13:49.670545",
     "exception": false,
     "start_time": "2025-08-05T15:13:49.387812",
     "status": "completed"
    },
    "tags": []
   },
   "outputs": [],
   "source": [
    "#siab_train = siab_s[siab_s.year < 2015]\n",
    "siab_calib = siab[siab.year == 2015]\n",
    "siab_test = siab[siab.year == 2016]"
   ]
  },
  {
   "cell_type": "code",
   "execution_count": 15,
   "id": "472de16f-c3db-4916-846b-1f0de9cf1746",
   "metadata": {
    "execution": {
     "iopub.execute_input": "2025-08-05T15:13:49.707024Z",
     "iopub.status.busy": "2025-08-05T15:13:49.706337Z",
     "iopub.status.idle": "2025-08-05T15:13:49.724466Z",
     "shell.execute_reply": "2025-08-05T15:13:49.723270Z"
    },
    "papermill": {
     "duration": 0.038893,
     "end_time": "2025-08-05T15:13:49.726101",
     "exception": false,
     "start_time": "2025-08-05T15:13:49.687208",
     "status": "completed"
    },
    "tags": []
   },
   "outputs": [],
   "source": [
    "X_train = siab_train.iloc[:,4:164]\n",
    "y_train = siab_train.iloc[:, [3]]"
   ]
  },
  {
   "cell_type": "code",
   "execution_count": 16,
   "id": "828c96af-f43a-4ed6-ba47-8ac73a47d56c",
   "metadata": {
    "execution": {
     "iopub.execute_input": "2025-08-05T15:13:49.764235Z",
     "iopub.status.busy": "2025-08-05T15:13:49.763340Z",
     "iopub.status.idle": "2025-08-05T15:13:49.815681Z",
     "shell.execute_reply": "2025-08-05T15:13:49.814615Z"
    },
    "papermill": {
     "duration": 0.074961,
     "end_time": "2025-08-05T15:13:49.818218",
     "exception": false,
     "start_time": "2025-08-05T15:13:49.743257",
     "status": "completed"
    },
    "tags": []
   },
   "outputs": [],
   "source": [
    "X_calib = siab_calib.iloc[:,4:164]\n",
    "y_calib = siab_calib.iloc[:, [3]]"
   ]
  },
  {
   "cell_type": "code",
   "execution_count": 17,
   "id": "c34be9c3-6bd6-476e-acd3-845840e303be",
   "metadata": {
    "execution": {
     "iopub.execute_input": "2025-08-05T15:13:49.862080Z",
     "iopub.status.busy": "2025-08-05T15:13:49.861210Z",
     "iopub.status.idle": "2025-08-05T15:13:49.914176Z",
     "shell.execute_reply": "2025-08-05T15:13:49.913153Z"
    },
    "papermill": {
     "duration": 0.072798,
     "end_time": "2025-08-05T15:13:49.915815",
     "exception": false,
     "start_time": "2025-08-05T15:13:49.843017",
     "status": "completed"
    },
    "tags": []
   },
   "outputs": [],
   "source": [
    "X_test = siab_test.iloc[:,4:164]\n",
    "y_true = siab_test.iloc[:, [3]]"
   ]
  },
  {
   "cell_type": "code",
   "execution_count": 18,
   "id": "e6c733c5",
   "metadata": {
    "execution": {
     "iopub.execute_input": "2025-08-05T15:13:49.952681Z",
     "iopub.status.busy": "2025-08-05T15:13:49.952181Z",
     "iopub.status.idle": "2025-08-05T15:13:50.054536Z",
     "shell.execute_reply": "2025-08-05T15:13:50.053613Z"
    },
    "papermill": {
     "duration": 0.121519,
     "end_time": "2025-08-05T15:13:50.056230",
     "exception": false,
     "start_time": "2025-08-05T15:13:49.934711",
     "status": "completed"
    },
    "tags": []
   },
   "outputs": [],
   "source": [
    "# Auxiliary data needed downstream in the pipeline\n",
    "\n",
    "org_train = X_train.copy()\n",
    "org_test = X_test.copy()\n",
    "org_calib = X_calib.copy()"
   ]
  },
  {
   "cell_type": "markdown",
   "id": "0a4a1b33",
   "metadata": {
    "papermill": {
     "duration": 0.017132,
     "end_time": "2025-08-05T15:13:50.090488",
     "exception": false,
     "start_time": "2025-08-05T15:13:50.073356",
     "status": "completed"
    },
    "tags": []
   },
   "source": [
    "# Preprocessing Data"
   ]
  },
  {
   "cell_type": "code",
   "execution_count": 19,
   "id": "ca879031",
   "metadata": {
    "execution": {
     "iopub.execute_input": "2025-08-05T15:13:50.126451Z",
     "iopub.status.busy": "2025-08-05T15:13:50.125807Z",
     "iopub.status.idle": "2025-08-05T15:13:50.131710Z",
     "shell.execute_reply": "2025-08-05T15:13:50.130748Z"
    },
    "papermill": {
     "duration": 0.025108,
     "end_time": "2025-08-05T15:13:50.133415",
     "exception": false,
     "start_time": "2025-08-05T15:13:50.108307",
     "status": "completed"
    },
    "tags": []
   },
   "outputs": [],
   "source": [
    "# EXCLUDE PROTECTED FEATURES\n",
    "# ----------------------\n",
    "# \"exclude_features\": \"none\", # \"nationality\", \"sex\", \"nationality-sex\"\n",
    "\n",
    "excluded_features = universe[\"exclude_features\"].split(\"-\") # split, e.g.: \"nationality-sex\" -> [\"nationality\", \"sex\"]\n",
    "excluded_features_dictionary = {\n",
    "    \"nationality\": [\"maxdeutsch1\", \"maxdeutsch.Missing.\"],\n",
    "    \"sex\": [\"frau1\"],\n",
    "    \"age\": [\"age\"],\n",
    "}"
   ]
  },
  {
   "cell_type": "code",
   "execution_count": 20,
   "id": "b745ac60",
   "metadata": {
    "execution": {
     "iopub.execute_input": "2025-08-05T15:13:50.169029Z",
     "iopub.status.busy": "2025-08-05T15:13:50.168619Z",
     "iopub.status.idle": "2025-08-05T15:13:50.173132Z",
     "shell.execute_reply": "2025-08-05T15:13:50.172399Z"
    },
    "papermill": {
     "duration": 0.02401,
     "end_time": "2025-08-05T15:13:50.174786",
     "exception": false,
     "start_time": "2025-08-05T15:13:50.150776",
     "status": "completed"
    },
    "tags": []
   },
   "outputs": [],
   "source": [
    "# Code nice names to column names\n",
    "\n",
    "excluded_features_columns = [\n",
    "    excluded_features_dictionary[f] for f in excluded_features if len(f) > 0 and f != \"none\"\n",
    "]"
   ]
  },
  {
   "cell_type": "code",
   "execution_count": 21,
   "id": "f84f73a2",
   "metadata": {
    "execution": {
     "iopub.execute_input": "2025-08-05T15:13:50.208805Z",
     "iopub.status.busy": "2025-08-05T15:13:50.208446Z",
     "iopub.status.idle": "2025-08-05T15:13:50.213242Z",
     "shell.execute_reply": "2025-08-05T15:13:50.212214Z"
    },
    "papermill": {
     "duration": 0.023116,
     "end_time": "2025-08-05T15:13:50.214882",
     "exception": false,
     "start_time": "2025-08-05T15:13:50.191766",
     "status": "completed"
    },
    "tags": []
   },
   "outputs": [],
   "source": [
    "from utils import flatten_once\n",
    "\n",
    "excluded_features_columns = flatten_once(excluded_features_columns)"
   ]
  },
  {
   "cell_type": "code",
   "execution_count": 22,
   "id": "884dea22",
   "metadata": {
    "execution": {
     "iopub.execute_input": "2025-08-05T15:13:50.251098Z",
     "iopub.status.busy": "2025-08-05T15:13:50.250317Z",
     "iopub.status.idle": "2025-08-05T15:13:50.266690Z",
     "shell.execute_reply": "2025-08-05T15:13:50.265679Z"
    },
    "papermill": {
     "duration": 0.035763,
     "end_time": "2025-08-05T15:13:50.268406",
     "exception": false,
     "start_time": "2025-08-05T15:13:50.232643",
     "status": "completed"
    },
    "tags": []
   },
   "outputs": [
    {
     "name": "stdout",
     "output_type": "stream",
     "text": [
      "Dropping features: ['maxdeutsch1', 'maxdeutsch.Missing.']\n"
     ]
    }
   ],
   "source": [
    "if len(excluded_features_columns) > 0:\n",
    "    print(f\"Dropping features: {excluded_features_columns}\")\n",
    "    X_train.drop(excluded_features_columns, axis=1, inplace=True)"
   ]
  },
  {
   "cell_type": "code",
   "execution_count": 23,
   "id": "95ab8b16",
   "metadata": {
    "execution": {
     "iopub.execute_input": "2025-08-05T15:13:50.310168Z",
     "iopub.status.busy": "2025-08-05T15:13:50.309511Z",
     "iopub.status.idle": "2025-08-05T15:13:50.386940Z",
     "shell.execute_reply": "2025-08-05T15:13:50.385599Z"
    },
    "papermill": {
     "duration": 0.099081,
     "end_time": "2025-08-05T15:13:50.388863",
     "exception": false,
     "start_time": "2025-08-05T15:13:50.289782",
     "status": "completed"
    },
    "tags": []
   },
   "outputs": [
    {
     "name": "stdout",
     "output_type": "stream",
     "text": [
      "Dropping features: ['maxdeutsch1', 'maxdeutsch.Missing.']\n"
     ]
    }
   ],
   "source": [
    "if len(excluded_features_columns) > 0:\n",
    "    print(f\"Dropping features: {excluded_features_columns}\")\n",
    "    X_test.drop(excluded_features_columns, axis=1, inplace=True)"
   ]
  },
  {
   "cell_type": "code",
   "execution_count": 24,
   "id": "1853aaf5-fb9f-46cb-a2b5-8ea4ae2237e4",
   "metadata": {
    "execution": {
     "iopub.execute_input": "2025-08-05T15:13:50.431977Z",
     "iopub.status.busy": "2025-08-05T15:13:50.431366Z",
     "iopub.status.idle": "2025-08-05T15:13:50.499170Z",
     "shell.execute_reply": "2025-08-05T15:13:50.497900Z"
    },
    "papermill": {
     "duration": 0.091343,
     "end_time": "2025-08-05T15:13:50.501629",
     "exception": false,
     "start_time": "2025-08-05T15:13:50.410286",
     "status": "completed"
    },
    "tags": []
   },
   "outputs": [
    {
     "name": "stdout",
     "output_type": "stream",
     "text": [
      "Dropping features: ['maxdeutsch1', 'maxdeutsch.Missing.']\n"
     ]
    }
   ],
   "source": [
    "if len(excluded_features_columns) > 0:\n",
    "    print(f\"Dropping features: {excluded_features_columns}\")\n",
    "    X_calib.drop(excluded_features_columns, axis=1, inplace=True)"
   ]
  },
  {
   "cell_type": "code",
   "execution_count": 25,
   "id": "76c4dc6d",
   "metadata": {
    "execution": {
     "iopub.execute_input": "2025-08-05T15:13:50.543351Z",
     "iopub.status.busy": "2025-08-05T15:13:50.542692Z",
     "iopub.status.idle": "2025-08-05T15:13:50.548320Z",
     "shell.execute_reply": "2025-08-05T15:13:50.547330Z"
    },
    "papermill": {
     "duration": 0.027394,
     "end_time": "2025-08-05T15:13:50.550207",
     "exception": false,
     "start_time": "2025-08-05T15:13:50.522813",
     "status": "completed"
    },
    "tags": []
   },
   "outputs": [],
   "source": [
    "# EXCLUDE CERTAIN SUBGROUPS\n",
    "# ----------------------\n",
    "\n",
    "mode = universe.get(\"exclude_subgroups\", \"keep-all\") \n",
    "# Fetches the exclude_subgroups setting from the universe dict.\n",
    "# Defaults to \"keep-all\" if the key is missing."
   ]
  },
  {
   "cell_type": "code",
   "execution_count": 26,
   "id": "21994072",
   "metadata": {
    "execution": {
     "iopub.execute_input": "2025-08-05T15:13:50.588706Z",
     "iopub.status.busy": "2025-08-05T15:13:50.588044Z",
     "iopub.status.idle": "2025-08-05T15:13:50.594583Z",
     "shell.execute_reply": "2025-08-05T15:13:50.593590Z"
    },
    "papermill": {
     "duration": 0.028208,
     "end_time": "2025-08-05T15:13:50.596548",
     "exception": false,
     "start_time": "2025-08-05T15:13:50.568340",
     "status": "completed"
    },
    "tags": []
   },
   "outputs": [],
   "source": [
    "if mode == \"keep-all\":\n",
    "    keep_mask = pd.Series(True, index=org_train.index)\n",
    "\n",
    "# org_train contains the original feature columns from features_org (in Simson)\n",
    "# features_org contains unprocessed features, for me X_train at beginning ???\n",
    "# For keep-all, creates a boolean Series (keep_mask) of all True, so no rows are removed.\n",
    "\n",
    "elif mode == \"drop-non-german\":\n",
    "    keep_mask = org_train[\"maxdeutsch1\"] == 1 # ??? what about missing values?\n",
    "\n",
    "else:\n",
    "    raise ValueError(f\"Unsupported mode for exclude_subgroups: {mode}\")"
   ]
  },
  {
   "cell_type": "code",
   "execution_count": 27,
   "id": "71651440",
   "metadata": {
    "execution": {
     "iopub.execute_input": "2025-08-05T15:13:50.641392Z",
     "iopub.status.busy": "2025-08-05T15:13:50.641087Z",
     "iopub.status.idle": "2025-08-05T15:13:50.648174Z",
     "shell.execute_reply": "2025-08-05T15:13:50.646142Z"
    },
    "papermill": {
     "duration": 0.03128,
     "end_time": "2025-08-05T15:13:50.650133",
     "exception": false,
     "start_time": "2025-08-05T15:13:50.618853",
     "status": "completed"
    },
    "tags": []
   },
   "outputs": [],
   "source": [
    "n_drop = (~keep_mask).sum() # Calculates how many rows are set to be dropped\n",
    "if n_drop > 0:\n",
    "    pct = n_drop / len(keep_mask) * 100\n",
    "    print(f\"Dropping {n_drop} rows ({pct:.2f}%) where mode='{mode}'\")"
   ]
  },
  {
   "cell_type": "code",
   "execution_count": 28,
   "id": "5fb8eee5",
   "metadata": {
    "execution": {
     "iopub.execute_input": "2025-08-05T15:13:50.691292Z",
     "iopub.status.busy": "2025-08-05T15:13:50.690737Z",
     "iopub.status.idle": "2025-08-05T15:13:50.705808Z",
     "shell.execute_reply": "2025-08-05T15:13:50.704639Z"
    },
    "papermill": {
     "duration": 0.037333,
     "end_time": "2025-08-05T15:13:50.707723",
     "exception": false,
     "start_time": "2025-08-05T15:13:50.670390",
     "status": "completed"
    },
    "tags": []
   },
   "outputs": [],
   "source": [
    "X_train = X_train[keep_mask]"
   ]
  },
  {
   "cell_type": "code",
   "execution_count": 29,
   "id": "b202bb3a",
   "metadata": {
    "execution": {
     "iopub.execute_input": "2025-08-05T15:13:50.747748Z",
     "iopub.status.busy": "2025-08-05T15:13:50.747071Z",
     "iopub.status.idle": "2025-08-05T15:13:50.753279Z",
     "shell.execute_reply": "2025-08-05T15:13:50.752360Z"
    },
    "papermill": {
     "duration": 0.028792,
     "end_time": "2025-08-05T15:13:50.754969",
     "exception": false,
     "start_time": "2025-08-05T15:13:50.726177",
     "status": "completed"
    },
    "tags": []
   },
   "outputs": [],
   "source": [
    "y_train = y_train[keep_mask]"
   ]
  },
  {
   "cell_type": "markdown",
   "id": "493e2ac3",
   "metadata": {
    "papermill": {
     "duration": 0.016822,
     "end_time": "2025-08-05T15:13:50.789146",
     "exception": false,
     "start_time": "2025-08-05T15:13:50.772324",
     "status": "completed"
    },
    "tags": []
   },
   "source": [
    "# Model Training"
   ]
  },
  {
   "cell_type": "code",
   "execution_count": 30,
   "id": "679e1268",
   "metadata": {
    "execution": {
     "iopub.execute_input": "2025-08-05T15:13:50.830917Z",
     "iopub.status.busy": "2025-08-05T15:13:50.830467Z",
     "iopub.status.idle": "2025-08-05T15:13:50.939753Z",
     "shell.execute_reply": "2025-08-05T15:13:50.938826Z"
    },
    "papermill": {
     "duration": 0.132326,
     "end_time": "2025-08-05T15:13:50.941714",
     "exception": false,
     "start_time": "2025-08-05T15:13:50.809388",
     "status": "completed"
    },
    "tags": []
   },
   "outputs": [],
   "source": [
    "from sklearn.linear_model import LogisticRegression\n",
    "from sklearn.ensemble import GradientBoostingClassifier, RandomForestClassifier\n",
    "\n",
    "if (universe[\"model\"] == \"logreg\"):\n",
    "    model = LogisticRegression() #penalty=\"none\", solver=\"newton-cg\", max_iter=1) # include random_state=19 ?\n",
    "elif (universe[\"model\"] == \"penalized_logreg\"):\n",
    "    model = LogisticRegression(penalty=\"l2\", C=0.1) #, solver=\"newton-cg\", max_iter=1)\n",
    "elif (universe[\"model\"] == \"rf\"):\n",
    "    model = RandomForestClassifier() # n_estimators=100, n_jobs=-1\n",
    "elif (universe[\"model\"] == \"gbm\"):\n",
    "    model = GradientBoostingClassifier()\n",
    "elif (universe[\"model\"] == \"elasticnet\"):\n",
    "    model = LogisticRegression(penalty = 'elasticnet', solver = 'saga', l1_ratio = 0.5) # max_iter=5000\n",
    "else:\n",
    "    raise \"Unsupported universe.model\""
   ]
  },
  {
   "cell_type": "code",
   "execution_count": 31,
   "id": "0cc8f744",
   "metadata": {
    "execution": {
     "iopub.execute_input": "2025-08-05T15:13:50.988935Z",
     "iopub.status.busy": "2025-08-05T15:13:50.988037Z",
     "iopub.status.idle": "2025-08-05T15:13:50.994887Z",
     "shell.execute_reply": "2025-08-05T15:13:50.993881Z"
    },
    "papermill": {
     "duration": 0.031589,
     "end_time": "2025-08-05T15:13:50.996686",
     "exception": false,
     "start_time": "2025-08-05T15:13:50.965097",
     "status": "completed"
    },
    "tags": []
   },
   "outputs": [],
   "source": [
    "import numpy as np\n",
    "from sklearn.pipeline import Pipeline\n",
    "from sklearn.preprocessing import StandardScaler\n",
    "\n",
    "model = Pipeline([\n",
    "    #(\"continuous_processor\", continuous_processor),\n",
    "    #(\"categorical_preprocessor\", categorical_preprocessor),\n",
    "    (\"scale\", StandardScaler() if universe[\"scale\"] == \"scale\" else None), \n",
    "    (\"model\", model),\n",
    "])"
   ]
  },
  {
   "cell_type": "code",
   "execution_count": 32,
   "id": "9442c04d",
   "metadata": {
    "execution": {
     "iopub.execute_input": "2025-08-05T15:13:51.034008Z",
     "iopub.status.busy": "2025-08-05T15:13:51.033589Z",
     "iopub.status.idle": "2025-08-05T15:13:51.648759Z",
     "shell.execute_reply": "2025-08-05T15:13:51.647676Z"
    },
    "papermill": {
     "duration": 0.635429,
     "end_time": "2025-08-05T15:13:51.650629",
     "exception": false,
     "start_time": "2025-08-05T15:13:51.015200",
     "status": "completed"
    },
    "tags": []
   },
   "outputs": [
    {
     "name": "stderr",
     "output_type": "stream",
     "text": [
      "/dss/dsshome1/0C/ra93lal2/.local/share/virtualenvs/CMA_Fairness_v2-3j10GkSs/lib/python3.10/site-packages/sklearn/linear_model/_logistic.py:444: ConvergenceWarning: lbfgs failed to converge (status=1):\n",
      "STOP: TOTAL NO. of ITERATIONS REACHED LIMIT.\n",
      "\n",
      "Increase the number of iterations (max_iter) or scale the data as shown in:\n",
      "    https://scikit-learn.org/stable/modules/preprocessing.html\n",
      "Please also refer to the documentation for alternative solver options:\n",
      "    https://scikit-learn.org/stable/modules/linear_model.html#logistic-regression\n",
      "  n_iter_i = _check_optimize_result(\n"
     ]
    },
    {
     "data": {
      "text/html": [
       "<style>#sk-container-id-1 {color: black;background-color: white;}#sk-container-id-1 pre{padding: 0;}#sk-container-id-1 div.sk-toggleable {background-color: white;}#sk-container-id-1 label.sk-toggleable__label {cursor: pointer;display: block;width: 100%;margin-bottom: 0;padding: 0.3em;box-sizing: border-box;text-align: center;}#sk-container-id-1 label.sk-toggleable__label-arrow:before {content: \"▸\";float: left;margin-right: 0.25em;color: #696969;}#sk-container-id-1 label.sk-toggleable__label-arrow:hover:before {color: black;}#sk-container-id-1 div.sk-estimator:hover label.sk-toggleable__label-arrow:before {color: black;}#sk-container-id-1 div.sk-toggleable__content {max-height: 0;max-width: 0;overflow: hidden;text-align: left;background-color: #f0f8ff;}#sk-container-id-1 div.sk-toggleable__content pre {margin: 0.2em;color: black;border-radius: 0.25em;background-color: #f0f8ff;}#sk-container-id-1 input.sk-toggleable__control:checked~div.sk-toggleable__content {max-height: 200px;max-width: 100%;overflow: auto;}#sk-container-id-1 input.sk-toggleable__control:checked~label.sk-toggleable__label-arrow:before {content: \"▾\";}#sk-container-id-1 div.sk-estimator input.sk-toggleable__control:checked~label.sk-toggleable__label {background-color: #d4ebff;}#sk-container-id-1 div.sk-label input.sk-toggleable__control:checked~label.sk-toggleable__label {background-color: #d4ebff;}#sk-container-id-1 input.sk-hidden--visually {border: 0;clip: rect(1px 1px 1px 1px);clip: rect(1px, 1px, 1px, 1px);height: 1px;margin: -1px;overflow: hidden;padding: 0;position: absolute;width: 1px;}#sk-container-id-1 div.sk-estimator {font-family: monospace;background-color: #f0f8ff;border: 1px dotted black;border-radius: 0.25em;box-sizing: border-box;margin-bottom: 0.5em;}#sk-container-id-1 div.sk-estimator:hover {background-color: #d4ebff;}#sk-container-id-1 div.sk-parallel-item::after {content: \"\";width: 100%;border-bottom: 1px solid gray;flex-grow: 1;}#sk-container-id-1 div.sk-label:hover label.sk-toggleable__label {background-color: #d4ebff;}#sk-container-id-1 div.sk-serial::before {content: \"\";position: absolute;border-left: 1px solid gray;box-sizing: border-box;top: 0;bottom: 0;left: 50%;z-index: 0;}#sk-container-id-1 div.sk-serial {display: flex;flex-direction: column;align-items: center;background-color: white;padding-right: 0.2em;padding-left: 0.2em;position: relative;}#sk-container-id-1 div.sk-item {position: relative;z-index: 1;}#sk-container-id-1 div.sk-parallel {display: flex;align-items: stretch;justify-content: center;background-color: white;position: relative;}#sk-container-id-1 div.sk-item::before, #sk-container-id-1 div.sk-parallel-item::before {content: \"\";position: absolute;border-left: 1px solid gray;box-sizing: border-box;top: 0;bottom: 0;left: 50%;z-index: -1;}#sk-container-id-1 div.sk-parallel-item {display: flex;flex-direction: column;z-index: 1;position: relative;background-color: white;}#sk-container-id-1 div.sk-parallel-item:first-child::after {align-self: flex-end;width: 50%;}#sk-container-id-1 div.sk-parallel-item:last-child::after {align-self: flex-start;width: 50%;}#sk-container-id-1 div.sk-parallel-item:only-child::after {width: 0;}#sk-container-id-1 div.sk-dashed-wrapped {border: 1px dashed gray;margin: 0 0.4em 0.5em 0.4em;box-sizing: border-box;padding-bottom: 0.4em;background-color: white;}#sk-container-id-1 div.sk-label label {font-family: monospace;font-weight: bold;display: inline-block;line-height: 1.2em;}#sk-container-id-1 div.sk-label-container {text-align: center;}#sk-container-id-1 div.sk-container {/* jupyter's `normalize.less` sets `[hidden] { display: none; }` but bootstrap.min.css set `[hidden] { display: none !important; }` so we also need the `!important` here to be able to override the default hidden behavior on the sphinx rendered scikit-learn.org. See: https://github.com/scikit-learn/scikit-learn/issues/21755 */display: inline-block !important;position: relative;}#sk-container-id-1 div.sk-text-repr-fallback {display: none;}</style><div id=\"sk-container-id-1\" class=\"sk-top-container\"><div class=\"sk-text-repr-fallback\"><pre>Pipeline(steps=[(&#x27;scale&#x27;, None), (&#x27;model&#x27;, LogisticRegression(C=0.1))])</pre><b>In a Jupyter environment, please rerun this cell to show the HTML representation or trust the notebook. <br />On GitHub, the HTML representation is unable to render, please try loading this page with nbviewer.org.</b></div><div class=\"sk-container\" hidden><div class=\"sk-item sk-dashed-wrapped\"><div class=\"sk-label-container\"><div class=\"sk-label sk-toggleable\"><input class=\"sk-toggleable__control sk-hidden--visually\" id=\"sk-estimator-id-1\" type=\"checkbox\" ><label for=\"sk-estimator-id-1\" class=\"sk-toggleable__label sk-toggleable__label-arrow\">Pipeline</label><div class=\"sk-toggleable__content\"><pre>Pipeline(steps=[(&#x27;scale&#x27;, None), (&#x27;model&#x27;, LogisticRegression(C=0.1))])</pre></div></div></div><div class=\"sk-serial\"><div class=\"sk-item\"><div class=\"sk-estimator sk-toggleable\"><input class=\"sk-toggleable__control sk-hidden--visually\" id=\"sk-estimator-id-2\" type=\"checkbox\" ><label for=\"sk-estimator-id-2\" class=\"sk-toggleable__label sk-toggleable__label-arrow\">None</label><div class=\"sk-toggleable__content\"><pre>None</pre></div></div></div><div class=\"sk-item\"><div class=\"sk-estimator sk-toggleable\"><input class=\"sk-toggleable__control sk-hidden--visually\" id=\"sk-estimator-id-3\" type=\"checkbox\" ><label for=\"sk-estimator-id-3\" class=\"sk-toggleable__label sk-toggleable__label-arrow\">LogisticRegression</label><div class=\"sk-toggleable__content\"><pre>LogisticRegression(C=0.1)</pre></div></div></div></div></div></div></div>"
      ],
      "text/plain": [
       "Pipeline(steps=[('scale', None), ('model', LogisticRegression(C=0.1))])"
      ]
     },
     "execution_count": 32,
     "metadata": {},
     "output_type": "execute_result"
    }
   ],
   "source": [
    "model.fit(X_train, y_train.values.ravel())"
   ]
  },
  {
   "cell_type": "code",
   "execution_count": 33,
   "id": "af59f8c0",
   "metadata": {
    "execution": {
     "iopub.execute_input": "2025-08-05T15:13:51.693486Z",
     "iopub.status.busy": "2025-08-05T15:13:51.692713Z",
     "iopub.status.idle": "2025-08-05T15:13:51.697745Z",
     "shell.execute_reply": "2025-08-05T15:13:51.696870Z"
    },
    "papermill": {
     "duration": 0.028153,
     "end_time": "2025-08-05T15:13:51.699339",
     "exception": false,
     "start_time": "2025-08-05T15:13:51.671186",
     "status": "completed"
    },
    "tags": []
   },
   "outputs": [],
   "source": [
    "from fairness_multiverse.universe import predict_w_threshold"
   ]
  },
  {
   "cell_type": "code",
   "execution_count": 34,
   "id": "a7cf2e16",
   "metadata": {
    "execution": {
     "iopub.execute_input": "2025-08-05T15:13:51.742594Z",
     "iopub.status.busy": "2025-08-05T15:13:51.741810Z",
     "iopub.status.idle": "2025-08-05T15:13:51.835351Z",
     "shell.execute_reply": "2025-08-05T15:13:51.834430Z"
    },
    "papermill": {
     "duration": 0.116811,
     "end_time": "2025-08-05T15:13:51.836950",
     "exception": false,
     "start_time": "2025-08-05T15:13:51.720139",
     "status": "completed"
    },
    "tags": []
   },
   "outputs": [
    {
     "data": {
      "text/plain": [
       "0.8602051053394271"
      ]
     },
     "execution_count": 34,
     "metadata": {},
     "output_type": "execute_result"
    }
   ],
   "source": [
    "probs_test = model.predict_proba(X_test)\n",
    "\n",
    "'''\n",
    "Below code returns a boolean array (or binary 0/1 array depending on how it’s used) where each element \n",
    "is True if the probability of class 1 is greater than or equal to the threshold, and False otherwise.\n",
    "'''\n",
    "y_pred_default = predict_w_threshold(probs_test, 0.5)\n",
    "\n",
    "from sklearn.metrics import accuracy_score\n",
    "\n",
    "# Naive prediction\n",
    "accuracy_score(y_true = y_true, y_pred = y_pred_default)"
   ]
  },
  {
   "cell_type": "code",
   "execution_count": 35,
   "id": "081964c3",
   "metadata": {
    "execution": {
     "iopub.execute_input": "2025-08-05T15:13:51.880469Z",
     "iopub.status.busy": "2025-08-05T15:13:51.880034Z",
     "iopub.status.idle": "2025-08-05T15:13:51.960964Z",
     "shell.execute_reply": "2025-08-05T15:13:51.960067Z"
    },
    "papermill": {
     "duration": 0.103716,
     "end_time": "2025-08-05T15:13:51.962695",
     "exception": false,
     "start_time": "2025-08-05T15:13:51.858979",
     "status": "completed"
    },
    "tags": []
   },
   "outputs": [
    {
     "data": {
      "text/plain": [
       "array([0, 0, 0, ..., 0, 0, 0])"
      ]
     },
     "execution_count": 35,
     "metadata": {},
     "output_type": "execute_result"
    }
   ],
   "source": [
    "model.predict(X_test)"
   ]
  },
  {
   "cell_type": "markdown",
   "id": "56c9705b",
   "metadata": {
    "papermill": {
     "duration": 0.02048,
     "end_time": "2025-08-05T15:13:52.003476",
     "exception": false,
     "start_time": "2025-08-05T15:13:51.982996",
     "status": "completed"
    },
    "tags": []
   },
   "source": [
    "# Conformal Prediction"
   ]
  },
  {
   "cell_type": "code",
   "execution_count": 36,
   "id": "160ec6ff",
   "metadata": {
    "execution": {
     "iopub.execute_input": "2025-08-05T15:13:52.047239Z",
     "iopub.status.busy": "2025-08-05T15:13:52.046796Z",
     "iopub.status.idle": "2025-08-05T15:13:52.052192Z",
     "shell.execute_reply": "2025-08-05T15:13:52.051213Z"
    },
    "papermill": {
     "duration": 0.027754,
     "end_time": "2025-08-05T15:13:52.054018",
     "exception": false,
     "start_time": "2025-08-05T15:13:52.026264",
     "status": "completed"
    },
    "tags": []
   },
   "outputs": [],
   "source": [
    "# Miscoverage level for conformal prediction (10% allowed error rate => 90% target coverage)\n",
    "alpha = 0.1"
   ]
  },
  {
   "cell_type": "code",
   "execution_count": 37,
   "id": "eadf4555-3dd3-440e-8e35-f82a4ad9f855",
   "metadata": {
    "execution": {
     "iopub.execute_input": "2025-08-05T15:13:52.096658Z",
     "iopub.status.busy": "2025-08-05T15:13:52.096320Z",
     "iopub.status.idle": "2025-08-05T15:13:52.182318Z",
     "shell.execute_reply": "2025-08-05T15:13:52.180906Z"
    },
    "papermill": {
     "duration": 0.109606,
     "end_time": "2025-08-05T15:13:52.184323",
     "exception": false,
     "start_time": "2025-08-05T15:13:52.074717",
     "status": "completed"
    },
    "tags": []
   },
   "outputs": [],
   "source": [
    "probs_calib = model.predict_proba(X_calib)"
   ]
  },
  {
   "cell_type": "code",
   "execution_count": 38,
   "id": "2ed93547-6d5d-4983-9b36-1ecb300da49a",
   "metadata": {
    "execution": {
     "iopub.execute_input": "2025-08-05T15:13:52.229425Z",
     "iopub.status.busy": "2025-08-05T15:13:52.228651Z",
     "iopub.status.idle": "2025-08-05T15:13:52.234894Z",
     "shell.execute_reply": "2025-08-05T15:13:52.233879Z"
    },
    "papermill": {
     "duration": 0.029808,
     "end_time": "2025-08-05T15:13:52.236915",
     "exception": false,
     "start_time": "2025-08-05T15:13:52.207107",
     "status": "completed"
    },
    "tags": []
   },
   "outputs": [],
   "source": [
    "y_calib = y_calib.values.ravel().astype(int)"
   ]
  },
  {
   "cell_type": "code",
   "execution_count": 39,
   "id": "65d1320d-f588-4b38-9072-62af1ae97f7d",
   "metadata": {
    "execution": {
     "iopub.execute_input": "2025-08-05T15:13:52.280405Z",
     "iopub.status.busy": "2025-08-05T15:13:52.279864Z",
     "iopub.status.idle": "2025-08-05T15:13:52.287219Z",
     "shell.execute_reply": "2025-08-05T15:13:52.286230Z"
    },
    "papermill": {
     "duration": 0.03033,
     "end_time": "2025-08-05T15:13:52.288941",
     "exception": false,
     "start_time": "2025-08-05T15:13:52.258611",
     "status": "completed"
    },
    "tags": []
   },
   "outputs": [],
   "source": [
    "from fairness_multiverse.conformal import compute_nc_scores\n",
    "\n",
    "# Compute nonconformity scores on calibration set (1 - probability of true class)\n",
    "nc_scores = compute_nc_scores(probs_calib, y_calib)"
   ]
  },
  {
   "cell_type": "code",
   "execution_count": 40,
   "id": "df3b8ca3-53b7-43d5-9667-7c85da7aeda2",
   "metadata": {
    "execution": {
     "iopub.execute_input": "2025-08-05T15:13:52.331879Z",
     "iopub.status.busy": "2025-08-05T15:13:52.331460Z",
     "iopub.status.idle": "2025-08-05T15:13:52.337726Z",
     "shell.execute_reply": "2025-08-05T15:13:52.336673Z"
    },
    "papermill": {
     "duration": 0.028485,
     "end_time": "2025-08-05T15:13:52.339365",
     "exception": false,
     "start_time": "2025-08-05T15:13:52.310880",
     "status": "completed"
    },
    "tags": []
   },
   "outputs": [],
   "source": [
    "from fairness_multiverse.conformal import find_threshold\n",
    "\n",
    "# Find conformal threshold q_hat for the given alpha (split conformal method)\n",
    "q_hat = find_threshold(nc_scores, alpha)"
   ]
  },
  {
   "cell_type": "code",
   "execution_count": 41,
   "id": "4d29e6c1-0ef6-4aa4-b8fe-4fe79b0d033a",
   "metadata": {
    "execution": {
     "iopub.execute_input": "2025-08-05T15:13:52.381011Z",
     "iopub.status.busy": "2025-08-05T15:13:52.380412Z",
     "iopub.status.idle": "2025-08-05T15:13:52.388193Z",
     "shell.execute_reply": "2025-08-05T15:13:52.387206Z"
    },
    "papermill": {
     "duration": 0.029564,
     "end_time": "2025-08-05T15:13:52.389884",
     "exception": false,
     "start_time": "2025-08-05T15:13:52.360320",
     "status": "completed"
    },
    "tags": []
   },
   "outputs": [
    {
     "data": {
      "text/plain": [
       "0.6738893209507034"
      ]
     },
     "execution_count": 41,
     "metadata": {},
     "output_type": "execute_result"
    }
   ],
   "source": [
    "q_hat"
   ]
  },
  {
   "cell_type": "code",
   "execution_count": 42,
   "id": "92460794-cdac-4be2-ba28-f28c0515a6fb",
   "metadata": {
    "execution": {
     "iopub.execute_input": "2025-08-05T15:13:52.427757Z",
     "iopub.status.busy": "2025-08-05T15:13:52.427382Z",
     "iopub.status.idle": "2025-08-05T15:13:53.192461Z",
     "shell.execute_reply": "2025-08-05T15:13:53.191539Z"
    },
    "papermill": {
     "duration": 0.784993,
     "end_time": "2025-08-05T15:13:53.194378",
     "exception": false,
     "start_time": "2025-08-05T15:13:52.409385",
     "status": "completed"
    },
    "tags": []
   },
   "outputs": [],
   "source": [
    "from fairness_multiverse.conformal import predict_conformal_sets\n",
    "\n",
    "# Generate prediction sets for each test example\n",
    "pred_sets = predict_conformal_sets(model, X_test, q_hat)"
   ]
  },
  {
   "cell_type": "code",
   "execution_count": 43,
   "id": "d90c9a65-e6db-4f5d-80cd-e68fb7e46829",
   "metadata": {
    "execution": {
     "iopub.execute_input": "2025-08-05T15:13:53.238750Z",
     "iopub.status.busy": "2025-08-05T15:13:53.238332Z",
     "iopub.status.idle": "2025-08-05T15:13:53.243992Z",
     "shell.execute_reply": "2025-08-05T15:13:53.242968Z"
    },
    "papermill": {
     "duration": 0.029813,
     "end_time": "2025-08-05T15:13:53.245822",
     "exception": false,
     "start_time": "2025-08-05T15:13:53.216009",
     "status": "completed"
    },
    "tags": []
   },
   "outputs": [],
   "source": [
    "y_true = y_true.squeeze()"
   ]
  },
  {
   "cell_type": "code",
   "execution_count": 44,
   "id": "3a58a54a-1e68-46b9-927a-df01f18aebc8",
   "metadata": {
    "execution": {
     "iopub.execute_input": "2025-08-05T15:13:53.291413Z",
     "iopub.status.busy": "2025-08-05T15:13:53.290896Z",
     "iopub.status.idle": "2025-08-05T15:13:54.303955Z",
     "shell.execute_reply": "2025-08-05T15:13:54.302977Z"
    },
    "papermill": {
     "duration": 1.037557,
     "end_time": "2025-08-05T15:13:54.305693",
     "exception": false,
     "start_time": "2025-08-05T15:13:53.268136",
     "status": "completed"
    },
    "tags": []
   },
   "outputs": [],
   "source": [
    "from fairness_multiverse.conformal import evaluate_sets\n",
    "\n",
    "# Evaluate coverage and average set size on test data\n",
    "metrics = evaluate_sets(pred_sets, y_true)"
   ]
  },
  {
   "cell_type": "markdown",
   "id": "2b569c12-9aaa-4c88-98c9-bbcd0cf3ebb8",
   "metadata": {
    "papermill": {
     "duration": 0.020622,
     "end_time": "2025-08-05T15:13:54.348111",
     "exception": false,
     "start_time": "2025-08-05T15:13:54.327489",
     "status": "completed"
    },
    "tags": []
   },
   "source": [
    "# CP Metrics"
   ]
  },
  {
   "cell_type": "code",
   "execution_count": 45,
   "id": "5ce0a5cb-201f-45a0-ade5-94c7f0bd6095",
   "metadata": {
    "execution": {
     "iopub.execute_input": "2025-08-05T15:13:54.389779Z",
     "iopub.status.busy": "2025-08-05T15:13:54.389286Z",
     "iopub.status.idle": "2025-08-05T15:13:54.396161Z",
     "shell.execute_reply": "2025-08-05T15:13:54.395219Z"
    },
    "papermill": {
     "duration": 0.029889,
     "end_time": "2025-08-05T15:13:54.397914",
     "exception": false,
     "start_time": "2025-08-05T15:13:54.368025",
     "status": "completed"
    },
    "tags": []
   },
   "outputs": [
    {
     "data": {
      "text/plain": [
       "{'coverage': 0.9110244119942036, 'avg_size': 1.19821647530933}"
      ]
     },
     "execution_count": 45,
     "metadata": {},
     "output_type": "execute_result"
    }
   ],
   "source": [
    "metrics"
   ]
  },
  {
   "cell_type": "code",
   "execution_count": 46,
   "id": "9b9a838d-31c9-430b-ae14-12baee460d17",
   "metadata": {
    "execution": {
     "iopub.execute_input": "2025-08-05T15:13:54.441097Z",
     "iopub.status.busy": "2025-08-05T15:13:54.440331Z",
     "iopub.status.idle": "2025-08-05T15:13:54.446508Z",
     "shell.execute_reply": "2025-08-05T15:13:54.445626Z"
    },
    "papermill": {
     "duration": 0.029223,
     "end_time": "2025-08-05T15:13:54.448170",
     "exception": false,
     "start_time": "2025-08-05T15:13:54.418947",
     "status": "completed"
    },
    "tags": []
   },
   "outputs": [],
   "source": [
    "example_universe = universe.copy()\n",
    "universe_training_year = example_universe.get(\"training_year\")\n",
    "universe_training_size = example_universe.get(\"training_size\")\n",
    "universe_scale = example_universe.get(\"scale\")\n",
    "universe_model = example_universe.get(\"model\")\n",
    "universe_exclude_features = example_universe.get(\"exclude_features\")\n",
    "universe_exclude_subgroups = example_universe.get(\"exclude_subgroups\")"
   ]
  },
  {
   "cell_type": "code",
   "execution_count": 47,
   "id": "f4b6a8ac-9dc0-4245-8a91-5b3b5999c4f9",
   "metadata": {
    "execution": {
     "iopub.execute_input": "2025-08-05T15:13:54.492200Z",
     "iopub.status.busy": "2025-08-05T15:13:54.491368Z",
     "iopub.status.idle": "2025-08-05T15:13:54.498311Z",
     "shell.execute_reply": "2025-08-05T15:13:54.497147Z"
    },
    "papermill": {
     "duration": 0.030687,
     "end_time": "2025-08-05T15:13:54.500442",
     "exception": false,
     "start_time": "2025-08-05T15:13:54.469755",
     "status": "completed"
    },
    "tags": []
   },
   "outputs": [],
   "source": [
    "cp_metrics_dict = {\n",
    "    \"universe_id\": [universe_id],\n",
    "    \"universe_training_year\": [universe_training_year],\n",
    "    \"universe_training_size\": [universe_training_size],\n",
    "    \"universe_scale\": [universe_scale],\n",
    "    \"universe_model\": [universe_model],\n",
    "    \"universe_exclude_features\": [universe_exclude_features],\n",
    "    \"universe_exclude_subgroups\": [universe_exclude_subgroups],\n",
    "    \"q_hat\": [q_hat],\n",
    "    \"coverage\": [metrics[\"coverage\"]],\n",
    "    \"avg_size\": [metrics[\"avg_size\"]],\n",
    "}"
   ]
  },
  {
   "cell_type": "code",
   "execution_count": 48,
   "id": "908acbb1-0371-4915-85ca-3fa520d2efe2",
   "metadata": {
    "execution": {
     "iopub.execute_input": "2025-08-05T15:13:54.557792Z",
     "iopub.status.busy": "2025-08-05T15:13:54.556931Z",
     "iopub.status.idle": "2025-08-05T15:13:54.564798Z",
     "shell.execute_reply": "2025-08-05T15:13:54.563667Z"
    },
    "papermill": {
     "duration": 0.038057,
     "end_time": "2025-08-05T15:13:54.566652",
     "exception": false,
     "start_time": "2025-08-05T15:13:54.528595",
     "status": "completed"
    },
    "tags": []
   },
   "outputs": [
    {
     "data": {
      "text/plain": [
       "{'universe_id': ['66b2281b24d37ba30f3ca90a36032dc8'],\n",
       " 'universe_training_year': ['2010_14'],\n",
       " 'universe_training_size': ['25k'],\n",
       " 'universe_scale': ['do-not-scale'],\n",
       " 'universe_model': ['penalized_logreg'],\n",
       " 'universe_exclude_features': ['nationality'],\n",
       " 'universe_exclude_subgroups': ['keep-all'],\n",
       " 'q_hat': [0.6738893209507034],\n",
       " 'coverage': [0.9110244119942036],\n",
       " 'avg_size': [1.19821647530933]}"
      ]
     },
     "execution_count": 48,
     "metadata": {},
     "output_type": "execute_result"
    }
   ],
   "source": [
    "cp_metrics_dict"
   ]
  },
  {
   "cell_type": "code",
   "execution_count": 49,
   "id": "33007efc-14e9-4ec6-97ac-56a455c82265",
   "metadata": {
    "execution": {
     "iopub.execute_input": "2025-08-05T15:13:54.610143Z",
     "iopub.status.busy": "2025-08-05T15:13:54.609378Z",
     "iopub.status.idle": "2025-08-05T15:13:54.615478Z",
     "shell.execute_reply": "2025-08-05T15:13:54.614435Z"
    },
    "papermill": {
     "duration": 0.02879,
     "end_time": "2025-08-05T15:13:54.617115",
     "exception": false,
     "start_time": "2025-08-05T15:13:54.588325",
     "status": "completed"
    },
    "tags": []
   },
   "outputs": [],
   "source": [
    "cp_metrics_df = pd.DataFrame(cp_metrics_dict)"
   ]
  },
  {
   "cell_type": "code",
   "execution_count": 50,
   "id": "db12611b-57b2-4910-b9d0-355adfd6e7bf",
   "metadata": {
    "execution": {
     "iopub.execute_input": "2025-08-05T15:13:54.661682Z",
     "iopub.status.busy": "2025-08-05T15:13:54.660964Z",
     "iopub.status.idle": "2025-08-05T15:13:54.678889Z",
     "shell.execute_reply": "2025-08-05T15:13:54.678023Z"
    },
    "papermill": {
     "duration": 0.041261,
     "end_time": "2025-08-05T15:13:54.680418",
     "exception": false,
     "start_time": "2025-08-05T15:13:54.639157",
     "status": "completed"
    },
    "tags": []
   },
   "outputs": [
    {
     "data": {
      "text/html": [
       "<div>\n",
       "<style scoped>\n",
       "    .dataframe tbody tr th:only-of-type {\n",
       "        vertical-align: middle;\n",
       "    }\n",
       "\n",
       "    .dataframe tbody tr th {\n",
       "        vertical-align: top;\n",
       "    }\n",
       "\n",
       "    .dataframe thead th {\n",
       "        text-align: right;\n",
       "    }\n",
       "</style>\n",
       "<table border=\"1\" class=\"dataframe\">\n",
       "  <thead>\n",
       "    <tr style=\"text-align: right;\">\n",
       "      <th></th>\n",
       "      <th>universe_id</th>\n",
       "      <th>universe_training_year</th>\n",
       "      <th>universe_training_size</th>\n",
       "      <th>universe_scale</th>\n",
       "      <th>universe_model</th>\n",
       "      <th>universe_exclude_features</th>\n",
       "      <th>universe_exclude_subgroups</th>\n",
       "      <th>q_hat</th>\n",
       "      <th>coverage</th>\n",
       "      <th>avg_size</th>\n",
       "    </tr>\n",
       "  </thead>\n",
       "  <tbody>\n",
       "    <tr>\n",
       "      <th>0</th>\n",
       "      <td>66b2281b24d37ba30f3ca90a36032dc8</td>\n",
       "      <td>2010_14</td>\n",
       "      <td>25k</td>\n",
       "      <td>do-not-scale</td>\n",
       "      <td>penalized_logreg</td>\n",
       "      <td>nationality</td>\n",
       "      <td>keep-all</td>\n",
       "      <td>0.673889</td>\n",
       "      <td>0.911024</td>\n",
       "      <td>1.198216</td>\n",
       "    </tr>\n",
       "  </tbody>\n",
       "</table>\n",
       "</div>"
      ],
      "text/plain": [
       "                        universe_id universe_training_year  \\\n",
       "0  66b2281b24d37ba30f3ca90a36032dc8                2010_14   \n",
       "\n",
       "  universe_training_size universe_scale    universe_model  \\\n",
       "0                    25k   do-not-scale  penalized_logreg   \n",
       "\n",
       "  universe_exclude_features universe_exclude_subgroups     q_hat  coverage  \\\n",
       "0               nationality                   keep-all  0.673889  0.911024   \n",
       "\n",
       "   avg_size  \n",
       "0  1.198216  "
      ]
     },
     "execution_count": 50,
     "metadata": {},
     "output_type": "execute_result"
    }
   ],
   "source": [
    "cp_metrics_df"
   ]
  },
  {
   "cell_type": "code",
   "execution_count": 51,
   "id": "b7fbde55-a0a1-47e4-9af6-fe4a17fa8c61",
   "metadata": {
    "execution": {
     "iopub.execute_input": "2025-08-05T15:13:54.724969Z",
     "iopub.status.busy": "2025-08-05T15:13:54.724240Z",
     "iopub.status.idle": "2025-08-05T15:13:54.729232Z",
     "shell.execute_reply": "2025-08-05T15:13:54.728226Z"
    },
    "papermill": {
     "duration": 0.028519,
     "end_time": "2025-08-05T15:13:54.730927",
     "exception": false,
     "start_time": "2025-08-05T15:13:54.702408",
     "status": "completed"
    },
    "tags": []
   },
   "outputs": [],
   "source": [
    "# Conditional Coverage & looking at subgroups"
   ]
  },
  {
   "cell_type": "code",
   "execution_count": 52,
   "id": "027ae886-68dd-4141-96c7-805a5450e1ef",
   "metadata": {
    "execution": {
     "iopub.execute_input": "2025-08-05T15:13:54.775672Z",
     "iopub.status.busy": "2025-08-05T15:13:54.775054Z",
     "iopub.status.idle": "2025-08-05T15:13:55.021223Z",
     "shell.execute_reply": "2025-08-05T15:13:55.020210Z"
    },
    "papermill": {
     "duration": 0.270742,
     "end_time": "2025-08-05T15:13:55.023206",
     "exception": false,
     "start_time": "2025-08-05T15:13:54.752464",
     "status": "completed"
    },
    "tags": []
   },
   "outputs": [],
   "source": [
    "from fairness_multiverse.conformal import build_cp_groups\n",
    "\n",
    "cp_groups_df = build_cp_groups(pred_sets, y_true, X_test.index, org_test)\n",
    "#needs universe_id and setting"
   ]
  },
  {
   "cell_type": "code",
   "execution_count": 53,
   "id": "6cbdab96-b2b2-45af-ad54-d0516db2e28d",
   "metadata": {
    "execution": {
     "iopub.execute_input": "2025-08-05T15:13:55.067402Z",
     "iopub.status.busy": "2025-08-05T15:13:55.066793Z",
     "iopub.status.idle": "2025-08-05T15:13:56.560344Z",
     "shell.execute_reply": "2025-08-05T15:13:56.559330Z"
    },
    "papermill": {
     "duration": 1.517133,
     "end_time": "2025-08-05T15:13:56.562427",
     "exception": false,
     "start_time": "2025-08-05T15:13:55.045294",
     "status": "completed"
    },
    "tags": []
   },
   "outputs": [],
   "source": [
    "# Define covered = 1 if true_label is in the predicted set\n",
    "cp_groups_df['covered'] = cp_groups_df.apply(\n",
    "    lambda r: int(r['true_label'] in r['pred_set']),\n",
    "    axis=1\n",
    ")"
   ]
  },
  {
   "cell_type": "code",
   "execution_count": 54,
   "id": "338ff529-1a6b-4b87-a931-8e4788d52aad",
   "metadata": {
    "execution": {
     "iopub.execute_input": "2025-08-05T15:13:56.596257Z",
     "iopub.status.busy": "2025-08-05T15:13:56.595871Z",
     "iopub.status.idle": "2025-08-05T15:13:56.601262Z",
     "shell.execute_reply": "2025-08-05T15:13:56.600153Z"
    },
    "papermill": {
     "duration": 0.019421,
     "end_time": "2025-08-05T15:13:56.603369",
     "exception": false,
     "start_time": "2025-08-05T15:13:56.583948",
     "status": "completed"
    },
    "tags": []
   },
   "outputs": [],
   "source": [
    "#cp_groups_df"
   ]
  },
  {
   "cell_type": "code",
   "execution_count": 55,
   "id": "90032e27-66df-4540-9169-4e89cfbaa758",
   "metadata": {
    "execution": {
     "iopub.execute_input": "2025-08-05T15:13:56.652538Z",
     "iopub.status.busy": "2025-08-05T15:13:56.651693Z",
     "iopub.status.idle": "2025-08-05T15:13:56.664456Z",
     "shell.execute_reply": "2025-08-05T15:13:56.663421Z"
    },
    "papermill": {
     "duration": 0.038825,
     "end_time": "2025-08-05T15:13:56.666094",
     "exception": false,
     "start_time": "2025-08-05T15:13:56.627269",
     "status": "completed"
    },
    "tags": []
   },
   "outputs": [],
   "source": [
    "subgroups = ['frau1','nongerman','nongerman_male','nongerman_female']\n",
    "\n",
    "# Conditional coverage for subgroup==1\n",
    "cond_coverage = {\n",
    "    g: cp_groups_df.loc[cp_groups_df[g]==1, 'covered'].mean()\n",
    "    for g in subgroups\n",
    "}"
   ]
  },
  {
   "cell_type": "code",
   "execution_count": 56,
   "id": "1e348fb1-b9c3-45bc-ba23-f016827a7e0d",
   "metadata": {
    "execution": {
     "iopub.execute_input": "2025-08-05T15:13:56.715733Z",
     "iopub.status.busy": "2025-08-05T15:13:56.715235Z",
     "iopub.status.idle": "2025-08-05T15:13:56.723588Z",
     "shell.execute_reply": "2025-08-05T15:13:56.722253Z"
    },
    "papermill": {
     "duration": 0.035064,
     "end_time": "2025-08-05T15:13:56.725280",
     "exception": false,
     "start_time": "2025-08-05T15:13:56.690216",
     "status": "completed"
    },
    "tags": []
   },
   "outputs": [
    {
     "data": {
      "text/plain": [
       "{'frau1': 0.9105539830165791,\n",
       " 'nongerman': 0.9284230618087913,\n",
       " 'nongerman_male': 0.9416373952985679,\n",
       " 'nongerman_female': 0.9065573770491804}"
      ]
     },
     "execution_count": 56,
     "metadata": {},
     "output_type": "execute_result"
    }
   ],
   "source": [
    "cond_coverage"
   ]
  },
  {
   "cell_type": "code",
   "execution_count": 57,
   "id": "f5093324-c3dd-4d63-bc4c-8d945e5c8bbb",
   "metadata": {
    "execution": {
     "iopub.execute_input": "2025-08-05T15:13:56.753201Z",
     "iopub.status.busy": "2025-08-05T15:13:56.752459Z",
     "iopub.status.idle": "2025-08-05T15:13:56.758420Z",
     "shell.execute_reply": "2025-08-05T15:13:56.757648Z"
    },
    "papermill": {
     "duration": 0.0205,
     "end_time": "2025-08-05T15:13:56.759913",
     "exception": false,
     "start_time": "2025-08-05T15:13:56.739413",
     "status": "completed"
    },
    "tags": []
   },
   "outputs": [],
   "source": [
    "for subgroup, cov in cond_coverage.items():\n",
    "    cp_metrics_df[f\"cov_{subgroup}\"] = cov"
   ]
  },
  {
   "cell_type": "code",
   "execution_count": 58,
   "id": "6e872e10-dbe5-49e8-b554-5030c98ff75d",
   "metadata": {
    "execution": {
     "iopub.execute_input": "2025-08-05T15:13:56.803215Z",
     "iopub.status.busy": "2025-08-05T15:13:56.802757Z",
     "iopub.status.idle": "2025-08-05T15:13:56.820633Z",
     "shell.execute_reply": "2025-08-05T15:13:56.819751Z"
    },
    "papermill": {
     "duration": 0.056225,
     "end_time": "2025-08-05T15:13:56.832282",
     "exception": false,
     "start_time": "2025-08-05T15:13:56.776057",
     "status": "completed"
    },
    "tags": []
   },
   "outputs": [
    {
     "data": {
      "text/html": [
       "<div>\n",
       "<style scoped>\n",
       "    .dataframe tbody tr th:only-of-type {\n",
       "        vertical-align: middle;\n",
       "    }\n",
       "\n",
       "    .dataframe tbody tr th {\n",
       "        vertical-align: top;\n",
       "    }\n",
       "\n",
       "    .dataframe thead th {\n",
       "        text-align: right;\n",
       "    }\n",
       "</style>\n",
       "<table border=\"1\" class=\"dataframe\">\n",
       "  <thead>\n",
       "    <tr style=\"text-align: right;\">\n",
       "      <th></th>\n",
       "      <th>universe_id</th>\n",
       "      <th>universe_training_year</th>\n",
       "      <th>universe_training_size</th>\n",
       "      <th>universe_scale</th>\n",
       "      <th>universe_model</th>\n",
       "      <th>universe_exclude_features</th>\n",
       "      <th>universe_exclude_subgroups</th>\n",
       "      <th>q_hat</th>\n",
       "      <th>coverage</th>\n",
       "      <th>avg_size</th>\n",
       "      <th>cov_frau1</th>\n",
       "      <th>cov_nongerman</th>\n",
       "      <th>cov_nongerman_male</th>\n",
       "      <th>cov_nongerman_female</th>\n",
       "    </tr>\n",
       "  </thead>\n",
       "  <tbody>\n",
       "    <tr>\n",
       "      <th>0</th>\n",
       "      <td>66b2281b24d37ba30f3ca90a36032dc8</td>\n",
       "      <td>2010_14</td>\n",
       "      <td>25k</td>\n",
       "      <td>do-not-scale</td>\n",
       "      <td>penalized_logreg</td>\n",
       "      <td>nationality</td>\n",
       "      <td>keep-all</td>\n",
       "      <td>0.673889</td>\n",
       "      <td>0.911024</td>\n",
       "      <td>1.198216</td>\n",
       "      <td>0.910554</td>\n",
       "      <td>0.928423</td>\n",
       "      <td>0.941637</td>\n",
       "      <td>0.906557</td>\n",
       "    </tr>\n",
       "  </tbody>\n",
       "</table>\n",
       "</div>"
      ],
      "text/plain": [
       "                        universe_id universe_training_year  \\\n",
       "0  66b2281b24d37ba30f3ca90a36032dc8                2010_14   \n",
       "\n",
       "  universe_training_size universe_scale    universe_model  \\\n",
       "0                    25k   do-not-scale  penalized_logreg   \n",
       "\n",
       "  universe_exclude_features universe_exclude_subgroups     q_hat  coverage  \\\n",
       "0               nationality                   keep-all  0.673889  0.911024   \n",
       "\n",
       "   avg_size  cov_frau1  cov_nongerman  cov_nongerman_male  \\\n",
       "0  1.198216   0.910554       0.928423            0.941637   \n",
       "\n",
       "   cov_nongerman_female  \n",
       "0              0.906557  "
      ]
     },
     "execution_count": 58,
     "metadata": {},
     "output_type": "execute_result"
    }
   ],
   "source": [
    "cp_metrics_df"
   ]
  },
  {
   "cell_type": "markdown",
   "id": "33774451",
   "metadata": {
    "papermill": {
     "duration": 0.011435,
     "end_time": "2025-08-05T15:13:56.868525",
     "exception": false,
     "start_time": "2025-08-05T15:13:56.857090",
     "status": "completed"
    },
    "tags": []
   },
   "source": [
    "# (Fairness) Metrics"
   ]
  },
  {
   "cell_type": "code",
   "execution_count": 59,
   "id": "debc5d62",
   "metadata": {
    "execution": {
     "iopub.execute_input": "2025-08-05T15:13:56.897683Z",
     "iopub.status.busy": "2025-08-05T15:13:56.896186Z",
     "iopub.status.idle": "2025-08-05T15:13:56.910335Z",
     "shell.execute_reply": "2025-08-05T15:13:56.909524Z"
    },
    "papermill": {
     "duration": 0.032018,
     "end_time": "2025-08-05T15:13:56.911929",
     "exception": false,
     "start_time": "2025-08-05T15:13:56.879911",
     "status": "completed"
    },
    "tags": []
   },
   "outputs": [],
   "source": [
    "# do I need to include maxdeutsch1.missing?\n",
    "\n",
    "import numpy as np\n",
    "\n",
    "colname_to_bin = \"maxdeutsch1\"\n",
    "majority_value = org_train[colname_to_bin].mode()[0]\n",
    "\n",
    "org_test[\"majmin\"] = np.where(org_test[colname_to_bin] == majority_value, \"majority\", \"minority\")"
   ]
  },
  {
   "cell_type": "code",
   "execution_count": 60,
   "id": "06a50de5",
   "metadata": {
    "execution": {
     "iopub.execute_input": "2025-08-05T15:13:56.943353Z",
     "iopub.status.busy": "2025-08-05T15:13:56.943010Z",
     "iopub.status.idle": "2025-08-05T15:13:58.935663Z",
     "shell.execute_reply": "2025-08-05T15:13:58.934732Z"
    },
    "papermill": {
     "duration": 2.012397,
     "end_time": "2025-08-05T15:13:58.937221",
     "exception": false,
     "start_time": "2025-08-05T15:13:56.924824",
     "status": "completed"
    },
    "tags": []
   },
   "outputs": [],
   "source": [
    "example_universe = universe.copy()\n",
    "example_universe[\"cutoff\"] = example_universe[\"cutoff\"][0]\n",
    "example_universe[\"eval_fairness_grouping\"] = example_universe[\"eval_fairness_grouping\"][0]\n",
    "fairness_dict, metric_frame = universe_analysis.compute_metrics(\n",
    "    example_universe,\n",
    "    y_pred_prob=probs_test,\n",
    "    y_test=y_true,\n",
    "    org_test=org_test,\n",
    ")"
   ]
  },
  {
   "cell_type": "markdown",
   "id": "f95d4e02",
   "metadata": {
    "papermill": {
     "duration": 0.012417,
     "end_time": "2025-08-05T15:13:58.965133",
     "exception": false,
     "start_time": "2025-08-05T15:13:58.952716",
     "status": "completed"
    },
    "tags": []
   },
   "source": [
    "# Overall"
   ]
  },
  {
   "cell_type": "markdown",
   "id": "bdee4871",
   "metadata": {
    "papermill": {
     "duration": 0.026869,
     "end_time": "2025-08-05T15:13:59.006131",
     "exception": false,
     "start_time": "2025-08-05T15:13:58.979262",
     "status": "completed"
    },
    "tags": []
   },
   "source": [
    "Fairness\n",
    "Main fairness target: Equalized Odds. Seems to be a better fit than equal opportunity, since we're not only interested in Y = 1. Seems to be a better fit than demographic parity, since we also care about accuracy, not just equal distribution of preds.\n",
    "\n",
    "Pick column for computation of fairness metrics\n",
    "\n",
    "Performance\n",
    "Overall performance measures, most interesting in relation to the measures split by group below"
   ]
  },
  {
   "cell_type": "code",
   "execution_count": 61,
   "id": "c4e067c6",
   "metadata": {
    "execution": {
     "iopub.execute_input": "2025-08-05T15:13:59.040360Z",
     "iopub.status.busy": "2025-08-05T15:13:59.039952Z",
     "iopub.status.idle": "2025-08-05T15:13:59.047511Z",
     "shell.execute_reply": "2025-08-05T15:13:59.046609Z"
    },
    "papermill": {
     "duration": 0.023235,
     "end_time": "2025-08-05T15:13:59.048915",
     "exception": false,
     "start_time": "2025-08-05T15:13:59.025680",
     "status": "completed"
    },
    "tags": []
   },
   "outputs": [
    {
     "data": {
      "text/plain": [
       "accuracy                   0.217401\n",
       "balanced accuracy          0.533035\n",
       "f1                         0.238924\n",
       "precision                  0.136489\n",
       "false positive rate        0.891525\n",
       "false negative rate        0.042405\n",
       "selection rate             0.900000\n",
       "count                  89710.000000\n",
       "dtype: float64"
      ]
     },
     "execution_count": 61,
     "metadata": {},
     "output_type": "execute_result"
    }
   ],
   "source": [
    "metric_frame.overall"
   ]
  },
  {
   "cell_type": "markdown",
   "id": "e968fe9d",
   "metadata": {
    "papermill": {
     "duration": 0.011426,
     "end_time": "2025-08-05T15:13:59.073153",
     "exception": false,
     "start_time": "2025-08-05T15:13:59.061727",
     "status": "completed"
    },
    "tags": []
   },
   "source": [
    "By Group"
   ]
  },
  {
   "cell_type": "code",
   "execution_count": 62,
   "id": "ec325bce",
   "metadata": {
    "execution": {
     "iopub.execute_input": "2025-08-05T15:13:59.097880Z",
     "iopub.status.busy": "2025-08-05T15:13:59.097236Z",
     "iopub.status.idle": "2025-08-05T15:13:59.110533Z",
     "shell.execute_reply": "2025-08-05T15:13:59.109558Z"
    },
    "papermill": {
     "duration": 0.027555,
     "end_time": "2025-08-05T15:13:59.112444",
     "exception": false,
     "start_time": "2025-08-05T15:13:59.084889",
     "status": "completed"
    },
    "tags": []
   },
   "outputs": [
    {
     "data": {
      "text/html": [
       "<div>\n",
       "<style scoped>\n",
       "    .dataframe tbody tr th:only-of-type {\n",
       "        vertical-align: middle;\n",
       "    }\n",
       "\n",
       "    .dataframe tbody tr th {\n",
       "        vertical-align: top;\n",
       "    }\n",
       "\n",
       "    .dataframe thead th {\n",
       "        text-align: right;\n",
       "    }\n",
       "</style>\n",
       "<table border=\"1\" class=\"dataframe\">\n",
       "  <thead>\n",
       "    <tr style=\"text-align: right;\">\n",
       "      <th></th>\n",
       "      <th>accuracy</th>\n",
       "      <th>balanced accuracy</th>\n",
       "      <th>f1</th>\n",
       "      <th>precision</th>\n",
       "      <th>false positive rate</th>\n",
       "      <th>false negative rate</th>\n",
       "      <th>selection rate</th>\n",
       "      <th>count</th>\n",
       "    </tr>\n",
       "    <tr>\n",
       "      <th>majmin</th>\n",
       "      <th></th>\n",
       "      <th></th>\n",
       "      <th></th>\n",
       "      <th></th>\n",
       "      <th></th>\n",
       "      <th></th>\n",
       "      <th></th>\n",
       "      <th></th>\n",
       "    </tr>\n",
       "  </thead>\n",
       "  <tbody>\n",
       "    <tr>\n",
       "      <th>majority</th>\n",
       "      <td>0.239410</td>\n",
       "      <td>0.540702</td>\n",
       "      <td>0.248214</td>\n",
       "      <td>0.142751</td>\n",
       "      <td>0.868816</td>\n",
       "      <td>0.049781</td>\n",
       "      <td>0.879572</td>\n",
       "      <td>69170.0</td>\n",
       "    </tr>\n",
       "    <tr>\n",
       "      <th>minority</th>\n",
       "      <td>0.143281</td>\n",
       "      <td>0.509761</td>\n",
       "      <td>0.209727</td>\n",
       "      <td>0.117343</td>\n",
       "      <td>0.966542</td>\n",
       "      <td>0.013936</td>\n",
       "      <td>0.968793</td>\n",
       "      <td>20540.0</td>\n",
       "    </tr>\n",
       "  </tbody>\n",
       "</table>\n",
       "</div>"
      ],
      "text/plain": [
       "          accuracy  balanced accuracy        f1  precision  \\\n",
       "majmin                                                       \n",
       "majority  0.239410           0.540702  0.248214   0.142751   \n",
       "minority  0.143281           0.509761  0.209727   0.117343   \n",
       "\n",
       "          false positive rate  false negative rate  selection rate    count  \n",
       "majmin                                                                       \n",
       "majority             0.868816             0.049781        0.879572  69170.0  \n",
       "minority             0.966542             0.013936        0.968793  20540.0  "
      ]
     },
     "execution_count": 62,
     "metadata": {},
     "output_type": "execute_result"
    }
   ],
   "source": [
    "metric_frame.by_group"
   ]
  },
  {
   "cell_type": "code",
   "execution_count": 63,
   "id": "a9ddbe63",
   "metadata": {
    "execution": {
     "iopub.execute_input": "2025-08-05T15:13:59.161097Z",
     "iopub.status.busy": "2025-08-05T15:13:59.160306Z",
     "iopub.status.idle": "2025-08-05T15:14:01.562570Z",
     "shell.execute_reply": "2025-08-05T15:14:01.561647Z"
    },
    "papermill": {
     "duration": 2.427505,
     "end_time": "2025-08-05T15:14:01.564059",
     "exception": false,
     "start_time": "2025-08-05T15:13:59.136554",
     "status": "completed"
    },
    "tags": []
   },
   "outputs": [
    {
     "data": {
      "text/plain": [
       "array([[<Axes: title={'center': 'accuracy'}, xlabel='majmin'>,\n",
       "        <Axes: title={'center': 'balanced accuracy'}, xlabel='majmin'>,\n",
       "        <Axes: title={'center': 'f1'}, xlabel='majmin'>],\n",
       "       [<Axes: title={'center': 'precision'}, xlabel='majmin'>,\n",
       "        <Axes: title={'center': 'false positive rate'}, xlabel='majmin'>,\n",
       "        <Axes: title={'center': 'false negative rate'}, xlabel='majmin'>],\n",
       "       [<Axes: title={'center': 'selection rate'}, xlabel='majmin'>,\n",
       "        <Axes: title={'center': 'count'}, xlabel='majmin'>,\n",
       "        <Axes: xlabel='majmin'>]], dtype=object)"
      ]
     },
     "execution_count": 63,
     "metadata": {},
     "output_type": "execute_result"
    },
    {
     "data": {
      "image/png": "[encoded data removed]",
      "text/plain": [
       "<Figure size 1200x800 with 9 Axes>"
      ]
     },
     "metadata": {},
     "output_type": "display_data"
    }
   ],
   "source": [
    "# In a graphic\n",
    "metric_frame.by_group.plot.bar(\n",
    "    subplots=True,\n",
    "    layout=[3, 3],\n",
    "    legend=False,\n",
    "    figsize=[12, 8],\n",
    "    title=\"Show all metrics\",\n",
    ")"
   ]
  },
  {
   "cell_type": "markdown",
   "id": "f57a0bac",
   "metadata": {
    "papermill": {
     "duration": 0.02201,
     "end_time": "2025-08-05T15:14:01.609252",
     "exception": false,
     "start_time": "2025-08-05T15:14:01.587242",
     "status": "completed"
    },
    "tags": []
   },
   "source": [
    "# Final Output"
   ]
  },
  {
   "cell_type": "code",
   "execution_count": 64,
   "id": "96d280a3",
   "metadata": {
    "execution": {
     "iopub.execute_input": "2025-08-05T15:14:01.657593Z",
     "iopub.status.busy": "2025-08-05T15:14:01.656567Z",
     "iopub.status.idle": "2025-08-05T15:14:01.664559Z",
     "shell.execute_reply": "2025-08-05T15:14:01.663673Z"
    },
    "papermill": {
     "duration": 0.03434,
     "end_time": "2025-08-05T15:14:01.666218",
     "exception": false,
     "start_time": "2025-08-05T15:14:01.631878",
     "status": "completed"
    },
    "tags": []
   },
   "outputs": [
    {
     "data": {
      "text/plain": [
       "4"
      ]
     },
     "execution_count": 64,
     "metadata": {},
     "output_type": "execute_result"
    }
   ],
   "source": [
    "sub_universes = universe_analysis.generate_sub_universes()\n",
    "len(sub_universes)"
   ]
  },
  {
   "cell_type": "code",
   "execution_count": 65,
   "id": "92adf7ba",
   "metadata": {
    "execution": {
     "iopub.execute_input": "2025-08-05T15:14:01.714331Z",
     "iopub.status.busy": "2025-08-05T15:14:01.713825Z",
     "iopub.status.idle": "2025-08-05T15:14:01.720445Z",
     "shell.execute_reply": "2025-08-05T15:14:01.719317Z"
    },
    "papermill": {
     "duration": 0.032978,
     "end_time": "2025-08-05T15:14:01.722342",
     "exception": false,
     "start_time": "2025-08-05T15:14:01.689364",
     "status": "completed"
    },
    "tags": []
   },
   "outputs": [],
   "source": [
    "def filter_sub_universe_data(sub_universe, org_test):\n",
    "    # Keep all rows — no filtering\n",
    "    keep_rows_mask = np.ones(org_test.shape[0], dtype=bool)\n",
    "\n",
    "    print(f\"[INFO] Keeping all rows: {keep_rows_mask.sum()} rows retained.\")\n",
    "    return keep_rows_mask"
   ]
  },
  {
   "cell_type": "code",
   "execution_count": 66,
   "id": "4a759155",
   "metadata": {
    "execution": {
     "iopub.execute_input": "2025-08-05T15:14:01.780271Z",
     "iopub.status.busy": "2025-08-05T15:14:01.779699Z",
     "iopub.status.idle": "2025-08-05T15:14:11.345813Z",
     "shell.execute_reply": "2025-08-05T15:14:11.344886Z"
    },
    "papermill": {
     "duration": 9.597232,
     "end_time": "2025-08-05T15:14:11.347125",
     "exception": false,
     "start_time": "2025-08-05T15:14:01.749893",
     "status": "completed"
    },
    "tags": []
   },
   "outputs": [
    {
     "name": "stdout",
     "output_type": "stream",
     "text": [
      "Stopping execution_time clock.\n",
      "[INFO] Keeping all rows: 89710 rows retained.\n"
     ]
    },
    {
     "name": "stdout",
     "output_type": "stream",
     "text": [
      "[INFO] Keeping all rows: 89710 rows retained.\n"
     ]
    },
    {
     "name": "stdout",
     "output_type": "stream",
     "text": [
      "[INFO] Keeping all rows: 89710 rows retained.\n"
     ]
    },
    {
     "name": "stdout",
     "output_type": "stream",
     "text": [
      "[INFO] Keeping all rows: 89710 rows retained.\n"
     ]
    },
    {
     "data": {
      "text/html": [
       "<div>\n",
       "<style scoped>\n",
       "    .dataframe tbody tr th:only-of-type {\n",
       "        vertical-align: middle;\n",
       "    }\n",
       "\n",
       "    .dataframe tbody tr th {\n",
       "        vertical-align: top;\n",
       "    }\n",
       "\n",
       "    .dataframe thead th {\n",
       "        text-align: right;\n",
       "    }\n",
       "</style>\n",
       "<table border=\"1\" class=\"dataframe\">\n",
       "  <thead>\n",
       "    <tr style=\"text-align: right;\">\n",
       "      <th></th>\n",
       "      <th>run_no</th>\n",
       "      <th>universe_id</th>\n",
       "      <th>universe_settings</th>\n",
       "      <th>execution_time</th>\n",
       "      <th>test_size_n</th>\n",
       "      <th>test_size_frac</th>\n",
       "      <th>fair_main_equalized_odds_difference</th>\n",
       "      <th>fair_main_equalized_odds_ratio</th>\n",
       "      <th>fair_main_demographic_parity_difference</th>\n",
       "      <th>fair_main_demographic_parity_ratio</th>\n",
       "      <th>...</th>\n",
       "      <th>perf_grp_precision_0</th>\n",
       "      <th>perf_grp_precision_1</th>\n",
       "      <th>perf_grp_false positive rate_0</th>\n",
       "      <th>perf_grp_false positive rate_1</th>\n",
       "      <th>perf_grp_false negative rate_0</th>\n",
       "      <th>perf_grp_false negative rate_1</th>\n",
       "      <th>perf_grp_selection rate_0</th>\n",
       "      <th>perf_grp_selection rate_1</th>\n",
       "      <th>perf_grp_count_0</th>\n",
       "      <th>perf_grp_count_1</th>\n",
       "    </tr>\n",
       "  </thead>\n",
       "  <tbody>\n",
       "    <tr>\n",
       "      <th>0</th>\n",
       "      <td>15</td>\n",
       "      <td>66b2281b24d37ba30f3ca90a36032dc8</td>\n",
       "      <td>{\"cutoff\": \"quantile_0.1\", \"eval_fairness_grou...</td>\n",
       "      <td>25.595857</td>\n",
       "      <td>89710</td>\n",
       "      <td>1.0</td>\n",
       "      <td>0.097726</td>\n",
       "      <td>0.898891</td>\n",
       "      <td>0.089221</td>\n",
       "      <td>0.907905</td>\n",
       "      <td>...</td>\n",
       "      <td>NaN</td>\n",
       "      <td>NaN</td>\n",
       "      <td>NaN</td>\n",
       "      <td>NaN</td>\n",
       "      <td>NaN</td>\n",
       "      <td>NaN</td>\n",
       "      <td>NaN</td>\n",
       "      <td>NaN</td>\n",
       "      <td>NaN</td>\n",
       "      <td>NaN</td>\n",
       "    </tr>\n",
       "    <tr>\n",
       "      <th>0</th>\n",
       "      <td>15</td>\n",
       "      <td>66b2281b24d37ba30f3ca90a36032dc8</td>\n",
       "      <td>{\"cutoff\": \"quantile_0.1\", \"eval_fairness_grou...</td>\n",
       "      <td>25.595857</td>\n",
       "      <td>89710</td>\n",
       "      <td>1.0</td>\n",
       "      <td>0.097726</td>\n",
       "      <td>0.898891</td>\n",
       "      <td>0.089221</td>\n",
       "      <td>0.907905</td>\n",
       "      <td>...</td>\n",
       "      <td>0.117343</td>\n",
       "      <td>0.142751</td>\n",
       "      <td>0.966542</td>\n",
       "      <td>0.868816</td>\n",
       "      <td>0.013936</td>\n",
       "      <td>0.049781</td>\n",
       "      <td>0.968793</td>\n",
       "      <td>0.879572</td>\n",
       "      <td>20540.0</td>\n",
       "      <td>69170.0</td>\n",
       "    </tr>\n",
       "    <tr>\n",
       "      <th>0</th>\n",
       "      <td>15</td>\n",
       "      <td>66b2281b24d37ba30f3ca90a36032dc8</td>\n",
       "      <td>{\"cutoff\": \"quantile_0.25\", \"eval_fairness_gro...</td>\n",
       "      <td>25.595857</td>\n",
       "      <td>89710</td>\n",
       "      <td>1.0</td>\n",
       "      <td>0.214765</td>\n",
       "      <td>0.760055</td>\n",
       "      <td>0.197012</td>\n",
       "      <td>0.781558</td>\n",
       "      <td>...</td>\n",
       "      <td>NaN</td>\n",
       "      <td>NaN</td>\n",
       "      <td>NaN</td>\n",
       "      <td>NaN</td>\n",
       "      <td>NaN</td>\n",
       "      <td>NaN</td>\n",
       "      <td>NaN</td>\n",
       "      <td>NaN</td>\n",
       "      <td>NaN</td>\n",
       "      <td>NaN</td>\n",
       "    </tr>\n",
       "    <tr>\n",
       "      <th>0</th>\n",
       "      <td>15</td>\n",
       "      <td>66b2281b24d37ba30f3ca90a36032dc8</td>\n",
       "      <td>{\"cutoff\": \"quantile_0.25\", \"eval_fairness_gro...</td>\n",
       "      <td>25.595857</td>\n",
       "      <td>89710</td>\n",
       "      <td>1.0</td>\n",
       "      <td>0.214765</td>\n",
       "      <td>0.760055</td>\n",
       "      <td>0.197012</td>\n",
       "      <td>0.781558</td>\n",
       "      <td>...</td>\n",
       "      <td>0.121997</td>\n",
       "      <td>0.162418</td>\n",
       "      <td>0.895058</td>\n",
       "      <td>0.680293</td>\n",
       "      <td>0.045608</td>\n",
       "      <td>0.133589</td>\n",
       "      <td>0.901899</td>\n",
       "      <td>0.704887</td>\n",
       "      <td>20540.0</td>\n",
       "      <td>69170.0</td>\n",
       "    </tr>\n",
       "  </tbody>\n",
       "</table>\n",
       "<p>4 rows × 50 columns</p>\n",
       "</div>"
      ],
      "text/plain": [
       "  run_no                       universe_id  \\\n",
       "0     15  66b2281b24d37ba30f3ca90a36032dc8   \n",
       "0     15  66b2281b24d37ba30f3ca90a36032dc8   \n",
       "0     15  66b2281b24d37ba30f3ca90a36032dc8   \n",
       "0     15  66b2281b24d37ba30f3ca90a36032dc8   \n",
       "\n",
       "                                   universe_settings  execution_time  \\\n",
       "0  {\"cutoff\": \"quantile_0.1\", \"eval_fairness_grou...       25.595857   \n",
       "0  {\"cutoff\": \"quantile_0.1\", \"eval_fairness_grou...       25.595857   \n",
       "0  {\"cutoff\": \"quantile_0.25\", \"eval_fairness_gro...       25.595857   \n",
       "0  {\"cutoff\": \"quantile_0.25\", \"eval_fairness_gro...       25.595857   \n",
       "\n",
       "   test_size_n  test_size_frac  fair_main_equalized_odds_difference  \\\n",
       "0        89710             1.0                             0.097726   \n",
       "0        89710             1.0                             0.097726   \n",
       "0        89710             1.0                             0.214765   \n",
       "0        89710             1.0                             0.214765   \n",
       "\n",
       "   fair_main_equalized_odds_ratio  fair_main_demographic_parity_difference  \\\n",
       "0                        0.898891                                 0.089221   \n",
       "0                        0.898891                                 0.089221   \n",
       "0                        0.760055                                 0.197012   \n",
       "0                        0.760055                                 0.197012   \n",
       "\n",
       "   fair_main_demographic_parity_ratio  ...  perf_grp_precision_0  \\\n",
       "0                            0.907905  ...                   NaN   \n",
       "0                            0.907905  ...              0.117343   \n",
       "0                            0.781558  ...                   NaN   \n",
       "0                            0.781558  ...              0.121997   \n",
       "\n",
       "   perf_grp_precision_1  perf_grp_false positive rate_0  \\\n",
       "0                   NaN                             NaN   \n",
       "0              0.142751                        0.966542   \n",
       "0                   NaN                             NaN   \n",
       "0              0.162418                        0.895058   \n",
       "\n",
       "   perf_grp_false positive rate_1  perf_grp_false negative rate_0  \\\n",
       "0                             NaN                             NaN   \n",
       "0                        0.868816                        0.013936   \n",
       "0                             NaN                             NaN   \n",
       "0                        0.680293                        0.045608   \n",
       "\n",
       "   perf_grp_false negative rate_1  perf_grp_selection rate_0  \\\n",
       "0                             NaN                        NaN   \n",
       "0                        0.049781                   0.968793   \n",
       "0                             NaN                        NaN   \n",
       "0                        0.133589                   0.901899   \n",
       "\n",
       "   perf_grp_selection rate_1  perf_grp_count_0  perf_grp_count_1  \n",
       "0                        NaN               NaN               NaN  \n",
       "0                   0.879572           20540.0           69170.0  \n",
       "0                        NaN               NaN               NaN  \n",
       "0                   0.704887           20540.0           69170.0  \n",
       "\n",
       "[4 rows x 50 columns]"
      ]
     },
     "execution_count": 66,
     "metadata": {},
     "output_type": "execute_result"
    }
   ],
   "source": [
    "final_output = universe_analysis.generate_final_output(\n",
    "    y_pred_prob=probs_test,\n",
    "    y_test=y_true,\n",
    "    org_test=org_test,\n",
    "    filter_data=filter_sub_universe_data,\n",
    "    cp_metrics_df=cp_metrics_df,\n",
    "    save=True,\n",
    ")\n",
    "final_output"
   ]
  }
 ],
 "metadata": {
  "celltoolbar": "Tags",
  "kernelspec": {
   "display_name": "Python (CMA Fairness)",
   "language": "python",
   "name": "cma_fair_env"
  },
  "language_info": {
   "codemirror_mode": {
    "name": "ipython",
    "version": 3
   },
   "file_extension": ".py",
   "mimetype": "text/x-python",
   "name": "python",
   "nbconvert_exporter": "python",
   "pygments_lexer": "ipython3",
   "version": "3.10.12"
  },
  "papermill": {
   "default_parameters": {},
   "duration": 39.337986,
   "end_time": "2025-08-05T15:14:12.082409",
   "environment_variables": {},
   "exception": null,
   "input_path": "universe_analysis.ipynb",
   "output_path": "output/runs/15/notebooks/m_15-66b2281b24d37ba30f3ca90a36032dc8.ipynb",
   "parameters": {
    "output_dir": "output",
    "run_no": "15",
    "seed": "2023",
    "universe": "{\"cutoff\": [\"quantile_0.1\", \"quantile_0.25\"], \"eval_fairness_grouping\": [\"majority-minority\", \"nationality-all\"], \"exclude_features\": \"nationality\", \"exclude_subgroups\": \"keep-all\", \"model\": \"penalized_logreg\", \"scale\": \"do-not-scale\", \"training_size\": \"25k\", \"training_year\": \"2010_14\"}",
    "universe_id": "66b2281b24d37ba30f3ca90a36032dc8"
   },
   "start_time": "2025-08-05T15:13:32.744423",
   "version": "2.6.0"
  }
 },
 "nbformat": 4,
 "nbformat_minor": 5
}