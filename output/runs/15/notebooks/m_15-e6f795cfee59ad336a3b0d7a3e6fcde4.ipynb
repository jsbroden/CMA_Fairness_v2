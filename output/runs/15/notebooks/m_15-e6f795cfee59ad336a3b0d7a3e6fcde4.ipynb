{
 "cells": [
  {
   "cell_type": "code",
   "execution_count": 1,
   "id": "f159f837-637b-42ba-96b5-ec9a68c44524",
   "metadata": {
    "execution": {
     "iopub.execute_input": "2025-08-05T16:06:20.404720Z",
     "iopub.status.busy": "2025-08-05T16:06:20.404028Z",
     "iopub.status.idle": "2025-08-05T16:06:20.418102Z",
     "shell.execute_reply": "2025-08-05T16:06:20.417064Z"
    },
    "papermill": {
     "duration": 0.03562,
     "end_time": "2025-08-05T16:06:20.419895",
     "exception": false,
     "start_time": "2025-08-05T16:06:20.384275",
     "status": "completed"
    },
    "tags": []
   },
   "outputs": [
    {
     "name": "stdout",
     "output_type": "stream",
     "text": [
      "/dss/dsshome1/0C/ra93lal2/cma/CMA_Fairness_v2\n"
     ]
    },
    {
     "name": "stderr",
     "output_type": "stream",
     "text": [
      "/dss/dsshome1/0C/ra93lal2/.local/share/virtualenvs/CMA_Fairness_v2-3j10GkSs/lib/python3.10/site-packages/IPython/core/magics/osm.py:393: UserWarning: This is now an optional IPython functionality, using bookmarks requires you to install the `pickleshare` library.\n",
      "  bkms = self.shell.db.get('bookmarks', {})\n",
      "/dss/dsshome1/0C/ra93lal2/.local/share/virtualenvs/CMA_Fairness_v2-3j10GkSs/lib/python3.10/site-packages/IPython/core/magics/osm.py:417: UserWarning: This is now an optional IPython functionality, setting dhist requires you to install the `pickleshare` library.\n",
      "  self.shell.db['dhist'] = compress_dhist(dhist)[-100:]\n"
     ]
    }
   ],
   "source": [
    "%cd ~/cma/CMA_Fairness_v2"
   ]
  },
  {
   "cell_type": "markdown",
   "id": "de2603b9",
   "metadata": {
    "papermill": {
     "duration": 0.017951,
     "end_time": "2025-08-05T16:06:20.457062",
     "exception": false,
     "start_time": "2025-08-05T16:06:20.439111",
     "status": "completed"
    },
    "tags": []
   },
   "source": [
    "The following cell holds the definition of our parameters, these values can be overriden by rendering the with e.g. the following command:\n",
    "\n",
    "papermill -p alpha 0.2 -p ratio 0.3 universe_analysis.ipynb output/test_run.ipynb"
   ]
  },
  {
   "cell_type": "code",
   "execution_count": 2,
   "id": "a80968a0-40bb-4fa9-85ef-2d5eefb01975",
   "metadata": {
    "execution": {
     "iopub.execute_input": "2025-08-05T16:06:20.495968Z",
     "iopub.status.busy": "2025-08-05T16:06:20.495218Z",
     "iopub.status.idle": "2025-08-05T16:06:20.501258Z",
     "shell.execute_reply": "2025-08-05T16:06:20.500285Z"
    },
    "papermill": {
     "duration": 0.02775,
     "end_time": "2025-08-05T16:06:20.503235",
     "exception": false,
     "start_time": "2025-08-05T16:06:20.475485",
     "status": "completed"
    },
    "tags": []
   },
   "outputs": [
    {
     "name": "stdout",
     "output_type": "stream",
     "text": [
      "Current working directory: /dss/dsshome1/0C/ra93lal2/cma/CMA_Fairness_v2\n"
     ]
    }
   ],
   "source": [
    "import os\n",
    "print(\"Current working directory:\", os.getcwd())"
   ]
  },
  {
   "cell_type": "code",
   "execution_count": 3,
   "id": "2dce4c03",
   "metadata": {
    "execution": {
     "iopub.execute_input": "2025-08-05T16:06:20.542498Z",
     "iopub.status.busy": "2025-08-05T16:06:20.540980Z",
     "iopub.status.idle": "2025-08-05T16:06:20.547820Z",
     "shell.execute_reply": "2025-08-05T16:06:20.546787Z"
    },
    "papermill": {
     "duration": 0.02794,
     "end_time": "2025-08-05T16:06:20.549750",
     "exception": false,
     "start_time": "2025-08-05T16:06:20.521810",
     "status": "completed"
    },
    "tags": [
     "parameters"
    ]
   },
   "outputs": [],
   "source": [
    "run_no = 0\n",
    "universe_id = \"test\"\n",
    "universe = {\n",
    "    \"training_size\": \"25k\", # \"25k\", \"5k\", \"1k\"\n",
    "    \"training_year\": \"2014\", # \"2014\", \"2012_14\", \"2010_14\"\n",
    "    \"scale\": \"scale\", # \"scale\", \"do-not-scale\",\n",
    "    \"model\": \"elasticnet\", # \"logreg\", \"penalized_logreg\", \"rf\", \"gbm\", \"elasticnet\"\n",
    "    \"cutoff\": [\"quantile_0.15\", \"quantile_0.30\"],\n",
    "    \"exclude_features\": \"age\", # \"none\", \"nationality\", \"sex\", \"nationality-sex\", \"age\"\n",
    "    \"exclude_subgroups\": \"keep-all\", # \"keep-all\", \"drop-non-german\"\n",
    "    \"eval_fairness_grouping\": [\"majority-minority\", \"nationality-all\"]\n",
    "}\n",
    "\n",
    "output_dir=\"./output\"\n",
    "seed=0"
   ]
  },
  {
   "cell_type": "code",
   "execution_count": 4,
   "id": "450dd265",
   "metadata": {
    "execution": {
     "iopub.execute_input": "2025-08-05T16:06:20.591241Z",
     "iopub.status.busy": "2025-08-05T16:06:20.590391Z",
     "iopub.status.idle": "2025-08-05T16:06:20.596194Z",
     "shell.execute_reply": "2025-08-05T16:06:20.595216Z"
    },
    "papermill": {
     "duration": 0.028208,
     "end_time": "2025-08-05T16:06:20.598077",
     "exception": false,
     "start_time": "2025-08-05T16:06:20.569869",
     "status": "completed"
    },
    "tags": [
     "injected-parameters"
    ]
   },
   "outputs": [],
   "source": [
    "# Parameters\n",
    "universe_id = \"e6f795cfee59ad336a3b0d7a3e6fcde4\"\n",
    "run_no = \"15\"\n",
    "universe = \"{\\\"cutoff\\\": [\\\"quantile_0.1\\\", \\\"quantile_0.25\\\"], \\\"eval_fairness_grouping\\\": [\\\"majority-minority\\\", \\\"nationality-all\\\"], \\\"exclude_features\\\": \\\"sex\\\", \\\"exclude_subgroups\\\": \\\"drop-non-german\\\", \\\"model\\\": \\\"gbm\\\", \\\"scale\\\": \\\"scale\\\", \\\"training_size\\\": \\\"1k\\\", \\\"training_year\\\": \\\"2014\\\"}\"\n",
    "output_dir = \"output\"\n",
    "seed = \"2023\"\n"
   ]
  },
  {
   "cell_type": "code",
   "execution_count": 5,
   "id": "1650acaf",
   "metadata": {
    "execution": {
     "iopub.execute_input": "2025-08-05T16:06:20.640160Z",
     "iopub.status.busy": "2025-08-05T16:06:20.639149Z",
     "iopub.status.idle": "2025-08-05T16:06:20.644363Z",
     "shell.execute_reply": "2025-08-05T16:06:20.643315Z"
    },
    "papermill": {
     "duration": 0.028542,
     "end_time": "2025-08-05T16:06:20.646372",
     "exception": false,
     "start_time": "2025-08-05T16:06:20.617830",
     "status": "completed"
    },
    "tags": []
   },
   "outputs": [],
   "source": [
    "import json\n",
    "if isinstance(universe, str):\n",
    "    universe = json.loads(universe)"
   ]
  },
  {
   "cell_type": "code",
   "execution_count": 6,
   "id": "16620c48",
   "metadata": {
    "execution": {
     "iopub.execute_input": "2025-08-05T16:06:20.686637Z",
     "iopub.status.busy": "2025-08-05T16:06:20.685704Z",
     "iopub.status.idle": "2025-08-05T16:06:20.730530Z",
     "shell.execute_reply": "2025-08-05T16:06:20.729561Z"
    },
    "papermill": {
     "duration": 0.066767,
     "end_time": "2025-08-05T16:06:20.732545",
     "exception": false,
     "start_time": "2025-08-05T16:06:20.665778",
     "status": "completed"
    },
    "tags": []
   },
   "outputs": [],
   "source": [
    "# Auto-reload the custom package\n",
    "%load_ext autoreload\n",
    "%autoreload 1\n",
    "%aimport fairness_multiverse"
   ]
  },
  {
   "cell_type": "code",
   "execution_count": 7,
   "id": "01c5c9f3",
   "metadata": {
    "execution": {
     "iopub.execute_input": "2025-08-05T16:06:20.773625Z",
     "iopub.status.busy": "2025-08-05T16:06:20.772872Z",
     "iopub.status.idle": "2025-08-05T16:06:22.773047Z",
     "shell.execute_reply": "2025-08-05T16:06:22.772001Z"
    },
    "papermill": {
     "duration": 2.0225,
     "end_time": "2025-08-05T16:06:22.775379",
     "exception": false,
     "start_time": "2025-08-05T16:06:20.752879",
     "status": "completed"
    },
    "tags": []
   },
   "outputs": [],
   "source": [
    "from fairness_multiverse.universe import UniverseAnalysis\n",
    "\n",
    "universe_analysis = UniverseAnalysis(\n",
    "    run_no = run_no,\n",
    "    universe_id = universe_id,\n",
    "    universe = universe,\n",
    "    output_dir=output_dir,\n",
    ")"
   ]
  },
  {
   "cell_type": "code",
   "execution_count": 8,
   "id": "106241f5",
   "metadata": {
    "execution": {
     "iopub.execute_input": "2025-08-05T16:06:22.821120Z",
     "iopub.status.busy": "2025-08-05T16:06:22.820242Z",
     "iopub.status.idle": "2025-08-05T16:06:22.829173Z",
     "shell.execute_reply": "2025-08-05T16:06:22.828203Z"
    },
    "papermill": {
     "duration": 0.033836,
     "end_time": "2025-08-05T16:06:22.831006",
     "exception": false,
     "start_time": "2025-08-05T16:06:22.797170",
     "status": "completed"
    },
    "tags": []
   },
   "outputs": [
    {
     "name": "stdout",
     "output_type": "stream",
     "text": [
      "Using Seed: 2023\n"
     ]
    }
   ],
   "source": [
    "import numpy as np\n",
    "parsed_seed = int(seed)\n",
    "np.random.seed(parsed_seed)\n",
    "print(f\"Using Seed: {parsed_seed}\")"
   ]
  },
  {
   "cell_type": "markdown",
   "id": "e0ebdc57",
   "metadata": {
    "papermill": {
     "duration": 0.020628,
     "end_time": "2025-08-05T16:06:22.872578",
     "exception": false,
     "start_time": "2025-08-05T16:06:22.851950",
     "status": "completed"
    },
    "tags": []
   },
   "source": [
    "# Loading Data"
   ]
  },
  {
   "cell_type": "code",
   "execution_count": 9,
   "id": "f0496b8a",
   "metadata": {
    "execution": {
     "iopub.execute_input": "2025-08-05T16:06:22.912748Z",
     "iopub.status.busy": "2025-08-05T16:06:22.911785Z",
     "iopub.status.idle": "2025-08-05T16:06:35.042207Z",
     "shell.execute_reply": "2025-08-05T16:06:35.040953Z"
    },
    "papermill": {
     "duration": 12.15213,
     "end_time": "2025-08-05T16:06:35.043901",
     "exception": false,
     "start_time": "2025-08-05T16:06:22.891771",
     "status": "completed"
    },
    "tags": []
   },
   "outputs": [
    {
     "name": "stdout",
     "output_type": "stream",
     "text": [
      "Loading SIAB data from cache: data/siab_cached.csv.gz\n"
     ]
    },
    {
     "name": "stdout",
     "output_type": "stream",
     "text": [
      "(643690, 164)\n"
     ]
    }
   ],
   "source": [
    "from pathlib import Path\n",
    "import pandas as pd\n",
    "\n",
    "# File paths\n",
    "raw_file = Path(\"data/raw/siab.csv\")\n",
    "cache_file = Path(\"data/siab_cached.csv.gz\")\n",
    "\n",
    "# Ensure cache directory exists\n",
    "cache_file.parent.mkdir(parents=True, exist_ok=True)\n",
    "\n",
    "# Load with simple caching\n",
    "if cache_file.exists():\n",
    "    print(f\"Loading SIAB data from cache: {cache_file}\")\n",
    "    siab = pd.read_csv(cache_file, compression='gzip')\n",
    "else:\n",
    "    print(f\"Cache not found. Reading raw SIAB data: {raw_file}\")\n",
    "    siab = pd.read_csv(raw_file)\n",
    "    siab.to_csv(cache_file, index=False, compression='gzip')\n",
    "    print(f\"Cached SIAB data to: {cache_file}\")\n",
    "\n",
    "print(siab.shape)"
   ]
  },
  {
   "cell_type": "code",
   "execution_count": 10,
   "id": "db0ca512-5f53-4dba-abdb-a2888bca41ba",
   "metadata": {
    "execution": {
     "iopub.execute_input": "2025-08-05T16:06:35.086767Z",
     "iopub.status.busy": "2025-08-05T16:06:35.086208Z",
     "iopub.status.idle": "2025-08-05T16:06:35.091002Z",
     "shell.execute_reply": "2025-08-05T16:06:35.089921Z"
    },
    "papermill": {
     "duration": 0.025455,
     "end_time": "2025-08-05T16:06:35.093249",
     "exception": false,
     "start_time": "2025-08-05T16:06:35.067794",
     "status": "completed"
    },
    "tags": []
   },
   "outputs": [],
   "source": [
    "#siab"
   ]
  },
  {
   "cell_type": "markdown",
   "id": "997051c5-15bd-4b69-9786-c3001a3ce484",
   "metadata": {
    "papermill": {
     "duration": 0.020243,
     "end_time": "2025-08-05T16:06:35.133450",
     "exception": false,
     "start_time": "2025-08-05T16:06:35.113207",
     "status": "completed"
    },
    "tags": []
   },
   "source": [
    "# Splitting Data and Setting Training Data Size"
   ]
  },
  {
   "cell_type": "code",
   "execution_count": 11,
   "id": "aea9c6ef-6f46-42c8-85eb-5a62025c1508",
   "metadata": {
    "execution": {
     "iopub.execute_input": "2025-08-05T16:06:35.178784Z",
     "iopub.status.busy": "2025-08-05T16:06:35.177848Z",
     "iopub.status.idle": "2025-08-05T16:06:35.395713Z",
     "shell.execute_reply": "2025-08-05T16:06:35.394575Z"
    },
    "papermill": {
     "duration": 0.241221,
     "end_time": "2025-08-05T16:06:35.397801",
     "exception": false,
     "start_time": "2025-08-05T16:06:35.156580",
     "status": "completed"
    },
    "tags": []
   },
   "outputs": [],
   "source": [
    "from fairness_multiverse.universe import sample_by_year_size\n",
    "\n",
    "siab_train = sample_by_year_size(siab,\n",
    "                               training_year=universe[\"training_year\"],\n",
    "                               training_size=universe[\"training_size\"])"
   ]
  },
  {
   "cell_type": "code",
   "execution_count": 12,
   "id": "8d3afb32-789d-442c-8d5d-9f5aa8dd2eed",
   "metadata": {
    "execution": {
     "iopub.execute_input": "2025-08-05T16:06:35.443452Z",
     "iopub.status.busy": "2025-08-05T16:06:35.443093Z",
     "iopub.status.idle": "2025-08-05T16:06:35.447317Z",
     "shell.execute_reply": "2025-08-05T16:06:35.446483Z"
    },
    "papermill": {
     "duration": 0.028282,
     "end_time": "2025-08-05T16:06:35.448727",
     "exception": false,
     "start_time": "2025-08-05T16:06:35.420445",
     "status": "completed"
    },
    "tags": []
   },
   "outputs": [],
   "source": [
    "#siab_train.shape"
   ]
  },
  {
   "cell_type": "code",
   "execution_count": 13,
   "id": "d582db68-1a4c-47fb-84fc-08518dc1975a",
   "metadata": {
    "execution": {
     "iopub.execute_input": "2025-08-05T16:06:35.482104Z",
     "iopub.status.busy": "2025-08-05T16:06:35.481499Z",
     "iopub.status.idle": "2025-08-05T16:06:35.487417Z",
     "shell.execute_reply": "2025-08-05T16:06:35.485378Z"
    },
    "papermill": {
     "duration": 0.028124,
     "end_time": "2025-08-05T16:06:35.489289",
     "exception": false,
     "start_time": "2025-08-05T16:06:35.461165",
     "status": "completed"
    },
    "tags": []
   },
   "outputs": [],
   "source": [
    "#display(siab_train.groupby(\"year\").size())"
   ]
  },
  {
   "cell_type": "code",
   "execution_count": 14,
   "id": "a561edb4-d032-42cb-8256-22eac1111c64",
   "metadata": {
    "execution": {
     "iopub.execute_input": "2025-08-05T16:06:35.533666Z",
     "iopub.status.busy": "2025-08-05T16:06:35.532848Z",
     "iopub.status.idle": "2025-08-05T16:06:35.781765Z",
     "shell.execute_reply": "2025-08-05T16:06:35.781004Z"
    },
    "papermill": {
     "duration": 0.273889,
     "end_time": "2025-08-05T16:06:35.783707",
     "exception": false,
     "start_time": "2025-08-05T16:06:35.509818",
     "status": "completed"
    },
    "tags": []
   },
   "outputs": [],
   "source": [
    "#siab_train = siab_s[siab_s.year < 2015]\n",
    "siab_calib = siab[siab.year == 2015]\n",
    "siab_test = siab[siab.year == 2016]"
   ]
  },
  {
   "cell_type": "code",
   "execution_count": 15,
   "id": "472de16f-c3db-4916-846b-1f0de9cf1746",
   "metadata": {
    "execution": {
     "iopub.execute_input": "2025-08-05T16:06:35.824675Z",
     "iopub.status.busy": "2025-08-05T16:06:35.824224Z",
     "iopub.status.idle": "2025-08-05T16:06:35.830394Z",
     "shell.execute_reply": "2025-08-05T16:06:35.829572Z"
    },
    "papermill": {
     "duration": 0.028436,
     "end_time": "2025-08-05T16:06:35.831818",
     "exception": false,
     "start_time": "2025-08-05T16:06:35.803382",
     "status": "completed"
    },
    "tags": []
   },
   "outputs": [],
   "source": [
    "X_train = siab_train.iloc[:,4:164]\n",
    "y_train = siab_train.iloc[:, [3]]"
   ]
  },
  {
   "cell_type": "code",
   "execution_count": 16,
   "id": "828c96af-f43a-4ed6-ba47-8ac73a47d56c",
   "metadata": {
    "execution": {
     "iopub.execute_input": "2025-08-05T16:06:35.854748Z",
     "iopub.status.busy": "2025-08-05T16:06:35.854313Z",
     "iopub.status.idle": "2025-08-05T16:06:35.942991Z",
     "shell.execute_reply": "2025-08-05T16:06:35.941759Z"
    },
    "papermill": {
     "duration": 0.101312,
     "end_time": "2025-08-05T16:06:35.945204",
     "exception": false,
     "start_time": "2025-08-05T16:06:35.843892",
     "status": "completed"
    },
    "tags": []
   },
   "outputs": [],
   "source": [
    "X_calib = siab_calib.iloc[:,4:164]\n",
    "y_calib = siab_calib.iloc[:, [3]]"
   ]
  },
  {
   "cell_type": "code",
   "execution_count": 17,
   "id": "c34be9c3-6bd6-476e-acd3-845840e303be",
   "metadata": {
    "execution": {
     "iopub.execute_input": "2025-08-05T16:06:35.988523Z",
     "iopub.status.busy": "2025-08-05T16:06:35.987529Z",
     "iopub.status.idle": "2025-08-05T16:06:36.041537Z",
     "shell.execute_reply": "2025-08-05T16:06:36.040388Z"
    },
    "papermill": {
     "duration": 0.077937,
     "end_time": "2025-08-05T16:06:36.044142",
     "exception": false,
     "start_time": "2025-08-05T16:06:35.966205",
     "status": "completed"
    },
    "tags": []
   },
   "outputs": [],
   "source": [
    "X_test = siab_test.iloc[:,4:164]\n",
    "y_true = siab_test.iloc[:, [3]]"
   ]
  },
  {
   "cell_type": "code",
   "execution_count": 18,
   "id": "e6c733c5",
   "metadata": {
    "execution": {
     "iopub.execute_input": "2025-08-05T16:06:36.088804Z",
     "iopub.status.busy": "2025-08-05T16:06:36.087921Z",
     "iopub.status.idle": "2025-08-05T16:06:36.180053Z",
     "shell.execute_reply": "2025-08-05T16:06:36.178967Z"
    },
    "papermill": {
     "duration": 0.115447,
     "end_time": "2025-08-05T16:06:36.181983",
     "exception": false,
     "start_time": "2025-08-05T16:06:36.066536",
     "status": "completed"
    },
    "tags": []
   },
   "outputs": [],
   "source": [
    "# Auxiliary data needed downstream in the pipeline\n",
    "\n",
    "org_train = X_train.copy()\n",
    "org_test = X_test.copy()\n",
    "org_calib = X_calib.copy()"
   ]
  },
  {
   "cell_type": "markdown",
   "id": "0a4a1b33",
   "metadata": {
    "papermill": {
     "duration": 0.02059,
     "end_time": "2025-08-05T16:06:36.225923",
     "exception": false,
     "start_time": "2025-08-05T16:06:36.205333",
     "status": "completed"
    },
    "tags": []
   },
   "source": [
    "# Preprocessing Data"
   ]
  },
  {
   "cell_type": "code",
   "execution_count": 19,
   "id": "ca879031",
   "metadata": {
    "execution": {
     "iopub.execute_input": "2025-08-05T16:06:36.268303Z",
     "iopub.status.busy": "2025-08-05T16:06:36.267342Z",
     "iopub.status.idle": "2025-08-05T16:06:36.273977Z",
     "shell.execute_reply": "2025-08-05T16:06:36.272607Z"
    },
    "papermill": {
     "duration": 0.031075,
     "end_time": "2025-08-05T16:06:36.275943",
     "exception": false,
     "start_time": "2025-08-05T16:06:36.244868",
     "status": "completed"
    },
    "tags": []
   },
   "outputs": [],
   "source": [
    "# EXCLUDE PROTECTED FEATURES\n",
    "# ----------------------\n",
    "# \"exclude_features\": \"none\", # \"nationality\", \"sex\", \"nationality-sex\"\n",
    "\n",
    "excluded_features = universe[\"exclude_features\"].split(\"-\") # split, e.g.: \"nationality-sex\" -> [\"nationality\", \"sex\"]\n",
    "excluded_features_dictionary = {\n",
    "    \"nationality\": [\"maxdeutsch1\", \"maxdeutsch.Missing.\"],\n",
    "    \"sex\": [\"frau1\"],\n",
    "    \"age\": [\"age\"],\n",
    "}"
   ]
  },
  {
   "cell_type": "code",
   "execution_count": 20,
   "id": "b745ac60",
   "metadata": {
    "execution": {
     "iopub.execute_input": "2025-08-05T16:06:36.317448Z",
     "iopub.status.busy": "2025-08-05T16:06:36.316648Z",
     "iopub.status.idle": "2025-08-05T16:06:36.322771Z",
     "shell.execute_reply": "2025-08-05T16:06:36.321672Z"
    },
    "papermill": {
     "duration": 0.028549,
     "end_time": "2025-08-05T16:06:36.324909",
     "exception": false,
     "start_time": "2025-08-05T16:06:36.296360",
     "status": "completed"
    },
    "tags": []
   },
   "outputs": [],
   "source": [
    "# Code nice names to column names\n",
    "\n",
    "excluded_features_columns = [\n",
    "    excluded_features_dictionary[f] for f in excluded_features if len(f) > 0 and f != \"none\"\n",
    "]"
   ]
  },
  {
   "cell_type": "code",
   "execution_count": 21,
   "id": "f84f73a2",
   "metadata": {
    "execution": {
     "iopub.execute_input": "2025-08-05T16:06:36.363058Z",
     "iopub.status.busy": "2025-08-05T16:06:36.362465Z",
     "iopub.status.idle": "2025-08-05T16:06:36.369371Z",
     "shell.execute_reply": "2025-08-05T16:06:36.368184Z"
    },
    "papermill": {
     "duration": 0.027463,
     "end_time": "2025-08-05T16:06:36.371238",
     "exception": false,
     "start_time": "2025-08-05T16:06:36.343775",
     "status": "completed"
    },
    "tags": []
   },
   "outputs": [],
   "source": [
    "from utils import flatten_once\n",
    "\n",
    "excluded_features_columns = flatten_once(excluded_features_columns)"
   ]
  },
  {
   "cell_type": "code",
   "execution_count": 22,
   "id": "884dea22",
   "metadata": {
    "execution": {
     "iopub.execute_input": "2025-08-05T16:06:36.409567Z",
     "iopub.status.busy": "2025-08-05T16:06:36.408844Z",
     "iopub.status.idle": "2025-08-05T16:06:36.418581Z",
     "shell.execute_reply": "2025-08-05T16:06:36.417279Z"
    },
    "papermill": {
     "duration": 0.030372,
     "end_time": "2025-08-05T16:06:36.420354",
     "exception": false,
     "start_time": "2025-08-05T16:06:36.389982",
     "status": "completed"
    },
    "tags": []
   },
   "outputs": [
    {
     "name": "stdout",
     "output_type": "stream",
     "text": [
      "Dropping features: ['frau1']\n"
     ]
    }
   ],
   "source": [
    "if len(excluded_features_columns) > 0:\n",
    "    print(f\"Dropping features: {excluded_features_columns}\")\n",
    "    X_train.drop(excluded_features_columns, axis=1, inplace=True)"
   ]
  },
  {
   "cell_type": "code",
   "execution_count": 23,
   "id": "95ab8b16",
   "metadata": {
    "execution": {
     "iopub.execute_input": "2025-08-05T16:06:36.459502Z",
     "iopub.status.busy": "2025-08-05T16:06:36.458583Z",
     "iopub.status.idle": "2025-08-05T16:06:36.514242Z",
     "shell.execute_reply": "2025-08-05T16:06:36.512974Z"
    },
    "papermill": {
     "duration": 0.077564,
     "end_time": "2025-08-05T16:06:36.516572",
     "exception": false,
     "start_time": "2025-08-05T16:06:36.439008",
     "status": "completed"
    },
    "tags": []
   },
   "outputs": [
    {
     "name": "stdout",
     "output_type": "stream",
     "text": [
      "Dropping features: ['frau1']\n"
     ]
    }
   ],
   "source": [
    "if len(excluded_features_columns) > 0:\n",
    "    print(f\"Dropping features: {excluded_features_columns}\")\n",
    "    X_test.drop(excluded_features_columns, axis=1, inplace=True)"
   ]
  },
  {
   "cell_type": "code",
   "execution_count": 24,
   "id": "1853aaf5-fb9f-46cb-a2b5-8ea4ae2237e4",
   "metadata": {
    "execution": {
     "iopub.execute_input": "2025-08-05T16:06:36.559144Z",
     "iopub.status.busy": "2025-08-05T16:06:36.558345Z",
     "iopub.status.idle": "2025-08-05T16:06:36.611756Z",
     "shell.execute_reply": "2025-08-05T16:06:36.610608Z"
    },
    "papermill": {
     "duration": 0.075708,
     "end_time": "2025-08-05T16:06:36.613829",
     "exception": false,
     "start_time": "2025-08-05T16:06:36.538121",
     "status": "completed"
    },
    "tags": []
   },
   "outputs": [
    {
     "name": "stdout",
     "output_type": "stream",
     "text": [
      "Dropping features: ['frau1']\n"
     ]
    }
   ],
   "source": [
    "if len(excluded_features_columns) > 0:\n",
    "    print(f\"Dropping features: {excluded_features_columns}\")\n",
    "    X_calib.drop(excluded_features_columns, axis=1, inplace=True)"
   ]
  },
  {
   "cell_type": "code",
   "execution_count": 25,
   "id": "76c4dc6d",
   "metadata": {
    "execution": {
     "iopub.execute_input": "2025-08-05T16:06:36.655052Z",
     "iopub.status.busy": "2025-08-05T16:06:36.654068Z",
     "iopub.status.idle": "2025-08-05T16:06:36.660300Z",
     "shell.execute_reply": "2025-08-05T16:06:36.659266Z"
    },
    "papermill": {
     "duration": 0.028458,
     "end_time": "2025-08-05T16:06:36.662254",
     "exception": false,
     "start_time": "2025-08-05T16:06:36.633796",
     "status": "completed"
    },
    "tags": []
   },
   "outputs": [],
   "source": [
    "# EXCLUDE CERTAIN SUBGROUPS\n",
    "# ----------------------\n",
    "\n",
    "mode = universe.get(\"exclude_subgroups\", \"keep-all\") \n",
    "# Fetches the exclude_subgroups setting from the universe dict.\n",
    "# Defaults to \"keep-all\" if the key is missing."
   ]
  },
  {
   "cell_type": "code",
   "execution_count": 26,
   "id": "21994072",
   "metadata": {
    "execution": {
     "iopub.execute_input": "2025-08-05T16:06:36.707354Z",
     "iopub.status.busy": "2025-08-05T16:06:36.706680Z",
     "iopub.status.idle": "2025-08-05T16:06:36.713866Z",
     "shell.execute_reply": "2025-08-05T16:06:36.712754Z"
    },
    "papermill": {
     "duration": 0.032837,
     "end_time": "2025-08-05T16:06:36.716053",
     "exception": false,
     "start_time": "2025-08-05T16:06:36.683216",
     "status": "completed"
    },
    "tags": []
   },
   "outputs": [],
   "source": [
    "if mode == \"keep-all\":\n",
    "    keep_mask = pd.Series(True, index=org_train.index)\n",
    "\n",
    "# org_train contains the original feature columns from features_org (in Simson)\n",
    "# features_org contains unprocessed features, for me X_train at beginning ???\n",
    "# For keep-all, creates a boolean Series (keep_mask) of all True, so no rows are removed.\n",
    "\n",
    "elif mode == \"drop-non-german\":\n",
    "    keep_mask = org_train[\"maxdeutsch1\"] == 1 # ??? what about missing values?\n",
    "\n",
    "else:\n",
    "    raise ValueError(f\"Unsupported mode for exclude_subgroups: {mode}\")"
   ]
  },
  {
   "cell_type": "code",
   "execution_count": 27,
   "id": "71651440",
   "metadata": {
    "execution": {
     "iopub.execute_input": "2025-08-05T16:06:36.759805Z",
     "iopub.status.busy": "2025-08-05T16:06:36.759306Z",
     "iopub.status.idle": "2025-08-05T16:06:36.767451Z",
     "shell.execute_reply": "2025-08-05T16:06:36.766302Z"
    },
    "papermill": {
     "duration": 0.032272,
     "end_time": "2025-08-05T16:06:36.769555",
     "exception": false,
     "start_time": "2025-08-05T16:06:36.737283",
     "status": "completed"
    },
    "tags": []
   },
   "outputs": [
    {
     "name": "stdout",
     "output_type": "stream",
     "text": [
      "Dropping 147 rows (14.70%) where mode='drop-non-german'\n"
     ]
    }
   ],
   "source": [
    "n_drop = (~keep_mask).sum() # Calculates how many rows are set to be dropped\n",
    "if n_drop > 0:\n",
    "    pct = n_drop / len(keep_mask) * 100\n",
    "    print(f\"Dropping {n_drop} rows ({pct:.2f}%) where mode='{mode}'\")"
   ]
  },
  {
   "cell_type": "code",
   "execution_count": 28,
   "id": "5fb8eee5",
   "metadata": {
    "execution": {
     "iopub.execute_input": "2025-08-05T16:06:36.816279Z",
     "iopub.status.busy": "2025-08-05T16:06:36.815378Z",
     "iopub.status.idle": "2025-08-05T16:06:36.822409Z",
     "shell.execute_reply": "2025-08-05T16:06:36.821092Z"
    },
    "papermill": {
     "duration": 0.030667,
     "end_time": "2025-08-05T16:06:36.824458",
     "exception": false,
     "start_time": "2025-08-05T16:06:36.793791",
     "status": "completed"
    },
    "tags": []
   },
   "outputs": [],
   "source": [
    "X_train = X_train[keep_mask]"
   ]
  },
  {
   "cell_type": "code",
   "execution_count": 29,
   "id": "b202bb3a",
   "metadata": {
    "execution": {
     "iopub.execute_input": "2025-08-05T16:06:36.876621Z",
     "iopub.status.busy": "2025-08-05T16:06:36.876228Z",
     "iopub.status.idle": "2025-08-05T16:06:36.882559Z",
     "shell.execute_reply": "2025-08-05T16:06:36.881382Z"
    },
    "papermill": {
     "duration": 0.032274,
     "end_time": "2025-08-05T16:06:36.884578",
     "exception": false,
     "start_time": "2025-08-05T16:06:36.852304",
     "status": "completed"
    },
    "tags": []
   },
   "outputs": [],
   "source": [
    "y_train = y_train[keep_mask]"
   ]
  },
  {
   "cell_type": "markdown",
   "id": "493e2ac3",
   "metadata": {
    "papermill": {
     "duration": 0.022519,
     "end_time": "2025-08-05T16:06:36.930351",
     "exception": false,
     "start_time": "2025-08-05T16:06:36.907832",
     "status": "completed"
    },
    "tags": []
   },
   "source": [
    "# Model Training"
   ]
  },
  {
   "cell_type": "code",
   "execution_count": 30,
   "id": "679e1268",
   "metadata": {
    "execution": {
     "iopub.execute_input": "2025-08-05T16:06:36.979078Z",
     "iopub.status.busy": "2025-08-05T16:06:36.978150Z",
     "iopub.status.idle": "2025-08-05T16:06:37.090070Z",
     "shell.execute_reply": "2025-08-05T16:06:37.088926Z"
    },
    "papermill": {
     "duration": 0.141367,
     "end_time": "2025-08-05T16:06:37.092512",
     "exception": false,
     "start_time": "2025-08-05T16:06:36.951145",
     "status": "completed"
    },
    "tags": []
   },
   "outputs": [],
   "source": [
    "from sklearn.linear_model import LogisticRegression\n",
    "from sklearn.ensemble import GradientBoostingClassifier, RandomForestClassifier\n",
    "\n",
    "if (universe[\"model\"] == \"logreg\"):\n",
    "    model = LogisticRegression() #penalty=\"none\", solver=\"newton-cg\", max_iter=1) # include random_state=19 ?\n",
    "elif (universe[\"model\"] == \"penalized_logreg\"):\n",
    "    model = LogisticRegression(penalty=\"l2\", C=0.1) #, solver=\"newton-cg\", max_iter=1)\n",
    "elif (universe[\"model\"] == \"rf\"):\n",
    "    model = RandomForestClassifier() # n_estimators=100, n_jobs=-1\n",
    "elif (universe[\"model\"] == \"gbm\"):\n",
    "    model = GradientBoostingClassifier()\n",
    "elif (universe[\"model\"] == \"elasticnet\"):\n",
    "    model = LogisticRegression(penalty = 'elasticnet', solver = 'saga', l1_ratio = 0.5) # max_iter=5000\n",
    "else:\n",
    "    raise \"Unsupported universe.model\""
   ]
  },
  {
   "cell_type": "code",
   "execution_count": 31,
   "id": "0cc8f744",
   "metadata": {
    "execution": {
     "iopub.execute_input": "2025-08-05T16:06:37.142178Z",
     "iopub.status.busy": "2025-08-05T16:06:37.141573Z",
     "iopub.status.idle": "2025-08-05T16:06:37.147746Z",
     "shell.execute_reply": "2025-08-05T16:06:37.146804Z"
    },
    "papermill": {
     "duration": 0.030331,
     "end_time": "2025-08-05T16:06:37.149507",
     "exception": false,
     "start_time": "2025-08-05T16:06:37.119176",
     "status": "completed"
    },
    "tags": []
   },
   "outputs": [],
   "source": [
    "import numpy as np\n",
    "from sklearn.pipeline import Pipeline\n",
    "from sklearn.preprocessing import StandardScaler\n",
    "\n",
    "model = Pipeline([\n",
    "    #(\"continuous_processor\", continuous_processor),\n",
    "    #(\"categorical_preprocessor\", categorical_preprocessor),\n",
    "    (\"scale\", StandardScaler() if universe[\"scale\"] == \"scale\" else None), \n",
    "    (\"model\", model),\n",
    "])"
   ]
  },
  {
   "cell_type": "code",
   "execution_count": 32,
   "id": "9442c04d",
   "metadata": {
    "execution": {
     "iopub.execute_input": "2025-08-05T16:06:37.199537Z",
     "iopub.status.busy": "2025-08-05T16:06:37.198798Z",
     "iopub.status.idle": "2025-08-05T16:06:38.190365Z",
     "shell.execute_reply": "2025-08-05T16:06:38.189324Z"
    },
    "papermill": {
     "duration": 1.016905,
     "end_time": "2025-08-05T16:06:38.192070",
     "exception": false,
     "start_time": "2025-08-05T16:06:37.175165",
     "status": "completed"
    },
    "tags": []
   },
   "outputs": [
    {
     "data": {
      "text/html": [
       "<style>#sk-container-id-1 {color: black;background-color: white;}#sk-container-id-1 pre{padding: 0;}#sk-container-id-1 div.sk-toggleable {background-color: white;}#sk-container-id-1 label.sk-toggleable__label {cursor: pointer;display: block;width: 100%;margin-bottom: 0;padding: 0.3em;box-sizing: border-box;text-align: center;}#sk-container-id-1 label.sk-toggleable__label-arrow:before {content: \"▸\";float: left;margin-right: 0.25em;color: #696969;}#sk-container-id-1 label.sk-toggleable__label-arrow:hover:before {color: black;}#sk-container-id-1 div.sk-estimator:hover label.sk-toggleable__label-arrow:before {color: black;}#sk-container-id-1 div.sk-toggleable__content {max-height: 0;max-width: 0;overflow: hidden;text-align: left;background-color: #f0f8ff;}#sk-container-id-1 div.sk-toggleable__content pre {margin: 0.2em;color: black;border-radius: 0.25em;background-color: #f0f8ff;}#sk-container-id-1 input.sk-toggleable__control:checked~div.sk-toggleable__content {max-height: 200px;max-width: 100%;overflow: auto;}#sk-container-id-1 input.sk-toggleable__control:checked~label.sk-toggleable__label-arrow:before {content: \"▾\";}#sk-container-id-1 div.sk-estimator input.sk-toggleable__control:checked~label.sk-toggleable__label {background-color: #d4ebff;}#sk-container-id-1 div.sk-label input.sk-toggleable__control:checked~label.sk-toggleable__label {background-color: #d4ebff;}#sk-container-id-1 input.sk-hidden--visually {border: 0;clip: rect(1px 1px 1px 1px);clip: rect(1px, 1px, 1px, 1px);height: 1px;margin: -1px;overflow: hidden;padding: 0;position: absolute;width: 1px;}#sk-container-id-1 div.sk-estimator {font-family: monospace;background-color: #f0f8ff;border: 1px dotted black;border-radius: 0.25em;box-sizing: border-box;margin-bottom: 0.5em;}#sk-container-id-1 div.sk-estimator:hover {background-color: #d4ebff;}#sk-container-id-1 div.sk-parallel-item::after {content: \"\";width: 100%;border-bottom: 1px solid gray;flex-grow: 1;}#sk-container-id-1 div.sk-label:hover label.sk-toggleable__label {background-color: #d4ebff;}#sk-container-id-1 div.sk-serial::before {content: \"\";position: absolute;border-left: 1px solid gray;box-sizing: border-box;top: 0;bottom: 0;left: 50%;z-index: 0;}#sk-container-id-1 div.sk-serial {display: flex;flex-direction: column;align-items: center;background-color: white;padding-right: 0.2em;padding-left: 0.2em;position: relative;}#sk-container-id-1 div.sk-item {position: relative;z-index: 1;}#sk-container-id-1 div.sk-parallel {display: flex;align-items: stretch;justify-content: center;background-color: white;position: relative;}#sk-container-id-1 div.sk-item::before, #sk-container-id-1 div.sk-parallel-item::before {content: \"\";position: absolute;border-left: 1px solid gray;box-sizing: border-box;top: 0;bottom: 0;left: 50%;z-index: -1;}#sk-container-id-1 div.sk-parallel-item {display: flex;flex-direction: column;z-index: 1;position: relative;background-color: white;}#sk-container-id-1 div.sk-parallel-item:first-child::after {align-self: flex-end;width: 50%;}#sk-container-id-1 div.sk-parallel-item:last-child::after {align-self: flex-start;width: 50%;}#sk-container-id-1 div.sk-parallel-item:only-child::after {width: 0;}#sk-container-id-1 div.sk-dashed-wrapped {border: 1px dashed gray;margin: 0 0.4em 0.5em 0.4em;box-sizing: border-box;padding-bottom: 0.4em;background-color: white;}#sk-container-id-1 div.sk-label label {font-family: monospace;font-weight: bold;display: inline-block;line-height: 1.2em;}#sk-container-id-1 div.sk-label-container {text-align: center;}#sk-container-id-1 div.sk-container {/* jupyter's `normalize.less` sets `[hidden] { display: none; }` but bootstrap.min.css set `[hidden] { display: none !important; }` so we also need the `!important` here to be able to override the default hidden behavior on the sphinx rendered scikit-learn.org. See: https://github.com/scikit-learn/scikit-learn/issues/21755 */display: inline-block !important;position: relative;}#sk-container-id-1 div.sk-text-repr-fallback {display: none;}</style><div id=\"sk-container-id-1\" class=\"sk-top-container\"><div class=\"sk-text-repr-fallback\"><pre>Pipeline(steps=[(&#x27;scale&#x27;, StandardScaler()),\n",
       "                (&#x27;model&#x27;, GradientBoostingClassifier())])</pre><b>In a Jupyter environment, please rerun this cell to show the HTML representation or trust the notebook. <br />On GitHub, the HTML representation is unable to render, please try loading this page with nbviewer.org.</b></div><div class=\"sk-container\" hidden><div class=\"sk-item sk-dashed-wrapped\"><div class=\"sk-label-container\"><div class=\"sk-label sk-toggleable\"><input class=\"sk-toggleable__control sk-hidden--visually\" id=\"sk-estimator-id-1\" type=\"checkbox\" ><label for=\"sk-estimator-id-1\" class=\"sk-toggleable__label sk-toggleable__label-arrow\">Pipeline</label><div class=\"sk-toggleable__content\"><pre>Pipeline(steps=[(&#x27;scale&#x27;, StandardScaler()),\n",
       "                (&#x27;model&#x27;, GradientBoostingClassifier())])</pre></div></div></div><div class=\"sk-serial\"><div class=\"sk-item\"><div class=\"sk-estimator sk-toggleable\"><input class=\"sk-toggleable__control sk-hidden--visually\" id=\"sk-estimator-id-2\" type=\"checkbox\" ><label for=\"sk-estimator-id-2\" class=\"sk-toggleable__label sk-toggleable__label-arrow\">StandardScaler</label><div class=\"sk-toggleable__content\"><pre>StandardScaler()</pre></div></div></div><div class=\"sk-item\"><div class=\"sk-estimator sk-toggleable\"><input class=\"sk-toggleable__control sk-hidden--visually\" id=\"sk-estimator-id-3\" type=\"checkbox\" ><label for=\"sk-estimator-id-3\" class=\"sk-toggleable__label sk-toggleable__label-arrow\">GradientBoostingClassifier</label><div class=\"sk-toggleable__content\"><pre>GradientBoostingClassifier()</pre></div></div></div></div></div></div></div>"
      ],
      "text/plain": [
       "Pipeline(steps=[('scale', StandardScaler()),\n",
       "                ('model', GradientBoostingClassifier())])"
      ]
     },
     "execution_count": 32,
     "metadata": {},
     "output_type": "execute_result"
    }
   ],
   "source": [
    "model.fit(X_train, y_train.values.ravel())"
   ]
  },
  {
   "cell_type": "code",
   "execution_count": 33,
   "id": "af59f8c0",
   "metadata": {
    "execution": {
     "iopub.execute_input": "2025-08-05T16:06:38.231699Z",
     "iopub.status.busy": "2025-08-05T16:06:38.230902Z",
     "iopub.status.idle": "2025-08-05T16:06:38.236831Z",
     "shell.execute_reply": "2025-08-05T16:06:38.235635Z"
    },
    "papermill": {
     "duration": 0.027883,
     "end_time": "2025-08-05T16:06:38.238998",
     "exception": false,
     "start_time": "2025-08-05T16:06:38.211115",
     "status": "completed"
    },
    "tags": []
   },
   "outputs": [],
   "source": [
    "from fairness_multiverse.universe import predict_w_threshold"
   ]
  },
  {
   "cell_type": "code",
   "execution_count": 34,
   "id": "a7cf2e16",
   "metadata": {
    "execution": {
     "iopub.execute_input": "2025-08-05T16:06:38.288346Z",
     "iopub.status.busy": "2025-08-05T16:06:38.287689Z",
     "iopub.status.idle": "2025-08-05T16:06:39.047151Z",
     "shell.execute_reply": "2025-08-05T16:06:39.046145Z"
    },
    "papermill": {
     "duration": 0.785785,
     "end_time": "2025-08-05T16:06:39.049582",
     "exception": false,
     "start_time": "2025-08-05T16:06:38.263797",
     "status": "completed"
    },
    "tags": []
   },
   "outputs": [
    {
     "data": {
      "text/plain": [
       "0.8485007245569056"
      ]
     },
     "execution_count": 34,
     "metadata": {},
     "output_type": "execute_result"
    }
   ],
   "source": [
    "probs_test = model.predict_proba(X_test)\n",
    "\n",
    "'''\n",
    "Below code returns a boolean array (or binary 0/1 array depending on how it’s used) where each element \n",
    "is True if the probability of class 1 is greater than or equal to the threshold, and False otherwise.\n",
    "'''\n",
    "y_pred_default = predict_w_threshold(probs_test, 0.5)\n",
    "\n",
    "from sklearn.metrics import accuracy_score\n",
    "\n",
    "# Naive prediction\n",
    "accuracy_score(y_true = y_true, y_pred = y_pred_default)"
   ]
  },
  {
   "cell_type": "code",
   "execution_count": 35,
   "id": "081964c3",
   "metadata": {
    "execution": {
     "iopub.execute_input": "2025-08-05T16:06:39.098621Z",
     "iopub.status.busy": "2025-08-05T16:06:39.097680Z",
     "iopub.status.idle": "2025-08-05T16:06:39.818335Z",
     "shell.execute_reply": "2025-08-05T16:06:39.817284Z"
    },
    "papermill": {
     "duration": 0.744935,
     "end_time": "2025-08-05T16:06:39.820116",
     "exception": false,
     "start_time": "2025-08-05T16:06:39.075181",
     "status": "completed"
    },
    "tags": []
   },
   "outputs": [
    {
     "data": {
      "text/plain": [
       "array([0, 0, 0, ..., 0, 0, 0])"
      ]
     },
     "execution_count": 35,
     "metadata": {},
     "output_type": "execute_result"
    }
   ],
   "source": [
    "model.predict(X_test)"
   ]
  },
  {
   "cell_type": "markdown",
   "id": "56c9705b",
   "metadata": {
    "papermill": {
     "duration": 0.019234,
     "end_time": "2025-08-05T16:06:39.859085",
     "exception": false,
     "start_time": "2025-08-05T16:06:39.839851",
     "status": "completed"
    },
    "tags": []
   },
   "source": [
    "# Conformal Prediction"
   ]
  },
  {
   "cell_type": "code",
   "execution_count": 36,
   "id": "160ec6ff",
   "metadata": {
    "execution": {
     "iopub.execute_input": "2025-08-05T16:06:39.899121Z",
     "iopub.status.busy": "2025-08-05T16:06:39.898184Z",
     "iopub.status.idle": "2025-08-05T16:06:39.903962Z",
     "shell.execute_reply": "2025-08-05T16:06:39.902920Z"
    },
    "papermill": {
     "duration": 0.027754,
     "end_time": "2025-08-05T16:06:39.906073",
     "exception": false,
     "start_time": "2025-08-05T16:06:39.878319",
     "status": "completed"
    },
    "tags": []
   },
   "outputs": [],
   "source": [
    "# Miscoverage level for conformal prediction (10% allowed error rate => 90% target coverage)\n",
    "alpha = 0.1"
   ]
  },
  {
   "cell_type": "code",
   "execution_count": 37,
   "id": "eadf4555-3dd3-440e-8e35-f82a4ad9f855",
   "metadata": {
    "execution": {
     "iopub.execute_input": "2025-08-05T16:06:39.954089Z",
     "iopub.status.busy": "2025-08-05T16:06:39.953576Z",
     "iopub.status.idle": "2025-08-05T16:06:40.604171Z",
     "shell.execute_reply": "2025-08-05T16:06:40.602977Z"
    },
    "papermill": {
     "duration": 0.676747,
     "end_time": "2025-08-05T16:06:40.606768",
     "exception": false,
     "start_time": "2025-08-05T16:06:39.930021",
     "status": "completed"
    },
    "tags": []
   },
   "outputs": [],
   "source": [
    "probs_calib = model.predict_proba(X_calib)"
   ]
  },
  {
   "cell_type": "code",
   "execution_count": 38,
   "id": "2ed93547-6d5d-4983-9b36-1ecb300da49a",
   "metadata": {
    "execution": {
     "iopub.execute_input": "2025-08-05T16:06:40.667030Z",
     "iopub.status.busy": "2025-08-05T16:06:40.666202Z",
     "iopub.status.idle": "2025-08-05T16:06:40.673455Z",
     "shell.execute_reply": "2025-08-05T16:06:40.672151Z"
    },
    "papermill": {
     "duration": 0.040051,
     "end_time": "2025-08-05T16:06:40.676258",
     "exception": false,
     "start_time": "2025-08-05T16:06:40.636207",
     "status": "completed"
    },
    "tags": []
   },
   "outputs": [],
   "source": [
    "y_calib = y_calib.values.ravel().astype(int)"
   ]
  },
  {
   "cell_type": "code",
   "execution_count": 39,
   "id": "65d1320d-f588-4b38-9072-62af1ae97f7d",
   "metadata": {
    "execution": {
     "iopub.execute_input": "2025-08-05T16:06:40.736988Z",
     "iopub.status.busy": "2025-08-05T16:06:40.736040Z",
     "iopub.status.idle": "2025-08-05T16:06:40.744765Z",
     "shell.execute_reply": "2025-08-05T16:06:40.743511Z"
    },
    "papermill": {
     "duration": 0.041466,
     "end_time": "2025-08-05T16:06:40.746752",
     "exception": false,
     "start_time": "2025-08-05T16:06:40.705286",
     "status": "completed"
    },
    "tags": []
   },
   "outputs": [],
   "source": [
    "from fairness_multiverse.conformal import compute_nc_scores\n",
    "\n",
    "# Compute nonconformity scores on calibration set (1 - probability of true class)\n",
    "nc_scores = compute_nc_scores(probs_calib, y_calib)"
   ]
  },
  {
   "cell_type": "code",
   "execution_count": 40,
   "id": "df3b8ca3-53b7-43d5-9667-7c85da7aeda2",
   "metadata": {
    "execution": {
     "iopub.execute_input": "2025-08-05T16:06:40.790957Z",
     "iopub.status.busy": "2025-08-05T16:06:40.790017Z",
     "iopub.status.idle": "2025-08-05T16:06:40.797098Z",
     "shell.execute_reply": "2025-08-05T16:06:40.795901Z"
    },
    "papermill": {
     "duration": 0.030941,
     "end_time": "2025-08-05T16:06:40.799274",
     "exception": false,
     "start_time": "2025-08-05T16:06:40.768333",
     "status": "completed"
    },
    "tags": []
   },
   "outputs": [],
   "source": [
    "from fairness_multiverse.conformal import find_threshold\n",
    "\n",
    "# Find conformal threshold q_hat for the given alpha (split conformal method)\n",
    "q_hat = find_threshold(nc_scores, alpha)"
   ]
  },
  {
   "cell_type": "code",
   "execution_count": 41,
   "id": "4d29e6c1-0ef6-4aa4-b8fe-4fe79b0d033a",
   "metadata": {
    "execution": {
     "iopub.execute_input": "2025-08-05T16:06:40.858845Z",
     "iopub.status.busy": "2025-08-05T16:06:40.858094Z",
     "iopub.status.idle": "2025-08-05T16:06:40.866504Z",
     "shell.execute_reply": "2025-08-05T16:06:40.865313Z"
    },
    "papermill": {
     "duration": 0.040342,
     "end_time": "2025-08-05T16:06:40.868599",
     "exception": false,
     "start_time": "2025-08-05T16:06:40.828257",
     "status": "completed"
    },
    "tags": []
   },
   "outputs": [
    {
     "data": {
      "text/plain": [
       "0.7585012094516693"
      ]
     },
     "execution_count": 41,
     "metadata": {},
     "output_type": "execute_result"
    }
   ],
   "source": [
    "q_hat"
   ]
  },
  {
   "cell_type": "code",
   "execution_count": 42,
   "id": "92460794-cdac-4be2-ba28-f28c0515a6fb",
   "metadata": {
    "execution": {
     "iopub.execute_input": "2025-08-05T16:06:40.929710Z",
     "iopub.status.busy": "2025-08-05T16:06:40.928591Z",
     "iopub.status.idle": "2025-08-05T16:06:42.602418Z",
     "shell.execute_reply": "2025-08-05T16:06:42.601200Z"
    },
    "papermill": {
     "duration": 1.707044,
     "end_time": "2025-08-05T16:06:42.604907",
     "exception": false,
     "start_time": "2025-08-05T16:06:40.897863",
     "status": "completed"
    },
    "tags": []
   },
   "outputs": [],
   "source": [
    "from fairness_multiverse.conformal import predict_conformal_sets\n",
    "\n",
    "# Generate prediction sets for each test example\n",
    "pred_sets = predict_conformal_sets(model, X_test, q_hat)"
   ]
  },
  {
   "cell_type": "code",
   "execution_count": 43,
   "id": "d90c9a65-e6db-4f5d-80cd-e68fb7e46829",
   "metadata": {
    "execution": {
     "iopub.execute_input": "2025-08-05T16:06:42.672788Z",
     "iopub.status.busy": "2025-08-05T16:06:42.672287Z",
     "iopub.status.idle": "2025-08-05T16:06:42.679280Z",
     "shell.execute_reply": "2025-08-05T16:06:42.678011Z"
    },
    "papermill": {
     "duration": 0.045434,
     "end_time": "2025-08-05T16:06:42.681833",
     "exception": false,
     "start_time": "2025-08-05T16:06:42.636399",
     "status": "completed"
    },
    "tags": []
   },
   "outputs": [],
   "source": [
    "y_true = y_true.squeeze()"
   ]
  },
  {
   "cell_type": "code",
   "execution_count": 44,
   "id": "3a58a54a-1e68-46b9-927a-df01f18aebc8",
   "metadata": {
    "execution": {
     "iopub.execute_input": "2025-08-05T16:06:42.747355Z",
     "iopub.status.busy": "2025-08-05T16:06:42.746183Z",
     "iopub.status.idle": "2025-08-05T16:06:43.739678Z",
     "shell.execute_reply": "2025-08-05T16:06:43.738694Z"
    },
    "papermill": {
     "duration": 1.027614,
     "end_time": "2025-08-05T16:06:43.741671",
     "exception": false,
     "start_time": "2025-08-05T16:06:42.714057",
     "status": "completed"
    },
    "tags": []
   },
   "outputs": [],
   "source": [
    "from fairness_multiverse.conformal import evaluate_sets\n",
    "\n",
    "# Evaluate coverage and average set size on test data\n",
    "metrics = evaluate_sets(pred_sets, y_true)"
   ]
  },
  {
   "cell_type": "markdown",
   "id": "2b569c12-9aaa-4c88-98c9-bbcd0cf3ebb8",
   "metadata": {
    "papermill": {
     "duration": 0.021651,
     "end_time": "2025-08-05T16:06:43.786746",
     "exception": false,
     "start_time": "2025-08-05T16:06:43.765095",
     "status": "completed"
    },
    "tags": []
   },
   "source": [
    "# CP Metrics"
   ]
  },
  {
   "cell_type": "code",
   "execution_count": 45,
   "id": "5ce0a5cb-201f-45a0-ade5-94c7f0bd6095",
   "metadata": {
    "execution": {
     "iopub.execute_input": "2025-08-05T16:06:43.831077Z",
     "iopub.status.busy": "2025-08-05T16:06:43.830290Z",
     "iopub.status.idle": "2025-08-05T16:06:43.838403Z",
     "shell.execute_reply": "2025-08-05T16:06:43.837550Z"
    },
    "papermill": {
     "duration": 0.03188,
     "end_time": "2025-08-05T16:06:43.840053",
     "exception": false,
     "start_time": "2025-08-05T16:06:43.808173",
     "status": "completed"
    },
    "tags": []
   },
   "outputs": [
    {
     "data": {
      "text/plain": [
       "{'coverage': 0.9090067996878832, 'avg_size': 1.1580760227399398}"
      ]
     },
     "execution_count": 45,
     "metadata": {},
     "output_type": "execute_result"
    }
   ],
   "source": [
    "metrics"
   ]
  },
  {
   "cell_type": "code",
   "execution_count": 46,
   "id": "9b9a838d-31c9-430b-ae14-12baee460d17",
   "metadata": {
    "execution": {
     "iopub.execute_input": "2025-08-05T16:06:43.887523Z",
     "iopub.status.busy": "2025-08-05T16:06:43.886851Z",
     "iopub.status.idle": "2025-08-05T16:06:43.894098Z",
     "shell.execute_reply": "2025-08-05T16:06:43.892881Z"
    },
    "papermill": {
     "duration": 0.032138,
     "end_time": "2025-08-05T16:06:43.896036",
     "exception": false,
     "start_time": "2025-08-05T16:06:43.863898",
     "status": "completed"
    },
    "tags": []
   },
   "outputs": [],
   "source": [
    "example_universe = universe.copy()\n",
    "universe_training_year = example_universe.get(\"training_year\")\n",
    "universe_training_size = example_universe.get(\"training_size\")\n",
    "universe_scale = example_universe.get(\"scale\")\n",
    "universe_model = example_universe.get(\"model\")\n",
    "universe_exclude_features = example_universe.get(\"exclude_features\")\n",
    "universe_exclude_subgroups = example_universe.get(\"exclude_subgroups\")"
   ]
  },
  {
   "cell_type": "code",
   "execution_count": 47,
   "id": "f4b6a8ac-9dc0-4245-8a91-5b3b5999c4f9",
   "metadata": {
    "execution": {
     "iopub.execute_input": "2025-08-05T16:06:43.944239Z",
     "iopub.status.busy": "2025-08-05T16:06:43.943707Z",
     "iopub.status.idle": "2025-08-05T16:06:43.950458Z",
     "shell.execute_reply": "2025-08-05T16:06:43.949386Z"
    },
    "papermill": {
     "duration": 0.033768,
     "end_time": "2025-08-05T16:06:43.952288",
     "exception": false,
     "start_time": "2025-08-05T16:06:43.918520",
     "status": "completed"
    },
    "tags": []
   },
   "outputs": [],
   "source": [
    "cp_metrics_dict = {\n",
    "    \"universe_id\": [universe_id],\n",
    "    \"universe_training_year\": [universe_training_year],\n",
    "    \"universe_training_size\": [universe_training_size],\n",
    "    \"universe_scale\": [universe_scale],\n",
    "    \"universe_model\": [universe_model],\n",
    "    \"universe_exclude_features\": [universe_exclude_features],\n",
    "    \"universe_exclude_subgroups\": [universe_exclude_subgroups],\n",
    "    \"q_hat\": [q_hat],\n",
    "    \"coverage\": [metrics[\"coverage\"]],\n",
    "    \"avg_size\": [metrics[\"avg_size\"]],\n",
    "}"
   ]
  },
  {
   "cell_type": "code",
   "execution_count": 48,
   "id": "908acbb1-0371-4915-85ca-3fa520d2efe2",
   "metadata": {
    "execution": {
     "iopub.execute_input": "2025-08-05T16:06:43.998264Z",
     "iopub.status.busy": "2025-08-05T16:06:43.997268Z",
     "iopub.status.idle": "2025-08-05T16:06:44.006437Z",
     "shell.execute_reply": "2025-08-05T16:06:44.005499Z"
    },
    "papermill": {
     "duration": 0.034191,
     "end_time": "2025-08-05T16:06:44.008385",
     "exception": false,
     "start_time": "2025-08-05T16:06:43.974194",
     "status": "completed"
    },
    "tags": []
   },
   "outputs": [
    {
     "data": {
      "text/plain": [
       "{'universe_id': ['e6f795cfee59ad336a3b0d7a3e6fcde4'],\n",
       " 'universe_training_year': ['2014'],\n",
       " 'universe_training_size': ['1k'],\n",
       " 'universe_scale': ['scale'],\n",
       " 'universe_model': ['gbm'],\n",
       " 'universe_exclude_features': ['sex'],\n",
       " 'universe_exclude_subgroups': ['drop-non-german'],\n",
       " 'q_hat': [0.7585012094516693],\n",
       " 'coverage': [0.9090067996878832],\n",
       " 'avg_size': [1.1580760227399398]}"
      ]
     },
     "execution_count": 48,
     "metadata": {},
     "output_type": "execute_result"
    }
   ],
   "source": [
    "cp_metrics_dict"
   ]
  },
  {
   "cell_type": "code",
   "execution_count": 49,
   "id": "33007efc-14e9-4ec6-97ac-56a455c82265",
   "metadata": {
    "execution": {
     "iopub.execute_input": "2025-08-05T16:06:44.055503Z",
     "iopub.status.busy": "2025-08-05T16:06:44.054708Z",
     "iopub.status.idle": "2025-08-05T16:06:44.061244Z",
     "shell.execute_reply": "2025-08-05T16:06:44.060243Z"
    },
    "papermill": {
     "duration": 0.032099,
     "end_time": "2025-08-05T16:06:44.063160",
     "exception": false,
     "start_time": "2025-08-05T16:06:44.031061",
     "status": "completed"
    },
    "tags": []
   },
   "outputs": [],
   "source": [
    "cp_metrics_df = pd.DataFrame(cp_metrics_dict)"
   ]
  },
  {
   "cell_type": "code",
   "execution_count": 50,
   "id": "db12611b-57b2-4910-b9d0-355adfd6e7bf",
   "metadata": {
    "execution": {
     "iopub.execute_input": "2025-08-05T16:06:44.104006Z",
     "iopub.status.busy": "2025-08-05T16:06:44.103397Z",
     "iopub.status.idle": "2025-08-05T16:06:44.122513Z",
     "shell.execute_reply": "2025-08-05T16:06:44.121545Z"
    },
    "papermill": {
     "duration": 0.041631,
     "end_time": "2025-08-05T16:06:44.128215",
     "exception": false,
     "start_time": "2025-08-05T16:06:44.086584",
     "status": "completed"
    },
    "tags": []
   },
   "outputs": [
    {
     "data": {
      "text/html": [
       "<div>\n",
       "<style scoped>\n",
       "    .dataframe tbody tr th:only-of-type {\n",
       "        vertical-align: middle;\n",
       "    }\n",
       "\n",
       "    .dataframe tbody tr th {\n",
       "        vertical-align: top;\n",
       "    }\n",
       "\n",
       "    .dataframe thead th {\n",
       "        text-align: right;\n",
       "    }\n",
       "</style>\n",
       "<table border=\"1\" class=\"dataframe\">\n",
       "  <thead>\n",
       "    <tr style=\"text-align: right;\">\n",
       "      <th></th>\n",
       "      <th>universe_id</th>\n",
       "      <th>universe_training_year</th>\n",
       "      <th>universe_training_size</th>\n",
       "      <th>universe_scale</th>\n",
       "      <th>universe_model</th>\n",
       "      <th>universe_exclude_features</th>\n",
       "      <th>universe_exclude_subgroups</th>\n",
       "      <th>q_hat</th>\n",
       "      <th>coverage</th>\n",
       "      <th>avg_size</th>\n",
       "    </tr>\n",
       "  </thead>\n",
       "  <tbody>\n",
       "    <tr>\n",
       "      <th>0</th>\n",
       "      <td>e6f795cfee59ad336a3b0d7a3e6fcde4</td>\n",
       "      <td>2014</td>\n",
       "      <td>1k</td>\n",
       "      <td>scale</td>\n",
       "      <td>gbm</td>\n",
       "      <td>sex</td>\n",
       "      <td>drop-non-german</td>\n",
       "      <td>0.758501</td>\n",
       "      <td>0.909007</td>\n",
       "      <td>1.158076</td>\n",
       "    </tr>\n",
       "  </tbody>\n",
       "</table>\n",
       "</div>"
      ],
      "text/plain": [
       "                        universe_id universe_training_year  \\\n",
       "0  e6f795cfee59ad336a3b0d7a3e6fcde4                   2014   \n",
       "\n",
       "  universe_training_size universe_scale universe_model  \\\n",
       "0                     1k          scale            gbm   \n",
       "\n",
       "  universe_exclude_features universe_exclude_subgroups     q_hat  coverage  \\\n",
       "0                       sex            drop-non-german  0.758501  0.909007   \n",
       "\n",
       "   avg_size  \n",
       "0  1.158076  "
      ]
     },
     "execution_count": 50,
     "metadata": {},
     "output_type": "execute_result"
    }
   ],
   "source": [
    "cp_metrics_df"
   ]
  },
  {
   "cell_type": "code",
   "execution_count": 51,
   "id": "b7fbde55-a0a1-47e4-9af6-fe4a17fa8c61",
   "metadata": {
    "execution": {
     "iopub.execute_input": "2025-08-05T16:06:44.169494Z",
     "iopub.status.busy": "2025-08-05T16:06:44.169097Z",
     "iopub.status.idle": "2025-08-05T16:06:44.173521Z",
     "shell.execute_reply": "2025-08-05T16:06:44.172848Z"
    },
    "papermill": {
     "duration": 0.023799,
     "end_time": "2025-08-05T16:06:44.175206",
     "exception": false,
     "start_time": "2025-08-05T16:06:44.151407",
     "status": "completed"
    },
    "tags": []
   },
   "outputs": [],
   "source": [
    "# Conditional Coverage & looking at subgroups"
   ]
  },
  {
   "cell_type": "code",
   "execution_count": 52,
   "id": "027ae886-68dd-4141-96c7-805a5450e1ef",
   "metadata": {
    "execution": {
     "iopub.execute_input": "2025-08-05T16:06:44.200154Z",
     "iopub.status.busy": "2025-08-05T16:06:44.199721Z",
     "iopub.status.idle": "2025-08-05T16:06:44.376505Z",
     "shell.execute_reply": "2025-08-05T16:06:44.375763Z"
    },
    "papermill": {
     "duration": 0.190407,
     "end_time": "2025-08-05T16:06:44.378010",
     "exception": false,
     "start_time": "2025-08-05T16:06:44.187603",
     "status": "completed"
    },
    "tags": []
   },
   "outputs": [],
   "source": [
    "from fairness_multiverse.conformal import build_cp_groups\n",
    "\n",
    "cp_groups_df = build_cp_groups(pred_sets, y_true, X_test.index, org_test)\n",
    "#needs universe_id and setting"
   ]
  },
  {
   "cell_type": "code",
   "execution_count": 53,
   "id": "6cbdab96-b2b2-45af-ad54-d0516db2e28d",
   "metadata": {
    "execution": {
     "iopub.execute_input": "2025-08-05T16:06:44.403183Z",
     "iopub.status.busy": "2025-08-05T16:06:44.402938Z",
     "iopub.status.idle": "2025-08-05T16:06:45.293444Z",
     "shell.execute_reply": "2025-08-05T16:06:45.292461Z"
    },
    "papermill": {
     "duration": 0.905163,
     "end_time": "2025-08-05T16:06:45.295145",
     "exception": false,
     "start_time": "2025-08-05T16:06:44.389982",
     "status": "completed"
    },
    "tags": []
   },
   "outputs": [],
   "source": [
    "# Define covered = 1 if true_label is in the predicted set\n",
    "cp_groups_df['covered'] = cp_groups_df.apply(\n",
    "    lambda r: int(r['true_label'] in r['pred_set']),\n",
    "    axis=1\n",
    ")"
   ]
  },
  {
   "cell_type": "code",
   "execution_count": 54,
   "id": "338ff529-1a6b-4b87-a931-8e4788d52aad",
   "metadata": {
    "execution": {
     "iopub.execute_input": "2025-08-05T16:06:45.336280Z",
     "iopub.status.busy": "2025-08-05T16:06:45.335905Z",
     "iopub.status.idle": "2025-08-05T16:06:45.339823Z",
     "shell.execute_reply": "2025-08-05T16:06:45.339110Z"
    },
    "papermill": {
     "duration": 0.025175,
     "end_time": "2025-08-05T16:06:45.341133",
     "exception": false,
     "start_time": "2025-08-05T16:06:45.315958",
     "status": "completed"
    },
    "tags": []
   },
   "outputs": [],
   "source": [
    "#cp_groups_df"
   ]
  },
  {
   "cell_type": "code",
   "execution_count": 55,
   "id": "90032e27-66df-4540-9169-4e89cfbaa758",
   "metadata": {
    "execution": {
     "iopub.execute_input": "2025-08-05T16:06:45.365712Z",
     "iopub.status.busy": "2025-08-05T16:06:45.365323Z",
     "iopub.status.idle": "2025-08-05T16:06:45.374238Z",
     "shell.execute_reply": "2025-08-05T16:06:45.373271Z"
    },
    "papermill": {
     "duration": 0.022163,
     "end_time": "2025-08-05T16:06:45.375579",
     "exception": false,
     "start_time": "2025-08-05T16:06:45.353416",
     "status": "completed"
    },
    "tags": []
   },
   "outputs": [],
   "source": [
    "subgroups = ['frau1','nongerman','nongerman_male','nongerman_female']\n",
    "\n",
    "# Conditional coverage for subgroup==1\n",
    "cond_coverage = {\n",
    "    g: cp_groups_df.loc[cp_groups_df[g]==1, 'covered'].mean()\n",
    "    for g in subgroups\n",
    "}"
   ]
  },
  {
   "cell_type": "code",
   "execution_count": 56,
   "id": "1e348fb1-b9c3-45bc-ba23-f016827a7e0d",
   "metadata": {
    "execution": {
     "iopub.execute_input": "2025-08-05T16:06:45.436051Z",
     "iopub.status.busy": "2025-08-05T16:06:45.435295Z",
     "iopub.status.idle": "2025-08-05T16:06:45.444372Z",
     "shell.execute_reply": "2025-08-05T16:06:45.443102Z"
    },
    "papermill": {
     "duration": 0.043125,
     "end_time": "2025-08-05T16:06:45.446334",
     "exception": false,
     "start_time": "2025-08-05T16:06:45.403209",
     "status": "completed"
    },
    "tags": []
   },
   "outputs": [
    {
     "data": {
      "text/plain": [
       "{'frau1': 0.9078042862919531,\n",
       " 'nongerman': 0.9076517150395779,\n",
       " 'nongerman_male': 0.9230838512113844,\n",
       " 'nongerman_female': 0.8821162444113264}"
      ]
     },
     "execution_count": 56,
     "metadata": {},
     "output_type": "execute_result"
    }
   ],
   "source": [
    "cond_coverage"
   ]
  },
  {
   "cell_type": "code",
   "execution_count": 57,
   "id": "f5093324-c3dd-4d63-bc4c-8d945e5c8bbb",
   "metadata": {
    "execution": {
     "iopub.execute_input": "2025-08-05T16:06:45.493534Z",
     "iopub.status.busy": "2025-08-05T16:06:45.492793Z",
     "iopub.status.idle": "2025-08-05T16:06:45.502934Z",
     "shell.execute_reply": "2025-08-05T16:06:45.501549Z"
    },
    "papermill": {
     "duration": 0.035407,
     "end_time": "2025-08-05T16:06:45.504853",
     "exception": false,
     "start_time": "2025-08-05T16:06:45.469446",
     "status": "completed"
    },
    "tags": []
   },
   "outputs": [],
   "source": [
    "for subgroup, cov in cond_coverage.items():\n",
    "    cp_metrics_df[f\"cov_{subgroup}\"] = cov"
   ]
  },
  {
   "cell_type": "code",
   "execution_count": 58,
   "id": "6e872e10-dbe5-49e8-b554-5030c98ff75d",
   "metadata": {
    "execution": {
     "iopub.execute_input": "2025-08-05T16:06:45.552833Z",
     "iopub.status.busy": "2025-08-05T16:06:45.552073Z",
     "iopub.status.idle": "2025-08-05T16:06:45.571777Z",
     "shell.execute_reply": "2025-08-05T16:06:45.570666Z"
    },
    "papermill": {
     "duration": 0.044961,
     "end_time": "2025-08-05T16:06:45.573284",
     "exception": false,
     "start_time": "2025-08-05T16:06:45.528323",
     "status": "completed"
    },
    "tags": []
   },
   "outputs": [
    {
     "data": {
      "text/html": [
       "<div>\n",
       "<style scoped>\n",
       "    .dataframe tbody tr th:only-of-type {\n",
       "        vertical-align: middle;\n",
       "    }\n",
       "\n",
       "    .dataframe tbody tr th {\n",
       "        vertical-align: top;\n",
       "    }\n",
       "\n",
       "    .dataframe thead th {\n",
       "        text-align: right;\n",
       "    }\n",
       "</style>\n",
       "<table border=\"1\" class=\"dataframe\">\n",
       "  <thead>\n",
       "    <tr style=\"text-align: right;\">\n",
       "      <th></th>\n",
       "      <th>universe_id</th>\n",
       "      <th>universe_training_year</th>\n",
       "      <th>universe_training_size</th>\n",
       "      <th>universe_scale</th>\n",
       "      <th>universe_model</th>\n",
       "      <th>universe_exclude_features</th>\n",
       "      <th>universe_exclude_subgroups</th>\n",
       "      <th>q_hat</th>\n",
       "      <th>coverage</th>\n",
       "      <th>avg_size</th>\n",
       "      <th>cov_frau1</th>\n",
       "      <th>cov_nongerman</th>\n",
       "      <th>cov_nongerman_male</th>\n",
       "      <th>cov_nongerman_female</th>\n",
       "    </tr>\n",
       "  </thead>\n",
       "  <tbody>\n",
       "    <tr>\n",
       "      <th>0</th>\n",
       "      <td>e6f795cfee59ad336a3b0d7a3e6fcde4</td>\n",
       "      <td>2014</td>\n",
       "      <td>1k</td>\n",
       "      <td>scale</td>\n",
       "      <td>gbm</td>\n",
       "      <td>sex</td>\n",
       "      <td>drop-non-german</td>\n",
       "      <td>0.758501</td>\n",
       "      <td>0.909007</td>\n",
       "      <td>1.158076</td>\n",
       "      <td>0.907804</td>\n",
       "      <td>0.907652</td>\n",
       "      <td>0.923084</td>\n",
       "      <td>0.882116</td>\n",
       "    </tr>\n",
       "  </tbody>\n",
       "</table>\n",
       "</div>"
      ],
      "text/plain": [
       "                        universe_id universe_training_year  \\\n",
       "0  e6f795cfee59ad336a3b0d7a3e6fcde4                   2014   \n",
       "\n",
       "  universe_training_size universe_scale universe_model  \\\n",
       "0                     1k          scale            gbm   \n",
       "\n",
       "  universe_exclude_features universe_exclude_subgroups     q_hat  coverage  \\\n",
       "0                       sex            drop-non-german  0.758501  0.909007   \n",
       "\n",
       "   avg_size  cov_frau1  cov_nongerman  cov_nongerman_male  \\\n",
       "0  1.158076   0.907804       0.907652            0.923084   \n",
       "\n",
       "   cov_nongerman_female  \n",
       "0              0.882116  "
      ]
     },
     "execution_count": 58,
     "metadata": {},
     "output_type": "execute_result"
    }
   ],
   "source": [
    "cp_metrics_df"
   ]
  },
  {
   "cell_type": "markdown",
   "id": "33774451",
   "metadata": {
    "papermill": {
     "duration": 0.026847,
     "end_time": "2025-08-05T16:06:45.622045",
     "exception": false,
     "start_time": "2025-08-05T16:06:45.595198",
     "status": "completed"
    },
    "tags": []
   },
   "source": [
    "# (Fairness) Metrics"
   ]
  },
  {
   "cell_type": "code",
   "execution_count": 59,
   "id": "debc5d62",
   "metadata": {
    "execution": {
     "iopub.execute_input": "2025-08-05T16:06:45.673573Z",
     "iopub.status.busy": "2025-08-05T16:06:45.672711Z",
     "iopub.status.idle": "2025-08-05T16:06:45.696631Z",
     "shell.execute_reply": "2025-08-05T16:06:45.695597Z"
    },
    "papermill": {
     "duration": 0.051788,
     "end_time": "2025-08-05T16:06:45.698554",
     "exception": false,
     "start_time": "2025-08-05T16:06:45.646766",
     "status": "completed"
    },
    "tags": []
   },
   "outputs": [],
   "source": [
    "# do I need to include maxdeutsch1.missing?\n",
    "\n",
    "import numpy as np\n",
    "\n",
    "colname_to_bin = \"maxdeutsch1\"\n",
    "majority_value = org_train[colname_to_bin].mode()[0]\n",
    "\n",
    "org_test[\"majmin\"] = np.where(org_test[colname_to_bin] == majority_value, \"majority\", \"minority\")"
   ]
  },
  {
   "cell_type": "code",
   "execution_count": 60,
   "id": "06a50de5",
   "metadata": {
    "execution": {
     "iopub.execute_input": "2025-08-05T16:06:45.748361Z",
     "iopub.status.busy": "2025-08-05T16:06:45.747675Z",
     "iopub.status.idle": "2025-08-05T16:06:48.226404Z",
     "shell.execute_reply": "2025-08-05T16:06:48.225150Z"
    },
    "papermill": {
     "duration": 2.505289,
     "end_time": "2025-08-05T16:06:48.228059",
     "exception": false,
     "start_time": "2025-08-05T16:06:45.722770",
     "status": "completed"
    },
    "tags": []
   },
   "outputs": [],
   "source": [
    "example_universe = universe.copy()\n",
    "example_universe[\"cutoff\"] = example_universe[\"cutoff\"][0]\n",
    "example_universe[\"eval_fairness_grouping\"] = example_universe[\"eval_fairness_grouping\"][0]\n",
    "fairness_dict, metric_frame = universe_analysis.compute_metrics(\n",
    "    example_universe,\n",
    "    y_pred_prob=probs_test,\n",
    "    y_test=y_true,\n",
    "    org_test=org_test,\n",
    ")"
   ]
  },
  {
   "cell_type": "markdown",
   "id": "f95d4e02",
   "metadata": {
    "papermill": {
     "duration": 0.014445,
     "end_time": "2025-08-05T16:06:48.268015",
     "exception": false,
     "start_time": "2025-08-05T16:06:48.253570",
     "status": "completed"
    },
    "tags": []
   },
   "source": [
    "# Overall"
   ]
  },
  {
   "cell_type": "markdown",
   "id": "bdee4871",
   "metadata": {
    "papermill": {
     "duration": 0.012287,
     "end_time": "2025-08-05T16:06:48.292662",
     "exception": false,
     "start_time": "2025-08-05T16:06:48.280375",
     "status": "completed"
    },
    "tags": []
   },
   "source": [
    "Fairness\n",
    "Main fairness target: Equalized Odds. Seems to be a better fit than equal opportunity, since we're not only interested in Y = 1. Seems to be a better fit than demographic parity, since we also care about accuracy, not just equal distribution of preds.\n",
    "\n",
    "Pick column for computation of fairness metrics\n",
    "\n",
    "Performance\n",
    "Overall performance measures, most interesting in relation to the measures split by group below"
   ]
  },
  {
   "cell_type": "code",
   "execution_count": 61,
   "id": "c4e067c6",
   "metadata": {
    "execution": {
     "iopub.execute_input": "2025-08-05T16:06:48.322452Z",
     "iopub.status.busy": "2025-08-05T16:06:48.322110Z",
     "iopub.status.idle": "2025-08-05T16:06:48.332206Z",
     "shell.execute_reply": "2025-08-05T16:06:48.329898Z"
    },
    "papermill": {
     "duration": 0.029043,
     "end_time": "2025-08-05T16:06:48.334037",
     "exception": false,
     "start_time": "2025-08-05T16:06:48.304994",
     "status": "completed"
    },
    "tags": []
   },
   "outputs": [
    {
     "data": {
      "text/plain": [
       "accuracy                   0.221101\n",
       "balanced accuracy          0.541309\n",
       "f1                         0.242523\n",
       "precision                  0.138545\n",
       "false positive rate        0.889402\n",
       "false negative rate        0.027981\n",
       "selection rate             0.900000\n",
       "count                  89710.000000\n",
       "dtype: float64"
      ]
     },
     "execution_count": 61,
     "metadata": {},
     "output_type": "execute_result"
    }
   ],
   "source": [
    "metric_frame.overall"
   ]
  },
  {
   "cell_type": "markdown",
   "id": "e968fe9d",
   "metadata": {
    "papermill": {
     "duration": 0.013121,
     "end_time": "2025-08-05T16:06:48.360465",
     "exception": false,
     "start_time": "2025-08-05T16:06:48.347344",
     "status": "completed"
    },
    "tags": []
   },
   "source": [
    "By Group"
   ]
  },
  {
   "cell_type": "code",
   "execution_count": 62,
   "id": "ec325bce",
   "metadata": {
    "execution": {
     "iopub.execute_input": "2025-08-05T16:06:48.397558Z",
     "iopub.status.busy": "2025-08-05T16:06:48.397073Z",
     "iopub.status.idle": "2025-08-05T16:06:48.418980Z",
     "shell.execute_reply": "2025-08-05T16:06:48.417688Z"
    },
    "papermill": {
     "duration": 0.048091,
     "end_time": "2025-08-05T16:06:48.421125",
     "exception": false,
     "start_time": "2025-08-05T16:06:48.373034",
     "status": "completed"
    },
    "tags": []
   },
   "outputs": [
    {
     "data": {
      "text/html": [
       "<div>\n",
       "<style scoped>\n",
       "    .dataframe tbody tr th:only-of-type {\n",
       "        vertical-align: middle;\n",
       "    }\n",
       "\n",
       "    .dataframe tbody tr th {\n",
       "        vertical-align: top;\n",
       "    }\n",
       "\n",
       "    .dataframe thead th {\n",
       "        text-align: right;\n",
       "    }\n",
       "</style>\n",
       "<table border=\"1\" class=\"dataframe\">\n",
       "  <thead>\n",
       "    <tr style=\"text-align: right;\">\n",
       "      <th></th>\n",
       "      <th>accuracy</th>\n",
       "      <th>balanced accuracy</th>\n",
       "      <th>f1</th>\n",
       "      <th>precision</th>\n",
       "      <th>false positive rate</th>\n",
       "      <th>false negative rate</th>\n",
       "      <th>selection rate</th>\n",
       "      <th>count</th>\n",
       "    </tr>\n",
       "    <tr>\n",
       "      <th>majmin</th>\n",
       "      <th></th>\n",
       "      <th></th>\n",
       "      <th></th>\n",
       "      <th></th>\n",
       "      <th></th>\n",
       "      <th></th>\n",
       "      <th></th>\n",
       "      <th></th>\n",
       "    </tr>\n",
       "  </thead>\n",
       "  <tbody>\n",
       "    <tr>\n",
       "      <th>majority</th>\n",
       "      <td>0.240466</td>\n",
       "      <td>0.549101</td>\n",
       "      <td>0.252068</td>\n",
       "      <td>0.144887</td>\n",
       "      <td>0.870398</td>\n",
       "      <td>0.03140</td>\n",
       "      <td>0.883374</td>\n",
       "      <td>69170.0</td>\n",
       "    </tr>\n",
       "    <tr>\n",
       "      <th>minority</th>\n",
       "      <td>0.155891</td>\n",
       "      <td>0.516520</td>\n",
       "      <td>0.212052</td>\n",
       "      <td>0.118812</td>\n",
       "      <td>0.952179</td>\n",
       "      <td>0.01478</td>\n",
       "      <td>0.955988</td>\n",
       "      <td>20540.0</td>\n",
       "    </tr>\n",
       "  </tbody>\n",
       "</table>\n",
       "</div>"
      ],
      "text/plain": [
       "          accuracy  balanced accuracy        f1  precision  \\\n",
       "majmin                                                       \n",
       "majority  0.240466           0.549101  0.252068   0.144887   \n",
       "minority  0.155891           0.516520  0.212052   0.118812   \n",
       "\n",
       "          false positive rate  false negative rate  selection rate    count  \n",
       "majmin                                                                       \n",
       "majority             0.870398              0.03140        0.883374  69170.0  \n",
       "minority             0.952179              0.01478        0.955988  20540.0  "
      ]
     },
     "execution_count": 62,
     "metadata": {},
     "output_type": "execute_result"
    }
   ],
   "source": [
    "metric_frame.by_group"
   ]
  },
  {
   "cell_type": "code",
   "execution_count": 63,
   "id": "a9ddbe63",
   "metadata": {
    "execution": {
     "iopub.execute_input": "2025-08-05T16:06:48.486737Z",
     "iopub.status.busy": "2025-08-05T16:06:48.486279Z",
     "iopub.status.idle": "2025-08-05T16:06:50.771878Z",
     "shell.execute_reply": "2025-08-05T16:06:50.770882Z"
    },
    "papermill": {
     "duration": 2.319181,
     "end_time": "2025-08-05T16:06:50.773711",
     "exception": false,
     "start_time": "2025-08-05T16:06:48.454530",
     "status": "completed"
    },
    "tags": []
   },
   "outputs": [
    {
     "data": {
      "text/plain": [
       "array([[<Axes: title={'center': 'accuracy'}, xlabel='majmin'>,\n",
       "        <Axes: title={'center': 'balanced accuracy'}, xlabel='majmin'>,\n",
       "        <Axes: title={'center': 'f1'}, xlabel='majmin'>],\n",
       "       [<Axes: title={'center': 'precision'}, xlabel='majmin'>,\n",
       "        <Axes: title={'center': 'false positive rate'}, xlabel='majmin'>,\n",
       "        <Axes: title={'center': 'false negative rate'}, xlabel='majmin'>],\n",
       "       [<Axes: title={'center': 'selection rate'}, xlabel='majmin'>,\n",
       "        <Axes: title={'center': 'count'}, xlabel='majmin'>,\n",
       "        <Axes: xlabel='majmin'>]], dtype=object)"
      ]
     },
     "execution_count": 63,
     "metadata": {},
     "output_type": "execute_result"
    },
    {
     "data": {
      "image/png": "[encoded data removed]",
      "text/plain": [
       "<Figure size 1200x800 with 9 Axes>"
      ]
     },
     "metadata": {},
     "output_type": "display_data"
    }
   ],
   "source": [
    "# In a graphic\n",
    "metric_frame.by_group.plot.bar(\n",
    "    subplots=True,\n",
    "    layout=[3, 3],\n",
    "    legend=False,\n",
    "    figsize=[12, 8],\n",
    "    title=\"Show all metrics\",\n",
    ")"
   ]
  },
  {
   "cell_type": "markdown",
   "id": "f57a0bac",
   "metadata": {
    "papermill": {
     "duration": 0.025811,
     "end_time": "2025-08-05T16:06:50.826823",
     "exception": false,
     "start_time": "2025-08-05T16:06:50.801012",
     "status": "completed"
    },
    "tags": []
   },
   "source": [
    "# Final Output"
   ]
  },
  {
   "cell_type": "code",
   "execution_count": 64,
   "id": "96d280a3",
   "metadata": {
    "execution": {
     "iopub.execute_input": "2025-08-05T16:06:50.880026Z",
     "iopub.status.busy": "2025-08-05T16:06:50.879131Z",
     "iopub.status.idle": "2025-08-05T16:06:50.887855Z",
     "shell.execute_reply": "2025-08-05T16:06:50.886755Z"
    },
    "papermill": {
     "duration": 0.036972,
     "end_time": "2025-08-05T16:06:50.889685",
     "exception": false,
     "start_time": "2025-08-05T16:06:50.852713",
     "status": "completed"
    },
    "tags": []
   },
   "outputs": [
    {
     "data": {
      "text/plain": [
       "4"
      ]
     },
     "execution_count": 64,
     "metadata": {},
     "output_type": "execute_result"
    }
   ],
   "source": [
    "sub_universes = universe_analysis.generate_sub_universes()\n",
    "len(sub_universes)"
   ]
  },
  {
   "cell_type": "code",
   "execution_count": 65,
   "id": "92adf7ba",
   "metadata": {
    "execution": {
     "iopub.execute_input": "2025-08-05T16:06:50.949224Z",
     "iopub.status.busy": "2025-08-05T16:06:50.948275Z",
     "iopub.status.idle": "2025-08-05T16:06:50.954910Z",
     "shell.execute_reply": "2025-08-05T16:06:50.953886Z"
    },
    "papermill": {
     "duration": 0.040379,
     "end_time": "2025-08-05T16:06:50.956648",
     "exception": false,
     "start_time": "2025-08-05T16:06:50.916269",
     "status": "completed"
    },
    "tags": []
   },
   "outputs": [],
   "source": [
    "def filter_sub_universe_data(sub_universe, org_test):\n",
    "    # Keep all rows — no filtering\n",
    "    keep_rows_mask = np.ones(org_test.shape[0], dtype=bool)\n",
    "\n",
    "    print(f\"[INFO] Keeping all rows: {keep_rows_mask.sum()} rows retained.\")\n",
    "    return keep_rows_mask"
   ]
  },
  {
   "cell_type": "code",
   "execution_count": 66,
   "id": "4a759155",
   "metadata": {
    "execution": {
     "iopub.execute_input": "2025-08-05T16:06:51.010680Z",
     "iopub.status.busy": "2025-08-05T16:06:51.010103Z",
     "iopub.status.idle": "2025-08-05T16:06:59.293457Z",
     "shell.execute_reply": "2025-08-05T16:06:59.292454Z"
    },
    "papermill": {
     "duration": 8.312457,
     "end_time": "2025-08-05T16:06:59.295241",
     "exception": false,
     "start_time": "2025-08-05T16:06:50.982784",
     "status": "completed"
    },
    "tags": []
   },
   "outputs": [
    {
     "name": "stdout",
     "output_type": "stream",
     "text": [
      "Stopping execution_time clock.\n",
      "[INFO] Keeping all rows: 89710 rows retained.\n"
     ]
    },
    {
     "name": "stdout",
     "output_type": "stream",
     "text": [
      "[INFO] Keeping all rows: 89710 rows retained.\n"
     ]
    },
    {
     "name": "stdout",
     "output_type": "stream",
     "text": [
      "[INFO] Keeping all rows: 89710 rows retained.\n"
     ]
    },
    {
     "name": "stdout",
     "output_type": "stream",
     "text": [
      "[INFO] Keeping all rows: 89710 rows retained.\n"
     ]
    },
    {
     "data": {
      "text/html": [
       "<div>\n",
       "<style scoped>\n",
       "    .dataframe tbody tr th:only-of-type {\n",
       "        vertical-align: middle;\n",
       "    }\n",
       "\n",
       "    .dataframe tbody tr th {\n",
       "        vertical-align: top;\n",
       "    }\n",
       "\n",
       "    .dataframe thead th {\n",
       "        text-align: right;\n",
       "    }\n",
       "</style>\n",
       "<table border=\"1\" class=\"dataframe\">\n",
       "  <thead>\n",
       "    <tr style=\"text-align: right;\">\n",
       "      <th></th>\n",
       "      <th>run_no</th>\n",
       "      <th>universe_id</th>\n",
       "      <th>universe_settings</th>\n",
       "      <th>execution_time</th>\n",
       "      <th>test_size_n</th>\n",
       "      <th>test_size_frac</th>\n",
       "      <th>fair_main_equalized_odds_difference</th>\n",
       "      <th>fair_main_equalized_odds_ratio</th>\n",
       "      <th>fair_main_demographic_parity_difference</th>\n",
       "      <th>fair_main_demographic_parity_ratio</th>\n",
       "      <th>...</th>\n",
       "      <th>perf_grp_precision_0</th>\n",
       "      <th>perf_grp_precision_1</th>\n",
       "      <th>perf_grp_false positive rate_0</th>\n",
       "      <th>perf_grp_false positive rate_1</th>\n",
       "      <th>perf_grp_false negative rate_0</th>\n",
       "      <th>perf_grp_false negative rate_1</th>\n",
       "      <th>perf_grp_selection rate_0</th>\n",
       "      <th>perf_grp_selection rate_1</th>\n",
       "      <th>perf_grp_count_0</th>\n",
       "      <th>perf_grp_count_1</th>\n",
       "    </tr>\n",
       "  </thead>\n",
       "  <tbody>\n",
       "    <tr>\n",
       "      <th>0</th>\n",
       "      <td>15</td>\n",
       "      <td>e6f795cfee59ad336a3b0d7a3e6fcde4</td>\n",
       "      <td>{\"cutoff\": \"quantile_0.1\", \"eval_fairness_grou...</td>\n",
       "      <td>28.299639</td>\n",
       "      <td>89710</td>\n",
       "      <td>1.0</td>\n",
       "      <td>0.081781</td>\n",
       "      <td>0.914112</td>\n",
       "      <td>0.072614</td>\n",
       "      <td>0.924043</td>\n",
       "      <td>...</td>\n",
       "      <td>NaN</td>\n",
       "      <td>NaN</td>\n",
       "      <td>NaN</td>\n",
       "      <td>NaN</td>\n",
       "      <td>NaN</td>\n",
       "      <td>NaN</td>\n",
       "      <td>NaN</td>\n",
       "      <td>NaN</td>\n",
       "      <td>NaN</td>\n",
       "      <td>NaN</td>\n",
       "    </tr>\n",
       "    <tr>\n",
       "      <th>0</th>\n",
       "      <td>15</td>\n",
       "      <td>e6f795cfee59ad336a3b0d7a3e6fcde4</td>\n",
       "      <td>{\"cutoff\": \"quantile_0.1\", \"eval_fairness_grou...</td>\n",
       "      <td>28.299639</td>\n",
       "      <td>89710</td>\n",
       "      <td>1.0</td>\n",
       "      <td>0.081781</td>\n",
       "      <td>0.914112</td>\n",
       "      <td>0.072614</td>\n",
       "      <td>0.924043</td>\n",
       "      <td>...</td>\n",
       "      <td>0.118812</td>\n",
       "      <td>0.144887</td>\n",
       "      <td>0.952179</td>\n",
       "      <td>0.870398</td>\n",
       "      <td>0.014780</td>\n",
       "      <td>0.031400</td>\n",
       "      <td>0.955988</td>\n",
       "      <td>0.883374</td>\n",
       "      <td>20540.0</td>\n",
       "      <td>69170.0</td>\n",
       "    </tr>\n",
       "    <tr>\n",
       "      <th>0</th>\n",
       "      <td>15</td>\n",
       "      <td>e6f795cfee59ad336a3b0d7a3e6fcde4</td>\n",
       "      <td>{\"cutoff\": \"quantile_0.25\", \"eval_fairness_gro...</td>\n",
       "      <td>28.299639</td>\n",
       "      <td>89710</td>\n",
       "      <td>1.0</td>\n",
       "      <td>0.178366</td>\n",
       "      <td>0.793654</td>\n",
       "      <td>0.159135</td>\n",
       "      <td>0.817914</td>\n",
       "      <td>...</td>\n",
       "      <td>NaN</td>\n",
       "      <td>NaN</td>\n",
       "      <td>NaN</td>\n",
       "      <td>NaN</td>\n",
       "      <td>NaN</td>\n",
       "      <td>NaN</td>\n",
       "      <td>NaN</td>\n",
       "      <td>NaN</td>\n",
       "      <td>NaN</td>\n",
       "      <td>NaN</td>\n",
       "    </tr>\n",
       "    <tr>\n",
       "      <th>0</th>\n",
       "      <td>15</td>\n",
       "      <td>e6f795cfee59ad336a3b0d7a3e6fcde4</td>\n",
       "      <td>{\"cutoff\": \"quantile_0.25\", \"eval_fairness_gro...</td>\n",
       "      <td>28.299639</td>\n",
       "      <td>89710</td>\n",
       "      <td>1.0</td>\n",
       "      <td>0.178366</td>\n",
       "      <td>0.793654</td>\n",
       "      <td>0.159135</td>\n",
       "      <td>0.817914</td>\n",
       "      <td>...</td>\n",
       "      <td>0.124951</td>\n",
       "      <td>0.167078</td>\n",
       "      <td>0.864407</td>\n",
       "      <td>0.686040</td>\n",
       "      <td>0.052787</td>\n",
       "      <td>0.096171</td>\n",
       "      <td>0.873953</td>\n",
       "      <td>0.714819</td>\n",
       "      <td>20540.0</td>\n",
       "      <td>69170.0</td>\n",
       "    </tr>\n",
       "  </tbody>\n",
       "</table>\n",
       "<p>4 rows × 50 columns</p>\n",
       "</div>"
      ],
      "text/plain": [
       "  run_no                       universe_id  \\\n",
       "0     15  e6f795cfee59ad336a3b0d7a3e6fcde4   \n",
       "0     15  e6f795cfee59ad336a3b0d7a3e6fcde4   \n",
       "0     15  e6f795cfee59ad336a3b0d7a3e6fcde4   \n",
       "0     15  e6f795cfee59ad336a3b0d7a3e6fcde4   \n",
       "\n",
       "                                   universe_settings  execution_time  \\\n",
       "0  {\"cutoff\": \"quantile_0.1\", \"eval_fairness_grou...       28.299639   \n",
       "0  {\"cutoff\": \"quantile_0.1\", \"eval_fairness_grou...       28.299639   \n",
       "0  {\"cutoff\": \"quantile_0.25\", \"eval_fairness_gro...       28.299639   \n",
       "0  {\"cutoff\": \"quantile_0.25\", \"eval_fairness_gro...       28.299639   \n",
       "\n",
       "   test_size_n  test_size_frac  fair_main_equalized_odds_difference  \\\n",
       "0        89710             1.0                             0.081781   \n",
       "0        89710             1.0                             0.081781   \n",
       "0        89710             1.0                             0.178366   \n",
       "0        89710             1.0                             0.178366   \n",
       "\n",
       "   fair_main_equalized_odds_ratio  fair_main_demographic_parity_difference  \\\n",
       "0                        0.914112                                 0.072614   \n",
       "0                        0.914112                                 0.072614   \n",
       "0                        0.793654                                 0.159135   \n",
       "0                        0.793654                                 0.159135   \n",
       "\n",
       "   fair_main_demographic_parity_ratio  ...  perf_grp_precision_0  \\\n",
       "0                            0.924043  ...                   NaN   \n",
       "0                            0.924043  ...              0.118812   \n",
       "0                            0.817914  ...                   NaN   \n",
       "0                            0.817914  ...              0.124951   \n",
       "\n",
       "   perf_grp_precision_1  perf_grp_false positive rate_0  \\\n",
       "0                   NaN                             NaN   \n",
       "0              0.144887                        0.952179   \n",
       "0                   NaN                             NaN   \n",
       "0              0.167078                        0.864407   \n",
       "\n",
       "   perf_grp_false positive rate_1  perf_grp_false negative rate_0  \\\n",
       "0                             NaN                             NaN   \n",
       "0                        0.870398                        0.014780   \n",
       "0                             NaN                             NaN   \n",
       "0                        0.686040                        0.052787   \n",
       "\n",
       "   perf_grp_false negative rate_1  perf_grp_selection rate_0  \\\n",
       "0                             NaN                        NaN   \n",
       "0                        0.031400                   0.955988   \n",
       "0                             NaN                        NaN   \n",
       "0                        0.096171                   0.873953   \n",
       "\n",
       "   perf_grp_selection rate_1  perf_grp_count_0  perf_grp_count_1  \n",
       "0                        NaN               NaN               NaN  \n",
       "0                   0.883374           20540.0           69170.0  \n",
       "0                        NaN               NaN               NaN  \n",
       "0                   0.714819           20540.0           69170.0  \n",
       "\n",
       "[4 rows x 50 columns]"
      ]
     },
     "execution_count": 66,
     "metadata": {},
     "output_type": "execute_result"
    }
   ],
   "source": [
    "final_output = universe_analysis.generate_final_output(\n",
    "    y_pred_prob=probs_test,\n",
    "    y_test=y_true,\n",
    "    org_test=org_test,\n",
    "    filter_data=filter_sub_universe_data,\n",
    "    cp_metrics_df=cp_metrics_df,\n",
    "    save=True,\n",
    ")\n",
    "final_output"
   ]
  }
 ],
 "metadata": {
  "celltoolbar": "Tags",
  "kernelspec": {
   "display_name": "Python (CMA Fairness)",
   "language": "python",
   "name": "cma_fair_env"
  },
  "language_info": {
   "codemirror_mode": {
    "name": "ipython",
    "version": 3
   },
   "file_extension": ".py",
   "mimetype": "text/x-python",
   "name": "python",
   "nbconvert_exporter": "python",
   "pygments_lexer": "ipython3",
   "version": "3.10.12"
  },
  "papermill": {
   "default_parameters": {},
   "duration": 40.904799,
   "end_time": "2025-08-05T16:07:00.144484",
   "environment_variables": {},
   "exception": null,
   "input_path": "universe_analysis.ipynb",
   "output_path": "output/runs/15/notebooks/m_15-e6f795cfee59ad336a3b0d7a3e6fcde4.ipynb",
   "parameters": {
    "output_dir": "output",
    "run_no": "15",
    "seed": "2023",
    "universe": "{\"cutoff\": [\"quantile_0.1\", \"quantile_0.25\"], \"eval_fairness_grouping\": [\"majority-minority\", \"nationality-all\"], \"exclude_features\": \"sex\", \"exclude_subgroups\": \"drop-non-german\", \"model\": \"gbm\", \"scale\": \"scale\", \"training_size\": \"1k\", \"training_year\": \"2014\"}",
    "universe_id": "e6f795cfee59ad336a3b0d7a3e6fcde4"
   },
   "start_time": "2025-08-05T16:06:19.239685",
   "version": "2.6.0"
  }
 },
 "nbformat": 4,
 "nbformat_minor": 5
}