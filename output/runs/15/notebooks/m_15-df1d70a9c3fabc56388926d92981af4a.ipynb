{
 "cells": [
  {
   "cell_type": "code",
   "execution_count": 1,
   "id": "f159f837-637b-42ba-96b5-ec9a68c44524",
   "metadata": {
    "execution": {
     "iopub.execute_input": "2025-08-05T15:56:51.839360Z",
     "iopub.status.busy": "2025-08-05T15:56:51.838876Z",
     "iopub.status.idle": "2025-08-05T15:56:51.855266Z",
     "shell.execute_reply": "2025-08-05T15:56:51.854199Z"
    },
    "papermill": {
     "duration": 0.041023,
     "end_time": "2025-08-05T15:56:51.857183",
     "exception": false,
     "start_time": "2025-08-05T15:56:51.816160",
     "status": "completed"
    },
    "tags": []
   },
   "outputs": [
    {
     "name": "stdout",
     "output_type": "stream",
     "text": [
      "/dss/dsshome1/0C/ra93lal2/cma/CMA_Fairness_v2\n"
     ]
    },
    {
     "name": "stderr",
     "output_type": "stream",
     "text": [
      "/dss/dsshome1/0C/ra93lal2/.local/share/virtualenvs/CMA_Fairness_v2-3j10GkSs/lib/python3.10/site-packages/IPython/core/magics/osm.py:393: UserWarning: This is now an optional IPython functionality, using bookmarks requires you to install the `pickleshare` library.\n",
      "  bkms = self.shell.db.get('bookmarks', {})\n",
      "/dss/dsshome1/0C/ra93lal2/.local/share/virtualenvs/CMA_Fairness_v2-3j10GkSs/lib/python3.10/site-packages/IPython/core/magics/osm.py:417: UserWarning: This is now an optional IPython functionality, setting dhist requires you to install the `pickleshare` library.\n",
      "  self.shell.db['dhist'] = compress_dhist(dhist)[-100:]\n"
     ]
    }
   ],
   "source": [
    "%cd ~/cma/CMA_Fairness_v2"
   ]
  },
  {
   "cell_type": "markdown",
   "id": "de2603b9",
   "metadata": {
    "papermill": {
     "duration": 0.00917,
     "end_time": "2025-08-05T15:56:51.881626",
     "exception": false,
     "start_time": "2025-08-05T15:56:51.872456",
     "status": "completed"
    },
    "tags": []
   },
   "source": [
    "The following cell holds the definition of our parameters, these values can be overriden by rendering the with e.g. the following command:\n",
    "\n",
    "papermill -p alpha 0.2 -p ratio 0.3 universe_analysis.ipynb output/test_run.ipynb"
   ]
  },
  {
   "cell_type": "code",
   "execution_count": 2,
   "id": "a80968a0-40bb-4fa9-85ef-2d5eefb01975",
   "metadata": {
    "execution": {
     "iopub.execute_input": "2025-08-05T15:56:51.905413Z",
     "iopub.status.busy": "2025-08-05T15:56:51.905051Z",
     "iopub.status.idle": "2025-08-05T15:56:51.909619Z",
     "shell.execute_reply": "2025-08-05T15:56:51.908603Z"
    },
    "papermill": {
     "duration": 0.017848,
     "end_time": "2025-08-05T15:56:51.911049",
     "exception": false,
     "start_time": "2025-08-05T15:56:51.893201",
     "status": "completed"
    },
    "tags": []
   },
   "outputs": [
    {
     "name": "stdout",
     "output_type": "stream",
     "text": [
      "Current working directory: /dss/dsshome1/0C/ra93lal2/cma/CMA_Fairness_v2\n"
     ]
    }
   ],
   "source": [
    "import os\n",
    "print(\"Current working directory:\", os.getcwd())"
   ]
  },
  {
   "cell_type": "code",
   "execution_count": 3,
   "id": "2dce4c03",
   "metadata": {
    "execution": {
     "iopub.execute_input": "2025-08-05T15:56:51.929362Z",
     "iopub.status.busy": "2025-08-05T15:56:51.929128Z",
     "iopub.status.idle": "2025-08-05T15:56:52.000853Z",
     "shell.execute_reply": "2025-08-05T15:56:52.000032Z"
    },
    "papermill": {
     "duration": 0.082719,
     "end_time": "2025-08-05T15:56:52.002542",
     "exception": false,
     "start_time": "2025-08-05T15:56:51.919823",
     "status": "completed"
    },
    "tags": [
     "parameters"
    ]
   },
   "outputs": [],
   "source": [
    "run_no = 0\n",
    "universe_id = \"test\"\n",
    "universe = {\n",
    "    \"training_size\": \"25k\", # \"25k\", \"5k\", \"1k\"\n",
    "    \"training_year\": \"2014\", # \"2014\", \"2012_14\", \"2010_14\"\n",
    "    \"scale\": \"scale\", # \"scale\", \"do-not-scale\",\n",
    "    \"model\": \"elasticnet\", # \"logreg\", \"penalized_logreg\", \"rf\", \"gbm\", \"elasticnet\"\n",
    "    \"cutoff\": [\"quantile_0.15\", \"quantile_0.30\"],\n",
    "    \"exclude_features\": \"age\", # \"none\", \"nationality\", \"sex\", \"nationality-sex\", \"age\"\n",
    "    \"exclude_subgroups\": \"keep-all\", # \"keep-all\", \"drop-non-german\"\n",
    "    \"eval_fairness_grouping\": [\"majority-minority\", \"nationality-all\"]\n",
    "}\n",
    "\n",
    "output_dir=\"./output\"\n",
    "seed=0"
   ]
  },
  {
   "cell_type": "code",
   "execution_count": 4,
   "id": "69942ee8",
   "metadata": {
    "execution": {
     "iopub.execute_input": "2025-08-05T15:56:52.027828Z",
     "iopub.status.busy": "2025-08-05T15:56:52.027606Z",
     "iopub.status.idle": "2025-08-05T15:56:52.031990Z",
     "shell.execute_reply": "2025-08-05T15:56:52.031182Z"
    },
    "papermill": {
     "duration": 0.016584,
     "end_time": "2025-08-05T15:56:52.033685",
     "exception": false,
     "start_time": "2025-08-05T15:56:52.017101",
     "status": "completed"
    },
    "tags": [
     "injected-parameters"
    ]
   },
   "outputs": [],
   "source": [
    "# Parameters\n",
    "universe_id = \"df1d70a9c3fabc56388926d92981af4a\"\n",
    "run_no = \"15\"\n",
    "universe = \"{\\\"cutoff\\\": [\\\"quantile_0.1\\\", \\\"quantile_0.25\\\"], \\\"eval_fairness_grouping\\\": [\\\"majority-minority\\\", \\\"nationality-all\\\"], \\\"exclude_features\\\": \\\"nationality-sex\\\", \\\"exclude_subgroups\\\": \\\"drop-non-german\\\", \\\"model\\\": \\\"penalized_logreg\\\", \\\"scale\\\": \\\"do-not-scale\\\", \\\"training_size\\\": \\\"5k\\\", \\\"training_year\\\": \\\"2010_14\\\"}\"\n",
    "output_dir = \"output\"\n",
    "seed = \"2023\"\n"
   ]
  },
  {
   "cell_type": "code",
   "execution_count": 5,
   "id": "1650acaf",
   "metadata": {
    "execution": {
     "iopub.execute_input": "2025-08-05T15:56:52.054468Z",
     "iopub.status.busy": "2025-08-05T15:56:52.054236Z",
     "iopub.status.idle": "2025-08-05T15:56:52.058528Z",
     "shell.execute_reply": "2025-08-05T15:56:52.057459Z"
    },
    "papermill": {
     "duration": 0.016879,
     "end_time": "2025-08-05T15:56:52.060962",
     "exception": false,
     "start_time": "2025-08-05T15:56:52.044083",
     "status": "completed"
    },
    "tags": []
   },
   "outputs": [],
   "source": [
    "import json\n",
    "if isinstance(universe, str):\n",
    "    universe = json.loads(universe)"
   ]
  },
  {
   "cell_type": "code",
   "execution_count": 6,
   "id": "16620c48",
   "metadata": {
    "execution": {
     "iopub.execute_input": "2025-08-05T15:56:52.085313Z",
     "iopub.status.busy": "2025-08-05T15:56:52.084373Z",
     "iopub.status.idle": "2025-08-05T15:56:52.115868Z",
     "shell.execute_reply": "2025-08-05T15:56:52.114612Z"
    },
    "papermill": {
     "duration": 0.045385,
     "end_time": "2025-08-05T15:56:52.118510",
     "exception": false,
     "start_time": "2025-08-05T15:56:52.073125",
     "status": "completed"
    },
    "tags": []
   },
   "outputs": [],
   "source": [
    "# Auto-reload the custom package\n",
    "%load_ext autoreload\n",
    "%autoreload 1\n",
    "%aimport fairness_multiverse"
   ]
  },
  {
   "cell_type": "code",
   "execution_count": 7,
   "id": "01c5c9f3",
   "metadata": {
    "execution": {
     "iopub.execute_input": "2025-08-05T15:56:52.141221Z",
     "iopub.status.busy": "2025-08-05T15:56:52.140609Z",
     "iopub.status.idle": "2025-08-05T15:56:54.170868Z",
     "shell.execute_reply": "2025-08-05T15:56:54.169863Z"
    },
    "papermill": {
     "duration": 2.043412,
     "end_time": "2025-08-05T15:56:54.172657",
     "exception": false,
     "start_time": "2025-08-05T15:56:52.129245",
     "status": "completed"
    },
    "tags": []
   },
   "outputs": [],
   "source": [
    "from fairness_multiverse.universe import UniverseAnalysis\n",
    "\n",
    "universe_analysis = UniverseAnalysis(\n",
    "    run_no = run_no,\n",
    "    universe_id = universe_id,\n",
    "    universe = universe,\n",
    "    output_dir=output_dir,\n",
    ")"
   ]
  },
  {
   "cell_type": "code",
   "execution_count": 8,
   "id": "106241f5",
   "metadata": {
    "execution": {
     "iopub.execute_input": "2025-08-05T15:56:54.206376Z",
     "iopub.status.busy": "2025-08-05T15:56:54.205907Z",
     "iopub.status.idle": "2025-08-05T15:56:54.212529Z",
     "shell.execute_reply": "2025-08-05T15:56:54.211505Z"
    },
    "papermill": {
     "duration": 0.025414,
     "end_time": "2025-08-05T15:56:54.214584",
     "exception": false,
     "start_time": "2025-08-05T15:56:54.189170",
     "status": "completed"
    },
    "tags": []
   },
   "outputs": [
    {
     "name": "stdout",
     "output_type": "stream",
     "text": [
      "Using Seed: 2023\n"
     ]
    }
   ],
   "source": [
    "import numpy as np\n",
    "parsed_seed = int(seed)\n",
    "np.random.seed(parsed_seed)\n",
    "print(f\"Using Seed: {parsed_seed}\")"
   ]
  },
  {
   "cell_type": "markdown",
   "id": "e0ebdc57",
   "metadata": {
    "papermill": {
     "duration": 0.020024,
     "end_time": "2025-08-05T15:56:54.255768",
     "exception": false,
     "start_time": "2025-08-05T15:56:54.235744",
     "status": "completed"
    },
    "tags": []
   },
   "source": [
    "# Loading Data"
   ]
  },
  {
   "cell_type": "code",
   "execution_count": 9,
   "id": "f0496b8a",
   "metadata": {
    "execution": {
     "iopub.execute_input": "2025-08-05T15:56:54.298928Z",
     "iopub.status.busy": "2025-08-05T15:56:54.298246Z",
     "iopub.status.idle": "2025-08-05T15:57:06.357240Z",
     "shell.execute_reply": "2025-08-05T15:57:06.355821Z"
    },
    "papermill": {
     "duration": 12.082392,
     "end_time": "2025-08-05T15:57:06.359173",
     "exception": false,
     "start_time": "2025-08-05T15:56:54.276781",
     "status": "completed"
    },
    "tags": []
   },
   "outputs": [
    {
     "name": "stdout",
     "output_type": "stream",
     "text": [
      "Loading SIAB data from cache: data/siab_cached.csv.gz\n"
     ]
    },
    {
     "name": "stdout",
     "output_type": "stream",
     "text": [
      "(643690, 164)\n"
     ]
    }
   ],
   "source": [
    "from pathlib import Path\n",
    "import pandas as pd\n",
    "\n",
    "# File paths\n",
    "raw_file = Path(\"data/raw/siab.csv\")\n",
    "cache_file = Path(\"data/siab_cached.csv.gz\")\n",
    "\n",
    "# Ensure cache directory exists\n",
    "cache_file.parent.mkdir(parents=True, exist_ok=True)\n",
    "\n",
    "# Load with simple caching\n",
    "if cache_file.exists():\n",
    "    print(f\"Loading SIAB data from cache: {cache_file}\")\n",
    "    siab = pd.read_csv(cache_file, compression='gzip')\n",
    "else:\n",
    "    print(f\"Cache not found. Reading raw SIAB data: {raw_file}\")\n",
    "    siab = pd.read_csv(raw_file)\n",
    "    siab.to_csv(cache_file, index=False, compression='gzip')\n",
    "    print(f\"Cached SIAB data to: {cache_file}\")\n",
    "\n",
    "print(siab.shape)"
   ]
  },
  {
   "cell_type": "code",
   "execution_count": 10,
   "id": "db0ca512-5f53-4dba-abdb-a2888bca41ba",
   "metadata": {
    "execution": {
     "iopub.execute_input": "2025-08-05T15:57:06.407877Z",
     "iopub.status.busy": "2025-08-05T15:57:06.407329Z",
     "iopub.status.idle": "2025-08-05T15:57:06.413280Z",
     "shell.execute_reply": "2025-08-05T15:57:06.412125Z"
    },
    "papermill": {
     "duration": 0.030632,
     "end_time": "2025-08-05T15:57:06.415420",
     "exception": false,
     "start_time": "2025-08-05T15:57:06.384788",
     "status": "completed"
    },
    "tags": []
   },
   "outputs": [],
   "source": [
    "#siab"
   ]
  },
  {
   "cell_type": "markdown",
   "id": "997051c5-15bd-4b69-9786-c3001a3ce484",
   "metadata": {
    "papermill": {
     "duration": 0.018247,
     "end_time": "2025-08-05T15:57:06.452887",
     "exception": false,
     "start_time": "2025-08-05T15:57:06.434640",
     "status": "completed"
    },
    "tags": []
   },
   "source": [
    "# Splitting Data and Setting Training Data Size"
   ]
  },
  {
   "cell_type": "code",
   "execution_count": 11,
   "id": "aea9c6ef-6f46-42c8-85eb-5a62025c1508",
   "metadata": {
    "execution": {
     "iopub.execute_input": "2025-08-05T15:57:06.491804Z",
     "iopub.status.busy": "2025-08-05T15:57:06.490937Z",
     "iopub.status.idle": "2025-08-05T15:57:07.544144Z",
     "shell.execute_reply": "2025-08-05T15:57:07.543021Z"
    },
    "papermill": {
     "duration": 1.075073,
     "end_time": "2025-08-05T15:57:07.546382",
     "exception": false,
     "start_time": "2025-08-05T15:57:06.471309",
     "status": "completed"
    },
    "tags": []
   },
   "outputs": [],
   "source": [
    "from fairness_multiverse.universe import sample_by_year_size\n",
    "\n",
    "siab_train = sample_by_year_size(siab,\n",
    "                               training_year=universe[\"training_year\"],\n",
    "                               training_size=universe[\"training_size\"])"
   ]
  },
  {
   "cell_type": "code",
   "execution_count": 12,
   "id": "8d3afb32-789d-442c-8d5d-9f5aa8dd2eed",
   "metadata": {
    "execution": {
     "iopub.execute_input": "2025-08-05T15:57:07.588075Z",
     "iopub.status.busy": "2025-08-05T15:57:07.586990Z",
     "iopub.status.idle": "2025-08-05T15:57:07.592365Z",
     "shell.execute_reply": "2025-08-05T15:57:07.591255Z"
    },
    "papermill": {
     "duration": 0.027894,
     "end_time": "2025-08-05T15:57:07.594725",
     "exception": false,
     "start_time": "2025-08-05T15:57:07.566831",
     "status": "completed"
    },
    "tags": []
   },
   "outputs": [],
   "source": [
    "#siab_train.shape"
   ]
  },
  {
   "cell_type": "code",
   "execution_count": 13,
   "id": "d582db68-1a4c-47fb-84fc-08518dc1975a",
   "metadata": {
    "execution": {
     "iopub.execute_input": "2025-08-05T15:57:07.634614Z",
     "iopub.status.busy": "2025-08-05T15:57:07.634255Z",
     "iopub.status.idle": "2025-08-05T15:57:07.639600Z",
     "shell.execute_reply": "2025-08-05T15:57:07.638521Z"
    },
    "papermill": {
     "duration": 0.028889,
     "end_time": "2025-08-05T15:57:07.641613",
     "exception": false,
     "start_time": "2025-08-05T15:57:07.612724",
     "status": "completed"
    },
    "tags": []
   },
   "outputs": [],
   "source": [
    "#display(siab_train.groupby(\"year\").size())"
   ]
  },
  {
   "cell_type": "code",
   "execution_count": 14,
   "id": "a561edb4-d032-42cb-8256-22eac1111c64",
   "metadata": {
    "execution": {
     "iopub.execute_input": "2025-08-05T15:57:07.671338Z",
     "iopub.status.busy": "2025-08-05T15:57:07.670937Z",
     "iopub.status.idle": "2025-08-05T15:57:07.897480Z",
     "shell.execute_reply": "2025-08-05T15:57:07.896720Z"
    },
    "papermill": {
     "duration": 0.239633,
     "end_time": "2025-08-05T15:57:07.898999",
     "exception": false,
     "start_time": "2025-08-05T15:57:07.659366",
     "status": "completed"
    },
    "tags": []
   },
   "outputs": [],
   "source": [
    "#siab_train = siab_s[siab_s.year < 2015]\n",
    "siab_calib = siab[siab.year == 2015]\n",
    "siab_test = siab[siab.year == 2016]"
   ]
  },
  {
   "cell_type": "code",
   "execution_count": 15,
   "id": "472de16f-c3db-4916-846b-1f0de9cf1746",
   "metadata": {
    "execution": {
     "iopub.execute_input": "2025-08-05T15:57:07.919420Z",
     "iopub.status.busy": "2025-08-05T15:57:07.919095Z",
     "iopub.status.idle": "2025-08-05T15:57:07.925963Z",
     "shell.execute_reply": "2025-08-05T15:57:07.925166Z"
    },
    "papermill": {
     "duration": 0.018318,
     "end_time": "2025-08-05T15:57:07.927430",
     "exception": false,
     "start_time": "2025-08-05T15:57:07.909112",
     "status": "completed"
    },
    "tags": []
   },
   "outputs": [],
   "source": [
    "X_train = siab_train.iloc[:,4:164]\n",
    "y_train = siab_train.iloc[:, [3]]"
   ]
  },
  {
   "cell_type": "code",
   "execution_count": 16,
   "id": "828c96af-f43a-4ed6-ba47-8ac73a47d56c",
   "metadata": {
    "execution": {
     "iopub.execute_input": "2025-08-05T15:57:07.948260Z",
     "iopub.status.busy": "2025-08-05T15:57:07.947750Z",
     "iopub.status.idle": "2025-08-05T15:57:07.995396Z",
     "shell.execute_reply": "2025-08-05T15:57:07.994606Z"
    },
    "papermill": {
     "duration": 0.059725,
     "end_time": "2025-08-05T15:57:07.997314",
     "exception": false,
     "start_time": "2025-08-05T15:57:07.937589",
     "status": "completed"
    },
    "tags": []
   },
   "outputs": [],
   "source": [
    "X_calib = siab_calib.iloc[:,4:164]\n",
    "y_calib = siab_calib.iloc[:, [3]]"
   ]
  },
  {
   "cell_type": "code",
   "execution_count": 17,
   "id": "c34be9c3-6bd6-476e-acd3-845840e303be",
   "metadata": {
    "execution": {
     "iopub.execute_input": "2025-08-05T15:57:08.034700Z",
     "iopub.status.busy": "2025-08-05T15:57:08.034304Z",
     "iopub.status.idle": "2025-08-05T15:57:08.086301Z",
     "shell.execute_reply": "2025-08-05T15:57:08.085415Z"
    },
    "papermill": {
     "duration": 0.071849,
     "end_time": "2025-08-05T15:57:08.087885",
     "exception": false,
     "start_time": "2025-08-05T15:57:08.016036",
     "status": "completed"
    },
    "tags": []
   },
   "outputs": [],
   "source": [
    "X_test = siab_test.iloc[:,4:164]\n",
    "y_true = siab_test.iloc[:, [3]]"
   ]
  },
  {
   "cell_type": "code",
   "execution_count": 18,
   "id": "e6c733c5",
   "metadata": {
    "execution": {
     "iopub.execute_input": "2025-08-05T15:57:08.109715Z",
     "iopub.status.busy": "2025-08-05T15:57:08.108878Z",
     "iopub.status.idle": "2025-08-05T15:57:08.204107Z",
     "shell.execute_reply": "2025-08-05T15:57:08.203336Z"
    },
    "papermill": {
     "duration": 0.106701,
     "end_time": "2025-08-05T15:57:08.205648",
     "exception": false,
     "start_time": "2025-08-05T15:57:08.098947",
     "status": "completed"
    },
    "tags": []
   },
   "outputs": [],
   "source": [
    "# Auxiliary data needed downstream in the pipeline\n",
    "\n",
    "org_train = X_train.copy()\n",
    "org_test = X_test.copy()\n",
    "org_calib = X_calib.copy()"
   ]
  },
  {
   "cell_type": "markdown",
   "id": "0a4a1b33",
   "metadata": {
    "papermill": {
     "duration": 0.009303,
     "end_time": "2025-08-05T15:57:08.224885",
     "exception": false,
     "start_time": "2025-08-05T15:57:08.215582",
     "status": "completed"
    },
    "tags": []
   },
   "source": [
    "# Preprocessing Data"
   ]
  },
  {
   "cell_type": "code",
   "execution_count": 19,
   "id": "ca879031",
   "metadata": {
    "execution": {
     "iopub.execute_input": "2025-08-05T15:57:08.245558Z",
     "iopub.status.busy": "2025-08-05T15:57:08.244817Z",
     "iopub.status.idle": "2025-08-05T15:57:08.250498Z",
     "shell.execute_reply": "2025-08-05T15:57:08.249579Z"
    },
    "papermill": {
     "duration": 0.017688,
     "end_time": "2025-08-05T15:57:08.252061",
     "exception": false,
     "start_time": "2025-08-05T15:57:08.234373",
     "status": "completed"
    },
    "tags": []
   },
   "outputs": [],
   "source": [
    "# EXCLUDE PROTECTED FEATURES\n",
    "# ----------------------\n",
    "# \"exclude_features\": \"none\", # \"nationality\", \"sex\", \"nationality-sex\"\n",
    "\n",
    "excluded_features = universe[\"exclude_features\"].split(\"-\") # split, e.g.: \"nationality-sex\" -> [\"nationality\", \"sex\"]\n",
    "excluded_features_dictionary = {\n",
    "    \"nationality\": [\"maxdeutsch1\", \"maxdeutsch.Missing.\"],\n",
    "    \"sex\": [\"frau1\"],\n",
    "    \"age\": [\"age\"],\n",
    "}"
   ]
  },
  {
   "cell_type": "code",
   "execution_count": 20,
   "id": "b745ac60",
   "metadata": {
    "execution": {
     "iopub.execute_input": "2025-08-05T15:57:08.274270Z",
     "iopub.status.busy": "2025-08-05T15:57:08.273672Z",
     "iopub.status.idle": "2025-08-05T15:57:08.278521Z",
     "shell.execute_reply": "2025-08-05T15:57:08.277477Z"
    },
    "papermill": {
     "duration": 0.017437,
     "end_time": "2025-08-05T15:57:08.280680",
     "exception": false,
     "start_time": "2025-08-05T15:57:08.263243",
     "status": "completed"
    },
    "tags": []
   },
   "outputs": [],
   "source": [
    "# Code nice names to column names\n",
    "\n",
    "excluded_features_columns = [\n",
    "    excluded_features_dictionary[f] for f in excluded_features if len(f) > 0 and f != \"none\"\n",
    "]"
   ]
  },
  {
   "cell_type": "code",
   "execution_count": 21,
   "id": "f84f73a2",
   "metadata": {
    "execution": {
     "iopub.execute_input": "2025-08-05T15:57:08.317853Z",
     "iopub.status.busy": "2025-08-05T15:57:08.317016Z",
     "iopub.status.idle": "2025-08-05T15:57:08.323331Z",
     "shell.execute_reply": "2025-08-05T15:57:08.322231Z"
    },
    "papermill": {
     "duration": 0.028665,
     "end_time": "2025-08-05T15:57:08.325088",
     "exception": false,
     "start_time": "2025-08-05T15:57:08.296423",
     "status": "completed"
    },
    "tags": []
   },
   "outputs": [],
   "source": [
    "from utils import flatten_once\n",
    "\n",
    "excluded_features_columns = flatten_once(excluded_features_columns)"
   ]
  },
  {
   "cell_type": "code",
   "execution_count": 22,
   "id": "884dea22",
   "metadata": {
    "execution": {
     "iopub.execute_input": "2025-08-05T15:57:08.365508Z",
     "iopub.status.busy": "2025-08-05T15:57:08.364644Z",
     "iopub.status.idle": "2025-08-05T15:57:08.374365Z",
     "shell.execute_reply": "2025-08-05T15:57:08.373176Z"
    },
    "papermill": {
     "duration": 0.031635,
     "end_time": "2025-08-05T15:57:08.376255",
     "exception": false,
     "start_time": "2025-08-05T15:57:08.344620",
     "status": "completed"
    },
    "tags": []
   },
   "outputs": [
    {
     "name": "stdout",
     "output_type": "stream",
     "text": [
      "Dropping features: ['maxdeutsch1', 'maxdeutsch.Missing.', 'frau1']\n"
     ]
    }
   ],
   "source": [
    "if len(excluded_features_columns) > 0:\n",
    "    print(f\"Dropping features: {excluded_features_columns}\")\n",
    "    X_train.drop(excluded_features_columns, axis=1, inplace=True)"
   ]
  },
  {
   "cell_type": "code",
   "execution_count": 23,
   "id": "95ab8b16",
   "metadata": {
    "execution": {
     "iopub.execute_input": "2025-08-05T15:57:08.419405Z",
     "iopub.status.busy": "2025-08-05T15:57:08.418341Z",
     "iopub.status.idle": "2025-08-05T15:57:08.480038Z",
     "shell.execute_reply": "2025-08-05T15:57:08.478816Z"
    },
    "papermill": {
     "duration": 0.084102,
     "end_time": "2025-08-05T15:57:08.482141",
     "exception": false,
     "start_time": "2025-08-05T15:57:08.398039",
     "status": "completed"
    },
    "tags": []
   },
   "outputs": [
    {
     "name": "stdout",
     "output_type": "stream",
     "text": [
      "Dropping features: ['maxdeutsch1', 'maxdeutsch.Missing.', 'frau1']\n"
     ]
    }
   ],
   "source": [
    "if len(excluded_features_columns) > 0:\n",
    "    print(f\"Dropping features: {excluded_features_columns}\")\n",
    "    X_test.drop(excluded_features_columns, axis=1, inplace=True)"
   ]
  },
  {
   "cell_type": "code",
   "execution_count": 24,
   "id": "1853aaf5-fb9f-46cb-a2b5-8ea4ae2237e4",
   "metadata": {
    "execution": {
     "iopub.execute_input": "2025-08-05T15:57:08.530159Z",
     "iopub.status.busy": "2025-08-05T15:57:08.529119Z",
     "iopub.status.idle": "2025-08-05T15:57:08.586472Z",
     "shell.execute_reply": "2025-08-05T15:57:08.585438Z"
    },
    "papermill": {
     "duration": 0.083121,
     "end_time": "2025-08-05T15:57:08.588121",
     "exception": false,
     "start_time": "2025-08-05T15:57:08.505000",
     "status": "completed"
    },
    "tags": []
   },
   "outputs": [
    {
     "name": "stdout",
     "output_type": "stream",
     "text": [
      "Dropping features: ['maxdeutsch1', 'maxdeutsch.Missing.', 'frau1']\n"
     ]
    }
   ],
   "source": [
    "if len(excluded_features_columns) > 0:\n",
    "    print(f\"Dropping features: {excluded_features_columns}\")\n",
    "    X_calib.drop(excluded_features_columns, axis=1, inplace=True)"
   ]
  },
  {
   "cell_type": "code",
   "execution_count": 25,
   "id": "76c4dc6d",
   "metadata": {
    "execution": {
     "iopub.execute_input": "2025-08-05T15:57:08.611871Z",
     "iopub.status.busy": "2025-08-05T15:57:08.611312Z",
     "iopub.status.idle": "2025-08-05T15:57:08.617984Z",
     "shell.execute_reply": "2025-08-05T15:57:08.616976Z"
    },
    "papermill": {
     "duration": 0.020106,
     "end_time": "2025-08-05T15:57:08.619941",
     "exception": false,
     "start_time": "2025-08-05T15:57:08.599835",
     "status": "completed"
    },
    "tags": []
   },
   "outputs": [],
   "source": [
    "# EXCLUDE CERTAIN SUBGROUPS\n",
    "# ----------------------\n",
    "\n",
    "mode = universe.get(\"exclude_subgroups\", \"keep-all\") \n",
    "# Fetches the exclude_subgroups setting from the universe dict.\n",
    "# Defaults to \"keep-all\" if the key is missing."
   ]
  },
  {
   "cell_type": "code",
   "execution_count": 26,
   "id": "21994072",
   "metadata": {
    "execution": {
     "iopub.execute_input": "2025-08-05T15:57:08.664172Z",
     "iopub.status.busy": "2025-08-05T15:57:08.663564Z",
     "iopub.status.idle": "2025-08-05T15:57:08.670513Z",
     "shell.execute_reply": "2025-08-05T15:57:08.669569Z"
    },
    "papermill": {
     "duration": 0.030814,
     "end_time": "2025-08-05T15:57:08.671855",
     "exception": false,
     "start_time": "2025-08-05T15:57:08.641041",
     "status": "completed"
    },
    "tags": []
   },
   "outputs": [],
   "source": [
    "if mode == \"keep-all\":\n",
    "    keep_mask = pd.Series(True, index=org_train.index)\n",
    "\n",
    "# org_train contains the original feature columns from features_org (in Simson)\n",
    "# features_org contains unprocessed features, for me X_train at beginning ???\n",
    "# For keep-all, creates a boolean Series (keep_mask) of all True, so no rows are removed.\n",
    "\n",
    "elif mode == \"drop-non-german\":\n",
    "    keep_mask = org_train[\"maxdeutsch1\"] == 1 # ??? what about missing values?\n",
    "\n",
    "else:\n",
    "    raise ValueError(f\"Unsupported mode for exclude_subgroups: {mode}\")"
   ]
  },
  {
   "cell_type": "code",
   "execution_count": 27,
   "id": "71651440",
   "metadata": {
    "execution": {
     "iopub.execute_input": "2025-08-05T15:57:08.710257Z",
     "iopub.status.busy": "2025-08-05T15:57:08.709681Z",
     "iopub.status.idle": "2025-08-05T15:57:08.717252Z",
     "shell.execute_reply": "2025-08-05T15:57:08.716260Z"
    },
    "papermill": {
     "duration": 0.032135,
     "end_time": "2025-08-05T15:57:08.718774",
     "exception": false,
     "start_time": "2025-08-05T15:57:08.686639",
     "status": "completed"
    },
    "tags": []
   },
   "outputs": [
    {
     "name": "stdout",
     "output_type": "stream",
     "text": [
      "Dropping 657 rows (13.14%) where mode='drop-non-german'\n"
     ]
    }
   ],
   "source": [
    "n_drop = (~keep_mask).sum() # Calculates how many rows are set to be dropped\n",
    "if n_drop > 0:\n",
    "    pct = n_drop / len(keep_mask) * 100\n",
    "    print(f\"Dropping {n_drop} rows ({pct:.2f}%) where mode='{mode}'\")"
   ]
  },
  {
   "cell_type": "code",
   "execution_count": 28,
   "id": "5fb8eee5",
   "metadata": {
    "execution": {
     "iopub.execute_input": "2025-08-05T15:57:08.742755Z",
     "iopub.status.busy": "2025-08-05T15:57:08.742372Z",
     "iopub.status.idle": "2025-08-05T15:57:08.749423Z",
     "shell.execute_reply": "2025-08-05T15:57:08.748572Z"
    },
    "papermill": {
     "duration": 0.020616,
     "end_time": "2025-08-05T15:57:08.751395",
     "exception": false,
     "start_time": "2025-08-05T15:57:08.730779",
     "status": "completed"
    },
    "tags": []
   },
   "outputs": [],
   "source": [
    "X_train = X_train[keep_mask]"
   ]
  },
  {
   "cell_type": "code",
   "execution_count": 29,
   "id": "b202bb3a",
   "metadata": {
    "execution": {
     "iopub.execute_input": "2025-08-05T15:57:08.800234Z",
     "iopub.status.busy": "2025-08-05T15:57:08.799706Z",
     "iopub.status.idle": "2025-08-05T15:57:08.806302Z",
     "shell.execute_reply": "2025-08-05T15:57:08.805191Z"
    },
    "papermill": {
     "duration": 0.031955,
     "end_time": "2025-08-05T15:57:08.808151",
     "exception": false,
     "start_time": "2025-08-05T15:57:08.776196",
     "status": "completed"
    },
    "tags": []
   },
   "outputs": [],
   "source": [
    "y_train = y_train[keep_mask]"
   ]
  },
  {
   "cell_type": "markdown",
   "id": "493e2ac3",
   "metadata": {
    "papermill": {
     "duration": 0.020609,
     "end_time": "2025-08-05T15:57:08.850741",
     "exception": false,
     "start_time": "2025-08-05T15:57:08.830132",
     "status": "completed"
    },
    "tags": []
   },
   "source": [
    "# Model Training"
   ]
  },
  {
   "cell_type": "code",
   "execution_count": 30,
   "id": "679e1268",
   "metadata": {
    "execution": {
     "iopub.execute_input": "2025-08-05T15:57:08.892401Z",
     "iopub.status.busy": "2025-08-05T15:57:08.891455Z",
     "iopub.status.idle": "2025-08-05T15:57:09.112177Z",
     "shell.execute_reply": "2025-08-05T15:57:09.111373Z"
    },
    "papermill": {
     "duration": 0.244199,
     "end_time": "2025-08-05T15:57:09.114617",
     "exception": false,
     "start_time": "2025-08-05T15:57:08.870418",
     "status": "completed"
    },
    "tags": []
   },
   "outputs": [],
   "source": [
    "from sklearn.linear_model import LogisticRegression\n",
    "from sklearn.ensemble import GradientBoostingClassifier, RandomForestClassifier\n",
    "\n",
    "if (universe[\"model\"] == \"logreg\"):\n",
    "    model = LogisticRegression() #penalty=\"none\", solver=\"newton-cg\", max_iter=1) # include random_state=19 ?\n",
    "elif (universe[\"model\"] == \"penalized_logreg\"):\n",
    "    model = LogisticRegression(penalty=\"l2\", C=0.1) #, solver=\"newton-cg\", max_iter=1)\n",
    "elif (universe[\"model\"] == \"rf\"):\n",
    "    model = RandomForestClassifier() # n_estimators=100, n_jobs=-1\n",
    "elif (universe[\"model\"] == \"gbm\"):\n",
    "    model = GradientBoostingClassifier()\n",
    "elif (universe[\"model\"] == \"elasticnet\"):\n",
    "    model = LogisticRegression(penalty = 'elasticnet', solver = 'saga', l1_ratio = 0.5) # max_iter=5000\n",
    "else:\n",
    "    raise \"Unsupported universe.model\""
   ]
  },
  {
   "cell_type": "code",
   "execution_count": 31,
   "id": "0cc8f744",
   "metadata": {
    "execution": {
     "iopub.execute_input": "2025-08-05T15:57:09.137699Z",
     "iopub.status.busy": "2025-08-05T15:57:09.137252Z",
     "iopub.status.idle": "2025-08-05T15:57:09.143322Z",
     "shell.execute_reply": "2025-08-05T15:57:09.142221Z"
    },
    "papermill": {
     "duration": 0.019119,
     "end_time": "2025-08-05T15:57:09.145057",
     "exception": false,
     "start_time": "2025-08-05T15:57:09.125938",
     "status": "completed"
    },
    "tags": []
   },
   "outputs": [],
   "source": [
    "import numpy as np\n",
    "from sklearn.pipeline import Pipeline\n",
    "from sklearn.preprocessing import StandardScaler\n",
    "\n",
    "model = Pipeline([\n",
    "    #(\"continuous_processor\", continuous_processor),\n",
    "    #(\"categorical_preprocessor\", categorical_preprocessor),\n",
    "    (\"scale\", StandardScaler() if universe[\"scale\"] == \"scale\" else None), \n",
    "    (\"model\", model),\n",
    "])"
   ]
  },
  {
   "cell_type": "code",
   "execution_count": 32,
   "id": "9442c04d",
   "metadata": {
    "execution": {
     "iopub.execute_input": "2025-08-05T15:57:09.171368Z",
     "iopub.status.busy": "2025-08-05T15:57:09.171027Z",
     "iopub.status.idle": "2025-08-05T15:57:09.319911Z",
     "shell.execute_reply": "2025-08-05T15:57:09.318856Z"
    },
    "papermill": {
     "duration": 0.16364,
     "end_time": "2025-08-05T15:57:09.321677",
     "exception": false,
     "start_time": "2025-08-05T15:57:09.158037",
     "status": "completed"
    },
    "tags": []
   },
   "outputs": [
    {
     "name": "stderr",
     "output_type": "stream",
     "text": [
      "/dss/dsshome1/0C/ra93lal2/.local/share/virtualenvs/CMA_Fairness_v2-3j10GkSs/lib/python3.10/site-packages/sklearn/linear_model/_logistic.py:444: ConvergenceWarning: lbfgs failed to converge (status=1):\n",
      "STOP: TOTAL NO. of ITERATIONS REACHED LIMIT.\n",
      "\n",
      "Increase the number of iterations (max_iter) or scale the data as shown in:\n",
      "    https://scikit-learn.org/stable/modules/preprocessing.html\n",
      "Please also refer to the documentation for alternative solver options:\n",
      "    https://scikit-learn.org/stable/modules/linear_model.html#logistic-regression\n",
      "  n_iter_i = _check_optimize_result(\n"
     ]
    },
    {
     "data": {
      "text/html": [
       "<style>#sk-container-id-1 {color: black;background-color: white;}#sk-container-id-1 pre{padding: 0;}#sk-container-id-1 div.sk-toggleable {background-color: white;}#sk-container-id-1 label.sk-toggleable__label {cursor: pointer;display: block;width: 100%;margin-bottom: 0;padding: 0.3em;box-sizing: border-box;text-align: center;}#sk-container-id-1 label.sk-toggleable__label-arrow:before {content: \"▸\";float: left;margin-right: 0.25em;color: #696969;}#sk-container-id-1 label.sk-toggleable__label-arrow:hover:before {color: black;}#sk-container-id-1 div.sk-estimator:hover label.sk-toggleable__label-arrow:before {color: black;}#sk-container-id-1 div.sk-toggleable__content {max-height: 0;max-width: 0;overflow: hidden;text-align: left;background-color: #f0f8ff;}#sk-container-id-1 div.sk-toggleable__content pre {margin: 0.2em;color: black;border-radius: 0.25em;background-color: #f0f8ff;}#sk-container-id-1 input.sk-toggleable__control:checked~div.sk-toggleable__content {max-height: 200px;max-width: 100%;overflow: auto;}#sk-container-id-1 input.sk-toggleable__control:checked~label.sk-toggleable__label-arrow:before {content: \"▾\";}#sk-container-id-1 div.sk-estimator input.sk-toggleable__control:checked~label.sk-toggleable__label {background-color: #d4ebff;}#sk-container-id-1 div.sk-label input.sk-toggleable__control:checked~label.sk-toggleable__label {background-color: #d4ebff;}#sk-container-id-1 input.sk-hidden--visually {border: 0;clip: rect(1px 1px 1px 1px);clip: rect(1px, 1px, 1px, 1px);height: 1px;margin: -1px;overflow: hidden;padding: 0;position: absolute;width: 1px;}#sk-container-id-1 div.sk-estimator {font-family: monospace;background-color: #f0f8ff;border: 1px dotted black;border-radius: 0.25em;box-sizing: border-box;margin-bottom: 0.5em;}#sk-container-id-1 div.sk-estimator:hover {background-color: #d4ebff;}#sk-container-id-1 div.sk-parallel-item::after {content: \"\";width: 100%;border-bottom: 1px solid gray;flex-grow: 1;}#sk-container-id-1 div.sk-label:hover label.sk-toggleable__label {background-color: #d4ebff;}#sk-container-id-1 div.sk-serial::before {content: \"\";position: absolute;border-left: 1px solid gray;box-sizing: border-box;top: 0;bottom: 0;left: 50%;z-index: 0;}#sk-container-id-1 div.sk-serial {display: flex;flex-direction: column;align-items: center;background-color: white;padding-right: 0.2em;padding-left: 0.2em;position: relative;}#sk-container-id-1 div.sk-item {position: relative;z-index: 1;}#sk-container-id-1 div.sk-parallel {display: flex;align-items: stretch;justify-content: center;background-color: white;position: relative;}#sk-container-id-1 div.sk-item::before, #sk-container-id-1 div.sk-parallel-item::before {content: \"\";position: absolute;border-left: 1px solid gray;box-sizing: border-box;top: 0;bottom: 0;left: 50%;z-index: -1;}#sk-container-id-1 div.sk-parallel-item {display: flex;flex-direction: column;z-index: 1;position: relative;background-color: white;}#sk-container-id-1 div.sk-parallel-item:first-child::after {align-self: flex-end;width: 50%;}#sk-container-id-1 div.sk-parallel-item:last-child::after {align-self: flex-start;width: 50%;}#sk-container-id-1 div.sk-parallel-item:only-child::after {width: 0;}#sk-container-id-1 div.sk-dashed-wrapped {border: 1px dashed gray;margin: 0 0.4em 0.5em 0.4em;box-sizing: border-box;padding-bottom: 0.4em;background-color: white;}#sk-container-id-1 div.sk-label label {font-family: monospace;font-weight: bold;display: inline-block;line-height: 1.2em;}#sk-container-id-1 div.sk-label-container {text-align: center;}#sk-container-id-1 div.sk-container {/* jupyter's `normalize.less` sets `[hidden] { display: none; }` but bootstrap.min.css set `[hidden] { display: none !important; }` so we also need the `!important` here to be able to override the default hidden behavior on the sphinx rendered scikit-learn.org. See: https://github.com/scikit-learn/scikit-learn/issues/21755 */display: inline-block !important;position: relative;}#sk-container-id-1 div.sk-text-repr-fallback {display: none;}</style><div id=\"sk-container-id-1\" class=\"sk-top-container\"><div class=\"sk-text-repr-fallback\"><pre>Pipeline(steps=[(&#x27;scale&#x27;, None), (&#x27;model&#x27;, LogisticRegression(C=0.1))])</pre><b>In a Jupyter environment, please rerun this cell to show the HTML representation or trust the notebook. <br />On GitHub, the HTML representation is unable to render, please try loading this page with nbviewer.org.</b></div><div class=\"sk-container\" hidden><div class=\"sk-item sk-dashed-wrapped\"><div class=\"sk-label-container\"><div class=\"sk-label sk-toggleable\"><input class=\"sk-toggleable__control sk-hidden--visually\" id=\"sk-estimator-id-1\" type=\"checkbox\" ><label for=\"sk-estimator-id-1\" class=\"sk-toggleable__label sk-toggleable__label-arrow\">Pipeline</label><div class=\"sk-toggleable__content\"><pre>Pipeline(steps=[(&#x27;scale&#x27;, None), (&#x27;model&#x27;, LogisticRegression(C=0.1))])</pre></div></div></div><div class=\"sk-serial\"><div class=\"sk-item\"><div class=\"sk-estimator sk-toggleable\"><input class=\"sk-toggleable__control sk-hidden--visually\" id=\"sk-estimator-id-2\" type=\"checkbox\" ><label for=\"sk-estimator-id-2\" class=\"sk-toggleable__label sk-toggleable__label-arrow\">None</label><div class=\"sk-toggleable__content\"><pre>None</pre></div></div></div><div class=\"sk-item\"><div class=\"sk-estimator sk-toggleable\"><input class=\"sk-toggleable__control sk-hidden--visually\" id=\"sk-estimator-id-3\" type=\"checkbox\" ><label for=\"sk-estimator-id-3\" class=\"sk-toggleable__label sk-toggleable__label-arrow\">LogisticRegression</label><div class=\"sk-toggleable__content\"><pre>LogisticRegression(C=0.1)</pre></div></div></div></div></div></div></div>"
      ],
      "text/plain": [
       "Pipeline(steps=[('scale', None), ('model', LogisticRegression(C=0.1))])"
      ]
     },
     "execution_count": 32,
     "metadata": {},
     "output_type": "execute_result"
    }
   ],
   "source": [
    "model.fit(X_train, y_train.values.ravel())"
   ]
  },
  {
   "cell_type": "code",
   "execution_count": 33,
   "id": "af59f8c0",
   "metadata": {
    "execution": {
     "iopub.execute_input": "2025-08-05T15:57:09.367097Z",
     "iopub.status.busy": "2025-08-05T15:57:09.366127Z",
     "iopub.status.idle": "2025-08-05T15:57:09.371995Z",
     "shell.execute_reply": "2025-08-05T15:57:09.370909Z"
    },
    "papermill": {
     "duration": 0.030921,
     "end_time": "2025-08-05T15:57:09.373899",
     "exception": false,
     "start_time": "2025-08-05T15:57:09.342978",
     "status": "completed"
    },
    "tags": []
   },
   "outputs": [],
   "source": [
    "from fairness_multiverse.universe import predict_w_threshold"
   ]
  },
  {
   "cell_type": "code",
   "execution_count": 34,
   "id": "a7cf2e16",
   "metadata": {
    "execution": {
     "iopub.execute_input": "2025-08-05T15:57:09.425564Z",
     "iopub.status.busy": "2025-08-05T15:57:09.424629Z",
     "iopub.status.idle": "2025-08-05T15:57:09.525405Z",
     "shell.execute_reply": "2025-08-05T15:57:09.524424Z"
    },
    "papermill": {
     "duration": 0.128556,
     "end_time": "2025-08-05T15:57:09.527457",
     "exception": false,
     "start_time": "2025-08-05T15:57:09.398901",
     "status": "completed"
    },
    "tags": []
   },
   "outputs": [
    {
     "data": {
      "text/plain": [
       "0.8615093077694794"
      ]
     },
     "execution_count": 34,
     "metadata": {},
     "output_type": "execute_result"
    }
   ],
   "source": [
    "probs_test = model.predict_proba(X_test)\n",
    "\n",
    "'''\n",
    "Below code returns a boolean array (or binary 0/1 array depending on how it’s used) where each element \n",
    "is True if the probability of class 1 is greater than or equal to the threshold, and False otherwise.\n",
    "'''\n",
    "y_pred_default = predict_w_threshold(probs_test, 0.5)\n",
    "\n",
    "from sklearn.metrics import accuracy_score\n",
    "\n",
    "# Naive prediction\n",
    "accuracy_score(y_true = y_true, y_pred = y_pred_default)"
   ]
  },
  {
   "cell_type": "code",
   "execution_count": 35,
   "id": "081964c3",
   "metadata": {
    "execution": {
     "iopub.execute_input": "2025-08-05T15:57:09.578750Z",
     "iopub.status.busy": "2025-08-05T15:57:09.578200Z",
     "iopub.status.idle": "2025-08-05T15:57:09.670410Z",
     "shell.execute_reply": "2025-08-05T15:57:09.669351Z"
    },
    "papermill": {
     "duration": 0.121683,
     "end_time": "2025-08-05T15:57:09.672237",
     "exception": false,
     "start_time": "2025-08-05T15:57:09.550554",
     "status": "completed"
    },
    "tags": []
   },
   "outputs": [
    {
     "data": {
      "text/plain": [
       "array([0, 0, 0, ..., 0, 0, 0])"
      ]
     },
     "execution_count": 35,
     "metadata": {},
     "output_type": "execute_result"
    }
   ],
   "source": [
    "model.predict(X_test)"
   ]
  },
  {
   "cell_type": "markdown",
   "id": "56c9705b",
   "metadata": {
    "papermill": {
     "duration": 0.021126,
     "end_time": "2025-08-05T15:57:09.714186",
     "exception": false,
     "start_time": "2025-08-05T15:57:09.693060",
     "status": "completed"
    },
    "tags": []
   },
   "source": [
    "# Conformal Prediction"
   ]
  },
  {
   "cell_type": "code",
   "execution_count": 36,
   "id": "160ec6ff",
   "metadata": {
    "execution": {
     "iopub.execute_input": "2025-08-05T15:57:09.757556Z",
     "iopub.status.busy": "2025-08-05T15:57:09.757091Z",
     "iopub.status.idle": "2025-08-05T15:57:09.762210Z",
     "shell.execute_reply": "2025-08-05T15:57:09.761261Z"
    },
    "papermill": {
     "duration": 0.028519,
     "end_time": "2025-08-05T15:57:09.763576",
     "exception": false,
     "start_time": "2025-08-05T15:57:09.735057",
     "status": "completed"
    },
    "tags": []
   },
   "outputs": [],
   "source": [
    "# Miscoverage level for conformal prediction (10% allowed error rate => 90% target coverage)\n",
    "alpha = 0.1"
   ]
  },
  {
   "cell_type": "code",
   "execution_count": 37,
   "id": "eadf4555-3dd3-440e-8e35-f82a4ad9f855",
   "metadata": {
    "execution": {
     "iopub.execute_input": "2025-08-05T15:57:09.786558Z",
     "iopub.status.busy": "2025-08-05T15:57:09.786210Z",
     "iopub.status.idle": "2025-08-05T15:57:09.861769Z",
     "shell.execute_reply": "2025-08-05T15:57:09.860950Z"
    },
    "papermill": {
     "duration": 0.088033,
     "end_time": "2025-08-05T15:57:09.863286",
     "exception": false,
     "start_time": "2025-08-05T15:57:09.775253",
     "status": "completed"
    },
    "tags": []
   },
   "outputs": [],
   "source": [
    "probs_calib = model.predict_proba(X_calib)"
   ]
  },
  {
   "cell_type": "code",
   "execution_count": 38,
   "id": "2ed93547-6d5d-4983-9b36-1ecb300da49a",
   "metadata": {
    "execution": {
     "iopub.execute_input": "2025-08-05T15:57:09.886055Z",
     "iopub.status.busy": "2025-08-05T15:57:09.885552Z",
     "iopub.status.idle": "2025-08-05T15:57:09.890433Z",
     "shell.execute_reply": "2025-08-05T15:57:09.889605Z"
    },
    "papermill": {
     "duration": 0.017079,
     "end_time": "2025-08-05T15:57:09.891669",
     "exception": false,
     "start_time": "2025-08-05T15:57:09.874590",
     "status": "completed"
    },
    "tags": []
   },
   "outputs": [],
   "source": [
    "y_calib = y_calib.values.ravel().astype(int)"
   ]
  },
  {
   "cell_type": "code",
   "execution_count": 39,
   "id": "65d1320d-f588-4b38-9072-62af1ae97f7d",
   "metadata": {
    "execution": {
     "iopub.execute_input": "2025-08-05T15:57:09.915778Z",
     "iopub.status.busy": "2025-08-05T15:57:09.915084Z",
     "iopub.status.idle": "2025-08-05T15:57:09.921407Z",
     "shell.execute_reply": "2025-08-05T15:57:09.920619Z"
    },
    "papermill": {
     "duration": 0.019226,
     "end_time": "2025-08-05T15:57:09.922874",
     "exception": false,
     "start_time": "2025-08-05T15:57:09.903648",
     "status": "completed"
    },
    "tags": []
   },
   "outputs": [],
   "source": [
    "from fairness_multiverse.conformal import compute_nc_scores\n",
    "\n",
    "# Compute nonconformity scores on calibration set (1 - probability of true class)\n",
    "nc_scores = compute_nc_scores(probs_calib, y_calib)"
   ]
  },
  {
   "cell_type": "code",
   "execution_count": 40,
   "id": "df3b8ca3-53b7-43d5-9667-7c85da7aeda2",
   "metadata": {
    "execution": {
     "iopub.execute_input": "2025-08-05T15:57:09.946692Z",
     "iopub.status.busy": "2025-08-05T15:57:09.946008Z",
     "iopub.status.idle": "2025-08-05T15:57:09.952418Z",
     "shell.execute_reply": "2025-08-05T15:57:09.951685Z"
    },
    "papermill": {
     "duration": 0.019907,
     "end_time": "2025-08-05T15:57:09.954082",
     "exception": false,
     "start_time": "2025-08-05T15:57:09.934175",
     "status": "completed"
    },
    "tags": []
   },
   "outputs": [],
   "source": [
    "from fairness_multiverse.conformal import find_threshold\n",
    "\n",
    "# Find conformal threshold q_hat for the given alpha (split conformal method)\n",
    "q_hat = find_threshold(nc_scores, alpha)"
   ]
  },
  {
   "cell_type": "code",
   "execution_count": 41,
   "id": "4d29e6c1-0ef6-4aa4-b8fe-4fe79b0d033a",
   "metadata": {
    "execution": {
     "iopub.execute_input": "2025-08-05T15:57:09.993511Z",
     "iopub.status.busy": "2025-08-05T15:57:09.992801Z",
     "iopub.status.idle": "2025-08-05T15:57:10.000948Z",
     "shell.execute_reply": "2025-08-05T15:57:09.999750Z"
    },
    "papermill": {
     "duration": 0.033102,
     "end_time": "2025-08-05T15:57:10.003314",
     "exception": false,
     "start_time": "2025-08-05T15:57:09.970212",
     "status": "completed"
    },
    "tags": []
   },
   "outputs": [
    {
     "data": {
      "text/plain": [
       "0.6763864441185176"
      ]
     },
     "execution_count": 41,
     "metadata": {},
     "output_type": "execute_result"
    }
   ],
   "source": [
    "q_hat"
   ]
  },
  {
   "cell_type": "code",
   "execution_count": 42,
   "id": "92460794-cdac-4be2-ba28-f28c0515a6fb",
   "metadata": {
    "execution": {
     "iopub.execute_input": "2025-08-05T15:57:10.044804Z",
     "iopub.status.busy": "2025-08-05T15:57:10.044145Z",
     "iopub.status.idle": "2025-08-05T15:57:11.177826Z",
     "shell.execute_reply": "2025-08-05T15:57:11.176731Z"
    },
    "papermill": {
     "duration": 1.156755,
     "end_time": "2025-08-05T15:57:11.179774",
     "exception": false,
     "start_time": "2025-08-05T15:57:10.023019",
     "status": "completed"
    },
    "tags": []
   },
   "outputs": [],
   "source": [
    "from fairness_multiverse.conformal import predict_conformal_sets\n",
    "\n",
    "# Generate prediction sets for each test example\n",
    "pred_sets = predict_conformal_sets(model, X_test, q_hat)"
   ]
  },
  {
   "cell_type": "code",
   "execution_count": 43,
   "id": "d90c9a65-e6db-4f5d-80cd-e68fb7e46829",
   "metadata": {
    "execution": {
     "iopub.execute_input": "2025-08-05T15:57:11.222976Z",
     "iopub.status.busy": "2025-08-05T15:57:11.222467Z",
     "iopub.status.idle": "2025-08-05T15:57:11.228578Z",
     "shell.execute_reply": "2025-08-05T15:57:11.227509Z"
    },
    "papermill": {
     "duration": 0.02991,
     "end_time": "2025-08-05T15:57:11.230689",
     "exception": false,
     "start_time": "2025-08-05T15:57:11.200779",
     "status": "completed"
    },
    "tags": []
   },
   "outputs": [],
   "source": [
    "y_true = y_true.squeeze()"
   ]
  },
  {
   "cell_type": "code",
   "execution_count": 44,
   "id": "3a58a54a-1e68-46b9-927a-df01f18aebc8",
   "metadata": {
    "execution": {
     "iopub.execute_input": "2025-08-05T15:57:11.276873Z",
     "iopub.status.busy": "2025-08-05T15:57:11.276042Z",
     "iopub.status.idle": "2025-08-05T15:57:12.434057Z",
     "shell.execute_reply": "2025-08-05T15:57:12.433001Z"
    },
    "papermill": {
     "duration": 1.18315,
     "end_time": "2025-08-05T15:57:12.436083",
     "exception": false,
     "start_time": "2025-08-05T15:57:11.252933",
     "status": "completed"
    },
    "tags": []
   },
   "outputs": [],
   "source": [
    "from fairness_multiverse.conformal import evaluate_sets\n",
    "\n",
    "# Evaluate coverage and average set size on test data\n",
    "metrics = evaluate_sets(pred_sets, y_true)"
   ]
  },
  {
   "cell_type": "markdown",
   "id": "2b569c12-9aaa-4c88-98c9-bbcd0cf3ebb8",
   "metadata": {
    "papermill": {
     "duration": 0.021259,
     "end_time": "2025-08-05T15:57:12.483326",
     "exception": false,
     "start_time": "2025-08-05T15:57:12.462067",
     "status": "completed"
    },
    "tags": []
   },
   "source": [
    "# CP Metrics"
   ]
  },
  {
   "cell_type": "code",
   "execution_count": 45,
   "id": "5ce0a5cb-201f-45a0-ade5-94c7f0bd6095",
   "metadata": {
    "execution": {
     "iopub.execute_input": "2025-08-05T15:57:12.528070Z",
     "iopub.status.busy": "2025-08-05T15:57:12.527171Z",
     "iopub.status.idle": "2025-08-05T15:57:12.535015Z",
     "shell.execute_reply": "2025-08-05T15:57:12.533887Z"
    },
    "papermill": {
     "duration": 0.033066,
     "end_time": "2025-08-05T15:57:12.536961",
     "exception": false,
     "start_time": "2025-08-05T15:57:12.503895",
     "status": "completed"
    },
    "tags": []
   },
   "outputs": [
    {
     "data": {
      "text/plain": [
       "{'coverage': 0.9130866124177907, 'avg_size': 1.2155501058967786}"
      ]
     },
     "execution_count": 45,
     "metadata": {},
     "output_type": "execute_result"
    }
   ],
   "source": [
    "metrics"
   ]
  },
  {
   "cell_type": "code",
   "execution_count": 46,
   "id": "9b9a838d-31c9-430b-ae14-12baee460d17",
   "metadata": {
    "execution": {
     "iopub.execute_input": "2025-08-05T15:57:12.586039Z",
     "iopub.status.busy": "2025-08-05T15:57:12.585354Z",
     "iopub.status.idle": "2025-08-05T15:57:12.592250Z",
     "shell.execute_reply": "2025-08-05T15:57:12.591204Z"
    },
    "papermill": {
     "duration": 0.032643,
     "end_time": "2025-08-05T15:57:12.594127",
     "exception": false,
     "start_time": "2025-08-05T15:57:12.561484",
     "status": "completed"
    },
    "tags": []
   },
   "outputs": [],
   "source": [
    "example_universe = universe.copy()\n",
    "universe_training_year = example_universe.get(\"training_year\")\n",
    "universe_training_size = example_universe.get(\"training_size\")\n",
    "universe_scale = example_universe.get(\"scale\")\n",
    "universe_model = example_universe.get(\"model\")\n",
    "universe_exclude_features = example_universe.get(\"exclude_features\")\n",
    "universe_exclude_subgroups = example_universe.get(\"exclude_subgroups\")"
   ]
  },
  {
   "cell_type": "code",
   "execution_count": 47,
   "id": "f4b6a8ac-9dc0-4245-8a91-5b3b5999c4f9",
   "metadata": {
    "execution": {
     "iopub.execute_input": "2025-08-05T15:57:12.644408Z",
     "iopub.status.busy": "2025-08-05T15:57:12.643910Z",
     "iopub.status.idle": "2025-08-05T15:57:12.650774Z",
     "shell.execute_reply": "2025-08-05T15:57:12.649687Z"
    },
    "papermill": {
     "duration": 0.033626,
     "end_time": "2025-08-05T15:57:12.652730",
     "exception": false,
     "start_time": "2025-08-05T15:57:12.619104",
     "status": "completed"
    },
    "tags": []
   },
   "outputs": [],
   "source": [
    "cp_metrics_dict = {\n",
    "    \"universe_id\": [universe_id],\n",
    "    \"universe_training_year\": [universe_training_year],\n",
    "    \"universe_training_size\": [universe_training_size],\n",
    "    \"universe_scale\": [universe_scale],\n",
    "    \"universe_model\": [universe_model],\n",
    "    \"universe_exclude_features\": [universe_exclude_features],\n",
    "    \"universe_exclude_subgroups\": [universe_exclude_subgroups],\n",
    "    \"q_hat\": [q_hat],\n",
    "    \"coverage\": [metrics[\"coverage\"]],\n",
    "    \"avg_size\": [metrics[\"avg_size\"]],\n",
    "}"
   ]
  },
  {
   "cell_type": "code",
   "execution_count": 48,
   "id": "908acbb1-0371-4915-85ca-3fa520d2efe2",
   "metadata": {
    "execution": {
     "iopub.execute_input": "2025-08-05T15:57:12.702542Z",
     "iopub.status.busy": "2025-08-05T15:57:12.701531Z",
     "iopub.status.idle": "2025-08-05T15:57:12.709901Z",
     "shell.execute_reply": "2025-08-05T15:57:12.708722Z"
    },
    "papermill": {
     "duration": 0.034554,
     "end_time": "2025-08-05T15:57:12.711845",
     "exception": false,
     "start_time": "2025-08-05T15:57:12.677291",
     "status": "completed"
    },
    "tags": []
   },
   "outputs": [
    {
     "data": {
      "text/plain": [
       "{'universe_id': ['df1d70a9c3fabc56388926d92981af4a'],\n",
       " 'universe_training_year': ['2010_14'],\n",
       " 'universe_training_size': ['5k'],\n",
       " 'universe_scale': ['do-not-scale'],\n",
       " 'universe_model': ['penalized_logreg'],\n",
       " 'universe_exclude_features': ['nationality-sex'],\n",
       " 'universe_exclude_subgroups': ['drop-non-german'],\n",
       " 'q_hat': [0.6763864441185176],\n",
       " 'coverage': [0.9130866124177907],\n",
       " 'avg_size': [1.2155501058967786]}"
      ]
     },
     "execution_count": 48,
     "metadata": {},
     "output_type": "execute_result"
    }
   ],
   "source": [
    "cp_metrics_dict"
   ]
  },
  {
   "cell_type": "code",
   "execution_count": 49,
   "id": "33007efc-14e9-4ec6-97ac-56a455c82265",
   "metadata": {
    "execution": {
     "iopub.execute_input": "2025-08-05T15:57:12.763167Z",
     "iopub.status.busy": "2025-08-05T15:57:12.762673Z",
     "iopub.status.idle": "2025-08-05T15:57:12.769816Z",
     "shell.execute_reply": "2025-08-05T15:57:12.768582Z"
    },
    "papermill": {
     "duration": 0.034565,
     "end_time": "2025-08-05T15:57:12.771962",
     "exception": false,
     "start_time": "2025-08-05T15:57:12.737397",
     "status": "completed"
    },
    "tags": []
   },
   "outputs": [],
   "source": [
    "cp_metrics_df = pd.DataFrame(cp_metrics_dict)"
   ]
  },
  {
   "cell_type": "code",
   "execution_count": 50,
   "id": "db12611b-57b2-4910-b9d0-355adfd6e7bf",
   "metadata": {
    "execution": {
     "iopub.execute_input": "2025-08-05T15:57:12.825076Z",
     "iopub.status.busy": "2025-08-05T15:57:12.824180Z",
     "iopub.status.idle": "2025-08-05T15:57:12.842682Z",
     "shell.execute_reply": "2025-08-05T15:57:12.841762Z"
    },
    "papermill": {
     "duration": 0.044177,
     "end_time": "2025-08-05T15:57:12.844342",
     "exception": false,
     "start_time": "2025-08-05T15:57:12.800165",
     "status": "completed"
    },
    "tags": []
   },
   "outputs": [
    {
     "data": {
      "text/html": [
       "<div>\n",
       "<style scoped>\n",
       "    .dataframe tbody tr th:only-of-type {\n",
       "        vertical-align: middle;\n",
       "    }\n",
       "\n",
       "    .dataframe tbody tr th {\n",
       "        vertical-align: top;\n",
       "    }\n",
       "\n",
       "    .dataframe thead th {\n",
       "        text-align: right;\n",
       "    }\n",
       "</style>\n",
       "<table border=\"1\" class=\"dataframe\">\n",
       "  <thead>\n",
       "    <tr style=\"text-align: right;\">\n",
       "      <th></th>\n",
       "      <th>universe_id</th>\n",
       "      <th>universe_training_year</th>\n",
       "      <th>universe_training_size</th>\n",
       "      <th>universe_scale</th>\n",
       "      <th>universe_model</th>\n",
       "      <th>universe_exclude_features</th>\n",
       "      <th>universe_exclude_subgroups</th>\n",
       "      <th>q_hat</th>\n",
       "      <th>coverage</th>\n",
       "      <th>avg_size</th>\n",
       "    </tr>\n",
       "  </thead>\n",
       "  <tbody>\n",
       "    <tr>\n",
       "      <th>0</th>\n",
       "      <td>df1d70a9c3fabc56388926d92981af4a</td>\n",
       "      <td>2010_14</td>\n",
       "      <td>5k</td>\n",
       "      <td>do-not-scale</td>\n",
       "      <td>penalized_logreg</td>\n",
       "      <td>nationality-sex</td>\n",
       "      <td>drop-non-german</td>\n",
       "      <td>0.676386</td>\n",
       "      <td>0.913087</td>\n",
       "      <td>1.21555</td>\n",
       "    </tr>\n",
       "  </tbody>\n",
       "</table>\n",
       "</div>"
      ],
      "text/plain": [
       "                        universe_id universe_training_year  \\\n",
       "0  df1d70a9c3fabc56388926d92981af4a                2010_14   \n",
       "\n",
       "  universe_training_size universe_scale    universe_model  \\\n",
       "0                     5k   do-not-scale  penalized_logreg   \n",
       "\n",
       "  universe_exclude_features universe_exclude_subgroups     q_hat  coverage  \\\n",
       "0           nationality-sex            drop-non-german  0.676386  0.913087   \n",
       "\n",
       "   avg_size  \n",
       "0   1.21555  "
      ]
     },
     "execution_count": 50,
     "metadata": {},
     "output_type": "execute_result"
    }
   ],
   "source": [
    "cp_metrics_df"
   ]
  },
  {
   "cell_type": "code",
   "execution_count": 51,
   "id": "b7fbde55-a0a1-47e4-9af6-fe4a17fa8c61",
   "metadata": {
    "execution": {
     "iopub.execute_input": "2025-08-05T15:57:12.890957Z",
     "iopub.status.busy": "2025-08-05T15:57:12.890378Z",
     "iopub.status.idle": "2025-08-05T15:57:12.897690Z",
     "shell.execute_reply": "2025-08-05T15:57:12.896500Z"
    },
    "papermill": {
     "duration": 0.033388,
     "end_time": "2025-08-05T15:57:12.899565",
     "exception": false,
     "start_time": "2025-08-05T15:57:12.866177",
     "status": "completed"
    },
    "tags": []
   },
   "outputs": [],
   "source": [
    "# Conditional Coverage & looking at subgroups"
   ]
  },
  {
   "cell_type": "code",
   "execution_count": 52,
   "id": "027ae886-68dd-4141-96c7-805a5450e1ef",
   "metadata": {
    "execution": {
     "iopub.execute_input": "2025-08-05T15:57:12.947187Z",
     "iopub.status.busy": "2025-08-05T15:57:12.946625Z",
     "iopub.status.idle": "2025-08-05T15:57:13.279512Z",
     "shell.execute_reply": "2025-08-05T15:57:13.278428Z"
    },
    "papermill": {
     "duration": 0.358415,
     "end_time": "2025-08-05T15:57:13.281695",
     "exception": false,
     "start_time": "2025-08-05T15:57:12.923280",
     "status": "completed"
    },
    "tags": []
   },
   "outputs": [],
   "source": [
    "from fairness_multiverse.conformal import build_cp_groups\n",
    "\n",
    "cp_groups_df = build_cp_groups(pred_sets, y_true, X_test.index, org_test)\n",
    "#needs universe_id and setting"
   ]
  },
  {
   "cell_type": "code",
   "execution_count": 53,
   "id": "6cbdab96-b2b2-45af-ad54-d0516db2e28d",
   "metadata": {
    "execution": {
     "iopub.execute_input": "2025-08-05T15:57:13.328200Z",
     "iopub.status.busy": "2025-08-05T15:57:13.327147Z",
     "iopub.status.idle": "2025-08-05T15:57:15.008784Z",
     "shell.execute_reply": "2025-08-05T15:57:15.007539Z"
    },
    "papermill": {
     "duration": 1.707477,
     "end_time": "2025-08-05T15:57:15.011490",
     "exception": false,
     "start_time": "2025-08-05T15:57:13.304013",
     "status": "completed"
    },
    "tags": []
   },
   "outputs": [],
   "source": [
    "# Define covered = 1 if true_label is in the predicted set\n",
    "cp_groups_df['covered'] = cp_groups_df.apply(\n",
    "    lambda r: int(r['true_label'] in r['pred_set']),\n",
    "    axis=1\n",
    ")"
   ]
  },
  {
   "cell_type": "code",
   "execution_count": 54,
   "id": "338ff529-1a6b-4b87-a931-8e4788d52aad",
   "metadata": {
    "execution": {
     "iopub.execute_input": "2025-08-05T15:57:15.087989Z",
     "iopub.status.busy": "2025-08-05T15:57:15.087550Z",
     "iopub.status.idle": "2025-08-05T15:57:15.093307Z",
     "shell.execute_reply": "2025-08-05T15:57:15.092157Z"
    },
    "papermill": {
     "duration": 0.045711,
     "end_time": "2025-08-05T15:57:15.096088",
     "exception": false,
     "start_time": "2025-08-05T15:57:15.050377",
     "status": "completed"
    },
    "tags": []
   },
   "outputs": [],
   "source": [
    "#cp_groups_df"
   ]
  },
  {
   "cell_type": "code",
   "execution_count": 55,
   "id": "90032e27-66df-4540-9169-4e89cfbaa758",
   "metadata": {
    "execution": {
     "iopub.execute_input": "2025-08-05T15:57:15.170754Z",
     "iopub.status.busy": "2025-08-05T15:57:15.170363Z",
     "iopub.status.idle": "2025-08-05T15:57:15.183194Z",
     "shell.execute_reply": "2025-08-05T15:57:15.181921Z"
    },
    "papermill": {
     "duration": 0.052567,
     "end_time": "2025-08-05T15:57:15.185638",
     "exception": false,
     "start_time": "2025-08-05T15:57:15.133071",
     "status": "completed"
    },
    "tags": []
   },
   "outputs": [],
   "source": [
    "subgroups = ['frau1','nongerman','nongerman_male','nongerman_female']\n",
    "\n",
    "# Conditional coverage for subgroup==1\n",
    "cond_coverage = {\n",
    "    g: cp_groups_df.loc[cp_groups_df[g]==1, 'covered'].mean()\n",
    "    for g in subgroups\n",
    "}"
   ]
  },
  {
   "cell_type": "code",
   "execution_count": 56,
   "id": "1e348fb1-b9c3-45bc-ba23-f016827a7e0d",
   "metadata": {
    "execution": {
     "iopub.execute_input": "2025-08-05T15:57:15.255351Z",
     "iopub.status.busy": "2025-08-05T15:57:15.254932Z",
     "iopub.status.idle": "2025-08-05T15:57:15.263036Z",
     "shell.execute_reply": "2025-08-05T15:57:15.261761Z"
    },
    "papermill": {
     "duration": 0.047723,
     "end_time": "2025-08-05T15:57:15.265346",
     "exception": false,
     "start_time": "2025-08-05T15:57:15.217623",
     "status": "completed"
    },
    "tags": []
   },
   "outputs": [
    {
     "data": {
      "text/plain": [
       "{'frau1': 0.913411510985308,\n",
       " 'nongerman': 0.9394262617189693,\n",
       " 'nongerman_male': 0.9489327208862469,\n",
       " 'nongerman_female': 0.9236959761549925}"
      ]
     },
     "execution_count": 56,
     "metadata": {},
     "output_type": "execute_result"
    }
   ],
   "source": [
    "cond_coverage"
   ]
  },
  {
   "cell_type": "code",
   "execution_count": 57,
   "id": "f5093324-c3dd-4d63-bc4c-8d945e5c8bbb",
   "metadata": {
    "execution": {
     "iopub.execute_input": "2025-08-05T15:57:15.337495Z",
     "iopub.status.busy": "2025-08-05T15:57:15.336593Z",
     "iopub.status.idle": "2025-08-05T15:57:15.346292Z",
     "shell.execute_reply": "2025-08-05T15:57:15.344898Z"
    },
    "papermill": {
     "duration": 0.047925,
     "end_time": "2025-08-05T15:57:15.348480",
     "exception": false,
     "start_time": "2025-08-05T15:57:15.300555",
     "status": "completed"
    },
    "tags": []
   },
   "outputs": [],
   "source": [
    "for subgroup, cov in cond_coverage.items():\n",
    "    cp_metrics_df[f\"cov_{subgroup}\"] = cov"
   ]
  },
  {
   "cell_type": "code",
   "execution_count": 58,
   "id": "6e872e10-dbe5-49e8-b554-5030c98ff75d",
   "metadata": {
    "execution": {
     "iopub.execute_input": "2025-08-05T15:57:15.398554Z",
     "iopub.status.busy": "2025-08-05T15:57:15.397507Z",
     "iopub.status.idle": "2025-08-05T15:57:15.418373Z",
     "shell.execute_reply": "2025-08-05T15:57:15.417255Z"
    },
    "papermill": {
     "duration": 0.048391,
     "end_time": "2025-08-05T15:57:15.420548",
     "exception": false,
     "start_time": "2025-08-05T15:57:15.372157",
     "status": "completed"
    },
    "tags": []
   },
   "outputs": [
    {
     "data": {
      "text/html": [
       "<div>\n",
       "<style scoped>\n",
       "    .dataframe tbody tr th:only-of-type {\n",
       "        vertical-align: middle;\n",
       "    }\n",
       "\n",
       "    .dataframe tbody tr th {\n",
       "        vertical-align: top;\n",
       "    }\n",
       "\n",
       "    .dataframe thead th {\n",
       "        text-align: right;\n",
       "    }\n",
       "</style>\n",
       "<table border=\"1\" class=\"dataframe\">\n",
       "  <thead>\n",
       "    <tr style=\"text-align: right;\">\n",
       "      <th></th>\n",
       "      <th>universe_id</th>\n",
       "      <th>universe_training_year</th>\n",
       "      <th>universe_training_size</th>\n",
       "      <th>universe_scale</th>\n",
       "      <th>universe_model</th>\n",
       "      <th>universe_exclude_features</th>\n",
       "      <th>universe_exclude_subgroups</th>\n",
       "      <th>q_hat</th>\n",
       "      <th>coverage</th>\n",
       "      <th>avg_size</th>\n",
       "      <th>cov_frau1</th>\n",
       "      <th>cov_nongerman</th>\n",
       "      <th>cov_nongerman_male</th>\n",
       "      <th>cov_nongerman_female</th>\n",
       "    </tr>\n",
       "  </thead>\n",
       "  <tbody>\n",
       "    <tr>\n",
       "      <th>0</th>\n",
       "      <td>df1d70a9c3fabc56388926d92981af4a</td>\n",
       "      <td>2010_14</td>\n",
       "      <td>5k</td>\n",
       "      <td>do-not-scale</td>\n",
       "      <td>penalized_logreg</td>\n",
       "      <td>nationality-sex</td>\n",
       "      <td>drop-non-german</td>\n",
       "      <td>0.676386</td>\n",
       "      <td>0.913087</td>\n",
       "      <td>1.21555</td>\n",
       "      <td>0.913412</td>\n",
       "      <td>0.939426</td>\n",
       "      <td>0.948933</td>\n",
       "      <td>0.923696</td>\n",
       "    </tr>\n",
       "  </tbody>\n",
       "</table>\n",
       "</div>"
      ],
      "text/plain": [
       "                        universe_id universe_training_year  \\\n",
       "0  df1d70a9c3fabc56388926d92981af4a                2010_14   \n",
       "\n",
       "  universe_training_size universe_scale    universe_model  \\\n",
       "0                     5k   do-not-scale  penalized_logreg   \n",
       "\n",
       "  universe_exclude_features universe_exclude_subgroups     q_hat  coverage  \\\n",
       "0           nationality-sex            drop-non-german  0.676386  0.913087   \n",
       "\n",
       "   avg_size  cov_frau1  cov_nongerman  cov_nongerman_male  \\\n",
       "0   1.21555   0.913412       0.939426            0.948933   \n",
       "\n",
       "   cov_nongerman_female  \n",
       "0              0.923696  "
      ]
     },
     "execution_count": 58,
     "metadata": {},
     "output_type": "execute_result"
    }
   ],
   "source": [
    "cp_metrics_df"
   ]
  },
  {
   "cell_type": "markdown",
   "id": "33774451",
   "metadata": {
    "papermill": {
     "duration": 0.034913,
     "end_time": "2025-08-05T15:57:15.491177",
     "exception": false,
     "start_time": "2025-08-05T15:57:15.456264",
     "status": "completed"
    },
    "tags": []
   },
   "source": [
    "# (Fairness) Metrics"
   ]
  },
  {
   "cell_type": "code",
   "execution_count": 59,
   "id": "debc5d62",
   "metadata": {
    "execution": {
     "iopub.execute_input": "2025-08-05T15:57:15.563725Z",
     "iopub.status.busy": "2025-08-05T15:57:15.563283Z",
     "iopub.status.idle": "2025-08-05T15:57:15.586676Z",
     "shell.execute_reply": "2025-08-05T15:57:15.585542Z"
    },
    "papermill": {
     "duration": 0.062407,
     "end_time": "2025-08-05T15:57:15.588855",
     "exception": false,
     "start_time": "2025-08-05T15:57:15.526448",
     "status": "completed"
    },
    "tags": []
   },
   "outputs": [],
   "source": [
    "# do I need to include maxdeutsch1.missing?\n",
    "\n",
    "import numpy as np\n",
    "\n",
    "colname_to_bin = \"maxdeutsch1\"\n",
    "majority_value = org_train[colname_to_bin].mode()[0]\n",
    "\n",
    "org_test[\"majmin\"] = np.where(org_test[colname_to_bin] == majority_value, \"majority\", \"minority\")"
   ]
  },
  {
   "cell_type": "code",
   "execution_count": 60,
   "id": "06a50de5",
   "metadata": {
    "execution": {
     "iopub.execute_input": "2025-08-05T15:57:15.636971Z",
     "iopub.status.busy": "2025-08-05T15:57:15.636621Z",
     "iopub.status.idle": "2025-08-05T15:57:17.639200Z",
     "shell.execute_reply": "2025-08-05T15:57:17.638276Z"
    },
    "papermill": {
     "duration": 2.022388,
     "end_time": "2025-08-05T15:57:17.640661",
     "exception": false,
     "start_time": "2025-08-05T15:57:15.618273",
     "status": "completed"
    },
    "tags": []
   },
   "outputs": [],
   "source": [
    "example_universe = universe.copy()\n",
    "example_universe[\"cutoff\"] = example_universe[\"cutoff\"][0]\n",
    "example_universe[\"eval_fairness_grouping\"] = example_universe[\"eval_fairness_grouping\"][0]\n",
    "fairness_dict, metric_frame = universe_analysis.compute_metrics(\n",
    "    example_universe,\n",
    "    y_pred_prob=probs_test,\n",
    "    y_test=y_true,\n",
    "    org_test=org_test,\n",
    ")"
   ]
  },
  {
   "cell_type": "markdown",
   "id": "f95d4e02",
   "metadata": {
    "papermill": {
     "duration": 0.012533,
     "end_time": "2025-08-05T15:57:17.668504",
     "exception": false,
     "start_time": "2025-08-05T15:57:17.655971",
     "status": "completed"
    },
    "tags": []
   },
   "source": [
    "# Overall"
   ]
  },
  {
   "cell_type": "markdown",
   "id": "bdee4871",
   "metadata": {
    "papermill": {
     "duration": 0.012906,
     "end_time": "2025-08-05T15:57:17.694120",
     "exception": false,
     "start_time": "2025-08-05T15:57:17.681214",
     "status": "completed"
    },
    "tags": []
   },
   "source": [
    "Fairness\n",
    "Main fairness target: Equalized Odds. Seems to be a better fit than equal opportunity, since we're not only interested in Y = 1. Seems to be a better fit than demographic parity, since we also care about accuracy, not just equal distribution of preds.\n",
    "\n",
    "Pick column for computation of fairness metrics\n",
    "\n",
    "Performance\n",
    "Overall performance measures, most interesting in relation to the measures split by group below"
   ]
  },
  {
   "cell_type": "code",
   "execution_count": 61,
   "id": "c4e067c6",
   "metadata": {
    "execution": {
     "iopub.execute_input": "2025-08-05T15:57:17.742547Z",
     "iopub.status.busy": "2025-08-05T15:57:17.742088Z",
     "iopub.status.idle": "2025-08-05T15:57:17.751179Z",
     "shell.execute_reply": "2025-08-05T15:57:17.750029Z"
    },
    "papermill": {
     "duration": 0.038268,
     "end_time": "2025-08-05T15:57:17.752796",
     "exception": false,
     "start_time": "2025-08-05T15:57:17.714528",
     "status": "completed"
    },
    "tags": []
   },
   "outputs": [
    {
     "data": {
      "text/plain": [
       "accuracy                   0.217846\n",
       "balanced accuracy          0.534032\n",
       "f1                         0.239357\n",
       "precision                  0.136737\n",
       "false positive rate        0.891269\n",
       "false negative rate        0.040667\n",
       "selection rate             0.900000\n",
       "count                  89710.000000\n",
       "dtype: float64"
      ]
     },
     "execution_count": 61,
     "metadata": {},
     "output_type": "execute_result"
    }
   ],
   "source": [
    "metric_frame.overall"
   ]
  },
  {
   "cell_type": "markdown",
   "id": "e968fe9d",
   "metadata": {
    "papermill": {
     "duration": 0.013555,
     "end_time": "2025-08-05T15:57:17.782651",
     "exception": false,
     "start_time": "2025-08-05T15:57:17.769096",
     "status": "completed"
    },
    "tags": []
   },
   "source": [
    "By Group"
   ]
  },
  {
   "cell_type": "code",
   "execution_count": 62,
   "id": "ec325bce",
   "metadata": {
    "execution": {
     "iopub.execute_input": "2025-08-05T15:57:17.809783Z",
     "iopub.status.busy": "2025-08-05T15:57:17.808824Z",
     "iopub.status.idle": "2025-08-05T15:57:17.822418Z",
     "shell.execute_reply": "2025-08-05T15:57:17.821417Z"
    },
    "papermill": {
     "duration": 0.028736,
     "end_time": "2025-08-05T15:57:17.823964",
     "exception": false,
     "start_time": "2025-08-05T15:57:17.795228",
     "status": "completed"
    },
    "tags": []
   },
   "outputs": [
    {
     "data": {
      "text/html": [
       "<div>\n",
       "<style scoped>\n",
       "    .dataframe tbody tr th:only-of-type {\n",
       "        vertical-align: middle;\n",
       "    }\n",
       "\n",
       "    .dataframe tbody tr th {\n",
       "        vertical-align: top;\n",
       "    }\n",
       "\n",
       "    .dataframe thead th {\n",
       "        text-align: right;\n",
       "    }\n",
       "</style>\n",
       "<table border=\"1\" class=\"dataframe\">\n",
       "  <thead>\n",
       "    <tr style=\"text-align: right;\">\n",
       "      <th></th>\n",
       "      <th>accuracy</th>\n",
       "      <th>balanced accuracy</th>\n",
       "      <th>f1</th>\n",
       "      <th>precision</th>\n",
       "      <th>false positive rate</th>\n",
       "      <th>false negative rate</th>\n",
       "      <th>selection rate</th>\n",
       "      <th>count</th>\n",
       "    </tr>\n",
       "    <tr>\n",
       "      <th>majmin</th>\n",
       "      <th></th>\n",
       "      <th></th>\n",
       "      <th></th>\n",
       "      <th></th>\n",
       "      <th></th>\n",
       "      <th></th>\n",
       "      <th></th>\n",
       "      <th></th>\n",
       "    </tr>\n",
       "  </thead>\n",
       "  <tbody>\n",
       "    <tr>\n",
       "      <th>majority</th>\n",
       "      <td>0.239425</td>\n",
       "      <td>0.541869</td>\n",
       "      <td>0.248754</td>\n",
       "      <td>0.143047</td>\n",
       "      <td>0.869215</td>\n",
       "      <td>0.047046</td>\n",
       "      <td>0.880280</td>\n",
       "      <td>69170.0</td>\n",
       "    </tr>\n",
       "    <tr>\n",
       "      <th>minority</th>\n",
       "      <td>0.145180</td>\n",
       "      <td>0.509916</td>\n",
       "      <td>0.209740</td>\n",
       "      <td>0.117380</td>\n",
       "      <td>0.964121</td>\n",
       "      <td>0.016047</td>\n",
       "      <td>0.966407</td>\n",
       "      <td>20540.0</td>\n",
       "    </tr>\n",
       "  </tbody>\n",
       "</table>\n",
       "</div>"
      ],
      "text/plain": [
       "          accuracy  balanced accuracy        f1  precision  \\\n",
       "majmin                                                       \n",
       "majority  0.239425           0.541869  0.248754   0.143047   \n",
       "minority  0.145180           0.509916  0.209740   0.117380   \n",
       "\n",
       "          false positive rate  false negative rate  selection rate    count  \n",
       "majmin                                                                       \n",
       "majority             0.869215             0.047046        0.880280  69170.0  \n",
       "minority             0.964121             0.016047        0.966407  20540.0  "
      ]
     },
     "execution_count": 62,
     "metadata": {},
     "output_type": "execute_result"
    }
   ],
   "source": [
    "metric_frame.by_group"
   ]
  },
  {
   "cell_type": "code",
   "execution_count": 63,
   "id": "a9ddbe63",
   "metadata": {
    "execution": {
     "iopub.execute_input": "2025-08-05T15:57:17.866740Z",
     "iopub.status.busy": "2025-08-05T15:57:17.865893Z",
     "iopub.status.idle": "2025-08-05T15:57:20.467329Z",
     "shell.execute_reply": "2025-08-05T15:57:20.465975Z"
    },
    "papermill": {
     "duration": 2.630644,
     "end_time": "2025-08-05T15:57:20.469300",
     "exception": false,
     "start_time": "2025-08-05T15:57:17.838656",
     "status": "completed"
    },
    "tags": []
   },
   "outputs": [
    {
     "data": {
      "text/plain": [
       "array([[<Axes: title={'center': 'accuracy'}, xlabel='majmin'>,\n",
       "        <Axes: title={'center': 'balanced accuracy'}, xlabel='majmin'>,\n",
       "        <Axes: title={'center': 'f1'}, xlabel='majmin'>],\n",
       "       [<Axes: title={'center': 'precision'}, xlabel='majmin'>,\n",
       "        <Axes: title={'center': 'false positive rate'}, xlabel='majmin'>,\n",
       "        <Axes: title={'center': 'false negative rate'}, xlabel='majmin'>],\n",
       "       [<Axes: title={'center': 'selection rate'}, xlabel='majmin'>,\n",
       "        <Axes: title={'center': 'count'}, xlabel='majmin'>,\n",
       "        <Axes: xlabel='majmin'>]], dtype=object)"
      ]
     },
     "execution_count": 63,
     "metadata": {},
     "output_type": "execute_result"
    },
    {
     "data": {
      "image/png": "[encoded data removed]",
      "text/plain": [
       "<Figure size 1200x800 with 9 Axes>"
      ]
     },
     "metadata": {},
     "output_type": "display_data"
    }
   ],
   "source": [
    "# In a graphic\n",
    "metric_frame.by_group.plot.bar(\n",
    "    subplots=True,\n",
    "    layout=[3, 3],\n",
    "    legend=False,\n",
    "    figsize=[12, 8],\n",
    "    title=\"Show all metrics\",\n",
    ")"
   ]
  },
  {
   "cell_type": "markdown",
   "id": "f57a0bac",
   "metadata": {
    "papermill": {
     "duration": 0.029941,
     "end_time": "2025-08-05T15:57:20.529659",
     "exception": false,
     "start_time": "2025-08-05T15:57:20.499718",
     "status": "completed"
    },
    "tags": []
   },
   "source": [
    "# Final Output"
   ]
  },
  {
   "cell_type": "code",
   "execution_count": 64,
   "id": "96d280a3",
   "metadata": {
    "execution": {
     "iopub.execute_input": "2025-08-05T15:57:20.592754Z",
     "iopub.status.busy": "2025-08-05T15:57:20.591555Z",
     "iopub.status.idle": "2025-08-05T15:57:20.601405Z",
     "shell.execute_reply": "2025-08-05T15:57:20.600033Z"
    },
    "papermill": {
     "duration": 0.043821,
     "end_time": "2025-08-05T15:57:20.603806",
     "exception": false,
     "start_time": "2025-08-05T15:57:20.559985",
     "status": "completed"
    },
    "tags": []
   },
   "outputs": [
    {
     "data": {
      "text/plain": [
       "4"
      ]
     },
     "execution_count": 64,
     "metadata": {},
     "output_type": "execute_result"
    }
   ],
   "source": [
    "sub_universes = universe_analysis.generate_sub_universes()\n",
    "len(sub_universes)"
   ]
  },
  {
   "cell_type": "code",
   "execution_count": 65,
   "id": "92adf7ba",
   "metadata": {
    "execution": {
     "iopub.execute_input": "2025-08-05T15:57:20.683018Z",
     "iopub.status.busy": "2025-08-05T15:57:20.682075Z",
     "iopub.status.idle": "2025-08-05T15:57:20.690770Z",
     "shell.execute_reply": "2025-08-05T15:57:20.689368Z"
    },
    "papermill": {
     "duration": 0.050807,
     "end_time": "2025-08-05T15:57:20.692678",
     "exception": false,
     "start_time": "2025-08-05T15:57:20.641871",
     "status": "completed"
    },
    "tags": []
   },
   "outputs": [],
   "source": [
    "def filter_sub_universe_data(sub_universe, org_test):\n",
    "    # Keep all rows — no filtering\n",
    "    keep_rows_mask = np.ones(org_test.shape[0], dtype=bool)\n",
    "\n",
    "    print(f\"[INFO] Keeping all rows: {keep_rows_mask.sum()} rows retained.\")\n",
    "    return keep_rows_mask"
   ]
  },
  {
   "cell_type": "code",
   "execution_count": 66,
   "id": "4a759155",
   "metadata": {
    "execution": {
     "iopub.execute_input": "2025-08-05T15:57:20.757802Z",
     "iopub.status.busy": "2025-08-05T15:57:20.756927Z",
     "iopub.status.idle": "2025-08-05T15:57:31.070085Z",
     "shell.execute_reply": "2025-08-05T15:57:31.068476Z"
    },
    "papermill": {
     "duration": 10.347558,
     "end_time": "2025-08-05T15:57:31.071683",
     "exception": false,
     "start_time": "2025-08-05T15:57:20.724125",
     "status": "completed"
    },
    "tags": []
   },
   "outputs": [
    {
     "name": "stdout",
     "output_type": "stream",
     "text": [
      "Stopping execution_time clock.\n",
      "[INFO] Keeping all rows: 89710 rows retained.\n"
     ]
    },
    {
     "name": "stdout",
     "output_type": "stream",
     "text": [
      "[INFO] Keeping all rows: 89710 rows retained.\n"
     ]
    },
    {
     "name": "stdout",
     "output_type": "stream",
     "text": [
      "[INFO] Keeping all rows: 89710 rows retained.\n"
     ]
    },
    {
     "name": "stdout",
     "output_type": "stream",
     "text": [
      "[INFO] Keeping all rows: 89710 rows retained.\n"
     ]
    },
    {
     "data": {
      "text/html": [
       "<div>\n",
       "<style scoped>\n",
       "    .dataframe tbody tr th:only-of-type {\n",
       "        vertical-align: middle;\n",
       "    }\n",
       "\n",
       "    .dataframe tbody tr th {\n",
       "        vertical-align: top;\n",
       "    }\n",
       "\n",
       "    .dataframe thead th {\n",
       "        text-align: right;\n",
       "    }\n",
       "</style>\n",
       "<table border=\"1\" class=\"dataframe\">\n",
       "  <thead>\n",
       "    <tr style=\"text-align: right;\">\n",
       "      <th></th>\n",
       "      <th>run_no</th>\n",
       "      <th>universe_id</th>\n",
       "      <th>universe_settings</th>\n",
       "      <th>execution_time</th>\n",
       "      <th>test_size_n</th>\n",
       "      <th>test_size_frac</th>\n",
       "      <th>fair_main_equalized_odds_difference</th>\n",
       "      <th>fair_main_equalized_odds_ratio</th>\n",
       "      <th>fair_main_demographic_parity_difference</th>\n",
       "      <th>fair_main_demographic_parity_ratio</th>\n",
       "      <th>...</th>\n",
       "      <th>perf_grp_precision_0</th>\n",
       "      <th>perf_grp_precision_1</th>\n",
       "      <th>perf_grp_false positive rate_0</th>\n",
       "      <th>perf_grp_false positive rate_1</th>\n",
       "      <th>perf_grp_false negative rate_0</th>\n",
       "      <th>perf_grp_false negative rate_1</th>\n",
       "      <th>perf_grp_selection rate_0</th>\n",
       "      <th>perf_grp_selection rate_1</th>\n",
       "      <th>perf_grp_count_0</th>\n",
       "      <th>perf_grp_count_1</th>\n",
       "    </tr>\n",
       "  </thead>\n",
       "  <tbody>\n",
       "    <tr>\n",
       "      <th>0</th>\n",
       "      <td>15</td>\n",
       "      <td>df1d70a9c3fabc56388926d92981af4a</td>\n",
       "      <td>{\"cutoff\": \"quantile_0.1\", \"eval_fairness_grou...</td>\n",
       "      <td>26.652602</td>\n",
       "      <td>89710</td>\n",
       "      <td>1.0</td>\n",
       "      <td>0.094905</td>\n",
       "      <td>0.901563</td>\n",
       "      <td>0.086127</td>\n",
       "      <td>0.910880</td>\n",
       "      <td>...</td>\n",
       "      <td>NaN</td>\n",
       "      <td>NaN</td>\n",
       "      <td>NaN</td>\n",
       "      <td>NaN</td>\n",
       "      <td>NaN</td>\n",
       "      <td>NaN</td>\n",
       "      <td>NaN</td>\n",
       "      <td>NaN</td>\n",
       "      <td>NaN</td>\n",
       "      <td>NaN</td>\n",
       "    </tr>\n",
       "    <tr>\n",
       "      <th>0</th>\n",
       "      <td>15</td>\n",
       "      <td>df1d70a9c3fabc56388926d92981af4a</td>\n",
       "      <td>{\"cutoff\": \"quantile_0.1\", \"eval_fairness_grou...</td>\n",
       "      <td>26.652602</td>\n",
       "      <td>89710</td>\n",
       "      <td>1.0</td>\n",
       "      <td>0.094905</td>\n",
       "      <td>0.901563</td>\n",
       "      <td>0.086127</td>\n",
       "      <td>0.910880</td>\n",
       "      <td>...</td>\n",
       "      <td>0.117380</td>\n",
       "      <td>0.143047</td>\n",
       "      <td>0.964121</td>\n",
       "      <td>0.869215</td>\n",
       "      <td>0.016047</td>\n",
       "      <td>0.047046</td>\n",
       "      <td>0.966407</td>\n",
       "      <td>0.880280</td>\n",
       "      <td>20540.0</td>\n",
       "      <td>69170.0</td>\n",
       "    </tr>\n",
       "    <tr>\n",
       "      <th>0</th>\n",
       "      <td>15</td>\n",
       "      <td>df1d70a9c3fabc56388926d92981af4a</td>\n",
       "      <td>{\"cutoff\": \"quantile_0.25\", \"eval_fairness_gro...</td>\n",
       "      <td>26.652602</td>\n",
       "      <td>89710</td>\n",
       "      <td>1.0</td>\n",
       "      <td>0.217863</td>\n",
       "      <td>0.757280</td>\n",
       "      <td>0.199222</td>\n",
       "      <td>0.779525</td>\n",
       "      <td>...</td>\n",
       "      <td>NaN</td>\n",
       "      <td>NaN</td>\n",
       "      <td>NaN</td>\n",
       "      <td>NaN</td>\n",
       "      <td>NaN</td>\n",
       "      <td>NaN</td>\n",
       "      <td>NaN</td>\n",
       "      <td>NaN</td>\n",
       "      <td>NaN</td>\n",
       "      <td>NaN</td>\n",
       "    </tr>\n",
       "    <tr>\n",
       "      <th>0</th>\n",
       "      <td>15</td>\n",
       "      <td>df1d70a9c3fabc56388926d92981af4a</td>\n",
       "      <td>{\"cutoff\": \"quantile_0.25\", \"eval_fairness_gro...</td>\n",
       "      <td>26.652602</td>\n",
       "      <td>89710</td>\n",
       "      <td>1.0</td>\n",
       "      <td>0.217863</td>\n",
       "      <td>0.757280</td>\n",
       "      <td>0.199222</td>\n",
       "      <td>0.779525</td>\n",
       "      <td>...</td>\n",
       "      <td>0.121175</td>\n",
       "      <td>0.162514</td>\n",
       "      <td>0.897590</td>\n",
       "      <td>0.679727</td>\n",
       "      <td>0.050253</td>\n",
       "      <td>0.133698</td>\n",
       "      <td>0.903603</td>\n",
       "      <td>0.704381</td>\n",
       "      <td>20540.0</td>\n",
       "      <td>69170.0</td>\n",
       "    </tr>\n",
       "  </tbody>\n",
       "</table>\n",
       "<p>4 rows × 50 columns</p>\n",
       "</div>"
      ],
      "text/plain": [
       "  run_no                       universe_id  \\\n",
       "0     15  df1d70a9c3fabc56388926d92981af4a   \n",
       "0     15  df1d70a9c3fabc56388926d92981af4a   \n",
       "0     15  df1d70a9c3fabc56388926d92981af4a   \n",
       "0     15  df1d70a9c3fabc56388926d92981af4a   \n",
       "\n",
       "                                   universe_settings  execution_time  \\\n",
       "0  {\"cutoff\": \"quantile_0.1\", \"eval_fairness_grou...       26.652602   \n",
       "0  {\"cutoff\": \"quantile_0.1\", \"eval_fairness_grou...       26.652602   \n",
       "0  {\"cutoff\": \"quantile_0.25\", \"eval_fairness_gro...       26.652602   \n",
       "0  {\"cutoff\": \"quantile_0.25\", \"eval_fairness_gro...       26.652602   \n",
       "\n",
       "   test_size_n  test_size_frac  fair_main_equalized_odds_difference  \\\n",
       "0        89710             1.0                             0.094905   \n",
       "0        89710             1.0                             0.094905   \n",
       "0        89710             1.0                             0.217863   \n",
       "0        89710             1.0                             0.217863   \n",
       "\n",
       "   fair_main_equalized_odds_ratio  fair_main_demographic_parity_difference  \\\n",
       "0                        0.901563                                 0.086127   \n",
       "0                        0.901563                                 0.086127   \n",
       "0                        0.757280                                 0.199222   \n",
       "0                        0.757280                                 0.199222   \n",
       "\n",
       "   fair_main_demographic_parity_ratio  ...  perf_grp_precision_0  \\\n",
       "0                            0.910880  ...                   NaN   \n",
       "0                            0.910880  ...              0.117380   \n",
       "0                            0.779525  ...                   NaN   \n",
       "0                            0.779525  ...              0.121175   \n",
       "\n",
       "   perf_grp_precision_1  perf_grp_false positive rate_0  \\\n",
       "0                   NaN                             NaN   \n",
       "0              0.143047                        0.964121   \n",
       "0                   NaN                             NaN   \n",
       "0              0.162514                        0.897590   \n",
       "\n",
       "   perf_grp_false positive rate_1  perf_grp_false negative rate_0  \\\n",
       "0                             NaN                             NaN   \n",
       "0                        0.869215                        0.016047   \n",
       "0                             NaN                             NaN   \n",
       "0                        0.679727                        0.050253   \n",
       "\n",
       "   perf_grp_false negative rate_1  perf_grp_selection rate_0  \\\n",
       "0                             NaN                        NaN   \n",
       "0                        0.047046                   0.966407   \n",
       "0                             NaN                        NaN   \n",
       "0                        0.133698                   0.903603   \n",
       "\n",
       "   perf_grp_selection rate_1  perf_grp_count_0  perf_grp_count_1  \n",
       "0                        NaN               NaN               NaN  \n",
       "0                   0.880280           20540.0           69170.0  \n",
       "0                        NaN               NaN               NaN  \n",
       "0                   0.704381           20540.0           69170.0  \n",
       "\n",
       "[4 rows x 50 columns]"
      ]
     },
     "execution_count": 66,
     "metadata": {},
     "output_type": "execute_result"
    }
   ],
   "source": [
    "final_output = universe_analysis.generate_final_output(\n",
    "    y_pred_prob=probs_test,\n",
    "    y_test=y_true,\n",
    "    org_test=org_test,\n",
    "    filter_data=filter_sub_universe_data,\n",
    "    cp_metrics_df=cp_metrics_df,\n",
    "    save=True,\n",
    ")\n",
    "final_output"
   ]
  }
 ],
 "metadata": {
  "celltoolbar": "Tags",
  "kernelspec": {
   "display_name": "Python (CMA Fairness)",
   "language": "python",
   "name": "cma_fair_env"
  },
  "language_info": {
   "codemirror_mode": {
    "name": "ipython",
    "version": 3
   },
   "file_extension": ".py",
   "mimetype": "text/x-python",
   "name": "python",
   "nbconvert_exporter": "python",
   "pygments_lexer": "ipython3",
   "version": "3.10.12"
  },
  "papermill": {
   "default_parameters": {},
   "duration": 41.226367,
   "end_time": "2025-08-05T15:57:31.920028",
   "environment_variables": {},
   "exception": null,
   "input_path": "universe_analysis.ipynb",
   "output_path": "output/runs/15/notebooks/m_15-df1d70a9c3fabc56388926d92981af4a.ipynb",
   "parameters": {
    "output_dir": "output",
    "run_no": "15",
    "seed": "2023",
    "universe": "{\"cutoff\": [\"quantile_0.1\", \"quantile_0.25\"], \"eval_fairness_grouping\": [\"majority-minority\", \"nationality-all\"], \"exclude_features\": \"nationality-sex\", \"exclude_subgroups\": \"drop-non-german\", \"model\": \"penalized_logreg\", \"scale\": \"do-not-scale\", \"training_size\": \"5k\", \"training_year\": \"2010_14\"}",
    "universe_id": "df1d70a9c3fabc56388926d92981af4a"
   },
   "start_time": "2025-08-05T15:56:50.693661",
   "version": "2.6.0"
  }
 },
 "nbformat": 4,
 "nbformat_minor": 5
}