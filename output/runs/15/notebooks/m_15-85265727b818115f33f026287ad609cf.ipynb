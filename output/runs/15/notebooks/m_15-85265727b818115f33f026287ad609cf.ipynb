{
 "cells": [
  {
   "cell_type": "code",
   "execution_count": 1,
   "id": "f159f837-637b-42ba-96b5-ec9a68c44524",
   "metadata": {
    "execution": {
     "iopub.execute_input": "2025-08-05T15:36:53.623662Z",
     "iopub.status.busy": "2025-08-05T15:36:53.623169Z",
     "iopub.status.idle": "2025-08-05T15:36:53.636202Z",
     "shell.execute_reply": "2025-08-05T15:36:53.635142Z"
    },
    "papermill": {
     "duration": 0.034712,
     "end_time": "2025-08-05T15:36:53.638007",
     "exception": false,
     "start_time": "2025-08-05T15:36:53.603295",
     "status": "completed"
    },
    "tags": []
   },
   "outputs": [
    {
     "name": "stdout",
     "output_type": "stream",
     "text": [
      "/dss/dsshome1/0C/ra93lal2/cma/CMA_Fairness_v2\n"
     ]
    },
    {
     "name": "stderr",
     "output_type": "stream",
     "text": [
      "/dss/dsshome1/0C/ra93lal2/.local/share/virtualenvs/CMA_Fairness_v2-3j10GkSs/lib/python3.10/site-packages/IPython/core/magics/osm.py:393: UserWarning: This is now an optional IPython functionality, using bookmarks requires you to install the `pickleshare` library.\n",
      "  bkms = self.shell.db.get('bookmarks', {})\n",
      "/dss/dsshome1/0C/ra93lal2/.local/share/virtualenvs/CMA_Fairness_v2-3j10GkSs/lib/python3.10/site-packages/IPython/core/magics/osm.py:417: UserWarning: This is now an optional IPython functionality, setting dhist requires you to install the `pickleshare` library.\n",
      "  self.shell.db['dhist'] = compress_dhist(dhist)[-100:]\n"
     ]
    }
   ],
   "source": [
    "%cd ~/cma/CMA_Fairness_v2"
   ]
  },
  {
   "cell_type": "markdown",
   "id": "de2603b9",
   "metadata": {
    "papermill": {
     "duration": 0.017865,
     "end_time": "2025-08-05T15:36:53.671245",
     "exception": false,
     "start_time": "2025-08-05T15:36:53.653380",
     "status": "completed"
    },
    "tags": []
   },
   "source": [
    "The following cell holds the definition of our parameters, these values can be overriden by rendering the with e.g. the following command:\n",
    "\n",
    "papermill -p alpha 0.2 -p ratio 0.3 universe_analysis.ipynb output/test_run.ipynb"
   ]
  },
  {
   "cell_type": "code",
   "execution_count": 2,
   "id": "a80968a0-40bb-4fa9-85ef-2d5eefb01975",
   "metadata": {
    "execution": {
     "iopub.execute_input": "2025-08-05T15:36:53.707473Z",
     "iopub.status.busy": "2025-08-05T15:36:53.707122Z",
     "iopub.status.idle": "2025-08-05T15:36:53.712652Z",
     "shell.execute_reply": "2025-08-05T15:36:53.711316Z"
    },
    "papermill": {
     "duration": 0.025306,
     "end_time": "2025-08-05T15:36:53.714570",
     "exception": false,
     "start_time": "2025-08-05T15:36:53.689264",
     "status": "completed"
    },
    "tags": []
   },
   "outputs": [
    {
     "name": "stdout",
     "output_type": "stream",
     "text": [
      "Current working directory: /dss/dsshome1/0C/ra93lal2/cma/CMA_Fairness_v2\n"
     ]
    }
   ],
   "source": [
    "import os\n",
    "print(\"Current working directory:\", os.getcwd())"
   ]
  },
  {
   "cell_type": "code",
   "execution_count": 3,
   "id": "2dce4c03",
   "metadata": {
    "execution": {
     "iopub.execute_input": "2025-08-05T15:36:53.754814Z",
     "iopub.status.busy": "2025-08-05T15:36:53.754363Z",
     "iopub.status.idle": "2025-08-05T15:36:53.760023Z",
     "shell.execute_reply": "2025-08-05T15:36:53.759122Z"
    },
    "papermill": {
     "duration": 0.027283,
     "end_time": "2025-08-05T15:36:53.761629",
     "exception": false,
     "start_time": "2025-08-05T15:36:53.734346",
     "status": "completed"
    },
    "tags": [
     "parameters"
    ]
   },
   "outputs": [],
   "source": [
    "run_no = 0\n",
    "universe_id = \"test\"\n",
    "universe = {\n",
    "    \"training_size\": \"25k\", # \"25k\", \"5k\", \"1k\"\n",
    "    \"training_year\": \"2014\", # \"2014\", \"2012_14\", \"2010_14\"\n",
    "    \"scale\": \"scale\", # \"scale\", \"do-not-scale\",\n",
    "    \"model\": \"elasticnet\", # \"logreg\", \"penalized_logreg\", \"rf\", \"gbm\", \"elasticnet\"\n",
    "    \"cutoff\": [\"quantile_0.15\", \"quantile_0.30\"],\n",
    "    \"exclude_features\": \"age\", # \"none\", \"nationality\", \"sex\", \"nationality-sex\", \"age\"\n",
    "    \"exclude_subgroups\": \"keep-all\", # \"keep-all\", \"drop-non-german\"\n",
    "    \"eval_fairness_grouping\": [\"majority-minority\", \"nationality-all\"]\n",
    "}\n",
    "\n",
    "output_dir=\"./output\"\n",
    "seed=0"
   ]
  },
  {
   "cell_type": "code",
   "execution_count": 4,
   "id": "96a54b31",
   "metadata": {
    "execution": {
     "iopub.execute_input": "2025-08-05T15:36:53.799719Z",
     "iopub.status.busy": "2025-08-05T15:36:53.799269Z",
     "iopub.status.idle": "2025-08-05T15:36:53.804529Z",
     "shell.execute_reply": "2025-08-05T15:36:53.803423Z"
    },
    "papermill": {
     "duration": 0.027617,
     "end_time": "2025-08-05T15:36:53.806577",
     "exception": false,
     "start_time": "2025-08-05T15:36:53.778960",
     "status": "completed"
    },
    "tags": [
     "injected-parameters"
    ]
   },
   "outputs": [],
   "source": [
    "# Parameters\n",
    "universe_id = \"85265727b818115f33f026287ad609cf\"\n",
    "run_no = \"15\"\n",
    "universe = \"{\\\"cutoff\\\": [\\\"quantile_0.1\\\", \\\"quantile_0.25\\\"], \\\"eval_fairness_grouping\\\": [\\\"majority-minority\\\", \\\"nationality-all\\\"], \\\"exclude_features\\\": \\\"sex\\\", \\\"exclude_subgroups\\\": \\\"keep-all\\\", \\\"model\\\": \\\"rf\\\", \\\"scale\\\": \\\"scale\\\", \\\"training_size\\\": \\\"5k\\\", \\\"training_year\\\": \\\"2012_14\\\"}\"\n",
    "output_dir = \"output\"\n",
    "seed = \"2023\"\n"
   ]
  },
  {
   "cell_type": "code",
   "execution_count": 5,
   "id": "1650acaf",
   "metadata": {
    "execution": {
     "iopub.execute_input": "2025-08-05T15:36:53.859248Z",
     "iopub.status.busy": "2025-08-05T15:36:53.858901Z",
     "iopub.status.idle": "2025-08-05T15:36:53.863149Z",
     "shell.execute_reply": "2025-08-05T15:36:53.862167Z"
    },
    "papermill": {
     "duration": 0.015341,
     "end_time": "2025-08-05T15:36:53.864926",
     "exception": false,
     "start_time": "2025-08-05T15:36:53.849585",
     "status": "completed"
    },
    "tags": []
   },
   "outputs": [],
   "source": [
    "import json\n",
    "if isinstance(universe, str):\n",
    "    universe = json.loads(universe)"
   ]
  },
  {
   "cell_type": "code",
   "execution_count": 6,
   "id": "16620c48",
   "metadata": {
    "execution": {
     "iopub.execute_input": "2025-08-05T15:36:53.903374Z",
     "iopub.status.busy": "2025-08-05T15:36:53.902967Z",
     "iopub.status.idle": "2025-08-05T15:36:53.946931Z",
     "shell.execute_reply": "2025-08-05T15:36:53.946195Z"
    },
    "papermill": {
     "duration": 0.064335,
     "end_time": "2025-08-05T15:36:53.948253",
     "exception": false,
     "start_time": "2025-08-05T15:36:53.883918",
     "status": "completed"
    },
    "tags": []
   },
   "outputs": [],
   "source": [
    "# Auto-reload the custom package\n",
    "%load_ext autoreload\n",
    "%autoreload 1\n",
    "%aimport fairness_multiverse"
   ]
  },
  {
   "cell_type": "code",
   "execution_count": 7,
   "id": "01c5c9f3",
   "metadata": {
    "execution": {
     "iopub.execute_input": "2025-08-05T15:36:53.966849Z",
     "iopub.status.busy": "2025-08-05T15:36:53.966342Z",
     "iopub.status.idle": "2025-08-05T15:36:55.793031Z",
     "shell.execute_reply": "2025-08-05T15:36:55.791872Z"
    },
    "papermill": {
     "duration": 1.838417,
     "end_time": "2025-08-05T15:36:55.795665",
     "exception": false,
     "start_time": "2025-08-05T15:36:53.957248",
     "status": "completed"
    },
    "tags": []
   },
   "outputs": [],
   "source": [
    "from fairness_multiverse.universe import UniverseAnalysis\n",
    "\n",
    "universe_analysis = UniverseAnalysis(\n",
    "    run_no = run_no,\n",
    "    universe_id = universe_id,\n",
    "    universe = universe,\n",
    "    output_dir=output_dir,\n",
    ")"
   ]
  },
  {
   "cell_type": "code",
   "execution_count": 8,
   "id": "106241f5",
   "metadata": {
    "execution": {
     "iopub.execute_input": "2025-08-05T15:36:55.832063Z",
     "iopub.status.busy": "2025-08-05T15:36:55.831221Z",
     "iopub.status.idle": "2025-08-05T15:36:55.838556Z",
     "shell.execute_reply": "2025-08-05T15:36:55.837506Z"
    },
    "papermill": {
     "duration": 0.025738,
     "end_time": "2025-08-05T15:36:55.840296",
     "exception": false,
     "start_time": "2025-08-05T15:36:55.814558",
     "status": "completed"
    },
    "tags": []
   },
   "outputs": [
    {
     "name": "stdout",
     "output_type": "stream",
     "text": [
      "Using Seed: 2023\n"
     ]
    }
   ],
   "source": [
    "import numpy as np\n",
    "parsed_seed = int(seed)\n",
    "np.random.seed(parsed_seed)\n",
    "print(f\"Using Seed: {parsed_seed}\")"
   ]
  },
  {
   "cell_type": "markdown",
   "id": "e0ebdc57",
   "metadata": {
    "papermill": {
     "duration": 0.015162,
     "end_time": "2025-08-05T15:36:55.871688",
     "exception": false,
     "start_time": "2025-08-05T15:36:55.856526",
     "status": "completed"
    },
    "tags": []
   },
   "source": [
    "# Loading Data"
   ]
  },
  {
   "cell_type": "code",
   "execution_count": 9,
   "id": "f0496b8a",
   "metadata": {
    "execution": {
     "iopub.execute_input": "2025-08-05T15:36:55.905463Z",
     "iopub.status.busy": "2025-08-05T15:36:55.904624Z",
     "iopub.status.idle": "2025-08-05T15:37:07.255058Z",
     "shell.execute_reply": "2025-08-05T15:37:07.254219Z"
    },
    "papermill": {
     "duration": 11.368745,
     "end_time": "2025-08-05T15:37:07.256406",
     "exception": false,
     "start_time": "2025-08-05T15:36:55.887661",
     "status": "completed"
    },
    "tags": []
   },
   "outputs": [
    {
     "name": "stdout",
     "output_type": "stream",
     "text": [
      "Loading SIAB data from cache: data/siab_cached.csv.gz\n"
     ]
    },
    {
     "name": "stdout",
     "output_type": "stream",
     "text": [
      "(643690, 164)\n"
     ]
    }
   ],
   "source": [
    "from pathlib import Path\n",
    "import pandas as pd\n",
    "\n",
    "# File paths\n",
    "raw_file = Path(\"data/raw/siab.csv\")\n",
    "cache_file = Path(\"data/siab_cached.csv.gz\")\n",
    "\n",
    "# Ensure cache directory exists\n",
    "cache_file.parent.mkdir(parents=True, exist_ok=True)\n",
    "\n",
    "# Load with simple caching\n",
    "if cache_file.exists():\n",
    "    print(f\"Loading SIAB data from cache: {cache_file}\")\n",
    "    siab = pd.read_csv(cache_file, compression='gzip')\n",
    "else:\n",
    "    print(f\"Cache not found. Reading raw SIAB data: {raw_file}\")\n",
    "    siab = pd.read_csv(raw_file)\n",
    "    siab.to_csv(cache_file, index=False, compression='gzip')\n",
    "    print(f\"Cached SIAB data to: {cache_file}\")\n",
    "\n",
    "print(siab.shape)"
   ]
  },
  {
   "cell_type": "code",
   "execution_count": 10,
   "id": "db0ca512-5f53-4dba-abdb-a2888bca41ba",
   "metadata": {
    "execution": {
     "iopub.execute_input": "2025-08-05T15:37:07.278490Z",
     "iopub.status.busy": "2025-08-05T15:37:07.277971Z",
     "iopub.status.idle": "2025-08-05T15:37:07.282311Z",
     "shell.execute_reply": "2025-08-05T15:37:07.281443Z"
    },
    "papermill": {
     "duration": 0.015467,
     "end_time": "2025-08-05T15:37:07.283632",
     "exception": false,
     "start_time": "2025-08-05T15:37:07.268165",
     "status": "completed"
    },
    "tags": []
   },
   "outputs": [],
   "source": [
    "#siab"
   ]
  },
  {
   "cell_type": "markdown",
   "id": "997051c5-15bd-4b69-9786-c3001a3ce484",
   "metadata": {
    "papermill": {
     "duration": 0.008746,
     "end_time": "2025-08-05T15:37:07.301853",
     "exception": false,
     "start_time": "2025-08-05T15:37:07.293107",
     "status": "completed"
    },
    "tags": []
   },
   "source": [
    "# Splitting Data and Setting Training Data Size"
   ]
  },
  {
   "cell_type": "code",
   "execution_count": 11,
   "id": "aea9c6ef-6f46-42c8-85eb-5a62025c1508",
   "metadata": {
    "execution": {
     "iopub.execute_input": "2025-08-05T15:37:07.320885Z",
     "iopub.status.busy": "2025-08-05T15:37:07.320116Z",
     "iopub.status.idle": "2025-08-05T15:37:07.842514Z",
     "shell.execute_reply": "2025-08-05T15:37:07.841778Z"
    },
    "papermill": {
     "duration": 0.533468,
     "end_time": "2025-08-05T15:37:07.843985",
     "exception": false,
     "start_time": "2025-08-05T15:37:07.310517",
     "status": "completed"
    },
    "tags": []
   },
   "outputs": [],
   "source": [
    "from fairness_multiverse.universe import sample_by_year_size\n",
    "\n",
    "siab_train = sample_by_year_size(siab,\n",
    "                               training_year=universe[\"training_year\"],\n",
    "                               training_size=universe[\"training_size\"])"
   ]
  },
  {
   "cell_type": "code",
   "execution_count": 12,
   "id": "8d3afb32-789d-442c-8d5d-9f5aa8dd2eed",
   "metadata": {
    "execution": {
     "iopub.execute_input": "2025-08-05T15:37:07.863402Z",
     "iopub.status.busy": "2025-08-05T15:37:07.862915Z",
     "iopub.status.idle": "2025-08-05T15:37:07.867028Z",
     "shell.execute_reply": "2025-08-05T15:37:07.866349Z"
    },
    "papermill": {
     "duration": 0.015079,
     "end_time": "2025-08-05T15:37:07.868584",
     "exception": false,
     "start_time": "2025-08-05T15:37:07.853505",
     "status": "completed"
    },
    "tags": []
   },
   "outputs": [],
   "source": [
    "#siab_train.shape"
   ]
  },
  {
   "cell_type": "code",
   "execution_count": 13,
   "id": "d582db68-1a4c-47fb-84fc-08518dc1975a",
   "metadata": {
    "execution": {
     "iopub.execute_input": "2025-08-05T15:37:07.887908Z",
     "iopub.status.busy": "2025-08-05T15:37:07.887433Z",
     "iopub.status.idle": "2025-08-05T15:37:07.892081Z",
     "shell.execute_reply": "2025-08-05T15:37:07.891267Z"
    },
    "papermill": {
     "duration": 0.015736,
     "end_time": "2025-08-05T15:37:07.893666",
     "exception": false,
     "start_time": "2025-08-05T15:37:07.877930",
     "status": "completed"
    },
    "tags": []
   },
   "outputs": [],
   "source": [
    "#display(siab_train.groupby(\"year\").size())"
   ]
  },
  {
   "cell_type": "code",
   "execution_count": 14,
   "id": "a561edb4-d032-42cb-8256-22eac1111c64",
   "metadata": {
    "execution": {
     "iopub.execute_input": "2025-08-05T15:37:07.912798Z",
     "iopub.status.busy": "2025-08-05T15:37:07.912303Z",
     "iopub.status.idle": "2025-08-05T15:37:08.103940Z",
     "shell.execute_reply": "2025-08-05T15:37:08.103177Z"
    },
    "papermill": {
     "duration": 0.202419,
     "end_time": "2025-08-05T15:37:08.105367",
     "exception": false,
     "start_time": "2025-08-05T15:37:07.902948",
     "status": "completed"
    },
    "tags": []
   },
   "outputs": [],
   "source": [
    "#siab_train = siab_s[siab_s.year < 2015]\n",
    "siab_calib = siab[siab.year == 2015]\n",
    "siab_test = siab[siab.year == 2016]"
   ]
  },
  {
   "cell_type": "code",
   "execution_count": 15,
   "id": "472de16f-c3db-4916-846b-1f0de9cf1746",
   "metadata": {
    "execution": {
     "iopub.execute_input": "2025-08-05T15:37:08.124524Z",
     "iopub.status.busy": "2025-08-05T15:37:08.124245Z",
     "iopub.status.idle": "2025-08-05T15:37:08.130689Z",
     "shell.execute_reply": "2025-08-05T15:37:08.129848Z"
    },
    "papermill": {
     "duration": 0.017676,
     "end_time": "2025-08-05T15:37:08.132440",
     "exception": false,
     "start_time": "2025-08-05T15:37:08.114764",
     "status": "completed"
    },
    "tags": []
   },
   "outputs": [],
   "source": [
    "X_train = siab_train.iloc[:,4:164]\n",
    "y_train = siab_train.iloc[:, [3]]"
   ]
  },
  {
   "cell_type": "code",
   "execution_count": 16,
   "id": "828c96af-f43a-4ed6-ba47-8ac73a47d56c",
   "metadata": {
    "execution": {
     "iopub.execute_input": "2025-08-05T15:37:08.163570Z",
     "iopub.status.busy": "2025-08-05T15:37:08.163151Z",
     "iopub.status.idle": "2025-08-05T15:37:08.213127Z",
     "shell.execute_reply": "2025-08-05T15:37:08.211974Z"
    },
    "papermill": {
     "duration": 0.071815,
     "end_time": "2025-08-05T15:37:08.215053",
     "exception": false,
     "start_time": "2025-08-05T15:37:08.143238",
     "status": "completed"
    },
    "tags": []
   },
   "outputs": [],
   "source": [
    "X_calib = siab_calib.iloc[:,4:164]\n",
    "y_calib = siab_calib.iloc[:, [3]]"
   ]
  },
  {
   "cell_type": "code",
   "execution_count": 17,
   "id": "c34be9c3-6bd6-476e-acd3-845840e303be",
   "metadata": {
    "execution": {
     "iopub.execute_input": "2025-08-05T15:37:08.254276Z",
     "iopub.status.busy": "2025-08-05T15:37:08.253548Z",
     "iopub.status.idle": "2025-08-05T15:37:08.309435Z",
     "shell.execute_reply": "2025-08-05T15:37:08.308202Z"
    },
    "papermill": {
     "duration": 0.077631,
     "end_time": "2025-08-05T15:37:08.311957",
     "exception": false,
     "start_time": "2025-08-05T15:37:08.234326",
     "status": "completed"
    },
    "tags": []
   },
   "outputs": [],
   "source": [
    "X_test = siab_test.iloc[:,4:164]\n",
    "y_true = siab_test.iloc[:, [3]]"
   ]
  },
  {
   "cell_type": "code",
   "execution_count": 18,
   "id": "e6c733c5",
   "metadata": {
    "execution": {
     "iopub.execute_input": "2025-08-05T15:37:08.352124Z",
     "iopub.status.busy": "2025-08-05T15:37:08.351637Z",
     "iopub.status.idle": "2025-08-05T15:37:08.453560Z",
     "shell.execute_reply": "2025-08-05T15:37:08.452601Z"
    },
    "papermill": {
     "duration": 0.122983,
     "end_time": "2025-08-05T15:37:08.455534",
     "exception": false,
     "start_time": "2025-08-05T15:37:08.332551",
     "status": "completed"
    },
    "tags": []
   },
   "outputs": [],
   "source": [
    "# Auxiliary data needed downstream in the pipeline\n",
    "\n",
    "org_train = X_train.copy()\n",
    "org_test = X_test.copy()\n",
    "org_calib = X_calib.copy()"
   ]
  },
  {
   "cell_type": "markdown",
   "id": "0a4a1b33",
   "metadata": {
    "papermill": {
     "duration": 0.018662,
     "end_time": "2025-08-05T15:37:08.492329",
     "exception": false,
     "start_time": "2025-08-05T15:37:08.473667",
     "status": "completed"
    },
    "tags": []
   },
   "source": [
    "# Preprocessing Data"
   ]
  },
  {
   "cell_type": "code",
   "execution_count": 19,
   "id": "ca879031",
   "metadata": {
    "execution": {
     "iopub.execute_input": "2025-08-05T15:37:08.530125Z",
     "iopub.status.busy": "2025-08-05T15:37:08.529179Z",
     "iopub.status.idle": "2025-08-05T15:37:08.535465Z",
     "shell.execute_reply": "2025-08-05T15:37:08.534502Z"
    },
    "papermill": {
     "duration": 0.027483,
     "end_time": "2025-08-05T15:37:08.537429",
     "exception": false,
     "start_time": "2025-08-05T15:37:08.509946",
     "status": "completed"
    },
    "tags": []
   },
   "outputs": [],
   "source": [
    "# EXCLUDE PROTECTED FEATURES\n",
    "# ----------------------\n",
    "# \"exclude_features\": \"none\", # \"nationality\", \"sex\", \"nationality-sex\"\n",
    "\n",
    "excluded_features = universe[\"exclude_features\"].split(\"-\") # split, e.g.: \"nationality-sex\" -> [\"nationality\", \"sex\"]\n",
    "excluded_features_dictionary = {\n",
    "    \"nationality\": [\"maxdeutsch1\", \"maxdeutsch.Missing.\"],\n",
    "    \"sex\": [\"frau1\"],\n",
    "    \"age\": [\"age\"],\n",
    "}"
   ]
  },
  {
   "cell_type": "code",
   "execution_count": 20,
   "id": "b745ac60",
   "metadata": {
    "execution": {
     "iopub.execute_input": "2025-08-05T15:37:08.575732Z",
     "iopub.status.busy": "2025-08-05T15:37:08.575124Z",
     "iopub.status.idle": "2025-08-05T15:37:08.580859Z",
     "shell.execute_reply": "2025-08-05T15:37:08.579783Z"
    },
    "papermill": {
     "duration": 0.026963,
     "end_time": "2025-08-05T15:37:08.582822",
     "exception": false,
     "start_time": "2025-08-05T15:37:08.555859",
     "status": "completed"
    },
    "tags": []
   },
   "outputs": [],
   "source": [
    "# Code nice names to column names\n",
    "\n",
    "excluded_features_columns = [\n",
    "    excluded_features_dictionary[f] for f in excluded_features if len(f) > 0 and f != \"none\"\n",
    "]"
   ]
  },
  {
   "cell_type": "code",
   "execution_count": 21,
   "id": "f84f73a2",
   "metadata": {
    "execution": {
     "iopub.execute_input": "2025-08-05T15:37:08.621351Z",
     "iopub.status.busy": "2025-08-05T15:37:08.620602Z",
     "iopub.status.idle": "2025-08-05T15:37:08.627265Z",
     "shell.execute_reply": "2025-08-05T15:37:08.626309Z"
    },
    "papermill": {
     "duration": 0.027499,
     "end_time": "2025-08-05T15:37:08.628972",
     "exception": false,
     "start_time": "2025-08-05T15:37:08.601473",
     "status": "completed"
    },
    "tags": []
   },
   "outputs": [],
   "source": [
    "from utils import flatten_once\n",
    "\n",
    "excluded_features_columns = flatten_once(excluded_features_columns)"
   ]
  },
  {
   "cell_type": "code",
   "execution_count": 22,
   "id": "884dea22",
   "metadata": {
    "execution": {
     "iopub.execute_input": "2025-08-05T15:37:08.670730Z",
     "iopub.status.busy": "2025-08-05T15:37:08.669973Z",
     "iopub.status.idle": "2025-08-05T15:37:08.682252Z",
     "shell.execute_reply": "2025-08-05T15:37:08.681043Z"
    },
    "papermill": {
     "duration": 0.036001,
     "end_time": "2025-08-05T15:37:08.683985",
     "exception": false,
     "start_time": "2025-08-05T15:37:08.647984",
     "status": "completed"
    },
    "tags": []
   },
   "outputs": [
    {
     "name": "stdout",
     "output_type": "stream",
     "text": [
      "Dropping features: ['frau1']\n"
     ]
    }
   ],
   "source": [
    "if len(excluded_features_columns) > 0:\n",
    "    print(f\"Dropping features: {excluded_features_columns}\")\n",
    "    X_train.drop(excluded_features_columns, axis=1, inplace=True)"
   ]
  },
  {
   "cell_type": "code",
   "execution_count": 23,
   "id": "95ab8b16",
   "metadata": {
    "execution": {
     "iopub.execute_input": "2025-08-05T15:37:08.720673Z",
     "iopub.status.busy": "2025-08-05T15:37:08.720225Z",
     "iopub.status.idle": "2025-08-05T15:37:08.774394Z",
     "shell.execute_reply": "2025-08-05T15:37:08.773294Z"
    },
    "papermill": {
     "duration": 0.074387,
     "end_time": "2025-08-05T15:37:08.776500",
     "exception": false,
     "start_time": "2025-08-05T15:37:08.702113",
     "status": "completed"
    },
    "tags": []
   },
   "outputs": [
    {
     "name": "stdout",
     "output_type": "stream",
     "text": [
      "Dropping features: ['frau1']\n"
     ]
    }
   ],
   "source": [
    "if len(excluded_features_columns) > 0:\n",
    "    print(f\"Dropping features: {excluded_features_columns}\")\n",
    "    X_test.drop(excluded_features_columns, axis=1, inplace=True)"
   ]
  },
  {
   "cell_type": "code",
   "execution_count": 24,
   "id": "1853aaf5-fb9f-46cb-a2b5-8ea4ae2237e4",
   "metadata": {
    "execution": {
     "iopub.execute_input": "2025-08-05T15:37:08.815503Z",
     "iopub.status.busy": "2025-08-05T15:37:08.815039Z",
     "iopub.status.idle": "2025-08-05T15:37:08.868231Z",
     "shell.execute_reply": "2025-08-05T15:37:08.867019Z"
    },
    "papermill": {
     "duration": 0.074415,
     "end_time": "2025-08-05T15:37:08.870203",
     "exception": false,
     "start_time": "2025-08-05T15:37:08.795788",
     "status": "completed"
    },
    "tags": []
   },
   "outputs": [
    {
     "name": "stdout",
     "output_type": "stream",
     "text": [
      "Dropping features: ['frau1']\n"
     ]
    }
   ],
   "source": [
    "if len(excluded_features_columns) > 0:\n",
    "    print(f\"Dropping features: {excluded_features_columns}\")\n",
    "    X_calib.drop(excluded_features_columns, axis=1, inplace=True)"
   ]
  },
  {
   "cell_type": "code",
   "execution_count": 25,
   "id": "76c4dc6d",
   "metadata": {
    "execution": {
     "iopub.execute_input": "2025-08-05T15:37:08.910563Z",
     "iopub.status.busy": "2025-08-05T15:37:08.909792Z",
     "iopub.status.idle": "2025-08-05T15:37:08.915367Z",
     "shell.execute_reply": "2025-08-05T15:37:08.914395Z"
    },
    "papermill": {
     "duration": 0.027764,
     "end_time": "2025-08-05T15:37:08.917303",
     "exception": false,
     "start_time": "2025-08-05T15:37:08.889539",
     "status": "completed"
    },
    "tags": []
   },
   "outputs": [],
   "source": [
    "# EXCLUDE CERTAIN SUBGROUPS\n",
    "# ----------------------\n",
    "\n",
    "mode = universe.get(\"exclude_subgroups\", \"keep-all\") \n",
    "# Fetches the exclude_subgroups setting from the universe dict.\n",
    "# Defaults to \"keep-all\" if the key is missing."
   ]
  },
  {
   "cell_type": "code",
   "execution_count": 26,
   "id": "21994072",
   "metadata": {
    "execution": {
     "iopub.execute_input": "2025-08-05T15:37:08.955985Z",
     "iopub.status.busy": "2025-08-05T15:37:08.955263Z",
     "iopub.status.idle": "2025-08-05T15:37:08.963071Z",
     "shell.execute_reply": "2025-08-05T15:37:08.961849Z"
    },
    "papermill": {
     "duration": 0.029877,
     "end_time": "2025-08-05T15:37:08.964934",
     "exception": false,
     "start_time": "2025-08-05T15:37:08.935057",
     "status": "completed"
    },
    "tags": []
   },
   "outputs": [],
   "source": [
    "if mode == \"keep-all\":\n",
    "    keep_mask = pd.Series(True, index=org_train.index)\n",
    "\n",
    "# org_train contains the original feature columns from features_org (in Simson)\n",
    "# features_org contains unprocessed features, for me X_train at beginning ???\n",
    "# For keep-all, creates a boolean Series (keep_mask) of all True, so no rows are removed.\n",
    "\n",
    "elif mode == \"drop-non-german\":\n",
    "    keep_mask = org_train[\"maxdeutsch1\"] == 1 # ??? what about missing values?\n",
    "\n",
    "else:\n",
    "    raise ValueError(f\"Unsupported mode for exclude_subgroups: {mode}\")"
   ]
  },
  {
   "cell_type": "code",
   "execution_count": 27,
   "id": "71651440",
   "metadata": {
    "execution": {
     "iopub.execute_input": "2025-08-05T15:37:09.003089Z",
     "iopub.status.busy": "2025-08-05T15:37:09.002331Z",
     "iopub.status.idle": "2025-08-05T15:37:09.009192Z",
     "shell.execute_reply": "2025-08-05T15:37:09.008006Z"
    },
    "papermill": {
     "duration": 0.027287,
     "end_time": "2025-08-05T15:37:09.011032",
     "exception": false,
     "start_time": "2025-08-05T15:37:08.983745",
     "status": "completed"
    },
    "tags": []
   },
   "outputs": [],
   "source": [
    "n_drop = (~keep_mask).sum() # Calculates how many rows are set to be dropped\n",
    "if n_drop > 0:\n",
    "    pct = n_drop / len(keep_mask) * 100\n",
    "    print(f\"Dropping {n_drop} rows ({pct:.2f}%) where mode='{mode}'\")"
   ]
  },
  {
   "cell_type": "code",
   "execution_count": 28,
   "id": "5fb8eee5",
   "metadata": {
    "execution": {
     "iopub.execute_input": "2025-08-05T15:37:09.051037Z",
     "iopub.status.busy": "2025-08-05T15:37:09.050164Z",
     "iopub.status.idle": "2025-08-05T15:37:09.060071Z",
     "shell.execute_reply": "2025-08-05T15:37:09.058923Z"
    },
    "papermill": {
     "duration": 0.031789,
     "end_time": "2025-08-05T15:37:09.062108",
     "exception": false,
     "start_time": "2025-08-05T15:37:09.030319",
     "status": "completed"
    },
    "tags": []
   },
   "outputs": [],
   "source": [
    "X_train = X_train[keep_mask]"
   ]
  },
  {
   "cell_type": "code",
   "execution_count": 29,
   "id": "b202bb3a",
   "metadata": {
    "execution": {
     "iopub.execute_input": "2025-08-05T15:37:09.103418Z",
     "iopub.status.busy": "2025-08-05T15:37:09.102502Z",
     "iopub.status.idle": "2025-08-05T15:37:09.108931Z",
     "shell.execute_reply": "2025-08-05T15:37:09.107716Z"
    },
    "papermill": {
     "duration": 0.029051,
     "end_time": "2025-08-05T15:37:09.110825",
     "exception": false,
     "start_time": "2025-08-05T15:37:09.081774",
     "status": "completed"
    },
    "tags": []
   },
   "outputs": [],
   "source": [
    "y_train = y_train[keep_mask]"
   ]
  },
  {
   "cell_type": "markdown",
   "id": "493e2ac3",
   "metadata": {
    "papermill": {
     "duration": 0.023456,
     "end_time": "2025-08-05T15:37:09.154458",
     "exception": false,
     "start_time": "2025-08-05T15:37:09.131002",
     "status": "completed"
    },
    "tags": []
   },
   "source": [
    "# Model Training"
   ]
  },
  {
   "cell_type": "code",
   "execution_count": 30,
   "id": "679e1268",
   "metadata": {
    "execution": {
     "iopub.execute_input": "2025-08-05T15:37:09.203143Z",
     "iopub.status.busy": "2025-08-05T15:37:09.202477Z",
     "iopub.status.idle": "2025-08-05T15:37:09.304167Z",
     "shell.execute_reply": "2025-08-05T15:37:09.303138Z"
    },
    "papermill": {
     "duration": 0.128467,
     "end_time": "2025-08-05T15:37:09.306354",
     "exception": false,
     "start_time": "2025-08-05T15:37:09.177887",
     "status": "completed"
    },
    "tags": []
   },
   "outputs": [],
   "source": [
    "from sklearn.linear_model import LogisticRegression\n",
    "from sklearn.ensemble import GradientBoostingClassifier, RandomForestClassifier\n",
    "\n",
    "if (universe[\"model\"] == \"logreg\"):\n",
    "    model = LogisticRegression() #penalty=\"none\", solver=\"newton-cg\", max_iter=1) # include random_state=19 ?\n",
    "elif (universe[\"model\"] == \"penalized_logreg\"):\n",
    "    model = LogisticRegression(penalty=\"l2\", C=0.1) #, solver=\"newton-cg\", max_iter=1)\n",
    "elif (universe[\"model\"] == \"rf\"):\n",
    "    model = RandomForestClassifier() # n_estimators=100, n_jobs=-1\n",
    "elif (universe[\"model\"] == \"gbm\"):\n",
    "    model = GradientBoostingClassifier()\n",
    "elif (universe[\"model\"] == \"elasticnet\"):\n",
    "    model = LogisticRegression(penalty = 'elasticnet', solver = 'saga', l1_ratio = 0.5) # max_iter=5000\n",
    "else:\n",
    "    raise \"Unsupported universe.model\""
   ]
  },
  {
   "cell_type": "code",
   "execution_count": 31,
   "id": "0cc8f744",
   "metadata": {
    "execution": {
     "iopub.execute_input": "2025-08-05T15:37:09.351556Z",
     "iopub.status.busy": "2025-08-05T15:37:09.350663Z",
     "iopub.status.idle": "2025-08-05T15:37:09.357233Z",
     "shell.execute_reply": "2025-08-05T15:37:09.356237Z"
    },
    "papermill": {
     "duration": 0.030759,
     "end_time": "2025-08-05T15:37:09.359124",
     "exception": false,
     "start_time": "2025-08-05T15:37:09.328365",
     "status": "completed"
    },
    "tags": []
   },
   "outputs": [],
   "source": [
    "import numpy as np\n",
    "from sklearn.pipeline import Pipeline\n",
    "from sklearn.preprocessing import StandardScaler\n",
    "\n",
    "model = Pipeline([\n",
    "    #(\"continuous_processor\", continuous_processor),\n",
    "    #(\"categorical_preprocessor\", categorical_preprocessor),\n",
    "    (\"scale\", StandardScaler() if universe[\"scale\"] == \"scale\" else None), \n",
    "    (\"model\", model),\n",
    "])"
   ]
  },
  {
   "cell_type": "code",
   "execution_count": 32,
   "id": "9442c04d",
   "metadata": {
    "execution": {
     "iopub.execute_input": "2025-08-05T15:37:09.398134Z",
     "iopub.status.busy": "2025-08-05T15:37:09.397364Z",
     "iopub.status.idle": "2025-08-05T15:37:10.960779Z",
     "shell.execute_reply": "2025-08-05T15:37:10.959804Z"
    },
    "papermill": {
     "duration": 1.584215,
     "end_time": "2025-08-05T15:37:10.962725",
     "exception": false,
     "start_time": "2025-08-05T15:37:09.378510",
     "status": "completed"
    },
    "tags": []
   },
   "outputs": [
    {
     "data": {
      "text/html": [
       "<style>#sk-container-id-1 {color: black;background-color: white;}#sk-container-id-1 pre{padding: 0;}#sk-container-id-1 div.sk-toggleable {background-color: white;}#sk-container-id-1 label.sk-toggleable__label {cursor: pointer;display: block;width: 100%;margin-bottom: 0;padding: 0.3em;box-sizing: border-box;text-align: center;}#sk-container-id-1 label.sk-toggleable__label-arrow:before {content: \"▸\";float: left;margin-right: 0.25em;color: #696969;}#sk-container-id-1 label.sk-toggleable__label-arrow:hover:before {color: black;}#sk-container-id-1 div.sk-estimator:hover label.sk-toggleable__label-arrow:before {color: black;}#sk-container-id-1 div.sk-toggleable__content {max-height: 0;max-width: 0;overflow: hidden;text-align: left;background-color: #f0f8ff;}#sk-container-id-1 div.sk-toggleable__content pre {margin: 0.2em;color: black;border-radius: 0.25em;background-color: #f0f8ff;}#sk-container-id-1 input.sk-toggleable__control:checked~div.sk-toggleable__content {max-height: 200px;max-width: 100%;overflow: auto;}#sk-container-id-1 input.sk-toggleable__control:checked~label.sk-toggleable__label-arrow:before {content: \"▾\";}#sk-container-id-1 div.sk-estimator input.sk-toggleable__control:checked~label.sk-toggleable__label {background-color: #d4ebff;}#sk-container-id-1 div.sk-label input.sk-toggleable__control:checked~label.sk-toggleable__label {background-color: #d4ebff;}#sk-container-id-1 input.sk-hidden--visually {border: 0;clip: rect(1px 1px 1px 1px);clip: rect(1px, 1px, 1px, 1px);height: 1px;margin: -1px;overflow: hidden;padding: 0;position: absolute;width: 1px;}#sk-container-id-1 div.sk-estimator {font-family: monospace;background-color: #f0f8ff;border: 1px dotted black;border-radius: 0.25em;box-sizing: border-box;margin-bottom: 0.5em;}#sk-container-id-1 div.sk-estimator:hover {background-color: #d4ebff;}#sk-container-id-1 div.sk-parallel-item::after {content: \"\";width: 100%;border-bottom: 1px solid gray;flex-grow: 1;}#sk-container-id-1 div.sk-label:hover label.sk-toggleable__label {background-color: #d4ebff;}#sk-container-id-1 div.sk-serial::before {content: \"\";position: absolute;border-left: 1px solid gray;box-sizing: border-box;top: 0;bottom: 0;left: 50%;z-index: 0;}#sk-container-id-1 div.sk-serial {display: flex;flex-direction: column;align-items: center;background-color: white;padding-right: 0.2em;padding-left: 0.2em;position: relative;}#sk-container-id-1 div.sk-item {position: relative;z-index: 1;}#sk-container-id-1 div.sk-parallel {display: flex;align-items: stretch;justify-content: center;background-color: white;position: relative;}#sk-container-id-1 div.sk-item::before, #sk-container-id-1 div.sk-parallel-item::before {content: \"\";position: absolute;border-left: 1px solid gray;box-sizing: border-box;top: 0;bottom: 0;left: 50%;z-index: -1;}#sk-container-id-1 div.sk-parallel-item {display: flex;flex-direction: column;z-index: 1;position: relative;background-color: white;}#sk-container-id-1 div.sk-parallel-item:first-child::after {align-self: flex-end;width: 50%;}#sk-container-id-1 div.sk-parallel-item:last-child::after {align-self: flex-start;width: 50%;}#sk-container-id-1 div.sk-parallel-item:only-child::after {width: 0;}#sk-container-id-1 div.sk-dashed-wrapped {border: 1px dashed gray;margin: 0 0.4em 0.5em 0.4em;box-sizing: border-box;padding-bottom: 0.4em;background-color: white;}#sk-container-id-1 div.sk-label label {font-family: monospace;font-weight: bold;display: inline-block;line-height: 1.2em;}#sk-container-id-1 div.sk-label-container {text-align: center;}#sk-container-id-1 div.sk-container {/* jupyter's `normalize.less` sets `[hidden] { display: none; }` but bootstrap.min.css set `[hidden] { display: none !important; }` so we also need the `!important` here to be able to override the default hidden behavior on the sphinx rendered scikit-learn.org. See: https://github.com/scikit-learn/scikit-learn/issues/21755 */display: inline-block !important;position: relative;}#sk-container-id-1 div.sk-text-repr-fallback {display: none;}</style><div id=\"sk-container-id-1\" class=\"sk-top-container\"><div class=\"sk-text-repr-fallback\"><pre>Pipeline(steps=[(&#x27;scale&#x27;, StandardScaler()),\n",
       "                (&#x27;model&#x27;, RandomForestClassifier())])</pre><b>In a Jupyter environment, please rerun this cell to show the HTML representation or trust the notebook. <br />On GitHub, the HTML representation is unable to render, please try loading this page with nbviewer.org.</b></div><div class=\"sk-container\" hidden><div class=\"sk-item sk-dashed-wrapped\"><div class=\"sk-label-container\"><div class=\"sk-label sk-toggleable\"><input class=\"sk-toggleable__control sk-hidden--visually\" id=\"sk-estimator-id-1\" type=\"checkbox\" ><label for=\"sk-estimator-id-1\" class=\"sk-toggleable__label sk-toggleable__label-arrow\">Pipeline</label><div class=\"sk-toggleable__content\"><pre>Pipeline(steps=[(&#x27;scale&#x27;, StandardScaler()),\n",
       "                (&#x27;model&#x27;, RandomForestClassifier())])</pre></div></div></div><div class=\"sk-serial\"><div class=\"sk-item\"><div class=\"sk-estimator sk-toggleable\"><input class=\"sk-toggleable__control sk-hidden--visually\" id=\"sk-estimator-id-2\" type=\"checkbox\" ><label for=\"sk-estimator-id-2\" class=\"sk-toggleable__label sk-toggleable__label-arrow\">StandardScaler</label><div class=\"sk-toggleable__content\"><pre>StandardScaler()</pre></div></div></div><div class=\"sk-item\"><div class=\"sk-estimator sk-toggleable\"><input class=\"sk-toggleable__control sk-hidden--visually\" id=\"sk-estimator-id-3\" type=\"checkbox\" ><label for=\"sk-estimator-id-3\" class=\"sk-toggleable__label sk-toggleable__label-arrow\">RandomForestClassifier</label><div class=\"sk-toggleable__content\"><pre>RandomForestClassifier()</pre></div></div></div></div></div></div></div>"
      ],
      "text/plain": [
       "Pipeline(steps=[('scale', StandardScaler()),\n",
       "                ('model', RandomForestClassifier())])"
      ]
     },
     "execution_count": 32,
     "metadata": {},
     "output_type": "execute_result"
    }
   ],
   "source": [
    "model.fit(X_train, y_train.values.ravel())"
   ]
  },
  {
   "cell_type": "code",
   "execution_count": 33,
   "id": "af59f8c0",
   "metadata": {
    "execution": {
     "iopub.execute_input": "2025-08-05T15:37:11.005545Z",
     "iopub.status.busy": "2025-08-05T15:37:11.005146Z",
     "iopub.status.idle": "2025-08-05T15:37:11.010496Z",
     "shell.execute_reply": "2025-08-05T15:37:11.009494Z"
    },
    "papermill": {
     "duration": 0.028089,
     "end_time": "2025-08-05T15:37:11.012519",
     "exception": false,
     "start_time": "2025-08-05T15:37:10.984430",
     "status": "completed"
    },
    "tags": []
   },
   "outputs": [],
   "source": [
    "from fairness_multiverse.universe import predict_w_threshold"
   ]
  },
  {
   "cell_type": "code",
   "execution_count": 34,
   "id": "a7cf2e16",
   "metadata": {
    "execution": {
     "iopub.execute_input": "2025-08-05T15:37:11.051880Z",
     "iopub.status.busy": "2025-08-05T15:37:11.051113Z",
     "iopub.status.idle": "2025-08-05T15:37:13.461698Z",
     "shell.execute_reply": "2025-08-05T15:37:13.460748Z"
    },
    "papermill": {
     "duration": 2.43212,
     "end_time": "2025-08-05T15:37:13.463461",
     "exception": false,
     "start_time": "2025-08-05T15:37:11.031341",
     "status": "completed"
    },
    "tags": []
   },
   "outputs": [
    {
     "data": {
      "text/plain": [
       "0.8662802363170216"
      ]
     },
     "execution_count": 34,
     "metadata": {},
     "output_type": "execute_result"
    }
   ],
   "source": [
    "probs_test = model.predict_proba(X_test)\n",
    "\n",
    "'''\n",
    "Below code returns a boolean array (or binary 0/1 array depending on how it’s used) where each element \n",
    "is True if the probability of class 1 is greater than or equal to the threshold, and False otherwise.\n",
    "'''\n",
    "y_pred_default = predict_w_threshold(probs_test, 0.5)\n",
    "\n",
    "from sklearn.metrics import accuracy_score\n",
    "\n",
    "# Naive prediction\n",
    "accuracy_score(y_true = y_true, y_pred = y_pred_default)"
   ]
  },
  {
   "cell_type": "code",
   "execution_count": 35,
   "id": "081964c3",
   "metadata": {
    "execution": {
     "iopub.execute_input": "2025-08-05T15:37:13.503775Z",
     "iopub.status.busy": "2025-08-05T15:37:13.503294Z",
     "iopub.status.idle": "2025-08-05T15:37:15.989344Z",
     "shell.execute_reply": "2025-08-05T15:37:15.988373Z"
    },
    "papermill": {
     "duration": 2.508254,
     "end_time": "2025-08-05T15:37:15.991252",
     "exception": false,
     "start_time": "2025-08-05T15:37:13.482998",
     "status": "completed"
    },
    "tags": []
   },
   "outputs": [
    {
     "data": {
      "text/plain": [
       "array([0, 0, 0, ..., 0, 0, 0])"
      ]
     },
     "execution_count": 35,
     "metadata": {},
     "output_type": "execute_result"
    }
   ],
   "source": [
    "model.predict(X_test)"
   ]
  },
  {
   "cell_type": "markdown",
   "id": "56c9705b",
   "metadata": {
    "papermill": {
     "duration": 0.024088,
     "end_time": "2025-08-05T15:37:16.041891",
     "exception": false,
     "start_time": "2025-08-05T15:37:16.017803",
     "status": "completed"
    },
    "tags": []
   },
   "source": [
    "# Conformal Prediction"
   ]
  },
  {
   "cell_type": "code",
   "execution_count": 36,
   "id": "160ec6ff",
   "metadata": {
    "execution": {
     "iopub.execute_input": "2025-08-05T15:37:16.093549Z",
     "iopub.status.busy": "2025-08-05T15:37:16.092485Z",
     "iopub.status.idle": "2025-08-05T15:37:16.098417Z",
     "shell.execute_reply": "2025-08-05T15:37:16.097337Z"
    },
    "papermill": {
     "duration": 0.033322,
     "end_time": "2025-08-05T15:37:16.100580",
     "exception": false,
     "start_time": "2025-08-05T15:37:16.067258",
     "status": "completed"
    },
    "tags": []
   },
   "outputs": [],
   "source": [
    "# Miscoverage level for conformal prediction (10% allowed error rate => 90% target coverage)\n",
    "alpha = 0.1"
   ]
  },
  {
   "cell_type": "code",
   "execution_count": 37,
   "id": "eadf4555-3dd3-440e-8e35-f82a4ad9f855",
   "metadata": {
    "execution": {
     "iopub.execute_input": "2025-08-05T15:37:16.151388Z",
     "iopub.status.busy": "2025-08-05T15:37:16.150642Z",
     "iopub.status.idle": "2025-08-05T15:37:18.986932Z",
     "shell.execute_reply": "2025-08-05T15:37:18.986200Z"
    },
    "papermill": {
     "duration": 2.863149,
     "end_time": "2025-08-05T15:37:18.988354",
     "exception": false,
     "start_time": "2025-08-05T15:37:16.125205",
     "status": "completed"
    },
    "tags": []
   },
   "outputs": [],
   "source": [
    "probs_calib = model.predict_proba(X_calib)"
   ]
  },
  {
   "cell_type": "code",
   "execution_count": 38,
   "id": "2ed93547-6d5d-4983-9b36-1ecb300da49a",
   "metadata": {
    "execution": {
     "iopub.execute_input": "2025-08-05T15:37:19.011161Z",
     "iopub.status.busy": "2025-08-05T15:37:19.010810Z",
     "iopub.status.idle": "2025-08-05T15:37:19.015877Z",
     "shell.execute_reply": "2025-08-05T15:37:19.015103Z"
    },
    "papermill": {
     "duration": 0.01974,
     "end_time": "2025-08-05T15:37:19.019280",
     "exception": false,
     "start_time": "2025-08-05T15:37:18.999540",
     "status": "completed"
    },
    "tags": []
   },
   "outputs": [],
   "source": [
    "y_calib = y_calib.values.ravel().astype(int)"
   ]
  },
  {
   "cell_type": "code",
   "execution_count": 39,
   "id": "65d1320d-f588-4b38-9072-62af1ae97f7d",
   "metadata": {
    "execution": {
     "iopub.execute_input": "2025-08-05T15:37:19.072434Z",
     "iopub.status.busy": "2025-08-05T15:37:19.072072Z",
     "iopub.status.idle": "2025-08-05T15:37:19.077609Z",
     "shell.execute_reply": "2025-08-05T15:37:19.076706Z"
    },
    "papermill": {
     "duration": 0.034749,
     "end_time": "2025-08-05T15:37:19.079796",
     "exception": false,
     "start_time": "2025-08-05T15:37:19.045047",
     "status": "completed"
    },
    "tags": []
   },
   "outputs": [],
   "source": [
    "from fairness_multiverse.conformal import compute_nc_scores\n",
    "\n",
    "# Compute nonconformity scores on calibration set (1 - probability of true class)\n",
    "nc_scores = compute_nc_scores(probs_calib, y_calib)"
   ]
  },
  {
   "cell_type": "code",
   "execution_count": 40,
   "id": "df3b8ca3-53b7-43d5-9667-7c85da7aeda2",
   "metadata": {
    "execution": {
     "iopub.execute_input": "2025-08-05T15:37:19.133242Z",
     "iopub.status.busy": "2025-08-05T15:37:19.132851Z",
     "iopub.status.idle": "2025-08-05T15:37:19.196023Z",
     "shell.execute_reply": "2025-08-05T15:37:19.194887Z"
    },
    "papermill": {
     "duration": 0.092703,
     "end_time": "2025-08-05T15:37:19.198440",
     "exception": false,
     "start_time": "2025-08-05T15:37:19.105737",
     "status": "completed"
    },
    "tags": []
   },
   "outputs": [],
   "source": [
    "from fairness_multiverse.conformal import find_threshold\n",
    "\n",
    "# Find conformal threshold q_hat for the given alpha (split conformal method)\n",
    "q_hat = find_threshold(nc_scores, alpha)"
   ]
  },
  {
   "cell_type": "code",
   "execution_count": 41,
   "id": "4d29e6c1-0ef6-4aa4-b8fe-4fe79b0d033a",
   "metadata": {
    "execution": {
     "iopub.execute_input": "2025-08-05T15:37:19.243375Z",
     "iopub.status.busy": "2025-08-05T15:37:19.242942Z",
     "iopub.status.idle": "2025-08-05T15:37:19.250299Z",
     "shell.execute_reply": "2025-08-05T15:37:19.248961Z"
    },
    "papermill": {
     "duration": 0.030398,
     "end_time": "2025-08-05T15:37:19.251957",
     "exception": false,
     "start_time": "2025-08-05T15:37:19.221559",
     "status": "completed"
    },
    "tags": []
   },
   "outputs": [
    {
     "data": {
      "text/plain": [
       "0.6799999999999999"
      ]
     },
     "execution_count": 41,
     "metadata": {},
     "output_type": "execute_result"
    }
   ],
   "source": [
    "q_hat"
   ]
  },
  {
   "cell_type": "code",
   "execution_count": 42,
   "id": "92460794-cdac-4be2-ba28-f28c0515a6fb",
   "metadata": {
    "execution": {
     "iopub.execute_input": "2025-08-05T15:37:19.276939Z",
     "iopub.status.busy": "2025-08-05T15:37:19.276638Z",
     "iopub.status.idle": "2025-08-05T15:37:21.620753Z",
     "shell.execute_reply": "2025-08-05T15:37:21.620009Z"
    },
    "papermill": {
     "duration": 2.35825,
     "end_time": "2025-08-05T15:37:21.622220",
     "exception": false,
     "start_time": "2025-08-05T15:37:19.263970",
     "status": "completed"
    },
    "tags": []
   },
   "outputs": [],
   "source": [
    "from fairness_multiverse.conformal import predict_conformal_sets\n",
    "\n",
    "# Generate prediction sets for each test example\n",
    "pred_sets = predict_conformal_sets(model, X_test, q_hat)"
   ]
  },
  {
   "cell_type": "code",
   "execution_count": 43,
   "id": "d90c9a65-e6db-4f5d-80cd-e68fb7e46829",
   "metadata": {
    "execution": {
     "iopub.execute_input": "2025-08-05T15:37:21.647277Z",
     "iopub.status.busy": "2025-08-05T15:37:21.646946Z",
     "iopub.status.idle": "2025-08-05T15:37:21.652220Z",
     "shell.execute_reply": "2025-08-05T15:37:21.651455Z"
    },
    "papermill": {
     "duration": 0.018042,
     "end_time": "2025-08-05T15:37:21.653717",
     "exception": false,
     "start_time": "2025-08-05T15:37:21.635675",
     "status": "completed"
    },
    "tags": []
   },
   "outputs": [],
   "source": [
    "y_true = y_true.squeeze()"
   ]
  },
  {
   "cell_type": "code",
   "execution_count": 44,
   "id": "3a58a54a-1e68-46b9-927a-df01f18aebc8",
   "metadata": {
    "execution": {
     "iopub.execute_input": "2025-08-05T15:37:21.676150Z",
     "iopub.status.busy": "2025-08-05T15:37:21.675621Z",
     "iopub.status.idle": "2025-08-05T15:37:22.226123Z",
     "shell.execute_reply": "2025-08-05T15:37:22.225328Z"
    },
    "papermill": {
     "duration": 0.562892,
     "end_time": "2025-08-05T15:37:22.227558",
     "exception": false,
     "start_time": "2025-08-05T15:37:21.664666",
     "status": "completed"
    },
    "tags": []
   },
   "outputs": [],
   "source": [
    "from fairness_multiverse.conformal import evaluate_sets\n",
    "\n",
    "# Evaluate coverage and average set size on test data\n",
    "metrics = evaluate_sets(pred_sets, y_true)"
   ]
  },
  {
   "cell_type": "markdown",
   "id": "2b569c12-9aaa-4c88-98c9-bbcd0cf3ebb8",
   "metadata": {
    "papermill": {
     "duration": 0.010769,
     "end_time": "2025-08-05T15:37:22.249832",
     "exception": false,
     "start_time": "2025-08-05T15:37:22.239063",
     "status": "completed"
    },
    "tags": []
   },
   "source": [
    "# CP Metrics"
   ]
  },
  {
   "cell_type": "code",
   "execution_count": 45,
   "id": "5ce0a5cb-201f-45a0-ade5-94c7f0bd6095",
   "metadata": {
    "execution": {
     "iopub.execute_input": "2025-08-05T15:37:22.273092Z",
     "iopub.status.busy": "2025-08-05T15:37:22.272508Z",
     "iopub.status.idle": "2025-08-05T15:37:22.279071Z",
     "shell.execute_reply": "2025-08-05T15:37:22.278152Z"
    },
    "papermill": {
     "duration": 0.019976,
     "end_time": "2025-08-05T15:37:22.280566",
     "exception": false,
     "start_time": "2025-08-05T15:37:22.260590",
     "status": "completed"
    },
    "tags": []
   },
   "outputs": [
    {
     "data": {
      "text/plain": [
       "{'coverage': 0.914390814847843, 'avg_size': 1.1483223720878386}"
      ]
     },
     "execution_count": 45,
     "metadata": {},
     "output_type": "execute_result"
    }
   ],
   "source": [
    "metrics"
   ]
  },
  {
   "cell_type": "code",
   "execution_count": 46,
   "id": "9b9a838d-31c9-430b-ae14-12baee460d17",
   "metadata": {
    "execution": {
     "iopub.execute_input": "2025-08-05T15:37:22.305047Z",
     "iopub.status.busy": "2025-08-05T15:37:22.304174Z",
     "iopub.status.idle": "2025-08-05T15:37:22.309463Z",
     "shell.execute_reply": "2025-08-05T15:37:22.308760Z"
    },
    "papermill": {
     "duration": 0.018693,
     "end_time": "2025-08-05T15:37:22.311115",
     "exception": false,
     "start_time": "2025-08-05T15:37:22.292422",
     "status": "completed"
    },
    "tags": []
   },
   "outputs": [],
   "source": [
    "example_universe = universe.copy()\n",
    "universe_training_year = example_universe.get(\"training_year\")\n",
    "universe_training_size = example_universe.get(\"training_size\")\n",
    "universe_scale = example_universe.get(\"scale\")\n",
    "universe_model = example_universe.get(\"model\")\n",
    "universe_exclude_features = example_universe.get(\"exclude_features\")\n",
    "universe_exclude_subgroups = example_universe.get(\"exclude_subgroups\")"
   ]
  },
  {
   "cell_type": "code",
   "execution_count": 47,
   "id": "f4b6a8ac-9dc0-4245-8a91-5b3b5999c4f9",
   "metadata": {
    "execution": {
     "iopub.execute_input": "2025-08-05T15:37:22.335181Z",
     "iopub.status.busy": "2025-08-05T15:37:22.334680Z",
     "iopub.status.idle": "2025-08-05T15:37:22.340682Z",
     "shell.execute_reply": "2025-08-05T15:37:22.339919Z"
    },
    "papermill": {
     "duration": 0.019214,
     "end_time": "2025-08-05T15:37:22.342212",
     "exception": false,
     "start_time": "2025-08-05T15:37:22.322998",
     "status": "completed"
    },
    "tags": []
   },
   "outputs": [],
   "source": [
    "cp_metrics_dict = {\n",
    "    \"universe_id\": [universe_id],\n",
    "    \"universe_training_year\": [universe_training_year],\n",
    "    \"universe_training_size\": [universe_training_size],\n",
    "    \"universe_scale\": [universe_scale],\n",
    "    \"universe_model\": [universe_model],\n",
    "    \"universe_exclude_features\": [universe_exclude_features],\n",
    "    \"universe_exclude_subgroups\": [universe_exclude_subgroups],\n",
    "    \"q_hat\": [q_hat],\n",
    "    \"coverage\": [metrics[\"coverage\"]],\n",
    "    \"avg_size\": [metrics[\"avg_size\"]],\n",
    "}"
   ]
  },
  {
   "cell_type": "code",
   "execution_count": 48,
   "id": "908acbb1-0371-4915-85ca-3fa520d2efe2",
   "metadata": {
    "execution": {
     "iopub.execute_input": "2025-08-05T15:37:22.366443Z",
     "iopub.status.busy": "2025-08-05T15:37:22.365755Z",
     "iopub.status.idle": "2025-08-05T15:37:22.372230Z",
     "shell.execute_reply": "2025-08-05T15:37:22.371334Z"
    },
    "papermill": {
     "duration": 0.0199,
     "end_time": "2025-08-05T15:37:22.373842",
     "exception": false,
     "start_time": "2025-08-05T15:37:22.353942",
     "status": "completed"
    },
    "tags": []
   },
   "outputs": [
    {
     "data": {
      "text/plain": [
       "{'universe_id': ['85265727b818115f33f026287ad609cf'],\n",
       " 'universe_training_year': ['2012_14'],\n",
       " 'universe_training_size': ['5k'],\n",
       " 'universe_scale': ['scale'],\n",
       " 'universe_model': ['rf'],\n",
       " 'universe_exclude_features': ['sex'],\n",
       " 'universe_exclude_subgroups': ['keep-all'],\n",
       " 'q_hat': [0.6799999999999999],\n",
       " 'coverage': [0.914390814847843],\n",
       " 'avg_size': [1.1483223720878386]}"
      ]
     },
     "execution_count": 48,
     "metadata": {},
     "output_type": "execute_result"
    }
   ],
   "source": [
    "cp_metrics_dict"
   ]
  },
  {
   "cell_type": "code",
   "execution_count": 49,
   "id": "33007efc-14e9-4ec6-97ac-56a455c82265",
   "metadata": {
    "execution": {
     "iopub.execute_input": "2025-08-05T15:37:22.398036Z",
     "iopub.status.busy": "2025-08-05T15:37:22.397345Z",
     "iopub.status.idle": "2025-08-05T15:37:22.402585Z",
     "shell.execute_reply": "2025-08-05T15:37:22.401893Z"
    },
    "papermill": {
     "duration": 0.018562,
     "end_time": "2025-08-05T15:37:22.404179",
     "exception": false,
     "start_time": "2025-08-05T15:37:22.385617",
     "status": "completed"
    },
    "tags": []
   },
   "outputs": [],
   "source": [
    "cp_metrics_df = pd.DataFrame(cp_metrics_dict)"
   ]
  },
  {
   "cell_type": "code",
   "execution_count": 50,
   "id": "db12611b-57b2-4910-b9d0-355adfd6e7bf",
   "metadata": {
    "execution": {
     "iopub.execute_input": "2025-08-05T15:37:22.428981Z",
     "iopub.status.busy": "2025-08-05T15:37:22.428282Z",
     "iopub.status.idle": "2025-08-05T15:37:22.443157Z",
     "shell.execute_reply": "2025-08-05T15:37:22.442360Z"
    },
    "papermill": {
     "duration": 0.027951,
     "end_time": "2025-08-05T15:37:22.444437",
     "exception": false,
     "start_time": "2025-08-05T15:37:22.416486",
     "status": "completed"
    },
    "tags": []
   },
   "outputs": [
    {
     "data": {
      "text/html": [
       "<div>\n",
       "<style scoped>\n",
       "    .dataframe tbody tr th:only-of-type {\n",
       "        vertical-align: middle;\n",
       "    }\n",
       "\n",
       "    .dataframe tbody tr th {\n",
       "        vertical-align: top;\n",
       "    }\n",
       "\n",
       "    .dataframe thead th {\n",
       "        text-align: right;\n",
       "    }\n",
       "</style>\n",
       "<table border=\"1\" class=\"dataframe\">\n",
       "  <thead>\n",
       "    <tr style=\"text-align: right;\">\n",
       "      <th></th>\n",
       "      <th>universe_id</th>\n",
       "      <th>universe_training_year</th>\n",
       "      <th>universe_training_size</th>\n",
       "      <th>universe_scale</th>\n",
       "      <th>universe_model</th>\n",
       "      <th>universe_exclude_features</th>\n",
       "      <th>universe_exclude_subgroups</th>\n",
       "      <th>q_hat</th>\n",
       "      <th>coverage</th>\n",
       "      <th>avg_size</th>\n",
       "    </tr>\n",
       "  </thead>\n",
       "  <tbody>\n",
       "    <tr>\n",
       "      <th>0</th>\n",
       "      <td>85265727b818115f33f026287ad609cf</td>\n",
       "      <td>2012_14</td>\n",
       "      <td>5k</td>\n",
       "      <td>scale</td>\n",
       "      <td>rf</td>\n",
       "      <td>sex</td>\n",
       "      <td>keep-all</td>\n",
       "      <td>0.68</td>\n",
       "      <td>0.914391</td>\n",
       "      <td>1.148322</td>\n",
       "    </tr>\n",
       "  </tbody>\n",
       "</table>\n",
       "</div>"
      ],
      "text/plain": [
       "                        universe_id universe_training_year  \\\n",
       "0  85265727b818115f33f026287ad609cf                2012_14   \n",
       "\n",
       "  universe_training_size universe_scale universe_model  \\\n",
       "0                     5k          scale             rf   \n",
       "\n",
       "  universe_exclude_features universe_exclude_subgroups  q_hat  coverage  \\\n",
       "0                       sex                   keep-all   0.68  0.914391   \n",
       "\n",
       "   avg_size  \n",
       "0  1.148322  "
      ]
     },
     "execution_count": 50,
     "metadata": {},
     "output_type": "execute_result"
    }
   ],
   "source": [
    "cp_metrics_df"
   ]
  },
  {
   "cell_type": "code",
   "execution_count": 51,
   "id": "b7fbde55-a0a1-47e4-9af6-fe4a17fa8c61",
   "metadata": {
    "execution": {
     "iopub.execute_input": "2025-08-05T15:37:22.468811Z",
     "iopub.status.busy": "2025-08-05T15:37:22.468103Z",
     "iopub.status.idle": "2025-08-05T15:37:22.472545Z",
     "shell.execute_reply": "2025-08-05T15:37:22.471819Z"
    },
    "papermill": {
     "duration": 0.017833,
     "end_time": "2025-08-05T15:37:22.474011",
     "exception": false,
     "start_time": "2025-08-05T15:37:22.456178",
     "status": "completed"
    },
    "tags": []
   },
   "outputs": [],
   "source": [
    "# Conditional Coverage & looking at subgroups"
   ]
  },
  {
   "cell_type": "code",
   "execution_count": 52,
   "id": "027ae886-68dd-4141-96c7-805a5450e1ef",
   "metadata": {
    "execution": {
     "iopub.execute_input": "2025-08-05T15:37:22.498521Z",
     "iopub.status.busy": "2025-08-05T15:37:22.498018Z",
     "iopub.status.idle": "2025-08-05T15:37:22.715524Z",
     "shell.execute_reply": "2025-08-05T15:37:22.714464Z"
    },
    "papermill": {
     "duration": 0.231346,
     "end_time": "2025-08-05T15:37:22.717454",
     "exception": false,
     "start_time": "2025-08-05T15:37:22.486108",
     "status": "completed"
    },
    "tags": []
   },
   "outputs": [],
   "source": [
    "from fairness_multiverse.conformal import build_cp_groups\n",
    "\n",
    "cp_groups_df = build_cp_groups(pred_sets, y_true, X_test.index, org_test)\n",
    "#needs universe_id and setting"
   ]
  },
  {
   "cell_type": "code",
   "execution_count": 53,
   "id": "6cbdab96-b2b2-45af-ad54-d0516db2e28d",
   "metadata": {
    "execution": {
     "iopub.execute_input": "2025-08-05T15:37:22.743950Z",
     "iopub.status.busy": "2025-08-05T15:37:22.743552Z",
     "iopub.status.idle": "2025-08-05T15:37:23.663037Z",
     "shell.execute_reply": "2025-08-05T15:37:23.662001Z"
    },
    "papermill": {
     "duration": 0.934695,
     "end_time": "2025-08-05T15:37:23.664858",
     "exception": false,
     "start_time": "2025-08-05T15:37:22.730163",
     "status": "completed"
    },
    "tags": []
   },
   "outputs": [],
   "source": [
    "# Define covered = 1 if true_label is in the predicted set\n",
    "cp_groups_df['covered'] = cp_groups_df.apply(\n",
    "    lambda r: int(r['true_label'] in r['pred_set']),\n",
    "    axis=1\n",
    ")"
   ]
  },
  {
   "cell_type": "code",
   "execution_count": 54,
   "id": "338ff529-1a6b-4b87-a931-8e4788d52aad",
   "metadata": {
    "execution": {
     "iopub.execute_input": "2025-08-05T15:37:23.707638Z",
     "iopub.status.busy": "2025-08-05T15:37:23.706871Z",
     "iopub.status.idle": "2025-08-05T15:37:23.712256Z",
     "shell.execute_reply": "2025-08-05T15:37:23.711214Z"
    },
    "papermill": {
     "duration": 0.029038,
     "end_time": "2025-08-05T15:37:23.714166",
     "exception": false,
     "start_time": "2025-08-05T15:37:23.685128",
     "status": "completed"
    },
    "tags": []
   },
   "outputs": [],
   "source": [
    "#cp_groups_df"
   ]
  },
  {
   "cell_type": "code",
   "execution_count": 55,
   "id": "90032e27-66df-4540-9169-4e89cfbaa758",
   "metadata": {
    "execution": {
     "iopub.execute_input": "2025-08-05T15:37:23.756409Z",
     "iopub.status.busy": "2025-08-05T15:37:23.755931Z",
     "iopub.status.idle": "2025-08-05T15:37:23.767307Z",
     "shell.execute_reply": "2025-08-05T15:37:23.766162Z"
    },
    "papermill": {
     "duration": 0.034343,
     "end_time": "2025-08-05T15:37:23.769013",
     "exception": false,
     "start_time": "2025-08-05T15:37:23.734670",
     "status": "completed"
    },
    "tags": []
   },
   "outputs": [],
   "source": [
    "subgroups = ['frau1','nongerman','nongerman_male','nongerman_female']\n",
    "\n",
    "# Conditional coverage for subgroup==1\n",
    "cond_coverage = {\n",
    "    g: cp_groups_df.loc[cp_groups_df[g]==1, 'covered'].mean()\n",
    "    for g in subgroups\n",
    "}"
   ]
  },
  {
   "cell_type": "code",
   "execution_count": 56,
   "id": "1e348fb1-b9c3-45bc-ba23-f016827a7e0d",
   "metadata": {
    "execution": {
     "iopub.execute_input": "2025-08-05T15:37:23.820252Z",
     "iopub.status.busy": "2025-08-05T15:37:23.819419Z",
     "iopub.status.idle": "2025-08-05T15:37:23.826452Z",
     "shell.execute_reply": "2025-08-05T15:37:23.825267Z"
    },
    "papermill": {
     "duration": 0.034943,
     "end_time": "2025-08-05T15:37:23.828039",
     "exception": false,
     "start_time": "2025-08-05T15:37:23.793096",
     "status": "completed"
    },
    "tags": []
   },
   "outputs": [
    {
     "data": {
      "text/plain": [
       "{'frau1': 0.9093678393314463,\n",
       " 'nongerman': 0.9077078538146298,\n",
       " 'nongerman_male': 0.9252454291632892,\n",
       " 'nongerman_female': 0.8786885245901639}"
      ]
     },
     "execution_count": 56,
     "metadata": {},
     "output_type": "execute_result"
    }
   ],
   "source": [
    "cond_coverage"
   ]
  },
  {
   "cell_type": "code",
   "execution_count": 57,
   "id": "f5093324-c3dd-4d63-bc4c-8d945e5c8bbb",
   "metadata": {
    "execution": {
     "iopub.execute_input": "2025-08-05T15:37:23.869174Z",
     "iopub.status.busy": "2025-08-05T15:37:23.868717Z",
     "iopub.status.idle": "2025-08-05T15:37:23.877271Z",
     "shell.execute_reply": "2025-08-05T15:37:23.876144Z"
    },
    "papermill": {
     "duration": 0.03109,
     "end_time": "2025-08-05T15:37:23.879404",
     "exception": false,
     "start_time": "2025-08-05T15:37:23.848314",
     "status": "completed"
    },
    "tags": []
   },
   "outputs": [],
   "source": [
    "for subgroup, cov in cond_coverage.items():\n",
    "    cp_metrics_df[f\"cov_{subgroup}\"] = cov"
   ]
  },
  {
   "cell_type": "code",
   "execution_count": 58,
   "id": "6e872e10-dbe5-49e8-b554-5030c98ff75d",
   "metadata": {
    "execution": {
     "iopub.execute_input": "2025-08-05T15:37:23.921619Z",
     "iopub.status.busy": "2025-08-05T15:37:23.920745Z",
     "iopub.status.idle": "2025-08-05T15:37:23.938797Z",
     "shell.execute_reply": "2025-08-05T15:37:23.937676Z"
    },
    "papermill": {
     "duration": 0.040266,
     "end_time": "2025-08-05T15:37:23.940618",
     "exception": false,
     "start_time": "2025-08-05T15:37:23.900352",
     "status": "completed"
    },
    "tags": []
   },
   "outputs": [
    {
     "data": {
      "text/html": [
       "<div>\n",
       "<style scoped>\n",
       "    .dataframe tbody tr th:only-of-type {\n",
       "        vertical-align: middle;\n",
       "    }\n",
       "\n",
       "    .dataframe tbody tr th {\n",
       "        vertical-align: top;\n",
       "    }\n",
       "\n",
       "    .dataframe thead th {\n",
       "        text-align: right;\n",
       "    }\n",
       "</style>\n",
       "<table border=\"1\" class=\"dataframe\">\n",
       "  <thead>\n",
       "    <tr style=\"text-align: right;\">\n",
       "      <th></th>\n",
       "      <th>universe_id</th>\n",
       "      <th>universe_training_year</th>\n",
       "      <th>universe_training_size</th>\n",
       "      <th>universe_scale</th>\n",
       "      <th>universe_model</th>\n",
       "      <th>universe_exclude_features</th>\n",
       "      <th>universe_exclude_subgroups</th>\n",
       "      <th>q_hat</th>\n",
       "      <th>coverage</th>\n",
       "      <th>avg_size</th>\n",
       "      <th>cov_frau1</th>\n",
       "      <th>cov_nongerman</th>\n",
       "      <th>cov_nongerman_male</th>\n",
       "      <th>cov_nongerman_female</th>\n",
       "    </tr>\n",
       "  </thead>\n",
       "  <tbody>\n",
       "    <tr>\n",
       "      <th>0</th>\n",
       "      <td>85265727b818115f33f026287ad609cf</td>\n",
       "      <td>2012_14</td>\n",
       "      <td>5k</td>\n",
       "      <td>scale</td>\n",
       "      <td>rf</td>\n",
       "      <td>sex</td>\n",
       "      <td>keep-all</td>\n",
       "      <td>0.68</td>\n",
       "      <td>0.914391</td>\n",
       "      <td>1.148322</td>\n",
       "      <td>0.909368</td>\n",
       "      <td>0.907708</td>\n",
       "      <td>0.925245</td>\n",
       "      <td>0.878689</td>\n",
       "    </tr>\n",
       "  </tbody>\n",
       "</table>\n",
       "</div>"
      ],
      "text/plain": [
       "                        universe_id universe_training_year  \\\n",
       "0  85265727b818115f33f026287ad609cf                2012_14   \n",
       "\n",
       "  universe_training_size universe_scale universe_model  \\\n",
       "0                     5k          scale             rf   \n",
       "\n",
       "  universe_exclude_features universe_exclude_subgroups  q_hat  coverage  \\\n",
       "0                       sex                   keep-all   0.68  0.914391   \n",
       "\n",
       "   avg_size  cov_frau1  cov_nongerman  cov_nongerman_male  \\\n",
       "0  1.148322   0.909368       0.907708            0.925245   \n",
       "\n",
       "   cov_nongerman_female  \n",
       "0              0.878689  "
      ]
     },
     "execution_count": 58,
     "metadata": {},
     "output_type": "execute_result"
    }
   ],
   "source": [
    "cp_metrics_df"
   ]
  },
  {
   "cell_type": "markdown",
   "id": "33774451",
   "metadata": {
    "papermill": {
     "duration": 0.025897,
     "end_time": "2025-08-05T15:37:23.992952",
     "exception": false,
     "start_time": "2025-08-05T15:37:23.967055",
     "status": "completed"
    },
    "tags": []
   },
   "source": [
    "# (Fairness) Metrics"
   ]
  },
  {
   "cell_type": "code",
   "execution_count": 59,
   "id": "debc5d62",
   "metadata": {
    "execution": {
     "iopub.execute_input": "2025-08-05T15:37:24.045029Z",
     "iopub.status.busy": "2025-08-05T15:37:24.044351Z",
     "iopub.status.idle": "2025-08-05T15:37:24.065650Z",
     "shell.execute_reply": "2025-08-05T15:37:24.064689Z"
    },
    "papermill": {
     "duration": 0.049668,
     "end_time": "2025-08-05T15:37:24.067388",
     "exception": false,
     "start_time": "2025-08-05T15:37:24.017720",
     "status": "completed"
    },
    "tags": []
   },
   "outputs": [],
   "source": [
    "# do I need to include maxdeutsch1.missing?\n",
    "\n",
    "import numpy as np\n",
    "\n",
    "colname_to_bin = \"maxdeutsch1\"\n",
    "majority_value = org_train[colname_to_bin].mode()[0]\n",
    "\n",
    "org_test[\"majmin\"] = np.where(org_test[colname_to_bin] == majority_value, \"majority\", \"minority\")"
   ]
  },
  {
   "cell_type": "code",
   "execution_count": 60,
   "id": "06a50de5",
   "metadata": {
    "execution": {
     "iopub.execute_input": "2025-08-05T15:37:24.120686Z",
     "iopub.status.busy": "2025-08-05T15:37:24.120015Z",
     "iopub.status.idle": "2025-08-05T15:37:26.451796Z",
     "shell.execute_reply": "2025-08-05T15:37:26.451051Z"
    },
    "papermill": {
     "duration": 2.360427,
     "end_time": "2025-08-05T15:37:26.453209",
     "exception": false,
     "start_time": "2025-08-05T15:37:24.092782",
     "status": "completed"
    },
    "tags": []
   },
   "outputs": [],
   "source": [
    "example_universe = universe.copy()\n",
    "example_universe[\"cutoff\"] = example_universe[\"cutoff\"][0]\n",
    "example_universe[\"eval_fairness_grouping\"] = example_universe[\"eval_fairness_grouping\"][0]\n",
    "fairness_dict, metric_frame = universe_analysis.compute_metrics(\n",
    "    example_universe,\n",
    "    y_pred_prob=probs_test,\n",
    "    y_test=y_true,\n",
    "    org_test=org_test,\n",
    ")"
   ]
  },
  {
   "cell_type": "markdown",
   "id": "f95d4e02",
   "metadata": {
    "papermill": {
     "duration": 0.011503,
     "end_time": "2025-08-05T15:37:26.479321",
     "exception": false,
     "start_time": "2025-08-05T15:37:26.467818",
     "status": "completed"
    },
    "tags": []
   },
   "source": [
    "# Overall"
   ]
  },
  {
   "cell_type": "markdown",
   "id": "bdee4871",
   "metadata": {
    "papermill": {
     "duration": 0.011473,
     "end_time": "2025-08-05T15:37:26.502283",
     "exception": false,
     "start_time": "2025-08-05T15:37:26.490810",
     "status": "completed"
    },
    "tags": []
   },
   "source": [
    "Fairness\n",
    "Main fairness target: Equalized Odds. Seems to be a better fit than equal opportunity, since we're not only interested in Y = 1. Seems to be a better fit than demographic parity, since we also care about accuracy, not just equal distribution of preds.\n",
    "\n",
    "Pick column for computation of fairness metrics\n",
    "\n",
    "Performance\n",
    "Overall performance measures, most interesting in relation to the measures split by group below"
   ]
  },
  {
   "cell_type": "code",
   "execution_count": 61,
   "id": "c4e067c6",
   "metadata": {
    "execution": {
     "iopub.execute_input": "2025-08-05T15:37:26.528556Z",
     "iopub.status.busy": "2025-08-05T15:37:26.528060Z",
     "iopub.status.idle": "2025-08-05T15:37:26.535613Z",
     "shell.execute_reply": "2025-08-05T15:37:26.534817Z"
    },
    "papermill": {
     "duration": 0.023204,
     "end_time": "2025-08-05T15:37:26.537010",
     "exception": false,
     "start_time": "2025-08-05T15:37:26.513806",
     "status": "completed"
    },
    "tags": []
   },
   "outputs": [
    {
     "data": {
      "text/plain": [
       "accuracy                   0.211102\n",
       "balanced accuracy          0.538093\n",
       "f1                         0.241295\n",
       "precision                  0.137627\n",
       "false positive rate        0.901742\n",
       "false negative rate        0.022072\n",
       "selection rate             0.911515\n",
       "count                  89710.000000\n",
       "dtype: float64"
      ]
     },
     "execution_count": 61,
     "metadata": {},
     "output_type": "execute_result"
    }
   ],
   "source": [
    "metric_frame.overall"
   ]
  },
  {
   "cell_type": "markdown",
   "id": "e968fe9d",
   "metadata": {
    "papermill": {
     "duration": 0.011685,
     "end_time": "2025-08-05T15:37:26.561508",
     "exception": false,
     "start_time": "2025-08-05T15:37:26.549823",
     "status": "completed"
    },
    "tags": []
   },
   "source": [
    "By Group"
   ]
  },
  {
   "cell_type": "code",
   "execution_count": 62,
   "id": "ec325bce",
   "metadata": {
    "execution": {
     "iopub.execute_input": "2025-08-05T15:37:26.586206Z",
     "iopub.status.busy": "2025-08-05T15:37:26.585688Z",
     "iopub.status.idle": "2025-08-05T15:37:26.598356Z",
     "shell.execute_reply": "2025-08-05T15:37:26.597572Z"
    },
    "papermill": {
     "duration": 0.026651,
     "end_time": "2025-08-05T15:37:26.599735",
     "exception": false,
     "start_time": "2025-08-05T15:37:26.573084",
     "status": "completed"
    },
    "tags": []
   },
   "outputs": [
    {
     "data": {
      "text/html": [
       "<div>\n",
       "<style scoped>\n",
       "    .dataframe tbody tr th:only-of-type {\n",
       "        vertical-align: middle;\n",
       "    }\n",
       "\n",
       "    .dataframe tbody tr th {\n",
       "        vertical-align: top;\n",
       "    }\n",
       "\n",
       "    .dataframe thead th {\n",
       "        text-align: right;\n",
       "    }\n",
       "</style>\n",
       "<table border=\"1\" class=\"dataframe\">\n",
       "  <thead>\n",
       "    <tr style=\"text-align: right;\">\n",
       "      <th></th>\n",
       "      <th>accuracy</th>\n",
       "      <th>balanced accuracy</th>\n",
       "      <th>f1</th>\n",
       "      <th>precision</th>\n",
       "      <th>false positive rate</th>\n",
       "      <th>false negative rate</th>\n",
       "      <th>selection rate</th>\n",
       "      <th>count</th>\n",
       "    </tr>\n",
       "    <tr>\n",
       "      <th>majmin</th>\n",
       "      <th></th>\n",
       "      <th></th>\n",
       "      <th></th>\n",
       "      <th></th>\n",
       "      <th></th>\n",
       "      <th></th>\n",
       "      <th></th>\n",
       "      <th></th>\n",
       "    </tr>\n",
       "  </thead>\n",
       "  <tbody>\n",
       "    <tr>\n",
       "      <th>majority</th>\n",
       "      <td>0.203036</td>\n",
       "      <td>0.536487</td>\n",
       "      <td>0.247098</td>\n",
       "      <td>0.141172</td>\n",
       "      <td>0.916742</td>\n",
       "      <td>0.010284</td>\n",
       "      <td>0.926384</td>\n",
       "      <td>69170.0</td>\n",
       "    </tr>\n",
       "    <tr>\n",
       "      <th>minority</th>\n",
       "      <td>0.238267</td>\n",
       "      <td>0.540121</td>\n",
       "      <td>0.220118</td>\n",
       "      <td>0.124788</td>\n",
       "      <td>0.852190</td>\n",
       "      <td>0.067568</td>\n",
       "      <td>0.861441</td>\n",
       "      <td>20540.0</td>\n",
       "    </tr>\n",
       "  </tbody>\n",
       "</table>\n",
       "</div>"
      ],
      "text/plain": [
       "          accuracy  balanced accuracy        f1  precision  \\\n",
       "majmin                                                       \n",
       "majority  0.203036           0.536487  0.247098   0.141172   \n",
       "minority  0.238267           0.540121  0.220118   0.124788   \n",
       "\n",
       "          false positive rate  false negative rate  selection rate    count  \n",
       "majmin                                                                       \n",
       "majority             0.916742             0.010284        0.926384  69170.0  \n",
       "minority             0.852190             0.067568        0.861441  20540.0  "
      ]
     },
     "execution_count": 62,
     "metadata": {},
     "output_type": "execute_result"
    }
   ],
   "source": [
    "metric_frame.by_group"
   ]
  },
  {
   "cell_type": "code",
   "execution_count": 63,
   "id": "a9ddbe63",
   "metadata": {
    "execution": {
     "iopub.execute_input": "2025-08-05T15:37:26.626120Z",
     "iopub.status.busy": "2025-08-05T15:37:26.625601Z",
     "iopub.status.idle": "2025-08-05T15:37:28.192579Z",
     "shell.execute_reply": "2025-08-05T15:37:28.188152Z"
    },
    "papermill": {
     "duration": 1.581229,
     "end_time": "2025-08-05T15:37:28.193979",
     "exception": false,
     "start_time": "2025-08-05T15:37:26.612750",
     "status": "completed"
    },
    "tags": []
   },
   "outputs": [
    {
     "data": {
      "text/plain": [
       "array([[<Axes: title={'center': 'accuracy'}, xlabel='majmin'>,\n",
       "        <Axes: title={'center': 'balanced accuracy'}, xlabel='majmin'>,\n",
       "        <Axes: title={'center': 'f1'}, xlabel='majmin'>],\n",
       "       [<Axes: title={'center': 'precision'}, xlabel='majmin'>,\n",
       "        <Axes: title={'center': 'false positive rate'}, xlabel='majmin'>,\n",
       "        <Axes: title={'center': 'false negative rate'}, xlabel='majmin'>],\n",
       "       [<Axes: title={'center': 'selection rate'}, xlabel='majmin'>,\n",
       "        <Axes: title={'center': 'count'}, xlabel='majmin'>,\n",
       "        <Axes: xlabel='majmin'>]], dtype=object)"
      ]
     },
     "execution_count": 63,
     "metadata": {},
     "output_type": "execute_result"
    },
    {
     "data": {
      "image/png": "[encoded data removed]",
      "text/plain": [
       "<Figure size 1200x800 with 9 Axes>"
      ]
     },
     "metadata": {},
     "output_type": "display_data"
    }
   ],
   "source": [
    "# In a graphic\n",
    "metric_frame.by_group.plot.bar(\n",
    "    subplots=True,\n",
    "    layout=[3, 3],\n",
    "    legend=False,\n",
    "    figsize=[12, 8],\n",
    "    title=\"Show all metrics\",\n",
    ")"
   ]
  },
  {
   "cell_type": "markdown",
   "id": "f57a0bac",
   "metadata": {
    "papermill": {
     "duration": 0.023293,
     "end_time": "2025-08-05T15:37:28.230943",
     "exception": false,
     "start_time": "2025-08-05T15:37:28.207650",
     "status": "completed"
    },
    "tags": []
   },
   "source": [
    "# Final Output"
   ]
  },
  {
   "cell_type": "code",
   "execution_count": 64,
   "id": "96d280a3",
   "metadata": {
    "execution": {
     "iopub.execute_input": "2025-08-05T15:37:28.285167Z",
     "iopub.status.busy": "2025-08-05T15:37:28.284566Z",
     "iopub.status.idle": "2025-08-05T15:37:28.292543Z",
     "shell.execute_reply": "2025-08-05T15:37:28.291528Z"
    },
    "papermill": {
     "duration": 0.037523,
     "end_time": "2025-08-05T15:37:28.294114",
     "exception": false,
     "start_time": "2025-08-05T15:37:28.256591",
     "status": "completed"
    },
    "tags": []
   },
   "outputs": [
    {
     "data": {
      "text/plain": [
       "4"
      ]
     },
     "execution_count": 64,
     "metadata": {},
     "output_type": "execute_result"
    }
   ],
   "source": [
    "sub_universes = universe_analysis.generate_sub_universes()\n",
    "len(sub_universes)"
   ]
  },
  {
   "cell_type": "code",
   "execution_count": 65,
   "id": "92adf7ba",
   "metadata": {
    "execution": {
     "iopub.execute_input": "2025-08-05T15:37:28.326423Z",
     "iopub.status.busy": "2025-08-05T15:37:28.326041Z",
     "iopub.status.idle": "2025-08-05T15:37:28.334556Z",
     "shell.execute_reply": "2025-08-05T15:37:28.333788Z"
    },
    "papermill": {
     "duration": 0.028791,
     "end_time": "2025-08-05T15:37:28.336100",
     "exception": false,
     "start_time": "2025-08-05T15:37:28.307309",
     "status": "completed"
    },
    "tags": []
   },
   "outputs": [],
   "source": [
    "def filter_sub_universe_data(sub_universe, org_test):\n",
    "    # Keep all rows — no filtering\n",
    "    keep_rows_mask = np.ones(org_test.shape[0], dtype=bool)\n",
    "\n",
    "    print(f\"[INFO] Keeping all rows: {keep_rows_mask.sum()} rows retained.\")\n",
    "    return keep_rows_mask"
   ]
  },
  {
   "cell_type": "code",
   "execution_count": 66,
   "id": "4a759155",
   "metadata": {
    "execution": {
     "iopub.execute_input": "2025-08-05T15:37:28.367781Z",
     "iopub.status.busy": "2025-08-05T15:37:28.367340Z",
     "iopub.status.idle": "2025-08-05T15:37:36.177618Z",
     "shell.execute_reply": "2025-08-05T15:37:36.176765Z"
    },
    "papermill": {
     "duration": 7.82754,
     "end_time": "2025-08-05T15:37:36.178997",
     "exception": false,
     "start_time": "2025-08-05T15:37:28.351457",
     "status": "completed"
    },
    "tags": []
   },
   "outputs": [
    {
     "name": "stdout",
     "output_type": "stream",
     "text": [
      "Stopping execution_time clock.\n",
      "[INFO] Keeping all rows: 89710 rows retained.\n"
     ]
    },
    {
     "name": "stdout",
     "output_type": "stream",
     "text": [
      "[INFO] Keeping all rows: 89710 rows retained.\n"
     ]
    },
    {
     "name": "stdout",
     "output_type": "stream",
     "text": [
      "[INFO] Keeping all rows: 89710 rows retained.\n"
     ]
    },
    {
     "name": "stdout",
     "output_type": "stream",
     "text": [
      "[INFO] Keeping all rows: 89710 rows retained.\n"
     ]
    },
    {
     "data": {
      "text/html": [
       "<div>\n",
       "<style scoped>\n",
       "    .dataframe tbody tr th:only-of-type {\n",
       "        vertical-align: middle;\n",
       "    }\n",
       "\n",
       "    .dataframe tbody tr th {\n",
       "        vertical-align: top;\n",
       "    }\n",
       "\n",
       "    .dataframe thead th {\n",
       "        text-align: right;\n",
       "    }\n",
       "</style>\n",
       "<table border=\"1\" class=\"dataframe\">\n",
       "  <thead>\n",
       "    <tr style=\"text-align: right;\">\n",
       "      <th></th>\n",
       "      <th>run_no</th>\n",
       "      <th>universe_id</th>\n",
       "      <th>universe_settings</th>\n",
       "      <th>execution_time</th>\n",
       "      <th>test_size_n</th>\n",
       "      <th>test_size_frac</th>\n",
       "      <th>fair_main_equalized_odds_difference</th>\n",
       "      <th>fair_main_equalized_odds_ratio</th>\n",
       "      <th>fair_main_demographic_parity_difference</th>\n",
       "      <th>fair_main_demographic_parity_ratio</th>\n",
       "      <th>...</th>\n",
       "      <th>perf_grp_precision_0</th>\n",
       "      <th>perf_grp_precision_1</th>\n",
       "      <th>perf_grp_false positive rate_0</th>\n",
       "      <th>perf_grp_false positive rate_1</th>\n",
       "      <th>perf_grp_false negative rate_0</th>\n",
       "      <th>perf_grp_false negative rate_1</th>\n",
       "      <th>perf_grp_selection rate_0</th>\n",
       "      <th>perf_grp_selection rate_1</th>\n",
       "      <th>perf_grp_count_0</th>\n",
       "      <th>perf_grp_count_1</th>\n",
       "    </tr>\n",
       "  </thead>\n",
       "  <tbody>\n",
       "    <tr>\n",
       "      <th>0</th>\n",
       "      <td>15</td>\n",
       "      <td>85265727b818115f33f026287ad609cf</td>\n",
       "      <td>{\"cutoff\": \"quantile_0.1\", \"eval_fairness_grou...</td>\n",
       "      <td>32.641202</td>\n",
       "      <td>89710</td>\n",
       "      <td>1.0</td>\n",
       "      <td>0.064551</td>\n",
       "      <td>0.929586</td>\n",
       "      <td>0.064943</td>\n",
       "      <td>0.929896</td>\n",
       "      <td>...</td>\n",
       "      <td>NaN</td>\n",
       "      <td>NaN</td>\n",
       "      <td>NaN</td>\n",
       "      <td>NaN</td>\n",
       "      <td>NaN</td>\n",
       "      <td>NaN</td>\n",
       "      <td>NaN</td>\n",
       "      <td>NaN</td>\n",
       "      <td>NaN</td>\n",
       "      <td>NaN</td>\n",
       "    </tr>\n",
       "    <tr>\n",
       "      <th>0</th>\n",
       "      <td>15</td>\n",
       "      <td>85265727b818115f33f026287ad609cf</td>\n",
       "      <td>{\"cutoff\": \"quantile_0.1\", \"eval_fairness_grou...</td>\n",
       "      <td>32.641202</td>\n",
       "      <td>89710</td>\n",
       "      <td>1.0</td>\n",
       "      <td>0.064551</td>\n",
       "      <td>0.929586</td>\n",
       "      <td>0.064943</td>\n",
       "      <td>0.929896</td>\n",
       "      <td>...</td>\n",
       "      <td>0.124788</td>\n",
       "      <td>0.141172</td>\n",
       "      <td>0.852190</td>\n",
       "      <td>0.916742</td>\n",
       "      <td>0.067568</td>\n",
       "      <td>0.010284</td>\n",
       "      <td>0.861441</td>\n",
       "      <td>0.926384</td>\n",
       "      <td>20540.0</td>\n",
       "      <td>69170.0</td>\n",
       "    </tr>\n",
       "    <tr>\n",
       "      <th>0</th>\n",
       "      <td>15</td>\n",
       "      <td>85265727b818115f33f026287ad609cf</td>\n",
       "      <td>{\"cutoff\": \"quantile_0.25\", \"eval_fairness_gro...</td>\n",
       "      <td>32.641202</td>\n",
       "      <td>89710</td>\n",
       "      <td>1.0</td>\n",
       "      <td>0.113993</td>\n",
       "      <td>0.879758</td>\n",
       "      <td>0.081981</td>\n",
       "      <td>0.893363</td>\n",
       "      <td>...</td>\n",
       "      <td>NaN</td>\n",
       "      <td>NaN</td>\n",
       "      <td>NaN</td>\n",
       "      <td>NaN</td>\n",
       "      <td>NaN</td>\n",
       "      <td>NaN</td>\n",
       "      <td>NaN</td>\n",
       "      <td>NaN</td>\n",
       "      <td>NaN</td>\n",
       "      <td>NaN</td>\n",
       "    </tr>\n",
       "    <tr>\n",
       "      <th>0</th>\n",
       "      <td>15</td>\n",
       "      <td>85265727b818115f33f026287ad609cf</td>\n",
       "      <td>{\"cutoff\": \"quantile_0.25\", \"eval_fairness_gro...</td>\n",
       "      <td>32.641202</td>\n",
       "      <td>89710</td>\n",
       "      <td>1.0</td>\n",
       "      <td>0.113993</td>\n",
       "      <td>0.879758</td>\n",
       "      <td>0.081981</td>\n",
       "      <td>0.893363</td>\n",
       "      <td>...</td>\n",
       "      <td>0.140001</td>\n",
       "      <td>0.162946</td>\n",
       "      <td>0.667621</td>\n",
       "      <td>0.741496</td>\n",
       "      <td>0.165963</td>\n",
       "      <td>0.051969</td>\n",
       "      <td>0.686806</td>\n",
       "      <td>0.768787</td>\n",
       "      <td>20540.0</td>\n",
       "      <td>69170.0</td>\n",
       "    </tr>\n",
       "  </tbody>\n",
       "</table>\n",
       "<p>4 rows × 50 columns</p>\n",
       "</div>"
      ],
      "text/plain": [
       "  run_no                       universe_id  \\\n",
       "0     15  85265727b818115f33f026287ad609cf   \n",
       "0     15  85265727b818115f33f026287ad609cf   \n",
       "0     15  85265727b818115f33f026287ad609cf   \n",
       "0     15  85265727b818115f33f026287ad609cf   \n",
       "\n",
       "                                   universe_settings  execution_time  \\\n",
       "0  {\"cutoff\": \"quantile_0.1\", \"eval_fairness_grou...       32.641202   \n",
       "0  {\"cutoff\": \"quantile_0.1\", \"eval_fairness_grou...       32.641202   \n",
       "0  {\"cutoff\": \"quantile_0.25\", \"eval_fairness_gro...       32.641202   \n",
       "0  {\"cutoff\": \"quantile_0.25\", \"eval_fairness_gro...       32.641202   \n",
       "\n",
       "   test_size_n  test_size_frac  fair_main_equalized_odds_difference  \\\n",
       "0        89710             1.0                             0.064551   \n",
       "0        89710             1.0                             0.064551   \n",
       "0        89710             1.0                             0.113993   \n",
       "0        89710             1.0                             0.113993   \n",
       "\n",
       "   fair_main_equalized_odds_ratio  fair_main_demographic_parity_difference  \\\n",
       "0                        0.929586                                 0.064943   \n",
       "0                        0.929586                                 0.064943   \n",
       "0                        0.879758                                 0.081981   \n",
       "0                        0.879758                                 0.081981   \n",
       "\n",
       "   fair_main_demographic_parity_ratio  ...  perf_grp_precision_0  \\\n",
       "0                            0.929896  ...                   NaN   \n",
       "0                            0.929896  ...              0.124788   \n",
       "0                            0.893363  ...                   NaN   \n",
       "0                            0.893363  ...              0.140001   \n",
       "\n",
       "   perf_grp_precision_1  perf_grp_false positive rate_0  \\\n",
       "0                   NaN                             NaN   \n",
       "0              0.141172                        0.852190   \n",
       "0                   NaN                             NaN   \n",
       "0              0.162946                        0.667621   \n",
       "\n",
       "   perf_grp_false positive rate_1  perf_grp_false negative rate_0  \\\n",
       "0                             NaN                             NaN   \n",
       "0                        0.916742                        0.067568   \n",
       "0                             NaN                             NaN   \n",
       "0                        0.741496                        0.165963   \n",
       "\n",
       "   perf_grp_false negative rate_1  perf_grp_selection rate_0  \\\n",
       "0                             NaN                        NaN   \n",
       "0                        0.010284                   0.861441   \n",
       "0                             NaN                        NaN   \n",
       "0                        0.051969                   0.686806   \n",
       "\n",
       "   perf_grp_selection rate_1  perf_grp_count_0  perf_grp_count_1  \n",
       "0                        NaN               NaN               NaN  \n",
       "0                   0.926384           20540.0           69170.0  \n",
       "0                        NaN               NaN               NaN  \n",
       "0                   0.768787           20540.0           69170.0  \n",
       "\n",
       "[4 rows x 50 columns]"
      ]
     },
     "execution_count": 66,
     "metadata": {},
     "output_type": "execute_result"
    }
   ],
   "source": [
    "final_output = universe_analysis.generate_final_output(\n",
    "    y_pred_prob=probs_test,\n",
    "    y_test=y_true,\n",
    "    org_test=org_test,\n",
    "    filter_data=filter_sub_universe_data,\n",
    "    cp_metrics_df=cp_metrics_df,\n",
    "    save=True,\n",
    ")\n",
    "final_output"
   ]
  }
 ],
 "metadata": {
  "celltoolbar": "Tags",
  "kernelspec": {
   "display_name": "Python (CMA Fairness)",
   "language": "python",
   "name": "cma_fair_env"
  },
  "language_info": {
   "codemirror_mode": {
    "name": "ipython",
    "version": 3
   },
   "file_extension": ".py",
   "mimetype": "text/x-python",
   "name": "python",
   "nbconvert_exporter": "python",
   "pygments_lexer": "ipython3",
   "version": "3.10.12"
  },
  "papermill": {
   "default_parameters": {},
   "duration": 44.534641,
   "end_time": "2025-08-05T15:37:37.014457",
   "environment_variables": {},
   "exception": null,
   "input_path": "universe_analysis.ipynb",
   "output_path": "output/runs/15/notebooks/m_15-85265727b818115f33f026287ad609cf.ipynb",
   "parameters": {
    "output_dir": "output",
    "run_no": "15",
    "seed": "2023",
    "universe": "{\"cutoff\": [\"quantile_0.1\", \"quantile_0.25\"], \"eval_fairness_grouping\": [\"majority-minority\", \"nationality-all\"], \"exclude_features\": \"sex\", \"exclude_subgroups\": \"keep-all\", \"model\": \"rf\", \"scale\": \"scale\", \"training_size\": \"5k\", \"training_year\": \"2012_14\"}",
    "universe_id": "85265727b818115f33f026287ad609cf"
   },
   "start_time": "2025-08-05T15:36:52.479816",
   "version": "2.6.0"
  }
 },
 "nbformat": 4,
 "nbformat_minor": 5
}