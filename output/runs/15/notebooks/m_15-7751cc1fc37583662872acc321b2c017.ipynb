{
 "cells": [
  {
   "cell_type": "code",
   "execution_count": 1,
   "id": "f159f837-637b-42ba-96b5-ec9a68c44524",
   "metadata": {
    "execution": {
     "iopub.execute_input": "2025-08-05T14:55:14.140343Z",
     "iopub.status.busy": "2025-08-05T14:55:14.139367Z",
     "iopub.status.idle": "2025-08-05T14:55:14.153005Z",
     "shell.execute_reply": "2025-08-05T14:55:14.151986Z"
    },
    "papermill": {
     "duration": 0.034567,
     "end_time": "2025-08-05T14:55:14.154753",
     "exception": false,
     "start_time": "2025-08-05T14:55:14.120186",
     "status": "completed"
    },
    "tags": []
   },
   "outputs": [
    {
     "name": "stdout",
     "output_type": "stream",
     "text": [
      "/dss/dsshome1/0C/ra93lal2/cma/CMA_Fairness_v2\n"
     ]
    },
    {
     "name": "stderr",
     "output_type": "stream",
     "text": [
      "/dss/dsshome1/0C/ra93lal2/.local/share/virtualenvs/CMA_Fairness_v2-3j10GkSs/lib/python3.10/site-packages/IPython/core/magics/osm.py:393: UserWarning: This is now an optional IPython functionality, using bookmarks requires you to install the `pickleshare` library.\n",
      "  bkms = self.shell.db.get('bookmarks', {})\n",
      "/dss/dsshome1/0C/ra93lal2/.local/share/virtualenvs/CMA_Fairness_v2-3j10GkSs/lib/python3.10/site-packages/IPython/core/magics/osm.py:417: UserWarning: This is now an optional IPython functionality, setting dhist requires you to install the `pickleshare` library.\n",
      "  self.shell.db['dhist'] = compress_dhist(dhist)[-100:]\n"
     ]
    }
   ],
   "source": [
    "%cd ~/cma/CMA_Fairness_v2"
   ]
  },
  {
   "cell_type": "markdown",
   "id": "de2603b9",
   "metadata": {
    "papermill": {
     "duration": 0.017262,
     "end_time": "2025-08-05T14:55:14.189350",
     "exception": false,
     "start_time": "2025-08-05T14:55:14.172088",
     "status": "completed"
    },
    "tags": []
   },
   "source": [
    "The following cell holds the definition of our parameters, these values can be overriden by rendering the with e.g. the following command:\n",
    "\n",
    "papermill -p alpha 0.2 -p ratio 0.3 universe_analysis.ipynb output/test_run.ipynb"
   ]
  },
  {
   "cell_type": "code",
   "execution_count": 2,
   "id": "a80968a0-40bb-4fa9-85ef-2d5eefb01975",
   "metadata": {
    "execution": {
     "iopub.execute_input": "2025-08-05T14:55:14.226179Z",
     "iopub.status.busy": "2025-08-05T14:55:14.225139Z",
     "iopub.status.idle": "2025-08-05T14:55:14.231288Z",
     "shell.execute_reply": "2025-08-05T14:55:14.230046Z"
    },
    "papermill": {
     "duration": 0.026391,
     "end_time": "2025-08-05T14:55:14.233029",
     "exception": false,
     "start_time": "2025-08-05T14:55:14.206638",
     "status": "completed"
    },
    "tags": []
   },
   "outputs": [
    {
     "name": "stdout",
     "output_type": "stream",
     "text": [
      "Current working directory: /dss/dsshome1/0C/ra93lal2/cma/CMA_Fairness_v2\n"
     ]
    }
   ],
   "source": [
    "import os\n",
    "print(\"Current working directory:\", os.getcwd())"
   ]
  },
  {
   "cell_type": "code",
   "execution_count": 3,
   "id": "2dce4c03",
   "metadata": {
    "execution": {
     "iopub.execute_input": "2025-08-05T14:55:14.270707Z",
     "iopub.status.busy": "2025-08-05T14:55:14.270250Z",
     "iopub.status.idle": "2025-08-05T14:55:14.276727Z",
     "shell.execute_reply": "2025-08-05T14:55:14.275708Z"
    },
    "papermill": {
     "duration": 0.026966,
     "end_time": "2025-08-05T14:55:14.278475",
     "exception": false,
     "start_time": "2025-08-05T14:55:14.251509",
     "status": "completed"
    },
    "tags": [
     "parameters"
    ]
   },
   "outputs": [],
   "source": [
    "run_no = 0\n",
    "universe_id = \"test\"\n",
    "universe = {\n",
    "    \"training_size\": \"25k\", # \"25k\", \"5k\", \"1k\"\n",
    "    \"training_year\": \"2014\", # \"2014\", \"2012_14\", \"2010_14\"\n",
    "    \"scale\": \"scale\", # \"scale\", \"do-not-scale\",\n",
    "    \"model\": \"elasticnet\", # \"logreg\", \"penalized_logreg\", \"rf\", \"gbm\", \"elasticnet\"\n",
    "    \"cutoff\": [\"quantile_0.15\", \"quantile_0.30\"],\n",
    "    \"exclude_features\": \"age\", # \"none\", \"nationality\", \"sex\", \"nationality-sex\", \"age\"\n",
    "    \"exclude_subgroups\": \"keep-all\", # \"keep-all\", \"drop-non-german\"\n",
    "    \"eval_fairness_grouping\": [\"majority-minority\", \"nationality-all\"]\n",
    "}\n",
    "\n",
    "output_dir=\"./output\"\n",
    "seed=0"
   ]
  },
  {
   "cell_type": "code",
   "execution_count": 4,
   "id": "6b825a25",
   "metadata": {
    "execution": {
     "iopub.execute_input": "2025-08-05T14:55:14.317646Z",
     "iopub.status.busy": "2025-08-05T14:55:14.317106Z",
     "iopub.status.idle": "2025-08-05T14:55:14.323034Z",
     "shell.execute_reply": "2025-08-05T14:55:14.322065Z"
    },
    "papermill": {
     "duration": 0.027491,
     "end_time": "2025-08-05T14:55:14.324760",
     "exception": false,
     "start_time": "2025-08-05T14:55:14.297269",
     "status": "completed"
    },
    "tags": [
     "injected-parameters"
    ]
   },
   "outputs": [],
   "source": [
    "# Parameters\n",
    "universe_id = \"7751cc1fc37583662872acc321b2c017\"\n",
    "run_no = \"15\"\n",
    "universe = \"{\\\"cutoff\\\": [\\\"quantile_0.1\\\", \\\"quantile_0.25\\\"], \\\"eval_fairness_grouping\\\": [\\\"majority-minority\\\", \\\"nationality-all\\\"], \\\"exclude_features\\\": \\\"nationality-sex\\\", \\\"exclude_subgroups\\\": \\\"keep-all\\\", \\\"model\\\": \\\"elasticnet\\\", \\\"scale\\\": \\\"scale\\\", \\\"training_size\\\": \\\"25k\\\", \\\"training_year\\\": \\\"2012_14\\\"}\"\n",
    "output_dir = \"output\"\n",
    "seed = \"2023\"\n"
   ]
  },
  {
   "cell_type": "code",
   "execution_count": 5,
   "id": "1650acaf",
   "metadata": {
    "execution": {
     "iopub.execute_input": "2025-08-05T14:55:14.362834Z",
     "iopub.status.busy": "2025-08-05T14:55:14.362268Z",
     "iopub.status.idle": "2025-08-05T14:55:14.367768Z",
     "shell.execute_reply": "2025-08-05T14:55:14.366770Z"
    },
    "papermill": {
     "duration": 0.026024,
     "end_time": "2025-08-05T14:55:14.369248",
     "exception": false,
     "start_time": "2025-08-05T14:55:14.343224",
     "status": "completed"
    },
    "tags": []
   },
   "outputs": [],
   "source": [
    "import json\n",
    "if isinstance(universe, str):\n",
    "    universe = json.loads(universe)"
   ]
  },
  {
   "cell_type": "code",
   "execution_count": 6,
   "id": "16620c48",
   "metadata": {
    "execution": {
     "iopub.execute_input": "2025-08-05T14:55:14.407805Z",
     "iopub.status.busy": "2025-08-05T14:55:14.407300Z",
     "iopub.status.idle": "2025-08-05T14:55:14.452568Z",
     "shell.execute_reply": "2025-08-05T14:55:14.451647Z"
    },
    "papermill": {
     "duration": 0.066574,
     "end_time": "2025-08-05T14:55:14.454497",
     "exception": false,
     "start_time": "2025-08-05T14:55:14.387923",
     "status": "completed"
    },
    "tags": []
   },
   "outputs": [],
   "source": [
    "# Auto-reload the custom package\n",
    "%load_ext autoreload\n",
    "%autoreload 1\n",
    "%aimport fairness_multiverse"
   ]
  },
  {
   "cell_type": "code",
   "execution_count": 7,
   "id": "01c5c9f3",
   "metadata": {
    "execution": {
     "iopub.execute_input": "2025-08-05T14:55:14.491831Z",
     "iopub.status.busy": "2025-08-05T14:55:14.491182Z",
     "iopub.status.idle": "2025-08-05T14:55:16.421601Z",
     "shell.execute_reply": "2025-08-05T14:55:16.420652Z"
    },
    "papermill": {
     "duration": 1.951339,
     "end_time": "2025-08-05T14:55:16.423552",
     "exception": false,
     "start_time": "2025-08-05T14:55:14.472213",
     "status": "completed"
    },
    "tags": []
   },
   "outputs": [],
   "source": [
    "from fairness_multiverse.universe import UniverseAnalysis\n",
    "\n",
    "universe_analysis = UniverseAnalysis(\n",
    "    run_no = run_no,\n",
    "    universe_id = universe_id,\n",
    "    universe = universe,\n",
    "    output_dir=output_dir,\n",
    ")"
   ]
  },
  {
   "cell_type": "code",
   "execution_count": 8,
   "id": "106241f5",
   "metadata": {
    "execution": {
     "iopub.execute_input": "2025-08-05T14:55:16.457158Z",
     "iopub.status.busy": "2025-08-05T14:55:16.456320Z",
     "iopub.status.idle": "2025-08-05T14:55:16.462511Z",
     "shell.execute_reply": "2025-08-05T14:55:16.461553Z"
    },
    "papermill": {
     "duration": 0.024386,
     "end_time": "2025-08-05T14:55:16.464412",
     "exception": false,
     "start_time": "2025-08-05T14:55:16.440026",
     "status": "completed"
    },
    "tags": []
   },
   "outputs": [
    {
     "name": "stdout",
     "output_type": "stream",
     "text": [
      "Using Seed: 2023\n"
     ]
    }
   ],
   "source": [
    "import numpy as np\n",
    "parsed_seed = int(seed)\n",
    "np.random.seed(parsed_seed)\n",
    "print(f\"Using Seed: {parsed_seed}\")"
   ]
  },
  {
   "cell_type": "markdown",
   "id": "e0ebdc57",
   "metadata": {
    "papermill": {
     "duration": 0.017416,
     "end_time": "2025-08-05T14:55:16.500393",
     "exception": false,
     "start_time": "2025-08-05T14:55:16.482977",
     "status": "completed"
    },
    "tags": []
   },
   "source": [
    "# Loading Data"
   ]
  },
  {
   "cell_type": "code",
   "execution_count": 9,
   "id": "f0496b8a",
   "metadata": {
    "execution": {
     "iopub.execute_input": "2025-08-05T14:55:16.535607Z",
     "iopub.status.busy": "2025-08-05T14:55:16.535123Z",
     "iopub.status.idle": "2025-08-05T14:55:28.651653Z",
     "shell.execute_reply": "2025-08-05T14:55:28.650291Z"
    },
    "papermill": {
     "duration": 12.136096,
     "end_time": "2025-08-05T14:55:28.653365",
     "exception": false,
     "start_time": "2025-08-05T14:55:16.517269",
     "status": "completed"
    },
    "tags": []
   },
   "outputs": [
    {
     "name": "stdout",
     "output_type": "stream",
     "text": [
      "Loading SIAB data from cache: data/siab_cached.csv.gz\n"
     ]
    },
    {
     "name": "stdout",
     "output_type": "stream",
     "text": [
      "(643690, 164)\n"
     ]
    }
   ],
   "source": [
    "from pathlib import Path\n",
    "import pandas as pd\n",
    "\n",
    "# File paths\n",
    "raw_file = Path(\"data/raw/siab.csv\")\n",
    "cache_file = Path(\"data/siab_cached.csv.gz\")\n",
    "\n",
    "# Ensure cache directory exists\n",
    "cache_file.parent.mkdir(parents=True, exist_ok=True)\n",
    "\n",
    "# Load with simple caching\n",
    "if cache_file.exists():\n",
    "    print(f\"Loading SIAB data from cache: {cache_file}\")\n",
    "    siab = pd.read_csv(cache_file, compression='gzip')\n",
    "else:\n",
    "    print(f\"Cache not found. Reading raw SIAB data: {raw_file}\")\n",
    "    siab = pd.read_csv(raw_file)\n",
    "    siab.to_csv(cache_file, index=False, compression='gzip')\n",
    "    print(f\"Cached SIAB data to: {cache_file}\")\n",
    "\n",
    "print(siab.shape)"
   ]
  },
  {
   "cell_type": "code",
   "execution_count": 10,
   "id": "db0ca512-5f53-4dba-abdb-a2888bca41ba",
   "metadata": {
    "execution": {
     "iopub.execute_input": "2025-08-05T14:55:28.688844Z",
     "iopub.status.busy": "2025-08-05T14:55:28.688407Z",
     "iopub.status.idle": "2025-08-05T14:55:28.693680Z",
     "shell.execute_reply": "2025-08-05T14:55:28.692620Z"
    },
    "papermill": {
     "duration": 0.023543,
     "end_time": "2025-08-05T14:55:28.695404",
     "exception": false,
     "start_time": "2025-08-05T14:55:28.671861",
     "status": "completed"
    },
    "tags": []
   },
   "outputs": [],
   "source": [
    "#siab"
   ]
  },
  {
   "cell_type": "markdown",
   "id": "997051c5-15bd-4b69-9786-c3001a3ce484",
   "metadata": {
    "papermill": {
     "duration": 0.015491,
     "end_time": "2025-08-05T14:55:28.727000",
     "exception": false,
     "start_time": "2025-08-05T14:55:28.711509",
     "status": "completed"
    },
    "tags": []
   },
   "source": [
    "# Splitting Data and Setting Training Data Size"
   ]
  },
  {
   "cell_type": "code",
   "execution_count": 11,
   "id": "aea9c6ef-6f46-42c8-85eb-5a62025c1508",
   "metadata": {
    "execution": {
     "iopub.execute_input": "2025-08-05T14:55:28.759442Z",
     "iopub.status.busy": "2025-08-05T14:55:28.758815Z",
     "iopub.status.idle": "2025-08-05T14:55:29.414088Z",
     "shell.execute_reply": "2025-08-05T14:55:29.413163Z"
    },
    "papermill": {
     "duration": 0.673479,
     "end_time": "2025-08-05T14:55:29.415922",
     "exception": false,
     "start_time": "2025-08-05T14:55:28.742443",
     "status": "completed"
    },
    "tags": []
   },
   "outputs": [],
   "source": [
    "from fairness_multiverse.universe import sample_by_year_size\n",
    "\n",
    "siab_train = sample_by_year_size(siab,\n",
    "                               training_year=universe[\"training_year\"],\n",
    "                               training_size=universe[\"training_size\"])"
   ]
  },
  {
   "cell_type": "code",
   "execution_count": 12,
   "id": "8d3afb32-789d-442c-8d5d-9f5aa8dd2eed",
   "metadata": {
    "execution": {
     "iopub.execute_input": "2025-08-05T14:55:29.454292Z",
     "iopub.status.busy": "2025-08-05T14:55:29.453699Z",
     "iopub.status.idle": "2025-08-05T14:55:29.458710Z",
     "shell.execute_reply": "2025-08-05T14:55:29.457761Z"
    },
    "papermill": {
     "duration": 0.02502,
     "end_time": "2025-08-05T14:55:29.460455",
     "exception": false,
     "start_time": "2025-08-05T14:55:29.435435",
     "status": "completed"
    },
    "tags": []
   },
   "outputs": [],
   "source": [
    "#siab_train.shape"
   ]
  },
  {
   "cell_type": "code",
   "execution_count": 13,
   "id": "d582db68-1a4c-47fb-84fc-08518dc1975a",
   "metadata": {
    "execution": {
     "iopub.execute_input": "2025-08-05T14:55:29.494214Z",
     "iopub.status.busy": "2025-08-05T14:55:29.493561Z",
     "iopub.status.idle": "2025-08-05T14:55:29.498467Z",
     "shell.execute_reply": "2025-08-05T14:55:29.497487Z"
    },
    "papermill": {
     "duration": 0.02306,
     "end_time": "2025-08-05T14:55:29.500125",
     "exception": false,
     "start_time": "2025-08-05T14:55:29.477065",
     "status": "completed"
    },
    "tags": []
   },
   "outputs": [],
   "source": [
    "#display(siab_train.groupby(\"year\").size())"
   ]
  },
  {
   "cell_type": "code",
   "execution_count": 14,
   "id": "a561edb4-d032-42cb-8256-22eac1111c64",
   "metadata": {
    "execution": {
     "iopub.execute_input": "2025-08-05T14:55:29.534218Z",
     "iopub.status.busy": "2025-08-05T14:55:29.533434Z",
     "iopub.status.idle": "2025-08-05T14:55:29.791521Z",
     "shell.execute_reply": "2025-08-05T14:55:29.790539Z"
    },
    "papermill": {
     "duration": 0.276516,
     "end_time": "2025-08-05T14:55:29.793262",
     "exception": false,
     "start_time": "2025-08-05T14:55:29.516746",
     "status": "completed"
    },
    "tags": []
   },
   "outputs": [],
   "source": [
    "#siab_train = siab_s[siab_s.year < 2015]\n",
    "siab_calib = siab[siab.year == 2015]\n",
    "siab_test = siab[siab.year == 2016]"
   ]
  },
  {
   "cell_type": "code",
   "execution_count": 15,
   "id": "472de16f-c3db-4916-846b-1f0de9cf1746",
   "metadata": {
    "execution": {
     "iopub.execute_input": "2025-08-05T14:55:29.830561Z",
     "iopub.status.busy": "2025-08-05T14:55:29.829923Z",
     "iopub.status.idle": "2025-08-05T14:55:29.844945Z",
     "shell.execute_reply": "2025-08-05T14:55:29.843598Z"
    },
    "papermill": {
     "duration": 0.035393,
     "end_time": "2025-08-05T14:55:29.846877",
     "exception": false,
     "start_time": "2025-08-05T14:55:29.811484",
     "status": "completed"
    },
    "tags": []
   },
   "outputs": [],
   "source": [
    "X_train = siab_train.iloc[:,4:164]\n",
    "y_train = siab_train.iloc[:, [3]]"
   ]
  },
  {
   "cell_type": "code",
   "execution_count": 16,
   "id": "828c96af-f43a-4ed6-ba47-8ac73a47d56c",
   "metadata": {
    "execution": {
     "iopub.execute_input": "2025-08-05T14:55:29.888319Z",
     "iopub.status.busy": "2025-08-05T14:55:29.887668Z",
     "iopub.status.idle": "2025-08-05T14:55:29.939317Z",
     "shell.execute_reply": "2025-08-05T14:55:29.938178Z"
    },
    "papermill": {
     "duration": 0.074007,
     "end_time": "2025-08-05T14:55:29.941242",
     "exception": false,
     "start_time": "2025-08-05T14:55:29.867235",
     "status": "completed"
    },
    "tags": []
   },
   "outputs": [],
   "source": [
    "X_calib = siab_calib.iloc[:,4:164]\n",
    "y_calib = siab_calib.iloc[:, [3]]"
   ]
  },
  {
   "cell_type": "code",
   "execution_count": 17,
   "id": "c34be9c3-6bd6-476e-acd3-845840e303be",
   "metadata": {
    "execution": {
     "iopub.execute_input": "2025-08-05T14:55:29.981481Z",
     "iopub.status.busy": "2025-08-05T14:55:29.981033Z",
     "iopub.status.idle": "2025-08-05T14:55:30.030961Z",
     "shell.execute_reply": "2025-08-05T14:55:30.029906Z"
    },
    "papermill": {
     "duration": 0.071897,
     "end_time": "2025-08-05T14:55:30.032750",
     "exception": false,
     "start_time": "2025-08-05T14:55:29.960853",
     "status": "completed"
    },
    "tags": []
   },
   "outputs": [],
   "source": [
    "X_test = siab_test.iloc[:,4:164]\n",
    "y_true = siab_test.iloc[:, [3]]"
   ]
  },
  {
   "cell_type": "code",
   "execution_count": 18,
   "id": "e6c733c5",
   "metadata": {
    "execution": {
     "iopub.execute_input": "2025-08-05T14:55:30.067648Z",
     "iopub.status.busy": "2025-08-05T14:55:30.067058Z",
     "iopub.status.idle": "2025-08-05T14:55:30.169572Z",
     "shell.execute_reply": "2025-08-05T14:55:30.168566Z"
    },
    "papermill": {
     "duration": 0.12123,
     "end_time": "2025-08-05T14:55:30.171404",
     "exception": false,
     "start_time": "2025-08-05T14:55:30.050174",
     "status": "completed"
    },
    "tags": []
   },
   "outputs": [],
   "source": [
    "# Auxiliary data needed downstream in the pipeline\n",
    "\n",
    "org_train = X_train.copy()\n",
    "org_test = X_test.copy()\n",
    "org_calib = X_calib.copy()"
   ]
  },
  {
   "cell_type": "markdown",
   "id": "0a4a1b33",
   "metadata": {
    "papermill": {
     "duration": 0.015744,
     "end_time": "2025-08-05T14:55:30.203641",
     "exception": false,
     "start_time": "2025-08-05T14:55:30.187897",
     "status": "completed"
    },
    "tags": []
   },
   "source": [
    "# Preprocessing Data"
   ]
  },
  {
   "cell_type": "code",
   "execution_count": 19,
   "id": "ca879031",
   "metadata": {
    "execution": {
     "iopub.execute_input": "2025-08-05T14:55:30.237122Z",
     "iopub.status.busy": "2025-08-05T14:55:30.236493Z",
     "iopub.status.idle": "2025-08-05T14:55:30.243500Z",
     "shell.execute_reply": "2025-08-05T14:55:30.242521Z"
    },
    "papermill": {
     "duration": 0.025577,
     "end_time": "2025-08-05T14:55:30.245167",
     "exception": false,
     "start_time": "2025-08-05T14:55:30.219590",
     "status": "completed"
    },
    "tags": []
   },
   "outputs": [],
   "source": [
    "# EXCLUDE PROTECTED FEATURES\n",
    "# ----------------------\n",
    "# \"exclude_features\": \"none\", # \"nationality\", \"sex\", \"nationality-sex\"\n",
    "\n",
    "excluded_features = universe[\"exclude_features\"].split(\"-\") # split, e.g.: \"nationality-sex\" -> [\"nationality\", \"sex\"]\n",
    "excluded_features_dictionary = {\n",
    "    \"nationality\": [\"maxdeutsch1\", \"maxdeutsch.Missing.\"],\n",
    "    \"sex\": [\"frau1\"],\n",
    "    \"age\": [\"age\"],\n",
    "}"
   ]
  },
  {
   "cell_type": "code",
   "execution_count": 20,
   "id": "b745ac60",
   "metadata": {
    "execution": {
     "iopub.execute_input": "2025-08-05T14:55:30.279603Z",
     "iopub.status.busy": "2025-08-05T14:55:30.278835Z",
     "iopub.status.idle": "2025-08-05T14:55:30.284304Z",
     "shell.execute_reply": "2025-08-05T14:55:30.283368Z"
    },
    "papermill": {
     "duration": 0.024036,
     "end_time": "2025-08-05T14:55:30.286137",
     "exception": false,
     "start_time": "2025-08-05T14:55:30.262101",
     "status": "completed"
    },
    "tags": []
   },
   "outputs": [],
   "source": [
    "# Code nice names to column names\n",
    "\n",
    "excluded_features_columns = [\n",
    "    excluded_features_dictionary[f] for f in excluded_features if len(f) > 0 and f != \"none\"\n",
    "]"
   ]
  },
  {
   "cell_type": "code",
   "execution_count": 21,
   "id": "f84f73a2",
   "metadata": {
    "execution": {
     "iopub.execute_input": "2025-08-05T14:55:30.326897Z",
     "iopub.status.busy": "2025-08-05T14:55:30.326573Z",
     "iopub.status.idle": "2025-08-05T14:55:30.332724Z",
     "shell.execute_reply": "2025-08-05T14:55:30.331660Z"
    },
    "papermill": {
     "duration": 0.02829,
     "end_time": "2025-08-05T14:55:30.334593",
     "exception": false,
     "start_time": "2025-08-05T14:55:30.306303",
     "status": "completed"
    },
    "tags": []
   },
   "outputs": [],
   "source": [
    "from utils import flatten_once\n",
    "\n",
    "excluded_features_columns = flatten_once(excluded_features_columns)"
   ]
  },
  {
   "cell_type": "code",
   "execution_count": 22,
   "id": "884dea22",
   "metadata": {
    "execution": {
     "iopub.execute_input": "2025-08-05T14:55:30.375867Z",
     "iopub.status.busy": "2025-08-05T14:55:30.375157Z",
     "iopub.status.idle": "2025-08-05T14:55:30.390656Z",
     "shell.execute_reply": "2025-08-05T14:55:30.389451Z"
    },
    "papermill": {
     "duration": 0.037134,
     "end_time": "2025-08-05T14:55:30.392873",
     "exception": false,
     "start_time": "2025-08-05T14:55:30.355739",
     "status": "completed"
    },
    "tags": []
   },
   "outputs": [
    {
     "name": "stdout",
     "output_type": "stream",
     "text": [
      "Dropping features: ['maxdeutsch1', 'maxdeutsch.Missing.', 'frau1']\n"
     ]
    }
   ],
   "source": [
    "if len(excluded_features_columns) > 0:\n",
    "    print(f\"Dropping features: {excluded_features_columns}\")\n",
    "    X_train.drop(excluded_features_columns, axis=1, inplace=True)"
   ]
  },
  {
   "cell_type": "code",
   "execution_count": 23,
   "id": "95ab8b16",
   "metadata": {
    "execution": {
     "iopub.execute_input": "2025-08-05T14:55:30.434116Z",
     "iopub.status.busy": "2025-08-05T14:55:30.433312Z",
     "iopub.status.idle": "2025-08-05T14:55:30.489370Z",
     "shell.execute_reply": "2025-08-05T14:55:30.488303Z"
    },
    "papermill": {
     "duration": 0.076994,
     "end_time": "2025-08-05T14:55:30.491236",
     "exception": false,
     "start_time": "2025-08-05T14:55:30.414242",
     "status": "completed"
    },
    "tags": []
   },
   "outputs": [
    {
     "name": "stdout",
     "output_type": "stream",
     "text": [
      "Dropping features: ['maxdeutsch1', 'maxdeutsch.Missing.', 'frau1']\n"
     ]
    }
   ],
   "source": [
    "if len(excluded_features_columns) > 0:\n",
    "    print(f\"Dropping features: {excluded_features_columns}\")\n",
    "    X_test.drop(excluded_features_columns, axis=1, inplace=True)"
   ]
  },
  {
   "cell_type": "code",
   "execution_count": 24,
   "id": "1853aaf5-fb9f-46cb-a2b5-8ea4ae2237e4",
   "metadata": {
    "execution": {
     "iopub.execute_input": "2025-08-05T14:55:30.531565Z",
     "iopub.status.busy": "2025-08-05T14:55:30.530983Z",
     "iopub.status.idle": "2025-08-05T14:55:30.582113Z",
     "shell.execute_reply": "2025-08-05T14:55:30.580973Z"
    },
    "papermill": {
     "duration": 0.074959,
     "end_time": "2025-08-05T14:55:30.586600",
     "exception": false,
     "start_time": "2025-08-05T14:55:30.511641",
     "status": "completed"
    },
    "tags": []
   },
   "outputs": [
    {
     "name": "stdout",
     "output_type": "stream",
     "text": [
      "Dropping features: ['maxdeutsch1', 'maxdeutsch.Missing.', 'frau1']\n"
     ]
    }
   ],
   "source": [
    "if len(excluded_features_columns) > 0:\n",
    "    print(f\"Dropping features: {excluded_features_columns}\")\n",
    "    X_calib.drop(excluded_features_columns, axis=1, inplace=True)"
   ]
  },
  {
   "cell_type": "code",
   "execution_count": 25,
   "id": "76c4dc6d",
   "metadata": {
    "execution": {
     "iopub.execute_input": "2025-08-05T14:55:30.622612Z",
     "iopub.status.busy": "2025-08-05T14:55:30.621981Z",
     "iopub.status.idle": "2025-08-05T14:55:30.627440Z",
     "shell.execute_reply": "2025-08-05T14:55:30.626615Z"
    },
    "papermill": {
     "duration": 0.025095,
     "end_time": "2025-08-05T14:55:30.629043",
     "exception": false,
     "start_time": "2025-08-05T14:55:30.603948",
     "status": "completed"
    },
    "tags": []
   },
   "outputs": [],
   "source": [
    "# EXCLUDE CERTAIN SUBGROUPS\n",
    "# ----------------------\n",
    "\n",
    "mode = universe.get(\"exclude_subgroups\", \"keep-all\") \n",
    "# Fetches the exclude_subgroups setting from the universe dict.\n",
    "# Defaults to \"keep-all\" if the key is missing."
   ]
  },
  {
   "cell_type": "code",
   "execution_count": 26,
   "id": "21994072",
   "metadata": {
    "execution": {
     "iopub.execute_input": "2025-08-05T14:55:30.665321Z",
     "iopub.status.busy": "2025-08-05T14:55:30.665016Z",
     "iopub.status.idle": "2025-08-05T14:55:30.671012Z",
     "shell.execute_reply": "2025-08-05T14:55:30.670043Z"
    },
    "papermill": {
     "duration": 0.025497,
     "end_time": "2025-08-05T14:55:30.672884",
     "exception": false,
     "start_time": "2025-08-05T14:55:30.647387",
     "status": "completed"
    },
    "tags": []
   },
   "outputs": [],
   "source": [
    "if mode == \"keep-all\":\n",
    "    keep_mask = pd.Series(True, index=org_train.index)\n",
    "\n",
    "# org_train contains the original feature columns from features_org (in Simson)\n",
    "# features_org contains unprocessed features, for me X_train at beginning ???\n",
    "# For keep-all, creates a boolean Series (keep_mask) of all True, so no rows are removed.\n",
    "\n",
    "elif mode == \"drop-non-german\":\n",
    "    keep_mask = org_train[\"maxdeutsch1\"] == 1 # ??? what about missing values?\n",
    "\n",
    "else:\n",
    "    raise ValueError(f\"Unsupported mode for exclude_subgroups: {mode}\")"
   ]
  },
  {
   "cell_type": "code",
   "execution_count": 27,
   "id": "71651440",
   "metadata": {
    "execution": {
     "iopub.execute_input": "2025-08-05T14:55:30.716612Z",
     "iopub.status.busy": "2025-08-05T14:55:30.716143Z",
     "iopub.status.idle": "2025-08-05T14:55:30.723860Z",
     "shell.execute_reply": "2025-08-05T14:55:30.722792Z"
    },
    "papermill": {
     "duration": 0.034034,
     "end_time": "2025-08-05T14:55:30.725759",
     "exception": false,
     "start_time": "2025-08-05T14:55:30.691725",
     "status": "completed"
    },
    "tags": []
   },
   "outputs": [],
   "source": [
    "n_drop = (~keep_mask).sum() # Calculates how many rows are set to be dropped\n",
    "if n_drop > 0:\n",
    "    pct = n_drop / len(keep_mask) * 100\n",
    "    print(f\"Dropping {n_drop} rows ({pct:.2f}%) where mode='{mode}'\")"
   ]
  },
  {
   "cell_type": "code",
   "execution_count": 28,
   "id": "5fb8eee5",
   "metadata": {
    "execution": {
     "iopub.execute_input": "2025-08-05T14:55:30.763535Z",
     "iopub.status.busy": "2025-08-05T14:55:30.762750Z",
     "iopub.status.idle": "2025-08-05T14:55:30.777961Z",
     "shell.execute_reply": "2025-08-05T14:55:30.776809Z"
    },
    "papermill": {
     "duration": 0.035727,
     "end_time": "2025-08-05T14:55:30.779946",
     "exception": false,
     "start_time": "2025-08-05T14:55:30.744219",
     "status": "completed"
    },
    "tags": []
   },
   "outputs": [],
   "source": [
    "X_train = X_train[keep_mask]"
   ]
  },
  {
   "cell_type": "code",
   "execution_count": 29,
   "id": "b202bb3a",
   "metadata": {
    "execution": {
     "iopub.execute_input": "2025-08-05T14:55:30.816917Z",
     "iopub.status.busy": "2025-08-05T14:55:30.816317Z",
     "iopub.status.idle": "2025-08-05T14:55:30.835026Z",
     "shell.execute_reply": "2025-08-05T14:55:30.834158Z"
    },
    "papermill": {
     "duration": 0.037936,
     "end_time": "2025-08-05T14:55:30.836503",
     "exception": false,
     "start_time": "2025-08-05T14:55:30.798567",
     "status": "completed"
    },
    "tags": []
   },
   "outputs": [],
   "source": [
    "y_train = y_train[keep_mask]"
   ]
  },
  {
   "cell_type": "markdown",
   "id": "493e2ac3",
   "metadata": {
    "papermill": {
     "duration": 0.018085,
     "end_time": "2025-08-05T14:55:30.872742",
     "exception": false,
     "start_time": "2025-08-05T14:55:30.854657",
     "status": "completed"
    },
    "tags": []
   },
   "source": [
    "# Model Training"
   ]
  },
  {
   "cell_type": "code",
   "execution_count": 30,
   "id": "679e1268",
   "metadata": {
    "execution": {
     "iopub.execute_input": "2025-08-05T14:55:30.910144Z",
     "iopub.status.busy": "2025-08-05T14:55:30.909391Z",
     "iopub.status.idle": "2025-08-05T14:55:31.012189Z",
     "shell.execute_reply": "2025-08-05T14:55:31.011319Z"
    },
    "papermill": {
     "duration": 0.122805,
     "end_time": "2025-08-05T14:55:31.013955",
     "exception": false,
     "start_time": "2025-08-05T14:55:30.891150",
     "status": "completed"
    },
    "tags": []
   },
   "outputs": [],
   "source": [
    "from sklearn.linear_model import LogisticRegression\n",
    "from sklearn.ensemble import GradientBoostingClassifier, RandomForestClassifier\n",
    "\n",
    "if (universe[\"model\"] == \"logreg\"):\n",
    "    model = LogisticRegression() #penalty=\"none\", solver=\"newton-cg\", max_iter=1) # include random_state=19 ?\n",
    "elif (universe[\"model\"] == \"penalized_logreg\"):\n",
    "    model = LogisticRegression(penalty=\"l2\", C=0.1) #, solver=\"newton-cg\", max_iter=1)\n",
    "elif (universe[\"model\"] == \"rf\"):\n",
    "    model = RandomForestClassifier() # n_estimators=100, n_jobs=-1\n",
    "elif (universe[\"model\"] == \"gbm\"):\n",
    "    model = GradientBoostingClassifier()\n",
    "elif (universe[\"model\"] == \"elasticnet\"):\n",
    "    model = LogisticRegression(penalty = 'elasticnet', solver = 'saga', l1_ratio = 0.5) # max_iter=5000\n",
    "else:\n",
    "    raise \"Unsupported universe.model\""
   ]
  },
  {
   "cell_type": "code",
   "execution_count": 31,
   "id": "0cc8f744",
   "metadata": {
    "execution": {
     "iopub.execute_input": "2025-08-05T14:55:31.050540Z",
     "iopub.status.busy": "2025-08-05T14:55:31.049541Z",
     "iopub.status.idle": "2025-08-05T14:55:31.056049Z",
     "shell.execute_reply": "2025-08-05T14:55:31.055027Z"
    },
    "papermill": {
     "duration": 0.026107,
     "end_time": "2025-08-05T14:55:31.057772",
     "exception": false,
     "start_time": "2025-08-05T14:55:31.031665",
     "status": "completed"
    },
    "tags": []
   },
   "outputs": [],
   "source": [
    "import numpy as np\n",
    "from sklearn.pipeline import Pipeline\n",
    "from sklearn.preprocessing import StandardScaler\n",
    "\n",
    "model = Pipeline([\n",
    "    #(\"continuous_processor\", continuous_processor),\n",
    "    #(\"categorical_preprocessor\", categorical_preprocessor),\n",
    "    (\"scale\", StandardScaler() if universe[\"scale\"] == \"scale\" else None), \n",
    "    (\"model\", model),\n",
    "])"
   ]
  },
  {
   "cell_type": "code",
   "execution_count": 32,
   "id": "9442c04d",
   "metadata": {
    "execution": {
     "iopub.execute_input": "2025-08-05T14:55:31.093937Z",
     "iopub.status.busy": "2025-08-05T14:55:31.093270Z",
     "iopub.status.idle": "2025-08-05T14:55:40.088360Z",
     "shell.execute_reply": "2025-08-05T14:55:40.087655Z"
    },
    "papermill": {
     "duration": 9.01421,
     "end_time": "2025-08-05T14:55:40.089609",
     "exception": false,
     "start_time": "2025-08-05T14:55:31.075399",
     "status": "completed"
    },
    "tags": []
   },
   "outputs": [
    {
     "name": "stderr",
     "output_type": "stream",
     "text": [
      "/dss/dsshome1/0C/ra93lal2/.local/share/virtualenvs/CMA_Fairness_v2-3j10GkSs/lib/python3.10/site-packages/sklearn/linear_model/_sag.py:350: ConvergenceWarning: The max_iter was reached which means the coef_ did not converge\n",
      "  warnings.warn(\n"
     ]
    },
    {
     "data": {
      "text/html": [
       "<style>#sk-container-id-1 {color: black;background-color: white;}#sk-container-id-1 pre{padding: 0;}#sk-container-id-1 div.sk-toggleable {background-color: white;}#sk-container-id-1 label.sk-toggleable__label {cursor: pointer;display: block;width: 100%;margin-bottom: 0;padding: 0.3em;box-sizing: border-box;text-align: center;}#sk-container-id-1 label.sk-toggleable__label-arrow:before {content: \"▸\";float: left;margin-right: 0.25em;color: #696969;}#sk-container-id-1 label.sk-toggleable__label-arrow:hover:before {color: black;}#sk-container-id-1 div.sk-estimator:hover label.sk-toggleable__label-arrow:before {color: black;}#sk-container-id-1 div.sk-toggleable__content {max-height: 0;max-width: 0;overflow: hidden;text-align: left;background-color: #f0f8ff;}#sk-container-id-1 div.sk-toggleable__content pre {margin: 0.2em;color: black;border-radius: 0.25em;background-color: #f0f8ff;}#sk-container-id-1 input.sk-toggleable__control:checked~div.sk-toggleable__content {max-height: 200px;max-width: 100%;overflow: auto;}#sk-container-id-1 input.sk-toggleable__control:checked~label.sk-toggleable__label-arrow:before {content: \"▾\";}#sk-container-id-1 div.sk-estimator input.sk-toggleable__control:checked~label.sk-toggleable__label {background-color: #d4ebff;}#sk-container-id-1 div.sk-label input.sk-toggleable__control:checked~label.sk-toggleable__label {background-color: #d4ebff;}#sk-container-id-1 input.sk-hidden--visually {border: 0;clip: rect(1px 1px 1px 1px);clip: rect(1px, 1px, 1px, 1px);height: 1px;margin: -1px;overflow: hidden;padding: 0;position: absolute;width: 1px;}#sk-container-id-1 div.sk-estimator {font-family: monospace;background-color: #f0f8ff;border: 1px dotted black;border-radius: 0.25em;box-sizing: border-box;margin-bottom: 0.5em;}#sk-container-id-1 div.sk-estimator:hover {background-color: #d4ebff;}#sk-container-id-1 div.sk-parallel-item::after {content: \"\";width: 100%;border-bottom: 1px solid gray;flex-grow: 1;}#sk-container-id-1 div.sk-label:hover label.sk-toggleable__label {background-color: #d4ebff;}#sk-container-id-1 div.sk-serial::before {content: \"\";position: absolute;border-left: 1px solid gray;box-sizing: border-box;top: 0;bottom: 0;left: 50%;z-index: 0;}#sk-container-id-1 div.sk-serial {display: flex;flex-direction: column;align-items: center;background-color: white;padding-right: 0.2em;padding-left: 0.2em;position: relative;}#sk-container-id-1 div.sk-item {position: relative;z-index: 1;}#sk-container-id-1 div.sk-parallel {display: flex;align-items: stretch;justify-content: center;background-color: white;position: relative;}#sk-container-id-1 div.sk-item::before, #sk-container-id-1 div.sk-parallel-item::before {content: \"\";position: absolute;border-left: 1px solid gray;box-sizing: border-box;top: 0;bottom: 0;left: 50%;z-index: -1;}#sk-container-id-1 div.sk-parallel-item {display: flex;flex-direction: column;z-index: 1;position: relative;background-color: white;}#sk-container-id-1 div.sk-parallel-item:first-child::after {align-self: flex-end;width: 50%;}#sk-container-id-1 div.sk-parallel-item:last-child::after {align-self: flex-start;width: 50%;}#sk-container-id-1 div.sk-parallel-item:only-child::after {width: 0;}#sk-container-id-1 div.sk-dashed-wrapped {border: 1px dashed gray;margin: 0 0.4em 0.5em 0.4em;box-sizing: border-box;padding-bottom: 0.4em;background-color: white;}#sk-container-id-1 div.sk-label label {font-family: monospace;font-weight: bold;display: inline-block;line-height: 1.2em;}#sk-container-id-1 div.sk-label-container {text-align: center;}#sk-container-id-1 div.sk-container {/* jupyter's `normalize.less` sets `[hidden] { display: none; }` but bootstrap.min.css set `[hidden] { display: none !important; }` so we also need the `!important` here to be able to override the default hidden behavior on the sphinx rendered scikit-learn.org. See: https://github.com/scikit-learn/scikit-learn/issues/21755 */display: inline-block !important;position: relative;}#sk-container-id-1 div.sk-text-repr-fallback {display: none;}</style><div id=\"sk-container-id-1\" class=\"sk-top-container\"><div class=\"sk-text-repr-fallback\"><pre>Pipeline(steps=[(&#x27;scale&#x27;, StandardScaler()),\n",
       "                (&#x27;model&#x27;,\n",
       "                 LogisticRegression(l1_ratio=0.5, penalty=&#x27;elasticnet&#x27;,\n",
       "                                    solver=&#x27;saga&#x27;))])</pre><b>In a Jupyter environment, please rerun this cell to show the HTML representation or trust the notebook. <br />On GitHub, the HTML representation is unable to render, please try loading this page with nbviewer.org.</b></div><div class=\"sk-container\" hidden><div class=\"sk-item sk-dashed-wrapped\"><div class=\"sk-label-container\"><div class=\"sk-label sk-toggleable\"><input class=\"sk-toggleable__control sk-hidden--visually\" id=\"sk-estimator-id-1\" type=\"checkbox\" ><label for=\"sk-estimator-id-1\" class=\"sk-toggleable__label sk-toggleable__label-arrow\">Pipeline</label><div class=\"sk-toggleable__content\"><pre>Pipeline(steps=[(&#x27;scale&#x27;, StandardScaler()),\n",
       "                (&#x27;model&#x27;,\n",
       "                 LogisticRegression(l1_ratio=0.5, penalty=&#x27;elasticnet&#x27;,\n",
       "                                    solver=&#x27;saga&#x27;))])</pre></div></div></div><div class=\"sk-serial\"><div class=\"sk-item\"><div class=\"sk-estimator sk-toggleable\"><input class=\"sk-toggleable__control sk-hidden--visually\" id=\"sk-estimator-id-2\" type=\"checkbox\" ><label for=\"sk-estimator-id-2\" class=\"sk-toggleable__label sk-toggleable__label-arrow\">StandardScaler</label><div class=\"sk-toggleable__content\"><pre>StandardScaler()</pre></div></div></div><div class=\"sk-item\"><div class=\"sk-estimator sk-toggleable\"><input class=\"sk-toggleable__control sk-hidden--visually\" id=\"sk-estimator-id-3\" type=\"checkbox\" ><label for=\"sk-estimator-id-3\" class=\"sk-toggleable__label sk-toggleable__label-arrow\">LogisticRegression</label><div class=\"sk-toggleable__content\"><pre>LogisticRegression(l1_ratio=0.5, penalty=&#x27;elasticnet&#x27;, solver=&#x27;saga&#x27;)</pre></div></div></div></div></div></div></div>"
      ],
      "text/plain": [
       "Pipeline(steps=[('scale', StandardScaler()),\n",
       "                ('model',\n",
       "                 LogisticRegression(l1_ratio=0.5, penalty='elasticnet',\n",
       "                                    solver='saga'))])"
      ]
     },
     "execution_count": 32,
     "metadata": {},
     "output_type": "execute_result"
    }
   ],
   "source": [
    "model.fit(X_train, y_train.values.ravel())"
   ]
  },
  {
   "cell_type": "code",
   "execution_count": 33,
   "id": "af59f8c0",
   "metadata": {
    "execution": {
     "iopub.execute_input": "2025-08-05T14:55:40.113937Z",
     "iopub.status.busy": "2025-08-05T14:55:40.113563Z",
     "iopub.status.idle": "2025-08-05T14:55:40.119405Z",
     "shell.execute_reply": "2025-08-05T14:55:40.118247Z"
    },
    "papermill": {
     "duration": 0.018941,
     "end_time": "2025-08-05T14:55:40.121440",
     "exception": false,
     "start_time": "2025-08-05T14:55:40.102499",
     "status": "completed"
    },
    "tags": []
   },
   "outputs": [],
   "source": [
    "from fairness_multiverse.universe import predict_w_threshold"
   ]
  },
  {
   "cell_type": "code",
   "execution_count": 34,
   "id": "a7cf2e16",
   "metadata": {
    "execution": {
     "iopub.execute_input": "2025-08-05T14:55:40.163294Z",
     "iopub.status.busy": "2025-08-05T14:55:40.162399Z",
     "iopub.status.idle": "2025-08-05T14:55:40.446452Z",
     "shell.execute_reply": "2025-08-05T14:55:40.445325Z"
    },
    "papermill": {
     "duration": 0.306425,
     "end_time": "2025-08-05T14:55:40.448125",
     "exception": false,
     "start_time": "2025-08-05T14:55:40.141700",
     "status": "completed"
    },
    "tags": []
   },
   "outputs": [
    {
     "data": {
      "text/plain": [
       "0.8621781295284806"
      ]
     },
     "execution_count": 34,
     "metadata": {},
     "output_type": "execute_result"
    }
   ],
   "source": [
    "probs_test = model.predict_proba(X_test)\n",
    "\n",
    "'''\n",
    "Below code returns a boolean array (or binary 0/1 array depending on how it’s used) where each element \n",
    "is True if the probability of class 1 is greater than or equal to the threshold, and False otherwise.\n",
    "'''\n",
    "y_pred_default = predict_w_threshold(probs_test, 0.5)\n",
    "\n",
    "from sklearn.metrics import accuracy_score\n",
    "\n",
    "# Naive prediction\n",
    "accuracy_score(y_true = y_true, y_pred = y_pred_default)"
   ]
  },
  {
   "cell_type": "code",
   "execution_count": 35,
   "id": "081964c3",
   "metadata": {
    "execution": {
     "iopub.execute_input": "2025-08-05T14:55:40.489966Z",
     "iopub.status.busy": "2025-08-05T14:55:40.489236Z",
     "iopub.status.idle": "2025-08-05T14:55:40.781182Z",
     "shell.execute_reply": "2025-08-05T14:55:40.780009Z"
    },
    "papermill": {
     "duration": 0.315151,
     "end_time": "2025-08-05T14:55:40.783203",
     "exception": false,
     "start_time": "2025-08-05T14:55:40.468052",
     "status": "completed"
    },
    "tags": []
   },
   "outputs": [
    {
     "data": {
      "text/plain": [
       "array([0, 0, 0, ..., 0, 0, 0])"
      ]
     },
     "execution_count": 35,
     "metadata": {},
     "output_type": "execute_result"
    }
   ],
   "source": [
    "model.predict(X_test)"
   ]
  },
  {
   "cell_type": "markdown",
   "id": "56c9705b",
   "metadata": {
    "papermill": {
     "duration": 0.022806,
     "end_time": "2025-08-05T14:55:40.829474",
     "exception": false,
     "start_time": "2025-08-05T14:55:40.806668",
     "status": "completed"
    },
    "tags": []
   },
   "source": [
    "# Conformal Prediction"
   ]
  },
  {
   "cell_type": "code",
   "execution_count": 36,
   "id": "160ec6ff",
   "metadata": {
    "execution": {
     "iopub.execute_input": "2025-08-05T14:55:40.877655Z",
     "iopub.status.busy": "2025-08-05T14:55:40.876816Z",
     "iopub.status.idle": "2025-08-05T14:55:40.883612Z",
     "shell.execute_reply": "2025-08-05T14:55:40.882477Z"
    },
    "papermill": {
     "duration": 0.033117,
     "end_time": "2025-08-05T14:55:40.885365",
     "exception": false,
     "start_time": "2025-08-05T14:55:40.852248",
     "status": "completed"
    },
    "tags": []
   },
   "outputs": [],
   "source": [
    "# Miscoverage level for conformal prediction (10% allowed error rate => 90% target coverage)\n",
    "alpha = 0.1"
   ]
  },
  {
   "cell_type": "code",
   "execution_count": 37,
   "id": "eadf4555-3dd3-440e-8e35-f82a4ad9f855",
   "metadata": {
    "execution": {
     "iopub.execute_input": "2025-08-05T14:55:40.933406Z",
     "iopub.status.busy": "2025-08-05T14:55:40.932432Z",
     "iopub.status.idle": "2025-08-05T14:55:41.231170Z",
     "shell.execute_reply": "2025-08-05T14:55:41.230011Z"
    },
    "papermill": {
     "duration": 0.325054,
     "end_time": "2025-08-05T14:55:41.233203",
     "exception": false,
     "start_time": "2025-08-05T14:55:40.908149",
     "status": "completed"
    },
    "tags": []
   },
   "outputs": [],
   "source": [
    "probs_calib = model.predict_proba(X_calib)"
   ]
  },
  {
   "cell_type": "code",
   "execution_count": 38,
   "id": "2ed93547-6d5d-4983-9b36-1ecb300da49a",
   "metadata": {
    "execution": {
     "iopub.execute_input": "2025-08-05T14:55:41.277381Z",
     "iopub.status.busy": "2025-08-05T14:55:41.276819Z",
     "iopub.status.idle": "2025-08-05T14:55:41.284519Z",
     "shell.execute_reply": "2025-08-05T14:55:41.283328Z"
    },
    "papermill": {
     "duration": 0.027224,
     "end_time": "2025-08-05T14:55:41.286488",
     "exception": false,
     "start_time": "2025-08-05T14:55:41.259264",
     "status": "completed"
    },
    "tags": []
   },
   "outputs": [],
   "source": [
    "y_calib = y_calib.values.ravel().astype(int)"
   ]
  },
  {
   "cell_type": "code",
   "execution_count": 39,
   "id": "65d1320d-f588-4b38-9072-62af1ae97f7d",
   "metadata": {
    "execution": {
     "iopub.execute_input": "2025-08-05T14:55:41.333007Z",
     "iopub.status.busy": "2025-08-05T14:55:41.332205Z",
     "iopub.status.idle": "2025-08-05T14:55:41.341571Z",
     "shell.execute_reply": "2025-08-05T14:55:41.340345Z"
    },
    "papermill": {
     "duration": 0.034395,
     "end_time": "2025-08-05T14:55:41.343565",
     "exception": false,
     "start_time": "2025-08-05T14:55:41.309170",
     "status": "completed"
    },
    "tags": []
   },
   "outputs": [],
   "source": [
    "from fairness_multiverse.conformal import compute_nc_scores\n",
    "\n",
    "# Compute nonconformity scores on calibration set (1 - probability of true class)\n",
    "nc_scores = compute_nc_scores(probs_calib, y_calib)"
   ]
  },
  {
   "cell_type": "code",
   "execution_count": 40,
   "id": "df3b8ca3-53b7-43d5-9667-7c85da7aeda2",
   "metadata": {
    "execution": {
     "iopub.execute_input": "2025-08-05T14:55:41.379756Z",
     "iopub.status.busy": "2025-08-05T14:55:41.378930Z",
     "iopub.status.idle": "2025-08-05T14:55:41.384450Z",
     "shell.execute_reply": "2025-08-05T14:55:41.383646Z"
    },
    "papermill": {
     "duration": 0.020474,
     "end_time": "2025-08-05T14:55:41.385880",
     "exception": false,
     "start_time": "2025-08-05T14:55:41.365406",
     "status": "completed"
    },
    "tags": []
   },
   "outputs": [],
   "source": [
    "from fairness_multiverse.conformal import find_threshold\n",
    "\n",
    "# Find conformal threshold q_hat for the given alpha (split conformal method)\n",
    "q_hat = find_threshold(nc_scores, alpha)"
   ]
  },
  {
   "cell_type": "code",
   "execution_count": 41,
   "id": "4d29e6c1-0ef6-4aa4-b8fe-4fe79b0d033a",
   "metadata": {
    "execution": {
     "iopub.execute_input": "2025-08-05T14:55:41.408772Z",
     "iopub.status.busy": "2025-08-05T14:55:41.408445Z",
     "iopub.status.idle": "2025-08-05T14:55:41.414462Z",
     "shell.execute_reply": "2025-08-05T14:55:41.413635Z"
    },
    "papermill": {
     "duration": 0.018486,
     "end_time": "2025-08-05T14:55:41.415841",
     "exception": false,
     "start_time": "2025-08-05T14:55:41.397355",
     "status": "completed"
    },
    "tags": []
   },
   "outputs": [
    {
     "data": {
      "text/plain": [
       "0.6645837778216448"
      ]
     },
     "execution_count": 41,
     "metadata": {},
     "output_type": "execute_result"
    }
   ],
   "source": [
    "q_hat"
   ]
  },
  {
   "cell_type": "code",
   "execution_count": 42,
   "id": "92460794-cdac-4be2-ba28-f28c0515a6fb",
   "metadata": {
    "execution": {
     "iopub.execute_input": "2025-08-05T14:55:41.439215Z",
     "iopub.status.busy": "2025-08-05T14:55:41.438725Z",
     "iopub.status.idle": "2025-08-05T14:55:42.578628Z",
     "shell.execute_reply": "2025-08-05T14:55:42.577803Z"
    },
    "papermill": {
     "duration": 1.152811,
     "end_time": "2025-08-05T14:55:42.580063",
     "exception": false,
     "start_time": "2025-08-05T14:55:41.427252",
     "status": "completed"
    },
    "tags": []
   },
   "outputs": [],
   "source": [
    "from fairness_multiverse.conformal import predict_conformal_sets\n",
    "\n",
    "# Generate prediction sets for each test example\n",
    "pred_sets = predict_conformal_sets(model, X_test, q_hat)"
   ]
  },
  {
   "cell_type": "code",
   "execution_count": 43,
   "id": "d90c9a65-e6db-4f5d-80cd-e68fb7e46829",
   "metadata": {
    "execution": {
     "iopub.execute_input": "2025-08-05T14:55:42.606419Z",
     "iopub.status.busy": "2025-08-05T14:55:42.605887Z",
     "iopub.status.idle": "2025-08-05T14:55:42.610808Z",
     "shell.execute_reply": "2025-08-05T14:55:42.610052Z"
    },
    "papermill": {
     "duration": 0.018423,
     "end_time": "2025-08-05T14:55:42.612224",
     "exception": false,
     "start_time": "2025-08-05T14:55:42.593801",
     "status": "completed"
    },
    "tags": []
   },
   "outputs": [],
   "source": [
    "y_true = y_true.squeeze()"
   ]
  },
  {
   "cell_type": "code",
   "execution_count": 44,
   "id": "3a58a54a-1e68-46b9-927a-df01f18aebc8",
   "metadata": {
    "execution": {
     "iopub.execute_input": "2025-08-05T14:55:42.636676Z",
     "iopub.status.busy": "2025-08-05T14:55:42.636161Z",
     "iopub.status.idle": "2025-08-05T14:55:43.165263Z",
     "shell.execute_reply": "2025-08-05T14:55:43.164501Z"
    },
    "papermill": {
     "duration": 0.542471,
     "end_time": "2025-08-05T14:55:43.166694",
     "exception": false,
     "start_time": "2025-08-05T14:55:42.624223",
     "status": "completed"
    },
    "tags": []
   },
   "outputs": [],
   "source": [
    "from fairness_multiverse.conformal import evaluate_sets\n",
    "\n",
    "# Evaluate coverage and average set size on test data\n",
    "metrics = evaluate_sets(pred_sets, y_true)"
   ]
  },
  {
   "cell_type": "markdown",
   "id": "2b569c12-9aaa-4c88-98c9-bbcd0cf3ebb8",
   "metadata": {
    "papermill": {
     "duration": 0.015329,
     "end_time": "2025-08-05T14:55:43.197563",
     "exception": false,
     "start_time": "2025-08-05T14:55:43.182234",
     "status": "completed"
    },
    "tags": []
   },
   "source": [
    "# CP Metrics"
   ]
  },
  {
   "cell_type": "code",
   "execution_count": 45,
   "id": "5ce0a5cb-201f-45a0-ade5-94c7f0bd6095",
   "metadata": {
    "execution": {
     "iopub.execute_input": "2025-08-05T14:55:43.232898Z",
     "iopub.status.busy": "2025-08-05T14:55:43.232459Z",
     "iopub.status.idle": "2025-08-05T14:55:43.239649Z",
     "shell.execute_reply": "2025-08-05T14:55:43.238504Z"
    },
    "papermill": {
     "duration": 0.030762,
     "end_time": "2025-08-05T14:55:43.241618",
     "exception": false,
     "start_time": "2025-08-05T14:55:43.210856",
     "status": "completed"
    },
    "tags": []
   },
   "outputs": [
    {
     "data": {
      "text/plain": [
       "{'coverage': 0.9118047040463716, 'avg_size': 1.1251922862557129}"
      ]
     },
     "execution_count": 45,
     "metadata": {},
     "output_type": "execute_result"
    }
   ],
   "source": [
    "metrics"
   ]
  },
  {
   "cell_type": "code",
   "execution_count": 46,
   "id": "9b9a838d-31c9-430b-ae14-12baee460d17",
   "metadata": {
    "execution": {
     "iopub.execute_input": "2025-08-05T14:55:43.274111Z",
     "iopub.status.busy": "2025-08-05T14:55:43.273709Z",
     "iopub.status.idle": "2025-08-05T14:55:43.278717Z",
     "shell.execute_reply": "2025-08-05T14:55:43.278017Z"
    },
    "papermill": {
     "duration": 0.017766,
     "end_time": "2025-08-05T14:55:43.280150",
     "exception": false,
     "start_time": "2025-08-05T14:55:43.262384",
     "status": "completed"
    },
    "tags": []
   },
   "outputs": [],
   "source": [
    "example_universe = universe.copy()\n",
    "universe_training_year = example_universe.get(\"training_year\")\n",
    "universe_training_size = example_universe.get(\"training_size\")\n",
    "universe_scale = example_universe.get(\"scale\")\n",
    "universe_model = example_universe.get(\"model\")\n",
    "universe_exclude_features = example_universe.get(\"exclude_features\")\n",
    "universe_exclude_subgroups = example_universe.get(\"exclude_subgroups\")"
   ]
  },
  {
   "cell_type": "code",
   "execution_count": 47,
   "id": "f4b6a8ac-9dc0-4245-8a91-5b3b5999c4f9",
   "metadata": {
    "execution": {
     "iopub.execute_input": "2025-08-05T14:55:43.321633Z",
     "iopub.status.busy": "2025-08-05T14:55:43.321178Z",
     "iopub.status.idle": "2025-08-05T14:55:43.327060Z",
     "shell.execute_reply": "2025-08-05T14:55:43.326342Z"
    },
    "papermill": {
     "duration": 0.030037,
     "end_time": "2025-08-05T14:55:43.328583",
     "exception": false,
     "start_time": "2025-08-05T14:55:43.298546",
     "status": "completed"
    },
    "tags": []
   },
   "outputs": [],
   "source": [
    "cp_metrics_dict = {\n",
    "    \"universe_id\": [universe_id],\n",
    "    \"universe_training_year\": [universe_training_year],\n",
    "    \"universe_training_size\": [universe_training_size],\n",
    "    \"universe_scale\": [universe_scale],\n",
    "    \"universe_model\": [universe_model],\n",
    "    \"universe_exclude_features\": [universe_exclude_features],\n",
    "    \"universe_exclude_subgroups\": [universe_exclude_subgroups],\n",
    "    \"q_hat\": [q_hat],\n",
    "    \"coverage\": [metrics[\"coverage\"]],\n",
    "    \"avg_size\": [metrics[\"avg_size\"]],\n",
    "}"
   ]
  },
  {
   "cell_type": "code",
   "execution_count": 48,
   "id": "908acbb1-0371-4915-85ca-3fa520d2efe2",
   "metadata": {
    "execution": {
     "iopub.execute_input": "2025-08-05T14:55:43.372931Z",
     "iopub.status.busy": "2025-08-05T14:55:43.372489Z",
     "iopub.status.idle": "2025-08-05T14:55:43.379529Z",
     "shell.execute_reply": "2025-08-05T14:55:43.378390Z"
    },
    "papermill": {
     "duration": 0.030862,
     "end_time": "2025-08-05T14:55:43.381363",
     "exception": false,
     "start_time": "2025-08-05T14:55:43.350501",
     "status": "completed"
    },
    "tags": []
   },
   "outputs": [
    {
     "data": {
      "text/plain": [
       "{'universe_id': ['7751cc1fc37583662872acc321b2c017'],\n",
       " 'universe_training_year': ['2012_14'],\n",
       " 'universe_training_size': ['25k'],\n",
       " 'universe_scale': ['scale'],\n",
       " 'universe_model': ['elasticnet'],\n",
       " 'universe_exclude_features': ['nationality-sex'],\n",
       " 'universe_exclude_subgroups': ['keep-all'],\n",
       " 'q_hat': [0.6645837778216448],\n",
       " 'coverage': [0.9118047040463716],\n",
       " 'avg_size': [1.1251922862557129]}"
      ]
     },
     "execution_count": 48,
     "metadata": {},
     "output_type": "execute_result"
    }
   ],
   "source": [
    "cp_metrics_dict"
   ]
  },
  {
   "cell_type": "code",
   "execution_count": 49,
   "id": "33007efc-14e9-4ec6-97ac-56a455c82265",
   "metadata": {
    "execution": {
     "iopub.execute_input": "2025-08-05T14:55:43.430135Z",
     "iopub.status.busy": "2025-08-05T14:55:43.429612Z",
     "iopub.status.idle": "2025-08-05T14:55:43.436409Z",
     "shell.execute_reply": "2025-08-05T14:55:43.435347Z"
    },
    "papermill": {
     "duration": 0.034295,
     "end_time": "2025-08-05T14:55:43.438242",
     "exception": false,
     "start_time": "2025-08-05T14:55:43.403947",
     "status": "completed"
    },
    "tags": []
   },
   "outputs": [],
   "source": [
    "cp_metrics_df = pd.DataFrame(cp_metrics_dict)"
   ]
  },
  {
   "cell_type": "code",
   "execution_count": 50,
   "id": "db12611b-57b2-4910-b9d0-355adfd6e7bf",
   "metadata": {
    "execution": {
     "iopub.execute_input": "2025-08-05T14:55:43.482497Z",
     "iopub.status.busy": "2025-08-05T14:55:43.481874Z",
     "iopub.status.idle": "2025-08-05T14:55:43.500434Z",
     "shell.execute_reply": "2025-08-05T14:55:43.499486Z"
    },
    "papermill": {
     "duration": 0.040961,
     "end_time": "2025-08-05T14:55:43.502898",
     "exception": false,
     "start_time": "2025-08-05T14:55:43.461937",
     "status": "completed"
    },
    "tags": []
   },
   "outputs": [
    {
     "data": {
      "text/html": [
       "<div>\n",
       "<style scoped>\n",
       "    .dataframe tbody tr th:only-of-type {\n",
       "        vertical-align: middle;\n",
       "    }\n",
       "\n",
       "    .dataframe tbody tr th {\n",
       "        vertical-align: top;\n",
       "    }\n",
       "\n",
       "    .dataframe thead th {\n",
       "        text-align: right;\n",
       "    }\n",
       "</style>\n",
       "<table border=\"1\" class=\"dataframe\">\n",
       "  <thead>\n",
       "    <tr style=\"text-align: right;\">\n",
       "      <th></th>\n",
       "      <th>universe_id</th>\n",
       "      <th>universe_training_year</th>\n",
       "      <th>universe_training_size</th>\n",
       "      <th>universe_scale</th>\n",
       "      <th>universe_model</th>\n",
       "      <th>universe_exclude_features</th>\n",
       "      <th>universe_exclude_subgroups</th>\n",
       "      <th>q_hat</th>\n",
       "      <th>coverage</th>\n",
       "      <th>avg_size</th>\n",
       "    </tr>\n",
       "  </thead>\n",
       "  <tbody>\n",
       "    <tr>\n",
       "      <th>0</th>\n",
       "      <td>7751cc1fc37583662872acc321b2c017</td>\n",
       "      <td>2012_14</td>\n",
       "      <td>25k</td>\n",
       "      <td>scale</td>\n",
       "      <td>elasticnet</td>\n",
       "      <td>nationality-sex</td>\n",
       "      <td>keep-all</td>\n",
       "      <td>0.664584</td>\n",
       "      <td>0.911805</td>\n",
       "      <td>1.125192</td>\n",
       "    </tr>\n",
       "  </tbody>\n",
       "</table>\n",
       "</div>"
      ],
      "text/plain": [
       "                        universe_id universe_training_year  \\\n",
       "0  7751cc1fc37583662872acc321b2c017                2012_14   \n",
       "\n",
       "  universe_training_size universe_scale universe_model  \\\n",
       "0                    25k          scale     elasticnet   \n",
       "\n",
       "  universe_exclude_features universe_exclude_subgroups     q_hat  coverage  \\\n",
       "0           nationality-sex                   keep-all  0.664584  0.911805   \n",
       "\n",
       "   avg_size  \n",
       "0  1.125192  "
      ]
     },
     "execution_count": 50,
     "metadata": {},
     "output_type": "execute_result"
    }
   ],
   "source": [
    "cp_metrics_df"
   ]
  },
  {
   "cell_type": "code",
   "execution_count": 51,
   "id": "b7fbde55-a0a1-47e4-9af6-fe4a17fa8c61",
   "metadata": {
    "execution": {
     "iopub.execute_input": "2025-08-05T14:55:43.546742Z",
     "iopub.status.busy": "2025-08-05T14:55:43.546401Z",
     "iopub.status.idle": "2025-08-05T14:55:43.550651Z",
     "shell.execute_reply": "2025-08-05T14:55:43.549901Z"
    },
    "papermill": {
     "duration": 0.018368,
     "end_time": "2025-08-05T14:55:43.552036",
     "exception": false,
     "start_time": "2025-08-05T14:55:43.533668",
     "status": "completed"
    },
    "tags": []
   },
   "outputs": [],
   "source": [
    "# Conditional Coverage & looking at subgroups"
   ]
  },
  {
   "cell_type": "code",
   "execution_count": 52,
   "id": "027ae886-68dd-4141-96c7-805a5450e1ef",
   "metadata": {
    "execution": {
     "iopub.execute_input": "2025-08-05T14:55:43.577467Z",
     "iopub.status.busy": "2025-08-05T14:55:43.576423Z",
     "iopub.status.idle": "2025-08-05T14:55:43.795395Z",
     "shell.execute_reply": "2025-08-05T14:55:43.794153Z"
    },
    "papermill": {
     "duration": 0.233585,
     "end_time": "2025-08-05T14:55:43.797476",
     "exception": false,
     "start_time": "2025-08-05T14:55:43.563891",
     "status": "completed"
    },
    "tags": []
   },
   "outputs": [],
   "source": [
    "from fairness_multiverse.conformal import build_cp_groups\n",
    "\n",
    "cp_groups_df = build_cp_groups(pred_sets, y_true, X_test.index, org_test)\n",
    "#needs universe_id and setting"
   ]
  },
  {
   "cell_type": "code",
   "execution_count": 53,
   "id": "6cbdab96-b2b2-45af-ad54-d0516db2e28d",
   "metadata": {
    "execution": {
     "iopub.execute_input": "2025-08-05T14:55:43.844272Z",
     "iopub.status.busy": "2025-08-05T14:55:43.843776Z",
     "iopub.status.idle": "2025-08-05T14:55:45.974533Z",
     "shell.execute_reply": "2025-08-05T14:55:45.973567Z"
    },
    "papermill": {
     "duration": 2.152324,
     "end_time": "2025-08-05T14:55:45.976602",
     "exception": false,
     "start_time": "2025-08-05T14:55:43.824278",
     "status": "completed"
    },
    "tags": []
   },
   "outputs": [],
   "source": [
    "# Define covered = 1 if true_label is in the predicted set\n",
    "cp_groups_df['covered'] = cp_groups_df.apply(\n",
    "    lambda r: int(r['true_label'] in r['pred_set']),\n",
    "    axis=1\n",
    ")"
   ]
  },
  {
   "cell_type": "code",
   "execution_count": 54,
   "id": "338ff529-1a6b-4b87-a931-8e4788d52aad",
   "metadata": {
    "execution": {
     "iopub.execute_input": "2025-08-05T14:55:46.030100Z",
     "iopub.status.busy": "2025-08-05T14:55:46.029571Z",
     "iopub.status.idle": "2025-08-05T14:55:46.035009Z",
     "shell.execute_reply": "2025-08-05T14:55:46.033916Z"
    },
    "papermill": {
     "duration": 0.032124,
     "end_time": "2025-08-05T14:55:46.036729",
     "exception": false,
     "start_time": "2025-08-05T14:55:46.004605",
     "status": "completed"
    },
    "tags": []
   },
   "outputs": [],
   "source": [
    "#cp_groups_df"
   ]
  },
  {
   "cell_type": "code",
   "execution_count": 55,
   "id": "90032e27-66df-4540-9169-4e89cfbaa758",
   "metadata": {
    "execution": {
     "iopub.execute_input": "2025-08-05T14:55:46.079114Z",
     "iopub.status.busy": "2025-08-05T14:55:46.078558Z",
     "iopub.status.idle": "2025-08-05T14:55:46.090910Z",
     "shell.execute_reply": "2025-08-05T14:55:46.089793Z"
    },
    "papermill": {
     "duration": 0.034782,
     "end_time": "2025-08-05T14:55:46.092543",
     "exception": false,
     "start_time": "2025-08-05T14:55:46.057761",
     "status": "completed"
    },
    "tags": []
   },
   "outputs": [],
   "source": [
    "subgroups = ['frau1','nongerman','nongerman_male','nongerman_female']\n",
    "\n",
    "# Conditional coverage for subgroup==1\n",
    "cond_coverage = {\n",
    "    g: cp_groups_df.loc[cp_groups_df[g]==1, 'covered'].mean()\n",
    "    for g in subgroups\n",
    "}"
   ]
  },
  {
   "cell_type": "code",
   "execution_count": 56,
   "id": "1e348fb1-b9c3-45bc-ba23-f016827a7e0d",
   "metadata": {
    "execution": {
     "iopub.execute_input": "2025-08-05T14:55:46.134042Z",
     "iopub.status.busy": "2025-08-05T14:55:46.133223Z",
     "iopub.status.idle": "2025-08-05T14:55:46.140358Z",
     "shell.execute_reply": "2025-08-05T14:55:46.139305Z"
    },
    "papermill": {
     "duration": 0.029493,
     "end_time": "2025-08-05T14:55:46.142218",
     "exception": false,
     "start_time": "2025-08-05T14:55:46.112725",
     "status": "completed"
    },
    "tags": []
   },
   "outputs": [
    {
     "data": {
      "text/plain": [
       "{'frau1': 0.9111470548591455,\n",
       " 'nongerman': 0.9104025150171223,\n",
       " 'nongerman_male': 0.9259659551472575,\n",
       " 'nongerman_female': 0.8846497764530551}"
      ]
     },
     "execution_count": 56,
     "metadata": {},
     "output_type": "execute_result"
    }
   ],
   "source": [
    "cond_coverage"
   ]
  },
  {
   "cell_type": "code",
   "execution_count": 57,
   "id": "f5093324-c3dd-4d63-bc4c-8d945e5c8bbb",
   "metadata": {
    "execution": {
     "iopub.execute_input": "2025-08-05T14:55:46.194705Z",
     "iopub.status.busy": "2025-08-05T14:55:46.193694Z",
     "iopub.status.idle": "2025-08-05T14:55:46.201812Z",
     "shell.execute_reply": "2025-08-05T14:55:46.200669Z"
    },
    "papermill": {
     "duration": 0.034795,
     "end_time": "2025-08-05T14:55:46.203429",
     "exception": false,
     "start_time": "2025-08-05T14:55:46.168634",
     "status": "completed"
    },
    "tags": []
   },
   "outputs": [],
   "source": [
    "for subgroup, cov in cond_coverage.items():\n",
    "    cp_metrics_df[f\"cov_{subgroup}\"] = cov"
   ]
  },
  {
   "cell_type": "code",
   "execution_count": 58,
   "id": "6e872e10-dbe5-49e8-b554-5030c98ff75d",
   "metadata": {
    "execution": {
     "iopub.execute_input": "2025-08-05T14:55:46.247005Z",
     "iopub.status.busy": "2025-08-05T14:55:46.246524Z",
     "iopub.status.idle": "2025-08-05T14:55:46.267312Z",
     "shell.execute_reply": "2025-08-05T14:55:46.266279Z"
    },
    "papermill": {
     "duration": 0.043789,
     "end_time": "2025-08-05T14:55:46.269222",
     "exception": false,
     "start_time": "2025-08-05T14:55:46.225433",
     "status": "completed"
    },
    "tags": []
   },
   "outputs": [
    {
     "data": {
      "text/html": [
       "<div>\n",
       "<style scoped>\n",
       "    .dataframe tbody tr th:only-of-type {\n",
       "        vertical-align: middle;\n",
       "    }\n",
       "\n",
       "    .dataframe tbody tr th {\n",
       "        vertical-align: top;\n",
       "    }\n",
       "\n",
       "    .dataframe thead th {\n",
       "        text-align: right;\n",
       "    }\n",
       "</style>\n",
       "<table border=\"1\" class=\"dataframe\">\n",
       "  <thead>\n",
       "    <tr style=\"text-align: right;\">\n",
       "      <th></th>\n",
       "      <th>universe_id</th>\n",
       "      <th>universe_training_year</th>\n",
       "      <th>universe_training_size</th>\n",
       "      <th>universe_scale</th>\n",
       "      <th>universe_model</th>\n",
       "      <th>universe_exclude_features</th>\n",
       "      <th>universe_exclude_subgroups</th>\n",
       "      <th>q_hat</th>\n",
       "      <th>coverage</th>\n",
       "      <th>avg_size</th>\n",
       "      <th>cov_frau1</th>\n",
       "      <th>cov_nongerman</th>\n",
       "      <th>cov_nongerman_male</th>\n",
       "      <th>cov_nongerman_female</th>\n",
       "    </tr>\n",
       "  </thead>\n",
       "  <tbody>\n",
       "    <tr>\n",
       "      <th>0</th>\n",
       "      <td>7751cc1fc37583662872acc321b2c017</td>\n",
       "      <td>2012_14</td>\n",
       "      <td>25k</td>\n",
       "      <td>scale</td>\n",
       "      <td>elasticnet</td>\n",
       "      <td>nationality-sex</td>\n",
       "      <td>keep-all</td>\n",
       "      <td>0.664584</td>\n",
       "      <td>0.911805</td>\n",
       "      <td>1.125192</td>\n",
       "      <td>0.911147</td>\n",
       "      <td>0.910403</td>\n",
       "      <td>0.925966</td>\n",
       "      <td>0.88465</td>\n",
       "    </tr>\n",
       "  </tbody>\n",
       "</table>\n",
       "</div>"
      ],
      "text/plain": [
       "                        universe_id universe_training_year  \\\n",
       "0  7751cc1fc37583662872acc321b2c017                2012_14   \n",
       "\n",
       "  universe_training_size universe_scale universe_model  \\\n",
       "0                    25k          scale     elasticnet   \n",
       "\n",
       "  universe_exclude_features universe_exclude_subgroups     q_hat  coverage  \\\n",
       "0           nationality-sex                   keep-all  0.664584  0.911805   \n",
       "\n",
       "   avg_size  cov_frau1  cov_nongerman  cov_nongerman_male  \\\n",
       "0  1.125192   0.911147       0.910403            0.925966   \n",
       "\n",
       "   cov_nongerman_female  \n",
       "0               0.88465  "
      ]
     },
     "execution_count": 58,
     "metadata": {},
     "output_type": "execute_result"
    }
   ],
   "source": [
    "cp_metrics_df"
   ]
  },
  {
   "cell_type": "markdown",
   "id": "33774451",
   "metadata": {
    "papermill": {
     "duration": 0.020536,
     "end_time": "2025-08-05T14:55:46.310386",
     "exception": false,
     "start_time": "2025-08-05T14:55:46.289850",
     "status": "completed"
    },
    "tags": []
   },
   "source": [
    "# (Fairness) Metrics"
   ]
  },
  {
   "cell_type": "code",
   "execution_count": 59,
   "id": "debc5d62",
   "metadata": {
    "execution": {
     "iopub.execute_input": "2025-08-05T14:55:46.352584Z",
     "iopub.status.busy": "2025-08-05T14:55:46.351760Z",
     "iopub.status.idle": "2025-08-05T14:55:46.375178Z",
     "shell.execute_reply": "2025-08-05T14:55:46.374269Z"
    },
    "papermill": {
     "duration": 0.046303,
     "end_time": "2025-08-05T14:55:46.376807",
     "exception": false,
     "start_time": "2025-08-05T14:55:46.330504",
     "status": "completed"
    },
    "tags": []
   },
   "outputs": [],
   "source": [
    "# do I need to include maxdeutsch1.missing?\n",
    "\n",
    "import numpy as np\n",
    "\n",
    "colname_to_bin = \"maxdeutsch1\"\n",
    "majority_value = org_train[colname_to_bin].mode()[0]\n",
    "\n",
    "org_test[\"majmin\"] = np.where(org_test[colname_to_bin] == majority_value, \"majority\", \"minority\")"
   ]
  },
  {
   "cell_type": "code",
   "execution_count": 60,
   "id": "06a50de5",
   "metadata": {
    "execution": {
     "iopub.execute_input": "2025-08-05T14:55:46.420210Z",
     "iopub.status.busy": "2025-08-05T14:55:46.419441Z",
     "iopub.status.idle": "2025-08-05T14:55:49.206848Z",
     "shell.execute_reply": "2025-08-05T14:55:49.205689Z"
    },
    "papermill": {
     "duration": 2.811003,
     "end_time": "2025-08-05T14:55:49.208834",
     "exception": false,
     "start_time": "2025-08-05T14:55:46.397831",
     "status": "completed"
    },
    "tags": []
   },
   "outputs": [],
   "source": [
    "example_universe = universe.copy()\n",
    "example_universe[\"cutoff\"] = example_universe[\"cutoff\"][0]\n",
    "example_universe[\"eval_fairness_grouping\"] = example_universe[\"eval_fairness_grouping\"][0]\n",
    "fairness_dict, metric_frame = universe_analysis.compute_metrics(\n",
    "    example_universe,\n",
    "    y_pred_prob=probs_test,\n",
    "    y_test=y_true,\n",
    "    org_test=org_test,\n",
    ")"
   ]
  },
  {
   "cell_type": "markdown",
   "id": "f95d4e02",
   "metadata": {
    "papermill": {
     "duration": 0.020676,
     "end_time": "2025-08-05T14:55:49.252750",
     "exception": false,
     "start_time": "2025-08-05T14:55:49.232074",
     "status": "completed"
    },
    "tags": []
   },
   "source": [
    "# Overall"
   ]
  },
  {
   "cell_type": "markdown",
   "id": "bdee4871",
   "metadata": {
    "papermill": {
     "duration": 0.020239,
     "end_time": "2025-08-05T14:55:49.293483",
     "exception": false,
     "start_time": "2025-08-05T14:55:49.273244",
     "status": "completed"
    },
    "tags": []
   },
   "source": [
    "Fairness\n",
    "Main fairness target: Equalized Odds. Seems to be a better fit than equal opportunity, since we're not only interested in Y = 1. Seems to be a better fit than demographic parity, since we also care about accuracy, not just equal distribution of preds.\n",
    "\n",
    "Pick column for computation of fairness metrics\n",
    "\n",
    "Performance\n",
    "Overall performance measures, most interesting in relation to the measures split by group below"
   ]
  },
  {
   "cell_type": "code",
   "execution_count": 61,
   "id": "c4e067c6",
   "metadata": {
    "execution": {
     "iopub.execute_input": "2025-08-05T14:55:49.337167Z",
     "iopub.status.busy": "2025-08-05T14:55:49.336198Z",
     "iopub.status.idle": "2025-08-05T14:55:49.354083Z",
     "shell.execute_reply": "2025-08-05T14:55:49.352905Z"
    },
    "papermill": {
     "duration": 0.042574,
     "end_time": "2025-08-05T14:55:49.356450",
     "exception": false,
     "start_time": "2025-08-05T14:55:49.313876",
     "status": "completed"
    },
    "tags": []
   },
   "outputs": [
    {
     "data": {
      "text/plain": [
       "accuracy                   0.225449\n",
       "balanced accuracy          0.551028\n",
       "f1                         0.246751\n",
       "precision                  0.140960\n",
       "false positive rate        0.886908\n",
       "false negative rate        0.011036\n",
       "selection rate             0.900000\n",
       "count                  89710.000000\n",
       "dtype: float64"
      ]
     },
     "execution_count": 61,
     "metadata": {},
     "output_type": "execute_result"
    }
   ],
   "source": [
    "metric_frame.overall"
   ]
  },
  {
   "cell_type": "markdown",
   "id": "e968fe9d",
   "metadata": {
    "papermill": {
     "duration": 0.036681,
     "end_time": "2025-08-05T14:55:49.429352",
     "exception": false,
     "start_time": "2025-08-05T14:55:49.392671",
     "status": "completed"
    },
    "tags": []
   },
   "source": [
    "By Group"
   ]
  },
  {
   "cell_type": "code",
   "execution_count": 62,
   "id": "ec325bce",
   "metadata": {
    "execution": {
     "iopub.execute_input": "2025-08-05T14:55:49.506227Z",
     "iopub.status.busy": "2025-08-05T14:55:49.505576Z",
     "iopub.status.idle": "2025-08-05T14:55:49.528123Z",
     "shell.execute_reply": "2025-08-05T14:55:49.526505Z"
    },
    "papermill": {
     "duration": 0.063524,
     "end_time": "2025-08-05T14:55:49.530597",
     "exception": false,
     "start_time": "2025-08-05T14:55:49.467073",
     "status": "completed"
    },
    "tags": []
   },
   "outputs": [
    {
     "data": {
      "text/html": [
       "<div>\n",
       "<style scoped>\n",
       "    .dataframe tbody tr th:only-of-type {\n",
       "        vertical-align: middle;\n",
       "    }\n",
       "\n",
       "    .dataframe tbody tr th {\n",
       "        vertical-align: top;\n",
       "    }\n",
       "\n",
       "    .dataframe thead th {\n",
       "        text-align: right;\n",
       "    }\n",
       "</style>\n",
       "<table border=\"1\" class=\"dataframe\">\n",
       "  <thead>\n",
       "    <tr style=\"text-align: right;\">\n",
       "      <th></th>\n",
       "      <th>accuracy</th>\n",
       "      <th>balanced accuracy</th>\n",
       "      <th>f1</th>\n",
       "      <th>precision</th>\n",
       "      <th>false positive rate</th>\n",
       "      <th>false negative rate</th>\n",
       "      <th>selection rate</th>\n",
       "      <th>count</th>\n",
       "    </tr>\n",
       "    <tr>\n",
       "      <th>majmin</th>\n",
       "      <th></th>\n",
       "      <th></th>\n",
       "      <th></th>\n",
       "      <th></th>\n",
       "      <th></th>\n",
       "      <th></th>\n",
       "      <th></th>\n",
       "      <th></th>\n",
       "    </tr>\n",
       "  </thead>\n",
       "  <tbody>\n",
       "    <tr>\n",
       "      <th>majority</th>\n",
       "      <td>0.247492</td>\n",
       "      <td>0.561311</td>\n",
       "      <td>0.257570</td>\n",
       "      <td>0.148092</td>\n",
       "      <td>0.865234</td>\n",
       "      <td>0.012144</td>\n",
       "      <td>0.881437</td>\n",
       "      <td>69170.0</td>\n",
       "    </tr>\n",
       "    <tr>\n",
       "      <th>minority</th>\n",
       "      <td>0.151217</td>\n",
       "      <td>0.517368</td>\n",
       "      <td>0.212485</td>\n",
       "      <td>0.118968</td>\n",
       "      <td>0.958508</td>\n",
       "      <td>0.006757</td>\n",
       "      <td>0.962512</td>\n",
       "      <td>20540.0</td>\n",
       "    </tr>\n",
       "  </tbody>\n",
       "</table>\n",
       "</div>"
      ],
      "text/plain": [
       "          accuracy  balanced accuracy        f1  precision  \\\n",
       "majmin                                                       \n",
       "majority  0.247492           0.561311  0.257570   0.148092   \n",
       "minority  0.151217           0.517368  0.212485   0.118968   \n",
       "\n",
       "          false positive rate  false negative rate  selection rate    count  \n",
       "majmin                                                                       \n",
       "majority             0.865234             0.012144        0.881437  69170.0  \n",
       "minority             0.958508             0.006757        0.962512  20540.0  "
      ]
     },
     "execution_count": 62,
     "metadata": {},
     "output_type": "execute_result"
    }
   ],
   "source": [
    "metric_frame.by_group"
   ]
  },
  {
   "cell_type": "code",
   "execution_count": 63,
   "id": "a9ddbe63",
   "metadata": {
    "execution": {
     "iopub.execute_input": "2025-08-05T14:55:49.593508Z",
     "iopub.status.busy": "2025-08-05T14:55:49.592867Z",
     "iopub.status.idle": "2025-08-05T14:55:52.246958Z",
     "shell.execute_reply": "2025-08-05T14:55:52.245996Z"
    },
    "papermill": {
     "duration": 2.690017,
     "end_time": "2025-08-05T14:55:52.248417",
     "exception": false,
     "start_time": "2025-08-05T14:55:49.558400",
     "status": "completed"
    },
    "tags": []
   },
   "outputs": [
    {
     "data": {
      "text/plain": [
       "array([[<Axes: title={'center': 'accuracy'}, xlabel='majmin'>,\n",
       "        <Axes: title={'center': 'balanced accuracy'}, xlabel='majmin'>,\n",
       "        <Axes: title={'center': 'f1'}, xlabel='majmin'>],\n",
       "       [<Axes: title={'center': 'precision'}, xlabel='majmin'>,\n",
       "        <Axes: title={'center': 'false positive rate'}, xlabel='majmin'>,\n",
       "        <Axes: title={'center': 'false negative rate'}, xlabel='majmin'>],\n",
       "       [<Axes: title={'center': 'selection rate'}, xlabel='majmin'>,\n",
       "        <Axes: title={'center': 'count'}, xlabel='majmin'>,\n",
       "        <Axes: xlabel='majmin'>]], dtype=object)"
      ]
     },
     "execution_count": 63,
     "metadata": {},
     "output_type": "execute_result"
    },
    {
     "data": {
      "image/png": "[encoded data removed]",
      "text/plain": [
       "<Figure size 1200x800 with 9 Axes>"
      ]
     },
     "metadata": {},
     "output_type": "display_data"
    }
   ],
   "source": [
    "# In a graphic\n",
    "metric_frame.by_group.plot.bar(\n",
    "    subplots=True,\n",
    "    layout=[3, 3],\n",
    "    legend=False,\n",
    "    figsize=[12, 8],\n",
    "    title=\"Show all metrics\",\n",
    ")"
   ]
  },
  {
   "cell_type": "markdown",
   "id": "f57a0bac",
   "metadata": {
    "papermill": {
     "duration": 0.013826,
     "end_time": "2025-08-05T14:55:52.278896",
     "exception": false,
     "start_time": "2025-08-05T14:55:52.265070",
     "status": "completed"
    },
    "tags": []
   },
   "source": [
    "# Final Output"
   ]
  },
  {
   "cell_type": "code",
   "execution_count": 64,
   "id": "96d280a3",
   "metadata": {
    "execution": {
     "iopub.execute_input": "2025-08-05T14:55:52.308191Z",
     "iopub.status.busy": "2025-08-05T14:55:52.307688Z",
     "iopub.status.idle": "2025-08-05T14:55:52.315455Z",
     "shell.execute_reply": "2025-08-05T14:55:52.314628Z"
    },
    "papermill": {
     "duration": 0.024183,
     "end_time": "2025-08-05T14:55:52.316775",
     "exception": false,
     "start_time": "2025-08-05T14:55:52.292592",
     "status": "completed"
    },
    "tags": []
   },
   "outputs": [
    {
     "data": {
      "text/plain": [
       "4"
      ]
     },
     "execution_count": 64,
     "metadata": {},
     "output_type": "execute_result"
    }
   ],
   "source": [
    "sub_universes = universe_analysis.generate_sub_universes()\n",
    "len(sub_universes)"
   ]
  },
  {
   "cell_type": "code",
   "execution_count": 65,
   "id": "92adf7ba",
   "metadata": {
    "execution": {
     "iopub.execute_input": "2025-08-05T14:55:52.345659Z",
     "iopub.status.busy": "2025-08-05T14:55:52.345036Z",
     "iopub.status.idle": "2025-08-05T14:55:52.370149Z",
     "shell.execute_reply": "2025-08-05T14:55:52.369254Z"
    },
    "papermill": {
     "duration": 0.041019,
     "end_time": "2025-08-05T14:55:52.371795",
     "exception": false,
     "start_time": "2025-08-05T14:55:52.330776",
     "status": "completed"
    },
    "tags": []
   },
   "outputs": [],
   "source": [
    "def filter_sub_universe_data(sub_universe, org_test):\n",
    "    # Keep all rows — no filtering\n",
    "    keep_rows_mask = np.ones(org_test.shape[0], dtype=bool)\n",
    "\n",
    "    print(f\"[INFO] Keeping all rows: {keep_rows_mask.sum()} rows retained.\")\n",
    "    return keep_rows_mask"
   ]
  },
  {
   "cell_type": "code",
   "execution_count": 66,
   "id": "4a759155",
   "metadata": {
    "execution": {
     "iopub.execute_input": "2025-08-05T14:55:52.400837Z",
     "iopub.status.busy": "2025-08-05T14:55:52.400305Z",
     "iopub.status.idle": "2025-08-05T14:56:00.356537Z",
     "shell.execute_reply": "2025-08-05T14:56:00.355496Z"
    },
    "papermill": {
     "duration": 7.972162,
     "end_time": "2025-08-05T14:56:00.358573",
     "exception": false,
     "start_time": "2025-08-05T14:55:52.386411",
     "status": "completed"
    },
    "tags": []
   },
   "outputs": [
    {
     "name": "stdout",
     "output_type": "stream",
     "text": [
      "Stopping execution_time clock.\n",
      "[INFO] Keeping all rows: 89710 rows retained.\n"
     ]
    },
    {
     "name": "stdout",
     "output_type": "stream",
     "text": [
      "[INFO] Keeping all rows: 89710 rows retained.\n"
     ]
    },
    {
     "name": "stdout",
     "output_type": "stream",
     "text": [
      "[INFO] Keeping all rows: 89710 rows retained.\n"
     ]
    },
    {
     "name": "stdout",
     "output_type": "stream",
     "text": [
      "[INFO] Keeping all rows: 89710 rows retained.\n"
     ]
    },
    {
     "data": {
      "text/html": [
       "<div>\n",
       "<style scoped>\n",
       "    .dataframe tbody tr th:only-of-type {\n",
       "        vertical-align: middle;\n",
       "    }\n",
       "\n",
       "    .dataframe tbody tr th {\n",
       "        vertical-align: top;\n",
       "    }\n",
       "\n",
       "    .dataframe thead th {\n",
       "        text-align: right;\n",
       "    }\n",
       "</style>\n",
       "<table border=\"1\" class=\"dataframe\">\n",
       "  <thead>\n",
       "    <tr style=\"text-align: right;\">\n",
       "      <th></th>\n",
       "      <th>run_no</th>\n",
       "      <th>universe_id</th>\n",
       "      <th>universe_settings</th>\n",
       "      <th>execution_time</th>\n",
       "      <th>test_size_n</th>\n",
       "      <th>test_size_frac</th>\n",
       "      <th>fair_main_equalized_odds_difference</th>\n",
       "      <th>fair_main_equalized_odds_ratio</th>\n",
       "      <th>fair_main_demographic_parity_difference</th>\n",
       "      <th>fair_main_demographic_parity_ratio</th>\n",
       "      <th>...</th>\n",
       "      <th>perf_grp_precision_0</th>\n",
       "      <th>perf_grp_precision_1</th>\n",
       "      <th>perf_grp_false positive rate_0</th>\n",
       "      <th>perf_grp_false positive rate_1</th>\n",
       "      <th>perf_grp_false negative rate_0</th>\n",
       "      <th>perf_grp_false negative rate_1</th>\n",
       "      <th>perf_grp_selection rate_0</th>\n",
       "      <th>perf_grp_selection rate_1</th>\n",
       "      <th>perf_grp_count_0</th>\n",
       "      <th>perf_grp_count_1</th>\n",
       "    </tr>\n",
       "  </thead>\n",
       "  <tbody>\n",
       "    <tr>\n",
       "      <th>0</th>\n",
       "      <td>15</td>\n",
       "      <td>7751cc1fc37583662872acc321b2c017</td>\n",
       "      <td>{\"cutoff\": \"quantile_0.1\", \"eval_fairness_grou...</td>\n",
       "      <td>36.039239</td>\n",
       "      <td>89710</td>\n",
       "      <td>1.0</td>\n",
       "      <td>0.093274</td>\n",
       "      <td>0.902689</td>\n",
       "      <td>0.081075</td>\n",
       "      <td>0.915767</td>\n",
       "      <td>...</td>\n",
       "      <td>NaN</td>\n",
       "      <td>NaN</td>\n",
       "      <td>NaN</td>\n",
       "      <td>NaN</td>\n",
       "      <td>NaN</td>\n",
       "      <td>NaN</td>\n",
       "      <td>NaN</td>\n",
       "      <td>NaN</td>\n",
       "      <td>NaN</td>\n",
       "      <td>NaN</td>\n",
       "    </tr>\n",
       "    <tr>\n",
       "      <th>0</th>\n",
       "      <td>15</td>\n",
       "      <td>7751cc1fc37583662872acc321b2c017</td>\n",
       "      <td>{\"cutoff\": \"quantile_0.1\", \"eval_fairness_grou...</td>\n",
       "      <td>36.039239</td>\n",
       "      <td>89710</td>\n",
       "      <td>1.0</td>\n",
       "      <td>0.093274</td>\n",
       "      <td>0.902689</td>\n",
       "      <td>0.081075</td>\n",
       "      <td>0.915767</td>\n",
       "      <td>...</td>\n",
       "      <td>0.118968</td>\n",
       "      <td>0.148092</td>\n",
       "      <td>0.958508</td>\n",
       "      <td>0.865234</td>\n",
       "      <td>0.006757</td>\n",
       "      <td>0.012144</td>\n",
       "      <td>0.962512</td>\n",
       "      <td>0.881437</td>\n",
       "      <td>20540.0</td>\n",
       "      <td>69170.0</td>\n",
       "    </tr>\n",
       "    <tr>\n",
       "      <th>0</th>\n",
       "      <td>15</td>\n",
       "      <td>7751cc1fc37583662872acc321b2c017</td>\n",
       "      <td>{\"cutoff\": \"quantile_0.25\", \"eval_fairness_gro...</td>\n",
       "      <td>36.039239</td>\n",
       "      <td>89710</td>\n",
       "      <td>1.0</td>\n",
       "      <td>0.159268</td>\n",
       "      <td>0.810971</td>\n",
       "      <td>0.138163</td>\n",
       "      <td>0.838693</td>\n",
       "      <td>...</td>\n",
       "      <td>NaN</td>\n",
       "      <td>NaN</td>\n",
       "      <td>NaN</td>\n",
       "      <td>NaN</td>\n",
       "      <td>NaN</td>\n",
       "      <td>NaN</td>\n",
       "      <td>NaN</td>\n",
       "      <td>NaN</td>\n",
       "      <td>NaN</td>\n",
       "      <td>NaN</td>\n",
       "    </tr>\n",
       "    <tr>\n",
       "      <th>0</th>\n",
       "      <td>15</td>\n",
       "      <td>7751cc1fc37583662872acc321b2c017</td>\n",
       "      <td>{\"cutoff\": \"quantile_0.25\", \"eval_fairness_gro...</td>\n",
       "      <td>36.039239</td>\n",
       "      <td>89710</td>\n",
       "      <td>1.0</td>\n",
       "      <td>0.159268</td>\n",
       "      <td>0.810971</td>\n",
       "      <td>0.138163</td>\n",
       "      <td>0.838693</td>\n",
       "      <td>...</td>\n",
       "      <td>0.129711</td>\n",
       "      <td>0.174505</td>\n",
       "      <td>0.842560</td>\n",
       "      <td>0.683292</td>\n",
       "      <td>0.036318</td>\n",
       "      <td>0.051313</td>\n",
       "      <td>0.856524</td>\n",
       "      <td>0.718361</td>\n",
       "      <td>20540.0</td>\n",
       "      <td>69170.0</td>\n",
       "    </tr>\n",
       "  </tbody>\n",
       "</table>\n",
       "<p>4 rows × 50 columns</p>\n",
       "</div>"
      ],
      "text/plain": [
       "  run_no                       universe_id  \\\n",
       "0     15  7751cc1fc37583662872acc321b2c017   \n",
       "0     15  7751cc1fc37583662872acc321b2c017   \n",
       "0     15  7751cc1fc37583662872acc321b2c017   \n",
       "0     15  7751cc1fc37583662872acc321b2c017   \n",
       "\n",
       "                                   universe_settings  execution_time  \\\n",
       "0  {\"cutoff\": \"quantile_0.1\", \"eval_fairness_grou...       36.039239   \n",
       "0  {\"cutoff\": \"quantile_0.1\", \"eval_fairness_grou...       36.039239   \n",
       "0  {\"cutoff\": \"quantile_0.25\", \"eval_fairness_gro...       36.039239   \n",
       "0  {\"cutoff\": \"quantile_0.25\", \"eval_fairness_gro...       36.039239   \n",
       "\n",
       "   test_size_n  test_size_frac  fair_main_equalized_odds_difference  \\\n",
       "0        89710             1.0                             0.093274   \n",
       "0        89710             1.0                             0.093274   \n",
       "0        89710             1.0                             0.159268   \n",
       "0        89710             1.0                             0.159268   \n",
       "\n",
       "   fair_main_equalized_odds_ratio  fair_main_demographic_parity_difference  \\\n",
       "0                        0.902689                                 0.081075   \n",
       "0                        0.902689                                 0.081075   \n",
       "0                        0.810971                                 0.138163   \n",
       "0                        0.810971                                 0.138163   \n",
       "\n",
       "   fair_main_demographic_parity_ratio  ...  perf_grp_precision_0  \\\n",
       "0                            0.915767  ...                   NaN   \n",
       "0                            0.915767  ...              0.118968   \n",
       "0                            0.838693  ...                   NaN   \n",
       "0                            0.838693  ...              0.129711   \n",
       "\n",
       "   perf_grp_precision_1  perf_grp_false positive rate_0  \\\n",
       "0                   NaN                             NaN   \n",
       "0              0.148092                        0.958508   \n",
       "0                   NaN                             NaN   \n",
       "0              0.174505                        0.842560   \n",
       "\n",
       "   perf_grp_false positive rate_1  perf_grp_false negative rate_0  \\\n",
       "0                             NaN                             NaN   \n",
       "0                        0.865234                        0.006757   \n",
       "0                             NaN                             NaN   \n",
       "0                        0.683292                        0.036318   \n",
       "\n",
       "   perf_grp_false negative rate_1  perf_grp_selection rate_0  \\\n",
       "0                             NaN                        NaN   \n",
       "0                        0.012144                   0.962512   \n",
       "0                             NaN                        NaN   \n",
       "0                        0.051313                   0.856524   \n",
       "\n",
       "   perf_grp_selection rate_1  perf_grp_count_0  perf_grp_count_1  \n",
       "0                        NaN               NaN               NaN  \n",
       "0                   0.881437           20540.0           69170.0  \n",
       "0                        NaN               NaN               NaN  \n",
       "0                   0.718361           20540.0           69170.0  \n",
       "\n",
       "[4 rows x 50 columns]"
      ]
     },
     "execution_count": 66,
     "metadata": {},
     "output_type": "execute_result"
    }
   ],
   "source": [
    "final_output = universe_analysis.generate_final_output(\n",
    "    y_pred_prob=probs_test,\n",
    "    y_test=y_true,\n",
    "    org_test=org_test,\n",
    "    filter_data=filter_sub_universe_data,\n",
    "    cp_metrics_df=cp_metrics_df,\n",
    "    save=True,\n",
    ")\n",
    "final_output"
   ]
  }
 ],
 "metadata": {
  "celltoolbar": "Tags",
  "kernelspec": {
   "display_name": "Python (CMA Fairness)",
   "language": "python",
   "name": "cma_fair_env"
  },
  "language_info": {
   "codemirror_mode": {
    "name": "ipython",
    "version": 3
   },
   "file_extension": ".py",
   "mimetype": "text/x-python",
   "name": "python",
   "nbconvert_exporter": "python",
   "pygments_lexer": "ipython3",
   "version": "3.10.12"
  },
  "papermill": {
   "default_parameters": {},
   "duration": 48.210111,
   "end_time": "2025-08-05T14:56:01.206613",
   "environment_variables": {},
   "exception": null,
   "input_path": "universe_analysis.ipynb",
   "output_path": "output/runs/15/notebooks/m_15-7751cc1fc37583662872acc321b2c017.ipynb",
   "parameters": {
    "output_dir": "output",
    "run_no": "15",
    "seed": "2023",
    "universe": "{\"cutoff\": [\"quantile_0.1\", \"quantile_0.25\"], \"eval_fairness_grouping\": [\"majority-minority\", \"nationality-all\"], \"exclude_features\": \"nationality-sex\", \"exclude_subgroups\": \"keep-all\", \"model\": \"elasticnet\", \"scale\": \"scale\", \"training_size\": \"25k\", \"training_year\": \"2012_14\"}",
    "universe_id": "7751cc1fc37583662872acc321b2c017"
   },
   "start_time": "2025-08-05T14:55:12.996502",
   "version": "2.6.0"
  }
 },
 "nbformat": 4,
 "nbformat_minor": 5
}