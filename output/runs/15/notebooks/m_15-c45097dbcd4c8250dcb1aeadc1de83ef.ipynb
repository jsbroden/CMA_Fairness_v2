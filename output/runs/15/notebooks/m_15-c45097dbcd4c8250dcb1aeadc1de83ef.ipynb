{
 "cells": [
  {
   "cell_type": "code",
   "execution_count": 1,
   "id": "f159f837-637b-42ba-96b5-ec9a68c44524",
   "metadata": {
    "execution": {
     "iopub.execute_input": "2025-08-05T15:13:58.740125Z",
     "iopub.status.busy": "2025-08-05T15:13:58.739208Z",
     "iopub.status.idle": "2025-08-05T15:13:58.752734Z",
     "shell.execute_reply": "2025-08-05T15:13:58.751542Z"
    },
    "papermill": {
     "duration": 0.033622,
     "end_time": "2025-08-05T15:13:58.754715",
     "exception": false,
     "start_time": "2025-08-05T15:13:58.721093",
     "status": "completed"
    },
    "tags": []
   },
   "outputs": [
    {
     "name": "stdout",
     "output_type": "stream",
     "text": [
      "/dss/dsshome1/0C/ra93lal2/cma/CMA_Fairness_v2\n"
     ]
    },
    {
     "name": "stderr",
     "output_type": "stream",
     "text": [
      "/dss/dsshome1/0C/ra93lal2/.local/share/virtualenvs/CMA_Fairness_v2-3j10GkSs/lib/python3.10/site-packages/IPython/core/magics/osm.py:393: UserWarning: This is now an optional IPython functionality, using bookmarks requires you to install the `pickleshare` library.\n",
      "  bkms = self.shell.db.get('bookmarks', {})\n",
      "/dss/dsshome1/0C/ra93lal2/.local/share/virtualenvs/CMA_Fairness_v2-3j10GkSs/lib/python3.10/site-packages/IPython/core/magics/osm.py:417: UserWarning: This is now an optional IPython functionality, setting dhist requires you to install the `pickleshare` library.\n",
      "  self.shell.db['dhist'] = compress_dhist(dhist)[-100:]\n"
     ]
    }
   ],
   "source": [
    "%cd ~/cma/CMA_Fairness_v2"
   ]
  },
  {
   "cell_type": "markdown",
   "id": "de2603b9",
   "metadata": {
    "papermill": {
     "duration": 0.008305,
     "end_time": "2025-08-05T15:13:58.773587",
     "exception": false,
     "start_time": "2025-08-05T15:13:58.765282",
     "status": "completed"
    },
    "tags": []
   },
   "source": [
    "The following cell holds the definition of our parameters, these values can be overriden by rendering the with e.g. the following command:\n",
    "\n",
    "papermill -p alpha 0.2 -p ratio 0.3 universe_analysis.ipynb output/test_run.ipynb"
   ]
  },
  {
   "cell_type": "code",
   "execution_count": 2,
   "id": "a80968a0-40bb-4fa9-85ef-2d5eefb01975",
   "metadata": {
    "execution": {
     "iopub.execute_input": "2025-08-05T15:13:58.791690Z",
     "iopub.status.busy": "2025-08-05T15:13:58.791342Z",
     "iopub.status.idle": "2025-08-05T15:13:58.796253Z",
     "shell.execute_reply": "2025-08-05T15:13:58.795517Z"
    },
    "papermill": {
     "duration": 0.016058,
     "end_time": "2025-08-05T15:13:58.797931",
     "exception": false,
     "start_time": "2025-08-05T15:13:58.781873",
     "status": "completed"
    },
    "tags": []
   },
   "outputs": [
    {
     "name": "stdout",
     "output_type": "stream",
     "text": [
      "Current working directory: /dss/dsshome1/0C/ra93lal2/cma/CMA_Fairness_v2\n"
     ]
    }
   ],
   "source": [
    "import os\n",
    "print(\"Current working directory:\", os.getcwd())"
   ]
  },
  {
   "cell_type": "code",
   "execution_count": 3,
   "id": "2dce4c03",
   "metadata": {
    "execution": {
     "iopub.execute_input": "2025-08-05T15:13:58.816447Z",
     "iopub.status.busy": "2025-08-05T15:13:58.816235Z",
     "iopub.status.idle": "2025-08-05T15:13:58.820755Z",
     "shell.execute_reply": "2025-08-05T15:13:58.819950Z"
    },
    "papermill": {
     "duration": 0.015464,
     "end_time": "2025-08-05T15:13:58.822348",
     "exception": false,
     "start_time": "2025-08-05T15:13:58.806884",
     "status": "completed"
    },
    "tags": [
     "parameters"
    ]
   },
   "outputs": [],
   "source": [
    "run_no = 0\n",
    "universe_id = \"test\"\n",
    "universe = {\n",
    "    \"training_size\": \"25k\", # \"25k\", \"5k\", \"1k\"\n",
    "    \"training_year\": \"2014\", # \"2014\", \"2012_14\", \"2010_14\"\n",
    "    \"scale\": \"scale\", # \"scale\", \"do-not-scale\",\n",
    "    \"model\": \"elasticnet\", # \"logreg\", \"penalized_logreg\", \"rf\", \"gbm\", \"elasticnet\"\n",
    "    \"cutoff\": [\"quantile_0.15\", \"quantile_0.30\"],\n",
    "    \"exclude_features\": \"age\", # \"none\", \"nationality\", \"sex\", \"nationality-sex\", \"age\"\n",
    "    \"exclude_subgroups\": \"keep-all\", # \"keep-all\", \"drop-non-german\"\n",
    "    \"eval_fairness_grouping\": [\"majority-minority\", \"nationality-all\"]\n",
    "}\n",
    "\n",
    "output_dir=\"./output\"\n",
    "seed=0"
   ]
  },
  {
   "cell_type": "code",
   "execution_count": 4,
   "id": "8b85d2e0",
   "metadata": {
    "execution": {
     "iopub.execute_input": "2025-08-05T15:13:58.841278Z",
     "iopub.status.busy": "2025-08-05T15:13:58.840996Z",
     "iopub.status.idle": "2025-08-05T15:13:58.845193Z",
     "shell.execute_reply": "2025-08-05T15:13:58.844416Z"
    },
    "papermill": {
     "duration": 0.014875,
     "end_time": "2025-08-05T15:13:58.846679",
     "exception": false,
     "start_time": "2025-08-05T15:13:58.831804",
     "status": "completed"
    },
    "tags": [
     "injected-parameters"
    ]
   },
   "outputs": [],
   "source": [
    "# Parameters\n",
    "universe_id = \"c45097dbcd4c8250dcb1aeadc1de83ef\"\n",
    "run_no = \"15\"\n",
    "universe = \"{\\\"cutoff\\\": [\\\"quantile_0.1\\\", \\\"quantile_0.25\\\"], \\\"eval_fairness_grouping\\\": [\\\"majority-minority\\\", \\\"nationality-all\\\"], \\\"exclude_features\\\": \\\"sex\\\", \\\"exclude_subgroups\\\": \\\"keep-all\\\", \\\"model\\\": \\\"penalized_logreg\\\", \\\"scale\\\": \\\"do-not-scale\\\", \\\"training_size\\\": \\\"25k\\\", \\\"training_year\\\": \\\"2010_14\\\"}\"\n",
    "output_dir = \"output\"\n",
    "seed = \"2023\"\n"
   ]
  },
  {
   "cell_type": "code",
   "execution_count": 5,
   "id": "1650acaf",
   "metadata": {
    "execution": {
     "iopub.execute_input": "2025-08-05T15:13:58.868910Z",
     "iopub.status.busy": "2025-08-05T15:13:58.868640Z",
     "iopub.status.idle": "2025-08-05T15:13:58.872433Z",
     "shell.execute_reply": "2025-08-05T15:13:58.871751Z"
    },
    "papermill": {
     "duration": 0.017838,
     "end_time": "2025-08-05T15:13:58.873727",
     "exception": false,
     "start_time": "2025-08-05T15:13:58.855889",
     "status": "completed"
    },
    "tags": []
   },
   "outputs": [],
   "source": [
    "import json\n",
    "if isinstance(universe, str):\n",
    "    universe = json.loads(universe)"
   ]
  },
  {
   "cell_type": "code",
   "execution_count": 6,
   "id": "16620c48",
   "metadata": {
    "execution": {
     "iopub.execute_input": "2025-08-05T15:13:58.891660Z",
     "iopub.status.busy": "2025-08-05T15:13:58.891448Z",
     "iopub.status.idle": "2025-08-05T15:13:58.975188Z",
     "shell.execute_reply": "2025-08-05T15:13:58.974275Z"
    },
    "papermill": {
     "duration": 0.094868,
     "end_time": "2025-08-05T15:13:58.977012",
     "exception": false,
     "start_time": "2025-08-05T15:13:58.882144",
     "status": "completed"
    },
    "tags": []
   },
   "outputs": [],
   "source": [
    "# Auto-reload the custom package\n",
    "%load_ext autoreload\n",
    "%autoreload 1\n",
    "%aimport fairness_multiverse"
   ]
  },
  {
   "cell_type": "code",
   "execution_count": 7,
   "id": "01c5c9f3",
   "metadata": {
    "execution": {
     "iopub.execute_input": "2025-08-05T15:13:59.017989Z",
     "iopub.status.busy": "2025-08-05T15:13:59.017438Z",
     "iopub.status.idle": "2025-08-05T15:14:00.311640Z",
     "shell.execute_reply": "2025-08-05T15:14:00.310704Z"
    },
    "papermill": {
     "duration": 1.315954,
     "end_time": "2025-08-05T15:14:00.313221",
     "exception": false,
     "start_time": "2025-08-05T15:13:58.997267",
     "status": "completed"
    },
    "tags": []
   },
   "outputs": [],
   "source": [
    "from fairness_multiverse.universe import UniverseAnalysis\n",
    "\n",
    "universe_analysis = UniverseAnalysis(\n",
    "    run_no = run_no,\n",
    "    universe_id = universe_id,\n",
    "    universe = universe,\n",
    "    output_dir=output_dir,\n",
    ")"
   ]
  },
  {
   "cell_type": "code",
   "execution_count": 8,
   "id": "106241f5",
   "metadata": {
    "execution": {
     "iopub.execute_input": "2025-08-05T15:14:00.332690Z",
     "iopub.status.busy": "2025-08-05T15:14:00.331977Z",
     "iopub.status.idle": "2025-08-05T15:14:00.338033Z",
     "shell.execute_reply": "2025-08-05T15:14:00.336951Z"
    },
    "papermill": {
     "duration": 0.016972,
     "end_time": "2025-08-05T15:14:00.339487",
     "exception": false,
     "start_time": "2025-08-05T15:14:00.322515",
     "status": "completed"
    },
    "tags": []
   },
   "outputs": [
    {
     "name": "stdout",
     "output_type": "stream",
     "text": [
      "Using Seed: 2023\n"
     ]
    }
   ],
   "source": [
    "import numpy as np\n",
    "parsed_seed = int(seed)\n",
    "np.random.seed(parsed_seed)\n",
    "print(f\"Using Seed: {parsed_seed}\")"
   ]
  },
  {
   "cell_type": "markdown",
   "id": "e0ebdc57",
   "metadata": {
    "papermill": {
     "duration": 0.009043,
     "end_time": "2025-08-05T15:14:00.358161",
     "exception": false,
     "start_time": "2025-08-05T15:14:00.349118",
     "status": "completed"
    },
    "tags": []
   },
   "source": [
    "# Loading Data"
   ]
  },
  {
   "cell_type": "code",
   "execution_count": 9,
   "id": "f0496b8a",
   "metadata": {
    "execution": {
     "iopub.execute_input": "2025-08-05T15:14:00.376687Z",
     "iopub.status.busy": "2025-08-05T15:14:00.376159Z",
     "iopub.status.idle": "2025-08-05T15:14:11.033474Z",
     "shell.execute_reply": "2025-08-05T15:14:11.032321Z"
    },
    "papermill": {
     "duration": 10.668468,
     "end_time": "2025-08-05T15:14:11.035308",
     "exception": false,
     "start_time": "2025-08-05T15:14:00.366840",
     "status": "completed"
    },
    "tags": []
   },
   "outputs": [
    {
     "name": "stdout",
     "output_type": "stream",
     "text": [
      "Loading SIAB data from cache: data/siab_cached.csv.gz\n"
     ]
    },
    {
     "name": "stdout",
     "output_type": "stream",
     "text": [
      "(643690, 164)\n"
     ]
    }
   ],
   "source": [
    "from pathlib import Path\n",
    "import pandas as pd\n",
    "\n",
    "# File paths\n",
    "raw_file = Path(\"data/raw/siab.csv\")\n",
    "cache_file = Path(\"data/siab_cached.csv.gz\")\n",
    "\n",
    "# Ensure cache directory exists\n",
    "cache_file.parent.mkdir(parents=True, exist_ok=True)\n",
    "\n",
    "# Load with simple caching\n",
    "if cache_file.exists():\n",
    "    print(f\"Loading SIAB data from cache: {cache_file}\")\n",
    "    siab = pd.read_csv(cache_file, compression='gzip')\n",
    "else:\n",
    "    print(f\"Cache not found. Reading raw SIAB data: {raw_file}\")\n",
    "    siab = pd.read_csv(raw_file)\n",
    "    siab.to_csv(cache_file, index=False, compression='gzip')\n",
    "    print(f\"Cached SIAB data to: {cache_file}\")\n",
    "\n",
    "print(siab.shape)"
   ]
  },
  {
   "cell_type": "code",
   "execution_count": 10,
   "id": "db0ca512-5f53-4dba-abdb-a2888bca41ba",
   "metadata": {
    "execution": {
     "iopub.execute_input": "2025-08-05T15:14:11.076153Z",
     "iopub.status.busy": "2025-08-05T15:14:11.075687Z",
     "iopub.status.idle": "2025-08-05T15:14:11.082077Z",
     "shell.execute_reply": "2025-08-05T15:14:11.080917Z"
    },
    "papermill": {
     "duration": 0.027252,
     "end_time": "2025-08-05T15:14:11.084138",
     "exception": false,
     "start_time": "2025-08-05T15:14:11.056886",
     "status": "completed"
    },
    "tags": []
   },
   "outputs": [],
   "source": [
    "#siab"
   ]
  },
  {
   "cell_type": "markdown",
   "id": "997051c5-15bd-4b69-9786-c3001a3ce484",
   "metadata": {
    "papermill": {
     "duration": 0.017255,
     "end_time": "2025-08-05T15:14:11.121154",
     "exception": false,
     "start_time": "2025-08-05T15:14:11.103899",
     "status": "completed"
    },
    "tags": []
   },
   "source": [
    "# Splitting Data and Setting Training Data Size"
   ]
  },
  {
   "cell_type": "code",
   "execution_count": 11,
   "id": "aea9c6ef-6f46-42c8-85eb-5a62025c1508",
   "metadata": {
    "execution": {
     "iopub.execute_input": "2025-08-05T15:14:11.158792Z",
     "iopub.status.busy": "2025-08-05T15:14:11.158246Z",
     "iopub.status.idle": "2025-08-05T15:14:12.265983Z",
     "shell.execute_reply": "2025-08-05T15:14:12.264880Z"
    },
    "papermill": {
     "duration": 1.129412,
     "end_time": "2025-08-05T15:14:12.268052",
     "exception": false,
     "start_time": "2025-08-05T15:14:11.138640",
     "status": "completed"
    },
    "tags": []
   },
   "outputs": [],
   "source": [
    "from fairness_multiverse.universe import sample_by_year_size\n",
    "\n",
    "siab_train = sample_by_year_size(siab,\n",
    "                               training_year=universe[\"training_year\"],\n",
    "                               training_size=universe[\"training_size\"])"
   ]
  },
  {
   "cell_type": "code",
   "execution_count": 12,
   "id": "8d3afb32-789d-442c-8d5d-9f5aa8dd2eed",
   "metadata": {
    "execution": {
     "iopub.execute_input": "2025-08-05T15:14:12.309970Z",
     "iopub.status.busy": "2025-08-05T15:14:12.309204Z",
     "iopub.status.idle": "2025-08-05T15:14:12.314453Z",
     "shell.execute_reply": "2025-08-05T15:14:12.313451Z"
    },
    "papermill": {
     "duration": 0.027725,
     "end_time": "2025-08-05T15:14:12.316330",
     "exception": false,
     "start_time": "2025-08-05T15:14:12.288605",
     "status": "completed"
    },
    "tags": []
   },
   "outputs": [],
   "source": [
    "#siab_train.shape"
   ]
  },
  {
   "cell_type": "code",
   "execution_count": 13,
   "id": "d582db68-1a4c-47fb-84fc-08518dc1975a",
   "metadata": {
    "execution": {
     "iopub.execute_input": "2025-08-05T15:14:12.358043Z",
     "iopub.status.busy": "2025-08-05T15:14:12.357713Z",
     "iopub.status.idle": "2025-08-05T15:14:12.362447Z",
     "shell.execute_reply": "2025-08-05T15:14:12.361230Z"
    },
    "papermill": {
     "duration": 0.027182,
     "end_time": "2025-08-05T15:14:12.364240",
     "exception": false,
     "start_time": "2025-08-05T15:14:12.337058",
     "status": "completed"
    },
    "tags": []
   },
   "outputs": [],
   "source": [
    "#display(siab_train.groupby(\"year\").size())"
   ]
  },
  {
   "cell_type": "code",
   "execution_count": 14,
   "id": "a561edb4-d032-42cb-8256-22eac1111c64",
   "metadata": {
    "execution": {
     "iopub.execute_input": "2025-08-05T15:14:12.405587Z",
     "iopub.status.busy": "2025-08-05T15:14:12.404878Z",
     "iopub.status.idle": "2025-08-05T15:14:12.620994Z",
     "shell.execute_reply": "2025-08-05T15:14:12.619977Z"
    },
    "papermill": {
     "duration": 0.238805,
     "end_time": "2025-08-05T15:14:12.623147",
     "exception": false,
     "start_time": "2025-08-05T15:14:12.384342",
     "status": "completed"
    },
    "tags": []
   },
   "outputs": [],
   "source": [
    "#siab_train = siab_s[siab_s.year < 2015]\n",
    "siab_calib = siab[siab.year == 2015]\n",
    "siab_test = siab[siab.year == 2016]"
   ]
  },
  {
   "cell_type": "code",
   "execution_count": 15,
   "id": "472de16f-c3db-4916-846b-1f0de9cf1746",
   "metadata": {
    "execution": {
     "iopub.execute_input": "2025-08-05T15:14:12.665494Z",
     "iopub.status.busy": "2025-08-05T15:14:12.664772Z",
     "iopub.status.idle": "2025-08-05T15:14:12.679466Z",
     "shell.execute_reply": "2025-08-05T15:14:12.678581Z"
    },
    "papermill": {
     "duration": 0.036807,
     "end_time": "2025-08-05T15:14:12.680861",
     "exception": false,
     "start_time": "2025-08-05T15:14:12.644054",
     "status": "completed"
    },
    "tags": []
   },
   "outputs": [],
   "source": [
    "X_train = siab_train.iloc[:,4:164]\n",
    "y_train = siab_train.iloc[:, [3]]"
   ]
  },
  {
   "cell_type": "code",
   "execution_count": 16,
   "id": "828c96af-f43a-4ed6-ba47-8ac73a47d56c",
   "metadata": {
    "execution": {
     "iopub.execute_input": "2025-08-05T15:14:12.701337Z",
     "iopub.status.busy": "2025-08-05T15:14:12.700863Z",
     "iopub.status.idle": "2025-08-05T15:14:12.754187Z",
     "shell.execute_reply": "2025-08-05T15:14:12.752956Z"
    },
    "papermill": {
     "duration": 0.064996,
     "end_time": "2025-08-05T15:14:12.756225",
     "exception": false,
     "start_time": "2025-08-05T15:14:12.691229",
     "status": "completed"
    },
    "tags": []
   },
   "outputs": [],
   "source": [
    "X_calib = siab_calib.iloc[:,4:164]\n",
    "y_calib = siab_calib.iloc[:, [3]]"
   ]
  },
  {
   "cell_type": "code",
   "execution_count": 17,
   "id": "c34be9c3-6bd6-476e-acd3-845840e303be",
   "metadata": {
    "execution": {
     "iopub.execute_input": "2025-08-05T15:14:12.793203Z",
     "iopub.status.busy": "2025-08-05T15:14:12.792763Z",
     "iopub.status.idle": "2025-08-05T15:14:12.848039Z",
     "shell.execute_reply": "2025-08-05T15:14:12.846872Z"
    },
    "papermill": {
     "duration": 0.075095,
     "end_time": "2025-08-05T15:14:12.849903",
     "exception": false,
     "start_time": "2025-08-05T15:14:12.774808",
     "status": "completed"
    },
    "tags": []
   },
   "outputs": [],
   "source": [
    "X_test = siab_test.iloc[:,4:164]\n",
    "y_true = siab_test.iloc[:, [3]]"
   ]
  },
  {
   "cell_type": "code",
   "execution_count": 18,
   "id": "e6c733c5",
   "metadata": {
    "execution": {
     "iopub.execute_input": "2025-08-05T15:14:12.887733Z",
     "iopub.status.busy": "2025-08-05T15:14:12.887075Z",
     "iopub.status.idle": "2025-08-05T15:14:12.981110Z",
     "shell.execute_reply": "2025-08-05T15:14:12.980303Z"
    },
    "papermill": {
     "duration": 0.113755,
     "end_time": "2025-08-05T15:14:12.982861",
     "exception": false,
     "start_time": "2025-08-05T15:14:12.869106",
     "status": "completed"
    },
    "tags": []
   },
   "outputs": [],
   "source": [
    "# Auxiliary data needed downstream in the pipeline\n",
    "\n",
    "org_train = X_train.copy()\n",
    "org_test = X_test.copy()\n",
    "org_calib = X_calib.copy()"
   ]
  },
  {
   "cell_type": "markdown",
   "id": "0a4a1b33",
   "metadata": {
    "papermill": {
     "duration": 0.01768,
     "end_time": "2025-08-05T15:14:13.018383",
     "exception": false,
     "start_time": "2025-08-05T15:14:13.000703",
     "status": "completed"
    },
    "tags": []
   },
   "source": [
    "# Preprocessing Data"
   ]
  },
  {
   "cell_type": "code",
   "execution_count": 19,
   "id": "ca879031",
   "metadata": {
    "execution": {
     "iopub.execute_input": "2025-08-05T15:14:13.056539Z",
     "iopub.status.busy": "2025-08-05T15:14:13.056084Z",
     "iopub.status.idle": "2025-08-05T15:14:13.062334Z",
     "shell.execute_reply": "2025-08-05T15:14:13.061245Z"
    },
    "papermill": {
     "duration": 0.028176,
     "end_time": "2025-08-05T15:14:13.064102",
     "exception": false,
     "start_time": "2025-08-05T15:14:13.035926",
     "status": "completed"
    },
    "tags": []
   },
   "outputs": [],
   "source": [
    "# EXCLUDE PROTECTED FEATURES\n",
    "# ----------------------\n",
    "# \"exclude_features\": \"none\", # \"nationality\", \"sex\", \"nationality-sex\"\n",
    "\n",
    "excluded_features = universe[\"exclude_features\"].split(\"-\") # split, e.g.: \"nationality-sex\" -> [\"nationality\", \"sex\"]\n",
    "excluded_features_dictionary = {\n",
    "    \"nationality\": [\"maxdeutsch1\", \"maxdeutsch.Missing.\"],\n",
    "    \"sex\": [\"frau1\"],\n",
    "    \"age\": [\"age\"],\n",
    "}"
   ]
  },
  {
   "cell_type": "code",
   "execution_count": 20,
   "id": "b745ac60",
   "metadata": {
    "execution": {
     "iopub.execute_input": "2025-08-05T15:14:13.101655Z",
     "iopub.status.busy": "2025-08-05T15:14:13.101163Z",
     "iopub.status.idle": "2025-08-05T15:14:13.107085Z",
     "shell.execute_reply": "2025-08-05T15:14:13.105968Z"
    },
    "papermill": {
     "duration": 0.026087,
     "end_time": "2025-08-05T15:14:13.108683",
     "exception": false,
     "start_time": "2025-08-05T15:14:13.082596",
     "status": "completed"
    },
    "tags": []
   },
   "outputs": [],
   "source": [
    "# Code nice names to column names\n",
    "\n",
    "excluded_features_columns = [\n",
    "    excluded_features_dictionary[f] for f in excluded_features if len(f) > 0 and f != \"none\"\n",
    "]"
   ]
  },
  {
   "cell_type": "code",
   "execution_count": 21,
   "id": "f84f73a2",
   "metadata": {
    "execution": {
     "iopub.execute_input": "2025-08-05T15:14:13.146770Z",
     "iopub.status.busy": "2025-08-05T15:14:13.146304Z",
     "iopub.status.idle": "2025-08-05T15:14:13.152630Z",
     "shell.execute_reply": "2025-08-05T15:14:13.151697Z"
    },
    "papermill": {
     "duration": 0.028625,
     "end_time": "2025-08-05T15:14:13.154625",
     "exception": false,
     "start_time": "2025-08-05T15:14:13.126000",
     "status": "completed"
    },
    "tags": []
   },
   "outputs": [],
   "source": [
    "from utils import flatten_once\n",
    "\n",
    "excluded_features_columns = flatten_once(excluded_features_columns)"
   ]
  },
  {
   "cell_type": "code",
   "execution_count": 22,
   "id": "884dea22",
   "metadata": {
    "execution": {
     "iopub.execute_input": "2025-08-05T15:14:13.197404Z",
     "iopub.status.busy": "2025-08-05T15:14:13.197035Z",
     "iopub.status.idle": "2025-08-05T15:14:13.215784Z",
     "shell.execute_reply": "2025-08-05T15:14:13.214445Z"
    },
    "papermill": {
     "duration": 0.041789,
     "end_time": "2025-08-05T15:14:13.217793",
     "exception": false,
     "start_time": "2025-08-05T15:14:13.176004",
     "status": "completed"
    },
    "tags": []
   },
   "outputs": [
    {
     "name": "stdout",
     "output_type": "stream",
     "text": [
      "Dropping features: ['frau1']\n"
     ]
    }
   ],
   "source": [
    "if len(excluded_features_columns) > 0:\n",
    "    print(f\"Dropping features: {excluded_features_columns}\")\n",
    "    X_train.drop(excluded_features_columns, axis=1, inplace=True)"
   ]
  },
  {
   "cell_type": "code",
   "execution_count": 23,
   "id": "95ab8b16",
   "metadata": {
    "execution": {
     "iopub.execute_input": "2025-08-05T15:14:13.258775Z",
     "iopub.status.busy": "2025-08-05T15:14:13.256922Z",
     "iopub.status.idle": "2025-08-05T15:14:13.308984Z",
     "shell.execute_reply": "2025-08-05T15:14:13.308164Z"
    },
    "papermill": {
     "duration": 0.072741,
     "end_time": "2025-08-05T15:14:13.310505",
     "exception": false,
     "start_time": "2025-08-05T15:14:13.237764",
     "status": "completed"
    },
    "tags": []
   },
   "outputs": [
    {
     "name": "stdout",
     "output_type": "stream",
     "text": [
      "Dropping features: ['frau1']\n"
     ]
    }
   ],
   "source": [
    "if len(excluded_features_columns) > 0:\n",
    "    print(f\"Dropping features: {excluded_features_columns}\")\n",
    "    X_test.drop(excluded_features_columns, axis=1, inplace=True)"
   ]
  },
  {
   "cell_type": "code",
   "execution_count": 24,
   "id": "1853aaf5-fb9f-46cb-a2b5-8ea4ae2237e4",
   "metadata": {
    "execution": {
     "iopub.execute_input": "2025-08-05T15:14:13.332620Z",
     "iopub.status.busy": "2025-08-05T15:14:13.332105Z",
     "iopub.status.idle": "2025-08-05T15:14:13.383916Z",
     "shell.execute_reply": "2025-08-05T15:14:13.382985Z"
    },
    "papermill": {
     "duration": 0.064293,
     "end_time": "2025-08-05T15:14:13.385328",
     "exception": false,
     "start_time": "2025-08-05T15:14:13.321035",
     "status": "completed"
    },
    "tags": []
   },
   "outputs": [
    {
     "name": "stdout",
     "output_type": "stream",
     "text": [
      "Dropping features: ['frau1']\n"
     ]
    }
   ],
   "source": [
    "if len(excluded_features_columns) > 0:\n",
    "    print(f\"Dropping features: {excluded_features_columns}\")\n",
    "    X_calib.drop(excluded_features_columns, axis=1, inplace=True)"
   ]
  },
  {
   "cell_type": "code",
   "execution_count": 25,
   "id": "76c4dc6d",
   "metadata": {
    "execution": {
     "iopub.execute_input": "2025-08-05T15:14:13.407435Z",
     "iopub.status.busy": "2025-08-05T15:14:13.407075Z",
     "iopub.status.idle": "2025-08-05T15:14:13.413071Z",
     "shell.execute_reply": "2025-08-05T15:14:13.411501Z"
    },
    "papermill": {
     "duration": 0.026074,
     "end_time": "2025-08-05T15:14:13.422270",
     "exception": false,
     "start_time": "2025-08-05T15:14:13.396196",
     "status": "completed"
    },
    "tags": []
   },
   "outputs": [],
   "source": [
    "# EXCLUDE CERTAIN SUBGROUPS\n",
    "# ----------------------\n",
    "\n",
    "mode = universe.get(\"exclude_subgroups\", \"keep-all\") \n",
    "# Fetches the exclude_subgroups setting from the universe dict.\n",
    "# Defaults to \"keep-all\" if the key is missing."
   ]
  },
  {
   "cell_type": "code",
   "execution_count": 26,
   "id": "21994072",
   "metadata": {
    "execution": {
     "iopub.execute_input": "2025-08-05T15:14:13.464974Z",
     "iopub.status.busy": "2025-08-05T15:14:13.464540Z",
     "iopub.status.idle": "2025-08-05T15:14:13.475175Z",
     "shell.execute_reply": "2025-08-05T15:14:13.474162Z"
    },
    "papermill": {
     "duration": 0.033602,
     "end_time": "2025-08-05T15:14:13.477079",
     "exception": false,
     "start_time": "2025-08-05T15:14:13.443477",
     "status": "completed"
    },
    "tags": []
   },
   "outputs": [],
   "source": [
    "if mode == \"keep-all\":\n",
    "    keep_mask = pd.Series(True, index=org_train.index)\n",
    "\n",
    "# org_train contains the original feature columns from features_org (in Simson)\n",
    "# features_org contains unprocessed features, for me X_train at beginning ???\n",
    "# For keep-all, creates a boolean Series (keep_mask) of all True, so no rows are removed.\n",
    "\n",
    "elif mode == \"drop-non-german\":\n",
    "    keep_mask = org_train[\"maxdeutsch1\"] == 1 # ??? what about missing values?\n",
    "\n",
    "else:\n",
    "    raise ValueError(f\"Unsupported mode for exclude_subgroups: {mode}\")"
   ]
  },
  {
   "cell_type": "code",
   "execution_count": 27,
   "id": "71651440",
   "metadata": {
    "execution": {
     "iopub.execute_input": "2025-08-05T15:14:13.512328Z",
     "iopub.status.busy": "2025-08-05T15:14:13.511557Z",
     "iopub.status.idle": "2025-08-05T15:14:13.518344Z",
     "shell.execute_reply": "2025-08-05T15:14:13.517211Z"
    },
    "papermill": {
     "duration": 0.027873,
     "end_time": "2025-08-05T15:14:13.520028",
     "exception": false,
     "start_time": "2025-08-05T15:14:13.492155",
     "status": "completed"
    },
    "tags": []
   },
   "outputs": [],
   "source": [
    "n_drop = (~keep_mask).sum() # Calculates how many rows are set to be dropped\n",
    "if n_drop > 0:\n",
    "    pct = n_drop / len(keep_mask) * 100\n",
    "    print(f\"Dropping {n_drop} rows ({pct:.2f}%) where mode='{mode}'\")"
   ]
  },
  {
   "cell_type": "code",
   "execution_count": 28,
   "id": "5fb8eee5",
   "metadata": {
    "execution": {
     "iopub.execute_input": "2025-08-05T15:14:13.560932Z",
     "iopub.status.busy": "2025-08-05T15:14:13.560143Z",
     "iopub.status.idle": "2025-08-05T15:14:13.575165Z",
     "shell.execute_reply": "2025-08-05T15:14:13.574010Z"
    },
    "papermill": {
     "duration": 0.037459,
     "end_time": "2025-08-05T15:14:13.577027",
     "exception": false,
     "start_time": "2025-08-05T15:14:13.539568",
     "status": "completed"
    },
    "tags": []
   },
   "outputs": [],
   "source": [
    "X_train = X_train[keep_mask]"
   ]
  },
  {
   "cell_type": "code",
   "execution_count": 29,
   "id": "b202bb3a",
   "metadata": {
    "execution": {
     "iopub.execute_input": "2025-08-05T15:14:13.617867Z",
     "iopub.status.busy": "2025-08-05T15:14:13.617317Z",
     "iopub.status.idle": "2025-08-05T15:14:13.623975Z",
     "shell.execute_reply": "2025-08-05T15:14:13.622873Z"
    },
    "papermill": {
     "duration": 0.029038,
     "end_time": "2025-08-05T15:14:13.625915",
     "exception": false,
     "start_time": "2025-08-05T15:14:13.596877",
     "status": "completed"
    },
    "tags": []
   },
   "outputs": [],
   "source": [
    "y_train = y_train[keep_mask]"
   ]
  },
  {
   "cell_type": "markdown",
   "id": "493e2ac3",
   "metadata": {
    "papermill": {
     "duration": 0.022154,
     "end_time": "2025-08-05T15:14:13.670051",
     "exception": false,
     "start_time": "2025-08-05T15:14:13.647897",
     "status": "completed"
    },
    "tags": []
   },
   "source": [
    "# Model Training"
   ]
  },
  {
   "cell_type": "code",
   "execution_count": 30,
   "id": "679e1268",
   "metadata": {
    "execution": {
     "iopub.execute_input": "2025-08-05T15:14:13.714735Z",
     "iopub.status.busy": "2025-08-05T15:14:13.714181Z",
     "iopub.status.idle": "2025-08-05T15:14:13.803485Z",
     "shell.execute_reply": "2025-08-05T15:14:13.802491Z"
    },
    "papermill": {
     "duration": 0.114188,
     "end_time": "2025-08-05T15:14:13.805450",
     "exception": false,
     "start_time": "2025-08-05T15:14:13.691262",
     "status": "completed"
    },
    "tags": []
   },
   "outputs": [],
   "source": [
    "from sklearn.linear_model import LogisticRegression\n",
    "from sklearn.ensemble import GradientBoostingClassifier, RandomForestClassifier\n",
    "\n",
    "if (universe[\"model\"] == \"logreg\"):\n",
    "    model = LogisticRegression() #penalty=\"none\", solver=\"newton-cg\", max_iter=1) # include random_state=19 ?\n",
    "elif (universe[\"model\"] == \"penalized_logreg\"):\n",
    "    model = LogisticRegression(penalty=\"l2\", C=0.1) #, solver=\"newton-cg\", max_iter=1)\n",
    "elif (universe[\"model\"] == \"rf\"):\n",
    "    model = RandomForestClassifier() # n_estimators=100, n_jobs=-1\n",
    "elif (universe[\"model\"] == \"gbm\"):\n",
    "    model = GradientBoostingClassifier()\n",
    "elif (universe[\"model\"] == \"elasticnet\"):\n",
    "    model = LogisticRegression(penalty = 'elasticnet', solver = 'saga', l1_ratio = 0.5) # max_iter=5000\n",
    "else:\n",
    "    raise \"Unsupported universe.model\""
   ]
  },
  {
   "cell_type": "code",
   "execution_count": 31,
   "id": "0cc8f744",
   "metadata": {
    "execution": {
     "iopub.execute_input": "2025-08-05T15:14:13.846096Z",
     "iopub.status.busy": "2025-08-05T15:14:13.844900Z",
     "iopub.status.idle": "2025-08-05T15:14:13.851801Z",
     "shell.execute_reply": "2025-08-05T15:14:13.850897Z"
    },
    "papermill": {
     "duration": 0.028874,
     "end_time": "2025-08-05T15:14:13.853421",
     "exception": false,
     "start_time": "2025-08-05T15:14:13.824547",
     "status": "completed"
    },
    "tags": []
   },
   "outputs": [],
   "source": [
    "import numpy as np\n",
    "from sklearn.pipeline import Pipeline\n",
    "from sklearn.preprocessing import StandardScaler\n",
    "\n",
    "model = Pipeline([\n",
    "    #(\"continuous_processor\", continuous_processor),\n",
    "    #(\"categorical_preprocessor\", categorical_preprocessor),\n",
    "    (\"scale\", StandardScaler() if universe[\"scale\"] == \"scale\" else None), \n",
    "    (\"model\", model),\n",
    "])"
   ]
  },
  {
   "cell_type": "code",
   "execution_count": 32,
   "id": "9442c04d",
   "metadata": {
    "execution": {
     "iopub.execute_input": "2025-08-05T15:14:13.894660Z",
     "iopub.status.busy": "2025-08-05T15:14:13.893708Z",
     "iopub.status.idle": "2025-08-05T15:14:14.578322Z",
     "shell.execute_reply": "2025-08-05T15:14:14.577370Z"
    },
    "papermill": {
     "duration": 0.706608,
     "end_time": "2025-08-05T15:14:14.579955",
     "exception": false,
     "start_time": "2025-08-05T15:14:13.873347",
     "status": "completed"
    },
    "tags": []
   },
   "outputs": [
    {
     "name": "stderr",
     "output_type": "stream",
     "text": [
      "/dss/dsshome1/0C/ra93lal2/.local/share/virtualenvs/CMA_Fairness_v2-3j10GkSs/lib/python3.10/site-packages/sklearn/linear_model/_logistic.py:444: ConvergenceWarning: lbfgs failed to converge (status=1):\n",
      "STOP: TOTAL NO. of ITERATIONS REACHED LIMIT.\n",
      "\n",
      "Increase the number of iterations (max_iter) or scale the data as shown in:\n",
      "    https://scikit-learn.org/stable/modules/preprocessing.html\n",
      "Please also refer to the documentation for alternative solver options:\n",
      "    https://scikit-learn.org/stable/modules/linear_model.html#logistic-regression\n",
      "  n_iter_i = _check_optimize_result(\n"
     ]
    },
    {
     "data": {
      "text/html": [
       "<style>#sk-container-id-1 {color: black;background-color: white;}#sk-container-id-1 pre{padding: 0;}#sk-container-id-1 div.sk-toggleable {background-color: white;}#sk-container-id-1 label.sk-toggleable__label {cursor: pointer;display: block;width: 100%;margin-bottom: 0;padding: 0.3em;box-sizing: border-box;text-align: center;}#sk-container-id-1 label.sk-toggleable__label-arrow:before {content: \"▸\";float: left;margin-right: 0.25em;color: #696969;}#sk-container-id-1 label.sk-toggleable__label-arrow:hover:before {color: black;}#sk-container-id-1 div.sk-estimator:hover label.sk-toggleable__label-arrow:before {color: black;}#sk-container-id-1 div.sk-toggleable__content {max-height: 0;max-width: 0;overflow: hidden;text-align: left;background-color: #f0f8ff;}#sk-container-id-1 div.sk-toggleable__content pre {margin: 0.2em;color: black;border-radius: 0.25em;background-color: #f0f8ff;}#sk-container-id-1 input.sk-toggleable__control:checked~div.sk-toggleable__content {max-height: 200px;max-width: 100%;overflow: auto;}#sk-container-id-1 input.sk-toggleable__control:checked~label.sk-toggleable__label-arrow:before {content: \"▾\";}#sk-container-id-1 div.sk-estimator input.sk-toggleable__control:checked~label.sk-toggleable__label {background-color: #d4ebff;}#sk-container-id-1 div.sk-label input.sk-toggleable__control:checked~label.sk-toggleable__label {background-color: #d4ebff;}#sk-container-id-1 input.sk-hidden--visually {border: 0;clip: rect(1px 1px 1px 1px);clip: rect(1px, 1px, 1px, 1px);height: 1px;margin: -1px;overflow: hidden;padding: 0;position: absolute;width: 1px;}#sk-container-id-1 div.sk-estimator {font-family: monospace;background-color: #f0f8ff;border: 1px dotted black;border-radius: 0.25em;box-sizing: border-box;margin-bottom: 0.5em;}#sk-container-id-1 div.sk-estimator:hover {background-color: #d4ebff;}#sk-container-id-1 div.sk-parallel-item::after {content: \"\";width: 100%;border-bottom: 1px solid gray;flex-grow: 1;}#sk-container-id-1 div.sk-label:hover label.sk-toggleable__label {background-color: #d4ebff;}#sk-container-id-1 div.sk-serial::before {content: \"\";position: absolute;border-left: 1px solid gray;box-sizing: border-box;top: 0;bottom: 0;left: 50%;z-index: 0;}#sk-container-id-1 div.sk-serial {display: flex;flex-direction: column;align-items: center;background-color: white;padding-right: 0.2em;padding-left: 0.2em;position: relative;}#sk-container-id-1 div.sk-item {position: relative;z-index: 1;}#sk-container-id-1 div.sk-parallel {display: flex;align-items: stretch;justify-content: center;background-color: white;position: relative;}#sk-container-id-1 div.sk-item::before, #sk-container-id-1 div.sk-parallel-item::before {content: \"\";position: absolute;border-left: 1px solid gray;box-sizing: border-box;top: 0;bottom: 0;left: 50%;z-index: -1;}#sk-container-id-1 div.sk-parallel-item {display: flex;flex-direction: column;z-index: 1;position: relative;background-color: white;}#sk-container-id-1 div.sk-parallel-item:first-child::after {align-self: flex-end;width: 50%;}#sk-container-id-1 div.sk-parallel-item:last-child::after {align-self: flex-start;width: 50%;}#sk-container-id-1 div.sk-parallel-item:only-child::after {width: 0;}#sk-container-id-1 div.sk-dashed-wrapped {border: 1px dashed gray;margin: 0 0.4em 0.5em 0.4em;box-sizing: border-box;padding-bottom: 0.4em;background-color: white;}#sk-container-id-1 div.sk-label label {font-family: monospace;font-weight: bold;display: inline-block;line-height: 1.2em;}#sk-container-id-1 div.sk-label-container {text-align: center;}#sk-container-id-1 div.sk-container {/* jupyter's `normalize.less` sets `[hidden] { display: none; }` but bootstrap.min.css set `[hidden] { display: none !important; }` so we also need the `!important` here to be able to override the default hidden behavior on the sphinx rendered scikit-learn.org. See: https://github.com/scikit-learn/scikit-learn/issues/21755 */display: inline-block !important;position: relative;}#sk-container-id-1 div.sk-text-repr-fallback {display: none;}</style><div id=\"sk-container-id-1\" class=\"sk-top-container\"><div class=\"sk-text-repr-fallback\"><pre>Pipeline(steps=[(&#x27;scale&#x27;, None), (&#x27;model&#x27;, LogisticRegression(C=0.1))])</pre><b>In a Jupyter environment, please rerun this cell to show the HTML representation or trust the notebook. <br />On GitHub, the HTML representation is unable to render, please try loading this page with nbviewer.org.</b></div><div class=\"sk-container\" hidden><div class=\"sk-item sk-dashed-wrapped\"><div class=\"sk-label-container\"><div class=\"sk-label sk-toggleable\"><input class=\"sk-toggleable__control sk-hidden--visually\" id=\"sk-estimator-id-1\" type=\"checkbox\" ><label for=\"sk-estimator-id-1\" class=\"sk-toggleable__label sk-toggleable__label-arrow\">Pipeline</label><div class=\"sk-toggleable__content\"><pre>Pipeline(steps=[(&#x27;scale&#x27;, None), (&#x27;model&#x27;, LogisticRegression(C=0.1))])</pre></div></div></div><div class=\"sk-serial\"><div class=\"sk-item\"><div class=\"sk-estimator sk-toggleable\"><input class=\"sk-toggleable__control sk-hidden--visually\" id=\"sk-estimator-id-2\" type=\"checkbox\" ><label for=\"sk-estimator-id-2\" class=\"sk-toggleable__label sk-toggleable__label-arrow\">None</label><div class=\"sk-toggleable__content\"><pre>None</pre></div></div></div><div class=\"sk-item\"><div class=\"sk-estimator sk-toggleable\"><input class=\"sk-toggleable__control sk-hidden--visually\" id=\"sk-estimator-id-3\" type=\"checkbox\" ><label for=\"sk-estimator-id-3\" class=\"sk-toggleable__label sk-toggleable__label-arrow\">LogisticRegression</label><div class=\"sk-toggleable__content\"><pre>LogisticRegression(C=0.1)</pre></div></div></div></div></div></div></div>"
      ],
      "text/plain": [
       "Pipeline(steps=[('scale', None), ('model', LogisticRegression(C=0.1))])"
      ]
     },
     "execution_count": 32,
     "metadata": {},
     "output_type": "execute_result"
    }
   ],
   "source": [
    "model.fit(X_train, y_train.values.ravel())"
   ]
  },
  {
   "cell_type": "code",
   "execution_count": 33,
   "id": "af59f8c0",
   "metadata": {
    "execution": {
     "iopub.execute_input": "2025-08-05T15:14:14.621295Z",
     "iopub.status.busy": "2025-08-05T15:14:14.620518Z",
     "iopub.status.idle": "2025-08-05T15:14:14.626286Z",
     "shell.execute_reply": "2025-08-05T15:14:14.625232Z"
    },
    "papermill": {
     "duration": 0.028024,
     "end_time": "2025-08-05T15:14:14.628062",
     "exception": false,
     "start_time": "2025-08-05T15:14:14.600038",
     "status": "completed"
    },
    "tags": []
   },
   "outputs": [],
   "source": [
    "from fairness_multiverse.universe import predict_w_threshold"
   ]
  },
  {
   "cell_type": "code",
   "execution_count": 34,
   "id": "a7cf2e16",
   "metadata": {
    "execution": {
     "iopub.execute_input": "2025-08-05T15:14:14.668698Z",
     "iopub.status.busy": "2025-08-05T15:14:14.667830Z",
     "iopub.status.idle": "2025-08-05T15:14:14.762044Z",
     "shell.execute_reply": "2025-08-05T15:14:14.761143Z"
    },
    "papermill": {
     "duration": 0.11522,
     "end_time": "2025-08-05T15:14:14.763684",
     "exception": false,
     "start_time": "2025-08-05T15:14:14.648464",
     "status": "completed"
    },
    "tags": []
   },
   "outputs": [
    {
     "data": {
      "text/plain": [
       "0.8596477538735927"
      ]
     },
     "execution_count": 34,
     "metadata": {},
     "output_type": "execute_result"
    }
   ],
   "source": [
    "probs_test = model.predict_proba(X_test)\n",
    "\n",
    "'''\n",
    "Below code returns a boolean array (or binary 0/1 array depending on how it’s used) where each element \n",
    "is True if the probability of class 1 is greater than or equal to the threshold, and False otherwise.\n",
    "'''\n",
    "y_pred_default = predict_w_threshold(probs_test, 0.5)\n",
    "\n",
    "from sklearn.metrics import accuracy_score\n",
    "\n",
    "# Naive prediction\n",
    "accuracy_score(y_true = y_true, y_pred = y_pred_default)"
   ]
  },
  {
   "cell_type": "code",
   "execution_count": 35,
   "id": "081964c3",
   "metadata": {
    "execution": {
     "iopub.execute_input": "2025-08-05T15:14:14.806042Z",
     "iopub.status.busy": "2025-08-05T15:14:14.805314Z",
     "iopub.status.idle": "2025-08-05T15:14:14.888580Z",
     "shell.execute_reply": "2025-08-05T15:14:14.887567Z"
    },
    "papermill": {
     "duration": 0.105971,
     "end_time": "2025-08-05T15:14:14.890171",
     "exception": false,
     "start_time": "2025-08-05T15:14:14.784200",
     "status": "completed"
    },
    "tags": []
   },
   "outputs": [
    {
     "data": {
      "text/plain": [
       "array([0, 0, 0, ..., 0, 0, 0])"
      ]
     },
     "execution_count": 35,
     "metadata": {},
     "output_type": "execute_result"
    }
   ],
   "source": [
    "model.predict(X_test)"
   ]
  },
  {
   "cell_type": "markdown",
   "id": "56c9705b",
   "metadata": {
    "papermill": {
     "duration": 0.021032,
     "end_time": "2025-08-05T15:14:14.931540",
     "exception": false,
     "start_time": "2025-08-05T15:14:14.910508",
     "status": "completed"
    },
    "tags": []
   },
   "source": [
    "# Conformal Prediction"
   ]
  },
  {
   "cell_type": "code",
   "execution_count": 36,
   "id": "160ec6ff",
   "metadata": {
    "execution": {
     "iopub.execute_input": "2025-08-05T15:14:14.974499Z",
     "iopub.status.busy": "2025-08-05T15:14:14.973507Z",
     "iopub.status.idle": "2025-08-05T15:14:14.979328Z",
     "shell.execute_reply": "2025-08-05T15:14:14.978160Z"
    },
    "papermill": {
     "duration": 0.029497,
     "end_time": "2025-08-05T15:14:14.981493",
     "exception": false,
     "start_time": "2025-08-05T15:14:14.951996",
     "status": "completed"
    },
    "tags": []
   },
   "outputs": [],
   "source": [
    "# Miscoverage level for conformal prediction (10% allowed error rate => 90% target coverage)\n",
    "alpha = 0.1"
   ]
  },
  {
   "cell_type": "code",
   "execution_count": 37,
   "id": "eadf4555-3dd3-440e-8e35-f82a4ad9f855",
   "metadata": {
    "execution": {
     "iopub.execute_input": "2025-08-05T15:14:15.032502Z",
     "iopub.status.busy": "2025-08-05T15:14:15.031513Z",
     "iopub.status.idle": "2025-08-05T15:14:15.115151Z",
     "shell.execute_reply": "2025-08-05T15:14:15.114085Z"
    },
    "papermill": {
     "duration": 0.11122,
     "end_time": "2025-08-05T15:14:15.117495",
     "exception": false,
     "start_time": "2025-08-05T15:14:15.006275",
     "status": "completed"
    },
    "tags": []
   },
   "outputs": [],
   "source": [
    "probs_calib = model.predict_proba(X_calib)"
   ]
  },
  {
   "cell_type": "code",
   "execution_count": 38,
   "id": "2ed93547-6d5d-4983-9b36-1ecb300da49a",
   "metadata": {
    "execution": {
     "iopub.execute_input": "2025-08-05T15:14:15.167973Z",
     "iopub.status.busy": "2025-08-05T15:14:15.167299Z",
     "iopub.status.idle": "2025-08-05T15:14:15.173819Z",
     "shell.execute_reply": "2025-08-05T15:14:15.172648Z"
    },
    "papermill": {
     "duration": 0.033785,
     "end_time": "2025-08-05T15:14:15.175803",
     "exception": false,
     "start_time": "2025-08-05T15:14:15.142018",
     "status": "completed"
    },
    "tags": []
   },
   "outputs": [],
   "source": [
    "y_calib = y_calib.values.ravel().astype(int)"
   ]
  },
  {
   "cell_type": "code",
   "execution_count": 39,
   "id": "65d1320d-f588-4b38-9072-62af1ae97f7d",
   "metadata": {
    "execution": {
     "iopub.execute_input": "2025-08-05T15:14:15.227203Z",
     "iopub.status.busy": "2025-08-05T15:14:15.226181Z",
     "iopub.status.idle": "2025-08-05T15:14:15.234583Z",
     "shell.execute_reply": "2025-08-05T15:14:15.233382Z"
    },
    "papermill": {
     "duration": 0.035882,
     "end_time": "2025-08-05T15:14:15.236446",
     "exception": false,
     "start_time": "2025-08-05T15:14:15.200564",
     "status": "completed"
    },
    "tags": []
   },
   "outputs": [],
   "source": [
    "from fairness_multiverse.conformal import compute_nc_scores\n",
    "\n",
    "# Compute nonconformity scores on calibration set (1 - probability of true class)\n",
    "nc_scores = compute_nc_scores(probs_calib, y_calib)"
   ]
  },
  {
   "cell_type": "code",
   "execution_count": 40,
   "id": "df3b8ca3-53b7-43d5-9667-7c85da7aeda2",
   "metadata": {
    "execution": {
     "iopub.execute_input": "2025-08-05T15:14:15.287776Z",
     "iopub.status.busy": "2025-08-05T15:14:15.286953Z",
     "iopub.status.idle": "2025-08-05T15:14:15.294373Z",
     "shell.execute_reply": "2025-08-05T15:14:15.293250Z"
    },
    "papermill": {
     "duration": 0.035058,
     "end_time": "2025-08-05T15:14:15.296265",
     "exception": false,
     "start_time": "2025-08-05T15:14:15.261207",
     "status": "completed"
    },
    "tags": []
   },
   "outputs": [],
   "source": [
    "from fairness_multiverse.conformal import find_threshold\n",
    "\n",
    "# Find conformal threshold q_hat for the given alpha (split conformal method)\n",
    "q_hat = find_threshold(nc_scores, alpha)"
   ]
  },
  {
   "cell_type": "code",
   "execution_count": 41,
   "id": "4d29e6c1-0ef6-4aa4-b8fe-4fe79b0d033a",
   "metadata": {
    "execution": {
     "iopub.execute_input": "2025-08-05T15:14:15.347273Z",
     "iopub.status.busy": "2025-08-05T15:14:15.346593Z",
     "iopub.status.idle": "2025-08-05T15:14:15.354568Z",
     "shell.execute_reply": "2025-08-05T15:14:15.353441Z"
    },
    "papermill": {
     "duration": 0.035492,
     "end_time": "2025-08-05T15:14:15.356575",
     "exception": false,
     "start_time": "2025-08-05T15:14:15.321083",
     "status": "completed"
    },
    "tags": []
   },
   "outputs": [
    {
     "data": {
      "text/plain": [
       "0.6687779829500032"
      ]
     },
     "execution_count": 41,
     "metadata": {},
     "output_type": "execute_result"
    }
   ],
   "source": [
    "q_hat"
   ]
  },
  {
   "cell_type": "code",
   "execution_count": 42,
   "id": "92460794-cdac-4be2-ba28-f28c0515a6fb",
   "metadata": {
    "execution": {
     "iopub.execute_input": "2025-08-05T15:14:15.408303Z",
     "iopub.status.busy": "2025-08-05T15:14:15.407569Z",
     "iopub.status.idle": "2025-08-05T15:14:16.288916Z",
     "shell.execute_reply": "2025-08-05T15:14:16.288108Z"
    },
    "papermill": {
     "duration": 0.909402,
     "end_time": "2025-08-05T15:14:16.291289",
     "exception": false,
     "start_time": "2025-08-05T15:14:15.381887",
     "status": "completed"
    },
    "tags": []
   },
   "outputs": [],
   "source": [
    "from fairness_multiverse.conformal import predict_conformal_sets\n",
    "\n",
    "# Generate prediction sets for each test example\n",
    "pred_sets = predict_conformal_sets(model, X_test, q_hat)"
   ]
  },
  {
   "cell_type": "code",
   "execution_count": 43,
   "id": "d90c9a65-e6db-4f5d-80cd-e68fb7e46829",
   "metadata": {
    "execution": {
     "iopub.execute_input": "2025-08-05T15:14:16.350425Z",
     "iopub.status.busy": "2025-08-05T15:14:16.349875Z",
     "iopub.status.idle": "2025-08-05T15:14:16.356260Z",
     "shell.execute_reply": "2025-08-05T15:14:16.354989Z"
    },
    "papermill": {
     "duration": 0.038598,
     "end_time": "2025-08-05T15:14:16.358654",
     "exception": false,
     "start_time": "2025-08-05T15:14:16.320056",
     "status": "completed"
    },
    "tags": []
   },
   "outputs": [],
   "source": [
    "y_true = y_true.squeeze()"
   ]
  },
  {
   "cell_type": "code",
   "execution_count": 44,
   "id": "3a58a54a-1e68-46b9-927a-df01f18aebc8",
   "metadata": {
    "execution": {
     "iopub.execute_input": "2025-08-05T15:14:16.418830Z",
     "iopub.status.busy": "2025-08-05T15:14:16.417980Z",
     "iopub.status.idle": "2025-08-05T15:14:17.513719Z",
     "shell.execute_reply": "2025-08-05T15:14:17.512528Z"
    },
    "papermill": {
     "duration": 1.127903,
     "end_time": "2025-08-05T15:14:17.515936",
     "exception": false,
     "start_time": "2025-08-05T15:14:16.388033",
     "status": "completed"
    },
    "tags": []
   },
   "outputs": [],
   "source": [
    "from fairness_multiverse.conformal import evaluate_sets\n",
    "\n",
    "# Evaluate coverage and average set size on test data\n",
    "metrics = evaluate_sets(pred_sets, y_true)"
   ]
  },
  {
   "cell_type": "markdown",
   "id": "2b569c12-9aaa-4c88-98c9-bbcd0cf3ebb8",
   "metadata": {
    "papermill": {
     "duration": 0.024843,
     "end_time": "2025-08-05T15:14:17.565970",
     "exception": false,
     "start_time": "2025-08-05T15:14:17.541127",
     "status": "completed"
    },
    "tags": []
   },
   "source": [
    "# CP Metrics"
   ]
  },
  {
   "cell_type": "code",
   "execution_count": 45,
   "id": "5ce0a5cb-201f-45a0-ade5-94c7f0bd6095",
   "metadata": {
    "execution": {
     "iopub.execute_input": "2025-08-05T15:14:17.617626Z",
     "iopub.status.busy": "2025-08-05T15:14:17.616680Z",
     "iopub.status.idle": "2025-08-05T15:14:17.624722Z",
     "shell.execute_reply": "2025-08-05T15:14:17.623515Z"
    },
    "papermill": {
     "duration": 0.035957,
     "end_time": "2025-08-05T15:14:17.626764",
     "exception": false,
     "start_time": "2025-08-05T15:14:17.590807",
     "status": "completed"
    },
    "tags": []
   },
   "outputs": [
    {
     "data": {
      "text/plain": [
       "{'coverage': 0.9112696466391706, 'avg_size': 1.1932894883513543}"
      ]
     },
     "execution_count": 45,
     "metadata": {},
     "output_type": "execute_result"
    }
   ],
   "source": [
    "metrics"
   ]
  },
  {
   "cell_type": "code",
   "execution_count": 46,
   "id": "9b9a838d-31c9-430b-ae14-12baee460d17",
   "metadata": {
    "execution": {
     "iopub.execute_input": "2025-08-05T15:14:17.682871Z",
     "iopub.status.busy": "2025-08-05T15:14:17.682045Z",
     "iopub.status.idle": "2025-08-05T15:14:17.691610Z",
     "shell.execute_reply": "2025-08-05T15:14:17.689953Z"
    },
    "papermill": {
     "duration": 0.041638,
     "end_time": "2025-08-05T15:14:17.694063",
     "exception": false,
     "start_time": "2025-08-05T15:14:17.652425",
     "status": "completed"
    },
    "tags": []
   },
   "outputs": [],
   "source": [
    "example_universe = universe.copy()\n",
    "universe_training_year = example_universe.get(\"training_year\")\n",
    "universe_training_size = example_universe.get(\"training_size\")\n",
    "universe_scale = example_universe.get(\"scale\")\n",
    "universe_model = example_universe.get(\"model\")\n",
    "universe_exclude_features = example_universe.get(\"exclude_features\")\n",
    "universe_exclude_subgroups = example_universe.get(\"exclude_subgroups\")"
   ]
  },
  {
   "cell_type": "code",
   "execution_count": 47,
   "id": "f4b6a8ac-9dc0-4245-8a91-5b3b5999c4f9",
   "metadata": {
    "execution": {
     "iopub.execute_input": "2025-08-05T15:14:17.745729Z",
     "iopub.status.busy": "2025-08-05T15:14:17.745233Z",
     "iopub.status.idle": "2025-08-05T15:14:17.752112Z",
     "shell.execute_reply": "2025-08-05T15:14:17.751090Z"
    },
    "papermill": {
     "duration": 0.034823,
     "end_time": "2025-08-05T15:14:17.754177",
     "exception": false,
     "start_time": "2025-08-05T15:14:17.719354",
     "status": "completed"
    },
    "tags": []
   },
   "outputs": [],
   "source": [
    "cp_metrics_dict = {\n",
    "    \"universe_id\": [universe_id],\n",
    "    \"universe_training_year\": [universe_training_year],\n",
    "    \"universe_training_size\": [universe_training_size],\n",
    "    \"universe_scale\": [universe_scale],\n",
    "    \"universe_model\": [universe_model],\n",
    "    \"universe_exclude_features\": [universe_exclude_features],\n",
    "    \"universe_exclude_subgroups\": [universe_exclude_subgroups],\n",
    "    \"q_hat\": [q_hat],\n",
    "    \"coverage\": [metrics[\"coverage\"]],\n",
    "    \"avg_size\": [metrics[\"avg_size\"]],\n",
    "}"
   ]
  },
  {
   "cell_type": "code",
   "execution_count": 48,
   "id": "908acbb1-0371-4915-85ca-3fa520d2efe2",
   "metadata": {
    "execution": {
     "iopub.execute_input": "2025-08-05T15:14:17.808452Z",
     "iopub.status.busy": "2025-08-05T15:14:17.807860Z",
     "iopub.status.idle": "2025-08-05T15:14:17.817108Z",
     "shell.execute_reply": "2025-08-05T15:14:17.815907Z"
    },
    "papermill": {
     "duration": 0.039271,
     "end_time": "2025-08-05T15:14:17.819389",
     "exception": false,
     "start_time": "2025-08-05T15:14:17.780118",
     "status": "completed"
    },
    "tags": []
   },
   "outputs": [
    {
     "data": {
      "text/plain": [
       "{'universe_id': ['c45097dbcd4c8250dcb1aeadc1de83ef'],\n",
       " 'universe_training_year': ['2010_14'],\n",
       " 'universe_training_size': ['25k'],\n",
       " 'universe_scale': ['do-not-scale'],\n",
       " 'universe_model': ['penalized_logreg'],\n",
       " 'universe_exclude_features': ['sex'],\n",
       " 'universe_exclude_subgroups': ['keep-all'],\n",
       " 'q_hat': [0.6687779829500032],\n",
       " 'coverage': [0.9112696466391706],\n",
       " 'avg_size': [1.1932894883513543]}"
      ]
     },
     "execution_count": 48,
     "metadata": {},
     "output_type": "execute_result"
    }
   ],
   "source": [
    "cp_metrics_dict"
   ]
  },
  {
   "cell_type": "code",
   "execution_count": 49,
   "id": "33007efc-14e9-4ec6-97ac-56a455c82265",
   "metadata": {
    "execution": {
     "iopub.execute_input": "2025-08-05T15:14:17.875144Z",
     "iopub.status.busy": "2025-08-05T15:14:17.874159Z",
     "iopub.status.idle": "2025-08-05T15:14:17.881708Z",
     "shell.execute_reply": "2025-08-05T15:14:17.880523Z"
    },
    "papermill": {
     "duration": 0.037936,
     "end_time": "2025-08-05T15:14:17.884029",
     "exception": false,
     "start_time": "2025-08-05T15:14:17.846093",
     "status": "completed"
    },
    "tags": []
   },
   "outputs": [],
   "source": [
    "cp_metrics_df = pd.DataFrame(cp_metrics_dict)"
   ]
  },
  {
   "cell_type": "code",
   "execution_count": 50,
   "id": "db12611b-57b2-4910-b9d0-355adfd6e7bf",
   "metadata": {
    "execution": {
     "iopub.execute_input": "2025-08-05T15:14:17.941488Z",
     "iopub.status.busy": "2025-08-05T15:14:17.940618Z",
     "iopub.status.idle": "2025-08-05T15:14:17.963745Z",
     "shell.execute_reply": "2025-08-05T15:14:17.962567Z"
    },
    "papermill": {
     "duration": 0.054147,
     "end_time": "2025-08-05T15:14:17.966113",
     "exception": false,
     "start_time": "2025-08-05T15:14:17.911966",
     "status": "completed"
    },
    "tags": []
   },
   "outputs": [
    {
     "data": {
      "text/html": [
       "<div>\n",
       "<style scoped>\n",
       "    .dataframe tbody tr th:only-of-type {\n",
       "        vertical-align: middle;\n",
       "    }\n",
       "\n",
       "    .dataframe tbody tr th {\n",
       "        vertical-align: top;\n",
       "    }\n",
       "\n",
       "    .dataframe thead th {\n",
       "        text-align: right;\n",
       "    }\n",
       "</style>\n",
       "<table border=\"1\" class=\"dataframe\">\n",
       "  <thead>\n",
       "    <tr style=\"text-align: right;\">\n",
       "      <th></th>\n",
       "      <th>universe_id</th>\n",
       "      <th>universe_training_year</th>\n",
       "      <th>universe_training_size</th>\n",
       "      <th>universe_scale</th>\n",
       "      <th>universe_model</th>\n",
       "      <th>universe_exclude_features</th>\n",
       "      <th>universe_exclude_subgroups</th>\n",
       "      <th>q_hat</th>\n",
       "      <th>coverage</th>\n",
       "      <th>avg_size</th>\n",
       "    </tr>\n",
       "  </thead>\n",
       "  <tbody>\n",
       "    <tr>\n",
       "      <th>0</th>\n",
       "      <td>c45097dbcd4c8250dcb1aeadc1de83ef</td>\n",
       "      <td>2010_14</td>\n",
       "      <td>25k</td>\n",
       "      <td>do-not-scale</td>\n",
       "      <td>penalized_logreg</td>\n",
       "      <td>sex</td>\n",
       "      <td>keep-all</td>\n",
       "      <td>0.668778</td>\n",
       "      <td>0.91127</td>\n",
       "      <td>1.193289</td>\n",
       "    </tr>\n",
       "  </tbody>\n",
       "</table>\n",
       "</div>"
      ],
      "text/plain": [
       "                        universe_id universe_training_year  \\\n",
       "0  c45097dbcd4c8250dcb1aeadc1de83ef                2010_14   \n",
       "\n",
       "  universe_training_size universe_scale    universe_model  \\\n",
       "0                    25k   do-not-scale  penalized_logreg   \n",
       "\n",
       "  universe_exclude_features universe_exclude_subgroups     q_hat  coverage  \\\n",
       "0                       sex                   keep-all  0.668778   0.91127   \n",
       "\n",
       "   avg_size  \n",
       "0  1.193289  "
      ]
     },
     "execution_count": 50,
     "metadata": {},
     "output_type": "execute_result"
    }
   ],
   "source": [
    "cp_metrics_df"
   ]
  },
  {
   "cell_type": "code",
   "execution_count": 51,
   "id": "b7fbde55-a0a1-47e4-9af6-fe4a17fa8c61",
   "metadata": {
    "execution": {
     "iopub.execute_input": "2025-08-05T15:14:18.005194Z",
     "iopub.status.busy": "2025-08-05T15:14:18.004685Z",
     "iopub.status.idle": "2025-08-05T15:14:18.010647Z",
     "shell.execute_reply": "2025-08-05T15:14:18.009552Z"
    },
    "papermill": {
     "duration": 0.023576,
     "end_time": "2025-08-05T15:14:18.012570",
     "exception": false,
     "start_time": "2025-08-05T15:14:17.988994",
     "status": "completed"
    },
    "tags": []
   },
   "outputs": [],
   "source": [
    "# Conditional Coverage & looking at subgroups"
   ]
  },
  {
   "cell_type": "code",
   "execution_count": 52,
   "id": "027ae886-68dd-4141-96c7-805a5450e1ef",
   "metadata": {
    "execution": {
     "iopub.execute_input": "2025-08-05T15:14:18.052642Z",
     "iopub.status.busy": "2025-08-05T15:14:18.052110Z",
     "iopub.status.idle": "2025-08-05T15:14:18.262150Z",
     "shell.execute_reply": "2025-08-05T15:14:18.261248Z"
    },
    "papermill": {
     "duration": 0.22872,
     "end_time": "2025-08-05T15:14:18.263553",
     "exception": false,
     "start_time": "2025-08-05T15:14:18.034833",
     "status": "completed"
    },
    "tags": []
   },
   "outputs": [],
   "source": [
    "from fairness_multiverse.conformal import build_cp_groups\n",
    "\n",
    "cp_groups_df = build_cp_groups(pred_sets, y_true, X_test.index, org_test)\n",
    "#needs universe_id and setting"
   ]
  },
  {
   "cell_type": "code",
   "execution_count": 53,
   "id": "6cbdab96-b2b2-45af-ad54-d0516db2e28d",
   "metadata": {
    "execution": {
     "iopub.execute_input": "2025-08-05T15:14:18.287816Z",
     "iopub.status.busy": "2025-08-05T15:14:18.287297Z",
     "iopub.status.idle": "2025-08-05T15:14:19.433621Z",
     "shell.execute_reply": "2025-08-05T15:14:19.432836Z"
    },
    "papermill": {
     "duration": 1.159328,
     "end_time": "2025-08-05T15:14:19.435051",
     "exception": false,
     "start_time": "2025-08-05T15:14:18.275723",
     "status": "completed"
    },
    "tags": []
   },
   "outputs": [],
   "source": [
    "# Define covered = 1 if true_label is in the predicted set\n",
    "cp_groups_df['covered'] = cp_groups_df.apply(\n",
    "    lambda r: int(r['true_label'] in r['pred_set']),\n",
    "    axis=1\n",
    ")"
   ]
  },
  {
   "cell_type": "code",
   "execution_count": 54,
   "id": "338ff529-1a6b-4b87-a931-8e4788d52aad",
   "metadata": {
    "execution": {
     "iopub.execute_input": "2025-08-05T15:14:19.460076Z",
     "iopub.status.busy": "2025-08-05T15:14:19.459576Z",
     "iopub.status.idle": "2025-08-05T15:14:19.465073Z",
     "shell.execute_reply": "2025-08-05T15:14:19.464326Z"
    },
    "papermill": {
     "duration": 0.019552,
     "end_time": "2025-08-05T15:14:19.466633",
     "exception": false,
     "start_time": "2025-08-05T15:14:19.447081",
     "status": "completed"
    },
    "tags": []
   },
   "outputs": [],
   "source": [
    "#cp_groups_df"
   ]
  },
  {
   "cell_type": "code",
   "execution_count": 55,
   "id": "90032e27-66df-4540-9169-4e89cfbaa758",
   "metadata": {
    "execution": {
     "iopub.execute_input": "2025-08-05T15:14:19.491598Z",
     "iopub.status.busy": "2025-08-05T15:14:19.491107Z",
     "iopub.status.idle": "2025-08-05T15:14:19.500471Z",
     "shell.execute_reply": "2025-08-05T15:14:19.499779Z"
    },
    "papermill": {
     "duration": 0.023227,
     "end_time": "2025-08-05T15:14:19.501987",
     "exception": false,
     "start_time": "2025-08-05T15:14:19.478760",
     "status": "completed"
    },
    "tags": []
   },
   "outputs": [],
   "source": [
    "subgroups = ['frau1','nongerman','nongerman_male','nongerman_female']\n",
    "\n",
    "# Conditional coverage for subgroup==1\n",
    "cond_coverage = {\n",
    "    g: cp_groups_df.loc[cp_groups_df[g]==1, 'covered'].mean()\n",
    "    for g in subgroups\n",
    "}"
   ]
  },
  {
   "cell_type": "code",
   "execution_count": 56,
   "id": "1e348fb1-b9c3-45bc-ba23-f016827a7e0d",
   "metadata": {
    "execution": {
     "iopub.execute_input": "2025-08-05T15:14:19.526783Z",
     "iopub.status.busy": "2025-08-05T15:14:19.526281Z",
     "iopub.status.idle": "2025-08-05T15:14:19.532671Z",
     "shell.execute_reply": "2025-08-05T15:14:19.531869Z"
    },
    "papermill": {
     "duration": 0.020154,
     "end_time": "2025-08-05T15:14:19.534220",
     "exception": false,
     "start_time": "2025-08-05T15:14:19.514066",
     "status": "completed"
    },
    "tags": []
   },
   "outputs": [
    {
     "data": {
      "text/plain": [
       "{'frau1': 0.9105539830165791,\n",
       " 'nongerman': 0.9256161230561949,\n",
       " 'nongerman_male': 0.9401963433306314,\n",
       " 'nongerman_female': 0.9014903129657228}"
      ]
     },
     "execution_count": 56,
     "metadata": {},
     "output_type": "execute_result"
    }
   ],
   "source": [
    "cond_coverage"
   ]
  },
  {
   "cell_type": "code",
   "execution_count": 57,
   "id": "f5093324-c3dd-4d63-bc4c-8d945e5c8bbb",
   "metadata": {
    "execution": {
     "iopub.execute_input": "2025-08-05T15:14:19.559021Z",
     "iopub.status.busy": "2025-08-05T15:14:19.558535Z",
     "iopub.status.idle": "2025-08-05T15:14:19.564588Z",
     "shell.execute_reply": "2025-08-05T15:14:19.563688Z"
    },
    "papermill": {
     "duration": 0.019676,
     "end_time": "2025-08-05T15:14:19.566040",
     "exception": false,
     "start_time": "2025-08-05T15:14:19.546364",
     "status": "completed"
    },
    "tags": []
   },
   "outputs": [],
   "source": [
    "for subgroup, cov in cond_coverage.items():\n",
    "    cp_metrics_df[f\"cov_{subgroup}\"] = cov"
   ]
  },
  {
   "cell_type": "code",
   "execution_count": 58,
   "id": "6e872e10-dbe5-49e8-b554-5030c98ff75d",
   "metadata": {
    "execution": {
     "iopub.execute_input": "2025-08-05T15:14:19.591414Z",
     "iopub.status.busy": "2025-08-05T15:14:19.590755Z",
     "iopub.status.idle": "2025-08-05T15:14:19.604703Z",
     "shell.execute_reply": "2025-08-05T15:14:19.603786Z"
    },
    "papermill": {
     "duration": 0.027558,
     "end_time": "2025-08-05T15:14:19.606158",
     "exception": false,
     "start_time": "2025-08-05T15:14:19.578600",
     "status": "completed"
    },
    "tags": []
   },
   "outputs": [
    {
     "data": {
      "text/html": [
       "<div>\n",
       "<style scoped>\n",
       "    .dataframe tbody tr th:only-of-type {\n",
       "        vertical-align: middle;\n",
       "    }\n",
       "\n",
       "    .dataframe tbody tr th {\n",
       "        vertical-align: top;\n",
       "    }\n",
       "\n",
       "    .dataframe thead th {\n",
       "        text-align: right;\n",
       "    }\n",
       "</style>\n",
       "<table border=\"1\" class=\"dataframe\">\n",
       "  <thead>\n",
       "    <tr style=\"text-align: right;\">\n",
       "      <th></th>\n",
       "      <th>universe_id</th>\n",
       "      <th>universe_training_year</th>\n",
       "      <th>universe_training_size</th>\n",
       "      <th>universe_scale</th>\n",
       "      <th>universe_model</th>\n",
       "      <th>universe_exclude_features</th>\n",
       "      <th>universe_exclude_subgroups</th>\n",
       "      <th>q_hat</th>\n",
       "      <th>coverage</th>\n",
       "      <th>avg_size</th>\n",
       "      <th>cov_frau1</th>\n",
       "      <th>cov_nongerman</th>\n",
       "      <th>cov_nongerman_male</th>\n",
       "      <th>cov_nongerman_female</th>\n",
       "    </tr>\n",
       "  </thead>\n",
       "  <tbody>\n",
       "    <tr>\n",
       "      <th>0</th>\n",
       "      <td>c45097dbcd4c8250dcb1aeadc1de83ef</td>\n",
       "      <td>2010_14</td>\n",
       "      <td>25k</td>\n",
       "      <td>do-not-scale</td>\n",
       "      <td>penalized_logreg</td>\n",
       "      <td>sex</td>\n",
       "      <td>keep-all</td>\n",
       "      <td>0.668778</td>\n",
       "      <td>0.91127</td>\n",
       "      <td>1.193289</td>\n",
       "      <td>0.910554</td>\n",
       "      <td>0.925616</td>\n",
       "      <td>0.940196</td>\n",
       "      <td>0.90149</td>\n",
       "    </tr>\n",
       "  </tbody>\n",
       "</table>\n",
       "</div>"
      ],
      "text/plain": [
       "                        universe_id universe_training_year  \\\n",
       "0  c45097dbcd4c8250dcb1aeadc1de83ef                2010_14   \n",
       "\n",
       "  universe_training_size universe_scale    universe_model  \\\n",
       "0                    25k   do-not-scale  penalized_logreg   \n",
       "\n",
       "  universe_exclude_features universe_exclude_subgroups     q_hat  coverage  \\\n",
       "0                       sex                   keep-all  0.668778   0.91127   \n",
       "\n",
       "   avg_size  cov_frau1  cov_nongerman  cov_nongerman_male  \\\n",
       "0  1.193289   0.910554       0.925616            0.940196   \n",
       "\n",
       "   cov_nongerman_female  \n",
       "0               0.90149  "
      ]
     },
     "execution_count": 58,
     "metadata": {},
     "output_type": "execute_result"
    }
   ],
   "source": [
    "cp_metrics_df"
   ]
  },
  {
   "cell_type": "markdown",
   "id": "33774451",
   "metadata": {
    "papermill": {
     "duration": 0.011445,
     "end_time": "2025-08-05T15:14:19.630259",
     "exception": false,
     "start_time": "2025-08-05T15:14:19.618814",
     "status": "completed"
    },
    "tags": []
   },
   "source": [
    "# (Fairness) Metrics"
   ]
  },
  {
   "cell_type": "code",
   "execution_count": 59,
   "id": "debc5d62",
   "metadata": {
    "execution": {
     "iopub.execute_input": "2025-08-05T15:14:19.654971Z",
     "iopub.status.busy": "2025-08-05T15:14:19.654315Z",
     "iopub.status.idle": "2025-08-05T15:14:19.668985Z",
     "shell.execute_reply": "2025-08-05T15:14:19.668268Z"
    },
    "papermill": {
     "duration": 0.028761,
     "end_time": "2025-08-05T15:14:19.670520",
     "exception": false,
     "start_time": "2025-08-05T15:14:19.641759",
     "status": "completed"
    },
    "tags": []
   },
   "outputs": [],
   "source": [
    "# do I need to include maxdeutsch1.missing?\n",
    "\n",
    "import numpy as np\n",
    "\n",
    "colname_to_bin = \"maxdeutsch1\"\n",
    "majority_value = org_train[colname_to_bin].mode()[0]\n",
    "\n",
    "org_test[\"majmin\"] = np.where(org_test[colname_to_bin] == majority_value, \"majority\", \"minority\")"
   ]
  },
  {
   "cell_type": "code",
   "execution_count": 60,
   "id": "06a50de5",
   "metadata": {
    "execution": {
     "iopub.execute_input": "2025-08-05T15:14:19.696383Z",
     "iopub.status.busy": "2025-08-05T15:14:19.695889Z",
     "iopub.status.idle": "2025-08-05T15:14:21.967065Z",
     "shell.execute_reply": "2025-08-05T15:14:21.966105Z"
    },
    "papermill": {
     "duration": 2.286064,
     "end_time": "2025-08-05T15:14:21.969020",
     "exception": false,
     "start_time": "2025-08-05T15:14:19.682956",
     "status": "completed"
    },
    "tags": []
   },
   "outputs": [],
   "source": [
    "example_universe = universe.copy()\n",
    "example_universe[\"cutoff\"] = example_universe[\"cutoff\"][0]\n",
    "example_universe[\"eval_fairness_grouping\"] = example_universe[\"eval_fairness_grouping\"][0]\n",
    "fairness_dict, metric_frame = universe_analysis.compute_metrics(\n",
    "    example_universe,\n",
    "    y_pred_prob=probs_test,\n",
    "    y_test=y_true,\n",
    "    org_test=org_test,\n",
    ")"
   ]
  },
  {
   "cell_type": "markdown",
   "id": "f95d4e02",
   "metadata": {
    "papermill": {
     "duration": 0.023079,
     "end_time": "2025-08-05T15:14:22.015895",
     "exception": false,
     "start_time": "2025-08-05T15:14:21.992816",
     "status": "completed"
    },
    "tags": []
   },
   "source": [
    "# Overall"
   ]
  },
  {
   "cell_type": "markdown",
   "id": "bdee4871",
   "metadata": {
    "papermill": {
     "duration": 0.024469,
     "end_time": "2025-08-05T15:14:22.063551",
     "exception": false,
     "start_time": "2025-08-05T15:14:22.039082",
     "status": "completed"
    },
    "tags": []
   },
   "source": [
    "Fairness\n",
    "Main fairness target: Equalized Odds. Seems to be a better fit than equal opportunity, since we're not only interested in Y = 1. Seems to be a better fit than demographic parity, since we also care about accuracy, not just equal distribution of preds.\n",
    "\n",
    "Pick column for computation of fairness metrics\n",
    "\n",
    "Performance\n",
    "Overall performance measures, most interesting in relation to the measures split by group below"
   ]
  },
  {
   "cell_type": "code",
   "execution_count": 61,
   "id": "c4e067c6",
   "metadata": {
    "execution": {
     "iopub.execute_input": "2025-08-05T15:14:22.111592Z",
     "iopub.status.busy": "2025-08-05T15:14:22.110052Z",
     "iopub.status.idle": "2025-08-05T15:14:22.120727Z",
     "shell.execute_reply": "2025-08-05T15:14:22.119763Z"
    },
    "papermill": {
     "duration": 0.036505,
     "end_time": "2025-08-05T15:14:22.122592",
     "exception": false,
     "start_time": "2025-08-05T15:14:22.086087",
     "status": "completed"
    },
    "tags": []
   },
   "outputs": [
    {
     "data": {
      "text/plain": [
       "accuracy                   0.217445\n",
       "balanced accuracy          0.533135\n",
       "f1                         0.238967\n",
       "precision                  0.136514\n",
       "false positive rate        0.891499\n",
       "false negative rate        0.042231\n",
       "selection rate             0.900000\n",
       "count                  89710.000000\n",
       "dtype: float64"
      ]
     },
     "execution_count": 61,
     "metadata": {},
     "output_type": "execute_result"
    }
   ],
   "source": [
    "metric_frame.overall"
   ]
  },
  {
   "cell_type": "markdown",
   "id": "e968fe9d",
   "metadata": {
    "papermill": {
     "duration": 0.023641,
     "end_time": "2025-08-05T15:14:22.170744",
     "exception": false,
     "start_time": "2025-08-05T15:14:22.147103",
     "status": "completed"
    },
    "tags": []
   },
   "source": [
    "By Group"
   ]
  },
  {
   "cell_type": "code",
   "execution_count": 62,
   "id": "ec325bce",
   "metadata": {
    "execution": {
     "iopub.execute_input": "2025-08-05T15:14:22.220121Z",
     "iopub.status.busy": "2025-08-05T15:14:22.219599Z",
     "iopub.status.idle": "2025-08-05T15:14:22.236555Z",
     "shell.execute_reply": "2025-08-05T15:14:22.235537Z"
    },
    "papermill": {
     "duration": 0.043915,
     "end_time": "2025-08-05T15:14:22.238436",
     "exception": false,
     "start_time": "2025-08-05T15:14:22.194521",
     "status": "completed"
    },
    "tags": []
   },
   "outputs": [
    {
     "data": {
      "text/html": [
       "<div>\n",
       "<style scoped>\n",
       "    .dataframe tbody tr th:only-of-type {\n",
       "        vertical-align: middle;\n",
       "    }\n",
       "\n",
       "    .dataframe tbody tr th {\n",
       "        vertical-align: top;\n",
       "    }\n",
       "\n",
       "    .dataframe thead th {\n",
       "        text-align: right;\n",
       "    }\n",
       "</style>\n",
       "<table border=\"1\" class=\"dataframe\">\n",
       "  <thead>\n",
       "    <tr style=\"text-align: right;\">\n",
       "      <th></th>\n",
       "      <th>accuracy</th>\n",
       "      <th>balanced accuracy</th>\n",
       "      <th>f1</th>\n",
       "      <th>precision</th>\n",
       "      <th>false positive rate</th>\n",
       "      <th>false negative rate</th>\n",
       "      <th>selection rate</th>\n",
       "      <th>count</th>\n",
       "    </tr>\n",
       "    <tr>\n",
       "      <th>majmin</th>\n",
       "      <th></th>\n",
       "      <th></th>\n",
       "      <th></th>\n",
       "      <th></th>\n",
       "      <th></th>\n",
       "      <th></th>\n",
       "      <th></th>\n",
       "      <th></th>\n",
       "    </tr>\n",
       "  </thead>\n",
       "  <tbody>\n",
       "    <tr>\n",
       "      <th>majority</th>\n",
       "      <td>0.239656</td>\n",
       "      <td>0.540750</td>\n",
       "      <td>0.248231</td>\n",
       "      <td>0.142768</td>\n",
       "      <td>0.868499</td>\n",
       "      <td>0.050000</td>\n",
       "      <td>0.879268</td>\n",
       "      <td>69170.0</td>\n",
       "    </tr>\n",
       "    <tr>\n",
       "      <th>minority</th>\n",
       "      <td>0.142648</td>\n",
       "      <td>0.510138</td>\n",
       "      <td>0.209889</td>\n",
       "      <td>0.117420</td>\n",
       "      <td>0.967477</td>\n",
       "      <td>0.012247</td>\n",
       "      <td>0.969815</td>\n",
       "      <td>20540.0</td>\n",
       "    </tr>\n",
       "  </tbody>\n",
       "</table>\n",
       "</div>"
      ],
      "text/plain": [
       "          accuracy  balanced accuracy        f1  precision  \\\n",
       "majmin                                                       \n",
       "majority  0.239656           0.540750  0.248231   0.142768   \n",
       "minority  0.142648           0.510138  0.209889   0.117420   \n",
       "\n",
       "          false positive rate  false negative rate  selection rate    count  \n",
       "majmin                                                                       \n",
       "majority             0.868499             0.050000        0.879268  69170.0  \n",
       "minority             0.967477             0.012247        0.969815  20540.0  "
      ]
     },
     "execution_count": 62,
     "metadata": {},
     "output_type": "execute_result"
    }
   ],
   "source": [
    "metric_frame.by_group"
   ]
  },
  {
   "cell_type": "code",
   "execution_count": 63,
   "id": "a9ddbe63",
   "metadata": {
    "execution": {
     "iopub.execute_input": "2025-08-05T15:14:22.303013Z",
     "iopub.status.busy": "2025-08-05T15:14:22.302334Z",
     "iopub.status.idle": "2025-08-05T15:14:24.823686Z",
     "shell.execute_reply": "2025-08-05T15:14:24.822501Z"
    },
    "papermill": {
     "duration": 2.566254,
     "end_time": "2025-08-05T15:14:24.825309",
     "exception": false,
     "start_time": "2025-08-05T15:14:22.259055",
     "status": "completed"
    },
    "tags": []
   },
   "outputs": [
    {
     "data": {
      "text/plain": [
       "array([[<Axes: title={'center': 'accuracy'}, xlabel='majmin'>,\n",
       "        <Axes: title={'center': 'balanced accuracy'}, xlabel='majmin'>,\n",
       "        <Axes: title={'center': 'f1'}, xlabel='majmin'>],\n",
       "       [<Axes: title={'center': 'precision'}, xlabel='majmin'>,\n",
       "        <Axes: title={'center': 'false positive rate'}, xlabel='majmin'>,\n",
       "        <Axes: title={'center': 'false negative rate'}, xlabel='majmin'>],\n",
       "       [<Axes: title={'center': 'selection rate'}, xlabel='majmin'>,\n",
       "        <Axes: title={'center': 'count'}, xlabel='majmin'>,\n",
       "        <Axes: xlabel='majmin'>]], dtype=object)"
      ]
     },
     "execution_count": 63,
     "metadata": {},
     "output_type": "execute_result"
    },
    {
     "data": {
      "image/png": "[encoded data removed]",
      "text/plain": [
       "<Figure size 1200x800 with 9 Axes>"
      ]
     },
     "metadata": {},
     "output_type": "display_data"
    }
   ],
   "source": [
    "# In a graphic\n",
    "metric_frame.by_group.plot.bar(\n",
    "    subplots=True,\n",
    "    layout=[3, 3],\n",
    "    legend=False,\n",
    "    figsize=[12, 8],\n",
    "    title=\"Show all metrics\",\n",
    ")"
   ]
  },
  {
   "cell_type": "markdown",
   "id": "f57a0bac",
   "metadata": {
    "papermill": {
     "duration": 0.023351,
     "end_time": "2025-08-05T15:14:24.873976",
     "exception": false,
     "start_time": "2025-08-05T15:14:24.850625",
     "status": "completed"
    },
    "tags": []
   },
   "source": [
    "# Final Output"
   ]
  },
  {
   "cell_type": "code",
   "execution_count": 64,
   "id": "96d280a3",
   "metadata": {
    "execution": {
     "iopub.execute_input": "2025-08-05T15:14:24.922430Z",
     "iopub.status.busy": "2025-08-05T15:14:24.921580Z",
     "iopub.status.idle": "2025-08-05T15:14:24.931569Z",
     "shell.execute_reply": "2025-08-05T15:14:24.930747Z"
    },
    "papermill": {
     "duration": 0.035146,
     "end_time": "2025-08-05T15:14:24.933162",
     "exception": false,
     "start_time": "2025-08-05T15:14:24.898016",
     "status": "completed"
    },
    "tags": []
   },
   "outputs": [
    {
     "data": {
      "text/plain": [
       "4"
      ]
     },
     "execution_count": 64,
     "metadata": {},
     "output_type": "execute_result"
    }
   ],
   "source": [
    "sub_universes = universe_analysis.generate_sub_universes()\n",
    "len(sub_universes)"
   ]
  },
  {
   "cell_type": "code",
   "execution_count": 65,
   "id": "92adf7ba",
   "metadata": {
    "execution": {
     "iopub.execute_input": "2025-08-05T15:14:24.983756Z",
     "iopub.status.busy": "2025-08-05T15:14:24.983009Z",
     "iopub.status.idle": "2025-08-05T15:14:24.989300Z",
     "shell.execute_reply": "2025-08-05T15:14:24.988414Z"
    },
    "papermill": {
     "duration": 0.033153,
     "end_time": "2025-08-05T15:14:24.990902",
     "exception": false,
     "start_time": "2025-08-05T15:14:24.957749",
     "status": "completed"
    },
    "tags": []
   },
   "outputs": [],
   "source": [
    "def filter_sub_universe_data(sub_universe, org_test):\n",
    "    # Keep all rows — no filtering\n",
    "    keep_rows_mask = np.ones(org_test.shape[0], dtype=bool)\n",
    "\n",
    "    print(f\"[INFO] Keeping all rows: {keep_rows_mask.sum()} rows retained.\")\n",
    "    return keep_rows_mask"
   ]
  },
  {
   "cell_type": "code",
   "execution_count": 66,
   "id": "4a759155",
   "metadata": {
    "execution": {
     "iopub.execute_input": "2025-08-05T15:14:25.040782Z",
     "iopub.status.busy": "2025-08-05T15:14:25.039910Z",
     "iopub.status.idle": "2025-08-05T15:14:33.407029Z",
     "shell.execute_reply": "2025-08-05T15:14:33.406307Z"
    },
    "papermill": {
     "duration": 8.392551,
     "end_time": "2025-08-05T15:14:33.408243",
     "exception": false,
     "start_time": "2025-08-05T15:14:25.015692",
     "status": "completed"
    },
    "tags": []
   },
   "outputs": [
    {
     "name": "stdout",
     "output_type": "stream",
     "text": [
      "Stopping execution_time clock.\n",
      "[INFO] Keeping all rows: 89710 rows retained.\n"
     ]
    },
    {
     "name": "stdout",
     "output_type": "stream",
     "text": [
      "[INFO] Keeping all rows: 89710 rows retained.\n"
     ]
    },
    {
     "name": "stdout",
     "output_type": "stream",
     "text": [
      "[INFO] Keeping all rows: 89710 rows retained.\n"
     ]
    },
    {
     "name": "stdout",
     "output_type": "stream",
     "text": [
      "[INFO] Keeping all rows: 89710 rows retained.\n"
     ]
    },
    {
     "data": {
      "text/html": [
       "<div>\n",
       "<style scoped>\n",
       "    .dataframe tbody tr th:only-of-type {\n",
       "        vertical-align: middle;\n",
       "    }\n",
       "\n",
       "    .dataframe tbody tr th {\n",
       "        vertical-align: top;\n",
       "    }\n",
       "\n",
       "    .dataframe thead th {\n",
       "        text-align: right;\n",
       "    }\n",
       "</style>\n",
       "<table border=\"1\" class=\"dataframe\">\n",
       "  <thead>\n",
       "    <tr style=\"text-align: right;\">\n",
       "      <th></th>\n",
       "      <th>run_no</th>\n",
       "      <th>universe_id</th>\n",
       "      <th>universe_settings</th>\n",
       "      <th>execution_time</th>\n",
       "      <th>test_size_n</th>\n",
       "      <th>test_size_frac</th>\n",
       "      <th>fair_main_equalized_odds_difference</th>\n",
       "      <th>fair_main_equalized_odds_ratio</th>\n",
       "      <th>fair_main_demographic_parity_difference</th>\n",
       "      <th>fair_main_demographic_parity_ratio</th>\n",
       "      <th>...</th>\n",
       "      <th>perf_grp_precision_0</th>\n",
       "      <th>perf_grp_precision_1</th>\n",
       "      <th>perf_grp_false positive rate_0</th>\n",
       "      <th>perf_grp_false positive rate_1</th>\n",
       "      <th>perf_grp_false negative rate_0</th>\n",
       "      <th>perf_grp_false negative rate_1</th>\n",
       "      <th>perf_grp_selection rate_0</th>\n",
       "      <th>perf_grp_selection rate_1</th>\n",
       "      <th>perf_grp_count_0</th>\n",
       "      <th>perf_grp_count_1</th>\n",
       "    </tr>\n",
       "  </thead>\n",
       "  <tbody>\n",
       "    <tr>\n",
       "      <th>0</th>\n",
       "      <td>15</td>\n",
       "      <td>c45097dbcd4c8250dcb1aeadc1de83ef</td>\n",
       "      <td>{\"cutoff\": \"quantile_0.1\", \"eval_fairness_grou...</td>\n",
       "      <td>24.770737</td>\n",
       "      <td>89710</td>\n",
       "      <td>1.0</td>\n",
       "      <td>0.098978</td>\n",
       "      <td>0.897694</td>\n",
       "      <td>0.090547</td>\n",
       "      <td>0.906635</td>\n",
       "      <td>...</td>\n",
       "      <td>NaN</td>\n",
       "      <td>NaN</td>\n",
       "      <td>NaN</td>\n",
       "      <td>NaN</td>\n",
       "      <td>NaN</td>\n",
       "      <td>NaN</td>\n",
       "      <td>NaN</td>\n",
       "      <td>NaN</td>\n",
       "      <td>NaN</td>\n",
       "      <td>NaN</td>\n",
       "    </tr>\n",
       "    <tr>\n",
       "      <th>0</th>\n",
       "      <td>15</td>\n",
       "      <td>c45097dbcd4c8250dcb1aeadc1de83ef</td>\n",
       "      <td>{\"cutoff\": \"quantile_0.1\", \"eval_fairness_grou...</td>\n",
       "      <td>24.770737</td>\n",
       "      <td>89710</td>\n",
       "      <td>1.0</td>\n",
       "      <td>0.098978</td>\n",
       "      <td>0.897694</td>\n",
       "      <td>0.090547</td>\n",
       "      <td>0.906635</td>\n",
       "      <td>...</td>\n",
       "      <td>0.117420</td>\n",
       "      <td>0.142768</td>\n",
       "      <td>0.967477</td>\n",
       "      <td>0.868499</td>\n",
       "      <td>0.012247</td>\n",
       "      <td>0.050000</td>\n",
       "      <td>0.969815</td>\n",
       "      <td>0.879268</td>\n",
       "      <td>20540.0</td>\n",
       "      <td>69170.0</td>\n",
       "    </tr>\n",
       "    <tr>\n",
       "      <th>0</th>\n",
       "      <td>15</td>\n",
       "      <td>c45097dbcd4c8250dcb1aeadc1de83ef</td>\n",
       "      <td>{\"cutoff\": \"quantile_0.25\", \"eval_fairness_gro...</td>\n",
       "      <td>24.770737</td>\n",
       "      <td>89710</td>\n",
       "      <td>1.0</td>\n",
       "      <td>0.214338</td>\n",
       "      <td>0.760355</td>\n",
       "      <td>0.196128</td>\n",
       "      <td>0.782374</td>\n",
       "      <td>...</td>\n",
       "      <td>NaN</td>\n",
       "      <td>NaN</td>\n",
       "      <td>NaN</td>\n",
       "      <td>NaN</td>\n",
       "      <td>NaN</td>\n",
       "      <td>NaN</td>\n",
       "      <td>NaN</td>\n",
       "      <td>NaN</td>\n",
       "      <td>NaN</td>\n",
       "      <td>NaN</td>\n",
       "    </tr>\n",
       "    <tr>\n",
       "      <th>0</th>\n",
       "      <td>15</td>\n",
       "      <td>c45097dbcd4c8250dcb1aeadc1de83ef</td>\n",
       "      <td>{\"cutoff\": \"quantile_0.25\", \"eval_fairness_gro...</td>\n",
       "      <td>24.770737</td>\n",
       "      <td>89710</td>\n",
       "      <td>1.0</td>\n",
       "      <td>0.214338</td>\n",
       "      <td>0.760355</td>\n",
       "      <td>0.196128</td>\n",
       "      <td>0.782374</td>\n",
       "      <td>...</td>\n",
       "      <td>0.121982</td>\n",
       "      <td>0.162945</td>\n",
       "      <td>0.894398</td>\n",
       "      <td>0.680060</td>\n",
       "      <td>0.046453</td>\n",
       "      <td>0.130525</td>\n",
       "      <td>0.901217</td>\n",
       "      <td>0.705089</td>\n",
       "      <td>20540.0</td>\n",
       "      <td>69170.0</td>\n",
       "    </tr>\n",
       "  </tbody>\n",
       "</table>\n",
       "<p>4 rows × 50 columns</p>\n",
       "</div>"
      ],
      "text/plain": [
       "  run_no                       universe_id  \\\n",
       "0     15  c45097dbcd4c8250dcb1aeadc1de83ef   \n",
       "0     15  c45097dbcd4c8250dcb1aeadc1de83ef   \n",
       "0     15  c45097dbcd4c8250dcb1aeadc1de83ef   \n",
       "0     15  c45097dbcd4c8250dcb1aeadc1de83ef   \n",
       "\n",
       "                                   universe_settings  execution_time  \\\n",
       "0  {\"cutoff\": \"quantile_0.1\", \"eval_fairness_grou...       24.770737   \n",
       "0  {\"cutoff\": \"quantile_0.1\", \"eval_fairness_grou...       24.770737   \n",
       "0  {\"cutoff\": \"quantile_0.25\", \"eval_fairness_gro...       24.770737   \n",
       "0  {\"cutoff\": \"quantile_0.25\", \"eval_fairness_gro...       24.770737   \n",
       "\n",
       "   test_size_n  test_size_frac  fair_main_equalized_odds_difference  \\\n",
       "0        89710             1.0                             0.098978   \n",
       "0        89710             1.0                             0.098978   \n",
       "0        89710             1.0                             0.214338   \n",
       "0        89710             1.0                             0.214338   \n",
       "\n",
       "   fair_main_equalized_odds_ratio  fair_main_demographic_parity_difference  \\\n",
       "0                        0.897694                                 0.090547   \n",
       "0                        0.897694                                 0.090547   \n",
       "0                        0.760355                                 0.196128   \n",
       "0                        0.760355                                 0.196128   \n",
       "\n",
       "   fair_main_demographic_parity_ratio  ...  perf_grp_precision_0  \\\n",
       "0                            0.906635  ...                   NaN   \n",
       "0                            0.906635  ...              0.117420   \n",
       "0                            0.782374  ...                   NaN   \n",
       "0                            0.782374  ...              0.121982   \n",
       "\n",
       "   perf_grp_precision_1  perf_grp_false positive rate_0  \\\n",
       "0                   NaN                             NaN   \n",
       "0              0.142768                        0.967477   \n",
       "0                   NaN                             NaN   \n",
       "0              0.162945                        0.894398   \n",
       "\n",
       "   perf_grp_false positive rate_1  perf_grp_false negative rate_0  \\\n",
       "0                             NaN                             NaN   \n",
       "0                        0.868499                        0.012247   \n",
       "0                             NaN                             NaN   \n",
       "0                        0.680060                        0.046453   \n",
       "\n",
       "   perf_grp_false negative rate_1  perf_grp_selection rate_0  \\\n",
       "0                             NaN                        NaN   \n",
       "0                        0.050000                   0.969815   \n",
       "0                             NaN                        NaN   \n",
       "0                        0.130525                   0.901217   \n",
       "\n",
       "   perf_grp_selection rate_1  perf_grp_count_0  perf_grp_count_1  \n",
       "0                        NaN               NaN               NaN  \n",
       "0                   0.879268           20540.0           69170.0  \n",
       "0                        NaN               NaN               NaN  \n",
       "0                   0.705089           20540.0           69170.0  \n",
       "\n",
       "[4 rows x 50 columns]"
      ]
     },
     "execution_count": 66,
     "metadata": {},
     "output_type": "execute_result"
    }
   ],
   "source": [
    "final_output = universe_analysis.generate_final_output(\n",
    "    y_pred_prob=probs_test,\n",
    "    y_test=y_true,\n",
    "    org_test=org_test,\n",
    "    filter_data=filter_sub_universe_data,\n",
    "    cp_metrics_df=cp_metrics_df,\n",
    "    save=True,\n",
    ")\n",
    "final_output"
   ]
  }
 ],
 "metadata": {
  "celltoolbar": "Tags",
  "kernelspec": {
   "display_name": "Python (CMA Fairness)",
   "language": "python",
   "name": "cma_fair_env"
  },
  "language_info": {
   "codemirror_mode": {
    "name": "ipython",
    "version": 3
   },
   "file_extension": ".py",
   "mimetype": "text/x-python",
   "name": "python",
   "nbconvert_exporter": "python",
   "pygments_lexer": "ipython3",
   "version": "3.10.12"
  },
  "papermill": {
   "default_parameters": {},
   "duration": 36.522503,
   "end_time": "2025-08-05T15:14:34.141906",
   "environment_variables": {},
   "exception": null,
   "input_path": "universe_analysis.ipynb",
   "output_path": "output/runs/15/notebooks/m_15-c45097dbcd4c8250dcb1aeadc1de83ef.ipynb",
   "parameters": {
    "output_dir": "output",
    "run_no": "15",
    "seed": "2023",
    "universe": "{\"cutoff\": [\"quantile_0.1\", \"quantile_0.25\"], \"eval_fairness_grouping\": [\"majority-minority\", \"nationality-all\"], \"exclude_features\": \"sex\", \"exclude_subgroups\": \"keep-all\", \"model\": \"penalized_logreg\", \"scale\": \"do-not-scale\", \"training_size\": \"25k\", \"training_year\": \"2010_14\"}",
    "universe_id": "c45097dbcd4c8250dcb1aeadc1de83ef"
   },
   "start_time": "2025-08-05T15:13:57.619403",
   "version": "2.6.0"
  }
 },
 "nbformat": 4,
 "nbformat_minor": 5
}