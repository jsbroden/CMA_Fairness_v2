{
 "cells": [
  {
   "cell_type": "code",
   "execution_count": 1,
   "id": "f159f837-637b-42ba-96b5-ec9a68c44524",
   "metadata": {
    "execution": {
     "iopub.execute_input": "2025-08-05T16:30:42.175052Z",
     "iopub.status.busy": "2025-08-05T16:30:42.174563Z",
     "iopub.status.idle": "2025-08-05T16:30:42.191497Z",
     "shell.execute_reply": "2025-08-05T16:30:42.190301Z"
    },
    "papermill": {
     "duration": 0.043043,
     "end_time": "2025-08-05T16:30:42.193667",
     "exception": false,
     "start_time": "2025-08-05T16:30:42.150624",
     "status": "completed"
    },
    "tags": []
   },
   "outputs": [
    {
     "name": "stdout",
     "output_type": "stream",
     "text": [
      "/dss/dsshome1/0C/ra93lal2/cma/CMA_Fairness_v2\n"
     ]
    },
    {
     "name": "stderr",
     "output_type": "stream",
     "text": [
      "/dss/dsshome1/0C/ra93lal2/.local/share/virtualenvs/CMA_Fairness_v2-3j10GkSs/lib/python3.10/site-packages/IPython/core/magics/osm.py:393: UserWarning: This is now an optional IPython functionality, using bookmarks requires you to install the `pickleshare` library.\n",
      "  bkms = self.shell.db.get('bookmarks', {})\n",
      "/dss/dsshome1/0C/ra93lal2/.local/share/virtualenvs/CMA_Fairness_v2-3j10GkSs/lib/python3.10/site-packages/IPython/core/magics/osm.py:417: UserWarning: This is now an optional IPython functionality, setting dhist requires you to install the `pickleshare` library.\n",
      "  self.shell.db['dhist'] = compress_dhist(dhist)[-100:]\n"
     ]
    }
   ],
   "source": [
    "%cd ~/cma/CMA_Fairness_v2"
   ]
  },
  {
   "cell_type": "markdown",
   "id": "de2603b9",
   "metadata": {
    "papermill": {
     "duration": 0.021658,
     "end_time": "2025-08-05T16:30:42.238434",
     "exception": false,
     "start_time": "2025-08-05T16:30:42.216776",
     "status": "completed"
    },
    "tags": []
   },
   "source": [
    "The following cell holds the definition of our parameters, these values can be overriden by rendering the with e.g. the following command:\n",
    "\n",
    "papermill -p alpha 0.2 -p ratio 0.3 universe_analysis.ipynb output/test_run.ipynb"
   ]
  },
  {
   "cell_type": "code",
   "execution_count": 2,
   "id": "a80968a0-40bb-4fa9-85ef-2d5eefb01975",
   "metadata": {
    "execution": {
     "iopub.execute_input": "2025-08-05T16:30:42.285600Z",
     "iopub.status.busy": "2025-08-05T16:30:42.284542Z",
     "iopub.status.idle": "2025-08-05T16:30:42.292652Z",
     "shell.execute_reply": "2025-08-05T16:30:42.291511Z"
    },
    "papermill": {
     "duration": 0.042415,
     "end_time": "2025-08-05T16:30:42.302868",
     "exception": false,
     "start_time": "2025-08-05T16:30:42.260453",
     "status": "completed"
    },
    "tags": []
   },
   "outputs": [
    {
     "name": "stdout",
     "output_type": "stream",
     "text": [
      "Current working directory: /dss/dsshome1/0C/ra93lal2/cma/CMA_Fairness_v2\n"
     ]
    }
   ],
   "source": [
    "import os\n",
    "print(\"Current working directory:\", os.getcwd())"
   ]
  },
  {
   "cell_type": "code",
   "execution_count": 3,
   "id": "2dce4c03",
   "metadata": {
    "execution": {
     "iopub.execute_input": "2025-08-05T16:30:42.350588Z",
     "iopub.status.busy": "2025-08-05T16:30:42.350117Z",
     "iopub.status.idle": "2025-08-05T16:30:42.357715Z",
     "shell.execute_reply": "2025-08-05T16:30:42.356516Z"
    },
    "papermill": {
     "duration": 0.034278,
     "end_time": "2025-08-05T16:30:42.359550",
     "exception": false,
     "start_time": "2025-08-05T16:30:42.325272",
     "status": "completed"
    },
    "tags": [
     "parameters"
    ]
   },
   "outputs": [],
   "source": [
    "run_no = 0\n",
    "universe_id = \"test\"\n",
    "universe = {\n",
    "    \"training_size\": \"25k\", # \"25k\", \"5k\", \"1k\"\n",
    "    \"training_year\": \"2014\", # \"2014\", \"2012_14\", \"2010_14\"\n",
    "    \"scale\": \"scale\", # \"scale\", \"do-not-scale\",\n",
    "    \"model\": \"elasticnet\", # \"logreg\", \"penalized_logreg\", \"rf\", \"gbm\", \"elasticnet\"\n",
    "    \"cutoff\": [\"quantile_0.15\", \"quantile_0.30\"],\n",
    "    \"exclude_features\": \"age\", # \"none\", \"nationality\", \"sex\", \"nationality-sex\", \"age\"\n",
    "    \"exclude_subgroups\": \"keep-all\", # \"keep-all\", \"drop-non-german\"\n",
    "    \"eval_fairness_grouping\": [\"majority-minority\", \"nationality-all\"]\n",
    "}\n",
    "\n",
    "output_dir=\"./output\"\n",
    "seed=0"
   ]
  },
  {
   "cell_type": "code",
   "execution_count": 4,
   "id": "c5e3b7c1",
   "metadata": {
    "execution": {
     "iopub.execute_input": "2025-08-05T16:30:42.406441Z",
     "iopub.status.busy": "2025-08-05T16:30:42.405902Z",
     "iopub.status.idle": "2025-08-05T16:30:42.412339Z",
     "shell.execute_reply": "2025-08-05T16:30:42.411229Z"
    },
    "papermill": {
     "duration": 0.031801,
     "end_time": "2025-08-05T16:30:42.414263",
     "exception": false,
     "start_time": "2025-08-05T16:30:42.382462",
     "status": "completed"
    },
    "tags": [
     "injected-parameters"
    ]
   },
   "outputs": [],
   "source": [
    "# Parameters\n",
    "universe_id = \"8da144e34cc28ca555226f7563cadc53\"\n",
    "run_no = \"15\"\n",
    "universe = \"{\\\"cutoff\\\": [\\\"quantile_0.1\\\", \\\"quantile_0.25\\\"], \\\"eval_fairness_grouping\\\": [\\\"majority-minority\\\", \\\"nationality-all\\\"], \\\"exclude_features\\\": \\\"age\\\", \\\"exclude_subgroups\\\": \\\"drop-non-german\\\", \\\"model\\\": \\\"elasticnet\\\", \\\"scale\\\": \\\"do-not-scale\\\", \\\"training_size\\\": \\\"1k\\\", \\\"training_year\\\": \\\"2012_14\\\"}\"\n",
    "output_dir = \"output\"\n",
    "seed = \"2023\"\n"
   ]
  },
  {
   "cell_type": "code",
   "execution_count": 5,
   "id": "1650acaf",
   "metadata": {
    "execution": {
     "iopub.execute_input": "2025-08-05T16:30:42.458602Z",
     "iopub.status.busy": "2025-08-05T16:30:42.457615Z",
     "iopub.status.idle": "2025-08-05T16:30:42.463930Z",
     "shell.execute_reply": "2025-08-05T16:30:42.462635Z"
    },
    "papermill": {
     "duration": 0.03094,
     "end_time": "2025-08-05T16:30:42.465888",
     "exception": false,
     "start_time": "2025-08-05T16:30:42.434948",
     "status": "completed"
    },
    "tags": []
   },
   "outputs": [],
   "source": [
    "import json\n",
    "if isinstance(universe, str):\n",
    "    universe = json.loads(universe)"
   ]
  },
  {
   "cell_type": "code",
   "execution_count": 6,
   "id": "16620c48",
   "metadata": {
    "execution": {
     "iopub.execute_input": "2025-08-05T16:30:42.509499Z",
     "iopub.status.busy": "2025-08-05T16:30:42.508417Z",
     "iopub.status.idle": "2025-08-05T16:30:42.565372Z",
     "shell.execute_reply": "2025-08-05T16:30:42.564193Z"
    },
    "papermill": {
     "duration": 0.081106,
     "end_time": "2025-08-05T16:30:42.567800",
     "exception": false,
     "start_time": "2025-08-05T16:30:42.486694",
     "status": "completed"
    },
    "tags": []
   },
   "outputs": [],
   "source": [
    "# Auto-reload the custom package\n",
    "%load_ext autoreload\n",
    "%autoreload 1\n",
    "%aimport fairness_multiverse"
   ]
  },
  {
   "cell_type": "code",
   "execution_count": 7,
   "id": "01c5c9f3",
   "metadata": {
    "execution": {
     "iopub.execute_input": "2025-08-05T16:30:42.612373Z",
     "iopub.status.busy": "2025-08-05T16:30:42.611420Z",
     "iopub.status.idle": "2025-08-05T16:30:44.932887Z",
     "shell.execute_reply": "2025-08-05T16:30:44.931607Z"
    },
    "papermill": {
     "duration": 2.345252,
     "end_time": "2025-08-05T16:30:44.934949",
     "exception": false,
     "start_time": "2025-08-05T16:30:42.589697",
     "status": "completed"
    },
    "tags": []
   },
   "outputs": [],
   "source": [
    "from fairness_multiverse.universe import UniverseAnalysis\n",
    "\n",
    "universe_analysis = UniverseAnalysis(\n",
    "    run_no = run_no,\n",
    "    universe_id = universe_id,\n",
    "    universe = universe,\n",
    "    output_dir=output_dir,\n",
    ")"
   ]
  },
  {
   "cell_type": "code",
   "execution_count": 8,
   "id": "106241f5",
   "metadata": {
    "execution": {
     "iopub.execute_input": "2025-08-05T16:30:44.976317Z",
     "iopub.status.busy": "2025-08-05T16:30:44.975713Z",
     "iopub.status.idle": "2025-08-05T16:30:44.983184Z",
     "shell.execute_reply": "2025-08-05T16:30:44.982089Z"
    },
    "papermill": {
     "duration": 0.029887,
     "end_time": "2025-08-05T16:30:44.985050",
     "exception": false,
     "start_time": "2025-08-05T16:30:44.955163",
     "status": "completed"
    },
    "tags": []
   },
   "outputs": [
    {
     "name": "stdout",
     "output_type": "stream",
     "text": [
      "Using Seed: 2023\n"
     ]
    }
   ],
   "source": [
    "import numpy as np\n",
    "parsed_seed = int(seed)\n",
    "np.random.seed(parsed_seed)\n",
    "print(f\"Using Seed: {parsed_seed}\")"
   ]
  },
  {
   "cell_type": "markdown",
   "id": "e0ebdc57",
   "metadata": {
    "papermill": {
     "duration": 0.020741,
     "end_time": "2025-08-05T16:30:45.026111",
     "exception": false,
     "start_time": "2025-08-05T16:30:45.005370",
     "status": "completed"
    },
    "tags": []
   },
   "source": [
    "# Loading Data"
   ]
  },
  {
   "cell_type": "code",
   "execution_count": 9,
   "id": "f0496b8a",
   "metadata": {
    "execution": {
     "iopub.execute_input": "2025-08-05T16:30:45.070450Z",
     "iopub.status.busy": "2025-08-05T16:30:45.069473Z",
     "iopub.status.idle": "2025-08-05T16:30:59.094679Z",
     "shell.execute_reply": "2025-08-05T16:30:59.092505Z"
    },
    "papermill": {
     "duration": 14.048913,
     "end_time": "2025-08-05T16:30:59.097180",
     "exception": false,
     "start_time": "2025-08-05T16:30:45.048267",
     "status": "completed"
    },
    "tags": []
   },
   "outputs": [
    {
     "name": "stdout",
     "output_type": "stream",
     "text": [
      "Loading SIAB data from cache: data/siab_cached.csv.gz\n"
     ]
    },
    {
     "name": "stdout",
     "output_type": "stream",
     "text": [
      "(643690, 164)\n"
     ]
    }
   ],
   "source": [
    "from pathlib import Path\n",
    "import pandas as pd\n",
    "\n",
    "# File paths\n",
    "raw_file = Path(\"data/raw/siab.csv\")\n",
    "cache_file = Path(\"data/siab_cached.csv.gz\")\n",
    "\n",
    "# Ensure cache directory exists\n",
    "cache_file.parent.mkdir(parents=True, exist_ok=True)\n",
    "\n",
    "# Load with simple caching\n",
    "if cache_file.exists():\n",
    "    print(f\"Loading SIAB data from cache: {cache_file}\")\n",
    "    siab = pd.read_csv(cache_file, compression='gzip')\n",
    "else:\n",
    "    print(f\"Cache not found. Reading raw SIAB data: {raw_file}\")\n",
    "    siab = pd.read_csv(raw_file)\n",
    "    siab.to_csv(cache_file, index=False, compression='gzip')\n",
    "    print(f\"Cached SIAB data to: {cache_file}\")\n",
    "\n",
    "print(siab.shape)"
   ]
  },
  {
   "cell_type": "code",
   "execution_count": 10,
   "id": "db0ca512-5f53-4dba-abdb-a2888bca41ba",
   "metadata": {
    "execution": {
     "iopub.execute_input": "2025-08-05T16:30:59.161454Z",
     "iopub.status.busy": "2025-08-05T16:30:59.160823Z",
     "iopub.status.idle": "2025-08-05T16:30:59.167458Z",
     "shell.execute_reply": "2025-08-05T16:30:59.166290Z"
    },
    "papermill": {
     "duration": 0.051817,
     "end_time": "2025-08-05T16:30:59.181019",
     "exception": false,
     "start_time": "2025-08-05T16:30:59.129202",
     "status": "completed"
    },
    "tags": []
   },
   "outputs": [],
   "source": [
    "#siab"
   ]
  },
  {
   "cell_type": "markdown",
   "id": "997051c5-15bd-4b69-9786-c3001a3ce484",
   "metadata": {
    "papermill": {
     "duration": 0.03026,
     "end_time": "2025-08-05T16:30:59.267924",
     "exception": false,
     "start_time": "2025-08-05T16:30:59.237664",
     "status": "completed"
    },
    "tags": []
   },
   "source": [
    "# Splitting Data and Setting Training Data Size"
   ]
  },
  {
   "cell_type": "code",
   "execution_count": 11,
   "id": "aea9c6ef-6f46-42c8-85eb-5a62025c1508",
   "metadata": {
    "execution": {
     "iopub.execute_input": "2025-08-05T16:30:59.324570Z",
     "iopub.status.busy": "2025-08-05T16:30:59.324020Z",
     "iopub.status.idle": "2025-08-05T16:30:59.977595Z",
     "shell.execute_reply": "2025-08-05T16:30:59.976314Z"
    },
    "papermill": {
     "duration": 0.682314,
     "end_time": "2025-08-05T16:30:59.980183",
     "exception": false,
     "start_time": "2025-08-05T16:30:59.297869",
     "status": "completed"
    },
    "tags": []
   },
   "outputs": [],
   "source": [
    "from fairness_multiverse.universe import sample_by_year_size\n",
    "\n",
    "siab_train = sample_by_year_size(siab,\n",
    "                               training_year=universe[\"training_year\"],\n",
    "                               training_size=universe[\"training_size\"])"
   ]
  },
  {
   "cell_type": "code",
   "execution_count": 12,
   "id": "8d3afb32-789d-442c-8d5d-9f5aa8dd2eed",
   "metadata": {
    "execution": {
     "iopub.execute_input": "2025-08-05T16:31:00.038016Z",
     "iopub.status.busy": "2025-08-05T16:31:00.037276Z",
     "iopub.status.idle": "2025-08-05T16:31:00.044328Z",
     "shell.execute_reply": "2025-08-05T16:31:00.043037Z"
    },
    "papermill": {
     "duration": 0.038524,
     "end_time": "2025-08-05T16:31:00.046655",
     "exception": false,
     "start_time": "2025-08-05T16:31:00.008131",
     "status": "completed"
    },
    "tags": []
   },
   "outputs": [],
   "source": [
    "#siab_train.shape"
   ]
  },
  {
   "cell_type": "code",
   "execution_count": 13,
   "id": "d582db68-1a4c-47fb-84fc-08518dc1975a",
   "metadata": {
    "execution": {
     "iopub.execute_input": "2025-08-05T16:31:00.096014Z",
     "iopub.status.busy": "2025-08-05T16:31:00.095023Z",
     "iopub.status.idle": "2025-08-05T16:31:00.101422Z",
     "shell.execute_reply": "2025-08-05T16:31:00.100078Z"
    },
    "papermill": {
     "duration": 0.03184,
     "end_time": "2025-08-05T16:31:00.103643",
     "exception": false,
     "start_time": "2025-08-05T16:31:00.071803",
     "status": "completed"
    },
    "tags": []
   },
   "outputs": [],
   "source": [
    "#display(siab_train.groupby(\"year\").size())"
   ]
  },
  {
   "cell_type": "code",
   "execution_count": 14,
   "id": "a561edb4-d032-42cb-8256-22eac1111c64",
   "metadata": {
    "execution": {
     "iopub.execute_input": "2025-08-05T16:31:00.153297Z",
     "iopub.status.busy": "2025-08-05T16:31:00.152539Z",
     "iopub.status.idle": "2025-08-05T16:31:00.418995Z",
     "shell.execute_reply": "2025-08-05T16:31:00.418060Z"
    },
    "papermill": {
     "duration": 0.292186,
     "end_time": "2025-08-05T16:31:00.421129",
     "exception": false,
     "start_time": "2025-08-05T16:31:00.128943",
     "status": "completed"
    },
    "tags": []
   },
   "outputs": [],
   "source": [
    "#siab_train = siab_s[siab_s.year < 2015]\n",
    "siab_calib = siab[siab.year == 2015]\n",
    "siab_test = siab[siab.year == 2016]"
   ]
  },
  {
   "cell_type": "code",
   "execution_count": 15,
   "id": "472de16f-c3db-4916-846b-1f0de9cf1746",
   "metadata": {
    "execution": {
     "iopub.execute_input": "2025-08-05T16:31:00.486641Z",
     "iopub.status.busy": "2025-08-05T16:31:00.485709Z",
     "iopub.status.idle": "2025-08-05T16:31:00.496806Z",
     "shell.execute_reply": "2025-08-05T16:31:00.495498Z"
    },
    "papermill": {
     "duration": 0.03817,
     "end_time": "2025-08-05T16:31:00.499054",
     "exception": false,
     "start_time": "2025-08-05T16:31:00.460884",
     "status": "completed"
    },
    "tags": []
   },
   "outputs": [],
   "source": [
    "X_train = siab_train.iloc[:,4:164]\n",
    "y_train = siab_train.iloc[:, [3]]"
   ]
  },
  {
   "cell_type": "code",
   "execution_count": 16,
   "id": "828c96af-f43a-4ed6-ba47-8ac73a47d56c",
   "metadata": {
    "execution": {
     "iopub.execute_input": "2025-08-05T16:31:00.548013Z",
     "iopub.status.busy": "2025-08-05T16:31:00.546889Z",
     "iopub.status.idle": "2025-08-05T16:31:00.609505Z",
     "shell.execute_reply": "2025-08-05T16:31:00.608245Z"
    },
    "papermill": {
     "duration": 0.089536,
     "end_time": "2025-08-05T16:31:00.611920",
     "exception": false,
     "start_time": "2025-08-05T16:31:00.522384",
     "status": "completed"
    },
    "tags": []
   },
   "outputs": [],
   "source": [
    "X_calib = siab_calib.iloc[:,4:164]\n",
    "y_calib = siab_calib.iloc[:, [3]]"
   ]
  },
  {
   "cell_type": "code",
   "execution_count": 17,
   "id": "c34be9c3-6bd6-476e-acd3-845840e303be",
   "metadata": {
    "execution": {
     "iopub.execute_input": "2025-08-05T16:31:00.662010Z",
     "iopub.status.busy": "2025-08-05T16:31:00.660957Z",
     "iopub.status.idle": "2025-08-05T16:31:00.723412Z",
     "shell.execute_reply": "2025-08-05T16:31:00.722162Z"
    },
    "papermill": {
     "duration": 0.090767,
     "end_time": "2025-08-05T16:31:00.725841",
     "exception": false,
     "start_time": "2025-08-05T16:31:00.635074",
     "status": "completed"
    },
    "tags": []
   },
   "outputs": [],
   "source": [
    "X_test = siab_test.iloc[:,4:164]\n",
    "y_true = siab_test.iloc[:, [3]]"
   ]
  },
  {
   "cell_type": "code",
   "execution_count": 18,
   "id": "e6c733c5",
   "metadata": {
    "execution": {
     "iopub.execute_input": "2025-08-05T16:31:00.775621Z",
     "iopub.status.busy": "2025-08-05T16:31:00.775188Z",
     "iopub.status.idle": "2025-08-05T16:31:00.878483Z",
     "shell.execute_reply": "2025-08-05T16:31:00.877558Z"
    },
    "papermill": {
     "duration": 0.129385,
     "end_time": "2025-08-05T16:31:00.880318",
     "exception": false,
     "start_time": "2025-08-05T16:31:00.750933",
     "status": "completed"
    },
    "tags": []
   },
   "outputs": [],
   "source": [
    "# Auxiliary data needed downstream in the pipeline\n",
    "\n",
    "org_train = X_train.copy()\n",
    "org_test = X_test.copy()\n",
    "org_calib = X_calib.copy()"
   ]
  },
  {
   "cell_type": "markdown",
   "id": "0a4a1b33",
   "metadata": {
    "papermill": {
     "duration": 0.011239,
     "end_time": "2025-08-05T16:31:00.905411",
     "exception": false,
     "start_time": "2025-08-05T16:31:00.894172",
     "status": "completed"
    },
    "tags": []
   },
   "source": [
    "# Preprocessing Data"
   ]
  },
  {
   "cell_type": "code",
   "execution_count": 19,
   "id": "ca879031",
   "metadata": {
    "execution": {
     "iopub.execute_input": "2025-08-05T16:31:00.929467Z",
     "iopub.status.busy": "2025-08-05T16:31:00.929071Z",
     "iopub.status.idle": "2025-08-05T16:31:00.934655Z",
     "shell.execute_reply": "2025-08-05T16:31:00.933675Z"
    },
    "papermill": {
     "duration": 0.019409,
     "end_time": "2025-08-05T16:31:00.936218",
     "exception": false,
     "start_time": "2025-08-05T16:31:00.916809",
     "status": "completed"
    },
    "tags": []
   },
   "outputs": [],
   "source": [
    "# EXCLUDE PROTECTED FEATURES\n",
    "# ----------------------\n",
    "# \"exclude_features\": \"none\", # \"nationality\", \"sex\", \"nationality-sex\"\n",
    "\n",
    "excluded_features = universe[\"exclude_features\"].split(\"-\") # split, e.g.: \"nationality-sex\" -> [\"nationality\", \"sex\"]\n",
    "excluded_features_dictionary = {\n",
    "    \"nationality\": [\"maxdeutsch1\", \"maxdeutsch.Missing.\"],\n",
    "    \"sex\": [\"frau1\"],\n",
    "    \"age\": [\"age\"],\n",
    "}"
   ]
  },
  {
   "cell_type": "code",
   "execution_count": 20,
   "id": "b745ac60",
   "metadata": {
    "execution": {
     "iopub.execute_input": "2025-08-05T16:31:00.960589Z",
     "iopub.status.busy": "2025-08-05T16:31:00.960160Z",
     "iopub.status.idle": "2025-08-05T16:31:00.966189Z",
     "shell.execute_reply": "2025-08-05T16:31:00.965283Z"
    },
    "papermill": {
     "duration": 0.019898,
     "end_time": "2025-08-05T16:31:00.967602",
     "exception": false,
     "start_time": "2025-08-05T16:31:00.947704",
     "status": "completed"
    },
    "tags": []
   },
   "outputs": [],
   "source": [
    "# Code nice names to column names\n",
    "\n",
    "excluded_features_columns = [\n",
    "    excluded_features_dictionary[f] for f in excluded_features if len(f) > 0 and f != \"none\"\n",
    "]"
   ]
  },
  {
   "cell_type": "code",
   "execution_count": 21,
   "id": "f84f73a2",
   "metadata": {
    "execution": {
     "iopub.execute_input": "2025-08-05T16:31:00.994230Z",
     "iopub.status.busy": "2025-08-05T16:31:00.993445Z",
     "iopub.status.idle": "2025-08-05T16:31:01.017462Z",
     "shell.execute_reply": "2025-08-05T16:31:01.013116Z"
    },
    "papermill": {
     "duration": 0.038403,
     "end_time": "2025-08-05T16:31:01.019402",
     "exception": false,
     "start_time": "2025-08-05T16:31:00.980999",
     "status": "completed"
    },
    "tags": []
   },
   "outputs": [],
   "source": [
    "from utils import flatten_once\n",
    "\n",
    "excluded_features_columns = flatten_once(excluded_features_columns)"
   ]
  },
  {
   "cell_type": "code",
   "execution_count": 22,
   "id": "884dea22",
   "metadata": {
    "execution": {
     "iopub.execute_input": "2025-08-05T16:31:01.070221Z",
     "iopub.status.busy": "2025-08-05T16:31:01.069806Z",
     "iopub.status.idle": "2025-08-05T16:31:01.079860Z",
     "shell.execute_reply": "2025-08-05T16:31:01.078622Z"
    },
    "papermill": {
     "duration": 0.037274,
     "end_time": "2025-08-05T16:31:01.081324",
     "exception": false,
     "start_time": "2025-08-05T16:31:01.044050",
     "status": "completed"
    },
    "tags": []
   },
   "outputs": [
    {
     "name": "stdout",
     "output_type": "stream",
     "text": [
      "Dropping features: ['age']\n"
     ]
    }
   ],
   "source": [
    "if len(excluded_features_columns) > 0:\n",
    "    print(f\"Dropping features: {excluded_features_columns}\")\n",
    "    X_train.drop(excluded_features_columns, axis=1, inplace=True)"
   ]
  },
  {
   "cell_type": "code",
   "execution_count": 23,
   "id": "95ab8b16",
   "metadata": {
    "execution": {
     "iopub.execute_input": "2025-08-05T16:31:01.132218Z",
     "iopub.status.busy": "2025-08-05T16:31:01.131516Z",
     "iopub.status.idle": "2025-08-05T16:31:01.189487Z",
     "shell.execute_reply": "2025-08-05T16:31:01.188265Z"
    },
    "papermill": {
     "duration": 0.085453,
     "end_time": "2025-08-05T16:31:01.191454",
     "exception": false,
     "start_time": "2025-08-05T16:31:01.106001",
     "status": "completed"
    },
    "tags": []
   },
   "outputs": [
    {
     "name": "stdout",
     "output_type": "stream",
     "text": [
      "Dropping features: ['age']\n"
     ]
    }
   ],
   "source": [
    "if len(excluded_features_columns) > 0:\n",
    "    print(f\"Dropping features: {excluded_features_columns}\")\n",
    "    X_test.drop(excluded_features_columns, axis=1, inplace=True)"
   ]
  },
  {
   "cell_type": "code",
   "execution_count": 24,
   "id": "1853aaf5-fb9f-46cb-a2b5-8ea4ae2237e4",
   "metadata": {
    "execution": {
     "iopub.execute_input": "2025-08-05T16:31:01.235712Z",
     "iopub.status.busy": "2025-08-05T16:31:01.235412Z",
     "iopub.status.idle": "2025-08-05T16:31:01.294941Z",
     "shell.execute_reply": "2025-08-05T16:31:01.293759Z"
    },
    "papermill": {
     "duration": 0.082736,
     "end_time": "2025-08-05T16:31:01.296508",
     "exception": false,
     "start_time": "2025-08-05T16:31:01.213772",
     "status": "completed"
    },
    "tags": []
   },
   "outputs": [
    {
     "name": "stdout",
     "output_type": "stream",
     "text": [
      "Dropping features: ['age']\n"
     ]
    }
   ],
   "source": [
    "if len(excluded_features_columns) > 0:\n",
    "    print(f\"Dropping features: {excluded_features_columns}\")\n",
    "    X_calib.drop(excluded_features_columns, axis=1, inplace=True)"
   ]
  },
  {
   "cell_type": "code",
   "execution_count": 25,
   "id": "76c4dc6d",
   "metadata": {
    "execution": {
     "iopub.execute_input": "2025-08-05T16:31:01.322985Z",
     "iopub.status.busy": "2025-08-05T16:31:01.322498Z",
     "iopub.status.idle": "2025-08-05T16:31:01.337121Z",
     "shell.execute_reply": "2025-08-05T16:31:01.336287Z"
    },
    "papermill": {
     "duration": 0.02968,
     "end_time": "2025-08-05T16:31:01.339108",
     "exception": false,
     "start_time": "2025-08-05T16:31:01.309428",
     "status": "completed"
    },
    "tags": []
   },
   "outputs": [],
   "source": [
    "# EXCLUDE CERTAIN SUBGROUPS\n",
    "# ----------------------\n",
    "\n",
    "mode = universe.get(\"exclude_subgroups\", \"keep-all\") \n",
    "# Fetches the exclude_subgroups setting from the universe dict.\n",
    "# Defaults to \"keep-all\" if the key is missing."
   ]
  },
  {
   "cell_type": "code",
   "execution_count": 26,
   "id": "21994072",
   "metadata": {
    "execution": {
     "iopub.execute_input": "2025-08-05T16:31:01.392906Z",
     "iopub.status.busy": "2025-08-05T16:31:01.392131Z",
     "iopub.status.idle": "2025-08-05T16:31:01.399851Z",
     "shell.execute_reply": "2025-08-05T16:31:01.398711Z"
    },
    "papermill": {
     "duration": 0.036141,
     "end_time": "2025-08-05T16:31:01.401916",
     "exception": false,
     "start_time": "2025-08-05T16:31:01.365775",
     "status": "completed"
    },
    "tags": []
   },
   "outputs": [],
   "source": [
    "if mode == \"keep-all\":\n",
    "    keep_mask = pd.Series(True, index=org_train.index)\n",
    "\n",
    "# org_train contains the original feature columns from features_org (in Simson)\n",
    "# features_org contains unprocessed features, for me X_train at beginning ???\n",
    "# For keep-all, creates a boolean Series (keep_mask) of all True, so no rows are removed.\n",
    "\n",
    "elif mode == \"drop-non-german\":\n",
    "    keep_mask = org_train[\"maxdeutsch1\"] == 1 # ??? what about missing values?\n",
    "\n",
    "else:\n",
    "    raise ValueError(f\"Unsupported mode for exclude_subgroups: {mode}\")"
   ]
  },
  {
   "cell_type": "code",
   "execution_count": 27,
   "id": "71651440",
   "metadata": {
    "execution": {
     "iopub.execute_input": "2025-08-05T16:31:01.446236Z",
     "iopub.status.busy": "2025-08-05T16:31:01.445386Z",
     "iopub.status.idle": "2025-08-05T16:31:01.452587Z",
     "shell.execute_reply": "2025-08-05T16:31:01.451593Z"
    },
    "papermill": {
     "duration": 0.029003,
     "end_time": "2025-08-05T16:31:01.454488",
     "exception": false,
     "start_time": "2025-08-05T16:31:01.425485",
     "status": "completed"
    },
    "tags": []
   },
   "outputs": [
    {
     "name": "stdout",
     "output_type": "stream",
     "text": [
      "Dropping 147 rows (14.70%) where mode='drop-non-german'\n"
     ]
    }
   ],
   "source": [
    "n_drop = (~keep_mask).sum() # Calculates how many rows are set to be dropped\n",
    "if n_drop > 0:\n",
    "    pct = n_drop / len(keep_mask) * 100\n",
    "    print(f\"Dropping {n_drop} rows ({pct:.2f}%) where mode='{mode}'\")"
   ]
  },
  {
   "cell_type": "code",
   "execution_count": 28,
   "id": "5fb8eee5",
   "metadata": {
    "execution": {
     "iopub.execute_input": "2025-08-05T16:31:01.507250Z",
     "iopub.status.busy": "2025-08-05T16:31:01.506777Z",
     "iopub.status.idle": "2025-08-05T16:31:01.514123Z",
     "shell.execute_reply": "2025-08-05T16:31:01.512837Z"
    },
    "papermill": {
     "duration": 0.035951,
     "end_time": "2025-08-05T16:31:01.516262",
     "exception": false,
     "start_time": "2025-08-05T16:31:01.480311",
     "status": "completed"
    },
    "tags": []
   },
   "outputs": [],
   "source": [
    "X_train = X_train[keep_mask]"
   ]
  },
  {
   "cell_type": "code",
   "execution_count": 29,
   "id": "b202bb3a",
   "metadata": {
    "execution": {
     "iopub.execute_input": "2025-08-05T16:31:01.571582Z",
     "iopub.status.busy": "2025-08-05T16:31:01.570921Z",
     "iopub.status.idle": "2025-08-05T16:31:01.579306Z",
     "shell.execute_reply": "2025-08-05T16:31:01.578108Z"
    },
    "papermill": {
     "duration": 0.038922,
     "end_time": "2025-08-05T16:31:01.582876",
     "exception": false,
     "start_time": "2025-08-05T16:31:01.543954",
     "status": "completed"
    },
    "tags": []
   },
   "outputs": [],
   "source": [
    "y_train = y_train[keep_mask]"
   ]
  },
  {
   "cell_type": "markdown",
   "id": "493e2ac3",
   "metadata": {
    "papermill": {
     "duration": 0.014072,
     "end_time": "2025-08-05T16:31:01.620943",
     "exception": false,
     "start_time": "2025-08-05T16:31:01.606871",
     "status": "completed"
    },
    "tags": []
   },
   "source": [
    "# Model Training"
   ]
  },
  {
   "cell_type": "code",
   "execution_count": 30,
   "id": "679e1268",
   "metadata": {
    "execution": {
     "iopub.execute_input": "2025-08-05T16:31:01.648988Z",
     "iopub.status.busy": "2025-08-05T16:31:01.648556Z",
     "iopub.status.idle": "2025-08-05T16:31:01.777976Z",
     "shell.execute_reply": "2025-08-05T16:31:01.776637Z"
    },
    "papermill": {
     "duration": 0.145754,
     "end_time": "2025-08-05T16:31:01.780685",
     "exception": false,
     "start_time": "2025-08-05T16:31:01.634931",
     "status": "completed"
    },
    "tags": []
   },
   "outputs": [],
   "source": [
    "from sklearn.linear_model import LogisticRegression\n",
    "from sklearn.ensemble import GradientBoostingClassifier, RandomForestClassifier\n",
    "\n",
    "if (universe[\"model\"] == \"logreg\"):\n",
    "    model = LogisticRegression() #penalty=\"none\", solver=\"newton-cg\", max_iter=1) # include random_state=19 ?\n",
    "elif (universe[\"model\"] == \"penalized_logreg\"):\n",
    "    model = LogisticRegression(penalty=\"l2\", C=0.1) #, solver=\"newton-cg\", max_iter=1)\n",
    "elif (universe[\"model\"] == \"rf\"):\n",
    "    model = RandomForestClassifier() # n_estimators=100, n_jobs=-1\n",
    "elif (universe[\"model\"] == \"gbm\"):\n",
    "    model = GradientBoostingClassifier()\n",
    "elif (universe[\"model\"] == \"elasticnet\"):\n",
    "    model = LogisticRegression(penalty = 'elasticnet', solver = 'saga', l1_ratio = 0.5) # max_iter=5000\n",
    "else:\n",
    "    raise \"Unsupported universe.model\""
   ]
  },
  {
   "cell_type": "code",
   "execution_count": 31,
   "id": "0cc8f744",
   "metadata": {
    "execution": {
     "iopub.execute_input": "2025-08-05T16:31:01.845699Z",
     "iopub.status.busy": "2025-08-05T16:31:01.845267Z",
     "iopub.status.idle": "2025-08-05T16:31:01.850918Z",
     "shell.execute_reply": "2025-08-05T16:31:01.850104Z"
    },
    "papermill": {
     "duration": 0.04049,
     "end_time": "2025-08-05T16:31:01.852877",
     "exception": false,
     "start_time": "2025-08-05T16:31:01.812387",
     "status": "completed"
    },
    "tags": []
   },
   "outputs": [],
   "source": [
    "import numpy as np\n",
    "from sklearn.pipeline import Pipeline\n",
    "from sklearn.preprocessing import StandardScaler\n",
    "\n",
    "model = Pipeline([\n",
    "    #(\"continuous_processor\", continuous_processor),\n",
    "    #(\"categorical_preprocessor\", categorical_preprocessor),\n",
    "    (\"scale\", StandardScaler() if universe[\"scale\"] == \"scale\" else None), \n",
    "    (\"model\", model),\n",
    "])"
   ]
  },
  {
   "cell_type": "code",
   "execution_count": 32,
   "id": "9442c04d",
   "metadata": {
    "execution": {
     "iopub.execute_input": "2025-08-05T16:31:01.910998Z",
     "iopub.status.busy": "2025-08-05T16:31:01.910514Z",
     "iopub.status.idle": "2025-08-05T16:31:02.268627Z",
     "shell.execute_reply": "2025-08-05T16:31:02.267745Z"
    },
    "papermill": {
     "duration": 0.385793,
     "end_time": "2025-08-05T16:31:02.270137",
     "exception": false,
     "start_time": "2025-08-05T16:31:01.884344",
     "status": "completed"
    },
    "tags": []
   },
   "outputs": [
    {
     "name": "stderr",
     "output_type": "stream",
     "text": [
      "/dss/dsshome1/0C/ra93lal2/.local/share/virtualenvs/CMA_Fairness_v2-3j10GkSs/lib/python3.10/site-packages/sklearn/linear_model/_sag.py:350: ConvergenceWarning: The max_iter was reached which means the coef_ did not converge\n",
      "  warnings.warn(\n"
     ]
    },
    {
     "data": {
      "text/html": [
       "<style>#sk-container-id-1 {color: black;background-color: white;}#sk-container-id-1 pre{padding: 0;}#sk-container-id-1 div.sk-toggleable {background-color: white;}#sk-container-id-1 label.sk-toggleable__label {cursor: pointer;display: block;width: 100%;margin-bottom: 0;padding: 0.3em;box-sizing: border-box;text-align: center;}#sk-container-id-1 label.sk-toggleable__label-arrow:before {content: \"▸\";float: left;margin-right: 0.25em;color: #696969;}#sk-container-id-1 label.sk-toggleable__label-arrow:hover:before {color: black;}#sk-container-id-1 div.sk-estimator:hover label.sk-toggleable__label-arrow:before {color: black;}#sk-container-id-1 div.sk-toggleable__content {max-height: 0;max-width: 0;overflow: hidden;text-align: left;background-color: #f0f8ff;}#sk-container-id-1 div.sk-toggleable__content pre {margin: 0.2em;color: black;border-radius: 0.25em;background-color: #f0f8ff;}#sk-container-id-1 input.sk-toggleable__control:checked~div.sk-toggleable__content {max-height: 200px;max-width: 100%;overflow: auto;}#sk-container-id-1 input.sk-toggleable__control:checked~label.sk-toggleable__label-arrow:before {content: \"▾\";}#sk-container-id-1 div.sk-estimator input.sk-toggleable__control:checked~label.sk-toggleable__label {background-color: #d4ebff;}#sk-container-id-1 div.sk-label input.sk-toggleable__control:checked~label.sk-toggleable__label {background-color: #d4ebff;}#sk-container-id-1 input.sk-hidden--visually {border: 0;clip: rect(1px 1px 1px 1px);clip: rect(1px, 1px, 1px, 1px);height: 1px;margin: -1px;overflow: hidden;padding: 0;position: absolute;width: 1px;}#sk-container-id-1 div.sk-estimator {font-family: monospace;background-color: #f0f8ff;border: 1px dotted black;border-radius: 0.25em;box-sizing: border-box;margin-bottom: 0.5em;}#sk-container-id-1 div.sk-estimator:hover {background-color: #d4ebff;}#sk-container-id-1 div.sk-parallel-item::after {content: \"\";width: 100%;border-bottom: 1px solid gray;flex-grow: 1;}#sk-container-id-1 div.sk-label:hover label.sk-toggleable__label {background-color: #d4ebff;}#sk-container-id-1 div.sk-serial::before {content: \"\";position: absolute;border-left: 1px solid gray;box-sizing: border-box;top: 0;bottom: 0;left: 50%;z-index: 0;}#sk-container-id-1 div.sk-serial {display: flex;flex-direction: column;align-items: center;background-color: white;padding-right: 0.2em;padding-left: 0.2em;position: relative;}#sk-container-id-1 div.sk-item {position: relative;z-index: 1;}#sk-container-id-1 div.sk-parallel {display: flex;align-items: stretch;justify-content: center;background-color: white;position: relative;}#sk-container-id-1 div.sk-item::before, #sk-container-id-1 div.sk-parallel-item::before {content: \"\";position: absolute;border-left: 1px solid gray;box-sizing: border-box;top: 0;bottom: 0;left: 50%;z-index: -1;}#sk-container-id-1 div.sk-parallel-item {display: flex;flex-direction: column;z-index: 1;position: relative;background-color: white;}#sk-container-id-1 div.sk-parallel-item:first-child::after {align-self: flex-end;width: 50%;}#sk-container-id-1 div.sk-parallel-item:last-child::after {align-self: flex-start;width: 50%;}#sk-container-id-1 div.sk-parallel-item:only-child::after {width: 0;}#sk-container-id-1 div.sk-dashed-wrapped {border: 1px dashed gray;margin: 0 0.4em 0.5em 0.4em;box-sizing: border-box;padding-bottom: 0.4em;background-color: white;}#sk-container-id-1 div.sk-label label {font-family: monospace;font-weight: bold;display: inline-block;line-height: 1.2em;}#sk-container-id-1 div.sk-label-container {text-align: center;}#sk-container-id-1 div.sk-container {/* jupyter's `normalize.less` sets `[hidden] { display: none; }` but bootstrap.min.css set `[hidden] { display: none !important; }` so we also need the `!important` here to be able to override the default hidden behavior on the sphinx rendered scikit-learn.org. See: https://github.com/scikit-learn/scikit-learn/issues/21755 */display: inline-block !important;position: relative;}#sk-container-id-1 div.sk-text-repr-fallback {display: none;}</style><div id=\"sk-container-id-1\" class=\"sk-top-container\"><div class=\"sk-text-repr-fallback\"><pre>Pipeline(steps=[(&#x27;scale&#x27;, None),\n",
       "                (&#x27;model&#x27;,\n",
       "                 LogisticRegression(l1_ratio=0.5, penalty=&#x27;elasticnet&#x27;,\n",
       "                                    solver=&#x27;saga&#x27;))])</pre><b>In a Jupyter environment, please rerun this cell to show the HTML representation or trust the notebook. <br />On GitHub, the HTML representation is unable to render, please try loading this page with nbviewer.org.</b></div><div class=\"sk-container\" hidden><div class=\"sk-item sk-dashed-wrapped\"><div class=\"sk-label-container\"><div class=\"sk-label sk-toggleable\"><input class=\"sk-toggleable__control sk-hidden--visually\" id=\"sk-estimator-id-1\" type=\"checkbox\" ><label for=\"sk-estimator-id-1\" class=\"sk-toggleable__label sk-toggleable__label-arrow\">Pipeline</label><div class=\"sk-toggleable__content\"><pre>Pipeline(steps=[(&#x27;scale&#x27;, None),\n",
       "                (&#x27;model&#x27;,\n",
       "                 LogisticRegression(l1_ratio=0.5, penalty=&#x27;elasticnet&#x27;,\n",
       "                                    solver=&#x27;saga&#x27;))])</pre></div></div></div><div class=\"sk-serial\"><div class=\"sk-item\"><div class=\"sk-estimator sk-toggleable\"><input class=\"sk-toggleable__control sk-hidden--visually\" id=\"sk-estimator-id-2\" type=\"checkbox\" ><label for=\"sk-estimator-id-2\" class=\"sk-toggleable__label sk-toggleable__label-arrow\">None</label><div class=\"sk-toggleable__content\"><pre>None</pre></div></div></div><div class=\"sk-item\"><div class=\"sk-estimator sk-toggleable\"><input class=\"sk-toggleable__control sk-hidden--visually\" id=\"sk-estimator-id-3\" type=\"checkbox\" ><label for=\"sk-estimator-id-3\" class=\"sk-toggleable__label sk-toggleable__label-arrow\">LogisticRegression</label><div class=\"sk-toggleable__content\"><pre>LogisticRegression(l1_ratio=0.5, penalty=&#x27;elasticnet&#x27;, solver=&#x27;saga&#x27;)</pre></div></div></div></div></div></div></div>"
      ],
      "text/plain": [
       "Pipeline(steps=[('scale', None),\n",
       "                ('model',\n",
       "                 LogisticRegression(l1_ratio=0.5, penalty='elasticnet',\n",
       "                                    solver='saga'))])"
      ]
     },
     "execution_count": 32,
     "metadata": {},
     "output_type": "execute_result"
    }
   ],
   "source": [
    "model.fit(X_train, y_train.values.ravel())"
   ]
  },
  {
   "cell_type": "code",
   "execution_count": 33,
   "id": "af59f8c0",
   "metadata": {
    "execution": {
     "iopub.execute_input": "2025-08-05T16:31:02.296711Z",
     "iopub.status.busy": "2025-08-05T16:31:02.296309Z",
     "iopub.status.idle": "2025-08-05T16:31:02.301097Z",
     "shell.execute_reply": "2025-08-05T16:31:02.300241Z"
    },
    "papermill": {
     "duration": 0.019468,
     "end_time": "2025-08-05T16:31:02.302620",
     "exception": false,
     "start_time": "2025-08-05T16:31:02.283152",
     "status": "completed"
    },
    "tags": []
   },
   "outputs": [],
   "source": [
    "from fairness_multiverse.universe import predict_w_threshold"
   ]
  },
  {
   "cell_type": "code",
   "execution_count": 34,
   "id": "a7cf2e16",
   "metadata": {
    "execution": {
     "iopub.execute_input": "2025-08-05T16:31:02.348053Z",
     "iopub.status.busy": "2025-08-05T16:31:02.346833Z",
     "iopub.status.idle": "2025-08-05T16:31:02.507329Z",
     "shell.execute_reply": "2025-08-05T16:31:02.506093Z"
    },
    "papermill": {
     "duration": 0.186184,
     "end_time": "2025-08-05T16:31:02.509500",
     "exception": false,
     "start_time": "2025-08-05T16:31:02.323316",
     "status": "completed"
    },
    "tags": []
   },
   "outputs": [
    {
     "data": {
      "text/plain": [
       "0.8655110912941701"
      ]
     },
     "execution_count": 34,
     "metadata": {},
     "output_type": "execute_result"
    }
   ],
   "source": [
    "probs_test = model.predict_proba(X_test)\n",
    "\n",
    "'''\n",
    "Below code returns a boolean array (or binary 0/1 array depending on how it’s used) where each element \n",
    "is True if the probability of class 1 is greater than or equal to the threshold, and False otherwise.\n",
    "'''\n",
    "y_pred_default = predict_w_threshold(probs_test, 0.5)\n",
    "\n",
    "from sklearn.metrics import accuracy_score\n",
    "\n",
    "# Naive prediction\n",
    "accuracy_score(y_true = y_true, y_pred = y_pred_default)"
   ]
  },
  {
   "cell_type": "code",
   "execution_count": 35,
   "id": "081964c3",
   "metadata": {
    "execution": {
     "iopub.execute_input": "2025-08-05T16:31:02.563996Z",
     "iopub.status.busy": "2025-08-05T16:31:02.562920Z",
     "iopub.status.idle": "2025-08-05T16:31:02.665249Z",
     "shell.execute_reply": "2025-08-05T16:31:02.660568Z"
    },
    "papermill": {
     "duration": 0.132323,
     "end_time": "2025-08-05T16:31:02.668235",
     "exception": false,
     "start_time": "2025-08-05T16:31:02.535912",
     "status": "completed"
    },
    "tags": []
   },
   "outputs": [
    {
     "data": {
      "text/plain": [
       "array([0, 0, 0, ..., 0, 0, 0])"
      ]
     },
     "execution_count": 35,
     "metadata": {},
     "output_type": "execute_result"
    }
   ],
   "source": [
    "model.predict(X_test)"
   ]
  },
  {
   "cell_type": "markdown",
   "id": "56c9705b",
   "metadata": {
    "papermill": {
     "duration": 0.025229,
     "end_time": "2025-08-05T16:31:02.720066",
     "exception": false,
     "start_time": "2025-08-05T16:31:02.694837",
     "status": "completed"
    },
    "tags": []
   },
   "source": [
    "# Conformal Prediction"
   ]
  },
  {
   "cell_type": "code",
   "execution_count": 36,
   "id": "160ec6ff",
   "metadata": {
    "execution": {
     "iopub.execute_input": "2025-08-05T16:31:02.771712Z",
     "iopub.status.busy": "2025-08-05T16:31:02.771027Z",
     "iopub.status.idle": "2025-08-05T16:31:02.777152Z",
     "shell.execute_reply": "2025-08-05T16:31:02.775906Z"
    },
    "papermill": {
     "duration": 0.033948,
     "end_time": "2025-08-05T16:31:02.779411",
     "exception": false,
     "start_time": "2025-08-05T16:31:02.745463",
     "status": "completed"
    },
    "tags": []
   },
   "outputs": [],
   "source": [
    "# Miscoverage level for conformal prediction (10% allowed error rate => 90% target coverage)\n",
    "alpha = 0.1"
   ]
  },
  {
   "cell_type": "code",
   "execution_count": 37,
   "id": "eadf4555-3dd3-440e-8e35-f82a4ad9f855",
   "metadata": {
    "execution": {
     "iopub.execute_input": "2025-08-05T16:31:02.833268Z",
     "iopub.status.busy": "2025-08-05T16:31:02.832142Z",
     "iopub.status.idle": "2025-08-05T16:31:02.928479Z",
     "shell.execute_reply": "2025-08-05T16:31:02.927185Z"
    },
    "papermill": {
     "duration": 0.126505,
     "end_time": "2025-08-05T16:31:02.931288",
     "exception": false,
     "start_time": "2025-08-05T16:31:02.804783",
     "status": "completed"
    },
    "tags": []
   },
   "outputs": [],
   "source": [
    "probs_calib = model.predict_proba(X_calib)"
   ]
  },
  {
   "cell_type": "code",
   "execution_count": 38,
   "id": "2ed93547-6d5d-4983-9b36-1ecb300da49a",
   "metadata": {
    "execution": {
     "iopub.execute_input": "2025-08-05T16:31:02.992877Z",
     "iopub.status.busy": "2025-08-05T16:31:02.992218Z",
     "iopub.status.idle": "2025-08-05T16:31:02.999267Z",
     "shell.execute_reply": "2025-08-05T16:31:02.998045Z"
    },
    "papermill": {
     "duration": 0.03694,
     "end_time": "2025-08-05T16:31:03.001432",
     "exception": false,
     "start_time": "2025-08-05T16:31:02.964492",
     "status": "completed"
    },
    "tags": []
   },
   "outputs": [],
   "source": [
    "y_calib = y_calib.values.ravel().astype(int)"
   ]
  },
  {
   "cell_type": "code",
   "execution_count": 39,
   "id": "65d1320d-f588-4b38-9072-62af1ae97f7d",
   "metadata": {
    "execution": {
     "iopub.execute_input": "2025-08-05T16:31:03.055800Z",
     "iopub.status.busy": "2025-08-05T16:31:03.054787Z",
     "iopub.status.idle": "2025-08-05T16:31:03.063177Z",
     "shell.execute_reply": "2025-08-05T16:31:03.062069Z"
    },
    "papermill": {
     "duration": 0.037357,
     "end_time": "2025-08-05T16:31:03.065098",
     "exception": false,
     "start_time": "2025-08-05T16:31:03.027741",
     "status": "completed"
    },
    "tags": []
   },
   "outputs": [],
   "source": [
    "from fairness_multiverse.conformal import compute_nc_scores\n",
    "\n",
    "# Compute nonconformity scores on calibration set (1 - probability of true class)\n",
    "nc_scores = compute_nc_scores(probs_calib, y_calib)"
   ]
  },
  {
   "cell_type": "code",
   "execution_count": 40,
   "id": "df3b8ca3-53b7-43d5-9667-7c85da7aeda2",
   "metadata": {
    "execution": {
     "iopub.execute_input": "2025-08-05T16:31:03.119354Z",
     "iopub.status.busy": "2025-08-05T16:31:03.118801Z",
     "iopub.status.idle": "2025-08-05T16:31:03.126193Z",
     "shell.execute_reply": "2025-08-05T16:31:03.125030Z"
    },
    "papermill": {
     "duration": 0.036646,
     "end_time": "2025-08-05T16:31:03.128146",
     "exception": false,
     "start_time": "2025-08-05T16:31:03.091500",
     "status": "completed"
    },
    "tags": []
   },
   "outputs": [],
   "source": [
    "from fairness_multiverse.conformal import find_threshold\n",
    "\n",
    "# Find conformal threshold q_hat for the given alpha (split conformal method)\n",
    "q_hat = find_threshold(nc_scores, alpha)"
   ]
  },
  {
   "cell_type": "code",
   "execution_count": 41,
   "id": "4d29e6c1-0ef6-4aa4-b8fe-4fe79b0d033a",
   "metadata": {
    "execution": {
     "iopub.execute_input": "2025-08-05T16:31:03.182352Z",
     "iopub.status.busy": "2025-08-05T16:31:03.181490Z",
     "iopub.status.idle": "2025-08-05T16:31:03.189672Z",
     "shell.execute_reply": "2025-08-05T16:31:03.188902Z"
    },
    "papermill": {
     "duration": 0.036875,
     "end_time": "2025-08-05T16:31:03.191339",
     "exception": false,
     "start_time": "2025-08-05T16:31:03.154464",
     "status": "completed"
    },
    "tags": []
   },
   "outputs": [
    {
     "data": {
      "text/plain": [
       "0.6802653803977075"
      ]
     },
     "execution_count": 41,
     "metadata": {},
     "output_type": "execute_result"
    }
   ],
   "source": [
    "q_hat"
   ]
  },
  {
   "cell_type": "code",
   "execution_count": 42,
   "id": "92460794-cdac-4be2-ba28-f28c0515a6fb",
   "metadata": {
    "execution": {
     "iopub.execute_input": "2025-08-05T16:31:03.218671Z",
     "iopub.status.busy": "2025-08-05T16:31:03.217797Z",
     "iopub.status.idle": "2025-08-05T16:31:03.853173Z",
     "shell.execute_reply": "2025-08-05T16:31:03.851955Z"
    },
    "papermill": {
     "duration": 0.651048,
     "end_time": "2025-08-05T16:31:03.855388",
     "exception": false,
     "start_time": "2025-08-05T16:31:03.204340",
     "status": "completed"
    },
    "tags": []
   },
   "outputs": [],
   "source": [
    "from fairness_multiverse.conformal import predict_conformal_sets\n",
    "\n",
    "# Generate prediction sets for each test example\n",
    "pred_sets = predict_conformal_sets(model, X_test, q_hat)"
   ]
  },
  {
   "cell_type": "code",
   "execution_count": 43,
   "id": "d90c9a65-e6db-4f5d-80cd-e68fb7e46829",
   "metadata": {
    "execution": {
     "iopub.execute_input": "2025-08-05T16:31:03.910462Z",
     "iopub.status.busy": "2025-08-05T16:31:03.909420Z",
     "iopub.status.idle": "2025-08-05T16:31:03.915880Z",
     "shell.execute_reply": "2025-08-05T16:31:03.914783Z"
    },
    "papermill": {
     "duration": 0.035736,
     "end_time": "2025-08-05T16:31:03.917899",
     "exception": false,
     "start_time": "2025-08-05T16:31:03.882163",
     "status": "completed"
    },
    "tags": []
   },
   "outputs": [],
   "source": [
    "y_true = y_true.squeeze()"
   ]
  },
  {
   "cell_type": "code",
   "execution_count": 44,
   "id": "3a58a54a-1e68-46b9-927a-df01f18aebc8",
   "metadata": {
    "execution": {
     "iopub.execute_input": "2025-08-05T16:31:03.972665Z",
     "iopub.status.busy": "2025-08-05T16:31:03.972248Z",
     "iopub.status.idle": "2025-08-05T16:31:04.987876Z",
     "shell.execute_reply": "2025-08-05T16:31:04.987093Z"
    },
    "papermill": {
     "duration": 1.044811,
     "end_time": "2025-08-05T16:31:04.989238",
     "exception": false,
     "start_time": "2025-08-05T16:31:03.944427",
     "status": "completed"
    },
    "tags": []
   },
   "outputs": [],
   "source": [
    "from fairness_multiverse.conformal import evaluate_sets\n",
    "\n",
    "# Evaluate coverage and average set size on test data\n",
    "metrics = evaluate_sets(pred_sets, y_true)"
   ]
  },
  {
   "cell_type": "markdown",
   "id": "2b569c12-9aaa-4c88-98c9-bbcd0cf3ebb8",
   "metadata": {
    "papermill": {
     "duration": 0.021882,
     "end_time": "2025-08-05T16:31:05.025852",
     "exception": false,
     "start_time": "2025-08-05T16:31:05.003970",
     "status": "completed"
    },
    "tags": []
   },
   "source": [
    "# CP Metrics"
   ]
  },
  {
   "cell_type": "code",
   "execution_count": 45,
   "id": "5ce0a5cb-201f-45a0-ade5-94c7f0bd6095",
   "metadata": {
    "execution": {
     "iopub.execute_input": "2025-08-05T16:31:05.064559Z",
     "iopub.status.busy": "2025-08-05T16:31:05.064026Z",
     "iopub.status.idle": "2025-08-05T16:31:05.071540Z",
     "shell.execute_reply": "2025-08-05T16:31:05.070499Z"
    },
    "papermill": {
     "duration": 0.025483,
     "end_time": "2025-08-05T16:31:05.073237",
     "exception": false,
     "start_time": "2025-08-05T16:31:05.047754",
     "status": "completed"
    },
    "tags": []
   },
   "outputs": [
    {
     "data": {
      "text/plain": [
       "{'coverage': 0.9132203767695909, 'avg_size': 1.3152714301638613}"
      ]
     },
     "execution_count": 45,
     "metadata": {},
     "output_type": "execute_result"
    }
   ],
   "source": [
    "metrics"
   ]
  },
  {
   "cell_type": "code",
   "execution_count": 46,
   "id": "9b9a838d-31c9-430b-ae14-12baee460d17",
   "metadata": {
    "execution": {
     "iopub.execute_input": "2025-08-05T16:31:05.114703Z",
     "iopub.status.busy": "2025-08-05T16:31:05.114293Z",
     "iopub.status.idle": "2025-08-05T16:31:05.119411Z",
     "shell.execute_reply": "2025-08-05T16:31:05.118510Z"
    },
    "papermill": {
     "duration": 0.024998,
     "end_time": "2025-08-05T16:31:05.120790",
     "exception": false,
     "start_time": "2025-08-05T16:31:05.095792",
     "status": "completed"
    },
    "tags": []
   },
   "outputs": [],
   "source": [
    "example_universe = universe.copy()\n",
    "universe_training_year = example_universe.get(\"training_year\")\n",
    "universe_training_size = example_universe.get(\"training_size\")\n",
    "universe_scale = example_universe.get(\"scale\")\n",
    "universe_model = example_universe.get(\"model\")\n",
    "universe_exclude_features = example_universe.get(\"exclude_features\")\n",
    "universe_exclude_subgroups = example_universe.get(\"exclude_subgroups\")"
   ]
  },
  {
   "cell_type": "code",
   "execution_count": 47,
   "id": "f4b6a8ac-9dc0-4245-8a91-5b3b5999c4f9",
   "metadata": {
    "execution": {
     "iopub.execute_input": "2025-08-05T16:31:05.146637Z",
     "iopub.status.busy": "2025-08-05T16:31:05.145887Z",
     "iopub.status.idle": "2025-08-05T16:31:05.151065Z",
     "shell.execute_reply": "2025-08-05T16:31:05.150290Z"
    },
    "papermill": {
     "duration": 0.019658,
     "end_time": "2025-08-05T16:31:05.152539",
     "exception": false,
     "start_time": "2025-08-05T16:31:05.132881",
     "status": "completed"
    },
    "tags": []
   },
   "outputs": [],
   "source": [
    "cp_metrics_dict = {\n",
    "    \"universe_id\": [universe_id],\n",
    "    \"universe_training_year\": [universe_training_year],\n",
    "    \"universe_training_size\": [universe_training_size],\n",
    "    \"universe_scale\": [universe_scale],\n",
    "    \"universe_model\": [universe_model],\n",
    "    \"universe_exclude_features\": [universe_exclude_features],\n",
    "    \"universe_exclude_subgroups\": [universe_exclude_subgroups],\n",
    "    \"q_hat\": [q_hat],\n",
    "    \"coverage\": [metrics[\"coverage\"]],\n",
    "    \"avg_size\": [metrics[\"avg_size\"]],\n",
    "}"
   ]
  },
  {
   "cell_type": "code",
   "execution_count": 48,
   "id": "908acbb1-0371-4915-85ca-3fa520d2efe2",
   "metadata": {
    "execution": {
     "iopub.execute_input": "2025-08-05T16:31:05.181176Z",
     "iopub.status.busy": "2025-08-05T16:31:05.180517Z",
     "iopub.status.idle": "2025-08-05T16:31:05.186533Z",
     "shell.execute_reply": "2025-08-05T16:31:05.185775Z"
    },
    "papermill": {
     "duration": 0.019992,
     "end_time": "2025-08-05T16:31:05.187875",
     "exception": false,
     "start_time": "2025-08-05T16:31:05.167883",
     "status": "completed"
    },
    "tags": []
   },
   "outputs": [
    {
     "data": {
      "text/plain": [
       "{'universe_id': ['8da144e34cc28ca555226f7563cadc53'],\n",
       " 'universe_training_year': ['2012_14'],\n",
       " 'universe_training_size': ['1k'],\n",
       " 'universe_scale': ['do-not-scale'],\n",
       " 'universe_model': ['elasticnet'],\n",
       " 'universe_exclude_features': ['age'],\n",
       " 'universe_exclude_subgroups': ['drop-non-german'],\n",
       " 'q_hat': [0.6802653803977075],\n",
       " 'coverage': [0.9132203767695909],\n",
       " 'avg_size': [1.3152714301638613]}"
      ]
     },
     "execution_count": 48,
     "metadata": {},
     "output_type": "execute_result"
    }
   ],
   "source": [
    "cp_metrics_dict"
   ]
  },
  {
   "cell_type": "code",
   "execution_count": 49,
   "id": "33007efc-14e9-4ec6-97ac-56a455c82265",
   "metadata": {
    "execution": {
     "iopub.execute_input": "2025-08-05T16:31:05.213212Z",
     "iopub.status.busy": "2025-08-05T16:31:05.212436Z",
     "iopub.status.idle": "2025-08-05T16:31:05.218903Z",
     "shell.execute_reply": "2025-08-05T16:31:05.218100Z"
    },
    "papermill": {
     "duration": 0.021063,
     "end_time": "2025-08-05T16:31:05.220366",
     "exception": false,
     "start_time": "2025-08-05T16:31:05.199303",
     "status": "completed"
    },
    "tags": []
   },
   "outputs": [],
   "source": [
    "cp_metrics_df = pd.DataFrame(cp_metrics_dict)"
   ]
  },
  {
   "cell_type": "code",
   "execution_count": 50,
   "id": "db12611b-57b2-4910-b9d0-355adfd6e7bf",
   "metadata": {
    "execution": {
     "iopub.execute_input": "2025-08-05T16:31:05.266035Z",
     "iopub.status.busy": "2025-08-05T16:31:05.265220Z",
     "iopub.status.idle": "2025-08-05T16:31:05.287508Z",
     "shell.execute_reply": "2025-08-05T16:31:05.286219Z"
    },
    "papermill": {
     "duration": 0.049571,
     "end_time": "2025-08-05T16:31:05.289896",
     "exception": false,
     "start_time": "2025-08-05T16:31:05.240325",
     "status": "completed"
    },
    "tags": []
   },
   "outputs": [
    {
     "data": {
      "text/html": [
       "<div>\n",
       "<style scoped>\n",
       "    .dataframe tbody tr th:only-of-type {\n",
       "        vertical-align: middle;\n",
       "    }\n",
       "\n",
       "    .dataframe tbody tr th {\n",
       "        vertical-align: top;\n",
       "    }\n",
       "\n",
       "    .dataframe thead th {\n",
       "        text-align: right;\n",
       "    }\n",
       "</style>\n",
       "<table border=\"1\" class=\"dataframe\">\n",
       "  <thead>\n",
       "    <tr style=\"text-align: right;\">\n",
       "      <th></th>\n",
       "      <th>universe_id</th>\n",
       "      <th>universe_training_year</th>\n",
       "      <th>universe_training_size</th>\n",
       "      <th>universe_scale</th>\n",
       "      <th>universe_model</th>\n",
       "      <th>universe_exclude_features</th>\n",
       "      <th>universe_exclude_subgroups</th>\n",
       "      <th>q_hat</th>\n",
       "      <th>coverage</th>\n",
       "      <th>avg_size</th>\n",
       "    </tr>\n",
       "  </thead>\n",
       "  <tbody>\n",
       "    <tr>\n",
       "      <th>0</th>\n",
       "      <td>8da144e34cc28ca555226f7563cadc53</td>\n",
       "      <td>2012_14</td>\n",
       "      <td>1k</td>\n",
       "      <td>do-not-scale</td>\n",
       "      <td>elasticnet</td>\n",
       "      <td>age</td>\n",
       "      <td>drop-non-german</td>\n",
       "      <td>0.680265</td>\n",
       "      <td>0.91322</td>\n",
       "      <td>1.315271</td>\n",
       "    </tr>\n",
       "  </tbody>\n",
       "</table>\n",
       "</div>"
      ],
      "text/plain": [
       "                        universe_id universe_training_year  \\\n",
       "0  8da144e34cc28ca555226f7563cadc53                2012_14   \n",
       "\n",
       "  universe_training_size universe_scale universe_model  \\\n",
       "0                     1k   do-not-scale     elasticnet   \n",
       "\n",
       "  universe_exclude_features universe_exclude_subgroups     q_hat  coverage  \\\n",
       "0                       age            drop-non-german  0.680265   0.91322   \n",
       "\n",
       "   avg_size  \n",
       "0  1.315271  "
      ]
     },
     "execution_count": 50,
     "metadata": {},
     "output_type": "execute_result"
    }
   ],
   "source": [
    "cp_metrics_df"
   ]
  },
  {
   "cell_type": "code",
   "execution_count": 51,
   "id": "b7fbde55-a0a1-47e4-9af6-fe4a17fa8c61",
   "metadata": {
    "execution": {
     "iopub.execute_input": "2025-08-05T16:31:05.345726Z",
     "iopub.status.busy": "2025-08-05T16:31:05.344974Z",
     "iopub.status.idle": "2025-08-05T16:31:05.350788Z",
     "shell.execute_reply": "2025-08-05T16:31:05.349648Z"
    },
    "papermill": {
     "duration": 0.034729,
     "end_time": "2025-08-05T16:31:05.352411",
     "exception": false,
     "start_time": "2025-08-05T16:31:05.317682",
     "status": "completed"
    },
    "tags": []
   },
   "outputs": [],
   "source": [
    "# Conditional Coverage & looking at subgroups"
   ]
  },
  {
   "cell_type": "code",
   "execution_count": 52,
   "id": "027ae886-68dd-4141-96c7-805a5450e1ef",
   "metadata": {
    "execution": {
     "iopub.execute_input": "2025-08-05T16:31:05.384241Z",
     "iopub.status.busy": "2025-08-05T16:31:05.383820Z",
     "iopub.status.idle": "2025-08-05T16:31:05.592365Z",
     "shell.execute_reply": "2025-08-05T16:31:05.591449Z"
    },
    "papermill": {
     "duration": 0.227036,
     "end_time": "2025-08-05T16:31:05.594211",
     "exception": false,
     "start_time": "2025-08-05T16:31:05.367175",
     "status": "completed"
    },
    "tags": []
   },
   "outputs": [],
   "source": [
    "from fairness_multiverse.conformal import build_cp_groups\n",
    "\n",
    "cp_groups_df = build_cp_groups(pred_sets, y_true, X_test.index, org_test)\n",
    "#needs universe_id and setting"
   ]
  },
  {
   "cell_type": "code",
   "execution_count": 53,
   "id": "6cbdab96-b2b2-45af-ad54-d0516db2e28d",
   "metadata": {
    "execution": {
     "iopub.execute_input": "2025-08-05T16:31:05.626179Z",
     "iopub.status.busy": "2025-08-05T16:31:05.625320Z",
     "iopub.status.idle": "2025-08-05T16:31:06.789630Z",
     "shell.execute_reply": "2025-08-05T16:31:06.788680Z"
    },
    "papermill": {
     "duration": 1.182829,
     "end_time": "2025-08-05T16:31:06.791421",
     "exception": false,
     "start_time": "2025-08-05T16:31:05.608592",
     "status": "completed"
    },
    "tags": []
   },
   "outputs": [],
   "source": [
    "# Define covered = 1 if true_label is in the predicted set\n",
    "cp_groups_df['covered'] = cp_groups_df.apply(\n",
    "    lambda r: int(r['true_label'] in r['pred_set']),\n",
    "    axis=1\n",
    ")"
   ]
  },
  {
   "cell_type": "code",
   "execution_count": 54,
   "id": "338ff529-1a6b-4b87-a931-8e4788d52aad",
   "metadata": {
    "execution": {
     "iopub.execute_input": "2025-08-05T16:31:06.821152Z",
     "iopub.status.busy": "2025-08-05T16:31:06.820801Z",
     "iopub.status.idle": "2025-08-05T16:31:06.826119Z",
     "shell.execute_reply": "2025-08-05T16:31:06.825251Z"
    },
    "papermill": {
     "duration": 0.021225,
     "end_time": "2025-08-05T16:31:06.827607",
     "exception": false,
     "start_time": "2025-08-05T16:31:06.806382",
     "status": "completed"
    },
    "tags": []
   },
   "outputs": [],
   "source": [
    "#cp_groups_df"
   ]
  },
  {
   "cell_type": "code",
   "execution_count": 55,
   "id": "90032e27-66df-4540-9169-4e89cfbaa758",
   "metadata": {
    "execution": {
     "iopub.execute_input": "2025-08-05T16:31:06.856539Z",
     "iopub.status.busy": "2025-08-05T16:31:06.855988Z",
     "iopub.status.idle": "2025-08-05T16:31:06.866265Z",
     "shell.execute_reply": "2025-08-05T16:31:06.865422Z"
    },
    "papermill": {
     "duration": 0.025799,
     "end_time": "2025-08-05T16:31:06.867671",
     "exception": false,
     "start_time": "2025-08-05T16:31:06.841872",
     "status": "completed"
    },
    "tags": []
   },
   "outputs": [],
   "source": [
    "subgroups = ['frau1','nongerman','nongerman_male','nongerman_female']\n",
    "\n",
    "# Conditional coverage for subgroup==1\n",
    "cond_coverage = {\n",
    "    g: cp_groups_df.loc[cp_groups_df[g]==1, 'covered'].mean()\n",
    "    for g in subgroups\n",
    "}"
   ]
  },
  {
   "cell_type": "code",
   "execution_count": 56,
   "id": "1e348fb1-b9c3-45bc-ba23-f016827a7e0d",
   "metadata": {
    "execution": {
     "iopub.execute_input": "2025-08-05T16:31:06.896362Z",
     "iopub.status.busy": "2025-08-05T16:31:06.895771Z",
     "iopub.status.idle": "2025-08-05T16:31:06.903136Z",
     "shell.execute_reply": "2025-08-05T16:31:06.902303Z"
    },
    "papermill": {
     "duration": 0.023239,
     "end_time": "2025-08-05T16:31:06.904595",
     "exception": false,
     "start_time": "2025-08-05T16:31:06.881356",
     "status": "completed"
    },
    "tags": []
   },
   "outputs": [
    {
     "data": {
      "text/plain": [
       "{'frau1': 0.9135463000404367,\n",
       " 'nongerman': 0.9712008083983608,\n",
       " 'nongerman_male': 0.9778438259929749,\n",
       " 'nongerman_female': 0.9602086438152012}"
      ]
     },
     "execution_count": 56,
     "metadata": {},
     "output_type": "execute_result"
    }
   ],
   "source": [
    "cond_coverage"
   ]
  },
  {
   "cell_type": "code",
   "execution_count": 57,
   "id": "f5093324-c3dd-4d63-bc4c-8d945e5c8bbb",
   "metadata": {
    "execution": {
     "iopub.execute_input": "2025-08-05T16:31:06.933944Z",
     "iopub.status.busy": "2025-08-05T16:31:06.933011Z",
     "iopub.status.idle": "2025-08-05T16:31:06.939851Z",
     "shell.execute_reply": "2025-08-05T16:31:06.939014Z"
    },
    "papermill": {
     "duration": 0.023151,
     "end_time": "2025-08-05T16:31:06.941447",
     "exception": false,
     "start_time": "2025-08-05T16:31:06.918296",
     "status": "completed"
    },
    "tags": []
   },
   "outputs": [],
   "source": [
    "for subgroup, cov in cond_coverage.items():\n",
    "    cp_metrics_df[f\"cov_{subgroup}\"] = cov"
   ]
  },
  {
   "cell_type": "code",
   "execution_count": 58,
   "id": "6e872e10-dbe5-49e8-b554-5030c98ff75d",
   "metadata": {
    "execution": {
     "iopub.execute_input": "2025-08-05T16:31:06.970392Z",
     "iopub.status.busy": "2025-08-05T16:31:06.969679Z",
     "iopub.status.idle": "2025-08-05T16:31:06.987095Z",
     "shell.execute_reply": "2025-08-05T16:31:06.986246Z"
    },
    "papermill": {
     "duration": 0.033302,
     "end_time": "2025-08-05T16:31:06.988580",
     "exception": false,
     "start_time": "2025-08-05T16:31:06.955278",
     "status": "completed"
    },
    "tags": []
   },
   "outputs": [
    {
     "data": {
      "text/html": [
       "<div>\n",
       "<style scoped>\n",
       "    .dataframe tbody tr th:only-of-type {\n",
       "        vertical-align: middle;\n",
       "    }\n",
       "\n",
       "    .dataframe tbody tr th {\n",
       "        vertical-align: top;\n",
       "    }\n",
       "\n",
       "    .dataframe thead th {\n",
       "        text-align: right;\n",
       "    }\n",
       "</style>\n",
       "<table border=\"1\" class=\"dataframe\">\n",
       "  <thead>\n",
       "    <tr style=\"text-align: right;\">\n",
       "      <th></th>\n",
       "      <th>universe_id</th>\n",
       "      <th>universe_training_year</th>\n",
       "      <th>universe_training_size</th>\n",
       "      <th>universe_scale</th>\n",
       "      <th>universe_model</th>\n",
       "      <th>universe_exclude_features</th>\n",
       "      <th>universe_exclude_subgroups</th>\n",
       "      <th>q_hat</th>\n",
       "      <th>coverage</th>\n",
       "      <th>avg_size</th>\n",
       "      <th>cov_frau1</th>\n",
       "      <th>cov_nongerman</th>\n",
       "      <th>cov_nongerman_male</th>\n",
       "      <th>cov_nongerman_female</th>\n",
       "    </tr>\n",
       "  </thead>\n",
       "  <tbody>\n",
       "    <tr>\n",
       "      <th>0</th>\n",
       "      <td>8da144e34cc28ca555226f7563cadc53</td>\n",
       "      <td>2012_14</td>\n",
       "      <td>1k</td>\n",
       "      <td>do-not-scale</td>\n",
       "      <td>elasticnet</td>\n",
       "      <td>age</td>\n",
       "      <td>drop-non-german</td>\n",
       "      <td>0.680265</td>\n",
       "      <td>0.91322</td>\n",
       "      <td>1.315271</td>\n",
       "      <td>0.913546</td>\n",
       "      <td>0.971201</td>\n",
       "      <td>0.977844</td>\n",
       "      <td>0.960209</td>\n",
       "    </tr>\n",
       "  </tbody>\n",
       "</table>\n",
       "</div>"
      ],
      "text/plain": [
       "                        universe_id universe_training_year  \\\n",
       "0  8da144e34cc28ca555226f7563cadc53                2012_14   \n",
       "\n",
       "  universe_training_size universe_scale universe_model  \\\n",
       "0                     1k   do-not-scale     elasticnet   \n",
       "\n",
       "  universe_exclude_features universe_exclude_subgroups     q_hat  coverage  \\\n",
       "0                       age            drop-non-german  0.680265   0.91322   \n",
       "\n",
       "   avg_size  cov_frau1  cov_nongerman  cov_nongerman_male  \\\n",
       "0  1.315271   0.913546       0.971201            0.977844   \n",
       "\n",
       "   cov_nongerman_female  \n",
       "0              0.960209  "
      ]
     },
     "execution_count": 58,
     "metadata": {},
     "output_type": "execute_result"
    }
   ],
   "source": [
    "cp_metrics_df"
   ]
  },
  {
   "cell_type": "markdown",
   "id": "33774451",
   "metadata": {
    "papermill": {
     "duration": 0.014084,
     "end_time": "2025-08-05T16:31:07.016884",
     "exception": false,
     "start_time": "2025-08-05T16:31:07.002800",
     "status": "completed"
    },
    "tags": []
   },
   "source": [
    "# (Fairness) Metrics"
   ]
  },
  {
   "cell_type": "code",
   "execution_count": 59,
   "id": "debc5d62",
   "metadata": {
    "execution": {
     "iopub.execute_input": "2025-08-05T16:31:07.046101Z",
     "iopub.status.busy": "2025-08-05T16:31:07.045408Z",
     "iopub.status.idle": "2025-08-05T16:31:07.061002Z",
     "shell.execute_reply": "2025-08-05T16:31:07.060225Z"
    },
    "papermill": {
     "duration": 0.031897,
     "end_time": "2025-08-05T16:31:07.062530",
     "exception": false,
     "start_time": "2025-08-05T16:31:07.030633",
     "status": "completed"
    },
    "tags": []
   },
   "outputs": [],
   "source": [
    "# do I need to include maxdeutsch1.missing?\n",
    "\n",
    "import numpy as np\n",
    "\n",
    "colname_to_bin = \"maxdeutsch1\"\n",
    "majority_value = org_train[colname_to_bin].mode()[0]\n",
    "\n",
    "org_test[\"majmin\"] = np.where(org_test[colname_to_bin] == majority_value, \"majority\", \"minority\")"
   ]
  },
  {
   "cell_type": "code",
   "execution_count": 60,
   "id": "06a50de5",
   "metadata": {
    "execution": {
     "iopub.execute_input": "2025-08-05T16:31:07.092597Z",
     "iopub.status.busy": "2025-08-05T16:31:07.091760Z",
     "iopub.status.idle": "2025-08-05T16:31:09.126237Z",
     "shell.execute_reply": "2025-08-05T16:31:09.125412Z"
    },
    "papermill": {
     "duration": 2.050691,
     "end_time": "2025-08-05T16:31:09.127651",
     "exception": false,
     "start_time": "2025-08-05T16:31:07.076960",
     "status": "completed"
    },
    "tags": []
   },
   "outputs": [],
   "source": [
    "example_universe = universe.copy()\n",
    "example_universe[\"cutoff\"] = example_universe[\"cutoff\"][0]\n",
    "example_universe[\"eval_fairness_grouping\"] = example_universe[\"eval_fairness_grouping\"][0]\n",
    "fairness_dict, metric_frame = universe_analysis.compute_metrics(\n",
    "    example_universe,\n",
    "    y_pred_prob=probs_test,\n",
    "    y_test=y_true,\n",
    "    org_test=org_test,\n",
    ")"
   ]
  },
  {
   "cell_type": "markdown",
   "id": "f95d4e02",
   "metadata": {
    "papermill": {
     "duration": 0.011356,
     "end_time": "2025-08-05T16:31:09.151507",
     "exception": false,
     "start_time": "2025-08-05T16:31:09.140151",
     "status": "completed"
    },
    "tags": []
   },
   "source": [
    "# Overall"
   ]
  },
  {
   "cell_type": "markdown",
   "id": "bdee4871",
   "metadata": {
    "papermill": {
     "duration": 0.01151,
     "end_time": "2025-08-05T16:31:09.174329",
     "exception": false,
     "start_time": "2025-08-05T16:31:09.162819",
     "status": "completed"
    },
    "tags": []
   },
   "source": [
    "Fairness\n",
    "Main fairness target: Equalized Odds. Seems to be a better fit than equal opportunity, since we're not only interested in Y = 1. Seems to be a better fit than demographic parity, since we also care about accuracy, not just equal distribution of preds.\n",
    "\n",
    "Pick column for computation of fairness metrics\n",
    "\n",
    "Performance\n",
    "Overall performance measures, most interesting in relation to the measures split by group below"
   ]
  },
  {
   "cell_type": "code",
   "execution_count": 61,
   "id": "c4e067c6",
   "metadata": {
    "execution": {
     "iopub.execute_input": "2025-08-05T16:31:09.198618Z",
     "iopub.status.busy": "2025-08-05T16:31:09.198105Z",
     "iopub.status.idle": "2025-08-05T16:31:09.205891Z",
     "shell.execute_reply": "2025-08-05T16:31:09.205110Z"
    },
    "papermill": {
     "duration": 0.021392,
     "end_time": "2025-08-05T16:31:09.207232",
     "exception": false,
     "start_time": "2025-08-05T16:31:09.185840",
     "status": "completed"
    },
    "tags": []
   },
   "outputs": [
    {
     "data": {
      "text/plain": [
       "accuracy                   0.208082\n",
       "balanced accuracy          0.512201\n",
       "f1                         0.229861\n",
       "precision                  0.131312\n",
       "false positive rate        0.896870\n",
       "false negative rate        0.078728\n",
       "selection rate             0.900000\n",
       "count                  89710.000000\n",
       "dtype: float64"
      ]
     },
     "execution_count": 61,
     "metadata": {},
     "output_type": "execute_result"
    }
   ],
   "source": [
    "metric_frame.overall"
   ]
  },
  {
   "cell_type": "markdown",
   "id": "e968fe9d",
   "metadata": {
    "papermill": {
     "duration": 0.011286,
     "end_time": "2025-08-05T16:31:09.230718",
     "exception": false,
     "start_time": "2025-08-05T16:31:09.219432",
     "status": "completed"
    },
    "tags": []
   },
   "source": [
    "By Group"
   ]
  },
  {
   "cell_type": "code",
   "execution_count": 62,
   "id": "ec325bce",
   "metadata": {
    "execution": {
     "iopub.execute_input": "2025-08-05T16:31:09.255202Z",
     "iopub.status.busy": "2025-08-05T16:31:09.254605Z",
     "iopub.status.idle": "2025-08-05T16:31:09.267074Z",
     "shell.execute_reply": "2025-08-05T16:31:09.266026Z"
    },
    "papermill": {
     "duration": 0.026345,
     "end_time": "2025-08-05T16:31:09.268577",
     "exception": false,
     "start_time": "2025-08-05T16:31:09.242232",
     "status": "completed"
    },
    "tags": []
   },
   "outputs": [
    {
     "data": {
      "text/html": [
       "<div>\n",
       "<style scoped>\n",
       "    .dataframe tbody tr th:only-of-type {\n",
       "        vertical-align: middle;\n",
       "    }\n",
       "\n",
       "    .dataframe tbody tr th {\n",
       "        vertical-align: top;\n",
       "    }\n",
       "\n",
       "    .dataframe thead th {\n",
       "        text-align: right;\n",
       "    }\n",
       "</style>\n",
       "<table border=\"1\" class=\"dataframe\">\n",
       "  <thead>\n",
       "    <tr style=\"text-align: right;\">\n",
       "      <th></th>\n",
       "      <th>accuracy</th>\n",
       "      <th>balanced accuracy</th>\n",
       "      <th>f1</th>\n",
       "      <th>precision</th>\n",
       "      <th>false positive rate</th>\n",
       "      <th>false negative rate</th>\n",
       "      <th>selection rate</th>\n",
       "      <th>count</th>\n",
       "    </tr>\n",
       "    <tr>\n",
       "      <th>majmin</th>\n",
       "      <th></th>\n",
       "      <th></th>\n",
       "      <th></th>\n",
       "      <th></th>\n",
       "      <th></th>\n",
       "      <th></th>\n",
       "      <th></th>\n",
       "      <th></th>\n",
       "    </tr>\n",
       "  </thead>\n",
       "  <tbody>\n",
       "    <tr>\n",
       "      <th>majority</th>\n",
       "      <td>0.228119</td>\n",
       "      <td>0.516249</td>\n",
       "      <td>0.237130</td>\n",
       "      <td>0.136375</td>\n",
       "      <td>0.875379</td>\n",
       "      <td>0.092123</td>\n",
       "      <td>0.879673</td>\n",
       "      <td>69170.0</td>\n",
       "    </tr>\n",
       "    <tr>\n",
       "      <th>minority</th>\n",
       "      <td>0.140604</td>\n",
       "      <td>0.502555</td>\n",
       "      <td>0.207008</td>\n",
       "      <td>0.115825</td>\n",
       "      <td>0.967863</td>\n",
       "      <td>0.027027</td>\n",
       "      <td>0.968452</td>\n",
       "      <td>20540.0</td>\n",
       "    </tr>\n",
       "  </tbody>\n",
       "</table>\n",
       "</div>"
      ],
      "text/plain": [
       "          accuracy  balanced accuracy        f1  precision  \\\n",
       "majmin                                                       \n",
       "majority  0.228119           0.516249  0.237130   0.136375   \n",
       "minority  0.140604           0.502555  0.207008   0.115825   \n",
       "\n",
       "          false positive rate  false negative rate  selection rate    count  \n",
       "majmin                                                                       \n",
       "majority             0.875379             0.092123        0.879673  69170.0  \n",
       "minority             0.967863             0.027027        0.968452  20540.0  "
      ]
     },
     "execution_count": 62,
     "metadata": {},
     "output_type": "execute_result"
    }
   ],
   "source": [
    "metric_frame.by_group"
   ]
  },
  {
   "cell_type": "code",
   "execution_count": 63,
   "id": "a9ddbe63",
   "metadata": {
    "execution": {
     "iopub.execute_input": "2025-08-05T16:31:09.293559Z",
     "iopub.status.busy": "2025-08-05T16:31:09.293200Z",
     "iopub.status.idle": "2025-08-05T16:31:11.073861Z",
     "shell.execute_reply": "2025-08-05T16:31:11.072842Z"
    },
    "papermill": {
     "duration": 1.794922,
     "end_time": "2025-08-05T16:31:11.075736",
     "exception": false,
     "start_time": "2025-08-05T16:31:09.280814",
     "status": "completed"
    },
    "tags": []
   },
   "outputs": [
    {
     "data": {
      "text/plain": [
       "array([[<Axes: title={'center': 'accuracy'}, xlabel='majmin'>,\n",
       "        <Axes: title={'center': 'balanced accuracy'}, xlabel='majmin'>,\n",
       "        <Axes: title={'center': 'f1'}, xlabel='majmin'>],\n",
       "       [<Axes: title={'center': 'precision'}, xlabel='majmin'>,\n",
       "        <Axes: title={'center': 'false positive rate'}, xlabel='majmin'>,\n",
       "        <Axes: title={'center': 'false negative rate'}, xlabel='majmin'>],\n",
       "       [<Axes: title={'center': 'selection rate'}, xlabel='majmin'>,\n",
       "        <Axes: title={'center': 'count'}, xlabel='majmin'>,\n",
       "        <Axes: xlabel='majmin'>]], dtype=object)"
      ]
     },
     "execution_count": 63,
     "metadata": {},
     "output_type": "execute_result"
    },
    {
     "data": {
      "image/png": "[encoded data removed]",
      "text/plain": [
       "<Figure size 1200x800 with 9 Axes>"
      ]
     },
     "metadata": {},
     "output_type": "display_data"
    }
   ],
   "source": [
    "# In a graphic\n",
    "metric_frame.by_group.plot.bar(\n",
    "    subplots=True,\n",
    "    layout=[3, 3],\n",
    "    legend=False,\n",
    "    figsize=[12, 8],\n",
    "    title=\"Show all metrics\",\n",
    ")"
   ]
  },
  {
   "cell_type": "markdown",
   "id": "f57a0bac",
   "metadata": {
    "papermill": {
     "duration": 0.015139,
     "end_time": "2025-08-05T16:31:11.108233",
     "exception": false,
     "start_time": "2025-08-05T16:31:11.093094",
     "status": "completed"
    },
    "tags": []
   },
   "source": [
    "# Final Output"
   ]
  },
  {
   "cell_type": "code",
   "execution_count": 64,
   "id": "96d280a3",
   "metadata": {
    "execution": {
     "iopub.execute_input": "2025-08-05T16:31:11.143229Z",
     "iopub.status.busy": "2025-08-05T16:31:11.142606Z",
     "iopub.status.idle": "2025-08-05T16:31:11.151784Z",
     "shell.execute_reply": "2025-08-05T16:31:11.150596Z"
    },
    "papermill": {
     "duration": 0.031821,
     "end_time": "2025-08-05T16:31:11.155191",
     "exception": false,
     "start_time": "2025-08-05T16:31:11.123370",
     "status": "completed"
    },
    "tags": []
   },
   "outputs": [
    {
     "data": {
      "text/plain": [
       "4"
      ]
     },
     "execution_count": 64,
     "metadata": {},
     "output_type": "execute_result"
    }
   ],
   "source": [
    "sub_universes = universe_analysis.generate_sub_universes()\n",
    "len(sub_universes)"
   ]
  },
  {
   "cell_type": "code",
   "execution_count": 65,
   "id": "92adf7ba",
   "metadata": {
    "execution": {
     "iopub.execute_input": "2025-08-05T16:31:11.231769Z",
     "iopub.status.busy": "2025-08-05T16:31:11.230764Z",
     "iopub.status.idle": "2025-08-05T16:31:11.238170Z",
     "shell.execute_reply": "2025-08-05T16:31:11.237003Z"
    },
    "papermill": {
     "duration": 0.045624,
     "end_time": "2025-08-05T16:31:11.240452",
     "exception": false,
     "start_time": "2025-08-05T16:31:11.194828",
     "status": "completed"
    },
    "tags": []
   },
   "outputs": [],
   "source": [
    "def filter_sub_universe_data(sub_universe, org_test):\n",
    "    # Keep all rows — no filtering\n",
    "    keep_rows_mask = np.ones(org_test.shape[0], dtype=bool)\n",
    "\n",
    "    print(f\"[INFO] Keeping all rows: {keep_rows_mask.sum()} rows retained.\")\n",
    "    return keep_rows_mask"
   ]
  },
  {
   "cell_type": "code",
   "execution_count": 66,
   "id": "4a759155",
   "metadata": {
    "execution": {
     "iopub.execute_input": "2025-08-05T16:31:11.299843Z",
     "iopub.status.busy": "2025-08-05T16:31:11.299363Z",
     "iopub.status.idle": "2025-08-05T16:31:23.791503Z",
     "shell.execute_reply": "2025-08-05T16:31:23.790061Z"
    },
    "papermill": {
     "duration": 12.523421,
     "end_time": "2025-08-05T16:31:23.793069",
     "exception": false,
     "start_time": "2025-08-05T16:31:11.269648",
     "status": "completed"
    },
    "tags": []
   },
   "outputs": [
    {
     "name": "stdout",
     "output_type": "stream",
     "text": [
      "Stopping execution_time clock.\n",
      "[INFO] Keeping all rows: 89710 rows retained.\n"
     ]
    },
    {
     "name": "stdout",
     "output_type": "stream",
     "text": [
      "[INFO] Keeping all rows: 89710 rows retained.\n"
     ]
    },
    {
     "name": "stdout",
     "output_type": "stream",
     "text": [
      "[INFO] Keeping all rows: 89710 rows retained.\n"
     ]
    },
    {
     "name": "stdout",
     "output_type": "stream",
     "text": [
      "[INFO] Keeping all rows: 89710 rows retained.\n"
     ]
    },
    {
     "data": {
      "text/html": [
       "<div>\n",
       "<style scoped>\n",
       "    .dataframe tbody tr th:only-of-type {\n",
       "        vertical-align: middle;\n",
       "    }\n",
       "\n",
       "    .dataframe tbody tr th {\n",
       "        vertical-align: top;\n",
       "    }\n",
       "\n",
       "    .dataframe thead th {\n",
       "        text-align: right;\n",
       "    }\n",
       "</style>\n",
       "<table border=\"1\" class=\"dataframe\">\n",
       "  <thead>\n",
       "    <tr style=\"text-align: right;\">\n",
       "      <th></th>\n",
       "      <th>run_no</th>\n",
       "      <th>universe_id</th>\n",
       "      <th>universe_settings</th>\n",
       "      <th>execution_time</th>\n",
       "      <th>test_size_n</th>\n",
       "      <th>test_size_frac</th>\n",
       "      <th>fair_main_equalized_odds_difference</th>\n",
       "      <th>fair_main_equalized_odds_ratio</th>\n",
       "      <th>fair_main_demographic_parity_difference</th>\n",
       "      <th>fair_main_demographic_parity_ratio</th>\n",
       "      <th>...</th>\n",
       "      <th>perf_grp_precision_0</th>\n",
       "      <th>perf_grp_precision_1</th>\n",
       "      <th>perf_grp_false positive rate_0</th>\n",
       "      <th>perf_grp_false positive rate_1</th>\n",
       "      <th>perf_grp_false negative rate_0</th>\n",
       "      <th>perf_grp_false negative rate_1</th>\n",
       "      <th>perf_grp_selection rate_0</th>\n",
       "      <th>perf_grp_selection rate_1</th>\n",
       "      <th>perf_grp_count_0</th>\n",
       "      <th>perf_grp_count_1</th>\n",
       "    </tr>\n",
       "  </thead>\n",
       "  <tbody>\n",
       "    <tr>\n",
       "      <th>0</th>\n",
       "      <td>15</td>\n",
       "      <td>8da144e34cc28ca555226f7563cadc53</td>\n",
       "      <td>{\"cutoff\": \"quantile_0.1\", \"eval_fairness_grou...</td>\n",
       "      <td>26.442917</td>\n",
       "      <td>89710</td>\n",
       "      <td>1.0</td>\n",
       "      <td>0.092484</td>\n",
       "      <td>0.904445</td>\n",
       "      <td>0.088779</td>\n",
       "      <td>0.908329</td>\n",
       "      <td>...</td>\n",
       "      <td>NaN</td>\n",
       "      <td>NaN</td>\n",
       "      <td>NaN</td>\n",
       "      <td>NaN</td>\n",
       "      <td>NaN</td>\n",
       "      <td>NaN</td>\n",
       "      <td>NaN</td>\n",
       "      <td>NaN</td>\n",
       "      <td>NaN</td>\n",
       "      <td>NaN</td>\n",
       "    </tr>\n",
       "    <tr>\n",
       "      <th>0</th>\n",
       "      <td>15</td>\n",
       "      <td>8da144e34cc28ca555226f7563cadc53</td>\n",
       "      <td>{\"cutoff\": \"quantile_0.1\", \"eval_fairness_grou...</td>\n",
       "      <td>26.442917</td>\n",
       "      <td>89710</td>\n",
       "      <td>1.0</td>\n",
       "      <td>0.092484</td>\n",
       "      <td>0.904445</td>\n",
       "      <td>0.088779</td>\n",
       "      <td>0.908329</td>\n",
       "      <td>...</td>\n",
       "      <td>0.115825</td>\n",
       "      <td>0.136375</td>\n",
       "      <td>0.967863</td>\n",
       "      <td>0.875379</td>\n",
       "      <td>0.027027</td>\n",
       "      <td>0.092123</td>\n",
       "      <td>0.968452</td>\n",
       "      <td>0.879673</td>\n",
       "      <td>20540.0</td>\n",
       "      <td>69170.0</td>\n",
       "    </tr>\n",
       "    <tr>\n",
       "      <th>0</th>\n",
       "      <td>15</td>\n",
       "      <td>8da144e34cc28ca555226f7563cadc53</td>\n",
       "      <td>{\"cutoff\": \"quantile_0.25\", \"eval_fairness_gro...</td>\n",
       "      <td>26.442917</td>\n",
       "      <td>89710</td>\n",
       "      <td>1.0</td>\n",
       "      <td>0.227425</td>\n",
       "      <td>0.752039</td>\n",
       "      <td>0.217976</td>\n",
       "      <td>0.762570</td>\n",
       "      <td>...</td>\n",
       "      <td>NaN</td>\n",
       "      <td>NaN</td>\n",
       "      <td>NaN</td>\n",
       "      <td>NaN</td>\n",
       "      <td>NaN</td>\n",
       "      <td>NaN</td>\n",
       "      <td>NaN</td>\n",
       "      <td>NaN</td>\n",
       "      <td>NaN</td>\n",
       "      <td>NaN</td>\n",
       "    </tr>\n",
       "    <tr>\n",
       "      <th>0</th>\n",
       "      <td>15</td>\n",
       "      <td>8da144e34cc28ca555226f7563cadc53</td>\n",
       "      <td>{\"cutoff\": \"quantile_0.25\", \"eval_fairness_gro...</td>\n",
       "      <td>26.442917</td>\n",
       "      <td>89710</td>\n",
       "      <td>1.0</td>\n",
       "      <td>0.227425</td>\n",
       "      <td>0.752039</td>\n",
       "      <td>0.217976</td>\n",
       "      <td>0.762570</td>\n",
       "      <td>...</td>\n",
       "      <td>0.116137</td>\n",
       "      <td>0.144946</td>\n",
       "      <td>0.917180</td>\n",
       "      <td>0.689755</td>\n",
       "      <td>0.075169</td>\n",
       "      <td>0.232057</td>\n",
       "      <td>0.918062</td>\n",
       "      <td>0.700087</td>\n",
       "      <td>20540.0</td>\n",
       "      <td>69170.0</td>\n",
       "    </tr>\n",
       "  </tbody>\n",
       "</table>\n",
       "<p>4 rows × 50 columns</p>\n",
       "</div>"
      ],
      "text/plain": [
       "  run_no                       universe_id  \\\n",
       "0     15  8da144e34cc28ca555226f7563cadc53   \n",
       "0     15  8da144e34cc28ca555226f7563cadc53   \n",
       "0     15  8da144e34cc28ca555226f7563cadc53   \n",
       "0     15  8da144e34cc28ca555226f7563cadc53   \n",
       "\n",
       "                                   universe_settings  execution_time  \\\n",
       "0  {\"cutoff\": \"quantile_0.1\", \"eval_fairness_grou...       26.442917   \n",
       "0  {\"cutoff\": \"quantile_0.1\", \"eval_fairness_grou...       26.442917   \n",
       "0  {\"cutoff\": \"quantile_0.25\", \"eval_fairness_gro...       26.442917   \n",
       "0  {\"cutoff\": \"quantile_0.25\", \"eval_fairness_gro...       26.442917   \n",
       "\n",
       "   test_size_n  test_size_frac  fair_main_equalized_odds_difference  \\\n",
       "0        89710             1.0                             0.092484   \n",
       "0        89710             1.0                             0.092484   \n",
       "0        89710             1.0                             0.227425   \n",
       "0        89710             1.0                             0.227425   \n",
       "\n",
       "   fair_main_equalized_odds_ratio  fair_main_demographic_parity_difference  \\\n",
       "0                        0.904445                                 0.088779   \n",
       "0                        0.904445                                 0.088779   \n",
       "0                        0.752039                                 0.217976   \n",
       "0                        0.752039                                 0.217976   \n",
       "\n",
       "   fair_main_demographic_parity_ratio  ...  perf_grp_precision_0  \\\n",
       "0                            0.908329  ...                   NaN   \n",
       "0                            0.908329  ...              0.115825   \n",
       "0                            0.762570  ...                   NaN   \n",
       "0                            0.762570  ...              0.116137   \n",
       "\n",
       "   perf_grp_precision_1  perf_grp_false positive rate_0  \\\n",
       "0                   NaN                             NaN   \n",
       "0              0.136375                        0.967863   \n",
       "0                   NaN                             NaN   \n",
       "0              0.144946                        0.917180   \n",
       "\n",
       "   perf_grp_false positive rate_1  perf_grp_false negative rate_0  \\\n",
       "0                             NaN                             NaN   \n",
       "0                        0.875379                        0.027027   \n",
       "0                             NaN                             NaN   \n",
       "0                        0.689755                        0.075169   \n",
       "\n",
       "   perf_grp_false negative rate_1  perf_grp_selection rate_0  \\\n",
       "0                             NaN                        NaN   \n",
       "0                        0.092123                   0.968452   \n",
       "0                             NaN                        NaN   \n",
       "0                        0.232057                   0.918062   \n",
       "\n",
       "   perf_grp_selection rate_1  perf_grp_count_0  perf_grp_count_1  \n",
       "0                        NaN               NaN               NaN  \n",
       "0                   0.879673           20540.0           69170.0  \n",
       "0                        NaN               NaN               NaN  \n",
       "0                   0.700087           20540.0           69170.0  \n",
       "\n",
       "[4 rows x 50 columns]"
      ]
     },
     "execution_count": 66,
     "metadata": {},
     "output_type": "execute_result"
    }
   ],
   "source": [
    "final_output = universe_analysis.generate_final_output(\n",
    "    y_pred_prob=probs_test,\n",
    "    y_test=y_true,\n",
    "    org_test=org_test,\n",
    "    filter_data=filter_sub_universe_data,\n",
    "    cp_metrics_df=cp_metrics_df,\n",
    "    save=True,\n",
    ")\n",
    "final_output"
   ]
  }
 ],
 "metadata": {
  "celltoolbar": "Tags",
  "kernelspec": {
   "display_name": "Python (CMA Fairness)",
   "language": "python",
   "name": "cma_fair_env"
  },
  "language_info": {
   "codemirror_mode": {
    "name": "ipython",
    "version": 3
   },
   "file_extension": ".py",
   "mimetype": "text/x-python",
   "name": "python",
   "nbconvert_exporter": "python",
   "pygments_lexer": "ipython3",
   "version": "3.10.12"
  },
  "papermill": {
   "default_parameters": {},
   "duration": 43.848291,
   "end_time": "2025-08-05T16:31:24.737132",
   "environment_variables": {},
   "exception": null,
   "input_path": "universe_analysis.ipynb",
   "output_path": "output/runs/15/notebooks/m_15-8da144e34cc28ca555226f7563cadc53.ipynb",
   "parameters": {
    "output_dir": "output",
    "run_no": "15",
    "seed": "2023",
    "universe": "{\"cutoff\": [\"quantile_0.1\", \"quantile_0.25\"], \"eval_fairness_grouping\": [\"majority-minority\", \"nationality-all\"], \"exclude_features\": \"age\", \"exclude_subgroups\": \"drop-non-german\", \"model\": \"elasticnet\", \"scale\": \"do-not-scale\", \"training_size\": \"1k\", \"training_year\": \"2012_14\"}",
    "universe_id": "8da144e34cc28ca555226f7563cadc53"
   },
   "start_time": "2025-08-05T16:30:40.888841",
   "version": "2.6.0"
  }
 },
 "nbformat": 4,
 "nbformat_minor": 5
}