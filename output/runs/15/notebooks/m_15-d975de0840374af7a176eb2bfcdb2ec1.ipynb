{
 "cells": [
  {
   "cell_type": "code",
   "execution_count": 1,
   "id": "f159f837-637b-42ba-96b5-ec9a68c44524",
   "metadata": {
    "execution": {
     "iopub.execute_input": "2025-08-05T16:44:52.304453Z",
     "iopub.status.busy": "2025-08-05T16:44:52.303374Z",
     "iopub.status.idle": "2025-08-05T16:44:52.319939Z",
     "shell.execute_reply": "2025-08-05T16:44:52.318740Z"
    },
    "papermill": {
     "duration": 0.040623,
     "end_time": "2025-08-05T16:44:52.321841",
     "exception": false,
     "start_time": "2025-08-05T16:44:52.281218",
     "status": "completed"
    },
    "tags": []
   },
   "outputs": [
    {
     "name": "stdout",
     "output_type": "stream",
     "text": [
      "/dss/dsshome1/0C/ra93lal2/cma/CMA_Fairness_v2\n"
     ]
    },
    {
     "name": "stderr",
     "output_type": "stream",
     "text": [
      "/dss/dsshome1/0C/ra93lal2/.local/share/virtualenvs/CMA_Fairness_v2-3j10GkSs/lib/python3.10/site-packages/IPython/core/magics/osm.py:393: UserWarning: This is now an optional IPython functionality, using bookmarks requires you to install the `pickleshare` library.\n",
      "  bkms = self.shell.db.get('bookmarks', {})\n",
      "/dss/dsshome1/0C/ra93lal2/.local/share/virtualenvs/CMA_Fairness_v2-3j10GkSs/lib/python3.10/site-packages/IPython/core/magics/osm.py:417: UserWarning: This is now an optional IPython functionality, setting dhist requires you to install the `pickleshare` library.\n",
      "  self.shell.db['dhist'] = compress_dhist(dhist)[-100:]\n"
     ]
    }
   ],
   "source": [
    "%cd ~/cma/CMA_Fairness_v2"
   ]
  },
  {
   "cell_type": "markdown",
   "id": "de2603b9",
   "metadata": {
    "papermill": {
     "duration": 0.020864,
     "end_time": "2025-08-05T16:44:52.362852",
     "exception": false,
     "start_time": "2025-08-05T16:44:52.341988",
     "status": "completed"
    },
    "tags": []
   },
   "source": [
    "The following cell holds the definition of our parameters, these values can be overriden by rendering the with e.g. the following command:\n",
    "\n",
    "papermill -p alpha 0.2 -p ratio 0.3 universe_analysis.ipynb output/test_run.ipynb"
   ]
  },
  {
   "cell_type": "code",
   "execution_count": 2,
   "id": "a80968a0-40bb-4fa9-85ef-2d5eefb01975",
   "metadata": {
    "execution": {
     "iopub.execute_input": "2025-08-05T16:44:52.481486Z",
     "iopub.status.busy": "2025-08-05T16:44:52.480791Z",
     "iopub.status.idle": "2025-08-05T16:44:52.487949Z",
     "shell.execute_reply": "2025-08-05T16:44:52.486875Z"
    },
    "papermill": {
     "duration": 0.03099,
     "end_time": "2025-08-05T16:44:52.489967",
     "exception": false,
     "start_time": "2025-08-05T16:44:52.458977",
     "status": "completed"
    },
    "tags": []
   },
   "outputs": [
    {
     "name": "stdout",
     "output_type": "stream",
     "text": [
      "Current working directory: /dss/dsshome1/0C/ra93lal2/cma/CMA_Fairness_v2\n"
     ]
    }
   ],
   "source": [
    "import os\n",
    "print(\"Current working directory:\", os.getcwd())"
   ]
  },
  {
   "cell_type": "code",
   "execution_count": 3,
   "id": "2dce4c03",
   "metadata": {
    "execution": {
     "iopub.execute_input": "2025-08-05T16:44:52.533103Z",
     "iopub.status.busy": "2025-08-05T16:44:52.532059Z",
     "iopub.status.idle": "2025-08-05T16:44:52.539507Z",
     "shell.execute_reply": "2025-08-05T16:44:52.538685Z"
    },
    "papermill": {
     "duration": 0.030768,
     "end_time": "2025-08-05T16:44:52.541012",
     "exception": false,
     "start_time": "2025-08-05T16:44:52.510244",
     "status": "completed"
    },
    "tags": [
     "parameters"
    ]
   },
   "outputs": [],
   "source": [
    "run_no = 0\n",
    "universe_id = \"test\"\n",
    "universe = {\n",
    "    \"training_size\": \"25k\", # \"25k\", \"5k\", \"1k\"\n",
    "    \"training_year\": \"2014\", # \"2014\", \"2012_14\", \"2010_14\"\n",
    "    \"scale\": \"scale\", # \"scale\", \"do-not-scale\",\n",
    "    \"model\": \"elasticnet\", # \"logreg\", \"penalized_logreg\", \"rf\", \"gbm\", \"elasticnet\"\n",
    "    \"cutoff\": [\"quantile_0.15\", \"quantile_0.30\"],\n",
    "    \"exclude_features\": \"age\", # \"none\", \"nationality\", \"sex\", \"nationality-sex\", \"age\"\n",
    "    \"exclude_subgroups\": \"keep-all\", # \"keep-all\", \"drop-non-german\"\n",
    "    \"eval_fairness_grouping\": [\"majority-minority\", \"nationality-all\"]\n",
    "}\n",
    "\n",
    "output_dir=\"./output\"\n",
    "seed=0"
   ]
  },
  {
   "cell_type": "code",
   "execution_count": 4,
   "id": "2dbd1ab2",
   "metadata": {
    "execution": {
     "iopub.execute_input": "2025-08-05T16:44:52.564734Z",
     "iopub.status.busy": "2025-08-05T16:44:52.563908Z",
     "iopub.status.idle": "2025-08-05T16:44:52.569266Z",
     "shell.execute_reply": "2025-08-05T16:44:52.568385Z"
    },
    "papermill": {
     "duration": 0.018384,
     "end_time": "2025-08-05T16:44:52.570722",
     "exception": false,
     "start_time": "2025-08-05T16:44:52.552338",
     "status": "completed"
    },
    "tags": [
     "injected-parameters"
    ]
   },
   "outputs": [],
   "source": [
    "# Parameters\n",
    "universe_id = \"d975de0840374af7a176eb2bfcdb2ec1\"\n",
    "run_no = \"15\"\n",
    "universe = \"{\\\"cutoff\\\": [\\\"quantile_0.1\\\", \\\"quantile_0.25\\\"], \\\"eval_fairness_grouping\\\": [\\\"majority-minority\\\", \\\"nationality-all\\\"], \\\"exclude_features\\\": \\\"sex\\\", \\\"exclude_subgroups\\\": \\\"drop-non-german\\\", \\\"model\\\": \\\"elasticnet\\\", \\\"scale\\\": \\\"do-not-scale\\\", \\\"training_size\\\": \\\"1k\\\", \\\"training_year\\\": \\\"2010_14\\\"}\"\n",
    "output_dir = \"output\"\n",
    "seed = \"2023\"\n"
   ]
  },
  {
   "cell_type": "code",
   "execution_count": 5,
   "id": "1650acaf",
   "metadata": {
    "execution": {
     "iopub.execute_input": "2025-08-05T16:44:52.594717Z",
     "iopub.status.busy": "2025-08-05T16:44:52.593959Z",
     "iopub.status.idle": "2025-08-05T16:44:52.599049Z",
     "shell.execute_reply": "2025-08-05T16:44:52.598197Z"
    },
    "papermill": {
     "duration": 0.018566,
     "end_time": "2025-08-05T16:44:52.600593",
     "exception": false,
     "start_time": "2025-08-05T16:44:52.582027",
     "status": "completed"
    },
    "tags": []
   },
   "outputs": [],
   "source": [
    "import json\n",
    "if isinstance(universe, str):\n",
    "    universe = json.loads(universe)"
   ]
  },
  {
   "cell_type": "code",
   "execution_count": 6,
   "id": "16620c48",
   "metadata": {
    "execution": {
     "iopub.execute_input": "2025-08-05T16:44:52.623937Z",
     "iopub.status.busy": "2025-08-05T16:44:52.623521Z",
     "iopub.status.idle": "2025-08-05T16:44:52.658782Z",
     "shell.execute_reply": "2025-08-05T16:44:52.657917Z"
    },
    "papermill": {
     "duration": 0.048637,
     "end_time": "2025-08-05T16:44:52.660469",
     "exception": false,
     "start_time": "2025-08-05T16:44:52.611832",
     "status": "completed"
    },
    "tags": []
   },
   "outputs": [],
   "source": [
    "# Auto-reload the custom package\n",
    "%load_ext autoreload\n",
    "%autoreload 1\n",
    "%aimport fairness_multiverse"
   ]
  },
  {
   "cell_type": "code",
   "execution_count": 7,
   "id": "01c5c9f3",
   "metadata": {
    "execution": {
     "iopub.execute_input": "2025-08-05T16:44:52.684182Z",
     "iopub.status.busy": "2025-08-05T16:44:52.683314Z",
     "iopub.status.idle": "2025-08-05T16:44:54.905133Z",
     "shell.execute_reply": "2025-08-05T16:44:54.903872Z"
    },
    "papermill": {
     "duration": 2.235862,
     "end_time": "2025-08-05T16:44:54.907553",
     "exception": false,
     "start_time": "2025-08-05T16:44:52.671691",
     "status": "completed"
    },
    "tags": []
   },
   "outputs": [],
   "source": [
    "from fairness_multiverse.universe import UniverseAnalysis\n",
    "\n",
    "universe_analysis = UniverseAnalysis(\n",
    "    run_no = run_no,\n",
    "    universe_id = universe_id,\n",
    "    universe = universe,\n",
    "    output_dir=output_dir,\n",
    ")"
   ]
  },
  {
   "cell_type": "code",
   "execution_count": 8,
   "id": "106241f5",
   "metadata": {
    "execution": {
     "iopub.execute_input": "2025-08-05T16:44:54.957270Z",
     "iopub.status.busy": "2025-08-05T16:44:54.956464Z",
     "iopub.status.idle": "2025-08-05T16:44:54.965110Z",
     "shell.execute_reply": "2025-08-05T16:44:54.963829Z"
    },
    "papermill": {
     "duration": 0.036059,
     "end_time": "2025-08-05T16:44:54.967200",
     "exception": false,
     "start_time": "2025-08-05T16:44:54.931141",
     "status": "completed"
    },
    "tags": []
   },
   "outputs": [
    {
     "name": "stdout",
     "output_type": "stream",
     "text": [
      "Using Seed: 2023\n"
     ]
    }
   ],
   "source": [
    "import numpy as np\n",
    "parsed_seed = int(seed)\n",
    "np.random.seed(parsed_seed)\n",
    "print(f\"Using Seed: {parsed_seed}\")"
   ]
  },
  {
   "cell_type": "markdown",
   "id": "e0ebdc57",
   "metadata": {
    "papermill": {
     "duration": 0.02431,
     "end_time": "2025-08-05T16:44:55.015976",
     "exception": false,
     "start_time": "2025-08-05T16:44:54.991666",
     "status": "completed"
    },
    "tags": []
   },
   "source": [
    "# Loading Data"
   ]
  },
  {
   "cell_type": "code",
   "execution_count": 9,
   "id": "f0496b8a",
   "metadata": {
    "execution": {
     "iopub.execute_input": "2025-08-05T16:44:55.067342Z",
     "iopub.status.busy": "2025-08-05T16:44:55.066351Z",
     "iopub.status.idle": "2025-08-05T16:45:08.393417Z",
     "shell.execute_reply": "2025-08-05T16:45:08.391865Z"
    },
    "papermill": {
     "duration": 13.355706,
     "end_time": "2025-08-05T16:45:08.395792",
     "exception": false,
     "start_time": "2025-08-05T16:44:55.040086",
     "status": "completed"
    },
    "tags": []
   },
   "outputs": [
    {
     "name": "stdout",
     "output_type": "stream",
     "text": [
      "Loading SIAB data from cache: data/siab_cached.csv.gz\n"
     ]
    },
    {
     "name": "stdout",
     "output_type": "stream",
     "text": [
      "(643690, 164)\n"
     ]
    }
   ],
   "source": [
    "from pathlib import Path\n",
    "import pandas as pd\n",
    "\n",
    "# File paths\n",
    "raw_file = Path(\"data/raw/siab.csv\")\n",
    "cache_file = Path(\"data/siab_cached.csv.gz\")\n",
    "\n",
    "# Ensure cache directory exists\n",
    "cache_file.parent.mkdir(parents=True, exist_ok=True)\n",
    "\n",
    "# Load with simple caching\n",
    "if cache_file.exists():\n",
    "    print(f\"Loading SIAB data from cache: {cache_file}\")\n",
    "    siab = pd.read_csv(cache_file, compression='gzip')\n",
    "else:\n",
    "    print(f\"Cache not found. Reading raw SIAB data: {raw_file}\")\n",
    "    siab = pd.read_csv(raw_file)\n",
    "    siab.to_csv(cache_file, index=False, compression='gzip')\n",
    "    print(f\"Cached SIAB data to: {cache_file}\")\n",
    "\n",
    "print(siab.shape)"
   ]
  },
  {
   "cell_type": "code",
   "execution_count": 10,
   "id": "db0ca512-5f53-4dba-abdb-a2888bca41ba",
   "metadata": {
    "execution": {
     "iopub.execute_input": "2025-08-05T16:45:08.453173Z",
     "iopub.status.busy": "2025-08-05T16:45:08.452037Z",
     "iopub.status.idle": "2025-08-05T16:45:08.459786Z",
     "shell.execute_reply": "2025-08-05T16:45:08.458504Z"
    },
    "papermill": {
     "duration": 0.037816,
     "end_time": "2025-08-05T16:45:08.461866",
     "exception": false,
     "start_time": "2025-08-05T16:45:08.424050",
     "status": "completed"
    },
    "tags": []
   },
   "outputs": [],
   "source": [
    "#siab"
   ]
  },
  {
   "cell_type": "markdown",
   "id": "997051c5-15bd-4b69-9786-c3001a3ce484",
   "metadata": {
    "papermill": {
     "duration": 0.022958,
     "end_time": "2025-08-05T16:45:08.508314",
     "exception": false,
     "start_time": "2025-08-05T16:45:08.485356",
     "status": "completed"
    },
    "tags": []
   },
   "source": [
    "# Splitting Data and Setting Training Data Size"
   ]
  },
  {
   "cell_type": "code",
   "execution_count": 11,
   "id": "aea9c6ef-6f46-42c8-85eb-5a62025c1508",
   "metadata": {
    "execution": {
     "iopub.execute_input": "2025-08-05T16:45:08.557152Z",
     "iopub.status.busy": "2025-08-05T16:45:08.556100Z",
     "iopub.status.idle": "2025-08-05T16:45:09.694694Z",
     "shell.execute_reply": "2025-08-05T16:45:09.693288Z"
    },
    "papermill": {
     "duration": 1.166082,
     "end_time": "2025-08-05T16:45:09.697493",
     "exception": false,
     "start_time": "2025-08-05T16:45:08.531411",
     "status": "completed"
    },
    "tags": []
   },
   "outputs": [],
   "source": [
    "from fairness_multiverse.universe import sample_by_year_size\n",
    "\n",
    "siab_train = sample_by_year_size(siab,\n",
    "                               training_year=universe[\"training_year\"],\n",
    "                               training_size=universe[\"training_size\"])"
   ]
  },
  {
   "cell_type": "code",
   "execution_count": 12,
   "id": "8d3afb32-789d-442c-8d5d-9f5aa8dd2eed",
   "metadata": {
    "execution": {
     "iopub.execute_input": "2025-08-05T16:45:09.755061Z",
     "iopub.status.busy": "2025-08-05T16:45:09.753960Z",
     "iopub.status.idle": "2025-08-05T16:45:09.761014Z",
     "shell.execute_reply": "2025-08-05T16:45:09.759374Z"
    },
    "papermill": {
     "duration": 0.03907,
     "end_time": "2025-08-05T16:45:09.763366",
     "exception": false,
     "start_time": "2025-08-05T16:45:09.724296",
     "status": "completed"
    },
    "tags": []
   },
   "outputs": [],
   "source": [
    "#siab_train.shape"
   ]
  },
  {
   "cell_type": "code",
   "execution_count": 13,
   "id": "d582db68-1a4c-47fb-84fc-08518dc1975a",
   "metadata": {
    "execution": {
     "iopub.execute_input": "2025-08-05T16:45:09.822595Z",
     "iopub.status.busy": "2025-08-05T16:45:09.821429Z",
     "iopub.status.idle": "2025-08-05T16:45:09.828298Z",
     "shell.execute_reply": "2025-08-05T16:45:09.826734Z"
    },
    "papermill": {
     "duration": 0.038796,
     "end_time": "2025-08-05T16:45:09.830487",
     "exception": false,
     "start_time": "2025-08-05T16:45:09.791691",
     "status": "completed"
    },
    "tags": []
   },
   "outputs": [],
   "source": [
    "#display(siab_train.groupby(\"year\").size())"
   ]
  },
  {
   "cell_type": "code",
   "execution_count": 14,
   "id": "a561edb4-d032-42cb-8256-22eac1111c64",
   "metadata": {
    "execution": {
     "iopub.execute_input": "2025-08-05T16:45:09.877314Z",
     "iopub.status.busy": "2025-08-05T16:45:09.876781Z",
     "iopub.status.idle": "2025-08-05T16:45:10.151310Z",
     "shell.execute_reply": "2025-08-05T16:45:10.149927Z"
    },
    "papermill": {
     "duration": 0.299798,
     "end_time": "2025-08-05T16:45:10.153302",
     "exception": false,
     "start_time": "2025-08-05T16:45:09.853504",
     "status": "completed"
    },
    "tags": []
   },
   "outputs": [],
   "source": [
    "#siab_train = siab_s[siab_s.year < 2015]\n",
    "siab_calib = siab[siab.year == 2015]\n",
    "siab_test = siab[siab.year == 2016]"
   ]
  },
  {
   "cell_type": "code",
   "execution_count": 15,
   "id": "472de16f-c3db-4916-846b-1f0de9cf1746",
   "metadata": {
    "execution": {
     "iopub.execute_input": "2025-08-05T16:45:10.208697Z",
     "iopub.status.busy": "2025-08-05T16:45:10.207635Z",
     "iopub.status.idle": "2025-08-05T16:45:10.216020Z",
     "shell.execute_reply": "2025-08-05T16:45:10.214719Z"
    },
    "papermill": {
     "duration": 0.038246,
     "end_time": "2025-08-05T16:45:10.218109",
     "exception": false,
     "start_time": "2025-08-05T16:45:10.179863",
     "status": "completed"
    },
    "tags": []
   },
   "outputs": [],
   "source": [
    "X_train = siab_train.iloc[:,4:164]\n",
    "y_train = siab_train.iloc[:, [3]]"
   ]
  },
  {
   "cell_type": "code",
   "execution_count": 16,
   "id": "828c96af-f43a-4ed6-ba47-8ac73a47d56c",
   "metadata": {
    "execution": {
     "iopub.execute_input": "2025-08-05T16:45:10.272741Z",
     "iopub.status.busy": "2025-08-05T16:45:10.271935Z",
     "iopub.status.idle": "2025-08-05T16:45:10.309733Z",
     "shell.execute_reply": "2025-08-05T16:45:10.308387Z"
    },
    "papermill": {
     "duration": 0.067282,
     "end_time": "2025-08-05T16:45:10.311915",
     "exception": false,
     "start_time": "2025-08-05T16:45:10.244633",
     "status": "completed"
    },
    "tags": []
   },
   "outputs": [],
   "source": [
    "X_calib = siab_calib.iloc[:,4:164]\n",
    "y_calib = siab_calib.iloc[:, [3]]"
   ]
  },
  {
   "cell_type": "code",
   "execution_count": 17,
   "id": "c34be9c3-6bd6-476e-acd3-845840e303be",
   "metadata": {
    "execution": {
     "iopub.execute_input": "2025-08-05T16:45:10.368095Z",
     "iopub.status.busy": "2025-08-05T16:45:10.367456Z",
     "iopub.status.idle": "2025-08-05T16:45:10.432755Z",
     "shell.execute_reply": "2025-08-05T16:45:10.431266Z"
    },
    "papermill": {
     "duration": 0.095699,
     "end_time": "2025-08-05T16:45:10.435323",
     "exception": false,
     "start_time": "2025-08-05T16:45:10.339624",
     "status": "completed"
    },
    "tags": []
   },
   "outputs": [],
   "source": [
    "X_test = siab_test.iloc[:,4:164]\n",
    "y_true = siab_test.iloc[:, [3]]"
   ]
  },
  {
   "cell_type": "code",
   "execution_count": 18,
   "id": "e6c733c5",
   "metadata": {
    "execution": {
     "iopub.execute_input": "2025-08-05T16:45:10.496577Z",
     "iopub.status.busy": "2025-08-05T16:45:10.496093Z",
     "iopub.status.idle": "2025-08-05T16:45:10.597379Z",
     "shell.execute_reply": "2025-08-05T16:45:10.596557Z"
    },
    "papermill": {
     "duration": 0.115079,
     "end_time": "2025-08-05T16:45:10.599005",
     "exception": false,
     "start_time": "2025-08-05T16:45:10.483926",
     "status": "completed"
    },
    "tags": []
   },
   "outputs": [],
   "source": [
    "# Auxiliary data needed downstream in the pipeline\n",
    "\n",
    "org_train = X_train.copy()\n",
    "org_test = X_test.copy()\n",
    "org_calib = X_calib.copy()"
   ]
  },
  {
   "cell_type": "markdown",
   "id": "0a4a1b33",
   "metadata": {
    "papermill": {
     "duration": 0.013184,
     "end_time": "2025-08-05T16:45:10.624674",
     "exception": false,
     "start_time": "2025-08-05T16:45:10.611490",
     "status": "completed"
    },
    "tags": []
   },
   "source": [
    "# Preprocessing Data"
   ]
  },
  {
   "cell_type": "code",
   "execution_count": 19,
   "id": "ca879031",
   "metadata": {
    "execution": {
     "iopub.execute_input": "2025-08-05T16:45:10.652455Z",
     "iopub.status.busy": "2025-08-05T16:45:10.652091Z",
     "iopub.status.idle": "2025-08-05T16:45:10.657404Z",
     "shell.execute_reply": "2025-08-05T16:45:10.656460Z"
    },
    "papermill": {
     "duration": 0.023113,
     "end_time": "2025-08-05T16:45:10.658921",
     "exception": false,
     "start_time": "2025-08-05T16:45:10.635808",
     "status": "completed"
    },
    "tags": []
   },
   "outputs": [],
   "source": [
    "# EXCLUDE PROTECTED FEATURES\n",
    "# ----------------------\n",
    "# \"exclude_features\": \"none\", # \"nationality\", \"sex\", \"nationality-sex\"\n",
    "\n",
    "excluded_features = universe[\"exclude_features\"].split(\"-\") # split, e.g.: \"nationality-sex\" -> [\"nationality\", \"sex\"]\n",
    "excluded_features_dictionary = {\n",
    "    \"nationality\": [\"maxdeutsch1\", \"maxdeutsch.Missing.\"],\n",
    "    \"sex\": [\"frau1\"],\n",
    "    \"age\": [\"age\"],\n",
    "}"
   ]
  },
  {
   "cell_type": "code",
   "execution_count": 20,
   "id": "b745ac60",
   "metadata": {
    "execution": {
     "iopub.execute_input": "2025-08-05T16:45:10.682716Z",
     "iopub.status.busy": "2025-08-05T16:45:10.682221Z",
     "iopub.status.idle": "2025-08-05T16:45:10.687232Z",
     "shell.execute_reply": "2025-08-05T16:45:10.686351Z"
    },
    "papermill": {
     "duration": 0.01839,
     "end_time": "2025-08-05T16:45:10.688716",
     "exception": false,
     "start_time": "2025-08-05T16:45:10.670326",
     "status": "completed"
    },
    "tags": []
   },
   "outputs": [],
   "source": [
    "# Code nice names to column names\n",
    "\n",
    "excluded_features_columns = [\n",
    "    excluded_features_dictionary[f] for f in excluded_features if len(f) > 0 and f != \"none\"\n",
    "]"
   ]
  },
  {
   "cell_type": "code",
   "execution_count": 21,
   "id": "f84f73a2",
   "metadata": {
    "execution": {
     "iopub.execute_input": "2025-08-05T16:45:10.717039Z",
     "iopub.status.busy": "2025-08-05T16:45:10.716461Z",
     "iopub.status.idle": "2025-08-05T16:45:10.722349Z",
     "shell.execute_reply": "2025-08-05T16:45:10.721580Z"
    },
    "papermill": {
     "duration": 0.021849,
     "end_time": "2025-08-05T16:45:10.723790",
     "exception": false,
     "start_time": "2025-08-05T16:45:10.701941",
     "status": "completed"
    },
    "tags": []
   },
   "outputs": [],
   "source": [
    "from utils import flatten_once\n",
    "\n",
    "excluded_features_columns = flatten_once(excluded_features_columns)"
   ]
  },
  {
   "cell_type": "code",
   "execution_count": 22,
   "id": "884dea22",
   "metadata": {
    "execution": {
     "iopub.execute_input": "2025-08-05T16:45:10.752698Z",
     "iopub.status.busy": "2025-08-05T16:45:10.751992Z",
     "iopub.status.idle": "2025-08-05T16:45:10.764172Z",
     "shell.execute_reply": "2025-08-05T16:45:10.763009Z"
    },
    "papermill": {
     "duration": 0.031014,
     "end_time": "2025-08-05T16:45:10.766314",
     "exception": false,
     "start_time": "2025-08-05T16:45:10.735300",
     "status": "completed"
    },
    "tags": []
   },
   "outputs": [
    {
     "name": "stdout",
     "output_type": "stream",
     "text": [
      "Dropping features: ['frau1']\n"
     ]
    }
   ],
   "source": [
    "if len(excluded_features_columns) > 0:\n",
    "    print(f\"Dropping features: {excluded_features_columns}\")\n",
    "    X_train.drop(excluded_features_columns, axis=1, inplace=True)"
   ]
  },
  {
   "cell_type": "code",
   "execution_count": 23,
   "id": "95ab8b16",
   "metadata": {
    "execution": {
     "iopub.execute_input": "2025-08-05T16:45:10.817981Z",
     "iopub.status.busy": "2025-08-05T16:45:10.817594Z",
     "iopub.status.idle": "2025-08-05T16:45:10.957864Z",
     "shell.execute_reply": "2025-08-05T16:45:10.956730Z"
    },
    "papermill": {
     "duration": 0.168525,
     "end_time": "2025-08-05T16:45:10.959810",
     "exception": false,
     "start_time": "2025-08-05T16:45:10.791285",
     "status": "completed"
    },
    "tags": []
   },
   "outputs": [
    {
     "name": "stdout",
     "output_type": "stream",
     "text": [
      "Dropping features: ['frau1']\n"
     ]
    }
   ],
   "source": [
    "if len(excluded_features_columns) > 0:\n",
    "    print(f\"Dropping features: {excluded_features_columns}\")\n",
    "    X_test.drop(excluded_features_columns, axis=1, inplace=True)"
   ]
  },
  {
   "cell_type": "code",
   "execution_count": 24,
   "id": "1853aaf5-fb9f-46cb-a2b5-8ea4ae2237e4",
   "metadata": {
    "execution": {
     "iopub.execute_input": "2025-08-05T16:45:11.004650Z",
     "iopub.status.busy": "2025-08-05T16:45:11.003981Z",
     "iopub.status.idle": "2025-08-05T16:45:11.061827Z",
     "shell.execute_reply": "2025-08-05T16:45:11.060524Z"
    },
    "papermill": {
     "duration": 0.08214,
     "end_time": "2025-08-05T16:45:11.063981",
     "exception": false,
     "start_time": "2025-08-05T16:45:10.981841",
     "status": "completed"
    },
    "tags": []
   },
   "outputs": [
    {
     "name": "stdout",
     "output_type": "stream",
     "text": [
      "Dropping features: ['frau1']\n"
     ]
    }
   ],
   "source": [
    "if len(excluded_features_columns) > 0:\n",
    "    print(f\"Dropping features: {excluded_features_columns}\")\n",
    "    X_calib.drop(excluded_features_columns, axis=1, inplace=True)"
   ]
  },
  {
   "cell_type": "code",
   "execution_count": 25,
   "id": "76c4dc6d",
   "metadata": {
    "execution": {
     "iopub.execute_input": "2025-08-05T16:45:11.109232Z",
     "iopub.status.busy": "2025-08-05T16:45:11.108739Z",
     "iopub.status.idle": "2025-08-05T16:45:11.114687Z",
     "shell.execute_reply": "2025-08-05T16:45:11.113394Z"
    },
    "papermill": {
     "duration": 0.030603,
     "end_time": "2025-08-05T16:45:11.116397",
     "exception": false,
     "start_time": "2025-08-05T16:45:11.085794",
     "status": "completed"
    },
    "tags": []
   },
   "outputs": [],
   "source": [
    "# EXCLUDE CERTAIN SUBGROUPS\n",
    "# ----------------------\n",
    "\n",
    "mode = universe.get(\"exclude_subgroups\", \"keep-all\") \n",
    "# Fetches the exclude_subgroups setting from the universe dict.\n",
    "# Defaults to \"keep-all\" if the key is missing."
   ]
  },
  {
   "cell_type": "code",
   "execution_count": 26,
   "id": "21994072",
   "metadata": {
    "execution": {
     "iopub.execute_input": "2025-08-05T16:45:11.142317Z",
     "iopub.status.busy": "2025-08-05T16:45:11.141784Z",
     "iopub.status.idle": "2025-08-05T16:45:11.147660Z",
     "shell.execute_reply": "2025-08-05T16:45:11.146731Z"
    },
    "papermill": {
     "duration": 0.020333,
     "end_time": "2025-08-05T16:45:11.149219",
     "exception": false,
     "start_time": "2025-08-05T16:45:11.128886",
     "status": "completed"
    },
    "tags": []
   },
   "outputs": [],
   "source": [
    "if mode == \"keep-all\":\n",
    "    keep_mask = pd.Series(True, index=org_train.index)\n",
    "\n",
    "# org_train contains the original feature columns from features_org (in Simson)\n",
    "# features_org contains unprocessed features, for me X_train at beginning ???\n",
    "# For keep-all, creates a boolean Series (keep_mask) of all True, so no rows are removed.\n",
    "\n",
    "elif mode == \"drop-non-german\":\n",
    "    keep_mask = org_train[\"maxdeutsch1\"] == 1 # ??? what about missing values?\n",
    "\n",
    "else:\n",
    "    raise ValueError(f\"Unsupported mode for exclude_subgroups: {mode}\")"
   ]
  },
  {
   "cell_type": "code",
   "execution_count": 27,
   "id": "71651440",
   "metadata": {
    "execution": {
     "iopub.execute_input": "2025-08-05T16:45:11.179104Z",
     "iopub.status.busy": "2025-08-05T16:45:11.178626Z",
     "iopub.status.idle": "2025-08-05T16:45:11.185114Z",
     "shell.execute_reply": "2025-08-05T16:45:11.183941Z"
    },
    "papermill": {
     "duration": 0.022126,
     "end_time": "2025-08-05T16:45:11.187031",
     "exception": false,
     "start_time": "2025-08-05T16:45:11.164905",
     "status": "completed"
    },
    "tags": []
   },
   "outputs": [
    {
     "name": "stdout",
     "output_type": "stream",
     "text": [
      "Dropping 131 rows (13.10%) where mode='drop-non-german'\n"
     ]
    }
   ],
   "source": [
    "n_drop = (~keep_mask).sum() # Calculates how many rows are set to be dropped\n",
    "if n_drop > 0:\n",
    "    pct = n_drop / len(keep_mask) * 100\n",
    "    print(f\"Dropping {n_drop} rows ({pct:.2f}%) where mode='{mode}'\")"
   ]
  },
  {
   "cell_type": "code",
   "execution_count": 28,
   "id": "5fb8eee5",
   "metadata": {
    "execution": {
     "iopub.execute_input": "2025-08-05T16:45:11.232569Z",
     "iopub.status.busy": "2025-08-05T16:45:11.232094Z",
     "iopub.status.idle": "2025-08-05T16:45:11.238291Z",
     "shell.execute_reply": "2025-08-05T16:45:11.237311Z"
    },
    "papermill": {
     "duration": 0.027559,
     "end_time": "2025-08-05T16:45:11.239971",
     "exception": false,
     "start_time": "2025-08-05T16:45:11.212412",
     "status": "completed"
    },
    "tags": []
   },
   "outputs": [],
   "source": [
    "X_train = X_train[keep_mask]"
   ]
  },
  {
   "cell_type": "code",
   "execution_count": 29,
   "id": "b202bb3a",
   "metadata": {
    "execution": {
     "iopub.execute_input": "2025-08-05T16:45:11.265835Z",
     "iopub.status.busy": "2025-08-05T16:45:11.265210Z",
     "iopub.status.idle": "2025-08-05T16:45:11.270857Z",
     "shell.execute_reply": "2025-08-05T16:45:11.270051Z"
    },
    "papermill": {
     "duration": 0.020065,
     "end_time": "2025-08-05T16:45:11.272583",
     "exception": false,
     "start_time": "2025-08-05T16:45:11.252518",
     "status": "completed"
    },
    "tags": []
   },
   "outputs": [],
   "source": [
    "y_train = y_train[keep_mask]"
   ]
  },
  {
   "cell_type": "markdown",
   "id": "493e2ac3",
   "metadata": {
    "papermill": {
     "duration": 0.012188,
     "end_time": "2025-08-05T16:45:11.297463",
     "exception": false,
     "start_time": "2025-08-05T16:45:11.285275",
     "status": "completed"
    },
    "tags": []
   },
   "source": [
    "# Model Training"
   ]
  },
  {
   "cell_type": "code",
   "execution_count": 30,
   "id": "679e1268",
   "metadata": {
    "execution": {
     "iopub.execute_input": "2025-08-05T16:45:11.323218Z",
     "iopub.status.busy": "2025-08-05T16:45:11.322575Z",
     "iopub.status.idle": "2025-08-05T16:45:11.406771Z",
     "shell.execute_reply": "2025-08-05T16:45:11.405859Z"
    },
    "papermill": {
     "duration": 0.099101,
     "end_time": "2025-08-05T16:45:11.408580",
     "exception": false,
     "start_time": "2025-08-05T16:45:11.309479",
     "status": "completed"
    },
    "tags": []
   },
   "outputs": [],
   "source": [
    "from sklearn.linear_model import LogisticRegression\n",
    "from sklearn.ensemble import GradientBoostingClassifier, RandomForestClassifier\n",
    "\n",
    "if (universe[\"model\"] == \"logreg\"):\n",
    "    model = LogisticRegression() #penalty=\"none\", solver=\"newton-cg\", max_iter=1) # include random_state=19 ?\n",
    "elif (universe[\"model\"] == \"penalized_logreg\"):\n",
    "    model = LogisticRegression(penalty=\"l2\", C=0.1) #, solver=\"newton-cg\", max_iter=1)\n",
    "elif (universe[\"model\"] == \"rf\"):\n",
    "    model = RandomForestClassifier() # n_estimators=100, n_jobs=-1\n",
    "elif (universe[\"model\"] == \"gbm\"):\n",
    "    model = GradientBoostingClassifier()\n",
    "elif (universe[\"model\"] == \"elasticnet\"):\n",
    "    model = LogisticRegression(penalty = 'elasticnet', solver = 'saga', l1_ratio = 0.5) # max_iter=5000\n",
    "else:\n",
    "    raise \"Unsupported universe.model\""
   ]
  },
  {
   "cell_type": "code",
   "execution_count": 31,
   "id": "0cc8f744",
   "metadata": {
    "execution": {
     "iopub.execute_input": "2025-08-05T16:45:11.453972Z",
     "iopub.status.busy": "2025-08-05T16:45:11.453495Z",
     "iopub.status.idle": "2025-08-05T16:45:11.459180Z",
     "shell.execute_reply": "2025-08-05T16:45:11.458288Z"
    },
    "papermill": {
     "duration": 0.025033,
     "end_time": "2025-08-05T16:45:11.460621",
     "exception": false,
     "start_time": "2025-08-05T16:45:11.435588",
     "status": "completed"
    },
    "tags": []
   },
   "outputs": [],
   "source": [
    "import numpy as np\n",
    "from sklearn.pipeline import Pipeline\n",
    "from sklearn.preprocessing import StandardScaler\n",
    "\n",
    "model = Pipeline([\n",
    "    #(\"continuous_processor\", continuous_processor),\n",
    "    #(\"categorical_preprocessor\", categorical_preprocessor),\n",
    "    (\"scale\", StandardScaler() if universe[\"scale\"] == \"scale\" else None), \n",
    "    (\"model\", model),\n",
    "])"
   ]
  },
  {
   "cell_type": "code",
   "execution_count": 32,
   "id": "9442c04d",
   "metadata": {
    "execution": {
     "iopub.execute_input": "2025-08-05T16:45:11.489737Z",
     "iopub.status.busy": "2025-08-05T16:45:11.489148Z",
     "iopub.status.idle": "2025-08-05T16:45:11.872761Z",
     "shell.execute_reply": "2025-08-05T16:45:11.871579Z"
    },
    "papermill": {
     "duration": 0.402143,
     "end_time": "2025-08-05T16:45:11.874917",
     "exception": false,
     "start_time": "2025-08-05T16:45:11.472774",
     "status": "completed"
    },
    "tags": []
   },
   "outputs": [
    {
     "name": "stderr",
     "output_type": "stream",
     "text": [
      "/dss/dsshome1/0C/ra93lal2/.local/share/virtualenvs/CMA_Fairness_v2-3j10GkSs/lib/python3.10/site-packages/sklearn/linear_model/_sag.py:350: ConvergenceWarning: The max_iter was reached which means the coef_ did not converge\n",
      "  warnings.warn(\n"
     ]
    },
    {
     "data": {
      "text/html": [
       "<style>#sk-container-id-1 {color: black;background-color: white;}#sk-container-id-1 pre{padding: 0;}#sk-container-id-1 div.sk-toggleable {background-color: white;}#sk-container-id-1 label.sk-toggleable__label {cursor: pointer;display: block;width: 100%;margin-bottom: 0;padding: 0.3em;box-sizing: border-box;text-align: center;}#sk-container-id-1 label.sk-toggleable__label-arrow:before {content: \"▸\";float: left;margin-right: 0.25em;color: #696969;}#sk-container-id-1 label.sk-toggleable__label-arrow:hover:before {color: black;}#sk-container-id-1 div.sk-estimator:hover label.sk-toggleable__label-arrow:before {color: black;}#sk-container-id-1 div.sk-toggleable__content {max-height: 0;max-width: 0;overflow: hidden;text-align: left;background-color: #f0f8ff;}#sk-container-id-1 div.sk-toggleable__content pre {margin: 0.2em;color: black;border-radius: 0.25em;background-color: #f0f8ff;}#sk-container-id-1 input.sk-toggleable__control:checked~div.sk-toggleable__content {max-height: 200px;max-width: 100%;overflow: auto;}#sk-container-id-1 input.sk-toggleable__control:checked~label.sk-toggleable__label-arrow:before {content: \"▾\";}#sk-container-id-1 div.sk-estimator input.sk-toggleable__control:checked~label.sk-toggleable__label {background-color: #d4ebff;}#sk-container-id-1 div.sk-label input.sk-toggleable__control:checked~label.sk-toggleable__label {background-color: #d4ebff;}#sk-container-id-1 input.sk-hidden--visually {border: 0;clip: rect(1px 1px 1px 1px);clip: rect(1px, 1px, 1px, 1px);height: 1px;margin: -1px;overflow: hidden;padding: 0;position: absolute;width: 1px;}#sk-container-id-1 div.sk-estimator {font-family: monospace;background-color: #f0f8ff;border: 1px dotted black;border-radius: 0.25em;box-sizing: border-box;margin-bottom: 0.5em;}#sk-container-id-1 div.sk-estimator:hover {background-color: #d4ebff;}#sk-container-id-1 div.sk-parallel-item::after {content: \"\";width: 100%;border-bottom: 1px solid gray;flex-grow: 1;}#sk-container-id-1 div.sk-label:hover label.sk-toggleable__label {background-color: #d4ebff;}#sk-container-id-1 div.sk-serial::before {content: \"\";position: absolute;border-left: 1px solid gray;box-sizing: border-box;top: 0;bottom: 0;left: 50%;z-index: 0;}#sk-container-id-1 div.sk-serial {display: flex;flex-direction: column;align-items: center;background-color: white;padding-right: 0.2em;padding-left: 0.2em;position: relative;}#sk-container-id-1 div.sk-item {position: relative;z-index: 1;}#sk-container-id-1 div.sk-parallel {display: flex;align-items: stretch;justify-content: center;background-color: white;position: relative;}#sk-container-id-1 div.sk-item::before, #sk-container-id-1 div.sk-parallel-item::before {content: \"\";position: absolute;border-left: 1px solid gray;box-sizing: border-box;top: 0;bottom: 0;left: 50%;z-index: -1;}#sk-container-id-1 div.sk-parallel-item {display: flex;flex-direction: column;z-index: 1;position: relative;background-color: white;}#sk-container-id-1 div.sk-parallel-item:first-child::after {align-self: flex-end;width: 50%;}#sk-container-id-1 div.sk-parallel-item:last-child::after {align-self: flex-start;width: 50%;}#sk-container-id-1 div.sk-parallel-item:only-child::after {width: 0;}#sk-container-id-1 div.sk-dashed-wrapped {border: 1px dashed gray;margin: 0 0.4em 0.5em 0.4em;box-sizing: border-box;padding-bottom: 0.4em;background-color: white;}#sk-container-id-1 div.sk-label label {font-family: monospace;font-weight: bold;display: inline-block;line-height: 1.2em;}#sk-container-id-1 div.sk-label-container {text-align: center;}#sk-container-id-1 div.sk-container {/* jupyter's `normalize.less` sets `[hidden] { display: none; }` but bootstrap.min.css set `[hidden] { display: none !important; }` so we also need the `!important` here to be able to override the default hidden behavior on the sphinx rendered scikit-learn.org. See: https://github.com/scikit-learn/scikit-learn/issues/21755 */display: inline-block !important;position: relative;}#sk-container-id-1 div.sk-text-repr-fallback {display: none;}</style><div id=\"sk-container-id-1\" class=\"sk-top-container\"><div class=\"sk-text-repr-fallback\"><pre>Pipeline(steps=[(&#x27;scale&#x27;, None),\n",
       "                (&#x27;model&#x27;,\n",
       "                 LogisticRegression(l1_ratio=0.5, penalty=&#x27;elasticnet&#x27;,\n",
       "                                    solver=&#x27;saga&#x27;))])</pre><b>In a Jupyter environment, please rerun this cell to show the HTML representation or trust the notebook. <br />On GitHub, the HTML representation is unable to render, please try loading this page with nbviewer.org.</b></div><div class=\"sk-container\" hidden><div class=\"sk-item sk-dashed-wrapped\"><div class=\"sk-label-container\"><div class=\"sk-label sk-toggleable\"><input class=\"sk-toggleable__control sk-hidden--visually\" id=\"sk-estimator-id-1\" type=\"checkbox\" ><label for=\"sk-estimator-id-1\" class=\"sk-toggleable__label sk-toggleable__label-arrow\">Pipeline</label><div class=\"sk-toggleable__content\"><pre>Pipeline(steps=[(&#x27;scale&#x27;, None),\n",
       "                (&#x27;model&#x27;,\n",
       "                 LogisticRegression(l1_ratio=0.5, penalty=&#x27;elasticnet&#x27;,\n",
       "                                    solver=&#x27;saga&#x27;))])</pre></div></div></div><div class=\"sk-serial\"><div class=\"sk-item\"><div class=\"sk-estimator sk-toggleable\"><input class=\"sk-toggleable__control sk-hidden--visually\" id=\"sk-estimator-id-2\" type=\"checkbox\" ><label for=\"sk-estimator-id-2\" class=\"sk-toggleable__label sk-toggleable__label-arrow\">None</label><div class=\"sk-toggleable__content\"><pre>None</pre></div></div></div><div class=\"sk-item\"><div class=\"sk-estimator sk-toggleable\"><input class=\"sk-toggleable__control sk-hidden--visually\" id=\"sk-estimator-id-3\" type=\"checkbox\" ><label for=\"sk-estimator-id-3\" class=\"sk-toggleable__label sk-toggleable__label-arrow\">LogisticRegression</label><div class=\"sk-toggleable__content\"><pre>LogisticRegression(l1_ratio=0.5, penalty=&#x27;elasticnet&#x27;, solver=&#x27;saga&#x27;)</pre></div></div></div></div></div></div></div>"
      ],
      "text/plain": [
       "Pipeline(steps=[('scale', None),\n",
       "                ('model',\n",
       "                 LogisticRegression(l1_ratio=0.5, penalty='elasticnet',\n",
       "                                    solver='saga'))])"
      ]
     },
     "execution_count": 32,
     "metadata": {},
     "output_type": "execute_result"
    }
   ],
   "source": [
    "model.fit(X_train, y_train.values.ravel())"
   ]
  },
  {
   "cell_type": "code",
   "execution_count": 33,
   "id": "af59f8c0",
   "metadata": {
    "execution": {
     "iopub.execute_input": "2025-08-05T16:45:11.931619Z",
     "iopub.status.busy": "2025-08-05T16:45:11.930980Z",
     "iopub.status.idle": "2025-08-05T16:45:11.937699Z",
     "shell.execute_reply": "2025-08-05T16:45:11.936097Z"
    },
    "papermill": {
     "duration": 0.036917,
     "end_time": "2025-08-05T16:45:11.939836",
     "exception": false,
     "start_time": "2025-08-05T16:45:11.902919",
     "status": "completed"
    },
    "tags": []
   },
   "outputs": [],
   "source": [
    "from fairness_multiverse.universe import predict_w_threshold"
   ]
  },
  {
   "cell_type": "code",
   "execution_count": 34,
   "id": "a7cf2e16",
   "metadata": {
    "execution": {
     "iopub.execute_input": "2025-08-05T16:45:11.991788Z",
     "iopub.status.busy": "2025-08-05T16:45:11.990898Z",
     "iopub.status.idle": "2025-08-05T16:45:12.106960Z",
     "shell.execute_reply": "2025-08-05T16:45:12.105912Z"
    },
    "papermill": {
     "duration": 0.141512,
     "end_time": "2025-08-05T16:45:12.108851",
     "exception": false,
     "start_time": "2025-08-05T16:45:11.967339",
     "status": "completed"
    },
    "tags": []
   },
   "outputs": [
    {
     "data": {
      "text/plain": [
       "0.868152937242225"
      ]
     },
     "execution_count": 34,
     "metadata": {},
     "output_type": "execute_result"
    }
   ],
   "source": [
    "probs_test = model.predict_proba(X_test)\n",
    "\n",
    "'''\n",
    "Below code returns a boolean array (or binary 0/1 array depending on how it’s used) where each element \n",
    "is True if the probability of class 1 is greater than or equal to the threshold, and False otherwise.\n",
    "'''\n",
    "y_pred_default = predict_w_threshold(probs_test, 0.5)\n",
    "\n",
    "from sklearn.metrics import accuracy_score\n",
    "\n",
    "# Naive prediction\n",
    "accuracy_score(y_true = y_true, y_pred = y_pred_default)"
   ]
  },
  {
   "cell_type": "code",
   "execution_count": 35,
   "id": "081964c3",
   "metadata": {
    "execution": {
     "iopub.execute_input": "2025-08-05T16:45:12.157160Z",
     "iopub.status.busy": "2025-08-05T16:45:12.156343Z",
     "iopub.status.idle": "2025-08-05T16:45:12.250773Z",
     "shell.execute_reply": "2025-08-05T16:45:12.249561Z"
    },
    "papermill": {
     "duration": 0.120478,
     "end_time": "2025-08-05T16:45:12.252969",
     "exception": false,
     "start_time": "2025-08-05T16:45:12.132491",
     "status": "completed"
    },
    "tags": []
   },
   "outputs": [
    {
     "data": {
      "text/plain": [
       "array([0, 0, 0, ..., 0, 0, 0])"
      ]
     },
     "execution_count": 35,
     "metadata": {},
     "output_type": "execute_result"
    }
   ],
   "source": [
    "model.predict(X_test)"
   ]
  },
  {
   "cell_type": "markdown",
   "id": "56c9705b",
   "metadata": {
    "papermill": {
     "duration": 0.025415,
     "end_time": "2025-08-05T16:45:12.304313",
     "exception": false,
     "start_time": "2025-08-05T16:45:12.278898",
     "status": "completed"
    },
    "tags": []
   },
   "source": [
    "# Conformal Prediction"
   ]
  },
  {
   "cell_type": "code",
   "execution_count": 36,
   "id": "160ec6ff",
   "metadata": {
    "execution": {
     "iopub.execute_input": "2025-08-05T16:45:12.354199Z",
     "iopub.status.busy": "2025-08-05T16:45:12.353251Z",
     "iopub.status.idle": "2025-08-05T16:45:12.359820Z",
     "shell.execute_reply": "2025-08-05T16:45:12.358712Z"
    },
    "papermill": {
     "duration": 0.03391,
     "end_time": "2025-08-05T16:45:12.361826",
     "exception": false,
     "start_time": "2025-08-05T16:45:12.327916",
     "status": "completed"
    },
    "tags": []
   },
   "outputs": [],
   "source": [
    "# Miscoverage level for conformal prediction (10% allowed error rate => 90% target coverage)\n",
    "alpha = 0.1"
   ]
  },
  {
   "cell_type": "code",
   "execution_count": 37,
   "id": "eadf4555-3dd3-440e-8e35-f82a4ad9f855",
   "metadata": {
    "execution": {
     "iopub.execute_input": "2025-08-05T16:45:12.414938Z",
     "iopub.status.busy": "2025-08-05T16:45:12.414330Z",
     "iopub.status.idle": "2025-08-05T16:45:12.505314Z",
     "shell.execute_reply": "2025-08-05T16:45:12.504228Z"
    },
    "papermill": {
     "duration": 0.120096,
     "end_time": "2025-08-05T16:45:12.507526",
     "exception": false,
     "start_time": "2025-08-05T16:45:12.387430",
     "status": "completed"
    },
    "tags": []
   },
   "outputs": [],
   "source": [
    "probs_calib = model.predict_proba(X_calib)"
   ]
  },
  {
   "cell_type": "code",
   "execution_count": 38,
   "id": "2ed93547-6d5d-4983-9b36-1ecb300da49a",
   "metadata": {
    "execution": {
     "iopub.execute_input": "2025-08-05T16:45:12.556344Z",
     "iopub.status.busy": "2025-08-05T16:45:12.555410Z",
     "iopub.status.idle": "2025-08-05T16:45:12.562258Z",
     "shell.execute_reply": "2025-08-05T16:45:12.560994Z"
    },
    "papermill": {
     "duration": 0.033005,
     "end_time": "2025-08-05T16:45:12.564314",
     "exception": false,
     "start_time": "2025-08-05T16:45:12.531309",
     "status": "completed"
    },
    "tags": []
   },
   "outputs": [],
   "source": [
    "y_calib = y_calib.values.ravel().astype(int)"
   ]
  },
  {
   "cell_type": "code",
   "execution_count": 39,
   "id": "65d1320d-f588-4b38-9072-62af1ae97f7d",
   "metadata": {
    "execution": {
     "iopub.execute_input": "2025-08-05T16:45:12.615579Z",
     "iopub.status.busy": "2025-08-05T16:45:12.614708Z",
     "iopub.status.idle": "2025-08-05T16:45:12.624048Z",
     "shell.execute_reply": "2025-08-05T16:45:12.623032Z"
    },
    "papermill": {
     "duration": 0.035716,
     "end_time": "2025-08-05T16:45:12.625909",
     "exception": false,
     "start_time": "2025-08-05T16:45:12.590193",
     "status": "completed"
    },
    "tags": []
   },
   "outputs": [],
   "source": [
    "from fairness_multiverse.conformal import compute_nc_scores\n",
    "\n",
    "# Compute nonconformity scores on calibration set (1 - probability of true class)\n",
    "nc_scores = compute_nc_scores(probs_calib, y_calib)"
   ]
  },
  {
   "cell_type": "code",
   "execution_count": 40,
   "id": "df3b8ca3-53b7-43d5-9667-7c85da7aeda2",
   "metadata": {
    "execution": {
     "iopub.execute_input": "2025-08-05T16:45:12.676734Z",
     "iopub.status.busy": "2025-08-05T16:45:12.675845Z",
     "iopub.status.idle": "2025-08-05T16:45:12.683362Z",
     "shell.execute_reply": "2025-08-05T16:45:12.682248Z"
    },
    "papermill": {
     "duration": 0.042589,
     "end_time": "2025-08-05T16:45:12.692083",
     "exception": false,
     "start_time": "2025-08-05T16:45:12.649494",
     "status": "completed"
    },
    "tags": []
   },
   "outputs": [],
   "source": [
    "from fairness_multiverse.conformal import find_threshold\n",
    "\n",
    "# Find conformal threshold q_hat for the given alpha (split conformal method)\n",
    "q_hat = find_threshold(nc_scores, alpha)"
   ]
  },
  {
   "cell_type": "code",
   "execution_count": 41,
   "id": "4d29e6c1-0ef6-4aa4-b8fe-4fe79b0d033a",
   "metadata": {
    "execution": {
     "iopub.execute_input": "2025-08-05T16:45:12.758811Z",
     "iopub.status.busy": "2025-08-05T16:45:12.758196Z",
     "iopub.status.idle": "2025-08-05T16:45:12.767098Z",
     "shell.execute_reply": "2025-08-05T16:45:12.765986Z"
    },
    "papermill": {
     "duration": 0.041549,
     "end_time": "2025-08-05T16:45:12.769190",
     "exception": false,
     "start_time": "2025-08-05T16:45:12.727641",
     "status": "completed"
    },
    "tags": []
   },
   "outputs": [
    {
     "data": {
      "text/plain": [
       "0.6957712195242536"
      ]
     },
     "execution_count": 41,
     "metadata": {},
     "output_type": "execute_result"
    }
   ],
   "source": [
    "q_hat"
   ]
  },
  {
   "cell_type": "code",
   "execution_count": 42,
   "id": "92460794-cdac-4be2-ba28-f28c0515a6fb",
   "metadata": {
    "execution": {
     "iopub.execute_input": "2025-08-05T16:45:12.828136Z",
     "iopub.status.busy": "2025-08-05T16:45:12.826927Z",
     "iopub.status.idle": "2025-08-05T16:45:13.868265Z",
     "shell.execute_reply": "2025-08-05T16:45:13.866895Z"
    },
    "papermill": {
     "duration": 1.072708,
     "end_time": "2025-08-05T16:45:13.870902",
     "exception": false,
     "start_time": "2025-08-05T16:45:12.798194",
     "status": "completed"
    },
    "tags": []
   },
   "outputs": [],
   "source": [
    "from fairness_multiverse.conformal import predict_conformal_sets\n",
    "\n",
    "# Generate prediction sets for each test example\n",
    "pred_sets = predict_conformal_sets(model, X_test, q_hat)"
   ]
  },
  {
   "cell_type": "code",
   "execution_count": 43,
   "id": "d90c9a65-e6db-4f5d-80cd-e68fb7e46829",
   "metadata": {
    "execution": {
     "iopub.execute_input": "2025-08-05T16:45:13.934960Z",
     "iopub.status.busy": "2025-08-05T16:45:13.934166Z",
     "iopub.status.idle": "2025-08-05T16:45:13.942403Z",
     "shell.execute_reply": "2025-08-05T16:45:13.940859Z"
    },
    "papermill": {
     "duration": 0.04485,
     "end_time": "2025-08-05T16:45:13.944798",
     "exception": false,
     "start_time": "2025-08-05T16:45:13.899948",
     "status": "completed"
    },
    "tags": []
   },
   "outputs": [],
   "source": [
    "y_true = y_true.squeeze()"
   ]
  },
  {
   "cell_type": "code",
   "execution_count": 44,
   "id": "3a58a54a-1e68-46b9-927a-df01f18aebc8",
   "metadata": {
    "execution": {
     "iopub.execute_input": "2025-08-05T16:45:13.996394Z",
     "iopub.status.busy": "2025-08-05T16:45:13.995627Z",
     "iopub.status.idle": "2025-08-05T16:45:14.989373Z",
     "shell.execute_reply": "2025-08-05T16:45:14.988179Z"
    },
    "papermill": {
     "duration": 1.021032,
     "end_time": "2025-08-05T16:45:14.991650",
     "exception": false,
     "start_time": "2025-08-05T16:45:13.970618",
     "status": "completed"
    },
    "tags": []
   },
   "outputs": [],
   "source": [
    "from fairness_multiverse.conformal import evaluate_sets\n",
    "\n",
    "# Evaluate coverage and average set size on test data\n",
    "metrics = evaluate_sets(pred_sets, y_true)"
   ]
  },
  {
   "cell_type": "markdown",
   "id": "2b569c12-9aaa-4c88-98c9-bbcd0cf3ebb8",
   "metadata": {
    "papermill": {
     "duration": 0.023839,
     "end_time": "2025-08-05T16:45:15.039732",
     "exception": false,
     "start_time": "2025-08-05T16:45:15.015893",
     "status": "completed"
    },
    "tags": []
   },
   "source": [
    "# CP Metrics"
   ]
  },
  {
   "cell_type": "code",
   "execution_count": 45,
   "id": "5ce0a5cb-201f-45a0-ade5-94c7f0bd6095",
   "metadata": {
    "execution": {
     "iopub.execute_input": "2025-08-05T16:45:15.089243Z",
     "iopub.status.busy": "2025-08-05T16:45:15.088707Z",
     "iopub.status.idle": "2025-08-05T16:45:15.097160Z",
     "shell.execute_reply": "2025-08-05T16:45:15.095927Z"
    },
    "papermill": {
     "duration": 0.035754,
     "end_time": "2025-08-05T16:45:15.099353",
     "exception": false,
     "start_time": "2025-08-05T16:45:15.063599",
     "status": "completed"
    },
    "tags": []
   },
   "outputs": [
    {
     "data": {
      "text/plain": [
       "{'coverage': 0.9131200535057408, 'avg_size': 1.3289042470181696}"
      ]
     },
     "execution_count": 45,
     "metadata": {},
     "output_type": "execute_result"
    }
   ],
   "source": [
    "metrics"
   ]
  },
  {
   "cell_type": "code",
   "execution_count": 46,
   "id": "9b9a838d-31c9-430b-ae14-12baee460d17",
   "metadata": {
    "execution": {
     "iopub.execute_input": "2025-08-05T16:45:15.148172Z",
     "iopub.status.busy": "2025-08-05T16:45:15.147758Z",
     "iopub.status.idle": "2025-08-05T16:45:15.156786Z",
     "shell.execute_reply": "2025-08-05T16:45:15.155602Z"
    },
    "papermill": {
     "duration": 0.035956,
     "end_time": "2025-08-05T16:45:15.159052",
     "exception": false,
     "start_time": "2025-08-05T16:45:15.123096",
     "status": "completed"
    },
    "tags": []
   },
   "outputs": [],
   "source": [
    "example_universe = universe.copy()\n",
    "universe_training_year = example_universe.get(\"training_year\")\n",
    "universe_training_size = example_universe.get(\"training_size\")\n",
    "universe_scale = example_universe.get(\"scale\")\n",
    "universe_model = example_universe.get(\"model\")\n",
    "universe_exclude_features = example_universe.get(\"exclude_features\")\n",
    "universe_exclude_subgroups = example_universe.get(\"exclude_subgroups\")"
   ]
  },
  {
   "cell_type": "code",
   "execution_count": 47,
   "id": "f4b6a8ac-9dc0-4245-8a91-5b3b5999c4f9",
   "metadata": {
    "execution": {
     "iopub.execute_input": "2025-08-05T16:45:15.212884Z",
     "iopub.status.busy": "2025-08-05T16:45:15.212374Z",
     "iopub.status.idle": "2025-08-05T16:45:15.220100Z",
     "shell.execute_reply": "2025-08-05T16:45:15.219060Z"
    },
    "papermill": {
     "duration": 0.035533,
     "end_time": "2025-08-05T16:45:15.221969",
     "exception": false,
     "start_time": "2025-08-05T16:45:15.186436",
     "status": "completed"
    },
    "tags": []
   },
   "outputs": [],
   "source": [
    "cp_metrics_dict = {\n",
    "    \"universe_id\": [universe_id],\n",
    "    \"universe_training_year\": [universe_training_year],\n",
    "    \"universe_training_size\": [universe_training_size],\n",
    "    \"universe_scale\": [universe_scale],\n",
    "    \"universe_model\": [universe_model],\n",
    "    \"universe_exclude_features\": [universe_exclude_features],\n",
    "    \"universe_exclude_subgroups\": [universe_exclude_subgroups],\n",
    "    \"q_hat\": [q_hat],\n",
    "    \"coverage\": [metrics[\"coverage\"]],\n",
    "    \"avg_size\": [metrics[\"avg_size\"]],\n",
    "}"
   ]
  },
  {
   "cell_type": "code",
   "execution_count": 48,
   "id": "908acbb1-0371-4915-85ca-3fa520d2efe2",
   "metadata": {
    "execution": {
     "iopub.execute_input": "2025-08-05T16:45:15.272168Z",
     "iopub.status.busy": "2025-08-05T16:45:15.271625Z",
     "iopub.status.idle": "2025-08-05T16:45:15.280566Z",
     "shell.execute_reply": "2025-08-05T16:45:15.279403Z"
    },
    "papermill": {
     "duration": 0.036451,
     "end_time": "2025-08-05T16:45:15.282552",
     "exception": false,
     "start_time": "2025-08-05T16:45:15.246101",
     "status": "completed"
    },
    "tags": []
   },
   "outputs": [
    {
     "data": {
      "text/plain": [
       "{'universe_id': ['d975de0840374af7a176eb2bfcdb2ec1'],\n",
       " 'universe_training_year': ['2010_14'],\n",
       " 'universe_training_size': ['1k'],\n",
       " 'universe_scale': ['do-not-scale'],\n",
       " 'universe_model': ['elasticnet'],\n",
       " 'universe_exclude_features': ['sex'],\n",
       " 'universe_exclude_subgroups': ['drop-non-german'],\n",
       " 'q_hat': [0.6957712195242536],\n",
       " 'coverage': [0.9131200535057408],\n",
       " 'avg_size': [1.3289042470181696]}"
      ]
     },
     "execution_count": 48,
     "metadata": {},
     "output_type": "execute_result"
    }
   ],
   "source": [
    "cp_metrics_dict"
   ]
  },
  {
   "cell_type": "code",
   "execution_count": 49,
   "id": "33007efc-14e9-4ec6-97ac-56a455c82265",
   "metadata": {
    "execution": {
     "iopub.execute_input": "2025-08-05T16:45:15.340391Z",
     "iopub.status.busy": "2025-08-05T16:45:15.339817Z",
     "iopub.status.idle": "2025-08-05T16:45:15.347179Z",
     "shell.execute_reply": "2025-08-05T16:45:15.345960Z"
    },
    "papermill": {
     "duration": 0.040778,
     "end_time": "2025-08-05T16:45:15.349138",
     "exception": false,
     "start_time": "2025-08-05T16:45:15.308360",
     "status": "completed"
    },
    "tags": []
   },
   "outputs": [],
   "source": [
    "cp_metrics_df = pd.DataFrame(cp_metrics_dict)"
   ]
  },
  {
   "cell_type": "code",
   "execution_count": 50,
   "id": "db12611b-57b2-4910-b9d0-355adfd6e7bf",
   "metadata": {
    "execution": {
     "iopub.execute_input": "2025-08-05T16:45:15.403118Z",
     "iopub.status.busy": "2025-08-05T16:45:15.402036Z",
     "iopub.status.idle": "2025-08-05T16:45:15.424143Z",
     "shell.execute_reply": "2025-08-05T16:45:15.423052Z"
    },
    "papermill": {
     "duration": 0.051046,
     "end_time": "2025-08-05T16:45:15.426219",
     "exception": false,
     "start_time": "2025-08-05T16:45:15.375173",
     "status": "completed"
    },
    "tags": []
   },
   "outputs": [
    {
     "data": {
      "text/html": [
       "<div>\n",
       "<style scoped>\n",
       "    .dataframe tbody tr th:only-of-type {\n",
       "        vertical-align: middle;\n",
       "    }\n",
       "\n",
       "    .dataframe tbody tr th {\n",
       "        vertical-align: top;\n",
       "    }\n",
       "\n",
       "    .dataframe thead th {\n",
       "        text-align: right;\n",
       "    }\n",
       "</style>\n",
       "<table border=\"1\" class=\"dataframe\">\n",
       "  <thead>\n",
       "    <tr style=\"text-align: right;\">\n",
       "      <th></th>\n",
       "      <th>universe_id</th>\n",
       "      <th>universe_training_year</th>\n",
       "      <th>universe_training_size</th>\n",
       "      <th>universe_scale</th>\n",
       "      <th>universe_model</th>\n",
       "      <th>universe_exclude_features</th>\n",
       "      <th>universe_exclude_subgroups</th>\n",
       "      <th>q_hat</th>\n",
       "      <th>coverage</th>\n",
       "      <th>avg_size</th>\n",
       "    </tr>\n",
       "  </thead>\n",
       "  <tbody>\n",
       "    <tr>\n",
       "      <th>0</th>\n",
       "      <td>d975de0840374af7a176eb2bfcdb2ec1</td>\n",
       "      <td>2010_14</td>\n",
       "      <td>1k</td>\n",
       "      <td>do-not-scale</td>\n",
       "      <td>elasticnet</td>\n",
       "      <td>sex</td>\n",
       "      <td>drop-non-german</td>\n",
       "      <td>0.695771</td>\n",
       "      <td>0.91312</td>\n",
       "      <td>1.328904</td>\n",
       "    </tr>\n",
       "  </tbody>\n",
       "</table>\n",
       "</div>"
      ],
      "text/plain": [
       "                        universe_id universe_training_year  \\\n",
       "0  d975de0840374af7a176eb2bfcdb2ec1                2010_14   \n",
       "\n",
       "  universe_training_size universe_scale universe_model  \\\n",
       "0                     1k   do-not-scale     elasticnet   \n",
       "\n",
       "  universe_exclude_features universe_exclude_subgroups     q_hat  coverage  \\\n",
       "0                       sex            drop-non-german  0.695771   0.91312   \n",
       "\n",
       "   avg_size  \n",
       "0  1.328904  "
      ]
     },
     "execution_count": 50,
     "metadata": {},
     "output_type": "execute_result"
    }
   ],
   "source": [
    "cp_metrics_df"
   ]
  },
  {
   "cell_type": "code",
   "execution_count": 51,
   "id": "b7fbde55-a0a1-47e4-9af6-fe4a17fa8c61",
   "metadata": {
    "execution": {
     "iopub.execute_input": "2025-08-05T16:45:15.490109Z",
     "iopub.status.busy": "2025-08-05T16:45:15.489064Z",
     "iopub.status.idle": "2025-08-05T16:45:15.495380Z",
     "shell.execute_reply": "2025-08-05T16:45:15.494198Z"
    },
    "papermill": {
     "duration": 0.040247,
     "end_time": "2025-08-05T16:45:15.497319",
     "exception": false,
     "start_time": "2025-08-05T16:45:15.457072",
     "status": "completed"
    },
    "tags": []
   },
   "outputs": [],
   "source": [
    "# Conditional Coverage & looking at subgroups"
   ]
  },
  {
   "cell_type": "code",
   "execution_count": 52,
   "id": "027ae886-68dd-4141-96c7-805a5450e1ef",
   "metadata": {
    "execution": {
     "iopub.execute_input": "2025-08-05T16:45:15.559190Z",
     "iopub.status.busy": "2025-08-05T16:45:15.558631Z",
     "iopub.status.idle": "2025-08-05T16:45:15.853294Z",
     "shell.execute_reply": "2025-08-05T16:45:15.851899Z"
    },
    "papermill": {
     "duration": 0.327092,
     "end_time": "2025-08-05T16:45:15.855200",
     "exception": false,
     "start_time": "2025-08-05T16:45:15.528108",
     "status": "completed"
    },
    "tags": []
   },
   "outputs": [],
   "source": [
    "from fairness_multiverse.conformal import build_cp_groups\n",
    "\n",
    "cp_groups_df = build_cp_groups(pred_sets, y_true, X_test.index, org_test)\n",
    "#needs universe_id and setting"
   ]
  },
  {
   "cell_type": "code",
   "execution_count": 53,
   "id": "6cbdab96-b2b2-45af-ad54-d0516db2e28d",
   "metadata": {
    "execution": {
     "iopub.execute_input": "2025-08-05T16:45:15.916946Z",
     "iopub.status.busy": "2025-08-05T16:45:15.916205Z",
     "iopub.status.idle": "2025-08-05T16:45:17.856462Z",
     "shell.execute_reply": "2025-08-05T16:45:17.855293Z"
    },
    "papermill": {
     "duration": 1.974179,
     "end_time": "2025-08-05T16:45:17.858779",
     "exception": false,
     "start_time": "2025-08-05T16:45:15.884600",
     "status": "completed"
    },
    "tags": []
   },
   "outputs": [],
   "source": [
    "# Define covered = 1 if true_label is in the predicted set\n",
    "cp_groups_df['covered'] = cp_groups_df.apply(\n",
    "    lambda r: int(r['true_label'] in r['pred_set']),\n",
    "    axis=1\n",
    ")"
   ]
  },
  {
   "cell_type": "code",
   "execution_count": 54,
   "id": "338ff529-1a6b-4b87-a931-8e4788d52aad",
   "metadata": {
    "execution": {
     "iopub.execute_input": "2025-08-05T16:45:17.917937Z",
     "iopub.status.busy": "2025-08-05T16:45:17.916926Z",
     "iopub.status.idle": "2025-08-05T16:45:17.922977Z",
     "shell.execute_reply": "2025-08-05T16:45:17.921871Z"
    },
    "papermill": {
     "duration": 0.03702,
     "end_time": "2025-08-05T16:45:17.924856",
     "exception": false,
     "start_time": "2025-08-05T16:45:17.887836",
     "status": "completed"
    },
    "tags": []
   },
   "outputs": [],
   "source": [
    "#cp_groups_df"
   ]
  },
  {
   "cell_type": "code",
   "execution_count": 55,
   "id": "90032e27-66df-4540-9169-4e89cfbaa758",
   "metadata": {
    "execution": {
     "iopub.execute_input": "2025-08-05T16:45:17.983679Z",
     "iopub.status.busy": "2025-08-05T16:45:17.983034Z",
     "iopub.status.idle": "2025-08-05T16:45:17.996273Z",
     "shell.execute_reply": "2025-08-05T16:45:17.995078Z"
    },
    "papermill": {
     "duration": 0.045592,
     "end_time": "2025-08-05T16:45:17.998289",
     "exception": false,
     "start_time": "2025-08-05T16:45:17.952697",
     "status": "completed"
    },
    "tags": []
   },
   "outputs": [],
   "source": [
    "subgroups = ['frau1','nongerman','nongerman_male','nongerman_female']\n",
    "\n",
    "# Conditional coverage for subgroup==1\n",
    "cond_coverage = {\n",
    "    g: cp_groups_df.loc[cp_groups_df[g]==1, 'covered'].mean()\n",
    "    for g in subgroups\n",
    "}"
   ]
  },
  {
   "cell_type": "code",
   "execution_count": 56,
   "id": "1e348fb1-b9c3-45bc-ba23-f016827a7e0d",
   "metadata": {
    "execution": {
     "iopub.execute_input": "2025-08-05T16:45:18.059381Z",
     "iopub.status.busy": "2025-08-05T16:45:18.058743Z",
     "iopub.status.idle": "2025-08-05T16:45:18.068230Z",
     "shell.execute_reply": "2025-08-05T16:45:18.066802Z"
    },
    "papermill": {
     "duration": 0.042082,
     "end_time": "2025-08-05T16:45:18.070578",
     "exception": false,
     "start_time": "2025-08-05T16:45:18.028496",
     "status": "completed"
    },
    "tags": []
   },
   "outputs": [
    {
     "data": {
      "text/plain": [
       "{'frau1': 0.9127645235206902,\n",
       " 'nongerman': 0.972548138999607,\n",
       " 'nongerman_male': 0.9796451409528956,\n",
       " 'nongerman_female': 0.9608047690014904}"
      ]
     },
     "execution_count": 56,
     "metadata": {},
     "output_type": "execute_result"
    }
   ],
   "source": [
    "cond_coverage"
   ]
  },
  {
   "cell_type": "code",
   "execution_count": 57,
   "id": "f5093324-c3dd-4d63-bc4c-8d945e5c8bbb",
   "metadata": {
    "execution": {
     "iopub.execute_input": "2025-08-05T16:45:18.133369Z",
     "iopub.status.busy": "2025-08-05T16:45:18.132295Z",
     "iopub.status.idle": "2025-08-05T16:45:18.140732Z",
     "shell.execute_reply": "2025-08-05T16:45:18.139593Z"
    },
    "papermill": {
     "duration": 0.037582,
     "end_time": "2025-08-05T16:45:18.142598",
     "exception": false,
     "start_time": "2025-08-05T16:45:18.105016",
     "status": "completed"
    },
    "tags": []
   },
   "outputs": [],
   "source": [
    "for subgroup, cov in cond_coverage.items():\n",
    "    cp_metrics_df[f\"cov_{subgroup}\"] = cov"
   ]
  },
  {
   "cell_type": "code",
   "execution_count": 58,
   "id": "6e872e10-dbe5-49e8-b554-5030c98ff75d",
   "metadata": {
    "execution": {
     "iopub.execute_input": "2025-08-05T16:45:18.201394Z",
     "iopub.status.busy": "2025-08-05T16:45:18.200494Z",
     "iopub.status.idle": "2025-08-05T16:45:18.221887Z",
     "shell.execute_reply": "2025-08-05T16:45:18.220760Z"
    },
    "papermill": {
     "duration": 0.052735,
     "end_time": "2025-08-05T16:45:18.223734",
     "exception": false,
     "start_time": "2025-08-05T16:45:18.170999",
     "status": "completed"
    },
    "tags": []
   },
   "outputs": [
    {
     "data": {
      "text/html": [
       "<div>\n",
       "<style scoped>\n",
       "    .dataframe tbody tr th:only-of-type {\n",
       "        vertical-align: middle;\n",
       "    }\n",
       "\n",
       "    .dataframe tbody tr th {\n",
       "        vertical-align: top;\n",
       "    }\n",
       "\n",
       "    .dataframe thead th {\n",
       "        text-align: right;\n",
       "    }\n",
       "</style>\n",
       "<table border=\"1\" class=\"dataframe\">\n",
       "  <thead>\n",
       "    <tr style=\"text-align: right;\">\n",
       "      <th></th>\n",
       "      <th>universe_id</th>\n",
       "      <th>universe_training_year</th>\n",
       "      <th>universe_training_size</th>\n",
       "      <th>universe_scale</th>\n",
       "      <th>universe_model</th>\n",
       "      <th>universe_exclude_features</th>\n",
       "      <th>universe_exclude_subgroups</th>\n",
       "      <th>q_hat</th>\n",
       "      <th>coverage</th>\n",
       "      <th>avg_size</th>\n",
       "      <th>cov_frau1</th>\n",
       "      <th>cov_nongerman</th>\n",
       "      <th>cov_nongerman_male</th>\n",
       "      <th>cov_nongerman_female</th>\n",
       "    </tr>\n",
       "  </thead>\n",
       "  <tbody>\n",
       "    <tr>\n",
       "      <th>0</th>\n",
       "      <td>d975de0840374af7a176eb2bfcdb2ec1</td>\n",
       "      <td>2010_14</td>\n",
       "      <td>1k</td>\n",
       "      <td>do-not-scale</td>\n",
       "      <td>elasticnet</td>\n",
       "      <td>sex</td>\n",
       "      <td>drop-non-german</td>\n",
       "      <td>0.695771</td>\n",
       "      <td>0.91312</td>\n",
       "      <td>1.328904</td>\n",
       "      <td>0.912765</td>\n",
       "      <td>0.972548</td>\n",
       "      <td>0.979645</td>\n",
       "      <td>0.960805</td>\n",
       "    </tr>\n",
       "  </tbody>\n",
       "</table>\n",
       "</div>"
      ],
      "text/plain": [
       "                        universe_id universe_training_year  \\\n",
       "0  d975de0840374af7a176eb2bfcdb2ec1                2010_14   \n",
       "\n",
       "  universe_training_size universe_scale universe_model  \\\n",
       "0                     1k   do-not-scale     elasticnet   \n",
       "\n",
       "  universe_exclude_features universe_exclude_subgroups     q_hat  coverage  \\\n",
       "0                       sex            drop-non-german  0.695771   0.91312   \n",
       "\n",
       "   avg_size  cov_frau1  cov_nongerman  cov_nongerman_male  \\\n",
       "0  1.328904   0.912765       0.972548            0.979645   \n",
       "\n",
       "   cov_nongerman_female  \n",
       "0              0.960805  "
      ]
     },
     "execution_count": 58,
     "metadata": {},
     "output_type": "execute_result"
    }
   ],
   "source": [
    "cp_metrics_df"
   ]
  },
  {
   "cell_type": "markdown",
   "id": "33774451",
   "metadata": {
    "papermill": {
     "duration": 0.028676,
     "end_time": "2025-08-05T16:45:18.281535",
     "exception": false,
     "start_time": "2025-08-05T16:45:18.252859",
     "status": "completed"
    },
    "tags": []
   },
   "source": [
    "# (Fairness) Metrics"
   ]
  },
  {
   "cell_type": "code",
   "execution_count": 59,
   "id": "debc5d62",
   "metadata": {
    "execution": {
     "iopub.execute_input": "2025-08-05T16:45:18.341666Z",
     "iopub.status.busy": "2025-08-05T16:45:18.340635Z",
     "iopub.status.idle": "2025-08-05T16:45:18.365731Z",
     "shell.execute_reply": "2025-08-05T16:45:18.364675Z"
    },
    "papermill": {
     "duration": 0.057585,
     "end_time": "2025-08-05T16:45:18.368080",
     "exception": false,
     "start_time": "2025-08-05T16:45:18.310495",
     "status": "completed"
    },
    "tags": []
   },
   "outputs": [],
   "source": [
    "# do I need to include maxdeutsch1.missing?\n",
    "\n",
    "import numpy as np\n",
    "\n",
    "colname_to_bin = \"maxdeutsch1\"\n",
    "majority_value = org_train[colname_to_bin].mode()[0]\n",
    "\n",
    "org_test[\"majmin\"] = np.where(org_test[colname_to_bin] == majority_value, \"majority\", \"minority\")"
   ]
  },
  {
   "cell_type": "code",
   "execution_count": 60,
   "id": "06a50de5",
   "metadata": {
    "execution": {
     "iopub.execute_input": "2025-08-05T16:45:18.429057Z",
     "iopub.status.busy": "2025-08-05T16:45:18.428528Z",
     "iopub.status.idle": "2025-08-05T16:45:21.769329Z",
     "shell.execute_reply": "2025-08-05T16:45:21.768464Z"
    },
    "papermill": {
     "duration": 3.373364,
     "end_time": "2025-08-05T16:45:21.771028",
     "exception": false,
     "start_time": "2025-08-05T16:45:18.397664",
     "status": "completed"
    },
    "tags": []
   },
   "outputs": [],
   "source": [
    "example_universe = universe.copy()\n",
    "example_universe[\"cutoff\"] = example_universe[\"cutoff\"][0]\n",
    "example_universe[\"eval_fairness_grouping\"] = example_universe[\"eval_fairness_grouping\"][0]\n",
    "fairness_dict, metric_frame = universe_analysis.compute_metrics(\n",
    "    example_universe,\n",
    "    y_pred_prob=probs_test,\n",
    "    y_test=y_true,\n",
    "    org_test=org_test,\n",
    ")"
   ]
  },
  {
   "cell_type": "markdown",
   "id": "f95d4e02",
   "metadata": {
    "papermill": {
     "duration": 0.014324,
     "end_time": "2025-08-05T16:45:21.800739",
     "exception": false,
     "start_time": "2025-08-05T16:45:21.786415",
     "status": "completed"
    },
    "tags": []
   },
   "source": [
    "# Overall"
   ]
  },
  {
   "cell_type": "markdown",
   "id": "bdee4871",
   "metadata": {
    "papermill": {
     "duration": 0.01403,
     "end_time": "2025-08-05T16:45:21.829163",
     "exception": false,
     "start_time": "2025-08-05T16:45:21.815133",
     "status": "completed"
    },
    "tags": []
   },
   "source": [
    "Fairness\n",
    "Main fairness target: Equalized Odds. Seems to be a better fit than equal opportunity, since we're not only interested in Y = 1. Seems to be a better fit than demographic parity, since we also care about accuracy, not just equal distribution of preds.\n",
    "\n",
    "Pick column for computation of fairness metrics\n",
    "\n",
    "Performance\n",
    "Overall performance measures, most interesting in relation to the measures split by group below"
   ]
  },
  {
   "cell_type": "code",
   "execution_count": 61,
   "id": "c4e067c6",
   "metadata": {
    "execution": {
     "iopub.execute_input": "2025-08-05T16:45:21.859669Z",
     "iopub.status.busy": "2025-08-05T16:45:21.858871Z",
     "iopub.status.idle": "2025-08-05T16:45:21.866925Z",
     "shell.execute_reply": "2025-08-05T16:45:21.866012Z"
    },
    "papermill": {
     "duration": 0.024951,
     "end_time": "2025-08-05T16:45:21.868418",
     "exception": false,
     "start_time": "2025-08-05T16:45:21.843467",
     "status": "completed"
    },
    "tags": []
   },
   "outputs": [
    {
     "data": {
      "text/plain": [
       "accuracy                   0.205406\n",
       "balanced accuracy          0.506220\n",
       "f1                         0.227259\n",
       "precision                  0.129826\n",
       "false positive rate        0.898404\n",
       "false negative rate        0.089155\n",
       "selection rate             0.900000\n",
       "count                  89710.000000\n",
       "dtype: float64"
      ]
     },
     "execution_count": 61,
     "metadata": {},
     "output_type": "execute_result"
    }
   ],
   "source": [
    "metric_frame.overall"
   ]
  },
  {
   "cell_type": "markdown",
   "id": "e968fe9d",
   "metadata": {
    "papermill": {
     "duration": 0.014071,
     "end_time": "2025-08-05T16:45:21.897107",
     "exception": false,
     "start_time": "2025-08-05T16:45:21.883036",
     "status": "completed"
    },
    "tags": []
   },
   "source": [
    "By Group"
   ]
  },
  {
   "cell_type": "code",
   "execution_count": 62,
   "id": "ec325bce",
   "metadata": {
    "execution": {
     "iopub.execute_input": "2025-08-05T16:45:21.928405Z",
     "iopub.status.busy": "2025-08-05T16:45:21.927780Z",
     "iopub.status.idle": "2025-08-05T16:45:21.941628Z",
     "shell.execute_reply": "2025-08-05T16:45:21.940805Z"
    },
    "papermill": {
     "duration": 0.031707,
     "end_time": "2025-08-05T16:45:21.943231",
     "exception": false,
     "start_time": "2025-08-05T16:45:21.911524",
     "status": "completed"
    },
    "tags": []
   },
   "outputs": [
    {
     "data": {
      "text/html": [
       "<div>\n",
       "<style scoped>\n",
       "    .dataframe tbody tr th:only-of-type {\n",
       "        vertical-align: middle;\n",
       "    }\n",
       "\n",
       "    .dataframe tbody tr th {\n",
       "        vertical-align: top;\n",
       "    }\n",
       "\n",
       "    .dataframe thead th {\n",
       "        text-align: right;\n",
       "    }\n",
       "</style>\n",
       "<table border=\"1\" class=\"dataframe\">\n",
       "  <thead>\n",
       "    <tr style=\"text-align: right;\">\n",
       "      <th></th>\n",
       "      <th>accuracy</th>\n",
       "      <th>balanced accuracy</th>\n",
       "      <th>f1</th>\n",
       "      <th>precision</th>\n",
       "      <th>false positive rate</th>\n",
       "      <th>false negative rate</th>\n",
       "      <th>selection rate</th>\n",
       "      <th>count</th>\n",
       "    </tr>\n",
       "    <tr>\n",
       "      <th>majmin</th>\n",
       "      <th></th>\n",
       "      <th></th>\n",
       "      <th></th>\n",
       "      <th></th>\n",
       "      <th></th>\n",
       "      <th></th>\n",
       "      <th></th>\n",
       "      <th></th>\n",
       "    </tr>\n",
       "  </thead>\n",
       "  <tbody>\n",
       "    <tr>\n",
       "      <th>majority</th>\n",
       "      <td>0.225242</td>\n",
       "      <td>0.508934</td>\n",
       "      <td>0.233794</td>\n",
       "      <td>0.134469</td>\n",
       "      <td>0.876662</td>\n",
       "      <td>0.105470</td>\n",
       "      <td>0.879023</td>\n",
       "      <td>69170.0</td>\n",
       "    </tr>\n",
       "    <tr>\n",
       "      <th>minority</th>\n",
       "      <td>0.138608</td>\n",
       "      <td>0.501794</td>\n",
       "      <td>0.206770</td>\n",
       "      <td>0.115664</td>\n",
       "      <td>0.970229</td>\n",
       "      <td>0.026182</td>\n",
       "      <td>0.970643</td>\n",
       "      <td>20540.0</td>\n",
       "    </tr>\n",
       "  </tbody>\n",
       "</table>\n",
       "</div>"
      ],
      "text/plain": [
       "          accuracy  balanced accuracy        f1  precision  \\\n",
       "majmin                                                       \n",
       "majority  0.225242           0.508934  0.233794   0.134469   \n",
       "minority  0.138608           0.501794  0.206770   0.115664   \n",
       "\n",
       "          false positive rate  false negative rate  selection rate    count  \n",
       "majmin                                                                       \n",
       "majority             0.876662             0.105470        0.879023  69170.0  \n",
       "minority             0.970229             0.026182        0.970643  20540.0  "
      ]
     },
     "execution_count": 62,
     "metadata": {},
     "output_type": "execute_result"
    }
   ],
   "source": [
    "metric_frame.by_group"
   ]
  },
  {
   "cell_type": "code",
   "execution_count": 63,
   "id": "a9ddbe63",
   "metadata": {
    "execution": {
     "iopub.execute_input": "2025-08-05T16:45:21.974248Z",
     "iopub.status.busy": "2025-08-05T16:45:21.973608Z",
     "iopub.status.idle": "2025-08-05T16:45:23.903228Z",
     "shell.execute_reply": "2025-08-05T16:45:23.902360Z"
    },
    "papermill": {
     "duration": 1.946717,
     "end_time": "2025-08-05T16:45:23.905030",
     "exception": false,
     "start_time": "2025-08-05T16:45:21.958313",
     "status": "completed"
    },
    "tags": []
   },
   "outputs": [
    {
     "data": {
      "text/plain": [
       "array([[<Axes: title={'center': 'accuracy'}, xlabel='majmin'>,\n",
       "        <Axes: title={'center': 'balanced accuracy'}, xlabel='majmin'>,\n",
       "        <Axes: title={'center': 'f1'}, xlabel='majmin'>],\n",
       "       [<Axes: title={'center': 'precision'}, xlabel='majmin'>,\n",
       "        <Axes: title={'center': 'false positive rate'}, xlabel='majmin'>,\n",
       "        <Axes: title={'center': 'false negative rate'}, xlabel='majmin'>],\n",
       "       [<Axes: title={'center': 'selection rate'}, xlabel='majmin'>,\n",
       "        <Axes: title={'center': 'count'}, xlabel='majmin'>,\n",
       "        <Axes: xlabel='majmin'>]], dtype=object)"
      ]
     },
     "execution_count": 63,
     "metadata": {},
     "output_type": "execute_result"
    },
    {
     "data": {
      "image/png": "[encoded data removed]",
      "text/plain": [
       "<Figure size 1200x800 with 9 Axes>"
      ]
     },
     "metadata": {},
     "output_type": "display_data"
    }
   ],
   "source": [
    "# In a graphic\n",
    "metric_frame.by_group.plot.bar(\n",
    "    subplots=True,\n",
    "    layout=[3, 3],\n",
    "    legend=False,\n",
    "    figsize=[12, 8],\n",
    "    title=\"Show all metrics\",\n",
    ")"
   ]
  },
  {
   "cell_type": "markdown",
   "id": "f57a0bac",
   "metadata": {
    "papermill": {
     "duration": 0.016176,
     "end_time": "2025-08-05T16:45:23.983134",
     "exception": false,
     "start_time": "2025-08-05T16:45:23.966958",
     "status": "completed"
    },
    "tags": []
   },
   "source": [
    "# Final Output"
   ]
  },
  {
   "cell_type": "code",
   "execution_count": 64,
   "id": "96d280a3",
   "metadata": {
    "execution": {
     "iopub.execute_input": "2025-08-05T16:45:24.016373Z",
     "iopub.status.busy": "2025-08-05T16:45:24.015816Z",
     "iopub.status.idle": "2025-08-05T16:45:24.027065Z",
     "shell.execute_reply": "2025-08-05T16:45:24.025787Z"
    },
    "papermill": {
     "duration": 0.030242,
     "end_time": "2025-08-05T16:45:24.029152",
     "exception": false,
     "start_time": "2025-08-05T16:45:23.998910",
     "status": "completed"
    },
    "tags": []
   },
   "outputs": [
    {
     "data": {
      "text/plain": [
       "4"
      ]
     },
     "execution_count": 64,
     "metadata": {},
     "output_type": "execute_result"
    }
   ],
   "source": [
    "sub_universes = universe_analysis.generate_sub_universes()\n",
    "len(sub_universes)"
   ]
  },
  {
   "cell_type": "code",
   "execution_count": 65,
   "id": "92adf7ba",
   "metadata": {
    "execution": {
     "iopub.execute_input": "2025-08-05T16:45:24.089007Z",
     "iopub.status.busy": "2025-08-05T16:45:24.087895Z",
     "iopub.status.idle": "2025-08-05T16:45:24.172165Z",
     "shell.execute_reply": "2025-08-05T16:45:24.170902Z"
    },
    "papermill": {
     "duration": 0.11664,
     "end_time": "2025-08-05T16:45:24.174335",
     "exception": false,
     "start_time": "2025-08-05T16:45:24.057695",
     "status": "completed"
    },
    "tags": []
   },
   "outputs": [],
   "source": [
    "def filter_sub_universe_data(sub_universe, org_test):\n",
    "    # Keep all rows — no filtering\n",
    "    keep_rows_mask = np.ones(org_test.shape[0], dtype=bool)\n",
    "\n",
    "    print(f\"[INFO] Keeping all rows: {keep_rows_mask.sum()} rows retained.\")\n",
    "    return keep_rows_mask"
   ]
  },
  {
   "cell_type": "code",
   "execution_count": 66,
   "id": "4a759155",
   "metadata": {
    "execution": {
     "iopub.execute_input": "2025-08-05T16:45:24.241362Z",
     "iopub.status.busy": "2025-08-05T16:45:24.240330Z",
     "iopub.status.idle": "2025-08-05T16:45:35.160825Z",
     "shell.execute_reply": "2025-08-05T16:45:35.159543Z"
    },
    "papermill": {
     "duration": 10.955115,
     "end_time": "2025-08-05T16:45:35.162450",
     "exception": false,
     "start_time": "2025-08-05T16:45:24.207335",
     "status": "completed"
    },
    "tags": []
   },
   "outputs": [
    {
     "name": "stdout",
     "output_type": "stream",
     "text": [
      "Stopping execution_time clock.\n",
      "[INFO] Keeping all rows: 89710 rows retained.\n"
     ]
    },
    {
     "name": "stdout",
     "output_type": "stream",
     "text": [
      "[INFO] Keeping all rows: 89710 rows retained.\n"
     ]
    },
    {
     "name": "stdout",
     "output_type": "stream",
     "text": [
      "[INFO] Keeping all rows: 89710 rows retained.\n"
     ]
    },
    {
     "name": "stdout",
     "output_type": "stream",
     "text": [
      "[INFO] Keeping all rows: 89710 rows retained.\n"
     ]
    },
    {
     "data": {
      "text/html": [
       "<div>\n",
       "<style scoped>\n",
       "    .dataframe tbody tr th:only-of-type {\n",
       "        vertical-align: middle;\n",
       "    }\n",
       "\n",
       "    .dataframe tbody tr th {\n",
       "        vertical-align: top;\n",
       "    }\n",
       "\n",
       "    .dataframe thead th {\n",
       "        text-align: right;\n",
       "    }\n",
       "</style>\n",
       "<table border=\"1\" class=\"dataframe\">\n",
       "  <thead>\n",
       "    <tr style=\"text-align: right;\">\n",
       "      <th></th>\n",
       "      <th>run_no</th>\n",
       "      <th>universe_id</th>\n",
       "      <th>universe_settings</th>\n",
       "      <th>execution_time</th>\n",
       "      <th>test_size_n</th>\n",
       "      <th>test_size_frac</th>\n",
       "      <th>fair_main_equalized_odds_difference</th>\n",
       "      <th>fair_main_equalized_odds_ratio</th>\n",
       "      <th>fair_main_demographic_parity_difference</th>\n",
       "      <th>fair_main_demographic_parity_ratio</th>\n",
       "      <th>...</th>\n",
       "      <th>perf_grp_precision_0</th>\n",
       "      <th>perf_grp_precision_1</th>\n",
       "      <th>perf_grp_false positive rate_0</th>\n",
       "      <th>perf_grp_false positive rate_1</th>\n",
       "      <th>perf_grp_false negative rate_0</th>\n",
       "      <th>perf_grp_false negative rate_1</th>\n",
       "      <th>perf_grp_selection rate_0</th>\n",
       "      <th>perf_grp_selection rate_1</th>\n",
       "      <th>perf_grp_count_0</th>\n",
       "      <th>perf_grp_count_1</th>\n",
       "    </tr>\n",
       "  </thead>\n",
       "  <tbody>\n",
       "    <tr>\n",
       "      <th>0</th>\n",
       "      <td>15</td>\n",
       "      <td>d975de0840374af7a176eb2bfcdb2ec1</td>\n",
       "      <td>{\"cutoff\": \"quantile_0.1\", \"eval_fairness_grou...</td>\n",
       "      <td>29.415071</td>\n",
       "      <td>89710</td>\n",
       "      <td>1.0</td>\n",
       "      <td>0.093567</td>\n",
       "      <td>0.903562</td>\n",
       "      <td>0.091620</td>\n",
       "      <td>0.905609</td>\n",
       "      <td>...</td>\n",
       "      <td>NaN</td>\n",
       "      <td>NaN</td>\n",
       "      <td>NaN</td>\n",
       "      <td>NaN</td>\n",
       "      <td>NaN</td>\n",
       "      <td>NaN</td>\n",
       "      <td>NaN</td>\n",
       "      <td>NaN</td>\n",
       "      <td>NaN</td>\n",
       "      <td>NaN</td>\n",
       "    </tr>\n",
       "    <tr>\n",
       "      <th>0</th>\n",
       "      <td>15</td>\n",
       "      <td>d975de0840374af7a176eb2bfcdb2ec1</td>\n",
       "      <td>{\"cutoff\": \"quantile_0.1\", \"eval_fairness_grou...</td>\n",
       "      <td>29.415071</td>\n",
       "      <td>89710</td>\n",
       "      <td>1.0</td>\n",
       "      <td>0.093567</td>\n",
       "      <td>0.903562</td>\n",
       "      <td>0.091620</td>\n",
       "      <td>0.905609</td>\n",
       "      <td>...</td>\n",
       "      <td>0.115664</td>\n",
       "      <td>0.134469</td>\n",
       "      <td>0.970229</td>\n",
       "      <td>0.876662</td>\n",
       "      <td>0.026182</td>\n",
       "      <td>0.105470</td>\n",
       "      <td>0.970643</td>\n",
       "      <td>0.879023</td>\n",
       "      <td>20540.0</td>\n",
       "      <td>69170.0</td>\n",
       "    </tr>\n",
       "    <tr>\n",
       "      <th>0</th>\n",
       "      <td>15</td>\n",
       "      <td>d975de0840374af7a176eb2bfcdb2ec1</td>\n",
       "      <td>{\"cutoff\": \"quantile_0.25\", \"eval_fairness_gro...</td>\n",
       "      <td>29.415071</td>\n",
       "      <td>89710</td>\n",
       "      <td>1.0</td>\n",
       "      <td>0.231300</td>\n",
       "      <td>0.749034</td>\n",
       "      <td>0.222332</td>\n",
       "      <td>0.758707</td>\n",
       "      <td>...</td>\n",
       "      <td>NaN</td>\n",
       "      <td>NaN</td>\n",
       "      <td>NaN</td>\n",
       "      <td>NaN</td>\n",
       "      <td>NaN</td>\n",
       "      <td>NaN</td>\n",
       "      <td>NaN</td>\n",
       "      <td>NaN</td>\n",
       "      <td>NaN</td>\n",
       "      <td>NaN</td>\n",
       "    </tr>\n",
       "    <tr>\n",
       "      <th>0</th>\n",
       "      <td>15</td>\n",
       "      <td>d975de0840374af7a176eb2bfcdb2ec1</td>\n",
       "      <td>{\"cutoff\": \"quantile_0.25\", \"eval_fairness_gro...</td>\n",
       "      <td>29.415071</td>\n",
       "      <td>89710</td>\n",
       "      <td>1.0</td>\n",
       "      <td>0.231300</td>\n",
       "      <td>0.749034</td>\n",
       "      <td>0.222332</td>\n",
       "      <td>0.758707</td>\n",
       "      <td>...</td>\n",
       "      <td>0.115080</td>\n",
       "      <td>0.143002</td>\n",
       "      <td>0.921638</td>\n",
       "      <td>0.690338</td>\n",
       "      <td>0.080236</td>\n",
       "      <td>0.243435</td>\n",
       "      <td>0.921422</td>\n",
       "      <td>0.699089</td>\n",
       "      <td>20540.0</td>\n",
       "      <td>69170.0</td>\n",
       "    </tr>\n",
       "  </tbody>\n",
       "</table>\n",
       "<p>4 rows × 50 columns</p>\n",
       "</div>"
      ],
      "text/plain": [
       "  run_no                       universe_id  \\\n",
       "0     15  d975de0840374af7a176eb2bfcdb2ec1   \n",
       "0     15  d975de0840374af7a176eb2bfcdb2ec1   \n",
       "0     15  d975de0840374af7a176eb2bfcdb2ec1   \n",
       "0     15  d975de0840374af7a176eb2bfcdb2ec1   \n",
       "\n",
       "                                   universe_settings  execution_time  \\\n",
       "0  {\"cutoff\": \"quantile_0.1\", \"eval_fairness_grou...       29.415071   \n",
       "0  {\"cutoff\": \"quantile_0.1\", \"eval_fairness_grou...       29.415071   \n",
       "0  {\"cutoff\": \"quantile_0.25\", \"eval_fairness_gro...       29.415071   \n",
       "0  {\"cutoff\": \"quantile_0.25\", \"eval_fairness_gro...       29.415071   \n",
       "\n",
       "   test_size_n  test_size_frac  fair_main_equalized_odds_difference  \\\n",
       "0        89710             1.0                             0.093567   \n",
       "0        89710             1.0                             0.093567   \n",
       "0        89710             1.0                             0.231300   \n",
       "0        89710             1.0                             0.231300   \n",
       "\n",
       "   fair_main_equalized_odds_ratio  fair_main_demographic_parity_difference  \\\n",
       "0                        0.903562                                 0.091620   \n",
       "0                        0.903562                                 0.091620   \n",
       "0                        0.749034                                 0.222332   \n",
       "0                        0.749034                                 0.222332   \n",
       "\n",
       "   fair_main_demographic_parity_ratio  ...  perf_grp_precision_0  \\\n",
       "0                            0.905609  ...                   NaN   \n",
       "0                            0.905609  ...              0.115664   \n",
       "0                            0.758707  ...                   NaN   \n",
       "0                            0.758707  ...              0.115080   \n",
       "\n",
       "   perf_grp_precision_1  perf_grp_false positive rate_0  \\\n",
       "0                   NaN                             NaN   \n",
       "0              0.134469                        0.970229   \n",
       "0                   NaN                             NaN   \n",
       "0              0.143002                        0.921638   \n",
       "\n",
       "   perf_grp_false positive rate_1  perf_grp_false negative rate_0  \\\n",
       "0                             NaN                             NaN   \n",
       "0                        0.876662                        0.026182   \n",
       "0                             NaN                             NaN   \n",
       "0                        0.690338                        0.080236   \n",
       "\n",
       "   perf_grp_false negative rate_1  perf_grp_selection rate_0  \\\n",
       "0                             NaN                        NaN   \n",
       "0                        0.105470                   0.970643   \n",
       "0                             NaN                        NaN   \n",
       "0                        0.243435                   0.921422   \n",
       "\n",
       "   perf_grp_selection rate_1  perf_grp_count_0  perf_grp_count_1  \n",
       "0                        NaN               NaN               NaN  \n",
       "0                   0.879023           20540.0           69170.0  \n",
       "0                        NaN               NaN               NaN  \n",
       "0                   0.699089           20540.0           69170.0  \n",
       "\n",
       "[4 rows x 50 columns]"
      ]
     },
     "execution_count": 66,
     "metadata": {},
     "output_type": "execute_result"
    }
   ],
   "source": [
    "final_output = universe_analysis.generate_final_output(\n",
    "    y_pred_prob=probs_test,\n",
    "    y_test=y_true,\n",
    "    org_test=org_test,\n",
    "    filter_data=filter_sub_universe_data,\n",
    "    cp_metrics_df=cp_metrics_df,\n",
    "    save=True,\n",
    ")\n",
    "final_output"
   ]
  }
 ],
 "metadata": {
  "celltoolbar": "Tags",
  "kernelspec": {
   "display_name": "Python (CMA Fairness)",
   "language": "python",
   "name": "cma_fair_env"
  },
  "language_info": {
   "codemirror_mode": {
    "name": "ipython",
    "version": 3
   },
   "file_extension": ".py",
   "mimetype": "text/x-python",
   "name": "python",
   "nbconvert_exporter": "python",
   "pygments_lexer": "ipython3",
   "version": "3.10.12"
  },
  "papermill": {
   "default_parameters": {},
   "duration": 44.880966,
   "end_time": "2025-08-05T16:45:36.099127",
   "environment_variables": {},
   "exception": null,
   "input_path": "universe_analysis.ipynb",
   "output_path": "output/runs/15/notebooks/m_15-d975de0840374af7a176eb2bfcdb2ec1.ipynb",
   "parameters": {
    "output_dir": "output",
    "run_no": "15",
    "seed": "2023",
    "universe": "{\"cutoff\": [\"quantile_0.1\", \"quantile_0.25\"], \"eval_fairness_grouping\": [\"majority-minority\", \"nationality-all\"], \"exclude_features\": \"sex\", \"exclude_subgroups\": \"drop-non-german\", \"model\": \"elasticnet\", \"scale\": \"do-not-scale\", \"training_size\": \"1k\", \"training_year\": \"2010_14\"}",
    "universe_id": "d975de0840374af7a176eb2bfcdb2ec1"
   },
   "start_time": "2025-08-05T16:44:51.218161",
   "version": "2.6.0"
  }
 },
 "nbformat": 4,
 "nbformat_minor": 5
}