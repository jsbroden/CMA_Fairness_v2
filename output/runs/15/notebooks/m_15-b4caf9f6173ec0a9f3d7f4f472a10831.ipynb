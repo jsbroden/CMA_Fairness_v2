{
 "cells": [
  {
   "cell_type": "code",
   "execution_count": 1,
   "id": "f159f837-637b-42ba-96b5-ec9a68c44524",
   "metadata": {
    "execution": {
     "iopub.execute_input": "2025-08-05T14:43:26.799474Z",
     "iopub.status.busy": "2025-08-05T14:43:26.798440Z",
     "iopub.status.idle": "2025-08-05T14:43:26.814326Z",
     "shell.execute_reply": "2025-08-05T14:43:26.812974Z"
    },
    "papermill": {
     "duration": 0.035838,
     "end_time": "2025-08-05T14:43:26.815858",
     "exception": false,
     "start_time": "2025-08-05T14:43:26.780020",
     "status": "completed"
    },
    "tags": []
   },
   "outputs": [
    {
     "name": "stdout",
     "output_type": "stream",
     "text": [
      "/dss/dsshome1/0C/ra93lal2/cma/CMA_Fairness_v2\n"
     ]
    },
    {
     "name": "stderr",
     "output_type": "stream",
     "text": [
      "/dss/dsshome1/0C/ra93lal2/.local/share/virtualenvs/CMA_Fairness_v2-3j10GkSs/lib/python3.10/site-packages/IPython/core/magics/osm.py:393: UserWarning: This is now an optional IPython functionality, using bookmarks requires you to install the `pickleshare` library.\n",
      "  bkms = self.shell.db.get('bookmarks', {})\n",
      "/dss/dsshome1/0C/ra93lal2/.local/share/virtualenvs/CMA_Fairness_v2-3j10GkSs/lib/python3.10/site-packages/IPython/core/magics/osm.py:417: UserWarning: This is now an optional IPython functionality, setting dhist requires you to install the `pickleshare` library.\n",
      "  self.shell.db['dhist'] = compress_dhist(dhist)[-100:]\n"
     ]
    }
   ],
   "source": [
    "%cd ~/cma/CMA_Fairness_v2"
   ]
  },
  {
   "cell_type": "markdown",
   "id": "de2603b9",
   "metadata": {
    "papermill": {
     "duration": 0.015403,
     "end_time": "2025-08-05T14:43:26.847031",
     "exception": false,
     "start_time": "2025-08-05T14:43:26.831628",
     "status": "completed"
    },
    "tags": []
   },
   "source": [
    "The following cell holds the definition of our parameters, these values can be overriden by rendering the with e.g. the following command:\n",
    "\n",
    "papermill -p alpha 0.2 -p ratio 0.3 universe_analysis.ipynb output/test_run.ipynb"
   ]
  },
  {
   "cell_type": "code",
   "execution_count": 2,
   "id": "a80968a0-40bb-4fa9-85ef-2d5eefb01975",
   "metadata": {
    "execution": {
     "iopub.execute_input": "2025-08-05T14:43:26.879304Z",
     "iopub.status.busy": "2025-08-05T14:43:26.878594Z",
     "iopub.status.idle": "2025-08-05T14:43:26.885904Z",
     "shell.execute_reply": "2025-08-05T14:43:26.884810Z"
    },
    "papermill": {
     "duration": 0.025392,
     "end_time": "2025-08-05T14:43:26.887672",
     "exception": false,
     "start_time": "2025-08-05T14:43:26.862280",
     "status": "completed"
    },
    "tags": []
   },
   "outputs": [
    {
     "name": "stdout",
     "output_type": "stream",
     "text": [
      "Current working directory: /dss/dsshome1/0C/ra93lal2/cma/CMA_Fairness_v2\n"
     ]
    }
   ],
   "source": [
    "import os\n",
    "print(\"Current working directory:\", os.getcwd())"
   ]
  },
  {
   "cell_type": "code",
   "execution_count": 3,
   "id": "2dce4c03",
   "metadata": {
    "execution": {
     "iopub.execute_input": "2025-08-05T14:43:26.983828Z",
     "iopub.status.busy": "2025-08-05T14:43:26.983181Z",
     "iopub.status.idle": "2025-08-05T14:43:26.991164Z",
     "shell.execute_reply": "2025-08-05T14:43:26.989860Z"
    },
    "papermill": {
     "duration": 0.089004,
     "end_time": "2025-08-05T14:43:26.993240",
     "exception": false,
     "start_time": "2025-08-05T14:43:26.904236",
     "status": "completed"
    },
    "tags": [
     "parameters"
    ]
   },
   "outputs": [],
   "source": [
    "run_no = 0\n",
    "universe_id = \"test\"\n",
    "universe = {\n",
    "    \"training_size\": \"25k\", # \"25k\", \"5k\", \"1k\"\n",
    "    \"training_year\": \"2014\", # \"2014\", \"2012_14\", \"2010_14\"\n",
    "    \"scale\": \"scale\", # \"scale\", \"do-not-scale\",\n",
    "    \"model\": \"elasticnet\", # \"logreg\", \"penalized_logreg\", \"rf\", \"gbm\", \"elasticnet\"\n",
    "    \"cutoff\": [\"quantile_0.15\", \"quantile_0.30\"],\n",
    "    \"exclude_features\": \"age\", # \"none\", \"nationality\", \"sex\", \"nationality-sex\", \"age\"\n",
    "    \"exclude_subgroups\": \"keep-all\", # \"keep-all\", \"drop-non-german\"\n",
    "    \"eval_fairness_grouping\": [\"majority-minority\", \"nationality-all\"]\n",
    "}\n",
    "\n",
    "output_dir=\"./output\"\n",
    "seed=0"
   ]
  },
  {
   "cell_type": "code",
   "execution_count": 4,
   "id": "c652f449",
   "metadata": {
    "execution": {
     "iopub.execute_input": "2025-08-05T14:43:27.028365Z",
     "iopub.status.busy": "2025-08-05T14:43:27.027420Z",
     "iopub.status.idle": "2025-08-05T14:43:27.034592Z",
     "shell.execute_reply": "2025-08-05T14:43:27.033245Z"
    },
    "papermill": {
     "duration": 0.026074,
     "end_time": "2025-08-05T14:43:27.036592",
     "exception": false,
     "start_time": "2025-08-05T14:43:27.010518",
     "status": "completed"
    },
    "tags": [
     "injected-parameters"
    ]
   },
   "outputs": [],
   "source": [
    "# Parameters\n",
    "universe_id = \"b4caf9f6173ec0a9f3d7f4f472a10831\"\n",
    "run_no = \"15\"\n",
    "universe = \"{\\\"cutoff\\\": [\\\"quantile_0.1\\\", \\\"quantile_0.25\\\"], \\\"eval_fairness_grouping\\\": [\\\"majority-minority\\\", \\\"nationality-all\\\"], \\\"exclude_features\\\": \\\"nationality-sex\\\", \\\"exclude_subgroups\\\": \\\"keep-all\\\", \\\"model\\\": \\\"rf\\\", \\\"scale\\\": \\\"do-not-scale\\\", \\\"training_size\\\": \\\"25k\\\", \\\"training_year\\\": \\\"2014\\\"}\"\n",
    "output_dir = \"output\"\n",
    "seed = \"2023\"\n"
   ]
  },
  {
   "cell_type": "code",
   "execution_count": 5,
   "id": "1650acaf",
   "metadata": {
    "execution": {
     "iopub.execute_input": "2025-08-05T14:43:27.072649Z",
     "iopub.status.busy": "2025-08-05T14:43:27.071662Z",
     "iopub.status.idle": "2025-08-05T14:43:27.077240Z",
     "shell.execute_reply": "2025-08-05T14:43:27.075849Z"
    },
    "papermill": {
     "duration": 0.025321,
     "end_time": "2025-08-05T14:43:27.079881",
     "exception": false,
     "start_time": "2025-08-05T14:43:27.054560",
     "status": "completed"
    },
    "tags": []
   },
   "outputs": [],
   "source": [
    "import json\n",
    "if isinstance(universe, str):\n",
    "    universe = json.loads(universe)"
   ]
  },
  {
   "cell_type": "code",
   "execution_count": 6,
   "id": "16620c48",
   "metadata": {
    "execution": {
     "iopub.execute_input": "2025-08-05T14:43:27.136534Z",
     "iopub.status.busy": "2025-08-05T14:43:27.136167Z",
     "iopub.status.idle": "2025-08-05T14:43:27.179750Z",
     "shell.execute_reply": "2025-08-05T14:43:27.178598Z"
    },
    "papermill": {
     "duration": 0.074827,
     "end_time": "2025-08-05T14:43:27.182447",
     "exception": false,
     "start_time": "2025-08-05T14:43:27.107620",
     "status": "completed"
    },
    "tags": []
   },
   "outputs": [],
   "source": [
    "# Auto-reload the custom package\n",
    "%load_ext autoreload\n",
    "%autoreload 1\n",
    "%aimport fairness_multiverse"
   ]
  },
  {
   "cell_type": "code",
   "execution_count": 7,
   "id": "01c5c9f3",
   "metadata": {
    "execution": {
     "iopub.execute_input": "2025-08-05T14:43:27.239139Z",
     "iopub.status.busy": "2025-08-05T14:43:27.238776Z",
     "iopub.status.idle": "2025-08-05T14:43:29.004165Z",
     "shell.execute_reply": "2025-08-05T14:43:29.002685Z"
    },
    "papermill": {
     "duration": 1.796419,
     "end_time": "2025-08-05T14:43:29.006406",
     "exception": false,
     "start_time": "2025-08-05T14:43:27.209987",
     "status": "completed"
    },
    "tags": []
   },
   "outputs": [],
   "source": [
    "from fairness_multiverse.universe import UniverseAnalysis\n",
    "\n",
    "universe_analysis = UniverseAnalysis(\n",
    "    run_no = run_no,\n",
    "    universe_id = universe_id,\n",
    "    universe = universe,\n",
    "    output_dir=output_dir,\n",
    ")"
   ]
  },
  {
   "cell_type": "code",
   "execution_count": 8,
   "id": "106241f5",
   "metadata": {
    "execution": {
     "iopub.execute_input": "2025-08-05T14:43:29.064553Z",
     "iopub.status.busy": "2025-08-05T14:43:29.063768Z",
     "iopub.status.idle": "2025-08-05T14:43:29.072454Z",
     "shell.execute_reply": "2025-08-05T14:43:29.071209Z"
    },
    "papermill": {
     "duration": 0.039143,
     "end_time": "2025-08-05T14:43:29.074371",
     "exception": false,
     "start_time": "2025-08-05T14:43:29.035228",
     "status": "completed"
    },
    "tags": []
   },
   "outputs": [
    {
     "name": "stdout",
     "output_type": "stream",
     "text": [
      "Using Seed: 2023\n"
     ]
    }
   ],
   "source": [
    "import numpy as np\n",
    "parsed_seed = int(seed)\n",
    "np.random.seed(parsed_seed)\n",
    "print(f\"Using Seed: {parsed_seed}\")"
   ]
  },
  {
   "cell_type": "markdown",
   "id": "e0ebdc57",
   "metadata": {
    "papermill": {
     "duration": 0.015559,
     "end_time": "2025-08-05T14:43:29.107288",
     "exception": false,
     "start_time": "2025-08-05T14:43:29.091729",
     "status": "completed"
    },
    "tags": []
   },
   "source": [
    "# Loading Data"
   ]
  },
  {
   "cell_type": "markdown",
   "id": "681925a3",
   "metadata": {
    "papermill": {
     "duration": 0.016258,
     "end_time": "2025-08-05T14:43:29.138977",
     "exception": false,
     "start_time": "2025-08-05T14:43:29.122719",
     "status": "completed"
    },
    "tags": []
   },
   "source": [
    "Load siab_train, siab_test, siab_calib and/or \n",
    "load siab_train_features, siab_train_labels"
   ]
  },
  {
   "cell_type": "code",
   "execution_count": 9,
   "id": "f0496b8a",
   "metadata": {
    "execution": {
     "iopub.execute_input": "2025-08-05T14:43:29.176693Z",
     "iopub.status.busy": "2025-08-05T14:43:29.176205Z",
     "iopub.status.idle": "2025-08-05T14:43:39.926356Z",
     "shell.execute_reply": "2025-08-05T14:43:39.925335Z"
    },
    "papermill": {
     "duration": 10.771742,
     "end_time": "2025-08-05T14:43:39.927682",
     "exception": false,
     "start_time": "2025-08-05T14:43:29.155940",
     "status": "completed"
    },
    "tags": []
   },
   "outputs": [
    {
     "name": "stdout",
     "output_type": "stream",
     "text": [
      "Loading SIAB data from cache: data/siab_cached.csv.gz\n"
     ]
    },
    {
     "name": "stdout",
     "output_type": "stream",
     "text": [
      "(643690, 164)\n"
     ]
    }
   ],
   "source": [
    "from pathlib import Path\n",
    "import pandas as pd\n",
    "\n",
    "# File paths\n",
    "raw_file = Path(\"data/raw/siab.csv\")\n",
    "cache_file = Path(\"data/siab_cached.csv.gz\")\n",
    "\n",
    "# Ensure cache directory exists\n",
    "cache_file.parent.mkdir(parents=True, exist_ok=True)\n",
    "\n",
    "# Load with simple caching\n",
    "if cache_file.exists():\n",
    "    print(f\"Loading SIAB data from cache: {cache_file}\")\n",
    "    siab = pd.read_csv(cache_file, compression='gzip')\n",
    "else:\n",
    "    print(f\"Cache not found. Reading raw SIAB data: {raw_file}\")\n",
    "    siab = pd.read_csv(raw_file)\n",
    "    siab.to_csv(cache_file, index=False, compression='gzip')\n",
    "    print(f\"Cached SIAB data to: {cache_file}\")\n",
    "\n",
    "print(siab.shape)"
   ]
  },
  {
   "cell_type": "code",
   "execution_count": 10,
   "id": "db0ca512-5f53-4dba-abdb-a2888bca41ba",
   "metadata": {
    "execution": {
     "iopub.execute_input": "2025-08-05T14:43:39.949502Z",
     "iopub.status.busy": "2025-08-05T14:43:39.949155Z",
     "iopub.status.idle": "2025-08-05T14:43:39.954112Z",
     "shell.execute_reply": "2025-08-05T14:43:39.953254Z"
    },
    "papermill": {
     "duration": 0.016242,
     "end_time": "2025-08-05T14:43:39.955521",
     "exception": false,
     "start_time": "2025-08-05T14:43:39.939279",
     "status": "completed"
    },
    "tags": []
   },
   "outputs": [],
   "source": [
    "#siab"
   ]
  },
  {
   "cell_type": "markdown",
   "id": "997051c5-15bd-4b69-9786-c3001a3ce484",
   "metadata": {
    "papermill": {
     "duration": 0.008987,
     "end_time": "2025-08-05T14:43:39.974208",
     "exception": false,
     "start_time": "2025-08-05T14:43:39.965221",
     "status": "completed"
    },
    "tags": []
   },
   "source": [
    "# Splitting Data and Setting Training Data Size"
   ]
  },
  {
   "cell_type": "code",
   "execution_count": 11,
   "id": "aea9c6ef-6f46-42c8-85eb-5a62025c1508",
   "metadata": {
    "execution": {
     "iopub.execute_input": "2025-08-05T14:43:39.993414Z",
     "iopub.status.busy": "2025-08-05T14:43:39.992806Z",
     "iopub.status.idle": "2025-08-05T14:43:40.264754Z",
     "shell.execute_reply": "2025-08-05T14:43:40.263995Z"
    },
    "papermill": {
     "duration": 0.283257,
     "end_time": "2025-08-05T14:43:40.266245",
     "exception": false,
     "start_time": "2025-08-05T14:43:39.982988",
     "status": "completed"
    },
    "tags": []
   },
   "outputs": [],
   "source": [
    "from fairness_multiverse.universe import sample_by_year_size\n",
    "\n",
    "siab_train = sample_by_year_size(siab,\n",
    "                               training_year=universe[\"training_year\"],\n",
    "                               training_size=universe[\"training_size\"])"
   ]
  },
  {
   "cell_type": "code",
   "execution_count": 12,
   "id": "8d3afb32-789d-442c-8d5d-9f5aa8dd2eed",
   "metadata": {
    "execution": {
     "iopub.execute_input": "2025-08-05T14:43:40.286376Z",
     "iopub.status.busy": "2025-08-05T14:43:40.286055Z",
     "iopub.status.idle": "2025-08-05T14:43:40.290086Z",
     "shell.execute_reply": "2025-08-05T14:43:40.289198Z"
    },
    "papermill": {
     "duration": 0.015467,
     "end_time": "2025-08-05T14:43:40.291495",
     "exception": false,
     "start_time": "2025-08-05T14:43:40.276028",
     "status": "completed"
    },
    "tags": []
   },
   "outputs": [],
   "source": [
    "#siab_train.shape"
   ]
  },
  {
   "cell_type": "code",
   "execution_count": 13,
   "id": "d582db68-1a4c-47fb-84fc-08518dc1975a",
   "metadata": {
    "execution": {
     "iopub.execute_input": "2025-08-05T14:43:40.311414Z",
     "iopub.status.busy": "2025-08-05T14:43:40.310742Z",
     "iopub.status.idle": "2025-08-05T14:43:40.315135Z",
     "shell.execute_reply": "2025-08-05T14:43:40.314395Z"
    },
    "papermill": {
     "duration": 0.015415,
     "end_time": "2025-08-05T14:43:40.316518",
     "exception": false,
     "start_time": "2025-08-05T14:43:40.301103",
     "status": "completed"
    },
    "tags": []
   },
   "outputs": [],
   "source": [
    "#display(siab_train.groupby(\"year\").size())"
   ]
  },
  {
   "cell_type": "code",
   "execution_count": 14,
   "id": "a561edb4-d032-42cb-8256-22eac1111c64",
   "metadata": {
    "execution": {
     "iopub.execute_input": "2025-08-05T14:43:40.336616Z",
     "iopub.status.busy": "2025-08-05T14:43:40.336072Z",
     "iopub.status.idle": "2025-08-05T14:43:40.572448Z",
     "shell.execute_reply": "2025-08-05T14:43:40.571693Z"
    },
    "papermill": {
     "duration": 0.247521,
     "end_time": "2025-08-05T14:43:40.573956",
     "exception": false,
     "start_time": "2025-08-05T14:43:40.326435",
     "status": "completed"
    },
    "tags": []
   },
   "outputs": [],
   "source": [
    "#siab_train = siab_s[siab_s.year < 2015]\n",
    "siab_calib = siab[siab.year == 2015]\n",
    "siab_test = siab[siab.year == 2016]"
   ]
  },
  {
   "cell_type": "code",
   "execution_count": 15,
   "id": "472de16f-c3db-4916-846b-1f0de9cf1746",
   "metadata": {
    "execution": {
     "iopub.execute_input": "2025-08-05T14:43:40.594435Z",
     "iopub.status.busy": "2025-08-05T14:43:40.593931Z",
     "iopub.status.idle": "2025-08-05T14:43:40.607613Z",
     "shell.execute_reply": "2025-08-05T14:43:40.606775Z"
    },
    "papermill": {
     "duration": 0.02552,
     "end_time": "2025-08-05T14:43:40.609146",
     "exception": false,
     "start_time": "2025-08-05T14:43:40.583626",
     "status": "completed"
    },
    "tags": []
   },
   "outputs": [],
   "source": [
    "X_train = siab_train.iloc[:,4:164]\n",
    "y_train = siab_train.iloc[:, [3]]"
   ]
  },
  {
   "cell_type": "code",
   "execution_count": 16,
   "id": "828c96af-f43a-4ed6-ba47-8ac73a47d56c",
   "metadata": {
    "execution": {
     "iopub.execute_input": "2025-08-05T14:43:40.630998Z",
     "iopub.status.busy": "2025-08-05T14:43:40.630244Z",
     "iopub.status.idle": "2025-08-05T14:43:40.677739Z",
     "shell.execute_reply": "2025-08-05T14:43:40.676788Z"
    },
    "papermill": {
     "duration": 0.059643,
     "end_time": "2025-08-05T14:43:40.679235",
     "exception": false,
     "start_time": "2025-08-05T14:43:40.619592",
     "status": "completed"
    },
    "tags": []
   },
   "outputs": [],
   "source": [
    "X_calib = siab_calib.iloc[:,4:164]\n",
    "y_calib = siab_calib.iloc[:, [3]]"
   ]
  },
  {
   "cell_type": "code",
   "execution_count": 17,
   "id": "c34be9c3-6bd6-476e-acd3-845840e303be",
   "metadata": {
    "execution": {
     "iopub.execute_input": "2025-08-05T14:43:40.700013Z",
     "iopub.status.busy": "2025-08-05T14:43:40.699429Z",
     "iopub.status.idle": "2025-08-05T14:43:40.746722Z",
     "shell.execute_reply": "2025-08-05T14:43:40.745863Z"
    },
    "papermill": {
     "duration": 0.058755,
     "end_time": "2025-08-05T14:43:40.748234",
     "exception": false,
     "start_time": "2025-08-05T14:43:40.689479",
     "status": "completed"
    },
    "tags": []
   },
   "outputs": [],
   "source": [
    "X_test = siab_test.iloc[:,4:164]\n",
    "y_true = siab_test.iloc[:, [3]]"
   ]
  },
  {
   "cell_type": "code",
   "execution_count": 18,
   "id": "e6c733c5",
   "metadata": {
    "execution": {
     "iopub.execute_input": "2025-08-05T14:43:40.768590Z",
     "iopub.status.busy": "2025-08-05T14:43:40.768264Z",
     "iopub.status.idle": "2025-08-05T14:43:40.858373Z",
     "shell.execute_reply": "2025-08-05T14:43:40.857588Z"
    },
    "papermill": {
     "duration": 0.101321,
     "end_time": "2025-08-05T14:43:40.859854",
     "exception": false,
     "start_time": "2025-08-05T14:43:40.758533",
     "status": "completed"
    },
    "tags": []
   },
   "outputs": [],
   "source": [
    "# Auxiliary data needed downstream in the pipeline\n",
    "\n",
    "org_train = X_train.copy()\n",
    "org_test = X_test.copy()\n",
    "org_calib = X_calib.copy()"
   ]
  },
  {
   "cell_type": "markdown",
   "id": "0a4a1b33",
   "metadata": {
    "papermill": {
     "duration": 0.00903,
     "end_time": "2025-08-05T14:43:40.878606",
     "exception": false,
     "start_time": "2025-08-05T14:43:40.869576",
     "status": "completed"
    },
    "tags": []
   },
   "source": [
    "# Preprocessing Data"
   ]
  },
  {
   "cell_type": "code",
   "execution_count": 19,
   "id": "ca879031",
   "metadata": {
    "execution": {
     "iopub.execute_input": "2025-08-05T14:43:40.898075Z",
     "iopub.status.busy": "2025-08-05T14:43:40.897532Z",
     "iopub.status.idle": "2025-08-05T14:43:40.902821Z",
     "shell.execute_reply": "2025-08-05T14:43:40.902112Z"
    },
    "papermill": {
     "duration": 0.016644,
     "end_time": "2025-08-05T14:43:40.904215",
     "exception": false,
     "start_time": "2025-08-05T14:43:40.887571",
     "status": "completed"
    },
    "tags": []
   },
   "outputs": [],
   "source": [
    "# EXCLUDE PROTECTED FEATURES\n",
    "# ----------------------\n",
    "# \"exclude_features\": \"none\", # \"nationality\", \"sex\", \"nationality-sex\"\n",
    "\n",
    "excluded_features = universe[\"exclude_features\"].split(\"-\") # split, e.g.: \"nationality-sex\" -> [\"nationality\", \"sex\"]\n",
    "excluded_features_dictionary = {\n",
    "    \"nationality\": [\"maxdeutsch1\", \"maxdeutsch.Missing.\"],\n",
    "    \"sex\": [\"frau1\"],\n",
    "    \"age\": [\"age\"],\n",
    "}"
   ]
  },
  {
   "cell_type": "code",
   "execution_count": 20,
   "id": "b745ac60",
   "metadata": {
    "execution": {
     "iopub.execute_input": "2025-08-05T14:43:40.924895Z",
     "iopub.status.busy": "2025-08-05T14:43:40.924249Z",
     "iopub.status.idle": "2025-08-05T14:43:40.928850Z",
     "shell.execute_reply": "2025-08-05T14:43:40.928164Z"
    },
    "papermill": {
     "duration": 0.015928,
     "end_time": "2025-08-05T14:43:40.930302",
     "exception": false,
     "start_time": "2025-08-05T14:43:40.914374",
     "status": "completed"
    },
    "tags": []
   },
   "outputs": [],
   "source": [
    "# Code nice names to column names\n",
    "\n",
    "excluded_features_columns = [\n",
    "    excluded_features_dictionary[f] for f in excluded_features if len(f) > 0 and f != \"none\"\n",
    "]"
   ]
  },
  {
   "cell_type": "code",
   "execution_count": 21,
   "id": "f84f73a2",
   "metadata": {
    "execution": {
     "iopub.execute_input": "2025-08-05T14:43:40.950662Z",
     "iopub.status.busy": "2025-08-05T14:43:40.950140Z",
     "iopub.status.idle": "2025-08-05T14:43:40.955443Z",
     "shell.execute_reply": "2025-08-05T14:43:40.954726Z"
    },
    "papermill": {
     "duration": 0.016608,
     "end_time": "2025-08-05T14:43:40.956757",
     "exception": false,
     "start_time": "2025-08-05T14:43:40.940149",
     "status": "completed"
    },
    "tags": []
   },
   "outputs": [],
   "source": [
    "from utils import flatten_once\n",
    "\n",
    "excluded_features_columns = flatten_once(excluded_features_columns)"
   ]
  },
  {
   "cell_type": "code",
   "execution_count": 22,
   "id": "884dea22",
   "metadata": {
    "execution": {
     "iopub.execute_input": "2025-08-05T14:43:40.977366Z",
     "iopub.status.busy": "2025-08-05T14:43:40.976698Z",
     "iopub.status.idle": "2025-08-05T14:43:40.991986Z",
     "shell.execute_reply": "2025-08-05T14:43:40.991164Z"
    },
    "papermill": {
     "duration": 0.026542,
     "end_time": "2025-08-05T14:43:40.993393",
     "exception": false,
     "start_time": "2025-08-05T14:43:40.966851",
     "status": "completed"
    },
    "tags": []
   },
   "outputs": [
    {
     "name": "stdout",
     "output_type": "stream",
     "text": [
      "Dropping features: ['maxdeutsch1', 'maxdeutsch.Missing.', 'frau1']\n"
     ]
    }
   ],
   "source": [
    "if len(excluded_features_columns) > 0:\n",
    "    print(f\"Dropping features: {excluded_features_columns}\")\n",
    "    X_train.drop(excluded_features_columns, axis=1, inplace=True)"
   ]
  },
  {
   "cell_type": "code",
   "execution_count": 23,
   "id": "95ab8b16",
   "metadata": {
    "execution": {
     "iopub.execute_input": "2025-08-05T14:43:41.014801Z",
     "iopub.status.busy": "2025-08-05T14:43:41.014147Z",
     "iopub.status.idle": "2025-08-05T14:43:41.062450Z",
     "shell.execute_reply": "2025-08-05T14:43:41.061348Z"
    },
    "papermill": {
     "duration": 0.05987,
     "end_time": "2025-08-05T14:43:41.064019",
     "exception": false,
     "start_time": "2025-08-05T14:43:41.004149",
     "status": "completed"
    },
    "tags": []
   },
   "outputs": [
    {
     "name": "stdout",
     "output_type": "stream",
     "text": [
      "Dropping features: ['maxdeutsch1', 'maxdeutsch.Missing.', 'frau1']\n"
     ]
    }
   ],
   "source": [
    "if len(excluded_features_columns) > 0:\n",
    "    print(f\"Dropping features: {excluded_features_columns}\")\n",
    "    X_test.drop(excluded_features_columns, axis=1, inplace=True)"
   ]
  },
  {
   "cell_type": "code",
   "execution_count": 24,
   "id": "1853aaf5-fb9f-46cb-a2b5-8ea4ae2237e4",
   "metadata": {
    "execution": {
     "iopub.execute_input": "2025-08-05T14:43:41.085946Z",
     "iopub.status.busy": "2025-08-05T14:43:41.085621Z",
     "iopub.status.idle": "2025-08-05T14:43:41.132024Z",
     "shell.execute_reply": "2025-08-05T14:43:41.131040Z"
    },
    "papermill": {
     "duration": 0.058765,
     "end_time": "2025-08-05T14:43:41.133456",
     "exception": false,
     "start_time": "2025-08-05T14:43:41.074691",
     "status": "completed"
    },
    "tags": []
   },
   "outputs": [
    {
     "name": "stdout",
     "output_type": "stream",
     "text": [
      "Dropping features: ['maxdeutsch1', 'maxdeutsch.Missing.', 'frau1']\n"
     ]
    }
   ],
   "source": [
    "if len(excluded_features_columns) > 0:\n",
    "    print(f\"Dropping features: {excluded_features_columns}\")\n",
    "    X_calib.drop(excluded_features_columns, axis=1, inplace=True)"
   ]
  },
  {
   "cell_type": "code",
   "execution_count": 25,
   "id": "76c4dc6d",
   "metadata": {
    "execution": {
     "iopub.execute_input": "2025-08-05T14:43:41.164408Z",
     "iopub.status.busy": "2025-08-05T14:43:41.164072Z",
     "iopub.status.idle": "2025-08-05T14:43:41.168764Z",
     "shell.execute_reply": "2025-08-05T14:43:41.168051Z"
    },
    "papermill": {
     "duration": 0.02002,
     "end_time": "2025-08-05T14:43:41.170269",
     "exception": false,
     "start_time": "2025-08-05T14:43:41.150249",
     "status": "completed"
    },
    "tags": []
   },
   "outputs": [],
   "source": [
    "# EXCLUDE CERTAIN SUBGROUPS\n",
    "# ----------------------\n",
    "\n",
    "mode = universe.get(\"exclude_subgroups\", \"keep-all\") \n",
    "# Fetches the exclude_subgroups setting from the universe dict.\n",
    "# Defaults to \"keep-all\" if the key is missing."
   ]
  },
  {
   "cell_type": "code",
   "execution_count": 26,
   "id": "21994072",
   "metadata": {
    "execution": {
     "iopub.execute_input": "2025-08-05T14:43:41.192245Z",
     "iopub.status.busy": "2025-08-05T14:43:41.191489Z",
     "iopub.status.idle": "2025-08-05T14:43:41.196961Z",
     "shell.execute_reply": "2025-08-05T14:43:41.196231Z"
    },
    "papermill": {
     "duration": 0.017599,
     "end_time": "2025-08-05T14:43:41.198386",
     "exception": false,
     "start_time": "2025-08-05T14:43:41.180787",
     "status": "completed"
    },
    "tags": []
   },
   "outputs": [],
   "source": [
    "if mode == \"keep-all\":\n",
    "    keep_mask = pd.Series(True, index=org_train.index)\n",
    "\n",
    "# org_train contains the original feature columns from features_org (in Simson)\n",
    "# features_org contains unprocessed features, for me X_train at beginning ???\n",
    "# For keep-all, creates a boolean Series (keep_mask) of all True, so no rows are removed.\n",
    "\n",
    "elif mode == \"drop-non-german\":\n",
    "    keep_mask = org_train[\"maxdeutsch1\"] == 1 # ??? what about missing values?\n",
    "\n",
    "else:\n",
    "    raise ValueError(f\"Unsupported mode for exclude_subgroups: {mode}\")"
   ]
  },
  {
   "cell_type": "code",
   "execution_count": 27,
   "id": "71651440",
   "metadata": {
    "execution": {
     "iopub.execute_input": "2025-08-05T14:43:41.219705Z",
     "iopub.status.busy": "2025-08-05T14:43:41.219071Z",
     "iopub.status.idle": "2025-08-05T14:43:41.224494Z",
     "shell.execute_reply": "2025-08-05T14:43:41.223779Z"
    },
    "papermill": {
     "duration": 0.017054,
     "end_time": "2025-08-05T14:43:41.225888",
     "exception": false,
     "start_time": "2025-08-05T14:43:41.208834",
     "status": "completed"
    },
    "tags": []
   },
   "outputs": [],
   "source": [
    "n_drop = (~keep_mask).sum() # Calculates how many rows are set to be dropped\n",
    "if n_drop > 0:\n",
    "    pct = n_drop / len(keep_mask) * 100\n",
    "    print(f\"Dropping {n_drop} rows ({pct:.2f}%) where mode='{mode}'\")"
   ]
  },
  {
   "cell_type": "code",
   "execution_count": 28,
   "id": "5fb8eee5",
   "metadata": {
    "execution": {
     "iopub.execute_input": "2025-08-05T14:43:41.246874Z",
     "iopub.status.busy": "2025-08-05T14:43:41.246367Z",
     "iopub.status.idle": "2025-08-05T14:43:41.259437Z",
     "shell.execute_reply": "2025-08-05T14:43:41.258595Z"
    },
    "papermill": {
     "duration": 0.025006,
     "end_time": "2025-08-05T14:43:41.261118",
     "exception": false,
     "start_time": "2025-08-05T14:43:41.236112",
     "status": "completed"
    },
    "tags": []
   },
   "outputs": [],
   "source": [
    "X_train = X_train[keep_mask]"
   ]
  },
  {
   "cell_type": "code",
   "execution_count": 29,
   "id": "b202bb3a",
   "metadata": {
    "execution": {
     "iopub.execute_input": "2025-08-05T14:43:41.282946Z",
     "iopub.status.busy": "2025-08-05T14:43:41.282287Z",
     "iopub.status.idle": "2025-08-05T14:43:41.287723Z",
     "shell.execute_reply": "2025-08-05T14:43:41.286997Z"
    },
    "papermill": {
     "duration": 0.017309,
     "end_time": "2025-08-05T14:43:41.289086",
     "exception": false,
     "start_time": "2025-08-05T14:43:41.271777",
     "status": "completed"
    },
    "tags": []
   },
   "outputs": [],
   "source": [
    "y_train = y_train[keep_mask]"
   ]
  },
  {
   "cell_type": "markdown",
   "id": "493e2ac3",
   "metadata": {
    "papermill": {
     "duration": 0.009701,
     "end_time": "2025-08-05T14:43:41.309247",
     "exception": false,
     "start_time": "2025-08-05T14:43:41.299546",
     "status": "completed"
    },
    "tags": []
   },
   "source": [
    "# Model Training"
   ]
  },
  {
   "cell_type": "code",
   "execution_count": 30,
   "id": "679e1268",
   "metadata": {
    "execution": {
     "iopub.execute_input": "2025-08-05T14:43:41.330355Z",
     "iopub.status.busy": "2025-08-05T14:43:41.329638Z",
     "iopub.status.idle": "2025-08-05T14:43:41.402346Z",
     "shell.execute_reply": "2025-08-05T14:43:41.401593Z"
    },
    "papermill": {
     "duration": 0.085028,
     "end_time": "2025-08-05T14:43:41.403959",
     "exception": false,
     "start_time": "2025-08-05T14:43:41.318931",
     "status": "completed"
    },
    "tags": []
   },
   "outputs": [],
   "source": [
    "from sklearn.linear_model import LogisticRegression\n",
    "from sklearn.ensemble import GradientBoostingClassifier, RandomForestClassifier\n",
    "\n",
    "if (universe[\"model\"] == \"logreg\"):\n",
    "    model = LogisticRegression() #penalty=\"none\", solver=\"newton-cg\", max_iter=1) # include random_state=19 ?\n",
    "elif (universe[\"model\"] == \"penalized_logreg\"):\n",
    "    model = LogisticRegression(penalty=\"l2\", C=0.1) #, solver=\"newton-cg\", max_iter=1)\n",
    "elif (universe[\"model\"] == \"rf\"):\n",
    "    model = RandomForestClassifier() # n_estimators=100, n_jobs=-1\n",
    "elif (universe[\"model\"] == \"gbm\"):\n",
    "    model = GradientBoostingClassifier()\n",
    "elif (universe[\"model\"] == \"elasticnet\"):\n",
    "    model = LogisticRegression(penalty = 'elasticnet', solver = 'saga', l1_ratio = 0.5) # max_iter=5000\n",
    "else:\n",
    "    raise \"Unsupported universe.model\""
   ]
  },
  {
   "cell_type": "code",
   "execution_count": 31,
   "id": "0cc8f744",
   "metadata": {
    "execution": {
     "iopub.execute_input": "2025-08-05T14:43:41.425171Z",
     "iopub.status.busy": "2025-08-05T14:43:41.424709Z",
     "iopub.status.idle": "2025-08-05T14:43:41.429885Z",
     "shell.execute_reply": "2025-08-05T14:43:41.428977Z"
    },
    "papermill": {
     "duration": 0.01705,
     "end_time": "2025-08-05T14:43:41.431204",
     "exception": false,
     "start_time": "2025-08-05T14:43:41.414154",
     "status": "completed"
    },
    "tags": []
   },
   "outputs": [],
   "source": [
    "import numpy as np\n",
    "from sklearn.pipeline import Pipeline\n",
    "from sklearn.preprocessing import StandardScaler\n",
    "\n",
    "model = Pipeline([\n",
    "    #(\"continuous_processor\", continuous_processor),\n",
    "    #(\"categorical_preprocessor\", categorical_preprocessor),\n",
    "    (\"scale\", StandardScaler() if universe[\"scale\"] == \"scale\" else None), \n",
    "    (\"model\", model),\n",
    "])"
   ]
  },
  {
   "cell_type": "code",
   "execution_count": 32,
   "id": "9442c04d",
   "metadata": {
    "execution": {
     "iopub.execute_input": "2025-08-05T14:43:41.452789Z",
     "iopub.status.busy": "2025-08-05T14:43:41.452154Z",
     "iopub.status.idle": "2025-08-05T14:43:49.200004Z",
     "shell.execute_reply": "2025-08-05T14:43:49.199284Z"
    },
    "papermill": {
     "duration": 7.759568,
     "end_time": "2025-08-05T14:43:49.201296",
     "exception": false,
     "start_time": "2025-08-05T14:43:41.441728",
     "status": "completed"
    },
    "tags": []
   },
   "outputs": [
    {
     "data": {
      "text/html": [
       "<style>#sk-container-id-1 {color: black;background-color: white;}#sk-container-id-1 pre{padding: 0;}#sk-container-id-1 div.sk-toggleable {background-color: white;}#sk-container-id-1 label.sk-toggleable__label {cursor: pointer;display: block;width: 100%;margin-bottom: 0;padding: 0.3em;box-sizing: border-box;text-align: center;}#sk-container-id-1 label.sk-toggleable__label-arrow:before {content: \"▸\";float: left;margin-right: 0.25em;color: #696969;}#sk-container-id-1 label.sk-toggleable__label-arrow:hover:before {color: black;}#sk-container-id-1 div.sk-estimator:hover label.sk-toggleable__label-arrow:before {color: black;}#sk-container-id-1 div.sk-toggleable__content {max-height: 0;max-width: 0;overflow: hidden;text-align: left;background-color: #f0f8ff;}#sk-container-id-1 div.sk-toggleable__content pre {margin: 0.2em;color: black;border-radius: 0.25em;background-color: #f0f8ff;}#sk-container-id-1 input.sk-toggleable__control:checked~div.sk-toggleable__content {max-height: 200px;max-width: 100%;overflow: auto;}#sk-container-id-1 input.sk-toggleable__control:checked~label.sk-toggleable__label-arrow:before {content: \"▾\";}#sk-container-id-1 div.sk-estimator input.sk-toggleable__control:checked~label.sk-toggleable__label {background-color: #d4ebff;}#sk-container-id-1 div.sk-label input.sk-toggleable__control:checked~label.sk-toggleable__label {background-color: #d4ebff;}#sk-container-id-1 input.sk-hidden--visually {border: 0;clip: rect(1px 1px 1px 1px);clip: rect(1px, 1px, 1px, 1px);height: 1px;margin: -1px;overflow: hidden;padding: 0;position: absolute;width: 1px;}#sk-container-id-1 div.sk-estimator {font-family: monospace;background-color: #f0f8ff;border: 1px dotted black;border-radius: 0.25em;box-sizing: border-box;margin-bottom: 0.5em;}#sk-container-id-1 div.sk-estimator:hover {background-color: #d4ebff;}#sk-container-id-1 div.sk-parallel-item::after {content: \"\";width: 100%;border-bottom: 1px solid gray;flex-grow: 1;}#sk-container-id-1 div.sk-label:hover label.sk-toggleable__label {background-color: #d4ebff;}#sk-container-id-1 div.sk-serial::before {content: \"\";position: absolute;border-left: 1px solid gray;box-sizing: border-box;top: 0;bottom: 0;left: 50%;z-index: 0;}#sk-container-id-1 div.sk-serial {display: flex;flex-direction: column;align-items: center;background-color: white;padding-right: 0.2em;padding-left: 0.2em;position: relative;}#sk-container-id-1 div.sk-item {position: relative;z-index: 1;}#sk-container-id-1 div.sk-parallel {display: flex;align-items: stretch;justify-content: center;background-color: white;position: relative;}#sk-container-id-1 div.sk-item::before, #sk-container-id-1 div.sk-parallel-item::before {content: \"\";position: absolute;border-left: 1px solid gray;box-sizing: border-box;top: 0;bottom: 0;left: 50%;z-index: -1;}#sk-container-id-1 div.sk-parallel-item {display: flex;flex-direction: column;z-index: 1;position: relative;background-color: white;}#sk-container-id-1 div.sk-parallel-item:first-child::after {align-self: flex-end;width: 50%;}#sk-container-id-1 div.sk-parallel-item:last-child::after {align-self: flex-start;width: 50%;}#sk-container-id-1 div.sk-parallel-item:only-child::after {width: 0;}#sk-container-id-1 div.sk-dashed-wrapped {border: 1px dashed gray;margin: 0 0.4em 0.5em 0.4em;box-sizing: border-box;padding-bottom: 0.4em;background-color: white;}#sk-container-id-1 div.sk-label label {font-family: monospace;font-weight: bold;display: inline-block;line-height: 1.2em;}#sk-container-id-1 div.sk-label-container {text-align: center;}#sk-container-id-1 div.sk-container {/* jupyter's `normalize.less` sets `[hidden] { display: none; }` but bootstrap.min.css set `[hidden] { display: none !important; }` so we also need the `!important` here to be able to override the default hidden behavior on the sphinx rendered scikit-learn.org. See: https://github.com/scikit-learn/scikit-learn/issues/21755 */display: inline-block !important;position: relative;}#sk-container-id-1 div.sk-text-repr-fallback {display: none;}</style><div id=\"sk-container-id-1\" class=\"sk-top-container\"><div class=\"sk-text-repr-fallback\"><pre>Pipeline(steps=[(&#x27;scale&#x27;, None), (&#x27;model&#x27;, RandomForestClassifier())])</pre><b>In a Jupyter environment, please rerun this cell to show the HTML representation or trust the notebook. <br />On GitHub, the HTML representation is unable to render, please try loading this page with nbviewer.org.</b></div><div class=\"sk-container\" hidden><div class=\"sk-item sk-dashed-wrapped\"><div class=\"sk-label-container\"><div class=\"sk-label sk-toggleable\"><input class=\"sk-toggleable__control sk-hidden--visually\" id=\"sk-estimator-id-1\" type=\"checkbox\" ><label for=\"sk-estimator-id-1\" class=\"sk-toggleable__label sk-toggleable__label-arrow\">Pipeline</label><div class=\"sk-toggleable__content\"><pre>Pipeline(steps=[(&#x27;scale&#x27;, None), (&#x27;model&#x27;, RandomForestClassifier())])</pre></div></div></div><div class=\"sk-serial\"><div class=\"sk-item\"><div class=\"sk-estimator sk-toggleable\"><input class=\"sk-toggleable__control sk-hidden--visually\" id=\"sk-estimator-id-2\" type=\"checkbox\" ><label for=\"sk-estimator-id-2\" class=\"sk-toggleable__label sk-toggleable__label-arrow\">None</label><div class=\"sk-toggleable__content\"><pre>None</pre></div></div></div><div class=\"sk-item\"><div class=\"sk-estimator sk-toggleable\"><input class=\"sk-toggleable__control sk-hidden--visually\" id=\"sk-estimator-id-3\" type=\"checkbox\" ><label for=\"sk-estimator-id-3\" class=\"sk-toggleable__label sk-toggleable__label-arrow\">RandomForestClassifier</label><div class=\"sk-toggleable__content\"><pre>RandomForestClassifier()</pre></div></div></div></div></div></div></div>"
      ],
      "text/plain": [
       "Pipeline(steps=[('scale', None), ('model', RandomForestClassifier())])"
      ]
     },
     "execution_count": 32,
     "metadata": {},
     "output_type": "execute_result"
    }
   ],
   "source": [
    "model.fit(X_train, y_train.values.ravel())"
   ]
  },
  {
   "cell_type": "code",
   "execution_count": 33,
   "id": "af59f8c0",
   "metadata": {
    "execution": {
     "iopub.execute_input": "2025-08-05T14:43:49.228367Z",
     "iopub.status.busy": "2025-08-05T14:43:49.227597Z",
     "iopub.status.idle": "2025-08-05T14:43:49.235578Z",
     "shell.execute_reply": "2025-08-05T14:43:49.234738Z"
    },
    "papermill": {
     "duration": 0.023702,
     "end_time": "2025-08-05T14:43:49.237463",
     "exception": false,
     "start_time": "2025-08-05T14:43:49.213761",
     "status": "completed"
    },
    "tags": []
   },
   "outputs": [],
   "source": [
    "from fairness_multiverse.universe import predict_w_threshold"
   ]
  },
  {
   "cell_type": "code",
   "execution_count": 34,
   "id": "a7cf2e16",
   "metadata": {
    "execution": {
     "iopub.execute_input": "2025-08-05T14:43:49.287021Z",
     "iopub.status.busy": "2025-08-05T14:43:49.285882Z",
     "iopub.status.idle": "2025-08-05T14:43:51.828035Z",
     "shell.execute_reply": "2025-08-05T14:43:51.826964Z"
    },
    "papermill": {
     "duration": 2.568246,
     "end_time": "2025-08-05T14:43:51.829896",
     "exception": false,
     "start_time": "2025-08-05T14:43:49.261650",
     "status": "completed"
    },
    "tags": []
   },
   "outputs": [
    {
     "data": {
      "text/plain": [
       "0.8666369412551554"
      ]
     },
     "execution_count": 34,
     "metadata": {},
     "output_type": "execute_result"
    }
   ],
   "source": [
    "probs_test = model.predict_proba(X_test)\n",
    "\n",
    "'''\n",
    "Below code returns a boolean array (or binary 0/1 array depending on how it’s used) where each element \n",
    "is True if the probability of class 1 is greater than or equal to the threshold, and False otherwise.\n",
    "'''\n",
    "y_pred_default = predict_w_threshold(probs_test, 0.5)\n",
    "\n",
    "from sklearn.metrics import accuracy_score\n",
    "\n",
    "# Naive prediction\n",
    "accuracy_score(y_true = y_true, y_pred = y_pred_default)"
   ]
  },
  {
   "cell_type": "code",
   "execution_count": 35,
   "id": "081964c3",
   "metadata": {
    "execution": {
     "iopub.execute_input": "2025-08-05T14:43:51.880004Z",
     "iopub.status.busy": "2025-08-05T14:43:51.879437Z",
     "iopub.status.idle": "2025-08-05T14:43:55.019583Z",
     "shell.execute_reply": "2025-08-05T14:43:55.018697Z"
    },
    "papermill": {
     "duration": 3.165811,
     "end_time": "2025-08-05T14:43:55.021098",
     "exception": false,
     "start_time": "2025-08-05T14:43:51.855287",
     "status": "completed"
    },
    "tags": []
   },
   "outputs": [
    {
     "data": {
      "text/plain": [
       "array([0, 0, 0, ..., 0, 0, 0])"
      ]
     },
     "execution_count": 35,
     "metadata": {},
     "output_type": "execute_result"
    }
   ],
   "source": [
    "model.predict(X_test)"
   ]
  },
  {
   "cell_type": "markdown",
   "id": "56c9705b",
   "metadata": {
    "papermill": {
     "duration": 0.018223,
     "end_time": "2025-08-05T14:43:55.058598",
     "exception": false,
     "start_time": "2025-08-05T14:43:55.040375",
     "status": "completed"
    },
    "tags": []
   },
   "source": [
    "# Conformal Prediction"
   ]
  },
  {
   "cell_type": "code",
   "execution_count": 36,
   "id": "160ec6ff",
   "metadata": {
    "execution": {
     "iopub.execute_input": "2025-08-05T14:43:55.098566Z",
     "iopub.status.busy": "2025-08-05T14:43:55.098173Z",
     "iopub.status.idle": "2025-08-05T14:43:55.103051Z",
     "shell.execute_reply": "2025-08-05T14:43:55.102122Z"
    },
    "papermill": {
     "duration": 0.027429,
     "end_time": "2025-08-05T14:43:55.104601",
     "exception": false,
     "start_time": "2025-08-05T14:43:55.077172",
     "status": "completed"
    },
    "tags": []
   },
   "outputs": [],
   "source": [
    "# Miscoverage level for conformal prediction (10% allowed error rate => 90% target coverage)\n",
    "alpha = 0.1"
   ]
  },
  {
   "cell_type": "code",
   "execution_count": 37,
   "id": "eadf4555-3dd3-440e-8e35-f82a4ad9f855",
   "metadata": {
    "execution": {
     "iopub.execute_input": "2025-08-05T14:43:55.144787Z",
     "iopub.status.busy": "2025-08-05T14:43:55.144057Z",
     "iopub.status.idle": "2025-08-05T14:43:58.356435Z",
     "shell.execute_reply": "2025-08-05T14:43:58.355466Z"
    },
    "papermill": {
     "duration": 3.234419,
     "end_time": "2025-08-05T14:43:58.358438",
     "exception": false,
     "start_time": "2025-08-05T14:43:55.124019",
     "status": "completed"
    },
    "tags": []
   },
   "outputs": [],
   "source": [
    "probs_calib = model.predict_proba(X_calib)"
   ]
  },
  {
   "cell_type": "code",
   "execution_count": 38,
   "id": "2ed93547-6d5d-4983-9b36-1ecb300da49a",
   "metadata": {
    "execution": {
     "iopub.execute_input": "2025-08-05T14:43:58.401778Z",
     "iopub.status.busy": "2025-08-05T14:43:58.400869Z",
     "iopub.status.idle": "2025-08-05T14:43:58.407363Z",
     "shell.execute_reply": "2025-08-05T14:43:58.406306Z"
    },
    "papermill": {
     "duration": 0.028687,
     "end_time": "2025-08-05T14:43:58.409133",
     "exception": false,
     "start_time": "2025-08-05T14:43:58.380446",
     "status": "completed"
    },
    "tags": []
   },
   "outputs": [],
   "source": [
    "y_calib = y_calib.values.ravel().astype(int)"
   ]
  },
  {
   "cell_type": "code",
   "execution_count": 39,
   "id": "65d1320d-f588-4b38-9072-62af1ae97f7d",
   "metadata": {
    "execution": {
     "iopub.execute_input": "2025-08-05T14:43:58.449995Z",
     "iopub.status.busy": "2025-08-05T14:43:58.449040Z",
     "iopub.status.idle": "2025-08-05T14:43:58.456999Z",
     "shell.execute_reply": "2025-08-05T14:43:58.456023Z"
    },
    "papermill": {
     "duration": 0.029624,
     "end_time": "2025-08-05T14:43:58.458650",
     "exception": false,
     "start_time": "2025-08-05T14:43:58.429026",
     "status": "completed"
    },
    "tags": []
   },
   "outputs": [],
   "source": [
    "from fairness_multiverse.conformal import compute_nc_scores\n",
    "\n",
    "# Compute nonconformity scores on calibration set (1 - probability of true class)\n",
    "nc_scores = compute_nc_scores(probs_calib, y_calib)"
   ]
  },
  {
   "cell_type": "code",
   "execution_count": 40,
   "id": "df3b8ca3-53b7-43d5-9667-7c85da7aeda2",
   "metadata": {
    "execution": {
     "iopub.execute_input": "2025-08-05T14:43:58.499555Z",
     "iopub.status.busy": "2025-08-05T14:43:58.498687Z",
     "iopub.status.idle": "2025-08-05T14:43:58.506179Z",
     "shell.execute_reply": "2025-08-05T14:43:58.505126Z"
    },
    "papermill": {
     "duration": 0.029727,
     "end_time": "2025-08-05T14:43:58.507816",
     "exception": false,
     "start_time": "2025-08-05T14:43:58.478089",
     "status": "completed"
    },
    "tags": []
   },
   "outputs": [],
   "source": [
    "from fairness_multiverse.conformal import find_threshold\n",
    "\n",
    "# Find conformal threshold q_hat for the given alpha (split conformal method)\n",
    "q_hat = find_threshold(nc_scores, alpha)"
   ]
  },
  {
   "cell_type": "code",
   "execution_count": 41,
   "id": "4d29e6c1-0ef6-4aa4-b8fe-4fe79b0d033a",
   "metadata": {
    "execution": {
     "iopub.execute_input": "2025-08-05T14:43:58.548745Z",
     "iopub.status.busy": "2025-08-05T14:43:58.548080Z",
     "iopub.status.idle": "2025-08-05T14:43:58.555506Z",
     "shell.execute_reply": "2025-08-05T14:43:58.554552Z"
    },
    "papermill": {
     "duration": 0.029254,
     "end_time": "2025-08-05T14:43:58.557073",
     "exception": false,
     "start_time": "2025-08-05T14:43:58.527819",
     "status": "completed"
    },
    "tags": []
   },
   "outputs": [
    {
     "data": {
      "text/plain": [
       "0.6699999999999999"
      ]
     },
     "execution_count": 41,
     "metadata": {},
     "output_type": "execute_result"
    }
   ],
   "source": [
    "q_hat"
   ]
  },
  {
   "cell_type": "code",
   "execution_count": 42,
   "id": "92460794-cdac-4be2-ba28-f28c0515a6fb",
   "metadata": {
    "execution": {
     "iopub.execute_input": "2025-08-05T14:43:58.598274Z",
     "iopub.status.busy": "2025-08-05T14:43:58.597353Z",
     "iopub.status.idle": "2025-08-05T14:44:02.300323Z",
     "shell.execute_reply": "2025-08-05T14:44:02.299565Z"
    },
    "papermill": {
     "duration": 3.724655,
     "end_time": "2025-08-05T14:44:02.301785",
     "exception": false,
     "start_time": "2025-08-05T14:43:58.577130",
     "status": "completed"
    },
    "tags": []
   },
   "outputs": [],
   "source": [
    "from fairness_multiverse.conformal import predict_conformal_sets\n",
    "\n",
    "# Generate prediction sets for each test example\n",
    "pred_sets = predict_conformal_sets(model, X_test, q_hat)"
   ]
  },
  {
   "cell_type": "code",
   "execution_count": 43,
   "id": "d90c9a65-e6db-4f5d-80cd-e68fb7e46829",
   "metadata": {
    "execution": {
     "iopub.execute_input": "2025-08-05T14:44:02.326446Z",
     "iopub.status.busy": "2025-08-05T14:44:02.326106Z",
     "iopub.status.idle": "2025-08-05T14:44:02.330622Z",
     "shell.execute_reply": "2025-08-05T14:44:02.329706Z"
    },
    "papermill": {
     "duration": 0.019404,
     "end_time": "2025-08-05T14:44:02.332168",
     "exception": false,
     "start_time": "2025-08-05T14:44:02.312764",
     "status": "completed"
    },
    "tags": []
   },
   "outputs": [],
   "source": [
    "y_true = y_true.squeeze()"
   ]
  },
  {
   "cell_type": "code",
   "execution_count": 44,
   "id": "3a58a54a-1e68-46b9-927a-df01f18aebc8",
   "metadata": {
    "execution": {
     "iopub.execute_input": "2025-08-05T14:44:02.355575Z",
     "iopub.status.busy": "2025-08-05T14:44:02.354855Z",
     "iopub.status.idle": "2025-08-05T14:44:02.819223Z",
     "shell.execute_reply": "2025-08-05T14:44:02.818460Z"
    },
    "papermill": {
     "duration": 0.476988,
     "end_time": "2025-08-05T14:44:02.820637",
     "exception": false,
     "start_time": "2025-08-05T14:44:02.343649",
     "status": "completed"
    },
    "tags": []
   },
   "outputs": [],
   "source": [
    "from fairness_multiverse.conformal import evaluate_sets\n",
    "\n",
    "# Evaluate coverage and average set size on test data\n",
    "metrics = evaluate_sets(pred_sets, y_true)"
   ]
  },
  {
   "cell_type": "markdown",
   "id": "2b569c12-9aaa-4c88-98c9-bbcd0cf3ebb8",
   "metadata": {
    "papermill": {
     "duration": 0.010583,
     "end_time": "2025-08-05T14:44:02.842546",
     "exception": false,
     "start_time": "2025-08-05T14:44:02.831963",
     "status": "completed"
    },
    "tags": []
   },
   "source": [
    "# CP Metrics"
   ]
  },
  {
   "cell_type": "code",
   "execution_count": 45,
   "id": "5ce0a5cb-201f-45a0-ade5-94c7f0bd6095",
   "metadata": {
    "execution": {
     "iopub.execute_input": "2025-08-05T14:44:02.882401Z",
     "iopub.status.busy": "2025-08-05T14:44:02.881474Z",
     "iopub.status.idle": "2025-08-05T14:44:02.888678Z",
     "shell.execute_reply": "2025-08-05T14:44:02.887577Z"
    },
    "papermill": {
     "duration": 0.029572,
     "end_time": "2025-08-05T14:44:02.890592",
     "exception": false,
     "start_time": "2025-08-05T14:44:02.861020",
     "status": "completed"
    },
    "tags": []
   },
   "outputs": [
    {
     "data": {
      "text/plain": [
       "{'coverage': 0.91631925091963, 'avg_size': 1.1487794002898228}"
      ]
     },
     "execution_count": 45,
     "metadata": {},
     "output_type": "execute_result"
    }
   ],
   "source": [
    "metrics"
   ]
  },
  {
   "cell_type": "code",
   "execution_count": 46,
   "id": "9b9a838d-31c9-430b-ae14-12baee460d17",
   "metadata": {
    "execution": {
     "iopub.execute_input": "2025-08-05T14:44:02.917937Z",
     "iopub.status.busy": "2025-08-05T14:44:02.917567Z",
     "iopub.status.idle": "2025-08-05T14:44:02.923115Z",
     "shell.execute_reply": "2025-08-05T14:44:02.922380Z"
    },
    "papermill": {
     "duration": 0.01945,
     "end_time": "2025-08-05T14:44:02.924548",
     "exception": false,
     "start_time": "2025-08-05T14:44:02.905098",
     "status": "completed"
    },
    "tags": []
   },
   "outputs": [],
   "source": [
    "example_universe = universe.copy()\n",
    "universe_training_year = example_universe.get(\"training_year\")\n",
    "universe_training_size = example_universe.get(\"training_size\")\n",
    "universe_scale = example_universe.get(\"scale\")\n",
    "universe_model = example_universe.get(\"model\")\n",
    "universe_exclude_features = example_universe.get(\"exclude_features\")\n",
    "universe_exclude_subgroups = example_universe.get(\"exclude_subgroups\")"
   ]
  },
  {
   "cell_type": "code",
   "execution_count": 47,
   "id": "f4b6a8ac-9dc0-4245-8a91-5b3b5999c4f9",
   "metadata": {
    "execution": {
     "iopub.execute_input": "2025-08-05T14:44:02.949391Z",
     "iopub.status.busy": "2025-08-05T14:44:02.948887Z",
     "iopub.status.idle": "2025-08-05T14:44:02.954446Z",
     "shell.execute_reply": "2025-08-05T14:44:02.953670Z"
    },
    "papermill": {
     "duration": 0.019209,
     "end_time": "2025-08-05T14:44:02.955954",
     "exception": false,
     "start_time": "2025-08-05T14:44:02.936745",
     "status": "completed"
    },
    "tags": []
   },
   "outputs": [],
   "source": [
    "cp_metrics_dict = {\n",
    "    \"universe_id\": [universe_id],\n",
    "    \"universe_training_year\": [universe_training_year],\n",
    "    \"universe_training_size\": [universe_training_size],\n",
    "    \"universe_scale\": [universe_scale],\n",
    "    \"universe_model\": [universe_model],\n",
    "    \"universe_exclude_features\": [universe_exclude_features],\n",
    "    \"universe_exclude_subgroups\": [universe_exclude_subgroups],\n",
    "    \"q_hat\": [q_hat],\n",
    "    \"coverage\": [metrics[\"coverage\"]],\n",
    "    \"avg_size\": [metrics[\"avg_size\"]],\n",
    "}"
   ]
  },
  {
   "cell_type": "code",
   "execution_count": 48,
   "id": "908acbb1-0371-4915-85ca-3fa520d2efe2",
   "metadata": {
    "execution": {
     "iopub.execute_input": "2025-08-05T14:44:02.981075Z",
     "iopub.status.busy": "2025-08-05T14:44:02.980303Z",
     "iopub.status.idle": "2025-08-05T14:44:02.986861Z",
     "shell.execute_reply": "2025-08-05T14:44:02.986019Z"
    },
    "papermill": {
     "duration": 0.019988,
     "end_time": "2025-08-05T14:44:02.988199",
     "exception": false,
     "start_time": "2025-08-05T14:44:02.968211",
     "status": "completed"
    },
    "tags": []
   },
   "outputs": [
    {
     "data": {
      "text/plain": [
       "{'universe_id': ['b4caf9f6173ec0a9f3d7f4f472a10831'],\n",
       " 'universe_training_year': ['2014'],\n",
       " 'universe_training_size': ['25k'],\n",
       " 'universe_scale': ['do-not-scale'],\n",
       " 'universe_model': ['rf'],\n",
       " 'universe_exclude_features': ['nationality-sex'],\n",
       " 'universe_exclude_subgroups': ['keep-all'],\n",
       " 'q_hat': [0.6699999999999999],\n",
       " 'coverage': [0.91631925091963],\n",
       " 'avg_size': [1.1487794002898228]}"
      ]
     },
     "execution_count": 48,
     "metadata": {},
     "output_type": "execute_result"
    }
   ],
   "source": [
    "cp_metrics_dict"
   ]
  },
  {
   "cell_type": "code",
   "execution_count": 49,
   "id": "33007efc-14e9-4ec6-97ac-56a455c82265",
   "metadata": {
    "execution": {
     "iopub.execute_input": "2025-08-05T14:44:03.011991Z",
     "iopub.status.busy": "2025-08-05T14:44:03.011523Z",
     "iopub.status.idle": "2025-08-05T14:44:03.016886Z",
     "shell.execute_reply": "2025-08-05T14:44:03.016139Z"
    },
    "papermill": {
     "duration": 0.018463,
     "end_time": "2025-08-05T14:44:03.018426",
     "exception": false,
     "start_time": "2025-08-05T14:44:02.999963",
     "status": "completed"
    },
    "tags": []
   },
   "outputs": [],
   "source": [
    "cp_metrics_df = pd.DataFrame(cp_metrics_dict)"
   ]
  },
  {
   "cell_type": "code",
   "execution_count": 50,
   "id": "db12611b-57b2-4910-b9d0-355adfd6e7bf",
   "metadata": {
    "execution": {
     "iopub.execute_input": "2025-08-05T14:44:03.042711Z",
     "iopub.status.busy": "2025-08-05T14:44:03.041995Z",
     "iopub.status.idle": "2025-08-05T14:44:03.056037Z",
     "shell.execute_reply": "2025-08-05T14:44:03.055307Z"
    },
    "papermill": {
     "duration": 0.026866,
     "end_time": "2025-08-05T14:44:03.057312",
     "exception": false,
     "start_time": "2025-08-05T14:44:03.030446",
     "status": "completed"
    },
    "tags": []
   },
   "outputs": [
    {
     "data": {
      "text/html": [
       "<div>\n",
       "<style scoped>\n",
       "    .dataframe tbody tr th:only-of-type {\n",
       "        vertical-align: middle;\n",
       "    }\n",
       "\n",
       "    .dataframe tbody tr th {\n",
       "        vertical-align: top;\n",
       "    }\n",
       "\n",
       "    .dataframe thead th {\n",
       "        text-align: right;\n",
       "    }\n",
       "</style>\n",
       "<table border=\"1\" class=\"dataframe\">\n",
       "  <thead>\n",
       "    <tr style=\"text-align: right;\">\n",
       "      <th></th>\n",
       "      <th>universe_id</th>\n",
       "      <th>universe_training_year</th>\n",
       "      <th>universe_training_size</th>\n",
       "      <th>universe_scale</th>\n",
       "      <th>universe_model</th>\n",
       "      <th>universe_exclude_features</th>\n",
       "      <th>universe_exclude_subgroups</th>\n",
       "      <th>q_hat</th>\n",
       "      <th>coverage</th>\n",
       "      <th>avg_size</th>\n",
       "    </tr>\n",
       "  </thead>\n",
       "  <tbody>\n",
       "    <tr>\n",
       "      <th>0</th>\n",
       "      <td>b4caf9f6173ec0a9f3d7f4f472a10831</td>\n",
       "      <td>2014</td>\n",
       "      <td>25k</td>\n",
       "      <td>do-not-scale</td>\n",
       "      <td>rf</td>\n",
       "      <td>nationality-sex</td>\n",
       "      <td>keep-all</td>\n",
       "      <td>0.67</td>\n",
       "      <td>0.916319</td>\n",
       "      <td>1.148779</td>\n",
       "    </tr>\n",
       "  </tbody>\n",
       "</table>\n",
       "</div>"
      ],
      "text/plain": [
       "                        universe_id universe_training_year  \\\n",
       "0  b4caf9f6173ec0a9f3d7f4f472a10831                   2014   \n",
       "\n",
       "  universe_training_size universe_scale universe_model  \\\n",
       "0                    25k   do-not-scale             rf   \n",
       "\n",
       "  universe_exclude_features universe_exclude_subgroups  q_hat  coverage  \\\n",
       "0           nationality-sex                   keep-all   0.67  0.916319   \n",
       "\n",
       "   avg_size  \n",
       "0  1.148779  "
      ]
     },
     "execution_count": 50,
     "metadata": {},
     "output_type": "execute_result"
    }
   ],
   "source": [
    "cp_metrics_df"
   ]
  },
  {
   "cell_type": "code",
   "execution_count": 51,
   "id": "b7fbde55-a0a1-47e4-9af6-fe4a17fa8c61",
   "metadata": {
    "execution": {
     "iopub.execute_input": "2025-08-05T14:44:03.081474Z",
     "iopub.status.busy": "2025-08-05T14:44:03.080736Z",
     "iopub.status.idle": "2025-08-05T14:44:03.085198Z",
     "shell.execute_reply": "2025-08-05T14:44:03.084444Z"
    },
    "papermill": {
     "duration": 0.017686,
     "end_time": "2025-08-05T14:44:03.086680",
     "exception": false,
     "start_time": "2025-08-05T14:44:03.068994",
     "status": "completed"
    },
    "tags": []
   },
   "outputs": [],
   "source": [
    "# Conditional Coverage & looking at subgroups"
   ]
  },
  {
   "cell_type": "code",
   "execution_count": 52,
   "id": "027ae886-68dd-4141-96c7-805a5450e1ef",
   "metadata": {
    "execution": {
     "iopub.execute_input": "2025-08-05T14:44:03.110999Z",
     "iopub.status.busy": "2025-08-05T14:44:03.110357Z",
     "iopub.status.idle": "2025-08-05T14:44:03.288254Z",
     "shell.execute_reply": "2025-08-05T14:44:03.287494Z"
    },
    "papermill": {
     "duration": 0.191263,
     "end_time": "2025-08-05T14:44:03.289773",
     "exception": false,
     "start_time": "2025-08-05T14:44:03.098510",
     "status": "completed"
    },
    "tags": []
   },
   "outputs": [],
   "source": [
    "from fairness_multiverse.conformal import build_cp_groups\n",
    "\n",
    "cp_groups_df = build_cp_groups(pred_sets, y_true, X_test.index, org_test)\n",
    "#needs universe_id and setting"
   ]
  },
  {
   "cell_type": "code",
   "execution_count": 53,
   "id": "6cbdab96-b2b2-45af-ad54-d0516db2e28d",
   "metadata": {
    "execution": {
     "iopub.execute_input": "2025-08-05T14:44:03.313634Z",
     "iopub.status.busy": "2025-08-05T14:44:03.313246Z",
     "iopub.status.idle": "2025-08-05T14:44:04.150517Z",
     "shell.execute_reply": "2025-08-05T14:44:04.149711Z"
    },
    "papermill": {
     "duration": 0.850613,
     "end_time": "2025-08-05T14:44:04.152095",
     "exception": false,
     "start_time": "2025-08-05T14:44:03.301482",
     "status": "completed"
    },
    "tags": []
   },
   "outputs": [],
   "source": [
    "# Define covered = 1 if true_label is in the predicted set\n",
    "cp_groups_df['covered'] = cp_groups_df.apply(\n",
    "    lambda r: int(r['true_label'] in r['pred_set']),\n",
    "    axis=1\n",
    ")"
   ]
  },
  {
   "cell_type": "code",
   "execution_count": 54,
   "id": "338ff529-1a6b-4b87-a931-8e4788d52aad",
   "metadata": {
    "execution": {
     "iopub.execute_input": "2025-08-05T14:44:04.175905Z",
     "iopub.status.busy": "2025-08-05T14:44:04.175560Z",
     "iopub.status.idle": "2025-08-05T14:44:04.179904Z",
     "shell.execute_reply": "2025-08-05T14:44:04.179061Z"
    },
    "papermill": {
     "duration": 0.017409,
     "end_time": "2025-08-05T14:44:04.181268",
     "exception": false,
     "start_time": "2025-08-05T14:44:04.163859",
     "status": "completed"
    },
    "tags": []
   },
   "outputs": [],
   "source": [
    "#cp_groups_df"
   ]
  },
  {
   "cell_type": "code",
   "execution_count": 55,
   "id": "90032e27-66df-4540-9169-4e89cfbaa758",
   "metadata": {
    "execution": {
     "iopub.execute_input": "2025-08-05T14:44:04.206233Z",
     "iopub.status.busy": "2025-08-05T14:44:04.205494Z",
     "iopub.status.idle": "2025-08-05T14:44:04.215386Z",
     "shell.execute_reply": "2025-08-05T14:44:04.214683Z"
    },
    "papermill": {
     "duration": 0.023316,
     "end_time": "2025-08-05T14:44:04.216708",
     "exception": false,
     "start_time": "2025-08-05T14:44:04.193392",
     "status": "completed"
    },
    "tags": []
   },
   "outputs": [],
   "source": [
    "subgroups = ['frau1','nongerman','nongerman_male','nongerman_female']\n",
    "\n",
    "# Conditional coverage for subgroup==1\n",
    "cond_coverage = {\n",
    "    g: cp_groups_df.loc[cp_groups_df[g]==1, 'covered'].mean()\n",
    "    for g in subgroups\n",
    "}"
   ]
  },
  {
   "cell_type": "code",
   "execution_count": 56,
   "id": "1e348fb1-b9c3-45bc-ba23-f016827a7e0d",
   "metadata": {
    "execution": {
     "iopub.execute_input": "2025-08-05T14:44:04.241229Z",
     "iopub.status.busy": "2025-08-05T14:44:04.240574Z",
     "iopub.status.idle": "2025-08-05T14:44:04.246811Z",
     "shell.execute_reply": "2025-08-05T14:44:04.245995Z"
    },
    "papermill": {
     "duration": 0.019423,
     "end_time": "2025-08-05T14:44:04.248218",
     "exception": false,
     "start_time": "2025-08-05T14:44:04.228795",
     "status": "completed"
    },
    "tags": []
   },
   "outputs": [
    {
     "data": {
      "text/plain": [
       "{'frau1': 0.9161881655209597,\n",
       " 'nongerman': 0.914556784370965,\n",
       " 'nongerman_male': 0.9274070071151941,\n",
       " 'nongerman_female': 0.8932935916542474}"
      ]
     },
     "execution_count": 56,
     "metadata": {},
     "output_type": "execute_result"
    }
   ],
   "source": [
    "cond_coverage"
   ]
  },
  {
   "cell_type": "code",
   "execution_count": 57,
   "id": "f5093324-c3dd-4d63-bc4c-8d945e5c8bbb",
   "metadata": {
    "execution": {
     "iopub.execute_input": "2025-08-05T14:44:04.273298Z",
     "iopub.status.busy": "2025-08-05T14:44:04.272560Z",
     "iopub.status.idle": "2025-08-05T14:44:04.278804Z",
     "shell.execute_reply": "2025-08-05T14:44:04.277988Z"
    },
    "papermill": {
     "duration": 0.019913,
     "end_time": "2025-08-05T14:44:04.280270",
     "exception": false,
     "start_time": "2025-08-05T14:44:04.260357",
     "status": "completed"
    },
    "tags": []
   },
   "outputs": [],
   "source": [
    "for subgroup, cov in cond_coverage.items():\n",
    "    cp_metrics_df[f\"cov_{subgroup}\"] = cov"
   ]
  },
  {
   "cell_type": "code",
   "execution_count": 58,
   "id": "6e872e10-dbe5-49e8-b554-5030c98ff75d",
   "metadata": {
    "execution": {
     "iopub.execute_input": "2025-08-05T14:44:04.305725Z",
     "iopub.status.busy": "2025-08-05T14:44:04.305061Z",
     "iopub.status.idle": "2025-08-05T14:44:04.319570Z",
     "shell.execute_reply": "2025-08-05T14:44:04.318809Z"
    },
    "papermill": {
     "duration": 0.028159,
     "end_time": "2025-08-05T14:44:04.321017",
     "exception": false,
     "start_time": "2025-08-05T14:44:04.292858",
     "status": "completed"
    },
    "tags": []
   },
   "outputs": [
    {
     "data": {
      "text/html": [
       "<div>\n",
       "<style scoped>\n",
       "    .dataframe tbody tr th:only-of-type {\n",
       "        vertical-align: middle;\n",
       "    }\n",
       "\n",
       "    .dataframe tbody tr th {\n",
       "        vertical-align: top;\n",
       "    }\n",
       "\n",
       "    .dataframe thead th {\n",
       "        text-align: right;\n",
       "    }\n",
       "</style>\n",
       "<table border=\"1\" class=\"dataframe\">\n",
       "  <thead>\n",
       "    <tr style=\"text-align: right;\">\n",
       "      <th></th>\n",
       "      <th>universe_id</th>\n",
       "      <th>universe_training_year</th>\n",
       "      <th>universe_training_size</th>\n",
       "      <th>universe_scale</th>\n",
       "      <th>universe_model</th>\n",
       "      <th>universe_exclude_features</th>\n",
       "      <th>universe_exclude_subgroups</th>\n",
       "      <th>q_hat</th>\n",
       "      <th>coverage</th>\n",
       "      <th>avg_size</th>\n",
       "      <th>cov_frau1</th>\n",
       "      <th>cov_nongerman</th>\n",
       "      <th>cov_nongerman_male</th>\n",
       "      <th>cov_nongerman_female</th>\n",
       "    </tr>\n",
       "  </thead>\n",
       "  <tbody>\n",
       "    <tr>\n",
       "      <th>0</th>\n",
       "      <td>b4caf9f6173ec0a9f3d7f4f472a10831</td>\n",
       "      <td>2014</td>\n",
       "      <td>25k</td>\n",
       "      <td>do-not-scale</td>\n",
       "      <td>rf</td>\n",
       "      <td>nationality-sex</td>\n",
       "      <td>keep-all</td>\n",
       "      <td>0.67</td>\n",
       "      <td>0.916319</td>\n",
       "      <td>1.148779</td>\n",
       "      <td>0.916188</td>\n",
       "      <td>0.914557</td>\n",
       "      <td>0.927407</td>\n",
       "      <td>0.893294</td>\n",
       "    </tr>\n",
       "  </tbody>\n",
       "</table>\n",
       "</div>"
      ],
      "text/plain": [
       "                        universe_id universe_training_year  \\\n",
       "0  b4caf9f6173ec0a9f3d7f4f472a10831                   2014   \n",
       "\n",
       "  universe_training_size universe_scale universe_model  \\\n",
       "0                    25k   do-not-scale             rf   \n",
       "\n",
       "  universe_exclude_features universe_exclude_subgroups  q_hat  coverage  \\\n",
       "0           nationality-sex                   keep-all   0.67  0.916319   \n",
       "\n",
       "   avg_size  cov_frau1  cov_nongerman  cov_nongerman_male  \\\n",
       "0  1.148779   0.916188       0.914557            0.927407   \n",
       "\n",
       "   cov_nongerman_female  \n",
       "0              0.893294  "
      ]
     },
     "execution_count": 58,
     "metadata": {},
     "output_type": "execute_result"
    }
   ],
   "source": [
    "cp_metrics_df"
   ]
  },
  {
   "cell_type": "markdown",
   "id": "33774451",
   "metadata": {
    "papermill": {
     "duration": 0.0115,
     "end_time": "2025-08-05T14:44:04.345250",
     "exception": false,
     "start_time": "2025-08-05T14:44:04.333750",
     "status": "completed"
    },
    "tags": []
   },
   "source": [
    "# (Fairness) Metrics"
   ]
  },
  {
   "cell_type": "code",
   "execution_count": 59,
   "id": "debc5d62",
   "metadata": {
    "execution": {
     "iopub.execute_input": "2025-08-05T14:44:04.370736Z",
     "iopub.status.busy": "2025-08-05T14:44:04.370052Z",
     "iopub.status.idle": "2025-08-05T14:44:04.384662Z",
     "shell.execute_reply": "2025-08-05T14:44:04.383930Z"
    },
    "papermill": {
     "duration": 0.028184,
     "end_time": "2025-08-05T14:44:04.385955",
     "exception": false,
     "start_time": "2025-08-05T14:44:04.357771",
     "status": "completed"
    },
    "tags": []
   },
   "outputs": [],
   "source": [
    "# do I need to include maxdeutsch1.missing?\n",
    "\n",
    "import numpy as np\n",
    "\n",
    "colname_to_bin = \"maxdeutsch1\"\n",
    "majority_value = org_train[colname_to_bin].mode()[0]\n",
    "\n",
    "org_test[\"majmin\"] = np.where(org_test[colname_to_bin] == majority_value, \"majority\", \"minority\")"
   ]
  },
  {
   "cell_type": "code",
   "execution_count": 60,
   "id": "06a50de5",
   "metadata": {
    "execution": {
     "iopub.execute_input": "2025-08-05T14:44:04.411626Z",
     "iopub.status.busy": "2025-08-05T14:44:04.411351Z",
     "iopub.status.idle": "2025-08-05T14:44:05.922910Z",
     "shell.execute_reply": "2025-08-05T14:44:05.922158Z"
    },
    "papermill": {
     "duration": 1.525793,
     "end_time": "2025-08-05T14:44:05.924355",
     "exception": false,
     "start_time": "2025-08-05T14:44:04.398562",
     "status": "completed"
    },
    "tags": []
   },
   "outputs": [],
   "source": [
    "example_universe = universe.copy()\n",
    "example_universe[\"cutoff\"] = example_universe[\"cutoff\"][0]\n",
    "example_universe[\"eval_fairness_grouping\"] = example_universe[\"eval_fairness_grouping\"][0]\n",
    "fairness_dict, metric_frame = universe_analysis.compute_metrics(\n",
    "    example_universe,\n",
    "    y_pred_prob=probs_test,\n",
    "    y_test=y_true,\n",
    "    org_test=org_test,\n",
    ")"
   ]
  },
  {
   "cell_type": "markdown",
   "id": "f95d4e02",
   "metadata": {
    "papermill": {
     "duration": 0.011441,
     "end_time": "2025-08-05T14:44:05.950424",
     "exception": false,
     "start_time": "2025-08-05T14:44:05.938983",
     "status": "completed"
    },
    "tags": []
   },
   "source": [
    "# Overall"
   ]
  },
  {
   "cell_type": "markdown",
   "id": "bdee4871",
   "metadata": {
    "papermill": {
     "duration": 0.011411,
     "end_time": "2025-08-05T14:44:05.973310",
     "exception": false,
     "start_time": "2025-08-05T14:44:05.961899",
     "status": "completed"
    },
    "tags": []
   },
   "source": [
    "Fairness\n",
    "Main fairness target: Equalized Odds. Seems to be a better fit than equal opportunity, since we're not only interested in Y = 1. Seems to be a better fit than demographic parity, since we also care about accuracy, not just equal distribution of preds.\n",
    "\n",
    "Pick column for computation of fairness metrics\n",
    "\n",
    "Performance\n",
    "Overall performance measures, most interesting in relation to the measures split by group below"
   ]
  },
  {
   "cell_type": "code",
   "execution_count": 61,
   "id": "c4e067c6",
   "metadata": {
    "execution": {
     "iopub.execute_input": "2025-08-05T14:44:05.997817Z",
     "iopub.status.busy": "2025-08-05T14:44:05.997046Z",
     "iopub.status.idle": "2025-08-05T14:44:06.004688Z",
     "shell.execute_reply": "2025-08-05T14:44:06.003832Z"
    },
    "papermill": {
     "duration": 0.021488,
     "end_time": "2025-08-05T14:44:06.006188",
     "exception": false,
     "start_time": "2025-08-05T14:44:05.984700",
     "status": "completed"
    },
    "tags": []
   },
   "outputs": [
    {
     "data": {
      "text/plain": [
       "accuracy                   0.213020\n",
       "balanced accuracy          0.537340\n",
       "f1                         0.240926\n",
       "precision                  0.137472\n",
       "false positive rate        0.898903\n",
       "false negative rate        0.026416\n",
       "selection rate             0.908483\n",
       "count                  89710.000000\n",
       "dtype: float64"
      ]
     },
     "execution_count": 61,
     "metadata": {},
     "output_type": "execute_result"
    }
   ],
   "source": [
    "metric_frame.overall"
   ]
  },
  {
   "cell_type": "markdown",
   "id": "e968fe9d",
   "metadata": {
    "papermill": {
     "duration": 0.011919,
     "end_time": "2025-08-05T14:44:06.030840",
     "exception": false,
     "start_time": "2025-08-05T14:44:06.018921",
     "status": "completed"
    },
    "tags": []
   },
   "source": [
    "By Group"
   ]
  },
  {
   "cell_type": "code",
   "execution_count": 62,
   "id": "ec325bce",
   "metadata": {
    "execution": {
     "iopub.execute_input": "2025-08-05T14:44:06.055665Z",
     "iopub.status.busy": "2025-08-05T14:44:06.055165Z",
     "iopub.status.idle": "2025-08-05T14:44:06.067555Z",
     "shell.execute_reply": "2025-08-05T14:44:06.066796Z"
    },
    "papermill": {
     "duration": 0.026417,
     "end_time": "2025-08-05T14:44:06.069005",
     "exception": false,
     "start_time": "2025-08-05T14:44:06.042588",
     "status": "completed"
    },
    "tags": []
   },
   "outputs": [
    {
     "data": {
      "text/html": [
       "<div>\n",
       "<style scoped>\n",
       "    .dataframe tbody tr th:only-of-type {\n",
       "        vertical-align: middle;\n",
       "    }\n",
       "\n",
       "    .dataframe tbody tr th {\n",
       "        vertical-align: top;\n",
       "    }\n",
       "\n",
       "    .dataframe thead th {\n",
       "        text-align: right;\n",
       "    }\n",
       "</style>\n",
       "<table border=\"1\" class=\"dataframe\">\n",
       "  <thead>\n",
       "    <tr style=\"text-align: right;\">\n",
       "      <th></th>\n",
       "      <th>accuracy</th>\n",
       "      <th>balanced accuracy</th>\n",
       "      <th>f1</th>\n",
       "      <th>precision</th>\n",
       "      <th>false positive rate</th>\n",
       "      <th>false negative rate</th>\n",
       "      <th>selection rate</th>\n",
       "      <th>count</th>\n",
       "    </tr>\n",
       "    <tr>\n",
       "      <th>majmin</th>\n",
       "      <th></th>\n",
       "      <th></th>\n",
       "      <th></th>\n",
       "      <th></th>\n",
       "      <th></th>\n",
       "      <th></th>\n",
       "      <th></th>\n",
       "      <th></th>\n",
       "    </tr>\n",
       "  </thead>\n",
       "  <tbody>\n",
       "    <tr>\n",
       "      <th>majority</th>\n",
       "      <td>0.198193</td>\n",
       "      <td>0.533836</td>\n",
       "      <td>0.246034</td>\n",
       "      <td>0.140471</td>\n",
       "      <td>0.922372</td>\n",
       "      <td>0.009956</td>\n",
       "      <td>0.931314</td>\n",
       "      <td>69170.0</td>\n",
       "    </tr>\n",
       "    <tr>\n",
       "      <th>minority</th>\n",
       "      <td>0.262950</td>\n",
       "      <td>0.544339</td>\n",
       "      <td>0.221605</td>\n",
       "      <td>0.126164</td>\n",
       "      <td>0.821374</td>\n",
       "      <td>0.089949</td>\n",
       "      <td>0.831597</td>\n",
       "      <td>20540.0</td>\n",
       "    </tr>\n",
       "  </tbody>\n",
       "</table>\n",
       "</div>"
      ],
      "text/plain": [
       "          accuracy  balanced accuracy        f1  precision  \\\n",
       "majmin                                                       \n",
       "majority  0.198193           0.533836  0.246034   0.140471   \n",
       "minority  0.262950           0.544339  0.221605   0.126164   \n",
       "\n",
       "          false positive rate  false negative rate  selection rate    count  \n",
       "majmin                                                                       \n",
       "majority             0.922372             0.009956        0.931314  69170.0  \n",
       "minority             0.821374             0.089949        0.831597  20540.0  "
      ]
     },
     "execution_count": 62,
     "metadata": {},
     "output_type": "execute_result"
    }
   ],
   "source": [
    "metric_frame.by_group"
   ]
  },
  {
   "cell_type": "code",
   "execution_count": 63,
   "id": "a9ddbe63",
   "metadata": {
    "execution": {
     "iopub.execute_input": "2025-08-05T14:44:06.095145Z",
     "iopub.status.busy": "2025-08-05T14:44:06.094669Z",
     "iopub.status.idle": "2025-08-05T14:44:07.723218Z",
     "shell.execute_reply": "2025-08-05T14:44:07.722417Z"
    },
    "papermill": {
     "duration": 1.642322,
     "end_time": "2025-08-05T14:44:07.724535",
     "exception": false,
     "start_time": "2025-08-05T14:44:06.082213",
     "status": "completed"
    },
    "tags": []
   },
   "outputs": [
    {
     "data": {
      "text/plain": [
       "array([[<Axes: title={'center': 'accuracy'}, xlabel='majmin'>,\n",
       "        <Axes: title={'center': 'balanced accuracy'}, xlabel='majmin'>,\n",
       "        <Axes: title={'center': 'f1'}, xlabel='majmin'>],\n",
       "       [<Axes: title={'center': 'precision'}, xlabel='majmin'>,\n",
       "        <Axes: title={'center': 'false positive rate'}, xlabel='majmin'>,\n",
       "        <Axes: title={'center': 'false negative rate'}, xlabel='majmin'>],\n",
       "       [<Axes: title={'center': 'selection rate'}, xlabel='majmin'>,\n",
       "        <Axes: title={'center': 'count'}, xlabel='majmin'>,\n",
       "        <Axes: xlabel='majmin'>]], dtype=object)"
      ]
     },
     "execution_count": 63,
     "metadata": {},
     "output_type": "execute_result"
    },
    {
     "data": {
      "image/png": "[encoded data removed]",
      "text/plain": [
       "<Figure size 1200x800 with 9 Axes>"
      ]
     },
     "metadata": {},
     "output_type": "display_data"
    }
   ],
   "source": [
    "# In a graphic\n",
    "metric_frame.by_group.plot.bar(\n",
    "    subplots=True,\n",
    "    layout=[3, 3],\n",
    "    legend=False,\n",
    "    figsize=[12, 8],\n",
    "    title=\"Show all metrics\",\n",
    ")"
   ]
  },
  {
   "cell_type": "markdown",
   "id": "f57a0bac",
   "metadata": {
    "papermill": {
     "duration": 0.012706,
     "end_time": "2025-08-05T14:44:07.750830",
     "exception": false,
     "start_time": "2025-08-05T14:44:07.738124",
     "status": "completed"
    },
    "tags": []
   },
   "source": [
    "# Final Output"
   ]
  },
  {
   "cell_type": "code",
   "execution_count": 64,
   "id": "96d280a3",
   "metadata": {
    "execution": {
     "iopub.execute_input": "2025-08-05T14:44:07.778254Z",
     "iopub.status.busy": "2025-08-05T14:44:07.777747Z",
     "iopub.status.idle": "2025-08-05T14:44:07.785600Z",
     "shell.execute_reply": "2025-08-05T14:44:07.784846Z"
    },
    "papermill": {
     "duration": 0.023126,
     "end_time": "2025-08-05T14:44:07.786847",
     "exception": false,
     "start_time": "2025-08-05T14:44:07.763721",
     "status": "completed"
    },
    "tags": []
   },
   "outputs": [
    {
     "data": {
      "text/plain": [
       "4"
      ]
     },
     "execution_count": 64,
     "metadata": {},
     "output_type": "execute_result"
    }
   ],
   "source": [
    "sub_universes = universe_analysis.generate_sub_universes()\n",
    "len(sub_universes)"
   ]
  },
  {
   "cell_type": "code",
   "execution_count": 65,
   "id": "92adf7ba",
   "metadata": {
    "execution": {
     "iopub.execute_input": "2025-08-05T14:44:07.814530Z",
     "iopub.status.busy": "2025-08-05T14:44:07.813762Z",
     "iopub.status.idle": "2025-08-05T14:44:07.838680Z",
     "shell.execute_reply": "2025-08-05T14:44:07.837834Z"
    },
    "papermill": {
     "duration": 0.040204,
     "end_time": "2025-08-05T14:44:07.840255",
     "exception": false,
     "start_time": "2025-08-05T14:44:07.800051",
     "status": "completed"
    },
    "tags": []
   },
   "outputs": [],
   "source": [
    "def filter_sub_universe_data(sub_universe, org_test):\n",
    "    # Keep all rows — no filtering\n",
    "    keep_rows_mask = np.ones(org_test.shape[0], dtype=bool)\n",
    "\n",
    "    print(f\"[INFO] Keeping all rows: {keep_rows_mask.sum()} rows retained.\")\n",
    "    return keep_rows_mask"
   ]
  },
  {
   "cell_type": "code",
   "execution_count": 66,
   "id": "4a759155",
   "metadata": {
    "execution": {
     "iopub.execute_input": "2025-08-05T14:44:07.869559Z",
     "iopub.status.busy": "2025-08-05T14:44:07.868883Z",
     "iopub.status.idle": "2025-08-05T14:44:15.737986Z",
     "shell.execute_reply": "2025-08-05T14:44:15.737253Z"
    },
    "papermill": {
     "duration": 7.884206,
     "end_time": "2025-08-05T14:44:15.739178",
     "exception": false,
     "start_time": "2025-08-05T14:44:07.854972",
     "status": "completed"
    },
    "tags": []
   },
   "outputs": [
    {
     "name": "stdout",
     "output_type": "stream",
     "text": [
      "Stopping execution_time clock.\n",
      "[INFO] Keeping all rows: 89710 rows retained.\n"
     ]
    },
    {
     "name": "stdout",
     "output_type": "stream",
     "text": [
      "[INFO] Keeping all rows: 89710 rows retained.\n"
     ]
    },
    {
     "name": "stdout",
     "output_type": "stream",
     "text": [
      "[INFO] Keeping all rows: 89710 rows retained.\n"
     ]
    },
    {
     "name": "stdout",
     "output_type": "stream",
     "text": [
      "[INFO] Keeping all rows: 89710 rows retained.\n"
     ]
    },
    {
     "data": {
      "text/html": [
       "<div>\n",
       "<style scoped>\n",
       "    .dataframe tbody tr th:only-of-type {\n",
       "        vertical-align: middle;\n",
       "    }\n",
       "\n",
       "    .dataframe tbody tr th {\n",
       "        vertical-align: top;\n",
       "    }\n",
       "\n",
       "    .dataframe thead th {\n",
       "        text-align: right;\n",
       "    }\n",
       "</style>\n",
       "<table border=\"1\" class=\"dataframe\">\n",
       "  <thead>\n",
       "    <tr style=\"text-align: right;\">\n",
       "      <th></th>\n",
       "      <th>run_no</th>\n",
       "      <th>universe_id</th>\n",
       "      <th>universe_settings</th>\n",
       "      <th>execution_time</th>\n",
       "      <th>test_size_n</th>\n",
       "      <th>test_size_frac</th>\n",
       "      <th>fair_main_equalized_odds_difference</th>\n",
       "      <th>fair_main_equalized_odds_ratio</th>\n",
       "      <th>fair_main_demographic_parity_difference</th>\n",
       "      <th>fair_main_demographic_parity_ratio</th>\n",
       "      <th>...</th>\n",
       "      <th>perf_grp_precision_0</th>\n",
       "      <th>perf_grp_precision_1</th>\n",
       "      <th>perf_grp_false positive rate_0</th>\n",
       "      <th>perf_grp_false positive rate_1</th>\n",
       "      <th>perf_grp_false negative rate_0</th>\n",
       "      <th>perf_grp_false negative rate_1</th>\n",
       "      <th>perf_grp_selection rate_0</th>\n",
       "      <th>perf_grp_selection rate_1</th>\n",
       "      <th>perf_grp_count_0</th>\n",
       "      <th>perf_grp_count_1</th>\n",
       "    </tr>\n",
       "  </thead>\n",
       "  <tbody>\n",
       "    <tr>\n",
       "      <th>0</th>\n",
       "      <td>15</td>\n",
       "      <td>b4caf9f6173ec0a9f3d7f4f472a10831</td>\n",
       "      <td>{\"cutoff\": \"quantile_0.1\", \"eval_fairness_grou...</td>\n",
       "      <td>38.925995</td>\n",
       "      <td>89710</td>\n",
       "      <td>1.0</td>\n",
       "      <td>0.100999</td>\n",
       "      <td>0.890501</td>\n",
       "      <td>0.099717</td>\n",
       "      <td>0.892928</td>\n",
       "      <td>...</td>\n",
       "      <td>NaN</td>\n",
       "      <td>NaN</td>\n",
       "      <td>NaN</td>\n",
       "      <td>NaN</td>\n",
       "      <td>NaN</td>\n",
       "      <td>NaN</td>\n",
       "      <td>NaN</td>\n",
       "      <td>NaN</td>\n",
       "      <td>NaN</td>\n",
       "      <td>NaN</td>\n",
       "    </tr>\n",
       "    <tr>\n",
       "      <th>0</th>\n",
       "      <td>15</td>\n",
       "      <td>b4caf9f6173ec0a9f3d7f4f472a10831</td>\n",
       "      <td>{\"cutoff\": \"quantile_0.1\", \"eval_fairness_grou...</td>\n",
       "      <td>38.925995</td>\n",
       "      <td>89710</td>\n",
       "      <td>1.0</td>\n",
       "      <td>0.100999</td>\n",
       "      <td>0.890501</td>\n",
       "      <td>0.099717</td>\n",
       "      <td>0.892928</td>\n",
       "      <td>...</td>\n",
       "      <td>0.126164</td>\n",
       "      <td>0.140471</td>\n",
       "      <td>0.821374</td>\n",
       "      <td>0.922372</td>\n",
       "      <td>0.089949</td>\n",
       "      <td>0.009956</td>\n",
       "      <td>0.831597</td>\n",
       "      <td>0.931314</td>\n",
       "      <td>20540.0</td>\n",
       "      <td>69170.0</td>\n",
       "    </tr>\n",
       "    <tr>\n",
       "      <th>0</th>\n",
       "      <td>15</td>\n",
       "      <td>b4caf9f6173ec0a9f3d7f4f472a10831</td>\n",
       "      <td>{\"cutoff\": \"quantile_0.25\", \"eval_fairness_gro...</td>\n",
       "      <td>38.925995</td>\n",
       "      <td>89710</td>\n",
       "      <td>1.0</td>\n",
       "      <td>0.103597</td>\n",
       "      <td>0.889267</td>\n",
       "      <td>0.091872</td>\n",
       "      <td>0.886397</td>\n",
       "      <td>...</td>\n",
       "      <td>NaN</td>\n",
       "      <td>NaN</td>\n",
       "      <td>NaN</td>\n",
       "      <td>NaN</td>\n",
       "      <td>NaN</td>\n",
       "      <td>NaN</td>\n",
       "      <td>NaN</td>\n",
       "      <td>NaN</td>\n",
       "      <td>NaN</td>\n",
       "      <td>NaN</td>\n",
       "    </tr>\n",
       "    <tr>\n",
       "      <th>0</th>\n",
       "      <td>15</td>\n",
       "      <td>b4caf9f6173ec0a9f3d7f4f472a10831</td>\n",
       "      <td>{\"cutoff\": \"quantile_0.25\", \"eval_fairness_gro...</td>\n",
       "      <td>38.925995</td>\n",
       "      <td>89710</td>\n",
       "      <td>1.0</td>\n",
       "      <td>0.103597</td>\n",
       "      <td>0.889267</td>\n",
       "      <td>0.091872</td>\n",
       "      <td>0.886397</td>\n",
       "      <td>...</td>\n",
       "      <td>0.138481</td>\n",
       "      <td>0.157618</td>\n",
       "      <td>0.698052</td>\n",
       "      <td>0.784974</td>\n",
       "      <td>0.138936</td>\n",
       "      <td>0.035339</td>\n",
       "      <td>0.716845</td>\n",
       "      <td>0.808718</td>\n",
       "      <td>20540.0</td>\n",
       "      <td>69170.0</td>\n",
       "    </tr>\n",
       "  </tbody>\n",
       "</table>\n",
       "<p>4 rows × 50 columns</p>\n",
       "</div>"
      ],
      "text/plain": [
       "  run_no                       universe_id  \\\n",
       "0     15  b4caf9f6173ec0a9f3d7f4f472a10831   \n",
       "0     15  b4caf9f6173ec0a9f3d7f4f472a10831   \n",
       "0     15  b4caf9f6173ec0a9f3d7f4f472a10831   \n",
       "0     15  b4caf9f6173ec0a9f3d7f4f472a10831   \n",
       "\n",
       "                                   universe_settings  execution_time  \\\n",
       "0  {\"cutoff\": \"quantile_0.1\", \"eval_fairness_grou...       38.925995   \n",
       "0  {\"cutoff\": \"quantile_0.1\", \"eval_fairness_grou...       38.925995   \n",
       "0  {\"cutoff\": \"quantile_0.25\", \"eval_fairness_gro...       38.925995   \n",
       "0  {\"cutoff\": \"quantile_0.25\", \"eval_fairness_gro...       38.925995   \n",
       "\n",
       "   test_size_n  test_size_frac  fair_main_equalized_odds_difference  \\\n",
       "0        89710             1.0                             0.100999   \n",
       "0        89710             1.0                             0.100999   \n",
       "0        89710             1.0                             0.103597   \n",
       "0        89710             1.0                             0.103597   \n",
       "\n",
       "   fair_main_equalized_odds_ratio  fair_main_demographic_parity_difference  \\\n",
       "0                        0.890501                                 0.099717   \n",
       "0                        0.890501                                 0.099717   \n",
       "0                        0.889267                                 0.091872   \n",
       "0                        0.889267                                 0.091872   \n",
       "\n",
       "   fair_main_demographic_parity_ratio  ...  perf_grp_precision_0  \\\n",
       "0                            0.892928  ...                   NaN   \n",
       "0                            0.892928  ...              0.126164   \n",
       "0                            0.886397  ...                   NaN   \n",
       "0                            0.886397  ...              0.138481   \n",
       "\n",
       "   perf_grp_precision_1  perf_grp_false positive rate_0  \\\n",
       "0                   NaN                             NaN   \n",
       "0              0.140471                        0.821374   \n",
       "0                   NaN                             NaN   \n",
       "0              0.157618                        0.698052   \n",
       "\n",
       "   perf_grp_false positive rate_1  perf_grp_false negative rate_0  \\\n",
       "0                             NaN                             NaN   \n",
       "0                        0.922372                        0.089949   \n",
       "0                             NaN                             NaN   \n",
       "0                        0.784974                        0.138936   \n",
       "\n",
       "   perf_grp_false negative rate_1  perf_grp_selection rate_0  \\\n",
       "0                             NaN                        NaN   \n",
       "0                        0.009956                   0.831597   \n",
       "0                             NaN                        NaN   \n",
       "0                        0.035339                   0.716845   \n",
       "\n",
       "   perf_grp_selection rate_1  perf_grp_count_0  perf_grp_count_1  \n",
       "0                        NaN               NaN               NaN  \n",
       "0                   0.931314           20540.0           69170.0  \n",
       "0                        NaN               NaN               NaN  \n",
       "0                   0.808718           20540.0           69170.0  \n",
       "\n",
       "[4 rows x 50 columns]"
      ]
     },
     "execution_count": 66,
     "metadata": {},
     "output_type": "execute_result"
    }
   ],
   "source": [
    "final_output = universe_analysis.generate_final_output(\n",
    "    y_pred_prob=probs_test,\n",
    "    y_test=y_true,\n",
    "    org_test=org_test,\n",
    "    filter_data=filter_sub_universe_data,\n",
    "    cp_metrics_df=cp_metrics_df,\n",
    "    save=True,\n",
    ")\n",
    "final_output"
   ]
  }
 ],
 "metadata": {
  "celltoolbar": "Tags",
  "kernelspec": {
   "display_name": "Python (CMA Fairness)",
   "language": "python",
   "name": "cma_fair_env"
  },
  "language_info": {
   "codemirror_mode": {
    "name": "ipython",
    "version": 3
   },
   "file_extension": ".py",
   "mimetype": "text/x-python",
   "name": "python",
   "nbconvert_exporter": "python",
   "pygments_lexer": "ipython3",
   "version": "3.10.12"
  },
  "papermill": {
   "default_parameters": {},
   "duration": 50.797816,
   "end_time": "2025-08-05T14:44:16.472328",
   "environment_variables": {},
   "exception": null,
   "input_path": "universe_analysis.ipynb",
   "output_path": "output/runs/15/notebooks/m_15-b4caf9f6173ec0a9f3d7f4f472a10831.ipynb",
   "parameters": {
    "output_dir": "output",
    "run_no": "15",
    "seed": "2023",
    "universe": "{\"cutoff\": [\"quantile_0.1\", \"quantile_0.25\"], \"eval_fairness_grouping\": [\"majority-minority\", \"nationality-all\"], \"exclude_features\": \"nationality-sex\", \"exclude_subgroups\": \"keep-all\", \"model\": \"rf\", \"scale\": \"do-not-scale\", \"training_size\": \"25k\", \"training_year\": \"2014\"}",
    "universe_id": "b4caf9f6173ec0a9f3d7f4f472a10831"
   },
   "start_time": "2025-08-05T14:43:25.674512",
   "version": "2.6.0"
  }
 },
 "nbformat": 4,
 "nbformat_minor": 5
}