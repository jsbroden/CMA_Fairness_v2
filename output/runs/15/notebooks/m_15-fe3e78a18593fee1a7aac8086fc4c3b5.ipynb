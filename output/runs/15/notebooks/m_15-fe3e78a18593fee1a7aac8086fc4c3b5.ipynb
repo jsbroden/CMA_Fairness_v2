{
 "cells": [
  {
   "cell_type": "code",
   "execution_count": 1,
   "id": "f159f837-637b-42ba-96b5-ec9a68c44524",
   "metadata": {
    "execution": {
     "iopub.execute_input": "2025-08-05T16:25:10.734696Z",
     "iopub.status.busy": "2025-08-05T16:25:10.734251Z",
     "iopub.status.idle": "2025-08-05T16:25:10.749646Z",
     "shell.execute_reply": "2025-08-05T16:25:10.748572Z"
    },
    "papermill": {
     "duration": 0.039412,
     "end_time": "2025-08-05T16:25:10.751511",
     "exception": false,
     "start_time": "2025-08-05T16:25:10.712099",
     "status": "completed"
    },
    "tags": []
   },
   "outputs": [
    {
     "name": "stdout",
     "output_type": "stream",
     "text": [
      "/dss/dsshome1/0C/ra93lal2/cma/CMA_Fairness_v2\n"
     ]
    },
    {
     "name": "stderr",
     "output_type": "stream",
     "text": [
      "/dss/dsshome1/0C/ra93lal2/.local/share/virtualenvs/CMA_Fairness_v2-3j10GkSs/lib/python3.10/site-packages/IPython/core/magics/osm.py:393: UserWarning: This is now an optional IPython functionality, using bookmarks requires you to install the `pickleshare` library.\n",
      "  bkms = self.shell.db.get('bookmarks', {})\n",
      "/dss/dsshome1/0C/ra93lal2/.local/share/virtualenvs/CMA_Fairness_v2-3j10GkSs/lib/python3.10/site-packages/IPython/core/magics/osm.py:417: UserWarning: This is now an optional IPython functionality, setting dhist requires you to install the `pickleshare` library.\n",
      "  self.shell.db['dhist'] = compress_dhist(dhist)[-100:]\n"
     ]
    }
   ],
   "source": [
    "%cd ~/cma/CMA_Fairness_v2"
   ]
  },
  {
   "cell_type": "markdown",
   "id": "de2603b9",
   "metadata": {
    "papermill": {
     "duration": 0.020371,
     "end_time": "2025-08-05T16:25:10.791982",
     "exception": false,
     "start_time": "2025-08-05T16:25:10.771611",
     "status": "completed"
    },
    "tags": []
   },
   "source": [
    "The following cell holds the definition of our parameters, these values can be overriden by rendering the with e.g. the following command:\n",
    "\n",
    "papermill -p alpha 0.2 -p ratio 0.3 universe_analysis.ipynb output/test_run.ipynb"
   ]
  },
  {
   "cell_type": "code",
   "execution_count": 2,
   "id": "a80968a0-40bb-4fa9-85ef-2d5eefb01975",
   "metadata": {
    "execution": {
     "iopub.execute_input": "2025-08-05T16:25:10.834439Z",
     "iopub.status.busy": "2025-08-05T16:25:10.833445Z",
     "iopub.status.idle": "2025-08-05T16:25:10.839834Z",
     "shell.execute_reply": "2025-08-05T16:25:10.838696Z"
    },
    "papermill": {
     "duration": 0.029556,
     "end_time": "2025-08-05T16:25:10.841822",
     "exception": false,
     "start_time": "2025-08-05T16:25:10.812266",
     "status": "completed"
    },
    "tags": []
   },
   "outputs": [
    {
     "name": "stdout",
     "output_type": "stream",
     "text": [
      "Current working directory: /dss/dsshome1/0C/ra93lal2/cma/CMA_Fairness_v2\n"
     ]
    }
   ],
   "source": [
    "import os\n",
    "print(\"Current working directory:\", os.getcwd())"
   ]
  },
  {
   "cell_type": "code",
   "execution_count": 3,
   "id": "2dce4c03",
   "metadata": {
    "execution": {
     "iopub.execute_input": "2025-08-05T16:25:10.884834Z",
     "iopub.status.busy": "2025-08-05T16:25:10.883775Z",
     "iopub.status.idle": "2025-08-05T16:25:10.891088Z",
     "shell.execute_reply": "2025-08-05T16:25:10.890030Z"
    },
    "papermill": {
     "duration": 0.030298,
     "end_time": "2025-08-05T16:25:10.892947",
     "exception": false,
     "start_time": "2025-08-05T16:25:10.862649",
     "status": "completed"
    },
    "tags": [
     "parameters"
    ]
   },
   "outputs": [],
   "source": [
    "run_no = 0\n",
    "universe_id = \"test\"\n",
    "universe = {\n",
    "    \"training_size\": \"25k\", # \"25k\", \"5k\", \"1k\"\n",
    "    \"training_year\": \"2014\", # \"2014\", \"2012_14\", \"2010_14\"\n",
    "    \"scale\": \"scale\", # \"scale\", \"do-not-scale\",\n",
    "    \"model\": \"elasticnet\", # \"logreg\", \"penalized_logreg\", \"rf\", \"gbm\", \"elasticnet\"\n",
    "    \"cutoff\": [\"quantile_0.15\", \"quantile_0.30\"],\n",
    "    \"exclude_features\": \"age\", # \"none\", \"nationality\", \"sex\", \"nationality-sex\", \"age\"\n",
    "    \"exclude_subgroups\": \"keep-all\", # \"keep-all\", \"drop-non-german\"\n",
    "    \"eval_fairness_grouping\": [\"majority-minority\", \"nationality-all\"]\n",
    "}\n",
    "\n",
    "output_dir=\"./output\"\n",
    "seed=0"
   ]
  },
  {
   "cell_type": "code",
   "execution_count": 4,
   "id": "dc290975",
   "metadata": {
    "execution": {
     "iopub.execute_input": "2025-08-05T16:25:10.936452Z",
     "iopub.status.busy": "2025-08-05T16:25:10.935768Z",
     "iopub.status.idle": "2025-08-05T16:25:10.941727Z",
     "shell.execute_reply": "2025-08-05T16:25:10.940710Z"
    },
    "papermill": {
     "duration": 0.030036,
     "end_time": "2025-08-05T16:25:10.943615",
     "exception": false,
     "start_time": "2025-08-05T16:25:10.913579",
     "status": "completed"
    },
    "tags": [
     "injected-parameters"
    ]
   },
   "outputs": [],
   "source": [
    "# Parameters\n",
    "universe_id = \"fe3e78a18593fee1a7aac8086fc4c3b5\"\n",
    "run_no = \"15\"\n",
    "universe = \"{\\\"cutoff\\\": [\\\"quantile_0.1\\\", \\\"quantile_0.25\\\"], \\\"eval_fairness_grouping\\\": [\\\"majority-minority\\\", \\\"nationality-all\\\"], \\\"exclude_features\\\": \\\"sex\\\", \\\"exclude_subgroups\\\": \\\"drop-non-german\\\", \\\"model\\\": \\\"penalized_logreg\\\", \\\"scale\\\": \\\"do-not-scale\\\", \\\"training_size\\\": \\\"1k\\\", \\\"training_year\\\": \\\"2012_14\\\"}\"\n",
    "output_dir = \"output\"\n",
    "seed = \"2023\"\n"
   ]
  },
  {
   "cell_type": "code",
   "execution_count": 5,
   "id": "1650acaf",
   "metadata": {
    "execution": {
     "iopub.execute_input": "2025-08-05T16:25:10.986485Z",
     "iopub.status.busy": "2025-08-05T16:25:10.985255Z",
     "iopub.status.idle": "2025-08-05T16:25:11.029757Z",
     "shell.execute_reply": "2025-08-05T16:25:11.028549Z"
    },
    "papermill": {
     "duration": 0.067868,
     "end_time": "2025-08-05T16:25:11.031992",
     "exception": false,
     "start_time": "2025-08-05T16:25:10.964124",
     "status": "completed"
    },
    "tags": []
   },
   "outputs": [],
   "source": [
    "import json\n",
    "if isinstance(universe, str):\n",
    "    universe = json.loads(universe)"
   ]
  },
  {
   "cell_type": "code",
   "execution_count": 6,
   "id": "16620c48",
   "metadata": {
    "execution": {
     "iopub.execute_input": "2025-08-05T16:25:11.075982Z",
     "iopub.status.busy": "2025-08-05T16:25:11.075032Z",
     "iopub.status.idle": "2025-08-05T16:25:11.128826Z",
     "shell.execute_reply": "2025-08-05T16:25:11.127636Z"
    },
    "papermill": {
     "duration": 0.07831,
     "end_time": "2025-08-05T16:25:11.131171",
     "exception": false,
     "start_time": "2025-08-05T16:25:11.052861",
     "status": "completed"
    },
    "tags": []
   },
   "outputs": [],
   "source": [
    "# Auto-reload the custom package\n",
    "%load_ext autoreload\n",
    "%autoreload 1\n",
    "%aimport fairness_multiverse"
   ]
  },
  {
   "cell_type": "code",
   "execution_count": 7,
   "id": "01c5c9f3",
   "metadata": {
    "execution": {
     "iopub.execute_input": "2025-08-05T16:25:11.175372Z",
     "iopub.status.busy": "2025-08-05T16:25:11.174490Z",
     "iopub.status.idle": "2025-08-05T16:25:13.519772Z",
     "shell.execute_reply": "2025-08-05T16:25:13.518568Z"
    },
    "papermill": {
     "duration": 2.369638,
     "end_time": "2025-08-05T16:25:13.522240",
     "exception": false,
     "start_time": "2025-08-05T16:25:11.152602",
     "status": "completed"
    },
    "tags": []
   },
   "outputs": [],
   "source": [
    "from fairness_multiverse.universe import UniverseAnalysis\n",
    "\n",
    "universe_analysis = UniverseAnalysis(\n",
    "    run_no = run_no,\n",
    "    universe_id = universe_id,\n",
    "    universe = universe,\n",
    "    output_dir=output_dir,\n",
    ")"
   ]
  },
  {
   "cell_type": "code",
   "execution_count": 8,
   "id": "106241f5",
   "metadata": {
    "execution": {
     "iopub.execute_input": "2025-08-05T16:25:13.573886Z",
     "iopub.status.busy": "2025-08-05T16:25:13.572891Z",
     "iopub.status.idle": "2025-08-05T16:25:13.582753Z",
     "shell.execute_reply": "2025-08-05T16:25:13.581645Z"
    },
    "papermill": {
     "duration": 0.036885,
     "end_time": "2025-08-05T16:25:13.584793",
     "exception": false,
     "start_time": "2025-08-05T16:25:13.547908",
     "status": "completed"
    },
    "tags": []
   },
   "outputs": [
    {
     "name": "stdout",
     "output_type": "stream",
     "text": [
      "Using Seed: 2023\n"
     ]
    }
   ],
   "source": [
    "import numpy as np\n",
    "parsed_seed = int(seed)\n",
    "np.random.seed(parsed_seed)\n",
    "print(f\"Using Seed: {parsed_seed}\")"
   ]
  },
  {
   "cell_type": "markdown",
   "id": "e0ebdc57",
   "metadata": {
    "papermill": {
     "duration": 0.023883,
     "end_time": "2025-08-05T16:25:13.631542",
     "exception": false,
     "start_time": "2025-08-05T16:25:13.607659",
     "status": "completed"
    },
    "tags": []
   },
   "source": [
    "# Loading Data"
   ]
  },
  {
   "cell_type": "code",
   "execution_count": 9,
   "id": "f0496b8a",
   "metadata": {
    "execution": {
     "iopub.execute_input": "2025-08-05T16:25:13.677608Z",
     "iopub.status.busy": "2025-08-05T16:25:13.676995Z",
     "iopub.status.idle": "2025-08-05T16:25:27.913225Z",
     "shell.execute_reply": "2025-08-05T16:25:27.912010Z"
    },
    "papermill": {
     "duration": 14.26018,
     "end_time": "2025-08-05T16:25:27.915293",
     "exception": false,
     "start_time": "2025-08-05T16:25:13.655113",
     "status": "completed"
    },
    "tags": []
   },
   "outputs": [
    {
     "name": "stdout",
     "output_type": "stream",
     "text": [
      "Loading SIAB data from cache: data/siab_cached.csv.gz\n"
     ]
    },
    {
     "name": "stdout",
     "output_type": "stream",
     "text": [
      "(643690, 164)\n"
     ]
    }
   ],
   "source": [
    "from pathlib import Path\n",
    "import pandas as pd\n",
    "\n",
    "# File paths\n",
    "raw_file = Path(\"data/raw/siab.csv\")\n",
    "cache_file = Path(\"data/siab_cached.csv.gz\")\n",
    "\n",
    "# Ensure cache directory exists\n",
    "cache_file.parent.mkdir(parents=True, exist_ok=True)\n",
    "\n",
    "# Load with simple caching\n",
    "if cache_file.exists():\n",
    "    print(f\"Loading SIAB data from cache: {cache_file}\")\n",
    "    siab = pd.read_csv(cache_file, compression='gzip')\n",
    "else:\n",
    "    print(f\"Cache not found. Reading raw SIAB data: {raw_file}\")\n",
    "    siab = pd.read_csv(raw_file)\n",
    "    siab.to_csv(cache_file, index=False, compression='gzip')\n",
    "    print(f\"Cached SIAB data to: {cache_file}\")\n",
    "\n",
    "print(siab.shape)"
   ]
  },
  {
   "cell_type": "code",
   "execution_count": 10,
   "id": "db0ca512-5f53-4dba-abdb-a2888bca41ba",
   "metadata": {
    "execution": {
     "iopub.execute_input": "2025-08-05T16:25:27.962493Z",
     "iopub.status.busy": "2025-08-05T16:25:27.961928Z",
     "iopub.status.idle": "2025-08-05T16:25:27.968145Z",
     "shell.execute_reply": "2025-08-05T16:25:27.967040Z"
    },
    "papermill": {
     "duration": 0.033077,
     "end_time": "2025-08-05T16:25:27.970265",
     "exception": false,
     "start_time": "2025-08-05T16:25:27.937188",
     "status": "completed"
    },
    "tags": []
   },
   "outputs": [],
   "source": [
    "#siab"
   ]
  },
  {
   "cell_type": "markdown",
   "id": "997051c5-15bd-4b69-9786-c3001a3ce484",
   "metadata": {
    "papermill": {
     "duration": 0.019634,
     "end_time": "2025-08-05T16:25:28.013258",
     "exception": false,
     "start_time": "2025-08-05T16:25:27.993624",
     "status": "completed"
    },
    "tags": []
   },
   "source": [
    "# Splitting Data and Setting Training Data Size"
   ]
  },
  {
   "cell_type": "code",
   "execution_count": 11,
   "id": "aea9c6ef-6f46-42c8-85eb-5a62025c1508",
   "metadata": {
    "execution": {
     "iopub.execute_input": "2025-08-05T16:25:28.059734Z",
     "iopub.status.busy": "2025-08-05T16:25:28.058842Z",
     "iopub.status.idle": "2025-08-05T16:25:28.683435Z",
     "shell.execute_reply": "2025-08-05T16:25:28.682251Z"
    },
    "papermill": {
     "duration": 0.651814,
     "end_time": "2025-08-05T16:25:28.685811",
     "exception": false,
     "start_time": "2025-08-05T16:25:28.033997",
     "status": "completed"
    },
    "tags": []
   },
   "outputs": [],
   "source": [
    "from fairness_multiverse.universe import sample_by_year_size\n",
    "\n",
    "siab_train = sample_by_year_size(siab,\n",
    "                               training_year=universe[\"training_year\"],\n",
    "                               training_size=universe[\"training_size\"])"
   ]
  },
  {
   "cell_type": "code",
   "execution_count": 12,
   "id": "8d3afb32-789d-442c-8d5d-9f5aa8dd2eed",
   "metadata": {
    "execution": {
     "iopub.execute_input": "2025-08-05T16:25:28.731794Z",
     "iopub.status.busy": "2025-08-05T16:25:28.730806Z",
     "iopub.status.idle": "2025-08-05T16:25:28.737096Z",
     "shell.execute_reply": "2025-08-05T16:25:28.735929Z"
    },
    "papermill": {
     "duration": 0.029787,
     "end_time": "2025-08-05T16:25:28.738942",
     "exception": false,
     "start_time": "2025-08-05T16:25:28.709155",
     "status": "completed"
    },
    "tags": []
   },
   "outputs": [],
   "source": [
    "#siab_train.shape"
   ]
  },
  {
   "cell_type": "code",
   "execution_count": 13,
   "id": "d582db68-1a4c-47fb-84fc-08518dc1975a",
   "metadata": {
    "execution": {
     "iopub.execute_input": "2025-08-05T16:25:28.782022Z",
     "iopub.status.busy": "2025-08-05T16:25:28.780959Z",
     "iopub.status.idle": "2025-08-05T16:25:28.787696Z",
     "shell.execute_reply": "2025-08-05T16:25:28.786517Z"
    },
    "papermill": {
     "duration": 0.030811,
     "end_time": "2025-08-05T16:25:28.789944",
     "exception": false,
     "start_time": "2025-08-05T16:25:28.759133",
     "status": "completed"
    },
    "tags": []
   },
   "outputs": [],
   "source": [
    "#display(siab_train.groupby(\"year\").size())"
   ]
  },
  {
   "cell_type": "code",
   "execution_count": 14,
   "id": "a561edb4-d032-42cb-8256-22eac1111c64",
   "metadata": {
    "execution": {
     "iopub.execute_input": "2025-08-05T16:25:28.837689Z",
     "iopub.status.busy": "2025-08-05T16:25:28.836833Z",
     "iopub.status.idle": "2025-08-05T16:25:29.067767Z",
     "shell.execute_reply": "2025-08-05T16:25:29.066626Z"
    },
    "papermill": {
     "duration": 0.245046,
     "end_time": "2025-08-05T16:25:29.069707",
     "exception": false,
     "start_time": "2025-08-05T16:25:28.824661",
     "status": "completed"
    },
    "tags": []
   },
   "outputs": [],
   "source": [
    "#siab_train = siab_s[siab_s.year < 2015]\n",
    "siab_calib = siab[siab.year == 2015]\n",
    "siab_test = siab[siab.year == 2016]"
   ]
  },
  {
   "cell_type": "code",
   "execution_count": 15,
   "id": "472de16f-c3db-4916-846b-1f0de9cf1746",
   "metadata": {
    "execution": {
     "iopub.execute_input": "2025-08-05T16:25:29.121355Z",
     "iopub.status.busy": "2025-08-05T16:25:29.121038Z",
     "iopub.status.idle": "2025-08-05T16:25:29.128584Z",
     "shell.execute_reply": "2025-08-05T16:25:29.127532Z"
    },
    "papermill": {
     "duration": 0.035013,
     "end_time": "2025-08-05T16:25:29.130355",
     "exception": false,
     "start_time": "2025-08-05T16:25:29.095342",
     "status": "completed"
    },
    "tags": []
   },
   "outputs": [],
   "source": [
    "X_train = siab_train.iloc[:,4:164]\n",
    "y_train = siab_train.iloc[:, [3]]"
   ]
  },
  {
   "cell_type": "code",
   "execution_count": 16,
   "id": "828c96af-f43a-4ed6-ba47-8ac73a47d56c",
   "metadata": {
    "execution": {
     "iopub.execute_input": "2025-08-05T16:25:29.172099Z",
     "iopub.status.busy": "2025-08-05T16:25:29.171580Z",
     "iopub.status.idle": "2025-08-05T16:25:29.227564Z",
     "shell.execute_reply": "2025-08-05T16:25:29.226387Z"
    },
    "papermill": {
     "duration": 0.079016,
     "end_time": "2025-08-05T16:25:29.229598",
     "exception": false,
     "start_time": "2025-08-05T16:25:29.150582",
     "status": "completed"
    },
    "tags": []
   },
   "outputs": [],
   "source": [
    "X_calib = siab_calib.iloc[:,4:164]\n",
    "y_calib = siab_calib.iloc[:, [3]]"
   ]
  },
  {
   "cell_type": "code",
   "execution_count": 17,
   "id": "c34be9c3-6bd6-476e-acd3-845840e303be",
   "metadata": {
    "execution": {
     "iopub.execute_input": "2025-08-05T16:25:29.273322Z",
     "iopub.status.busy": "2025-08-05T16:25:29.272502Z",
     "iopub.status.idle": "2025-08-05T16:25:29.331229Z",
     "shell.execute_reply": "2025-08-05T16:25:29.329761Z"
    },
    "papermill": {
     "duration": 0.082407,
     "end_time": "2025-08-05T16:25:29.333253",
     "exception": false,
     "start_time": "2025-08-05T16:25:29.250846",
     "status": "completed"
    },
    "tags": []
   },
   "outputs": [],
   "source": [
    "X_test = siab_test.iloc[:,4:164]\n",
    "y_true = siab_test.iloc[:, [3]]"
   ]
  },
  {
   "cell_type": "code",
   "execution_count": 18,
   "id": "e6c733c5",
   "metadata": {
    "execution": {
     "iopub.execute_input": "2025-08-05T16:25:29.376106Z",
     "iopub.status.busy": "2025-08-05T16:25:29.375287Z",
     "iopub.status.idle": "2025-08-05T16:25:29.482010Z",
     "shell.execute_reply": "2025-08-05T16:25:29.480792Z"
    },
    "papermill": {
     "duration": 0.13033,
     "end_time": "2025-08-05T16:25:29.484401",
     "exception": false,
     "start_time": "2025-08-05T16:25:29.354071",
     "status": "completed"
    },
    "tags": []
   },
   "outputs": [],
   "source": [
    "# Auxiliary data needed downstream in the pipeline\n",
    "\n",
    "org_train = X_train.copy()\n",
    "org_test = X_test.copy()\n",
    "org_calib = X_calib.copy()"
   ]
  },
  {
   "cell_type": "markdown",
   "id": "0a4a1b33",
   "metadata": {
    "papermill": {
     "duration": 0.019986,
     "end_time": "2025-08-05T16:25:29.525417",
     "exception": false,
     "start_time": "2025-08-05T16:25:29.505431",
     "status": "completed"
    },
    "tags": []
   },
   "source": [
    "# Preprocessing Data"
   ]
  },
  {
   "cell_type": "code",
   "execution_count": 19,
   "id": "ca879031",
   "metadata": {
    "execution": {
     "iopub.execute_input": "2025-08-05T16:25:29.568275Z",
     "iopub.status.busy": "2025-08-05T16:25:29.567385Z",
     "iopub.status.idle": "2025-08-05T16:25:29.574672Z",
     "shell.execute_reply": "2025-08-05T16:25:29.573414Z"
    },
    "papermill": {
     "duration": 0.03032,
     "end_time": "2025-08-05T16:25:29.576518",
     "exception": false,
     "start_time": "2025-08-05T16:25:29.546198",
     "status": "completed"
    },
    "tags": []
   },
   "outputs": [],
   "source": [
    "# EXCLUDE PROTECTED FEATURES\n",
    "# ----------------------\n",
    "# \"exclude_features\": \"none\", # \"nationality\", \"sex\", \"nationality-sex\"\n",
    "\n",
    "excluded_features = universe[\"exclude_features\"].split(\"-\") # split, e.g.: \"nationality-sex\" -> [\"nationality\", \"sex\"]\n",
    "excluded_features_dictionary = {\n",
    "    \"nationality\": [\"maxdeutsch1\", \"maxdeutsch.Missing.\"],\n",
    "    \"sex\": [\"frau1\"],\n",
    "    \"age\": [\"age\"],\n",
    "}"
   ]
  },
  {
   "cell_type": "code",
   "execution_count": 20,
   "id": "b745ac60",
   "metadata": {
    "execution": {
     "iopub.execute_input": "2025-08-05T16:25:29.619219Z",
     "iopub.status.busy": "2025-08-05T16:25:29.618391Z",
     "iopub.status.idle": "2025-08-05T16:25:29.625299Z",
     "shell.execute_reply": "2025-08-05T16:25:29.624046Z"
    },
    "papermill": {
     "duration": 0.02977,
     "end_time": "2025-08-05T16:25:29.627099",
     "exception": false,
     "start_time": "2025-08-05T16:25:29.597329",
     "status": "completed"
    },
    "tags": []
   },
   "outputs": [],
   "source": [
    "# Code nice names to column names\n",
    "\n",
    "excluded_features_columns = [\n",
    "    excluded_features_dictionary[f] for f in excluded_features if len(f) > 0 and f != \"none\"\n",
    "]"
   ]
  },
  {
   "cell_type": "code",
   "execution_count": 21,
   "id": "f84f73a2",
   "metadata": {
    "execution": {
     "iopub.execute_input": "2025-08-05T16:25:29.670528Z",
     "iopub.status.busy": "2025-08-05T16:25:29.669706Z",
     "iopub.status.idle": "2025-08-05T16:25:29.676815Z",
     "shell.execute_reply": "2025-08-05T16:25:29.675805Z"
    },
    "papermill": {
     "duration": 0.030622,
     "end_time": "2025-08-05T16:25:29.678605",
     "exception": false,
     "start_time": "2025-08-05T16:25:29.647983",
     "status": "completed"
    },
    "tags": []
   },
   "outputs": [],
   "source": [
    "from utils import flatten_once\n",
    "\n",
    "excluded_features_columns = flatten_once(excluded_features_columns)"
   ]
  },
  {
   "cell_type": "code",
   "execution_count": 22,
   "id": "884dea22",
   "metadata": {
    "execution": {
     "iopub.execute_input": "2025-08-05T16:25:29.722355Z",
     "iopub.status.busy": "2025-08-05T16:25:29.721479Z",
     "iopub.status.idle": "2025-08-05T16:25:29.730352Z",
     "shell.execute_reply": "2025-08-05T16:25:29.729172Z"
    },
    "papermill": {
     "duration": 0.032787,
     "end_time": "2025-08-05T16:25:29.732124",
     "exception": false,
     "start_time": "2025-08-05T16:25:29.699337",
     "status": "completed"
    },
    "tags": []
   },
   "outputs": [
    {
     "name": "stdout",
     "output_type": "stream",
     "text": [
      "Dropping features: ['frau1']\n"
     ]
    }
   ],
   "source": [
    "if len(excluded_features_columns) > 0:\n",
    "    print(f\"Dropping features: {excluded_features_columns}\")\n",
    "    X_train.drop(excluded_features_columns, axis=1, inplace=True)"
   ]
  },
  {
   "cell_type": "code",
   "execution_count": 23,
   "id": "95ab8b16",
   "metadata": {
    "execution": {
     "iopub.execute_input": "2025-08-05T16:25:29.776057Z",
     "iopub.status.busy": "2025-08-05T16:25:29.775486Z",
     "iopub.status.idle": "2025-08-05T16:25:29.834987Z",
     "shell.execute_reply": "2025-08-05T16:25:29.833608Z"
    },
    "papermill": {
     "duration": 0.08433,
     "end_time": "2025-08-05T16:25:29.837178",
     "exception": false,
     "start_time": "2025-08-05T16:25:29.752848",
     "status": "completed"
    },
    "tags": []
   },
   "outputs": [
    {
     "name": "stdout",
     "output_type": "stream",
     "text": [
      "Dropping features: ['frau1']\n"
     ]
    }
   ],
   "source": [
    "if len(excluded_features_columns) > 0:\n",
    "    print(f\"Dropping features: {excluded_features_columns}\")\n",
    "    X_test.drop(excluded_features_columns, axis=1, inplace=True)"
   ]
  },
  {
   "cell_type": "code",
   "execution_count": 24,
   "id": "1853aaf5-fb9f-46cb-a2b5-8ea4ae2237e4",
   "metadata": {
    "execution": {
     "iopub.execute_input": "2025-08-05T16:25:29.891433Z",
     "iopub.status.busy": "2025-08-05T16:25:29.890598Z",
     "iopub.status.idle": "2025-08-05T16:25:29.947660Z",
     "shell.execute_reply": "2025-08-05T16:25:29.946493Z"
    },
    "papermill": {
     "duration": 0.086085,
     "end_time": "2025-08-05T16:25:29.949953",
     "exception": false,
     "start_time": "2025-08-05T16:25:29.863868",
     "status": "completed"
    },
    "tags": []
   },
   "outputs": [
    {
     "name": "stdout",
     "output_type": "stream",
     "text": [
      "Dropping features: ['frau1']\n"
     ]
    }
   ],
   "source": [
    "if len(excluded_features_columns) > 0:\n",
    "    print(f\"Dropping features: {excluded_features_columns}\")\n",
    "    X_calib.drop(excluded_features_columns, axis=1, inplace=True)"
   ]
  },
  {
   "cell_type": "code",
   "execution_count": 25,
   "id": "76c4dc6d",
   "metadata": {
    "execution": {
     "iopub.execute_input": "2025-08-05T16:25:30.004461Z",
     "iopub.status.busy": "2025-08-05T16:25:30.003502Z",
     "iopub.status.idle": "2025-08-05T16:25:30.009979Z",
     "shell.execute_reply": "2025-08-05T16:25:30.008760Z"
    },
    "papermill": {
     "duration": 0.035473,
     "end_time": "2025-08-05T16:25:30.012009",
     "exception": false,
     "start_time": "2025-08-05T16:25:29.976536",
     "status": "completed"
    },
    "tags": []
   },
   "outputs": [],
   "source": [
    "# EXCLUDE CERTAIN SUBGROUPS\n",
    "# ----------------------\n",
    "\n",
    "mode = universe.get(\"exclude_subgroups\", \"keep-all\") \n",
    "# Fetches the exclude_subgroups setting from the universe dict.\n",
    "# Defaults to \"keep-all\" if the key is missing."
   ]
  },
  {
   "cell_type": "code",
   "execution_count": 26,
   "id": "21994072",
   "metadata": {
    "execution": {
     "iopub.execute_input": "2025-08-05T16:25:30.065188Z",
     "iopub.status.busy": "2025-08-05T16:25:30.064776Z",
     "iopub.status.idle": "2025-08-05T16:25:30.072274Z",
     "shell.execute_reply": "2025-08-05T16:25:30.071131Z"
    },
    "papermill": {
     "duration": 0.036436,
     "end_time": "2025-08-05T16:25:30.074352",
     "exception": false,
     "start_time": "2025-08-05T16:25:30.037916",
     "status": "completed"
    },
    "tags": []
   },
   "outputs": [],
   "source": [
    "if mode == \"keep-all\":\n",
    "    keep_mask = pd.Series(True, index=org_train.index)\n",
    "\n",
    "# org_train contains the original feature columns from features_org (in Simson)\n",
    "# features_org contains unprocessed features, for me X_train at beginning ???\n",
    "# For keep-all, creates a boolean Series (keep_mask) of all True, so no rows are removed.\n",
    "\n",
    "elif mode == \"drop-non-german\":\n",
    "    keep_mask = org_train[\"maxdeutsch1\"] == 1 # ??? what about missing values?\n",
    "\n",
    "else:\n",
    "    raise ValueError(f\"Unsupported mode for exclude_subgroups: {mode}\")"
   ]
  },
  {
   "cell_type": "code",
   "execution_count": 27,
   "id": "71651440",
   "metadata": {
    "execution": {
     "iopub.execute_input": "2025-08-05T16:25:30.127702Z",
     "iopub.status.busy": "2025-08-05T16:25:30.127278Z",
     "iopub.status.idle": "2025-08-05T16:25:30.135614Z",
     "shell.execute_reply": "2025-08-05T16:25:30.134449Z"
    },
    "papermill": {
     "duration": 0.037326,
     "end_time": "2025-08-05T16:25:30.137784",
     "exception": false,
     "start_time": "2025-08-05T16:25:30.100458",
     "status": "completed"
    },
    "tags": []
   },
   "outputs": [
    {
     "name": "stdout",
     "output_type": "stream",
     "text": [
      "Dropping 147 rows (14.70%) where mode='drop-non-german'\n"
     ]
    }
   ],
   "source": [
    "n_drop = (~keep_mask).sum() # Calculates how many rows are set to be dropped\n",
    "if n_drop > 0:\n",
    "    pct = n_drop / len(keep_mask) * 100\n",
    "    print(f\"Dropping {n_drop} rows ({pct:.2f}%) where mode='{mode}'\")"
   ]
  },
  {
   "cell_type": "code",
   "execution_count": 28,
   "id": "5fb8eee5",
   "metadata": {
    "execution": {
     "iopub.execute_input": "2025-08-05T16:25:30.191629Z",
     "iopub.status.busy": "2025-08-05T16:25:30.191212Z",
     "iopub.status.idle": "2025-08-05T16:25:30.198244Z",
     "shell.execute_reply": "2025-08-05T16:25:30.197091Z"
    },
    "papermill": {
     "duration": 0.036103,
     "end_time": "2025-08-05T16:25:30.200246",
     "exception": false,
     "start_time": "2025-08-05T16:25:30.164143",
     "status": "completed"
    },
    "tags": []
   },
   "outputs": [],
   "source": [
    "X_train = X_train[keep_mask]"
   ]
  },
  {
   "cell_type": "code",
   "execution_count": 29,
   "id": "b202bb3a",
   "metadata": {
    "execution": {
     "iopub.execute_input": "2025-08-05T16:25:30.254172Z",
     "iopub.status.busy": "2025-08-05T16:25:30.253756Z",
     "iopub.status.idle": "2025-08-05T16:25:30.260412Z",
     "shell.execute_reply": "2025-08-05T16:25:30.259198Z"
    },
    "papermill": {
     "duration": 0.035895,
     "end_time": "2025-08-05T16:25:30.262512",
     "exception": false,
     "start_time": "2025-08-05T16:25:30.226617",
     "status": "completed"
    },
    "tags": []
   },
   "outputs": [],
   "source": [
    "y_train = y_train[keep_mask]"
   ]
  },
  {
   "cell_type": "markdown",
   "id": "493e2ac3",
   "metadata": {
    "papermill": {
     "duration": 0.026176,
     "end_time": "2025-08-05T16:25:30.314828",
     "exception": false,
     "start_time": "2025-08-05T16:25:30.288652",
     "status": "completed"
    },
    "tags": []
   },
   "source": [
    "# Model Training"
   ]
  },
  {
   "cell_type": "code",
   "execution_count": 30,
   "id": "679e1268",
   "metadata": {
    "execution": {
     "iopub.execute_input": "2025-08-05T16:25:30.369215Z",
     "iopub.status.busy": "2025-08-05T16:25:30.368590Z",
     "iopub.status.idle": "2025-08-05T16:25:30.496746Z",
     "shell.execute_reply": "2025-08-05T16:25:30.495522Z"
    },
    "papermill": {
     "duration": 0.158348,
     "end_time": "2025-08-05T16:25:30.499188",
     "exception": false,
     "start_time": "2025-08-05T16:25:30.340840",
     "status": "completed"
    },
    "tags": []
   },
   "outputs": [],
   "source": [
    "from sklearn.linear_model import LogisticRegression\n",
    "from sklearn.ensemble import GradientBoostingClassifier, RandomForestClassifier\n",
    "\n",
    "if (universe[\"model\"] == \"logreg\"):\n",
    "    model = LogisticRegression() #penalty=\"none\", solver=\"newton-cg\", max_iter=1) # include random_state=19 ?\n",
    "elif (universe[\"model\"] == \"penalized_logreg\"):\n",
    "    model = LogisticRegression(penalty=\"l2\", C=0.1) #, solver=\"newton-cg\", max_iter=1)\n",
    "elif (universe[\"model\"] == \"rf\"):\n",
    "    model = RandomForestClassifier() # n_estimators=100, n_jobs=-1\n",
    "elif (universe[\"model\"] == \"gbm\"):\n",
    "    model = GradientBoostingClassifier()\n",
    "elif (universe[\"model\"] == \"elasticnet\"):\n",
    "    model = LogisticRegression(penalty = 'elasticnet', solver = 'saga', l1_ratio = 0.5) # max_iter=5000\n",
    "else:\n",
    "    raise \"Unsupported universe.model\""
   ]
  },
  {
   "cell_type": "code",
   "execution_count": 31,
   "id": "0cc8f744",
   "metadata": {
    "execution": {
     "iopub.execute_input": "2025-08-05T16:25:30.550688Z",
     "iopub.status.busy": "2025-08-05T16:25:30.550073Z",
     "iopub.status.idle": "2025-08-05T16:25:30.555991Z",
     "shell.execute_reply": "2025-08-05T16:25:30.555084Z"
    },
    "papermill": {
     "duration": 0.032785,
     "end_time": "2025-08-05T16:25:30.557571",
     "exception": false,
     "start_time": "2025-08-05T16:25:30.524786",
     "status": "completed"
    },
    "tags": []
   },
   "outputs": [],
   "source": [
    "import numpy as np\n",
    "from sklearn.pipeline import Pipeline\n",
    "from sklearn.preprocessing import StandardScaler\n",
    "\n",
    "model = Pipeline([\n",
    "    #(\"continuous_processor\", continuous_processor),\n",
    "    #(\"categorical_preprocessor\", categorical_preprocessor),\n",
    "    (\"scale\", StandardScaler() if universe[\"scale\"] == \"scale\" else None), \n",
    "    (\"model\", model),\n",
    "])"
   ]
  },
  {
   "cell_type": "code",
   "execution_count": 32,
   "id": "9442c04d",
   "metadata": {
    "execution": {
     "iopub.execute_input": "2025-08-05T16:25:30.583491Z",
     "iopub.status.busy": "2025-08-05T16:25:30.582209Z",
     "iopub.status.idle": "2025-08-05T16:25:30.637364Z",
     "shell.execute_reply": "2025-08-05T16:25:30.636559Z"
    },
    "papermill": {
     "duration": 0.069231,
     "end_time": "2025-08-05T16:25:30.638833",
     "exception": false,
     "start_time": "2025-08-05T16:25:30.569602",
     "status": "completed"
    },
    "tags": []
   },
   "outputs": [
    {
     "name": "stderr",
     "output_type": "stream",
     "text": [
      "/dss/dsshome1/0C/ra93lal2/.local/share/virtualenvs/CMA_Fairness_v2-3j10GkSs/lib/python3.10/site-packages/sklearn/linear_model/_logistic.py:444: ConvergenceWarning: lbfgs failed to converge (status=1):\n",
      "STOP: TOTAL NO. of ITERATIONS REACHED LIMIT.\n",
      "\n",
      "Increase the number of iterations (max_iter) or scale the data as shown in:\n",
      "    https://scikit-learn.org/stable/modules/preprocessing.html\n",
      "Please also refer to the documentation for alternative solver options:\n",
      "    https://scikit-learn.org/stable/modules/linear_model.html#logistic-regression\n",
      "  n_iter_i = _check_optimize_result(\n"
     ]
    },
    {
     "data": {
      "text/html": [
       "<style>#sk-container-id-1 {color: black;background-color: white;}#sk-container-id-1 pre{padding: 0;}#sk-container-id-1 div.sk-toggleable {background-color: white;}#sk-container-id-1 label.sk-toggleable__label {cursor: pointer;display: block;width: 100%;margin-bottom: 0;padding: 0.3em;box-sizing: border-box;text-align: center;}#sk-container-id-1 label.sk-toggleable__label-arrow:before {content: \"▸\";float: left;margin-right: 0.25em;color: #696969;}#sk-container-id-1 label.sk-toggleable__label-arrow:hover:before {color: black;}#sk-container-id-1 div.sk-estimator:hover label.sk-toggleable__label-arrow:before {color: black;}#sk-container-id-1 div.sk-toggleable__content {max-height: 0;max-width: 0;overflow: hidden;text-align: left;background-color: #f0f8ff;}#sk-container-id-1 div.sk-toggleable__content pre {margin: 0.2em;color: black;border-radius: 0.25em;background-color: #f0f8ff;}#sk-container-id-1 input.sk-toggleable__control:checked~div.sk-toggleable__content {max-height: 200px;max-width: 100%;overflow: auto;}#sk-container-id-1 input.sk-toggleable__control:checked~label.sk-toggleable__label-arrow:before {content: \"▾\";}#sk-container-id-1 div.sk-estimator input.sk-toggleable__control:checked~label.sk-toggleable__label {background-color: #d4ebff;}#sk-container-id-1 div.sk-label input.sk-toggleable__control:checked~label.sk-toggleable__label {background-color: #d4ebff;}#sk-container-id-1 input.sk-hidden--visually {border: 0;clip: rect(1px 1px 1px 1px);clip: rect(1px, 1px, 1px, 1px);height: 1px;margin: -1px;overflow: hidden;padding: 0;position: absolute;width: 1px;}#sk-container-id-1 div.sk-estimator {font-family: monospace;background-color: #f0f8ff;border: 1px dotted black;border-radius: 0.25em;box-sizing: border-box;margin-bottom: 0.5em;}#sk-container-id-1 div.sk-estimator:hover {background-color: #d4ebff;}#sk-container-id-1 div.sk-parallel-item::after {content: \"\";width: 100%;border-bottom: 1px solid gray;flex-grow: 1;}#sk-container-id-1 div.sk-label:hover label.sk-toggleable__label {background-color: #d4ebff;}#sk-container-id-1 div.sk-serial::before {content: \"\";position: absolute;border-left: 1px solid gray;box-sizing: border-box;top: 0;bottom: 0;left: 50%;z-index: 0;}#sk-container-id-1 div.sk-serial {display: flex;flex-direction: column;align-items: center;background-color: white;padding-right: 0.2em;padding-left: 0.2em;position: relative;}#sk-container-id-1 div.sk-item {position: relative;z-index: 1;}#sk-container-id-1 div.sk-parallel {display: flex;align-items: stretch;justify-content: center;background-color: white;position: relative;}#sk-container-id-1 div.sk-item::before, #sk-container-id-1 div.sk-parallel-item::before {content: \"\";position: absolute;border-left: 1px solid gray;box-sizing: border-box;top: 0;bottom: 0;left: 50%;z-index: -1;}#sk-container-id-1 div.sk-parallel-item {display: flex;flex-direction: column;z-index: 1;position: relative;background-color: white;}#sk-container-id-1 div.sk-parallel-item:first-child::after {align-self: flex-end;width: 50%;}#sk-container-id-1 div.sk-parallel-item:last-child::after {align-self: flex-start;width: 50%;}#sk-container-id-1 div.sk-parallel-item:only-child::after {width: 0;}#sk-container-id-1 div.sk-dashed-wrapped {border: 1px dashed gray;margin: 0 0.4em 0.5em 0.4em;box-sizing: border-box;padding-bottom: 0.4em;background-color: white;}#sk-container-id-1 div.sk-label label {font-family: monospace;font-weight: bold;display: inline-block;line-height: 1.2em;}#sk-container-id-1 div.sk-label-container {text-align: center;}#sk-container-id-1 div.sk-container {/* jupyter's `normalize.less` sets `[hidden] { display: none; }` but bootstrap.min.css set `[hidden] { display: none !important; }` so we also need the `!important` here to be able to override the default hidden behavior on the sphinx rendered scikit-learn.org. See: https://github.com/scikit-learn/scikit-learn/issues/21755 */display: inline-block !important;position: relative;}#sk-container-id-1 div.sk-text-repr-fallback {display: none;}</style><div id=\"sk-container-id-1\" class=\"sk-top-container\"><div class=\"sk-text-repr-fallback\"><pre>Pipeline(steps=[(&#x27;scale&#x27;, None), (&#x27;model&#x27;, LogisticRegression(C=0.1))])</pre><b>In a Jupyter environment, please rerun this cell to show the HTML representation or trust the notebook. <br />On GitHub, the HTML representation is unable to render, please try loading this page with nbviewer.org.</b></div><div class=\"sk-container\" hidden><div class=\"sk-item sk-dashed-wrapped\"><div class=\"sk-label-container\"><div class=\"sk-label sk-toggleable\"><input class=\"sk-toggleable__control sk-hidden--visually\" id=\"sk-estimator-id-1\" type=\"checkbox\" ><label for=\"sk-estimator-id-1\" class=\"sk-toggleable__label sk-toggleable__label-arrow\">Pipeline</label><div class=\"sk-toggleable__content\"><pre>Pipeline(steps=[(&#x27;scale&#x27;, None), (&#x27;model&#x27;, LogisticRegression(C=0.1))])</pre></div></div></div><div class=\"sk-serial\"><div class=\"sk-item\"><div class=\"sk-estimator sk-toggleable\"><input class=\"sk-toggleable__control sk-hidden--visually\" id=\"sk-estimator-id-2\" type=\"checkbox\" ><label for=\"sk-estimator-id-2\" class=\"sk-toggleable__label sk-toggleable__label-arrow\">None</label><div class=\"sk-toggleable__content\"><pre>None</pre></div></div></div><div class=\"sk-item\"><div class=\"sk-estimator sk-toggleable\"><input class=\"sk-toggleable__control sk-hidden--visually\" id=\"sk-estimator-id-3\" type=\"checkbox\" ><label for=\"sk-estimator-id-3\" class=\"sk-toggleable__label sk-toggleable__label-arrow\">LogisticRegression</label><div class=\"sk-toggleable__content\"><pre>LogisticRegression(C=0.1)</pre></div></div></div></div></div></div></div>"
      ],
      "text/plain": [
       "Pipeline(steps=[('scale', None), ('model', LogisticRegression(C=0.1))])"
      ]
     },
     "execution_count": 32,
     "metadata": {},
     "output_type": "execute_result"
    }
   ],
   "source": [
    "model.fit(X_train, y_train.values.ravel())"
   ]
  },
  {
   "cell_type": "code",
   "execution_count": 33,
   "id": "af59f8c0",
   "metadata": {
    "execution": {
     "iopub.execute_input": "2025-08-05T16:25:30.664390Z",
     "iopub.status.busy": "2025-08-05T16:25:30.663812Z",
     "iopub.status.idle": "2025-08-05T16:25:30.668549Z",
     "shell.execute_reply": "2025-08-05T16:25:30.667777Z"
    },
    "papermill": {
     "duration": 0.018822,
     "end_time": "2025-08-05T16:25:30.670029",
     "exception": false,
     "start_time": "2025-08-05T16:25:30.651207",
     "status": "completed"
    },
    "tags": []
   },
   "outputs": [],
   "source": [
    "from fairness_multiverse.universe import predict_w_threshold"
   ]
  },
  {
   "cell_type": "code",
   "execution_count": 34,
   "id": "a7cf2e16",
   "metadata": {
    "execution": {
     "iopub.execute_input": "2025-08-05T16:25:30.696015Z",
     "iopub.status.busy": "2025-08-05T16:25:30.695520Z",
     "iopub.status.idle": "2025-08-05T16:25:30.804257Z",
     "shell.execute_reply": "2025-08-05T16:25:30.803049Z"
    },
    "papermill": {
     "duration": 0.12429,
     "end_time": "2025-08-05T16:25:30.806658",
     "exception": false,
     "start_time": "2025-08-05T16:25:30.682368",
     "status": "completed"
    },
    "tags": []
   },
   "outputs": [
    {
     "data": {
      "text/plain": [
       "0.8585887860885074"
      ]
     },
     "execution_count": 34,
     "metadata": {},
     "output_type": "execute_result"
    }
   ],
   "source": [
    "probs_test = model.predict_proba(X_test)\n",
    "\n",
    "'''\n",
    "Below code returns a boolean array (or binary 0/1 array depending on how it’s used) where each element \n",
    "is True if the probability of class 1 is greater than or equal to the threshold, and False otherwise.\n",
    "'''\n",
    "y_pred_default = predict_w_threshold(probs_test, 0.5)\n",
    "\n",
    "from sklearn.metrics import accuracy_score\n",
    "\n",
    "# Naive prediction\n",
    "accuracy_score(y_true = y_true, y_pred = y_pred_default)"
   ]
  },
  {
   "cell_type": "code",
   "execution_count": 35,
   "id": "081964c3",
   "metadata": {
    "execution": {
     "iopub.execute_input": "2025-08-05T16:25:30.859386Z",
     "iopub.status.busy": "2025-08-05T16:25:30.858664Z",
     "iopub.status.idle": "2025-08-05T16:25:30.958208Z",
     "shell.execute_reply": "2025-08-05T16:25:30.954157Z"
    },
    "papermill": {
     "duration": 0.128108,
     "end_time": "2025-08-05T16:25:30.960645",
     "exception": false,
     "start_time": "2025-08-05T16:25:30.832537",
     "status": "completed"
    },
    "tags": []
   },
   "outputs": [
    {
     "data": {
      "text/plain": [
       "array([0, 0, 0, ..., 0, 0, 0])"
      ]
     },
     "execution_count": 35,
     "metadata": {},
     "output_type": "execute_result"
    }
   ],
   "source": [
    "model.predict(X_test)"
   ]
  },
  {
   "cell_type": "markdown",
   "id": "56c9705b",
   "metadata": {
    "papermill": {
     "duration": 0.029793,
     "end_time": "2025-08-05T16:25:31.020649",
     "exception": false,
     "start_time": "2025-08-05T16:25:30.990856",
     "status": "completed"
    },
    "tags": []
   },
   "source": [
    "# Conformal Prediction"
   ]
  },
  {
   "cell_type": "code",
   "execution_count": 36,
   "id": "160ec6ff",
   "metadata": {
    "execution": {
     "iopub.execute_input": "2025-08-05T16:25:31.082136Z",
     "iopub.status.busy": "2025-08-05T16:25:31.081655Z",
     "iopub.status.idle": "2025-08-05T16:25:31.088826Z",
     "shell.execute_reply": "2025-08-05T16:25:31.087842Z"
    },
    "papermill": {
     "duration": 0.03958,
     "end_time": "2025-08-05T16:25:31.090476",
     "exception": false,
     "start_time": "2025-08-05T16:25:31.050896",
     "status": "completed"
    },
    "tags": []
   },
   "outputs": [],
   "source": [
    "# Miscoverage level for conformal prediction (10% allowed error rate => 90% target coverage)\n",
    "alpha = 0.1"
   ]
  },
  {
   "cell_type": "code",
   "execution_count": 37,
   "id": "eadf4555-3dd3-440e-8e35-f82a4ad9f855",
   "metadata": {
    "execution": {
     "iopub.execute_input": "2025-08-05T16:25:31.143529Z",
     "iopub.status.busy": "2025-08-05T16:25:31.142706Z",
     "iopub.status.idle": "2025-08-05T16:25:31.238979Z",
     "shell.execute_reply": "2025-08-05T16:25:31.237821Z"
    },
    "papermill": {
     "duration": 0.124602,
     "end_time": "2025-08-05T16:25:31.241179",
     "exception": false,
     "start_time": "2025-08-05T16:25:31.116577",
     "status": "completed"
    },
    "tags": []
   },
   "outputs": [],
   "source": [
    "probs_calib = model.predict_proba(X_calib)"
   ]
  },
  {
   "cell_type": "code",
   "execution_count": 38,
   "id": "2ed93547-6d5d-4983-9b36-1ecb300da49a",
   "metadata": {
    "execution": {
     "iopub.execute_input": "2025-08-05T16:25:31.296895Z",
     "iopub.status.busy": "2025-08-05T16:25:31.295906Z",
     "iopub.status.idle": "2025-08-05T16:25:31.301967Z",
     "shell.execute_reply": "2025-08-05T16:25:31.300837Z"
    },
    "papermill": {
     "duration": 0.038896,
     "end_time": "2025-08-05T16:25:31.304046",
     "exception": false,
     "start_time": "2025-08-05T16:25:31.265150",
     "status": "completed"
    },
    "tags": []
   },
   "outputs": [],
   "source": [
    "y_calib = y_calib.values.ravel().astype(int)"
   ]
  },
  {
   "cell_type": "code",
   "execution_count": 39,
   "id": "65d1320d-f588-4b38-9072-62af1ae97f7d",
   "metadata": {
    "execution": {
     "iopub.execute_input": "2025-08-05T16:25:31.363219Z",
     "iopub.status.busy": "2025-08-05T16:25:31.362820Z",
     "iopub.status.idle": "2025-08-05T16:25:31.371233Z",
     "shell.execute_reply": "2025-08-05T16:25:31.370074Z"
    },
    "papermill": {
     "duration": 0.040928,
     "end_time": "2025-08-05T16:25:31.373358",
     "exception": false,
     "start_time": "2025-08-05T16:25:31.332430",
     "status": "completed"
    },
    "tags": []
   },
   "outputs": [],
   "source": [
    "from fairness_multiverse.conformal import compute_nc_scores\n",
    "\n",
    "# Compute nonconformity scores on calibration set (1 - probability of true class)\n",
    "nc_scores = compute_nc_scores(probs_calib, y_calib)"
   ]
  },
  {
   "cell_type": "code",
   "execution_count": 40,
   "id": "df3b8ca3-53b7-43d5-9667-7c85da7aeda2",
   "metadata": {
    "execution": {
     "iopub.execute_input": "2025-08-05T16:25:31.434755Z",
     "iopub.status.busy": "2025-08-05T16:25:31.434381Z",
     "iopub.status.idle": "2025-08-05T16:25:31.441583Z",
     "shell.execute_reply": "2025-08-05T16:25:31.440329Z"
    },
    "papermill": {
     "duration": 0.040447,
     "end_time": "2025-08-05T16:25:31.443721",
     "exception": false,
     "start_time": "2025-08-05T16:25:31.403274",
     "status": "completed"
    },
    "tags": []
   },
   "outputs": [],
   "source": [
    "from fairness_multiverse.conformal import find_threshold\n",
    "\n",
    "# Find conformal threshold q_hat for the given alpha (split conformal method)\n",
    "q_hat = find_threshold(nc_scores, alpha)"
   ]
  },
  {
   "cell_type": "code",
   "execution_count": 41,
   "id": "4d29e6c1-0ef6-4aa4-b8fe-4fe79b0d033a",
   "metadata": {
    "execution": {
     "iopub.execute_input": "2025-08-05T16:25:31.506515Z",
     "iopub.status.busy": "2025-08-05T16:25:31.506001Z",
     "iopub.status.idle": "2025-08-05T16:25:31.515140Z",
     "shell.execute_reply": "2025-08-05T16:25:31.514058Z"
    },
    "papermill": {
     "duration": 0.043206,
     "end_time": "2025-08-05T16:25:31.517581",
     "exception": false,
     "start_time": "2025-08-05T16:25:31.474375",
     "status": "completed"
    },
    "tags": []
   },
   "outputs": [
    {
     "data": {
      "text/plain": [
       "0.6905560109154545"
      ]
     },
     "execution_count": 41,
     "metadata": {},
     "output_type": "execute_result"
    }
   ],
   "source": [
    "q_hat"
   ]
  },
  {
   "cell_type": "code",
   "execution_count": 42,
   "id": "92460794-cdac-4be2-ba28-f28c0515a6fb",
   "metadata": {
    "execution": {
     "iopub.execute_input": "2025-08-05T16:25:31.579151Z",
     "iopub.status.busy": "2025-08-05T16:25:31.578748Z",
     "iopub.status.idle": "2025-08-05T16:25:32.464254Z",
     "shell.execute_reply": "2025-08-05T16:25:32.463023Z"
    },
    "papermill": {
     "duration": 0.919038,
     "end_time": "2025-08-05T16:25:32.466810",
     "exception": false,
     "start_time": "2025-08-05T16:25:31.547772",
     "status": "completed"
    },
    "tags": []
   },
   "outputs": [],
   "source": [
    "from fairness_multiverse.conformal import predict_conformal_sets\n",
    "\n",
    "# Generate prediction sets for each test example\n",
    "pred_sets = predict_conformal_sets(model, X_test, q_hat)"
   ]
  },
  {
   "cell_type": "code",
   "execution_count": 43,
   "id": "d90c9a65-e6db-4f5d-80cd-e68fb7e46829",
   "metadata": {
    "execution": {
     "iopub.execute_input": "2025-08-05T16:25:32.529739Z",
     "iopub.status.busy": "2025-08-05T16:25:32.528972Z",
     "iopub.status.idle": "2025-08-05T16:25:32.535164Z",
     "shell.execute_reply": "2025-08-05T16:25:32.534058Z"
    },
    "papermill": {
     "duration": 0.037918,
     "end_time": "2025-08-05T16:25:32.537210",
     "exception": false,
     "start_time": "2025-08-05T16:25:32.499292",
     "status": "completed"
    },
    "tags": []
   },
   "outputs": [],
   "source": [
    "y_true = y_true.squeeze()"
   ]
  },
  {
   "cell_type": "code",
   "execution_count": 44,
   "id": "3a58a54a-1e68-46b9-927a-df01f18aebc8",
   "metadata": {
    "execution": {
     "iopub.execute_input": "2025-08-05T16:25:32.586191Z",
     "iopub.status.busy": "2025-08-05T16:25:32.585725Z",
     "iopub.status.idle": "2025-08-05T16:25:33.695664Z",
     "shell.execute_reply": "2025-08-05T16:25:33.694543Z"
    },
    "papermill": {
     "duration": 1.136934,
     "end_time": "2025-08-05T16:25:33.697856",
     "exception": false,
     "start_time": "2025-08-05T16:25:32.560922",
     "status": "completed"
    },
    "tags": []
   },
   "outputs": [],
   "source": [
    "from fairness_multiverse.conformal import evaluate_sets\n",
    "\n",
    "# Evaluate coverage and average set size on test data\n",
    "metrics = evaluate_sets(pred_sets, y_true)"
   ]
  },
  {
   "cell_type": "markdown",
   "id": "2b569c12-9aaa-4c88-98c9-bbcd0cf3ebb8",
   "metadata": {
    "papermill": {
     "duration": 0.026148,
     "end_time": "2025-08-05T16:25:33.751131",
     "exception": false,
     "start_time": "2025-08-05T16:25:33.724983",
     "status": "completed"
    },
    "tags": []
   },
   "source": [
    "# CP Metrics"
   ]
  },
  {
   "cell_type": "code",
   "execution_count": 45,
   "id": "5ce0a5cb-201f-45a0-ade5-94c7f0bd6095",
   "metadata": {
    "execution": {
     "iopub.execute_input": "2025-08-05T16:25:33.813558Z",
     "iopub.status.busy": "2025-08-05T16:25:33.812365Z",
     "iopub.status.idle": "2025-08-05T16:25:33.821574Z",
     "shell.execute_reply": "2025-08-05T16:25:33.820447Z"
    },
    "papermill": {
     "duration": 0.046201,
     "end_time": "2025-08-05T16:25:33.823987",
     "exception": false,
     "start_time": "2025-08-05T16:25:33.777786",
     "status": "completed"
    },
    "tags": []
   },
   "outputs": [
    {
     "data": {
      "text/plain": [
       "{'coverage': 0.9114145580202876, 'avg_size': 1.2142347564374094}"
      ]
     },
     "execution_count": 45,
     "metadata": {},
     "output_type": "execute_result"
    }
   ],
   "source": [
    "metrics"
   ]
  },
  {
   "cell_type": "code",
   "execution_count": 46,
   "id": "9b9a838d-31c9-430b-ae14-12baee460d17",
   "metadata": {
    "execution": {
     "iopub.execute_input": "2025-08-05T16:25:33.878708Z",
     "iopub.status.busy": "2025-08-05T16:25:33.877677Z",
     "iopub.status.idle": "2025-08-05T16:25:33.886073Z",
     "shell.execute_reply": "2025-08-05T16:25:33.884963Z"
    },
    "papermill": {
     "duration": 0.035627,
     "end_time": "2025-08-05T16:25:33.887959",
     "exception": false,
     "start_time": "2025-08-05T16:25:33.852332",
     "status": "completed"
    },
    "tags": []
   },
   "outputs": [],
   "source": [
    "example_universe = universe.copy()\n",
    "universe_training_year = example_universe.get(\"training_year\")\n",
    "universe_training_size = example_universe.get(\"training_size\")\n",
    "universe_scale = example_universe.get(\"scale\")\n",
    "universe_model = example_universe.get(\"model\")\n",
    "universe_exclude_features = example_universe.get(\"exclude_features\")\n",
    "universe_exclude_subgroups = example_universe.get(\"exclude_subgroups\")"
   ]
  },
  {
   "cell_type": "code",
   "execution_count": 47,
   "id": "f4b6a8ac-9dc0-4245-8a91-5b3b5999c4f9",
   "metadata": {
    "execution": {
     "iopub.execute_input": "2025-08-05T16:25:33.937873Z",
     "iopub.status.busy": "2025-08-05T16:25:33.936917Z",
     "iopub.status.idle": "2025-08-05T16:25:33.944577Z",
     "shell.execute_reply": "2025-08-05T16:25:33.943569Z"
    },
    "papermill": {
     "duration": 0.034473,
     "end_time": "2025-08-05T16:25:33.946598",
     "exception": false,
     "start_time": "2025-08-05T16:25:33.912125",
     "status": "completed"
    },
    "tags": []
   },
   "outputs": [],
   "source": [
    "cp_metrics_dict = {\n",
    "    \"universe_id\": [universe_id],\n",
    "    \"universe_training_year\": [universe_training_year],\n",
    "    \"universe_training_size\": [universe_training_size],\n",
    "    \"universe_scale\": [universe_scale],\n",
    "    \"universe_model\": [universe_model],\n",
    "    \"universe_exclude_features\": [universe_exclude_features],\n",
    "    \"universe_exclude_subgroups\": [universe_exclude_subgroups],\n",
    "    \"q_hat\": [q_hat],\n",
    "    \"coverage\": [metrics[\"coverage\"]],\n",
    "    \"avg_size\": [metrics[\"avg_size\"]],\n",
    "}"
   ]
  },
  {
   "cell_type": "code",
   "execution_count": 48,
   "id": "908acbb1-0371-4915-85ca-3fa520d2efe2",
   "metadata": {
    "execution": {
     "iopub.execute_input": "2025-08-05T16:25:34.003042Z",
     "iopub.status.busy": "2025-08-05T16:25:34.002233Z",
     "iopub.status.idle": "2025-08-05T16:25:34.010557Z",
     "shell.execute_reply": "2025-08-05T16:25:34.009505Z"
    },
    "papermill": {
     "duration": 0.037851,
     "end_time": "2025-08-05T16:25:34.012508",
     "exception": false,
     "start_time": "2025-08-05T16:25:33.974657",
     "status": "completed"
    },
    "tags": []
   },
   "outputs": [
    {
     "data": {
      "text/plain": [
       "{'universe_id': ['fe3e78a18593fee1a7aac8086fc4c3b5'],\n",
       " 'universe_training_year': ['2012_14'],\n",
       " 'universe_training_size': ['1k'],\n",
       " 'universe_scale': ['do-not-scale'],\n",
       " 'universe_model': ['penalized_logreg'],\n",
       " 'universe_exclude_features': ['sex'],\n",
       " 'universe_exclude_subgroups': ['drop-non-german'],\n",
       " 'q_hat': [0.6905560109154545],\n",
       " 'coverage': [0.9114145580202876],\n",
       " 'avg_size': [1.2142347564374094]}"
      ]
     },
     "execution_count": 48,
     "metadata": {},
     "output_type": "execute_result"
    }
   ],
   "source": [
    "cp_metrics_dict"
   ]
  },
  {
   "cell_type": "code",
   "execution_count": 49,
   "id": "33007efc-14e9-4ec6-97ac-56a455c82265",
   "metadata": {
    "execution": {
     "iopub.execute_input": "2025-08-05T16:25:34.068659Z",
     "iopub.status.busy": "2025-08-05T16:25:34.067772Z",
     "iopub.status.idle": "2025-08-05T16:25:34.074404Z",
     "shell.execute_reply": "2025-08-05T16:25:34.073341Z"
    },
    "papermill": {
     "duration": 0.036834,
     "end_time": "2025-08-05T16:25:34.076523",
     "exception": false,
     "start_time": "2025-08-05T16:25:34.039689",
     "status": "completed"
    },
    "tags": []
   },
   "outputs": [],
   "source": [
    "cp_metrics_df = pd.DataFrame(cp_metrics_dict)"
   ]
  },
  {
   "cell_type": "code",
   "execution_count": 50,
   "id": "db12611b-57b2-4910-b9d0-355adfd6e7bf",
   "metadata": {
    "execution": {
     "iopub.execute_input": "2025-08-05T16:25:34.133244Z",
     "iopub.status.busy": "2025-08-05T16:25:34.132438Z",
     "iopub.status.idle": "2025-08-05T16:25:34.153023Z",
     "shell.execute_reply": "2025-08-05T16:25:34.151939Z"
    },
    "papermill": {
     "duration": 0.050093,
     "end_time": "2025-08-05T16:25:34.154924",
     "exception": false,
     "start_time": "2025-08-05T16:25:34.104831",
     "status": "completed"
    },
    "tags": []
   },
   "outputs": [
    {
     "data": {
      "text/html": [
       "<div>\n",
       "<style scoped>\n",
       "    .dataframe tbody tr th:only-of-type {\n",
       "        vertical-align: middle;\n",
       "    }\n",
       "\n",
       "    .dataframe tbody tr th {\n",
       "        vertical-align: top;\n",
       "    }\n",
       "\n",
       "    .dataframe thead th {\n",
       "        text-align: right;\n",
       "    }\n",
       "</style>\n",
       "<table border=\"1\" class=\"dataframe\">\n",
       "  <thead>\n",
       "    <tr style=\"text-align: right;\">\n",
       "      <th></th>\n",
       "      <th>universe_id</th>\n",
       "      <th>universe_training_year</th>\n",
       "      <th>universe_training_size</th>\n",
       "      <th>universe_scale</th>\n",
       "      <th>universe_model</th>\n",
       "      <th>universe_exclude_features</th>\n",
       "      <th>universe_exclude_subgroups</th>\n",
       "      <th>q_hat</th>\n",
       "      <th>coverage</th>\n",
       "      <th>avg_size</th>\n",
       "    </tr>\n",
       "  </thead>\n",
       "  <tbody>\n",
       "    <tr>\n",
       "      <th>0</th>\n",
       "      <td>fe3e78a18593fee1a7aac8086fc4c3b5</td>\n",
       "      <td>2012_14</td>\n",
       "      <td>1k</td>\n",
       "      <td>do-not-scale</td>\n",
       "      <td>penalized_logreg</td>\n",
       "      <td>sex</td>\n",
       "      <td>drop-non-german</td>\n",
       "      <td>0.690556</td>\n",
       "      <td>0.911415</td>\n",
       "      <td>1.214235</td>\n",
       "    </tr>\n",
       "  </tbody>\n",
       "</table>\n",
       "</div>"
      ],
      "text/plain": [
       "                        universe_id universe_training_year  \\\n",
       "0  fe3e78a18593fee1a7aac8086fc4c3b5                2012_14   \n",
       "\n",
       "  universe_training_size universe_scale    universe_model  \\\n",
       "0                     1k   do-not-scale  penalized_logreg   \n",
       "\n",
       "  universe_exclude_features universe_exclude_subgroups     q_hat  coverage  \\\n",
       "0                       sex            drop-non-german  0.690556  0.911415   \n",
       "\n",
       "   avg_size  \n",
       "0  1.214235  "
      ]
     },
     "execution_count": 50,
     "metadata": {},
     "output_type": "execute_result"
    }
   ],
   "source": [
    "cp_metrics_df"
   ]
  },
  {
   "cell_type": "code",
   "execution_count": 51,
   "id": "b7fbde55-a0a1-47e4-9af6-fe4a17fa8c61",
   "metadata": {
    "execution": {
     "iopub.execute_input": "2025-08-05T16:25:34.211494Z",
     "iopub.status.busy": "2025-08-05T16:25:34.210704Z",
     "iopub.status.idle": "2025-08-05T16:25:34.216247Z",
     "shell.execute_reply": "2025-08-05T16:25:34.215177Z"
    },
    "papermill": {
     "duration": 0.036181,
     "end_time": "2025-08-05T16:25:34.218190",
     "exception": false,
     "start_time": "2025-08-05T16:25:34.182009",
     "status": "completed"
    },
    "tags": []
   },
   "outputs": [],
   "source": [
    "# Conditional Coverage & looking at subgroups"
   ]
  },
  {
   "cell_type": "code",
   "execution_count": 52,
   "id": "027ae886-68dd-4141-96c7-805a5450e1ef",
   "metadata": {
    "execution": {
     "iopub.execute_input": "2025-08-05T16:25:34.274926Z",
     "iopub.status.busy": "2025-08-05T16:25:34.274014Z",
     "iopub.status.idle": "2025-08-05T16:25:34.556324Z",
     "shell.execute_reply": "2025-08-05T16:25:34.555056Z"
    },
    "papermill": {
     "duration": 0.313358,
     "end_time": "2025-08-05T16:25:34.558730",
     "exception": false,
     "start_time": "2025-08-05T16:25:34.245372",
     "status": "completed"
    },
    "tags": []
   },
   "outputs": [],
   "source": [
    "from fairness_multiverse.conformal import build_cp_groups\n",
    "\n",
    "cp_groups_df = build_cp_groups(pred_sets, y_true, X_test.index, org_test)\n",
    "#needs universe_id and setting"
   ]
  },
  {
   "cell_type": "code",
   "execution_count": 53,
   "id": "6cbdab96-b2b2-45af-ad54-d0516db2e28d",
   "metadata": {
    "execution": {
     "iopub.execute_input": "2025-08-05T16:25:34.618538Z",
     "iopub.status.busy": "2025-08-05T16:25:34.617681Z",
     "iopub.status.idle": "2025-08-05T16:25:36.399853Z",
     "shell.execute_reply": "2025-08-05T16:25:36.398872Z"
    },
    "papermill": {
     "duration": 1.814378,
     "end_time": "2025-08-05T16:25:36.401738",
     "exception": false,
     "start_time": "2025-08-05T16:25:34.587360",
     "status": "completed"
    },
    "tags": []
   },
   "outputs": [],
   "source": [
    "# Define covered = 1 if true_label is in the predicted set\n",
    "cp_groups_df['covered'] = cp_groups_df.apply(\n",
    "    lambda r: int(r['true_label'] in r['pred_set']),\n",
    "    axis=1\n",
    ")"
   ]
  },
  {
   "cell_type": "code",
   "execution_count": 54,
   "id": "338ff529-1a6b-4b87-a931-8e4788d52aad",
   "metadata": {
    "execution": {
     "iopub.execute_input": "2025-08-05T16:25:36.455144Z",
     "iopub.status.busy": "2025-08-05T16:25:36.454639Z",
     "iopub.status.idle": "2025-08-05T16:25:36.460185Z",
     "shell.execute_reply": "2025-08-05T16:25:36.459254Z"
    },
    "papermill": {
     "duration": 0.034463,
     "end_time": "2025-08-05T16:25:36.462080",
     "exception": false,
     "start_time": "2025-08-05T16:25:36.427617",
     "status": "completed"
    },
    "tags": []
   },
   "outputs": [],
   "source": [
    "#cp_groups_df"
   ]
  },
  {
   "cell_type": "code",
   "execution_count": 55,
   "id": "90032e27-66df-4540-9169-4e89cfbaa758",
   "metadata": {
    "execution": {
     "iopub.execute_input": "2025-08-05T16:25:36.512341Z",
     "iopub.status.busy": "2025-08-05T16:25:36.511361Z",
     "iopub.status.idle": "2025-08-05T16:25:36.524285Z",
     "shell.execute_reply": "2025-08-05T16:25:36.523314Z"
    },
    "papermill": {
     "duration": 0.039252,
     "end_time": "2025-08-05T16:25:36.526182",
     "exception": false,
     "start_time": "2025-08-05T16:25:36.486930",
     "status": "completed"
    },
    "tags": []
   },
   "outputs": [],
   "source": [
    "subgroups = ['frau1','nongerman','nongerman_male','nongerman_female']\n",
    "\n",
    "# Conditional coverage for subgroup==1\n",
    "cond_coverage = {\n",
    "    g: cp_groups_df.loc[cp_groups_df[g]==1, 'covered'].mean()\n",
    "    for g in subgroups\n",
    "}"
   ]
  },
  {
   "cell_type": "code",
   "execution_count": 56,
   "id": "1e348fb1-b9c3-45bc-ba23-f016827a7e0d",
   "metadata": {
    "execution": {
     "iopub.execute_input": "2025-08-05T16:25:36.572874Z",
     "iopub.status.busy": "2025-08-05T16:25:36.572028Z",
     "iopub.status.idle": "2025-08-05T16:25:36.582236Z",
     "shell.execute_reply": "2025-08-05T16:25:36.580711Z"
    },
    "papermill": {
     "duration": 0.035307,
     "end_time": "2025-08-05T16:25:36.584149",
     "exception": false,
     "start_time": "2025-08-05T16:25:36.548842",
     "status": "completed"
    },
    "tags": []
   },
   "outputs": [
    {
     "data": {
      "text/plain": [
       "{'frau1': 0.9100957002291414,\n",
       " 'nongerman': 0.9347106046146073,\n",
       " 'nongerman_male': 0.946410879942358,\n",
       " 'nongerman_female': 0.9153502235469448}"
      ]
     },
     "execution_count": 56,
     "metadata": {},
     "output_type": "execute_result"
    }
   ],
   "source": [
    "cond_coverage"
   ]
  },
  {
   "cell_type": "code",
   "execution_count": 57,
   "id": "f5093324-c3dd-4d63-bc4c-8d945e5c8bbb",
   "metadata": {
    "execution": {
     "iopub.execute_input": "2025-08-05T16:25:36.629211Z",
     "iopub.status.busy": "2025-08-05T16:25:36.628397Z",
     "iopub.status.idle": "2025-08-05T16:25:36.637095Z",
     "shell.execute_reply": "2025-08-05T16:25:36.636088Z"
    },
    "papermill": {
     "duration": 0.033336,
     "end_time": "2025-08-05T16:25:36.639143",
     "exception": false,
     "start_time": "2025-08-05T16:25:36.605807",
     "status": "completed"
    },
    "tags": []
   },
   "outputs": [],
   "source": [
    "for subgroup, cov in cond_coverage.items():\n",
    "    cp_metrics_df[f\"cov_{subgroup}\"] = cov"
   ]
  },
  {
   "cell_type": "code",
   "execution_count": 58,
   "id": "6e872e10-dbe5-49e8-b554-5030c98ff75d",
   "metadata": {
    "execution": {
     "iopub.execute_input": "2025-08-05T16:25:36.686362Z",
     "iopub.status.busy": "2025-08-05T16:25:36.685447Z",
     "iopub.status.idle": "2025-08-05T16:25:36.704807Z",
     "shell.execute_reply": "2025-08-05T16:25:36.703680Z"
    },
    "papermill": {
     "duration": 0.044532,
     "end_time": "2025-08-05T16:25:36.706564",
     "exception": false,
     "start_time": "2025-08-05T16:25:36.662032",
     "status": "completed"
    },
    "tags": []
   },
   "outputs": [
    {
     "data": {
      "text/html": [
       "<div>\n",
       "<style scoped>\n",
       "    .dataframe tbody tr th:only-of-type {\n",
       "        vertical-align: middle;\n",
       "    }\n",
       "\n",
       "    .dataframe tbody tr th {\n",
       "        vertical-align: top;\n",
       "    }\n",
       "\n",
       "    .dataframe thead th {\n",
       "        text-align: right;\n",
       "    }\n",
       "</style>\n",
       "<table border=\"1\" class=\"dataframe\">\n",
       "  <thead>\n",
       "    <tr style=\"text-align: right;\">\n",
       "      <th></th>\n",
       "      <th>universe_id</th>\n",
       "      <th>universe_training_year</th>\n",
       "      <th>universe_training_size</th>\n",
       "      <th>universe_scale</th>\n",
       "      <th>universe_model</th>\n",
       "      <th>universe_exclude_features</th>\n",
       "      <th>universe_exclude_subgroups</th>\n",
       "      <th>q_hat</th>\n",
       "      <th>coverage</th>\n",
       "      <th>avg_size</th>\n",
       "      <th>cov_frau1</th>\n",
       "      <th>cov_nongerman</th>\n",
       "      <th>cov_nongerman_male</th>\n",
       "      <th>cov_nongerman_female</th>\n",
       "    </tr>\n",
       "  </thead>\n",
       "  <tbody>\n",
       "    <tr>\n",
       "      <th>0</th>\n",
       "      <td>fe3e78a18593fee1a7aac8086fc4c3b5</td>\n",
       "      <td>2012_14</td>\n",
       "      <td>1k</td>\n",
       "      <td>do-not-scale</td>\n",
       "      <td>penalized_logreg</td>\n",
       "      <td>sex</td>\n",
       "      <td>drop-non-german</td>\n",
       "      <td>0.690556</td>\n",
       "      <td>0.911415</td>\n",
       "      <td>1.214235</td>\n",
       "      <td>0.910096</td>\n",
       "      <td>0.934711</td>\n",
       "      <td>0.946411</td>\n",
       "      <td>0.91535</td>\n",
       "    </tr>\n",
       "  </tbody>\n",
       "</table>\n",
       "</div>"
      ],
      "text/plain": [
       "                        universe_id universe_training_year  \\\n",
       "0  fe3e78a18593fee1a7aac8086fc4c3b5                2012_14   \n",
       "\n",
       "  universe_training_size universe_scale    universe_model  \\\n",
       "0                     1k   do-not-scale  penalized_logreg   \n",
       "\n",
       "  universe_exclude_features universe_exclude_subgroups     q_hat  coverage  \\\n",
       "0                       sex            drop-non-german  0.690556  0.911415   \n",
       "\n",
       "   avg_size  cov_frau1  cov_nongerman  cov_nongerman_male  \\\n",
       "0  1.214235   0.910096       0.934711            0.946411   \n",
       "\n",
       "   cov_nongerman_female  \n",
       "0               0.91535  "
      ]
     },
     "execution_count": 58,
     "metadata": {},
     "output_type": "execute_result"
    }
   ],
   "source": [
    "cp_metrics_df"
   ]
  },
  {
   "cell_type": "markdown",
   "id": "33774451",
   "metadata": {
    "papermill": {
     "duration": 0.024867,
     "end_time": "2025-08-05T16:25:36.757389",
     "exception": false,
     "start_time": "2025-08-05T16:25:36.732522",
     "status": "completed"
    },
    "tags": []
   },
   "source": [
    "# (Fairness) Metrics"
   ]
  },
  {
   "cell_type": "code",
   "execution_count": 59,
   "id": "debc5d62",
   "metadata": {
    "execution": {
     "iopub.execute_input": "2025-08-05T16:25:36.810943Z",
     "iopub.status.busy": "2025-08-05T16:25:36.809978Z",
     "iopub.status.idle": "2025-08-05T16:25:36.831592Z",
     "shell.execute_reply": "2025-08-05T16:25:36.830765Z"
    },
    "papermill": {
     "duration": 0.050816,
     "end_time": "2025-08-05T16:25:36.833394",
     "exception": false,
     "start_time": "2025-08-05T16:25:36.782578",
     "status": "completed"
    },
    "tags": []
   },
   "outputs": [],
   "source": [
    "# do I need to include maxdeutsch1.missing?\n",
    "\n",
    "import numpy as np\n",
    "\n",
    "colname_to_bin = \"maxdeutsch1\"\n",
    "majority_value = org_train[colname_to_bin].mode()[0]\n",
    "\n",
    "org_test[\"majmin\"] = np.where(org_test[colname_to_bin] == majority_value, \"majority\", \"minority\")"
   ]
  },
  {
   "cell_type": "code",
   "execution_count": 60,
   "id": "06a50de5",
   "metadata": {
    "execution": {
     "iopub.execute_input": "2025-08-05T16:25:36.887007Z",
     "iopub.status.busy": "2025-08-05T16:25:36.886526Z",
     "iopub.status.idle": "2025-08-05T16:25:40.352181Z",
     "shell.execute_reply": "2025-08-05T16:25:40.350924Z"
    },
    "papermill": {
     "duration": 3.493505,
     "end_time": "2025-08-05T16:25:40.354828",
     "exception": false,
     "start_time": "2025-08-05T16:25:36.861323",
     "status": "completed"
    },
    "tags": []
   },
   "outputs": [],
   "source": [
    "example_universe = universe.copy()\n",
    "example_universe[\"cutoff\"] = example_universe[\"cutoff\"][0]\n",
    "example_universe[\"eval_fairness_grouping\"] = example_universe[\"eval_fairness_grouping\"][0]\n",
    "fairness_dict, metric_frame = universe_analysis.compute_metrics(\n",
    "    example_universe,\n",
    "    y_pred_prob=probs_test,\n",
    "    y_test=y_true,\n",
    "    org_test=org_test,\n",
    ")"
   ]
  },
  {
   "cell_type": "markdown",
   "id": "f95d4e02",
   "metadata": {
    "papermill": {
     "duration": 0.034539,
     "end_time": "2025-08-05T16:25:40.423706",
     "exception": false,
     "start_time": "2025-08-05T16:25:40.389167",
     "status": "completed"
    },
    "tags": []
   },
   "source": [
    "# Overall"
   ]
  },
  {
   "cell_type": "markdown",
   "id": "bdee4871",
   "metadata": {
    "papermill": {
     "duration": 0.031093,
     "end_time": "2025-08-05T16:25:40.489134",
     "exception": false,
     "start_time": "2025-08-05T16:25:40.458041",
     "status": "completed"
    },
    "tags": []
   },
   "source": [
    "Fairness\n",
    "Main fairness target: Equalized Odds. Seems to be a better fit than equal opportunity, since we're not only interested in Y = 1. Seems to be a better fit than demographic parity, since we also care about accuracy, not just equal distribution of preds.\n",
    "\n",
    "Pick column for computation of fairness metrics\n",
    "\n",
    "Performance\n",
    "Overall performance measures, most interesting in relation to the measures split by group below"
   ]
  },
  {
   "cell_type": "code",
   "execution_count": 61,
   "id": "c4e067c6",
   "metadata": {
    "execution": {
     "iopub.execute_input": "2025-08-05T16:25:40.559062Z",
     "iopub.status.busy": "2025-08-05T16:25:40.557823Z",
     "iopub.status.idle": "2025-08-05T16:25:40.568829Z",
     "shell.execute_reply": "2025-08-05T16:25:40.567609Z"
    },
    "papermill": {
     "duration": 0.04933,
     "end_time": "2025-08-05T16:25:40.571176",
     "exception": false,
     "start_time": "2025-08-05T16:25:40.521846",
     "status": "completed"
    },
    "tags": []
   },
   "outputs": [
    {
     "data": {
      "text/plain": [
       "accuracy                   0.212763\n",
       "balanced accuracy          0.522668\n",
       "f1                         0.234414\n",
       "precision                  0.133913\n",
       "false positive rate        0.894184\n",
       "false negative rate        0.060480\n",
       "selection rate             0.900000\n",
       "count                  89710.000000\n",
       "dtype: float64"
      ]
     },
     "execution_count": 61,
     "metadata": {},
     "output_type": "execute_result"
    }
   ],
   "source": [
    "metric_frame.overall"
   ]
  },
  {
   "cell_type": "markdown",
   "id": "e968fe9d",
   "metadata": {
    "papermill": {
     "duration": 0.028418,
     "end_time": "2025-08-05T16:25:40.632967",
     "exception": false,
     "start_time": "2025-08-05T16:25:40.604549",
     "status": "completed"
    },
    "tags": []
   },
   "source": [
    "By Group"
   ]
  },
  {
   "cell_type": "code",
   "execution_count": 62,
   "id": "ec325bce",
   "metadata": {
    "execution": {
     "iopub.execute_input": "2025-08-05T16:25:40.668252Z",
     "iopub.status.busy": "2025-08-05T16:25:40.667723Z",
     "iopub.status.idle": "2025-08-05T16:25:40.683316Z",
     "shell.execute_reply": "2025-08-05T16:25:40.682274Z"
    },
    "papermill": {
     "duration": 0.033149,
     "end_time": "2025-08-05T16:25:40.685015",
     "exception": false,
     "start_time": "2025-08-05T16:25:40.651866",
     "status": "completed"
    },
    "tags": []
   },
   "outputs": [
    {
     "data": {
      "text/html": [
       "<div>\n",
       "<style scoped>\n",
       "    .dataframe tbody tr th:only-of-type {\n",
       "        vertical-align: middle;\n",
       "    }\n",
       "\n",
       "    .dataframe tbody tr th {\n",
       "        vertical-align: top;\n",
       "    }\n",
       "\n",
       "    .dataframe thead th {\n",
       "        text-align: right;\n",
       "    }\n",
       "</style>\n",
       "<table border=\"1\" class=\"dataframe\">\n",
       "  <thead>\n",
       "    <tr style=\"text-align: right;\">\n",
       "      <th></th>\n",
       "      <th>accuracy</th>\n",
       "      <th>balanced accuracy</th>\n",
       "      <th>f1</th>\n",
       "      <th>precision</th>\n",
       "      <th>false positive rate</th>\n",
       "      <th>false negative rate</th>\n",
       "      <th>selection rate</th>\n",
       "      <th>count</th>\n",
       "    </tr>\n",
       "    <tr>\n",
       "      <th>majmin</th>\n",
       "      <th></th>\n",
       "      <th></th>\n",
       "      <th></th>\n",
       "      <th></th>\n",
       "      <th></th>\n",
       "      <th></th>\n",
       "      <th></th>\n",
       "      <th></th>\n",
       "    </tr>\n",
       "  </thead>\n",
       "  <tbody>\n",
       "    <tr>\n",
       "      <th>majority</th>\n",
       "      <td>0.231647</td>\n",
       "      <td>0.527186</td>\n",
       "      <td>0.242132</td>\n",
       "      <td>0.139210</td>\n",
       "      <td>0.874513</td>\n",
       "      <td>0.071116</td>\n",
       "      <td>0.881697</td>\n",
       "      <td>69170.0</td>\n",
       "    </tr>\n",
       "    <tr>\n",
       "      <th>minority</th>\n",
       "      <td>0.149172</td>\n",
       "      <td>0.510703</td>\n",
       "      <td>0.209946</td>\n",
       "      <td>0.117558</td>\n",
       "      <td>0.959168</td>\n",
       "      <td>0.019426</td>\n",
       "      <td>0.961636</td>\n",
       "      <td>20540.0</td>\n",
       "    </tr>\n",
       "  </tbody>\n",
       "</table>\n",
       "</div>"
      ],
      "text/plain": [
       "          accuracy  balanced accuracy        f1  precision  \\\n",
       "majmin                                                       \n",
       "majority  0.231647           0.527186  0.242132   0.139210   \n",
       "minority  0.149172           0.510703  0.209946   0.117558   \n",
       "\n",
       "          false positive rate  false negative rate  selection rate    count  \n",
       "majmin                                                                       \n",
       "majority             0.874513             0.071116        0.881697  69170.0  \n",
       "minority             0.959168             0.019426        0.961636  20540.0  "
      ]
     },
     "execution_count": 62,
     "metadata": {},
     "output_type": "execute_result"
    }
   ],
   "source": [
    "metric_frame.by_group"
   ]
  },
  {
   "cell_type": "code",
   "execution_count": 63,
   "id": "a9ddbe63",
   "metadata": {
    "execution": {
     "iopub.execute_input": "2025-08-05T16:25:40.750060Z",
     "iopub.status.busy": "2025-08-05T16:25:40.749472Z",
     "iopub.status.idle": "2025-08-05T16:25:43.679937Z",
     "shell.execute_reply": "2025-08-05T16:25:43.679012Z"
    },
    "papermill": {
     "duration": 2.967247,
     "end_time": "2025-08-05T16:25:43.681922",
     "exception": false,
     "start_time": "2025-08-05T16:25:40.714675",
     "status": "completed"
    },
    "tags": []
   },
   "outputs": [
    {
     "data": {
      "text/plain": [
       "array([[<Axes: title={'center': 'accuracy'}, xlabel='majmin'>,\n",
       "        <Axes: title={'center': 'balanced accuracy'}, xlabel='majmin'>,\n",
       "        <Axes: title={'center': 'f1'}, xlabel='majmin'>],\n",
       "       [<Axes: title={'center': 'precision'}, xlabel='majmin'>,\n",
       "        <Axes: title={'center': 'false positive rate'}, xlabel='majmin'>,\n",
       "        <Axes: title={'center': 'false negative rate'}, xlabel='majmin'>],\n",
       "       [<Axes: title={'center': 'selection rate'}, xlabel='majmin'>,\n",
       "        <Axes: title={'center': 'count'}, xlabel='majmin'>,\n",
       "        <Axes: xlabel='majmin'>]], dtype=object)"
      ]
     },
     "execution_count": 63,
     "metadata": {},
     "output_type": "execute_result"
    },
    {
     "data": {
      "image/png": "[encoded data removed]",
      "text/plain": [
       "<Figure size 1200x800 with 9 Axes>"
      ]
     },
     "metadata": {},
     "output_type": "display_data"
    }
   ],
   "source": [
    "# In a graphic\n",
    "metric_frame.by_group.plot.bar(\n",
    "    subplots=True,\n",
    "    layout=[3, 3],\n",
    "    legend=False,\n",
    "    figsize=[12, 8],\n",
    "    title=\"Show all metrics\",\n",
    ")"
   ]
  },
  {
   "cell_type": "markdown",
   "id": "f57a0bac",
   "metadata": {
    "papermill": {
     "duration": 0.030664,
     "end_time": "2025-08-05T16:25:43.746876",
     "exception": false,
     "start_time": "2025-08-05T16:25:43.716212",
     "status": "completed"
    },
    "tags": []
   },
   "source": [
    "# Final Output"
   ]
  },
  {
   "cell_type": "code",
   "execution_count": 64,
   "id": "96d280a3",
   "metadata": {
    "execution": {
     "iopub.execute_input": "2025-08-05T16:25:43.812940Z",
     "iopub.status.busy": "2025-08-05T16:25:43.811731Z",
     "iopub.status.idle": "2025-08-05T16:25:43.822007Z",
     "shell.execute_reply": "2025-08-05T16:25:43.820767Z"
    },
    "papermill": {
     "duration": 0.045463,
     "end_time": "2025-08-05T16:25:43.824109",
     "exception": false,
     "start_time": "2025-08-05T16:25:43.778646",
     "status": "completed"
    },
    "tags": []
   },
   "outputs": [
    {
     "data": {
      "text/plain": [
       "4"
      ]
     },
     "execution_count": 64,
     "metadata": {},
     "output_type": "execute_result"
    }
   ],
   "source": [
    "sub_universes = universe_analysis.generate_sub_universes()\n",
    "len(sub_universes)"
   ]
  },
  {
   "cell_type": "code",
   "execution_count": 65,
   "id": "92adf7ba",
   "metadata": {
    "execution": {
     "iopub.execute_input": "2025-08-05T16:25:43.885600Z",
     "iopub.status.busy": "2025-08-05T16:25:43.884705Z",
     "iopub.status.idle": "2025-08-05T16:25:43.891695Z",
     "shell.execute_reply": "2025-08-05T16:25:43.890374Z"
    },
    "papermill": {
     "duration": 0.037359,
     "end_time": "2025-08-05T16:25:43.893735",
     "exception": false,
     "start_time": "2025-08-05T16:25:43.856376",
     "status": "completed"
    },
    "tags": []
   },
   "outputs": [],
   "source": [
    "def filter_sub_universe_data(sub_universe, org_test):\n",
    "    # Keep all rows — no filtering\n",
    "    keep_rows_mask = np.ones(org_test.shape[0], dtype=bool)\n",
    "\n",
    "    print(f\"[INFO] Keeping all rows: {keep_rows_mask.sum()} rows retained.\")\n",
    "    return keep_rows_mask"
   ]
  },
  {
   "cell_type": "code",
   "execution_count": 66,
   "id": "4a759155",
   "metadata": {
    "execution": {
     "iopub.execute_input": "2025-08-05T16:25:43.958606Z",
     "iopub.status.busy": "2025-08-05T16:25:43.958161Z",
     "iopub.status.idle": "2025-08-05T16:25:53.019055Z",
     "shell.execute_reply": "2025-08-05T16:25:53.017984Z"
    },
    "papermill": {
     "duration": 9.095559,
     "end_time": "2025-08-05T16:25:53.020756",
     "exception": false,
     "start_time": "2025-08-05T16:25:43.925197",
     "status": "completed"
    },
    "tags": []
   },
   "outputs": [
    {
     "name": "stdout",
     "output_type": "stream",
     "text": [
      "Stopping execution_time clock.\n",
      "[INFO] Keeping all rows: 89710 rows retained.\n"
     ]
    },
    {
     "name": "stdout",
     "output_type": "stream",
     "text": [
      "[INFO] Keeping all rows: 89710 rows retained.\n"
     ]
    },
    {
     "name": "stdout",
     "output_type": "stream",
     "text": [
      "[INFO] Keeping all rows: 89710 rows retained.\n"
     ]
    },
    {
     "name": "stdout",
     "output_type": "stream",
     "text": [
      "[INFO] Keeping all rows: 89710 rows retained.\n"
     ]
    },
    {
     "data": {
      "text/html": [
       "<div>\n",
       "<style scoped>\n",
       "    .dataframe tbody tr th:only-of-type {\n",
       "        vertical-align: middle;\n",
       "    }\n",
       "\n",
       "    .dataframe tbody tr th {\n",
       "        vertical-align: top;\n",
       "    }\n",
       "\n",
       "    .dataframe thead th {\n",
       "        text-align: right;\n",
       "    }\n",
       "</style>\n",
       "<table border=\"1\" class=\"dataframe\">\n",
       "  <thead>\n",
       "    <tr style=\"text-align: right;\">\n",
       "      <th></th>\n",
       "      <th>run_no</th>\n",
       "      <th>universe_id</th>\n",
       "      <th>universe_settings</th>\n",
       "      <th>execution_time</th>\n",
       "      <th>test_size_n</th>\n",
       "      <th>test_size_frac</th>\n",
       "      <th>fair_main_equalized_odds_difference</th>\n",
       "      <th>fair_main_equalized_odds_ratio</th>\n",
       "      <th>fair_main_demographic_parity_difference</th>\n",
       "      <th>fair_main_demographic_parity_ratio</th>\n",
       "      <th>...</th>\n",
       "      <th>perf_grp_precision_0</th>\n",
       "      <th>perf_grp_precision_1</th>\n",
       "      <th>perf_grp_false positive rate_0</th>\n",
       "      <th>perf_grp_false positive rate_1</th>\n",
       "      <th>perf_grp_false negative rate_0</th>\n",
       "      <th>perf_grp_false negative rate_1</th>\n",
       "      <th>perf_grp_selection rate_0</th>\n",
       "      <th>perf_grp_selection rate_1</th>\n",
       "      <th>perf_grp_count_0</th>\n",
       "      <th>perf_grp_count_1</th>\n",
       "    </tr>\n",
       "  </thead>\n",
       "  <tbody>\n",
       "    <tr>\n",
       "      <th>0</th>\n",
       "      <td>15</td>\n",
       "      <td>fe3e78a18593fee1a7aac8086fc4c3b5</td>\n",
       "      <td>{\"cutoff\": \"quantile_0.1\", \"eval_fairness_grou...</td>\n",
       "      <td>30.513011</td>\n",
       "      <td>89710</td>\n",
       "      <td>1.0</td>\n",
       "      <td>0.084655</td>\n",
       "      <td>0.911741</td>\n",
       "      <td>0.079939</td>\n",
       "      <td>0.916872</td>\n",
       "      <td>...</td>\n",
       "      <td>NaN</td>\n",
       "      <td>NaN</td>\n",
       "      <td>NaN</td>\n",
       "      <td>NaN</td>\n",
       "      <td>NaN</td>\n",
       "      <td>NaN</td>\n",
       "      <td>NaN</td>\n",
       "      <td>NaN</td>\n",
       "      <td>NaN</td>\n",
       "      <td>NaN</td>\n",
       "    </tr>\n",
       "    <tr>\n",
       "      <th>0</th>\n",
       "      <td>15</td>\n",
       "      <td>fe3e78a18593fee1a7aac8086fc4c3b5</td>\n",
       "      <td>{\"cutoff\": \"quantile_0.1\", \"eval_fairness_grou...</td>\n",
       "      <td>30.513011</td>\n",
       "      <td>89710</td>\n",
       "      <td>1.0</td>\n",
       "      <td>0.084655</td>\n",
       "      <td>0.911741</td>\n",
       "      <td>0.079939</td>\n",
       "      <td>0.916872</td>\n",
       "      <td>...</td>\n",
       "      <td>0.117558</td>\n",
       "      <td>0.139210</td>\n",
       "      <td>0.959168</td>\n",
       "      <td>0.874513</td>\n",
       "      <td>0.019426</td>\n",
       "      <td>0.071116</td>\n",
       "      <td>0.961636</td>\n",
       "      <td>0.881697</td>\n",
       "      <td>20540.0</td>\n",
       "      <td>69170.0</td>\n",
       "    </tr>\n",
       "    <tr>\n",
       "      <th>0</th>\n",
       "      <td>15</td>\n",
       "      <td>fe3e78a18593fee1a7aac8086fc4c3b5</td>\n",
       "      <td>{\"cutoff\": \"quantile_0.25\", \"eval_fairness_gro...</td>\n",
       "      <td>30.513011</td>\n",
       "      <td>89710</td>\n",
       "      <td>1.0</td>\n",
       "      <td>0.207922</td>\n",
       "      <td>0.767285</td>\n",
       "      <td>0.192845</td>\n",
       "      <td>0.785415</td>\n",
       "      <td>...</td>\n",
       "      <td>NaN</td>\n",
       "      <td>NaN</td>\n",
       "      <td>NaN</td>\n",
       "      <td>NaN</td>\n",
       "      <td>NaN</td>\n",
       "      <td>NaN</td>\n",
       "      <td>NaN</td>\n",
       "      <td>NaN</td>\n",
       "      <td>NaN</td>\n",
       "      <td>NaN</td>\n",
       "    </tr>\n",
       "    <tr>\n",
       "      <th>0</th>\n",
       "      <td>15</td>\n",
       "      <td>fe3e78a18593fee1a7aac8086fc4c3b5</td>\n",
       "      <td>{\"cutoff\": \"quantile_0.25\", \"eval_fairness_gro...</td>\n",
       "      <td>30.513011</td>\n",
       "      <td>89710</td>\n",
       "      <td>1.0</td>\n",
       "      <td>0.207922</td>\n",
       "      <td>0.767285</td>\n",
       "      <td>0.192845</td>\n",
       "      <td>0.785415</td>\n",
       "      <td>...</td>\n",
       "      <td>0.120429</td>\n",
       "      <td>0.157098</td>\n",
       "      <td>0.893462</td>\n",
       "      <td>0.685541</td>\n",
       "      <td>0.061233</td>\n",
       "      <td>0.160832</td>\n",
       "      <td>0.898685</td>\n",
       "      <td>0.705841</td>\n",
       "      <td>20540.0</td>\n",
       "      <td>69170.0</td>\n",
       "    </tr>\n",
       "  </tbody>\n",
       "</table>\n",
       "<p>4 rows × 50 columns</p>\n",
       "</div>"
      ],
      "text/plain": [
       "  run_no                       universe_id  \\\n",
       "0     15  fe3e78a18593fee1a7aac8086fc4c3b5   \n",
       "0     15  fe3e78a18593fee1a7aac8086fc4c3b5   \n",
       "0     15  fe3e78a18593fee1a7aac8086fc4c3b5   \n",
       "0     15  fe3e78a18593fee1a7aac8086fc4c3b5   \n",
       "\n",
       "                                   universe_settings  execution_time  \\\n",
       "0  {\"cutoff\": \"quantile_0.1\", \"eval_fairness_grou...       30.513011   \n",
       "0  {\"cutoff\": \"quantile_0.1\", \"eval_fairness_grou...       30.513011   \n",
       "0  {\"cutoff\": \"quantile_0.25\", \"eval_fairness_gro...       30.513011   \n",
       "0  {\"cutoff\": \"quantile_0.25\", \"eval_fairness_gro...       30.513011   \n",
       "\n",
       "   test_size_n  test_size_frac  fair_main_equalized_odds_difference  \\\n",
       "0        89710             1.0                             0.084655   \n",
       "0        89710             1.0                             0.084655   \n",
       "0        89710             1.0                             0.207922   \n",
       "0        89710             1.0                             0.207922   \n",
       "\n",
       "   fair_main_equalized_odds_ratio  fair_main_demographic_parity_difference  \\\n",
       "0                        0.911741                                 0.079939   \n",
       "0                        0.911741                                 0.079939   \n",
       "0                        0.767285                                 0.192845   \n",
       "0                        0.767285                                 0.192845   \n",
       "\n",
       "   fair_main_demographic_parity_ratio  ...  perf_grp_precision_0  \\\n",
       "0                            0.916872  ...                   NaN   \n",
       "0                            0.916872  ...              0.117558   \n",
       "0                            0.785415  ...                   NaN   \n",
       "0                            0.785415  ...              0.120429   \n",
       "\n",
       "   perf_grp_precision_1  perf_grp_false positive rate_0  \\\n",
       "0                   NaN                             NaN   \n",
       "0              0.139210                        0.959168   \n",
       "0                   NaN                             NaN   \n",
       "0              0.157098                        0.893462   \n",
       "\n",
       "   perf_grp_false positive rate_1  perf_grp_false negative rate_0  \\\n",
       "0                             NaN                             NaN   \n",
       "0                        0.874513                        0.019426   \n",
       "0                             NaN                             NaN   \n",
       "0                        0.685541                        0.061233   \n",
       "\n",
       "   perf_grp_false negative rate_1  perf_grp_selection rate_0  \\\n",
       "0                             NaN                        NaN   \n",
       "0                        0.071116                   0.961636   \n",
       "0                             NaN                        NaN   \n",
       "0                        0.160832                   0.898685   \n",
       "\n",
       "   perf_grp_selection rate_1  perf_grp_count_0  perf_grp_count_1  \n",
       "0                        NaN               NaN               NaN  \n",
       "0                   0.881697           20540.0           69170.0  \n",
       "0                        NaN               NaN               NaN  \n",
       "0                   0.705841           20540.0           69170.0  \n",
       "\n",
       "[4 rows x 50 columns]"
      ]
     },
     "execution_count": 66,
     "metadata": {},
     "output_type": "execute_result"
    }
   ],
   "source": [
    "final_output = universe_analysis.generate_final_output(\n",
    "    y_pred_prob=probs_test,\n",
    "    y_test=y_true,\n",
    "    org_test=org_test,\n",
    "    filter_data=filter_sub_universe_data,\n",
    "    cp_metrics_df=cp_metrics_df,\n",
    "    save=True,\n",
    ")\n",
    "final_output"
   ]
  }
 ],
 "metadata": {
  "celltoolbar": "Tags",
  "kernelspec": {
   "display_name": "Python (CMA Fairness)",
   "language": "python",
   "name": "cma_fair_env"
  },
  "language_info": {
   "codemirror_mode": {
    "name": "ipython",
    "version": 3
   },
   "file_extension": ".py",
   "mimetype": "text/x-python",
   "name": "python",
   "nbconvert_exporter": "python",
   "pygments_lexer": "ipython3",
   "version": "3.10.12"
  },
  "papermill": {
   "default_parameters": {},
   "duration": 44.366174,
   "end_time": "2025-08-05T16:25:53.757197",
   "environment_variables": {},
   "exception": null,
   "input_path": "universe_analysis.ipynb",
   "output_path": "output/runs/15/notebooks/m_15-fe3e78a18593fee1a7aac8086fc4c3b5.ipynb",
   "parameters": {
    "output_dir": "output",
    "run_no": "15",
    "seed": "2023",
    "universe": "{\"cutoff\": [\"quantile_0.1\", \"quantile_0.25\"], \"eval_fairness_grouping\": [\"majority-minority\", \"nationality-all\"], \"exclude_features\": \"sex\", \"exclude_subgroups\": \"drop-non-german\", \"model\": \"penalized_logreg\", \"scale\": \"do-not-scale\", \"training_size\": \"1k\", \"training_year\": \"2012_14\"}",
    "universe_id": "fe3e78a18593fee1a7aac8086fc4c3b5"
   },
   "start_time": "2025-08-05T16:25:09.391023",
   "version": "2.6.0"
  }
 },
 "nbformat": 4,
 "nbformat_minor": 5
}