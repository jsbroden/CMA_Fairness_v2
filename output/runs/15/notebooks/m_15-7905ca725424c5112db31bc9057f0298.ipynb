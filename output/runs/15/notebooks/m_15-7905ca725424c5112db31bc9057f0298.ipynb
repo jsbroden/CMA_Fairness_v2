{
 "cells": [
  {
   "cell_type": "code",
   "execution_count": 1,
   "id": "f159f837-637b-42ba-96b5-ec9a68c44524",
   "metadata": {
    "execution": {
     "iopub.execute_input": "2025-08-05T15:32:21.871032Z",
     "iopub.status.busy": "2025-08-05T15:32:21.870526Z",
     "iopub.status.idle": "2025-08-05T15:32:21.884424Z",
     "shell.execute_reply": "2025-08-05T15:32:21.883403Z"
    },
    "papermill": {
     "duration": 0.033164,
     "end_time": "2025-08-05T15:32:21.886183",
     "exception": false,
     "start_time": "2025-08-05T15:32:21.853019",
     "status": "completed"
    },
    "tags": []
   },
   "outputs": [
    {
     "name": "stdout",
     "output_type": "stream",
     "text": [
      "/dss/dsshome1/0C/ra93lal2/cma/CMA_Fairness_v2\n"
     ]
    },
    {
     "name": "stderr",
     "output_type": "stream",
     "text": [
      "/dss/dsshome1/0C/ra93lal2/.local/share/virtualenvs/CMA_Fairness_v2-3j10GkSs/lib/python3.10/site-packages/IPython/core/magics/osm.py:393: UserWarning: This is now an optional IPython functionality, using bookmarks requires you to install the `pickleshare` library.\n",
      "  bkms = self.shell.db.get('bookmarks', {})\n",
      "/dss/dsshome1/0C/ra93lal2/.local/share/virtualenvs/CMA_Fairness_v2-3j10GkSs/lib/python3.10/site-packages/IPython/core/magics/osm.py:417: UserWarning: This is now an optional IPython functionality, setting dhist requires you to install the `pickleshare` library.\n",
      "  self.shell.db['dhist'] = compress_dhist(dhist)[-100:]\n"
     ]
    }
   ],
   "source": [
    "%cd ~/cma/CMA_Fairness_v2"
   ]
  },
  {
   "cell_type": "markdown",
   "id": "de2603b9",
   "metadata": {
    "papermill": {
     "duration": 0.015465,
     "end_time": "2025-08-05T15:32:21.918254",
     "exception": false,
     "start_time": "2025-08-05T15:32:21.902789",
     "status": "completed"
    },
    "tags": []
   },
   "source": [
    "The following cell holds the definition of our parameters, these values can be overriden by rendering the with e.g. the following command:\n",
    "\n",
    "papermill -p alpha 0.2 -p ratio 0.3 universe_analysis.ipynb output/test_run.ipynb"
   ]
  },
  {
   "cell_type": "code",
   "execution_count": 2,
   "id": "a80968a0-40bb-4fa9-85ef-2d5eefb01975",
   "metadata": {
    "execution": {
     "iopub.execute_input": "2025-08-05T15:32:21.951994Z",
     "iopub.status.busy": "2025-08-05T15:32:21.951264Z",
     "iopub.status.idle": "2025-08-05T15:32:21.957258Z",
     "shell.execute_reply": "2025-08-05T15:32:21.956075Z"
    },
    "papermill": {
     "duration": 0.02559,
     "end_time": "2025-08-05T15:32:21.959238",
     "exception": false,
     "start_time": "2025-08-05T15:32:21.933648",
     "status": "completed"
    },
    "tags": []
   },
   "outputs": [
    {
     "name": "stdout",
     "output_type": "stream",
     "text": [
      "Current working directory: /dss/dsshome1/0C/ra93lal2/cma/CMA_Fairness_v2\n"
     ]
    }
   ],
   "source": [
    "import os\n",
    "print(\"Current working directory:\", os.getcwd())"
   ]
  },
  {
   "cell_type": "code",
   "execution_count": 3,
   "id": "2dce4c03",
   "metadata": {
    "execution": {
     "iopub.execute_input": "2025-08-05T15:32:21.994732Z",
     "iopub.status.busy": "2025-08-05T15:32:21.993495Z",
     "iopub.status.idle": "2025-08-05T15:32:22.001148Z",
     "shell.execute_reply": "2025-08-05T15:32:22.000031Z"
    },
    "papermill": {
     "duration": 0.027361,
     "end_time": "2025-08-05T15:32:22.003336",
     "exception": false,
     "start_time": "2025-08-05T15:32:21.975975",
     "status": "completed"
    },
    "tags": [
     "parameters"
    ]
   },
   "outputs": [],
   "source": [
    "run_no = 0\n",
    "universe_id = \"test\"\n",
    "universe = {\n",
    "    \"training_size\": \"25k\", # \"25k\", \"5k\", \"1k\"\n",
    "    \"training_year\": \"2014\", # \"2014\", \"2012_14\", \"2010_14\"\n",
    "    \"scale\": \"scale\", # \"scale\", \"do-not-scale\",\n",
    "    \"model\": \"elasticnet\", # \"logreg\", \"penalized_logreg\", \"rf\", \"gbm\", \"elasticnet\"\n",
    "    \"cutoff\": [\"quantile_0.15\", \"quantile_0.30\"],\n",
    "    \"exclude_features\": \"age\", # \"none\", \"nationality\", \"sex\", \"nationality-sex\", \"age\"\n",
    "    \"exclude_subgroups\": \"keep-all\", # \"keep-all\", \"drop-non-german\"\n",
    "    \"eval_fairness_grouping\": [\"majority-minority\", \"nationality-all\"]\n",
    "}\n",
    "\n",
    "output_dir=\"./output\"\n",
    "seed=0"
   ]
  },
  {
   "cell_type": "code",
   "execution_count": 4,
   "id": "fda6e0f7",
   "metadata": {
    "execution": {
     "iopub.execute_input": "2025-08-05T15:32:22.039310Z",
     "iopub.status.busy": "2025-08-05T15:32:22.038662Z",
     "iopub.status.idle": "2025-08-05T15:32:22.043989Z",
     "shell.execute_reply": "2025-08-05T15:32:22.042951Z"
    },
    "papermill": {
     "duration": 0.024278,
     "end_time": "2025-08-05T15:32:22.045725",
     "exception": false,
     "start_time": "2025-08-05T15:32:22.021447",
     "status": "completed"
    },
    "tags": [
     "injected-parameters"
    ]
   },
   "outputs": [],
   "source": [
    "# Parameters\n",
    "universe_id = \"7905ca725424c5112db31bc9057f0298\"\n",
    "run_no = \"15\"\n",
    "universe = \"{\\\"cutoff\\\": [\\\"quantile_0.1\\\", \\\"quantile_0.25\\\"], \\\"eval_fairness_grouping\\\": [\\\"majority-minority\\\", \\\"nationality-all\\\"], \\\"exclude_features\\\": \\\"age\\\", \\\"exclude_subgroups\\\": \\\"drop-non-german\\\", \\\"model\\\": \\\"gbm\\\", \\\"scale\\\": \\\"do-not-scale\\\", \\\"training_size\\\": \\\"5k\\\", \\\"training_year\\\": \\\"2014\\\"}\"\n",
    "output_dir = \"output\"\n",
    "seed = \"2023\"\n"
   ]
  },
  {
   "cell_type": "code",
   "execution_count": 5,
   "id": "1650acaf",
   "metadata": {
    "execution": {
     "iopub.execute_input": "2025-08-05T15:32:22.079724Z",
     "iopub.status.busy": "2025-08-05T15:32:22.079092Z",
     "iopub.status.idle": "2025-08-05T15:32:22.083936Z",
     "shell.execute_reply": "2025-08-05T15:32:22.083050Z"
    },
    "papermill": {
     "duration": 0.024091,
     "end_time": "2025-08-05T15:32:22.086020",
     "exception": false,
     "start_time": "2025-08-05T15:32:22.061929",
     "status": "completed"
    },
    "tags": []
   },
   "outputs": [],
   "source": [
    "import json\n",
    "if isinstance(universe, str):\n",
    "    universe = json.loads(universe)"
   ]
  },
  {
   "cell_type": "code",
   "execution_count": 6,
   "id": "16620c48",
   "metadata": {
    "execution": {
     "iopub.execute_input": "2025-08-05T15:32:22.121324Z",
     "iopub.status.busy": "2025-08-05T15:32:22.120845Z",
     "iopub.status.idle": "2025-08-05T15:32:22.164872Z",
     "shell.execute_reply": "2025-08-05T15:32:22.164086Z"
    },
    "papermill": {
     "duration": 0.06328,
     "end_time": "2025-08-05T15:32:22.166557",
     "exception": false,
     "start_time": "2025-08-05T15:32:22.103277",
     "status": "completed"
    },
    "tags": []
   },
   "outputs": [],
   "source": [
    "# Auto-reload the custom package\n",
    "%load_ext autoreload\n",
    "%autoreload 1\n",
    "%aimport fairness_multiverse"
   ]
  },
  {
   "cell_type": "code",
   "execution_count": 7,
   "id": "01c5c9f3",
   "metadata": {
    "execution": {
     "iopub.execute_input": "2025-08-05T15:32:22.204007Z",
     "iopub.status.busy": "2025-08-05T15:32:22.203288Z",
     "iopub.status.idle": "2025-08-05T15:32:24.251848Z",
     "shell.execute_reply": "2025-08-05T15:32:24.251015Z"
    },
    "papermill": {
     "duration": 2.068915,
     "end_time": "2025-08-05T15:32:24.253325",
     "exception": false,
     "start_time": "2025-08-05T15:32:22.184410",
     "status": "completed"
    },
    "tags": []
   },
   "outputs": [],
   "source": [
    "from fairness_multiverse.universe import UniverseAnalysis\n",
    "\n",
    "universe_analysis = UniverseAnalysis(\n",
    "    run_no = run_no,\n",
    "    universe_id = universe_id,\n",
    "    universe = universe,\n",
    "    output_dir=output_dir,\n",
    ")"
   ]
  },
  {
   "cell_type": "code",
   "execution_count": 8,
   "id": "106241f5",
   "metadata": {
    "execution": {
     "iopub.execute_input": "2025-08-05T15:32:24.272706Z",
     "iopub.status.busy": "2025-08-05T15:32:24.272159Z",
     "iopub.status.idle": "2025-08-05T15:32:24.278077Z",
     "shell.execute_reply": "2025-08-05T15:32:24.277099Z"
    },
    "papermill": {
     "duration": 0.017133,
     "end_time": "2025-08-05T15:32:24.279629",
     "exception": false,
     "start_time": "2025-08-05T15:32:24.262496",
     "status": "completed"
    },
    "tags": []
   },
   "outputs": [
    {
     "name": "stdout",
     "output_type": "stream",
     "text": [
      "Using Seed: 2023\n"
     ]
    }
   ],
   "source": [
    "import numpy as np\n",
    "parsed_seed = int(seed)\n",
    "np.random.seed(parsed_seed)\n",
    "print(f\"Using Seed: {parsed_seed}\")"
   ]
  },
  {
   "cell_type": "markdown",
   "id": "e0ebdc57",
   "metadata": {
    "papermill": {
     "duration": 0.008645,
     "end_time": "2025-08-05T15:32:24.298216",
     "exception": false,
     "start_time": "2025-08-05T15:32:24.289571",
     "status": "completed"
    },
    "tags": []
   },
   "source": [
    "# Loading Data"
   ]
  },
  {
   "cell_type": "code",
   "execution_count": 9,
   "id": "f0496b8a",
   "metadata": {
    "execution": {
     "iopub.execute_input": "2025-08-05T15:32:24.318076Z",
     "iopub.status.busy": "2025-08-05T15:32:24.317327Z",
     "iopub.status.idle": "2025-08-05T15:32:35.500608Z",
     "shell.execute_reply": "2025-08-05T15:32:35.499620Z"
    },
    "papermill": {
     "duration": 11.194499,
     "end_time": "2025-08-05T15:32:35.501969",
     "exception": false,
     "start_time": "2025-08-05T15:32:24.307470",
     "status": "completed"
    },
    "tags": []
   },
   "outputs": [
    {
     "name": "stdout",
     "output_type": "stream",
     "text": [
      "Loading SIAB data from cache: data/siab_cached.csv.gz\n"
     ]
    },
    {
     "name": "stdout",
     "output_type": "stream",
     "text": [
      "(643690, 164)\n"
     ]
    }
   ],
   "source": [
    "from pathlib import Path\n",
    "import pandas as pd\n",
    "\n",
    "# File paths\n",
    "raw_file = Path(\"data/raw/siab.csv\")\n",
    "cache_file = Path(\"data/siab_cached.csv.gz\")\n",
    "\n",
    "# Ensure cache directory exists\n",
    "cache_file.parent.mkdir(parents=True, exist_ok=True)\n",
    "\n",
    "# Load with simple caching\n",
    "if cache_file.exists():\n",
    "    print(f\"Loading SIAB data from cache: {cache_file}\")\n",
    "    siab = pd.read_csv(cache_file, compression='gzip')\n",
    "else:\n",
    "    print(f\"Cache not found. Reading raw SIAB data: {raw_file}\")\n",
    "    siab = pd.read_csv(raw_file)\n",
    "    siab.to_csv(cache_file, index=False, compression='gzip')\n",
    "    print(f\"Cached SIAB data to: {cache_file}\")\n",
    "\n",
    "print(siab.shape)"
   ]
  },
  {
   "cell_type": "code",
   "execution_count": 10,
   "id": "db0ca512-5f53-4dba-abdb-a2888bca41ba",
   "metadata": {
    "execution": {
     "iopub.execute_input": "2025-08-05T15:32:35.523070Z",
     "iopub.status.busy": "2025-08-05T15:32:35.522756Z",
     "iopub.status.idle": "2025-08-05T15:32:35.527081Z",
     "shell.execute_reply": "2025-08-05T15:32:35.526295Z"
    },
    "papermill": {
     "duration": 0.015256,
     "end_time": "2025-08-05T15:32:35.528593",
     "exception": false,
     "start_time": "2025-08-05T15:32:35.513337",
     "status": "completed"
    },
    "tags": []
   },
   "outputs": [],
   "source": [
    "#siab"
   ]
  },
  {
   "cell_type": "markdown",
   "id": "997051c5-15bd-4b69-9786-c3001a3ce484",
   "metadata": {
    "papermill": {
     "duration": 0.008552,
     "end_time": "2025-08-05T15:32:35.546349",
     "exception": false,
     "start_time": "2025-08-05T15:32:35.537797",
     "status": "completed"
    },
    "tags": []
   },
   "source": [
    "# Splitting Data and Setting Training Data Size"
   ]
  },
  {
   "cell_type": "code",
   "execution_count": 11,
   "id": "aea9c6ef-6f46-42c8-85eb-5a62025c1508",
   "metadata": {
    "execution": {
     "iopub.execute_input": "2025-08-05T15:32:35.565493Z",
     "iopub.status.busy": "2025-08-05T15:32:35.564956Z",
     "iopub.status.idle": "2025-08-05T15:32:35.740311Z",
     "shell.execute_reply": "2025-08-05T15:32:35.739288Z"
    },
    "papermill": {
     "duration": 0.187079,
     "end_time": "2025-08-05T15:32:35.742446",
     "exception": false,
     "start_time": "2025-08-05T15:32:35.555367",
     "status": "completed"
    },
    "tags": []
   },
   "outputs": [],
   "source": [
    "from fairness_multiverse.universe import sample_by_year_size\n",
    "\n",
    "siab_train = sample_by_year_size(siab,\n",
    "                               training_year=universe[\"training_year\"],\n",
    "                               training_size=universe[\"training_size\"])"
   ]
  },
  {
   "cell_type": "code",
   "execution_count": 12,
   "id": "8d3afb32-789d-442c-8d5d-9f5aa8dd2eed",
   "metadata": {
    "execution": {
     "iopub.execute_input": "2025-08-05T15:32:35.782116Z",
     "iopub.status.busy": "2025-08-05T15:32:35.781579Z",
     "iopub.status.idle": "2025-08-05T15:32:35.787123Z",
     "shell.execute_reply": "2025-08-05T15:32:35.786166Z"
    },
    "papermill": {
     "duration": 0.026861,
     "end_time": "2025-08-05T15:32:35.789188",
     "exception": false,
     "start_time": "2025-08-05T15:32:35.762327",
     "status": "completed"
    },
    "tags": []
   },
   "outputs": [],
   "source": [
    "#siab_train.shape"
   ]
  },
  {
   "cell_type": "code",
   "execution_count": 13,
   "id": "d582db68-1a4c-47fb-84fc-08518dc1975a",
   "metadata": {
    "execution": {
     "iopub.execute_input": "2025-08-05T15:32:35.838886Z",
     "iopub.status.busy": "2025-08-05T15:32:35.838404Z",
     "iopub.status.idle": "2025-08-05T15:32:35.843863Z",
     "shell.execute_reply": "2025-08-05T15:32:35.842869Z"
    },
    "papermill": {
     "duration": 0.035669,
     "end_time": "2025-08-05T15:32:35.845963",
     "exception": false,
     "start_time": "2025-08-05T15:32:35.810294",
     "status": "completed"
    },
    "tags": []
   },
   "outputs": [],
   "source": [
    "#display(siab_train.groupby(\"year\").size())"
   ]
  },
  {
   "cell_type": "code",
   "execution_count": 14,
   "id": "a561edb4-d032-42cb-8256-22eac1111c64",
   "metadata": {
    "execution": {
     "iopub.execute_input": "2025-08-05T15:32:35.887851Z",
     "iopub.status.busy": "2025-08-05T15:32:35.887364Z",
     "iopub.status.idle": "2025-08-05T15:32:36.109400Z",
     "shell.execute_reply": "2025-08-05T15:32:36.108415Z"
    },
    "papermill": {
     "duration": 0.245143,
     "end_time": "2025-08-05T15:32:36.111287",
     "exception": false,
     "start_time": "2025-08-05T15:32:35.866144",
     "status": "completed"
    },
    "tags": []
   },
   "outputs": [],
   "source": [
    "#siab_train = siab_s[siab_s.year < 2015]\n",
    "siab_calib = siab[siab.year == 2015]\n",
    "siab_test = siab[siab.year == 2016]"
   ]
  },
  {
   "cell_type": "code",
   "execution_count": 15,
   "id": "472de16f-c3db-4916-846b-1f0de9cf1746",
   "metadata": {
    "execution": {
     "iopub.execute_input": "2025-08-05T15:32:36.153414Z",
     "iopub.status.busy": "2025-08-05T15:32:36.152893Z",
     "iopub.status.idle": "2025-08-05T15:32:36.161543Z",
     "shell.execute_reply": "2025-08-05T15:32:36.160353Z"
    },
    "papermill": {
     "duration": 0.032589,
     "end_time": "2025-08-05T15:32:36.163702",
     "exception": false,
     "start_time": "2025-08-05T15:32:36.131113",
     "status": "completed"
    },
    "tags": []
   },
   "outputs": [],
   "source": [
    "X_train = siab_train.iloc[:,4:164]\n",
    "y_train = siab_train.iloc[:, [3]]"
   ]
  },
  {
   "cell_type": "code",
   "execution_count": 16,
   "id": "828c96af-f43a-4ed6-ba47-8ac73a47d56c",
   "metadata": {
    "execution": {
     "iopub.execute_input": "2025-08-05T15:32:36.205747Z",
     "iopub.status.busy": "2025-08-05T15:32:36.205136Z",
     "iopub.status.idle": "2025-08-05T15:32:36.241405Z",
     "shell.execute_reply": "2025-08-05T15:32:36.240208Z"
    },
    "papermill": {
     "duration": 0.058716,
     "end_time": "2025-08-05T15:32:36.243440",
     "exception": false,
     "start_time": "2025-08-05T15:32:36.184724",
     "status": "completed"
    },
    "tags": []
   },
   "outputs": [],
   "source": [
    "X_calib = siab_calib.iloc[:,4:164]\n",
    "y_calib = siab_calib.iloc[:, [3]]"
   ]
  },
  {
   "cell_type": "code",
   "execution_count": 17,
   "id": "c34be9c3-6bd6-476e-acd3-845840e303be",
   "metadata": {
    "execution": {
     "iopub.execute_input": "2025-08-05T15:32:36.286905Z",
     "iopub.status.busy": "2025-08-05T15:32:36.286187Z",
     "iopub.status.idle": "2025-08-05T15:32:36.341252Z",
     "shell.execute_reply": "2025-08-05T15:32:36.340051Z"
    },
    "papermill": {
     "duration": 0.07915,
     "end_time": "2025-08-05T15:32:36.343193",
     "exception": false,
     "start_time": "2025-08-05T15:32:36.264043",
     "status": "completed"
    },
    "tags": []
   },
   "outputs": [],
   "source": [
    "X_test = siab_test.iloc[:,4:164]\n",
    "y_true = siab_test.iloc[:, [3]]"
   ]
  },
  {
   "cell_type": "code",
   "execution_count": 18,
   "id": "e6c733c5",
   "metadata": {
    "execution": {
     "iopub.execute_input": "2025-08-05T15:32:36.384750Z",
     "iopub.status.busy": "2025-08-05T15:32:36.384286Z",
     "iopub.status.idle": "2025-08-05T15:32:36.483814Z",
     "shell.execute_reply": "2025-08-05T15:32:36.482788Z"
    },
    "papermill": {
     "duration": 0.122685,
     "end_time": "2025-08-05T15:32:36.485803",
     "exception": false,
     "start_time": "2025-08-05T15:32:36.363118",
     "status": "completed"
    },
    "tags": []
   },
   "outputs": [],
   "source": [
    "# Auxiliary data needed downstream in the pipeline\n",
    "\n",
    "org_train = X_train.copy()\n",
    "org_test = X_test.copy()\n",
    "org_calib = X_calib.copy()"
   ]
  },
  {
   "cell_type": "markdown",
   "id": "0a4a1b33",
   "metadata": {
    "papermill": {
     "duration": 0.01912,
     "end_time": "2025-08-05T15:32:36.526059",
     "exception": false,
     "start_time": "2025-08-05T15:32:36.506939",
     "status": "completed"
    },
    "tags": []
   },
   "source": [
    "# Preprocessing Data"
   ]
  },
  {
   "cell_type": "code",
   "execution_count": 19,
   "id": "ca879031",
   "metadata": {
    "execution": {
     "iopub.execute_input": "2025-08-05T15:32:36.570306Z",
     "iopub.status.busy": "2025-08-05T15:32:36.569203Z",
     "iopub.status.idle": "2025-08-05T15:32:36.575648Z",
     "shell.execute_reply": "2025-08-05T15:32:36.574686Z"
    },
    "papermill": {
     "duration": 0.032575,
     "end_time": "2025-08-05T15:32:36.577511",
     "exception": false,
     "start_time": "2025-08-05T15:32:36.544936",
     "status": "completed"
    },
    "tags": []
   },
   "outputs": [],
   "source": [
    "# EXCLUDE PROTECTED FEATURES\n",
    "# ----------------------\n",
    "# \"exclude_features\": \"none\", # \"nationality\", \"sex\", \"nationality-sex\"\n",
    "\n",
    "excluded_features = universe[\"exclude_features\"].split(\"-\") # split, e.g.: \"nationality-sex\" -> [\"nationality\", \"sex\"]\n",
    "excluded_features_dictionary = {\n",
    "    \"nationality\": [\"maxdeutsch1\", \"maxdeutsch.Missing.\"],\n",
    "    \"sex\": [\"frau1\"],\n",
    "    \"age\": [\"age\"],\n",
    "}"
   ]
  },
  {
   "cell_type": "code",
   "execution_count": 20,
   "id": "b745ac60",
   "metadata": {
    "execution": {
     "iopub.execute_input": "2025-08-05T15:32:36.615425Z",
     "iopub.status.busy": "2025-08-05T15:32:36.615054Z",
     "iopub.status.idle": "2025-08-05T15:32:36.620589Z",
     "shell.execute_reply": "2025-08-05T15:32:36.619587Z"
    },
    "papermill": {
     "duration": 0.026198,
     "end_time": "2025-08-05T15:32:36.622616",
     "exception": false,
     "start_time": "2025-08-05T15:32:36.596418",
     "status": "completed"
    },
    "tags": []
   },
   "outputs": [],
   "source": [
    "# Code nice names to column names\n",
    "\n",
    "excluded_features_columns = [\n",
    "    excluded_features_dictionary[f] for f in excluded_features if len(f) > 0 and f != \"none\"\n",
    "]"
   ]
  },
  {
   "cell_type": "code",
   "execution_count": 21,
   "id": "f84f73a2",
   "metadata": {
    "execution": {
     "iopub.execute_input": "2025-08-05T15:32:36.659101Z",
     "iopub.status.busy": "2025-08-05T15:32:36.658397Z",
     "iopub.status.idle": "2025-08-05T15:32:36.664795Z",
     "shell.execute_reply": "2025-08-05T15:32:36.663613Z"
    },
    "papermill": {
     "duration": 0.026741,
     "end_time": "2025-08-05T15:32:36.666698",
     "exception": false,
     "start_time": "2025-08-05T15:32:36.639957",
     "status": "completed"
    },
    "tags": []
   },
   "outputs": [],
   "source": [
    "from utils import flatten_once\n",
    "\n",
    "excluded_features_columns = flatten_once(excluded_features_columns)"
   ]
  },
  {
   "cell_type": "code",
   "execution_count": 22,
   "id": "884dea22",
   "metadata": {
    "execution": {
     "iopub.execute_input": "2025-08-05T15:32:36.703775Z",
     "iopub.status.busy": "2025-08-05T15:32:36.703312Z",
     "iopub.status.idle": "2025-08-05T15:32:36.712556Z",
     "shell.execute_reply": "2025-08-05T15:32:36.711396Z"
    },
    "papermill": {
     "duration": 0.028951,
     "end_time": "2025-08-05T15:32:36.714334",
     "exception": false,
     "start_time": "2025-08-05T15:32:36.685383",
     "status": "completed"
    },
    "tags": []
   },
   "outputs": [
    {
     "name": "stdout",
     "output_type": "stream",
     "text": [
      "Dropping features: ['age']\n"
     ]
    }
   ],
   "source": [
    "if len(excluded_features_columns) > 0:\n",
    "    print(f\"Dropping features: {excluded_features_columns}\")\n",
    "    X_train.drop(excluded_features_columns, axis=1, inplace=True)"
   ]
  },
  {
   "cell_type": "code",
   "execution_count": 23,
   "id": "95ab8b16",
   "metadata": {
    "execution": {
     "iopub.execute_input": "2025-08-05T15:32:36.752403Z",
     "iopub.status.busy": "2025-08-05T15:32:36.751957Z",
     "iopub.status.idle": "2025-08-05T15:32:36.806958Z",
     "shell.execute_reply": "2025-08-05T15:32:36.805726Z"
    },
    "papermill": {
     "duration": 0.076036,
     "end_time": "2025-08-05T15:32:36.808864",
     "exception": false,
     "start_time": "2025-08-05T15:32:36.732828",
     "status": "completed"
    },
    "tags": []
   },
   "outputs": [
    {
     "name": "stdout",
     "output_type": "stream",
     "text": [
      "Dropping features: ['age']\n"
     ]
    }
   ],
   "source": [
    "if len(excluded_features_columns) > 0:\n",
    "    print(f\"Dropping features: {excluded_features_columns}\")\n",
    "    X_test.drop(excluded_features_columns, axis=1, inplace=True)"
   ]
  },
  {
   "cell_type": "code",
   "execution_count": 24,
   "id": "1853aaf5-fb9f-46cb-a2b5-8ea4ae2237e4",
   "metadata": {
    "execution": {
     "iopub.execute_input": "2025-08-05T15:32:36.847045Z",
     "iopub.status.busy": "2025-08-05T15:32:36.846273Z",
     "iopub.status.idle": "2025-08-05T15:32:36.897949Z",
     "shell.execute_reply": "2025-08-05T15:32:36.896747Z"
    },
    "papermill": {
     "duration": 0.072659,
     "end_time": "2025-08-05T15:32:36.899949",
     "exception": false,
     "start_time": "2025-08-05T15:32:36.827290",
     "status": "completed"
    },
    "tags": []
   },
   "outputs": [
    {
     "name": "stdout",
     "output_type": "stream",
     "text": [
      "Dropping features: ['age']\n"
     ]
    }
   ],
   "source": [
    "if len(excluded_features_columns) > 0:\n",
    "    print(f\"Dropping features: {excluded_features_columns}\")\n",
    "    X_calib.drop(excluded_features_columns, axis=1, inplace=True)"
   ]
  },
  {
   "cell_type": "code",
   "execution_count": 25,
   "id": "76c4dc6d",
   "metadata": {
    "execution": {
     "iopub.execute_input": "2025-08-05T15:32:36.937662Z",
     "iopub.status.busy": "2025-08-05T15:32:36.936935Z",
     "iopub.status.idle": "2025-08-05T15:32:36.942691Z",
     "shell.execute_reply": "2025-08-05T15:32:36.941453Z"
    },
    "papermill": {
     "duration": 0.025872,
     "end_time": "2025-08-05T15:32:36.944476",
     "exception": false,
     "start_time": "2025-08-05T15:32:36.918604",
     "status": "completed"
    },
    "tags": []
   },
   "outputs": [],
   "source": [
    "# EXCLUDE CERTAIN SUBGROUPS\n",
    "# ----------------------\n",
    "\n",
    "mode = universe.get(\"exclude_subgroups\", \"keep-all\") \n",
    "# Fetches the exclude_subgroups setting from the universe dict.\n",
    "# Defaults to \"keep-all\" if the key is missing."
   ]
  },
  {
   "cell_type": "code",
   "execution_count": 26,
   "id": "21994072",
   "metadata": {
    "execution": {
     "iopub.execute_input": "2025-08-05T15:32:36.982960Z",
     "iopub.status.busy": "2025-08-05T15:32:36.982461Z",
     "iopub.status.idle": "2025-08-05T15:32:36.989092Z",
     "shell.execute_reply": "2025-08-05T15:32:36.988088Z"
    },
    "papermill": {
     "duration": 0.027995,
     "end_time": "2025-08-05T15:32:36.991645",
     "exception": false,
     "start_time": "2025-08-05T15:32:36.963650",
     "status": "completed"
    },
    "tags": []
   },
   "outputs": [],
   "source": [
    "if mode == \"keep-all\":\n",
    "    keep_mask = pd.Series(True, index=org_train.index)\n",
    "\n",
    "# org_train contains the original feature columns from features_org (in Simson)\n",
    "# features_org contains unprocessed features, for me X_train at beginning ???\n",
    "# For keep-all, creates a boolean Series (keep_mask) of all True, so no rows are removed.\n",
    "\n",
    "elif mode == \"drop-non-german\":\n",
    "    keep_mask = org_train[\"maxdeutsch1\"] == 1 # ??? what about missing values?\n",
    "\n",
    "else:\n",
    "    raise ValueError(f\"Unsupported mode for exclude_subgroups: {mode}\")"
   ]
  },
  {
   "cell_type": "code",
   "execution_count": 27,
   "id": "71651440",
   "metadata": {
    "execution": {
     "iopub.execute_input": "2025-08-05T15:32:37.033706Z",
     "iopub.status.busy": "2025-08-05T15:32:37.033319Z",
     "iopub.status.idle": "2025-08-05T15:32:37.041280Z",
     "shell.execute_reply": "2025-08-05T15:32:37.040195Z"
    },
    "papermill": {
     "duration": 0.030293,
     "end_time": "2025-08-05T15:32:37.043013",
     "exception": false,
     "start_time": "2025-08-05T15:32:37.012720",
     "status": "completed"
    },
    "tags": []
   },
   "outputs": [
    {
     "name": "stdout",
     "output_type": "stream",
     "text": [
      "Dropping 741 rows (14.82%) where mode='drop-non-german'\n"
     ]
    }
   ],
   "source": [
    "n_drop = (~keep_mask).sum() # Calculates how many rows are set to be dropped\n",
    "if n_drop > 0:\n",
    "    pct = n_drop / len(keep_mask) * 100\n",
    "    print(f\"Dropping {n_drop} rows ({pct:.2f}%) where mode='{mode}'\")"
   ]
  },
  {
   "cell_type": "code",
   "execution_count": 28,
   "id": "5fb8eee5",
   "metadata": {
    "execution": {
     "iopub.execute_input": "2025-08-05T15:32:37.084852Z",
     "iopub.status.busy": "2025-08-05T15:32:37.084159Z",
     "iopub.status.idle": "2025-08-05T15:32:37.091833Z",
     "shell.execute_reply": "2025-08-05T15:32:37.090809Z"
    },
    "papermill": {
     "duration": 0.03043,
     "end_time": "2025-08-05T15:32:37.093688",
     "exception": false,
     "start_time": "2025-08-05T15:32:37.063258",
     "status": "completed"
    },
    "tags": []
   },
   "outputs": [],
   "source": [
    "X_train = X_train[keep_mask]"
   ]
  },
  {
   "cell_type": "code",
   "execution_count": 29,
   "id": "b202bb3a",
   "metadata": {
    "execution": {
     "iopub.execute_input": "2025-08-05T15:32:37.136245Z",
     "iopub.status.busy": "2025-08-05T15:32:37.135514Z",
     "iopub.status.idle": "2025-08-05T15:32:37.141444Z",
     "shell.execute_reply": "2025-08-05T15:32:37.140361Z"
    },
    "papermill": {
     "duration": 0.028929,
     "end_time": "2025-08-05T15:32:37.143452",
     "exception": false,
     "start_time": "2025-08-05T15:32:37.114523",
     "status": "completed"
    },
    "tags": []
   },
   "outputs": [],
   "source": [
    "y_train = y_train[keep_mask]"
   ]
  },
  {
   "cell_type": "markdown",
   "id": "493e2ac3",
   "metadata": {
    "papermill": {
     "duration": 0.018486,
     "end_time": "2025-08-05T15:32:37.181241",
     "exception": false,
     "start_time": "2025-08-05T15:32:37.162755",
     "status": "completed"
    },
    "tags": []
   },
   "source": [
    "# Model Training"
   ]
  },
  {
   "cell_type": "code",
   "execution_count": 30,
   "id": "679e1268",
   "metadata": {
    "execution": {
     "iopub.execute_input": "2025-08-05T15:32:37.219596Z",
     "iopub.status.busy": "2025-08-05T15:32:37.218676Z",
     "iopub.status.idle": "2025-08-05T15:32:37.321407Z",
     "shell.execute_reply": "2025-08-05T15:32:37.320426Z"
    },
    "papermill": {
     "duration": 0.124404,
     "end_time": "2025-08-05T15:32:37.323368",
     "exception": false,
     "start_time": "2025-08-05T15:32:37.198964",
     "status": "completed"
    },
    "tags": []
   },
   "outputs": [],
   "source": [
    "from sklearn.linear_model import LogisticRegression\n",
    "from sklearn.ensemble import GradientBoostingClassifier, RandomForestClassifier\n",
    "\n",
    "if (universe[\"model\"] == \"logreg\"):\n",
    "    model = LogisticRegression() #penalty=\"none\", solver=\"newton-cg\", max_iter=1) # include random_state=19 ?\n",
    "elif (universe[\"model\"] == \"penalized_logreg\"):\n",
    "    model = LogisticRegression(penalty=\"l2\", C=0.1) #, solver=\"newton-cg\", max_iter=1)\n",
    "elif (universe[\"model\"] == \"rf\"):\n",
    "    model = RandomForestClassifier() # n_estimators=100, n_jobs=-1\n",
    "elif (universe[\"model\"] == \"gbm\"):\n",
    "    model = GradientBoostingClassifier()\n",
    "elif (universe[\"model\"] == \"elasticnet\"):\n",
    "    model = LogisticRegression(penalty = 'elasticnet', solver = 'saga', l1_ratio = 0.5) # max_iter=5000\n",
    "else:\n",
    "    raise \"Unsupported universe.model\""
   ]
  },
  {
   "cell_type": "code",
   "execution_count": 31,
   "id": "0cc8f744",
   "metadata": {
    "execution": {
     "iopub.execute_input": "2025-08-05T15:32:37.363215Z",
     "iopub.status.busy": "2025-08-05T15:32:37.362757Z",
     "iopub.status.idle": "2025-08-05T15:32:37.369338Z",
     "shell.execute_reply": "2025-08-05T15:32:37.368414Z"
    },
    "papermill": {
     "duration": 0.028244,
     "end_time": "2025-08-05T15:32:37.371360",
     "exception": false,
     "start_time": "2025-08-05T15:32:37.343116",
     "status": "completed"
    },
    "tags": []
   },
   "outputs": [],
   "source": [
    "import numpy as np\n",
    "from sklearn.pipeline import Pipeline\n",
    "from sklearn.preprocessing import StandardScaler\n",
    "\n",
    "model = Pipeline([\n",
    "    #(\"continuous_processor\", continuous_processor),\n",
    "    #(\"categorical_preprocessor\", categorical_preprocessor),\n",
    "    (\"scale\", StandardScaler() if universe[\"scale\"] == \"scale\" else None), \n",
    "    (\"model\", model),\n",
    "])"
   ]
  },
  {
   "cell_type": "code",
   "execution_count": 32,
   "id": "9442c04d",
   "metadata": {
    "execution": {
     "iopub.execute_input": "2025-08-05T15:32:37.417268Z",
     "iopub.status.busy": "2025-08-05T15:32:37.416490Z",
     "iopub.status.idle": "2025-08-05T15:32:41.924515Z",
     "shell.execute_reply": "2025-08-05T15:32:41.923441Z"
    },
    "papermill": {
     "duration": 4.542195,
     "end_time": "2025-08-05T15:32:41.936272",
     "exception": false,
     "start_time": "2025-08-05T15:32:37.394077",
     "status": "completed"
    },
    "tags": []
   },
   "outputs": [
    {
     "data": {
      "text/html": [
       "<style>#sk-container-id-1 {color: black;background-color: white;}#sk-container-id-1 pre{padding: 0;}#sk-container-id-1 div.sk-toggleable {background-color: white;}#sk-container-id-1 label.sk-toggleable__label {cursor: pointer;display: block;width: 100%;margin-bottom: 0;padding: 0.3em;box-sizing: border-box;text-align: center;}#sk-container-id-1 label.sk-toggleable__label-arrow:before {content: \"▸\";float: left;margin-right: 0.25em;color: #696969;}#sk-container-id-1 label.sk-toggleable__label-arrow:hover:before {color: black;}#sk-container-id-1 div.sk-estimator:hover label.sk-toggleable__label-arrow:before {color: black;}#sk-container-id-1 div.sk-toggleable__content {max-height: 0;max-width: 0;overflow: hidden;text-align: left;background-color: #f0f8ff;}#sk-container-id-1 div.sk-toggleable__content pre {margin: 0.2em;color: black;border-radius: 0.25em;background-color: #f0f8ff;}#sk-container-id-1 input.sk-toggleable__control:checked~div.sk-toggleable__content {max-height: 200px;max-width: 100%;overflow: auto;}#sk-container-id-1 input.sk-toggleable__control:checked~label.sk-toggleable__label-arrow:before {content: \"▾\";}#sk-container-id-1 div.sk-estimator input.sk-toggleable__control:checked~label.sk-toggleable__label {background-color: #d4ebff;}#sk-container-id-1 div.sk-label input.sk-toggleable__control:checked~label.sk-toggleable__label {background-color: #d4ebff;}#sk-container-id-1 input.sk-hidden--visually {border: 0;clip: rect(1px 1px 1px 1px);clip: rect(1px, 1px, 1px, 1px);height: 1px;margin: -1px;overflow: hidden;padding: 0;position: absolute;width: 1px;}#sk-container-id-1 div.sk-estimator {font-family: monospace;background-color: #f0f8ff;border: 1px dotted black;border-radius: 0.25em;box-sizing: border-box;margin-bottom: 0.5em;}#sk-container-id-1 div.sk-estimator:hover {background-color: #d4ebff;}#sk-container-id-1 div.sk-parallel-item::after {content: \"\";width: 100%;border-bottom: 1px solid gray;flex-grow: 1;}#sk-container-id-1 div.sk-label:hover label.sk-toggleable__label {background-color: #d4ebff;}#sk-container-id-1 div.sk-serial::before {content: \"\";position: absolute;border-left: 1px solid gray;box-sizing: border-box;top: 0;bottom: 0;left: 50%;z-index: 0;}#sk-container-id-1 div.sk-serial {display: flex;flex-direction: column;align-items: center;background-color: white;padding-right: 0.2em;padding-left: 0.2em;position: relative;}#sk-container-id-1 div.sk-item {position: relative;z-index: 1;}#sk-container-id-1 div.sk-parallel {display: flex;align-items: stretch;justify-content: center;background-color: white;position: relative;}#sk-container-id-1 div.sk-item::before, #sk-container-id-1 div.sk-parallel-item::before {content: \"\";position: absolute;border-left: 1px solid gray;box-sizing: border-box;top: 0;bottom: 0;left: 50%;z-index: -1;}#sk-container-id-1 div.sk-parallel-item {display: flex;flex-direction: column;z-index: 1;position: relative;background-color: white;}#sk-container-id-1 div.sk-parallel-item:first-child::after {align-self: flex-end;width: 50%;}#sk-container-id-1 div.sk-parallel-item:last-child::after {align-self: flex-start;width: 50%;}#sk-container-id-1 div.sk-parallel-item:only-child::after {width: 0;}#sk-container-id-1 div.sk-dashed-wrapped {border: 1px dashed gray;margin: 0 0.4em 0.5em 0.4em;box-sizing: border-box;padding-bottom: 0.4em;background-color: white;}#sk-container-id-1 div.sk-label label {font-family: monospace;font-weight: bold;display: inline-block;line-height: 1.2em;}#sk-container-id-1 div.sk-label-container {text-align: center;}#sk-container-id-1 div.sk-container {/* jupyter's `normalize.less` sets `[hidden] { display: none; }` but bootstrap.min.css set `[hidden] { display: none !important; }` so we also need the `!important` here to be able to override the default hidden behavior on the sphinx rendered scikit-learn.org. See: https://github.com/scikit-learn/scikit-learn/issues/21755 */display: inline-block !important;position: relative;}#sk-container-id-1 div.sk-text-repr-fallback {display: none;}</style><div id=\"sk-container-id-1\" class=\"sk-top-container\"><div class=\"sk-text-repr-fallback\"><pre>Pipeline(steps=[(&#x27;scale&#x27;, None), (&#x27;model&#x27;, GradientBoostingClassifier())])</pre><b>In a Jupyter environment, please rerun this cell to show the HTML representation or trust the notebook. <br />On GitHub, the HTML representation is unable to render, please try loading this page with nbviewer.org.</b></div><div class=\"sk-container\" hidden><div class=\"sk-item sk-dashed-wrapped\"><div class=\"sk-label-container\"><div class=\"sk-label sk-toggleable\"><input class=\"sk-toggleable__control sk-hidden--visually\" id=\"sk-estimator-id-1\" type=\"checkbox\" ><label for=\"sk-estimator-id-1\" class=\"sk-toggleable__label sk-toggleable__label-arrow\">Pipeline</label><div class=\"sk-toggleable__content\"><pre>Pipeline(steps=[(&#x27;scale&#x27;, None), (&#x27;model&#x27;, GradientBoostingClassifier())])</pre></div></div></div><div class=\"sk-serial\"><div class=\"sk-item\"><div class=\"sk-estimator sk-toggleable\"><input class=\"sk-toggleable__control sk-hidden--visually\" id=\"sk-estimator-id-2\" type=\"checkbox\" ><label for=\"sk-estimator-id-2\" class=\"sk-toggleable__label sk-toggleable__label-arrow\">None</label><div class=\"sk-toggleable__content\"><pre>None</pre></div></div></div><div class=\"sk-item\"><div class=\"sk-estimator sk-toggleable\"><input class=\"sk-toggleable__control sk-hidden--visually\" id=\"sk-estimator-id-3\" type=\"checkbox\" ><label for=\"sk-estimator-id-3\" class=\"sk-toggleable__label sk-toggleable__label-arrow\">GradientBoostingClassifier</label><div class=\"sk-toggleable__content\"><pre>GradientBoostingClassifier()</pre></div></div></div></div></div></div></div>"
      ],
      "text/plain": [
       "Pipeline(steps=[('scale', None), ('model', GradientBoostingClassifier())])"
      ]
     },
     "execution_count": 32,
     "metadata": {},
     "output_type": "execute_result"
    }
   ],
   "source": [
    "model.fit(X_train, y_train.values.ravel())"
   ]
  },
  {
   "cell_type": "code",
   "execution_count": 33,
   "id": "af59f8c0",
   "metadata": {
    "execution": {
     "iopub.execute_input": "2025-08-05T15:32:41.986780Z",
     "iopub.status.busy": "2025-08-05T15:32:41.986252Z",
     "iopub.status.idle": "2025-08-05T15:32:41.992315Z",
     "shell.execute_reply": "2025-08-05T15:32:41.991291Z"
    },
    "papermill": {
     "duration": 0.028466,
     "end_time": "2025-08-05T15:32:41.994265",
     "exception": false,
     "start_time": "2025-08-05T15:32:41.965799",
     "status": "completed"
    },
    "tags": []
   },
   "outputs": [],
   "source": [
    "from fairness_multiverse.universe import predict_w_threshold"
   ]
  },
  {
   "cell_type": "code",
   "execution_count": 34,
   "id": "a7cf2e16",
   "metadata": {
    "execution": {
     "iopub.execute_input": "2025-08-05T15:32:42.037152Z",
     "iopub.status.busy": "2025-08-05T15:32:42.036435Z",
     "iopub.status.idle": "2025-08-05T15:32:42.645299Z",
     "shell.execute_reply": "2025-08-05T15:32:42.644363Z"
    },
    "papermill": {
     "duration": 0.631303,
     "end_time": "2025-08-05T15:32:42.646962",
     "exception": false,
     "start_time": "2025-08-05T15:32:42.015659",
     "status": "completed"
    },
    "tags": []
   },
   "outputs": [
    {
     "data": {
      "text/plain": [
       "0.8653327388251031"
      ]
     },
     "execution_count": 34,
     "metadata": {},
     "output_type": "execute_result"
    }
   ],
   "source": [
    "probs_test = model.predict_proba(X_test)\n",
    "\n",
    "'''\n",
    "Below code returns a boolean array (or binary 0/1 array depending on how it’s used) where each element \n",
    "is True if the probability of class 1 is greater than or equal to the threshold, and False otherwise.\n",
    "'''\n",
    "y_pred_default = predict_w_threshold(probs_test, 0.5)\n",
    "\n",
    "from sklearn.metrics import accuracy_score\n",
    "\n",
    "# Naive prediction\n",
    "accuracy_score(y_true = y_true, y_pred = y_pred_default)"
   ]
  },
  {
   "cell_type": "code",
   "execution_count": 35,
   "id": "081964c3",
   "metadata": {
    "execution": {
     "iopub.execute_input": "2025-08-05T15:32:42.689166Z",
     "iopub.status.busy": "2025-08-05T15:32:42.688034Z",
     "iopub.status.idle": "2025-08-05T15:32:43.295577Z",
     "shell.execute_reply": "2025-08-05T15:32:43.294736Z"
    },
    "papermill": {
     "duration": 0.630279,
     "end_time": "2025-08-05T15:32:43.297073",
     "exception": false,
     "start_time": "2025-08-05T15:32:42.666794",
     "status": "completed"
    },
    "tags": []
   },
   "outputs": [
    {
     "data": {
      "text/plain": [
       "array([0, 0, 0, ..., 0, 0, 0])"
      ]
     },
     "execution_count": 35,
     "metadata": {},
     "output_type": "execute_result"
    }
   ],
   "source": [
    "model.predict(X_test)"
   ]
  },
  {
   "cell_type": "markdown",
   "id": "56c9705b",
   "metadata": {
    "papermill": {
     "duration": 0.017801,
     "end_time": "2025-08-05T15:32:43.333834",
     "exception": false,
     "start_time": "2025-08-05T15:32:43.316033",
     "status": "completed"
    },
    "tags": []
   },
   "source": [
    "# Conformal Prediction"
   ]
  },
  {
   "cell_type": "code",
   "execution_count": 36,
   "id": "160ec6ff",
   "metadata": {
    "execution": {
     "iopub.execute_input": "2025-08-05T15:32:43.371792Z",
     "iopub.status.busy": "2025-08-05T15:32:43.371185Z",
     "iopub.status.idle": "2025-08-05T15:32:43.376483Z",
     "shell.execute_reply": "2025-08-05T15:32:43.375538Z"
    },
    "papermill": {
     "duration": 0.026676,
     "end_time": "2025-08-05T15:32:43.378533",
     "exception": false,
     "start_time": "2025-08-05T15:32:43.351857",
     "status": "completed"
    },
    "tags": []
   },
   "outputs": [],
   "source": [
    "# Miscoverage level for conformal prediction (10% allowed error rate => 90% target coverage)\n",
    "alpha = 0.1"
   ]
  },
  {
   "cell_type": "code",
   "execution_count": 37,
   "id": "eadf4555-3dd3-440e-8e35-f82a4ad9f855",
   "metadata": {
    "execution": {
     "iopub.execute_input": "2025-08-05T15:32:43.420838Z",
     "iopub.status.busy": "2025-08-05T15:32:43.420263Z",
     "iopub.status.idle": "2025-08-05T15:32:44.003359Z",
     "shell.execute_reply": "2025-08-05T15:32:44.002387Z"
    },
    "papermill": {
     "duration": 0.605866,
     "end_time": "2025-08-05T15:32:44.005418",
     "exception": false,
     "start_time": "2025-08-05T15:32:43.399552",
     "status": "completed"
    },
    "tags": []
   },
   "outputs": [],
   "source": [
    "probs_calib = model.predict_proba(X_calib)"
   ]
  },
  {
   "cell_type": "code",
   "execution_count": 38,
   "id": "2ed93547-6d5d-4983-9b36-1ecb300da49a",
   "metadata": {
    "execution": {
     "iopub.execute_input": "2025-08-05T15:32:44.047813Z",
     "iopub.status.busy": "2025-08-05T15:32:44.047161Z",
     "iopub.status.idle": "2025-08-05T15:32:44.053179Z",
     "shell.execute_reply": "2025-08-05T15:32:44.052225Z"
    },
    "papermill": {
     "duration": 0.028957,
     "end_time": "2025-08-05T15:32:44.055414",
     "exception": false,
     "start_time": "2025-08-05T15:32:44.026457",
     "status": "completed"
    },
    "tags": []
   },
   "outputs": [],
   "source": [
    "y_calib = y_calib.values.ravel().astype(int)"
   ]
  },
  {
   "cell_type": "code",
   "execution_count": 39,
   "id": "65d1320d-f588-4b38-9072-62af1ae97f7d",
   "metadata": {
    "execution": {
     "iopub.execute_input": "2025-08-05T15:32:44.099251Z",
     "iopub.status.busy": "2025-08-05T15:32:44.098589Z",
     "iopub.status.idle": "2025-08-05T15:32:44.106340Z",
     "shell.execute_reply": "2025-08-05T15:32:44.105309Z"
    },
    "papermill": {
     "duration": 0.031408,
     "end_time": "2025-08-05T15:32:44.108074",
     "exception": false,
     "start_time": "2025-08-05T15:32:44.076666",
     "status": "completed"
    },
    "tags": []
   },
   "outputs": [],
   "source": [
    "from fairness_multiverse.conformal import compute_nc_scores\n",
    "\n",
    "# Compute nonconformity scores on calibration set (1 - probability of true class)\n",
    "nc_scores = compute_nc_scores(probs_calib, y_calib)"
   ]
  },
  {
   "cell_type": "code",
   "execution_count": 40,
   "id": "df3b8ca3-53b7-43d5-9667-7c85da7aeda2",
   "metadata": {
    "execution": {
     "iopub.execute_input": "2025-08-05T15:32:44.150560Z",
     "iopub.status.busy": "2025-08-05T15:32:44.149904Z",
     "iopub.status.idle": "2025-08-05T15:32:44.157087Z",
     "shell.execute_reply": "2025-08-05T15:32:44.156157Z"
    },
    "papermill": {
     "duration": 0.030387,
     "end_time": "2025-08-05T15:32:44.158791",
     "exception": false,
     "start_time": "2025-08-05T15:32:44.128404",
     "status": "completed"
    },
    "tags": []
   },
   "outputs": [],
   "source": [
    "from fairness_multiverse.conformal import find_threshold\n",
    "\n",
    "# Find conformal threshold q_hat for the given alpha (split conformal method)\n",
    "q_hat = find_threshold(nc_scores, alpha)"
   ]
  },
  {
   "cell_type": "code",
   "execution_count": 41,
   "id": "4d29e6c1-0ef6-4aa4-b8fe-4fe79b0d033a",
   "metadata": {
    "execution": {
     "iopub.execute_input": "2025-08-05T15:32:44.200714Z",
     "iopub.status.busy": "2025-08-05T15:32:44.200054Z",
     "iopub.status.idle": "2025-08-05T15:32:44.207795Z",
     "shell.execute_reply": "2025-08-05T15:32:44.206690Z"
    },
    "papermill": {
     "duration": 0.030105,
     "end_time": "2025-08-05T15:32:44.209590",
     "exception": false,
     "start_time": "2025-08-05T15:32:44.179485",
     "status": "completed"
    },
    "tags": []
   },
   "outputs": [
    {
     "data": {
      "text/plain": [
       "0.7067925037945462"
      ]
     },
     "execution_count": 41,
     "metadata": {},
     "output_type": "execute_result"
    }
   ],
   "source": [
    "q_hat"
   ]
  },
  {
   "cell_type": "code",
   "execution_count": 42,
   "id": "92460794-cdac-4be2-ba28-f28c0515a6fb",
   "metadata": {
    "execution": {
     "iopub.execute_input": "2025-08-05T15:32:44.252828Z",
     "iopub.status.busy": "2025-08-05T15:32:44.252173Z",
     "iopub.status.idle": "2025-08-05T15:32:45.599780Z",
     "shell.execute_reply": "2025-08-05T15:32:45.598501Z"
    },
    "papermill": {
     "duration": 1.370303,
     "end_time": "2025-08-05T15:32:45.601186",
     "exception": false,
     "start_time": "2025-08-05T15:32:44.230883",
     "status": "completed"
    },
    "tags": []
   },
   "outputs": [],
   "source": [
    "from fairness_multiverse.conformal import predict_conformal_sets\n",
    "\n",
    "# Generate prediction sets for each test example\n",
    "pred_sets = predict_conformal_sets(model, X_test, q_hat)"
   ]
  },
  {
   "cell_type": "code",
   "execution_count": 43,
   "id": "d90c9a65-e6db-4f5d-80cd-e68fb7e46829",
   "metadata": {
    "execution": {
     "iopub.execute_input": "2025-08-05T15:32:45.666421Z",
     "iopub.status.busy": "2025-08-05T15:32:45.665708Z",
     "iopub.status.idle": "2025-08-05T15:32:45.671650Z",
     "shell.execute_reply": "2025-08-05T15:32:45.670603Z"
    },
    "papermill": {
     "duration": 0.039577,
     "end_time": "2025-08-05T15:32:45.674099",
     "exception": false,
     "start_time": "2025-08-05T15:32:45.634522",
     "status": "completed"
    },
    "tags": []
   },
   "outputs": [],
   "source": [
    "y_true = y_true.squeeze()"
   ]
  },
  {
   "cell_type": "code",
   "execution_count": 44,
   "id": "3a58a54a-1e68-46b9-927a-df01f18aebc8",
   "metadata": {
    "execution": {
     "iopub.execute_input": "2025-08-05T15:32:45.736931Z",
     "iopub.status.busy": "2025-08-05T15:32:45.735885Z",
     "iopub.status.idle": "2025-08-05T15:32:46.695144Z",
     "shell.execute_reply": "2025-08-05T15:32:46.694092Z"
    },
    "papermill": {
     "duration": 0.992092,
     "end_time": "2025-08-05T15:32:46.696995",
     "exception": false,
     "start_time": "2025-08-05T15:32:45.704903",
     "status": "completed"
    },
    "tags": []
   },
   "outputs": [],
   "source": [
    "from fairness_multiverse.conformal import evaluate_sets\n",
    "\n",
    "# Evaluate coverage and average set size on test data\n",
    "metrics = evaluate_sets(pred_sets, y_true)"
   ]
  },
  {
   "cell_type": "markdown",
   "id": "2b569c12-9aaa-4c88-98c9-bbcd0cf3ebb8",
   "metadata": {
    "papermill": {
     "duration": 0.018442,
     "end_time": "2025-08-05T15:32:46.736216",
     "exception": false,
     "start_time": "2025-08-05T15:32:46.717774",
     "status": "completed"
    },
    "tags": []
   },
   "source": [
    "# CP Metrics"
   ]
  },
  {
   "cell_type": "code",
   "execution_count": 45,
   "id": "5ce0a5cb-201f-45a0-ade5-94c7f0bd6095",
   "metadata": {
    "execution": {
     "iopub.execute_input": "2025-08-05T15:32:46.775016Z",
     "iopub.status.busy": "2025-08-05T15:32:46.774288Z",
     "iopub.status.idle": "2025-08-05T15:32:46.782043Z",
     "shell.execute_reply": "2025-08-05T15:32:46.780812Z"
    },
    "papermill": {
     "duration": 0.028893,
     "end_time": "2025-08-05T15:32:46.783770",
     "exception": false,
     "start_time": "2025-08-05T15:32:46.754877",
     "status": "completed"
    },
    "tags": []
   },
   "outputs": [
    {
     "data": {
      "text/plain": [
       "{'coverage': 0.9098539739159514, 'avg_size': 1.1260394604837811}"
      ]
     },
     "execution_count": 45,
     "metadata": {},
     "output_type": "execute_result"
    }
   ],
   "source": [
    "metrics"
   ]
  },
  {
   "cell_type": "code",
   "execution_count": 46,
   "id": "9b9a838d-31c9-430b-ae14-12baee460d17",
   "metadata": {
    "execution": {
     "iopub.execute_input": "2025-08-05T15:32:46.826557Z",
     "iopub.status.busy": "2025-08-05T15:32:46.825939Z",
     "iopub.status.idle": "2025-08-05T15:32:46.832635Z",
     "shell.execute_reply": "2025-08-05T15:32:46.831685Z"
    },
    "papermill": {
     "duration": 0.029911,
     "end_time": "2025-08-05T15:32:46.834498",
     "exception": false,
     "start_time": "2025-08-05T15:32:46.804587",
     "status": "completed"
    },
    "tags": []
   },
   "outputs": [],
   "source": [
    "example_universe = universe.copy()\n",
    "universe_training_year = example_universe.get(\"training_year\")\n",
    "universe_training_size = example_universe.get(\"training_size\")\n",
    "universe_scale = example_universe.get(\"scale\")\n",
    "universe_model = example_universe.get(\"model\")\n",
    "universe_exclude_features = example_universe.get(\"exclude_features\")\n",
    "universe_exclude_subgroups = example_universe.get(\"exclude_subgroups\")"
   ]
  },
  {
   "cell_type": "code",
   "execution_count": 47,
   "id": "f4b6a8ac-9dc0-4245-8a91-5b3b5999c4f9",
   "metadata": {
    "execution": {
     "iopub.execute_input": "2025-08-05T15:32:46.877453Z",
     "iopub.status.busy": "2025-08-05T15:32:46.876765Z",
     "iopub.status.idle": "2025-08-05T15:32:46.883069Z",
     "shell.execute_reply": "2025-08-05T15:32:46.882116Z"
    },
    "papermill": {
     "duration": 0.029255,
     "end_time": "2025-08-05T15:32:46.884855",
     "exception": false,
     "start_time": "2025-08-05T15:32:46.855600",
     "status": "completed"
    },
    "tags": []
   },
   "outputs": [],
   "source": [
    "cp_metrics_dict = {\n",
    "    \"universe_id\": [universe_id],\n",
    "    \"universe_training_year\": [universe_training_year],\n",
    "    \"universe_training_size\": [universe_training_size],\n",
    "    \"universe_scale\": [universe_scale],\n",
    "    \"universe_model\": [universe_model],\n",
    "    \"universe_exclude_features\": [universe_exclude_features],\n",
    "    \"universe_exclude_subgroups\": [universe_exclude_subgroups],\n",
    "    \"q_hat\": [q_hat],\n",
    "    \"coverage\": [metrics[\"coverage\"]],\n",
    "    \"avg_size\": [metrics[\"avg_size\"]],\n",
    "}"
   ]
  },
  {
   "cell_type": "code",
   "execution_count": 48,
   "id": "908acbb1-0371-4915-85ca-3fa520d2efe2",
   "metadata": {
    "execution": {
     "iopub.execute_input": "2025-08-05T15:32:46.924883Z",
     "iopub.status.busy": "2025-08-05T15:32:46.924325Z",
     "iopub.status.idle": "2025-08-05T15:32:46.931779Z",
     "shell.execute_reply": "2025-08-05T15:32:46.930799Z"
    },
    "papermill": {
     "duration": 0.028756,
     "end_time": "2025-08-05T15:32:46.933455",
     "exception": false,
     "start_time": "2025-08-05T15:32:46.904699",
     "status": "completed"
    },
    "tags": []
   },
   "outputs": [
    {
     "data": {
      "text/plain": [
       "{'universe_id': ['7905ca725424c5112db31bc9057f0298'],\n",
       " 'universe_training_year': ['2014'],\n",
       " 'universe_training_size': ['5k'],\n",
       " 'universe_scale': ['do-not-scale'],\n",
       " 'universe_model': ['gbm'],\n",
       " 'universe_exclude_features': ['age'],\n",
       " 'universe_exclude_subgroups': ['drop-non-german'],\n",
       " 'q_hat': [0.7067925037945462],\n",
       " 'coverage': [0.9098539739159514],\n",
       " 'avg_size': [1.1260394604837811]}"
      ]
     },
     "execution_count": 48,
     "metadata": {},
     "output_type": "execute_result"
    }
   ],
   "source": [
    "cp_metrics_dict"
   ]
  },
  {
   "cell_type": "code",
   "execution_count": 49,
   "id": "33007efc-14e9-4ec6-97ac-56a455c82265",
   "metadata": {
    "execution": {
     "iopub.execute_input": "2025-08-05T15:32:46.975805Z",
     "iopub.status.busy": "2025-08-05T15:32:46.975059Z",
     "iopub.status.idle": "2025-08-05T15:32:46.981247Z",
     "shell.execute_reply": "2025-08-05T15:32:46.980289Z"
    },
    "papermill": {
     "duration": 0.030034,
     "end_time": "2025-08-05T15:32:46.983065",
     "exception": false,
     "start_time": "2025-08-05T15:32:46.953031",
     "status": "completed"
    },
    "tags": []
   },
   "outputs": [],
   "source": [
    "cp_metrics_df = pd.DataFrame(cp_metrics_dict)"
   ]
  },
  {
   "cell_type": "code",
   "execution_count": 50,
   "id": "db12611b-57b2-4910-b9d0-355adfd6e7bf",
   "metadata": {
    "execution": {
     "iopub.execute_input": "2025-08-05T15:32:47.026737Z",
     "iopub.status.busy": "2025-08-05T15:32:47.026308Z",
     "iopub.status.idle": "2025-08-05T15:32:47.044134Z",
     "shell.execute_reply": "2025-08-05T15:32:47.043179Z"
    },
    "papermill": {
     "duration": 0.041799,
     "end_time": "2025-08-05T15:32:47.045873",
     "exception": false,
     "start_time": "2025-08-05T15:32:47.004074",
     "status": "completed"
    },
    "tags": []
   },
   "outputs": [
    {
     "data": {
      "text/html": [
       "<div>\n",
       "<style scoped>\n",
       "    .dataframe tbody tr th:only-of-type {\n",
       "        vertical-align: middle;\n",
       "    }\n",
       "\n",
       "    .dataframe tbody tr th {\n",
       "        vertical-align: top;\n",
       "    }\n",
       "\n",
       "    .dataframe thead th {\n",
       "        text-align: right;\n",
       "    }\n",
       "</style>\n",
       "<table border=\"1\" class=\"dataframe\">\n",
       "  <thead>\n",
       "    <tr style=\"text-align: right;\">\n",
       "      <th></th>\n",
       "      <th>universe_id</th>\n",
       "      <th>universe_training_year</th>\n",
       "      <th>universe_training_size</th>\n",
       "      <th>universe_scale</th>\n",
       "      <th>universe_model</th>\n",
       "      <th>universe_exclude_features</th>\n",
       "      <th>universe_exclude_subgroups</th>\n",
       "      <th>q_hat</th>\n",
       "      <th>coverage</th>\n",
       "      <th>avg_size</th>\n",
       "    </tr>\n",
       "  </thead>\n",
       "  <tbody>\n",
       "    <tr>\n",
       "      <th>0</th>\n",
       "      <td>7905ca725424c5112db31bc9057f0298</td>\n",
       "      <td>2014</td>\n",
       "      <td>5k</td>\n",
       "      <td>do-not-scale</td>\n",
       "      <td>gbm</td>\n",
       "      <td>age</td>\n",
       "      <td>drop-non-german</td>\n",
       "      <td>0.706793</td>\n",
       "      <td>0.909854</td>\n",
       "      <td>1.126039</td>\n",
       "    </tr>\n",
       "  </tbody>\n",
       "</table>\n",
       "</div>"
      ],
      "text/plain": [
       "                        universe_id universe_training_year  \\\n",
       "0  7905ca725424c5112db31bc9057f0298                   2014   \n",
       "\n",
       "  universe_training_size universe_scale universe_model  \\\n",
       "0                     5k   do-not-scale            gbm   \n",
       "\n",
       "  universe_exclude_features universe_exclude_subgroups     q_hat  coverage  \\\n",
       "0                       age            drop-non-german  0.706793  0.909854   \n",
       "\n",
       "   avg_size  \n",
       "0  1.126039  "
      ]
     },
     "execution_count": 50,
     "metadata": {},
     "output_type": "execute_result"
    }
   ],
   "source": [
    "cp_metrics_df"
   ]
  },
  {
   "cell_type": "code",
   "execution_count": 51,
   "id": "b7fbde55-a0a1-47e4-9af6-fe4a17fa8c61",
   "metadata": {
    "execution": {
     "iopub.execute_input": "2025-08-05T15:32:47.088216Z",
     "iopub.status.busy": "2025-08-05T15:32:47.087547Z",
     "iopub.status.idle": "2025-08-05T15:32:47.092153Z",
     "shell.execute_reply": "2025-08-05T15:32:47.091156Z"
    },
    "papermill": {
     "duration": 0.027331,
     "end_time": "2025-08-05T15:32:47.093902",
     "exception": false,
     "start_time": "2025-08-05T15:32:47.066571",
     "status": "completed"
    },
    "tags": []
   },
   "outputs": [],
   "source": [
    "# Conditional Coverage & looking at subgroups"
   ]
  },
  {
   "cell_type": "code",
   "execution_count": 52,
   "id": "027ae886-68dd-4141-96c7-805a5450e1ef",
   "metadata": {
    "execution": {
     "iopub.execute_input": "2025-08-05T15:32:47.139619Z",
     "iopub.status.busy": "2025-08-05T15:32:47.138985Z",
     "iopub.status.idle": "2025-08-05T15:32:47.401593Z",
     "shell.execute_reply": "2025-08-05T15:32:47.400654Z"
    },
    "papermill": {
     "duration": 0.286993,
     "end_time": "2025-08-05T15:32:47.403491",
     "exception": false,
     "start_time": "2025-08-05T15:32:47.116498",
     "status": "completed"
    },
    "tags": []
   },
   "outputs": [],
   "source": [
    "from fairness_multiverse.conformal import build_cp_groups\n",
    "\n",
    "cp_groups_df = build_cp_groups(pred_sets, y_true, X_test.index, org_test)\n",
    "#needs universe_id and setting"
   ]
  },
  {
   "cell_type": "code",
   "execution_count": 53,
   "id": "6cbdab96-b2b2-45af-ad54-d0516db2e28d",
   "metadata": {
    "execution": {
     "iopub.execute_input": "2025-08-05T15:32:47.449108Z",
     "iopub.status.busy": "2025-08-05T15:32:47.448714Z",
     "iopub.status.idle": "2025-08-05T15:32:48.983485Z",
     "shell.execute_reply": "2025-08-05T15:32:48.982525Z"
    },
    "papermill": {
     "duration": 1.559396,
     "end_time": "2025-08-05T15:32:48.985610",
     "exception": false,
     "start_time": "2025-08-05T15:32:47.426214",
     "status": "completed"
    },
    "tags": []
   },
   "outputs": [],
   "source": [
    "# Define covered = 1 if true_label is in the predicted set\n",
    "cp_groups_df['covered'] = cp_groups_df.apply(\n",
    "    lambda r: int(r['true_label'] in r['pred_set']),\n",
    "    axis=1\n",
    ")"
   ]
  },
  {
   "cell_type": "code",
   "execution_count": 54,
   "id": "338ff529-1a6b-4b87-a931-8e4788d52aad",
   "metadata": {
    "execution": {
     "iopub.execute_input": "2025-08-05T15:32:49.036520Z",
     "iopub.status.busy": "2025-08-05T15:32:49.035918Z",
     "iopub.status.idle": "2025-08-05T15:32:49.040916Z",
     "shell.execute_reply": "2025-08-05T15:32:49.039936Z"
    },
    "papermill": {
     "duration": 0.031636,
     "end_time": "2025-08-05T15:32:49.042851",
     "exception": false,
     "start_time": "2025-08-05T15:32:49.011215",
     "status": "completed"
    },
    "tags": []
   },
   "outputs": [],
   "source": [
    "#cp_groups_df"
   ]
  },
  {
   "cell_type": "code",
   "execution_count": 55,
   "id": "90032e27-66df-4540-9169-4e89cfbaa758",
   "metadata": {
    "execution": {
     "iopub.execute_input": "2025-08-05T15:32:49.094483Z",
     "iopub.status.busy": "2025-08-05T15:32:49.093798Z",
     "iopub.status.idle": "2025-08-05T15:32:49.106039Z",
     "shell.execute_reply": "2025-08-05T15:32:49.105050Z"
    },
    "papermill": {
     "duration": 0.039865,
     "end_time": "2025-08-05T15:32:49.107817",
     "exception": false,
     "start_time": "2025-08-05T15:32:49.067952",
     "status": "completed"
    },
    "tags": []
   },
   "outputs": [],
   "source": [
    "subgroups = ['frau1','nongerman','nongerman_male','nongerman_female']\n",
    "\n",
    "# Conditional coverage for subgroup==1\n",
    "cond_coverage = {\n",
    "    g: cp_groups_df.loc[cp_groups_df[g]==1, 'covered'].mean()\n",
    "    for g in subgroups\n",
    "}"
   ]
  },
  {
   "cell_type": "code",
   "execution_count": 56,
   "id": "1e348fb1-b9c3-45bc-ba23-f016827a7e0d",
   "metadata": {
    "execution": {
     "iopub.execute_input": "2025-08-05T15:32:49.163760Z",
     "iopub.status.busy": "2025-08-05T15:32:49.162953Z",
     "iopub.status.idle": "2025-08-05T15:32:49.171451Z",
     "shell.execute_reply": "2025-08-05T15:32:49.170520Z"
    },
    "papermill": {
     "duration": 0.040069,
     "end_time": "2025-08-05T15:32:49.173164",
     "exception": false,
     "start_time": "2025-08-05T15:32:49.133095",
     "status": "completed"
    },
    "tags": []
   },
   "outputs": [
    {
     "data": {
      "text/plain": [
       "{'frau1': 0.9062137754414341,\n",
       " 'nongerman': 0.9051816089372929,\n",
       " 'nongerman_male': 0.9235341799513644,\n",
       " 'nongerman_female': 0.8748137108792846}"
      ]
     },
     "execution_count": 56,
     "metadata": {},
     "output_type": "execute_result"
    }
   ],
   "source": [
    "cond_coverage"
   ]
  },
  {
   "cell_type": "code",
   "execution_count": 57,
   "id": "f5093324-c3dd-4d63-bc4c-8d945e5c8bbb",
   "metadata": {
    "execution": {
     "iopub.execute_input": "2025-08-05T15:32:49.228215Z",
     "iopub.status.busy": "2025-08-05T15:32:49.227567Z",
     "iopub.status.idle": "2025-08-05T15:32:49.235379Z",
     "shell.execute_reply": "2025-08-05T15:32:49.234446Z"
    },
    "papermill": {
     "duration": 0.036991,
     "end_time": "2025-08-05T15:32:49.237125",
     "exception": false,
     "start_time": "2025-08-05T15:32:49.200134",
     "status": "completed"
    },
    "tags": []
   },
   "outputs": [],
   "source": [
    "for subgroup, cov in cond_coverage.items():\n",
    "    cp_metrics_df[f\"cov_{subgroup}\"] = cov"
   ]
  },
  {
   "cell_type": "code",
   "execution_count": 58,
   "id": "6e872e10-dbe5-49e8-b554-5030c98ff75d",
   "metadata": {
    "execution": {
     "iopub.execute_input": "2025-08-05T15:32:49.281657Z",
     "iopub.status.busy": "2025-08-05T15:32:49.280920Z",
     "iopub.status.idle": "2025-08-05T15:32:49.301315Z",
     "shell.execute_reply": "2025-08-05T15:32:49.300340Z"
    },
    "papermill": {
     "duration": 0.044539,
     "end_time": "2025-08-05T15:32:49.302862",
     "exception": false,
     "start_time": "2025-08-05T15:32:49.258323",
     "status": "completed"
    },
    "tags": []
   },
   "outputs": [
    {
     "data": {
      "text/html": [
       "<div>\n",
       "<style scoped>\n",
       "    .dataframe tbody tr th:only-of-type {\n",
       "        vertical-align: middle;\n",
       "    }\n",
       "\n",
       "    .dataframe tbody tr th {\n",
       "        vertical-align: top;\n",
       "    }\n",
       "\n",
       "    .dataframe thead th {\n",
       "        text-align: right;\n",
       "    }\n",
       "</style>\n",
       "<table border=\"1\" class=\"dataframe\">\n",
       "  <thead>\n",
       "    <tr style=\"text-align: right;\">\n",
       "      <th></th>\n",
       "      <th>universe_id</th>\n",
       "      <th>universe_training_year</th>\n",
       "      <th>universe_training_size</th>\n",
       "      <th>universe_scale</th>\n",
       "      <th>universe_model</th>\n",
       "      <th>universe_exclude_features</th>\n",
       "      <th>universe_exclude_subgroups</th>\n",
       "      <th>q_hat</th>\n",
       "      <th>coverage</th>\n",
       "      <th>avg_size</th>\n",
       "      <th>cov_frau1</th>\n",
       "      <th>cov_nongerman</th>\n",
       "      <th>cov_nongerman_male</th>\n",
       "      <th>cov_nongerman_female</th>\n",
       "    </tr>\n",
       "  </thead>\n",
       "  <tbody>\n",
       "    <tr>\n",
       "      <th>0</th>\n",
       "      <td>7905ca725424c5112db31bc9057f0298</td>\n",
       "      <td>2014</td>\n",
       "      <td>5k</td>\n",
       "      <td>do-not-scale</td>\n",
       "      <td>gbm</td>\n",
       "      <td>age</td>\n",
       "      <td>drop-non-german</td>\n",
       "      <td>0.706793</td>\n",
       "      <td>0.909854</td>\n",
       "      <td>1.126039</td>\n",
       "      <td>0.906214</td>\n",
       "      <td>0.905182</td>\n",
       "      <td>0.923534</td>\n",
       "      <td>0.874814</td>\n",
       "    </tr>\n",
       "  </tbody>\n",
       "</table>\n",
       "</div>"
      ],
      "text/plain": [
       "                        universe_id universe_training_year  \\\n",
       "0  7905ca725424c5112db31bc9057f0298                   2014   \n",
       "\n",
       "  universe_training_size universe_scale universe_model  \\\n",
       "0                     5k   do-not-scale            gbm   \n",
       "\n",
       "  universe_exclude_features universe_exclude_subgroups     q_hat  coverage  \\\n",
       "0                       age            drop-non-german  0.706793  0.909854   \n",
       "\n",
       "   avg_size  cov_frau1  cov_nongerman  cov_nongerman_male  \\\n",
       "0  1.126039   0.906214       0.905182            0.923534   \n",
       "\n",
       "   cov_nongerman_female  \n",
       "0              0.874814  "
      ]
     },
     "execution_count": 58,
     "metadata": {},
     "output_type": "execute_result"
    }
   ],
   "source": [
    "cp_metrics_df"
   ]
  },
  {
   "cell_type": "markdown",
   "id": "33774451",
   "metadata": {
    "papermill": {
     "duration": 0.021294,
     "end_time": "2025-08-05T15:32:49.345281",
     "exception": false,
     "start_time": "2025-08-05T15:32:49.323987",
     "status": "completed"
    },
    "tags": []
   },
   "source": [
    "# (Fairness) Metrics"
   ]
  },
  {
   "cell_type": "code",
   "execution_count": 59,
   "id": "debc5d62",
   "metadata": {
    "execution": {
     "iopub.execute_input": "2025-08-05T15:32:49.389195Z",
     "iopub.status.busy": "2025-08-05T15:32:49.388369Z",
     "iopub.status.idle": "2025-08-05T15:32:49.408698Z",
     "shell.execute_reply": "2025-08-05T15:32:49.407735Z"
    },
    "papermill": {
     "duration": 0.044495,
     "end_time": "2025-08-05T15:32:49.410561",
     "exception": false,
     "start_time": "2025-08-05T15:32:49.366066",
     "status": "completed"
    },
    "tags": []
   },
   "outputs": [],
   "source": [
    "# do I need to include maxdeutsch1.missing?\n",
    "\n",
    "import numpy as np\n",
    "\n",
    "colname_to_bin = \"maxdeutsch1\"\n",
    "majority_value = org_train[colname_to_bin].mode()[0]\n",
    "\n",
    "org_test[\"majmin\"] = np.where(org_test[colname_to_bin] == majority_value, \"majority\", \"minority\")"
   ]
  },
  {
   "cell_type": "code",
   "execution_count": 60,
   "id": "06a50de5",
   "metadata": {
    "execution": {
     "iopub.execute_input": "2025-08-05T15:32:49.455110Z",
     "iopub.status.busy": "2025-08-05T15:32:49.454604Z",
     "iopub.status.idle": "2025-08-05T15:32:51.970200Z",
     "shell.execute_reply": "2025-08-05T15:32:51.969279Z"
    },
    "papermill": {
     "duration": 2.540681,
     "end_time": "2025-08-05T15:32:51.972635",
     "exception": false,
     "start_time": "2025-08-05T15:32:49.431954",
     "status": "completed"
    },
    "tags": []
   },
   "outputs": [],
   "source": [
    "example_universe = universe.copy()\n",
    "example_universe[\"cutoff\"] = example_universe[\"cutoff\"][0]\n",
    "example_universe[\"eval_fairness_grouping\"] = example_universe[\"eval_fairness_grouping\"][0]\n",
    "fairness_dict, metric_frame = universe_analysis.compute_metrics(\n",
    "    example_universe,\n",
    "    y_pred_prob=probs_test,\n",
    "    y_test=y_true,\n",
    "    org_test=org_test,\n",
    ")"
   ]
  },
  {
   "cell_type": "markdown",
   "id": "f95d4e02",
   "metadata": {
    "papermill": {
     "duration": 0.011617,
     "end_time": "2025-08-05T15:32:52.001454",
     "exception": false,
     "start_time": "2025-08-05T15:32:51.989837",
     "status": "completed"
    },
    "tags": []
   },
   "source": [
    "# Overall"
   ]
  },
  {
   "cell_type": "markdown",
   "id": "bdee4871",
   "metadata": {
    "papermill": {
     "duration": 0.01131,
     "end_time": "2025-08-05T15:32:52.024240",
     "exception": false,
     "start_time": "2025-08-05T15:32:52.012930",
     "status": "completed"
    },
    "tags": []
   },
   "source": [
    "Fairness\n",
    "Main fairness target: Equalized Odds. Seems to be a better fit than equal opportunity, since we're not only interested in Y = 1. Seems to be a better fit than demographic parity, since we also care about accuracy, not just equal distribution of preds.\n",
    "\n",
    "Pick column for computation of fairness metrics\n",
    "\n",
    "Performance\n",
    "Overall performance measures, most interesting in relation to the measures split by group below"
   ]
  },
  {
   "cell_type": "code",
   "execution_count": 61,
   "id": "c4e067c6",
   "metadata": {
    "execution": {
     "iopub.execute_input": "2025-08-05T15:32:52.053488Z",
     "iopub.status.busy": "2025-08-05T15:32:52.053188Z",
     "iopub.status.idle": "2025-08-05T15:32:52.060401Z",
     "shell.execute_reply": "2025-08-05T15:32:52.059488Z"
    },
    "papermill": {
     "duration": 0.021951,
     "end_time": "2025-08-05T15:32:52.061896",
     "exception": false,
     "start_time": "2025-08-05T15:32:52.039945",
     "status": "completed"
    },
    "tags": []
   },
   "outputs": [
    {
     "data": {
      "text/plain": [
       "accuracy                   0.224022\n",
       "balanced accuracy          0.547838\n",
       "f1                         0.245363\n",
       "precision                  0.140168\n",
       "false positive rate        0.887727\n",
       "false negative rate        0.016597\n",
       "selection rate             0.900000\n",
       "count                  89710.000000\n",
       "dtype: float64"
      ]
     },
     "execution_count": 61,
     "metadata": {},
     "output_type": "execute_result"
    }
   ],
   "source": [
    "metric_frame.overall"
   ]
  },
  {
   "cell_type": "markdown",
   "id": "e968fe9d",
   "metadata": {
    "papermill": {
     "duration": 0.022464,
     "end_time": "2025-08-05T15:32:52.096381",
     "exception": false,
     "start_time": "2025-08-05T15:32:52.073917",
     "status": "completed"
    },
    "tags": []
   },
   "source": [
    "By Group"
   ]
  },
  {
   "cell_type": "code",
   "execution_count": 62,
   "id": "ec325bce",
   "metadata": {
    "execution": {
     "iopub.execute_input": "2025-08-05T15:32:52.120340Z",
     "iopub.status.busy": "2025-08-05T15:32:52.120119Z",
     "iopub.status.idle": "2025-08-05T15:32:52.135422Z",
     "shell.execute_reply": "2025-08-05T15:32:52.134400Z"
    },
    "papermill": {
     "duration": 0.029156,
     "end_time": "2025-08-05T15:32:52.137105",
     "exception": false,
     "start_time": "2025-08-05T15:32:52.107949",
     "status": "completed"
    },
    "tags": []
   },
   "outputs": [
    {
     "data": {
      "text/html": [
       "<div>\n",
       "<style scoped>\n",
       "    .dataframe tbody tr th:only-of-type {\n",
       "        vertical-align: middle;\n",
       "    }\n",
       "\n",
       "    .dataframe tbody tr th {\n",
       "        vertical-align: top;\n",
       "    }\n",
       "\n",
       "    .dataframe thead th {\n",
       "        text-align: right;\n",
       "    }\n",
       "</style>\n",
       "<table border=\"1\" class=\"dataframe\">\n",
       "  <thead>\n",
       "    <tr style=\"text-align: right;\">\n",
       "      <th></th>\n",
       "      <th>accuracy</th>\n",
       "      <th>balanced accuracy</th>\n",
       "      <th>f1</th>\n",
       "      <th>precision</th>\n",
       "      <th>false positive rate</th>\n",
       "      <th>false negative rate</th>\n",
       "      <th>selection rate</th>\n",
       "      <th>count</th>\n",
       "    </tr>\n",
       "    <tr>\n",
       "      <th>majmin</th>\n",
       "      <th></th>\n",
       "      <th></th>\n",
       "      <th></th>\n",
       "      <th></th>\n",
       "      <th></th>\n",
       "      <th></th>\n",
       "      <th></th>\n",
       "      <th></th>\n",
       "    </tr>\n",
       "  </thead>\n",
       "  <tbody>\n",
       "    <tr>\n",
       "      <th>majority</th>\n",
       "      <td>0.237270</td>\n",
       "      <td>0.553335</td>\n",
       "      <td>0.254051</td>\n",
       "      <td>0.145877</td>\n",
       "      <td>0.876262</td>\n",
       "      <td>0.017068</td>\n",
       "      <td>0.890357</td>\n",
       "      <td>69170.0</td>\n",
       "    </tr>\n",
       "    <tr>\n",
       "      <th>minority</th>\n",
       "      <td>0.179406</td>\n",
       "      <td>0.529810</td>\n",
       "      <td>0.216811</td>\n",
       "      <td>0.121809</td>\n",
       "      <td>0.925600</td>\n",
       "      <td>0.014780</td>\n",
       "      <td>0.932473</td>\n",
       "      <td>20540.0</td>\n",
       "    </tr>\n",
       "  </tbody>\n",
       "</table>\n",
       "</div>"
      ],
      "text/plain": [
       "          accuracy  balanced accuracy        f1  precision  \\\n",
       "majmin                                                       \n",
       "majority  0.237270           0.553335  0.254051   0.145877   \n",
       "minority  0.179406           0.529810  0.216811   0.121809   \n",
       "\n",
       "          false positive rate  false negative rate  selection rate    count  \n",
       "majmin                                                                       \n",
       "majority             0.876262             0.017068        0.890357  69170.0  \n",
       "minority             0.925600             0.014780        0.932473  20540.0  "
      ]
     },
     "execution_count": 62,
     "metadata": {},
     "output_type": "execute_result"
    }
   ],
   "source": [
    "metric_frame.by_group"
   ]
  },
  {
   "cell_type": "code",
   "execution_count": 63,
   "id": "a9ddbe63",
   "metadata": {
    "execution": {
     "iopub.execute_input": "2025-08-05T15:32:52.185946Z",
     "iopub.status.busy": "2025-08-05T15:32:52.185112Z",
     "iopub.status.idle": "2025-08-05T15:32:54.516314Z",
     "shell.execute_reply": "2025-08-05T15:32:54.515284Z"
    },
    "papermill": {
     "duration": 2.354422,
     "end_time": "2025-08-05T15:32:54.518097",
     "exception": false,
     "start_time": "2025-08-05T15:32:52.163675",
     "status": "completed"
    },
    "tags": []
   },
   "outputs": [
    {
     "data": {
      "text/plain": [
       "array([[<Axes: title={'center': 'accuracy'}, xlabel='majmin'>,\n",
       "        <Axes: title={'center': 'balanced accuracy'}, xlabel='majmin'>,\n",
       "        <Axes: title={'center': 'f1'}, xlabel='majmin'>],\n",
       "       [<Axes: title={'center': 'precision'}, xlabel='majmin'>,\n",
       "        <Axes: title={'center': 'false positive rate'}, xlabel='majmin'>,\n",
       "        <Axes: title={'center': 'false negative rate'}, xlabel='majmin'>],\n",
       "       [<Axes: title={'center': 'selection rate'}, xlabel='majmin'>,\n",
       "        <Axes: title={'center': 'count'}, xlabel='majmin'>,\n",
       "        <Axes: xlabel='majmin'>]], dtype=object)"
      ]
     },
     "execution_count": 63,
     "metadata": {},
     "output_type": "execute_result"
    },
    {
     "data": {
      "image/png": "[encoded data removed]",
      "text/plain": [
       "<Figure size 1200x800 with 9 Axes>"
      ]
     },
     "metadata": {},
     "output_type": "display_data"
    }
   ],
   "source": [
    "# In a graphic\n",
    "metric_frame.by_group.plot.bar(\n",
    "    subplots=True,\n",
    "    layout=[3, 3],\n",
    "    legend=False,\n",
    "    figsize=[12, 8],\n",
    "    title=\"Show all metrics\",\n",
    ")"
   ]
  },
  {
   "cell_type": "markdown",
   "id": "f57a0bac",
   "metadata": {
    "papermill": {
     "duration": 0.024137,
     "end_time": "2025-08-05T15:32:54.568540",
     "exception": false,
     "start_time": "2025-08-05T15:32:54.544403",
     "status": "completed"
    },
    "tags": []
   },
   "source": [
    "# Final Output"
   ]
  },
  {
   "cell_type": "code",
   "execution_count": 64,
   "id": "96d280a3",
   "metadata": {
    "execution": {
     "iopub.execute_input": "2025-08-05T15:32:54.623205Z",
     "iopub.status.busy": "2025-08-05T15:32:54.622110Z",
     "iopub.status.idle": "2025-08-05T15:32:54.631329Z",
     "shell.execute_reply": "2025-08-05T15:32:54.630241Z"
    },
    "papermill": {
     "duration": 0.036247,
     "end_time": "2025-08-05T15:32:54.633006",
     "exception": false,
     "start_time": "2025-08-05T15:32:54.596759",
     "status": "completed"
    },
    "tags": []
   },
   "outputs": [
    {
     "data": {
      "text/plain": [
       "4"
      ]
     },
     "execution_count": 64,
     "metadata": {},
     "output_type": "execute_result"
    }
   ],
   "source": [
    "sub_universes = universe_analysis.generate_sub_universes()\n",
    "len(sub_universes)"
   ]
  },
  {
   "cell_type": "code",
   "execution_count": 65,
   "id": "92adf7ba",
   "metadata": {
    "execution": {
     "iopub.execute_input": "2025-08-05T15:32:54.684353Z",
     "iopub.status.busy": "2025-08-05T15:32:54.683594Z",
     "iopub.status.idle": "2025-08-05T15:32:54.689819Z",
     "shell.execute_reply": "2025-08-05T15:32:54.688660Z"
    },
    "papermill": {
     "duration": 0.033675,
     "end_time": "2025-08-05T15:32:54.691712",
     "exception": false,
     "start_time": "2025-08-05T15:32:54.658037",
     "status": "completed"
    },
    "tags": []
   },
   "outputs": [],
   "source": [
    "def filter_sub_universe_data(sub_universe, org_test):\n",
    "    # Keep all rows — no filtering\n",
    "    keep_rows_mask = np.ones(org_test.shape[0], dtype=bool)\n",
    "\n",
    "    print(f\"[INFO] Keeping all rows: {keep_rows_mask.sum()} rows retained.\")\n",
    "    return keep_rows_mask"
   ]
  },
  {
   "cell_type": "code",
   "execution_count": 66,
   "id": "4a759155",
   "metadata": {
    "execution": {
     "iopub.execute_input": "2025-08-05T15:32:54.741122Z",
     "iopub.status.busy": "2025-08-05T15:32:54.740568Z",
     "iopub.status.idle": "2025-08-05T15:33:05.191519Z",
     "shell.execute_reply": "2025-08-05T15:33:05.190282Z"
    },
    "papermill": {
     "duration": 10.477047,
     "end_time": "2025-08-05T15:33:05.193125",
     "exception": false,
     "start_time": "2025-08-05T15:32:54.716078",
     "status": "completed"
    },
    "tags": []
   },
   "outputs": [
    {
     "name": "stdout",
     "output_type": "stream",
     "text": [
      "Stopping execution_time clock.\n",
      "[INFO] Keeping all rows: 89710 rows retained.\n"
     ]
    },
    {
     "name": "stdout",
     "output_type": "stream",
     "text": [
      "[INFO] Keeping all rows: 89710 rows retained.\n"
     ]
    },
    {
     "name": "stdout",
     "output_type": "stream",
     "text": [
      "[INFO] Keeping all rows: 89710 rows retained.\n"
     ]
    },
    {
     "name": "stdout",
     "output_type": "stream",
     "text": [
      "[INFO] Keeping all rows: 89710 rows retained.\n"
     ]
    },
    {
     "data": {
      "text/html": [
       "<div>\n",
       "<style scoped>\n",
       "    .dataframe tbody tr th:only-of-type {\n",
       "        vertical-align: middle;\n",
       "    }\n",
       "\n",
       "    .dataframe tbody tr th {\n",
       "        vertical-align: top;\n",
       "    }\n",
       "\n",
       "    .dataframe thead th {\n",
       "        text-align: right;\n",
       "    }\n",
       "</style>\n",
       "<table border=\"1\" class=\"dataframe\">\n",
       "  <thead>\n",
       "    <tr style=\"text-align: right;\">\n",
       "      <th></th>\n",
       "      <th>run_no</th>\n",
       "      <th>universe_id</th>\n",
       "      <th>universe_settings</th>\n",
       "      <th>execution_time</th>\n",
       "      <th>test_size_n</th>\n",
       "      <th>test_size_frac</th>\n",
       "      <th>fair_main_equalized_odds_difference</th>\n",
       "      <th>fair_main_equalized_odds_ratio</th>\n",
       "      <th>fair_main_demographic_parity_difference</th>\n",
       "      <th>fair_main_demographic_parity_ratio</th>\n",
       "      <th>...</th>\n",
       "      <th>perf_grp_precision_0</th>\n",
       "      <th>perf_grp_precision_1</th>\n",
       "      <th>perf_grp_false positive rate_0</th>\n",
       "      <th>perf_grp_false positive rate_1</th>\n",
       "      <th>perf_grp_false negative rate_0</th>\n",
       "      <th>perf_grp_false negative rate_1</th>\n",
       "      <th>perf_grp_selection rate_0</th>\n",
       "      <th>perf_grp_selection rate_1</th>\n",
       "      <th>perf_grp_count_0</th>\n",
       "      <th>perf_grp_count_1</th>\n",
       "    </tr>\n",
       "  </thead>\n",
       "  <tbody>\n",
       "    <tr>\n",
       "      <th>0</th>\n",
       "      <td>15</td>\n",
       "      <td>7905ca725424c5112db31bc9057f0298</td>\n",
       "      <td>{\"cutoff\": \"quantile_0.1\", \"eval_fairness_grou...</td>\n",
       "      <td>30.530726</td>\n",
       "      <td>89710</td>\n",
       "      <td>1.0</td>\n",
       "      <td>0.049338</td>\n",
       "      <td>0.946696</td>\n",
       "      <td>0.042116</td>\n",
       "      <td>0.954834</td>\n",
       "      <td>...</td>\n",
       "      <td>NaN</td>\n",
       "      <td>NaN</td>\n",
       "      <td>NaN</td>\n",
       "      <td>NaN</td>\n",
       "      <td>NaN</td>\n",
       "      <td>NaN</td>\n",
       "      <td>NaN</td>\n",
       "      <td>NaN</td>\n",
       "      <td>NaN</td>\n",
       "      <td>NaN</td>\n",
       "    </tr>\n",
       "    <tr>\n",
       "      <th>0</th>\n",
       "      <td>15</td>\n",
       "      <td>7905ca725424c5112db31bc9057f0298</td>\n",
       "      <td>{\"cutoff\": \"quantile_0.1\", \"eval_fairness_grou...</td>\n",
       "      <td>30.530726</td>\n",
       "      <td>89710</td>\n",
       "      <td>1.0</td>\n",
       "      <td>0.049338</td>\n",
       "      <td>0.946696</td>\n",
       "      <td>0.042116</td>\n",
       "      <td>0.954834</td>\n",
       "      <td>...</td>\n",
       "      <td>0.121809</td>\n",
       "      <td>0.145877</td>\n",
       "      <td>0.925600</td>\n",
       "      <td>0.876262</td>\n",
       "      <td>0.014780</td>\n",
       "      <td>0.017068</td>\n",
       "      <td>0.932473</td>\n",
       "      <td>0.890357</td>\n",
       "      <td>20540.0</td>\n",
       "      <td>69170.0</td>\n",
       "    </tr>\n",
       "    <tr>\n",
       "      <th>0</th>\n",
       "      <td>15</td>\n",
       "      <td>7905ca725424c5112db31bc9057f0298</td>\n",
       "      <td>{\"cutoff\": \"quantile_0.25\", \"eval_fairness_gro...</td>\n",
       "      <td>30.530726</td>\n",
       "      <td>89710</td>\n",
       "      <td>1.0</td>\n",
       "      <td>0.105820</td>\n",
       "      <td>0.868416</td>\n",
       "      <td>0.088912</td>\n",
       "      <td>0.891378</td>\n",
       "      <td>...</td>\n",
       "      <td>NaN</td>\n",
       "      <td>NaN</td>\n",
       "      <td>NaN</td>\n",
       "      <td>NaN</td>\n",
       "      <td>NaN</td>\n",
       "      <td>NaN</td>\n",
       "      <td>NaN</td>\n",
       "      <td>NaN</td>\n",
       "      <td>NaN</td>\n",
       "      <td>NaN</td>\n",
       "    </tr>\n",
       "    <tr>\n",
       "      <th>0</th>\n",
       "      <td>15</td>\n",
       "      <td>7905ca725424c5112db31bc9057f0298</td>\n",
       "      <td>{\"cutoff\": \"quantile_0.25\", \"eval_fairness_gro...</td>\n",
       "      <td>30.530726</td>\n",
       "      <td>89710</td>\n",
       "      <td>1.0</td>\n",
       "      <td>0.105820</td>\n",
       "      <td>0.868416</td>\n",
       "      <td>0.088912</td>\n",
       "      <td>0.891378</td>\n",
       "      <td>...</td>\n",
       "      <td>0.130792</td>\n",
       "      <td>0.169312</td>\n",
       "      <td>0.804204</td>\n",
       "      <td>0.698384</td>\n",
       "      <td>0.071368</td>\n",
       "      <td>0.065098</td>\n",
       "      <td>0.818549</td>\n",
       "      <td>0.729637</td>\n",
       "      <td>20540.0</td>\n",
       "      <td>69170.0</td>\n",
       "    </tr>\n",
       "  </tbody>\n",
       "</table>\n",
       "<p>4 rows × 50 columns</p>\n",
       "</div>"
      ],
      "text/plain": [
       "  run_no                       universe_id  \\\n",
       "0     15  7905ca725424c5112db31bc9057f0298   \n",
       "0     15  7905ca725424c5112db31bc9057f0298   \n",
       "0     15  7905ca725424c5112db31bc9057f0298   \n",
       "0     15  7905ca725424c5112db31bc9057f0298   \n",
       "\n",
       "                                   universe_settings  execution_time  \\\n",
       "0  {\"cutoff\": \"quantile_0.1\", \"eval_fairness_grou...       30.530726   \n",
       "0  {\"cutoff\": \"quantile_0.1\", \"eval_fairness_grou...       30.530726   \n",
       "0  {\"cutoff\": \"quantile_0.25\", \"eval_fairness_gro...       30.530726   \n",
       "0  {\"cutoff\": \"quantile_0.25\", \"eval_fairness_gro...       30.530726   \n",
       "\n",
       "   test_size_n  test_size_frac  fair_main_equalized_odds_difference  \\\n",
       "0        89710             1.0                             0.049338   \n",
       "0        89710             1.0                             0.049338   \n",
       "0        89710             1.0                             0.105820   \n",
       "0        89710             1.0                             0.105820   \n",
       "\n",
       "   fair_main_equalized_odds_ratio  fair_main_demographic_parity_difference  \\\n",
       "0                        0.946696                                 0.042116   \n",
       "0                        0.946696                                 0.042116   \n",
       "0                        0.868416                                 0.088912   \n",
       "0                        0.868416                                 0.088912   \n",
       "\n",
       "   fair_main_demographic_parity_ratio  ...  perf_grp_precision_0  \\\n",
       "0                            0.954834  ...                   NaN   \n",
       "0                            0.954834  ...              0.121809   \n",
       "0                            0.891378  ...                   NaN   \n",
       "0                            0.891378  ...              0.130792   \n",
       "\n",
       "   perf_grp_precision_1  perf_grp_false positive rate_0  \\\n",
       "0                   NaN                             NaN   \n",
       "0              0.145877                        0.925600   \n",
       "0                   NaN                             NaN   \n",
       "0              0.169312                        0.804204   \n",
       "\n",
       "   perf_grp_false positive rate_1  perf_grp_false negative rate_0  \\\n",
       "0                             NaN                             NaN   \n",
       "0                        0.876262                        0.014780   \n",
       "0                             NaN                             NaN   \n",
       "0                        0.698384                        0.071368   \n",
       "\n",
       "   perf_grp_false negative rate_1  perf_grp_selection rate_0  \\\n",
       "0                             NaN                        NaN   \n",
       "0                        0.017068                   0.932473   \n",
       "0                             NaN                        NaN   \n",
       "0                        0.065098                   0.818549   \n",
       "\n",
       "   perf_grp_selection rate_1  perf_grp_count_0  perf_grp_count_1  \n",
       "0                        NaN               NaN               NaN  \n",
       "0                   0.890357           20540.0           69170.0  \n",
       "0                        NaN               NaN               NaN  \n",
       "0                   0.729637           20540.0           69170.0  \n",
       "\n",
       "[4 rows x 50 columns]"
      ]
     },
     "execution_count": 66,
     "metadata": {},
     "output_type": "execute_result"
    }
   ],
   "source": [
    "final_output = universe_analysis.generate_final_output(\n",
    "    y_pred_prob=probs_test,\n",
    "    y_test=y_true,\n",
    "    org_test=org_test,\n",
    "    filter_data=filter_sub_universe_data,\n",
    "    cp_metrics_df=cp_metrics_df,\n",
    "    save=True,\n",
    ")\n",
    "final_output"
   ]
  }
 ],
 "metadata": {
  "celltoolbar": "Tags",
  "kernelspec": {
   "display_name": "Python (CMA Fairness)",
   "language": "python",
   "name": "cma_fair_env"
  },
  "language_info": {
   "codemirror_mode": {
    "name": "ipython",
    "version": 3
   },
   "file_extension": ".py",
   "mimetype": "text/x-python",
   "name": "python",
   "nbconvert_exporter": "python",
   "pygments_lexer": "ipython3",
   "version": "3.10.12"
  },
  "papermill": {
   "default_parameters": {},
   "duration": 45.503881,
   "end_time": "2025-08-05T15:33:06.039056",
   "environment_variables": {},
   "exception": null,
   "input_path": "universe_analysis.ipynb",
   "output_path": "output/runs/15/notebooks/m_15-7905ca725424c5112db31bc9057f0298.ipynb",
   "parameters": {
    "output_dir": "output",
    "run_no": "15",
    "seed": "2023",
    "universe": "{\"cutoff\": [\"quantile_0.1\", \"quantile_0.25\"], \"eval_fairness_grouping\": [\"majority-minority\", \"nationality-all\"], \"exclude_features\": \"age\", \"exclude_subgroups\": \"drop-non-german\", \"model\": \"gbm\", \"scale\": \"do-not-scale\", \"training_size\": \"5k\", \"training_year\": \"2014\"}",
    "universe_id": "7905ca725424c5112db31bc9057f0298"
   },
   "start_time": "2025-08-05T15:32:20.535175",
   "version": "2.6.0"
  }
 },
 "nbformat": 4,
 "nbformat_minor": 5
}