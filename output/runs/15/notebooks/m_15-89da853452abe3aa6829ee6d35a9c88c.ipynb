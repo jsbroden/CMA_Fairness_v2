{
 "cells": [
  {
   "cell_type": "code",
   "execution_count": 1,
   "id": "f159f837-637b-42ba-96b5-ec9a68c44524",
   "metadata": {
    "execution": {
     "iopub.execute_input": "2025-08-05T16:28:20.872489Z",
     "iopub.status.busy": "2025-08-05T16:28:20.871888Z",
     "iopub.status.idle": "2025-08-05T16:28:20.889863Z",
     "shell.execute_reply": "2025-08-05T16:28:20.888475Z"
    },
    "papermill": {
     "duration": 0.041492,
     "end_time": "2025-08-05T16:28:20.892064",
     "exception": false,
     "start_time": "2025-08-05T16:28:20.850572",
     "status": "completed"
    },
    "tags": []
   },
   "outputs": [
    {
     "name": "stdout",
     "output_type": "stream",
     "text": [
      "/dss/dsshome1/0C/ra93lal2/cma/CMA_Fairness_v2\n"
     ]
    },
    {
     "name": "stderr",
     "output_type": "stream",
     "text": [
      "/dss/dsshome1/0C/ra93lal2/.local/share/virtualenvs/CMA_Fairness_v2-3j10GkSs/lib/python3.10/site-packages/IPython/core/magics/osm.py:393: UserWarning: This is now an optional IPython functionality, using bookmarks requires you to install the `pickleshare` library.\n",
      "  bkms = self.shell.db.get('bookmarks', {})\n",
      "/dss/dsshome1/0C/ra93lal2/.local/share/virtualenvs/CMA_Fairness_v2-3j10GkSs/lib/python3.10/site-packages/IPython/core/magics/osm.py:417: UserWarning: This is now an optional IPython functionality, setting dhist requires you to install the `pickleshare` library.\n",
      "  self.shell.db['dhist'] = compress_dhist(dhist)[-100:]\n"
     ]
    }
   ],
   "source": [
    "%cd ~/cma/CMA_Fairness_v2"
   ]
  },
  {
   "cell_type": "markdown",
   "id": "de2603b9",
   "metadata": {
    "papermill": {
     "duration": 0.020356,
     "end_time": "2025-08-05T16:28:20.933324",
     "exception": false,
     "start_time": "2025-08-05T16:28:20.912968",
     "status": "completed"
    },
    "tags": []
   },
   "source": [
    "The following cell holds the definition of our parameters, these values can be overriden by rendering the with e.g. the following command:\n",
    "\n",
    "papermill -p alpha 0.2 -p ratio 0.3 universe_analysis.ipynb output/test_run.ipynb"
   ]
  },
  {
   "cell_type": "code",
   "execution_count": 2,
   "id": "a80968a0-40bb-4fa9-85ef-2d5eefb01975",
   "metadata": {
    "execution": {
     "iopub.execute_input": "2025-08-05T16:28:20.976994Z",
     "iopub.status.busy": "2025-08-05T16:28:20.975933Z",
     "iopub.status.idle": "2025-08-05T16:28:20.985615Z",
     "shell.execute_reply": "2025-08-05T16:28:20.982963Z"
    },
    "papermill": {
     "duration": 0.034263,
     "end_time": "2025-08-05T16:28:20.987632",
     "exception": false,
     "start_time": "2025-08-05T16:28:20.953369",
     "status": "completed"
    },
    "tags": []
   },
   "outputs": [
    {
     "name": "stdout",
     "output_type": "stream",
     "text": [
      "Current working directory: /dss/dsshome1/0C/ra93lal2/cma/CMA_Fairness_v2\n"
     ]
    }
   ],
   "source": [
    "import os\n",
    "print(\"Current working directory:\", os.getcwd())"
   ]
  },
  {
   "cell_type": "code",
   "execution_count": 3,
   "id": "2dce4c03",
   "metadata": {
    "execution": {
     "iopub.execute_input": "2025-08-05T16:28:21.031040Z",
     "iopub.status.busy": "2025-08-05T16:28:21.030007Z",
     "iopub.status.idle": "2025-08-05T16:28:21.037681Z",
     "shell.execute_reply": "2025-08-05T16:28:21.036496Z"
    },
    "papermill": {
     "duration": 0.031554,
     "end_time": "2025-08-05T16:28:21.040027",
     "exception": false,
     "start_time": "2025-08-05T16:28:21.008473",
     "status": "completed"
    },
    "tags": [
     "parameters"
    ]
   },
   "outputs": [],
   "source": [
    "run_no = 0\n",
    "universe_id = \"test\"\n",
    "universe = {\n",
    "    \"training_size\": \"25k\", # \"25k\", \"5k\", \"1k\"\n",
    "    \"training_year\": \"2014\", # \"2014\", \"2012_14\", \"2010_14\"\n",
    "    \"scale\": \"scale\", # \"scale\", \"do-not-scale\",\n",
    "    \"model\": \"elasticnet\", # \"logreg\", \"penalized_logreg\", \"rf\", \"gbm\", \"elasticnet\"\n",
    "    \"cutoff\": [\"quantile_0.15\", \"quantile_0.30\"],\n",
    "    \"exclude_features\": \"age\", # \"none\", \"nationality\", \"sex\", \"nationality-sex\", \"age\"\n",
    "    \"exclude_subgroups\": \"keep-all\", # \"keep-all\", \"drop-non-german\"\n",
    "    \"eval_fairness_grouping\": [\"majority-minority\", \"nationality-all\"]\n",
    "}\n",
    "\n",
    "output_dir=\"./output\"\n",
    "seed=0"
   ]
  },
  {
   "cell_type": "code",
   "execution_count": 4,
   "id": "059620a3",
   "metadata": {
    "execution": {
     "iopub.execute_input": "2025-08-05T16:28:21.083534Z",
     "iopub.status.busy": "2025-08-05T16:28:21.082343Z",
     "iopub.status.idle": "2025-08-05T16:28:21.089041Z",
     "shell.execute_reply": "2025-08-05T16:28:21.087706Z"
    },
    "papermill": {
     "duration": 0.029903,
     "end_time": "2025-08-05T16:28:21.090882",
     "exception": false,
     "start_time": "2025-08-05T16:28:21.060979",
     "status": "completed"
    },
    "tags": [
     "injected-parameters"
    ]
   },
   "outputs": [],
   "source": [
    "# Parameters\n",
    "universe_id = \"89da853452abe3aa6829ee6d35a9c88c\"\n",
    "run_no = \"15\"\n",
    "universe = \"{\\\"cutoff\\\": [\\\"quantile_0.1\\\", \\\"quantile_0.25\\\"], \\\"eval_fairness_grouping\\\": [\\\"majority-minority\\\", \\\"nationality-all\\\"], \\\"exclude_features\\\": \\\"sex\\\", \\\"exclude_subgroups\\\": \\\"keep-all\\\", \\\"model\\\": \\\"gbm\\\", \\\"scale\\\": \\\"do-not-scale\\\", \\\"training_size\\\": \\\"1k\\\", \\\"training_year\\\": \\\"2012_14\\\"}\"\n",
    "output_dir = \"output\"\n",
    "seed = \"2023\"\n"
   ]
  },
  {
   "cell_type": "code",
   "execution_count": 5,
   "id": "1650acaf",
   "metadata": {
    "execution": {
     "iopub.execute_input": "2025-08-05T16:28:21.131931Z",
     "iopub.status.busy": "2025-08-05T16:28:21.131458Z",
     "iopub.status.idle": "2025-08-05T16:28:21.137650Z",
     "shell.execute_reply": "2025-08-05T16:28:21.136449Z"
    },
    "papermill": {
     "duration": 0.028949,
     "end_time": "2025-08-05T16:28:21.139591",
     "exception": false,
     "start_time": "2025-08-05T16:28:21.110642",
     "status": "completed"
    },
    "tags": []
   },
   "outputs": [],
   "source": [
    "import json\n",
    "if isinstance(universe, str):\n",
    "    universe = json.loads(universe)"
   ]
  },
  {
   "cell_type": "code",
   "execution_count": 6,
   "id": "16620c48",
   "metadata": {
    "execution": {
     "iopub.execute_input": "2025-08-05T16:28:21.184757Z",
     "iopub.status.busy": "2025-08-05T16:28:21.183533Z",
     "iopub.status.idle": "2025-08-05T16:28:21.237350Z",
     "shell.execute_reply": "2025-08-05T16:28:21.236086Z"
    },
    "papermill": {
     "duration": 0.078459,
     "end_time": "2025-08-05T16:28:21.239421",
     "exception": false,
     "start_time": "2025-08-05T16:28:21.160962",
     "status": "completed"
    },
    "tags": []
   },
   "outputs": [],
   "source": [
    "# Auto-reload the custom package\n",
    "%load_ext autoreload\n",
    "%autoreload 1\n",
    "%aimport fairness_multiverse"
   ]
  },
  {
   "cell_type": "code",
   "execution_count": 7,
   "id": "01c5c9f3",
   "metadata": {
    "execution": {
     "iopub.execute_input": "2025-08-05T16:28:21.264607Z",
     "iopub.status.busy": "2025-08-05T16:28:21.263739Z",
     "iopub.status.idle": "2025-08-05T16:28:23.446861Z",
     "shell.execute_reply": "2025-08-05T16:28:23.445597Z"
    },
    "papermill": {
     "duration": 2.198099,
     "end_time": "2025-08-05T16:28:23.449250",
     "exception": false,
     "start_time": "2025-08-05T16:28:21.251151",
     "status": "completed"
    },
    "tags": []
   },
   "outputs": [],
   "source": [
    "from fairness_multiverse.universe import UniverseAnalysis\n",
    "\n",
    "universe_analysis = UniverseAnalysis(\n",
    "    run_no = run_no,\n",
    "    universe_id = universe_id,\n",
    "    universe = universe,\n",
    "    output_dir=output_dir,\n",
    ")"
   ]
  },
  {
   "cell_type": "code",
   "execution_count": 8,
   "id": "106241f5",
   "metadata": {
    "execution": {
     "iopub.execute_input": "2025-08-05T16:28:23.497052Z",
     "iopub.status.busy": "2025-08-05T16:28:23.496464Z",
     "iopub.status.idle": "2025-08-05T16:28:23.505015Z",
     "shell.execute_reply": "2025-08-05T16:28:23.503602Z"
    },
    "papermill": {
     "duration": 0.034488,
     "end_time": "2025-08-05T16:28:23.507175",
     "exception": false,
     "start_time": "2025-08-05T16:28:23.472687",
     "status": "completed"
    },
    "tags": []
   },
   "outputs": [
    {
     "name": "stdout",
     "output_type": "stream",
     "text": [
      "Using Seed: 2023\n"
     ]
    }
   ],
   "source": [
    "import numpy as np\n",
    "parsed_seed = int(seed)\n",
    "np.random.seed(parsed_seed)\n",
    "print(f\"Using Seed: {parsed_seed}\")"
   ]
  },
  {
   "cell_type": "markdown",
   "id": "e0ebdc57",
   "metadata": {
    "papermill": {
     "duration": 0.021828,
     "end_time": "2025-08-05T16:28:23.551391",
     "exception": false,
     "start_time": "2025-08-05T16:28:23.529563",
     "status": "completed"
    },
    "tags": []
   },
   "source": [
    "# Loading Data"
   ]
  },
  {
   "cell_type": "code",
   "execution_count": 9,
   "id": "f0496b8a",
   "metadata": {
    "execution": {
     "iopub.execute_input": "2025-08-05T16:28:23.598437Z",
     "iopub.status.busy": "2025-08-05T16:28:23.597565Z",
     "iopub.status.idle": "2025-08-05T16:28:36.380091Z",
     "shell.execute_reply": "2025-08-05T16:28:36.378657Z"
    },
    "papermill": {
     "duration": 12.808835,
     "end_time": "2025-08-05T16:28:36.382288",
     "exception": false,
     "start_time": "2025-08-05T16:28:23.573453",
     "status": "completed"
    },
    "tags": []
   },
   "outputs": [
    {
     "name": "stdout",
     "output_type": "stream",
     "text": [
      "Loading SIAB data from cache: data/siab_cached.csv.gz\n"
     ]
    },
    {
     "name": "stdout",
     "output_type": "stream",
     "text": [
      "(643690, 164)\n"
     ]
    }
   ],
   "source": [
    "from pathlib import Path\n",
    "import pandas as pd\n",
    "\n",
    "# File paths\n",
    "raw_file = Path(\"data/raw/siab.csv\")\n",
    "cache_file = Path(\"data/siab_cached.csv.gz\")\n",
    "\n",
    "# Ensure cache directory exists\n",
    "cache_file.parent.mkdir(parents=True, exist_ok=True)\n",
    "\n",
    "# Load with simple caching\n",
    "if cache_file.exists():\n",
    "    print(f\"Loading SIAB data from cache: {cache_file}\")\n",
    "    siab = pd.read_csv(cache_file, compression='gzip')\n",
    "else:\n",
    "    print(f\"Cache not found. Reading raw SIAB data: {raw_file}\")\n",
    "    siab = pd.read_csv(raw_file)\n",
    "    siab.to_csv(cache_file, index=False, compression='gzip')\n",
    "    print(f\"Cached SIAB data to: {cache_file}\")\n",
    "\n",
    "print(siab.shape)"
   ]
  },
  {
   "cell_type": "code",
   "execution_count": 10,
   "id": "db0ca512-5f53-4dba-abdb-a2888bca41ba",
   "metadata": {
    "execution": {
     "iopub.execute_input": "2025-08-05T16:28:36.427537Z",
     "iopub.status.busy": "2025-08-05T16:28:36.426843Z",
     "iopub.status.idle": "2025-08-05T16:28:36.434147Z",
     "shell.execute_reply": "2025-08-05T16:28:36.432753Z"
    },
    "papermill": {
     "duration": 0.032229,
     "end_time": "2025-08-05T16:28:36.436099",
     "exception": false,
     "start_time": "2025-08-05T16:28:36.403870",
     "status": "completed"
    },
    "tags": []
   },
   "outputs": [],
   "source": [
    "#siab"
   ]
  },
  {
   "cell_type": "markdown",
   "id": "997051c5-15bd-4b69-9786-c3001a3ce484",
   "metadata": {
    "papermill": {
     "duration": 0.021414,
     "end_time": "2025-08-05T16:28:36.479861",
     "exception": false,
     "start_time": "2025-08-05T16:28:36.458447",
     "status": "completed"
    },
    "tags": []
   },
   "source": [
    "# Splitting Data and Setting Training Data Size"
   ]
  },
  {
   "cell_type": "code",
   "execution_count": 11,
   "id": "aea9c6ef-6f46-42c8-85eb-5a62025c1508",
   "metadata": {
    "execution": {
     "iopub.execute_input": "2025-08-05T16:28:36.524786Z",
     "iopub.status.busy": "2025-08-05T16:28:36.523795Z",
     "iopub.status.idle": "2025-08-05T16:28:37.205382Z",
     "shell.execute_reply": "2025-08-05T16:28:37.204145Z"
    },
    "papermill": {
     "duration": 0.707463,
     "end_time": "2025-08-05T16:28:37.208348",
     "exception": false,
     "start_time": "2025-08-05T16:28:36.500885",
     "status": "completed"
    },
    "tags": []
   },
   "outputs": [],
   "source": [
    "from fairness_multiverse.universe import sample_by_year_size\n",
    "\n",
    "siab_train = sample_by_year_size(siab,\n",
    "                               training_year=universe[\"training_year\"],\n",
    "                               training_size=universe[\"training_size\"])"
   ]
  },
  {
   "cell_type": "code",
   "execution_count": 12,
   "id": "8d3afb32-789d-442c-8d5d-9f5aa8dd2eed",
   "metadata": {
    "execution": {
     "iopub.execute_input": "2025-08-05T16:28:37.254409Z",
     "iopub.status.busy": "2025-08-05T16:28:37.253669Z",
     "iopub.status.idle": "2025-08-05T16:28:37.259657Z",
     "shell.execute_reply": "2025-08-05T16:28:37.258477Z"
    },
    "papermill": {
     "duration": 0.031189,
     "end_time": "2025-08-05T16:28:37.261608",
     "exception": false,
     "start_time": "2025-08-05T16:28:37.230419",
     "status": "completed"
    },
    "tags": []
   },
   "outputs": [],
   "source": [
    "#siab_train.shape"
   ]
  },
  {
   "cell_type": "code",
   "execution_count": 13,
   "id": "d582db68-1a4c-47fb-84fc-08518dc1975a",
   "metadata": {
    "execution": {
     "iopub.execute_input": "2025-08-05T16:28:37.305212Z",
     "iopub.status.busy": "2025-08-05T16:28:37.304114Z",
     "iopub.status.idle": "2025-08-05T16:28:37.309781Z",
     "shell.execute_reply": "2025-08-05T16:28:37.308630Z"
    },
    "papermill": {
     "duration": 0.02905,
     "end_time": "2025-08-05T16:28:37.311677",
     "exception": false,
     "start_time": "2025-08-05T16:28:37.282627",
     "status": "completed"
    },
    "tags": []
   },
   "outputs": [],
   "source": [
    "#display(siab_train.groupby(\"year\").size())"
   ]
  },
  {
   "cell_type": "code",
   "execution_count": 14,
   "id": "a561edb4-d032-42cb-8256-22eac1111c64",
   "metadata": {
    "execution": {
     "iopub.execute_input": "2025-08-05T16:28:37.356862Z",
     "iopub.status.busy": "2025-08-05T16:28:37.356020Z",
     "iopub.status.idle": "2025-08-05T16:28:37.669075Z",
     "shell.execute_reply": "2025-08-05T16:28:37.667834Z"
    },
    "papermill": {
     "duration": 0.337709,
     "end_time": "2025-08-05T16:28:37.671533",
     "exception": false,
     "start_time": "2025-08-05T16:28:37.333824",
     "status": "completed"
    },
    "tags": []
   },
   "outputs": [],
   "source": [
    "#siab_train = siab_s[siab_s.year < 2015]\n",
    "siab_calib = siab[siab.year == 2015]\n",
    "siab_test = siab[siab.year == 2016]"
   ]
  },
  {
   "cell_type": "code",
   "execution_count": 15,
   "id": "472de16f-c3db-4916-846b-1f0de9cf1746",
   "metadata": {
    "execution": {
     "iopub.execute_input": "2025-08-05T16:28:37.720680Z",
     "iopub.status.busy": "2025-08-05T16:28:37.719966Z",
     "iopub.status.idle": "2025-08-05T16:28:37.728408Z",
     "shell.execute_reply": "2025-08-05T16:28:37.727081Z"
    },
    "papermill": {
     "duration": 0.034498,
     "end_time": "2025-08-05T16:28:37.730481",
     "exception": false,
     "start_time": "2025-08-05T16:28:37.695983",
     "status": "completed"
    },
    "tags": []
   },
   "outputs": [],
   "source": [
    "X_train = siab_train.iloc[:,4:164]\n",
    "y_train = siab_train.iloc[:, [3]]"
   ]
  },
  {
   "cell_type": "code",
   "execution_count": 16,
   "id": "828c96af-f43a-4ed6-ba47-8ac73a47d56c",
   "metadata": {
    "execution": {
     "iopub.execute_input": "2025-08-05T16:28:37.778912Z",
     "iopub.status.busy": "2025-08-05T16:28:37.777966Z",
     "iopub.status.idle": "2025-08-05T16:28:37.836995Z",
     "shell.execute_reply": "2025-08-05T16:28:37.835635Z"
    },
    "papermill": {
     "duration": 0.085958,
     "end_time": "2025-08-05T16:28:37.839503",
     "exception": false,
     "start_time": "2025-08-05T16:28:37.753545",
     "status": "completed"
    },
    "tags": []
   },
   "outputs": [],
   "source": [
    "X_calib = siab_calib.iloc[:,4:164]\n",
    "y_calib = siab_calib.iloc[:, [3]]"
   ]
  },
  {
   "cell_type": "code",
   "execution_count": 17,
   "id": "c34be9c3-6bd6-476e-acd3-845840e303be",
   "metadata": {
    "execution": {
     "iopub.execute_input": "2025-08-05T16:28:37.895118Z",
     "iopub.status.busy": "2025-08-05T16:28:37.894627Z",
     "iopub.status.idle": "2025-08-05T16:28:37.958444Z",
     "shell.execute_reply": "2025-08-05T16:28:37.957171Z"
    },
    "papermill": {
     "duration": 0.093719,
     "end_time": "2025-08-05T16:28:37.960642",
     "exception": false,
     "start_time": "2025-08-05T16:28:37.866923",
     "status": "completed"
    },
    "tags": []
   },
   "outputs": [],
   "source": [
    "X_test = siab_test.iloc[:,4:164]\n",
    "y_true = siab_test.iloc[:, [3]]"
   ]
  },
  {
   "cell_type": "code",
   "execution_count": 18,
   "id": "e6c733c5",
   "metadata": {
    "execution": {
     "iopub.execute_input": "2025-08-05T16:28:38.010884Z",
     "iopub.status.busy": "2025-08-05T16:28:38.009977Z",
     "iopub.status.idle": "2025-08-05T16:28:38.115423Z",
     "shell.execute_reply": "2025-08-05T16:28:38.114201Z"
    },
    "papermill": {
     "duration": 0.132607,
     "end_time": "2025-08-05T16:28:38.117958",
     "exception": false,
     "start_time": "2025-08-05T16:28:37.985351",
     "status": "completed"
    },
    "tags": []
   },
   "outputs": [],
   "source": [
    "# Auxiliary data needed downstream in the pipeline\n",
    "\n",
    "org_train = X_train.copy()\n",
    "org_test = X_test.copy()\n",
    "org_calib = X_calib.copy()"
   ]
  },
  {
   "cell_type": "markdown",
   "id": "0a4a1b33",
   "metadata": {
    "papermill": {
     "duration": 0.023421,
     "end_time": "2025-08-05T16:28:38.167760",
     "exception": false,
     "start_time": "2025-08-05T16:28:38.144339",
     "status": "completed"
    },
    "tags": []
   },
   "source": [
    "# Preprocessing Data"
   ]
  },
  {
   "cell_type": "code",
   "execution_count": 19,
   "id": "ca879031",
   "metadata": {
    "execution": {
     "iopub.execute_input": "2025-08-05T16:28:38.216408Z",
     "iopub.status.busy": "2025-08-05T16:28:38.215610Z",
     "iopub.status.idle": "2025-08-05T16:28:38.223167Z",
     "shell.execute_reply": "2025-08-05T16:28:38.221975Z"
    },
    "papermill": {
     "duration": 0.034227,
     "end_time": "2025-08-05T16:28:38.225288",
     "exception": false,
     "start_time": "2025-08-05T16:28:38.191061",
     "status": "completed"
    },
    "tags": []
   },
   "outputs": [],
   "source": [
    "# EXCLUDE PROTECTED FEATURES\n",
    "# ----------------------\n",
    "# \"exclude_features\": \"none\", # \"nationality\", \"sex\", \"nationality-sex\"\n",
    "\n",
    "excluded_features = universe[\"exclude_features\"].split(\"-\") # split, e.g.: \"nationality-sex\" -> [\"nationality\", \"sex\"]\n",
    "excluded_features_dictionary = {\n",
    "    \"nationality\": [\"maxdeutsch1\", \"maxdeutsch.Missing.\"],\n",
    "    \"sex\": [\"frau1\"],\n",
    "    \"age\": [\"age\"],\n",
    "}"
   ]
  },
  {
   "cell_type": "code",
   "execution_count": 20,
   "id": "b745ac60",
   "metadata": {
    "execution": {
     "iopub.execute_input": "2025-08-05T16:28:38.274216Z",
     "iopub.status.busy": "2025-08-05T16:28:38.273468Z",
     "iopub.status.idle": "2025-08-05T16:28:38.280075Z",
     "shell.execute_reply": "2025-08-05T16:28:38.278889Z"
    },
    "papermill": {
     "duration": 0.033227,
     "end_time": "2025-08-05T16:28:38.281980",
     "exception": false,
     "start_time": "2025-08-05T16:28:38.248753",
     "status": "completed"
    },
    "tags": []
   },
   "outputs": [],
   "source": [
    "# Code nice names to column names\n",
    "\n",
    "excluded_features_columns = [\n",
    "    excluded_features_dictionary[f] for f in excluded_features if len(f) > 0 and f != \"none\"\n",
    "]"
   ]
  },
  {
   "cell_type": "code",
   "execution_count": 21,
   "id": "f84f73a2",
   "metadata": {
    "execution": {
     "iopub.execute_input": "2025-08-05T16:28:38.330929Z",
     "iopub.status.busy": "2025-08-05T16:28:38.330222Z",
     "iopub.status.idle": "2025-08-05T16:28:38.338042Z",
     "shell.execute_reply": "2025-08-05T16:28:38.336847Z"
    },
    "papermill": {
     "duration": 0.034255,
     "end_time": "2025-08-05T16:28:38.339964",
     "exception": false,
     "start_time": "2025-08-05T16:28:38.305709",
     "status": "completed"
    },
    "tags": []
   },
   "outputs": [],
   "source": [
    "from utils import flatten_once\n",
    "\n",
    "excluded_features_columns = flatten_once(excluded_features_columns)"
   ]
  },
  {
   "cell_type": "code",
   "execution_count": 22,
   "id": "884dea22",
   "metadata": {
    "execution": {
     "iopub.execute_input": "2025-08-05T16:28:38.389460Z",
     "iopub.status.busy": "2025-08-05T16:28:38.388471Z",
     "iopub.status.idle": "2025-08-05T16:28:38.399223Z",
     "shell.execute_reply": "2025-08-05T16:28:38.398028Z"
    },
    "papermill": {
     "duration": 0.037637,
     "end_time": "2025-08-05T16:28:38.401186",
     "exception": false,
     "start_time": "2025-08-05T16:28:38.363549",
     "status": "completed"
    },
    "tags": []
   },
   "outputs": [
    {
     "name": "stdout",
     "output_type": "stream",
     "text": [
      "Dropping features: ['frau1']\n"
     ]
    }
   ],
   "source": [
    "if len(excluded_features_columns) > 0:\n",
    "    print(f\"Dropping features: {excluded_features_columns}\")\n",
    "    X_train.drop(excluded_features_columns, axis=1, inplace=True)"
   ]
  },
  {
   "cell_type": "code",
   "execution_count": 23,
   "id": "95ab8b16",
   "metadata": {
    "execution": {
     "iopub.execute_input": "2025-08-05T16:28:38.450488Z",
     "iopub.status.busy": "2025-08-05T16:28:38.449575Z",
     "iopub.status.idle": "2025-08-05T16:28:38.512525Z",
     "shell.execute_reply": "2025-08-05T16:28:38.511217Z"
    },
    "papermill": {
     "duration": 0.089422,
     "end_time": "2025-08-05T16:28:38.514693",
     "exception": false,
     "start_time": "2025-08-05T16:28:38.425271",
     "status": "completed"
    },
    "tags": []
   },
   "outputs": [
    {
     "name": "stdout",
     "output_type": "stream",
     "text": [
      "Dropping features: ['frau1']\n"
     ]
    }
   ],
   "source": [
    "if len(excluded_features_columns) > 0:\n",
    "    print(f\"Dropping features: {excluded_features_columns}\")\n",
    "    X_test.drop(excluded_features_columns, axis=1, inplace=True)"
   ]
  },
  {
   "cell_type": "code",
   "execution_count": 24,
   "id": "1853aaf5-fb9f-46cb-a2b5-8ea4ae2237e4",
   "metadata": {
    "execution": {
     "iopub.execute_input": "2025-08-05T16:28:38.564218Z",
     "iopub.status.busy": "2025-08-05T16:28:38.563171Z",
     "iopub.status.idle": "2025-08-05T16:28:38.626729Z",
     "shell.execute_reply": "2025-08-05T16:28:38.625134Z"
    },
    "papermill": {
     "duration": 0.09097,
     "end_time": "2025-08-05T16:28:38.628909",
     "exception": false,
     "start_time": "2025-08-05T16:28:38.537939",
     "status": "completed"
    },
    "tags": []
   },
   "outputs": [
    {
     "name": "stdout",
     "output_type": "stream",
     "text": [
      "Dropping features: ['frau1']\n"
     ]
    }
   ],
   "source": [
    "if len(excluded_features_columns) > 0:\n",
    "    print(f\"Dropping features: {excluded_features_columns}\")\n",
    "    X_calib.drop(excluded_features_columns, axis=1, inplace=True)"
   ]
  },
  {
   "cell_type": "code",
   "execution_count": 25,
   "id": "76c4dc6d",
   "metadata": {
    "execution": {
     "iopub.execute_input": "2025-08-05T16:28:38.675669Z",
     "iopub.status.busy": "2025-08-05T16:28:38.675012Z",
     "iopub.status.idle": "2025-08-05T16:28:38.681937Z",
     "shell.execute_reply": "2025-08-05T16:28:38.680701Z"
    },
    "papermill": {
     "duration": 0.033932,
     "end_time": "2025-08-05T16:28:38.684262",
     "exception": false,
     "start_time": "2025-08-05T16:28:38.650330",
     "status": "completed"
    },
    "tags": []
   },
   "outputs": [],
   "source": [
    "# EXCLUDE CERTAIN SUBGROUPS\n",
    "# ----------------------\n",
    "\n",
    "mode = universe.get(\"exclude_subgroups\", \"keep-all\") \n",
    "# Fetches the exclude_subgroups setting from the universe dict.\n",
    "# Defaults to \"keep-all\" if the key is missing."
   ]
  },
  {
   "cell_type": "code",
   "execution_count": 26,
   "id": "21994072",
   "metadata": {
    "execution": {
     "iopub.execute_input": "2025-08-05T16:28:38.729453Z",
     "iopub.status.busy": "2025-08-05T16:28:38.728499Z",
     "iopub.status.idle": "2025-08-05T16:28:38.737088Z",
     "shell.execute_reply": "2025-08-05T16:28:38.735830Z"
    },
    "papermill": {
     "duration": 0.035715,
     "end_time": "2025-08-05T16:28:38.739229",
     "exception": false,
     "start_time": "2025-08-05T16:28:38.703514",
     "status": "completed"
    },
    "tags": []
   },
   "outputs": [],
   "source": [
    "if mode == \"keep-all\":\n",
    "    keep_mask = pd.Series(True, index=org_train.index)\n",
    "\n",
    "# org_train contains the original feature columns from features_org (in Simson)\n",
    "# features_org contains unprocessed features, for me X_train at beginning ???\n",
    "# For keep-all, creates a boolean Series (keep_mask) of all True, so no rows are removed.\n",
    "\n",
    "elif mode == \"drop-non-german\":\n",
    "    keep_mask = org_train[\"maxdeutsch1\"] == 1 # ??? what about missing values?\n",
    "\n",
    "else:\n",
    "    raise ValueError(f\"Unsupported mode for exclude_subgroups: {mode}\")"
   ]
  },
  {
   "cell_type": "code",
   "execution_count": 27,
   "id": "71651440",
   "metadata": {
    "execution": {
     "iopub.execute_input": "2025-08-05T16:28:38.779852Z",
     "iopub.status.busy": "2025-08-05T16:28:38.779443Z",
     "iopub.status.idle": "2025-08-05T16:28:38.785742Z",
     "shell.execute_reply": "2025-08-05T16:28:38.784625Z"
    },
    "papermill": {
     "duration": 0.024976,
     "end_time": "2025-08-05T16:28:38.787939",
     "exception": false,
     "start_time": "2025-08-05T16:28:38.762963",
     "status": "completed"
    },
    "tags": []
   },
   "outputs": [],
   "source": [
    "n_drop = (~keep_mask).sum() # Calculates how many rows are set to be dropped\n",
    "if n_drop > 0:\n",
    "    pct = n_drop / len(keep_mask) * 100\n",
    "    print(f\"Dropping {n_drop} rows ({pct:.2f}%) where mode='{mode}'\")"
   ]
  },
  {
   "cell_type": "code",
   "execution_count": 28,
   "id": "5fb8eee5",
   "metadata": {
    "execution": {
     "iopub.execute_input": "2025-08-05T16:28:38.835218Z",
     "iopub.status.busy": "2025-08-05T16:28:38.834742Z",
     "iopub.status.idle": "2025-08-05T16:28:38.841823Z",
     "shell.execute_reply": "2025-08-05T16:28:38.840665Z"
    },
    "papermill": {
     "duration": 0.033668,
     "end_time": "2025-08-05T16:28:38.843782",
     "exception": false,
     "start_time": "2025-08-05T16:28:38.810114",
     "status": "completed"
    },
    "tags": []
   },
   "outputs": [],
   "source": [
    "X_train = X_train[keep_mask]"
   ]
  },
  {
   "cell_type": "code",
   "execution_count": 29,
   "id": "b202bb3a",
   "metadata": {
    "execution": {
     "iopub.execute_input": "2025-08-05T16:28:38.893743Z",
     "iopub.status.busy": "2025-08-05T16:28:38.893269Z",
     "iopub.status.idle": "2025-08-05T16:28:38.900017Z",
     "shell.execute_reply": "2025-08-05T16:28:38.898881Z"
    },
    "papermill": {
     "duration": 0.034384,
     "end_time": "2025-08-05T16:28:38.902200",
     "exception": false,
     "start_time": "2025-08-05T16:28:38.867816",
     "status": "completed"
    },
    "tags": []
   },
   "outputs": [],
   "source": [
    "y_train = y_train[keep_mask]"
   ]
  },
  {
   "cell_type": "markdown",
   "id": "493e2ac3",
   "metadata": {
    "papermill": {
     "duration": 0.011499,
     "end_time": "2025-08-05T16:28:38.927682",
     "exception": false,
     "start_time": "2025-08-05T16:28:38.916183",
     "status": "completed"
    },
    "tags": []
   },
   "source": [
    "# Model Training"
   ]
  },
  {
   "cell_type": "code",
   "execution_count": 30,
   "id": "679e1268",
   "metadata": {
    "execution": {
     "iopub.execute_input": "2025-08-05T16:28:38.972100Z",
     "iopub.status.busy": "2025-08-05T16:28:38.971585Z",
     "iopub.status.idle": "2025-08-05T16:28:39.078487Z",
     "shell.execute_reply": "2025-08-05T16:28:39.077568Z"
    },
    "papermill": {
     "duration": 0.133737,
     "end_time": "2025-08-05T16:28:39.080566",
     "exception": false,
     "start_time": "2025-08-05T16:28:38.946829",
     "status": "completed"
    },
    "tags": []
   },
   "outputs": [],
   "source": [
    "from sklearn.linear_model import LogisticRegression\n",
    "from sklearn.ensemble import GradientBoostingClassifier, RandomForestClassifier\n",
    "\n",
    "if (universe[\"model\"] == \"logreg\"):\n",
    "    model = LogisticRegression() #penalty=\"none\", solver=\"newton-cg\", max_iter=1) # include random_state=19 ?\n",
    "elif (universe[\"model\"] == \"penalized_logreg\"):\n",
    "    model = LogisticRegression(penalty=\"l2\", C=0.1) #, solver=\"newton-cg\", max_iter=1)\n",
    "elif (universe[\"model\"] == \"rf\"):\n",
    "    model = RandomForestClassifier() # n_estimators=100, n_jobs=-1\n",
    "elif (universe[\"model\"] == \"gbm\"):\n",
    "    model = GradientBoostingClassifier()\n",
    "elif (universe[\"model\"] == \"elasticnet\"):\n",
    "    model = LogisticRegression(penalty = 'elasticnet', solver = 'saga', l1_ratio = 0.5) # max_iter=5000\n",
    "else:\n",
    "    raise \"Unsupported universe.model\""
   ]
  },
  {
   "cell_type": "code",
   "execution_count": 31,
   "id": "0cc8f744",
   "metadata": {
    "execution": {
     "iopub.execute_input": "2025-08-05T16:28:39.125997Z",
     "iopub.status.busy": "2025-08-05T16:28:39.125425Z",
     "iopub.status.idle": "2025-08-05T16:28:39.133005Z",
     "shell.execute_reply": "2025-08-05T16:28:39.131914Z"
    },
    "papermill": {
     "duration": 0.032187,
     "end_time": "2025-08-05T16:28:39.135124",
     "exception": false,
     "start_time": "2025-08-05T16:28:39.102937",
     "status": "completed"
    },
    "tags": []
   },
   "outputs": [],
   "source": [
    "import numpy as np\n",
    "from sklearn.pipeline import Pipeline\n",
    "from sklearn.preprocessing import StandardScaler\n",
    "\n",
    "model = Pipeline([\n",
    "    #(\"continuous_processor\", continuous_processor),\n",
    "    #(\"categorical_preprocessor\", categorical_preprocessor),\n",
    "    (\"scale\", StandardScaler() if universe[\"scale\"] == \"scale\" else None), \n",
    "    (\"model\", model),\n",
    "])"
   ]
  },
  {
   "cell_type": "code",
   "execution_count": 32,
   "id": "9442c04d",
   "metadata": {
    "execution": {
     "iopub.execute_input": "2025-08-05T16:28:39.179477Z",
     "iopub.status.busy": "2025-08-05T16:28:39.178947Z",
     "iopub.status.idle": "2025-08-05T16:28:40.535396Z",
     "shell.execute_reply": "2025-08-05T16:28:40.534276Z"
    },
    "papermill": {
     "duration": 1.380985,
     "end_time": "2025-08-05T16:28:40.537722",
     "exception": false,
     "start_time": "2025-08-05T16:28:39.156737",
     "status": "completed"
    },
    "tags": []
   },
   "outputs": [
    {
     "data": {
      "text/html": [
       "<style>#sk-container-id-1 {color: black;background-color: white;}#sk-container-id-1 pre{padding: 0;}#sk-container-id-1 div.sk-toggleable {background-color: white;}#sk-container-id-1 label.sk-toggleable__label {cursor: pointer;display: block;width: 100%;margin-bottom: 0;padding: 0.3em;box-sizing: border-box;text-align: center;}#sk-container-id-1 label.sk-toggleable__label-arrow:before {content: \"▸\";float: left;margin-right: 0.25em;color: #696969;}#sk-container-id-1 label.sk-toggleable__label-arrow:hover:before {color: black;}#sk-container-id-1 div.sk-estimator:hover label.sk-toggleable__label-arrow:before {color: black;}#sk-container-id-1 div.sk-toggleable__content {max-height: 0;max-width: 0;overflow: hidden;text-align: left;background-color: #f0f8ff;}#sk-container-id-1 div.sk-toggleable__content pre {margin: 0.2em;color: black;border-radius: 0.25em;background-color: #f0f8ff;}#sk-container-id-1 input.sk-toggleable__control:checked~div.sk-toggleable__content {max-height: 200px;max-width: 100%;overflow: auto;}#sk-container-id-1 input.sk-toggleable__control:checked~label.sk-toggleable__label-arrow:before {content: \"▾\";}#sk-container-id-1 div.sk-estimator input.sk-toggleable__control:checked~label.sk-toggleable__label {background-color: #d4ebff;}#sk-container-id-1 div.sk-label input.sk-toggleable__control:checked~label.sk-toggleable__label {background-color: #d4ebff;}#sk-container-id-1 input.sk-hidden--visually {border: 0;clip: rect(1px 1px 1px 1px);clip: rect(1px, 1px, 1px, 1px);height: 1px;margin: -1px;overflow: hidden;padding: 0;position: absolute;width: 1px;}#sk-container-id-1 div.sk-estimator {font-family: monospace;background-color: #f0f8ff;border: 1px dotted black;border-radius: 0.25em;box-sizing: border-box;margin-bottom: 0.5em;}#sk-container-id-1 div.sk-estimator:hover {background-color: #d4ebff;}#sk-container-id-1 div.sk-parallel-item::after {content: \"\";width: 100%;border-bottom: 1px solid gray;flex-grow: 1;}#sk-container-id-1 div.sk-label:hover label.sk-toggleable__label {background-color: #d4ebff;}#sk-container-id-1 div.sk-serial::before {content: \"\";position: absolute;border-left: 1px solid gray;box-sizing: border-box;top: 0;bottom: 0;left: 50%;z-index: 0;}#sk-container-id-1 div.sk-serial {display: flex;flex-direction: column;align-items: center;background-color: white;padding-right: 0.2em;padding-left: 0.2em;position: relative;}#sk-container-id-1 div.sk-item {position: relative;z-index: 1;}#sk-container-id-1 div.sk-parallel {display: flex;align-items: stretch;justify-content: center;background-color: white;position: relative;}#sk-container-id-1 div.sk-item::before, #sk-container-id-1 div.sk-parallel-item::before {content: \"\";position: absolute;border-left: 1px solid gray;box-sizing: border-box;top: 0;bottom: 0;left: 50%;z-index: -1;}#sk-container-id-1 div.sk-parallel-item {display: flex;flex-direction: column;z-index: 1;position: relative;background-color: white;}#sk-container-id-1 div.sk-parallel-item:first-child::after {align-self: flex-end;width: 50%;}#sk-container-id-1 div.sk-parallel-item:last-child::after {align-self: flex-start;width: 50%;}#sk-container-id-1 div.sk-parallel-item:only-child::after {width: 0;}#sk-container-id-1 div.sk-dashed-wrapped {border: 1px dashed gray;margin: 0 0.4em 0.5em 0.4em;box-sizing: border-box;padding-bottom: 0.4em;background-color: white;}#sk-container-id-1 div.sk-label label {font-family: monospace;font-weight: bold;display: inline-block;line-height: 1.2em;}#sk-container-id-1 div.sk-label-container {text-align: center;}#sk-container-id-1 div.sk-container {/* jupyter's `normalize.less` sets `[hidden] { display: none; }` but bootstrap.min.css set `[hidden] { display: none !important; }` so we also need the `!important` here to be able to override the default hidden behavior on the sphinx rendered scikit-learn.org. See: https://github.com/scikit-learn/scikit-learn/issues/21755 */display: inline-block !important;position: relative;}#sk-container-id-1 div.sk-text-repr-fallback {display: none;}</style><div id=\"sk-container-id-1\" class=\"sk-top-container\"><div class=\"sk-text-repr-fallback\"><pre>Pipeline(steps=[(&#x27;scale&#x27;, None), (&#x27;model&#x27;, GradientBoostingClassifier())])</pre><b>In a Jupyter environment, please rerun this cell to show the HTML representation or trust the notebook. <br />On GitHub, the HTML representation is unable to render, please try loading this page with nbviewer.org.</b></div><div class=\"sk-container\" hidden><div class=\"sk-item sk-dashed-wrapped\"><div class=\"sk-label-container\"><div class=\"sk-label sk-toggleable\"><input class=\"sk-toggleable__control sk-hidden--visually\" id=\"sk-estimator-id-1\" type=\"checkbox\" ><label for=\"sk-estimator-id-1\" class=\"sk-toggleable__label sk-toggleable__label-arrow\">Pipeline</label><div class=\"sk-toggleable__content\"><pre>Pipeline(steps=[(&#x27;scale&#x27;, None), (&#x27;model&#x27;, GradientBoostingClassifier())])</pre></div></div></div><div class=\"sk-serial\"><div class=\"sk-item\"><div class=\"sk-estimator sk-toggleable\"><input class=\"sk-toggleable__control sk-hidden--visually\" id=\"sk-estimator-id-2\" type=\"checkbox\" ><label for=\"sk-estimator-id-2\" class=\"sk-toggleable__label sk-toggleable__label-arrow\">None</label><div class=\"sk-toggleable__content\"><pre>None</pre></div></div></div><div class=\"sk-item\"><div class=\"sk-estimator sk-toggleable\"><input class=\"sk-toggleable__control sk-hidden--visually\" id=\"sk-estimator-id-3\" type=\"checkbox\" ><label for=\"sk-estimator-id-3\" class=\"sk-toggleable__label sk-toggleable__label-arrow\">GradientBoostingClassifier</label><div class=\"sk-toggleable__content\"><pre>GradientBoostingClassifier()</pre></div></div></div></div></div></div></div>"
      ],
      "text/plain": [
       "Pipeline(steps=[('scale', None), ('model', GradientBoostingClassifier())])"
      ]
     },
     "execution_count": 32,
     "metadata": {},
     "output_type": "execute_result"
    }
   ],
   "source": [
    "model.fit(X_train, y_train.values.ravel())"
   ]
  },
  {
   "cell_type": "code",
   "execution_count": 33,
   "id": "af59f8c0",
   "metadata": {
    "execution": {
     "iopub.execute_input": "2025-08-05T16:28:40.584115Z",
     "iopub.status.busy": "2025-08-05T16:28:40.583198Z",
     "iopub.status.idle": "2025-08-05T16:28:40.589390Z",
     "shell.execute_reply": "2025-08-05T16:28:40.588390Z"
    },
    "papermill": {
     "duration": 0.031035,
     "end_time": "2025-08-05T16:28:40.591289",
     "exception": false,
     "start_time": "2025-08-05T16:28:40.560254",
     "status": "completed"
    },
    "tags": []
   },
   "outputs": [],
   "source": [
    "from fairness_multiverse.universe import predict_w_threshold"
   ]
  },
  {
   "cell_type": "code",
   "execution_count": 34,
   "id": "a7cf2e16",
   "metadata": {
    "execution": {
     "iopub.execute_input": "2025-08-05T16:28:40.643520Z",
     "iopub.status.busy": "2025-08-05T16:28:40.642915Z",
     "iopub.status.idle": "2025-08-05T16:28:41.314597Z",
     "shell.execute_reply": "2025-08-05T16:28:41.313485Z"
    },
    "papermill": {
     "duration": 0.700083,
     "end_time": "2025-08-05T16:28:41.317136",
     "exception": false,
     "start_time": "2025-08-05T16:28:40.617053",
     "status": "completed"
    },
    "tags": []
   },
   "outputs": [
    {
     "data": {
      "text/plain": [
       "0.8408761565042916"
      ]
     },
     "execution_count": 34,
     "metadata": {},
     "output_type": "execute_result"
    }
   ],
   "source": [
    "probs_test = model.predict_proba(X_test)\n",
    "\n",
    "'''\n",
    "Below code returns a boolean array (or binary 0/1 array depending on how it’s used) where each element \n",
    "is True if the probability of class 1 is greater than or equal to the threshold, and False otherwise.\n",
    "'''\n",
    "y_pred_default = predict_w_threshold(probs_test, 0.5)\n",
    "\n",
    "from sklearn.metrics import accuracy_score\n",
    "\n",
    "# Naive prediction\n",
    "accuracy_score(y_true = y_true, y_pred = y_pred_default)"
   ]
  },
  {
   "cell_type": "code",
   "execution_count": 35,
   "id": "081964c3",
   "metadata": {
    "execution": {
     "iopub.execute_input": "2025-08-05T16:28:41.370284Z",
     "iopub.status.busy": "2025-08-05T16:28:41.369570Z",
     "iopub.status.idle": "2025-08-05T16:28:41.957611Z",
     "shell.execute_reply": "2025-08-05T16:28:41.956495Z"
    },
    "papermill": {
     "duration": 0.615596,
     "end_time": "2025-08-05T16:28:41.959669",
     "exception": false,
     "start_time": "2025-08-05T16:28:41.344073",
     "status": "completed"
    },
    "tags": []
   },
   "outputs": [
    {
     "data": {
      "text/plain": [
       "array([0, 0, 0, ..., 0, 0, 0])"
      ]
     },
     "execution_count": 35,
     "metadata": {},
     "output_type": "execute_result"
    }
   ],
   "source": [
    "model.predict(X_test)"
   ]
  },
  {
   "cell_type": "markdown",
   "id": "56c9705b",
   "metadata": {
    "papermill": {
     "duration": 0.023849,
     "end_time": "2025-08-05T16:28:42.010689",
     "exception": false,
     "start_time": "2025-08-05T16:28:41.986840",
     "status": "completed"
    },
    "tags": []
   },
   "source": [
    "# Conformal Prediction"
   ]
  },
  {
   "cell_type": "code",
   "execution_count": 36,
   "id": "160ec6ff",
   "metadata": {
    "execution": {
     "iopub.execute_input": "2025-08-05T16:28:42.060317Z",
     "iopub.status.busy": "2025-08-05T16:28:42.059746Z",
     "iopub.status.idle": "2025-08-05T16:28:42.065828Z",
     "shell.execute_reply": "2025-08-05T16:28:42.064694Z"
    },
    "papermill": {
     "duration": 0.033686,
     "end_time": "2025-08-05T16:28:42.067710",
     "exception": false,
     "start_time": "2025-08-05T16:28:42.034024",
     "status": "completed"
    },
    "tags": []
   },
   "outputs": [],
   "source": [
    "# Miscoverage level for conformal prediction (10% allowed error rate => 90% target coverage)\n",
    "alpha = 0.1"
   ]
  },
  {
   "cell_type": "code",
   "execution_count": 37,
   "id": "eadf4555-3dd3-440e-8e35-f82a4ad9f855",
   "metadata": {
    "execution": {
     "iopub.execute_input": "2025-08-05T16:28:42.117618Z",
     "iopub.status.busy": "2025-08-05T16:28:42.116613Z",
     "iopub.status.idle": "2025-08-05T16:28:42.683452Z",
     "shell.execute_reply": "2025-08-05T16:28:42.682226Z"
    },
    "papermill": {
     "duration": 0.593358,
     "end_time": "2025-08-05T16:28:42.685654",
     "exception": false,
     "start_time": "2025-08-05T16:28:42.092296",
     "status": "completed"
    },
    "tags": []
   },
   "outputs": [],
   "source": [
    "probs_calib = model.predict_proba(X_calib)"
   ]
  },
  {
   "cell_type": "code",
   "execution_count": 38,
   "id": "2ed93547-6d5d-4983-9b36-1ecb300da49a",
   "metadata": {
    "execution": {
     "iopub.execute_input": "2025-08-05T16:28:42.741710Z",
     "iopub.status.busy": "2025-08-05T16:28:42.741253Z",
     "iopub.status.idle": "2025-08-05T16:28:42.747561Z",
     "shell.execute_reply": "2025-08-05T16:28:42.746475Z"
    },
    "papermill": {
     "duration": 0.032334,
     "end_time": "2025-08-05T16:28:42.749407",
     "exception": false,
     "start_time": "2025-08-05T16:28:42.717073",
     "status": "completed"
    },
    "tags": []
   },
   "outputs": [],
   "source": [
    "y_calib = y_calib.values.ravel().astype(int)"
   ]
  },
  {
   "cell_type": "code",
   "execution_count": 39,
   "id": "65d1320d-f588-4b38-9072-62af1ae97f7d",
   "metadata": {
    "execution": {
     "iopub.execute_input": "2025-08-05T16:28:42.796389Z",
     "iopub.status.busy": "2025-08-05T16:28:42.795711Z",
     "iopub.status.idle": "2025-08-05T16:28:42.803961Z",
     "shell.execute_reply": "2025-08-05T16:28:42.802766Z"
    },
    "papermill": {
     "duration": 0.033311,
     "end_time": "2025-08-05T16:28:42.805665",
     "exception": false,
     "start_time": "2025-08-05T16:28:42.772354",
     "status": "completed"
    },
    "tags": []
   },
   "outputs": [],
   "source": [
    "from fairness_multiverse.conformal import compute_nc_scores\n",
    "\n",
    "# Compute nonconformity scores on calibration set (1 - probability of true class)\n",
    "nc_scores = compute_nc_scores(probs_calib, y_calib)"
   ]
  },
  {
   "cell_type": "code",
   "execution_count": 40,
   "id": "df3b8ca3-53b7-43d5-9667-7c85da7aeda2",
   "metadata": {
    "execution": {
     "iopub.execute_input": "2025-08-05T16:28:42.853660Z",
     "iopub.status.busy": "2025-08-05T16:28:42.852847Z",
     "iopub.status.idle": "2025-08-05T16:28:42.860326Z",
     "shell.execute_reply": "2025-08-05T16:28:42.859334Z"
    },
    "papermill": {
     "duration": 0.033194,
     "end_time": "2025-08-05T16:28:42.862187",
     "exception": false,
     "start_time": "2025-08-05T16:28:42.828993",
     "status": "completed"
    },
    "tags": []
   },
   "outputs": [],
   "source": [
    "from fairness_multiverse.conformal import find_threshold\n",
    "\n",
    "# Find conformal threshold q_hat for the given alpha (split conformal method)\n",
    "q_hat = find_threshold(nc_scores, alpha)"
   ]
  },
  {
   "cell_type": "code",
   "execution_count": 41,
   "id": "4d29e6c1-0ef6-4aa4-b8fe-4fe79b0d033a",
   "metadata": {
    "execution": {
     "iopub.execute_input": "2025-08-05T16:28:42.909229Z",
     "iopub.status.busy": "2025-08-05T16:28:42.908413Z",
     "iopub.status.idle": "2025-08-05T16:28:42.917088Z",
     "shell.execute_reply": "2025-08-05T16:28:42.915939Z"
    },
    "papermill": {
     "duration": 0.034529,
     "end_time": "2025-08-05T16:28:42.919113",
     "exception": false,
     "start_time": "2025-08-05T16:28:42.884584",
     "status": "completed"
    },
    "tags": []
   },
   "outputs": [
    {
     "data": {
      "text/plain": [
       "0.7606654627191932"
      ]
     },
     "execution_count": 41,
     "metadata": {},
     "output_type": "execute_result"
    }
   ],
   "source": [
    "q_hat"
   ]
  },
  {
   "cell_type": "code",
   "execution_count": 42,
   "id": "92460794-cdac-4be2-ba28-f28c0515a6fb",
   "metadata": {
    "execution": {
     "iopub.execute_input": "2025-08-05T16:28:42.975885Z",
     "iopub.status.busy": "2025-08-05T16:28:42.975207Z",
     "iopub.status.idle": "2025-08-05T16:28:44.980477Z",
     "shell.execute_reply": "2025-08-05T16:28:44.979257Z"
    },
    "papermill": {
     "duration": 2.035761,
     "end_time": "2025-08-05T16:28:44.982806",
     "exception": false,
     "start_time": "2025-08-05T16:28:42.947045",
     "status": "completed"
    },
    "tags": []
   },
   "outputs": [],
   "source": [
    "from fairness_multiverse.conformal import predict_conformal_sets\n",
    "\n",
    "# Generate prediction sets for each test example\n",
    "pred_sets = predict_conformal_sets(model, X_test, q_hat)"
   ]
  },
  {
   "cell_type": "code",
   "execution_count": 43,
   "id": "d90c9a65-e6db-4f5d-80cd-e68fb7e46829",
   "metadata": {
    "execution": {
     "iopub.execute_input": "2025-08-05T16:28:45.036038Z",
     "iopub.status.busy": "2025-08-05T16:28:45.034980Z",
     "iopub.status.idle": "2025-08-05T16:28:45.042857Z",
     "shell.execute_reply": "2025-08-05T16:28:45.041569Z"
    },
    "papermill": {
     "duration": 0.03773,
     "end_time": "2025-08-05T16:28:45.044905",
     "exception": false,
     "start_time": "2025-08-05T16:28:45.007175",
     "status": "completed"
    },
    "tags": []
   },
   "outputs": [],
   "source": [
    "y_true = y_true.squeeze()"
   ]
  },
  {
   "cell_type": "code",
   "execution_count": 44,
   "id": "3a58a54a-1e68-46b9-927a-df01f18aebc8",
   "metadata": {
    "execution": {
     "iopub.execute_input": "2025-08-05T16:28:45.096120Z",
     "iopub.status.busy": "2025-08-05T16:28:45.095353Z",
     "iopub.status.idle": "2025-08-05T16:28:45.956096Z",
     "shell.execute_reply": "2025-08-05T16:28:45.955131Z"
    },
    "papermill": {
     "duration": 0.887421,
     "end_time": "2025-08-05T16:28:45.957956",
     "exception": false,
     "start_time": "2025-08-05T16:28:45.070535",
     "status": "completed"
    },
    "tags": []
   },
   "outputs": [],
   "source": [
    "from fairness_multiverse.conformal import evaluate_sets\n",
    "\n",
    "# Evaluate coverage and average set size on test data\n",
    "metrics = evaluate_sets(pred_sets, y_true)"
   ]
  },
  {
   "cell_type": "markdown",
   "id": "2b569c12-9aaa-4c88-98c9-bbcd0cf3ebb8",
   "metadata": {
    "papermill": {
     "duration": 0.013435,
     "end_time": "2025-08-05T16:28:45.985180",
     "exception": false,
     "start_time": "2025-08-05T16:28:45.971745",
     "status": "completed"
    },
    "tags": []
   },
   "source": [
    "# CP Metrics"
   ]
  },
  {
   "cell_type": "code",
   "execution_count": 45,
   "id": "5ce0a5cb-201f-45a0-ade5-94c7f0bd6095",
   "metadata": {
    "execution": {
     "iopub.execute_input": "2025-08-05T16:28:46.013454Z",
     "iopub.status.busy": "2025-08-05T16:28:46.012802Z",
     "iopub.status.idle": "2025-08-05T16:28:46.020467Z",
     "shell.execute_reply": "2025-08-05T16:28:46.019538Z"
    },
    "papermill": {
     "duration": 0.023776,
     "end_time": "2025-08-05T16:28:46.022102",
     "exception": false,
     "start_time": "2025-08-05T16:28:45.998326",
     "status": "completed"
    },
    "tags": []
   },
   "outputs": [
    {
     "data": {
      "text/plain": [
       "{'coverage': 0.9097870917400512, 'avg_size': 1.1733920410210679}"
      ]
     },
     "execution_count": 45,
     "metadata": {},
     "output_type": "execute_result"
    }
   ],
   "source": [
    "metrics"
   ]
  },
  {
   "cell_type": "code",
   "execution_count": 46,
   "id": "9b9a838d-31c9-430b-ae14-12baee460d17",
   "metadata": {
    "execution": {
     "iopub.execute_input": "2025-08-05T16:28:46.050888Z",
     "iopub.status.busy": "2025-08-05T16:28:46.050097Z",
     "iopub.status.idle": "2025-08-05T16:28:46.056463Z",
     "shell.execute_reply": "2025-08-05T16:28:46.055605Z"
    },
    "papermill": {
     "duration": 0.022188,
     "end_time": "2025-08-05T16:28:46.058126",
     "exception": false,
     "start_time": "2025-08-05T16:28:46.035938",
     "status": "completed"
    },
    "tags": []
   },
   "outputs": [],
   "source": [
    "example_universe = universe.copy()\n",
    "universe_training_year = example_universe.get(\"training_year\")\n",
    "universe_training_size = example_universe.get(\"training_size\")\n",
    "universe_scale = example_universe.get(\"scale\")\n",
    "universe_model = example_universe.get(\"model\")\n",
    "universe_exclude_features = example_universe.get(\"exclude_features\")\n",
    "universe_exclude_subgroups = example_universe.get(\"exclude_subgroups\")"
   ]
  },
  {
   "cell_type": "code",
   "execution_count": 47,
   "id": "f4b6a8ac-9dc0-4245-8a91-5b3b5999c4f9",
   "metadata": {
    "execution": {
     "iopub.execute_input": "2025-08-05T16:28:46.087081Z",
     "iopub.status.busy": "2025-08-05T16:28:46.086457Z",
     "iopub.status.idle": "2025-08-05T16:28:46.092832Z",
     "shell.execute_reply": "2025-08-05T16:28:46.091996Z"
    },
    "papermill": {
     "duration": 0.022462,
     "end_time": "2025-08-05T16:28:46.094410",
     "exception": false,
     "start_time": "2025-08-05T16:28:46.071948",
     "status": "completed"
    },
    "tags": []
   },
   "outputs": [],
   "source": [
    "cp_metrics_dict = {\n",
    "    \"universe_id\": [universe_id],\n",
    "    \"universe_training_year\": [universe_training_year],\n",
    "    \"universe_training_size\": [universe_training_size],\n",
    "    \"universe_scale\": [universe_scale],\n",
    "    \"universe_model\": [universe_model],\n",
    "    \"universe_exclude_features\": [universe_exclude_features],\n",
    "    \"universe_exclude_subgroups\": [universe_exclude_subgroups],\n",
    "    \"q_hat\": [q_hat],\n",
    "    \"coverage\": [metrics[\"coverage\"]],\n",
    "    \"avg_size\": [metrics[\"avg_size\"]],\n",
    "}"
   ]
  },
  {
   "cell_type": "code",
   "execution_count": 48,
   "id": "908acbb1-0371-4915-85ca-3fa520d2efe2",
   "metadata": {
    "execution": {
     "iopub.execute_input": "2025-08-05T16:28:46.123560Z",
     "iopub.status.busy": "2025-08-05T16:28:46.122454Z",
     "iopub.status.idle": "2025-08-05T16:28:46.130510Z",
     "shell.execute_reply": "2025-08-05T16:28:46.129505Z"
    },
    "papermill": {
     "duration": 0.023821,
     "end_time": "2025-08-05T16:28:46.132102",
     "exception": false,
     "start_time": "2025-08-05T16:28:46.108281",
     "status": "completed"
    },
    "tags": []
   },
   "outputs": [
    {
     "data": {
      "text/plain": [
       "{'universe_id': ['89da853452abe3aa6829ee6d35a9c88c'],\n",
       " 'universe_training_year': ['2012_14'],\n",
       " 'universe_training_size': ['1k'],\n",
       " 'universe_scale': ['do-not-scale'],\n",
       " 'universe_model': ['gbm'],\n",
       " 'universe_exclude_features': ['sex'],\n",
       " 'universe_exclude_subgroups': ['keep-all'],\n",
       " 'q_hat': [0.7606654627191932],\n",
       " 'coverage': [0.9097870917400512],\n",
       " 'avg_size': [1.1733920410210679]}"
      ]
     },
     "execution_count": 48,
     "metadata": {},
     "output_type": "execute_result"
    }
   ],
   "source": [
    "cp_metrics_dict"
   ]
  },
  {
   "cell_type": "code",
   "execution_count": 49,
   "id": "33007efc-14e9-4ec6-97ac-56a455c82265",
   "metadata": {
    "execution": {
     "iopub.execute_input": "2025-08-05T16:28:46.162185Z",
     "iopub.status.busy": "2025-08-05T16:28:46.161549Z",
     "iopub.status.idle": "2025-08-05T16:28:46.168455Z",
     "shell.execute_reply": "2025-08-05T16:28:46.167506Z"
    },
    "papermill": {
     "duration": 0.02388,
     "end_time": "2025-08-05T16:28:46.170128",
     "exception": false,
     "start_time": "2025-08-05T16:28:46.146248",
     "status": "completed"
    },
    "tags": []
   },
   "outputs": [],
   "source": [
    "cp_metrics_df = pd.DataFrame(cp_metrics_dict)"
   ]
  },
  {
   "cell_type": "code",
   "execution_count": 50,
   "id": "db12611b-57b2-4910-b9d0-355adfd6e7bf",
   "metadata": {
    "execution": {
     "iopub.execute_input": "2025-08-05T16:28:46.200721Z",
     "iopub.status.busy": "2025-08-05T16:28:46.200080Z",
     "iopub.status.idle": "2025-08-05T16:28:46.217580Z",
     "shell.execute_reply": "2025-08-05T16:28:46.216575Z"
    },
    "papermill": {
     "duration": 0.034323,
     "end_time": "2025-08-05T16:28:46.219217",
     "exception": false,
     "start_time": "2025-08-05T16:28:46.184894",
     "status": "completed"
    },
    "tags": []
   },
   "outputs": [
    {
     "data": {
      "text/html": [
       "<div>\n",
       "<style scoped>\n",
       "    .dataframe tbody tr th:only-of-type {\n",
       "        vertical-align: middle;\n",
       "    }\n",
       "\n",
       "    .dataframe tbody tr th {\n",
       "        vertical-align: top;\n",
       "    }\n",
       "\n",
       "    .dataframe thead th {\n",
       "        text-align: right;\n",
       "    }\n",
       "</style>\n",
       "<table border=\"1\" class=\"dataframe\">\n",
       "  <thead>\n",
       "    <tr style=\"text-align: right;\">\n",
       "      <th></th>\n",
       "      <th>universe_id</th>\n",
       "      <th>universe_training_year</th>\n",
       "      <th>universe_training_size</th>\n",
       "      <th>universe_scale</th>\n",
       "      <th>universe_model</th>\n",
       "      <th>universe_exclude_features</th>\n",
       "      <th>universe_exclude_subgroups</th>\n",
       "      <th>q_hat</th>\n",
       "      <th>coverage</th>\n",
       "      <th>avg_size</th>\n",
       "    </tr>\n",
       "  </thead>\n",
       "  <tbody>\n",
       "    <tr>\n",
       "      <th>0</th>\n",
       "      <td>89da853452abe3aa6829ee6d35a9c88c</td>\n",
       "      <td>2012_14</td>\n",
       "      <td>1k</td>\n",
       "      <td>do-not-scale</td>\n",
       "      <td>gbm</td>\n",
       "      <td>sex</td>\n",
       "      <td>keep-all</td>\n",
       "      <td>0.760665</td>\n",
       "      <td>0.909787</td>\n",
       "      <td>1.173392</td>\n",
       "    </tr>\n",
       "  </tbody>\n",
       "</table>\n",
       "</div>"
      ],
      "text/plain": [
       "                        universe_id universe_training_year  \\\n",
       "0  89da853452abe3aa6829ee6d35a9c88c                2012_14   \n",
       "\n",
       "  universe_training_size universe_scale universe_model  \\\n",
       "0                     1k   do-not-scale            gbm   \n",
       "\n",
       "  universe_exclude_features universe_exclude_subgroups     q_hat  coverage  \\\n",
       "0                       sex                   keep-all  0.760665  0.909787   \n",
       "\n",
       "   avg_size  \n",
       "0  1.173392  "
      ]
     },
     "execution_count": 50,
     "metadata": {},
     "output_type": "execute_result"
    }
   ],
   "source": [
    "cp_metrics_df"
   ]
  },
  {
   "cell_type": "code",
   "execution_count": 51,
   "id": "b7fbde55-a0a1-47e4-9af6-fe4a17fa8c61",
   "metadata": {
    "execution": {
     "iopub.execute_input": "2025-08-05T16:28:46.250210Z",
     "iopub.status.busy": "2025-08-05T16:28:46.249319Z",
     "iopub.status.idle": "2025-08-05T16:28:46.254627Z",
     "shell.execute_reply": "2025-08-05T16:28:46.253753Z"
    },
    "papermill": {
     "duration": 0.022417,
     "end_time": "2025-08-05T16:28:46.256283",
     "exception": false,
     "start_time": "2025-08-05T16:28:46.233866",
     "status": "completed"
    },
    "tags": []
   },
   "outputs": [],
   "source": [
    "# Conditional Coverage & looking at subgroups"
   ]
  },
  {
   "cell_type": "code",
   "execution_count": 52,
   "id": "027ae886-68dd-4141-96c7-805a5450e1ef",
   "metadata": {
    "execution": {
     "iopub.execute_input": "2025-08-05T16:28:46.287819Z",
     "iopub.status.busy": "2025-08-05T16:28:46.287200Z",
     "iopub.status.idle": "2025-08-05T16:28:46.538914Z",
     "shell.execute_reply": "2025-08-05T16:28:46.537644Z"
    },
    "papermill": {
     "duration": 0.26936,
     "end_time": "2025-08-05T16:28:46.540881",
     "exception": false,
     "start_time": "2025-08-05T16:28:46.271521",
     "status": "completed"
    },
    "tags": []
   },
   "outputs": [],
   "source": [
    "from fairness_multiverse.conformal import build_cp_groups\n",
    "\n",
    "cp_groups_df = build_cp_groups(pred_sets, y_true, X_test.index, org_test)\n",
    "#needs universe_id and setting"
   ]
  },
  {
   "cell_type": "code",
   "execution_count": 53,
   "id": "6cbdab96-b2b2-45af-ad54-d0516db2e28d",
   "metadata": {
    "execution": {
     "iopub.execute_input": "2025-08-05T16:28:46.579922Z",
     "iopub.status.busy": "2025-08-05T16:28:46.579511Z",
     "iopub.status.idle": "2025-08-05T16:28:48.308409Z",
     "shell.execute_reply": "2025-08-05T16:28:48.307401Z"
    },
    "papermill": {
     "duration": 1.746928,
     "end_time": "2025-08-05T16:28:48.310703",
     "exception": false,
     "start_time": "2025-08-05T16:28:46.563775",
     "status": "completed"
    },
    "tags": []
   },
   "outputs": [],
   "source": [
    "# Define covered = 1 if true_label is in the predicted set\n",
    "cp_groups_df['covered'] = cp_groups_df.apply(\n",
    "    lambda r: int(r['true_label'] in r['pred_set']),\n",
    "    axis=1\n",
    ")"
   ]
  },
  {
   "cell_type": "code",
   "execution_count": 54,
   "id": "338ff529-1a6b-4b87-a931-8e4788d52aad",
   "metadata": {
    "execution": {
     "iopub.execute_input": "2025-08-05T16:28:48.363058Z",
     "iopub.status.busy": "2025-08-05T16:28:48.362386Z",
     "iopub.status.idle": "2025-08-05T16:28:48.367945Z",
     "shell.execute_reply": "2025-08-05T16:28:48.366825Z"
    },
    "papermill": {
     "duration": 0.033026,
     "end_time": "2025-08-05T16:28:48.369908",
     "exception": false,
     "start_time": "2025-08-05T16:28:48.336882",
     "status": "completed"
    },
    "tags": []
   },
   "outputs": [],
   "source": [
    "#cp_groups_df"
   ]
  },
  {
   "cell_type": "code",
   "execution_count": 55,
   "id": "90032e27-66df-4540-9169-4e89cfbaa758",
   "metadata": {
    "execution": {
     "iopub.execute_input": "2025-08-05T16:28:48.420603Z",
     "iopub.status.busy": "2025-08-05T16:28:48.420095Z",
     "iopub.status.idle": "2025-08-05T16:28:48.433617Z",
     "shell.execute_reply": "2025-08-05T16:28:48.432421Z"
    },
    "papermill": {
     "duration": 0.041501,
     "end_time": "2025-08-05T16:28:48.435680",
     "exception": false,
     "start_time": "2025-08-05T16:28:48.394179",
     "status": "completed"
    },
    "tags": []
   },
   "outputs": [],
   "source": [
    "subgroups = ['frau1','nongerman','nongerman_male','nongerman_female']\n",
    "\n",
    "# Conditional coverage for subgroup==1\n",
    "cond_coverage = {\n",
    "    g: cp_groups_df.loc[cp_groups_df[g]==1, 'covered'].mean()\n",
    "    for g in subgroups\n",
    "}"
   ]
  },
  {
   "cell_type": "code",
   "execution_count": 56,
   "id": "1e348fb1-b9c3-45bc-ba23-f016827a7e0d",
   "metadata": {
    "execution": {
     "iopub.execute_input": "2025-08-05T16:28:48.487222Z",
     "iopub.status.busy": "2025-08-05T16:28:48.486532Z",
     "iopub.status.idle": "2025-08-05T16:28:48.494500Z",
     "shell.execute_reply": "2025-08-05T16:28:48.493454Z"
    },
    "papermill": {
     "duration": 0.035371,
     "end_time": "2025-08-05T16:28:48.496285",
     "exception": false,
     "start_time": "2025-08-05T16:28:48.460914",
     "status": "completed"
    },
    "tags": []
   },
   "outputs": [
    {
     "data": {
      "text/plain": [
       "{'frau1': 0.9068877207170778,\n",
       " 'nongerman': 0.9090551844158761,\n",
       " 'nongerman_male': 0.9260560208952535,\n",
       " 'nongerman_female': 0.8809239940387481}"
      ]
     },
     "execution_count": 56,
     "metadata": {},
     "output_type": "execute_result"
    }
   ],
   "source": [
    "cond_coverage"
   ]
  },
  {
   "cell_type": "code",
   "execution_count": 57,
   "id": "f5093324-c3dd-4d63-bc4c-8d945e5c8bbb",
   "metadata": {
    "execution": {
     "iopub.execute_input": "2025-08-05T16:28:48.548036Z",
     "iopub.status.busy": "2025-08-05T16:28:48.547112Z",
     "iopub.status.idle": "2025-08-05T16:28:48.555406Z",
     "shell.execute_reply": "2025-08-05T16:28:48.554349Z"
    },
    "papermill": {
     "duration": 0.035999,
     "end_time": "2025-08-05T16:28:48.557225",
     "exception": false,
     "start_time": "2025-08-05T16:28:48.521226",
     "status": "completed"
    },
    "tags": []
   },
   "outputs": [],
   "source": [
    "for subgroup, cov in cond_coverage.items():\n",
    "    cp_metrics_df[f\"cov_{subgroup}\"] = cov"
   ]
  },
  {
   "cell_type": "code",
   "execution_count": 58,
   "id": "6e872e10-dbe5-49e8-b554-5030c98ff75d",
   "metadata": {
    "execution": {
     "iopub.execute_input": "2025-08-05T16:28:48.609476Z",
     "iopub.status.busy": "2025-08-05T16:28:48.608549Z",
     "iopub.status.idle": "2025-08-05T16:28:48.631261Z",
     "shell.execute_reply": "2025-08-05T16:28:48.630039Z"
    },
    "papermill": {
     "duration": 0.050259,
     "end_time": "2025-08-05T16:28:48.633070",
     "exception": false,
     "start_time": "2025-08-05T16:28:48.582811",
     "status": "completed"
    },
    "tags": []
   },
   "outputs": [
    {
     "data": {
      "text/html": [
       "<div>\n",
       "<style scoped>\n",
       "    .dataframe tbody tr th:only-of-type {\n",
       "        vertical-align: middle;\n",
       "    }\n",
       "\n",
       "    .dataframe tbody tr th {\n",
       "        vertical-align: top;\n",
       "    }\n",
       "\n",
       "    .dataframe thead th {\n",
       "        text-align: right;\n",
       "    }\n",
       "</style>\n",
       "<table border=\"1\" class=\"dataframe\">\n",
       "  <thead>\n",
       "    <tr style=\"text-align: right;\">\n",
       "      <th></th>\n",
       "      <th>universe_id</th>\n",
       "      <th>universe_training_year</th>\n",
       "      <th>universe_training_size</th>\n",
       "      <th>universe_scale</th>\n",
       "      <th>universe_model</th>\n",
       "      <th>universe_exclude_features</th>\n",
       "      <th>universe_exclude_subgroups</th>\n",
       "      <th>q_hat</th>\n",
       "      <th>coverage</th>\n",
       "      <th>avg_size</th>\n",
       "      <th>cov_frau1</th>\n",
       "      <th>cov_nongerman</th>\n",
       "      <th>cov_nongerman_male</th>\n",
       "      <th>cov_nongerman_female</th>\n",
       "    </tr>\n",
       "  </thead>\n",
       "  <tbody>\n",
       "    <tr>\n",
       "      <th>0</th>\n",
       "      <td>89da853452abe3aa6829ee6d35a9c88c</td>\n",
       "      <td>2012_14</td>\n",
       "      <td>1k</td>\n",
       "      <td>do-not-scale</td>\n",
       "      <td>gbm</td>\n",
       "      <td>sex</td>\n",
       "      <td>keep-all</td>\n",
       "      <td>0.760665</td>\n",
       "      <td>0.909787</td>\n",
       "      <td>1.173392</td>\n",
       "      <td>0.906888</td>\n",
       "      <td>0.909055</td>\n",
       "      <td>0.926056</td>\n",
       "      <td>0.880924</td>\n",
       "    </tr>\n",
       "  </tbody>\n",
       "</table>\n",
       "</div>"
      ],
      "text/plain": [
       "                        universe_id universe_training_year  \\\n",
       "0  89da853452abe3aa6829ee6d35a9c88c                2012_14   \n",
       "\n",
       "  universe_training_size universe_scale universe_model  \\\n",
       "0                     1k   do-not-scale            gbm   \n",
       "\n",
       "  universe_exclude_features universe_exclude_subgroups     q_hat  coverage  \\\n",
       "0                       sex                   keep-all  0.760665  0.909787   \n",
       "\n",
       "   avg_size  cov_frau1  cov_nongerman  cov_nongerman_male  \\\n",
       "0  1.173392   0.906888       0.909055            0.926056   \n",
       "\n",
       "   cov_nongerman_female  \n",
       "0              0.880924  "
      ]
     },
     "execution_count": 58,
     "metadata": {},
     "output_type": "execute_result"
    }
   ],
   "source": [
    "cp_metrics_df"
   ]
  },
  {
   "cell_type": "markdown",
   "id": "33774451",
   "metadata": {
    "papermill": {
     "duration": 0.026572,
     "end_time": "2025-08-05T16:28:48.684933",
     "exception": false,
     "start_time": "2025-08-05T16:28:48.658361",
     "status": "completed"
    },
    "tags": []
   },
   "source": [
    "# (Fairness) Metrics"
   ]
  },
  {
   "cell_type": "code",
   "execution_count": 59,
   "id": "debc5d62",
   "metadata": {
    "execution": {
     "iopub.execute_input": "2025-08-05T16:28:48.736961Z",
     "iopub.status.busy": "2025-08-05T16:28:48.736365Z",
     "iopub.status.idle": "2025-08-05T16:28:48.760461Z",
     "shell.execute_reply": "2025-08-05T16:28:48.759425Z"
    },
    "papermill": {
     "duration": 0.052362,
     "end_time": "2025-08-05T16:28:48.762478",
     "exception": false,
     "start_time": "2025-08-05T16:28:48.710116",
     "status": "completed"
    },
    "tags": []
   },
   "outputs": [],
   "source": [
    "# do I need to include maxdeutsch1.missing?\n",
    "\n",
    "import numpy as np\n",
    "\n",
    "colname_to_bin = \"maxdeutsch1\"\n",
    "majority_value = org_train[colname_to_bin].mode()[0]\n",
    "\n",
    "org_test[\"majmin\"] = np.where(org_test[colname_to_bin] == majority_value, \"majority\", \"minority\")"
   ]
  },
  {
   "cell_type": "code",
   "execution_count": 60,
   "id": "06a50de5",
   "metadata": {
    "execution": {
     "iopub.execute_input": "2025-08-05T16:28:48.823246Z",
     "iopub.status.busy": "2025-08-05T16:28:48.822394Z",
     "iopub.status.idle": "2025-08-05T16:28:52.432026Z",
     "shell.execute_reply": "2025-08-05T16:28:52.430882Z"
    },
    "papermill": {
     "duration": 3.642335,
     "end_time": "2025-08-05T16:28:52.434491",
     "exception": false,
     "start_time": "2025-08-05T16:28:48.792156",
     "status": "completed"
    },
    "tags": []
   },
   "outputs": [],
   "source": [
    "example_universe = universe.copy()\n",
    "example_universe[\"cutoff\"] = example_universe[\"cutoff\"][0]\n",
    "example_universe[\"eval_fairness_grouping\"] = example_universe[\"eval_fairness_grouping\"][0]\n",
    "fairness_dict, metric_frame = universe_analysis.compute_metrics(\n",
    "    example_universe,\n",
    "    y_pred_prob=probs_test,\n",
    "    y_test=y_true,\n",
    "    org_test=org_test,\n",
    ")"
   ]
  },
  {
   "cell_type": "markdown",
   "id": "f95d4e02",
   "metadata": {
    "papermill": {
     "duration": 0.030835,
     "end_time": "2025-08-05T16:28:52.497717",
     "exception": false,
     "start_time": "2025-08-05T16:28:52.466882",
     "status": "completed"
    },
    "tags": []
   },
   "source": [
    "# Overall"
   ]
  },
  {
   "cell_type": "markdown",
   "id": "bdee4871",
   "metadata": {
    "papermill": {
     "duration": 0.031779,
     "end_time": "2025-08-05T16:28:52.560265",
     "exception": false,
     "start_time": "2025-08-05T16:28:52.528486",
     "status": "completed"
    },
    "tags": []
   },
   "source": [
    "Fairness\n",
    "Main fairness target: Equalized Odds. Seems to be a better fit than equal opportunity, since we're not only interested in Y = 1. Seems to be a better fit than demographic parity, since we also care about accuracy, not just equal distribution of preds.\n",
    "\n",
    "Pick column for computation of fairness metrics\n",
    "\n",
    "Performance\n",
    "Overall performance measures, most interesting in relation to the measures split by group below"
   ]
  },
  {
   "cell_type": "code",
   "execution_count": 61,
   "id": "c4e067c6",
   "metadata": {
    "execution": {
     "iopub.execute_input": "2025-08-05T16:28:52.613745Z",
     "iopub.status.busy": "2025-08-05T16:28:52.613091Z",
     "iopub.status.idle": "2025-08-05T16:28:52.623525Z",
     "shell.execute_reply": "2025-08-05T16:28:52.622345Z"
    },
    "papermill": {
     "duration": 0.039271,
     "end_time": "2025-08-05T16:28:52.625330",
     "exception": false,
     "start_time": "2025-08-05T16:28:52.586059",
     "status": "completed"
    },
    "tags": []
   },
   "outputs": [
    {
     "data": {
      "text/plain": [
       "accuracy                   0.222952\n",
       "balanced accuracy          0.545483\n",
       "f1                         0.244339\n",
       "precision                  0.139582\n",
       "false positive rate        0.888353\n",
       "false negative rate        0.020681\n",
       "selection rate             0.900022\n",
       "count                  89710.000000\n",
       "dtype: float64"
      ]
     },
     "execution_count": 61,
     "metadata": {},
     "output_type": "execute_result"
    }
   ],
   "source": [
    "metric_frame.overall"
   ]
  },
  {
   "cell_type": "markdown",
   "id": "e968fe9d",
   "metadata": {
    "papermill": {
     "duration": 0.025497,
     "end_time": "2025-08-05T16:28:52.678486",
     "exception": false,
     "start_time": "2025-08-05T16:28:52.652989",
     "status": "completed"
    },
    "tags": []
   },
   "source": [
    "By Group"
   ]
  },
  {
   "cell_type": "code",
   "execution_count": 62,
   "id": "ec325bce",
   "metadata": {
    "execution": {
     "iopub.execute_input": "2025-08-05T16:28:52.732837Z",
     "iopub.status.busy": "2025-08-05T16:28:52.731926Z",
     "iopub.status.idle": "2025-08-05T16:28:52.751558Z",
     "shell.execute_reply": "2025-08-05T16:28:52.750506Z"
    },
    "papermill": {
     "duration": 0.048273,
     "end_time": "2025-08-05T16:28:52.753609",
     "exception": false,
     "start_time": "2025-08-05T16:28:52.705336",
     "status": "completed"
    },
    "tags": []
   },
   "outputs": [
    {
     "data": {
      "text/html": [
       "<div>\n",
       "<style scoped>\n",
       "    .dataframe tbody tr th:only-of-type {\n",
       "        vertical-align: middle;\n",
       "    }\n",
       "\n",
       "    .dataframe tbody tr th {\n",
       "        vertical-align: top;\n",
       "    }\n",
       "\n",
       "    .dataframe thead th {\n",
       "        text-align: right;\n",
       "    }\n",
       "</style>\n",
       "<table border=\"1\" class=\"dataframe\">\n",
       "  <thead>\n",
       "    <tr style=\"text-align: right;\">\n",
       "      <th></th>\n",
       "      <th>accuracy</th>\n",
       "      <th>balanced accuracy</th>\n",
       "      <th>f1</th>\n",
       "      <th>precision</th>\n",
       "      <th>false positive rate</th>\n",
       "      <th>false negative rate</th>\n",
       "      <th>selection rate</th>\n",
       "      <th>count</th>\n",
       "    </tr>\n",
       "    <tr>\n",
       "      <th>majmin</th>\n",
       "      <th></th>\n",
       "      <th></th>\n",
       "      <th></th>\n",
       "      <th></th>\n",
       "      <th></th>\n",
       "      <th></th>\n",
       "      <th></th>\n",
       "      <th></th>\n",
       "    </tr>\n",
       "  </thead>\n",
       "  <tbody>\n",
       "    <tr>\n",
       "      <th>majority</th>\n",
       "      <td>0.244123</td>\n",
       "      <td>0.554362</td>\n",
       "      <td>0.254428</td>\n",
       "      <td>0.146279</td>\n",
       "      <td>0.867316</td>\n",
       "      <td>0.023961</td>\n",
       "      <td>0.881683</td>\n",
       "      <td>69170.0</td>\n",
       "    </tr>\n",
       "    <tr>\n",
       "      <th>minority</th>\n",
       "      <td>0.151655</td>\n",
       "      <td>0.517065</td>\n",
       "      <td>0.212358</td>\n",
       "      <td>0.118907</td>\n",
       "      <td>0.957847</td>\n",
       "      <td>0.008024</td>\n",
       "      <td>0.961782</td>\n",
       "      <td>20540.0</td>\n",
       "    </tr>\n",
       "  </tbody>\n",
       "</table>\n",
       "</div>"
      ],
      "text/plain": [
       "          accuracy  balanced accuracy        f1  precision  \\\n",
       "majmin                                                       \n",
       "majority  0.244123           0.554362  0.254428   0.146279   \n",
       "minority  0.151655           0.517065  0.212358   0.118907   \n",
       "\n",
       "          false positive rate  false negative rate  selection rate    count  \n",
       "majmin                                                                       \n",
       "majority             0.867316             0.023961        0.881683  69170.0  \n",
       "minority             0.957847             0.008024        0.961782  20540.0  "
      ]
     },
     "execution_count": 62,
     "metadata": {},
     "output_type": "execute_result"
    }
   ],
   "source": [
    "metric_frame.by_group"
   ]
  },
  {
   "cell_type": "code",
   "execution_count": 63,
   "id": "a9ddbe63",
   "metadata": {
    "execution": {
     "iopub.execute_input": "2025-08-05T16:28:52.811021Z",
     "iopub.status.busy": "2025-08-05T16:28:52.810464Z",
     "iopub.status.idle": "2025-08-05T16:28:55.629500Z",
     "shell.execute_reply": "2025-08-05T16:28:55.628443Z"
    },
    "papermill": {
     "duration": 2.848767,
     "end_time": "2025-08-05T16:28:55.631341",
     "exception": false,
     "start_time": "2025-08-05T16:28:52.782574",
     "status": "completed"
    },
    "tags": []
   },
   "outputs": [
    {
     "data": {
      "text/plain": [
       "array([[<Axes: title={'center': 'accuracy'}, xlabel='majmin'>,\n",
       "        <Axes: title={'center': 'balanced accuracy'}, xlabel='majmin'>,\n",
       "        <Axes: title={'center': 'f1'}, xlabel='majmin'>],\n",
       "       [<Axes: title={'center': 'precision'}, xlabel='majmin'>,\n",
       "        <Axes: title={'center': 'false positive rate'}, xlabel='majmin'>,\n",
       "        <Axes: title={'center': 'false negative rate'}, xlabel='majmin'>],\n",
       "       [<Axes: title={'center': 'selection rate'}, xlabel='majmin'>,\n",
       "        <Axes: title={'center': 'count'}, xlabel='majmin'>,\n",
       "        <Axes: xlabel='majmin'>]], dtype=object)"
      ]
     },
     "execution_count": 63,
     "metadata": {},
     "output_type": "execute_result"
    },
    {
     "data": {
      "image/png": "[encoded data removed]",
      "text/plain": [
       "<Figure size 1200x800 with 9 Axes>"
      ]
     },
     "metadata": {},
     "output_type": "display_data"
    }
   ],
   "source": [
    "# In a graphic\n",
    "metric_frame.by_group.plot.bar(\n",
    "    subplots=True,\n",
    "    layout=[3, 3],\n",
    "    legend=False,\n",
    "    figsize=[12, 8],\n",
    "    title=\"Show all metrics\",\n",
    ")"
   ]
  },
  {
   "cell_type": "markdown",
   "id": "f57a0bac",
   "metadata": {
    "papermill": {
     "duration": 0.029404,
     "end_time": "2025-08-05T16:28:55.689685",
     "exception": false,
     "start_time": "2025-08-05T16:28:55.660281",
     "status": "completed"
    },
    "tags": []
   },
   "source": [
    "# Final Output"
   ]
  },
  {
   "cell_type": "code",
   "execution_count": 64,
   "id": "96d280a3",
   "metadata": {
    "execution": {
     "iopub.execute_input": "2025-08-05T16:28:55.750668Z",
     "iopub.status.busy": "2025-08-05T16:28:55.749886Z",
     "iopub.status.idle": "2025-08-05T16:28:55.759267Z",
     "shell.execute_reply": "2025-08-05T16:28:55.758236Z"
    },
    "papermill": {
     "duration": 0.043792,
     "end_time": "2025-08-05T16:28:55.761063",
     "exception": false,
     "start_time": "2025-08-05T16:28:55.717271",
     "status": "completed"
    },
    "tags": []
   },
   "outputs": [
    {
     "data": {
      "text/plain": [
       "4"
      ]
     },
     "execution_count": 64,
     "metadata": {},
     "output_type": "execute_result"
    }
   ],
   "source": [
    "sub_universes = universe_analysis.generate_sub_universes()\n",
    "len(sub_universes)"
   ]
  },
  {
   "cell_type": "code",
   "execution_count": 65,
   "id": "92adf7ba",
   "metadata": {
    "execution": {
     "iopub.execute_input": "2025-08-05T16:28:55.819325Z",
     "iopub.status.busy": "2025-08-05T16:28:55.818455Z",
     "iopub.status.idle": "2025-08-05T16:28:55.825447Z",
     "shell.execute_reply": "2025-08-05T16:28:55.824425Z"
    },
    "papermill": {
     "duration": 0.037692,
     "end_time": "2025-08-05T16:28:55.827277",
     "exception": false,
     "start_time": "2025-08-05T16:28:55.789585",
     "status": "completed"
    },
    "tags": []
   },
   "outputs": [],
   "source": [
    "def filter_sub_universe_data(sub_universe, org_test):\n",
    "    # Keep all rows — no filtering\n",
    "    keep_rows_mask = np.ones(org_test.shape[0], dtype=bool)\n",
    "\n",
    "    print(f\"[INFO] Keeping all rows: {keep_rows_mask.sum()} rows retained.\")\n",
    "    return keep_rows_mask"
   ]
  },
  {
   "cell_type": "code",
   "execution_count": 66,
   "id": "4a759155",
   "metadata": {
    "execution": {
     "iopub.execute_input": "2025-08-05T16:28:55.885608Z",
     "iopub.status.busy": "2025-08-05T16:28:55.884635Z",
     "iopub.status.idle": "2025-08-05T16:29:08.874316Z",
     "shell.execute_reply": "2025-08-05T16:29:08.872762Z"
    },
    "papermill": {
     "duration": 13.020996,
     "end_time": "2025-08-05T16:29:08.876286",
     "exception": false,
     "start_time": "2025-08-05T16:28:55.855290",
     "status": "completed"
    },
    "tags": []
   },
   "outputs": [
    {
     "name": "stdout",
     "output_type": "stream",
     "text": [
      "Stopping execution_time clock.\n",
      "[INFO] Keeping all rows: 89710 rows retained.\n"
     ]
    },
    {
     "name": "stdout",
     "output_type": "stream",
     "text": [
      "[INFO] Keeping all rows: 89710 rows retained.\n"
     ]
    },
    {
     "name": "stdout",
     "output_type": "stream",
     "text": [
      "[INFO] Keeping all rows: 89710 rows retained.\n"
     ]
    },
    {
     "name": "stdout",
     "output_type": "stream",
     "text": [
      "[INFO] Keeping all rows: 89710 rows retained.\n"
     ]
    },
    {
     "data": {
      "text/html": [
       "<div>\n",
       "<style scoped>\n",
       "    .dataframe tbody tr th:only-of-type {\n",
       "        vertical-align: middle;\n",
       "    }\n",
       "\n",
       "    .dataframe tbody tr th {\n",
       "        vertical-align: top;\n",
       "    }\n",
       "\n",
       "    .dataframe thead th {\n",
       "        text-align: right;\n",
       "    }\n",
       "</style>\n",
       "<table border=\"1\" class=\"dataframe\">\n",
       "  <thead>\n",
       "    <tr style=\"text-align: right;\">\n",
       "      <th></th>\n",
       "      <th>run_no</th>\n",
       "      <th>universe_id</th>\n",
       "      <th>universe_settings</th>\n",
       "      <th>execution_time</th>\n",
       "      <th>test_size_n</th>\n",
       "      <th>test_size_frac</th>\n",
       "      <th>fair_main_equalized_odds_difference</th>\n",
       "      <th>fair_main_equalized_odds_ratio</th>\n",
       "      <th>fair_main_demographic_parity_difference</th>\n",
       "      <th>fair_main_demographic_parity_ratio</th>\n",
       "      <th>...</th>\n",
       "      <th>perf_grp_precision_0</th>\n",
       "      <th>perf_grp_precision_1</th>\n",
       "      <th>perf_grp_false positive rate_0</th>\n",
       "      <th>perf_grp_false positive rate_1</th>\n",
       "      <th>perf_grp_false negative rate_0</th>\n",
       "      <th>perf_grp_false negative rate_1</th>\n",
       "      <th>perf_grp_selection rate_0</th>\n",
       "      <th>perf_grp_selection rate_1</th>\n",
       "      <th>perf_grp_count_0</th>\n",
       "      <th>perf_grp_count_1</th>\n",
       "    </tr>\n",
       "  </thead>\n",
       "  <tbody>\n",
       "    <tr>\n",
       "      <th>0</th>\n",
       "      <td>15</td>\n",
       "      <td>89da853452abe3aa6829ee6d35a9c88c</td>\n",
       "      <td>{\"cutoff\": \"quantile_0.1\", \"eval_fairness_grou...</td>\n",
       "      <td>32.514257</td>\n",
       "      <td>89710</td>\n",
       "      <td>1.0</td>\n",
       "      <td>0.090531</td>\n",
       "      <td>0.905485</td>\n",
       "      <td>0.080099</td>\n",
       "      <td>0.916718</td>\n",
       "      <td>...</td>\n",
       "      <td>NaN</td>\n",
       "      <td>NaN</td>\n",
       "      <td>NaN</td>\n",
       "      <td>NaN</td>\n",
       "      <td>NaN</td>\n",
       "      <td>NaN</td>\n",
       "      <td>NaN</td>\n",
       "      <td>NaN</td>\n",
       "      <td>NaN</td>\n",
       "      <td>NaN</td>\n",
       "    </tr>\n",
       "    <tr>\n",
       "      <th>0</th>\n",
       "      <td>15</td>\n",
       "      <td>89da853452abe3aa6829ee6d35a9c88c</td>\n",
       "      <td>{\"cutoff\": \"quantile_0.1\", \"eval_fairness_grou...</td>\n",
       "      <td>32.514257</td>\n",
       "      <td>89710</td>\n",
       "      <td>1.0</td>\n",
       "      <td>0.090531</td>\n",
       "      <td>0.905485</td>\n",
       "      <td>0.080099</td>\n",
       "      <td>0.916718</td>\n",
       "      <td>...</td>\n",
       "      <td>0.118907</td>\n",
       "      <td>0.146279</td>\n",
       "      <td>0.957847</td>\n",
       "      <td>0.867316</td>\n",
       "      <td>0.008024</td>\n",
       "      <td>0.023961</td>\n",
       "      <td>0.961782</td>\n",
       "      <td>0.881683</td>\n",
       "      <td>20540.0</td>\n",
       "      <td>69170.0</td>\n",
       "    </tr>\n",
       "    <tr>\n",
       "      <th>0</th>\n",
       "      <td>15</td>\n",
       "      <td>89da853452abe3aa6829ee6d35a9c88c</td>\n",
       "      <td>{\"cutoff\": \"quantile_0.25\", \"eval_fairness_gro...</td>\n",
       "      <td>32.514257</td>\n",
       "      <td>89710</td>\n",
       "      <td>1.0</td>\n",
       "      <td>0.140187</td>\n",
       "      <td>0.832447</td>\n",
       "      <td>0.123205</td>\n",
       "      <td>0.854953</td>\n",
       "      <td>...</td>\n",
       "      <td>NaN</td>\n",
       "      <td>NaN</td>\n",
       "      <td>NaN</td>\n",
       "      <td>NaN</td>\n",
       "      <td>NaN</td>\n",
       "      <td>NaN</td>\n",
       "      <td>NaN</td>\n",
       "      <td>NaN</td>\n",
       "      <td>NaN</td>\n",
       "      <td>NaN</td>\n",
       "    </tr>\n",
       "    <tr>\n",
       "      <th>0</th>\n",
       "      <td>15</td>\n",
       "      <td>89da853452abe3aa6829ee6d35a9c88c</td>\n",
       "      <td>{\"cutoff\": \"quantile_0.25\", \"eval_fairness_gro...</td>\n",
       "      <td>32.514257</td>\n",
       "      <td>89710</td>\n",
       "      <td>1.0</td>\n",
       "      <td>0.140187</td>\n",
       "      <td>0.832447</td>\n",
       "      <td>0.123205</td>\n",
       "      <td>0.854953</td>\n",
       "      <td>...</td>\n",
       "      <td>0.128561</td>\n",
       "      <td>0.167662</td>\n",
       "      <td>0.836672</td>\n",
       "      <td>0.696485</td>\n",
       "      <td>0.052787</td>\n",
       "      <td>0.078556</td>\n",
       "      <td>0.849416</td>\n",
       "      <td>0.726211</td>\n",
       "      <td>20540.0</td>\n",
       "      <td>69170.0</td>\n",
       "    </tr>\n",
       "  </tbody>\n",
       "</table>\n",
       "<p>4 rows × 50 columns</p>\n",
       "</div>"
      ],
      "text/plain": [
       "  run_no                       universe_id  \\\n",
       "0     15  89da853452abe3aa6829ee6d35a9c88c   \n",
       "0     15  89da853452abe3aa6829ee6d35a9c88c   \n",
       "0     15  89da853452abe3aa6829ee6d35a9c88c   \n",
       "0     15  89da853452abe3aa6829ee6d35a9c88c   \n",
       "\n",
       "                                   universe_settings  execution_time  \\\n",
       "0  {\"cutoff\": \"quantile_0.1\", \"eval_fairness_grou...       32.514257   \n",
       "0  {\"cutoff\": \"quantile_0.1\", \"eval_fairness_grou...       32.514257   \n",
       "0  {\"cutoff\": \"quantile_0.25\", \"eval_fairness_gro...       32.514257   \n",
       "0  {\"cutoff\": \"quantile_0.25\", \"eval_fairness_gro...       32.514257   \n",
       "\n",
       "   test_size_n  test_size_frac  fair_main_equalized_odds_difference  \\\n",
       "0        89710             1.0                             0.090531   \n",
       "0        89710             1.0                             0.090531   \n",
       "0        89710             1.0                             0.140187   \n",
       "0        89710             1.0                             0.140187   \n",
       "\n",
       "   fair_main_equalized_odds_ratio  fair_main_demographic_parity_difference  \\\n",
       "0                        0.905485                                 0.080099   \n",
       "0                        0.905485                                 0.080099   \n",
       "0                        0.832447                                 0.123205   \n",
       "0                        0.832447                                 0.123205   \n",
       "\n",
       "   fair_main_demographic_parity_ratio  ...  perf_grp_precision_0  \\\n",
       "0                            0.916718  ...                   NaN   \n",
       "0                            0.916718  ...              0.118907   \n",
       "0                            0.854953  ...                   NaN   \n",
       "0                            0.854953  ...              0.128561   \n",
       "\n",
       "   perf_grp_precision_1  perf_grp_false positive rate_0  \\\n",
       "0                   NaN                             NaN   \n",
       "0              0.146279                        0.957847   \n",
       "0                   NaN                             NaN   \n",
       "0              0.167662                        0.836672   \n",
       "\n",
       "   perf_grp_false positive rate_1  perf_grp_false negative rate_0  \\\n",
       "0                             NaN                             NaN   \n",
       "0                        0.867316                        0.008024   \n",
       "0                             NaN                             NaN   \n",
       "0                        0.696485                        0.052787   \n",
       "\n",
       "   perf_grp_false negative rate_1  perf_grp_selection rate_0  \\\n",
       "0                             NaN                        NaN   \n",
       "0                        0.023961                   0.961782   \n",
       "0                             NaN                        NaN   \n",
       "0                        0.078556                   0.849416   \n",
       "\n",
       "   perf_grp_selection rate_1  perf_grp_count_0  perf_grp_count_1  \n",
       "0                        NaN               NaN               NaN  \n",
       "0                   0.881683           20540.0           69170.0  \n",
       "0                        NaN               NaN               NaN  \n",
       "0                   0.726211           20540.0           69170.0  \n",
       "\n",
       "[4 rows x 50 columns]"
      ]
     },
     "execution_count": 66,
     "metadata": {},
     "output_type": "execute_result"
    }
   ],
   "source": [
    "final_output = universe_analysis.generate_final_output(\n",
    "    y_pred_prob=probs_test,\n",
    "    y_test=y_true,\n",
    "    org_test=org_test,\n",
    "    filter_data=filter_sub_universe_data,\n",
    "    cp_metrics_df=cp_metrics_df,\n",
    "    save=True,\n",
    ")\n",
    "final_output"
   ]
  }
 ],
 "metadata": {
  "celltoolbar": "Tags",
  "kernelspec": {
   "display_name": "Python (CMA Fairness)",
   "language": "python",
   "name": "cma_fair_env"
  },
  "language_info": {
   "codemirror_mode": {
    "name": "ipython",
    "version": 3
   },
   "file_extension": ".py",
   "mimetype": "text/x-python",
   "name": "python",
   "nbconvert_exporter": "python",
   "pygments_lexer": "ipython3",
   "version": "3.10.12"
  },
  "papermill": {
   "default_parameters": {},
   "duration": 50.190195,
   "end_time": "2025-08-05T16:29:09.730101",
   "environment_variables": {},
   "exception": null,
   "input_path": "universe_analysis.ipynb",
   "output_path": "output/runs/15/notebooks/m_15-89da853452abe3aa6829ee6d35a9c88c.ipynb",
   "parameters": {
    "output_dir": "output",
    "run_no": "15",
    "seed": "2023",
    "universe": "{\"cutoff\": [\"quantile_0.1\", \"quantile_0.25\"], \"eval_fairness_grouping\": [\"majority-minority\", \"nationality-all\"], \"exclude_features\": \"sex\", \"exclude_subgroups\": \"keep-all\", \"model\": \"gbm\", \"scale\": \"do-not-scale\", \"training_size\": \"1k\", \"training_year\": \"2012_14\"}",
    "universe_id": "89da853452abe3aa6829ee6d35a9c88c"
   },
   "start_time": "2025-08-05T16:28:19.539906",
   "version": "2.6.0"
  }
 },
 "nbformat": 4,
 "nbformat_minor": 5
}