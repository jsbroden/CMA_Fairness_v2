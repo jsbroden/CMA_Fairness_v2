{
 "cells": [
  {
   "cell_type": "code",
   "execution_count": 1,
   "id": "f159f837-637b-42ba-96b5-ec9a68c44524",
   "metadata": {
    "execution": {
     "iopub.execute_input": "2025-08-05T16:21:09.456309Z",
     "iopub.status.busy": "2025-08-05T16:21:09.455736Z",
     "iopub.status.idle": "2025-08-05T16:21:09.471138Z",
     "shell.execute_reply": "2025-08-05T16:21:09.470089Z"
    },
    "papermill": {
     "duration": 0.029772,
     "end_time": "2025-08-05T16:21:09.472967",
     "exception": false,
     "start_time": "2025-08-05T16:21:09.443195",
     "status": "completed"
    },
    "tags": []
   },
   "outputs": [
    {
     "name": "stdout",
     "output_type": "stream",
     "text": [
      "/dss/dsshome1/0C/ra93lal2/cma/CMA_Fairness_v2\n"
     ]
    },
    {
     "name": "stderr",
     "output_type": "stream",
     "text": [
      "/dss/dsshome1/0C/ra93lal2/.local/share/virtualenvs/CMA_Fairness_v2-3j10GkSs/lib/python3.10/site-packages/IPython/core/magics/osm.py:393: UserWarning: This is now an optional IPython functionality, using bookmarks requires you to install the `pickleshare` library.\n",
      "  bkms = self.shell.db.get('bookmarks', {})\n",
      "/dss/dsshome1/0C/ra93lal2/.local/share/virtualenvs/CMA_Fairness_v2-3j10GkSs/lib/python3.10/site-packages/IPython/core/magics/osm.py:417: UserWarning: This is now an optional IPython functionality, setting dhist requires you to install the `pickleshare` library.\n",
      "  self.shell.db['dhist'] = compress_dhist(dhist)[-100:]\n"
     ]
    }
   ],
   "source": [
    "%cd ~/cma/CMA_Fairness_v2"
   ]
  },
  {
   "cell_type": "markdown",
   "id": "de2603b9",
   "metadata": {
    "papermill": {
     "duration": 0.021608,
     "end_time": "2025-08-05T16:21:09.516891",
     "exception": false,
     "start_time": "2025-08-05T16:21:09.495283",
     "status": "completed"
    },
    "tags": []
   },
   "source": [
    "The following cell holds the definition of our parameters, these values can be overriden by rendering the with e.g. the following command:\n",
    "\n",
    "papermill -p alpha 0.2 -p ratio 0.3 universe_analysis.ipynb output/test_run.ipynb"
   ]
  },
  {
   "cell_type": "code",
   "execution_count": 2,
   "id": "a80968a0-40bb-4fa9-85ef-2d5eefb01975",
   "metadata": {
    "execution": {
     "iopub.execute_input": "2025-08-05T16:21:09.562927Z",
     "iopub.status.busy": "2025-08-05T16:21:09.561955Z",
     "iopub.status.idle": "2025-08-05T16:21:09.569122Z",
     "shell.execute_reply": "2025-08-05T16:21:09.567957Z"
    },
    "papermill": {
     "duration": 0.032394,
     "end_time": "2025-08-05T16:21:09.571219",
     "exception": false,
     "start_time": "2025-08-05T16:21:09.538825",
     "status": "completed"
    },
    "tags": []
   },
   "outputs": [
    {
     "name": "stdout",
     "output_type": "stream",
     "text": [
      "Current working directory: /dss/dsshome1/0C/ra93lal2/cma/CMA_Fairness_v2\n"
     ]
    }
   ],
   "source": [
    "import os\n",
    "print(\"Current working directory:\", os.getcwd())"
   ]
  },
  {
   "cell_type": "code",
   "execution_count": 3,
   "id": "2dce4c03",
   "metadata": {
    "execution": {
     "iopub.execute_input": "2025-08-05T16:21:09.615252Z",
     "iopub.status.busy": "2025-08-05T16:21:09.614330Z",
     "iopub.status.idle": "2025-08-05T16:21:09.621897Z",
     "shell.execute_reply": "2025-08-05T16:21:09.620785Z"
    },
    "papermill": {
     "duration": 0.030166,
     "end_time": "2025-08-05T16:21:09.623690",
     "exception": false,
     "start_time": "2025-08-05T16:21:09.593524",
     "status": "completed"
    },
    "tags": [
     "parameters"
    ]
   },
   "outputs": [],
   "source": [
    "run_no = 0\n",
    "universe_id = \"test\"\n",
    "universe = {\n",
    "    \"training_size\": \"25k\", # \"25k\", \"5k\", \"1k\"\n",
    "    \"training_year\": \"2014\", # \"2014\", \"2012_14\", \"2010_14\"\n",
    "    \"scale\": \"scale\", # \"scale\", \"do-not-scale\",\n",
    "    \"model\": \"elasticnet\", # \"logreg\", \"penalized_logreg\", \"rf\", \"gbm\", \"elasticnet\"\n",
    "    \"cutoff\": [\"quantile_0.15\", \"quantile_0.30\"],\n",
    "    \"exclude_features\": \"age\", # \"none\", \"nationality\", \"sex\", \"nationality-sex\", \"age\"\n",
    "    \"exclude_subgroups\": \"keep-all\", # \"keep-all\", \"drop-non-german\"\n",
    "    \"eval_fairness_grouping\": [\"majority-minority\", \"nationality-all\"]\n",
    "}\n",
    "\n",
    "output_dir=\"./output\"\n",
    "seed=0"
   ]
  },
  {
   "cell_type": "code",
   "execution_count": 4,
   "id": "bf6e9cec",
   "metadata": {
    "execution": {
     "iopub.execute_input": "2025-08-05T16:21:09.665721Z",
     "iopub.status.busy": "2025-08-05T16:21:09.665135Z",
     "iopub.status.idle": "2025-08-05T16:21:09.671930Z",
     "shell.execute_reply": "2025-08-05T16:21:09.669819Z"
    },
    "papermill": {
     "duration": 0.027954,
     "end_time": "2025-08-05T16:21:09.673856",
     "exception": false,
     "start_time": "2025-08-05T16:21:09.645902",
     "status": "completed"
    },
    "tags": [
     "injected-parameters"
    ]
   },
   "outputs": [],
   "source": [
    "# Parameters\n",
    "universe_id = \"684333c825d87922deac10818ff51b33\"\n",
    "run_no = \"15\"\n",
    "universe = \"{\\\"cutoff\\\": [\\\"quantile_0.1\\\", \\\"quantile_0.25\\\"], \\\"eval_fairness_grouping\\\": [\\\"majority-minority\\\", \\\"nationality-all\\\"], \\\"exclude_features\\\": \\\"nationality-sex\\\", \\\"exclude_subgroups\\\": \\\"drop-non-german\\\", \\\"model\\\": \\\"gbm\\\", \\\"scale\\\": \\\"scale\\\", \\\"training_size\\\": \\\"1k\\\", \\\"training_year\\\": \\\"2012_14\\\"}\"\n",
    "output_dir = \"output\"\n",
    "seed = \"2023\"\n"
   ]
  },
  {
   "cell_type": "code",
   "execution_count": 5,
   "id": "1650acaf",
   "metadata": {
    "execution": {
     "iopub.execute_input": "2025-08-05T16:21:09.716200Z",
     "iopub.status.busy": "2025-08-05T16:21:09.715609Z",
     "iopub.status.idle": "2025-08-05T16:21:09.721152Z",
     "shell.execute_reply": "2025-08-05T16:21:09.720015Z"
    },
    "papermill": {
     "duration": 0.028312,
     "end_time": "2025-08-05T16:21:09.722904",
     "exception": false,
     "start_time": "2025-08-05T16:21:09.694592",
     "status": "completed"
    },
    "tags": []
   },
   "outputs": [],
   "source": [
    "import json\n",
    "if isinstance(universe, str):\n",
    "    universe = json.loads(universe)"
   ]
  },
  {
   "cell_type": "code",
   "execution_count": 6,
   "id": "16620c48",
   "metadata": {
    "execution": {
     "iopub.execute_input": "2025-08-05T16:21:09.762863Z",
     "iopub.status.busy": "2025-08-05T16:21:09.761905Z",
     "iopub.status.idle": "2025-08-05T16:21:09.794348Z",
     "shell.execute_reply": "2025-08-05T16:21:09.793585Z"
    },
    "papermill": {
     "duration": 0.053582,
     "end_time": "2025-08-05T16:21:09.795621",
     "exception": false,
     "start_time": "2025-08-05T16:21:09.742039",
     "status": "completed"
    },
    "tags": []
   },
   "outputs": [],
   "source": [
    "# Auto-reload the custom package\n",
    "%load_ext autoreload\n",
    "%autoreload 1\n",
    "%aimport fairness_multiverse"
   ]
  },
  {
   "cell_type": "code",
   "execution_count": 7,
   "id": "01c5c9f3",
   "metadata": {
    "execution": {
     "iopub.execute_input": "2025-08-05T16:21:09.827119Z",
     "iopub.status.busy": "2025-08-05T16:21:09.826601Z",
     "iopub.status.idle": "2025-08-05T16:21:12.034352Z",
     "shell.execute_reply": "2025-08-05T16:21:12.033137Z"
    },
    "papermill": {
     "duration": 2.231046,
     "end_time": "2025-08-05T16:21:12.036551",
     "exception": false,
     "start_time": "2025-08-05T16:21:09.805505",
     "status": "completed"
    },
    "tags": []
   },
   "outputs": [],
   "source": [
    "from fairness_multiverse.universe import UniverseAnalysis\n",
    "\n",
    "universe_analysis = UniverseAnalysis(\n",
    "    run_no = run_no,\n",
    "    universe_id = universe_id,\n",
    "    universe = universe,\n",
    "    output_dir=output_dir,\n",
    ")"
   ]
  },
  {
   "cell_type": "code",
   "execution_count": 8,
   "id": "106241f5",
   "metadata": {
    "execution": {
     "iopub.execute_input": "2025-08-05T16:21:12.081215Z",
     "iopub.status.busy": "2025-08-05T16:21:12.080147Z",
     "iopub.status.idle": "2025-08-05T16:21:12.088730Z",
     "shell.execute_reply": "2025-08-05T16:21:12.087629Z"
    },
    "papermill": {
     "duration": 0.032114,
     "end_time": "2025-08-05T16:21:12.090582",
     "exception": false,
     "start_time": "2025-08-05T16:21:12.058468",
     "status": "completed"
    },
    "tags": []
   },
   "outputs": [
    {
     "name": "stdout",
     "output_type": "stream",
     "text": [
      "Using Seed: 2023\n"
     ]
    }
   ],
   "source": [
    "import numpy as np\n",
    "parsed_seed = int(seed)\n",
    "np.random.seed(parsed_seed)\n",
    "print(f\"Using Seed: {parsed_seed}\")"
   ]
  },
  {
   "cell_type": "markdown",
   "id": "e0ebdc57",
   "metadata": {
    "papermill": {
     "duration": 0.019546,
     "end_time": "2025-08-05T16:21:12.129235",
     "exception": false,
     "start_time": "2025-08-05T16:21:12.109689",
     "status": "completed"
    },
    "tags": []
   },
   "source": [
    "# Loading Data"
   ]
  },
  {
   "cell_type": "code",
   "execution_count": 9,
   "id": "f0496b8a",
   "metadata": {
    "execution": {
     "iopub.execute_input": "2025-08-05T16:21:12.172069Z",
     "iopub.status.busy": "2025-08-05T16:21:12.170973Z",
     "iopub.status.idle": "2025-08-05T16:21:27.700931Z",
     "shell.execute_reply": "2025-08-05T16:21:27.699496Z"
    },
    "papermill": {
     "duration": 15.552154,
     "end_time": "2025-08-05T16:21:27.702701",
     "exception": false,
     "start_time": "2025-08-05T16:21:12.150547",
     "status": "completed"
    },
    "tags": []
   },
   "outputs": [
    {
     "name": "stdout",
     "output_type": "stream",
     "text": [
      "Loading SIAB data from cache: data/siab_cached.csv.gz\n"
     ]
    },
    {
     "name": "stdout",
     "output_type": "stream",
     "text": [
      "(643690, 164)\n"
     ]
    }
   ],
   "source": [
    "from pathlib import Path\n",
    "import pandas as pd\n",
    "\n",
    "# File paths\n",
    "raw_file = Path(\"data/raw/siab.csv\")\n",
    "cache_file = Path(\"data/siab_cached.csv.gz\")\n",
    "\n",
    "# Ensure cache directory exists\n",
    "cache_file.parent.mkdir(parents=True, exist_ok=True)\n",
    "\n",
    "# Load with simple caching\n",
    "if cache_file.exists():\n",
    "    print(f\"Loading SIAB data from cache: {cache_file}\")\n",
    "    siab = pd.read_csv(cache_file, compression='gzip')\n",
    "else:\n",
    "    print(f\"Cache not found. Reading raw SIAB data: {raw_file}\")\n",
    "    siab = pd.read_csv(raw_file)\n",
    "    siab.to_csv(cache_file, index=False, compression='gzip')\n",
    "    print(f\"Cached SIAB data to: {cache_file}\")\n",
    "\n",
    "print(siab.shape)"
   ]
  },
  {
   "cell_type": "code",
   "execution_count": 10,
   "id": "db0ca512-5f53-4dba-abdb-a2888bca41ba",
   "metadata": {
    "execution": {
     "iopub.execute_input": "2025-08-05T16:21:27.754060Z",
     "iopub.status.busy": "2025-08-05T16:21:27.753422Z",
     "iopub.status.idle": "2025-08-05T16:21:27.760375Z",
     "shell.execute_reply": "2025-08-05T16:21:27.759086Z"
    },
    "papermill": {
     "duration": 0.035687,
     "end_time": "2025-08-05T16:21:27.762340",
     "exception": false,
     "start_time": "2025-08-05T16:21:27.726653",
     "status": "completed"
    },
    "tags": []
   },
   "outputs": [],
   "source": [
    "#siab"
   ]
  },
  {
   "cell_type": "markdown",
   "id": "997051c5-15bd-4b69-9786-c3001a3ce484",
   "metadata": {
    "papermill": {
     "duration": 0.020119,
     "end_time": "2025-08-05T16:21:27.803362",
     "exception": false,
     "start_time": "2025-08-05T16:21:27.783243",
     "status": "completed"
    },
    "tags": []
   },
   "source": [
    "# Splitting Data and Setting Training Data Size"
   ]
  },
  {
   "cell_type": "code",
   "execution_count": 11,
   "id": "aea9c6ef-6f46-42c8-85eb-5a62025c1508",
   "metadata": {
    "execution": {
     "iopub.execute_input": "2025-08-05T16:21:27.845798Z",
     "iopub.status.busy": "2025-08-05T16:21:27.845228Z",
     "iopub.status.idle": "2025-08-05T16:21:28.495098Z",
     "shell.execute_reply": "2025-08-05T16:21:28.493803Z"
    },
    "papermill": {
     "duration": 0.673425,
     "end_time": "2025-08-05T16:21:28.497190",
     "exception": false,
     "start_time": "2025-08-05T16:21:27.823765",
     "status": "completed"
    },
    "tags": []
   },
   "outputs": [],
   "source": [
    "from fairness_multiverse.universe import sample_by_year_size\n",
    "\n",
    "siab_train = sample_by_year_size(siab,\n",
    "                               training_year=universe[\"training_year\"],\n",
    "                               training_size=universe[\"training_size\"])"
   ]
  },
  {
   "cell_type": "code",
   "execution_count": 12,
   "id": "8d3afb32-789d-442c-8d5d-9f5aa8dd2eed",
   "metadata": {
    "execution": {
     "iopub.execute_input": "2025-08-05T16:21:28.548273Z",
     "iopub.status.busy": "2025-08-05T16:21:28.547292Z",
     "iopub.status.idle": "2025-08-05T16:21:28.553163Z",
     "shell.execute_reply": "2025-08-05T16:21:28.552107Z"
    },
    "papermill": {
     "duration": 0.03277,
     "end_time": "2025-08-05T16:21:28.555165",
     "exception": false,
     "start_time": "2025-08-05T16:21:28.522395",
     "status": "completed"
    },
    "tags": []
   },
   "outputs": [],
   "source": [
    "#siab_train.shape"
   ]
  },
  {
   "cell_type": "code",
   "execution_count": 13,
   "id": "d582db68-1a4c-47fb-84fc-08518dc1975a",
   "metadata": {
    "execution": {
     "iopub.execute_input": "2025-08-05T16:21:28.584783Z",
     "iopub.status.busy": "2025-08-05T16:21:28.584217Z",
     "iopub.status.idle": "2025-08-05T16:21:28.590241Z",
     "shell.execute_reply": "2025-08-05T16:21:28.589107Z"
    },
    "papermill": {
     "duration": 0.02067,
     "end_time": "2025-08-05T16:21:28.592470",
     "exception": false,
     "start_time": "2025-08-05T16:21:28.571800",
     "status": "completed"
    },
    "tags": []
   },
   "outputs": [],
   "source": [
    "#display(siab_train.groupby(\"year\").size())"
   ]
  },
  {
   "cell_type": "code",
   "execution_count": 14,
   "id": "a561edb4-d032-42cb-8256-22eac1111c64",
   "metadata": {
    "execution": {
     "iopub.execute_input": "2025-08-05T16:21:28.643420Z",
     "iopub.status.busy": "2025-08-05T16:21:28.642372Z",
     "iopub.status.idle": "2025-08-05T16:21:28.878116Z",
     "shell.execute_reply": "2025-08-05T16:21:28.876657Z"
    },
    "papermill": {
     "duration": 0.263255,
     "end_time": "2025-08-05T16:21:28.880092",
     "exception": false,
     "start_time": "2025-08-05T16:21:28.616837",
     "status": "completed"
    },
    "tags": []
   },
   "outputs": [],
   "source": [
    "#siab_train = siab_s[siab_s.year < 2015]\n",
    "siab_calib = siab[siab.year == 2015]\n",
    "siab_test = siab[siab.year == 2016]"
   ]
  },
  {
   "cell_type": "code",
   "execution_count": 15,
   "id": "472de16f-c3db-4916-846b-1f0de9cf1746",
   "metadata": {
    "execution": {
     "iopub.execute_input": "2025-08-05T16:21:28.948488Z",
     "iopub.status.busy": "2025-08-05T16:21:28.947935Z",
     "iopub.status.idle": "2025-08-05T16:21:28.955066Z",
     "shell.execute_reply": "2025-08-05T16:21:28.954256Z"
    },
    "papermill": {
     "duration": 0.044346,
     "end_time": "2025-08-05T16:21:28.956676",
     "exception": false,
     "start_time": "2025-08-05T16:21:28.912330",
     "status": "completed"
    },
    "tags": []
   },
   "outputs": [],
   "source": [
    "X_train = siab_train.iloc[:,4:164]\n",
    "y_train = siab_train.iloc[:, [3]]"
   ]
  },
  {
   "cell_type": "code",
   "execution_count": 16,
   "id": "828c96af-f43a-4ed6-ba47-8ac73a47d56c",
   "metadata": {
    "execution": {
     "iopub.execute_input": "2025-08-05T16:21:28.981212Z",
     "iopub.status.busy": "2025-08-05T16:21:28.980595Z",
     "iopub.status.idle": "2025-08-05T16:21:29.037327Z",
     "shell.execute_reply": "2025-08-05T16:21:29.035863Z"
    },
    "papermill": {
     "duration": 0.070969,
     "end_time": "2025-08-05T16:21:29.039616",
     "exception": false,
     "start_time": "2025-08-05T16:21:28.968647",
     "status": "completed"
    },
    "tags": []
   },
   "outputs": [],
   "source": [
    "X_calib = siab_calib.iloc[:,4:164]\n",
    "y_calib = siab_calib.iloc[:, [3]]"
   ]
  },
  {
   "cell_type": "code",
   "execution_count": 17,
   "id": "c34be9c3-6bd6-476e-acd3-845840e303be",
   "metadata": {
    "execution": {
     "iopub.execute_input": "2025-08-05T16:21:29.096090Z",
     "iopub.status.busy": "2025-08-05T16:21:29.095555Z",
     "iopub.status.idle": "2025-08-05T16:21:29.162143Z",
     "shell.execute_reply": "2025-08-05T16:21:29.160470Z"
    },
    "papermill": {
     "duration": 0.099761,
     "end_time": "2025-08-05T16:21:29.164880",
     "exception": false,
     "start_time": "2025-08-05T16:21:29.065119",
     "status": "completed"
    },
    "tags": []
   },
   "outputs": [],
   "source": [
    "X_test = siab_test.iloc[:,4:164]\n",
    "y_true = siab_test.iloc[:, [3]]"
   ]
  },
  {
   "cell_type": "code",
   "execution_count": 18,
   "id": "e6c733c5",
   "metadata": {
    "execution": {
     "iopub.execute_input": "2025-08-05T16:21:29.216357Z",
     "iopub.status.busy": "2025-08-05T16:21:29.215862Z",
     "iopub.status.idle": "2025-08-05T16:21:29.320326Z",
     "shell.execute_reply": "2025-08-05T16:21:29.319155Z"
    },
    "papermill": {
     "duration": 0.127572,
     "end_time": "2025-08-05T16:21:29.322786",
     "exception": false,
     "start_time": "2025-08-05T16:21:29.195214",
     "status": "completed"
    },
    "tags": []
   },
   "outputs": [],
   "source": [
    "# Auxiliary data needed downstream in the pipeline\n",
    "\n",
    "org_train = X_train.copy()\n",
    "org_test = X_test.copy()\n",
    "org_calib = X_calib.copy()"
   ]
  },
  {
   "cell_type": "markdown",
   "id": "0a4a1b33",
   "metadata": {
    "papermill": {
     "duration": 0.023649,
     "end_time": "2025-08-05T16:21:29.369447",
     "exception": false,
     "start_time": "2025-08-05T16:21:29.345798",
     "status": "completed"
    },
    "tags": []
   },
   "source": [
    "# Preprocessing Data"
   ]
  },
  {
   "cell_type": "code",
   "execution_count": 19,
   "id": "ca879031",
   "metadata": {
    "execution": {
     "iopub.execute_input": "2025-08-05T16:21:29.416760Z",
     "iopub.status.busy": "2025-08-05T16:21:29.415593Z",
     "iopub.status.idle": "2025-08-05T16:21:29.423108Z",
     "shell.execute_reply": "2025-08-05T16:21:29.421874Z"
    },
    "papermill": {
     "duration": 0.033618,
     "end_time": "2025-08-05T16:21:29.425093",
     "exception": false,
     "start_time": "2025-08-05T16:21:29.391475",
     "status": "completed"
    },
    "tags": []
   },
   "outputs": [],
   "source": [
    "# EXCLUDE PROTECTED FEATURES\n",
    "# ----------------------\n",
    "# \"exclude_features\": \"none\", # \"nationality\", \"sex\", \"nationality-sex\"\n",
    "\n",
    "excluded_features = universe[\"exclude_features\"].split(\"-\") # split, e.g.: \"nationality-sex\" -> [\"nationality\", \"sex\"]\n",
    "excluded_features_dictionary = {\n",
    "    \"nationality\": [\"maxdeutsch1\", \"maxdeutsch.Missing.\"],\n",
    "    \"sex\": [\"frau1\"],\n",
    "    \"age\": [\"age\"],\n",
    "}"
   ]
  },
  {
   "cell_type": "code",
   "execution_count": 20,
   "id": "b745ac60",
   "metadata": {
    "execution": {
     "iopub.execute_input": "2025-08-05T16:21:29.471516Z",
     "iopub.status.busy": "2025-08-05T16:21:29.470710Z",
     "iopub.status.idle": "2025-08-05T16:21:29.478246Z",
     "shell.execute_reply": "2025-08-05T16:21:29.476961Z"
    },
    "papermill": {
     "duration": 0.033152,
     "end_time": "2025-08-05T16:21:29.480400",
     "exception": false,
     "start_time": "2025-08-05T16:21:29.447248",
     "status": "completed"
    },
    "tags": []
   },
   "outputs": [],
   "source": [
    "# Code nice names to column names\n",
    "\n",
    "excluded_features_columns = [\n",
    "    excluded_features_dictionary[f] for f in excluded_features if len(f) > 0 and f != \"none\"\n",
    "]"
   ]
  },
  {
   "cell_type": "code",
   "execution_count": 21,
   "id": "f84f73a2",
   "metadata": {
    "execution": {
     "iopub.execute_input": "2025-08-05T16:21:29.530897Z",
     "iopub.status.busy": "2025-08-05T16:21:29.530295Z",
     "iopub.status.idle": "2025-08-05T16:21:29.538158Z",
     "shell.execute_reply": "2025-08-05T16:21:29.537001Z"
    },
    "papermill": {
     "duration": 0.037342,
     "end_time": "2025-08-05T16:21:29.540224",
     "exception": false,
     "start_time": "2025-08-05T16:21:29.502882",
     "status": "completed"
    },
    "tags": []
   },
   "outputs": [],
   "source": [
    "from utils import flatten_once\n",
    "\n",
    "excluded_features_columns = flatten_once(excluded_features_columns)"
   ]
  },
  {
   "cell_type": "code",
   "execution_count": 22,
   "id": "884dea22",
   "metadata": {
    "execution": {
     "iopub.execute_input": "2025-08-05T16:21:29.577392Z",
     "iopub.status.busy": "2025-08-05T16:21:29.576895Z",
     "iopub.status.idle": "2025-08-05T16:21:29.586531Z",
     "shell.execute_reply": "2025-08-05T16:21:29.585289Z"
    },
    "papermill": {
     "duration": 0.026355,
     "end_time": "2025-08-05T16:21:29.588175",
     "exception": false,
     "start_time": "2025-08-05T16:21:29.561820",
     "status": "completed"
    },
    "tags": []
   },
   "outputs": [
    {
     "name": "stdout",
     "output_type": "stream",
     "text": [
      "Dropping features: ['maxdeutsch1', 'maxdeutsch.Missing.', 'frau1']\n"
     ]
    }
   ],
   "source": [
    "if len(excluded_features_columns) > 0:\n",
    "    print(f\"Dropping features: {excluded_features_columns}\")\n",
    "    X_train.drop(excluded_features_columns, axis=1, inplace=True)"
   ]
  },
  {
   "cell_type": "code",
   "execution_count": 23,
   "id": "95ab8b16",
   "metadata": {
    "execution": {
     "iopub.execute_input": "2025-08-05T16:21:29.614669Z",
     "iopub.status.busy": "2025-08-05T16:21:29.614267Z",
     "iopub.status.idle": "2025-08-05T16:21:29.667833Z",
     "shell.execute_reply": "2025-08-05T16:21:29.666623Z"
    },
    "papermill": {
     "duration": 0.068685,
     "end_time": "2025-08-05T16:21:29.669722",
     "exception": false,
     "start_time": "2025-08-05T16:21:29.601037",
     "status": "completed"
    },
    "tags": []
   },
   "outputs": [
    {
     "name": "stdout",
     "output_type": "stream",
     "text": [
      "Dropping features: ['maxdeutsch1', 'maxdeutsch.Missing.', 'frau1']\n"
     ]
    }
   ],
   "source": [
    "if len(excluded_features_columns) > 0:\n",
    "    print(f\"Dropping features: {excluded_features_columns}\")\n",
    "    X_test.drop(excluded_features_columns, axis=1, inplace=True)"
   ]
  },
  {
   "cell_type": "code",
   "execution_count": 24,
   "id": "1853aaf5-fb9f-46cb-a2b5-8ea4ae2237e4",
   "metadata": {
    "execution": {
     "iopub.execute_input": "2025-08-05T16:21:29.718209Z",
     "iopub.status.busy": "2025-08-05T16:21:29.717776Z",
     "iopub.status.idle": "2025-08-05T16:21:29.771353Z",
     "shell.execute_reply": "2025-08-05T16:21:29.770084Z"
    },
    "papermill": {
     "duration": 0.07748,
     "end_time": "2025-08-05T16:21:29.773010",
     "exception": false,
     "start_time": "2025-08-05T16:21:29.695530",
     "status": "completed"
    },
    "tags": []
   },
   "outputs": [
    {
     "name": "stdout",
     "output_type": "stream",
     "text": [
      "Dropping features: ['maxdeutsch1', 'maxdeutsch.Missing.', 'frau1']\n"
     ]
    }
   ],
   "source": [
    "if len(excluded_features_columns) > 0:\n",
    "    print(f\"Dropping features: {excluded_features_columns}\")\n",
    "    X_calib.drop(excluded_features_columns, axis=1, inplace=True)"
   ]
  },
  {
   "cell_type": "code",
   "execution_count": 25,
   "id": "76c4dc6d",
   "metadata": {
    "execution": {
     "iopub.execute_input": "2025-08-05T16:21:29.800221Z",
     "iopub.status.busy": "2025-08-05T16:21:29.799342Z",
     "iopub.status.idle": "2025-08-05T16:21:29.805819Z",
     "shell.execute_reply": "2025-08-05T16:21:29.804453Z"
    },
    "papermill": {
     "duration": 0.021471,
     "end_time": "2025-08-05T16:21:29.807504",
     "exception": false,
     "start_time": "2025-08-05T16:21:29.786033",
     "status": "completed"
    },
    "tags": []
   },
   "outputs": [],
   "source": [
    "# EXCLUDE CERTAIN SUBGROUPS\n",
    "# ----------------------\n",
    "\n",
    "mode = universe.get(\"exclude_subgroups\", \"keep-all\") \n",
    "# Fetches the exclude_subgroups setting from the universe dict.\n",
    "# Defaults to \"keep-all\" if the key is missing."
   ]
  },
  {
   "cell_type": "code",
   "execution_count": 26,
   "id": "21994072",
   "metadata": {
    "execution": {
     "iopub.execute_input": "2025-08-05T16:21:29.834137Z",
     "iopub.status.busy": "2025-08-05T16:21:29.833728Z",
     "iopub.status.idle": "2025-08-05T16:21:29.840253Z",
     "shell.execute_reply": "2025-08-05T16:21:29.839314Z"
    },
    "papermill": {
     "duration": 0.021488,
     "end_time": "2025-08-05T16:21:29.841925",
     "exception": false,
     "start_time": "2025-08-05T16:21:29.820437",
     "status": "completed"
    },
    "tags": []
   },
   "outputs": [],
   "source": [
    "if mode == \"keep-all\":\n",
    "    keep_mask = pd.Series(True, index=org_train.index)\n",
    "\n",
    "# org_train contains the original feature columns from features_org (in Simson)\n",
    "# features_org contains unprocessed features, for me X_train at beginning ???\n",
    "# For keep-all, creates a boolean Series (keep_mask) of all True, so no rows are removed.\n",
    "\n",
    "elif mode == \"drop-non-german\":\n",
    "    keep_mask = org_train[\"maxdeutsch1\"] == 1 # ??? what about missing values?\n",
    "\n",
    "else:\n",
    "    raise ValueError(f\"Unsupported mode for exclude_subgroups: {mode}\")"
   ]
  },
  {
   "cell_type": "code",
   "execution_count": 27,
   "id": "71651440",
   "metadata": {
    "execution": {
     "iopub.execute_input": "2025-08-05T16:21:29.869257Z",
     "iopub.status.busy": "2025-08-05T16:21:29.868840Z",
     "iopub.status.idle": "2025-08-05T16:21:29.876049Z",
     "shell.execute_reply": "2025-08-05T16:21:29.874696Z"
    },
    "papermill": {
     "duration": 0.022536,
     "end_time": "2025-08-05T16:21:29.877675",
     "exception": false,
     "start_time": "2025-08-05T16:21:29.855139",
     "status": "completed"
    },
    "tags": []
   },
   "outputs": [
    {
     "name": "stdout",
     "output_type": "stream",
     "text": [
      "Dropping 147 rows (14.70%) where mode='drop-non-german'\n"
     ]
    }
   ],
   "source": [
    "n_drop = (~keep_mask).sum() # Calculates how many rows are set to be dropped\n",
    "if n_drop > 0:\n",
    "    pct = n_drop / len(keep_mask) * 100\n",
    "    print(f\"Dropping {n_drop} rows ({pct:.2f}%) where mode='{mode}'\")"
   ]
  },
  {
   "cell_type": "code",
   "execution_count": 28,
   "id": "5fb8eee5",
   "metadata": {
    "execution": {
     "iopub.execute_input": "2025-08-05T16:21:29.904463Z",
     "iopub.status.busy": "2025-08-05T16:21:29.903595Z",
     "iopub.status.idle": "2025-08-05T16:21:29.910108Z",
     "shell.execute_reply": "2025-08-05T16:21:29.909221Z"
    },
    "papermill": {
     "duration": 0.02134,
     "end_time": "2025-08-05T16:21:29.911849",
     "exception": false,
     "start_time": "2025-08-05T16:21:29.890509",
     "status": "completed"
    },
    "tags": []
   },
   "outputs": [],
   "source": [
    "X_train = X_train[keep_mask]"
   ]
  },
  {
   "cell_type": "code",
   "execution_count": 29,
   "id": "b202bb3a",
   "metadata": {
    "execution": {
     "iopub.execute_input": "2025-08-05T16:21:29.938787Z",
     "iopub.status.busy": "2025-08-05T16:21:29.937890Z",
     "iopub.status.idle": "2025-08-05T16:21:29.943896Z",
     "shell.execute_reply": "2025-08-05T16:21:29.943011Z"
    },
    "papermill": {
     "duration": 0.020892,
     "end_time": "2025-08-05T16:21:29.945622",
     "exception": false,
     "start_time": "2025-08-05T16:21:29.924730",
     "status": "completed"
    },
    "tags": []
   },
   "outputs": [],
   "source": [
    "y_train = y_train[keep_mask]"
   ]
  },
  {
   "cell_type": "markdown",
   "id": "493e2ac3",
   "metadata": {
    "papermill": {
     "duration": 0.012115,
     "end_time": "2025-08-05T16:21:29.970468",
     "exception": false,
     "start_time": "2025-08-05T16:21:29.958353",
     "status": "completed"
    },
    "tags": []
   },
   "source": [
    "# Model Training"
   ]
  },
  {
   "cell_type": "code",
   "execution_count": 30,
   "id": "679e1268",
   "metadata": {
    "execution": {
     "iopub.execute_input": "2025-08-05T16:21:29.996630Z",
     "iopub.status.busy": "2025-08-05T16:21:29.996001Z",
     "iopub.status.idle": "2025-08-05T16:21:30.085284Z",
     "shell.execute_reply": "2025-08-05T16:21:30.084342Z"
    },
    "papermill": {
     "duration": 0.104647,
     "end_time": "2025-08-05T16:21:30.087179",
     "exception": false,
     "start_time": "2025-08-05T16:21:29.982532",
     "status": "completed"
    },
    "tags": []
   },
   "outputs": [],
   "source": [
    "from sklearn.linear_model import LogisticRegression\n",
    "from sklearn.ensemble import GradientBoostingClassifier, RandomForestClassifier\n",
    "\n",
    "if (universe[\"model\"] == \"logreg\"):\n",
    "    model = LogisticRegression() #penalty=\"none\", solver=\"newton-cg\", max_iter=1) # include random_state=19 ?\n",
    "elif (universe[\"model\"] == \"penalized_logreg\"):\n",
    "    model = LogisticRegression(penalty=\"l2\", C=0.1) #, solver=\"newton-cg\", max_iter=1)\n",
    "elif (universe[\"model\"] == \"rf\"):\n",
    "    model = RandomForestClassifier() # n_estimators=100, n_jobs=-1\n",
    "elif (universe[\"model\"] == \"gbm\"):\n",
    "    model = GradientBoostingClassifier()\n",
    "elif (universe[\"model\"] == \"elasticnet\"):\n",
    "    model = LogisticRegression(penalty = 'elasticnet', solver = 'saga', l1_ratio = 0.5) # max_iter=5000\n",
    "else:\n",
    "    raise \"Unsupported universe.model\""
   ]
  },
  {
   "cell_type": "code",
   "execution_count": 31,
   "id": "0cc8f744",
   "metadata": {
    "execution": {
     "iopub.execute_input": "2025-08-05T16:21:30.114804Z",
     "iopub.status.busy": "2025-08-05T16:21:30.113875Z",
     "iopub.status.idle": "2025-08-05T16:21:30.120652Z",
     "shell.execute_reply": "2025-08-05T16:21:30.119666Z"
    },
    "papermill": {
     "duration": 0.022415,
     "end_time": "2025-08-05T16:21:30.122270",
     "exception": false,
     "start_time": "2025-08-05T16:21:30.099855",
     "status": "completed"
    },
    "tags": []
   },
   "outputs": [],
   "source": [
    "import numpy as np\n",
    "from sklearn.pipeline import Pipeline\n",
    "from sklearn.preprocessing import StandardScaler\n",
    "\n",
    "model = Pipeline([\n",
    "    #(\"continuous_processor\", continuous_processor),\n",
    "    #(\"categorical_preprocessor\", categorical_preprocessor),\n",
    "    (\"scale\", StandardScaler() if universe[\"scale\"] == \"scale\" else None), \n",
    "    (\"model\", model),\n",
    "])"
   ]
  },
  {
   "cell_type": "code",
   "execution_count": 32,
   "id": "9442c04d",
   "metadata": {
    "execution": {
     "iopub.execute_input": "2025-08-05T16:21:30.149705Z",
     "iopub.status.busy": "2025-08-05T16:21:30.149064Z",
     "iopub.status.idle": "2025-08-05T16:21:31.084975Z",
     "shell.execute_reply": "2025-08-05T16:21:31.084010Z"
    },
    "papermill": {
     "duration": 0.951223,
     "end_time": "2025-08-05T16:21:31.086551",
     "exception": false,
     "start_time": "2025-08-05T16:21:30.135328",
     "status": "completed"
    },
    "tags": []
   },
   "outputs": [
    {
     "data": {
      "text/html": [
       "<style>#sk-container-id-1 {color: black;background-color: white;}#sk-container-id-1 pre{padding: 0;}#sk-container-id-1 div.sk-toggleable {background-color: white;}#sk-container-id-1 label.sk-toggleable__label {cursor: pointer;display: block;width: 100%;margin-bottom: 0;padding: 0.3em;box-sizing: border-box;text-align: center;}#sk-container-id-1 label.sk-toggleable__label-arrow:before {content: \"▸\";float: left;margin-right: 0.25em;color: #696969;}#sk-container-id-1 label.sk-toggleable__label-arrow:hover:before {color: black;}#sk-container-id-1 div.sk-estimator:hover label.sk-toggleable__label-arrow:before {color: black;}#sk-container-id-1 div.sk-toggleable__content {max-height: 0;max-width: 0;overflow: hidden;text-align: left;background-color: #f0f8ff;}#sk-container-id-1 div.sk-toggleable__content pre {margin: 0.2em;color: black;border-radius: 0.25em;background-color: #f0f8ff;}#sk-container-id-1 input.sk-toggleable__control:checked~div.sk-toggleable__content {max-height: 200px;max-width: 100%;overflow: auto;}#sk-container-id-1 input.sk-toggleable__control:checked~label.sk-toggleable__label-arrow:before {content: \"▾\";}#sk-container-id-1 div.sk-estimator input.sk-toggleable__control:checked~label.sk-toggleable__label {background-color: #d4ebff;}#sk-container-id-1 div.sk-label input.sk-toggleable__control:checked~label.sk-toggleable__label {background-color: #d4ebff;}#sk-container-id-1 input.sk-hidden--visually {border: 0;clip: rect(1px 1px 1px 1px);clip: rect(1px, 1px, 1px, 1px);height: 1px;margin: -1px;overflow: hidden;padding: 0;position: absolute;width: 1px;}#sk-container-id-1 div.sk-estimator {font-family: monospace;background-color: #f0f8ff;border: 1px dotted black;border-radius: 0.25em;box-sizing: border-box;margin-bottom: 0.5em;}#sk-container-id-1 div.sk-estimator:hover {background-color: #d4ebff;}#sk-container-id-1 div.sk-parallel-item::after {content: \"\";width: 100%;border-bottom: 1px solid gray;flex-grow: 1;}#sk-container-id-1 div.sk-label:hover label.sk-toggleable__label {background-color: #d4ebff;}#sk-container-id-1 div.sk-serial::before {content: \"\";position: absolute;border-left: 1px solid gray;box-sizing: border-box;top: 0;bottom: 0;left: 50%;z-index: 0;}#sk-container-id-1 div.sk-serial {display: flex;flex-direction: column;align-items: center;background-color: white;padding-right: 0.2em;padding-left: 0.2em;position: relative;}#sk-container-id-1 div.sk-item {position: relative;z-index: 1;}#sk-container-id-1 div.sk-parallel {display: flex;align-items: stretch;justify-content: center;background-color: white;position: relative;}#sk-container-id-1 div.sk-item::before, #sk-container-id-1 div.sk-parallel-item::before {content: \"\";position: absolute;border-left: 1px solid gray;box-sizing: border-box;top: 0;bottom: 0;left: 50%;z-index: -1;}#sk-container-id-1 div.sk-parallel-item {display: flex;flex-direction: column;z-index: 1;position: relative;background-color: white;}#sk-container-id-1 div.sk-parallel-item:first-child::after {align-self: flex-end;width: 50%;}#sk-container-id-1 div.sk-parallel-item:last-child::after {align-self: flex-start;width: 50%;}#sk-container-id-1 div.sk-parallel-item:only-child::after {width: 0;}#sk-container-id-1 div.sk-dashed-wrapped {border: 1px dashed gray;margin: 0 0.4em 0.5em 0.4em;box-sizing: border-box;padding-bottom: 0.4em;background-color: white;}#sk-container-id-1 div.sk-label label {font-family: monospace;font-weight: bold;display: inline-block;line-height: 1.2em;}#sk-container-id-1 div.sk-label-container {text-align: center;}#sk-container-id-1 div.sk-container {/* jupyter's `normalize.less` sets `[hidden] { display: none; }` but bootstrap.min.css set `[hidden] { display: none !important; }` so we also need the `!important` here to be able to override the default hidden behavior on the sphinx rendered scikit-learn.org. See: https://github.com/scikit-learn/scikit-learn/issues/21755 */display: inline-block !important;position: relative;}#sk-container-id-1 div.sk-text-repr-fallback {display: none;}</style><div id=\"sk-container-id-1\" class=\"sk-top-container\"><div class=\"sk-text-repr-fallback\"><pre>Pipeline(steps=[(&#x27;scale&#x27;, StandardScaler()),\n",
       "                (&#x27;model&#x27;, GradientBoostingClassifier())])</pre><b>In a Jupyter environment, please rerun this cell to show the HTML representation or trust the notebook. <br />On GitHub, the HTML representation is unable to render, please try loading this page with nbviewer.org.</b></div><div class=\"sk-container\" hidden><div class=\"sk-item sk-dashed-wrapped\"><div class=\"sk-label-container\"><div class=\"sk-label sk-toggleable\"><input class=\"sk-toggleable__control sk-hidden--visually\" id=\"sk-estimator-id-1\" type=\"checkbox\" ><label for=\"sk-estimator-id-1\" class=\"sk-toggleable__label sk-toggleable__label-arrow\">Pipeline</label><div class=\"sk-toggleable__content\"><pre>Pipeline(steps=[(&#x27;scale&#x27;, StandardScaler()),\n",
       "                (&#x27;model&#x27;, GradientBoostingClassifier())])</pre></div></div></div><div class=\"sk-serial\"><div class=\"sk-item\"><div class=\"sk-estimator sk-toggleable\"><input class=\"sk-toggleable__control sk-hidden--visually\" id=\"sk-estimator-id-2\" type=\"checkbox\" ><label for=\"sk-estimator-id-2\" class=\"sk-toggleable__label sk-toggleable__label-arrow\">StandardScaler</label><div class=\"sk-toggleable__content\"><pre>StandardScaler()</pre></div></div></div><div class=\"sk-item\"><div class=\"sk-estimator sk-toggleable\"><input class=\"sk-toggleable__control sk-hidden--visually\" id=\"sk-estimator-id-3\" type=\"checkbox\" ><label for=\"sk-estimator-id-3\" class=\"sk-toggleable__label sk-toggleable__label-arrow\">GradientBoostingClassifier</label><div class=\"sk-toggleable__content\"><pre>GradientBoostingClassifier()</pre></div></div></div></div></div></div></div>"
      ],
      "text/plain": [
       "Pipeline(steps=[('scale', StandardScaler()),\n",
       "                ('model', GradientBoostingClassifier())])"
      ]
     },
     "execution_count": 32,
     "metadata": {},
     "output_type": "execute_result"
    }
   ],
   "source": [
    "model.fit(X_train, y_train.values.ravel())"
   ]
  },
  {
   "cell_type": "code",
   "execution_count": 33,
   "id": "af59f8c0",
   "metadata": {
    "execution": {
     "iopub.execute_input": "2025-08-05T16:21:31.119137Z",
     "iopub.status.busy": "2025-08-05T16:21:31.118800Z",
     "iopub.status.idle": "2025-08-05T16:21:31.124509Z",
     "shell.execute_reply": "2025-08-05T16:21:31.123418Z"
    },
    "papermill": {
     "duration": 0.023342,
     "end_time": "2025-08-05T16:21:31.126266",
     "exception": false,
     "start_time": "2025-08-05T16:21:31.102924",
     "status": "completed"
    },
    "tags": []
   },
   "outputs": [],
   "source": [
    "from fairness_multiverse.universe import predict_w_threshold"
   ]
  },
  {
   "cell_type": "code",
   "execution_count": 34,
   "id": "a7cf2e16",
   "metadata": {
    "execution": {
     "iopub.execute_input": "2025-08-05T16:21:31.154866Z",
     "iopub.status.busy": "2025-08-05T16:21:31.154005Z",
     "iopub.status.idle": "2025-08-05T16:21:32.041480Z",
     "shell.execute_reply": "2025-08-05T16:21:32.040303Z"
    },
    "papermill": {
     "duration": 0.903704,
     "end_time": "2025-08-05T16:21:32.043635",
     "exception": false,
     "start_time": "2025-08-05T16:21:31.139931",
     "status": "completed"
    },
    "tags": []
   },
   "outputs": [
    {
     "data": {
      "text/plain": [
       "0.8368966670382343"
      ]
     },
     "execution_count": 34,
     "metadata": {},
     "output_type": "execute_result"
    }
   ],
   "source": [
    "probs_test = model.predict_proba(X_test)\n",
    "\n",
    "'''\n",
    "Below code returns a boolean array (or binary 0/1 array depending on how it’s used) where each element \n",
    "is True if the probability of class 1 is greater than or equal to the threshold, and False otherwise.\n",
    "'''\n",
    "y_pred_default = predict_w_threshold(probs_test, 0.5)\n",
    "\n",
    "from sklearn.metrics import accuracy_score\n",
    "\n",
    "# Naive prediction\n",
    "accuracy_score(y_true = y_true, y_pred = y_pred_default)"
   ]
  },
  {
   "cell_type": "code",
   "execution_count": 35,
   "id": "081964c3",
   "metadata": {
    "execution": {
     "iopub.execute_input": "2025-08-05T16:21:32.094066Z",
     "iopub.status.busy": "2025-08-05T16:21:32.093257Z",
     "iopub.status.idle": "2025-08-05T16:21:32.939960Z",
     "shell.execute_reply": "2025-08-05T16:21:32.938810Z"
    },
    "papermill": {
     "duration": 0.873816,
     "end_time": "2025-08-05T16:21:32.942083",
     "exception": false,
     "start_time": "2025-08-05T16:21:32.068267",
     "status": "completed"
    },
    "tags": []
   },
   "outputs": [
    {
     "data": {
      "text/plain": [
       "array([0, 0, 0, ..., 0, 0, 0])"
      ]
     },
     "execution_count": 35,
     "metadata": {},
     "output_type": "execute_result"
    }
   ],
   "source": [
    "model.predict(X_test)"
   ]
  },
  {
   "cell_type": "markdown",
   "id": "56c9705b",
   "metadata": {
    "papermill": {
     "duration": 0.02552,
     "end_time": "2025-08-05T16:21:32.991573",
     "exception": false,
     "start_time": "2025-08-05T16:21:32.966053",
     "status": "completed"
    },
    "tags": []
   },
   "source": [
    "# Conformal Prediction"
   ]
  },
  {
   "cell_type": "code",
   "execution_count": 36,
   "id": "160ec6ff",
   "metadata": {
    "execution": {
     "iopub.execute_input": "2025-08-05T16:21:33.037494Z",
     "iopub.status.busy": "2025-08-05T16:21:33.036988Z",
     "iopub.status.idle": "2025-08-05T16:21:33.043250Z",
     "shell.execute_reply": "2025-08-05T16:21:33.042094Z"
    },
    "papermill": {
     "duration": 0.02811,
     "end_time": "2025-08-05T16:21:33.045895",
     "exception": false,
     "start_time": "2025-08-05T16:21:33.017785",
     "status": "completed"
    },
    "tags": []
   },
   "outputs": [],
   "source": [
    "# Miscoverage level for conformal prediction (10% allowed error rate => 90% target coverage)\n",
    "alpha = 0.1"
   ]
  },
  {
   "cell_type": "code",
   "execution_count": 37,
   "id": "eadf4555-3dd3-440e-8e35-f82a4ad9f855",
   "metadata": {
    "execution": {
     "iopub.execute_input": "2025-08-05T16:21:33.113100Z",
     "iopub.status.busy": "2025-08-05T16:21:33.112182Z",
     "iopub.status.idle": "2025-08-05T16:21:33.860016Z",
     "shell.execute_reply": "2025-08-05T16:21:33.858764Z"
    },
    "papermill": {
     "duration": 0.784362,
     "end_time": "2025-08-05T16:21:33.862449",
     "exception": false,
     "start_time": "2025-08-05T16:21:33.078087",
     "status": "completed"
    },
    "tags": []
   },
   "outputs": [],
   "source": [
    "probs_calib = model.predict_proba(X_calib)"
   ]
  },
  {
   "cell_type": "code",
   "execution_count": 38,
   "id": "2ed93547-6d5d-4983-9b36-1ecb300da49a",
   "metadata": {
    "execution": {
     "iopub.execute_input": "2025-08-05T16:21:33.918436Z",
     "iopub.status.busy": "2025-08-05T16:21:33.917595Z",
     "iopub.status.idle": "2025-08-05T16:21:33.924938Z",
     "shell.execute_reply": "2025-08-05T16:21:33.923839Z"
    },
    "papermill": {
     "duration": 0.037219,
     "end_time": "2025-08-05T16:21:33.926931",
     "exception": false,
     "start_time": "2025-08-05T16:21:33.889712",
     "status": "completed"
    },
    "tags": []
   },
   "outputs": [],
   "source": [
    "y_calib = y_calib.values.ravel().astype(int)"
   ]
  },
  {
   "cell_type": "code",
   "execution_count": 39,
   "id": "65d1320d-f588-4b38-9072-62af1ae97f7d",
   "metadata": {
    "execution": {
     "iopub.execute_input": "2025-08-05T16:21:33.983100Z",
     "iopub.status.busy": "2025-08-05T16:21:33.982168Z",
     "iopub.status.idle": "2025-08-05T16:21:33.991122Z",
     "shell.execute_reply": "2025-08-05T16:21:33.989952Z"
    },
    "papermill": {
     "duration": 0.03927,
     "end_time": "2025-08-05T16:21:33.993345",
     "exception": false,
     "start_time": "2025-08-05T16:21:33.954075",
     "status": "completed"
    },
    "tags": []
   },
   "outputs": [],
   "source": [
    "from fairness_multiverse.conformal import compute_nc_scores\n",
    "\n",
    "# Compute nonconformity scores on calibration set (1 - probability of true class)\n",
    "nc_scores = compute_nc_scores(probs_calib, y_calib)"
   ]
  },
  {
   "cell_type": "code",
   "execution_count": 40,
   "id": "df3b8ca3-53b7-43d5-9667-7c85da7aeda2",
   "metadata": {
    "execution": {
     "iopub.execute_input": "2025-08-05T16:21:34.049847Z",
     "iopub.status.busy": "2025-08-05T16:21:34.048737Z",
     "iopub.status.idle": "2025-08-05T16:21:34.057184Z",
     "shell.execute_reply": "2025-08-05T16:21:34.056005Z"
    },
    "papermill": {
     "duration": 0.038703,
     "end_time": "2025-08-05T16:21:34.059252",
     "exception": false,
     "start_time": "2025-08-05T16:21:34.020549",
     "status": "completed"
    },
    "tags": []
   },
   "outputs": [],
   "source": [
    "from fairness_multiverse.conformal import find_threshold\n",
    "\n",
    "# Find conformal threshold q_hat for the given alpha (split conformal method)\n",
    "q_hat = find_threshold(nc_scores, alpha)"
   ]
  },
  {
   "cell_type": "code",
   "execution_count": 41,
   "id": "4d29e6c1-0ef6-4aa4-b8fe-4fe79b0d033a",
   "metadata": {
    "execution": {
     "iopub.execute_input": "2025-08-05T16:21:34.115917Z",
     "iopub.status.busy": "2025-08-05T16:21:34.114742Z",
     "iopub.status.idle": "2025-08-05T16:21:34.124207Z",
     "shell.execute_reply": "2025-08-05T16:21:34.122971Z"
    },
    "papermill": {
     "duration": 0.039824,
     "end_time": "2025-08-05T16:21:34.126232",
     "exception": false,
     "start_time": "2025-08-05T16:21:34.086408",
     "status": "completed"
    },
    "tags": []
   },
   "outputs": [
    {
     "data": {
      "text/plain": [
       "0.7838578569930518"
      ]
     },
     "execution_count": 41,
     "metadata": {},
     "output_type": "execute_result"
    }
   ],
   "source": [
    "q_hat"
   ]
  },
  {
   "cell_type": "code",
   "execution_count": 42,
   "id": "92460794-cdac-4be2-ba28-f28c0515a6fb",
   "metadata": {
    "execution": {
     "iopub.execute_input": "2025-08-05T16:21:34.186163Z",
     "iopub.status.busy": "2025-08-05T16:21:34.185277Z",
     "iopub.status.idle": "2025-08-05T16:21:35.452947Z",
     "shell.execute_reply": "2025-08-05T16:21:35.451662Z"
    },
    "papermill": {
     "duration": 1.300081,
     "end_time": "2025-08-05T16:21:35.455355",
     "exception": false,
     "start_time": "2025-08-05T16:21:34.155274",
     "status": "completed"
    },
    "tags": []
   },
   "outputs": [],
   "source": [
    "from fairness_multiverse.conformal import predict_conformal_sets\n",
    "\n",
    "# Generate prediction sets for each test example\n",
    "pred_sets = predict_conformal_sets(model, X_test, q_hat)"
   ]
  },
  {
   "cell_type": "code",
   "execution_count": 43,
   "id": "d90c9a65-e6db-4f5d-80cd-e68fb7e46829",
   "metadata": {
    "execution": {
     "iopub.execute_input": "2025-08-05T16:21:35.509446Z",
     "iopub.status.busy": "2025-08-05T16:21:35.508434Z",
     "iopub.status.idle": "2025-08-05T16:21:35.516865Z",
     "shell.execute_reply": "2025-08-05T16:21:35.515458Z"
    },
    "papermill": {
     "duration": 0.042633,
     "end_time": "2025-08-05T16:21:35.524071",
     "exception": false,
     "start_time": "2025-08-05T16:21:35.481438",
     "status": "completed"
    },
    "tags": []
   },
   "outputs": [],
   "source": [
    "y_true = y_true.squeeze()"
   ]
  },
  {
   "cell_type": "code",
   "execution_count": 44,
   "id": "3a58a54a-1e68-46b9-927a-df01f18aebc8",
   "metadata": {
    "execution": {
     "iopub.execute_input": "2025-08-05T16:21:35.577820Z",
     "iopub.status.busy": "2025-08-05T16:21:35.576602Z",
     "iopub.status.idle": "2025-08-05T16:21:36.723816Z",
     "shell.execute_reply": "2025-08-05T16:21:36.722658Z"
    },
    "papermill": {
     "duration": 1.175755,
     "end_time": "2025-08-05T16:21:36.725988",
     "exception": false,
     "start_time": "2025-08-05T16:21:35.550233",
     "status": "completed"
    },
    "tags": []
   },
   "outputs": [],
   "source": [
    "from fairness_multiverse.conformal import evaluate_sets\n",
    "\n",
    "# Evaluate coverage and average set size on test data\n",
    "metrics = evaluate_sets(pred_sets, y_true)"
   ]
  },
  {
   "cell_type": "markdown",
   "id": "2b569c12-9aaa-4c88-98c9-bbcd0cf3ebb8",
   "metadata": {
    "papermill": {
     "duration": 0.026689,
     "end_time": "2025-08-05T16:21:36.780876",
     "exception": false,
     "start_time": "2025-08-05T16:21:36.754187",
     "status": "completed"
    },
    "tags": []
   },
   "source": [
    "# CP Metrics"
   ]
  },
  {
   "cell_type": "code",
   "execution_count": 45,
   "id": "5ce0a5cb-201f-45a0-ade5-94c7f0bd6095",
   "metadata": {
    "execution": {
     "iopub.execute_input": "2025-08-05T16:21:36.838080Z",
     "iopub.status.busy": "2025-08-05T16:21:36.837070Z",
     "iopub.status.idle": "2025-08-05T16:21:36.845672Z",
     "shell.execute_reply": "2025-08-05T16:21:36.844612Z"
    },
    "papermill": {
     "duration": 0.038579,
     "end_time": "2025-08-05T16:21:36.847641",
     "exception": false,
     "start_time": "2025-08-05T16:21:36.809062",
     "status": "completed"
    },
    "tags": []
   },
   "outputs": [
    {
     "data": {
      "text/plain": [
       "{'coverage': 0.9116597926652548, 'avg_size': 1.1872700925203434}"
      ]
     },
     "execution_count": 45,
     "metadata": {},
     "output_type": "execute_result"
    }
   ],
   "source": [
    "metrics"
   ]
  },
  {
   "cell_type": "code",
   "execution_count": 46,
   "id": "9b9a838d-31c9-430b-ae14-12baee460d17",
   "metadata": {
    "execution": {
     "iopub.execute_input": "2025-08-05T16:21:36.903579Z",
     "iopub.status.busy": "2025-08-05T16:21:36.902896Z",
     "iopub.status.idle": "2025-08-05T16:21:36.910814Z",
     "shell.execute_reply": "2025-08-05T16:21:36.909497Z"
    },
    "papermill": {
     "duration": 0.038174,
     "end_time": "2025-08-05T16:21:36.912975",
     "exception": false,
     "start_time": "2025-08-05T16:21:36.874801",
     "status": "completed"
    },
    "tags": []
   },
   "outputs": [],
   "source": [
    "example_universe = universe.copy()\n",
    "universe_training_year = example_universe.get(\"training_year\")\n",
    "universe_training_size = example_universe.get(\"training_size\")\n",
    "universe_scale = example_universe.get(\"scale\")\n",
    "universe_model = example_universe.get(\"model\")\n",
    "universe_exclude_features = example_universe.get(\"exclude_features\")\n",
    "universe_exclude_subgroups = example_universe.get(\"exclude_subgroups\")"
   ]
  },
  {
   "cell_type": "code",
   "execution_count": 47,
   "id": "f4b6a8ac-9dc0-4245-8a91-5b3b5999c4f9",
   "metadata": {
    "execution": {
     "iopub.execute_input": "2025-08-05T16:21:36.969681Z",
     "iopub.status.busy": "2025-08-05T16:21:36.968782Z",
     "iopub.status.idle": "2025-08-05T16:21:36.977433Z",
     "shell.execute_reply": "2025-08-05T16:21:36.975734Z"
    },
    "papermill": {
     "duration": 0.039446,
     "end_time": "2025-08-05T16:21:36.979844",
     "exception": false,
     "start_time": "2025-08-05T16:21:36.940398",
     "status": "completed"
    },
    "tags": []
   },
   "outputs": [],
   "source": [
    "cp_metrics_dict = {\n",
    "    \"universe_id\": [universe_id],\n",
    "    \"universe_training_year\": [universe_training_year],\n",
    "    \"universe_training_size\": [universe_training_size],\n",
    "    \"universe_scale\": [universe_scale],\n",
    "    \"universe_model\": [universe_model],\n",
    "    \"universe_exclude_features\": [universe_exclude_features],\n",
    "    \"universe_exclude_subgroups\": [universe_exclude_subgroups],\n",
    "    \"q_hat\": [q_hat],\n",
    "    \"coverage\": [metrics[\"coverage\"]],\n",
    "    \"avg_size\": [metrics[\"avg_size\"]],\n",
    "}"
   ]
  },
  {
   "cell_type": "code",
   "execution_count": 48,
   "id": "908acbb1-0371-4915-85ca-3fa520d2efe2",
   "metadata": {
    "execution": {
     "iopub.execute_input": "2025-08-05T16:21:37.039783Z",
     "iopub.status.busy": "2025-08-05T16:21:37.039230Z",
     "iopub.status.idle": "2025-08-05T16:21:37.048381Z",
     "shell.execute_reply": "2025-08-05T16:21:37.047211Z"
    },
    "papermill": {
     "duration": 0.041304,
     "end_time": "2025-08-05T16:21:37.050392",
     "exception": false,
     "start_time": "2025-08-05T16:21:37.009088",
     "status": "completed"
    },
    "tags": []
   },
   "outputs": [
    {
     "data": {
      "text/plain": [
       "{'universe_id': ['684333c825d87922deac10818ff51b33'],\n",
       " 'universe_training_year': ['2012_14'],\n",
       " 'universe_training_size': ['1k'],\n",
       " 'universe_scale': ['scale'],\n",
       " 'universe_model': ['gbm'],\n",
       " 'universe_exclude_features': ['nationality-sex'],\n",
       " 'universe_exclude_subgroups': ['drop-non-german'],\n",
       " 'q_hat': [0.7838578569930518],\n",
       " 'coverage': [0.9116597926652548],\n",
       " 'avg_size': [1.1872700925203434]}"
      ]
     },
     "execution_count": 48,
     "metadata": {},
     "output_type": "execute_result"
    }
   ],
   "source": [
    "cp_metrics_dict"
   ]
  },
  {
   "cell_type": "code",
   "execution_count": 49,
   "id": "33007efc-14e9-4ec6-97ac-56a455c82265",
   "metadata": {
    "execution": {
     "iopub.execute_input": "2025-08-05T16:21:37.112806Z",
     "iopub.status.busy": "2025-08-05T16:21:37.112039Z",
     "iopub.status.idle": "2025-08-05T16:21:37.119541Z",
     "shell.execute_reply": "2025-08-05T16:21:37.118262Z"
    },
    "papermill": {
     "duration": 0.040474,
     "end_time": "2025-08-05T16:21:37.121433",
     "exception": false,
     "start_time": "2025-08-05T16:21:37.080959",
     "status": "completed"
    },
    "tags": []
   },
   "outputs": [],
   "source": [
    "cp_metrics_df = pd.DataFrame(cp_metrics_dict)"
   ]
  },
  {
   "cell_type": "code",
   "execution_count": 50,
   "id": "db12611b-57b2-4910-b9d0-355adfd6e7bf",
   "metadata": {
    "execution": {
     "iopub.execute_input": "2025-08-05T16:21:37.183327Z",
     "iopub.status.busy": "2025-08-05T16:21:37.182726Z",
     "iopub.status.idle": "2025-08-05T16:21:37.210536Z",
     "shell.execute_reply": "2025-08-05T16:21:37.209300Z"
    },
    "papermill": {
     "duration": 0.061692,
     "end_time": "2025-08-05T16:21:37.212644",
     "exception": false,
     "start_time": "2025-08-05T16:21:37.150952",
     "status": "completed"
    },
    "tags": []
   },
   "outputs": [
    {
     "data": {
      "text/html": [
       "<div>\n",
       "<style scoped>\n",
       "    .dataframe tbody tr th:only-of-type {\n",
       "        vertical-align: middle;\n",
       "    }\n",
       "\n",
       "    .dataframe tbody tr th {\n",
       "        vertical-align: top;\n",
       "    }\n",
       "\n",
       "    .dataframe thead th {\n",
       "        text-align: right;\n",
       "    }\n",
       "</style>\n",
       "<table border=\"1\" class=\"dataframe\">\n",
       "  <thead>\n",
       "    <tr style=\"text-align: right;\">\n",
       "      <th></th>\n",
       "      <th>universe_id</th>\n",
       "      <th>universe_training_year</th>\n",
       "      <th>universe_training_size</th>\n",
       "      <th>universe_scale</th>\n",
       "      <th>universe_model</th>\n",
       "      <th>universe_exclude_features</th>\n",
       "      <th>universe_exclude_subgroups</th>\n",
       "      <th>q_hat</th>\n",
       "      <th>coverage</th>\n",
       "      <th>avg_size</th>\n",
       "    </tr>\n",
       "  </thead>\n",
       "  <tbody>\n",
       "    <tr>\n",
       "      <th>0</th>\n",
       "      <td>684333c825d87922deac10818ff51b33</td>\n",
       "      <td>2012_14</td>\n",
       "      <td>1k</td>\n",
       "      <td>scale</td>\n",
       "      <td>gbm</td>\n",
       "      <td>nationality-sex</td>\n",
       "      <td>drop-non-german</td>\n",
       "      <td>0.783858</td>\n",
       "      <td>0.91166</td>\n",
       "      <td>1.18727</td>\n",
       "    </tr>\n",
       "  </tbody>\n",
       "</table>\n",
       "</div>"
      ],
      "text/plain": [
       "                        universe_id universe_training_year  \\\n",
       "0  684333c825d87922deac10818ff51b33                2012_14   \n",
       "\n",
       "  universe_training_size universe_scale universe_model  \\\n",
       "0                     1k          scale            gbm   \n",
       "\n",
       "  universe_exclude_features universe_exclude_subgroups     q_hat  coverage  \\\n",
       "0           nationality-sex            drop-non-german  0.783858   0.91166   \n",
       "\n",
       "   avg_size  \n",
       "0   1.18727  "
      ]
     },
     "execution_count": 50,
     "metadata": {},
     "output_type": "execute_result"
    }
   ],
   "source": [
    "cp_metrics_df"
   ]
  },
  {
   "cell_type": "code",
   "execution_count": 51,
   "id": "b7fbde55-a0a1-47e4-9af6-fe4a17fa8c61",
   "metadata": {
    "execution": {
     "iopub.execute_input": "2025-08-05T16:21:37.274912Z",
     "iopub.status.busy": "2025-08-05T16:21:37.274401Z",
     "iopub.status.idle": "2025-08-05T16:21:37.280038Z",
     "shell.execute_reply": "2025-08-05T16:21:37.278871Z"
    },
    "papermill": {
     "duration": 0.038653,
     "end_time": "2025-08-05T16:21:37.282061",
     "exception": false,
     "start_time": "2025-08-05T16:21:37.243408",
     "status": "completed"
    },
    "tags": []
   },
   "outputs": [],
   "source": [
    "# Conditional Coverage & looking at subgroups"
   ]
  },
  {
   "cell_type": "code",
   "execution_count": 52,
   "id": "027ae886-68dd-4141-96c7-805a5450e1ef",
   "metadata": {
    "execution": {
     "iopub.execute_input": "2025-08-05T16:21:37.343215Z",
     "iopub.status.busy": "2025-08-05T16:21:37.342694Z",
     "iopub.status.idle": "2025-08-05T16:21:37.642809Z",
     "shell.execute_reply": "2025-08-05T16:21:37.641575Z"
    },
    "papermill": {
     "duration": 0.333496,
     "end_time": "2025-08-05T16:21:37.645201",
     "exception": false,
     "start_time": "2025-08-05T16:21:37.311705",
     "status": "completed"
    },
    "tags": []
   },
   "outputs": [],
   "source": [
    "from fairness_multiverse.conformal import build_cp_groups\n",
    "\n",
    "cp_groups_df = build_cp_groups(pred_sets, y_true, X_test.index, org_test)\n",
    "#needs universe_id and setting"
   ]
  },
  {
   "cell_type": "code",
   "execution_count": 53,
   "id": "6cbdab96-b2b2-45af-ad54-d0516db2e28d",
   "metadata": {
    "execution": {
     "iopub.execute_input": "2025-08-05T16:21:37.707637Z",
     "iopub.status.busy": "2025-08-05T16:21:37.707093Z",
     "iopub.status.idle": "2025-08-05T16:21:39.807967Z",
     "shell.execute_reply": "2025-08-05T16:21:39.806857Z"
    },
    "papermill": {
     "duration": 2.133924,
     "end_time": "2025-08-05T16:21:39.810164",
     "exception": false,
     "start_time": "2025-08-05T16:21:37.676240",
     "status": "completed"
    },
    "tags": []
   },
   "outputs": [],
   "source": [
    "# Define covered = 1 if true_label is in the predicted set\n",
    "cp_groups_df['covered'] = cp_groups_df.apply(\n",
    "    lambda r: int(r['true_label'] in r['pred_set']),\n",
    "    axis=1\n",
    ")"
   ]
  },
  {
   "cell_type": "code",
   "execution_count": 54,
   "id": "338ff529-1a6b-4b87-a931-8e4788d52aad",
   "metadata": {
    "execution": {
     "iopub.execute_input": "2025-08-05T16:21:39.866490Z",
     "iopub.status.busy": "2025-08-05T16:21:39.865964Z",
     "iopub.status.idle": "2025-08-05T16:21:39.872343Z",
     "shell.execute_reply": "2025-08-05T16:21:39.871104Z"
    },
    "papermill": {
     "duration": 0.036437,
     "end_time": "2025-08-05T16:21:39.874220",
     "exception": false,
     "start_time": "2025-08-05T16:21:39.837783",
     "status": "completed"
    },
    "tags": []
   },
   "outputs": [],
   "source": [
    "#cp_groups_df"
   ]
  },
  {
   "cell_type": "code",
   "execution_count": 55,
   "id": "90032e27-66df-4540-9169-4e89cfbaa758",
   "metadata": {
    "execution": {
     "iopub.execute_input": "2025-08-05T16:21:39.938913Z",
     "iopub.status.busy": "2025-08-05T16:21:39.938070Z",
     "iopub.status.idle": "2025-08-05T16:21:39.951363Z",
     "shell.execute_reply": "2025-08-05T16:21:39.950269Z"
    },
    "papermill": {
     "duration": 0.051876,
     "end_time": "2025-08-05T16:21:39.952960",
     "exception": false,
     "start_time": "2025-08-05T16:21:39.901084",
     "status": "completed"
    },
    "tags": []
   },
   "outputs": [],
   "source": [
    "subgroups = ['frau1','nongerman','nongerman_male','nongerman_female']\n",
    "\n",
    "# Conditional coverage for subgroup==1\n",
    "cond_coverage = {\n",
    "    g: cp_groups_df.loc[cp_groups_df[g]==1, 'covered'].mean()\n",
    "    for g in subgroups\n",
    "}"
   ]
  },
  {
   "cell_type": "code",
   "execution_count": 56,
   "id": "1e348fb1-b9c3-45bc-ba23-f016827a7e0d",
   "metadata": {
    "execution": {
     "iopub.execute_input": "2025-08-05T16:21:40.011203Z",
     "iopub.status.busy": "2025-08-05T16:21:40.010189Z",
     "iopub.status.idle": "2025-08-05T16:21:40.020015Z",
     "shell.execute_reply": "2025-08-05T16:21:40.018958Z"
    },
    "papermill": {
     "duration": 0.040559,
     "end_time": "2025-08-05T16:21:40.021897",
     "exception": false,
     "start_time": "2025-08-05T16:21:39.981338",
     "status": "completed"
    },
    "tags": []
   },
   "outputs": [
    {
     "data": {
      "text/plain": [
       "{'frau1': 0.9077234128588758,\n",
       " 'nongerman': 0.9055745803626565,\n",
       " 'nongerman_male': 0.9237143114473566,\n",
       " 'nongerman_female': 0.875558867362146}"
      ]
     },
     "execution_count": 56,
     "metadata": {},
     "output_type": "execute_result"
    }
   ],
   "source": [
    "cond_coverage"
   ]
  },
  {
   "cell_type": "code",
   "execution_count": 57,
   "id": "f5093324-c3dd-4d63-bc4c-8d945e5c8bbb",
   "metadata": {
    "execution": {
     "iopub.execute_input": "2025-08-05T16:21:40.089742Z",
     "iopub.status.busy": "2025-08-05T16:21:40.089130Z",
     "iopub.status.idle": "2025-08-05T16:21:40.098149Z",
     "shell.execute_reply": "2025-08-05T16:21:40.096850Z"
    },
    "papermill": {
     "duration": 0.047567,
     "end_time": "2025-08-05T16:21:40.100540",
     "exception": false,
     "start_time": "2025-08-05T16:21:40.052973",
     "status": "completed"
    },
    "tags": []
   },
   "outputs": [],
   "source": [
    "for subgroup, cov in cond_coverage.items():\n",
    "    cp_metrics_df[f\"cov_{subgroup}\"] = cov"
   ]
  },
  {
   "cell_type": "code",
   "execution_count": 58,
   "id": "6e872e10-dbe5-49e8-b554-5030c98ff75d",
   "metadata": {
    "execution": {
     "iopub.execute_input": "2025-08-05T16:21:40.174234Z",
     "iopub.status.busy": "2025-08-05T16:21:40.173777Z",
     "iopub.status.idle": "2025-08-05T16:21:40.199282Z",
     "shell.execute_reply": "2025-08-05T16:21:40.198104Z"
    },
    "papermill": {
     "duration": 0.064542,
     "end_time": "2025-08-05T16:21:40.201371",
     "exception": false,
     "start_time": "2025-08-05T16:21:40.136829",
     "status": "completed"
    },
    "tags": []
   },
   "outputs": [
    {
     "data": {
      "text/html": [
       "<div>\n",
       "<style scoped>\n",
       "    .dataframe tbody tr th:only-of-type {\n",
       "        vertical-align: middle;\n",
       "    }\n",
       "\n",
       "    .dataframe tbody tr th {\n",
       "        vertical-align: top;\n",
       "    }\n",
       "\n",
       "    .dataframe thead th {\n",
       "        text-align: right;\n",
       "    }\n",
       "</style>\n",
       "<table border=\"1\" class=\"dataframe\">\n",
       "  <thead>\n",
       "    <tr style=\"text-align: right;\">\n",
       "      <th></th>\n",
       "      <th>universe_id</th>\n",
       "      <th>universe_training_year</th>\n",
       "      <th>universe_training_size</th>\n",
       "      <th>universe_scale</th>\n",
       "      <th>universe_model</th>\n",
       "      <th>universe_exclude_features</th>\n",
       "      <th>universe_exclude_subgroups</th>\n",
       "      <th>q_hat</th>\n",
       "      <th>coverage</th>\n",
       "      <th>avg_size</th>\n",
       "      <th>cov_frau1</th>\n",
       "      <th>cov_nongerman</th>\n",
       "      <th>cov_nongerman_male</th>\n",
       "      <th>cov_nongerman_female</th>\n",
       "    </tr>\n",
       "  </thead>\n",
       "  <tbody>\n",
       "    <tr>\n",
       "      <th>0</th>\n",
       "      <td>684333c825d87922deac10818ff51b33</td>\n",
       "      <td>2012_14</td>\n",
       "      <td>1k</td>\n",
       "      <td>scale</td>\n",
       "      <td>gbm</td>\n",
       "      <td>nationality-sex</td>\n",
       "      <td>drop-non-german</td>\n",
       "      <td>0.783858</td>\n",
       "      <td>0.91166</td>\n",
       "      <td>1.18727</td>\n",
       "      <td>0.907723</td>\n",
       "      <td>0.905575</td>\n",
       "      <td>0.923714</td>\n",
       "      <td>0.875559</td>\n",
       "    </tr>\n",
       "  </tbody>\n",
       "</table>\n",
       "</div>"
      ],
      "text/plain": [
       "                        universe_id universe_training_year  \\\n",
       "0  684333c825d87922deac10818ff51b33                2012_14   \n",
       "\n",
       "  universe_training_size universe_scale universe_model  \\\n",
       "0                     1k          scale            gbm   \n",
       "\n",
       "  universe_exclude_features universe_exclude_subgroups     q_hat  coverage  \\\n",
       "0           nationality-sex            drop-non-german  0.783858   0.91166   \n",
       "\n",
       "   avg_size  cov_frau1  cov_nongerman  cov_nongerman_male  \\\n",
       "0   1.18727   0.907723       0.905575            0.923714   \n",
       "\n",
       "   cov_nongerman_female  \n",
       "0              0.875559  "
      ]
     },
     "execution_count": 58,
     "metadata": {},
     "output_type": "execute_result"
    }
   ],
   "source": [
    "cp_metrics_df"
   ]
  },
  {
   "cell_type": "markdown",
   "id": "33774451",
   "metadata": {
    "papermill": {
     "duration": 0.025269,
     "end_time": "2025-08-05T16:21:40.255230",
     "exception": false,
     "start_time": "2025-08-05T16:21:40.229961",
     "status": "completed"
    },
    "tags": []
   },
   "source": [
    "# (Fairness) Metrics"
   ]
  },
  {
   "cell_type": "code",
   "execution_count": 59,
   "id": "debc5d62",
   "metadata": {
    "execution": {
     "iopub.execute_input": "2025-08-05T16:21:40.315695Z",
     "iopub.status.busy": "2025-08-05T16:21:40.314558Z",
     "iopub.status.idle": "2025-08-05T16:21:40.339884Z",
     "shell.execute_reply": "2025-08-05T16:21:40.338726Z"
    },
    "papermill": {
     "duration": 0.06031,
     "end_time": "2025-08-05T16:21:40.342094",
     "exception": false,
     "start_time": "2025-08-05T16:21:40.281784",
     "status": "completed"
    },
    "tags": []
   },
   "outputs": [],
   "source": [
    "# do I need to include maxdeutsch1.missing?\n",
    "\n",
    "import numpy as np\n",
    "\n",
    "colname_to_bin = \"maxdeutsch1\"\n",
    "majority_value = org_train[colname_to_bin].mode()[0]\n",
    "\n",
    "org_test[\"majmin\"] = np.where(org_test[colname_to_bin] == majority_value, \"majority\", \"minority\")"
   ]
  },
  {
   "cell_type": "code",
   "execution_count": 60,
   "id": "06a50de5",
   "metadata": {
    "execution": {
     "iopub.execute_input": "2025-08-05T16:21:40.401623Z",
     "iopub.status.busy": "2025-08-05T16:21:40.400833Z",
     "iopub.status.idle": "2025-08-05T16:21:43.793754Z",
     "shell.execute_reply": "2025-08-05T16:21:43.792427Z"
    },
    "papermill": {
     "duration": 3.425763,
     "end_time": "2025-08-05T16:21:43.796164",
     "exception": false,
     "start_time": "2025-08-05T16:21:40.370401",
     "status": "completed"
    },
    "tags": []
   },
   "outputs": [],
   "source": [
    "example_universe = universe.copy()\n",
    "example_universe[\"cutoff\"] = example_universe[\"cutoff\"][0]\n",
    "example_universe[\"eval_fairness_grouping\"] = example_universe[\"eval_fairness_grouping\"][0]\n",
    "fairness_dict, metric_frame = universe_analysis.compute_metrics(\n",
    "    example_universe,\n",
    "    y_pred_prob=probs_test,\n",
    "    y_test=y_true,\n",
    "    org_test=org_test,\n",
    ")"
   ]
  },
  {
   "cell_type": "markdown",
   "id": "f95d4e02",
   "metadata": {
    "papermill": {
     "duration": 0.031141,
     "end_time": "2025-08-05T16:21:43.862767",
     "exception": false,
     "start_time": "2025-08-05T16:21:43.831626",
     "status": "completed"
    },
    "tags": []
   },
   "source": [
    "# Overall"
   ]
  },
  {
   "cell_type": "markdown",
   "id": "bdee4871",
   "metadata": {
    "papermill": {
     "duration": 0.033045,
     "end_time": "2025-08-05T16:21:43.928468",
     "exception": false,
     "start_time": "2025-08-05T16:21:43.895423",
     "status": "completed"
    },
    "tags": []
   },
   "source": [
    "Fairness\n",
    "Main fairness target: Equalized Odds. Seems to be a better fit than equal opportunity, since we're not only interested in Y = 1. Seems to be a better fit than demographic parity, since we also care about accuracy, not just equal distribution of preds.\n",
    "\n",
    "Pick column for computation of fairness metrics\n",
    "\n",
    "Performance\n",
    "Overall performance measures, most interesting in relation to the measures split by group below"
   ]
  },
  {
   "cell_type": "code",
   "execution_count": 61,
   "id": "c4e067c6",
   "metadata": {
    "execution": {
     "iopub.execute_input": "2025-08-05T16:21:43.997193Z",
     "iopub.status.busy": "2025-08-05T16:21:43.995887Z",
     "iopub.status.idle": "2025-08-05T16:21:44.008051Z",
     "shell.execute_reply": "2025-08-05T16:21:44.006722Z"
    },
    "papermill": {
     "duration": 0.048933,
     "end_time": "2025-08-05T16:21:44.010239",
     "exception": false,
     "start_time": "2025-08-05T16:21:43.961306",
     "status": "completed"
    },
    "tags": []
   },
   "outputs": [
    {
     "data": {
      "text/plain": [
       "accuracy                   0.222684\n",
       "balanced accuracy          0.545033\n",
       "f1                         0.244144\n",
       "precision                  0.139469\n",
       "false positive rate        0.888558\n",
       "false negative rate        0.021376\n",
       "selection rate             0.900111\n",
       "count                  89710.000000\n",
       "dtype: float64"
      ]
     },
     "execution_count": 61,
     "metadata": {},
     "output_type": "execute_result"
    }
   ],
   "source": [
    "metric_frame.overall"
   ]
  },
  {
   "cell_type": "markdown",
   "id": "e968fe9d",
   "metadata": {
    "papermill": {
     "duration": 0.033428,
     "end_time": "2025-08-05T16:21:44.077247",
     "exception": false,
     "start_time": "2025-08-05T16:21:44.043819",
     "status": "completed"
    },
    "tags": []
   },
   "source": [
    "By Group"
   ]
  },
  {
   "cell_type": "code",
   "execution_count": 62,
   "id": "ec325bce",
   "metadata": {
    "execution": {
     "iopub.execute_input": "2025-08-05T16:21:44.145577Z",
     "iopub.status.busy": "2025-08-05T16:21:44.144396Z",
     "iopub.status.idle": "2025-08-05T16:21:44.171157Z",
     "shell.execute_reply": "2025-08-05T16:21:44.169787Z"
    },
    "papermill": {
     "duration": 0.063056,
     "end_time": "2025-08-05T16:21:44.173315",
     "exception": false,
     "start_time": "2025-08-05T16:21:44.110259",
     "status": "completed"
    },
    "tags": []
   },
   "outputs": [
    {
     "data": {
      "text/html": [
       "<div>\n",
       "<style scoped>\n",
       "    .dataframe tbody tr th:only-of-type {\n",
       "        vertical-align: middle;\n",
       "    }\n",
       "\n",
       "    .dataframe tbody tr th {\n",
       "        vertical-align: top;\n",
       "    }\n",
       "\n",
       "    .dataframe thead th {\n",
       "        text-align: right;\n",
       "    }\n",
       "</style>\n",
       "<table border=\"1\" class=\"dataframe\">\n",
       "  <thead>\n",
       "    <tr style=\"text-align: right;\">\n",
       "      <th></th>\n",
       "      <th>accuracy</th>\n",
       "      <th>balanced accuracy</th>\n",
       "      <th>f1</th>\n",
       "      <th>precision</th>\n",
       "      <th>false positive rate</th>\n",
       "      <th>false negative rate</th>\n",
       "      <th>selection rate</th>\n",
       "      <th>count</th>\n",
       "    </tr>\n",
       "    <tr>\n",
       "      <th>majmin</th>\n",
       "      <th></th>\n",
       "      <th></th>\n",
       "      <th></th>\n",
       "      <th></th>\n",
       "      <th></th>\n",
       "      <th></th>\n",
       "      <th></th>\n",
       "      <th></th>\n",
       "    </tr>\n",
       "  </thead>\n",
       "  <tbody>\n",
       "    <tr>\n",
       "      <th>majority</th>\n",
       "      <td>0.243675</td>\n",
       "      <td>0.554289</td>\n",
       "      <td>0.25440</td>\n",
       "      <td>0.146252</td>\n",
       "      <td>0.867899</td>\n",
       "      <td>0.023523</td>\n",
       "      <td>0.882247</td>\n",
       "      <td>69170.0</td>\n",
       "    </tr>\n",
       "    <tr>\n",
       "      <th>minority</th>\n",
       "      <td>0.151996</td>\n",
       "      <td>0.515054</td>\n",
       "      <td>0.21157</td>\n",
       "      <td>0.118485</td>\n",
       "      <td>0.956802</td>\n",
       "      <td>0.013091</td>\n",
       "      <td>0.960273</td>\n",
       "      <td>20540.0</td>\n",
       "    </tr>\n",
       "  </tbody>\n",
       "</table>\n",
       "</div>"
      ],
      "text/plain": [
       "          accuracy  balanced accuracy       f1  precision  \\\n",
       "majmin                                                      \n",
       "majority  0.243675           0.554289  0.25440   0.146252   \n",
       "minority  0.151996           0.515054  0.21157   0.118485   \n",
       "\n",
       "          false positive rate  false negative rate  selection rate    count  \n",
       "majmin                                                                       \n",
       "majority             0.867899             0.023523        0.882247  69170.0  \n",
       "minority             0.956802             0.013091        0.960273  20540.0  "
      ]
     },
     "execution_count": 62,
     "metadata": {},
     "output_type": "execute_result"
    }
   ],
   "source": [
    "metric_frame.by_group"
   ]
  },
  {
   "cell_type": "code",
   "execution_count": 63,
   "id": "a9ddbe63",
   "metadata": {
    "execution": {
     "iopub.execute_input": "2025-08-05T16:21:44.243785Z",
     "iopub.status.busy": "2025-08-05T16:21:44.242634Z",
     "iopub.status.idle": "2025-08-05T16:21:47.053539Z",
     "shell.execute_reply": "2025-08-05T16:21:47.052422Z"
    },
    "papermill": {
     "duration": 2.84834,
     "end_time": "2025-08-05T16:21:47.055540",
     "exception": false,
     "start_time": "2025-08-05T16:21:44.207200",
     "status": "completed"
    },
    "tags": []
   },
   "outputs": [
    {
     "data": {
      "text/plain": [
       "array([[<Axes: title={'center': 'accuracy'}, xlabel='majmin'>,\n",
       "        <Axes: title={'center': 'balanced accuracy'}, xlabel='majmin'>,\n",
       "        <Axes: title={'center': 'f1'}, xlabel='majmin'>],\n",
       "       [<Axes: title={'center': 'precision'}, xlabel='majmin'>,\n",
       "        <Axes: title={'center': 'false positive rate'}, xlabel='majmin'>,\n",
       "        <Axes: title={'center': 'false negative rate'}, xlabel='majmin'>],\n",
       "       [<Axes: title={'center': 'selection rate'}, xlabel='majmin'>,\n",
       "        <Axes: title={'center': 'count'}, xlabel='majmin'>,\n",
       "        <Axes: xlabel='majmin'>]], dtype=object)"
      ]
     },
     "execution_count": 63,
     "metadata": {},
     "output_type": "execute_result"
    },
    {
     "data": {
      "image/png": "[encoded data removed]",
      "text/plain": [
       "<Figure size 1200x800 with 9 Axes>"
      ]
     },
     "metadata": {},
     "output_type": "display_data"
    }
   ],
   "source": [
    "# In a graphic\n",
    "metric_frame.by_group.plot.bar(\n",
    "    subplots=True,\n",
    "    layout=[3, 3],\n",
    "    legend=False,\n",
    "    figsize=[12, 8],\n",
    "    title=\"Show all metrics\",\n",
    ")"
   ]
  },
  {
   "cell_type": "markdown",
   "id": "f57a0bac",
   "metadata": {
    "papermill": {
     "duration": 0.029744,
     "end_time": "2025-08-05T16:21:47.115163",
     "exception": false,
     "start_time": "2025-08-05T16:21:47.085419",
     "status": "completed"
    },
    "tags": []
   },
   "source": [
    "# Final Output"
   ]
  },
  {
   "cell_type": "code",
   "execution_count": 64,
   "id": "96d280a3",
   "metadata": {
    "execution": {
     "iopub.execute_input": "2025-08-05T16:21:47.176235Z",
     "iopub.status.busy": "2025-08-05T16:21:47.175487Z",
     "iopub.status.idle": "2025-08-05T16:21:47.185003Z",
     "shell.execute_reply": "2025-08-05T16:21:47.183808Z"
    },
    "papermill": {
     "duration": 0.042336,
     "end_time": "2025-08-05T16:21:47.186686",
     "exception": false,
     "start_time": "2025-08-05T16:21:47.144350",
     "status": "completed"
    },
    "tags": []
   },
   "outputs": [
    {
     "data": {
      "text/plain": [
       "4"
      ]
     },
     "execution_count": 64,
     "metadata": {},
     "output_type": "execute_result"
    }
   ],
   "source": [
    "sub_universes = universe_analysis.generate_sub_universes()\n",
    "len(sub_universes)"
   ]
  },
  {
   "cell_type": "code",
   "execution_count": 65,
   "id": "92adf7ba",
   "metadata": {
    "execution": {
     "iopub.execute_input": "2025-08-05T16:21:47.246556Z",
     "iopub.status.busy": "2025-08-05T16:21:47.246013Z",
     "iopub.status.idle": "2025-08-05T16:21:47.253268Z",
     "shell.execute_reply": "2025-08-05T16:21:47.251924Z"
    },
    "papermill": {
     "duration": 0.039784,
     "end_time": "2025-08-05T16:21:47.255241",
     "exception": false,
     "start_time": "2025-08-05T16:21:47.215457",
     "status": "completed"
    },
    "tags": []
   },
   "outputs": [],
   "source": [
    "def filter_sub_universe_data(sub_universe, org_test):\n",
    "    # Keep all rows — no filtering\n",
    "    keep_rows_mask = np.ones(org_test.shape[0], dtype=bool)\n",
    "\n",
    "    print(f\"[INFO] Keeping all rows: {keep_rows_mask.sum()} rows retained.\")\n",
    "    return keep_rows_mask"
   ]
  },
  {
   "cell_type": "code",
   "execution_count": 66,
   "id": "4a759155",
   "metadata": {
    "execution": {
     "iopub.execute_input": "2025-08-05T16:21:47.316882Z",
     "iopub.status.busy": "2025-08-05T16:21:47.316043Z",
     "iopub.status.idle": "2025-08-05T16:21:59.488110Z",
     "shell.execute_reply": "2025-08-05T16:21:59.486640Z"
    },
    "papermill": {
     "duration": 12.205134,
     "end_time": "2025-08-05T16:21:59.490283",
     "exception": false,
     "start_time": "2025-08-05T16:21:47.285149",
     "status": "completed"
    },
    "tags": []
   },
   "outputs": [
    {
     "name": "stdout",
     "output_type": "stream",
     "text": [
      "Stopping execution_time clock.\n",
      "[INFO] Keeping all rows: 89710 rows retained.\n"
     ]
    },
    {
     "name": "stdout",
     "output_type": "stream",
     "text": [
      "[INFO] Keeping all rows: 89710 rows retained.\n"
     ]
    },
    {
     "name": "stdout",
     "output_type": "stream",
     "text": [
      "[INFO] Keeping all rows: 89710 rows retained.\n"
     ]
    },
    {
     "name": "stdout",
     "output_type": "stream",
     "text": [
      "[INFO] Keeping all rows: 89710 rows retained.\n"
     ]
    },
    {
     "data": {
      "text/html": [
       "<div>\n",
       "<style scoped>\n",
       "    .dataframe tbody tr th:only-of-type {\n",
       "        vertical-align: middle;\n",
       "    }\n",
       "\n",
       "    .dataframe tbody tr th {\n",
       "        vertical-align: top;\n",
       "    }\n",
       "\n",
       "    .dataframe thead th {\n",
       "        text-align: right;\n",
       "    }\n",
       "</style>\n",
       "<table border=\"1\" class=\"dataframe\">\n",
       "  <thead>\n",
       "    <tr style=\"text-align: right;\">\n",
       "      <th></th>\n",
       "      <th>run_no</th>\n",
       "      <th>universe_id</th>\n",
       "      <th>universe_settings</th>\n",
       "      <th>execution_time</th>\n",
       "      <th>test_size_n</th>\n",
       "      <th>test_size_frac</th>\n",
       "      <th>fair_main_equalized_odds_difference</th>\n",
       "      <th>fair_main_equalized_odds_ratio</th>\n",
       "      <th>fair_main_demographic_parity_difference</th>\n",
       "      <th>fair_main_demographic_parity_ratio</th>\n",
       "      <th>...</th>\n",
       "      <th>perf_grp_precision_0</th>\n",
       "      <th>perf_grp_precision_1</th>\n",
       "      <th>perf_grp_false positive rate_0</th>\n",
       "      <th>perf_grp_false positive rate_1</th>\n",
       "      <th>perf_grp_false negative rate_0</th>\n",
       "      <th>perf_grp_false negative rate_1</th>\n",
       "      <th>perf_grp_selection rate_0</th>\n",
       "      <th>perf_grp_selection rate_1</th>\n",
       "      <th>perf_grp_count_0</th>\n",
       "      <th>perf_grp_count_1</th>\n",
       "    </tr>\n",
       "  </thead>\n",
       "  <tbody>\n",
       "    <tr>\n",
       "      <th>0</th>\n",
       "      <td>15</td>\n",
       "      <td>684333c825d87922deac10818ff51b33</td>\n",
       "      <td>{\"cutoff\": \"quantile_0.1\", \"eval_fairness_grou...</td>\n",
       "      <td>35.359637</td>\n",
       "      <td>89710</td>\n",
       "      <td>1.0</td>\n",
       "      <td>0.088902</td>\n",
       "      <td>0.907084</td>\n",
       "      <td>0.078026</td>\n",
       "      <td>0.918746</td>\n",
       "      <td>...</td>\n",
       "      <td>NaN</td>\n",
       "      <td>NaN</td>\n",
       "      <td>NaN</td>\n",
       "      <td>NaN</td>\n",
       "      <td>NaN</td>\n",
       "      <td>NaN</td>\n",
       "      <td>NaN</td>\n",
       "      <td>NaN</td>\n",
       "      <td>NaN</td>\n",
       "      <td>NaN</td>\n",
       "    </tr>\n",
       "    <tr>\n",
       "      <th>0</th>\n",
       "      <td>15</td>\n",
       "      <td>684333c825d87922deac10818ff51b33</td>\n",
       "      <td>{\"cutoff\": \"quantile_0.1\", \"eval_fairness_grou...</td>\n",
       "      <td>35.359637</td>\n",
       "      <td>89710</td>\n",
       "      <td>1.0</td>\n",
       "      <td>0.088902</td>\n",
       "      <td>0.907084</td>\n",
       "      <td>0.078026</td>\n",
       "      <td>0.918746</td>\n",
       "      <td>...</td>\n",
       "      <td>0.118485</td>\n",
       "      <td>0.146252</td>\n",
       "      <td>0.956802</td>\n",
       "      <td>0.867899</td>\n",
       "      <td>0.013091</td>\n",
       "      <td>0.023523</td>\n",
       "      <td>0.960273</td>\n",
       "      <td>0.882247</td>\n",
       "      <td>20540.0</td>\n",
       "      <td>69170.0</td>\n",
       "    </tr>\n",
       "    <tr>\n",
       "      <th>0</th>\n",
       "      <td>15</td>\n",
       "      <td>684333c825d87922deac10818ff51b33</td>\n",
       "      <td>{\"cutoff\": \"quantile_0.25\", \"eval_fairness_gro...</td>\n",
       "      <td>35.359637</td>\n",
       "      <td>89710</td>\n",
       "      <td>1.0</td>\n",
       "      <td>0.096472</td>\n",
       "      <td>0.879164</td>\n",
       "      <td>0.081524</td>\n",
       "      <td>0.899706</td>\n",
       "      <td>...</td>\n",
       "      <td>NaN</td>\n",
       "      <td>NaN</td>\n",
       "      <td>NaN</td>\n",
       "      <td>NaN</td>\n",
       "      <td>NaN</td>\n",
       "      <td>NaN</td>\n",
       "      <td>NaN</td>\n",
       "      <td>NaN</td>\n",
       "      <td>NaN</td>\n",
       "      <td>NaN</td>\n",
       "    </tr>\n",
       "    <tr>\n",
       "      <th>0</th>\n",
       "      <td>15</td>\n",
       "      <td>684333c825d87922deac10818ff51b33</td>\n",
       "      <td>{\"cutoff\": \"quantile_0.25\", \"eval_fairness_gro...</td>\n",
       "      <td>35.359637</td>\n",
       "      <td>89710</td>\n",
       "      <td>1.0</td>\n",
       "      <td>0.096472</td>\n",
       "      <td>0.879164</td>\n",
       "      <td>0.081524</td>\n",
       "      <td>0.899706</td>\n",
       "      <td>...</td>\n",
       "      <td>0.131049</td>\n",
       "      <td>0.167062</td>\n",
       "      <td>0.798371</td>\n",
       "      <td>0.701899</td>\n",
       "      <td>0.076014</td>\n",
       "      <td>0.075383</td>\n",
       "      <td>0.812853</td>\n",
       "      <td>0.731329</td>\n",
       "      <td>20540.0</td>\n",
       "      <td>69170.0</td>\n",
       "    </tr>\n",
       "  </tbody>\n",
       "</table>\n",
       "<p>4 rows × 50 columns</p>\n",
       "</div>"
      ],
      "text/plain": [
       "  run_no                       universe_id  \\\n",
       "0     15  684333c825d87922deac10818ff51b33   \n",
       "0     15  684333c825d87922deac10818ff51b33   \n",
       "0     15  684333c825d87922deac10818ff51b33   \n",
       "0     15  684333c825d87922deac10818ff51b33   \n",
       "\n",
       "                                   universe_settings  execution_time  \\\n",
       "0  {\"cutoff\": \"quantile_0.1\", \"eval_fairness_grou...       35.359637   \n",
       "0  {\"cutoff\": \"quantile_0.1\", \"eval_fairness_grou...       35.359637   \n",
       "0  {\"cutoff\": \"quantile_0.25\", \"eval_fairness_gro...       35.359637   \n",
       "0  {\"cutoff\": \"quantile_0.25\", \"eval_fairness_gro...       35.359637   \n",
       "\n",
       "   test_size_n  test_size_frac  fair_main_equalized_odds_difference  \\\n",
       "0        89710             1.0                             0.088902   \n",
       "0        89710             1.0                             0.088902   \n",
       "0        89710             1.0                             0.096472   \n",
       "0        89710             1.0                             0.096472   \n",
       "\n",
       "   fair_main_equalized_odds_ratio  fair_main_demographic_parity_difference  \\\n",
       "0                        0.907084                                 0.078026   \n",
       "0                        0.907084                                 0.078026   \n",
       "0                        0.879164                                 0.081524   \n",
       "0                        0.879164                                 0.081524   \n",
       "\n",
       "   fair_main_demographic_parity_ratio  ...  perf_grp_precision_0  \\\n",
       "0                            0.918746  ...                   NaN   \n",
       "0                            0.918746  ...              0.118485   \n",
       "0                            0.899706  ...                   NaN   \n",
       "0                            0.899706  ...              0.131049   \n",
       "\n",
       "   perf_grp_precision_1  perf_grp_false positive rate_0  \\\n",
       "0                   NaN                             NaN   \n",
       "0              0.146252                        0.956802   \n",
       "0                   NaN                             NaN   \n",
       "0              0.167062                        0.798371   \n",
       "\n",
       "   perf_grp_false positive rate_1  perf_grp_false negative rate_0  \\\n",
       "0                             NaN                             NaN   \n",
       "0                        0.867899                        0.013091   \n",
       "0                             NaN                             NaN   \n",
       "0                        0.701899                        0.076014   \n",
       "\n",
       "   perf_grp_false negative rate_1  perf_grp_selection rate_0  \\\n",
       "0                             NaN                        NaN   \n",
       "0                        0.023523                   0.960273   \n",
       "0                             NaN                        NaN   \n",
       "0                        0.075383                   0.812853   \n",
       "\n",
       "   perf_grp_selection rate_1  perf_grp_count_0  perf_grp_count_1  \n",
       "0                        NaN               NaN               NaN  \n",
       "0                   0.882247           20540.0           69170.0  \n",
       "0                        NaN               NaN               NaN  \n",
       "0                   0.731329           20540.0           69170.0  \n",
       "\n",
       "[4 rows x 50 columns]"
      ]
     },
     "execution_count": 66,
     "metadata": {},
     "output_type": "execute_result"
    }
   ],
   "source": [
    "final_output = universe_analysis.generate_final_output(\n",
    "    y_pred_prob=probs_test,\n",
    "    y_test=y_true,\n",
    "    org_test=org_test,\n",
    "    filter_data=filter_sub_universe_data,\n",
    "    cp_metrics_df=cp_metrics_df,\n",
    "    save=True,\n",
    ")\n",
    "final_output"
   ]
  }
 ],
 "metadata": {
  "celltoolbar": "Tags",
  "kernelspec": {
   "display_name": "Python (CMA Fairness)",
   "language": "python",
   "name": "cma_fair_env"
  },
  "language_info": {
   "codemirror_mode": {
    "name": "ipython",
    "version": 3
   },
   "file_extension": ".py",
   "mimetype": "text/x-python",
   "name": "python",
   "nbconvert_exporter": "python",
   "pygments_lexer": "ipython3",
   "version": "3.10.12"
  },
  "papermill": {
   "default_parameters": {},
   "duration": 51.94798,
   "end_time": "2025-08-05T16:22:00.248554",
   "environment_variables": {},
   "exception": null,
   "input_path": "universe_analysis.ipynb",
   "output_path": "output/runs/15/notebooks/m_15-684333c825d87922deac10818ff51b33.ipynb",
   "parameters": {
    "output_dir": "output",
    "run_no": "15",
    "seed": "2023",
    "universe": "{\"cutoff\": [\"quantile_0.1\", \"quantile_0.25\"], \"eval_fairness_grouping\": [\"majority-minority\", \"nationality-all\"], \"exclude_features\": \"nationality-sex\", \"exclude_subgroups\": \"drop-non-german\", \"model\": \"gbm\", \"scale\": \"scale\", \"training_size\": \"1k\", \"training_year\": \"2012_14\"}",
    "universe_id": "684333c825d87922deac10818ff51b33"
   },
   "start_time": "2025-08-05T16:21:08.300574",
   "version": "2.6.0"
  }
 },
 "nbformat": 4,
 "nbformat_minor": 5
}