{
 "cells": [
  {
   "cell_type": "code",
   "execution_count": 1,
   "id": "f159f837-637b-42ba-96b5-ec9a68c44524",
   "metadata": {
    "execution": {
     "iopub.execute_input": "2025-08-05T16:40:00.914641Z",
     "iopub.status.busy": "2025-08-05T16:40:00.914140Z",
     "iopub.status.idle": "2025-08-05T16:40:00.928675Z",
     "shell.execute_reply": "2025-08-05T16:40:00.927473Z"
    },
    "papermill": {
     "duration": 0.038937,
     "end_time": "2025-08-05T16:40:00.930725",
     "exception": false,
     "start_time": "2025-08-05T16:40:00.891788",
     "status": "completed"
    },
    "tags": []
   },
   "outputs": [
    {
     "name": "stdout",
     "output_type": "stream",
     "text": [
      "/dss/dsshome1/0C/ra93lal2/cma/CMA_Fairness_v2\n"
     ]
    },
    {
     "name": "stderr",
     "output_type": "stream",
     "text": [
      "/dss/dsshome1/0C/ra93lal2/.local/share/virtualenvs/CMA_Fairness_v2-3j10GkSs/lib/python3.10/site-packages/IPython/core/magics/osm.py:393: UserWarning: This is now an optional IPython functionality, using bookmarks requires you to install the `pickleshare` library.\n",
      "  bkms = self.shell.db.get('bookmarks', {})\n",
      "/dss/dsshome1/0C/ra93lal2/.local/share/virtualenvs/CMA_Fairness_v2-3j10GkSs/lib/python3.10/site-packages/IPython/core/magics/osm.py:417: UserWarning: This is now an optional IPython functionality, setting dhist requires you to install the `pickleshare` library.\n",
      "  self.shell.db['dhist'] = compress_dhist(dhist)[-100:]\n"
     ]
    }
   ],
   "source": [
    "%cd ~/cma/CMA_Fairness_v2"
   ]
  },
  {
   "cell_type": "markdown",
   "id": "de2603b9",
   "metadata": {
    "papermill": {
     "duration": 0.018958,
     "end_time": "2025-08-05T16:40:00.969182",
     "exception": false,
     "start_time": "2025-08-05T16:40:00.950224",
     "status": "completed"
    },
    "tags": []
   },
   "source": [
    "The following cell holds the definition of our parameters, these values can be overriden by rendering the with e.g. the following command:\n",
    "\n",
    "papermill -p alpha 0.2 -p ratio 0.3 universe_analysis.ipynb output/test_run.ipynb"
   ]
  },
  {
   "cell_type": "code",
   "execution_count": 2,
   "id": "a80968a0-40bb-4fa9-85ef-2d5eefb01975",
   "metadata": {
    "execution": {
     "iopub.execute_input": "2025-08-05T16:40:01.007784Z",
     "iopub.status.busy": "2025-08-05T16:40:01.007109Z",
     "iopub.status.idle": "2025-08-05T16:40:01.012324Z",
     "shell.execute_reply": "2025-08-05T16:40:01.011418Z"
    },
    "papermill": {
     "duration": 0.026086,
     "end_time": "2025-08-05T16:40:01.014048",
     "exception": false,
     "start_time": "2025-08-05T16:40:00.987962",
     "status": "completed"
    },
    "tags": []
   },
   "outputs": [
    {
     "name": "stdout",
     "output_type": "stream",
     "text": [
      "Current working directory: /dss/dsshome1/0C/ra93lal2/cma/CMA_Fairness_v2\n"
     ]
    }
   ],
   "source": [
    "import os\n",
    "print(\"Current working directory:\", os.getcwd())"
   ]
  },
  {
   "cell_type": "code",
   "execution_count": 3,
   "id": "2dce4c03",
   "metadata": {
    "execution": {
     "iopub.execute_input": "2025-08-05T16:40:01.052783Z",
     "iopub.status.busy": "2025-08-05T16:40:01.052494Z",
     "iopub.status.idle": "2025-08-05T16:40:01.058167Z",
     "shell.execute_reply": "2025-08-05T16:40:01.057097Z"
    },
    "papermill": {
     "duration": 0.026654,
     "end_time": "2025-08-05T16:40:01.060071",
     "exception": false,
     "start_time": "2025-08-05T16:40:01.033417",
     "status": "completed"
    },
    "tags": [
     "parameters"
    ]
   },
   "outputs": [],
   "source": [
    "run_no = 0\n",
    "universe_id = \"test\"\n",
    "universe = {\n",
    "    \"training_size\": \"25k\", # \"25k\", \"5k\", \"1k\"\n",
    "    \"training_year\": \"2014\", # \"2014\", \"2012_14\", \"2010_14\"\n",
    "    \"scale\": \"scale\", # \"scale\", \"do-not-scale\",\n",
    "    \"model\": \"elasticnet\", # \"logreg\", \"penalized_logreg\", \"rf\", \"gbm\", \"elasticnet\"\n",
    "    \"cutoff\": [\"quantile_0.15\", \"quantile_0.30\"],\n",
    "    \"exclude_features\": \"age\", # \"none\", \"nationality\", \"sex\", \"nationality-sex\", \"age\"\n",
    "    \"exclude_subgroups\": \"keep-all\", # \"keep-all\", \"drop-non-german\"\n",
    "    \"eval_fairness_grouping\": [\"majority-minority\", \"nationality-all\"]\n",
    "}\n",
    "\n",
    "output_dir=\"./output\"\n",
    "seed=0"
   ]
  },
  {
   "cell_type": "code",
   "execution_count": 4,
   "id": "8462f3bb",
   "metadata": {
    "execution": {
     "iopub.execute_input": "2025-08-05T16:40:01.099399Z",
     "iopub.status.busy": "2025-08-05T16:40:01.098617Z",
     "iopub.status.idle": "2025-08-05T16:40:01.104533Z",
     "shell.execute_reply": "2025-08-05T16:40:01.103488Z"
    },
    "papermill": {
     "duration": 0.027216,
     "end_time": "2025-08-05T16:40:01.106370",
     "exception": false,
     "start_time": "2025-08-05T16:40:01.079154",
     "status": "completed"
    },
    "tags": [
     "injected-parameters"
    ]
   },
   "outputs": [],
   "source": [
    "# Parameters\n",
    "universe_id = \"e765d0e8f2cef2f22b9e5cfaf47d5402\"\n",
    "run_no = \"15\"\n",
    "universe = \"{\\\"cutoff\\\": [\\\"quantile_0.1\\\", \\\"quantile_0.25\\\"], \\\"eval_fairness_grouping\\\": [\\\"majority-minority\\\", \\\"nationality-all\\\"], \\\"exclude_features\\\": \\\"nationality\\\", \\\"exclude_subgroups\\\": \\\"drop-non-german\\\", \\\"model\\\": \\\"penalized_logreg\\\", \\\"scale\\\": \\\"do-not-scale\\\", \\\"training_size\\\": \\\"1k\\\", \\\"training_year\\\": \\\"2010_14\\\"}\"\n",
    "output_dir = \"output\"\n",
    "seed = \"2023\"\n"
   ]
  },
  {
   "cell_type": "code",
   "execution_count": 5,
   "id": "1650acaf",
   "metadata": {
    "execution": {
     "iopub.execute_input": "2025-08-05T16:40:01.145603Z",
     "iopub.status.busy": "2025-08-05T16:40:01.144999Z",
     "iopub.status.idle": "2025-08-05T16:40:01.150201Z",
     "shell.execute_reply": "2025-08-05T16:40:01.149090Z"
    },
    "papermill": {
     "duration": 0.026975,
     "end_time": "2025-08-05T16:40:01.152635",
     "exception": false,
     "start_time": "2025-08-05T16:40:01.125660",
     "status": "completed"
    },
    "tags": []
   },
   "outputs": [],
   "source": [
    "import json\n",
    "if isinstance(universe, str):\n",
    "    universe = json.loads(universe)"
   ]
  },
  {
   "cell_type": "code",
   "execution_count": 6,
   "id": "16620c48",
   "metadata": {
    "execution": {
     "iopub.execute_input": "2025-08-05T16:40:01.191789Z",
     "iopub.status.busy": "2025-08-05T16:40:01.191504Z",
     "iopub.status.idle": "2025-08-05T16:40:01.236834Z",
     "shell.execute_reply": "2025-08-05T16:40:01.235886Z"
    },
    "papermill": {
     "duration": 0.066624,
     "end_time": "2025-08-05T16:40:01.238701",
     "exception": false,
     "start_time": "2025-08-05T16:40:01.172077",
     "status": "completed"
    },
    "tags": []
   },
   "outputs": [],
   "source": [
    "# Auto-reload the custom package\n",
    "%load_ext autoreload\n",
    "%autoreload 1\n",
    "%aimport fairness_multiverse"
   ]
  },
  {
   "cell_type": "code",
   "execution_count": 7,
   "id": "01c5c9f3",
   "metadata": {
    "execution": {
     "iopub.execute_input": "2025-08-05T16:40:01.279055Z",
     "iopub.status.busy": "2025-08-05T16:40:01.278684Z",
     "iopub.status.idle": "2025-08-05T16:40:03.041232Z",
     "shell.execute_reply": "2025-08-05T16:40:03.040260Z"
    },
    "papermill": {
     "duration": 1.784968,
     "end_time": "2025-08-05T16:40:03.043137",
     "exception": false,
     "start_time": "2025-08-05T16:40:01.258169",
     "status": "completed"
    },
    "tags": []
   },
   "outputs": [],
   "source": [
    "from fairness_multiverse.universe import UniverseAnalysis\n",
    "\n",
    "universe_analysis = UniverseAnalysis(\n",
    "    run_no = run_no,\n",
    "    universe_id = universe_id,\n",
    "    universe = universe,\n",
    "    output_dir=output_dir,\n",
    ")"
   ]
  },
  {
   "cell_type": "code",
   "execution_count": 8,
   "id": "106241f5",
   "metadata": {
    "execution": {
     "iopub.execute_input": "2025-08-05T16:40:03.077492Z",
     "iopub.status.busy": "2025-08-05T16:40:03.076832Z",
     "iopub.status.idle": "2025-08-05T16:40:03.083691Z",
     "shell.execute_reply": "2025-08-05T16:40:03.082796Z"
    },
    "papermill": {
     "duration": 0.024873,
     "end_time": "2025-08-05T16:40:03.085153",
     "exception": false,
     "start_time": "2025-08-05T16:40:03.060280",
     "status": "completed"
    },
    "tags": []
   },
   "outputs": [
    {
     "name": "stdout",
     "output_type": "stream",
     "text": [
      "Using Seed: 2023\n"
     ]
    }
   ],
   "source": [
    "import numpy as np\n",
    "parsed_seed = int(seed)\n",
    "np.random.seed(parsed_seed)\n",
    "print(f\"Using Seed: {parsed_seed}\")"
   ]
  },
  {
   "cell_type": "markdown",
   "id": "e0ebdc57",
   "metadata": {
    "papermill": {
     "duration": 0.009695,
     "end_time": "2025-08-05T16:40:03.104440",
     "exception": false,
     "start_time": "2025-08-05T16:40:03.094745",
     "status": "completed"
    },
    "tags": []
   },
   "source": [
    "# Loading Data"
   ]
  },
  {
   "cell_type": "code",
   "execution_count": 9,
   "id": "f0496b8a",
   "metadata": {
    "execution": {
     "iopub.execute_input": "2025-08-05T16:40:03.127334Z",
     "iopub.status.busy": "2025-08-05T16:40:03.126674Z",
     "iopub.status.idle": "2025-08-05T16:40:14.703799Z",
     "shell.execute_reply": "2025-08-05T16:40:14.702675Z"
    },
    "papermill": {
     "duration": 11.590015,
     "end_time": "2025-08-05T16:40:14.705598",
     "exception": false,
     "start_time": "2025-08-05T16:40:03.115583",
     "status": "completed"
    },
    "tags": []
   },
   "outputs": [
    {
     "name": "stdout",
     "output_type": "stream",
     "text": [
      "Loading SIAB data from cache: data/siab_cached.csv.gz\n"
     ]
    },
    {
     "name": "stdout",
     "output_type": "stream",
     "text": [
      "(643690, 164)\n"
     ]
    }
   ],
   "source": [
    "from pathlib import Path\n",
    "import pandas as pd\n",
    "\n",
    "# File paths\n",
    "raw_file = Path(\"data/raw/siab.csv\")\n",
    "cache_file = Path(\"data/siab_cached.csv.gz\")\n",
    "\n",
    "# Ensure cache directory exists\n",
    "cache_file.parent.mkdir(parents=True, exist_ok=True)\n",
    "\n",
    "# Load with simple caching\n",
    "if cache_file.exists():\n",
    "    print(f\"Loading SIAB data from cache: {cache_file}\")\n",
    "    siab = pd.read_csv(cache_file, compression='gzip')\n",
    "else:\n",
    "    print(f\"Cache not found. Reading raw SIAB data: {raw_file}\")\n",
    "    siab = pd.read_csv(raw_file)\n",
    "    siab.to_csv(cache_file, index=False, compression='gzip')\n",
    "    print(f\"Cached SIAB data to: {cache_file}\")\n",
    "\n",
    "print(siab.shape)"
   ]
  },
  {
   "cell_type": "code",
   "execution_count": 10,
   "id": "db0ca512-5f53-4dba-abdb-a2888bca41ba",
   "metadata": {
    "execution": {
     "iopub.execute_input": "2025-08-05T16:40:14.742866Z",
     "iopub.status.busy": "2025-08-05T16:40:14.742395Z",
     "iopub.status.idle": "2025-08-05T16:40:14.748084Z",
     "shell.execute_reply": "2025-08-05T16:40:14.747324Z"
    },
    "papermill": {
     "duration": 0.022961,
     "end_time": "2025-08-05T16:40:14.749750",
     "exception": false,
     "start_time": "2025-08-05T16:40:14.726789",
     "status": "completed"
    },
    "tags": []
   },
   "outputs": [],
   "source": [
    "#siab"
   ]
  },
  {
   "cell_type": "markdown",
   "id": "997051c5-15bd-4b69-9786-c3001a3ce484",
   "metadata": {
    "papermill": {
     "duration": 0.01038,
     "end_time": "2025-08-05T16:40:14.771355",
     "exception": false,
     "start_time": "2025-08-05T16:40:14.760975",
     "status": "completed"
    },
    "tags": []
   },
   "source": [
    "# Splitting Data and Setting Training Data Size"
   ]
  },
  {
   "cell_type": "code",
   "execution_count": 11,
   "id": "aea9c6ef-6f46-42c8-85eb-5a62025c1508",
   "metadata": {
    "execution": {
     "iopub.execute_input": "2025-08-05T16:40:14.792801Z",
     "iopub.status.busy": "2025-08-05T16:40:14.791951Z",
     "iopub.status.idle": "2025-08-05T16:40:15.738448Z",
     "shell.execute_reply": "2025-08-05T16:40:15.737598Z"
    },
    "papermill": {
     "duration": 0.958609,
     "end_time": "2025-08-05T16:40:15.740036",
     "exception": false,
     "start_time": "2025-08-05T16:40:14.781427",
     "status": "completed"
    },
    "tags": []
   },
   "outputs": [],
   "source": [
    "from fairness_multiverse.universe import sample_by_year_size\n",
    "\n",
    "siab_train = sample_by_year_size(siab,\n",
    "                               training_year=universe[\"training_year\"],\n",
    "                               training_size=universe[\"training_size\"])"
   ]
  },
  {
   "cell_type": "code",
   "execution_count": 12,
   "id": "8d3afb32-789d-442c-8d5d-9f5aa8dd2eed",
   "metadata": {
    "execution": {
     "iopub.execute_input": "2025-08-05T16:40:15.761581Z",
     "iopub.status.busy": "2025-08-05T16:40:15.760784Z",
     "iopub.status.idle": "2025-08-05T16:40:15.766123Z",
     "shell.execute_reply": "2025-08-05T16:40:15.765109Z"
    },
    "papermill": {
     "duration": 0.017054,
     "end_time": "2025-08-05T16:40:15.767656",
     "exception": false,
     "start_time": "2025-08-05T16:40:15.750602",
     "status": "completed"
    },
    "tags": []
   },
   "outputs": [],
   "source": [
    "#siab_train.shape"
   ]
  },
  {
   "cell_type": "code",
   "execution_count": 13,
   "id": "d582db68-1a4c-47fb-84fc-08518dc1975a",
   "metadata": {
    "execution": {
     "iopub.execute_input": "2025-08-05T16:40:15.794459Z",
     "iopub.status.busy": "2025-08-05T16:40:15.793580Z",
     "iopub.status.idle": "2025-08-05T16:40:15.798618Z",
     "shell.execute_reply": "2025-08-05T16:40:15.797824Z"
    },
    "papermill": {
     "duration": 0.021133,
     "end_time": "2025-08-05T16:40:15.800043",
     "exception": false,
     "start_time": "2025-08-05T16:40:15.778910",
     "status": "completed"
    },
    "tags": []
   },
   "outputs": [],
   "source": [
    "#display(siab_train.groupby(\"year\").size())"
   ]
  },
  {
   "cell_type": "code",
   "execution_count": 14,
   "id": "a561edb4-d032-42cb-8256-22eac1111c64",
   "metadata": {
    "execution": {
     "iopub.execute_input": "2025-08-05T16:40:15.822422Z",
     "iopub.status.busy": "2025-08-05T16:40:15.821557Z",
     "iopub.status.idle": "2025-08-05T16:40:16.078602Z",
     "shell.execute_reply": "2025-08-05T16:40:16.077335Z"
    },
    "papermill": {
     "duration": 0.270278,
     "end_time": "2025-08-05T16:40:16.081187",
     "exception": false,
     "start_time": "2025-08-05T16:40:15.810909",
     "status": "completed"
    },
    "tags": []
   },
   "outputs": [],
   "source": [
    "#siab_train = siab_s[siab_s.year < 2015]\n",
    "siab_calib = siab[siab.year == 2015]\n",
    "siab_test = siab[siab.year == 2016]"
   ]
  },
  {
   "cell_type": "code",
   "execution_count": 15,
   "id": "472de16f-c3db-4916-846b-1f0de9cf1746",
   "metadata": {
    "execution": {
     "iopub.execute_input": "2025-08-05T16:40:16.107811Z",
     "iopub.status.busy": "2025-08-05T16:40:16.107016Z",
     "iopub.status.idle": "2025-08-05T16:40:16.113696Z",
     "shell.execute_reply": "2025-08-05T16:40:16.112744Z"
    },
    "papermill": {
     "duration": 0.019279,
     "end_time": "2025-08-05T16:40:16.115585",
     "exception": false,
     "start_time": "2025-08-05T16:40:16.096306",
     "status": "completed"
    },
    "tags": []
   },
   "outputs": [],
   "source": [
    "X_train = siab_train.iloc[:,4:164]\n",
    "y_train = siab_train.iloc[:, [3]]"
   ]
  },
  {
   "cell_type": "code",
   "execution_count": 16,
   "id": "828c96af-f43a-4ed6-ba47-8ac73a47d56c",
   "metadata": {
    "execution": {
     "iopub.execute_input": "2025-08-05T16:40:16.157620Z",
     "iopub.status.busy": "2025-08-05T16:40:16.156682Z",
     "iopub.status.idle": "2025-08-05T16:40:16.211903Z",
     "shell.execute_reply": "2025-08-05T16:40:16.210730Z"
    },
    "papermill": {
     "duration": 0.077564,
     "end_time": "2025-08-05T16:40:16.213840",
     "exception": false,
     "start_time": "2025-08-05T16:40:16.136276",
     "status": "completed"
    },
    "tags": []
   },
   "outputs": [],
   "source": [
    "X_calib = siab_calib.iloc[:,4:164]\n",
    "y_calib = siab_calib.iloc[:, [3]]"
   ]
  },
  {
   "cell_type": "code",
   "execution_count": 17,
   "id": "c34be9c3-6bd6-476e-acd3-845840e303be",
   "metadata": {
    "execution": {
     "iopub.execute_input": "2025-08-05T16:40:16.243057Z",
     "iopub.status.busy": "2025-08-05T16:40:16.242692Z",
     "iopub.status.idle": "2025-08-05T16:40:16.294178Z",
     "shell.execute_reply": "2025-08-05T16:40:16.293042Z"
    },
    "papermill": {
     "duration": 0.066157,
     "end_time": "2025-08-05T16:40:16.296279",
     "exception": false,
     "start_time": "2025-08-05T16:40:16.230122",
     "status": "completed"
    },
    "tags": []
   },
   "outputs": [],
   "source": [
    "X_test = siab_test.iloc[:,4:164]\n",
    "y_true = siab_test.iloc[:, [3]]"
   ]
  },
  {
   "cell_type": "code",
   "execution_count": 18,
   "id": "e6c733c5",
   "metadata": {
    "execution": {
     "iopub.execute_input": "2025-08-05T16:40:16.338682Z",
     "iopub.status.busy": "2025-08-05T16:40:16.338071Z",
     "iopub.status.idle": "2025-08-05T16:40:16.438433Z",
     "shell.execute_reply": "2025-08-05T16:40:16.437088Z"
    },
    "papermill": {
     "duration": 0.123755,
     "end_time": "2025-08-05T16:40:16.440459",
     "exception": false,
     "start_time": "2025-08-05T16:40:16.316704",
     "status": "completed"
    },
    "tags": []
   },
   "outputs": [],
   "source": [
    "# Auxiliary data needed downstream in the pipeline\n",
    "\n",
    "org_train = X_train.copy()\n",
    "org_test = X_test.copy()\n",
    "org_calib = X_calib.copy()"
   ]
  },
  {
   "cell_type": "markdown",
   "id": "0a4a1b33",
   "metadata": {
    "papermill": {
     "duration": 0.017402,
     "end_time": "2025-08-05T16:40:16.481308",
     "exception": false,
     "start_time": "2025-08-05T16:40:16.463906",
     "status": "completed"
    },
    "tags": []
   },
   "source": [
    "# Preprocessing Data"
   ]
  },
  {
   "cell_type": "code",
   "execution_count": 19,
   "id": "ca879031",
   "metadata": {
    "execution": {
     "iopub.execute_input": "2025-08-05T16:40:16.522465Z",
     "iopub.status.busy": "2025-08-05T16:40:16.522007Z",
     "iopub.status.idle": "2025-08-05T16:40:16.527369Z",
     "shell.execute_reply": "2025-08-05T16:40:16.526443Z"
    },
    "papermill": {
     "duration": 0.0286,
     "end_time": "2025-08-05T16:40:16.528904",
     "exception": false,
     "start_time": "2025-08-05T16:40:16.500304",
     "status": "completed"
    },
    "tags": []
   },
   "outputs": [],
   "source": [
    "# EXCLUDE PROTECTED FEATURES\n",
    "# ----------------------\n",
    "# \"exclude_features\": \"none\", # \"nationality\", \"sex\", \"nationality-sex\"\n",
    "\n",
    "excluded_features = universe[\"exclude_features\"].split(\"-\") # split, e.g.: \"nationality-sex\" -> [\"nationality\", \"sex\"]\n",
    "excluded_features_dictionary = {\n",
    "    \"nationality\": [\"maxdeutsch1\", \"maxdeutsch.Missing.\"],\n",
    "    \"sex\": [\"frau1\"],\n",
    "    \"age\": [\"age\"],\n",
    "}"
   ]
  },
  {
   "cell_type": "code",
   "execution_count": 20,
   "id": "b745ac60",
   "metadata": {
    "execution": {
     "iopub.execute_input": "2025-08-05T16:40:16.556617Z",
     "iopub.status.busy": "2025-08-05T16:40:16.556120Z",
     "iopub.status.idle": "2025-08-05T16:40:16.561104Z",
     "shell.execute_reply": "2025-08-05T16:40:16.560136Z"
    },
    "papermill": {
     "duration": 0.018695,
     "end_time": "2025-08-05T16:40:16.562671",
     "exception": false,
     "start_time": "2025-08-05T16:40:16.543976",
     "status": "completed"
    },
    "tags": []
   },
   "outputs": [],
   "source": [
    "# Code nice names to column names\n",
    "\n",
    "excluded_features_columns = [\n",
    "    excluded_features_dictionary[f] for f in excluded_features if len(f) > 0 and f != \"none\"\n",
    "]"
   ]
  },
  {
   "cell_type": "code",
   "execution_count": 21,
   "id": "f84f73a2",
   "metadata": {
    "execution": {
     "iopub.execute_input": "2025-08-05T16:40:16.587136Z",
     "iopub.status.busy": "2025-08-05T16:40:16.586765Z",
     "iopub.status.idle": "2025-08-05T16:40:16.594510Z",
     "shell.execute_reply": "2025-08-05T16:40:16.593162Z"
    },
    "papermill": {
     "duration": 0.02186,
     "end_time": "2025-08-05T16:40:16.596469",
     "exception": false,
     "start_time": "2025-08-05T16:40:16.574609",
     "status": "completed"
    },
    "tags": []
   },
   "outputs": [],
   "source": [
    "from utils import flatten_once\n",
    "\n",
    "excluded_features_columns = flatten_once(excluded_features_columns)"
   ]
  },
  {
   "cell_type": "code",
   "execution_count": 22,
   "id": "884dea22",
   "metadata": {
    "execution": {
     "iopub.execute_input": "2025-08-05T16:40:16.641839Z",
     "iopub.status.busy": "2025-08-05T16:40:16.640618Z",
     "iopub.status.idle": "2025-08-05T16:40:16.651985Z",
     "shell.execute_reply": "2025-08-05T16:40:16.650690Z"
    },
    "papermill": {
     "duration": 0.036842,
     "end_time": "2025-08-05T16:40:16.654738",
     "exception": false,
     "start_time": "2025-08-05T16:40:16.617896",
     "status": "completed"
    },
    "tags": []
   },
   "outputs": [
    {
     "name": "stdout",
     "output_type": "stream",
     "text": [
      "Dropping features: ['maxdeutsch1', 'maxdeutsch.Missing.']\n"
     ]
    }
   ],
   "source": [
    "if len(excluded_features_columns) > 0:\n",
    "    print(f\"Dropping features: {excluded_features_columns}\")\n",
    "    X_train.drop(excluded_features_columns, axis=1, inplace=True)"
   ]
  },
  {
   "cell_type": "code",
   "execution_count": 23,
   "id": "95ab8b16",
   "metadata": {
    "execution": {
     "iopub.execute_input": "2025-08-05T16:40:16.708527Z",
     "iopub.status.busy": "2025-08-05T16:40:16.707472Z",
     "iopub.status.idle": "2025-08-05T16:40:16.764813Z",
     "shell.execute_reply": "2025-08-05T16:40:16.763591Z"
    },
    "papermill": {
     "duration": 0.079301,
     "end_time": "2025-08-05T16:40:16.767477",
     "exception": false,
     "start_time": "2025-08-05T16:40:16.688176",
     "status": "completed"
    },
    "tags": []
   },
   "outputs": [
    {
     "name": "stdout",
     "output_type": "stream",
     "text": [
      "Dropping features: ['maxdeutsch1', 'maxdeutsch.Missing.']\n"
     ]
    }
   ],
   "source": [
    "if len(excluded_features_columns) > 0:\n",
    "    print(f\"Dropping features: {excluded_features_columns}\")\n",
    "    X_test.drop(excluded_features_columns, axis=1, inplace=True)"
   ]
  },
  {
   "cell_type": "code",
   "execution_count": 24,
   "id": "1853aaf5-fb9f-46cb-a2b5-8ea4ae2237e4",
   "metadata": {
    "execution": {
     "iopub.execute_input": "2025-08-05T16:40:16.812376Z",
     "iopub.status.busy": "2025-08-05T16:40:16.811303Z",
     "iopub.status.idle": "2025-08-05T16:40:16.870744Z",
     "shell.execute_reply": "2025-08-05T16:40:16.869696Z"
    },
    "papermill": {
     "duration": 0.083682,
     "end_time": "2025-08-05T16:40:16.872700",
     "exception": false,
     "start_time": "2025-08-05T16:40:16.789018",
     "status": "completed"
    },
    "tags": []
   },
   "outputs": [
    {
     "name": "stdout",
     "output_type": "stream",
     "text": [
      "Dropping features: ['maxdeutsch1', 'maxdeutsch.Missing.']\n"
     ]
    }
   ],
   "source": [
    "if len(excluded_features_columns) > 0:\n",
    "    print(f\"Dropping features: {excluded_features_columns}\")\n",
    "    X_calib.drop(excluded_features_columns, axis=1, inplace=True)"
   ]
  },
  {
   "cell_type": "code",
   "execution_count": 25,
   "id": "76c4dc6d",
   "metadata": {
    "execution": {
     "iopub.execute_input": "2025-08-05T16:40:16.918169Z",
     "iopub.status.busy": "2025-08-05T16:40:16.917574Z",
     "iopub.status.idle": "2025-08-05T16:40:16.924708Z",
     "shell.execute_reply": "2025-08-05T16:40:16.923479Z"
    },
    "papermill": {
     "duration": 0.032393,
     "end_time": "2025-08-05T16:40:16.926700",
     "exception": false,
     "start_time": "2025-08-05T16:40:16.894307",
     "status": "completed"
    },
    "tags": []
   },
   "outputs": [],
   "source": [
    "# EXCLUDE CERTAIN SUBGROUPS\n",
    "# ----------------------\n",
    "\n",
    "mode = universe.get(\"exclude_subgroups\", \"keep-all\") \n",
    "# Fetches the exclude_subgroups setting from the universe dict.\n",
    "# Defaults to \"keep-all\" if the key is missing."
   ]
  },
  {
   "cell_type": "code",
   "execution_count": 26,
   "id": "21994072",
   "metadata": {
    "execution": {
     "iopub.execute_input": "2025-08-05T16:40:16.971404Z",
     "iopub.status.busy": "2025-08-05T16:40:16.970959Z",
     "iopub.status.idle": "2025-08-05T16:40:16.977594Z",
     "shell.execute_reply": "2025-08-05T16:40:16.976706Z"
    },
    "papermill": {
     "duration": 0.030639,
     "end_time": "2025-08-05T16:40:16.979167",
     "exception": false,
     "start_time": "2025-08-05T16:40:16.948528",
     "status": "completed"
    },
    "tags": []
   },
   "outputs": [],
   "source": [
    "if mode == \"keep-all\":\n",
    "    keep_mask = pd.Series(True, index=org_train.index)\n",
    "\n",
    "# org_train contains the original feature columns from features_org (in Simson)\n",
    "# features_org contains unprocessed features, for me X_train at beginning ???\n",
    "# For keep-all, creates a boolean Series (keep_mask) of all True, so no rows are removed.\n",
    "\n",
    "elif mode == \"drop-non-german\":\n",
    "    keep_mask = org_train[\"maxdeutsch1\"] == 1 # ??? what about missing values?\n",
    "\n",
    "else:\n",
    "    raise ValueError(f\"Unsupported mode for exclude_subgroups: {mode}\")"
   ]
  },
  {
   "cell_type": "code",
   "execution_count": 27,
   "id": "71651440",
   "metadata": {
    "execution": {
     "iopub.execute_input": "2025-08-05T16:40:17.024028Z",
     "iopub.status.busy": "2025-08-05T16:40:17.023440Z",
     "iopub.status.idle": "2025-08-05T16:40:17.031710Z",
     "shell.execute_reply": "2025-08-05T16:40:17.030617Z"
    },
    "papermill": {
     "duration": 0.033069,
     "end_time": "2025-08-05T16:40:17.033838",
     "exception": false,
     "start_time": "2025-08-05T16:40:17.000769",
     "status": "completed"
    },
    "tags": []
   },
   "outputs": [
    {
     "name": "stdout",
     "output_type": "stream",
     "text": [
      "Dropping 131 rows (13.10%) where mode='drop-non-german'\n"
     ]
    }
   ],
   "source": [
    "n_drop = (~keep_mask).sum() # Calculates how many rows are set to be dropped\n",
    "if n_drop > 0:\n",
    "    pct = n_drop / len(keep_mask) * 100\n",
    "    print(f\"Dropping {n_drop} rows ({pct:.2f}%) where mode='{mode}'\")"
   ]
  },
  {
   "cell_type": "code",
   "execution_count": 28,
   "id": "5fb8eee5",
   "metadata": {
    "execution": {
     "iopub.execute_input": "2025-08-05T16:40:17.077945Z",
     "iopub.status.busy": "2025-08-05T16:40:17.077221Z",
     "iopub.status.idle": "2025-08-05T16:40:17.084256Z",
     "shell.execute_reply": "2025-08-05T16:40:17.083498Z"
    },
    "papermill": {
     "duration": 0.031934,
     "end_time": "2025-08-05T16:40:17.087149",
     "exception": false,
     "start_time": "2025-08-05T16:40:17.055215",
     "status": "completed"
    },
    "tags": []
   },
   "outputs": [],
   "source": [
    "X_train = X_train[keep_mask]"
   ]
  },
  {
   "cell_type": "code",
   "execution_count": 29,
   "id": "b202bb3a",
   "metadata": {
    "execution": {
     "iopub.execute_input": "2025-08-05T16:40:17.114120Z",
     "iopub.status.busy": "2025-08-05T16:40:17.113278Z",
     "iopub.status.idle": "2025-08-05T16:40:17.119033Z",
     "shell.execute_reply": "2025-08-05T16:40:17.118251Z"
    },
    "papermill": {
     "duration": 0.020402,
     "end_time": "2025-08-05T16:40:17.120614",
     "exception": false,
     "start_time": "2025-08-05T16:40:17.100212",
     "status": "completed"
    },
    "tags": []
   },
   "outputs": [],
   "source": [
    "y_train = y_train[keep_mask]"
   ]
  },
  {
   "cell_type": "markdown",
   "id": "493e2ac3",
   "metadata": {
    "papermill": {
     "duration": 0.011728,
     "end_time": "2025-08-05T16:40:17.146634",
     "exception": false,
     "start_time": "2025-08-05T16:40:17.134906",
     "status": "completed"
    },
    "tags": []
   },
   "source": [
    "# Model Training"
   ]
  },
  {
   "cell_type": "code",
   "execution_count": 30,
   "id": "679e1268",
   "metadata": {
    "execution": {
     "iopub.execute_input": "2025-08-05T16:40:17.170810Z",
     "iopub.status.busy": "2025-08-05T16:40:17.170417Z",
     "iopub.status.idle": "2025-08-05T16:40:17.435992Z",
     "shell.execute_reply": "2025-08-05T16:40:17.434938Z"
    },
    "papermill": {
     "duration": 0.280157,
     "end_time": "2025-08-05T16:40:17.438095",
     "exception": false,
     "start_time": "2025-08-05T16:40:17.157938",
     "status": "completed"
    },
    "tags": []
   },
   "outputs": [],
   "source": [
    "from sklearn.linear_model import LogisticRegression\n",
    "from sklearn.ensemble import GradientBoostingClassifier, RandomForestClassifier\n",
    "\n",
    "if (universe[\"model\"] == \"logreg\"):\n",
    "    model = LogisticRegression() #penalty=\"none\", solver=\"newton-cg\", max_iter=1) # include random_state=19 ?\n",
    "elif (universe[\"model\"] == \"penalized_logreg\"):\n",
    "    model = LogisticRegression(penalty=\"l2\", C=0.1) #, solver=\"newton-cg\", max_iter=1)\n",
    "elif (universe[\"model\"] == \"rf\"):\n",
    "    model = RandomForestClassifier() # n_estimators=100, n_jobs=-1\n",
    "elif (universe[\"model\"] == \"gbm\"):\n",
    "    model = GradientBoostingClassifier()\n",
    "elif (universe[\"model\"] == \"elasticnet\"):\n",
    "    model = LogisticRegression(penalty = 'elasticnet', solver = 'saga', l1_ratio = 0.5) # max_iter=5000\n",
    "else:\n",
    "    raise \"Unsupported universe.model\""
   ]
  },
  {
   "cell_type": "code",
   "execution_count": 31,
   "id": "0cc8f744",
   "metadata": {
    "execution": {
     "iopub.execute_input": "2025-08-05T16:40:17.469068Z",
     "iopub.status.busy": "2025-08-05T16:40:17.468607Z",
     "iopub.status.idle": "2025-08-05T16:40:17.474294Z",
     "shell.execute_reply": "2025-08-05T16:40:17.473086Z"
    },
    "papermill": {
     "duration": 0.018531,
     "end_time": "2025-08-05T16:40:17.476352",
     "exception": false,
     "start_time": "2025-08-05T16:40:17.457821",
     "status": "completed"
    },
    "tags": []
   },
   "outputs": [],
   "source": [
    "import numpy as np\n",
    "from sklearn.pipeline import Pipeline\n",
    "from sklearn.preprocessing import StandardScaler\n",
    "\n",
    "model = Pipeline([\n",
    "    #(\"continuous_processor\", continuous_processor),\n",
    "    #(\"categorical_preprocessor\", categorical_preprocessor),\n",
    "    (\"scale\", StandardScaler() if universe[\"scale\"] == \"scale\" else None), \n",
    "    (\"model\", model),\n",
    "])"
   ]
  },
  {
   "cell_type": "code",
   "execution_count": 32,
   "id": "9442c04d",
   "metadata": {
    "execution": {
     "iopub.execute_input": "2025-08-05T16:40:17.511712Z",
     "iopub.status.busy": "2025-08-05T16:40:17.511274Z",
     "iopub.status.idle": "2025-08-05T16:40:17.564664Z",
     "shell.execute_reply": "2025-08-05T16:40:17.563624Z"
    },
    "papermill": {
     "duration": 0.070151,
     "end_time": "2025-08-05T16:40:17.566256",
     "exception": false,
     "start_time": "2025-08-05T16:40:17.496105",
     "status": "completed"
    },
    "tags": []
   },
   "outputs": [
    {
     "name": "stderr",
     "output_type": "stream",
     "text": [
      "/dss/dsshome1/0C/ra93lal2/.local/share/virtualenvs/CMA_Fairness_v2-3j10GkSs/lib/python3.10/site-packages/sklearn/linear_model/_logistic.py:444: ConvergenceWarning: lbfgs failed to converge (status=1):\n",
      "STOP: TOTAL NO. of ITERATIONS REACHED LIMIT.\n",
      "\n",
      "Increase the number of iterations (max_iter) or scale the data as shown in:\n",
      "    https://scikit-learn.org/stable/modules/preprocessing.html\n",
      "Please also refer to the documentation for alternative solver options:\n",
      "    https://scikit-learn.org/stable/modules/linear_model.html#logistic-regression\n",
      "  n_iter_i = _check_optimize_result(\n"
     ]
    },
    {
     "data": {
      "text/html": [
       "<style>#sk-container-id-1 {color: black;background-color: white;}#sk-container-id-1 pre{padding: 0;}#sk-container-id-1 div.sk-toggleable {background-color: white;}#sk-container-id-1 label.sk-toggleable__label {cursor: pointer;display: block;width: 100%;margin-bottom: 0;padding: 0.3em;box-sizing: border-box;text-align: center;}#sk-container-id-1 label.sk-toggleable__label-arrow:before {content: \"▸\";float: left;margin-right: 0.25em;color: #696969;}#sk-container-id-1 label.sk-toggleable__label-arrow:hover:before {color: black;}#sk-container-id-1 div.sk-estimator:hover label.sk-toggleable__label-arrow:before {color: black;}#sk-container-id-1 div.sk-toggleable__content {max-height: 0;max-width: 0;overflow: hidden;text-align: left;background-color: #f0f8ff;}#sk-container-id-1 div.sk-toggleable__content pre {margin: 0.2em;color: black;border-radius: 0.25em;background-color: #f0f8ff;}#sk-container-id-1 input.sk-toggleable__control:checked~div.sk-toggleable__content {max-height: 200px;max-width: 100%;overflow: auto;}#sk-container-id-1 input.sk-toggleable__control:checked~label.sk-toggleable__label-arrow:before {content: \"▾\";}#sk-container-id-1 div.sk-estimator input.sk-toggleable__control:checked~label.sk-toggleable__label {background-color: #d4ebff;}#sk-container-id-1 div.sk-label input.sk-toggleable__control:checked~label.sk-toggleable__label {background-color: #d4ebff;}#sk-container-id-1 input.sk-hidden--visually {border: 0;clip: rect(1px 1px 1px 1px);clip: rect(1px, 1px, 1px, 1px);height: 1px;margin: -1px;overflow: hidden;padding: 0;position: absolute;width: 1px;}#sk-container-id-1 div.sk-estimator {font-family: monospace;background-color: #f0f8ff;border: 1px dotted black;border-radius: 0.25em;box-sizing: border-box;margin-bottom: 0.5em;}#sk-container-id-1 div.sk-estimator:hover {background-color: #d4ebff;}#sk-container-id-1 div.sk-parallel-item::after {content: \"\";width: 100%;border-bottom: 1px solid gray;flex-grow: 1;}#sk-container-id-1 div.sk-label:hover label.sk-toggleable__label {background-color: #d4ebff;}#sk-container-id-1 div.sk-serial::before {content: \"\";position: absolute;border-left: 1px solid gray;box-sizing: border-box;top: 0;bottom: 0;left: 50%;z-index: 0;}#sk-container-id-1 div.sk-serial {display: flex;flex-direction: column;align-items: center;background-color: white;padding-right: 0.2em;padding-left: 0.2em;position: relative;}#sk-container-id-1 div.sk-item {position: relative;z-index: 1;}#sk-container-id-1 div.sk-parallel {display: flex;align-items: stretch;justify-content: center;background-color: white;position: relative;}#sk-container-id-1 div.sk-item::before, #sk-container-id-1 div.sk-parallel-item::before {content: \"\";position: absolute;border-left: 1px solid gray;box-sizing: border-box;top: 0;bottom: 0;left: 50%;z-index: -1;}#sk-container-id-1 div.sk-parallel-item {display: flex;flex-direction: column;z-index: 1;position: relative;background-color: white;}#sk-container-id-1 div.sk-parallel-item:first-child::after {align-self: flex-end;width: 50%;}#sk-container-id-1 div.sk-parallel-item:last-child::after {align-self: flex-start;width: 50%;}#sk-container-id-1 div.sk-parallel-item:only-child::after {width: 0;}#sk-container-id-1 div.sk-dashed-wrapped {border: 1px dashed gray;margin: 0 0.4em 0.5em 0.4em;box-sizing: border-box;padding-bottom: 0.4em;background-color: white;}#sk-container-id-1 div.sk-label label {font-family: monospace;font-weight: bold;display: inline-block;line-height: 1.2em;}#sk-container-id-1 div.sk-label-container {text-align: center;}#sk-container-id-1 div.sk-container {/* jupyter's `normalize.less` sets `[hidden] { display: none; }` but bootstrap.min.css set `[hidden] { display: none !important; }` so we also need the `!important` here to be able to override the default hidden behavior on the sphinx rendered scikit-learn.org. See: https://github.com/scikit-learn/scikit-learn/issues/21755 */display: inline-block !important;position: relative;}#sk-container-id-1 div.sk-text-repr-fallback {display: none;}</style><div id=\"sk-container-id-1\" class=\"sk-top-container\"><div class=\"sk-text-repr-fallback\"><pre>Pipeline(steps=[(&#x27;scale&#x27;, None), (&#x27;model&#x27;, LogisticRegression(C=0.1))])</pre><b>In a Jupyter environment, please rerun this cell to show the HTML representation or trust the notebook. <br />On GitHub, the HTML representation is unable to render, please try loading this page with nbviewer.org.</b></div><div class=\"sk-container\" hidden><div class=\"sk-item sk-dashed-wrapped\"><div class=\"sk-label-container\"><div class=\"sk-label sk-toggleable\"><input class=\"sk-toggleable__control sk-hidden--visually\" id=\"sk-estimator-id-1\" type=\"checkbox\" ><label for=\"sk-estimator-id-1\" class=\"sk-toggleable__label sk-toggleable__label-arrow\">Pipeline</label><div class=\"sk-toggleable__content\"><pre>Pipeline(steps=[(&#x27;scale&#x27;, None), (&#x27;model&#x27;, LogisticRegression(C=0.1))])</pre></div></div></div><div class=\"sk-serial\"><div class=\"sk-item\"><div class=\"sk-estimator sk-toggleable\"><input class=\"sk-toggleable__control sk-hidden--visually\" id=\"sk-estimator-id-2\" type=\"checkbox\" ><label for=\"sk-estimator-id-2\" class=\"sk-toggleable__label sk-toggleable__label-arrow\">None</label><div class=\"sk-toggleable__content\"><pre>None</pre></div></div></div><div class=\"sk-item\"><div class=\"sk-estimator sk-toggleable\"><input class=\"sk-toggleable__control sk-hidden--visually\" id=\"sk-estimator-id-3\" type=\"checkbox\" ><label for=\"sk-estimator-id-3\" class=\"sk-toggleable__label sk-toggleable__label-arrow\">LogisticRegression</label><div class=\"sk-toggleable__content\"><pre>LogisticRegression(C=0.1)</pre></div></div></div></div></div></div></div>"
      ],
      "text/plain": [
       "Pipeline(steps=[('scale', None), ('model', LogisticRegression(C=0.1))])"
      ]
     },
     "execution_count": 32,
     "metadata": {},
     "output_type": "execute_result"
    }
   ],
   "source": [
    "model.fit(X_train, y_train.values.ravel())"
   ]
  },
  {
   "cell_type": "code",
   "execution_count": 33,
   "id": "af59f8c0",
   "metadata": {
    "execution": {
     "iopub.execute_input": "2025-08-05T16:40:17.588069Z",
     "iopub.status.busy": "2025-08-05T16:40:17.587686Z",
     "iopub.status.idle": "2025-08-05T16:40:17.592929Z",
     "shell.execute_reply": "2025-08-05T16:40:17.592138Z"
    },
    "papermill": {
     "duration": 0.017617,
     "end_time": "2025-08-05T16:40:17.594512",
     "exception": false,
     "start_time": "2025-08-05T16:40:17.576895",
     "status": "completed"
    },
    "tags": []
   },
   "outputs": [],
   "source": [
    "from fairness_multiverse.universe import predict_w_threshold"
   ]
  },
  {
   "cell_type": "code",
   "execution_count": 34,
   "id": "a7cf2e16",
   "metadata": {
    "execution": {
     "iopub.execute_input": "2025-08-05T16:40:17.625422Z",
     "iopub.status.busy": "2025-08-05T16:40:17.625006Z",
     "iopub.status.idle": "2025-08-05T16:40:17.711255Z",
     "shell.execute_reply": "2025-08-05T16:40:17.710531Z"
    },
    "papermill": {
     "duration": 0.10579,
     "end_time": "2025-08-05T16:40:17.712582",
     "exception": false,
     "start_time": "2025-08-05T16:40:17.606792",
     "status": "completed"
    },
    "tags": []
   },
   "outputs": [
    {
     "data": {
      "text/plain": [
       "0.8532716531044476"
      ]
     },
     "execution_count": 34,
     "metadata": {},
     "output_type": "execute_result"
    }
   ],
   "source": [
    "probs_test = model.predict_proba(X_test)\n",
    "\n",
    "'''\n",
    "Below code returns a boolean array (or binary 0/1 array depending on how it’s used) where each element \n",
    "is True if the probability of class 1 is greater than or equal to the threshold, and False otherwise.\n",
    "'''\n",
    "y_pred_default = predict_w_threshold(probs_test, 0.5)\n",
    "\n",
    "from sklearn.metrics import accuracy_score\n",
    "\n",
    "# Naive prediction\n",
    "accuracy_score(y_true = y_true, y_pred = y_pred_default)"
   ]
  },
  {
   "cell_type": "code",
   "execution_count": 35,
   "id": "081964c3",
   "metadata": {
    "execution": {
     "iopub.execute_input": "2025-08-05T16:40:17.759415Z",
     "iopub.status.busy": "2025-08-05T16:40:17.758667Z",
     "iopub.status.idle": "2025-08-05T16:40:17.843366Z",
     "shell.execute_reply": "2025-08-05T16:40:17.842622Z"
    },
    "papermill": {
     "duration": 0.112095,
     "end_time": "2025-08-05T16:40:17.844743",
     "exception": false,
     "start_time": "2025-08-05T16:40:17.732648",
     "status": "completed"
    },
    "tags": []
   },
   "outputs": [
    {
     "data": {
      "text/plain": [
       "array([0, 0, 0, ..., 0, 0, 0])"
      ]
     },
     "execution_count": 35,
     "metadata": {},
     "output_type": "execute_result"
    }
   ],
   "source": [
    "model.predict(X_test)"
   ]
  },
  {
   "cell_type": "markdown",
   "id": "56c9705b",
   "metadata": {
    "papermill": {
     "duration": 0.010765,
     "end_time": "2025-08-05T16:40:17.870841",
     "exception": false,
     "start_time": "2025-08-05T16:40:17.860076",
     "status": "completed"
    },
    "tags": []
   },
   "source": [
    "# Conformal Prediction"
   ]
  },
  {
   "cell_type": "code",
   "execution_count": 36,
   "id": "160ec6ff",
   "metadata": {
    "execution": {
     "iopub.execute_input": "2025-08-05T16:40:17.893589Z",
     "iopub.status.busy": "2025-08-05T16:40:17.892813Z",
     "iopub.status.idle": "2025-08-05T16:40:17.897800Z",
     "shell.execute_reply": "2025-08-05T16:40:17.896953Z"
    },
    "papermill": {
     "duration": 0.018667,
     "end_time": "2025-08-05T16:40:17.899674",
     "exception": false,
     "start_time": "2025-08-05T16:40:17.881007",
     "status": "completed"
    },
    "tags": []
   },
   "outputs": [],
   "source": [
    "# Miscoverage level for conformal prediction (10% allowed error rate => 90% target coverage)\n",
    "alpha = 0.1"
   ]
  },
  {
   "cell_type": "code",
   "execution_count": 37,
   "id": "eadf4555-3dd3-440e-8e35-f82a4ad9f855",
   "metadata": {
    "execution": {
     "iopub.execute_input": "2025-08-05T16:40:17.963091Z",
     "iopub.status.busy": "2025-08-05T16:40:17.962657Z",
     "iopub.status.idle": "2025-08-05T16:40:18.058190Z",
     "shell.execute_reply": "2025-08-05T16:40:18.057059Z"
    },
    "papermill": {
     "duration": 0.131691,
     "end_time": "2025-08-05T16:40:18.060285",
     "exception": false,
     "start_time": "2025-08-05T16:40:17.928594",
     "status": "completed"
    },
    "tags": []
   },
   "outputs": [],
   "source": [
    "probs_calib = model.predict_proba(X_calib)"
   ]
  },
  {
   "cell_type": "code",
   "execution_count": 38,
   "id": "2ed93547-6d5d-4983-9b36-1ecb300da49a",
   "metadata": {
    "execution": {
     "iopub.execute_input": "2025-08-05T16:40:18.092462Z",
     "iopub.status.busy": "2025-08-05T16:40:18.092063Z",
     "iopub.status.idle": "2025-08-05T16:40:18.098887Z",
     "shell.execute_reply": "2025-08-05T16:40:18.097623Z"
    },
    "papermill": {
     "duration": 0.022809,
     "end_time": "2025-08-05T16:40:18.100703",
     "exception": false,
     "start_time": "2025-08-05T16:40:18.077894",
     "status": "completed"
    },
    "tags": []
   },
   "outputs": [],
   "source": [
    "y_calib = y_calib.values.ravel().astype(int)"
   ]
  },
  {
   "cell_type": "code",
   "execution_count": 39,
   "id": "65d1320d-f588-4b38-9072-62af1ae97f7d",
   "metadata": {
    "execution": {
     "iopub.execute_input": "2025-08-05T16:40:18.147039Z",
     "iopub.status.busy": "2025-08-05T16:40:18.146072Z",
     "iopub.status.idle": "2025-08-05T16:40:18.154782Z",
     "shell.execute_reply": "2025-08-05T16:40:18.153610Z"
    },
    "papermill": {
     "duration": 0.034249,
     "end_time": "2025-08-05T16:40:18.156690",
     "exception": false,
     "start_time": "2025-08-05T16:40:18.122441",
     "status": "completed"
    },
    "tags": []
   },
   "outputs": [],
   "source": [
    "from fairness_multiverse.conformal import compute_nc_scores\n",
    "\n",
    "# Compute nonconformity scores on calibration set (1 - probability of true class)\n",
    "nc_scores = compute_nc_scores(probs_calib, y_calib)"
   ]
  },
  {
   "cell_type": "code",
   "execution_count": 40,
   "id": "df3b8ca3-53b7-43d5-9667-7c85da7aeda2",
   "metadata": {
    "execution": {
     "iopub.execute_input": "2025-08-05T16:40:18.200058Z",
     "iopub.status.busy": "2025-08-05T16:40:18.199176Z",
     "iopub.status.idle": "2025-08-05T16:40:18.206160Z",
     "shell.execute_reply": "2025-08-05T16:40:18.204918Z"
    },
    "papermill": {
     "duration": 0.030688,
     "end_time": "2025-08-05T16:40:18.208069",
     "exception": false,
     "start_time": "2025-08-05T16:40:18.177381",
     "status": "completed"
    },
    "tags": []
   },
   "outputs": [],
   "source": [
    "from fairness_multiverse.conformal import find_threshold\n",
    "\n",
    "# Find conformal threshold q_hat for the given alpha (split conformal method)\n",
    "q_hat = find_threshold(nc_scores, alpha)"
   ]
  },
  {
   "cell_type": "code",
   "execution_count": 41,
   "id": "4d29e6c1-0ef6-4aa4-b8fe-4fe79b0d033a",
   "metadata": {
    "execution": {
     "iopub.execute_input": "2025-08-05T16:40:18.258212Z",
     "iopub.status.busy": "2025-08-05T16:40:18.257017Z",
     "iopub.status.idle": "2025-08-05T16:40:18.266357Z",
     "shell.execute_reply": "2025-08-05T16:40:18.265199Z"
    },
    "papermill": {
     "duration": 0.035804,
     "end_time": "2025-08-05T16:40:18.268338",
     "exception": false,
     "start_time": "2025-08-05T16:40:18.232534",
     "status": "completed"
    },
    "tags": []
   },
   "outputs": [
    {
     "data": {
      "text/plain": [
       "0.697027378077471"
      ]
     },
     "execution_count": 41,
     "metadata": {},
     "output_type": "execute_result"
    }
   ],
   "source": [
    "q_hat"
   ]
  },
  {
   "cell_type": "code",
   "execution_count": 42,
   "id": "92460794-cdac-4be2-ba28-f28c0515a6fb",
   "metadata": {
    "execution": {
     "iopub.execute_input": "2025-08-05T16:40:18.314193Z",
     "iopub.status.busy": "2025-08-05T16:40:18.313297Z",
     "iopub.status.idle": "2025-08-05T16:40:19.113337Z",
     "shell.execute_reply": "2025-08-05T16:40:19.112355Z"
    },
    "papermill": {
     "duration": 0.824088,
     "end_time": "2025-08-05T16:40:19.115418",
     "exception": false,
     "start_time": "2025-08-05T16:40:18.291330",
     "status": "completed"
    },
    "tags": []
   },
   "outputs": [],
   "source": [
    "from fairness_multiverse.conformal import predict_conformal_sets\n",
    "\n",
    "# Generate prediction sets for each test example\n",
    "pred_sets = predict_conformal_sets(model, X_test, q_hat)"
   ]
  },
  {
   "cell_type": "code",
   "execution_count": 43,
   "id": "d90c9a65-e6db-4f5d-80cd-e68fb7e46829",
   "metadata": {
    "execution": {
     "iopub.execute_input": "2025-08-05T16:40:19.164102Z",
     "iopub.status.busy": "2025-08-05T16:40:19.163594Z",
     "iopub.status.idle": "2025-08-05T16:40:19.169417Z",
     "shell.execute_reply": "2025-08-05T16:40:19.168340Z"
    },
    "papermill": {
     "duration": 0.031394,
     "end_time": "2025-08-05T16:40:19.171124",
     "exception": false,
     "start_time": "2025-08-05T16:40:19.139730",
     "status": "completed"
    },
    "tags": []
   },
   "outputs": [],
   "source": [
    "y_true = y_true.squeeze()"
   ]
  },
  {
   "cell_type": "code",
   "execution_count": 44,
   "id": "3a58a54a-1e68-46b9-927a-df01f18aebc8",
   "metadata": {
    "execution": {
     "iopub.execute_input": "2025-08-05T16:40:19.220403Z",
     "iopub.status.busy": "2025-08-05T16:40:19.219938Z",
     "iopub.status.idle": "2025-08-05T16:40:19.828757Z",
     "shell.execute_reply": "2025-08-05T16:40:19.827959Z"
    },
    "papermill": {
     "duration": 0.635472,
     "end_time": "2025-08-05T16:40:19.830335",
     "exception": false,
     "start_time": "2025-08-05T16:40:19.194863",
     "status": "completed"
    },
    "tags": []
   },
   "outputs": [],
   "source": [
    "from fairness_multiverse.conformal import evaluate_sets\n",
    "\n",
    "# Evaluate coverage and average set size on test data\n",
    "metrics = evaluate_sets(pred_sets, y_true)"
   ]
  },
  {
   "cell_type": "markdown",
   "id": "2b569c12-9aaa-4c88-98c9-bbcd0cf3ebb8",
   "metadata": {
    "papermill": {
     "duration": 0.011148,
     "end_time": "2025-08-05T16:40:19.853357",
     "exception": false,
     "start_time": "2025-08-05T16:40:19.842209",
     "status": "completed"
    },
    "tags": []
   },
   "source": [
    "# CP Metrics"
   ]
  },
  {
   "cell_type": "code",
   "execution_count": 45,
   "id": "5ce0a5cb-201f-45a0-ade5-94c7f0bd6095",
   "metadata": {
    "execution": {
     "iopub.execute_input": "2025-08-05T16:40:19.877202Z",
     "iopub.status.busy": "2025-08-05T16:40:19.876392Z",
     "iopub.status.idle": "2025-08-05T16:40:19.883474Z",
     "shell.execute_reply": "2025-08-05T16:40:19.882533Z"
    },
    "papermill": {
     "duration": 0.020417,
     "end_time": "2025-08-05T16:40:19.885080",
     "exception": false,
     "start_time": "2025-08-05T16:40:19.864663",
     "status": "completed"
    },
    "tags": []
   },
   "outputs": [
    {
     "data": {
      "text/plain": [
       "{'coverage': 0.9118827332515884, 'avg_size': 1.2429829450451455}"
      ]
     },
     "execution_count": 45,
     "metadata": {},
     "output_type": "execute_result"
    }
   ],
   "source": [
    "metrics"
   ]
  },
  {
   "cell_type": "code",
   "execution_count": 46,
   "id": "9b9a838d-31c9-430b-ae14-12baee460d17",
   "metadata": {
    "execution": {
     "iopub.execute_input": "2025-08-05T16:40:19.910073Z",
     "iopub.status.busy": "2025-08-05T16:40:19.909494Z",
     "iopub.status.idle": "2025-08-05T16:40:19.915270Z",
     "shell.execute_reply": "2025-08-05T16:40:19.914446Z"
    },
    "papermill": {
     "duration": 0.019255,
     "end_time": "2025-08-05T16:40:19.916779",
     "exception": false,
     "start_time": "2025-08-05T16:40:19.897524",
     "status": "completed"
    },
    "tags": []
   },
   "outputs": [],
   "source": [
    "example_universe = universe.copy()\n",
    "universe_training_year = example_universe.get(\"training_year\")\n",
    "universe_training_size = example_universe.get(\"training_size\")\n",
    "universe_scale = example_universe.get(\"scale\")\n",
    "universe_model = example_universe.get(\"model\")\n",
    "universe_exclude_features = example_universe.get(\"exclude_features\")\n",
    "universe_exclude_subgroups = example_universe.get(\"exclude_subgroups\")"
   ]
  },
  {
   "cell_type": "code",
   "execution_count": 47,
   "id": "f4b6a8ac-9dc0-4245-8a91-5b3b5999c4f9",
   "metadata": {
    "execution": {
     "iopub.execute_input": "2025-08-05T16:40:19.942237Z",
     "iopub.status.busy": "2025-08-05T16:40:19.941448Z",
     "iopub.status.idle": "2025-08-05T16:40:19.947134Z",
     "shell.execute_reply": "2025-08-05T16:40:19.946306Z"
    },
    "papermill": {
     "duration": 0.019487,
     "end_time": "2025-08-05T16:40:19.948836",
     "exception": false,
     "start_time": "2025-08-05T16:40:19.929349",
     "status": "completed"
    },
    "tags": []
   },
   "outputs": [],
   "source": [
    "cp_metrics_dict = {\n",
    "    \"universe_id\": [universe_id],\n",
    "    \"universe_training_year\": [universe_training_year],\n",
    "    \"universe_training_size\": [universe_training_size],\n",
    "    \"universe_scale\": [universe_scale],\n",
    "    \"universe_model\": [universe_model],\n",
    "    \"universe_exclude_features\": [universe_exclude_features],\n",
    "    \"universe_exclude_subgroups\": [universe_exclude_subgroups],\n",
    "    \"q_hat\": [q_hat],\n",
    "    \"coverage\": [metrics[\"coverage\"]],\n",
    "    \"avg_size\": [metrics[\"avg_size\"]],\n",
    "}"
   ]
  },
  {
   "cell_type": "code",
   "execution_count": 48,
   "id": "908acbb1-0371-4915-85ca-3fa520d2efe2",
   "metadata": {
    "execution": {
     "iopub.execute_input": "2025-08-05T16:40:19.974151Z",
     "iopub.status.busy": "2025-08-05T16:40:19.973420Z",
     "iopub.status.idle": "2025-08-05T16:40:19.980331Z",
     "shell.execute_reply": "2025-08-05T16:40:19.979256Z"
    },
    "papermill": {
     "duration": 0.020609,
     "end_time": "2025-08-05T16:40:19.981946",
     "exception": false,
     "start_time": "2025-08-05T16:40:19.961337",
     "status": "completed"
    },
    "tags": []
   },
   "outputs": [
    {
     "data": {
      "text/plain": [
       "{'universe_id': ['e765d0e8f2cef2f22b9e5cfaf47d5402'],\n",
       " 'universe_training_year': ['2010_14'],\n",
       " 'universe_training_size': ['1k'],\n",
       " 'universe_scale': ['do-not-scale'],\n",
       " 'universe_model': ['penalized_logreg'],\n",
       " 'universe_exclude_features': ['nationality'],\n",
       " 'universe_exclude_subgroups': ['drop-non-german'],\n",
       " 'q_hat': [0.697027378077471],\n",
       " 'coverage': [0.9118827332515884],\n",
       " 'avg_size': [1.2429829450451455]}"
      ]
     },
     "execution_count": 48,
     "metadata": {},
     "output_type": "execute_result"
    }
   ],
   "source": [
    "cp_metrics_dict"
   ]
  },
  {
   "cell_type": "code",
   "execution_count": 49,
   "id": "33007efc-14e9-4ec6-97ac-56a455c82265",
   "metadata": {
    "execution": {
     "iopub.execute_input": "2025-08-05T16:40:20.007603Z",
     "iopub.status.busy": "2025-08-05T16:40:20.006866Z",
     "iopub.status.idle": "2025-08-05T16:40:20.012700Z",
     "shell.execute_reply": "2025-08-05T16:40:20.011887Z"
    },
    "papermill": {
     "duration": 0.019462,
     "end_time": "2025-08-05T16:40:20.014417",
     "exception": false,
     "start_time": "2025-08-05T16:40:19.994955",
     "status": "completed"
    },
    "tags": []
   },
   "outputs": [],
   "source": [
    "cp_metrics_df = pd.DataFrame(cp_metrics_dict)"
   ]
  },
  {
   "cell_type": "code",
   "execution_count": 50,
   "id": "db12611b-57b2-4910-b9d0-355adfd6e7bf",
   "metadata": {
    "execution": {
     "iopub.execute_input": "2025-08-05T16:40:20.040467Z",
     "iopub.status.busy": "2025-08-05T16:40:20.039730Z",
     "iopub.status.idle": "2025-08-05T16:40:20.055170Z",
     "shell.execute_reply": "2025-08-05T16:40:20.054341Z"
    },
    "papermill": {
     "duration": 0.029211,
     "end_time": "2025-08-05T16:40:20.056745",
     "exception": false,
     "start_time": "2025-08-05T16:40:20.027534",
     "status": "completed"
    },
    "tags": []
   },
   "outputs": [
    {
     "data": {
      "text/html": [
       "<div>\n",
       "<style scoped>\n",
       "    .dataframe tbody tr th:only-of-type {\n",
       "        vertical-align: middle;\n",
       "    }\n",
       "\n",
       "    .dataframe tbody tr th {\n",
       "        vertical-align: top;\n",
       "    }\n",
       "\n",
       "    .dataframe thead th {\n",
       "        text-align: right;\n",
       "    }\n",
       "</style>\n",
       "<table border=\"1\" class=\"dataframe\">\n",
       "  <thead>\n",
       "    <tr style=\"text-align: right;\">\n",
       "      <th></th>\n",
       "      <th>universe_id</th>\n",
       "      <th>universe_training_year</th>\n",
       "      <th>universe_training_size</th>\n",
       "      <th>universe_scale</th>\n",
       "      <th>universe_model</th>\n",
       "      <th>universe_exclude_features</th>\n",
       "      <th>universe_exclude_subgroups</th>\n",
       "      <th>q_hat</th>\n",
       "      <th>coverage</th>\n",
       "      <th>avg_size</th>\n",
       "    </tr>\n",
       "  </thead>\n",
       "  <tbody>\n",
       "    <tr>\n",
       "      <th>0</th>\n",
       "      <td>e765d0e8f2cef2f22b9e5cfaf47d5402</td>\n",
       "      <td>2010_14</td>\n",
       "      <td>1k</td>\n",
       "      <td>do-not-scale</td>\n",
       "      <td>penalized_logreg</td>\n",
       "      <td>nationality</td>\n",
       "      <td>drop-non-german</td>\n",
       "      <td>0.697027</td>\n",
       "      <td>0.911883</td>\n",
       "      <td>1.242983</td>\n",
       "    </tr>\n",
       "  </tbody>\n",
       "</table>\n",
       "</div>"
      ],
      "text/plain": [
       "                        universe_id universe_training_year  \\\n",
       "0  e765d0e8f2cef2f22b9e5cfaf47d5402                2010_14   \n",
       "\n",
       "  universe_training_size universe_scale    universe_model  \\\n",
       "0                     1k   do-not-scale  penalized_logreg   \n",
       "\n",
       "  universe_exclude_features universe_exclude_subgroups     q_hat  coverage  \\\n",
       "0               nationality            drop-non-german  0.697027  0.911883   \n",
       "\n",
       "   avg_size  \n",
       "0  1.242983  "
      ]
     },
     "execution_count": 50,
     "metadata": {},
     "output_type": "execute_result"
    }
   ],
   "source": [
    "cp_metrics_df"
   ]
  },
  {
   "cell_type": "code",
   "execution_count": 51,
   "id": "b7fbde55-a0a1-47e4-9af6-fe4a17fa8c61",
   "metadata": {
    "execution": {
     "iopub.execute_input": "2025-08-05T16:40:20.082805Z",
     "iopub.status.busy": "2025-08-05T16:40:20.082035Z",
     "iopub.status.idle": "2025-08-05T16:40:20.086683Z",
     "shell.execute_reply": "2025-08-05T16:40:20.085888Z"
    },
    "papermill": {
     "duration": 0.018907,
     "end_time": "2025-08-05T16:40:20.088218",
     "exception": false,
     "start_time": "2025-08-05T16:40:20.069311",
     "status": "completed"
    },
    "tags": []
   },
   "outputs": [],
   "source": [
    "# Conditional Coverage & looking at subgroups"
   ]
  },
  {
   "cell_type": "code",
   "execution_count": 52,
   "id": "027ae886-68dd-4141-96c7-805a5450e1ef",
   "metadata": {
    "execution": {
     "iopub.execute_input": "2025-08-05T16:40:20.114453Z",
     "iopub.status.busy": "2025-08-05T16:40:20.114095Z",
     "iopub.status.idle": "2025-08-05T16:40:20.301020Z",
     "shell.execute_reply": "2025-08-05T16:40:20.300216Z"
    },
    "papermill": {
     "duration": 0.201707,
     "end_time": "2025-08-05T16:40:20.302676",
     "exception": false,
     "start_time": "2025-08-05T16:40:20.100969",
     "status": "completed"
    },
    "tags": []
   },
   "outputs": [],
   "source": [
    "from fairness_multiverse.conformal import build_cp_groups\n",
    "\n",
    "cp_groups_df = build_cp_groups(pred_sets, y_true, X_test.index, org_test)\n",
    "#needs universe_id and setting"
   ]
  },
  {
   "cell_type": "code",
   "execution_count": 53,
   "id": "6cbdab96-b2b2-45af-ad54-d0516db2e28d",
   "metadata": {
    "execution": {
     "iopub.execute_input": "2025-08-05T16:40:20.328684Z",
     "iopub.status.busy": "2025-08-05T16:40:20.328331Z",
     "iopub.status.idle": "2025-08-05T16:40:21.620224Z",
     "shell.execute_reply": "2025-08-05T16:40:21.619340Z"
    },
    "papermill": {
     "duration": 1.306831,
     "end_time": "2025-08-05T16:40:21.621933",
     "exception": false,
     "start_time": "2025-08-05T16:40:20.315102",
     "status": "completed"
    },
    "tags": []
   },
   "outputs": [],
   "source": [
    "# Define covered = 1 if true_label is in the predicted set\n",
    "cp_groups_df['covered'] = cp_groups_df.apply(\n",
    "    lambda r: int(r['true_label'] in r['pred_set']),\n",
    "    axis=1\n",
    ")"
   ]
  },
  {
   "cell_type": "code",
   "execution_count": 54,
   "id": "338ff529-1a6b-4b87-a931-8e4788d52aad",
   "metadata": {
    "execution": {
     "iopub.execute_input": "2025-08-05T16:40:21.650289Z",
     "iopub.status.busy": "2025-08-05T16:40:21.649389Z",
     "iopub.status.idle": "2025-08-05T16:40:21.654654Z",
     "shell.execute_reply": "2025-08-05T16:40:21.653685Z"
    },
    "papermill": {
     "duration": 0.019999,
     "end_time": "2025-08-05T16:40:21.656487",
     "exception": false,
     "start_time": "2025-08-05T16:40:21.636488",
     "status": "completed"
    },
    "tags": []
   },
   "outputs": [],
   "source": [
    "#cp_groups_df"
   ]
  },
  {
   "cell_type": "code",
   "execution_count": 55,
   "id": "90032e27-66df-4540-9169-4e89cfbaa758",
   "metadata": {
    "execution": {
     "iopub.execute_input": "2025-08-05T16:40:21.683520Z",
     "iopub.status.busy": "2025-08-05T16:40:21.682775Z",
     "iopub.status.idle": "2025-08-05T16:40:21.692363Z",
     "shell.execute_reply": "2025-08-05T16:40:21.691511Z"
    },
    "papermill": {
     "duration": 0.023972,
     "end_time": "2025-08-05T16:40:21.694062",
     "exception": false,
     "start_time": "2025-08-05T16:40:21.670090",
     "status": "completed"
    },
    "tags": []
   },
   "outputs": [],
   "source": [
    "subgroups = ['frau1','nongerman','nongerman_male','nongerman_female']\n",
    "\n",
    "# Conditional coverage for subgroup==1\n",
    "cond_coverage = {\n",
    "    g: cp_groups_df.loc[cp_groups_df[g]==1, 'covered'].mean()\n",
    "    for g in subgroups\n",
    "}"
   ]
  },
  {
   "cell_type": "code",
   "execution_count": 56,
   "id": "1e348fb1-b9c3-45bc-ba23-f016827a7e0d",
   "metadata": {
    "execution": {
     "iopub.execute_input": "2025-08-05T16:40:21.721129Z",
     "iopub.status.busy": "2025-08-05T16:40:21.720296Z",
     "iopub.status.idle": "2025-08-05T16:40:21.727222Z",
     "shell.execute_reply": "2025-08-05T16:40:21.726317Z"
    },
    "papermill": {
     "duration": 0.021744,
     "end_time": "2025-08-05T16:40:21.728740",
     "exception": false,
     "start_time": "2025-08-05T16:40:21.706996",
     "status": "completed"
    },
    "tags": []
   },
   "outputs": [
    {
     "data": {
      "text/plain": [
       "{'frau1': 0.9116862110796603,\n",
       " 'nongerman': 0.9363386290911132,\n",
       " 'nongerman_male': 0.949202918130235,\n",
       " 'nongerman_female': 0.9150521609538003}"
      ]
     },
     "execution_count": 56,
     "metadata": {},
     "output_type": "execute_result"
    }
   ],
   "source": [
    "cond_coverage"
   ]
  },
  {
   "cell_type": "code",
   "execution_count": 57,
   "id": "f5093324-c3dd-4d63-bc4c-8d945e5c8bbb",
   "metadata": {
    "execution": {
     "iopub.execute_input": "2025-08-05T16:40:21.755652Z",
     "iopub.status.busy": "2025-08-05T16:40:21.754774Z",
     "iopub.status.idle": "2025-08-05T16:40:21.761423Z",
     "shell.execute_reply": "2025-08-05T16:40:21.760574Z"
    },
    "papermill": {
     "duration": 0.021377,
     "end_time": "2025-08-05T16:40:21.763114",
     "exception": false,
     "start_time": "2025-08-05T16:40:21.741737",
     "status": "completed"
    },
    "tags": []
   },
   "outputs": [],
   "source": [
    "for subgroup, cov in cond_coverage.items():\n",
    "    cp_metrics_df[f\"cov_{subgroup}\"] = cov"
   ]
  },
  {
   "cell_type": "code",
   "execution_count": 58,
   "id": "6e872e10-dbe5-49e8-b554-5030c98ff75d",
   "metadata": {
    "execution": {
     "iopub.execute_input": "2025-08-05T16:40:21.790103Z",
     "iopub.status.busy": "2025-08-05T16:40:21.789356Z",
     "iopub.status.idle": "2025-08-05T16:40:21.804465Z",
     "shell.execute_reply": "2025-08-05T16:40:21.803305Z"
    },
    "papermill": {
     "duration": 0.029489,
     "end_time": "2025-08-05T16:40:21.806084",
     "exception": false,
     "start_time": "2025-08-05T16:40:21.776595",
     "status": "completed"
    },
    "tags": []
   },
   "outputs": [
    {
     "data": {
      "text/html": [
       "<div>\n",
       "<style scoped>\n",
       "    .dataframe tbody tr th:only-of-type {\n",
       "        vertical-align: middle;\n",
       "    }\n",
       "\n",
       "    .dataframe tbody tr th {\n",
       "        vertical-align: top;\n",
       "    }\n",
       "\n",
       "    .dataframe thead th {\n",
       "        text-align: right;\n",
       "    }\n",
       "</style>\n",
       "<table border=\"1\" class=\"dataframe\">\n",
       "  <thead>\n",
       "    <tr style=\"text-align: right;\">\n",
       "      <th></th>\n",
       "      <th>universe_id</th>\n",
       "      <th>universe_training_year</th>\n",
       "      <th>universe_training_size</th>\n",
       "      <th>universe_scale</th>\n",
       "      <th>universe_model</th>\n",
       "      <th>universe_exclude_features</th>\n",
       "      <th>universe_exclude_subgroups</th>\n",
       "      <th>q_hat</th>\n",
       "      <th>coverage</th>\n",
       "      <th>avg_size</th>\n",
       "      <th>cov_frau1</th>\n",
       "      <th>cov_nongerman</th>\n",
       "      <th>cov_nongerman_male</th>\n",
       "      <th>cov_nongerman_female</th>\n",
       "    </tr>\n",
       "  </thead>\n",
       "  <tbody>\n",
       "    <tr>\n",
       "      <th>0</th>\n",
       "      <td>e765d0e8f2cef2f22b9e5cfaf47d5402</td>\n",
       "      <td>2010_14</td>\n",
       "      <td>1k</td>\n",
       "      <td>do-not-scale</td>\n",
       "      <td>penalized_logreg</td>\n",
       "      <td>nationality</td>\n",
       "      <td>drop-non-german</td>\n",
       "      <td>0.697027</td>\n",
       "      <td>0.911883</td>\n",
       "      <td>1.242983</td>\n",
       "      <td>0.911686</td>\n",
       "      <td>0.936339</td>\n",
       "      <td>0.949203</td>\n",
       "      <td>0.915052</td>\n",
       "    </tr>\n",
       "  </tbody>\n",
       "</table>\n",
       "</div>"
      ],
      "text/plain": [
       "                        universe_id universe_training_year  \\\n",
       "0  e765d0e8f2cef2f22b9e5cfaf47d5402                2010_14   \n",
       "\n",
       "  universe_training_size universe_scale    universe_model  \\\n",
       "0                     1k   do-not-scale  penalized_logreg   \n",
       "\n",
       "  universe_exclude_features universe_exclude_subgroups     q_hat  coverage  \\\n",
       "0               nationality            drop-non-german  0.697027  0.911883   \n",
       "\n",
       "   avg_size  cov_frau1  cov_nongerman  cov_nongerman_male  \\\n",
       "0  1.242983   0.911686       0.936339            0.949203   \n",
       "\n",
       "   cov_nongerman_female  \n",
       "0              0.915052  "
      ]
     },
     "execution_count": 58,
     "metadata": {},
     "output_type": "execute_result"
    }
   ],
   "source": [
    "cp_metrics_df"
   ]
  },
  {
   "cell_type": "markdown",
   "id": "33774451",
   "metadata": {
    "papermill": {
     "duration": 0.012569,
     "end_time": "2025-08-05T16:40:21.831740",
     "exception": false,
     "start_time": "2025-08-05T16:40:21.819171",
     "status": "completed"
    },
    "tags": []
   },
   "source": [
    "# (Fairness) Metrics"
   ]
  },
  {
   "cell_type": "code",
   "execution_count": 59,
   "id": "debc5d62",
   "metadata": {
    "execution": {
     "iopub.execute_input": "2025-08-05T16:40:21.857853Z",
     "iopub.status.busy": "2025-08-05T16:40:21.857099Z",
     "iopub.status.idle": "2025-08-05T16:40:21.872879Z",
     "shell.execute_reply": "2025-08-05T16:40:21.872084Z"
    },
    "papermill": {
     "duration": 0.030602,
     "end_time": "2025-08-05T16:40:21.874683",
     "exception": false,
     "start_time": "2025-08-05T16:40:21.844081",
     "status": "completed"
    },
    "tags": []
   },
   "outputs": [],
   "source": [
    "# do I need to include maxdeutsch1.missing?\n",
    "\n",
    "import numpy as np\n",
    "\n",
    "colname_to_bin = \"maxdeutsch1\"\n",
    "majority_value = org_train[colname_to_bin].mode()[0]\n",
    "\n",
    "org_test[\"majmin\"] = np.where(org_test[colname_to_bin] == majority_value, \"majority\", \"minority\")"
   ]
  },
  {
   "cell_type": "code",
   "execution_count": 60,
   "id": "06a50de5",
   "metadata": {
    "execution": {
     "iopub.execute_input": "2025-08-05T16:40:21.900781Z",
     "iopub.status.busy": "2025-08-05T16:40:21.900044Z",
     "iopub.status.idle": "2025-08-05T16:40:23.597463Z",
     "shell.execute_reply": "2025-08-05T16:40:23.596707Z"
    },
    "papermill": {
     "duration": 1.711874,
     "end_time": "2025-08-05T16:40:23.599160",
     "exception": false,
     "start_time": "2025-08-05T16:40:21.887286",
     "status": "completed"
    },
    "tags": []
   },
   "outputs": [],
   "source": [
    "example_universe = universe.copy()\n",
    "example_universe[\"cutoff\"] = example_universe[\"cutoff\"][0]\n",
    "example_universe[\"eval_fairness_grouping\"] = example_universe[\"eval_fairness_grouping\"][0]\n",
    "fairness_dict, metric_frame = universe_analysis.compute_metrics(\n",
    "    example_universe,\n",
    "    y_pred_prob=probs_test,\n",
    "    y_test=y_true,\n",
    "    org_test=org_test,\n",
    ")"
   ]
  },
  {
   "cell_type": "markdown",
   "id": "f95d4e02",
   "metadata": {
    "papermill": {
     "duration": 0.031551,
     "end_time": "2025-08-05T16:40:23.643298",
     "exception": false,
     "start_time": "2025-08-05T16:40:23.611747",
     "status": "completed"
    },
    "tags": []
   },
   "source": [
    "# Overall"
   ]
  },
  {
   "cell_type": "markdown",
   "id": "bdee4871",
   "metadata": {
    "papermill": {
     "duration": 0.016195,
     "end_time": "2025-08-05T16:40:23.689523",
     "exception": false,
     "start_time": "2025-08-05T16:40:23.673328",
     "status": "completed"
    },
    "tags": []
   },
   "source": [
    "Fairness\n",
    "Main fairness target: Equalized Odds. Seems to be a better fit than equal opportunity, since we're not only interested in Y = 1. Seems to be a better fit than demographic parity, since we also care about accuracy, not just equal distribution of preds.\n",
    "\n",
    "Pick column for computation of fairness metrics\n",
    "\n",
    "Performance\n",
    "Overall performance measures, most interesting in relation to the measures split by group below"
   ]
  },
  {
   "cell_type": "code",
   "execution_count": 61,
   "id": "c4e067c6",
   "metadata": {
    "execution": {
     "iopub.execute_input": "2025-08-05T16:40:23.726712Z",
     "iopub.status.busy": "2025-08-05T16:40:23.726303Z",
     "iopub.status.idle": "2025-08-05T16:40:23.734297Z",
     "shell.execute_reply": "2025-08-05T16:40:23.733329Z"
    },
    "papermill": {
     "duration": 0.029794,
     "end_time": "2025-08-05T16:40:23.735932",
     "exception": false,
     "start_time": "2025-08-05T16:40:23.706138",
     "status": "completed"
    },
    "tags": []
   },
   "outputs": [
    {
     "data": {
      "text/plain": [
       "accuracy                   0.213075\n",
       "balanced accuracy          0.523366\n",
       "f1                         0.234718\n",
       "precision                  0.134086\n",
       "false positive rate        0.894005\n",
       "false negative rate        0.059263\n",
       "selection rate             0.900000\n",
       "count                  89710.000000\n",
       "dtype: float64"
      ]
     },
     "execution_count": 61,
     "metadata": {},
     "output_type": "execute_result"
    }
   ],
   "source": [
    "metric_frame.overall"
   ]
  },
  {
   "cell_type": "markdown",
   "id": "e968fe9d",
   "metadata": {
    "papermill": {
     "duration": 0.012564,
     "end_time": "2025-08-05T16:40:23.761975",
     "exception": false,
     "start_time": "2025-08-05T16:40:23.749411",
     "status": "completed"
    },
    "tags": []
   },
   "source": [
    "By Group"
   ]
  },
  {
   "cell_type": "code",
   "execution_count": 62,
   "id": "ec325bce",
   "metadata": {
    "execution": {
     "iopub.execute_input": "2025-08-05T16:40:23.814457Z",
     "iopub.status.busy": "2025-08-05T16:40:23.813984Z",
     "iopub.status.idle": "2025-08-05T16:40:23.830976Z",
     "shell.execute_reply": "2025-08-05T16:40:23.829761Z"
    },
    "papermill": {
     "duration": 0.047028,
     "end_time": "2025-08-05T16:40:23.832637",
     "exception": false,
     "start_time": "2025-08-05T16:40:23.785609",
     "status": "completed"
    },
    "tags": []
   },
   "outputs": [
    {
     "data": {
      "text/html": [
       "<div>\n",
       "<style scoped>\n",
       "    .dataframe tbody tr th:only-of-type {\n",
       "        vertical-align: middle;\n",
       "    }\n",
       "\n",
       "    .dataframe tbody tr th {\n",
       "        vertical-align: top;\n",
       "    }\n",
       "\n",
       "    .dataframe thead th {\n",
       "        text-align: right;\n",
       "    }\n",
       "</style>\n",
       "<table border=\"1\" class=\"dataframe\">\n",
       "  <thead>\n",
       "    <tr style=\"text-align: right;\">\n",
       "      <th></th>\n",
       "      <th>accuracy</th>\n",
       "      <th>balanced accuracy</th>\n",
       "      <th>f1</th>\n",
       "      <th>precision</th>\n",
       "      <th>false positive rate</th>\n",
       "      <th>false negative rate</th>\n",
       "      <th>selection rate</th>\n",
       "      <th>count</th>\n",
       "    </tr>\n",
       "    <tr>\n",
       "      <th>majmin</th>\n",
       "      <th></th>\n",
       "      <th></th>\n",
       "      <th></th>\n",
       "      <th></th>\n",
       "      <th></th>\n",
       "      <th></th>\n",
       "      <th></th>\n",
       "      <th></th>\n",
       "    </tr>\n",
       "  </thead>\n",
       "  <tbody>\n",
       "    <tr>\n",
       "      <th>majority</th>\n",
       "      <td>0.233425</td>\n",
       "      <td>0.528674</td>\n",
       "      <td>0.242774</td>\n",
       "      <td>0.139610</td>\n",
       "      <td>0.872630</td>\n",
       "      <td>0.070022</td>\n",
       "      <td>0.880208</td>\n",
       "      <td>69170.0</td>\n",
       "    </tr>\n",
       "    <tr>\n",
       "      <th>minority</th>\n",
       "      <td>0.144547</td>\n",
       "      <td>0.508824</td>\n",
       "      <td>0.209333</td>\n",
       "      <td>0.117149</td>\n",
       "      <td>0.964616</td>\n",
       "      <td>0.017736</td>\n",
       "      <td>0.966650</td>\n",
       "      <td>20540.0</td>\n",
       "    </tr>\n",
       "  </tbody>\n",
       "</table>\n",
       "</div>"
      ],
      "text/plain": [
       "          accuracy  balanced accuracy        f1  precision  \\\n",
       "majmin                                                       \n",
       "majority  0.233425           0.528674  0.242774   0.139610   \n",
       "minority  0.144547           0.508824  0.209333   0.117149   \n",
       "\n",
       "          false positive rate  false negative rate  selection rate    count  \n",
       "majmin                                                                       \n",
       "majority             0.872630             0.070022        0.880208  69170.0  \n",
       "minority             0.964616             0.017736        0.966650  20540.0  "
      ]
     },
     "execution_count": 62,
     "metadata": {},
     "output_type": "execute_result"
    }
   ],
   "source": [
    "metric_frame.by_group"
   ]
  },
  {
   "cell_type": "code",
   "execution_count": 63,
   "id": "a9ddbe63",
   "metadata": {
    "execution": {
     "iopub.execute_input": "2025-08-05T16:40:23.885760Z",
     "iopub.status.busy": "2025-08-05T16:40:23.885060Z",
     "iopub.status.idle": "2025-08-05T16:40:26.427975Z",
     "shell.execute_reply": "2025-08-05T16:40:26.427206Z"
    },
    "papermill": {
     "duration": 2.569417,
     "end_time": "2025-08-05T16:40:26.429635",
     "exception": false,
     "start_time": "2025-08-05T16:40:23.860218",
     "status": "completed"
    },
    "tags": []
   },
   "outputs": [
    {
     "data": {
      "text/plain": [
       "array([[<Axes: title={'center': 'accuracy'}, xlabel='majmin'>,\n",
       "        <Axes: title={'center': 'balanced accuracy'}, xlabel='majmin'>,\n",
       "        <Axes: title={'center': 'f1'}, xlabel='majmin'>],\n",
       "       [<Axes: title={'center': 'precision'}, xlabel='majmin'>,\n",
       "        <Axes: title={'center': 'false positive rate'}, xlabel='majmin'>,\n",
       "        <Axes: title={'center': 'false negative rate'}, xlabel='majmin'>],\n",
       "       [<Axes: title={'center': 'selection rate'}, xlabel='majmin'>,\n",
       "        <Axes: title={'center': 'count'}, xlabel='majmin'>,\n",
       "        <Axes: xlabel='majmin'>]], dtype=object)"
      ]
     },
     "execution_count": 63,
     "metadata": {},
     "output_type": "execute_result"
    },
    {
     "data": {
      "image/png": "[encoded data removed]",
      "text/plain": [
       "<Figure size 1200x800 with 9 Axes>"
      ]
     },
     "metadata": {},
     "output_type": "display_data"
    }
   ],
   "source": [
    "# In a graphic\n",
    "metric_frame.by_group.plot.bar(\n",
    "    subplots=True,\n",
    "    layout=[3, 3],\n",
    "    legend=False,\n",
    "    figsize=[12, 8],\n",
    "    title=\"Show all metrics\",\n",
    ")"
   ]
  },
  {
   "cell_type": "markdown",
   "id": "f57a0bac",
   "metadata": {
    "papermill": {
     "duration": 0.030101,
     "end_time": "2025-08-05T16:40:26.487684",
     "exception": false,
     "start_time": "2025-08-05T16:40:26.457583",
     "status": "completed"
    },
    "tags": []
   },
   "source": [
    "# Final Output"
   ]
  },
  {
   "cell_type": "code",
   "execution_count": 64,
   "id": "96d280a3",
   "metadata": {
    "execution": {
     "iopub.execute_input": "2025-08-05T16:40:26.544165Z",
     "iopub.status.busy": "2025-08-05T16:40:26.543481Z",
     "iopub.status.idle": "2025-08-05T16:40:26.552515Z",
     "shell.execute_reply": "2025-08-05T16:40:26.551502Z"
    },
    "papermill": {
     "duration": 0.039338,
     "end_time": "2025-08-05T16:40:26.554245",
     "exception": false,
     "start_time": "2025-08-05T16:40:26.514907",
     "status": "completed"
    },
    "tags": []
   },
   "outputs": [
    {
     "data": {
      "text/plain": [
       "4"
      ]
     },
     "execution_count": 64,
     "metadata": {},
     "output_type": "execute_result"
    }
   ],
   "source": [
    "sub_universes = universe_analysis.generate_sub_universes()\n",
    "len(sub_universes)"
   ]
  },
  {
   "cell_type": "code",
   "execution_count": 65,
   "id": "92adf7ba",
   "metadata": {
    "execution": {
     "iopub.execute_input": "2025-08-05T16:40:26.614182Z",
     "iopub.status.busy": "2025-08-05T16:40:26.613348Z",
     "iopub.status.idle": "2025-08-05T16:40:26.620376Z",
     "shell.execute_reply": "2025-08-05T16:40:26.619300Z"
    },
    "papermill": {
     "duration": 0.039657,
     "end_time": "2025-08-05T16:40:26.622240",
     "exception": false,
     "start_time": "2025-08-05T16:40:26.582583",
     "status": "completed"
    },
    "tags": []
   },
   "outputs": [],
   "source": [
    "def filter_sub_universe_data(sub_universe, org_test):\n",
    "    # Keep all rows — no filtering\n",
    "    keep_rows_mask = np.ones(org_test.shape[0], dtype=bool)\n",
    "\n",
    "    print(f\"[INFO] Keeping all rows: {keep_rows_mask.sum()} rows retained.\")\n",
    "    return keep_rows_mask"
   ]
  },
  {
   "cell_type": "code",
   "execution_count": 66,
   "id": "4a759155",
   "metadata": {
    "execution": {
     "iopub.execute_input": "2025-08-05T16:40:26.682855Z",
     "iopub.status.busy": "2025-08-05T16:40:26.681993Z",
     "iopub.status.idle": "2025-08-05T16:40:35.403160Z",
     "shell.execute_reply": "2025-08-05T16:40:35.402457Z"
    },
    "papermill": {
     "duration": 8.75288,
     "end_time": "2025-08-05T16:40:35.404394",
     "exception": false,
     "start_time": "2025-08-05T16:40:26.651514",
     "status": "completed"
    },
    "tags": []
   },
   "outputs": [
    {
     "name": "stdout",
     "output_type": "stream",
     "text": [
      "Stopping execution_time clock.\n",
      "[INFO] Keeping all rows: 89710 rows retained.\n"
     ]
    },
    {
     "name": "stdout",
     "output_type": "stream",
     "text": [
      "[INFO] Keeping all rows: 89710 rows retained.\n"
     ]
    },
    {
     "name": "stdout",
     "output_type": "stream",
     "text": [
      "[INFO] Keeping all rows: 89710 rows retained.\n"
     ]
    },
    {
     "name": "stdout",
     "output_type": "stream",
     "text": [
      "[INFO] Keeping all rows: 89710 rows retained.\n"
     ]
    },
    {
     "data": {
      "text/html": [
       "<div>\n",
       "<style scoped>\n",
       "    .dataframe tbody tr th:only-of-type {\n",
       "        vertical-align: middle;\n",
       "    }\n",
       "\n",
       "    .dataframe tbody tr th {\n",
       "        vertical-align: top;\n",
       "    }\n",
       "\n",
       "    .dataframe thead th {\n",
       "        text-align: right;\n",
       "    }\n",
       "</style>\n",
       "<table border=\"1\" class=\"dataframe\">\n",
       "  <thead>\n",
       "    <tr style=\"text-align: right;\">\n",
       "      <th></th>\n",
       "      <th>run_no</th>\n",
       "      <th>universe_id</th>\n",
       "      <th>universe_settings</th>\n",
       "      <th>execution_time</th>\n",
       "      <th>test_size_n</th>\n",
       "      <th>test_size_frac</th>\n",
       "      <th>fair_main_equalized_odds_difference</th>\n",
       "      <th>fair_main_equalized_odds_ratio</th>\n",
       "      <th>fair_main_demographic_parity_difference</th>\n",
       "      <th>fair_main_demographic_parity_ratio</th>\n",
       "      <th>...</th>\n",
       "      <th>perf_grp_precision_0</th>\n",
       "      <th>perf_grp_precision_1</th>\n",
       "      <th>perf_grp_false positive rate_0</th>\n",
       "      <th>perf_grp_false positive rate_1</th>\n",
       "      <th>perf_grp_false negative rate_0</th>\n",
       "      <th>perf_grp_false negative rate_1</th>\n",
       "      <th>perf_grp_selection rate_0</th>\n",
       "      <th>perf_grp_selection rate_1</th>\n",
       "      <th>perf_grp_count_0</th>\n",
       "      <th>perf_grp_count_1</th>\n",
       "    </tr>\n",
       "  </thead>\n",
       "  <tbody>\n",
       "    <tr>\n",
       "      <th>0</th>\n",
       "      <td>15</td>\n",
       "      <td>e765d0e8f2cef2f22b9e5cfaf47d5402</td>\n",
       "      <td>{\"cutoff\": \"quantile_0.1\", \"eval_fairness_grou...</td>\n",
       "      <td>23.703758</td>\n",
       "      <td>89710</td>\n",
       "      <td>1.0</td>\n",
       "      <td>0.091986</td>\n",
       "      <td>0.904640</td>\n",
       "      <td>0.086442</td>\n",
       "      <td>0.910575</td>\n",
       "      <td>...</td>\n",
       "      <td>NaN</td>\n",
       "      <td>NaN</td>\n",
       "      <td>NaN</td>\n",
       "      <td>NaN</td>\n",
       "      <td>NaN</td>\n",
       "      <td>NaN</td>\n",
       "      <td>NaN</td>\n",
       "      <td>NaN</td>\n",
       "      <td>NaN</td>\n",
       "      <td>NaN</td>\n",
       "    </tr>\n",
       "    <tr>\n",
       "      <th>0</th>\n",
       "      <td>15</td>\n",
       "      <td>e765d0e8f2cef2f22b9e5cfaf47d5402</td>\n",
       "      <td>{\"cutoff\": \"quantile_0.1\", \"eval_fairness_grou...</td>\n",
       "      <td>23.703758</td>\n",
       "      <td>89710</td>\n",
       "      <td>1.0</td>\n",
       "      <td>0.091986</td>\n",
       "      <td>0.904640</td>\n",
       "      <td>0.086442</td>\n",
       "      <td>0.910575</td>\n",
       "      <td>...</td>\n",
       "      <td>0.117149</td>\n",
       "      <td>0.13961</td>\n",
       "      <td>0.964616</td>\n",
       "      <td>0.872630</td>\n",
       "      <td>0.017736</td>\n",
       "      <td>0.070022</td>\n",
       "      <td>0.966650</td>\n",
       "      <td>0.880208</td>\n",
       "      <td>20540.0</td>\n",
       "      <td>69170.0</td>\n",
       "    </tr>\n",
       "    <tr>\n",
       "      <th>0</th>\n",
       "      <td>15</td>\n",
       "      <td>e765d0e8f2cef2f22b9e5cfaf47d5402</td>\n",
       "      <td>{\"cutoff\": \"quantile_0.25\", \"eval_fairness_gro...</td>\n",
       "      <td>23.703758</td>\n",
       "      <td>89710</td>\n",
       "      <td>1.0</td>\n",
       "      <td>0.209178</td>\n",
       "      <td>0.765851</td>\n",
       "      <td>0.194045</td>\n",
       "      <td>0.784302</td>\n",
       "      <td>...</td>\n",
       "      <td>NaN</td>\n",
       "      <td>NaN</td>\n",
       "      <td>NaN</td>\n",
       "      <td>NaN</td>\n",
       "      <td>NaN</td>\n",
       "      <td>NaN</td>\n",
       "      <td>NaN</td>\n",
       "      <td>NaN</td>\n",
       "      <td>NaN</td>\n",
       "      <td>NaN</td>\n",
       "    </tr>\n",
       "    <tr>\n",
       "      <th>0</th>\n",
       "      <td>15</td>\n",
       "      <td>e765d0e8f2cef2f22b9e5cfaf47d5402</td>\n",
       "      <td>{\"cutoff\": \"quantile_0.25\", \"eval_fairness_gro...</td>\n",
       "      <td>23.703758</td>\n",
       "      <td>89710</td>\n",
       "      <td>1.0</td>\n",
       "      <td>0.209178</td>\n",
       "      <td>0.765851</td>\n",
       "      <td>0.194045</td>\n",
       "      <td>0.784302</td>\n",
       "      <td>...</td>\n",
       "      <td>0.121442</td>\n",
       "      <td>0.15845</td>\n",
       "      <td>0.893352</td>\n",
       "      <td>0.684175</td>\n",
       "      <td>0.052365</td>\n",
       "      <td>0.153939</td>\n",
       "      <td>0.899611</td>\n",
       "      <td>0.705566</td>\n",
       "      <td>20540.0</td>\n",
       "      <td>69170.0</td>\n",
       "    </tr>\n",
       "  </tbody>\n",
       "</table>\n",
       "<p>4 rows × 50 columns</p>\n",
       "</div>"
      ],
      "text/plain": [
       "  run_no                       universe_id  \\\n",
       "0     15  e765d0e8f2cef2f22b9e5cfaf47d5402   \n",
       "0     15  e765d0e8f2cef2f22b9e5cfaf47d5402   \n",
       "0     15  e765d0e8f2cef2f22b9e5cfaf47d5402   \n",
       "0     15  e765d0e8f2cef2f22b9e5cfaf47d5402   \n",
       "\n",
       "                                   universe_settings  execution_time  \\\n",
       "0  {\"cutoff\": \"quantile_0.1\", \"eval_fairness_grou...       23.703758   \n",
       "0  {\"cutoff\": \"quantile_0.1\", \"eval_fairness_grou...       23.703758   \n",
       "0  {\"cutoff\": \"quantile_0.25\", \"eval_fairness_gro...       23.703758   \n",
       "0  {\"cutoff\": \"quantile_0.25\", \"eval_fairness_gro...       23.703758   \n",
       "\n",
       "   test_size_n  test_size_frac  fair_main_equalized_odds_difference  \\\n",
       "0        89710             1.0                             0.091986   \n",
       "0        89710             1.0                             0.091986   \n",
       "0        89710             1.0                             0.209178   \n",
       "0        89710             1.0                             0.209178   \n",
       "\n",
       "   fair_main_equalized_odds_ratio  fair_main_demographic_parity_difference  \\\n",
       "0                        0.904640                                 0.086442   \n",
       "0                        0.904640                                 0.086442   \n",
       "0                        0.765851                                 0.194045   \n",
       "0                        0.765851                                 0.194045   \n",
       "\n",
       "   fair_main_demographic_parity_ratio  ...  perf_grp_precision_0  \\\n",
       "0                            0.910575  ...                   NaN   \n",
       "0                            0.910575  ...              0.117149   \n",
       "0                            0.784302  ...                   NaN   \n",
       "0                            0.784302  ...              0.121442   \n",
       "\n",
       "   perf_grp_precision_1  perf_grp_false positive rate_0  \\\n",
       "0                   NaN                             NaN   \n",
       "0               0.13961                        0.964616   \n",
       "0                   NaN                             NaN   \n",
       "0               0.15845                        0.893352   \n",
       "\n",
       "   perf_grp_false positive rate_1  perf_grp_false negative rate_0  \\\n",
       "0                             NaN                             NaN   \n",
       "0                        0.872630                        0.017736   \n",
       "0                             NaN                             NaN   \n",
       "0                        0.684175                        0.052365   \n",
       "\n",
       "   perf_grp_false negative rate_1  perf_grp_selection rate_0  \\\n",
       "0                             NaN                        NaN   \n",
       "0                        0.070022                   0.966650   \n",
       "0                             NaN                        NaN   \n",
       "0                        0.153939                   0.899611   \n",
       "\n",
       "   perf_grp_selection rate_1  perf_grp_count_0  perf_grp_count_1  \n",
       "0                        NaN               NaN               NaN  \n",
       "0                   0.880208           20540.0           69170.0  \n",
       "0                        NaN               NaN               NaN  \n",
       "0                   0.705566           20540.0           69170.0  \n",
       "\n",
       "[4 rows x 50 columns]"
      ]
     },
     "execution_count": 66,
     "metadata": {},
     "output_type": "execute_result"
    }
   ],
   "source": [
    "final_output = universe_analysis.generate_final_output(\n",
    "    y_pred_prob=probs_test,\n",
    "    y_test=y_true,\n",
    "    org_test=org_test,\n",
    "    filter_data=filter_sub_universe_data,\n",
    "    cp_metrics_df=cp_metrics_df,\n",
    "    save=True,\n",
    ")\n",
    "final_output"
   ]
  }
 ],
 "metadata": {
  "celltoolbar": "Tags",
  "kernelspec": {
   "display_name": "Python (CMA Fairness)",
   "language": "python",
   "name": "cma_fair_env"
  },
  "language_info": {
   "codemirror_mode": {
    "name": "ipython",
    "version": 3
   },
   "file_extension": ".py",
   "mimetype": "text/x-python",
   "name": "python",
   "nbconvert_exporter": "python",
   "pygments_lexer": "ipython3",
   "version": "3.10.12"
  },
  "papermill": {
   "default_parameters": {},
   "duration": 36.334028,
   "end_time": "2025-08-05T16:40:36.137765",
   "environment_variables": {},
   "exception": null,
   "input_path": "universe_analysis.ipynb",
   "output_path": "output/runs/15/notebooks/m_15-e765d0e8f2cef2f22b9e5cfaf47d5402.ipynb",
   "parameters": {
    "output_dir": "output",
    "run_no": "15",
    "seed": "2023",
    "universe": "{\"cutoff\": [\"quantile_0.1\", \"quantile_0.25\"], \"eval_fairness_grouping\": [\"majority-minority\", \"nationality-all\"], \"exclude_features\": \"nationality\", \"exclude_subgroups\": \"drop-non-german\", \"model\": \"penalized_logreg\", \"scale\": \"do-not-scale\", \"training_size\": \"1k\", \"training_year\": \"2010_14\"}",
    "universe_id": "e765d0e8f2cef2f22b9e5cfaf47d5402"
   },
   "start_time": "2025-08-05T16:39:59.803737",
   "version": "2.6.0"
  }
 },
 "nbformat": 4,
 "nbformat_minor": 5
}