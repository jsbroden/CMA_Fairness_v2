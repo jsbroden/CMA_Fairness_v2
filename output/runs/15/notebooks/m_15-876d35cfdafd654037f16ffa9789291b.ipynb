{
 "cells": [
  {
   "cell_type": "code",
   "execution_count": 1,
   "id": "f159f837-637b-42ba-96b5-ec9a68c44524",
   "metadata": {
    "execution": {
     "iopub.execute_input": "2025-08-05T15:28:23.703642Z",
     "iopub.status.busy": "2025-08-05T15:28:23.702787Z",
     "iopub.status.idle": "2025-08-05T15:28:23.716393Z",
     "shell.execute_reply": "2025-08-05T15:28:23.715329Z"
    },
    "papermill": {
     "duration": 0.033726,
     "end_time": "2025-08-05T15:28:23.718565",
     "exception": false,
     "start_time": "2025-08-05T15:28:23.684839",
     "status": "completed"
    },
    "tags": []
   },
   "outputs": [
    {
     "name": "stdout",
     "output_type": "stream",
     "text": [
      "/dss/dsshome1/0C/ra93lal2/cma/CMA_Fairness_v2\n"
     ]
    },
    {
     "name": "stderr",
     "output_type": "stream",
     "text": [
      "/dss/dsshome1/0C/ra93lal2/.local/share/virtualenvs/CMA_Fairness_v2-3j10GkSs/lib/python3.10/site-packages/IPython/core/magics/osm.py:393: UserWarning: This is now an optional IPython functionality, using bookmarks requires you to install the `pickleshare` library.\n",
      "  bkms = self.shell.db.get('bookmarks', {})\n",
      "/dss/dsshome1/0C/ra93lal2/.local/share/virtualenvs/CMA_Fairness_v2-3j10GkSs/lib/python3.10/site-packages/IPython/core/magics/osm.py:417: UserWarning: This is now an optional IPython functionality, setting dhist requires you to install the `pickleshare` library.\n",
      "  self.shell.db['dhist'] = compress_dhist(dhist)[-100:]\n"
     ]
    }
   ],
   "source": [
    "%cd ~/cma/CMA_Fairness_v2"
   ]
  },
  {
   "cell_type": "markdown",
   "id": "de2603b9",
   "metadata": {
    "papermill": {
     "duration": 0.022892,
     "end_time": "2025-08-05T15:28:23.764832",
     "exception": false,
     "start_time": "2025-08-05T15:28:23.741940",
     "status": "completed"
    },
    "tags": []
   },
   "source": [
    "The following cell holds the definition of our parameters, these values can be overriden by rendering the with e.g. the following command:\n",
    "\n",
    "papermill -p alpha 0.2 -p ratio 0.3 universe_analysis.ipynb output/test_run.ipynb"
   ]
  },
  {
   "cell_type": "code",
   "execution_count": 2,
   "id": "a80968a0-40bb-4fa9-85ef-2d5eefb01975",
   "metadata": {
    "execution": {
     "iopub.execute_input": "2025-08-05T15:28:23.812845Z",
     "iopub.status.busy": "2025-08-05T15:28:23.812333Z",
     "iopub.status.idle": "2025-08-05T15:28:23.818317Z",
     "shell.execute_reply": "2025-08-05T15:28:23.817203Z"
    },
    "papermill": {
     "duration": 0.032804,
     "end_time": "2025-08-05T15:28:23.820641",
     "exception": false,
     "start_time": "2025-08-05T15:28:23.787837",
     "status": "completed"
    },
    "tags": []
   },
   "outputs": [
    {
     "name": "stdout",
     "output_type": "stream",
     "text": [
      "Current working directory: /dss/dsshome1/0C/ra93lal2/cma/CMA_Fairness_v2\n"
     ]
    }
   ],
   "source": [
    "import os\n",
    "print(\"Current working directory:\", os.getcwd())"
   ]
  },
  {
   "cell_type": "code",
   "execution_count": 3,
   "id": "2dce4c03",
   "metadata": {
    "execution": {
     "iopub.execute_input": "2025-08-05T15:28:23.869481Z",
     "iopub.status.busy": "2025-08-05T15:28:23.868993Z",
     "iopub.status.idle": "2025-08-05T15:28:23.875934Z",
     "shell.execute_reply": "2025-08-05T15:28:23.874686Z"
    },
    "papermill": {
     "duration": 0.033829,
     "end_time": "2025-08-05T15:28:23.878197",
     "exception": false,
     "start_time": "2025-08-05T15:28:23.844368",
     "status": "completed"
    },
    "tags": [
     "parameters"
    ]
   },
   "outputs": [],
   "source": [
    "run_no = 0\n",
    "universe_id = \"test\"\n",
    "universe = {\n",
    "    \"training_size\": \"25k\", # \"25k\", \"5k\", \"1k\"\n",
    "    \"training_year\": \"2014\", # \"2014\", \"2012_14\", \"2010_14\"\n",
    "    \"scale\": \"scale\", # \"scale\", \"do-not-scale\",\n",
    "    \"model\": \"elasticnet\", # \"logreg\", \"penalized_logreg\", \"rf\", \"gbm\", \"elasticnet\"\n",
    "    \"cutoff\": [\"quantile_0.15\", \"quantile_0.30\"],\n",
    "    \"exclude_features\": \"age\", # \"none\", \"nationality\", \"sex\", \"nationality-sex\", \"age\"\n",
    "    \"exclude_subgroups\": \"keep-all\", # \"keep-all\", \"drop-non-german\"\n",
    "    \"eval_fairness_grouping\": [\"majority-minority\", \"nationality-all\"]\n",
    "}\n",
    "\n",
    "output_dir=\"./output\"\n",
    "seed=0"
   ]
  },
  {
   "cell_type": "code",
   "execution_count": 4,
   "id": "821c4d0d",
   "metadata": {
    "execution": {
     "iopub.execute_input": "2025-08-05T15:28:23.927335Z",
     "iopub.status.busy": "2025-08-05T15:28:23.926659Z",
     "iopub.status.idle": "2025-08-05T15:28:23.932083Z",
     "shell.execute_reply": "2025-08-05T15:28:23.931089Z"
    },
    "papermill": {
     "duration": 0.032707,
     "end_time": "2025-08-05T15:28:23.934351",
     "exception": false,
     "start_time": "2025-08-05T15:28:23.901644",
     "status": "completed"
    },
    "tags": [
     "injected-parameters"
    ]
   },
   "outputs": [],
   "source": [
    "# Parameters\n",
    "universe_id = \"876d35cfdafd654037f16ffa9789291b\"\n",
    "run_no = \"15\"\n",
    "universe = \"{\\\"cutoff\\\": [\\\"quantile_0.1\\\", \\\"quantile_0.25\\\"], \\\"eval_fairness_grouping\\\": [\\\"majority-minority\\\", \\\"nationality-all\\\"], \\\"exclude_features\\\": \\\"nationality\\\", \\\"exclude_subgroups\\\": \\\"keep-all\\\", \\\"model\\\": \\\"penalized_logreg\\\", \\\"scale\\\": \\\"do-not-scale\\\", \\\"training_size\\\": \\\"5k\\\", \\\"training_year\\\": \\\"2014\\\"}\"\n",
    "output_dir = \"output\"\n",
    "seed = \"2023\"\n"
   ]
  },
  {
   "cell_type": "code",
   "execution_count": 5,
   "id": "1650acaf",
   "metadata": {
    "execution": {
     "iopub.execute_input": "2025-08-05T15:28:23.983592Z",
     "iopub.status.busy": "2025-08-05T15:28:23.982904Z",
     "iopub.status.idle": "2025-08-05T15:28:23.988199Z",
     "shell.execute_reply": "2025-08-05T15:28:23.987094Z"
    },
    "papermill": {
     "duration": 0.032167,
     "end_time": "2025-08-05T15:28:23.990321",
     "exception": false,
     "start_time": "2025-08-05T15:28:23.958154",
     "status": "completed"
    },
    "tags": []
   },
   "outputs": [],
   "source": [
    "import json\n",
    "if isinstance(universe, str):\n",
    "    universe = json.loads(universe)"
   ]
  },
  {
   "cell_type": "code",
   "execution_count": 6,
   "id": "16620c48",
   "metadata": {
    "execution": {
     "iopub.execute_input": "2025-08-05T15:28:24.039531Z",
     "iopub.status.busy": "2025-08-05T15:28:24.038953Z",
     "iopub.status.idle": "2025-08-05T15:28:24.083596Z",
     "shell.execute_reply": "2025-08-05T15:28:24.082571Z"
    },
    "papermill": {
     "duration": 0.071981,
     "end_time": "2025-08-05T15:28:24.086083",
     "exception": false,
     "start_time": "2025-08-05T15:28:24.014102",
     "status": "completed"
    },
    "tags": []
   },
   "outputs": [],
   "source": [
    "# Auto-reload the custom package\n",
    "%load_ext autoreload\n",
    "%autoreload 1\n",
    "%aimport fairness_multiverse"
   ]
  },
  {
   "cell_type": "code",
   "execution_count": 7,
   "id": "01c5c9f3",
   "metadata": {
    "execution": {
     "iopub.execute_input": "2025-08-05T15:28:24.135400Z",
     "iopub.status.busy": "2025-08-05T15:28:24.134672Z",
     "iopub.status.idle": "2025-08-05T15:28:26.099205Z",
     "shell.execute_reply": "2025-08-05T15:28:26.097989Z"
    },
    "papermill": {
     "duration": 1.992143,
     "end_time": "2025-08-05T15:28:26.101915",
     "exception": false,
     "start_time": "2025-08-05T15:28:24.109772",
     "status": "completed"
    },
    "tags": []
   },
   "outputs": [],
   "source": [
    "from fairness_multiverse.universe import UniverseAnalysis\n",
    "\n",
    "universe_analysis = UniverseAnalysis(\n",
    "    run_no = run_no,\n",
    "    universe_id = universe_id,\n",
    "    universe = universe,\n",
    "    output_dir=output_dir,\n",
    ")"
   ]
  },
  {
   "cell_type": "code",
   "execution_count": 8,
   "id": "106241f5",
   "metadata": {
    "execution": {
     "iopub.execute_input": "2025-08-05T15:28:26.140221Z",
     "iopub.status.busy": "2025-08-05T15:28:26.139753Z",
     "iopub.status.idle": "2025-08-05T15:28:26.146381Z",
     "shell.execute_reply": "2025-08-05T15:28:26.145353Z"
    },
    "papermill": {
     "duration": 0.02887,
     "end_time": "2025-08-05T15:28:26.148245",
     "exception": false,
     "start_time": "2025-08-05T15:28:26.119375",
     "status": "completed"
    },
    "tags": []
   },
   "outputs": [
    {
     "name": "stdout",
     "output_type": "stream",
     "text": [
      "Using Seed: 2023\n"
     ]
    }
   ],
   "source": [
    "import numpy as np\n",
    "parsed_seed = int(seed)\n",
    "np.random.seed(parsed_seed)\n",
    "print(f\"Using Seed: {parsed_seed}\")"
   ]
  },
  {
   "cell_type": "markdown",
   "id": "e0ebdc57",
   "metadata": {
    "papermill": {
     "duration": 0.019394,
     "end_time": "2025-08-05T15:28:26.187731",
     "exception": false,
     "start_time": "2025-08-05T15:28:26.168337",
     "status": "completed"
    },
    "tags": []
   },
   "source": [
    "# Loading Data"
   ]
  },
  {
   "cell_type": "code",
   "execution_count": 9,
   "id": "f0496b8a",
   "metadata": {
    "execution": {
     "iopub.execute_input": "2025-08-05T15:28:26.227392Z",
     "iopub.status.busy": "2025-08-05T15:28:26.226472Z",
     "iopub.status.idle": "2025-08-05T15:28:38.542047Z",
     "shell.execute_reply": "2025-08-05T15:28:38.541152Z"
    },
    "papermill": {
     "duration": 12.338964,
     "end_time": "2025-08-05T15:28:38.543444",
     "exception": false,
     "start_time": "2025-08-05T15:28:26.204480",
     "status": "completed"
    },
    "tags": []
   },
   "outputs": [
    {
     "name": "stdout",
     "output_type": "stream",
     "text": [
      "Loading SIAB data from cache: data/siab_cached.csv.gz\n"
     ]
    },
    {
     "name": "stdout",
     "output_type": "stream",
     "text": [
      "(643690, 164)\n"
     ]
    }
   ],
   "source": [
    "from pathlib import Path\n",
    "import pandas as pd\n",
    "\n",
    "# File paths\n",
    "raw_file = Path(\"data/raw/siab.csv\")\n",
    "cache_file = Path(\"data/siab_cached.csv.gz\")\n",
    "\n",
    "# Ensure cache directory exists\n",
    "cache_file.parent.mkdir(parents=True, exist_ok=True)\n",
    "\n",
    "# Load with simple caching\n",
    "if cache_file.exists():\n",
    "    print(f\"Loading SIAB data from cache: {cache_file}\")\n",
    "    siab = pd.read_csv(cache_file, compression='gzip')\n",
    "else:\n",
    "    print(f\"Cache not found. Reading raw SIAB data: {raw_file}\")\n",
    "    siab = pd.read_csv(raw_file)\n",
    "    siab.to_csv(cache_file, index=False, compression='gzip')\n",
    "    print(f\"Cached SIAB data to: {cache_file}\")\n",
    "\n",
    "print(siab.shape)"
   ]
  },
  {
   "cell_type": "code",
   "execution_count": 10,
   "id": "db0ca512-5f53-4dba-abdb-a2888bca41ba",
   "metadata": {
    "execution": {
     "iopub.execute_input": "2025-08-05T15:28:38.565193Z",
     "iopub.status.busy": "2025-08-05T15:28:38.564844Z",
     "iopub.status.idle": "2025-08-05T15:28:38.569455Z",
     "shell.execute_reply": "2025-08-05T15:28:38.568641Z"
    },
    "papermill": {
     "duration": 0.01559,
     "end_time": "2025-08-05T15:28:38.570839",
     "exception": false,
     "start_time": "2025-08-05T15:28:38.555249",
     "status": "completed"
    },
    "tags": []
   },
   "outputs": [],
   "source": [
    "#siab"
   ]
  },
  {
   "cell_type": "markdown",
   "id": "997051c5-15bd-4b69-9786-c3001a3ce484",
   "metadata": {
    "papermill": {
     "duration": 0.008931,
     "end_time": "2025-08-05T15:28:38.589757",
     "exception": false,
     "start_time": "2025-08-05T15:28:38.580826",
     "status": "completed"
    },
    "tags": []
   },
   "source": [
    "# Splitting Data and Setting Training Data Size"
   ]
  },
  {
   "cell_type": "code",
   "execution_count": 11,
   "id": "aea9c6ef-6f46-42c8-85eb-5a62025c1508",
   "metadata": {
    "execution": {
     "iopub.execute_input": "2025-08-05T15:28:38.609092Z",
     "iopub.status.busy": "2025-08-05T15:28:38.608752Z",
     "iopub.status.idle": "2025-08-05T15:28:38.797099Z",
     "shell.execute_reply": "2025-08-05T15:28:38.796357Z"
    },
    "papermill": {
     "duration": 0.200009,
     "end_time": "2025-08-05T15:28:38.798637",
     "exception": false,
     "start_time": "2025-08-05T15:28:38.598628",
     "status": "completed"
    },
    "tags": []
   },
   "outputs": [],
   "source": [
    "from fairness_multiverse.universe import sample_by_year_size\n",
    "\n",
    "siab_train = sample_by_year_size(siab,\n",
    "                               training_year=universe[\"training_year\"],\n",
    "                               training_size=universe[\"training_size\"])"
   ]
  },
  {
   "cell_type": "code",
   "execution_count": 12,
   "id": "8d3afb32-789d-442c-8d5d-9f5aa8dd2eed",
   "metadata": {
    "execution": {
     "iopub.execute_input": "2025-08-05T15:28:38.821042Z",
     "iopub.status.busy": "2025-08-05T15:28:38.820700Z",
     "iopub.status.idle": "2025-08-05T15:28:38.825560Z",
     "shell.execute_reply": "2025-08-05T15:28:38.824878Z"
    },
    "papermill": {
     "duration": 0.018822,
     "end_time": "2025-08-05T15:28:38.827028",
     "exception": false,
     "start_time": "2025-08-05T15:28:38.808206",
     "status": "completed"
    },
    "tags": []
   },
   "outputs": [],
   "source": [
    "#siab_train.shape"
   ]
  },
  {
   "cell_type": "code",
   "execution_count": 13,
   "id": "d582db68-1a4c-47fb-84fc-08518dc1975a",
   "metadata": {
    "execution": {
     "iopub.execute_input": "2025-08-05T15:28:38.847498Z",
     "iopub.status.busy": "2025-08-05T15:28:38.847124Z",
     "iopub.status.idle": "2025-08-05T15:28:38.851157Z",
     "shell.execute_reply": "2025-08-05T15:28:38.850429Z"
    },
    "papermill": {
     "duration": 0.01544,
     "end_time": "2025-08-05T15:28:38.852581",
     "exception": false,
     "start_time": "2025-08-05T15:28:38.837141",
     "status": "completed"
    },
    "tags": []
   },
   "outputs": [],
   "source": [
    "#display(siab_train.groupby(\"year\").size())"
   ]
  },
  {
   "cell_type": "code",
   "execution_count": 14,
   "id": "a561edb4-d032-42cb-8256-22eac1111c64",
   "metadata": {
    "execution": {
     "iopub.execute_input": "2025-08-05T15:28:38.872159Z",
     "iopub.status.busy": "2025-08-05T15:28:38.871771Z",
     "iopub.status.idle": "2025-08-05T15:28:39.103188Z",
     "shell.execute_reply": "2025-08-05T15:28:39.102090Z"
    },
    "papermill": {
     "duration": 0.242781,
     "end_time": "2025-08-05T15:28:39.105208",
     "exception": false,
     "start_time": "2025-08-05T15:28:38.862427",
     "status": "completed"
    },
    "tags": []
   },
   "outputs": [],
   "source": [
    "#siab_train = siab_s[siab_s.year < 2015]\n",
    "siab_calib = siab[siab.year == 2015]\n",
    "siab_test = siab[siab.year == 2016]"
   ]
  },
  {
   "cell_type": "code",
   "execution_count": 15,
   "id": "472de16f-c3db-4916-846b-1f0de9cf1746",
   "metadata": {
    "execution": {
     "iopub.execute_input": "2025-08-05T15:28:39.144131Z",
     "iopub.status.busy": "2025-08-05T15:28:39.143712Z",
     "iopub.status.idle": "2025-08-05T15:28:39.153862Z",
     "shell.execute_reply": "2025-08-05T15:28:39.152774Z"
    },
    "papermill": {
     "duration": 0.030085,
     "end_time": "2025-08-05T15:28:39.156006",
     "exception": false,
     "start_time": "2025-08-05T15:28:39.125921",
     "status": "completed"
    },
    "tags": []
   },
   "outputs": [],
   "source": [
    "X_train = siab_train.iloc[:,4:164]\n",
    "y_train = siab_train.iloc[:, [3]]"
   ]
  },
  {
   "cell_type": "code",
   "execution_count": 16,
   "id": "828c96af-f43a-4ed6-ba47-8ac73a47d56c",
   "metadata": {
    "execution": {
     "iopub.execute_input": "2025-08-05T15:28:39.199363Z",
     "iopub.status.busy": "2025-08-05T15:28:39.199028Z",
     "iopub.status.idle": "2025-08-05T15:28:39.285558Z",
     "shell.execute_reply": "2025-08-05T15:28:39.284813Z"
    },
    "papermill": {
     "duration": 0.110607,
     "end_time": "2025-08-05T15:28:39.287658",
     "exception": false,
     "start_time": "2025-08-05T15:28:39.177051",
     "status": "completed"
    },
    "tags": []
   },
   "outputs": [],
   "source": [
    "X_calib = siab_calib.iloc[:,4:164]\n",
    "y_calib = siab_calib.iloc[:, [3]]"
   ]
  },
  {
   "cell_type": "code",
   "execution_count": 17,
   "id": "c34be9c3-6bd6-476e-acd3-845840e303be",
   "metadata": {
    "execution": {
     "iopub.execute_input": "2025-08-05T15:28:39.330831Z",
     "iopub.status.busy": "2025-08-05T15:28:39.330239Z",
     "iopub.status.idle": "2025-08-05T15:28:39.387041Z",
     "shell.execute_reply": "2025-08-05T15:28:39.385775Z"
    },
    "papermill": {
     "duration": 0.082022,
     "end_time": "2025-08-05T15:28:39.388848",
     "exception": false,
     "start_time": "2025-08-05T15:28:39.306826",
     "status": "completed"
    },
    "tags": []
   },
   "outputs": [],
   "source": [
    "X_test = siab_test.iloc[:,4:164]\n",
    "y_true = siab_test.iloc[:, [3]]"
   ]
  },
  {
   "cell_type": "code",
   "execution_count": 18,
   "id": "e6c733c5",
   "metadata": {
    "execution": {
     "iopub.execute_input": "2025-08-05T15:28:39.423982Z",
     "iopub.status.busy": "2025-08-05T15:28:39.423414Z",
     "iopub.status.idle": "2025-08-05T15:28:39.520109Z",
     "shell.execute_reply": "2025-08-05T15:28:39.519018Z"
    },
    "papermill": {
     "duration": 0.115795,
     "end_time": "2025-08-05T15:28:39.522177",
     "exception": false,
     "start_time": "2025-08-05T15:28:39.406382",
     "status": "completed"
    },
    "tags": []
   },
   "outputs": [],
   "source": [
    "# Auxiliary data needed downstream in the pipeline\n",
    "\n",
    "org_train = X_train.copy()\n",
    "org_test = X_test.copy()\n",
    "org_calib = X_calib.copy()"
   ]
  },
  {
   "cell_type": "markdown",
   "id": "0a4a1b33",
   "metadata": {
    "papermill": {
     "duration": 0.015967,
     "end_time": "2025-08-05T15:28:39.554777",
     "exception": false,
     "start_time": "2025-08-05T15:28:39.538810",
     "status": "completed"
    },
    "tags": []
   },
   "source": [
    "# Preprocessing Data"
   ]
  },
  {
   "cell_type": "code",
   "execution_count": 19,
   "id": "ca879031",
   "metadata": {
    "execution": {
     "iopub.execute_input": "2025-08-05T15:28:39.589480Z",
     "iopub.status.busy": "2025-08-05T15:28:39.588732Z",
     "iopub.status.idle": "2025-08-05T15:28:39.595048Z",
     "shell.execute_reply": "2025-08-05T15:28:39.593978Z"
    },
    "papermill": {
     "duration": 0.02527,
     "end_time": "2025-08-05T15:28:39.597011",
     "exception": false,
     "start_time": "2025-08-05T15:28:39.571741",
     "status": "completed"
    },
    "tags": []
   },
   "outputs": [],
   "source": [
    "# EXCLUDE PROTECTED FEATURES\n",
    "# ----------------------\n",
    "# \"exclude_features\": \"none\", # \"nationality\", \"sex\", \"nationality-sex\"\n",
    "\n",
    "excluded_features = universe[\"exclude_features\"].split(\"-\") # split, e.g.: \"nationality-sex\" -> [\"nationality\", \"sex\"]\n",
    "excluded_features_dictionary = {\n",
    "    \"nationality\": [\"maxdeutsch1\", \"maxdeutsch.Missing.\"],\n",
    "    \"sex\": [\"frau1\"],\n",
    "    \"age\": [\"age\"],\n",
    "}"
   ]
  },
  {
   "cell_type": "code",
   "execution_count": 20,
   "id": "b745ac60",
   "metadata": {
    "execution": {
     "iopub.execute_input": "2025-08-05T15:28:39.637438Z",
     "iopub.status.busy": "2025-08-05T15:28:39.637104Z",
     "iopub.status.idle": "2025-08-05T15:28:39.642655Z",
     "shell.execute_reply": "2025-08-05T15:28:39.641668Z"
    },
    "papermill": {
     "duration": 0.030056,
     "end_time": "2025-08-05T15:28:39.644698",
     "exception": false,
     "start_time": "2025-08-05T15:28:39.614642",
     "status": "completed"
    },
    "tags": []
   },
   "outputs": [],
   "source": [
    "# Code nice names to column names\n",
    "\n",
    "excluded_features_columns = [\n",
    "    excluded_features_dictionary[f] for f in excluded_features if len(f) > 0 and f != \"none\"\n",
    "]"
   ]
  },
  {
   "cell_type": "code",
   "execution_count": 21,
   "id": "f84f73a2",
   "metadata": {
    "execution": {
     "iopub.execute_input": "2025-08-05T15:28:39.688135Z",
     "iopub.status.busy": "2025-08-05T15:28:39.687762Z",
     "iopub.status.idle": "2025-08-05T15:28:39.693616Z",
     "shell.execute_reply": "2025-08-05T15:28:39.692420Z"
    },
    "papermill": {
     "duration": 0.0293,
     "end_time": "2025-08-05T15:28:39.695369",
     "exception": false,
     "start_time": "2025-08-05T15:28:39.666069",
     "status": "completed"
    },
    "tags": []
   },
   "outputs": [],
   "source": [
    "from utils import flatten_once\n",
    "\n",
    "excluded_features_columns = flatten_once(excluded_features_columns)"
   ]
  },
  {
   "cell_type": "code",
   "execution_count": 22,
   "id": "884dea22",
   "metadata": {
    "execution": {
     "iopub.execute_input": "2025-08-05T15:28:39.738596Z",
     "iopub.status.busy": "2025-08-05T15:28:39.738289Z",
     "iopub.status.idle": "2025-08-05T15:28:39.751089Z",
     "shell.execute_reply": "2025-08-05T15:28:39.749778Z"
    },
    "papermill": {
     "duration": 0.036372,
     "end_time": "2025-08-05T15:28:39.752877",
     "exception": false,
     "start_time": "2025-08-05T15:28:39.716505",
     "status": "completed"
    },
    "tags": []
   },
   "outputs": [
    {
     "name": "stdout",
     "output_type": "stream",
     "text": [
      "Dropping features: ['maxdeutsch1', 'maxdeutsch.Missing.']\n"
     ]
    }
   ],
   "source": [
    "if len(excluded_features_columns) > 0:\n",
    "    print(f\"Dropping features: {excluded_features_columns}\")\n",
    "    X_train.drop(excluded_features_columns, axis=1, inplace=True)"
   ]
  },
  {
   "cell_type": "code",
   "execution_count": 23,
   "id": "95ab8b16",
   "metadata": {
    "execution": {
     "iopub.execute_input": "2025-08-05T15:28:39.796582Z",
     "iopub.status.busy": "2025-08-05T15:28:39.796293Z",
     "iopub.status.idle": "2025-08-05T15:28:39.853200Z",
     "shell.execute_reply": "2025-08-05T15:28:39.852170Z"
    },
    "papermill": {
     "duration": 0.080615,
     "end_time": "2025-08-05T15:28:39.854963",
     "exception": false,
     "start_time": "2025-08-05T15:28:39.774348",
     "status": "completed"
    },
    "tags": []
   },
   "outputs": [
    {
     "name": "stdout",
     "output_type": "stream",
     "text": [
      "Dropping features: ['maxdeutsch1', 'maxdeutsch.Missing.']\n"
     ]
    }
   ],
   "source": [
    "if len(excluded_features_columns) > 0:\n",
    "    print(f\"Dropping features: {excluded_features_columns}\")\n",
    "    X_test.drop(excluded_features_columns, axis=1, inplace=True)"
   ]
  },
  {
   "cell_type": "code",
   "execution_count": 24,
   "id": "1853aaf5-fb9f-46cb-a2b5-8ea4ae2237e4",
   "metadata": {
    "execution": {
     "iopub.execute_input": "2025-08-05T15:28:39.892674Z",
     "iopub.status.busy": "2025-08-05T15:28:39.891797Z",
     "iopub.status.idle": "2025-08-05T15:28:39.945226Z",
     "shell.execute_reply": "2025-08-05T15:28:39.944083Z"
    },
    "papermill": {
     "duration": 0.073508,
     "end_time": "2025-08-05T15:28:39.947155",
     "exception": false,
     "start_time": "2025-08-05T15:28:39.873647",
     "status": "completed"
    },
    "tags": []
   },
   "outputs": [
    {
     "name": "stdout",
     "output_type": "stream",
     "text": [
      "Dropping features: ['maxdeutsch1', 'maxdeutsch.Missing.']\n"
     ]
    }
   ],
   "source": [
    "if len(excluded_features_columns) > 0:\n",
    "    print(f\"Dropping features: {excluded_features_columns}\")\n",
    "    X_calib.drop(excluded_features_columns, axis=1, inplace=True)"
   ]
  },
  {
   "cell_type": "code",
   "execution_count": 25,
   "id": "76c4dc6d",
   "metadata": {
    "execution": {
     "iopub.execute_input": "2025-08-05T15:28:39.983739Z",
     "iopub.status.busy": "2025-08-05T15:28:39.982887Z",
     "iopub.status.idle": "2025-08-05T15:28:39.987967Z",
     "shell.execute_reply": "2025-08-05T15:28:39.987045Z"
    },
    "papermill": {
     "duration": 0.024824,
     "end_time": "2025-08-05T15:28:39.990081",
     "exception": false,
     "start_time": "2025-08-05T15:28:39.965257",
     "status": "completed"
    },
    "tags": []
   },
   "outputs": [],
   "source": [
    "# EXCLUDE CERTAIN SUBGROUPS\n",
    "# ----------------------\n",
    "\n",
    "mode = universe.get(\"exclude_subgroups\", \"keep-all\") \n",
    "# Fetches the exclude_subgroups setting from the universe dict.\n",
    "# Defaults to \"keep-all\" if the key is missing."
   ]
  },
  {
   "cell_type": "code",
   "execution_count": 26,
   "id": "21994072",
   "metadata": {
    "execution": {
     "iopub.execute_input": "2025-08-05T15:28:40.025312Z",
     "iopub.status.busy": "2025-08-05T15:28:40.024648Z",
     "iopub.status.idle": "2025-08-05T15:28:40.030724Z",
     "shell.execute_reply": "2025-08-05T15:28:40.029680Z"
    },
    "papermill": {
     "duration": 0.025518,
     "end_time": "2025-08-05T15:28:40.032680",
     "exception": false,
     "start_time": "2025-08-05T15:28:40.007162",
     "status": "completed"
    },
    "tags": []
   },
   "outputs": [],
   "source": [
    "if mode == \"keep-all\":\n",
    "    keep_mask = pd.Series(True, index=org_train.index)\n",
    "\n",
    "# org_train contains the original feature columns from features_org (in Simson)\n",
    "# features_org contains unprocessed features, for me X_train at beginning ???\n",
    "# For keep-all, creates a boolean Series (keep_mask) of all True, so no rows are removed.\n",
    "\n",
    "elif mode == \"drop-non-german\":\n",
    "    keep_mask = org_train[\"maxdeutsch1\"] == 1 # ??? what about missing values?\n",
    "\n",
    "else:\n",
    "    raise ValueError(f\"Unsupported mode for exclude_subgroups: {mode}\")"
   ]
  },
  {
   "cell_type": "code",
   "execution_count": 27,
   "id": "71651440",
   "metadata": {
    "execution": {
     "iopub.execute_input": "2025-08-05T15:28:40.079754Z",
     "iopub.status.busy": "2025-08-05T15:28:40.079392Z",
     "iopub.status.idle": "2025-08-05T15:28:40.086376Z",
     "shell.execute_reply": "2025-08-05T15:28:40.085124Z"
    },
    "papermill": {
     "duration": 0.033027,
     "end_time": "2025-08-05T15:28:40.088379",
     "exception": false,
     "start_time": "2025-08-05T15:28:40.055352",
     "status": "completed"
    },
    "tags": []
   },
   "outputs": [],
   "source": [
    "n_drop = (~keep_mask).sum() # Calculates how many rows are set to be dropped\n",
    "if n_drop > 0:\n",
    "    pct = n_drop / len(keep_mask) * 100\n",
    "    print(f\"Dropping {n_drop} rows ({pct:.2f}%) where mode='{mode}'\")"
   ]
  },
  {
   "cell_type": "code",
   "execution_count": 28,
   "id": "5fb8eee5",
   "metadata": {
    "execution": {
     "iopub.execute_input": "2025-08-05T15:28:40.129946Z",
     "iopub.status.busy": "2025-08-05T15:28:40.129185Z",
     "iopub.status.idle": "2025-08-05T15:28:40.137827Z",
     "shell.execute_reply": "2025-08-05T15:28:40.136640Z"
    },
    "papermill": {
     "duration": 0.030356,
     "end_time": "2025-08-05T15:28:40.139681",
     "exception": false,
     "start_time": "2025-08-05T15:28:40.109325",
     "status": "completed"
    },
    "tags": []
   },
   "outputs": [],
   "source": [
    "X_train = X_train[keep_mask]"
   ]
  },
  {
   "cell_type": "code",
   "execution_count": 29,
   "id": "b202bb3a",
   "metadata": {
    "execution": {
     "iopub.execute_input": "2025-08-05T15:28:40.181207Z",
     "iopub.status.busy": "2025-08-05T15:28:40.180511Z",
     "iopub.status.idle": "2025-08-05T15:28:40.187228Z",
     "shell.execute_reply": "2025-08-05T15:28:40.186070Z"
    },
    "papermill": {
     "duration": 0.028197,
     "end_time": "2025-08-05T15:28:40.188951",
     "exception": false,
     "start_time": "2025-08-05T15:28:40.160754",
     "status": "completed"
    },
    "tags": []
   },
   "outputs": [],
   "source": [
    "y_train = y_train[keep_mask]"
   ]
  },
  {
   "cell_type": "markdown",
   "id": "493e2ac3",
   "metadata": {
    "papermill": {
     "duration": 0.022325,
     "end_time": "2025-08-05T15:28:40.231252",
     "exception": false,
     "start_time": "2025-08-05T15:28:40.208927",
     "status": "completed"
    },
    "tags": []
   },
   "source": [
    "# Model Training"
   ]
  },
  {
   "cell_type": "code",
   "execution_count": 30,
   "id": "679e1268",
   "metadata": {
    "execution": {
     "iopub.execute_input": "2025-08-05T15:28:40.272598Z",
     "iopub.status.busy": "2025-08-05T15:28:40.271747Z",
     "iopub.status.idle": "2025-08-05T15:28:40.378261Z",
     "shell.execute_reply": "2025-08-05T15:28:40.377241Z"
    },
    "papermill": {
     "duration": 0.128936,
     "end_time": "2025-08-05T15:28:40.380576",
     "exception": false,
     "start_time": "2025-08-05T15:28:40.251640",
     "status": "completed"
    },
    "tags": []
   },
   "outputs": [],
   "source": [
    "from sklearn.linear_model import LogisticRegression\n",
    "from sklearn.ensemble import GradientBoostingClassifier, RandomForestClassifier\n",
    "\n",
    "if (universe[\"model\"] == \"logreg\"):\n",
    "    model = LogisticRegression() #penalty=\"none\", solver=\"newton-cg\", max_iter=1) # include random_state=19 ?\n",
    "elif (universe[\"model\"] == \"penalized_logreg\"):\n",
    "    model = LogisticRegression(penalty=\"l2\", C=0.1) #, solver=\"newton-cg\", max_iter=1)\n",
    "elif (universe[\"model\"] == \"rf\"):\n",
    "    model = RandomForestClassifier() # n_estimators=100, n_jobs=-1\n",
    "elif (universe[\"model\"] == \"gbm\"):\n",
    "    model = GradientBoostingClassifier()\n",
    "elif (universe[\"model\"] == \"elasticnet\"):\n",
    "    model = LogisticRegression(penalty = 'elasticnet', solver = 'saga', l1_ratio = 0.5) # max_iter=5000\n",
    "else:\n",
    "    raise \"Unsupported universe.model\""
   ]
  },
  {
   "cell_type": "code",
   "execution_count": 31,
   "id": "0cc8f744",
   "metadata": {
    "execution": {
     "iopub.execute_input": "2025-08-05T15:28:40.419616Z",
     "iopub.status.busy": "2025-08-05T15:28:40.418834Z",
     "iopub.status.idle": "2025-08-05T15:28:40.425362Z",
     "shell.execute_reply": "2025-08-05T15:28:40.424364Z"
    },
    "papermill": {
     "duration": 0.029079,
     "end_time": "2025-08-05T15:28:40.427300",
     "exception": false,
     "start_time": "2025-08-05T15:28:40.398221",
     "status": "completed"
    },
    "tags": []
   },
   "outputs": [],
   "source": [
    "import numpy as np\n",
    "from sklearn.pipeline import Pipeline\n",
    "from sklearn.preprocessing import StandardScaler\n",
    "\n",
    "model = Pipeline([\n",
    "    #(\"continuous_processor\", continuous_processor),\n",
    "    #(\"categorical_preprocessor\", categorical_preprocessor),\n",
    "    (\"scale\", StandardScaler() if universe[\"scale\"] == \"scale\" else None), \n",
    "    (\"model\", model),\n",
    "])"
   ]
  },
  {
   "cell_type": "code",
   "execution_count": 32,
   "id": "9442c04d",
   "metadata": {
    "execution": {
     "iopub.execute_input": "2025-08-05T15:28:40.465132Z",
     "iopub.status.busy": "2025-08-05T15:28:40.463616Z",
     "iopub.status.idle": "2025-08-05T15:28:40.604664Z",
     "shell.execute_reply": "2025-08-05T15:28:40.603836Z"
    },
    "papermill": {
     "duration": 0.161345,
     "end_time": "2025-08-05T15:28:40.606340",
     "exception": false,
     "start_time": "2025-08-05T15:28:40.444995",
     "status": "completed"
    },
    "tags": []
   },
   "outputs": [
    {
     "name": "stderr",
     "output_type": "stream",
     "text": [
      "/dss/dsshome1/0C/ra93lal2/.local/share/virtualenvs/CMA_Fairness_v2-3j10GkSs/lib/python3.10/site-packages/sklearn/linear_model/_logistic.py:444: ConvergenceWarning: lbfgs failed to converge (status=1):\n",
      "STOP: TOTAL NO. of ITERATIONS REACHED LIMIT.\n",
      "\n",
      "Increase the number of iterations (max_iter) or scale the data as shown in:\n",
      "    https://scikit-learn.org/stable/modules/preprocessing.html\n",
      "Please also refer to the documentation for alternative solver options:\n",
      "    https://scikit-learn.org/stable/modules/linear_model.html#logistic-regression\n",
      "  n_iter_i = _check_optimize_result(\n"
     ]
    },
    {
     "data": {
      "text/html": [
       "<style>#sk-container-id-1 {color: black;background-color: white;}#sk-container-id-1 pre{padding: 0;}#sk-container-id-1 div.sk-toggleable {background-color: white;}#sk-container-id-1 label.sk-toggleable__label {cursor: pointer;display: block;width: 100%;margin-bottom: 0;padding: 0.3em;box-sizing: border-box;text-align: center;}#sk-container-id-1 label.sk-toggleable__label-arrow:before {content: \"▸\";float: left;margin-right: 0.25em;color: #696969;}#sk-container-id-1 label.sk-toggleable__label-arrow:hover:before {color: black;}#sk-container-id-1 div.sk-estimator:hover label.sk-toggleable__label-arrow:before {color: black;}#sk-container-id-1 div.sk-toggleable__content {max-height: 0;max-width: 0;overflow: hidden;text-align: left;background-color: #f0f8ff;}#sk-container-id-1 div.sk-toggleable__content pre {margin: 0.2em;color: black;border-radius: 0.25em;background-color: #f0f8ff;}#sk-container-id-1 input.sk-toggleable__control:checked~div.sk-toggleable__content {max-height: 200px;max-width: 100%;overflow: auto;}#sk-container-id-1 input.sk-toggleable__control:checked~label.sk-toggleable__label-arrow:before {content: \"▾\";}#sk-container-id-1 div.sk-estimator input.sk-toggleable__control:checked~label.sk-toggleable__label {background-color: #d4ebff;}#sk-container-id-1 div.sk-label input.sk-toggleable__control:checked~label.sk-toggleable__label {background-color: #d4ebff;}#sk-container-id-1 input.sk-hidden--visually {border: 0;clip: rect(1px 1px 1px 1px);clip: rect(1px, 1px, 1px, 1px);height: 1px;margin: -1px;overflow: hidden;padding: 0;position: absolute;width: 1px;}#sk-container-id-1 div.sk-estimator {font-family: monospace;background-color: #f0f8ff;border: 1px dotted black;border-radius: 0.25em;box-sizing: border-box;margin-bottom: 0.5em;}#sk-container-id-1 div.sk-estimator:hover {background-color: #d4ebff;}#sk-container-id-1 div.sk-parallel-item::after {content: \"\";width: 100%;border-bottom: 1px solid gray;flex-grow: 1;}#sk-container-id-1 div.sk-label:hover label.sk-toggleable__label {background-color: #d4ebff;}#sk-container-id-1 div.sk-serial::before {content: \"\";position: absolute;border-left: 1px solid gray;box-sizing: border-box;top: 0;bottom: 0;left: 50%;z-index: 0;}#sk-container-id-1 div.sk-serial {display: flex;flex-direction: column;align-items: center;background-color: white;padding-right: 0.2em;padding-left: 0.2em;position: relative;}#sk-container-id-1 div.sk-item {position: relative;z-index: 1;}#sk-container-id-1 div.sk-parallel {display: flex;align-items: stretch;justify-content: center;background-color: white;position: relative;}#sk-container-id-1 div.sk-item::before, #sk-container-id-1 div.sk-parallel-item::before {content: \"\";position: absolute;border-left: 1px solid gray;box-sizing: border-box;top: 0;bottom: 0;left: 50%;z-index: -1;}#sk-container-id-1 div.sk-parallel-item {display: flex;flex-direction: column;z-index: 1;position: relative;background-color: white;}#sk-container-id-1 div.sk-parallel-item:first-child::after {align-self: flex-end;width: 50%;}#sk-container-id-1 div.sk-parallel-item:last-child::after {align-self: flex-start;width: 50%;}#sk-container-id-1 div.sk-parallel-item:only-child::after {width: 0;}#sk-container-id-1 div.sk-dashed-wrapped {border: 1px dashed gray;margin: 0 0.4em 0.5em 0.4em;box-sizing: border-box;padding-bottom: 0.4em;background-color: white;}#sk-container-id-1 div.sk-label label {font-family: monospace;font-weight: bold;display: inline-block;line-height: 1.2em;}#sk-container-id-1 div.sk-label-container {text-align: center;}#sk-container-id-1 div.sk-container {/* jupyter's `normalize.less` sets `[hidden] { display: none; }` but bootstrap.min.css set `[hidden] { display: none !important; }` so we also need the `!important` here to be able to override the default hidden behavior on the sphinx rendered scikit-learn.org. See: https://github.com/scikit-learn/scikit-learn/issues/21755 */display: inline-block !important;position: relative;}#sk-container-id-1 div.sk-text-repr-fallback {display: none;}</style><div id=\"sk-container-id-1\" class=\"sk-top-container\"><div class=\"sk-text-repr-fallback\"><pre>Pipeline(steps=[(&#x27;scale&#x27;, None), (&#x27;model&#x27;, LogisticRegression(C=0.1))])</pre><b>In a Jupyter environment, please rerun this cell to show the HTML representation or trust the notebook. <br />On GitHub, the HTML representation is unable to render, please try loading this page with nbviewer.org.</b></div><div class=\"sk-container\" hidden><div class=\"sk-item sk-dashed-wrapped\"><div class=\"sk-label-container\"><div class=\"sk-label sk-toggleable\"><input class=\"sk-toggleable__control sk-hidden--visually\" id=\"sk-estimator-id-1\" type=\"checkbox\" ><label for=\"sk-estimator-id-1\" class=\"sk-toggleable__label sk-toggleable__label-arrow\">Pipeline</label><div class=\"sk-toggleable__content\"><pre>Pipeline(steps=[(&#x27;scale&#x27;, None), (&#x27;model&#x27;, LogisticRegression(C=0.1))])</pre></div></div></div><div class=\"sk-serial\"><div class=\"sk-item\"><div class=\"sk-estimator sk-toggleable\"><input class=\"sk-toggleable__control sk-hidden--visually\" id=\"sk-estimator-id-2\" type=\"checkbox\" ><label for=\"sk-estimator-id-2\" class=\"sk-toggleable__label sk-toggleable__label-arrow\">None</label><div class=\"sk-toggleable__content\"><pre>None</pre></div></div></div><div class=\"sk-item\"><div class=\"sk-estimator sk-toggleable\"><input class=\"sk-toggleable__control sk-hidden--visually\" id=\"sk-estimator-id-3\" type=\"checkbox\" ><label for=\"sk-estimator-id-3\" class=\"sk-toggleable__label sk-toggleable__label-arrow\">LogisticRegression</label><div class=\"sk-toggleable__content\"><pre>LogisticRegression(C=0.1)</pre></div></div></div></div></div></div></div>"
      ],
      "text/plain": [
       "Pipeline(steps=[('scale', None), ('model', LogisticRegression(C=0.1))])"
      ]
     },
     "execution_count": 32,
     "metadata": {},
     "output_type": "execute_result"
    }
   ],
   "source": [
    "model.fit(X_train, y_train.values.ravel())"
   ]
  },
  {
   "cell_type": "code",
   "execution_count": 33,
   "id": "af59f8c0",
   "metadata": {
    "execution": {
     "iopub.execute_input": "2025-08-05T15:28:40.648810Z",
     "iopub.status.busy": "2025-08-05T15:28:40.648447Z",
     "iopub.status.idle": "2025-08-05T15:28:40.653583Z",
     "shell.execute_reply": "2025-08-05T15:28:40.652636Z"
    },
    "papermill": {
     "duration": 0.029593,
     "end_time": "2025-08-05T15:28:40.654997",
     "exception": false,
     "start_time": "2025-08-05T15:28:40.625404",
     "status": "completed"
    },
    "tags": []
   },
   "outputs": [],
   "source": [
    "from fairness_multiverse.universe import predict_w_threshold"
   ]
  },
  {
   "cell_type": "code",
   "execution_count": 34,
   "id": "a7cf2e16",
   "metadata": {
    "execution": {
     "iopub.execute_input": "2025-08-05T15:28:40.693644Z",
     "iopub.status.busy": "2025-08-05T15:28:40.692813Z",
     "iopub.status.idle": "2025-08-05T15:28:40.789763Z",
     "shell.execute_reply": "2025-08-05T15:28:40.788787Z"
    },
    "papermill": {
     "duration": 0.117326,
     "end_time": "2025-08-05T15:28:40.791279",
     "exception": false,
     "start_time": "2025-08-05T15:28:40.673953",
     "status": "completed"
    },
    "tags": []
   },
   "outputs": [
    {
     "data": {
      "text/plain": [
       "0.8596031657563259"
      ]
     },
     "execution_count": 34,
     "metadata": {},
     "output_type": "execute_result"
    }
   ],
   "source": [
    "probs_test = model.predict_proba(X_test)\n",
    "\n",
    "'''\n",
    "Below code returns a boolean array (or binary 0/1 array depending on how it’s used) where each element \n",
    "is True if the probability of class 1 is greater than or equal to the threshold, and False otherwise.\n",
    "'''\n",
    "y_pred_default = predict_w_threshold(probs_test, 0.5)\n",
    "\n",
    "from sklearn.metrics import accuracy_score\n",
    "\n",
    "# Naive prediction\n",
    "accuracy_score(y_true = y_true, y_pred = y_pred_default)"
   ]
  },
  {
   "cell_type": "code",
   "execution_count": 35,
   "id": "081964c3",
   "metadata": {
    "execution": {
     "iopub.execute_input": "2025-08-05T15:28:40.831091Z",
     "iopub.status.busy": "2025-08-05T15:28:40.830627Z",
     "iopub.status.idle": "2025-08-05T15:28:40.912787Z",
     "shell.execute_reply": "2025-08-05T15:28:40.911900Z"
    },
    "papermill": {
     "duration": 0.103065,
     "end_time": "2025-08-05T15:28:40.914501",
     "exception": false,
     "start_time": "2025-08-05T15:28:40.811436",
     "status": "completed"
    },
    "tags": []
   },
   "outputs": [
    {
     "data": {
      "text/plain": [
       "array([0, 0, 0, ..., 0, 0, 0])"
      ]
     },
     "execution_count": 35,
     "metadata": {},
     "output_type": "execute_result"
    }
   ],
   "source": [
    "model.predict(X_test)"
   ]
  },
  {
   "cell_type": "markdown",
   "id": "56c9705b",
   "metadata": {
    "papermill": {
     "duration": 0.017617,
     "end_time": "2025-08-05T15:28:40.950990",
     "exception": false,
     "start_time": "2025-08-05T15:28:40.933373",
     "status": "completed"
    },
    "tags": []
   },
   "source": [
    "# Conformal Prediction"
   ]
  },
  {
   "cell_type": "code",
   "execution_count": 36,
   "id": "160ec6ff",
   "metadata": {
    "execution": {
     "iopub.execute_input": "2025-08-05T15:28:40.989640Z",
     "iopub.status.busy": "2025-08-05T15:28:40.988744Z",
     "iopub.status.idle": "2025-08-05T15:28:40.993960Z",
     "shell.execute_reply": "2025-08-05T15:28:40.992984Z"
    },
    "papermill": {
     "duration": 0.025601,
     "end_time": "2025-08-05T15:28:40.995826",
     "exception": false,
     "start_time": "2025-08-05T15:28:40.970225",
     "status": "completed"
    },
    "tags": []
   },
   "outputs": [],
   "source": [
    "# Miscoverage level for conformal prediction (10% allowed error rate => 90% target coverage)\n",
    "alpha = 0.1"
   ]
  },
  {
   "cell_type": "code",
   "execution_count": 37,
   "id": "eadf4555-3dd3-440e-8e35-f82a4ad9f855",
   "metadata": {
    "execution": {
     "iopub.execute_input": "2025-08-05T15:28:41.039493Z",
     "iopub.status.busy": "2025-08-05T15:28:41.038610Z",
     "iopub.status.idle": "2025-08-05T15:28:41.118603Z",
     "shell.execute_reply": "2025-08-05T15:28:41.117571Z"
    },
    "papermill": {
     "duration": 0.10283,
     "end_time": "2025-08-05T15:28:41.120736",
     "exception": false,
     "start_time": "2025-08-05T15:28:41.017906",
     "status": "completed"
    },
    "tags": []
   },
   "outputs": [],
   "source": [
    "probs_calib = model.predict_proba(X_calib)"
   ]
  },
  {
   "cell_type": "code",
   "execution_count": 38,
   "id": "2ed93547-6d5d-4983-9b36-1ecb300da49a",
   "metadata": {
    "execution": {
     "iopub.execute_input": "2025-08-05T15:28:41.160223Z",
     "iopub.status.busy": "2025-08-05T15:28:41.159591Z",
     "iopub.status.idle": "2025-08-05T15:28:41.165631Z",
     "shell.execute_reply": "2025-08-05T15:28:41.164587Z"
    },
    "papermill": {
     "duration": 0.026889,
     "end_time": "2025-08-05T15:28:41.167455",
     "exception": false,
     "start_time": "2025-08-05T15:28:41.140566",
     "status": "completed"
    },
    "tags": []
   },
   "outputs": [],
   "source": [
    "y_calib = y_calib.values.ravel().astype(int)"
   ]
  },
  {
   "cell_type": "code",
   "execution_count": 39,
   "id": "65d1320d-f588-4b38-9072-62af1ae97f7d",
   "metadata": {
    "execution": {
     "iopub.execute_input": "2025-08-05T15:28:41.206231Z",
     "iopub.status.busy": "2025-08-05T15:28:41.205409Z",
     "iopub.status.idle": "2025-08-05T15:28:41.212186Z",
     "shell.execute_reply": "2025-08-05T15:28:41.211258Z"
    },
    "papermill": {
     "duration": 0.027126,
     "end_time": "2025-08-05T15:28:41.214015",
     "exception": false,
     "start_time": "2025-08-05T15:28:41.186889",
     "status": "completed"
    },
    "tags": []
   },
   "outputs": [],
   "source": [
    "from fairness_multiverse.conformal import compute_nc_scores\n",
    "\n",
    "# Compute nonconformity scores on calibration set (1 - probability of true class)\n",
    "nc_scores = compute_nc_scores(probs_calib, y_calib)"
   ]
  },
  {
   "cell_type": "code",
   "execution_count": 40,
   "id": "df3b8ca3-53b7-43d5-9667-7c85da7aeda2",
   "metadata": {
    "execution": {
     "iopub.execute_input": "2025-08-05T15:28:41.253638Z",
     "iopub.status.busy": "2025-08-05T15:28:41.252929Z",
     "iopub.status.idle": "2025-08-05T15:28:41.259142Z",
     "shell.execute_reply": "2025-08-05T15:28:41.258174Z"
    },
    "papermill": {
     "duration": 0.027713,
     "end_time": "2025-08-05T15:28:41.260870",
     "exception": false,
     "start_time": "2025-08-05T15:28:41.233157",
     "status": "completed"
    },
    "tags": []
   },
   "outputs": [],
   "source": [
    "from fairness_multiverse.conformal import find_threshold\n",
    "\n",
    "# Find conformal threshold q_hat for the given alpha (split conformal method)\n",
    "q_hat = find_threshold(nc_scores, alpha)"
   ]
  },
  {
   "cell_type": "code",
   "execution_count": 41,
   "id": "4d29e6c1-0ef6-4aa4-b8fe-4fe79b0d033a",
   "metadata": {
    "execution": {
     "iopub.execute_input": "2025-08-05T15:28:41.304745Z",
     "iopub.status.busy": "2025-08-05T15:28:41.304046Z",
     "iopub.status.idle": "2025-08-05T15:28:41.311365Z",
     "shell.execute_reply": "2025-08-05T15:28:41.310229Z"
    },
    "papermill": {
     "duration": 0.029801,
     "end_time": "2025-08-05T15:28:41.312995",
     "exception": false,
     "start_time": "2025-08-05T15:28:41.283194",
     "status": "completed"
    },
    "tags": []
   },
   "outputs": [
    {
     "data": {
      "text/plain": [
       "0.681790067396813"
      ]
     },
     "execution_count": 41,
     "metadata": {},
     "output_type": "execute_result"
    }
   ],
   "source": [
    "q_hat"
   ]
  },
  {
   "cell_type": "code",
   "execution_count": 42,
   "id": "92460794-cdac-4be2-ba28-f28c0515a6fb",
   "metadata": {
    "execution": {
     "iopub.execute_input": "2025-08-05T15:28:41.358278Z",
     "iopub.status.busy": "2025-08-05T15:28:41.357554Z",
     "iopub.status.idle": "2025-08-05T15:28:41.856336Z",
     "shell.execute_reply": "2025-08-05T15:28:41.855585Z"
    },
    "papermill": {
     "duration": 0.523083,
     "end_time": "2025-08-05T15:28:41.858143",
     "exception": false,
     "start_time": "2025-08-05T15:28:41.335060",
     "status": "completed"
    },
    "tags": []
   },
   "outputs": [],
   "source": [
    "from fairness_multiverse.conformal import predict_conformal_sets\n",
    "\n",
    "# Generate prediction sets for each test example\n",
    "pred_sets = predict_conformal_sets(model, X_test, q_hat)"
   ]
  },
  {
   "cell_type": "code",
   "execution_count": 43,
   "id": "d90c9a65-e6db-4f5d-80cd-e68fb7e46829",
   "metadata": {
    "execution": {
     "iopub.execute_input": "2025-08-05T15:28:41.902546Z",
     "iopub.status.busy": "2025-08-05T15:28:41.902038Z",
     "iopub.status.idle": "2025-08-05T15:28:41.908460Z",
     "shell.execute_reply": "2025-08-05T15:28:41.907400Z"
    },
    "papermill": {
     "duration": 0.030488,
     "end_time": "2025-08-05T15:28:41.910516",
     "exception": false,
     "start_time": "2025-08-05T15:28:41.880028",
     "status": "completed"
    },
    "tags": []
   },
   "outputs": [],
   "source": [
    "y_true = y_true.squeeze()"
   ]
  },
  {
   "cell_type": "code",
   "execution_count": 44,
   "id": "3a58a54a-1e68-46b9-927a-df01f18aebc8",
   "metadata": {
    "execution": {
     "iopub.execute_input": "2025-08-05T15:28:41.958468Z",
     "iopub.status.busy": "2025-08-05T15:28:41.957532Z",
     "iopub.status.idle": "2025-08-05T15:28:42.911996Z",
     "shell.execute_reply": "2025-08-05T15:28:42.910859Z"
    },
    "papermill": {
     "duration": 0.980863,
     "end_time": "2025-08-05T15:28:42.914273",
     "exception": false,
     "start_time": "2025-08-05T15:28:41.933410",
     "status": "completed"
    },
    "tags": []
   },
   "outputs": [],
   "source": [
    "from fairness_multiverse.conformal import evaluate_sets\n",
    "\n",
    "# Evaluate coverage and average set size on test data\n",
    "metrics = evaluate_sets(pred_sets, y_true)"
   ]
  },
  {
   "cell_type": "markdown",
   "id": "2b569c12-9aaa-4c88-98c9-bbcd0cf3ebb8",
   "metadata": {
    "papermill": {
     "duration": 0.024418,
     "end_time": "2025-08-05T15:28:42.961396",
     "exception": false,
     "start_time": "2025-08-05T15:28:42.936978",
     "status": "completed"
    },
    "tags": []
   },
   "source": [
    "# CP Metrics"
   ]
  },
  {
   "cell_type": "code",
   "execution_count": 45,
   "id": "5ce0a5cb-201f-45a0-ade5-94c7f0bd6095",
   "metadata": {
    "execution": {
     "iopub.execute_input": "2025-08-05T15:28:43.015274Z",
     "iopub.status.busy": "2025-08-05T15:28:43.013953Z",
     "iopub.status.idle": "2025-08-05T15:28:43.024358Z",
     "shell.execute_reply": "2025-08-05T15:28:43.023171Z"
    },
    "papermill": {
     "duration": 0.039588,
     "end_time": "2025-08-05T15:28:43.026502",
     "exception": false,
     "start_time": "2025-08-05T15:28:42.986914",
     "status": "completed"
    },
    "tags": []
   },
   "outputs": [
    {
     "data": {
      "text/plain": [
       "{'coverage': 0.9116374986066214, 'avg_size': 1.1982610634265969}"
      ]
     },
     "execution_count": 45,
     "metadata": {},
     "output_type": "execute_result"
    }
   ],
   "source": [
    "metrics"
   ]
  },
  {
   "cell_type": "code",
   "execution_count": 46,
   "id": "9b9a838d-31c9-430b-ae14-12baee460d17",
   "metadata": {
    "execution": {
     "iopub.execute_input": "2025-08-05T15:28:43.078418Z",
     "iopub.status.busy": "2025-08-05T15:28:43.077861Z",
     "iopub.status.idle": "2025-08-05T15:28:43.084559Z",
     "shell.execute_reply": "2025-08-05T15:28:43.083190Z"
    },
    "papermill": {
     "duration": 0.032928,
     "end_time": "2025-08-05T15:28:43.086513",
     "exception": false,
     "start_time": "2025-08-05T15:28:43.053585",
     "status": "completed"
    },
    "tags": []
   },
   "outputs": [],
   "source": [
    "example_universe = universe.copy()\n",
    "universe_training_year = example_universe.get(\"training_year\")\n",
    "universe_training_size = example_universe.get(\"training_size\")\n",
    "universe_scale = example_universe.get(\"scale\")\n",
    "universe_model = example_universe.get(\"model\")\n",
    "universe_exclude_features = example_universe.get(\"exclude_features\")\n",
    "universe_exclude_subgroups = example_universe.get(\"exclude_subgroups\")"
   ]
  },
  {
   "cell_type": "code",
   "execution_count": 47,
   "id": "f4b6a8ac-9dc0-4245-8a91-5b3b5999c4f9",
   "metadata": {
    "execution": {
     "iopub.execute_input": "2025-08-05T15:28:43.135806Z",
     "iopub.status.busy": "2025-08-05T15:28:43.135349Z",
     "iopub.status.idle": "2025-08-05T15:28:43.142101Z",
     "shell.execute_reply": "2025-08-05T15:28:43.140990Z"
    },
    "papermill": {
     "duration": 0.033371,
     "end_time": "2025-08-05T15:28:43.144081",
     "exception": false,
     "start_time": "2025-08-05T15:28:43.110710",
     "status": "completed"
    },
    "tags": []
   },
   "outputs": [],
   "source": [
    "cp_metrics_dict = {\n",
    "    \"universe_id\": [universe_id],\n",
    "    \"universe_training_year\": [universe_training_year],\n",
    "    \"universe_training_size\": [universe_training_size],\n",
    "    \"universe_scale\": [universe_scale],\n",
    "    \"universe_model\": [universe_model],\n",
    "    \"universe_exclude_features\": [universe_exclude_features],\n",
    "    \"universe_exclude_subgroups\": [universe_exclude_subgroups],\n",
    "    \"q_hat\": [q_hat],\n",
    "    \"coverage\": [metrics[\"coverage\"]],\n",
    "    \"avg_size\": [metrics[\"avg_size\"]],\n",
    "}"
   ]
  },
  {
   "cell_type": "code",
   "execution_count": 48,
   "id": "908acbb1-0371-4915-85ca-3fa520d2efe2",
   "metadata": {
    "execution": {
     "iopub.execute_input": "2025-08-05T15:28:43.192172Z",
     "iopub.status.busy": "2025-08-05T15:28:43.191758Z",
     "iopub.status.idle": "2025-08-05T15:28:43.199477Z",
     "shell.execute_reply": "2025-08-05T15:28:43.198317Z"
    },
    "papermill": {
     "duration": 0.033732,
     "end_time": "2025-08-05T15:28:43.201295",
     "exception": false,
     "start_time": "2025-08-05T15:28:43.167563",
     "status": "completed"
    },
    "tags": []
   },
   "outputs": [
    {
     "data": {
      "text/plain": [
       "{'universe_id': ['876d35cfdafd654037f16ffa9789291b'],\n",
       " 'universe_training_year': ['2014'],\n",
       " 'universe_training_size': ['5k'],\n",
       " 'universe_scale': ['do-not-scale'],\n",
       " 'universe_model': ['penalized_logreg'],\n",
       " 'universe_exclude_features': ['nationality'],\n",
       " 'universe_exclude_subgroups': ['keep-all'],\n",
       " 'q_hat': [0.681790067396813],\n",
       " 'coverage': [0.9116374986066214],\n",
       " 'avg_size': [1.1982610634265969]}"
      ]
     },
     "execution_count": 48,
     "metadata": {},
     "output_type": "execute_result"
    }
   ],
   "source": [
    "cp_metrics_dict"
   ]
  },
  {
   "cell_type": "code",
   "execution_count": 49,
   "id": "33007efc-14e9-4ec6-97ac-56a455c82265",
   "metadata": {
    "execution": {
     "iopub.execute_input": "2025-08-05T15:28:43.250347Z",
     "iopub.status.busy": "2025-08-05T15:28:43.249742Z",
     "iopub.status.idle": "2025-08-05T15:28:43.256198Z",
     "shell.execute_reply": "2025-08-05T15:28:43.255026Z"
    },
    "papermill": {
     "duration": 0.033491,
     "end_time": "2025-08-05T15:28:43.258167",
     "exception": false,
     "start_time": "2025-08-05T15:28:43.224676",
     "status": "completed"
    },
    "tags": []
   },
   "outputs": [],
   "source": [
    "cp_metrics_df = pd.DataFrame(cp_metrics_dict)"
   ]
  },
  {
   "cell_type": "code",
   "execution_count": 50,
   "id": "db12611b-57b2-4910-b9d0-355adfd6e7bf",
   "metadata": {
    "execution": {
     "iopub.execute_input": "2025-08-05T15:28:43.306476Z",
     "iopub.status.busy": "2025-08-05T15:28:43.306126Z",
     "iopub.status.idle": "2025-08-05T15:28:43.325550Z",
     "shell.execute_reply": "2025-08-05T15:28:43.324549Z"
    },
    "papermill": {
     "duration": 0.045232,
     "end_time": "2025-08-05T15:28:43.327406",
     "exception": false,
     "start_time": "2025-08-05T15:28:43.282174",
     "status": "completed"
    },
    "tags": []
   },
   "outputs": [
    {
     "data": {
      "text/html": [
       "<div>\n",
       "<style scoped>\n",
       "    .dataframe tbody tr th:only-of-type {\n",
       "        vertical-align: middle;\n",
       "    }\n",
       "\n",
       "    .dataframe tbody tr th {\n",
       "        vertical-align: top;\n",
       "    }\n",
       "\n",
       "    .dataframe thead th {\n",
       "        text-align: right;\n",
       "    }\n",
       "</style>\n",
       "<table border=\"1\" class=\"dataframe\">\n",
       "  <thead>\n",
       "    <tr style=\"text-align: right;\">\n",
       "      <th></th>\n",
       "      <th>universe_id</th>\n",
       "      <th>universe_training_year</th>\n",
       "      <th>universe_training_size</th>\n",
       "      <th>universe_scale</th>\n",
       "      <th>universe_model</th>\n",
       "      <th>universe_exclude_features</th>\n",
       "      <th>universe_exclude_subgroups</th>\n",
       "      <th>q_hat</th>\n",
       "      <th>coverage</th>\n",
       "      <th>avg_size</th>\n",
       "    </tr>\n",
       "  </thead>\n",
       "  <tbody>\n",
       "    <tr>\n",
       "      <th>0</th>\n",
       "      <td>876d35cfdafd654037f16ffa9789291b</td>\n",
       "      <td>2014</td>\n",
       "      <td>5k</td>\n",
       "      <td>do-not-scale</td>\n",
       "      <td>penalized_logreg</td>\n",
       "      <td>nationality</td>\n",
       "      <td>keep-all</td>\n",
       "      <td>0.68179</td>\n",
       "      <td>0.911637</td>\n",
       "      <td>1.198261</td>\n",
       "    </tr>\n",
       "  </tbody>\n",
       "</table>\n",
       "</div>"
      ],
      "text/plain": [
       "                        universe_id universe_training_year  \\\n",
       "0  876d35cfdafd654037f16ffa9789291b                   2014   \n",
       "\n",
       "  universe_training_size universe_scale    universe_model  \\\n",
       "0                     5k   do-not-scale  penalized_logreg   \n",
       "\n",
       "  universe_exclude_features universe_exclude_subgroups    q_hat  coverage  \\\n",
       "0               nationality                   keep-all  0.68179  0.911637   \n",
       "\n",
       "   avg_size  \n",
       "0  1.198261  "
      ]
     },
     "execution_count": 50,
     "metadata": {},
     "output_type": "execute_result"
    }
   ],
   "source": [
    "cp_metrics_df"
   ]
  },
  {
   "cell_type": "code",
   "execution_count": 51,
   "id": "b7fbde55-a0a1-47e4-9af6-fe4a17fa8c61",
   "metadata": {
    "execution": {
     "iopub.execute_input": "2025-08-05T15:28:43.376425Z",
     "iopub.status.busy": "2025-08-05T15:28:43.375746Z",
     "iopub.status.idle": "2025-08-05T15:28:43.380524Z",
     "shell.execute_reply": "2025-08-05T15:28:43.379409Z"
    },
    "papermill": {
     "duration": 0.031279,
     "end_time": "2025-08-05T15:28:43.382471",
     "exception": false,
     "start_time": "2025-08-05T15:28:43.351192",
     "status": "completed"
    },
    "tags": []
   },
   "outputs": [],
   "source": [
    "# Conditional Coverage & looking at subgroups"
   ]
  },
  {
   "cell_type": "code",
   "execution_count": 52,
   "id": "027ae886-68dd-4141-96c7-805a5450e1ef",
   "metadata": {
    "execution": {
     "iopub.execute_input": "2025-08-05T15:28:43.432413Z",
     "iopub.status.busy": "2025-08-05T15:28:43.432073Z",
     "iopub.status.idle": "2025-08-05T15:28:43.692731Z",
     "shell.execute_reply": "2025-08-05T15:28:43.691647Z"
    },
    "papermill": {
     "duration": 0.287924,
     "end_time": "2025-08-05T15:28:43.694977",
     "exception": false,
     "start_time": "2025-08-05T15:28:43.407053",
     "status": "completed"
    },
    "tags": []
   },
   "outputs": [],
   "source": [
    "from fairness_multiverse.conformal import build_cp_groups\n",
    "\n",
    "cp_groups_df = build_cp_groups(pred_sets, y_true, X_test.index, org_test)\n",
    "#needs universe_id and setting"
   ]
  },
  {
   "cell_type": "code",
   "execution_count": 53,
   "id": "6cbdab96-b2b2-45af-ad54-d0516db2e28d",
   "metadata": {
    "execution": {
     "iopub.execute_input": "2025-08-05T15:28:43.749316Z",
     "iopub.status.busy": "2025-08-05T15:28:43.748652Z",
     "iopub.status.idle": "2025-08-05T15:28:44.690052Z",
     "shell.execute_reply": "2025-08-05T15:28:44.689257Z"
    },
    "papermill": {
     "duration": 0.970039,
     "end_time": "2025-08-05T15:28:44.692021",
     "exception": false,
     "start_time": "2025-08-05T15:28:43.721982",
     "status": "completed"
    },
    "tags": []
   },
   "outputs": [],
   "source": [
    "# Define covered = 1 if true_label is in the predicted set\n",
    "cp_groups_df['covered'] = cp_groups_df.apply(\n",
    "    lambda r: int(r['true_label'] in r['pred_set']),\n",
    "    axis=1\n",
    ")"
   ]
  },
  {
   "cell_type": "code",
   "execution_count": 54,
   "id": "338ff529-1a6b-4b87-a931-8e4788d52aad",
   "metadata": {
    "execution": {
     "iopub.execute_input": "2025-08-05T15:28:44.746867Z",
     "iopub.status.busy": "2025-08-05T15:28:44.746184Z",
     "iopub.status.idle": "2025-08-05T15:28:44.751499Z",
     "shell.execute_reply": "2025-08-05T15:28:44.750493Z"
    },
    "papermill": {
     "duration": 0.034412,
     "end_time": "2025-08-05T15:28:44.753414",
     "exception": false,
     "start_time": "2025-08-05T15:28:44.719002",
     "status": "completed"
    },
    "tags": []
   },
   "outputs": [],
   "source": [
    "#cp_groups_df"
   ]
  },
  {
   "cell_type": "code",
   "execution_count": 55,
   "id": "90032e27-66df-4540-9169-4e89cfbaa758",
   "metadata": {
    "execution": {
     "iopub.execute_input": "2025-08-05T15:28:44.807721Z",
     "iopub.status.busy": "2025-08-05T15:28:44.807411Z",
     "iopub.status.idle": "2025-08-05T15:28:44.818808Z",
     "shell.execute_reply": "2025-08-05T15:28:44.817747Z"
    },
    "papermill": {
     "duration": 0.040545,
     "end_time": "2025-08-05T15:28:44.820583",
     "exception": false,
     "start_time": "2025-08-05T15:28:44.780038",
     "status": "completed"
    },
    "tags": []
   },
   "outputs": [],
   "source": [
    "subgroups = ['frau1','nongerman','nongerman_male','nongerman_female']\n",
    "\n",
    "# Conditional coverage for subgroup==1\n",
    "cond_coverage = {\n",
    "    g: cp_groups_df.loc[cp_groups_df[g]==1, 'covered'].mean()\n",
    "    for g in subgroups\n",
    "}"
   ]
  },
  {
   "cell_type": "code",
   "execution_count": 56,
   "id": "1e348fb1-b9c3-45bc-ba23-f016827a7e0d",
   "metadata": {
    "execution": {
     "iopub.execute_input": "2025-08-05T15:28:44.874909Z",
     "iopub.status.busy": "2025-08-05T15:28:44.874538Z",
     "iopub.status.idle": "2025-08-05T15:28:44.883045Z",
     "shell.execute_reply": "2025-08-05T15:28:44.881651Z"
    },
    "papermill": {
     "duration": 0.03844,
     "end_time": "2025-08-05T15:28:44.885447",
     "exception": false,
     "start_time": "2025-08-05T15:28:44.847007",
     "status": "completed"
    },
    "tags": []
   },
   "outputs": [
    {
     "data": {
      "text/plain": [
       "{'frau1': 0.9089634721660601,\n",
       " 'nongerman': 0.9253354291809353,\n",
       " 'nongerman_male': 0.9411870665585877,\n",
       " 'nongerman_female': 0.8991058122205663}"
      ]
     },
     "execution_count": 56,
     "metadata": {},
     "output_type": "execute_result"
    }
   ],
   "source": [
    "cond_coverage"
   ]
  },
  {
   "cell_type": "code",
   "execution_count": 57,
   "id": "f5093324-c3dd-4d63-bc4c-8d945e5c8bbb",
   "metadata": {
    "execution": {
     "iopub.execute_input": "2025-08-05T15:28:44.942778Z",
     "iopub.status.busy": "2025-08-05T15:28:44.941871Z",
     "iopub.status.idle": "2025-08-05T15:28:44.948797Z",
     "shell.execute_reply": "2025-08-05T15:28:44.947839Z"
    },
    "papermill": {
     "duration": 0.036126,
     "end_time": "2025-08-05T15:28:44.950607",
     "exception": false,
     "start_time": "2025-08-05T15:28:44.914481",
     "status": "completed"
    },
    "tags": []
   },
   "outputs": [],
   "source": [
    "for subgroup, cov in cond_coverage.items():\n",
    "    cp_metrics_df[f\"cov_{subgroup}\"] = cov"
   ]
  },
  {
   "cell_type": "code",
   "execution_count": 58,
   "id": "6e872e10-dbe5-49e8-b554-5030c98ff75d",
   "metadata": {
    "execution": {
     "iopub.execute_input": "2025-08-05T15:28:44.996572Z",
     "iopub.status.busy": "2025-08-05T15:28:44.995761Z",
     "iopub.status.idle": "2025-08-05T15:28:45.014665Z",
     "shell.execute_reply": "2025-08-05T15:28:45.013664Z"
    },
    "papermill": {
     "duration": 0.043489,
     "end_time": "2025-08-05T15:28:45.016575",
     "exception": false,
     "start_time": "2025-08-05T15:28:44.973086",
     "status": "completed"
    },
    "tags": []
   },
   "outputs": [
    {
     "data": {
      "text/html": [
       "<div>\n",
       "<style scoped>\n",
       "    .dataframe tbody tr th:only-of-type {\n",
       "        vertical-align: middle;\n",
       "    }\n",
       "\n",
       "    .dataframe tbody tr th {\n",
       "        vertical-align: top;\n",
       "    }\n",
       "\n",
       "    .dataframe thead th {\n",
       "        text-align: right;\n",
       "    }\n",
       "</style>\n",
       "<table border=\"1\" class=\"dataframe\">\n",
       "  <thead>\n",
       "    <tr style=\"text-align: right;\">\n",
       "      <th></th>\n",
       "      <th>universe_id</th>\n",
       "      <th>universe_training_year</th>\n",
       "      <th>universe_training_size</th>\n",
       "      <th>universe_scale</th>\n",
       "      <th>universe_model</th>\n",
       "      <th>universe_exclude_features</th>\n",
       "      <th>universe_exclude_subgroups</th>\n",
       "      <th>q_hat</th>\n",
       "      <th>coverage</th>\n",
       "      <th>avg_size</th>\n",
       "      <th>cov_frau1</th>\n",
       "      <th>cov_nongerman</th>\n",
       "      <th>cov_nongerman_male</th>\n",
       "      <th>cov_nongerman_female</th>\n",
       "    </tr>\n",
       "  </thead>\n",
       "  <tbody>\n",
       "    <tr>\n",
       "      <th>0</th>\n",
       "      <td>876d35cfdafd654037f16ffa9789291b</td>\n",
       "      <td>2014</td>\n",
       "      <td>5k</td>\n",
       "      <td>do-not-scale</td>\n",
       "      <td>penalized_logreg</td>\n",
       "      <td>nationality</td>\n",
       "      <td>keep-all</td>\n",
       "      <td>0.68179</td>\n",
       "      <td>0.911637</td>\n",
       "      <td>1.198261</td>\n",
       "      <td>0.908963</td>\n",
       "      <td>0.925335</td>\n",
       "      <td>0.941187</td>\n",
       "      <td>0.899106</td>\n",
       "    </tr>\n",
       "  </tbody>\n",
       "</table>\n",
       "</div>"
      ],
      "text/plain": [
       "                        universe_id universe_training_year  \\\n",
       "0  876d35cfdafd654037f16ffa9789291b                   2014   \n",
       "\n",
       "  universe_training_size universe_scale    universe_model  \\\n",
       "0                     5k   do-not-scale  penalized_logreg   \n",
       "\n",
       "  universe_exclude_features universe_exclude_subgroups    q_hat  coverage  \\\n",
       "0               nationality                   keep-all  0.68179  0.911637   \n",
       "\n",
       "   avg_size  cov_frau1  cov_nongerman  cov_nongerman_male  \\\n",
       "0  1.198261   0.908963       0.925335            0.941187   \n",
       "\n",
       "   cov_nongerman_female  \n",
       "0              0.899106  "
      ]
     },
     "execution_count": 58,
     "metadata": {},
     "output_type": "execute_result"
    }
   ],
   "source": [
    "cp_metrics_df"
   ]
  },
  {
   "cell_type": "markdown",
   "id": "33774451",
   "metadata": {
    "papermill": {
     "duration": 0.024702,
     "end_time": "2025-08-05T15:28:45.065299",
     "exception": false,
     "start_time": "2025-08-05T15:28:45.040597",
     "status": "completed"
    },
    "tags": []
   },
   "source": [
    "# (Fairness) Metrics"
   ]
  },
  {
   "cell_type": "code",
   "execution_count": 59,
   "id": "debc5d62",
   "metadata": {
    "execution": {
     "iopub.execute_input": "2025-08-05T15:28:45.116828Z",
     "iopub.status.busy": "2025-08-05T15:28:45.116326Z",
     "iopub.status.idle": "2025-08-05T15:28:45.130264Z",
     "shell.execute_reply": "2025-08-05T15:28:45.129480Z"
    },
    "papermill": {
     "duration": 0.041533,
     "end_time": "2025-08-05T15:28:45.131524",
     "exception": false,
     "start_time": "2025-08-05T15:28:45.089991",
     "status": "completed"
    },
    "tags": []
   },
   "outputs": [],
   "source": [
    "# do I need to include maxdeutsch1.missing?\n",
    "\n",
    "import numpy as np\n",
    "\n",
    "colname_to_bin = \"maxdeutsch1\"\n",
    "majority_value = org_train[colname_to_bin].mode()[0]\n",
    "\n",
    "org_test[\"majmin\"] = np.where(org_test[colname_to_bin] == majority_value, \"majority\", \"minority\")"
   ]
  },
  {
   "cell_type": "code",
   "execution_count": 60,
   "id": "06a50de5",
   "metadata": {
    "execution": {
     "iopub.execute_input": "2025-08-05T15:28:45.156097Z",
     "iopub.status.busy": "2025-08-05T15:28:45.155584Z",
     "iopub.status.idle": "2025-08-05T15:28:47.990780Z",
     "shell.execute_reply": "2025-08-05T15:28:47.989884Z"
    },
    "papermill": {
     "duration": 2.849118,
     "end_time": "2025-08-05T15:28:47.992531",
     "exception": false,
     "start_time": "2025-08-05T15:28:45.143413",
     "status": "completed"
    },
    "tags": []
   },
   "outputs": [],
   "source": [
    "example_universe = universe.copy()\n",
    "example_universe[\"cutoff\"] = example_universe[\"cutoff\"][0]\n",
    "example_universe[\"eval_fairness_grouping\"] = example_universe[\"eval_fairness_grouping\"][0]\n",
    "fairness_dict, metric_frame = universe_analysis.compute_metrics(\n",
    "    example_universe,\n",
    "    y_pred_prob=probs_test,\n",
    "    y_test=y_true,\n",
    "    org_test=org_test,\n",
    ")"
   ]
  },
  {
   "cell_type": "markdown",
   "id": "f95d4e02",
   "metadata": {
    "papermill": {
     "duration": 0.026319,
     "end_time": "2025-08-05T15:28:48.044574",
     "exception": false,
     "start_time": "2025-08-05T15:28:48.018255",
     "status": "completed"
    },
    "tags": []
   },
   "source": [
    "# Overall"
   ]
  },
  {
   "cell_type": "markdown",
   "id": "bdee4871",
   "metadata": {
    "papermill": {
     "duration": 0.033664,
     "end_time": "2025-08-05T15:28:48.107518",
     "exception": false,
     "start_time": "2025-08-05T15:28:48.073854",
     "status": "completed"
    },
    "tags": []
   },
   "source": [
    "Fairness\n",
    "Main fairness target: Equalized Odds. Seems to be a better fit than equal opportunity, since we're not only interested in Y = 1. Seems to be a better fit than demographic parity, since we also care about accuracy, not just equal distribution of preds.\n",
    "\n",
    "Pick column for computation of fairness metrics\n",
    "\n",
    "Performance\n",
    "Overall performance measures, most interesting in relation to the measures split by group below"
   ]
  },
  {
   "cell_type": "code",
   "execution_count": 61,
   "id": "c4e067c6",
   "metadata": {
    "execution": {
     "iopub.execute_input": "2025-08-05T15:28:48.156709Z",
     "iopub.status.busy": "2025-08-05T15:28:48.156015Z",
     "iopub.status.idle": "2025-08-05T15:28:48.165110Z",
     "shell.execute_reply": "2025-08-05T15:28:48.163963Z"
    },
    "papermill": {
     "duration": 0.034246,
     "end_time": "2025-08-05T15:28:48.166924",
     "exception": false,
     "start_time": "2025-08-05T15:28:48.132678",
     "status": "completed"
    },
    "tags": []
   },
   "outputs": [
    {
     "data": {
      "text/plain": [
       "accuracy                   0.216687\n",
       "balanced accuracy          0.531440\n",
       "f1                         0.238230\n",
       "precision                  0.136093\n",
       "false positive rate        0.891934\n",
       "false negative rate        0.045186\n",
       "selection rate             0.900000\n",
       "count                  89710.000000\n",
       "dtype: float64"
      ]
     },
     "execution_count": 61,
     "metadata": {},
     "output_type": "execute_result"
    }
   ],
   "source": [
    "metric_frame.overall"
   ]
  },
  {
   "cell_type": "markdown",
   "id": "e968fe9d",
   "metadata": {
    "papermill": {
     "duration": 0.023171,
     "end_time": "2025-08-05T15:28:48.213735",
     "exception": false,
     "start_time": "2025-08-05T15:28:48.190564",
     "status": "completed"
    },
    "tags": []
   },
   "source": [
    "By Group"
   ]
  },
  {
   "cell_type": "code",
   "execution_count": 62,
   "id": "ec325bce",
   "metadata": {
    "execution": {
     "iopub.execute_input": "2025-08-05T15:28:48.264028Z",
     "iopub.status.busy": "2025-08-05T15:28:48.263560Z",
     "iopub.status.idle": "2025-08-05T15:28:48.284438Z",
     "shell.execute_reply": "2025-08-05T15:28:48.283295Z"
    },
    "papermill": {
     "duration": 0.048652,
     "end_time": "2025-08-05T15:28:48.286219",
     "exception": false,
     "start_time": "2025-08-05T15:28:48.237567",
     "status": "completed"
    },
    "tags": []
   },
   "outputs": [
    {
     "data": {
      "text/html": [
       "<div>\n",
       "<style scoped>\n",
       "    .dataframe tbody tr th:only-of-type {\n",
       "        vertical-align: middle;\n",
       "    }\n",
       "\n",
       "    .dataframe tbody tr th {\n",
       "        vertical-align: top;\n",
       "    }\n",
       "\n",
       "    .dataframe thead th {\n",
       "        text-align: right;\n",
       "    }\n",
       "</style>\n",
       "<table border=\"1\" class=\"dataframe\">\n",
       "  <thead>\n",
       "    <tr style=\"text-align: right;\">\n",
       "      <th></th>\n",
       "      <th>accuracy</th>\n",
       "      <th>balanced accuracy</th>\n",
       "      <th>f1</th>\n",
       "      <th>precision</th>\n",
       "      <th>false positive rate</th>\n",
       "      <th>false negative rate</th>\n",
       "      <th>selection rate</th>\n",
       "      <th>count</th>\n",
       "    </tr>\n",
       "    <tr>\n",
       "      <th>majmin</th>\n",
       "      <th></th>\n",
       "      <th></th>\n",
       "      <th></th>\n",
       "      <th></th>\n",
       "      <th></th>\n",
       "      <th></th>\n",
       "      <th></th>\n",
       "      <th></th>\n",
       "    </tr>\n",
       "  </thead>\n",
       "  <tbody>\n",
       "    <tr>\n",
       "      <th>majority</th>\n",
       "      <td>0.238254</td>\n",
       "      <td>0.538644</td>\n",
       "      <td>0.247286</td>\n",
       "      <td>0.142212</td>\n",
       "      <td>0.869649</td>\n",
       "      <td>0.053063</td>\n",
       "      <td>0.879861</td>\n",
       "      <td>69170.0</td>\n",
       "    </tr>\n",
       "    <tr>\n",
       "      <th>minority</th>\n",
       "      <td>0.144060</td>\n",
       "      <td>0.509834</td>\n",
       "      <td>0.209736</td>\n",
       "      <td>0.117360</td>\n",
       "      <td>0.965551</td>\n",
       "      <td>0.014780</td>\n",
       "      <td>0.967819</td>\n",
       "      <td>20540.0</td>\n",
       "    </tr>\n",
       "  </tbody>\n",
       "</table>\n",
       "</div>"
      ],
      "text/plain": [
       "          accuracy  balanced accuracy        f1  precision  \\\n",
       "majmin                                                       \n",
       "majority  0.238254           0.538644  0.247286   0.142212   \n",
       "minority  0.144060           0.509834  0.209736   0.117360   \n",
       "\n",
       "          false positive rate  false negative rate  selection rate    count  \n",
       "majmin                                                                       \n",
       "majority             0.869649             0.053063        0.879861  69170.0  \n",
       "minority             0.965551             0.014780        0.967819  20540.0  "
      ]
     },
     "execution_count": 62,
     "metadata": {},
     "output_type": "execute_result"
    }
   ],
   "source": [
    "metric_frame.by_group"
   ]
  },
  {
   "cell_type": "code",
   "execution_count": 63,
   "id": "a9ddbe63",
   "metadata": {
    "execution": {
     "iopub.execute_input": "2025-08-05T15:28:48.340512Z",
     "iopub.status.busy": "2025-08-05T15:28:48.340008Z",
     "iopub.status.idle": "2025-08-05T15:28:50.661505Z",
     "shell.execute_reply": "2025-08-05T15:28:50.660792Z"
    },
    "papermill": {
     "duration": 2.350951,
     "end_time": "2025-08-05T15:28:50.662858",
     "exception": false,
     "start_time": "2025-08-05T15:28:48.311907",
     "status": "completed"
    },
    "tags": []
   },
   "outputs": [
    {
     "data": {
      "text/plain": [
       "array([[<Axes: title={'center': 'accuracy'}, xlabel='majmin'>,\n",
       "        <Axes: title={'center': 'balanced accuracy'}, xlabel='majmin'>,\n",
       "        <Axes: title={'center': 'f1'}, xlabel='majmin'>],\n",
       "       [<Axes: title={'center': 'precision'}, xlabel='majmin'>,\n",
       "        <Axes: title={'center': 'false positive rate'}, xlabel='majmin'>,\n",
       "        <Axes: title={'center': 'false negative rate'}, xlabel='majmin'>],\n",
       "       [<Axes: title={'center': 'selection rate'}, xlabel='majmin'>,\n",
       "        <Axes: title={'center': 'count'}, xlabel='majmin'>,\n",
       "        <Axes: xlabel='majmin'>]], dtype=object)"
      ]
     },
     "execution_count": 63,
     "metadata": {},
     "output_type": "execute_result"
    },
    {
     "data": {
      "image/png": "[encoded data removed]",
      "text/plain": [
       "<Figure size 1200x800 with 9 Axes>"
      ]
     },
     "metadata": {},
     "output_type": "display_data"
    }
   ],
   "source": [
    "# In a graphic\n",
    "metric_frame.by_group.plot.bar(\n",
    "    subplots=True,\n",
    "    layout=[3, 3],\n",
    "    legend=False,\n",
    "    figsize=[12, 8],\n",
    "    title=\"Show all metrics\",\n",
    ")"
   ]
  },
  {
   "cell_type": "markdown",
   "id": "f57a0bac",
   "metadata": {
    "papermill": {
     "duration": 0.012465,
     "end_time": "2025-08-05T15:28:50.692850",
     "exception": false,
     "start_time": "2025-08-05T15:28:50.680385",
     "status": "completed"
    },
    "tags": []
   },
   "source": [
    "# Final Output"
   ]
  },
  {
   "cell_type": "code",
   "execution_count": 64,
   "id": "96d280a3",
   "metadata": {
    "execution": {
     "iopub.execute_input": "2025-08-05T15:28:50.720003Z",
     "iopub.status.busy": "2025-08-05T15:28:50.719309Z",
     "iopub.status.idle": "2025-08-05T15:28:50.727622Z",
     "shell.execute_reply": "2025-08-05T15:28:50.726540Z"
    },
    "papermill": {
     "duration": 0.027822,
     "end_time": "2025-08-05T15:28:50.733100",
     "exception": false,
     "start_time": "2025-08-05T15:28:50.705278",
     "status": "completed"
    },
    "tags": []
   },
   "outputs": [
    {
     "data": {
      "text/plain": [
       "4"
      ]
     },
     "execution_count": 64,
     "metadata": {},
     "output_type": "execute_result"
    }
   ],
   "source": [
    "sub_universes = universe_analysis.generate_sub_universes()\n",
    "len(sub_universes)"
   ]
  },
  {
   "cell_type": "code",
   "execution_count": 65,
   "id": "92adf7ba",
   "metadata": {
    "execution": {
     "iopub.execute_input": "2025-08-05T15:28:50.799105Z",
     "iopub.status.busy": "2025-08-05T15:28:50.798535Z",
     "iopub.status.idle": "2025-08-05T15:28:50.805797Z",
     "shell.execute_reply": "2025-08-05T15:28:50.804805Z"
    },
    "papermill": {
     "duration": 0.044388,
     "end_time": "2025-08-05T15:28:50.807508",
     "exception": false,
     "start_time": "2025-08-05T15:28:50.763120",
     "status": "completed"
    },
    "tags": []
   },
   "outputs": [],
   "source": [
    "def filter_sub_universe_data(sub_universe, org_test):\n",
    "    # Keep all rows — no filtering\n",
    "    keep_rows_mask = np.ones(org_test.shape[0], dtype=bool)\n",
    "\n",
    "    print(f\"[INFO] Keeping all rows: {keep_rows_mask.sum()} rows retained.\")\n",
    "    return keep_rows_mask"
   ]
  },
  {
   "cell_type": "code",
   "execution_count": 66,
   "id": "4a759155",
   "metadata": {
    "execution": {
     "iopub.execute_input": "2025-08-05T15:28:50.857245Z",
     "iopub.status.busy": "2025-08-05T15:28:50.856746Z",
     "iopub.status.idle": "2025-08-05T15:28:59.740133Z",
     "shell.execute_reply": "2025-08-05T15:28:59.739003Z"
    },
    "papermill": {
     "duration": 8.909945,
     "end_time": "2025-08-05T15:28:59.742067",
     "exception": false,
     "start_time": "2025-08-05T15:28:50.832122",
     "status": "completed"
    },
    "tags": []
   },
   "outputs": [
    {
     "name": "stdout",
     "output_type": "stream",
     "text": [
      "Stopping execution_time clock.\n",
      "[INFO] Keeping all rows: 89710 rows retained.\n"
     ]
    },
    {
     "name": "stdout",
     "output_type": "stream",
     "text": [
      "[INFO] Keeping all rows: 89710 rows retained.\n"
     ]
    },
    {
     "name": "stdout",
     "output_type": "stream",
     "text": [
      "[INFO] Keeping all rows: 89710 rows retained.\n"
     ]
    },
    {
     "name": "stdout",
     "output_type": "stream",
     "text": [
      "[INFO] Keeping all rows: 89710 rows retained.\n"
     ]
    },
    {
     "data": {
      "text/html": [
       "<div>\n",
       "<style scoped>\n",
       "    .dataframe tbody tr th:only-of-type {\n",
       "        vertical-align: middle;\n",
       "    }\n",
       "\n",
       "    .dataframe tbody tr th {\n",
       "        vertical-align: top;\n",
       "    }\n",
       "\n",
       "    .dataframe thead th {\n",
       "        text-align: right;\n",
       "    }\n",
       "</style>\n",
       "<table border=\"1\" class=\"dataframe\">\n",
       "  <thead>\n",
       "    <tr style=\"text-align: right;\">\n",
       "      <th></th>\n",
       "      <th>run_no</th>\n",
       "      <th>universe_id</th>\n",
       "      <th>universe_settings</th>\n",
       "      <th>execution_time</th>\n",
       "      <th>test_size_n</th>\n",
       "      <th>test_size_frac</th>\n",
       "      <th>fair_main_equalized_odds_difference</th>\n",
       "      <th>fair_main_equalized_odds_ratio</th>\n",
       "      <th>fair_main_demographic_parity_difference</th>\n",
       "      <th>fair_main_demographic_parity_ratio</th>\n",
       "      <th>...</th>\n",
       "      <th>perf_grp_precision_0</th>\n",
       "      <th>perf_grp_precision_1</th>\n",
       "      <th>perf_grp_false positive rate_0</th>\n",
       "      <th>perf_grp_false positive rate_1</th>\n",
       "      <th>perf_grp_false negative rate_0</th>\n",
       "      <th>perf_grp_false negative rate_1</th>\n",
       "      <th>perf_grp_selection rate_0</th>\n",
       "      <th>perf_grp_selection rate_1</th>\n",
       "      <th>perf_grp_count_0</th>\n",
       "      <th>perf_grp_count_1</th>\n",
       "    </tr>\n",
       "  </thead>\n",
       "  <tbody>\n",
       "    <tr>\n",
       "      <th>0</th>\n",
       "      <td>15</td>\n",
       "      <td>876d35cfdafd654037f16ffa9789291b</td>\n",
       "      <td>{\"cutoff\": \"quantile_0.1\", \"eval_fairness_grou...</td>\n",
       "      <td>24.817447</td>\n",
       "      <td>89710</td>\n",
       "      <td>1.0</td>\n",
       "      <td>0.095903</td>\n",
       "      <td>0.900676</td>\n",
       "      <td>0.087958</td>\n",
       "      <td>0.909118</td>\n",
       "      <td>...</td>\n",
       "      <td>NaN</td>\n",
       "      <td>NaN</td>\n",
       "      <td>NaN</td>\n",
       "      <td>NaN</td>\n",
       "      <td>NaN</td>\n",
       "      <td>NaN</td>\n",
       "      <td>NaN</td>\n",
       "      <td>NaN</td>\n",
       "      <td>NaN</td>\n",
       "      <td>NaN</td>\n",
       "    </tr>\n",
       "    <tr>\n",
       "      <th>0</th>\n",
       "      <td>15</td>\n",
       "      <td>876d35cfdafd654037f16ffa9789291b</td>\n",
       "      <td>{\"cutoff\": \"quantile_0.1\", \"eval_fairness_grou...</td>\n",
       "      <td>24.817447</td>\n",
       "      <td>89710</td>\n",
       "      <td>1.0</td>\n",
       "      <td>0.095903</td>\n",
       "      <td>0.900676</td>\n",
       "      <td>0.087958</td>\n",
       "      <td>0.909118</td>\n",
       "      <td>...</td>\n",
       "      <td>0.117360</td>\n",
       "      <td>0.142212</td>\n",
       "      <td>0.965551</td>\n",
       "      <td>0.869649</td>\n",
       "      <td>0.014780</td>\n",
       "      <td>0.053063</td>\n",
       "      <td>0.967819</td>\n",
       "      <td>0.879861</td>\n",
       "      <td>20540.0</td>\n",
       "      <td>69170.0</td>\n",
       "    </tr>\n",
       "    <tr>\n",
       "      <th>0</th>\n",
       "      <td>15</td>\n",
       "      <td>876d35cfdafd654037f16ffa9789291b</td>\n",
       "      <td>{\"cutoff\": \"quantile_0.25\", \"eval_fairness_gro...</td>\n",
       "      <td>24.817447</td>\n",
       "      <td>89710</td>\n",
       "      <td>1.0</td>\n",
       "      <td>0.207906</td>\n",
       "      <td>0.766310</td>\n",
       "      <td>0.190698</td>\n",
       "      <td>0.787412</td>\n",
       "      <td>...</td>\n",
       "      <td>NaN</td>\n",
       "      <td>NaN</td>\n",
       "      <td>NaN</td>\n",
       "      <td>NaN</td>\n",
       "      <td>NaN</td>\n",
       "      <td>NaN</td>\n",
       "      <td>NaN</td>\n",
       "      <td>NaN</td>\n",
       "      <td>NaN</td>\n",
       "      <td>NaN</td>\n",
       "    </tr>\n",
       "    <tr>\n",
       "      <th>0</th>\n",
       "      <td>15</td>\n",
       "      <td>876d35cfdafd654037f16ffa9789291b</td>\n",
       "      <td>{\"cutoff\": \"quantile_0.25\", \"eval_fairness_gro...</td>\n",
       "      <td>24.817447</td>\n",
       "      <td>89710</td>\n",
       "      <td>1.0</td>\n",
       "      <td>0.207906</td>\n",
       "      <td>0.766310</td>\n",
       "      <td>0.190698</td>\n",
       "      <td>0.787412</td>\n",
       "      <td>...</td>\n",
       "      <td>0.122551</td>\n",
       "      <td>0.162331</td>\n",
       "      <td>0.889665</td>\n",
       "      <td>0.681759</td>\n",
       "      <td>0.046453</td>\n",
       "      <td>0.132276</td>\n",
       "      <td>0.897030</td>\n",
       "      <td>0.706332</td>\n",
       "      <td>20540.0</td>\n",
       "      <td>69170.0</td>\n",
       "    </tr>\n",
       "  </tbody>\n",
       "</table>\n",
       "<p>4 rows × 50 columns</p>\n",
       "</div>"
      ],
      "text/plain": [
       "  run_no                       universe_id  \\\n",
       "0     15  876d35cfdafd654037f16ffa9789291b   \n",
       "0     15  876d35cfdafd654037f16ffa9789291b   \n",
       "0     15  876d35cfdafd654037f16ffa9789291b   \n",
       "0     15  876d35cfdafd654037f16ffa9789291b   \n",
       "\n",
       "                                   universe_settings  execution_time  \\\n",
       "0  {\"cutoff\": \"quantile_0.1\", \"eval_fairness_grou...       24.817447   \n",
       "0  {\"cutoff\": \"quantile_0.1\", \"eval_fairness_grou...       24.817447   \n",
       "0  {\"cutoff\": \"quantile_0.25\", \"eval_fairness_gro...       24.817447   \n",
       "0  {\"cutoff\": \"quantile_0.25\", \"eval_fairness_gro...       24.817447   \n",
       "\n",
       "   test_size_n  test_size_frac  fair_main_equalized_odds_difference  \\\n",
       "0        89710             1.0                             0.095903   \n",
       "0        89710             1.0                             0.095903   \n",
       "0        89710             1.0                             0.207906   \n",
       "0        89710             1.0                             0.207906   \n",
       "\n",
       "   fair_main_equalized_odds_ratio  fair_main_demographic_parity_difference  \\\n",
       "0                        0.900676                                 0.087958   \n",
       "0                        0.900676                                 0.087958   \n",
       "0                        0.766310                                 0.190698   \n",
       "0                        0.766310                                 0.190698   \n",
       "\n",
       "   fair_main_demographic_parity_ratio  ...  perf_grp_precision_0  \\\n",
       "0                            0.909118  ...                   NaN   \n",
       "0                            0.909118  ...              0.117360   \n",
       "0                            0.787412  ...                   NaN   \n",
       "0                            0.787412  ...              0.122551   \n",
       "\n",
       "   perf_grp_precision_1  perf_grp_false positive rate_0  \\\n",
       "0                   NaN                             NaN   \n",
       "0              0.142212                        0.965551   \n",
       "0                   NaN                             NaN   \n",
       "0              0.162331                        0.889665   \n",
       "\n",
       "   perf_grp_false positive rate_1  perf_grp_false negative rate_0  \\\n",
       "0                             NaN                             NaN   \n",
       "0                        0.869649                        0.014780   \n",
       "0                             NaN                             NaN   \n",
       "0                        0.681759                        0.046453   \n",
       "\n",
       "   perf_grp_false negative rate_1  perf_grp_selection rate_0  \\\n",
       "0                             NaN                        NaN   \n",
       "0                        0.053063                   0.967819   \n",
       "0                             NaN                        NaN   \n",
       "0                        0.132276                   0.897030   \n",
       "\n",
       "   perf_grp_selection rate_1  perf_grp_count_0  perf_grp_count_1  \n",
       "0                        NaN               NaN               NaN  \n",
       "0                   0.879861           20540.0           69170.0  \n",
       "0                        NaN               NaN               NaN  \n",
       "0                   0.706332           20540.0           69170.0  \n",
       "\n",
       "[4 rows x 50 columns]"
      ]
     },
     "execution_count": 66,
     "metadata": {},
     "output_type": "execute_result"
    }
   ],
   "source": [
    "final_output = universe_analysis.generate_final_output(\n",
    "    y_pred_prob=probs_test,\n",
    "    y_test=y_true,\n",
    "    org_test=org_test,\n",
    "    filter_data=filter_sub_universe_data,\n",
    "    cp_metrics_df=cp_metrics_df,\n",
    "    save=True,\n",
    ")\n",
    "final_output"
   ]
  }
 ],
 "metadata": {
  "celltoolbar": "Tags",
  "kernelspec": {
   "display_name": "Python (CMA Fairness)",
   "language": "python",
   "name": "cma_fair_env"
  },
  "language_info": {
   "codemirror_mode": {
    "name": "ipython",
    "version": 3
   },
   "file_extension": ".py",
   "mimetype": "text/x-python",
   "name": "python",
   "nbconvert_exporter": "python",
   "pygments_lexer": "ipython3",
   "version": "3.10.12"
  },
  "papermill": {
   "default_parameters": {},
   "duration": 38.048931,
   "end_time": "2025-08-05T15:29:00.603364",
   "environment_variables": {},
   "exception": null,
   "input_path": "universe_analysis.ipynb",
   "output_path": "output/runs/15/notebooks/m_15-876d35cfdafd654037f16ffa9789291b.ipynb",
   "parameters": {
    "output_dir": "output",
    "run_no": "15",
    "seed": "2023",
    "universe": "{\"cutoff\": [\"quantile_0.1\", \"quantile_0.25\"], \"eval_fairness_grouping\": [\"majority-minority\", \"nationality-all\"], \"exclude_features\": \"nationality\", \"exclude_subgroups\": \"keep-all\", \"model\": \"penalized_logreg\", \"scale\": \"do-not-scale\", \"training_size\": \"5k\", \"training_year\": \"2014\"}",
    "universe_id": "876d35cfdafd654037f16ffa9789291b"
   },
   "start_time": "2025-08-05T15:28:22.554433",
   "version": "2.6.0"
  }
 },
 "nbformat": 4,
 "nbformat_minor": 5
}