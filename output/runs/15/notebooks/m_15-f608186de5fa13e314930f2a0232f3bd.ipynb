{
 "cells": [
  {
   "cell_type": "code",
   "execution_count": 1,
   "id": "f159f837-637b-42ba-96b5-ec9a68c44524",
   "metadata": {
    "execution": {
     "iopub.execute_input": "2025-08-05T16:42:32.679439Z",
     "iopub.status.busy": "2025-08-05T16:42:32.678567Z",
     "iopub.status.idle": "2025-08-05T16:42:32.691957Z",
     "shell.execute_reply": "2025-08-05T16:42:32.690701Z"
    },
    "papermill": {
     "duration": 0.035268,
     "end_time": "2025-08-05T16:42:32.693928",
     "exception": false,
     "start_time": "2025-08-05T16:42:32.658660",
     "status": "completed"
    },
    "tags": []
   },
   "outputs": [
    {
     "name": "stdout",
     "output_type": "stream",
     "text": [
      "/dss/dsshome1/0C/ra93lal2/cma/CMA_Fairness_v2\n"
     ]
    },
    {
     "name": "stderr",
     "output_type": "stream",
     "text": [
      "/dss/dsshome1/0C/ra93lal2/.local/share/virtualenvs/CMA_Fairness_v2-3j10GkSs/lib/python3.10/site-packages/IPython/core/magics/osm.py:393: UserWarning: This is now an optional IPython functionality, using bookmarks requires you to install the `pickleshare` library.\n",
      "  bkms = self.shell.db.get('bookmarks', {})\n",
      "/dss/dsshome1/0C/ra93lal2/.local/share/virtualenvs/CMA_Fairness_v2-3j10GkSs/lib/python3.10/site-packages/IPython/core/magics/osm.py:417: UserWarning: This is now an optional IPython functionality, setting dhist requires you to install the `pickleshare` library.\n",
      "  self.shell.db['dhist'] = compress_dhist(dhist)[-100:]\n"
     ]
    }
   ],
   "source": [
    "%cd ~/cma/CMA_Fairness_v2"
   ]
  },
  {
   "cell_type": "markdown",
   "id": "de2603b9",
   "metadata": {
    "papermill": {
     "duration": 0.009083,
     "end_time": "2025-08-05T16:42:32.713198",
     "exception": false,
     "start_time": "2025-08-05T16:42:32.704115",
     "status": "completed"
    },
    "tags": []
   },
   "source": [
    "The following cell holds the definition of our parameters, these values can be overriden by rendering the with e.g. the following command:\n",
    "\n",
    "papermill -p alpha 0.2 -p ratio 0.3 universe_analysis.ipynb output/test_run.ipynb"
   ]
  },
  {
   "cell_type": "code",
   "execution_count": 2,
   "id": "a80968a0-40bb-4fa9-85ef-2d5eefb01975",
   "metadata": {
    "execution": {
     "iopub.execute_input": "2025-08-05T16:42:32.732452Z",
     "iopub.status.busy": "2025-08-05T16:42:32.731707Z",
     "iopub.status.idle": "2025-08-05T16:42:32.736703Z",
     "shell.execute_reply": "2025-08-05T16:42:32.735920Z"
    },
    "papermill": {
     "duration": 0.015944,
     "end_time": "2025-08-05T16:42:32.738041",
     "exception": false,
     "start_time": "2025-08-05T16:42:32.722097",
     "status": "completed"
    },
    "tags": []
   },
   "outputs": [
    {
     "name": "stdout",
     "output_type": "stream",
     "text": [
      "Current working directory: /dss/dsshome1/0C/ra93lal2/cma/CMA_Fairness_v2\n"
     ]
    }
   ],
   "source": [
    "import os\n",
    "print(\"Current working directory:\", os.getcwd())"
   ]
  },
  {
   "cell_type": "code",
   "execution_count": 3,
   "id": "2dce4c03",
   "metadata": {
    "execution": {
     "iopub.execute_input": "2025-08-05T16:42:32.758648Z",
     "iopub.status.busy": "2025-08-05T16:42:32.757820Z",
     "iopub.status.idle": "2025-08-05T16:42:32.763520Z",
     "shell.execute_reply": "2025-08-05T16:42:32.762348Z"
    },
    "papermill": {
     "duration": 0.016898,
     "end_time": "2025-08-05T16:42:32.765019",
     "exception": false,
     "start_time": "2025-08-05T16:42:32.748121",
     "status": "completed"
    },
    "tags": [
     "parameters"
    ]
   },
   "outputs": [],
   "source": [
    "run_no = 0\n",
    "universe_id = \"test\"\n",
    "universe = {\n",
    "    \"training_size\": \"25k\", # \"25k\", \"5k\", \"1k\"\n",
    "    \"training_year\": \"2014\", # \"2014\", \"2012_14\", \"2010_14\"\n",
    "    \"scale\": \"scale\", # \"scale\", \"do-not-scale\",\n",
    "    \"model\": \"elasticnet\", # \"logreg\", \"penalized_logreg\", \"rf\", \"gbm\", \"elasticnet\"\n",
    "    \"cutoff\": [\"quantile_0.15\", \"quantile_0.30\"],\n",
    "    \"exclude_features\": \"age\", # \"none\", \"nationality\", \"sex\", \"nationality-sex\", \"age\"\n",
    "    \"exclude_subgroups\": \"keep-all\", # \"keep-all\", \"drop-non-german\"\n",
    "    \"eval_fairness_grouping\": [\"majority-minority\", \"nationality-all\"]\n",
    "}\n",
    "\n",
    "output_dir=\"./output\"\n",
    "seed=0"
   ]
  },
  {
   "cell_type": "code",
   "execution_count": 4,
   "id": "9677f8a9",
   "metadata": {
    "execution": {
     "iopub.execute_input": "2025-08-05T16:42:32.789876Z",
     "iopub.status.busy": "2025-08-05T16:42:32.789469Z",
     "iopub.status.idle": "2025-08-05T16:42:32.793728Z",
     "shell.execute_reply": "2025-08-05T16:42:32.792854Z"
    },
    "papermill": {
     "duration": 0.015023,
     "end_time": "2025-08-05T16:42:32.795127",
     "exception": false,
     "start_time": "2025-08-05T16:42:32.780104",
     "status": "completed"
    },
    "tags": [
     "injected-parameters"
    ]
   },
   "outputs": [],
   "source": [
    "# Parameters\n",
    "universe_id = \"f608186de5fa13e314930f2a0232f3bd\"\n",
    "run_no = \"15\"\n",
    "universe = \"{\\\"cutoff\\\": [\\\"quantile_0.1\\\", \\\"quantile_0.25\\\"], \\\"eval_fairness_grouping\\\": [\\\"majority-minority\\\", \\\"nationality-all\\\"], \\\"exclude_features\\\": \\\"none\\\", \\\"exclude_subgroups\\\": \\\"drop-non-german\\\", \\\"model\\\": \\\"gbm\\\", \\\"scale\\\": \\\"do-not-scale\\\", \\\"training_size\\\": \\\"1k\\\", \\\"training_year\\\": \\\"2010_14\\\"}\"\n",
    "output_dir = \"output\"\n",
    "seed = \"2023\"\n"
   ]
  },
  {
   "cell_type": "code",
   "execution_count": 5,
   "id": "1650acaf",
   "metadata": {
    "execution": {
     "iopub.execute_input": "2025-08-05T16:42:32.815904Z",
     "iopub.status.busy": "2025-08-05T16:42:32.815371Z",
     "iopub.status.idle": "2025-08-05T16:42:32.819604Z",
     "shell.execute_reply": "2025-08-05T16:42:32.818862Z"
    },
    "papermill": {
     "duration": 0.015388,
     "end_time": "2025-08-05T16:42:32.821006",
     "exception": false,
     "start_time": "2025-08-05T16:42:32.805618",
     "status": "completed"
    },
    "tags": []
   },
   "outputs": [],
   "source": [
    "import json\n",
    "if isinstance(universe, str):\n",
    "    universe = json.loads(universe)"
   ]
  },
  {
   "cell_type": "code",
   "execution_count": 6,
   "id": "16620c48",
   "metadata": {
    "execution": {
     "iopub.execute_input": "2025-08-05T16:42:32.841558Z",
     "iopub.status.busy": "2025-08-05T16:42:32.840791Z",
     "iopub.status.idle": "2025-08-05T16:42:32.871381Z",
     "shell.execute_reply": "2025-08-05T16:42:32.870598Z"
    },
    "papermill": {
     "duration": 0.041564,
     "end_time": "2025-08-05T16:42:32.872911",
     "exception": false,
     "start_time": "2025-08-05T16:42:32.831347",
     "status": "completed"
    },
    "tags": []
   },
   "outputs": [],
   "source": [
    "# Auto-reload the custom package\n",
    "%load_ext autoreload\n",
    "%autoreload 1\n",
    "%aimport fairness_multiverse"
   ]
  },
  {
   "cell_type": "code",
   "execution_count": 7,
   "id": "01c5c9f3",
   "metadata": {
    "execution": {
     "iopub.execute_input": "2025-08-05T16:42:32.892348Z",
     "iopub.status.busy": "2025-08-05T16:42:32.891685Z",
     "iopub.status.idle": "2025-08-05T16:42:35.059066Z",
     "shell.execute_reply": "2025-08-05T16:42:35.057830Z"
    },
    "papermill": {
     "duration": 2.179192,
     "end_time": "2025-08-05T16:42:35.061347",
     "exception": false,
     "start_time": "2025-08-05T16:42:32.882155",
     "status": "completed"
    },
    "tags": []
   },
   "outputs": [],
   "source": [
    "from fairness_multiverse.universe import UniverseAnalysis\n",
    "\n",
    "universe_analysis = UniverseAnalysis(\n",
    "    run_no = run_no,\n",
    "    universe_id = universe_id,\n",
    "    universe = universe,\n",
    "    output_dir=output_dir,\n",
    ")"
   ]
  },
  {
   "cell_type": "code",
   "execution_count": 8,
   "id": "106241f5",
   "metadata": {
    "execution": {
     "iopub.execute_input": "2025-08-05T16:42:35.105875Z",
     "iopub.status.busy": "2025-08-05T16:42:35.104807Z",
     "iopub.status.idle": "2025-08-05T16:42:35.113089Z",
     "shell.execute_reply": "2025-08-05T16:42:35.111942Z"
    },
    "papermill": {
     "duration": 0.033027,
     "end_time": "2025-08-05T16:42:35.115039",
     "exception": false,
     "start_time": "2025-08-05T16:42:35.082012",
     "status": "completed"
    },
    "tags": []
   },
   "outputs": [
    {
     "name": "stdout",
     "output_type": "stream",
     "text": [
      "Using Seed: 2023\n"
     ]
    }
   ],
   "source": [
    "import numpy as np\n",
    "parsed_seed = int(seed)\n",
    "np.random.seed(parsed_seed)\n",
    "print(f\"Using Seed: {parsed_seed}\")"
   ]
  },
  {
   "cell_type": "markdown",
   "id": "e0ebdc57",
   "metadata": {
    "papermill": {
     "duration": 0.02028,
     "end_time": "2025-08-05T16:42:35.157121",
     "exception": false,
     "start_time": "2025-08-05T16:42:35.136841",
     "status": "completed"
    },
    "tags": []
   },
   "source": [
    "# Loading Data"
   ]
  },
  {
   "cell_type": "code",
   "execution_count": 9,
   "id": "f0496b8a",
   "metadata": {
    "execution": {
     "iopub.execute_input": "2025-08-05T16:42:35.201318Z",
     "iopub.status.busy": "2025-08-05T16:42:35.200416Z",
     "iopub.status.idle": "2025-08-05T16:42:48.194028Z",
     "shell.execute_reply": "2025-08-05T16:42:48.192395Z"
    },
    "papermill": {
     "duration": 13.018384,
     "end_time": "2025-08-05T16:42:48.196190",
     "exception": false,
     "start_time": "2025-08-05T16:42:35.177806",
     "status": "completed"
    },
    "tags": []
   },
   "outputs": [
    {
     "name": "stdout",
     "output_type": "stream",
     "text": [
      "Loading SIAB data from cache: data/siab_cached.csv.gz\n"
     ]
    },
    {
     "name": "stdout",
     "output_type": "stream",
     "text": [
      "(643690, 164)\n"
     ]
    }
   ],
   "source": [
    "from pathlib import Path\n",
    "import pandas as pd\n",
    "\n",
    "# File paths\n",
    "raw_file = Path(\"data/raw/siab.csv\")\n",
    "cache_file = Path(\"data/siab_cached.csv.gz\")\n",
    "\n",
    "# Ensure cache directory exists\n",
    "cache_file.parent.mkdir(parents=True, exist_ok=True)\n",
    "\n",
    "# Load with simple caching\n",
    "if cache_file.exists():\n",
    "    print(f\"Loading SIAB data from cache: {cache_file}\")\n",
    "    siab = pd.read_csv(cache_file, compression='gzip')\n",
    "else:\n",
    "    print(f\"Cache not found. Reading raw SIAB data: {raw_file}\")\n",
    "    siab = pd.read_csv(raw_file)\n",
    "    siab.to_csv(cache_file, index=False, compression='gzip')\n",
    "    print(f\"Cached SIAB data to: {cache_file}\")\n",
    "\n",
    "print(siab.shape)"
   ]
  },
  {
   "cell_type": "code",
   "execution_count": 10,
   "id": "db0ca512-5f53-4dba-abdb-a2888bca41ba",
   "metadata": {
    "execution": {
     "iopub.execute_input": "2025-08-05T16:42:48.246657Z",
     "iopub.status.busy": "2025-08-05T16:42:48.245945Z",
     "iopub.status.idle": "2025-08-05T16:42:48.254156Z",
     "shell.execute_reply": "2025-08-05T16:42:48.252637Z"
    },
    "papermill": {
     "duration": 0.035964,
     "end_time": "2025-08-05T16:42:48.256344",
     "exception": false,
     "start_time": "2025-08-05T16:42:48.220380",
     "status": "completed"
    },
    "tags": []
   },
   "outputs": [],
   "source": [
    "#siab"
   ]
  },
  {
   "cell_type": "markdown",
   "id": "997051c5-15bd-4b69-9786-c3001a3ce484",
   "metadata": {
    "papermill": {
     "duration": 0.0237,
     "end_time": "2025-08-05T16:42:48.304274",
     "exception": false,
     "start_time": "2025-08-05T16:42:48.280574",
     "status": "completed"
    },
    "tags": []
   },
   "source": [
    "# Splitting Data and Setting Training Data Size"
   ]
  },
  {
   "cell_type": "code",
   "execution_count": 11,
   "id": "aea9c6ef-6f46-42c8-85eb-5a62025c1508",
   "metadata": {
    "execution": {
     "iopub.execute_input": "2025-08-05T16:42:48.354705Z",
     "iopub.status.busy": "2025-08-05T16:42:48.353488Z",
     "iopub.status.idle": "2025-08-05T16:42:49.484481Z",
     "shell.execute_reply": "2025-08-05T16:42:49.483049Z"
    },
    "papermill": {
     "duration": 1.159347,
     "end_time": "2025-08-05T16:42:49.487512",
     "exception": false,
     "start_time": "2025-08-05T16:42:48.328165",
     "status": "completed"
    },
    "tags": []
   },
   "outputs": [],
   "source": [
    "from fairness_multiverse.universe import sample_by_year_size\n",
    "\n",
    "siab_train = sample_by_year_size(siab,\n",
    "                               training_year=universe[\"training_year\"],\n",
    "                               training_size=universe[\"training_size\"])"
   ]
  },
  {
   "cell_type": "code",
   "execution_count": 12,
   "id": "8d3afb32-789d-442c-8d5d-9f5aa8dd2eed",
   "metadata": {
    "execution": {
     "iopub.execute_input": "2025-08-05T16:42:49.536904Z",
     "iopub.status.busy": "2025-08-05T16:42:49.536037Z",
     "iopub.status.idle": "2025-08-05T16:42:49.544593Z",
     "shell.execute_reply": "2025-08-05T16:42:49.543462Z"
    },
    "papermill": {
     "duration": 0.025695,
     "end_time": "2025-08-05T16:42:49.546756",
     "exception": false,
     "start_time": "2025-08-05T16:42:49.521061",
     "status": "completed"
    },
    "tags": []
   },
   "outputs": [],
   "source": [
    "#siab_train.shape"
   ]
  },
  {
   "cell_type": "code",
   "execution_count": 13,
   "id": "d582db68-1a4c-47fb-84fc-08518dc1975a",
   "metadata": {
    "execution": {
     "iopub.execute_input": "2025-08-05T16:42:49.596479Z",
     "iopub.status.busy": "2025-08-05T16:42:49.595536Z",
     "iopub.status.idle": "2025-08-05T16:42:49.603230Z",
     "shell.execute_reply": "2025-08-05T16:42:49.601700Z"
    },
    "papermill": {
     "duration": 0.035155,
     "end_time": "2025-08-05T16:42:49.605282",
     "exception": false,
     "start_time": "2025-08-05T16:42:49.570127",
     "status": "completed"
    },
    "tags": []
   },
   "outputs": [],
   "source": [
    "#display(siab_train.groupby(\"year\").size())"
   ]
  },
  {
   "cell_type": "code",
   "execution_count": 14,
   "id": "a561edb4-d032-42cb-8256-22eac1111c64",
   "metadata": {
    "execution": {
     "iopub.execute_input": "2025-08-05T16:42:49.655727Z",
     "iopub.status.busy": "2025-08-05T16:42:49.654576Z",
     "iopub.status.idle": "2025-08-05T16:42:49.945985Z",
     "shell.execute_reply": "2025-08-05T16:42:49.944781Z"
    },
    "papermill": {
     "duration": 0.318626,
     "end_time": "2025-08-05T16:42:49.948203",
     "exception": false,
     "start_time": "2025-08-05T16:42:49.629577",
     "status": "completed"
    },
    "tags": []
   },
   "outputs": [],
   "source": [
    "#siab_train = siab_s[siab_s.year < 2015]\n",
    "siab_calib = siab[siab.year == 2015]\n",
    "siab_test = siab[siab.year == 2016]"
   ]
  },
  {
   "cell_type": "code",
   "execution_count": 15,
   "id": "472de16f-c3db-4916-846b-1f0de9cf1746",
   "metadata": {
    "execution": {
     "iopub.execute_input": "2025-08-05T16:42:49.990099Z",
     "iopub.status.busy": "2025-08-05T16:42:49.989611Z",
     "iopub.status.idle": "2025-08-05T16:42:49.996997Z",
     "shell.execute_reply": "2025-08-05T16:42:49.995941Z"
    },
    "papermill": {
     "duration": 0.030218,
     "end_time": "2025-08-05T16:42:49.998795",
     "exception": false,
     "start_time": "2025-08-05T16:42:49.968577",
     "status": "completed"
    },
    "tags": []
   },
   "outputs": [],
   "source": [
    "X_train = siab_train.iloc[:,4:164]\n",
    "y_train = siab_train.iloc[:, [3]]"
   ]
  },
  {
   "cell_type": "code",
   "execution_count": 16,
   "id": "828c96af-f43a-4ed6-ba47-8ac73a47d56c",
   "metadata": {
    "execution": {
     "iopub.execute_input": "2025-08-05T16:42:50.040920Z",
     "iopub.status.busy": "2025-08-05T16:42:50.040632Z",
     "iopub.status.idle": "2025-08-05T16:42:50.107410Z",
     "shell.execute_reply": "2025-08-05T16:42:50.106236Z"
    },
    "papermill": {
     "duration": 0.090575,
     "end_time": "2025-08-05T16:42:50.109750",
     "exception": false,
     "start_time": "2025-08-05T16:42:50.019175",
     "status": "completed"
    },
    "tags": []
   },
   "outputs": [],
   "source": [
    "X_calib = siab_calib.iloc[:,4:164]\n",
    "y_calib = siab_calib.iloc[:, [3]]"
   ]
  },
  {
   "cell_type": "code",
   "execution_count": 17,
   "id": "c34be9c3-6bd6-476e-acd3-845840e303be",
   "metadata": {
    "execution": {
     "iopub.execute_input": "2025-08-05T16:42:50.140007Z",
     "iopub.status.busy": "2025-08-05T16:42:50.139547Z",
     "iopub.status.idle": "2025-08-05T16:42:50.226244Z",
     "shell.execute_reply": "2025-08-05T16:42:50.224964Z"
    },
    "papermill": {
     "duration": 0.102078,
     "end_time": "2025-08-05T16:42:50.228543",
     "exception": false,
     "start_time": "2025-08-05T16:42:50.126465",
     "status": "completed"
    },
    "tags": []
   },
   "outputs": [],
   "source": [
    "X_test = siab_test.iloc[:,4:164]\n",
    "y_true = siab_test.iloc[:, [3]]"
   ]
  },
  {
   "cell_type": "code",
   "execution_count": 18,
   "id": "e6c733c5",
   "metadata": {
    "execution": {
     "iopub.execute_input": "2025-08-05T16:42:50.277323Z",
     "iopub.status.busy": "2025-08-05T16:42:50.276920Z",
     "iopub.status.idle": "2025-08-05T16:42:50.382996Z",
     "shell.execute_reply": "2025-08-05T16:42:50.381571Z"
    },
    "papermill": {
     "duration": 0.13488,
     "end_time": "2025-08-05T16:42:50.385162",
     "exception": false,
     "start_time": "2025-08-05T16:42:50.250282",
     "status": "completed"
    },
    "tags": []
   },
   "outputs": [],
   "source": [
    "# Auxiliary data needed downstream in the pipeline\n",
    "\n",
    "org_train = X_train.copy()\n",
    "org_test = X_test.copy()\n",
    "org_calib = X_calib.copy()"
   ]
  },
  {
   "cell_type": "markdown",
   "id": "0a4a1b33",
   "metadata": {
    "papermill": {
     "duration": 0.020452,
     "end_time": "2025-08-05T16:42:50.427076",
     "exception": false,
     "start_time": "2025-08-05T16:42:50.406624",
     "status": "completed"
    },
    "tags": []
   },
   "source": [
    "# Preprocessing Data"
   ]
  },
  {
   "cell_type": "code",
   "execution_count": 19,
   "id": "ca879031",
   "metadata": {
    "execution": {
     "iopub.execute_input": "2025-08-05T16:42:50.471158Z",
     "iopub.status.busy": "2025-08-05T16:42:50.470562Z",
     "iopub.status.idle": "2025-08-05T16:42:50.478396Z",
     "shell.execute_reply": "2025-08-05T16:42:50.476726Z"
    },
    "papermill": {
     "duration": 0.032409,
     "end_time": "2025-08-05T16:42:50.480456",
     "exception": false,
     "start_time": "2025-08-05T16:42:50.448047",
     "status": "completed"
    },
    "tags": []
   },
   "outputs": [],
   "source": [
    "# EXCLUDE PROTECTED FEATURES\n",
    "# ----------------------\n",
    "# \"exclude_features\": \"none\", # \"nationality\", \"sex\", \"nationality-sex\"\n",
    "\n",
    "excluded_features = universe[\"exclude_features\"].split(\"-\") # split, e.g.: \"nationality-sex\" -> [\"nationality\", \"sex\"]\n",
    "excluded_features_dictionary = {\n",
    "    \"nationality\": [\"maxdeutsch1\", \"maxdeutsch.Missing.\"],\n",
    "    \"sex\": [\"frau1\"],\n",
    "    \"age\": [\"age\"],\n",
    "}"
   ]
  },
  {
   "cell_type": "code",
   "execution_count": 20,
   "id": "b745ac60",
   "metadata": {
    "execution": {
     "iopub.execute_input": "2025-08-05T16:42:50.527002Z",
     "iopub.status.busy": "2025-08-05T16:42:50.525947Z",
     "iopub.status.idle": "2025-08-05T16:42:50.533422Z",
     "shell.execute_reply": "2025-08-05T16:42:50.532270Z"
    },
    "papermill": {
     "duration": 0.034037,
     "end_time": "2025-08-05T16:42:50.537383",
     "exception": false,
     "start_time": "2025-08-05T16:42:50.503346",
     "status": "completed"
    },
    "tags": []
   },
   "outputs": [],
   "source": [
    "# Code nice names to column names\n",
    "\n",
    "excluded_features_columns = [\n",
    "    excluded_features_dictionary[f] for f in excluded_features if len(f) > 0 and f != \"none\"\n",
    "]"
   ]
  },
  {
   "cell_type": "code",
   "execution_count": 21,
   "id": "f84f73a2",
   "metadata": {
    "execution": {
     "iopub.execute_input": "2025-08-05T16:42:50.590187Z",
     "iopub.status.busy": "2025-08-05T16:42:50.589689Z",
     "iopub.status.idle": "2025-08-05T16:42:50.597216Z",
     "shell.execute_reply": "2025-08-05T16:42:50.596105Z"
    },
    "papermill": {
     "duration": 0.035789,
     "end_time": "2025-08-05T16:42:50.599155",
     "exception": false,
     "start_time": "2025-08-05T16:42:50.563366",
     "status": "completed"
    },
    "tags": []
   },
   "outputs": [],
   "source": [
    "from utils import flatten_once\n",
    "\n",
    "excluded_features_columns = flatten_once(excluded_features_columns)"
   ]
  },
  {
   "cell_type": "code",
   "execution_count": 22,
   "id": "884dea22",
   "metadata": {
    "execution": {
     "iopub.execute_input": "2025-08-05T16:42:50.651929Z",
     "iopub.status.busy": "2025-08-05T16:42:50.651573Z",
     "iopub.status.idle": "2025-08-05T16:42:50.657733Z",
     "shell.execute_reply": "2025-08-05T16:42:50.656561Z"
    },
    "papermill": {
     "duration": 0.035483,
     "end_time": "2025-08-05T16:42:50.660001",
     "exception": false,
     "start_time": "2025-08-05T16:42:50.624518",
     "status": "completed"
    },
    "tags": []
   },
   "outputs": [],
   "source": [
    "if len(excluded_features_columns) > 0:\n",
    "    print(f\"Dropping features: {excluded_features_columns}\")\n",
    "    X_train.drop(excluded_features_columns, axis=1, inplace=True)"
   ]
  },
  {
   "cell_type": "code",
   "execution_count": 23,
   "id": "95ab8b16",
   "metadata": {
    "execution": {
     "iopub.execute_input": "2025-08-05T16:42:50.712751Z",
     "iopub.status.busy": "2025-08-05T16:42:50.712369Z",
     "iopub.status.idle": "2025-08-05T16:42:50.718516Z",
     "shell.execute_reply": "2025-08-05T16:42:50.717482Z"
    },
    "papermill": {
     "duration": 0.034194,
     "end_time": "2025-08-05T16:42:50.720088",
     "exception": false,
     "start_time": "2025-08-05T16:42:50.685894",
     "status": "completed"
    },
    "tags": []
   },
   "outputs": [],
   "source": [
    "if len(excluded_features_columns) > 0:\n",
    "    print(f\"Dropping features: {excluded_features_columns}\")\n",
    "    X_test.drop(excluded_features_columns, axis=1, inplace=True)"
   ]
  },
  {
   "cell_type": "code",
   "execution_count": 24,
   "id": "1853aaf5-fb9f-46cb-a2b5-8ea4ae2237e4",
   "metadata": {
    "execution": {
     "iopub.execute_input": "2025-08-05T16:42:50.744537Z",
     "iopub.status.busy": "2025-08-05T16:42:50.744072Z",
     "iopub.status.idle": "2025-08-05T16:42:50.749108Z",
     "shell.execute_reply": "2025-08-05T16:42:50.748266Z"
    },
    "papermill": {
     "duration": 0.018882,
     "end_time": "2025-08-05T16:42:50.750624",
     "exception": false,
     "start_time": "2025-08-05T16:42:50.731742",
     "status": "completed"
    },
    "tags": []
   },
   "outputs": [],
   "source": [
    "if len(excluded_features_columns) > 0:\n",
    "    print(f\"Dropping features: {excluded_features_columns}\")\n",
    "    X_calib.drop(excluded_features_columns, axis=1, inplace=True)"
   ]
  },
  {
   "cell_type": "code",
   "execution_count": 25,
   "id": "76c4dc6d",
   "metadata": {
    "execution": {
     "iopub.execute_input": "2025-08-05T16:42:50.775246Z",
     "iopub.status.busy": "2025-08-05T16:42:50.774988Z",
     "iopub.status.idle": "2025-08-05T16:42:50.868976Z",
     "shell.execute_reply": "2025-08-05T16:42:50.867992Z"
    },
    "papermill": {
     "duration": 0.10819,
     "end_time": "2025-08-05T16:42:50.870567",
     "exception": false,
     "start_time": "2025-08-05T16:42:50.762377",
     "status": "completed"
    },
    "tags": []
   },
   "outputs": [],
   "source": [
    "# EXCLUDE CERTAIN SUBGROUPS\n",
    "# ----------------------\n",
    "\n",
    "mode = universe.get(\"exclude_subgroups\", \"keep-all\") \n",
    "# Fetches the exclude_subgroups setting from the universe dict.\n",
    "# Defaults to \"keep-all\" if the key is missing."
   ]
  },
  {
   "cell_type": "code",
   "execution_count": 26,
   "id": "21994072",
   "metadata": {
    "execution": {
     "iopub.execute_input": "2025-08-05T16:42:50.895719Z",
     "iopub.status.busy": "2025-08-05T16:42:50.895258Z",
     "iopub.status.idle": "2025-08-05T16:42:50.901450Z",
     "shell.execute_reply": "2025-08-05T16:42:50.900598Z"
    },
    "papermill": {
     "duration": 0.020308,
     "end_time": "2025-08-05T16:42:50.903083",
     "exception": false,
     "start_time": "2025-08-05T16:42:50.882775",
     "status": "completed"
    },
    "tags": []
   },
   "outputs": [],
   "source": [
    "if mode == \"keep-all\":\n",
    "    keep_mask = pd.Series(True, index=org_train.index)\n",
    "\n",
    "# org_train contains the original feature columns from features_org (in Simson)\n",
    "# features_org contains unprocessed features, for me X_train at beginning ???\n",
    "# For keep-all, creates a boolean Series (keep_mask) of all True, so no rows are removed.\n",
    "\n",
    "elif mode == \"drop-non-german\":\n",
    "    keep_mask = org_train[\"maxdeutsch1\"] == 1 # ??? what about missing values?\n",
    "\n",
    "else:\n",
    "    raise ValueError(f\"Unsupported mode for exclude_subgroups: {mode}\")"
   ]
  },
  {
   "cell_type": "code",
   "execution_count": 27,
   "id": "71651440",
   "metadata": {
    "execution": {
     "iopub.execute_input": "2025-08-05T16:42:50.928033Z",
     "iopub.status.busy": "2025-08-05T16:42:50.927519Z",
     "iopub.status.idle": "2025-08-05T16:42:50.933970Z",
     "shell.execute_reply": "2025-08-05T16:42:50.932851Z"
    },
    "papermill": {
     "duration": 0.020444,
     "end_time": "2025-08-05T16:42:50.935530",
     "exception": false,
     "start_time": "2025-08-05T16:42:50.915086",
     "status": "completed"
    },
    "tags": []
   },
   "outputs": [
    {
     "name": "stdout",
     "output_type": "stream",
     "text": [
      "Dropping 131 rows (13.10%) where mode='drop-non-german'\n"
     ]
    }
   ],
   "source": [
    "n_drop = (~keep_mask).sum() # Calculates how many rows are set to be dropped\n",
    "if n_drop > 0:\n",
    "    pct = n_drop / len(keep_mask) * 100\n",
    "    print(f\"Dropping {n_drop} rows ({pct:.2f}%) where mode='{mode}'\")"
   ]
  },
  {
   "cell_type": "code",
   "execution_count": 28,
   "id": "5fb8eee5",
   "metadata": {
    "execution": {
     "iopub.execute_input": "2025-08-05T16:42:50.960375Z",
     "iopub.status.busy": "2025-08-05T16:42:50.959868Z",
     "iopub.status.idle": "2025-08-05T16:42:50.965715Z",
     "shell.execute_reply": "2025-08-05T16:42:50.964820Z"
    },
    "papermill": {
     "duration": 0.019823,
     "end_time": "2025-08-05T16:42:50.967315",
     "exception": false,
     "start_time": "2025-08-05T16:42:50.947492",
     "status": "completed"
    },
    "tags": []
   },
   "outputs": [],
   "source": [
    "X_train = X_train[keep_mask]"
   ]
  },
  {
   "cell_type": "code",
   "execution_count": 29,
   "id": "b202bb3a",
   "metadata": {
    "execution": {
     "iopub.execute_input": "2025-08-05T16:42:50.992656Z",
     "iopub.status.busy": "2025-08-05T16:42:50.992018Z",
     "iopub.status.idle": "2025-08-05T16:42:50.997591Z",
     "shell.execute_reply": "2025-08-05T16:42:50.996721Z"
    },
    "papermill": {
     "duration": 0.019695,
     "end_time": "2025-08-05T16:42:50.999099",
     "exception": false,
     "start_time": "2025-08-05T16:42:50.979404",
     "status": "completed"
    },
    "tags": []
   },
   "outputs": [],
   "source": [
    "y_train = y_train[keep_mask]"
   ]
  },
  {
   "cell_type": "markdown",
   "id": "493e2ac3",
   "metadata": {
    "papermill": {
     "duration": 0.011901,
     "end_time": "2025-08-05T16:42:51.023286",
     "exception": false,
     "start_time": "2025-08-05T16:42:51.011385",
     "status": "completed"
    },
    "tags": []
   },
   "source": [
    "# Model Training"
   ]
  },
  {
   "cell_type": "code",
   "execution_count": 30,
   "id": "679e1268",
   "metadata": {
    "execution": {
     "iopub.execute_input": "2025-08-05T16:42:51.048537Z",
     "iopub.status.busy": "2025-08-05T16:42:51.047942Z",
     "iopub.status.idle": "2025-08-05T16:42:51.144484Z",
     "shell.execute_reply": "2025-08-05T16:42:51.143547Z"
    },
    "papermill": {
     "duration": 0.110901,
     "end_time": "2025-08-05T16:42:51.146226",
     "exception": false,
     "start_time": "2025-08-05T16:42:51.035325",
     "status": "completed"
    },
    "tags": []
   },
   "outputs": [],
   "source": [
    "from sklearn.linear_model import LogisticRegression\n",
    "from sklearn.ensemble import GradientBoostingClassifier, RandomForestClassifier\n",
    "\n",
    "if (universe[\"model\"] == \"logreg\"):\n",
    "    model = LogisticRegression() #penalty=\"none\", solver=\"newton-cg\", max_iter=1) # include random_state=19 ?\n",
    "elif (universe[\"model\"] == \"penalized_logreg\"):\n",
    "    model = LogisticRegression(penalty=\"l2\", C=0.1) #, solver=\"newton-cg\", max_iter=1)\n",
    "elif (universe[\"model\"] == \"rf\"):\n",
    "    model = RandomForestClassifier() # n_estimators=100, n_jobs=-1\n",
    "elif (universe[\"model\"] == \"gbm\"):\n",
    "    model = GradientBoostingClassifier()\n",
    "elif (universe[\"model\"] == \"elasticnet\"):\n",
    "    model = LogisticRegression(penalty = 'elasticnet', solver = 'saga', l1_ratio = 0.5) # max_iter=5000\n",
    "else:\n",
    "    raise \"Unsupported universe.model\""
   ]
  },
  {
   "cell_type": "code",
   "execution_count": 31,
   "id": "0cc8f744",
   "metadata": {
    "execution": {
     "iopub.execute_input": "2025-08-05T16:42:51.171992Z",
     "iopub.status.busy": "2025-08-05T16:42:51.171362Z",
     "iopub.status.idle": "2025-08-05T16:42:51.177308Z",
     "shell.execute_reply": "2025-08-05T16:42:51.176332Z"
    },
    "papermill": {
     "duration": 0.020124,
     "end_time": "2025-08-05T16:42:51.178790",
     "exception": false,
     "start_time": "2025-08-05T16:42:51.158666",
     "status": "completed"
    },
    "tags": []
   },
   "outputs": [],
   "source": [
    "import numpy as np\n",
    "from sklearn.pipeline import Pipeline\n",
    "from sklearn.preprocessing import StandardScaler\n",
    "\n",
    "model = Pipeline([\n",
    "    #(\"continuous_processor\", continuous_processor),\n",
    "    #(\"categorical_preprocessor\", categorical_preprocessor),\n",
    "    (\"scale\", StandardScaler() if universe[\"scale\"] == \"scale\" else None), \n",
    "    (\"model\", model),\n",
    "])"
   ]
  },
  {
   "cell_type": "code",
   "execution_count": 32,
   "id": "9442c04d",
   "metadata": {
    "execution": {
     "iopub.execute_input": "2025-08-05T16:42:51.204490Z",
     "iopub.status.busy": "2025-08-05T16:42:51.203870Z",
     "iopub.status.idle": "2025-08-05T16:42:52.046750Z",
     "shell.execute_reply": "2025-08-05T16:42:52.045855Z"
    },
    "papermill": {
     "duration": 0.857145,
     "end_time": "2025-08-05T16:42:52.048227",
     "exception": false,
     "start_time": "2025-08-05T16:42:51.191082",
     "status": "completed"
    },
    "tags": []
   },
   "outputs": [
    {
     "data": {
      "text/html": [
       "<style>#sk-container-id-1 {color: black;background-color: white;}#sk-container-id-1 pre{padding: 0;}#sk-container-id-1 div.sk-toggleable {background-color: white;}#sk-container-id-1 label.sk-toggleable__label {cursor: pointer;display: block;width: 100%;margin-bottom: 0;padding: 0.3em;box-sizing: border-box;text-align: center;}#sk-container-id-1 label.sk-toggleable__label-arrow:before {content: \"▸\";float: left;margin-right: 0.25em;color: #696969;}#sk-container-id-1 label.sk-toggleable__label-arrow:hover:before {color: black;}#sk-container-id-1 div.sk-estimator:hover label.sk-toggleable__label-arrow:before {color: black;}#sk-container-id-1 div.sk-toggleable__content {max-height: 0;max-width: 0;overflow: hidden;text-align: left;background-color: #f0f8ff;}#sk-container-id-1 div.sk-toggleable__content pre {margin: 0.2em;color: black;border-radius: 0.25em;background-color: #f0f8ff;}#sk-container-id-1 input.sk-toggleable__control:checked~div.sk-toggleable__content {max-height: 200px;max-width: 100%;overflow: auto;}#sk-container-id-1 input.sk-toggleable__control:checked~label.sk-toggleable__label-arrow:before {content: \"▾\";}#sk-container-id-1 div.sk-estimator input.sk-toggleable__control:checked~label.sk-toggleable__label {background-color: #d4ebff;}#sk-container-id-1 div.sk-label input.sk-toggleable__control:checked~label.sk-toggleable__label {background-color: #d4ebff;}#sk-container-id-1 input.sk-hidden--visually {border: 0;clip: rect(1px 1px 1px 1px);clip: rect(1px, 1px, 1px, 1px);height: 1px;margin: -1px;overflow: hidden;padding: 0;position: absolute;width: 1px;}#sk-container-id-1 div.sk-estimator {font-family: monospace;background-color: #f0f8ff;border: 1px dotted black;border-radius: 0.25em;box-sizing: border-box;margin-bottom: 0.5em;}#sk-container-id-1 div.sk-estimator:hover {background-color: #d4ebff;}#sk-container-id-1 div.sk-parallel-item::after {content: \"\";width: 100%;border-bottom: 1px solid gray;flex-grow: 1;}#sk-container-id-1 div.sk-label:hover label.sk-toggleable__label {background-color: #d4ebff;}#sk-container-id-1 div.sk-serial::before {content: \"\";position: absolute;border-left: 1px solid gray;box-sizing: border-box;top: 0;bottom: 0;left: 50%;z-index: 0;}#sk-container-id-1 div.sk-serial {display: flex;flex-direction: column;align-items: center;background-color: white;padding-right: 0.2em;padding-left: 0.2em;position: relative;}#sk-container-id-1 div.sk-item {position: relative;z-index: 1;}#sk-container-id-1 div.sk-parallel {display: flex;align-items: stretch;justify-content: center;background-color: white;position: relative;}#sk-container-id-1 div.sk-item::before, #sk-container-id-1 div.sk-parallel-item::before {content: \"\";position: absolute;border-left: 1px solid gray;box-sizing: border-box;top: 0;bottom: 0;left: 50%;z-index: -1;}#sk-container-id-1 div.sk-parallel-item {display: flex;flex-direction: column;z-index: 1;position: relative;background-color: white;}#sk-container-id-1 div.sk-parallel-item:first-child::after {align-self: flex-end;width: 50%;}#sk-container-id-1 div.sk-parallel-item:last-child::after {align-self: flex-start;width: 50%;}#sk-container-id-1 div.sk-parallel-item:only-child::after {width: 0;}#sk-container-id-1 div.sk-dashed-wrapped {border: 1px dashed gray;margin: 0 0.4em 0.5em 0.4em;box-sizing: border-box;padding-bottom: 0.4em;background-color: white;}#sk-container-id-1 div.sk-label label {font-family: monospace;font-weight: bold;display: inline-block;line-height: 1.2em;}#sk-container-id-1 div.sk-label-container {text-align: center;}#sk-container-id-1 div.sk-container {/* jupyter's `normalize.less` sets `[hidden] { display: none; }` but bootstrap.min.css set `[hidden] { display: none !important; }` so we also need the `!important` here to be able to override the default hidden behavior on the sphinx rendered scikit-learn.org. See: https://github.com/scikit-learn/scikit-learn/issues/21755 */display: inline-block !important;position: relative;}#sk-container-id-1 div.sk-text-repr-fallback {display: none;}</style><div id=\"sk-container-id-1\" class=\"sk-top-container\"><div class=\"sk-text-repr-fallback\"><pre>Pipeline(steps=[(&#x27;scale&#x27;, None), (&#x27;model&#x27;, GradientBoostingClassifier())])</pre><b>In a Jupyter environment, please rerun this cell to show the HTML representation or trust the notebook. <br />On GitHub, the HTML representation is unable to render, please try loading this page with nbviewer.org.</b></div><div class=\"sk-container\" hidden><div class=\"sk-item sk-dashed-wrapped\"><div class=\"sk-label-container\"><div class=\"sk-label sk-toggleable\"><input class=\"sk-toggleable__control sk-hidden--visually\" id=\"sk-estimator-id-1\" type=\"checkbox\" ><label for=\"sk-estimator-id-1\" class=\"sk-toggleable__label sk-toggleable__label-arrow\">Pipeline</label><div class=\"sk-toggleable__content\"><pre>Pipeline(steps=[(&#x27;scale&#x27;, None), (&#x27;model&#x27;, GradientBoostingClassifier())])</pre></div></div></div><div class=\"sk-serial\"><div class=\"sk-item\"><div class=\"sk-estimator sk-toggleable\"><input class=\"sk-toggleable__control sk-hidden--visually\" id=\"sk-estimator-id-2\" type=\"checkbox\" ><label for=\"sk-estimator-id-2\" class=\"sk-toggleable__label sk-toggleable__label-arrow\">None</label><div class=\"sk-toggleable__content\"><pre>None</pre></div></div></div><div class=\"sk-item\"><div class=\"sk-estimator sk-toggleable\"><input class=\"sk-toggleable__control sk-hidden--visually\" id=\"sk-estimator-id-3\" type=\"checkbox\" ><label for=\"sk-estimator-id-3\" class=\"sk-toggleable__label sk-toggleable__label-arrow\">GradientBoostingClassifier</label><div class=\"sk-toggleable__content\"><pre>GradientBoostingClassifier()</pre></div></div></div></div></div></div></div>"
      ],
      "text/plain": [
       "Pipeline(steps=[('scale', None), ('model', GradientBoostingClassifier())])"
      ]
     },
     "execution_count": 32,
     "metadata": {},
     "output_type": "execute_result"
    }
   ],
   "source": [
    "model.fit(X_train, y_train.values.ravel())"
   ]
  },
  {
   "cell_type": "code",
   "execution_count": 33,
   "id": "af59f8c0",
   "metadata": {
    "execution": {
     "iopub.execute_input": "2025-08-05T16:42:52.075790Z",
     "iopub.status.busy": "2025-08-05T16:42:52.075169Z",
     "iopub.status.idle": "2025-08-05T16:42:52.080900Z",
     "shell.execute_reply": "2025-08-05T16:42:52.079981Z"
    },
    "papermill": {
     "duration": 0.021144,
     "end_time": "2025-08-05T16:42:52.082502",
     "exception": false,
     "start_time": "2025-08-05T16:42:52.061358",
     "status": "completed"
    },
    "tags": []
   },
   "outputs": [],
   "source": [
    "from fairness_multiverse.universe import predict_w_threshold"
   ]
  },
  {
   "cell_type": "code",
   "execution_count": 34,
   "id": "a7cf2e16",
   "metadata": {
    "execution": {
     "iopub.execute_input": "2025-08-05T16:42:52.110491Z",
     "iopub.status.busy": "2025-08-05T16:42:52.109599Z",
     "iopub.status.idle": "2025-08-05T16:42:52.557104Z",
     "shell.execute_reply": "2025-08-05T16:42:52.556049Z"
    },
    "papermill": {
     "duration": 0.462651,
     "end_time": "2025-08-05T16:42:52.558867",
     "exception": false,
     "start_time": "2025-08-05T16:42:52.096216",
     "status": "completed"
    },
    "tags": []
   },
   "outputs": [
    {
     "data": {
      "text/plain": [
       "0.8312228291160406"
      ]
     },
     "execution_count": 34,
     "metadata": {},
     "output_type": "execute_result"
    }
   ],
   "source": [
    "probs_test = model.predict_proba(X_test)\n",
    "\n",
    "'''\n",
    "Below code returns a boolean array (or binary 0/1 array depending on how it’s used) where each element \n",
    "is True if the probability of class 1 is greater than or equal to the threshold, and False otherwise.\n",
    "'''\n",
    "y_pred_default = predict_w_threshold(probs_test, 0.5)\n",
    "\n",
    "from sklearn.metrics import accuracy_score\n",
    "\n",
    "# Naive prediction\n",
    "accuracy_score(y_true = y_true, y_pred = y_pred_default)"
   ]
  },
  {
   "cell_type": "code",
   "execution_count": 35,
   "id": "081964c3",
   "metadata": {
    "execution": {
     "iopub.execute_input": "2025-08-05T16:42:52.587113Z",
     "iopub.status.busy": "2025-08-05T16:42:52.586613Z",
     "iopub.status.idle": "2025-08-05T16:42:53.017595Z",
     "shell.execute_reply": "2025-08-05T16:42:53.016713Z"
    },
    "papermill": {
     "duration": 0.446496,
     "end_time": "2025-08-05T16:42:53.019081",
     "exception": false,
     "start_time": "2025-08-05T16:42:52.572585",
     "status": "completed"
    },
    "tags": []
   },
   "outputs": [
    {
     "data": {
      "text/plain": [
       "array([0, 0, 0, ..., 1, 0, 0])"
      ]
     },
     "execution_count": 35,
     "metadata": {},
     "output_type": "execute_result"
    }
   ],
   "source": [
    "model.predict(X_test)"
   ]
  },
  {
   "cell_type": "markdown",
   "id": "56c9705b",
   "metadata": {
    "papermill": {
     "duration": 0.012833,
     "end_time": "2025-08-05T16:42:53.045830",
     "exception": false,
     "start_time": "2025-08-05T16:42:53.032997",
     "status": "completed"
    },
    "tags": []
   },
   "source": [
    "# Conformal Prediction"
   ]
  },
  {
   "cell_type": "code",
   "execution_count": 36,
   "id": "160ec6ff",
   "metadata": {
    "execution": {
     "iopub.execute_input": "2025-08-05T16:42:53.093737Z",
     "iopub.status.busy": "2025-08-05T16:42:53.093122Z",
     "iopub.status.idle": "2025-08-05T16:42:53.099366Z",
     "shell.execute_reply": "2025-08-05T16:42:53.098021Z"
    },
    "papermill": {
     "duration": 0.038519,
     "end_time": "2025-08-05T16:42:53.101683",
     "exception": false,
     "start_time": "2025-08-05T16:42:53.063164",
     "status": "completed"
    },
    "tags": []
   },
   "outputs": [],
   "source": [
    "# Miscoverage level for conformal prediction (10% allowed error rate => 90% target coverage)\n",
    "alpha = 0.1"
   ]
  },
  {
   "cell_type": "code",
   "execution_count": 37,
   "id": "eadf4555-3dd3-440e-8e35-f82a4ad9f855",
   "metadata": {
    "execution": {
     "iopub.execute_input": "2025-08-05T16:42:53.160751Z",
     "iopub.status.busy": "2025-08-05T16:42:53.159985Z",
     "iopub.status.idle": "2025-08-05T16:42:53.664503Z",
     "shell.execute_reply": "2025-08-05T16:42:53.663608Z"
    },
    "papermill": {
     "duration": 0.536739,
     "end_time": "2025-08-05T16:42:53.666721",
     "exception": false,
     "start_time": "2025-08-05T16:42:53.129982",
     "status": "completed"
    },
    "tags": []
   },
   "outputs": [],
   "source": [
    "probs_calib = model.predict_proba(X_calib)"
   ]
  },
  {
   "cell_type": "code",
   "execution_count": 38,
   "id": "2ed93547-6d5d-4983-9b36-1ecb300da49a",
   "metadata": {
    "execution": {
     "iopub.execute_input": "2025-08-05T16:42:53.734040Z",
     "iopub.status.busy": "2025-08-05T16:42:53.732963Z",
     "iopub.status.idle": "2025-08-05T16:42:53.740494Z",
     "shell.execute_reply": "2025-08-05T16:42:53.739107Z"
    },
    "papermill": {
     "duration": 0.037855,
     "end_time": "2025-08-05T16:42:53.743155",
     "exception": false,
     "start_time": "2025-08-05T16:42:53.705300",
     "status": "completed"
    },
    "tags": []
   },
   "outputs": [],
   "source": [
    "y_calib = y_calib.values.ravel().astype(int)"
   ]
  },
  {
   "cell_type": "code",
   "execution_count": 39,
   "id": "65d1320d-f588-4b38-9072-62af1ae97f7d",
   "metadata": {
    "execution": {
     "iopub.execute_input": "2025-08-05T16:42:53.800642Z",
     "iopub.status.busy": "2025-08-05T16:42:53.799796Z",
     "iopub.status.idle": "2025-08-05T16:42:53.808732Z",
     "shell.execute_reply": "2025-08-05T16:42:53.807619Z"
    },
    "papermill": {
     "duration": 0.036171,
     "end_time": "2025-08-05T16:42:53.810762",
     "exception": false,
     "start_time": "2025-08-05T16:42:53.774591",
     "status": "completed"
    },
    "tags": []
   },
   "outputs": [],
   "source": [
    "from fairness_multiverse.conformal import compute_nc_scores\n",
    "\n",
    "# Compute nonconformity scores on calibration set (1 - probability of true class)\n",
    "nc_scores = compute_nc_scores(probs_calib, y_calib)"
   ]
  },
  {
   "cell_type": "code",
   "execution_count": 40,
   "id": "df3b8ca3-53b7-43d5-9667-7c85da7aeda2",
   "metadata": {
    "execution": {
     "iopub.execute_input": "2025-08-05T16:42:53.866473Z",
     "iopub.status.busy": "2025-08-05T16:42:53.865430Z",
     "iopub.status.idle": "2025-08-05T16:42:53.873487Z",
     "shell.execute_reply": "2025-08-05T16:42:53.872505Z"
    },
    "papermill": {
     "duration": 0.035983,
     "end_time": "2025-08-05T16:42:53.875371",
     "exception": false,
     "start_time": "2025-08-05T16:42:53.839388",
     "status": "completed"
    },
    "tags": []
   },
   "outputs": [],
   "source": [
    "from fairness_multiverse.conformal import find_threshold\n",
    "\n",
    "# Find conformal threshold q_hat for the given alpha (split conformal method)\n",
    "q_hat = find_threshold(nc_scores, alpha)"
   ]
  },
  {
   "cell_type": "code",
   "execution_count": 41,
   "id": "4d29e6c1-0ef6-4aa4-b8fe-4fe79b0d033a",
   "metadata": {
    "execution": {
     "iopub.execute_input": "2025-08-05T16:42:53.926110Z",
     "iopub.status.busy": "2025-08-05T16:42:53.924916Z",
     "iopub.status.idle": "2025-08-05T16:42:53.933432Z",
     "shell.execute_reply": "2025-08-05T16:42:53.932320Z"
    },
    "papermill": {
     "duration": 0.035647,
     "end_time": "2025-08-05T16:42:53.935254",
     "exception": false,
     "start_time": "2025-08-05T16:42:53.899607",
     "status": "completed"
    },
    "tags": []
   },
   "outputs": [
    {
     "data": {
      "text/plain": [
       "0.7748940254133746"
      ]
     },
     "execution_count": 41,
     "metadata": {},
     "output_type": "execute_result"
    }
   ],
   "source": [
    "q_hat"
   ]
  },
  {
   "cell_type": "code",
   "execution_count": 42,
   "id": "92460794-cdac-4be2-ba28-f28c0515a6fb",
   "metadata": {
    "execution": {
     "iopub.execute_input": "2025-08-05T16:42:53.987239Z",
     "iopub.status.busy": "2025-08-05T16:42:53.986280Z",
     "iopub.status.idle": "2025-08-05T16:42:55.515423Z",
     "shell.execute_reply": "2025-08-05T16:42:55.514100Z"
    },
    "papermill": {
     "duration": 1.558675,
     "end_time": "2025-08-05T16:42:55.518262",
     "exception": false,
     "start_time": "2025-08-05T16:42:53.959587",
     "status": "completed"
    },
    "tags": []
   },
   "outputs": [],
   "source": [
    "from fairness_multiverse.conformal import predict_conformal_sets\n",
    "\n",
    "# Generate prediction sets for each test example\n",
    "pred_sets = predict_conformal_sets(model, X_test, q_hat)"
   ]
  },
  {
   "cell_type": "code",
   "execution_count": 43,
   "id": "d90c9a65-e6db-4f5d-80cd-e68fb7e46829",
   "metadata": {
    "execution": {
     "iopub.execute_input": "2025-08-05T16:42:55.585259Z",
     "iopub.status.busy": "2025-08-05T16:42:55.584578Z",
     "iopub.status.idle": "2025-08-05T16:42:55.591282Z",
     "shell.execute_reply": "2025-08-05T16:42:55.590057Z"
    },
    "papermill": {
     "duration": 0.038357,
     "end_time": "2025-08-05T16:42:55.593193",
     "exception": false,
     "start_time": "2025-08-05T16:42:55.554836",
     "status": "completed"
    },
    "tags": []
   },
   "outputs": [],
   "source": [
    "y_true = y_true.squeeze()"
   ]
  },
  {
   "cell_type": "code",
   "execution_count": 44,
   "id": "3a58a54a-1e68-46b9-927a-df01f18aebc8",
   "metadata": {
    "execution": {
     "iopub.execute_input": "2025-08-05T16:42:55.646798Z",
     "iopub.status.busy": "2025-08-05T16:42:55.646113Z",
     "iopub.status.idle": "2025-08-05T16:42:56.951175Z",
     "shell.execute_reply": "2025-08-05T16:42:56.949848Z"
    },
    "papermill": {
     "duration": 1.333876,
     "end_time": "2025-08-05T16:42:56.953378",
     "exception": false,
     "start_time": "2025-08-05T16:42:55.619502",
     "status": "completed"
    },
    "tags": []
   },
   "outputs": [],
   "source": [
    "from fairness_multiverse.conformal import evaluate_sets\n",
    "\n",
    "# Evaluate coverage and average set size on test data\n",
    "metrics = evaluate_sets(pred_sets, y_true)"
   ]
  },
  {
   "cell_type": "markdown",
   "id": "2b569c12-9aaa-4c88-98c9-bbcd0cf3ebb8",
   "metadata": {
    "papermill": {
     "duration": 0.025355,
     "end_time": "2025-08-05T16:42:57.006198",
     "exception": false,
     "start_time": "2025-08-05T16:42:56.980843",
     "status": "completed"
    },
    "tags": []
   },
   "source": [
    "# CP Metrics"
   ]
  },
  {
   "cell_type": "code",
   "execution_count": 45,
   "id": "5ce0a5cb-201f-45a0-ade5-94c7f0bd6095",
   "metadata": {
    "execution": {
     "iopub.execute_input": "2025-08-05T16:42:57.060104Z",
     "iopub.status.busy": "2025-08-05T16:42:57.059214Z",
     "iopub.status.idle": "2025-08-05T16:42:57.067881Z",
     "shell.execute_reply": "2025-08-05T16:42:57.066713Z"
    },
    "papermill": {
     "duration": 0.037959,
     "end_time": "2025-08-05T16:42:57.069710",
     "exception": false,
     "start_time": "2025-08-05T16:42:57.031751",
     "status": "completed"
    },
    "tags": []
   },
   "outputs": [
    {
     "data": {
      "text/plain": [
       "{'coverage': 0.908906476424033, 'avg_size': 1.1941812506966893}"
      ]
     },
     "execution_count": 45,
     "metadata": {},
     "output_type": "execute_result"
    }
   ],
   "source": [
    "metrics"
   ]
  },
  {
   "cell_type": "code",
   "execution_count": 46,
   "id": "9b9a838d-31c9-430b-ae14-12baee460d17",
   "metadata": {
    "execution": {
     "iopub.execute_input": "2025-08-05T16:42:57.124276Z",
     "iopub.status.busy": "2025-08-05T16:42:57.123458Z",
     "iopub.status.idle": "2025-08-05T16:42:57.131055Z",
     "shell.execute_reply": "2025-08-05T16:42:57.129836Z"
    },
    "papermill": {
     "duration": 0.036605,
     "end_time": "2025-08-05T16:42:57.133034",
     "exception": false,
     "start_time": "2025-08-05T16:42:57.096429",
     "status": "completed"
    },
    "tags": []
   },
   "outputs": [],
   "source": [
    "example_universe = universe.copy()\n",
    "universe_training_year = example_universe.get(\"training_year\")\n",
    "universe_training_size = example_universe.get(\"training_size\")\n",
    "universe_scale = example_universe.get(\"scale\")\n",
    "universe_model = example_universe.get(\"model\")\n",
    "universe_exclude_features = example_universe.get(\"exclude_features\")\n",
    "universe_exclude_subgroups = example_universe.get(\"exclude_subgroups\")"
   ]
  },
  {
   "cell_type": "code",
   "execution_count": 47,
   "id": "f4b6a8ac-9dc0-4245-8a91-5b3b5999c4f9",
   "metadata": {
    "execution": {
     "iopub.execute_input": "2025-08-05T16:42:57.187818Z",
     "iopub.status.busy": "2025-08-05T16:42:57.186986Z",
     "iopub.status.idle": "2025-08-05T16:42:57.194153Z",
     "shell.execute_reply": "2025-08-05T16:42:57.193005Z"
    },
    "papermill": {
     "duration": 0.0362,
     "end_time": "2025-08-05T16:42:57.195976",
     "exception": false,
     "start_time": "2025-08-05T16:42:57.159776",
     "status": "completed"
    },
    "tags": []
   },
   "outputs": [],
   "source": [
    "cp_metrics_dict = {\n",
    "    \"universe_id\": [universe_id],\n",
    "    \"universe_training_year\": [universe_training_year],\n",
    "    \"universe_training_size\": [universe_training_size],\n",
    "    \"universe_scale\": [universe_scale],\n",
    "    \"universe_model\": [universe_model],\n",
    "    \"universe_exclude_features\": [universe_exclude_features],\n",
    "    \"universe_exclude_subgroups\": [universe_exclude_subgroups],\n",
    "    \"q_hat\": [q_hat],\n",
    "    \"coverage\": [metrics[\"coverage\"]],\n",
    "    \"avg_size\": [metrics[\"avg_size\"]],\n",
    "}"
   ]
  },
  {
   "cell_type": "code",
   "execution_count": 48,
   "id": "908acbb1-0371-4915-85ca-3fa520d2efe2",
   "metadata": {
    "execution": {
     "iopub.execute_input": "2025-08-05T16:42:57.252960Z",
     "iopub.status.busy": "2025-08-05T16:42:57.252538Z",
     "iopub.status.idle": "2025-08-05T16:42:57.261785Z",
     "shell.execute_reply": "2025-08-05T16:42:57.260544Z"
    },
    "papermill": {
     "duration": 0.041774,
     "end_time": "2025-08-05T16:42:57.263853",
     "exception": false,
     "start_time": "2025-08-05T16:42:57.222079",
     "status": "completed"
    },
    "tags": []
   },
   "outputs": [
    {
     "data": {
      "text/plain": [
       "{'universe_id': ['f608186de5fa13e314930f2a0232f3bd'],\n",
       " 'universe_training_year': ['2010_14'],\n",
       " 'universe_training_size': ['1k'],\n",
       " 'universe_scale': ['do-not-scale'],\n",
       " 'universe_model': ['gbm'],\n",
       " 'universe_exclude_features': ['none'],\n",
       " 'universe_exclude_subgroups': ['drop-non-german'],\n",
       " 'q_hat': [0.7748940254133746],\n",
       " 'coverage': [0.908906476424033],\n",
       " 'avg_size': [1.1941812506966893]}"
      ]
     },
     "execution_count": 48,
     "metadata": {},
     "output_type": "execute_result"
    }
   ],
   "source": [
    "cp_metrics_dict"
   ]
  },
  {
   "cell_type": "code",
   "execution_count": 49,
   "id": "33007efc-14e9-4ec6-97ac-56a455c82265",
   "metadata": {
    "execution": {
     "iopub.execute_input": "2025-08-05T16:42:57.338747Z",
     "iopub.status.busy": "2025-08-05T16:42:57.338193Z",
     "iopub.status.idle": "2025-08-05T16:42:57.346198Z",
     "shell.execute_reply": "2025-08-05T16:42:57.344837Z"
    },
    "papermill": {
     "duration": 0.053052,
     "end_time": "2025-08-05T16:42:57.348447",
     "exception": false,
     "start_time": "2025-08-05T16:42:57.295395",
     "status": "completed"
    },
    "tags": []
   },
   "outputs": [],
   "source": [
    "cp_metrics_df = pd.DataFrame(cp_metrics_dict)"
   ]
  },
  {
   "cell_type": "code",
   "execution_count": 50,
   "id": "db12611b-57b2-4910-b9d0-355adfd6e7bf",
   "metadata": {
    "execution": {
     "iopub.execute_input": "2025-08-05T16:42:57.405548Z",
     "iopub.status.busy": "2025-08-05T16:42:57.404589Z",
     "iopub.status.idle": "2025-08-05T16:42:57.424630Z",
     "shell.execute_reply": "2025-08-05T16:42:57.423560Z"
    },
    "papermill": {
     "duration": 0.050135,
     "end_time": "2025-08-05T16:42:57.427252",
     "exception": false,
     "start_time": "2025-08-05T16:42:57.377117",
     "status": "completed"
    },
    "tags": []
   },
   "outputs": [
    {
     "data": {
      "text/html": [
       "<div>\n",
       "<style scoped>\n",
       "    .dataframe tbody tr th:only-of-type {\n",
       "        vertical-align: middle;\n",
       "    }\n",
       "\n",
       "    .dataframe tbody tr th {\n",
       "        vertical-align: top;\n",
       "    }\n",
       "\n",
       "    .dataframe thead th {\n",
       "        text-align: right;\n",
       "    }\n",
       "</style>\n",
       "<table border=\"1\" class=\"dataframe\">\n",
       "  <thead>\n",
       "    <tr style=\"text-align: right;\">\n",
       "      <th></th>\n",
       "      <th>universe_id</th>\n",
       "      <th>universe_training_year</th>\n",
       "      <th>universe_training_size</th>\n",
       "      <th>universe_scale</th>\n",
       "      <th>universe_model</th>\n",
       "      <th>universe_exclude_features</th>\n",
       "      <th>universe_exclude_subgroups</th>\n",
       "      <th>q_hat</th>\n",
       "      <th>coverage</th>\n",
       "      <th>avg_size</th>\n",
       "    </tr>\n",
       "  </thead>\n",
       "  <tbody>\n",
       "    <tr>\n",
       "      <th>0</th>\n",
       "      <td>f608186de5fa13e314930f2a0232f3bd</td>\n",
       "      <td>2010_14</td>\n",
       "      <td>1k</td>\n",
       "      <td>do-not-scale</td>\n",
       "      <td>gbm</td>\n",
       "      <td>none</td>\n",
       "      <td>drop-non-german</td>\n",
       "      <td>0.774894</td>\n",
       "      <td>0.908906</td>\n",
       "      <td>1.194181</td>\n",
       "    </tr>\n",
       "  </tbody>\n",
       "</table>\n",
       "</div>"
      ],
      "text/plain": [
       "                        universe_id universe_training_year  \\\n",
       "0  f608186de5fa13e314930f2a0232f3bd                2010_14   \n",
       "\n",
       "  universe_training_size universe_scale universe_model  \\\n",
       "0                     1k   do-not-scale            gbm   \n",
       "\n",
       "  universe_exclude_features universe_exclude_subgroups     q_hat  coverage  \\\n",
       "0                      none            drop-non-german  0.774894  0.908906   \n",
       "\n",
       "   avg_size  \n",
       "0  1.194181  "
      ]
     },
     "execution_count": 50,
     "metadata": {},
     "output_type": "execute_result"
    }
   ],
   "source": [
    "cp_metrics_df"
   ]
  },
  {
   "cell_type": "code",
   "execution_count": 51,
   "id": "b7fbde55-a0a1-47e4-9af6-fe4a17fa8c61",
   "metadata": {
    "execution": {
     "iopub.execute_input": "2025-08-05T16:42:57.477986Z",
     "iopub.status.busy": "2025-08-05T16:42:57.477501Z",
     "iopub.status.idle": "2025-08-05T16:42:57.482893Z",
     "shell.execute_reply": "2025-08-05T16:42:57.481860Z"
    },
    "papermill": {
     "duration": 0.03312,
     "end_time": "2025-08-05T16:42:57.484707",
     "exception": false,
     "start_time": "2025-08-05T16:42:57.451587",
     "status": "completed"
    },
    "tags": []
   },
   "outputs": [],
   "source": [
    "# Conditional Coverage & looking at subgroups"
   ]
  },
  {
   "cell_type": "code",
   "execution_count": 52,
   "id": "027ae886-68dd-4141-96c7-805a5450e1ef",
   "metadata": {
    "execution": {
     "iopub.execute_input": "2025-08-05T16:42:57.534692Z",
     "iopub.status.busy": "2025-08-05T16:42:57.534296Z",
     "iopub.status.idle": "2025-08-05T16:42:57.815176Z",
     "shell.execute_reply": "2025-08-05T16:42:57.814283Z"
    },
    "papermill": {
     "duration": 0.308053,
     "end_time": "2025-08-05T16:42:57.816892",
     "exception": false,
     "start_time": "2025-08-05T16:42:57.508839",
     "status": "completed"
    },
    "tags": []
   },
   "outputs": [],
   "source": [
    "from fairness_multiverse.conformal import build_cp_groups\n",
    "\n",
    "cp_groups_df = build_cp_groups(pred_sets, y_true, X_test.index, org_test)\n",
    "#needs universe_id and setting"
   ]
  },
  {
   "cell_type": "code",
   "execution_count": 53,
   "id": "6cbdab96-b2b2-45af-ad54-d0516db2e28d",
   "metadata": {
    "execution": {
     "iopub.execute_input": "2025-08-05T16:42:57.850327Z",
     "iopub.status.busy": "2025-08-05T16:42:57.849901Z",
     "iopub.status.idle": "2025-08-05T16:42:59.897959Z",
     "shell.execute_reply": "2025-08-05T16:42:59.896747Z"
    },
    "papermill": {
     "duration": 2.067843,
     "end_time": "2025-08-05T16:42:59.900081",
     "exception": false,
     "start_time": "2025-08-05T16:42:57.832238",
     "status": "completed"
    },
    "tags": []
   },
   "outputs": [],
   "source": [
    "# Define covered = 1 if true_label is in the predicted set\n",
    "cp_groups_df['covered'] = cp_groups_df.apply(\n",
    "    lambda r: int(r['true_label'] in r['pred_set']),\n",
    "    axis=1\n",
    ")"
   ]
  },
  {
   "cell_type": "code",
   "execution_count": 54,
   "id": "338ff529-1a6b-4b87-a931-8e4788d52aad",
   "metadata": {
    "execution": {
     "iopub.execute_input": "2025-08-05T16:42:59.952332Z",
     "iopub.status.busy": "2025-08-05T16:42:59.951824Z",
     "iopub.status.idle": "2025-08-05T16:42:59.957080Z",
     "shell.execute_reply": "2025-08-05T16:42:59.956026Z"
    },
    "papermill": {
     "duration": 0.032504,
     "end_time": "2025-08-05T16:42:59.958985",
     "exception": false,
     "start_time": "2025-08-05T16:42:59.926481",
     "status": "completed"
    },
    "tags": []
   },
   "outputs": [],
   "source": [
    "#cp_groups_df"
   ]
  },
  {
   "cell_type": "code",
   "execution_count": 55,
   "id": "90032e27-66df-4540-9169-4e89cfbaa758",
   "metadata": {
    "execution": {
     "iopub.execute_input": "2025-08-05T16:43:00.010939Z",
     "iopub.status.busy": "2025-08-05T16:43:00.010203Z",
     "iopub.status.idle": "2025-08-05T16:43:00.023048Z",
     "shell.execute_reply": "2025-08-05T16:43:00.022027Z"
    },
    "papermill": {
     "duration": 0.04092,
     "end_time": "2025-08-05T16:43:00.025043",
     "exception": false,
     "start_time": "2025-08-05T16:42:59.984123",
     "status": "completed"
    },
    "tags": []
   },
   "outputs": [],
   "source": [
    "subgroups = ['frau1','nongerman','nongerman_male','nongerman_female']\n",
    "\n",
    "# Conditional coverage for subgroup==1\n",
    "cond_coverage = {\n",
    "    g: cp_groups_df.loc[cp_groups_df[g]==1, 'covered'].mean()\n",
    "    for g in subgroups\n",
    "}"
   ]
  },
  {
   "cell_type": "code",
   "execution_count": 56,
   "id": "1e348fb1-b9c3-45bc-ba23-f016827a7e0d",
   "metadata": {
    "execution": {
     "iopub.execute_input": "2025-08-05T16:43:00.085415Z",
     "iopub.status.busy": "2025-08-05T16:43:00.085024Z",
     "iopub.status.idle": "2025-08-05T16:43:00.092932Z",
     "shell.execute_reply": "2025-08-05T16:43:00.091798Z"
    },
    "papermill": {
     "duration": 0.040579,
     "end_time": "2025-08-05T16:43:00.095001",
     "exception": false,
     "start_time": "2025-08-05T16:43:00.054422",
     "status": "completed"
    },
    "tags": []
   },
   "outputs": [
    {
     "data": {
      "text/plain": [
       "{'frau1': 0.9077234128588758,\n",
       " 'nongerman': 0.9072026048391624,\n",
       " 'nongerman_male': 0.9238944429433487,\n",
       " 'nongerman_female': 0.8795827123695976}"
      ]
     },
     "execution_count": 56,
     "metadata": {},
     "output_type": "execute_result"
    }
   ],
   "source": [
    "cond_coverage"
   ]
  },
  {
   "cell_type": "code",
   "execution_count": 57,
   "id": "f5093324-c3dd-4d63-bc4c-8d945e5c8bbb",
   "metadata": {
    "execution": {
     "iopub.execute_input": "2025-08-05T16:43:00.154841Z",
     "iopub.status.busy": "2025-08-05T16:43:00.153594Z",
     "iopub.status.idle": "2025-08-05T16:43:00.161990Z",
     "shell.execute_reply": "2025-08-05T16:43:00.160808Z"
    },
    "papermill": {
     "duration": 0.040042,
     "end_time": "2025-08-05T16:43:00.163978",
     "exception": false,
     "start_time": "2025-08-05T16:43:00.123936",
     "status": "completed"
    },
    "tags": []
   },
   "outputs": [],
   "source": [
    "for subgroup, cov in cond_coverage.items():\n",
    "    cp_metrics_df[f\"cov_{subgroup}\"] = cov"
   ]
  },
  {
   "cell_type": "code",
   "execution_count": 58,
   "id": "6e872e10-dbe5-49e8-b554-5030c98ff75d",
   "metadata": {
    "execution": {
     "iopub.execute_input": "2025-08-05T16:43:00.223652Z",
     "iopub.status.busy": "2025-08-05T16:43:00.223223Z",
     "iopub.status.idle": "2025-08-05T16:43:00.245173Z",
     "shell.execute_reply": "2025-08-05T16:43:00.243988Z"
    },
    "papermill": {
     "duration": 0.053959,
     "end_time": "2025-08-05T16:43:00.247091",
     "exception": false,
     "start_time": "2025-08-05T16:43:00.193132",
     "status": "completed"
    },
    "tags": []
   },
   "outputs": [
    {
     "data": {
      "text/html": [
       "<div>\n",
       "<style scoped>\n",
       "    .dataframe tbody tr th:only-of-type {\n",
       "        vertical-align: middle;\n",
       "    }\n",
       "\n",
       "    .dataframe tbody tr th {\n",
       "        vertical-align: top;\n",
       "    }\n",
       "\n",
       "    .dataframe thead th {\n",
       "        text-align: right;\n",
       "    }\n",
       "</style>\n",
       "<table border=\"1\" class=\"dataframe\">\n",
       "  <thead>\n",
       "    <tr style=\"text-align: right;\">\n",
       "      <th></th>\n",
       "      <th>universe_id</th>\n",
       "      <th>universe_training_year</th>\n",
       "      <th>universe_training_size</th>\n",
       "      <th>universe_scale</th>\n",
       "      <th>universe_model</th>\n",
       "      <th>universe_exclude_features</th>\n",
       "      <th>universe_exclude_subgroups</th>\n",
       "      <th>q_hat</th>\n",
       "      <th>coverage</th>\n",
       "      <th>avg_size</th>\n",
       "      <th>cov_frau1</th>\n",
       "      <th>cov_nongerman</th>\n",
       "      <th>cov_nongerman_male</th>\n",
       "      <th>cov_nongerman_female</th>\n",
       "    </tr>\n",
       "  </thead>\n",
       "  <tbody>\n",
       "    <tr>\n",
       "      <th>0</th>\n",
       "      <td>f608186de5fa13e314930f2a0232f3bd</td>\n",
       "      <td>2010_14</td>\n",
       "      <td>1k</td>\n",
       "      <td>do-not-scale</td>\n",
       "      <td>gbm</td>\n",
       "      <td>none</td>\n",
       "      <td>drop-non-german</td>\n",
       "      <td>0.774894</td>\n",
       "      <td>0.908906</td>\n",
       "      <td>1.194181</td>\n",
       "      <td>0.907723</td>\n",
       "      <td>0.907203</td>\n",
       "      <td>0.923894</td>\n",
       "      <td>0.879583</td>\n",
       "    </tr>\n",
       "  </tbody>\n",
       "</table>\n",
       "</div>"
      ],
      "text/plain": [
       "                        universe_id universe_training_year  \\\n",
       "0  f608186de5fa13e314930f2a0232f3bd                2010_14   \n",
       "\n",
       "  universe_training_size universe_scale universe_model  \\\n",
       "0                     1k   do-not-scale            gbm   \n",
       "\n",
       "  universe_exclude_features universe_exclude_subgroups     q_hat  coverage  \\\n",
       "0                      none            drop-non-german  0.774894  0.908906   \n",
       "\n",
       "   avg_size  cov_frau1  cov_nongerman  cov_nongerman_male  \\\n",
       "0  1.194181   0.907723       0.907203            0.923894   \n",
       "\n",
       "   cov_nongerman_female  \n",
       "0              0.879583  "
      ]
     },
     "execution_count": 58,
     "metadata": {},
     "output_type": "execute_result"
    }
   ],
   "source": [
    "cp_metrics_df"
   ]
  },
  {
   "cell_type": "markdown",
   "id": "33774451",
   "metadata": {
    "papermill": {
     "duration": 0.02536,
     "end_time": "2025-08-05T16:43:00.302392",
     "exception": false,
     "start_time": "2025-08-05T16:43:00.277032",
     "status": "completed"
    },
    "tags": []
   },
   "source": [
    "# (Fairness) Metrics"
   ]
  },
  {
   "cell_type": "code",
   "execution_count": 59,
   "id": "debc5d62",
   "metadata": {
    "execution": {
     "iopub.execute_input": "2025-08-05T16:43:00.354801Z",
     "iopub.status.busy": "2025-08-05T16:43:00.353860Z",
     "iopub.status.idle": "2025-08-05T16:43:00.378827Z",
     "shell.execute_reply": "2025-08-05T16:43:00.377397Z"
    },
    "papermill": {
     "duration": 0.053959,
     "end_time": "2025-08-05T16:43:00.381328",
     "exception": false,
     "start_time": "2025-08-05T16:43:00.327369",
     "status": "completed"
    },
    "tags": []
   },
   "outputs": [],
   "source": [
    "# do I need to include maxdeutsch1.missing?\n",
    "\n",
    "import numpy as np\n",
    "\n",
    "colname_to_bin = \"maxdeutsch1\"\n",
    "majority_value = org_train[colname_to_bin].mode()[0]\n",
    "\n",
    "org_test[\"majmin\"] = np.where(org_test[colname_to_bin] == majority_value, \"majority\", \"minority\")"
   ]
  },
  {
   "cell_type": "code",
   "execution_count": 60,
   "id": "06a50de5",
   "metadata": {
    "execution": {
     "iopub.execute_input": "2025-08-05T16:43:00.442708Z",
     "iopub.status.busy": "2025-08-05T16:43:00.441725Z",
     "iopub.status.idle": "2025-08-05T16:43:03.854330Z",
     "shell.execute_reply": "2025-08-05T16:43:03.853419Z"
    },
    "papermill": {
     "duration": 3.444966,
     "end_time": "2025-08-05T16:43:03.856074",
     "exception": false,
     "start_time": "2025-08-05T16:43:00.411108",
     "status": "completed"
    },
    "tags": []
   },
   "outputs": [],
   "source": [
    "example_universe = universe.copy()\n",
    "example_universe[\"cutoff\"] = example_universe[\"cutoff\"][0]\n",
    "example_universe[\"eval_fairness_grouping\"] = example_universe[\"eval_fairness_grouping\"][0]\n",
    "fairness_dict, metric_frame = universe_analysis.compute_metrics(\n",
    "    example_universe,\n",
    "    y_pred_prob=probs_test,\n",
    "    y_test=y_true,\n",
    "    org_test=org_test,\n",
    ")"
   ]
  },
  {
   "cell_type": "markdown",
   "id": "f95d4e02",
   "metadata": {
    "papermill": {
     "duration": 0.014092,
     "end_time": "2025-08-05T16:43:03.885493",
     "exception": false,
     "start_time": "2025-08-05T16:43:03.871401",
     "status": "completed"
    },
    "tags": []
   },
   "source": [
    "# Overall"
   ]
  },
  {
   "cell_type": "markdown",
   "id": "bdee4871",
   "metadata": {
    "papermill": {
     "duration": 0.014211,
     "end_time": "2025-08-05T16:43:03.913836",
     "exception": false,
     "start_time": "2025-08-05T16:43:03.899625",
     "status": "completed"
    },
    "tags": []
   },
   "source": [
    "Fairness\n",
    "Main fairness target: Equalized Odds. Seems to be a better fit than equal opportunity, since we're not only interested in Y = 1. Seems to be a better fit than demographic parity, since we also care about accuracy, not just equal distribution of preds.\n",
    "\n",
    "Pick column for computation of fairness metrics\n",
    "\n",
    "Performance\n",
    "Overall performance measures, most interesting in relation to the measures split by group below"
   ]
  },
  {
   "cell_type": "code",
   "execution_count": 61,
   "id": "c4e067c6",
   "metadata": {
    "execution": {
     "iopub.execute_input": "2025-08-05T16:43:03.944186Z",
     "iopub.status.busy": "2025-08-05T16:43:03.943597Z",
     "iopub.status.idle": "2025-08-05T16:43:03.952335Z",
     "shell.execute_reply": "2025-08-05T16:43:03.951527Z"
    },
    "papermill": {
     "duration": 0.025861,
     "end_time": "2025-08-05T16:43:03.954072",
     "exception": false,
     "start_time": "2025-08-05T16:43:03.928211",
     "status": "completed"
    },
    "tags": []
   },
   "outputs": [
    {
     "data": {
      "text/plain": [
       "accuracy                   0.222796\n",
       "balanced accuracy          0.545097\n",
       "f1                         0.244171\n",
       "precision                  0.139486\n",
       "false positive rate        0.888430\n",
       "false negative rate        0.021376\n",
       "selection rate             0.900000\n",
       "count                  89710.000000\n",
       "dtype: float64"
      ]
     },
     "execution_count": 61,
     "metadata": {},
     "output_type": "execute_result"
    }
   ],
   "source": [
    "metric_frame.overall"
   ]
  },
  {
   "cell_type": "markdown",
   "id": "e968fe9d",
   "metadata": {
    "papermill": {
     "duration": 0.014763,
     "end_time": "2025-08-05T16:43:03.985157",
     "exception": false,
     "start_time": "2025-08-05T16:43:03.970394",
     "status": "completed"
    },
    "tags": []
   },
   "source": [
    "By Group"
   ]
  },
  {
   "cell_type": "code",
   "execution_count": 62,
   "id": "ec325bce",
   "metadata": {
    "execution": {
     "iopub.execute_input": "2025-08-05T16:43:04.015502Z",
     "iopub.status.busy": "2025-08-05T16:43:04.014660Z",
     "iopub.status.idle": "2025-08-05T16:43:04.029262Z",
     "shell.execute_reply": "2025-08-05T16:43:04.028177Z"
    },
    "papermill": {
     "duration": 0.031676,
     "end_time": "2025-08-05T16:43:04.031085",
     "exception": false,
     "start_time": "2025-08-05T16:43:03.999409",
     "status": "completed"
    },
    "tags": []
   },
   "outputs": [
    {
     "data": {
      "text/html": [
       "<div>\n",
       "<style scoped>\n",
       "    .dataframe tbody tr th:only-of-type {\n",
       "        vertical-align: middle;\n",
       "    }\n",
       "\n",
       "    .dataframe tbody tr th {\n",
       "        vertical-align: top;\n",
       "    }\n",
       "\n",
       "    .dataframe thead th {\n",
       "        text-align: right;\n",
       "    }\n",
       "</style>\n",
       "<table border=\"1\" class=\"dataframe\">\n",
       "  <thead>\n",
       "    <tr style=\"text-align: right;\">\n",
       "      <th></th>\n",
       "      <th>accuracy</th>\n",
       "      <th>balanced accuracy</th>\n",
       "      <th>f1</th>\n",
       "      <th>precision</th>\n",
       "      <th>false positive rate</th>\n",
       "      <th>false negative rate</th>\n",
       "      <th>selection rate</th>\n",
       "      <th>count</th>\n",
       "    </tr>\n",
       "    <tr>\n",
       "      <th>majmin</th>\n",
       "      <th></th>\n",
       "      <th></th>\n",
       "      <th></th>\n",
       "      <th></th>\n",
       "      <th></th>\n",
       "      <th></th>\n",
       "      <th></th>\n",
       "      <th></th>\n",
       "    </tr>\n",
       "  </thead>\n",
       "  <tbody>\n",
       "    <tr>\n",
       "      <th>majority</th>\n",
       "      <td>0.239844</td>\n",
       "      <td>0.552035</td>\n",
       "      <td>0.253422</td>\n",
       "      <td>0.145608</td>\n",
       "      <td>0.872297</td>\n",
       "      <td>0.023632</td>\n",
       "      <td>0.886049</td>\n",
       "      <td>69170.0</td>\n",
       "    </tr>\n",
       "    <tr>\n",
       "      <th>minority</th>\n",
       "      <td>0.165385</td>\n",
       "      <td>0.522804</td>\n",
       "      <td>0.214309</td>\n",
       "      <td>0.120199</td>\n",
       "      <td>0.941724</td>\n",
       "      <td>0.012669</td>\n",
       "      <td>0.946981</td>\n",
       "      <td>20540.0</td>\n",
       "    </tr>\n",
       "  </tbody>\n",
       "</table>\n",
       "</div>"
      ],
      "text/plain": [
       "          accuracy  balanced accuracy        f1  precision  \\\n",
       "majmin                                                       \n",
       "majority  0.239844           0.552035  0.253422   0.145608   \n",
       "minority  0.165385           0.522804  0.214309   0.120199   \n",
       "\n",
       "          false positive rate  false negative rate  selection rate    count  \n",
       "majmin                                                                       \n",
       "majority             0.872297             0.023632        0.886049  69170.0  \n",
       "minority             0.941724             0.012669        0.946981  20540.0  "
      ]
     },
     "execution_count": 62,
     "metadata": {},
     "output_type": "execute_result"
    }
   ],
   "source": [
    "metric_frame.by_group"
   ]
  },
  {
   "cell_type": "code",
   "execution_count": 63,
   "id": "a9ddbe63",
   "metadata": {
    "execution": {
     "iopub.execute_input": "2025-08-05T16:43:04.063268Z",
     "iopub.status.busy": "2025-08-05T16:43:04.062265Z",
     "iopub.status.idle": "2025-08-05T16:43:06.819539Z",
     "shell.execute_reply": "2025-08-05T16:43:06.818547Z"
    },
    "papermill": {
     "duration": 2.774828,
     "end_time": "2025-08-05T16:43:06.821142",
     "exception": false,
     "start_time": "2025-08-05T16:43:04.046314",
     "status": "completed"
    },
    "tags": []
   },
   "outputs": [
    {
     "data": {
      "text/plain": [
       "array([[<Axes: title={'center': 'accuracy'}, xlabel='majmin'>,\n",
       "        <Axes: title={'center': 'balanced accuracy'}, xlabel='majmin'>,\n",
       "        <Axes: title={'center': 'f1'}, xlabel='majmin'>],\n",
       "       [<Axes: title={'center': 'precision'}, xlabel='majmin'>,\n",
       "        <Axes: title={'center': 'false positive rate'}, xlabel='majmin'>,\n",
       "        <Axes: title={'center': 'false negative rate'}, xlabel='majmin'>],\n",
       "       [<Axes: title={'center': 'selection rate'}, xlabel='majmin'>,\n",
       "        <Axes: title={'center': 'count'}, xlabel='majmin'>,\n",
       "        <Axes: xlabel='majmin'>]], dtype=object)"
      ]
     },
     "execution_count": 63,
     "metadata": {},
     "output_type": "execute_result"
    },
    {
     "data": {
      "image/png": "[encoded data removed]",
      "text/plain": [
       "<Figure size 1200x800 with 9 Axes>"
      ]
     },
     "metadata": {},
     "output_type": "display_data"
    }
   ],
   "source": [
    "# In a graphic\n",
    "metric_frame.by_group.plot.bar(\n",
    "    subplots=True,\n",
    "    layout=[3, 3],\n",
    "    legend=False,\n",
    "    figsize=[12, 8],\n",
    "    title=\"Show all metrics\",\n",
    ")"
   ]
  },
  {
   "cell_type": "markdown",
   "id": "f57a0bac",
   "metadata": {
    "papermill": {
     "duration": 0.028431,
     "end_time": "2025-08-05T16:43:06.881679",
     "exception": false,
     "start_time": "2025-08-05T16:43:06.853248",
     "status": "completed"
    },
    "tags": []
   },
   "source": [
    "# Final Output"
   ]
  },
  {
   "cell_type": "code",
   "execution_count": 64,
   "id": "96d280a3",
   "metadata": {
    "execution": {
     "iopub.execute_input": "2025-08-05T16:43:06.941123Z",
     "iopub.status.busy": "2025-08-05T16:43:06.940460Z",
     "iopub.status.idle": "2025-08-05T16:43:06.950698Z",
     "shell.execute_reply": "2025-08-05T16:43:06.949543Z"
    },
    "papermill": {
     "duration": 0.042837,
     "end_time": "2025-08-05T16:43:06.952581",
     "exception": false,
     "start_time": "2025-08-05T16:43:06.909744",
     "status": "completed"
    },
    "tags": []
   },
   "outputs": [
    {
     "data": {
      "text/plain": [
       "4"
      ]
     },
     "execution_count": 64,
     "metadata": {},
     "output_type": "execute_result"
    }
   ],
   "source": [
    "sub_universes = universe_analysis.generate_sub_universes()\n",
    "len(sub_universes)"
   ]
  },
  {
   "cell_type": "code",
   "execution_count": 65,
   "id": "92adf7ba",
   "metadata": {
    "execution": {
     "iopub.execute_input": "2025-08-05T16:43:07.014939Z",
     "iopub.status.busy": "2025-08-05T16:43:07.014062Z",
     "iopub.status.idle": "2025-08-05T16:43:07.021188Z",
     "shell.execute_reply": "2025-08-05T16:43:07.020043Z"
    },
    "papermill": {
     "duration": 0.040543,
     "end_time": "2025-08-05T16:43:07.023089",
     "exception": false,
     "start_time": "2025-08-05T16:43:06.982546",
     "status": "completed"
    },
    "tags": []
   },
   "outputs": [],
   "source": [
    "def filter_sub_universe_data(sub_universe, org_test):\n",
    "    # Keep all rows — no filtering\n",
    "    keep_rows_mask = np.ones(org_test.shape[0], dtype=bool)\n",
    "\n",
    "    print(f\"[INFO] Keeping all rows: {keep_rows_mask.sum()} rows retained.\")\n",
    "    return keep_rows_mask"
   ]
  },
  {
   "cell_type": "code",
   "execution_count": 66,
   "id": "4a759155",
   "metadata": {
    "execution": {
     "iopub.execute_input": "2025-08-05T16:43:07.078269Z",
     "iopub.status.busy": "2025-08-05T16:43:07.077356Z",
     "iopub.status.idle": "2025-08-05T16:43:17.858660Z",
     "shell.execute_reply": "2025-08-05T16:43:17.857266Z"
    },
    "papermill": {
     "duration": 10.810352,
     "end_time": "2025-08-05T16:43:17.860748",
     "exception": false,
     "start_time": "2025-08-05T16:43:07.050396",
     "status": "completed"
    },
    "tags": []
   },
   "outputs": [
    {
     "name": "stdout",
     "output_type": "stream",
     "text": [
      "Stopping execution_time clock.\n",
      "[INFO] Keeping all rows: 89710 rows retained.\n"
     ]
    },
    {
     "name": "stdout",
     "output_type": "stream",
     "text": [
      "[INFO] Keeping all rows: 89710 rows retained.\n"
     ]
    },
    {
     "name": "stdout",
     "output_type": "stream",
     "text": [
      "[INFO] Keeping all rows: 89710 rows retained.\n"
     ]
    },
    {
     "name": "stdout",
     "output_type": "stream",
     "text": [
      "[INFO] Keeping all rows: 89710 rows retained.\n"
     ]
    },
    {
     "data": {
      "text/html": [
       "<div>\n",
       "<style scoped>\n",
       "    .dataframe tbody tr th:only-of-type {\n",
       "        vertical-align: middle;\n",
       "    }\n",
       "\n",
       "    .dataframe tbody tr th {\n",
       "        vertical-align: top;\n",
       "    }\n",
       "\n",
       "    .dataframe thead th {\n",
       "        text-align: right;\n",
       "    }\n",
       "</style>\n",
       "<table border=\"1\" class=\"dataframe\">\n",
       "  <thead>\n",
       "    <tr style=\"text-align: right;\">\n",
       "      <th></th>\n",
       "      <th>run_no</th>\n",
       "      <th>universe_id</th>\n",
       "      <th>universe_settings</th>\n",
       "      <th>execution_time</th>\n",
       "      <th>test_size_n</th>\n",
       "      <th>test_size_frac</th>\n",
       "      <th>fair_main_equalized_odds_difference</th>\n",
       "      <th>fair_main_equalized_odds_ratio</th>\n",
       "      <th>fair_main_demographic_parity_difference</th>\n",
       "      <th>fair_main_demographic_parity_ratio</th>\n",
       "      <th>...</th>\n",
       "      <th>perf_grp_precision_0</th>\n",
       "      <th>perf_grp_precision_1</th>\n",
       "      <th>perf_grp_false positive rate_0</th>\n",
       "      <th>perf_grp_false positive rate_1</th>\n",
       "      <th>perf_grp_false negative rate_0</th>\n",
       "      <th>perf_grp_false negative rate_1</th>\n",
       "      <th>perf_grp_selection rate_0</th>\n",
       "      <th>perf_grp_selection rate_1</th>\n",
       "      <th>perf_grp_count_0</th>\n",
       "      <th>perf_grp_count_1</th>\n",
       "    </tr>\n",
       "  </thead>\n",
       "  <tbody>\n",
       "    <tr>\n",
       "      <th>0</th>\n",
       "      <td>15</td>\n",
       "      <td>f608186de5fa13e314930f2a0232f3bd</td>\n",
       "      <td>{\"cutoff\": \"quantile_0.1\", \"eval_fairness_grou...</td>\n",
       "      <td>32.092692</td>\n",
       "      <td>89710</td>\n",
       "      <td>1.0</td>\n",
       "      <td>0.069426</td>\n",
       "      <td>0.926277</td>\n",
       "      <td>0.060933</td>\n",
       "      <td>0.935656</td>\n",
       "      <td>...</td>\n",
       "      <td>NaN</td>\n",
       "      <td>NaN</td>\n",
       "      <td>NaN</td>\n",
       "      <td>NaN</td>\n",
       "      <td>NaN</td>\n",
       "      <td>NaN</td>\n",
       "      <td>NaN</td>\n",
       "      <td>NaN</td>\n",
       "      <td>NaN</td>\n",
       "      <td>NaN</td>\n",
       "    </tr>\n",
       "    <tr>\n",
       "      <th>0</th>\n",
       "      <td>15</td>\n",
       "      <td>f608186de5fa13e314930f2a0232f3bd</td>\n",
       "      <td>{\"cutoff\": \"quantile_0.1\", \"eval_fairness_grou...</td>\n",
       "      <td>32.092692</td>\n",
       "      <td>89710</td>\n",
       "      <td>1.0</td>\n",
       "      <td>0.069426</td>\n",
       "      <td>0.926277</td>\n",
       "      <td>0.060933</td>\n",
       "      <td>0.935656</td>\n",
       "      <td>...</td>\n",
       "      <td>0.120199</td>\n",
       "      <td>0.145608</td>\n",
       "      <td>0.941724</td>\n",
       "      <td>0.872297</td>\n",
       "      <td>0.012669</td>\n",
       "      <td>0.023632</td>\n",
       "      <td>0.946981</td>\n",
       "      <td>0.886049</td>\n",
       "      <td>20540.0</td>\n",
       "      <td>69170.0</td>\n",
       "    </tr>\n",
       "    <tr>\n",
       "      <th>0</th>\n",
       "      <td>15</td>\n",
       "      <td>f608186de5fa13e314930f2a0232f3bd</td>\n",
       "      <td>{\"cutoff\": \"quantile_0.25\", \"eval_fairness_gro...</td>\n",
       "      <td>32.092692</td>\n",
       "      <td>89710</td>\n",
       "      <td>1.0</td>\n",
       "      <td>0.149818</td>\n",
       "      <td>0.821523</td>\n",
       "      <td>0.133428</td>\n",
       "      <td>0.843555</td>\n",
       "      <td>...</td>\n",
       "      <td>NaN</td>\n",
       "      <td>NaN</td>\n",
       "      <td>NaN</td>\n",
       "      <td>NaN</td>\n",
       "      <td>NaN</td>\n",
       "      <td>NaN</td>\n",
       "      <td>NaN</td>\n",
       "      <td>NaN</td>\n",
       "      <td>NaN</td>\n",
       "      <td>NaN</td>\n",
       "    </tr>\n",
       "    <tr>\n",
       "      <th>0</th>\n",
       "      <td>15</td>\n",
       "      <td>f608186de5fa13e314930f2a0232f3bd</td>\n",
       "      <td>{\"cutoff\": \"quantile_0.25\", \"eval_fairness_gro...</td>\n",
       "      <td>32.092692</td>\n",
       "      <td>89710</td>\n",
       "      <td>1.0</td>\n",
       "      <td>0.149818</td>\n",
       "      <td>0.821523</td>\n",
       "      <td>0.133428</td>\n",
       "      <td>0.843555</td>\n",
       "      <td>...</td>\n",
       "      <td>0.129238</td>\n",
       "      <td>0.168134</td>\n",
       "      <td>0.839423</td>\n",
       "      <td>0.689605</td>\n",
       "      <td>0.043919</td>\n",
       "      <td>0.084573</td>\n",
       "      <td>0.852872</td>\n",
       "      <td>0.719445</td>\n",
       "      <td>20540.0</td>\n",
       "      <td>69170.0</td>\n",
       "    </tr>\n",
       "  </tbody>\n",
       "</table>\n",
       "<p>4 rows × 50 columns</p>\n",
       "</div>"
      ],
      "text/plain": [
       "  run_no                       universe_id  \\\n",
       "0     15  f608186de5fa13e314930f2a0232f3bd   \n",
       "0     15  f608186de5fa13e314930f2a0232f3bd   \n",
       "0     15  f608186de5fa13e314930f2a0232f3bd   \n",
       "0     15  f608186de5fa13e314930f2a0232f3bd   \n",
       "\n",
       "                                   universe_settings  execution_time  \\\n",
       "0  {\"cutoff\": \"quantile_0.1\", \"eval_fairness_grou...       32.092692   \n",
       "0  {\"cutoff\": \"quantile_0.1\", \"eval_fairness_grou...       32.092692   \n",
       "0  {\"cutoff\": \"quantile_0.25\", \"eval_fairness_gro...       32.092692   \n",
       "0  {\"cutoff\": \"quantile_0.25\", \"eval_fairness_gro...       32.092692   \n",
       "\n",
       "   test_size_n  test_size_frac  fair_main_equalized_odds_difference  \\\n",
       "0        89710             1.0                             0.069426   \n",
       "0        89710             1.0                             0.069426   \n",
       "0        89710             1.0                             0.149818   \n",
       "0        89710             1.0                             0.149818   \n",
       "\n",
       "   fair_main_equalized_odds_ratio  fair_main_demographic_parity_difference  \\\n",
       "0                        0.926277                                 0.060933   \n",
       "0                        0.926277                                 0.060933   \n",
       "0                        0.821523                                 0.133428   \n",
       "0                        0.821523                                 0.133428   \n",
       "\n",
       "   fair_main_demographic_parity_ratio  ...  perf_grp_precision_0  \\\n",
       "0                            0.935656  ...                   NaN   \n",
       "0                            0.935656  ...              0.120199   \n",
       "0                            0.843555  ...                   NaN   \n",
       "0                            0.843555  ...              0.129238   \n",
       "\n",
       "   perf_grp_precision_1  perf_grp_false positive rate_0  \\\n",
       "0                   NaN                             NaN   \n",
       "0              0.145608                        0.941724   \n",
       "0                   NaN                             NaN   \n",
       "0              0.168134                        0.839423   \n",
       "\n",
       "   perf_grp_false positive rate_1  perf_grp_false negative rate_0  \\\n",
       "0                             NaN                             NaN   \n",
       "0                        0.872297                        0.012669   \n",
       "0                             NaN                             NaN   \n",
       "0                        0.689605                        0.043919   \n",
       "\n",
       "   perf_grp_false negative rate_1  perf_grp_selection rate_0  \\\n",
       "0                             NaN                        NaN   \n",
       "0                        0.023632                   0.946981   \n",
       "0                             NaN                        NaN   \n",
       "0                        0.084573                   0.852872   \n",
       "\n",
       "   perf_grp_selection rate_1  perf_grp_count_0  perf_grp_count_1  \n",
       "0                        NaN               NaN               NaN  \n",
       "0                   0.886049           20540.0           69170.0  \n",
       "0                        NaN               NaN               NaN  \n",
       "0                   0.719445           20540.0           69170.0  \n",
       "\n",
       "[4 rows x 50 columns]"
      ]
     },
     "execution_count": 66,
     "metadata": {},
     "output_type": "execute_result"
    }
   ],
   "source": [
    "final_output = universe_analysis.generate_final_output(\n",
    "    y_pred_prob=probs_test,\n",
    "    y_test=y_true,\n",
    "    org_test=org_test,\n",
    "    filter_data=filter_sub_universe_data,\n",
    "    cp_metrics_df=cp_metrics_df,\n",
    "    save=True,\n",
    ")\n",
    "final_output"
   ]
  }
 ],
 "metadata": {
  "celltoolbar": "Tags",
  "kernelspec": {
   "display_name": "Python (CMA Fairness)",
   "language": "python",
   "name": "cma_fair_env"
  },
  "language_info": {
   "codemirror_mode": {
    "name": "ipython",
    "version": 3
   },
   "file_extension": ".py",
   "mimetype": "text/x-python",
   "name": "python",
   "nbconvert_exporter": "python",
   "pygments_lexer": "ipython3",
   "version": "3.10.12"
  },
  "papermill": {
   "default_parameters": {},
   "duration": 47.177243,
   "end_time": "2025-08-05T16:43:18.818019",
   "environment_variables": {},
   "exception": null,
   "input_path": "universe_analysis.ipynb",
   "output_path": "output/runs/15/notebooks/m_15-f608186de5fa13e314930f2a0232f3bd.ipynb",
   "parameters": {
    "output_dir": "output",
    "run_no": "15",
    "seed": "2023",
    "universe": "{\"cutoff\": [\"quantile_0.1\", \"quantile_0.25\"], \"eval_fairness_grouping\": [\"majority-minority\", \"nationality-all\"], \"exclude_features\": \"none\", \"exclude_subgroups\": \"drop-non-german\", \"model\": \"gbm\", \"scale\": \"do-not-scale\", \"training_size\": \"1k\", \"training_year\": \"2010_14\"}",
    "universe_id": "f608186de5fa13e314930f2a0232f3bd"
   },
   "start_time": "2025-08-05T16:42:31.640776",
   "version": "2.6.0"
  }
 },
 "nbformat": 4,
 "nbformat_minor": 5
}