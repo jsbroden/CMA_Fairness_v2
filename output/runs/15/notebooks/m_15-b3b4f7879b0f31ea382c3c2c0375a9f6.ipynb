{
 "cells": [
  {
   "cell_type": "code",
   "execution_count": 1,
   "id": "f159f837-637b-42ba-96b5-ec9a68c44524",
   "metadata": {
    "execution": {
     "iopub.execute_input": "2025-08-05T16:40:46.202799Z",
     "iopub.status.busy": "2025-08-05T16:40:46.202086Z",
     "iopub.status.idle": "2025-08-05T16:40:46.216225Z",
     "shell.execute_reply": "2025-08-05T16:40:46.215201Z"
    },
    "papermill": {
     "duration": 0.033164,
     "end_time": "2025-08-05T16:40:46.217903",
     "exception": false,
     "start_time": "2025-08-05T16:40:46.184739",
     "status": "completed"
    },
    "tags": []
   },
   "outputs": [
    {
     "name": "stdout",
     "output_type": "stream",
     "text": [
      "/dss/dsshome1/0C/ra93lal2/cma/CMA_Fairness_v2\n"
     ]
    },
    {
     "name": "stderr",
     "output_type": "stream",
     "text": [
      "/dss/dsshome1/0C/ra93lal2/.local/share/virtualenvs/CMA_Fairness_v2-3j10GkSs/lib/python3.10/site-packages/IPython/core/magics/osm.py:393: UserWarning: This is now an optional IPython functionality, using bookmarks requires you to install the `pickleshare` library.\n",
      "  bkms = self.shell.db.get('bookmarks', {})\n",
      "/dss/dsshome1/0C/ra93lal2/.local/share/virtualenvs/CMA_Fairness_v2-3j10GkSs/lib/python3.10/site-packages/IPython/core/magics/osm.py:417: UserWarning: This is now an optional IPython functionality, setting dhist requires you to install the `pickleshare` library.\n",
      "  self.shell.db['dhist'] = compress_dhist(dhist)[-100:]\n"
     ]
    }
   ],
   "source": [
    "%cd ~/cma/CMA_Fairness_v2"
   ]
  },
  {
   "cell_type": "markdown",
   "id": "de2603b9",
   "metadata": {
    "papermill": {
     "duration": 0.01575,
     "end_time": "2025-08-05T16:40:46.250451",
     "exception": false,
     "start_time": "2025-08-05T16:40:46.234701",
     "status": "completed"
    },
    "tags": []
   },
   "source": [
    "The following cell holds the definition of our parameters, these values can be overriden by rendering the with e.g. the following command:\n",
    "\n",
    "papermill -p alpha 0.2 -p ratio 0.3 universe_analysis.ipynb output/test_run.ipynb"
   ]
  },
  {
   "cell_type": "code",
   "execution_count": 2,
   "id": "a80968a0-40bb-4fa9-85ef-2d5eefb01975",
   "metadata": {
    "execution": {
     "iopub.execute_input": "2025-08-05T16:40:46.283064Z",
     "iopub.status.busy": "2025-08-05T16:40:46.282258Z",
     "iopub.status.idle": "2025-08-05T16:40:46.287908Z",
     "shell.execute_reply": "2025-08-05T16:40:46.286947Z"
    },
    "papermill": {
     "duration": 0.023931,
     "end_time": "2025-08-05T16:40:46.289753",
     "exception": false,
     "start_time": "2025-08-05T16:40:46.265822",
     "status": "completed"
    },
    "tags": []
   },
   "outputs": [
    {
     "name": "stdout",
     "output_type": "stream",
     "text": [
      "Current working directory: /dss/dsshome1/0C/ra93lal2/cma/CMA_Fairness_v2\n"
     ]
    }
   ],
   "source": [
    "import os\n",
    "print(\"Current working directory:\", os.getcwd())"
   ]
  },
  {
   "cell_type": "code",
   "execution_count": 3,
   "id": "2dce4c03",
   "metadata": {
    "execution": {
     "iopub.execute_input": "2025-08-05T16:40:46.324025Z",
     "iopub.status.busy": "2025-08-05T16:40:46.323477Z",
     "iopub.status.idle": "2025-08-05T16:40:46.329793Z",
     "shell.execute_reply": "2025-08-05T16:40:46.328602Z"
    },
    "papermill": {
     "duration": 0.024729,
     "end_time": "2025-08-05T16:40:46.331618",
     "exception": false,
     "start_time": "2025-08-05T16:40:46.306889",
     "status": "completed"
    },
    "tags": [
     "parameters"
    ]
   },
   "outputs": [],
   "source": [
    "run_no = 0\n",
    "universe_id = \"test\"\n",
    "universe = {\n",
    "    \"training_size\": \"25k\", # \"25k\", \"5k\", \"1k\"\n",
    "    \"training_year\": \"2014\", # \"2014\", \"2012_14\", \"2010_14\"\n",
    "    \"scale\": \"scale\", # \"scale\", \"do-not-scale\",\n",
    "    \"model\": \"elasticnet\", # \"logreg\", \"penalized_logreg\", \"rf\", \"gbm\", \"elasticnet\"\n",
    "    \"cutoff\": [\"quantile_0.15\", \"quantile_0.30\"],\n",
    "    \"exclude_features\": \"age\", # \"none\", \"nationality\", \"sex\", \"nationality-sex\", \"age\"\n",
    "    \"exclude_subgroups\": \"keep-all\", # \"keep-all\", \"drop-non-german\"\n",
    "    \"eval_fairness_grouping\": [\"majority-minority\", \"nationality-all\"]\n",
    "}\n",
    "\n",
    "output_dir=\"./output\"\n",
    "seed=0"
   ]
  },
  {
   "cell_type": "code",
   "execution_count": 4,
   "id": "be94be6f",
   "metadata": {
    "execution": {
     "iopub.execute_input": "2025-08-05T16:40:46.366984Z",
     "iopub.status.busy": "2025-08-05T16:40:46.366352Z",
     "iopub.status.idle": "2025-08-05T16:40:46.371659Z",
     "shell.execute_reply": "2025-08-05T16:40:46.370663Z"
    },
    "papermill": {
     "duration": 0.023356,
     "end_time": "2025-08-05T16:40:46.373425",
     "exception": false,
     "start_time": "2025-08-05T16:40:46.350069",
     "status": "completed"
    },
    "tags": [
     "injected-parameters"
    ]
   },
   "outputs": [],
   "source": [
    "# Parameters\n",
    "universe_id = \"b3b4f7879b0f31ea382c3c2c0375a9f6\"\n",
    "run_no = \"15\"\n",
    "universe = \"{\\\"cutoff\\\": [\\\"quantile_0.1\\\", \\\"quantile_0.25\\\"], \\\"eval_fairness_grouping\\\": [\\\"majority-minority\\\", \\\"nationality-all\\\"], \\\"exclude_features\\\": \\\"age\\\", \\\"exclude_subgroups\\\": \\\"drop-non-german\\\", \\\"model\\\": \\\"penalized_logreg\\\", \\\"scale\\\": \\\"do-not-scale\\\", \\\"training_size\\\": \\\"1k\\\", \\\"training_year\\\": \\\"2010_14\\\"}\"\n",
    "output_dir = \"output\"\n",
    "seed = \"2023\"\n"
   ]
  },
  {
   "cell_type": "code",
   "execution_count": 5,
   "id": "1650acaf",
   "metadata": {
    "execution": {
     "iopub.execute_input": "2025-08-05T16:40:46.408566Z",
     "iopub.status.busy": "2025-08-05T16:40:46.407930Z",
     "iopub.status.idle": "2025-08-05T16:40:46.412978Z",
     "shell.execute_reply": "2025-08-05T16:40:46.411928Z"
    },
    "papermill": {
     "duration": 0.024331,
     "end_time": "2025-08-05T16:40:46.414785",
     "exception": false,
     "start_time": "2025-08-05T16:40:46.390454",
     "status": "completed"
    },
    "tags": []
   },
   "outputs": [],
   "source": [
    "import json\n",
    "if isinstance(universe, str):\n",
    "    universe = json.loads(universe)"
   ]
  },
  {
   "cell_type": "code",
   "execution_count": 6,
   "id": "16620c48",
   "metadata": {
    "execution": {
     "iopub.execute_input": "2025-08-05T16:40:46.449735Z",
     "iopub.status.busy": "2025-08-05T16:40:46.449046Z",
     "iopub.status.idle": "2025-08-05T16:40:46.495501Z",
     "shell.execute_reply": "2025-08-05T16:40:46.494396Z"
    },
    "papermill": {
     "duration": 0.066845,
     "end_time": "2025-08-05T16:40:46.497902",
     "exception": false,
     "start_time": "2025-08-05T16:40:46.431057",
     "status": "completed"
    },
    "tags": []
   },
   "outputs": [],
   "source": [
    "# Auto-reload the custom package\n",
    "%load_ext autoreload\n",
    "%autoreload 1\n",
    "%aimport fairness_multiverse"
   ]
  },
  {
   "cell_type": "code",
   "execution_count": 7,
   "id": "01c5c9f3",
   "metadata": {
    "execution": {
     "iopub.execute_input": "2025-08-05T16:40:46.533764Z",
     "iopub.status.busy": "2025-08-05T16:40:46.532975Z",
     "iopub.status.idle": "2025-08-05T16:40:48.473777Z",
     "shell.execute_reply": "2025-08-05T16:40:48.472554Z"
    },
    "papermill": {
     "duration": 1.960604,
     "end_time": "2025-08-05T16:40:48.476050",
     "exception": false,
     "start_time": "2025-08-05T16:40:46.515446",
     "status": "completed"
    },
    "tags": []
   },
   "outputs": [],
   "source": [
    "from fairness_multiverse.universe import UniverseAnalysis\n",
    "\n",
    "universe_analysis = UniverseAnalysis(\n",
    "    run_no = run_no,\n",
    "    universe_id = universe_id,\n",
    "    universe = universe,\n",
    "    output_dir=output_dir,\n",
    ")"
   ]
  },
  {
   "cell_type": "code",
   "execution_count": 8,
   "id": "106241f5",
   "metadata": {
    "execution": {
     "iopub.execute_input": "2025-08-05T16:40:48.516283Z",
     "iopub.status.busy": "2025-08-05T16:40:48.515461Z",
     "iopub.status.idle": "2025-08-05T16:40:48.522434Z",
     "shell.execute_reply": "2025-08-05T16:40:48.521215Z"
    },
    "papermill": {
     "duration": 0.028188,
     "end_time": "2025-08-05T16:40:48.524399",
     "exception": false,
     "start_time": "2025-08-05T16:40:48.496211",
     "status": "completed"
    },
    "tags": []
   },
   "outputs": [
    {
     "name": "stdout",
     "output_type": "stream",
     "text": [
      "Using Seed: 2023\n"
     ]
    }
   ],
   "source": [
    "import numpy as np\n",
    "parsed_seed = int(seed)\n",
    "np.random.seed(parsed_seed)\n",
    "print(f\"Using Seed: {parsed_seed}\")"
   ]
  },
  {
   "cell_type": "markdown",
   "id": "e0ebdc57",
   "metadata": {
    "papermill": {
     "duration": 0.015808,
     "end_time": "2025-08-05T16:40:48.559743",
     "exception": false,
     "start_time": "2025-08-05T16:40:48.543935",
     "status": "completed"
    },
    "tags": []
   },
   "source": [
    "# Loading Data"
   ]
  },
  {
   "cell_type": "code",
   "execution_count": 9,
   "id": "f0496b8a",
   "metadata": {
    "execution": {
     "iopub.execute_input": "2025-08-05T16:40:48.593638Z",
     "iopub.status.busy": "2025-08-05T16:40:48.593109Z",
     "iopub.status.idle": "2025-08-05T16:40:59.793395Z",
     "shell.execute_reply": "2025-08-05T16:40:59.792221Z"
    },
    "papermill": {
     "duration": 11.219008,
     "end_time": "2025-08-05T16:40:59.795072",
     "exception": false,
     "start_time": "2025-08-05T16:40:48.576064",
     "status": "completed"
    },
    "tags": []
   },
   "outputs": [
    {
     "name": "stdout",
     "output_type": "stream",
     "text": [
      "Loading SIAB data from cache: data/siab_cached.csv.gz\n"
     ]
    },
    {
     "name": "stdout",
     "output_type": "stream",
     "text": [
      "(643690, 164)\n"
     ]
    }
   ],
   "source": [
    "from pathlib import Path\n",
    "import pandas as pd\n",
    "\n",
    "# File paths\n",
    "raw_file = Path(\"data/raw/siab.csv\")\n",
    "cache_file = Path(\"data/siab_cached.csv.gz\")\n",
    "\n",
    "# Ensure cache directory exists\n",
    "cache_file.parent.mkdir(parents=True, exist_ok=True)\n",
    "\n",
    "# Load with simple caching\n",
    "if cache_file.exists():\n",
    "    print(f\"Loading SIAB data from cache: {cache_file}\")\n",
    "    siab = pd.read_csv(cache_file, compression='gzip')\n",
    "else:\n",
    "    print(f\"Cache not found. Reading raw SIAB data: {raw_file}\")\n",
    "    siab = pd.read_csv(raw_file)\n",
    "    siab.to_csv(cache_file, index=False, compression='gzip')\n",
    "    print(f\"Cached SIAB data to: {cache_file}\")\n",
    "\n",
    "print(siab.shape)"
   ]
  },
  {
   "cell_type": "code",
   "execution_count": 10,
   "id": "db0ca512-5f53-4dba-abdb-a2888bca41ba",
   "metadata": {
    "execution": {
     "iopub.execute_input": "2025-08-05T16:40:59.834525Z",
     "iopub.status.busy": "2025-08-05T16:40:59.834005Z",
     "iopub.status.idle": "2025-08-05T16:40:59.839993Z",
     "shell.execute_reply": "2025-08-05T16:40:59.838898Z"
    },
    "papermill": {
     "duration": 0.027169,
     "end_time": "2025-08-05T16:40:59.842078",
     "exception": false,
     "start_time": "2025-08-05T16:40:59.814909",
     "status": "completed"
    },
    "tags": []
   },
   "outputs": [],
   "source": [
    "#siab"
   ]
  },
  {
   "cell_type": "markdown",
   "id": "997051c5-15bd-4b69-9786-c3001a3ce484",
   "metadata": {
    "papermill": {
     "duration": 0.017155,
     "end_time": "2025-08-05T16:40:59.877107",
     "exception": false,
     "start_time": "2025-08-05T16:40:59.859952",
     "status": "completed"
    },
    "tags": []
   },
   "source": [
    "# Splitting Data and Setting Training Data Size"
   ]
  },
  {
   "cell_type": "code",
   "execution_count": 11,
   "id": "aea9c6ef-6f46-42c8-85eb-5a62025c1508",
   "metadata": {
    "execution": {
     "iopub.execute_input": "2025-08-05T16:40:59.914148Z",
     "iopub.status.busy": "2025-08-05T16:40:59.913605Z",
     "iopub.status.idle": "2025-08-05T16:41:00.916644Z",
     "shell.execute_reply": "2025-08-05T16:41:00.915626Z"
    },
    "papermill": {
     "duration": 1.023538,
     "end_time": "2025-08-05T16:41:00.918474",
     "exception": false,
     "start_time": "2025-08-05T16:40:59.894936",
     "status": "completed"
    },
    "tags": []
   },
   "outputs": [],
   "source": [
    "from fairness_multiverse.universe import sample_by_year_size\n",
    "\n",
    "siab_train = sample_by_year_size(siab,\n",
    "                               training_year=universe[\"training_year\"],\n",
    "                               training_size=universe[\"training_size\"])"
   ]
  },
  {
   "cell_type": "code",
   "execution_count": 12,
   "id": "8d3afb32-789d-442c-8d5d-9f5aa8dd2eed",
   "metadata": {
    "execution": {
     "iopub.execute_input": "2025-08-05T16:41:00.957596Z",
     "iopub.status.busy": "2025-08-05T16:41:00.957062Z",
     "iopub.status.idle": "2025-08-05T16:41:00.962348Z",
     "shell.execute_reply": "2025-08-05T16:41:00.961565Z"
    },
    "papermill": {
     "duration": 0.027437,
     "end_time": "2025-08-05T16:41:00.964016",
     "exception": false,
     "start_time": "2025-08-05T16:41:00.936579",
     "status": "completed"
    },
    "tags": []
   },
   "outputs": [],
   "source": [
    "#siab_train.shape"
   ]
  },
  {
   "cell_type": "code",
   "execution_count": 13,
   "id": "d582db68-1a4c-47fb-84fc-08518dc1975a",
   "metadata": {
    "execution": {
     "iopub.execute_input": "2025-08-05T16:41:01.007430Z",
     "iopub.status.busy": "2025-08-05T16:41:01.006989Z",
     "iopub.status.idle": "2025-08-05T16:41:01.012258Z",
     "shell.execute_reply": "2025-08-05T16:41:01.011195Z"
    },
    "papermill": {
     "duration": 0.030659,
     "end_time": "2025-08-05T16:41:01.014701",
     "exception": false,
     "start_time": "2025-08-05T16:41:00.984042",
     "status": "completed"
    },
    "tags": []
   },
   "outputs": [],
   "source": [
    "#display(siab_train.groupby(\"year\").size())"
   ]
  },
  {
   "cell_type": "code",
   "execution_count": 14,
   "id": "a561edb4-d032-42cb-8256-22eac1111c64",
   "metadata": {
    "execution": {
     "iopub.execute_input": "2025-08-05T16:41:01.059860Z",
     "iopub.status.busy": "2025-08-05T16:41:01.059299Z",
     "iopub.status.idle": "2025-08-05T16:41:01.316259Z",
     "shell.execute_reply": "2025-08-05T16:41:01.315293Z"
    },
    "papermill": {
     "duration": 0.281056,
     "end_time": "2025-08-05T16:41:01.318332",
     "exception": false,
     "start_time": "2025-08-05T16:41:01.037276",
     "status": "completed"
    },
    "tags": []
   },
   "outputs": [],
   "source": [
    "#siab_train = siab_s[siab_s.year < 2015]\n",
    "siab_calib = siab[siab.year == 2015]\n",
    "siab_test = siab[siab.year == 2016]"
   ]
  },
  {
   "cell_type": "code",
   "execution_count": 15,
   "id": "472de16f-c3db-4916-846b-1f0de9cf1746",
   "metadata": {
    "execution": {
     "iopub.execute_input": "2025-08-05T16:41:01.362467Z",
     "iopub.status.busy": "2025-08-05T16:41:01.361956Z",
     "iopub.status.idle": "2025-08-05T16:41:01.369405Z",
     "shell.execute_reply": "2025-08-05T16:41:01.368116Z"
    },
    "papermill": {
     "duration": 0.031542,
     "end_time": "2025-08-05T16:41:01.371872",
     "exception": false,
     "start_time": "2025-08-05T16:41:01.340330",
     "status": "completed"
    },
    "tags": []
   },
   "outputs": [],
   "source": [
    "X_train = siab_train.iloc[:,4:164]\n",
    "y_train = siab_train.iloc[:, [3]]"
   ]
  },
  {
   "cell_type": "code",
   "execution_count": 16,
   "id": "828c96af-f43a-4ed6-ba47-8ac73a47d56c",
   "metadata": {
    "execution": {
     "iopub.execute_input": "2025-08-05T16:41:01.414485Z",
     "iopub.status.busy": "2025-08-05T16:41:01.413736Z",
     "iopub.status.idle": "2025-08-05T16:41:01.471436Z",
     "shell.execute_reply": "2025-08-05T16:41:01.470328Z"
    },
    "papermill": {
     "duration": 0.080541,
     "end_time": "2025-08-05T16:41:01.473476",
     "exception": false,
     "start_time": "2025-08-05T16:41:01.392935",
     "status": "completed"
    },
    "tags": []
   },
   "outputs": [],
   "source": [
    "X_calib = siab_calib.iloc[:,4:164]\n",
    "y_calib = siab_calib.iloc[:, [3]]"
   ]
  },
  {
   "cell_type": "code",
   "execution_count": 17,
   "id": "c34be9c3-6bd6-476e-acd3-845840e303be",
   "metadata": {
    "execution": {
     "iopub.execute_input": "2025-08-05T16:41:01.519120Z",
     "iopub.status.busy": "2025-08-05T16:41:01.518105Z",
     "iopub.status.idle": "2025-08-05T16:41:01.573584Z",
     "shell.execute_reply": "2025-08-05T16:41:01.572299Z"
    },
    "papermill": {
     "duration": 0.081329,
     "end_time": "2025-08-05T16:41:01.576247",
     "exception": false,
     "start_time": "2025-08-05T16:41:01.494918",
     "status": "completed"
    },
    "tags": []
   },
   "outputs": [],
   "source": [
    "X_test = siab_test.iloc[:,4:164]\n",
    "y_true = siab_test.iloc[:, [3]]"
   ]
  },
  {
   "cell_type": "code",
   "execution_count": 18,
   "id": "e6c733c5",
   "metadata": {
    "execution": {
     "iopub.execute_input": "2025-08-05T16:41:01.621737Z",
     "iopub.status.busy": "2025-08-05T16:41:01.620762Z",
     "iopub.status.idle": "2025-08-05T16:41:01.727213Z",
     "shell.execute_reply": "2025-08-05T16:41:01.726190Z"
    },
    "papermill": {
     "duration": 0.13021,
     "end_time": "2025-08-05T16:41:01.729190",
     "exception": false,
     "start_time": "2025-08-05T16:41:01.598980",
     "status": "completed"
    },
    "tags": []
   },
   "outputs": [],
   "source": [
    "# Auxiliary data needed downstream in the pipeline\n",
    "\n",
    "org_train = X_train.copy()\n",
    "org_test = X_test.copy()\n",
    "org_calib = X_calib.copy()"
   ]
  },
  {
   "cell_type": "markdown",
   "id": "0a4a1b33",
   "metadata": {
    "papermill": {
     "duration": 0.020527,
     "end_time": "2025-08-05T16:41:01.769751",
     "exception": false,
     "start_time": "2025-08-05T16:41:01.749224",
     "status": "completed"
    },
    "tags": []
   },
   "source": [
    "# Preprocessing Data"
   ]
  },
  {
   "cell_type": "code",
   "execution_count": 19,
   "id": "ca879031",
   "metadata": {
    "execution": {
     "iopub.execute_input": "2025-08-05T16:41:01.811141Z",
     "iopub.status.busy": "2025-08-05T16:41:01.810412Z",
     "iopub.status.idle": "2025-08-05T16:41:01.817750Z",
     "shell.execute_reply": "2025-08-05T16:41:01.816626Z"
    },
    "papermill": {
     "duration": 0.029944,
     "end_time": "2025-08-05T16:41:01.819804",
     "exception": false,
     "start_time": "2025-08-05T16:41:01.789860",
     "status": "completed"
    },
    "tags": []
   },
   "outputs": [],
   "source": [
    "# EXCLUDE PROTECTED FEATURES\n",
    "# ----------------------\n",
    "# \"exclude_features\": \"none\", # \"nationality\", \"sex\", \"nationality-sex\"\n",
    "\n",
    "excluded_features = universe[\"exclude_features\"].split(\"-\") # split, e.g.: \"nationality-sex\" -> [\"nationality\", \"sex\"]\n",
    "excluded_features_dictionary = {\n",
    "    \"nationality\": [\"maxdeutsch1\", \"maxdeutsch.Missing.\"],\n",
    "    \"sex\": [\"frau1\"],\n",
    "    \"age\": [\"age\"],\n",
    "}"
   ]
  },
  {
   "cell_type": "code",
   "execution_count": 20,
   "id": "b745ac60",
   "metadata": {
    "execution": {
     "iopub.execute_input": "2025-08-05T16:41:01.863226Z",
     "iopub.status.busy": "2025-08-05T16:41:01.862311Z",
     "iopub.status.idle": "2025-08-05T16:41:01.868286Z",
     "shell.execute_reply": "2025-08-05T16:41:01.867237Z"
    },
    "papermill": {
     "duration": 0.028898,
     "end_time": "2025-08-05T16:41:01.870137",
     "exception": false,
     "start_time": "2025-08-05T16:41:01.841239",
     "status": "completed"
    },
    "tags": []
   },
   "outputs": [],
   "source": [
    "# Code nice names to column names\n",
    "\n",
    "excluded_features_columns = [\n",
    "    excluded_features_dictionary[f] for f in excluded_features if len(f) > 0 and f != \"none\"\n",
    "]"
   ]
  },
  {
   "cell_type": "code",
   "execution_count": 21,
   "id": "f84f73a2",
   "metadata": {
    "execution": {
     "iopub.execute_input": "2025-08-05T16:41:01.913813Z",
     "iopub.status.busy": "2025-08-05T16:41:01.912900Z",
     "iopub.status.idle": "2025-08-05T16:41:01.919838Z",
     "shell.execute_reply": "2025-08-05T16:41:01.918647Z"
    },
    "papermill": {
     "duration": 0.030428,
     "end_time": "2025-08-05T16:41:01.921614",
     "exception": false,
     "start_time": "2025-08-05T16:41:01.891186",
     "status": "completed"
    },
    "tags": []
   },
   "outputs": [],
   "source": [
    "from utils import flatten_once\n",
    "\n",
    "excluded_features_columns = flatten_once(excluded_features_columns)"
   ]
  },
  {
   "cell_type": "code",
   "execution_count": 22,
   "id": "884dea22",
   "metadata": {
    "execution": {
     "iopub.execute_input": "2025-08-05T16:41:01.965151Z",
     "iopub.status.busy": "2025-08-05T16:41:01.964285Z",
     "iopub.status.idle": "2025-08-05T16:41:01.973155Z",
     "shell.execute_reply": "2025-08-05T16:41:01.972040Z"
    },
    "papermill": {
     "duration": 0.032578,
     "end_time": "2025-08-05T16:41:01.975048",
     "exception": false,
     "start_time": "2025-08-05T16:41:01.942470",
     "status": "completed"
    },
    "tags": []
   },
   "outputs": [
    {
     "name": "stdout",
     "output_type": "stream",
     "text": [
      "Dropping features: ['age']\n"
     ]
    }
   ],
   "source": [
    "if len(excluded_features_columns) > 0:\n",
    "    print(f\"Dropping features: {excluded_features_columns}\")\n",
    "    X_train.drop(excluded_features_columns, axis=1, inplace=True)"
   ]
  },
  {
   "cell_type": "code",
   "execution_count": 23,
   "id": "95ab8b16",
   "metadata": {
    "execution": {
     "iopub.execute_input": "2025-08-05T16:41:02.017957Z",
     "iopub.status.busy": "2025-08-05T16:41:02.017310Z",
     "iopub.status.idle": "2025-08-05T16:41:02.076431Z",
     "shell.execute_reply": "2025-08-05T16:41:02.075190Z"
    },
    "papermill": {
     "duration": 0.082373,
     "end_time": "2025-08-05T16:41:02.078553",
     "exception": false,
     "start_time": "2025-08-05T16:41:01.996180",
     "status": "completed"
    },
    "tags": []
   },
   "outputs": [
    {
     "name": "stdout",
     "output_type": "stream",
     "text": [
      "Dropping features: ['age']\n"
     ]
    }
   ],
   "source": [
    "if len(excluded_features_columns) > 0:\n",
    "    print(f\"Dropping features: {excluded_features_columns}\")\n",
    "    X_test.drop(excluded_features_columns, axis=1, inplace=True)"
   ]
  },
  {
   "cell_type": "code",
   "execution_count": 24,
   "id": "1853aaf5-fb9f-46cb-a2b5-8ea4ae2237e4",
   "metadata": {
    "execution": {
     "iopub.execute_input": "2025-08-05T16:41:02.122352Z",
     "iopub.status.busy": "2025-08-05T16:41:02.121454Z",
     "iopub.status.idle": "2025-08-05T16:41:02.176585Z",
     "shell.execute_reply": "2025-08-05T16:41:02.175221Z"
    },
    "papermill": {
     "duration": 0.078402,
     "end_time": "2025-08-05T16:41:02.178830",
     "exception": false,
     "start_time": "2025-08-05T16:41:02.100428",
     "status": "completed"
    },
    "tags": []
   },
   "outputs": [
    {
     "name": "stdout",
     "output_type": "stream",
     "text": [
      "Dropping features: ['age']\n"
     ]
    }
   ],
   "source": [
    "if len(excluded_features_columns) > 0:\n",
    "    print(f\"Dropping features: {excluded_features_columns}\")\n",
    "    X_calib.drop(excluded_features_columns, axis=1, inplace=True)"
   ]
  },
  {
   "cell_type": "code",
   "execution_count": 25,
   "id": "76c4dc6d",
   "metadata": {
    "execution": {
     "iopub.execute_input": "2025-08-05T16:41:02.223020Z",
     "iopub.status.busy": "2025-08-05T16:41:02.222075Z",
     "iopub.status.idle": "2025-08-05T16:41:02.228060Z",
     "shell.execute_reply": "2025-08-05T16:41:02.226933Z"
    },
    "papermill": {
     "duration": 0.029546,
     "end_time": "2025-08-05T16:41:02.230099",
     "exception": false,
     "start_time": "2025-08-05T16:41:02.200553",
     "status": "completed"
    },
    "tags": []
   },
   "outputs": [],
   "source": [
    "# EXCLUDE CERTAIN SUBGROUPS\n",
    "# ----------------------\n",
    "\n",
    "mode = universe.get(\"exclude_subgroups\", \"keep-all\") \n",
    "# Fetches the exclude_subgroups setting from the universe dict.\n",
    "# Defaults to \"keep-all\" if the key is missing."
   ]
  },
  {
   "cell_type": "code",
   "execution_count": 26,
   "id": "21994072",
   "metadata": {
    "execution": {
     "iopub.execute_input": "2025-08-05T16:41:02.275328Z",
     "iopub.status.busy": "2025-08-05T16:41:02.274315Z",
     "iopub.status.idle": "2025-08-05T16:41:02.281736Z",
     "shell.execute_reply": "2025-08-05T16:41:02.280622Z"
    },
    "papermill": {
     "duration": 0.031023,
     "end_time": "2025-08-05T16:41:02.283606",
     "exception": false,
     "start_time": "2025-08-05T16:41:02.252583",
     "status": "completed"
    },
    "tags": []
   },
   "outputs": [],
   "source": [
    "if mode == \"keep-all\":\n",
    "    keep_mask = pd.Series(True, index=org_train.index)\n",
    "\n",
    "# org_train contains the original feature columns from features_org (in Simson)\n",
    "# features_org contains unprocessed features, for me X_train at beginning ???\n",
    "# For keep-all, creates a boolean Series (keep_mask) of all True, so no rows are removed.\n",
    "\n",
    "elif mode == \"drop-non-german\":\n",
    "    keep_mask = org_train[\"maxdeutsch1\"] == 1 # ??? what about missing values?\n",
    "\n",
    "else:\n",
    "    raise ValueError(f\"Unsupported mode for exclude_subgroups: {mode}\")"
   ]
  },
  {
   "cell_type": "code",
   "execution_count": 27,
   "id": "71651440",
   "metadata": {
    "execution": {
     "iopub.execute_input": "2025-08-05T16:41:02.328807Z",
     "iopub.status.busy": "2025-08-05T16:41:02.328001Z",
     "iopub.status.idle": "2025-08-05T16:41:02.335842Z",
     "shell.execute_reply": "2025-08-05T16:41:02.334712Z"
    },
    "papermill": {
     "duration": 0.031819,
     "end_time": "2025-08-05T16:41:02.337672",
     "exception": false,
     "start_time": "2025-08-05T16:41:02.305853",
     "status": "completed"
    },
    "tags": []
   },
   "outputs": [
    {
     "name": "stdout",
     "output_type": "stream",
     "text": [
      "Dropping 131 rows (13.10%) where mode='drop-non-german'\n"
     ]
    }
   ],
   "source": [
    "n_drop = (~keep_mask).sum() # Calculates how many rows are set to be dropped\n",
    "if n_drop > 0:\n",
    "    pct = n_drop / len(keep_mask) * 100\n",
    "    print(f\"Dropping {n_drop} rows ({pct:.2f}%) where mode='{mode}'\")"
   ]
  },
  {
   "cell_type": "code",
   "execution_count": 28,
   "id": "5fb8eee5",
   "metadata": {
    "execution": {
     "iopub.execute_input": "2025-08-05T16:41:02.382226Z",
     "iopub.status.busy": "2025-08-05T16:41:02.381506Z",
     "iopub.status.idle": "2025-08-05T16:41:02.388129Z",
     "shell.execute_reply": "2025-08-05T16:41:02.386980Z"
    },
    "papermill": {
     "duration": 0.03043,
     "end_time": "2025-08-05T16:41:02.390055",
     "exception": false,
     "start_time": "2025-08-05T16:41:02.359625",
     "status": "completed"
    },
    "tags": []
   },
   "outputs": [],
   "source": [
    "X_train = X_train[keep_mask]"
   ]
  },
  {
   "cell_type": "code",
   "execution_count": 29,
   "id": "b202bb3a",
   "metadata": {
    "execution": {
     "iopub.execute_input": "2025-08-05T16:41:02.434420Z",
     "iopub.status.busy": "2025-08-05T16:41:02.433511Z",
     "iopub.status.idle": "2025-08-05T16:41:02.440514Z",
     "shell.execute_reply": "2025-08-05T16:41:02.439430Z"
    },
    "papermill": {
     "duration": 0.030917,
     "end_time": "2025-08-05T16:41:02.442633",
     "exception": false,
     "start_time": "2025-08-05T16:41:02.411716",
     "status": "completed"
    },
    "tags": []
   },
   "outputs": [],
   "source": [
    "y_train = y_train[keep_mask]"
   ]
  },
  {
   "cell_type": "markdown",
   "id": "493e2ac3",
   "metadata": {
    "papermill": {
     "duration": 0.020708,
     "end_time": "2025-08-05T16:41:02.485575",
     "exception": false,
     "start_time": "2025-08-05T16:41:02.464867",
     "status": "completed"
    },
    "tags": []
   },
   "source": [
    "# Model Training"
   ]
  },
  {
   "cell_type": "code",
   "execution_count": 30,
   "id": "679e1268",
   "metadata": {
    "execution": {
     "iopub.execute_input": "2025-08-05T16:41:02.528724Z",
     "iopub.status.busy": "2025-08-05T16:41:02.527901Z",
     "iopub.status.idle": "2025-08-05T16:41:02.619122Z",
     "shell.execute_reply": "2025-08-05T16:41:02.618408Z"
    },
    "papermill": {
     "duration": 0.113815,
     "end_time": "2025-08-05T16:41:02.620488",
     "exception": false,
     "start_time": "2025-08-05T16:41:02.506673",
     "status": "completed"
    },
    "tags": []
   },
   "outputs": [],
   "source": [
    "from sklearn.linear_model import LogisticRegression\n",
    "from sklearn.ensemble import GradientBoostingClassifier, RandomForestClassifier\n",
    "\n",
    "if (universe[\"model\"] == \"logreg\"):\n",
    "    model = LogisticRegression() #penalty=\"none\", solver=\"newton-cg\", max_iter=1) # include random_state=19 ?\n",
    "elif (universe[\"model\"] == \"penalized_logreg\"):\n",
    "    model = LogisticRegression(penalty=\"l2\", C=0.1) #, solver=\"newton-cg\", max_iter=1)\n",
    "elif (universe[\"model\"] == \"rf\"):\n",
    "    model = RandomForestClassifier() # n_estimators=100, n_jobs=-1\n",
    "elif (universe[\"model\"] == \"gbm\"):\n",
    "    model = GradientBoostingClassifier()\n",
    "elif (universe[\"model\"] == \"elasticnet\"):\n",
    "    model = LogisticRegression(penalty = 'elasticnet', solver = 'saga', l1_ratio = 0.5) # max_iter=5000\n",
    "else:\n",
    "    raise \"Unsupported universe.model\""
   ]
  },
  {
   "cell_type": "code",
   "execution_count": 31,
   "id": "0cc8f744",
   "metadata": {
    "execution": {
     "iopub.execute_input": "2025-08-05T16:41:02.644641Z",
     "iopub.status.busy": "2025-08-05T16:41:02.644170Z",
     "iopub.status.idle": "2025-08-05T16:41:02.651032Z",
     "shell.execute_reply": "2025-08-05T16:41:02.650285Z"
    },
    "papermill": {
     "duration": 0.021022,
     "end_time": "2025-08-05T16:41:02.652385",
     "exception": false,
     "start_time": "2025-08-05T16:41:02.631363",
     "status": "completed"
    },
    "tags": []
   },
   "outputs": [],
   "source": [
    "import numpy as np\n",
    "from sklearn.pipeline import Pipeline\n",
    "from sklearn.preprocessing import StandardScaler\n",
    "\n",
    "model = Pipeline([\n",
    "    #(\"continuous_processor\", continuous_processor),\n",
    "    #(\"categorical_preprocessor\", categorical_preprocessor),\n",
    "    (\"scale\", StandardScaler() if universe[\"scale\"] == \"scale\" else None), \n",
    "    (\"model\", model),\n",
    "])"
   ]
  },
  {
   "cell_type": "code",
   "execution_count": 32,
   "id": "9442c04d",
   "metadata": {
    "execution": {
     "iopub.execute_input": "2025-08-05T16:41:02.676060Z",
     "iopub.status.busy": "2025-08-05T16:41:02.675498Z",
     "iopub.status.idle": "2025-08-05T16:41:02.730299Z",
     "shell.execute_reply": "2025-08-05T16:41:02.729579Z"
    },
    "papermill": {
     "duration": 0.067542,
     "end_time": "2025-08-05T16:41:02.731537",
     "exception": false,
     "start_time": "2025-08-05T16:41:02.663995",
     "status": "completed"
    },
    "tags": []
   },
   "outputs": [
    {
     "name": "stderr",
     "output_type": "stream",
     "text": [
      "/dss/dsshome1/0C/ra93lal2/.local/share/virtualenvs/CMA_Fairness_v2-3j10GkSs/lib/python3.10/site-packages/sklearn/linear_model/_logistic.py:444: ConvergenceWarning: lbfgs failed to converge (status=1):\n",
      "STOP: TOTAL NO. of ITERATIONS REACHED LIMIT.\n",
      "\n",
      "Increase the number of iterations (max_iter) or scale the data as shown in:\n",
      "    https://scikit-learn.org/stable/modules/preprocessing.html\n",
      "Please also refer to the documentation for alternative solver options:\n",
      "    https://scikit-learn.org/stable/modules/linear_model.html#logistic-regression\n",
      "  n_iter_i = _check_optimize_result(\n"
     ]
    },
    {
     "data": {
      "text/html": [
       "<style>#sk-container-id-1 {color: black;background-color: white;}#sk-container-id-1 pre{padding: 0;}#sk-container-id-1 div.sk-toggleable {background-color: white;}#sk-container-id-1 label.sk-toggleable__label {cursor: pointer;display: block;width: 100%;margin-bottom: 0;padding: 0.3em;box-sizing: border-box;text-align: center;}#sk-container-id-1 label.sk-toggleable__label-arrow:before {content: \"▸\";float: left;margin-right: 0.25em;color: #696969;}#sk-container-id-1 label.sk-toggleable__label-arrow:hover:before {color: black;}#sk-container-id-1 div.sk-estimator:hover label.sk-toggleable__label-arrow:before {color: black;}#sk-container-id-1 div.sk-toggleable__content {max-height: 0;max-width: 0;overflow: hidden;text-align: left;background-color: #f0f8ff;}#sk-container-id-1 div.sk-toggleable__content pre {margin: 0.2em;color: black;border-radius: 0.25em;background-color: #f0f8ff;}#sk-container-id-1 input.sk-toggleable__control:checked~div.sk-toggleable__content {max-height: 200px;max-width: 100%;overflow: auto;}#sk-container-id-1 input.sk-toggleable__control:checked~label.sk-toggleable__label-arrow:before {content: \"▾\";}#sk-container-id-1 div.sk-estimator input.sk-toggleable__control:checked~label.sk-toggleable__label {background-color: #d4ebff;}#sk-container-id-1 div.sk-label input.sk-toggleable__control:checked~label.sk-toggleable__label {background-color: #d4ebff;}#sk-container-id-1 input.sk-hidden--visually {border: 0;clip: rect(1px 1px 1px 1px);clip: rect(1px, 1px, 1px, 1px);height: 1px;margin: -1px;overflow: hidden;padding: 0;position: absolute;width: 1px;}#sk-container-id-1 div.sk-estimator {font-family: monospace;background-color: #f0f8ff;border: 1px dotted black;border-radius: 0.25em;box-sizing: border-box;margin-bottom: 0.5em;}#sk-container-id-1 div.sk-estimator:hover {background-color: #d4ebff;}#sk-container-id-1 div.sk-parallel-item::after {content: \"\";width: 100%;border-bottom: 1px solid gray;flex-grow: 1;}#sk-container-id-1 div.sk-label:hover label.sk-toggleable__label {background-color: #d4ebff;}#sk-container-id-1 div.sk-serial::before {content: \"\";position: absolute;border-left: 1px solid gray;box-sizing: border-box;top: 0;bottom: 0;left: 50%;z-index: 0;}#sk-container-id-1 div.sk-serial {display: flex;flex-direction: column;align-items: center;background-color: white;padding-right: 0.2em;padding-left: 0.2em;position: relative;}#sk-container-id-1 div.sk-item {position: relative;z-index: 1;}#sk-container-id-1 div.sk-parallel {display: flex;align-items: stretch;justify-content: center;background-color: white;position: relative;}#sk-container-id-1 div.sk-item::before, #sk-container-id-1 div.sk-parallel-item::before {content: \"\";position: absolute;border-left: 1px solid gray;box-sizing: border-box;top: 0;bottom: 0;left: 50%;z-index: -1;}#sk-container-id-1 div.sk-parallel-item {display: flex;flex-direction: column;z-index: 1;position: relative;background-color: white;}#sk-container-id-1 div.sk-parallel-item:first-child::after {align-self: flex-end;width: 50%;}#sk-container-id-1 div.sk-parallel-item:last-child::after {align-self: flex-start;width: 50%;}#sk-container-id-1 div.sk-parallel-item:only-child::after {width: 0;}#sk-container-id-1 div.sk-dashed-wrapped {border: 1px dashed gray;margin: 0 0.4em 0.5em 0.4em;box-sizing: border-box;padding-bottom: 0.4em;background-color: white;}#sk-container-id-1 div.sk-label label {font-family: monospace;font-weight: bold;display: inline-block;line-height: 1.2em;}#sk-container-id-1 div.sk-label-container {text-align: center;}#sk-container-id-1 div.sk-container {/* jupyter's `normalize.less` sets `[hidden] { display: none; }` but bootstrap.min.css set `[hidden] { display: none !important; }` so we also need the `!important` here to be able to override the default hidden behavior on the sphinx rendered scikit-learn.org. See: https://github.com/scikit-learn/scikit-learn/issues/21755 */display: inline-block !important;position: relative;}#sk-container-id-1 div.sk-text-repr-fallback {display: none;}</style><div id=\"sk-container-id-1\" class=\"sk-top-container\"><div class=\"sk-text-repr-fallback\"><pre>Pipeline(steps=[(&#x27;scale&#x27;, None), (&#x27;model&#x27;, LogisticRegression(C=0.1))])</pre><b>In a Jupyter environment, please rerun this cell to show the HTML representation or trust the notebook. <br />On GitHub, the HTML representation is unable to render, please try loading this page with nbviewer.org.</b></div><div class=\"sk-container\" hidden><div class=\"sk-item sk-dashed-wrapped\"><div class=\"sk-label-container\"><div class=\"sk-label sk-toggleable\"><input class=\"sk-toggleable__control sk-hidden--visually\" id=\"sk-estimator-id-1\" type=\"checkbox\" ><label for=\"sk-estimator-id-1\" class=\"sk-toggleable__label sk-toggleable__label-arrow\">Pipeline</label><div class=\"sk-toggleable__content\"><pre>Pipeline(steps=[(&#x27;scale&#x27;, None), (&#x27;model&#x27;, LogisticRegression(C=0.1))])</pre></div></div></div><div class=\"sk-serial\"><div class=\"sk-item\"><div class=\"sk-estimator sk-toggleable\"><input class=\"sk-toggleable__control sk-hidden--visually\" id=\"sk-estimator-id-2\" type=\"checkbox\" ><label for=\"sk-estimator-id-2\" class=\"sk-toggleable__label sk-toggleable__label-arrow\">None</label><div class=\"sk-toggleable__content\"><pre>None</pre></div></div></div><div class=\"sk-item\"><div class=\"sk-estimator sk-toggleable\"><input class=\"sk-toggleable__control sk-hidden--visually\" id=\"sk-estimator-id-3\" type=\"checkbox\" ><label for=\"sk-estimator-id-3\" class=\"sk-toggleable__label sk-toggleable__label-arrow\">LogisticRegression</label><div class=\"sk-toggleable__content\"><pre>LogisticRegression(C=0.1)</pre></div></div></div></div></div></div></div>"
      ],
      "text/plain": [
       "Pipeline(steps=[('scale', None), ('model', LogisticRegression(C=0.1))])"
      ]
     },
     "execution_count": 32,
     "metadata": {},
     "output_type": "execute_result"
    }
   ],
   "source": [
    "model.fit(X_train, y_train.values.ravel())"
   ]
  },
  {
   "cell_type": "code",
   "execution_count": 33,
   "id": "af59f8c0",
   "metadata": {
    "execution": {
     "iopub.execute_input": "2025-08-05T16:41:02.753419Z",
     "iopub.status.busy": "2025-08-05T16:41:02.752864Z",
     "iopub.status.idle": "2025-08-05T16:41:02.757436Z",
     "shell.execute_reply": "2025-08-05T16:41:02.756699Z"
    },
    "papermill": {
     "duration": 0.01699,
     "end_time": "2025-08-05T16:41:02.759000",
     "exception": false,
     "start_time": "2025-08-05T16:41:02.742010",
     "status": "completed"
    },
    "tags": []
   },
   "outputs": [],
   "source": [
    "from fairness_multiverse.universe import predict_w_threshold"
   ]
  },
  {
   "cell_type": "code",
   "execution_count": 34,
   "id": "a7cf2e16",
   "metadata": {
    "execution": {
     "iopub.execute_input": "2025-08-05T16:41:02.786893Z",
     "iopub.status.busy": "2025-08-05T16:41:02.786365Z",
     "iopub.status.idle": "2025-08-05T16:41:02.874428Z",
     "shell.execute_reply": "2025-08-05T16:41:02.873479Z"
    },
    "papermill": {
     "duration": 0.103479,
     "end_time": "2025-08-05T16:41:02.875811",
     "exception": false,
     "start_time": "2025-08-05T16:41:02.772332",
     "status": "completed"
    },
    "tags": []
   },
   "outputs": [
    {
     "data": {
      "text/plain": [
       "0.8561141455802028"
      ]
     },
     "execution_count": 34,
     "metadata": {},
     "output_type": "execute_result"
    }
   ],
   "source": [
    "probs_test = model.predict_proba(X_test)\n",
    "\n",
    "'''\n",
    "Below code returns a boolean array (or binary 0/1 array depending on how it’s used) where each element \n",
    "is True if the probability of class 1 is greater than or equal to the threshold, and False otherwise.\n",
    "'''\n",
    "y_pred_default = predict_w_threshold(probs_test, 0.5)\n",
    "\n",
    "from sklearn.metrics import accuracy_score\n",
    "\n",
    "# Naive prediction\n",
    "accuracy_score(y_true = y_true, y_pred = y_pred_default)"
   ]
  },
  {
   "cell_type": "code",
   "execution_count": 35,
   "id": "081964c3",
   "metadata": {
    "execution": {
     "iopub.execute_input": "2025-08-05T16:41:02.898028Z",
     "iopub.status.busy": "2025-08-05T16:41:02.897646Z",
     "iopub.status.idle": "2025-08-05T16:41:02.979913Z",
     "shell.execute_reply": "2025-08-05T16:41:02.979145Z"
    },
    "papermill": {
     "duration": 0.094488,
     "end_time": "2025-08-05T16:41:02.981321",
     "exception": false,
     "start_time": "2025-08-05T16:41:02.886833",
     "status": "completed"
    },
    "tags": []
   },
   "outputs": [
    {
     "data": {
      "text/plain": [
       "array([0, 0, 0, ..., 0, 0, 0])"
      ]
     },
     "execution_count": 35,
     "metadata": {},
     "output_type": "execute_result"
    }
   ],
   "source": [
    "model.predict(X_test)"
   ]
  },
  {
   "cell_type": "markdown",
   "id": "56c9705b",
   "metadata": {
    "papermill": {
     "duration": 0.010213,
     "end_time": "2025-08-05T16:41:03.002506",
     "exception": false,
     "start_time": "2025-08-05T16:41:02.992293",
     "status": "completed"
    },
    "tags": []
   },
   "source": [
    "# Conformal Prediction"
   ]
  },
  {
   "cell_type": "code",
   "execution_count": 36,
   "id": "160ec6ff",
   "metadata": {
    "execution": {
     "iopub.execute_input": "2025-08-05T16:41:03.025037Z",
     "iopub.status.busy": "2025-08-05T16:41:03.024328Z",
     "iopub.status.idle": "2025-08-05T16:41:03.029062Z",
     "shell.execute_reply": "2025-08-05T16:41:03.028209Z"
    },
    "papermill": {
     "duration": 0.0186,
     "end_time": "2025-08-05T16:41:03.031775",
     "exception": false,
     "start_time": "2025-08-05T16:41:03.013175",
     "status": "completed"
    },
    "tags": []
   },
   "outputs": [],
   "source": [
    "# Miscoverage level for conformal prediction (10% allowed error rate => 90% target coverage)\n",
    "alpha = 0.1"
   ]
  },
  {
   "cell_type": "code",
   "execution_count": 37,
   "id": "eadf4555-3dd3-440e-8e35-f82a4ad9f855",
   "metadata": {
    "execution": {
     "iopub.execute_input": "2025-08-05T16:41:03.059837Z",
     "iopub.status.busy": "2025-08-05T16:41:03.059242Z",
     "iopub.status.idle": "2025-08-05T16:41:03.145384Z",
     "shell.execute_reply": "2025-08-05T16:41:03.144409Z"
    },
    "papermill": {
     "duration": 0.102547,
     "end_time": "2025-08-05T16:41:03.146966",
     "exception": false,
     "start_time": "2025-08-05T16:41:03.044419",
     "status": "completed"
    },
    "tags": []
   },
   "outputs": [],
   "source": [
    "probs_calib = model.predict_proba(X_calib)"
   ]
  },
  {
   "cell_type": "code",
   "execution_count": 38,
   "id": "2ed93547-6d5d-4983-9b36-1ecb300da49a",
   "metadata": {
    "execution": {
     "iopub.execute_input": "2025-08-05T16:41:03.186473Z",
     "iopub.status.busy": "2025-08-05T16:41:03.185543Z",
     "iopub.status.idle": "2025-08-05T16:41:03.191993Z",
     "shell.execute_reply": "2025-08-05T16:41:03.190850Z"
    },
    "papermill": {
     "duration": 0.028959,
     "end_time": "2025-08-05T16:41:03.193769",
     "exception": false,
     "start_time": "2025-08-05T16:41:03.164810",
     "status": "completed"
    },
    "tags": []
   },
   "outputs": [],
   "source": [
    "y_calib = y_calib.values.ravel().astype(int)"
   ]
  },
  {
   "cell_type": "code",
   "execution_count": 39,
   "id": "65d1320d-f588-4b38-9072-62af1ae97f7d",
   "metadata": {
    "execution": {
     "iopub.execute_input": "2025-08-05T16:41:03.235364Z",
     "iopub.status.busy": "2025-08-05T16:41:03.234466Z",
     "iopub.status.idle": "2025-08-05T16:41:03.242607Z",
     "shell.execute_reply": "2025-08-05T16:41:03.241502Z"
    },
    "papermill": {
     "duration": 0.030414,
     "end_time": "2025-08-05T16:41:03.244358",
     "exception": false,
     "start_time": "2025-08-05T16:41:03.213944",
     "status": "completed"
    },
    "tags": []
   },
   "outputs": [],
   "source": [
    "from fairness_multiverse.conformal import compute_nc_scores\n",
    "\n",
    "# Compute nonconformity scores on calibration set (1 - probability of true class)\n",
    "nc_scores = compute_nc_scores(probs_calib, y_calib)"
   ]
  },
  {
   "cell_type": "code",
   "execution_count": 40,
   "id": "df3b8ca3-53b7-43d5-9667-7c85da7aeda2",
   "metadata": {
    "execution": {
     "iopub.execute_input": "2025-08-05T16:41:03.287812Z",
     "iopub.status.busy": "2025-08-05T16:41:03.286915Z",
     "iopub.status.idle": "2025-08-05T16:41:03.294621Z",
     "shell.execute_reply": "2025-08-05T16:41:03.293435Z"
    },
    "papermill": {
     "duration": 0.03102,
     "end_time": "2025-08-05T16:41:03.296637",
     "exception": false,
     "start_time": "2025-08-05T16:41:03.265617",
     "status": "completed"
    },
    "tags": []
   },
   "outputs": [],
   "source": [
    "from fairness_multiverse.conformal import find_threshold\n",
    "\n",
    "# Find conformal threshold q_hat for the given alpha (split conformal method)\n",
    "q_hat = find_threshold(nc_scores, alpha)"
   ]
  },
  {
   "cell_type": "code",
   "execution_count": 41,
   "id": "4d29e6c1-0ef6-4aa4-b8fe-4fe79b0d033a",
   "metadata": {
    "execution": {
     "iopub.execute_input": "2025-08-05T16:41:03.347174Z",
     "iopub.status.busy": "2025-08-05T16:41:03.346690Z",
     "iopub.status.idle": "2025-08-05T16:41:03.354914Z",
     "shell.execute_reply": "2025-08-05T16:41:03.353794Z"
    },
    "papermill": {
     "duration": 0.035325,
     "end_time": "2025-08-05T16:41:03.356747",
     "exception": false,
     "start_time": "2025-08-05T16:41:03.321422",
     "status": "completed"
    },
    "tags": []
   },
   "outputs": [
    {
     "data": {
      "text/plain": [
       "0.6769745881516007"
      ]
     },
     "execution_count": 41,
     "metadata": {},
     "output_type": "execute_result"
    }
   ],
   "source": [
    "q_hat"
   ]
  },
  {
   "cell_type": "code",
   "execution_count": 42,
   "id": "92460794-cdac-4be2-ba28-f28c0515a6fb",
   "metadata": {
    "execution": {
     "iopub.execute_input": "2025-08-05T16:41:03.407963Z",
     "iopub.status.busy": "2025-08-05T16:41:03.407287Z",
     "iopub.status.idle": "2025-08-05T16:41:04.184371Z",
     "shell.execute_reply": "2025-08-05T16:41:04.183159Z"
    },
    "papermill": {
     "duration": 0.804184,
     "end_time": "2025-08-05T16:41:04.186457",
     "exception": false,
     "start_time": "2025-08-05T16:41:03.382273",
     "status": "completed"
    },
    "tags": []
   },
   "outputs": [],
   "source": [
    "from fairness_multiverse.conformal import predict_conformal_sets\n",
    "\n",
    "# Generate prediction sets for each test example\n",
    "pred_sets = predict_conformal_sets(model, X_test, q_hat)"
   ]
  },
  {
   "cell_type": "code",
   "execution_count": 43,
   "id": "d90c9a65-e6db-4f5d-80cd-e68fb7e46829",
   "metadata": {
    "execution": {
     "iopub.execute_input": "2025-08-05T16:41:04.236340Z",
     "iopub.status.busy": "2025-08-05T16:41:04.235572Z",
     "iopub.status.idle": "2025-08-05T16:41:04.242778Z",
     "shell.execute_reply": "2025-08-05T16:41:04.241489Z"
    },
    "papermill": {
     "duration": 0.034643,
     "end_time": "2025-08-05T16:41:04.244702",
     "exception": false,
     "start_time": "2025-08-05T16:41:04.210059",
     "status": "completed"
    },
    "tags": []
   },
   "outputs": [],
   "source": [
    "y_true = y_true.squeeze()"
   ]
  },
  {
   "cell_type": "code",
   "execution_count": 44,
   "id": "3a58a54a-1e68-46b9-927a-df01f18aebc8",
   "metadata": {
    "execution": {
     "iopub.execute_input": "2025-08-05T16:41:04.296476Z",
     "iopub.status.busy": "2025-08-05T16:41:04.295826Z",
     "iopub.status.idle": "2025-08-05T16:41:05.473961Z",
     "shell.execute_reply": "2025-08-05T16:41:05.472669Z"
    },
    "papermill": {
     "duration": 1.207413,
     "end_time": "2025-08-05T16:41:05.476488",
     "exception": false,
     "start_time": "2025-08-05T16:41:04.269075",
     "status": "completed"
    },
    "tags": []
   },
   "outputs": [],
   "source": [
    "from fairness_multiverse.conformal import evaluate_sets\n",
    "\n",
    "# Evaluate coverage and average set size on test data\n",
    "metrics = evaluate_sets(pred_sets, y_true)"
   ]
  },
  {
   "cell_type": "markdown",
   "id": "2b569c12-9aaa-4c88-98c9-bbcd0cf3ebb8",
   "metadata": {
    "papermill": {
     "duration": 0.02595,
     "end_time": "2025-08-05T16:41:05.533967",
     "exception": false,
     "start_time": "2025-08-05T16:41:05.508017",
     "status": "completed"
    },
    "tags": []
   },
   "source": [
    "# CP Metrics"
   ]
  },
  {
   "cell_type": "code",
   "execution_count": 45,
   "id": "5ce0a5cb-201f-45a0-ade5-94c7f0bd6095",
   "metadata": {
    "execution": {
     "iopub.execute_input": "2025-08-05T16:41:05.595711Z",
     "iopub.status.busy": "2025-08-05T16:41:05.594979Z",
     "iopub.status.idle": "2025-08-05T16:41:05.603752Z",
     "shell.execute_reply": "2025-08-05T16:41:05.602697Z"
    },
    "papermill": {
     "duration": 0.041761,
     "end_time": "2025-08-05T16:41:05.605318",
     "exception": false,
     "start_time": "2025-08-05T16:41:05.563557",
     "status": "completed"
    },
    "tags": []
   },
   "outputs": [
    {
     "data": {
      "text/plain": [
       "{'coverage': 0.9139003455579088, 'avg_size': 1.2750529483892543}"
      ]
     },
     "execution_count": 45,
     "metadata": {},
     "output_type": "execute_result"
    }
   ],
   "source": [
    "metrics"
   ]
  },
  {
   "cell_type": "code",
   "execution_count": 46,
   "id": "9b9a838d-31c9-430b-ae14-12baee460d17",
   "metadata": {
    "execution": {
     "iopub.execute_input": "2025-08-05T16:41:05.633712Z",
     "iopub.status.busy": "2025-08-05T16:41:05.633129Z",
     "iopub.status.idle": "2025-08-05T16:41:05.638903Z",
     "shell.execute_reply": "2025-08-05T16:41:05.638036Z"
    },
    "papermill": {
     "duration": 0.020598,
     "end_time": "2025-08-05T16:41:05.640446",
     "exception": false,
     "start_time": "2025-08-05T16:41:05.619848",
     "status": "completed"
    },
    "tags": []
   },
   "outputs": [],
   "source": [
    "example_universe = universe.copy()\n",
    "universe_training_year = example_universe.get(\"training_year\")\n",
    "universe_training_size = example_universe.get(\"training_size\")\n",
    "universe_scale = example_universe.get(\"scale\")\n",
    "universe_model = example_universe.get(\"model\")\n",
    "universe_exclude_features = example_universe.get(\"exclude_features\")\n",
    "universe_exclude_subgroups = example_universe.get(\"exclude_subgroups\")"
   ]
  },
  {
   "cell_type": "code",
   "execution_count": 47,
   "id": "f4b6a8ac-9dc0-4245-8a91-5b3b5999c4f9",
   "metadata": {
    "execution": {
     "iopub.execute_input": "2025-08-05T16:41:05.667750Z",
     "iopub.status.busy": "2025-08-05T16:41:05.667207Z",
     "iopub.status.idle": "2025-08-05T16:41:05.672878Z",
     "shell.execute_reply": "2025-08-05T16:41:05.672072Z"
    },
    "papermill": {
     "duration": 0.020267,
     "end_time": "2025-08-05T16:41:05.674280",
     "exception": false,
     "start_time": "2025-08-05T16:41:05.654013",
     "status": "completed"
    },
    "tags": []
   },
   "outputs": [],
   "source": [
    "cp_metrics_dict = {\n",
    "    \"universe_id\": [universe_id],\n",
    "    \"universe_training_year\": [universe_training_year],\n",
    "    \"universe_training_size\": [universe_training_size],\n",
    "    \"universe_scale\": [universe_scale],\n",
    "    \"universe_model\": [universe_model],\n",
    "    \"universe_exclude_features\": [universe_exclude_features],\n",
    "    \"universe_exclude_subgroups\": [universe_exclude_subgroups],\n",
    "    \"q_hat\": [q_hat],\n",
    "    \"coverage\": [metrics[\"coverage\"]],\n",
    "    \"avg_size\": [metrics[\"avg_size\"]],\n",
    "}"
   ]
  },
  {
   "cell_type": "code",
   "execution_count": 48,
   "id": "908acbb1-0371-4915-85ca-3fa520d2efe2",
   "metadata": {
    "execution": {
     "iopub.execute_input": "2025-08-05T16:41:05.700907Z",
     "iopub.status.busy": "2025-08-05T16:41:05.700401Z",
     "iopub.status.idle": "2025-08-05T16:41:05.707293Z",
     "shell.execute_reply": "2025-08-05T16:41:05.706499Z"
    },
    "papermill": {
     "duration": 0.020967,
     "end_time": "2025-08-05T16:41:05.708750",
     "exception": false,
     "start_time": "2025-08-05T16:41:05.687783",
     "status": "completed"
    },
    "tags": []
   },
   "outputs": [
    {
     "data": {
      "text/plain": [
       "{'universe_id': ['b3b4f7879b0f31ea382c3c2c0375a9f6'],\n",
       " 'universe_training_year': ['2010_14'],\n",
       " 'universe_training_size': ['1k'],\n",
       " 'universe_scale': ['do-not-scale'],\n",
       " 'universe_model': ['penalized_logreg'],\n",
       " 'universe_exclude_features': ['age'],\n",
       " 'universe_exclude_subgroups': ['drop-non-german'],\n",
       " 'q_hat': [0.6769745881516007],\n",
       " 'coverage': [0.9139003455579088],\n",
       " 'avg_size': [1.2750529483892543]}"
      ]
     },
     "execution_count": 48,
     "metadata": {},
     "output_type": "execute_result"
    }
   ],
   "source": [
    "cp_metrics_dict"
   ]
  },
  {
   "cell_type": "code",
   "execution_count": 49,
   "id": "33007efc-14e9-4ec6-97ac-56a455c82265",
   "metadata": {
    "execution": {
     "iopub.execute_input": "2025-08-05T16:41:05.735360Z",
     "iopub.status.busy": "2025-08-05T16:41:05.734812Z",
     "iopub.status.idle": "2025-08-05T16:41:05.740739Z",
     "shell.execute_reply": "2025-08-05T16:41:05.739959Z"
    },
    "papermill": {
     "duration": 0.020179,
     "end_time": "2025-08-05T16:41:05.742197",
     "exception": false,
     "start_time": "2025-08-05T16:41:05.722018",
     "status": "completed"
    },
    "tags": []
   },
   "outputs": [],
   "source": [
    "cp_metrics_df = pd.DataFrame(cp_metrics_dict)"
   ]
  },
  {
   "cell_type": "code",
   "execution_count": 50,
   "id": "db12611b-57b2-4910-b9d0-355adfd6e7bf",
   "metadata": {
    "execution": {
     "iopub.execute_input": "2025-08-05T16:41:05.770475Z",
     "iopub.status.busy": "2025-08-05T16:41:05.769387Z",
     "iopub.status.idle": "2025-08-05T16:41:05.785356Z",
     "shell.execute_reply": "2025-08-05T16:41:05.784501Z"
    },
    "papermill": {
     "duration": 0.031798,
     "end_time": "2025-08-05T16:41:05.786847",
     "exception": false,
     "start_time": "2025-08-05T16:41:05.755049",
     "status": "completed"
    },
    "tags": []
   },
   "outputs": [
    {
     "data": {
      "text/html": [
       "<div>\n",
       "<style scoped>\n",
       "    .dataframe tbody tr th:only-of-type {\n",
       "        vertical-align: middle;\n",
       "    }\n",
       "\n",
       "    .dataframe tbody tr th {\n",
       "        vertical-align: top;\n",
       "    }\n",
       "\n",
       "    .dataframe thead th {\n",
       "        text-align: right;\n",
       "    }\n",
       "</style>\n",
       "<table border=\"1\" class=\"dataframe\">\n",
       "  <thead>\n",
       "    <tr style=\"text-align: right;\">\n",
       "      <th></th>\n",
       "      <th>universe_id</th>\n",
       "      <th>universe_training_year</th>\n",
       "      <th>universe_training_size</th>\n",
       "      <th>universe_scale</th>\n",
       "      <th>universe_model</th>\n",
       "      <th>universe_exclude_features</th>\n",
       "      <th>universe_exclude_subgroups</th>\n",
       "      <th>q_hat</th>\n",
       "      <th>coverage</th>\n",
       "      <th>avg_size</th>\n",
       "    </tr>\n",
       "  </thead>\n",
       "  <tbody>\n",
       "    <tr>\n",
       "      <th>0</th>\n",
       "      <td>b3b4f7879b0f31ea382c3c2c0375a9f6</td>\n",
       "      <td>2010_14</td>\n",
       "      <td>1k</td>\n",
       "      <td>do-not-scale</td>\n",
       "      <td>penalized_logreg</td>\n",
       "      <td>age</td>\n",
       "      <td>drop-non-german</td>\n",
       "      <td>0.676975</td>\n",
       "      <td>0.9139</td>\n",
       "      <td>1.275053</td>\n",
       "    </tr>\n",
       "  </tbody>\n",
       "</table>\n",
       "</div>"
      ],
      "text/plain": [
       "                        universe_id universe_training_year  \\\n",
       "0  b3b4f7879b0f31ea382c3c2c0375a9f6                2010_14   \n",
       "\n",
       "  universe_training_size universe_scale    universe_model  \\\n",
       "0                     1k   do-not-scale  penalized_logreg   \n",
       "\n",
       "  universe_exclude_features universe_exclude_subgroups     q_hat  coverage  \\\n",
       "0                       age            drop-non-german  0.676975    0.9139   \n",
       "\n",
       "   avg_size  \n",
       "0  1.275053  "
      ]
     },
     "execution_count": 50,
     "metadata": {},
     "output_type": "execute_result"
    }
   ],
   "source": [
    "cp_metrics_df"
   ]
  },
  {
   "cell_type": "code",
   "execution_count": 51,
   "id": "b7fbde55-a0a1-47e4-9af6-fe4a17fa8c61",
   "metadata": {
    "execution": {
     "iopub.execute_input": "2025-08-05T16:41:05.813248Z",
     "iopub.status.busy": "2025-08-05T16:41:05.812485Z",
     "iopub.status.idle": "2025-08-05T16:41:05.817096Z",
     "shell.execute_reply": "2025-08-05T16:41:05.816323Z"
    },
    "papermill": {
     "duration": 0.019134,
     "end_time": "2025-08-05T16:41:05.818695",
     "exception": false,
     "start_time": "2025-08-05T16:41:05.799561",
     "status": "completed"
    },
    "tags": []
   },
   "outputs": [],
   "source": [
    "# Conditional Coverage & looking at subgroups"
   ]
  },
  {
   "cell_type": "code",
   "execution_count": 52,
   "id": "027ae886-68dd-4141-96c7-805a5450e1ef",
   "metadata": {
    "execution": {
     "iopub.execute_input": "2025-08-05T16:41:05.846425Z",
     "iopub.status.busy": "2025-08-05T16:41:05.845656Z",
     "iopub.status.idle": "2025-08-05T16:41:06.062810Z",
     "shell.execute_reply": "2025-08-05T16:41:06.062081Z"
    },
    "papermill": {
     "duration": 0.231431,
     "end_time": "2025-08-05T16:41:06.064324",
     "exception": false,
     "start_time": "2025-08-05T16:41:05.832893",
     "status": "completed"
    },
    "tags": []
   },
   "outputs": [],
   "source": [
    "from fairness_multiverse.conformal import build_cp_groups\n",
    "\n",
    "cp_groups_df = build_cp_groups(pred_sets, y_true, X_test.index, org_test)\n",
    "#needs universe_id and setting"
   ]
  },
  {
   "cell_type": "code",
   "execution_count": 53,
   "id": "6cbdab96-b2b2-45af-ad54-d0516db2e28d",
   "metadata": {
    "execution": {
     "iopub.execute_input": "2025-08-05T16:41:06.107837Z",
     "iopub.status.busy": "2025-08-05T16:41:06.107402Z",
     "iopub.status.idle": "2025-08-05T16:41:07.481757Z",
     "shell.execute_reply": "2025-08-05T16:41:07.480573Z"
    },
    "papermill": {
     "duration": 1.400959,
     "end_time": "2025-08-05T16:41:07.484293",
     "exception": false,
     "start_time": "2025-08-05T16:41:06.083334",
     "status": "completed"
    },
    "tags": []
   },
   "outputs": [],
   "source": [
    "# Define covered = 1 if true_label is in the predicted set\n",
    "cp_groups_df['covered'] = cp_groups_df.apply(\n",
    "    lambda r: int(r['true_label'] in r['pred_set']),\n",
    "    axis=1\n",
    ")"
   ]
  },
  {
   "cell_type": "code",
   "execution_count": 54,
   "id": "338ff529-1a6b-4b87-a931-8e4788d52aad",
   "metadata": {
    "execution": {
     "iopub.execute_input": "2025-08-05T16:41:07.552691Z",
     "iopub.status.busy": "2025-08-05T16:41:07.552174Z",
     "iopub.status.idle": "2025-08-05T16:41:07.557934Z",
     "shell.execute_reply": "2025-08-05T16:41:07.556821Z"
    },
    "papermill": {
     "duration": 0.041986,
     "end_time": "2025-08-05T16:41:07.560492",
     "exception": false,
     "start_time": "2025-08-05T16:41:07.518506",
     "status": "completed"
    },
    "tags": []
   },
   "outputs": [],
   "source": [
    "#cp_groups_df"
   ]
  },
  {
   "cell_type": "code",
   "execution_count": 55,
   "id": "90032e27-66df-4540-9169-4e89cfbaa758",
   "metadata": {
    "execution": {
     "iopub.execute_input": "2025-08-05T16:41:07.626898Z",
     "iopub.status.busy": "2025-08-05T16:41:07.625810Z",
     "iopub.status.idle": "2025-08-05T16:41:07.638869Z",
     "shell.execute_reply": "2025-08-05T16:41:07.637684Z"
    },
    "papermill": {
     "duration": 0.048188,
     "end_time": "2025-08-05T16:41:07.641290",
     "exception": false,
     "start_time": "2025-08-05T16:41:07.593102",
     "status": "completed"
    },
    "tags": []
   },
   "outputs": [],
   "source": [
    "subgroups = ['frau1','nongerman','nongerman_male','nongerman_female']\n",
    "\n",
    "# Conditional coverage for subgroup==1\n",
    "cond_coverage = {\n",
    "    g: cp_groups_df.loc[cp_groups_df[g]==1, 'covered'].mean()\n",
    "    for g in subgroups\n",
    "}"
   ]
  },
  {
   "cell_type": "code",
   "execution_count": 56,
   "id": "1e348fb1-b9c3-45bc-ba23-f016827a7e0d",
   "metadata": {
    "execution": {
     "iopub.execute_input": "2025-08-05T16:41:07.706345Z",
     "iopub.status.busy": "2025-08-05T16:41:07.705925Z",
     "iopub.status.idle": "2025-08-05T16:41:07.713887Z",
     "shell.execute_reply": "2025-08-05T16:41:07.712412Z"
    },
    "papermill": {
     "duration": 0.043145,
     "end_time": "2025-08-05T16:41:07.716368",
     "exception": false,
     "start_time": "2025-08-05T16:41:07.673223",
     "status": "completed"
    },
    "tags": []
   },
   "outputs": [
    {
     "data": {
      "text/plain": [
       "{'frau1': 0.9156759671114706,\n",
       " 'nongerman': 0.9650255431426487,\n",
       " 'nongerman_male': 0.9698279744213276,\n",
       " 'nongerman_female': 0.9570789865871833}"
      ]
     },
     "execution_count": 56,
     "metadata": {},
     "output_type": "execute_result"
    }
   ],
   "source": [
    "cond_coverage"
   ]
  },
  {
   "cell_type": "code",
   "execution_count": 57,
   "id": "f5093324-c3dd-4d63-bc4c-8d945e5c8bbb",
   "metadata": {
    "execution": {
     "iopub.execute_input": "2025-08-05T16:41:07.783954Z",
     "iopub.status.busy": "2025-08-05T16:41:07.782844Z",
     "iopub.status.idle": "2025-08-05T16:41:07.791456Z",
     "shell.execute_reply": "2025-08-05T16:41:07.790173Z"
    },
    "papermill": {
     "duration": 0.043504,
     "end_time": "2025-08-05T16:41:07.793878",
     "exception": false,
     "start_time": "2025-08-05T16:41:07.750374",
     "status": "completed"
    },
    "tags": []
   },
   "outputs": [],
   "source": [
    "for subgroup, cov in cond_coverage.items():\n",
    "    cp_metrics_df[f\"cov_{subgroup}\"] = cov"
   ]
  },
  {
   "cell_type": "code",
   "execution_count": 58,
   "id": "6e872e10-dbe5-49e8-b554-5030c98ff75d",
   "metadata": {
    "execution": {
     "iopub.execute_input": "2025-08-05T16:41:07.861753Z",
     "iopub.status.busy": "2025-08-05T16:41:07.861135Z",
     "iopub.status.idle": "2025-08-05T16:41:07.882423Z",
     "shell.execute_reply": "2025-08-05T16:41:07.881090Z"
    },
    "papermill": {
     "duration": 0.057619,
     "end_time": "2025-08-05T16:41:07.884810",
     "exception": false,
     "start_time": "2025-08-05T16:41:07.827191",
     "status": "completed"
    },
    "tags": []
   },
   "outputs": [
    {
     "data": {
      "text/html": [
       "<div>\n",
       "<style scoped>\n",
       "    .dataframe tbody tr th:only-of-type {\n",
       "        vertical-align: middle;\n",
       "    }\n",
       "\n",
       "    .dataframe tbody tr th {\n",
       "        vertical-align: top;\n",
       "    }\n",
       "\n",
       "    .dataframe thead th {\n",
       "        text-align: right;\n",
       "    }\n",
       "</style>\n",
       "<table border=\"1\" class=\"dataframe\">\n",
       "  <thead>\n",
       "    <tr style=\"text-align: right;\">\n",
       "      <th></th>\n",
       "      <th>universe_id</th>\n",
       "      <th>universe_training_year</th>\n",
       "      <th>universe_training_size</th>\n",
       "      <th>universe_scale</th>\n",
       "      <th>universe_model</th>\n",
       "      <th>universe_exclude_features</th>\n",
       "      <th>universe_exclude_subgroups</th>\n",
       "      <th>q_hat</th>\n",
       "      <th>coverage</th>\n",
       "      <th>avg_size</th>\n",
       "      <th>cov_frau1</th>\n",
       "      <th>cov_nongerman</th>\n",
       "      <th>cov_nongerman_male</th>\n",
       "      <th>cov_nongerman_female</th>\n",
       "    </tr>\n",
       "  </thead>\n",
       "  <tbody>\n",
       "    <tr>\n",
       "      <th>0</th>\n",
       "      <td>b3b4f7879b0f31ea382c3c2c0375a9f6</td>\n",
       "      <td>2010_14</td>\n",
       "      <td>1k</td>\n",
       "      <td>do-not-scale</td>\n",
       "      <td>penalized_logreg</td>\n",
       "      <td>age</td>\n",
       "      <td>drop-non-german</td>\n",
       "      <td>0.676975</td>\n",
       "      <td>0.9139</td>\n",
       "      <td>1.275053</td>\n",
       "      <td>0.915676</td>\n",
       "      <td>0.965026</td>\n",
       "      <td>0.969828</td>\n",
       "      <td>0.957079</td>\n",
       "    </tr>\n",
       "  </tbody>\n",
       "</table>\n",
       "</div>"
      ],
      "text/plain": [
       "                        universe_id universe_training_year  \\\n",
       "0  b3b4f7879b0f31ea382c3c2c0375a9f6                2010_14   \n",
       "\n",
       "  universe_training_size universe_scale    universe_model  \\\n",
       "0                     1k   do-not-scale  penalized_logreg   \n",
       "\n",
       "  universe_exclude_features universe_exclude_subgroups     q_hat  coverage  \\\n",
       "0                       age            drop-non-german  0.676975    0.9139   \n",
       "\n",
       "   avg_size  cov_frau1  cov_nongerman  cov_nongerman_male  \\\n",
       "0  1.275053   0.915676       0.965026            0.969828   \n",
       "\n",
       "   cov_nongerman_female  \n",
       "0              0.957079  "
      ]
     },
     "execution_count": 58,
     "metadata": {},
     "output_type": "execute_result"
    }
   ],
   "source": [
    "cp_metrics_df"
   ]
  },
  {
   "cell_type": "markdown",
   "id": "33774451",
   "metadata": {
    "papermill": {
     "duration": 0.033263,
     "end_time": "2025-08-05T16:41:07.952790",
     "exception": false,
     "start_time": "2025-08-05T16:41:07.919527",
     "status": "completed"
    },
    "tags": []
   },
   "source": [
    "# (Fairness) Metrics"
   ]
  },
  {
   "cell_type": "code",
   "execution_count": 59,
   "id": "debc5d62",
   "metadata": {
    "execution": {
     "iopub.execute_input": "2025-08-05T16:41:08.020187Z",
     "iopub.status.busy": "2025-08-05T16:41:08.019703Z",
     "iopub.status.idle": "2025-08-05T16:41:08.045301Z",
     "shell.execute_reply": "2025-08-05T16:41:08.044007Z"
    },
    "papermill": {
     "duration": 0.061828,
     "end_time": "2025-08-05T16:41:08.047692",
     "exception": false,
     "start_time": "2025-08-05T16:41:07.985864",
     "status": "completed"
    },
    "tags": []
   },
   "outputs": [],
   "source": [
    "# do I need to include maxdeutsch1.missing?\n",
    "\n",
    "import numpy as np\n",
    "\n",
    "colname_to_bin = \"maxdeutsch1\"\n",
    "majority_value = org_train[colname_to_bin].mode()[0]\n",
    "\n",
    "org_test[\"majmin\"] = np.where(org_test[colname_to_bin] == majority_value, \"majority\", \"minority\")"
   ]
  },
  {
   "cell_type": "code",
   "execution_count": 60,
   "id": "06a50de5",
   "metadata": {
    "execution": {
     "iopub.execute_input": "2025-08-05T16:41:08.122186Z",
     "iopub.status.busy": "2025-08-05T16:41:08.121772Z",
     "iopub.status.idle": "2025-08-05T16:41:10.669369Z",
     "shell.execute_reply": "2025-08-05T16:41:10.668358Z"
    },
    "papermill": {
     "duration": 2.588661,
     "end_time": "2025-08-05T16:41:10.671544",
     "exception": false,
     "start_time": "2025-08-05T16:41:08.082883",
     "status": "completed"
    },
    "tags": []
   },
   "outputs": [],
   "source": [
    "example_universe = universe.copy()\n",
    "example_universe[\"cutoff\"] = example_universe[\"cutoff\"][0]\n",
    "example_universe[\"eval_fairness_grouping\"] = example_universe[\"eval_fairness_grouping\"][0]\n",
    "fairness_dict, metric_frame = universe_analysis.compute_metrics(\n",
    "    example_universe,\n",
    "    y_pred_prob=probs_test,\n",
    "    y_test=y_true,\n",
    "    org_test=org_test,\n",
    ")"
   ]
  },
  {
   "cell_type": "markdown",
   "id": "f95d4e02",
   "metadata": {
    "papermill": {
     "duration": 0.0248,
     "end_time": "2025-08-05T16:41:10.721483",
     "exception": false,
     "start_time": "2025-08-05T16:41:10.696683",
     "status": "completed"
    },
    "tags": []
   },
   "source": [
    "# Overall"
   ]
  },
  {
   "cell_type": "markdown",
   "id": "bdee4871",
   "metadata": {
    "papermill": {
     "duration": 0.025161,
     "end_time": "2025-08-05T16:41:10.771360",
     "exception": false,
     "start_time": "2025-08-05T16:41:10.746199",
     "status": "completed"
    },
    "tags": []
   },
   "source": [
    "Fairness\n",
    "Main fairness target: Equalized Odds. Seems to be a better fit than equal opportunity, since we're not only interested in Y = 1. Seems to be a better fit than demographic parity, since we also care about accuracy, not just equal distribution of preds.\n",
    "\n",
    "Pick column for computation of fairness metrics\n",
    "\n",
    "Performance\n",
    "Overall performance measures, most interesting in relation to the measures split by group below"
   ]
  },
  {
   "cell_type": "code",
   "execution_count": 61,
   "id": "c4e067c6",
   "metadata": {
    "execution": {
     "iopub.execute_input": "2025-08-05T16:41:10.830427Z",
     "iopub.status.busy": "2025-08-05T16:41:10.829914Z",
     "iopub.status.idle": "2025-08-05T16:41:10.839022Z",
     "shell.execute_reply": "2025-08-05T16:41:10.837955Z"
    },
    "papermill": {
     "duration": 0.041079,
     "end_time": "2025-08-05T16:41:10.841433",
     "exception": false,
     "start_time": "2025-08-05T16:41:10.800354",
     "status": "completed"
    },
    "tags": []
   },
   "outputs": [
    {
     "data": {
      "text/plain": [
       "accuracy                   0.212875\n",
       "balanced accuracy          0.522917\n",
       "f1                         0.234523\n",
       "precision                  0.133975\n",
       "false positive rate        0.894120\n",
       "false negative rate        0.060045\n",
       "selection rate             0.900000\n",
       "count                  89710.000000\n",
       "dtype: float64"
      ]
     },
     "execution_count": 61,
     "metadata": {},
     "output_type": "execute_result"
    }
   ],
   "source": [
    "metric_frame.overall"
   ]
  },
  {
   "cell_type": "markdown",
   "id": "e968fe9d",
   "metadata": {
    "papermill": {
     "duration": 0.030821,
     "end_time": "2025-08-05T16:41:10.908217",
     "exception": false,
     "start_time": "2025-08-05T16:41:10.877396",
     "status": "completed"
    },
    "tags": []
   },
   "source": [
    "By Group"
   ]
  },
  {
   "cell_type": "code",
   "execution_count": 62,
   "id": "ec325bce",
   "metadata": {
    "execution": {
     "iopub.execute_input": "2025-08-05T16:41:10.957776Z",
     "iopub.status.busy": "2025-08-05T16:41:10.957250Z",
     "iopub.status.idle": "2025-08-05T16:41:10.974131Z",
     "shell.execute_reply": "2025-08-05T16:41:10.972905Z"
    },
    "papermill": {
     "duration": 0.043126,
     "end_time": "2025-08-05T16:41:10.975885",
     "exception": false,
     "start_time": "2025-08-05T16:41:10.932759",
     "status": "completed"
    },
    "tags": []
   },
   "outputs": [
    {
     "data": {
      "text/html": [
       "<div>\n",
       "<style scoped>\n",
       "    .dataframe tbody tr th:only-of-type {\n",
       "        vertical-align: middle;\n",
       "    }\n",
       "\n",
       "    .dataframe tbody tr th {\n",
       "        vertical-align: top;\n",
       "    }\n",
       "\n",
       "    .dataframe thead th {\n",
       "        text-align: right;\n",
       "    }\n",
       "</style>\n",
       "<table border=\"1\" class=\"dataframe\">\n",
       "  <thead>\n",
       "    <tr style=\"text-align: right;\">\n",
       "      <th></th>\n",
       "      <th>accuracy</th>\n",
       "      <th>balanced accuracy</th>\n",
       "      <th>f1</th>\n",
       "      <th>precision</th>\n",
       "      <th>false positive rate</th>\n",
       "      <th>false negative rate</th>\n",
       "      <th>selection rate</th>\n",
       "      <th>count</th>\n",
       "    </tr>\n",
       "    <tr>\n",
       "      <th>majmin</th>\n",
       "      <th></th>\n",
       "      <th></th>\n",
       "      <th></th>\n",
       "      <th></th>\n",
       "      <th></th>\n",
       "      <th></th>\n",
       "      <th></th>\n",
       "      <th></th>\n",
       "    </tr>\n",
       "  </thead>\n",
       "  <tbody>\n",
       "    <tr>\n",
       "      <th>majority</th>\n",
       "      <td>0.234133</td>\n",
       "      <td>0.528526</td>\n",
       "      <td>0.242684</td>\n",
       "      <td>0.139580</td>\n",
       "      <td>0.871614</td>\n",
       "      <td>0.071335</td>\n",
       "      <td>0.879153</td>\n",
       "      <td>69170.0</td>\n",
       "    </tr>\n",
       "    <tr>\n",
       "      <th>minority</th>\n",
       "      <td>0.141285</td>\n",
       "      <td>0.507531</td>\n",
       "      <td>0.208916</td>\n",
       "      <td>0.116871</td>\n",
       "      <td>0.968468</td>\n",
       "      <td>0.016470</td>\n",
       "      <td>0.970204</td>\n",
       "      <td>20540.0</td>\n",
       "    </tr>\n",
       "  </tbody>\n",
       "</table>\n",
       "</div>"
      ],
      "text/plain": [
       "          accuracy  balanced accuracy        f1  precision  \\\n",
       "majmin                                                       \n",
       "majority  0.234133           0.528526  0.242684   0.139580   \n",
       "minority  0.141285           0.507531  0.208916   0.116871   \n",
       "\n",
       "          false positive rate  false negative rate  selection rate    count  \n",
       "majmin                                                                       \n",
       "majority             0.871614             0.071335        0.879153  69170.0  \n",
       "minority             0.968468             0.016470        0.970204  20540.0  "
      ]
     },
     "execution_count": 62,
     "metadata": {},
     "output_type": "execute_result"
    }
   ],
   "source": [
    "metric_frame.by_group"
   ]
  },
  {
   "cell_type": "code",
   "execution_count": 63,
   "id": "a9ddbe63",
   "metadata": {
    "execution": {
     "iopub.execute_input": "2025-08-05T16:41:11.030861Z",
     "iopub.status.busy": "2025-08-05T16:41:11.030396Z",
     "iopub.status.idle": "2025-08-05T16:41:13.557984Z",
     "shell.execute_reply": "2025-08-05T16:41:13.557059Z"
    },
    "papermill": {
     "duration": 2.55887,
     "end_time": "2025-08-05T16:41:13.559451",
     "exception": false,
     "start_time": "2025-08-05T16:41:11.000581",
     "status": "completed"
    },
    "tags": []
   },
   "outputs": [
    {
     "data": {
      "text/plain": [
       "array([[<Axes: title={'center': 'accuracy'}, xlabel='majmin'>,\n",
       "        <Axes: title={'center': 'balanced accuracy'}, xlabel='majmin'>,\n",
       "        <Axes: title={'center': 'f1'}, xlabel='majmin'>],\n",
       "       [<Axes: title={'center': 'precision'}, xlabel='majmin'>,\n",
       "        <Axes: title={'center': 'false positive rate'}, xlabel='majmin'>,\n",
       "        <Axes: title={'center': 'false negative rate'}, xlabel='majmin'>],\n",
       "       [<Axes: title={'center': 'selection rate'}, xlabel='majmin'>,\n",
       "        <Axes: title={'center': 'count'}, xlabel='majmin'>,\n",
       "        <Axes: xlabel='majmin'>]], dtype=object)"
      ]
     },
     "execution_count": 63,
     "metadata": {},
     "output_type": "execute_result"
    },
    {
     "data": {
      "image/png": "[encoded data removed]",
      "text/plain": [
       "<Figure size 1200x800 with 9 Axes>"
      ]
     },
     "metadata": {},
     "output_type": "display_data"
    }
   ],
   "source": [
    "# In a graphic\n",
    "metric_frame.by_group.plot.bar(\n",
    "    subplots=True,\n",
    "    layout=[3, 3],\n",
    "    legend=False,\n",
    "    figsize=[12, 8],\n",
    "    title=\"Show all metrics\",\n",
    ")"
   ]
  },
  {
   "cell_type": "markdown",
   "id": "f57a0bac",
   "metadata": {
    "papermill": {
     "duration": 0.022879,
     "end_time": "2025-08-05T16:41:13.607310",
     "exception": false,
     "start_time": "2025-08-05T16:41:13.584431",
     "status": "completed"
    },
    "tags": []
   },
   "source": [
    "# Final Output"
   ]
  },
  {
   "cell_type": "code",
   "execution_count": 64,
   "id": "96d280a3",
   "metadata": {
    "execution": {
     "iopub.execute_input": "2025-08-05T16:41:13.653778Z",
     "iopub.status.busy": "2025-08-05T16:41:13.653070Z",
     "iopub.status.idle": "2025-08-05T16:41:13.661903Z",
     "shell.execute_reply": "2025-08-05T16:41:13.660789Z"
    },
    "papermill": {
     "duration": 0.034667,
     "end_time": "2025-08-05T16:41:13.663661",
     "exception": false,
     "start_time": "2025-08-05T16:41:13.628994",
     "status": "completed"
    },
    "tags": []
   },
   "outputs": [
    {
     "data": {
      "text/plain": [
       "4"
      ]
     },
     "execution_count": 64,
     "metadata": {},
     "output_type": "execute_result"
    }
   ],
   "source": [
    "sub_universes = universe_analysis.generate_sub_universes()\n",
    "len(sub_universes)"
   ]
  },
  {
   "cell_type": "code",
   "execution_count": 65,
   "id": "92adf7ba",
   "metadata": {
    "execution": {
     "iopub.execute_input": "2025-08-05T16:41:13.719743Z",
     "iopub.status.busy": "2025-08-05T16:41:13.718660Z",
     "iopub.status.idle": "2025-08-05T16:41:13.804103Z",
     "shell.execute_reply": "2025-08-05T16:41:13.802804Z"
    },
    "papermill": {
     "duration": 0.116238,
     "end_time": "2025-08-05T16:41:13.806807",
     "exception": false,
     "start_time": "2025-08-05T16:41:13.690569",
     "status": "completed"
    },
    "tags": []
   },
   "outputs": [],
   "source": [
    "def filter_sub_universe_data(sub_universe, org_test):\n",
    "    # Keep all rows — no filtering\n",
    "    keep_rows_mask = np.ones(org_test.shape[0], dtype=bool)\n",
    "\n",
    "    print(f\"[INFO] Keeping all rows: {keep_rows_mask.sum()} rows retained.\")\n",
    "    return keep_rows_mask"
   ]
  },
  {
   "cell_type": "code",
   "execution_count": 66,
   "id": "4a759155",
   "metadata": {
    "execution": {
     "iopub.execute_input": "2025-08-05T16:41:13.863993Z",
     "iopub.status.busy": "2025-08-05T16:41:13.863254Z",
     "iopub.status.idle": "2025-08-05T16:41:22.329760Z",
     "shell.execute_reply": "2025-08-05T16:41:22.328709Z"
    },
    "papermill": {
     "duration": 8.496911,
     "end_time": "2025-08-05T16:41:22.331596",
     "exception": false,
     "start_time": "2025-08-05T16:41:13.834685",
     "status": "completed"
    },
    "tags": []
   },
   "outputs": [
    {
     "name": "stdout",
     "output_type": "stream",
     "text": [
      "Stopping execution_time clock.\n",
      "[INFO] Keeping all rows: 89710 rows retained.\n"
     ]
    },
    {
     "name": "stdout",
     "output_type": "stream",
     "text": [
      "[INFO] Keeping all rows: 89710 rows retained.\n"
     ]
    },
    {
     "name": "stdout",
     "output_type": "stream",
     "text": [
      "[INFO] Keeping all rows: 89710 rows retained.\n"
     ]
    },
    {
     "name": "stdout",
     "output_type": "stream",
     "text": [
      "[INFO] Keeping all rows: 89710 rows retained.\n"
     ]
    },
    {
     "data": {
      "text/html": [
       "<div>\n",
       "<style scoped>\n",
       "    .dataframe tbody tr th:only-of-type {\n",
       "        vertical-align: middle;\n",
       "    }\n",
       "\n",
       "    .dataframe tbody tr th {\n",
       "        vertical-align: top;\n",
       "    }\n",
       "\n",
       "    .dataframe thead th {\n",
       "        text-align: right;\n",
       "    }\n",
       "</style>\n",
       "<table border=\"1\" class=\"dataframe\">\n",
       "  <thead>\n",
       "    <tr style=\"text-align: right;\">\n",
       "      <th></th>\n",
       "      <th>run_no</th>\n",
       "      <th>universe_id</th>\n",
       "      <th>universe_settings</th>\n",
       "      <th>execution_time</th>\n",
       "      <th>test_size_n</th>\n",
       "      <th>test_size_frac</th>\n",
       "      <th>fair_main_equalized_odds_difference</th>\n",
       "      <th>fair_main_equalized_odds_ratio</th>\n",
       "      <th>fair_main_demographic_parity_difference</th>\n",
       "      <th>fair_main_demographic_parity_ratio</th>\n",
       "      <th>...</th>\n",
       "      <th>perf_grp_precision_0</th>\n",
       "      <th>perf_grp_precision_1</th>\n",
       "      <th>perf_grp_false positive rate_0</th>\n",
       "      <th>perf_grp_false positive rate_1</th>\n",
       "      <th>perf_grp_false negative rate_0</th>\n",
       "      <th>perf_grp_false negative rate_1</th>\n",
       "      <th>perf_grp_selection rate_0</th>\n",
       "      <th>perf_grp_selection rate_1</th>\n",
       "      <th>perf_grp_count_0</th>\n",
       "      <th>perf_grp_count_1</th>\n",
       "    </tr>\n",
       "  </thead>\n",
       "  <tbody>\n",
       "    <tr>\n",
       "      <th>0</th>\n",
       "      <td>15</td>\n",
       "      <td>b3b4f7879b0f31ea382c3c2c0375a9f6</td>\n",
       "      <td>{\"cutoff\": \"quantile_0.1\", \"eval_fairness_grou...</td>\n",
       "      <td>25.448467</td>\n",
       "      <td>89710</td>\n",
       "      <td>1.0</td>\n",
       "      <td>0.096854</td>\n",
       "      <td>0.899993</td>\n",
       "      <td>0.091052</td>\n",
       "      <td>0.906152</td>\n",
       "      <td>...</td>\n",
       "      <td>NaN</td>\n",
       "      <td>NaN</td>\n",
       "      <td>NaN</td>\n",
       "      <td>NaN</td>\n",
       "      <td>NaN</td>\n",
       "      <td>NaN</td>\n",
       "      <td>NaN</td>\n",
       "      <td>NaN</td>\n",
       "      <td>NaN</td>\n",
       "      <td>NaN</td>\n",
       "    </tr>\n",
       "    <tr>\n",
       "      <th>0</th>\n",
       "      <td>15</td>\n",
       "      <td>b3b4f7879b0f31ea382c3c2c0375a9f6</td>\n",
       "      <td>{\"cutoff\": \"quantile_0.1\", \"eval_fairness_grou...</td>\n",
       "      <td>25.448467</td>\n",
       "      <td>89710</td>\n",
       "      <td>1.0</td>\n",
       "      <td>0.096854</td>\n",
       "      <td>0.899993</td>\n",
       "      <td>0.091052</td>\n",
       "      <td>0.906152</td>\n",
       "      <td>...</td>\n",
       "      <td>0.116871</td>\n",
       "      <td>0.139580</td>\n",
       "      <td>0.968468</td>\n",
       "      <td>0.871614</td>\n",
       "      <td>0.016470</td>\n",
       "      <td>0.071335</td>\n",
       "      <td>0.970204</td>\n",
       "      <td>0.879153</td>\n",
       "      <td>20540.0</td>\n",
       "      <td>69170.0</td>\n",
       "    </tr>\n",
       "    <tr>\n",
       "      <th>0</th>\n",
       "      <td>15</td>\n",
       "      <td>b3b4f7879b0f31ea382c3c2c0375a9f6</td>\n",
       "      <td>{\"cutoff\": \"quantile_0.25\", \"eval_fairness_gro...</td>\n",
       "      <td>25.448467</td>\n",
       "      <td>89710</td>\n",
       "      <td>1.0</td>\n",
       "      <td>0.227660</td>\n",
       "      <td>0.749559</td>\n",
       "      <td>0.212861</td>\n",
       "      <td>0.767141</td>\n",
       "      <td>...</td>\n",
       "      <td>NaN</td>\n",
       "      <td>NaN</td>\n",
       "      <td>NaN</td>\n",
       "      <td>NaN</td>\n",
       "      <td>NaN</td>\n",
       "      <td>NaN</td>\n",
       "      <td>NaN</td>\n",
       "      <td>NaN</td>\n",
       "      <td>NaN</td>\n",
       "      <td>NaN</td>\n",
       "    </tr>\n",
       "    <tr>\n",
       "      <th>0</th>\n",
       "      <td>15</td>\n",
       "      <td>b3b4f7879b0f31ea382c3c2c0375a9f6</td>\n",
       "      <td>{\"cutoff\": \"quantile_0.25\", \"eval_fairness_gro...</td>\n",
       "      <td>25.448467</td>\n",
       "      <td>89710</td>\n",
       "      <td>1.0</td>\n",
       "      <td>0.227660</td>\n",
       "      <td>0.749559</td>\n",
       "      <td>0.212861</td>\n",
       "      <td>0.767141</td>\n",
       "      <td>...</td>\n",
       "      <td>0.120207</td>\n",
       "      <td>0.156743</td>\n",
       "      <td>0.909036</td>\n",
       "      <td>0.681376</td>\n",
       "      <td>0.046875</td>\n",
       "      <td>0.168162</td>\n",
       "      <td>0.914119</td>\n",
       "      <td>0.701258</td>\n",
       "      <td>20540.0</td>\n",
       "      <td>69170.0</td>\n",
       "    </tr>\n",
       "  </tbody>\n",
       "</table>\n",
       "<p>4 rows × 50 columns</p>\n",
       "</div>"
      ],
      "text/plain": [
       "  run_no                       universe_id  \\\n",
       "0     15  b3b4f7879b0f31ea382c3c2c0375a9f6   \n",
       "0     15  b3b4f7879b0f31ea382c3c2c0375a9f6   \n",
       "0     15  b3b4f7879b0f31ea382c3c2c0375a9f6   \n",
       "0     15  b3b4f7879b0f31ea382c3c2c0375a9f6   \n",
       "\n",
       "                                   universe_settings  execution_time  \\\n",
       "0  {\"cutoff\": \"quantile_0.1\", \"eval_fairness_grou...       25.448467   \n",
       "0  {\"cutoff\": \"quantile_0.1\", \"eval_fairness_grou...       25.448467   \n",
       "0  {\"cutoff\": \"quantile_0.25\", \"eval_fairness_gro...       25.448467   \n",
       "0  {\"cutoff\": \"quantile_0.25\", \"eval_fairness_gro...       25.448467   \n",
       "\n",
       "   test_size_n  test_size_frac  fair_main_equalized_odds_difference  \\\n",
       "0        89710             1.0                             0.096854   \n",
       "0        89710             1.0                             0.096854   \n",
       "0        89710             1.0                             0.227660   \n",
       "0        89710             1.0                             0.227660   \n",
       "\n",
       "   fair_main_equalized_odds_ratio  fair_main_demographic_parity_difference  \\\n",
       "0                        0.899993                                 0.091052   \n",
       "0                        0.899993                                 0.091052   \n",
       "0                        0.749559                                 0.212861   \n",
       "0                        0.749559                                 0.212861   \n",
       "\n",
       "   fair_main_demographic_parity_ratio  ...  perf_grp_precision_0  \\\n",
       "0                            0.906152  ...                   NaN   \n",
       "0                            0.906152  ...              0.116871   \n",
       "0                            0.767141  ...                   NaN   \n",
       "0                            0.767141  ...              0.120207   \n",
       "\n",
       "   perf_grp_precision_1  perf_grp_false positive rate_0  \\\n",
       "0                   NaN                             NaN   \n",
       "0              0.139580                        0.968468   \n",
       "0                   NaN                             NaN   \n",
       "0              0.156743                        0.909036   \n",
       "\n",
       "   perf_grp_false positive rate_1  perf_grp_false negative rate_0  \\\n",
       "0                             NaN                             NaN   \n",
       "0                        0.871614                        0.016470   \n",
       "0                             NaN                             NaN   \n",
       "0                        0.681376                        0.046875   \n",
       "\n",
       "   perf_grp_false negative rate_1  perf_grp_selection rate_0  \\\n",
       "0                             NaN                        NaN   \n",
       "0                        0.071335                   0.970204   \n",
       "0                             NaN                        NaN   \n",
       "0                        0.168162                   0.914119   \n",
       "\n",
       "   perf_grp_selection rate_1  perf_grp_count_0  perf_grp_count_1  \n",
       "0                        NaN               NaN               NaN  \n",
       "0                   0.879153           20540.0           69170.0  \n",
       "0                        NaN               NaN               NaN  \n",
       "0                   0.701258           20540.0           69170.0  \n",
       "\n",
       "[4 rows x 50 columns]"
      ]
     },
     "execution_count": 66,
     "metadata": {},
     "output_type": "execute_result"
    }
   ],
   "source": [
    "final_output = universe_analysis.generate_final_output(\n",
    "    y_pred_prob=probs_test,\n",
    "    y_test=y_true,\n",
    "    org_test=org_test,\n",
    "    filter_data=filter_sub_universe_data,\n",
    "    cp_metrics_df=cp_metrics_df,\n",
    "    save=True,\n",
    ")\n",
    "final_output"
   ]
  }
 ],
 "metadata": {
  "celltoolbar": "Tags",
  "kernelspec": {
   "display_name": "Python (CMA Fairness)",
   "language": "python",
   "name": "cma_fair_env"
  },
  "language_info": {
   "codemirror_mode": {
    "name": "ipython",
    "version": 3
   },
   "file_extension": ".py",
   "mimetype": "text/x-python",
   "name": "python",
   "nbconvert_exporter": "python",
   "pygments_lexer": "ipython3",
   "version": "3.10.12"
  },
  "papermill": {
   "default_parameters": {},
   "duration": 38.142061,
   "end_time": "2025-08-05T16:41:23.183518",
   "environment_variables": {},
   "exception": null,
   "input_path": "universe_analysis.ipynb",
   "output_path": "output/runs/15/notebooks/m_15-b3b4f7879b0f31ea382c3c2c0375a9f6.ipynb",
   "parameters": {
    "output_dir": "output",
    "run_no": "15",
    "seed": "2023",
    "universe": "{\"cutoff\": [\"quantile_0.1\", \"quantile_0.25\"], \"eval_fairness_grouping\": [\"majority-minority\", \"nationality-all\"], \"exclude_features\": \"age\", \"exclude_subgroups\": \"drop-non-german\", \"model\": \"penalized_logreg\", \"scale\": \"do-not-scale\", \"training_size\": \"1k\", \"training_year\": \"2010_14\"}",
    "universe_id": "b3b4f7879b0f31ea382c3c2c0375a9f6"
   },
   "start_time": "2025-08-05T16:40:45.041457",
   "version": "2.6.0"
  }
 },
 "nbformat": 4,
 "nbformat_minor": 5
}