{
 "cells": [
  {
   "cell_type": "code",
   "execution_count": 1,
   "id": "f159f837-637b-42ba-96b5-ec9a68c44524",
   "metadata": {
    "execution": {
     "iopub.execute_input": "2025-08-05T14:39:15.275186Z",
     "iopub.status.busy": "2025-08-05T14:39:15.274389Z",
     "iopub.status.idle": "2025-08-05T14:39:15.288332Z",
     "shell.execute_reply": "2025-08-05T14:39:15.287367Z"
    },
    "papermill": {
     "duration": 0.035154,
     "end_time": "2025-08-05T14:39:15.290080",
     "exception": false,
     "start_time": "2025-08-05T14:39:15.254926",
     "status": "completed"
    },
    "tags": []
   },
   "outputs": [
    {
     "name": "stdout",
     "output_type": "stream",
     "text": [
      "/dss/dsshome1/0C/ra93lal2/cma/CMA_Fairness_v2\n"
     ]
    },
    {
     "name": "stderr",
     "output_type": "stream",
     "text": [
      "/dss/dsshome1/0C/ra93lal2/.local/share/virtualenvs/CMA_Fairness_v2-3j10GkSs/lib/python3.10/site-packages/IPython/core/magics/osm.py:393: UserWarning: This is now an optional IPython functionality, using bookmarks requires you to install the `pickleshare` library.\n",
      "  bkms = self.shell.db.get('bookmarks', {})\n",
      "/dss/dsshome1/0C/ra93lal2/.local/share/virtualenvs/CMA_Fairness_v2-3j10GkSs/lib/python3.10/site-packages/IPython/core/magics/osm.py:417: UserWarning: This is now an optional IPython functionality, setting dhist requires you to install the `pickleshare` library.\n",
      "  self.shell.db['dhist'] = compress_dhist(dhist)[-100:]\n"
     ]
    }
   ],
   "source": [
    "%cd ~/cma/CMA_Fairness_v2"
   ]
  },
  {
   "cell_type": "markdown",
   "id": "de2603b9",
   "metadata": {
    "papermill": {
     "duration": 0.016637,
     "end_time": "2025-08-05T14:39:15.323679",
     "exception": false,
     "start_time": "2025-08-05T14:39:15.307042",
     "status": "completed"
    },
    "tags": []
   },
   "source": [
    "The following cell holds the definition of our parameters, these values can be overriden by rendering the with e.g. the following command:\n",
    "\n",
    "papermill -p alpha 0.2 -p ratio 0.3 universe_analysis.ipynb output/test_run.ipynb"
   ]
  },
  {
   "cell_type": "code",
   "execution_count": 2,
   "id": "a80968a0-40bb-4fa9-85ef-2d5eefb01975",
   "metadata": {
    "execution": {
     "iopub.execute_input": "2025-08-05T14:39:15.360690Z",
     "iopub.status.busy": "2025-08-05T14:39:15.360055Z",
     "iopub.status.idle": "2025-08-05T14:39:15.365465Z",
     "shell.execute_reply": "2025-08-05T14:39:15.364491Z"
    },
    "papermill": {
     "duration": 0.025913,
     "end_time": "2025-08-05T14:39:15.367216",
     "exception": false,
     "start_time": "2025-08-05T14:39:15.341303",
     "status": "completed"
    },
    "tags": []
   },
   "outputs": [
    {
     "name": "stdout",
     "output_type": "stream",
     "text": [
      "Current working directory: /dss/dsshome1/0C/ra93lal2/cma/CMA_Fairness_v2\n"
     ]
    }
   ],
   "source": [
    "import os\n",
    "print(\"Current working directory:\", os.getcwd())"
   ]
  },
  {
   "cell_type": "code",
   "execution_count": 3,
   "id": "2dce4c03",
   "metadata": {
    "execution": {
     "iopub.execute_input": "2025-08-05T14:39:15.402982Z",
     "iopub.status.busy": "2025-08-05T14:39:15.402419Z",
     "iopub.status.idle": "2025-08-05T14:39:15.408476Z",
     "shell.execute_reply": "2025-08-05T14:39:15.407413Z"
    },
    "papermill": {
     "duration": 0.026239,
     "end_time": "2025-08-05T14:39:15.410395",
     "exception": false,
     "start_time": "2025-08-05T14:39:15.384156",
     "status": "completed"
    },
    "tags": [
     "parameters"
    ]
   },
   "outputs": [],
   "source": [
    "run_no = 0\n",
    "universe_id = \"test\"\n",
    "universe = {\n",
    "    \"training_size\": \"25k\", # \"25k\", \"5k\", \"1k\"\n",
    "    \"training_year\": \"2014\", # \"2014\", \"2012_14\", \"2010_14\"\n",
    "    \"scale\": \"scale\", # \"scale\", \"do-not-scale\",\n",
    "    \"model\": \"elasticnet\", # \"logreg\", \"penalized_logreg\", \"rf\", \"gbm\", \"elasticnet\"\n",
    "    \"cutoff\": [\"quantile_0.15\", \"quantile_0.30\"],\n",
    "    \"exclude_features\": \"age\", # \"none\", \"nationality\", \"sex\", \"nationality-sex\", \"age\"\n",
    "    \"exclude_subgroups\": \"keep-all\", # \"keep-all\", \"drop-non-german\"\n",
    "    \"eval_fairness_grouping\": [\"majority-minority\", \"nationality-all\"]\n",
    "}\n",
    "\n",
    "output_dir=\"./output\"\n",
    "seed=0"
   ]
  },
  {
   "cell_type": "code",
   "execution_count": 4,
   "id": "774118be",
   "metadata": {
    "execution": {
     "iopub.execute_input": "2025-08-05T14:39:15.447288Z",
     "iopub.status.busy": "2025-08-05T14:39:15.446611Z",
     "iopub.status.idle": "2025-08-05T14:39:15.452263Z",
     "shell.execute_reply": "2025-08-05T14:39:15.451202Z"
    },
    "papermill": {
     "duration": 0.025434,
     "end_time": "2025-08-05T14:39:15.454057",
     "exception": false,
     "start_time": "2025-08-05T14:39:15.428623",
     "status": "completed"
    },
    "tags": [
     "injected-parameters"
    ]
   },
   "outputs": [],
   "source": [
    "# Parameters\n",
    "universe_id = \"c9ad70e6f462c78d957ed943d17f714a\"\n",
    "run_no = \"15\"\n",
    "universe = \"{\\\"cutoff\\\": [\\\"quantile_0.1\\\", \\\"quantile_0.25\\\"], \\\"eval_fairness_grouping\\\": [\\\"majority-minority\\\", \\\"nationality-all\\\"], \\\"exclude_features\\\": \\\"nationality-sex\\\", \\\"exclude_subgroups\\\": \\\"drop-non-german\\\", \\\"model\\\": \\\"elasticnet\\\", \\\"scale\\\": \\\"scale\\\", \\\"training_size\\\": \\\"25k\\\", \\\"training_year\\\": \\\"2014\\\"}\"\n",
    "output_dir = \"output\"\n",
    "seed = \"2023\"\n"
   ]
  },
  {
   "cell_type": "code",
   "execution_count": 5,
   "id": "1650acaf",
   "metadata": {
    "execution": {
     "iopub.execute_input": "2025-08-05T14:39:15.490833Z",
     "iopub.status.busy": "2025-08-05T14:39:15.490172Z",
     "iopub.status.idle": "2025-08-05T14:39:15.495011Z",
     "shell.execute_reply": "2025-08-05T14:39:15.494044Z"
    },
    "papermill": {
     "duration": 0.024541,
     "end_time": "2025-08-05T14:39:15.496642",
     "exception": false,
     "start_time": "2025-08-05T14:39:15.472101",
     "status": "completed"
    },
    "tags": []
   },
   "outputs": [],
   "source": [
    "import json\n",
    "if isinstance(universe, str):\n",
    "    universe = json.loads(universe)"
   ]
  },
  {
   "cell_type": "code",
   "execution_count": 6,
   "id": "16620c48",
   "metadata": {
    "execution": {
     "iopub.execute_input": "2025-08-05T14:39:15.533343Z",
     "iopub.status.busy": "2025-08-05T14:39:15.532440Z",
     "iopub.status.idle": "2025-08-05T14:39:15.577140Z",
     "shell.execute_reply": "2025-08-05T14:39:15.576246Z"
    },
    "papermill": {
     "duration": 0.064977,
     "end_time": "2025-08-05T14:39:15.578977",
     "exception": false,
     "start_time": "2025-08-05T14:39:15.514000",
     "status": "completed"
    },
    "tags": []
   },
   "outputs": [],
   "source": [
    "# Auto-reload the custom package\n",
    "%load_ext autoreload\n",
    "%autoreload 1\n",
    "%aimport fairness_multiverse"
   ]
  },
  {
   "cell_type": "code",
   "execution_count": 7,
   "id": "01c5c9f3",
   "metadata": {
    "execution": {
     "iopub.execute_input": "2025-08-05T14:39:15.615409Z",
     "iopub.status.busy": "2025-08-05T14:39:15.614820Z",
     "iopub.status.idle": "2025-08-05T14:39:17.570304Z",
     "shell.execute_reply": "2025-08-05T14:39:17.569288Z"
    },
    "papermill": {
     "duration": 1.976013,
     "end_time": "2025-08-05T14:39:17.572371",
     "exception": false,
     "start_time": "2025-08-05T14:39:15.596358",
     "status": "completed"
    },
    "tags": []
   },
   "outputs": [],
   "source": [
    "from fairness_multiverse.universe import UniverseAnalysis\n",
    "\n",
    "universe_analysis = UniverseAnalysis(\n",
    "    run_no = run_no,\n",
    "    universe_id = universe_id,\n",
    "    universe = universe,\n",
    "    output_dir=output_dir,\n",
    ")"
   ]
  },
  {
   "cell_type": "code",
   "execution_count": 8,
   "id": "106241f5",
   "metadata": {
    "execution": {
     "iopub.execute_input": "2025-08-05T14:39:17.611359Z",
     "iopub.status.busy": "2025-08-05T14:39:17.610341Z",
     "iopub.status.idle": "2025-08-05T14:39:17.616712Z",
     "shell.execute_reply": "2025-08-05T14:39:17.615879Z"
    },
    "papermill": {
     "duration": 0.026989,
     "end_time": "2025-08-05T14:39:17.618268",
     "exception": false,
     "start_time": "2025-08-05T14:39:17.591279",
     "status": "completed"
    },
    "tags": []
   },
   "outputs": [
    {
     "name": "stdout",
     "output_type": "stream",
     "text": [
      "Using Seed: 2023\n"
     ]
    }
   ],
   "source": [
    "import numpy as np\n",
    "parsed_seed = int(seed)\n",
    "np.random.seed(parsed_seed)\n",
    "print(f\"Using Seed: {parsed_seed}\")"
   ]
  },
  {
   "cell_type": "markdown",
   "id": "e0ebdc57",
   "metadata": {
    "papermill": {
     "duration": 0.018587,
     "end_time": "2025-08-05T14:39:17.654894",
     "exception": false,
     "start_time": "2025-08-05T14:39:17.636307",
     "status": "completed"
    },
    "tags": []
   },
   "source": [
    "# Loading Data"
   ]
  },
  {
   "cell_type": "markdown",
   "id": "681925a3",
   "metadata": {
    "papermill": {
     "duration": 0.017054,
     "end_time": "2025-08-05T14:39:17.689639",
     "exception": false,
     "start_time": "2025-08-05T14:39:17.672585",
     "status": "completed"
    },
    "tags": []
   },
   "source": [
    "Load siab_train, siab_test, siab_calib and/or \n",
    "load siab_train_features, siab_train_labels"
   ]
  },
  {
   "cell_type": "code",
   "execution_count": 9,
   "id": "f0496b8a",
   "metadata": {
    "execution": {
     "iopub.execute_input": "2025-08-05T14:39:17.726540Z",
     "iopub.status.busy": "2025-08-05T14:39:17.726004Z",
     "iopub.status.idle": "2025-08-05T14:39:29.820982Z",
     "shell.execute_reply": "2025-08-05T14:39:29.819992Z"
    },
    "papermill": {
     "duration": 12.115582,
     "end_time": "2025-08-05T14:39:29.822420",
     "exception": false,
     "start_time": "2025-08-05T14:39:17.706838",
     "status": "completed"
    },
    "tags": []
   },
   "outputs": [
    {
     "name": "stdout",
     "output_type": "stream",
     "text": [
      "Loading SIAB data from cache: data/siab_cached.csv.gz\n"
     ]
    },
    {
     "name": "stdout",
     "output_type": "stream",
     "text": [
      "(643690, 164)\n"
     ]
    }
   ],
   "source": [
    "from pathlib import Path\n",
    "import pandas as pd\n",
    "\n",
    "# File paths\n",
    "raw_file = Path(\"data/raw/siab.csv\")\n",
    "cache_file = Path(\"data/siab_cached.csv.gz\")\n",
    "\n",
    "# Ensure cache directory exists\n",
    "cache_file.parent.mkdir(parents=True, exist_ok=True)\n",
    "\n",
    "# Load with simple caching\n",
    "if cache_file.exists():\n",
    "    print(f\"Loading SIAB data from cache: {cache_file}\")\n",
    "    siab = pd.read_csv(cache_file, compression='gzip')\n",
    "else:\n",
    "    print(f\"Cache not found. Reading raw SIAB data: {raw_file}\")\n",
    "    siab = pd.read_csv(raw_file)\n",
    "    siab.to_csv(cache_file, index=False, compression='gzip')\n",
    "    print(f\"Cached SIAB data to: {cache_file}\")\n",
    "\n",
    "print(siab.shape)"
   ]
  },
  {
   "cell_type": "code",
   "execution_count": 10,
   "id": "db0ca512-5f53-4dba-abdb-a2888bca41ba",
   "metadata": {
    "execution": {
     "iopub.execute_input": "2025-08-05T14:39:29.844209Z",
     "iopub.status.busy": "2025-08-05T14:39:29.843864Z",
     "iopub.status.idle": "2025-08-05T14:39:29.848356Z",
     "shell.execute_reply": "2025-08-05T14:39:29.847539Z"
    },
    "papermill": {
     "duration": 0.015719,
     "end_time": "2025-08-05T14:39:29.849722",
     "exception": false,
     "start_time": "2025-08-05T14:39:29.834003",
     "status": "completed"
    },
    "tags": []
   },
   "outputs": [],
   "source": [
    "#siab"
   ]
  },
  {
   "cell_type": "markdown",
   "id": "997051c5-15bd-4b69-9786-c3001a3ce484",
   "metadata": {
    "papermill": {
     "duration": 0.008869,
     "end_time": "2025-08-05T14:39:29.868322",
     "exception": false,
     "start_time": "2025-08-05T14:39:29.859453",
     "status": "completed"
    },
    "tags": []
   },
   "source": [
    "# Splitting Data and Setting Training Data Size"
   ]
  },
  {
   "cell_type": "code",
   "execution_count": 11,
   "id": "aea9c6ef-6f46-42c8-85eb-5a62025c1508",
   "metadata": {
    "execution": {
     "iopub.execute_input": "2025-08-05T14:39:29.887812Z",
     "iopub.status.busy": "2025-08-05T14:39:29.887154Z",
     "iopub.status.idle": "2025-08-05T14:39:30.162007Z",
     "shell.execute_reply": "2025-08-05T14:39:30.161207Z"
    },
    "papermill": {
     "duration": 0.286188,
     "end_time": "2025-08-05T14:39:30.163483",
     "exception": false,
     "start_time": "2025-08-05T14:39:29.877295",
     "status": "completed"
    },
    "tags": []
   },
   "outputs": [],
   "source": [
    "from fairness_multiverse.universe import sample_by_year_size\n",
    "\n",
    "siab_train = sample_by_year_size(siab,\n",
    "                               training_year=universe[\"training_year\"],\n",
    "                               training_size=universe[\"training_size\"])"
   ]
  },
  {
   "cell_type": "code",
   "execution_count": 12,
   "id": "8d3afb32-789d-442c-8d5d-9f5aa8dd2eed",
   "metadata": {
    "execution": {
     "iopub.execute_input": "2025-08-05T14:39:30.183430Z",
     "iopub.status.busy": "2025-08-05T14:39:30.183124Z",
     "iopub.status.idle": "2025-08-05T14:39:30.187710Z",
     "shell.execute_reply": "2025-08-05T14:39:30.186976Z"
    },
    "papermill": {
     "duration": 0.015985,
     "end_time": "2025-08-05T14:39:30.189139",
     "exception": false,
     "start_time": "2025-08-05T14:39:30.173154",
     "status": "completed"
    },
    "tags": []
   },
   "outputs": [],
   "source": [
    "#siab_train.shape"
   ]
  },
  {
   "cell_type": "code",
   "execution_count": 13,
   "id": "d582db68-1a4c-47fb-84fc-08518dc1975a",
   "metadata": {
    "execution": {
     "iopub.execute_input": "2025-08-05T14:39:30.209316Z",
     "iopub.status.busy": "2025-08-05T14:39:30.208682Z",
     "iopub.status.idle": "2025-08-05T14:39:30.212891Z",
     "shell.execute_reply": "2025-08-05T14:39:30.212105Z"
    },
    "papermill": {
     "duration": 0.015339,
     "end_time": "2025-08-05T14:39:30.214293",
     "exception": false,
     "start_time": "2025-08-05T14:39:30.198954",
     "status": "completed"
    },
    "tags": []
   },
   "outputs": [],
   "source": [
    "#display(siab_train.groupby(\"year\").size())"
   ]
  },
  {
   "cell_type": "code",
   "execution_count": 14,
   "id": "a561edb4-d032-42cb-8256-22eac1111c64",
   "metadata": {
    "execution": {
     "iopub.execute_input": "2025-08-05T14:39:30.235098Z",
     "iopub.status.busy": "2025-08-05T14:39:30.234571Z",
     "iopub.status.idle": "2025-08-05T14:39:30.456943Z",
     "shell.execute_reply": "2025-08-05T14:39:30.456180Z"
    },
    "papermill": {
     "duration": 0.233784,
     "end_time": "2025-08-05T14:39:30.458415",
     "exception": false,
     "start_time": "2025-08-05T14:39:30.224631",
     "status": "completed"
    },
    "tags": []
   },
   "outputs": [],
   "source": [
    "#siab_train = siab_s[siab_s.year < 2015]\n",
    "siab_calib = siab[siab.year == 2015]\n",
    "siab_test = siab[siab.year == 2016]"
   ]
  },
  {
   "cell_type": "code",
   "execution_count": 15,
   "id": "472de16f-c3db-4916-846b-1f0de9cf1746",
   "metadata": {
    "execution": {
     "iopub.execute_input": "2025-08-05T14:39:30.479028Z",
     "iopub.status.busy": "2025-08-05T14:39:30.478335Z",
     "iopub.status.idle": "2025-08-05T14:39:30.491882Z",
     "shell.execute_reply": "2025-08-05T14:39:30.491087Z"
    },
    "papermill": {
     "duration": 0.025146,
     "end_time": "2025-08-05T14:39:30.493409",
     "exception": false,
     "start_time": "2025-08-05T14:39:30.468263",
     "status": "completed"
    },
    "tags": []
   },
   "outputs": [],
   "source": [
    "X_train = siab_train.iloc[:,4:164]\n",
    "y_train = siab_train.iloc[:, [3]]"
   ]
  },
  {
   "cell_type": "code",
   "execution_count": 16,
   "id": "828c96af-f43a-4ed6-ba47-8ac73a47d56c",
   "metadata": {
    "execution": {
     "iopub.execute_input": "2025-08-05T14:39:30.514712Z",
     "iopub.status.busy": "2025-08-05T14:39:30.513920Z",
     "iopub.status.idle": "2025-08-05T14:39:30.560518Z",
     "shell.execute_reply": "2025-08-05T14:39:30.559635Z"
    },
    "papermill": {
     "duration": 0.058305,
     "end_time": "2025-08-05T14:39:30.562167",
     "exception": false,
     "start_time": "2025-08-05T14:39:30.503862",
     "status": "completed"
    },
    "tags": []
   },
   "outputs": [],
   "source": [
    "X_calib = siab_calib.iloc[:,4:164]\n",
    "y_calib = siab_calib.iloc[:, [3]]"
   ]
  },
  {
   "cell_type": "code",
   "execution_count": 17,
   "id": "c34be9c3-6bd6-476e-acd3-845840e303be",
   "metadata": {
    "execution": {
     "iopub.execute_input": "2025-08-05T14:39:30.583348Z",
     "iopub.status.busy": "2025-08-05T14:39:30.583001Z",
     "iopub.status.idle": "2025-08-05T14:39:30.630672Z",
     "shell.execute_reply": "2025-08-05T14:39:30.629507Z"
    },
    "papermill": {
     "duration": 0.059403,
     "end_time": "2025-08-05T14:39:30.632207",
     "exception": false,
     "start_time": "2025-08-05T14:39:30.572804",
     "status": "completed"
    },
    "tags": []
   },
   "outputs": [],
   "source": [
    "X_test = siab_test.iloc[:,4:164]\n",
    "y_true = siab_test.iloc[:, [3]]"
   ]
  },
  {
   "cell_type": "code",
   "execution_count": 18,
   "id": "e6c733c5",
   "metadata": {
    "execution": {
     "iopub.execute_input": "2025-08-05T14:39:30.653310Z",
     "iopub.status.busy": "2025-08-05T14:39:30.652967Z",
     "iopub.status.idle": "2025-08-05T14:39:30.742891Z",
     "shell.execute_reply": "2025-08-05T14:39:30.742131Z"
    },
    "papermill": {
     "duration": 0.10153,
     "end_time": "2025-08-05T14:39:30.744343",
     "exception": false,
     "start_time": "2025-08-05T14:39:30.642813",
     "status": "completed"
    },
    "tags": []
   },
   "outputs": [],
   "source": [
    "# Auxiliary data needed downstream in the pipeline\n",
    "\n",
    "org_train = X_train.copy()\n",
    "org_test = X_test.copy()\n",
    "org_calib = X_calib.copy()"
   ]
  },
  {
   "cell_type": "markdown",
   "id": "0a4a1b33",
   "metadata": {
    "papermill": {
     "duration": 0.009374,
     "end_time": "2025-08-05T14:39:30.763725",
     "exception": false,
     "start_time": "2025-08-05T14:39:30.754351",
     "status": "completed"
    },
    "tags": []
   },
   "source": [
    "# Preprocessing Data"
   ]
  },
  {
   "cell_type": "code",
   "execution_count": 19,
   "id": "ca879031",
   "metadata": {
    "execution": {
     "iopub.execute_input": "2025-08-05T14:39:30.784410Z",
     "iopub.status.busy": "2025-08-05T14:39:30.783701Z",
     "iopub.status.idle": "2025-08-05T14:39:30.791659Z",
     "shell.execute_reply": "2025-08-05T14:39:30.790857Z"
    },
    "papermill": {
     "duration": 0.019814,
     "end_time": "2025-08-05T14:39:30.793070",
     "exception": false,
     "start_time": "2025-08-05T14:39:30.773256",
     "status": "completed"
    },
    "tags": []
   },
   "outputs": [],
   "source": [
    "# EXCLUDE PROTECTED FEATURES\n",
    "# ----------------------\n",
    "# \"exclude_features\": \"none\", # \"nationality\", \"sex\", \"nationality-sex\"\n",
    "\n",
    "excluded_features = universe[\"exclude_features\"].split(\"-\") # split, e.g.: \"nationality-sex\" -> [\"nationality\", \"sex\"]\n",
    "excluded_features_dictionary = {\n",
    "    \"nationality\": [\"maxdeutsch1\", \"maxdeutsch.Missing.\"],\n",
    "    \"sex\": [\"frau1\"],\n",
    "    \"age\": [\"age\"],\n",
    "}"
   ]
  },
  {
   "cell_type": "code",
   "execution_count": 20,
   "id": "b745ac60",
   "metadata": {
    "execution": {
     "iopub.execute_input": "2025-08-05T14:39:30.815134Z",
     "iopub.status.busy": "2025-08-05T14:39:30.814327Z",
     "iopub.status.idle": "2025-08-05T14:39:30.819320Z",
     "shell.execute_reply": "2025-08-05T14:39:30.818521Z"
    },
    "papermill": {
     "duration": 0.016573,
     "end_time": "2025-08-05T14:39:30.820644",
     "exception": false,
     "start_time": "2025-08-05T14:39:30.804071",
     "status": "completed"
    },
    "tags": []
   },
   "outputs": [],
   "source": [
    "# Code nice names to column names\n",
    "\n",
    "excluded_features_columns = [\n",
    "    excluded_features_dictionary[f] for f in excluded_features if len(f) > 0 and f != \"none\"\n",
    "]"
   ]
  },
  {
   "cell_type": "code",
   "execution_count": 21,
   "id": "f84f73a2",
   "metadata": {
    "execution": {
     "iopub.execute_input": "2025-08-05T14:39:30.842451Z",
     "iopub.status.busy": "2025-08-05T14:39:30.841784Z",
     "iopub.status.idle": "2025-08-05T14:39:30.847291Z",
     "shell.execute_reply": "2025-08-05T14:39:30.846485Z"
    },
    "papermill": {
     "duration": 0.017091,
     "end_time": "2025-08-05T14:39:30.848620",
     "exception": false,
     "start_time": "2025-08-05T14:39:30.831529",
     "status": "completed"
    },
    "tags": []
   },
   "outputs": [],
   "source": [
    "from utils import flatten_once\n",
    "\n",
    "excluded_features_columns = flatten_once(excluded_features_columns)"
   ]
  },
  {
   "cell_type": "code",
   "execution_count": 22,
   "id": "884dea22",
   "metadata": {
    "execution": {
     "iopub.execute_input": "2025-08-05T14:39:30.870101Z",
     "iopub.status.busy": "2025-08-05T14:39:30.869283Z",
     "iopub.status.idle": "2025-08-05T14:39:30.890889Z",
     "shell.execute_reply": "2025-08-05T14:39:30.889944Z"
    },
    "papermill": {
     "duration": 0.033264,
     "end_time": "2025-08-05T14:39:30.892309",
     "exception": false,
     "start_time": "2025-08-05T14:39:30.859045",
     "status": "completed"
    },
    "tags": []
   },
   "outputs": [
    {
     "name": "stdout",
     "output_type": "stream",
     "text": [
      "Dropping features: ['maxdeutsch1', 'maxdeutsch.Missing.', 'frau1']\n"
     ]
    }
   ],
   "source": [
    "if len(excluded_features_columns) > 0:\n",
    "    print(f\"Dropping features: {excluded_features_columns}\")\n",
    "    X_train.drop(excluded_features_columns, axis=1, inplace=True)"
   ]
  },
  {
   "cell_type": "code",
   "execution_count": 23,
   "id": "95ab8b16",
   "metadata": {
    "execution": {
     "iopub.execute_input": "2025-08-05T14:39:30.914416Z",
     "iopub.status.busy": "2025-08-05T14:39:30.913727Z",
     "iopub.status.idle": "2025-08-05T14:39:30.968617Z",
     "shell.execute_reply": "2025-08-05T14:39:30.967576Z"
    },
    "papermill": {
     "duration": 0.066892,
     "end_time": "2025-08-05T14:39:30.970009",
     "exception": false,
     "start_time": "2025-08-05T14:39:30.903117",
     "status": "completed"
    },
    "tags": []
   },
   "outputs": [
    {
     "name": "stdout",
     "output_type": "stream",
     "text": [
      "Dropping features: ['maxdeutsch1', 'maxdeutsch.Missing.', 'frau1']\n"
     ]
    }
   ],
   "source": [
    "if len(excluded_features_columns) > 0:\n",
    "    print(f\"Dropping features: {excluded_features_columns}\")\n",
    "    X_test.drop(excluded_features_columns, axis=1, inplace=True)"
   ]
  },
  {
   "cell_type": "code",
   "execution_count": 24,
   "id": "1853aaf5-fb9f-46cb-a2b5-8ea4ae2237e4",
   "metadata": {
    "execution": {
     "iopub.execute_input": "2025-08-05T14:39:30.992068Z",
     "iopub.status.busy": "2025-08-05T14:39:30.991722Z",
     "iopub.status.idle": "2025-08-05T14:39:31.038471Z",
     "shell.execute_reply": "2025-08-05T14:39:31.037576Z"
    },
    "papermill": {
     "duration": 0.058951,
     "end_time": "2025-08-05T14:39:31.039837",
     "exception": false,
     "start_time": "2025-08-05T14:39:30.980886",
     "status": "completed"
    },
    "tags": []
   },
   "outputs": [
    {
     "name": "stdout",
     "output_type": "stream",
     "text": [
      "Dropping features: ['maxdeutsch1', 'maxdeutsch.Missing.', 'frau1']\n"
     ]
    }
   ],
   "source": [
    "if len(excluded_features_columns) > 0:\n",
    "    print(f\"Dropping features: {excluded_features_columns}\")\n",
    "    X_calib.drop(excluded_features_columns, axis=1, inplace=True)"
   ]
  },
  {
   "cell_type": "code",
   "execution_count": 25,
   "id": "6727d079-03e5-481e-9d38-292a90b7a0a8",
   "metadata": {
    "execution": {
     "iopub.execute_input": "2025-08-05T14:39:31.062336Z",
     "iopub.status.busy": "2025-08-05T14:39:31.061619Z",
     "iopub.status.idle": "2025-08-05T14:39:31.066249Z",
     "shell.execute_reply": "2025-08-05T14:39:31.065373Z"
    },
    "papermill": {
     "duration": 0.016654,
     "end_time": "2025-08-05T14:39:31.067650",
     "exception": false,
     "start_time": "2025-08-05T14:39:31.050996",
     "status": "completed"
    },
    "tags": []
   },
   "outputs": [],
   "source": [
    "# SPLIT & STRATIFY DATA\n",
    "# ----------------------"
   ]
  },
  {
   "cell_type": "code",
   "execution_count": 26,
   "id": "76c4dc6d",
   "metadata": {
    "execution": {
     "iopub.execute_input": "2025-08-05T14:39:31.090071Z",
     "iopub.status.busy": "2025-08-05T14:39:31.089339Z",
     "iopub.status.idle": "2025-08-05T14:39:31.094089Z",
     "shell.execute_reply": "2025-08-05T14:39:31.093285Z"
    },
    "papermill": {
     "duration": 0.016995,
     "end_time": "2025-08-05T14:39:31.095468",
     "exception": false,
     "start_time": "2025-08-05T14:39:31.078473",
     "status": "completed"
    },
    "tags": []
   },
   "outputs": [],
   "source": [
    "# EXCLUDE CERTAIN SUBGROUPS\n",
    "# ----------------------\n",
    "\n",
    "mode = universe.get(\"exclude_subgroups\", \"keep-all\") \n",
    "# Fetches the exclude_subgroups setting from the universe dict.\n",
    "# Defaults to \"keep-all\" if the key is missing."
   ]
  },
  {
   "cell_type": "code",
   "execution_count": 27,
   "id": "21994072",
   "metadata": {
    "execution": {
     "iopub.execute_input": "2025-08-05T14:39:31.118405Z",
     "iopub.status.busy": "2025-08-05T14:39:31.117702Z",
     "iopub.status.idle": "2025-08-05T14:39:31.123578Z",
     "shell.execute_reply": "2025-08-05T14:39:31.122779Z"
    },
    "papermill": {
     "duration": 0.018232,
     "end_time": "2025-08-05T14:39:31.124960",
     "exception": false,
     "start_time": "2025-08-05T14:39:31.106728",
     "status": "completed"
    },
    "tags": []
   },
   "outputs": [],
   "source": [
    "if mode == \"keep-all\":\n",
    "    keep_mask = pd.Series(True, index=org_train.index)\n",
    "\n",
    "# org_train contains the original feature columns from features_org (in Simson)\n",
    "# features_org contains unprocessed features, for me X_train at beginning ???\n",
    "# For keep-all, creates a boolean Series (keep_mask) of all True, so no rows are removed.\n",
    "\n",
    "elif mode == \"drop-non-german\":\n",
    "    keep_mask = org_train[\"maxdeutsch1\"] == 1 # ??? what about missing values?\n",
    "\n",
    "else:\n",
    "    raise ValueError(f\"Unsupported mode for exclude_subgroups: {mode}\")\n"
   ]
  },
  {
   "cell_type": "code",
   "execution_count": 28,
   "id": "71651440",
   "metadata": {
    "execution": {
     "iopub.execute_input": "2025-08-05T14:39:31.147895Z",
     "iopub.status.busy": "2025-08-05T14:39:31.147185Z",
     "iopub.status.idle": "2025-08-05T14:39:31.153570Z",
     "shell.execute_reply": "2025-08-05T14:39:31.152679Z"
    },
    "papermill": {
     "duration": 0.01874,
     "end_time": "2025-08-05T14:39:31.155036",
     "exception": false,
     "start_time": "2025-08-05T14:39:31.136296",
     "status": "completed"
    },
    "tags": []
   },
   "outputs": [
    {
     "name": "stdout",
     "output_type": "stream",
     "text": [
      "Dropping 3688 rows (14.75%) where mode='drop-non-german'\n"
     ]
    }
   ],
   "source": [
    "n_drop = (~keep_mask).sum() # Calculates how many rows are set to be dropped\n",
    "if n_drop > 0:\n",
    "    pct = n_drop / len(keep_mask) * 100\n",
    "    print(f\"Dropping {n_drop} rows ({pct:.2f}%) where mode='{mode}'\")"
   ]
  },
  {
   "cell_type": "code",
   "execution_count": 29,
   "id": "5fb8eee5",
   "metadata": {
    "execution": {
     "iopub.execute_input": "2025-08-05T14:39:31.178136Z",
     "iopub.status.busy": "2025-08-05T14:39:31.177409Z",
     "iopub.status.idle": "2025-08-05T14:39:31.195562Z",
     "shell.execute_reply": "2025-08-05T14:39:31.194650Z"
    },
    "papermill": {
     "duration": 0.030651,
     "end_time": "2025-08-05T14:39:31.197165",
     "exception": false,
     "start_time": "2025-08-05T14:39:31.166514",
     "status": "completed"
    },
    "tags": []
   },
   "outputs": [],
   "source": [
    "X_train = X_train[keep_mask]"
   ]
  },
  {
   "cell_type": "code",
   "execution_count": 30,
   "id": "b202bb3a",
   "metadata": {
    "execution": {
     "iopub.execute_input": "2025-08-05T14:39:31.220800Z",
     "iopub.status.busy": "2025-08-05T14:39:31.220052Z",
     "iopub.status.idle": "2025-08-05T14:39:31.225929Z",
     "shell.execute_reply": "2025-08-05T14:39:31.225119Z"
    },
    "papermill": {
     "duration": 0.018849,
     "end_time": "2025-08-05T14:39:31.227410",
     "exception": false,
     "start_time": "2025-08-05T14:39:31.208561",
     "status": "completed"
    },
    "tags": []
   },
   "outputs": [],
   "source": [
    "y_train = y_train[keep_mask]"
   ]
  },
  {
   "cell_type": "markdown",
   "id": "493e2ac3",
   "metadata": {
    "papermill": {
     "duration": 0.01001,
     "end_time": "2025-08-05T14:39:31.248640",
     "exception": false,
     "start_time": "2025-08-05T14:39:31.238630",
     "status": "completed"
    },
    "tags": []
   },
   "source": [
    "# Model Training"
   ]
  },
  {
   "cell_type": "code",
   "execution_count": 31,
   "id": "679e1268",
   "metadata": {
    "execution": {
     "iopub.execute_input": "2025-08-05T14:39:31.270540Z",
     "iopub.status.busy": "2025-08-05T14:39:31.269810Z",
     "iopub.status.idle": "2025-08-05T14:39:31.345085Z",
     "shell.execute_reply": "2025-08-05T14:39:31.344330Z"
    },
    "papermill": {
     "duration": 0.087931,
     "end_time": "2025-08-05T14:39:31.346580",
     "exception": false,
     "start_time": "2025-08-05T14:39:31.258649",
     "status": "completed"
    },
    "tags": []
   },
   "outputs": [],
   "source": [
    "from sklearn.linear_model import LogisticRegression\n",
    "from sklearn.ensemble import GradientBoostingClassifier, RandomForestClassifier\n",
    "\n",
    "if (universe[\"model\"] == \"logreg\"):\n",
    "    model = LogisticRegression() #penalty=\"none\", solver=\"newton-cg\", max_iter=1) # include random_state=19 ?\n",
    "elif (universe[\"model\"] == \"penalized_logreg\"):\n",
    "    model = LogisticRegression(penalty=\"l2\", C=0.1) #, solver=\"newton-cg\", max_iter=1)\n",
    "elif (universe[\"model\"] == \"rf\"):\n",
    "    model = RandomForestClassifier() # n_estimators=100, n_jobs=-1\n",
    "elif (universe[\"model\"] == \"gbm\"):\n",
    "    model = GradientBoostingClassifier()\n",
    "elif (universe[\"model\"] == \"elasticnet\"):\n",
    "    model = LogisticRegression(penalty = 'elasticnet', solver = 'saga', l1_ratio = 0.5) # max_iter=5000\n",
    "else:\n",
    "    raise \"Unsupported universe.model\""
   ]
  },
  {
   "cell_type": "code",
   "execution_count": 32,
   "id": "0cc8f744",
   "metadata": {
    "execution": {
     "iopub.execute_input": "2025-08-05T14:39:31.369141Z",
     "iopub.status.busy": "2025-08-05T14:39:31.368414Z",
     "iopub.status.idle": "2025-08-05T14:39:31.373853Z",
     "shell.execute_reply": "2025-08-05T14:39:31.373030Z"
    },
    "papermill": {
     "duration": 0.017838,
     "end_time": "2025-08-05T14:39:31.375141",
     "exception": false,
     "start_time": "2025-08-05T14:39:31.357303",
     "status": "completed"
    },
    "tags": []
   },
   "outputs": [],
   "source": [
    "import numpy as np\n",
    "from sklearn.pipeline import Pipeline\n",
    "from sklearn.preprocessing import StandardScaler\n",
    "\n",
    "model = Pipeline([\n",
    "    #(\"continuous_processor\", continuous_processor),\n",
    "    #(\"categorical_preprocessor\", categorical_preprocessor),\n",
    "    (\"scale\", StandardScaler() if universe[\"scale\"] == \"scale\" else None), \n",
    "    (\"model\", model),\n",
    "])"
   ]
  },
  {
   "cell_type": "code",
   "execution_count": 33,
   "id": "9442c04d",
   "metadata": {
    "execution": {
     "iopub.execute_input": "2025-08-05T14:39:31.398997Z",
     "iopub.status.busy": "2025-08-05T14:39:31.398305Z",
     "iopub.status.idle": "2025-08-05T14:39:37.722593Z",
     "shell.execute_reply": "2025-08-05T14:39:37.721896Z"
    },
    "papermill": {
     "duration": 6.336818,
     "end_time": "2025-08-05T14:39:37.723773",
     "exception": false,
     "start_time": "2025-08-05T14:39:31.386955",
     "status": "completed"
    },
    "tags": []
   },
   "outputs": [
    {
     "name": "stderr",
     "output_type": "stream",
     "text": [
      "/dss/dsshome1/0C/ra93lal2/.local/share/virtualenvs/CMA_Fairness_v2-3j10GkSs/lib/python3.10/site-packages/sklearn/linear_model/_sag.py:350: ConvergenceWarning: The max_iter was reached which means the coef_ did not converge\n",
      "  warnings.warn(\n"
     ]
    },
    {
     "data": {
      "text/html": [
       "<style>#sk-container-id-1 {color: black;background-color: white;}#sk-container-id-1 pre{padding: 0;}#sk-container-id-1 div.sk-toggleable {background-color: white;}#sk-container-id-1 label.sk-toggleable__label {cursor: pointer;display: block;width: 100%;margin-bottom: 0;padding: 0.3em;box-sizing: border-box;text-align: center;}#sk-container-id-1 label.sk-toggleable__label-arrow:before {content: \"▸\";float: left;margin-right: 0.25em;color: #696969;}#sk-container-id-1 label.sk-toggleable__label-arrow:hover:before {color: black;}#sk-container-id-1 div.sk-estimator:hover label.sk-toggleable__label-arrow:before {color: black;}#sk-container-id-1 div.sk-toggleable__content {max-height: 0;max-width: 0;overflow: hidden;text-align: left;background-color: #f0f8ff;}#sk-container-id-1 div.sk-toggleable__content pre {margin: 0.2em;color: black;border-radius: 0.25em;background-color: #f0f8ff;}#sk-container-id-1 input.sk-toggleable__control:checked~div.sk-toggleable__content {max-height: 200px;max-width: 100%;overflow: auto;}#sk-container-id-1 input.sk-toggleable__control:checked~label.sk-toggleable__label-arrow:before {content: \"▾\";}#sk-container-id-1 div.sk-estimator input.sk-toggleable__control:checked~label.sk-toggleable__label {background-color: #d4ebff;}#sk-container-id-1 div.sk-label input.sk-toggleable__control:checked~label.sk-toggleable__label {background-color: #d4ebff;}#sk-container-id-1 input.sk-hidden--visually {border: 0;clip: rect(1px 1px 1px 1px);clip: rect(1px, 1px, 1px, 1px);height: 1px;margin: -1px;overflow: hidden;padding: 0;position: absolute;width: 1px;}#sk-container-id-1 div.sk-estimator {font-family: monospace;background-color: #f0f8ff;border: 1px dotted black;border-radius: 0.25em;box-sizing: border-box;margin-bottom: 0.5em;}#sk-container-id-1 div.sk-estimator:hover {background-color: #d4ebff;}#sk-container-id-1 div.sk-parallel-item::after {content: \"\";width: 100%;border-bottom: 1px solid gray;flex-grow: 1;}#sk-container-id-1 div.sk-label:hover label.sk-toggleable__label {background-color: #d4ebff;}#sk-container-id-1 div.sk-serial::before {content: \"\";position: absolute;border-left: 1px solid gray;box-sizing: border-box;top: 0;bottom: 0;left: 50%;z-index: 0;}#sk-container-id-1 div.sk-serial {display: flex;flex-direction: column;align-items: center;background-color: white;padding-right: 0.2em;padding-left: 0.2em;position: relative;}#sk-container-id-1 div.sk-item {position: relative;z-index: 1;}#sk-container-id-1 div.sk-parallel {display: flex;align-items: stretch;justify-content: center;background-color: white;position: relative;}#sk-container-id-1 div.sk-item::before, #sk-container-id-1 div.sk-parallel-item::before {content: \"\";position: absolute;border-left: 1px solid gray;box-sizing: border-box;top: 0;bottom: 0;left: 50%;z-index: -1;}#sk-container-id-1 div.sk-parallel-item {display: flex;flex-direction: column;z-index: 1;position: relative;background-color: white;}#sk-container-id-1 div.sk-parallel-item:first-child::after {align-self: flex-end;width: 50%;}#sk-container-id-1 div.sk-parallel-item:last-child::after {align-self: flex-start;width: 50%;}#sk-container-id-1 div.sk-parallel-item:only-child::after {width: 0;}#sk-container-id-1 div.sk-dashed-wrapped {border: 1px dashed gray;margin: 0 0.4em 0.5em 0.4em;box-sizing: border-box;padding-bottom: 0.4em;background-color: white;}#sk-container-id-1 div.sk-label label {font-family: monospace;font-weight: bold;display: inline-block;line-height: 1.2em;}#sk-container-id-1 div.sk-label-container {text-align: center;}#sk-container-id-1 div.sk-container {/* jupyter's `normalize.less` sets `[hidden] { display: none; }` but bootstrap.min.css set `[hidden] { display: none !important; }` so we also need the `!important` here to be able to override the default hidden behavior on the sphinx rendered scikit-learn.org. See: https://github.com/scikit-learn/scikit-learn/issues/21755 */display: inline-block !important;position: relative;}#sk-container-id-1 div.sk-text-repr-fallback {display: none;}</style><div id=\"sk-container-id-1\" class=\"sk-top-container\"><div class=\"sk-text-repr-fallback\"><pre>Pipeline(steps=[(&#x27;scale&#x27;, StandardScaler()),\n",
       "                (&#x27;model&#x27;,\n",
       "                 LogisticRegression(l1_ratio=0.5, penalty=&#x27;elasticnet&#x27;,\n",
       "                                    solver=&#x27;saga&#x27;))])</pre><b>In a Jupyter environment, please rerun this cell to show the HTML representation or trust the notebook. <br />On GitHub, the HTML representation is unable to render, please try loading this page with nbviewer.org.</b></div><div class=\"sk-container\" hidden><div class=\"sk-item sk-dashed-wrapped\"><div class=\"sk-label-container\"><div class=\"sk-label sk-toggleable\"><input class=\"sk-toggleable__control sk-hidden--visually\" id=\"sk-estimator-id-1\" type=\"checkbox\" ><label for=\"sk-estimator-id-1\" class=\"sk-toggleable__label sk-toggleable__label-arrow\">Pipeline</label><div class=\"sk-toggleable__content\"><pre>Pipeline(steps=[(&#x27;scale&#x27;, StandardScaler()),\n",
       "                (&#x27;model&#x27;,\n",
       "                 LogisticRegression(l1_ratio=0.5, penalty=&#x27;elasticnet&#x27;,\n",
       "                                    solver=&#x27;saga&#x27;))])</pre></div></div></div><div class=\"sk-serial\"><div class=\"sk-item\"><div class=\"sk-estimator sk-toggleable\"><input class=\"sk-toggleable__control sk-hidden--visually\" id=\"sk-estimator-id-2\" type=\"checkbox\" ><label for=\"sk-estimator-id-2\" class=\"sk-toggleable__label sk-toggleable__label-arrow\">StandardScaler</label><div class=\"sk-toggleable__content\"><pre>StandardScaler()</pre></div></div></div><div class=\"sk-item\"><div class=\"sk-estimator sk-toggleable\"><input class=\"sk-toggleable__control sk-hidden--visually\" id=\"sk-estimator-id-3\" type=\"checkbox\" ><label for=\"sk-estimator-id-3\" class=\"sk-toggleable__label sk-toggleable__label-arrow\">LogisticRegression</label><div class=\"sk-toggleable__content\"><pre>LogisticRegression(l1_ratio=0.5, penalty=&#x27;elasticnet&#x27;, solver=&#x27;saga&#x27;)</pre></div></div></div></div></div></div></div>"
      ],
      "text/plain": [
       "Pipeline(steps=[('scale', StandardScaler()),\n",
       "                ('model',\n",
       "                 LogisticRegression(l1_ratio=0.5, penalty='elasticnet',\n",
       "                                    solver='saga'))])"
      ]
     },
     "execution_count": 33,
     "metadata": {},
     "output_type": "execute_result"
    }
   ],
   "source": [
    "model.fit(X_train, y_train.values.ravel())"
   ]
  },
  {
   "cell_type": "code",
   "execution_count": 34,
   "id": "af59f8c0",
   "metadata": {
    "execution": {
     "iopub.execute_input": "2025-08-05T14:39:37.748573Z",
     "iopub.status.busy": "2025-08-05T14:39:37.748281Z",
     "iopub.status.idle": "2025-08-05T14:39:37.752272Z",
     "shell.execute_reply": "2025-08-05T14:39:37.751464Z"
    },
    "papermill": {
     "duration": 0.016641,
     "end_time": "2025-08-05T14:39:37.753736",
     "exception": false,
     "start_time": "2025-08-05T14:39:37.737095",
     "status": "completed"
    },
    "tags": []
   },
   "outputs": [],
   "source": [
    "from fairness_multiverse.universe import predict_w_threshold"
   ]
  },
  {
   "cell_type": "code",
   "execution_count": 35,
   "id": "a7cf2e16",
   "metadata": {
    "execution": {
     "iopub.execute_input": "2025-08-05T14:39:37.776630Z",
     "iopub.status.busy": "2025-08-05T14:39:37.775878Z",
     "iopub.status.idle": "2025-08-05T14:39:37.943317Z",
     "shell.execute_reply": "2025-08-05T14:39:37.942459Z"
    },
    "papermill": {
     "duration": 0.179611,
     "end_time": "2025-08-05T14:39:37.944633",
     "exception": false,
     "start_time": "2025-08-05T14:39:37.765022",
     "status": "completed"
    },
    "tags": []
   },
   "outputs": [
    {
     "data": {
      "text/plain": [
       "0.8655333853528034"
      ]
     },
     "execution_count": 35,
     "metadata": {},
     "output_type": "execute_result"
    }
   ],
   "source": [
    "probs_test = model.predict_proba(X_test)\n",
    "\n",
    "'''\n",
    "Below code returns a boolean array (or binary 0/1 array depending on how it’s used) where each element \n",
    "is True if the probability of class 1 is greater than or equal to the threshold, and False otherwise.\n",
    "'''\n",
    "y_pred_default = predict_w_threshold(probs_test, 0.5)\n",
    "\n",
    "from sklearn.metrics import accuracy_score\n",
    "\n",
    "# Naive prediction\n",
    "accuracy_score(y_true = y_true, y_pred = y_pred_default)"
   ]
  },
  {
   "cell_type": "code",
   "execution_count": 36,
   "id": "081964c3",
   "metadata": {
    "execution": {
     "iopub.execute_input": "2025-08-05T14:39:37.967467Z",
     "iopub.status.busy": "2025-08-05T14:39:37.967056Z",
     "iopub.status.idle": "2025-08-05T14:39:38.127296Z",
     "shell.execute_reply": "2025-08-05T14:39:38.126434Z"
    },
    "papermill": {
     "duration": 0.17262,
     "end_time": "2025-08-05T14:39:38.128614",
     "exception": false,
     "start_time": "2025-08-05T14:39:37.955994",
     "status": "completed"
    },
    "tags": []
   },
   "outputs": [
    {
     "data": {
      "text/plain": [
       "array([0, 0, 0, ..., 0, 0, 0])"
      ]
     },
     "execution_count": 36,
     "metadata": {},
     "output_type": "execute_result"
    }
   ],
   "source": [
    "model.predict(X_test)"
   ]
  },
  {
   "cell_type": "markdown",
   "id": "56c9705b",
   "metadata": {
    "papermill": {
     "duration": 0.010364,
     "end_time": "2025-08-05T14:39:38.150060",
     "exception": false,
     "start_time": "2025-08-05T14:39:38.139696",
     "status": "completed"
    },
    "tags": []
   },
   "source": [
    "# Conformal Prediction"
   ]
  },
  {
   "cell_type": "code",
   "execution_count": 37,
   "id": "160ec6ff",
   "metadata": {
    "execution": {
     "iopub.execute_input": "2025-08-05T14:39:38.173813Z",
     "iopub.status.busy": "2025-08-05T14:39:38.173080Z",
     "iopub.status.idle": "2025-08-05T14:39:38.177571Z",
     "shell.execute_reply": "2025-08-05T14:39:38.176859Z"
    },
    "papermill": {
     "duration": 0.017167,
     "end_time": "2025-08-05T14:39:38.179043",
     "exception": false,
     "start_time": "2025-08-05T14:39:38.161876",
     "status": "completed"
    },
    "tags": []
   },
   "outputs": [],
   "source": [
    "# Miscoverage level for conformal prediction (10% allowed error rate => 90% target coverage)\n",
    "alpha = 0.1"
   ]
  },
  {
   "cell_type": "code",
   "execution_count": 38,
   "id": "eadf4555-3dd3-440e-8e35-f82a4ad9f855",
   "metadata": {
    "execution": {
     "iopub.execute_input": "2025-08-05T14:39:38.203292Z",
     "iopub.status.busy": "2025-08-05T14:39:38.202795Z",
     "iopub.status.idle": "2025-08-05T14:39:38.356911Z",
     "shell.execute_reply": "2025-08-05T14:39:38.356141Z"
    },
    "papermill": {
     "duration": 0.168077,
     "end_time": "2025-08-05T14:39:38.358396",
     "exception": false,
     "start_time": "2025-08-05T14:39:38.190319",
     "status": "completed"
    },
    "tags": []
   },
   "outputs": [],
   "source": [
    "probs_calib = model.predict_proba(X_calib)"
   ]
  },
  {
   "cell_type": "code",
   "execution_count": 39,
   "id": "2ed93547-6d5d-4983-9b36-1ecb300da49a",
   "metadata": {
    "execution": {
     "iopub.execute_input": "2025-08-05T14:39:38.381249Z",
     "iopub.status.busy": "2025-08-05T14:39:38.380621Z",
     "iopub.status.idle": "2025-08-05T14:39:38.385808Z",
     "shell.execute_reply": "2025-08-05T14:39:38.384891Z"
    },
    "papermill": {
     "duration": 0.017806,
     "end_time": "2025-08-05T14:39:38.387274",
     "exception": false,
     "start_time": "2025-08-05T14:39:38.369468",
     "status": "completed"
    },
    "tags": []
   },
   "outputs": [],
   "source": [
    "y_calib = y_calib.values.ravel().astype(int)"
   ]
  },
  {
   "cell_type": "code",
   "execution_count": 40,
   "id": "65d1320d-f588-4b38-9072-62af1ae97f7d",
   "metadata": {
    "execution": {
     "iopub.execute_input": "2025-08-05T14:39:38.410428Z",
     "iopub.status.busy": "2025-08-05T14:39:38.409801Z",
     "iopub.status.idle": "2025-08-05T14:39:38.415790Z",
     "shell.execute_reply": "2025-08-05T14:39:38.414960Z"
    },
    "papermill": {
     "duration": 0.018706,
     "end_time": "2025-08-05T14:39:38.417232",
     "exception": false,
     "start_time": "2025-08-05T14:39:38.398526",
     "status": "completed"
    },
    "tags": []
   },
   "outputs": [],
   "source": [
    "from fairness_multiverse.conformal import compute_nc_scores\n",
    "\n",
    "# Compute nonconformity scores on calibration set (1 - probability of true class)\n",
    "nc_scores = compute_nc_scores(probs_calib, y_calib)"
   ]
  },
  {
   "cell_type": "code",
   "execution_count": 41,
   "id": "df3b8ca3-53b7-43d5-9667-7c85da7aeda2",
   "metadata": {
    "execution": {
     "iopub.execute_input": "2025-08-05T14:39:38.440149Z",
     "iopub.status.busy": "2025-08-05T14:39:38.439656Z",
     "iopub.status.idle": "2025-08-05T14:39:38.445318Z",
     "shell.execute_reply": "2025-08-05T14:39:38.444443Z"
    },
    "papermill": {
     "duration": 0.018359,
     "end_time": "2025-08-05T14:39:38.446730",
     "exception": false,
     "start_time": "2025-08-05T14:39:38.428371",
     "status": "completed"
    },
    "tags": []
   },
   "outputs": [],
   "source": [
    "from fairness_multiverse.conformal import find_threshold\n",
    "\n",
    "# Find conformal threshold q_hat for the given alpha (split conformal method)\n",
    "q_hat = find_threshold(nc_scores, alpha)"
   ]
  },
  {
   "cell_type": "code",
   "execution_count": 42,
   "id": "4d29e6c1-0ef6-4aa4-b8fe-4fe79b0d033a",
   "metadata": {
    "execution": {
     "iopub.execute_input": "2025-08-05T14:39:38.478778Z",
     "iopub.status.busy": "2025-08-05T14:39:38.478191Z",
     "iopub.status.idle": "2025-08-05T14:39:38.496856Z",
     "shell.execute_reply": "2025-08-05T14:39:38.495954Z"
    },
    "papermill": {
     "duration": 0.042435,
     "end_time": "2025-08-05T14:39:38.500232",
     "exception": false,
     "start_time": "2025-08-05T14:39:38.457797",
     "status": "completed"
    },
    "tags": []
   },
   "outputs": [
    {
     "data": {
      "text/plain": [
       "0.6760322756471857"
      ]
     },
     "execution_count": 42,
     "metadata": {},
     "output_type": "execute_result"
    }
   ],
   "source": [
    "q_hat"
   ]
  },
  {
   "cell_type": "code",
   "execution_count": 43,
   "id": "92460794-cdac-4be2-ba28-f28c0515a6fb",
   "metadata": {
    "execution": {
     "iopub.execute_input": "2025-08-05T14:39:38.522721Z",
     "iopub.status.busy": "2025-08-05T14:39:38.522383Z",
     "iopub.status.idle": "2025-08-05T14:39:39.322541Z",
     "shell.execute_reply": "2025-08-05T14:39:39.321393Z"
    },
    "papermill": {
     "duration": 0.813852,
     "end_time": "2025-08-05T14:39:39.324835",
     "exception": false,
     "start_time": "2025-08-05T14:39:38.510983",
     "status": "completed"
    },
    "tags": []
   },
   "outputs": [],
   "source": [
    "from fairness_multiverse.conformal import predict_conformal_sets\n",
    "\n",
    "# Generate prediction sets for each test example\n",
    "pred_sets = predict_conformal_sets(model, X_test, q_hat)"
   ]
  },
  {
   "cell_type": "code",
   "execution_count": 44,
   "id": "d90c9a65-e6db-4f5d-80cd-e68fb7e46829",
   "metadata": {
    "execution": {
     "iopub.execute_input": "2025-08-05T14:39:39.361455Z",
     "iopub.status.busy": "2025-08-05T14:39:39.361108Z",
     "iopub.status.idle": "2025-08-05T14:39:39.366246Z",
     "shell.execute_reply": "2025-08-05T14:39:39.365461Z"
    },
    "papermill": {
     "duration": 0.018401,
     "end_time": "2025-08-05T14:39:39.367780",
     "exception": false,
     "start_time": "2025-08-05T14:39:39.349379",
     "status": "completed"
    },
    "tags": []
   },
   "outputs": [],
   "source": [
    "y_true = y_true.squeeze()"
   ]
  },
  {
   "cell_type": "code",
   "execution_count": 45,
   "id": "3a58a54a-1e68-46b9-927a-df01f18aebc8",
   "metadata": {
    "execution": {
     "iopub.execute_input": "2025-08-05T14:39:39.390945Z",
     "iopub.status.busy": "2025-08-05T14:39:39.390370Z",
     "iopub.status.idle": "2025-08-05T14:39:40.264579Z",
     "shell.execute_reply": "2025-08-05T14:39:40.263662Z"
    },
    "papermill": {
     "duration": 0.887232,
     "end_time": "2025-08-05T14:39:40.266432",
     "exception": false,
     "start_time": "2025-08-05T14:39:39.379200",
     "status": "completed"
    },
    "tags": []
   },
   "outputs": [],
   "source": [
    "from fairness_multiverse.conformal import evaluate_sets\n",
    "\n",
    "# Evaluate coverage and average set size on test data\n",
    "metrics = evaluate_sets(pred_sets, y_true)"
   ]
  },
  {
   "cell_type": "markdown",
   "id": "2b569c12-9aaa-4c88-98c9-bbcd0cf3ebb8",
   "metadata": {
    "papermill": {
     "duration": 0.022731,
     "end_time": "2025-08-05T14:39:40.312819",
     "exception": false,
     "start_time": "2025-08-05T14:39:40.290088",
     "status": "completed"
    },
    "tags": []
   },
   "source": [
    "# CP Metrics"
   ]
  },
  {
   "cell_type": "code",
   "execution_count": 46,
   "id": "5ce0a5cb-201f-45a0-ade5-94c7f0bd6095",
   "metadata": {
    "execution": {
     "iopub.execute_input": "2025-08-05T14:39:40.359756Z",
     "iopub.status.busy": "2025-08-05T14:39:40.359330Z",
     "iopub.status.idle": "2025-08-05T14:39:40.367061Z",
     "shell.execute_reply": "2025-08-05T14:39:40.366078Z"
    },
    "papermill": {
     "duration": 0.032971,
     "end_time": "2025-08-05T14:39:40.368625",
     "exception": false,
     "start_time": "2025-08-05T14:39:40.335654",
     "status": "completed"
    },
    "tags": []
   },
   "outputs": [
    {
     "data": {
      "text/plain": [
       "{'coverage': 0.9126518782744398, 'avg_size': 1.1258165198974472}"
      ]
     },
     "execution_count": 46,
     "metadata": {},
     "output_type": "execute_result"
    }
   ],
   "source": [
    "metrics"
   ]
  },
  {
   "cell_type": "code",
   "execution_count": 47,
   "id": "9b9a838d-31c9-430b-ae14-12baee460d17",
   "metadata": {
    "execution": {
     "iopub.execute_input": "2025-08-05T14:39:40.411963Z",
     "iopub.status.busy": "2025-08-05T14:39:40.411207Z",
     "iopub.status.idle": "2025-08-05T14:39:40.417373Z",
     "shell.execute_reply": "2025-08-05T14:39:40.416459Z"
    },
    "papermill": {
     "duration": 0.029515,
     "end_time": "2025-08-05T14:39:40.419208",
     "exception": false,
     "start_time": "2025-08-05T14:39:40.389693",
     "status": "completed"
    },
    "tags": []
   },
   "outputs": [],
   "source": [
    "example_universe = universe.copy()\n",
    "universe_training_year = example_universe.get(\"training_year\")\n",
    "universe_training_size = example_universe.get(\"training_size\")\n",
    "universe_scale = example_universe.get(\"scale\")\n",
    "universe_model = example_universe.get(\"model\")\n",
    "universe_exclude_features = example_universe.get(\"exclude_features\")\n",
    "universe_exclude_subgroups = example_universe.get(\"exclude_subgroups\")"
   ]
  },
  {
   "cell_type": "code",
   "execution_count": 48,
   "id": "f4b6a8ac-9dc0-4245-8a91-5b3b5999c4f9",
   "metadata": {
    "execution": {
     "iopub.execute_input": "2025-08-05T14:39:40.467695Z",
     "iopub.status.busy": "2025-08-05T14:39:40.467105Z",
     "iopub.status.idle": "2025-08-05T14:39:40.473634Z",
     "shell.execute_reply": "2025-08-05T14:39:40.472557Z"
    },
    "papermill": {
     "duration": 0.032191,
     "end_time": "2025-08-05T14:39:40.475356",
     "exception": false,
     "start_time": "2025-08-05T14:39:40.443165",
     "status": "completed"
    },
    "tags": []
   },
   "outputs": [],
   "source": [
    "cp_metrics_dict = {\n",
    "    \"universe_id\": [universe_id],\n",
    "    \"universe_training_year\": [universe_training_year],\n",
    "    \"universe_training_size\": [universe_training_size],\n",
    "    \"universe_scale\": [universe_scale],\n",
    "    \"universe_model\": [universe_model],\n",
    "    \"universe_exclude_features\": [universe_exclude_features],\n",
    "    \"universe_exclude_subgroups\": [universe_exclude_subgroups],\n",
    "    \"q_hat\": [q_hat],\n",
    "    \"coverage\": [metrics[\"coverage\"]],\n",
    "    \"avg_size\": [metrics[\"avg_size\"]],\n",
    "}"
   ]
  },
  {
   "cell_type": "code",
   "execution_count": 49,
   "id": "908acbb1-0371-4915-85ca-3fa520d2efe2",
   "metadata": {
    "execution": {
     "iopub.execute_input": "2025-08-05T14:39:40.515559Z",
     "iopub.status.busy": "2025-08-05T14:39:40.515203Z",
     "iopub.status.idle": "2025-08-05T14:39:40.522807Z",
     "shell.execute_reply": "2025-08-05T14:39:40.521905Z"
    },
    "papermill": {
     "duration": 0.025155,
     "end_time": "2025-08-05T14:39:40.524145",
     "exception": false,
     "start_time": "2025-08-05T14:39:40.498990",
     "status": "completed"
    },
    "tags": []
   },
   "outputs": [
    {
     "data": {
      "text/plain": [
       "{'universe_id': ['c9ad70e6f462c78d957ed943d17f714a'],\n",
       " 'universe_training_year': ['2014'],\n",
       " 'universe_training_size': ['25k'],\n",
       " 'universe_scale': ['scale'],\n",
       " 'universe_model': ['elasticnet'],\n",
       " 'universe_exclude_features': ['nationality-sex'],\n",
       " 'universe_exclude_subgroups': ['drop-non-german'],\n",
       " 'q_hat': [0.6760322756471857],\n",
       " 'coverage': [0.9126518782744398],\n",
       " 'avg_size': [1.1258165198974472]}"
      ]
     },
     "execution_count": 49,
     "metadata": {},
     "output_type": "execute_result"
    }
   ],
   "source": [
    "cp_metrics_dict"
   ]
  },
  {
   "cell_type": "code",
   "execution_count": 50,
   "id": "33007efc-14e9-4ec6-97ac-56a455c82265",
   "metadata": {
    "execution": {
     "iopub.execute_input": "2025-08-05T14:39:40.548524Z",
     "iopub.status.busy": "2025-08-05T14:39:40.548038Z",
     "iopub.status.idle": "2025-08-05T14:39:40.553224Z",
     "shell.execute_reply": "2025-08-05T14:39:40.552503Z"
    },
    "papermill": {
     "duration": 0.018385,
     "end_time": "2025-08-05T14:39:40.554650",
     "exception": false,
     "start_time": "2025-08-05T14:39:40.536265",
     "status": "completed"
    },
    "tags": []
   },
   "outputs": [],
   "source": [
    "cp_metrics_df = pd.DataFrame(cp_metrics_dict)"
   ]
  },
  {
   "cell_type": "code",
   "execution_count": 51,
   "id": "db12611b-57b2-4910-b9d0-355adfd6e7bf",
   "metadata": {
    "execution": {
     "iopub.execute_input": "2025-08-05T14:39:40.596137Z",
     "iopub.status.busy": "2025-08-05T14:39:40.595755Z",
     "iopub.status.idle": "2025-08-05T14:39:40.613063Z",
     "shell.execute_reply": "2025-08-05T14:39:40.612042Z"
    },
    "papermill": {
     "duration": 0.046875,
     "end_time": "2025-08-05T14:39:40.618874",
     "exception": false,
     "start_time": "2025-08-05T14:39:40.571999",
     "status": "completed"
    },
    "tags": []
   },
   "outputs": [
    {
     "data": {
      "text/html": [
       "<div>\n",
       "<style scoped>\n",
       "    .dataframe tbody tr th:only-of-type {\n",
       "        vertical-align: middle;\n",
       "    }\n",
       "\n",
       "    .dataframe tbody tr th {\n",
       "        vertical-align: top;\n",
       "    }\n",
       "\n",
       "    .dataframe thead th {\n",
       "        text-align: right;\n",
       "    }\n",
       "</style>\n",
       "<table border=\"1\" class=\"dataframe\">\n",
       "  <thead>\n",
       "    <tr style=\"text-align: right;\">\n",
       "      <th></th>\n",
       "      <th>universe_id</th>\n",
       "      <th>universe_training_year</th>\n",
       "      <th>universe_training_size</th>\n",
       "      <th>universe_scale</th>\n",
       "      <th>universe_model</th>\n",
       "      <th>universe_exclude_features</th>\n",
       "      <th>universe_exclude_subgroups</th>\n",
       "      <th>q_hat</th>\n",
       "      <th>coverage</th>\n",
       "      <th>avg_size</th>\n",
       "    </tr>\n",
       "  </thead>\n",
       "  <tbody>\n",
       "    <tr>\n",
       "      <th>0</th>\n",
       "      <td>c9ad70e6f462c78d957ed943d17f714a</td>\n",
       "      <td>2014</td>\n",
       "      <td>25k</td>\n",
       "      <td>scale</td>\n",
       "      <td>elasticnet</td>\n",
       "      <td>nationality-sex</td>\n",
       "      <td>drop-non-german</td>\n",
       "      <td>0.676032</td>\n",
       "      <td>0.912652</td>\n",
       "      <td>1.125817</td>\n",
       "    </tr>\n",
       "  </tbody>\n",
       "</table>\n",
       "</div>"
      ],
      "text/plain": [
       "                        universe_id universe_training_year  \\\n",
       "0  c9ad70e6f462c78d957ed943d17f714a                   2014   \n",
       "\n",
       "  universe_training_size universe_scale universe_model  \\\n",
       "0                    25k          scale     elasticnet   \n",
       "\n",
       "  universe_exclude_features universe_exclude_subgroups     q_hat  coverage  \\\n",
       "0           nationality-sex            drop-non-german  0.676032  0.912652   \n",
       "\n",
       "   avg_size  \n",
       "0  1.125817  "
      ]
     },
     "execution_count": 51,
     "metadata": {},
     "output_type": "execute_result"
    }
   ],
   "source": [
    "cp_metrics_df"
   ]
  },
  {
   "cell_type": "code",
   "execution_count": 52,
   "id": "b7fbde55-a0a1-47e4-9af6-fe4a17fa8c61",
   "metadata": {
    "execution": {
     "iopub.execute_input": "2025-08-05T14:39:40.672696Z",
     "iopub.status.busy": "2025-08-05T14:39:40.671863Z",
     "iopub.status.idle": "2025-08-05T14:39:40.677191Z",
     "shell.execute_reply": "2025-08-05T14:39:40.676226Z"
    },
    "papermill": {
     "duration": 0.030451,
     "end_time": "2025-08-05T14:39:40.678939",
     "exception": false,
     "start_time": "2025-08-05T14:39:40.648488",
     "status": "completed"
    },
    "tags": []
   },
   "outputs": [],
   "source": [
    "# Conditional Coverage & looking at subgroups"
   ]
  },
  {
   "cell_type": "code",
   "execution_count": 53,
   "id": "027ae886-68dd-4141-96c7-805a5450e1ef",
   "metadata": {
    "execution": {
     "iopub.execute_input": "2025-08-05T14:39:40.725739Z",
     "iopub.status.busy": "2025-08-05T14:39:40.724953Z",
     "iopub.status.idle": "2025-08-05T14:39:40.968365Z",
     "shell.execute_reply": "2025-08-05T14:39:40.967471Z"
    },
    "papermill": {
     "duration": 0.26849,
     "end_time": "2025-08-05T14:39:40.970275",
     "exception": false,
     "start_time": "2025-08-05T14:39:40.701785",
     "status": "completed"
    },
    "tags": []
   },
   "outputs": [],
   "source": [
    "from fairness_multiverse.conformal import build_cp_groups\n",
    "\n",
    "cp_groups_df = build_cp_groups(pred_sets, y_true, X_test.index, org_test)\n",
    "#needs universe_id and setting"
   ]
  },
  {
   "cell_type": "code",
   "execution_count": 54,
   "id": "01d5802c-663a-4d1f-9d69-e036faaffbf7",
   "metadata": {
    "execution": {
     "iopub.execute_input": "2025-08-05T14:39:41.013200Z",
     "iopub.status.busy": "2025-08-05T14:39:41.012396Z",
     "iopub.status.idle": "2025-08-05T14:39:41.017084Z",
     "shell.execute_reply": "2025-08-05T14:39:41.016154Z"
    },
    "papermill": {
     "duration": 0.02775,
     "end_time": "2025-08-05T14:39:41.019021",
     "exception": false,
     "start_time": "2025-08-05T14:39:40.991271",
     "status": "completed"
    },
    "tags": []
   },
   "outputs": [],
   "source": [
    "#delete\n",
    "#cp_groups_df"
   ]
  },
  {
   "cell_type": "code",
   "execution_count": 55,
   "id": "fa424af1-d1eb-443d-b717-2d279ada8408",
   "metadata": {
    "execution": {
     "iopub.execute_input": "2025-08-05T14:39:41.066292Z",
     "iopub.status.busy": "2025-08-05T14:39:41.065448Z",
     "iopub.status.idle": "2025-08-05T14:39:41.070329Z",
     "shell.execute_reply": "2025-08-05T14:39:41.069450Z"
    },
    "papermill": {
     "duration": 0.030251,
     "end_time": "2025-08-05T14:39:41.072420",
     "exception": false,
     "start_time": "2025-08-05T14:39:41.042169",
     "status": "completed"
    },
    "tags": []
   },
   "outputs": [],
   "source": [
    "#delete\n",
    "#percentage = (cp_groups_df['nongerman_female'] == 1).mean() * 100\n",
    "#print(percentage)\n"
   ]
  },
  {
   "cell_type": "code",
   "execution_count": 56,
   "id": "6cbdab96-b2b2-45af-ad54-d0516db2e28d",
   "metadata": {
    "execution": {
     "iopub.execute_input": "2025-08-05T14:39:41.119488Z",
     "iopub.status.busy": "2025-08-05T14:39:41.119084Z",
     "iopub.status.idle": "2025-08-05T14:39:42.615859Z",
     "shell.execute_reply": "2025-08-05T14:39:42.614864Z"
    },
    "papermill": {
     "duration": 1.522449,
     "end_time": "2025-08-05T14:39:42.617933",
     "exception": false,
     "start_time": "2025-08-05T14:39:41.095484",
     "status": "completed"
    },
    "tags": []
   },
   "outputs": [],
   "source": [
    "# Define covered = 1 if true_label is in the predicted set\n",
    "cp_groups_df['covered'] = cp_groups_df.apply(\n",
    "    lambda r: int(r['true_label'] in r['pred_set']),\n",
    "    axis=1\n",
    ")"
   ]
  },
  {
   "cell_type": "code",
   "execution_count": 57,
   "id": "338ff529-1a6b-4b87-a931-8e4788d52aad",
   "metadata": {
    "execution": {
     "iopub.execute_input": "2025-08-05T14:39:42.672334Z",
     "iopub.status.busy": "2025-08-05T14:39:42.672017Z",
     "iopub.status.idle": "2025-08-05T14:39:42.676926Z",
     "shell.execute_reply": "2025-08-05T14:39:42.675859Z"
    },
    "papermill": {
     "duration": 0.032431,
     "end_time": "2025-08-05T14:39:42.678676",
     "exception": false,
     "start_time": "2025-08-05T14:39:42.646245",
     "status": "completed"
    },
    "tags": []
   },
   "outputs": [],
   "source": [
    "#cp_groups_df"
   ]
  },
  {
   "cell_type": "code",
   "execution_count": 58,
   "id": "90032e27-66df-4540-9169-4e89cfbaa758",
   "metadata": {
    "execution": {
     "iopub.execute_input": "2025-08-05T14:39:42.733547Z",
     "iopub.status.busy": "2025-08-05T14:39:42.732691Z",
     "iopub.status.idle": "2025-08-05T14:39:42.744621Z",
     "shell.execute_reply": "2025-08-05T14:39:42.743504Z"
    },
    "papermill": {
     "duration": 0.040454,
     "end_time": "2025-08-05T14:39:42.746560",
     "exception": false,
     "start_time": "2025-08-05T14:39:42.706106",
     "status": "completed"
    },
    "tags": []
   },
   "outputs": [],
   "source": [
    "subgroups = ['frau1','nongerman','nongerman_male','nongerman_female']\n",
    "\n",
    "# Conditional coverage for subgroup==1\n",
    "cond_coverage = {\n",
    "    g: cp_groups_df.loc[cp_groups_df[g]==1, 'covered'].mean()\n",
    "    for g in subgroups\n",
    "}"
   ]
  },
  {
   "cell_type": "code",
   "execution_count": 59,
   "id": "1e348fb1-b9c3-45bc-ba23-f016827a7e0d",
   "metadata": {
    "execution": {
     "iopub.execute_input": "2025-08-05T14:39:42.802652Z",
     "iopub.status.busy": "2025-08-05T14:39:42.801972Z",
     "iopub.status.idle": "2025-08-05T14:39:42.810358Z",
     "shell.execute_reply": "2025-08-05T14:39:42.809190Z"
    },
    "papermill": {
     "duration": 0.037942,
     "end_time": "2025-08-05T14:39:42.812185",
     "exception": false,
     "start_time": "2025-08-05T14:39:42.774243",
     "status": "completed"
    },
    "tags": []
   },
   "outputs": [
    {
     "data": {
      "text/plain": [
       "{'frau1': 0.9128993125758188,\n",
       " 'nongerman': 0.9121428170437321,\n",
       " 'nongerman_male': 0.9267765468792218,\n",
       " 'nongerman_female': 0.8879284649776453}"
      ]
     },
     "execution_count": 59,
     "metadata": {},
     "output_type": "execute_result"
    }
   ],
   "source": [
    "cond_coverage"
   ]
  },
  {
   "cell_type": "code",
   "execution_count": 60,
   "id": "f5093324-c3dd-4d63-bc4c-8d945e5c8bbb",
   "metadata": {
    "execution": {
     "iopub.execute_input": "2025-08-05T14:39:42.864410Z",
     "iopub.status.busy": "2025-08-05T14:39:42.863752Z",
     "iopub.status.idle": "2025-08-05T14:39:42.871397Z",
     "shell.execute_reply": "2025-08-05T14:39:42.870237Z"
    },
    "papermill": {
     "duration": 0.033777,
     "end_time": "2025-08-05T14:39:42.873050",
     "exception": false,
     "start_time": "2025-08-05T14:39:42.839273",
     "status": "completed"
    },
    "tags": []
   },
   "outputs": [],
   "source": [
    "for subgroup, cov in cond_coverage.items():\n",
    "    cp_metrics_df[f\"cov_{subgroup}\"] = cov"
   ]
  },
  {
   "cell_type": "code",
   "execution_count": 61,
   "id": "6e872e10-dbe5-49e8-b554-5030c98ff75d",
   "metadata": {
    "execution": {
     "iopub.execute_input": "2025-08-05T14:39:42.919390Z",
     "iopub.status.busy": "2025-08-05T14:39:42.918944Z",
     "iopub.status.idle": "2025-08-05T14:39:42.939770Z",
     "shell.execute_reply": "2025-08-05T14:39:42.938747Z"
    },
    "papermill": {
     "duration": 0.046243,
     "end_time": "2025-08-05T14:39:42.941642",
     "exception": false,
     "start_time": "2025-08-05T14:39:42.895399",
     "status": "completed"
    },
    "tags": []
   },
   "outputs": [
    {
     "data": {
      "text/html": [
       "<div>\n",
       "<style scoped>\n",
       "    .dataframe tbody tr th:only-of-type {\n",
       "        vertical-align: middle;\n",
       "    }\n",
       "\n",
       "    .dataframe tbody tr th {\n",
       "        vertical-align: top;\n",
       "    }\n",
       "\n",
       "    .dataframe thead th {\n",
       "        text-align: right;\n",
       "    }\n",
       "</style>\n",
       "<table border=\"1\" class=\"dataframe\">\n",
       "  <thead>\n",
       "    <tr style=\"text-align: right;\">\n",
       "      <th></th>\n",
       "      <th>universe_id</th>\n",
       "      <th>universe_training_year</th>\n",
       "      <th>universe_training_size</th>\n",
       "      <th>universe_scale</th>\n",
       "      <th>universe_model</th>\n",
       "      <th>universe_exclude_features</th>\n",
       "      <th>universe_exclude_subgroups</th>\n",
       "      <th>q_hat</th>\n",
       "      <th>coverage</th>\n",
       "      <th>avg_size</th>\n",
       "      <th>cov_frau1</th>\n",
       "      <th>cov_nongerman</th>\n",
       "      <th>cov_nongerman_male</th>\n",
       "      <th>cov_nongerman_female</th>\n",
       "    </tr>\n",
       "  </thead>\n",
       "  <tbody>\n",
       "    <tr>\n",
       "      <th>0</th>\n",
       "      <td>c9ad70e6f462c78d957ed943d17f714a</td>\n",
       "      <td>2014</td>\n",
       "      <td>25k</td>\n",
       "      <td>scale</td>\n",
       "      <td>elasticnet</td>\n",
       "      <td>nationality-sex</td>\n",
       "      <td>drop-non-german</td>\n",
       "      <td>0.676032</td>\n",
       "      <td>0.912652</td>\n",
       "      <td>1.125817</td>\n",
       "      <td>0.912899</td>\n",
       "      <td>0.912143</td>\n",
       "      <td>0.926777</td>\n",
       "      <td>0.887928</td>\n",
       "    </tr>\n",
       "  </tbody>\n",
       "</table>\n",
       "</div>"
      ],
      "text/plain": [
       "                        universe_id universe_training_year  \\\n",
       "0  c9ad70e6f462c78d957ed943d17f714a                   2014   \n",
       "\n",
       "  universe_training_size universe_scale universe_model  \\\n",
       "0                    25k          scale     elasticnet   \n",
       "\n",
       "  universe_exclude_features universe_exclude_subgroups     q_hat  coverage  \\\n",
       "0           nationality-sex            drop-non-german  0.676032  0.912652   \n",
       "\n",
       "   avg_size  cov_frau1  cov_nongerman  cov_nongerman_male  \\\n",
       "0  1.125817   0.912899       0.912143            0.926777   \n",
       "\n",
       "   cov_nongerman_female  \n",
       "0              0.887928  "
      ]
     },
     "execution_count": 61,
     "metadata": {},
     "output_type": "execute_result"
    }
   ],
   "source": [
    "cp_metrics_df"
   ]
  },
  {
   "cell_type": "markdown",
   "id": "33774451",
   "metadata": {
    "papermill": {
     "duration": 0.024365,
     "end_time": "2025-08-05T14:39:42.989140",
     "exception": false,
     "start_time": "2025-08-05T14:39:42.964775",
     "status": "completed"
    },
    "tags": []
   },
   "source": [
    "# (Fairness) Metrics"
   ]
  },
  {
   "cell_type": "code",
   "execution_count": 62,
   "id": "debc5d62",
   "metadata": {
    "execution": {
     "iopub.execute_input": "2025-08-05T14:39:43.036520Z",
     "iopub.status.busy": "2025-08-05T14:39:43.035408Z",
     "iopub.status.idle": "2025-08-05T14:39:43.055574Z",
     "shell.execute_reply": "2025-08-05T14:39:43.054722Z"
    },
    "papermill": {
     "duration": 0.044522,
     "end_time": "2025-08-05T14:39:43.057171",
     "exception": false,
     "start_time": "2025-08-05T14:39:43.012649",
     "status": "completed"
    },
    "tags": []
   },
   "outputs": [],
   "source": [
    "# do I need to include maxdeutsch1.missing?\n",
    "\n",
    "import numpy as np\n",
    "\n",
    "colname_to_bin = \"maxdeutsch1\"\n",
    "majority_value = org_train[colname_to_bin].mode()[0]\n",
    "\n",
    "org_test[\"majmin\"] = np.where(org_test[colname_to_bin] == majority_value, \"majority\", \"minority\")"
   ]
  },
  {
   "cell_type": "code",
   "execution_count": 63,
   "id": "06a50de5",
   "metadata": {
    "execution": {
     "iopub.execute_input": "2025-08-05T14:39:43.109503Z",
     "iopub.status.busy": "2025-08-05T14:39:43.109145Z",
     "iopub.status.idle": "2025-08-05T14:39:45.067476Z",
     "shell.execute_reply": "2025-08-05T14:39:45.066504Z"
    },
    "papermill": {
     "duration": 1.990706,
     "end_time": "2025-08-05T14:39:45.069477",
     "exception": false,
     "start_time": "2025-08-05T14:39:43.078771",
     "status": "completed"
    },
    "tags": []
   },
   "outputs": [],
   "source": [
    "example_universe = universe.copy()\n",
    "example_universe[\"cutoff\"] = example_universe[\"cutoff\"][0]\n",
    "example_universe[\"eval_fairness_grouping\"] = example_universe[\"eval_fairness_grouping\"][0]\n",
    "fairness_dict, metric_frame = universe_analysis.compute_metrics(\n",
    "    example_universe,\n",
    "    y_pred_prob=probs_test,\n",
    "    y_test=y_true,\n",
    "    org_test=org_test,\n",
    ")"
   ]
  },
  {
   "cell_type": "markdown",
   "id": "f95d4e02",
   "metadata": {
    "papermill": {
     "duration": 0.021708,
     "end_time": "2025-08-05T14:39:45.116436",
     "exception": false,
     "start_time": "2025-08-05T14:39:45.094728",
     "status": "completed"
    },
    "tags": []
   },
   "source": [
    "# Overall"
   ]
  },
  {
   "cell_type": "markdown",
   "id": "bdee4871",
   "metadata": {
    "papermill": {
     "duration": 0.021083,
     "end_time": "2025-08-05T14:39:45.160640",
     "exception": false,
     "start_time": "2025-08-05T14:39:45.139557",
     "status": "completed"
    },
    "tags": []
   },
   "source": [
    "Fairness\n",
    "Main fairness target: Equalized Odds. Seems to be a better fit than equal opportunity, since we're not only interested in Y = 1. Seems to be a better fit than demographic parity, since we also care about accuracy, not just equal distribution of preds.\n",
    "\n",
    "Pick column for computation of fairness metrics\n",
    "\n",
    "Performance\n",
    "Overall performance measures, most interesting in relation to the measures split by group below"
   ]
  },
  {
   "cell_type": "code",
   "execution_count": 64,
   "id": "c4e067c6",
   "metadata": {
    "execution": {
     "iopub.execute_input": "2025-08-05T14:39:45.214374Z",
     "iopub.status.busy": "2025-08-05T14:39:45.213509Z",
     "iopub.status.idle": "2025-08-05T14:39:45.222795Z",
     "shell.execute_reply": "2025-08-05T14:39:45.221819Z"
    },
    "papermill": {
     "duration": 0.03767,
     "end_time": "2025-08-05T14:39:45.224307",
     "exception": false,
     "start_time": "2025-08-05T14:39:45.186637",
     "status": "completed"
    },
    "tags": []
   },
   "outputs": [
    {
     "data": {
      "text/plain": [
       "accuracy                   0.225449\n",
       "balanced accuracy          0.551028\n",
       "f1                         0.246751\n",
       "precision                  0.140960\n",
       "false positive rate        0.886908\n",
       "false negative rate        0.011036\n",
       "selection rate             0.900000\n",
       "count                  89710.000000\n",
       "dtype: float64"
      ]
     },
     "execution_count": 64,
     "metadata": {},
     "output_type": "execute_result"
    }
   ],
   "source": [
    "metric_frame.overall"
   ]
  },
  {
   "cell_type": "markdown",
   "id": "e968fe9d",
   "metadata": {
    "papermill": {
     "duration": 0.021869,
     "end_time": "2025-08-05T14:39:45.268497",
     "exception": false,
     "start_time": "2025-08-05T14:39:45.246628",
     "status": "completed"
    },
    "tags": []
   },
   "source": [
    "By Group"
   ]
  },
  {
   "cell_type": "code",
   "execution_count": 65,
   "id": "ec325bce",
   "metadata": {
    "execution": {
     "iopub.execute_input": "2025-08-05T14:39:45.318722Z",
     "iopub.status.busy": "2025-08-05T14:39:45.317726Z",
     "iopub.status.idle": "2025-08-05T14:39:45.334675Z",
     "shell.execute_reply": "2025-08-05T14:39:45.333343Z"
    },
    "papermill": {
     "duration": 0.04277,
     "end_time": "2025-08-05T14:39:45.336224",
     "exception": false,
     "start_time": "2025-08-05T14:39:45.293454",
     "status": "completed"
    },
    "tags": []
   },
   "outputs": [
    {
     "data": {
      "text/html": [
       "<div>\n",
       "<style scoped>\n",
       "    .dataframe tbody tr th:only-of-type {\n",
       "        vertical-align: middle;\n",
       "    }\n",
       "\n",
       "    .dataframe tbody tr th {\n",
       "        vertical-align: top;\n",
       "    }\n",
       "\n",
       "    .dataframe thead th {\n",
       "        text-align: right;\n",
       "    }\n",
       "</style>\n",
       "<table border=\"1\" class=\"dataframe\">\n",
       "  <thead>\n",
       "    <tr style=\"text-align: right;\">\n",
       "      <th></th>\n",
       "      <th>accuracy</th>\n",
       "      <th>balanced accuracy</th>\n",
       "      <th>f1</th>\n",
       "      <th>precision</th>\n",
       "      <th>false positive rate</th>\n",
       "      <th>false negative rate</th>\n",
       "      <th>selection rate</th>\n",
       "      <th>count</th>\n",
       "    </tr>\n",
       "    <tr>\n",
       "      <th>majmin</th>\n",
       "      <th></th>\n",
       "      <th></th>\n",
       "      <th></th>\n",
       "      <th></th>\n",
       "      <th></th>\n",
       "      <th></th>\n",
       "      <th></th>\n",
       "      <th></th>\n",
       "    </tr>\n",
       "  </thead>\n",
       "  <tbody>\n",
       "    <tr>\n",
       "      <th>majority</th>\n",
       "      <td>0.246350</td>\n",
       "      <td>0.560653</td>\n",
       "      <td>0.257280</td>\n",
       "      <td>0.147900</td>\n",
       "      <td>0.86655</td>\n",
       "      <td>0.012144</td>\n",
       "      <td>0.882579</td>\n",
       "      <td>69170.0</td>\n",
       "    </tr>\n",
       "    <tr>\n",
       "      <th>minority</th>\n",
       "      <td>0.155063</td>\n",
       "      <td>0.519541</td>\n",
       "      <td>0.213246</td>\n",
       "      <td>0.119445</td>\n",
       "      <td>0.95416</td>\n",
       "      <td>0.006757</td>\n",
       "      <td>0.958666</td>\n",
       "      <td>20540.0</td>\n",
       "    </tr>\n",
       "  </tbody>\n",
       "</table>\n",
       "</div>"
      ],
      "text/plain": [
       "          accuracy  balanced accuracy        f1  precision  \\\n",
       "majmin                                                       \n",
       "majority  0.246350           0.560653  0.257280   0.147900   \n",
       "minority  0.155063           0.519541  0.213246   0.119445   \n",
       "\n",
       "          false positive rate  false negative rate  selection rate    count  \n",
       "majmin                                                                       \n",
       "majority              0.86655             0.012144        0.882579  69170.0  \n",
       "minority              0.95416             0.006757        0.958666  20540.0  "
      ]
     },
     "execution_count": 65,
     "metadata": {},
     "output_type": "execute_result"
    }
   ],
   "source": [
    "metric_frame.by_group"
   ]
  },
  {
   "cell_type": "code",
   "execution_count": 66,
   "id": "a9ddbe63",
   "metadata": {
    "execution": {
     "iopub.execute_input": "2025-08-05T14:39:45.390283Z",
     "iopub.status.busy": "2025-08-05T14:39:45.389339Z",
     "iopub.status.idle": "2025-08-05T14:39:47.690973Z",
     "shell.execute_reply": "2025-08-05T14:39:47.690052Z"
    },
    "papermill": {
     "duration": 2.330372,
     "end_time": "2025-08-05T14:39:47.692755",
     "exception": false,
     "start_time": "2025-08-05T14:39:45.362383",
     "status": "completed"
    },
    "tags": []
   },
   "outputs": [
    {
     "data": {
      "text/plain": [
       "array([[<Axes: title={'center': 'accuracy'}, xlabel='majmin'>,\n",
       "        <Axes: title={'center': 'balanced accuracy'}, xlabel='majmin'>,\n",
       "        <Axes: title={'center': 'f1'}, xlabel='majmin'>],\n",
       "       [<Axes: title={'center': 'precision'}, xlabel='majmin'>,\n",
       "        <Axes: title={'center': 'false positive rate'}, xlabel='majmin'>,\n",
       "        <Axes: title={'center': 'false negative rate'}, xlabel='majmin'>],\n",
       "       [<Axes: title={'center': 'selection rate'}, xlabel='majmin'>,\n",
       "        <Axes: title={'center': 'count'}, xlabel='majmin'>,\n",
       "        <Axes: xlabel='majmin'>]], dtype=object)"
      ]
     },
     "execution_count": 66,
     "metadata": {},
     "output_type": "execute_result"
    },
    {
     "data": {
      "image/png": "[encoded data removed]",
      "text/plain": [
       "<Figure size 1200x800 with 9 Axes>"
      ]
     },
     "metadata": {},
     "output_type": "display_data"
    }
   ],
   "source": [
    "# In a graphic\n",
    "metric_frame.by_group.plot.bar(\n",
    "    subplots=True,\n",
    "    layout=[3, 3],\n",
    "    legend=False,\n",
    "    figsize=[12, 8],\n",
    "    title=\"Show all metrics\",\n",
    ")"
   ]
  },
  {
   "cell_type": "markdown",
   "id": "f57a0bac",
   "metadata": {
    "papermill": {
     "duration": 0.028315,
     "end_time": "2025-08-05T14:39:47.750248",
     "exception": false,
     "start_time": "2025-08-05T14:39:47.721933",
     "status": "completed"
    },
    "tags": []
   },
   "source": [
    "# Final Output"
   ]
  },
  {
   "cell_type": "code",
   "execution_count": 67,
   "id": "96d280a3",
   "metadata": {
    "execution": {
     "iopub.execute_input": "2025-08-05T14:39:47.809272Z",
     "iopub.status.busy": "2025-08-05T14:39:47.808655Z",
     "iopub.status.idle": "2025-08-05T14:39:47.817215Z",
     "shell.execute_reply": "2025-08-05T14:39:47.816260Z"
    },
    "papermill": {
     "duration": 0.039866,
     "end_time": "2025-08-05T14:39:47.818984",
     "exception": false,
     "start_time": "2025-08-05T14:39:47.779118",
     "status": "completed"
    },
    "tags": []
   },
   "outputs": [
    {
     "data": {
      "text/plain": [
       "4"
      ]
     },
     "execution_count": 67,
     "metadata": {},
     "output_type": "execute_result"
    }
   ],
   "source": [
    "sub_universes = universe_analysis.generate_sub_universes()\n",
    "len(sub_universes)"
   ]
  },
  {
   "cell_type": "code",
   "execution_count": 68,
   "id": "92adf7ba",
   "metadata": {
    "execution": {
     "iopub.execute_input": "2025-08-05T14:39:47.876832Z",
     "iopub.status.busy": "2025-08-05T14:39:47.876522Z",
     "iopub.status.idle": "2025-08-05T14:39:47.882052Z",
     "shell.execute_reply": "2025-08-05T14:39:47.880783Z"
    },
    "papermill": {
     "duration": 0.036651,
     "end_time": "2025-08-05T14:39:47.883836",
     "exception": false,
     "start_time": "2025-08-05T14:39:47.847185",
     "status": "completed"
    },
    "tags": []
   },
   "outputs": [],
   "source": [
    "def filter_sub_universe_data(sub_universe, org_test):\n",
    "    # Keep all rows — no filtering\n",
    "    keep_rows_mask = np.ones(org_test.shape[0], dtype=bool)\n",
    "\n",
    "    print(f\"[INFO] Keeping all rows: {keep_rows_mask.sum()} rows retained.\")\n",
    "    return keep_rows_mask"
   ]
  },
  {
   "cell_type": "code",
   "execution_count": 69,
   "id": "4a759155",
   "metadata": {
    "execution": {
     "iopub.execute_input": "2025-08-05T14:39:47.941016Z",
     "iopub.status.busy": "2025-08-05T14:39:47.940723Z",
     "iopub.status.idle": "2025-08-05T14:39:57.010538Z",
     "shell.execute_reply": "2025-08-05T14:39:57.009456Z"
    },
    "papermill": {
     "duration": 9.100183,
     "end_time": "2025-08-05T14:39:57.012131",
     "exception": false,
     "start_time": "2025-08-05T14:39:47.911948",
     "status": "completed"
    },
    "tags": []
   },
   "outputs": [
    {
     "name": "stdout",
     "output_type": "stream",
     "text": [
      "Stopping execution_time clock.\n",
      "[INFO] Keeping all rows: 89710 rows retained.\n"
     ]
    },
    {
     "name": "stdout",
     "output_type": "stream",
     "text": [
      "[INFO] Keeping all rows: 89710 rows retained.\n"
     ]
    },
    {
     "name": "stdout",
     "output_type": "stream",
     "text": [
      "[INFO] Keeping all rows: 89710 rows retained.\n"
     ]
    },
    {
     "name": "stdout",
     "output_type": "stream",
     "text": [
      "[INFO] Keeping all rows: 89710 rows retained.\n"
     ]
    },
    {
     "data": {
      "text/html": [
       "<div>\n",
       "<style scoped>\n",
       "    .dataframe tbody tr th:only-of-type {\n",
       "        vertical-align: middle;\n",
       "    }\n",
       "\n",
       "    .dataframe tbody tr th {\n",
       "        vertical-align: top;\n",
       "    }\n",
       "\n",
       "    .dataframe thead th {\n",
       "        text-align: right;\n",
       "    }\n",
       "</style>\n",
       "<table border=\"1\" class=\"dataframe\">\n",
       "  <thead>\n",
       "    <tr style=\"text-align: right;\">\n",
       "      <th></th>\n",
       "      <th>run_no</th>\n",
       "      <th>universe_id</th>\n",
       "      <th>universe_settings</th>\n",
       "      <th>execution_time</th>\n",
       "      <th>test_size_n</th>\n",
       "      <th>test_size_frac</th>\n",
       "      <th>fair_main_equalized_odds_difference</th>\n",
       "      <th>fair_main_equalized_odds_ratio</th>\n",
       "      <th>fair_main_demographic_parity_difference</th>\n",
       "      <th>fair_main_demographic_parity_ratio</th>\n",
       "      <th>...</th>\n",
       "      <th>perf_grp_precision_0</th>\n",
       "      <th>perf_grp_precision_1</th>\n",
       "      <th>perf_grp_false positive rate_0</th>\n",
       "      <th>perf_grp_false positive rate_1</th>\n",
       "      <th>perf_grp_false negative rate_0</th>\n",
       "      <th>perf_grp_false negative rate_1</th>\n",
       "      <th>perf_grp_selection rate_0</th>\n",
       "      <th>perf_grp_selection rate_1</th>\n",
       "      <th>perf_grp_count_0</th>\n",
       "      <th>perf_grp_count_1</th>\n",
       "    </tr>\n",
       "  </thead>\n",
       "  <tbody>\n",
       "    <tr>\n",
       "      <th>0</th>\n",
       "      <td>15</td>\n",
       "      <td>c9ad70e6f462c78d957ed943d17f714a</td>\n",
       "      <td>{\"cutoff\": \"quantile_0.1\", \"eval_fairness_grou...</td>\n",
       "      <td>30.431396</td>\n",
       "      <td>89710</td>\n",
       "      <td>1.0</td>\n",
       "      <td>0.087610</td>\n",
       "      <td>0.908181</td>\n",
       "      <td>0.076087</td>\n",
       "      <td>0.920633</td>\n",
       "      <td>...</td>\n",
       "      <td>NaN</td>\n",
       "      <td>NaN</td>\n",
       "      <td>NaN</td>\n",
       "      <td>NaN</td>\n",
       "      <td>NaN</td>\n",
       "      <td>NaN</td>\n",
       "      <td>NaN</td>\n",
       "      <td>NaN</td>\n",
       "      <td>NaN</td>\n",
       "      <td>NaN</td>\n",
       "    </tr>\n",
       "    <tr>\n",
       "      <th>0</th>\n",
       "      <td>15</td>\n",
       "      <td>c9ad70e6f462c78d957ed943d17f714a</td>\n",
       "      <td>{\"cutoff\": \"quantile_0.1\", \"eval_fairness_grou...</td>\n",
       "      <td>30.431396</td>\n",
       "      <td>89710</td>\n",
       "      <td>1.0</td>\n",
       "      <td>0.087610</td>\n",
       "      <td>0.908181</td>\n",
       "      <td>0.076087</td>\n",
       "      <td>0.920633</td>\n",
       "      <td>...</td>\n",
       "      <td>0.119445</td>\n",
       "      <td>0.147900</td>\n",
       "      <td>0.954160</td>\n",
       "      <td>0.866550</td>\n",
       "      <td>0.006757</td>\n",
       "      <td>0.012144</td>\n",
       "      <td>0.958666</td>\n",
       "      <td>0.882579</td>\n",
       "      <td>20540.0</td>\n",
       "      <td>69170.0</td>\n",
       "    </tr>\n",
       "    <tr>\n",
       "      <th>0</th>\n",
       "      <td>15</td>\n",
       "      <td>c9ad70e6f462c78d957ed943d17f714a</td>\n",
       "      <td>{\"cutoff\": \"quantile_0.25\", \"eval_fairness_gro...</td>\n",
       "      <td>30.431396</td>\n",
       "      <td>89710</td>\n",
       "      <td>1.0</td>\n",
       "      <td>0.156316</td>\n",
       "      <td>0.814026</td>\n",
       "      <td>0.134880</td>\n",
       "      <td>0.842060</td>\n",
       "      <td>...</td>\n",
       "      <td>NaN</td>\n",
       "      <td>NaN</td>\n",
       "      <td>NaN</td>\n",
       "      <td>NaN</td>\n",
       "      <td>NaN</td>\n",
       "      <td>NaN</td>\n",
       "      <td>NaN</td>\n",
       "      <td>NaN</td>\n",
       "      <td>NaN</td>\n",
       "      <td>NaN</td>\n",
       "    </tr>\n",
       "    <tr>\n",
       "      <th>0</th>\n",
       "      <td>15</td>\n",
       "      <td>c9ad70e6f462c78d957ed943d17f714a</td>\n",
       "      <td>{\"cutoff\": \"quantile_0.25\", \"eval_fairness_gro...</td>\n",
       "      <td>30.431396</td>\n",
       "      <td>89710</td>\n",
       "      <td>1.0</td>\n",
       "      <td>0.156316</td>\n",
       "      <td>0.814026</td>\n",
       "      <td>0.134880</td>\n",
       "      <td>0.842060</td>\n",
       "      <td>...</td>\n",
       "      <td>0.129240</td>\n",
       "      <td>0.174263</td>\n",
       "      <td>0.840524</td>\n",
       "      <td>0.684208</td>\n",
       "      <td>0.042652</td>\n",
       "      <td>0.051641</td>\n",
       "      <td>0.853992</td>\n",
       "      <td>0.719112</td>\n",
       "      <td>20540.0</td>\n",
       "      <td>69170.0</td>\n",
       "    </tr>\n",
       "  </tbody>\n",
       "</table>\n",
       "<p>4 rows × 50 columns</p>\n",
       "</div>"
      ],
      "text/plain": [
       "  run_no                       universe_id  \\\n",
       "0     15  c9ad70e6f462c78d957ed943d17f714a   \n",
       "0     15  c9ad70e6f462c78d957ed943d17f714a   \n",
       "0     15  c9ad70e6f462c78d957ed943d17f714a   \n",
       "0     15  c9ad70e6f462c78d957ed943d17f714a   \n",
       "\n",
       "                                   universe_settings  execution_time  \\\n",
       "0  {\"cutoff\": \"quantile_0.1\", \"eval_fairness_grou...       30.431396   \n",
       "0  {\"cutoff\": \"quantile_0.1\", \"eval_fairness_grou...       30.431396   \n",
       "0  {\"cutoff\": \"quantile_0.25\", \"eval_fairness_gro...       30.431396   \n",
       "0  {\"cutoff\": \"quantile_0.25\", \"eval_fairness_gro...       30.431396   \n",
       "\n",
       "   test_size_n  test_size_frac  fair_main_equalized_odds_difference  \\\n",
       "0        89710             1.0                             0.087610   \n",
       "0        89710             1.0                             0.087610   \n",
       "0        89710             1.0                             0.156316   \n",
       "0        89710             1.0                             0.156316   \n",
       "\n",
       "   fair_main_equalized_odds_ratio  fair_main_demographic_parity_difference  \\\n",
       "0                        0.908181                                 0.076087   \n",
       "0                        0.908181                                 0.076087   \n",
       "0                        0.814026                                 0.134880   \n",
       "0                        0.814026                                 0.134880   \n",
       "\n",
       "   fair_main_demographic_parity_ratio  ...  perf_grp_precision_0  \\\n",
       "0                            0.920633  ...                   NaN   \n",
       "0                            0.920633  ...              0.119445   \n",
       "0                            0.842060  ...                   NaN   \n",
       "0                            0.842060  ...              0.129240   \n",
       "\n",
       "   perf_grp_precision_1  perf_grp_false positive rate_0  \\\n",
       "0                   NaN                             NaN   \n",
       "0              0.147900                        0.954160   \n",
       "0                   NaN                             NaN   \n",
       "0              0.174263                        0.840524   \n",
       "\n",
       "   perf_grp_false positive rate_1  perf_grp_false negative rate_0  \\\n",
       "0                             NaN                             NaN   \n",
       "0                        0.866550                        0.006757   \n",
       "0                             NaN                             NaN   \n",
       "0                        0.684208                        0.042652   \n",
       "\n",
       "   perf_grp_false negative rate_1  perf_grp_selection rate_0  \\\n",
       "0                             NaN                        NaN   \n",
       "0                        0.012144                   0.958666   \n",
       "0                             NaN                        NaN   \n",
       "0                        0.051641                   0.853992   \n",
       "\n",
       "   perf_grp_selection rate_1  perf_grp_count_0  perf_grp_count_1  \n",
       "0                        NaN               NaN               NaN  \n",
       "0                   0.882579           20540.0           69170.0  \n",
       "0                        NaN               NaN               NaN  \n",
       "0                   0.719112           20540.0           69170.0  \n",
       "\n",
       "[4 rows x 50 columns]"
      ]
     },
     "execution_count": 69,
     "metadata": {},
     "output_type": "execute_result"
    }
   ],
   "source": [
    "final_output = universe_analysis.generate_final_output(\n",
    "    y_pred_prob=probs_test,\n",
    "    y_test=y_true,\n",
    "    org_test=org_test,\n",
    "    filter_data=filter_sub_universe_data,\n",
    "    cp_metrics_df=cp_metrics_df,\n",
    "    save=True,\n",
    ")\n",
    "final_output"
   ]
  },
  {
   "cell_type": "code",
   "execution_count": null,
   "id": "721ff514-cb11-46f8-b6fc-50392f74b5cb",
   "metadata": {
    "papermill": {
     "duration": 0.024666,
     "end_time": "2025-08-05T14:39:57.065203",
     "exception": false,
     "start_time": "2025-08-05T14:39:57.040537",
     "status": "completed"
    },
    "tags": []
   },
   "outputs": [],
   "source": []
  }
 ],
 "metadata": {
  "celltoolbar": "Tags",
  "kernelspec": {
   "display_name": "Python (CMA Fairness)",
   "language": "python",
   "name": "cma_fair_env"
  },
  "language_info": {
   "codemirror_mode": {
    "name": "ipython",
    "version": 3
   },
   "file_extension": ".py",
   "mimetype": "text/x-python",
   "name": "python",
   "nbconvert_exporter": "python",
   "pygments_lexer": "ipython3",
   "version": "3.10.12"
  },
  "papermill": {
   "default_parameters": {},
   "duration": 43.638756,
   "end_time": "2025-08-05T14:39:57.809202",
   "environment_variables": {},
   "exception": null,
   "input_path": "universe_analysis.ipynb",
   "output_path": "output/runs/15/notebooks/m_15-c9ad70e6f462c78d957ed943d17f714a.ipynb",
   "parameters": {
    "output_dir": "output",
    "run_no": "15",
    "seed": "2023",
    "universe": "{\"cutoff\": [\"quantile_0.1\", \"quantile_0.25\"], \"eval_fairness_grouping\": [\"majority-minority\", \"nationality-all\"], \"exclude_features\": \"nationality-sex\", \"exclude_subgroups\": \"drop-non-german\", \"model\": \"elasticnet\", \"scale\": \"scale\", \"training_size\": \"25k\", \"training_year\": \"2014\"}",
    "universe_id": "c9ad70e6f462c78d957ed943d17f714a"
   },
   "start_time": "2025-08-05T14:39:14.170446",
   "version": "2.6.0"
  }
 },
 "nbformat": 4,
 "nbformat_minor": 5
}