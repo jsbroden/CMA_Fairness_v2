{
 "cells": [
  {
   "cell_type": "code",
   "execution_count": 1,
   "id": "f159f837-637b-42ba-96b5-ec9a68c44524",
   "metadata": {
    "execution": {
     "iopub.execute_input": "2025-08-05T16:10:21.986231Z",
     "iopub.status.busy": "2025-08-05T16:10:21.985764Z",
     "iopub.status.idle": "2025-08-05T16:10:21.999959Z",
     "shell.execute_reply": "2025-08-05T16:10:21.999015Z"
    },
    "papermill": {
     "duration": 0.034983,
     "end_time": "2025-08-05T16:10:22.001709",
     "exception": false,
     "start_time": "2025-08-05T16:10:21.966726",
     "status": "completed"
    },
    "tags": []
   },
   "outputs": [
    {
     "name": "stdout",
     "output_type": "stream",
     "text": [
      "/dss/dsshome1/0C/ra93lal2/cma/CMA_Fairness_v2\n"
     ]
    },
    {
     "name": "stderr",
     "output_type": "stream",
     "text": [
      "/dss/dsshome1/0C/ra93lal2/.local/share/virtualenvs/CMA_Fairness_v2-3j10GkSs/lib/python3.10/site-packages/IPython/core/magics/osm.py:393: UserWarning: This is now an optional IPython functionality, using bookmarks requires you to install the `pickleshare` library.\n",
      "  bkms = self.shell.db.get('bookmarks', {})\n",
      "/dss/dsshome1/0C/ra93lal2/.local/share/virtualenvs/CMA_Fairness_v2-3j10GkSs/lib/python3.10/site-packages/IPython/core/magics/osm.py:417: UserWarning: This is now an optional IPython functionality, setting dhist requires you to install the `pickleshare` library.\n",
      "  self.shell.db['dhist'] = compress_dhist(dhist)[-100:]\n"
     ]
    }
   ],
   "source": [
    "%cd ~/cma/CMA_Fairness_v2"
   ]
  },
  {
   "cell_type": "markdown",
   "id": "de2603b9",
   "metadata": {
    "papermill": {
     "duration": 0.015887,
     "end_time": "2025-08-05T16:10:22.034498",
     "exception": false,
     "start_time": "2025-08-05T16:10:22.018611",
     "status": "completed"
    },
    "tags": []
   },
   "source": [
    "The following cell holds the definition of our parameters, these values can be overriden by rendering the with e.g. the following command:\n",
    "\n",
    "papermill -p alpha 0.2 -p ratio 0.3 universe_analysis.ipynb output/test_run.ipynb"
   ]
  },
  {
   "cell_type": "code",
   "execution_count": 2,
   "id": "a80968a0-40bb-4fa9-85ef-2d5eefb01975",
   "metadata": {
    "execution": {
     "iopub.execute_input": "2025-08-05T16:10:22.073244Z",
     "iopub.status.busy": "2025-08-05T16:10:22.072427Z",
     "iopub.status.idle": "2025-08-05T16:10:22.082997Z",
     "shell.execute_reply": "2025-08-05T16:10:22.082168Z"
    },
    "papermill": {
     "duration": 0.031403,
     "end_time": "2025-08-05T16:10:22.084519",
     "exception": false,
     "start_time": "2025-08-05T16:10:22.053116",
     "status": "completed"
    },
    "tags": []
   },
   "outputs": [
    {
     "name": "stdout",
     "output_type": "stream",
     "text": [
      "Current working directory: /dss/dsshome1/0C/ra93lal2/cma/CMA_Fairness_v2\n"
     ]
    }
   ],
   "source": [
    "import os\n",
    "print(\"Current working directory:\", os.getcwd())"
   ]
  },
  {
   "cell_type": "code",
   "execution_count": 3,
   "id": "2dce4c03",
   "metadata": {
    "execution": {
     "iopub.execute_input": "2025-08-05T16:10:22.120658Z",
     "iopub.status.busy": "2025-08-05T16:10:22.119302Z",
     "iopub.status.idle": "2025-08-05T16:10:22.126092Z",
     "shell.execute_reply": "2025-08-05T16:10:22.124978Z"
    },
    "papermill": {
     "duration": 0.026899,
     "end_time": "2025-08-05T16:10:22.128062",
     "exception": false,
     "start_time": "2025-08-05T16:10:22.101163",
     "status": "completed"
    },
    "tags": [
     "parameters"
    ]
   },
   "outputs": [],
   "source": [
    "run_no = 0\n",
    "universe_id = \"test\"\n",
    "universe = {\n",
    "    \"training_size\": \"25k\", # \"25k\", \"5k\", \"1k\"\n",
    "    \"training_year\": \"2014\", # \"2014\", \"2012_14\", \"2010_14\"\n",
    "    \"scale\": \"scale\", # \"scale\", \"do-not-scale\",\n",
    "    \"model\": \"elasticnet\", # \"logreg\", \"penalized_logreg\", \"rf\", \"gbm\", \"elasticnet\"\n",
    "    \"cutoff\": [\"quantile_0.15\", \"quantile_0.30\"],\n",
    "    \"exclude_features\": \"age\", # \"none\", \"nationality\", \"sex\", \"nationality-sex\", \"age\"\n",
    "    \"exclude_subgroups\": \"keep-all\", # \"keep-all\", \"drop-non-german\"\n",
    "    \"eval_fairness_grouping\": [\"majority-minority\", \"nationality-all\"]\n",
    "}\n",
    "\n",
    "output_dir=\"./output\"\n",
    "seed=0"
   ]
  },
  {
   "cell_type": "code",
   "execution_count": 4,
   "id": "a3a541c7",
   "metadata": {
    "execution": {
     "iopub.execute_input": "2025-08-05T16:10:22.163469Z",
     "iopub.status.busy": "2025-08-05T16:10:22.162912Z",
     "iopub.status.idle": "2025-08-05T16:10:22.168482Z",
     "shell.execute_reply": "2025-08-05T16:10:22.167446Z"
    },
    "papermill": {
     "duration": 0.024855,
     "end_time": "2025-08-05T16:10:22.170215",
     "exception": false,
     "start_time": "2025-08-05T16:10:22.145360",
     "status": "completed"
    },
    "tags": [
     "injected-parameters"
    ]
   },
   "outputs": [],
   "source": [
    "# Parameters\n",
    "universe_id = \"1161f3d75ce60397e97a73c623a69305\"\n",
    "run_no = \"15\"\n",
    "universe = \"{\\\"cutoff\\\": [\\\"quantile_0.1\\\", \\\"quantile_0.25\\\"], \\\"eval_fairness_grouping\\\": [\\\"majority-minority\\\", \\\"nationality-all\\\"], \\\"exclude_features\\\": \\\"nationality-sex\\\", \\\"exclude_subgroups\\\": \\\"drop-non-german\\\", \\\"model\\\": \\\"penalized_logreg\\\", \\\"scale\\\": \\\"do-not-scale\\\", \\\"training_size\\\": \\\"1k\\\", \\\"training_year\\\": \\\"2014\\\"}\"\n",
    "output_dir = \"output\"\n",
    "seed = \"2023\"\n"
   ]
  },
  {
   "cell_type": "code",
   "execution_count": 5,
   "id": "1650acaf",
   "metadata": {
    "execution": {
     "iopub.execute_input": "2025-08-05T16:10:22.206495Z",
     "iopub.status.busy": "2025-08-05T16:10:22.206064Z",
     "iopub.status.idle": "2025-08-05T16:10:22.210586Z",
     "shell.execute_reply": "2025-08-05T16:10:22.209680Z"
    },
    "papermill": {
     "duration": 0.024247,
     "end_time": "2025-08-05T16:10:22.212173",
     "exception": false,
     "start_time": "2025-08-05T16:10:22.187926",
     "status": "completed"
    },
    "tags": []
   },
   "outputs": [],
   "source": [
    "import json\n",
    "if isinstance(universe, str):\n",
    "    universe = json.loads(universe)"
   ]
  },
  {
   "cell_type": "code",
   "execution_count": 6,
   "id": "16620c48",
   "metadata": {
    "execution": {
     "iopub.execute_input": "2025-08-05T16:10:22.246878Z",
     "iopub.status.busy": "2025-08-05T16:10:22.245969Z",
     "iopub.status.idle": "2025-08-05T16:10:22.292603Z",
     "shell.execute_reply": "2025-08-05T16:10:22.291704Z"
    },
    "papermill": {
     "duration": 0.065621,
     "end_time": "2025-08-05T16:10:22.294134",
     "exception": false,
     "start_time": "2025-08-05T16:10:22.228513",
     "status": "completed"
    },
    "tags": []
   },
   "outputs": [],
   "source": [
    "# Auto-reload the custom package\n",
    "%load_ext autoreload\n",
    "%autoreload 1\n",
    "%aimport fairness_multiverse"
   ]
  },
  {
   "cell_type": "code",
   "execution_count": 7,
   "id": "01c5c9f3",
   "metadata": {
    "execution": {
     "iopub.execute_input": "2025-08-05T16:10:22.331425Z",
     "iopub.status.busy": "2025-08-05T16:10:22.330628Z",
     "iopub.status.idle": "2025-08-05T16:10:24.327312Z",
     "shell.execute_reply": "2025-08-05T16:10:24.326213Z"
    },
    "papermill": {
     "duration": 2.016904,
     "end_time": "2025-08-05T16:10:24.329358",
     "exception": false,
     "start_time": "2025-08-05T16:10:22.312454",
     "status": "completed"
    },
    "tags": []
   },
   "outputs": [],
   "source": [
    "from fairness_multiverse.universe import UniverseAnalysis\n",
    "\n",
    "universe_analysis = UniverseAnalysis(\n",
    "    run_no = run_no,\n",
    "    universe_id = universe_id,\n",
    "    universe = universe,\n",
    "    output_dir=output_dir,\n",
    ")"
   ]
  },
  {
   "cell_type": "code",
   "execution_count": 8,
   "id": "106241f5",
   "metadata": {
    "execution": {
     "iopub.execute_input": "2025-08-05T16:10:24.372464Z",
     "iopub.status.busy": "2025-08-05T16:10:24.371699Z",
     "iopub.status.idle": "2025-08-05T16:10:24.378916Z",
     "shell.execute_reply": "2025-08-05T16:10:24.377650Z"
    },
    "papermill": {
     "duration": 0.030565,
     "end_time": "2025-08-05T16:10:24.380864",
     "exception": false,
     "start_time": "2025-08-05T16:10:24.350299",
     "status": "completed"
    },
    "tags": []
   },
   "outputs": [
    {
     "name": "stdout",
     "output_type": "stream",
     "text": [
      "Using Seed: 2023\n"
     ]
    }
   ],
   "source": [
    "import numpy as np\n",
    "parsed_seed = int(seed)\n",
    "np.random.seed(parsed_seed)\n",
    "print(f\"Using Seed: {parsed_seed}\")"
   ]
  },
  {
   "cell_type": "markdown",
   "id": "e0ebdc57",
   "metadata": {
    "papermill": {
     "duration": 0.019716,
     "end_time": "2025-08-05T16:10:24.420421",
     "exception": false,
     "start_time": "2025-08-05T16:10:24.400705",
     "status": "completed"
    },
    "tags": []
   },
   "source": [
    "# Loading Data"
   ]
  },
  {
   "cell_type": "code",
   "execution_count": 9,
   "id": "f0496b8a",
   "metadata": {
    "execution": {
     "iopub.execute_input": "2025-08-05T16:10:24.460712Z",
     "iopub.status.busy": "2025-08-05T16:10:24.459979Z",
     "iopub.status.idle": "2025-08-05T16:10:35.028244Z",
     "shell.execute_reply": "2025-08-05T16:10:35.027147Z"
    },
    "papermill": {
     "duration": 10.590766,
     "end_time": "2025-08-05T16:10:35.029858",
     "exception": false,
     "start_time": "2025-08-05T16:10:24.439092",
     "status": "completed"
    },
    "tags": []
   },
   "outputs": [
    {
     "name": "stdout",
     "output_type": "stream",
     "text": [
      "Loading SIAB data from cache: data/siab_cached.csv.gz\n"
     ]
    },
    {
     "name": "stdout",
     "output_type": "stream",
     "text": [
      "(643690, 164)\n"
     ]
    }
   ],
   "source": [
    "from pathlib import Path\n",
    "import pandas as pd\n",
    "\n",
    "# File paths\n",
    "raw_file = Path(\"data/raw/siab.csv\")\n",
    "cache_file = Path(\"data/siab_cached.csv.gz\")\n",
    "\n",
    "# Ensure cache directory exists\n",
    "cache_file.parent.mkdir(parents=True, exist_ok=True)\n",
    "\n",
    "# Load with simple caching\n",
    "if cache_file.exists():\n",
    "    print(f\"Loading SIAB data from cache: {cache_file}\")\n",
    "    siab = pd.read_csv(cache_file, compression='gzip')\n",
    "else:\n",
    "    print(f\"Cache not found. Reading raw SIAB data: {raw_file}\")\n",
    "    siab = pd.read_csv(raw_file)\n",
    "    siab.to_csv(cache_file, index=False, compression='gzip')\n",
    "    print(f\"Cached SIAB data to: {cache_file}\")\n",
    "\n",
    "print(siab.shape)"
   ]
  },
  {
   "cell_type": "code",
   "execution_count": 10,
   "id": "db0ca512-5f53-4dba-abdb-a2888bca41ba",
   "metadata": {
    "execution": {
     "iopub.execute_input": "2025-08-05T16:10:35.072314Z",
     "iopub.status.busy": "2025-08-05T16:10:35.071562Z",
     "iopub.status.idle": "2025-08-05T16:10:35.077192Z",
     "shell.execute_reply": "2025-08-05T16:10:35.076217Z"
    },
    "papermill": {
     "duration": 0.026705,
     "end_time": "2025-08-05T16:10:35.079006",
     "exception": false,
     "start_time": "2025-08-05T16:10:35.052301",
     "status": "completed"
    },
    "tags": []
   },
   "outputs": [],
   "source": [
    "#siab"
   ]
  },
  {
   "cell_type": "markdown",
   "id": "997051c5-15bd-4b69-9786-c3001a3ce484",
   "metadata": {
    "papermill": {
     "duration": 0.018138,
     "end_time": "2025-08-05T16:10:35.114967",
     "exception": false,
     "start_time": "2025-08-05T16:10:35.096829",
     "status": "completed"
    },
    "tags": []
   },
   "source": [
    "# Splitting Data and Setting Training Data Size"
   ]
  },
  {
   "cell_type": "code",
   "execution_count": 11,
   "id": "aea9c6ef-6f46-42c8-85eb-5a62025c1508",
   "metadata": {
    "execution": {
     "iopub.execute_input": "2025-08-05T16:10:35.152095Z",
     "iopub.status.busy": "2025-08-05T16:10:35.151684Z",
     "iopub.status.idle": "2025-08-05T16:10:35.355476Z",
     "shell.execute_reply": "2025-08-05T16:10:35.354409Z"
    },
    "papermill": {
     "duration": 0.225296,
     "end_time": "2025-08-05T16:10:35.357499",
     "exception": false,
     "start_time": "2025-08-05T16:10:35.132203",
     "status": "completed"
    },
    "tags": []
   },
   "outputs": [],
   "source": [
    "from fairness_multiverse.universe import sample_by_year_size\n",
    "\n",
    "siab_train = sample_by_year_size(siab,\n",
    "                               training_year=universe[\"training_year\"],\n",
    "                               training_size=universe[\"training_size\"])"
   ]
  },
  {
   "cell_type": "code",
   "execution_count": 12,
   "id": "8d3afb32-789d-442c-8d5d-9f5aa8dd2eed",
   "metadata": {
    "execution": {
     "iopub.execute_input": "2025-08-05T16:10:35.387451Z",
     "iopub.status.busy": "2025-08-05T16:10:35.387147Z",
     "iopub.status.idle": "2025-08-05T16:10:35.391232Z",
     "shell.execute_reply": "2025-08-05T16:10:35.390354Z"
    },
    "papermill": {
     "duration": 0.015138,
     "end_time": "2025-08-05T16:10:35.392676",
     "exception": false,
     "start_time": "2025-08-05T16:10:35.377538",
     "status": "completed"
    },
    "tags": []
   },
   "outputs": [],
   "source": [
    "#siab_train.shape"
   ]
  },
  {
   "cell_type": "code",
   "execution_count": 13,
   "id": "d582db68-1a4c-47fb-84fc-08518dc1975a",
   "metadata": {
    "execution": {
     "iopub.execute_input": "2025-08-05T16:10:35.412186Z",
     "iopub.status.busy": "2025-08-05T16:10:35.411893Z",
     "iopub.status.idle": "2025-08-05T16:10:35.415949Z",
     "shell.execute_reply": "2025-08-05T16:10:35.414846Z"
    },
    "papermill": {
     "duration": 0.01549,
     "end_time": "2025-08-05T16:10:35.417785",
     "exception": false,
     "start_time": "2025-08-05T16:10:35.402295",
     "status": "completed"
    },
    "tags": []
   },
   "outputs": [],
   "source": [
    "#display(siab_train.groupby(\"year\").size())"
   ]
  },
  {
   "cell_type": "code",
   "execution_count": 14,
   "id": "a561edb4-d032-42cb-8256-22eac1111c64",
   "metadata": {
    "execution": {
     "iopub.execute_input": "2025-08-05T16:10:35.456910Z",
     "iopub.status.busy": "2025-08-05T16:10:35.456578Z",
     "iopub.status.idle": "2025-08-05T16:10:35.672410Z",
     "shell.execute_reply": "2025-08-05T16:10:35.671384Z"
    },
    "papermill": {
     "duration": 0.237826,
     "end_time": "2025-08-05T16:10:35.674430",
     "exception": false,
     "start_time": "2025-08-05T16:10:35.436604",
     "status": "completed"
    },
    "tags": []
   },
   "outputs": [],
   "source": [
    "#siab_train = siab_s[siab_s.year < 2015]\n",
    "siab_calib = siab[siab.year == 2015]\n",
    "siab_test = siab[siab.year == 2016]"
   ]
  },
  {
   "cell_type": "code",
   "execution_count": 15,
   "id": "472de16f-c3db-4916-846b-1f0de9cf1746",
   "metadata": {
    "execution": {
     "iopub.execute_input": "2025-08-05T16:10:35.720004Z",
     "iopub.status.busy": "2025-08-05T16:10:35.719544Z",
     "iopub.status.idle": "2025-08-05T16:10:35.726099Z",
     "shell.execute_reply": "2025-08-05T16:10:35.725068Z"
    },
    "papermill": {
     "duration": 0.029635,
     "end_time": "2025-08-05T16:10:35.727888",
     "exception": false,
     "start_time": "2025-08-05T16:10:35.698253",
     "status": "completed"
    },
    "tags": []
   },
   "outputs": [],
   "source": [
    "X_train = siab_train.iloc[:,4:164]\n",
    "y_train = siab_train.iloc[:, [3]]"
   ]
  },
  {
   "cell_type": "code",
   "execution_count": 16,
   "id": "828c96af-f43a-4ed6-ba47-8ac73a47d56c",
   "metadata": {
    "execution": {
     "iopub.execute_input": "2025-08-05T16:10:35.766456Z",
     "iopub.status.busy": "2025-08-05T16:10:35.765726Z",
     "iopub.status.idle": "2025-08-05T16:10:35.820875Z",
     "shell.execute_reply": "2025-08-05T16:10:35.819702Z"
    },
    "papermill": {
     "duration": 0.076302,
     "end_time": "2025-08-05T16:10:35.822858",
     "exception": false,
     "start_time": "2025-08-05T16:10:35.746556",
     "status": "completed"
    },
    "tags": []
   },
   "outputs": [],
   "source": [
    "X_calib = siab_calib.iloc[:,4:164]\n",
    "y_calib = siab_calib.iloc[:, [3]]"
   ]
  },
  {
   "cell_type": "code",
   "execution_count": 17,
   "id": "c34be9c3-6bd6-476e-acd3-845840e303be",
   "metadata": {
    "execution": {
     "iopub.execute_input": "2025-08-05T16:10:35.865375Z",
     "iopub.status.busy": "2025-08-05T16:10:35.864991Z",
     "iopub.status.idle": "2025-08-05T16:10:35.919763Z",
     "shell.execute_reply": "2025-08-05T16:10:35.918590Z"
    },
    "papermill": {
     "duration": 0.078388,
     "end_time": "2025-08-05T16:10:35.921615",
     "exception": false,
     "start_time": "2025-08-05T16:10:35.843227",
     "status": "completed"
    },
    "tags": []
   },
   "outputs": [],
   "source": [
    "X_test = siab_test.iloc[:,4:164]\n",
    "y_true = siab_test.iloc[:, [3]]"
   ]
  },
  {
   "cell_type": "code",
   "execution_count": 18,
   "id": "e6c733c5",
   "metadata": {
    "execution": {
     "iopub.execute_input": "2025-08-05T16:10:35.965479Z",
     "iopub.status.busy": "2025-08-05T16:10:35.964980Z",
     "iopub.status.idle": "2025-08-05T16:10:36.060460Z",
     "shell.execute_reply": "2025-08-05T16:10:36.059397Z"
    },
    "papermill": {
     "duration": 0.118136,
     "end_time": "2025-08-05T16:10:36.062525",
     "exception": false,
     "start_time": "2025-08-05T16:10:35.944389",
     "status": "completed"
    },
    "tags": []
   },
   "outputs": [],
   "source": [
    "# Auxiliary data needed downstream in the pipeline\n",
    "\n",
    "org_train = X_train.copy()\n",
    "org_test = X_test.copy()\n",
    "org_calib = X_calib.copy()"
   ]
  },
  {
   "cell_type": "markdown",
   "id": "0a4a1b33",
   "metadata": {
    "papermill": {
     "duration": 0.0194,
     "end_time": "2025-08-05T16:10:36.103365",
     "exception": false,
     "start_time": "2025-08-05T16:10:36.083965",
     "status": "completed"
    },
    "tags": []
   },
   "source": [
    "# Preprocessing Data"
   ]
  },
  {
   "cell_type": "code",
   "execution_count": 19,
   "id": "ca879031",
   "metadata": {
    "execution": {
     "iopub.execute_input": "2025-08-05T16:10:36.144572Z",
     "iopub.status.busy": "2025-08-05T16:10:36.144120Z",
     "iopub.status.idle": "2025-08-05T16:10:36.149867Z",
     "shell.execute_reply": "2025-08-05T16:10:36.148975Z"
    },
    "papermill": {
     "duration": 0.028335,
     "end_time": "2025-08-05T16:10:36.151615",
     "exception": false,
     "start_time": "2025-08-05T16:10:36.123280",
     "status": "completed"
    },
    "tags": []
   },
   "outputs": [],
   "source": [
    "# EXCLUDE PROTECTED FEATURES\n",
    "# ----------------------\n",
    "# \"exclude_features\": \"none\", # \"nationality\", \"sex\", \"nationality-sex\"\n",
    "\n",
    "excluded_features = universe[\"exclude_features\"].split(\"-\") # split, e.g.: \"nationality-sex\" -> [\"nationality\", \"sex\"]\n",
    "excluded_features_dictionary = {\n",
    "    \"nationality\": [\"maxdeutsch1\", \"maxdeutsch.Missing.\"],\n",
    "    \"sex\": [\"frau1\"],\n",
    "    \"age\": [\"age\"],\n",
    "}"
   ]
  },
  {
   "cell_type": "code",
   "execution_count": 20,
   "id": "b745ac60",
   "metadata": {
    "execution": {
     "iopub.execute_input": "2025-08-05T16:10:36.193822Z",
     "iopub.status.busy": "2025-08-05T16:10:36.193409Z",
     "iopub.status.idle": "2025-08-05T16:10:36.198520Z",
     "shell.execute_reply": "2025-08-05T16:10:36.197656Z"
    },
    "papermill": {
     "duration": 0.027837,
     "end_time": "2025-08-05T16:10:36.200365",
     "exception": false,
     "start_time": "2025-08-05T16:10:36.172528",
     "status": "completed"
    },
    "tags": []
   },
   "outputs": [],
   "source": [
    "# Code nice names to column names\n",
    "\n",
    "excluded_features_columns = [\n",
    "    excluded_features_dictionary[f] for f in excluded_features if len(f) > 0 and f != \"none\"\n",
    "]"
   ]
  },
  {
   "cell_type": "code",
   "execution_count": 21,
   "id": "f84f73a2",
   "metadata": {
    "execution": {
     "iopub.execute_input": "2025-08-05T16:10:36.240866Z",
     "iopub.status.busy": "2025-08-05T16:10:36.240227Z",
     "iopub.status.idle": "2025-08-05T16:10:36.246138Z",
     "shell.execute_reply": "2025-08-05T16:10:36.245145Z"
    },
    "papermill": {
     "duration": 0.028004,
     "end_time": "2025-08-05T16:10:36.248239",
     "exception": false,
     "start_time": "2025-08-05T16:10:36.220235",
     "status": "completed"
    },
    "tags": []
   },
   "outputs": [],
   "source": [
    "from utils import flatten_once\n",
    "\n",
    "excluded_features_columns = flatten_once(excluded_features_columns)"
   ]
  },
  {
   "cell_type": "code",
   "execution_count": 22,
   "id": "884dea22",
   "metadata": {
    "execution": {
     "iopub.execute_input": "2025-08-05T16:10:36.288296Z",
     "iopub.status.busy": "2025-08-05T16:10:36.287769Z",
     "iopub.status.idle": "2025-08-05T16:10:36.295189Z",
     "shell.execute_reply": "2025-08-05T16:10:36.294102Z"
    },
    "papermill": {
     "duration": 0.029713,
     "end_time": "2025-08-05T16:10:36.297445",
     "exception": false,
     "start_time": "2025-08-05T16:10:36.267732",
     "status": "completed"
    },
    "tags": []
   },
   "outputs": [
    {
     "name": "stdout",
     "output_type": "stream",
     "text": [
      "Dropping features: ['maxdeutsch1', 'maxdeutsch.Missing.', 'frau1']\n"
     ]
    }
   ],
   "source": [
    "if len(excluded_features_columns) > 0:\n",
    "    print(f\"Dropping features: {excluded_features_columns}\")\n",
    "    X_train.drop(excluded_features_columns, axis=1, inplace=True)"
   ]
  },
  {
   "cell_type": "code",
   "execution_count": 23,
   "id": "95ab8b16",
   "metadata": {
    "execution": {
     "iopub.execute_input": "2025-08-05T16:10:36.340443Z",
     "iopub.status.busy": "2025-08-05T16:10:36.340149Z",
     "iopub.status.idle": "2025-08-05T16:10:36.396984Z",
     "shell.execute_reply": "2025-08-05T16:10:36.395977Z"
    },
    "papermill": {
     "duration": 0.080437,
     "end_time": "2025-08-05T16:10:36.398836",
     "exception": false,
     "start_time": "2025-08-05T16:10:36.318399",
     "status": "completed"
    },
    "tags": []
   },
   "outputs": [
    {
     "name": "stdout",
     "output_type": "stream",
     "text": [
      "Dropping features: ['maxdeutsch1', 'maxdeutsch.Missing.', 'frau1']\n"
     ]
    }
   ],
   "source": [
    "if len(excluded_features_columns) > 0:\n",
    "    print(f\"Dropping features: {excluded_features_columns}\")\n",
    "    X_test.drop(excluded_features_columns, axis=1, inplace=True)"
   ]
  },
  {
   "cell_type": "code",
   "execution_count": 24,
   "id": "1853aaf5-fb9f-46cb-a2b5-8ea4ae2237e4",
   "metadata": {
    "execution": {
     "iopub.execute_input": "2025-08-05T16:10:36.436827Z",
     "iopub.status.busy": "2025-08-05T16:10:36.436492Z",
     "iopub.status.idle": "2025-08-05T16:10:36.487092Z",
     "shell.execute_reply": "2025-08-05T16:10:36.486070Z"
    },
    "papermill": {
     "duration": 0.069417,
     "end_time": "2025-08-05T16:10:36.489530",
     "exception": false,
     "start_time": "2025-08-05T16:10:36.420113",
     "status": "completed"
    },
    "tags": []
   },
   "outputs": [
    {
     "name": "stdout",
     "output_type": "stream",
     "text": [
      "Dropping features: ['maxdeutsch1', 'maxdeutsch.Missing.', 'frau1']\n"
     ]
    }
   ],
   "source": [
    "if len(excluded_features_columns) > 0:\n",
    "    print(f\"Dropping features: {excluded_features_columns}\")\n",
    "    X_calib.drop(excluded_features_columns, axis=1, inplace=True)"
   ]
  },
  {
   "cell_type": "code",
   "execution_count": 25,
   "id": "76c4dc6d",
   "metadata": {
    "execution": {
     "iopub.execute_input": "2025-08-05T16:10:36.527183Z",
     "iopub.status.busy": "2025-08-05T16:10:36.526455Z",
     "iopub.status.idle": "2025-08-05T16:10:36.531774Z",
     "shell.execute_reply": "2025-08-05T16:10:36.530872Z"
    },
    "papermill": {
     "duration": 0.026004,
     "end_time": "2025-08-05T16:10:36.533644",
     "exception": false,
     "start_time": "2025-08-05T16:10:36.507640",
     "status": "completed"
    },
    "tags": []
   },
   "outputs": [],
   "source": [
    "# EXCLUDE CERTAIN SUBGROUPS\n",
    "# ----------------------\n",
    "\n",
    "mode = universe.get(\"exclude_subgroups\", \"keep-all\") \n",
    "# Fetches the exclude_subgroups setting from the universe dict.\n",
    "# Defaults to \"keep-all\" if the key is missing."
   ]
  },
  {
   "cell_type": "code",
   "execution_count": 26,
   "id": "21994072",
   "metadata": {
    "execution": {
     "iopub.execute_input": "2025-08-05T16:10:36.569586Z",
     "iopub.status.busy": "2025-08-05T16:10:36.569233Z",
     "iopub.status.idle": "2025-08-05T16:10:36.574866Z",
     "shell.execute_reply": "2025-08-05T16:10:36.573965Z"
    },
    "papermill": {
     "duration": 0.025594,
     "end_time": "2025-08-05T16:10:36.576895",
     "exception": false,
     "start_time": "2025-08-05T16:10:36.551301",
     "status": "completed"
    },
    "tags": []
   },
   "outputs": [],
   "source": [
    "if mode == \"keep-all\":\n",
    "    keep_mask = pd.Series(True, index=org_train.index)\n",
    "\n",
    "# org_train contains the original feature columns from features_org (in Simson)\n",
    "# features_org contains unprocessed features, for me X_train at beginning ???\n",
    "# For keep-all, creates a boolean Series (keep_mask) of all True, so no rows are removed.\n",
    "\n",
    "elif mode == \"drop-non-german\":\n",
    "    keep_mask = org_train[\"maxdeutsch1\"] == 1 # ??? what about missing values?\n",
    "\n",
    "else:\n",
    "    raise ValueError(f\"Unsupported mode for exclude_subgroups: {mode}\")"
   ]
  },
  {
   "cell_type": "code",
   "execution_count": 27,
   "id": "71651440",
   "metadata": {
    "execution": {
     "iopub.execute_input": "2025-08-05T16:10:36.617085Z",
     "iopub.status.busy": "2025-08-05T16:10:36.616726Z",
     "iopub.status.idle": "2025-08-05T16:10:36.622827Z",
     "shell.execute_reply": "2025-08-05T16:10:36.621928Z"
    },
    "papermill": {
     "duration": 0.025979,
     "end_time": "2025-08-05T16:10:36.624047",
     "exception": false,
     "start_time": "2025-08-05T16:10:36.598068",
     "status": "completed"
    },
    "tags": []
   },
   "outputs": [
    {
     "name": "stdout",
     "output_type": "stream",
     "text": [
      "Dropping 147 rows (14.70%) where mode='drop-non-german'\n"
     ]
    }
   ],
   "source": [
    "n_drop = (~keep_mask).sum() # Calculates how many rows are set to be dropped\n",
    "if n_drop > 0:\n",
    "    pct = n_drop / len(keep_mask) * 100\n",
    "    print(f\"Dropping {n_drop} rows ({pct:.2f}%) where mode='{mode}'\")"
   ]
  },
  {
   "cell_type": "code",
   "execution_count": 28,
   "id": "5fb8eee5",
   "metadata": {
    "execution": {
     "iopub.execute_input": "2025-08-05T16:10:36.645697Z",
     "iopub.status.busy": "2025-08-05T16:10:36.645079Z",
     "iopub.status.idle": "2025-08-05T16:10:36.650702Z",
     "shell.execute_reply": "2025-08-05T16:10:36.649571Z"
    },
    "papermill": {
     "duration": 0.017945,
     "end_time": "2025-08-05T16:10:36.652532",
     "exception": false,
     "start_time": "2025-08-05T16:10:36.634587",
     "status": "completed"
    },
    "tags": []
   },
   "outputs": [],
   "source": [
    "X_train = X_train[keep_mask]"
   ]
  },
  {
   "cell_type": "code",
   "execution_count": 29,
   "id": "b202bb3a",
   "metadata": {
    "execution": {
     "iopub.execute_input": "2025-08-05T16:10:36.694700Z",
     "iopub.status.busy": "2025-08-05T16:10:36.694393Z",
     "iopub.status.idle": "2025-08-05T16:10:36.699175Z",
     "shell.execute_reply": "2025-08-05T16:10:36.698243Z"
    },
    "papermill": {
     "duration": 0.02765,
     "end_time": "2025-08-05T16:10:36.700662",
     "exception": false,
     "start_time": "2025-08-05T16:10:36.673012",
     "status": "completed"
    },
    "tags": []
   },
   "outputs": [],
   "source": [
    "y_train = y_train[keep_mask]"
   ]
  },
  {
   "cell_type": "markdown",
   "id": "493e2ac3",
   "metadata": {
    "papermill": {
     "duration": 0.009389,
     "end_time": "2025-08-05T16:10:36.720150",
     "exception": false,
     "start_time": "2025-08-05T16:10:36.710761",
     "status": "completed"
    },
    "tags": []
   },
   "source": [
    "# Model Training"
   ]
  },
  {
   "cell_type": "code",
   "execution_count": 30,
   "id": "679e1268",
   "metadata": {
    "execution": {
     "iopub.execute_input": "2025-08-05T16:10:36.742161Z",
     "iopub.status.busy": "2025-08-05T16:10:36.741436Z",
     "iopub.status.idle": "2025-08-05T16:10:36.813341Z",
     "shell.execute_reply": "2025-08-05T16:10:36.812611Z"
    },
    "papermill": {
     "duration": 0.085041,
     "end_time": "2025-08-05T16:10:36.814625",
     "exception": false,
     "start_time": "2025-08-05T16:10:36.729584",
     "status": "completed"
    },
    "tags": []
   },
   "outputs": [],
   "source": [
    "from sklearn.linear_model import LogisticRegression\n",
    "from sklearn.ensemble import GradientBoostingClassifier, RandomForestClassifier\n",
    "\n",
    "if (universe[\"model\"] == \"logreg\"):\n",
    "    model = LogisticRegression() #penalty=\"none\", solver=\"newton-cg\", max_iter=1) # include random_state=19 ?\n",
    "elif (universe[\"model\"] == \"penalized_logreg\"):\n",
    "    model = LogisticRegression(penalty=\"l2\", C=0.1) #, solver=\"newton-cg\", max_iter=1)\n",
    "elif (universe[\"model\"] == \"rf\"):\n",
    "    model = RandomForestClassifier() # n_estimators=100, n_jobs=-1\n",
    "elif (universe[\"model\"] == \"gbm\"):\n",
    "    model = GradientBoostingClassifier()\n",
    "elif (universe[\"model\"] == \"elasticnet\"):\n",
    "    model = LogisticRegression(penalty = 'elasticnet', solver = 'saga', l1_ratio = 0.5) # max_iter=5000\n",
    "else:\n",
    "    raise \"Unsupported universe.model\""
   ]
  },
  {
   "cell_type": "code",
   "execution_count": 31,
   "id": "0cc8f744",
   "metadata": {
    "execution": {
     "iopub.execute_input": "2025-08-05T16:10:36.835325Z",
     "iopub.status.busy": "2025-08-05T16:10:36.834835Z",
     "iopub.status.idle": "2025-08-05T16:10:36.839869Z",
     "shell.execute_reply": "2025-08-05T16:10:36.839100Z"
    },
    "papermill": {
     "duration": 0.016744,
     "end_time": "2025-08-05T16:10:36.841348",
     "exception": false,
     "start_time": "2025-08-05T16:10:36.824604",
     "status": "completed"
    },
    "tags": []
   },
   "outputs": [],
   "source": [
    "import numpy as np\n",
    "from sklearn.pipeline import Pipeline\n",
    "from sklearn.preprocessing import StandardScaler\n",
    "\n",
    "model = Pipeline([\n",
    "    #(\"continuous_processor\", continuous_processor),\n",
    "    #(\"categorical_preprocessor\", categorical_preprocessor),\n",
    "    (\"scale\", StandardScaler() if universe[\"scale\"] == \"scale\" else None), \n",
    "    (\"model\", model),\n",
    "])"
   ]
  },
  {
   "cell_type": "code",
   "execution_count": 32,
   "id": "9442c04d",
   "metadata": {
    "execution": {
     "iopub.execute_input": "2025-08-05T16:10:36.862377Z",
     "iopub.status.busy": "2025-08-05T16:10:36.862150Z",
     "iopub.status.idle": "2025-08-05T16:10:36.908626Z",
     "shell.execute_reply": "2025-08-05T16:10:36.907750Z"
    },
    "papermill": {
     "duration": 0.058896,
     "end_time": "2025-08-05T16:10:36.910366",
     "exception": false,
     "start_time": "2025-08-05T16:10:36.851470",
     "status": "completed"
    },
    "tags": []
   },
   "outputs": [
    {
     "name": "stderr",
     "output_type": "stream",
     "text": [
      "/dss/dsshome1/0C/ra93lal2/.local/share/virtualenvs/CMA_Fairness_v2-3j10GkSs/lib/python3.10/site-packages/sklearn/linear_model/_logistic.py:444: ConvergenceWarning: lbfgs failed to converge (status=1):\n",
      "STOP: TOTAL NO. of ITERATIONS REACHED LIMIT.\n",
      "\n",
      "Increase the number of iterations (max_iter) or scale the data as shown in:\n",
      "    https://scikit-learn.org/stable/modules/preprocessing.html\n",
      "Please also refer to the documentation for alternative solver options:\n",
      "    https://scikit-learn.org/stable/modules/linear_model.html#logistic-regression\n",
      "  n_iter_i = _check_optimize_result(\n"
     ]
    },
    {
     "data": {
      "text/html": [
       "<style>#sk-container-id-1 {color: black;background-color: white;}#sk-container-id-1 pre{padding: 0;}#sk-container-id-1 div.sk-toggleable {background-color: white;}#sk-container-id-1 label.sk-toggleable__label {cursor: pointer;display: block;width: 100%;margin-bottom: 0;padding: 0.3em;box-sizing: border-box;text-align: center;}#sk-container-id-1 label.sk-toggleable__label-arrow:before {content: \"▸\";float: left;margin-right: 0.25em;color: #696969;}#sk-container-id-1 label.sk-toggleable__label-arrow:hover:before {color: black;}#sk-container-id-1 div.sk-estimator:hover label.sk-toggleable__label-arrow:before {color: black;}#sk-container-id-1 div.sk-toggleable__content {max-height: 0;max-width: 0;overflow: hidden;text-align: left;background-color: #f0f8ff;}#sk-container-id-1 div.sk-toggleable__content pre {margin: 0.2em;color: black;border-radius: 0.25em;background-color: #f0f8ff;}#sk-container-id-1 input.sk-toggleable__control:checked~div.sk-toggleable__content {max-height: 200px;max-width: 100%;overflow: auto;}#sk-container-id-1 input.sk-toggleable__control:checked~label.sk-toggleable__label-arrow:before {content: \"▾\";}#sk-container-id-1 div.sk-estimator input.sk-toggleable__control:checked~label.sk-toggleable__label {background-color: #d4ebff;}#sk-container-id-1 div.sk-label input.sk-toggleable__control:checked~label.sk-toggleable__label {background-color: #d4ebff;}#sk-container-id-1 input.sk-hidden--visually {border: 0;clip: rect(1px 1px 1px 1px);clip: rect(1px, 1px, 1px, 1px);height: 1px;margin: -1px;overflow: hidden;padding: 0;position: absolute;width: 1px;}#sk-container-id-1 div.sk-estimator {font-family: monospace;background-color: #f0f8ff;border: 1px dotted black;border-radius: 0.25em;box-sizing: border-box;margin-bottom: 0.5em;}#sk-container-id-1 div.sk-estimator:hover {background-color: #d4ebff;}#sk-container-id-1 div.sk-parallel-item::after {content: \"\";width: 100%;border-bottom: 1px solid gray;flex-grow: 1;}#sk-container-id-1 div.sk-label:hover label.sk-toggleable__label {background-color: #d4ebff;}#sk-container-id-1 div.sk-serial::before {content: \"\";position: absolute;border-left: 1px solid gray;box-sizing: border-box;top: 0;bottom: 0;left: 50%;z-index: 0;}#sk-container-id-1 div.sk-serial {display: flex;flex-direction: column;align-items: center;background-color: white;padding-right: 0.2em;padding-left: 0.2em;position: relative;}#sk-container-id-1 div.sk-item {position: relative;z-index: 1;}#sk-container-id-1 div.sk-parallel {display: flex;align-items: stretch;justify-content: center;background-color: white;position: relative;}#sk-container-id-1 div.sk-item::before, #sk-container-id-1 div.sk-parallel-item::before {content: \"\";position: absolute;border-left: 1px solid gray;box-sizing: border-box;top: 0;bottom: 0;left: 50%;z-index: -1;}#sk-container-id-1 div.sk-parallel-item {display: flex;flex-direction: column;z-index: 1;position: relative;background-color: white;}#sk-container-id-1 div.sk-parallel-item:first-child::after {align-self: flex-end;width: 50%;}#sk-container-id-1 div.sk-parallel-item:last-child::after {align-self: flex-start;width: 50%;}#sk-container-id-1 div.sk-parallel-item:only-child::after {width: 0;}#sk-container-id-1 div.sk-dashed-wrapped {border: 1px dashed gray;margin: 0 0.4em 0.5em 0.4em;box-sizing: border-box;padding-bottom: 0.4em;background-color: white;}#sk-container-id-1 div.sk-label label {font-family: monospace;font-weight: bold;display: inline-block;line-height: 1.2em;}#sk-container-id-1 div.sk-label-container {text-align: center;}#sk-container-id-1 div.sk-container {/* jupyter's `normalize.less` sets `[hidden] { display: none; }` but bootstrap.min.css set `[hidden] { display: none !important; }` so we also need the `!important` here to be able to override the default hidden behavior on the sphinx rendered scikit-learn.org. See: https://github.com/scikit-learn/scikit-learn/issues/21755 */display: inline-block !important;position: relative;}#sk-container-id-1 div.sk-text-repr-fallback {display: none;}</style><div id=\"sk-container-id-1\" class=\"sk-top-container\"><div class=\"sk-text-repr-fallback\"><pre>Pipeline(steps=[(&#x27;scale&#x27;, None), (&#x27;model&#x27;, LogisticRegression(C=0.1))])</pre><b>In a Jupyter environment, please rerun this cell to show the HTML representation or trust the notebook. <br />On GitHub, the HTML representation is unable to render, please try loading this page with nbviewer.org.</b></div><div class=\"sk-container\" hidden><div class=\"sk-item sk-dashed-wrapped\"><div class=\"sk-label-container\"><div class=\"sk-label sk-toggleable\"><input class=\"sk-toggleable__control sk-hidden--visually\" id=\"sk-estimator-id-1\" type=\"checkbox\" ><label for=\"sk-estimator-id-1\" class=\"sk-toggleable__label sk-toggleable__label-arrow\">Pipeline</label><div class=\"sk-toggleable__content\"><pre>Pipeline(steps=[(&#x27;scale&#x27;, None), (&#x27;model&#x27;, LogisticRegression(C=0.1))])</pre></div></div></div><div class=\"sk-serial\"><div class=\"sk-item\"><div class=\"sk-estimator sk-toggleable\"><input class=\"sk-toggleable__control sk-hidden--visually\" id=\"sk-estimator-id-2\" type=\"checkbox\" ><label for=\"sk-estimator-id-2\" class=\"sk-toggleable__label sk-toggleable__label-arrow\">None</label><div class=\"sk-toggleable__content\"><pre>None</pre></div></div></div><div class=\"sk-item\"><div class=\"sk-estimator sk-toggleable\"><input class=\"sk-toggleable__control sk-hidden--visually\" id=\"sk-estimator-id-3\" type=\"checkbox\" ><label for=\"sk-estimator-id-3\" class=\"sk-toggleable__label sk-toggleable__label-arrow\">LogisticRegression</label><div class=\"sk-toggleable__content\"><pre>LogisticRegression(C=0.1)</pre></div></div></div></div></div></div></div>"
      ],
      "text/plain": [
       "Pipeline(steps=[('scale', None), ('model', LogisticRegression(C=0.1))])"
      ]
     },
     "execution_count": 32,
     "metadata": {},
     "output_type": "execute_result"
    }
   ],
   "source": [
    "model.fit(X_train, y_train.values.ravel())"
   ]
  },
  {
   "cell_type": "code",
   "execution_count": 33,
   "id": "af59f8c0",
   "metadata": {
    "execution": {
     "iopub.execute_input": "2025-08-05T16:10:36.931316Z",
     "iopub.status.busy": "2025-08-05T16:10:36.930817Z",
     "iopub.status.idle": "2025-08-05T16:10:36.935049Z",
     "shell.execute_reply": "2025-08-05T16:10:36.934323Z"
    },
    "papermill": {
     "duration": 0.016244,
     "end_time": "2025-08-05T16:10:36.936531",
     "exception": false,
     "start_time": "2025-08-05T16:10:36.920287",
     "status": "completed"
    },
    "tags": []
   },
   "outputs": [],
   "source": [
    "from fairness_multiverse.universe import predict_w_threshold"
   ]
  },
  {
   "cell_type": "code",
   "execution_count": 34,
   "id": "a7cf2e16",
   "metadata": {
    "execution": {
     "iopub.execute_input": "2025-08-05T16:10:36.957948Z",
     "iopub.status.busy": "2025-08-05T16:10:36.957729Z",
     "iopub.status.idle": "2025-08-05T16:10:37.039122Z",
     "shell.execute_reply": "2025-08-05T16:10:37.038392Z"
    },
    "papermill": {
     "duration": 0.093326,
     "end_time": "2025-08-05T16:10:37.040393",
     "exception": false,
     "start_time": "2025-08-05T16:10:36.947067",
     "status": "completed"
    },
    "tags": []
   },
   "outputs": [
    {
     "data": {
      "text/plain": [
       "0.8451454687325828"
      ]
     },
     "execution_count": 34,
     "metadata": {},
     "output_type": "execute_result"
    }
   ],
   "source": [
    "probs_test = model.predict_proba(X_test)\n",
    "\n",
    "'''\n",
    "Below code returns a boolean array (or binary 0/1 array depending on how it’s used) where each element \n",
    "is True if the probability of class 1 is greater than or equal to the threshold, and False otherwise.\n",
    "'''\n",
    "y_pred_default = predict_w_threshold(probs_test, 0.5)\n",
    "\n",
    "from sklearn.metrics import accuracy_score\n",
    "\n",
    "# Naive prediction\n",
    "accuracy_score(y_true = y_true, y_pred = y_pred_default)"
   ]
  },
  {
   "cell_type": "code",
   "execution_count": 35,
   "id": "081964c3",
   "metadata": {
    "execution": {
     "iopub.execute_input": "2025-08-05T16:10:37.062167Z",
     "iopub.status.busy": "2025-08-05T16:10:37.061880Z",
     "iopub.status.idle": "2025-08-05T16:10:37.135210Z",
     "shell.execute_reply": "2025-08-05T16:10:37.134362Z"
    },
    "papermill": {
     "duration": 0.085219,
     "end_time": "2025-08-05T16:10:37.136499",
     "exception": false,
     "start_time": "2025-08-05T16:10:37.051280",
     "status": "completed"
    },
    "tags": []
   },
   "outputs": [
    {
     "data": {
      "text/plain": [
       "array([0, 0, 0, ..., 0, 0, 0])"
      ]
     },
     "execution_count": 35,
     "metadata": {},
     "output_type": "execute_result"
    }
   ],
   "source": [
    "model.predict(X_test)"
   ]
  },
  {
   "cell_type": "markdown",
   "id": "56c9705b",
   "metadata": {
    "papermill": {
     "duration": 0.010303,
     "end_time": "2025-08-05T16:10:37.157605",
     "exception": false,
     "start_time": "2025-08-05T16:10:37.147302",
     "status": "completed"
    },
    "tags": []
   },
   "source": [
    "# Conformal Prediction"
   ]
  },
  {
   "cell_type": "code",
   "execution_count": 36,
   "id": "160ec6ff",
   "metadata": {
    "execution": {
     "iopub.execute_input": "2025-08-05T16:10:37.179351Z",
     "iopub.status.busy": "2025-08-05T16:10:37.178623Z",
     "iopub.status.idle": "2025-08-05T16:10:37.183244Z",
     "shell.execute_reply": "2025-08-05T16:10:37.182186Z"
    },
    "papermill": {
     "duration": 0.017463,
     "end_time": "2025-08-05T16:10:37.185115",
     "exception": false,
     "start_time": "2025-08-05T16:10:37.167652",
     "status": "completed"
    },
    "tags": []
   },
   "outputs": [],
   "source": [
    "# Miscoverage level for conformal prediction (10% allowed error rate => 90% target coverage)\n",
    "alpha = 0.1"
   ]
  },
  {
   "cell_type": "code",
   "execution_count": 37,
   "id": "eadf4555-3dd3-440e-8e35-f82a4ad9f855",
   "metadata": {
    "execution": {
     "iopub.execute_input": "2025-08-05T16:10:37.228557Z",
     "iopub.status.busy": "2025-08-05T16:10:37.228232Z",
     "iopub.status.idle": "2025-08-05T16:10:37.306151Z",
     "shell.execute_reply": "2025-08-05T16:10:37.305089Z"
    },
    "papermill": {
     "duration": 0.101906,
     "end_time": "2025-08-05T16:10:37.308295",
     "exception": false,
     "start_time": "2025-08-05T16:10:37.206389",
     "status": "completed"
    },
    "tags": []
   },
   "outputs": [],
   "source": [
    "probs_calib = model.predict_proba(X_calib)"
   ]
  },
  {
   "cell_type": "code",
   "execution_count": 38,
   "id": "2ed93547-6d5d-4983-9b36-1ecb300da49a",
   "metadata": {
    "execution": {
     "iopub.execute_input": "2025-08-05T16:10:37.352804Z",
     "iopub.status.busy": "2025-08-05T16:10:37.352506Z",
     "iopub.status.idle": "2025-08-05T16:10:37.357213Z",
     "shell.execute_reply": "2025-08-05T16:10:37.356365Z"
    },
    "papermill": {
     "duration": 0.028134,
     "end_time": "2025-08-05T16:10:37.358646",
     "exception": false,
     "start_time": "2025-08-05T16:10:37.330512",
     "status": "completed"
    },
    "tags": []
   },
   "outputs": [],
   "source": [
    "y_calib = y_calib.values.ravel().astype(int)"
   ]
  },
  {
   "cell_type": "code",
   "execution_count": 39,
   "id": "65d1320d-f588-4b38-9072-62af1ae97f7d",
   "metadata": {
    "execution": {
     "iopub.execute_input": "2025-08-05T16:10:37.380707Z",
     "iopub.status.busy": "2025-08-05T16:10:37.380408Z",
     "iopub.status.idle": "2025-08-05T16:10:37.386969Z",
     "shell.execute_reply": "2025-08-05T16:10:37.385956Z"
    },
    "papermill": {
     "duration": 0.019283,
     "end_time": "2025-08-05T16:10:37.388676",
     "exception": false,
     "start_time": "2025-08-05T16:10:37.369393",
     "status": "completed"
    },
    "tags": []
   },
   "outputs": [],
   "source": [
    "from fairness_multiverse.conformal import compute_nc_scores\n",
    "\n",
    "# Compute nonconformity scores on calibration set (1 - probability of true class)\n",
    "nc_scores = compute_nc_scores(probs_calib, y_calib)"
   ]
  },
  {
   "cell_type": "code",
   "execution_count": 40,
   "id": "df3b8ca3-53b7-43d5-9667-7c85da7aeda2",
   "metadata": {
    "execution": {
     "iopub.execute_input": "2025-08-05T16:10:37.433693Z",
     "iopub.status.busy": "2025-08-05T16:10:37.433363Z",
     "iopub.status.idle": "2025-08-05T16:10:37.439130Z",
     "shell.execute_reply": "2025-08-05T16:10:37.438051Z"
    },
    "papermill": {
     "duration": 0.02985,
     "end_time": "2025-08-05T16:10:37.440737",
     "exception": false,
     "start_time": "2025-08-05T16:10:37.410887",
     "status": "completed"
    },
    "tags": []
   },
   "outputs": [],
   "source": [
    "from fairness_multiverse.conformal import find_threshold\n",
    "\n",
    "# Find conformal threshold q_hat for the given alpha (split conformal method)\n",
    "q_hat = find_threshold(nc_scores, alpha)"
   ]
  },
  {
   "cell_type": "code",
   "execution_count": 41,
   "id": "4d29e6c1-0ef6-4aa4-b8fe-4fe79b0d033a",
   "metadata": {
    "execution": {
     "iopub.execute_input": "2025-08-05T16:10:37.478889Z",
     "iopub.status.busy": "2025-08-05T16:10:37.478421Z",
     "iopub.status.idle": "2025-08-05T16:10:37.485214Z",
     "shell.execute_reply": "2025-08-05T16:10:37.484266Z"
    },
    "papermill": {
     "duration": 0.027346,
     "end_time": "2025-08-05T16:10:37.486841",
     "exception": false,
     "start_time": "2025-08-05T16:10:37.459495",
     "status": "completed"
    },
    "tags": []
   },
   "outputs": [
    {
     "data": {
      "text/plain": [
       "0.6909024533296892"
      ]
     },
     "execution_count": 41,
     "metadata": {},
     "output_type": "execute_result"
    }
   ],
   "source": [
    "q_hat"
   ]
  },
  {
   "cell_type": "code",
   "execution_count": 42,
   "id": "92460794-cdac-4be2-ba28-f28c0515a6fb",
   "metadata": {
    "execution": {
     "iopub.execute_input": "2025-08-05T16:10:37.525585Z",
     "iopub.status.busy": "2025-08-05T16:10:37.525223Z",
     "iopub.status.idle": "2025-08-05T16:10:38.616884Z",
     "shell.execute_reply": "2025-08-05T16:10:38.615828Z"
    },
    "papermill": {
     "duration": 1.112732,
     "end_time": "2025-08-05T16:10:38.618780",
     "exception": false,
     "start_time": "2025-08-05T16:10:37.506048",
     "status": "completed"
    },
    "tags": []
   },
   "outputs": [],
   "source": [
    "from fairness_multiverse.conformal import predict_conformal_sets\n",
    "\n",
    "# Generate prediction sets for each test example\n",
    "pred_sets = predict_conformal_sets(model, X_test, q_hat)"
   ]
  },
  {
   "cell_type": "code",
   "execution_count": 43,
   "id": "d90c9a65-e6db-4f5d-80cd-e68fb7e46829",
   "metadata": {
    "execution": {
     "iopub.execute_input": "2025-08-05T16:10:38.658871Z",
     "iopub.status.busy": "2025-08-05T16:10:38.658263Z",
     "iopub.status.idle": "2025-08-05T16:10:38.663537Z",
     "shell.execute_reply": "2025-08-05T16:10:38.662613Z"
    },
    "papermill": {
     "duration": 0.026992,
     "end_time": "2025-08-05T16:10:38.665506",
     "exception": false,
     "start_time": "2025-08-05T16:10:38.638514",
     "status": "completed"
    },
    "tags": []
   },
   "outputs": [],
   "source": [
    "y_true = y_true.squeeze()"
   ]
  },
  {
   "cell_type": "code",
   "execution_count": 44,
   "id": "3a58a54a-1e68-46b9-927a-df01f18aebc8",
   "metadata": {
    "execution": {
     "iopub.execute_input": "2025-08-05T16:10:38.706807Z",
     "iopub.status.busy": "2025-08-05T16:10:38.706005Z",
     "iopub.status.idle": "2025-08-05T16:10:39.704363Z",
     "shell.execute_reply": "2025-08-05T16:10:39.703421Z"
    },
    "papermill": {
     "duration": 1.02103,
     "end_time": "2025-08-05T16:10:39.706383",
     "exception": false,
     "start_time": "2025-08-05T16:10:38.685353",
     "status": "completed"
    },
    "tags": []
   },
   "outputs": [],
   "source": [
    "from fairness_multiverse.conformal import evaluate_sets\n",
    "\n",
    "# Evaluate coverage and average set size on test data\n",
    "metrics = evaluate_sets(pred_sets, y_true)"
   ]
  },
  {
   "cell_type": "markdown",
   "id": "2b569c12-9aaa-4c88-98c9-bbcd0cf3ebb8",
   "metadata": {
    "papermill": {
     "duration": 0.018264,
     "end_time": "2025-08-05T16:10:39.745317",
     "exception": false,
     "start_time": "2025-08-05T16:10:39.727053",
     "status": "completed"
    },
    "tags": []
   },
   "source": [
    "# CP Metrics"
   ]
  },
  {
   "cell_type": "code",
   "execution_count": 45,
   "id": "5ce0a5cb-201f-45a0-ade5-94c7f0bd6095",
   "metadata": {
    "execution": {
     "iopub.execute_input": "2025-08-05T16:10:39.784784Z",
     "iopub.status.busy": "2025-08-05T16:10:39.784105Z",
     "iopub.status.idle": "2025-08-05T16:10:39.792062Z",
     "shell.execute_reply": "2025-08-05T16:10:39.791111Z"
    },
    "papermill": {
     "duration": 0.029102,
     "end_time": "2025-08-05T16:10:39.793588",
     "exception": false,
     "start_time": "2025-08-05T16:10:39.764486",
     "status": "completed"
    },
    "tags": []
   },
   "outputs": [
    {
     "data": {
      "text/plain": [
       "{'coverage': 0.9090067996878832, 'avg_size': 1.2553895886746183}"
      ]
     },
     "execution_count": 45,
     "metadata": {},
     "output_type": "execute_result"
    }
   ],
   "source": [
    "metrics"
   ]
  },
  {
   "cell_type": "code",
   "execution_count": 46,
   "id": "9b9a838d-31c9-430b-ae14-12baee460d17",
   "metadata": {
    "execution": {
     "iopub.execute_input": "2025-08-05T16:10:39.833537Z",
     "iopub.status.busy": "2025-08-05T16:10:39.832784Z",
     "iopub.status.idle": "2025-08-05T16:10:39.839277Z",
     "shell.execute_reply": "2025-08-05T16:10:39.838360Z"
    },
    "papermill": {
     "duration": 0.028174,
     "end_time": "2025-08-05T16:10:39.841062",
     "exception": false,
     "start_time": "2025-08-05T16:10:39.812888",
     "status": "completed"
    },
    "tags": []
   },
   "outputs": [],
   "source": [
    "example_universe = universe.copy()\n",
    "universe_training_year = example_universe.get(\"training_year\")\n",
    "universe_training_size = example_universe.get(\"training_size\")\n",
    "universe_scale = example_universe.get(\"scale\")\n",
    "universe_model = example_universe.get(\"model\")\n",
    "universe_exclude_features = example_universe.get(\"exclude_features\")\n",
    "universe_exclude_subgroups = example_universe.get(\"exclude_subgroups\")"
   ]
  },
  {
   "cell_type": "code",
   "execution_count": 47,
   "id": "f4b6a8ac-9dc0-4245-8a91-5b3b5999c4f9",
   "metadata": {
    "execution": {
     "iopub.execute_input": "2025-08-05T16:10:39.884882Z",
     "iopub.status.busy": "2025-08-05T16:10:39.884044Z",
     "iopub.status.idle": "2025-08-05T16:10:39.890068Z",
     "shell.execute_reply": "2025-08-05T16:10:39.889172Z"
    },
    "papermill": {
     "duration": 0.029645,
     "end_time": "2025-08-05T16:10:39.891926",
     "exception": false,
     "start_time": "2025-08-05T16:10:39.862281",
     "status": "completed"
    },
    "tags": []
   },
   "outputs": [],
   "source": [
    "cp_metrics_dict = {\n",
    "    \"universe_id\": [universe_id],\n",
    "    \"universe_training_year\": [universe_training_year],\n",
    "    \"universe_training_size\": [universe_training_size],\n",
    "    \"universe_scale\": [universe_scale],\n",
    "    \"universe_model\": [universe_model],\n",
    "    \"universe_exclude_features\": [universe_exclude_features],\n",
    "    \"universe_exclude_subgroups\": [universe_exclude_subgroups],\n",
    "    \"q_hat\": [q_hat],\n",
    "    \"coverage\": [metrics[\"coverage\"]],\n",
    "    \"avg_size\": [metrics[\"avg_size\"]],\n",
    "}"
   ]
  },
  {
   "cell_type": "code",
   "execution_count": 48,
   "id": "908acbb1-0371-4915-85ca-3fa520d2efe2",
   "metadata": {
    "execution": {
     "iopub.execute_input": "2025-08-05T16:10:39.937803Z",
     "iopub.status.busy": "2025-08-05T16:10:39.937145Z",
     "iopub.status.idle": "2025-08-05T16:10:39.944752Z",
     "shell.execute_reply": "2025-08-05T16:10:39.943729Z"
    },
    "papermill": {
     "duration": 0.032881,
     "end_time": "2025-08-05T16:10:39.946385",
     "exception": false,
     "start_time": "2025-08-05T16:10:39.913504",
     "status": "completed"
    },
    "tags": []
   },
   "outputs": [
    {
     "data": {
      "text/plain": [
       "{'universe_id': ['1161f3d75ce60397e97a73c623a69305'],\n",
       " 'universe_training_year': ['2014'],\n",
       " 'universe_training_size': ['1k'],\n",
       " 'universe_scale': ['do-not-scale'],\n",
       " 'universe_model': ['penalized_logreg'],\n",
       " 'universe_exclude_features': ['nationality-sex'],\n",
       " 'universe_exclude_subgroups': ['drop-non-german'],\n",
       " 'q_hat': [0.6909024533296892],\n",
       " 'coverage': [0.9090067996878832],\n",
       " 'avg_size': [1.2553895886746183]}"
      ]
     },
     "execution_count": 48,
     "metadata": {},
     "output_type": "execute_result"
    }
   ],
   "source": [
    "cp_metrics_dict"
   ]
  },
  {
   "cell_type": "code",
   "execution_count": 49,
   "id": "33007efc-14e9-4ec6-97ac-56a455c82265",
   "metadata": {
    "execution": {
     "iopub.execute_input": "2025-08-05T16:10:39.993670Z",
     "iopub.status.busy": "2025-08-05T16:10:39.992997Z",
     "iopub.status.idle": "2025-08-05T16:10:39.999719Z",
     "shell.execute_reply": "2025-08-05T16:10:39.998624Z"
    },
    "papermill": {
     "duration": 0.032284,
     "end_time": "2025-08-05T16:10:40.001647",
     "exception": false,
     "start_time": "2025-08-05T16:10:39.969363",
     "status": "completed"
    },
    "tags": []
   },
   "outputs": [],
   "source": [
    "cp_metrics_df = pd.DataFrame(cp_metrics_dict)"
   ]
  },
  {
   "cell_type": "code",
   "execution_count": 50,
   "id": "db12611b-57b2-4910-b9d0-355adfd6e7bf",
   "metadata": {
    "execution": {
     "iopub.execute_input": "2025-08-05T16:10:40.049433Z",
     "iopub.status.busy": "2025-08-05T16:10:40.048981Z",
     "iopub.status.idle": "2025-08-05T16:10:40.069606Z",
     "shell.execute_reply": "2025-08-05T16:10:40.068708Z"
    },
    "papermill": {
     "duration": 0.046576,
     "end_time": "2025-08-05T16:10:40.071401",
     "exception": false,
     "start_time": "2025-08-05T16:10:40.024825",
     "status": "completed"
    },
    "tags": []
   },
   "outputs": [
    {
     "data": {
      "text/html": [
       "<div>\n",
       "<style scoped>\n",
       "    .dataframe tbody tr th:only-of-type {\n",
       "        vertical-align: middle;\n",
       "    }\n",
       "\n",
       "    .dataframe tbody tr th {\n",
       "        vertical-align: top;\n",
       "    }\n",
       "\n",
       "    .dataframe thead th {\n",
       "        text-align: right;\n",
       "    }\n",
       "</style>\n",
       "<table border=\"1\" class=\"dataframe\">\n",
       "  <thead>\n",
       "    <tr style=\"text-align: right;\">\n",
       "      <th></th>\n",
       "      <th>universe_id</th>\n",
       "      <th>universe_training_year</th>\n",
       "      <th>universe_training_size</th>\n",
       "      <th>universe_scale</th>\n",
       "      <th>universe_model</th>\n",
       "      <th>universe_exclude_features</th>\n",
       "      <th>universe_exclude_subgroups</th>\n",
       "      <th>q_hat</th>\n",
       "      <th>coverage</th>\n",
       "      <th>avg_size</th>\n",
       "    </tr>\n",
       "  </thead>\n",
       "  <tbody>\n",
       "    <tr>\n",
       "      <th>0</th>\n",
       "      <td>1161f3d75ce60397e97a73c623a69305</td>\n",
       "      <td>2014</td>\n",
       "      <td>1k</td>\n",
       "      <td>do-not-scale</td>\n",
       "      <td>penalized_logreg</td>\n",
       "      <td>nationality-sex</td>\n",
       "      <td>drop-non-german</td>\n",
       "      <td>0.690902</td>\n",
       "      <td>0.909007</td>\n",
       "      <td>1.25539</td>\n",
       "    </tr>\n",
       "  </tbody>\n",
       "</table>\n",
       "</div>"
      ],
      "text/plain": [
       "                        universe_id universe_training_year  \\\n",
       "0  1161f3d75ce60397e97a73c623a69305                   2014   \n",
       "\n",
       "  universe_training_size universe_scale    universe_model  \\\n",
       "0                     1k   do-not-scale  penalized_logreg   \n",
       "\n",
       "  universe_exclude_features universe_exclude_subgroups     q_hat  coverage  \\\n",
       "0           nationality-sex            drop-non-german  0.690902  0.909007   \n",
       "\n",
       "   avg_size  \n",
       "0   1.25539  "
      ]
     },
     "execution_count": 50,
     "metadata": {},
     "output_type": "execute_result"
    }
   ],
   "source": [
    "cp_metrics_df"
   ]
  },
  {
   "cell_type": "code",
   "execution_count": 51,
   "id": "b7fbde55-a0a1-47e4-9af6-fe4a17fa8c61",
   "metadata": {
    "execution": {
     "iopub.execute_input": "2025-08-05T16:10:40.117251Z",
     "iopub.status.busy": "2025-08-05T16:10:40.116604Z",
     "iopub.status.idle": "2025-08-05T16:10:40.121351Z",
     "shell.execute_reply": "2025-08-05T16:10:40.120316Z"
    },
    "papermill": {
     "duration": 0.029235,
     "end_time": "2025-08-05T16:10:40.123234",
     "exception": false,
     "start_time": "2025-08-05T16:10:40.093999",
     "status": "completed"
    },
    "tags": []
   },
   "outputs": [],
   "source": [
    "# Conditional Coverage & looking at subgroups"
   ]
  },
  {
   "cell_type": "code",
   "execution_count": 52,
   "id": "027ae886-68dd-4141-96c7-805a5450e1ef",
   "metadata": {
    "execution": {
     "iopub.execute_input": "2025-08-05T16:10:40.170404Z",
     "iopub.status.busy": "2025-08-05T16:10:40.169743Z",
     "iopub.status.idle": "2025-08-05T16:10:40.376688Z",
     "shell.execute_reply": "2025-08-05T16:10:40.375941Z"
    },
    "papermill": {
     "duration": 0.232032,
     "end_time": "2025-08-05T16:10:40.378637",
     "exception": false,
     "start_time": "2025-08-05T16:10:40.146605",
     "status": "completed"
    },
    "tags": []
   },
   "outputs": [],
   "source": [
    "from fairness_multiverse.conformal import build_cp_groups\n",
    "\n",
    "cp_groups_df = build_cp_groups(pred_sets, y_true, X_test.index, org_test)\n",
    "#needs universe_id and setting"
   ]
  },
  {
   "cell_type": "code",
   "execution_count": 53,
   "id": "6cbdab96-b2b2-45af-ad54-d0516db2e28d",
   "metadata": {
    "execution": {
     "iopub.execute_input": "2025-08-05T16:10:40.425333Z",
     "iopub.status.busy": "2025-08-05T16:10:40.424681Z",
     "iopub.status.idle": "2025-08-05T16:10:42.241730Z",
     "shell.execute_reply": "2025-08-05T16:10:42.240713Z"
    },
    "papermill": {
     "duration": 1.841812,
     "end_time": "2025-08-05T16:10:42.243685",
     "exception": false,
     "start_time": "2025-08-05T16:10:40.401873",
     "status": "completed"
    },
    "tags": []
   },
   "outputs": [],
   "source": [
    "# Define covered = 1 if true_label is in the predicted set\n",
    "cp_groups_df['covered'] = cp_groups_df.apply(\n",
    "    lambda r: int(r['true_label'] in r['pred_set']),\n",
    "    axis=1\n",
    ")"
   ]
  },
  {
   "cell_type": "code",
   "execution_count": 54,
   "id": "338ff529-1a6b-4b87-a931-8e4788d52aad",
   "metadata": {
    "execution": {
     "iopub.execute_input": "2025-08-05T16:10:42.286396Z",
     "iopub.status.busy": "2025-08-05T16:10:42.285460Z",
     "iopub.status.idle": "2025-08-05T16:10:42.290676Z",
     "shell.execute_reply": "2025-08-05T16:10:42.289771Z"
    },
    "papermill": {
     "duration": 0.027995,
     "end_time": "2025-08-05T16:10:42.292465",
     "exception": false,
     "start_time": "2025-08-05T16:10:42.264470",
     "status": "completed"
    },
    "tags": []
   },
   "outputs": [],
   "source": [
    "#cp_groups_df"
   ]
  },
  {
   "cell_type": "code",
   "execution_count": 55,
   "id": "90032e27-66df-4540-9169-4e89cfbaa758",
   "metadata": {
    "execution": {
     "iopub.execute_input": "2025-08-05T16:10:42.338761Z",
     "iopub.status.busy": "2025-08-05T16:10:42.338431Z",
     "iopub.status.idle": "2025-08-05T16:10:42.350696Z",
     "shell.execute_reply": "2025-08-05T16:10:42.349796Z"
    },
    "papermill": {
     "duration": 0.036999,
     "end_time": "2025-08-05T16:10:42.352316",
     "exception": false,
     "start_time": "2025-08-05T16:10:42.315317",
     "status": "completed"
    },
    "tags": []
   },
   "outputs": [],
   "source": [
    "subgroups = ['frau1','nongerman','nongerman_male','nongerman_female']\n",
    "\n",
    "# Conditional coverage for subgroup==1\n",
    "cond_coverage = {\n",
    "    g: cp_groups_df.loc[cp_groups_df[g]==1, 'covered'].mean()\n",
    "    for g in subgroups\n",
    "}"
   ]
  },
  {
   "cell_type": "code",
   "execution_count": 56,
   "id": "1e348fb1-b9c3-45bc-ba23-f016827a7e0d",
   "metadata": {
    "execution": {
     "iopub.execute_input": "2025-08-05T16:10:42.401240Z",
     "iopub.status.busy": "2025-08-05T16:10:42.400529Z",
     "iopub.status.idle": "2025-08-05T16:10:42.407619Z",
     "shell.execute_reply": "2025-08-05T16:10:42.406535Z"
    },
    "papermill": {
     "duration": 0.033914,
     "end_time": "2025-08-05T16:10:42.409285",
     "exception": false,
     "start_time": "2025-08-05T16:10:42.375371",
     "status": "completed"
    },
    "tags": []
   },
   "outputs": [
    {
     "data": {
      "text/plain": [
       "{'frau1': 0.9087208518668284,\n",
       " 'nongerman': 0.9479032167518104,\n",
       " 'nongerman_male': 0.9574889669458705,\n",
       " 'nongerman_female': 0.9320417287630403}"
      ]
     },
     "execution_count": 56,
     "metadata": {},
     "output_type": "execute_result"
    }
   ],
   "source": [
    "cond_coverage"
   ]
  },
  {
   "cell_type": "code",
   "execution_count": 57,
   "id": "f5093324-c3dd-4d63-bc4c-8d945e5c8bbb",
   "metadata": {
    "execution": {
     "iopub.execute_input": "2025-08-05T16:10:42.458754Z",
     "iopub.status.busy": "2025-08-05T16:10:42.458308Z",
     "iopub.status.idle": "2025-08-05T16:10:42.465289Z",
     "shell.execute_reply": "2025-08-05T16:10:42.464234Z"
    },
    "papermill": {
     "duration": 0.03427,
     "end_time": "2025-08-05T16:10:42.466968",
     "exception": false,
     "start_time": "2025-08-05T16:10:42.432698",
     "status": "completed"
    },
    "tags": []
   },
   "outputs": [],
   "source": [
    "for subgroup, cov in cond_coverage.items():\n",
    "    cp_metrics_df[f\"cov_{subgroup}\"] = cov"
   ]
  },
  {
   "cell_type": "code",
   "execution_count": 58,
   "id": "6e872e10-dbe5-49e8-b554-5030c98ff75d",
   "metadata": {
    "execution": {
     "iopub.execute_input": "2025-08-05T16:10:42.517088Z",
     "iopub.status.busy": "2025-08-05T16:10:42.516427Z",
     "iopub.status.idle": "2025-08-05T16:10:42.534672Z",
     "shell.execute_reply": "2025-08-05T16:10:42.533686Z"
    },
    "papermill": {
     "duration": 0.045623,
     "end_time": "2025-08-05T16:10:42.536262",
     "exception": false,
     "start_time": "2025-08-05T16:10:42.490639",
     "status": "completed"
    },
    "tags": []
   },
   "outputs": [
    {
     "data": {
      "text/html": [
       "<div>\n",
       "<style scoped>\n",
       "    .dataframe tbody tr th:only-of-type {\n",
       "        vertical-align: middle;\n",
       "    }\n",
       "\n",
       "    .dataframe tbody tr th {\n",
       "        vertical-align: top;\n",
       "    }\n",
       "\n",
       "    .dataframe thead th {\n",
       "        text-align: right;\n",
       "    }\n",
       "</style>\n",
       "<table border=\"1\" class=\"dataframe\">\n",
       "  <thead>\n",
       "    <tr style=\"text-align: right;\">\n",
       "      <th></th>\n",
       "      <th>universe_id</th>\n",
       "      <th>universe_training_year</th>\n",
       "      <th>universe_training_size</th>\n",
       "      <th>universe_scale</th>\n",
       "      <th>universe_model</th>\n",
       "      <th>universe_exclude_features</th>\n",
       "      <th>universe_exclude_subgroups</th>\n",
       "      <th>q_hat</th>\n",
       "      <th>coverage</th>\n",
       "      <th>avg_size</th>\n",
       "      <th>cov_frau1</th>\n",
       "      <th>cov_nongerman</th>\n",
       "      <th>cov_nongerman_male</th>\n",
       "      <th>cov_nongerman_female</th>\n",
       "    </tr>\n",
       "  </thead>\n",
       "  <tbody>\n",
       "    <tr>\n",
       "      <th>0</th>\n",
       "      <td>1161f3d75ce60397e97a73c623a69305</td>\n",
       "      <td>2014</td>\n",
       "      <td>1k</td>\n",
       "      <td>do-not-scale</td>\n",
       "      <td>penalized_logreg</td>\n",
       "      <td>nationality-sex</td>\n",
       "      <td>drop-non-german</td>\n",
       "      <td>0.690902</td>\n",
       "      <td>0.909007</td>\n",
       "      <td>1.25539</td>\n",
       "      <td>0.908721</td>\n",
       "      <td>0.947903</td>\n",
       "      <td>0.957489</td>\n",
       "      <td>0.932042</td>\n",
       "    </tr>\n",
       "  </tbody>\n",
       "</table>\n",
       "</div>"
      ],
      "text/plain": [
       "                        universe_id universe_training_year  \\\n",
       "0  1161f3d75ce60397e97a73c623a69305                   2014   \n",
       "\n",
       "  universe_training_size universe_scale    universe_model  \\\n",
       "0                     1k   do-not-scale  penalized_logreg   \n",
       "\n",
       "  universe_exclude_features universe_exclude_subgroups     q_hat  coverage  \\\n",
       "0           nationality-sex            drop-non-german  0.690902  0.909007   \n",
       "\n",
       "   avg_size  cov_frau1  cov_nongerman  cov_nongerman_male  \\\n",
       "0   1.25539   0.908721       0.947903            0.957489   \n",
       "\n",
       "   cov_nongerman_female  \n",
       "0              0.932042  "
      ]
     },
     "execution_count": 58,
     "metadata": {},
     "output_type": "execute_result"
    }
   ],
   "source": [
    "cp_metrics_df"
   ]
  },
  {
   "cell_type": "markdown",
   "id": "33774451",
   "metadata": {
    "papermill": {
     "duration": 0.024353,
     "end_time": "2025-08-05T16:10:42.585285",
     "exception": false,
     "start_time": "2025-08-05T16:10:42.560932",
     "status": "completed"
    },
    "tags": []
   },
   "source": [
    "# (Fairness) Metrics"
   ]
  },
  {
   "cell_type": "code",
   "execution_count": 59,
   "id": "debc5d62",
   "metadata": {
    "execution": {
     "iopub.execute_input": "2025-08-05T16:10:42.635387Z",
     "iopub.status.busy": "2025-08-05T16:10:42.634540Z",
     "iopub.status.idle": "2025-08-05T16:10:42.655333Z",
     "shell.execute_reply": "2025-08-05T16:10:42.654469Z"
    },
    "papermill": {
     "duration": 0.048485,
     "end_time": "2025-08-05T16:10:42.657269",
     "exception": false,
     "start_time": "2025-08-05T16:10:42.608784",
     "status": "completed"
    },
    "tags": []
   },
   "outputs": [],
   "source": [
    "# do I need to include maxdeutsch1.missing?\n",
    "\n",
    "import numpy as np\n",
    "\n",
    "colname_to_bin = \"maxdeutsch1\"\n",
    "majority_value = org_train[colname_to_bin].mode()[0]\n",
    "\n",
    "org_test[\"majmin\"] = np.where(org_test[colname_to_bin] == majority_value, \"majority\", \"minority\")"
   ]
  },
  {
   "cell_type": "code",
   "execution_count": 60,
   "id": "06a50de5",
   "metadata": {
    "execution": {
     "iopub.execute_input": "2025-08-05T16:10:42.707985Z",
     "iopub.status.busy": "2025-08-05T16:10:42.707521Z",
     "iopub.status.idle": "2025-08-05T16:10:45.498504Z",
     "shell.execute_reply": "2025-08-05T16:10:45.497573Z"
    },
    "papermill": {
     "duration": 2.819129,
     "end_time": "2025-08-05T16:10:45.500309",
     "exception": false,
     "start_time": "2025-08-05T16:10:42.681180",
     "status": "completed"
    },
    "tags": []
   },
   "outputs": [],
   "source": [
    "example_universe = universe.copy()\n",
    "example_universe[\"cutoff\"] = example_universe[\"cutoff\"][0]\n",
    "example_universe[\"eval_fairness_grouping\"] = example_universe[\"eval_fairness_grouping\"][0]\n",
    "fairness_dict, metric_frame = universe_analysis.compute_metrics(\n",
    "    example_universe,\n",
    "    y_pred_prob=probs_test,\n",
    "    y_test=y_true,\n",
    "    org_test=org_test,\n",
    ")"
   ]
  },
  {
   "cell_type": "markdown",
   "id": "f95d4e02",
   "metadata": {
    "papermill": {
     "duration": 0.022949,
     "end_time": "2025-08-05T16:10:45.549261",
     "exception": false,
     "start_time": "2025-08-05T16:10:45.526312",
     "status": "completed"
    },
    "tags": []
   },
   "source": [
    "# Overall"
   ]
  },
  {
   "cell_type": "markdown",
   "id": "bdee4871",
   "metadata": {
    "papermill": {
     "duration": 0.021353,
     "end_time": "2025-08-05T16:10:45.593271",
     "exception": false,
     "start_time": "2025-08-05T16:10:45.571918",
     "status": "completed"
    },
    "tags": []
   },
   "source": [
    "Fairness\n",
    "Main fairness target: Equalized Odds. Seems to be a better fit than equal opportunity, since we're not only interested in Y = 1. Seems to be a better fit than demographic parity, since we also care about accuracy, not just equal distribution of preds.\n",
    "\n",
    "Pick column for computation of fairness metrics\n",
    "\n",
    "Performance\n",
    "Overall performance measures, most interesting in relation to the measures split by group below"
   ]
  },
  {
   "cell_type": "code",
   "execution_count": 61,
   "id": "c4e067c6",
   "metadata": {
    "execution": {
     "iopub.execute_input": "2025-08-05T16:10:45.640027Z",
     "iopub.status.busy": "2025-08-05T16:10:45.639339Z",
     "iopub.status.idle": "2025-08-05T16:10:45.647657Z",
     "shell.execute_reply": "2025-08-05T16:10:45.646667Z"
    },
    "papermill": {
     "duration": 0.033196,
     "end_time": "2025-08-05T16:10:45.649409",
     "exception": false,
     "start_time": "2025-08-05T16:10:45.616213",
     "status": "completed"
    },
    "tags": []
   },
   "outputs": [
    {
     "data": {
      "text/plain": [
       "accuracy                   0.215773\n",
       "balanced accuracy          0.529397\n",
       "f1                         0.237341\n",
       "precision                  0.135585\n",
       "false positive rate        0.892458\n",
       "false negative rate        0.048749\n",
       "selection rate             0.900000\n",
       "count                  89710.000000\n",
       "dtype: float64"
      ]
     },
     "execution_count": 61,
     "metadata": {},
     "output_type": "execute_result"
    }
   ],
   "source": [
    "metric_frame.overall"
   ]
  },
  {
   "cell_type": "markdown",
   "id": "e968fe9d",
   "metadata": {
    "papermill": {
     "duration": 0.02243,
     "end_time": "2025-08-05T16:10:45.695422",
     "exception": false,
     "start_time": "2025-08-05T16:10:45.672992",
     "status": "completed"
    },
    "tags": []
   },
   "source": [
    "By Group"
   ]
  },
  {
   "cell_type": "code",
   "execution_count": 62,
   "id": "ec325bce",
   "metadata": {
    "execution": {
     "iopub.execute_input": "2025-08-05T16:10:45.743065Z",
     "iopub.status.busy": "2025-08-05T16:10:45.742428Z",
     "iopub.status.idle": "2025-08-05T16:10:45.757587Z",
     "shell.execute_reply": "2025-08-05T16:10:45.756543Z"
    },
    "papermill": {
     "duration": 0.040474,
     "end_time": "2025-08-05T16:10:45.759361",
     "exception": false,
     "start_time": "2025-08-05T16:10:45.718887",
     "status": "completed"
    },
    "tags": []
   },
   "outputs": [
    {
     "data": {
      "text/html": [
       "<div>\n",
       "<style scoped>\n",
       "    .dataframe tbody tr th:only-of-type {\n",
       "        vertical-align: middle;\n",
       "    }\n",
       "\n",
       "    .dataframe tbody tr th {\n",
       "        vertical-align: top;\n",
       "    }\n",
       "\n",
       "    .dataframe thead th {\n",
       "        text-align: right;\n",
       "    }\n",
       "</style>\n",
       "<table border=\"1\" class=\"dataframe\">\n",
       "  <thead>\n",
       "    <tr style=\"text-align: right;\">\n",
       "      <th></th>\n",
       "      <th>accuracy</th>\n",
       "      <th>balanced accuracy</th>\n",
       "      <th>f1</th>\n",
       "      <th>precision</th>\n",
       "      <th>false positive rate</th>\n",
       "      <th>false negative rate</th>\n",
       "      <th>selection rate</th>\n",
       "      <th>count</th>\n",
       "    </tr>\n",
       "    <tr>\n",
       "      <th>majmin</th>\n",
       "      <th></th>\n",
       "      <th></th>\n",
       "      <th></th>\n",
       "      <th></th>\n",
       "      <th></th>\n",
       "      <th></th>\n",
       "      <th></th>\n",
       "      <th></th>\n",
       "    </tr>\n",
       "  </thead>\n",
       "  <tbody>\n",
       "    <tr>\n",
       "      <th>majority</th>\n",
       "      <td>0.236634</td>\n",
       "      <td>0.536691</td>\n",
       "      <td>0.246418</td>\n",
       "      <td>0.141692</td>\n",
       "      <td>0.871148</td>\n",
       "      <td>0.055470</td>\n",
       "      <td>0.880844</td>\n",
       "      <td>69170.0</td>\n",
       "    </tr>\n",
       "    <tr>\n",
       "      <th>minority</th>\n",
       "      <td>0.145521</td>\n",
       "      <td>0.507171</td>\n",
       "      <td>0.208666</td>\n",
       "      <td>0.116804</td>\n",
       "      <td>0.962855</td>\n",
       "      <td>0.022804</td>\n",
       "      <td>0.964508</td>\n",
       "      <td>20540.0</td>\n",
       "    </tr>\n",
       "  </tbody>\n",
       "</table>\n",
       "</div>"
      ],
      "text/plain": [
       "          accuracy  balanced accuracy        f1  precision  \\\n",
       "majmin                                                       \n",
       "majority  0.236634           0.536691  0.246418   0.141692   \n",
       "minority  0.145521           0.507171  0.208666   0.116804   \n",
       "\n",
       "          false positive rate  false negative rate  selection rate    count  \n",
       "majmin                                                                       \n",
       "majority             0.871148             0.055470        0.880844  69170.0  \n",
       "minority             0.962855             0.022804        0.964508  20540.0  "
      ]
     },
     "execution_count": 62,
     "metadata": {},
     "output_type": "execute_result"
    }
   ],
   "source": [
    "metric_frame.by_group"
   ]
  },
  {
   "cell_type": "code",
   "execution_count": 63,
   "id": "a9ddbe63",
   "metadata": {
    "execution": {
     "iopub.execute_input": "2025-08-05T16:10:45.809348Z",
     "iopub.status.busy": "2025-08-05T16:10:45.808640Z",
     "iopub.status.idle": "2025-08-05T16:10:48.334673Z",
     "shell.execute_reply": "2025-08-05T16:10:48.333578Z"
    },
    "papermill": {
     "duration": 2.553273,
     "end_time": "2025-08-05T16:10:48.336566",
     "exception": false,
     "start_time": "2025-08-05T16:10:45.783293",
     "status": "completed"
    },
    "tags": []
   },
   "outputs": [
    {
     "data": {
      "text/plain": [
       "array([[<Axes: title={'center': 'accuracy'}, xlabel='majmin'>,\n",
       "        <Axes: title={'center': 'balanced accuracy'}, xlabel='majmin'>,\n",
       "        <Axes: title={'center': 'f1'}, xlabel='majmin'>],\n",
       "       [<Axes: title={'center': 'precision'}, xlabel='majmin'>,\n",
       "        <Axes: title={'center': 'false positive rate'}, xlabel='majmin'>,\n",
       "        <Axes: title={'center': 'false negative rate'}, xlabel='majmin'>],\n",
       "       [<Axes: title={'center': 'selection rate'}, xlabel='majmin'>,\n",
       "        <Axes: title={'center': 'count'}, xlabel='majmin'>,\n",
       "        <Axes: xlabel='majmin'>]], dtype=object)"
      ]
     },
     "execution_count": 63,
     "metadata": {},
     "output_type": "execute_result"
    },
    {
     "data": {
      "image/png": "[encoded data removed]",
      "text/plain": [
       "<Figure size 1200x800 with 9 Axes>"
      ]
     },
     "metadata": {},
     "output_type": "display_data"
    }
   ],
   "source": [
    "# In a graphic\n",
    "metric_frame.by_group.plot.bar(\n",
    "    subplots=True,\n",
    "    layout=[3, 3],\n",
    "    legend=False,\n",
    "    figsize=[12, 8],\n",
    "    title=\"Show all metrics\",\n",
    ")"
   ]
  },
  {
   "cell_type": "markdown",
   "id": "f57a0bac",
   "metadata": {
    "papermill": {
     "duration": 0.033851,
     "end_time": "2025-08-05T16:10:48.405432",
     "exception": false,
     "start_time": "2025-08-05T16:10:48.371581",
     "status": "completed"
    },
    "tags": []
   },
   "source": [
    "# Final Output"
   ]
  },
  {
   "cell_type": "code",
   "execution_count": 64,
   "id": "96d280a3",
   "metadata": {
    "execution": {
     "iopub.execute_input": "2025-08-05T16:10:48.478618Z",
     "iopub.status.busy": "2025-08-05T16:10:48.477620Z",
     "iopub.status.idle": "2025-08-05T16:10:48.486045Z",
     "shell.execute_reply": "2025-08-05T16:10:48.485174Z"
    },
    "papermill": {
     "duration": 0.047084,
     "end_time": "2025-08-05T16:10:48.488065",
     "exception": false,
     "start_time": "2025-08-05T16:10:48.440981",
     "status": "completed"
    },
    "tags": []
   },
   "outputs": [
    {
     "data": {
      "text/plain": [
       "4"
      ]
     },
     "execution_count": 64,
     "metadata": {},
     "output_type": "execute_result"
    }
   ],
   "source": [
    "sub_universes = universe_analysis.generate_sub_universes()\n",
    "len(sub_universes)"
   ]
  },
  {
   "cell_type": "code",
   "execution_count": 65,
   "id": "92adf7ba",
   "metadata": {
    "execution": {
     "iopub.execute_input": "2025-08-05T16:10:48.563333Z",
     "iopub.status.busy": "2025-08-05T16:10:48.562841Z",
     "iopub.status.idle": "2025-08-05T16:10:48.604377Z",
     "shell.execute_reply": "2025-08-05T16:10:48.603002Z"
    },
    "papermill": {
     "duration": 0.082063,
     "end_time": "2025-08-05T16:10:48.607266",
     "exception": false,
     "start_time": "2025-08-05T16:10:48.525203",
     "status": "completed"
    },
    "tags": []
   },
   "outputs": [],
   "source": [
    "def filter_sub_universe_data(sub_universe, org_test):\n",
    "    # Keep all rows — no filtering\n",
    "    keep_rows_mask = np.ones(org_test.shape[0], dtype=bool)\n",
    "\n",
    "    print(f\"[INFO] Keeping all rows: {keep_rows_mask.sum()} rows retained.\")\n",
    "    return keep_rows_mask"
   ]
  },
  {
   "cell_type": "code",
   "execution_count": 66,
   "id": "4a759155",
   "metadata": {
    "execution": {
     "iopub.execute_input": "2025-08-05T16:10:48.677784Z",
     "iopub.status.busy": "2025-08-05T16:10:48.677338Z",
     "iopub.status.idle": "2025-08-05T16:10:56.933497Z",
     "shell.execute_reply": "2025-08-05T16:10:56.932646Z"
    },
    "papermill": {
     "duration": 8.29185,
     "end_time": "2025-08-05T16:10:56.935765",
     "exception": false,
     "start_time": "2025-08-05T16:10:48.643915",
     "status": "completed"
    },
    "tags": []
   },
   "outputs": [
    {
     "name": "stdout",
     "output_type": "stream",
     "text": [
      "Stopping execution_time clock.\n",
      "[INFO] Keeping all rows: 89710 rows retained.\n"
     ]
    },
    {
     "name": "stdout",
     "output_type": "stream",
     "text": [
      "[INFO] Keeping all rows: 89710 rows retained.\n"
     ]
    },
    {
     "name": "stdout",
     "output_type": "stream",
     "text": [
      "[INFO] Keeping all rows: 89710 rows retained.\n"
     ]
    },
    {
     "name": "stdout",
     "output_type": "stream",
     "text": [
      "[INFO] Keeping all rows: 89710 rows retained.\n"
     ]
    },
    {
     "data": {
      "text/html": [
       "<div>\n",
       "<style scoped>\n",
       "    .dataframe tbody tr th:only-of-type {\n",
       "        vertical-align: middle;\n",
       "    }\n",
       "\n",
       "    .dataframe tbody tr th {\n",
       "        vertical-align: top;\n",
       "    }\n",
       "\n",
       "    .dataframe thead th {\n",
       "        text-align: right;\n",
       "    }\n",
       "</style>\n",
       "<table border=\"1\" class=\"dataframe\">\n",
       "  <thead>\n",
       "    <tr style=\"text-align: right;\">\n",
       "      <th></th>\n",
       "      <th>run_no</th>\n",
       "      <th>universe_id</th>\n",
       "      <th>universe_settings</th>\n",
       "      <th>execution_time</th>\n",
       "      <th>test_size_n</th>\n",
       "      <th>test_size_frac</th>\n",
       "      <th>fair_main_equalized_odds_difference</th>\n",
       "      <th>fair_main_equalized_odds_ratio</th>\n",
       "      <th>fair_main_demographic_parity_difference</th>\n",
       "      <th>fair_main_demographic_parity_ratio</th>\n",
       "      <th>...</th>\n",
       "      <th>perf_grp_precision_0</th>\n",
       "      <th>perf_grp_precision_1</th>\n",
       "      <th>perf_grp_false positive rate_0</th>\n",
       "      <th>perf_grp_false positive rate_1</th>\n",
       "      <th>perf_grp_false negative rate_0</th>\n",
       "      <th>perf_grp_false negative rate_1</th>\n",
       "      <th>perf_grp_selection rate_0</th>\n",
       "      <th>perf_grp_selection rate_1</th>\n",
       "      <th>perf_grp_count_0</th>\n",
       "      <th>perf_grp_count_1</th>\n",
       "    </tr>\n",
       "  </thead>\n",
       "  <tbody>\n",
       "    <tr>\n",
       "      <th>0</th>\n",
       "      <td>15</td>\n",
       "      <td>1161f3d75ce60397e97a73c623a69305</td>\n",
       "      <td>{\"cutoff\": \"quantile_0.1\", \"eval_fairness_grou...</td>\n",
       "      <td>24.412128</td>\n",
       "      <td>89710</td>\n",
       "      <td>1.0</td>\n",
       "      <td>0.091707</td>\n",
       "      <td>0.904755</td>\n",
       "      <td>0.083664</td>\n",
       "      <td>0.913257</td>\n",
       "      <td>...</td>\n",
       "      <td>NaN</td>\n",
       "      <td>NaN</td>\n",
       "      <td>NaN</td>\n",
       "      <td>NaN</td>\n",
       "      <td>NaN</td>\n",
       "      <td>NaN</td>\n",
       "      <td>NaN</td>\n",
       "      <td>NaN</td>\n",
       "      <td>NaN</td>\n",
       "      <td>NaN</td>\n",
       "    </tr>\n",
       "    <tr>\n",
       "      <th>0</th>\n",
       "      <td>15</td>\n",
       "      <td>1161f3d75ce60397e97a73c623a69305</td>\n",
       "      <td>{\"cutoff\": \"quantile_0.1\", \"eval_fairness_grou...</td>\n",
       "      <td>24.412128</td>\n",
       "      <td>89710</td>\n",
       "      <td>1.0</td>\n",
       "      <td>0.091707</td>\n",
       "      <td>0.904755</td>\n",
       "      <td>0.083664</td>\n",
       "      <td>0.913257</td>\n",
       "      <td>...</td>\n",
       "      <td>0.116804</td>\n",
       "      <td>0.141692</td>\n",
       "      <td>0.962855</td>\n",
       "      <td>0.871148</td>\n",
       "      <td>0.022804</td>\n",
       "      <td>0.055470</td>\n",
       "      <td>0.964508</td>\n",
       "      <td>0.880844</td>\n",
       "      <td>20540.0</td>\n",
       "      <td>69170.0</td>\n",
       "    </tr>\n",
       "    <tr>\n",
       "      <th>0</th>\n",
       "      <td>15</td>\n",
       "      <td>1161f3d75ce60397e97a73c623a69305</td>\n",
       "      <td>{\"cutoff\": \"quantile_0.25\", \"eval_fairness_gro...</td>\n",
       "      <td>24.412128</td>\n",
       "      <td>89710</td>\n",
       "      <td>1.0</td>\n",
       "      <td>0.215141</td>\n",
       "      <td>0.760825</td>\n",
       "      <td>0.198275</td>\n",
       "      <td>0.780395</td>\n",
       "      <td>...</td>\n",
       "      <td>NaN</td>\n",
       "      <td>NaN</td>\n",
       "      <td>NaN</td>\n",
       "      <td>NaN</td>\n",
       "      <td>NaN</td>\n",
       "      <td>NaN</td>\n",
       "      <td>NaN</td>\n",
       "      <td>NaN</td>\n",
       "      <td>NaN</td>\n",
       "      <td>NaN</td>\n",
       "    </tr>\n",
       "    <tr>\n",
       "      <th>0</th>\n",
       "      <td>15</td>\n",
       "      <td>1161f3d75ce60397e97a73c623a69305</td>\n",
       "      <td>{\"cutoff\": \"quantile_0.25\", \"eval_fairness_gro...</td>\n",
       "      <td>24.412128</td>\n",
       "      <td>89710</td>\n",
       "      <td>1.0</td>\n",
       "      <td>0.215141</td>\n",
       "      <td>0.760825</td>\n",
       "      <td>0.198275</td>\n",
       "      <td>0.780395</td>\n",
       "      <td>...</td>\n",
       "      <td>0.118576</td>\n",
       "      <td>0.157047</td>\n",
       "      <td>0.899516</td>\n",
       "      <td>0.684374</td>\n",
       "      <td>0.071368</td>\n",
       "      <td>0.162582</td>\n",
       "      <td>0.902872</td>\n",
       "      <td>0.704597</td>\n",
       "      <td>20540.0</td>\n",
       "      <td>69170.0</td>\n",
       "    </tr>\n",
       "  </tbody>\n",
       "</table>\n",
       "<p>4 rows × 50 columns</p>\n",
       "</div>"
      ],
      "text/plain": [
       "  run_no                       universe_id  \\\n",
       "0     15  1161f3d75ce60397e97a73c623a69305   \n",
       "0     15  1161f3d75ce60397e97a73c623a69305   \n",
       "0     15  1161f3d75ce60397e97a73c623a69305   \n",
       "0     15  1161f3d75ce60397e97a73c623a69305   \n",
       "\n",
       "                                   universe_settings  execution_time  \\\n",
       "0  {\"cutoff\": \"quantile_0.1\", \"eval_fairness_grou...       24.412128   \n",
       "0  {\"cutoff\": \"quantile_0.1\", \"eval_fairness_grou...       24.412128   \n",
       "0  {\"cutoff\": \"quantile_0.25\", \"eval_fairness_gro...       24.412128   \n",
       "0  {\"cutoff\": \"quantile_0.25\", \"eval_fairness_gro...       24.412128   \n",
       "\n",
       "   test_size_n  test_size_frac  fair_main_equalized_odds_difference  \\\n",
       "0        89710             1.0                             0.091707   \n",
       "0        89710             1.0                             0.091707   \n",
       "0        89710             1.0                             0.215141   \n",
       "0        89710             1.0                             0.215141   \n",
       "\n",
       "   fair_main_equalized_odds_ratio  fair_main_demographic_parity_difference  \\\n",
       "0                        0.904755                                 0.083664   \n",
       "0                        0.904755                                 0.083664   \n",
       "0                        0.760825                                 0.198275   \n",
       "0                        0.760825                                 0.198275   \n",
       "\n",
       "   fair_main_demographic_parity_ratio  ...  perf_grp_precision_0  \\\n",
       "0                            0.913257  ...                   NaN   \n",
       "0                            0.913257  ...              0.116804   \n",
       "0                            0.780395  ...                   NaN   \n",
       "0                            0.780395  ...              0.118576   \n",
       "\n",
       "   perf_grp_precision_1  perf_grp_false positive rate_0  \\\n",
       "0                   NaN                             NaN   \n",
       "0              0.141692                        0.962855   \n",
       "0                   NaN                             NaN   \n",
       "0              0.157047                        0.899516   \n",
       "\n",
       "   perf_grp_false positive rate_1  perf_grp_false negative rate_0  \\\n",
       "0                             NaN                             NaN   \n",
       "0                        0.871148                        0.022804   \n",
       "0                             NaN                             NaN   \n",
       "0                        0.684374                        0.071368   \n",
       "\n",
       "   perf_grp_false negative rate_1  perf_grp_selection rate_0  \\\n",
       "0                             NaN                        NaN   \n",
       "0                        0.055470                   0.964508   \n",
       "0                             NaN                        NaN   \n",
       "0                        0.162582                   0.902872   \n",
       "\n",
       "   perf_grp_selection rate_1  perf_grp_count_0  perf_grp_count_1  \n",
       "0                        NaN               NaN               NaN  \n",
       "0                   0.880844           20540.0           69170.0  \n",
       "0                        NaN               NaN               NaN  \n",
       "0                   0.704597           20540.0           69170.0  \n",
       "\n",
       "[4 rows x 50 columns]"
      ]
     },
     "execution_count": 66,
     "metadata": {},
     "output_type": "execute_result"
    }
   ],
   "source": [
    "final_output = universe_analysis.generate_final_output(\n",
    "    y_pred_prob=probs_test,\n",
    "    y_test=y_true,\n",
    "    org_test=org_test,\n",
    "    filter_data=filter_sub_universe_data,\n",
    "    cp_metrics_df=cp_metrics_df,\n",
    "    save=True,\n",
    ")\n",
    "final_output"
   ]
  }
 ],
 "metadata": {
  "celltoolbar": "Tags",
  "kernelspec": {
   "display_name": "Python (CMA Fairness)",
   "language": "python",
   "name": "cma_fair_env"
  },
  "language_info": {
   "codemirror_mode": {
    "name": "ipython",
    "version": 3
   },
   "file_extension": ".py",
   "mimetype": "text/x-python",
   "name": "python",
   "nbconvert_exporter": "python",
   "pygments_lexer": "ipython3",
   "version": "3.10.12"
  },
  "papermill": {
   "default_parameters": {},
   "duration": 36.955664,
   "end_time": "2025-08-05T16:10:57.801839",
   "environment_variables": {},
   "exception": null,
   "input_path": "universe_analysis.ipynb",
   "output_path": "output/runs/15/notebooks/m_15-1161f3d75ce60397e97a73c623a69305.ipynb",
   "parameters": {
    "output_dir": "output",
    "run_no": "15",
    "seed": "2023",
    "universe": "{\"cutoff\": [\"quantile_0.1\", \"quantile_0.25\"], \"eval_fairness_grouping\": [\"majority-minority\", \"nationality-all\"], \"exclude_features\": \"nationality-sex\", \"exclude_subgroups\": \"drop-non-german\", \"model\": \"penalized_logreg\", \"scale\": \"do-not-scale\", \"training_size\": \"1k\", \"training_year\": \"2014\"}",
    "universe_id": "1161f3d75ce60397e97a73c623a69305"
   },
   "start_time": "2025-08-05T16:10:20.846175",
   "version": "2.6.0"
  }
 },
 "nbformat": 4,
 "nbformat_minor": 5
}