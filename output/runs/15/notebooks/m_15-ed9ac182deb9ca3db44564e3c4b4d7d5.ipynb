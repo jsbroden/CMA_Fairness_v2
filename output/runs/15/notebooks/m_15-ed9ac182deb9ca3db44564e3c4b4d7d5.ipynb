{
 "cells": [
  {
   "cell_type": "code",
   "execution_count": 1,
   "id": "f159f837-637b-42ba-96b5-ec9a68c44524",
   "metadata": {
    "execution": {
     "iopub.execute_input": "2025-08-05T14:40:29.892308Z",
     "iopub.status.busy": "2025-08-05T14:40:29.891503Z",
     "iopub.status.idle": "2025-08-05T14:40:29.905706Z",
     "shell.execute_reply": "2025-08-05T14:40:29.904509Z"
    },
    "papermill": {
     "duration": 0.033838,
     "end_time": "2025-08-05T14:40:29.907419",
     "exception": false,
     "start_time": "2025-08-05T14:40:29.873581",
     "status": "completed"
    },
    "tags": []
   },
   "outputs": [
    {
     "name": "stdout",
     "output_type": "stream",
     "text": [
      "/dss/dsshome1/0C/ra93lal2/cma/CMA_Fairness_v2\n"
     ]
    },
    {
     "name": "stderr",
     "output_type": "stream",
     "text": [
      "/dss/dsshome1/0C/ra93lal2/.local/share/virtualenvs/CMA_Fairness_v2-3j10GkSs/lib/python3.10/site-packages/IPython/core/magics/osm.py:393: UserWarning: This is now an optional IPython functionality, using bookmarks requires you to install the `pickleshare` library.\n",
      "  bkms = self.shell.db.get('bookmarks', {})\n",
      "/dss/dsshome1/0C/ra93lal2/.local/share/virtualenvs/CMA_Fairness_v2-3j10GkSs/lib/python3.10/site-packages/IPython/core/magics/osm.py:417: UserWarning: This is now an optional IPython functionality, setting dhist requires you to install the `pickleshare` library.\n",
      "  self.shell.db['dhist'] = compress_dhist(dhist)[-100:]\n"
     ]
    }
   ],
   "source": [
    "%cd ~/cma/CMA_Fairness_v2"
   ]
  },
  {
   "cell_type": "markdown",
   "id": "de2603b9",
   "metadata": {
    "papermill": {
     "duration": 0.016481,
     "end_time": "2025-08-05T14:40:29.940969",
     "exception": false,
     "start_time": "2025-08-05T14:40:29.924488",
     "status": "completed"
    },
    "tags": []
   },
   "source": [
    "The following cell holds the definition of our parameters, these values can be overriden by rendering the with e.g. the following command:\n",
    "\n",
    "papermill -p alpha 0.2 -p ratio 0.3 universe_analysis.ipynb output/test_run.ipynb"
   ]
  },
  {
   "cell_type": "code",
   "execution_count": 2,
   "id": "a80968a0-40bb-4fa9-85ef-2d5eefb01975",
   "metadata": {
    "execution": {
     "iopub.execute_input": "2025-08-05T14:40:29.977791Z",
     "iopub.status.busy": "2025-08-05T14:40:29.976927Z",
     "iopub.status.idle": "2025-08-05T14:40:29.982663Z",
     "shell.execute_reply": "2025-08-05T14:40:29.981710Z"
    },
    "papermill": {
     "duration": 0.025867,
     "end_time": "2025-08-05T14:40:29.984399",
     "exception": false,
     "start_time": "2025-08-05T14:40:29.958532",
     "status": "completed"
    },
    "tags": []
   },
   "outputs": [
    {
     "name": "stdout",
     "output_type": "stream",
     "text": [
      "Current working directory: /dss/dsshome1/0C/ra93lal2/cma/CMA_Fairness_v2\n"
     ]
    }
   ],
   "source": [
    "import os\n",
    "print(\"Current working directory:\", os.getcwd())"
   ]
  },
  {
   "cell_type": "code",
   "execution_count": 3,
   "id": "2dce4c03",
   "metadata": {
    "execution": {
     "iopub.execute_input": "2025-08-05T14:40:30.025683Z",
     "iopub.status.busy": "2025-08-05T14:40:30.024910Z",
     "iopub.status.idle": "2025-08-05T14:40:30.031459Z",
     "shell.execute_reply": "2025-08-05T14:40:30.030322Z"
    },
    "papermill": {
     "duration": 0.028316,
     "end_time": "2025-08-05T14:40:30.033192",
     "exception": false,
     "start_time": "2025-08-05T14:40:30.004876",
     "status": "completed"
    },
    "tags": [
     "parameters"
    ]
   },
   "outputs": [],
   "source": [
    "run_no = 0\n",
    "universe_id = \"test\"\n",
    "universe = {\n",
    "    \"training_size\": \"25k\", # \"25k\", \"5k\", \"1k\"\n",
    "    \"training_year\": \"2014\", # \"2014\", \"2012_14\", \"2010_14\"\n",
    "    \"scale\": \"scale\", # \"scale\", \"do-not-scale\",\n",
    "    \"model\": \"elasticnet\", # \"logreg\", \"penalized_logreg\", \"rf\", \"gbm\", \"elasticnet\"\n",
    "    \"cutoff\": [\"quantile_0.15\", \"quantile_0.30\"],\n",
    "    \"exclude_features\": \"age\", # \"none\", \"nationality\", \"sex\", \"nationality-sex\", \"age\"\n",
    "    \"exclude_subgroups\": \"keep-all\", # \"keep-all\", \"drop-non-german\"\n",
    "    \"eval_fairness_grouping\": [\"majority-minority\", \"nationality-all\"]\n",
    "}\n",
    "\n",
    "output_dir=\"./output\"\n",
    "seed=0"
   ]
  },
  {
   "cell_type": "code",
   "execution_count": 4,
   "id": "7e69e029",
   "metadata": {
    "execution": {
     "iopub.execute_input": "2025-08-05T14:40:30.070108Z",
     "iopub.status.busy": "2025-08-05T14:40:30.069765Z",
     "iopub.status.idle": "2025-08-05T14:40:30.074469Z",
     "shell.execute_reply": "2025-08-05T14:40:30.073333Z"
    },
    "papermill": {
     "duration": 0.025238,
     "end_time": "2025-08-05T14:40:30.076439",
     "exception": false,
     "start_time": "2025-08-05T14:40:30.051201",
     "status": "completed"
    },
    "tags": [
     "injected-parameters"
    ]
   },
   "outputs": [],
   "source": [
    "# Parameters\n",
    "universe_id = \"ed9ac182deb9ca3db44564e3c4b4d7d5\"\n",
    "run_no = \"15\"\n",
    "universe = \"{\\\"cutoff\\\": [\\\"quantile_0.1\\\", \\\"quantile_0.25\\\"], \\\"eval_fairness_grouping\\\": [\\\"majority-minority\\\", \\\"nationality-all\\\"], \\\"exclude_features\\\": \\\"sex\\\", \\\"exclude_subgroups\\\": \\\"drop-non-german\\\", \\\"model\\\": \\\"logreg\\\", \\\"scale\\\": \\\"do-not-scale\\\", \\\"training_size\\\": \\\"25k\\\", \\\"training_year\\\": \\\"2014\\\"}\"\n",
    "output_dir = \"output\"\n",
    "seed = \"2023\"\n"
   ]
  },
  {
   "cell_type": "code",
   "execution_count": 5,
   "id": "1650acaf",
   "metadata": {
    "execution": {
     "iopub.execute_input": "2025-08-05T14:40:30.113703Z",
     "iopub.status.busy": "2025-08-05T14:40:30.113038Z",
     "iopub.status.idle": "2025-08-05T14:40:30.118147Z",
     "shell.execute_reply": "2025-08-05T14:40:30.117016Z"
    },
    "papermill": {
     "duration": 0.025076,
     "end_time": "2025-08-05T14:40:30.119779",
     "exception": false,
     "start_time": "2025-08-05T14:40:30.094703",
     "status": "completed"
    },
    "tags": []
   },
   "outputs": [],
   "source": [
    "import json\n",
    "if isinstance(universe, str):\n",
    "    universe = json.loads(universe)"
   ]
  },
  {
   "cell_type": "code",
   "execution_count": 6,
   "id": "16620c48",
   "metadata": {
    "execution": {
     "iopub.execute_input": "2025-08-05T14:40:30.155887Z",
     "iopub.status.busy": "2025-08-05T14:40:30.155568Z",
     "iopub.status.idle": "2025-08-05T14:40:30.199189Z",
     "shell.execute_reply": "2025-08-05T14:40:30.198337Z"
    },
    "papermill": {
     "duration": 0.063794,
     "end_time": "2025-08-05T14:40:30.200732",
     "exception": false,
     "start_time": "2025-08-05T14:40:30.136938",
     "status": "completed"
    },
    "tags": []
   },
   "outputs": [],
   "source": [
    "# Auto-reload the custom package\n",
    "%load_ext autoreload\n",
    "%autoreload 1\n",
    "%aimport fairness_multiverse"
   ]
  },
  {
   "cell_type": "code",
   "execution_count": 7,
   "id": "01c5c9f3",
   "metadata": {
    "execution": {
     "iopub.execute_input": "2025-08-05T14:40:30.238953Z",
     "iopub.status.busy": "2025-08-05T14:40:30.238623Z",
     "iopub.status.idle": "2025-08-05T14:40:31.979497Z",
     "shell.execute_reply": "2025-08-05T14:40:31.978755Z"
    },
    "papermill": {
     "duration": 1.763149,
     "end_time": "2025-08-05T14:40:31.980910",
     "exception": false,
     "start_time": "2025-08-05T14:40:30.217761",
     "status": "completed"
    },
    "tags": []
   },
   "outputs": [],
   "source": [
    "from fairness_multiverse.universe import UniverseAnalysis\n",
    "\n",
    "universe_analysis = UniverseAnalysis(\n",
    "    run_no = run_no,\n",
    "    universe_id = universe_id,\n",
    "    universe = universe,\n",
    "    output_dir=output_dir,\n",
    ")"
   ]
  },
  {
   "cell_type": "code",
   "execution_count": 8,
   "id": "106241f5",
   "metadata": {
    "execution": {
     "iopub.execute_input": "2025-08-05T14:40:31.999867Z",
     "iopub.status.busy": "2025-08-05T14:40:31.999374Z",
     "iopub.status.idle": "2025-08-05T14:40:32.004847Z",
     "shell.execute_reply": "2025-08-05T14:40:32.003982Z"
    },
    "papermill": {
     "duration": 0.016224,
     "end_time": "2025-08-05T14:40:32.006291",
     "exception": false,
     "start_time": "2025-08-05T14:40:31.990067",
     "status": "completed"
    },
    "tags": []
   },
   "outputs": [
    {
     "name": "stdout",
     "output_type": "stream",
     "text": [
      "Using Seed: 2023\n"
     ]
    }
   ],
   "source": [
    "import numpy as np\n",
    "parsed_seed = int(seed)\n",
    "np.random.seed(parsed_seed)\n",
    "print(f\"Using Seed: {parsed_seed}\")"
   ]
  },
  {
   "cell_type": "markdown",
   "id": "e0ebdc57",
   "metadata": {
    "papermill": {
     "duration": 0.008798,
     "end_time": "2025-08-05T14:40:32.024701",
     "exception": false,
     "start_time": "2025-08-05T14:40:32.015903",
     "status": "completed"
    },
    "tags": []
   },
   "source": [
    "# Loading Data"
   ]
  },
  {
   "cell_type": "markdown",
   "id": "681925a3",
   "metadata": {
    "papermill": {
     "duration": 0.008832,
     "end_time": "2025-08-05T14:40:32.042137",
     "exception": false,
     "start_time": "2025-08-05T14:40:32.033305",
     "status": "completed"
    },
    "tags": []
   },
   "source": [
    "Load siab_train, siab_test, siab_calib and/or \n",
    "load siab_train_features, siab_train_labels"
   ]
  },
  {
   "cell_type": "code",
   "execution_count": 9,
   "id": "f0496b8a",
   "metadata": {
    "execution": {
     "iopub.execute_input": "2025-08-05T14:40:32.100074Z",
     "iopub.status.busy": "2025-08-05T14:40:32.099716Z",
     "iopub.status.idle": "2025-08-05T14:40:41.449156Z",
     "shell.execute_reply": "2025-08-05T14:40:41.447839Z"
    },
    "papermill": {
     "duration": 9.360806,
     "end_time": "2025-08-05T14:40:41.450875",
     "exception": false,
     "start_time": "2025-08-05T14:40:32.090069",
     "status": "completed"
    },
    "tags": []
   },
   "outputs": [
    {
     "name": "stdout",
     "output_type": "stream",
     "text": [
      "Loading SIAB data from cache: data/siab_cached.csv.gz\n"
     ]
    },
    {
     "name": "stdout",
     "output_type": "stream",
     "text": [
      "(643690, 164)\n"
     ]
    }
   ],
   "source": [
    "from pathlib import Path\n",
    "import pandas as pd\n",
    "\n",
    "# File paths\n",
    "raw_file = Path(\"data/raw/siab.csv\")\n",
    "cache_file = Path(\"data/siab_cached.csv.gz\")\n",
    "\n",
    "# Ensure cache directory exists\n",
    "cache_file.parent.mkdir(parents=True, exist_ok=True)\n",
    "\n",
    "# Load with simple caching\n",
    "if cache_file.exists():\n",
    "    print(f\"Loading SIAB data from cache: {cache_file}\")\n",
    "    siab = pd.read_csv(cache_file, compression='gzip')\n",
    "else:\n",
    "    print(f\"Cache not found. Reading raw SIAB data: {raw_file}\")\n",
    "    siab = pd.read_csv(raw_file)\n",
    "    siab.to_csv(cache_file, index=False, compression='gzip')\n",
    "    print(f\"Cached SIAB data to: {cache_file}\")\n",
    "\n",
    "print(siab.shape)"
   ]
  },
  {
   "cell_type": "code",
   "execution_count": 10,
   "id": "db0ca512-5f53-4dba-abdb-a2888bca41ba",
   "metadata": {
    "execution": {
     "iopub.execute_input": "2025-08-05T14:40:41.494156Z",
     "iopub.status.busy": "2025-08-05T14:40:41.493834Z",
     "iopub.status.idle": "2025-08-05T14:40:41.497996Z",
     "shell.execute_reply": "2025-08-05T14:40:41.497089Z"
    },
    "papermill": {
     "duration": 0.025319,
     "end_time": "2025-08-05T14:40:41.499402",
     "exception": false,
     "start_time": "2025-08-05T14:40:41.474083",
     "status": "completed"
    },
    "tags": []
   },
   "outputs": [],
   "source": [
    "#siab"
   ]
  },
  {
   "cell_type": "markdown",
   "id": "997051c5-15bd-4b69-9786-c3001a3ce484",
   "metadata": {
    "papermill": {
     "duration": 0.019317,
     "end_time": "2025-08-05T14:40:41.529038",
     "exception": false,
     "start_time": "2025-08-05T14:40:41.509721",
     "status": "completed"
    },
    "tags": []
   },
   "source": [
    "# Splitting Data and Setting Training Data Size"
   ]
  },
  {
   "cell_type": "code",
   "execution_count": 11,
   "id": "aea9c6ef-6f46-42c8-85eb-5a62025c1508",
   "metadata": {
    "execution": {
     "iopub.execute_input": "2025-08-05T14:40:41.570545Z",
     "iopub.status.busy": "2025-08-05T14:40:41.569668Z",
     "iopub.status.idle": "2025-08-05T14:40:41.849359Z",
     "shell.execute_reply": "2025-08-05T14:40:41.848302Z"
    },
    "papermill": {
     "duration": 0.302995,
     "end_time": "2025-08-05T14:40:41.851313",
     "exception": false,
     "start_time": "2025-08-05T14:40:41.548318",
     "status": "completed"
    },
    "tags": []
   },
   "outputs": [],
   "source": [
    "from fairness_multiverse.universe import sample_by_year_size\n",
    "\n",
    "siab_train = sample_by_year_size(siab,\n",
    "                               training_year=universe[\"training_year\"],\n",
    "                               training_size=universe[\"training_size\"])"
   ]
  },
  {
   "cell_type": "code",
   "execution_count": 12,
   "id": "8d3afb32-789d-442c-8d5d-9f5aa8dd2eed",
   "metadata": {
    "execution": {
     "iopub.execute_input": "2025-08-05T14:40:41.892853Z",
     "iopub.status.busy": "2025-08-05T14:40:41.892497Z",
     "iopub.status.idle": "2025-08-05T14:40:41.897183Z",
     "shell.execute_reply": "2025-08-05T14:40:41.896368Z"
    },
    "papermill": {
     "duration": 0.026085,
     "end_time": "2025-08-05T14:40:41.898828",
     "exception": false,
     "start_time": "2025-08-05T14:40:41.872743",
     "status": "completed"
    },
    "tags": []
   },
   "outputs": [],
   "source": [
    "#siab_train.shape"
   ]
  },
  {
   "cell_type": "code",
   "execution_count": 13,
   "id": "d582db68-1a4c-47fb-84fc-08518dc1975a",
   "metadata": {
    "execution": {
     "iopub.execute_input": "2025-08-05T14:40:41.936663Z",
     "iopub.status.busy": "2025-08-05T14:40:41.936157Z",
     "iopub.status.idle": "2025-08-05T14:40:41.941589Z",
     "shell.execute_reply": "2025-08-05T14:40:41.940465Z"
    },
    "papermill": {
     "duration": 0.025914,
     "end_time": "2025-08-05T14:40:41.943346",
     "exception": false,
     "start_time": "2025-08-05T14:40:41.917432",
     "status": "completed"
    },
    "tags": []
   },
   "outputs": [],
   "source": [
    "#display(siab_train.groupby(\"year\").size())"
   ]
  },
  {
   "cell_type": "code",
   "execution_count": 14,
   "id": "a561edb4-d032-42cb-8256-22eac1111c64",
   "metadata": {
    "execution": {
     "iopub.execute_input": "2025-08-05T14:40:41.979040Z",
     "iopub.status.busy": "2025-08-05T14:40:41.978682Z",
     "iopub.status.idle": "2025-08-05T14:40:42.184411Z",
     "shell.execute_reply": "2025-08-05T14:40:42.183329Z"
    },
    "papermill": {
     "duration": 0.226108,
     "end_time": "2025-08-05T14:40:42.186765",
     "exception": false,
     "start_time": "2025-08-05T14:40:41.960657",
     "status": "completed"
    },
    "tags": []
   },
   "outputs": [],
   "source": [
    "#siab_train = siab_s[siab_s.year < 2015]\n",
    "siab_calib = siab[siab.year == 2015]\n",
    "siab_test = siab[siab.year == 2016]"
   ]
  },
  {
   "cell_type": "code",
   "execution_count": 15,
   "id": "472de16f-c3db-4916-846b-1f0de9cf1746",
   "metadata": {
    "execution": {
     "iopub.execute_input": "2025-08-05T14:40:42.208120Z",
     "iopub.status.busy": "2025-08-05T14:40:42.207822Z",
     "iopub.status.idle": "2025-08-05T14:40:42.229260Z",
     "shell.execute_reply": "2025-08-05T14:40:42.228364Z"
    },
    "papermill": {
     "duration": 0.032974,
     "end_time": "2025-08-05T14:40:42.230857",
     "exception": false,
     "start_time": "2025-08-05T14:40:42.197883",
     "status": "completed"
    },
    "tags": []
   },
   "outputs": [],
   "source": [
    "X_train = siab_train.iloc[:,4:164]\n",
    "y_train = siab_train.iloc[:, [3]]"
   ]
  },
  {
   "cell_type": "code",
   "execution_count": 16,
   "id": "828c96af-f43a-4ed6-ba47-8ac73a47d56c",
   "metadata": {
    "execution": {
     "iopub.execute_input": "2025-08-05T14:40:42.252190Z",
     "iopub.status.busy": "2025-08-05T14:40:42.251826Z",
     "iopub.status.idle": "2025-08-05T14:40:42.306720Z",
     "shell.execute_reply": "2025-08-05T14:40:42.305737Z"
    },
    "papermill": {
     "duration": 0.066749,
     "end_time": "2025-08-05T14:40:42.308311",
     "exception": false,
     "start_time": "2025-08-05T14:40:42.241562",
     "status": "completed"
    },
    "tags": []
   },
   "outputs": [],
   "source": [
    "X_calib = siab_calib.iloc[:,4:164]\n",
    "y_calib = siab_calib.iloc[:, [3]]"
   ]
  },
  {
   "cell_type": "code",
   "execution_count": 17,
   "id": "c34be9c3-6bd6-476e-acd3-845840e303be",
   "metadata": {
    "execution": {
     "iopub.execute_input": "2025-08-05T14:40:42.332465Z",
     "iopub.status.busy": "2025-08-05T14:40:42.332111Z",
     "iopub.status.idle": "2025-08-05T14:40:42.382655Z",
     "shell.execute_reply": "2025-08-05T14:40:42.381467Z"
    },
    "papermill": {
     "duration": 0.064805,
     "end_time": "2025-08-05T14:40:42.384070",
     "exception": false,
     "start_time": "2025-08-05T14:40:42.319265",
     "status": "completed"
    },
    "tags": []
   },
   "outputs": [],
   "source": [
    "X_test = siab_test.iloc[:,4:164]\n",
    "y_true = siab_test.iloc[:, [3]]"
   ]
  },
  {
   "cell_type": "code",
   "execution_count": 18,
   "id": "e6c733c5",
   "metadata": {
    "execution": {
     "iopub.execute_input": "2025-08-05T14:40:42.419767Z",
     "iopub.status.busy": "2025-08-05T14:40:42.419423Z",
     "iopub.status.idle": "2025-08-05T14:40:42.516850Z",
     "shell.execute_reply": "2025-08-05T14:40:42.516096Z"
    },
    "papermill": {
     "duration": 0.113532,
     "end_time": "2025-08-05T14:40:42.518322",
     "exception": false,
     "start_time": "2025-08-05T14:40:42.404790",
     "status": "completed"
    },
    "tags": []
   },
   "outputs": [],
   "source": [
    "# Auxiliary data needed downstream in the pipeline\n",
    "\n",
    "org_train = X_train.copy()\n",
    "org_test = X_test.copy()\n",
    "org_calib = X_calib.copy()"
   ]
  },
  {
   "cell_type": "markdown",
   "id": "0a4a1b33",
   "metadata": {
    "papermill": {
     "duration": 0.009287,
     "end_time": "2025-08-05T14:40:42.537679",
     "exception": false,
     "start_time": "2025-08-05T14:40:42.528392",
     "status": "completed"
    },
    "tags": []
   },
   "source": [
    "# Preprocessing Data"
   ]
  },
  {
   "cell_type": "code",
   "execution_count": 19,
   "id": "ca879031",
   "metadata": {
    "execution": {
     "iopub.execute_input": "2025-08-05T14:40:42.558453Z",
     "iopub.status.busy": "2025-08-05T14:40:42.557622Z",
     "iopub.status.idle": "2025-08-05T14:40:42.564066Z",
     "shell.execute_reply": "2025-08-05T14:40:42.563039Z"
    },
    "papermill": {
     "duration": 0.019144,
     "end_time": "2025-08-05T14:40:42.566113",
     "exception": false,
     "start_time": "2025-08-05T14:40:42.546969",
     "status": "completed"
    },
    "tags": []
   },
   "outputs": [],
   "source": [
    "# EXCLUDE PROTECTED FEATURES\n",
    "# ----------------------\n",
    "# \"exclude_features\": \"none\", # \"nationality\", \"sex\", \"nationality-sex\"\n",
    "\n",
    "excluded_features = universe[\"exclude_features\"].split(\"-\") # split, e.g.: \"nationality-sex\" -> [\"nationality\", \"sex\"]\n",
    "excluded_features_dictionary = {\n",
    "    \"nationality\": [\"maxdeutsch1\", \"maxdeutsch.Missing.\"],\n",
    "    \"sex\": [\"frau1\"],\n",
    "    \"age\": [\"age\"],\n",
    "}"
   ]
  },
  {
   "cell_type": "code",
   "execution_count": 20,
   "id": "b745ac60",
   "metadata": {
    "execution": {
     "iopub.execute_input": "2025-08-05T14:40:42.595242Z",
     "iopub.status.busy": "2025-08-05T14:40:42.594908Z",
     "iopub.status.idle": "2025-08-05T14:40:42.600046Z",
     "shell.execute_reply": "2025-08-05T14:40:42.599130Z"
    },
    "papermill": {
     "duration": 0.01687,
     "end_time": "2025-08-05T14:40:42.601438",
     "exception": false,
     "start_time": "2025-08-05T14:40:42.584568",
     "status": "completed"
    },
    "tags": []
   },
   "outputs": [],
   "source": [
    "# Code nice names to column names\n",
    "\n",
    "excluded_features_columns = [\n",
    "    excluded_features_dictionary[f] for f in excluded_features if len(f) > 0 and f != \"none\"\n",
    "]"
   ]
  },
  {
   "cell_type": "code",
   "execution_count": 21,
   "id": "f84f73a2",
   "metadata": {
    "execution": {
     "iopub.execute_input": "2025-08-05T14:40:42.622731Z",
     "iopub.status.busy": "2025-08-05T14:40:42.622351Z",
     "iopub.status.idle": "2025-08-05T14:40:42.631635Z",
     "shell.execute_reply": "2025-08-05T14:40:42.630713Z"
    },
    "papermill": {
     "duration": 0.022106,
     "end_time": "2025-08-05T14:40:42.633419",
     "exception": false,
     "start_time": "2025-08-05T14:40:42.611313",
     "status": "completed"
    },
    "tags": []
   },
   "outputs": [],
   "source": [
    "from utils import flatten_once\n",
    "\n",
    "excluded_features_columns = flatten_once(excluded_features_columns)"
   ]
  },
  {
   "cell_type": "code",
   "execution_count": 22,
   "id": "884dea22",
   "metadata": {
    "execution": {
     "iopub.execute_input": "2025-08-05T14:40:42.672930Z",
     "iopub.status.busy": "2025-08-05T14:40:42.672396Z",
     "iopub.status.idle": "2025-08-05T14:40:42.691907Z",
     "shell.execute_reply": "2025-08-05T14:40:42.690741Z"
    },
    "papermill": {
     "duration": 0.041481,
     "end_time": "2025-08-05T14:40:42.693793",
     "exception": false,
     "start_time": "2025-08-05T14:40:42.652312",
     "status": "completed"
    },
    "tags": []
   },
   "outputs": [
    {
     "name": "stdout",
     "output_type": "stream",
     "text": [
      "Dropping features: ['frau1']\n"
     ]
    }
   ],
   "source": [
    "if len(excluded_features_columns) > 0:\n",
    "    print(f\"Dropping features: {excluded_features_columns}\")\n",
    "    X_train.drop(excluded_features_columns, axis=1, inplace=True)"
   ]
  },
  {
   "cell_type": "code",
   "execution_count": 23,
   "id": "95ab8b16",
   "metadata": {
    "execution": {
     "iopub.execute_input": "2025-08-05T14:40:42.734943Z",
     "iopub.status.busy": "2025-08-05T14:40:42.734211Z",
     "iopub.status.idle": "2025-08-05T14:40:42.792351Z",
     "shell.execute_reply": "2025-08-05T14:40:42.791189Z"
    },
    "papermill": {
     "duration": 0.079925,
     "end_time": "2025-08-05T14:40:42.794084",
     "exception": false,
     "start_time": "2025-08-05T14:40:42.714159",
     "status": "completed"
    },
    "tags": []
   },
   "outputs": [
    {
     "name": "stdout",
     "output_type": "stream",
     "text": [
      "Dropping features: ['frau1']\n"
     ]
    }
   ],
   "source": [
    "if len(excluded_features_columns) > 0:\n",
    "    print(f\"Dropping features: {excluded_features_columns}\")\n",
    "    X_test.drop(excluded_features_columns, axis=1, inplace=True)"
   ]
  },
  {
   "cell_type": "code",
   "execution_count": 24,
   "id": "1853aaf5-fb9f-46cb-a2b5-8ea4ae2237e4",
   "metadata": {
    "execution": {
     "iopub.execute_input": "2025-08-05T14:40:42.815736Z",
     "iopub.status.busy": "2025-08-05T14:40:42.815047Z",
     "iopub.status.idle": "2025-08-05T14:40:42.862531Z",
     "shell.execute_reply": "2025-08-05T14:40:42.861437Z"
    },
    "papermill": {
     "duration": 0.059772,
     "end_time": "2025-08-05T14:40:42.864531",
     "exception": false,
     "start_time": "2025-08-05T14:40:42.804759",
     "status": "completed"
    },
    "tags": []
   },
   "outputs": [
    {
     "name": "stdout",
     "output_type": "stream",
     "text": [
      "Dropping features: ['frau1']\n"
     ]
    }
   ],
   "source": [
    "if len(excluded_features_columns) > 0:\n",
    "    print(f\"Dropping features: {excluded_features_columns}\")\n",
    "    X_calib.drop(excluded_features_columns, axis=1, inplace=True)"
   ]
  },
  {
   "cell_type": "code",
   "execution_count": 25,
   "id": "76c4dc6d",
   "metadata": {
    "execution": {
     "iopub.execute_input": "2025-08-05T14:40:42.904642Z",
     "iopub.status.busy": "2025-08-05T14:40:42.904062Z",
     "iopub.status.idle": "2025-08-05T14:40:42.909151Z",
     "shell.execute_reply": "2025-08-05T14:40:42.908194Z"
    },
    "papermill": {
     "duration": 0.026339,
     "end_time": "2025-08-05T14:40:42.910734",
     "exception": false,
     "start_time": "2025-08-05T14:40:42.884395",
     "status": "completed"
    },
    "tags": []
   },
   "outputs": [],
   "source": [
    "# EXCLUDE CERTAIN SUBGROUPS\n",
    "# ----------------------\n",
    "\n",
    "mode = universe.get(\"exclude_subgroups\", \"keep-all\") \n",
    "# Fetches the exclude_subgroups setting from the universe dict.\n",
    "# Defaults to \"keep-all\" if the key is missing."
   ]
  },
  {
   "cell_type": "code",
   "execution_count": 26,
   "id": "21994072",
   "metadata": {
    "execution": {
     "iopub.execute_input": "2025-08-05T14:40:42.932243Z",
     "iopub.status.busy": "2025-08-05T14:40:42.931736Z",
     "iopub.status.idle": "2025-08-05T14:40:42.937022Z",
     "shell.execute_reply": "2025-08-05T14:40:42.936276Z"
    },
    "papermill": {
     "duration": 0.01739,
     "end_time": "2025-08-05T14:40:42.938658",
     "exception": false,
     "start_time": "2025-08-05T14:40:42.921268",
     "status": "completed"
    },
    "tags": []
   },
   "outputs": [],
   "source": [
    "if mode == \"keep-all\":\n",
    "    keep_mask = pd.Series(True, index=org_train.index)\n",
    "\n",
    "# org_train contains the original feature columns from features_org (in Simson)\n",
    "# features_org contains unprocessed features, for me X_train at beginning ???\n",
    "# For keep-all, creates a boolean Series (keep_mask) of all True, so no rows are removed.\n",
    "\n",
    "elif mode == \"drop-non-german\":\n",
    "    keep_mask = org_train[\"maxdeutsch1\"] == 1 # ??? what about missing values?\n",
    "\n",
    "else:\n",
    "    raise ValueError(f\"Unsupported mode for exclude_subgroups: {mode}\")"
   ]
  },
  {
   "cell_type": "code",
   "execution_count": 27,
   "id": "71651440",
   "metadata": {
    "execution": {
     "iopub.execute_input": "2025-08-05T14:40:42.960007Z",
     "iopub.status.busy": "2025-08-05T14:40:42.959507Z",
     "iopub.status.idle": "2025-08-05T14:40:42.965425Z",
     "shell.execute_reply": "2025-08-05T14:40:42.964530Z"
    },
    "papermill": {
     "duration": 0.017688,
     "end_time": "2025-08-05T14:40:42.966834",
     "exception": false,
     "start_time": "2025-08-05T14:40:42.949146",
     "status": "completed"
    },
    "tags": []
   },
   "outputs": [
    {
     "name": "stdout",
     "output_type": "stream",
     "text": [
      "Dropping 3688 rows (14.75%) where mode='drop-non-german'\n"
     ]
    }
   ],
   "source": [
    "n_drop = (~keep_mask).sum() # Calculates how many rows are set to be dropped\n",
    "if n_drop > 0:\n",
    "    pct = n_drop / len(keep_mask) * 100\n",
    "    print(f\"Dropping {n_drop} rows ({pct:.2f}%) where mode='{mode}'\")"
   ]
  },
  {
   "cell_type": "code",
   "execution_count": 28,
   "id": "5fb8eee5",
   "metadata": {
    "execution": {
     "iopub.execute_input": "2025-08-05T14:40:42.988353Z",
     "iopub.status.busy": "2025-08-05T14:40:42.987842Z",
     "iopub.status.idle": "2025-08-05T14:40:43.000048Z",
     "shell.execute_reply": "2025-08-05T14:40:42.999058Z"
    },
    "papermill": {
     "duration": 0.02539,
     "end_time": "2025-08-05T14:40:43.002508",
     "exception": false,
     "start_time": "2025-08-05T14:40:42.977118",
     "status": "completed"
    },
    "tags": []
   },
   "outputs": [],
   "source": [
    "X_train = X_train[keep_mask]"
   ]
  },
  {
   "cell_type": "code",
   "execution_count": 29,
   "id": "b202bb3a",
   "metadata": {
    "execution": {
     "iopub.execute_input": "2025-08-05T14:40:43.046222Z",
     "iopub.status.busy": "2025-08-05T14:40:43.045735Z",
     "iopub.status.idle": "2025-08-05T14:40:43.052409Z",
     "shell.execute_reply": "2025-08-05T14:40:43.051307Z"
    },
    "papermill": {
     "duration": 0.030619,
     "end_time": "2025-08-05T14:40:43.054595",
     "exception": false,
     "start_time": "2025-08-05T14:40:43.023976",
     "status": "completed"
    },
    "tags": []
   },
   "outputs": [],
   "source": [
    "y_train = y_train[keep_mask]"
   ]
  },
  {
   "cell_type": "markdown",
   "id": "493e2ac3",
   "metadata": {
    "papermill": {
     "duration": 0.018922,
     "end_time": "2025-08-05T14:40:43.094455",
     "exception": false,
     "start_time": "2025-08-05T14:40:43.075533",
     "status": "completed"
    },
    "tags": []
   },
   "source": [
    "# Model Training"
   ]
  },
  {
   "cell_type": "code",
   "execution_count": 30,
   "id": "679e1268",
   "metadata": {
    "execution": {
     "iopub.execute_input": "2025-08-05T14:40:43.115491Z",
     "iopub.status.busy": "2025-08-05T14:40:43.115151Z",
     "iopub.status.idle": "2025-08-05T14:40:43.214172Z",
     "shell.execute_reply": "2025-08-05T14:40:43.213323Z"
    },
    "papermill": {
     "duration": 0.111067,
     "end_time": "2025-08-05T14:40:43.215590",
     "exception": false,
     "start_time": "2025-08-05T14:40:43.104523",
     "status": "completed"
    },
    "tags": []
   },
   "outputs": [],
   "source": [
    "from sklearn.linear_model import LogisticRegression\n",
    "from sklearn.ensemble import GradientBoostingClassifier, RandomForestClassifier\n",
    "\n",
    "if (universe[\"model\"] == \"logreg\"):\n",
    "    model = LogisticRegression() #penalty=\"none\", solver=\"newton-cg\", max_iter=1) # include random_state=19 ?\n",
    "elif (universe[\"model\"] == \"penalized_logreg\"):\n",
    "    model = LogisticRegression(penalty=\"l2\", C=0.1) #, solver=\"newton-cg\", max_iter=1)\n",
    "elif (universe[\"model\"] == \"rf\"):\n",
    "    model = RandomForestClassifier() # n_estimators=100, n_jobs=-1\n",
    "elif (universe[\"model\"] == \"gbm\"):\n",
    "    model = GradientBoostingClassifier()\n",
    "elif (universe[\"model\"] == \"elasticnet\"):\n",
    "    model = LogisticRegression(penalty = 'elasticnet', solver = 'saga', l1_ratio = 0.5) # max_iter=5000\n",
    "else:\n",
    "    raise \"Unsupported universe.model\""
   ]
  },
  {
   "cell_type": "code",
   "execution_count": 31,
   "id": "0cc8f744",
   "metadata": {
    "execution": {
     "iopub.execute_input": "2025-08-05T14:40:43.236924Z",
     "iopub.status.busy": "2025-08-05T14:40:43.236612Z",
     "iopub.status.idle": "2025-08-05T14:40:43.241169Z",
     "shell.execute_reply": "2025-08-05T14:40:43.240384Z"
    },
    "papermill": {
     "duration": 0.016861,
     "end_time": "2025-08-05T14:40:43.242891",
     "exception": false,
     "start_time": "2025-08-05T14:40:43.226030",
     "status": "completed"
    },
    "tags": []
   },
   "outputs": [],
   "source": [
    "import numpy as np\n",
    "from sklearn.pipeline import Pipeline\n",
    "from sklearn.preprocessing import StandardScaler\n",
    "\n",
    "model = Pipeline([\n",
    "    #(\"continuous_processor\", continuous_processor),\n",
    "    #(\"categorical_preprocessor\", categorical_preprocessor),\n",
    "    (\"scale\", StandardScaler() if universe[\"scale\"] == \"scale\" else None), \n",
    "    (\"model\", model),\n",
    "])"
   ]
  },
  {
   "cell_type": "code",
   "execution_count": 32,
   "id": "9442c04d",
   "metadata": {
    "execution": {
     "iopub.execute_input": "2025-08-05T14:40:43.282240Z",
     "iopub.status.busy": "2025-08-05T14:40:43.281836Z",
     "iopub.status.idle": "2025-08-05T14:40:43.713078Z",
     "shell.execute_reply": "2025-08-05T14:40:43.712343Z"
    },
    "papermill": {
     "duration": 0.45173,
     "end_time": "2025-08-05T14:40:43.714311",
     "exception": false,
     "start_time": "2025-08-05T14:40:43.262581",
     "status": "completed"
    },
    "tags": []
   },
   "outputs": [
    {
     "name": "stderr",
     "output_type": "stream",
     "text": [
      "/dss/dsshome1/0C/ra93lal2/.local/share/virtualenvs/CMA_Fairness_v2-3j10GkSs/lib/python3.10/site-packages/sklearn/linear_model/_logistic.py:444: ConvergenceWarning: lbfgs failed to converge (status=1):\n",
      "STOP: TOTAL NO. of ITERATIONS REACHED LIMIT.\n",
      "\n",
      "Increase the number of iterations (max_iter) or scale the data as shown in:\n",
      "    https://scikit-learn.org/stable/modules/preprocessing.html\n",
      "Please also refer to the documentation for alternative solver options:\n",
      "    https://scikit-learn.org/stable/modules/linear_model.html#logistic-regression\n",
      "  n_iter_i = _check_optimize_result(\n"
     ]
    },
    {
     "data": {
      "text/html": [
       "<style>#sk-container-id-1 {color: black;background-color: white;}#sk-container-id-1 pre{padding: 0;}#sk-container-id-1 div.sk-toggleable {background-color: white;}#sk-container-id-1 label.sk-toggleable__label {cursor: pointer;display: block;width: 100%;margin-bottom: 0;padding: 0.3em;box-sizing: border-box;text-align: center;}#sk-container-id-1 label.sk-toggleable__label-arrow:before {content: \"▸\";float: left;margin-right: 0.25em;color: #696969;}#sk-container-id-1 label.sk-toggleable__label-arrow:hover:before {color: black;}#sk-container-id-1 div.sk-estimator:hover label.sk-toggleable__label-arrow:before {color: black;}#sk-container-id-1 div.sk-toggleable__content {max-height: 0;max-width: 0;overflow: hidden;text-align: left;background-color: #f0f8ff;}#sk-container-id-1 div.sk-toggleable__content pre {margin: 0.2em;color: black;border-radius: 0.25em;background-color: #f0f8ff;}#sk-container-id-1 input.sk-toggleable__control:checked~div.sk-toggleable__content {max-height: 200px;max-width: 100%;overflow: auto;}#sk-container-id-1 input.sk-toggleable__control:checked~label.sk-toggleable__label-arrow:before {content: \"▾\";}#sk-container-id-1 div.sk-estimator input.sk-toggleable__control:checked~label.sk-toggleable__label {background-color: #d4ebff;}#sk-container-id-1 div.sk-label input.sk-toggleable__control:checked~label.sk-toggleable__label {background-color: #d4ebff;}#sk-container-id-1 input.sk-hidden--visually {border: 0;clip: rect(1px 1px 1px 1px);clip: rect(1px, 1px, 1px, 1px);height: 1px;margin: -1px;overflow: hidden;padding: 0;position: absolute;width: 1px;}#sk-container-id-1 div.sk-estimator {font-family: monospace;background-color: #f0f8ff;border: 1px dotted black;border-radius: 0.25em;box-sizing: border-box;margin-bottom: 0.5em;}#sk-container-id-1 div.sk-estimator:hover {background-color: #d4ebff;}#sk-container-id-1 div.sk-parallel-item::after {content: \"\";width: 100%;border-bottom: 1px solid gray;flex-grow: 1;}#sk-container-id-1 div.sk-label:hover label.sk-toggleable__label {background-color: #d4ebff;}#sk-container-id-1 div.sk-serial::before {content: \"\";position: absolute;border-left: 1px solid gray;box-sizing: border-box;top: 0;bottom: 0;left: 50%;z-index: 0;}#sk-container-id-1 div.sk-serial {display: flex;flex-direction: column;align-items: center;background-color: white;padding-right: 0.2em;padding-left: 0.2em;position: relative;}#sk-container-id-1 div.sk-item {position: relative;z-index: 1;}#sk-container-id-1 div.sk-parallel {display: flex;align-items: stretch;justify-content: center;background-color: white;position: relative;}#sk-container-id-1 div.sk-item::before, #sk-container-id-1 div.sk-parallel-item::before {content: \"\";position: absolute;border-left: 1px solid gray;box-sizing: border-box;top: 0;bottom: 0;left: 50%;z-index: -1;}#sk-container-id-1 div.sk-parallel-item {display: flex;flex-direction: column;z-index: 1;position: relative;background-color: white;}#sk-container-id-1 div.sk-parallel-item:first-child::after {align-self: flex-end;width: 50%;}#sk-container-id-1 div.sk-parallel-item:last-child::after {align-self: flex-start;width: 50%;}#sk-container-id-1 div.sk-parallel-item:only-child::after {width: 0;}#sk-container-id-1 div.sk-dashed-wrapped {border: 1px dashed gray;margin: 0 0.4em 0.5em 0.4em;box-sizing: border-box;padding-bottom: 0.4em;background-color: white;}#sk-container-id-1 div.sk-label label {font-family: monospace;font-weight: bold;display: inline-block;line-height: 1.2em;}#sk-container-id-1 div.sk-label-container {text-align: center;}#sk-container-id-1 div.sk-container {/* jupyter's `normalize.less` sets `[hidden] { display: none; }` but bootstrap.min.css set `[hidden] { display: none !important; }` so we also need the `!important` here to be able to override the default hidden behavior on the sphinx rendered scikit-learn.org. See: https://github.com/scikit-learn/scikit-learn/issues/21755 */display: inline-block !important;position: relative;}#sk-container-id-1 div.sk-text-repr-fallback {display: none;}</style><div id=\"sk-container-id-1\" class=\"sk-top-container\"><div class=\"sk-text-repr-fallback\"><pre>Pipeline(steps=[(&#x27;scale&#x27;, None), (&#x27;model&#x27;, LogisticRegression())])</pre><b>In a Jupyter environment, please rerun this cell to show the HTML representation or trust the notebook. <br />On GitHub, the HTML representation is unable to render, please try loading this page with nbviewer.org.</b></div><div class=\"sk-container\" hidden><div class=\"sk-item sk-dashed-wrapped\"><div class=\"sk-label-container\"><div class=\"sk-label sk-toggleable\"><input class=\"sk-toggleable__control sk-hidden--visually\" id=\"sk-estimator-id-1\" type=\"checkbox\" ><label for=\"sk-estimator-id-1\" class=\"sk-toggleable__label sk-toggleable__label-arrow\">Pipeline</label><div class=\"sk-toggleable__content\"><pre>Pipeline(steps=[(&#x27;scale&#x27;, None), (&#x27;model&#x27;, LogisticRegression())])</pre></div></div></div><div class=\"sk-serial\"><div class=\"sk-item\"><div class=\"sk-estimator sk-toggleable\"><input class=\"sk-toggleable__control sk-hidden--visually\" id=\"sk-estimator-id-2\" type=\"checkbox\" ><label for=\"sk-estimator-id-2\" class=\"sk-toggleable__label sk-toggleable__label-arrow\">None</label><div class=\"sk-toggleable__content\"><pre>None</pre></div></div></div><div class=\"sk-item\"><div class=\"sk-estimator sk-toggleable\"><input class=\"sk-toggleable__control sk-hidden--visually\" id=\"sk-estimator-id-3\" type=\"checkbox\" ><label for=\"sk-estimator-id-3\" class=\"sk-toggleable__label sk-toggleable__label-arrow\">LogisticRegression</label><div class=\"sk-toggleable__content\"><pre>LogisticRegression()</pre></div></div></div></div></div></div></div>"
      ],
      "text/plain": [
       "Pipeline(steps=[('scale', None), ('model', LogisticRegression())])"
      ]
     },
     "execution_count": 32,
     "metadata": {},
     "output_type": "execute_result"
    }
   ],
   "source": [
    "model.fit(X_train, y_train.values.ravel())"
   ]
  },
  {
   "cell_type": "code",
   "execution_count": 33,
   "id": "af59f8c0",
   "metadata": {
    "execution": {
     "iopub.execute_input": "2025-08-05T14:40:43.737280Z",
     "iopub.status.busy": "2025-08-05T14:40:43.736629Z",
     "iopub.status.idle": "2025-08-05T14:40:43.742004Z",
     "shell.execute_reply": "2025-08-05T14:40:43.740795Z"
    },
    "papermill": {
     "duration": 0.018884,
     "end_time": "2025-08-05T14:40:43.744010",
     "exception": false,
     "start_time": "2025-08-05T14:40:43.725126",
     "status": "completed"
    },
    "tags": []
   },
   "outputs": [],
   "source": [
    "from fairness_multiverse.universe import predict_w_threshold"
   ]
  },
  {
   "cell_type": "code",
   "execution_count": 34,
   "id": "a7cf2e16",
   "metadata": {
    "execution": {
     "iopub.execute_input": "2025-08-05T14:40:43.789238Z",
     "iopub.status.busy": "2025-08-05T14:40:43.788557Z",
     "iopub.status.idle": "2025-08-05T14:40:43.874820Z",
     "shell.execute_reply": "2025-08-05T14:40:43.873822Z"
    },
    "papermill": {
     "duration": 0.109147,
     "end_time": "2025-08-05T14:40:43.876426",
     "exception": false,
     "start_time": "2025-08-05T14:40:43.767279",
     "status": "completed"
    },
    "tags": []
   },
   "outputs": [
    {
     "data": {
      "text/plain": [
       "0.8642960650986512"
      ]
     },
     "execution_count": 34,
     "metadata": {},
     "output_type": "execute_result"
    }
   ],
   "source": [
    "probs_test = model.predict_proba(X_test)\n",
    "\n",
    "'''\n",
    "Below code returns a boolean array (or binary 0/1 array depending on how it’s used) where each element \n",
    "is True if the probability of class 1 is greater than or equal to the threshold, and False otherwise.\n",
    "'''\n",
    "y_pred_default = predict_w_threshold(probs_test, 0.5)\n",
    "\n",
    "from sklearn.metrics import accuracy_score\n",
    "\n",
    "# Naive prediction\n",
    "accuracy_score(y_true = y_true, y_pred = y_pred_default)"
   ]
  },
  {
   "cell_type": "code",
   "execution_count": 35,
   "id": "081964c3",
   "metadata": {
    "execution": {
     "iopub.execute_input": "2025-08-05T14:40:43.918902Z",
     "iopub.status.busy": "2025-08-05T14:40:43.918405Z",
     "iopub.status.idle": "2025-08-05T14:40:44.003917Z",
     "shell.execute_reply": "2025-08-05T14:40:44.002962Z"
    },
    "papermill": {
     "duration": 0.108401,
     "end_time": "2025-08-05T14:40:44.005648",
     "exception": false,
     "start_time": "2025-08-05T14:40:43.897247",
     "status": "completed"
    },
    "tags": []
   },
   "outputs": [
    {
     "data": {
      "text/plain": [
       "array([0, 0, 0, ..., 0, 0, 0])"
      ]
     },
     "execution_count": 35,
     "metadata": {},
     "output_type": "execute_result"
    }
   ],
   "source": [
    "model.predict(X_test)"
   ]
  },
  {
   "cell_type": "markdown",
   "id": "56c9705b",
   "metadata": {
    "papermill": {
     "duration": 0.019048,
     "end_time": "2025-08-05T14:40:44.045083",
     "exception": false,
     "start_time": "2025-08-05T14:40:44.026035",
     "status": "completed"
    },
    "tags": []
   },
   "source": [
    "# Conformal Prediction"
   ]
  },
  {
   "cell_type": "code",
   "execution_count": 36,
   "id": "160ec6ff",
   "metadata": {
    "execution": {
     "iopub.execute_input": "2025-08-05T14:40:44.085787Z",
     "iopub.status.busy": "2025-08-05T14:40:44.084915Z",
     "iopub.status.idle": "2025-08-05T14:40:44.090355Z",
     "shell.execute_reply": "2025-08-05T14:40:44.089337Z"
    },
    "papermill": {
     "duration": 0.027959,
     "end_time": "2025-08-05T14:40:44.092306",
     "exception": false,
     "start_time": "2025-08-05T14:40:44.064347",
     "status": "completed"
    },
    "tags": []
   },
   "outputs": [],
   "source": [
    "# Miscoverage level for conformal prediction (10% allowed error rate => 90% target coverage)\n",
    "alpha = 0.1"
   ]
  },
  {
   "cell_type": "code",
   "execution_count": 37,
   "id": "eadf4555-3dd3-440e-8e35-f82a4ad9f855",
   "metadata": {
    "execution": {
     "iopub.execute_input": "2025-08-05T14:40:44.117914Z",
     "iopub.status.busy": "2025-08-05T14:40:44.117376Z",
     "iopub.status.idle": "2025-08-05T14:40:44.195967Z",
     "shell.execute_reply": "2025-08-05T14:40:44.194925Z"
    },
    "papermill": {
     "duration": 0.091228,
     "end_time": "2025-08-05T14:40:44.197555",
     "exception": false,
     "start_time": "2025-08-05T14:40:44.106327",
     "status": "completed"
    },
    "tags": []
   },
   "outputs": [],
   "source": [
    "probs_calib = model.predict_proba(X_calib)"
   ]
  },
  {
   "cell_type": "code",
   "execution_count": 38,
   "id": "2ed93547-6d5d-4983-9b36-1ecb300da49a",
   "metadata": {
    "execution": {
     "iopub.execute_input": "2025-08-05T14:40:44.241937Z",
     "iopub.status.busy": "2025-08-05T14:40:44.241536Z",
     "iopub.status.idle": "2025-08-05T14:40:44.247924Z",
     "shell.execute_reply": "2025-08-05T14:40:44.246728Z"
    },
    "papermill": {
     "duration": 0.040204,
     "end_time": "2025-08-05T14:40:44.259661",
     "exception": false,
     "start_time": "2025-08-05T14:40:44.219457",
     "status": "completed"
    },
    "tags": []
   },
   "outputs": [],
   "source": [
    "y_calib = y_calib.values.ravel().astype(int)"
   ]
  },
  {
   "cell_type": "code",
   "execution_count": 39,
   "id": "65d1320d-f588-4b38-9072-62af1ae97f7d",
   "metadata": {
    "execution": {
     "iopub.execute_input": "2025-08-05T14:40:44.303624Z",
     "iopub.status.busy": "2025-08-05T14:40:44.303163Z",
     "iopub.status.idle": "2025-08-05T14:40:44.310086Z",
     "shell.execute_reply": "2025-08-05T14:40:44.309207Z"
    },
    "papermill": {
     "duration": 0.03051,
     "end_time": "2025-08-05T14:40:44.311858",
     "exception": false,
     "start_time": "2025-08-05T14:40:44.281348",
     "status": "completed"
    },
    "tags": []
   },
   "outputs": [],
   "source": [
    "from fairness_multiverse.conformal import compute_nc_scores\n",
    "\n",
    "# Compute nonconformity scores on calibration set (1 - probability of true class)\n",
    "nc_scores = compute_nc_scores(probs_calib, y_calib)"
   ]
  },
  {
   "cell_type": "code",
   "execution_count": 40,
   "id": "df3b8ca3-53b7-43d5-9667-7c85da7aeda2",
   "metadata": {
    "execution": {
     "iopub.execute_input": "2025-08-05T14:40:44.339201Z",
     "iopub.status.busy": "2025-08-05T14:40:44.338821Z",
     "iopub.status.idle": "2025-08-05T14:40:44.346086Z",
     "shell.execute_reply": "2025-08-05T14:40:44.344803Z"
    },
    "papermill": {
     "duration": 0.02123,
     "end_time": "2025-08-05T14:40:44.347865",
     "exception": false,
     "start_time": "2025-08-05T14:40:44.326635",
     "status": "completed"
    },
    "tags": []
   },
   "outputs": [],
   "source": [
    "from fairness_multiverse.conformal import find_threshold\n",
    "\n",
    "# Find conformal threshold q_hat for the given alpha (split conformal method)\n",
    "q_hat = find_threshold(nc_scores, alpha)"
   ]
  },
  {
   "cell_type": "code",
   "execution_count": 41,
   "id": "4d29e6c1-0ef6-4aa4-b8fe-4fe79b0d033a",
   "metadata": {
    "execution": {
     "iopub.execute_input": "2025-08-05T14:40:44.389796Z",
     "iopub.status.busy": "2025-08-05T14:40:44.388985Z",
     "iopub.status.idle": "2025-08-05T14:40:44.396689Z",
     "shell.execute_reply": "2025-08-05T14:40:44.395599Z"
    },
    "papermill": {
     "duration": 0.030578,
     "end_time": "2025-08-05T14:40:44.398475",
     "exception": false,
     "start_time": "2025-08-05T14:40:44.367897",
     "status": "completed"
    },
    "tags": []
   },
   "outputs": [
    {
     "data": {
      "text/plain": [
       "0.6672440696578583"
      ]
     },
     "execution_count": 41,
     "metadata": {},
     "output_type": "execute_result"
    }
   ],
   "source": [
    "q_hat"
   ]
  },
  {
   "cell_type": "code",
   "execution_count": 42,
   "id": "92460794-cdac-4be2-ba28-f28c0515a6fb",
   "metadata": {
    "execution": {
     "iopub.execute_input": "2025-08-05T14:40:44.441061Z",
     "iopub.status.busy": "2025-08-05T14:40:44.440256Z",
     "iopub.status.idle": "2025-08-05T14:40:44.963486Z",
     "shell.execute_reply": "2025-08-05T14:40:44.962737Z"
    },
    "papermill": {
     "duration": 0.546148,
     "end_time": "2025-08-05T14:40:44.965264",
     "exception": false,
     "start_time": "2025-08-05T14:40:44.419116",
     "status": "completed"
    },
    "tags": []
   },
   "outputs": [],
   "source": [
    "from fairness_multiverse.conformal import predict_conformal_sets\n",
    "\n",
    "# Generate prediction sets for each test example\n",
    "pred_sets = predict_conformal_sets(model, X_test, q_hat)"
   ]
  },
  {
   "cell_type": "code",
   "execution_count": 43,
   "id": "d90c9a65-e6db-4f5d-80cd-e68fb7e46829",
   "metadata": {
    "execution": {
     "iopub.execute_input": "2025-08-05T14:40:45.013939Z",
     "iopub.status.busy": "2025-08-05T14:40:45.013404Z",
     "iopub.status.idle": "2025-08-05T14:40:45.019349Z",
     "shell.execute_reply": "2025-08-05T14:40:45.018275Z"
    },
    "papermill": {
     "duration": 0.032952,
     "end_time": "2025-08-05T14:40:45.021278",
     "exception": false,
     "start_time": "2025-08-05T14:40:44.988326",
     "status": "completed"
    },
    "tags": []
   },
   "outputs": [],
   "source": [
    "y_true = y_true.squeeze()"
   ]
  },
  {
   "cell_type": "code",
   "execution_count": 44,
   "id": "3a58a54a-1e68-46b9-927a-df01f18aebc8",
   "metadata": {
    "execution": {
     "iopub.execute_input": "2025-08-05T14:40:45.069375Z",
     "iopub.status.busy": "2025-08-05T14:40:45.068914Z",
     "iopub.status.idle": "2025-08-05T14:40:45.921350Z",
     "shell.execute_reply": "2025-08-05T14:40:45.920271Z"
    },
    "papermill": {
     "duration": 0.878843,
     "end_time": "2025-08-05T14:40:45.923474",
     "exception": false,
     "start_time": "2025-08-05T14:40:45.044631",
     "status": "completed"
    },
    "tags": []
   },
   "outputs": [],
   "source": [
    "from fairness_multiverse.conformal import evaluate_sets\n",
    "\n",
    "# Evaluate coverage and average set size on test data\n",
    "metrics = evaluate_sets(pred_sets, y_true)"
   ]
  },
  {
   "cell_type": "markdown",
   "id": "2b569c12-9aaa-4c88-98c9-bbcd0cf3ebb8",
   "metadata": {
    "papermill": {
     "duration": 0.022606,
     "end_time": "2025-08-05T14:40:45.973255",
     "exception": false,
     "start_time": "2025-08-05T14:40:45.950649",
     "status": "completed"
    },
    "tags": []
   },
   "source": [
    "# CP Metrics"
   ]
  },
  {
   "cell_type": "code",
   "execution_count": 45,
   "id": "5ce0a5cb-201f-45a0-ade5-94c7f0bd6095",
   "metadata": {
    "execution": {
     "iopub.execute_input": "2025-08-05T14:40:46.022772Z",
     "iopub.status.busy": "2025-08-05T14:40:46.021777Z",
     "iopub.status.idle": "2025-08-05T14:40:46.029319Z",
     "shell.execute_reply": "2025-08-05T14:40:46.028137Z"
    },
    "papermill": {
     "duration": 0.034517,
     "end_time": "2025-08-05T14:40:46.031090",
     "exception": false,
     "start_time": "2025-08-05T14:40:45.996573",
     "status": "completed"
    },
    "tags": []
   },
   "outputs": [
    {
     "data": {
      "text/plain": [
       "{'coverage': 0.9130977594471074, 'avg_size': 1.2240552892654109}"
      ]
     },
     "execution_count": 45,
     "metadata": {},
     "output_type": "execute_result"
    }
   ],
   "source": [
    "metrics"
   ]
  },
  {
   "cell_type": "code",
   "execution_count": 46,
   "id": "9b9a838d-31c9-430b-ae14-12baee460d17",
   "metadata": {
    "execution": {
     "iopub.execute_input": "2025-08-05T14:40:46.080668Z",
     "iopub.status.busy": "2025-08-05T14:40:46.080023Z",
     "iopub.status.idle": "2025-08-05T14:40:46.086719Z",
     "shell.execute_reply": "2025-08-05T14:40:46.085618Z"
    },
    "papermill": {
     "duration": 0.034024,
     "end_time": "2025-08-05T14:40:46.088529",
     "exception": false,
     "start_time": "2025-08-05T14:40:46.054505",
     "status": "completed"
    },
    "tags": []
   },
   "outputs": [],
   "source": [
    "example_universe = universe.copy()\n",
    "universe_training_year = example_universe.get(\"training_year\")\n",
    "universe_training_size = example_universe.get(\"training_size\")\n",
    "universe_scale = example_universe.get(\"scale\")\n",
    "universe_model = example_universe.get(\"model\")\n",
    "universe_exclude_features = example_universe.get(\"exclude_features\")\n",
    "universe_exclude_subgroups = example_universe.get(\"exclude_subgroups\")"
   ]
  },
  {
   "cell_type": "code",
   "execution_count": 47,
   "id": "f4b6a8ac-9dc0-4245-8a91-5b3b5999c4f9",
   "metadata": {
    "execution": {
     "iopub.execute_input": "2025-08-05T14:40:46.138410Z",
     "iopub.status.busy": "2025-08-05T14:40:46.137556Z",
     "iopub.status.idle": "2025-08-05T14:40:46.144843Z",
     "shell.execute_reply": "2025-08-05T14:40:46.143745Z"
    },
    "papermill": {
     "duration": 0.034879,
     "end_time": "2025-08-05T14:40:46.146927",
     "exception": false,
     "start_time": "2025-08-05T14:40:46.112048",
     "status": "completed"
    },
    "tags": []
   },
   "outputs": [],
   "source": [
    "cp_metrics_dict = {\n",
    "    \"universe_id\": [universe_id],\n",
    "    \"universe_training_year\": [universe_training_year],\n",
    "    \"universe_training_size\": [universe_training_size],\n",
    "    \"universe_scale\": [universe_scale],\n",
    "    \"universe_model\": [universe_model],\n",
    "    \"universe_exclude_features\": [universe_exclude_features],\n",
    "    \"universe_exclude_subgroups\": [universe_exclude_subgroups],\n",
    "    \"q_hat\": [q_hat],\n",
    "    \"coverage\": [metrics[\"coverage\"]],\n",
    "    \"avg_size\": [metrics[\"avg_size\"]],\n",
    "}"
   ]
  },
  {
   "cell_type": "code",
   "execution_count": 48,
   "id": "908acbb1-0371-4915-85ca-3fa520d2efe2",
   "metadata": {
    "execution": {
     "iopub.execute_input": "2025-08-05T14:40:46.196437Z",
     "iopub.status.busy": "2025-08-05T14:40:46.195494Z",
     "iopub.status.idle": "2025-08-05T14:40:46.203908Z",
     "shell.execute_reply": "2025-08-05T14:40:46.202702Z"
    },
    "papermill": {
     "duration": 0.035116,
     "end_time": "2025-08-05T14:40:46.205993",
     "exception": false,
     "start_time": "2025-08-05T14:40:46.170877",
     "status": "completed"
    },
    "tags": []
   },
   "outputs": [
    {
     "data": {
      "text/plain": [
       "{'universe_id': ['ed9ac182deb9ca3db44564e3c4b4d7d5'],\n",
       " 'universe_training_year': ['2014'],\n",
       " 'universe_training_size': ['25k'],\n",
       " 'universe_scale': ['do-not-scale'],\n",
       " 'universe_model': ['logreg'],\n",
       " 'universe_exclude_features': ['sex'],\n",
       " 'universe_exclude_subgroups': ['drop-non-german'],\n",
       " 'q_hat': [0.6672440696578583],\n",
       " 'coverage': [0.9130977594471074],\n",
       " 'avg_size': [1.2240552892654109]}"
      ]
     },
     "execution_count": 48,
     "metadata": {},
     "output_type": "execute_result"
    }
   ],
   "source": [
    "cp_metrics_dict"
   ]
  },
  {
   "cell_type": "code",
   "execution_count": 49,
   "id": "33007efc-14e9-4ec6-97ac-56a455c82265",
   "metadata": {
    "execution": {
     "iopub.execute_input": "2025-08-05T14:40:46.255864Z",
     "iopub.status.busy": "2025-08-05T14:40:46.255185Z",
     "iopub.status.idle": "2025-08-05T14:40:46.262284Z",
     "shell.execute_reply": "2025-08-05T14:40:46.260997Z"
    },
    "papermill": {
     "duration": 0.033415,
     "end_time": "2025-08-05T14:40:46.264378",
     "exception": false,
     "start_time": "2025-08-05T14:40:46.230963",
     "status": "completed"
    },
    "tags": []
   },
   "outputs": [],
   "source": [
    "cp_metrics_df = pd.DataFrame(cp_metrics_dict)"
   ]
  },
  {
   "cell_type": "code",
   "execution_count": 50,
   "id": "db12611b-57b2-4910-b9d0-355adfd6e7bf",
   "metadata": {
    "execution": {
     "iopub.execute_input": "2025-08-05T14:40:46.312010Z",
     "iopub.status.busy": "2025-08-05T14:40:46.311166Z",
     "iopub.status.idle": "2025-08-05T14:40:46.329361Z",
     "shell.execute_reply": "2025-08-05T14:40:46.328463Z"
    },
    "papermill": {
     "duration": 0.042809,
     "end_time": "2025-08-05T14:40:46.331002",
     "exception": false,
     "start_time": "2025-08-05T14:40:46.288193",
     "status": "completed"
    },
    "tags": []
   },
   "outputs": [
    {
     "data": {
      "text/html": [
       "<div>\n",
       "<style scoped>\n",
       "    .dataframe tbody tr th:only-of-type {\n",
       "        vertical-align: middle;\n",
       "    }\n",
       "\n",
       "    .dataframe tbody tr th {\n",
       "        vertical-align: top;\n",
       "    }\n",
       "\n",
       "    .dataframe thead th {\n",
       "        text-align: right;\n",
       "    }\n",
       "</style>\n",
       "<table border=\"1\" class=\"dataframe\">\n",
       "  <thead>\n",
       "    <tr style=\"text-align: right;\">\n",
       "      <th></th>\n",
       "      <th>universe_id</th>\n",
       "      <th>universe_training_year</th>\n",
       "      <th>universe_training_size</th>\n",
       "      <th>universe_scale</th>\n",
       "      <th>universe_model</th>\n",
       "      <th>universe_exclude_features</th>\n",
       "      <th>universe_exclude_subgroups</th>\n",
       "      <th>q_hat</th>\n",
       "      <th>coverage</th>\n",
       "      <th>avg_size</th>\n",
       "    </tr>\n",
       "  </thead>\n",
       "  <tbody>\n",
       "    <tr>\n",
       "      <th>0</th>\n",
       "      <td>ed9ac182deb9ca3db44564e3c4b4d7d5</td>\n",
       "      <td>2014</td>\n",
       "      <td>25k</td>\n",
       "      <td>do-not-scale</td>\n",
       "      <td>logreg</td>\n",
       "      <td>sex</td>\n",
       "      <td>drop-non-german</td>\n",
       "      <td>0.667244</td>\n",
       "      <td>0.913098</td>\n",
       "      <td>1.224055</td>\n",
       "    </tr>\n",
       "  </tbody>\n",
       "</table>\n",
       "</div>"
      ],
      "text/plain": [
       "                        universe_id universe_training_year  \\\n",
       "0  ed9ac182deb9ca3db44564e3c4b4d7d5                   2014   \n",
       "\n",
       "  universe_training_size universe_scale universe_model  \\\n",
       "0                    25k   do-not-scale         logreg   \n",
       "\n",
       "  universe_exclude_features universe_exclude_subgroups     q_hat  coverage  \\\n",
       "0                       sex            drop-non-german  0.667244  0.913098   \n",
       "\n",
       "   avg_size  \n",
       "0  1.224055  "
      ]
     },
     "execution_count": 50,
     "metadata": {},
     "output_type": "execute_result"
    }
   ],
   "source": [
    "cp_metrics_df"
   ]
  },
  {
   "cell_type": "code",
   "execution_count": 51,
   "id": "b7fbde55-a0a1-47e4-9af6-fe4a17fa8c61",
   "metadata": {
    "execution": {
     "iopub.execute_input": "2025-08-05T14:40:46.382193Z",
     "iopub.status.busy": "2025-08-05T14:40:46.381241Z",
     "iopub.status.idle": "2025-08-05T14:40:46.386711Z",
     "shell.execute_reply": "2025-08-05T14:40:46.385704Z"
    },
    "papermill": {
     "duration": 0.033929,
     "end_time": "2025-08-05T14:40:46.388908",
     "exception": false,
     "start_time": "2025-08-05T14:40:46.354979",
     "status": "completed"
    },
    "tags": []
   },
   "outputs": [],
   "source": [
    "# Conditional Coverage & looking at subgroups"
   ]
  },
  {
   "cell_type": "code",
   "execution_count": 52,
   "id": "027ae886-68dd-4141-96c7-805a5450e1ef",
   "metadata": {
    "execution": {
     "iopub.execute_input": "2025-08-05T14:40:46.439795Z",
     "iopub.status.busy": "2025-08-05T14:40:46.439279Z",
     "iopub.status.idle": "2025-08-05T14:40:46.704240Z",
     "shell.execute_reply": "2025-08-05T14:40:46.703202Z"
    },
    "papermill": {
     "duration": 0.293007,
     "end_time": "2025-08-05T14:40:46.706371",
     "exception": false,
     "start_time": "2025-08-05T14:40:46.413364",
     "status": "completed"
    },
    "tags": []
   },
   "outputs": [],
   "source": [
    "from fairness_multiverse.conformal import build_cp_groups\n",
    "\n",
    "cp_groups_df = build_cp_groups(pred_sets, y_true, X_test.index, org_test)\n",
    "#needs universe_id and setting"
   ]
  },
  {
   "cell_type": "code",
   "execution_count": 53,
   "id": "6cbdab96-b2b2-45af-ad54-d0516db2e28d",
   "metadata": {
    "execution": {
     "iopub.execute_input": "2025-08-05T14:40:46.757452Z",
     "iopub.status.busy": "2025-08-05T14:40:46.756580Z",
     "iopub.status.idle": "2025-08-05T14:40:48.821691Z",
     "shell.execute_reply": "2025-08-05T14:40:48.820687Z"
    },
    "papermill": {
     "duration": 2.091774,
     "end_time": "2025-08-05T14:40:48.823743",
     "exception": false,
     "start_time": "2025-08-05T14:40:46.731969",
     "status": "completed"
    },
    "tags": []
   },
   "outputs": [],
   "source": [
    "# Define covered = 1 if true_label is in the predicted set\n",
    "cp_groups_df['covered'] = cp_groups_df.apply(\n",
    "    lambda r: int(r['true_label'] in r['pred_set']),\n",
    "    axis=1\n",
    ")"
   ]
  },
  {
   "cell_type": "code",
   "execution_count": 54,
   "id": "338ff529-1a6b-4b87-a931-8e4788d52aad",
   "metadata": {
    "execution": {
     "iopub.execute_input": "2025-08-05T14:40:48.872556Z",
     "iopub.status.busy": "2025-08-05T14:40:48.871607Z",
     "iopub.status.idle": "2025-08-05T14:40:48.877290Z",
     "shell.execute_reply": "2025-08-05T14:40:48.876241Z"
    },
    "papermill": {
     "duration": 0.029869,
     "end_time": "2025-08-05T14:40:48.879357",
     "exception": false,
     "start_time": "2025-08-05T14:40:48.849488",
     "status": "completed"
    },
    "tags": []
   },
   "outputs": [],
   "source": [
    "#cp_groups_df"
   ]
  },
  {
   "cell_type": "code",
   "execution_count": 55,
   "id": "90032e27-66df-4540-9169-4e89cfbaa758",
   "metadata": {
    "execution": {
     "iopub.execute_input": "2025-08-05T14:40:48.937130Z",
     "iopub.status.busy": "2025-08-05T14:40:48.936314Z",
     "iopub.status.idle": "2025-08-05T14:40:48.948853Z",
     "shell.execute_reply": "2025-08-05T14:40:48.947845Z"
    },
    "papermill": {
     "duration": 0.044988,
     "end_time": "2025-08-05T14:40:48.950813",
     "exception": false,
     "start_time": "2025-08-05T14:40:48.905825",
     "status": "completed"
    },
    "tags": []
   },
   "outputs": [],
   "source": [
    "subgroups = ['frau1','nongerman','nongerman_male','nongerman_female']\n",
    "\n",
    "# Conditional coverage for subgroup==1\n",
    "cond_coverage = {\n",
    "    g: cp_groups_df.loc[cp_groups_df[g]==1, 'covered'].mean()\n",
    "    for g in subgroups\n",
    "}"
   ]
  },
  {
   "cell_type": "code",
   "execution_count": 56,
   "id": "1e348fb1-b9c3-45bc-ba23-f016827a7e0d",
   "metadata": {
    "execution": {
     "iopub.execute_input": "2025-08-05T14:40:49.002555Z",
     "iopub.status.busy": "2025-08-05T14:40:49.001626Z",
     "iopub.status.idle": "2025-08-05T14:40:49.009291Z",
     "shell.execute_reply": "2025-08-05T14:40:49.008107Z"
    },
    "papermill": {
     "duration": 0.034465,
     "end_time": "2025-08-05T14:40:49.011211",
     "exception": false,
     "start_time": "2025-08-05T14:40:48.976746",
     "status": "completed"
    },
    "tags": []
   },
   "outputs": [
    {
     "data": {
      "text/plain": [
       "{'frau1': 0.912252325111201,\n",
       " 'nongerman': 0.9407174535451637,\n",
       " 'nongerman_male': 0.9513644960821399,\n",
       " 'nongerman_female': 0.9230998509687034}"
      ]
     },
     "execution_count": 56,
     "metadata": {},
     "output_type": "execute_result"
    }
   ],
   "source": [
    "cond_coverage"
   ]
  },
  {
   "cell_type": "code",
   "execution_count": 57,
   "id": "f5093324-c3dd-4d63-bc4c-8d945e5c8bbb",
   "metadata": {
    "execution": {
     "iopub.execute_input": "2025-08-05T14:40:49.063708Z",
     "iopub.status.busy": "2025-08-05T14:40:49.062761Z",
     "iopub.status.idle": "2025-08-05T14:40:49.070568Z",
     "shell.execute_reply": "2025-08-05T14:40:49.069488Z"
    },
    "papermill": {
     "duration": 0.035152,
     "end_time": "2025-08-05T14:40:49.072547",
     "exception": false,
     "start_time": "2025-08-05T14:40:49.037395",
     "status": "completed"
    },
    "tags": []
   },
   "outputs": [],
   "source": [
    "for subgroup, cov in cond_coverage.items():\n",
    "    cp_metrics_df[f\"cov_{subgroup}\"] = cov"
   ]
  },
  {
   "cell_type": "code",
   "execution_count": 58,
   "id": "6e872e10-dbe5-49e8-b554-5030c98ff75d",
   "metadata": {
    "execution": {
     "iopub.execute_input": "2025-08-05T14:40:49.125284Z",
     "iopub.status.busy": "2025-08-05T14:40:49.124420Z",
     "iopub.status.idle": "2025-08-05T14:40:49.143152Z",
     "shell.execute_reply": "2025-08-05T14:40:49.142025Z"
    },
    "papermill": {
     "duration": 0.046167,
     "end_time": "2025-08-05T14:40:49.145117",
     "exception": false,
     "start_time": "2025-08-05T14:40:49.098950",
     "status": "completed"
    },
    "tags": []
   },
   "outputs": [
    {
     "data": {
      "text/html": [
       "<div>\n",
       "<style scoped>\n",
       "    .dataframe tbody tr th:only-of-type {\n",
       "        vertical-align: middle;\n",
       "    }\n",
       "\n",
       "    .dataframe tbody tr th {\n",
       "        vertical-align: top;\n",
       "    }\n",
       "\n",
       "    .dataframe thead th {\n",
       "        text-align: right;\n",
       "    }\n",
       "</style>\n",
       "<table border=\"1\" class=\"dataframe\">\n",
       "  <thead>\n",
       "    <tr style=\"text-align: right;\">\n",
       "      <th></th>\n",
       "      <th>universe_id</th>\n",
       "      <th>universe_training_year</th>\n",
       "      <th>universe_training_size</th>\n",
       "      <th>universe_scale</th>\n",
       "      <th>universe_model</th>\n",
       "      <th>universe_exclude_features</th>\n",
       "      <th>universe_exclude_subgroups</th>\n",
       "      <th>q_hat</th>\n",
       "      <th>coverage</th>\n",
       "      <th>avg_size</th>\n",
       "      <th>cov_frau1</th>\n",
       "      <th>cov_nongerman</th>\n",
       "      <th>cov_nongerman_male</th>\n",
       "      <th>cov_nongerman_female</th>\n",
       "    </tr>\n",
       "  </thead>\n",
       "  <tbody>\n",
       "    <tr>\n",
       "      <th>0</th>\n",
       "      <td>ed9ac182deb9ca3db44564e3c4b4d7d5</td>\n",
       "      <td>2014</td>\n",
       "      <td>25k</td>\n",
       "      <td>do-not-scale</td>\n",
       "      <td>logreg</td>\n",
       "      <td>sex</td>\n",
       "      <td>drop-non-german</td>\n",
       "      <td>0.667244</td>\n",
       "      <td>0.913098</td>\n",
       "      <td>1.224055</td>\n",
       "      <td>0.912252</td>\n",
       "      <td>0.940717</td>\n",
       "      <td>0.951364</td>\n",
       "      <td>0.9231</td>\n",
       "    </tr>\n",
       "  </tbody>\n",
       "</table>\n",
       "</div>"
      ],
      "text/plain": [
       "                        universe_id universe_training_year  \\\n",
       "0  ed9ac182deb9ca3db44564e3c4b4d7d5                   2014   \n",
       "\n",
       "  universe_training_size universe_scale universe_model  \\\n",
       "0                    25k   do-not-scale         logreg   \n",
       "\n",
       "  universe_exclude_features universe_exclude_subgroups     q_hat  coverage  \\\n",
       "0                       sex            drop-non-german  0.667244  0.913098   \n",
       "\n",
       "   avg_size  cov_frau1  cov_nongerman  cov_nongerman_male  \\\n",
       "0  1.224055   0.912252       0.940717            0.951364   \n",
       "\n",
       "   cov_nongerman_female  \n",
       "0                0.9231  "
      ]
     },
     "execution_count": 58,
     "metadata": {},
     "output_type": "execute_result"
    }
   ],
   "source": [
    "cp_metrics_df"
   ]
  },
  {
   "cell_type": "markdown",
   "id": "33774451",
   "metadata": {
    "papermill": {
     "duration": 0.024141,
     "end_time": "2025-08-05T14:40:49.195799",
     "exception": false,
     "start_time": "2025-08-05T14:40:49.171658",
     "status": "completed"
    },
    "tags": []
   },
   "source": [
    "# (Fairness) Metrics"
   ]
  },
  {
   "cell_type": "code",
   "execution_count": 59,
   "id": "debc5d62",
   "metadata": {
    "execution": {
     "iopub.execute_input": "2025-08-05T14:40:49.249169Z",
     "iopub.status.busy": "2025-08-05T14:40:49.248344Z",
     "iopub.status.idle": "2025-08-05T14:40:49.271080Z",
     "shell.execute_reply": "2025-08-05T14:40:49.270083Z"
    },
    "papermill": {
     "duration": 0.051315,
     "end_time": "2025-08-05T14:40:49.273164",
     "exception": false,
     "start_time": "2025-08-05T14:40:49.221849",
     "status": "completed"
    },
    "tags": []
   },
   "outputs": [],
   "source": [
    "# do I need to include maxdeutsch1.missing?\n",
    "\n",
    "import numpy as np\n",
    "\n",
    "colname_to_bin = \"maxdeutsch1\"\n",
    "majority_value = org_train[colname_to_bin].mode()[0]\n",
    "\n",
    "org_test[\"majmin\"] = np.where(org_test[colname_to_bin] == majority_value, \"majority\", \"minority\")"
   ]
  },
  {
   "cell_type": "code",
   "execution_count": 60,
   "id": "06a50de5",
   "metadata": {
    "execution": {
     "iopub.execute_input": "2025-08-05T14:40:49.326946Z",
     "iopub.status.busy": "2025-08-05T14:40:49.325997Z",
     "iopub.status.idle": "2025-08-05T14:40:52.028842Z",
     "shell.execute_reply": "2025-08-05T14:40:52.027782Z"
    },
    "papermill": {
     "duration": 2.731143,
     "end_time": "2025-08-05T14:40:52.030781",
     "exception": false,
     "start_time": "2025-08-05T14:40:49.299638",
     "status": "completed"
    },
    "tags": []
   },
   "outputs": [],
   "source": [
    "example_universe = universe.copy()\n",
    "example_universe[\"cutoff\"] = example_universe[\"cutoff\"][0]\n",
    "example_universe[\"eval_fairness_grouping\"] = example_universe[\"eval_fairness_grouping\"][0]\n",
    "fairness_dict, metric_frame = universe_analysis.compute_metrics(\n",
    "    example_universe,\n",
    "    y_pred_prob=probs_test,\n",
    "    y_test=y_true,\n",
    "    org_test=org_test,\n",
    ")"
   ]
  },
  {
   "cell_type": "markdown",
   "id": "f95d4e02",
   "metadata": {
    "papermill": {
     "duration": 0.026594,
     "end_time": "2025-08-05T14:40:52.086705",
     "exception": false,
     "start_time": "2025-08-05T14:40:52.060111",
     "status": "completed"
    },
    "tags": []
   },
   "source": [
    "# Overall"
   ]
  },
  {
   "cell_type": "markdown",
   "id": "bdee4871",
   "metadata": {
    "papermill": {
     "duration": 0.026559,
     "end_time": "2025-08-05T14:40:52.138366",
     "exception": false,
     "start_time": "2025-08-05T14:40:52.111807",
     "status": "completed"
    },
    "tags": []
   },
   "source": [
    "Fairness\n",
    "Main fairness target: Equalized Odds. Seems to be a better fit than equal opportunity, since we're not only interested in Y = 1. Seems to be a better fit than demographic parity, since we also care about accuracy, not just equal distribution of preds.\n",
    "\n",
    "Pick column for computation of fairness metrics\n",
    "\n",
    "Performance\n",
    "Overall performance measures, most interesting in relation to the measures split by group below"
   ]
  },
  {
   "cell_type": "code",
   "execution_count": 61,
   "id": "c4e067c6",
   "metadata": {
    "execution": {
     "iopub.execute_input": "2025-08-05T14:40:52.191897Z",
     "iopub.status.busy": "2025-08-05T14:40:52.190952Z",
     "iopub.status.idle": "2025-08-05T14:40:52.200192Z",
     "shell.execute_reply": "2025-08-05T14:40:52.198971Z"
    },
    "papermill": {
     "duration": 0.038215,
     "end_time": "2025-08-05T14:40:52.202187",
     "exception": false,
     "start_time": "2025-08-05T14:40:52.163972",
     "status": "completed"
    },
    "tags": []
   },
   "outputs": [
    {
     "data": {
      "text/plain": [
       "accuracy                   0.217289\n",
       "balanced accuracy          0.532786\n",
       "f1                         0.238815\n",
       "precision                  0.136427\n",
       "false positive rate        0.891588\n",
       "false negative rate        0.042840\n",
       "selection rate             0.900000\n",
       "count                  89710.000000\n",
       "dtype: float64"
      ]
     },
     "execution_count": 61,
     "metadata": {},
     "output_type": "execute_result"
    }
   ],
   "source": [
    "metric_frame.overall"
   ]
  },
  {
   "cell_type": "markdown",
   "id": "e968fe9d",
   "metadata": {
    "papermill": {
     "duration": 0.02575,
     "end_time": "2025-08-05T14:40:52.254715",
     "exception": false,
     "start_time": "2025-08-05T14:40:52.228965",
     "status": "completed"
    },
    "tags": []
   },
   "source": [
    "By Group"
   ]
  },
  {
   "cell_type": "code",
   "execution_count": 62,
   "id": "ec325bce",
   "metadata": {
    "execution": {
     "iopub.execute_input": "2025-08-05T14:40:52.310392Z",
     "iopub.status.busy": "2025-08-05T14:40:52.309721Z",
     "iopub.status.idle": "2025-08-05T14:40:52.326533Z",
     "shell.execute_reply": "2025-08-05T14:40:52.325301Z"
    },
    "papermill": {
     "duration": 0.045488,
     "end_time": "2025-08-05T14:40:52.328434",
     "exception": false,
     "start_time": "2025-08-05T14:40:52.282946",
     "status": "completed"
    },
    "tags": []
   },
   "outputs": [
    {
     "data": {
      "text/html": [
       "<div>\n",
       "<style scoped>\n",
       "    .dataframe tbody tr th:only-of-type {\n",
       "        vertical-align: middle;\n",
       "    }\n",
       "\n",
       "    .dataframe tbody tr th {\n",
       "        vertical-align: top;\n",
       "    }\n",
       "\n",
       "    .dataframe thead th {\n",
       "        text-align: right;\n",
       "    }\n",
       "</style>\n",
       "<table border=\"1\" class=\"dataframe\">\n",
       "  <thead>\n",
       "    <tr style=\"text-align: right;\">\n",
       "      <th></th>\n",
       "      <th>accuracy</th>\n",
       "      <th>balanced accuracy</th>\n",
       "      <th>f1</th>\n",
       "      <th>precision</th>\n",
       "      <th>false positive rate</th>\n",
       "      <th>false negative rate</th>\n",
       "      <th>selection rate</th>\n",
       "      <th>count</th>\n",
       "    </tr>\n",
       "    <tr>\n",
       "      <th>majmin</th>\n",
       "      <th></th>\n",
       "      <th></th>\n",
       "      <th></th>\n",
       "      <th></th>\n",
       "      <th></th>\n",
       "      <th></th>\n",
       "      <th></th>\n",
       "      <th></th>\n",
       "    </tr>\n",
       "  </thead>\n",
       "  <tbody>\n",
       "    <tr>\n",
       "      <th>majority</th>\n",
       "      <td>0.239931</td>\n",
       "      <td>0.540538</td>\n",
       "      <td>0.248127</td>\n",
       "      <td>0.142718</td>\n",
       "      <td>0.868049</td>\n",
       "      <td>0.050875</td>\n",
       "      <td>0.878762</td>\n",
       "      <td>69170.0</td>\n",
       "    </tr>\n",
       "    <tr>\n",
       "      <th>minority</th>\n",
       "      <td>0.141042</td>\n",
       "      <td>0.509414</td>\n",
       "      <td>0.209649</td>\n",
       "      <td>0.117264</td>\n",
       "      <td>0.969348</td>\n",
       "      <td>0.011824</td>\n",
       "      <td>0.971519</td>\n",
       "      <td>20540.0</td>\n",
       "    </tr>\n",
       "  </tbody>\n",
       "</table>\n",
       "</div>"
      ],
      "text/plain": [
       "          accuracy  balanced accuracy        f1  precision  \\\n",
       "majmin                                                       \n",
       "majority  0.239931           0.540538  0.248127   0.142718   \n",
       "minority  0.141042           0.509414  0.209649   0.117264   \n",
       "\n",
       "          false positive rate  false negative rate  selection rate    count  \n",
       "majmin                                                                       \n",
       "majority             0.868049             0.050875        0.878762  69170.0  \n",
       "minority             0.969348             0.011824        0.971519  20540.0  "
      ]
     },
     "execution_count": 62,
     "metadata": {},
     "output_type": "execute_result"
    }
   ],
   "source": [
    "metric_frame.by_group"
   ]
  },
  {
   "cell_type": "code",
   "execution_count": 63,
   "id": "a9ddbe63",
   "metadata": {
    "execution": {
     "iopub.execute_input": "2025-08-05T14:40:52.390853Z",
     "iopub.status.busy": "2025-08-05T14:40:52.389869Z",
     "iopub.status.idle": "2025-08-05T14:40:55.036367Z",
     "shell.execute_reply": "2025-08-05T14:40:55.034881Z"
    },
    "papermill": {
     "duration": 2.681587,
     "end_time": "2025-08-05T14:40:55.038251",
     "exception": false,
     "start_time": "2025-08-05T14:40:52.356664",
     "status": "completed"
    },
    "tags": []
   },
   "outputs": [
    {
     "data": {
      "text/plain": [
       "array([[<Axes: title={'center': 'accuracy'}, xlabel='majmin'>,\n",
       "        <Axes: title={'center': 'balanced accuracy'}, xlabel='majmin'>,\n",
       "        <Axes: title={'center': 'f1'}, xlabel='majmin'>],\n",
       "       [<Axes: title={'center': 'precision'}, xlabel='majmin'>,\n",
       "        <Axes: title={'center': 'false positive rate'}, xlabel='majmin'>,\n",
       "        <Axes: title={'center': 'false negative rate'}, xlabel='majmin'>],\n",
       "       [<Axes: title={'center': 'selection rate'}, xlabel='majmin'>,\n",
       "        <Axes: title={'center': 'count'}, xlabel='majmin'>,\n",
       "        <Axes: xlabel='majmin'>]], dtype=object)"
      ]
     },
     "execution_count": 63,
     "metadata": {},
     "output_type": "execute_result"
    },
    {
     "data": {
      "image/png": "[encoded data removed]",
      "text/plain": [
       "<Figure size 1200x800 with 9 Axes>"
      ]
     },
     "metadata": {},
     "output_type": "display_data"
    }
   ],
   "source": [
    "# In a graphic\n",
    "metric_frame.by_group.plot.bar(\n",
    "    subplots=True,\n",
    "    layout=[3, 3],\n",
    "    legend=False,\n",
    "    figsize=[12, 8],\n",
    "    title=\"Show all metrics\",\n",
    ")"
   ]
  },
  {
   "cell_type": "markdown",
   "id": "f57a0bac",
   "metadata": {
    "papermill": {
     "duration": 0.025714,
     "end_time": "2025-08-05T14:40:55.090835",
     "exception": false,
     "start_time": "2025-08-05T14:40:55.065121",
     "status": "completed"
    },
    "tags": []
   },
   "source": [
    "# Final Output"
   ]
  },
  {
   "cell_type": "code",
   "execution_count": 64,
   "id": "96d280a3",
   "metadata": {
    "execution": {
     "iopub.execute_input": "2025-08-05T14:40:55.150212Z",
     "iopub.status.busy": "2025-08-05T14:40:55.149119Z",
     "iopub.status.idle": "2025-08-05T14:40:55.161036Z",
     "shell.execute_reply": "2025-08-05T14:40:55.160186Z"
    },
    "papermill": {
     "duration": 0.043572,
     "end_time": "2025-08-05T14:40:55.162921",
     "exception": false,
     "start_time": "2025-08-05T14:40:55.119349",
     "status": "completed"
    },
    "tags": []
   },
   "outputs": [
    {
     "data": {
      "text/plain": [
       "4"
      ]
     },
     "execution_count": 64,
     "metadata": {},
     "output_type": "execute_result"
    }
   ],
   "source": [
    "sub_universes = universe_analysis.generate_sub_universes()\n",
    "len(sub_universes)"
   ]
  },
  {
   "cell_type": "code",
   "execution_count": 65,
   "id": "92adf7ba",
   "metadata": {
    "execution": {
     "iopub.execute_input": "2025-08-05T14:40:55.217462Z",
     "iopub.status.busy": "2025-08-05T14:40:55.216755Z",
     "iopub.status.idle": "2025-08-05T14:40:55.231374Z",
     "shell.execute_reply": "2025-08-05T14:40:55.230273Z"
    },
    "papermill": {
     "duration": 0.041914,
     "end_time": "2025-08-05T14:40:55.233118",
     "exception": false,
     "start_time": "2025-08-05T14:40:55.191204",
     "status": "completed"
    },
    "tags": []
   },
   "outputs": [],
   "source": [
    "def filter_sub_universe_data(sub_universe, org_test):\n",
    "    # Keep all rows — no filtering\n",
    "    keep_rows_mask = np.ones(org_test.shape[0], dtype=bool)\n",
    "\n",
    "    print(f\"[INFO] Keeping all rows: {keep_rows_mask.sum()} rows retained.\")\n",
    "    return keep_rows_mask"
   ]
  },
  {
   "cell_type": "code",
   "execution_count": 66,
   "id": "4a759155",
   "metadata": {
    "execution": {
     "iopub.execute_input": "2025-08-05T14:40:55.265768Z",
     "iopub.status.busy": "2025-08-05T14:40:55.264828Z",
     "iopub.status.idle": "2025-08-05T14:41:04.352367Z",
     "shell.execute_reply": "2025-08-05T14:41:04.351444Z"
    },
    "papermill": {
     "duration": 9.105559,
     "end_time": "2025-08-05T14:41:04.353867",
     "exception": false,
     "start_time": "2025-08-05T14:40:55.248308",
     "status": "completed"
    },
    "tags": []
   },
   "outputs": [
    {
     "name": "stdout",
     "output_type": "stream",
     "text": [
      "Stopping execution_time clock.\n",
      "[INFO] Keeping all rows: 89710 rows retained.\n"
     ]
    },
    {
     "name": "stdout",
     "output_type": "stream",
     "text": [
      "[INFO] Keeping all rows: 89710 rows retained.\n"
     ]
    },
    {
     "name": "stdout",
     "output_type": "stream",
     "text": [
      "[INFO] Keeping all rows: 89710 rows retained.\n"
     ]
    },
    {
     "name": "stdout",
     "output_type": "stream",
     "text": [
      "[INFO] Keeping all rows: 89710 rows retained.\n"
     ]
    },
    {
     "data": {
      "text/html": [
       "<div>\n",
       "<style scoped>\n",
       "    .dataframe tbody tr th:only-of-type {\n",
       "        vertical-align: middle;\n",
       "    }\n",
       "\n",
       "    .dataframe tbody tr th {\n",
       "        vertical-align: top;\n",
       "    }\n",
       "\n",
       "    .dataframe thead th {\n",
       "        text-align: right;\n",
       "    }\n",
       "</style>\n",
       "<table border=\"1\" class=\"dataframe\">\n",
       "  <thead>\n",
       "    <tr style=\"text-align: right;\">\n",
       "      <th></th>\n",
       "      <th>run_no</th>\n",
       "      <th>universe_id</th>\n",
       "      <th>universe_settings</th>\n",
       "      <th>execution_time</th>\n",
       "      <th>test_size_n</th>\n",
       "      <th>test_size_frac</th>\n",
       "      <th>fair_main_equalized_odds_difference</th>\n",
       "      <th>fair_main_equalized_odds_ratio</th>\n",
       "      <th>fair_main_demographic_parity_difference</th>\n",
       "      <th>fair_main_demographic_parity_ratio</th>\n",
       "      <th>...</th>\n",
       "      <th>perf_grp_precision_0</th>\n",
       "      <th>perf_grp_precision_1</th>\n",
       "      <th>perf_grp_false positive rate_0</th>\n",
       "      <th>perf_grp_false positive rate_1</th>\n",
       "      <th>perf_grp_false negative rate_0</th>\n",
       "      <th>perf_grp_false negative rate_1</th>\n",
       "      <th>perf_grp_selection rate_0</th>\n",
       "      <th>perf_grp_selection rate_1</th>\n",
       "      <th>perf_grp_count_0</th>\n",
       "      <th>perf_grp_count_1</th>\n",
       "    </tr>\n",
       "  </thead>\n",
       "  <tbody>\n",
       "    <tr>\n",
       "      <th>0</th>\n",
       "      <td>15</td>\n",
       "      <td>ed9ac182deb9ca3db44564e3c4b4d7d5</td>\n",
       "      <td>{\"cutoff\": \"quantile_0.1\", \"eval_fairness_grou...</td>\n",
       "      <td>23.322552</td>\n",
       "      <td>89710</td>\n",
       "      <td>1.0</td>\n",
       "      <td>0.101299</td>\n",
       "      <td>0.895498</td>\n",
       "      <td>0.092757</td>\n",
       "      <td>0.904524</td>\n",
       "      <td>...</td>\n",
       "      <td>NaN</td>\n",
       "      <td>NaN</td>\n",
       "      <td>NaN</td>\n",
       "      <td>NaN</td>\n",
       "      <td>NaN</td>\n",
       "      <td>NaN</td>\n",
       "      <td>NaN</td>\n",
       "      <td>NaN</td>\n",
       "      <td>NaN</td>\n",
       "      <td>NaN</td>\n",
       "    </tr>\n",
       "    <tr>\n",
       "      <th>0</th>\n",
       "      <td>15</td>\n",
       "      <td>ed9ac182deb9ca3db44564e3c4b4d7d5</td>\n",
       "      <td>{\"cutoff\": \"quantile_0.1\", \"eval_fairness_grou...</td>\n",
       "      <td>23.322552</td>\n",
       "      <td>89710</td>\n",
       "      <td>1.0</td>\n",
       "      <td>0.101299</td>\n",
       "      <td>0.895498</td>\n",
       "      <td>0.092757</td>\n",
       "      <td>0.904524</td>\n",
       "      <td>...</td>\n",
       "      <td>0.117264</td>\n",
       "      <td>0.142718</td>\n",
       "      <td>0.969348</td>\n",
       "      <td>0.868049</td>\n",
       "      <td>0.011824</td>\n",
       "      <td>0.050875</td>\n",
       "      <td>0.971519</td>\n",
       "      <td>0.878762</td>\n",
       "      <td>20540.0</td>\n",
       "      <td>69170.0</td>\n",
       "    </tr>\n",
       "    <tr>\n",
       "      <th>0</th>\n",
       "      <td>15</td>\n",
       "      <td>ed9ac182deb9ca3db44564e3c4b4d7d5</td>\n",
       "      <td>{\"cutoff\": \"quantile_0.25\", \"eval_fairness_gro...</td>\n",
       "      <td>23.322552</td>\n",
       "      <td>89710</td>\n",
       "      <td>1.0</td>\n",
       "      <td>0.222928</td>\n",
       "      <td>0.752789</td>\n",
       "      <td>0.204716</td>\n",
       "      <td>0.774502</td>\n",
       "      <td>...</td>\n",
       "      <td>NaN</td>\n",
       "      <td>NaN</td>\n",
       "      <td>NaN</td>\n",
       "      <td>NaN</td>\n",
       "      <td>NaN</td>\n",
       "      <td>NaN</td>\n",
       "      <td>NaN</td>\n",
       "      <td>NaN</td>\n",
       "      <td>NaN</td>\n",
       "      <td>NaN</td>\n",
       "    </tr>\n",
       "    <tr>\n",
       "      <th>0</th>\n",
       "      <td>15</td>\n",
       "      <td>ed9ac182deb9ca3db44564e3c4b4d7d5</td>\n",
       "      <td>{\"cutoff\": \"quantile_0.25\", \"eval_fairness_gro...</td>\n",
       "      <td>23.322552</td>\n",
       "      <td>89710</td>\n",
       "      <td>1.0</td>\n",
       "      <td>0.222928</td>\n",
       "      <td>0.752789</td>\n",
       "      <td>0.204716</td>\n",
       "      <td>0.774502</td>\n",
       "      <td>...</td>\n",
       "      <td>0.121199</td>\n",
       "      <td>0.162105</td>\n",
       "      <td>0.901772</td>\n",
       "      <td>0.678844</td>\n",
       "      <td>0.045608</td>\n",
       "      <td>0.137418</td>\n",
       "      <td>0.907838</td>\n",
       "      <td>0.703123</td>\n",
       "      <td>20540.0</td>\n",
       "      <td>69170.0</td>\n",
       "    </tr>\n",
       "  </tbody>\n",
       "</table>\n",
       "<p>4 rows × 50 columns</p>\n",
       "</div>"
      ],
      "text/plain": [
       "  run_no                       universe_id  \\\n",
       "0     15  ed9ac182deb9ca3db44564e3c4b4d7d5   \n",
       "0     15  ed9ac182deb9ca3db44564e3c4b4d7d5   \n",
       "0     15  ed9ac182deb9ca3db44564e3c4b4d7d5   \n",
       "0     15  ed9ac182deb9ca3db44564e3c4b4d7d5   \n",
       "\n",
       "                                   universe_settings  execution_time  \\\n",
       "0  {\"cutoff\": \"quantile_0.1\", \"eval_fairness_grou...       23.322552   \n",
       "0  {\"cutoff\": \"quantile_0.1\", \"eval_fairness_grou...       23.322552   \n",
       "0  {\"cutoff\": \"quantile_0.25\", \"eval_fairness_gro...       23.322552   \n",
       "0  {\"cutoff\": \"quantile_0.25\", \"eval_fairness_gro...       23.322552   \n",
       "\n",
       "   test_size_n  test_size_frac  fair_main_equalized_odds_difference  \\\n",
       "0        89710             1.0                             0.101299   \n",
       "0        89710             1.0                             0.101299   \n",
       "0        89710             1.0                             0.222928   \n",
       "0        89710             1.0                             0.222928   \n",
       "\n",
       "   fair_main_equalized_odds_ratio  fair_main_demographic_parity_difference  \\\n",
       "0                        0.895498                                 0.092757   \n",
       "0                        0.895498                                 0.092757   \n",
       "0                        0.752789                                 0.204716   \n",
       "0                        0.752789                                 0.204716   \n",
       "\n",
       "   fair_main_demographic_parity_ratio  ...  perf_grp_precision_0  \\\n",
       "0                            0.904524  ...                   NaN   \n",
       "0                            0.904524  ...              0.117264   \n",
       "0                            0.774502  ...                   NaN   \n",
       "0                            0.774502  ...              0.121199   \n",
       "\n",
       "   perf_grp_precision_1  perf_grp_false positive rate_0  \\\n",
       "0                   NaN                             NaN   \n",
       "0              0.142718                        0.969348   \n",
       "0                   NaN                             NaN   \n",
       "0              0.162105                        0.901772   \n",
       "\n",
       "   perf_grp_false positive rate_1  perf_grp_false negative rate_0  \\\n",
       "0                             NaN                             NaN   \n",
       "0                        0.868049                        0.011824   \n",
       "0                             NaN                             NaN   \n",
       "0                        0.678844                        0.045608   \n",
       "\n",
       "   perf_grp_false negative rate_1  perf_grp_selection rate_0  \\\n",
       "0                             NaN                        NaN   \n",
       "0                        0.050875                   0.971519   \n",
       "0                             NaN                        NaN   \n",
       "0                        0.137418                   0.907838   \n",
       "\n",
       "   perf_grp_selection rate_1  perf_grp_count_0  perf_grp_count_1  \n",
       "0                        NaN               NaN               NaN  \n",
       "0                   0.878762           20540.0           69170.0  \n",
       "0                        NaN               NaN               NaN  \n",
       "0                   0.703123           20540.0           69170.0  \n",
       "\n",
       "[4 rows x 50 columns]"
      ]
     },
     "execution_count": 66,
     "metadata": {},
     "output_type": "execute_result"
    }
   ],
   "source": [
    "final_output = universe_analysis.generate_final_output(\n",
    "    y_pred_prob=probs_test,\n",
    "    y_test=y_true,\n",
    "    org_test=org_test,\n",
    "    filter_data=filter_sub_universe_data,\n",
    "    cp_metrics_df=cp_metrics_df,\n",
    "    save=True,\n",
    ")\n",
    "final_output"
   ]
  }
 ],
 "metadata": {
  "celltoolbar": "Tags",
  "kernelspec": {
   "display_name": "Python (CMA Fairness)",
   "language": "python",
   "name": "cma_fair_env"
  },
  "language_info": {
   "codemirror_mode": {
    "name": "ipython",
    "version": 3
   },
   "file_extension": ".py",
   "mimetype": "text/x-python",
   "name": "python",
   "nbconvert_exporter": "python",
   "pygments_lexer": "ipython3",
   "version": "3.10.12"
  },
  "papermill": {
   "default_parameters": {},
   "duration": 36.315639,
   "end_time": "2025-08-05T14:41:05.103975",
   "environment_variables": {},
   "exception": null,
   "input_path": "universe_analysis.ipynb",
   "output_path": "output/runs/15/notebooks/m_15-ed9ac182deb9ca3db44564e3c4b4d7d5.ipynb",
   "parameters": {
    "output_dir": "output",
    "run_no": "15",
    "seed": "2023",
    "universe": "{\"cutoff\": [\"quantile_0.1\", \"quantile_0.25\"], \"eval_fairness_grouping\": [\"majority-minority\", \"nationality-all\"], \"exclude_features\": \"sex\", \"exclude_subgroups\": \"drop-non-german\", \"model\": \"logreg\", \"scale\": \"do-not-scale\", \"training_size\": \"25k\", \"training_year\": \"2014\"}",
    "universe_id": "ed9ac182deb9ca3db44564e3c4b4d7d5"
   },
   "start_time": "2025-08-05T14:40:28.788336",
   "version": "2.6.0"
  }
 },
 "nbformat": 4,
 "nbformat_minor": 5
}