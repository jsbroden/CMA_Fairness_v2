{
 "cells": [
  {
   "cell_type": "code",
   "execution_count": 1,
   "id": "f159f837-637b-42ba-96b5-ec9a68c44524",
   "metadata": {
    "execution": {
     "iopub.execute_input": "2025-08-05T15:50:17.182226Z",
     "iopub.status.busy": "2025-08-05T15:50:17.181693Z",
     "iopub.status.idle": "2025-08-05T15:50:17.196096Z",
     "shell.execute_reply": "2025-08-05T15:50:17.194806Z"
    },
    "papermill": {
     "duration": 0.036235,
     "end_time": "2025-08-05T15:50:17.197941",
     "exception": false,
     "start_time": "2025-08-05T15:50:17.161706",
     "status": "completed"
    },
    "tags": []
   },
   "outputs": [
    {
     "name": "stdout",
     "output_type": "stream",
     "text": [
      "/dss/dsshome1/0C/ra93lal2/cma/CMA_Fairness_v2\n"
     ]
    },
    {
     "name": "stderr",
     "output_type": "stream",
     "text": [
      "/dss/dsshome1/0C/ra93lal2/.local/share/virtualenvs/CMA_Fairness_v2-3j10GkSs/lib/python3.10/site-packages/IPython/core/magics/osm.py:393: UserWarning: This is now an optional IPython functionality, using bookmarks requires you to install the `pickleshare` library.\n",
      "  bkms = self.shell.db.get('bookmarks', {})\n",
      "/dss/dsshome1/0C/ra93lal2/.local/share/virtualenvs/CMA_Fairness_v2-3j10GkSs/lib/python3.10/site-packages/IPython/core/magics/osm.py:417: UserWarning: This is now an optional IPython functionality, setting dhist requires you to install the `pickleshare` library.\n",
      "  self.shell.db['dhist'] = compress_dhist(dhist)[-100:]\n"
     ]
    }
   ],
   "source": [
    "%cd ~/cma/CMA_Fairness_v2"
   ]
  },
  {
   "cell_type": "markdown",
   "id": "de2603b9",
   "metadata": {
    "papermill": {
     "duration": 0.016134,
     "end_time": "2025-08-05T15:50:17.232782",
     "exception": false,
     "start_time": "2025-08-05T15:50:17.216648",
     "status": "completed"
    },
    "tags": []
   },
   "source": [
    "The following cell holds the definition of our parameters, these values can be overriden by rendering the with e.g. the following command:\n",
    "\n",
    "papermill -p alpha 0.2 -p ratio 0.3 universe_analysis.ipynb output/test_run.ipynb"
   ]
  },
  {
   "cell_type": "code",
   "execution_count": 2,
   "id": "a80968a0-40bb-4fa9-85ef-2d5eefb01975",
   "metadata": {
    "execution": {
     "iopub.execute_input": "2025-08-05T15:50:17.272085Z",
     "iopub.status.busy": "2025-08-05T15:50:17.271038Z",
     "iopub.status.idle": "2025-08-05T15:50:17.277041Z",
     "shell.execute_reply": "2025-08-05T15:50:17.276024Z"
    },
    "papermill": {
     "duration": 0.02868,
     "end_time": "2025-08-05T15:50:17.279002",
     "exception": false,
     "start_time": "2025-08-05T15:50:17.250322",
     "status": "completed"
    },
    "tags": []
   },
   "outputs": [
    {
     "name": "stdout",
     "output_type": "stream",
     "text": [
      "Current working directory: /dss/dsshome1/0C/ra93lal2/cma/CMA_Fairness_v2\n"
     ]
    }
   ],
   "source": [
    "import os\n",
    "print(\"Current working directory:\", os.getcwd())"
   ]
  },
  {
   "cell_type": "code",
   "execution_count": 3,
   "id": "2dce4c03",
   "metadata": {
    "execution": {
     "iopub.execute_input": "2025-08-05T15:50:17.317362Z",
     "iopub.status.busy": "2025-08-05T15:50:17.316801Z",
     "iopub.status.idle": "2025-08-05T15:50:17.323088Z",
     "shell.execute_reply": "2025-08-05T15:50:17.322043Z"
    },
    "papermill": {
     "duration": 0.027439,
     "end_time": "2025-08-05T15:50:17.324834",
     "exception": false,
     "start_time": "2025-08-05T15:50:17.297395",
     "status": "completed"
    },
    "tags": [
     "parameters"
    ]
   },
   "outputs": [],
   "source": [
    "run_no = 0\n",
    "universe_id = \"test\"\n",
    "universe = {\n",
    "    \"training_size\": \"25k\", # \"25k\", \"5k\", \"1k\"\n",
    "    \"training_year\": \"2014\", # \"2014\", \"2012_14\", \"2010_14\"\n",
    "    \"scale\": \"scale\", # \"scale\", \"do-not-scale\",\n",
    "    \"model\": \"elasticnet\", # \"logreg\", \"penalized_logreg\", \"rf\", \"gbm\", \"elasticnet\"\n",
    "    \"cutoff\": [\"quantile_0.15\", \"quantile_0.30\"],\n",
    "    \"exclude_features\": \"age\", # \"none\", \"nationality\", \"sex\", \"nationality-sex\", \"age\"\n",
    "    \"exclude_subgroups\": \"keep-all\", # \"keep-all\", \"drop-non-german\"\n",
    "    \"eval_fairness_grouping\": [\"majority-minority\", \"nationality-all\"]\n",
    "}\n",
    "\n",
    "output_dir=\"./output\"\n",
    "seed=0"
   ]
  },
  {
   "cell_type": "code",
   "execution_count": 4,
   "id": "871065a1",
   "metadata": {
    "execution": {
     "iopub.execute_input": "2025-08-05T15:50:17.362004Z",
     "iopub.status.busy": "2025-08-05T15:50:17.360425Z",
     "iopub.status.idle": "2025-08-05T15:50:17.366957Z",
     "shell.execute_reply": "2025-08-05T15:50:17.365902Z"
    },
    "papermill": {
     "duration": 0.02675,
     "end_time": "2025-08-05T15:50:17.368737",
     "exception": false,
     "start_time": "2025-08-05T15:50:17.341987",
     "status": "completed"
    },
    "tags": [
     "injected-parameters"
    ]
   },
   "outputs": [],
   "source": [
    "# Parameters\n",
    "universe_id = \"3913eb247a3d8e4dccc082fd444aebff\"\n",
    "run_no = \"15\"\n",
    "universe = \"{\\\"cutoff\\\": [\\\"quantile_0.1\\\", \\\"quantile_0.25\\\"], \\\"eval_fairness_grouping\\\": [\\\"majority-minority\\\", \\\"nationality-all\\\"], \\\"exclude_features\\\": \\\"nationality\\\", \\\"exclude_subgroups\\\": \\\"keep-all\\\", \\\"model\\\": \\\"rf\\\", \\\"scale\\\": \\\"scale\\\", \\\"training_size\\\": \\\"5k\\\", \\\"training_year\\\": \\\"2010_14\\\"}\"\n",
    "output_dir = \"output\"\n",
    "seed = \"2023\"\n"
   ]
  },
  {
   "cell_type": "code",
   "execution_count": 5,
   "id": "1650acaf",
   "metadata": {
    "execution": {
     "iopub.execute_input": "2025-08-05T15:50:17.408848Z",
     "iopub.status.busy": "2025-08-05T15:50:17.408126Z",
     "iopub.status.idle": "2025-08-05T15:50:17.414162Z",
     "shell.execute_reply": "2025-08-05T15:50:17.413012Z"
    },
    "papermill": {
     "duration": 0.027048,
     "end_time": "2025-08-05T15:50:17.415524",
     "exception": false,
     "start_time": "2025-08-05T15:50:17.388476",
     "status": "completed"
    },
    "tags": []
   },
   "outputs": [],
   "source": [
    "import json\n",
    "if isinstance(universe, str):\n",
    "    universe = json.loads(universe)"
   ]
  },
  {
   "cell_type": "code",
   "execution_count": 6,
   "id": "16620c48",
   "metadata": {
    "execution": {
     "iopub.execute_input": "2025-08-05T15:50:17.436603Z",
     "iopub.status.busy": "2025-08-05T15:50:17.435771Z",
     "iopub.status.idle": "2025-08-05T15:50:17.468819Z",
     "shell.execute_reply": "2025-08-05T15:50:17.468060Z"
    },
    "papermill": {
     "duration": 0.044912,
     "end_time": "2025-08-05T15:50:17.470236",
     "exception": false,
     "start_time": "2025-08-05T15:50:17.425324",
     "status": "completed"
    },
    "tags": []
   },
   "outputs": [],
   "source": [
    "# Auto-reload the custom package\n",
    "%load_ext autoreload\n",
    "%autoreload 1\n",
    "%aimport fairness_multiverse"
   ]
  },
  {
   "cell_type": "code",
   "execution_count": 7,
   "id": "01c5c9f3",
   "metadata": {
    "execution": {
     "iopub.execute_input": "2025-08-05T15:50:17.493563Z",
     "iopub.status.busy": "2025-08-05T15:50:17.493121Z",
     "iopub.status.idle": "2025-08-05T15:50:19.382114Z",
     "shell.execute_reply": "2025-08-05T15:50:19.381127Z"
    },
    "papermill": {
     "duration": 1.902894,
     "end_time": "2025-08-05T15:50:19.384224",
     "exception": false,
     "start_time": "2025-08-05T15:50:17.481330",
     "status": "completed"
    },
    "tags": []
   },
   "outputs": [],
   "source": [
    "from fairness_multiverse.universe import UniverseAnalysis\n",
    "\n",
    "universe_analysis = UniverseAnalysis(\n",
    "    run_no = run_no,\n",
    "    universe_id = universe_id,\n",
    "    universe = universe,\n",
    "    output_dir=output_dir,\n",
    ")"
   ]
  },
  {
   "cell_type": "code",
   "execution_count": 8,
   "id": "106241f5",
   "metadata": {
    "execution": {
     "iopub.execute_input": "2025-08-05T15:50:19.435481Z",
     "iopub.status.busy": "2025-08-05T15:50:19.434981Z",
     "iopub.status.idle": "2025-08-05T15:50:19.441458Z",
     "shell.execute_reply": "2025-08-05T15:50:19.440312Z"
    },
    "papermill": {
     "duration": 0.029671,
     "end_time": "2025-08-05T15:50:19.443617",
     "exception": false,
     "start_time": "2025-08-05T15:50:19.413946",
     "status": "completed"
    },
    "tags": []
   },
   "outputs": [
    {
     "name": "stdout",
     "output_type": "stream",
     "text": [
      "Using Seed: 2023\n"
     ]
    }
   ],
   "source": [
    "import numpy as np\n",
    "parsed_seed = int(seed)\n",
    "np.random.seed(parsed_seed)\n",
    "print(f\"Using Seed: {parsed_seed}\")"
   ]
  },
  {
   "cell_type": "markdown",
   "id": "e0ebdc57",
   "metadata": {
    "papermill": {
     "duration": 0.020769,
     "end_time": "2025-08-05T15:50:19.483816",
     "exception": false,
     "start_time": "2025-08-05T15:50:19.463047",
     "status": "completed"
    },
    "tags": []
   },
   "source": [
    "# Loading Data"
   ]
  },
  {
   "cell_type": "code",
   "execution_count": 9,
   "id": "f0496b8a",
   "metadata": {
    "execution": {
     "iopub.execute_input": "2025-08-05T15:50:19.524472Z",
     "iopub.status.busy": "2025-08-05T15:50:19.523990Z",
     "iopub.status.idle": "2025-08-05T15:50:31.614546Z",
     "shell.execute_reply": "2025-08-05T15:50:31.613350Z"
    },
    "papermill": {
     "duration": 12.112846,
     "end_time": "2025-08-05T15:50:31.616105",
     "exception": false,
     "start_time": "2025-08-05T15:50:19.503259",
     "status": "completed"
    },
    "tags": []
   },
   "outputs": [
    {
     "name": "stdout",
     "output_type": "stream",
     "text": [
      "Loading SIAB data from cache: data/siab_cached.csv.gz\n"
     ]
    },
    {
     "name": "stdout",
     "output_type": "stream",
     "text": [
      "(643690, 164)\n"
     ]
    }
   ],
   "source": [
    "from pathlib import Path\n",
    "import pandas as pd\n",
    "\n",
    "# File paths\n",
    "raw_file = Path(\"data/raw/siab.csv\")\n",
    "cache_file = Path(\"data/siab_cached.csv.gz\")\n",
    "\n",
    "# Ensure cache directory exists\n",
    "cache_file.parent.mkdir(parents=True, exist_ok=True)\n",
    "\n",
    "# Load with simple caching\n",
    "if cache_file.exists():\n",
    "    print(f\"Loading SIAB data from cache: {cache_file}\")\n",
    "    siab = pd.read_csv(cache_file, compression='gzip')\n",
    "else:\n",
    "    print(f\"Cache not found. Reading raw SIAB data: {raw_file}\")\n",
    "    siab = pd.read_csv(raw_file)\n",
    "    siab.to_csv(cache_file, index=False, compression='gzip')\n",
    "    print(f\"Cached SIAB data to: {cache_file}\")\n",
    "\n",
    "print(siab.shape)"
   ]
  },
  {
   "cell_type": "code",
   "execution_count": 10,
   "id": "db0ca512-5f53-4dba-abdb-a2888bca41ba",
   "metadata": {
    "execution": {
     "iopub.execute_input": "2025-08-05T15:50:31.648198Z",
     "iopub.status.busy": "2025-08-05T15:50:31.647676Z",
     "iopub.status.idle": "2025-08-05T15:50:31.653629Z",
     "shell.execute_reply": "2025-08-05T15:50:31.652614Z"
    },
    "papermill": {
     "duration": 0.024616,
     "end_time": "2025-08-05T15:50:31.655441",
     "exception": false,
     "start_time": "2025-08-05T15:50:31.630825",
     "status": "completed"
    },
    "tags": []
   },
   "outputs": [],
   "source": [
    "#siab"
   ]
  },
  {
   "cell_type": "markdown",
   "id": "997051c5-15bd-4b69-9786-c3001a3ce484",
   "metadata": {
    "papermill": {
     "duration": 0.016151,
     "end_time": "2025-08-05T15:50:31.688128",
     "exception": false,
     "start_time": "2025-08-05T15:50:31.671977",
     "status": "completed"
    },
    "tags": []
   },
   "source": [
    "# Splitting Data and Setting Training Data Size"
   ]
  },
  {
   "cell_type": "code",
   "execution_count": 11,
   "id": "aea9c6ef-6f46-42c8-85eb-5a62025c1508",
   "metadata": {
    "execution": {
     "iopub.execute_input": "2025-08-05T15:50:31.723068Z",
     "iopub.status.busy": "2025-08-05T15:50:31.722527Z",
     "iopub.status.idle": "2025-08-05T15:50:32.698062Z",
     "shell.execute_reply": "2025-08-05T15:50:32.697252Z"
    },
    "papermill": {
     "duration": 0.994495,
     "end_time": "2025-08-05T15:50:32.699421",
     "exception": false,
     "start_time": "2025-08-05T15:50:31.704926",
     "status": "completed"
    },
    "tags": []
   },
   "outputs": [],
   "source": [
    "from fairness_multiverse.universe import sample_by_year_size\n",
    "\n",
    "siab_train = sample_by_year_size(siab,\n",
    "                               training_year=universe[\"training_year\"],\n",
    "                               training_size=universe[\"training_size\"])"
   ]
  },
  {
   "cell_type": "code",
   "execution_count": 12,
   "id": "8d3afb32-789d-442c-8d5d-9f5aa8dd2eed",
   "metadata": {
    "execution": {
     "iopub.execute_input": "2025-08-05T15:50:32.728742Z",
     "iopub.status.busy": "2025-08-05T15:50:32.728375Z",
     "iopub.status.idle": "2025-08-05T15:50:32.732545Z",
     "shell.execute_reply": "2025-08-05T15:50:32.731670Z"
    },
    "papermill": {
     "duration": 0.022305,
     "end_time": "2025-08-05T15:50:32.734233",
     "exception": false,
     "start_time": "2025-08-05T15:50:32.711928",
     "status": "completed"
    },
    "tags": []
   },
   "outputs": [],
   "source": [
    "#siab_train.shape"
   ]
  },
  {
   "cell_type": "code",
   "execution_count": 13,
   "id": "d582db68-1a4c-47fb-84fc-08518dc1975a",
   "metadata": {
    "execution": {
     "iopub.execute_input": "2025-08-05T15:50:32.767496Z",
     "iopub.status.busy": "2025-08-05T15:50:32.767132Z",
     "iopub.status.idle": "2025-08-05T15:50:32.772030Z",
     "shell.execute_reply": "2025-08-05T15:50:32.771068Z"
    },
    "papermill": {
     "duration": 0.022998,
     "end_time": "2025-08-05T15:50:32.773906",
     "exception": false,
     "start_time": "2025-08-05T15:50:32.750908",
     "status": "completed"
    },
    "tags": []
   },
   "outputs": [],
   "source": [
    "#display(siab_train.groupby(\"year\").size())"
   ]
  },
  {
   "cell_type": "code",
   "execution_count": 14,
   "id": "a561edb4-d032-42cb-8256-22eac1111c64",
   "metadata": {
    "execution": {
     "iopub.execute_input": "2025-08-05T15:50:32.808677Z",
     "iopub.status.busy": "2025-08-05T15:50:32.808318Z",
     "iopub.status.idle": "2025-08-05T15:50:33.024736Z",
     "shell.execute_reply": "2025-08-05T15:50:33.023974Z"
    },
    "papermill": {
     "duration": 0.235522,
     "end_time": "2025-08-05T15:50:33.026531",
     "exception": false,
     "start_time": "2025-08-05T15:50:32.791009",
     "status": "completed"
    },
    "tags": []
   },
   "outputs": [],
   "source": [
    "#siab_train = siab_s[siab_s.year < 2015]\n",
    "siab_calib = siab[siab.year == 2015]\n",
    "siab_test = siab[siab.year == 2016]"
   ]
  },
  {
   "cell_type": "code",
   "execution_count": 15,
   "id": "472de16f-c3db-4916-846b-1f0de9cf1746",
   "metadata": {
    "execution": {
     "iopub.execute_input": "2025-08-05T15:50:33.063452Z",
     "iopub.status.busy": "2025-08-05T15:50:33.062737Z",
     "iopub.status.idle": "2025-08-05T15:50:33.071520Z",
     "shell.execute_reply": "2025-08-05T15:50:33.070450Z"
    },
    "papermill": {
     "duration": 0.027913,
     "end_time": "2025-08-05T15:50:33.073107",
     "exception": false,
     "start_time": "2025-08-05T15:50:33.045194",
     "status": "completed"
    },
    "tags": []
   },
   "outputs": [],
   "source": [
    "X_train = siab_train.iloc[:,4:164]\n",
    "y_train = siab_train.iloc[:, [3]]"
   ]
  },
  {
   "cell_type": "code",
   "execution_count": 16,
   "id": "828c96af-f43a-4ed6-ba47-8ac73a47d56c",
   "metadata": {
    "execution": {
     "iopub.execute_input": "2025-08-05T15:50:33.094559Z",
     "iopub.status.busy": "2025-08-05T15:50:33.094106Z",
     "iopub.status.idle": "2025-08-05T15:50:33.141178Z",
     "shell.execute_reply": "2025-08-05T15:50:33.140237Z"
    },
    "papermill": {
     "duration": 0.05873,
     "end_time": "2025-08-05T15:50:33.142957",
     "exception": false,
     "start_time": "2025-08-05T15:50:33.084227",
     "status": "completed"
    },
    "tags": []
   },
   "outputs": [],
   "source": [
    "X_calib = siab_calib.iloc[:,4:164]\n",
    "y_calib = siab_calib.iloc[:, [3]]"
   ]
  },
  {
   "cell_type": "code",
   "execution_count": 17,
   "id": "c34be9c3-6bd6-476e-acd3-845840e303be",
   "metadata": {
    "execution": {
     "iopub.execute_input": "2025-08-05T15:50:33.178647Z",
     "iopub.status.busy": "2025-08-05T15:50:33.177889Z",
     "iopub.status.idle": "2025-08-05T15:50:33.231328Z",
     "shell.execute_reply": "2025-08-05T15:50:33.230036Z"
    },
    "papermill": {
     "duration": 0.072669,
     "end_time": "2025-08-05T15:50:33.233339",
     "exception": false,
     "start_time": "2025-08-05T15:50:33.160670",
     "status": "completed"
    },
    "tags": []
   },
   "outputs": [],
   "source": [
    "X_test = siab_test.iloc[:,4:164]\n",
    "y_true = siab_test.iloc[:, [3]]"
   ]
  },
  {
   "cell_type": "code",
   "execution_count": 18,
   "id": "e6c733c5",
   "metadata": {
    "execution": {
     "iopub.execute_input": "2025-08-05T15:50:33.269432Z",
     "iopub.status.busy": "2025-08-05T15:50:33.268544Z",
     "iopub.status.idle": "2025-08-05T15:50:33.368172Z",
     "shell.execute_reply": "2025-08-05T15:50:33.367344Z"
    },
    "papermill": {
     "duration": 0.118889,
     "end_time": "2025-08-05T15:50:33.369966",
     "exception": false,
     "start_time": "2025-08-05T15:50:33.251077",
     "status": "completed"
    },
    "tags": []
   },
   "outputs": [],
   "source": [
    "# Auxiliary data needed downstream in the pipeline\n",
    "\n",
    "org_train = X_train.copy()\n",
    "org_test = X_test.copy()\n",
    "org_calib = X_calib.copy()"
   ]
  },
  {
   "cell_type": "markdown",
   "id": "0a4a1b33",
   "metadata": {
    "papermill": {
     "duration": 0.017694,
     "end_time": "2025-08-05T15:50:33.405473",
     "exception": false,
     "start_time": "2025-08-05T15:50:33.387779",
     "status": "completed"
    },
    "tags": []
   },
   "source": [
    "# Preprocessing Data"
   ]
  },
  {
   "cell_type": "code",
   "execution_count": 19,
   "id": "ca879031",
   "metadata": {
    "execution": {
     "iopub.execute_input": "2025-08-05T15:50:33.443575Z",
     "iopub.status.busy": "2025-08-05T15:50:33.442884Z",
     "iopub.status.idle": "2025-08-05T15:50:33.449464Z",
     "shell.execute_reply": "2025-08-05T15:50:33.448363Z"
    },
    "papermill": {
     "duration": 0.027848,
     "end_time": "2025-08-05T15:50:33.451481",
     "exception": false,
     "start_time": "2025-08-05T15:50:33.423633",
     "status": "completed"
    },
    "tags": []
   },
   "outputs": [],
   "source": [
    "# EXCLUDE PROTECTED FEATURES\n",
    "# ----------------------\n",
    "# \"exclude_features\": \"none\", # \"nationality\", \"sex\", \"nationality-sex\"\n",
    "\n",
    "excluded_features = universe[\"exclude_features\"].split(\"-\") # split, e.g.: \"nationality-sex\" -> [\"nationality\", \"sex\"]\n",
    "excluded_features_dictionary = {\n",
    "    \"nationality\": [\"maxdeutsch1\", \"maxdeutsch.Missing.\"],\n",
    "    \"sex\": [\"frau1\"],\n",
    "    \"age\": [\"age\"],\n",
    "}"
   ]
  },
  {
   "cell_type": "code",
   "execution_count": 20,
   "id": "b745ac60",
   "metadata": {
    "execution": {
     "iopub.execute_input": "2025-08-05T15:50:33.492175Z",
     "iopub.status.busy": "2025-08-05T15:50:33.491148Z",
     "iopub.status.idle": "2025-08-05T15:50:33.497467Z",
     "shell.execute_reply": "2025-08-05T15:50:33.496508Z"
    },
    "papermill": {
     "duration": 0.02843,
     "end_time": "2025-08-05T15:50:33.499330",
     "exception": false,
     "start_time": "2025-08-05T15:50:33.470900",
     "status": "completed"
    },
    "tags": []
   },
   "outputs": [],
   "source": [
    "# Code nice names to column names\n",
    "\n",
    "excluded_features_columns = [\n",
    "    excluded_features_dictionary[f] for f in excluded_features if len(f) > 0 and f != \"none\"\n",
    "]"
   ]
  },
  {
   "cell_type": "code",
   "execution_count": 21,
   "id": "f84f73a2",
   "metadata": {
    "execution": {
     "iopub.execute_input": "2025-08-05T15:50:33.540620Z",
     "iopub.status.busy": "2025-08-05T15:50:33.539733Z",
     "iopub.status.idle": "2025-08-05T15:50:33.546602Z",
     "shell.execute_reply": "2025-08-05T15:50:33.545502Z"
    },
    "papermill": {
     "duration": 0.028458,
     "end_time": "2025-08-05T15:50:33.548504",
     "exception": false,
     "start_time": "2025-08-05T15:50:33.520046",
     "status": "completed"
    },
    "tags": []
   },
   "outputs": [],
   "source": [
    "from utils import flatten_once\n",
    "\n",
    "excluded_features_columns = flatten_once(excluded_features_columns)"
   ]
  },
  {
   "cell_type": "code",
   "execution_count": 22,
   "id": "884dea22",
   "metadata": {
    "execution": {
     "iopub.execute_input": "2025-08-05T15:50:33.590789Z",
     "iopub.status.busy": "2025-08-05T15:50:33.590341Z",
     "iopub.status.idle": "2025-08-05T15:50:33.599254Z",
     "shell.execute_reply": "2025-08-05T15:50:33.598509Z"
    },
    "papermill": {
     "duration": 0.033564,
     "end_time": "2025-08-05T15:50:33.600831",
     "exception": false,
     "start_time": "2025-08-05T15:50:33.567267",
     "status": "completed"
    },
    "tags": []
   },
   "outputs": [
    {
     "name": "stdout",
     "output_type": "stream",
     "text": [
      "Dropping features: ['maxdeutsch1', 'maxdeutsch.Missing.']\n"
     ]
    }
   ],
   "source": [
    "if len(excluded_features_columns) > 0:\n",
    "    print(f\"Dropping features: {excluded_features_columns}\")\n",
    "    X_train.drop(excluded_features_columns, axis=1, inplace=True)"
   ]
  },
  {
   "cell_type": "code",
   "execution_count": 23,
   "id": "95ab8b16",
   "metadata": {
    "execution": {
     "iopub.execute_input": "2025-08-05T15:50:33.622867Z",
     "iopub.status.busy": "2025-08-05T15:50:33.622349Z",
     "iopub.status.idle": "2025-08-05T15:50:33.674211Z",
     "shell.execute_reply": "2025-08-05T15:50:33.673316Z"
    },
    "papermill": {
     "duration": 0.063392,
     "end_time": "2025-08-05T15:50:33.675821",
     "exception": false,
     "start_time": "2025-08-05T15:50:33.612429",
     "status": "completed"
    },
    "tags": []
   },
   "outputs": [
    {
     "name": "stdout",
     "output_type": "stream",
     "text": [
      "Dropping features: ['maxdeutsch1', 'maxdeutsch.Missing.']\n"
     ]
    }
   ],
   "source": [
    "if len(excluded_features_columns) > 0:\n",
    "    print(f\"Dropping features: {excluded_features_columns}\")\n",
    "    X_test.drop(excluded_features_columns, axis=1, inplace=True)"
   ]
  },
  {
   "cell_type": "code",
   "execution_count": 24,
   "id": "1853aaf5-fb9f-46cb-a2b5-8ea4ae2237e4",
   "metadata": {
    "execution": {
     "iopub.execute_input": "2025-08-05T15:50:33.698692Z",
     "iopub.status.busy": "2025-08-05T15:50:33.698352Z",
     "iopub.status.idle": "2025-08-05T15:50:33.744981Z",
     "shell.execute_reply": "2025-08-05T15:50:33.743785Z"
    },
    "papermill": {
     "duration": 0.059743,
     "end_time": "2025-08-05T15:50:33.746607",
     "exception": false,
     "start_time": "2025-08-05T15:50:33.686864",
     "status": "completed"
    },
    "tags": []
   },
   "outputs": [
    {
     "name": "stdout",
     "output_type": "stream",
     "text": [
      "Dropping features: ['maxdeutsch1', 'maxdeutsch.Missing.']\n"
     ]
    }
   ],
   "source": [
    "if len(excluded_features_columns) > 0:\n",
    "    print(f\"Dropping features: {excluded_features_columns}\")\n",
    "    X_calib.drop(excluded_features_columns, axis=1, inplace=True)"
   ]
  },
  {
   "cell_type": "code",
   "execution_count": 25,
   "id": "76c4dc6d",
   "metadata": {
    "execution": {
     "iopub.execute_input": "2025-08-05T15:50:33.769654Z",
     "iopub.status.busy": "2025-08-05T15:50:33.769080Z",
     "iopub.status.idle": "2025-08-05T15:50:33.773902Z",
     "shell.execute_reply": "2025-08-05T15:50:33.773058Z"
    },
    "papermill": {
     "duration": 0.017035,
     "end_time": "2025-08-05T15:50:33.775337",
     "exception": false,
     "start_time": "2025-08-05T15:50:33.758302",
     "status": "completed"
    },
    "tags": []
   },
   "outputs": [],
   "source": [
    "# EXCLUDE CERTAIN SUBGROUPS\n",
    "# ----------------------\n",
    "\n",
    "mode = universe.get(\"exclude_subgroups\", \"keep-all\") \n",
    "# Fetches the exclude_subgroups setting from the universe dict.\n",
    "# Defaults to \"keep-all\" if the key is missing."
   ]
  },
  {
   "cell_type": "code",
   "execution_count": 26,
   "id": "21994072",
   "metadata": {
    "execution": {
     "iopub.execute_input": "2025-08-05T15:50:33.797121Z",
     "iopub.status.busy": "2025-08-05T15:50:33.796511Z",
     "iopub.status.idle": "2025-08-05T15:50:33.802413Z",
     "shell.execute_reply": "2025-08-05T15:50:33.801573Z"
    },
    "papermill": {
     "duration": 0.017753,
     "end_time": "2025-08-05T15:50:33.803908",
     "exception": false,
     "start_time": "2025-08-05T15:50:33.786155",
     "status": "completed"
    },
    "tags": []
   },
   "outputs": [],
   "source": [
    "if mode == \"keep-all\":\n",
    "    keep_mask = pd.Series(True, index=org_train.index)\n",
    "\n",
    "# org_train contains the original feature columns from features_org (in Simson)\n",
    "# features_org contains unprocessed features, for me X_train at beginning ???\n",
    "# For keep-all, creates a boolean Series (keep_mask) of all True, so no rows are removed.\n",
    "\n",
    "elif mode == \"drop-non-german\":\n",
    "    keep_mask = org_train[\"maxdeutsch1\"] == 1 # ??? what about missing values?\n",
    "\n",
    "else:\n",
    "    raise ValueError(f\"Unsupported mode for exclude_subgroups: {mode}\")"
   ]
  },
  {
   "cell_type": "code",
   "execution_count": 27,
   "id": "71651440",
   "metadata": {
    "execution": {
     "iopub.execute_input": "2025-08-05T15:50:33.825083Z",
     "iopub.status.busy": "2025-08-05T15:50:33.824583Z",
     "iopub.status.idle": "2025-08-05T15:50:33.829984Z",
     "shell.execute_reply": "2025-08-05T15:50:33.829190Z"
    },
    "papermill": {
     "duration": 0.017024,
     "end_time": "2025-08-05T15:50:33.831332",
     "exception": false,
     "start_time": "2025-08-05T15:50:33.814308",
     "status": "completed"
    },
    "tags": []
   },
   "outputs": [],
   "source": [
    "n_drop = (~keep_mask).sum() # Calculates how many rows are set to be dropped\n",
    "if n_drop > 0:\n",
    "    pct = n_drop / len(keep_mask) * 100\n",
    "    print(f\"Dropping {n_drop} rows ({pct:.2f}%) where mode='{mode}'\")"
   ]
  },
  {
   "cell_type": "code",
   "execution_count": 28,
   "id": "5fb8eee5",
   "metadata": {
    "execution": {
     "iopub.execute_input": "2025-08-05T15:50:33.852603Z",
     "iopub.status.busy": "2025-08-05T15:50:33.852094Z",
     "iopub.status.idle": "2025-08-05T15:50:33.858643Z",
     "shell.execute_reply": "2025-08-05T15:50:33.857708Z"
    },
    "papermill": {
     "duration": 0.018127,
     "end_time": "2025-08-05T15:50:33.860035",
     "exception": false,
     "start_time": "2025-08-05T15:50:33.841908",
     "status": "completed"
    },
    "tags": []
   },
   "outputs": [],
   "source": [
    "X_train = X_train[keep_mask]"
   ]
  },
  {
   "cell_type": "code",
   "execution_count": 29,
   "id": "b202bb3a",
   "metadata": {
    "execution": {
     "iopub.execute_input": "2025-08-05T15:50:33.881479Z",
     "iopub.status.busy": "2025-08-05T15:50:33.880974Z",
     "iopub.status.idle": "2025-08-05T15:50:33.886019Z",
     "shell.execute_reply": "2025-08-05T15:50:33.885146Z"
    },
    "papermill": {
     "duration": 0.016664,
     "end_time": "2025-08-05T15:50:33.887296",
     "exception": false,
     "start_time": "2025-08-05T15:50:33.870632",
     "status": "completed"
    },
    "tags": []
   },
   "outputs": [],
   "source": [
    "y_train = y_train[keep_mask]"
   ]
  },
  {
   "cell_type": "markdown",
   "id": "493e2ac3",
   "metadata": {
    "papermill": {
     "duration": 0.009274,
     "end_time": "2025-08-05T15:50:33.906714",
     "exception": false,
     "start_time": "2025-08-05T15:50:33.897440",
     "status": "completed"
    },
    "tags": []
   },
   "source": [
    "# Model Training"
   ]
  },
  {
   "cell_type": "code",
   "execution_count": 30,
   "id": "679e1268",
   "metadata": {
    "execution": {
     "iopub.execute_input": "2025-08-05T15:50:33.927328Z",
     "iopub.status.busy": "2025-08-05T15:50:33.926845Z",
     "iopub.status.idle": "2025-08-05T15:50:34.036097Z",
     "shell.execute_reply": "2025-08-05T15:50:34.035319Z"
    },
    "papermill": {
     "duration": 0.121282,
     "end_time": "2025-08-05T15:50:34.037589",
     "exception": false,
     "start_time": "2025-08-05T15:50:33.916307",
     "status": "completed"
    },
    "tags": []
   },
   "outputs": [],
   "source": [
    "from sklearn.linear_model import LogisticRegression\n",
    "from sklearn.ensemble import GradientBoostingClassifier, RandomForestClassifier\n",
    "\n",
    "if (universe[\"model\"] == \"logreg\"):\n",
    "    model = LogisticRegression() #penalty=\"none\", solver=\"newton-cg\", max_iter=1) # include random_state=19 ?\n",
    "elif (universe[\"model\"] == \"penalized_logreg\"):\n",
    "    model = LogisticRegression(penalty=\"l2\", C=0.1) #, solver=\"newton-cg\", max_iter=1)\n",
    "elif (universe[\"model\"] == \"rf\"):\n",
    "    model = RandomForestClassifier() # n_estimators=100, n_jobs=-1\n",
    "elif (universe[\"model\"] == \"gbm\"):\n",
    "    model = GradientBoostingClassifier()\n",
    "elif (universe[\"model\"] == \"elasticnet\"):\n",
    "    model = LogisticRegression(penalty = 'elasticnet', solver = 'saga', l1_ratio = 0.5) # max_iter=5000\n",
    "else:\n",
    "    raise \"Unsupported universe.model\""
   ]
  },
  {
   "cell_type": "code",
   "execution_count": 31,
   "id": "0cc8f744",
   "metadata": {
    "execution": {
     "iopub.execute_input": "2025-08-05T15:50:34.059329Z",
     "iopub.status.busy": "2025-08-05T15:50:34.058861Z",
     "iopub.status.idle": "2025-08-05T15:50:34.064387Z",
     "shell.execute_reply": "2025-08-05T15:50:34.063618Z"
    },
    "papermill": {
     "duration": 0.017544,
     "end_time": "2025-08-05T15:50:34.065840",
     "exception": false,
     "start_time": "2025-08-05T15:50:34.048296",
     "status": "completed"
    },
    "tags": []
   },
   "outputs": [],
   "source": [
    "import numpy as np\n",
    "from sklearn.pipeline import Pipeline\n",
    "from sklearn.preprocessing import StandardScaler\n",
    "\n",
    "model = Pipeline([\n",
    "    #(\"continuous_processor\", continuous_processor),\n",
    "    #(\"categorical_preprocessor\", categorical_preprocessor),\n",
    "    (\"scale\", StandardScaler() if universe[\"scale\"] == \"scale\" else None), \n",
    "    (\"model\", model),\n",
    "])"
   ]
  },
  {
   "cell_type": "code",
   "execution_count": 32,
   "id": "9442c04d",
   "metadata": {
    "execution": {
     "iopub.execute_input": "2025-08-05T15:50:34.088817Z",
     "iopub.status.busy": "2025-08-05T15:50:34.087992Z",
     "iopub.status.idle": "2025-08-05T15:50:35.355359Z",
     "shell.execute_reply": "2025-08-05T15:50:35.354341Z"
    },
    "papermill": {
     "duration": 1.280222,
     "end_time": "2025-08-05T15:50:35.356917",
     "exception": false,
     "start_time": "2025-08-05T15:50:34.076695",
     "status": "completed"
    },
    "tags": []
   },
   "outputs": [
    {
     "data": {
      "text/html": [
       "<style>#sk-container-id-1 {color: black;background-color: white;}#sk-container-id-1 pre{padding: 0;}#sk-container-id-1 div.sk-toggleable {background-color: white;}#sk-container-id-1 label.sk-toggleable__label {cursor: pointer;display: block;width: 100%;margin-bottom: 0;padding: 0.3em;box-sizing: border-box;text-align: center;}#sk-container-id-1 label.sk-toggleable__label-arrow:before {content: \"▸\";float: left;margin-right: 0.25em;color: #696969;}#sk-container-id-1 label.sk-toggleable__label-arrow:hover:before {color: black;}#sk-container-id-1 div.sk-estimator:hover label.sk-toggleable__label-arrow:before {color: black;}#sk-container-id-1 div.sk-toggleable__content {max-height: 0;max-width: 0;overflow: hidden;text-align: left;background-color: #f0f8ff;}#sk-container-id-1 div.sk-toggleable__content pre {margin: 0.2em;color: black;border-radius: 0.25em;background-color: #f0f8ff;}#sk-container-id-1 input.sk-toggleable__control:checked~div.sk-toggleable__content {max-height: 200px;max-width: 100%;overflow: auto;}#sk-container-id-1 input.sk-toggleable__control:checked~label.sk-toggleable__label-arrow:before {content: \"▾\";}#sk-container-id-1 div.sk-estimator input.sk-toggleable__control:checked~label.sk-toggleable__label {background-color: #d4ebff;}#sk-container-id-1 div.sk-label input.sk-toggleable__control:checked~label.sk-toggleable__label {background-color: #d4ebff;}#sk-container-id-1 input.sk-hidden--visually {border: 0;clip: rect(1px 1px 1px 1px);clip: rect(1px, 1px, 1px, 1px);height: 1px;margin: -1px;overflow: hidden;padding: 0;position: absolute;width: 1px;}#sk-container-id-1 div.sk-estimator {font-family: monospace;background-color: #f0f8ff;border: 1px dotted black;border-radius: 0.25em;box-sizing: border-box;margin-bottom: 0.5em;}#sk-container-id-1 div.sk-estimator:hover {background-color: #d4ebff;}#sk-container-id-1 div.sk-parallel-item::after {content: \"\";width: 100%;border-bottom: 1px solid gray;flex-grow: 1;}#sk-container-id-1 div.sk-label:hover label.sk-toggleable__label {background-color: #d4ebff;}#sk-container-id-1 div.sk-serial::before {content: \"\";position: absolute;border-left: 1px solid gray;box-sizing: border-box;top: 0;bottom: 0;left: 50%;z-index: 0;}#sk-container-id-1 div.sk-serial {display: flex;flex-direction: column;align-items: center;background-color: white;padding-right: 0.2em;padding-left: 0.2em;position: relative;}#sk-container-id-1 div.sk-item {position: relative;z-index: 1;}#sk-container-id-1 div.sk-parallel {display: flex;align-items: stretch;justify-content: center;background-color: white;position: relative;}#sk-container-id-1 div.sk-item::before, #sk-container-id-1 div.sk-parallel-item::before {content: \"\";position: absolute;border-left: 1px solid gray;box-sizing: border-box;top: 0;bottom: 0;left: 50%;z-index: -1;}#sk-container-id-1 div.sk-parallel-item {display: flex;flex-direction: column;z-index: 1;position: relative;background-color: white;}#sk-container-id-1 div.sk-parallel-item:first-child::after {align-self: flex-end;width: 50%;}#sk-container-id-1 div.sk-parallel-item:last-child::after {align-self: flex-start;width: 50%;}#sk-container-id-1 div.sk-parallel-item:only-child::after {width: 0;}#sk-container-id-1 div.sk-dashed-wrapped {border: 1px dashed gray;margin: 0 0.4em 0.5em 0.4em;box-sizing: border-box;padding-bottom: 0.4em;background-color: white;}#sk-container-id-1 div.sk-label label {font-family: monospace;font-weight: bold;display: inline-block;line-height: 1.2em;}#sk-container-id-1 div.sk-label-container {text-align: center;}#sk-container-id-1 div.sk-container {/* jupyter's `normalize.less` sets `[hidden] { display: none; }` but bootstrap.min.css set `[hidden] { display: none !important; }` so we also need the `!important` here to be able to override the default hidden behavior on the sphinx rendered scikit-learn.org. See: https://github.com/scikit-learn/scikit-learn/issues/21755 */display: inline-block !important;position: relative;}#sk-container-id-1 div.sk-text-repr-fallback {display: none;}</style><div id=\"sk-container-id-1\" class=\"sk-top-container\"><div class=\"sk-text-repr-fallback\"><pre>Pipeline(steps=[(&#x27;scale&#x27;, StandardScaler()),\n",
       "                (&#x27;model&#x27;, RandomForestClassifier())])</pre><b>In a Jupyter environment, please rerun this cell to show the HTML representation or trust the notebook. <br />On GitHub, the HTML representation is unable to render, please try loading this page with nbviewer.org.</b></div><div class=\"sk-container\" hidden><div class=\"sk-item sk-dashed-wrapped\"><div class=\"sk-label-container\"><div class=\"sk-label sk-toggleable\"><input class=\"sk-toggleable__control sk-hidden--visually\" id=\"sk-estimator-id-1\" type=\"checkbox\" ><label for=\"sk-estimator-id-1\" class=\"sk-toggleable__label sk-toggleable__label-arrow\">Pipeline</label><div class=\"sk-toggleable__content\"><pre>Pipeline(steps=[(&#x27;scale&#x27;, StandardScaler()),\n",
       "                (&#x27;model&#x27;, RandomForestClassifier())])</pre></div></div></div><div class=\"sk-serial\"><div class=\"sk-item\"><div class=\"sk-estimator sk-toggleable\"><input class=\"sk-toggleable__control sk-hidden--visually\" id=\"sk-estimator-id-2\" type=\"checkbox\" ><label for=\"sk-estimator-id-2\" class=\"sk-toggleable__label sk-toggleable__label-arrow\">StandardScaler</label><div class=\"sk-toggleable__content\"><pre>StandardScaler()</pre></div></div></div><div class=\"sk-item\"><div class=\"sk-estimator sk-toggleable\"><input class=\"sk-toggleable__control sk-hidden--visually\" id=\"sk-estimator-id-3\" type=\"checkbox\" ><label for=\"sk-estimator-id-3\" class=\"sk-toggleable__label sk-toggleable__label-arrow\">RandomForestClassifier</label><div class=\"sk-toggleable__content\"><pre>RandomForestClassifier()</pre></div></div></div></div></div></div></div>"
      ],
      "text/plain": [
       "Pipeline(steps=[('scale', StandardScaler()),\n",
       "                ('model', RandomForestClassifier())])"
      ]
     },
     "execution_count": 32,
     "metadata": {},
     "output_type": "execute_result"
    }
   ],
   "source": [
    "model.fit(X_train, y_train.values.ravel())"
   ]
  },
  {
   "cell_type": "code",
   "execution_count": 33,
   "id": "af59f8c0",
   "metadata": {
    "execution": {
     "iopub.execute_input": "2025-08-05T15:50:35.399917Z",
     "iopub.status.busy": "2025-08-05T15:50:35.399481Z",
     "iopub.status.idle": "2025-08-05T15:50:35.405068Z",
     "shell.execute_reply": "2025-08-05T15:50:35.403869Z"
    },
    "papermill": {
     "duration": 0.031577,
     "end_time": "2025-08-05T15:50:35.407261",
     "exception": false,
     "start_time": "2025-08-05T15:50:35.375684",
     "status": "completed"
    },
    "tags": []
   },
   "outputs": [],
   "source": [
    "from fairness_multiverse.universe import predict_w_threshold"
   ]
  },
  {
   "cell_type": "code",
   "execution_count": 34,
   "id": "a7cf2e16",
   "metadata": {
    "execution": {
     "iopub.execute_input": "2025-08-05T15:50:35.453080Z",
     "iopub.status.busy": "2025-08-05T15:50:35.452587Z",
     "iopub.status.idle": "2025-08-05T15:50:37.624860Z",
     "shell.execute_reply": "2025-08-05T15:50:37.623712Z"
    },
    "papermill": {
     "duration": 2.197561,
     "end_time": "2025-08-05T15:50:37.626743",
     "exception": false,
     "start_time": "2025-08-05T15:50:35.429182",
     "status": "completed"
    },
    "tags": []
   },
   "outputs": [
    {
     "data": {
      "text/plain": [
       "0.8667818526362724"
      ]
     },
     "execution_count": 34,
     "metadata": {},
     "output_type": "execute_result"
    }
   ],
   "source": [
    "probs_test = model.predict_proba(X_test)\n",
    "\n",
    "'''\n",
    "Below code returns a boolean array (or binary 0/1 array depending on how it’s used) where each element \n",
    "is True if the probability of class 1 is greater than or equal to the threshold, and False otherwise.\n",
    "'''\n",
    "y_pred_default = predict_w_threshold(probs_test, 0.5)\n",
    "\n",
    "from sklearn.metrics import accuracy_score\n",
    "\n",
    "# Naive prediction\n",
    "accuracy_score(y_true = y_true, y_pred = y_pred_default)"
   ]
  },
  {
   "cell_type": "code",
   "execution_count": 35,
   "id": "081964c3",
   "metadata": {
    "execution": {
     "iopub.execute_input": "2025-08-05T15:50:37.664160Z",
     "iopub.status.busy": "2025-08-05T15:50:37.663748Z",
     "iopub.status.idle": "2025-08-05T15:50:40.151934Z",
     "shell.execute_reply": "2025-08-05T15:50:40.150900Z"
    },
    "papermill": {
     "duration": 2.505823,
     "end_time": "2025-08-05T15:50:40.153694",
     "exception": false,
     "start_time": "2025-08-05T15:50:37.647871",
     "status": "completed"
    },
    "tags": []
   },
   "outputs": [
    {
     "data": {
      "text/plain": [
       "array([0, 0, 0, ..., 0, 0, 0])"
      ]
     },
     "execution_count": 35,
     "metadata": {},
     "output_type": "execute_result"
    }
   ],
   "source": [
    "model.predict(X_test)"
   ]
  },
  {
   "cell_type": "markdown",
   "id": "56c9705b",
   "metadata": {
    "papermill": {
     "duration": 0.022958,
     "end_time": "2025-08-05T15:50:40.201625",
     "exception": false,
     "start_time": "2025-08-05T15:50:40.178667",
     "status": "completed"
    },
    "tags": []
   },
   "source": [
    "# Conformal Prediction"
   ]
  },
  {
   "cell_type": "code",
   "execution_count": 36,
   "id": "160ec6ff",
   "metadata": {
    "execution": {
     "iopub.execute_input": "2025-08-05T15:50:40.249635Z",
     "iopub.status.busy": "2025-08-05T15:50:40.248688Z",
     "iopub.status.idle": "2025-08-05T15:50:40.255784Z",
     "shell.execute_reply": "2025-08-05T15:50:40.254715Z"
    },
    "papermill": {
     "duration": 0.033311,
     "end_time": "2025-08-05T15:50:40.257826",
     "exception": false,
     "start_time": "2025-08-05T15:50:40.224515",
     "status": "completed"
    },
    "tags": []
   },
   "outputs": [],
   "source": [
    "# Miscoverage level for conformal prediction (10% allowed error rate => 90% target coverage)\n",
    "alpha = 0.1"
   ]
  },
  {
   "cell_type": "code",
   "execution_count": 37,
   "id": "eadf4555-3dd3-440e-8e35-f82a4ad9f855",
   "metadata": {
    "execution": {
     "iopub.execute_input": "2025-08-05T15:50:40.301340Z",
     "iopub.status.busy": "2025-08-05T15:50:40.300764Z",
     "iopub.status.idle": "2025-08-05T15:50:42.706798Z",
     "shell.execute_reply": "2025-08-05T15:50:42.705838Z"
    },
    "papermill": {
     "duration": 2.428829,
     "end_time": "2025-08-05T15:50:42.708688",
     "exception": false,
     "start_time": "2025-08-05T15:50:40.279859",
     "status": "completed"
    },
    "tags": []
   },
   "outputs": [],
   "source": [
    "probs_calib = model.predict_proba(X_calib)"
   ]
  },
  {
   "cell_type": "code",
   "execution_count": 38,
   "id": "2ed93547-6d5d-4983-9b36-1ecb300da49a",
   "metadata": {
    "execution": {
     "iopub.execute_input": "2025-08-05T15:50:42.753908Z",
     "iopub.status.busy": "2025-08-05T15:50:42.753407Z",
     "iopub.status.idle": "2025-08-05T15:50:42.758983Z",
     "shell.execute_reply": "2025-08-05T15:50:42.757984Z"
    },
    "papermill": {
     "duration": 0.02899,
     "end_time": "2025-08-05T15:50:42.760623",
     "exception": false,
     "start_time": "2025-08-05T15:50:42.731633",
     "status": "completed"
    },
    "tags": []
   },
   "outputs": [],
   "source": [
    "y_calib = y_calib.values.ravel().astype(int)"
   ]
  },
  {
   "cell_type": "code",
   "execution_count": 39,
   "id": "65d1320d-f588-4b38-9072-62af1ae97f7d",
   "metadata": {
    "execution": {
     "iopub.execute_input": "2025-08-05T15:50:42.803502Z",
     "iopub.status.busy": "2025-08-05T15:50:42.802607Z",
     "iopub.status.idle": "2025-08-05T15:50:42.810485Z",
     "shell.execute_reply": "2025-08-05T15:50:42.809241Z"
    },
    "papermill": {
     "duration": 0.031171,
     "end_time": "2025-08-05T15:50:42.812489",
     "exception": false,
     "start_time": "2025-08-05T15:50:42.781318",
     "status": "completed"
    },
    "tags": []
   },
   "outputs": [],
   "source": [
    "from fairness_multiverse.conformal import compute_nc_scores\n",
    "\n",
    "# Compute nonconformity scores on calibration set (1 - probability of true class)\n",
    "nc_scores = compute_nc_scores(probs_calib, y_calib)"
   ]
  },
  {
   "cell_type": "code",
   "execution_count": 40,
   "id": "df3b8ca3-53b7-43d5-9667-7c85da7aeda2",
   "metadata": {
    "execution": {
     "iopub.execute_input": "2025-08-05T15:50:42.856869Z",
     "iopub.status.busy": "2025-08-05T15:50:42.856133Z",
     "iopub.status.idle": "2025-08-05T15:50:42.864814Z",
     "shell.execute_reply": "2025-08-05T15:50:42.863860Z"
    },
    "papermill": {
     "duration": 0.033154,
     "end_time": "2025-08-05T15:50:42.867192",
     "exception": false,
     "start_time": "2025-08-05T15:50:42.834038",
     "status": "completed"
    },
    "tags": []
   },
   "outputs": [],
   "source": [
    "from fairness_multiverse.conformal import find_threshold\n",
    "\n",
    "# Find conformal threshold q_hat for the given alpha (split conformal method)\n",
    "q_hat = find_threshold(nc_scores, alpha)"
   ]
  },
  {
   "cell_type": "code",
   "execution_count": 41,
   "id": "4d29e6c1-0ef6-4aa4-b8fe-4fe79b0d033a",
   "metadata": {
    "execution": {
     "iopub.execute_input": "2025-08-05T15:50:42.912716Z",
     "iopub.status.busy": "2025-08-05T15:50:42.912040Z",
     "iopub.status.idle": "2025-08-05T15:50:42.919611Z",
     "shell.execute_reply": "2025-08-05T15:50:42.918593Z"
    },
    "papermill": {
     "duration": 0.031261,
     "end_time": "2025-08-05T15:50:42.921247",
     "exception": false,
     "start_time": "2025-08-05T15:50:42.889986",
     "status": "completed"
    },
    "tags": []
   },
   "outputs": [
    {
     "data": {
      "text/plain": [
       "0.6699999999999999"
      ]
     },
     "execution_count": 41,
     "metadata": {},
     "output_type": "execute_result"
    }
   ],
   "source": [
    "q_hat"
   ]
  },
  {
   "cell_type": "code",
   "execution_count": 42,
   "id": "92460794-cdac-4be2-ba28-f28c0515a6fb",
   "metadata": {
    "execution": {
     "iopub.execute_input": "2025-08-05T15:50:42.964604Z",
     "iopub.status.busy": "2025-08-05T15:50:42.963910Z",
     "iopub.status.idle": "2025-08-05T15:50:46.635470Z",
     "shell.execute_reply": "2025-08-05T15:50:46.634460Z"
    },
    "papermill": {
     "duration": 3.69509,
     "end_time": "2025-08-05T15:50:46.637422",
     "exception": false,
     "start_time": "2025-08-05T15:50:42.942332",
     "status": "completed"
    },
    "tags": []
   },
   "outputs": [],
   "source": [
    "from fairness_multiverse.conformal import predict_conformal_sets\n",
    "\n",
    "# Generate prediction sets for each test example\n",
    "pred_sets = predict_conformal_sets(model, X_test, q_hat)"
   ]
  },
  {
   "cell_type": "code",
   "execution_count": 43,
   "id": "d90c9a65-e6db-4f5d-80cd-e68fb7e46829",
   "metadata": {
    "execution": {
     "iopub.execute_input": "2025-08-05T15:50:46.680278Z",
     "iopub.status.busy": "2025-08-05T15:50:46.679742Z",
     "iopub.status.idle": "2025-08-05T15:50:46.687652Z",
     "shell.execute_reply": "2025-08-05T15:50:46.685407Z"
    },
    "papermill": {
     "duration": 0.030662,
     "end_time": "2025-08-05T15:50:46.689265",
     "exception": false,
     "start_time": "2025-08-05T15:50:46.658603",
     "status": "completed"
    },
    "tags": []
   },
   "outputs": [],
   "source": [
    "y_true = y_true.squeeze()"
   ]
  },
  {
   "cell_type": "code",
   "execution_count": 44,
   "id": "3a58a54a-1e68-46b9-927a-df01f18aebc8",
   "metadata": {
    "execution": {
     "iopub.execute_input": "2025-08-05T15:50:46.730922Z",
     "iopub.status.busy": "2025-08-05T15:50:46.730059Z",
     "iopub.status.idle": "2025-08-05T15:50:47.643856Z",
     "shell.execute_reply": "2025-08-05T15:50:47.642762Z"
    },
    "papermill": {
     "duration": 0.936013,
     "end_time": "2025-08-05T15:50:47.645788",
     "exception": false,
     "start_time": "2025-08-05T15:50:46.709775",
     "status": "completed"
    },
    "tags": []
   },
   "outputs": [],
   "source": [
    "from fairness_multiverse.conformal import evaluate_sets\n",
    "\n",
    "# Evaluate coverage and average set size on test data\n",
    "metrics = evaluate_sets(pred_sets, y_true)"
   ]
  },
  {
   "cell_type": "markdown",
   "id": "2b569c12-9aaa-4c88-98c9-bbcd0cf3ebb8",
   "metadata": {
    "papermill": {
     "duration": 0.019447,
     "end_time": "2025-08-05T15:50:47.687960",
     "exception": false,
     "start_time": "2025-08-05T15:50:47.668513",
     "status": "completed"
    },
    "tags": []
   },
   "source": [
    "# CP Metrics"
   ]
  },
  {
   "cell_type": "code",
   "execution_count": 45,
   "id": "5ce0a5cb-201f-45a0-ade5-94c7f0bd6095",
   "metadata": {
    "execution": {
     "iopub.execute_input": "2025-08-05T15:50:47.729352Z",
     "iopub.status.busy": "2025-08-05T15:50:47.728871Z",
     "iopub.status.idle": "2025-08-05T15:50:47.737091Z",
     "shell.execute_reply": "2025-08-05T15:50:47.735942Z"
    },
    "papermill": {
     "duration": 0.031064,
     "end_time": "2025-08-05T15:50:47.739056",
     "exception": false,
     "start_time": "2025-08-05T15:50:47.707992",
     "status": "completed"
    },
    "tags": []
   },
   "outputs": [
    {
     "data": {
      "text/plain": [
       "{'coverage': 0.9164307212127968, 'avg_size': 1.151978597703712}"
      ]
     },
     "execution_count": 45,
     "metadata": {},
     "output_type": "execute_result"
    }
   ],
   "source": [
    "metrics"
   ]
  },
  {
   "cell_type": "code",
   "execution_count": 46,
   "id": "9b9a838d-31c9-430b-ae14-12baee460d17",
   "metadata": {
    "execution": {
     "iopub.execute_input": "2025-08-05T15:50:47.781493Z",
     "iopub.status.busy": "2025-08-05T15:50:47.780964Z",
     "iopub.status.idle": "2025-08-05T15:50:47.787582Z",
     "shell.execute_reply": "2025-08-05T15:50:47.786745Z"
    },
    "papermill": {
     "duration": 0.029786,
     "end_time": "2025-08-05T15:50:47.789081",
     "exception": false,
     "start_time": "2025-08-05T15:50:47.759295",
     "status": "completed"
    },
    "tags": []
   },
   "outputs": [],
   "source": [
    "example_universe = universe.copy()\n",
    "universe_training_year = example_universe.get(\"training_year\")\n",
    "universe_training_size = example_universe.get(\"training_size\")\n",
    "universe_scale = example_universe.get(\"scale\")\n",
    "universe_model = example_universe.get(\"model\")\n",
    "universe_exclude_features = example_universe.get(\"exclude_features\")\n",
    "universe_exclude_subgroups = example_universe.get(\"exclude_subgroups\")"
   ]
  },
  {
   "cell_type": "code",
   "execution_count": 47,
   "id": "f4b6a8ac-9dc0-4245-8a91-5b3b5999c4f9",
   "metadata": {
    "execution": {
     "iopub.execute_input": "2025-08-05T15:50:47.814124Z",
     "iopub.status.busy": "2025-08-05T15:50:47.813394Z",
     "iopub.status.idle": "2025-08-05T15:50:47.818890Z",
     "shell.execute_reply": "2025-08-05T15:50:47.817918Z"
    },
    "papermill": {
     "duration": 0.018864,
     "end_time": "2025-08-05T15:50:47.820389",
     "exception": false,
     "start_time": "2025-08-05T15:50:47.801525",
     "status": "completed"
    },
    "tags": []
   },
   "outputs": [],
   "source": [
    "cp_metrics_dict = {\n",
    "    \"universe_id\": [universe_id],\n",
    "    \"universe_training_year\": [universe_training_year],\n",
    "    \"universe_training_size\": [universe_training_size],\n",
    "    \"universe_scale\": [universe_scale],\n",
    "    \"universe_model\": [universe_model],\n",
    "    \"universe_exclude_features\": [universe_exclude_features],\n",
    "    \"universe_exclude_subgroups\": [universe_exclude_subgroups],\n",
    "    \"q_hat\": [q_hat],\n",
    "    \"coverage\": [metrics[\"coverage\"]],\n",
    "    \"avg_size\": [metrics[\"avg_size\"]],\n",
    "}"
   ]
  },
  {
   "cell_type": "code",
   "execution_count": 48,
   "id": "908acbb1-0371-4915-85ca-3fa520d2efe2",
   "metadata": {
    "execution": {
     "iopub.execute_input": "2025-08-05T15:50:47.846303Z",
     "iopub.status.busy": "2025-08-05T15:50:47.845888Z",
     "iopub.status.idle": "2025-08-05T15:50:47.853261Z",
     "shell.execute_reply": "2025-08-05T15:50:47.852236Z"
    },
    "papermill": {
     "duration": 0.022185,
     "end_time": "2025-08-05T15:50:47.855072",
     "exception": false,
     "start_time": "2025-08-05T15:50:47.832887",
     "status": "completed"
    },
    "tags": []
   },
   "outputs": [
    {
     "data": {
      "text/plain": [
       "{'universe_id': ['3913eb247a3d8e4dccc082fd444aebff'],\n",
       " 'universe_training_year': ['2010_14'],\n",
       " 'universe_training_size': ['5k'],\n",
       " 'universe_scale': ['scale'],\n",
       " 'universe_model': ['rf'],\n",
       " 'universe_exclude_features': ['nationality'],\n",
       " 'universe_exclude_subgroups': ['keep-all'],\n",
       " 'q_hat': [0.6699999999999999],\n",
       " 'coverage': [0.9164307212127968],\n",
       " 'avg_size': [1.151978597703712]}"
      ]
     },
     "execution_count": 48,
     "metadata": {},
     "output_type": "execute_result"
    }
   ],
   "source": [
    "cp_metrics_dict"
   ]
  },
  {
   "cell_type": "code",
   "execution_count": 49,
   "id": "33007efc-14e9-4ec6-97ac-56a455c82265",
   "metadata": {
    "execution": {
     "iopub.execute_input": "2025-08-05T15:50:47.886869Z",
     "iopub.status.busy": "2025-08-05T15:50:47.886515Z",
     "iopub.status.idle": "2025-08-05T15:50:47.892032Z",
     "shell.execute_reply": "2025-08-05T15:50:47.891172Z"
    },
    "papermill": {
     "duration": 0.025816,
     "end_time": "2025-08-05T15:50:47.893575",
     "exception": false,
     "start_time": "2025-08-05T15:50:47.867759",
     "status": "completed"
    },
    "tags": []
   },
   "outputs": [],
   "source": [
    "cp_metrics_df = pd.DataFrame(cp_metrics_dict)"
   ]
  },
  {
   "cell_type": "code",
   "execution_count": 50,
   "id": "db12611b-57b2-4910-b9d0-355adfd6e7bf",
   "metadata": {
    "execution": {
     "iopub.execute_input": "2025-08-05T15:50:47.918290Z",
     "iopub.status.busy": "2025-08-05T15:50:47.917698Z",
     "iopub.status.idle": "2025-08-05T15:50:47.933402Z",
     "shell.execute_reply": "2025-08-05T15:50:47.932367Z"
    },
    "papermill": {
     "duration": 0.029115,
     "end_time": "2025-08-05T15:50:47.935099",
     "exception": false,
     "start_time": "2025-08-05T15:50:47.905984",
     "status": "completed"
    },
    "tags": []
   },
   "outputs": [
    {
     "data": {
      "text/html": [
       "<div>\n",
       "<style scoped>\n",
       "    .dataframe tbody tr th:only-of-type {\n",
       "        vertical-align: middle;\n",
       "    }\n",
       "\n",
       "    .dataframe tbody tr th {\n",
       "        vertical-align: top;\n",
       "    }\n",
       "\n",
       "    .dataframe thead th {\n",
       "        text-align: right;\n",
       "    }\n",
       "</style>\n",
       "<table border=\"1\" class=\"dataframe\">\n",
       "  <thead>\n",
       "    <tr style=\"text-align: right;\">\n",
       "      <th></th>\n",
       "      <th>universe_id</th>\n",
       "      <th>universe_training_year</th>\n",
       "      <th>universe_training_size</th>\n",
       "      <th>universe_scale</th>\n",
       "      <th>universe_model</th>\n",
       "      <th>universe_exclude_features</th>\n",
       "      <th>universe_exclude_subgroups</th>\n",
       "      <th>q_hat</th>\n",
       "      <th>coverage</th>\n",
       "      <th>avg_size</th>\n",
       "    </tr>\n",
       "  </thead>\n",
       "  <tbody>\n",
       "    <tr>\n",
       "      <th>0</th>\n",
       "      <td>3913eb247a3d8e4dccc082fd444aebff</td>\n",
       "      <td>2010_14</td>\n",
       "      <td>5k</td>\n",
       "      <td>scale</td>\n",
       "      <td>rf</td>\n",
       "      <td>nationality</td>\n",
       "      <td>keep-all</td>\n",
       "      <td>0.67</td>\n",
       "      <td>0.916431</td>\n",
       "      <td>1.151979</td>\n",
       "    </tr>\n",
       "  </tbody>\n",
       "</table>\n",
       "</div>"
      ],
      "text/plain": [
       "                        universe_id universe_training_year  \\\n",
       "0  3913eb247a3d8e4dccc082fd444aebff                2010_14   \n",
       "\n",
       "  universe_training_size universe_scale universe_model  \\\n",
       "0                     5k          scale             rf   \n",
       "\n",
       "  universe_exclude_features universe_exclude_subgroups  q_hat  coverage  \\\n",
       "0               nationality                   keep-all   0.67  0.916431   \n",
       "\n",
       "   avg_size  \n",
       "0  1.151979  "
      ]
     },
     "execution_count": 50,
     "metadata": {},
     "output_type": "execute_result"
    }
   ],
   "source": [
    "cp_metrics_df"
   ]
  },
  {
   "cell_type": "code",
   "execution_count": 51,
   "id": "b7fbde55-a0a1-47e4-9af6-fe4a17fa8c61",
   "metadata": {
    "execution": {
     "iopub.execute_input": "2025-08-05T15:50:47.979008Z",
     "iopub.status.busy": "2025-08-05T15:50:47.978564Z",
     "iopub.status.idle": "2025-08-05T15:50:47.983836Z",
     "shell.execute_reply": "2025-08-05T15:50:47.982828Z"
    },
    "papermill": {
     "duration": 0.028726,
     "end_time": "2025-08-05T15:50:47.985871",
     "exception": false,
     "start_time": "2025-08-05T15:50:47.957145",
     "status": "completed"
    },
    "tags": []
   },
   "outputs": [],
   "source": [
    "# Conditional Coverage & looking at subgroups"
   ]
  },
  {
   "cell_type": "code",
   "execution_count": 52,
   "id": "027ae886-68dd-4141-96c7-805a5450e1ef",
   "metadata": {
    "execution": {
     "iopub.execute_input": "2025-08-05T15:50:48.039771Z",
     "iopub.status.busy": "2025-08-05T15:50:48.039246Z",
     "iopub.status.idle": "2025-08-05T15:50:48.306891Z",
     "shell.execute_reply": "2025-08-05T15:50:48.305841Z"
    },
    "papermill": {
     "duration": 0.297434,
     "end_time": "2025-08-05T15:50:48.308951",
     "exception": false,
     "start_time": "2025-08-05T15:50:48.011517",
     "status": "completed"
    },
    "tags": []
   },
   "outputs": [],
   "source": [
    "from fairness_multiverse.conformal import build_cp_groups\n",
    "\n",
    "cp_groups_df = build_cp_groups(pred_sets, y_true, X_test.index, org_test)\n",
    "#needs universe_id and setting"
   ]
  },
  {
   "cell_type": "code",
   "execution_count": 53,
   "id": "6cbdab96-b2b2-45af-ad54-d0516db2e28d",
   "metadata": {
    "execution": {
     "iopub.execute_input": "2025-08-05T15:50:48.361693Z",
     "iopub.status.busy": "2025-08-05T15:50:48.360999Z",
     "iopub.status.idle": "2025-08-05T15:50:49.920072Z",
     "shell.execute_reply": "2025-08-05T15:50:49.919013Z"
    },
    "papermill": {
     "duration": 1.587524,
     "end_time": "2025-08-05T15:50:49.921999",
     "exception": false,
     "start_time": "2025-08-05T15:50:48.334475",
     "status": "completed"
    },
    "tags": []
   },
   "outputs": [],
   "source": [
    "# Define covered = 1 if true_label is in the predicted set\n",
    "cp_groups_df['covered'] = cp_groups_df.apply(\n",
    "    lambda r: int(r['true_label'] in r['pred_set']),\n",
    "    axis=1\n",
    ")"
   ]
  },
  {
   "cell_type": "code",
   "execution_count": 54,
   "id": "338ff529-1a6b-4b87-a931-8e4788d52aad",
   "metadata": {
    "execution": {
     "iopub.execute_input": "2025-08-05T15:50:49.971857Z",
     "iopub.status.busy": "2025-08-05T15:50:49.971382Z",
     "iopub.status.idle": "2025-08-05T15:50:49.976867Z",
     "shell.execute_reply": "2025-08-05T15:50:49.975917Z"
    },
    "papermill": {
     "duration": 0.031274,
     "end_time": "2025-08-05T15:50:49.978786",
     "exception": false,
     "start_time": "2025-08-05T15:50:49.947512",
     "status": "completed"
    },
    "tags": []
   },
   "outputs": [],
   "source": [
    "#cp_groups_df"
   ]
  },
  {
   "cell_type": "code",
   "execution_count": 55,
   "id": "90032e27-66df-4540-9169-4e89cfbaa758",
   "metadata": {
    "execution": {
     "iopub.execute_input": "2025-08-05T15:50:50.026644Z",
     "iopub.status.busy": "2025-08-05T15:50:50.026152Z",
     "iopub.status.idle": "2025-08-05T15:50:50.038566Z",
     "shell.execute_reply": "2025-08-05T15:50:50.037457Z"
    },
    "papermill": {
     "duration": 0.037195,
     "end_time": "2025-08-05T15:50:50.040296",
     "exception": false,
     "start_time": "2025-08-05T15:50:50.003101",
     "status": "completed"
    },
    "tags": []
   },
   "outputs": [],
   "source": [
    "subgroups = ['frau1','nongerman','nongerman_male','nongerman_female']\n",
    "\n",
    "# Conditional coverage for subgroup==1\n",
    "cond_coverage = {\n",
    "    g: cp_groups_df.loc[cp_groups_df[g]==1, 'covered'].mean()\n",
    "    for g in subgroups\n",
    "}"
   ]
  },
  {
   "cell_type": "code",
   "execution_count": 56,
   "id": "1e348fb1-b9c3-45bc-ba23-f016827a7e0d",
   "metadata": {
    "execution": {
     "iopub.execute_input": "2025-08-05T15:50:50.086181Z",
     "iopub.status.busy": "2025-08-05T15:50:50.085467Z",
     "iopub.status.idle": "2025-08-05T15:50:50.092908Z",
     "shell.execute_reply": "2025-08-05T15:50:50.091877Z"
    },
    "papermill": {
     "duration": 0.031398,
     "end_time": "2025-08-05T15:50:50.094444",
     "exception": false,
     "start_time": "2025-08-05T15:50:50.063046",
     "status": "completed"
    },
    "tags": []
   },
   "outputs": [
    {
     "data": {
      "text/plain": [
       "{'frau1': 0.9141393718830031,\n",
       " 'nongerman': 0.9116937068433166,\n",
       " 'nongerman_male': 0.9260560208952535,\n",
       " 'nongerman_female': 0.8879284649776453}"
      ]
     },
     "execution_count": 56,
     "metadata": {},
     "output_type": "execute_result"
    }
   ],
   "source": [
    "cond_coverage"
   ]
  },
  {
   "cell_type": "code",
   "execution_count": 57,
   "id": "f5093324-c3dd-4d63-bc4c-8d945e5c8bbb",
   "metadata": {
    "execution": {
     "iopub.execute_input": "2025-08-05T15:50:50.138533Z",
     "iopub.status.busy": "2025-08-05T15:50:50.137843Z",
     "iopub.status.idle": "2025-08-05T15:50:50.145272Z",
     "shell.execute_reply": "2025-08-05T15:50:50.144337Z"
    },
    "papermill": {
     "duration": 0.031913,
     "end_time": "2025-08-05T15:50:50.147043",
     "exception": false,
     "start_time": "2025-08-05T15:50:50.115130",
     "status": "completed"
    },
    "tags": []
   },
   "outputs": [],
   "source": [
    "for subgroup, cov in cond_coverage.items():\n",
    "    cp_metrics_df[f\"cov_{subgroup}\"] = cov"
   ]
  },
  {
   "cell_type": "code",
   "execution_count": 58,
   "id": "6e872e10-dbe5-49e8-b554-5030c98ff75d",
   "metadata": {
    "execution": {
     "iopub.execute_input": "2025-08-05T15:50:50.191251Z",
     "iopub.status.busy": "2025-08-05T15:50:50.190349Z",
     "iopub.status.idle": "2025-08-05T15:50:50.210911Z",
     "shell.execute_reply": "2025-08-05T15:50:50.209750Z"
    },
    "papermill": {
     "duration": 0.043803,
     "end_time": "2025-08-05T15:50:50.212534",
     "exception": false,
     "start_time": "2025-08-05T15:50:50.168731",
     "status": "completed"
    },
    "tags": []
   },
   "outputs": [
    {
     "data": {
      "text/html": [
       "<div>\n",
       "<style scoped>\n",
       "    .dataframe tbody tr th:only-of-type {\n",
       "        vertical-align: middle;\n",
       "    }\n",
       "\n",
       "    .dataframe tbody tr th {\n",
       "        vertical-align: top;\n",
       "    }\n",
       "\n",
       "    .dataframe thead th {\n",
       "        text-align: right;\n",
       "    }\n",
       "</style>\n",
       "<table border=\"1\" class=\"dataframe\">\n",
       "  <thead>\n",
       "    <tr style=\"text-align: right;\">\n",
       "      <th></th>\n",
       "      <th>universe_id</th>\n",
       "      <th>universe_training_year</th>\n",
       "      <th>universe_training_size</th>\n",
       "      <th>universe_scale</th>\n",
       "      <th>universe_model</th>\n",
       "      <th>universe_exclude_features</th>\n",
       "      <th>universe_exclude_subgroups</th>\n",
       "      <th>q_hat</th>\n",
       "      <th>coverage</th>\n",
       "      <th>avg_size</th>\n",
       "      <th>cov_frau1</th>\n",
       "      <th>cov_nongerman</th>\n",
       "      <th>cov_nongerman_male</th>\n",
       "      <th>cov_nongerman_female</th>\n",
       "    </tr>\n",
       "  </thead>\n",
       "  <tbody>\n",
       "    <tr>\n",
       "      <th>0</th>\n",
       "      <td>3913eb247a3d8e4dccc082fd444aebff</td>\n",
       "      <td>2010_14</td>\n",
       "      <td>5k</td>\n",
       "      <td>scale</td>\n",
       "      <td>rf</td>\n",
       "      <td>nationality</td>\n",
       "      <td>keep-all</td>\n",
       "      <td>0.67</td>\n",
       "      <td>0.916431</td>\n",
       "      <td>1.151979</td>\n",
       "      <td>0.914139</td>\n",
       "      <td>0.911694</td>\n",
       "      <td>0.926056</td>\n",
       "      <td>0.887928</td>\n",
       "    </tr>\n",
       "  </tbody>\n",
       "</table>\n",
       "</div>"
      ],
      "text/plain": [
       "                        universe_id universe_training_year  \\\n",
       "0  3913eb247a3d8e4dccc082fd444aebff                2010_14   \n",
       "\n",
       "  universe_training_size universe_scale universe_model  \\\n",
       "0                     5k          scale             rf   \n",
       "\n",
       "  universe_exclude_features universe_exclude_subgroups  q_hat  coverage  \\\n",
       "0               nationality                   keep-all   0.67  0.916431   \n",
       "\n",
       "   avg_size  cov_frau1  cov_nongerman  cov_nongerman_male  \\\n",
       "0  1.151979   0.914139       0.911694            0.926056   \n",
       "\n",
       "   cov_nongerman_female  \n",
       "0              0.887928  "
      ]
     },
     "execution_count": 58,
     "metadata": {},
     "output_type": "execute_result"
    }
   ],
   "source": [
    "cp_metrics_df"
   ]
  },
  {
   "cell_type": "markdown",
   "id": "33774451",
   "metadata": {
    "papermill": {
     "duration": 0.02174,
     "end_time": "2025-08-05T15:50:50.257189",
     "exception": false,
     "start_time": "2025-08-05T15:50:50.235449",
     "status": "completed"
    },
    "tags": []
   },
   "source": [
    "# (Fairness) Metrics"
   ]
  },
  {
   "cell_type": "code",
   "execution_count": 59,
   "id": "debc5d62",
   "metadata": {
    "execution": {
     "iopub.execute_input": "2025-08-05T15:50:50.303722Z",
     "iopub.status.busy": "2025-08-05T15:50:50.303018Z",
     "iopub.status.idle": "2025-08-05T15:50:50.323662Z",
     "shell.execute_reply": "2025-08-05T15:50:50.322659Z"
    },
    "papermill": {
     "duration": 0.04564,
     "end_time": "2025-08-05T15:50:50.325563",
     "exception": false,
     "start_time": "2025-08-05T15:50:50.279923",
     "status": "completed"
    },
    "tags": []
   },
   "outputs": [],
   "source": [
    "# do I need to include maxdeutsch1.missing?\n",
    "\n",
    "import numpy as np\n",
    "\n",
    "colname_to_bin = \"maxdeutsch1\"\n",
    "majority_value = org_train[colname_to_bin].mode()[0]\n",
    "\n",
    "org_test[\"majmin\"] = np.where(org_test[colname_to_bin] == majority_value, \"majority\", \"minority\")"
   ]
  },
  {
   "cell_type": "code",
   "execution_count": 60,
   "id": "06a50de5",
   "metadata": {
    "execution": {
     "iopub.execute_input": "2025-08-05T15:50:50.370920Z",
     "iopub.status.busy": "2025-08-05T15:50:50.370014Z",
     "iopub.status.idle": "2025-08-05T15:50:53.126977Z",
     "shell.execute_reply": "2025-08-05T15:50:53.125772Z"
    },
    "papermill": {
     "duration": 2.781824,
     "end_time": "2025-08-05T15:50:53.128859",
     "exception": false,
     "start_time": "2025-08-05T15:50:50.347035",
     "status": "completed"
    },
    "tags": []
   },
   "outputs": [],
   "source": [
    "example_universe = universe.copy()\n",
    "example_universe[\"cutoff\"] = example_universe[\"cutoff\"][0]\n",
    "example_universe[\"eval_fairness_grouping\"] = example_universe[\"eval_fairness_grouping\"][0]\n",
    "fairness_dict, metric_frame = universe_analysis.compute_metrics(\n",
    "    example_universe,\n",
    "    y_pred_prob=probs_test,\n",
    "    y_test=y_true,\n",
    "    org_test=org_test,\n",
    ")"
   ]
  },
  {
   "cell_type": "markdown",
   "id": "f95d4e02",
   "metadata": {
    "papermill": {
     "duration": 0.020842,
     "end_time": "2025-08-05T15:50:53.175811",
     "exception": false,
     "start_time": "2025-08-05T15:50:53.154969",
     "status": "completed"
    },
    "tags": []
   },
   "source": [
    "# Overall"
   ]
  },
  {
   "cell_type": "markdown",
   "id": "bdee4871",
   "metadata": {
    "papermill": {
     "duration": 0.021839,
     "end_time": "2025-08-05T15:50:53.219767",
     "exception": false,
     "start_time": "2025-08-05T15:50:53.197928",
     "status": "completed"
    },
    "tags": []
   },
   "source": [
    "Fairness\n",
    "Main fairness target: Equalized Odds. Seems to be a better fit than equal opportunity, since we're not only interested in Y = 1. Seems to be a better fit than demographic parity, since we also care about accuracy, not just equal distribution of preds.\n",
    "\n",
    "Pick column for computation of fairness metrics\n",
    "\n",
    "Performance\n",
    "Overall performance measures, most interesting in relation to the measures split by group below"
   ]
  },
  {
   "cell_type": "code",
   "execution_count": 61,
   "id": "c4e067c6",
   "metadata": {
    "execution": {
     "iopub.execute_input": "2025-08-05T15:50:53.265556Z",
     "iopub.status.busy": "2025-08-05T15:50:53.265014Z",
     "iopub.status.idle": "2025-08-05T15:50:53.275130Z",
     "shell.execute_reply": "2025-08-05T15:50:53.274097Z"
    },
    "papermill": {
     "duration": 0.035147,
     "end_time": "2025-08-05T15:50:53.276831",
     "exception": false,
     "start_time": "2025-08-05T15:50:53.241684",
     "status": "completed"
    },
    "tags": []
   },
   "outputs": [
    {
     "data": {
      "text/plain": [
       "accuracy                   0.201115\n",
       "balanced accuracy          0.531438\n",
       "f1                         0.238595\n",
       "precision                  0.135915\n",
       "false positive rate        0.912879\n",
       "false negative rate        0.024244\n",
       "selection rate             0.920945\n",
       "count                  89710.000000\n",
       "dtype: float64"
      ]
     },
     "execution_count": 61,
     "metadata": {},
     "output_type": "execute_result"
    }
   ],
   "source": [
    "metric_frame.overall"
   ]
  },
  {
   "cell_type": "markdown",
   "id": "e968fe9d",
   "metadata": {
    "papermill": {
     "duration": 0.020472,
     "end_time": "2025-08-05T15:50:53.320651",
     "exception": false,
     "start_time": "2025-08-05T15:50:53.300179",
     "status": "completed"
    },
    "tags": []
   },
   "source": [
    "By Group"
   ]
  },
  {
   "cell_type": "code",
   "execution_count": 62,
   "id": "ec325bce",
   "metadata": {
    "execution": {
     "iopub.execute_input": "2025-08-05T15:50:53.364568Z",
     "iopub.status.busy": "2025-08-05T15:50:53.363729Z",
     "iopub.status.idle": "2025-08-05T15:50:53.379219Z",
     "shell.execute_reply": "2025-08-05T15:50:53.378156Z"
    },
    "papermill": {
     "duration": 0.040119,
     "end_time": "2025-08-05T15:50:53.381015",
     "exception": false,
     "start_time": "2025-08-05T15:50:53.340896",
     "status": "completed"
    },
    "tags": []
   },
   "outputs": [
    {
     "data": {
      "text/html": [
       "<div>\n",
       "<style scoped>\n",
       "    .dataframe tbody tr th:only-of-type {\n",
       "        vertical-align: middle;\n",
       "    }\n",
       "\n",
       "    .dataframe tbody tr th {\n",
       "        vertical-align: top;\n",
       "    }\n",
       "\n",
       "    .dataframe thead th {\n",
       "        text-align: right;\n",
       "    }\n",
       "</style>\n",
       "<table border=\"1\" class=\"dataframe\">\n",
       "  <thead>\n",
       "    <tr style=\"text-align: right;\">\n",
       "      <th></th>\n",
       "      <th>accuracy</th>\n",
       "      <th>balanced accuracy</th>\n",
       "      <th>f1</th>\n",
       "      <th>precision</th>\n",
       "      <th>false positive rate</th>\n",
       "      <th>false negative rate</th>\n",
       "      <th>selection rate</th>\n",
       "      <th>count</th>\n",
       "    </tr>\n",
       "    <tr>\n",
       "      <th>majmin</th>\n",
       "      <th></th>\n",
       "      <th></th>\n",
       "      <th></th>\n",
       "      <th></th>\n",
       "      <th></th>\n",
       "      <th></th>\n",
       "      <th></th>\n",
       "      <th></th>\n",
       "    </tr>\n",
       "  </thead>\n",
       "  <tbody>\n",
       "    <tr>\n",
       "      <th>majority</th>\n",
       "      <td>0.193682</td>\n",
       "      <td>0.531283</td>\n",
       "      <td>0.245015</td>\n",
       "      <td>0.139805</td>\n",
       "      <td>0.927586</td>\n",
       "      <td>0.009847</td>\n",
       "      <td>0.935854</td>\n",
       "      <td>69170.0</td>\n",
       "    </tr>\n",
       "    <tr>\n",
       "      <th>minority</th>\n",
       "      <td>0.226144</td>\n",
       "      <td>0.527945</td>\n",
       "      <td>0.215178</td>\n",
       "      <td>0.121834</td>\n",
       "      <td>0.864297</td>\n",
       "      <td>0.079814</td>\n",
       "      <td>0.870740</td>\n",
       "      <td>20540.0</td>\n",
       "    </tr>\n",
       "  </tbody>\n",
       "</table>\n",
       "</div>"
      ],
      "text/plain": [
       "          accuracy  balanced accuracy        f1  precision  \\\n",
       "majmin                                                       \n",
       "majority  0.193682           0.531283  0.245015   0.139805   \n",
       "minority  0.226144           0.527945  0.215178   0.121834   \n",
       "\n",
       "          false positive rate  false negative rate  selection rate    count  \n",
       "majmin                                                                       \n",
       "majority             0.927586             0.009847        0.935854  69170.0  \n",
       "minority             0.864297             0.079814        0.870740  20540.0  "
      ]
     },
     "execution_count": 62,
     "metadata": {},
     "output_type": "execute_result"
    }
   ],
   "source": [
    "metric_frame.by_group"
   ]
  },
  {
   "cell_type": "code",
   "execution_count": 63,
   "id": "a9ddbe63",
   "metadata": {
    "execution": {
     "iopub.execute_input": "2025-08-05T15:50:53.426096Z",
     "iopub.status.busy": "2025-08-05T15:50:53.425260Z",
     "iopub.status.idle": "2025-08-05T15:50:55.557943Z",
     "shell.execute_reply": "2025-08-05T15:50:55.557000Z"
    },
    "papermill": {
     "duration": 2.155046,
     "end_time": "2025-08-05T15:50:55.559536",
     "exception": false,
     "start_time": "2025-08-05T15:50:53.404490",
     "status": "completed"
    },
    "tags": []
   },
   "outputs": [
    {
     "data": {
      "text/plain": [
       "array([[<Axes: title={'center': 'accuracy'}, xlabel='majmin'>,\n",
       "        <Axes: title={'center': 'balanced accuracy'}, xlabel='majmin'>,\n",
       "        <Axes: title={'center': 'f1'}, xlabel='majmin'>],\n",
       "       [<Axes: title={'center': 'precision'}, xlabel='majmin'>,\n",
       "        <Axes: title={'center': 'false positive rate'}, xlabel='majmin'>,\n",
       "        <Axes: title={'center': 'false negative rate'}, xlabel='majmin'>],\n",
       "       [<Axes: title={'center': 'selection rate'}, xlabel='majmin'>,\n",
       "        <Axes: title={'center': 'count'}, xlabel='majmin'>,\n",
       "        <Axes: xlabel='majmin'>]], dtype=object)"
      ]
     },
     "execution_count": 63,
     "metadata": {},
     "output_type": "execute_result"
    },
    {
     "data": {
      "image/png": "[encoded data removed]",
      "text/plain": [
       "<Figure size 1200x800 with 9 Axes>"
      ]
     },
     "metadata": {},
     "output_type": "display_data"
    }
   ],
   "source": [
    "# In a graphic\n",
    "metric_frame.by_group.plot.bar(\n",
    "    subplots=True,\n",
    "    layout=[3, 3],\n",
    "    legend=False,\n",
    "    figsize=[12, 8],\n",
    "    title=\"Show all metrics\",\n",
    ")"
   ]
  },
  {
   "cell_type": "markdown",
   "id": "f57a0bac",
   "metadata": {
    "papermill": {
     "duration": 0.013134,
     "end_time": "2025-08-05T15:50:55.593819",
     "exception": false,
     "start_time": "2025-08-05T15:50:55.580685",
     "status": "completed"
    },
    "tags": []
   },
   "source": [
    "# Final Output"
   ]
  },
  {
   "cell_type": "code",
   "execution_count": 64,
   "id": "96d280a3",
   "metadata": {
    "execution": {
     "iopub.execute_input": "2025-08-05T15:50:55.628330Z",
     "iopub.status.busy": "2025-08-05T15:50:55.627616Z",
     "iopub.status.idle": "2025-08-05T15:50:55.635684Z",
     "shell.execute_reply": "2025-08-05T15:50:55.634758Z"
    },
    "papermill": {
     "duration": 0.030152,
     "end_time": "2025-08-05T15:50:55.637399",
     "exception": false,
     "start_time": "2025-08-05T15:50:55.607247",
     "status": "completed"
    },
    "tags": []
   },
   "outputs": [
    {
     "data": {
      "text/plain": [
       "4"
      ]
     },
     "execution_count": 64,
     "metadata": {},
     "output_type": "execute_result"
    }
   ],
   "source": [
    "sub_universes = universe_analysis.generate_sub_universes()\n",
    "len(sub_universes)"
   ]
  },
  {
   "cell_type": "code",
   "execution_count": 65,
   "id": "92adf7ba",
   "metadata": {
    "execution": {
     "iopub.execute_input": "2025-08-05T15:50:55.695929Z",
     "iopub.status.busy": "2025-08-05T15:50:55.695405Z",
     "iopub.status.idle": "2025-08-05T15:50:55.701741Z",
     "shell.execute_reply": "2025-08-05T15:50:55.700708Z"
    },
    "papermill": {
     "duration": 0.037051,
     "end_time": "2025-08-05T15:50:55.703770",
     "exception": false,
     "start_time": "2025-08-05T15:50:55.666719",
     "status": "completed"
    },
    "tags": []
   },
   "outputs": [],
   "source": [
    "def filter_sub_universe_data(sub_universe, org_test):\n",
    "    # Keep all rows — no filtering\n",
    "    keep_rows_mask = np.ones(org_test.shape[0], dtype=bool)\n",
    "\n",
    "    print(f\"[INFO] Keeping all rows: {keep_rows_mask.sum()} rows retained.\")\n",
    "    return keep_rows_mask"
   ]
  },
  {
   "cell_type": "code",
   "execution_count": 66,
   "id": "4a759155",
   "metadata": {
    "execution": {
     "iopub.execute_input": "2025-08-05T15:50:55.761961Z",
     "iopub.status.busy": "2025-08-05T15:50:55.761375Z",
     "iopub.status.idle": "2025-08-05T15:51:05.454551Z",
     "shell.execute_reply": "2025-08-05T15:51:05.453335Z"
    },
    "papermill": {
     "duration": 9.724958,
     "end_time": "2025-08-05T15:51:05.456391",
     "exception": false,
     "start_time": "2025-08-05T15:50:55.731433",
     "status": "completed"
    },
    "tags": []
   },
   "outputs": [
    {
     "name": "stdout",
     "output_type": "stream",
     "text": [
      "Stopping execution_time clock.\n",
      "[INFO] Keeping all rows: 89710 rows retained.\n"
     ]
    },
    {
     "name": "stdout",
     "output_type": "stream",
     "text": [
      "[INFO] Keeping all rows: 89710 rows retained.\n"
     ]
    },
    {
     "name": "stdout",
     "output_type": "stream",
     "text": [
      "[INFO] Keeping all rows: 89710 rows retained.\n"
     ]
    },
    {
     "name": "stdout",
     "output_type": "stream",
     "text": [
      "[INFO] Keeping all rows: 89710 rows retained.\n"
     ]
    },
    {
     "data": {
      "text/html": [
       "<div>\n",
       "<style scoped>\n",
       "    .dataframe tbody tr th:only-of-type {\n",
       "        vertical-align: middle;\n",
       "    }\n",
       "\n",
       "    .dataframe tbody tr th {\n",
       "        vertical-align: top;\n",
       "    }\n",
       "\n",
       "    .dataframe thead th {\n",
       "        text-align: right;\n",
       "    }\n",
       "</style>\n",
       "<table border=\"1\" class=\"dataframe\">\n",
       "  <thead>\n",
       "    <tr style=\"text-align: right;\">\n",
       "      <th></th>\n",
       "      <th>run_no</th>\n",
       "      <th>universe_id</th>\n",
       "      <th>universe_settings</th>\n",
       "      <th>execution_time</th>\n",
       "      <th>test_size_n</th>\n",
       "      <th>test_size_frac</th>\n",
       "      <th>fair_main_equalized_odds_difference</th>\n",
       "      <th>fair_main_equalized_odds_ratio</th>\n",
       "      <th>fair_main_demographic_parity_difference</th>\n",
       "      <th>fair_main_demographic_parity_ratio</th>\n",
       "      <th>...</th>\n",
       "      <th>perf_grp_precision_0</th>\n",
       "      <th>perf_grp_precision_1</th>\n",
       "      <th>perf_grp_false positive rate_0</th>\n",
       "      <th>perf_grp_false positive rate_1</th>\n",
       "      <th>perf_grp_false negative rate_0</th>\n",
       "      <th>perf_grp_false negative rate_1</th>\n",
       "      <th>perf_grp_selection rate_0</th>\n",
       "      <th>perf_grp_selection rate_1</th>\n",
       "      <th>perf_grp_count_0</th>\n",
       "      <th>perf_grp_count_1</th>\n",
       "    </tr>\n",
       "  </thead>\n",
       "  <tbody>\n",
       "    <tr>\n",
       "      <th>0</th>\n",
       "      <td>15</td>\n",
       "      <td>3913eb247a3d8e4dccc082fd444aebff</td>\n",
       "      <td>{\"cutoff\": \"quantile_0.1\", \"eval_fairness_grou...</td>\n",
       "      <td>36.437574</td>\n",
       "      <td>89710</td>\n",
       "      <td>1.0</td>\n",
       "      <td>0.069967</td>\n",
       "      <td>0.929337</td>\n",
       "      <td>0.065114</td>\n",
       "      <td>0.930423</td>\n",
       "      <td>...</td>\n",
       "      <td>NaN</td>\n",
       "      <td>NaN</td>\n",
       "      <td>NaN</td>\n",
       "      <td>NaN</td>\n",
       "      <td>NaN</td>\n",
       "      <td>NaN</td>\n",
       "      <td>NaN</td>\n",
       "      <td>NaN</td>\n",
       "      <td>NaN</td>\n",
       "      <td>NaN</td>\n",
       "    </tr>\n",
       "    <tr>\n",
       "      <th>0</th>\n",
       "      <td>15</td>\n",
       "      <td>3913eb247a3d8e4dccc082fd444aebff</td>\n",
       "      <td>{\"cutoff\": \"quantile_0.1\", \"eval_fairness_grou...</td>\n",
       "      <td>36.437574</td>\n",
       "      <td>89710</td>\n",
       "      <td>1.0</td>\n",
       "      <td>0.069967</td>\n",
       "      <td>0.929337</td>\n",
       "      <td>0.065114</td>\n",
       "      <td>0.930423</td>\n",
       "      <td>...</td>\n",
       "      <td>0.121834</td>\n",
       "      <td>0.139805</td>\n",
       "      <td>0.864297</td>\n",
       "      <td>0.927586</td>\n",
       "      <td>0.079814</td>\n",
       "      <td>0.009847</td>\n",
       "      <td>0.87074</td>\n",
       "      <td>0.935854</td>\n",
       "      <td>20540.0</td>\n",
       "      <td>69170.0</td>\n",
       "    </tr>\n",
       "    <tr>\n",
       "      <th>0</th>\n",
       "      <td>15</td>\n",
       "      <td>3913eb247a3d8e4dccc082fd444aebff</td>\n",
       "      <td>{\"cutoff\": \"quantile_0.25\", \"eval_fairness_gro...</td>\n",
       "      <td>36.437574</td>\n",
       "      <td>89710</td>\n",
       "      <td>1.0</td>\n",
       "      <td>0.120587</td>\n",
       "      <td>0.874182</td>\n",
       "      <td>0.070015</td>\n",
       "      <td>0.911746</td>\n",
       "      <td>...</td>\n",
       "      <td>NaN</td>\n",
       "      <td>NaN</td>\n",
       "      <td>NaN</td>\n",
       "      <td>NaN</td>\n",
       "      <td>NaN</td>\n",
       "      <td>NaN</td>\n",
       "      <td>NaN</td>\n",
       "      <td>NaN</td>\n",
       "      <td>NaN</td>\n",
       "      <td>NaN</td>\n",
       "    </tr>\n",
       "    <tr>\n",
       "      <th>0</th>\n",
       "      <td>15</td>\n",
       "      <td>3913eb247a3d8e4dccc082fd444aebff</td>\n",
       "      <td>{\"cutoff\": \"quantile_0.25\", \"eval_fairness_gro...</td>\n",
       "      <td>36.437574</td>\n",
       "      <td>89710</td>\n",
       "      <td>1.0</td>\n",
       "      <td>0.120587</td>\n",
       "      <td>0.874182</td>\n",
       "      <td>0.070015</td>\n",
       "      <td>0.911746</td>\n",
       "      <td>...</td>\n",
       "      <td>0.133540</td>\n",
       "      <td>0.159636</td>\n",
       "      <td>0.708398</td>\n",
       "      <td>0.768199</td>\n",
       "      <td>0.162162</td>\n",
       "      <td>0.041575</td>\n",
       "      <td>0.72332</td>\n",
       "      <td>0.793335</td>\n",
       "      <td>20540.0</td>\n",
       "      <td>69170.0</td>\n",
       "    </tr>\n",
       "  </tbody>\n",
       "</table>\n",
       "<p>4 rows × 50 columns</p>\n",
       "</div>"
      ],
      "text/plain": [
       "  run_no                       universe_id  \\\n",
       "0     15  3913eb247a3d8e4dccc082fd444aebff   \n",
       "0     15  3913eb247a3d8e4dccc082fd444aebff   \n",
       "0     15  3913eb247a3d8e4dccc082fd444aebff   \n",
       "0     15  3913eb247a3d8e4dccc082fd444aebff   \n",
       "\n",
       "                                   universe_settings  execution_time  \\\n",
       "0  {\"cutoff\": \"quantile_0.1\", \"eval_fairness_grou...       36.437574   \n",
       "0  {\"cutoff\": \"quantile_0.1\", \"eval_fairness_grou...       36.437574   \n",
       "0  {\"cutoff\": \"quantile_0.25\", \"eval_fairness_gro...       36.437574   \n",
       "0  {\"cutoff\": \"quantile_0.25\", \"eval_fairness_gro...       36.437574   \n",
       "\n",
       "   test_size_n  test_size_frac  fair_main_equalized_odds_difference  \\\n",
       "0        89710             1.0                             0.069967   \n",
       "0        89710             1.0                             0.069967   \n",
       "0        89710             1.0                             0.120587   \n",
       "0        89710             1.0                             0.120587   \n",
       "\n",
       "   fair_main_equalized_odds_ratio  fair_main_demographic_parity_difference  \\\n",
       "0                        0.929337                                 0.065114   \n",
       "0                        0.929337                                 0.065114   \n",
       "0                        0.874182                                 0.070015   \n",
       "0                        0.874182                                 0.070015   \n",
       "\n",
       "   fair_main_demographic_parity_ratio  ...  perf_grp_precision_0  \\\n",
       "0                            0.930423  ...                   NaN   \n",
       "0                            0.930423  ...              0.121834   \n",
       "0                            0.911746  ...                   NaN   \n",
       "0                            0.911746  ...              0.133540   \n",
       "\n",
       "   perf_grp_precision_1  perf_grp_false positive rate_0  \\\n",
       "0                   NaN                             NaN   \n",
       "0              0.139805                        0.864297   \n",
       "0                   NaN                             NaN   \n",
       "0              0.159636                        0.708398   \n",
       "\n",
       "   perf_grp_false positive rate_1  perf_grp_false negative rate_0  \\\n",
       "0                             NaN                             NaN   \n",
       "0                        0.927586                        0.079814   \n",
       "0                             NaN                             NaN   \n",
       "0                        0.768199                        0.162162   \n",
       "\n",
       "   perf_grp_false negative rate_1  perf_grp_selection rate_0  \\\n",
       "0                             NaN                        NaN   \n",
       "0                        0.009847                    0.87074   \n",
       "0                             NaN                        NaN   \n",
       "0                        0.041575                    0.72332   \n",
       "\n",
       "   perf_grp_selection rate_1  perf_grp_count_0  perf_grp_count_1  \n",
       "0                        NaN               NaN               NaN  \n",
       "0                   0.935854           20540.0           69170.0  \n",
       "0                        NaN               NaN               NaN  \n",
       "0                   0.793335           20540.0           69170.0  \n",
       "\n",
       "[4 rows x 50 columns]"
      ]
     },
     "execution_count": 66,
     "metadata": {},
     "output_type": "execute_result"
    }
   ],
   "source": [
    "final_output = universe_analysis.generate_final_output(\n",
    "    y_pred_prob=probs_test,\n",
    "    y_test=y_true,\n",
    "    org_test=org_test,\n",
    "    filter_data=filter_sub_universe_data,\n",
    "    cp_metrics_df=cp_metrics_df,\n",
    "    save=True,\n",
    ")\n",
    "final_output"
   ]
  }
 ],
 "metadata": {
  "celltoolbar": "Tags",
  "kernelspec": {
   "display_name": "Python (CMA Fairness)",
   "language": "python",
   "name": "cma_fair_env"
  },
  "language_info": {
   "codemirror_mode": {
    "name": "ipython",
    "version": 3
   },
   "file_extension": ".py",
   "mimetype": "text/x-python",
   "name": "python",
   "nbconvert_exporter": "python",
   "pygments_lexer": "ipython3",
   "version": "3.10.12"
  },
  "papermill": {
   "default_parameters": {},
   "duration": 50.344902,
   "end_time": "2025-08-05T15:51:06.310145",
   "environment_variables": {},
   "exception": null,
   "input_path": "universe_analysis.ipynb",
   "output_path": "output/runs/15/notebooks/m_15-3913eb247a3d8e4dccc082fd444aebff.ipynb",
   "parameters": {
    "output_dir": "output",
    "run_no": "15",
    "seed": "2023",
    "universe": "{\"cutoff\": [\"quantile_0.1\", \"quantile_0.25\"], \"eval_fairness_grouping\": [\"majority-minority\", \"nationality-all\"], \"exclude_features\": \"nationality\", \"exclude_subgroups\": \"keep-all\", \"model\": \"rf\", \"scale\": \"scale\", \"training_size\": \"5k\", \"training_year\": \"2010_14\"}",
    "universe_id": "3913eb247a3d8e4dccc082fd444aebff"
   },
   "start_time": "2025-08-05T15:50:15.965243",
   "version": "2.6.0"
  }
 },
 "nbformat": 4,
 "nbformat_minor": 5
}