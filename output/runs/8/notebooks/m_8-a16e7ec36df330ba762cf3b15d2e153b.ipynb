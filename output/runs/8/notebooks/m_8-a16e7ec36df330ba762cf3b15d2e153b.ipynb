{
 "cells": [
  {
   "cell_type": "code",
   "execution_count": 1,
   "id": "f159f837-637b-42ba-96b5-ec9a68c44524",
   "metadata": {
    "execution": {
     "iopub.execute_input": "2025-07-23T14:23:22.783982Z",
     "iopub.status.busy": "2025-07-23T14:23:22.783507Z",
     "iopub.status.idle": "2025-07-23T14:23:22.798864Z",
     "shell.execute_reply": "2025-07-23T14:23:22.797492Z"
    },
    "papermill": {
     "duration": 0.057041,
     "end_time": "2025-07-23T14:23:22.813730",
     "exception": false,
     "start_time": "2025-07-23T14:23:22.756689",
     "status": "completed"
    },
    "tags": []
   },
   "outputs": [
    {
     "name": "stdout",
     "output_type": "stream",
     "text": [
      "/dss/dsshome1/0C/ra93lal2/cma/CMA_Fairness_v2\n"
     ]
    },
    {
     "name": "stderr",
     "output_type": "stream",
     "text": [
      "/dss/dsshome1/0C/ra93lal2/.local/share/virtualenvs/CMA_Fairness_v2-3j10GkSs/lib/python3.10/site-packages/IPython/core/magics/osm.py:393: UserWarning: This is now an optional IPython functionality, using bookmarks requires you to install the `pickleshare` library.\n",
      "  bkms = self.shell.db.get('bookmarks', {})\n",
      "/dss/dsshome1/0C/ra93lal2/.local/share/virtualenvs/CMA_Fairness_v2-3j10GkSs/lib/python3.10/site-packages/IPython/core/magics/osm.py:417: UserWarning: This is now an optional IPython functionality, setting dhist requires you to install the `pickleshare` library.\n",
      "  self.shell.db['dhist'] = compress_dhist(dhist)[-100:]\n"
     ]
    }
   ],
   "source": [
    "%cd ~/cma/CMA_Fairness_v2"
   ]
  },
  {
   "cell_type": "markdown",
   "id": "de2603b9",
   "metadata": {
    "papermill": {
     "duration": 0.016077,
     "end_time": "2025-07-23T14:23:22.847788",
     "exception": false,
     "start_time": "2025-07-23T14:23:22.831711",
     "status": "completed"
    },
    "tags": []
   },
   "source": [
    "The following cell holds the definition of our parameters, these values can be overriden by rendering the with e.g. the following command:\n",
    "\n",
    "papermill -p alpha 0.2 -p ratio 0.3 universe_analysis.ipynb output/test_run.ipynb"
   ]
  },
  {
   "cell_type": "code",
   "execution_count": 2,
   "id": "a80968a0-40bb-4fa9-85ef-2d5eefb01975",
   "metadata": {
    "execution": {
     "iopub.execute_input": "2025-07-23T14:23:22.882913Z",
     "iopub.status.busy": "2025-07-23T14:23:22.882514Z",
     "iopub.status.idle": "2025-07-23T14:23:22.887528Z",
     "shell.execute_reply": "2025-07-23T14:23:22.886781Z"
    },
    "papermill": {
     "duration": 0.023341,
     "end_time": "2025-07-23T14:23:22.889121",
     "exception": false,
     "start_time": "2025-07-23T14:23:22.865780",
     "status": "completed"
    },
    "tags": []
   },
   "outputs": [
    {
     "name": "stdout",
     "output_type": "stream",
     "text": [
      "Current working directory: /dss/dsshome1/0C/ra93lal2/cma/CMA_Fairness_v2\n"
     ]
    }
   ],
   "source": [
    "import os\n",
    "print(\"Current working directory:\", os.getcwd())"
   ]
  },
  {
   "cell_type": "code",
   "execution_count": 3,
   "id": "2dce4c03",
   "metadata": {
    "execution": {
     "iopub.execute_input": "2025-07-23T14:23:22.909567Z",
     "iopub.status.busy": "2025-07-23T14:23:22.908808Z",
     "iopub.status.idle": "2025-07-23T14:23:22.914106Z",
     "shell.execute_reply": "2025-07-23T14:23:22.913328Z"
    },
    "papermill": {
     "duration": 0.016655,
     "end_time": "2025-07-23T14:23:22.915545",
     "exception": false,
     "start_time": "2025-07-23T14:23:22.898890",
     "status": "completed"
    },
    "tags": [
     "parameters"
    ]
   },
   "outputs": [],
   "source": [
    "run_no = 0\n",
    "universe_id = \"test\"\n",
    "universe = {\n",
    "    \"scale\": \"scale\", # \"scale\", \"do-not-scale\",\n",
    "    \"model\": \"elasticnet\", # \"logreg\", \"penalized_logreg\", \"rf\", \"gbm\", \"elasticnet\"\n",
    "    \"cutoff\": [\"quantile_0.15\", \"quantile_0.30\"],\n",
    "    \"exclude_features\": \"age\", # \"none\", \"nationality\", \"sex\", \"nationality-sex\", \"age\"\n",
    "    \"exclude_subgroups\": \"keep-all\", # \"keep-all\", \"drop-non-german\"\n",
    "    #\"training_sample\": \"restricted\", # \"restricted\", \"full\"\n",
    "    \"eval_fairness_grouping\": [\"majority-minority\", \"nationality-all\"]\n",
    "}\n",
    "\n",
    "output_dir=\"./output\"\n",
    "seed=0"
   ]
  },
  {
   "cell_type": "code",
   "execution_count": 4,
   "id": "896bd6a6",
   "metadata": {
    "execution": {
     "iopub.execute_input": "2025-07-23T14:23:22.940902Z",
     "iopub.status.busy": "2025-07-23T14:23:22.940146Z",
     "iopub.status.idle": "2025-07-23T14:23:22.945146Z",
     "shell.execute_reply": "2025-07-23T14:23:22.944366Z"
    },
    "papermill": {
     "duration": 0.016574,
     "end_time": "2025-07-23T14:23:22.946647",
     "exception": false,
     "start_time": "2025-07-23T14:23:22.930073",
     "status": "completed"
    },
    "tags": [
     "injected-parameters"
    ]
   },
   "outputs": [],
   "source": [
    "# Parameters\n",
    "universe_id = \"a16e7ec36df330ba762cf3b15d2e153b\"\n",
    "run_no = \"8\"\n",
    "universe = \"{\\\"cutoff\\\": [\\\"quantile_0.1\\\", \\\"quantile_0.25\\\"], \\\"eval_fairness_grouping\\\": [\\\"majority-minority\\\", \\\"nationality-all\\\"], \\\"exclude_features\\\": \\\"age\\\", \\\"exclude_subgroups\\\": \\\"drop-non-german\\\", \\\"model\\\": \\\"penalized_logreg\\\", \\\"scale\\\": \\\"scale\\\"}\"\n",
    "output_dir = \"output\"\n",
    "seed = \"2023\"\n"
   ]
  },
  {
   "cell_type": "code",
   "execution_count": 5,
   "id": "1650acaf",
   "metadata": {
    "execution": {
     "iopub.execute_input": "2025-07-23T14:23:22.966748Z",
     "iopub.status.busy": "2025-07-23T14:23:22.966276Z",
     "iopub.status.idle": "2025-07-23T14:23:22.972349Z",
     "shell.execute_reply": "2025-07-23T14:23:22.971151Z"
    },
    "papermill": {
     "duration": 0.017975,
     "end_time": "2025-07-23T14:23:22.974296",
     "exception": false,
     "start_time": "2025-07-23T14:23:22.956321",
     "status": "completed"
    },
    "tags": []
   },
   "outputs": [],
   "source": [
    "import json\n",
    "# Parse universe into dict if it is passed as a string\n",
    "if isinstance(universe, str):\n",
    "    universe = json.loads(universe)"
   ]
  },
  {
   "cell_type": "code",
   "execution_count": 6,
   "id": "16620c48",
   "metadata": {
    "execution": {
     "iopub.execute_input": "2025-07-23T14:23:23.012368Z",
     "iopub.status.busy": "2025-07-23T14:23:23.011979Z",
     "iopub.status.idle": "2025-07-23T14:23:23.059813Z",
     "shell.execute_reply": "2025-07-23T14:23:23.058648Z"
    },
    "papermill": {
     "duration": 0.072025,
     "end_time": "2025-07-23T14:23:23.065126",
     "exception": false,
     "start_time": "2025-07-23T14:23:22.993101",
     "status": "completed"
    },
    "tags": []
   },
   "outputs": [],
   "source": [
    "# Auto-reload the custom package\n",
    "%load_ext autoreload\n",
    "%autoreload 1\n",
    "%aimport fairness_multiverse"
   ]
  },
  {
   "cell_type": "code",
   "execution_count": 7,
   "id": "01c5c9f3",
   "metadata": {
    "execution": {
     "iopub.execute_input": "2025-07-23T14:23:23.104434Z",
     "iopub.status.busy": "2025-07-23T14:23:23.103750Z",
     "iopub.status.idle": "2025-07-23T14:23:25.281229Z",
     "shell.execute_reply": "2025-07-23T14:23:25.279989Z"
    },
    "papermill": {
     "duration": 2.19806,
     "end_time": "2025-07-23T14:23:25.282885",
     "exception": false,
     "start_time": "2025-07-23T14:23:23.084825",
     "status": "completed"
    },
    "tags": []
   },
   "outputs": [],
   "source": [
    "from fairness_multiverse.universe import UniverseAnalysis\n",
    "\n",
    "universe_analysis = UniverseAnalysis(\n",
    "    run_no = run_no,\n",
    "    universe_id = universe_id,\n",
    "    universe = universe,\n",
    "    output_dir=output_dir,\n",
    ")"
   ]
  },
  {
   "cell_type": "code",
   "execution_count": 8,
   "id": "106241f5",
   "metadata": {
    "execution": {
     "iopub.execute_input": "2025-07-23T14:23:25.323193Z",
     "iopub.status.busy": "2025-07-23T14:23:25.322247Z",
     "iopub.status.idle": "2025-07-23T14:23:25.328297Z",
     "shell.execute_reply": "2025-07-23T14:23:25.327364Z"
    },
    "papermill": {
     "duration": 0.027471,
     "end_time": "2025-07-23T14:23:25.329714",
     "exception": false,
     "start_time": "2025-07-23T14:23:25.302243",
     "status": "completed"
    },
    "tags": []
   },
   "outputs": [
    {
     "name": "stdout",
     "output_type": "stream",
     "text": [
      "Using Seed: 2023\n"
     ]
    }
   ],
   "source": [
    "import numpy as np\n",
    "parsed_seed = int(seed)\n",
    "np.random.seed(parsed_seed)\n",
    "print(f\"Using Seed: {parsed_seed}\")"
   ]
  },
  {
   "cell_type": "markdown",
   "id": "e0ebdc57",
   "metadata": {
    "papermill": {
     "duration": 0.009465,
     "end_time": "2025-07-23T14:23:25.349186",
     "exception": false,
     "start_time": "2025-07-23T14:23:25.339721",
     "status": "completed"
    },
    "tags": []
   },
   "source": [
    "# Loading Data"
   ]
  },
  {
   "cell_type": "markdown",
   "id": "681925a3",
   "metadata": {
    "papermill": {
     "duration": 0.0184,
     "end_time": "2025-07-23T14:23:25.396722",
     "exception": false,
     "start_time": "2025-07-23T14:23:25.378322",
     "status": "completed"
    },
    "tags": []
   },
   "source": [
    "Load siab_train, siab_test, siab_calib and/or \n",
    "load siab_train_features, siab_train_labels"
   ]
  },
  {
   "cell_type": "code",
   "execution_count": 9,
   "id": "f0496b8a",
   "metadata": {
    "execution": {
     "iopub.execute_input": "2025-07-23T14:23:25.426649Z",
     "iopub.status.busy": "2025-07-23T14:23:25.426324Z",
     "iopub.status.idle": "2025-07-23T14:23:25.431710Z",
     "shell.execute_reply": "2025-07-23T14:23:25.430918Z"
    },
    "papermill": {
     "duration": 0.020948,
     "end_time": "2025-07-23T14:23:25.433221",
     "exception": false,
     "start_time": "2025-07-23T14:23:25.412273",
     "status": "completed"
    },
    "tags": []
   },
   "outputs": [],
   "source": [
    "# Do I need to load siab? Delete this cell?\n",
    "\n",
    "#from pathlib import Path\n",
    "#import pandas as pd\n",
    "#\n",
    "## File paths\n",
    "#raw_file = Path(\"data/raw/siab.csv\")\n",
    "#cache_file = Path(\"data/siab_cached.csv.gz\")\n",
    "#\n",
    "## Ensure cache directory exists\n",
    "#cache_file.parent.mkdir(parents=True, exist_ok=True)\n",
    "#\n",
    "## Load with simple caching\n",
    "#if cache_file.exists():\n",
    "#    print(f\"Loading SIAB data from cache: {cache_file}\")\n",
    "#    siab = pd.read_csv(cache_file, compression='gzip')\n",
    "#else:\n",
    "#    print(f\"Cache not found. Reading raw SIAB data: {raw_file}\")\n",
    "#    siab = pd.read_csv(raw_file)\n",
    "#    siab.to_csv(cache_file, index=False, compression='gzip')\n",
    "#    print(f\"Cached SIAB data to: {cache_file}\")\n",
    "#\n",
    "## Now use `siab` DataFrame as needed\n",
    "#print(siab.shape)\n"
   ]
  },
  {
   "cell_type": "code",
   "execution_count": 10,
   "id": "a0edb063",
   "metadata": {
    "execution": {
     "iopub.execute_input": "2025-07-23T14:23:25.454725Z",
     "iopub.status.busy": "2025-07-23T14:23:25.453984Z",
     "iopub.status.idle": "2025-07-23T14:23:26.806608Z",
     "shell.execute_reply": "2025-07-23T14:23:26.805440Z"
    },
    "papermill": {
     "duration": 1.365352,
     "end_time": "2025-07-23T14:23:26.808910",
     "exception": false,
     "start_time": "2025-07-23T14:23:25.443558",
     "status": "completed"
    },
    "tags": []
   },
   "outputs": [],
   "source": [
    "import pandas as pd\n",
    "\n",
    "X_train = pd.read_csv(\"./data/X_train.csv\")\n",
    "y_train = pd.read_csv(\"./data/y_train.csv\")"
   ]
  },
  {
   "cell_type": "code",
   "execution_count": 11,
   "id": "63d08085",
   "metadata": {
    "execution": {
     "iopub.execute_input": "2025-07-23T14:23:26.860957Z",
     "iopub.status.busy": "2025-07-23T14:23:26.859845Z",
     "iopub.status.idle": "2025-07-23T14:23:28.438583Z",
     "shell.execute_reply": "2025-07-23T14:23:28.437387Z"
    },
    "papermill": {
     "duration": 1.607421,
     "end_time": "2025-07-23T14:23:28.440432",
     "exception": false,
     "start_time": "2025-07-23T14:23:26.833011",
     "status": "completed"
    },
    "tags": []
   },
   "outputs": [],
   "source": [
    "X_test = pd.read_csv(\"./data/X_test.csv\")\n",
    "y_true = pd.read_csv(\"./data/y_test.csv\")"
   ]
  },
  {
   "cell_type": "code",
   "execution_count": 12,
   "id": "98a8d0fa-1d3d-4ed8-bb2c-281470e24add",
   "metadata": {
    "execution": {
     "iopub.execute_input": "2025-07-23T14:23:28.478273Z",
     "iopub.status.busy": "2025-07-23T14:23:28.477276Z",
     "iopub.status.idle": "2025-07-23T14:23:29.815733Z",
     "shell.execute_reply": "2025-07-23T14:23:29.814151Z"
    },
    "papermill": {
     "duration": 1.363185,
     "end_time": "2025-07-23T14:23:29.818530",
     "exception": false,
     "start_time": "2025-07-23T14:23:28.455345",
     "status": "completed"
    },
    "tags": []
   },
   "outputs": [],
   "source": [
    "# Calibration data for conformal\n",
    "X_calib = pd.read_csv(\"./data/X_calib.csv\")\n",
    "y_calib = pd.read_csv(\"./data/y_calib.csv\")"
   ]
  },
  {
   "cell_type": "code",
   "execution_count": 13,
   "id": "e6c733c5",
   "metadata": {
    "execution": {
     "iopub.execute_input": "2025-07-23T14:23:29.871766Z",
     "iopub.status.busy": "2025-07-23T14:23:29.871099Z",
     "iopub.status.idle": "2025-07-23T14:23:30.026051Z",
     "shell.execute_reply": "2025-07-23T14:23:30.024713Z"
    },
    "papermill": {
     "duration": 0.183354,
     "end_time": "2025-07-23T14:23:30.028807",
     "exception": false,
     "start_time": "2025-07-23T14:23:29.845453",
     "status": "completed"
    },
    "tags": []
   },
   "outputs": [],
   "source": [
    "# Auxiliary data needed downstream in the pipeline\n",
    "\n",
    "org_train = X_train.copy()\n",
    "org_test = X_test.copy()\n",
    "org_calib = X_calib.copy()"
   ]
  },
  {
   "cell_type": "markdown",
   "id": "0a4a1b33",
   "metadata": {
    "papermill": {
     "duration": 0.016501,
     "end_time": "2025-07-23T14:23:30.071137",
     "exception": false,
     "start_time": "2025-07-23T14:23:30.054636",
     "status": "completed"
    },
    "tags": []
   },
   "source": [
    "# Preprocessing Data"
   ]
  },
  {
   "cell_type": "code",
   "execution_count": 14,
   "id": "ca879031",
   "metadata": {
    "execution": {
     "iopub.execute_input": "2025-07-23T14:23:30.110285Z",
     "iopub.status.busy": "2025-07-23T14:23:30.109780Z",
     "iopub.status.idle": "2025-07-23T14:23:30.117008Z",
     "shell.execute_reply": "2025-07-23T14:23:30.115729Z"
    },
    "papermill": {
     "duration": 0.029385,
     "end_time": "2025-07-23T14:23:30.119435",
     "exception": false,
     "start_time": "2025-07-23T14:23:30.090050",
     "status": "completed"
    },
    "tags": []
   },
   "outputs": [],
   "source": [
    "# EXCLUDE PROTECTED FEATURES\n",
    "# ----------------------\n",
    "# \"exclude_features\": \"none\", # \"nationality\", \"sex\", \"nationality-sex\"\n",
    "\n",
    "excluded_features = universe[\"exclude_features\"].split(\"-\") # split, e.g.: \"nationality-sex\" -> [\"nationality\", \"sex\"]\n",
    "excluded_features_dictionary = {\n",
    "    \"nationality\": [\"maxdeutsch1\", \"maxdeutsch.Missing.\"],\n",
    "    \"sex\": [\"frau1\"],\n",
    "    \"age\": [\"age\"],\n",
    "}\n"
   ]
  },
  {
   "cell_type": "code",
   "execution_count": 15,
   "id": "b745ac60",
   "metadata": {
    "execution": {
     "iopub.execute_input": "2025-07-23T14:23:30.172013Z",
     "iopub.status.busy": "2025-07-23T14:23:30.170789Z",
     "iopub.status.idle": "2025-07-23T14:23:30.232244Z",
     "shell.execute_reply": "2025-07-23T14:23:30.230959Z"
    },
    "papermill": {
     "duration": 0.089409,
     "end_time": "2025-07-23T14:23:30.234076",
     "exception": false,
     "start_time": "2025-07-23T14:23:30.144667",
     "status": "completed"
    },
    "tags": []
   },
   "outputs": [],
   "source": [
    "# Code nice names to column names\n",
    "\n",
    "excluded_features_columns = [\n",
    "    excluded_features_dictionary[f] for f in excluded_features if len(f) > 0 and f != \"none\"\n",
    "]"
   ]
  },
  {
   "cell_type": "code",
   "execution_count": 16,
   "id": "f84f73a2",
   "metadata": {
    "execution": {
     "iopub.execute_input": "2025-07-23T14:23:30.271039Z",
     "iopub.status.busy": "2025-07-23T14:23:30.270655Z",
     "iopub.status.idle": "2025-07-23T14:23:30.276890Z",
     "shell.execute_reply": "2025-07-23T14:23:30.275568Z"
    },
    "papermill": {
     "duration": 0.026102,
     "end_time": "2025-07-23T14:23:30.278866",
     "exception": false,
     "start_time": "2025-07-23T14:23:30.252764",
     "status": "completed"
    },
    "tags": []
   },
   "outputs": [],
   "source": [
    "from utils import flatten_once\n",
    "\n",
    "excluded_features_columns = flatten_once(excluded_features_columns)"
   ]
  },
  {
   "cell_type": "code",
   "execution_count": 17,
   "id": "884dea22",
   "metadata": {
    "execution": {
     "iopub.execute_input": "2025-07-23T14:23:30.321594Z",
     "iopub.status.busy": "2025-07-23T14:23:30.321031Z",
     "iopub.status.idle": "2025-07-23T14:23:30.372098Z",
     "shell.execute_reply": "2025-07-23T14:23:30.370903Z"
    },
    "papermill": {
     "duration": 0.074775,
     "end_time": "2025-07-23T14:23:30.374213",
     "exception": false,
     "start_time": "2025-07-23T14:23:30.299438",
     "status": "completed"
    },
    "tags": []
   },
   "outputs": [
    {
     "name": "stdout",
     "output_type": "stream",
     "text": [
      "Dropping features: ['age']\n"
     ]
    }
   ],
   "source": [
    "if len(excluded_features_columns) > 0:\n",
    "    print(f\"Dropping features: {excluded_features_columns}\")\n",
    "    X_train.drop(excluded_features_columns, axis=1, inplace=True)"
   ]
  },
  {
   "cell_type": "code",
   "execution_count": 18,
   "id": "95ab8b16",
   "metadata": {
    "execution": {
     "iopub.execute_input": "2025-07-23T14:23:30.420218Z",
     "iopub.status.busy": "2025-07-23T14:23:30.419034Z",
     "iopub.status.idle": "2025-07-23T14:23:30.480494Z",
     "shell.execute_reply": "2025-07-23T14:23:30.479345Z"
    },
    "papermill": {
     "duration": 0.087194,
     "end_time": "2025-07-23T14:23:30.482716",
     "exception": false,
     "start_time": "2025-07-23T14:23:30.395522",
     "status": "completed"
    },
    "tags": []
   },
   "outputs": [
    {
     "name": "stdout",
     "output_type": "stream",
     "text": [
      "Dropping features: ['age']\n"
     ]
    }
   ],
   "source": [
    "if len(excluded_features_columns) > 0:\n",
    "    print(f\"Dropping features: {excluded_features_columns}\")\n",
    "    X_test.drop(excluded_features_columns, axis=1, inplace=True)"
   ]
  },
  {
   "cell_type": "code",
   "execution_count": 19,
   "id": "1853aaf5-fb9f-46cb-a2b5-8ea4ae2237e4",
   "metadata": {
    "execution": {
     "iopub.execute_input": "2025-07-23T14:23:30.537759Z",
     "iopub.status.busy": "2025-07-23T14:23:30.537166Z",
     "iopub.status.idle": "2025-07-23T14:23:30.597082Z",
     "shell.execute_reply": "2025-07-23T14:23:30.595867Z"
    },
    "papermill": {
     "duration": 0.089658,
     "end_time": "2025-07-23T14:23:30.599145",
     "exception": false,
     "start_time": "2025-07-23T14:23:30.509487",
     "status": "completed"
    },
    "tags": []
   },
   "outputs": [
    {
     "name": "stdout",
     "output_type": "stream",
     "text": [
      "Dropping features: ['age']\n"
     ]
    }
   ],
   "source": [
    "if len(excluded_features_columns) > 0:\n",
    "    print(f\"Dropping features: {excluded_features_columns}\")\n",
    "    X_calib.drop(excluded_features_columns, axis=1, inplace=True)"
   ]
  },
  {
   "cell_type": "code",
   "execution_count": 20,
   "id": "76c4dc6d",
   "metadata": {
    "execution": {
     "iopub.execute_input": "2025-07-23T14:23:30.644386Z",
     "iopub.status.busy": "2025-07-23T14:23:30.643332Z",
     "iopub.status.idle": "2025-07-23T14:23:30.649724Z",
     "shell.execute_reply": "2025-07-23T14:23:30.648605Z"
    },
    "papermill": {
     "duration": 0.030518,
     "end_time": "2025-07-23T14:23:30.651789",
     "exception": false,
     "start_time": "2025-07-23T14:23:30.621271",
     "status": "completed"
    },
    "tags": []
   },
   "outputs": [],
   "source": [
    "# EXCLUDE CERTAIN SUBGROUPS\n",
    "# ----------------------\n",
    "\n",
    "mode = universe.get(\"exclude_subgroups\", \"keep-all\") \n",
    "# Fetches the exclude_subgroups setting from the universe dict.\n",
    "# Defaults to \"keep-all\" if the key is missing."
   ]
  },
  {
   "cell_type": "code",
   "execution_count": 21,
   "id": "21994072",
   "metadata": {
    "execution": {
     "iopub.execute_input": "2025-07-23T14:23:30.696859Z",
     "iopub.status.busy": "2025-07-23T14:23:30.696164Z",
     "iopub.status.idle": "2025-07-23T14:23:30.705790Z",
     "shell.execute_reply": "2025-07-23T14:23:30.704502Z"
    },
    "papermill": {
     "duration": 0.034357,
     "end_time": "2025-07-23T14:23:30.707747",
     "exception": false,
     "start_time": "2025-07-23T14:23:30.673390",
     "status": "completed"
    },
    "tags": []
   },
   "outputs": [],
   "source": [
    "if mode == \"keep-all\":\n",
    "    keep_mask = pd.Series(True, index=org_train.index)\n",
    "\n",
    "# org_train contains the original feature columns from features_org (in Simson)\n",
    "# features_org contains unprocessed features, for me X_train at beginning ???\n",
    "# For keep-all, creates a boolean Series (keep_mask) of all True, so no rows are removed.\n",
    "\n",
    "elif mode == \"drop-non-german\":\n",
    "    keep_mask = org_train[\"maxdeutsch1\"] == 1 # ??? what about missing values?\n",
    "\n",
    "else:\n",
    "    raise ValueError(f\"Unsupported mode for exclude_subgroups: {mode}\")\n"
   ]
  },
  {
   "cell_type": "code",
   "execution_count": 22,
   "id": "71651440",
   "metadata": {
    "execution": {
     "iopub.execute_input": "2025-07-23T14:23:30.753185Z",
     "iopub.status.busy": "2025-07-23T14:23:30.752082Z",
     "iopub.status.idle": "2025-07-23T14:23:30.760266Z",
     "shell.execute_reply": "2025-07-23T14:23:30.759085Z"
    },
    "papermill": {
     "duration": 0.032935,
     "end_time": "2025-07-23T14:23:30.762265",
     "exception": false,
     "start_time": "2025-07-23T14:23:30.729330",
     "status": "completed"
    },
    "tags": []
   },
   "outputs": [
    {
     "name": "stdout",
     "output_type": "stream",
     "text": [
      "Dropping 10036 rows (13.38%) where mode='drop-non-german'\n"
     ]
    }
   ],
   "source": [
    "n_drop = (~keep_mask).sum() # Calculates how many rows are set to be dropped\n",
    "if n_drop > 0:\n",
    "    pct = n_drop / len(keep_mask) * 100\n",
    "    print(f\"Dropping {n_drop} rows ({pct:.2f}%) where mode='{mode}'\")"
   ]
  },
  {
   "cell_type": "code",
   "execution_count": 23,
   "id": "5fb8eee5",
   "metadata": {
    "execution": {
     "iopub.execute_input": "2025-07-23T14:23:30.807178Z",
     "iopub.status.busy": "2025-07-23T14:23:30.806632Z",
     "iopub.status.idle": "2025-07-23T14:23:30.859332Z",
     "shell.execute_reply": "2025-07-23T14:23:30.858250Z"
    },
    "papermill": {
     "duration": 0.077679,
     "end_time": "2025-07-23T14:23:30.861588",
     "exception": false,
     "start_time": "2025-07-23T14:23:30.783909",
     "status": "completed"
    },
    "tags": []
   },
   "outputs": [],
   "source": [
    "X_train = X_train[keep_mask]"
   ]
  },
  {
   "cell_type": "code",
   "execution_count": 24,
   "id": "b202bb3a",
   "metadata": {
    "execution": {
     "iopub.execute_input": "2025-07-23T14:23:30.902951Z",
     "iopub.status.busy": "2025-07-23T14:23:30.902505Z",
     "iopub.status.idle": "2025-07-23T14:23:30.911712Z",
     "shell.execute_reply": "2025-07-23T14:23:30.910520Z"
    },
    "papermill": {
     "duration": 0.032337,
     "end_time": "2025-07-23T14:23:30.913778",
     "exception": false,
     "start_time": "2025-07-23T14:23:30.881441",
     "status": "completed"
    },
    "tags": []
   },
   "outputs": [],
   "source": [
    "y_train = y_train[keep_mask]"
   ]
  },
  {
   "cell_type": "markdown",
   "id": "493e2ac3",
   "metadata": {
    "papermill": {
     "duration": 0.019628,
     "end_time": "2025-07-23T14:23:30.954434",
     "exception": false,
     "start_time": "2025-07-23T14:23:30.934806",
     "status": "completed"
    },
    "tags": []
   },
   "source": [
    "# Model Training"
   ]
  },
  {
   "cell_type": "code",
   "execution_count": 25,
   "id": "679e1268",
   "metadata": {
    "execution": {
     "iopub.execute_input": "2025-07-23T14:23:30.999468Z",
     "iopub.status.busy": "2025-07-23T14:23:30.998190Z",
     "iopub.status.idle": "2025-07-23T14:23:31.121152Z",
     "shell.execute_reply": "2025-07-23T14:23:31.119991Z"
    },
    "papermill": {
     "duration": 0.147687,
     "end_time": "2025-07-23T14:23:31.123382",
     "exception": false,
     "start_time": "2025-07-23T14:23:30.975695",
     "status": "completed"
    },
    "tags": []
   },
   "outputs": [],
   "source": [
    "from sklearn.linear_model import LogisticRegression\n",
    "from sklearn.ensemble import GradientBoostingClassifier, RandomForestClassifier\n",
    "\n",
    "if (universe[\"model\"] == \"logreg\"):\n",
    "    model = LogisticRegression() #penalty=\"none\") #, solver=\"newton-cg\", max_iter=1) # include random_state=19 ?\n",
    "elif (universe[\"model\"] == \"penalized_logreg\"):\n",
    "    model = LogisticRegression(penalty=\"l2\", C=1.0) #, solver=\"newton-cg\", max_iter=1)\n",
    "elif (universe[\"model\"] == \"rf\"):\n",
    "    model = RandomForestClassifier(n_estimators=100, n_jobs=-1)\n",
    "elif (universe[\"model\"] == \"gbm\"):\n",
    "    model = GradientBoostingClassifier()\n",
    "elif (universe[\"model\"] == \"elasticnet\"):\n",
    "    model = LogisticRegression(penalty = 'elasticnet', solver = 'saga', l1_ratio = 0.5, max_iter=5000) # which solver to use?\n",
    "else:\n",
    "    raise \"Unsupported universe.model\""
   ]
  },
  {
   "cell_type": "code",
   "execution_count": 26,
   "id": "0cc8f744",
   "metadata": {
    "execution": {
     "iopub.execute_input": "2025-07-23T14:23:31.165553Z",
     "iopub.status.busy": "2025-07-23T14:23:31.165046Z",
     "iopub.status.idle": "2025-07-23T14:23:31.172996Z",
     "shell.execute_reply": "2025-07-23T14:23:31.171583Z"
    },
    "papermill": {
     "duration": 0.031411,
     "end_time": "2025-07-23T14:23:31.175176",
     "exception": false,
     "start_time": "2025-07-23T14:23:31.143765",
     "status": "completed"
    },
    "tags": []
   },
   "outputs": [],
   "source": [
    "import numpy as np\n",
    "from sklearn.pipeline import Pipeline\n",
    "from sklearn.preprocessing import StandardScaler\n",
    "\n",
    "model = Pipeline([\n",
    "    #(\"continuous_processor\", continuous_processor),\n",
    "    #(\"categorical_preprocessor\", categorical_preprocessor),\n",
    "    (\"scale\", StandardScaler() if universe[\"scale\"] == \"scale\" else None), \n",
    "    (\"model\", model),\n",
    "])"
   ]
  },
  {
   "cell_type": "code",
   "execution_count": 27,
   "id": "9442c04d",
   "metadata": {
    "execution": {
     "iopub.execute_input": "2025-07-23T14:23:31.217970Z",
     "iopub.status.busy": "2025-07-23T14:23:31.216990Z",
     "iopub.status.idle": "2025-07-23T14:23:35.791103Z",
     "shell.execute_reply": "2025-07-23T14:23:35.789515Z"
    },
    "papermill": {
     "duration": 4.597741,
     "end_time": "2025-07-23T14:23:35.793536",
     "exception": false,
     "start_time": "2025-07-23T14:23:31.195795",
     "status": "completed"
    },
    "tags": []
   },
   "outputs": [
    {
     "name": "stderr",
     "output_type": "stream",
     "text": [
      "/dss/dsshome1/0C/ra93lal2/.local/share/virtualenvs/CMA_Fairness_v2-3j10GkSs/lib/python3.10/site-packages/sklearn/linear_model/_logistic.py:444: ConvergenceWarning: lbfgs failed to converge (status=1):\n",
      "STOP: TOTAL NO. of ITERATIONS REACHED LIMIT.\n",
      "\n",
      "Increase the number of iterations (max_iter) or scale the data as shown in:\n",
      "    https://scikit-learn.org/stable/modules/preprocessing.html\n",
      "Please also refer to the documentation for alternative solver options:\n",
      "    https://scikit-learn.org/stable/modules/linear_model.html#logistic-regression\n",
      "  n_iter_i = _check_optimize_result(\n"
     ]
    },
    {
     "data": {
      "text/html": [
       "<style>#sk-container-id-1 {color: black;background-color: white;}#sk-container-id-1 pre{padding: 0;}#sk-container-id-1 div.sk-toggleable {background-color: white;}#sk-container-id-1 label.sk-toggleable__label {cursor: pointer;display: block;width: 100%;margin-bottom: 0;padding: 0.3em;box-sizing: border-box;text-align: center;}#sk-container-id-1 label.sk-toggleable__label-arrow:before {content: \"▸\";float: left;margin-right: 0.25em;color: #696969;}#sk-container-id-1 label.sk-toggleable__label-arrow:hover:before {color: black;}#sk-container-id-1 div.sk-estimator:hover label.sk-toggleable__label-arrow:before {color: black;}#sk-container-id-1 div.sk-toggleable__content {max-height: 0;max-width: 0;overflow: hidden;text-align: left;background-color: #f0f8ff;}#sk-container-id-1 div.sk-toggleable__content pre {margin: 0.2em;color: black;border-radius: 0.25em;background-color: #f0f8ff;}#sk-container-id-1 input.sk-toggleable__control:checked~div.sk-toggleable__content {max-height: 200px;max-width: 100%;overflow: auto;}#sk-container-id-1 input.sk-toggleable__control:checked~label.sk-toggleable__label-arrow:before {content: \"▾\";}#sk-container-id-1 div.sk-estimator input.sk-toggleable__control:checked~label.sk-toggleable__label {background-color: #d4ebff;}#sk-container-id-1 div.sk-label input.sk-toggleable__control:checked~label.sk-toggleable__label {background-color: #d4ebff;}#sk-container-id-1 input.sk-hidden--visually {border: 0;clip: rect(1px 1px 1px 1px);clip: rect(1px, 1px, 1px, 1px);height: 1px;margin: -1px;overflow: hidden;padding: 0;position: absolute;width: 1px;}#sk-container-id-1 div.sk-estimator {font-family: monospace;background-color: #f0f8ff;border: 1px dotted black;border-radius: 0.25em;box-sizing: border-box;margin-bottom: 0.5em;}#sk-container-id-1 div.sk-estimator:hover {background-color: #d4ebff;}#sk-container-id-1 div.sk-parallel-item::after {content: \"\";width: 100%;border-bottom: 1px solid gray;flex-grow: 1;}#sk-container-id-1 div.sk-label:hover label.sk-toggleable__label {background-color: #d4ebff;}#sk-container-id-1 div.sk-serial::before {content: \"\";position: absolute;border-left: 1px solid gray;box-sizing: border-box;top: 0;bottom: 0;left: 50%;z-index: 0;}#sk-container-id-1 div.sk-serial {display: flex;flex-direction: column;align-items: center;background-color: white;padding-right: 0.2em;padding-left: 0.2em;position: relative;}#sk-container-id-1 div.sk-item {position: relative;z-index: 1;}#sk-container-id-1 div.sk-parallel {display: flex;align-items: stretch;justify-content: center;background-color: white;position: relative;}#sk-container-id-1 div.sk-item::before, #sk-container-id-1 div.sk-parallel-item::before {content: \"\";position: absolute;border-left: 1px solid gray;box-sizing: border-box;top: 0;bottom: 0;left: 50%;z-index: -1;}#sk-container-id-1 div.sk-parallel-item {display: flex;flex-direction: column;z-index: 1;position: relative;background-color: white;}#sk-container-id-1 div.sk-parallel-item:first-child::after {align-self: flex-end;width: 50%;}#sk-container-id-1 div.sk-parallel-item:last-child::after {align-self: flex-start;width: 50%;}#sk-container-id-1 div.sk-parallel-item:only-child::after {width: 0;}#sk-container-id-1 div.sk-dashed-wrapped {border: 1px dashed gray;margin: 0 0.4em 0.5em 0.4em;box-sizing: border-box;padding-bottom: 0.4em;background-color: white;}#sk-container-id-1 div.sk-label label {font-family: monospace;font-weight: bold;display: inline-block;line-height: 1.2em;}#sk-container-id-1 div.sk-label-container {text-align: center;}#sk-container-id-1 div.sk-container {/* jupyter's `normalize.less` sets `[hidden] { display: none; }` but bootstrap.min.css set `[hidden] { display: none !important; }` so we also need the `!important` here to be able to override the default hidden behavior on the sphinx rendered scikit-learn.org. See: https://github.com/scikit-learn/scikit-learn/issues/21755 */display: inline-block !important;position: relative;}#sk-container-id-1 div.sk-text-repr-fallback {display: none;}</style><div id=\"sk-container-id-1\" class=\"sk-top-container\"><div class=\"sk-text-repr-fallback\"><pre>Pipeline(steps=[(&#x27;scale&#x27;, StandardScaler()), (&#x27;model&#x27;, LogisticRegression())])</pre><b>In a Jupyter environment, please rerun this cell to show the HTML representation or trust the notebook. <br />On GitHub, the HTML representation is unable to render, please try loading this page with nbviewer.org.</b></div><div class=\"sk-container\" hidden><div class=\"sk-item sk-dashed-wrapped\"><div class=\"sk-label-container\"><div class=\"sk-label sk-toggleable\"><input class=\"sk-toggleable__control sk-hidden--visually\" id=\"sk-estimator-id-1\" type=\"checkbox\" ><label for=\"sk-estimator-id-1\" class=\"sk-toggleable__label sk-toggleable__label-arrow\">Pipeline</label><div class=\"sk-toggleable__content\"><pre>Pipeline(steps=[(&#x27;scale&#x27;, StandardScaler()), (&#x27;model&#x27;, LogisticRegression())])</pre></div></div></div><div class=\"sk-serial\"><div class=\"sk-item\"><div class=\"sk-estimator sk-toggleable\"><input class=\"sk-toggleable__control sk-hidden--visually\" id=\"sk-estimator-id-2\" type=\"checkbox\" ><label for=\"sk-estimator-id-2\" class=\"sk-toggleable__label sk-toggleable__label-arrow\">StandardScaler</label><div class=\"sk-toggleable__content\"><pre>StandardScaler()</pre></div></div></div><div class=\"sk-item\"><div class=\"sk-estimator sk-toggleable\"><input class=\"sk-toggleable__control sk-hidden--visually\" id=\"sk-estimator-id-3\" type=\"checkbox\" ><label for=\"sk-estimator-id-3\" class=\"sk-toggleable__label sk-toggleable__label-arrow\">LogisticRegression</label><div class=\"sk-toggleable__content\"><pre>LogisticRegression()</pre></div></div></div></div></div></div></div>"
      ],
      "text/plain": [
       "Pipeline(steps=[('scale', StandardScaler()), ('model', LogisticRegression())])"
      ]
     },
     "execution_count": 27,
     "metadata": {},
     "output_type": "execute_result"
    }
   ],
   "source": [
    "model.fit(X_train, y_train.values.ravel())"
   ]
  },
  {
   "cell_type": "code",
   "execution_count": 28,
   "id": "af59f8c0",
   "metadata": {
    "execution": {
     "iopub.execute_input": "2025-07-23T14:23:35.881629Z",
     "iopub.status.busy": "2025-07-23T14:23:35.879574Z",
     "iopub.status.idle": "2025-07-23T14:23:35.888293Z",
     "shell.execute_reply": "2025-07-23T14:23:35.887079Z"
    },
    "papermill": {
     "duration": 0.061317,
     "end_time": "2025-07-23T14:23:35.890447",
     "exception": false,
     "start_time": "2025-07-23T14:23:35.829130",
     "status": "completed"
    },
    "tags": []
   },
   "outputs": [],
   "source": [
    "from fairness_multiverse.universe import predict_w_threshold"
   ]
  },
  {
   "cell_type": "code",
   "execution_count": 29,
   "id": "a7cf2e16",
   "metadata": {
    "execution": {
     "iopub.execute_input": "2025-07-23T14:23:35.983916Z",
     "iopub.status.busy": "2025-07-23T14:23:35.983427Z",
     "iopub.status.idle": "2025-07-23T14:23:36.389118Z",
     "shell.execute_reply": "2025-07-23T14:23:36.388061Z"
    },
    "papermill": {
     "duration": 0.454261,
     "end_time": "2025-07-23T14:23:36.391494",
     "exception": false,
     "start_time": "2025-07-23T14:23:35.937233",
     "status": "completed"
    },
    "tags": []
   },
   "outputs": [
    {
     "data": {
      "text/plain": [
       "0.8601270761342102"
      ]
     },
     "execution_count": 29,
     "metadata": {},
     "output_type": "execute_result"
    }
   ],
   "source": [
    "probs_test = model.predict_proba(X_test)\n",
    "\n",
    "'''\n",
    "Below code returns a boolean array (or binary 0/1 array depending on how it’s used) where each element \n",
    "is True if the probability of class 1 is greater than or equal to the threshold, and False otherwise.\n",
    "'''\n",
    "y_pred_default = predict_w_threshold(probs_test, 0.5)\n",
    "\n",
    "from sklearn.metrics import accuracy_score\n",
    "\n",
    "# Naive prediction\n",
    "accuracy_score(y_true = y_true, y_pred = y_pred_default)"
   ]
  },
  {
   "cell_type": "code",
   "execution_count": 30,
   "id": "081964c3",
   "metadata": {
    "execution": {
     "iopub.execute_input": "2025-07-23T14:23:36.498605Z",
     "iopub.status.busy": "2025-07-23T14:23:36.498194Z",
     "iopub.status.idle": "2025-07-23T14:23:36.870444Z",
     "shell.execute_reply": "2025-07-23T14:23:36.869367Z"
    },
    "papermill": {
     "duration": 0.44403,
     "end_time": "2025-07-23T14:23:36.872349",
     "exception": false,
     "start_time": "2025-07-23T14:23:36.428319",
     "status": "completed"
    },
    "tags": []
   },
   "outputs": [
    {
     "data": {
      "text/plain": [
       "array([0, 0, 0, ..., 0, 0, 0])"
      ]
     },
     "execution_count": 30,
     "metadata": {},
     "output_type": "execute_result"
    }
   ],
   "source": [
    "model.predict(X_test)"
   ]
  },
  {
   "cell_type": "markdown",
   "id": "56c9705b",
   "metadata": {
    "papermill": {
     "duration": 0.052141,
     "end_time": "2025-07-23T14:23:36.973373",
     "exception": false,
     "start_time": "2025-07-23T14:23:36.921232",
     "status": "completed"
    },
    "tags": []
   },
   "source": [
    "# Conformal Prediction"
   ]
  },
  {
   "cell_type": "code",
   "execution_count": 31,
   "id": "160ec6ff",
   "metadata": {
    "execution": {
     "iopub.execute_input": "2025-07-23T14:23:37.063971Z",
     "iopub.status.busy": "2025-07-23T14:23:37.062891Z",
     "iopub.status.idle": "2025-07-23T14:23:37.069393Z",
     "shell.execute_reply": "2025-07-23T14:23:37.068262Z"
    },
    "papermill": {
     "duration": 0.058659,
     "end_time": "2025-07-23T14:23:37.071342",
     "exception": false,
     "start_time": "2025-07-23T14:23:37.012683",
     "status": "completed"
    },
    "tags": []
   },
   "outputs": [],
   "source": [
    "# Miscoverage level for conformal prediction (10% allowed error rate => 90% target coverage)\n",
    "alpha = 0.1"
   ]
  },
  {
   "cell_type": "code",
   "execution_count": 32,
   "id": "eadf4555-3dd3-440e-8e35-f82a4ad9f855",
   "metadata": {
    "execution": {
     "iopub.execute_input": "2025-07-23T14:23:37.161482Z",
     "iopub.status.busy": "2025-07-23T14:23:37.161005Z",
     "iopub.status.idle": "2025-07-23T14:23:37.409612Z",
     "shell.execute_reply": "2025-07-23T14:23:37.408463Z"
    },
    "papermill": {
     "duration": 0.290794,
     "end_time": "2025-07-23T14:23:37.411950",
     "exception": false,
     "start_time": "2025-07-23T14:23:37.121156",
     "status": "completed"
    },
    "tags": []
   },
   "outputs": [],
   "source": [
    "probs_calib = model.predict_proba(X_calib)"
   ]
  },
  {
   "cell_type": "code",
   "execution_count": 33,
   "id": "2ed93547-6d5d-4983-9b36-1ecb300da49a",
   "metadata": {
    "execution": {
     "iopub.execute_input": "2025-07-23T14:23:37.531362Z",
     "iopub.status.busy": "2025-07-23T14:23:37.530901Z",
     "iopub.status.idle": "2025-07-23T14:23:37.539040Z",
     "shell.execute_reply": "2025-07-23T14:23:37.537951Z"
    },
    "papermill": {
     "duration": 0.086374,
     "end_time": "2025-07-23T14:23:37.541108",
     "exception": false,
     "start_time": "2025-07-23T14:23:37.454734",
     "status": "completed"
    },
    "tags": []
   },
   "outputs": [],
   "source": [
    "y_calib = y_calib.values.ravel().astype(int)"
   ]
  },
  {
   "cell_type": "code",
   "execution_count": 34,
   "id": "65d1320d-f588-4b38-9072-62af1ae97f7d",
   "metadata": {
    "execution": {
     "iopub.execute_input": "2025-07-23T14:23:37.651574Z",
     "iopub.status.busy": "2025-07-23T14:23:37.651124Z",
     "iopub.status.idle": "2025-07-23T14:23:37.660892Z",
     "shell.execute_reply": "2025-07-23T14:23:37.659767Z"
    },
    "papermill": {
     "duration": 0.05484,
     "end_time": "2025-07-23T14:23:37.663537",
     "exception": false,
     "start_time": "2025-07-23T14:23:37.608697",
     "status": "completed"
    },
    "tags": []
   },
   "outputs": [],
   "source": [
    "from fairness_multiverse.conformal import compute_nc_scores\n",
    "\n",
    "# Compute nonconformity scores on calibration set (1 - probability of true class)\n",
    "nc_scores = compute_nc_scores(probs_calib, y_calib)"
   ]
  },
  {
   "cell_type": "code",
   "execution_count": 35,
   "id": "df3b8ca3-53b7-43d5-9667-7c85da7aeda2",
   "metadata": {
    "execution": {
     "iopub.execute_input": "2025-07-23T14:23:37.781316Z",
     "iopub.status.busy": "2025-07-23T14:23:37.780871Z",
     "iopub.status.idle": "2025-07-23T14:23:37.789646Z",
     "shell.execute_reply": "2025-07-23T14:23:37.788520Z"
    },
    "papermill": {
     "duration": 0.062639,
     "end_time": "2025-07-23T14:23:37.791628",
     "exception": false,
     "start_time": "2025-07-23T14:23:37.728989",
     "status": "completed"
    },
    "tags": []
   },
   "outputs": [],
   "source": [
    "from fairness_multiverse.conformal import find_threshold\n",
    "\n",
    "# Find conformal threshold q_hat for the given alpha (split conformal method)\n",
    "q_hat = find_threshold(nc_scores, alpha)"
   ]
  },
  {
   "cell_type": "code",
   "execution_count": 36,
   "id": "4d29e6c1-0ef6-4aa4-b8fe-4fe79b0d033a",
   "metadata": {
    "execution": {
     "iopub.execute_input": "2025-07-23T14:23:37.841259Z",
     "iopub.status.busy": "2025-07-23T14:23:37.840786Z",
     "iopub.status.idle": "2025-07-23T14:23:37.850209Z",
     "shell.execute_reply": "2025-07-23T14:23:37.849014Z"
    },
    "papermill": {
     "duration": 0.039396,
     "end_time": "2025-07-23T14:23:37.855221",
     "exception": false,
     "start_time": "2025-07-23T14:23:37.815825",
     "status": "completed"
    },
    "tags": []
   },
   "outputs": [
    {
     "data": {
      "text/plain": [
       "0.6645135569008677"
      ]
     },
     "execution_count": 36,
     "metadata": {},
     "output_type": "execute_result"
    }
   ],
   "source": [
    "q_hat"
   ]
  },
  {
   "cell_type": "code",
   "execution_count": 37,
   "id": "92460794-cdac-4be2-ba28-f28c0515a6fb",
   "metadata": {
    "execution": {
     "iopub.execute_input": "2025-07-23T14:23:37.912686Z",
     "iopub.status.busy": "2025-07-23T14:23:37.912188Z",
     "iopub.status.idle": "2025-07-23T14:23:39.730387Z",
     "shell.execute_reply": "2025-07-23T14:23:39.729243Z"
    },
    "papermill": {
     "duration": 1.853584,
     "end_time": "2025-07-23T14:23:39.732764",
     "exception": false,
     "start_time": "2025-07-23T14:23:37.879180",
     "status": "completed"
    },
    "tags": []
   },
   "outputs": [],
   "source": [
    "from fairness_multiverse.conformal import predict_conformal_sets\n",
    "\n",
    "# Generate prediction sets for each test example\n",
    "pred_sets = predict_conformal_sets(model, X_test, q_hat)"
   ]
  },
  {
   "cell_type": "code",
   "execution_count": 38,
   "id": "d90c9a65-e6db-4f5d-80cd-e68fb7e46829",
   "metadata": {
    "execution": {
     "iopub.execute_input": "2025-07-23T14:23:39.809878Z",
     "iopub.status.busy": "2025-07-23T14:23:39.809307Z",
     "iopub.status.idle": "2025-07-23T14:23:39.815590Z",
     "shell.execute_reply": "2025-07-23T14:23:39.814622Z"
    },
    "papermill": {
     "duration": 0.06107,
     "end_time": "2025-07-23T14:23:39.817234",
     "exception": false,
     "start_time": "2025-07-23T14:23:39.756164",
     "status": "completed"
    },
    "tags": []
   },
   "outputs": [],
   "source": [
    "y_true = y_true.squeeze()"
   ]
  },
  {
   "cell_type": "code",
   "execution_count": 39,
   "id": "3a58a54a-1e68-46b9-927a-df01f18aebc8",
   "metadata": {
    "execution": {
     "iopub.execute_input": "2025-07-23T14:23:39.938091Z",
     "iopub.status.busy": "2025-07-23T14:23:39.937591Z",
     "iopub.status.idle": "2025-07-23T14:23:41.625778Z",
     "shell.execute_reply": "2025-07-23T14:23:41.624628Z"
    },
    "papermill": {
     "duration": 1.764401,
     "end_time": "2025-07-23T14:23:41.627764",
     "exception": false,
     "start_time": "2025-07-23T14:23:39.863363",
     "status": "completed"
    },
    "tags": []
   },
   "outputs": [],
   "source": [
    "from fairness_multiverse.conformal import evaluate_sets\n",
    "\n",
    "# Evaluate coverage and average set size on test data\n",
    "metrics = evaluate_sets(pred_sets, y_true)"
   ]
  },
  {
   "cell_type": "code",
   "execution_count": 40,
   "id": "5ce0a5cb-201f-45a0-ade5-94c7f0bd6095",
   "metadata": {
    "execution": {
     "iopub.execute_input": "2025-07-23T14:23:41.713673Z",
     "iopub.status.busy": "2025-07-23T14:23:41.712516Z",
     "iopub.status.idle": "2025-07-23T14:23:41.721423Z",
     "shell.execute_reply": "2025-07-23T14:23:41.720266Z"
    },
    "papermill": {
     "duration": 0.05886,
     "end_time": "2025-07-23T14:23:41.730448",
     "exception": false,
     "start_time": "2025-07-23T14:23:41.671588",
     "status": "completed"
    },
    "tags": []
   },
   "outputs": [
    {
     "data": {
      "text/plain": [
       "{'coverage': 0.9111804704046371, 'avg_size': 1.1260506075130978}"
      ]
     },
     "execution_count": 40,
     "metadata": {},
     "output_type": "execute_result"
    }
   ],
   "source": [
    "metrics"
   ]
  },
  {
   "cell_type": "code",
   "execution_count": 41,
   "id": "9b9a838d-31c9-430b-ae14-12baee460d17",
   "metadata": {
    "execution": {
     "iopub.execute_input": "2025-07-23T14:23:41.855441Z",
     "iopub.status.busy": "2025-07-23T14:23:41.854974Z",
     "iopub.status.idle": "2025-07-23T14:23:41.862285Z",
     "shell.execute_reply": "2025-07-23T14:23:41.861147Z"
    },
    "papermill": {
     "duration": 0.066486,
     "end_time": "2025-07-23T14:23:41.864479",
     "exception": false,
     "start_time": "2025-07-23T14:23:41.797993",
     "status": "completed"
    },
    "tags": []
   },
   "outputs": [],
   "source": [
    "example_universe = universe.copy()\n",
    "universe_model = example_universe.get(\"model\")\n",
    "universe_exclude_features = example_universe.get(\"exclude_features\")\n",
    "universe_exclude_subgroups = example_universe.get(\"exclude_subgroups\")\n",
    "universe_scale = example_universe.get(\"scale\")"
   ]
  },
  {
   "cell_type": "code",
   "execution_count": 42,
   "id": "f4b6a8ac-9dc0-4245-8a91-5b3b5999c4f9",
   "metadata": {
    "execution": {
     "iopub.execute_input": "2025-07-23T14:23:41.971452Z",
     "iopub.status.busy": "2025-07-23T14:23:41.970889Z",
     "iopub.status.idle": "2025-07-23T14:23:41.978646Z",
     "shell.execute_reply": "2025-07-23T14:23:41.977552Z"
    },
    "papermill": {
     "duration": 0.108235,
     "end_time": "2025-07-23T14:23:42.025396",
     "exception": false,
     "start_time": "2025-07-23T14:23:41.917161",
     "status": "completed"
    },
    "tags": []
   },
   "outputs": [],
   "source": [
    "cp_metrics_dict = {\n",
    "    \"universe_id\": [universe_id],\n",
    "    \"universe_model\": [universe_model],\n",
    "    \"universe_exclude_features\": [universe_exclude_features],\n",
    "    \"universe_exclude_subgroups\": [universe_exclude_subgroups],\n",
    "    \"universe_scale\": [universe_scale],\n",
    "    \"q_hat\": [q_hat],\n",
    "    \"coverage\": [metrics[\"coverage\"]],\n",
    "    \"avg_size\": [metrics[\"avg_size\"]],\n",
    "}"
   ]
  },
  {
   "cell_type": "code",
   "execution_count": 43,
   "id": "908acbb1-0371-4915-85ca-3fa520d2efe2",
   "metadata": {
    "execution": {
     "iopub.execute_input": "2025-07-23T14:23:42.146886Z",
     "iopub.status.busy": "2025-07-23T14:23:42.146421Z",
     "iopub.status.idle": "2025-07-23T14:23:42.155413Z",
     "shell.execute_reply": "2025-07-23T14:23:42.154300Z"
    },
    "papermill": {
     "duration": 0.063804,
     "end_time": "2025-07-23T14:23:42.157063",
     "exception": false,
     "start_time": "2025-07-23T14:23:42.093259",
     "status": "completed"
    },
    "tags": []
   },
   "outputs": [
    {
     "data": {
      "text/plain": [
       "{'universe_id': ['a16e7ec36df330ba762cf3b15d2e153b'],\n",
       " 'universe_model': ['penalized_logreg'],\n",
       " 'universe_exclude_features': ['age'],\n",
       " 'universe_exclude_subgroups': ['drop-non-german'],\n",
       " 'universe_scale': ['scale'],\n",
       " 'q_hat': [0.6645135569008677],\n",
       " 'coverage': [0.9111804704046371],\n",
       " 'avg_size': [1.1260506075130978]}"
      ]
     },
     "execution_count": 43,
     "metadata": {},
     "output_type": "execute_result"
    }
   ],
   "source": [
    "cp_metrics_dict"
   ]
  },
  {
   "cell_type": "code",
   "execution_count": 44,
   "id": "33007efc-14e9-4ec6-97ac-56a455c82265",
   "metadata": {
    "execution": {
     "iopub.execute_input": "2025-07-23T14:23:42.279311Z",
     "iopub.status.busy": "2025-07-23T14:23:42.278843Z",
     "iopub.status.idle": "2025-07-23T14:23:42.286186Z",
     "shell.execute_reply": "2025-07-23T14:23:42.284938Z"
    },
    "papermill": {
     "duration": 0.0631,
     "end_time": "2025-07-23T14:23:42.287841",
     "exception": false,
     "start_time": "2025-07-23T14:23:42.224741",
     "status": "completed"
    },
    "tags": []
   },
   "outputs": [],
   "source": [
    "cp_metrics_df = pd.DataFrame(cp_metrics_dict)"
   ]
  },
  {
   "cell_type": "code",
   "execution_count": 45,
   "id": "db12611b-57b2-4910-b9d0-355adfd6e7bf",
   "metadata": {
    "execution": {
     "iopub.execute_input": "2025-07-23T14:23:42.383293Z",
     "iopub.status.busy": "2025-07-23T14:23:42.382814Z",
     "iopub.status.idle": "2025-07-23T14:23:42.421851Z",
     "shell.execute_reply": "2025-07-23T14:23:42.420625Z"
    },
    "papermill": {
     "duration": 0.087484,
     "end_time": "2025-07-23T14:23:42.423710",
     "exception": false,
     "start_time": "2025-07-23T14:23:42.336226",
     "status": "completed"
    },
    "tags": []
   },
   "outputs": [
    {
     "data": {
      "text/html": [
       "<div>\n",
       "<style scoped>\n",
       "    .dataframe tbody tr th:only-of-type {\n",
       "        vertical-align: middle;\n",
       "    }\n",
       "\n",
       "    .dataframe tbody tr th {\n",
       "        vertical-align: top;\n",
       "    }\n",
       "\n",
       "    .dataframe thead th {\n",
       "        text-align: right;\n",
       "    }\n",
       "</style>\n",
       "<table border=\"1\" class=\"dataframe\">\n",
       "  <thead>\n",
       "    <tr style=\"text-align: right;\">\n",
       "      <th></th>\n",
       "      <th>universe_id</th>\n",
       "      <th>universe_model</th>\n",
       "      <th>universe_exclude_features</th>\n",
       "      <th>universe_exclude_subgroups</th>\n",
       "      <th>universe_scale</th>\n",
       "      <th>q_hat</th>\n",
       "      <th>coverage</th>\n",
       "      <th>avg_size</th>\n",
       "    </tr>\n",
       "  </thead>\n",
       "  <tbody>\n",
       "    <tr>\n",
       "      <th>0</th>\n",
       "      <td>a16e7ec36df330ba762cf3b15d2e153b</td>\n",
       "      <td>penalized_logreg</td>\n",
       "      <td>age</td>\n",
       "      <td>drop-non-german</td>\n",
       "      <td>scale</td>\n",
       "      <td>0.664514</td>\n",
       "      <td>0.91118</td>\n",
       "      <td>1.126051</td>\n",
       "    </tr>\n",
       "  </tbody>\n",
       "</table>\n",
       "</div>"
      ],
      "text/plain": [
       "                        universe_id    universe_model  \\\n",
       "0  a16e7ec36df330ba762cf3b15d2e153b  penalized_logreg   \n",
       "\n",
       "  universe_exclude_features universe_exclude_subgroups universe_scale  \\\n",
       "0                       age            drop-non-german          scale   \n",
       "\n",
       "      q_hat  coverage  avg_size  \n",
       "0  0.664514   0.91118  1.126051  "
      ]
     },
     "execution_count": 45,
     "metadata": {},
     "output_type": "execute_result"
    }
   ],
   "source": [
    "cp_metrics_df"
   ]
  },
  {
   "cell_type": "code",
   "execution_count": 46,
   "id": "b7fbde55-a0a1-47e4-9af6-fe4a17fa8c61",
   "metadata": {
    "execution": {
     "iopub.execute_input": "2025-07-23T14:23:42.519595Z",
     "iopub.status.busy": "2025-07-23T14:23:42.518514Z",
     "iopub.status.idle": "2025-07-23T14:23:42.524892Z",
     "shell.execute_reply": "2025-07-23T14:23:42.523814Z"
    },
    "papermill": {
     "duration": 0.065234,
     "end_time": "2025-07-23T14:23:42.526891",
     "exception": false,
     "start_time": "2025-07-23T14:23:42.461657",
     "status": "completed"
    },
    "tags": []
   },
   "outputs": [],
   "source": [
    "# Conditional Coverage & looking at subgroups"
   ]
  },
  {
   "cell_type": "code",
   "execution_count": 47,
   "id": "027ae886-68dd-4141-96c7-805a5450e1ef",
   "metadata": {
    "execution": {
     "iopub.execute_input": "2025-07-23T14:23:42.631242Z",
     "iopub.status.busy": "2025-07-23T14:23:42.630754Z",
     "iopub.status.idle": "2025-07-23T14:23:43.261443Z",
     "shell.execute_reply": "2025-07-23T14:23:43.260120Z"
    },
    "papermill": {
     "duration": 0.681583,
     "end_time": "2025-07-23T14:23:43.263402",
     "exception": false,
     "start_time": "2025-07-23T14:23:42.581819",
     "status": "completed"
    },
    "tags": []
   },
   "outputs": [],
   "source": [
    "from fairness_multiverse.conformal import build_cp_groups\n",
    "\n",
    "cp_groups_df = build_cp_groups(pred_sets, y_true, X_test.index, org_test)\n",
    "#needs universe_id and setting"
   ]
  },
  {
   "cell_type": "code",
   "execution_count": 48,
   "id": "c3b92545-903e-4839-89af-0f057907d7d6",
   "metadata": {
    "execution": {
     "iopub.execute_input": "2025-07-23T14:23:43.375682Z",
     "iopub.status.busy": "2025-07-23T14:23:43.374502Z",
     "iopub.status.idle": "2025-07-23T14:23:45.563907Z",
     "shell.execute_reply": "2025-07-23T14:23:45.563087Z"
    },
    "papermill": {
     "duration": 2.256548,
     "end_time": "2025-07-23T14:23:45.565542",
     "exception": false,
     "start_time": "2025-07-23T14:23:43.308994",
     "status": "completed"
    },
    "tags": []
   },
   "outputs": [],
   "source": [
    "# Define covered = 1 if true_label is in the predicted set\n",
    "cp_groups_df['covered'] = cp_groups_df.apply(\n",
    "    lambda r: int(r['true_label'] in r['pred_set']),\n",
    "    axis=1\n",
    ")"
   ]
  },
  {
   "cell_type": "code",
   "execution_count": 49,
   "id": "338ff529-1a6b-4b87-a931-8e4788d52aad",
   "metadata": {
    "execution": {
     "iopub.execute_input": "2025-07-23T14:23:45.591495Z",
     "iopub.status.busy": "2025-07-23T14:23:45.591103Z",
     "iopub.status.idle": "2025-07-23T14:23:45.596486Z",
     "shell.execute_reply": "2025-07-23T14:23:45.595227Z"
    },
    "papermill": {
     "duration": 0.020502,
     "end_time": "2025-07-23T14:23:45.598328",
     "exception": false,
     "start_time": "2025-07-23T14:23:45.577826",
     "status": "completed"
    },
    "tags": []
   },
   "outputs": [],
   "source": [
    "#cp_groups_df"
   ]
  },
  {
   "cell_type": "code",
   "execution_count": 50,
   "id": "90032e27-66df-4540-9169-4e89cfbaa758",
   "metadata": {
    "execution": {
     "iopub.execute_input": "2025-07-23T14:23:45.647073Z",
     "iopub.status.busy": "2025-07-23T14:23:45.645969Z",
     "iopub.status.idle": "2025-07-23T14:23:45.661383Z",
     "shell.execute_reply": "2025-07-23T14:23:45.659975Z"
    },
    "papermill": {
     "duration": 0.041201,
     "end_time": "2025-07-23T14:23:45.663317",
     "exception": false,
     "start_time": "2025-07-23T14:23:45.622116",
     "status": "completed"
    },
    "tags": []
   },
   "outputs": [],
   "source": [
    "subgroups = ['frau1','nongerman','nongerman_male','nongerman_female']\n",
    "\n",
    "# Conditional coverage for subgroup==1\n",
    "cond_coverage = {\n",
    "    g: cp_groups_df.loc[cp_groups_df[g]==1, 'covered'].mean()\n",
    "    for g in subgroups\n",
    "}"
   ]
  },
  {
   "cell_type": "code",
   "execution_count": 51,
   "id": "1e348fb1-b9c3-45bc-ba23-f016827a7e0d",
   "metadata": {
    "execution": {
     "iopub.execute_input": "2025-07-23T14:23:45.711536Z",
     "iopub.status.busy": "2025-07-23T14:23:45.710518Z",
     "iopub.status.idle": "2025-07-23T14:23:45.718500Z",
     "shell.execute_reply": "2025-07-23T14:23:45.717309Z"
    },
    "papermill": {
     "duration": 0.03398,
     "end_time": "2025-07-23T14:23:45.720648",
     "exception": false,
     "start_time": "2025-07-23T14:23:45.686668",
     "status": "completed"
    },
    "tags": []
   },
   "outputs": [
    {
     "data": {
      "text/plain": [
       "{'frau1': 0.9100687424181156,\n",
       " 'nongerman': 0.9064166619884354,\n",
       " 'nongerman_male': 0.9235341799513644,\n",
       " 'nongerman_female': 0.8780923994038748}"
      ]
     },
     "execution_count": 51,
     "metadata": {},
     "output_type": "execute_result"
    }
   ],
   "source": [
    "cond_coverage"
   ]
  },
  {
   "cell_type": "code",
   "execution_count": 52,
   "id": "f5093324-c3dd-4d63-bc4c-8d945e5c8bbb",
   "metadata": {
    "execution": {
     "iopub.execute_input": "2025-07-23T14:23:45.774855Z",
     "iopub.status.busy": "2025-07-23T14:23:45.774410Z",
     "iopub.status.idle": "2025-07-23T14:23:45.782325Z",
     "shell.execute_reply": "2025-07-23T14:23:45.781255Z"
    },
    "papermill": {
     "duration": 0.036504,
     "end_time": "2025-07-23T14:23:45.785819",
     "exception": false,
     "start_time": "2025-07-23T14:23:45.749315",
     "status": "completed"
    },
    "tags": []
   },
   "outputs": [],
   "source": [
    "for subgroup, cov in cond_coverage.items():\n",
    "    cp_metrics_df[f\"cov_{subgroup}\"] = cov"
   ]
  },
  {
   "cell_type": "code",
   "execution_count": 53,
   "id": "6e872e10-dbe5-49e8-b554-5030c98ff75d",
   "metadata": {
    "execution": {
     "iopub.execute_input": "2025-07-23T14:23:45.910754Z",
     "iopub.status.busy": "2025-07-23T14:23:45.910272Z",
     "iopub.status.idle": "2025-07-23T14:23:45.943441Z",
     "shell.execute_reply": "2025-07-23T14:23:45.942370Z"
    },
    "papermill": {
     "duration": 0.112174,
     "end_time": "2025-07-23T14:23:45.945264",
     "exception": false,
     "start_time": "2025-07-23T14:23:45.833090",
     "status": "completed"
    },
    "tags": []
   },
   "outputs": [
    {
     "data": {
      "text/html": [
       "<div>\n",
       "<style scoped>\n",
       "    .dataframe tbody tr th:only-of-type {\n",
       "        vertical-align: middle;\n",
       "    }\n",
       "\n",
       "    .dataframe tbody tr th {\n",
       "        vertical-align: top;\n",
       "    }\n",
       "\n",
       "    .dataframe thead th {\n",
       "        text-align: right;\n",
       "    }\n",
       "</style>\n",
       "<table border=\"1\" class=\"dataframe\">\n",
       "  <thead>\n",
       "    <tr style=\"text-align: right;\">\n",
       "      <th></th>\n",
       "      <th>universe_id</th>\n",
       "      <th>universe_model</th>\n",
       "      <th>universe_exclude_features</th>\n",
       "      <th>universe_exclude_subgroups</th>\n",
       "      <th>universe_scale</th>\n",
       "      <th>q_hat</th>\n",
       "      <th>coverage</th>\n",
       "      <th>avg_size</th>\n",
       "      <th>cov_frau1</th>\n",
       "      <th>cov_nongerman</th>\n",
       "      <th>cov_nongerman_male</th>\n",
       "      <th>cov_nongerman_female</th>\n",
       "    </tr>\n",
       "  </thead>\n",
       "  <tbody>\n",
       "    <tr>\n",
       "      <th>0</th>\n",
       "      <td>a16e7ec36df330ba762cf3b15d2e153b</td>\n",
       "      <td>penalized_logreg</td>\n",
       "      <td>age</td>\n",
       "      <td>drop-non-german</td>\n",
       "      <td>scale</td>\n",
       "      <td>0.664514</td>\n",
       "      <td>0.91118</td>\n",
       "      <td>1.126051</td>\n",
       "      <td>0.910069</td>\n",
       "      <td>0.906417</td>\n",
       "      <td>0.923534</td>\n",
       "      <td>0.878092</td>\n",
       "    </tr>\n",
       "  </tbody>\n",
       "</table>\n",
       "</div>"
      ],
      "text/plain": [
       "                        universe_id    universe_model  \\\n",
       "0  a16e7ec36df330ba762cf3b15d2e153b  penalized_logreg   \n",
       "\n",
       "  universe_exclude_features universe_exclude_subgroups universe_scale  \\\n",
       "0                       age            drop-non-german          scale   \n",
       "\n",
       "      q_hat  coverage  avg_size  cov_frau1  cov_nongerman  cov_nongerman_male  \\\n",
       "0  0.664514   0.91118  1.126051   0.910069       0.906417            0.923534   \n",
       "\n",
       "   cov_nongerman_female  \n",
       "0              0.878092  "
      ]
     },
     "execution_count": 53,
     "metadata": {},
     "output_type": "execute_result"
    }
   ],
   "source": [
    "cp_metrics_df"
   ]
  },
  {
   "cell_type": "markdown",
   "id": "33774451",
   "metadata": {
    "papermill": {
     "duration": 0.040632,
     "end_time": "2025-07-23T14:23:46.050909",
     "exception": false,
     "start_time": "2025-07-23T14:23:46.010277",
     "status": "completed"
    },
    "tags": []
   },
   "source": [
    "# (Fairness) Metrics"
   ]
  },
  {
   "cell_type": "code",
   "execution_count": 54,
   "id": "debc5d62",
   "metadata": {
    "execution": {
     "iopub.execute_input": "2025-07-23T14:23:46.179976Z",
     "iopub.status.busy": "2025-07-23T14:23:46.179510Z",
     "iopub.status.idle": "2025-07-23T14:23:46.202268Z",
     "shell.execute_reply": "2025-07-23T14:23:46.201262Z"
    },
    "papermill": {
     "duration": 0.127211,
     "end_time": "2025-07-23T14:23:46.204218",
     "exception": false,
     "start_time": "2025-07-23T14:23:46.077007",
     "status": "completed"
    },
    "tags": []
   },
   "outputs": [],
   "source": [
    "# do I need to include maxdeutsch1.missing?\n",
    "\n",
    "import numpy as np\n",
    "\n",
    "colname_to_bin = \"maxdeutsch1\"\n",
    "majority_value = org_train[colname_to_bin].mode()[0]\n",
    "\n",
    "org_test[\"majmin\"] = np.where(org_test[colname_to_bin] == majority_value, \"majority\", \"minority\")"
   ]
  },
  {
   "cell_type": "code",
   "execution_count": 55,
   "id": "06a50de5",
   "metadata": {
    "execution": {
     "iopub.execute_input": "2025-07-23T14:23:46.253322Z",
     "iopub.status.busy": "2025-07-23T14:23:46.252869Z",
     "iopub.status.idle": "2025-07-23T14:23:50.058802Z",
     "shell.execute_reply": "2025-07-23T14:23:50.057664Z"
    },
    "papermill": {
     "duration": 3.832699,
     "end_time": "2025-07-23T14:23:50.061028",
     "exception": false,
     "start_time": "2025-07-23T14:23:46.228329",
     "status": "completed"
    },
    "tags": []
   },
   "outputs": [],
   "source": [
    "example_universe = universe.copy()\n",
    "example_universe[\"cutoff\"] = example_universe[\"cutoff\"][0]\n",
    "example_universe[\"eval_fairness_grouping\"] = example_universe[\"eval_fairness_grouping\"][0]\n",
    "fairness_dict, metric_frame = universe_analysis.compute_metrics(\n",
    "    example_universe,\n",
    "    y_pred_prob=probs_test,\n",
    "    y_test=y_true,\n",
    "    org_test=org_test,\n",
    ")"
   ]
  },
  {
   "cell_type": "markdown",
   "id": "f95d4e02",
   "metadata": {
    "papermill": {
     "duration": 0.025207,
     "end_time": "2025-07-23T14:23:50.113538",
     "exception": false,
     "start_time": "2025-07-23T14:23:50.088331",
     "status": "completed"
    },
    "tags": []
   },
   "source": [
    "# Overall"
   ]
  },
  {
   "cell_type": "markdown",
   "id": "bdee4871",
   "metadata": {
    "papermill": {
     "duration": 0.026262,
     "end_time": "2025-07-23T14:23:50.165647",
     "exception": false,
     "start_time": "2025-07-23T14:23:50.139385",
     "status": "completed"
    },
    "tags": []
   },
   "source": [
    "Fairness\n",
    "Main fairness target: Equalized Odds. Seems to be a better fit than equal opportunity, since we're not only interested in Y = 1. Seems to be a better fit than demographic parity, since we also care about accuracy, not just equal distribution of preds.\n",
    "\n",
    "Pick column for computation of fairness metrics\n",
    "\n",
    "Performance\n",
    "Overall performance measures, most interesting in relation to the measures split by group below"
   ]
  },
  {
   "cell_type": "code",
   "execution_count": 56,
   "id": "c4e067c6",
   "metadata": {
    "execution": {
     "iopub.execute_input": "2025-07-23T14:23:50.218300Z",
     "iopub.status.busy": "2025-07-23T14:23:50.217697Z",
     "iopub.status.idle": "2025-07-23T14:23:50.228387Z",
     "shell.execute_reply": "2025-07-23T14:23:50.227259Z"
    },
    "papermill": {
     "duration": 0.039403,
     "end_time": "2025-07-23T14:23:50.230349",
     "exception": false,
     "start_time": "2025-07-23T14:23:50.190946",
     "status": "completed"
    },
    "tags": []
   },
   "outputs": [
    {
     "data": {
      "text/plain": [
       "accuracy                   0.225493\n",
       "balanced accuracy          0.551128\n",
       "f1                         0.246794\n",
       "precision                  0.140985\n",
       "false positive rate        0.886883\n",
       "false negative rate        0.010862\n",
       "selection rate             0.900000\n",
       "count                  89710.000000\n",
       "dtype: float64"
      ]
     },
     "execution_count": 56,
     "metadata": {},
     "output_type": "execute_result"
    }
   ],
   "source": [
    "metric_frame.overall"
   ]
  },
  {
   "cell_type": "markdown",
   "id": "e968fe9d",
   "metadata": {
    "papermill": {
     "duration": 0.026176,
     "end_time": "2025-07-23T14:23:50.282619",
     "exception": false,
     "start_time": "2025-07-23T14:23:50.256443",
     "status": "completed"
    },
    "tags": []
   },
   "source": [
    "By Group"
   ]
  },
  {
   "cell_type": "code",
   "execution_count": 57,
   "id": "ec325bce",
   "metadata": {
    "execution": {
     "iopub.execute_input": "2025-07-23T14:23:50.335310Z",
     "iopub.status.busy": "2025-07-23T14:23:50.334390Z",
     "iopub.status.idle": "2025-07-23T14:23:50.351813Z",
     "shell.execute_reply": "2025-07-23T14:23:50.350795Z"
    },
    "papermill": {
     "duration": 0.045655,
     "end_time": "2025-07-23T14:23:50.353637",
     "exception": false,
     "start_time": "2025-07-23T14:23:50.307982",
     "status": "completed"
    },
    "tags": []
   },
   "outputs": [
    {
     "data": {
      "text/html": [
       "<div>\n",
       "<style scoped>\n",
       "    .dataframe tbody tr th:only-of-type {\n",
       "        vertical-align: middle;\n",
       "    }\n",
       "\n",
       "    .dataframe tbody tr th {\n",
       "        vertical-align: top;\n",
       "    }\n",
       "\n",
       "    .dataframe thead th {\n",
       "        text-align: right;\n",
       "    }\n",
       "</style>\n",
       "<table border=\"1\" class=\"dataframe\">\n",
       "  <thead>\n",
       "    <tr style=\"text-align: right;\">\n",
       "      <th></th>\n",
       "      <th>accuracy</th>\n",
       "      <th>balanced accuracy</th>\n",
       "      <th>f1</th>\n",
       "      <th>precision</th>\n",
       "      <th>false positive rate</th>\n",
       "      <th>false negative rate</th>\n",
       "      <th>selection rate</th>\n",
       "      <th>count</th>\n",
       "    </tr>\n",
       "    <tr>\n",
       "      <th>majmin</th>\n",
       "      <th></th>\n",
       "      <th></th>\n",
       "      <th></th>\n",
       "      <th></th>\n",
       "      <th></th>\n",
       "      <th></th>\n",
       "      <th></th>\n",
       "      <th></th>\n",
       "    </tr>\n",
       "  </thead>\n",
       "  <tbody>\n",
       "    <tr>\n",
       "      <th>majority</th>\n",
       "      <td>0.246509</td>\n",
       "      <td>0.560837</td>\n",
       "      <td>0.257363</td>\n",
       "      <td>0.147950</td>\n",
       "      <td>0.866400</td>\n",
       "      <td>0.011926</td>\n",
       "      <td>0.882478</td>\n",
       "      <td>69170.0</td>\n",
       "    </tr>\n",
       "    <tr>\n",
       "      <th>minority</th>\n",
       "      <td>0.154722</td>\n",
       "      <td>0.519349</td>\n",
       "      <td>0.213179</td>\n",
       "      <td>0.119403</td>\n",
       "      <td>0.954545</td>\n",
       "      <td>0.006757</td>\n",
       "      <td>0.959007</td>\n",
       "      <td>20540.0</td>\n",
       "    </tr>\n",
       "  </tbody>\n",
       "</table>\n",
       "</div>"
      ],
      "text/plain": [
       "          accuracy  balanced accuracy        f1  precision  \\\n",
       "majmin                                                       \n",
       "majority  0.246509           0.560837  0.257363   0.147950   \n",
       "minority  0.154722           0.519349  0.213179   0.119403   \n",
       "\n",
       "          false positive rate  false negative rate  selection rate    count  \n",
       "majmin                                                                       \n",
       "majority             0.866400             0.011926        0.882478  69170.0  \n",
       "minority             0.954545             0.006757        0.959007  20540.0  "
      ]
     },
     "execution_count": 57,
     "metadata": {},
     "output_type": "execute_result"
    }
   ],
   "source": [
    "metric_frame.by_group"
   ]
  },
  {
   "cell_type": "code",
   "execution_count": 58,
   "id": "a9ddbe63",
   "metadata": {
    "execution": {
     "iopub.execute_input": "2025-07-23T14:23:50.385029Z",
     "iopub.status.busy": "2025-07-23T14:23:50.384661Z",
     "iopub.status.idle": "2025-07-23T14:23:52.680677Z",
     "shell.execute_reply": "2025-07-23T14:23:52.679533Z"
    },
    "papermill": {
     "duration": 2.310895,
     "end_time": "2025-07-23T14:23:52.682422",
     "exception": false,
     "start_time": "2025-07-23T14:23:50.371527",
     "status": "completed"
    },
    "tags": []
   },
   "outputs": [
    {
     "data": {
      "text/plain": [
       "array([[<Axes: title={'center': 'accuracy'}, xlabel='majmin'>,\n",
       "        <Axes: title={'center': 'balanced accuracy'}, xlabel='majmin'>,\n",
       "        <Axes: title={'center': 'f1'}, xlabel='majmin'>],\n",
       "       [<Axes: title={'center': 'precision'}, xlabel='majmin'>,\n",
       "        <Axes: title={'center': 'false positive rate'}, xlabel='majmin'>,\n",
       "        <Axes: title={'center': 'false negative rate'}, xlabel='majmin'>],\n",
       "       [<Axes: title={'center': 'selection rate'}, xlabel='majmin'>,\n",
       "        <Axes: title={'center': 'count'}, xlabel='majmin'>,\n",
       "        <Axes: xlabel='majmin'>]], dtype=object)"
      ]
     },
     "execution_count": 58,
     "metadata": {},
     "output_type": "execute_result"
    },
    {
     "data": {
      "image/png": "[encoded data removed]",
      "text/plain": [
       "<Figure size 1200x800 with 9 Axes>"
      ]
     },
     "metadata": {},
     "output_type": "display_data"
    }
   ],
   "source": [
    "# In a graphic\n",
    "metric_frame.by_group.plot.bar(\n",
    "    subplots=True,\n",
    "    layout=[3, 3],\n",
    "    legend=False,\n",
    "    figsize=[12, 8],\n",
    "    title=\"Show all metrics\",\n",
    ")"
   ]
  },
  {
   "cell_type": "markdown",
   "id": "f57a0bac",
   "metadata": {
    "papermill": {
     "duration": 0.024317,
     "end_time": "2025-07-23T14:23:52.731787",
     "exception": false,
     "start_time": "2025-07-23T14:23:52.707470",
     "status": "completed"
    },
    "tags": []
   },
   "source": [
    "# Final Output"
   ]
  },
  {
   "cell_type": "code",
   "execution_count": 59,
   "id": "96d280a3",
   "metadata": {
    "execution": {
     "iopub.execute_input": "2025-07-23T14:23:52.784572Z",
     "iopub.status.busy": "2025-07-23T14:23:52.783871Z",
     "iopub.status.idle": "2025-07-23T14:23:52.792858Z",
     "shell.execute_reply": "2025-07-23T14:23:52.791878Z"
    },
    "papermill": {
     "duration": 0.036516,
     "end_time": "2025-07-23T14:23:52.794477",
     "exception": false,
     "start_time": "2025-07-23T14:23:52.757961",
     "status": "completed"
    },
    "tags": []
   },
   "outputs": [
    {
     "data": {
      "text/plain": [
       "4"
      ]
     },
     "execution_count": 59,
     "metadata": {},
     "output_type": "execute_result"
    }
   ],
   "source": [
    "sub_universes = universe_analysis.generate_sub_universes()\n",
    "len(sub_universes)"
   ]
  },
  {
   "cell_type": "code",
   "execution_count": 60,
   "id": "92adf7ba",
   "metadata": {
    "execution": {
     "iopub.execute_input": "2025-07-23T14:23:52.846177Z",
     "iopub.status.busy": "2025-07-23T14:23:52.845329Z",
     "iopub.status.idle": "2025-07-23T14:23:52.851975Z",
     "shell.execute_reply": "2025-07-23T14:23:52.851001Z"
    },
    "papermill": {
     "duration": 0.033695,
     "end_time": "2025-07-23T14:23:52.853809",
     "exception": false,
     "start_time": "2025-07-23T14:23:52.820114",
     "status": "completed"
    },
    "tags": []
   },
   "outputs": [],
   "source": [
    "def filter_sub_universe_data(sub_universe, org_test):\n",
    "    # Keep all rows — no filtering\n",
    "    keep_rows_mask = np.ones(org_test.shape[0], dtype=bool)\n",
    "\n",
    "    print(f\"[INFO] Keeping all rows: {keep_rows_mask.sum()} rows retained.\")\n",
    "    return keep_rows_mask"
   ]
  },
  {
   "cell_type": "code",
   "execution_count": null,
   "id": "4a759155",
   "metadata": {
    "papermill": {
     "duration": null,
     "end_time": null,
     "exception": false,
     "start_time": "2025-07-23T14:23:52.880032",
     "status": "running"
    },
    "tags": []
   },
   "outputs": [],
   "source": [
    "final_output = universe_analysis.generate_final_output(\n",
    "    y_pred_prob=probs_test,\n",
    "    y_test=y_true,\n",
    "    org_test=org_test,\n",
    "    filter_data=filter_sub_universe_data,\n",
    "    cp_metrics_df=cp_metrics_df,\n",
    "    save=True,\n",
    ")\n",
    "final_output"
   ]
  },
  {
   "cell_type": "code",
   "execution_count": null,
   "id": "721ff514-cb11-46f8-b6fc-50392f74b5cb",
   "metadata": {
    "papermill": {
     "duration": null,
     "end_time": null,
     "exception": null,
     "start_time": null,
     "status": "pending"
    },
    "tags": []
   },
   "outputs": [],
   "source": []
  }
 ],
 "metadata": {
  "celltoolbar": "Tags",
  "kernelspec": {
   "display_name": "Python (CMA Fairness)",
   "language": "python",
   "name": "cma_fair_env"
  },
  "language_info": {
   "codemirror_mode": {
    "name": "ipython",
    "version": 3
   },
   "file_extension": ".py",
   "mimetype": "text/x-python",
   "name": "python",
   "nbconvert_exporter": "python",
   "pygments_lexer": "ipython3",
   "version": "3.10.12"
  },
  "papermill": {
   "default_parameters": {},
   "duration": null,
   "end_time": null,
   "environment_variables": {},
   "exception": null,
   "input_path": "universe_analysis.ipynb",
   "output_path": "output/runs/8/notebooks/m_8-a16e7ec36df330ba762cf3b15d2e153b.ipynb",
   "parameters": {
    "output_dir": "output",
    "run_no": "8",
    "seed": "2023",
    "universe": "{\"cutoff\": [\"quantile_0.1\", \"quantile_0.25\"], \"eval_fairness_grouping\": [\"majority-minority\", \"nationality-all\"], \"exclude_features\": \"age\", \"exclude_subgroups\": \"drop-non-german\", \"model\": \"penalized_logreg\", \"scale\": \"scale\"}",
    "universe_id": "a16e7ec36df330ba762cf3b15d2e153b"
   },
   "start_time": "2025-07-23T14:23:21.570788",
   "version": "2.6.0"
  }
 },
 "nbformat": 4,
 "nbformat_minor": 5
}