{
 "cells": [
  {
   "cell_type": "code",
   "execution_count": 1,
   "id": "f159f837-637b-42ba-96b5-ec9a68c44524",
   "metadata": {
    "execution": {
     "iopub.execute_input": "2025-07-23T14:21:58.578203Z",
     "iopub.status.busy": "2025-07-23T14:21:58.577469Z",
     "iopub.status.idle": "2025-07-23T14:21:58.587949Z",
     "shell.execute_reply": "2025-07-23T14:21:58.587005Z"
    },
    "papermill": {
     "duration": 0.033315,
     "end_time": "2025-07-23T14:21:58.589786",
     "exception": false,
     "start_time": "2025-07-23T14:21:58.556471",
     "status": "completed"
    },
    "tags": []
   },
   "outputs": [
    {
     "name": "stdout",
     "output_type": "stream",
     "text": [
      "/dss/dsshome1/0C/ra93lal2/cma/CMA_Fairness_v2\n"
     ]
    },
    {
     "name": "stderr",
     "output_type": "stream",
     "text": [
      "/dss/dsshome1/0C/ra93lal2/.local/share/virtualenvs/CMA_Fairness_v2-3j10GkSs/lib/python3.10/site-packages/IPython/core/magics/osm.py:393: UserWarning: This is now an optional IPython functionality, using bookmarks requires you to install the `pickleshare` library.\n",
      "  bkms = self.shell.db.get('bookmarks', {})\n",
      "/dss/dsshome1/0C/ra93lal2/.local/share/virtualenvs/CMA_Fairness_v2-3j10GkSs/lib/python3.10/site-packages/IPython/core/magics/osm.py:417: UserWarning: This is now an optional IPython functionality, setting dhist requires you to install the `pickleshare` library.\n",
      "  self.shell.db['dhist'] = compress_dhist(dhist)[-100:]\n"
     ]
    }
   ],
   "source": [
    "%cd ~/cma/CMA_Fairness_v2"
   ]
  },
  {
   "cell_type": "markdown",
   "id": "de2603b9",
   "metadata": {
    "papermill": {
     "duration": 0.017545,
     "end_time": "2025-07-23T14:21:58.621723",
     "exception": false,
     "start_time": "2025-07-23T14:21:58.604178",
     "status": "completed"
    },
    "tags": []
   },
   "source": [
    "The following cell holds the definition of our parameters, these values can be overriden by rendering the with e.g. the following command:\n",
    "\n",
    "papermill -p alpha 0.2 -p ratio 0.3 universe_analysis.ipynb output/test_run.ipynb"
   ]
  },
  {
   "cell_type": "code",
   "execution_count": 2,
   "id": "a80968a0-40bb-4fa9-85ef-2d5eefb01975",
   "metadata": {
    "execution": {
     "iopub.execute_input": "2025-07-23T14:21:58.659093Z",
     "iopub.status.busy": "2025-07-23T14:21:58.658459Z",
     "iopub.status.idle": "2025-07-23T14:21:58.676265Z",
     "shell.execute_reply": "2025-07-23T14:21:58.675230Z"
    },
    "papermill": {
     "duration": 0.039114,
     "end_time": "2025-07-23T14:21:58.678096",
     "exception": false,
     "start_time": "2025-07-23T14:21:58.638982",
     "status": "completed"
    },
    "tags": []
   },
   "outputs": [
    {
     "name": "stdout",
     "output_type": "stream",
     "text": [
      "Current working directory: /dss/dsshome1/0C/ra93lal2/cma/CMA_Fairness_v2\n"
     ]
    }
   ],
   "source": [
    "import os\n",
    "print(\"Current working directory:\", os.getcwd())"
   ]
  },
  {
   "cell_type": "code",
   "execution_count": 3,
   "id": "2dce4c03",
   "metadata": {
    "execution": {
     "iopub.execute_input": "2025-07-23T14:21:58.716961Z",
     "iopub.status.busy": "2025-07-23T14:21:58.716142Z",
     "iopub.status.idle": "2025-07-23T14:21:58.723008Z",
     "shell.execute_reply": "2025-07-23T14:21:58.722018Z"
    },
    "papermill": {
     "duration": 0.030465,
     "end_time": "2025-07-23T14:21:58.727094",
     "exception": false,
     "start_time": "2025-07-23T14:21:58.696629",
     "status": "completed"
    },
    "tags": [
     "parameters"
    ]
   },
   "outputs": [],
   "source": [
    "run_no = 0\n",
    "universe_id = \"test\"\n",
    "universe = {\n",
    "    \"scale\": \"scale\", # \"scale\", \"do-not-scale\",\n",
    "    \"model\": \"elasticnet\", # \"logreg\", \"penalized_logreg\", \"rf\", \"gbm\", \"elasticnet\"\n",
    "    \"cutoff\": [\"quantile_0.15\", \"quantile_0.30\"],\n",
    "    \"exclude_features\": \"age\", # \"none\", \"nationality\", \"sex\", \"nationality-sex\", \"age\"\n",
    "    \"exclude_subgroups\": \"keep-all\", # \"keep-all\", \"drop-non-german\"\n",
    "    #\"training_sample\": \"restricted\", # \"restricted\", \"full\"\n",
    "    \"eval_fairness_grouping\": [\"majority-minority\", \"nationality-all\"]\n",
    "}\n",
    "\n",
    "output_dir=\"./output\"\n",
    "seed=0"
   ]
  },
  {
   "cell_type": "code",
   "execution_count": 4,
   "id": "bfab0276",
   "metadata": {
    "execution": {
     "iopub.execute_input": "2025-07-23T14:21:58.763892Z",
     "iopub.status.busy": "2025-07-23T14:21:58.763597Z",
     "iopub.status.idle": "2025-07-23T14:21:58.767972Z",
     "shell.execute_reply": "2025-07-23T14:21:58.767110Z"
    },
    "papermill": {
     "duration": 0.023293,
     "end_time": "2025-07-23T14:21:58.769348",
     "exception": false,
     "start_time": "2025-07-23T14:21:58.746055",
     "status": "completed"
    },
    "tags": [
     "injected-parameters"
    ]
   },
   "outputs": [],
   "source": [
    "# Parameters\n",
    "universe_id = \"6f4d1096d5ebe29e8f50609a646a3d7d\"\n",
    "run_no = \"8\"\n",
    "universe = \"{\\\"cutoff\\\": [\\\"quantile_0.1\\\", \\\"quantile_0.25\\\"], \\\"eval_fairness_grouping\\\": [\\\"majority-minority\\\", \\\"nationality-all\\\"], \\\"exclude_features\\\": \\\"sex\\\", \\\"exclude_subgroups\\\": \\\"keep-all\\\", \\\"model\\\": \\\"logreg\\\", \\\"scale\\\": \\\"scale\\\"}\"\n",
    "output_dir = \"output\"\n",
    "seed = \"2023\"\n"
   ]
  },
  {
   "cell_type": "code",
   "execution_count": 5,
   "id": "1650acaf",
   "metadata": {
    "execution": {
     "iopub.execute_input": "2025-07-23T14:21:58.794050Z",
     "iopub.status.busy": "2025-07-23T14:21:58.793752Z",
     "iopub.status.idle": "2025-07-23T14:21:58.797440Z",
     "shell.execute_reply": "2025-07-23T14:21:58.796648Z"
    },
    "papermill": {
     "duration": 0.020558,
     "end_time": "2025-07-23T14:21:58.799053",
     "exception": false,
     "start_time": "2025-07-23T14:21:58.778495",
     "status": "completed"
    },
    "tags": []
   },
   "outputs": [],
   "source": [
    "import json\n",
    "# Parse universe into dict if it is passed as a string\n",
    "if isinstance(universe, str):\n",
    "    universe = json.loads(universe)"
   ]
  },
  {
   "cell_type": "code",
   "execution_count": 6,
   "id": "16620c48",
   "metadata": {
    "execution": {
     "iopub.execute_input": "2025-07-23T14:21:58.833138Z",
     "iopub.status.busy": "2025-07-23T14:21:58.832538Z",
     "iopub.status.idle": "2025-07-23T14:21:58.883444Z",
     "shell.execute_reply": "2025-07-23T14:21:58.882608Z"
    },
    "papermill": {
     "duration": 0.067034,
     "end_time": "2025-07-23T14:21:58.885235",
     "exception": false,
     "start_time": "2025-07-23T14:21:58.818201",
     "status": "completed"
    },
    "tags": []
   },
   "outputs": [],
   "source": [
    "# Auto-reload the custom package\n",
    "%load_ext autoreload\n",
    "%autoreload 1\n",
    "%aimport fairness_multiverse"
   ]
  },
  {
   "cell_type": "code",
   "execution_count": 7,
   "id": "01c5c9f3",
   "metadata": {
    "execution": {
     "iopub.execute_input": "2025-07-23T14:21:58.921017Z",
     "iopub.status.busy": "2025-07-23T14:21:58.920265Z",
     "iopub.status.idle": "2025-07-23T14:22:04.275314Z",
     "shell.execute_reply": "2025-07-23T14:22:04.273610Z"
    },
    "papermill": {
     "duration": 5.376577,
     "end_time": "2025-07-23T14:22:04.277359",
     "exception": false,
     "start_time": "2025-07-23T14:21:58.900782",
     "status": "completed"
    },
    "tags": []
   },
   "outputs": [],
   "source": [
    "from fairness_multiverse.universe import UniverseAnalysis\n",
    "\n",
    "universe_analysis = UniverseAnalysis(\n",
    "    run_no = run_no,\n",
    "    universe_id = universe_id,\n",
    "    universe = universe,\n",
    "    output_dir=output_dir,\n",
    ")"
   ]
  },
  {
   "cell_type": "code",
   "execution_count": 8,
   "id": "106241f5",
   "metadata": {
    "execution": {
     "iopub.execute_input": "2025-07-23T14:22:04.324628Z",
     "iopub.status.busy": "2025-07-23T14:22:04.324041Z",
     "iopub.status.idle": "2025-07-23T14:22:04.331351Z",
     "shell.execute_reply": "2025-07-23T14:22:04.330266Z"
    },
    "papermill": {
     "duration": 0.029499,
     "end_time": "2025-07-23T14:22:04.333248",
     "exception": false,
     "start_time": "2025-07-23T14:22:04.303749",
     "status": "completed"
    },
    "tags": []
   },
   "outputs": [
    {
     "name": "stdout",
     "output_type": "stream",
     "text": [
      "Using Seed: 2023\n"
     ]
    }
   ],
   "source": [
    "import numpy as np\n",
    "parsed_seed = int(seed)\n",
    "np.random.seed(parsed_seed)\n",
    "print(f\"Using Seed: {parsed_seed}\")"
   ]
  },
  {
   "cell_type": "markdown",
   "id": "e0ebdc57",
   "metadata": {
    "papermill": {
     "duration": 0.02097,
     "end_time": "2025-07-23T14:22:04.373557",
     "exception": false,
     "start_time": "2025-07-23T14:22:04.352587",
     "status": "completed"
    },
    "tags": []
   },
   "source": [
    "# Loading Data"
   ]
  },
  {
   "cell_type": "markdown",
   "id": "681925a3",
   "metadata": {
    "papermill": {
     "duration": 0.018115,
     "end_time": "2025-07-23T14:22:04.410892",
     "exception": false,
     "start_time": "2025-07-23T14:22:04.392777",
     "status": "completed"
    },
    "tags": []
   },
   "source": [
    "Load siab_train, siab_test, siab_calib and/or \n",
    "load siab_train_features, siab_train_labels"
   ]
  },
  {
   "cell_type": "code",
   "execution_count": 9,
   "id": "f0496b8a",
   "metadata": {
    "execution": {
     "iopub.execute_input": "2025-07-23T14:22:04.450508Z",
     "iopub.status.busy": "2025-07-23T14:22:04.450013Z",
     "iopub.status.idle": "2025-07-23T14:22:04.457354Z",
     "shell.execute_reply": "2025-07-23T14:22:04.455471Z"
    },
    "papermill": {
     "duration": 0.029803,
     "end_time": "2025-07-23T14:22:04.459420",
     "exception": false,
     "start_time": "2025-07-23T14:22:04.429617",
     "status": "completed"
    },
    "tags": []
   },
   "outputs": [],
   "source": [
    "# Do I need to load siab? Delete this cell?\n",
    "\n",
    "#from pathlib import Path\n",
    "#import pandas as pd\n",
    "#\n",
    "## File paths\n",
    "#raw_file = Path(\"data/raw/siab.csv\")\n",
    "#cache_file = Path(\"data/siab_cached.csv.gz\")\n",
    "#\n",
    "## Ensure cache directory exists\n",
    "#cache_file.parent.mkdir(parents=True, exist_ok=True)\n",
    "#\n",
    "## Load with simple caching\n",
    "#if cache_file.exists():\n",
    "#    print(f\"Loading SIAB data from cache: {cache_file}\")\n",
    "#    siab = pd.read_csv(cache_file, compression='gzip')\n",
    "#else:\n",
    "#    print(f\"Cache not found. Reading raw SIAB data: {raw_file}\")\n",
    "#    siab = pd.read_csv(raw_file)\n",
    "#    siab.to_csv(cache_file, index=False, compression='gzip')\n",
    "#    print(f\"Cached SIAB data to: {cache_file}\")\n",
    "#\n",
    "## Now use `siab` DataFrame as needed\n",
    "#print(siab.shape)\n"
   ]
  },
  {
   "cell_type": "code",
   "execution_count": 10,
   "id": "a0edb063",
   "metadata": {
    "execution": {
     "iopub.execute_input": "2025-07-23T14:22:04.496437Z",
     "iopub.status.busy": "2025-07-23T14:22:04.495999Z",
     "iopub.status.idle": "2025-07-23T14:22:05.450824Z",
     "shell.execute_reply": "2025-07-23T14:22:05.449997Z"
    },
    "papermill": {
     "duration": 0.974958,
     "end_time": "2025-07-23T14:22:05.452408",
     "exception": false,
     "start_time": "2025-07-23T14:22:04.477450",
     "status": "completed"
    },
    "tags": []
   },
   "outputs": [],
   "source": [
    "import pandas as pd\n",
    "\n",
    "X_train = pd.read_csv(\"./data/X_train.csv\")\n",
    "y_train = pd.read_csv(\"./data/y_train.csv\")"
   ]
  },
  {
   "cell_type": "code",
   "execution_count": 11,
   "id": "63d08085",
   "metadata": {
    "execution": {
     "iopub.execute_input": "2025-07-23T14:22:05.473569Z",
     "iopub.status.busy": "2025-07-23T14:22:05.473022Z",
     "iopub.status.idle": "2025-07-23T14:22:06.802677Z",
     "shell.execute_reply": "2025-07-23T14:22:06.801586Z"
    },
    "papermill": {
     "duration": 1.34249,
     "end_time": "2025-07-23T14:22:06.804771",
     "exception": false,
     "start_time": "2025-07-23T14:22:05.462281",
     "status": "completed"
    },
    "tags": []
   },
   "outputs": [],
   "source": [
    "X_test = pd.read_csv(\"./data/X_test.csv\")\n",
    "y_true = pd.read_csv(\"./data/y_test.csv\")"
   ]
  },
  {
   "cell_type": "code",
   "execution_count": 12,
   "id": "98a8d0fa-1d3d-4ed8-bb2c-281470e24add",
   "metadata": {
    "execution": {
     "iopub.execute_input": "2025-07-23T14:22:06.842714Z",
     "iopub.status.busy": "2025-07-23T14:22:06.841721Z",
     "iopub.status.idle": "2025-07-23T14:22:08.517849Z",
     "shell.execute_reply": "2025-07-23T14:22:08.516527Z"
    },
    "papermill": {
     "duration": 1.697879,
     "end_time": "2025-07-23T14:22:08.520608",
     "exception": false,
     "start_time": "2025-07-23T14:22:06.822729",
     "status": "completed"
    },
    "tags": []
   },
   "outputs": [],
   "source": [
    "# Calibration data for conformal\n",
    "X_calib = pd.read_csv(\"./data/X_calib.csv\")\n",
    "y_calib = pd.read_csv(\"./data/y_calib.csv\")"
   ]
  },
  {
   "cell_type": "code",
   "execution_count": 13,
   "id": "e6c733c5",
   "metadata": {
    "execution": {
     "iopub.execute_input": "2025-07-23T14:22:08.562645Z",
     "iopub.status.busy": "2025-07-23T14:22:08.562145Z",
     "iopub.status.idle": "2025-07-23T14:22:08.677686Z",
     "shell.execute_reply": "2025-07-23T14:22:08.676333Z"
    },
    "papermill": {
     "duration": 0.137591,
     "end_time": "2025-07-23T14:22:08.679509",
     "exception": false,
     "start_time": "2025-07-23T14:22:08.541918",
     "status": "completed"
    },
    "tags": []
   },
   "outputs": [],
   "source": [
    "# Auxiliary data needed downstream in the pipeline\n",
    "\n",
    "org_train = X_train.copy()\n",
    "org_test = X_test.copy()\n",
    "org_calib = X_calib.copy()"
   ]
  },
  {
   "cell_type": "markdown",
   "id": "0a4a1b33",
   "metadata": {
    "papermill": {
     "duration": 0.018544,
     "end_time": "2025-07-23T14:22:08.722743",
     "exception": false,
     "start_time": "2025-07-23T14:22:08.704199",
     "status": "completed"
    },
    "tags": []
   },
   "source": [
    "# Preprocessing Data"
   ]
  },
  {
   "cell_type": "code",
   "execution_count": 14,
   "id": "ca879031",
   "metadata": {
    "execution": {
     "iopub.execute_input": "2025-07-23T14:22:08.746642Z",
     "iopub.status.busy": "2025-07-23T14:22:08.746072Z",
     "iopub.status.idle": "2025-07-23T14:22:08.753456Z",
     "shell.execute_reply": "2025-07-23T14:22:08.752007Z"
    },
    "papermill": {
     "duration": 0.020703,
     "end_time": "2025-07-23T14:22:08.755429",
     "exception": false,
     "start_time": "2025-07-23T14:22:08.734726",
     "status": "completed"
    },
    "tags": []
   },
   "outputs": [],
   "source": [
    "# EXCLUDE PROTECTED FEATURES\n",
    "# ----------------------\n",
    "# \"exclude_features\": \"none\", # \"nationality\", \"sex\", \"nationality-sex\"\n",
    "\n",
    "excluded_features = universe[\"exclude_features\"].split(\"-\") # split, e.g.: \"nationality-sex\" -> [\"nationality\", \"sex\"]\n",
    "excluded_features_dictionary = {\n",
    "    \"nationality\": [\"maxdeutsch1\", \"maxdeutsch.Missing.\"],\n",
    "    \"sex\": [\"frau1\"],\n",
    "    \"age\": [\"age\"],\n",
    "}\n"
   ]
  },
  {
   "cell_type": "code",
   "execution_count": 15,
   "id": "b745ac60",
   "metadata": {
    "execution": {
     "iopub.execute_input": "2025-07-23T14:22:08.795090Z",
     "iopub.status.busy": "2025-07-23T14:22:08.794711Z",
     "iopub.status.idle": "2025-07-23T14:22:08.800650Z",
     "shell.execute_reply": "2025-07-23T14:22:08.799619Z"
    },
    "papermill": {
     "duration": 0.028107,
     "end_time": "2025-07-23T14:22:08.803046",
     "exception": false,
     "start_time": "2025-07-23T14:22:08.774939",
     "status": "completed"
    },
    "tags": []
   },
   "outputs": [],
   "source": [
    "# Code nice names to column names\n",
    "\n",
    "excluded_features_columns = [\n",
    "    excluded_features_dictionary[f] for f in excluded_features if len(f) > 0 and f != \"none\"\n",
    "]"
   ]
  },
  {
   "cell_type": "code",
   "execution_count": 16,
   "id": "f84f73a2",
   "metadata": {
    "execution": {
     "iopub.execute_input": "2025-07-23T14:22:08.845450Z",
     "iopub.status.busy": "2025-07-23T14:22:08.844897Z",
     "iopub.status.idle": "2025-07-23T14:22:08.853497Z",
     "shell.execute_reply": "2025-07-23T14:22:08.852097Z"
    },
    "papermill": {
     "duration": 0.037063,
     "end_time": "2025-07-23T14:22:08.859976",
     "exception": false,
     "start_time": "2025-07-23T14:22:08.822913",
     "status": "completed"
    },
    "tags": []
   },
   "outputs": [],
   "source": [
    "from utils import flatten_once\n",
    "\n",
    "excluded_features_columns = flatten_once(excluded_features_columns)"
   ]
  },
  {
   "cell_type": "code",
   "execution_count": 17,
   "id": "884dea22",
   "metadata": {
    "execution": {
     "iopub.execute_input": "2025-07-23T14:22:08.918525Z",
     "iopub.status.busy": "2025-07-23T14:22:08.917568Z",
     "iopub.status.idle": "2025-07-23T14:22:08.986677Z",
     "shell.execute_reply": "2025-07-23T14:22:08.985750Z"
    },
    "papermill": {
     "duration": 0.101115,
     "end_time": "2025-07-23T14:22:08.988712",
     "exception": false,
     "start_time": "2025-07-23T14:22:08.887597",
     "status": "completed"
    },
    "tags": []
   },
   "outputs": [
    {
     "name": "stdout",
     "output_type": "stream",
     "text": [
      "Dropping features: ['frau1']\n"
     ]
    }
   ],
   "source": [
    "if len(excluded_features_columns) > 0:\n",
    "    print(f\"Dropping features: {excluded_features_columns}\")\n",
    "    X_train.drop(excluded_features_columns, axis=1, inplace=True)"
   ]
  },
  {
   "cell_type": "code",
   "execution_count": 18,
   "id": "95ab8b16",
   "metadata": {
    "execution": {
     "iopub.execute_input": "2025-07-23T14:22:09.014925Z",
     "iopub.status.busy": "2025-07-23T14:22:09.012582Z",
     "iopub.status.idle": "2025-07-23T14:22:09.098409Z",
     "shell.execute_reply": "2025-07-23T14:22:09.096695Z"
    },
    "papermill": {
     "duration": 0.1002,
     "end_time": "2025-07-23T14:22:09.100546",
     "exception": false,
     "start_time": "2025-07-23T14:22:09.000346",
     "status": "completed"
    },
    "tags": []
   },
   "outputs": [
    {
     "name": "stdout",
     "output_type": "stream",
     "text": [
      "Dropping features: ['frau1']\n"
     ]
    }
   ],
   "source": [
    "if len(excluded_features_columns) > 0:\n",
    "    print(f\"Dropping features: {excluded_features_columns}\")\n",
    "    X_test.drop(excluded_features_columns, axis=1, inplace=True)"
   ]
  },
  {
   "cell_type": "code",
   "execution_count": 19,
   "id": "1853aaf5-fb9f-46cb-a2b5-8ea4ae2237e4",
   "metadata": {
    "execution": {
     "iopub.execute_input": "2025-07-23T14:22:09.146695Z",
     "iopub.status.busy": "2025-07-23T14:22:09.145809Z",
     "iopub.status.idle": "2025-07-23T14:22:09.202633Z",
     "shell.execute_reply": "2025-07-23T14:22:09.201355Z"
    },
    "papermill": {
     "duration": 0.081425,
     "end_time": "2025-07-23T14:22:09.205065",
     "exception": false,
     "start_time": "2025-07-23T14:22:09.123640",
     "status": "completed"
    },
    "tags": []
   },
   "outputs": [
    {
     "name": "stdout",
     "output_type": "stream",
     "text": [
      "Dropping features: ['frau1']\n"
     ]
    }
   ],
   "source": [
    "if len(excluded_features_columns) > 0:\n",
    "    print(f\"Dropping features: {excluded_features_columns}\")\n",
    "    X_calib.drop(excluded_features_columns, axis=1, inplace=True)"
   ]
  },
  {
   "cell_type": "code",
   "execution_count": 20,
   "id": "76c4dc6d",
   "metadata": {
    "execution": {
     "iopub.execute_input": "2025-07-23T14:22:09.258560Z",
     "iopub.status.busy": "2025-07-23T14:22:09.257679Z",
     "iopub.status.idle": "2025-07-23T14:22:09.265042Z",
     "shell.execute_reply": "2025-07-23T14:22:09.263599Z"
    },
    "papermill": {
     "duration": 0.033082,
     "end_time": "2025-07-23T14:22:09.267319",
     "exception": false,
     "start_time": "2025-07-23T14:22:09.234237",
     "status": "completed"
    },
    "tags": []
   },
   "outputs": [],
   "source": [
    "# EXCLUDE CERTAIN SUBGROUPS\n",
    "# ----------------------\n",
    "\n",
    "mode = universe.get(\"exclude_subgroups\", \"keep-all\") \n",
    "# Fetches the exclude_subgroups setting from the universe dict.\n",
    "# Defaults to \"keep-all\" if the key is missing."
   ]
  },
  {
   "cell_type": "code",
   "execution_count": 21,
   "id": "21994072",
   "metadata": {
    "execution": {
     "iopub.execute_input": "2025-07-23T14:22:09.312672Z",
     "iopub.status.busy": "2025-07-23T14:22:09.312324Z",
     "iopub.status.idle": "2025-07-23T14:22:09.318861Z",
     "shell.execute_reply": "2025-07-23T14:22:09.318082Z"
    },
    "papermill": {
     "duration": 0.027363,
     "end_time": "2025-07-23T14:22:09.320364",
     "exception": false,
     "start_time": "2025-07-23T14:22:09.293001",
     "status": "completed"
    },
    "tags": []
   },
   "outputs": [],
   "source": [
    "if mode == \"keep-all\":\n",
    "    keep_mask = pd.Series(True, index=org_train.index)\n",
    "\n",
    "# org_train contains the original feature columns from features_org (in Simson)\n",
    "# features_org contains unprocessed features, for me X_train at beginning ???\n",
    "# For keep-all, creates a boolean Series (keep_mask) of all True, so no rows are removed.\n",
    "\n",
    "elif mode == \"drop-non-german\":\n",
    "    keep_mask = org_train[\"maxdeutsch1\"] == 1 # ??? what about missing values?\n",
    "\n",
    "else:\n",
    "    raise ValueError(f\"Unsupported mode for exclude_subgroups: {mode}\")\n"
   ]
  },
  {
   "cell_type": "code",
   "execution_count": 22,
   "id": "71651440",
   "metadata": {
    "execution": {
     "iopub.execute_input": "2025-07-23T14:22:09.407319Z",
     "iopub.status.busy": "2025-07-23T14:22:09.406837Z",
     "iopub.status.idle": "2025-07-23T14:22:09.414602Z",
     "shell.execute_reply": "2025-07-23T14:22:09.413389Z"
    },
    "papermill": {
     "duration": 0.024413,
     "end_time": "2025-07-23T14:22:09.416454",
     "exception": false,
     "start_time": "2025-07-23T14:22:09.392041",
     "status": "completed"
    },
    "tags": []
   },
   "outputs": [],
   "source": [
    "n_drop = (~keep_mask).sum() # Calculates how many rows are set to be dropped\n",
    "if n_drop > 0:\n",
    "    pct = n_drop / len(keep_mask) * 100\n",
    "    print(f\"Dropping {n_drop} rows ({pct:.2f}%) where mode='{mode}'\")"
   ]
  },
  {
   "cell_type": "code",
   "execution_count": 23,
   "id": "5fb8eee5",
   "metadata": {
    "execution": {
     "iopub.execute_input": "2025-07-23T14:22:09.456483Z",
     "iopub.status.busy": "2025-07-23T14:22:09.455346Z",
     "iopub.status.idle": "2025-07-23T14:22:09.513332Z",
     "shell.execute_reply": "2025-07-23T14:22:09.512245Z"
    },
    "papermill": {
     "duration": 0.078045,
     "end_time": "2025-07-23T14:22:09.515450",
     "exception": false,
     "start_time": "2025-07-23T14:22:09.437405",
     "status": "completed"
    },
    "tags": []
   },
   "outputs": [],
   "source": [
    "X_train = X_train[keep_mask]"
   ]
  },
  {
   "cell_type": "code",
   "execution_count": 24,
   "id": "b202bb3a",
   "metadata": {
    "execution": {
     "iopub.execute_input": "2025-07-23T14:22:09.549527Z",
     "iopub.status.busy": "2025-07-23T14:22:09.549104Z",
     "iopub.status.idle": "2025-07-23T14:22:09.555705Z",
     "shell.execute_reply": "2025-07-23T14:22:09.554965Z"
    },
    "papermill": {
     "duration": 0.020476,
     "end_time": "2025-07-23T14:22:09.557221",
     "exception": false,
     "start_time": "2025-07-23T14:22:09.536745",
     "status": "completed"
    },
    "tags": []
   },
   "outputs": [],
   "source": [
    "y_train = y_train[keep_mask]"
   ]
  },
  {
   "cell_type": "markdown",
   "id": "493e2ac3",
   "metadata": {
    "papermill": {
     "duration": 0.021178,
     "end_time": "2025-07-23T14:22:09.595650",
     "exception": false,
     "start_time": "2025-07-23T14:22:09.574472",
     "status": "completed"
    },
    "tags": []
   },
   "source": [
    "# Model Training"
   ]
  },
  {
   "cell_type": "code",
   "execution_count": 25,
   "id": "679e1268",
   "metadata": {
    "execution": {
     "iopub.execute_input": "2025-07-23T14:22:09.624734Z",
     "iopub.status.busy": "2025-07-23T14:22:09.624272Z",
     "iopub.status.idle": "2025-07-23T14:22:11.225408Z",
     "shell.execute_reply": "2025-07-23T14:22:11.224222Z"
    },
    "papermill": {
     "duration": 1.615077,
     "end_time": "2025-07-23T14:22:11.227653",
     "exception": false,
     "start_time": "2025-07-23T14:22:09.612576",
     "status": "completed"
    },
    "tags": []
   },
   "outputs": [],
   "source": [
    "from sklearn.linear_model import LogisticRegression\n",
    "from sklearn.ensemble import GradientBoostingClassifier, RandomForestClassifier\n",
    "\n",
    "if (universe[\"model\"] == \"logreg\"):\n",
    "    model = LogisticRegression() #penalty=\"none\") #, solver=\"newton-cg\", max_iter=1) # include random_state=19 ?\n",
    "elif (universe[\"model\"] == \"penalized_logreg\"):\n",
    "    model = LogisticRegression(penalty=\"l2\", C=1.0) #, solver=\"newton-cg\", max_iter=1)\n",
    "elif (universe[\"model\"] == \"rf\"):\n",
    "    model = RandomForestClassifier(n_estimators=100, n_jobs=-1)\n",
    "elif (universe[\"model\"] == \"gbm\"):\n",
    "    model = GradientBoostingClassifier()\n",
    "elif (universe[\"model\"] == \"elasticnet\"):\n",
    "    model = LogisticRegression(penalty = 'elasticnet', solver = 'saga', l1_ratio = 0.5, max_iter=5000) # which solver to use?\n",
    "else:\n",
    "    raise \"Unsupported universe.model\""
   ]
  },
  {
   "cell_type": "code",
   "execution_count": 26,
   "id": "0cc8f744",
   "metadata": {
    "execution": {
     "iopub.execute_input": "2025-07-23T14:22:11.271623Z",
     "iopub.status.busy": "2025-07-23T14:22:11.271192Z",
     "iopub.status.idle": "2025-07-23T14:22:11.278745Z",
     "shell.execute_reply": "2025-07-23T14:22:11.277416Z"
    },
    "papermill": {
     "duration": 0.031888,
     "end_time": "2025-07-23T14:22:11.280776",
     "exception": false,
     "start_time": "2025-07-23T14:22:11.248888",
     "status": "completed"
    },
    "tags": []
   },
   "outputs": [],
   "source": [
    "import numpy as np\n",
    "from sklearn.pipeline import Pipeline\n",
    "from sklearn.preprocessing import StandardScaler\n",
    "\n",
    "model = Pipeline([\n",
    "    #(\"continuous_processor\", continuous_processor),\n",
    "    #(\"categorical_preprocessor\", categorical_preprocessor),\n",
    "    (\"scale\", StandardScaler() if universe[\"scale\"] == \"scale\" else None), \n",
    "    (\"model\", model),\n",
    "])"
   ]
  },
  {
   "cell_type": "code",
   "execution_count": 27,
   "id": "9442c04d",
   "metadata": {
    "execution": {
     "iopub.execute_input": "2025-07-23T14:22:11.330869Z",
     "iopub.status.busy": "2025-07-23T14:22:11.330494Z",
     "iopub.status.idle": "2025-07-23T14:22:14.598484Z",
     "shell.execute_reply": "2025-07-23T14:22:14.597504Z"
    },
    "papermill": {
     "duration": 3.281811,
     "end_time": "2025-07-23T14:22:14.600173",
     "exception": false,
     "start_time": "2025-07-23T14:22:11.318362",
     "status": "completed"
    },
    "tags": []
   },
   "outputs": [
    {
     "name": "stderr",
     "output_type": "stream",
     "text": [
      "/dss/dsshome1/0C/ra93lal2/.local/share/virtualenvs/CMA_Fairness_v2-3j10GkSs/lib/python3.10/site-packages/sklearn/linear_model/_logistic.py:444: ConvergenceWarning: lbfgs failed to converge (status=1):\n",
      "STOP: TOTAL NO. of ITERATIONS REACHED LIMIT.\n",
      "\n",
      "Increase the number of iterations (max_iter) or scale the data as shown in:\n",
      "    https://scikit-learn.org/stable/modules/preprocessing.html\n",
      "Please also refer to the documentation for alternative solver options:\n",
      "    https://scikit-learn.org/stable/modules/linear_model.html#logistic-regression\n",
      "  n_iter_i = _check_optimize_result(\n"
     ]
    },
    {
     "data": {
      "text/html": [
       "<style>#sk-container-id-1 {color: black;background-color: white;}#sk-container-id-1 pre{padding: 0;}#sk-container-id-1 div.sk-toggleable {background-color: white;}#sk-container-id-1 label.sk-toggleable__label {cursor: pointer;display: block;width: 100%;margin-bottom: 0;padding: 0.3em;box-sizing: border-box;text-align: center;}#sk-container-id-1 label.sk-toggleable__label-arrow:before {content: \"▸\";float: left;margin-right: 0.25em;color: #696969;}#sk-container-id-1 label.sk-toggleable__label-arrow:hover:before {color: black;}#sk-container-id-1 div.sk-estimator:hover label.sk-toggleable__label-arrow:before {color: black;}#sk-container-id-1 div.sk-toggleable__content {max-height: 0;max-width: 0;overflow: hidden;text-align: left;background-color: #f0f8ff;}#sk-container-id-1 div.sk-toggleable__content pre {margin: 0.2em;color: black;border-radius: 0.25em;background-color: #f0f8ff;}#sk-container-id-1 input.sk-toggleable__control:checked~div.sk-toggleable__content {max-height: 200px;max-width: 100%;overflow: auto;}#sk-container-id-1 input.sk-toggleable__control:checked~label.sk-toggleable__label-arrow:before {content: \"▾\";}#sk-container-id-1 div.sk-estimator input.sk-toggleable__control:checked~label.sk-toggleable__label {background-color: #d4ebff;}#sk-container-id-1 div.sk-label input.sk-toggleable__control:checked~label.sk-toggleable__label {background-color: #d4ebff;}#sk-container-id-1 input.sk-hidden--visually {border: 0;clip: rect(1px 1px 1px 1px);clip: rect(1px, 1px, 1px, 1px);height: 1px;margin: -1px;overflow: hidden;padding: 0;position: absolute;width: 1px;}#sk-container-id-1 div.sk-estimator {font-family: monospace;background-color: #f0f8ff;border: 1px dotted black;border-radius: 0.25em;box-sizing: border-box;margin-bottom: 0.5em;}#sk-container-id-1 div.sk-estimator:hover {background-color: #d4ebff;}#sk-container-id-1 div.sk-parallel-item::after {content: \"\";width: 100%;border-bottom: 1px solid gray;flex-grow: 1;}#sk-container-id-1 div.sk-label:hover label.sk-toggleable__label {background-color: #d4ebff;}#sk-container-id-1 div.sk-serial::before {content: \"\";position: absolute;border-left: 1px solid gray;box-sizing: border-box;top: 0;bottom: 0;left: 50%;z-index: 0;}#sk-container-id-1 div.sk-serial {display: flex;flex-direction: column;align-items: center;background-color: white;padding-right: 0.2em;padding-left: 0.2em;position: relative;}#sk-container-id-1 div.sk-item {position: relative;z-index: 1;}#sk-container-id-1 div.sk-parallel {display: flex;align-items: stretch;justify-content: center;background-color: white;position: relative;}#sk-container-id-1 div.sk-item::before, #sk-container-id-1 div.sk-parallel-item::before {content: \"\";position: absolute;border-left: 1px solid gray;box-sizing: border-box;top: 0;bottom: 0;left: 50%;z-index: -1;}#sk-container-id-1 div.sk-parallel-item {display: flex;flex-direction: column;z-index: 1;position: relative;background-color: white;}#sk-container-id-1 div.sk-parallel-item:first-child::after {align-self: flex-end;width: 50%;}#sk-container-id-1 div.sk-parallel-item:last-child::after {align-self: flex-start;width: 50%;}#sk-container-id-1 div.sk-parallel-item:only-child::after {width: 0;}#sk-container-id-1 div.sk-dashed-wrapped {border: 1px dashed gray;margin: 0 0.4em 0.5em 0.4em;box-sizing: border-box;padding-bottom: 0.4em;background-color: white;}#sk-container-id-1 div.sk-label label {font-family: monospace;font-weight: bold;display: inline-block;line-height: 1.2em;}#sk-container-id-1 div.sk-label-container {text-align: center;}#sk-container-id-1 div.sk-container {/* jupyter's `normalize.less` sets `[hidden] { display: none; }` but bootstrap.min.css set `[hidden] { display: none !important; }` so we also need the `!important` here to be able to override the default hidden behavior on the sphinx rendered scikit-learn.org. See: https://github.com/scikit-learn/scikit-learn/issues/21755 */display: inline-block !important;position: relative;}#sk-container-id-1 div.sk-text-repr-fallback {display: none;}</style><div id=\"sk-container-id-1\" class=\"sk-top-container\"><div class=\"sk-text-repr-fallback\"><pre>Pipeline(steps=[(&#x27;scale&#x27;, StandardScaler()), (&#x27;model&#x27;, LogisticRegression())])</pre><b>In a Jupyter environment, please rerun this cell to show the HTML representation or trust the notebook. <br />On GitHub, the HTML representation is unable to render, please try loading this page with nbviewer.org.</b></div><div class=\"sk-container\" hidden><div class=\"sk-item sk-dashed-wrapped\"><div class=\"sk-label-container\"><div class=\"sk-label sk-toggleable\"><input class=\"sk-toggleable__control sk-hidden--visually\" id=\"sk-estimator-id-1\" type=\"checkbox\" ><label for=\"sk-estimator-id-1\" class=\"sk-toggleable__label sk-toggleable__label-arrow\">Pipeline</label><div class=\"sk-toggleable__content\"><pre>Pipeline(steps=[(&#x27;scale&#x27;, StandardScaler()), (&#x27;model&#x27;, LogisticRegression())])</pre></div></div></div><div class=\"sk-serial\"><div class=\"sk-item\"><div class=\"sk-estimator sk-toggleable\"><input class=\"sk-toggleable__control sk-hidden--visually\" id=\"sk-estimator-id-2\" type=\"checkbox\" ><label for=\"sk-estimator-id-2\" class=\"sk-toggleable__label sk-toggleable__label-arrow\">StandardScaler</label><div class=\"sk-toggleable__content\"><pre>StandardScaler()</pre></div></div></div><div class=\"sk-item\"><div class=\"sk-estimator sk-toggleable\"><input class=\"sk-toggleable__control sk-hidden--visually\" id=\"sk-estimator-id-3\" type=\"checkbox\" ><label for=\"sk-estimator-id-3\" class=\"sk-toggleable__label sk-toggleable__label-arrow\">LogisticRegression</label><div class=\"sk-toggleable__content\"><pre>LogisticRegression()</pre></div></div></div></div></div></div></div>"
      ],
      "text/plain": [
       "Pipeline(steps=[('scale', StandardScaler()), ('model', LogisticRegression())])"
      ]
     },
     "execution_count": 27,
     "metadata": {},
     "output_type": "execute_result"
    }
   ],
   "source": [
    "model.fit(X_train, y_train.values.ravel())"
   ]
  },
  {
   "cell_type": "code",
   "execution_count": 28,
   "id": "af59f8c0",
   "metadata": {
    "execution": {
     "iopub.execute_input": "2025-07-23T14:22:14.625071Z",
     "iopub.status.busy": "2025-07-23T14:22:14.624634Z",
     "iopub.status.idle": "2025-07-23T14:22:14.630141Z",
     "shell.execute_reply": "2025-07-23T14:22:14.628900Z"
    },
    "papermill": {
     "duration": 0.019618,
     "end_time": "2025-07-23T14:22:14.631718",
     "exception": false,
     "start_time": "2025-07-23T14:22:14.612100",
     "status": "completed"
    },
    "tags": []
   },
   "outputs": [],
   "source": [
    "from fairness_multiverse.universe import predict_w_threshold"
   ]
  },
  {
   "cell_type": "code",
   "execution_count": 29,
   "id": "a7cf2e16",
   "metadata": {
    "execution": {
     "iopub.execute_input": "2025-07-23T14:22:14.656643Z",
     "iopub.status.busy": "2025-07-23T14:22:14.656039Z",
     "iopub.status.idle": "2025-07-23T14:22:14.843736Z",
     "shell.execute_reply": "2025-07-23T14:22:14.842744Z"
    },
    "papermill": {
     "duration": 0.202155,
     "end_time": "2025-07-23T14:22:14.845675",
     "exception": false,
     "start_time": "2025-07-23T14:22:14.643520",
     "status": "completed"
    },
    "tags": []
   },
   "outputs": [
    {
     "data": {
      "text/plain": [
       "0.8628023631702152"
      ]
     },
     "execution_count": 29,
     "metadata": {},
     "output_type": "execute_result"
    }
   ],
   "source": [
    "probs_test = model.predict_proba(X_test)\n",
    "\n",
    "'''\n",
    "Below code returns a boolean array (or binary 0/1 array depending on how it’s used) where each element \n",
    "is True if the probability of class 1 is greater than or equal to the threshold, and False otherwise.\n",
    "'''\n",
    "y_pred_default = predict_w_threshold(probs_test, 0.5)\n",
    "\n",
    "from sklearn.metrics import accuracy_score\n",
    "\n",
    "# Naive prediction\n",
    "accuracy_score(y_true = y_true, y_pred = y_pred_default)"
   ]
  },
  {
   "cell_type": "code",
   "execution_count": 30,
   "id": "081964c3",
   "metadata": {
    "execution": {
     "iopub.execute_input": "2025-07-23T14:22:14.869948Z",
     "iopub.status.busy": "2025-07-23T14:22:14.869381Z",
     "iopub.status.idle": "2025-07-23T14:22:15.047089Z",
     "shell.execute_reply": "2025-07-23T14:22:15.046103Z"
    },
    "papermill": {
     "duration": 0.191937,
     "end_time": "2025-07-23T14:22:15.048807",
     "exception": false,
     "start_time": "2025-07-23T14:22:14.856870",
     "status": "completed"
    },
    "tags": []
   },
   "outputs": [
    {
     "data": {
      "text/plain": [
       "array([0, 0, 0, ..., 0, 0, 0])"
      ]
     },
     "execution_count": 30,
     "metadata": {},
     "output_type": "execute_result"
    }
   ],
   "source": [
    "model.predict(X_test)"
   ]
  },
  {
   "cell_type": "markdown",
   "id": "56c9705b",
   "metadata": {
    "papermill": {
     "duration": 0.011516,
     "end_time": "2025-07-23T14:22:15.072053",
     "exception": false,
     "start_time": "2025-07-23T14:22:15.060537",
     "status": "completed"
    },
    "tags": []
   },
   "source": [
    "# Conformal Prediction"
   ]
  },
  {
   "cell_type": "code",
   "execution_count": 31,
   "id": "160ec6ff",
   "metadata": {
    "execution": {
     "iopub.execute_input": "2025-07-23T14:22:15.096752Z",
     "iopub.status.busy": "2025-07-23T14:22:15.096172Z",
     "iopub.status.idle": "2025-07-23T14:22:15.101022Z",
     "shell.execute_reply": "2025-07-23T14:22:15.100090Z"
    },
    "papermill": {
     "duration": 0.019189,
     "end_time": "2025-07-23T14:22:15.102635",
     "exception": false,
     "start_time": "2025-07-23T14:22:15.083446",
     "status": "completed"
    },
    "tags": []
   },
   "outputs": [],
   "source": [
    "# Miscoverage level for conformal prediction (10% allowed error rate => 90% target coverage)\n",
    "alpha = 0.1"
   ]
  },
  {
   "cell_type": "code",
   "execution_count": 32,
   "id": "eadf4555-3dd3-440e-8e35-f82a4ad9f855",
   "metadata": {
    "execution": {
     "iopub.execute_input": "2025-07-23T14:22:15.128073Z",
     "iopub.status.busy": "2025-07-23T14:22:15.127499Z",
     "iopub.status.idle": "2025-07-23T14:22:15.299058Z",
     "shell.execute_reply": "2025-07-23T14:22:15.298195Z"
    },
    "papermill": {
     "duration": 0.186057,
     "end_time": "2025-07-23T14:22:15.300774",
     "exception": false,
     "start_time": "2025-07-23T14:22:15.114717",
     "status": "completed"
    },
    "tags": []
   },
   "outputs": [],
   "source": [
    "probs_calib = model.predict_proba(X_calib)"
   ]
  },
  {
   "cell_type": "code",
   "execution_count": 33,
   "id": "2ed93547-6d5d-4983-9b36-1ecb300da49a",
   "metadata": {
    "execution": {
     "iopub.execute_input": "2025-07-23T14:22:15.326108Z",
     "iopub.status.busy": "2025-07-23T14:22:15.325516Z",
     "iopub.status.idle": "2025-07-23T14:22:15.331221Z",
     "shell.execute_reply": "2025-07-23T14:22:15.330387Z"
    },
    "papermill": {
     "duration": 0.020202,
     "end_time": "2025-07-23T14:22:15.333009",
     "exception": false,
     "start_time": "2025-07-23T14:22:15.312807",
     "status": "completed"
    },
    "tags": []
   },
   "outputs": [],
   "source": [
    "y_calib = y_calib.values.ravel().astype(int)"
   ]
  },
  {
   "cell_type": "code",
   "execution_count": 34,
   "id": "65d1320d-f588-4b38-9072-62af1ae97f7d",
   "metadata": {
    "execution": {
     "iopub.execute_input": "2025-07-23T14:22:15.358733Z",
     "iopub.status.busy": "2025-07-23T14:22:15.358167Z",
     "iopub.status.idle": "2025-07-23T14:22:15.365562Z",
     "shell.execute_reply": "2025-07-23T14:22:15.364707Z"
    },
    "papermill": {
     "duration": 0.022163,
     "end_time": "2025-07-23T14:22:15.367333",
     "exception": false,
     "start_time": "2025-07-23T14:22:15.345170",
     "status": "completed"
    },
    "tags": []
   },
   "outputs": [],
   "source": [
    "from fairness_multiverse.conformal import compute_nc_scores\n",
    "\n",
    "# Compute nonconformity scores on calibration set (1 - probability of true class)\n",
    "nc_scores = compute_nc_scores(probs_calib, y_calib)"
   ]
  },
  {
   "cell_type": "code",
   "execution_count": 35,
   "id": "df3b8ca3-53b7-43d5-9667-7c85da7aeda2",
   "metadata": {
    "execution": {
     "iopub.execute_input": "2025-07-23T14:22:15.393178Z",
     "iopub.status.busy": "2025-07-23T14:22:15.392615Z",
     "iopub.status.idle": "2025-07-23T14:22:15.399510Z",
     "shell.execute_reply": "2025-07-23T14:22:15.398681Z"
    },
    "papermill": {
     "duration": 0.021924,
     "end_time": "2025-07-23T14:22:15.401183",
     "exception": false,
     "start_time": "2025-07-23T14:22:15.379259",
     "status": "completed"
    },
    "tags": []
   },
   "outputs": [],
   "source": [
    "from fairness_multiverse.conformal import find_threshold\n",
    "\n",
    "# Find conformal threshold q_hat for the given alpha (split conformal method)\n",
    "q_hat = find_threshold(nc_scores, alpha)"
   ]
  },
  {
   "cell_type": "code",
   "execution_count": 36,
   "id": "4d29e6c1-0ef6-4aa4-b8fe-4fe79b0d033a",
   "metadata": {
    "execution": {
     "iopub.execute_input": "2025-07-23T14:22:15.427227Z",
     "iopub.status.busy": "2025-07-23T14:22:15.426412Z",
     "iopub.status.idle": "2025-07-23T14:22:15.433786Z",
     "shell.execute_reply": "2025-07-23T14:22:15.432818Z"
    },
    "papermill": {
     "duration": 0.021963,
     "end_time": "2025-07-23T14:22:15.435422",
     "exception": false,
     "start_time": "2025-07-23T14:22:15.413459",
     "status": "completed"
    },
    "tags": []
   },
   "outputs": [
    {
     "data": {
      "text/plain": [
       "0.6611497771593429"
      ]
     },
     "execution_count": 36,
     "metadata": {},
     "output_type": "execute_result"
    }
   ],
   "source": [
    "q_hat"
   ]
  },
  {
   "cell_type": "code",
   "execution_count": 37,
   "id": "92460794-cdac-4be2-ba28-f28c0515a6fb",
   "metadata": {
    "execution": {
     "iopub.execute_input": "2025-07-23T14:22:15.461334Z",
     "iopub.status.busy": "2025-07-23T14:22:15.460765Z",
     "iopub.status.idle": "2025-07-23T14:22:16.307270Z",
     "shell.execute_reply": "2025-07-23T14:22:16.305999Z"
    },
    "papermill": {
     "duration": 0.861239,
     "end_time": "2025-07-23T14:22:16.309109",
     "exception": false,
     "start_time": "2025-07-23T14:22:15.447870",
     "status": "completed"
    },
    "tags": []
   },
   "outputs": [],
   "source": [
    "from fairness_multiverse.conformal import predict_conformal_sets\n",
    "\n",
    "# Generate prediction sets for each test example\n",
    "pred_sets = predict_conformal_sets(model, X_test, q_hat)"
   ]
  },
  {
   "cell_type": "code",
   "execution_count": 38,
   "id": "d90c9a65-e6db-4f5d-80cd-e68fb7e46829",
   "metadata": {
    "execution": {
     "iopub.execute_input": "2025-07-23T14:22:16.366527Z",
     "iopub.status.busy": "2025-07-23T14:22:16.365657Z",
     "iopub.status.idle": "2025-07-23T14:22:16.375520Z",
     "shell.execute_reply": "2025-07-23T14:22:16.374155Z"
    },
    "papermill": {
     "duration": 0.042264,
     "end_time": "2025-07-23T14:22:16.377317",
     "exception": false,
     "start_time": "2025-07-23T14:22:16.335053",
     "status": "completed"
    },
    "tags": []
   },
   "outputs": [],
   "source": [
    "y_true = y_true.squeeze()"
   ]
  },
  {
   "cell_type": "code",
   "execution_count": 39,
   "id": "3a58a54a-1e68-46b9-927a-df01f18aebc8",
   "metadata": {
    "execution": {
     "iopub.execute_input": "2025-07-23T14:22:16.404682Z",
     "iopub.status.busy": "2025-07-23T14:22:16.403816Z",
     "iopub.status.idle": "2025-07-23T14:22:17.528700Z",
     "shell.execute_reply": "2025-07-23T14:22:17.527340Z"
    },
    "papermill": {
     "duration": 1.140411,
     "end_time": "2025-07-23T14:22:17.531099",
     "exception": false,
     "start_time": "2025-07-23T14:22:16.390688",
     "status": "completed"
    },
    "tags": []
   },
   "outputs": [],
   "source": [
    "from fairness_multiverse.conformal import evaluate_sets\n",
    "\n",
    "# Evaluate coverage and average set size on test data\n",
    "metrics = evaluate_sets(pred_sets, y_true)"
   ]
  },
  {
   "cell_type": "code",
   "execution_count": 40,
   "id": "5ce0a5cb-201f-45a0-ade5-94c7f0bd6095",
   "metadata": {
    "execution": {
     "iopub.execute_input": "2025-07-23T14:22:17.583749Z",
     "iopub.status.busy": "2025-07-23T14:22:17.582733Z",
     "iopub.status.idle": "2025-07-23T14:22:17.592000Z",
     "shell.execute_reply": "2025-07-23T14:22:17.590878Z"
    },
    "papermill": {
     "duration": 0.038958,
     "end_time": "2025-07-23T14:22:17.594045",
     "exception": false,
     "start_time": "2025-07-23T14:22:17.555087",
     "status": "completed"
    },
    "tags": []
   },
   "outputs": [
    {
     "data": {
      "text/plain": [
       "{'coverage': 0.9115260283134544, 'avg_size': 1.1246460818191952}"
      ]
     },
     "execution_count": 40,
     "metadata": {},
     "output_type": "execute_result"
    }
   ],
   "source": [
    "metrics"
   ]
  },
  {
   "cell_type": "code",
   "execution_count": 41,
   "id": "9b9a838d-31c9-430b-ae14-12baee460d17",
   "metadata": {
    "execution": {
     "iopub.execute_input": "2025-07-23T14:22:17.647120Z",
     "iopub.status.busy": "2025-07-23T14:22:17.646533Z",
     "iopub.status.idle": "2025-07-23T14:22:17.654541Z",
     "shell.execute_reply": "2025-07-23T14:22:17.653364Z"
    },
    "papermill": {
     "duration": 0.036858,
     "end_time": "2025-07-23T14:22:17.656697",
     "exception": false,
     "start_time": "2025-07-23T14:22:17.619839",
     "status": "completed"
    },
    "tags": []
   },
   "outputs": [],
   "source": [
    "example_universe = universe.copy()\n",
    "universe_model = example_universe.get(\"model\")\n",
    "universe_exclude_features = example_universe.get(\"exclude_features\")\n",
    "universe_exclude_subgroups = example_universe.get(\"exclude_subgroups\")\n",
    "universe_scale = example_universe.get(\"scale\")"
   ]
  },
  {
   "cell_type": "code",
   "execution_count": 42,
   "id": "f4b6a8ac-9dc0-4245-8a91-5b3b5999c4f9",
   "metadata": {
    "execution": {
     "iopub.execute_input": "2025-07-23T14:22:17.709707Z",
     "iopub.status.busy": "2025-07-23T14:22:17.708443Z",
     "iopub.status.idle": "2025-07-23T14:22:17.716941Z",
     "shell.execute_reply": "2025-07-23T14:22:17.715561Z"
    },
    "papermill": {
     "duration": 0.036809,
     "end_time": "2025-07-23T14:22:17.718989",
     "exception": false,
     "start_time": "2025-07-23T14:22:17.682180",
     "status": "completed"
    },
    "tags": []
   },
   "outputs": [],
   "source": [
    "cp_metrics_dict = {\n",
    "    \"universe_id\": [universe_id],\n",
    "    \"universe_model\": [universe_model],\n",
    "    \"universe_exclude_features\": [universe_exclude_features],\n",
    "    \"universe_exclude_subgroups\": [universe_exclude_subgroups],\n",
    "    \"universe_scale\": [universe_scale],\n",
    "    \"q_hat\": [q_hat],\n",
    "    \"coverage\": [metrics[\"coverage\"]],\n",
    "    \"avg_size\": [metrics[\"avg_size\"]],\n",
    "}"
   ]
  },
  {
   "cell_type": "code",
   "execution_count": 43,
   "id": "908acbb1-0371-4915-85ca-3fa520d2efe2",
   "metadata": {
    "execution": {
     "iopub.execute_input": "2025-07-23T14:22:17.771725Z",
     "iopub.status.busy": "2025-07-23T14:22:17.771159Z",
     "iopub.status.idle": "2025-07-23T14:22:17.782898Z",
     "shell.execute_reply": "2025-07-23T14:22:17.781733Z"
    },
    "papermill": {
     "duration": 0.040564,
     "end_time": "2025-07-23T14:22:17.784927",
     "exception": false,
     "start_time": "2025-07-23T14:22:17.744363",
     "status": "completed"
    },
    "tags": []
   },
   "outputs": [
    {
     "data": {
      "text/plain": [
       "{'universe_id': ['6f4d1096d5ebe29e8f50609a646a3d7d'],\n",
       " 'universe_model': ['logreg'],\n",
       " 'universe_exclude_features': ['sex'],\n",
       " 'universe_exclude_subgroups': ['keep-all'],\n",
       " 'universe_scale': ['scale'],\n",
       " 'q_hat': [0.6611497771593429],\n",
       " 'coverage': [0.9115260283134544],\n",
       " 'avg_size': [1.1246460818191952]}"
      ]
     },
     "execution_count": 43,
     "metadata": {},
     "output_type": "execute_result"
    }
   ],
   "source": [
    "cp_metrics_dict"
   ]
  },
  {
   "cell_type": "code",
   "execution_count": 44,
   "id": "33007efc-14e9-4ec6-97ac-56a455c82265",
   "metadata": {
    "execution": {
     "iopub.execute_input": "2025-07-23T14:22:17.836402Z",
     "iopub.status.busy": "2025-07-23T14:22:17.835845Z",
     "iopub.status.idle": "2025-07-23T14:22:17.844339Z",
     "shell.execute_reply": "2025-07-23T14:22:17.842628Z"
    },
    "papermill": {
     "duration": 0.036301,
     "end_time": "2025-07-23T14:22:17.846700",
     "exception": false,
     "start_time": "2025-07-23T14:22:17.810399",
     "status": "completed"
    },
    "tags": []
   },
   "outputs": [],
   "source": [
    "cp_metrics_df = pd.DataFrame(cp_metrics_dict)"
   ]
  },
  {
   "cell_type": "code",
   "execution_count": 45,
   "id": "db12611b-57b2-4910-b9d0-355adfd6e7bf",
   "metadata": {
    "execution": {
     "iopub.execute_input": "2025-07-23T14:22:17.897724Z",
     "iopub.status.busy": "2025-07-23T14:22:17.897181Z",
     "iopub.status.idle": "2025-07-23T14:22:17.947232Z",
     "shell.execute_reply": "2025-07-23T14:22:17.946073Z"
    },
    "papermill": {
     "duration": 0.078075,
     "end_time": "2025-07-23T14:22:17.949376",
     "exception": false,
     "start_time": "2025-07-23T14:22:17.871301",
     "status": "completed"
    },
    "tags": []
   },
   "outputs": [
    {
     "data": {
      "text/html": [
       "<div>\n",
       "<style scoped>\n",
       "    .dataframe tbody tr th:only-of-type {\n",
       "        vertical-align: middle;\n",
       "    }\n",
       "\n",
       "    .dataframe tbody tr th {\n",
       "        vertical-align: top;\n",
       "    }\n",
       "\n",
       "    .dataframe thead th {\n",
       "        text-align: right;\n",
       "    }\n",
       "</style>\n",
       "<table border=\"1\" class=\"dataframe\">\n",
       "  <thead>\n",
       "    <tr style=\"text-align: right;\">\n",
       "      <th></th>\n",
       "      <th>universe_id</th>\n",
       "      <th>universe_model</th>\n",
       "      <th>universe_exclude_features</th>\n",
       "      <th>universe_exclude_subgroups</th>\n",
       "      <th>universe_scale</th>\n",
       "      <th>q_hat</th>\n",
       "      <th>coverage</th>\n",
       "      <th>avg_size</th>\n",
       "    </tr>\n",
       "  </thead>\n",
       "  <tbody>\n",
       "    <tr>\n",
       "      <th>0</th>\n",
       "      <td>6f4d1096d5ebe29e8f50609a646a3d7d</td>\n",
       "      <td>logreg</td>\n",
       "      <td>sex</td>\n",
       "      <td>keep-all</td>\n",
       "      <td>scale</td>\n",
       "      <td>0.66115</td>\n",
       "      <td>0.911526</td>\n",
       "      <td>1.124646</td>\n",
       "    </tr>\n",
       "  </tbody>\n",
       "</table>\n",
       "</div>"
      ],
      "text/plain": [
       "                        universe_id universe_model universe_exclude_features  \\\n",
       "0  6f4d1096d5ebe29e8f50609a646a3d7d         logreg                       sex   \n",
       "\n",
       "  universe_exclude_subgroups universe_scale    q_hat  coverage  avg_size  \n",
       "0                   keep-all          scale  0.66115  0.911526  1.124646  "
      ]
     },
     "execution_count": 45,
     "metadata": {},
     "output_type": "execute_result"
    }
   ],
   "source": [
    "cp_metrics_df"
   ]
  },
  {
   "cell_type": "code",
   "execution_count": 46,
   "id": "b7fbde55-a0a1-47e4-9af6-fe4a17fa8c61",
   "metadata": {
    "execution": {
     "iopub.execute_input": "2025-07-23T14:22:18.002209Z",
     "iopub.status.busy": "2025-07-23T14:22:18.001644Z",
     "iopub.status.idle": "2025-07-23T14:22:18.007743Z",
     "shell.execute_reply": "2025-07-23T14:22:18.006412Z"
    },
    "papermill": {
     "duration": 0.0346,
     "end_time": "2025-07-23T14:22:18.009765",
     "exception": false,
     "start_time": "2025-07-23T14:22:17.975165",
     "status": "completed"
    },
    "tags": []
   },
   "outputs": [],
   "source": [
    "# Conditional Coverage & looking at subgroups"
   ]
  },
  {
   "cell_type": "code",
   "execution_count": 47,
   "id": "027ae886-68dd-4141-96c7-805a5450e1ef",
   "metadata": {
    "execution": {
     "iopub.execute_input": "2025-07-23T14:22:18.062520Z",
     "iopub.status.busy": "2025-07-23T14:22:18.061653Z",
     "iopub.status.idle": "2025-07-23T14:22:18.365913Z",
     "shell.execute_reply": "2025-07-23T14:22:18.364699Z"
    },
    "papermill": {
     "duration": 0.332761,
     "end_time": "2025-07-23T14:22:18.368103",
     "exception": false,
     "start_time": "2025-07-23T14:22:18.035342",
     "status": "completed"
    },
    "tags": []
   },
   "outputs": [],
   "source": [
    "from fairness_multiverse.conformal import build_cp_groups\n",
    "\n",
    "cp_groups_df = build_cp_groups(pred_sets, y_true, X_test.index, org_test)\n",
    "#needs universe_id and setting"
   ]
  },
  {
   "cell_type": "code",
   "execution_count": 48,
   "id": "c3b92545-903e-4839-89af-0f057907d7d6",
   "metadata": {
    "execution": {
     "iopub.execute_input": "2025-07-23T14:22:18.419299Z",
     "iopub.status.busy": "2025-07-23T14:22:18.418729Z",
     "iopub.status.idle": "2025-07-23T14:22:20.434036Z",
     "shell.execute_reply": "2025-07-23T14:22:20.432803Z"
    },
    "papermill": {
     "duration": 2.042825,
     "end_time": "2025-07-23T14:22:20.436228",
     "exception": false,
     "start_time": "2025-07-23T14:22:18.393403",
     "status": "completed"
    },
    "tags": []
   },
   "outputs": [],
   "source": [
    "# Define covered = 1 if true_label is in the predicted set\n",
    "cp_groups_df['covered'] = cp_groups_df.apply(\n",
    "    lambda r: int(r['true_label'] in r['pred_set']),\n",
    "    axis=1\n",
    ")"
   ]
  },
  {
   "cell_type": "code",
   "execution_count": 49,
   "id": "338ff529-1a6b-4b87-a931-8e4788d52aad",
   "metadata": {
    "execution": {
     "iopub.execute_input": "2025-07-23T14:22:20.491925Z",
     "iopub.status.busy": "2025-07-23T14:22:20.490872Z",
     "iopub.status.idle": "2025-07-23T14:22:20.496848Z",
     "shell.execute_reply": "2025-07-23T14:22:20.495636Z"
    },
    "papermill": {
     "duration": 0.034037,
     "end_time": "2025-07-23T14:22:20.498727",
     "exception": false,
     "start_time": "2025-07-23T14:22:20.464690",
     "status": "completed"
    },
    "tags": []
   },
   "outputs": [],
   "source": [
    "#cp_groups_df"
   ]
  },
  {
   "cell_type": "code",
   "execution_count": 50,
   "id": "90032e27-66df-4540-9169-4e89cfbaa758",
   "metadata": {
    "execution": {
     "iopub.execute_input": "2025-07-23T14:22:20.551066Z",
     "iopub.status.busy": "2025-07-23T14:22:20.550516Z",
     "iopub.status.idle": "2025-07-23T14:22:20.563600Z",
     "shell.execute_reply": "2025-07-23T14:22:20.562411Z"
    },
    "papermill": {
     "duration": 0.040898,
     "end_time": "2025-07-23T14:22:20.565694",
     "exception": false,
     "start_time": "2025-07-23T14:22:20.524796",
     "status": "completed"
    },
    "tags": []
   },
   "outputs": [],
   "source": [
    "subgroups = ['frau1','nongerman','nongerman_male','nongerman_female']\n",
    "\n",
    "# Conditional coverage for subgroup==1\n",
    "cond_coverage = {\n",
    "    g: cp_groups_df.loc[cp_groups_df[g]==1, 'covered'].mean()\n",
    "    for g in subgroups\n",
    "}"
   ]
  },
  {
   "cell_type": "code",
   "execution_count": 51,
   "id": "1e348fb1-b9c3-45bc-ba23-f016827a7e0d",
   "metadata": {
    "execution": {
     "iopub.execute_input": "2025-07-23T14:22:20.616548Z",
     "iopub.status.busy": "2025-07-23T14:22:20.616007Z",
     "iopub.status.idle": "2025-07-23T14:22:22.878120Z",
     "shell.execute_reply": "2025-07-23T14:22:22.877350Z"
    },
    "papermill": {
     "duration": 2.288275,
     "end_time": "2025-07-23T14:22:22.879385",
     "exception": false,
     "start_time": "2025-07-23T14:22:20.591110",
     "status": "completed"
    },
    "tags": []
   },
   "outputs": [
    {
     "data": {
      "text/plain": [
       "{'frau1': 0.912252325111201,\n",
       " 'nongerman': 0.91062707011733,\n",
       " 'nongerman_male': 0.9253354949112852,\n",
       " 'nongerman_female': 0.8862891207153503}"
      ]
     },
     "execution_count": 51,
     "metadata": {},
     "output_type": "execute_result"
    }
   ],
   "source": [
    "cond_coverage"
   ]
  },
  {
   "cell_type": "code",
   "execution_count": 52,
   "id": "f5093324-c3dd-4d63-bc4c-8d945e5c8bbb",
   "metadata": {
    "execution": {
     "iopub.execute_input": "2025-07-23T14:22:22.905327Z",
     "iopub.status.busy": "2025-07-23T14:22:22.905060Z",
     "iopub.status.idle": "2025-07-23T14:22:22.910703Z",
     "shell.execute_reply": "2025-07-23T14:22:22.910027Z"
    },
    "papermill": {
     "duration": 0.019681,
     "end_time": "2025-07-23T14:22:22.911934",
     "exception": false,
     "start_time": "2025-07-23T14:22:22.892253",
     "status": "completed"
    },
    "tags": []
   },
   "outputs": [],
   "source": [
    "for subgroup, cov in cond_coverage.items():\n",
    "    cp_metrics_df[f\"cov_{subgroup}\"] = cov"
   ]
  },
  {
   "cell_type": "code",
   "execution_count": 53,
   "id": "6e872e10-dbe5-49e8-b554-5030c98ff75d",
   "metadata": {
    "execution": {
     "iopub.execute_input": "2025-07-23T14:22:22.936143Z",
     "iopub.status.busy": "2025-07-23T14:22:22.935884Z",
     "iopub.status.idle": "2025-07-23T14:22:23.261116Z",
     "shell.execute_reply": "2025-07-23T14:22:23.260368Z"
    },
    "papermill": {
     "duration": 0.338764,
     "end_time": "2025-07-23T14:22:23.262376",
     "exception": false,
     "start_time": "2025-07-23T14:22:22.923612",
     "status": "completed"
    },
    "tags": []
   },
   "outputs": [
    {
     "data": {
      "text/html": [
       "<div>\n",
       "<style scoped>\n",
       "    .dataframe tbody tr th:only-of-type {\n",
       "        vertical-align: middle;\n",
       "    }\n",
       "\n",
       "    .dataframe tbody tr th {\n",
       "        vertical-align: top;\n",
       "    }\n",
       "\n",
       "    .dataframe thead th {\n",
       "        text-align: right;\n",
       "    }\n",
       "</style>\n",
       "<table border=\"1\" class=\"dataframe\">\n",
       "  <thead>\n",
       "    <tr style=\"text-align: right;\">\n",
       "      <th></th>\n",
       "      <th>universe_id</th>\n",
       "      <th>universe_model</th>\n",
       "      <th>universe_exclude_features</th>\n",
       "      <th>universe_exclude_subgroups</th>\n",
       "      <th>universe_scale</th>\n",
       "      <th>q_hat</th>\n",
       "      <th>coverage</th>\n",
       "      <th>avg_size</th>\n",
       "      <th>cov_frau1</th>\n",
       "      <th>cov_nongerman</th>\n",
       "      <th>cov_nongerman_male</th>\n",
       "      <th>cov_nongerman_female</th>\n",
       "    </tr>\n",
       "  </thead>\n",
       "  <tbody>\n",
       "    <tr>\n",
       "      <th>0</th>\n",
       "      <td>6f4d1096d5ebe29e8f50609a646a3d7d</td>\n",
       "      <td>logreg</td>\n",
       "      <td>sex</td>\n",
       "      <td>keep-all</td>\n",
       "      <td>scale</td>\n",
       "      <td>0.66115</td>\n",
       "      <td>0.911526</td>\n",
       "      <td>1.124646</td>\n",
       "      <td>0.912252</td>\n",
       "      <td>0.910627</td>\n",
       "      <td>0.925335</td>\n",
       "      <td>0.886289</td>\n",
       "    </tr>\n",
       "  </tbody>\n",
       "</table>\n",
       "</div>"
      ],
      "text/plain": [
       "                        universe_id universe_model universe_exclude_features  \\\n",
       "0  6f4d1096d5ebe29e8f50609a646a3d7d         logreg                       sex   \n",
       "\n",
       "  universe_exclude_subgroups universe_scale    q_hat  coverage  avg_size  \\\n",
       "0                   keep-all          scale  0.66115  0.911526  1.124646   \n",
       "\n",
       "   cov_frau1  cov_nongerman  cov_nongerman_male  cov_nongerman_female  \n",
       "0   0.912252       0.910627            0.925335              0.886289  "
      ]
     },
     "execution_count": 53,
     "metadata": {},
     "output_type": "execute_result"
    }
   ],
   "source": [
    "cp_metrics_df"
   ]
  },
  {
   "cell_type": "markdown",
   "id": "33774451",
   "metadata": {
    "papermill": {
     "duration": 0.012496,
     "end_time": "2025-07-23T14:22:23.287726",
     "exception": false,
     "start_time": "2025-07-23T14:22:23.275230",
     "status": "completed"
    },
    "tags": []
   },
   "source": [
    "# (Fairness) Metrics"
   ]
  },
  {
   "cell_type": "code",
   "execution_count": 54,
   "id": "debc5d62",
   "metadata": {
    "execution": {
     "iopub.execute_input": "2025-07-23T14:22:23.313783Z",
     "iopub.status.busy": "2025-07-23T14:22:23.313470Z",
     "iopub.status.idle": "2025-07-23T14:22:23.411665Z",
     "shell.execute_reply": "2025-07-23T14:22:23.410864Z"
    },
    "papermill": {
     "duration": 0.113141,
     "end_time": "2025-07-23T14:22:23.413253",
     "exception": false,
     "start_time": "2025-07-23T14:22:23.300112",
     "status": "completed"
    },
    "tags": []
   },
   "outputs": [],
   "source": [
    "# do I need to include maxdeutsch1.missing?\n",
    "\n",
    "import numpy as np\n",
    "\n",
    "colname_to_bin = \"maxdeutsch1\"\n",
    "majority_value = org_train[colname_to_bin].mode()[0]\n",
    "\n",
    "org_test[\"majmin\"] = np.where(org_test[colname_to_bin] == majority_value, \"majority\", \"minority\")"
   ]
  },
  {
   "cell_type": "code",
   "execution_count": 55,
   "id": "06a50de5",
   "metadata": {
    "execution": {
     "iopub.execute_input": "2025-07-23T14:22:23.443290Z",
     "iopub.status.busy": "2025-07-23T14:22:23.442564Z",
     "iopub.status.idle": "2025-07-23T14:22:26.765709Z",
     "shell.execute_reply": "2025-07-23T14:22:26.764639Z"
    },
    "papermill": {
     "duration": 3.339969,
     "end_time": "2025-07-23T14:22:26.767568",
     "exception": false,
     "start_time": "2025-07-23T14:22:23.427599",
     "status": "completed"
    },
    "tags": []
   },
   "outputs": [],
   "source": [
    "example_universe = universe.copy()\n",
    "example_universe[\"cutoff\"] = example_universe[\"cutoff\"][0]\n",
    "example_universe[\"eval_fairness_grouping\"] = example_universe[\"eval_fairness_grouping\"][0]\n",
    "fairness_dict, metric_frame = universe_analysis.compute_metrics(\n",
    "    example_universe,\n",
    "    y_pred_prob=probs_test,\n",
    "    y_test=y_true,\n",
    "    org_test=org_test,\n",
    ")"
   ]
  },
  {
   "cell_type": "markdown",
   "id": "f95d4e02",
   "metadata": {
    "papermill": {
     "duration": 0.012041,
     "end_time": "2025-07-23T14:22:26.796937",
     "exception": false,
     "start_time": "2025-07-23T14:22:26.784896",
     "status": "completed"
    },
    "tags": []
   },
   "source": [
    "# Overall"
   ]
  },
  {
   "cell_type": "markdown",
   "id": "bdee4871",
   "metadata": {
    "papermill": {
     "duration": 0.01192,
     "end_time": "2025-07-23T14:22:26.821625",
     "exception": false,
     "start_time": "2025-07-23T14:22:26.809705",
     "status": "completed"
    },
    "tags": []
   },
   "source": [
    "Fairness\n",
    "Main fairness target: Equalized Odds. Seems to be a better fit than equal opportunity, since we're not only interested in Y = 1. Seems to be a better fit than demographic parity, since we also care about accuracy, not just equal distribution of preds.\n",
    "\n",
    "Pick column for computation of fairness metrics\n",
    "\n",
    "Performance\n",
    "Overall performance measures, most interesting in relation to the measures split by group below"
   ]
  },
  {
   "cell_type": "code",
   "execution_count": 56,
   "id": "c4e067c6",
   "metadata": {
    "execution": {
     "iopub.execute_input": "2025-07-23T14:22:26.851312Z",
     "iopub.status.busy": "2025-07-23T14:22:26.850935Z",
     "iopub.status.idle": "2025-07-23T14:22:26.858555Z",
     "shell.execute_reply": "2025-07-23T14:22:26.857535Z"
    },
    "papermill": {
     "duration": 0.024655,
     "end_time": "2025-07-23T14:22:26.860203",
     "exception": false,
     "start_time": "2025-07-23T14:22:26.835548",
     "status": "completed"
    },
    "tags": []
   },
   "outputs": [
    {
     "data": {
      "text/plain": [
       "accuracy                   0.225850\n",
       "balanced accuracy          0.551925\n",
       "f1                         0.247141\n",
       "precision                  0.141183\n",
       "false positive rate        0.886678\n",
       "false negative rate        0.009472\n",
       "selection rate             0.900000\n",
       "count                  89710.000000\n",
       "dtype: float64"
      ]
     },
     "execution_count": 56,
     "metadata": {},
     "output_type": "execute_result"
    }
   ],
   "source": [
    "metric_frame.overall"
   ]
  },
  {
   "cell_type": "markdown",
   "id": "e968fe9d",
   "metadata": {
    "papermill": {
     "duration": 0.021323,
     "end_time": "2025-07-23T14:22:26.905465",
     "exception": false,
     "start_time": "2025-07-23T14:22:26.884142",
     "status": "completed"
    },
    "tags": []
   },
   "source": [
    "By Group"
   ]
  },
  {
   "cell_type": "code",
   "execution_count": 57,
   "id": "ec325bce",
   "metadata": {
    "execution": {
     "iopub.execute_input": "2025-07-23T14:22:26.950704Z",
     "iopub.status.busy": "2025-07-23T14:22:26.950391Z",
     "iopub.status.idle": "2025-07-23T14:22:26.962455Z",
     "shell.execute_reply": "2025-07-23T14:22:26.961758Z"
    },
    "papermill": {
     "duration": 0.036245,
     "end_time": "2025-07-23T14:22:26.964170",
     "exception": false,
     "start_time": "2025-07-23T14:22:26.927925",
     "status": "completed"
    },
    "tags": []
   },
   "outputs": [
    {
     "data": {
      "text/html": [
       "<div>\n",
       "<style scoped>\n",
       "    .dataframe tbody tr th:only-of-type {\n",
       "        vertical-align: middle;\n",
       "    }\n",
       "\n",
       "    .dataframe tbody tr th {\n",
       "        vertical-align: top;\n",
       "    }\n",
       "\n",
       "    .dataframe thead th {\n",
       "        text-align: right;\n",
       "    }\n",
       "</style>\n",
       "<table border=\"1\" class=\"dataframe\">\n",
       "  <thead>\n",
       "    <tr style=\"text-align: right;\">\n",
       "      <th></th>\n",
       "      <th>accuracy</th>\n",
       "      <th>balanced accuracy</th>\n",
       "      <th>f1</th>\n",
       "      <th>precision</th>\n",
       "      <th>false positive rate</th>\n",
       "      <th>false negative rate</th>\n",
       "      <th>selection rate</th>\n",
       "      <th>count</th>\n",
       "    </tr>\n",
       "    <tr>\n",
       "      <th>majmin</th>\n",
       "      <th></th>\n",
       "      <th></th>\n",
       "      <th></th>\n",
       "      <th></th>\n",
       "      <th></th>\n",
       "      <th></th>\n",
       "      <th></th>\n",
       "      <th></th>\n",
       "    </tr>\n",
       "  </thead>\n",
       "  <tbody>\n",
       "    <tr>\n",
       "      <th>majority</th>\n",
       "      <td>0.247564</td>\n",
       "      <td>0.561955</td>\n",
       "      <td>0.257864</td>\n",
       "      <td>0.148254</td>\n",
       "      <td>0.865367</td>\n",
       "      <td>0.010722</td>\n",
       "      <td>0.881741</td>\n",
       "      <td>69170.0</td>\n",
       "    </tr>\n",
       "    <tr>\n",
       "      <th>minority</th>\n",
       "      <td>0.152726</td>\n",
       "      <td>0.519139</td>\n",
       "      <td>0.213139</td>\n",
       "      <td>0.119348</td>\n",
       "      <td>0.957077</td>\n",
       "      <td>0.004645</td>\n",
       "      <td>0.961490</td>\n",
       "      <td>20540.0</td>\n",
       "    </tr>\n",
       "  </tbody>\n",
       "</table>\n",
       "</div>"
      ],
      "text/plain": [
       "          accuracy  balanced accuracy        f1  precision  \\\n",
       "majmin                                                       \n",
       "majority  0.247564           0.561955  0.257864   0.148254   \n",
       "minority  0.152726           0.519139  0.213139   0.119348   \n",
       "\n",
       "          false positive rate  false negative rate  selection rate    count  \n",
       "majmin                                                                       \n",
       "majority             0.865367             0.010722        0.881741  69170.0  \n",
       "minority             0.957077             0.004645        0.961490  20540.0  "
      ]
     },
     "execution_count": 57,
     "metadata": {},
     "output_type": "execute_result"
    }
   ],
   "source": [
    "metric_frame.by_group"
   ]
  },
  {
   "cell_type": "code",
   "execution_count": 58,
   "id": "a9ddbe63",
   "metadata": {
    "execution": {
     "iopub.execute_input": "2025-07-23T14:22:27.010574Z",
     "iopub.status.busy": "2025-07-23T14:22:27.010079Z",
     "iopub.status.idle": "2025-07-23T14:22:30.198123Z",
     "shell.execute_reply": "2025-07-23T14:22:30.197203Z"
    },
    "papermill": {
     "duration": 3.212182,
     "end_time": "2025-07-23T14:22:30.199608",
     "exception": false,
     "start_time": "2025-07-23T14:22:26.987426",
     "status": "completed"
    },
    "tags": []
   },
   "outputs": [
    {
     "data": {
      "text/plain": [
       "array([[<Axes: title={'center': 'accuracy'}, xlabel='majmin'>,\n",
       "        <Axes: title={'center': 'balanced accuracy'}, xlabel='majmin'>,\n",
       "        <Axes: title={'center': 'f1'}, xlabel='majmin'>],\n",
       "       [<Axes: title={'center': 'precision'}, xlabel='majmin'>,\n",
       "        <Axes: title={'center': 'false positive rate'}, xlabel='majmin'>,\n",
       "        <Axes: title={'center': 'false negative rate'}, xlabel='majmin'>],\n",
       "       [<Axes: title={'center': 'selection rate'}, xlabel='majmin'>,\n",
       "        <Axes: title={'center': 'count'}, xlabel='majmin'>,\n",
       "        <Axes: xlabel='majmin'>]], dtype=object)"
      ]
     },
     "execution_count": 58,
     "metadata": {},
     "output_type": "execute_result"
    },
    {
     "data": {
      "image/png": "[encoded data removed]",
      "text/plain": [
       "<Figure size 1200x800 with 9 Axes>"
      ]
     },
     "metadata": {},
     "output_type": "display_data"
    }
   ],
   "source": [
    "# In a graphic\n",
    "metric_frame.by_group.plot.bar(\n",
    "    subplots=True,\n",
    "    layout=[3, 3],\n",
    "    legend=False,\n",
    "    figsize=[12, 8],\n",
    "    title=\"Show all metrics\",\n",
    ")"
   ]
  },
  {
   "cell_type": "markdown",
   "id": "f57a0bac",
   "metadata": {
    "papermill": {
     "duration": 0.02279,
     "end_time": "2025-07-23T14:22:30.239313",
     "exception": false,
     "start_time": "2025-07-23T14:22:30.216523",
     "status": "completed"
    },
    "tags": []
   },
   "source": [
    "# Final Output"
   ]
  },
  {
   "cell_type": "code",
   "execution_count": 59,
   "id": "96d280a3",
   "metadata": {
    "execution": {
     "iopub.execute_input": "2025-07-23T14:22:30.292607Z",
     "iopub.status.busy": "2025-07-23T14:22:30.291862Z",
     "iopub.status.idle": "2025-07-23T14:22:30.301778Z",
     "shell.execute_reply": "2025-07-23T14:22:30.300807Z"
    },
    "papermill": {
     "duration": 0.039392,
     "end_time": "2025-07-23T14:22:30.303547",
     "exception": false,
     "start_time": "2025-07-23T14:22:30.264155",
     "status": "completed"
    },
    "tags": []
   },
   "outputs": [
    {
     "data": {
      "text/plain": [
       "4"
      ]
     },
     "execution_count": 59,
     "metadata": {},
     "output_type": "execute_result"
    }
   ],
   "source": [
    "sub_universes = universe_analysis.generate_sub_universes()\n",
    "len(sub_universes)"
   ]
  },
  {
   "cell_type": "code",
   "execution_count": 60,
   "id": "92adf7ba",
   "metadata": {
    "execution": {
     "iopub.execute_input": "2025-07-23T14:22:30.359240Z",
     "iopub.status.busy": "2025-07-23T14:22:30.358904Z",
     "iopub.status.idle": "2025-07-23T14:22:30.363396Z",
     "shell.execute_reply": "2025-07-23T14:22:30.362688Z"
    },
    "papermill": {
     "duration": 0.043109,
     "end_time": "2025-07-23T14:22:30.373699",
     "exception": false,
     "start_time": "2025-07-23T14:22:30.330590",
     "status": "completed"
    },
    "tags": []
   },
   "outputs": [],
   "source": [
    "def filter_sub_universe_data(sub_universe, org_test):\n",
    "    # Keep all rows — no filtering\n",
    "    keep_rows_mask = np.ones(org_test.shape[0], dtype=bool)\n",
    "\n",
    "    print(f\"[INFO] Keeping all rows: {keep_rows_mask.sum()} rows retained.\")\n",
    "    return keep_rows_mask"
   ]
  },
  {
   "cell_type": "code",
   "execution_count": 61,
   "id": "4a759155",
   "metadata": {
    "execution": {
     "iopub.execute_input": "2025-07-23T14:22:30.428811Z",
     "iopub.status.busy": "2025-07-23T14:22:30.428275Z",
     "iopub.status.idle": "2025-07-23T14:22:42.672823Z",
     "shell.execute_reply": "2025-07-23T14:22:42.671517Z"
    },
    "papermill": {
     "duration": 12.27544,
     "end_time": "2025-07-23T14:22:42.674420",
     "exception": false,
     "start_time": "2025-07-23T14:22:30.398980",
     "status": "completed"
    },
    "tags": []
   },
   "outputs": [
    {
     "name": "stdout",
     "output_type": "stream",
     "text": [
      "Stopping execution_time clock.\n",
      "[INFO] Keeping all rows: 89710 rows retained.\n"
     ]
    },
    {
     "name": "stdout",
     "output_type": "stream",
     "text": [
      "[INFO] Keeping all rows: 89710 rows retained.\n"
     ]
    },
    {
     "name": "stdout",
     "output_type": "stream",
     "text": [
      "[INFO] Keeping all rows: 89710 rows retained.\n"
     ]
    },
    {
     "name": "stdout",
     "output_type": "stream",
     "text": [
      "[INFO] Keeping all rows: 89710 rows retained.\n"
     ]
    },
    {
     "data": {
      "text/html": [
       "<div>\n",
       "<style scoped>\n",
       "    .dataframe tbody tr th:only-of-type {\n",
       "        vertical-align: middle;\n",
       "    }\n",
       "\n",
       "    .dataframe tbody tr th {\n",
       "        vertical-align: top;\n",
       "    }\n",
       "\n",
       "    .dataframe thead th {\n",
       "        text-align: right;\n",
       "    }\n",
       "</style>\n",
       "<table border=\"1\" class=\"dataframe\">\n",
       "  <thead>\n",
       "    <tr style=\"text-align: right;\">\n",
       "      <th></th>\n",
       "      <th>run_no</th>\n",
       "      <th>universe_id</th>\n",
       "      <th>universe_settings</th>\n",
       "      <th>execution_time</th>\n",
       "      <th>test_size_n</th>\n",
       "      <th>test_size_frac</th>\n",
       "      <th>fair_main_equalized_odds_difference</th>\n",
       "      <th>fair_main_equalized_odds_ratio</th>\n",
       "      <th>fair_main_demographic_parity_difference</th>\n",
       "      <th>fair_main_demographic_parity_ratio</th>\n",
       "      <th>...</th>\n",
       "      <th>perf_grp_precision_0</th>\n",
       "      <th>perf_grp_precision_1</th>\n",
       "      <th>perf_grp_false positive rate_0</th>\n",
       "      <th>perf_grp_false positive rate_1</th>\n",
       "      <th>perf_grp_false negative rate_0</th>\n",
       "      <th>perf_grp_false negative rate_1</th>\n",
       "      <th>perf_grp_selection rate_0</th>\n",
       "      <th>perf_grp_selection rate_1</th>\n",
       "      <th>perf_grp_count_0</th>\n",
       "      <th>perf_grp_count_1</th>\n",
       "    </tr>\n",
       "  </thead>\n",
       "  <tbody>\n",
       "    <tr>\n",
       "      <th>0</th>\n",
       "      <td>8</td>\n",
       "      <td>6f4d1096d5ebe29e8f50609a646a3d7d</td>\n",
       "      <td>{\"cutoff\": \"quantile_0.1\", \"eval_fairness_grou...</td>\n",
       "      <td>26.233216</td>\n",
       "      <td>89710</td>\n",
       "      <td>1.0</td>\n",
       "      <td>0.09171</td>\n",
       "      <td>0.904177</td>\n",
       "      <td>0.079749</td>\n",
       "      <td>0.917057</td>\n",
       "      <td>...</td>\n",
       "      <td>NaN</td>\n",
       "      <td>NaN</td>\n",
       "      <td>NaN</td>\n",
       "      <td>NaN</td>\n",
       "      <td>NaN</td>\n",
       "      <td>NaN</td>\n",
       "      <td>NaN</td>\n",
       "      <td>NaN</td>\n",
       "      <td>NaN</td>\n",
       "      <td>NaN</td>\n",
       "    </tr>\n",
       "    <tr>\n",
       "      <th>0</th>\n",
       "      <td>8</td>\n",
       "      <td>6f4d1096d5ebe29e8f50609a646a3d7d</td>\n",
       "      <td>{\"cutoff\": \"quantile_0.1\", \"eval_fairness_grou...</td>\n",
       "      <td>26.233216</td>\n",
       "      <td>89710</td>\n",
       "      <td>1.0</td>\n",
       "      <td>0.09171</td>\n",
       "      <td>0.904177</td>\n",
       "      <td>0.079749</td>\n",
       "      <td>0.917057</td>\n",
       "      <td>...</td>\n",
       "      <td>0.119348</td>\n",
       "      <td>0.148254</td>\n",
       "      <td>0.957077</td>\n",
       "      <td>0.865367</td>\n",
       "      <td>0.004645</td>\n",
       "      <td>0.010722</td>\n",
       "      <td>0.961490</td>\n",
       "      <td>0.881741</td>\n",
       "      <td>20540.0</td>\n",
       "      <td>69170.0</td>\n",
       "    </tr>\n",
       "    <tr>\n",
       "      <th>0</th>\n",
       "      <td>8</td>\n",
       "      <td>6f4d1096d5ebe29e8f50609a646a3d7d</td>\n",
       "      <td>{\"cutoff\": \"quantile_0.25\", \"eval_fairness_gro...</td>\n",
       "      <td>26.233216</td>\n",
       "      <td>89710</td>\n",
       "      <td>1.0</td>\n",
       "      <td>0.14227</td>\n",
       "      <td>0.828434</td>\n",
       "      <td>0.122251</td>\n",
       "      <td>0.855196</td>\n",
       "      <td>...</td>\n",
       "      <td>NaN</td>\n",
       "      <td>NaN</td>\n",
       "      <td>NaN</td>\n",
       "      <td>NaN</td>\n",
       "      <td>NaN</td>\n",
       "      <td>NaN</td>\n",
       "      <td>NaN</td>\n",
       "      <td>NaN</td>\n",
       "      <td>NaN</td>\n",
       "      <td>NaN</td>\n",
       "    </tr>\n",
       "    <tr>\n",
       "      <th>0</th>\n",
       "      <td>8</td>\n",
       "      <td>6f4d1096d5ebe29e8f50609a646a3d7d</td>\n",
       "      <td>{\"cutoff\": \"quantile_0.25\", \"eval_fairness_gro...</td>\n",
       "      <td>26.233216</td>\n",
       "      <td>89710</td>\n",
       "      <td>1.0</td>\n",
       "      <td>0.14227</td>\n",
       "      <td>0.828434</td>\n",
       "      <td>0.122251</td>\n",
       "      <td>0.855196</td>\n",
       "      <td>...</td>\n",
       "      <td>0.131019</td>\n",
       "      <td>0.174246</td>\n",
       "      <td>0.829243</td>\n",
       "      <td>0.686973</td>\n",
       "      <td>0.040541</td>\n",
       "      <td>0.047921</td>\n",
       "      <td>0.844255</td>\n",
       "      <td>0.722004</td>\n",
       "      <td>20540.0</td>\n",
       "      <td>69170.0</td>\n",
       "    </tr>\n",
       "  </tbody>\n",
       "</table>\n",
       "<p>4 rows × 50 columns</p>\n",
       "</div>"
      ],
      "text/plain": [
       "  run_no                       universe_id  \\\n",
       "0      8  6f4d1096d5ebe29e8f50609a646a3d7d   \n",
       "0      8  6f4d1096d5ebe29e8f50609a646a3d7d   \n",
       "0      8  6f4d1096d5ebe29e8f50609a646a3d7d   \n",
       "0      8  6f4d1096d5ebe29e8f50609a646a3d7d   \n",
       "\n",
       "                                   universe_settings  execution_time  \\\n",
       "0  {\"cutoff\": \"quantile_0.1\", \"eval_fairness_grou...       26.233216   \n",
       "0  {\"cutoff\": \"quantile_0.1\", \"eval_fairness_grou...       26.233216   \n",
       "0  {\"cutoff\": \"quantile_0.25\", \"eval_fairness_gro...       26.233216   \n",
       "0  {\"cutoff\": \"quantile_0.25\", \"eval_fairness_gro...       26.233216   \n",
       "\n",
       "   test_size_n  test_size_frac  fair_main_equalized_odds_difference  \\\n",
       "0        89710             1.0                              0.09171   \n",
       "0        89710             1.0                              0.09171   \n",
       "0        89710             1.0                              0.14227   \n",
       "0        89710             1.0                              0.14227   \n",
       "\n",
       "   fair_main_equalized_odds_ratio  fair_main_demographic_parity_difference  \\\n",
       "0                        0.904177                                 0.079749   \n",
       "0                        0.904177                                 0.079749   \n",
       "0                        0.828434                                 0.122251   \n",
       "0                        0.828434                                 0.122251   \n",
       "\n",
       "   fair_main_demographic_parity_ratio  ...  perf_grp_precision_0  \\\n",
       "0                            0.917057  ...                   NaN   \n",
       "0                            0.917057  ...              0.119348   \n",
       "0                            0.855196  ...                   NaN   \n",
       "0                            0.855196  ...              0.131019   \n",
       "\n",
       "   perf_grp_precision_1  perf_grp_false positive rate_0  \\\n",
       "0                   NaN                             NaN   \n",
       "0              0.148254                        0.957077   \n",
       "0                   NaN                             NaN   \n",
       "0              0.174246                        0.829243   \n",
       "\n",
       "   perf_grp_false positive rate_1  perf_grp_false negative rate_0  \\\n",
       "0                             NaN                             NaN   \n",
       "0                        0.865367                        0.004645   \n",
       "0                             NaN                             NaN   \n",
       "0                        0.686973                        0.040541   \n",
       "\n",
       "   perf_grp_false negative rate_1  perf_grp_selection rate_0  \\\n",
       "0                             NaN                        NaN   \n",
       "0                        0.010722                   0.961490   \n",
       "0                             NaN                        NaN   \n",
       "0                        0.047921                   0.844255   \n",
       "\n",
       "   perf_grp_selection rate_1  perf_grp_count_0  perf_grp_count_1  \n",
       "0                        NaN               NaN               NaN  \n",
       "0                   0.881741           20540.0           69170.0  \n",
       "0                        NaN               NaN               NaN  \n",
       "0                   0.722004           20540.0           69170.0  \n",
       "\n",
       "[4 rows x 50 columns]"
      ]
     },
     "execution_count": 61,
     "metadata": {},
     "output_type": "execute_result"
    }
   ],
   "source": [
    "final_output = universe_analysis.generate_final_output(\n",
    "    y_pred_prob=probs_test,\n",
    "    y_test=y_true,\n",
    "    org_test=org_test,\n",
    "    filter_data=filter_sub_universe_data,\n",
    "    cp_metrics_df=cp_metrics_df,\n",
    "    save=True,\n",
    ")\n",
    "final_output"
   ]
  },
  {
   "cell_type": "code",
   "execution_count": null,
   "id": "721ff514-cb11-46f8-b6fc-50392f74b5cb",
   "metadata": {
    "papermill": {
     "duration": 0.014566,
     "end_time": "2025-07-23T14:22:42.706023",
     "exception": false,
     "start_time": "2025-07-23T14:22:42.691457",
     "status": "completed"
    },
    "tags": []
   },
   "outputs": [],
   "source": []
  }
 ],
 "metadata": {
  "celltoolbar": "Tags",
  "kernelspec": {
   "display_name": "Python (CMA Fairness)",
   "language": "python",
   "name": "cma_fair_env"
  },
  "language_info": {
   "codemirror_mode": {
    "name": "ipython",
    "version": 3
   },
   "file_extension": ".py",
   "mimetype": "text/x-python",
   "name": "python",
   "nbconvert_exporter": "python",
   "pygments_lexer": "ipython3",
   "version": "3.10.12"
  },
  "papermill": {
   "default_parameters": {},
   "duration": 46.508241,
   "end_time": "2025-07-23T14:22:43.438913",
   "environment_variables": {},
   "exception": null,
   "input_path": "universe_analysis.ipynb",
   "output_path": "output/runs/8/notebooks/m_8-6f4d1096d5ebe29e8f50609a646a3d7d.ipynb",
   "parameters": {
    "output_dir": "output",
    "run_no": "8",
    "seed": "2023",
    "universe": "{\"cutoff\": [\"quantile_0.1\", \"quantile_0.25\"], \"eval_fairness_grouping\": [\"majority-minority\", \"nationality-all\"], \"exclude_features\": \"sex\", \"exclude_subgroups\": \"keep-all\", \"model\": \"logreg\", \"scale\": \"scale\"}",
    "universe_id": "6f4d1096d5ebe29e8f50609a646a3d7d"
   },
   "start_time": "2025-07-23T14:21:56.930672",
   "version": "2.6.0"
  }
 },
 "nbformat": 4,
 "nbformat_minor": 5
}