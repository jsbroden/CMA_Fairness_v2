{
 "cells": [
  {
   "cell_type": "code",
   "execution_count": 1,
   "id": "f159f837-637b-42ba-96b5-ec9a68c44524",
   "metadata": {
    "execution": {
     "iopub.execute_input": "2025-07-23T14:23:24.027369Z",
     "iopub.status.busy": "2025-07-23T14:23:24.026841Z",
     "iopub.status.idle": "2025-07-23T14:23:24.042064Z",
     "shell.execute_reply": "2025-07-23T14:23:24.041026Z"
    },
    "papermill": {
     "duration": 0.035732,
     "end_time": "2025-07-23T14:23:24.043852",
     "exception": false,
     "start_time": "2025-07-23T14:23:24.008120",
     "status": "completed"
    },
    "tags": []
   },
   "outputs": [
    {
     "name": "stdout",
     "output_type": "stream",
     "text": [
      "/dss/dsshome1/0C/ra93lal2/cma/CMA_Fairness_v2\n"
     ]
    },
    {
     "name": "stderr",
     "output_type": "stream",
     "text": [
      "/dss/dsshome1/0C/ra93lal2/.local/share/virtualenvs/CMA_Fairness_v2-3j10GkSs/lib/python3.10/site-packages/IPython/core/magics/osm.py:393: UserWarning: This is now an optional IPython functionality, using bookmarks requires you to install the `pickleshare` library.\n",
      "  bkms = self.shell.db.get('bookmarks', {})\n",
      "/dss/dsshome1/0C/ra93lal2/.local/share/virtualenvs/CMA_Fairness_v2-3j10GkSs/lib/python3.10/site-packages/IPython/core/magics/osm.py:417: UserWarning: This is now an optional IPython functionality, setting dhist requires you to install the `pickleshare` library.\n",
      "  self.shell.db['dhist'] = compress_dhist(dhist)[-100:]\n"
     ]
    }
   ],
   "source": [
    "%cd ~/cma/CMA_Fairness_v2"
   ]
  },
  {
   "cell_type": "markdown",
   "id": "de2603b9",
   "metadata": {
    "papermill": {
     "duration": 0.017435,
     "end_time": "2025-07-23T14:23:24.079775",
     "exception": false,
     "start_time": "2025-07-23T14:23:24.062340",
     "status": "completed"
    },
    "tags": []
   },
   "source": [
    "The following cell holds the definition of our parameters, these values can be overriden by rendering the with e.g. the following command:\n",
    "\n",
    "papermill -p alpha 0.2 -p ratio 0.3 universe_analysis.ipynb output/test_run.ipynb"
   ]
  },
  {
   "cell_type": "code",
   "execution_count": 2,
   "id": "a80968a0-40bb-4fa9-85ef-2d5eefb01975",
   "metadata": {
    "execution": {
     "iopub.execute_input": "2025-07-23T14:23:24.116679Z",
     "iopub.status.busy": "2025-07-23T14:23:24.116184Z",
     "iopub.status.idle": "2025-07-23T14:23:24.122265Z",
     "shell.execute_reply": "2025-07-23T14:23:24.121275Z"
    },
    "papermill": {
     "duration": 0.027292,
     "end_time": "2025-07-23T14:23:24.124345",
     "exception": false,
     "start_time": "2025-07-23T14:23:24.097053",
     "status": "completed"
    },
    "tags": []
   },
   "outputs": [
    {
     "name": "stdout",
     "output_type": "stream",
     "text": [
      "Current working directory: /dss/dsshome1/0C/ra93lal2/cma/CMA_Fairness_v2\n"
     ]
    }
   ],
   "source": [
    "import os\n",
    "print(\"Current working directory:\", os.getcwd())"
   ]
  },
  {
   "cell_type": "code",
   "execution_count": 3,
   "id": "2dce4c03",
   "metadata": {
    "execution": {
     "iopub.execute_input": "2025-07-23T14:23:24.164105Z",
     "iopub.status.busy": "2025-07-23T14:23:24.163559Z",
     "iopub.status.idle": "2025-07-23T14:23:24.170368Z",
     "shell.execute_reply": "2025-07-23T14:23:24.169261Z"
    },
    "papermill": {
     "duration": 0.028236,
     "end_time": "2025-07-23T14:23:24.172247",
     "exception": false,
     "start_time": "2025-07-23T14:23:24.144011",
     "status": "completed"
    },
    "tags": [
     "parameters"
    ]
   },
   "outputs": [],
   "source": [
    "run_no = 0\n",
    "universe_id = \"test\"\n",
    "universe = {\n",
    "    \"scale\": \"scale\", # \"scale\", \"do-not-scale\",\n",
    "    \"model\": \"elasticnet\", # \"logreg\", \"penalized_logreg\", \"rf\", \"gbm\", \"elasticnet\"\n",
    "    \"cutoff\": [\"quantile_0.15\", \"quantile_0.30\"],\n",
    "    \"exclude_features\": \"age\", # \"none\", \"nationality\", \"sex\", \"nationality-sex\", \"age\"\n",
    "    \"exclude_subgroups\": \"keep-all\", # \"keep-all\", \"drop-non-german\"\n",
    "    #\"training_sample\": \"restricted\", # \"restricted\", \"full\"\n",
    "    \"eval_fairness_grouping\": [\"majority-minority\", \"nationality-all\"]\n",
    "}\n",
    "\n",
    "output_dir=\"./output\"\n",
    "seed=0"
   ]
  },
  {
   "cell_type": "code",
   "execution_count": 4,
   "id": "7299246c",
   "metadata": {
    "execution": {
     "iopub.execute_input": "2025-07-23T14:23:24.213444Z",
     "iopub.status.busy": "2025-07-23T14:23:24.212484Z",
     "iopub.status.idle": "2025-07-23T14:23:24.219037Z",
     "shell.execute_reply": "2025-07-23T14:23:24.217886Z"
    },
    "papermill": {
     "duration": 0.02909,
     "end_time": "2025-07-23T14:23:24.221097",
     "exception": false,
     "start_time": "2025-07-23T14:23:24.192007",
     "status": "completed"
    },
    "tags": [
     "injected-parameters"
    ]
   },
   "outputs": [],
   "source": [
    "# Parameters\n",
    "universe_id = \"93d9fafe3138a75e63086d7d04bdf2e6\"\n",
    "run_no = \"8\"\n",
    "universe = \"{\\\"cutoff\\\": [\\\"quantile_0.1\\\", \\\"quantile_0.25\\\"], \\\"eval_fairness_grouping\\\": [\\\"majority-minority\\\", \\\"nationality-all\\\"], \\\"exclude_features\\\": \\\"none\\\", \\\"exclude_subgroups\\\": \\\"keep-all\\\", \\\"model\\\": \\\"rf\\\", \\\"scale\\\": \\\"scale\\\"}\"\n",
    "output_dir = \"output\"\n",
    "seed = \"2023\"\n"
   ]
  },
  {
   "cell_type": "code",
   "execution_count": 5,
   "id": "1650acaf",
   "metadata": {
    "execution": {
     "iopub.execute_input": "2025-07-23T14:23:24.262045Z",
     "iopub.status.busy": "2025-07-23T14:23:24.261164Z",
     "iopub.status.idle": "2025-07-23T14:23:24.266950Z",
     "shell.execute_reply": "2025-07-23T14:23:24.265795Z"
    },
    "papermill": {
     "duration": 0.028055,
     "end_time": "2025-07-23T14:23:24.268845",
     "exception": false,
     "start_time": "2025-07-23T14:23:24.240790",
     "status": "completed"
    },
    "tags": []
   },
   "outputs": [],
   "source": [
    "import json\n",
    "# Parse universe into dict if it is passed as a string\n",
    "if isinstance(universe, str):\n",
    "    universe = json.loads(universe)"
   ]
  },
  {
   "cell_type": "code",
   "execution_count": 6,
   "id": "16620c48",
   "metadata": {
    "execution": {
     "iopub.execute_input": "2025-07-23T14:23:24.309355Z",
     "iopub.status.busy": "2025-07-23T14:23:24.308611Z",
     "iopub.status.idle": "2025-07-23T14:23:24.359194Z",
     "shell.execute_reply": "2025-07-23T14:23:24.358138Z"
    },
    "papermill": {
     "duration": 0.072762,
     "end_time": "2025-07-23T14:23:24.361139",
     "exception": false,
     "start_time": "2025-07-23T14:23:24.288377",
     "status": "completed"
    },
    "tags": []
   },
   "outputs": [],
   "source": [
    "# Auto-reload the custom package\n",
    "%load_ext autoreload\n",
    "%autoreload 1\n",
    "%aimport fairness_multiverse"
   ]
  },
  {
   "cell_type": "code",
   "execution_count": 7,
   "id": "01c5c9f3",
   "metadata": {
    "execution": {
     "iopub.execute_input": "2025-07-23T14:23:24.401890Z",
     "iopub.status.busy": "2025-07-23T14:23:24.401333Z",
     "iopub.status.idle": "2025-07-23T14:23:26.581997Z",
     "shell.execute_reply": "2025-07-23T14:23:26.580837Z"
    },
    "papermill": {
     "duration": 2.204134,
     "end_time": "2025-07-23T14:23:26.584537",
     "exception": false,
     "start_time": "2025-07-23T14:23:24.380403",
     "status": "completed"
    },
    "tags": []
   },
   "outputs": [],
   "source": [
    "from fairness_multiverse.universe import UniverseAnalysis\n",
    "\n",
    "universe_analysis = UniverseAnalysis(\n",
    "    run_no = run_no,\n",
    "    universe_id = universe_id,\n",
    "    universe = universe,\n",
    "    output_dir=output_dir,\n",
    ")"
   ]
  },
  {
   "cell_type": "code",
   "execution_count": 8,
   "id": "106241f5",
   "metadata": {
    "execution": {
     "iopub.execute_input": "2025-07-23T14:23:26.630352Z",
     "iopub.status.busy": "2025-07-23T14:23:26.629452Z",
     "iopub.status.idle": "2025-07-23T14:23:26.638699Z",
     "shell.execute_reply": "2025-07-23T14:23:26.637125Z"
    },
    "papermill": {
     "duration": 0.035648,
     "end_time": "2025-07-23T14:23:26.641313",
     "exception": false,
     "start_time": "2025-07-23T14:23:26.605665",
     "status": "completed"
    },
    "tags": []
   },
   "outputs": [
    {
     "name": "stdout",
     "output_type": "stream",
     "text": [
      "Using Seed: 2023\n"
     ]
    }
   ],
   "source": [
    "import numpy as np\n",
    "parsed_seed = int(seed)\n",
    "np.random.seed(parsed_seed)\n",
    "print(f\"Using Seed: {parsed_seed}\")"
   ]
  },
  {
   "cell_type": "markdown",
   "id": "e0ebdc57",
   "metadata": {
    "papermill": {
     "duration": 0.022291,
     "end_time": "2025-07-23T14:23:26.685319",
     "exception": false,
     "start_time": "2025-07-23T14:23:26.663028",
     "status": "completed"
    },
    "tags": []
   },
   "source": [
    "# Loading Data"
   ]
  },
  {
   "cell_type": "markdown",
   "id": "681925a3",
   "metadata": {
    "papermill": {
     "duration": 0.02114,
     "end_time": "2025-07-23T14:23:26.727975",
     "exception": false,
     "start_time": "2025-07-23T14:23:26.706835",
     "status": "completed"
    },
    "tags": []
   },
   "source": [
    "Load siab_train, siab_test, siab_calib and/or \n",
    "load siab_train_features, siab_train_labels"
   ]
  },
  {
   "cell_type": "code",
   "execution_count": 9,
   "id": "f0496b8a",
   "metadata": {
    "execution": {
     "iopub.execute_input": "2025-07-23T14:23:26.774563Z",
     "iopub.status.busy": "2025-07-23T14:23:26.773500Z",
     "iopub.status.idle": "2025-07-23T14:23:26.781039Z",
     "shell.execute_reply": "2025-07-23T14:23:26.779695Z"
    },
    "papermill": {
     "duration": 0.03368,
     "end_time": "2025-07-23T14:23:26.783548",
     "exception": false,
     "start_time": "2025-07-23T14:23:26.749868",
     "status": "completed"
    },
    "tags": []
   },
   "outputs": [],
   "source": [
    "# Do I need to load siab? Delete this cell?\n",
    "\n",
    "#from pathlib import Path\n",
    "#import pandas as pd\n",
    "#\n",
    "## File paths\n",
    "#raw_file = Path(\"data/raw/siab.csv\")\n",
    "#cache_file = Path(\"data/siab_cached.csv.gz\")\n",
    "#\n",
    "## Ensure cache directory exists\n",
    "#cache_file.parent.mkdir(parents=True, exist_ok=True)\n",
    "#\n",
    "## Load with simple caching\n",
    "#if cache_file.exists():\n",
    "#    print(f\"Loading SIAB data from cache: {cache_file}\")\n",
    "#    siab = pd.read_csv(cache_file, compression='gzip')\n",
    "#else:\n",
    "#    print(f\"Cache not found. Reading raw SIAB data: {raw_file}\")\n",
    "#    siab = pd.read_csv(raw_file)\n",
    "#    siab.to_csv(cache_file, index=False, compression='gzip')\n",
    "#    print(f\"Cached SIAB data to: {cache_file}\")\n",
    "#\n",
    "## Now use `siab` DataFrame as needed\n",
    "#print(siab.shape)\n"
   ]
  },
  {
   "cell_type": "code",
   "execution_count": 10,
   "id": "a0edb063",
   "metadata": {
    "execution": {
     "iopub.execute_input": "2025-07-23T14:23:26.831170Z",
     "iopub.status.busy": "2025-07-23T14:23:26.830562Z",
     "iopub.status.idle": "2025-07-23T14:23:28.317673Z",
     "shell.execute_reply": "2025-07-23T14:23:28.316482Z"
    },
    "papermill": {
     "duration": 1.51339,
     "end_time": "2025-07-23T14:23:28.319942",
     "exception": false,
     "start_time": "2025-07-23T14:23:26.806552",
     "status": "completed"
    },
    "tags": []
   },
   "outputs": [],
   "source": [
    "import pandas as pd\n",
    "\n",
    "X_train = pd.read_csv(\"./data/X_train.csv\")\n",
    "y_train = pd.read_csv(\"./data/y_train.csv\")"
   ]
  },
  {
   "cell_type": "code",
   "execution_count": 11,
   "id": "63d08085",
   "metadata": {
    "execution": {
     "iopub.execute_input": "2025-07-23T14:23:28.367396Z",
     "iopub.status.busy": "2025-07-23T14:23:28.366869Z",
     "iopub.status.idle": "2025-07-23T14:23:30.091198Z",
     "shell.execute_reply": "2025-07-23T14:23:30.090072Z"
    },
    "papermill": {
     "duration": 1.750622,
     "end_time": "2025-07-23T14:23:30.092945",
     "exception": false,
     "start_time": "2025-07-23T14:23:28.342323",
     "status": "completed"
    },
    "tags": []
   },
   "outputs": [],
   "source": [
    "X_test = pd.read_csv(\"./data/X_test.csv\")\n",
    "y_true = pd.read_csv(\"./data/y_test.csv\")"
   ]
  },
  {
   "cell_type": "code",
   "execution_count": 12,
   "id": "98a8d0fa-1d3d-4ed8-bb2c-281470e24add",
   "metadata": {
    "execution": {
     "iopub.execute_input": "2025-07-23T14:23:30.129391Z",
     "iopub.status.busy": "2025-07-23T14:23:30.128624Z",
     "iopub.status.idle": "2025-07-23T14:23:31.684708Z",
     "shell.execute_reply": "2025-07-23T14:23:31.679727Z"
    },
    "papermill": {
     "duration": 1.575719,
     "end_time": "2025-07-23T14:23:31.687908",
     "exception": false,
     "start_time": "2025-07-23T14:23:30.112189",
     "status": "completed"
    },
    "tags": []
   },
   "outputs": [],
   "source": [
    "# Calibration data for conformal\n",
    "X_calib = pd.read_csv(\"./data/X_calib.csv\")\n",
    "y_calib = pd.read_csv(\"./data/y_calib.csv\")"
   ]
  },
  {
   "cell_type": "code",
   "execution_count": 13,
   "id": "e6c733c5",
   "metadata": {
    "execution": {
     "iopub.execute_input": "2025-07-23T14:23:31.741003Z",
     "iopub.status.busy": "2025-07-23T14:23:31.740359Z",
     "iopub.status.idle": "2025-07-23T14:23:31.884888Z",
     "shell.execute_reply": "2025-07-23T14:23:31.883253Z"
    },
    "papermill": {
     "duration": 0.172813,
     "end_time": "2025-07-23T14:23:31.887433",
     "exception": false,
     "start_time": "2025-07-23T14:23:31.714620",
     "status": "completed"
    },
    "tags": []
   },
   "outputs": [],
   "source": [
    "# Auxiliary data needed downstream in the pipeline\n",
    "\n",
    "org_train = X_train.copy()\n",
    "org_test = X_test.copy()\n",
    "org_calib = X_calib.copy()"
   ]
  },
  {
   "cell_type": "markdown",
   "id": "0a4a1b33",
   "metadata": {
    "papermill": {
     "duration": 0.022311,
     "end_time": "2025-07-23T14:23:31.932139",
     "exception": false,
     "start_time": "2025-07-23T14:23:31.909828",
     "status": "completed"
    },
    "tags": []
   },
   "source": [
    "# Preprocessing Data"
   ]
  },
  {
   "cell_type": "code",
   "execution_count": 14,
   "id": "ca879031",
   "metadata": {
    "execution": {
     "iopub.execute_input": "2025-07-23T14:23:31.980244Z",
     "iopub.status.busy": "2025-07-23T14:23:31.979434Z",
     "iopub.status.idle": "2025-07-23T14:23:31.988196Z",
     "shell.execute_reply": "2025-07-23T14:23:31.986926Z"
    },
    "papermill": {
     "duration": 0.035849,
     "end_time": "2025-07-23T14:23:31.990677",
     "exception": false,
     "start_time": "2025-07-23T14:23:31.954828",
     "status": "completed"
    },
    "tags": []
   },
   "outputs": [],
   "source": [
    "# EXCLUDE PROTECTED FEATURES\n",
    "# ----------------------\n",
    "# \"exclude_features\": \"none\", # \"nationality\", \"sex\", \"nationality-sex\"\n",
    "\n",
    "excluded_features = universe[\"exclude_features\"].split(\"-\") # split, e.g.: \"nationality-sex\" -> [\"nationality\", \"sex\"]\n",
    "excluded_features_dictionary = {\n",
    "    \"nationality\": [\"maxdeutsch1\", \"maxdeutsch.Missing.\"],\n",
    "    \"sex\": [\"frau1\"],\n",
    "    \"age\": [\"age\"],\n",
    "}\n"
   ]
  },
  {
   "cell_type": "code",
   "execution_count": 15,
   "id": "b745ac60",
   "metadata": {
    "execution": {
     "iopub.execute_input": "2025-07-23T14:23:32.037288Z",
     "iopub.status.busy": "2025-07-23T14:23:32.036369Z",
     "iopub.status.idle": "2025-07-23T14:23:32.044079Z",
     "shell.execute_reply": "2025-07-23T14:23:32.042720Z"
    },
    "papermill": {
     "duration": 0.033418,
     "end_time": "2025-07-23T14:23:32.046379",
     "exception": false,
     "start_time": "2025-07-23T14:23:32.012961",
     "status": "completed"
    },
    "tags": []
   },
   "outputs": [],
   "source": [
    "# Code nice names to column names\n",
    "\n",
    "excluded_features_columns = [\n",
    "    excluded_features_dictionary[f] for f in excluded_features if len(f) > 0 and f != \"none\"\n",
    "]"
   ]
  },
  {
   "cell_type": "code",
   "execution_count": 16,
   "id": "f84f73a2",
   "metadata": {
    "execution": {
     "iopub.execute_input": "2025-07-23T14:23:32.094272Z",
     "iopub.status.busy": "2025-07-23T14:23:32.093113Z",
     "iopub.status.idle": "2025-07-23T14:23:32.101392Z",
     "shell.execute_reply": "2025-07-23T14:23:32.099990Z"
    },
    "papermill": {
     "duration": 0.035535,
     "end_time": "2025-07-23T14:23:32.104026",
     "exception": false,
     "start_time": "2025-07-23T14:23:32.068491",
     "status": "completed"
    },
    "tags": []
   },
   "outputs": [],
   "source": [
    "from utils import flatten_once\n",
    "\n",
    "excluded_features_columns = flatten_once(excluded_features_columns)"
   ]
  },
  {
   "cell_type": "code",
   "execution_count": 17,
   "id": "884dea22",
   "metadata": {
    "execution": {
     "iopub.execute_input": "2025-07-23T14:23:32.152251Z",
     "iopub.status.busy": "2025-07-23T14:23:32.151579Z",
     "iopub.status.idle": "2025-07-23T14:23:32.159393Z",
     "shell.execute_reply": "2025-07-23T14:23:32.158065Z"
    },
    "papermill": {
     "duration": 0.03483,
     "end_time": "2025-07-23T14:23:32.161574",
     "exception": false,
     "start_time": "2025-07-23T14:23:32.126744",
     "status": "completed"
    },
    "tags": []
   },
   "outputs": [],
   "source": [
    "if len(excluded_features_columns) > 0:\n",
    "    print(f\"Dropping features: {excluded_features_columns}\")\n",
    "    X_train.drop(excluded_features_columns, axis=1, inplace=True)"
   ]
  },
  {
   "cell_type": "code",
   "execution_count": 18,
   "id": "95ab8b16",
   "metadata": {
    "execution": {
     "iopub.execute_input": "2025-07-23T14:23:32.210042Z",
     "iopub.status.busy": "2025-07-23T14:23:32.209102Z",
     "iopub.status.idle": "2025-07-23T14:23:32.216092Z",
     "shell.execute_reply": "2025-07-23T14:23:32.214787Z"
    },
    "papermill": {
     "duration": 0.03317,
     "end_time": "2025-07-23T14:23:32.218600",
     "exception": false,
     "start_time": "2025-07-23T14:23:32.185430",
     "status": "completed"
    },
    "tags": []
   },
   "outputs": [],
   "source": [
    "if len(excluded_features_columns) > 0:\n",
    "    print(f\"Dropping features: {excluded_features_columns}\")\n",
    "    X_test.drop(excluded_features_columns, axis=1, inplace=True)"
   ]
  },
  {
   "cell_type": "code",
   "execution_count": 19,
   "id": "1853aaf5-fb9f-46cb-a2b5-8ea4ae2237e4",
   "metadata": {
    "execution": {
     "iopub.execute_input": "2025-07-23T14:23:32.267586Z",
     "iopub.status.busy": "2025-07-23T14:23:32.266735Z",
     "iopub.status.idle": "2025-07-23T14:23:32.275015Z",
     "shell.execute_reply": "2025-07-23T14:23:32.273593Z"
    },
    "papermill": {
     "duration": 0.03536,
     "end_time": "2025-07-23T14:23:32.277561",
     "exception": false,
     "start_time": "2025-07-23T14:23:32.242201",
     "status": "completed"
    },
    "tags": []
   },
   "outputs": [],
   "source": [
    "if len(excluded_features_columns) > 0:\n",
    "    print(f\"Dropping features: {excluded_features_columns}\")\n",
    "    X_calib.drop(excluded_features_columns, axis=1, inplace=True)"
   ]
  },
  {
   "cell_type": "code",
   "execution_count": 20,
   "id": "76c4dc6d",
   "metadata": {
    "execution": {
     "iopub.execute_input": "2025-07-23T14:23:32.325184Z",
     "iopub.status.busy": "2025-07-23T14:23:32.324018Z",
     "iopub.status.idle": "2025-07-23T14:23:32.331337Z",
     "shell.execute_reply": "2025-07-23T14:23:32.330005Z"
    },
    "papermill": {
     "duration": 0.033941,
     "end_time": "2025-07-23T14:23:32.333882",
     "exception": false,
     "start_time": "2025-07-23T14:23:32.299941",
     "status": "completed"
    },
    "tags": []
   },
   "outputs": [],
   "source": [
    "# EXCLUDE CERTAIN SUBGROUPS\n",
    "# ----------------------\n",
    "\n",
    "mode = universe.get(\"exclude_subgroups\", \"keep-all\") \n",
    "# Fetches the exclude_subgroups setting from the universe dict.\n",
    "# Defaults to \"keep-all\" if the key is missing."
   ]
  },
  {
   "cell_type": "code",
   "execution_count": 21,
   "id": "21994072",
   "metadata": {
    "execution": {
     "iopub.execute_input": "2025-07-23T14:23:32.383072Z",
     "iopub.status.busy": "2025-07-23T14:23:32.382153Z",
     "iopub.status.idle": "2025-07-23T14:23:32.390562Z",
     "shell.execute_reply": "2025-07-23T14:23:32.389664Z"
    },
    "papermill": {
     "duration": 0.034932,
     "end_time": "2025-07-23T14:23:32.392254",
     "exception": false,
     "start_time": "2025-07-23T14:23:32.357322",
     "status": "completed"
    },
    "tags": []
   },
   "outputs": [],
   "source": [
    "if mode == \"keep-all\":\n",
    "    keep_mask = pd.Series(True, index=org_train.index)\n",
    "\n",
    "# org_train contains the original feature columns from features_org (in Simson)\n",
    "# features_org contains unprocessed features, for me X_train at beginning ???\n",
    "# For keep-all, creates a boolean Series (keep_mask) of all True, so no rows are removed.\n",
    "\n",
    "elif mode == \"drop-non-german\":\n",
    "    keep_mask = org_train[\"maxdeutsch1\"] == 1 # ??? what about missing values?\n",
    "\n",
    "else:\n",
    "    raise ValueError(f\"Unsupported mode for exclude_subgroups: {mode}\")\n"
   ]
  },
  {
   "cell_type": "code",
   "execution_count": 22,
   "id": "71651440",
   "metadata": {
    "execution": {
     "iopub.execute_input": "2025-07-23T14:23:32.415560Z",
     "iopub.status.busy": "2025-07-23T14:23:32.415006Z",
     "iopub.status.idle": "2025-07-23T14:23:32.421498Z",
     "shell.execute_reply": "2025-07-23T14:23:32.420646Z"
    },
    "papermill": {
     "duration": 0.019639,
     "end_time": "2025-07-23T14:23:32.423086",
     "exception": false,
     "start_time": "2025-07-23T14:23:32.403447",
     "status": "completed"
    },
    "tags": []
   },
   "outputs": [],
   "source": [
    "n_drop = (~keep_mask).sum() # Calculates how many rows are set to be dropped\n",
    "if n_drop > 0:\n",
    "    pct = n_drop / len(keep_mask) * 100\n",
    "    print(f\"Dropping {n_drop} rows ({pct:.2f}%) where mode='{mode}'\")"
   ]
  },
  {
   "cell_type": "code",
   "execution_count": 23,
   "id": "5fb8eee5",
   "metadata": {
    "execution": {
     "iopub.execute_input": "2025-07-23T14:23:32.446804Z",
     "iopub.status.busy": "2025-07-23T14:23:32.446257Z",
     "iopub.status.idle": "2025-07-23T14:23:32.497532Z",
     "shell.execute_reply": "2025-07-23T14:23:32.496685Z"
    },
    "papermill": {
     "duration": 0.06461,
     "end_time": "2025-07-23T14:23:32.499156",
     "exception": false,
     "start_time": "2025-07-23T14:23:32.434546",
     "status": "completed"
    },
    "tags": []
   },
   "outputs": [],
   "source": [
    "X_train = X_train[keep_mask]"
   ]
  },
  {
   "cell_type": "code",
   "execution_count": 24,
   "id": "b202bb3a",
   "metadata": {
    "execution": {
     "iopub.execute_input": "2025-07-23T14:23:32.521741Z",
     "iopub.status.busy": "2025-07-23T14:23:32.521183Z",
     "iopub.status.idle": "2025-07-23T14:23:32.528884Z",
     "shell.execute_reply": "2025-07-23T14:23:32.527959Z"
    },
    "papermill": {
     "duration": 0.02113,
     "end_time": "2025-07-23T14:23:32.530743",
     "exception": false,
     "start_time": "2025-07-23T14:23:32.509613",
     "status": "completed"
    },
    "tags": []
   },
   "outputs": [],
   "source": [
    "y_train = y_train[keep_mask]"
   ]
  },
  {
   "cell_type": "markdown",
   "id": "493e2ac3",
   "metadata": {
    "papermill": {
     "duration": 0.010498,
     "end_time": "2025-07-23T14:23:32.552231",
     "exception": false,
     "start_time": "2025-07-23T14:23:32.541733",
     "status": "completed"
    },
    "tags": []
   },
   "source": [
    "# Model Training"
   ]
  },
  {
   "cell_type": "code",
   "execution_count": 25,
   "id": "679e1268",
   "metadata": {
    "execution": {
     "iopub.execute_input": "2025-07-23T14:23:32.575053Z",
     "iopub.status.busy": "2025-07-23T14:23:32.574673Z",
     "iopub.status.idle": "2025-07-23T14:23:32.663828Z",
     "shell.execute_reply": "2025-07-23T14:23:32.663002Z"
    },
    "papermill": {
     "duration": 0.102649,
     "end_time": "2025-07-23T14:23:32.665480",
     "exception": false,
     "start_time": "2025-07-23T14:23:32.562831",
     "status": "completed"
    },
    "tags": []
   },
   "outputs": [],
   "source": [
    "from sklearn.linear_model import LogisticRegression\n",
    "from sklearn.ensemble import GradientBoostingClassifier, RandomForestClassifier\n",
    "\n",
    "if (universe[\"model\"] == \"logreg\"):\n",
    "    model = LogisticRegression() #penalty=\"none\") #, solver=\"newton-cg\", max_iter=1) # include random_state=19 ?\n",
    "elif (universe[\"model\"] == \"penalized_logreg\"):\n",
    "    model = LogisticRegression(penalty=\"l2\", C=1.0) #, solver=\"newton-cg\", max_iter=1)\n",
    "elif (universe[\"model\"] == \"rf\"):\n",
    "    model = RandomForestClassifier(n_estimators=100, n_jobs=-1)\n",
    "elif (universe[\"model\"] == \"gbm\"):\n",
    "    model = GradientBoostingClassifier()\n",
    "elif (universe[\"model\"] == \"elasticnet\"):\n",
    "    model = LogisticRegression(penalty = 'elasticnet', solver = 'saga', l1_ratio = 0.5, max_iter=5000) # which solver to use?\n",
    "else:\n",
    "    raise \"Unsupported universe.model\""
   ]
  },
  {
   "cell_type": "code",
   "execution_count": 26,
   "id": "0cc8f744",
   "metadata": {
    "execution": {
     "iopub.execute_input": "2025-07-23T14:23:32.688464Z",
     "iopub.status.busy": "2025-07-23T14:23:32.687905Z",
     "iopub.status.idle": "2025-07-23T14:23:32.694408Z",
     "shell.execute_reply": "2025-07-23T14:23:32.693526Z"
    },
    "papermill": {
     "duration": 0.019895,
     "end_time": "2025-07-23T14:23:32.696084",
     "exception": false,
     "start_time": "2025-07-23T14:23:32.676189",
     "status": "completed"
    },
    "tags": []
   },
   "outputs": [],
   "source": [
    "import numpy as np\n",
    "from sklearn.pipeline import Pipeline\n",
    "from sklearn.preprocessing import StandardScaler\n",
    "\n",
    "model = Pipeline([\n",
    "    #(\"continuous_processor\", continuous_processor),\n",
    "    #(\"categorical_preprocessor\", categorical_preprocessor),\n",
    "    (\"scale\", StandardScaler() if universe[\"scale\"] == \"scale\" else None), \n",
    "    (\"model\", model),\n",
    "])"
   ]
  },
  {
   "cell_type": "code",
   "execution_count": 27,
   "id": "9442c04d",
   "metadata": {
    "execution": {
     "iopub.execute_input": "2025-07-23T14:23:32.719695Z",
     "iopub.status.busy": "2025-07-23T14:23:32.719144Z",
     "iopub.status.idle": "2025-07-23T14:23:43.918681Z",
     "shell.execute_reply": "2025-07-23T14:23:43.917551Z"
    },
    "papermill": {
     "duration": 11.213001,
     "end_time": "2025-07-23T14:23:43.920437",
     "exception": false,
     "start_time": "2025-07-23T14:23:32.707436",
     "status": "completed"
    },
    "tags": []
   },
   "outputs": [
    {
     "data": {
      "text/html": [
       "<style>#sk-container-id-1 {color: black;background-color: white;}#sk-container-id-1 pre{padding: 0;}#sk-container-id-1 div.sk-toggleable {background-color: white;}#sk-container-id-1 label.sk-toggleable__label {cursor: pointer;display: block;width: 100%;margin-bottom: 0;padding: 0.3em;box-sizing: border-box;text-align: center;}#sk-container-id-1 label.sk-toggleable__label-arrow:before {content: \"▸\";float: left;margin-right: 0.25em;color: #696969;}#sk-container-id-1 label.sk-toggleable__label-arrow:hover:before {color: black;}#sk-container-id-1 div.sk-estimator:hover label.sk-toggleable__label-arrow:before {color: black;}#sk-container-id-1 div.sk-toggleable__content {max-height: 0;max-width: 0;overflow: hidden;text-align: left;background-color: #f0f8ff;}#sk-container-id-1 div.sk-toggleable__content pre {margin: 0.2em;color: black;border-radius: 0.25em;background-color: #f0f8ff;}#sk-container-id-1 input.sk-toggleable__control:checked~div.sk-toggleable__content {max-height: 200px;max-width: 100%;overflow: auto;}#sk-container-id-1 input.sk-toggleable__control:checked~label.sk-toggleable__label-arrow:before {content: \"▾\";}#sk-container-id-1 div.sk-estimator input.sk-toggleable__control:checked~label.sk-toggleable__label {background-color: #d4ebff;}#sk-container-id-1 div.sk-label input.sk-toggleable__control:checked~label.sk-toggleable__label {background-color: #d4ebff;}#sk-container-id-1 input.sk-hidden--visually {border: 0;clip: rect(1px 1px 1px 1px);clip: rect(1px, 1px, 1px, 1px);height: 1px;margin: -1px;overflow: hidden;padding: 0;position: absolute;width: 1px;}#sk-container-id-1 div.sk-estimator {font-family: monospace;background-color: #f0f8ff;border: 1px dotted black;border-radius: 0.25em;box-sizing: border-box;margin-bottom: 0.5em;}#sk-container-id-1 div.sk-estimator:hover {background-color: #d4ebff;}#sk-container-id-1 div.sk-parallel-item::after {content: \"\";width: 100%;border-bottom: 1px solid gray;flex-grow: 1;}#sk-container-id-1 div.sk-label:hover label.sk-toggleable__label {background-color: #d4ebff;}#sk-container-id-1 div.sk-serial::before {content: \"\";position: absolute;border-left: 1px solid gray;box-sizing: border-box;top: 0;bottom: 0;left: 50%;z-index: 0;}#sk-container-id-1 div.sk-serial {display: flex;flex-direction: column;align-items: center;background-color: white;padding-right: 0.2em;padding-left: 0.2em;position: relative;}#sk-container-id-1 div.sk-item {position: relative;z-index: 1;}#sk-container-id-1 div.sk-parallel {display: flex;align-items: stretch;justify-content: center;background-color: white;position: relative;}#sk-container-id-1 div.sk-item::before, #sk-container-id-1 div.sk-parallel-item::before {content: \"\";position: absolute;border-left: 1px solid gray;box-sizing: border-box;top: 0;bottom: 0;left: 50%;z-index: -1;}#sk-container-id-1 div.sk-parallel-item {display: flex;flex-direction: column;z-index: 1;position: relative;background-color: white;}#sk-container-id-1 div.sk-parallel-item:first-child::after {align-self: flex-end;width: 50%;}#sk-container-id-1 div.sk-parallel-item:last-child::after {align-self: flex-start;width: 50%;}#sk-container-id-1 div.sk-parallel-item:only-child::after {width: 0;}#sk-container-id-1 div.sk-dashed-wrapped {border: 1px dashed gray;margin: 0 0.4em 0.5em 0.4em;box-sizing: border-box;padding-bottom: 0.4em;background-color: white;}#sk-container-id-1 div.sk-label label {font-family: monospace;font-weight: bold;display: inline-block;line-height: 1.2em;}#sk-container-id-1 div.sk-label-container {text-align: center;}#sk-container-id-1 div.sk-container {/* jupyter's `normalize.less` sets `[hidden] { display: none; }` but bootstrap.min.css set `[hidden] { display: none !important; }` so we also need the `!important` here to be able to override the default hidden behavior on the sphinx rendered scikit-learn.org. See: https://github.com/scikit-learn/scikit-learn/issues/21755 */display: inline-block !important;position: relative;}#sk-container-id-1 div.sk-text-repr-fallback {display: none;}</style><div id=\"sk-container-id-1\" class=\"sk-top-container\"><div class=\"sk-text-repr-fallback\"><pre>Pipeline(steps=[(&#x27;scale&#x27;, StandardScaler()),\n",
       "                (&#x27;model&#x27;, RandomForestClassifier(n_jobs=-1))])</pre><b>In a Jupyter environment, please rerun this cell to show the HTML representation or trust the notebook. <br />On GitHub, the HTML representation is unable to render, please try loading this page with nbviewer.org.</b></div><div class=\"sk-container\" hidden><div class=\"sk-item sk-dashed-wrapped\"><div class=\"sk-label-container\"><div class=\"sk-label sk-toggleable\"><input class=\"sk-toggleable__control sk-hidden--visually\" id=\"sk-estimator-id-1\" type=\"checkbox\" ><label for=\"sk-estimator-id-1\" class=\"sk-toggleable__label sk-toggleable__label-arrow\">Pipeline</label><div class=\"sk-toggleable__content\"><pre>Pipeline(steps=[(&#x27;scale&#x27;, StandardScaler()),\n",
       "                (&#x27;model&#x27;, RandomForestClassifier(n_jobs=-1))])</pre></div></div></div><div class=\"sk-serial\"><div class=\"sk-item\"><div class=\"sk-estimator sk-toggleable\"><input class=\"sk-toggleable__control sk-hidden--visually\" id=\"sk-estimator-id-2\" type=\"checkbox\" ><label for=\"sk-estimator-id-2\" class=\"sk-toggleable__label sk-toggleable__label-arrow\">StandardScaler</label><div class=\"sk-toggleable__content\"><pre>StandardScaler()</pre></div></div></div><div class=\"sk-item\"><div class=\"sk-estimator sk-toggleable\"><input class=\"sk-toggleable__control sk-hidden--visually\" id=\"sk-estimator-id-3\" type=\"checkbox\" ><label for=\"sk-estimator-id-3\" class=\"sk-toggleable__label sk-toggleable__label-arrow\">RandomForestClassifier</label><div class=\"sk-toggleable__content\"><pre>RandomForestClassifier(n_jobs=-1)</pre></div></div></div></div></div></div></div>"
      ],
      "text/plain": [
       "Pipeline(steps=[('scale', StandardScaler()),\n",
       "                ('model', RandomForestClassifier(n_jobs=-1))])"
      ]
     },
     "execution_count": 27,
     "metadata": {},
     "output_type": "execute_result"
    }
   ],
   "source": [
    "model.fit(X_train, y_train.values.ravel())"
   ]
  },
  {
   "cell_type": "code",
   "execution_count": 28,
   "id": "af59f8c0",
   "metadata": {
    "execution": {
     "iopub.execute_input": "2025-07-23T14:23:43.962658Z",
     "iopub.status.busy": "2025-07-23T14:23:43.961881Z",
     "iopub.status.idle": "2025-07-23T14:23:43.967901Z",
     "shell.execute_reply": "2025-07-23T14:23:43.966955Z"
    },
    "papermill": {
     "duration": 0.026847,
     "end_time": "2025-07-23T14:23:43.969628",
     "exception": false,
     "start_time": "2025-07-23T14:23:43.942781",
     "status": "completed"
    },
    "tags": []
   },
   "outputs": [],
   "source": [
    "from fairness_multiverse.universe import predict_w_threshold"
   ]
  },
  {
   "cell_type": "code",
   "execution_count": 29,
   "id": "a7cf2e16",
   "metadata": {
    "execution": {
     "iopub.execute_input": "2025-07-23T14:23:44.009139Z",
     "iopub.status.busy": "2025-07-23T14:23:44.008370Z",
     "iopub.status.idle": "2025-07-23T14:23:45.504054Z",
     "shell.execute_reply": "2025-07-23T14:23:45.503040Z"
    },
    "papermill": {
     "duration": 1.517411,
     "end_time": "2025-07-23T14:23:45.505783",
     "exception": false,
     "start_time": "2025-07-23T14:23:43.988372",
     "status": "completed"
    },
    "tags": []
   },
   "outputs": [
    {
     "data": {
      "text/plain": [
       "0.8673837922193736"
      ]
     },
     "execution_count": 29,
     "metadata": {},
     "output_type": "execute_result"
    }
   ],
   "source": [
    "probs_test = model.predict_proba(X_test)\n",
    "\n",
    "'''\n",
    "Below code returns a boolean array (or binary 0/1 array depending on how it’s used) where each element \n",
    "is True if the probability of class 1 is greater than or equal to the threshold, and False otherwise.\n",
    "'''\n",
    "y_pred_default = predict_w_threshold(probs_test, 0.5)\n",
    "\n",
    "from sklearn.metrics import accuracy_score\n",
    "\n",
    "# Naive prediction\n",
    "accuracy_score(y_true = y_true, y_pred = y_pred_default)"
   ]
  },
  {
   "cell_type": "code",
   "execution_count": 30,
   "id": "081964c3",
   "metadata": {
    "execution": {
     "iopub.execute_input": "2025-07-23T14:23:45.546417Z",
     "iopub.status.busy": "2025-07-23T14:23:45.545738Z",
     "iopub.status.idle": "2025-07-23T14:23:47.030152Z",
     "shell.execute_reply": "2025-07-23T14:23:47.029159Z"
    },
    "papermill": {
     "duration": 1.505783,
     "end_time": "2025-07-23T14:23:47.032030",
     "exception": false,
     "start_time": "2025-07-23T14:23:45.526247",
     "status": "completed"
    },
    "tags": []
   },
   "outputs": [
    {
     "data": {
      "text/plain": [
       "array([0, 0, 0, ..., 0, 0, 0])"
      ]
     },
     "execution_count": 30,
     "metadata": {},
     "output_type": "execute_result"
    }
   ],
   "source": [
    "model.predict(X_test)"
   ]
  },
  {
   "cell_type": "markdown",
   "id": "56c9705b",
   "metadata": {
    "papermill": {
     "duration": 0.021405,
     "end_time": "2025-07-23T14:23:47.075473",
     "exception": false,
     "start_time": "2025-07-23T14:23:47.054068",
     "status": "completed"
    },
    "tags": []
   },
   "source": [
    "# Conformal Prediction"
   ]
  },
  {
   "cell_type": "code",
   "execution_count": 31,
   "id": "160ec6ff",
   "metadata": {
    "execution": {
     "iopub.execute_input": "2025-07-23T14:23:47.115010Z",
     "iopub.status.busy": "2025-07-23T14:23:47.114628Z",
     "iopub.status.idle": "2025-07-23T14:23:47.120324Z",
     "shell.execute_reply": "2025-07-23T14:23:47.119310Z"
    },
    "papermill": {
     "duration": 0.025195,
     "end_time": "2025-07-23T14:23:47.122107",
     "exception": false,
     "start_time": "2025-07-23T14:23:47.096912",
     "status": "completed"
    },
    "tags": []
   },
   "outputs": [],
   "source": [
    "# Miscoverage level for conformal prediction (10% allowed error rate => 90% target coverage)\n",
    "alpha = 0.1"
   ]
  },
  {
   "cell_type": "code",
   "execution_count": 32,
   "id": "eadf4555-3dd3-440e-8e35-f82a4ad9f855",
   "metadata": {
    "execution": {
     "iopub.execute_input": "2025-07-23T14:23:47.166836Z",
     "iopub.status.busy": "2025-07-23T14:23:47.165881Z",
     "iopub.status.idle": "2025-07-23T14:23:48.472053Z",
     "shell.execute_reply": "2025-07-23T14:23:48.471065Z"
    },
    "papermill": {
     "duration": 1.330283,
     "end_time": "2025-07-23T14:23:48.474175",
     "exception": false,
     "start_time": "2025-07-23T14:23:47.143892",
     "status": "completed"
    },
    "tags": []
   },
   "outputs": [],
   "source": [
    "probs_calib = model.predict_proba(X_calib)"
   ]
  },
  {
   "cell_type": "code",
   "execution_count": 33,
   "id": "2ed93547-6d5d-4983-9b36-1ecb300da49a",
   "metadata": {
    "execution": {
     "iopub.execute_input": "2025-07-23T14:23:48.518276Z",
     "iopub.status.busy": "2025-07-23T14:23:48.517790Z",
     "iopub.status.idle": "2025-07-23T14:23:48.523996Z",
     "shell.execute_reply": "2025-07-23T14:23:48.522976Z"
    },
    "papermill": {
     "duration": 0.030009,
     "end_time": "2025-07-23T14:23:48.525810",
     "exception": false,
     "start_time": "2025-07-23T14:23:48.495801",
     "status": "completed"
    },
    "tags": []
   },
   "outputs": [],
   "source": [
    "y_calib = y_calib.values.ravel().astype(int)"
   ]
  },
  {
   "cell_type": "code",
   "execution_count": 34,
   "id": "65d1320d-f588-4b38-9072-62af1ae97f7d",
   "metadata": {
    "execution": {
     "iopub.execute_input": "2025-07-23T14:23:48.569956Z",
     "iopub.status.busy": "2025-07-23T14:23:48.569608Z",
     "iopub.status.idle": "2025-07-23T14:23:48.577302Z",
     "shell.execute_reply": "2025-07-23T14:23:48.576085Z"
    },
    "papermill": {
     "duration": 0.031798,
     "end_time": "2025-07-23T14:23:48.578980",
     "exception": false,
     "start_time": "2025-07-23T14:23:48.547182",
     "status": "completed"
    },
    "tags": []
   },
   "outputs": [],
   "source": [
    "from fairness_multiverse.conformal import compute_nc_scores\n",
    "\n",
    "# Compute nonconformity scores on calibration set (1 - probability of true class)\n",
    "nc_scores = compute_nc_scores(probs_calib, y_calib)"
   ]
  },
  {
   "cell_type": "code",
   "execution_count": 35,
   "id": "df3b8ca3-53b7-43d5-9667-7c85da7aeda2",
   "metadata": {
    "execution": {
     "iopub.execute_input": "2025-07-23T14:23:48.619753Z",
     "iopub.status.busy": "2025-07-23T14:23:48.618934Z",
     "iopub.status.idle": "2025-07-23T14:23:48.626882Z",
     "shell.execute_reply": "2025-07-23T14:23:48.625819Z"
    },
    "papermill": {
     "duration": 0.030316,
     "end_time": "2025-07-23T14:23:48.628923",
     "exception": false,
     "start_time": "2025-07-23T14:23:48.598607",
     "status": "completed"
    },
    "tags": []
   },
   "outputs": [],
   "source": [
    "from fairness_multiverse.conformal import find_threshold\n",
    "\n",
    "# Find conformal threshold q_hat for the given alpha (split conformal method)\n",
    "q_hat = find_threshold(nc_scores, alpha)"
   ]
  },
  {
   "cell_type": "code",
   "execution_count": 36,
   "id": "4d29e6c1-0ef6-4aa4-b8fe-4fe79b0d033a",
   "metadata": {
    "execution": {
     "iopub.execute_input": "2025-07-23T14:23:48.670119Z",
     "iopub.status.busy": "2025-07-23T14:23:48.669456Z",
     "iopub.status.idle": "2025-07-23T14:23:48.677528Z",
     "shell.execute_reply": "2025-07-23T14:23:48.676471Z"
    },
    "papermill": {
     "duration": 0.029848,
     "end_time": "2025-07-23T14:23:48.679297",
     "exception": false,
     "start_time": "2025-07-23T14:23:48.649449",
     "status": "completed"
    },
    "tags": []
   },
   "outputs": [
    {
     "data": {
      "text/plain": [
       "0.65"
      ]
     },
     "execution_count": 36,
     "metadata": {},
     "output_type": "execute_result"
    }
   ],
   "source": [
    "q_hat"
   ]
  },
  {
   "cell_type": "code",
   "execution_count": 37,
   "id": "92460794-cdac-4be2-ba28-f28c0515a6fb",
   "metadata": {
    "execution": {
     "iopub.execute_input": "2025-07-23T14:23:48.719375Z",
     "iopub.status.busy": "2025-07-23T14:23:48.718603Z",
     "iopub.status.idle": "2025-07-23T14:23:50.887489Z",
     "shell.execute_reply": "2025-07-23T14:23:50.886540Z"
    },
    "papermill": {
     "duration": 2.191002,
     "end_time": "2025-07-23T14:23:50.889565",
     "exception": false,
     "start_time": "2025-07-23T14:23:48.698563",
     "status": "completed"
    },
    "tags": []
   },
   "outputs": [],
   "source": [
    "from fairness_multiverse.conformal import predict_conformal_sets\n",
    "\n",
    "# Generate prediction sets for each test example\n",
    "pred_sets = predict_conformal_sets(model, X_test, q_hat)"
   ]
  },
  {
   "cell_type": "code",
   "execution_count": 38,
   "id": "d90c9a65-e6db-4f5d-80cd-e68fb7e46829",
   "metadata": {
    "execution": {
     "iopub.execute_input": "2025-07-23T14:23:50.933371Z",
     "iopub.status.busy": "2025-07-23T14:23:50.932691Z",
     "iopub.status.idle": "2025-07-23T14:23:50.938446Z",
     "shell.execute_reply": "2025-07-23T14:23:50.937483Z"
    },
    "papermill": {
     "duration": 0.029753,
     "end_time": "2025-07-23T14:23:50.940181",
     "exception": false,
     "start_time": "2025-07-23T14:23:50.910428",
     "status": "completed"
    },
    "tags": []
   },
   "outputs": [],
   "source": [
    "y_true = y_true.squeeze()"
   ]
  },
  {
   "cell_type": "code",
   "execution_count": 39,
   "id": "3a58a54a-1e68-46b9-927a-df01f18aebc8",
   "metadata": {
    "execution": {
     "iopub.execute_input": "2025-07-23T14:23:50.981613Z",
     "iopub.status.busy": "2025-07-23T14:23:50.980646Z",
     "iopub.status.idle": "2025-07-23T14:23:52.000229Z",
     "shell.execute_reply": "2025-07-23T14:23:51.999240Z"
    },
    "papermill": {
     "duration": 1.042064,
     "end_time": "2025-07-23T14:23:52.002224",
     "exception": false,
     "start_time": "2025-07-23T14:23:50.960160",
     "status": "completed"
    },
    "tags": []
   },
   "outputs": [],
   "source": [
    "from fairness_multiverse.conformal import evaluate_sets\n",
    "\n",
    "# Evaluate coverage and average set size on test data\n",
    "metrics = evaluate_sets(pred_sets, y_true)"
   ]
  },
  {
   "cell_type": "code",
   "execution_count": 40,
   "id": "5ce0a5cb-201f-45a0-ade5-94c7f0bd6095",
   "metadata": {
    "execution": {
     "iopub.execute_input": "2025-07-23T14:23:52.043579Z",
     "iopub.status.busy": "2025-07-23T14:23:52.043115Z",
     "iopub.status.idle": "2025-07-23T14:23:52.050485Z",
     "shell.execute_reply": "2025-07-23T14:23:52.049521Z"
    },
    "papermill": {
     "duration": 0.029493,
     "end_time": "2025-07-23T14:23:52.052185",
     "exception": false,
     "start_time": "2025-07-23T14:23:52.022692",
     "status": "completed"
    },
    "tags": []
   },
   "outputs": [
    {
     "data": {
      "text/plain": [
       "{'coverage': 0.9156169880726787, 'avg_size': 1.1420577416118605}"
      ]
     },
     "execution_count": 40,
     "metadata": {},
     "output_type": "execute_result"
    }
   ],
   "source": [
    "metrics"
   ]
  },
  {
   "cell_type": "code",
   "execution_count": 41,
   "id": "9b9a838d-31c9-430b-ae14-12baee460d17",
   "metadata": {
    "execution": {
     "iopub.execute_input": "2025-07-23T14:23:52.095029Z",
     "iopub.status.busy": "2025-07-23T14:23:52.094342Z",
     "iopub.status.idle": "2025-07-23T14:23:52.100496Z",
     "shell.execute_reply": "2025-07-23T14:23:52.099507Z"
    },
    "papermill": {
     "duration": 0.028826,
     "end_time": "2025-07-23T14:23:52.102263",
     "exception": false,
     "start_time": "2025-07-23T14:23:52.073437",
     "status": "completed"
    },
    "tags": []
   },
   "outputs": [],
   "source": [
    "example_universe = universe.copy()\n",
    "universe_model = example_universe.get(\"model\")\n",
    "universe_exclude_features = example_universe.get(\"exclude_features\")\n",
    "universe_exclude_subgroups = example_universe.get(\"exclude_subgroups\")\n",
    "universe_scale = example_universe.get(\"scale\")"
   ]
  },
  {
   "cell_type": "code",
   "execution_count": 42,
   "id": "f4b6a8ac-9dc0-4245-8a91-5b3b5999c4f9",
   "metadata": {
    "execution": {
     "iopub.execute_input": "2025-07-23T14:23:52.142668Z",
     "iopub.status.busy": "2025-07-23T14:23:52.141896Z",
     "iopub.status.idle": "2025-07-23T14:23:52.148618Z",
     "shell.execute_reply": "2025-07-23T14:23:52.147464Z"
    },
    "papermill": {
     "duration": 0.02853,
     "end_time": "2025-07-23T14:23:52.150349",
     "exception": false,
     "start_time": "2025-07-23T14:23:52.121819",
     "status": "completed"
    },
    "tags": []
   },
   "outputs": [],
   "source": [
    "cp_metrics_dict = {\n",
    "    \"universe_id\": [universe_id],\n",
    "    \"universe_model\": [universe_model],\n",
    "    \"universe_exclude_features\": [universe_exclude_features],\n",
    "    \"universe_exclude_subgroups\": [universe_exclude_subgroups],\n",
    "    \"universe_scale\": [universe_scale],\n",
    "    \"q_hat\": [q_hat],\n",
    "    \"coverage\": [metrics[\"coverage\"]],\n",
    "    \"avg_size\": [metrics[\"avg_size\"]],\n",
    "}"
   ]
  },
  {
   "cell_type": "code",
   "execution_count": 43,
   "id": "908acbb1-0371-4915-85ca-3fa520d2efe2",
   "metadata": {
    "execution": {
     "iopub.execute_input": "2025-07-23T14:23:52.191617Z",
     "iopub.status.busy": "2025-07-23T14:23:52.191222Z",
     "iopub.status.idle": "2025-07-23T14:23:52.198969Z",
     "shell.execute_reply": "2025-07-23T14:23:52.197995Z"
    },
    "papermill": {
     "duration": 0.030308,
     "end_time": "2025-07-23T14:23:52.200747",
     "exception": false,
     "start_time": "2025-07-23T14:23:52.170439",
     "status": "completed"
    },
    "tags": []
   },
   "outputs": [
    {
     "data": {
      "text/plain": [
       "{'universe_id': ['93d9fafe3138a75e63086d7d04bdf2e6'],\n",
       " 'universe_model': ['rf'],\n",
       " 'universe_exclude_features': ['none'],\n",
       " 'universe_exclude_subgroups': ['keep-all'],\n",
       " 'universe_scale': ['scale'],\n",
       " 'q_hat': [0.65],\n",
       " 'coverage': [0.9156169880726787],\n",
       " 'avg_size': [1.1420577416118605]}"
      ]
     },
     "execution_count": 43,
     "metadata": {},
     "output_type": "execute_result"
    }
   ],
   "source": [
    "cp_metrics_dict"
   ]
  },
  {
   "cell_type": "code",
   "execution_count": 44,
   "id": "33007efc-14e9-4ec6-97ac-56a455c82265",
   "metadata": {
    "execution": {
     "iopub.execute_input": "2025-07-23T14:23:52.243593Z",
     "iopub.status.busy": "2025-07-23T14:23:52.242755Z",
     "iopub.status.idle": "2025-07-23T14:23:52.249310Z",
     "shell.execute_reply": "2025-07-23T14:23:52.248280Z"
    },
    "papermill": {
     "duration": 0.02918,
     "end_time": "2025-07-23T14:23:52.250931",
     "exception": false,
     "start_time": "2025-07-23T14:23:52.221751",
     "status": "completed"
    },
    "tags": []
   },
   "outputs": [],
   "source": [
    "cp_metrics_df = pd.DataFrame(cp_metrics_dict)"
   ]
  },
  {
   "cell_type": "code",
   "execution_count": 45,
   "id": "db12611b-57b2-4910-b9d0-355adfd6e7bf",
   "metadata": {
    "execution": {
     "iopub.execute_input": "2025-07-23T14:23:52.294470Z",
     "iopub.status.busy": "2025-07-23T14:23:52.293472Z",
     "iopub.status.idle": "2025-07-23T14:23:52.311258Z",
     "shell.execute_reply": "2025-07-23T14:23:52.310181Z"
    },
    "papermill": {
     "duration": 0.041415,
     "end_time": "2025-07-23T14:23:52.312901",
     "exception": false,
     "start_time": "2025-07-23T14:23:52.271486",
     "status": "completed"
    },
    "tags": []
   },
   "outputs": [
    {
     "data": {
      "text/html": [
       "<div>\n",
       "<style scoped>\n",
       "    .dataframe tbody tr th:only-of-type {\n",
       "        vertical-align: middle;\n",
       "    }\n",
       "\n",
       "    .dataframe tbody tr th {\n",
       "        vertical-align: top;\n",
       "    }\n",
       "\n",
       "    .dataframe thead th {\n",
       "        text-align: right;\n",
       "    }\n",
       "</style>\n",
       "<table border=\"1\" class=\"dataframe\">\n",
       "  <thead>\n",
       "    <tr style=\"text-align: right;\">\n",
       "      <th></th>\n",
       "      <th>universe_id</th>\n",
       "      <th>universe_model</th>\n",
       "      <th>universe_exclude_features</th>\n",
       "      <th>universe_exclude_subgroups</th>\n",
       "      <th>universe_scale</th>\n",
       "      <th>q_hat</th>\n",
       "      <th>coverage</th>\n",
       "      <th>avg_size</th>\n",
       "    </tr>\n",
       "  </thead>\n",
       "  <tbody>\n",
       "    <tr>\n",
       "      <th>0</th>\n",
       "      <td>93d9fafe3138a75e63086d7d04bdf2e6</td>\n",
       "      <td>rf</td>\n",
       "      <td>none</td>\n",
       "      <td>keep-all</td>\n",
       "      <td>scale</td>\n",
       "      <td>0.65</td>\n",
       "      <td>0.915617</td>\n",
       "      <td>1.142058</td>\n",
       "    </tr>\n",
       "  </tbody>\n",
       "</table>\n",
       "</div>"
      ],
      "text/plain": [
       "                        universe_id universe_model universe_exclude_features  \\\n",
       "0  93d9fafe3138a75e63086d7d04bdf2e6             rf                      none   \n",
       "\n",
       "  universe_exclude_subgroups universe_scale  q_hat  coverage  avg_size  \n",
       "0                   keep-all          scale   0.65  0.915617  1.142058  "
      ]
     },
     "execution_count": 45,
     "metadata": {},
     "output_type": "execute_result"
    }
   ],
   "source": [
    "cp_metrics_df"
   ]
  },
  {
   "cell_type": "code",
   "execution_count": 46,
   "id": "b7fbde55-a0a1-47e4-9af6-fe4a17fa8c61",
   "metadata": {
    "execution": {
     "iopub.execute_input": "2025-07-23T14:23:52.357507Z",
     "iopub.status.busy": "2025-07-23T14:23:52.356366Z",
     "iopub.status.idle": "2025-07-23T14:23:52.364160Z",
     "shell.execute_reply": "2025-07-23T14:23:52.363164Z"
    },
    "papermill": {
     "duration": 0.032356,
     "end_time": "2025-07-23T14:23:52.366103",
     "exception": false,
     "start_time": "2025-07-23T14:23:52.333747",
     "status": "completed"
    },
    "tags": []
   },
   "outputs": [],
   "source": [
    "# Conditional Coverage & looking at subgroups"
   ]
  },
  {
   "cell_type": "code",
   "execution_count": 47,
   "id": "027ae886-68dd-4141-96c7-805a5450e1ef",
   "metadata": {
    "execution": {
     "iopub.execute_input": "2025-07-23T14:23:52.410914Z",
     "iopub.status.busy": "2025-07-23T14:23:52.410058Z",
     "iopub.status.idle": "2025-07-23T14:23:52.676047Z",
     "shell.execute_reply": "2025-07-23T14:23:52.675050Z"
    },
    "papermill": {
     "duration": 0.290451,
     "end_time": "2025-07-23T14:23:52.678769",
     "exception": false,
     "start_time": "2025-07-23T14:23:52.388318",
     "status": "completed"
    },
    "tags": []
   },
   "outputs": [],
   "source": [
    "from fairness_multiverse.conformal import build_cp_groups\n",
    "\n",
    "cp_groups_df = build_cp_groups(pred_sets, y_true, X_test.index, org_test)\n",
    "#needs universe_id and setting"
   ]
  },
  {
   "cell_type": "code",
   "execution_count": 48,
   "id": "c3b92545-903e-4839-89af-0f057907d7d6",
   "metadata": {
    "execution": {
     "iopub.execute_input": "2025-07-23T14:23:52.722140Z",
     "iopub.status.busy": "2025-07-23T14:23:52.721666Z",
     "iopub.status.idle": "2025-07-23T14:23:54.509456Z",
     "shell.execute_reply": "2025-07-23T14:23:54.508456Z"
    },
    "papermill": {
     "duration": 1.811592,
     "end_time": "2025-07-23T14:23:54.511484",
     "exception": false,
     "start_time": "2025-07-23T14:23:52.699892",
     "status": "completed"
    },
    "tags": []
   },
   "outputs": [],
   "source": [
    "# Define covered = 1 if true_label is in the predicted set\n",
    "cp_groups_df['covered'] = cp_groups_df.apply(\n",
    "    lambda r: int(r['true_label'] in r['pred_set']),\n",
    "    axis=1\n",
    ")"
   ]
  },
  {
   "cell_type": "code",
   "execution_count": 49,
   "id": "338ff529-1a6b-4b87-a931-8e4788d52aad",
   "metadata": {
    "execution": {
     "iopub.execute_input": "2025-07-23T14:23:54.554890Z",
     "iopub.status.busy": "2025-07-23T14:23:54.553899Z",
     "iopub.status.idle": "2025-07-23T14:23:54.559064Z",
     "shell.execute_reply": "2025-07-23T14:23:54.558109Z"
    },
    "papermill": {
     "duration": 0.028154,
     "end_time": "2025-07-23T14:23:54.560857",
     "exception": false,
     "start_time": "2025-07-23T14:23:54.532703",
     "status": "completed"
    },
    "tags": []
   },
   "outputs": [],
   "source": [
    "#cp_groups_df"
   ]
  },
  {
   "cell_type": "code",
   "execution_count": 50,
   "id": "90032e27-66df-4540-9169-4e89cfbaa758",
   "metadata": {
    "execution": {
     "iopub.execute_input": "2025-07-23T14:23:54.605346Z",
     "iopub.status.busy": "2025-07-23T14:23:54.604500Z",
     "iopub.status.idle": "2025-07-23T14:23:54.616778Z",
     "shell.execute_reply": "2025-07-23T14:23:54.615742Z"
    },
    "papermill": {
     "duration": 0.036416,
     "end_time": "2025-07-23T14:23:54.618581",
     "exception": false,
     "start_time": "2025-07-23T14:23:54.582165",
     "status": "completed"
    },
    "tags": []
   },
   "outputs": [],
   "source": [
    "subgroups = ['frau1','nongerman','nongerman_male','nongerman_female']\n",
    "\n",
    "# Conditional coverage for subgroup==1\n",
    "cond_coverage = {\n",
    "    g: cp_groups_df.loc[cp_groups_df[g]==1, 'covered'].mean()\n",
    "    for g in subgroups\n",
    "}"
   ]
  },
  {
   "cell_type": "code",
   "execution_count": 51,
   "id": "1e348fb1-b9c3-45bc-ba23-f016827a7e0d",
   "metadata": {
    "execution": {
     "iopub.execute_input": "2025-07-23T14:23:54.667588Z",
     "iopub.status.busy": "2025-07-23T14:23:54.666547Z",
     "iopub.status.idle": "2025-07-23T14:23:54.674536Z",
     "shell.execute_reply": "2025-07-23T14:23:54.673507Z"
    },
    "papermill": {
     "duration": 0.033783,
     "end_time": "2025-07-23T14:23:54.676218",
     "exception": false,
     "start_time": "2025-07-23T14:23:54.642435",
     "status": "completed"
    },
    "tags": []
   },
   "outputs": [
    {
     "data": {
      "text/plain": [
       "{'frau1': 0.9157568405445478,\n",
       " 'nongerman': 0.9127042047942514,\n",
       " 'nongerman_male': 0.9265964153832298,\n",
       " 'nongerman_female': 0.8897168405365127}"
      ]
     },
     "execution_count": 51,
     "metadata": {},
     "output_type": "execute_result"
    }
   ],
   "source": [
    "cond_coverage"
   ]
  },
  {
   "cell_type": "code",
   "execution_count": 52,
   "id": "f5093324-c3dd-4d63-bc4c-8d945e5c8bbb",
   "metadata": {
    "execution": {
     "iopub.execute_input": "2025-07-23T14:23:54.720264Z",
     "iopub.status.busy": "2025-07-23T14:23:54.719302Z",
     "iopub.status.idle": "2025-07-23T14:23:54.726902Z",
     "shell.execute_reply": "2025-07-23T14:23:54.725977Z"
    },
    "papermill": {
     "duration": 0.031153,
     "end_time": "2025-07-23T14:23:54.728748",
     "exception": false,
     "start_time": "2025-07-23T14:23:54.697595",
     "status": "completed"
    },
    "tags": []
   },
   "outputs": [],
   "source": [
    "for subgroup, cov in cond_coverage.items():\n",
    "    cp_metrics_df[f\"cov_{subgroup}\"] = cov"
   ]
  },
  {
   "cell_type": "code",
   "execution_count": 53,
   "id": "6e872e10-dbe5-49e8-b554-5030c98ff75d",
   "metadata": {
    "execution": {
     "iopub.execute_input": "2025-07-23T14:23:54.773411Z",
     "iopub.status.busy": "2025-07-23T14:23:54.772617Z",
     "iopub.status.idle": "2025-07-23T14:23:54.792225Z",
     "shell.execute_reply": "2025-07-23T14:23:54.791239Z"
    },
    "papermill": {
     "duration": 0.043754,
     "end_time": "2025-07-23T14:23:54.794077",
     "exception": false,
     "start_time": "2025-07-23T14:23:54.750323",
     "status": "completed"
    },
    "tags": []
   },
   "outputs": [
    {
     "data": {
      "text/html": [
       "<div>\n",
       "<style scoped>\n",
       "    .dataframe tbody tr th:only-of-type {\n",
       "        vertical-align: middle;\n",
       "    }\n",
       "\n",
       "    .dataframe tbody tr th {\n",
       "        vertical-align: top;\n",
       "    }\n",
       "\n",
       "    .dataframe thead th {\n",
       "        text-align: right;\n",
       "    }\n",
       "</style>\n",
       "<table border=\"1\" class=\"dataframe\">\n",
       "  <thead>\n",
       "    <tr style=\"text-align: right;\">\n",
       "      <th></th>\n",
       "      <th>universe_id</th>\n",
       "      <th>universe_model</th>\n",
       "      <th>universe_exclude_features</th>\n",
       "      <th>universe_exclude_subgroups</th>\n",
       "      <th>universe_scale</th>\n",
       "      <th>q_hat</th>\n",
       "      <th>coverage</th>\n",
       "      <th>avg_size</th>\n",
       "      <th>cov_frau1</th>\n",
       "      <th>cov_nongerman</th>\n",
       "      <th>cov_nongerman_male</th>\n",
       "      <th>cov_nongerman_female</th>\n",
       "    </tr>\n",
       "  </thead>\n",
       "  <tbody>\n",
       "    <tr>\n",
       "      <th>0</th>\n",
       "      <td>93d9fafe3138a75e63086d7d04bdf2e6</td>\n",
       "      <td>rf</td>\n",
       "      <td>none</td>\n",
       "      <td>keep-all</td>\n",
       "      <td>scale</td>\n",
       "      <td>0.65</td>\n",
       "      <td>0.915617</td>\n",
       "      <td>1.142058</td>\n",
       "      <td>0.915757</td>\n",
       "      <td>0.912704</td>\n",
       "      <td>0.926596</td>\n",
       "      <td>0.889717</td>\n",
       "    </tr>\n",
       "  </tbody>\n",
       "</table>\n",
       "</div>"
      ],
      "text/plain": [
       "                        universe_id universe_model universe_exclude_features  \\\n",
       "0  93d9fafe3138a75e63086d7d04bdf2e6             rf                      none   \n",
       "\n",
       "  universe_exclude_subgroups universe_scale  q_hat  coverage  avg_size  \\\n",
       "0                   keep-all          scale   0.65  0.915617  1.142058   \n",
       "\n",
       "   cov_frau1  cov_nongerman  cov_nongerman_male  cov_nongerman_female  \n",
       "0   0.915757       0.912704            0.926596              0.889717  "
      ]
     },
     "execution_count": 53,
     "metadata": {},
     "output_type": "execute_result"
    }
   ],
   "source": [
    "cp_metrics_df"
   ]
  },
  {
   "cell_type": "markdown",
   "id": "33774451",
   "metadata": {
    "papermill": {
     "duration": 0.021183,
     "end_time": "2025-07-23T14:23:54.837335",
     "exception": false,
     "start_time": "2025-07-23T14:23:54.816152",
     "status": "completed"
    },
    "tags": []
   },
   "source": [
    "# (Fairness) Metrics"
   ]
  },
  {
   "cell_type": "code",
   "execution_count": 54,
   "id": "debc5d62",
   "metadata": {
    "execution": {
     "iopub.execute_input": "2025-07-23T14:23:54.883663Z",
     "iopub.status.busy": "2025-07-23T14:23:54.882848Z",
     "iopub.status.idle": "2025-07-23T14:23:54.908115Z",
     "shell.execute_reply": "2025-07-23T14:23:54.907135Z"
    },
    "papermill": {
     "duration": 0.051568,
     "end_time": "2025-07-23T14:23:54.910088",
     "exception": false,
     "start_time": "2025-07-23T14:23:54.858520",
     "status": "completed"
    },
    "tags": []
   },
   "outputs": [],
   "source": [
    "# do I need to include maxdeutsch1.missing?\n",
    "\n",
    "import numpy as np\n",
    "\n",
    "colname_to_bin = \"maxdeutsch1\"\n",
    "majority_value = org_train[colname_to_bin].mode()[0]\n",
    "\n",
    "org_test[\"majmin\"] = np.where(org_test[colname_to_bin] == majority_value, \"majority\", \"minority\")"
   ]
  },
  {
   "cell_type": "code",
   "execution_count": 55,
   "id": "06a50de5",
   "metadata": {
    "execution": {
     "iopub.execute_input": "2025-07-23T14:23:54.957245Z",
     "iopub.status.busy": "2025-07-23T14:23:54.956361Z",
     "iopub.status.idle": "2025-07-23T14:23:57.294137Z",
     "shell.execute_reply": "2025-07-23T14:23:57.293320Z"
    },
    "papermill": {
     "duration": 2.362063,
     "end_time": "2025-07-23T14:23:57.295995",
     "exception": false,
     "start_time": "2025-07-23T14:23:54.933932",
     "status": "completed"
    },
    "tags": []
   },
   "outputs": [],
   "source": [
    "example_universe = universe.copy()\n",
    "example_universe[\"cutoff\"] = example_universe[\"cutoff\"][0]\n",
    "example_universe[\"eval_fairness_grouping\"] = example_universe[\"eval_fairness_grouping\"][0]\n",
    "fairness_dict, metric_frame = universe_analysis.compute_metrics(\n",
    "    example_universe,\n",
    "    y_pred_prob=probs_test,\n",
    "    y_test=y_true,\n",
    "    org_test=org_test,\n",
    ")"
   ]
  },
  {
   "cell_type": "markdown",
   "id": "f95d4e02",
   "metadata": {
    "papermill": {
     "duration": 0.021564,
     "end_time": "2025-07-23T14:23:57.342073",
     "exception": false,
     "start_time": "2025-07-23T14:23:57.320509",
     "status": "completed"
    },
    "tags": []
   },
   "source": [
    "# Overall"
   ]
  },
  {
   "cell_type": "markdown",
   "id": "bdee4871",
   "metadata": {
    "papermill": {
     "duration": 0.021527,
     "end_time": "2025-07-23T14:23:57.385235",
     "exception": false,
     "start_time": "2025-07-23T14:23:57.363708",
     "status": "completed"
    },
    "tags": []
   },
   "source": [
    "Fairness\n",
    "Main fairness target: Equalized Odds. Seems to be a better fit than equal opportunity, since we're not only interested in Y = 1. Seems to be a better fit than demographic parity, since we also care about accuracy, not just equal distribution of preds.\n",
    "\n",
    "Pick column for computation of fairness metrics\n",
    "\n",
    "Performance\n",
    "Overall performance measures, most interesting in relation to the measures split by group below"
   ]
  },
  {
   "cell_type": "code",
   "execution_count": 56,
   "id": "c4e067c6",
   "metadata": {
    "execution": {
     "iopub.execute_input": "2025-07-23T14:23:57.430004Z",
     "iopub.status.busy": "2025-07-23T14:23:57.429519Z",
     "iopub.status.idle": "2025-07-23T14:23:57.438299Z",
     "shell.execute_reply": "2025-07-23T14:23:57.437343Z"
    },
    "papermill": {
     "duration": 0.033389,
     "end_time": "2025-07-23T14:23:57.439958",
     "exception": false,
     "start_time": "2025-07-23T14:23:57.406569",
     "status": "completed"
    },
    "tags": []
   },
   "outputs": [
    {
     "data": {
      "text/plain": [
       "accuracy                   0.197893\n",
       "balanced accuracy          0.530887\n",
       "f1                         0.238429\n",
       "precision                  0.135748\n",
       "false positive rate        0.917023\n",
       "false negative rate        0.021203\n",
       "selection rate             0.924947\n",
       "count                  89710.000000\n",
       "dtype: float64"
      ]
     },
     "execution_count": 56,
     "metadata": {},
     "output_type": "execute_result"
    }
   ],
   "source": [
    "metric_frame.overall"
   ]
  },
  {
   "cell_type": "markdown",
   "id": "e968fe9d",
   "metadata": {
    "papermill": {
     "duration": 0.021745,
     "end_time": "2025-07-23T14:23:57.484479",
     "exception": false,
     "start_time": "2025-07-23T14:23:57.462734",
     "status": "completed"
    },
    "tags": []
   },
   "source": [
    "By Group"
   ]
  },
  {
   "cell_type": "code",
   "execution_count": 57,
   "id": "ec325bce",
   "metadata": {
    "execution": {
     "iopub.execute_input": "2025-07-23T14:23:57.530776Z",
     "iopub.status.busy": "2025-07-23T14:23:57.530279Z",
     "iopub.status.idle": "2025-07-23T14:23:57.548232Z",
     "shell.execute_reply": "2025-07-23T14:23:57.547102Z"
    },
    "papermill": {
     "duration": 0.04393,
     "end_time": "2025-07-23T14:23:57.550232",
     "exception": false,
     "start_time": "2025-07-23T14:23:57.506302",
     "status": "completed"
    },
    "tags": []
   },
   "outputs": [
    {
     "data": {
      "text/html": [
       "<div>\n",
       "<style scoped>\n",
       "    .dataframe tbody tr th:only-of-type {\n",
       "        vertical-align: middle;\n",
       "    }\n",
       "\n",
       "    .dataframe tbody tr th {\n",
       "        vertical-align: top;\n",
       "    }\n",
       "\n",
       "    .dataframe thead th {\n",
       "        text-align: right;\n",
       "    }\n",
       "</style>\n",
       "<table border=\"1\" class=\"dataframe\">\n",
       "  <thead>\n",
       "    <tr style=\"text-align: right;\">\n",
       "      <th></th>\n",
       "      <th>accuracy</th>\n",
       "      <th>balanced accuracy</th>\n",
       "      <th>f1</th>\n",
       "      <th>precision</th>\n",
       "      <th>false positive rate</th>\n",
       "      <th>false negative rate</th>\n",
       "      <th>selection rate</th>\n",
       "      <th>count</th>\n",
       "    </tr>\n",
       "    <tr>\n",
       "      <th>majmin</th>\n",
       "      <th></th>\n",
       "      <th></th>\n",
       "      <th></th>\n",
       "      <th></th>\n",
       "      <th></th>\n",
       "      <th></th>\n",
       "      <th></th>\n",
       "      <th></th>\n",
       "    </tr>\n",
       "  </thead>\n",
       "  <tbody>\n",
       "    <tr>\n",
       "      <th>majority</th>\n",
       "      <td>0.185977</td>\n",
       "      <td>0.527679</td>\n",
       "      <td>0.243626</td>\n",
       "      <td>0.138863</td>\n",
       "      <td>0.936765</td>\n",
       "      <td>0.007877</td>\n",
       "      <td>0.944080</td>\n",
       "      <td>69170.0</td>\n",
       "    </tr>\n",
       "    <tr>\n",
       "      <th>minority</th>\n",
       "      <td>0.238023</td>\n",
       "      <td>0.537780</td>\n",
       "      <td>0.219129</td>\n",
       "      <td>0.124243</td>\n",
       "      <td>0.851805</td>\n",
       "      <td>0.072635</td>\n",
       "      <td>0.860516</td>\n",
       "      <td>20540.0</td>\n",
       "    </tr>\n",
       "  </tbody>\n",
       "</table>\n",
       "</div>"
      ],
      "text/plain": [
       "          accuracy  balanced accuracy        f1  precision  \\\n",
       "majmin                                                       \n",
       "majority  0.185977           0.527679  0.243626   0.138863   \n",
       "minority  0.238023           0.537780  0.219129   0.124243   \n",
       "\n",
       "          false positive rate  false negative rate  selection rate    count  \n",
       "majmin                                                                       \n",
       "majority             0.936765             0.007877        0.944080  69170.0  \n",
       "minority             0.851805             0.072635        0.860516  20540.0  "
      ]
     },
     "execution_count": 57,
     "metadata": {},
     "output_type": "execute_result"
    }
   ],
   "source": [
    "metric_frame.by_group"
   ]
  },
  {
   "cell_type": "code",
   "execution_count": null,
   "id": "a9ddbe63",
   "metadata": {
    "papermill": {
     "duration": null,
     "end_time": null,
     "exception": false,
     "start_time": "2025-07-23T14:23:57.574708",
     "status": "running"
    },
    "tags": []
   },
   "outputs": [],
   "source": [
    "# In a graphic\n",
    "metric_frame.by_group.plot.bar(\n",
    "    subplots=True,\n",
    "    layout=[3, 3],\n",
    "    legend=False,\n",
    "    figsize=[12, 8],\n",
    "    title=\"Show all metrics\",\n",
    ")"
   ]
  },
  {
   "cell_type": "markdown",
   "id": "f57a0bac",
   "metadata": {
    "papermill": {
     "duration": null,
     "end_time": null,
     "exception": null,
     "start_time": null,
     "status": "pending"
    },
    "tags": []
   },
   "source": [
    "# Final Output"
   ]
  },
  {
   "cell_type": "code",
   "execution_count": null,
   "id": "96d280a3",
   "metadata": {
    "papermill": {
     "duration": null,
     "end_time": null,
     "exception": null,
     "start_time": null,
     "status": "pending"
    },
    "tags": []
   },
   "outputs": [],
   "source": [
    "sub_universes = universe_analysis.generate_sub_universes()\n",
    "len(sub_universes)"
   ]
  },
  {
   "cell_type": "code",
   "execution_count": null,
   "id": "92adf7ba",
   "metadata": {
    "papermill": {
     "duration": null,
     "end_time": null,
     "exception": null,
     "start_time": null,
     "status": "pending"
    },
    "tags": []
   },
   "outputs": [],
   "source": [
    "def filter_sub_universe_data(sub_universe, org_test):\n",
    "    # Keep all rows — no filtering\n",
    "    keep_rows_mask = np.ones(org_test.shape[0], dtype=bool)\n",
    "\n",
    "    print(f\"[INFO] Keeping all rows: {keep_rows_mask.sum()} rows retained.\")\n",
    "    return keep_rows_mask"
   ]
  },
  {
   "cell_type": "code",
   "execution_count": null,
   "id": "4a759155",
   "metadata": {
    "papermill": {
     "duration": null,
     "end_time": null,
     "exception": null,
     "start_time": null,
     "status": "pending"
    },
    "tags": []
   },
   "outputs": [],
   "source": [
    "final_output = universe_analysis.generate_final_output(\n",
    "    y_pred_prob=probs_test,\n",
    "    y_test=y_true,\n",
    "    org_test=org_test,\n",
    "    filter_data=filter_sub_universe_data,\n",
    "    cp_metrics_df=cp_metrics_df,\n",
    "    save=True,\n",
    ")\n",
    "final_output"
   ]
  },
  {
   "cell_type": "code",
   "execution_count": null,
   "id": "721ff514-cb11-46f8-b6fc-50392f74b5cb",
   "metadata": {
    "papermill": {
     "duration": null,
     "end_time": null,
     "exception": null,
     "start_time": null,
     "status": "pending"
    },
    "tags": []
   },
   "outputs": [],
   "source": []
  }
 ],
 "metadata": {
  "celltoolbar": "Tags",
  "kernelspec": {
   "display_name": "Python (CMA Fairness)",
   "language": "python",
   "name": "cma_fair_env"
  },
  "language_info": {
   "codemirror_mode": {
    "name": "ipython",
    "version": 3
   },
   "file_extension": ".py",
   "mimetype": "text/x-python",
   "name": "python",
   "nbconvert_exporter": "python",
   "pygments_lexer": "ipython3",
   "version": "3.10.12"
  },
  "papermill": {
   "default_parameters": {},
   "duration": null,
   "end_time": null,
   "environment_variables": {},
   "exception": null,
   "input_path": "universe_analysis.ipynb",
   "output_path": "output/runs/8/notebooks/m_8-93d9fafe3138a75e63086d7d04bdf2e6.ipynb",
   "parameters": {
    "output_dir": "output",
    "run_no": "8",
    "seed": "2023",
    "universe": "{\"cutoff\": [\"quantile_0.1\", \"quantile_0.25\"], \"eval_fairness_grouping\": [\"majority-minority\", \"nationality-all\"], \"exclude_features\": \"none\", \"exclude_subgroups\": \"keep-all\", \"model\": \"rf\", \"scale\": \"scale\"}",
    "universe_id": "93d9fafe3138a75e63086d7d04bdf2e6"
   },
   "start_time": "2025-07-23T14:23:22.735180",
   "version": "2.6.0"
  }
 },
 "nbformat": 4,
 "nbformat_minor": 5
}