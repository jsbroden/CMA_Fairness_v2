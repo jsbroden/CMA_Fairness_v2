{
 "cells": [
  {
   "cell_type": "code",
   "execution_count": 1,
   "id": "f159f837-637b-42ba-96b5-ec9a68c44524",
   "metadata": {
    "execution": {
     "iopub.execute_input": "2025-07-23T14:21:58.587876Z",
     "iopub.status.busy": "2025-07-23T14:21:58.586994Z",
     "iopub.status.idle": "2025-07-23T14:21:58.597192Z",
     "shell.execute_reply": "2025-07-23T14:21:58.596394Z"
    },
    "papermill": {
     "duration": 0.024324,
     "end_time": "2025-07-23T14:21:58.598669",
     "exception": false,
     "start_time": "2025-07-23T14:21:58.574345",
     "status": "completed"
    },
    "tags": []
   },
   "outputs": [
    {
     "name": "stdout",
     "output_type": "stream",
     "text": [
      "/dss/dsshome1/0C/ra93lal2/cma/CMA_Fairness_v2\n"
     ]
    },
    {
     "name": "stderr",
     "output_type": "stream",
     "text": [
      "/dss/dsshome1/0C/ra93lal2/.local/share/virtualenvs/CMA_Fairness_v2-3j10GkSs/lib/python3.10/site-packages/IPython/core/magics/osm.py:393: UserWarning: This is now an optional IPython functionality, using bookmarks requires you to install the `pickleshare` library.\n",
      "  bkms = self.shell.db.get('bookmarks', {})\n",
      "/dss/dsshome1/0C/ra93lal2/.local/share/virtualenvs/CMA_Fairness_v2-3j10GkSs/lib/python3.10/site-packages/IPython/core/magics/osm.py:417: UserWarning: This is now an optional IPython functionality, setting dhist requires you to install the `pickleshare` library.\n",
      "  self.shell.db['dhist'] = compress_dhist(dhist)[-100:]\n"
     ]
    }
   ],
   "source": [
    "%cd ~/cma/CMA_Fairness_v2"
   ]
  },
  {
   "cell_type": "markdown",
   "id": "de2603b9",
   "metadata": {
    "papermill": {
     "duration": 0.009498,
     "end_time": "2025-07-23T14:21:58.618503",
     "exception": false,
     "start_time": "2025-07-23T14:21:58.609005",
     "status": "completed"
    },
    "tags": []
   },
   "source": [
    "The following cell holds the definition of our parameters, these values can be overriden by rendering the with e.g. the following command:\n",
    "\n",
    "papermill -p alpha 0.2 -p ratio 0.3 universe_analysis.ipynb output/test_run.ipynb"
   ]
  },
  {
   "cell_type": "code",
   "execution_count": 2,
   "id": "a80968a0-40bb-4fa9-85ef-2d5eefb01975",
   "metadata": {
    "execution": {
     "iopub.execute_input": "2025-07-23T14:21:58.639062Z",
     "iopub.status.busy": "2025-07-23T14:21:58.638426Z",
     "iopub.status.idle": "2025-07-23T14:21:58.642964Z",
     "shell.execute_reply": "2025-07-23T14:21:58.642001Z"
    },
    "papermill": {
     "duration": 0.017151,
     "end_time": "2025-07-23T14:21:58.644516",
     "exception": false,
     "start_time": "2025-07-23T14:21:58.627365",
     "status": "completed"
    },
    "tags": []
   },
   "outputs": [
    {
     "name": "stdout",
     "output_type": "stream",
     "text": [
      "Current working directory: /dss/dsshome1/0C/ra93lal2/cma/CMA_Fairness_v2\n"
     ]
    }
   ],
   "source": [
    "import os\n",
    "print(\"Current working directory:\", os.getcwd())"
   ]
  },
  {
   "cell_type": "code",
   "execution_count": 3,
   "id": "2dce4c03",
   "metadata": {
    "execution": {
     "iopub.execute_input": "2025-07-23T14:21:58.670454Z",
     "iopub.status.busy": "2025-07-23T14:21:58.670088Z",
     "iopub.status.idle": "2025-07-23T14:21:58.675447Z",
     "shell.execute_reply": "2025-07-23T14:21:58.674400Z"
    },
    "papermill": {
     "duration": 0.018013,
     "end_time": "2025-07-23T14:21:58.677383",
     "exception": false,
     "start_time": "2025-07-23T14:21:58.659370",
     "status": "completed"
    },
    "tags": [
     "parameters"
    ]
   },
   "outputs": [],
   "source": [
    "run_no = 0\n",
    "universe_id = \"test\"\n",
    "universe = {\n",
    "    \"scale\": \"scale\", # \"scale\", \"do-not-scale\",\n",
    "    \"model\": \"elasticnet\", # \"logreg\", \"penalized_logreg\", \"rf\", \"gbm\", \"elasticnet\"\n",
    "    \"cutoff\": [\"quantile_0.15\", \"quantile_0.30\"],\n",
    "    \"exclude_features\": \"age\", # \"none\", \"nationality\", \"sex\", \"nationality-sex\", \"age\"\n",
    "    \"exclude_subgroups\": \"keep-all\", # \"keep-all\", \"drop-non-german\"\n",
    "    #\"training_sample\": \"restricted\", # \"restricted\", \"full\"\n",
    "    \"eval_fairness_grouping\": [\"majority-minority\", \"nationality-all\"]\n",
    "}\n",
    "\n",
    "output_dir=\"./output\"\n",
    "seed=0"
   ]
  },
  {
   "cell_type": "code",
   "execution_count": 4,
   "id": "261f8386",
   "metadata": {
    "execution": {
     "iopub.execute_input": "2025-07-23T14:21:58.717358Z",
     "iopub.status.busy": "2025-07-23T14:21:58.716994Z",
     "iopub.status.idle": "2025-07-23T14:21:58.722334Z",
     "shell.execute_reply": "2025-07-23T14:21:58.721348Z"
    },
    "papermill": {
     "duration": 0.027753,
     "end_time": "2025-07-23T14:21:58.724122",
     "exception": false,
     "start_time": "2025-07-23T14:21:58.696369",
     "status": "completed"
    },
    "tags": [
     "injected-parameters"
    ]
   },
   "outputs": [],
   "source": [
    "# Parameters\n",
    "universe_id = \"22c2dffeab3d2bb5c3ec86fe0972c853\"\n",
    "run_no = \"8\"\n",
    "universe = \"{\\\"cutoff\\\": [\\\"quantile_0.1\\\", \\\"quantile_0.25\\\"], \\\"eval_fairness_grouping\\\": [\\\"majority-minority\\\", \\\"nationality-all\\\"], \\\"exclude_features\\\": \\\"nationality\\\", \\\"exclude_subgroups\\\": \\\"drop-non-german\\\", \\\"model\\\": \\\"logreg\\\", \\\"scale\\\": \\\"scale\\\"}\"\n",
    "output_dir = \"output\"\n",
    "seed = \"2023\"\n"
   ]
  },
  {
   "cell_type": "code",
   "execution_count": 5,
   "id": "1650acaf",
   "metadata": {
    "execution": {
     "iopub.execute_input": "2025-07-23T14:21:58.750622Z",
     "iopub.status.busy": "2025-07-23T14:21:58.750334Z",
     "iopub.status.idle": "2025-07-23T14:21:58.862656Z",
     "shell.execute_reply": "2025-07-23T14:21:58.861672Z"
    },
    "papermill": {
     "duration": 0.125454,
     "end_time": "2025-07-23T14:21:58.866078",
     "exception": false,
     "start_time": "2025-07-23T14:21:58.740624",
     "status": "completed"
    },
    "tags": []
   },
   "outputs": [],
   "source": [
    "import json\n",
    "# Parse universe into dict if it is passed as a string\n",
    "if isinstance(universe, str):\n",
    "    universe = json.loads(universe)"
   ]
  },
  {
   "cell_type": "code",
   "execution_count": 6,
   "id": "16620c48",
   "metadata": {
    "execution": {
     "iopub.execute_input": "2025-07-23T14:21:58.890455Z",
     "iopub.status.busy": "2025-07-23T14:21:58.889891Z",
     "iopub.status.idle": "2025-07-23T14:21:58.922072Z",
     "shell.execute_reply": "2025-07-23T14:21:58.921349Z"
    },
    "papermill": {
     "duration": 0.046598,
     "end_time": "2025-07-23T14:21:58.923740",
     "exception": false,
     "start_time": "2025-07-23T14:21:58.877142",
     "status": "completed"
    },
    "tags": []
   },
   "outputs": [],
   "source": [
    "# Auto-reload the custom package\n",
    "%load_ext autoreload\n",
    "%autoreload 1\n",
    "%aimport fairness_multiverse"
   ]
  },
  {
   "cell_type": "code",
   "execution_count": 7,
   "id": "01c5c9f3",
   "metadata": {
    "execution": {
     "iopub.execute_input": "2025-07-23T14:21:58.957710Z",
     "iopub.status.busy": "2025-07-23T14:21:58.957138Z",
     "iopub.status.idle": "2025-07-23T14:22:04.272905Z",
     "shell.execute_reply": "2025-07-23T14:22:04.271231Z"
    },
    "papermill": {
     "duration": 5.348558,
     "end_time": "2025-07-23T14:22:04.286203",
     "exception": false,
     "start_time": "2025-07-23T14:21:58.937645",
     "status": "completed"
    },
    "tags": []
   },
   "outputs": [],
   "source": [
    "from fairness_multiverse.universe import UniverseAnalysis\n",
    "\n",
    "universe_analysis = UniverseAnalysis(\n",
    "    run_no = run_no,\n",
    "    universe_id = universe_id,\n",
    "    universe = universe,\n",
    "    output_dir=output_dir,\n",
    ")"
   ]
  },
  {
   "cell_type": "code",
   "execution_count": 8,
   "id": "106241f5",
   "metadata": {
    "execution": {
     "iopub.execute_input": "2025-07-23T14:22:04.323168Z",
     "iopub.status.busy": "2025-07-23T14:22:04.322725Z",
     "iopub.status.idle": "2025-07-23T14:22:04.331424Z",
     "shell.execute_reply": "2025-07-23T14:22:04.330266Z"
    },
    "papermill": {
     "duration": 0.027018,
     "end_time": "2025-07-23T14:22:04.333616",
     "exception": false,
     "start_time": "2025-07-23T14:22:04.306598",
     "status": "completed"
    },
    "tags": []
   },
   "outputs": [
    {
     "name": "stdout",
     "output_type": "stream",
     "text": [
      "Using Seed: 2023\n"
     ]
    }
   ],
   "source": [
    "import numpy as np\n",
    "parsed_seed = int(seed)\n",
    "np.random.seed(parsed_seed)\n",
    "print(f\"Using Seed: {parsed_seed}\")"
   ]
  },
  {
   "cell_type": "markdown",
   "id": "e0ebdc57",
   "metadata": {
    "papermill": {
     "duration": 0.018493,
     "end_time": "2025-07-23T14:22:04.371685",
     "exception": false,
     "start_time": "2025-07-23T14:22:04.353192",
     "status": "completed"
    },
    "tags": []
   },
   "source": [
    "# Loading Data"
   ]
  },
  {
   "cell_type": "markdown",
   "id": "681925a3",
   "metadata": {
    "papermill": {
     "duration": 0.018448,
     "end_time": "2025-07-23T14:22:04.409812",
     "exception": false,
     "start_time": "2025-07-23T14:22:04.391364",
     "status": "completed"
    },
    "tags": []
   },
   "source": [
    "Load siab_train, siab_test, siab_calib and/or \n",
    "load siab_train_features, siab_train_labels"
   ]
  },
  {
   "cell_type": "code",
   "execution_count": 9,
   "id": "f0496b8a",
   "metadata": {
    "execution": {
     "iopub.execute_input": "2025-07-23T14:22:04.450428Z",
     "iopub.status.busy": "2025-07-23T14:22:04.449708Z",
     "iopub.status.idle": "2025-07-23T14:22:04.457012Z",
     "shell.execute_reply": "2025-07-23T14:22:04.455909Z"
    },
    "papermill": {
     "duration": 0.030598,
     "end_time": "2025-07-23T14:22:04.459320",
     "exception": false,
     "start_time": "2025-07-23T14:22:04.428722",
     "status": "completed"
    },
    "tags": []
   },
   "outputs": [],
   "source": [
    "# Do I need to load siab? Delete this cell?\n",
    "\n",
    "#from pathlib import Path\n",
    "#import pandas as pd\n",
    "#\n",
    "## File paths\n",
    "#raw_file = Path(\"data/raw/siab.csv\")\n",
    "#cache_file = Path(\"data/siab_cached.csv.gz\")\n",
    "#\n",
    "## Ensure cache directory exists\n",
    "#cache_file.parent.mkdir(parents=True, exist_ok=True)\n",
    "#\n",
    "## Load with simple caching\n",
    "#if cache_file.exists():\n",
    "#    print(f\"Loading SIAB data from cache: {cache_file}\")\n",
    "#    siab = pd.read_csv(cache_file, compression='gzip')\n",
    "#else:\n",
    "#    print(f\"Cache not found. Reading raw SIAB data: {raw_file}\")\n",
    "#    siab = pd.read_csv(raw_file)\n",
    "#    siab.to_csv(cache_file, index=False, compression='gzip')\n",
    "#    print(f\"Cached SIAB data to: {cache_file}\")\n",
    "#\n",
    "## Now use `siab` DataFrame as needed\n",
    "#print(siab.shape)\n"
   ]
  },
  {
   "cell_type": "code",
   "execution_count": 10,
   "id": "a0edb063",
   "metadata": {
    "execution": {
     "iopub.execute_input": "2025-07-23T14:22:04.492422Z",
     "iopub.status.busy": "2025-07-23T14:22:04.491863Z",
     "iopub.status.idle": "2025-07-23T14:22:05.884614Z",
     "shell.execute_reply": "2025-07-23T14:22:05.883533Z"
    },
    "papermill": {
     "duration": 1.412784,
     "end_time": "2025-07-23T14:22:05.886684",
     "exception": false,
     "start_time": "2025-07-23T14:22:04.473900",
     "status": "completed"
    },
    "tags": []
   },
   "outputs": [],
   "source": [
    "import pandas as pd\n",
    "\n",
    "X_train = pd.read_csv(\"./data/X_train.csv\")\n",
    "y_train = pd.read_csv(\"./data/y_train.csv\")"
   ]
  },
  {
   "cell_type": "code",
   "execution_count": 11,
   "id": "63d08085",
   "metadata": {
    "execution": {
     "iopub.execute_input": "2025-07-23T14:22:05.937402Z",
     "iopub.status.busy": "2025-07-23T14:22:05.936366Z",
     "iopub.status.idle": "2025-07-23T14:22:07.287755Z",
     "shell.execute_reply": "2025-07-23T14:22:07.286630Z"
    },
    "papermill": {
     "duration": 1.37379,
     "end_time": "2025-07-23T14:22:07.289869",
     "exception": false,
     "start_time": "2025-07-23T14:22:05.916079",
     "status": "completed"
    },
    "tags": []
   },
   "outputs": [],
   "source": [
    "X_test = pd.read_csv(\"./data/X_test.csv\")\n",
    "y_true = pd.read_csv(\"./data/y_test.csv\")"
   ]
  },
  {
   "cell_type": "code",
   "execution_count": 12,
   "id": "98a8d0fa-1d3d-4ed8-bb2c-281470e24add",
   "metadata": {
    "execution": {
     "iopub.execute_input": "2025-07-23T14:22:07.329898Z",
     "iopub.status.busy": "2025-07-23T14:22:07.329388Z",
     "iopub.status.idle": "2025-07-23T14:22:08.989199Z",
     "shell.execute_reply": "2025-07-23T14:22:08.987358Z"
    },
    "papermill": {
     "duration": 1.683121,
     "end_time": "2025-07-23T14:22:08.992240",
     "exception": false,
     "start_time": "2025-07-23T14:22:07.309119",
     "status": "completed"
    },
    "tags": []
   },
   "outputs": [],
   "source": [
    "# Calibration data for conformal\n",
    "X_calib = pd.read_csv(\"./data/X_calib.csv\")\n",
    "y_calib = pd.read_csv(\"./data/y_calib.csv\")"
   ]
  },
  {
   "cell_type": "code",
   "execution_count": 13,
   "id": "e6c733c5",
   "metadata": {
    "execution": {
     "iopub.execute_input": "2025-07-23T14:22:09.032130Z",
     "iopub.status.busy": "2025-07-23T14:22:09.031532Z",
     "iopub.status.idle": "2025-07-23T14:22:09.231219Z",
     "shell.execute_reply": "2025-07-23T14:22:09.230390Z"
    },
    "papermill": {
     "duration": 0.214463,
     "end_time": "2025-07-23T14:22:09.233005",
     "exception": false,
     "start_time": "2025-07-23T14:22:09.018542",
     "status": "completed"
    },
    "tags": []
   },
   "outputs": [],
   "source": [
    "# Auxiliary data needed downstream in the pipeline\n",
    "\n",
    "org_train = X_train.copy()\n",
    "org_test = X_test.copy()\n",
    "org_calib = X_calib.copy()"
   ]
  },
  {
   "cell_type": "markdown",
   "id": "0a4a1b33",
   "metadata": {
    "papermill": {
     "duration": 0.012176,
     "end_time": "2025-07-23T14:22:09.264997",
     "exception": false,
     "start_time": "2025-07-23T14:22:09.252821",
     "status": "completed"
    },
    "tags": []
   },
   "source": [
    "# Preprocessing Data"
   ]
  },
  {
   "cell_type": "code",
   "execution_count": 14,
   "id": "ca879031",
   "metadata": {
    "execution": {
     "iopub.execute_input": "2025-07-23T14:22:09.298967Z",
     "iopub.status.busy": "2025-07-23T14:22:09.298440Z",
     "iopub.status.idle": "2025-07-23T14:22:09.306099Z",
     "shell.execute_reply": "2025-07-23T14:22:09.304667Z"
    },
    "papermill": {
     "duration": 0.033251,
     "end_time": "2025-07-23T14:22:09.310428",
     "exception": false,
     "start_time": "2025-07-23T14:22:09.277177",
     "status": "completed"
    },
    "tags": []
   },
   "outputs": [],
   "source": [
    "# EXCLUDE PROTECTED FEATURES\n",
    "# ----------------------\n",
    "# \"exclude_features\": \"none\", # \"nationality\", \"sex\", \"nationality-sex\"\n",
    "\n",
    "excluded_features = universe[\"exclude_features\"].split(\"-\") # split, e.g.: \"nationality-sex\" -> [\"nationality\", \"sex\"]\n",
    "excluded_features_dictionary = {\n",
    "    \"nationality\": [\"maxdeutsch1\", \"maxdeutsch.Missing.\"],\n",
    "    \"sex\": [\"frau1\"],\n",
    "    \"age\": [\"age\"],\n",
    "}\n"
   ]
  },
  {
   "cell_type": "code",
   "execution_count": 15,
   "id": "b745ac60",
   "metadata": {
    "execution": {
     "iopub.execute_input": "2025-07-23T14:22:09.368400Z",
     "iopub.status.busy": "2025-07-23T14:22:09.367889Z",
     "iopub.status.idle": "2025-07-23T14:22:09.374343Z",
     "shell.execute_reply": "2025-07-23T14:22:09.373264Z"
    },
    "papermill": {
     "duration": 0.038127,
     "end_time": "2025-07-23T14:22:09.376779",
     "exception": false,
     "start_time": "2025-07-23T14:22:09.338652",
     "status": "completed"
    },
    "tags": []
   },
   "outputs": [],
   "source": [
    "# Code nice names to column names\n",
    "\n",
    "excluded_features_columns = [\n",
    "    excluded_features_dictionary[f] for f in excluded_features if len(f) > 0 and f != \"none\"\n",
    "]"
   ]
  },
  {
   "cell_type": "code",
   "execution_count": 16,
   "id": "f84f73a2",
   "metadata": {
    "execution": {
     "iopub.execute_input": "2025-07-23T14:22:09.433854Z",
     "iopub.status.busy": "2025-07-23T14:22:09.432822Z",
     "iopub.status.idle": "2025-07-23T14:22:09.439974Z",
     "shell.execute_reply": "2025-07-23T14:22:09.438868Z"
    },
    "papermill": {
     "duration": 0.036737,
     "end_time": "2025-07-23T14:22:09.441917",
     "exception": false,
     "start_time": "2025-07-23T14:22:09.405180",
     "status": "completed"
    },
    "tags": []
   },
   "outputs": [],
   "source": [
    "from utils import flatten_once\n",
    "\n",
    "excluded_features_columns = flatten_once(excluded_features_columns)"
   ]
  },
  {
   "cell_type": "code",
   "execution_count": 17,
   "id": "884dea22",
   "metadata": {
    "execution": {
     "iopub.execute_input": "2025-07-23T14:22:09.488864Z",
     "iopub.status.busy": "2025-07-23T14:22:09.488399Z",
     "iopub.status.idle": "2025-07-23T14:22:09.541243Z",
     "shell.execute_reply": "2025-07-23T14:22:09.540076Z"
    },
    "papermill": {
     "duration": 0.081996,
     "end_time": "2025-07-23T14:22:09.543183",
     "exception": false,
     "start_time": "2025-07-23T14:22:09.461187",
     "status": "completed"
    },
    "tags": []
   },
   "outputs": [
    {
     "name": "stdout",
     "output_type": "stream",
     "text": [
      "Dropping features: ['maxdeutsch1', 'maxdeutsch.Missing.']\n"
     ]
    }
   ],
   "source": [
    "if len(excluded_features_columns) > 0:\n",
    "    print(f\"Dropping features: {excluded_features_columns}\")\n",
    "    X_train.drop(excluded_features_columns, axis=1, inplace=True)"
   ]
  },
  {
   "cell_type": "code",
   "execution_count": 18,
   "id": "95ab8b16",
   "metadata": {
    "execution": {
     "iopub.execute_input": "2025-07-23T14:22:09.585914Z",
     "iopub.status.busy": "2025-07-23T14:22:09.585475Z",
     "iopub.status.idle": "2025-07-23T14:22:09.638715Z",
     "shell.execute_reply": "2025-07-23T14:22:09.637796Z"
    },
    "papermill": {
     "duration": 0.076414,
     "end_time": "2025-07-23T14:22:09.640166",
     "exception": false,
     "start_time": "2025-07-23T14:22:09.563752",
     "status": "completed"
    },
    "tags": []
   },
   "outputs": [
    {
     "name": "stdout",
     "output_type": "stream",
     "text": [
      "Dropping features: ['maxdeutsch1', 'maxdeutsch.Missing.']\n"
     ]
    }
   ],
   "source": [
    "if len(excluded_features_columns) > 0:\n",
    "    print(f\"Dropping features: {excluded_features_columns}\")\n",
    "    X_test.drop(excluded_features_columns, axis=1, inplace=True)"
   ]
  },
  {
   "cell_type": "code",
   "execution_count": 19,
   "id": "1853aaf5-fb9f-46cb-a2b5-8ea4ae2237e4",
   "metadata": {
    "execution": {
     "iopub.execute_input": "2025-07-23T14:22:09.662367Z",
     "iopub.status.busy": "2025-07-23T14:22:09.661965Z",
     "iopub.status.idle": "2025-07-23T14:22:09.926214Z",
     "shell.execute_reply": "2025-07-23T14:22:09.925038Z"
    },
    "papermill": {
     "duration": 0.277454,
     "end_time": "2025-07-23T14:22:09.927737",
     "exception": false,
     "start_time": "2025-07-23T14:22:09.650283",
     "status": "completed"
    },
    "tags": []
   },
   "outputs": [
    {
     "name": "stdout",
     "output_type": "stream",
     "text": [
      "Dropping features: ['maxdeutsch1', 'maxdeutsch.Missing.']\n"
     ]
    }
   ],
   "source": [
    "if len(excluded_features_columns) > 0:\n",
    "    print(f\"Dropping features: {excluded_features_columns}\")\n",
    "    X_calib.drop(excluded_features_columns, axis=1, inplace=True)"
   ]
  },
  {
   "cell_type": "code",
   "execution_count": 20,
   "id": "76c4dc6d",
   "metadata": {
    "execution": {
     "iopub.execute_input": "2025-07-23T14:22:09.949939Z",
     "iopub.status.busy": "2025-07-23T14:22:09.949535Z",
     "iopub.status.idle": "2025-07-23T14:22:09.954497Z",
     "shell.execute_reply": "2025-07-23T14:22:09.953688Z"
    },
    "papermill": {
     "duration": 0.017612,
     "end_time": "2025-07-23T14:22:09.956253",
     "exception": false,
     "start_time": "2025-07-23T14:22:09.938641",
     "status": "completed"
    },
    "tags": []
   },
   "outputs": [],
   "source": [
    "# EXCLUDE CERTAIN SUBGROUPS\n",
    "# ----------------------\n",
    "\n",
    "mode = universe.get(\"exclude_subgroups\", \"keep-all\") \n",
    "# Fetches the exclude_subgroups setting from the universe dict.\n",
    "# Defaults to \"keep-all\" if the key is missing."
   ]
  },
  {
   "cell_type": "code",
   "execution_count": 21,
   "id": "21994072",
   "metadata": {
    "execution": {
     "iopub.execute_input": "2025-07-23T14:22:10.011360Z",
     "iopub.status.busy": "2025-07-23T14:22:10.010967Z",
     "iopub.status.idle": "2025-07-23T14:22:10.017035Z",
     "shell.execute_reply": "2025-07-23T14:22:10.016247Z"
    },
    "papermill": {
     "duration": 0.035748,
     "end_time": "2025-07-23T14:22:10.018464",
     "exception": false,
     "start_time": "2025-07-23T14:22:09.982716",
     "status": "completed"
    },
    "tags": []
   },
   "outputs": [],
   "source": [
    "if mode == \"keep-all\":\n",
    "    keep_mask = pd.Series(True, index=org_train.index)\n",
    "\n",
    "# org_train contains the original feature columns from features_org (in Simson)\n",
    "# features_org contains unprocessed features, for me X_train at beginning ???\n",
    "# For keep-all, creates a boolean Series (keep_mask) of all True, so no rows are removed.\n",
    "\n",
    "elif mode == \"drop-non-german\":\n",
    "    keep_mask = org_train[\"maxdeutsch1\"] == 1 # ??? what about missing values?\n",
    "\n",
    "else:\n",
    "    raise ValueError(f\"Unsupported mode for exclude_subgroups: {mode}\")\n"
   ]
  },
  {
   "cell_type": "code",
   "execution_count": 22,
   "id": "71651440",
   "metadata": {
    "execution": {
     "iopub.execute_input": "2025-07-23T14:22:10.091013Z",
     "iopub.status.busy": "2025-07-23T14:22:10.090415Z",
     "iopub.status.idle": "2025-07-23T14:22:10.098318Z",
     "shell.execute_reply": "2025-07-23T14:22:10.097358Z"
    },
    "papermill": {
     "duration": 0.020726,
     "end_time": "2025-07-23T14:22:10.099725",
     "exception": false,
     "start_time": "2025-07-23T14:22:10.078999",
     "status": "completed"
    },
    "tags": []
   },
   "outputs": [
    {
     "name": "stdout",
     "output_type": "stream",
     "text": [
      "Dropping 10036 rows (13.38%) where mode='drop-non-german'\n"
     ]
    }
   ],
   "source": [
    "n_drop = (~keep_mask).sum() # Calculates how many rows are set to be dropped\n",
    "if n_drop > 0:\n",
    "    pct = n_drop / len(keep_mask) * 100\n",
    "    print(f\"Dropping {n_drop} rows ({pct:.2f}%) where mode='{mode}'\")"
   ]
  },
  {
   "cell_type": "code",
   "execution_count": 23,
   "id": "5fb8eee5",
   "metadata": {
    "execution": {
     "iopub.execute_input": "2025-07-23T14:22:10.122987Z",
     "iopub.status.busy": "2025-07-23T14:22:10.122569Z",
     "iopub.status.idle": "2025-07-23T14:22:10.180977Z",
     "shell.execute_reply": "2025-07-23T14:22:10.176273Z"
    },
    "papermill": {
     "duration": 0.071769,
     "end_time": "2025-07-23T14:22:10.182384",
     "exception": false,
     "start_time": "2025-07-23T14:22:10.110615",
     "status": "completed"
    },
    "tags": []
   },
   "outputs": [],
   "source": [
    "X_train = X_train[keep_mask]"
   ]
  },
  {
   "cell_type": "code",
   "execution_count": 24,
   "id": "b202bb3a",
   "metadata": {
    "execution": {
     "iopub.execute_input": "2025-07-23T14:22:10.204049Z",
     "iopub.status.busy": "2025-07-23T14:22:10.203725Z",
     "iopub.status.idle": "2025-07-23T14:22:10.211475Z",
     "shell.execute_reply": "2025-07-23T14:22:10.210438Z"
    },
    "papermill": {
     "duration": 0.020554,
     "end_time": "2025-07-23T14:22:10.213069",
     "exception": false,
     "start_time": "2025-07-23T14:22:10.192515",
     "status": "completed"
    },
    "tags": []
   },
   "outputs": [],
   "source": [
    "y_train = y_train[keep_mask]"
   ]
  },
  {
   "cell_type": "markdown",
   "id": "493e2ac3",
   "metadata": {
    "papermill": {
     "duration": 0.010622,
     "end_time": "2025-07-23T14:22:10.234755",
     "exception": false,
     "start_time": "2025-07-23T14:22:10.224133",
     "status": "completed"
    },
    "tags": []
   },
   "source": [
    "# Model Training"
   ]
  },
  {
   "cell_type": "code",
   "execution_count": 25,
   "id": "679e1268",
   "metadata": {
    "execution": {
     "iopub.execute_input": "2025-07-23T14:22:10.258481Z",
     "iopub.status.busy": "2025-07-23T14:22:10.258159Z",
     "iopub.status.idle": "2025-07-23T14:22:11.225572Z",
     "shell.execute_reply": "2025-07-23T14:22:11.224351Z"
    },
    "papermill": {
     "duration": 0.982363,
     "end_time": "2025-07-23T14:22:11.227802",
     "exception": false,
     "start_time": "2025-07-23T14:22:10.245439",
     "status": "completed"
    },
    "tags": []
   },
   "outputs": [],
   "source": [
    "from sklearn.linear_model import LogisticRegression\n",
    "from sklearn.ensemble import GradientBoostingClassifier, RandomForestClassifier\n",
    "\n",
    "if (universe[\"model\"] == \"logreg\"):\n",
    "    model = LogisticRegression() #penalty=\"none\") #, solver=\"newton-cg\", max_iter=1) # include random_state=19 ?\n",
    "elif (universe[\"model\"] == \"penalized_logreg\"):\n",
    "    model = LogisticRegression(penalty=\"l2\", C=1.0) #, solver=\"newton-cg\", max_iter=1)\n",
    "elif (universe[\"model\"] == \"rf\"):\n",
    "    model = RandomForestClassifier(n_estimators=100, n_jobs=-1)\n",
    "elif (universe[\"model\"] == \"gbm\"):\n",
    "    model = GradientBoostingClassifier()\n",
    "elif (universe[\"model\"] == \"elasticnet\"):\n",
    "    model = LogisticRegression(penalty = 'elasticnet', solver = 'saga', l1_ratio = 0.5, max_iter=5000) # which solver to use?\n",
    "else:\n",
    "    raise \"Unsupported universe.model\""
   ]
  },
  {
   "cell_type": "code",
   "execution_count": 26,
   "id": "0cc8f744",
   "metadata": {
    "execution": {
     "iopub.execute_input": "2025-07-23T14:22:11.270694Z",
     "iopub.status.busy": "2025-07-23T14:22:11.270312Z",
     "iopub.status.idle": "2025-07-23T14:22:11.277006Z",
     "shell.execute_reply": "2025-07-23T14:22:11.275881Z"
    },
    "papermill": {
     "duration": 0.029483,
     "end_time": "2025-07-23T14:22:11.278577",
     "exception": false,
     "start_time": "2025-07-23T14:22:11.249094",
     "status": "completed"
    },
    "tags": []
   },
   "outputs": [],
   "source": [
    "import numpy as np\n",
    "from sklearn.pipeline import Pipeline\n",
    "from sklearn.preprocessing import StandardScaler\n",
    "\n",
    "model = Pipeline([\n",
    "    #(\"continuous_processor\", continuous_processor),\n",
    "    #(\"categorical_preprocessor\", categorical_preprocessor),\n",
    "    (\"scale\", StandardScaler() if universe[\"scale\"] == \"scale\" else None), \n",
    "    (\"model\", model),\n",
    "])"
   ]
  },
  {
   "cell_type": "code",
   "execution_count": 27,
   "id": "9442c04d",
   "metadata": {
    "execution": {
     "iopub.execute_input": "2025-07-23T14:22:11.324471Z",
     "iopub.status.busy": "2025-07-23T14:22:11.323727Z",
     "iopub.status.idle": "2025-07-23T14:22:15.908849Z",
     "shell.execute_reply": "2025-07-23T14:22:15.907545Z"
    },
    "papermill": {
     "duration": 4.610732,
     "end_time": "2025-07-23T14:22:15.911113",
     "exception": false,
     "start_time": "2025-07-23T14:22:11.300381",
     "status": "completed"
    },
    "tags": []
   },
   "outputs": [
    {
     "name": "stderr",
     "output_type": "stream",
     "text": [
      "/dss/dsshome1/0C/ra93lal2/.local/share/virtualenvs/CMA_Fairness_v2-3j10GkSs/lib/python3.10/site-packages/sklearn/linear_model/_logistic.py:444: ConvergenceWarning: lbfgs failed to converge (status=1):\n",
      "STOP: TOTAL NO. of ITERATIONS REACHED LIMIT.\n",
      "\n",
      "Increase the number of iterations (max_iter) or scale the data as shown in:\n",
      "    https://scikit-learn.org/stable/modules/preprocessing.html\n",
      "Please also refer to the documentation for alternative solver options:\n",
      "    https://scikit-learn.org/stable/modules/linear_model.html#logistic-regression\n",
      "  n_iter_i = _check_optimize_result(\n"
     ]
    },
    {
     "data": {
      "text/html": [
       "<style>#sk-container-id-1 {color: black;background-color: white;}#sk-container-id-1 pre{padding: 0;}#sk-container-id-1 div.sk-toggleable {background-color: white;}#sk-container-id-1 label.sk-toggleable__label {cursor: pointer;display: block;width: 100%;margin-bottom: 0;padding: 0.3em;box-sizing: border-box;text-align: center;}#sk-container-id-1 label.sk-toggleable__label-arrow:before {content: \"▸\";float: left;margin-right: 0.25em;color: #696969;}#sk-container-id-1 label.sk-toggleable__label-arrow:hover:before {color: black;}#sk-container-id-1 div.sk-estimator:hover label.sk-toggleable__label-arrow:before {color: black;}#sk-container-id-1 div.sk-toggleable__content {max-height: 0;max-width: 0;overflow: hidden;text-align: left;background-color: #f0f8ff;}#sk-container-id-1 div.sk-toggleable__content pre {margin: 0.2em;color: black;border-radius: 0.25em;background-color: #f0f8ff;}#sk-container-id-1 input.sk-toggleable__control:checked~div.sk-toggleable__content {max-height: 200px;max-width: 100%;overflow: auto;}#sk-container-id-1 input.sk-toggleable__control:checked~label.sk-toggleable__label-arrow:before {content: \"▾\";}#sk-container-id-1 div.sk-estimator input.sk-toggleable__control:checked~label.sk-toggleable__label {background-color: #d4ebff;}#sk-container-id-1 div.sk-label input.sk-toggleable__control:checked~label.sk-toggleable__label {background-color: #d4ebff;}#sk-container-id-1 input.sk-hidden--visually {border: 0;clip: rect(1px 1px 1px 1px);clip: rect(1px, 1px, 1px, 1px);height: 1px;margin: -1px;overflow: hidden;padding: 0;position: absolute;width: 1px;}#sk-container-id-1 div.sk-estimator {font-family: monospace;background-color: #f0f8ff;border: 1px dotted black;border-radius: 0.25em;box-sizing: border-box;margin-bottom: 0.5em;}#sk-container-id-1 div.sk-estimator:hover {background-color: #d4ebff;}#sk-container-id-1 div.sk-parallel-item::after {content: \"\";width: 100%;border-bottom: 1px solid gray;flex-grow: 1;}#sk-container-id-1 div.sk-label:hover label.sk-toggleable__label {background-color: #d4ebff;}#sk-container-id-1 div.sk-serial::before {content: \"\";position: absolute;border-left: 1px solid gray;box-sizing: border-box;top: 0;bottom: 0;left: 50%;z-index: 0;}#sk-container-id-1 div.sk-serial {display: flex;flex-direction: column;align-items: center;background-color: white;padding-right: 0.2em;padding-left: 0.2em;position: relative;}#sk-container-id-1 div.sk-item {position: relative;z-index: 1;}#sk-container-id-1 div.sk-parallel {display: flex;align-items: stretch;justify-content: center;background-color: white;position: relative;}#sk-container-id-1 div.sk-item::before, #sk-container-id-1 div.sk-parallel-item::before {content: \"\";position: absolute;border-left: 1px solid gray;box-sizing: border-box;top: 0;bottom: 0;left: 50%;z-index: -1;}#sk-container-id-1 div.sk-parallel-item {display: flex;flex-direction: column;z-index: 1;position: relative;background-color: white;}#sk-container-id-1 div.sk-parallel-item:first-child::after {align-self: flex-end;width: 50%;}#sk-container-id-1 div.sk-parallel-item:last-child::after {align-self: flex-start;width: 50%;}#sk-container-id-1 div.sk-parallel-item:only-child::after {width: 0;}#sk-container-id-1 div.sk-dashed-wrapped {border: 1px dashed gray;margin: 0 0.4em 0.5em 0.4em;box-sizing: border-box;padding-bottom: 0.4em;background-color: white;}#sk-container-id-1 div.sk-label label {font-family: monospace;font-weight: bold;display: inline-block;line-height: 1.2em;}#sk-container-id-1 div.sk-label-container {text-align: center;}#sk-container-id-1 div.sk-container {/* jupyter's `normalize.less` sets `[hidden] { display: none; }` but bootstrap.min.css set `[hidden] { display: none !important; }` so we also need the `!important` here to be able to override the default hidden behavior on the sphinx rendered scikit-learn.org. See: https://github.com/scikit-learn/scikit-learn/issues/21755 */display: inline-block !important;position: relative;}#sk-container-id-1 div.sk-text-repr-fallback {display: none;}</style><div id=\"sk-container-id-1\" class=\"sk-top-container\"><div class=\"sk-text-repr-fallback\"><pre>Pipeline(steps=[(&#x27;scale&#x27;, StandardScaler()), (&#x27;model&#x27;, LogisticRegression())])</pre><b>In a Jupyter environment, please rerun this cell to show the HTML representation or trust the notebook. <br />On GitHub, the HTML representation is unable to render, please try loading this page with nbviewer.org.</b></div><div class=\"sk-container\" hidden><div class=\"sk-item sk-dashed-wrapped\"><div class=\"sk-label-container\"><div class=\"sk-label sk-toggleable\"><input class=\"sk-toggleable__control sk-hidden--visually\" id=\"sk-estimator-id-1\" type=\"checkbox\" ><label for=\"sk-estimator-id-1\" class=\"sk-toggleable__label sk-toggleable__label-arrow\">Pipeline</label><div class=\"sk-toggleable__content\"><pre>Pipeline(steps=[(&#x27;scale&#x27;, StandardScaler()), (&#x27;model&#x27;, LogisticRegression())])</pre></div></div></div><div class=\"sk-serial\"><div class=\"sk-item\"><div class=\"sk-estimator sk-toggleable\"><input class=\"sk-toggleable__control sk-hidden--visually\" id=\"sk-estimator-id-2\" type=\"checkbox\" ><label for=\"sk-estimator-id-2\" class=\"sk-toggleable__label sk-toggleable__label-arrow\">StandardScaler</label><div class=\"sk-toggleable__content\"><pre>StandardScaler()</pre></div></div></div><div class=\"sk-item\"><div class=\"sk-estimator sk-toggleable\"><input class=\"sk-toggleable__control sk-hidden--visually\" id=\"sk-estimator-id-3\" type=\"checkbox\" ><label for=\"sk-estimator-id-3\" class=\"sk-toggleable__label sk-toggleable__label-arrow\">LogisticRegression</label><div class=\"sk-toggleable__content\"><pre>LogisticRegression()</pre></div></div></div></div></div></div></div>"
      ],
      "text/plain": [
       "Pipeline(steps=[('scale', StandardScaler()), ('model', LogisticRegression())])"
      ]
     },
     "execution_count": 27,
     "metadata": {},
     "output_type": "execute_result"
    }
   ],
   "source": [
    "model.fit(X_train, y_train.values.ravel())"
   ]
  },
  {
   "cell_type": "code",
   "execution_count": 28,
   "id": "af59f8c0",
   "metadata": {
    "execution": {
     "iopub.execute_input": "2025-07-23T14:22:15.960847Z",
     "iopub.status.busy": "2025-07-23T14:22:15.960230Z",
     "iopub.status.idle": "2025-07-23T14:22:15.969799Z",
     "shell.execute_reply": "2025-07-23T14:22:15.968460Z"
    },
    "papermill": {
     "duration": 0.037747,
     "end_time": "2025-07-23T14:22:15.972380",
     "exception": false,
     "start_time": "2025-07-23T14:22:15.934633",
     "status": "completed"
    },
    "tags": []
   },
   "outputs": [],
   "source": [
    "from fairness_multiverse.universe import predict_w_threshold"
   ]
  },
  {
   "cell_type": "code",
   "execution_count": 29,
   "id": "a7cf2e16",
   "metadata": {
    "execution": {
     "iopub.execute_input": "2025-07-23T14:22:16.022201Z",
     "iopub.status.busy": "2025-07-23T14:22:16.021605Z",
     "iopub.status.idle": "2025-07-23T14:22:16.247402Z",
     "shell.execute_reply": "2025-07-23T14:22:16.246031Z"
    },
    "papermill": {
     "duration": 0.25295,
     "end_time": "2025-07-23T14:22:16.249768",
     "exception": false,
     "start_time": "2025-07-23T14:22:15.996818",
     "status": "completed"
    },
    "tags": []
   },
   "outputs": [
    {
     "data": {
      "text/plain": [
       "0.8628580983167986"
      ]
     },
     "execution_count": 29,
     "metadata": {},
     "output_type": "execute_result"
    }
   ],
   "source": [
    "probs_test = model.predict_proba(X_test)\n",
    "\n",
    "'''\n",
    "Below code returns a boolean array (or binary 0/1 array depending on how it’s used) where each element \n",
    "is True if the probability of class 1 is greater than or equal to the threshold, and False otherwise.\n",
    "'''\n",
    "y_pred_default = predict_w_threshold(probs_test, 0.5)\n",
    "\n",
    "from sklearn.metrics import accuracy_score\n",
    "\n",
    "# Naive prediction\n",
    "accuracy_score(y_true = y_true, y_pred = y_pred_default)"
   ]
  },
  {
   "cell_type": "code",
   "execution_count": 30,
   "id": "081964c3",
   "metadata": {
    "execution": {
     "iopub.execute_input": "2025-07-23T14:22:16.303169Z",
     "iopub.status.busy": "2025-07-23T14:22:16.302308Z",
     "iopub.status.idle": "2025-07-23T14:22:16.512336Z",
     "shell.execute_reply": "2025-07-23T14:22:16.510426Z"
    },
    "papermill": {
     "duration": 0.240091,
     "end_time": "2025-07-23T14:22:16.515245",
     "exception": false,
     "start_time": "2025-07-23T14:22:16.275154",
     "status": "completed"
    },
    "tags": []
   },
   "outputs": [
    {
     "data": {
      "text/plain": [
       "array([0, 0, 0, ..., 0, 0, 0])"
      ]
     },
     "execution_count": 30,
     "metadata": {},
     "output_type": "execute_result"
    }
   ],
   "source": [
    "model.predict(X_test)"
   ]
  },
  {
   "cell_type": "markdown",
   "id": "56c9705b",
   "metadata": {
    "papermill": {
     "duration": 0.025553,
     "end_time": "2025-07-23T14:22:16.570587",
     "exception": false,
     "start_time": "2025-07-23T14:22:16.545034",
     "status": "completed"
    },
    "tags": []
   },
   "source": [
    "# Conformal Prediction"
   ]
  },
  {
   "cell_type": "code",
   "execution_count": 31,
   "id": "160ec6ff",
   "metadata": {
    "execution": {
     "iopub.execute_input": "2025-07-23T14:22:16.625417Z",
     "iopub.status.busy": "2025-07-23T14:22:16.624164Z",
     "iopub.status.idle": "2025-07-23T14:22:16.630722Z",
     "shell.execute_reply": "2025-07-23T14:22:16.629527Z"
    },
    "papermill": {
     "duration": 0.037778,
     "end_time": "2025-07-23T14:22:16.634672",
     "exception": false,
     "start_time": "2025-07-23T14:22:16.596894",
     "status": "completed"
    },
    "tags": []
   },
   "outputs": [],
   "source": [
    "# Miscoverage level for conformal prediction (10% allowed error rate => 90% target coverage)\n",
    "alpha = 0.1"
   ]
  },
  {
   "cell_type": "code",
   "execution_count": 32,
   "id": "eadf4555-3dd3-440e-8e35-f82a4ad9f855",
   "metadata": {
    "execution": {
     "iopub.execute_input": "2025-07-23T14:22:16.686914Z",
     "iopub.status.busy": "2025-07-23T14:22:16.685567Z",
     "iopub.status.idle": "2025-07-23T14:22:16.940204Z",
     "shell.execute_reply": "2025-07-23T14:22:16.938812Z"
    },
    "papermill": {
     "duration": 0.283651,
     "end_time": "2025-07-23T14:22:16.942880",
     "exception": false,
     "start_time": "2025-07-23T14:22:16.659229",
     "status": "completed"
    },
    "tags": []
   },
   "outputs": [],
   "source": [
    "probs_calib = model.predict_proba(X_calib)"
   ]
  },
  {
   "cell_type": "code",
   "execution_count": 33,
   "id": "2ed93547-6d5d-4983-9b36-1ecb300da49a",
   "metadata": {
    "execution": {
     "iopub.execute_input": "2025-07-23T14:22:16.992984Z",
     "iopub.status.busy": "2025-07-23T14:22:16.992227Z",
     "iopub.status.idle": "2025-07-23T14:22:17.000233Z",
     "shell.execute_reply": "2025-07-23T14:22:16.998947Z"
    },
    "papermill": {
     "duration": 0.035701,
     "end_time": "2025-07-23T14:22:17.002848",
     "exception": false,
     "start_time": "2025-07-23T14:22:16.967147",
     "status": "completed"
    },
    "tags": []
   },
   "outputs": [],
   "source": [
    "y_calib = y_calib.values.ravel().astype(int)"
   ]
  },
  {
   "cell_type": "code",
   "execution_count": 34,
   "id": "65d1320d-f588-4b38-9072-62af1ae97f7d",
   "metadata": {
    "execution": {
     "iopub.execute_input": "2025-07-23T14:22:17.054634Z",
     "iopub.status.busy": "2025-07-23T14:22:17.053576Z",
     "iopub.status.idle": "2025-07-23T14:22:17.062074Z",
     "shell.execute_reply": "2025-07-23T14:22:17.060949Z"
    },
    "papermill": {
     "duration": 0.035831,
     "end_time": "2025-07-23T14:22:17.063966",
     "exception": false,
     "start_time": "2025-07-23T14:22:17.028135",
     "status": "completed"
    },
    "tags": []
   },
   "outputs": [],
   "source": [
    "from fairness_multiverse.conformal import compute_nc_scores\n",
    "\n",
    "# Compute nonconformity scores on calibration set (1 - probability of true class)\n",
    "nc_scores = compute_nc_scores(probs_calib, y_calib)"
   ]
  },
  {
   "cell_type": "code",
   "execution_count": 35,
   "id": "df3b8ca3-53b7-43d5-9667-7c85da7aeda2",
   "metadata": {
    "execution": {
     "iopub.execute_input": "2025-07-23T14:22:17.111956Z",
     "iopub.status.busy": "2025-07-23T14:22:17.111316Z",
     "iopub.status.idle": "2025-07-23T14:22:17.119784Z",
     "shell.execute_reply": "2025-07-23T14:22:17.118406Z"
    },
    "papermill": {
     "duration": 0.03452,
     "end_time": "2025-07-23T14:22:17.122619",
     "exception": false,
     "start_time": "2025-07-23T14:22:17.088099",
     "status": "completed"
    },
    "tags": []
   },
   "outputs": [],
   "source": [
    "from fairness_multiverse.conformal import find_threshold\n",
    "\n",
    "# Find conformal threshold q_hat for the given alpha (split conformal method)\n",
    "q_hat = find_threshold(nc_scores, alpha)"
   ]
  },
  {
   "cell_type": "code",
   "execution_count": 36,
   "id": "4d29e6c1-0ef6-4aa4-b8fe-4fe79b0d033a",
   "metadata": {
    "execution": {
     "iopub.execute_input": "2025-07-23T14:22:17.186386Z",
     "iopub.status.busy": "2025-07-23T14:22:17.185285Z",
     "iopub.status.idle": "2025-07-23T14:22:17.195084Z",
     "shell.execute_reply": "2025-07-23T14:22:17.193840Z"
    },
    "papermill": {
     "duration": 0.045143,
     "end_time": "2025-07-23T14:22:17.197512",
     "exception": false,
     "start_time": "2025-07-23T14:22:17.152369",
     "status": "completed"
    },
    "tags": []
   },
   "outputs": [
    {
     "data": {
      "text/plain": [
       "0.6602981906726765"
      ]
     },
     "execution_count": 36,
     "metadata": {},
     "output_type": "execute_result"
    }
   ],
   "source": [
    "q_hat"
   ]
  },
  {
   "cell_type": "code",
   "execution_count": 37,
   "id": "92460794-cdac-4be2-ba28-f28c0515a6fb",
   "metadata": {
    "execution": {
     "iopub.execute_input": "2025-07-23T14:22:17.262998Z",
     "iopub.status.busy": "2025-07-23T14:22:17.262413Z",
     "iopub.status.idle": "2025-07-23T14:22:18.294661Z",
     "shell.execute_reply": "2025-07-23T14:22:18.293815Z"
    },
    "papermill": {
     "duration": 1.067878,
     "end_time": "2025-07-23T14:22:18.296204",
     "exception": false,
     "start_time": "2025-07-23T14:22:17.228326",
     "status": "completed"
    },
    "tags": []
   },
   "outputs": [],
   "source": [
    "from fairness_multiverse.conformal import predict_conformal_sets\n",
    "\n",
    "# Generate prediction sets for each test example\n",
    "pred_sets = predict_conformal_sets(model, X_test, q_hat)"
   ]
  },
  {
   "cell_type": "code",
   "execution_count": 38,
   "id": "d90c9a65-e6db-4f5d-80cd-e68fb7e46829",
   "metadata": {
    "execution": {
     "iopub.execute_input": "2025-07-23T14:22:18.321881Z",
     "iopub.status.busy": "2025-07-23T14:22:18.321050Z",
     "iopub.status.idle": "2025-07-23T14:22:18.326262Z",
     "shell.execute_reply": "2025-07-23T14:22:18.325433Z"
    },
    "papermill": {
     "duration": 0.019299,
     "end_time": "2025-07-23T14:22:18.327693",
     "exception": false,
     "start_time": "2025-07-23T14:22:18.308394",
     "status": "completed"
    },
    "tags": []
   },
   "outputs": [],
   "source": [
    "y_true = y_true.squeeze()"
   ]
  },
  {
   "cell_type": "code",
   "execution_count": 39,
   "id": "3a58a54a-1e68-46b9-927a-df01f18aebc8",
   "metadata": {
    "execution": {
     "iopub.execute_input": "2025-07-23T14:22:18.352965Z",
     "iopub.status.busy": "2025-07-23T14:22:18.352296Z",
     "iopub.status.idle": "2025-07-23T14:22:19.499939Z",
     "shell.execute_reply": "2025-07-23T14:22:19.498834Z"
    },
    "papermill": {
     "duration": 1.162,
     "end_time": "2025-07-23T14:22:19.502323",
     "exception": false,
     "start_time": "2025-07-23T14:22:18.340323",
     "status": "completed"
    },
    "tags": []
   },
   "outputs": [],
   "source": [
    "from fairness_multiverse.conformal import evaluate_sets\n",
    "\n",
    "# Evaluate coverage and average set size on test data\n",
    "metrics = evaluate_sets(pred_sets, y_true)"
   ]
  },
  {
   "cell_type": "code",
   "execution_count": 40,
   "id": "5ce0a5cb-201f-45a0-ade5-94c7f0bd6095",
   "metadata": {
    "execution": {
     "iopub.execute_input": "2025-07-23T14:22:19.553596Z",
     "iopub.status.busy": "2025-07-23T14:22:19.552548Z",
     "iopub.status.idle": "2025-07-23T14:22:19.560964Z",
     "shell.execute_reply": "2025-07-23T14:22:19.559771Z"
    },
    "papermill": {
     "duration": 0.035882,
     "end_time": "2025-07-23T14:22:19.562928",
     "exception": false,
     "start_time": "2025-07-23T14:22:19.527046",
     "status": "completed"
    },
    "tags": []
   },
   "outputs": [
    {
     "data": {
      "text/plain": [
       "{'coverage': 0.911470293166871, 'avg_size': 1.1247464050830454}"
      ]
     },
     "execution_count": 40,
     "metadata": {},
     "output_type": "execute_result"
    }
   ],
   "source": [
    "metrics"
   ]
  },
  {
   "cell_type": "code",
   "execution_count": 41,
   "id": "9b9a838d-31c9-430b-ae14-12baee460d17",
   "metadata": {
    "execution": {
     "iopub.execute_input": "2025-07-23T14:22:19.612314Z",
     "iopub.status.busy": "2025-07-23T14:22:19.611649Z",
     "iopub.status.idle": "2025-07-23T14:22:19.618930Z",
     "shell.execute_reply": "2025-07-23T14:22:19.617755Z"
    },
    "papermill": {
     "duration": 0.033954,
     "end_time": "2025-07-23T14:22:19.620904",
     "exception": false,
     "start_time": "2025-07-23T14:22:19.586950",
     "status": "completed"
    },
    "tags": []
   },
   "outputs": [],
   "source": [
    "example_universe = universe.copy()\n",
    "universe_model = example_universe.get(\"model\")\n",
    "universe_exclude_features = example_universe.get(\"exclude_features\")\n",
    "universe_exclude_subgroups = example_universe.get(\"exclude_subgroups\")\n",
    "universe_scale = example_universe.get(\"scale\")"
   ]
  },
  {
   "cell_type": "code",
   "execution_count": 42,
   "id": "f4b6a8ac-9dc0-4245-8a91-5b3b5999c4f9",
   "metadata": {
    "execution": {
     "iopub.execute_input": "2025-07-23T14:22:19.669328Z",
     "iopub.status.busy": "2025-07-23T14:22:19.668507Z",
     "iopub.status.idle": "2025-07-23T14:22:19.675551Z",
     "shell.execute_reply": "2025-07-23T14:22:19.674368Z"
    },
    "papermill": {
     "duration": 0.033507,
     "end_time": "2025-07-23T14:22:19.677878",
     "exception": false,
     "start_time": "2025-07-23T14:22:19.644371",
     "status": "completed"
    },
    "tags": []
   },
   "outputs": [],
   "source": [
    "cp_metrics_dict = {\n",
    "    \"universe_id\": [universe_id],\n",
    "    \"universe_model\": [universe_model],\n",
    "    \"universe_exclude_features\": [universe_exclude_features],\n",
    "    \"universe_exclude_subgroups\": [universe_exclude_subgroups],\n",
    "    \"universe_scale\": [universe_scale],\n",
    "    \"q_hat\": [q_hat],\n",
    "    \"coverage\": [metrics[\"coverage\"]],\n",
    "    \"avg_size\": [metrics[\"avg_size\"]],\n",
    "}"
   ]
  },
  {
   "cell_type": "code",
   "execution_count": 43,
   "id": "908acbb1-0371-4915-85ca-3fa520d2efe2",
   "metadata": {
    "execution": {
     "iopub.execute_input": "2025-07-23T14:22:19.730379Z",
     "iopub.status.busy": "2025-07-23T14:22:19.729851Z",
     "iopub.status.idle": "2025-07-23T14:22:19.739002Z",
     "shell.execute_reply": "2025-07-23T14:22:19.737771Z"
    },
    "papermill": {
     "duration": 0.038783,
     "end_time": "2025-07-23T14:22:19.741346",
     "exception": false,
     "start_time": "2025-07-23T14:22:19.702563",
     "status": "completed"
    },
    "tags": []
   },
   "outputs": [
    {
     "data": {
      "text/plain": [
       "{'universe_id': ['22c2dffeab3d2bb5c3ec86fe0972c853'],\n",
       " 'universe_model': ['logreg'],\n",
       " 'universe_exclude_features': ['nationality'],\n",
       " 'universe_exclude_subgroups': ['drop-non-german'],\n",
       " 'universe_scale': ['scale'],\n",
       " 'q_hat': [0.6602981906726765],\n",
       " 'coverage': [0.911470293166871],\n",
       " 'avg_size': [1.1247464050830454]}"
      ]
     },
     "execution_count": 43,
     "metadata": {},
     "output_type": "execute_result"
    }
   ],
   "source": [
    "cp_metrics_dict"
   ]
  },
  {
   "cell_type": "code",
   "execution_count": 44,
   "id": "33007efc-14e9-4ec6-97ac-56a455c82265",
   "metadata": {
    "execution": {
     "iopub.execute_input": "2025-07-23T14:22:19.793465Z",
     "iopub.status.busy": "2025-07-23T14:22:19.792988Z",
     "iopub.status.idle": "2025-07-23T14:22:19.799930Z",
     "shell.execute_reply": "2025-07-23T14:22:19.798733Z"
    },
    "papermill": {
     "duration": 0.03498,
     "end_time": "2025-07-23T14:22:19.801983",
     "exception": false,
     "start_time": "2025-07-23T14:22:19.767003",
     "status": "completed"
    },
    "tags": []
   },
   "outputs": [],
   "source": [
    "cp_metrics_df = pd.DataFrame(cp_metrics_dict)"
   ]
  },
  {
   "cell_type": "code",
   "execution_count": 45,
   "id": "db12611b-57b2-4910-b9d0-355adfd6e7bf",
   "metadata": {
    "execution": {
     "iopub.execute_input": "2025-07-23T14:22:19.854883Z",
     "iopub.status.busy": "2025-07-23T14:22:19.853742Z",
     "iopub.status.idle": "2025-07-23T14:22:19.873806Z",
     "shell.execute_reply": "2025-07-23T14:22:19.872689Z"
    },
    "papermill": {
     "duration": 0.047826,
     "end_time": "2025-07-23T14:22:19.875739",
     "exception": false,
     "start_time": "2025-07-23T14:22:19.827913",
     "status": "completed"
    },
    "tags": []
   },
   "outputs": [
    {
     "data": {
      "text/html": [
       "<div>\n",
       "<style scoped>\n",
       "    .dataframe tbody tr th:only-of-type {\n",
       "        vertical-align: middle;\n",
       "    }\n",
       "\n",
       "    .dataframe tbody tr th {\n",
       "        vertical-align: top;\n",
       "    }\n",
       "\n",
       "    .dataframe thead th {\n",
       "        text-align: right;\n",
       "    }\n",
       "</style>\n",
       "<table border=\"1\" class=\"dataframe\">\n",
       "  <thead>\n",
       "    <tr style=\"text-align: right;\">\n",
       "      <th></th>\n",
       "      <th>universe_id</th>\n",
       "      <th>universe_model</th>\n",
       "      <th>universe_exclude_features</th>\n",
       "      <th>universe_exclude_subgroups</th>\n",
       "      <th>universe_scale</th>\n",
       "      <th>q_hat</th>\n",
       "      <th>coverage</th>\n",
       "      <th>avg_size</th>\n",
       "    </tr>\n",
       "  </thead>\n",
       "  <tbody>\n",
       "    <tr>\n",
       "      <th>0</th>\n",
       "      <td>22c2dffeab3d2bb5c3ec86fe0972c853</td>\n",
       "      <td>logreg</td>\n",
       "      <td>nationality</td>\n",
       "      <td>drop-non-german</td>\n",
       "      <td>scale</td>\n",
       "      <td>0.660298</td>\n",
       "      <td>0.91147</td>\n",
       "      <td>1.124746</td>\n",
       "    </tr>\n",
       "  </tbody>\n",
       "</table>\n",
       "</div>"
      ],
      "text/plain": [
       "                        universe_id universe_model universe_exclude_features  \\\n",
       "0  22c2dffeab3d2bb5c3ec86fe0972c853         logreg               nationality   \n",
       "\n",
       "  universe_exclude_subgroups universe_scale     q_hat  coverage  avg_size  \n",
       "0            drop-non-german          scale  0.660298   0.91147  1.124746  "
      ]
     },
     "execution_count": 45,
     "metadata": {},
     "output_type": "execute_result"
    }
   ],
   "source": [
    "cp_metrics_df"
   ]
  },
  {
   "cell_type": "code",
   "execution_count": 46,
   "id": "b7fbde55-a0a1-47e4-9af6-fe4a17fa8c61",
   "metadata": {
    "execution": {
     "iopub.execute_input": "2025-07-23T14:22:19.929910Z",
     "iopub.status.busy": "2025-07-23T14:22:19.929358Z",
     "iopub.status.idle": "2025-07-23T14:22:19.936223Z",
     "shell.execute_reply": "2025-07-23T14:22:19.934892Z"
    },
    "papermill": {
     "duration": 0.03585,
     "end_time": "2025-07-23T14:22:19.938110",
     "exception": false,
     "start_time": "2025-07-23T14:22:19.902260",
     "status": "completed"
    },
    "tags": []
   },
   "outputs": [],
   "source": [
    "# Conditional Coverage & looking at subgroups"
   ]
  },
  {
   "cell_type": "code",
   "execution_count": 47,
   "id": "027ae886-68dd-4141-96c7-805a5450e1ef",
   "metadata": {
    "execution": {
     "iopub.execute_input": "2025-07-23T14:22:19.991775Z",
     "iopub.status.busy": "2025-07-23T14:22:19.990236Z",
     "iopub.status.idle": "2025-07-23T14:22:20.295033Z",
     "shell.execute_reply": "2025-07-23T14:22:20.293872Z"
    },
    "papermill": {
     "duration": 0.33343,
     "end_time": "2025-07-23T14:22:20.297237",
     "exception": false,
     "start_time": "2025-07-23T14:22:19.963807",
     "status": "completed"
    },
    "tags": []
   },
   "outputs": [],
   "source": [
    "from fairness_multiverse.conformal import build_cp_groups\n",
    "\n",
    "cp_groups_df = build_cp_groups(pred_sets, y_true, X_test.index, org_test)\n",
    "#needs universe_id and setting"
   ]
  },
  {
   "cell_type": "code",
   "execution_count": 48,
   "id": "c3b92545-903e-4839-89af-0f057907d7d6",
   "metadata": {
    "execution": {
     "iopub.execute_input": "2025-07-23T14:22:20.351406Z",
     "iopub.status.busy": "2025-07-23T14:22:20.350633Z",
     "iopub.status.idle": "2025-07-23T14:22:21.429276Z",
     "shell.execute_reply": "2025-07-23T14:22:21.428368Z"
    },
    "papermill": {
     "duration": 1.106768,
     "end_time": "2025-07-23T14:22:21.430713",
     "exception": false,
     "start_time": "2025-07-23T14:22:20.323945",
     "status": "completed"
    },
    "tags": []
   },
   "outputs": [],
   "source": [
    "# Define covered = 1 if true_label is in the predicted set\n",
    "cp_groups_df['covered'] = cp_groups_df.apply(\n",
    "    lambda r: int(r['true_label'] in r['pred_set']),\n",
    "    axis=1\n",
    ")"
   ]
  },
  {
   "cell_type": "code",
   "execution_count": 49,
   "id": "338ff529-1a6b-4b87-a931-8e4788d52aad",
   "metadata": {
    "execution": {
     "iopub.execute_input": "2025-07-23T14:22:22.882421Z",
     "iopub.status.busy": "2025-07-23T14:22:22.882039Z",
     "iopub.status.idle": "2025-07-23T14:22:22.886409Z",
     "shell.execute_reply": "2025-07-23T14:22:22.885638Z"
    },
    "papermill": {
     "duration": 0.019502,
     "end_time": "2025-07-23T14:22:22.887748",
     "exception": false,
     "start_time": "2025-07-23T14:22:22.868246",
     "status": "completed"
    },
    "tags": []
   },
   "outputs": [],
   "source": [
    "#cp_groups_df"
   ]
  },
  {
   "cell_type": "code",
   "execution_count": 50,
   "id": "90032e27-66df-4540-9169-4e89cfbaa758",
   "metadata": {
    "execution": {
     "iopub.execute_input": "2025-07-23T14:22:22.913459Z",
     "iopub.status.busy": "2025-07-23T14:22:22.913063Z",
     "iopub.status.idle": "2025-07-23T14:22:23.732634Z",
     "shell.execute_reply": "2025-07-23T14:22:23.731702Z"
    },
    "papermill": {
     "duration": 0.833848,
     "end_time": "2025-07-23T14:22:23.734299",
     "exception": false,
     "start_time": "2025-07-23T14:22:22.900451",
     "status": "completed"
    },
    "tags": []
   },
   "outputs": [],
   "source": [
    "subgroups = ['frau1','nongerman','nongerman_male','nongerman_female']\n",
    "\n",
    "# Conditional coverage for subgroup==1\n",
    "cond_coverage = {\n",
    "    g: cp_groups_df.loc[cp_groups_df[g]==1, 'covered'].mean()\n",
    "    for g in subgroups\n",
    "}"
   ]
  },
  {
   "cell_type": "code",
   "execution_count": 51,
   "id": "1e348fb1-b9c3-45bc-ba23-f016827a7e0d",
   "metadata": {
    "execution": {
     "iopub.execute_input": "2025-07-23T14:22:23.764674Z",
     "iopub.status.busy": "2025-07-23T14:22:23.764283Z",
     "iopub.status.idle": "2025-07-23T14:22:23.770710Z",
     "shell.execute_reply": "2025-07-23T14:22:23.769796Z"
    },
    "papermill": {
     "duration": 0.025003,
     "end_time": "2025-07-23T14:22:23.772116",
     "exception": false,
     "start_time": "2025-07-23T14:22:23.747113",
     "status": "completed"
    },
    "tags": []
   },
   "outputs": [
    {
     "data": {
      "text/plain": [
       "{'frau1': 0.9114166329694029,\n",
       " 'nongerman': 0.9104586537921743,\n",
       " 'nongerman_male': 0.9257858236512654,\n",
       " 'nongerman_female': 0.885096870342772}"
      ]
     },
     "execution_count": 51,
     "metadata": {},
     "output_type": "execute_result"
    }
   ],
   "source": [
    "cond_coverage"
   ]
  },
  {
   "cell_type": "code",
   "execution_count": 52,
   "id": "f5093324-c3dd-4d63-bc4c-8d945e5c8bbb",
   "metadata": {
    "execution": {
     "iopub.execute_input": "2025-07-23T14:22:23.798137Z",
     "iopub.status.busy": "2025-07-23T14:22:23.797712Z",
     "iopub.status.idle": "2025-07-23T14:22:23.803732Z",
     "shell.execute_reply": "2025-07-23T14:22:23.802857Z"
    },
    "papermill": {
     "duration": 0.020057,
     "end_time": "2025-07-23T14:22:23.805222",
     "exception": false,
     "start_time": "2025-07-23T14:22:23.785165",
     "status": "completed"
    },
    "tags": []
   },
   "outputs": [],
   "source": [
    "for subgroup, cov in cond_coverage.items():\n",
    "    cp_metrics_df[f\"cov_{subgroup}\"] = cov"
   ]
  },
  {
   "cell_type": "code",
   "execution_count": 53,
   "id": "6e872e10-dbe5-49e8-b554-5030c98ff75d",
   "metadata": {
    "execution": {
     "iopub.execute_input": "2025-07-23T14:22:23.853129Z",
     "iopub.status.busy": "2025-07-23T14:22:23.852373Z",
     "iopub.status.idle": "2025-07-23T14:22:23.872854Z",
     "shell.execute_reply": "2025-07-23T14:22:23.871762Z"
    },
    "papermill": {
     "duration": 0.047402,
     "end_time": "2025-07-23T14:22:23.874834",
     "exception": false,
     "start_time": "2025-07-23T14:22:23.827432",
     "status": "completed"
    },
    "tags": []
   },
   "outputs": [
    {
     "data": {
      "text/html": [
       "<div>\n",
       "<style scoped>\n",
       "    .dataframe tbody tr th:only-of-type {\n",
       "        vertical-align: middle;\n",
       "    }\n",
       "\n",
       "    .dataframe tbody tr th {\n",
       "        vertical-align: top;\n",
       "    }\n",
       "\n",
       "    .dataframe thead th {\n",
       "        text-align: right;\n",
       "    }\n",
       "</style>\n",
       "<table border=\"1\" class=\"dataframe\">\n",
       "  <thead>\n",
       "    <tr style=\"text-align: right;\">\n",
       "      <th></th>\n",
       "      <th>universe_id</th>\n",
       "      <th>universe_model</th>\n",
       "      <th>universe_exclude_features</th>\n",
       "      <th>universe_exclude_subgroups</th>\n",
       "      <th>universe_scale</th>\n",
       "      <th>q_hat</th>\n",
       "      <th>coverage</th>\n",
       "      <th>avg_size</th>\n",
       "      <th>cov_frau1</th>\n",
       "      <th>cov_nongerman</th>\n",
       "      <th>cov_nongerman_male</th>\n",
       "      <th>cov_nongerman_female</th>\n",
       "    </tr>\n",
       "  </thead>\n",
       "  <tbody>\n",
       "    <tr>\n",
       "      <th>0</th>\n",
       "      <td>22c2dffeab3d2bb5c3ec86fe0972c853</td>\n",
       "      <td>logreg</td>\n",
       "      <td>nationality</td>\n",
       "      <td>drop-non-german</td>\n",
       "      <td>scale</td>\n",
       "      <td>0.660298</td>\n",
       "      <td>0.91147</td>\n",
       "      <td>1.124746</td>\n",
       "      <td>0.911417</td>\n",
       "      <td>0.910459</td>\n",
       "      <td>0.925786</td>\n",
       "      <td>0.885097</td>\n",
       "    </tr>\n",
       "  </tbody>\n",
       "</table>\n",
       "</div>"
      ],
      "text/plain": [
       "                        universe_id universe_model universe_exclude_features  \\\n",
       "0  22c2dffeab3d2bb5c3ec86fe0972c853         logreg               nationality   \n",
       "\n",
       "  universe_exclude_subgroups universe_scale     q_hat  coverage  avg_size  \\\n",
       "0            drop-non-german          scale  0.660298   0.91147  1.124746   \n",
       "\n",
       "   cov_frau1  cov_nongerman  cov_nongerman_male  cov_nongerman_female  \n",
       "0   0.911417       0.910459            0.925786              0.885097  "
      ]
     },
     "execution_count": 53,
     "metadata": {},
     "output_type": "execute_result"
    }
   ],
   "source": [
    "cp_metrics_df"
   ]
  },
  {
   "cell_type": "markdown",
   "id": "33774451",
   "metadata": {
    "papermill": {
     "duration": 0.022248,
     "end_time": "2025-07-23T14:22:23.922299",
     "exception": false,
     "start_time": "2025-07-23T14:22:23.900051",
     "status": "completed"
    },
    "tags": []
   },
   "source": [
    "# (Fairness) Metrics"
   ]
  },
  {
   "cell_type": "code",
   "execution_count": 54,
   "id": "debc5d62",
   "metadata": {
    "execution": {
     "iopub.execute_input": "2025-07-23T14:22:24.113137Z",
     "iopub.status.busy": "2025-07-23T14:22:24.112045Z",
     "iopub.status.idle": "2025-07-23T14:22:24.137427Z",
     "shell.execute_reply": "2025-07-23T14:22:24.136485Z"
    },
    "papermill": {
     "duration": 0.052823,
     "end_time": "2025-07-23T14:22:24.138842",
     "exception": false,
     "start_time": "2025-07-23T14:22:24.086019",
     "status": "completed"
    },
    "tags": []
   },
   "outputs": [],
   "source": [
    "# do I need to include maxdeutsch1.missing?\n",
    "\n",
    "import numpy as np\n",
    "\n",
    "colname_to_bin = \"maxdeutsch1\"\n",
    "majority_value = org_train[colname_to_bin].mode()[0]\n",
    "\n",
    "org_test[\"majmin\"] = np.where(org_test[colname_to_bin] == majority_value, \"majority\", \"minority\")"
   ]
  },
  {
   "cell_type": "code",
   "execution_count": 55,
   "id": "06a50de5",
   "metadata": {
    "execution": {
     "iopub.execute_input": "2025-07-23T14:22:24.185662Z",
     "iopub.status.busy": "2025-07-23T14:22:24.184690Z",
     "iopub.status.idle": "2025-07-23T14:22:27.063731Z",
     "shell.execute_reply": "2025-07-23T14:22:27.062947Z"
    },
    "papermill": {
     "duration": 2.904967,
     "end_time": "2025-07-23T14:22:27.065453",
     "exception": false,
     "start_time": "2025-07-23T14:22:24.160486",
     "status": "completed"
    },
    "tags": []
   },
   "outputs": [],
   "source": [
    "example_universe = universe.copy()\n",
    "example_universe[\"cutoff\"] = example_universe[\"cutoff\"][0]\n",
    "example_universe[\"eval_fairness_grouping\"] = example_universe[\"eval_fairness_grouping\"][0]\n",
    "fairness_dict, metric_frame = universe_analysis.compute_metrics(\n",
    "    example_universe,\n",
    "    y_pred_prob=probs_test,\n",
    "    y_test=y_true,\n",
    "    org_test=org_test,\n",
    ")"
   ]
  },
  {
   "cell_type": "markdown",
   "id": "f95d4e02",
   "metadata": {
    "papermill": {
     "duration": 0.012043,
     "end_time": "2025-07-23T14:22:27.092400",
     "exception": false,
     "start_time": "2025-07-23T14:22:27.080357",
     "status": "completed"
    },
    "tags": []
   },
   "source": [
    "# Overall"
   ]
  },
  {
   "cell_type": "markdown",
   "id": "bdee4871",
   "metadata": {
    "papermill": {
     "duration": 0.01225,
     "end_time": "2025-07-23T14:22:27.116571",
     "exception": false,
     "start_time": "2025-07-23T14:22:27.104321",
     "status": "completed"
    },
    "tags": []
   },
   "source": [
    "Fairness\n",
    "Main fairness target: Equalized Odds. Seems to be a better fit than equal opportunity, since we're not only interested in Y = 1. Seems to be a better fit than demographic parity, since we also care about accuracy, not just equal distribution of preds.\n",
    "\n",
    "Pick column for computation of fairness metrics\n",
    "\n",
    "Performance\n",
    "Overall performance measures, most interesting in relation to the measures split by group below"
   ]
  },
  {
   "cell_type": "code",
   "execution_count": 56,
   "id": "c4e067c6",
   "metadata": {
    "execution": {
     "iopub.execute_input": "2025-07-23T14:22:27.142137Z",
     "iopub.status.busy": "2025-07-23T14:22:27.141805Z",
     "iopub.status.idle": "2025-07-23T14:22:27.148722Z",
     "shell.execute_reply": "2025-07-23T14:22:27.147862Z"
    },
    "papermill": {
     "duration": 0.021114,
     "end_time": "2025-07-23T14:22:27.150212",
     "exception": false,
     "start_time": "2025-07-23T14:22:27.129098",
     "status": "completed"
    },
    "tags": []
   },
   "outputs": [
    {
     "data": {
      "text/plain": [
       "accuracy                   0.225761\n",
       "balanced accuracy          0.551726\n",
       "f1                         0.247054\n",
       "precision                  0.141134\n",
       "false positive rate        0.886729\n",
       "false negative rate        0.009819\n",
       "selection rate             0.900000\n",
       "count                  89710.000000\n",
       "dtype: float64"
      ]
     },
     "execution_count": 56,
     "metadata": {},
     "output_type": "execute_result"
    }
   ],
   "source": [
    "metric_frame.overall"
   ]
  },
  {
   "cell_type": "markdown",
   "id": "e968fe9d",
   "metadata": {
    "papermill": {
     "duration": 0.011951,
     "end_time": "2025-07-23T14:22:27.174659",
     "exception": false,
     "start_time": "2025-07-23T14:22:27.162708",
     "status": "completed"
    },
    "tags": []
   },
   "source": [
    "By Group"
   ]
  },
  {
   "cell_type": "code",
   "execution_count": 57,
   "id": "ec325bce",
   "metadata": {
    "execution": {
     "iopub.execute_input": "2025-07-23T14:22:27.200176Z",
     "iopub.status.busy": "2025-07-23T14:22:27.199569Z",
     "iopub.status.idle": "2025-07-23T14:22:27.212073Z",
     "shell.execute_reply": "2025-07-23T14:22:27.211240Z"
    },
    "papermill": {
     "duration": 0.027397,
     "end_time": "2025-07-23T14:22:27.213811",
     "exception": false,
     "start_time": "2025-07-23T14:22:27.186414",
     "status": "completed"
    },
    "tags": []
   },
   "outputs": [
    {
     "data": {
      "text/html": [
       "<div>\n",
       "<style scoped>\n",
       "    .dataframe tbody tr th:only-of-type {\n",
       "        vertical-align: middle;\n",
       "    }\n",
       "\n",
       "    .dataframe tbody tr th {\n",
       "        vertical-align: top;\n",
       "    }\n",
       "\n",
       "    .dataframe thead th {\n",
       "        text-align: right;\n",
       "    }\n",
       "</style>\n",
       "<table border=\"1\" class=\"dataframe\">\n",
       "  <thead>\n",
       "    <tr style=\"text-align: right;\">\n",
       "      <th></th>\n",
       "      <th>accuracy</th>\n",
       "      <th>balanced accuracy</th>\n",
       "      <th>f1</th>\n",
       "      <th>precision</th>\n",
       "      <th>false positive rate</th>\n",
       "      <th>false negative rate</th>\n",
       "      <th>selection rate</th>\n",
       "      <th>count</th>\n",
       "    </tr>\n",
       "    <tr>\n",
       "      <th>majmin</th>\n",
       "      <th></th>\n",
       "      <th></th>\n",
       "      <th></th>\n",
       "      <th></th>\n",
       "      <th></th>\n",
       "      <th></th>\n",
       "      <th></th>\n",
       "      <th></th>\n",
       "    </tr>\n",
       "  </thead>\n",
       "  <tbody>\n",
       "    <tr>\n",
       "      <th>majority</th>\n",
       "      <td>0.247737</td>\n",
       "      <td>0.561916</td>\n",
       "      <td>0.257845</td>\n",
       "      <td>0.148248</td>\n",
       "      <td>0.865117</td>\n",
       "      <td>0.011050</td>\n",
       "      <td>0.881480</td>\n",
       "      <td>69170.0</td>\n",
       "    </tr>\n",
       "    <tr>\n",
       "      <th>minority</th>\n",
       "      <td>0.151753</td>\n",
       "      <td>0.518405</td>\n",
       "      <td>0.212876</td>\n",
       "      <td>0.119189</td>\n",
       "      <td>0.958122</td>\n",
       "      <td>0.005068</td>\n",
       "      <td>0.962366</td>\n",
       "      <td>20540.0</td>\n",
       "    </tr>\n",
       "  </tbody>\n",
       "</table>\n",
       "</div>"
      ],
      "text/plain": [
       "          accuracy  balanced accuracy        f1  precision  \\\n",
       "majmin                                                       \n",
       "majority  0.247737           0.561916  0.257845   0.148248   \n",
       "minority  0.151753           0.518405  0.212876   0.119189   \n",
       "\n",
       "          false positive rate  false negative rate  selection rate    count  \n",
       "majmin                                                                       \n",
       "majority             0.865117             0.011050        0.881480  69170.0  \n",
       "minority             0.958122             0.005068        0.962366  20540.0  "
      ]
     },
     "execution_count": 57,
     "metadata": {},
     "output_type": "execute_result"
    }
   ],
   "source": [
    "metric_frame.by_group"
   ]
  },
  {
   "cell_type": "code",
   "execution_count": 58,
   "id": "a9ddbe63",
   "metadata": {
    "execution": {
     "iopub.execute_input": "2025-07-23T14:22:27.260046Z",
     "iopub.status.busy": "2025-07-23T14:22:27.259192Z",
     "iopub.status.idle": "2025-07-23T14:22:30.223388Z",
     "shell.execute_reply": "2025-07-23T14:22:30.222160Z"
    },
    "papermill": {
     "duration": 2.989211,
     "end_time": "2025-07-23T14:22:30.225544",
     "exception": false,
     "start_time": "2025-07-23T14:22:27.236333",
     "status": "completed"
    },
    "tags": []
   },
   "outputs": [
    {
     "data": {
      "text/plain": [
       "array([[<Axes: title={'center': 'accuracy'}, xlabel='majmin'>,\n",
       "        <Axes: title={'center': 'balanced accuracy'}, xlabel='majmin'>,\n",
       "        <Axes: title={'center': 'f1'}, xlabel='majmin'>],\n",
       "       [<Axes: title={'center': 'precision'}, xlabel='majmin'>,\n",
       "        <Axes: title={'center': 'false positive rate'}, xlabel='majmin'>,\n",
       "        <Axes: title={'center': 'false negative rate'}, xlabel='majmin'>],\n",
       "       [<Axes: title={'center': 'selection rate'}, xlabel='majmin'>,\n",
       "        <Axes: title={'center': 'count'}, xlabel='majmin'>,\n",
       "        <Axes: xlabel='majmin'>]], dtype=object)"
      ]
     },
     "execution_count": 58,
     "metadata": {},
     "output_type": "execute_result"
    },
    {
     "data": {
      "image/png": "[encoded data removed]",
      "text/plain": [
       "<Figure size 1200x800 with 9 Axes>"
      ]
     },
     "metadata": {},
     "output_type": "display_data"
    }
   ],
   "source": [
    "# In a graphic\n",
    "metric_frame.by_group.plot.bar(\n",
    "    subplots=True,\n",
    "    layout=[3, 3],\n",
    "    legend=False,\n",
    "    figsize=[12, 8],\n",
    "    title=\"Show all metrics\",\n",
    ")"
   ]
  },
  {
   "cell_type": "markdown",
   "id": "f57a0bac",
   "metadata": {
    "papermill": {
     "duration": 0.027239,
     "end_time": "2025-07-23T14:22:30.283464",
     "exception": false,
     "start_time": "2025-07-23T14:22:30.256225",
     "status": "completed"
    },
    "tags": []
   },
   "source": [
    "# Final Output"
   ]
  },
  {
   "cell_type": "code",
   "execution_count": 59,
   "id": "96d280a3",
   "metadata": {
    "execution": {
     "iopub.execute_input": "2025-07-23T14:22:30.340126Z",
     "iopub.status.busy": "2025-07-23T14:22:30.339180Z",
     "iopub.status.idle": "2025-07-23T14:22:30.348425Z",
     "shell.execute_reply": "2025-07-23T14:22:30.347496Z"
    },
    "papermill": {
     "duration": 0.044335,
     "end_time": "2025-07-23T14:22:30.350314",
     "exception": false,
     "start_time": "2025-07-23T14:22:30.305979",
     "status": "completed"
    },
    "tags": []
   },
   "outputs": [
    {
     "data": {
      "text/plain": [
       "4"
      ]
     },
     "execution_count": 59,
     "metadata": {},
     "output_type": "execute_result"
    }
   ],
   "source": [
    "sub_universes = universe_analysis.generate_sub_universes()\n",
    "len(sub_universes)"
   ]
  },
  {
   "cell_type": "code",
   "execution_count": 60,
   "id": "92adf7ba",
   "metadata": {
    "execution": {
     "iopub.execute_input": "2025-07-23T14:22:30.411546Z",
     "iopub.status.busy": "2025-07-23T14:22:30.411005Z",
     "iopub.status.idle": "2025-07-23T14:22:30.418093Z",
     "shell.execute_reply": "2025-07-23T14:22:30.416957Z"
    },
    "papermill": {
     "duration": 0.039753,
     "end_time": "2025-07-23T14:22:30.419910",
     "exception": false,
     "start_time": "2025-07-23T14:22:30.380157",
     "status": "completed"
    },
    "tags": []
   },
   "outputs": [],
   "source": [
    "def filter_sub_universe_data(sub_universe, org_test):\n",
    "    # Keep all rows — no filtering\n",
    "    keep_rows_mask = np.ones(org_test.shape[0], dtype=bool)\n",
    "\n",
    "    print(f\"[INFO] Keeping all rows: {keep_rows_mask.sum()} rows retained.\")\n",
    "    return keep_rows_mask"
   ]
  },
  {
   "cell_type": "code",
   "execution_count": 61,
   "id": "4a759155",
   "metadata": {
    "execution": {
     "iopub.execute_input": "2025-07-23T14:22:30.469123Z",
     "iopub.status.busy": "2025-07-23T14:22:30.468706Z",
     "iopub.status.idle": "2025-07-23T14:22:38.794241Z",
     "shell.execute_reply": "2025-07-23T14:22:38.793406Z"
    },
    "papermill": {
     "duration": 8.356372,
     "end_time": "2025-07-23T14:22:38.795643",
     "exception": false,
     "start_time": "2025-07-23T14:22:30.439271",
     "status": "completed"
    },
    "tags": []
   },
   "outputs": [
    {
     "name": "stdout",
     "output_type": "stream",
     "text": [
      "Stopping execution_time clock.\n",
      "[INFO] Keeping all rows: 89710 rows retained.\n"
     ]
    },
    {
     "name": "stdout",
     "output_type": "stream",
     "text": [
      "[INFO] Keeping all rows: 89710 rows retained.\n"
     ]
    },
    {
     "name": "stdout",
     "output_type": "stream",
     "text": [
      "[INFO] Keeping all rows: 89710 rows retained.\n"
     ]
    },
    {
     "name": "stdout",
     "output_type": "stream",
     "text": [
      "[INFO] Keeping all rows: 89710 rows retained.\n"
     ]
    },
    {
     "data": {
      "text/html": [
       "<div>\n",
       "<style scoped>\n",
       "    .dataframe tbody tr th:only-of-type {\n",
       "        vertical-align: middle;\n",
       "    }\n",
       "\n",
       "    .dataframe tbody tr th {\n",
       "        vertical-align: top;\n",
       "    }\n",
       "\n",
       "    .dataframe thead th {\n",
       "        text-align: right;\n",
       "    }\n",
       "</style>\n",
       "<table border=\"1\" class=\"dataframe\">\n",
       "  <thead>\n",
       "    <tr style=\"text-align: right;\">\n",
       "      <th></th>\n",
       "      <th>run_no</th>\n",
       "      <th>universe_id</th>\n",
       "      <th>universe_settings</th>\n",
       "      <th>execution_time</th>\n",
       "      <th>test_size_n</th>\n",
       "      <th>test_size_frac</th>\n",
       "      <th>fair_main_equalized_odds_difference</th>\n",
       "      <th>fair_main_equalized_odds_ratio</th>\n",
       "      <th>fair_main_demographic_parity_difference</th>\n",
       "      <th>fair_main_demographic_parity_ratio</th>\n",
       "      <th>...</th>\n",
       "      <th>perf_grp_precision_0</th>\n",
       "      <th>perf_grp_precision_1</th>\n",
       "      <th>perf_grp_false positive rate_0</th>\n",
       "      <th>perf_grp_false positive rate_1</th>\n",
       "      <th>perf_grp_false negative rate_0</th>\n",
       "      <th>perf_grp_false negative rate_1</th>\n",
       "      <th>perf_grp_selection rate_0</th>\n",
       "      <th>perf_grp_selection rate_1</th>\n",
       "      <th>perf_grp_count_0</th>\n",
       "      <th>perf_grp_count_1</th>\n",
       "    </tr>\n",
       "  </thead>\n",
       "  <tbody>\n",
       "    <tr>\n",
       "      <th>0</th>\n",
       "      <td>8</td>\n",
       "      <td>22c2dffeab3d2bb5c3ec86fe0972c853</td>\n",
       "      <td>{\"cutoff\": \"quantile_0.1\", \"eval_fairness_grou...</td>\n",
       "      <td>26.456826</td>\n",
       "      <td>89710</td>\n",
       "      <td>1.0</td>\n",
       "      <td>0.093005</td>\n",
       "      <td>0.902930</td>\n",
       "      <td>0.080886</td>\n",
       "      <td>0.915951</td>\n",
       "      <td>...</td>\n",
       "      <td>NaN</td>\n",
       "      <td>NaN</td>\n",
       "      <td>NaN</td>\n",
       "      <td>NaN</td>\n",
       "      <td>NaN</td>\n",
       "      <td>NaN</td>\n",
       "      <td>NaN</td>\n",
       "      <td>NaN</td>\n",
       "      <td>NaN</td>\n",
       "      <td>NaN</td>\n",
       "    </tr>\n",
       "    <tr>\n",
       "      <th>0</th>\n",
       "      <td>8</td>\n",
       "      <td>22c2dffeab3d2bb5c3ec86fe0972c853</td>\n",
       "      <td>{\"cutoff\": \"quantile_0.1\", \"eval_fairness_grou...</td>\n",
       "      <td>26.456826</td>\n",
       "      <td>89710</td>\n",
       "      <td>1.0</td>\n",
       "      <td>0.093005</td>\n",
       "      <td>0.902930</td>\n",
       "      <td>0.080886</td>\n",
       "      <td>0.915951</td>\n",
       "      <td>...</td>\n",
       "      <td>0.119189</td>\n",
       "      <td>0.148248</td>\n",
       "      <td>0.958122</td>\n",
       "      <td>0.865117</td>\n",
       "      <td>0.005068</td>\n",
       "      <td>0.011050</td>\n",
       "      <td>0.962366</td>\n",
       "      <td>0.881480</td>\n",
       "      <td>20540.0</td>\n",
       "      <td>69170.0</td>\n",
       "    </tr>\n",
       "    <tr>\n",
       "      <th>0</th>\n",
       "      <td>8</td>\n",
       "      <td>22c2dffeab3d2bb5c3ec86fe0972c853</td>\n",
       "      <td>{\"cutoff\": \"quantile_0.25\", \"eval_fairness_gro...</td>\n",
       "      <td>26.456826</td>\n",
       "      <td>89710</td>\n",
       "      <td>1.0</td>\n",
       "      <td>0.140671</td>\n",
       "      <td>0.830103</td>\n",
       "      <td>0.120799</td>\n",
       "      <td>0.856726</td>\n",
       "      <td>...</td>\n",
       "      <td>NaN</td>\n",
       "      <td>NaN</td>\n",
       "      <td>NaN</td>\n",
       "      <td>NaN</td>\n",
       "      <td>NaN</td>\n",
       "      <td>NaN</td>\n",
       "      <td>NaN</td>\n",
       "      <td>NaN</td>\n",
       "      <td>NaN</td>\n",
       "      <td>NaN</td>\n",
       "    </tr>\n",
       "    <tr>\n",
       "      <th>0</th>\n",
       "      <td>8</td>\n",
       "      <td>22c2dffeab3d2bb5c3ec86fe0972c853</td>\n",
       "      <td>{\"cutoff\": \"quantile_0.25\", \"eval_fairness_gro...</td>\n",
       "      <td>26.456826</td>\n",
       "      <td>89710</td>\n",
       "      <td>1.0</td>\n",
       "      <td>0.140671</td>\n",
       "      <td>0.830103</td>\n",
       "      <td>0.120799</td>\n",
       "      <td>0.856726</td>\n",
       "      <td>...</td>\n",
       "      <td>0.131193</td>\n",
       "      <td>0.174225</td>\n",
       "      <td>0.827977</td>\n",
       "      <td>0.687306</td>\n",
       "      <td>0.040541</td>\n",
       "      <td>0.047593</td>\n",
       "      <td>0.843135</td>\n",
       "      <td>0.722336</td>\n",
       "      <td>20540.0</td>\n",
       "      <td>69170.0</td>\n",
       "    </tr>\n",
       "  </tbody>\n",
       "</table>\n",
       "<p>4 rows × 50 columns</p>\n",
       "</div>"
      ],
      "text/plain": [
       "  run_no                       universe_id  \\\n",
       "0      8  22c2dffeab3d2bb5c3ec86fe0972c853   \n",
       "0      8  22c2dffeab3d2bb5c3ec86fe0972c853   \n",
       "0      8  22c2dffeab3d2bb5c3ec86fe0972c853   \n",
       "0      8  22c2dffeab3d2bb5c3ec86fe0972c853   \n",
       "\n",
       "                                   universe_settings  execution_time  \\\n",
       "0  {\"cutoff\": \"quantile_0.1\", \"eval_fairness_grou...       26.456826   \n",
       "0  {\"cutoff\": \"quantile_0.1\", \"eval_fairness_grou...       26.456826   \n",
       "0  {\"cutoff\": \"quantile_0.25\", \"eval_fairness_gro...       26.456826   \n",
       "0  {\"cutoff\": \"quantile_0.25\", \"eval_fairness_gro...       26.456826   \n",
       "\n",
       "   test_size_n  test_size_frac  fair_main_equalized_odds_difference  \\\n",
       "0        89710             1.0                             0.093005   \n",
       "0        89710             1.0                             0.093005   \n",
       "0        89710             1.0                             0.140671   \n",
       "0        89710             1.0                             0.140671   \n",
       "\n",
       "   fair_main_equalized_odds_ratio  fair_main_demographic_parity_difference  \\\n",
       "0                        0.902930                                 0.080886   \n",
       "0                        0.902930                                 0.080886   \n",
       "0                        0.830103                                 0.120799   \n",
       "0                        0.830103                                 0.120799   \n",
       "\n",
       "   fair_main_demographic_parity_ratio  ...  perf_grp_precision_0  \\\n",
       "0                            0.915951  ...                   NaN   \n",
       "0                            0.915951  ...              0.119189   \n",
       "0                            0.856726  ...                   NaN   \n",
       "0                            0.856726  ...              0.131193   \n",
       "\n",
       "   perf_grp_precision_1  perf_grp_false positive rate_0  \\\n",
       "0                   NaN                             NaN   \n",
       "0              0.148248                        0.958122   \n",
       "0                   NaN                             NaN   \n",
       "0              0.174225                        0.827977   \n",
       "\n",
       "   perf_grp_false positive rate_1  perf_grp_false negative rate_0  \\\n",
       "0                             NaN                             NaN   \n",
       "0                        0.865117                        0.005068   \n",
       "0                             NaN                             NaN   \n",
       "0                        0.687306                        0.040541   \n",
       "\n",
       "   perf_grp_false negative rate_1  perf_grp_selection rate_0  \\\n",
       "0                             NaN                        NaN   \n",
       "0                        0.011050                   0.962366   \n",
       "0                             NaN                        NaN   \n",
       "0                        0.047593                   0.843135   \n",
       "\n",
       "   perf_grp_selection rate_1  perf_grp_count_0  perf_grp_count_1  \n",
       "0                        NaN               NaN               NaN  \n",
       "0                   0.881480           20540.0           69170.0  \n",
       "0                        NaN               NaN               NaN  \n",
       "0                   0.722336           20540.0           69170.0  \n",
       "\n",
       "[4 rows x 50 columns]"
      ]
     },
     "execution_count": 61,
     "metadata": {},
     "output_type": "execute_result"
    }
   ],
   "source": [
    "final_output = universe_analysis.generate_final_output(\n",
    "    y_pred_prob=probs_test,\n",
    "    y_test=y_true,\n",
    "    org_test=org_test,\n",
    "    filter_data=filter_sub_universe_data,\n",
    "    cp_metrics_df=cp_metrics_df,\n",
    "    save=True,\n",
    ")\n",
    "final_output"
   ]
  },
  {
   "cell_type": "code",
   "execution_count": null,
   "id": "721ff514-cb11-46f8-b6fc-50392f74b5cb",
   "metadata": {
    "papermill": {
     "duration": 0.014278,
     "end_time": "2025-07-23T14:22:38.828586",
     "exception": false,
     "start_time": "2025-07-23T14:22:38.814308",
     "status": "completed"
    },
    "tags": []
   },
   "outputs": [],
   "source": []
  }
 ],
 "metadata": {
  "celltoolbar": "Tags",
  "kernelspec": {
   "display_name": "Python (CMA Fairness)",
   "language": "python",
   "name": "cma_fair_env"
  },
  "language_info": {
   "codemirror_mode": {
    "name": "ipython",
    "version": 3
   },
   "file_extension": ".py",
   "mimetype": "text/x-python",
   "name": "python",
   "nbconvert_exporter": "python",
   "pygments_lexer": "ipython3",
   "version": "3.10.12"
  },
  "papermill": {
   "default_parameters": {},
   "duration": 42.4967,
   "end_time": "2025-07-23T14:22:39.460830",
   "environment_variables": {},
   "exception": null,
   "input_path": "universe_analysis.ipynb",
   "output_path": "output/runs/8/notebooks/m_8-22c2dffeab3d2bb5c3ec86fe0972c853.ipynb",
   "parameters": {
    "output_dir": "output",
    "run_no": "8",
    "seed": "2023",
    "universe": "{\"cutoff\": [\"quantile_0.1\", \"quantile_0.25\"], \"eval_fairness_grouping\": [\"majority-minority\", \"nationality-all\"], \"exclude_features\": \"nationality\", \"exclude_subgroups\": \"drop-non-german\", \"model\": \"logreg\", \"scale\": \"scale\"}",
    "universe_id": "22c2dffeab3d2bb5c3ec86fe0972c853"
   },
   "start_time": "2025-07-23T14:21:56.964130",
   "version": "2.6.0"
  }
 },
 "nbformat": 4,
 "nbformat_minor": 5
}