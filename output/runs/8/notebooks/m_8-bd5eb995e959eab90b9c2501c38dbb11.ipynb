{
 "cells": [
  {
   "cell_type": "code",
   "execution_count": 1,
   "id": "f159f837-637b-42ba-96b5-ec9a68c44524",
   "metadata": {
    "execution": {
     "iopub.execute_input": "2025-07-23T14:22:44.529539Z",
     "iopub.status.busy": "2025-07-23T14:22:44.529042Z",
     "iopub.status.idle": "2025-07-23T14:22:44.539831Z",
     "shell.execute_reply": "2025-07-23T14:22:44.538716Z"
    },
    "papermill": {
     "duration": 0.023043,
     "end_time": "2025-07-23T14:22:44.541749",
     "exception": false,
     "start_time": "2025-07-23T14:22:44.518706",
     "status": "completed"
    },
    "tags": []
   },
   "outputs": [
    {
     "name": "stdout",
     "output_type": "stream",
     "text": [
      "/dss/dsshome1/0C/ra93lal2/cma/CMA_Fairness_v2\n"
     ]
    },
    {
     "name": "stderr",
     "output_type": "stream",
     "text": [
      "/dss/dsshome1/0C/ra93lal2/.local/share/virtualenvs/CMA_Fairness_v2-3j10GkSs/lib/python3.10/site-packages/IPython/core/magics/osm.py:393: UserWarning: This is now an optional IPython functionality, using bookmarks requires you to install the `pickleshare` library.\n",
      "  bkms = self.shell.db.get('bookmarks', {})\n",
      "/dss/dsshome1/0C/ra93lal2/.local/share/virtualenvs/CMA_Fairness_v2-3j10GkSs/lib/python3.10/site-packages/IPython/core/magics/osm.py:417: UserWarning: This is now an optional IPython functionality, setting dhist requires you to install the `pickleshare` library.\n",
      "  self.shell.db['dhist'] = compress_dhist(dhist)[-100:]\n"
     ]
    }
   ],
   "source": [
    "%cd ~/cma/CMA_Fairness_v2"
   ]
  },
  {
   "cell_type": "markdown",
   "id": "de2603b9",
   "metadata": {
    "papermill": {
     "duration": 0.01774,
     "end_time": "2025-07-23T14:22:44.578416",
     "exception": false,
     "start_time": "2025-07-23T14:22:44.560676",
     "status": "completed"
    },
    "tags": []
   },
   "source": [
    "The following cell holds the definition of our parameters, these values can be overriden by rendering the with e.g. the following command:\n",
    "\n",
    "papermill -p alpha 0.2 -p ratio 0.3 universe_analysis.ipynb output/test_run.ipynb"
   ]
  },
  {
   "cell_type": "code",
   "execution_count": 2,
   "id": "a80968a0-40bb-4fa9-85ef-2d5eefb01975",
   "metadata": {
    "execution": {
     "iopub.execute_input": "2025-07-23T14:22:44.611893Z",
     "iopub.status.busy": "2025-07-23T14:22:44.611533Z",
     "iopub.status.idle": "2025-07-23T14:22:44.616930Z",
     "shell.execute_reply": "2025-07-23T14:22:44.615787Z"
    },
    "papermill": {
     "duration": 0.026246,
     "end_time": "2025-07-23T14:22:44.618361",
     "exception": false,
     "start_time": "2025-07-23T14:22:44.592115",
     "status": "completed"
    },
    "tags": []
   },
   "outputs": [
    {
     "name": "stdout",
     "output_type": "stream",
     "text": [
      "Current working directory: /dss/dsshome1/0C/ra93lal2/cma/CMA_Fairness_v2\n"
     ]
    }
   ],
   "source": [
    "import os\n",
    "print(\"Current working directory:\", os.getcwd())"
   ]
  },
  {
   "cell_type": "code",
   "execution_count": 3,
   "id": "2dce4c03",
   "metadata": {
    "execution": {
     "iopub.execute_input": "2025-07-23T14:22:44.640960Z",
     "iopub.status.busy": "2025-07-23T14:22:44.640392Z",
     "iopub.status.idle": "2025-07-23T14:22:44.645883Z",
     "shell.execute_reply": "2025-07-23T14:22:44.645063Z"
    },
    "papermill": {
     "duration": 0.01703,
     "end_time": "2025-07-23T14:22:44.647331",
     "exception": false,
     "start_time": "2025-07-23T14:22:44.630301",
     "status": "completed"
    },
    "tags": [
     "parameters"
    ]
   },
   "outputs": [],
   "source": [
    "run_no = 0\n",
    "universe_id = \"test\"\n",
    "universe = {\n",
    "    \"scale\": \"scale\", # \"scale\", \"do-not-scale\",\n",
    "    \"model\": \"elasticnet\", # \"logreg\", \"penalized_logreg\", \"rf\", \"gbm\", \"elasticnet\"\n",
    "    \"cutoff\": [\"quantile_0.15\", \"quantile_0.30\"],\n",
    "    \"exclude_features\": \"age\", # \"none\", \"nationality\", \"sex\", \"nationality-sex\", \"age\"\n",
    "    \"exclude_subgroups\": \"keep-all\", # \"keep-all\", \"drop-non-german\"\n",
    "    #\"training_sample\": \"restricted\", # \"restricted\", \"full\"\n",
    "    \"eval_fairness_grouping\": [\"majority-minority\", \"nationality-all\"]\n",
    "}\n",
    "\n",
    "output_dir=\"./output\"\n",
    "seed=0"
   ]
  },
  {
   "cell_type": "code",
   "execution_count": 4,
   "id": "f4bdc927",
   "metadata": {
    "execution": {
     "iopub.execute_input": "2025-07-23T14:22:44.677707Z",
     "iopub.status.busy": "2025-07-23T14:22:44.676855Z",
     "iopub.status.idle": "2025-07-23T14:22:44.682433Z",
     "shell.execute_reply": "2025-07-23T14:22:44.681514Z"
    },
    "papermill": {
     "duration": 0.026178,
     "end_time": "2025-07-23T14:22:44.684279",
     "exception": false,
     "start_time": "2025-07-23T14:22:44.658101",
     "status": "completed"
    },
    "tags": [
     "injected-parameters"
    ]
   },
   "outputs": [],
   "source": [
    "# Parameters\n",
    "universe_id = \"bd5eb995e959eab90b9c2501c38dbb11\"\n",
    "run_no = \"8\"\n",
    "universe = \"{\\\"cutoff\\\": [\\\"quantile_0.1\\\", \\\"quantile_0.25\\\"], \\\"eval_fairness_grouping\\\": [\\\"majority-minority\\\", \\\"nationality-all\\\"], \\\"exclude_features\\\": \\\"none\\\", \\\"exclude_subgroups\\\": \\\"keep-all\\\", \\\"model\\\": \\\"penalized_logreg\\\", \\\"scale\\\": \\\"scale\\\"}\"\n",
    "output_dir = \"output\"\n",
    "seed = \"2023\"\n"
   ]
  },
  {
   "cell_type": "code",
   "execution_count": 5,
   "id": "1650acaf",
   "metadata": {
    "execution": {
     "iopub.execute_input": "2025-07-23T14:22:44.720754Z",
     "iopub.status.busy": "2025-07-23T14:22:44.720392Z",
     "iopub.status.idle": "2025-07-23T14:22:44.724767Z",
     "shell.execute_reply": "2025-07-23T14:22:44.723867Z"
    },
    "papermill": {
     "duration": 0.023209,
     "end_time": "2025-07-23T14:22:44.726291",
     "exception": false,
     "start_time": "2025-07-23T14:22:44.703082",
     "status": "completed"
    },
    "tags": []
   },
   "outputs": [],
   "source": [
    "import json\n",
    "# Parse universe into dict if it is passed as a string\n",
    "if isinstance(universe, str):\n",
    "    universe = json.loads(universe)"
   ]
  },
  {
   "cell_type": "code",
   "execution_count": 6,
   "id": "16620c48",
   "metadata": {
    "execution": {
     "iopub.execute_input": "2025-07-23T14:22:44.746538Z",
     "iopub.status.busy": "2025-07-23T14:22:44.746151Z",
     "iopub.status.idle": "2025-07-23T14:22:44.797158Z",
     "shell.execute_reply": "2025-07-23T14:22:44.796272Z"
    },
    "papermill": {
     "duration": 0.062987,
     "end_time": "2025-07-23T14:22:44.799097",
     "exception": false,
     "start_time": "2025-07-23T14:22:44.736110",
     "status": "completed"
    },
    "tags": []
   },
   "outputs": [],
   "source": [
    "# Auto-reload the custom package\n",
    "%load_ext autoreload\n",
    "%autoreload 1\n",
    "%aimport fairness_multiverse"
   ]
  },
  {
   "cell_type": "code",
   "execution_count": 7,
   "id": "01c5c9f3",
   "metadata": {
    "execution": {
     "iopub.execute_input": "2025-07-23T14:22:44.837420Z",
     "iopub.status.busy": "2025-07-23T14:22:44.836918Z",
     "iopub.status.idle": "2025-07-23T14:22:46.893965Z",
     "shell.execute_reply": "2025-07-23T14:22:46.892866Z"
    },
    "papermill": {
     "duration": 2.078514,
     "end_time": "2025-07-23T14:22:46.896106",
     "exception": false,
     "start_time": "2025-07-23T14:22:44.817592",
     "status": "completed"
    },
    "tags": []
   },
   "outputs": [],
   "source": [
    "from fairness_multiverse.universe import UniverseAnalysis\n",
    "\n",
    "universe_analysis = UniverseAnalysis(\n",
    "    run_no = run_no,\n",
    "    universe_id = universe_id,\n",
    "    universe = universe,\n",
    "    output_dir=output_dir,\n",
    ")"
   ]
  },
  {
   "cell_type": "code",
   "execution_count": 8,
   "id": "106241f5",
   "metadata": {
    "execution": {
     "iopub.execute_input": "2025-07-23T14:22:46.934991Z",
     "iopub.status.busy": "2025-07-23T14:22:46.934468Z",
     "iopub.status.idle": "2025-07-23T14:22:46.941631Z",
     "shell.execute_reply": "2025-07-23T14:22:46.940600Z"
    },
    "papermill": {
     "duration": 0.028996,
     "end_time": "2025-07-23T14:22:46.944104",
     "exception": false,
     "start_time": "2025-07-23T14:22:46.915108",
     "status": "completed"
    },
    "tags": []
   },
   "outputs": [
    {
     "name": "stdout",
     "output_type": "stream",
     "text": [
      "Using Seed: 2023\n"
     ]
    }
   ],
   "source": [
    "import numpy as np\n",
    "parsed_seed = int(seed)\n",
    "np.random.seed(parsed_seed)\n",
    "print(f\"Using Seed: {parsed_seed}\")"
   ]
  },
  {
   "cell_type": "markdown",
   "id": "e0ebdc57",
   "metadata": {
    "papermill": {
     "duration": 0.019634,
     "end_time": "2025-07-23T14:22:46.984578",
     "exception": false,
     "start_time": "2025-07-23T14:22:46.964944",
     "status": "completed"
    },
    "tags": []
   },
   "source": [
    "# Loading Data"
   ]
  },
  {
   "cell_type": "markdown",
   "id": "681925a3",
   "metadata": {
    "papermill": {
     "duration": 0.010003,
     "end_time": "2025-07-23T14:22:47.010026",
     "exception": false,
     "start_time": "2025-07-23T14:22:47.000023",
     "status": "completed"
    },
    "tags": []
   },
   "source": [
    "Load siab_train, siab_test, siab_calib and/or \n",
    "load siab_train_features, siab_train_labels"
   ]
  },
  {
   "cell_type": "code",
   "execution_count": 9,
   "id": "f0496b8a",
   "metadata": {
    "execution": {
     "iopub.execute_input": "2025-07-23T14:22:47.030344Z",
     "iopub.status.busy": "2025-07-23T14:22:47.029884Z",
     "iopub.status.idle": "2025-07-23T14:22:47.036803Z",
     "shell.execute_reply": "2025-07-23T14:22:47.035465Z"
    },
    "papermill": {
     "duration": 0.019973,
     "end_time": "2025-07-23T14:22:47.039278",
     "exception": false,
     "start_time": "2025-07-23T14:22:47.019305",
     "status": "completed"
    },
    "tags": []
   },
   "outputs": [],
   "source": [
    "# Do I need to load siab? Delete this cell?\n",
    "\n",
    "#from pathlib import Path\n",
    "#import pandas as pd\n",
    "#\n",
    "## File paths\n",
    "#raw_file = Path(\"data/raw/siab.csv\")\n",
    "#cache_file = Path(\"data/siab_cached.csv.gz\")\n",
    "#\n",
    "## Ensure cache directory exists\n",
    "#cache_file.parent.mkdir(parents=True, exist_ok=True)\n",
    "#\n",
    "## Load with simple caching\n",
    "#if cache_file.exists():\n",
    "#    print(f\"Loading SIAB data from cache: {cache_file}\")\n",
    "#    siab = pd.read_csv(cache_file, compression='gzip')\n",
    "#else:\n",
    "#    print(f\"Cache not found. Reading raw SIAB data: {raw_file}\")\n",
    "#    siab = pd.read_csv(raw_file)\n",
    "#    siab.to_csv(cache_file, index=False, compression='gzip')\n",
    "#    print(f\"Cached SIAB data to: {cache_file}\")\n",
    "#\n",
    "## Now use `siab` DataFrame as needed\n",
    "#print(siab.shape)\n"
   ]
  },
  {
   "cell_type": "code",
   "execution_count": 10,
   "id": "a0edb063",
   "metadata": {
    "execution": {
     "iopub.execute_input": "2025-07-23T14:22:47.092975Z",
     "iopub.status.busy": "2025-07-23T14:22:47.091934Z",
     "iopub.status.idle": "2025-07-23T14:22:48.343623Z",
     "shell.execute_reply": "2025-07-23T14:22:48.342506Z"
    },
    "papermill": {
     "duration": 1.280472,
     "end_time": "2025-07-23T14:22:48.345809",
     "exception": false,
     "start_time": "2025-07-23T14:22:47.065337",
     "status": "completed"
    },
    "tags": []
   },
   "outputs": [],
   "source": [
    "import pandas as pd\n",
    "\n",
    "X_train = pd.read_csv(\"./data/X_train.csv\")\n",
    "y_train = pd.read_csv(\"./data/y_train.csv\")"
   ]
  },
  {
   "cell_type": "code",
   "execution_count": 11,
   "id": "63d08085",
   "metadata": {
    "execution": {
     "iopub.execute_input": "2025-07-23T14:22:48.387088Z",
     "iopub.status.busy": "2025-07-23T14:22:48.386428Z",
     "iopub.status.idle": "2025-07-23T14:22:49.677437Z",
     "shell.execute_reply": "2025-07-23T14:22:49.676625Z"
    },
    "papermill": {
     "duration": 1.314363,
     "end_time": "2025-07-23T14:22:49.679060",
     "exception": false,
     "start_time": "2025-07-23T14:22:48.364697",
     "status": "completed"
    },
    "tags": []
   },
   "outputs": [],
   "source": [
    "X_test = pd.read_csv(\"./data/X_test.csv\")\n",
    "y_true = pd.read_csv(\"./data/y_test.csv\")"
   ]
  },
  {
   "cell_type": "code",
   "execution_count": 12,
   "id": "98a8d0fa-1d3d-4ed8-bb2c-281470e24add",
   "metadata": {
    "execution": {
     "iopub.execute_input": "2025-07-23T14:22:49.700825Z",
     "iopub.status.busy": "2025-07-23T14:22:49.700248Z",
     "iopub.status.idle": "2025-07-23T14:22:51.296082Z",
     "shell.execute_reply": "2025-07-23T14:22:51.294930Z"
    },
    "papermill": {
     "duration": 1.609338,
     "end_time": "2025-07-23T14:22:51.298520",
     "exception": false,
     "start_time": "2025-07-23T14:22:49.689182",
     "status": "completed"
    },
    "tags": []
   },
   "outputs": [],
   "source": [
    "# Calibration data for conformal\n",
    "X_calib = pd.read_csv(\"./data/X_calib.csv\")\n",
    "y_calib = pd.read_csv(\"./data/y_calib.csv\")"
   ]
  },
  {
   "cell_type": "code",
   "execution_count": 13,
   "id": "e6c733c5",
   "metadata": {
    "execution": {
     "iopub.execute_input": "2025-07-23T14:22:51.346095Z",
     "iopub.status.busy": "2025-07-23T14:22:51.345557Z",
     "iopub.status.idle": "2025-07-23T14:22:51.474009Z",
     "shell.execute_reply": "2025-07-23T14:22:51.472536Z"
    },
    "papermill": {
     "duration": 0.157759,
     "end_time": "2025-07-23T14:22:51.476736",
     "exception": false,
     "start_time": "2025-07-23T14:22:51.318977",
     "status": "completed"
    },
    "tags": []
   },
   "outputs": [],
   "source": [
    "# Auxiliary data needed downstream in the pipeline\n",
    "\n",
    "org_train = X_train.copy()\n",
    "org_test = X_test.copy()\n",
    "org_calib = X_calib.copy()"
   ]
  },
  {
   "cell_type": "markdown",
   "id": "0a4a1b33",
   "metadata": {
    "papermill": {
     "duration": 0.02624,
     "end_time": "2025-07-23T14:22:51.527881",
     "exception": false,
     "start_time": "2025-07-23T14:22:51.501641",
     "status": "completed"
    },
    "tags": []
   },
   "source": [
    "# Preprocessing Data"
   ]
  },
  {
   "cell_type": "code",
   "execution_count": 14,
   "id": "ca879031",
   "metadata": {
    "execution": {
     "iopub.execute_input": "2025-07-23T14:22:51.577717Z",
     "iopub.status.busy": "2025-07-23T14:22:51.576710Z",
     "iopub.status.idle": "2025-07-23T14:22:51.585358Z",
     "shell.execute_reply": "2025-07-23T14:22:51.583949Z"
    },
    "papermill": {
     "duration": 0.036918,
     "end_time": "2025-07-23T14:22:51.587705",
     "exception": false,
     "start_time": "2025-07-23T14:22:51.550787",
     "status": "completed"
    },
    "tags": []
   },
   "outputs": [],
   "source": [
    "# EXCLUDE PROTECTED FEATURES\n",
    "# ----------------------\n",
    "# \"exclude_features\": \"none\", # \"nationality\", \"sex\", \"nationality-sex\"\n",
    "\n",
    "excluded_features = universe[\"exclude_features\"].split(\"-\") # split, e.g.: \"nationality-sex\" -> [\"nationality\", \"sex\"]\n",
    "excluded_features_dictionary = {\n",
    "    \"nationality\": [\"maxdeutsch1\", \"maxdeutsch.Missing.\"],\n",
    "    \"sex\": [\"frau1\"],\n",
    "    \"age\": [\"age\"],\n",
    "}\n"
   ]
  },
  {
   "cell_type": "code",
   "execution_count": 15,
   "id": "b745ac60",
   "metadata": {
    "execution": {
     "iopub.execute_input": "2025-07-23T14:22:51.618485Z",
     "iopub.status.busy": "2025-07-23T14:22:51.617804Z",
     "iopub.status.idle": "2025-07-23T14:22:51.624214Z",
     "shell.execute_reply": "2025-07-23T14:22:51.623354Z"
    },
    "papermill": {
     "duration": 0.021011,
     "end_time": "2025-07-23T14:22:51.625685",
     "exception": false,
     "start_time": "2025-07-23T14:22:51.604674",
     "status": "completed"
    },
    "tags": []
   },
   "outputs": [],
   "source": [
    "# Code nice names to column names\n",
    "\n",
    "excluded_features_columns = [\n",
    "    excluded_features_dictionary[f] for f in excluded_features if len(f) > 0 and f != \"none\"\n",
    "]"
   ]
  },
  {
   "cell_type": "code",
   "execution_count": 16,
   "id": "f84f73a2",
   "metadata": {
    "execution": {
     "iopub.execute_input": "2025-07-23T14:22:51.647986Z",
     "iopub.status.busy": "2025-07-23T14:22:51.647221Z",
     "iopub.status.idle": "2025-07-23T14:22:51.653274Z",
     "shell.execute_reply": "2025-07-23T14:22:51.652425Z"
    },
    "papermill": {
     "duration": 0.018348,
     "end_time": "2025-07-23T14:22:51.654715",
     "exception": false,
     "start_time": "2025-07-23T14:22:51.636367",
     "status": "completed"
    },
    "tags": []
   },
   "outputs": [],
   "source": [
    "from utils import flatten_once\n",
    "\n",
    "excluded_features_columns = flatten_once(excluded_features_columns)"
   ]
  },
  {
   "cell_type": "code",
   "execution_count": 17,
   "id": "884dea22",
   "metadata": {
    "execution": {
     "iopub.execute_input": "2025-07-23T14:22:51.683807Z",
     "iopub.status.busy": "2025-07-23T14:22:51.683258Z",
     "iopub.status.idle": "2025-07-23T14:22:51.689813Z",
     "shell.execute_reply": "2025-07-23T14:22:51.688802Z"
    },
    "papermill": {
     "duration": 0.024658,
     "end_time": "2025-07-23T14:22:51.691503",
     "exception": false,
     "start_time": "2025-07-23T14:22:51.666845",
     "status": "completed"
    },
    "tags": []
   },
   "outputs": [],
   "source": [
    "if len(excluded_features_columns) > 0:\n",
    "    print(f\"Dropping features: {excluded_features_columns}\")\n",
    "    X_train.drop(excluded_features_columns, axis=1, inplace=True)"
   ]
  },
  {
   "cell_type": "code",
   "execution_count": 18,
   "id": "95ab8b16",
   "metadata": {
    "execution": {
     "iopub.execute_input": "2025-07-23T14:22:51.717108Z",
     "iopub.status.busy": "2025-07-23T14:22:51.716729Z",
     "iopub.status.idle": "2025-07-23T14:22:51.721827Z",
     "shell.execute_reply": "2025-07-23T14:22:51.720607Z"
    },
    "papermill": {
     "duration": 0.019188,
     "end_time": "2025-07-23T14:22:51.723435",
     "exception": false,
     "start_time": "2025-07-23T14:22:51.704247",
     "status": "completed"
    },
    "tags": []
   },
   "outputs": [],
   "source": [
    "if len(excluded_features_columns) > 0:\n",
    "    print(f\"Dropping features: {excluded_features_columns}\")\n",
    "    X_test.drop(excluded_features_columns, axis=1, inplace=True)"
   ]
  },
  {
   "cell_type": "code",
   "execution_count": 19,
   "id": "1853aaf5-fb9f-46cb-a2b5-8ea4ae2237e4",
   "metadata": {
    "execution": {
     "iopub.execute_input": "2025-07-23T14:22:51.746436Z",
     "iopub.status.busy": "2025-07-23T14:22:51.745887Z",
     "iopub.status.idle": "2025-07-23T14:22:51.751555Z",
     "shell.execute_reply": "2025-07-23T14:22:51.750719Z"
    },
    "papermill": {
     "duration": 0.018609,
     "end_time": "2025-07-23T14:22:51.753109",
     "exception": false,
     "start_time": "2025-07-23T14:22:51.734500",
     "status": "completed"
    },
    "tags": []
   },
   "outputs": [],
   "source": [
    "if len(excluded_features_columns) > 0:\n",
    "    print(f\"Dropping features: {excluded_features_columns}\")\n",
    "    X_calib.drop(excluded_features_columns, axis=1, inplace=True)"
   ]
  },
  {
   "cell_type": "code",
   "execution_count": 20,
   "id": "76c4dc6d",
   "metadata": {
    "execution": {
     "iopub.execute_input": "2025-07-23T14:22:51.776395Z",
     "iopub.status.busy": "2025-07-23T14:22:51.775845Z",
     "iopub.status.idle": "2025-07-23T14:22:51.780772Z",
     "shell.execute_reply": "2025-07-23T14:22:51.779948Z"
    },
    "papermill": {
     "duration": 0.017865,
     "end_time": "2025-07-23T14:22:51.782369",
     "exception": false,
     "start_time": "2025-07-23T14:22:51.764504",
     "status": "completed"
    },
    "tags": []
   },
   "outputs": [],
   "source": [
    "# EXCLUDE CERTAIN SUBGROUPS\n",
    "# ----------------------\n",
    "\n",
    "mode = universe.get(\"exclude_subgroups\", \"keep-all\") \n",
    "# Fetches the exclude_subgroups setting from the universe dict.\n",
    "# Defaults to \"keep-all\" if the key is missing."
   ]
  },
  {
   "cell_type": "code",
   "execution_count": 21,
   "id": "21994072",
   "metadata": {
    "execution": {
     "iopub.execute_input": "2025-07-23T14:22:51.805556Z",
     "iopub.status.busy": "2025-07-23T14:22:51.805000Z",
     "iopub.status.idle": "2025-07-23T14:22:51.812251Z",
     "shell.execute_reply": "2025-07-23T14:22:51.811125Z"
    },
    "papermill": {
     "duration": 0.021558,
     "end_time": "2025-07-23T14:22:51.815157",
     "exception": false,
     "start_time": "2025-07-23T14:22:51.793599",
     "status": "completed"
    },
    "tags": []
   },
   "outputs": [],
   "source": [
    "if mode == \"keep-all\":\n",
    "    keep_mask = pd.Series(True, index=org_train.index)\n",
    "\n",
    "# org_train contains the original feature columns from features_org (in Simson)\n",
    "# features_org contains unprocessed features, for me X_train at beginning ???\n",
    "# For keep-all, creates a boolean Series (keep_mask) of all True, so no rows are removed.\n",
    "\n",
    "elif mode == \"drop-non-german\":\n",
    "    keep_mask = org_train[\"maxdeutsch1\"] == 1 # ??? what about missing values?\n",
    "\n",
    "else:\n",
    "    raise ValueError(f\"Unsupported mode for exclude_subgroups: {mode}\")\n"
   ]
  },
  {
   "cell_type": "code",
   "execution_count": 22,
   "id": "71651440",
   "metadata": {
    "execution": {
     "iopub.execute_input": "2025-07-23T14:22:51.857581Z",
     "iopub.status.busy": "2025-07-23T14:22:51.857086Z",
     "iopub.status.idle": "2025-07-23T14:22:51.864422Z",
     "shell.execute_reply": "2025-07-23T14:22:51.863258Z"
    },
    "papermill": {
     "duration": 0.030825,
     "end_time": "2025-07-23T14:22:51.866470",
     "exception": false,
     "start_time": "2025-07-23T14:22:51.835645",
     "status": "completed"
    },
    "tags": []
   },
   "outputs": [],
   "source": [
    "n_drop = (~keep_mask).sum() # Calculates how many rows are set to be dropped\n",
    "if n_drop > 0:\n",
    "    pct = n_drop / len(keep_mask) * 100\n",
    "    print(f\"Dropping {n_drop} rows ({pct:.2f}%) where mode='{mode}'\")"
   ]
  },
  {
   "cell_type": "code",
   "execution_count": 23,
   "id": "5fb8eee5",
   "metadata": {
    "execution": {
     "iopub.execute_input": "2025-07-23T14:22:51.907266Z",
     "iopub.status.busy": "2025-07-23T14:22:51.906776Z",
     "iopub.status.idle": "2025-07-23T14:22:51.963362Z",
     "shell.execute_reply": "2025-07-23T14:22:51.962032Z"
    },
    "papermill": {
     "duration": 0.07918,
     "end_time": "2025-07-23T14:22:51.965729",
     "exception": false,
     "start_time": "2025-07-23T14:22:51.886549",
     "status": "completed"
    },
    "tags": []
   },
   "outputs": [],
   "source": [
    "X_train = X_train[keep_mask]"
   ]
  },
  {
   "cell_type": "code",
   "execution_count": 24,
   "id": "b202bb3a",
   "metadata": {
    "execution": {
     "iopub.execute_input": "2025-07-23T14:22:52.005869Z",
     "iopub.status.busy": "2025-07-23T14:22:52.005349Z",
     "iopub.status.idle": "2025-07-23T14:22:52.013841Z",
     "shell.execute_reply": "2025-07-23T14:22:52.012637Z"
    },
    "papermill": {
     "duration": 0.029489,
     "end_time": "2025-07-23T14:22:52.016040",
     "exception": false,
     "start_time": "2025-07-23T14:22:51.986551",
     "status": "completed"
    },
    "tags": []
   },
   "outputs": [],
   "source": [
    "y_train = y_train[keep_mask]"
   ]
  },
  {
   "cell_type": "markdown",
   "id": "493e2ac3",
   "metadata": {
    "papermill": {
     "duration": 0.019054,
     "end_time": "2025-07-23T14:22:52.056774",
     "exception": false,
     "start_time": "2025-07-23T14:22:52.037720",
     "status": "completed"
    },
    "tags": []
   },
   "source": [
    "# Model Training"
   ]
  },
  {
   "cell_type": "code",
   "execution_count": 25,
   "id": "679e1268",
   "metadata": {
    "execution": {
     "iopub.execute_input": "2025-07-23T14:22:52.081549Z",
     "iopub.status.busy": "2025-07-23T14:22:52.081145Z",
     "iopub.status.idle": "2025-07-23T14:22:52.217107Z",
     "shell.execute_reply": "2025-07-23T14:22:52.215765Z"
    },
    "papermill": {
     "duration": 0.149445,
     "end_time": "2025-07-23T14:22:52.218902",
     "exception": false,
     "start_time": "2025-07-23T14:22:52.069457",
     "status": "completed"
    },
    "tags": []
   },
   "outputs": [],
   "source": [
    "from sklearn.linear_model import LogisticRegression\n",
    "from sklearn.ensemble import GradientBoostingClassifier, RandomForestClassifier\n",
    "\n",
    "if (universe[\"model\"] == \"logreg\"):\n",
    "    model = LogisticRegression() #penalty=\"none\") #, solver=\"newton-cg\", max_iter=1) # include random_state=19 ?\n",
    "elif (universe[\"model\"] == \"penalized_logreg\"):\n",
    "    model = LogisticRegression(penalty=\"l2\", C=1.0) #, solver=\"newton-cg\", max_iter=1)\n",
    "elif (universe[\"model\"] == \"rf\"):\n",
    "    model = RandomForestClassifier(n_estimators=100, n_jobs=-1)\n",
    "elif (universe[\"model\"] == \"gbm\"):\n",
    "    model = GradientBoostingClassifier()\n",
    "elif (universe[\"model\"] == \"elasticnet\"):\n",
    "    model = LogisticRegression(penalty = 'elasticnet', solver = 'saga', l1_ratio = 0.5, max_iter=5000) # which solver to use?\n",
    "else:\n",
    "    raise \"Unsupported universe.model\""
   ]
  },
  {
   "cell_type": "code",
   "execution_count": 26,
   "id": "0cc8f744",
   "metadata": {
    "execution": {
     "iopub.execute_input": "2025-07-23T14:22:52.267366Z",
     "iopub.status.busy": "2025-07-23T14:22:52.266788Z",
     "iopub.status.idle": "2025-07-23T14:22:52.276183Z",
     "shell.execute_reply": "2025-07-23T14:22:52.275026Z"
    },
    "papermill": {
     "duration": 0.039998,
     "end_time": "2025-07-23T14:22:52.279446",
     "exception": false,
     "start_time": "2025-07-23T14:22:52.239448",
     "status": "completed"
    },
    "tags": []
   },
   "outputs": [],
   "source": [
    "import numpy as np\n",
    "from sklearn.pipeline import Pipeline\n",
    "from sklearn.preprocessing import StandardScaler\n",
    "\n",
    "model = Pipeline([\n",
    "    #(\"continuous_processor\", continuous_processor),\n",
    "    #(\"categorical_preprocessor\", categorical_preprocessor),\n",
    "    (\"scale\", StandardScaler() if universe[\"scale\"] == \"scale\" else None), \n",
    "    (\"model\", model),\n",
    "])"
   ]
  },
  {
   "cell_type": "code",
   "execution_count": 27,
   "id": "9442c04d",
   "metadata": {
    "execution": {
     "iopub.execute_input": "2025-07-23T14:22:52.321627Z",
     "iopub.status.busy": "2025-07-23T14:22:52.321233Z",
     "iopub.status.idle": "2025-07-23T14:22:55.710255Z",
     "shell.execute_reply": "2025-07-23T14:22:55.709253Z"
    },
    "papermill": {
     "duration": 3.41166,
     "end_time": "2025-07-23T14:22:55.711878",
     "exception": false,
     "start_time": "2025-07-23T14:22:52.300218",
     "status": "completed"
    },
    "tags": []
   },
   "outputs": [
    {
     "name": "stderr",
     "output_type": "stream",
     "text": [
      "/dss/dsshome1/0C/ra93lal2/.local/share/virtualenvs/CMA_Fairness_v2-3j10GkSs/lib/python3.10/site-packages/sklearn/linear_model/_logistic.py:444: ConvergenceWarning: lbfgs failed to converge (status=1):\n",
      "STOP: TOTAL NO. of ITERATIONS REACHED LIMIT.\n",
      "\n",
      "Increase the number of iterations (max_iter) or scale the data as shown in:\n",
      "    https://scikit-learn.org/stable/modules/preprocessing.html\n",
      "Please also refer to the documentation for alternative solver options:\n",
      "    https://scikit-learn.org/stable/modules/linear_model.html#logistic-regression\n",
      "  n_iter_i = _check_optimize_result(\n"
     ]
    },
    {
     "data": {
      "text/html": [
       "<style>#sk-container-id-1 {color: black;background-color: white;}#sk-container-id-1 pre{padding: 0;}#sk-container-id-1 div.sk-toggleable {background-color: white;}#sk-container-id-1 label.sk-toggleable__label {cursor: pointer;display: block;width: 100%;margin-bottom: 0;padding: 0.3em;box-sizing: border-box;text-align: center;}#sk-container-id-1 label.sk-toggleable__label-arrow:before {content: \"▸\";float: left;margin-right: 0.25em;color: #696969;}#sk-container-id-1 label.sk-toggleable__label-arrow:hover:before {color: black;}#sk-container-id-1 div.sk-estimator:hover label.sk-toggleable__label-arrow:before {color: black;}#sk-container-id-1 div.sk-toggleable__content {max-height: 0;max-width: 0;overflow: hidden;text-align: left;background-color: #f0f8ff;}#sk-container-id-1 div.sk-toggleable__content pre {margin: 0.2em;color: black;border-radius: 0.25em;background-color: #f0f8ff;}#sk-container-id-1 input.sk-toggleable__control:checked~div.sk-toggleable__content {max-height: 200px;max-width: 100%;overflow: auto;}#sk-container-id-1 input.sk-toggleable__control:checked~label.sk-toggleable__label-arrow:before {content: \"▾\";}#sk-container-id-1 div.sk-estimator input.sk-toggleable__control:checked~label.sk-toggleable__label {background-color: #d4ebff;}#sk-container-id-1 div.sk-label input.sk-toggleable__control:checked~label.sk-toggleable__label {background-color: #d4ebff;}#sk-container-id-1 input.sk-hidden--visually {border: 0;clip: rect(1px 1px 1px 1px);clip: rect(1px, 1px, 1px, 1px);height: 1px;margin: -1px;overflow: hidden;padding: 0;position: absolute;width: 1px;}#sk-container-id-1 div.sk-estimator {font-family: monospace;background-color: #f0f8ff;border: 1px dotted black;border-radius: 0.25em;box-sizing: border-box;margin-bottom: 0.5em;}#sk-container-id-1 div.sk-estimator:hover {background-color: #d4ebff;}#sk-container-id-1 div.sk-parallel-item::after {content: \"\";width: 100%;border-bottom: 1px solid gray;flex-grow: 1;}#sk-container-id-1 div.sk-label:hover label.sk-toggleable__label {background-color: #d4ebff;}#sk-container-id-1 div.sk-serial::before {content: \"\";position: absolute;border-left: 1px solid gray;box-sizing: border-box;top: 0;bottom: 0;left: 50%;z-index: 0;}#sk-container-id-1 div.sk-serial {display: flex;flex-direction: column;align-items: center;background-color: white;padding-right: 0.2em;padding-left: 0.2em;position: relative;}#sk-container-id-1 div.sk-item {position: relative;z-index: 1;}#sk-container-id-1 div.sk-parallel {display: flex;align-items: stretch;justify-content: center;background-color: white;position: relative;}#sk-container-id-1 div.sk-item::before, #sk-container-id-1 div.sk-parallel-item::before {content: \"\";position: absolute;border-left: 1px solid gray;box-sizing: border-box;top: 0;bottom: 0;left: 50%;z-index: -1;}#sk-container-id-1 div.sk-parallel-item {display: flex;flex-direction: column;z-index: 1;position: relative;background-color: white;}#sk-container-id-1 div.sk-parallel-item:first-child::after {align-self: flex-end;width: 50%;}#sk-container-id-1 div.sk-parallel-item:last-child::after {align-self: flex-start;width: 50%;}#sk-container-id-1 div.sk-parallel-item:only-child::after {width: 0;}#sk-container-id-1 div.sk-dashed-wrapped {border: 1px dashed gray;margin: 0 0.4em 0.5em 0.4em;box-sizing: border-box;padding-bottom: 0.4em;background-color: white;}#sk-container-id-1 div.sk-label label {font-family: monospace;font-weight: bold;display: inline-block;line-height: 1.2em;}#sk-container-id-1 div.sk-label-container {text-align: center;}#sk-container-id-1 div.sk-container {/* jupyter's `normalize.less` sets `[hidden] { display: none; }` but bootstrap.min.css set `[hidden] { display: none !important; }` so we also need the `!important` here to be able to override the default hidden behavior on the sphinx rendered scikit-learn.org. See: https://github.com/scikit-learn/scikit-learn/issues/21755 */display: inline-block !important;position: relative;}#sk-container-id-1 div.sk-text-repr-fallback {display: none;}</style><div id=\"sk-container-id-1\" class=\"sk-top-container\"><div class=\"sk-text-repr-fallback\"><pre>Pipeline(steps=[(&#x27;scale&#x27;, StandardScaler()), (&#x27;model&#x27;, LogisticRegression())])</pre><b>In a Jupyter environment, please rerun this cell to show the HTML representation or trust the notebook. <br />On GitHub, the HTML representation is unable to render, please try loading this page with nbviewer.org.</b></div><div class=\"sk-container\" hidden><div class=\"sk-item sk-dashed-wrapped\"><div class=\"sk-label-container\"><div class=\"sk-label sk-toggleable\"><input class=\"sk-toggleable__control sk-hidden--visually\" id=\"sk-estimator-id-1\" type=\"checkbox\" ><label for=\"sk-estimator-id-1\" class=\"sk-toggleable__label sk-toggleable__label-arrow\">Pipeline</label><div class=\"sk-toggleable__content\"><pre>Pipeline(steps=[(&#x27;scale&#x27;, StandardScaler()), (&#x27;model&#x27;, LogisticRegression())])</pre></div></div></div><div class=\"sk-serial\"><div class=\"sk-item\"><div class=\"sk-estimator sk-toggleable\"><input class=\"sk-toggleable__control sk-hidden--visually\" id=\"sk-estimator-id-2\" type=\"checkbox\" ><label for=\"sk-estimator-id-2\" class=\"sk-toggleable__label sk-toggleable__label-arrow\">StandardScaler</label><div class=\"sk-toggleable__content\"><pre>StandardScaler()</pre></div></div></div><div class=\"sk-item\"><div class=\"sk-estimator sk-toggleable\"><input class=\"sk-toggleable__control sk-hidden--visually\" id=\"sk-estimator-id-3\" type=\"checkbox\" ><label for=\"sk-estimator-id-3\" class=\"sk-toggleable__label sk-toggleable__label-arrow\">LogisticRegression</label><div class=\"sk-toggleable__content\"><pre>LogisticRegression()</pre></div></div></div></div></div></div></div>"
      ],
      "text/plain": [
       "Pipeline(steps=[('scale', StandardScaler()), ('model', LogisticRegression())])"
      ]
     },
     "execution_count": 27,
     "metadata": {},
     "output_type": "execute_result"
    }
   ],
   "source": [
    "model.fit(X_train, y_train.values.ravel())"
   ]
  },
  {
   "cell_type": "code",
   "execution_count": 28,
   "id": "af59f8c0",
   "metadata": {
    "execution": {
     "iopub.execute_input": "2025-07-23T14:22:55.735831Z",
     "iopub.status.busy": "2025-07-23T14:22:55.735107Z",
     "iopub.status.idle": "2025-07-23T14:22:55.741156Z",
     "shell.execute_reply": "2025-07-23T14:22:55.740017Z"
    },
    "papermill": {
     "duration": 0.01996,
     "end_time": "2025-07-23T14:22:55.742820",
     "exception": false,
     "start_time": "2025-07-23T14:22:55.722860",
     "status": "completed"
    },
    "tags": []
   },
   "outputs": [],
   "source": [
    "from fairness_multiverse.universe import predict_w_threshold"
   ]
  },
  {
   "cell_type": "code",
   "execution_count": 29,
   "id": "a7cf2e16",
   "metadata": {
    "execution": {
     "iopub.execute_input": "2025-07-23T14:22:55.767703Z",
     "iopub.status.busy": "2025-07-23T14:22:55.767146Z",
     "iopub.status.idle": "2025-07-23T14:22:55.956445Z",
     "shell.execute_reply": "2025-07-23T14:22:55.955576Z"
    },
    "papermill": {
     "duration": 0.203053,
     "end_time": "2025-07-23T14:22:55.957986",
     "exception": false,
     "start_time": "2025-07-23T14:22:55.754933",
     "status": "completed"
    },
    "tags": []
   },
   "outputs": [
    {
     "data": {
      "text/plain": [
       "0.8628580983167986"
      ]
     },
     "execution_count": 29,
     "metadata": {},
     "output_type": "execute_result"
    }
   ],
   "source": [
    "probs_test = model.predict_proba(X_test)\n",
    "\n",
    "'''\n",
    "Below code returns a boolean array (or binary 0/1 array depending on how it’s used) where each element \n",
    "is True if the probability of class 1 is greater than or equal to the threshold, and False otherwise.\n",
    "'''\n",
    "y_pred_default = predict_w_threshold(probs_test, 0.5)\n",
    "\n",
    "from sklearn.metrics import accuracy_score\n",
    "\n",
    "# Naive prediction\n",
    "accuracy_score(y_true = y_true, y_pred = y_pred_default)"
   ]
  },
  {
   "cell_type": "code",
   "execution_count": 30,
   "id": "081964c3",
   "metadata": {
    "execution": {
     "iopub.execute_input": "2025-07-23T14:22:55.981921Z",
     "iopub.status.busy": "2025-07-23T14:22:55.981227Z",
     "iopub.status.idle": "2025-07-23T14:22:56.185527Z",
     "shell.execute_reply": "2025-07-23T14:22:56.183827Z"
    },
    "papermill": {
     "duration": 0.218561,
     "end_time": "2025-07-23T14:22:56.187560",
     "exception": false,
     "start_time": "2025-07-23T14:22:55.968999",
     "status": "completed"
    },
    "tags": []
   },
   "outputs": [
    {
     "data": {
      "text/plain": [
       "array([0, 0, 0, ..., 0, 0, 0])"
      ]
     },
     "execution_count": 30,
     "metadata": {},
     "output_type": "execute_result"
    }
   ],
   "source": [
    "model.predict(X_test)"
   ]
  },
  {
   "cell_type": "markdown",
   "id": "56c9705b",
   "metadata": {
    "papermill": {
     "duration": 0.023114,
     "end_time": "2025-07-23T14:22:56.233802",
     "exception": false,
     "start_time": "2025-07-23T14:22:56.210688",
     "status": "completed"
    },
    "tags": []
   },
   "source": [
    "# Conformal Prediction"
   ]
  },
  {
   "cell_type": "code",
   "execution_count": 31,
   "id": "160ec6ff",
   "metadata": {
    "execution": {
     "iopub.execute_input": "2025-07-23T14:22:56.282630Z",
     "iopub.status.busy": "2025-07-23T14:22:56.281710Z",
     "iopub.status.idle": "2025-07-23T14:22:56.288817Z",
     "shell.execute_reply": "2025-07-23T14:22:56.287345Z"
    },
    "papermill": {
     "duration": 0.034097,
     "end_time": "2025-07-23T14:22:56.291136",
     "exception": false,
     "start_time": "2025-07-23T14:22:56.257039",
     "status": "completed"
    },
    "tags": []
   },
   "outputs": [],
   "source": [
    "# Miscoverage level for conformal prediction (10% allowed error rate => 90% target coverage)\n",
    "alpha = 0.1"
   ]
  },
  {
   "cell_type": "code",
   "execution_count": 32,
   "id": "eadf4555-3dd3-440e-8e35-f82a4ad9f855",
   "metadata": {
    "execution": {
     "iopub.execute_input": "2025-07-23T14:22:56.340682Z",
     "iopub.status.busy": "2025-07-23T14:22:56.339761Z",
     "iopub.status.idle": "2025-07-23T14:22:56.591875Z",
     "shell.execute_reply": "2025-07-23T14:22:56.590696Z"
    },
    "papermill": {
     "duration": 0.279477,
     "end_time": "2025-07-23T14:22:56.594308",
     "exception": false,
     "start_time": "2025-07-23T14:22:56.314831",
     "status": "completed"
    },
    "tags": []
   },
   "outputs": [],
   "source": [
    "probs_calib = model.predict_proba(X_calib)"
   ]
  },
  {
   "cell_type": "code",
   "execution_count": 33,
   "id": "2ed93547-6d5d-4983-9b36-1ecb300da49a",
   "metadata": {
    "execution": {
     "iopub.execute_input": "2025-07-23T14:22:56.656310Z",
     "iopub.status.busy": "2025-07-23T14:22:56.655707Z",
     "iopub.status.idle": "2025-07-23T14:22:56.662233Z",
     "shell.execute_reply": "2025-07-23T14:22:56.661060Z"
    },
    "papermill": {
     "duration": 0.033325,
     "end_time": "2025-07-23T14:22:56.664362",
     "exception": false,
     "start_time": "2025-07-23T14:22:56.631037",
     "status": "completed"
    },
    "tags": []
   },
   "outputs": [],
   "source": [
    "y_calib = y_calib.values.ravel().astype(int)"
   ]
  },
  {
   "cell_type": "code",
   "execution_count": 34,
   "id": "65d1320d-f588-4b38-9072-62af1ae97f7d",
   "metadata": {
    "execution": {
     "iopub.execute_input": "2025-07-23T14:22:56.713446Z",
     "iopub.status.busy": "2025-07-23T14:22:56.712886Z",
     "iopub.status.idle": "2025-07-23T14:22:56.721918Z",
     "shell.execute_reply": "2025-07-23T14:22:56.720693Z"
    },
    "papermill": {
     "duration": 0.036366,
     "end_time": "2025-07-23T14:22:56.724222",
     "exception": false,
     "start_time": "2025-07-23T14:22:56.687856",
     "status": "completed"
    },
    "tags": []
   },
   "outputs": [],
   "source": [
    "from fairness_multiverse.conformal import compute_nc_scores\n",
    "\n",
    "# Compute nonconformity scores on calibration set (1 - probability of true class)\n",
    "nc_scores = compute_nc_scores(probs_calib, y_calib)"
   ]
  },
  {
   "cell_type": "code",
   "execution_count": 35,
   "id": "df3b8ca3-53b7-43d5-9667-7c85da7aeda2",
   "metadata": {
    "execution": {
     "iopub.execute_input": "2025-07-23T14:22:56.774304Z",
     "iopub.status.busy": "2025-07-23T14:22:56.773745Z",
     "iopub.status.idle": "2025-07-23T14:22:56.781631Z",
     "shell.execute_reply": "2025-07-23T14:22:56.780237Z"
    },
    "papermill": {
     "duration": 0.035407,
     "end_time": "2025-07-23T14:22:56.783698",
     "exception": false,
     "start_time": "2025-07-23T14:22:56.748291",
     "status": "completed"
    },
    "tags": []
   },
   "outputs": [],
   "source": [
    "from fairness_multiverse.conformal import find_threshold\n",
    "\n",
    "# Find conformal threshold q_hat for the given alpha (split conformal method)\n",
    "q_hat = find_threshold(nc_scores, alpha)"
   ]
  },
  {
   "cell_type": "code",
   "execution_count": 36,
   "id": "4d29e6c1-0ef6-4aa4-b8fe-4fe79b0d033a",
   "metadata": {
    "execution": {
     "iopub.execute_input": "2025-07-23T14:22:56.833209Z",
     "iopub.status.busy": "2025-07-23T14:22:56.832657Z",
     "iopub.status.idle": "2025-07-23T14:22:56.840967Z",
     "shell.execute_reply": "2025-07-23T14:22:56.839756Z"
    },
    "papermill": {
     "duration": 0.03527,
     "end_time": "2025-07-23T14:22:56.843057",
     "exception": false,
     "start_time": "2025-07-23T14:22:56.807787",
     "status": "completed"
    },
    "tags": []
   },
   "outputs": [
    {
     "data": {
      "text/plain": [
       "0.660980196706658"
      ]
     },
     "execution_count": 36,
     "metadata": {},
     "output_type": "execute_result"
    }
   ],
   "source": [
    "q_hat"
   ]
  },
  {
   "cell_type": "code",
   "execution_count": 37,
   "id": "92460794-cdac-4be2-ba28-f28c0515a6fb",
   "metadata": {
    "execution": {
     "iopub.execute_input": "2025-07-23T14:22:56.893173Z",
     "iopub.status.busy": "2025-07-23T14:22:56.892637Z",
     "iopub.status.idle": "2025-07-23T14:22:57.971579Z",
     "shell.execute_reply": "2025-07-23T14:22:57.970730Z"
    },
    "papermill": {
     "duration": 1.105988,
     "end_time": "2025-07-23T14:22:57.973658",
     "exception": false,
     "start_time": "2025-07-23T14:22:56.867670",
     "status": "completed"
    },
    "tags": []
   },
   "outputs": [],
   "source": [
    "from fairness_multiverse.conformal import predict_conformal_sets\n",
    "\n",
    "# Generate prediction sets for each test example\n",
    "pred_sets = predict_conformal_sets(model, X_test, q_hat)"
   ]
  },
  {
   "cell_type": "code",
   "execution_count": 38,
   "id": "d90c9a65-e6db-4f5d-80cd-e68fb7e46829",
   "metadata": {
    "execution": {
     "iopub.execute_input": "2025-07-23T14:22:58.039892Z",
     "iopub.status.busy": "2025-07-23T14:22:58.039388Z",
     "iopub.status.idle": "2025-07-23T14:22:58.046131Z",
     "shell.execute_reply": "2025-07-23T14:22:58.044980Z"
    },
    "papermill": {
     "duration": 0.043012,
     "end_time": "2025-07-23T14:22:58.048411",
     "exception": false,
     "start_time": "2025-07-23T14:22:58.005399",
     "status": "completed"
    },
    "tags": []
   },
   "outputs": [],
   "source": [
    "y_true = y_true.squeeze()"
   ]
  },
  {
   "cell_type": "code",
   "execution_count": 39,
   "id": "3a58a54a-1e68-46b9-927a-df01f18aebc8",
   "metadata": {
    "execution": {
     "iopub.execute_input": "2025-07-23T14:22:58.109860Z",
     "iopub.status.busy": "2025-07-23T14:22:58.109226Z",
     "iopub.status.idle": "2025-07-23T14:22:59.231781Z",
     "shell.execute_reply": "2025-07-23T14:22:59.230583Z"
    },
    "papermill": {
     "duration": 1.156106,
     "end_time": "2025-07-23T14:22:59.233797",
     "exception": false,
     "start_time": "2025-07-23T14:22:58.077691",
     "status": "completed"
    },
    "tags": []
   },
   "outputs": [],
   "source": [
    "from fairness_multiverse.conformal import evaluate_sets\n",
    "\n",
    "# Evaluate coverage and average set size on test data\n",
    "metrics = evaluate_sets(pred_sets, y_true)"
   ]
  },
  {
   "cell_type": "code",
   "execution_count": 40,
   "id": "5ce0a5cb-201f-45a0-ade5-94c7f0bd6095",
   "metadata": {
    "execution": {
     "iopub.execute_input": "2025-07-23T14:22:59.277191Z",
     "iopub.status.busy": "2025-07-23T14:22:59.276205Z",
     "iopub.status.idle": "2025-07-23T14:22:59.284426Z",
     "shell.execute_reply": "2025-07-23T14:22:59.283338Z"
    },
    "papermill": {
     "duration": 0.031968,
     "end_time": "2025-07-23T14:22:59.286383",
     "exception": false,
     "start_time": "2025-07-23T14:22:59.254415",
     "status": "completed"
    },
    "tags": []
   },
   "outputs": [
    {
     "data": {
      "text/plain": [
       "{'coverage': 0.9113699699030209, 'avg_size': 1.1243897001449115}"
      ]
     },
     "execution_count": 40,
     "metadata": {},
     "output_type": "execute_result"
    }
   ],
   "source": [
    "metrics"
   ]
  },
  {
   "cell_type": "code",
   "execution_count": 41,
   "id": "9b9a838d-31c9-430b-ae14-12baee460d17",
   "metadata": {
    "execution": {
     "iopub.execute_input": "2025-07-23T14:22:59.337384Z",
     "iopub.status.busy": "2025-07-23T14:22:59.336660Z",
     "iopub.status.idle": "2025-07-23T14:22:59.343788Z",
     "shell.execute_reply": "2025-07-23T14:22:59.342617Z"
    },
    "papermill": {
     "duration": 0.034603,
     "end_time": "2025-07-23T14:22:59.345666",
     "exception": false,
     "start_time": "2025-07-23T14:22:59.311063",
     "status": "completed"
    },
    "tags": []
   },
   "outputs": [],
   "source": [
    "example_universe = universe.copy()\n",
    "universe_model = example_universe.get(\"model\")\n",
    "universe_exclude_features = example_universe.get(\"exclude_features\")\n",
    "universe_exclude_subgroups = example_universe.get(\"exclude_subgroups\")\n",
    "universe_scale = example_universe.get(\"scale\")"
   ]
  },
  {
   "cell_type": "code",
   "execution_count": 42,
   "id": "f4b6a8ac-9dc0-4245-8a91-5b3b5999c4f9",
   "metadata": {
    "execution": {
     "iopub.execute_input": "2025-07-23T14:22:59.394115Z",
     "iopub.status.busy": "2025-07-23T14:22:59.393549Z",
     "iopub.status.idle": "2025-07-23T14:22:59.400751Z",
     "shell.execute_reply": "2025-07-23T14:22:59.399764Z"
    },
    "papermill": {
     "duration": 0.035109,
     "end_time": "2025-07-23T14:22:59.402454",
     "exception": false,
     "start_time": "2025-07-23T14:22:59.367345",
     "status": "completed"
    },
    "tags": []
   },
   "outputs": [],
   "source": [
    "cp_metrics_dict = {\n",
    "    \"universe_id\": [universe_id],\n",
    "    \"universe_model\": [universe_model],\n",
    "    \"universe_exclude_features\": [universe_exclude_features],\n",
    "    \"universe_exclude_subgroups\": [universe_exclude_subgroups],\n",
    "    \"universe_scale\": [universe_scale],\n",
    "    \"q_hat\": [q_hat],\n",
    "    \"coverage\": [metrics[\"coverage\"]],\n",
    "    \"avg_size\": [metrics[\"avg_size\"]],\n",
    "}"
   ]
  },
  {
   "cell_type": "code",
   "execution_count": 43,
   "id": "908acbb1-0371-4915-85ca-3fa520d2efe2",
   "metadata": {
    "execution": {
     "iopub.execute_input": "2025-07-23T14:22:59.446655Z",
     "iopub.status.busy": "2025-07-23T14:22:59.445782Z",
     "iopub.status.idle": "2025-07-23T14:22:59.454210Z",
     "shell.execute_reply": "2025-07-23T14:22:59.453225Z"
    },
    "papermill": {
     "duration": 0.032446,
     "end_time": "2025-07-23T14:22:59.455993",
     "exception": false,
     "start_time": "2025-07-23T14:22:59.423547",
     "status": "completed"
    },
    "tags": []
   },
   "outputs": [
    {
     "data": {
      "text/plain": [
       "{'universe_id': ['bd5eb995e959eab90b9c2501c38dbb11'],\n",
       " 'universe_model': ['penalized_logreg'],\n",
       " 'universe_exclude_features': ['none'],\n",
       " 'universe_exclude_subgroups': ['keep-all'],\n",
       " 'universe_scale': ['scale'],\n",
       " 'q_hat': [0.660980196706658],\n",
       " 'coverage': [0.9113699699030209],\n",
       " 'avg_size': [1.1243897001449115]}"
      ]
     },
     "execution_count": 43,
     "metadata": {},
     "output_type": "execute_result"
    }
   ],
   "source": [
    "cp_metrics_dict"
   ]
  },
  {
   "cell_type": "code",
   "execution_count": 44,
   "id": "33007efc-14e9-4ec6-97ac-56a455c82265",
   "metadata": {
    "execution": {
     "iopub.execute_input": "2025-07-23T14:22:59.498118Z",
     "iopub.status.busy": "2025-07-23T14:22:59.497660Z",
     "iopub.status.idle": "2025-07-23T14:22:59.503736Z",
     "shell.execute_reply": "2025-07-23T14:22:59.502829Z"
    },
    "papermill": {
     "duration": 0.029345,
     "end_time": "2025-07-23T14:22:59.505389",
     "exception": false,
     "start_time": "2025-07-23T14:22:59.476044",
     "status": "completed"
    },
    "tags": []
   },
   "outputs": [],
   "source": [
    "cp_metrics_df = pd.DataFrame(cp_metrics_dict)"
   ]
  },
  {
   "cell_type": "code",
   "execution_count": 45,
   "id": "db12611b-57b2-4910-b9d0-355adfd6e7bf",
   "metadata": {
    "execution": {
     "iopub.execute_input": "2025-07-23T14:22:59.548845Z",
     "iopub.status.busy": "2025-07-23T14:22:59.548270Z",
     "iopub.status.idle": "2025-07-23T14:22:59.569415Z",
     "shell.execute_reply": "2025-07-23T14:22:59.568350Z"
    },
    "papermill": {
     "duration": 0.047929,
     "end_time": "2025-07-23T14:22:59.574234",
     "exception": false,
     "start_time": "2025-07-23T14:22:59.526305",
     "status": "completed"
    },
    "tags": []
   },
   "outputs": [
    {
     "data": {
      "text/html": [
       "<div>\n",
       "<style scoped>\n",
       "    .dataframe tbody tr th:only-of-type {\n",
       "        vertical-align: middle;\n",
       "    }\n",
       "\n",
       "    .dataframe tbody tr th {\n",
       "        vertical-align: top;\n",
       "    }\n",
       "\n",
       "    .dataframe thead th {\n",
       "        text-align: right;\n",
       "    }\n",
       "</style>\n",
       "<table border=\"1\" class=\"dataframe\">\n",
       "  <thead>\n",
       "    <tr style=\"text-align: right;\">\n",
       "      <th></th>\n",
       "      <th>universe_id</th>\n",
       "      <th>universe_model</th>\n",
       "      <th>universe_exclude_features</th>\n",
       "      <th>universe_exclude_subgroups</th>\n",
       "      <th>universe_scale</th>\n",
       "      <th>q_hat</th>\n",
       "      <th>coverage</th>\n",
       "      <th>avg_size</th>\n",
       "    </tr>\n",
       "  </thead>\n",
       "  <tbody>\n",
       "    <tr>\n",
       "      <th>0</th>\n",
       "      <td>bd5eb995e959eab90b9c2501c38dbb11</td>\n",
       "      <td>penalized_logreg</td>\n",
       "      <td>none</td>\n",
       "      <td>keep-all</td>\n",
       "      <td>scale</td>\n",
       "      <td>0.66098</td>\n",
       "      <td>0.91137</td>\n",
       "      <td>1.12439</td>\n",
       "    </tr>\n",
       "  </tbody>\n",
       "</table>\n",
       "</div>"
      ],
      "text/plain": [
       "                        universe_id    universe_model  \\\n",
       "0  bd5eb995e959eab90b9c2501c38dbb11  penalized_logreg   \n",
       "\n",
       "  universe_exclude_features universe_exclude_subgroups universe_scale  \\\n",
       "0                      none                   keep-all          scale   \n",
       "\n",
       "     q_hat  coverage  avg_size  \n",
       "0  0.66098   0.91137   1.12439  "
      ]
     },
     "execution_count": 45,
     "metadata": {},
     "output_type": "execute_result"
    }
   ],
   "source": [
    "cp_metrics_df"
   ]
  },
  {
   "cell_type": "code",
   "execution_count": 46,
   "id": "b7fbde55-a0a1-47e4-9af6-fe4a17fa8c61",
   "metadata": {
    "execution": {
     "iopub.execute_input": "2025-07-23T14:22:59.622710Z",
     "iopub.status.busy": "2025-07-23T14:22:59.622161Z",
     "iopub.status.idle": "2025-07-23T14:22:59.628095Z",
     "shell.execute_reply": "2025-07-23T14:22:59.626908Z"
    },
    "papermill": {
     "duration": 0.03148,
     "end_time": "2025-07-23T14:22:59.629916",
     "exception": false,
     "start_time": "2025-07-23T14:22:59.598436",
     "status": "completed"
    },
    "tags": []
   },
   "outputs": [],
   "source": [
    "# Conditional Coverage & looking at subgroups"
   ]
  },
  {
   "cell_type": "code",
   "execution_count": 47,
   "id": "027ae886-68dd-4141-96c7-805a5450e1ef",
   "metadata": {
    "execution": {
     "iopub.execute_input": "2025-07-23T14:22:59.677735Z",
     "iopub.status.busy": "2025-07-23T14:22:59.677179Z",
     "iopub.status.idle": "2025-07-23T14:22:59.956282Z",
     "shell.execute_reply": "2025-07-23T14:22:59.955307Z"
    },
    "papermill": {
     "duration": 0.306517,
     "end_time": "2025-07-23T14:22:59.958160",
     "exception": false,
     "start_time": "2025-07-23T14:22:59.651643",
     "status": "completed"
    },
    "tags": []
   },
   "outputs": [],
   "source": [
    "from fairness_multiverse.conformal import build_cp_groups\n",
    "\n",
    "cp_groups_df = build_cp_groups(pred_sets, y_true, X_test.index, org_test)\n",
    "#needs universe_id and setting"
   ]
  },
  {
   "cell_type": "code",
   "execution_count": 48,
   "id": "c3b92545-903e-4839-89af-0f057907d7d6",
   "metadata": {
    "execution": {
     "iopub.execute_input": "2025-07-23T14:23:00.001753Z",
     "iopub.status.busy": "2025-07-23T14:23:00.001252Z",
     "iopub.status.idle": "2025-07-23T14:23:02.099213Z",
     "shell.execute_reply": "2025-07-23T14:23:02.098119Z"
    },
    "papermill": {
     "duration": 2.122455,
     "end_time": "2025-07-23T14:23:02.101431",
     "exception": false,
     "start_time": "2025-07-23T14:22:59.978976",
     "status": "completed"
    },
    "tags": []
   },
   "outputs": [],
   "source": [
    "# Define covered = 1 if true_label is in the predicted set\n",
    "cp_groups_df['covered'] = cp_groups_df.apply(\n",
    "    lambda r: int(r['true_label'] in r['pred_set']),\n",
    "    axis=1\n",
    ")"
   ]
  },
  {
   "cell_type": "code",
   "execution_count": 49,
   "id": "338ff529-1a6b-4b87-a931-8e4788d52aad",
   "metadata": {
    "execution": {
     "iopub.execute_input": "2025-07-23T14:23:02.152390Z",
     "iopub.status.busy": "2025-07-23T14:23:02.151894Z",
     "iopub.status.idle": "2025-07-23T14:23:02.157298Z",
     "shell.execute_reply": "2025-07-23T14:23:02.156113Z"
    },
    "papermill": {
     "duration": 0.032209,
     "end_time": "2025-07-23T14:23:02.159156",
     "exception": false,
     "start_time": "2025-07-23T14:23:02.126947",
     "status": "completed"
    },
    "tags": []
   },
   "outputs": [],
   "source": [
    "#cp_groups_df"
   ]
  },
  {
   "cell_type": "code",
   "execution_count": 50,
   "id": "90032e27-66df-4540-9169-4e89cfbaa758",
   "metadata": {
    "execution": {
     "iopub.execute_input": "2025-07-23T14:23:02.206759Z",
     "iopub.status.busy": "2025-07-23T14:23:02.206235Z",
     "iopub.status.idle": "2025-07-23T14:23:02.218482Z",
     "shell.execute_reply": "2025-07-23T14:23:02.217513Z"
    },
    "papermill": {
     "duration": 0.036814,
     "end_time": "2025-07-23T14:23:02.220082",
     "exception": false,
     "start_time": "2025-07-23T14:23:02.183268",
     "status": "completed"
    },
    "tags": []
   },
   "outputs": [],
   "source": [
    "subgroups = ['frau1','nongerman','nongerman_male','nongerman_female']\n",
    "\n",
    "# Conditional coverage for subgroup==1\n",
    "cond_coverage = {\n",
    "    g: cp_groups_df.loc[cp_groups_df[g]==1, 'covered'].mean()\n",
    "    for g in subgroups\n",
    "}"
   ]
  },
  {
   "cell_type": "code",
   "execution_count": 51,
   "id": "1e348fb1-b9c3-45bc-ba23-f016827a7e0d",
   "metadata": {
    "execution": {
     "iopub.execute_input": "2025-07-23T14:23:02.262264Z",
     "iopub.status.busy": "2025-07-23T14:23:02.261728Z",
     "iopub.status.idle": "2025-07-23T14:23:02.270304Z",
     "shell.execute_reply": "2025-07-23T14:23:02.269456Z"
    },
    "papermill": {
     "duration": 0.031755,
     "end_time": "2025-07-23T14:23:02.272293",
     "exception": false,
     "start_time": "2025-07-23T14:23:02.240538",
     "status": "completed"
    },
    "tags": []
   },
   "outputs": [
    {
     "data": {
      "text/plain": [
       "{'frau1': 0.9119557891899178,\n",
       " 'nongerman': 0.9107954864424859,\n",
       " 'nongerman_male': 0.9255156264072774,\n",
       " 'nongerman_female': 0.8864381520119226}"
      ]
     },
     "execution_count": 51,
     "metadata": {},
     "output_type": "execute_result"
    }
   ],
   "source": [
    "cond_coverage"
   ]
  },
  {
   "cell_type": "code",
   "execution_count": 52,
   "id": "f5093324-c3dd-4d63-bc4c-8d945e5c8bbb",
   "metadata": {
    "execution": {
     "iopub.execute_input": "2025-07-23T14:23:02.297046Z",
     "iopub.status.busy": "2025-07-23T14:23:02.296466Z",
     "iopub.status.idle": "2025-07-23T14:23:02.302497Z",
     "shell.execute_reply": "2025-07-23T14:23:02.301747Z"
    },
    "papermill": {
     "duration": 0.019561,
     "end_time": "2025-07-23T14:23:02.303878",
     "exception": false,
     "start_time": "2025-07-23T14:23:02.284317",
     "status": "completed"
    },
    "tags": []
   },
   "outputs": [],
   "source": [
    "for subgroup, cov in cond_coverage.items():\n",
    "    cp_metrics_df[f\"cov_{subgroup}\"] = cov"
   ]
  },
  {
   "cell_type": "code",
   "execution_count": 53,
   "id": "6e872e10-dbe5-49e8-b554-5030c98ff75d",
   "metadata": {
    "execution": {
     "iopub.execute_input": "2025-07-23T14:23:02.331139Z",
     "iopub.status.busy": "2025-07-23T14:23:02.330183Z",
     "iopub.status.idle": "2025-07-23T14:23:02.350606Z",
     "shell.execute_reply": "2025-07-23T14:23:02.349342Z"
    },
    "papermill": {
     "duration": 0.036422,
     "end_time": "2025-07-23T14:23:02.352504",
     "exception": false,
     "start_time": "2025-07-23T14:23:02.316082",
     "status": "completed"
    },
    "tags": []
   },
   "outputs": [
    {
     "data": {
      "text/html": [
       "<div>\n",
       "<style scoped>\n",
       "    .dataframe tbody tr th:only-of-type {\n",
       "        vertical-align: middle;\n",
       "    }\n",
       "\n",
       "    .dataframe tbody tr th {\n",
       "        vertical-align: top;\n",
       "    }\n",
       "\n",
       "    .dataframe thead th {\n",
       "        text-align: right;\n",
       "    }\n",
       "</style>\n",
       "<table border=\"1\" class=\"dataframe\">\n",
       "  <thead>\n",
       "    <tr style=\"text-align: right;\">\n",
       "      <th></th>\n",
       "      <th>universe_id</th>\n",
       "      <th>universe_model</th>\n",
       "      <th>universe_exclude_features</th>\n",
       "      <th>universe_exclude_subgroups</th>\n",
       "      <th>universe_scale</th>\n",
       "      <th>q_hat</th>\n",
       "      <th>coverage</th>\n",
       "      <th>avg_size</th>\n",
       "      <th>cov_frau1</th>\n",
       "      <th>cov_nongerman</th>\n",
       "      <th>cov_nongerman_male</th>\n",
       "      <th>cov_nongerman_female</th>\n",
       "    </tr>\n",
       "  </thead>\n",
       "  <tbody>\n",
       "    <tr>\n",
       "      <th>0</th>\n",
       "      <td>bd5eb995e959eab90b9c2501c38dbb11</td>\n",
       "      <td>penalized_logreg</td>\n",
       "      <td>none</td>\n",
       "      <td>keep-all</td>\n",
       "      <td>scale</td>\n",
       "      <td>0.66098</td>\n",
       "      <td>0.91137</td>\n",
       "      <td>1.12439</td>\n",
       "      <td>0.911956</td>\n",
       "      <td>0.910795</td>\n",
       "      <td>0.925516</td>\n",
       "      <td>0.886438</td>\n",
       "    </tr>\n",
       "  </tbody>\n",
       "</table>\n",
       "</div>"
      ],
      "text/plain": [
       "                        universe_id    universe_model  \\\n",
       "0  bd5eb995e959eab90b9c2501c38dbb11  penalized_logreg   \n",
       "\n",
       "  universe_exclude_features universe_exclude_subgroups universe_scale  \\\n",
       "0                      none                   keep-all          scale   \n",
       "\n",
       "     q_hat  coverage  avg_size  cov_frau1  cov_nongerman  cov_nongerman_male  \\\n",
       "0  0.66098   0.91137   1.12439   0.911956       0.910795            0.925516   \n",
       "\n",
       "   cov_nongerman_female  \n",
       "0              0.886438  "
      ]
     },
     "execution_count": 53,
     "metadata": {},
     "output_type": "execute_result"
    }
   ],
   "source": [
    "cp_metrics_df"
   ]
  },
  {
   "cell_type": "markdown",
   "id": "33774451",
   "metadata": {
    "papermill": {
     "duration": 0.024917,
     "end_time": "2025-07-23T14:23:02.403473",
     "exception": false,
     "start_time": "2025-07-23T14:23:02.378556",
     "status": "completed"
    },
    "tags": []
   },
   "source": [
    "# (Fairness) Metrics"
   ]
  },
  {
   "cell_type": "code",
   "execution_count": 54,
   "id": "debc5d62",
   "metadata": {
    "execution": {
     "iopub.execute_input": "2025-07-23T14:23:02.452798Z",
     "iopub.status.busy": "2025-07-23T14:23:02.452236Z",
     "iopub.status.idle": "2025-07-23T14:23:02.476196Z",
     "shell.execute_reply": "2025-07-23T14:23:02.475380Z"
    },
    "papermill": {
     "duration": 0.05233,
     "end_time": "2025-07-23T14:23:02.479968",
     "exception": false,
     "start_time": "2025-07-23T14:23:02.427638",
     "status": "completed"
    },
    "tags": []
   },
   "outputs": [],
   "source": [
    "# do I need to include maxdeutsch1.missing?\n",
    "\n",
    "import numpy as np\n",
    "\n",
    "colname_to_bin = \"maxdeutsch1\"\n",
    "majority_value = org_train[colname_to_bin].mode()[0]\n",
    "\n",
    "org_test[\"majmin\"] = np.where(org_test[colname_to_bin] == majority_value, \"majority\", \"minority\")"
   ]
  },
  {
   "cell_type": "code",
   "execution_count": 55,
   "id": "06a50de5",
   "metadata": {
    "execution": {
     "iopub.execute_input": "2025-07-23T14:23:02.534550Z",
     "iopub.status.busy": "2025-07-23T14:23:02.533693Z",
     "iopub.status.idle": "2025-07-23T14:23:05.487914Z",
     "shell.execute_reply": "2025-07-23T14:23:05.486916Z"
    },
    "papermill": {
     "duration": 2.982153,
     "end_time": "2025-07-23T14:23:05.489909",
     "exception": false,
     "start_time": "2025-07-23T14:23:02.507756",
     "status": "completed"
    },
    "tags": []
   },
   "outputs": [],
   "source": [
    "example_universe = universe.copy()\n",
    "example_universe[\"cutoff\"] = example_universe[\"cutoff\"][0]\n",
    "example_universe[\"eval_fairness_grouping\"] = example_universe[\"eval_fairness_grouping\"][0]\n",
    "fairness_dict, metric_frame = universe_analysis.compute_metrics(\n",
    "    example_universe,\n",
    "    y_pred_prob=probs_test,\n",
    "    y_test=y_true,\n",
    "    org_test=org_test,\n",
    ")"
   ]
  },
  {
   "cell_type": "markdown",
   "id": "f95d4e02",
   "metadata": {
    "papermill": {
     "duration": 0.023327,
     "end_time": "2025-07-23T14:23:05.538155",
     "exception": false,
     "start_time": "2025-07-23T14:23:05.514828",
     "status": "completed"
    },
    "tags": []
   },
   "source": [
    "# Overall"
   ]
  },
  {
   "cell_type": "markdown",
   "id": "bdee4871",
   "metadata": {
    "papermill": {
     "duration": 0.021501,
     "end_time": "2025-07-23T14:23:05.581114",
     "exception": false,
     "start_time": "2025-07-23T14:23:05.559613",
     "status": "completed"
    },
    "tags": []
   },
   "source": [
    "Fairness\n",
    "Main fairness target: Equalized Odds. Seems to be a better fit than equal opportunity, since we're not only interested in Y = 1. Seems to be a better fit than demographic parity, since we also care about accuracy, not just equal distribution of preds.\n",
    "\n",
    "Pick column for computation of fairness metrics\n",
    "\n",
    "Performance\n",
    "Overall performance measures, most interesting in relation to the measures split by group below"
   ]
  },
  {
   "cell_type": "code",
   "execution_count": 56,
   "id": "c4e067c6",
   "metadata": {
    "execution": {
     "iopub.execute_input": "2025-07-23T14:23:05.628444Z",
     "iopub.status.busy": "2025-07-23T14:23:05.627509Z",
     "iopub.status.idle": "2025-07-23T14:23:05.636715Z",
     "shell.execute_reply": "2025-07-23T14:23:05.635767Z"
    },
    "papermill": {
     "duration": 0.033556,
     "end_time": "2025-07-23T14:23:05.638385",
     "exception": false,
     "start_time": "2025-07-23T14:23:05.604829",
     "status": "completed"
    },
    "tags": []
   },
   "outputs": [
    {
     "data": {
      "text/plain": [
       "accuracy                   0.225828\n",
       "balanced accuracy          0.551875\n",
       "f1                         0.247119\n",
       "precision                  0.141171\n",
       "false positive rate        0.886691\n",
       "false negative rate        0.009559\n",
       "selection rate             0.900000\n",
       "count                  89710.000000\n",
       "dtype: float64"
      ]
     },
     "execution_count": 56,
     "metadata": {},
     "output_type": "execute_result"
    }
   ],
   "source": [
    "metric_frame.overall"
   ]
  },
  {
   "cell_type": "markdown",
   "id": "e968fe9d",
   "metadata": {
    "papermill": {
     "duration": 0.021951,
     "end_time": "2025-07-23T14:23:05.685230",
     "exception": false,
     "start_time": "2025-07-23T14:23:05.663279",
     "status": "completed"
    },
    "tags": []
   },
   "source": [
    "By Group"
   ]
  },
  {
   "cell_type": "code",
   "execution_count": 57,
   "id": "ec325bce",
   "metadata": {
    "execution": {
     "iopub.execute_input": "2025-07-23T14:23:05.729933Z",
     "iopub.status.busy": "2025-07-23T14:23:05.729205Z",
     "iopub.status.idle": "2025-07-23T14:23:05.746263Z",
     "shell.execute_reply": "2025-07-23T14:23:05.745291Z"
    },
    "papermill": {
     "duration": 0.041314,
     "end_time": "2025-07-23T14:23:05.747929",
     "exception": false,
     "start_time": "2025-07-23T14:23:05.706615",
     "status": "completed"
    },
    "tags": []
   },
   "outputs": [
    {
     "data": {
      "text/html": [
       "<div>\n",
       "<style scoped>\n",
       "    .dataframe tbody tr th:only-of-type {\n",
       "        vertical-align: middle;\n",
       "    }\n",
       "\n",
       "    .dataframe tbody tr th {\n",
       "        vertical-align: top;\n",
       "    }\n",
       "\n",
       "    .dataframe thead th {\n",
       "        text-align: right;\n",
       "    }\n",
       "</style>\n",
       "<table border=\"1\" class=\"dataframe\">\n",
       "  <thead>\n",
       "    <tr style=\"text-align: right;\">\n",
       "      <th></th>\n",
       "      <th>accuracy</th>\n",
       "      <th>balanced accuracy</th>\n",
       "      <th>f1</th>\n",
       "      <th>precision</th>\n",
       "      <th>false positive rate</th>\n",
       "      <th>false negative rate</th>\n",
       "      <th>selection rate</th>\n",
       "      <th>count</th>\n",
       "    </tr>\n",
       "    <tr>\n",
       "      <th>majmin</th>\n",
       "      <th></th>\n",
       "      <th></th>\n",
       "      <th></th>\n",
       "      <th></th>\n",
       "      <th></th>\n",
       "      <th></th>\n",
       "      <th></th>\n",
       "      <th></th>\n",
       "    </tr>\n",
       "  </thead>\n",
       "  <tbody>\n",
       "    <tr>\n",
       "      <th>majority</th>\n",
       "      <td>0.247607</td>\n",
       "      <td>0.561934</td>\n",
       "      <td>0.257854</td>\n",
       "      <td>0.148250</td>\n",
       "      <td>0.865301</td>\n",
       "      <td>0.010832</td>\n",
       "      <td>0.881668</td>\n",
       "      <td>69170.0</td>\n",
       "    </tr>\n",
       "    <tr>\n",
       "      <th>minority</th>\n",
       "      <td>0.152483</td>\n",
       "      <td>0.519001</td>\n",
       "      <td>0.213091</td>\n",
       "      <td>0.119318</td>\n",
       "      <td>0.957352</td>\n",
       "      <td>0.004645</td>\n",
       "      <td>0.961733</td>\n",
       "      <td>20540.0</td>\n",
       "    </tr>\n",
       "  </tbody>\n",
       "</table>\n",
       "</div>"
      ],
      "text/plain": [
       "          accuracy  balanced accuracy        f1  precision  \\\n",
       "majmin                                                       \n",
       "majority  0.247607           0.561934  0.257854   0.148250   \n",
       "minority  0.152483           0.519001  0.213091   0.119318   \n",
       "\n",
       "          false positive rate  false negative rate  selection rate    count  \n",
       "majmin                                                                       \n",
       "majority             0.865301             0.010832        0.881668  69170.0  \n",
       "minority             0.957352             0.004645        0.961733  20540.0  "
      ]
     },
     "execution_count": 57,
     "metadata": {},
     "output_type": "execute_result"
    }
   ],
   "source": [
    "metric_frame.by_group"
   ]
  },
  {
   "cell_type": "code",
   "execution_count": 58,
   "id": "a9ddbe63",
   "metadata": {
    "execution": {
     "iopub.execute_input": "2025-07-23T14:23:05.795600Z",
     "iopub.status.busy": "2025-07-23T14:23:05.794950Z",
     "iopub.status.idle": "2025-07-23T14:23:08.633595Z",
     "shell.execute_reply": "2025-07-23T14:23:08.632040Z"
    },
    "papermill": {
     "duration": 2.863928,
     "end_time": "2025-07-23T14:23:08.635653",
     "exception": false,
     "start_time": "2025-07-23T14:23:05.771725",
     "status": "completed"
    },
    "tags": []
   },
   "outputs": [
    {
     "data": {
      "text/plain": [
       "array([[<Axes: title={'center': 'accuracy'}, xlabel='majmin'>,\n",
       "        <Axes: title={'center': 'balanced accuracy'}, xlabel='majmin'>,\n",
       "        <Axes: title={'center': 'f1'}, xlabel='majmin'>],\n",
       "       [<Axes: title={'center': 'precision'}, xlabel='majmin'>,\n",
       "        <Axes: title={'center': 'false positive rate'}, xlabel='majmin'>,\n",
       "        <Axes: title={'center': 'false negative rate'}, xlabel='majmin'>],\n",
       "       [<Axes: title={'center': 'selection rate'}, xlabel='majmin'>,\n",
       "        <Axes: title={'center': 'count'}, xlabel='majmin'>,\n",
       "        <Axes: xlabel='majmin'>]], dtype=object)"
      ]
     },
     "execution_count": 58,
     "metadata": {},
     "output_type": "execute_result"
    },
    {
     "data": {
      "image/png": "[encoded data removed]",
      "text/plain": [
       "<Figure size 1200x800 with 9 Axes>"
      ]
     },
     "metadata": {},
     "output_type": "display_data"
    }
   ],
   "source": [
    "# In a graphic\n",
    "metric_frame.by_group.plot.bar(\n",
    "    subplots=True,\n",
    "    layout=[3, 3],\n",
    "    legend=False,\n",
    "    figsize=[12, 8],\n",
    "    title=\"Show all metrics\",\n",
    ")"
   ]
  },
  {
   "cell_type": "markdown",
   "id": "f57a0bac",
   "metadata": {
    "papermill": {
     "duration": 0.023992,
     "end_time": "2025-07-23T14:23:08.689085",
     "exception": false,
     "start_time": "2025-07-23T14:23:08.665093",
     "status": "completed"
    },
    "tags": []
   },
   "source": [
    "# Final Output"
   ]
  },
  {
   "cell_type": "code",
   "execution_count": 59,
   "id": "96d280a3",
   "metadata": {
    "execution": {
     "iopub.execute_input": "2025-07-23T14:23:08.739785Z",
     "iopub.status.busy": "2025-07-23T14:23:08.738727Z",
     "iopub.status.idle": "2025-07-23T14:23:08.749569Z",
     "shell.execute_reply": "2025-07-23T14:23:08.748617Z"
    },
    "papermill": {
     "duration": 0.037536,
     "end_time": "2025-07-23T14:23:08.751160",
     "exception": false,
     "start_time": "2025-07-23T14:23:08.713624",
     "status": "completed"
    },
    "tags": []
   },
   "outputs": [
    {
     "data": {
      "text/plain": [
       "4"
      ]
     },
     "execution_count": 59,
     "metadata": {},
     "output_type": "execute_result"
    }
   ],
   "source": [
    "sub_universes = universe_analysis.generate_sub_universes()\n",
    "len(sub_universes)"
   ]
  },
  {
   "cell_type": "code",
   "execution_count": 60,
   "id": "92adf7ba",
   "metadata": {
    "execution": {
     "iopub.execute_input": "2025-07-23T14:23:08.808242Z",
     "iopub.status.busy": "2025-07-23T14:23:08.805045Z",
     "iopub.status.idle": "2025-07-23T14:23:08.814063Z",
     "shell.execute_reply": "2025-07-23T14:23:08.812926Z"
    },
    "papermill": {
     "duration": 0.040429,
     "end_time": "2025-07-23T14:23:08.816168",
     "exception": false,
     "start_time": "2025-07-23T14:23:08.775739",
     "status": "completed"
    },
    "tags": []
   },
   "outputs": [],
   "source": [
    "def filter_sub_universe_data(sub_universe, org_test):\n",
    "    # Keep all rows — no filtering\n",
    "    keep_rows_mask = np.ones(org_test.shape[0], dtype=bool)\n",
    "\n",
    "    print(f\"[INFO] Keeping all rows: {keep_rows_mask.sum()} rows retained.\")\n",
    "    return keep_rows_mask"
   ]
  },
  {
   "cell_type": "code",
   "execution_count": 61,
   "id": "4a759155",
   "metadata": {
    "execution": {
     "iopub.execute_input": "2025-07-23T14:23:08.872712Z",
     "iopub.status.busy": "2025-07-23T14:23:08.871804Z",
     "iopub.status.idle": "2025-07-23T14:23:20.735376Z",
     "shell.execute_reply": "2025-07-23T14:23:20.734265Z"
    },
    "papermill": {
     "duration": 11.891779,
     "end_time": "2025-07-23T14:23:20.736663",
     "exception": false,
     "start_time": "2025-07-23T14:23:08.844884",
     "status": "completed"
    },
    "tags": []
   },
   "outputs": [
    {
     "name": "stdout",
     "output_type": "stream",
     "text": [
      "Stopping execution_time clock.\n",
      "[INFO] Keeping all rows: 89710 rows retained.\n"
     ]
    },
    {
     "name": "stdout",
     "output_type": "stream",
     "text": [
      "[INFO] Keeping all rows: 89710 rows retained.\n"
     ]
    },
    {
     "name": "stdout",
     "output_type": "stream",
     "text": [
      "[INFO] Keeping all rows: 89710 rows retained.\n"
     ]
    },
    {
     "name": "stdout",
     "output_type": "stream",
     "text": [
      "[INFO] Keeping all rows: 89710 rows retained.\n"
     ]
    },
    {
     "data": {
      "text/html": [
       "<div>\n",
       "<style scoped>\n",
       "    .dataframe tbody tr th:only-of-type {\n",
       "        vertical-align: middle;\n",
       "    }\n",
       "\n",
       "    .dataframe tbody tr th {\n",
       "        vertical-align: top;\n",
       "    }\n",
       "\n",
       "    .dataframe thead th {\n",
       "        text-align: right;\n",
       "    }\n",
       "</style>\n",
       "<table border=\"1\" class=\"dataframe\">\n",
       "  <thead>\n",
       "    <tr style=\"text-align: right;\">\n",
       "      <th></th>\n",
       "      <th>run_no</th>\n",
       "      <th>universe_id</th>\n",
       "      <th>universe_settings</th>\n",
       "      <th>execution_time</th>\n",
       "      <th>test_size_n</th>\n",
       "      <th>test_size_frac</th>\n",
       "      <th>fair_main_equalized_odds_difference</th>\n",
       "      <th>fair_main_equalized_odds_ratio</th>\n",
       "      <th>fair_main_demographic_parity_difference</th>\n",
       "      <th>fair_main_demographic_parity_ratio</th>\n",
       "      <th>...</th>\n",
       "      <th>perf_grp_precision_0</th>\n",
       "      <th>perf_grp_precision_1</th>\n",
       "      <th>perf_grp_false positive rate_0</th>\n",
       "      <th>perf_grp_false positive rate_1</th>\n",
       "      <th>perf_grp_false negative rate_0</th>\n",
       "      <th>perf_grp_false negative rate_1</th>\n",
       "      <th>perf_grp_selection rate_0</th>\n",
       "      <th>perf_grp_selection rate_1</th>\n",
       "      <th>perf_grp_count_0</th>\n",
       "      <th>perf_grp_count_1</th>\n",
       "    </tr>\n",
       "  </thead>\n",
       "  <tbody>\n",
       "    <tr>\n",
       "      <th>0</th>\n",
       "      <td>8</td>\n",
       "      <td>bd5eb995e959eab90b9c2501c38dbb11</td>\n",
       "      <td>{\"cutoff\": \"quantile_0.1\", \"eval_fairness_grou...</td>\n",
       "      <td>22.049818</td>\n",
       "      <td>89710</td>\n",
       "      <td>1.0</td>\n",
       "      <td>0.092051</td>\n",
       "      <td>0.903848</td>\n",
       "      <td>0.080065</td>\n",
       "      <td>0.916749</td>\n",
       "      <td>...</td>\n",
       "      <td>NaN</td>\n",
       "      <td>NaN</td>\n",
       "      <td>NaN</td>\n",
       "      <td>NaN</td>\n",
       "      <td>NaN</td>\n",
       "      <td>NaN</td>\n",
       "      <td>NaN</td>\n",
       "      <td>NaN</td>\n",
       "      <td>NaN</td>\n",
       "      <td>NaN</td>\n",
       "    </tr>\n",
       "    <tr>\n",
       "      <th>0</th>\n",
       "      <td>8</td>\n",
       "      <td>bd5eb995e959eab90b9c2501c38dbb11</td>\n",
       "      <td>{\"cutoff\": \"quantile_0.1\", \"eval_fairness_grou...</td>\n",
       "      <td>22.049818</td>\n",
       "      <td>89710</td>\n",
       "      <td>1.0</td>\n",
       "      <td>0.092051</td>\n",
       "      <td>0.903848</td>\n",
       "      <td>0.080065</td>\n",
       "      <td>0.916749</td>\n",
       "      <td>...</td>\n",
       "      <td>0.119318</td>\n",
       "      <td>0.148250</td>\n",
       "      <td>0.957352</td>\n",
       "      <td>0.865301</td>\n",
       "      <td>0.004645</td>\n",
       "      <td>0.010832</td>\n",
       "      <td>0.961733</td>\n",
       "      <td>0.881668</td>\n",
       "      <td>20540.0</td>\n",
       "      <td>69170.0</td>\n",
       "    </tr>\n",
       "    <tr>\n",
       "      <th>0</th>\n",
       "      <td>8</td>\n",
       "      <td>bd5eb995e959eab90b9c2501c38dbb11</td>\n",
       "      <td>{\"cutoff\": \"quantile_0.25\", \"eval_fairness_gro...</td>\n",
       "      <td>22.049818</td>\n",
       "      <td>89710</td>\n",
       "      <td>1.0</td>\n",
       "      <td>0.142485</td>\n",
       "      <td>0.828209</td>\n",
       "      <td>0.122378</td>\n",
       "      <td>0.855063</td>\n",
       "      <td>...</td>\n",
       "      <td>NaN</td>\n",
       "      <td>NaN</td>\n",
       "      <td>NaN</td>\n",
       "      <td>NaN</td>\n",
       "      <td>NaN</td>\n",
       "      <td>NaN</td>\n",
       "      <td>NaN</td>\n",
       "      <td>NaN</td>\n",
       "      <td>NaN</td>\n",
       "      <td>NaN</td>\n",
       "    </tr>\n",
       "    <tr>\n",
       "      <th>0</th>\n",
       "      <td>8</td>\n",
       "      <td>bd5eb995e959eab90b9c2501c38dbb11</td>\n",
       "      <td>{\"cutoff\": \"quantile_0.25\", \"eval_fairness_gro...</td>\n",
       "      <td>22.049818</td>\n",
       "      <td>89710</td>\n",
       "      <td>1.0</td>\n",
       "      <td>0.142485</td>\n",
       "      <td>0.828209</td>\n",
       "      <td>0.122378</td>\n",
       "      <td>0.855063</td>\n",
       "      <td>...</td>\n",
       "      <td>0.130946</td>\n",
       "      <td>0.174273</td>\n",
       "      <td>0.829408</td>\n",
       "      <td>0.686923</td>\n",
       "      <td>0.040963</td>\n",
       "      <td>0.047812</td>\n",
       "      <td>0.844352</td>\n",
       "      <td>0.721975</td>\n",
       "      <td>20540.0</td>\n",
       "      <td>69170.0</td>\n",
       "    </tr>\n",
       "  </tbody>\n",
       "</table>\n",
       "<p>4 rows × 50 columns</p>\n",
       "</div>"
      ],
      "text/plain": [
       "  run_no                       universe_id  \\\n",
       "0      8  bd5eb995e959eab90b9c2501c38dbb11   \n",
       "0      8  bd5eb995e959eab90b9c2501c38dbb11   \n",
       "0      8  bd5eb995e959eab90b9c2501c38dbb11   \n",
       "0      8  bd5eb995e959eab90b9c2501c38dbb11   \n",
       "\n",
       "                                   universe_settings  execution_time  \\\n",
       "0  {\"cutoff\": \"quantile_0.1\", \"eval_fairness_grou...       22.049818   \n",
       "0  {\"cutoff\": \"quantile_0.1\", \"eval_fairness_grou...       22.049818   \n",
       "0  {\"cutoff\": \"quantile_0.25\", \"eval_fairness_gro...       22.049818   \n",
       "0  {\"cutoff\": \"quantile_0.25\", \"eval_fairness_gro...       22.049818   \n",
       "\n",
       "   test_size_n  test_size_frac  fair_main_equalized_odds_difference  \\\n",
       "0        89710             1.0                             0.092051   \n",
       "0        89710             1.0                             0.092051   \n",
       "0        89710             1.0                             0.142485   \n",
       "0        89710             1.0                             0.142485   \n",
       "\n",
       "   fair_main_equalized_odds_ratio  fair_main_demographic_parity_difference  \\\n",
       "0                        0.903848                                 0.080065   \n",
       "0                        0.903848                                 0.080065   \n",
       "0                        0.828209                                 0.122378   \n",
       "0                        0.828209                                 0.122378   \n",
       "\n",
       "   fair_main_demographic_parity_ratio  ...  perf_grp_precision_0  \\\n",
       "0                            0.916749  ...                   NaN   \n",
       "0                            0.916749  ...              0.119318   \n",
       "0                            0.855063  ...                   NaN   \n",
       "0                            0.855063  ...              0.130946   \n",
       "\n",
       "   perf_grp_precision_1  perf_grp_false positive rate_0  \\\n",
       "0                   NaN                             NaN   \n",
       "0              0.148250                        0.957352   \n",
       "0                   NaN                             NaN   \n",
       "0              0.174273                        0.829408   \n",
       "\n",
       "   perf_grp_false positive rate_1  perf_grp_false negative rate_0  \\\n",
       "0                             NaN                             NaN   \n",
       "0                        0.865301                        0.004645   \n",
       "0                             NaN                             NaN   \n",
       "0                        0.686923                        0.040963   \n",
       "\n",
       "   perf_grp_false negative rate_1  perf_grp_selection rate_0  \\\n",
       "0                             NaN                        NaN   \n",
       "0                        0.010832                   0.961733   \n",
       "0                             NaN                        NaN   \n",
       "0                        0.047812                   0.844352   \n",
       "\n",
       "   perf_grp_selection rate_1  perf_grp_count_0  perf_grp_count_1  \n",
       "0                        NaN               NaN               NaN  \n",
       "0                   0.881668           20540.0           69170.0  \n",
       "0                        NaN               NaN               NaN  \n",
       "0                   0.721975           20540.0           69170.0  \n",
       "\n",
       "[4 rows x 50 columns]"
      ]
     },
     "execution_count": 61,
     "metadata": {},
     "output_type": "execute_result"
    }
   ],
   "source": [
    "final_output = universe_analysis.generate_final_output(\n",
    "    y_pred_prob=probs_test,\n",
    "    y_test=y_true,\n",
    "    org_test=org_test,\n",
    "    filter_data=filter_sub_universe_data,\n",
    "    cp_metrics_df=cp_metrics_df,\n",
    "    save=True,\n",
    ")\n",
    "final_output"
   ]
  },
  {
   "cell_type": "code",
   "execution_count": null,
   "id": "721ff514-cb11-46f8-b6fc-50392f74b5cb",
   "metadata": {
    "papermill": {
     "duration": 0.015102,
     "end_time": "2025-07-23T14:23:20.769317",
     "exception": false,
     "start_time": "2025-07-23T14:23:20.754215",
     "status": "completed"
    },
    "tags": []
   },
   "outputs": [],
   "source": []
  }
 ],
 "metadata": {
  "celltoolbar": "Tags",
  "kernelspec": {
   "display_name": "Python (CMA Fairness)",
   "language": "python",
   "name": "cma_fair_env"
  },
  "language_info": {
   "codemirror_mode": {
    "name": "ipython",
    "version": 3
   },
   "file_extension": ".py",
   "mimetype": "text/x-python",
   "name": "python",
   "nbconvert_exporter": "python",
   "pygments_lexer": "ipython3",
   "version": "3.10.12"
  },
  "papermill": {
   "default_parameters": {},
   "duration": 38.197196,
   "end_time": "2025-07-23T14:23:21.515841",
   "environment_variables": {},
   "exception": null,
   "input_path": "universe_analysis.ipynb",
   "output_path": "output/runs/8/notebooks/m_8-bd5eb995e959eab90b9c2501c38dbb11.ipynb",
   "parameters": {
    "output_dir": "output",
    "run_no": "8",
    "seed": "2023",
    "universe": "{\"cutoff\": [\"quantile_0.1\", \"quantile_0.25\"], \"eval_fairness_grouping\": [\"majority-minority\", \"nationality-all\"], \"exclude_features\": \"none\", \"exclude_subgroups\": \"keep-all\", \"model\": \"penalized_logreg\", \"scale\": \"scale\"}",
    "universe_id": "bd5eb995e959eab90b9c2501c38dbb11"
   },
   "start_time": "2025-07-23T14:22:43.318645",
   "version": "2.6.0"
  }
 },
 "nbformat": 4,
 "nbformat_minor": 5
}