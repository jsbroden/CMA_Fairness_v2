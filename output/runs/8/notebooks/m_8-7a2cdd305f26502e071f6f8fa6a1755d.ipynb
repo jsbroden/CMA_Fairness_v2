{
 "cells": [
  {
   "cell_type": "code",
   "execution_count": 1,
   "id": "f159f837-637b-42ba-96b5-ec9a68c44524",
   "metadata": {
    "execution": {
     "iopub.execute_input": "2025-07-23T14:23:18.219393Z",
     "iopub.status.busy": "2025-07-23T14:23:18.218873Z",
     "iopub.status.idle": "2025-07-23T14:23:18.232976Z",
     "shell.execute_reply": "2025-07-23T14:23:18.231936Z"
    },
    "papermill": {
     "duration": 0.033893,
     "end_time": "2025-07-23T14:23:18.235271",
     "exception": false,
     "start_time": "2025-07-23T14:23:18.201378",
     "status": "completed"
    },
    "tags": []
   },
   "outputs": [
    {
     "name": "stdout",
     "output_type": "stream",
     "text": [
      "/dss/dsshome1/0C/ra93lal2/cma/CMA_Fairness_v2\n"
     ]
    },
    {
     "name": "stderr",
     "output_type": "stream",
     "text": [
      "/dss/dsshome1/0C/ra93lal2/.local/share/virtualenvs/CMA_Fairness_v2-3j10GkSs/lib/python3.10/site-packages/IPython/core/magics/osm.py:393: UserWarning: This is now an optional IPython functionality, using bookmarks requires you to install the `pickleshare` library.\n",
      "  bkms = self.shell.db.get('bookmarks', {})\n",
      "/dss/dsshome1/0C/ra93lal2/.local/share/virtualenvs/CMA_Fairness_v2-3j10GkSs/lib/python3.10/site-packages/IPython/core/magics/osm.py:417: UserWarning: This is now an optional IPython functionality, setting dhist requires you to install the `pickleshare` library.\n",
      "  self.shell.db['dhist'] = compress_dhist(dhist)[-100:]\n"
     ]
    }
   ],
   "source": [
    "%cd ~/cma/CMA_Fairness_v2"
   ]
  },
  {
   "cell_type": "markdown",
   "id": "de2603b9",
   "metadata": {
    "papermill": {
     "duration": 0.016714,
     "end_time": "2025-07-23T14:23:18.268420",
     "exception": false,
     "start_time": "2025-07-23T14:23:18.251706",
     "status": "completed"
    },
    "tags": []
   },
   "source": [
    "The following cell holds the definition of our parameters, these values can be overriden by rendering the with e.g. the following command:\n",
    "\n",
    "papermill -p alpha 0.2 -p ratio 0.3 universe_analysis.ipynb output/test_run.ipynb"
   ]
  },
  {
   "cell_type": "code",
   "execution_count": 2,
   "id": "a80968a0-40bb-4fa9-85ef-2d5eefb01975",
   "metadata": {
    "execution": {
     "iopub.execute_input": "2025-07-23T14:23:18.303532Z",
     "iopub.status.busy": "2025-07-23T14:23:18.302883Z",
     "iopub.status.idle": "2025-07-23T14:23:18.309994Z",
     "shell.execute_reply": "2025-07-23T14:23:18.308643Z"
    },
    "papermill": {
     "duration": 0.026669,
     "end_time": "2025-07-23T14:23:18.311797",
     "exception": false,
     "start_time": "2025-07-23T14:23:18.285128",
     "status": "completed"
    },
    "tags": []
   },
   "outputs": [
    {
     "name": "stdout",
     "output_type": "stream",
     "text": [
      "Current working directory: /dss/dsshome1/0C/ra93lal2/cma/CMA_Fairness_v2\n"
     ]
    }
   ],
   "source": [
    "import os\n",
    "print(\"Current working directory:\", os.getcwd())"
   ]
  },
  {
   "cell_type": "code",
   "execution_count": 3,
   "id": "2dce4c03",
   "metadata": {
    "execution": {
     "iopub.execute_input": "2025-07-23T14:23:18.346130Z",
     "iopub.status.busy": "2025-07-23T14:23:18.345656Z",
     "iopub.status.idle": "2025-07-23T14:23:18.352319Z",
     "shell.execute_reply": "2025-07-23T14:23:18.351194Z"
    },
    "papermill": {
     "duration": 0.025632,
     "end_time": "2025-07-23T14:23:18.354161",
     "exception": false,
     "start_time": "2025-07-23T14:23:18.328529",
     "status": "completed"
    },
    "tags": [
     "parameters"
    ]
   },
   "outputs": [],
   "source": [
    "run_no = 0\n",
    "universe_id = \"test\"\n",
    "universe = {\n",
    "    \"scale\": \"scale\", # \"scale\", \"do-not-scale\",\n",
    "    \"model\": \"elasticnet\", # \"logreg\", \"penalized_logreg\", \"rf\", \"gbm\", \"elasticnet\"\n",
    "    \"cutoff\": [\"quantile_0.15\", \"quantile_0.30\"],\n",
    "    \"exclude_features\": \"age\", # \"none\", \"nationality\", \"sex\", \"nationality-sex\", \"age\"\n",
    "    \"exclude_subgroups\": \"keep-all\", # \"keep-all\", \"drop-non-german\"\n",
    "    #\"training_sample\": \"restricted\", # \"restricted\", \"full\"\n",
    "    \"eval_fairness_grouping\": [\"majority-minority\", \"nationality-all\"]\n",
    "}\n",
    "\n",
    "output_dir=\"./output\"\n",
    "seed=0"
   ]
  },
  {
   "cell_type": "code",
   "execution_count": 4,
   "id": "f2c36663",
   "metadata": {
    "execution": {
     "iopub.execute_input": "2025-07-23T14:23:18.390029Z",
     "iopub.status.busy": "2025-07-23T14:23:18.389360Z",
     "iopub.status.idle": "2025-07-23T14:23:18.395215Z",
     "shell.execute_reply": "2025-07-23T14:23:18.394245Z"
    },
    "papermill": {
     "duration": 0.024968,
     "end_time": "2025-07-23T14:23:18.397011",
     "exception": false,
     "start_time": "2025-07-23T14:23:18.372043",
     "status": "completed"
    },
    "tags": [
     "injected-parameters"
    ]
   },
   "outputs": [],
   "source": [
    "# Parameters\n",
    "universe_id = \"7a2cdd305f26502e071f6f8fa6a1755d\"\n",
    "run_no = \"8\"\n",
    "universe = \"{\\\"cutoff\\\": [\\\"quantile_0.1\\\", \\\"quantile_0.25\\\"], \\\"eval_fairness_grouping\\\": [\\\"majority-minority\\\", \\\"nationality-all\\\"], \\\"exclude_features\\\": \\\"sex\\\", \\\"exclude_subgroups\\\": \\\"drop-non-german\\\", \\\"model\\\": \\\"penalized_logreg\\\", \\\"scale\\\": \\\"scale\\\"}\"\n",
    "output_dir = \"output\"\n",
    "seed = \"2023\"\n"
   ]
  },
  {
   "cell_type": "code",
   "execution_count": 5,
   "id": "1650acaf",
   "metadata": {
    "execution": {
     "iopub.execute_input": "2025-07-23T14:23:18.433635Z",
     "iopub.status.busy": "2025-07-23T14:23:18.433019Z",
     "iopub.status.idle": "2025-07-23T14:23:18.438215Z",
     "shell.execute_reply": "2025-07-23T14:23:18.437222Z"
    },
    "papermill": {
     "duration": 0.02612,
     "end_time": "2025-07-23T14:23:18.439964",
     "exception": false,
     "start_time": "2025-07-23T14:23:18.413844",
     "status": "completed"
    },
    "tags": []
   },
   "outputs": [],
   "source": [
    "import json\n",
    "# Parse universe into dict if it is passed as a string\n",
    "if isinstance(universe, str):\n",
    "    universe = json.loads(universe)"
   ]
  },
  {
   "cell_type": "code",
   "execution_count": 6,
   "id": "16620c48",
   "metadata": {
    "execution": {
     "iopub.execute_input": "2025-07-23T14:23:18.474303Z",
     "iopub.status.busy": "2025-07-23T14:23:18.473730Z",
     "iopub.status.idle": "2025-07-23T14:23:18.521107Z",
     "shell.execute_reply": "2025-07-23T14:23:18.520069Z"
    },
    "papermill": {
     "duration": 0.066459,
     "end_time": "2025-07-23T14:23:18.522991",
     "exception": false,
     "start_time": "2025-07-23T14:23:18.456532",
     "status": "completed"
    },
    "tags": []
   },
   "outputs": [],
   "source": [
    "# Auto-reload the custom package\n",
    "%load_ext autoreload\n",
    "%autoreload 1\n",
    "%aimport fairness_multiverse"
   ]
  },
  {
   "cell_type": "code",
   "execution_count": 7,
   "id": "01c5c9f3",
   "metadata": {
    "execution": {
     "iopub.execute_input": "2025-07-23T14:23:18.558438Z",
     "iopub.status.busy": "2025-07-23T14:23:18.557640Z",
     "iopub.status.idle": "2025-07-23T14:23:20.540463Z",
     "shell.execute_reply": "2025-07-23T14:23:20.539041Z"
    },
    "papermill": {
     "duration": 2.00249,
     "end_time": "2025-07-23T14:23:20.542709",
     "exception": false,
     "start_time": "2025-07-23T14:23:18.540219",
     "status": "completed"
    },
    "tags": []
   },
   "outputs": [],
   "source": [
    "from fairness_multiverse.universe import UniverseAnalysis\n",
    "\n",
    "universe_analysis = UniverseAnalysis(\n",
    "    run_no = run_no,\n",
    "    universe_id = universe_id,\n",
    "    universe = universe,\n",
    "    output_dir=output_dir,\n",
    ")"
   ]
  },
  {
   "cell_type": "code",
   "execution_count": 8,
   "id": "106241f5",
   "metadata": {
    "execution": {
     "iopub.execute_input": "2025-07-23T14:23:20.581068Z",
     "iopub.status.busy": "2025-07-23T14:23:20.580442Z",
     "iopub.status.idle": "2025-07-23T14:23:20.588435Z",
     "shell.execute_reply": "2025-07-23T14:23:20.587276Z"
    },
    "papermill": {
     "duration": 0.029167,
     "end_time": "2025-07-23T14:23:20.590402",
     "exception": false,
     "start_time": "2025-07-23T14:23:20.561235",
     "status": "completed"
    },
    "tags": []
   },
   "outputs": [
    {
     "name": "stdout",
     "output_type": "stream",
     "text": [
      "Using Seed: 2023\n"
     ]
    }
   ],
   "source": [
    "import numpy as np\n",
    "parsed_seed = int(seed)\n",
    "np.random.seed(parsed_seed)\n",
    "print(f\"Using Seed: {parsed_seed}\")"
   ]
  },
  {
   "cell_type": "markdown",
   "id": "e0ebdc57",
   "metadata": {
    "papermill": {
     "duration": 0.018435,
     "end_time": "2025-07-23T14:23:20.628968",
     "exception": false,
     "start_time": "2025-07-23T14:23:20.610533",
     "status": "completed"
    },
    "tags": []
   },
   "source": [
    "# Loading Data"
   ]
  },
  {
   "cell_type": "markdown",
   "id": "681925a3",
   "metadata": {
    "papermill": {
     "duration": 0.017194,
     "end_time": "2025-07-23T14:23:20.663528",
     "exception": false,
     "start_time": "2025-07-23T14:23:20.646334",
     "status": "completed"
    },
    "tags": []
   },
   "source": [
    "Load siab_train, siab_test, siab_calib and/or \n",
    "load siab_train_features, siab_train_labels"
   ]
  },
  {
   "cell_type": "code",
   "execution_count": 9,
   "id": "f0496b8a",
   "metadata": {
    "execution": {
     "iopub.execute_input": "2025-07-23T14:23:20.702307Z",
     "iopub.status.busy": "2025-07-23T14:23:20.701262Z",
     "iopub.status.idle": "2025-07-23T14:23:20.707381Z",
     "shell.execute_reply": "2025-07-23T14:23:20.706539Z"
    },
    "papermill": {
     "duration": 0.027291,
     "end_time": "2025-07-23T14:23:20.708799",
     "exception": false,
     "start_time": "2025-07-23T14:23:20.681508",
     "status": "completed"
    },
    "tags": []
   },
   "outputs": [],
   "source": [
    "# Do I need to load siab? Delete this cell?\n",
    "\n",
    "#from pathlib import Path\n",
    "#import pandas as pd\n",
    "#\n",
    "## File paths\n",
    "#raw_file = Path(\"data/raw/siab.csv\")\n",
    "#cache_file = Path(\"data/siab_cached.csv.gz\")\n",
    "#\n",
    "## Ensure cache directory exists\n",
    "#cache_file.parent.mkdir(parents=True, exist_ok=True)\n",
    "#\n",
    "## Load with simple caching\n",
    "#if cache_file.exists():\n",
    "#    print(f\"Loading SIAB data from cache: {cache_file}\")\n",
    "#    siab = pd.read_csv(cache_file, compression='gzip')\n",
    "#else:\n",
    "#    print(f\"Cache not found. Reading raw SIAB data: {raw_file}\")\n",
    "#    siab = pd.read_csv(raw_file)\n",
    "#    siab.to_csv(cache_file, index=False, compression='gzip')\n",
    "#    print(f\"Cached SIAB data to: {cache_file}\")\n",
    "#\n",
    "## Now use `siab` DataFrame as needed\n",
    "#print(siab.shape)\n"
   ]
  },
  {
   "cell_type": "code",
   "execution_count": 10,
   "id": "a0edb063",
   "metadata": {
    "execution": {
     "iopub.execute_input": "2025-07-23T14:23:20.746295Z",
     "iopub.status.busy": "2025-07-23T14:23:20.745502Z",
     "iopub.status.idle": "2025-07-23T14:23:22.081814Z",
     "shell.execute_reply": "2025-07-23T14:23:22.080697Z"
    },
    "papermill": {
     "duration": 1.357018,
     "end_time": "2025-07-23T14:23:22.083919",
     "exception": false,
     "start_time": "2025-07-23T14:23:20.726901",
     "status": "completed"
    },
    "tags": []
   },
   "outputs": [],
   "source": [
    "import pandas as pd\n",
    "\n",
    "X_train = pd.read_csv(\"./data/X_train.csv\")\n",
    "y_train = pd.read_csv(\"./data/y_train.csv\")"
   ]
  },
  {
   "cell_type": "code",
   "execution_count": 11,
   "id": "63d08085",
   "metadata": {
    "execution": {
     "iopub.execute_input": "2025-07-23T14:23:22.124037Z",
     "iopub.status.busy": "2025-07-23T14:23:22.123428Z",
     "iopub.status.idle": "2025-07-23T14:23:23.386563Z",
     "shell.execute_reply": "2025-07-23T14:23:23.385353Z"
    },
    "papermill": {
     "duration": 1.285603,
     "end_time": "2025-07-23T14:23:23.388730",
     "exception": false,
     "start_time": "2025-07-23T14:23:22.103127",
     "status": "completed"
    },
    "tags": []
   },
   "outputs": [],
   "source": [
    "X_test = pd.read_csv(\"./data/X_test.csv\")\n",
    "y_true = pd.read_csv(\"./data/y_test.csv\")"
   ]
  },
  {
   "cell_type": "code",
   "execution_count": 12,
   "id": "98a8d0fa-1d3d-4ed8-bb2c-281470e24add",
   "metadata": {
    "execution": {
     "iopub.execute_input": "2025-07-23T14:23:23.428851Z",
     "iopub.status.busy": "2025-07-23T14:23:23.428327Z",
     "iopub.status.idle": "2025-07-23T14:23:24.895186Z",
     "shell.execute_reply": "2025-07-23T14:23:24.893889Z"
    },
    "papermill": {
     "duration": 1.488705,
     "end_time": "2025-07-23T14:23:24.897336",
     "exception": false,
     "start_time": "2025-07-23T14:23:23.408631",
     "status": "completed"
    },
    "tags": []
   },
   "outputs": [],
   "source": [
    "# Calibration data for conformal\n",
    "X_calib = pd.read_csv(\"./data/X_calib.csv\")\n",
    "y_calib = pd.read_csv(\"./data/y_calib.csv\")"
   ]
  },
  {
   "cell_type": "code",
   "execution_count": 13,
   "id": "e6c733c5",
   "metadata": {
    "execution": {
     "iopub.execute_input": "2025-07-23T14:23:24.950552Z",
     "iopub.status.busy": "2025-07-23T14:23:24.949921Z",
     "iopub.status.idle": "2025-07-23T14:23:25.085354Z",
     "shell.execute_reply": "2025-07-23T14:23:25.084148Z"
    },
    "papermill": {
     "duration": 0.164464,
     "end_time": "2025-07-23T14:23:25.087024",
     "exception": false,
     "start_time": "2025-07-23T14:23:24.922560",
     "status": "completed"
    },
    "tags": []
   },
   "outputs": [],
   "source": [
    "# Auxiliary data needed downstream in the pipeline\n",
    "\n",
    "org_train = X_train.copy()\n",
    "org_test = X_test.copy()\n",
    "org_calib = X_calib.copy()"
   ]
  },
  {
   "cell_type": "markdown",
   "id": "0a4a1b33",
   "metadata": {
    "papermill": {
     "duration": 0.010458,
     "end_time": "2025-07-23T14:23:25.114568",
     "exception": false,
     "start_time": "2025-07-23T14:23:25.104110",
     "status": "completed"
    },
    "tags": []
   },
   "source": [
    "# Preprocessing Data"
   ]
  },
  {
   "cell_type": "code",
   "execution_count": 14,
   "id": "ca879031",
   "metadata": {
    "execution": {
     "iopub.execute_input": "2025-07-23T14:23:25.139160Z",
     "iopub.status.busy": "2025-07-23T14:23:25.138752Z",
     "iopub.status.idle": "2025-07-23T14:23:25.145618Z",
     "shell.execute_reply": "2025-07-23T14:23:25.144846Z"
    },
    "papermill": {
     "duration": 0.021668,
     "end_time": "2025-07-23T14:23:25.147069",
     "exception": false,
     "start_time": "2025-07-23T14:23:25.125401",
     "status": "completed"
    },
    "tags": []
   },
   "outputs": [],
   "source": [
    "# EXCLUDE PROTECTED FEATURES\n",
    "# ----------------------\n",
    "# \"exclude_features\": \"none\", # \"nationality\", \"sex\", \"nationality-sex\"\n",
    "\n",
    "excluded_features = universe[\"exclude_features\"].split(\"-\") # split, e.g.: \"nationality-sex\" -> [\"nationality\", \"sex\"]\n",
    "excluded_features_dictionary = {\n",
    "    \"nationality\": [\"maxdeutsch1\", \"maxdeutsch.Missing.\"],\n",
    "    \"sex\": [\"frau1\"],\n",
    "    \"age\": [\"age\"],\n",
    "}\n"
   ]
  },
  {
   "cell_type": "code",
   "execution_count": 15,
   "id": "b745ac60",
   "metadata": {
    "execution": {
     "iopub.execute_input": "2025-07-23T14:23:25.168540Z",
     "iopub.status.busy": "2025-07-23T14:23:25.167997Z",
     "iopub.status.idle": "2025-07-23T14:23:25.173979Z",
     "shell.execute_reply": "2025-07-23T14:23:25.173203Z"
    },
    "papermill": {
     "duration": 0.018113,
     "end_time": "2025-07-23T14:23:25.175415",
     "exception": false,
     "start_time": "2025-07-23T14:23:25.157302",
     "status": "completed"
    },
    "tags": []
   },
   "outputs": [],
   "source": [
    "# Code nice names to column names\n",
    "\n",
    "excluded_features_columns = [\n",
    "    excluded_features_dictionary[f] for f in excluded_features if len(f) > 0 and f != \"none\"\n",
    "]"
   ]
  },
  {
   "cell_type": "code",
   "execution_count": 16,
   "id": "f84f73a2",
   "metadata": {
    "execution": {
     "iopub.execute_input": "2025-07-23T14:23:25.197131Z",
     "iopub.status.busy": "2025-07-23T14:23:25.196538Z",
     "iopub.status.idle": "2025-07-23T14:23:25.203252Z",
     "shell.execute_reply": "2025-07-23T14:23:25.202164Z"
    },
    "papermill": {
     "duration": 0.019467,
     "end_time": "2025-07-23T14:23:25.205225",
     "exception": false,
     "start_time": "2025-07-23T14:23:25.185758",
     "status": "completed"
    },
    "tags": []
   },
   "outputs": [],
   "source": [
    "from utils import flatten_once\n",
    "\n",
    "excluded_features_columns = flatten_once(excluded_features_columns)"
   ]
  },
  {
   "cell_type": "code",
   "execution_count": 17,
   "id": "884dea22",
   "metadata": {
    "execution": {
     "iopub.execute_input": "2025-07-23T14:23:25.245191Z",
     "iopub.status.busy": "2025-07-23T14:23:25.244336Z",
     "iopub.status.idle": "2025-07-23T14:23:25.302981Z",
     "shell.execute_reply": "2025-07-23T14:23:25.301878Z"
    },
    "papermill": {
     "duration": 0.080912,
     "end_time": "2025-07-23T14:23:25.305461",
     "exception": false,
     "start_time": "2025-07-23T14:23:25.224549",
     "status": "completed"
    },
    "tags": []
   },
   "outputs": [
    {
     "name": "stdout",
     "output_type": "stream",
     "text": [
      "Dropping features: ['frau1']\n"
     ]
    }
   ],
   "source": [
    "if len(excluded_features_columns) > 0:\n",
    "    print(f\"Dropping features: {excluded_features_columns}\")\n",
    "    X_train.drop(excluded_features_columns, axis=1, inplace=True)"
   ]
  },
  {
   "cell_type": "code",
   "execution_count": 18,
   "id": "95ab8b16",
   "metadata": {
    "execution": {
     "iopub.execute_input": "2025-07-23T14:23:25.351775Z",
     "iopub.status.busy": "2025-07-23T14:23:25.351210Z",
     "iopub.status.idle": "2025-07-23T14:23:25.407658Z",
     "shell.execute_reply": "2025-07-23T14:23:25.406425Z"
    },
    "papermill": {
     "duration": 0.082395,
     "end_time": "2025-07-23T14:23:25.409799",
     "exception": false,
     "start_time": "2025-07-23T14:23:25.327404",
     "status": "completed"
    },
    "tags": []
   },
   "outputs": [
    {
     "name": "stdout",
     "output_type": "stream",
     "text": [
      "Dropping features: ['frau1']\n"
     ]
    }
   ],
   "source": [
    "if len(excluded_features_columns) > 0:\n",
    "    print(f\"Dropping features: {excluded_features_columns}\")\n",
    "    X_test.drop(excluded_features_columns, axis=1, inplace=True)"
   ]
  },
  {
   "cell_type": "code",
   "execution_count": 19,
   "id": "1853aaf5-fb9f-46cb-a2b5-8ea4ae2237e4",
   "metadata": {
    "execution": {
     "iopub.execute_input": "2025-07-23T14:23:25.458687Z",
     "iopub.status.busy": "2025-07-23T14:23:25.457685Z",
     "iopub.status.idle": "2025-07-23T14:23:25.521943Z",
     "shell.execute_reply": "2025-07-23T14:23:25.520776Z"
    },
    "papermill": {
     "duration": 0.091647,
     "end_time": "2025-07-23T14:23:25.524214",
     "exception": false,
     "start_time": "2025-07-23T14:23:25.432567",
     "status": "completed"
    },
    "tags": []
   },
   "outputs": [
    {
     "name": "stdout",
     "output_type": "stream",
     "text": [
      "Dropping features: ['frau1']\n"
     ]
    }
   ],
   "source": [
    "if len(excluded_features_columns) > 0:\n",
    "    print(f\"Dropping features: {excluded_features_columns}\")\n",
    "    X_calib.drop(excluded_features_columns, axis=1, inplace=True)"
   ]
  },
  {
   "cell_type": "code",
   "execution_count": 20,
   "id": "76c4dc6d",
   "metadata": {
    "execution": {
     "iopub.execute_input": "2025-07-23T14:23:25.569721Z",
     "iopub.status.busy": "2025-07-23T14:23:25.568417Z",
     "iopub.status.idle": "2025-07-23T14:23:25.574974Z",
     "shell.execute_reply": "2025-07-23T14:23:25.573897Z"
    },
    "papermill": {
     "duration": 0.031968,
     "end_time": "2025-07-23T14:23:25.577264",
     "exception": false,
     "start_time": "2025-07-23T14:23:25.545296",
     "status": "completed"
    },
    "tags": []
   },
   "outputs": [],
   "source": [
    "# EXCLUDE CERTAIN SUBGROUPS\n",
    "# ----------------------\n",
    "\n",
    "mode = universe.get(\"exclude_subgroups\", \"keep-all\") \n",
    "# Fetches the exclude_subgroups setting from the universe dict.\n",
    "# Defaults to \"keep-all\" if the key is missing."
   ]
  },
  {
   "cell_type": "code",
   "execution_count": 21,
   "id": "21994072",
   "metadata": {
    "execution": {
     "iopub.execute_input": "2025-07-23T14:23:25.624514Z",
     "iopub.status.busy": "2025-07-23T14:23:25.623934Z",
     "iopub.status.idle": "2025-07-23T14:23:25.632309Z",
     "shell.execute_reply": "2025-07-23T14:23:25.631046Z"
    },
    "papermill": {
     "duration": 0.035202,
     "end_time": "2025-07-23T14:23:25.634597",
     "exception": false,
     "start_time": "2025-07-23T14:23:25.599395",
     "status": "completed"
    },
    "tags": []
   },
   "outputs": [],
   "source": [
    "if mode == \"keep-all\":\n",
    "    keep_mask = pd.Series(True, index=org_train.index)\n",
    "\n",
    "# org_train contains the original feature columns from features_org (in Simson)\n",
    "# features_org contains unprocessed features, for me X_train at beginning ???\n",
    "# For keep-all, creates a boolean Series (keep_mask) of all True, so no rows are removed.\n",
    "\n",
    "elif mode == \"drop-non-german\":\n",
    "    keep_mask = org_train[\"maxdeutsch1\"] == 1 # ??? what about missing values?\n",
    "\n",
    "else:\n",
    "    raise ValueError(f\"Unsupported mode for exclude_subgroups: {mode}\")\n"
   ]
  },
  {
   "cell_type": "code",
   "execution_count": 22,
   "id": "71651440",
   "metadata": {
    "execution": {
     "iopub.execute_input": "2025-07-23T14:23:25.681092Z",
     "iopub.status.busy": "2025-07-23T14:23:25.680402Z",
     "iopub.status.idle": "2025-07-23T14:23:25.688764Z",
     "shell.execute_reply": "2025-07-23T14:23:25.687570Z"
    },
    "papermill": {
     "duration": 0.034391,
     "end_time": "2025-07-23T14:23:25.690985",
     "exception": false,
     "start_time": "2025-07-23T14:23:25.656594",
     "status": "completed"
    },
    "tags": []
   },
   "outputs": [
    {
     "name": "stdout",
     "output_type": "stream",
     "text": [
      "Dropping 10036 rows (13.38%) where mode='drop-non-german'\n"
     ]
    }
   ],
   "source": [
    "n_drop = (~keep_mask).sum() # Calculates how many rows are set to be dropped\n",
    "if n_drop > 0:\n",
    "    pct = n_drop / len(keep_mask) * 100\n",
    "    print(f\"Dropping {n_drop} rows ({pct:.2f}%) where mode='{mode}'\")"
   ]
  },
  {
   "cell_type": "code",
   "execution_count": 23,
   "id": "5fb8eee5",
   "metadata": {
    "execution": {
     "iopub.execute_input": "2025-07-23T14:23:25.739329Z",
     "iopub.status.busy": "2025-07-23T14:23:25.738134Z",
     "iopub.status.idle": "2025-07-23T14:23:25.813694Z",
     "shell.execute_reply": "2025-07-23T14:23:25.812480Z"
    },
    "papermill": {
     "duration": 0.102036,
     "end_time": "2025-07-23T14:23:25.815839",
     "exception": false,
     "start_time": "2025-07-23T14:23:25.713803",
     "status": "completed"
    },
    "tags": []
   },
   "outputs": [],
   "source": [
    "X_train = X_train[keep_mask]"
   ]
  },
  {
   "cell_type": "code",
   "execution_count": 24,
   "id": "b202bb3a",
   "metadata": {
    "execution": {
     "iopub.execute_input": "2025-07-23T14:23:25.862812Z",
     "iopub.status.busy": "2025-07-23T14:23:25.861819Z",
     "iopub.status.idle": "2025-07-23T14:23:25.868369Z",
     "shell.execute_reply": "2025-07-23T14:23:25.867545Z"
    },
    "papermill": {
     "duration": 0.031664,
     "end_time": "2025-07-23T14:23:25.870006",
     "exception": false,
     "start_time": "2025-07-23T14:23:25.838342",
     "status": "completed"
    },
    "tags": []
   },
   "outputs": [],
   "source": [
    "y_train = y_train[keep_mask]"
   ]
  },
  {
   "cell_type": "markdown",
   "id": "493e2ac3",
   "metadata": {
    "papermill": {
     "duration": 0.010359,
     "end_time": "2025-07-23T14:23:25.891298",
     "exception": false,
     "start_time": "2025-07-23T14:23:25.880939",
     "status": "completed"
    },
    "tags": []
   },
   "source": [
    "# Model Training"
   ]
  },
  {
   "cell_type": "code",
   "execution_count": 25,
   "id": "679e1268",
   "metadata": {
    "execution": {
     "iopub.execute_input": "2025-07-23T14:23:25.913809Z",
     "iopub.status.busy": "2025-07-23T14:23:25.913165Z",
     "iopub.status.idle": "2025-07-23T14:23:25.997181Z",
     "shell.execute_reply": "2025-07-23T14:23:25.996313Z"
    },
    "papermill": {
     "duration": 0.097719,
     "end_time": "2025-07-23T14:23:25.999379",
     "exception": false,
     "start_time": "2025-07-23T14:23:25.901660",
     "status": "completed"
    },
    "tags": []
   },
   "outputs": [],
   "source": [
    "from sklearn.linear_model import LogisticRegression\n",
    "from sklearn.ensemble import GradientBoostingClassifier, RandomForestClassifier\n",
    "\n",
    "if (universe[\"model\"] == \"logreg\"):\n",
    "    model = LogisticRegression() #penalty=\"none\") #, solver=\"newton-cg\", max_iter=1) # include random_state=19 ?\n",
    "elif (universe[\"model\"] == \"penalized_logreg\"):\n",
    "    model = LogisticRegression(penalty=\"l2\", C=1.0) #, solver=\"newton-cg\", max_iter=1)\n",
    "elif (universe[\"model\"] == \"rf\"):\n",
    "    model = RandomForestClassifier(n_estimators=100, n_jobs=-1)\n",
    "elif (universe[\"model\"] == \"gbm\"):\n",
    "    model = GradientBoostingClassifier()\n",
    "elif (universe[\"model\"] == \"elasticnet\"):\n",
    "    model = LogisticRegression(penalty = 'elasticnet', solver = 'saga', l1_ratio = 0.5, max_iter=5000) # which solver to use?\n",
    "else:\n",
    "    raise \"Unsupported universe.model\""
   ]
  },
  {
   "cell_type": "code",
   "execution_count": 26,
   "id": "0cc8f744",
   "metadata": {
    "execution": {
     "iopub.execute_input": "2025-07-23T14:23:26.048063Z",
     "iopub.status.busy": "2025-07-23T14:23:26.047444Z",
     "iopub.status.idle": "2025-07-23T14:23:26.055290Z",
     "shell.execute_reply": "2025-07-23T14:23:26.054032Z"
    },
    "papermill": {
     "duration": 0.034776,
     "end_time": "2025-07-23T14:23:26.057491",
     "exception": false,
     "start_time": "2025-07-23T14:23:26.022715",
     "status": "completed"
    },
    "tags": []
   },
   "outputs": [],
   "source": [
    "import numpy as np\n",
    "from sklearn.pipeline import Pipeline\n",
    "from sklearn.preprocessing import StandardScaler\n",
    "\n",
    "model = Pipeline([\n",
    "    #(\"continuous_processor\", continuous_processor),\n",
    "    #(\"categorical_preprocessor\", categorical_preprocessor),\n",
    "    (\"scale\", StandardScaler() if universe[\"scale\"] == \"scale\" else None), \n",
    "    (\"model\", model),\n",
    "])"
   ]
  },
  {
   "cell_type": "code",
   "execution_count": 27,
   "id": "9442c04d",
   "metadata": {
    "execution": {
     "iopub.execute_input": "2025-07-23T14:23:26.106095Z",
     "iopub.status.busy": "2025-07-23T14:23:26.105082Z",
     "iopub.status.idle": "2025-07-23T14:23:29.431411Z",
     "shell.execute_reply": "2025-07-23T14:23:29.430206Z"
    },
    "papermill": {
     "duration": 3.352678,
     "end_time": "2025-07-23T14:23:29.433268",
     "exception": false,
     "start_time": "2025-07-23T14:23:26.080590",
     "status": "completed"
    },
    "tags": []
   },
   "outputs": [
    {
     "name": "stderr",
     "output_type": "stream",
     "text": [
      "/dss/dsshome1/0C/ra93lal2/.local/share/virtualenvs/CMA_Fairness_v2-3j10GkSs/lib/python3.10/site-packages/sklearn/linear_model/_logistic.py:444: ConvergenceWarning: lbfgs failed to converge (status=1):\n",
      "STOP: TOTAL NO. of ITERATIONS REACHED LIMIT.\n",
      "\n",
      "Increase the number of iterations (max_iter) or scale the data as shown in:\n",
      "    https://scikit-learn.org/stable/modules/preprocessing.html\n",
      "Please also refer to the documentation for alternative solver options:\n",
      "    https://scikit-learn.org/stable/modules/linear_model.html#logistic-regression\n",
      "  n_iter_i = _check_optimize_result(\n"
     ]
    },
    {
     "data": {
      "text/html": [
       "<style>#sk-container-id-1 {color: black;background-color: white;}#sk-container-id-1 pre{padding: 0;}#sk-container-id-1 div.sk-toggleable {background-color: white;}#sk-container-id-1 label.sk-toggleable__label {cursor: pointer;display: block;width: 100%;margin-bottom: 0;padding: 0.3em;box-sizing: border-box;text-align: center;}#sk-container-id-1 label.sk-toggleable__label-arrow:before {content: \"▸\";float: left;margin-right: 0.25em;color: #696969;}#sk-container-id-1 label.sk-toggleable__label-arrow:hover:before {color: black;}#sk-container-id-1 div.sk-estimator:hover label.sk-toggleable__label-arrow:before {color: black;}#sk-container-id-1 div.sk-toggleable__content {max-height: 0;max-width: 0;overflow: hidden;text-align: left;background-color: #f0f8ff;}#sk-container-id-1 div.sk-toggleable__content pre {margin: 0.2em;color: black;border-radius: 0.25em;background-color: #f0f8ff;}#sk-container-id-1 input.sk-toggleable__control:checked~div.sk-toggleable__content {max-height: 200px;max-width: 100%;overflow: auto;}#sk-container-id-1 input.sk-toggleable__control:checked~label.sk-toggleable__label-arrow:before {content: \"▾\";}#sk-container-id-1 div.sk-estimator input.sk-toggleable__control:checked~label.sk-toggleable__label {background-color: #d4ebff;}#sk-container-id-1 div.sk-label input.sk-toggleable__control:checked~label.sk-toggleable__label {background-color: #d4ebff;}#sk-container-id-1 input.sk-hidden--visually {border: 0;clip: rect(1px 1px 1px 1px);clip: rect(1px, 1px, 1px, 1px);height: 1px;margin: -1px;overflow: hidden;padding: 0;position: absolute;width: 1px;}#sk-container-id-1 div.sk-estimator {font-family: monospace;background-color: #f0f8ff;border: 1px dotted black;border-radius: 0.25em;box-sizing: border-box;margin-bottom: 0.5em;}#sk-container-id-1 div.sk-estimator:hover {background-color: #d4ebff;}#sk-container-id-1 div.sk-parallel-item::after {content: \"\";width: 100%;border-bottom: 1px solid gray;flex-grow: 1;}#sk-container-id-1 div.sk-label:hover label.sk-toggleable__label {background-color: #d4ebff;}#sk-container-id-1 div.sk-serial::before {content: \"\";position: absolute;border-left: 1px solid gray;box-sizing: border-box;top: 0;bottom: 0;left: 50%;z-index: 0;}#sk-container-id-1 div.sk-serial {display: flex;flex-direction: column;align-items: center;background-color: white;padding-right: 0.2em;padding-left: 0.2em;position: relative;}#sk-container-id-1 div.sk-item {position: relative;z-index: 1;}#sk-container-id-1 div.sk-parallel {display: flex;align-items: stretch;justify-content: center;background-color: white;position: relative;}#sk-container-id-1 div.sk-item::before, #sk-container-id-1 div.sk-parallel-item::before {content: \"\";position: absolute;border-left: 1px solid gray;box-sizing: border-box;top: 0;bottom: 0;left: 50%;z-index: -1;}#sk-container-id-1 div.sk-parallel-item {display: flex;flex-direction: column;z-index: 1;position: relative;background-color: white;}#sk-container-id-1 div.sk-parallel-item:first-child::after {align-self: flex-end;width: 50%;}#sk-container-id-1 div.sk-parallel-item:last-child::after {align-self: flex-start;width: 50%;}#sk-container-id-1 div.sk-parallel-item:only-child::after {width: 0;}#sk-container-id-1 div.sk-dashed-wrapped {border: 1px dashed gray;margin: 0 0.4em 0.5em 0.4em;box-sizing: border-box;padding-bottom: 0.4em;background-color: white;}#sk-container-id-1 div.sk-label label {font-family: monospace;font-weight: bold;display: inline-block;line-height: 1.2em;}#sk-container-id-1 div.sk-label-container {text-align: center;}#sk-container-id-1 div.sk-container {/* jupyter's `normalize.less` sets `[hidden] { display: none; }` but bootstrap.min.css set `[hidden] { display: none !important; }` so we also need the `!important` here to be able to override the default hidden behavior on the sphinx rendered scikit-learn.org. See: https://github.com/scikit-learn/scikit-learn/issues/21755 */display: inline-block !important;position: relative;}#sk-container-id-1 div.sk-text-repr-fallback {display: none;}</style><div id=\"sk-container-id-1\" class=\"sk-top-container\"><div class=\"sk-text-repr-fallback\"><pre>Pipeline(steps=[(&#x27;scale&#x27;, StandardScaler()), (&#x27;model&#x27;, LogisticRegression())])</pre><b>In a Jupyter environment, please rerun this cell to show the HTML representation or trust the notebook. <br />On GitHub, the HTML representation is unable to render, please try loading this page with nbviewer.org.</b></div><div class=\"sk-container\" hidden><div class=\"sk-item sk-dashed-wrapped\"><div class=\"sk-label-container\"><div class=\"sk-label sk-toggleable\"><input class=\"sk-toggleable__control sk-hidden--visually\" id=\"sk-estimator-id-1\" type=\"checkbox\" ><label for=\"sk-estimator-id-1\" class=\"sk-toggleable__label sk-toggleable__label-arrow\">Pipeline</label><div class=\"sk-toggleable__content\"><pre>Pipeline(steps=[(&#x27;scale&#x27;, StandardScaler()), (&#x27;model&#x27;, LogisticRegression())])</pre></div></div></div><div class=\"sk-serial\"><div class=\"sk-item\"><div class=\"sk-estimator sk-toggleable\"><input class=\"sk-toggleable__control sk-hidden--visually\" id=\"sk-estimator-id-2\" type=\"checkbox\" ><label for=\"sk-estimator-id-2\" class=\"sk-toggleable__label sk-toggleable__label-arrow\">StandardScaler</label><div class=\"sk-toggleable__content\"><pre>StandardScaler()</pre></div></div></div><div class=\"sk-item\"><div class=\"sk-estimator sk-toggleable\"><input class=\"sk-toggleable__control sk-hidden--visually\" id=\"sk-estimator-id-3\" type=\"checkbox\" ><label for=\"sk-estimator-id-3\" class=\"sk-toggleable__label sk-toggleable__label-arrow\">LogisticRegression</label><div class=\"sk-toggleable__content\"><pre>LogisticRegression()</pre></div></div></div></div></div></div></div>"
      ],
      "text/plain": [
       "Pipeline(steps=[('scale', StandardScaler()), ('model', LogisticRegression())])"
      ]
     },
     "execution_count": 27,
     "metadata": {},
     "output_type": "execute_result"
    }
   ],
   "source": [
    "model.fit(X_train, y_train.values.ravel())"
   ]
  },
  {
   "cell_type": "code",
   "execution_count": 28,
   "id": "af59f8c0",
   "metadata": {
    "execution": {
     "iopub.execute_input": "2025-07-23T14:23:29.478618Z",
     "iopub.status.busy": "2025-07-23T14:23:29.478030Z",
     "iopub.status.idle": "2025-07-23T14:23:29.484479Z",
     "shell.execute_reply": "2025-07-23T14:23:29.483402Z"
    },
    "papermill": {
     "duration": 0.031344,
     "end_time": "2025-07-23T14:23:29.486715",
     "exception": false,
     "start_time": "2025-07-23T14:23:29.455371",
     "status": "completed"
    },
    "tags": []
   },
   "outputs": [],
   "source": [
    "from fairness_multiverse.universe import predict_w_threshold"
   ]
  },
  {
   "cell_type": "code",
   "execution_count": 29,
   "id": "a7cf2e16",
   "metadata": {
    "execution": {
     "iopub.execute_input": "2025-07-23T14:23:29.528850Z",
     "iopub.status.busy": "2025-07-23T14:23:29.527914Z",
     "iopub.status.idle": "2025-07-23T14:23:29.741566Z",
     "shell.execute_reply": "2025-07-23T14:23:29.740076Z"
    },
    "papermill": {
     "duration": 0.236788,
     "end_time": "2025-07-23T14:23:29.743979",
     "exception": false,
     "start_time": "2025-07-23T14:23:29.507191",
     "status": "completed"
    },
    "tags": []
   },
   "outputs": [
    {
     "data": {
      "text/plain": [
       "0.8627800691115818"
      ]
     },
     "execution_count": 29,
     "metadata": {},
     "output_type": "execute_result"
    }
   ],
   "source": [
    "probs_test = model.predict_proba(X_test)\n",
    "\n",
    "'''\n",
    "Below code returns a boolean array (or binary 0/1 array depending on how it’s used) where each element \n",
    "is True if the probability of class 1 is greater than or equal to the threshold, and False otherwise.\n",
    "'''\n",
    "y_pred_default = predict_w_threshold(probs_test, 0.5)\n",
    "\n",
    "from sklearn.metrics import accuracy_score\n",
    "\n",
    "# Naive prediction\n",
    "accuracy_score(y_true = y_true, y_pred = y_pred_default)"
   ]
  },
  {
   "cell_type": "code",
   "execution_count": 30,
   "id": "081964c3",
   "metadata": {
    "execution": {
     "iopub.execute_input": "2025-07-23T14:23:29.803510Z",
     "iopub.status.busy": "2025-07-23T14:23:29.802942Z",
     "iopub.status.idle": "2025-07-23T14:23:30.060532Z",
     "shell.execute_reply": "2025-07-23T14:23:30.058973Z"
    },
    "papermill": {
     "duration": 0.294968,
     "end_time": "2025-07-23T14:23:30.063853",
     "exception": false,
     "start_time": "2025-07-23T14:23:29.768885",
     "status": "completed"
    },
    "tags": []
   },
   "outputs": [
    {
     "data": {
      "text/plain": [
       "array([0, 0, 0, ..., 0, 0, 0])"
      ]
     },
     "execution_count": 30,
     "metadata": {},
     "output_type": "execute_result"
    }
   ],
   "source": [
    "model.predict(X_test)"
   ]
  },
  {
   "cell_type": "markdown",
   "id": "56c9705b",
   "metadata": {
    "papermill": {
     "duration": 0.024216,
     "end_time": "2025-07-23T14:23:30.112644",
     "exception": false,
     "start_time": "2025-07-23T14:23:30.088428",
     "status": "completed"
    },
    "tags": []
   },
   "source": [
    "# Conformal Prediction"
   ]
  },
  {
   "cell_type": "code",
   "execution_count": 31,
   "id": "160ec6ff",
   "metadata": {
    "execution": {
     "iopub.execute_input": "2025-07-23T14:23:30.169924Z",
     "iopub.status.busy": "2025-07-23T14:23:30.169307Z",
     "iopub.status.idle": "2025-07-23T14:23:30.175927Z",
     "shell.execute_reply": "2025-07-23T14:23:30.174704Z"
    },
    "papermill": {
     "duration": 0.036504,
     "end_time": "2025-07-23T14:23:30.178007",
     "exception": false,
     "start_time": "2025-07-23T14:23:30.141503",
     "status": "completed"
    },
    "tags": []
   },
   "outputs": [],
   "source": [
    "# Miscoverage level for conformal prediction (10% allowed error rate => 90% target coverage)\n",
    "alpha = 0.1"
   ]
  },
  {
   "cell_type": "code",
   "execution_count": 32,
   "id": "eadf4555-3dd3-440e-8e35-f82a4ad9f855",
   "metadata": {
    "execution": {
     "iopub.execute_input": "2025-07-23T14:23:30.232652Z",
     "iopub.status.busy": "2025-07-23T14:23:30.231813Z",
     "iopub.status.idle": "2025-07-23T14:23:30.419642Z",
     "shell.execute_reply": "2025-07-23T14:23:30.418355Z"
    },
    "papermill": {
     "duration": 0.217744,
     "end_time": "2025-07-23T14:23:30.421909",
     "exception": false,
     "start_time": "2025-07-23T14:23:30.204165",
     "status": "completed"
    },
    "tags": []
   },
   "outputs": [],
   "source": [
    "probs_calib = model.predict_proba(X_calib)"
   ]
  },
  {
   "cell_type": "code",
   "execution_count": 33,
   "id": "2ed93547-6d5d-4983-9b36-1ecb300da49a",
   "metadata": {
    "execution": {
     "iopub.execute_input": "2025-07-23T14:23:30.477165Z",
     "iopub.status.busy": "2025-07-23T14:23:30.475967Z",
     "iopub.status.idle": "2025-07-23T14:23:30.483197Z",
     "shell.execute_reply": "2025-07-23T14:23:30.482034Z"
    },
    "papermill": {
     "duration": 0.037221,
     "end_time": "2025-07-23T14:23:30.485233",
     "exception": false,
     "start_time": "2025-07-23T14:23:30.448012",
     "status": "completed"
    },
    "tags": []
   },
   "outputs": [],
   "source": [
    "y_calib = y_calib.values.ravel().astype(int)"
   ]
  },
  {
   "cell_type": "code",
   "execution_count": 34,
   "id": "65d1320d-f588-4b38-9072-62af1ae97f7d",
   "metadata": {
    "execution": {
     "iopub.execute_input": "2025-07-23T14:23:30.530816Z",
     "iopub.status.busy": "2025-07-23T14:23:30.530197Z",
     "iopub.status.idle": "2025-07-23T14:23:30.544936Z",
     "shell.execute_reply": "2025-07-23T14:23:30.540977Z"
    },
    "papermill": {
     "duration": 0.042738,
     "end_time": "2025-07-23T14:23:30.550097",
     "exception": false,
     "start_time": "2025-07-23T14:23:30.507359",
     "status": "completed"
    },
    "tags": []
   },
   "outputs": [],
   "source": [
    "from fairness_multiverse.conformal import compute_nc_scores\n",
    "\n",
    "# Compute nonconformity scores on calibration set (1 - probability of true class)\n",
    "nc_scores = compute_nc_scores(probs_calib, y_calib)"
   ]
  },
  {
   "cell_type": "code",
   "execution_count": 35,
   "id": "df3b8ca3-53b7-43d5-9667-7c85da7aeda2",
   "metadata": {
    "execution": {
     "iopub.execute_input": "2025-07-23T14:23:30.601380Z",
     "iopub.status.busy": "2025-07-23T14:23:30.600739Z",
     "iopub.status.idle": "2025-07-23T14:23:30.608624Z",
     "shell.execute_reply": "2025-07-23T14:23:30.607275Z"
    },
    "papermill": {
     "duration": 0.036816,
     "end_time": "2025-07-23T14:23:30.610921",
     "exception": false,
     "start_time": "2025-07-23T14:23:30.574105",
     "status": "completed"
    },
    "tags": []
   },
   "outputs": [],
   "source": [
    "from fairness_multiverse.conformal import find_threshold\n",
    "\n",
    "# Find conformal threshold q_hat for the given alpha (split conformal method)\n",
    "q_hat = find_threshold(nc_scores, alpha)"
   ]
  },
  {
   "cell_type": "code",
   "execution_count": 36,
   "id": "4d29e6c1-0ef6-4aa4-b8fe-4fe79b0d033a",
   "metadata": {
    "execution": {
     "iopub.execute_input": "2025-07-23T14:23:30.668334Z",
     "iopub.status.busy": "2025-07-23T14:23:30.667542Z",
     "iopub.status.idle": "2025-07-23T14:23:30.676325Z",
     "shell.execute_reply": "2025-07-23T14:23:30.675236Z"
    },
    "papermill": {
     "duration": 0.041181,
     "end_time": "2025-07-23T14:23:30.678191",
     "exception": false,
     "start_time": "2025-07-23T14:23:30.637010",
     "status": "completed"
    },
    "tags": []
   },
   "outputs": [
    {
     "data": {
      "text/plain": [
       "0.6603291338958213"
      ]
     },
     "execution_count": 36,
     "metadata": {},
     "output_type": "execute_result"
    }
   ],
   "source": [
    "q_hat"
   ]
  },
  {
   "cell_type": "code",
   "execution_count": 37,
   "id": "92460794-cdac-4be2-ba28-f28c0515a6fb",
   "metadata": {
    "execution": {
     "iopub.execute_input": "2025-07-23T14:23:30.733789Z",
     "iopub.status.busy": "2025-07-23T14:23:30.733159Z",
     "iopub.status.idle": "2025-07-23T14:23:32.004983Z",
     "shell.execute_reply": "2025-07-23T14:23:32.003588Z"
    },
    "papermill": {
     "duration": 1.306019,
     "end_time": "2025-07-23T14:23:32.007706",
     "exception": false,
     "start_time": "2025-07-23T14:23:30.701687",
     "status": "completed"
    },
    "tags": []
   },
   "outputs": [],
   "source": [
    "from fairness_multiverse.conformal import predict_conformal_sets\n",
    "\n",
    "# Generate prediction sets for each test example\n",
    "pred_sets = predict_conformal_sets(model, X_test, q_hat)"
   ]
  },
  {
   "cell_type": "code",
   "execution_count": 38,
   "id": "d90c9a65-e6db-4f5d-80cd-e68fb7e46829",
   "metadata": {
    "execution": {
     "iopub.execute_input": "2025-07-23T14:23:32.064319Z",
     "iopub.status.busy": "2025-07-23T14:23:32.063065Z",
     "iopub.status.idle": "2025-07-23T14:23:32.071624Z",
     "shell.execute_reply": "2025-07-23T14:23:32.070236Z"
    },
    "papermill": {
     "duration": 0.03967,
     "end_time": "2025-07-23T14:23:32.074109",
     "exception": false,
     "start_time": "2025-07-23T14:23:32.034439",
     "status": "completed"
    },
    "tags": []
   },
   "outputs": [],
   "source": [
    "y_true = y_true.squeeze()"
   ]
  },
  {
   "cell_type": "code",
   "execution_count": 39,
   "id": "3a58a54a-1e68-46b9-927a-df01f18aebc8",
   "metadata": {
    "execution": {
     "iopub.execute_input": "2025-07-23T14:23:32.129520Z",
     "iopub.status.busy": "2025-07-23T14:23:32.128736Z",
     "iopub.status.idle": "2025-07-23T14:23:33.440324Z",
     "shell.execute_reply": "2025-07-23T14:23:33.438901Z"
    },
    "papermill": {
     "duration": 1.34251,
     "end_time": "2025-07-23T14:23:33.443204",
     "exception": false,
     "start_time": "2025-07-23T14:23:32.100694",
     "status": "completed"
    },
    "tags": []
   },
   "outputs": [],
   "source": [
    "from fairness_multiverse.conformal import evaluate_sets\n",
    "\n",
    "# Evaluate coverage and average set size on test data\n",
    "metrics = evaluate_sets(pred_sets, y_true)"
   ]
  },
  {
   "cell_type": "code",
   "execution_count": 40,
   "id": "5ce0a5cb-201f-45a0-ade5-94c7f0bd6095",
   "metadata": {
    "execution": {
     "iopub.execute_input": "2025-07-23T14:23:33.522849Z",
     "iopub.status.busy": "2025-07-23T14:23:33.522373Z",
     "iopub.status.idle": "2025-07-23T14:23:33.532881Z",
     "shell.execute_reply": "2025-07-23T14:23:33.531557Z"
    },
    "papermill": {
     "duration": 0.05654,
     "end_time": "2025-07-23T14:23:33.537733",
     "exception": false,
     "start_time": "2025-07-23T14:23:33.481193",
     "status": "completed"
    },
    "tags": []
   },
   "outputs": [
    {
     "data": {
      "text/plain": [
       "{'coverage': 0.9114145580202876, 'avg_size': 1.124757552112362}"
      ]
     },
     "execution_count": 40,
     "metadata": {},
     "output_type": "execute_result"
    }
   ],
   "source": [
    "metrics"
   ]
  },
  {
   "cell_type": "code",
   "execution_count": 41,
   "id": "9b9a838d-31c9-430b-ae14-12baee460d17",
   "metadata": {
    "execution": {
     "iopub.execute_input": "2025-07-23T14:23:33.651314Z",
     "iopub.status.busy": "2025-07-23T14:23:33.650821Z",
     "iopub.status.idle": "2025-07-23T14:23:33.659925Z",
     "shell.execute_reply": "2025-07-23T14:23:33.658603Z"
    },
    "papermill": {
     "duration": 0.069335,
     "end_time": "2025-07-23T14:23:33.662573",
     "exception": false,
     "start_time": "2025-07-23T14:23:33.593238",
     "status": "completed"
    },
    "tags": []
   },
   "outputs": [],
   "source": [
    "example_universe = universe.copy()\n",
    "universe_model = example_universe.get(\"model\")\n",
    "universe_exclude_features = example_universe.get(\"exclude_features\")\n",
    "universe_exclude_subgroups = example_universe.get(\"exclude_subgroups\")\n",
    "universe_scale = example_universe.get(\"scale\")"
   ]
  },
  {
   "cell_type": "code",
   "execution_count": 42,
   "id": "f4b6a8ac-9dc0-4245-8a91-5b3b5999c4f9",
   "metadata": {
    "execution": {
     "iopub.execute_input": "2025-07-23T14:23:33.771869Z",
     "iopub.status.busy": "2025-07-23T14:23:33.771392Z",
     "iopub.status.idle": "2025-07-23T14:23:33.781573Z",
     "shell.execute_reply": "2025-07-23T14:23:33.780089Z"
    },
    "papermill": {
     "duration": 0.068607,
     "end_time": "2025-07-23T14:23:33.784011",
     "exception": false,
     "start_time": "2025-07-23T14:23:33.715404",
     "status": "completed"
    },
    "tags": []
   },
   "outputs": [],
   "source": [
    "cp_metrics_dict = {\n",
    "    \"universe_id\": [universe_id],\n",
    "    \"universe_model\": [universe_model],\n",
    "    \"universe_exclude_features\": [universe_exclude_features],\n",
    "    \"universe_exclude_subgroups\": [universe_exclude_subgroups],\n",
    "    \"universe_scale\": [universe_scale],\n",
    "    \"q_hat\": [q_hat],\n",
    "    \"coverage\": [metrics[\"coverage\"]],\n",
    "    \"avg_size\": [metrics[\"avg_size\"]],\n",
    "}"
   ]
  },
  {
   "cell_type": "code",
   "execution_count": 43,
   "id": "908acbb1-0371-4915-85ca-3fa520d2efe2",
   "metadata": {
    "execution": {
     "iopub.execute_input": "2025-07-23T14:23:33.882671Z",
     "iopub.status.busy": "2025-07-23T14:23:33.882201Z",
     "iopub.status.idle": "2025-07-23T14:23:33.892229Z",
     "shell.execute_reply": "2025-07-23T14:23:33.890952Z"
    },
    "papermill": {
     "duration": 0.056486,
     "end_time": "2025-07-23T14:23:33.897660",
     "exception": false,
     "start_time": "2025-07-23T14:23:33.841174",
     "status": "completed"
    },
    "tags": []
   },
   "outputs": [
    {
     "data": {
      "text/plain": [
       "{'universe_id': ['7a2cdd305f26502e071f6f8fa6a1755d'],\n",
       " 'universe_model': ['penalized_logreg'],\n",
       " 'universe_exclude_features': ['sex'],\n",
       " 'universe_exclude_subgroups': ['drop-non-german'],\n",
       " 'universe_scale': ['scale'],\n",
       " 'q_hat': [0.6603291338958213],\n",
       " 'coverage': [0.9114145580202876],\n",
       " 'avg_size': [1.124757552112362]}"
      ]
     },
     "execution_count": 43,
     "metadata": {},
     "output_type": "execute_result"
    }
   ],
   "source": [
    "cp_metrics_dict"
   ]
  },
  {
   "cell_type": "code",
   "execution_count": 44,
   "id": "33007efc-14e9-4ec6-97ac-56a455c82265",
   "metadata": {
    "execution": {
     "iopub.execute_input": "2025-07-23T14:23:34.007904Z",
     "iopub.status.busy": "2025-07-23T14:23:34.007436Z",
     "iopub.status.idle": "2025-07-23T14:23:34.016657Z",
     "shell.execute_reply": "2025-07-23T14:23:34.015359Z"
    },
    "papermill": {
     "duration": 0.065958,
     "end_time": "2025-07-23T14:23:34.019128",
     "exception": false,
     "start_time": "2025-07-23T14:23:33.953170",
     "status": "completed"
    },
    "tags": []
   },
   "outputs": [],
   "source": [
    "cp_metrics_df = pd.DataFrame(cp_metrics_dict)"
   ]
  },
  {
   "cell_type": "code",
   "execution_count": 45,
   "id": "db12611b-57b2-4910-b9d0-355adfd6e7bf",
   "metadata": {
    "execution": {
     "iopub.execute_input": "2025-07-23T14:23:34.123710Z",
     "iopub.status.busy": "2025-07-23T14:23:34.123248Z",
     "iopub.status.idle": "2025-07-23T14:23:34.163666Z",
     "shell.execute_reply": "2025-07-23T14:23:34.162512Z"
    },
    "papermill": {
     "duration": 0.099254,
     "end_time": "2025-07-23T14:23:34.166108",
     "exception": false,
     "start_time": "2025-07-23T14:23:34.066854",
     "status": "completed"
    },
    "tags": []
   },
   "outputs": [
    {
     "data": {
      "text/html": [
       "<div>\n",
       "<style scoped>\n",
       "    .dataframe tbody tr th:only-of-type {\n",
       "        vertical-align: middle;\n",
       "    }\n",
       "\n",
       "    .dataframe tbody tr th {\n",
       "        vertical-align: top;\n",
       "    }\n",
       "\n",
       "    .dataframe thead th {\n",
       "        text-align: right;\n",
       "    }\n",
       "</style>\n",
       "<table border=\"1\" class=\"dataframe\">\n",
       "  <thead>\n",
       "    <tr style=\"text-align: right;\">\n",
       "      <th></th>\n",
       "      <th>universe_id</th>\n",
       "      <th>universe_model</th>\n",
       "      <th>universe_exclude_features</th>\n",
       "      <th>universe_exclude_subgroups</th>\n",
       "      <th>universe_scale</th>\n",
       "      <th>q_hat</th>\n",
       "      <th>coverage</th>\n",
       "      <th>avg_size</th>\n",
       "    </tr>\n",
       "  </thead>\n",
       "  <tbody>\n",
       "    <tr>\n",
       "      <th>0</th>\n",
       "      <td>7a2cdd305f26502e071f6f8fa6a1755d</td>\n",
       "      <td>penalized_logreg</td>\n",
       "      <td>sex</td>\n",
       "      <td>drop-non-german</td>\n",
       "      <td>scale</td>\n",
       "      <td>0.660329</td>\n",
       "      <td>0.911415</td>\n",
       "      <td>1.124758</td>\n",
       "    </tr>\n",
       "  </tbody>\n",
       "</table>\n",
       "</div>"
      ],
      "text/plain": [
       "                        universe_id    universe_model  \\\n",
       "0  7a2cdd305f26502e071f6f8fa6a1755d  penalized_logreg   \n",
       "\n",
       "  universe_exclude_features universe_exclude_subgroups universe_scale  \\\n",
       "0                       sex            drop-non-german          scale   \n",
       "\n",
       "      q_hat  coverage  avg_size  \n",
       "0  0.660329  0.911415  1.124758  "
      ]
     },
     "execution_count": 45,
     "metadata": {},
     "output_type": "execute_result"
    }
   ],
   "source": [
    "cp_metrics_df"
   ]
  },
  {
   "cell_type": "code",
   "execution_count": 46,
   "id": "b7fbde55-a0a1-47e4-9af6-fe4a17fa8c61",
   "metadata": {
    "execution": {
     "iopub.execute_input": "2025-07-23T14:23:34.267581Z",
     "iopub.status.busy": "2025-07-23T14:23:34.267127Z",
     "iopub.status.idle": "2025-07-23T14:23:34.273459Z",
     "shell.execute_reply": "2025-07-23T14:23:34.272159Z"
    },
    "papermill": {
     "duration": 0.050546,
     "end_time": "2025-07-23T14:23:34.275289",
     "exception": false,
     "start_time": "2025-07-23T14:23:34.224743",
     "status": "completed"
    },
    "tags": []
   },
   "outputs": [],
   "source": [
    "# Conditional Coverage & looking at subgroups"
   ]
  },
  {
   "cell_type": "code",
   "execution_count": 47,
   "id": "027ae886-68dd-4141-96c7-805a5450e1ef",
   "metadata": {
    "execution": {
     "iopub.execute_input": "2025-07-23T14:23:34.379550Z",
     "iopub.status.busy": "2025-07-23T14:23:34.379018Z",
     "iopub.status.idle": "2025-07-23T14:23:35.074936Z",
     "shell.execute_reply": "2025-07-23T14:23:35.073347Z"
    },
    "papermill": {
     "duration": 0.74831,
     "end_time": "2025-07-23T14:23:35.077145",
     "exception": false,
     "start_time": "2025-07-23T14:23:34.328835",
     "status": "completed"
    },
    "tags": []
   },
   "outputs": [],
   "source": [
    "from fairness_multiverse.conformal import build_cp_groups\n",
    "\n",
    "cp_groups_df = build_cp_groups(pred_sets, y_true, X_test.index, org_test)\n",
    "#needs universe_id and setting"
   ]
  },
  {
   "cell_type": "code",
   "execution_count": 48,
   "id": "c3b92545-903e-4839-89af-0f057907d7d6",
   "metadata": {
    "execution": {
     "iopub.execute_input": "2025-07-23T14:23:35.200707Z",
     "iopub.status.busy": "2025-07-23T14:23:35.200228Z",
     "iopub.status.idle": "2025-07-23T14:23:37.597863Z",
     "shell.execute_reply": "2025-07-23T14:23:37.596631Z"
    },
    "papermill": {
     "duration": 2.470672,
     "end_time": "2025-07-23T14:23:37.600271",
     "exception": false,
     "start_time": "2025-07-23T14:23:35.129599",
     "status": "completed"
    },
    "tags": []
   },
   "outputs": [],
   "source": [
    "# Define covered = 1 if true_label is in the predicted set\n",
    "cp_groups_df['covered'] = cp_groups_df.apply(\n",
    "    lambda r: int(r['true_label'] in r['pred_set']),\n",
    "    axis=1\n",
    ")"
   ]
  },
  {
   "cell_type": "code",
   "execution_count": 49,
   "id": "338ff529-1a6b-4b87-a931-8e4788d52aad",
   "metadata": {
    "execution": {
     "iopub.execute_input": "2025-07-23T14:23:37.678271Z",
     "iopub.status.busy": "2025-07-23T14:23:37.677764Z",
     "iopub.status.idle": "2025-07-23T14:23:37.683584Z",
     "shell.execute_reply": "2025-07-23T14:23:37.682587Z"
    },
    "papermill": {
     "duration": 0.049753,
     "end_time": "2025-07-23T14:23:37.686876",
     "exception": false,
     "start_time": "2025-07-23T14:23:37.637123",
     "status": "completed"
    },
    "tags": []
   },
   "outputs": [],
   "source": [
    "#cp_groups_df"
   ]
  },
  {
   "cell_type": "code",
   "execution_count": 50,
   "id": "90032e27-66df-4540-9169-4e89cfbaa758",
   "metadata": {
    "execution": {
     "iopub.execute_input": "2025-07-23T14:23:37.795757Z",
     "iopub.status.busy": "2025-07-23T14:23:37.795295Z",
     "iopub.status.idle": "2025-07-23T14:23:37.811273Z",
     "shell.execute_reply": "2025-07-23T14:23:37.809531Z"
    },
    "papermill": {
     "duration": 0.0736,
     "end_time": "2025-07-23T14:23:37.813623",
     "exception": false,
     "start_time": "2025-07-23T14:23:37.740023",
     "status": "completed"
    },
    "tags": []
   },
   "outputs": [],
   "source": [
    "subgroups = ['frau1','nongerman','nongerman_male','nongerman_female']\n",
    "\n",
    "# Conditional coverage for subgroup==1\n",
    "cond_coverage = {\n",
    "    g: cp_groups_df.loc[cp_groups_df[g]==1, 'covered'].mean()\n",
    "    for g in subgroups\n",
    "}"
   ]
  },
  {
   "cell_type": "code",
   "execution_count": 51,
   "id": "1e348fb1-b9c3-45bc-ba23-f016827a7e0d",
   "metadata": {
    "execution": {
     "iopub.execute_input": "2025-07-23T14:23:37.906663Z",
     "iopub.status.busy": "2025-07-23T14:23:37.906197Z",
     "iopub.status.idle": "2025-07-23T14:23:37.916490Z",
     "shell.execute_reply": "2025-07-23T14:23:37.914539Z"
    },
    "papermill": {
     "duration": 0.053644,
     "end_time": "2025-07-23T14:23:37.918873",
     "exception": false,
     "start_time": "2025-07-23T14:23:37.865229",
     "status": "completed"
    },
    "tags": []
   },
   "outputs": [
    {
     "data": {
      "text/plain": [
       "{'frau1': 0.9116322954576088,\n",
       " 'nongerman': 0.9105709313422781,\n",
       " 'nongerman_male': 0.9257858236512654,\n",
       " 'nongerman_female': 0.8853949329359165}"
      ]
     },
     "execution_count": 51,
     "metadata": {},
     "output_type": "execute_result"
    }
   ],
   "source": [
    "cond_coverage"
   ]
  },
  {
   "cell_type": "code",
   "execution_count": 52,
   "id": "f5093324-c3dd-4d63-bc4c-8d945e5c8bbb",
   "metadata": {
    "execution": {
     "iopub.execute_input": "2025-07-23T14:23:38.027665Z",
     "iopub.status.busy": "2025-07-23T14:23:38.027230Z",
     "iopub.status.idle": "2025-07-23T14:23:38.037030Z",
     "shell.execute_reply": "2025-07-23T14:23:38.035869Z"
    },
    "papermill": {
     "duration": 0.065947,
     "end_time": "2025-07-23T14:23:38.039228",
     "exception": false,
     "start_time": "2025-07-23T14:23:37.973281",
     "status": "completed"
    },
    "tags": []
   },
   "outputs": [],
   "source": [
    "for subgroup, cov in cond_coverage.items():\n",
    "    cp_metrics_df[f\"cov_{subgroup}\"] = cov"
   ]
  },
  {
   "cell_type": "code",
   "execution_count": 53,
   "id": "6e872e10-dbe5-49e8-b554-5030c98ff75d",
   "metadata": {
    "execution": {
     "iopub.execute_input": "2025-07-23T14:23:38.137926Z",
     "iopub.status.busy": "2025-07-23T14:23:38.137485Z",
     "iopub.status.idle": "2025-07-23T14:23:38.163144Z",
     "shell.execute_reply": "2025-07-23T14:23:38.161921Z"
    },
    "papermill": {
     "duration": 0.068995,
     "end_time": "2025-07-23T14:23:38.165714",
     "exception": false,
     "start_time": "2025-07-23T14:23:38.096719",
     "status": "completed"
    },
    "tags": []
   },
   "outputs": [
    {
     "data": {
      "text/html": [
       "<div>\n",
       "<style scoped>\n",
       "    .dataframe tbody tr th:only-of-type {\n",
       "        vertical-align: middle;\n",
       "    }\n",
       "\n",
       "    .dataframe tbody tr th {\n",
       "        vertical-align: top;\n",
       "    }\n",
       "\n",
       "    .dataframe thead th {\n",
       "        text-align: right;\n",
       "    }\n",
       "</style>\n",
       "<table border=\"1\" class=\"dataframe\">\n",
       "  <thead>\n",
       "    <tr style=\"text-align: right;\">\n",
       "      <th></th>\n",
       "      <th>universe_id</th>\n",
       "      <th>universe_model</th>\n",
       "      <th>universe_exclude_features</th>\n",
       "      <th>universe_exclude_subgroups</th>\n",
       "      <th>universe_scale</th>\n",
       "      <th>q_hat</th>\n",
       "      <th>coverage</th>\n",
       "      <th>avg_size</th>\n",
       "      <th>cov_frau1</th>\n",
       "      <th>cov_nongerman</th>\n",
       "      <th>cov_nongerman_male</th>\n",
       "      <th>cov_nongerman_female</th>\n",
       "    </tr>\n",
       "  </thead>\n",
       "  <tbody>\n",
       "    <tr>\n",
       "      <th>0</th>\n",
       "      <td>7a2cdd305f26502e071f6f8fa6a1755d</td>\n",
       "      <td>penalized_logreg</td>\n",
       "      <td>sex</td>\n",
       "      <td>drop-non-german</td>\n",
       "      <td>scale</td>\n",
       "      <td>0.660329</td>\n",
       "      <td>0.911415</td>\n",
       "      <td>1.124758</td>\n",
       "      <td>0.911632</td>\n",
       "      <td>0.910571</td>\n",
       "      <td>0.925786</td>\n",
       "      <td>0.885395</td>\n",
       "    </tr>\n",
       "  </tbody>\n",
       "</table>\n",
       "</div>"
      ],
      "text/plain": [
       "                        universe_id    universe_model  \\\n",
       "0  7a2cdd305f26502e071f6f8fa6a1755d  penalized_logreg   \n",
       "\n",
       "  universe_exclude_features universe_exclude_subgroups universe_scale  \\\n",
       "0                       sex            drop-non-german          scale   \n",
       "\n",
       "      q_hat  coverage  avg_size  cov_frau1  cov_nongerman  cov_nongerman_male  \\\n",
       "0  0.660329  0.911415  1.124758   0.911632       0.910571            0.925786   \n",
       "\n",
       "   cov_nongerman_female  \n",
       "0              0.885395  "
      ]
     },
     "execution_count": 53,
     "metadata": {},
     "output_type": "execute_result"
    }
   ],
   "source": [
    "cp_metrics_df"
   ]
  },
  {
   "cell_type": "markdown",
   "id": "33774451",
   "metadata": {
    "papermill": {
     "duration": 0.052224,
     "end_time": "2025-07-23T14:23:38.269428",
     "exception": false,
     "start_time": "2025-07-23T14:23:38.217204",
     "status": "completed"
    },
    "tags": []
   },
   "source": [
    "# (Fairness) Metrics"
   ]
  },
  {
   "cell_type": "code",
   "execution_count": 54,
   "id": "debc5d62",
   "metadata": {
    "execution": {
     "iopub.execute_input": "2025-07-23T14:23:38.337246Z",
     "iopub.status.busy": "2025-07-23T14:23:38.336780Z",
     "iopub.status.idle": "2025-07-23T14:23:38.398923Z",
     "shell.execute_reply": "2025-07-23T14:23:38.397700Z"
    },
    "papermill": {
     "duration": 0.107007,
     "end_time": "2025-07-23T14:23:38.401639",
     "exception": false,
     "start_time": "2025-07-23T14:23:38.294632",
     "status": "completed"
    },
    "tags": []
   },
   "outputs": [],
   "source": [
    "# do I need to include maxdeutsch1.missing?\n",
    "\n",
    "import numpy as np\n",
    "\n",
    "colname_to_bin = \"maxdeutsch1\"\n",
    "majority_value = org_train[colname_to_bin].mode()[0]\n",
    "\n",
    "org_test[\"majmin\"] = np.where(org_test[colname_to_bin] == majority_value, \"majority\", \"minority\")"
   ]
  },
  {
   "cell_type": "code",
   "execution_count": 55,
   "id": "06a50de5",
   "metadata": {
    "execution": {
     "iopub.execute_input": "2025-07-23T14:23:38.496062Z",
     "iopub.status.busy": "2025-07-23T14:23:38.495599Z",
     "iopub.status.idle": "2025-07-23T14:23:43.094957Z",
     "shell.execute_reply": "2025-07-23T14:23:43.093743Z"
    },
    "papermill": {
     "duration": 4.643938,
     "end_time": "2025-07-23T14:23:43.097197",
     "exception": false,
     "start_time": "2025-07-23T14:23:38.453259",
     "status": "completed"
    },
    "tags": []
   },
   "outputs": [],
   "source": [
    "example_universe = universe.copy()\n",
    "example_universe[\"cutoff\"] = example_universe[\"cutoff\"][0]\n",
    "example_universe[\"eval_fairness_grouping\"] = example_universe[\"eval_fairness_grouping\"][0]\n",
    "fairness_dict, metric_frame = universe_analysis.compute_metrics(\n",
    "    example_universe,\n",
    "    y_pred_prob=probs_test,\n",
    "    y_test=y_true,\n",
    "    org_test=org_test,\n",
    ")"
   ]
  },
  {
   "cell_type": "markdown",
   "id": "f95d4e02",
   "metadata": {
    "papermill": {
     "duration": 0.052151,
     "end_time": "2025-07-23T14:23:43.201332",
     "exception": false,
     "start_time": "2025-07-23T14:23:43.149181",
     "status": "completed"
    },
    "tags": []
   },
   "source": [
    "# Overall"
   ]
  },
  {
   "cell_type": "markdown",
   "id": "bdee4871",
   "metadata": {
    "papermill": {
     "duration": 0.046227,
     "end_time": "2025-07-23T14:23:43.302021",
     "exception": false,
     "start_time": "2025-07-23T14:23:43.255794",
     "status": "completed"
    },
    "tags": []
   },
   "source": [
    "Fairness\n",
    "Main fairness target: Equalized Odds. Seems to be a better fit than equal opportunity, since we're not only interested in Y = 1. Seems to be a better fit than demographic parity, since we also care about accuracy, not just equal distribution of preds.\n",
    "\n",
    "Pick column for computation of fairness metrics\n",
    "\n",
    "Performance\n",
    "Overall performance measures, most interesting in relation to the measures split by group below"
   ]
  },
  {
   "cell_type": "code",
   "execution_count": 56,
   "id": "c4e067c6",
   "metadata": {
    "execution": {
     "iopub.execute_input": "2025-07-23T14:23:43.427718Z",
     "iopub.status.busy": "2025-07-23T14:23:43.427268Z",
     "iopub.status.idle": "2025-07-23T14:23:43.436980Z",
     "shell.execute_reply": "2025-07-23T14:23:43.435808Z"
    },
    "papermill": {
     "duration": 0.081694,
     "end_time": "2025-07-23T14:23:43.438858",
     "exception": false,
     "start_time": "2025-07-23T14:23:43.357164",
     "status": "completed"
    },
    "tags": []
   },
   "outputs": [
    {
     "data": {
      "text/plain": [
       "accuracy                   0.225783\n",
       "balanced accuracy          0.551776\n",
       "f1                         0.247076\n",
       "precision                  0.141146\n",
       "false positive rate        0.886716\n",
       "false negative rate        0.009732\n",
       "selection rate             0.900000\n",
       "count                  89710.000000\n",
       "dtype: float64"
      ]
     },
     "execution_count": 56,
     "metadata": {},
     "output_type": "execute_result"
    }
   ],
   "source": [
    "metric_frame.overall"
   ]
  },
  {
   "cell_type": "markdown",
   "id": "e968fe9d",
   "metadata": {
    "papermill": {
     "duration": 0.068413,
     "end_time": "2025-07-23T14:23:43.561058",
     "exception": false,
     "start_time": "2025-07-23T14:23:43.492645",
     "status": "completed"
    },
    "tags": []
   },
   "source": [
    "By Group"
   ]
  },
  {
   "cell_type": "code",
   "execution_count": 57,
   "id": "ec325bce",
   "metadata": {
    "execution": {
     "iopub.execute_input": "2025-07-23T14:23:43.666166Z",
     "iopub.status.busy": "2025-07-23T14:23:43.665695Z",
     "iopub.status.idle": "2025-07-23T14:23:43.701848Z",
     "shell.execute_reply": "2025-07-23T14:23:43.700623Z"
    },
    "papermill": {
     "duration": 0.090349,
     "end_time": "2025-07-23T14:23:43.703956",
     "exception": false,
     "start_time": "2025-07-23T14:23:43.613607",
     "status": "completed"
    },
    "tags": []
   },
   "outputs": [
    {
     "data": {
      "text/html": [
       "<div>\n",
       "<style scoped>\n",
       "    .dataframe tbody tr th:only-of-type {\n",
       "        vertical-align: middle;\n",
       "    }\n",
       "\n",
       "    .dataframe tbody tr th {\n",
       "        vertical-align: top;\n",
       "    }\n",
       "\n",
       "    .dataframe thead th {\n",
       "        text-align: right;\n",
       "    }\n",
       "</style>\n",
       "<table border=\"1\" class=\"dataframe\">\n",
       "  <thead>\n",
       "    <tr style=\"text-align: right;\">\n",
       "      <th></th>\n",
       "      <th>accuracy</th>\n",
       "      <th>balanced accuracy</th>\n",
       "      <th>f1</th>\n",
       "      <th>precision</th>\n",
       "      <th>false positive rate</th>\n",
       "      <th>false negative rate</th>\n",
       "      <th>selection rate</th>\n",
       "      <th>count</th>\n",
       "    </tr>\n",
       "    <tr>\n",
       "      <th>majmin</th>\n",
       "      <th></th>\n",
       "      <th></th>\n",
       "      <th></th>\n",
       "      <th></th>\n",
       "      <th></th>\n",
       "      <th></th>\n",
       "      <th></th>\n",
       "      <th></th>\n",
       "    </tr>\n",
       "  </thead>\n",
       "  <tbody>\n",
       "    <tr>\n",
       "      <th>majority</th>\n",
       "      <td>0.247766</td>\n",
       "      <td>0.561979</td>\n",
       "      <td>0.257873</td>\n",
       "      <td>0.148265</td>\n",
       "      <td>0.865101</td>\n",
       "      <td>0.010941</td>\n",
       "      <td>0.881480</td>\n",
       "      <td>69170.0</td>\n",
       "    </tr>\n",
       "    <tr>\n",
       "      <th>minority</th>\n",
       "      <td>0.151753</td>\n",
       "      <td>0.518405</td>\n",
       "      <td>0.212876</td>\n",
       "      <td>0.119189</td>\n",
       "      <td>0.958122</td>\n",
       "      <td>0.005068</td>\n",
       "      <td>0.962366</td>\n",
       "      <td>20540.0</td>\n",
       "    </tr>\n",
       "  </tbody>\n",
       "</table>\n",
       "</div>"
      ],
      "text/plain": [
       "          accuracy  balanced accuracy        f1  precision  \\\n",
       "majmin                                                       \n",
       "majority  0.247766           0.561979  0.257873   0.148265   \n",
       "minority  0.151753           0.518405  0.212876   0.119189   \n",
       "\n",
       "          false positive rate  false negative rate  selection rate    count  \n",
       "majmin                                                                       \n",
       "majority             0.865101             0.010941        0.881480  69170.0  \n",
       "minority             0.958122             0.005068        0.962366  20540.0  "
      ]
     },
     "execution_count": 57,
     "metadata": {},
     "output_type": "execute_result"
    }
   ],
   "source": [
    "metric_frame.by_group"
   ]
  },
  {
   "cell_type": "code",
   "execution_count": 58,
   "id": "a9ddbe63",
   "metadata": {
    "execution": {
     "iopub.execute_input": "2025-07-23T14:23:43.793838Z",
     "iopub.status.busy": "2025-07-23T14:23:43.793306Z",
     "iopub.status.idle": "2025-07-23T14:23:46.795971Z",
     "shell.execute_reply": "2025-07-23T14:23:46.794783Z"
    },
    "papermill": {
     "duration": 3.036492,
     "end_time": "2025-07-23T14:23:46.797626",
     "exception": false,
     "start_time": "2025-07-23T14:23:43.761134",
     "status": "completed"
    },
    "tags": []
   },
   "outputs": [
    {
     "data": {
      "text/plain": [
       "array([[<Axes: title={'center': 'accuracy'}, xlabel='majmin'>,\n",
       "        <Axes: title={'center': 'balanced accuracy'}, xlabel='majmin'>,\n",
       "        <Axes: title={'center': 'f1'}, xlabel='majmin'>],\n",
       "       [<Axes: title={'center': 'precision'}, xlabel='majmin'>,\n",
       "        <Axes: title={'center': 'false positive rate'}, xlabel='majmin'>,\n",
       "        <Axes: title={'center': 'false negative rate'}, xlabel='majmin'>],\n",
       "       [<Axes: title={'center': 'selection rate'}, xlabel='majmin'>,\n",
       "        <Axes: title={'center': 'count'}, xlabel='majmin'>,\n",
       "        <Axes: xlabel='majmin'>]], dtype=object)"
      ]
     },
     "execution_count": 58,
     "metadata": {},
     "output_type": "execute_result"
    },
    {
     "data": {
      "image/png": "[encoded data removed]",
      "text/plain": [
       "<Figure size 1200x800 with 9 Axes>"
      ]
     },
     "metadata": {},
     "output_type": "display_data"
    }
   ],
   "source": [
    "# In a graphic\n",
    "metric_frame.by_group.plot.bar(\n",
    "    subplots=True,\n",
    "    layout=[3, 3],\n",
    "    legend=False,\n",
    "    figsize=[12, 8],\n",
    "    title=\"Show all metrics\",\n",
    ")"
   ]
  },
  {
   "cell_type": "markdown",
   "id": "f57a0bac",
   "metadata": {
    "papermill": {
     "duration": 0.086126,
     "end_time": "2025-07-23T14:23:46.922581",
     "exception": false,
     "start_time": "2025-07-23T14:23:46.836455",
     "status": "completed"
    },
    "tags": []
   },
   "source": [
    "# Final Output"
   ]
  },
  {
   "cell_type": "code",
   "execution_count": 59,
   "id": "96d280a3",
   "metadata": {
    "execution": {
     "iopub.execute_input": "2025-07-23T14:23:47.027647Z",
     "iopub.status.busy": "2025-07-23T14:23:47.027076Z",
     "iopub.status.idle": "2025-07-23T14:23:47.035891Z",
     "shell.execute_reply": "2025-07-23T14:23:47.034893Z"
    },
    "papermill": {
     "duration": 0.032292,
     "end_time": "2025-07-23T14:23:47.037613",
     "exception": false,
     "start_time": "2025-07-23T14:23:47.005321",
     "status": "completed"
    },
    "tags": []
   },
   "outputs": [
    {
     "data": {
      "text/plain": [
       "4"
      ]
     },
     "execution_count": 59,
     "metadata": {},
     "output_type": "execute_result"
    }
   ],
   "source": [
    "sub_universes = universe_analysis.generate_sub_universes()\n",
    "len(sub_universes)"
   ]
  },
  {
   "cell_type": "code",
   "execution_count": 60,
   "id": "92adf7ba",
   "metadata": {
    "execution": {
     "iopub.execute_input": "2025-07-23T14:23:47.089651Z",
     "iopub.status.busy": "2025-07-23T14:23:47.088753Z",
     "iopub.status.idle": "2025-07-23T14:23:47.095940Z",
     "shell.execute_reply": "2025-07-23T14:23:47.094803Z"
    },
    "papermill": {
     "duration": 0.035114,
     "end_time": "2025-07-23T14:23:47.097849",
     "exception": false,
     "start_time": "2025-07-23T14:23:47.062735",
     "status": "completed"
    },
    "tags": []
   },
   "outputs": [],
   "source": [
    "def filter_sub_universe_data(sub_universe, org_test):\n",
    "    # Keep all rows — no filtering\n",
    "    keep_rows_mask = np.ones(org_test.shape[0], dtype=bool)\n",
    "\n",
    "    print(f\"[INFO] Keeping all rows: {keep_rows_mask.sum()} rows retained.\")\n",
    "    return keep_rows_mask"
   ]
  },
  {
   "cell_type": "code",
   "execution_count": null,
   "id": "4a759155",
   "metadata": {
    "papermill": {
     "duration": null,
     "end_time": null,
     "exception": false,
     "start_time": "2025-07-23T14:23:47.127423",
     "status": "running"
    },
    "tags": []
   },
   "outputs": [],
   "source": [
    "final_output = universe_analysis.generate_final_output(\n",
    "    y_pred_prob=probs_test,\n",
    "    y_test=y_true,\n",
    "    org_test=org_test,\n",
    "    filter_data=filter_sub_universe_data,\n",
    "    cp_metrics_df=cp_metrics_df,\n",
    "    save=True,\n",
    ")\n",
    "final_output"
   ]
  },
  {
   "cell_type": "code",
   "execution_count": null,
   "id": "721ff514-cb11-46f8-b6fc-50392f74b5cb",
   "metadata": {
    "papermill": {
     "duration": null,
     "end_time": null,
     "exception": null,
     "start_time": null,
     "status": "pending"
    },
    "tags": []
   },
   "outputs": [],
   "source": []
  }
 ],
 "metadata": {
  "celltoolbar": "Tags",
  "kernelspec": {
   "display_name": "Python (CMA Fairness)",
   "language": "python",
   "name": "cma_fair_env"
  },
  "language_info": {
   "codemirror_mode": {
    "name": "ipython",
    "version": 3
   },
   "file_extension": ".py",
   "mimetype": "text/x-python",
   "name": "python",
   "nbconvert_exporter": "python",
   "pygments_lexer": "ipython3",
   "version": "3.10.12"
  },
  "papermill": {
   "default_parameters": {},
   "duration": null,
   "end_time": null,
   "environment_variables": {},
   "exception": null,
   "input_path": "universe_analysis.ipynb",
   "output_path": "output/runs/8/notebooks/m_8-7a2cdd305f26502e071f6f8fa6a1755d.ipynb",
   "parameters": {
    "output_dir": "output",
    "run_no": "8",
    "seed": "2023",
    "universe": "{\"cutoff\": [\"quantile_0.1\", \"quantile_0.25\"], \"eval_fairness_grouping\": [\"majority-minority\", \"nationality-all\"], \"exclude_features\": \"sex\", \"exclude_subgroups\": \"drop-non-german\", \"model\": \"penalized_logreg\", \"scale\": \"scale\"}",
    "universe_id": "7a2cdd305f26502e071f6f8fa6a1755d"
   },
   "start_time": "2025-07-23T14:23:16.975952",
   "version": "2.6.0"
  }
 },
 "nbformat": 4,
 "nbformat_minor": 5
}