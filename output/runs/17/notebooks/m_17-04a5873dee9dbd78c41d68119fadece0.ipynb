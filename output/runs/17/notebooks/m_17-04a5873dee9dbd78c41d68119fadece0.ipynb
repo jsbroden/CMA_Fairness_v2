{
 "cells": [
  {
   "cell_type": "code",
   "execution_count": 1,
   "id": "f159f837-637b-42ba-96b5-ec9a68c44524",
   "metadata": {
    "execution": {
     "iopub.execute_input": "2025-07-16T15:25:55.719405Z",
     "iopub.status.busy": "2025-07-16T15:25:55.718969Z",
     "iopub.status.idle": "2025-07-16T15:25:55.731604Z",
     "shell.execute_reply": "2025-07-16T15:25:55.730858Z"
    },
    "papermill": {
     "duration": 0.026709,
     "end_time": "2025-07-16T15:25:55.733650",
     "exception": false,
     "start_time": "2025-07-16T15:25:55.706941",
     "status": "completed"
    },
    "tags": []
   },
   "outputs": [
    {
     "name": "stdout",
     "output_type": "stream",
     "text": [
      "/dss/dsshome1/0C/ra93lal2/cma/CMA_Fairness_v2\n"
     ]
    },
    {
     "name": "stderr",
     "output_type": "stream",
     "text": [
      "/dss/dsshome1/0C/ra93lal2/.local/share/virtualenvs/CMA_Fairness_v2-3j10GkSs/lib/python3.10/site-packages/IPython/core/magics/osm.py:393: UserWarning: This is now an optional IPython functionality, using bookmarks requires you to install the `pickleshare` library.\n",
      "  bkms = self.shell.db.get('bookmarks', {})\n",
      "/dss/dsshome1/0C/ra93lal2/.local/share/virtualenvs/CMA_Fairness_v2-3j10GkSs/lib/python3.10/site-packages/IPython/core/magics/osm.py:417: UserWarning: This is now an optional IPython functionality, setting dhist requires you to install the `pickleshare` library.\n",
      "  self.shell.db['dhist'] = compress_dhist(dhist)[-100:]\n"
     ]
    }
   ],
   "source": [
    "%cd ~/cma/CMA_Fairness_v2"
   ]
  },
  {
   "cell_type": "markdown",
   "id": "de2603b9",
   "metadata": {
    "papermill": {
     "duration": 0.016469,
     "end_time": "2025-07-16T15:25:55.767459",
     "exception": false,
     "start_time": "2025-07-16T15:25:55.750990",
     "status": "completed"
    },
    "tags": []
   },
   "source": [
    "The following cell holds the definition of our parameters, these values can be overriden by rendering the with e.g. the following command:\n",
    "\n",
    "papermill -p alpha 0.2 -p ratio 0.3 universe_analysis.ipynb output/test_run.ipynb"
   ]
  },
  {
   "cell_type": "code",
   "execution_count": 2,
   "id": "a80968a0-40bb-4fa9-85ef-2d5eefb01975",
   "metadata": {
    "execution": {
     "iopub.execute_input": "2025-07-16T15:25:55.800634Z",
     "iopub.status.busy": "2025-07-16T15:25:55.800110Z",
     "iopub.status.idle": "2025-07-16T15:25:55.805693Z",
     "shell.execute_reply": "2025-07-16T15:25:55.804662Z"
    },
    "papermill": {
     "duration": 0.024236,
     "end_time": "2025-07-16T15:25:55.807691",
     "exception": false,
     "start_time": "2025-07-16T15:25:55.783455",
     "status": "completed"
    },
    "tags": []
   },
   "outputs": [
    {
     "name": "stdout",
     "output_type": "stream",
     "text": [
      "Current working directory: /dss/dsshome1/0C/ra93lal2/cma/CMA_Fairness_v2\n"
     ]
    }
   ],
   "source": [
    "import os\n",
    "print(\"Current working directory:\", os.getcwd())"
   ]
  },
  {
   "cell_type": "code",
   "execution_count": 3,
   "id": "2dce4c03",
   "metadata": {
    "execution": {
     "iopub.execute_input": "2025-07-16T15:25:55.841370Z",
     "iopub.status.busy": "2025-07-16T15:25:55.840227Z",
     "iopub.status.idle": "2025-07-16T15:25:55.846416Z",
     "shell.execute_reply": "2025-07-16T15:25:55.845463Z"
    },
    "papermill": {
     "duration": 0.022744,
     "end_time": "2025-07-16T15:25:55.847973",
     "exception": false,
     "start_time": "2025-07-16T15:25:55.825229",
     "status": "completed"
    },
    "tags": [
     "parameters"
    ]
   },
   "outputs": [],
   "source": [
    "run_no = 0\n",
    "universe_id = \"test\"\n",
    "universe = {\n",
    "    #\"scale\": \"scale\", # \"scale\", \"do-not-scale\",\n",
    "    #\"encode_categorical\": \"one-hot\", # \"ordinal\", \"one-hot\"\n",
    "    \"model\": \"elasticnet\", # \"logreg\", \"penalized_logreg\", \"rf\", \"gbm\", \"elasticnet\"\n",
    "    \"cutoff\": [\"quantile_0.15\", \"quantile_0.30\"],\n",
    "    \"exclude_features\": \"nationality-sex\", # \"none\", \"nationality\", \"sex\", \"nationality-sex\"\n",
    "    \"exclude_subgroups\": \"keep-all\", # \"keep-all\", \"drop-non-german\"\n",
    "    \"eval_fairness_grouping\": [\"majority-minority\", \"nationality-all\"]\n",
    "}\n",
    "\n",
    "output_dir=\"./output\"\n",
    "seed=0"
   ]
  },
  {
   "cell_type": "code",
   "execution_count": 4,
   "id": "4d2beb3c",
   "metadata": {
    "execution": {
     "iopub.execute_input": "2025-07-16T15:25:55.882400Z",
     "iopub.status.busy": "2025-07-16T15:25:55.881435Z",
     "iopub.status.idle": "2025-07-16T15:25:55.887176Z",
     "shell.execute_reply": "2025-07-16T15:25:55.886062Z"
    },
    "papermill": {
     "duration": 0.023362,
     "end_time": "2025-07-16T15:25:55.889302",
     "exception": false,
     "start_time": "2025-07-16T15:25:55.865940",
     "status": "completed"
    },
    "tags": [
     "injected-parameters"
    ]
   },
   "outputs": [],
   "source": [
    "# Parameters\n",
    "universe_id = \"04a5873dee9dbd78c41d68119fadece0\"\n",
    "run_no = \"17\"\n",
    "universe = \"{\\\"cutoff\\\": [\\\"quantile_0.1\\\", \\\"quantile_0.25\\\"], \\\"eval_fairness_grouping\\\": [\\\"majority-minority\\\", \\\"nationality-all\\\"], \\\"exclude_features\\\": \\\"none\\\", \\\"exclude_subgroups\\\": \\\"drop-non-german\\\", \\\"model\\\": \\\"rf\\\"}\"\n",
    "output_dir = \"output\"\n",
    "seed = \"2023\"\n"
   ]
  },
  {
   "cell_type": "code",
   "execution_count": 5,
   "id": "1650acaf",
   "metadata": {
    "execution": {
     "iopub.execute_input": "2025-07-16T15:25:55.923131Z",
     "iopub.status.busy": "2025-07-16T15:25:55.922688Z",
     "iopub.status.idle": "2025-07-16T15:25:55.927790Z",
     "shell.execute_reply": "2025-07-16T15:25:55.926842Z"
    },
    "papermill": {
     "duration": 0.022354,
     "end_time": "2025-07-16T15:25:55.930025",
     "exception": false,
     "start_time": "2025-07-16T15:25:55.907671",
     "status": "completed"
    },
    "tags": []
   },
   "outputs": [],
   "source": [
    "import json\n",
    "# Parse universe into dict if it is passed as a string\n",
    "if isinstance(universe, str):\n",
    "    universe = json.loads(universe)"
   ]
  },
  {
   "cell_type": "code",
   "execution_count": 6,
   "id": "16620c48",
   "metadata": {
    "execution": {
     "iopub.execute_input": "2025-07-16T15:25:55.963035Z",
     "iopub.status.busy": "2025-07-16T15:25:55.962584Z",
     "iopub.status.idle": "2025-07-16T15:25:56.013435Z",
     "shell.execute_reply": "2025-07-16T15:25:56.012386Z"
    },
    "papermill": {
     "duration": 0.067393,
     "end_time": "2025-07-16T15:25:56.015385",
     "exception": false,
     "start_time": "2025-07-16T15:25:55.947992",
     "status": "completed"
    },
    "tags": []
   },
   "outputs": [],
   "source": [
    "# Auto-reload the custom package\n",
    "%load_ext autoreload\n",
    "%autoreload 1\n",
    "%aimport fairness_multiverse"
   ]
  },
  {
   "cell_type": "code",
   "execution_count": 7,
   "id": "01c5c9f3",
   "metadata": {
    "execution": {
     "iopub.execute_input": "2025-07-16T15:25:56.050343Z",
     "iopub.status.busy": "2025-07-16T15:25:56.049896Z",
     "iopub.status.idle": "2025-07-16T15:25:57.959157Z",
     "shell.execute_reply": "2025-07-16T15:25:57.958351Z"
    },
    "papermill": {
     "duration": 1.927556,
     "end_time": "2025-07-16T15:25:57.960732",
     "exception": false,
     "start_time": "2025-07-16T15:25:56.033176",
     "status": "completed"
    },
    "tags": []
   },
   "outputs": [],
   "source": [
    "from fairness_multiverse.universe import UniverseAnalysis\n",
    "\n",
    "universe_analysis = UniverseAnalysis(\n",
    "    run_no = run_no,\n",
    "    universe_id = universe_id,\n",
    "    universe = universe,\n",
    "    output_dir=output_dir,\n",
    ")"
   ]
  },
  {
   "cell_type": "code",
   "execution_count": 8,
   "id": "106241f5",
   "metadata": {
    "execution": {
     "iopub.execute_input": "2025-07-16T15:25:57.983727Z",
     "iopub.status.busy": "2025-07-16T15:25:57.983290Z",
     "iopub.status.idle": "2025-07-16T15:25:57.990830Z",
     "shell.execute_reply": "2025-07-16T15:25:57.989700Z"
    },
    "papermill": {
     "duration": 0.023754,
     "end_time": "2025-07-16T15:25:57.996296",
     "exception": false,
     "start_time": "2025-07-16T15:25:57.972542",
     "status": "completed"
    },
    "tags": []
   },
   "outputs": [
    {
     "name": "stdout",
     "output_type": "stream",
     "text": [
      "Using Seed: 2023\n"
     ]
    }
   ],
   "source": [
    "import numpy as np\n",
    "parsed_seed = int(seed)\n",
    "np.random.seed(parsed_seed)\n",
    "print(f\"Using Seed: {parsed_seed}\")"
   ]
  },
  {
   "cell_type": "markdown",
   "id": "e0ebdc57",
   "metadata": {
    "papermill": {
     "duration": 0.014885,
     "end_time": "2025-07-16T15:25:58.027863",
     "exception": false,
     "start_time": "2025-07-16T15:25:58.012978",
     "status": "completed"
    },
    "tags": []
   },
   "source": [
    "# Loading Data"
   ]
  },
  {
   "cell_type": "markdown",
   "id": "681925a3",
   "metadata": {
    "papermill": {
     "duration": 0.018115,
     "end_time": "2025-07-16T15:25:58.064265",
     "exception": false,
     "start_time": "2025-07-16T15:25:58.046150",
     "status": "completed"
    },
    "tags": []
   },
   "source": [
    "Load siab_train, siab_test, siab_calib and/or \n",
    "load siab_train_features, siab_train_labels"
   ]
  },
  {
   "cell_type": "code",
   "execution_count": 9,
   "id": "f0496b8a",
   "metadata": {
    "execution": {
     "iopub.execute_input": "2025-07-16T15:25:58.103257Z",
     "iopub.status.busy": "2025-07-16T15:25:58.102726Z",
     "iopub.status.idle": "2025-07-16T15:26:11.924742Z",
     "shell.execute_reply": "2025-07-16T15:26:11.923327Z"
    },
    "papermill": {
     "duration": 13.843229,
     "end_time": "2025-07-16T15:26:11.926564",
     "exception": false,
     "start_time": "2025-07-16T15:25:58.083335",
     "status": "completed"
    },
    "tags": []
   },
   "outputs": [
    {
     "name": "stdout",
     "output_type": "stream",
     "text": [
      "Loading SIAB data from cache: data/siab_cached.csv.gz\n"
     ]
    },
    {
     "name": "stdout",
     "output_type": "stream",
     "text": [
      "(643690, 164)\n"
     ]
    }
   ],
   "source": [
    "# Do I need to load siab? Delete this cell?\n",
    "\n",
    "from pathlib import Path\n",
    "import pandas as pd\n",
    "\n",
    "# File paths\n",
    "raw_file = Path(\"data/raw/siab.csv\")\n",
    "cache_file = Path(\"data/siab_cached.csv.gz\")\n",
    "\n",
    "# Ensure cache directory exists\n",
    "cache_file.parent.mkdir(parents=True, exist_ok=True)\n",
    "\n",
    "# Load with simple caching\n",
    "if cache_file.exists():\n",
    "    print(f\"Loading SIAB data from cache: {cache_file}\")\n",
    "    siab = pd.read_csv(cache_file, compression='gzip')\n",
    "else:\n",
    "    print(f\"Cache not found. Reading raw SIAB data: {raw_file}\")\n",
    "    siab = pd.read_csv(raw_file)\n",
    "    siab.to_csv(cache_file, index=False, compression='gzip')\n",
    "    print(f\"Cached SIAB data to: {cache_file}\")\n",
    "\n",
    "# Now use `siab` DataFrame as needed\n",
    "print(siab.shape)\n"
   ]
  },
  {
   "cell_type": "code",
   "execution_count": 10,
   "id": "a0edb063",
   "metadata": {
    "execution": {
     "iopub.execute_input": "2025-07-16T15:26:11.971720Z",
     "iopub.status.busy": "2025-07-16T15:26:11.970876Z",
     "iopub.status.idle": "2025-07-16T15:26:12.410312Z",
     "shell.execute_reply": "2025-07-16T15:26:12.409002Z"
    },
    "papermill": {
     "duration": 0.466188,
     "end_time": "2025-07-16T15:26:12.412063",
     "exception": false,
     "start_time": "2025-07-16T15:26:11.945875",
     "status": "completed"
    },
    "tags": []
   },
   "outputs": [],
   "source": [
    "import pandas as pd\n",
    "\n",
    "X_train = pd.read_csv(\"./data/X_train.csv\")\n",
    "y_train = pd.read_csv(\"./data/y_train.csv\")"
   ]
  },
  {
   "cell_type": "code",
   "execution_count": 11,
   "id": "63d08085",
   "metadata": {
    "execution": {
     "iopub.execute_input": "2025-07-16T15:26:12.449988Z",
     "iopub.status.busy": "2025-07-16T15:26:12.449133Z",
     "iopub.status.idle": "2025-07-16T15:26:13.921931Z",
     "shell.execute_reply": "2025-07-16T15:26:13.920655Z"
    },
    "papermill": {
     "duration": 1.493756,
     "end_time": "2025-07-16T15:26:13.923839",
     "exception": false,
     "start_time": "2025-07-16T15:26:12.430083",
     "status": "completed"
    },
    "tags": []
   },
   "outputs": [],
   "source": [
    "X_test = pd.read_csv(\"./data/X_test.csv\")\n",
    "y_true = pd.read_csv(\"./data/y_test.csv\")"
   ]
  },
  {
   "cell_type": "code",
   "execution_count": 12,
   "id": "98a8d0fa-1d3d-4ed8-bb2c-281470e24add",
   "metadata": {
    "execution": {
     "iopub.execute_input": "2025-07-16T15:26:13.990604Z",
     "iopub.status.busy": "2025-07-16T15:26:13.990235Z",
     "iopub.status.idle": "2025-07-16T15:26:15.819083Z",
     "shell.execute_reply": "2025-07-16T15:26:15.816886Z"
    },
    "papermill": {
     "duration": 1.866207,
     "end_time": "2025-07-16T15:26:15.822037",
     "exception": false,
     "start_time": "2025-07-16T15:26:13.955830",
     "status": "completed"
    },
    "tags": []
   },
   "outputs": [],
   "source": [
    "# Calibration data for conformal\n",
    "X_calib = pd.read_csv(\"./data/X_calib.csv\")\n",
    "y_calib = pd.read_csv(\"./data/y_calib.csv\")"
   ]
  },
  {
   "cell_type": "code",
   "execution_count": 13,
   "id": "e6c733c5",
   "metadata": {
    "execution": {
     "iopub.execute_input": "2025-07-16T15:26:15.871542Z",
     "iopub.status.busy": "2025-07-16T15:26:15.870873Z",
     "iopub.status.idle": "2025-07-16T15:26:16.022957Z",
     "shell.execute_reply": "2025-07-16T15:26:16.021853Z"
    },
    "papermill": {
     "duration": 0.179747,
     "end_time": "2025-07-16T15:26:16.025295",
     "exception": false,
     "start_time": "2025-07-16T15:26:15.845548",
     "status": "completed"
    },
    "tags": []
   },
   "outputs": [],
   "source": [
    "# Auxiliary data needed downstream in the pipeline\n",
    "\n",
    "org_train = X_train.copy()\n",
    "org_test = X_test.copy()\n",
    "org_calib = X_calib.copy()"
   ]
  },
  {
   "cell_type": "code",
   "execution_count": 14,
   "id": "e33f5cce",
   "metadata": {
    "execution": {
     "iopub.execute_input": "2025-07-16T15:26:16.091614Z",
     "iopub.status.busy": "2025-07-16T15:26:16.091209Z",
     "iopub.status.idle": "2025-07-16T15:26:16.385120Z",
     "shell.execute_reply": "2025-07-16T15:26:16.383907Z"
    },
    "papermill": {
     "duration": 0.330142,
     "end_time": "2025-07-16T15:26:16.386921",
     "exception": false,
     "start_time": "2025-07-16T15:26:16.056779",
     "status": "completed"
    },
    "tags": []
   },
   "outputs": [
    {
     "data": {
      "text/html": [
       "<div>\n",
       "<style scoped>\n",
       "    .dataframe tbody tr th:only-of-type {\n",
       "        vertical-align: middle;\n",
       "    }\n",
       "\n",
       "    .dataframe tbody tr th {\n",
       "        vertical-align: top;\n",
       "    }\n",
       "\n",
       "    .dataframe thead th {\n",
       "        text-align: right;\n",
       "    }\n",
       "</style>\n",
       "<table border=\"1\" class=\"dataframe\">\n",
       "  <thead>\n",
       "    <tr style=\"text-align: right;\">\n",
       "      <th></th>\n",
       "      <th>persnr</th>\n",
       "      <th>year</th>\n",
       "      <th>nrEntry</th>\n",
       "      <th>ltue</th>\n",
       "      <th>employed_before</th>\n",
       "      <th>receipt_leh_before</th>\n",
       "      <th>receipt_lhg_before</th>\n",
       "      <th>se_before</th>\n",
       "      <th>ASU_notue_seeking_before</th>\n",
       "      <th>ASU_other_before</th>\n",
       "      <th>...</th>\n",
       "      <th>minijob_tot_dur_byage</th>\n",
       "      <th>ft_tot_dur_byage</th>\n",
       "      <th>befrist_tot_dur_byage</th>\n",
       "      <th>leih_tot_dur_byage</th>\n",
       "      <th>LHG_tot_dur_byage</th>\n",
       "      <th>LEH_tot_dur_byage</th>\n",
       "      <th>almp_tot_dur_byage</th>\n",
       "      <th>almp_aw_tot_dur_byage</th>\n",
       "      <th>se_tot_dur_byage</th>\n",
       "      <th>seeking1_tot_dur_byage</th>\n",
       "    </tr>\n",
       "  </thead>\n",
       "  <tbody>\n",
       "    <tr>\n",
       "      <th>0</th>\n",
       "      <td>7</td>\n",
       "      <td>2015</td>\n",
       "      <td>1</td>\n",
       "      <td>0</td>\n",
       "      <td>1</td>\n",
       "      <td>0</td>\n",
       "      <td>0</td>\n",
       "      <td>0</td>\n",
       "      <td>1</td>\n",
       "      <td>0</td>\n",
       "      <td>...</td>\n",
       "      <td>0.000000</td>\n",
       "      <td>0.000000</td>\n",
       "      <td>15.043478</td>\n",
       "      <td>0.000000</td>\n",
       "      <td>0.000000</td>\n",
       "      <td>0.000000</td>\n",
       "      <td>0.000000</td>\n",
       "      <td>0.000000</td>\n",
       "      <td>0.000000</td>\n",
       "      <td>0.000000</td>\n",
       "    </tr>\n",
       "    <tr>\n",
       "      <th>1</th>\n",
       "      <td>18</td>\n",
       "      <td>2010</td>\n",
       "      <td>1</td>\n",
       "      <td>1</td>\n",
       "      <td>0</td>\n",
       "      <td>0</td>\n",
       "      <td>0</td>\n",
       "      <td>0</td>\n",
       "      <td>0</td>\n",
       "      <td>0</td>\n",
       "      <td>...</td>\n",
       "      <td>0.000000</td>\n",
       "      <td>0.000000</td>\n",
       "      <td>0.000000</td>\n",
       "      <td>0.000000</td>\n",
       "      <td>0.000000</td>\n",
       "      <td>0.000000</td>\n",
       "      <td>0.000000</td>\n",
       "      <td>0.000000</td>\n",
       "      <td>0.000000</td>\n",
       "      <td>0.000000</td>\n",
       "    </tr>\n",
       "    <tr>\n",
       "      <th>2</th>\n",
       "      <td>18</td>\n",
       "      <td>2011</td>\n",
       "      <td>2</td>\n",
       "      <td>0</td>\n",
       "      <td>1</td>\n",
       "      <td>0</td>\n",
       "      <td>1</td>\n",
       "      <td>0</td>\n",
       "      <td>1</td>\n",
       "      <td>0</td>\n",
       "      <td>...</td>\n",
       "      <td>2.714286</td>\n",
       "      <td>2.714286</td>\n",
       "      <td>0.000000</td>\n",
       "      <td>0.000000</td>\n",
       "      <td>10.775510</td>\n",
       "      <td>0.000000</td>\n",
       "      <td>8.367347</td>\n",
       "      <td>0.000000</td>\n",
       "      <td>0.000000</td>\n",
       "      <td>9.836735</td>\n",
       "    </tr>\n",
       "    <tr>\n",
       "      <th>3</th>\n",
       "      <td>18</td>\n",
       "      <td>2012</td>\n",
       "      <td>3</td>\n",
       "      <td>0</td>\n",
       "      <td>1</td>\n",
       "      <td>0</td>\n",
       "      <td>1</td>\n",
       "      <td>0</td>\n",
       "      <td>1</td>\n",
       "      <td>0</td>\n",
       "      <td>...</td>\n",
       "      <td>4.200000</td>\n",
       "      <td>4.200000</td>\n",
       "      <td>0.000000</td>\n",
       "      <td>0.000000</td>\n",
       "      <td>12.100000</td>\n",
       "      <td>0.000000</td>\n",
       "      <td>9.400000</td>\n",
       "      <td>0.000000</td>\n",
       "      <td>0.000000</td>\n",
       "      <td>9.960000</td>\n",
       "    </tr>\n",
       "    <tr>\n",
       "      <th>4</th>\n",
       "      <td>18</td>\n",
       "      <td>2012</td>\n",
       "      <td>4</td>\n",
       "      <td>0</td>\n",
       "      <td>1</td>\n",
       "      <td>0</td>\n",
       "      <td>1</td>\n",
       "      <td>0</td>\n",
       "      <td>1</td>\n",
       "      <td>0</td>\n",
       "      <td>...</td>\n",
       "      <td>5.460000</td>\n",
       "      <td>5.460000</td>\n",
       "      <td>0.000000</td>\n",
       "      <td>0.000000</td>\n",
       "      <td>13.360000</td>\n",
       "      <td>0.000000</td>\n",
       "      <td>10.320000</td>\n",
       "      <td>0.000000</td>\n",
       "      <td>0.000000</td>\n",
       "      <td>10.280000</td>\n",
       "    </tr>\n",
       "    <tr>\n",
       "      <th>...</th>\n",
       "      <td>...</td>\n",
       "      <td>...</td>\n",
       "      <td>...</td>\n",
       "      <td>...</td>\n",
       "      <td>...</td>\n",
       "      <td>...</td>\n",
       "      <td>...</td>\n",
       "      <td>...</td>\n",
       "      <td>...</td>\n",
       "      <td>...</td>\n",
       "      <td>...</td>\n",
       "      <td>...</td>\n",
       "      <td>...</td>\n",
       "      <td>...</td>\n",
       "      <td>...</td>\n",
       "      <td>...</td>\n",
       "      <td>...</td>\n",
       "      <td>...</td>\n",
       "      <td>...</td>\n",
       "      <td>...</td>\n",
       "      <td>...</td>\n",
       "    </tr>\n",
       "    <tr>\n",
       "      <th>643685</th>\n",
       "      <td>1827860</td>\n",
       "      <td>2013</td>\n",
       "      <td>1</td>\n",
       "      <td>0</td>\n",
       "      <td>0</td>\n",
       "      <td>0</td>\n",
       "      <td>1</td>\n",
       "      <td>0</td>\n",
       "      <td>0</td>\n",
       "      <td>1</td>\n",
       "      <td>...</td>\n",
       "      <td>0.000000</td>\n",
       "      <td>0.000000</td>\n",
       "      <td>0.000000</td>\n",
       "      <td>0.000000</td>\n",
       "      <td>0.612903</td>\n",
       "      <td>0.000000</td>\n",
       "      <td>0.000000</td>\n",
       "      <td>0.000000</td>\n",
       "      <td>0.000000</td>\n",
       "      <td>0.000000</td>\n",
       "    </tr>\n",
       "    <tr>\n",
       "      <th>643686</th>\n",
       "      <td>1827860</td>\n",
       "      <td>2015</td>\n",
       "      <td>2</td>\n",
       "      <td>1</td>\n",
       "      <td>0</td>\n",
       "      <td>0</td>\n",
       "      <td>1</td>\n",
       "      <td>0</td>\n",
       "      <td>1</td>\n",
       "      <td>0</td>\n",
       "      <td>...</td>\n",
       "      <td>0.000000</td>\n",
       "      <td>0.000000</td>\n",
       "      <td>0.212121</td>\n",
       "      <td>0.212121</td>\n",
       "      <td>17.363636</td>\n",
       "      <td>0.000000</td>\n",
       "      <td>8.909091</td>\n",
       "      <td>0.000000</td>\n",
       "      <td>0.000000</td>\n",
       "      <td>7.121212</td>\n",
       "    </tr>\n",
       "    <tr>\n",
       "      <th>643687</th>\n",
       "      <td>1827860</td>\n",
       "      <td>2016</td>\n",
       "      <td>3</td>\n",
       "      <td>1</td>\n",
       "      <td>0</td>\n",
       "      <td>0</td>\n",
       "      <td>1</td>\n",
       "      <td>1</td>\n",
       "      <td>0</td>\n",
       "      <td>1</td>\n",
       "      <td>...</td>\n",
       "      <td>0.000000</td>\n",
       "      <td>0.000000</td>\n",
       "      <td>0.294118</td>\n",
       "      <td>0.205882</td>\n",
       "      <td>34.705882</td>\n",
       "      <td>0.000000</td>\n",
       "      <td>10.352941</td>\n",
       "      <td>1.705882</td>\n",
       "      <td>1.705882</td>\n",
       "      <td>23.911765</td>\n",
       "    </tr>\n",
       "    <tr>\n",
       "      <th>643688</th>\n",
       "      <td>1827869</td>\n",
       "      <td>2013</td>\n",
       "      <td>1</td>\n",
       "      <td>1</td>\n",
       "      <td>1</td>\n",
       "      <td>0</td>\n",
       "      <td>0</td>\n",
       "      <td>0</td>\n",
       "      <td>1</td>\n",
       "      <td>0</td>\n",
       "      <td>...</td>\n",
       "      <td>0.000000</td>\n",
       "      <td>0.000000</td>\n",
       "      <td>0.000000</td>\n",
       "      <td>0.000000</td>\n",
       "      <td>0.000000</td>\n",
       "      <td>0.525424</td>\n",
       "      <td>0.000000</td>\n",
       "      <td>0.000000</td>\n",
       "      <td>0.000000</td>\n",
       "      <td>0.000000</td>\n",
       "    </tr>\n",
       "    <tr>\n",
       "      <th>643689</th>\n",
       "      <td>1827869</td>\n",
       "      <td>2014</td>\n",
       "      <td>2</td>\n",
       "      <td>0</td>\n",
       "      <td>0</td>\n",
       "      <td>1</td>\n",
       "      <td>0</td>\n",
       "      <td>0</td>\n",
       "      <td>1</td>\n",
       "      <td>0</td>\n",
       "      <td>...</td>\n",
       "      <td>0.000000</td>\n",
       "      <td>0.666667</td>\n",
       "      <td>0.666667</td>\n",
       "      <td>0.000000</td>\n",
       "      <td>0.000000</td>\n",
       "      <td>8.950000</td>\n",
       "      <td>1.033333</td>\n",
       "      <td>0.083333</td>\n",
       "      <td>0.083333</td>\n",
       "      <td>8.133333</td>\n",
       "    </tr>\n",
       "  </tbody>\n",
       "</table>\n",
       "<p>643690 rows × 164 columns</p>\n",
       "</div>"
      ],
      "text/plain": [
       "         persnr  year  nrEntry  ltue  employed_before  receipt_leh_before  \\\n",
       "0             7  2015        1     0                1                   0   \n",
       "1            18  2010        1     1                0                   0   \n",
       "2            18  2011        2     0                1                   0   \n",
       "3            18  2012        3     0                1                   0   \n",
       "4            18  2012        4     0                1                   0   \n",
       "...         ...   ...      ...   ...              ...                 ...   \n",
       "643685  1827860  2013        1     0                0                   0   \n",
       "643686  1827860  2015        2     1                0                   0   \n",
       "643687  1827860  2016        3     1                0                   0   \n",
       "643688  1827869  2013        1     1                1                   0   \n",
       "643689  1827869  2014        2     0                0                   1   \n",
       "\n",
       "        receipt_lhg_before  se_before  ASU_notue_seeking_before  \\\n",
       "0                        0          0                         1   \n",
       "1                        0          0                         0   \n",
       "2                        1          0                         1   \n",
       "3                        1          0                         1   \n",
       "4                        1          0                         1   \n",
       "...                    ...        ...                       ...   \n",
       "643685                   1          0                         0   \n",
       "643686                   1          0                         1   \n",
       "643687                   1          1                         0   \n",
       "643688                   0          0                         1   \n",
       "643689                   0          0                         1   \n",
       "\n",
       "        ASU_other_before  ...  minijob_tot_dur_byage  ft_tot_dur_byage  \\\n",
       "0                      0  ...               0.000000          0.000000   \n",
       "1                      0  ...               0.000000          0.000000   \n",
       "2                      0  ...               2.714286          2.714286   \n",
       "3                      0  ...               4.200000          4.200000   \n",
       "4                      0  ...               5.460000          5.460000   \n",
       "...                  ...  ...                    ...               ...   \n",
       "643685                 1  ...               0.000000          0.000000   \n",
       "643686                 0  ...               0.000000          0.000000   \n",
       "643687                 1  ...               0.000000          0.000000   \n",
       "643688                 0  ...               0.000000          0.000000   \n",
       "643689                 0  ...               0.000000          0.666667   \n",
       "\n",
       "        befrist_tot_dur_byage  leih_tot_dur_byage  LHG_tot_dur_byage  \\\n",
       "0                   15.043478            0.000000           0.000000   \n",
       "1                    0.000000            0.000000           0.000000   \n",
       "2                    0.000000            0.000000          10.775510   \n",
       "3                    0.000000            0.000000          12.100000   \n",
       "4                    0.000000            0.000000          13.360000   \n",
       "...                       ...                 ...                ...   \n",
       "643685               0.000000            0.000000           0.612903   \n",
       "643686               0.212121            0.212121          17.363636   \n",
       "643687               0.294118            0.205882          34.705882   \n",
       "643688               0.000000            0.000000           0.000000   \n",
       "643689               0.666667            0.000000           0.000000   \n",
       "\n",
       "        LEH_tot_dur_byage  almp_tot_dur_byage  almp_aw_tot_dur_byage  \\\n",
       "0                0.000000            0.000000               0.000000   \n",
       "1                0.000000            0.000000               0.000000   \n",
       "2                0.000000            8.367347               0.000000   \n",
       "3                0.000000            9.400000               0.000000   \n",
       "4                0.000000           10.320000               0.000000   \n",
       "...                   ...                 ...                    ...   \n",
       "643685           0.000000            0.000000               0.000000   \n",
       "643686           0.000000            8.909091               0.000000   \n",
       "643687           0.000000           10.352941               1.705882   \n",
       "643688           0.525424            0.000000               0.000000   \n",
       "643689           8.950000            1.033333               0.083333   \n",
       "\n",
       "        se_tot_dur_byage  seeking1_tot_dur_byage  \n",
       "0               0.000000                0.000000  \n",
       "1               0.000000                0.000000  \n",
       "2               0.000000                9.836735  \n",
       "3               0.000000                9.960000  \n",
       "4               0.000000               10.280000  \n",
       "...                  ...                     ...  \n",
       "643685          0.000000                0.000000  \n",
       "643686          0.000000                7.121212  \n",
       "643687          1.705882               23.911765  \n",
       "643688          0.000000                0.000000  \n",
       "643689          0.083333                8.133333  \n",
       "\n",
       "[643690 rows x 164 columns]"
      ]
     },
     "execution_count": 14,
     "metadata": {},
     "output_type": "execute_result"
    }
   ],
   "source": [
    "siab"
   ]
  },
  {
   "cell_type": "markdown",
   "id": "ad49c3ce",
   "metadata": {
    "papermill": {
     "duration": 0.022621,
     "end_time": "2025-07-16T15:26:16.447674",
     "exception": false,
     "start_time": "2025-07-16T15:26:16.425053",
     "status": "completed"
    },
    "tags": []
   },
   "source": [
    "Pre-Processing for Selected Task -> skipped. I think I don't need this"
   ]
  },
  {
   "cell_type": "markdown",
   "id": "0a4a1b33",
   "metadata": {
    "papermill": {
     "duration": 0.058462,
     "end_time": "2025-07-16T15:26:16.524835",
     "exception": false,
     "start_time": "2025-07-16T15:26:16.466373",
     "status": "completed"
    },
    "tags": []
   },
   "source": [
    "# Preprocessing Data"
   ]
  },
  {
   "cell_type": "code",
   "execution_count": 15,
   "id": "ca879031",
   "metadata": {
    "execution": {
     "iopub.execute_input": "2025-07-16T15:26:16.563327Z",
     "iopub.status.busy": "2025-07-16T15:26:16.562847Z",
     "iopub.status.idle": "2025-07-16T15:26:16.569302Z",
     "shell.execute_reply": "2025-07-16T15:26:16.568104Z"
    },
    "papermill": {
     "duration": 0.029517,
     "end_time": "2025-07-16T15:26:16.572463",
     "exception": false,
     "start_time": "2025-07-16T15:26:16.542946",
     "status": "completed"
    },
    "tags": []
   },
   "outputs": [],
   "source": [
    "# EXCLUDE PROTECTED FEATURES\n",
    "# ----------------------\n",
    "# \"exclude_features\": \"none\", # \"nationality\", \"sex\", \"nationality-sex\"\n",
    "\n",
    "excluded_features = universe[\"exclude_features\"].split(\"-\") # split, e.g.: \"nationality-sex\" -> [\"nationality\", \"sex\"]\n",
    "excluded_features_dictionary = {\n",
    "    \"nationality\": [\"maxdeutsch1\", \"maxdeutsch.Missing.\"],\n",
    "    \"sex\": [\"frau1\"],\n",
    "}\n"
   ]
  },
  {
   "cell_type": "code",
   "execution_count": 16,
   "id": "b745ac60",
   "metadata": {
    "execution": {
     "iopub.execute_input": "2025-07-16T15:26:16.613597Z",
     "iopub.status.busy": "2025-07-16T15:26:16.613145Z",
     "iopub.status.idle": "2025-07-16T15:26:16.619597Z",
     "shell.execute_reply": "2025-07-16T15:26:16.618443Z"
    },
    "papermill": {
     "duration": 0.029638,
     "end_time": "2025-07-16T15:26:16.621581",
     "exception": false,
     "start_time": "2025-07-16T15:26:16.591943",
     "status": "completed"
    },
    "tags": []
   },
   "outputs": [],
   "source": [
    "# Code nice names to column names\n",
    "\n",
    "excluded_features_columns = [\n",
    "    excluded_features_dictionary[f] for f in excluded_features if len(f) > 0 and f != \"none\"\n",
    "]"
   ]
  },
  {
   "cell_type": "code",
   "execution_count": 17,
   "id": "f84f73a2",
   "metadata": {
    "execution": {
     "iopub.execute_input": "2025-07-16T15:26:16.662571Z",
     "iopub.status.busy": "2025-07-16T15:26:16.662013Z",
     "iopub.status.idle": "2025-07-16T15:26:16.668703Z",
     "shell.execute_reply": "2025-07-16T15:26:16.667632Z"
    },
    "papermill": {
     "duration": 0.030069,
     "end_time": "2025-07-16T15:26:16.670879",
     "exception": false,
     "start_time": "2025-07-16T15:26:16.640810",
     "status": "completed"
    },
    "tags": []
   },
   "outputs": [],
   "source": [
    "from utils import flatten_once\n",
    "\n",
    "excluded_features_columns = flatten_once(excluded_features_columns)"
   ]
  },
  {
   "cell_type": "code",
   "execution_count": 18,
   "id": "884dea22",
   "metadata": {
    "execution": {
     "iopub.execute_input": "2025-07-16T15:26:16.701911Z",
     "iopub.status.busy": "2025-07-16T15:26:16.701417Z",
     "iopub.status.idle": "2025-07-16T15:26:16.706340Z",
     "shell.execute_reply": "2025-07-16T15:26:16.705389Z"
    },
    "papermill": {
     "duration": 0.019723,
     "end_time": "2025-07-16T15:26:16.707643",
     "exception": false,
     "start_time": "2025-07-16T15:26:16.687920",
     "status": "completed"
    },
    "tags": []
   },
   "outputs": [],
   "source": [
    "if len(excluded_features_columns) > 0:\n",
    "    print(f\"Dropping features: {excluded_features_columns}\")\n",
    "    X_train.drop(excluded_features_columns, axis=1, inplace=True)"
   ]
  },
  {
   "cell_type": "code",
   "execution_count": 19,
   "id": "95ab8b16",
   "metadata": {
    "execution": {
     "iopub.execute_input": "2025-07-16T15:26:16.744111Z",
     "iopub.status.busy": "2025-07-16T15:26:16.743103Z",
     "iopub.status.idle": "2025-07-16T15:26:16.751674Z",
     "shell.execute_reply": "2025-07-16T15:26:16.750172Z"
    },
    "papermill": {
     "duration": 0.034403,
     "end_time": "2025-07-16T15:26:16.753528",
     "exception": false,
     "start_time": "2025-07-16T15:26:16.719125",
     "status": "completed"
    },
    "tags": []
   },
   "outputs": [],
   "source": [
    "if len(excluded_features_columns) > 0:\n",
    "    print(f\"Dropping features: {excluded_features_columns}\")\n",
    "    X_test.drop(excluded_features_columns, axis=1, inplace=True)"
   ]
  },
  {
   "cell_type": "code",
   "execution_count": 20,
   "id": "1853aaf5-fb9f-46cb-a2b5-8ea4ae2237e4",
   "metadata": {
    "execution": {
     "iopub.execute_input": "2025-07-16T15:26:16.794277Z",
     "iopub.status.busy": "2025-07-16T15:26:16.793262Z",
     "iopub.status.idle": "2025-07-16T15:26:16.801544Z",
     "shell.execute_reply": "2025-07-16T15:26:16.800315Z"
    },
    "papermill": {
     "duration": 0.033734,
     "end_time": "2025-07-16T15:26:16.805771",
     "exception": false,
     "start_time": "2025-07-16T15:26:16.772037",
     "status": "completed"
    },
    "tags": []
   },
   "outputs": [],
   "source": [
    "if len(excluded_features_columns) > 0:\n",
    "    print(f\"Dropping features: {excluded_features_columns}\")\n",
    "    X_calib.drop(excluded_features_columns, axis=1, inplace=True)"
   ]
  },
  {
   "cell_type": "code",
   "execution_count": 21,
   "id": "76c4dc6d",
   "metadata": {
    "execution": {
     "iopub.execute_input": "2025-07-16T15:26:16.845034Z",
     "iopub.status.busy": "2025-07-16T15:26:16.844513Z",
     "iopub.status.idle": "2025-07-16T15:26:16.850518Z",
     "shell.execute_reply": "2025-07-16T15:26:16.849581Z"
    },
    "papermill": {
     "duration": 0.029185,
     "end_time": "2025-07-16T15:26:16.854370",
     "exception": false,
     "start_time": "2025-07-16T15:26:16.825185",
     "status": "completed"
    },
    "tags": []
   },
   "outputs": [],
   "source": [
    "# EXCLUDE CERTAIN SUBGROUPS\n",
    "# ----------------------\n",
    "\n",
    "mode = universe.get(\"exclude_subgroups\", \"keep-all\") \n",
    "# Fetches the exclude_subgroups setting from the universe dict.\n",
    "# Defaults to \"keep-all\" if the key is missing."
   ]
  },
  {
   "cell_type": "code",
   "execution_count": 22,
   "id": "21994072",
   "metadata": {
    "execution": {
     "iopub.execute_input": "2025-07-16T15:26:16.905705Z",
     "iopub.status.busy": "2025-07-16T15:26:16.905021Z",
     "iopub.status.idle": "2025-07-16T15:26:16.915749Z",
     "shell.execute_reply": "2025-07-16T15:26:16.914368Z"
    },
    "papermill": {
     "duration": 0.041251,
     "end_time": "2025-07-16T15:26:16.920701",
     "exception": false,
     "start_time": "2025-07-16T15:26:16.879450",
     "status": "completed"
    },
    "tags": []
   },
   "outputs": [],
   "source": [
    "if mode == \"keep-all\":\n",
    "    keep_mask = pd.Series(True, index=org_train.index)\n",
    "\n",
    "# org_train contains the original feature columns from features_org (in Simson)\n",
    "# features_org contains unprocessed features, for me X_train at beginning ???\n",
    "# For keep-all, creates a boolean Series (keep_mask) of all True, so no rows are removed.\n",
    "\n",
    "elif mode == \"drop-non-german\":\n",
    "    keep_mask = org_train[\"maxdeutsch1\"] == 1 # ??? what about missing values?\n",
    "\n",
    "else:\n",
    "    raise ValueError(f\"Unsupported mode for exclude_subgroups: {mode}\")\n"
   ]
  },
  {
   "cell_type": "code",
   "execution_count": 23,
   "id": "71651440",
   "metadata": {
    "execution": {
     "iopub.execute_input": "2025-07-16T15:26:16.989381Z",
     "iopub.status.busy": "2025-07-16T15:26:16.988735Z",
     "iopub.status.idle": "2025-07-16T15:26:16.999196Z",
     "shell.execute_reply": "2025-07-16T15:26:16.997605Z"
    },
    "papermill": {
     "duration": 0.047298,
     "end_time": "2025-07-16T15:26:17.005163",
     "exception": false,
     "start_time": "2025-07-16T15:26:16.957865",
     "status": "completed"
    },
    "tags": []
   },
   "outputs": [
    {
     "name": "stdout",
     "output_type": "stream",
     "text": [
      "Dropping 3312 rows (13.25%) where mode='drop-non-german'\n"
     ]
    }
   ],
   "source": [
    "n_drop = (~keep_mask).sum() # Calculates how many rows are set to be dropped\n",
    "if n_drop > 0:\n",
    "    pct = n_drop / len(keep_mask) * 100\n",
    "    print(f\"Dropping {n_drop} rows ({pct:.2f}%) where mode='{mode}'\")"
   ]
  },
  {
   "cell_type": "code",
   "execution_count": 24,
   "id": "5fb8eee5",
   "metadata": {
    "execution": {
     "iopub.execute_input": "2025-07-16T15:26:17.103549Z",
     "iopub.status.busy": "2025-07-16T15:26:17.103079Z",
     "iopub.status.idle": "2025-07-16T15:26:17.132198Z",
     "shell.execute_reply": "2025-07-16T15:26:17.130958Z"
    },
    "papermill": {
     "duration": 0.103211,
     "end_time": "2025-07-16T15:26:17.134850",
     "exception": false,
     "start_time": "2025-07-16T15:26:17.031639",
     "status": "completed"
    },
    "tags": []
   },
   "outputs": [],
   "source": [
    "X_train = X_train[keep_mask]"
   ]
  },
  {
   "cell_type": "code",
   "execution_count": 25,
   "id": "b202bb3a",
   "metadata": {
    "execution": {
     "iopub.execute_input": "2025-07-16T15:26:17.245478Z",
     "iopub.status.busy": "2025-07-16T15:26:17.245038Z",
     "iopub.status.idle": "2025-07-16T15:26:17.252039Z",
     "shell.execute_reply": "2025-07-16T15:26:17.250986Z"
    },
    "papermill": {
     "duration": 0.060304,
     "end_time": "2025-07-16T15:26:17.254234",
     "exception": false,
     "start_time": "2025-07-16T15:26:17.193930",
     "status": "completed"
    },
    "tags": []
   },
   "outputs": [],
   "source": [
    "y_train = y_train[keep_mask]"
   ]
  },
  {
   "cell_type": "markdown",
   "id": "493e2ac3",
   "metadata": {
    "papermill": {
     "duration": 0.035294,
     "end_time": "2025-07-16T15:26:17.333430",
     "exception": false,
     "start_time": "2025-07-16T15:26:17.298136",
     "status": "completed"
    },
    "tags": []
   },
   "source": [
    "# Model Training"
   ]
  },
  {
   "cell_type": "code",
   "execution_count": 26,
   "id": "679e1268",
   "metadata": {
    "execution": {
     "iopub.execute_input": "2025-07-16T15:26:17.383268Z",
     "iopub.status.busy": "2025-07-16T15:26:17.382849Z",
     "iopub.status.idle": "2025-07-16T15:26:17.616468Z",
     "shell.execute_reply": "2025-07-16T15:26:17.615357Z"
    },
    "papermill": {
     "duration": 0.256997,
     "end_time": "2025-07-16T15:26:17.618373",
     "exception": false,
     "start_time": "2025-07-16T15:26:17.361376",
     "status": "completed"
    },
    "tags": []
   },
   "outputs": [],
   "source": [
    "from sklearn.linear_model import LogisticRegression\n",
    "from sklearn.ensemble import GradientBoostingClassifier, RandomForestClassifier\n",
    "\n",
    "if (universe[\"model\"] == \"logreg\"):\n",
    "    model = LogisticRegression() #penalty=\"none\") #, solver=\"newton-cg\", max_iter=1) # include random_state=19 ?\n",
    "elif (universe[\"model\"] == \"penalized_logreg\"):\n",
    "    model = LogisticRegression(penalty=\"l2\", C=1.0) #, solver=\"newton-cg\", max_iter=1)\n",
    "elif (universe[\"model\"] == \"rf\"):\n",
    "    model = RandomForestClassifier(n_estimators=100, n_jobs=-1)\n",
    "elif (universe[\"model\"] == \"gbm\"):\n",
    "    model = GradientBoostingClassifier()\n",
    "elif (universe[\"model\"] == \"elasticnet\"):\n",
    "    model = LogisticRegression(penalty = 'elasticnet', solver = 'saga', l1_ratio = 0.5, max_iter=5000) # which solver to use?\n",
    "else:\n",
    "    raise \"Unsupported universe.model\""
   ]
  },
  {
   "cell_type": "code",
   "execution_count": 27,
   "id": "0cc8f744",
   "metadata": {
    "execution": {
     "iopub.execute_input": "2025-07-16T15:26:17.677785Z",
     "iopub.status.busy": "2025-07-16T15:26:17.677339Z",
     "iopub.status.idle": "2025-07-16T15:26:17.684816Z",
     "shell.execute_reply": "2025-07-16T15:26:17.683470Z"
    },
    "papermill": {
     "duration": 0.036437,
     "end_time": "2025-07-16T15:26:17.690720",
     "exception": false,
     "start_time": "2025-07-16T15:26:17.654283",
     "status": "completed"
    },
    "tags": []
   },
   "outputs": [],
   "source": [
    "import numpy as np\n",
    "from sklearn.pipeline import Pipeline\n",
    "from sklearn.preprocessing import StandardScaler\n",
    "from sklearn.metrics import accuracy_score\n",
    "\n",
    "model = Pipeline([\n",
    "    #(\"continuous_processor\", continuous_processor),\n",
    "    #(\"categorical_preprocessor\", categorical_preprocessor),\n",
    "    #(\"scale\", StandardScaler() if universe[\"scale\"] == \"scale\" else None),\n",
    "    (\"model\", model),\n",
    "])"
   ]
  },
  {
   "cell_type": "code",
   "execution_count": 28,
   "id": "9442c04d",
   "metadata": {
    "execution": {
     "iopub.execute_input": "2025-07-16T15:26:17.729673Z",
     "iopub.status.busy": "2025-07-16T15:26:17.729125Z",
     "iopub.status.idle": "2025-07-16T15:26:23.105000Z",
     "shell.execute_reply": "2025-07-16T15:26:23.103944Z"
    },
    "papermill": {
     "duration": 5.39871,
     "end_time": "2025-07-16T15:26:23.106806",
     "exception": false,
     "start_time": "2025-07-16T15:26:17.708096",
     "status": "completed"
    },
    "tags": []
   },
   "outputs": [
    {
     "data": {
      "text/html": [
       "<style>#sk-container-id-1 {color: black;background-color: white;}#sk-container-id-1 pre{padding: 0;}#sk-container-id-1 div.sk-toggleable {background-color: white;}#sk-container-id-1 label.sk-toggleable__label {cursor: pointer;display: block;width: 100%;margin-bottom: 0;padding: 0.3em;box-sizing: border-box;text-align: center;}#sk-container-id-1 label.sk-toggleable__label-arrow:before {content: \"▸\";float: left;margin-right: 0.25em;color: #696969;}#sk-container-id-1 label.sk-toggleable__label-arrow:hover:before {color: black;}#sk-container-id-1 div.sk-estimator:hover label.sk-toggleable__label-arrow:before {color: black;}#sk-container-id-1 div.sk-toggleable__content {max-height: 0;max-width: 0;overflow: hidden;text-align: left;background-color: #f0f8ff;}#sk-container-id-1 div.sk-toggleable__content pre {margin: 0.2em;color: black;border-radius: 0.25em;background-color: #f0f8ff;}#sk-container-id-1 input.sk-toggleable__control:checked~div.sk-toggleable__content {max-height: 200px;max-width: 100%;overflow: auto;}#sk-container-id-1 input.sk-toggleable__control:checked~label.sk-toggleable__label-arrow:before {content: \"▾\";}#sk-container-id-1 div.sk-estimator input.sk-toggleable__control:checked~label.sk-toggleable__label {background-color: #d4ebff;}#sk-container-id-1 div.sk-label input.sk-toggleable__control:checked~label.sk-toggleable__label {background-color: #d4ebff;}#sk-container-id-1 input.sk-hidden--visually {border: 0;clip: rect(1px 1px 1px 1px);clip: rect(1px, 1px, 1px, 1px);height: 1px;margin: -1px;overflow: hidden;padding: 0;position: absolute;width: 1px;}#sk-container-id-1 div.sk-estimator {font-family: monospace;background-color: #f0f8ff;border: 1px dotted black;border-radius: 0.25em;box-sizing: border-box;margin-bottom: 0.5em;}#sk-container-id-1 div.sk-estimator:hover {background-color: #d4ebff;}#sk-container-id-1 div.sk-parallel-item::after {content: \"\";width: 100%;border-bottom: 1px solid gray;flex-grow: 1;}#sk-container-id-1 div.sk-label:hover label.sk-toggleable__label {background-color: #d4ebff;}#sk-container-id-1 div.sk-serial::before {content: \"\";position: absolute;border-left: 1px solid gray;box-sizing: border-box;top: 0;bottom: 0;left: 50%;z-index: 0;}#sk-container-id-1 div.sk-serial {display: flex;flex-direction: column;align-items: center;background-color: white;padding-right: 0.2em;padding-left: 0.2em;position: relative;}#sk-container-id-1 div.sk-item {position: relative;z-index: 1;}#sk-container-id-1 div.sk-parallel {display: flex;align-items: stretch;justify-content: center;background-color: white;position: relative;}#sk-container-id-1 div.sk-item::before, #sk-container-id-1 div.sk-parallel-item::before {content: \"\";position: absolute;border-left: 1px solid gray;box-sizing: border-box;top: 0;bottom: 0;left: 50%;z-index: -1;}#sk-container-id-1 div.sk-parallel-item {display: flex;flex-direction: column;z-index: 1;position: relative;background-color: white;}#sk-container-id-1 div.sk-parallel-item:first-child::after {align-self: flex-end;width: 50%;}#sk-container-id-1 div.sk-parallel-item:last-child::after {align-self: flex-start;width: 50%;}#sk-container-id-1 div.sk-parallel-item:only-child::after {width: 0;}#sk-container-id-1 div.sk-dashed-wrapped {border: 1px dashed gray;margin: 0 0.4em 0.5em 0.4em;box-sizing: border-box;padding-bottom: 0.4em;background-color: white;}#sk-container-id-1 div.sk-label label {font-family: monospace;font-weight: bold;display: inline-block;line-height: 1.2em;}#sk-container-id-1 div.sk-label-container {text-align: center;}#sk-container-id-1 div.sk-container {/* jupyter's `normalize.less` sets `[hidden] { display: none; }` but bootstrap.min.css set `[hidden] { display: none !important; }` so we also need the `!important` here to be able to override the default hidden behavior on the sphinx rendered scikit-learn.org. See: https://github.com/scikit-learn/scikit-learn/issues/21755 */display: inline-block !important;position: relative;}#sk-container-id-1 div.sk-text-repr-fallback {display: none;}</style><div id=\"sk-container-id-1\" class=\"sk-top-container\"><div class=\"sk-text-repr-fallback\"><pre>Pipeline(steps=[(&#x27;model&#x27;, RandomForestClassifier(n_jobs=-1))])</pre><b>In a Jupyter environment, please rerun this cell to show the HTML representation or trust the notebook. <br />On GitHub, the HTML representation is unable to render, please try loading this page with nbviewer.org.</b></div><div class=\"sk-container\" hidden><div class=\"sk-item sk-dashed-wrapped\"><div class=\"sk-label-container\"><div class=\"sk-label sk-toggleable\"><input class=\"sk-toggleable__control sk-hidden--visually\" id=\"sk-estimator-id-1\" type=\"checkbox\" ><label for=\"sk-estimator-id-1\" class=\"sk-toggleable__label sk-toggleable__label-arrow\">Pipeline</label><div class=\"sk-toggleable__content\"><pre>Pipeline(steps=[(&#x27;model&#x27;, RandomForestClassifier(n_jobs=-1))])</pre></div></div></div><div class=\"sk-serial\"><div class=\"sk-item\"><div class=\"sk-estimator sk-toggleable\"><input class=\"sk-toggleable__control sk-hidden--visually\" id=\"sk-estimator-id-2\" type=\"checkbox\" ><label for=\"sk-estimator-id-2\" class=\"sk-toggleable__label sk-toggleable__label-arrow\">RandomForestClassifier</label><div class=\"sk-toggleable__content\"><pre>RandomForestClassifier(n_jobs=-1)</pre></div></div></div></div></div></div></div>"
      ],
      "text/plain": [
       "Pipeline(steps=[('model', RandomForestClassifier(n_jobs=-1))])"
      ]
     },
     "execution_count": 28,
     "metadata": {},
     "output_type": "execute_result"
    }
   ],
   "source": [
    "model.fit(X_train, y_train.values.ravel())"
   ]
  },
  {
   "cell_type": "code",
   "execution_count": 29,
   "id": "af59f8c0",
   "metadata": {
    "execution": {
     "iopub.execute_input": "2025-07-16T15:26:23.194557Z",
     "iopub.status.busy": "2025-07-16T15:26:23.193562Z",
     "iopub.status.idle": "2025-07-16T15:26:23.199306Z",
     "shell.execute_reply": "2025-07-16T15:26:23.198414Z"
    },
    "papermill": {
     "duration": 0.053808,
     "end_time": "2025-07-16T15:26:23.201136",
     "exception": false,
     "start_time": "2025-07-16T15:26:23.147328",
     "status": "completed"
    },
    "tags": []
   },
   "outputs": [],
   "source": [
    "from fairness_multiverse.universe import predict_w_threshold"
   ]
  },
  {
   "cell_type": "code",
   "execution_count": 30,
   "id": "a7cf2e16",
   "metadata": {
    "execution": {
     "iopub.execute_input": "2025-07-16T15:26:23.370911Z",
     "iopub.status.busy": "2025-07-16T15:26:23.370461Z",
     "iopub.status.idle": "2025-07-16T15:26:25.670729Z",
     "shell.execute_reply": "2025-07-16T15:26:25.669822Z"
    },
    "papermill": {
     "duration": 2.379424,
     "end_time": "2025-07-16T15:26:25.672268",
     "exception": false,
     "start_time": "2025-07-16T15:26:23.292844",
     "status": "completed"
    },
    "tags": []
   },
   "outputs": [
    {
     "data": {
      "text/plain": [
       "0.8651543863560361"
      ]
     },
     "execution_count": 30,
     "metadata": {},
     "output_type": "execute_result"
    }
   ],
   "source": [
    "probs_test = model.predict_proba(X_test)\n",
    "\n",
    "'''\n",
    "Below code returns a boolean array (or binary 0/1 array depending on how it’s used) where each element \n",
    "is True if the probability of class 1 is greater than or equal to the threshold, and False otherwise.\n",
    "'''\n",
    "y_pred_default = predict_w_threshold(probs_test, 0.5)\n",
    "\n",
    "# Naive prediction\n",
    "accuracy_score(y_true = y_true, y_pred = y_pred_default)"
   ]
  },
  {
   "cell_type": "code",
   "execution_count": 31,
   "id": "081964c3",
   "metadata": {
    "execution": {
     "iopub.execute_input": "2025-07-16T15:26:25.799008Z",
     "iopub.status.busy": "2025-07-16T15:26:25.798561Z",
     "iopub.status.idle": "2025-07-16T15:26:27.339542Z",
     "shell.execute_reply": "2025-07-16T15:26:27.338564Z"
    },
    "papermill": {
     "duration": 1.608535,
     "end_time": "2025-07-16T15:26:27.341391",
     "exception": false,
     "start_time": "2025-07-16T15:26:25.732856",
     "status": "completed"
    },
    "tags": []
   },
   "outputs": [
    {
     "data": {
      "text/plain": [
       "array([0, 0, 0, ..., 0, 0, 0])"
      ]
     },
     "execution_count": 31,
     "metadata": {},
     "output_type": "execute_result"
    }
   ],
   "source": [
    "model.predict(X_test)"
   ]
  },
  {
   "cell_type": "markdown",
   "id": "56c9705b",
   "metadata": {
    "papermill": {
     "duration": 0.091447,
     "end_time": "2025-07-16T15:26:27.476877",
     "exception": false,
     "start_time": "2025-07-16T15:26:27.385430",
     "status": "completed"
    },
    "tags": []
   },
   "source": [
    "# Conformal Prediction"
   ]
  },
  {
   "cell_type": "code",
   "execution_count": 32,
   "id": "160ec6ff",
   "metadata": {
    "execution": {
     "iopub.execute_input": "2025-07-16T15:26:27.556042Z",
     "iopub.status.busy": "2025-07-16T15:26:27.555639Z",
     "iopub.status.idle": "2025-07-16T15:26:27.561160Z",
     "shell.execute_reply": "2025-07-16T15:26:27.560132Z"
    },
    "papermill": {
     "duration": 0.055337,
     "end_time": "2025-07-16T15:26:27.564457",
     "exception": false,
     "start_time": "2025-07-16T15:26:27.509120",
     "status": "completed"
    },
    "tags": []
   },
   "outputs": [],
   "source": [
    "# Miscoverage level for conformal prediction (10% allowed error rate => 90% target coverage)\n",
    "alpha = 0.2"
   ]
  },
  {
   "cell_type": "code",
   "execution_count": 33,
   "id": "eadf4555-3dd3-440e-8e35-f82a4ad9f855",
   "metadata": {
    "execution": {
     "iopub.execute_input": "2025-07-16T15:26:27.605269Z",
     "iopub.status.busy": "2025-07-16T15:26:27.604796Z",
     "iopub.status.idle": "2025-07-16T15:26:29.207591Z",
     "shell.execute_reply": "2025-07-16T15:26:29.206400Z"
    },
    "papermill": {
     "duration": 1.625936,
     "end_time": "2025-07-16T15:26:29.210140",
     "exception": false,
     "start_time": "2025-07-16T15:26:27.584204",
     "status": "completed"
    },
    "tags": []
   },
   "outputs": [],
   "source": [
    "probs_calib = model.predict_proba(X_calib)"
   ]
  },
  {
   "cell_type": "code",
   "execution_count": 34,
   "id": "2ed93547-6d5d-4983-9b36-1ecb300da49a",
   "metadata": {
    "execution": {
     "iopub.execute_input": "2025-07-16T15:26:29.334558Z",
     "iopub.status.busy": "2025-07-16T15:26:29.334098Z",
     "iopub.status.idle": "2025-07-16T15:26:29.340451Z",
     "shell.execute_reply": "2025-07-16T15:26:29.339387Z"
    },
    "papermill": {
     "duration": 0.086706,
     "end_time": "2025-07-16T15:26:29.344242",
     "exception": false,
     "start_time": "2025-07-16T15:26:29.257536",
     "status": "completed"
    },
    "tags": []
   },
   "outputs": [],
   "source": [
    "y_calib = y_calib.values.ravel().astype(int)"
   ]
  },
  {
   "cell_type": "code",
   "execution_count": 35,
   "id": "65d1320d-f588-4b38-9072-62af1ae97f7d",
   "metadata": {
    "execution": {
     "iopub.execute_input": "2025-07-16T15:26:29.497195Z",
     "iopub.status.busy": "2025-07-16T15:26:29.496756Z",
     "iopub.status.idle": "2025-07-16T15:26:29.505323Z",
     "shell.execute_reply": "2025-07-16T15:26:29.504096Z"
    },
    "papermill": {
     "duration": 0.070038,
     "end_time": "2025-07-16T15:26:29.507064",
     "exception": false,
     "start_time": "2025-07-16T15:26:29.437026",
     "status": "completed"
    },
    "tags": []
   },
   "outputs": [],
   "source": [
    "from fairness_multiverse.conformal import compute_nc_scores\n",
    "\n",
    "# Compute nonconformity scores on calibration set (1 - probability of true class)\n",
    "nc_scores = compute_nc_scores(probs_calib, y_calib)"
   ]
  },
  {
   "cell_type": "code",
   "execution_count": 36,
   "id": "df3b8ca3-53b7-43d5-9667-7c85da7aeda2",
   "metadata": {
    "execution": {
     "iopub.execute_input": "2025-07-16T15:26:29.615471Z",
     "iopub.status.busy": "2025-07-16T15:26:29.615069Z",
     "iopub.status.idle": "2025-07-16T15:26:29.622542Z",
     "shell.execute_reply": "2025-07-16T15:26:29.621499Z"
    },
    "papermill": {
     "duration": 0.063946,
     "end_time": "2025-07-16T15:26:29.636143",
     "exception": false,
     "start_time": "2025-07-16T15:26:29.572197",
     "status": "completed"
    },
    "tags": []
   },
   "outputs": [],
   "source": [
    "from fairness_multiverse.conformal import find_threshold\n",
    "\n",
    "# Find conformal threshold q_hat for the given alpha (split conformal method)\n",
    "q_hat = find_threshold(nc_scores, alpha)"
   ]
  },
  {
   "cell_type": "code",
   "execution_count": 37,
   "id": "4d29e6c1-0ef6-4aa4-b8fe-4fe79b0d033a",
   "metadata": {
    "execution": {
     "iopub.execute_input": "2025-07-16T15:26:29.803091Z",
     "iopub.status.busy": "2025-07-16T15:26:29.802687Z",
     "iopub.status.idle": "2025-07-16T15:26:29.811221Z",
     "shell.execute_reply": "2025-07-16T15:26:29.810063Z"
    },
    "papermill": {
     "duration": 0.084481,
     "end_time": "2025-07-16T15:26:29.815298",
     "exception": false,
     "start_time": "2025-07-16T15:26:29.730817",
     "status": "completed"
    },
    "tags": []
   },
   "outputs": [
    {
     "data": {
      "text/plain": [
       "0.39"
      ]
     },
     "execution_count": 37,
     "metadata": {},
     "output_type": "execute_result"
    }
   ],
   "source": [
    "q_hat"
   ]
  },
  {
   "cell_type": "code",
   "execution_count": 38,
   "id": "92460794-cdac-4be2-ba28-f28c0515a6fb",
   "metadata": {
    "execution": {
     "iopub.execute_input": "2025-07-16T15:26:29.923367Z",
     "iopub.status.busy": "2025-07-16T15:26:29.922398Z",
     "iopub.status.idle": "2025-07-16T15:26:32.361900Z",
     "shell.execute_reply": "2025-07-16T15:26:32.360669Z"
    },
    "papermill": {
     "duration": 2.479834,
     "end_time": "2025-07-16T15:26:32.364499",
     "exception": false,
     "start_time": "2025-07-16T15:26:29.884665",
     "status": "completed"
    },
    "tags": []
   },
   "outputs": [],
   "source": [
    "from fairness_multiverse.conformal import predict_conformal_sets\n",
    "\n",
    "# Generate prediction sets for each test example\n",
    "pred_sets = predict_conformal_sets(model, X_test, q_hat)"
   ]
  },
  {
   "cell_type": "code",
   "execution_count": 39,
   "id": "d90c9a65-e6db-4f5d-80cd-e68fb7e46829",
   "metadata": {
    "execution": {
     "iopub.execute_input": "2025-07-16T15:26:32.469981Z",
     "iopub.status.busy": "2025-07-16T15:26:32.469522Z",
     "iopub.status.idle": "2025-07-16T15:26:32.476437Z",
     "shell.execute_reply": "2025-07-16T15:26:32.475193Z"
    },
    "papermill": {
     "duration": 0.065765,
     "end_time": "2025-07-16T15:26:32.478279",
     "exception": false,
     "start_time": "2025-07-16T15:26:32.412514",
     "status": "completed"
    },
    "tags": []
   },
   "outputs": [],
   "source": [
    "y_true = y_true.squeeze()"
   ]
  },
  {
   "cell_type": "code",
   "execution_count": 40,
   "id": "3a58a54a-1e68-46b9-927a-df01f18aebc8",
   "metadata": {
    "execution": {
     "iopub.execute_input": "2025-07-16T15:26:32.567121Z",
     "iopub.status.busy": "2025-07-16T15:26:32.566632Z",
     "iopub.status.idle": "2025-07-16T15:26:33.833947Z",
     "shell.execute_reply": "2025-07-16T15:26:33.833010Z"
    },
    "papermill": {
     "duration": 1.320908,
     "end_time": "2025-07-16T15:26:33.835959",
     "exception": false,
     "start_time": "2025-07-16T15:26:32.515051",
     "status": "completed"
    },
    "tags": []
   },
   "outputs": [],
   "source": [
    "from fairness_multiverse.conformal import evaluate_sets\n",
    "\n",
    "# Evaluate coverage and average set size on test data\n",
    "metrics = evaluate_sets(pred_sets, y_true)"
   ]
  },
  {
   "cell_type": "code",
   "execution_count": 41,
   "id": "5ce0a5cb-201f-45a0-ade5-94c7f0bd6095",
   "metadata": {
    "execution": {
     "iopub.execute_input": "2025-07-16T15:26:33.880024Z",
     "iopub.status.busy": "2025-07-16T15:26:33.879560Z",
     "iopub.status.idle": "2025-07-16T15:26:33.887261Z",
     "shell.execute_reply": "2025-07-16T15:26:33.886254Z"
    },
    "papermill": {
     "duration": 0.031805,
     "end_time": "2025-07-16T15:26:33.889216",
     "exception": false,
     "start_time": "2025-07-16T15:26:33.857411",
     "status": "completed"
    },
    "tags": []
   },
   "outputs": [
    {
     "data": {
      "text/plain": [
       "{'coverage': 0.8134990525025081, 'avg_size': 0.9164418682421135}"
      ]
     },
     "execution_count": 41,
     "metadata": {},
     "output_type": "execute_result"
    }
   ],
   "source": [
    "metrics"
   ]
  },
  {
   "cell_type": "code",
   "execution_count": 42,
   "id": "9b9a838d-31c9-430b-ae14-12baee460d17",
   "metadata": {
    "execution": {
     "iopub.execute_input": "2025-07-16T15:26:33.934372Z",
     "iopub.status.busy": "2025-07-16T15:26:33.933707Z",
     "iopub.status.idle": "2025-07-16T15:26:33.939741Z",
     "shell.execute_reply": "2025-07-16T15:26:33.938633Z"
    },
    "papermill": {
     "duration": 0.030688,
     "end_time": "2025-07-16T15:26:33.941959",
     "exception": false,
     "start_time": "2025-07-16T15:26:33.911271",
     "status": "completed"
    },
    "tags": []
   },
   "outputs": [],
   "source": [
    "example_universe = universe.copy()\n",
    "universe_model = example_universe.get(\"model\")\n",
    "universe_exclude_features = example_universe.get(\"exclude_features\")\n",
    "universe_exclude_subgroups = example_universe.get(\"exclude_subgroups\")"
   ]
  },
  {
   "cell_type": "code",
   "execution_count": 43,
   "id": "f4b6a8ac-9dc0-4245-8a91-5b3b5999c4f9",
   "metadata": {
    "execution": {
     "iopub.execute_input": "2025-07-16T15:26:33.986801Z",
     "iopub.status.busy": "2025-07-16T15:26:33.986154Z",
     "iopub.status.idle": "2025-07-16T15:26:33.992329Z",
     "shell.execute_reply": "2025-07-16T15:26:33.991371Z"
    },
    "papermill": {
     "duration": 0.029991,
     "end_time": "2025-07-16T15:26:33.994133",
     "exception": false,
     "start_time": "2025-07-16T15:26:33.964142",
     "status": "completed"
    },
    "tags": []
   },
   "outputs": [],
   "source": [
    "cp_metrics_dict = {\n",
    "    \"universe_id\": [universe_id],\n",
    "    \"universe_model\": [universe_model],\n",
    "    \"universe_exclude_features\": [universe_exclude_features],\n",
    "    \"universe_exclude_subgroups\": [universe_exclude_subgroups],\n",
    "    \"q_hat\": [q_hat],\n",
    "    \"coverage\": [metrics[\"coverage\"]],\n",
    "    \"avg_size\": [metrics[\"avg_size\"]],\n",
    "}"
   ]
  },
  {
   "cell_type": "code",
   "execution_count": 44,
   "id": "908acbb1-0371-4915-85ca-3fa520d2efe2",
   "metadata": {
    "execution": {
     "iopub.execute_input": "2025-07-16T15:26:34.038162Z",
     "iopub.status.busy": "2025-07-16T15:26:34.037552Z",
     "iopub.status.idle": "2025-07-16T15:26:34.046223Z",
     "shell.execute_reply": "2025-07-16T15:26:34.045264Z"
    },
    "papermill": {
     "duration": 0.04384,
     "end_time": "2025-07-16T15:26:34.059697",
     "exception": false,
     "start_time": "2025-07-16T15:26:34.015857",
     "status": "completed"
    },
    "tags": []
   },
   "outputs": [
    {
     "data": {
      "text/plain": [
       "{'universe_id': ['04a5873dee9dbd78c41d68119fadece0'],\n",
       " 'universe_model': ['rf'],\n",
       " 'universe_exclude_features': ['none'],\n",
       " 'universe_exclude_subgroups': ['drop-non-german'],\n",
       " 'q_hat': [0.39],\n",
       " 'coverage': [0.8134990525025081],\n",
       " 'avg_size': [0.9164418682421135]}"
      ]
     },
     "execution_count": 44,
     "metadata": {},
     "output_type": "execute_result"
    }
   ],
   "source": [
    "cp_metrics_dict"
   ]
  },
  {
   "cell_type": "code",
   "execution_count": 45,
   "id": "33007efc-14e9-4ec6-97ac-56a455c82265",
   "metadata": {
    "execution": {
     "iopub.execute_input": "2025-07-16T15:26:34.106342Z",
     "iopub.status.busy": "2025-07-16T15:26:34.105808Z",
     "iopub.status.idle": "2025-07-16T15:26:34.112857Z",
     "shell.execute_reply": "2025-07-16T15:26:34.111802Z"
    },
    "papermill": {
     "duration": 0.032449,
     "end_time": "2025-07-16T15:26:34.114756",
     "exception": false,
     "start_time": "2025-07-16T15:26:34.082307",
     "status": "completed"
    },
    "tags": []
   },
   "outputs": [],
   "source": [
    "cp_metrics_df = pd.DataFrame(cp_metrics_dict)"
   ]
  },
  {
   "cell_type": "code",
   "execution_count": 46,
   "id": "db12611b-57b2-4910-b9d0-355adfd6e7bf",
   "metadata": {
    "execution": {
     "iopub.execute_input": "2025-07-16T15:26:34.160923Z",
     "iopub.status.busy": "2025-07-16T15:26:34.160138Z",
     "iopub.status.idle": "2025-07-16T15:26:34.174899Z",
     "shell.execute_reply": "2025-07-16T15:26:34.173918Z"
    },
    "papermill": {
     "duration": 0.039146,
     "end_time": "2025-07-16T15:26:34.176538",
     "exception": false,
     "start_time": "2025-07-16T15:26:34.137392",
     "status": "completed"
    },
    "tags": []
   },
   "outputs": [
    {
     "data": {
      "text/html": [
       "<div>\n",
       "<style scoped>\n",
       "    .dataframe tbody tr th:only-of-type {\n",
       "        vertical-align: middle;\n",
       "    }\n",
       "\n",
       "    .dataframe tbody tr th {\n",
       "        vertical-align: top;\n",
       "    }\n",
       "\n",
       "    .dataframe thead th {\n",
       "        text-align: right;\n",
       "    }\n",
       "</style>\n",
       "<table border=\"1\" class=\"dataframe\">\n",
       "  <thead>\n",
       "    <tr style=\"text-align: right;\">\n",
       "      <th></th>\n",
       "      <th>universe_id</th>\n",
       "      <th>universe_model</th>\n",
       "      <th>universe_exclude_features</th>\n",
       "      <th>universe_exclude_subgroups</th>\n",
       "      <th>q_hat</th>\n",
       "      <th>coverage</th>\n",
       "      <th>avg_size</th>\n",
       "    </tr>\n",
       "  </thead>\n",
       "  <tbody>\n",
       "    <tr>\n",
       "      <th>0</th>\n",
       "      <td>04a5873dee9dbd78c41d68119fadece0</td>\n",
       "      <td>rf</td>\n",
       "      <td>none</td>\n",
       "      <td>drop-non-german</td>\n",
       "      <td>0.39</td>\n",
       "      <td>0.813499</td>\n",
       "      <td>0.916442</td>\n",
       "    </tr>\n",
       "  </tbody>\n",
       "</table>\n",
       "</div>"
      ],
      "text/plain": [
       "                        universe_id universe_model universe_exclude_features  \\\n",
       "0  04a5873dee9dbd78c41d68119fadece0             rf                      none   \n",
       "\n",
       "  universe_exclude_subgroups  q_hat  coverage  avg_size  \n",
       "0            drop-non-german   0.39  0.813499  0.916442  "
      ]
     },
     "execution_count": 46,
     "metadata": {},
     "output_type": "execute_result"
    }
   ],
   "source": [
    "cp_metrics_df.head()"
   ]
  },
  {
   "cell_type": "code",
   "execution_count": 47,
   "id": "e6aa1fe0-b882-4a50-8bdf-05f68c24faeb",
   "metadata": {
    "execution": {
     "iopub.execute_input": "2025-07-16T15:26:34.218792Z",
     "iopub.status.busy": "2025-07-16T15:26:34.218348Z",
     "iopub.status.idle": "2025-07-16T15:26:34.224092Z",
     "shell.execute_reply": "2025-07-16T15:26:34.223140Z"
    },
    "papermill": {
     "duration": 0.028118,
     "end_time": "2025-07-16T15:26:34.226179",
     "exception": false,
     "start_time": "2025-07-16T15:26:34.198061",
     "status": "completed"
    },
    "tags": []
   },
   "outputs": [],
   "source": [
    "output_folder = \"results/cp_metrics_alpha_2\"\n",
    "os.makedirs(output_folder, exist_ok=True)"
   ]
  },
  {
   "cell_type": "code",
   "execution_count": 48,
   "id": "b53d024f-1be6-4b80-9953-843618c45449",
   "metadata": {
    "execution": {
     "iopub.execute_input": "2025-07-16T15:26:34.266481Z",
     "iopub.status.busy": "2025-07-16T15:26:34.265952Z",
     "iopub.status.idle": "2025-07-16T15:26:34.270896Z",
     "shell.execute_reply": "2025-07-16T15:26:34.269923Z"
    },
    "papermill": {
     "duration": 0.026579,
     "end_time": "2025-07-16T15:26:34.272658",
     "exception": false,
     "start_time": "2025-07-16T15:26:34.246079",
     "status": "completed"
    },
    "tags": []
   },
   "outputs": [],
   "source": [
    "output_file = os.path.join(output_folder, f\"metrics_{universe_id}.csv\")"
   ]
  },
  {
   "cell_type": "code",
   "execution_count": 49,
   "id": "c1f366d1-edb8-4383-bdcb-c7ea0c25e9d1",
   "metadata": {
    "execution": {
     "iopub.execute_input": "2025-07-16T15:26:34.314798Z",
     "iopub.status.busy": "2025-07-16T15:26:34.313845Z",
     "iopub.status.idle": "2025-07-16T15:26:34.323045Z",
     "shell.execute_reply": "2025-07-16T15:26:34.322084Z"
    },
    "papermill": {
     "duration": 0.031977,
     "end_time": "2025-07-16T15:26:34.324658",
     "exception": false,
     "start_time": "2025-07-16T15:26:34.292681",
     "status": "completed"
    },
    "tags": []
   },
   "outputs": [],
   "source": [
    "cp_metrics_df.to_csv(output_file, index=False)"
   ]
  },
  {
   "cell_type": "markdown",
   "id": "33774451",
   "metadata": {
    "papermill": {
     "duration": 0.020611,
     "end_time": "2025-07-16T15:26:34.364907",
     "exception": false,
     "start_time": "2025-07-16T15:26:34.344296",
     "status": "completed"
    },
    "tags": []
   },
   "source": [
    "# (Fairness) Metrics"
   ]
  },
  {
   "cell_type": "code",
   "execution_count": 50,
   "id": "debc5d62",
   "metadata": {
    "execution": {
     "iopub.execute_input": "2025-07-16T15:26:34.405649Z",
     "iopub.status.busy": "2025-07-16T15:26:34.405156Z",
     "iopub.status.idle": "2025-07-16T15:26:34.430492Z",
     "shell.execute_reply": "2025-07-16T15:26:34.428671Z"
    },
    "papermill": {
     "duration": 0.049097,
     "end_time": "2025-07-16T15:26:34.433984",
     "exception": false,
     "start_time": "2025-07-16T15:26:34.384887",
     "status": "completed"
    },
    "tags": []
   },
   "outputs": [],
   "source": [
    "# do I need to include maxdeutsch1.missing?\n",
    "\n",
    "import numpy as np\n",
    "\n",
    "colname_to_bin = \"maxdeutsch1\"\n",
    "majority_value = org_train[colname_to_bin].mode()[0]\n",
    "\n",
    "org_test[\"majmin\"] = np.where(org_test[colname_to_bin] == majority_value, \"majority\", \"minority\")"
   ]
  },
  {
   "cell_type": "code",
   "execution_count": 51,
   "id": "06a50de5",
   "metadata": {
    "execution": {
     "iopub.execute_input": "2025-07-16T15:26:34.501001Z",
     "iopub.status.busy": "2025-07-16T15:26:34.500376Z",
     "iopub.status.idle": "2025-07-16T15:26:37.628839Z",
     "shell.execute_reply": "2025-07-16T15:26:37.627703Z"
    },
    "papermill": {
     "duration": 3.155503,
     "end_time": "2025-07-16T15:26:37.631251",
     "exception": false,
     "start_time": "2025-07-16T15:26:34.475748",
     "status": "completed"
    },
    "tags": []
   },
   "outputs": [],
   "source": [
    "example_universe = universe.copy()\n",
    "example_universe[\"cutoff\"] = example_universe[\"cutoff\"][0]\n",
    "example_universe[\"eval_fairness_grouping\"] = example_universe[\"eval_fairness_grouping\"][0]\n",
    "fairness_dict, metric_frame = universe_analysis.compute_metrics(\n",
    "    example_universe,\n",
    "    y_pred_prob=probs_test,\n",
    "    y_test=y_true,\n",
    "    org_test=org_test,\n",
    ")"
   ]
  },
  {
   "cell_type": "markdown",
   "id": "f95d4e02",
   "metadata": {
    "papermill": {
     "duration": 0.022954,
     "end_time": "2025-07-16T15:26:37.679910",
     "exception": false,
     "start_time": "2025-07-16T15:26:37.656956",
     "status": "completed"
    },
    "tags": []
   },
   "source": [
    "# Overall"
   ]
  },
  {
   "cell_type": "markdown",
   "id": "bdee4871",
   "metadata": {
    "papermill": {
     "duration": 0.022665,
     "end_time": "2025-07-16T15:26:37.726570",
     "exception": false,
     "start_time": "2025-07-16T15:26:37.703905",
     "status": "completed"
    },
    "tags": []
   },
   "source": [
    "Fairness\n",
    "Main fairness target: Equalized Odds. Seems to be a better fit than equal opportunity, since we're not only interested in Y = 1. Seems to be a better fit than demographic parity, since we also care about accuracy, not just equal distribution of preds.\n",
    "\n",
    "Pick column for computation of fairness metrics\n",
    "\n",
    "Performance\n",
    "Overall performance measures, most interesting in relation to the measures split by group below"
   ]
  },
  {
   "cell_type": "code",
   "execution_count": 52,
   "id": "c4e067c6",
   "metadata": {
    "execution": {
     "iopub.execute_input": "2025-07-16T15:26:37.773586Z",
     "iopub.status.busy": "2025-07-16T15:26:37.772840Z",
     "iopub.status.idle": "2025-07-16T15:26:37.781832Z",
     "shell.execute_reply": "2025-07-16T15:26:37.780787Z"
    },
    "papermill": {
     "duration": 0.034332,
     "end_time": "2025-07-16T15:26:37.783616",
     "exception": false,
     "start_time": "2025-07-16T15:26:37.749284",
     "status": "completed"
    },
    "tags": []
   },
   "outputs": [
    {
     "data": {
      "text/plain": [
       "accuracy                   0.189355\n",
       "balanced accuracy          0.528398\n",
       "f1                         0.237553\n",
       "precision                  0.135073\n",
       "false positive rate        0.927649\n",
       "false negative rate        0.015554\n",
       "selection rate             0.934935\n",
       "count                  89710.000000\n",
       "dtype: float64"
      ]
     },
     "execution_count": 52,
     "metadata": {},
     "output_type": "execute_result"
    }
   ],
   "source": [
    "metric_frame.overall"
   ]
  },
  {
   "cell_type": "markdown",
   "id": "e968fe9d",
   "metadata": {
    "papermill": {
     "duration": 0.023625,
     "end_time": "2025-07-16T15:26:37.830645",
     "exception": false,
     "start_time": "2025-07-16T15:26:37.807020",
     "status": "completed"
    },
    "tags": []
   },
   "source": [
    "By Group"
   ]
  },
  {
   "cell_type": "code",
   "execution_count": 53,
   "id": "ec325bce",
   "metadata": {
    "execution": {
     "iopub.execute_input": "2025-07-16T15:26:37.878600Z",
     "iopub.status.busy": "2025-07-16T15:26:37.878014Z",
     "iopub.status.idle": "2025-07-16T15:26:37.895534Z",
     "shell.execute_reply": "2025-07-16T15:26:37.894525Z"
    },
    "papermill": {
     "duration": 0.042938,
     "end_time": "2025-07-16T15:26:37.897389",
     "exception": false,
     "start_time": "2025-07-16T15:26:37.854451",
     "status": "completed"
    },
    "tags": []
   },
   "outputs": [
    {
     "data": {
      "text/html": [
       "<div>\n",
       "<style scoped>\n",
       "    .dataframe tbody tr th:only-of-type {\n",
       "        vertical-align: middle;\n",
       "    }\n",
       "\n",
       "    .dataframe tbody tr th {\n",
       "        vertical-align: top;\n",
       "    }\n",
       "\n",
       "    .dataframe thead th {\n",
       "        text-align: right;\n",
       "    }\n",
       "</style>\n",
       "<table border=\"1\" class=\"dataframe\">\n",
       "  <thead>\n",
       "    <tr style=\"text-align: right;\">\n",
       "      <th></th>\n",
       "      <th>accuracy</th>\n",
       "      <th>balanced accuracy</th>\n",
       "      <th>f1</th>\n",
       "      <th>precision</th>\n",
       "      <th>false positive rate</th>\n",
       "      <th>false negative rate</th>\n",
       "      <th>selection rate</th>\n",
       "      <th>count</th>\n",
       "    </tr>\n",
       "    <tr>\n",
       "      <th>majmin</th>\n",
       "      <th></th>\n",
       "      <th></th>\n",
       "      <th></th>\n",
       "      <th></th>\n",
       "      <th></th>\n",
       "      <th></th>\n",
       "      <th></th>\n",
       "      <th></th>\n",
       "    </tr>\n",
       "  </thead>\n",
       "  <tbody>\n",
       "    <tr>\n",
       "      <th>majority</th>\n",
       "      <td>0.189316</td>\n",
       "      <td>0.529278</td>\n",
       "      <td>0.244242</td>\n",
       "      <td>0.139278</td>\n",
       "      <td>0.932800</td>\n",
       "      <td>0.008643</td>\n",
       "      <td>0.940538</td>\n",
       "      <td>69170.0</td>\n",
       "    </tr>\n",
       "    <tr>\n",
       "      <th>minority</th>\n",
       "      <td>0.189484</td>\n",
       "      <td>0.523569</td>\n",
       "      <td>0.214124</td>\n",
       "      <td>0.120536</td>\n",
       "      <td>0.910632</td>\n",
       "      <td>0.042230</td>\n",
       "      <td>0.916066</td>\n",
       "      <td>20540.0</td>\n",
       "    </tr>\n",
       "  </tbody>\n",
       "</table>\n",
       "</div>"
      ],
      "text/plain": [
       "          accuracy  balanced accuracy        f1  precision  \\\n",
       "majmin                                                       \n",
       "majority  0.189316           0.529278  0.244242   0.139278   \n",
       "minority  0.189484           0.523569  0.214124   0.120536   \n",
       "\n",
       "          false positive rate  false negative rate  selection rate    count  \n",
       "majmin                                                                       \n",
       "majority             0.932800             0.008643        0.940538  69170.0  \n",
       "minority             0.910632             0.042230        0.916066  20540.0  "
      ]
     },
     "execution_count": 53,
     "metadata": {},
     "output_type": "execute_result"
    }
   ],
   "source": [
    "metric_frame.by_group"
   ]
  },
  {
   "cell_type": "code",
   "execution_count": 54,
   "id": "a9ddbe63",
   "metadata": {
    "execution": {
     "iopub.execute_input": "2025-07-16T15:26:37.944791Z",
     "iopub.status.busy": "2025-07-16T15:26:37.944129Z",
     "iopub.status.idle": "2025-07-16T15:26:40.062419Z",
     "shell.execute_reply": "2025-07-16T15:26:40.061328Z"
    },
    "papermill": {
     "duration": 2.143565,
     "end_time": "2025-07-16T15:26:40.063889",
     "exception": false,
     "start_time": "2025-07-16T15:26:37.920324",
     "status": "completed"
    },
    "tags": []
   },
   "outputs": [
    {
     "data": {
      "text/plain": [
       "array([[<Axes: title={'center': 'accuracy'}, xlabel='majmin'>,\n",
       "        <Axes: title={'center': 'balanced accuracy'}, xlabel='majmin'>,\n",
       "        <Axes: title={'center': 'f1'}, xlabel='majmin'>],\n",
       "       [<Axes: title={'center': 'precision'}, xlabel='majmin'>,\n",
       "        <Axes: title={'center': 'false positive rate'}, xlabel='majmin'>,\n",
       "        <Axes: title={'center': 'false negative rate'}, xlabel='majmin'>],\n",
       "       [<Axes: title={'center': 'selection rate'}, xlabel='majmin'>,\n",
       "        <Axes: title={'center': 'count'}, xlabel='majmin'>,\n",
       "        <Axes: xlabel='majmin'>]], dtype=object)"
      ]
     },
     "execution_count": 54,
     "metadata": {},
     "output_type": "execute_result"
    },
    {
     "data": {
      "image/png": "[encoded data removed]",
      "text/plain": [
       "<Figure size 1200x800 with 9 Axes>"
      ]
     },
     "metadata": {},
     "output_type": "display_data"
    }
   ],
   "source": [
    "# In a graphic\n",
    "metric_frame.by_group.plot.bar(\n",
    "    subplots=True,\n",
    "    layout=[3, 3],\n",
    "    legend=False,\n",
    "    figsize=[12, 8],\n",
    "    title=\"Show all metrics\",\n",
    ")"
   ]
  },
  {
   "cell_type": "markdown",
   "id": "f57a0bac",
   "metadata": {
    "papermill": {
     "duration": 0.013417,
     "end_time": "2025-07-16T15:26:40.091460",
     "exception": false,
     "start_time": "2025-07-16T15:26:40.078043",
     "status": "completed"
    },
    "tags": []
   },
   "source": [
    "# Final Output"
   ]
  },
  {
   "cell_type": "code",
   "execution_count": 55,
   "id": "96d280a3",
   "metadata": {
    "execution": {
     "iopub.execute_input": "2025-07-16T15:26:40.119199Z",
     "iopub.status.busy": "2025-07-16T15:26:40.118709Z",
     "iopub.status.idle": "2025-07-16T15:26:40.126225Z",
     "shell.execute_reply": "2025-07-16T15:26:40.125373Z"
    },
    "papermill": {
     "duration": 0.023059,
     "end_time": "2025-07-16T15:26:40.127577",
     "exception": false,
     "start_time": "2025-07-16T15:26:40.104518",
     "status": "completed"
    },
    "tags": []
   },
   "outputs": [
    {
     "data": {
      "text/plain": [
       "4"
      ]
     },
     "execution_count": 55,
     "metadata": {},
     "output_type": "execute_result"
    }
   ],
   "source": [
    "sub_universes = universe_analysis.generate_sub_universes()\n",
    "len(sub_universes)"
   ]
  },
  {
   "cell_type": "code",
   "execution_count": 56,
   "id": "92adf7ba",
   "metadata": {
    "execution": {
     "iopub.execute_input": "2025-07-16T15:26:40.156590Z",
     "iopub.status.busy": "2025-07-16T15:26:40.156028Z",
     "iopub.status.idle": "2025-07-16T15:26:40.167102Z",
     "shell.execute_reply": "2025-07-16T15:26:40.166271Z"
    },
    "papermill": {
     "duration": 0.027457,
     "end_time": "2025-07-16T15:26:40.168751",
     "exception": false,
     "start_time": "2025-07-16T15:26:40.141294",
     "status": "completed"
    },
    "tags": []
   },
   "outputs": [],
   "source": [
    "def filter_sub_universe_data(sub_universe, org_test):\n",
    "    # Keep all rows — no filtering\n",
    "    keep_rows_mask = np.ones(org_test.shape[0], dtype=bool)\n",
    "\n",
    "    print(f\"[INFO] Keeping all rows: {keep_rows_mask.sum()} rows retained.\")\n",
    "    return keep_rows_mask"
   ]
  },
  {
   "cell_type": "code",
   "execution_count": 57,
   "id": "4a759155",
   "metadata": {
    "execution": {
     "iopub.execute_input": "2025-07-16T15:26:40.200541Z",
     "iopub.status.busy": "2025-07-16T15:26:40.200130Z",
     "iopub.status.idle": "2025-07-16T15:26:51.034015Z",
     "shell.execute_reply": "2025-07-16T15:26:51.032726Z"
    },
    "papermill": {
     "duration": 10.85198,
     "end_time": "2025-07-16T15:26:51.035945",
     "exception": false,
     "start_time": "2025-07-16T15:26:40.183965",
     "status": "completed"
    },
    "tags": []
   },
   "outputs": [
    {
     "name": "stdout",
     "output_type": "stream",
     "text": [
      "Stopping execution_time clock.\n",
      "[INFO] Keeping all rows: 89710 rows retained.\n"
     ]
    },
    {
     "name": "stdout",
     "output_type": "stream",
     "text": [
      "[INFO] Keeping all rows: 89710 rows retained.\n"
     ]
    },
    {
     "name": "stdout",
     "output_type": "stream",
     "text": [
      "[INFO] Keeping all rows: 89710 rows retained.\n"
     ]
    },
    {
     "name": "stdout",
     "output_type": "stream",
     "text": [
      "[INFO] Keeping all rows: 89710 rows retained.\n"
     ]
    },
    {
     "data": {
      "text/html": [
       "<div>\n",
       "<style scoped>\n",
       "    .dataframe tbody tr th:only-of-type {\n",
       "        vertical-align: middle;\n",
       "    }\n",
       "\n",
       "    .dataframe tbody tr th {\n",
       "        vertical-align: top;\n",
       "    }\n",
       "\n",
       "    .dataframe thead th {\n",
       "        text-align: right;\n",
       "    }\n",
       "</style>\n",
       "<table border=\"1\" class=\"dataframe\">\n",
       "  <thead>\n",
       "    <tr style=\"text-align: right;\">\n",
       "      <th></th>\n",
       "      <th>run_no</th>\n",
       "      <th>universe_id</th>\n",
       "      <th>universe_settings</th>\n",
       "      <th>execution_time</th>\n",
       "      <th>test_size_n</th>\n",
       "      <th>test_size_frac</th>\n",
       "      <th>fair_main_equalized_odds_difference</th>\n",
       "      <th>fair_main_equalized_odds_ratio</th>\n",
       "      <th>fair_main_demographic_parity_difference</th>\n",
       "      <th>fair_main_demographic_parity_ratio</th>\n",
       "      <th>...</th>\n",
       "      <th>perf_grp_precision_0</th>\n",
       "      <th>perf_grp_precision_1</th>\n",
       "      <th>perf_grp_false positive rate_0</th>\n",
       "      <th>perf_grp_false positive rate_1</th>\n",
       "      <th>perf_grp_false negative rate_0</th>\n",
       "      <th>perf_grp_false negative rate_1</th>\n",
       "      <th>perf_grp_selection rate_0</th>\n",
       "      <th>perf_grp_selection rate_1</th>\n",
       "      <th>perf_grp_count_0</th>\n",
       "      <th>perf_grp_count_1</th>\n",
       "    </tr>\n",
       "  </thead>\n",
       "  <tbody>\n",
       "    <tr>\n",
       "      <th>0</th>\n",
       "      <td>17</td>\n",
       "      <td>04a5873dee9dbd78c41d68119fadece0</td>\n",
       "      <td>{\"cutoff\": \"quantile_0.1\", \"eval_fairness_grou...</td>\n",
       "      <td>42.288735</td>\n",
       "      <td>89710</td>\n",
       "      <td>1.0</td>\n",
       "      <td>0.033586</td>\n",
       "      <td>0.966121</td>\n",
       "      <td>0.024472</td>\n",
       "      <td>0.973981</td>\n",
       "      <td>...</td>\n",
       "      <td>NaN</td>\n",
       "      <td>NaN</td>\n",
       "      <td>NaN</td>\n",
       "      <td>NaN</td>\n",
       "      <td>NaN</td>\n",
       "      <td>NaN</td>\n",
       "      <td>NaN</td>\n",
       "      <td>NaN</td>\n",
       "      <td>NaN</td>\n",
       "      <td>NaN</td>\n",
       "    </tr>\n",
       "    <tr>\n",
       "      <th>0</th>\n",
       "      <td>17</td>\n",
       "      <td>04a5873dee9dbd78c41d68119fadece0</td>\n",
       "      <td>{\"cutoff\": \"quantile_0.1\", \"eval_fairness_grou...</td>\n",
       "      <td>42.288735</td>\n",
       "      <td>89710</td>\n",
       "      <td>1.0</td>\n",
       "      <td>0.033586</td>\n",
       "      <td>0.966121</td>\n",
       "      <td>0.024472</td>\n",
       "      <td>0.973981</td>\n",
       "      <td>...</td>\n",
       "      <td>0.120536</td>\n",
       "      <td>0.139278</td>\n",
       "      <td>0.910632</td>\n",
       "      <td>0.932800</td>\n",
       "      <td>0.042230</td>\n",
       "      <td>0.008643</td>\n",
       "      <td>0.916066</td>\n",
       "      <td>0.940538</td>\n",
       "      <td>20540.0</td>\n",
       "      <td>69170.0</td>\n",
       "    </tr>\n",
       "    <tr>\n",
       "      <th>0</th>\n",
       "      <td>17</td>\n",
       "      <td>04a5873dee9dbd78c41d68119fadece0</td>\n",
       "      <td>{\"cutoff\": \"quantile_0.25\", \"eval_fairness_gro...</td>\n",
       "      <td>42.288735</td>\n",
       "      <td>89710</td>\n",
       "      <td>1.0</td>\n",
       "      <td>0.080687</td>\n",
       "      <td>0.915832</td>\n",
       "      <td>0.041547</td>\n",
       "      <td>0.947580</td>\n",
       "      <td>...</td>\n",
       "      <td>NaN</td>\n",
       "      <td>NaN</td>\n",
       "      <td>NaN</td>\n",
       "      <td>NaN</td>\n",
       "      <td>NaN</td>\n",
       "      <td>NaN</td>\n",
       "      <td>NaN</td>\n",
       "      <td>NaN</td>\n",
       "      <td>NaN</td>\n",
       "      <td>NaN</td>\n",
       "    </tr>\n",
       "    <tr>\n",
       "      <th>0</th>\n",
       "      <td>17</td>\n",
       "      <td>04a5873dee9dbd78c41d68119fadece0</td>\n",
       "      <td>{\"cutoff\": \"quantile_0.25\", \"eval_fairness_gro...</td>\n",
       "      <td>42.288735</td>\n",
       "      <td>89710</td>\n",
       "      <td>1.0</td>\n",
       "      <td>0.080687</td>\n",
       "      <td>0.915832</td>\n",
       "      <td>0.041547</td>\n",
       "      <td>0.947580</td>\n",
       "      <td>...</td>\n",
       "      <td>0.134772</td>\n",
       "      <td>0.159826</td>\n",
       "      <td>0.734482</td>\n",
       "      <td>0.767283</td>\n",
       "      <td>0.122044</td>\n",
       "      <td>0.041357</td>\n",
       "      <td>0.751022</td>\n",
       "      <td>0.792569</td>\n",
       "      <td>20540.0</td>\n",
       "      <td>69170.0</td>\n",
       "    </tr>\n",
       "  </tbody>\n",
       "</table>\n",
       "<p>4 rows × 50 columns</p>\n",
       "</div>"
      ],
      "text/plain": [
       "  run_no                       universe_id  \\\n",
       "0     17  04a5873dee9dbd78c41d68119fadece0   \n",
       "0     17  04a5873dee9dbd78c41d68119fadece0   \n",
       "0     17  04a5873dee9dbd78c41d68119fadece0   \n",
       "0     17  04a5873dee9dbd78c41d68119fadece0   \n",
       "\n",
       "                                   universe_settings  execution_time  \\\n",
       "0  {\"cutoff\": \"quantile_0.1\", \"eval_fairness_grou...       42.288735   \n",
       "0  {\"cutoff\": \"quantile_0.1\", \"eval_fairness_grou...       42.288735   \n",
       "0  {\"cutoff\": \"quantile_0.25\", \"eval_fairness_gro...       42.288735   \n",
       "0  {\"cutoff\": \"quantile_0.25\", \"eval_fairness_gro...       42.288735   \n",
       "\n",
       "   test_size_n  test_size_frac  fair_main_equalized_odds_difference  \\\n",
       "0        89710             1.0                             0.033586   \n",
       "0        89710             1.0                             0.033586   \n",
       "0        89710             1.0                             0.080687   \n",
       "0        89710             1.0                             0.080687   \n",
       "\n",
       "   fair_main_equalized_odds_ratio  fair_main_demographic_parity_difference  \\\n",
       "0                        0.966121                                 0.024472   \n",
       "0                        0.966121                                 0.024472   \n",
       "0                        0.915832                                 0.041547   \n",
       "0                        0.915832                                 0.041547   \n",
       "\n",
       "   fair_main_demographic_parity_ratio  ...  perf_grp_precision_0  \\\n",
       "0                            0.973981  ...                   NaN   \n",
       "0                            0.973981  ...              0.120536   \n",
       "0                            0.947580  ...                   NaN   \n",
       "0                            0.947580  ...              0.134772   \n",
       "\n",
       "   perf_grp_precision_1  perf_grp_false positive rate_0  \\\n",
       "0                   NaN                             NaN   \n",
       "0              0.139278                        0.910632   \n",
       "0                   NaN                             NaN   \n",
       "0              0.159826                        0.734482   \n",
       "\n",
       "   perf_grp_false positive rate_1  perf_grp_false negative rate_0  \\\n",
       "0                             NaN                             NaN   \n",
       "0                        0.932800                        0.042230   \n",
       "0                             NaN                             NaN   \n",
       "0                        0.767283                        0.122044   \n",
       "\n",
       "   perf_grp_false negative rate_1  perf_grp_selection rate_0  \\\n",
       "0                             NaN                        NaN   \n",
       "0                        0.008643                   0.916066   \n",
       "0                             NaN                        NaN   \n",
       "0                        0.041357                   0.751022   \n",
       "\n",
       "   perf_grp_selection rate_1  perf_grp_count_0  perf_grp_count_1  \n",
       "0                        NaN               NaN               NaN  \n",
       "0                   0.940538           20540.0           69170.0  \n",
       "0                        NaN               NaN               NaN  \n",
       "0                   0.792569           20540.0           69170.0  \n",
       "\n",
       "[4 rows x 50 columns]"
      ]
     },
     "execution_count": 57,
     "metadata": {},
     "output_type": "execute_result"
    }
   ],
   "source": [
    "final_output = universe_analysis.generate_final_output(\n",
    "    y_pred_prob=probs_test,\n",
    "    y_test=y_true,\n",
    "    org_test=org_test,\n",
    "    save=True,\n",
    "    filter_data=filter_sub_universe_data\n",
    ")\n",
    "final_output"
   ]
  },
  {
   "cell_type": "code",
   "execution_count": null,
   "id": "721ff514-cb11-46f8-b6fc-50392f74b5cb",
   "metadata": {
    "papermill": {
     "duration": 0.028087,
     "end_time": "2025-07-16T15:26:51.094378",
     "exception": false,
     "start_time": "2025-07-16T15:26:51.066291",
     "status": "completed"
    },
    "tags": []
   },
   "outputs": [],
   "source": []
  }
 ],
 "metadata": {
  "celltoolbar": "Tags",
  "kernelspec": {
   "display_name": "Python (CMA Fairness)",
   "language": "python",
   "name": "cma_fair_env"
  },
  "language_info": {
   "codemirror_mode": {
    "name": "ipython",
    "version": 3
   },
   "file_extension": ".py",
   "mimetype": "text/x-python",
   "name": "python",
   "nbconvert_exporter": "python",
   "pygments_lexer": "ipython3",
   "version": "3.10.12"
  },
  "papermill": {
   "default_parameters": {},
   "duration": 57.360787,
   "end_time": "2025-07-16T15:26:51.941698",
   "environment_variables": {},
   "exception": null,
   "input_path": "universe_analysis.ipynb",
   "output_path": "output/runs/17/notebooks/m_17-04a5873dee9dbd78c41d68119fadece0.ipynb",
   "parameters": {
    "output_dir": "output",
    "run_no": "17",
    "seed": "2023",
    "universe": "{\"cutoff\": [\"quantile_0.1\", \"quantile_0.25\"], \"eval_fairness_grouping\": [\"majority-minority\", \"nationality-all\"], \"exclude_features\": \"none\", \"exclude_subgroups\": \"drop-non-german\", \"model\": \"rf\"}",
    "universe_id": "04a5873dee9dbd78c41d68119fadece0"
   },
   "start_time": "2025-07-16T15:25:54.580911",
   "version": "2.6.0"
  }
 },
 "nbformat": 4,
 "nbformat_minor": 5
}