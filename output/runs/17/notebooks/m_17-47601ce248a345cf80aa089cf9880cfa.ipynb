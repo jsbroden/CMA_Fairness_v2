{
 "cells": [
  {
   "cell_type": "code",
   "execution_count": 1,
   "id": "f159f837-637b-42ba-96b5-ec9a68c44524",
   "metadata": {
    "execution": {
     "iopub.execute_input": "2025-07-16T15:26:52.147420Z",
     "iopub.status.busy": "2025-07-16T15:26:52.146906Z",
     "iopub.status.idle": "2025-07-16T15:26:52.198155Z",
     "shell.execute_reply": "2025-07-16T15:26:52.197257Z"
    },
    "papermill": {
     "duration": 0.071908,
     "end_time": "2025-07-16T15:26:52.199942",
     "exception": false,
     "start_time": "2025-07-16T15:26:52.128034",
     "status": "completed"
    },
    "tags": []
   },
   "outputs": [
    {
     "name": "stdout",
     "output_type": "stream",
     "text": [
      "/dss/dsshome1/0C/ra93lal2/cma/CMA_Fairness_v2\n"
     ]
    },
    {
     "name": "stderr",
     "output_type": "stream",
     "text": [
      "/dss/dsshome1/0C/ra93lal2/.local/share/virtualenvs/CMA_Fairness_v2-3j10GkSs/lib/python3.10/site-packages/IPython/core/magics/osm.py:393: UserWarning: This is now an optional IPython functionality, using bookmarks requires you to install the `pickleshare` library.\n",
      "  bkms = self.shell.db.get('bookmarks', {})\n",
      "/dss/dsshome1/0C/ra93lal2/.local/share/virtualenvs/CMA_Fairness_v2-3j10GkSs/lib/python3.10/site-packages/IPython/core/magics/osm.py:417: UserWarning: This is now an optional IPython functionality, setting dhist requires you to install the `pickleshare` library.\n",
      "  self.shell.db['dhist'] = compress_dhist(dhist)[-100:]\n"
     ]
    }
   ],
   "source": [
    "%cd ~/cma/CMA_Fairness_v2"
   ]
  },
  {
   "cell_type": "markdown",
   "id": "de2603b9",
   "metadata": {
    "papermill": {
     "duration": 0.016229,
     "end_time": "2025-07-16T15:26:52.233338",
     "exception": false,
     "start_time": "2025-07-16T15:26:52.217109",
     "status": "completed"
    },
    "tags": []
   },
   "source": [
    "The following cell holds the definition of our parameters, these values can be overriden by rendering the with e.g. the following command:\n",
    "\n",
    "papermill -p alpha 0.2 -p ratio 0.3 universe_analysis.ipynb output/test_run.ipynb"
   ]
  },
  {
   "cell_type": "code",
   "execution_count": 2,
   "id": "a80968a0-40bb-4fa9-85ef-2d5eefb01975",
   "metadata": {
    "execution": {
     "iopub.execute_input": "2025-07-16T15:26:52.266765Z",
     "iopub.status.busy": "2025-07-16T15:26:52.266055Z",
     "iopub.status.idle": "2025-07-16T15:26:52.272438Z",
     "shell.execute_reply": "2025-07-16T15:26:52.271172Z"
    },
    "papermill": {
     "duration": 0.025523,
     "end_time": "2025-07-16T15:26:52.274555",
     "exception": false,
     "start_time": "2025-07-16T15:26:52.249032",
     "status": "completed"
    },
    "tags": []
   },
   "outputs": [
    {
     "name": "stdout",
     "output_type": "stream",
     "text": [
      "Current working directory: /dss/dsshome1/0C/ra93lal2/cma/CMA_Fairness_v2\n"
     ]
    }
   ],
   "source": [
    "import os\n",
    "print(\"Current working directory:\", os.getcwd())"
   ]
  },
  {
   "cell_type": "code",
   "execution_count": 3,
   "id": "2dce4c03",
   "metadata": {
    "execution": {
     "iopub.execute_input": "2025-07-16T15:26:52.312369Z",
     "iopub.status.busy": "2025-07-16T15:26:52.311653Z",
     "iopub.status.idle": "2025-07-16T15:26:52.318426Z",
     "shell.execute_reply": "2025-07-16T15:26:52.317380Z"
    },
    "papermill": {
     "duration": 0.027109,
     "end_time": "2025-07-16T15:26:52.319842",
     "exception": false,
     "start_time": "2025-07-16T15:26:52.292733",
     "status": "completed"
    },
    "tags": [
     "parameters"
    ]
   },
   "outputs": [],
   "source": [
    "run_no = 0\n",
    "universe_id = \"test\"\n",
    "universe = {\n",
    "    #\"scale\": \"scale\", # \"scale\", \"do-not-scale\",\n",
    "    #\"encode_categorical\": \"one-hot\", # \"ordinal\", \"one-hot\"\n",
    "    \"model\": \"elasticnet\", # \"logreg\", \"penalized_logreg\", \"rf\", \"gbm\", \"elasticnet\"\n",
    "    \"cutoff\": [\"quantile_0.15\", \"quantile_0.30\"],\n",
    "    \"exclude_features\": \"nationality-sex\", # \"none\", \"nationality\", \"sex\", \"nationality-sex\"\n",
    "    \"exclude_subgroups\": \"keep-all\", # \"keep-all\", \"drop-non-german\"\n",
    "    \"eval_fairness_grouping\": [\"majority-minority\", \"nationality-all\"]\n",
    "}\n",
    "\n",
    "output_dir=\"./output\"\n",
    "seed=0"
   ]
  },
  {
   "cell_type": "code",
   "execution_count": 4,
   "id": "a729d2a9",
   "metadata": {
    "execution": {
     "iopub.execute_input": "2025-07-16T15:26:52.340216Z",
     "iopub.status.busy": "2025-07-16T15:26:52.339813Z",
     "iopub.status.idle": "2025-07-16T15:26:52.345336Z",
     "shell.execute_reply": "2025-07-16T15:26:52.344170Z"
    },
    "papermill": {
     "duration": 0.017106,
     "end_time": "2025-07-16T15:26:52.347289",
     "exception": false,
     "start_time": "2025-07-16T15:26:52.330183",
     "status": "completed"
    },
    "tags": [
     "injected-parameters"
    ]
   },
   "outputs": [],
   "source": [
    "# Parameters\n",
    "universe_id = \"47601ce248a345cf80aa089cf9880cfa\"\n",
    "run_no = \"17\"\n",
    "universe = \"{\\\"cutoff\\\": [\\\"quantile_0.1\\\", \\\"quantile_0.25\\\"], \\\"eval_fairness_grouping\\\": [\\\"majority-minority\\\", \\\"nationality-all\\\"], \\\"exclude_features\\\": \\\"nationality-sex\\\", \\\"exclude_subgroups\\\": \\\"drop-non-german\\\", \\\"model\\\": \\\"rf\\\"}\"\n",
    "output_dir = \"output\"\n",
    "seed = \"2023\"\n"
   ]
  },
  {
   "cell_type": "code",
   "execution_count": 5,
   "id": "1650acaf",
   "metadata": {
    "execution": {
     "iopub.execute_input": "2025-07-16T15:26:52.386724Z",
     "iopub.status.busy": "2025-07-16T15:26:52.385631Z",
     "iopub.status.idle": "2025-07-16T15:26:52.391362Z",
     "shell.execute_reply": "2025-07-16T15:26:52.390284Z"
    },
    "papermill": {
     "duration": 0.027075,
     "end_time": "2025-07-16T15:26:52.393416",
     "exception": false,
     "start_time": "2025-07-16T15:26:52.366341",
     "status": "completed"
    },
    "tags": []
   },
   "outputs": [],
   "source": [
    "import json\n",
    "# Parse universe into dict if it is passed as a string\n",
    "if isinstance(universe, str):\n",
    "    universe = json.loads(universe)"
   ]
  },
  {
   "cell_type": "code",
   "execution_count": 6,
   "id": "16620c48",
   "metadata": {
    "execution": {
     "iopub.execute_input": "2025-07-16T15:26:52.429168Z",
     "iopub.status.busy": "2025-07-16T15:26:52.428683Z",
     "iopub.status.idle": "2025-07-16T15:26:52.464718Z",
     "shell.execute_reply": "2025-07-16T15:26:52.463924Z"
    },
    "papermill": {
     "duration": 0.055577,
     "end_time": "2025-07-16T15:26:52.466626",
     "exception": false,
     "start_time": "2025-07-16T15:26:52.411049",
     "status": "completed"
    },
    "tags": []
   },
   "outputs": [],
   "source": [
    "# Auto-reload the custom package\n",
    "%load_ext autoreload\n",
    "%autoreload 1\n",
    "%aimport fairness_multiverse"
   ]
  },
  {
   "cell_type": "code",
   "execution_count": 7,
   "id": "01c5c9f3",
   "metadata": {
    "execution": {
     "iopub.execute_input": "2025-07-16T15:26:52.501420Z",
     "iopub.status.busy": "2025-07-16T15:26:52.500896Z",
     "iopub.status.idle": "2025-07-16T15:26:54.610873Z",
     "shell.execute_reply": "2025-07-16T15:26:54.609801Z"
    },
    "papermill": {
     "duration": 2.129392,
     "end_time": "2025-07-16T15:26:54.613042",
     "exception": false,
     "start_time": "2025-07-16T15:26:52.483650",
     "status": "completed"
    },
    "tags": []
   },
   "outputs": [],
   "source": [
    "from fairness_multiverse.universe import UniverseAnalysis\n",
    "\n",
    "universe_analysis = UniverseAnalysis(\n",
    "    run_no = run_no,\n",
    "    universe_id = universe_id,\n",
    "    universe = universe,\n",
    "    output_dir=output_dir,\n",
    ")"
   ]
  },
  {
   "cell_type": "code",
   "execution_count": 8,
   "id": "106241f5",
   "metadata": {
    "execution": {
     "iopub.execute_input": "2025-07-16T15:26:54.651370Z",
     "iopub.status.busy": "2025-07-16T15:26:54.650799Z",
     "iopub.status.idle": "2025-07-16T15:26:54.658101Z",
     "shell.execute_reply": "2025-07-16T15:26:54.656974Z"
    },
    "papermill": {
     "duration": 0.028091,
     "end_time": "2025-07-16T15:26:54.660095",
     "exception": false,
     "start_time": "2025-07-16T15:26:54.632004",
     "status": "completed"
    },
    "tags": []
   },
   "outputs": [
    {
     "name": "stdout",
     "output_type": "stream",
     "text": [
      "Using Seed: 2023\n"
     ]
    }
   ],
   "source": [
    "import numpy as np\n",
    "parsed_seed = int(seed)\n",
    "np.random.seed(parsed_seed)\n",
    "print(f\"Using Seed: {parsed_seed}\")"
   ]
  },
  {
   "cell_type": "markdown",
   "id": "e0ebdc57",
   "metadata": {
    "papermill": {
     "duration": 0.017891,
     "end_time": "2025-07-16T15:26:54.696983",
     "exception": false,
     "start_time": "2025-07-16T15:26:54.679092",
     "status": "completed"
    },
    "tags": []
   },
   "source": [
    "# Loading Data"
   ]
  },
  {
   "cell_type": "markdown",
   "id": "681925a3",
   "metadata": {
    "papermill": {
     "duration": 0.016957,
     "end_time": "2025-07-16T15:26:54.731486",
     "exception": false,
     "start_time": "2025-07-16T15:26:54.714529",
     "status": "completed"
    },
    "tags": []
   },
   "source": [
    "Load siab_train, siab_test, siab_calib and/or \n",
    "load siab_train_features, siab_train_labels"
   ]
  },
  {
   "cell_type": "code",
   "execution_count": 9,
   "id": "f0496b8a",
   "metadata": {
    "execution": {
     "iopub.execute_input": "2025-07-16T15:26:54.774640Z",
     "iopub.status.busy": "2025-07-16T15:26:54.774086Z",
     "iopub.status.idle": "2025-07-16T15:27:09.099876Z",
     "shell.execute_reply": "2025-07-16T15:27:09.098251Z"
    },
    "papermill": {
     "duration": 14.348742,
     "end_time": "2025-07-16T15:27:09.102775",
     "exception": false,
     "start_time": "2025-07-16T15:26:54.754033",
     "status": "completed"
    },
    "tags": []
   },
   "outputs": [
    {
     "name": "stdout",
     "output_type": "stream",
     "text": [
      "Loading SIAB data from cache: data/siab_cached.csv.gz\n"
     ]
    },
    {
     "name": "stdout",
     "output_type": "stream",
     "text": [
      "(643690, 164)\n"
     ]
    }
   ],
   "source": [
    "# Do I need to load siab? Delete this cell?\n",
    "\n",
    "from pathlib import Path\n",
    "import pandas as pd\n",
    "\n",
    "# File paths\n",
    "raw_file = Path(\"data/raw/siab.csv\")\n",
    "cache_file = Path(\"data/siab_cached.csv.gz\")\n",
    "\n",
    "# Ensure cache directory exists\n",
    "cache_file.parent.mkdir(parents=True, exist_ok=True)\n",
    "\n",
    "# Load with simple caching\n",
    "if cache_file.exists():\n",
    "    print(f\"Loading SIAB data from cache: {cache_file}\")\n",
    "    siab = pd.read_csv(cache_file, compression='gzip')\n",
    "else:\n",
    "    print(f\"Cache not found. Reading raw SIAB data: {raw_file}\")\n",
    "    siab = pd.read_csv(raw_file)\n",
    "    siab.to_csv(cache_file, index=False, compression='gzip')\n",
    "    print(f\"Cached SIAB data to: {cache_file}\")\n",
    "\n",
    "# Now use `siab` DataFrame as needed\n",
    "print(siab.shape)\n"
   ]
  },
  {
   "cell_type": "code",
   "execution_count": 10,
   "id": "a0edb063",
   "metadata": {
    "execution": {
     "iopub.execute_input": "2025-07-16T15:27:09.176734Z",
     "iopub.status.busy": "2025-07-16T15:27:09.176081Z",
     "iopub.status.idle": "2025-07-16T15:27:09.734002Z",
     "shell.execute_reply": "2025-07-16T15:27:09.732671Z"
    },
    "papermill": {
     "duration": 0.606655,
     "end_time": "2025-07-16T15:27:09.735978",
     "exception": false,
     "start_time": "2025-07-16T15:27:09.129323",
     "status": "completed"
    },
    "tags": []
   },
   "outputs": [],
   "source": [
    "import pandas as pd\n",
    "\n",
    "X_train = pd.read_csv(\"./data/X_train.csv\")\n",
    "y_train = pd.read_csv(\"./data/y_train.csv\")"
   ]
  },
  {
   "cell_type": "code",
   "execution_count": 11,
   "id": "63d08085",
   "metadata": {
    "execution": {
     "iopub.execute_input": "2025-07-16T15:27:09.785138Z",
     "iopub.status.busy": "2025-07-16T15:27:09.784552Z",
     "iopub.status.idle": "2025-07-16T15:27:11.981976Z",
     "shell.execute_reply": "2025-07-16T15:27:11.980658Z"
    },
    "papermill": {
     "duration": 2.224433,
     "end_time": "2025-07-16T15:27:11.984281",
     "exception": false,
     "start_time": "2025-07-16T15:27:09.759848",
     "status": "completed"
    },
    "tags": []
   },
   "outputs": [],
   "source": [
    "X_test = pd.read_csv(\"./data/X_test.csv\")\n",
    "y_true = pd.read_csv(\"./data/y_test.csv\")"
   ]
  },
  {
   "cell_type": "code",
   "execution_count": 12,
   "id": "98a8d0fa-1d3d-4ed8-bb2c-281470e24add",
   "metadata": {
    "execution": {
     "iopub.execute_input": "2025-07-16T15:27:12.040530Z",
     "iopub.status.busy": "2025-07-16T15:27:12.039990Z",
     "iopub.status.idle": "2025-07-16T15:27:14.781871Z",
     "shell.execute_reply": "2025-07-16T15:27:14.780657Z"
    },
    "papermill": {
     "duration": 2.778606,
     "end_time": "2025-07-16T15:27:14.783902",
     "exception": false,
     "start_time": "2025-07-16T15:27:12.005296",
     "status": "completed"
    },
    "tags": []
   },
   "outputs": [],
   "source": [
    "# Calibration data for conformal\n",
    "X_calib = pd.read_csv(\"./data/X_calib.csv\")\n",
    "y_calib = pd.read_csv(\"./data/y_calib.csv\")"
   ]
  },
  {
   "cell_type": "code",
   "execution_count": 13,
   "id": "e6c733c5",
   "metadata": {
    "execution": {
     "iopub.execute_input": "2025-07-16T15:27:14.867511Z",
     "iopub.status.busy": "2025-07-16T15:27:14.866963Z",
     "iopub.status.idle": "2025-07-16T15:27:15.050571Z",
     "shell.execute_reply": "2025-07-16T15:27:15.049408Z"
    },
    "papermill": {
     "duration": 0.242314,
     "end_time": "2025-07-16T15:27:15.053861",
     "exception": false,
     "start_time": "2025-07-16T15:27:14.811547",
     "status": "completed"
    },
    "tags": []
   },
   "outputs": [],
   "source": [
    "# Auxiliary data needed downstream in the pipeline\n",
    "\n",
    "org_train = X_train.copy()\n",
    "org_test = X_test.copy()\n",
    "org_calib = X_calib.copy()"
   ]
  },
  {
   "cell_type": "code",
   "execution_count": 14,
   "id": "e33f5cce",
   "metadata": {
    "execution": {
     "iopub.execute_input": "2025-07-16T15:27:15.141671Z",
     "iopub.status.busy": "2025-07-16T15:27:15.141210Z",
     "iopub.status.idle": "2025-07-16T15:27:15.350853Z",
     "shell.execute_reply": "2025-07-16T15:27:15.349875Z"
    },
    "papermill": {
     "duration": 0.254613,
     "end_time": "2025-07-16T15:27:15.352537",
     "exception": false,
     "start_time": "2025-07-16T15:27:15.097924",
     "status": "completed"
    },
    "tags": []
   },
   "outputs": [
    {
     "data": {
      "text/html": [
       "<div>\n",
       "<style scoped>\n",
       "    .dataframe tbody tr th:only-of-type {\n",
       "        vertical-align: middle;\n",
       "    }\n",
       "\n",
       "    .dataframe tbody tr th {\n",
       "        vertical-align: top;\n",
       "    }\n",
       "\n",
       "    .dataframe thead th {\n",
       "        text-align: right;\n",
       "    }\n",
       "</style>\n",
       "<table border=\"1\" class=\"dataframe\">\n",
       "  <thead>\n",
       "    <tr style=\"text-align: right;\">\n",
       "      <th></th>\n",
       "      <th>persnr</th>\n",
       "      <th>year</th>\n",
       "      <th>nrEntry</th>\n",
       "      <th>ltue</th>\n",
       "      <th>employed_before</th>\n",
       "      <th>receipt_leh_before</th>\n",
       "      <th>receipt_lhg_before</th>\n",
       "      <th>se_before</th>\n",
       "      <th>ASU_notue_seeking_before</th>\n",
       "      <th>ASU_other_before</th>\n",
       "      <th>...</th>\n",
       "      <th>minijob_tot_dur_byage</th>\n",
       "      <th>ft_tot_dur_byage</th>\n",
       "      <th>befrist_tot_dur_byage</th>\n",
       "      <th>leih_tot_dur_byage</th>\n",
       "      <th>LHG_tot_dur_byage</th>\n",
       "      <th>LEH_tot_dur_byage</th>\n",
       "      <th>almp_tot_dur_byage</th>\n",
       "      <th>almp_aw_tot_dur_byage</th>\n",
       "      <th>se_tot_dur_byage</th>\n",
       "      <th>seeking1_tot_dur_byage</th>\n",
       "    </tr>\n",
       "  </thead>\n",
       "  <tbody>\n",
       "    <tr>\n",
       "      <th>0</th>\n",
       "      <td>7</td>\n",
       "      <td>2015</td>\n",
       "      <td>1</td>\n",
       "      <td>0</td>\n",
       "      <td>1</td>\n",
       "      <td>0</td>\n",
       "      <td>0</td>\n",
       "      <td>0</td>\n",
       "      <td>1</td>\n",
       "      <td>0</td>\n",
       "      <td>...</td>\n",
       "      <td>0.000000</td>\n",
       "      <td>0.000000</td>\n",
       "      <td>15.043478</td>\n",
       "      <td>0.000000</td>\n",
       "      <td>0.000000</td>\n",
       "      <td>0.000000</td>\n",
       "      <td>0.000000</td>\n",
       "      <td>0.000000</td>\n",
       "      <td>0.000000</td>\n",
       "      <td>0.000000</td>\n",
       "    </tr>\n",
       "    <tr>\n",
       "      <th>1</th>\n",
       "      <td>18</td>\n",
       "      <td>2010</td>\n",
       "      <td>1</td>\n",
       "      <td>1</td>\n",
       "      <td>0</td>\n",
       "      <td>0</td>\n",
       "      <td>0</td>\n",
       "      <td>0</td>\n",
       "      <td>0</td>\n",
       "      <td>0</td>\n",
       "      <td>...</td>\n",
       "      <td>0.000000</td>\n",
       "      <td>0.000000</td>\n",
       "      <td>0.000000</td>\n",
       "      <td>0.000000</td>\n",
       "      <td>0.000000</td>\n",
       "      <td>0.000000</td>\n",
       "      <td>0.000000</td>\n",
       "      <td>0.000000</td>\n",
       "      <td>0.000000</td>\n",
       "      <td>0.000000</td>\n",
       "    </tr>\n",
       "    <tr>\n",
       "      <th>2</th>\n",
       "      <td>18</td>\n",
       "      <td>2011</td>\n",
       "      <td>2</td>\n",
       "      <td>0</td>\n",
       "      <td>1</td>\n",
       "      <td>0</td>\n",
       "      <td>1</td>\n",
       "      <td>0</td>\n",
       "      <td>1</td>\n",
       "      <td>0</td>\n",
       "      <td>...</td>\n",
       "      <td>2.714286</td>\n",
       "      <td>2.714286</td>\n",
       "      <td>0.000000</td>\n",
       "      <td>0.000000</td>\n",
       "      <td>10.775510</td>\n",
       "      <td>0.000000</td>\n",
       "      <td>8.367347</td>\n",
       "      <td>0.000000</td>\n",
       "      <td>0.000000</td>\n",
       "      <td>9.836735</td>\n",
       "    </tr>\n",
       "    <tr>\n",
       "      <th>3</th>\n",
       "      <td>18</td>\n",
       "      <td>2012</td>\n",
       "      <td>3</td>\n",
       "      <td>0</td>\n",
       "      <td>1</td>\n",
       "      <td>0</td>\n",
       "      <td>1</td>\n",
       "      <td>0</td>\n",
       "      <td>1</td>\n",
       "      <td>0</td>\n",
       "      <td>...</td>\n",
       "      <td>4.200000</td>\n",
       "      <td>4.200000</td>\n",
       "      <td>0.000000</td>\n",
       "      <td>0.000000</td>\n",
       "      <td>12.100000</td>\n",
       "      <td>0.000000</td>\n",
       "      <td>9.400000</td>\n",
       "      <td>0.000000</td>\n",
       "      <td>0.000000</td>\n",
       "      <td>9.960000</td>\n",
       "    </tr>\n",
       "    <tr>\n",
       "      <th>4</th>\n",
       "      <td>18</td>\n",
       "      <td>2012</td>\n",
       "      <td>4</td>\n",
       "      <td>0</td>\n",
       "      <td>1</td>\n",
       "      <td>0</td>\n",
       "      <td>1</td>\n",
       "      <td>0</td>\n",
       "      <td>1</td>\n",
       "      <td>0</td>\n",
       "      <td>...</td>\n",
       "      <td>5.460000</td>\n",
       "      <td>5.460000</td>\n",
       "      <td>0.000000</td>\n",
       "      <td>0.000000</td>\n",
       "      <td>13.360000</td>\n",
       "      <td>0.000000</td>\n",
       "      <td>10.320000</td>\n",
       "      <td>0.000000</td>\n",
       "      <td>0.000000</td>\n",
       "      <td>10.280000</td>\n",
       "    </tr>\n",
       "    <tr>\n",
       "      <th>...</th>\n",
       "      <td>...</td>\n",
       "      <td>...</td>\n",
       "      <td>...</td>\n",
       "      <td>...</td>\n",
       "      <td>...</td>\n",
       "      <td>...</td>\n",
       "      <td>...</td>\n",
       "      <td>...</td>\n",
       "      <td>...</td>\n",
       "      <td>...</td>\n",
       "      <td>...</td>\n",
       "      <td>...</td>\n",
       "      <td>...</td>\n",
       "      <td>...</td>\n",
       "      <td>...</td>\n",
       "      <td>...</td>\n",
       "      <td>...</td>\n",
       "      <td>...</td>\n",
       "      <td>...</td>\n",
       "      <td>...</td>\n",
       "      <td>...</td>\n",
       "    </tr>\n",
       "    <tr>\n",
       "      <th>643685</th>\n",
       "      <td>1827860</td>\n",
       "      <td>2013</td>\n",
       "      <td>1</td>\n",
       "      <td>0</td>\n",
       "      <td>0</td>\n",
       "      <td>0</td>\n",
       "      <td>1</td>\n",
       "      <td>0</td>\n",
       "      <td>0</td>\n",
       "      <td>1</td>\n",
       "      <td>...</td>\n",
       "      <td>0.000000</td>\n",
       "      <td>0.000000</td>\n",
       "      <td>0.000000</td>\n",
       "      <td>0.000000</td>\n",
       "      <td>0.612903</td>\n",
       "      <td>0.000000</td>\n",
       "      <td>0.000000</td>\n",
       "      <td>0.000000</td>\n",
       "      <td>0.000000</td>\n",
       "      <td>0.000000</td>\n",
       "    </tr>\n",
       "    <tr>\n",
       "      <th>643686</th>\n",
       "      <td>1827860</td>\n",
       "      <td>2015</td>\n",
       "      <td>2</td>\n",
       "      <td>1</td>\n",
       "      <td>0</td>\n",
       "      <td>0</td>\n",
       "      <td>1</td>\n",
       "      <td>0</td>\n",
       "      <td>1</td>\n",
       "      <td>0</td>\n",
       "      <td>...</td>\n",
       "      <td>0.000000</td>\n",
       "      <td>0.000000</td>\n",
       "      <td>0.212121</td>\n",
       "      <td>0.212121</td>\n",
       "      <td>17.363636</td>\n",
       "      <td>0.000000</td>\n",
       "      <td>8.909091</td>\n",
       "      <td>0.000000</td>\n",
       "      <td>0.000000</td>\n",
       "      <td>7.121212</td>\n",
       "    </tr>\n",
       "    <tr>\n",
       "      <th>643687</th>\n",
       "      <td>1827860</td>\n",
       "      <td>2016</td>\n",
       "      <td>3</td>\n",
       "      <td>1</td>\n",
       "      <td>0</td>\n",
       "      <td>0</td>\n",
       "      <td>1</td>\n",
       "      <td>1</td>\n",
       "      <td>0</td>\n",
       "      <td>1</td>\n",
       "      <td>...</td>\n",
       "      <td>0.000000</td>\n",
       "      <td>0.000000</td>\n",
       "      <td>0.294118</td>\n",
       "      <td>0.205882</td>\n",
       "      <td>34.705882</td>\n",
       "      <td>0.000000</td>\n",
       "      <td>10.352941</td>\n",
       "      <td>1.705882</td>\n",
       "      <td>1.705882</td>\n",
       "      <td>23.911765</td>\n",
       "    </tr>\n",
       "    <tr>\n",
       "      <th>643688</th>\n",
       "      <td>1827869</td>\n",
       "      <td>2013</td>\n",
       "      <td>1</td>\n",
       "      <td>1</td>\n",
       "      <td>1</td>\n",
       "      <td>0</td>\n",
       "      <td>0</td>\n",
       "      <td>0</td>\n",
       "      <td>1</td>\n",
       "      <td>0</td>\n",
       "      <td>...</td>\n",
       "      <td>0.000000</td>\n",
       "      <td>0.000000</td>\n",
       "      <td>0.000000</td>\n",
       "      <td>0.000000</td>\n",
       "      <td>0.000000</td>\n",
       "      <td>0.525424</td>\n",
       "      <td>0.000000</td>\n",
       "      <td>0.000000</td>\n",
       "      <td>0.000000</td>\n",
       "      <td>0.000000</td>\n",
       "    </tr>\n",
       "    <tr>\n",
       "      <th>643689</th>\n",
       "      <td>1827869</td>\n",
       "      <td>2014</td>\n",
       "      <td>2</td>\n",
       "      <td>0</td>\n",
       "      <td>0</td>\n",
       "      <td>1</td>\n",
       "      <td>0</td>\n",
       "      <td>0</td>\n",
       "      <td>1</td>\n",
       "      <td>0</td>\n",
       "      <td>...</td>\n",
       "      <td>0.000000</td>\n",
       "      <td>0.666667</td>\n",
       "      <td>0.666667</td>\n",
       "      <td>0.000000</td>\n",
       "      <td>0.000000</td>\n",
       "      <td>8.950000</td>\n",
       "      <td>1.033333</td>\n",
       "      <td>0.083333</td>\n",
       "      <td>0.083333</td>\n",
       "      <td>8.133333</td>\n",
       "    </tr>\n",
       "  </tbody>\n",
       "</table>\n",
       "<p>643690 rows × 164 columns</p>\n",
       "</div>"
      ],
      "text/plain": [
       "         persnr  year  nrEntry  ltue  employed_before  receipt_leh_before  \\\n",
       "0             7  2015        1     0                1                   0   \n",
       "1            18  2010        1     1                0                   0   \n",
       "2            18  2011        2     0                1                   0   \n",
       "3            18  2012        3     0                1                   0   \n",
       "4            18  2012        4     0                1                   0   \n",
       "...         ...   ...      ...   ...              ...                 ...   \n",
       "643685  1827860  2013        1     0                0                   0   \n",
       "643686  1827860  2015        2     1                0                   0   \n",
       "643687  1827860  2016        3     1                0                   0   \n",
       "643688  1827869  2013        1     1                1                   0   \n",
       "643689  1827869  2014        2     0                0                   1   \n",
       "\n",
       "        receipt_lhg_before  se_before  ASU_notue_seeking_before  \\\n",
       "0                        0          0                         1   \n",
       "1                        0          0                         0   \n",
       "2                        1          0                         1   \n",
       "3                        1          0                         1   \n",
       "4                        1          0                         1   \n",
       "...                    ...        ...                       ...   \n",
       "643685                   1          0                         0   \n",
       "643686                   1          0                         1   \n",
       "643687                   1          1                         0   \n",
       "643688                   0          0                         1   \n",
       "643689                   0          0                         1   \n",
       "\n",
       "        ASU_other_before  ...  minijob_tot_dur_byage  ft_tot_dur_byage  \\\n",
       "0                      0  ...               0.000000          0.000000   \n",
       "1                      0  ...               0.000000          0.000000   \n",
       "2                      0  ...               2.714286          2.714286   \n",
       "3                      0  ...               4.200000          4.200000   \n",
       "4                      0  ...               5.460000          5.460000   \n",
       "...                  ...  ...                    ...               ...   \n",
       "643685                 1  ...               0.000000          0.000000   \n",
       "643686                 0  ...               0.000000          0.000000   \n",
       "643687                 1  ...               0.000000          0.000000   \n",
       "643688                 0  ...               0.000000          0.000000   \n",
       "643689                 0  ...               0.000000          0.666667   \n",
       "\n",
       "        befrist_tot_dur_byage  leih_tot_dur_byage  LHG_tot_dur_byage  \\\n",
       "0                   15.043478            0.000000           0.000000   \n",
       "1                    0.000000            0.000000           0.000000   \n",
       "2                    0.000000            0.000000          10.775510   \n",
       "3                    0.000000            0.000000          12.100000   \n",
       "4                    0.000000            0.000000          13.360000   \n",
       "...                       ...                 ...                ...   \n",
       "643685               0.000000            0.000000           0.612903   \n",
       "643686               0.212121            0.212121          17.363636   \n",
       "643687               0.294118            0.205882          34.705882   \n",
       "643688               0.000000            0.000000           0.000000   \n",
       "643689               0.666667            0.000000           0.000000   \n",
       "\n",
       "        LEH_tot_dur_byage  almp_tot_dur_byage  almp_aw_tot_dur_byage  \\\n",
       "0                0.000000            0.000000               0.000000   \n",
       "1                0.000000            0.000000               0.000000   \n",
       "2                0.000000            8.367347               0.000000   \n",
       "3                0.000000            9.400000               0.000000   \n",
       "4                0.000000           10.320000               0.000000   \n",
       "...                   ...                 ...                    ...   \n",
       "643685           0.000000            0.000000               0.000000   \n",
       "643686           0.000000            8.909091               0.000000   \n",
       "643687           0.000000           10.352941               1.705882   \n",
       "643688           0.525424            0.000000               0.000000   \n",
       "643689           8.950000            1.033333               0.083333   \n",
       "\n",
       "        se_tot_dur_byage  seeking1_tot_dur_byage  \n",
       "0               0.000000                0.000000  \n",
       "1               0.000000                0.000000  \n",
       "2               0.000000                9.836735  \n",
       "3               0.000000                9.960000  \n",
       "4               0.000000               10.280000  \n",
       "...                  ...                     ...  \n",
       "643685          0.000000                0.000000  \n",
       "643686          0.000000                7.121212  \n",
       "643687          1.705882               23.911765  \n",
       "643688          0.000000                0.000000  \n",
       "643689          0.083333                8.133333  \n",
       "\n",
       "[643690 rows x 164 columns]"
      ]
     },
     "execution_count": 14,
     "metadata": {},
     "output_type": "execute_result"
    }
   ],
   "source": [
    "siab"
   ]
  },
  {
   "cell_type": "markdown",
   "id": "ad49c3ce",
   "metadata": {
    "papermill": {
     "duration": 0.044428,
     "end_time": "2025-07-16T15:27:15.441262",
     "exception": false,
     "start_time": "2025-07-16T15:27:15.396834",
     "status": "completed"
    },
    "tags": []
   },
   "source": [
    "Pre-Processing for Selected Task -> skipped. I think I don't need this"
   ]
  },
  {
   "cell_type": "markdown",
   "id": "0a4a1b33",
   "metadata": {
    "papermill": {
     "duration": 0.033244,
     "end_time": "2025-07-16T15:27:15.546632",
     "exception": false,
     "start_time": "2025-07-16T15:27:15.513388",
     "status": "completed"
    },
    "tags": []
   },
   "source": [
    "# Preprocessing Data"
   ]
  },
  {
   "cell_type": "code",
   "execution_count": 15,
   "id": "ca879031",
   "metadata": {
    "execution": {
     "iopub.execute_input": "2025-07-16T15:27:15.655225Z",
     "iopub.status.busy": "2025-07-16T15:27:15.654771Z",
     "iopub.status.idle": "2025-07-16T15:27:15.662138Z",
     "shell.execute_reply": "2025-07-16T15:27:15.660150Z"
    },
    "papermill": {
     "duration": 0.074868,
     "end_time": "2025-07-16T15:27:15.663973",
     "exception": false,
     "start_time": "2025-07-16T15:27:15.589105",
     "status": "completed"
    },
    "tags": []
   },
   "outputs": [],
   "source": [
    "# EXCLUDE PROTECTED FEATURES\n",
    "# ----------------------\n",
    "# \"exclude_features\": \"none\", # \"nationality\", \"sex\", \"nationality-sex\"\n",
    "\n",
    "excluded_features = universe[\"exclude_features\"].split(\"-\") # split, e.g.: \"nationality-sex\" -> [\"nationality\", \"sex\"]\n",
    "excluded_features_dictionary = {\n",
    "    \"nationality\": [\"maxdeutsch1\", \"maxdeutsch.Missing.\"],\n",
    "    \"sex\": [\"frau1\"],\n",
    "}\n"
   ]
  },
  {
   "cell_type": "code",
   "execution_count": 16,
   "id": "b745ac60",
   "metadata": {
    "execution": {
     "iopub.execute_input": "2025-07-16T15:27:15.755051Z",
     "iopub.status.busy": "2025-07-16T15:27:15.754637Z",
     "iopub.status.idle": "2025-07-16T15:27:15.760856Z",
     "shell.execute_reply": "2025-07-16T15:27:15.759502Z"
    },
    "papermill": {
     "duration": 0.041846,
     "end_time": "2025-07-16T15:27:15.762750",
     "exception": false,
     "start_time": "2025-07-16T15:27:15.720904",
     "status": "completed"
    },
    "tags": []
   },
   "outputs": [],
   "source": [
    "# Code nice names to column names\n",
    "\n",
    "excluded_features_columns = [\n",
    "    excluded_features_dictionary[f] for f in excluded_features if len(f) > 0 and f != \"none\"\n",
    "]"
   ]
  },
  {
   "cell_type": "code",
   "execution_count": 17,
   "id": "f84f73a2",
   "metadata": {
    "execution": {
     "iopub.execute_input": "2025-07-16T15:27:15.844819Z",
     "iopub.status.busy": "2025-07-16T15:27:15.844320Z",
     "iopub.status.idle": "2025-07-16T15:27:15.851657Z",
     "shell.execute_reply": "2025-07-16T15:27:15.850422Z"
    },
    "papermill": {
     "duration": 0.036896,
     "end_time": "2025-07-16T15:27:15.855607",
     "exception": false,
     "start_time": "2025-07-16T15:27:15.818711",
     "status": "completed"
    },
    "tags": []
   },
   "outputs": [],
   "source": [
    "from utils import flatten_once\n",
    "\n",
    "excluded_features_columns = flatten_once(excluded_features_columns)"
   ]
  },
  {
   "cell_type": "code",
   "execution_count": 18,
   "id": "884dea22",
   "metadata": {
    "execution": {
     "iopub.execute_input": "2025-07-16T15:27:15.896103Z",
     "iopub.status.busy": "2025-07-16T15:27:15.895621Z",
     "iopub.status.idle": "2025-07-16T15:27:15.927055Z",
     "shell.execute_reply": "2025-07-16T15:27:15.925718Z"
    },
    "papermill": {
     "duration": 0.053729,
     "end_time": "2025-07-16T15:27:15.929252",
     "exception": false,
     "start_time": "2025-07-16T15:27:15.875523",
     "status": "completed"
    },
    "tags": []
   },
   "outputs": [
    {
     "name": "stdout",
     "output_type": "stream",
     "text": [
      "Dropping features: ['maxdeutsch1', 'maxdeutsch.Missing.', 'frau1']\n"
     ]
    }
   ],
   "source": [
    "if len(excluded_features_columns) > 0:\n",
    "    print(f\"Dropping features: {excluded_features_columns}\")\n",
    "    X_train.drop(excluded_features_columns, axis=1, inplace=True)"
   ]
  },
  {
   "cell_type": "code",
   "execution_count": 19,
   "id": "95ab8b16",
   "metadata": {
    "execution": {
     "iopub.execute_input": "2025-07-16T15:27:15.971861Z",
     "iopub.status.busy": "2025-07-16T15:27:15.971439Z",
     "iopub.status.idle": "2025-07-16T15:27:16.061001Z",
     "shell.execute_reply": "2025-07-16T15:27:16.059819Z"
    },
    "papermill": {
     "duration": 0.111855,
     "end_time": "2025-07-16T15:27:16.063601",
     "exception": false,
     "start_time": "2025-07-16T15:27:15.951746",
     "status": "completed"
    },
    "tags": []
   },
   "outputs": [
    {
     "name": "stdout",
     "output_type": "stream",
     "text": [
      "Dropping features: ['maxdeutsch1', 'maxdeutsch.Missing.', 'frau1']\n"
     ]
    }
   ],
   "source": [
    "if len(excluded_features_columns) > 0:\n",
    "    print(f\"Dropping features: {excluded_features_columns}\")\n",
    "    X_test.drop(excluded_features_columns, axis=1, inplace=True)"
   ]
  },
  {
   "cell_type": "code",
   "execution_count": 20,
   "id": "1853aaf5-fb9f-46cb-a2b5-8ea4ae2237e4",
   "metadata": {
    "execution": {
     "iopub.execute_input": "2025-07-16T15:27:16.132007Z",
     "iopub.status.busy": "2025-07-16T15:27:16.131584Z",
     "iopub.status.idle": "2025-07-16T15:27:16.251204Z",
     "shell.execute_reply": "2025-07-16T15:27:16.249784Z"
    },
    "papermill": {
     "duration": 0.15435,
     "end_time": "2025-07-16T15:27:16.253930",
     "exception": false,
     "start_time": "2025-07-16T15:27:16.099580",
     "status": "completed"
    },
    "tags": []
   },
   "outputs": [
    {
     "name": "stdout",
     "output_type": "stream",
     "text": [
      "Dropping features: ['maxdeutsch1', 'maxdeutsch.Missing.', 'frau1']\n"
     ]
    }
   ],
   "source": [
    "if len(excluded_features_columns) > 0:\n",
    "    print(f\"Dropping features: {excluded_features_columns}\")\n",
    "    X_calib.drop(excluded_features_columns, axis=1, inplace=True)"
   ]
  },
  {
   "cell_type": "code",
   "execution_count": 21,
   "id": "76c4dc6d",
   "metadata": {
    "execution": {
     "iopub.execute_input": "2025-07-16T15:27:16.359439Z",
     "iopub.status.busy": "2025-07-16T15:27:16.358904Z",
     "iopub.status.idle": "2025-07-16T15:27:16.365509Z",
     "shell.execute_reply": "2025-07-16T15:27:16.364303Z"
    },
    "papermill": {
     "duration": 0.073062,
     "end_time": "2025-07-16T15:27:16.369038",
     "exception": false,
     "start_time": "2025-07-16T15:27:16.295976",
     "status": "completed"
    },
    "tags": []
   },
   "outputs": [],
   "source": [
    "# EXCLUDE CERTAIN SUBGROUPS\n",
    "# ----------------------\n",
    "\n",
    "mode = universe.get(\"exclude_subgroups\", \"keep-all\") \n",
    "# Fetches the exclude_subgroups setting from the universe dict.\n",
    "# Defaults to \"keep-all\" if the key is missing."
   ]
  },
  {
   "cell_type": "code",
   "execution_count": 22,
   "id": "21994072",
   "metadata": {
    "execution": {
     "iopub.execute_input": "2025-07-16T15:27:16.486025Z",
     "iopub.status.busy": "2025-07-16T15:27:16.485588Z",
     "iopub.status.idle": "2025-07-16T15:27:16.494254Z",
     "shell.execute_reply": "2025-07-16T15:27:16.493027Z"
    },
    "papermill": {
     "duration": 0.073881,
     "end_time": "2025-07-16T15:27:16.496359",
     "exception": false,
     "start_time": "2025-07-16T15:27:16.422478",
     "status": "completed"
    },
    "tags": []
   },
   "outputs": [],
   "source": [
    "if mode == \"keep-all\":\n",
    "    keep_mask = pd.Series(True, index=org_train.index)\n",
    "\n",
    "# org_train contains the original feature columns from features_org (in Simson)\n",
    "# features_org contains unprocessed features, for me X_train at beginning ???\n",
    "# For keep-all, creates a boolean Series (keep_mask) of all True, so no rows are removed.\n",
    "\n",
    "elif mode == \"drop-non-german\":\n",
    "    keep_mask = org_train[\"maxdeutsch1\"] == 1 # ??? what about missing values?\n",
    "\n",
    "else:\n",
    "    raise ValueError(f\"Unsupported mode for exclude_subgroups: {mode}\")\n"
   ]
  },
  {
   "cell_type": "code",
   "execution_count": 23,
   "id": "71651440",
   "metadata": {
    "execution": {
     "iopub.execute_input": "2025-07-16T15:27:16.587543Z",
     "iopub.status.busy": "2025-07-16T15:27:16.586967Z",
     "iopub.status.idle": "2025-07-16T15:27:16.595783Z",
     "shell.execute_reply": "2025-07-16T15:27:16.594629Z"
    },
    "papermill": {
     "duration": 0.047557,
     "end_time": "2025-07-16T15:27:16.598668",
     "exception": false,
     "start_time": "2025-07-16T15:27:16.551111",
     "status": "completed"
    },
    "tags": []
   },
   "outputs": [
    {
     "name": "stdout",
     "output_type": "stream",
     "text": [
      "Dropping 3312 rows (13.25%) where mode='drop-non-german'\n"
     ]
    }
   ],
   "source": [
    "n_drop = (~keep_mask).sum() # Calculates how many rows are set to be dropped\n",
    "if n_drop > 0:\n",
    "    pct = n_drop / len(keep_mask) * 100\n",
    "    print(f\"Dropping {n_drop} rows ({pct:.2f}%) where mode='{mode}'\")"
   ]
  },
  {
   "cell_type": "code",
   "execution_count": 24,
   "id": "5fb8eee5",
   "metadata": {
    "execution": {
     "iopub.execute_input": "2025-07-16T15:27:16.641477Z",
     "iopub.status.busy": "2025-07-16T15:27:16.640867Z",
     "iopub.status.idle": "2025-07-16T15:27:16.669142Z",
     "shell.execute_reply": "2025-07-16T15:27:16.667930Z"
    },
    "papermill": {
     "duration": 0.05248,
     "end_time": "2025-07-16T15:27:16.671404",
     "exception": false,
     "start_time": "2025-07-16T15:27:16.618924",
     "status": "completed"
    },
    "tags": []
   },
   "outputs": [],
   "source": [
    "X_train = X_train[keep_mask]"
   ]
  },
  {
   "cell_type": "code",
   "execution_count": 25,
   "id": "b202bb3a",
   "metadata": {
    "execution": {
     "iopub.execute_input": "2025-07-16T15:27:16.730744Z",
     "iopub.status.busy": "2025-07-16T15:27:16.730281Z",
     "iopub.status.idle": "2025-07-16T15:27:16.740758Z",
     "shell.execute_reply": "2025-07-16T15:27:16.739406Z"
    },
    "papermill": {
     "duration": 0.051049,
     "end_time": "2025-07-16T15:27:16.742812",
     "exception": false,
     "start_time": "2025-07-16T15:27:16.691763",
     "status": "completed"
    },
    "tags": []
   },
   "outputs": [],
   "source": [
    "y_train = y_train[keep_mask]"
   ]
  },
  {
   "cell_type": "markdown",
   "id": "493e2ac3",
   "metadata": {
    "papermill": {
     "duration": 0.019784,
     "end_time": "2025-07-16T15:27:16.784219",
     "exception": false,
     "start_time": "2025-07-16T15:27:16.764435",
     "status": "completed"
    },
    "tags": []
   },
   "source": [
    "# Model Training"
   ]
  },
  {
   "cell_type": "code",
   "execution_count": 26,
   "id": "679e1268",
   "metadata": {
    "execution": {
     "iopub.execute_input": "2025-07-16T15:27:16.828078Z",
     "iopub.status.busy": "2025-07-16T15:27:16.827591Z",
     "iopub.status.idle": "2025-07-16T15:27:17.028671Z",
     "shell.execute_reply": "2025-07-16T15:27:17.014675Z"
    },
    "papermill": {
     "duration": 0.225621,
     "end_time": "2025-07-16T15:27:17.030970",
     "exception": false,
     "start_time": "2025-07-16T15:27:16.805349",
     "status": "completed"
    },
    "tags": []
   },
   "outputs": [],
   "source": [
    "from sklearn.linear_model import LogisticRegression\n",
    "from sklearn.ensemble import GradientBoostingClassifier, RandomForestClassifier\n",
    "\n",
    "if (universe[\"model\"] == \"logreg\"):\n",
    "    model = LogisticRegression() #penalty=\"none\") #, solver=\"newton-cg\", max_iter=1) # include random_state=19 ?\n",
    "elif (universe[\"model\"] == \"penalized_logreg\"):\n",
    "    model = LogisticRegression(penalty=\"l2\", C=1.0) #, solver=\"newton-cg\", max_iter=1)\n",
    "elif (universe[\"model\"] == \"rf\"):\n",
    "    model = RandomForestClassifier(n_estimators=100, n_jobs=-1)\n",
    "elif (universe[\"model\"] == \"gbm\"):\n",
    "    model = GradientBoostingClassifier()\n",
    "elif (universe[\"model\"] == \"elasticnet\"):\n",
    "    model = LogisticRegression(penalty = 'elasticnet', solver = 'saga', l1_ratio = 0.5, max_iter=5000) # which solver to use?\n",
    "else:\n",
    "    raise \"Unsupported universe.model\""
   ]
  },
  {
   "cell_type": "code",
   "execution_count": 27,
   "id": "0cc8f744",
   "metadata": {
    "execution": {
     "iopub.execute_input": "2025-07-16T15:27:17.119433Z",
     "iopub.status.busy": "2025-07-16T15:27:17.119003Z",
     "iopub.status.idle": "2025-07-16T15:27:17.126028Z",
     "shell.execute_reply": "2025-07-16T15:27:17.124912Z"
    },
    "papermill": {
     "duration": 0.053474,
     "end_time": "2025-07-16T15:27:17.127818",
     "exception": false,
     "start_time": "2025-07-16T15:27:17.074344",
     "status": "completed"
    },
    "tags": []
   },
   "outputs": [],
   "source": [
    "import numpy as np\n",
    "from sklearn.pipeline import Pipeline\n",
    "from sklearn.preprocessing import StandardScaler\n",
    "from sklearn.metrics import accuracy_score\n",
    "\n",
    "model = Pipeline([\n",
    "    #(\"continuous_processor\", continuous_processor),\n",
    "    #(\"categorical_preprocessor\", categorical_preprocessor),\n",
    "    #(\"scale\", StandardScaler() if universe[\"scale\"] == \"scale\" else None),\n",
    "    (\"model\", model),\n",
    "])"
   ]
  },
  {
   "cell_type": "code",
   "execution_count": 28,
   "id": "9442c04d",
   "metadata": {
    "execution": {
     "iopub.execute_input": "2025-07-16T15:27:17.167776Z",
     "iopub.status.busy": "2025-07-16T15:27:17.167344Z",
     "iopub.status.idle": "2025-07-16T15:27:20.607203Z",
     "shell.execute_reply": "2025-07-16T15:27:20.606310Z"
    },
    "papermill": {
     "duration": 3.463186,
     "end_time": "2025-07-16T15:27:20.608846",
     "exception": false,
     "start_time": "2025-07-16T15:27:17.145660",
     "status": "completed"
    },
    "tags": []
   },
   "outputs": [
    {
     "data": {
      "text/html": [
       "<style>#sk-container-id-1 {color: black;background-color: white;}#sk-container-id-1 pre{padding: 0;}#sk-container-id-1 div.sk-toggleable {background-color: white;}#sk-container-id-1 label.sk-toggleable__label {cursor: pointer;display: block;width: 100%;margin-bottom: 0;padding: 0.3em;box-sizing: border-box;text-align: center;}#sk-container-id-1 label.sk-toggleable__label-arrow:before {content: \"▸\";float: left;margin-right: 0.25em;color: #696969;}#sk-container-id-1 label.sk-toggleable__label-arrow:hover:before {color: black;}#sk-container-id-1 div.sk-estimator:hover label.sk-toggleable__label-arrow:before {color: black;}#sk-container-id-1 div.sk-toggleable__content {max-height: 0;max-width: 0;overflow: hidden;text-align: left;background-color: #f0f8ff;}#sk-container-id-1 div.sk-toggleable__content pre {margin: 0.2em;color: black;border-radius: 0.25em;background-color: #f0f8ff;}#sk-container-id-1 input.sk-toggleable__control:checked~div.sk-toggleable__content {max-height: 200px;max-width: 100%;overflow: auto;}#sk-container-id-1 input.sk-toggleable__control:checked~label.sk-toggleable__label-arrow:before {content: \"▾\";}#sk-container-id-1 div.sk-estimator input.sk-toggleable__control:checked~label.sk-toggleable__label {background-color: #d4ebff;}#sk-container-id-1 div.sk-label input.sk-toggleable__control:checked~label.sk-toggleable__label {background-color: #d4ebff;}#sk-container-id-1 input.sk-hidden--visually {border: 0;clip: rect(1px 1px 1px 1px);clip: rect(1px, 1px, 1px, 1px);height: 1px;margin: -1px;overflow: hidden;padding: 0;position: absolute;width: 1px;}#sk-container-id-1 div.sk-estimator {font-family: monospace;background-color: #f0f8ff;border: 1px dotted black;border-radius: 0.25em;box-sizing: border-box;margin-bottom: 0.5em;}#sk-container-id-1 div.sk-estimator:hover {background-color: #d4ebff;}#sk-container-id-1 div.sk-parallel-item::after {content: \"\";width: 100%;border-bottom: 1px solid gray;flex-grow: 1;}#sk-container-id-1 div.sk-label:hover label.sk-toggleable__label {background-color: #d4ebff;}#sk-container-id-1 div.sk-serial::before {content: \"\";position: absolute;border-left: 1px solid gray;box-sizing: border-box;top: 0;bottom: 0;left: 50%;z-index: 0;}#sk-container-id-1 div.sk-serial {display: flex;flex-direction: column;align-items: center;background-color: white;padding-right: 0.2em;padding-left: 0.2em;position: relative;}#sk-container-id-1 div.sk-item {position: relative;z-index: 1;}#sk-container-id-1 div.sk-parallel {display: flex;align-items: stretch;justify-content: center;background-color: white;position: relative;}#sk-container-id-1 div.sk-item::before, #sk-container-id-1 div.sk-parallel-item::before {content: \"\";position: absolute;border-left: 1px solid gray;box-sizing: border-box;top: 0;bottom: 0;left: 50%;z-index: -1;}#sk-container-id-1 div.sk-parallel-item {display: flex;flex-direction: column;z-index: 1;position: relative;background-color: white;}#sk-container-id-1 div.sk-parallel-item:first-child::after {align-self: flex-end;width: 50%;}#sk-container-id-1 div.sk-parallel-item:last-child::after {align-self: flex-start;width: 50%;}#sk-container-id-1 div.sk-parallel-item:only-child::after {width: 0;}#sk-container-id-1 div.sk-dashed-wrapped {border: 1px dashed gray;margin: 0 0.4em 0.5em 0.4em;box-sizing: border-box;padding-bottom: 0.4em;background-color: white;}#sk-container-id-1 div.sk-label label {font-family: monospace;font-weight: bold;display: inline-block;line-height: 1.2em;}#sk-container-id-1 div.sk-label-container {text-align: center;}#sk-container-id-1 div.sk-container {/* jupyter's `normalize.less` sets `[hidden] { display: none; }` but bootstrap.min.css set `[hidden] { display: none !important; }` so we also need the `!important` here to be able to override the default hidden behavior on the sphinx rendered scikit-learn.org. See: https://github.com/scikit-learn/scikit-learn/issues/21755 */display: inline-block !important;position: relative;}#sk-container-id-1 div.sk-text-repr-fallback {display: none;}</style><div id=\"sk-container-id-1\" class=\"sk-top-container\"><div class=\"sk-text-repr-fallback\"><pre>Pipeline(steps=[(&#x27;model&#x27;, RandomForestClassifier(n_jobs=-1))])</pre><b>In a Jupyter environment, please rerun this cell to show the HTML representation or trust the notebook. <br />On GitHub, the HTML representation is unable to render, please try loading this page with nbviewer.org.</b></div><div class=\"sk-container\" hidden><div class=\"sk-item sk-dashed-wrapped\"><div class=\"sk-label-container\"><div class=\"sk-label sk-toggleable\"><input class=\"sk-toggleable__control sk-hidden--visually\" id=\"sk-estimator-id-1\" type=\"checkbox\" ><label for=\"sk-estimator-id-1\" class=\"sk-toggleable__label sk-toggleable__label-arrow\">Pipeline</label><div class=\"sk-toggleable__content\"><pre>Pipeline(steps=[(&#x27;model&#x27;, RandomForestClassifier(n_jobs=-1))])</pre></div></div></div><div class=\"sk-serial\"><div class=\"sk-item\"><div class=\"sk-estimator sk-toggleable\"><input class=\"sk-toggleable__control sk-hidden--visually\" id=\"sk-estimator-id-2\" type=\"checkbox\" ><label for=\"sk-estimator-id-2\" class=\"sk-toggleable__label sk-toggleable__label-arrow\">RandomForestClassifier</label><div class=\"sk-toggleable__content\"><pre>RandomForestClassifier(n_jobs=-1)</pre></div></div></div></div></div></div></div>"
      ],
      "text/plain": [
       "Pipeline(steps=[('model', RandomForestClassifier(n_jobs=-1))])"
      ]
     },
     "execution_count": 28,
     "metadata": {},
     "output_type": "execute_result"
    }
   ],
   "source": [
    "model.fit(X_train, y_train.values.ravel())"
   ]
  },
  {
   "cell_type": "code",
   "execution_count": 29,
   "id": "af59f8c0",
   "metadata": {
    "execution": {
     "iopub.execute_input": "2025-07-16T15:27:20.682277Z",
     "iopub.status.busy": "2025-07-16T15:27:20.681811Z",
     "iopub.status.idle": "2025-07-16T15:27:20.687856Z",
     "shell.execute_reply": "2025-07-16T15:27:20.686726Z"
    },
    "papermill": {
     "duration": 0.046506,
     "end_time": "2025-07-16T15:27:20.691224",
     "exception": false,
     "start_time": "2025-07-16T15:27:20.644718",
     "status": "completed"
    },
    "tags": []
   },
   "outputs": [],
   "source": [
    "from fairness_multiverse.universe import predict_w_threshold"
   ]
  },
  {
   "cell_type": "code",
   "execution_count": 30,
   "id": "a7cf2e16",
   "metadata": {
    "execution": {
     "iopub.execute_input": "2025-07-16T15:27:20.733554Z",
     "iopub.status.busy": "2025-07-16T15:27:20.733151Z",
     "iopub.status.idle": "2025-07-16T15:27:21.977502Z",
     "shell.execute_reply": "2025-07-16T15:27:21.976494Z"
    },
    "papermill": {
     "duration": 1.266192,
     "end_time": "2025-07-16T15:27:21.979076",
     "exception": false,
     "start_time": "2025-07-16T15:27:20.712884",
     "status": "completed"
    },
    "tags": []
   },
   "outputs": [
    {
     "data": {
      "text/plain": [
       "0.8666035001672054"
      ]
     },
     "execution_count": 30,
     "metadata": {},
     "output_type": "execute_result"
    }
   ],
   "source": [
    "probs_test = model.predict_proba(X_test)\n",
    "\n",
    "'''\n",
    "Below code returns a boolean array (or binary 0/1 array depending on how it’s used) where each element \n",
    "is True if the probability of class 1 is greater than or equal to the threshold, and False otherwise.\n",
    "'''\n",
    "y_pred_default = predict_w_threshold(probs_test, 0.5)\n",
    "\n",
    "# Naive prediction\n",
    "accuracy_score(y_true = y_true, y_pred = y_pred_default)"
   ]
  },
  {
   "cell_type": "code",
   "execution_count": 31,
   "id": "081964c3",
   "metadata": {
    "execution": {
     "iopub.execute_input": "2025-07-16T15:27:22.025772Z",
     "iopub.status.busy": "2025-07-16T15:27:22.025068Z",
     "iopub.status.idle": "2025-07-16T15:27:23.414336Z",
     "shell.execute_reply": "2025-07-16T15:27:23.413606Z"
    },
    "papermill": {
     "duration": 1.411313,
     "end_time": "2025-07-16T15:27:23.415598",
     "exception": false,
     "start_time": "2025-07-16T15:27:22.004285",
     "status": "completed"
    },
    "tags": []
   },
   "outputs": [
    {
     "data": {
      "text/plain": [
       "array([0, 0, 0, ..., 0, 0, 0])"
      ]
     },
     "execution_count": 31,
     "metadata": {},
     "output_type": "execute_result"
    }
   ],
   "source": [
    "model.predict(X_test)"
   ]
  },
  {
   "cell_type": "markdown",
   "id": "56c9705b",
   "metadata": {
    "papermill": {
     "duration": 0.009538,
     "end_time": "2025-07-16T15:27:23.435846",
     "exception": false,
     "start_time": "2025-07-16T15:27:23.426308",
     "status": "completed"
    },
    "tags": []
   },
   "source": [
    "# Conformal Prediction"
   ]
  },
  {
   "cell_type": "code",
   "execution_count": 32,
   "id": "160ec6ff",
   "metadata": {
    "execution": {
     "iopub.execute_input": "2025-07-16T15:27:23.461452Z",
     "iopub.status.busy": "2025-07-16T15:27:23.460816Z",
     "iopub.status.idle": "2025-07-16T15:27:23.465630Z",
     "shell.execute_reply": "2025-07-16T15:27:23.464745Z"
    },
    "papermill": {
     "duration": 0.01951,
     "end_time": "2025-07-16T15:27:23.467112",
     "exception": false,
     "start_time": "2025-07-16T15:27:23.447602",
     "status": "completed"
    },
    "tags": []
   },
   "outputs": [],
   "source": [
    "# Miscoverage level for conformal prediction (10% allowed error rate => 90% target coverage)\n",
    "alpha = 0.2"
   ]
  },
  {
   "cell_type": "code",
   "execution_count": 33,
   "id": "eadf4555-3dd3-440e-8e35-f82a4ad9f855",
   "metadata": {
    "execution": {
     "iopub.execute_input": "2025-07-16T15:27:23.489824Z",
     "iopub.status.busy": "2025-07-16T15:27:23.489319Z",
     "iopub.status.idle": "2025-07-16T15:27:24.845585Z",
     "shell.execute_reply": "2025-07-16T15:27:24.844232Z"
    },
    "papermill": {
     "duration": 1.369082,
     "end_time": "2025-07-16T15:27:24.847552",
     "exception": false,
     "start_time": "2025-07-16T15:27:23.478470",
     "status": "completed"
    },
    "tags": []
   },
   "outputs": [],
   "source": [
    "probs_calib = model.predict_proba(X_calib)"
   ]
  },
  {
   "cell_type": "code",
   "execution_count": 34,
   "id": "2ed93547-6d5d-4983-9b36-1ecb300da49a",
   "metadata": {
    "execution": {
     "iopub.execute_input": "2025-07-16T15:27:24.889025Z",
     "iopub.status.busy": "2025-07-16T15:27:24.888304Z",
     "iopub.status.idle": "2025-07-16T15:27:24.894948Z",
     "shell.execute_reply": "2025-07-16T15:27:24.893902Z"
    },
    "papermill": {
     "duration": 0.029815,
     "end_time": "2025-07-16T15:27:24.896860",
     "exception": false,
     "start_time": "2025-07-16T15:27:24.867045",
     "status": "completed"
    },
    "tags": []
   },
   "outputs": [],
   "source": [
    "y_calib = y_calib.values.ravel().astype(int)"
   ]
  },
  {
   "cell_type": "code",
   "execution_count": 35,
   "id": "65d1320d-f588-4b38-9072-62af1ae97f7d",
   "metadata": {
    "execution": {
     "iopub.execute_input": "2025-07-16T15:27:24.938619Z",
     "iopub.status.busy": "2025-07-16T15:27:24.938136Z",
     "iopub.status.idle": "2025-07-16T15:27:24.945725Z",
     "shell.execute_reply": "2025-07-16T15:27:24.944757Z"
    },
    "papermill": {
     "duration": 0.031397,
     "end_time": "2025-07-16T15:27:24.947709",
     "exception": false,
     "start_time": "2025-07-16T15:27:24.916312",
     "status": "completed"
    },
    "tags": []
   },
   "outputs": [],
   "source": [
    "from fairness_multiverse.conformal import compute_nc_scores\n",
    "\n",
    "# Compute nonconformity scores on calibration set (1 - probability of true class)\n",
    "nc_scores = compute_nc_scores(probs_calib, y_calib)"
   ]
  },
  {
   "cell_type": "code",
   "execution_count": 36,
   "id": "df3b8ca3-53b7-43d5-9667-7c85da7aeda2",
   "metadata": {
    "execution": {
     "iopub.execute_input": "2025-07-16T15:27:24.989612Z",
     "iopub.status.busy": "2025-07-16T15:27:24.989241Z",
     "iopub.status.idle": "2025-07-16T15:27:24.996212Z",
     "shell.execute_reply": "2025-07-16T15:27:24.995332Z"
    },
    "papermill": {
     "duration": 0.028981,
     "end_time": "2025-07-16T15:27:24.998027",
     "exception": false,
     "start_time": "2025-07-16T15:27:24.969046",
     "status": "completed"
    },
    "tags": []
   },
   "outputs": [],
   "source": [
    "from fairness_multiverse.conformal import find_threshold\n",
    "\n",
    "# Find conformal threshold q_hat for the given alpha (split conformal method)\n",
    "q_hat = find_threshold(nc_scores, alpha)"
   ]
  },
  {
   "cell_type": "code",
   "execution_count": 37,
   "id": "4d29e6c1-0ef6-4aa4-b8fe-4fe79b0d033a",
   "metadata": {
    "execution": {
     "iopub.execute_input": "2025-07-16T15:27:25.037878Z",
     "iopub.status.busy": "2025-07-16T15:27:25.037429Z",
     "iopub.status.idle": "2025-07-16T15:27:25.045076Z",
     "shell.execute_reply": "2025-07-16T15:27:25.043907Z"
    },
    "papermill": {
     "duration": 0.029344,
     "end_time": "2025-07-16T15:27:25.046845",
     "exception": false,
     "start_time": "2025-07-16T15:27:25.017501",
     "status": "completed"
    },
    "tags": []
   },
   "outputs": [
    {
     "data": {
      "text/plain": [
       "0.39"
      ]
     },
     "execution_count": 37,
     "metadata": {},
     "output_type": "execute_result"
    }
   ],
   "source": [
    "q_hat"
   ]
  },
  {
   "cell_type": "code",
   "execution_count": 38,
   "id": "92460794-cdac-4be2-ba28-f28c0515a6fb",
   "metadata": {
    "execution": {
     "iopub.execute_input": "2025-07-16T15:27:25.090429Z",
     "iopub.status.busy": "2025-07-16T15:27:25.089647Z",
     "iopub.status.idle": "2025-07-16T15:27:26.517639Z",
     "shell.execute_reply": "2025-07-16T15:27:26.516868Z"
    },
    "papermill": {
     "duration": 1.451277,
     "end_time": "2025-07-16T15:27:26.519224",
     "exception": false,
     "start_time": "2025-07-16T15:27:25.067947",
     "status": "completed"
    },
    "tags": []
   },
   "outputs": [],
   "source": [
    "from fairness_multiverse.conformal import predict_conformal_sets\n",
    "\n",
    "# Generate prediction sets for each test example\n",
    "pred_sets = predict_conformal_sets(model, X_test, q_hat)"
   ]
  },
  {
   "cell_type": "code",
   "execution_count": 39,
   "id": "d90c9a65-e6db-4f5d-80cd-e68fb7e46829",
   "metadata": {
    "execution": {
     "iopub.execute_input": "2025-07-16T15:27:26.541691Z",
     "iopub.status.busy": "2025-07-16T15:27:26.541318Z",
     "iopub.status.idle": "2025-07-16T15:27:26.545935Z",
     "shell.execute_reply": "2025-07-16T15:27:26.545018Z"
    },
    "papermill": {
     "duration": 0.017149,
     "end_time": "2025-07-16T15:27:26.547396",
     "exception": false,
     "start_time": "2025-07-16T15:27:26.530247",
     "status": "completed"
    },
    "tags": []
   },
   "outputs": [],
   "source": [
    "y_true = y_true.squeeze()"
   ]
  },
  {
   "cell_type": "code",
   "execution_count": 40,
   "id": "3a58a54a-1e68-46b9-927a-df01f18aebc8",
   "metadata": {
    "execution": {
     "iopub.execute_input": "2025-07-16T15:27:26.570340Z",
     "iopub.status.busy": "2025-07-16T15:27:26.569808Z",
     "iopub.status.idle": "2025-07-16T15:27:27.260479Z",
     "shell.execute_reply": "2025-07-16T15:27:27.259704Z"
    },
    "papermill": {
     "duration": 0.703343,
     "end_time": "2025-07-16T15:27:27.262033",
     "exception": false,
     "start_time": "2025-07-16T15:27:26.558690",
     "status": "completed"
    },
    "tags": []
   },
   "outputs": [],
   "source": [
    "from fairness_multiverse.conformal import evaluate_sets\n",
    "\n",
    "# Evaluate coverage and average set size on test data\n",
    "metrics = evaluate_sets(pred_sets, y_true)"
   ]
  },
  {
   "cell_type": "code",
   "execution_count": 41,
   "id": "5ce0a5cb-201f-45a0-ade5-94c7f0bd6095",
   "metadata": {
    "execution": {
     "iopub.execute_input": "2025-07-16T15:27:27.288695Z",
     "iopub.status.busy": "2025-07-16T15:27:27.287954Z",
     "iopub.status.idle": "2025-07-16T15:27:27.294741Z",
     "shell.execute_reply": "2025-07-16T15:27:27.293658Z"
    },
    "papermill": {
     "duration": 0.020307,
     "end_time": "2025-07-16T15:27:27.296353",
     "exception": false,
     "start_time": "2025-07-16T15:27:27.276046",
     "status": "completed"
    },
    "tags": []
   },
   "outputs": [
    {
     "data": {
      "text/plain": [
       "{'coverage': 0.8152937242224947, 'avg_size': 0.9173224835581317}"
      ]
     },
     "execution_count": 41,
     "metadata": {},
     "output_type": "execute_result"
    }
   ],
   "source": [
    "metrics"
   ]
  },
  {
   "cell_type": "code",
   "execution_count": 42,
   "id": "9b9a838d-31c9-430b-ae14-12baee460d17",
   "metadata": {
    "execution": {
     "iopub.execute_input": "2025-07-16T15:27:27.319848Z",
     "iopub.status.busy": "2025-07-16T15:27:27.319384Z",
     "iopub.status.idle": "2025-07-16T15:27:27.324272Z",
     "shell.execute_reply": "2025-07-16T15:27:27.323485Z"
    },
    "papermill": {
     "duration": 0.01789,
     "end_time": "2025-07-16T15:27:27.325855",
     "exception": false,
     "start_time": "2025-07-16T15:27:27.307965",
     "status": "completed"
    },
    "tags": []
   },
   "outputs": [],
   "source": [
    "example_universe = universe.copy()\n",
    "universe_model = example_universe.get(\"model\")\n",
    "universe_exclude_features = example_universe.get(\"exclude_features\")\n",
    "universe_exclude_subgroups = example_universe.get(\"exclude_subgroups\")"
   ]
  },
  {
   "cell_type": "code",
   "execution_count": 43,
   "id": "f4b6a8ac-9dc0-4245-8a91-5b3b5999c4f9",
   "metadata": {
    "execution": {
     "iopub.execute_input": "2025-07-16T15:27:27.349612Z",
     "iopub.status.busy": "2025-07-16T15:27:27.349082Z",
     "iopub.status.idle": "2025-07-16T15:27:27.353923Z",
     "shell.execute_reply": "2025-07-16T15:27:27.353109Z"
    },
    "papermill": {
     "duration": 0.01771,
     "end_time": "2025-07-16T15:27:27.355422",
     "exception": false,
     "start_time": "2025-07-16T15:27:27.337712",
     "status": "completed"
    },
    "tags": []
   },
   "outputs": [],
   "source": [
    "cp_metrics_dict = {\n",
    "    \"universe_id\": [universe_id],\n",
    "    \"universe_model\": [universe_model],\n",
    "    \"universe_exclude_features\": [universe_exclude_features],\n",
    "    \"universe_exclude_subgroups\": [universe_exclude_subgroups],\n",
    "    \"q_hat\": [q_hat],\n",
    "    \"coverage\": [metrics[\"coverage\"]],\n",
    "    \"avg_size\": [metrics[\"avg_size\"]],\n",
    "}"
   ]
  },
  {
   "cell_type": "code",
   "execution_count": 44,
   "id": "908acbb1-0371-4915-85ca-3fa520d2efe2",
   "metadata": {
    "execution": {
     "iopub.execute_input": "2025-07-16T15:27:27.380203Z",
     "iopub.status.busy": "2025-07-16T15:27:27.379521Z",
     "iopub.status.idle": "2025-07-16T15:27:27.386748Z",
     "shell.execute_reply": "2025-07-16T15:27:27.385499Z"
    },
    "papermill": {
     "duration": 0.021582,
     "end_time": "2025-07-16T15:27:27.388753",
     "exception": false,
     "start_time": "2025-07-16T15:27:27.367171",
     "status": "completed"
    },
    "tags": []
   },
   "outputs": [
    {
     "data": {
      "text/plain": [
       "{'universe_id': ['47601ce248a345cf80aa089cf9880cfa'],\n",
       " 'universe_model': ['rf'],\n",
       " 'universe_exclude_features': ['nationality-sex'],\n",
       " 'universe_exclude_subgroups': ['drop-non-german'],\n",
       " 'q_hat': [0.39],\n",
       " 'coverage': [0.8152937242224947],\n",
       " 'avg_size': [0.9173224835581317]}"
      ]
     },
     "execution_count": 44,
     "metadata": {},
     "output_type": "execute_result"
    }
   ],
   "source": [
    "cp_metrics_dict"
   ]
  },
  {
   "cell_type": "code",
   "execution_count": 45,
   "id": "33007efc-14e9-4ec6-97ac-56a455c82265",
   "metadata": {
    "execution": {
     "iopub.execute_input": "2025-07-16T15:27:27.436470Z",
     "iopub.status.busy": "2025-07-16T15:27:27.435779Z",
     "iopub.status.idle": "2025-07-16T15:27:27.442999Z",
     "shell.execute_reply": "2025-07-16T15:27:27.441743Z"
    },
    "papermill": {
     "duration": 0.03345,
     "end_time": "2025-07-16T15:27:27.445206",
     "exception": false,
     "start_time": "2025-07-16T15:27:27.411756",
     "status": "completed"
    },
    "tags": []
   },
   "outputs": [],
   "source": [
    "cp_metrics_df = pd.DataFrame(cp_metrics_dict)"
   ]
  },
  {
   "cell_type": "code",
   "execution_count": 46,
   "id": "db12611b-57b2-4910-b9d0-355adfd6e7bf",
   "metadata": {
    "execution": {
     "iopub.execute_input": "2025-07-16T15:27:27.489855Z",
     "iopub.status.busy": "2025-07-16T15:27:27.489039Z",
     "iopub.status.idle": "2025-07-16T15:27:27.505140Z",
     "shell.execute_reply": "2025-07-16T15:27:27.503850Z"
    },
    "papermill": {
     "duration": 0.041256,
     "end_time": "2025-07-16T15:27:27.507265",
     "exception": false,
     "start_time": "2025-07-16T15:27:27.466009",
     "status": "completed"
    },
    "tags": []
   },
   "outputs": [
    {
     "data": {
      "text/html": [
       "<div>\n",
       "<style scoped>\n",
       "    .dataframe tbody tr th:only-of-type {\n",
       "        vertical-align: middle;\n",
       "    }\n",
       "\n",
       "    .dataframe tbody tr th {\n",
       "        vertical-align: top;\n",
       "    }\n",
       "\n",
       "    .dataframe thead th {\n",
       "        text-align: right;\n",
       "    }\n",
       "</style>\n",
       "<table border=\"1\" class=\"dataframe\">\n",
       "  <thead>\n",
       "    <tr style=\"text-align: right;\">\n",
       "      <th></th>\n",
       "      <th>universe_id</th>\n",
       "      <th>universe_model</th>\n",
       "      <th>universe_exclude_features</th>\n",
       "      <th>universe_exclude_subgroups</th>\n",
       "      <th>q_hat</th>\n",
       "      <th>coverage</th>\n",
       "      <th>avg_size</th>\n",
       "    </tr>\n",
       "  </thead>\n",
       "  <tbody>\n",
       "    <tr>\n",
       "      <th>0</th>\n",
       "      <td>47601ce248a345cf80aa089cf9880cfa</td>\n",
       "      <td>rf</td>\n",
       "      <td>nationality-sex</td>\n",
       "      <td>drop-non-german</td>\n",
       "      <td>0.39</td>\n",
       "      <td>0.815294</td>\n",
       "      <td>0.917322</td>\n",
       "    </tr>\n",
       "  </tbody>\n",
       "</table>\n",
       "</div>"
      ],
      "text/plain": [
       "                        universe_id universe_model universe_exclude_features  \\\n",
       "0  47601ce248a345cf80aa089cf9880cfa             rf           nationality-sex   \n",
       "\n",
       "  universe_exclude_subgroups  q_hat  coverage  avg_size  \n",
       "0            drop-non-german   0.39  0.815294  0.917322  "
      ]
     },
     "execution_count": 46,
     "metadata": {},
     "output_type": "execute_result"
    }
   ],
   "source": [
    "cp_metrics_df.head()"
   ]
  },
  {
   "cell_type": "code",
   "execution_count": 47,
   "id": "e6aa1fe0-b882-4a50-8bdf-05f68c24faeb",
   "metadata": {
    "execution": {
     "iopub.execute_input": "2025-07-16T15:27:27.558895Z",
     "iopub.status.busy": "2025-07-16T15:27:27.558157Z",
     "iopub.status.idle": "2025-07-16T15:27:27.564897Z",
     "shell.execute_reply": "2025-07-16T15:27:27.563762Z"
    },
    "papermill": {
     "duration": 0.034179,
     "end_time": "2025-07-16T15:27:27.566888",
     "exception": false,
     "start_time": "2025-07-16T15:27:27.532709",
     "status": "completed"
    },
    "tags": []
   },
   "outputs": [],
   "source": [
    "output_folder = \"results/cp_metrics_alpha_2\"\n",
    "os.makedirs(output_folder, exist_ok=True)"
   ]
  },
  {
   "cell_type": "code",
   "execution_count": 48,
   "id": "b53d024f-1be6-4b80-9953-843618c45449",
   "metadata": {
    "execution": {
     "iopub.execute_input": "2025-07-16T15:27:27.612277Z",
     "iopub.status.busy": "2025-07-16T15:27:27.611701Z",
     "iopub.status.idle": "2025-07-16T15:27:27.617517Z",
     "shell.execute_reply": "2025-07-16T15:27:27.616397Z"
    },
    "papermill": {
     "duration": 0.028663,
     "end_time": "2025-07-16T15:27:27.619446",
     "exception": false,
     "start_time": "2025-07-16T15:27:27.590783",
     "status": "completed"
    },
    "tags": []
   },
   "outputs": [],
   "source": [
    "output_file = os.path.join(output_folder, f\"metrics_{universe_id}.csv\")"
   ]
  },
  {
   "cell_type": "code",
   "execution_count": 49,
   "id": "c1f366d1-edb8-4383-bdcb-c7ea0c25e9d1",
   "metadata": {
    "execution": {
     "iopub.execute_input": "2025-07-16T15:27:27.661279Z",
     "iopub.status.busy": "2025-07-16T15:27:27.660450Z",
     "iopub.status.idle": "2025-07-16T15:27:27.669965Z",
     "shell.execute_reply": "2025-07-16T15:27:27.669029Z"
    },
    "papermill": {
     "duration": 0.03381,
     "end_time": "2025-07-16T15:27:27.673561",
     "exception": false,
     "start_time": "2025-07-16T15:27:27.639751",
     "status": "completed"
    },
    "tags": []
   },
   "outputs": [],
   "source": [
    "cp_metrics_df.to_csv(output_file, index=False)"
   ]
  },
  {
   "cell_type": "markdown",
   "id": "33774451",
   "metadata": {
    "papermill": {
     "duration": 0.011335,
     "end_time": "2025-07-16T15:27:27.697130",
     "exception": false,
     "start_time": "2025-07-16T15:27:27.685795",
     "status": "completed"
    },
    "tags": []
   },
   "source": [
    "# (Fairness) Metrics"
   ]
  },
  {
   "cell_type": "code",
   "execution_count": 50,
   "id": "debc5d62",
   "metadata": {
    "execution": {
     "iopub.execute_input": "2025-07-16T15:27:27.721462Z",
     "iopub.status.busy": "2025-07-16T15:27:27.721096Z",
     "iopub.status.idle": "2025-07-16T15:27:27.738877Z",
     "shell.execute_reply": "2025-07-16T15:27:27.738170Z"
    },
    "papermill": {
     "duration": 0.031506,
     "end_time": "2025-07-16T15:27:27.740412",
     "exception": false,
     "start_time": "2025-07-16T15:27:27.708906",
     "status": "completed"
    },
    "tags": []
   },
   "outputs": [],
   "source": [
    "# do I need to include maxdeutsch1.missing?\n",
    "\n",
    "import numpy as np\n",
    "\n",
    "colname_to_bin = \"maxdeutsch1\"\n",
    "majority_value = org_train[colname_to_bin].mode()[0]\n",
    "\n",
    "org_test[\"majmin\"] = np.where(org_test[colname_to_bin] == majority_value, \"majority\", \"minority\")"
   ]
  },
  {
   "cell_type": "code",
   "execution_count": 51,
   "id": "06a50de5",
   "metadata": {
    "execution": {
     "iopub.execute_input": "2025-07-16T15:27:27.765181Z",
     "iopub.status.busy": "2025-07-16T15:27:27.764427Z",
     "iopub.status.idle": "2025-07-16T15:27:30.724500Z",
     "shell.execute_reply": "2025-07-16T15:27:30.723410Z"
    },
    "papermill": {
     "duration": 2.974354,
     "end_time": "2025-07-16T15:27:30.726835",
     "exception": false,
     "start_time": "2025-07-16T15:27:27.752481",
     "status": "completed"
    },
    "tags": []
   },
   "outputs": [],
   "source": [
    "example_universe = universe.copy()\n",
    "example_universe[\"cutoff\"] = example_universe[\"cutoff\"][0]\n",
    "example_universe[\"eval_fairness_grouping\"] = example_universe[\"eval_fairness_grouping\"][0]\n",
    "fairness_dict, metric_frame = universe_analysis.compute_metrics(\n",
    "    example_universe,\n",
    "    y_pred_prob=probs_test,\n",
    "    y_test=y_true,\n",
    "    org_test=org_test,\n",
    ")"
   ]
  },
  {
   "cell_type": "markdown",
   "id": "f95d4e02",
   "metadata": {
    "papermill": {
     "duration": 0.020365,
     "end_time": "2025-07-16T15:27:30.775954",
     "exception": false,
     "start_time": "2025-07-16T15:27:30.755589",
     "status": "completed"
    },
    "tags": []
   },
   "source": [
    "# Overall"
   ]
  },
  {
   "cell_type": "markdown",
   "id": "bdee4871",
   "metadata": {
    "papermill": {
     "duration": 0.019574,
     "end_time": "2025-07-16T15:27:30.815204",
     "exception": false,
     "start_time": "2025-07-16T15:27:30.795630",
     "status": "completed"
    },
    "tags": []
   },
   "source": [
    "Fairness\n",
    "Main fairness target: Equalized Odds. Seems to be a better fit than equal opportunity, since we're not only interested in Y = 1. Seems to be a better fit than demographic parity, since we also care about accuracy, not just equal distribution of preds.\n",
    "\n",
    "Pick column for computation of fairness metrics\n",
    "\n",
    "Performance\n",
    "Overall performance measures, most interesting in relation to the measures split by group below"
   ]
  },
  {
   "cell_type": "code",
   "execution_count": 52,
   "id": "c4e067c6",
   "metadata": {
    "execution": {
     "iopub.execute_input": "2025-07-16T15:27:30.857779Z",
     "iopub.status.busy": "2025-07-16T15:27:30.856780Z",
     "iopub.status.idle": "2025-07-16T15:27:30.866759Z",
     "shell.execute_reply": "2025-07-16T15:27:30.865678Z"
    },
    "papermill": {
     "duration": 0.033036,
     "end_time": "2025-07-16T15:27:30.868542",
     "exception": false,
     "start_time": "2025-07-16T15:27:30.835506",
     "status": "completed"
    },
    "tags": []
   },
   "outputs": [
    {
     "data": {
      "text/plain": [
       "accuracy                   0.195942\n",
       "balanced accuracy          0.529954\n",
       "f1                         0.238069\n",
       "precision                  0.135507\n",
       "false positive rate        0.919324\n",
       "false negative rate        0.020768\n",
       "selection rate             0.927009\n",
       "count                  89710.000000\n",
       "dtype: float64"
      ]
     },
     "execution_count": 52,
     "metadata": {},
     "output_type": "execute_result"
    }
   ],
   "source": [
    "metric_frame.overall"
   ]
  },
  {
   "cell_type": "markdown",
   "id": "e968fe9d",
   "metadata": {
    "papermill": {
     "duration": 0.020605,
     "end_time": "2025-07-16T15:27:30.911061",
     "exception": false,
     "start_time": "2025-07-16T15:27:30.890456",
     "status": "completed"
    },
    "tags": []
   },
   "source": [
    "By Group"
   ]
  },
  {
   "cell_type": "code",
   "execution_count": 53,
   "id": "ec325bce",
   "metadata": {
    "execution": {
     "iopub.execute_input": "2025-07-16T15:27:30.953705Z",
     "iopub.status.busy": "2025-07-16T15:27:30.952927Z",
     "iopub.status.idle": "2025-07-16T15:27:30.970113Z",
     "shell.execute_reply": "2025-07-16T15:27:30.969049Z"
    },
    "papermill": {
     "duration": 0.040048,
     "end_time": "2025-07-16T15:27:30.971835",
     "exception": false,
     "start_time": "2025-07-16T15:27:30.931787",
     "status": "completed"
    },
    "tags": []
   },
   "outputs": [
    {
     "data": {
      "text/html": [
       "<div>\n",
       "<style scoped>\n",
       "    .dataframe tbody tr th:only-of-type {\n",
       "        vertical-align: middle;\n",
       "    }\n",
       "\n",
       "    .dataframe tbody tr th {\n",
       "        vertical-align: top;\n",
       "    }\n",
       "\n",
       "    .dataframe thead th {\n",
       "        text-align: right;\n",
       "    }\n",
       "</style>\n",
       "<table border=\"1\" class=\"dataframe\">\n",
       "  <thead>\n",
       "    <tr style=\"text-align: right;\">\n",
       "      <th></th>\n",
       "      <th>accuracy</th>\n",
       "      <th>balanced accuracy</th>\n",
       "      <th>f1</th>\n",
       "      <th>precision</th>\n",
       "      <th>false positive rate</th>\n",
       "      <th>false negative rate</th>\n",
       "      <th>selection rate</th>\n",
       "      <th>count</th>\n",
       "    </tr>\n",
       "    <tr>\n",
       "      <th>majmin</th>\n",
       "      <th></th>\n",
       "      <th></th>\n",
       "      <th></th>\n",
       "      <th></th>\n",
       "      <th></th>\n",
       "      <th></th>\n",
       "      <th></th>\n",
       "      <th></th>\n",
       "    </tr>\n",
       "  </thead>\n",
       "  <tbody>\n",
       "    <tr>\n",
       "      <th>majority</th>\n",
       "      <td>0.189287</td>\n",
       "      <td>0.528288</td>\n",
       "      <td>0.243807</td>\n",
       "      <td>0.139041</td>\n",
       "      <td>0.932484</td>\n",
       "      <td>0.010941</td>\n",
       "      <td>0.939960</td>\n",
       "      <td>69170.0</td>\n",
       "    </tr>\n",
       "    <tr>\n",
       "      <th>minority</th>\n",
       "      <td>0.218354</td>\n",
       "      <td>0.532724</td>\n",
       "      <td>0.217326</td>\n",
       "      <td>0.122844</td>\n",
       "      <td>0.875853</td>\n",
       "      <td>0.058699</td>\n",
       "      <td>0.883398</td>\n",
       "      <td>20540.0</td>\n",
       "    </tr>\n",
       "  </tbody>\n",
       "</table>\n",
       "</div>"
      ],
      "text/plain": [
       "          accuracy  balanced accuracy        f1  precision  \\\n",
       "majmin                                                       \n",
       "majority  0.189287           0.528288  0.243807   0.139041   \n",
       "minority  0.218354           0.532724  0.217326   0.122844   \n",
       "\n",
       "          false positive rate  false negative rate  selection rate    count  \n",
       "majmin                                                                       \n",
       "majority             0.932484             0.010941        0.939960  69170.0  \n",
       "minority             0.875853             0.058699        0.883398  20540.0  "
      ]
     },
     "execution_count": 53,
     "metadata": {},
     "output_type": "execute_result"
    }
   ],
   "source": [
    "metric_frame.by_group"
   ]
  },
  {
   "cell_type": "code",
   "execution_count": 54,
   "id": "a9ddbe63",
   "metadata": {
    "execution": {
     "iopub.execute_input": "2025-07-16T15:27:31.015177Z",
     "iopub.status.busy": "2025-07-16T15:27:31.014505Z",
     "iopub.status.idle": "2025-07-16T15:27:33.337998Z",
     "shell.execute_reply": "2025-07-16T15:27:33.337133Z"
    },
    "papermill": {
     "duration": 2.34627,
     "end_time": "2025-07-16T15:27:33.339619",
     "exception": false,
     "start_time": "2025-07-16T15:27:30.993349",
     "status": "completed"
    },
    "tags": []
   },
   "outputs": [
    {
     "data": {
      "text/plain": [
       "array([[<Axes: title={'center': 'accuracy'}, xlabel='majmin'>,\n",
       "        <Axes: title={'center': 'balanced accuracy'}, xlabel='majmin'>,\n",
       "        <Axes: title={'center': 'f1'}, xlabel='majmin'>],\n",
       "       [<Axes: title={'center': 'precision'}, xlabel='majmin'>,\n",
       "        <Axes: title={'center': 'false positive rate'}, xlabel='majmin'>,\n",
       "        <Axes: title={'center': 'false negative rate'}, xlabel='majmin'>],\n",
       "       [<Axes: title={'center': 'selection rate'}, xlabel='majmin'>,\n",
       "        <Axes: title={'center': 'count'}, xlabel='majmin'>,\n",
       "        <Axes: xlabel='majmin'>]], dtype=object)"
      ]
     },
     "execution_count": 54,
     "metadata": {},
     "output_type": "execute_result"
    },
    {
     "data": {
      "image/png": "[encoded data removed]",
      "text/plain": [
       "<Figure size 1200x800 with 9 Axes>"
      ]
     },
     "metadata": {},
     "output_type": "display_data"
    }
   ],
   "source": [
    "# In a graphic\n",
    "metric_frame.by_group.plot.bar(\n",
    "    subplots=True,\n",
    "    layout=[3, 3],\n",
    "    legend=False,\n",
    "    figsize=[12, 8],\n",
    "    title=\"Show all metrics\",\n",
    ")"
   ]
  },
  {
   "cell_type": "markdown",
   "id": "f57a0bac",
   "metadata": {
    "papermill": {
     "duration": 0.021912,
     "end_time": "2025-07-16T15:27:33.386971",
     "exception": false,
     "start_time": "2025-07-16T15:27:33.365059",
     "status": "completed"
    },
    "tags": []
   },
   "source": [
    "# Final Output"
   ]
  },
  {
   "cell_type": "code",
   "execution_count": 55,
   "id": "96d280a3",
   "metadata": {
    "execution": {
     "iopub.execute_input": "2025-07-16T15:27:33.433886Z",
     "iopub.status.busy": "2025-07-16T15:27:33.433212Z",
     "iopub.status.idle": "2025-07-16T15:27:33.441894Z",
     "shell.execute_reply": "2025-07-16T15:27:33.440842Z"
    },
    "papermill": {
     "duration": 0.034575,
     "end_time": "2025-07-16T15:27:33.443528",
     "exception": false,
     "start_time": "2025-07-16T15:27:33.408953",
     "status": "completed"
    },
    "tags": []
   },
   "outputs": [
    {
     "data": {
      "text/plain": [
       "4"
      ]
     },
     "execution_count": 55,
     "metadata": {},
     "output_type": "execute_result"
    }
   ],
   "source": [
    "sub_universes = universe_analysis.generate_sub_universes()\n",
    "len(sub_universes)"
   ]
  },
  {
   "cell_type": "code",
   "execution_count": 56,
   "id": "92adf7ba",
   "metadata": {
    "execution": {
     "iopub.execute_input": "2025-07-16T15:27:33.491431Z",
     "iopub.status.busy": "2025-07-16T15:27:33.490607Z",
     "iopub.status.idle": "2025-07-16T15:27:33.497048Z",
     "shell.execute_reply": "2025-07-16T15:27:33.496039Z"
    },
    "papermill": {
     "duration": 0.032511,
     "end_time": "2025-07-16T15:27:33.498688",
     "exception": false,
     "start_time": "2025-07-16T15:27:33.466177",
     "status": "completed"
    },
    "tags": []
   },
   "outputs": [],
   "source": [
    "def filter_sub_universe_data(sub_universe, org_test):\n",
    "    # Keep all rows — no filtering\n",
    "    keep_rows_mask = np.ones(org_test.shape[0], dtype=bool)\n",
    "\n",
    "    print(f\"[INFO] Keeping all rows: {keep_rows_mask.sum()} rows retained.\")\n",
    "    return keep_rows_mask"
   ]
  },
  {
   "cell_type": "code",
   "execution_count": 57,
   "id": "4a759155",
   "metadata": {
    "execution": {
     "iopub.execute_input": "2025-07-16T15:27:33.548613Z",
     "iopub.status.busy": "2025-07-16T15:27:33.547876Z",
     "iopub.status.idle": "2025-07-16T15:27:43.929078Z",
     "shell.execute_reply": "2025-07-16T15:27:43.927827Z"
    },
    "papermill": {
     "duration": 10.408467,
     "end_time": "2025-07-16T15:27:43.930834",
     "exception": false,
     "start_time": "2025-07-16T15:27:33.522367",
     "status": "completed"
    },
    "tags": []
   },
   "outputs": [
    {
     "name": "stdout",
     "output_type": "stream",
     "text": [
      "Stopping execution_time clock.\n",
      "[INFO] Keeping all rows: 89710 rows retained.\n"
     ]
    },
    {
     "name": "stdout",
     "output_type": "stream",
     "text": [
      "[INFO] Keeping all rows: 89710 rows retained.\n"
     ]
    },
    {
     "name": "stdout",
     "output_type": "stream",
     "text": [
      "[INFO] Keeping all rows: 89710 rows retained.\n"
     ]
    },
    {
     "name": "stdout",
     "output_type": "stream",
     "text": [
      "[INFO] Keeping all rows: 89710 rows retained.\n"
     ]
    },
    {
     "data": {
      "text/html": [
       "<div>\n",
       "<style scoped>\n",
       "    .dataframe tbody tr th:only-of-type {\n",
       "        vertical-align: middle;\n",
       "    }\n",
       "\n",
       "    .dataframe tbody tr th {\n",
       "        vertical-align: top;\n",
       "    }\n",
       "\n",
       "    .dataframe thead th {\n",
       "        text-align: right;\n",
       "    }\n",
       "</style>\n",
       "<table border=\"1\" class=\"dataframe\">\n",
       "  <thead>\n",
       "    <tr style=\"text-align: right;\">\n",
       "      <th></th>\n",
       "      <th>run_no</th>\n",
       "      <th>universe_id</th>\n",
       "      <th>universe_settings</th>\n",
       "      <th>execution_time</th>\n",
       "      <th>test_size_n</th>\n",
       "      <th>test_size_frac</th>\n",
       "      <th>fair_main_equalized_odds_difference</th>\n",
       "      <th>fair_main_equalized_odds_ratio</th>\n",
       "      <th>fair_main_demographic_parity_difference</th>\n",
       "      <th>fair_main_demographic_parity_ratio</th>\n",
       "      <th>...</th>\n",
       "      <th>perf_grp_precision_0</th>\n",
       "      <th>perf_grp_precision_1</th>\n",
       "      <th>perf_grp_false positive rate_0</th>\n",
       "      <th>perf_grp_false positive rate_1</th>\n",
       "      <th>perf_grp_false negative rate_0</th>\n",
       "      <th>perf_grp_false negative rate_1</th>\n",
       "      <th>perf_grp_selection rate_0</th>\n",
       "      <th>perf_grp_selection rate_1</th>\n",
       "      <th>perf_grp_count_0</th>\n",
       "      <th>perf_grp_count_1</th>\n",
       "    </tr>\n",
       "  </thead>\n",
       "  <tbody>\n",
       "    <tr>\n",
       "      <th>0</th>\n",
       "      <td>17</td>\n",
       "      <td>47601ce248a345cf80aa089cf9880cfa</td>\n",
       "      <td>{\"cutoff\": \"quantile_0.1\", \"eval_fairness_grou...</td>\n",
       "      <td>39.005034</td>\n",
       "      <td>89710</td>\n",
       "      <td>1.0</td>\n",
       "      <td>0.056631</td>\n",
       "      <td>0.939269</td>\n",
       "      <td>0.056561</td>\n",
       "      <td>0.939826</td>\n",
       "      <td>...</td>\n",
       "      <td>NaN</td>\n",
       "      <td>NaN</td>\n",
       "      <td>NaN</td>\n",
       "      <td>NaN</td>\n",
       "      <td>NaN</td>\n",
       "      <td>NaN</td>\n",
       "      <td>NaN</td>\n",
       "      <td>NaN</td>\n",
       "      <td>NaN</td>\n",
       "      <td>NaN</td>\n",
       "    </tr>\n",
       "    <tr>\n",
       "      <th>0</th>\n",
       "      <td>17</td>\n",
       "      <td>47601ce248a345cf80aa089cf9880cfa</td>\n",
       "      <td>{\"cutoff\": \"quantile_0.1\", \"eval_fairness_grou...</td>\n",
       "      <td>39.005034</td>\n",
       "      <td>89710</td>\n",
       "      <td>1.0</td>\n",
       "      <td>0.056631</td>\n",
       "      <td>0.939269</td>\n",
       "      <td>0.056561</td>\n",
       "      <td>0.939826</td>\n",
       "      <td>...</td>\n",
       "      <td>0.122844</td>\n",
       "      <td>0.139041</td>\n",
       "      <td>0.875853</td>\n",
       "      <td>0.932484</td>\n",
       "      <td>0.058699</td>\n",
       "      <td>0.010941</td>\n",
       "      <td>0.883398</td>\n",
       "      <td>0.939960</td>\n",
       "      <td>20540.0</td>\n",
       "      <td>69170.0</td>\n",
       "    </tr>\n",
       "    <tr>\n",
       "      <th>0</th>\n",
       "      <td>17</td>\n",
       "      <td>47601ce248a345cf80aa089cf9880cfa</td>\n",
       "      <td>{\"cutoff\": \"quantile_0.25\", \"eval_fairness_gro...</td>\n",
       "      <td>39.005034</td>\n",
       "      <td>89710</td>\n",
       "      <td>1.0</td>\n",
       "      <td>0.100769</td>\n",
       "      <td>0.894955</td>\n",
       "      <td>0.069485</td>\n",
       "      <td>0.912350</td>\n",
       "      <td>...</td>\n",
       "      <td>NaN</td>\n",
       "      <td>NaN</td>\n",
       "      <td>NaN</td>\n",
       "      <td>NaN</td>\n",
       "      <td>NaN</td>\n",
       "      <td>NaN</td>\n",
       "      <td>NaN</td>\n",
       "      <td>NaN</td>\n",
       "      <td>NaN</td>\n",
       "      <td>NaN</td>\n",
       "    </tr>\n",
       "    <tr>\n",
       "      <th>0</th>\n",
       "      <td>17</td>\n",
       "      <td>47601ce248a345cf80aa089cf9880cfa</td>\n",
       "      <td>{\"cutoff\": \"quantile_0.25\", \"eval_fairness_gro...</td>\n",
       "      <td>39.005034</td>\n",
       "      <td>89710</td>\n",
       "      <td>1.0</td>\n",
       "      <td>0.100769</td>\n",
       "      <td>0.894955</td>\n",
       "      <td>0.069485</td>\n",
       "      <td>0.912350</td>\n",
       "      <td>...</td>\n",
       "      <td>0.136847</td>\n",
       "      <td>0.159898</td>\n",
       "      <td>0.705646</td>\n",
       "      <td>0.767400</td>\n",
       "      <td>0.141470</td>\n",
       "      <td>0.040700</td>\n",
       "      <td>0.723272</td>\n",
       "      <td>0.792757</td>\n",
       "      <td>20540.0</td>\n",
       "      <td>69170.0</td>\n",
       "    </tr>\n",
       "  </tbody>\n",
       "</table>\n",
       "<p>4 rows × 50 columns</p>\n",
       "</div>"
      ],
      "text/plain": [
       "  run_no                       universe_id  \\\n",
       "0     17  47601ce248a345cf80aa089cf9880cfa   \n",
       "0     17  47601ce248a345cf80aa089cf9880cfa   \n",
       "0     17  47601ce248a345cf80aa089cf9880cfa   \n",
       "0     17  47601ce248a345cf80aa089cf9880cfa   \n",
       "\n",
       "                                   universe_settings  execution_time  \\\n",
       "0  {\"cutoff\": \"quantile_0.1\", \"eval_fairness_grou...       39.005034   \n",
       "0  {\"cutoff\": \"quantile_0.1\", \"eval_fairness_grou...       39.005034   \n",
       "0  {\"cutoff\": \"quantile_0.25\", \"eval_fairness_gro...       39.005034   \n",
       "0  {\"cutoff\": \"quantile_0.25\", \"eval_fairness_gro...       39.005034   \n",
       "\n",
       "   test_size_n  test_size_frac  fair_main_equalized_odds_difference  \\\n",
       "0        89710             1.0                             0.056631   \n",
       "0        89710             1.0                             0.056631   \n",
       "0        89710             1.0                             0.100769   \n",
       "0        89710             1.0                             0.100769   \n",
       "\n",
       "   fair_main_equalized_odds_ratio  fair_main_demographic_parity_difference  \\\n",
       "0                        0.939269                                 0.056561   \n",
       "0                        0.939269                                 0.056561   \n",
       "0                        0.894955                                 0.069485   \n",
       "0                        0.894955                                 0.069485   \n",
       "\n",
       "   fair_main_demographic_parity_ratio  ...  perf_grp_precision_0  \\\n",
       "0                            0.939826  ...                   NaN   \n",
       "0                            0.939826  ...              0.122844   \n",
       "0                            0.912350  ...                   NaN   \n",
       "0                            0.912350  ...              0.136847   \n",
       "\n",
       "   perf_grp_precision_1  perf_grp_false positive rate_0  \\\n",
       "0                   NaN                             NaN   \n",
       "0              0.139041                        0.875853   \n",
       "0                   NaN                             NaN   \n",
       "0              0.159898                        0.705646   \n",
       "\n",
       "   perf_grp_false positive rate_1  perf_grp_false negative rate_0  \\\n",
       "0                             NaN                             NaN   \n",
       "0                        0.932484                        0.058699   \n",
       "0                             NaN                             NaN   \n",
       "0                        0.767400                        0.141470   \n",
       "\n",
       "   perf_grp_false negative rate_1  perf_grp_selection rate_0  \\\n",
       "0                             NaN                        NaN   \n",
       "0                        0.010941                   0.883398   \n",
       "0                             NaN                        NaN   \n",
       "0                        0.040700                   0.723272   \n",
       "\n",
       "   perf_grp_selection rate_1  perf_grp_count_0  perf_grp_count_1  \n",
       "0                        NaN               NaN               NaN  \n",
       "0                   0.939960           20540.0           69170.0  \n",
       "0                        NaN               NaN               NaN  \n",
       "0                   0.792757           20540.0           69170.0  \n",
       "\n",
       "[4 rows x 50 columns]"
      ]
     },
     "execution_count": 57,
     "metadata": {},
     "output_type": "execute_result"
    }
   ],
   "source": [
    "final_output = universe_analysis.generate_final_output(\n",
    "    y_pred_prob=probs_test,\n",
    "    y_test=y_true,\n",
    "    org_test=org_test,\n",
    "    save=True,\n",
    "    filter_data=filter_sub_universe_data\n",
    ")\n",
    "final_output"
   ]
  },
  {
   "cell_type": "code",
   "execution_count": null,
   "id": "721ff514-cb11-46f8-b6fc-50392f74b5cb",
   "metadata": {
    "papermill": {
     "duration": 0.026326,
     "end_time": "2025-07-16T15:27:43.985942",
     "exception": false,
     "start_time": "2025-07-16T15:27:43.959616",
     "status": "completed"
    },
    "tags": []
   },
   "outputs": [],
   "source": []
  }
 ],
 "metadata": {
  "celltoolbar": "Tags",
  "kernelspec": {
   "display_name": "Python (CMA Fairness)",
   "language": "python",
   "name": "cma_fair_env"
  },
  "language_info": {
   "codemirror_mode": {
    "name": "ipython",
    "version": 3
   },
   "file_extension": ".py",
   "mimetype": "text/x-python",
   "name": "python",
   "nbconvert_exporter": "python",
   "pygments_lexer": "ipython3",
   "version": "3.10.12"
  },
  "papermill": {
   "default_parameters": {},
   "duration": 54.167585,
   "end_time": "2025-07-16T15:27:44.832340",
   "environment_variables": {},
   "exception": null,
   "input_path": "universe_analysis.ipynb",
   "output_path": "output/runs/17/notebooks/m_17-47601ce248a345cf80aa089cf9880cfa.ipynb",
   "parameters": {
    "output_dir": "output",
    "run_no": "17",
    "seed": "2023",
    "universe": "{\"cutoff\": [\"quantile_0.1\", \"quantile_0.25\"], \"eval_fairness_grouping\": [\"majority-minority\", \"nationality-all\"], \"exclude_features\": \"nationality-sex\", \"exclude_subgroups\": \"drop-non-german\", \"model\": \"rf\"}",
    "universe_id": "47601ce248a345cf80aa089cf9880cfa"
   },
   "start_time": "2025-07-16T15:26:50.664755",
   "version": "2.6.0"
  }
 },
 "nbformat": 4,
 "nbformat_minor": 5
}