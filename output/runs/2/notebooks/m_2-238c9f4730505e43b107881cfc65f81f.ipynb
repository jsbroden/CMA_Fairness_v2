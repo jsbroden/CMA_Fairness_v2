{
 "cells": [
  {
   "cell_type": "markdown",
   "id": "b2057076-3a91-4cfa-9bfd-eab1e61b3068",
   "metadata": {
    "papermill": {
     "duration": 0.023846,
     "end_time": "2025-08-19T16:57:45.338142",
     "exception": false,
     "start_time": "2025-08-19T16:57:45.314296",
     "status": "completed"
    },
    "tags": []
   },
   "source": [
    "# Setup"
   ]
  },
  {
   "cell_type": "code",
   "execution_count": 1,
   "id": "f159f837-637b-42ba-96b5-ec9a68c44524",
   "metadata": {
    "execution": {
     "iopub.execute_input": "2025-08-19T16:57:45.361407Z",
     "iopub.status.busy": "2025-08-19T16:57:45.360977Z",
     "iopub.status.idle": "2025-08-19T16:57:45.373104Z",
     "shell.execute_reply": "2025-08-19T16:57:45.370641Z"
    },
    "papermill": {
     "duration": 0.024669,
     "end_time": "2025-08-19T16:57:45.374491",
     "exception": false,
     "start_time": "2025-08-19T16:57:45.349822",
     "status": "completed"
    },
    "tags": []
   },
   "outputs": [
    {
     "name": "stdout",
     "output_type": "stream",
     "text": [
      "/dss/dsshome1/0C/ra93lal2/cma/CMA_Fairness_v2\n"
     ]
    },
    {
     "name": "stderr",
     "output_type": "stream",
     "text": [
      "/dss/dsshome1/0C/ra93lal2/.local/share/virtualenvs/CMA_Fairness_v2-3j10GkSs/lib/python3.10/site-packages/IPython/core/magics/osm.py:393: UserWarning: This is now an optional IPython functionality, using bookmarks requires you to install the `pickleshare` library.\n",
      "  bkms = self.shell.db.get('bookmarks', {})\n",
      "/dss/dsshome1/0C/ra93lal2/.local/share/virtualenvs/CMA_Fairness_v2-3j10GkSs/lib/python3.10/site-packages/IPython/core/magics/osm.py:417: UserWarning: This is now an optional IPython functionality, setting dhist requires you to install the `pickleshare` library.\n",
      "  self.shell.db['dhist'] = compress_dhist(dhist)[-100:]\n"
     ]
    }
   ],
   "source": [
    "%cd ~/cma/CMA_Fairness_v2"
   ]
  },
  {
   "cell_type": "markdown",
   "id": "de2603b9",
   "metadata": {
    "papermill": {
     "duration": 0.009319,
     "end_time": "2025-08-19T16:57:45.395671",
     "exception": false,
     "start_time": "2025-08-19T16:57:45.386352",
     "status": "completed"
    },
    "tags": []
   },
   "source": [
    "The following cell holds the definition of our parameters, these values can be overriden by rendering the with e.g. the following command:\n",
    "\n",
    "papermill -p alpha 0.2 -p ratio 0.3 universe_analysis.ipynb output/test_run.ipynb"
   ]
  },
  {
   "cell_type": "code",
   "execution_count": 2,
   "id": "a80968a0-40bb-4fa9-85ef-2d5eefb01975",
   "metadata": {
    "execution": {
     "iopub.execute_input": "2025-08-19T16:57:45.415236Z",
     "iopub.status.busy": "2025-08-19T16:57:45.414490Z",
     "iopub.status.idle": "2025-08-19T16:57:45.418324Z",
     "shell.execute_reply": "2025-08-19T16:57:45.417780Z"
    },
    "papermill": {
     "duration": 0.014823,
     "end_time": "2025-08-19T16:57:45.419471",
     "exception": false,
     "start_time": "2025-08-19T16:57:45.404648",
     "status": "completed"
    },
    "tags": []
   },
   "outputs": [
    {
     "name": "stdout",
     "output_type": "stream",
     "text": [
      "Current working directory: /dss/dsshome1/0C/ra93lal2/cma/CMA_Fairness_v2\n"
     ]
    }
   ],
   "source": [
    "import os\n",
    "print(\"Current working directory:\", os.getcwd())"
   ]
  },
  {
   "cell_type": "code",
   "execution_count": 3,
   "id": "2dce4c03",
   "metadata": {
    "execution": {
     "iopub.execute_input": "2025-08-19T16:57:45.439829Z",
     "iopub.status.busy": "2025-08-19T16:57:45.439236Z",
     "iopub.status.idle": "2025-08-19T16:57:45.445778Z",
     "shell.execute_reply": "2025-08-19T16:57:45.444764Z"
    },
    "papermill": {
     "duration": 0.017924,
     "end_time": "2025-08-19T16:57:45.447003",
     "exception": false,
     "start_time": "2025-08-19T16:57:45.429079",
     "status": "completed"
    },
    "tags": [
     "parameters"
    ]
   },
   "outputs": [],
   "source": [
    "run_no = 0\n",
    "universe_id = \"test\"\n",
    "universe = {\n",
    "    \"training_size\": \"5k\", # \"25k\", \"5k\", \"1k\"\n",
    "    \"training_year\": \"2012_14\", # \"2014\", \"2012_14\", \"2010_14\"\n",
    "    \"scale\": \"scale\", # \"scale\", \"do-not-scale\",\n",
    "    \"model\": \"elasticnet\", # \"logreg\", \"penalized_logreg\", \"rf\", \"gbm\", \"elasticnet\"\n",
    "    \"cutoff\": [\"quantile_0.15\", \"quantile_0.30\"],\n",
    "    \"exclude_features\": \"age\", # \"none\", \"nationality\", \"sex\", \"nationality-sex\", \"age\"\n",
    "    \"exclude_subgroups\": \"drop-non-german\", # \"keep-all\", \"drop-non-german\"\n",
    "    \"eval_fairness_grouping\": [\"majority-minority\", \"nationality-all\"]\n",
    "}\n",
    "\n",
    "output_dir=\"./output\"\n",
    "seed=0"
   ]
  },
  {
   "cell_type": "code",
   "execution_count": 4,
   "id": "49197a7a",
   "metadata": {
    "execution": {
     "iopub.execute_input": "2025-08-19T16:57:45.468580Z",
     "iopub.status.busy": "2025-08-19T16:57:45.466996Z",
     "iopub.status.idle": "2025-08-19T16:57:45.474917Z",
     "shell.execute_reply": "2025-08-19T16:57:45.473552Z"
    },
    "papermill": {
     "duration": 0.020006,
     "end_time": "2025-08-19T16:57:45.476501",
     "exception": false,
     "start_time": "2025-08-19T16:57:45.456495",
     "status": "completed"
    },
    "tags": [
     "injected-parameters"
    ]
   },
   "outputs": [],
   "source": [
    "# Parameters\n",
    "universe_id = \"238c9f4730505e43b107881cfc65f81f\"\n",
    "run_no = \"2\"\n",
    "universe = \"{\\\"cutoff\\\": [\\\"quantile_0.1\\\", \\\"quantile_0.25\\\"], \\\"eval_fairness_grouping\\\": [\\\"majority-minority\\\", \\\"nationality-all\\\"], \\\"exclude_features\\\": \\\"none\\\", \\\"exclude_subgroups\\\": \\\"drop-non-german\\\", \\\"model\\\": \\\"rf\\\", \\\"scale\\\": \\\"scale\\\", \\\"training_size\\\": \\\"25k\\\", \\\"training_year\\\": \\\"2014\\\"}\"\n",
    "output_dir = \"output\"\n",
    "seed = \"2023\"\n"
   ]
  },
  {
   "cell_type": "code",
   "execution_count": 5,
   "id": "1650acaf",
   "metadata": {
    "execution": {
     "iopub.execute_input": "2025-08-19T16:57:45.500650Z",
     "iopub.status.busy": "2025-08-19T16:57:45.499651Z",
     "iopub.status.idle": "2025-08-19T16:57:45.507322Z",
     "shell.execute_reply": "2025-08-19T16:57:45.505745Z"
    },
    "papermill": {
     "duration": 0.021131,
     "end_time": "2025-08-19T16:57:45.509213",
     "exception": false,
     "start_time": "2025-08-19T16:57:45.488082",
     "status": "completed"
    },
    "tags": []
   },
   "outputs": [],
   "source": [
    "import json\n",
    "if isinstance(universe, str):\n",
    "    universe = json.loads(universe)"
   ]
  },
  {
   "cell_type": "code",
   "execution_count": 6,
   "id": "16620c48",
   "metadata": {
    "execution": {
     "iopub.execute_input": "2025-08-19T16:57:45.534152Z",
     "iopub.status.busy": "2025-08-19T16:57:45.531585Z",
     "iopub.status.idle": "2025-08-19T16:57:45.596801Z",
     "shell.execute_reply": "2025-08-19T16:57:45.595885Z"
    },
    "papermill": {
     "duration": 0.078841,
     "end_time": "2025-08-19T16:57:45.599578",
     "exception": false,
     "start_time": "2025-08-19T16:57:45.520737",
     "status": "completed"
    },
    "tags": []
   },
   "outputs": [],
   "source": [
    "# Auto-reload the custom package\n",
    "%load_ext autoreload\n",
    "%autoreload 1\n",
    "%aimport fairness_multiverse"
   ]
  },
  {
   "cell_type": "code",
   "execution_count": 7,
   "id": "01c5c9f3",
   "metadata": {
    "execution": {
     "iopub.execute_input": "2025-08-19T16:57:45.637590Z",
     "iopub.status.busy": "2025-08-19T16:57:45.636941Z",
     "iopub.status.idle": "2025-08-19T16:57:47.303180Z",
     "shell.execute_reply": "2025-08-19T16:57:47.302417Z"
    },
    "papermill": {
     "duration": 1.681959,
     "end_time": "2025-08-19T16:57:47.304731",
     "exception": false,
     "start_time": "2025-08-19T16:57:45.622772",
     "status": "completed"
    },
    "tags": []
   },
   "outputs": [],
   "source": [
    "from fairness_multiverse.universe import UniverseAnalysis\n",
    "\n",
    "universe_analysis = UniverseAnalysis(\n",
    "    run_no = run_no,\n",
    "    universe_id = universe_id,\n",
    "    universe = universe,\n",
    "    output_dir=output_dir,\n",
    ")"
   ]
  },
  {
   "cell_type": "code",
   "execution_count": 8,
   "id": "106241f5",
   "metadata": {
    "execution": {
     "iopub.execute_input": "2025-08-19T16:57:47.329167Z",
     "iopub.status.busy": "2025-08-19T16:57:47.328840Z",
     "iopub.status.idle": "2025-08-19T16:57:47.334338Z",
     "shell.execute_reply": "2025-08-19T16:57:47.333645Z"
    },
    "papermill": {
     "duration": 0.021024,
     "end_time": "2025-08-19T16:57:47.336114",
     "exception": false,
     "start_time": "2025-08-19T16:57:47.315090",
     "status": "completed"
    },
    "tags": []
   },
   "outputs": [
    {
     "name": "stdout",
     "output_type": "stream",
     "text": [
      "Using Seed: 2023\n"
     ]
    }
   ],
   "source": [
    "import numpy as np\n",
    "parsed_seed = int(seed)\n",
    "np.random.seed(parsed_seed)\n",
    "print(f\"Using Seed: {parsed_seed}\")"
   ]
  },
  {
   "cell_type": "markdown",
   "id": "e0ebdc57",
   "metadata": {
    "papermill": {
     "duration": 0.010141,
     "end_time": "2025-08-19T16:57:47.356361",
     "exception": false,
     "start_time": "2025-08-19T16:57:47.346220",
     "status": "completed"
    },
    "tags": []
   },
   "source": [
    "# Loading Data"
   ]
  },
  {
   "cell_type": "code",
   "execution_count": 9,
   "id": "f0496b8a",
   "metadata": {
    "execution": {
     "iopub.execute_input": "2025-08-19T16:57:47.376020Z",
     "iopub.status.busy": "2025-08-19T16:57:47.375733Z",
     "iopub.status.idle": "2025-08-19T16:57:57.501940Z",
     "shell.execute_reply": "2025-08-19T16:57:57.500666Z"
    },
    "papermill": {
     "duration": 10.137685,
     "end_time": "2025-08-19T16:57:57.503340",
     "exception": false,
     "start_time": "2025-08-19T16:57:47.365655",
     "status": "completed"
    },
    "tags": []
   },
   "outputs": [
    {
     "name": "stdout",
     "output_type": "stream",
     "text": [
      "Loading SIAB data from cache: data/siab_cached.csv.gz\n"
     ]
    },
    {
     "name": "stdout",
     "output_type": "stream",
     "text": [
      "(643690, 164)\n"
     ]
    }
   ],
   "source": [
    "from pathlib import Path\n",
    "import pandas as pd\n",
    "\n",
    "# File paths\n",
    "raw_file = Path(\"data/raw/siab.csv\")\n",
    "cache_file = Path(\"data/siab_cached.csv.gz\")\n",
    "\n",
    "# Ensure cache directory exists\n",
    "cache_file.parent.mkdir(parents=True, exist_ok=True)\n",
    "\n",
    "# Load with simple caching\n",
    "if cache_file.exists():\n",
    "    print(f\"Loading SIAB data from cache: {cache_file}\")\n",
    "    siab = pd.read_csv(cache_file, compression='gzip')\n",
    "else:\n",
    "    print(f\"Cache not found. Reading raw SIAB data: {raw_file}\")\n",
    "    siab = pd.read_csv(raw_file)\n",
    "    siab.to_csv(cache_file, index=False, compression='gzip')\n",
    "    print(f\"Cached SIAB data to: {cache_file}\")\n",
    "\n",
    "print(siab.shape)"
   ]
  },
  {
   "cell_type": "code",
   "execution_count": 10,
   "id": "db0ca512-5f53-4dba-abdb-a2888bca41ba",
   "metadata": {
    "execution": {
     "iopub.execute_input": "2025-08-19T16:57:57.544956Z",
     "iopub.status.busy": "2025-08-19T16:57:57.542936Z",
     "iopub.status.idle": "2025-08-19T16:57:57.720669Z",
     "shell.execute_reply": "2025-08-19T16:57:57.719903Z"
    },
    "papermill": {
     "duration": 0.194163,
     "end_time": "2025-08-19T16:57:57.722038",
     "exception": false,
     "start_time": "2025-08-19T16:57:57.527875",
     "status": "completed"
    },
    "tags": []
   },
   "outputs": [
    {
     "data": {
      "text/html": [
       "<div>\n",
       "<style scoped>\n",
       "    .dataframe tbody tr th:only-of-type {\n",
       "        vertical-align: middle;\n",
       "    }\n",
       "\n",
       "    .dataframe tbody tr th {\n",
       "        vertical-align: top;\n",
       "    }\n",
       "\n",
       "    .dataframe thead th {\n",
       "        text-align: right;\n",
       "    }\n",
       "</style>\n",
       "<table border=\"1\" class=\"dataframe\">\n",
       "  <thead>\n",
       "    <tr style=\"text-align: right;\">\n",
       "      <th></th>\n",
       "      <th>persnr</th>\n",
       "      <th>year</th>\n",
       "      <th>nrEntry</th>\n",
       "      <th>ltue</th>\n",
       "      <th>employed_before</th>\n",
       "      <th>receipt_leh_before</th>\n",
       "      <th>receipt_lhg_before</th>\n",
       "      <th>se_before</th>\n",
       "      <th>ASU_notue_seeking_before</th>\n",
       "      <th>ASU_other_before</th>\n",
       "      <th>...</th>\n",
       "      <th>minijob_tot_dur_byage</th>\n",
       "      <th>ft_tot_dur_byage</th>\n",
       "      <th>befrist_tot_dur_byage</th>\n",
       "      <th>leih_tot_dur_byage</th>\n",
       "      <th>LHG_tot_dur_byage</th>\n",
       "      <th>LEH_tot_dur_byage</th>\n",
       "      <th>almp_tot_dur_byage</th>\n",
       "      <th>almp_aw_tot_dur_byage</th>\n",
       "      <th>se_tot_dur_byage</th>\n",
       "      <th>seeking1_tot_dur_byage</th>\n",
       "    </tr>\n",
       "  </thead>\n",
       "  <tbody>\n",
       "    <tr>\n",
       "      <th>0</th>\n",
       "      <td>7</td>\n",
       "      <td>2015</td>\n",
       "      <td>1</td>\n",
       "      <td>0</td>\n",
       "      <td>1</td>\n",
       "      <td>0</td>\n",
       "      <td>0</td>\n",
       "      <td>0</td>\n",
       "      <td>1</td>\n",
       "      <td>0</td>\n",
       "      <td>...</td>\n",
       "      <td>0.000000</td>\n",
       "      <td>0.000000</td>\n",
       "      <td>15.043478</td>\n",
       "      <td>0.000000</td>\n",
       "      <td>0.000000</td>\n",
       "      <td>0.000000</td>\n",
       "      <td>0.000000</td>\n",
       "      <td>0.000000</td>\n",
       "      <td>0.000000</td>\n",
       "      <td>0.000000</td>\n",
       "    </tr>\n",
       "    <tr>\n",
       "      <th>1</th>\n",
       "      <td>18</td>\n",
       "      <td>2010</td>\n",
       "      <td>1</td>\n",
       "      <td>1</td>\n",
       "      <td>0</td>\n",
       "      <td>0</td>\n",
       "      <td>0</td>\n",
       "      <td>0</td>\n",
       "      <td>0</td>\n",
       "      <td>0</td>\n",
       "      <td>...</td>\n",
       "      <td>0.000000</td>\n",
       "      <td>0.000000</td>\n",
       "      <td>0.000000</td>\n",
       "      <td>0.000000</td>\n",
       "      <td>0.000000</td>\n",
       "      <td>0.000000</td>\n",
       "      <td>0.000000</td>\n",
       "      <td>0.000000</td>\n",
       "      <td>0.000000</td>\n",
       "      <td>0.000000</td>\n",
       "    </tr>\n",
       "    <tr>\n",
       "      <th>2</th>\n",
       "      <td>18</td>\n",
       "      <td>2011</td>\n",
       "      <td>2</td>\n",
       "      <td>0</td>\n",
       "      <td>1</td>\n",
       "      <td>0</td>\n",
       "      <td>1</td>\n",
       "      <td>0</td>\n",
       "      <td>1</td>\n",
       "      <td>0</td>\n",
       "      <td>...</td>\n",
       "      <td>2.714286</td>\n",
       "      <td>2.714286</td>\n",
       "      <td>0.000000</td>\n",
       "      <td>0.000000</td>\n",
       "      <td>10.775510</td>\n",
       "      <td>0.000000</td>\n",
       "      <td>8.367347</td>\n",
       "      <td>0.000000</td>\n",
       "      <td>0.000000</td>\n",
       "      <td>9.836735</td>\n",
       "    </tr>\n",
       "    <tr>\n",
       "      <th>3</th>\n",
       "      <td>18</td>\n",
       "      <td>2012</td>\n",
       "      <td>3</td>\n",
       "      <td>0</td>\n",
       "      <td>1</td>\n",
       "      <td>0</td>\n",
       "      <td>1</td>\n",
       "      <td>0</td>\n",
       "      <td>1</td>\n",
       "      <td>0</td>\n",
       "      <td>...</td>\n",
       "      <td>4.200000</td>\n",
       "      <td>4.200000</td>\n",
       "      <td>0.000000</td>\n",
       "      <td>0.000000</td>\n",
       "      <td>12.100000</td>\n",
       "      <td>0.000000</td>\n",
       "      <td>9.400000</td>\n",
       "      <td>0.000000</td>\n",
       "      <td>0.000000</td>\n",
       "      <td>9.960000</td>\n",
       "    </tr>\n",
       "    <tr>\n",
       "      <th>4</th>\n",
       "      <td>18</td>\n",
       "      <td>2012</td>\n",
       "      <td>4</td>\n",
       "      <td>0</td>\n",
       "      <td>1</td>\n",
       "      <td>0</td>\n",
       "      <td>1</td>\n",
       "      <td>0</td>\n",
       "      <td>1</td>\n",
       "      <td>0</td>\n",
       "      <td>...</td>\n",
       "      <td>5.460000</td>\n",
       "      <td>5.460000</td>\n",
       "      <td>0.000000</td>\n",
       "      <td>0.000000</td>\n",
       "      <td>13.360000</td>\n",
       "      <td>0.000000</td>\n",
       "      <td>10.320000</td>\n",
       "      <td>0.000000</td>\n",
       "      <td>0.000000</td>\n",
       "      <td>10.280000</td>\n",
       "    </tr>\n",
       "    <tr>\n",
       "      <th>...</th>\n",
       "      <td>...</td>\n",
       "      <td>...</td>\n",
       "      <td>...</td>\n",
       "      <td>...</td>\n",
       "      <td>...</td>\n",
       "      <td>...</td>\n",
       "      <td>...</td>\n",
       "      <td>...</td>\n",
       "      <td>...</td>\n",
       "      <td>...</td>\n",
       "      <td>...</td>\n",
       "      <td>...</td>\n",
       "      <td>...</td>\n",
       "      <td>...</td>\n",
       "      <td>...</td>\n",
       "      <td>...</td>\n",
       "      <td>...</td>\n",
       "      <td>...</td>\n",
       "      <td>...</td>\n",
       "      <td>...</td>\n",
       "      <td>...</td>\n",
       "    </tr>\n",
       "    <tr>\n",
       "      <th>643685</th>\n",
       "      <td>1827860</td>\n",
       "      <td>2013</td>\n",
       "      <td>1</td>\n",
       "      <td>0</td>\n",
       "      <td>0</td>\n",
       "      <td>0</td>\n",
       "      <td>1</td>\n",
       "      <td>0</td>\n",
       "      <td>0</td>\n",
       "      <td>1</td>\n",
       "      <td>...</td>\n",
       "      <td>0.000000</td>\n",
       "      <td>0.000000</td>\n",
       "      <td>0.000000</td>\n",
       "      <td>0.000000</td>\n",
       "      <td>0.612903</td>\n",
       "      <td>0.000000</td>\n",
       "      <td>0.000000</td>\n",
       "      <td>0.000000</td>\n",
       "      <td>0.000000</td>\n",
       "      <td>0.000000</td>\n",
       "    </tr>\n",
       "    <tr>\n",
       "      <th>643686</th>\n",
       "      <td>1827860</td>\n",
       "      <td>2015</td>\n",
       "      <td>2</td>\n",
       "      <td>1</td>\n",
       "      <td>0</td>\n",
       "      <td>0</td>\n",
       "      <td>1</td>\n",
       "      <td>0</td>\n",
       "      <td>1</td>\n",
       "      <td>0</td>\n",
       "      <td>...</td>\n",
       "      <td>0.000000</td>\n",
       "      <td>0.000000</td>\n",
       "      <td>0.212121</td>\n",
       "      <td>0.212121</td>\n",
       "      <td>17.363636</td>\n",
       "      <td>0.000000</td>\n",
       "      <td>8.909091</td>\n",
       "      <td>0.000000</td>\n",
       "      <td>0.000000</td>\n",
       "      <td>7.121212</td>\n",
       "    </tr>\n",
       "    <tr>\n",
       "      <th>643687</th>\n",
       "      <td>1827860</td>\n",
       "      <td>2016</td>\n",
       "      <td>3</td>\n",
       "      <td>1</td>\n",
       "      <td>0</td>\n",
       "      <td>0</td>\n",
       "      <td>1</td>\n",
       "      <td>1</td>\n",
       "      <td>0</td>\n",
       "      <td>1</td>\n",
       "      <td>...</td>\n",
       "      <td>0.000000</td>\n",
       "      <td>0.000000</td>\n",
       "      <td>0.294118</td>\n",
       "      <td>0.205882</td>\n",
       "      <td>34.705882</td>\n",
       "      <td>0.000000</td>\n",
       "      <td>10.352941</td>\n",
       "      <td>1.705882</td>\n",
       "      <td>1.705882</td>\n",
       "      <td>23.911765</td>\n",
       "    </tr>\n",
       "    <tr>\n",
       "      <th>643688</th>\n",
       "      <td>1827869</td>\n",
       "      <td>2013</td>\n",
       "      <td>1</td>\n",
       "      <td>1</td>\n",
       "      <td>1</td>\n",
       "      <td>0</td>\n",
       "      <td>0</td>\n",
       "      <td>0</td>\n",
       "      <td>1</td>\n",
       "      <td>0</td>\n",
       "      <td>...</td>\n",
       "      <td>0.000000</td>\n",
       "      <td>0.000000</td>\n",
       "      <td>0.000000</td>\n",
       "      <td>0.000000</td>\n",
       "      <td>0.000000</td>\n",
       "      <td>0.525424</td>\n",
       "      <td>0.000000</td>\n",
       "      <td>0.000000</td>\n",
       "      <td>0.000000</td>\n",
       "      <td>0.000000</td>\n",
       "    </tr>\n",
       "    <tr>\n",
       "      <th>643689</th>\n",
       "      <td>1827869</td>\n",
       "      <td>2014</td>\n",
       "      <td>2</td>\n",
       "      <td>0</td>\n",
       "      <td>0</td>\n",
       "      <td>1</td>\n",
       "      <td>0</td>\n",
       "      <td>0</td>\n",
       "      <td>1</td>\n",
       "      <td>0</td>\n",
       "      <td>...</td>\n",
       "      <td>0.000000</td>\n",
       "      <td>0.666667</td>\n",
       "      <td>0.666667</td>\n",
       "      <td>0.000000</td>\n",
       "      <td>0.000000</td>\n",
       "      <td>8.950000</td>\n",
       "      <td>1.033333</td>\n",
       "      <td>0.083333</td>\n",
       "      <td>0.083333</td>\n",
       "      <td>8.133333</td>\n",
       "    </tr>\n",
       "  </tbody>\n",
       "</table>\n",
       "<p>643690 rows × 164 columns</p>\n",
       "</div>"
      ],
      "text/plain": [
       "         persnr  year  nrEntry  ltue  employed_before  receipt_leh_before  \\\n",
       "0             7  2015        1     0                1                   0   \n",
       "1            18  2010        1     1                0                   0   \n",
       "2            18  2011        2     0                1                   0   \n",
       "3            18  2012        3     0                1                   0   \n",
       "4            18  2012        4     0                1                   0   \n",
       "...         ...   ...      ...   ...              ...                 ...   \n",
       "643685  1827860  2013        1     0                0                   0   \n",
       "643686  1827860  2015        2     1                0                   0   \n",
       "643687  1827860  2016        3     1                0                   0   \n",
       "643688  1827869  2013        1     1                1                   0   \n",
       "643689  1827869  2014        2     0                0                   1   \n",
       "\n",
       "        receipt_lhg_before  se_before  ASU_notue_seeking_before  \\\n",
       "0                        0          0                         1   \n",
       "1                        0          0                         0   \n",
       "2                        1          0                         1   \n",
       "3                        1          0                         1   \n",
       "4                        1          0                         1   \n",
       "...                    ...        ...                       ...   \n",
       "643685                   1          0                         0   \n",
       "643686                   1          0                         1   \n",
       "643687                   1          1                         0   \n",
       "643688                   0          0                         1   \n",
       "643689                   0          0                         1   \n",
       "\n",
       "        ASU_other_before  ...  minijob_tot_dur_byage  ft_tot_dur_byage  \\\n",
       "0                      0  ...               0.000000          0.000000   \n",
       "1                      0  ...               0.000000          0.000000   \n",
       "2                      0  ...               2.714286          2.714286   \n",
       "3                      0  ...               4.200000          4.200000   \n",
       "4                      0  ...               5.460000          5.460000   \n",
       "...                  ...  ...                    ...               ...   \n",
       "643685                 1  ...               0.000000          0.000000   \n",
       "643686                 0  ...               0.000000          0.000000   \n",
       "643687                 1  ...               0.000000          0.000000   \n",
       "643688                 0  ...               0.000000          0.000000   \n",
       "643689                 0  ...               0.000000          0.666667   \n",
       "\n",
       "        befrist_tot_dur_byage  leih_tot_dur_byage  LHG_tot_dur_byage  \\\n",
       "0                   15.043478            0.000000           0.000000   \n",
       "1                    0.000000            0.000000           0.000000   \n",
       "2                    0.000000            0.000000          10.775510   \n",
       "3                    0.000000            0.000000          12.100000   \n",
       "4                    0.000000            0.000000          13.360000   \n",
       "...                       ...                 ...                ...   \n",
       "643685               0.000000            0.000000           0.612903   \n",
       "643686               0.212121            0.212121          17.363636   \n",
       "643687               0.294118            0.205882          34.705882   \n",
       "643688               0.000000            0.000000           0.000000   \n",
       "643689               0.666667            0.000000           0.000000   \n",
       "\n",
       "        LEH_tot_dur_byage  almp_tot_dur_byage  almp_aw_tot_dur_byage  \\\n",
       "0                0.000000            0.000000               0.000000   \n",
       "1                0.000000            0.000000               0.000000   \n",
       "2                0.000000            8.367347               0.000000   \n",
       "3                0.000000            9.400000               0.000000   \n",
       "4                0.000000           10.320000               0.000000   \n",
       "...                   ...                 ...                    ...   \n",
       "643685           0.000000            0.000000               0.000000   \n",
       "643686           0.000000            8.909091               0.000000   \n",
       "643687           0.000000           10.352941               1.705882   \n",
       "643688           0.525424            0.000000               0.000000   \n",
       "643689           8.950000            1.033333               0.083333   \n",
       "\n",
       "        se_tot_dur_byage  seeking1_tot_dur_byage  \n",
       "0               0.000000                0.000000  \n",
       "1               0.000000                0.000000  \n",
       "2               0.000000                9.836735  \n",
       "3               0.000000                9.960000  \n",
       "4               0.000000               10.280000  \n",
       "...                  ...                     ...  \n",
       "643685          0.000000                0.000000  \n",
       "643686          0.000000                7.121212  \n",
       "643687          1.705882               23.911765  \n",
       "643688          0.000000                0.000000  \n",
       "643689          0.083333                8.133333  \n",
       "\n",
       "[643690 rows x 164 columns]"
      ]
     },
     "execution_count": 10,
     "metadata": {},
     "output_type": "execute_result"
    }
   ],
   "source": [
    "siab"
   ]
  },
  {
   "cell_type": "markdown",
   "id": "997051c5-15bd-4b69-9786-c3001a3ce484",
   "metadata": {
    "papermill": {
     "duration": 0.010078,
     "end_time": "2025-08-19T16:57:57.742836",
     "exception": false,
     "start_time": "2025-08-19T16:57:57.732758",
     "status": "completed"
    },
    "tags": []
   },
   "source": [
    "# Splitting Data and Setting Training Data Size"
   ]
  },
  {
   "cell_type": "code",
   "execution_count": 11,
   "id": "aea9c6ef-6f46-42c8-85eb-5a62025c1508",
   "metadata": {
    "execution": {
     "iopub.execute_input": "2025-08-19T16:57:57.764240Z",
     "iopub.status.busy": "2025-08-19T16:57:57.763922Z",
     "iopub.status.idle": "2025-08-19T16:57:58.048909Z",
     "shell.execute_reply": "2025-08-19T16:57:58.048088Z"
    },
    "papermill": {
     "duration": 0.298112,
     "end_time": "2025-08-19T16:57:58.050896",
     "exception": false,
     "start_time": "2025-08-19T16:57:57.752784",
     "status": "completed"
    },
    "tags": []
   },
   "outputs": [],
   "source": [
    "from fairness_multiverse.universe import sample_by_year_size\n",
    "\n",
    "siab_train = sample_by_year_size(siab,\n",
    "                               training_year=universe[\"training_year\"],\n",
    "                               training_size=universe[\"training_size\"])"
   ]
  },
  {
   "cell_type": "code",
   "execution_count": 12,
   "id": "8d3afb32-789d-442c-8d5d-9f5aa8dd2eed",
   "metadata": {
    "execution": {
     "iopub.execute_input": "2025-08-19T16:57:58.075957Z",
     "iopub.status.busy": "2025-08-19T16:57:58.075629Z",
     "iopub.status.idle": "2025-08-19T16:57:58.081564Z",
     "shell.execute_reply": "2025-08-19T16:57:58.080879Z"
    },
    "papermill": {
     "duration": 0.018899,
     "end_time": "2025-08-19T16:57:58.082932",
     "exception": false,
     "start_time": "2025-08-19T16:57:58.064033",
     "status": "completed"
    },
    "tags": []
   },
   "outputs": [
    {
     "data": {
      "text/plain": [
       "(25000, 164)"
      ]
     },
     "execution_count": 12,
     "metadata": {},
     "output_type": "execute_result"
    }
   ],
   "source": [
    "siab_train.shape"
   ]
  },
  {
   "cell_type": "code",
   "execution_count": 13,
   "id": "d582db68-1a4c-47fb-84fc-08518dc1975a",
   "metadata": {
    "execution": {
     "iopub.execute_input": "2025-08-19T16:57:58.107471Z",
     "iopub.status.busy": "2025-08-19T16:57:58.106513Z",
     "iopub.status.idle": "2025-08-19T16:57:58.117898Z",
     "shell.execute_reply": "2025-08-19T16:57:58.117043Z"
    },
    "papermill": {
     "duration": 0.024168,
     "end_time": "2025-08-19T16:57:58.119100",
     "exception": false,
     "start_time": "2025-08-19T16:57:58.094932",
     "status": "completed"
    },
    "tags": []
   },
   "outputs": [
    {
     "data": {
      "text/plain": [
       "year\n",
       "2014    25000\n",
       "dtype: int64"
      ]
     },
     "metadata": {},
     "output_type": "display_data"
    }
   ],
   "source": [
    "display(siab_train.groupby(\"year\").size())"
   ]
  },
  {
   "cell_type": "code",
   "execution_count": 14,
   "id": "a561edb4-d032-42cb-8256-22eac1111c64",
   "metadata": {
    "execution": {
     "iopub.execute_input": "2025-08-19T16:57:58.148091Z",
     "iopub.status.busy": "2025-08-19T16:57:58.146893Z",
     "iopub.status.idle": "2025-08-19T16:57:58.429225Z",
     "shell.execute_reply": "2025-08-19T16:57:58.428156Z"
    },
    "papermill": {
     "duration": 0.298286,
     "end_time": "2025-08-19T16:57:58.431347",
     "exception": false,
     "start_time": "2025-08-19T16:57:58.133061",
     "status": "completed"
    },
    "tags": []
   },
   "outputs": [],
   "source": [
    "#siab_train = siab_s[siab_s.year < 2015]\n",
    "siab_calib = siab[siab.year == 2015]\n",
    "siab_test = siab[siab.year == 2016]"
   ]
  },
  {
   "cell_type": "code",
   "execution_count": 15,
   "id": "bc10fe59",
   "metadata": {
    "execution": {
     "iopub.execute_input": "2025-08-19T16:57:58.460495Z",
     "iopub.status.busy": "2025-08-19T16:57:58.460094Z",
     "iopub.status.idle": "2025-08-19T16:57:58.466340Z",
     "shell.execute_reply": "2025-08-19T16:57:58.465240Z"
    },
    "papermill": {
     "duration": 0.020442,
     "end_time": "2025-08-19T16:57:58.467696",
     "exception": false,
     "start_time": "2025-08-19T16:57:58.447254",
     "status": "completed"
    },
    "tags": []
   },
   "outputs": [],
   "source": [
    "#siab_calib.shape"
   ]
  },
  {
   "cell_type": "code",
   "execution_count": 16,
   "id": "d6aeff2f",
   "metadata": {
    "execution": {
     "iopub.execute_input": "2025-08-19T16:57:58.495431Z",
     "iopub.status.busy": "2025-08-19T16:57:58.494614Z",
     "iopub.status.idle": "2025-08-19T16:57:58.499249Z",
     "shell.execute_reply": "2025-08-19T16:57:58.498440Z"
    },
    "papermill": {
     "duration": 0.023574,
     "end_time": "2025-08-19T16:57:58.502250",
     "exception": false,
     "start_time": "2025-08-19T16:57:58.478676",
     "status": "completed"
    },
    "tags": []
   },
   "outputs": [],
   "source": [
    "#siab_test.shape"
   ]
  },
  {
   "cell_type": "code",
   "execution_count": 17,
   "id": "472de16f-c3db-4916-846b-1f0de9cf1746",
   "metadata": {
    "execution": {
     "iopub.execute_input": "2025-08-19T16:57:58.529473Z",
     "iopub.status.busy": "2025-08-19T16:57:58.529075Z",
     "iopub.status.idle": "2025-08-19T16:57:58.542724Z",
     "shell.execute_reply": "2025-08-19T16:57:58.541903Z"
    },
    "papermill": {
     "duration": 0.040856,
     "end_time": "2025-08-19T16:57:58.554997",
     "exception": false,
     "start_time": "2025-08-19T16:57:58.514141",
     "status": "completed"
    },
    "tags": []
   },
   "outputs": [],
   "source": [
    "X_train = siab_train.iloc[:,4:164]\n",
    "y_train = siab_train.iloc[:, [3]]"
   ]
  },
  {
   "cell_type": "code",
   "execution_count": null,
   "id": "a843c1c8",
   "metadata": {
    "papermill": {
     "duration": 0.010627,
     "end_time": "2025-08-19T16:57:58.580419",
     "exception": false,
     "start_time": "2025-08-19T16:57:58.569792",
     "status": "completed"
    },
    "tags": []
   },
   "outputs": [],
   "source": []
  },
  {
   "cell_type": "code",
   "execution_count": 18,
   "id": "828c96af-f43a-4ed6-ba47-8ac73a47d56c",
   "metadata": {
    "execution": {
     "iopub.execute_input": "2025-08-19T16:57:58.602962Z",
     "iopub.status.busy": "2025-08-19T16:57:58.602649Z",
     "iopub.status.idle": "2025-08-19T16:57:58.654081Z",
     "shell.execute_reply": "2025-08-19T16:57:58.653273Z"
    },
    "papermill": {
     "duration": 0.066399,
     "end_time": "2025-08-19T16:57:58.657423",
     "exception": false,
     "start_time": "2025-08-19T16:57:58.591024",
     "status": "completed"
    },
    "tags": []
   },
   "outputs": [],
   "source": [
    "X_calib = siab_calib.iloc[:,4:164]\n",
    "y_calib = siab_calib.iloc[:, [3]]"
   ]
  },
  {
   "cell_type": "code",
   "execution_count": 19,
   "id": "c34be9c3-6bd6-476e-acd3-845840e303be",
   "metadata": {
    "execution": {
     "iopub.execute_input": "2025-08-19T16:57:58.708134Z",
     "iopub.status.busy": "2025-08-19T16:57:58.706787Z",
     "iopub.status.idle": "2025-08-19T16:57:58.769108Z",
     "shell.execute_reply": "2025-08-19T16:57:58.768214Z"
    },
    "papermill": {
     "duration": 0.091583,
     "end_time": "2025-08-19T16:57:58.770822",
     "exception": false,
     "start_time": "2025-08-19T16:57:58.679239",
     "status": "completed"
    },
    "tags": []
   },
   "outputs": [],
   "source": [
    "X_test = siab_test.iloc[:,4:164]\n",
    "y_true = siab_test.iloc[:, [3]]"
   ]
  },
  {
   "cell_type": "code",
   "execution_count": 20,
   "id": "e6c733c5",
   "metadata": {
    "execution": {
     "iopub.execute_input": "2025-08-19T16:57:58.794814Z",
     "iopub.status.busy": "2025-08-19T16:57:58.794116Z",
     "iopub.status.idle": "2025-08-19T16:57:58.924312Z",
     "shell.execute_reply": "2025-08-19T16:57:58.923658Z"
    },
    "papermill": {
     "duration": 0.143947,
     "end_time": "2025-08-19T16:57:58.925783",
     "exception": false,
     "start_time": "2025-08-19T16:57:58.781836",
     "status": "completed"
    },
    "tags": []
   },
   "outputs": [],
   "source": [
    "# Auxiliary data needed downstream in the pipeline\n",
    "\n",
    "org_train = X_train.copy()\n",
    "org_test = X_test.copy()\n",
    "org_calib = X_calib.copy()"
   ]
  },
  {
   "cell_type": "markdown",
   "id": "0a4a1b33",
   "metadata": {
    "papermill": {
     "duration": 0.012923,
     "end_time": "2025-08-19T16:57:58.949735",
     "exception": false,
     "start_time": "2025-08-19T16:57:58.936812",
     "status": "completed"
    },
    "tags": []
   },
   "source": [
    "# Preprocessing Data"
   ]
  },
  {
   "cell_type": "code",
   "execution_count": 21,
   "id": "ca879031",
   "metadata": {
    "execution": {
     "iopub.execute_input": "2025-08-19T16:57:58.974590Z",
     "iopub.status.busy": "2025-08-19T16:57:58.973574Z",
     "iopub.status.idle": "2025-08-19T16:57:58.987376Z",
     "shell.execute_reply": "2025-08-19T16:57:58.986253Z"
    },
    "papermill": {
     "duration": 0.028689,
     "end_time": "2025-08-19T16:57:58.988943",
     "exception": false,
     "start_time": "2025-08-19T16:57:58.960254",
     "status": "completed"
    },
    "tags": []
   },
   "outputs": [],
   "source": [
    "# EXCLUDE PROTECTED FEATURES\n",
    "# --------------------------\n",
    "\n",
    "excluded_features = universe[\"exclude_features\"].split(\"-\")\n",
    "excluded_features_dictionary = {\n",
    "    \"nationality\": [\"maxdeutsch1\", \"maxdeutsch.Missing.\"],\n",
    "    \"sex\": [\"frau1\"],\n",
    "    \"age\": [\"age\"],\n",
    "}"
   ]
  },
  {
   "cell_type": "code",
   "execution_count": 22,
   "id": "b745ac60",
   "metadata": {
    "execution": {
     "iopub.execute_input": "2025-08-19T16:57:59.017857Z",
     "iopub.status.busy": "2025-08-19T16:57:59.016638Z",
     "iopub.status.idle": "2025-08-19T16:57:59.150864Z",
     "shell.execute_reply": "2025-08-19T16:57:59.149369Z"
    },
    "papermill": {
     "duration": 0.150352,
     "end_time": "2025-08-19T16:57:59.154211",
     "exception": false,
     "start_time": "2025-08-19T16:57:59.003859",
     "status": "completed"
    },
    "tags": []
   },
   "outputs": [],
   "source": [
    "excluded_features_columns = [\n",
    "    excluded_features_dictionary[f] for f in excluded_features if len(f) > 0 and f != \"none\"\n",
    "]"
   ]
  },
  {
   "cell_type": "code",
   "execution_count": 23,
   "id": "f84f73a2",
   "metadata": {
    "execution": {
     "iopub.execute_input": "2025-08-19T16:57:59.195303Z",
     "iopub.status.busy": "2025-08-19T16:57:59.194371Z",
     "iopub.status.idle": "2025-08-19T16:57:59.202285Z",
     "shell.execute_reply": "2025-08-19T16:57:59.201176Z"
    },
    "papermill": {
     "duration": 0.024431,
     "end_time": "2025-08-19T16:57:59.203836",
     "exception": false,
     "start_time": "2025-08-19T16:57:59.179405",
     "status": "completed"
    },
    "tags": []
   },
   "outputs": [],
   "source": [
    "from fairness_multiverse.universe import flatten_once\n",
    "\n",
    "excluded_features_columns = flatten_once(excluded_features_columns)"
   ]
  },
  {
   "cell_type": "code",
   "execution_count": 24,
   "id": "884dea22",
   "metadata": {
    "execution": {
     "iopub.execute_input": "2025-08-19T16:57:59.229602Z",
     "iopub.status.busy": "2025-08-19T16:57:59.228647Z",
     "iopub.status.idle": "2025-08-19T16:57:59.233161Z",
     "shell.execute_reply": "2025-08-19T16:57:59.232583Z"
    },
    "papermill": {
     "duration": 0.017437,
     "end_time": "2025-08-19T16:57:59.234317",
     "exception": false,
     "start_time": "2025-08-19T16:57:59.216880",
     "status": "completed"
    },
    "tags": []
   },
   "outputs": [],
   "source": [
    "if len(excluded_features_columns) > 0:\n",
    "    print(f\"Dropping features: {excluded_features_columns}\")\n",
    "    X_train.drop(excluded_features_columns, axis=1, inplace=True)"
   ]
  },
  {
   "cell_type": "code",
   "execution_count": 25,
   "id": "95ab8b16",
   "metadata": {
    "execution": {
     "iopub.execute_input": "2025-08-19T16:57:59.258386Z",
     "iopub.status.busy": "2025-08-19T16:57:59.258023Z",
     "iopub.status.idle": "2025-08-19T16:57:59.262248Z",
     "shell.execute_reply": "2025-08-19T16:57:59.261682Z"
    },
    "papermill": {
     "duration": 0.017741,
     "end_time": "2025-08-19T16:57:59.263304",
     "exception": false,
     "start_time": "2025-08-19T16:57:59.245563",
     "status": "completed"
    },
    "tags": []
   },
   "outputs": [],
   "source": [
    "if len(excluded_features_columns) > 0:\n",
    "    print(f\"Dropping features: {excluded_features_columns}\")\n",
    "    X_test.drop(excluded_features_columns, axis=1, inplace=True)"
   ]
  },
  {
   "cell_type": "code",
   "execution_count": 26,
   "id": "1853aaf5-fb9f-46cb-a2b5-8ea4ae2237e4",
   "metadata": {
    "execution": {
     "iopub.execute_input": "2025-08-19T16:57:59.287820Z",
     "iopub.status.busy": "2025-08-19T16:57:59.286911Z",
     "iopub.status.idle": "2025-08-19T16:57:59.292860Z",
     "shell.execute_reply": "2025-08-19T16:57:59.291889Z"
    },
    "papermill": {
     "duration": 0.019407,
     "end_time": "2025-08-19T16:57:59.294218",
     "exception": false,
     "start_time": "2025-08-19T16:57:59.274811",
     "status": "completed"
    },
    "tags": []
   },
   "outputs": [],
   "source": [
    "if len(excluded_features_columns) > 0:\n",
    "    print(f\"Dropping features: {excluded_features_columns}\")\n",
    "    X_calib.drop(excluded_features_columns, axis=1, inplace=True)"
   ]
  },
  {
   "cell_type": "code",
   "execution_count": 27,
   "id": "76c4dc6d",
   "metadata": {
    "execution": {
     "iopub.execute_input": "2025-08-19T16:57:59.331626Z",
     "iopub.status.busy": "2025-08-19T16:57:59.331016Z",
     "iopub.status.idle": "2025-08-19T16:57:59.334743Z",
     "shell.execute_reply": "2025-08-19T16:57:59.334174Z"
    },
    "papermill": {
     "duration": 0.023275,
     "end_time": "2025-08-19T16:57:59.335865",
     "exception": false,
     "start_time": "2025-08-19T16:57:59.312590",
     "status": "completed"
    },
    "tags": []
   },
   "outputs": [],
   "source": [
    "# EXCLUDE CERTAIN SUBGROUPS\n",
    "# -------------------------\n",
    "\n",
    "mode = universe.get(\"exclude_subgroups\", \"keep-all\") # Defaults to \"keep-all\" if the key is missing."
   ]
  },
  {
   "cell_type": "code",
   "execution_count": 28,
   "id": "21994072",
   "metadata": {
    "execution": {
     "iopub.execute_input": "2025-08-19T16:57:59.364623Z",
     "iopub.status.busy": "2025-08-19T16:57:59.364138Z",
     "iopub.status.idle": "2025-08-19T16:57:59.370649Z",
     "shell.execute_reply": "2025-08-19T16:57:59.369984Z"
    },
    "papermill": {
     "duration": 0.023879,
     "end_time": "2025-08-19T16:57:59.374327",
     "exception": false,
     "start_time": "2025-08-19T16:57:59.350448",
     "status": "completed"
    },
    "tags": []
   },
   "outputs": [],
   "source": [
    "if mode == \"keep-all\":\n",
    "    keep_mask = pd.Series(True, index=org_train.index)\n",
    "\n",
    "elif mode == \"drop-non-german\":\n",
    "    keep_mask = (org_train[\"maxdeutsch1\"] == 1) & (org_train[\"maxdeutsch.Missing.\"] == 0)\n",
    "\n",
    "else:\n",
    "    raise ValueError(f\"Unsupported mode for exclude_subgroups: {mode}\")"
   ]
  },
  {
   "cell_type": "code",
   "execution_count": 29,
   "id": "71651440",
   "metadata": {
    "execution": {
     "iopub.execute_input": "2025-08-19T16:57:59.425280Z",
     "iopub.status.busy": "2025-08-19T16:57:59.424566Z",
     "iopub.status.idle": "2025-08-19T16:57:59.434493Z",
     "shell.execute_reply": "2025-08-19T16:57:59.433335Z"
    },
    "papermill": {
     "duration": 0.024991,
     "end_time": "2025-08-19T16:57:59.436728",
     "exception": false,
     "start_time": "2025-08-19T16:57:59.411737",
     "status": "completed"
    },
    "tags": []
   },
   "outputs": [
    {
     "name": "stdout",
     "output_type": "stream",
     "text": [
      "Dropping 3688 rows (14.75%) where mode='drop-non-german'\n"
     ]
    }
   ],
   "source": [
    "n_drop = (~keep_mask).sum() # Calculates how many rows are set to be dropped\n",
    "if n_drop > 0:\n",
    "    pct = n_drop / len(keep_mask) * 100\n",
    "    print(f\"Dropping {n_drop} rows ({pct:.2f}%) where mode='{mode}'\")"
   ]
  },
  {
   "cell_type": "code",
   "execution_count": 30,
   "id": "5fb8eee5",
   "metadata": {
    "execution": {
     "iopub.execute_input": "2025-08-19T16:57:59.475950Z",
     "iopub.status.busy": "2025-08-19T16:57:59.475459Z",
     "iopub.status.idle": "2025-08-19T16:57:59.494538Z",
     "shell.execute_reply": "2025-08-19T16:57:59.493322Z"
    },
    "papermill": {
     "duration": 0.044578,
     "end_time": "2025-08-19T16:57:59.496257",
     "exception": false,
     "start_time": "2025-08-19T16:57:59.451679",
     "status": "completed"
    },
    "tags": []
   },
   "outputs": [],
   "source": [
    "X_train = X_train[keep_mask]"
   ]
  },
  {
   "cell_type": "code",
   "execution_count": 31,
   "id": "b202bb3a",
   "metadata": {
    "execution": {
     "iopub.execute_input": "2025-08-19T16:57:59.522487Z",
     "iopub.status.busy": "2025-08-19T16:57:59.521661Z",
     "iopub.status.idle": "2025-08-19T16:57:59.537788Z",
     "shell.execute_reply": "2025-08-19T16:57:59.535990Z"
    },
    "papermill": {
     "duration": 0.030787,
     "end_time": "2025-08-19T16:57:59.539378",
     "exception": false,
     "start_time": "2025-08-19T16:57:59.508591",
     "status": "completed"
    },
    "tags": []
   },
   "outputs": [],
   "source": [
    "y_train = y_train[keep_mask]"
   ]
  },
  {
   "cell_type": "markdown",
   "id": "493e2ac3",
   "metadata": {
    "papermill": {
     "duration": 0.014281,
     "end_time": "2025-08-19T16:57:59.570678",
     "exception": false,
     "start_time": "2025-08-19T16:57:59.556397",
     "status": "completed"
    },
    "tags": []
   },
   "source": [
    "# Model Training"
   ]
  },
  {
   "cell_type": "code",
   "execution_count": 32,
   "id": "679e1268",
   "metadata": {
    "execution": {
     "iopub.execute_input": "2025-08-19T16:57:59.594435Z",
     "iopub.status.busy": "2025-08-19T16:57:59.594010Z",
     "iopub.status.idle": "2025-08-19T16:57:59.741778Z",
     "shell.execute_reply": "2025-08-19T16:57:59.741015Z"
    },
    "papermill": {
     "duration": 0.161966,
     "end_time": "2025-08-19T16:57:59.743526",
     "exception": false,
     "start_time": "2025-08-19T16:57:59.581560",
     "status": "completed"
    },
    "tags": []
   },
   "outputs": [],
   "source": [
    "from sklearn.linear_model import LogisticRegression\n",
    "from sklearn.ensemble import GradientBoostingClassifier, RandomForestClassifier\n",
    "\n",
    "if (universe[\"model\"] == \"logreg\"):\n",
    "    model = LogisticRegression() #penalty=\"none\", solver=\"newton-cg\", max_iter=1)\n",
    "elif (universe[\"model\"] == \"penalized_logreg\"):\n",
    "    model = LogisticRegression(penalty=\"l2\", C=0.1) #, solver=\"newton-cg\", max_iter=1)\n",
    "elif (universe[\"model\"] == \"rf\"):\n",
    "    model = RandomForestClassifier() # n_estimators=100, n_jobs=-1\n",
    "elif (universe[\"model\"] == \"gbm\"):\n",
    "    model = GradientBoostingClassifier()\n",
    "elif (universe[\"model\"] == \"elasticnet\"):\n",
    "    model = LogisticRegression(penalty = 'elasticnet', solver = 'saga', l1_ratio = 0.5) # max_iter=5000\n",
    "else:\n",
    "    raise \"Unsupported universe.model\""
   ]
  },
  {
   "cell_type": "code",
   "execution_count": 33,
   "id": "0cc8f744",
   "metadata": {
    "execution": {
     "iopub.execute_input": "2025-08-19T16:57:59.771001Z",
     "iopub.status.busy": "2025-08-19T16:57:59.770708Z",
     "iopub.status.idle": "2025-08-19T16:57:59.775574Z",
     "shell.execute_reply": "2025-08-19T16:57:59.774713Z"
    },
    "papermill": {
     "duration": 0.020103,
     "end_time": "2025-08-19T16:57:59.778336",
     "exception": false,
     "start_time": "2025-08-19T16:57:59.758233",
     "status": "completed"
    },
    "tags": []
   },
   "outputs": [],
   "source": [
    "from sklearn.pipeline import Pipeline\n",
    "from sklearn.preprocessing import StandardScaler\n",
    "\n",
    "model = Pipeline([\n",
    "    #(\"continuous_processor\", continuous_processor),\n",
    "    #(\"categorical_preprocessor\", categorical_preprocessor),\n",
    "    (\"scale\", StandardScaler() if universe[\"scale\"] == \"scale\" else None), \n",
    "    (\"model\", model),\n",
    "])"
   ]
  },
  {
   "cell_type": "code",
   "execution_count": 34,
   "id": "9442c04d",
   "metadata": {
    "execution": {
     "iopub.execute_input": "2025-08-19T16:57:59.804802Z",
     "iopub.status.busy": "2025-08-19T16:57:59.804161Z",
     "iopub.status.idle": "2025-08-19T16:58:07.044726Z",
     "shell.execute_reply": "2025-08-19T16:58:07.043832Z"
    },
    "papermill": {
     "duration": 7.25412,
     "end_time": "2025-08-19T16:58:07.045923",
     "exception": false,
     "start_time": "2025-08-19T16:57:59.791803",
     "status": "completed"
    },
    "tags": []
   },
   "outputs": [
    {
     "data": {
      "text/html": [
       "<style>#sk-container-id-1 {color: black;background-color: white;}#sk-container-id-1 pre{padding: 0;}#sk-container-id-1 div.sk-toggleable {background-color: white;}#sk-container-id-1 label.sk-toggleable__label {cursor: pointer;display: block;width: 100%;margin-bottom: 0;padding: 0.3em;box-sizing: border-box;text-align: center;}#sk-container-id-1 label.sk-toggleable__label-arrow:before {content: \"▸\";float: left;margin-right: 0.25em;color: #696969;}#sk-container-id-1 label.sk-toggleable__label-arrow:hover:before {color: black;}#sk-container-id-1 div.sk-estimator:hover label.sk-toggleable__label-arrow:before {color: black;}#sk-container-id-1 div.sk-toggleable__content {max-height: 0;max-width: 0;overflow: hidden;text-align: left;background-color: #f0f8ff;}#sk-container-id-1 div.sk-toggleable__content pre {margin: 0.2em;color: black;border-radius: 0.25em;background-color: #f0f8ff;}#sk-container-id-1 input.sk-toggleable__control:checked~div.sk-toggleable__content {max-height: 200px;max-width: 100%;overflow: auto;}#sk-container-id-1 input.sk-toggleable__control:checked~label.sk-toggleable__label-arrow:before {content: \"▾\";}#sk-container-id-1 div.sk-estimator input.sk-toggleable__control:checked~label.sk-toggleable__label {background-color: #d4ebff;}#sk-container-id-1 div.sk-label input.sk-toggleable__control:checked~label.sk-toggleable__label {background-color: #d4ebff;}#sk-container-id-1 input.sk-hidden--visually {border: 0;clip: rect(1px 1px 1px 1px);clip: rect(1px, 1px, 1px, 1px);height: 1px;margin: -1px;overflow: hidden;padding: 0;position: absolute;width: 1px;}#sk-container-id-1 div.sk-estimator {font-family: monospace;background-color: #f0f8ff;border: 1px dotted black;border-radius: 0.25em;box-sizing: border-box;margin-bottom: 0.5em;}#sk-container-id-1 div.sk-estimator:hover {background-color: #d4ebff;}#sk-container-id-1 div.sk-parallel-item::after {content: \"\";width: 100%;border-bottom: 1px solid gray;flex-grow: 1;}#sk-container-id-1 div.sk-label:hover label.sk-toggleable__label {background-color: #d4ebff;}#sk-container-id-1 div.sk-serial::before {content: \"\";position: absolute;border-left: 1px solid gray;box-sizing: border-box;top: 0;bottom: 0;left: 50%;z-index: 0;}#sk-container-id-1 div.sk-serial {display: flex;flex-direction: column;align-items: center;background-color: white;padding-right: 0.2em;padding-left: 0.2em;position: relative;}#sk-container-id-1 div.sk-item {position: relative;z-index: 1;}#sk-container-id-1 div.sk-parallel {display: flex;align-items: stretch;justify-content: center;background-color: white;position: relative;}#sk-container-id-1 div.sk-item::before, #sk-container-id-1 div.sk-parallel-item::before {content: \"\";position: absolute;border-left: 1px solid gray;box-sizing: border-box;top: 0;bottom: 0;left: 50%;z-index: -1;}#sk-container-id-1 div.sk-parallel-item {display: flex;flex-direction: column;z-index: 1;position: relative;background-color: white;}#sk-container-id-1 div.sk-parallel-item:first-child::after {align-self: flex-end;width: 50%;}#sk-container-id-1 div.sk-parallel-item:last-child::after {align-self: flex-start;width: 50%;}#sk-container-id-1 div.sk-parallel-item:only-child::after {width: 0;}#sk-container-id-1 div.sk-dashed-wrapped {border: 1px dashed gray;margin: 0 0.4em 0.5em 0.4em;box-sizing: border-box;padding-bottom: 0.4em;background-color: white;}#sk-container-id-1 div.sk-label label {font-family: monospace;font-weight: bold;display: inline-block;line-height: 1.2em;}#sk-container-id-1 div.sk-label-container {text-align: center;}#sk-container-id-1 div.sk-container {/* jupyter's `normalize.less` sets `[hidden] { display: none; }` but bootstrap.min.css set `[hidden] { display: none !important; }` so we also need the `!important` here to be able to override the default hidden behavior on the sphinx rendered scikit-learn.org. See: https://github.com/scikit-learn/scikit-learn/issues/21755 */display: inline-block !important;position: relative;}#sk-container-id-1 div.sk-text-repr-fallback {display: none;}</style><div id=\"sk-container-id-1\" class=\"sk-top-container\"><div class=\"sk-text-repr-fallback\"><pre>Pipeline(steps=[(&#x27;scale&#x27;, StandardScaler()),\n",
       "                (&#x27;model&#x27;, RandomForestClassifier())])</pre><b>In a Jupyter environment, please rerun this cell to show the HTML representation or trust the notebook. <br />On GitHub, the HTML representation is unable to render, please try loading this page with nbviewer.org.</b></div><div class=\"sk-container\" hidden><div class=\"sk-item sk-dashed-wrapped\"><div class=\"sk-label-container\"><div class=\"sk-label sk-toggleable\"><input class=\"sk-toggleable__control sk-hidden--visually\" id=\"sk-estimator-id-1\" type=\"checkbox\" ><label for=\"sk-estimator-id-1\" class=\"sk-toggleable__label sk-toggleable__label-arrow\">Pipeline</label><div class=\"sk-toggleable__content\"><pre>Pipeline(steps=[(&#x27;scale&#x27;, StandardScaler()),\n",
       "                (&#x27;model&#x27;, RandomForestClassifier())])</pre></div></div></div><div class=\"sk-serial\"><div class=\"sk-item\"><div class=\"sk-estimator sk-toggleable\"><input class=\"sk-toggleable__control sk-hidden--visually\" id=\"sk-estimator-id-2\" type=\"checkbox\" ><label for=\"sk-estimator-id-2\" class=\"sk-toggleable__label sk-toggleable__label-arrow\">StandardScaler</label><div class=\"sk-toggleable__content\"><pre>StandardScaler()</pre></div></div></div><div class=\"sk-item\"><div class=\"sk-estimator sk-toggleable\"><input class=\"sk-toggleable__control sk-hidden--visually\" id=\"sk-estimator-id-3\" type=\"checkbox\" ><label for=\"sk-estimator-id-3\" class=\"sk-toggleable__label sk-toggleable__label-arrow\">RandomForestClassifier</label><div class=\"sk-toggleable__content\"><pre>RandomForestClassifier()</pre></div></div></div></div></div></div></div>"
      ],
      "text/plain": [
       "Pipeline(steps=[('scale', StandardScaler()),\n",
       "                ('model', RandomForestClassifier())])"
      ]
     },
     "execution_count": 34,
     "metadata": {},
     "output_type": "execute_result"
    }
   ],
   "source": [
    "model.fit(X_train, y_train.values.ravel())"
   ]
  },
  {
   "cell_type": "code",
   "execution_count": 35,
   "id": "a7cf2e16",
   "metadata": {
    "execution": {
     "iopub.execute_input": "2025-08-19T16:58:07.075924Z",
     "iopub.status.busy": "2025-08-19T16:58:07.074655Z",
     "iopub.status.idle": "2025-08-19T16:58:09.549630Z",
     "shell.execute_reply": "2025-08-19T16:58:09.548557Z"
    },
    "papermill": {
     "duration": 2.489998,
     "end_time": "2025-08-19T16:58:09.551114",
     "exception": false,
     "start_time": "2025-08-19T16:58:07.061116",
     "status": "completed"
    },
    "tags": []
   },
   "outputs": [
    {
     "data": {
      "text/plain": [
       "0.8617656894437632"
      ]
     },
     "execution_count": 35,
     "metadata": {},
     "output_type": "execute_result"
    }
   ],
   "source": [
    "from fairness_multiverse.universe import predict_w_threshold\n",
    "\n",
    "probs_test = model.predict_proba(X_test)\n",
    "\n",
    "'''\n",
    "Below code returns a boolean array (or binary 0/1 array depending on how it’s used) where each element \n",
    "is True if the probability of class 1 is greater than or equal to the threshold, and False otherwise.\n",
    "'''\n",
    "y_pred_default = predict_w_threshold(probs_test, 0.5)\n",
    "\n",
    "from sklearn.metrics import accuracy_score\n",
    "\n",
    "# Naive prediction\n",
    "accuracy_score(y_true = y_true, y_pred = y_pred_default)"
   ]
  },
  {
   "cell_type": "code",
   "execution_count": 36,
   "id": "081964c3",
   "metadata": {
    "execution": {
     "iopub.execute_input": "2025-08-19T16:58:09.579798Z",
     "iopub.status.busy": "2025-08-19T16:58:09.579342Z",
     "iopub.status.idle": "2025-08-19T16:58:11.995320Z",
     "shell.execute_reply": "2025-08-19T16:58:11.994221Z"
    },
    "papermill": {
     "duration": 2.432088,
     "end_time": "2025-08-19T16:58:11.998509",
     "exception": false,
     "start_time": "2025-08-19T16:58:09.566421",
     "status": "completed"
    },
    "tags": []
   },
   "outputs": [
    {
     "data": {
      "text/plain": [
       "array([0, 0, 0, ..., 0, 0, 0])"
      ]
     },
     "execution_count": 36,
     "metadata": {},
     "output_type": "execute_result"
    }
   ],
   "source": [
    "model.predict(X_test)"
   ]
  },
  {
   "cell_type": "markdown",
   "id": "56c9705b",
   "metadata": {
    "papermill": {
     "duration": 0.014076,
     "end_time": "2025-08-19T16:58:12.044010",
     "exception": false,
     "start_time": "2025-08-19T16:58:12.029934",
     "status": "completed"
    },
    "tags": []
   },
   "source": [
    "# Conformal Prediction"
   ]
  },
  {
   "cell_type": "code",
   "execution_count": 37,
   "id": "160ec6ff",
   "metadata": {
    "execution": {
     "iopub.execute_input": "2025-08-19T16:58:12.068274Z",
     "iopub.status.busy": "2025-08-19T16:58:12.067964Z",
     "iopub.status.idle": "2025-08-19T16:58:12.072520Z",
     "shell.execute_reply": "2025-08-19T16:58:12.071902Z"
    },
    "papermill": {
     "duration": 0.020134,
     "end_time": "2025-08-19T16:58:12.075882",
     "exception": false,
     "start_time": "2025-08-19T16:58:12.055748",
     "status": "completed"
    },
    "tags": []
   },
   "outputs": [],
   "source": [
    "# Miscoverage level for conformal prediction (10% allowed error rate => 90% target coverage)\n",
    "alpha = 0.1"
   ]
  },
  {
   "cell_type": "code",
   "execution_count": 38,
   "id": "eadf4555-3dd3-440e-8e35-f82a4ad9f855",
   "metadata": {
    "execution": {
     "iopub.execute_input": "2025-08-19T16:58:12.114808Z",
     "iopub.status.busy": "2025-08-19T16:58:12.113318Z",
     "iopub.status.idle": "2025-08-19T16:58:14.432388Z",
     "shell.execute_reply": "2025-08-19T16:58:14.431246Z"
    },
    "papermill": {
     "duration": 2.336205,
     "end_time": "2025-08-19T16:58:14.435226",
     "exception": false,
     "start_time": "2025-08-19T16:58:12.099021",
     "status": "completed"
    },
    "tags": []
   },
   "outputs": [],
   "source": [
    "probs_calib = model.predict_proba(X_calib)"
   ]
  },
  {
   "cell_type": "code",
   "execution_count": 39,
   "id": "2ed93547-6d5d-4983-9b36-1ecb300da49a",
   "metadata": {
    "execution": {
     "iopub.execute_input": "2025-08-19T16:58:14.476292Z",
     "iopub.status.busy": "2025-08-19T16:58:14.474844Z",
     "iopub.status.idle": "2025-08-19T16:58:14.488673Z",
     "shell.execute_reply": "2025-08-19T16:58:14.487349Z"
    },
    "papermill": {
     "duration": 0.030594,
     "end_time": "2025-08-19T16:58:14.490434",
     "exception": false,
     "start_time": "2025-08-19T16:58:14.459840",
     "status": "completed"
    },
    "tags": []
   },
   "outputs": [],
   "source": [
    "y_calib = y_calib.values.ravel().astype(int)"
   ]
  },
  {
   "cell_type": "code",
   "execution_count": 40,
   "id": "65d1320d-f588-4b38-9072-62af1ae97f7d",
   "metadata": {
    "execution": {
     "iopub.execute_input": "2025-08-19T16:58:14.523703Z",
     "iopub.status.busy": "2025-08-19T16:58:14.522658Z",
     "iopub.status.idle": "2025-08-19T16:58:14.537914Z",
     "shell.execute_reply": "2025-08-19T16:58:14.536535Z"
    },
    "papermill": {
     "duration": 0.031554,
     "end_time": "2025-08-19T16:58:14.539722",
     "exception": false,
     "start_time": "2025-08-19T16:58:14.508168",
     "status": "completed"
    },
    "tags": []
   },
   "outputs": [],
   "source": [
    "from fairness_multiverse.conformal import compute_nc_scores\n",
    "\n",
    "# Compute nonconformity scores on calibration set (1 - probability of true class)\n",
    "nc_scores = compute_nc_scores(probs_calib, y_calib)"
   ]
  },
  {
   "cell_type": "code",
   "execution_count": 41,
   "id": "df3b8ca3-53b7-43d5-9667-7c85da7aeda2",
   "metadata": {
    "execution": {
     "iopub.execute_input": "2025-08-19T16:58:14.572227Z",
     "iopub.status.busy": "2025-08-19T16:58:14.571187Z",
     "iopub.status.idle": "2025-08-19T16:58:14.586274Z",
     "shell.execute_reply": "2025-08-19T16:58:14.584371Z"
    },
    "papermill": {
     "duration": 0.030971,
     "end_time": "2025-08-19T16:58:14.588039",
     "exception": false,
     "start_time": "2025-08-19T16:58:14.557068",
     "status": "completed"
    },
    "tags": []
   },
   "outputs": [],
   "source": [
    "from fairness_multiverse.conformal import find_threshold\n",
    "\n",
    "# Find conformal threshold q_hat for the given alpha (split conformal method)\n",
    "q_hat = find_threshold(nc_scores, alpha)"
   ]
  },
  {
   "cell_type": "code",
   "execution_count": 42,
   "id": "4d29e6c1-0ef6-4aa4-b8fe-4fe79b0d033a",
   "metadata": {
    "execution": {
     "iopub.execute_input": "2025-08-19T16:58:14.618684Z",
     "iopub.status.busy": "2025-08-19T16:58:14.617396Z",
     "iopub.status.idle": "2025-08-19T16:58:14.630794Z",
     "shell.execute_reply": "2025-08-19T16:58:14.629565Z"
    },
    "papermill": {
     "duration": 0.029495,
     "end_time": "2025-08-19T16:58:14.632450",
     "exception": false,
     "start_time": "2025-08-19T16:58:14.602955",
     "status": "completed"
    },
    "tags": []
   },
   "outputs": [
    {
     "data": {
      "text/plain": [
       "0.6699999999999999"
      ]
     },
     "execution_count": 42,
     "metadata": {},
     "output_type": "execute_result"
    }
   ],
   "source": [
    "q_hat"
   ]
  },
  {
   "cell_type": "code",
   "execution_count": 43,
   "id": "92460794-cdac-4be2-ba28-f28c0515a6fb",
   "metadata": {
    "execution": {
     "iopub.execute_input": "2025-08-19T16:58:14.666229Z",
     "iopub.status.busy": "2025-08-19T16:58:14.664938Z",
     "iopub.status.idle": "2025-08-19T16:58:17.522625Z",
     "shell.execute_reply": "2025-08-19T16:58:17.521494Z"
    },
    "papermill": {
     "duration": 2.875029,
     "end_time": "2025-08-19T16:58:17.525443",
     "exception": false,
     "start_time": "2025-08-19T16:58:14.650414",
     "status": "completed"
    },
    "tags": []
   },
   "outputs": [],
   "source": [
    "from fairness_multiverse.conformal import predict_conformal_sets\n",
    "\n",
    "# Generate prediction sets for each test example\n",
    "pred_sets = predict_conformal_sets(model, X_test, q_hat)"
   ]
  },
  {
   "cell_type": "code",
   "execution_count": 44,
   "id": "d90c9a65-e6db-4f5d-80cd-e68fb7e46829",
   "metadata": {
    "execution": {
     "iopub.execute_input": "2025-08-19T16:58:17.574502Z",
     "iopub.status.busy": "2025-08-19T16:58:17.572607Z",
     "iopub.status.idle": "2025-08-19T16:58:17.585497Z",
     "shell.execute_reply": "2025-08-19T16:58:17.584303Z"
    },
    "papermill": {
     "duration": 0.031501,
     "end_time": "2025-08-19T16:58:17.587277",
     "exception": false,
     "start_time": "2025-08-19T16:58:17.555776",
     "status": "completed"
    },
    "tags": []
   },
   "outputs": [],
   "source": [
    "y_true = y_true.squeeze()"
   ]
  },
  {
   "cell_type": "code",
   "execution_count": 45,
   "id": "3a58a54a-1e68-46b9-927a-df01f18aebc8",
   "metadata": {
    "execution": {
     "iopub.execute_input": "2025-08-19T16:58:17.621557Z",
     "iopub.status.busy": "2025-08-19T16:58:17.620220Z",
     "iopub.status.idle": "2025-08-19T16:58:18.109897Z",
     "shell.execute_reply": "2025-08-19T16:58:18.109238Z"
    },
    "papermill": {
     "duration": 0.506108,
     "end_time": "2025-08-19T16:58:18.111259",
     "exception": false,
     "start_time": "2025-08-19T16:58:17.605151",
     "status": "completed"
    },
    "tags": []
   },
   "outputs": [],
   "source": [
    "from fairness_multiverse.conformal import evaluate_sets\n",
    "\n",
    "# Evaluate coverage and average set size on test data\n",
    "metrics = evaluate_sets(pred_sets, y_true)"
   ]
  },
  {
   "cell_type": "markdown",
   "id": "2b569c12-9aaa-4c88-98c9-bbcd0cf3ebb8",
   "metadata": {
    "papermill": {
     "duration": 0.011769,
     "end_time": "2025-08-19T16:58:18.136971",
     "exception": false,
     "start_time": "2025-08-19T16:58:18.125202",
     "status": "completed"
    },
    "tags": []
   },
   "source": [
    "# CP Metrics"
   ]
  },
  {
   "cell_type": "code",
   "execution_count": 46,
   "id": "5ce0a5cb-201f-45a0-ade5-94c7f0bd6095",
   "metadata": {
    "execution": {
     "iopub.execute_input": "2025-08-19T16:58:18.163081Z",
     "iopub.status.busy": "2025-08-19T16:58:18.161373Z",
     "iopub.status.idle": "2025-08-19T16:58:18.175743Z",
     "shell.execute_reply": "2025-08-19T16:58:18.174141Z"
    },
    "papermill": {
     "duration": 0.029406,
     "end_time": "2025-08-19T16:58:18.177813",
     "exception": false,
     "start_time": "2025-08-19T16:58:18.148407",
     "status": "completed"
    },
    "tags": []
   },
   "outputs": [
    {
     "data": {
      "text/plain": [
       "{'coverage': 0.915494370750195, 'avg_size': 1.1556571173782186}"
      ]
     },
     "execution_count": 46,
     "metadata": {},
     "output_type": "execute_result"
    }
   ],
   "source": [
    "metrics"
   ]
  },
  {
   "cell_type": "code",
   "execution_count": 47,
   "id": "9b9a838d-31c9-430b-ae14-12baee460d17",
   "metadata": {
    "execution": {
     "iopub.execute_input": "2025-08-19T16:58:18.209965Z",
     "iopub.status.busy": "2025-08-19T16:58:18.208747Z",
     "iopub.status.idle": "2025-08-19T16:58:18.220380Z",
     "shell.execute_reply": "2025-08-19T16:58:18.219216Z"
    },
    "papermill": {
     "duration": 0.027039,
     "end_time": "2025-08-19T16:58:18.221947",
     "exception": false,
     "start_time": "2025-08-19T16:58:18.194908",
     "status": "completed"
    },
    "tags": []
   },
   "outputs": [],
   "source": [
    "example_universe = universe.copy()\n",
    "universe_training_year = example_universe.get(\"training_year\")\n",
    "universe_training_size = example_universe.get(\"training_size\")\n",
    "universe_scale = example_universe.get(\"scale\")\n",
    "universe_model = example_universe.get(\"model\")\n",
    "universe_exclude_features = example_universe.get(\"exclude_features\")\n",
    "universe_exclude_subgroups = example_universe.get(\"exclude_subgroups\")"
   ]
  },
  {
   "cell_type": "code",
   "execution_count": 48,
   "id": "f4b6a8ac-9dc0-4245-8a91-5b3b5999c4f9",
   "metadata": {
    "execution": {
     "iopub.execute_input": "2025-08-19T16:58:18.252204Z",
     "iopub.status.busy": "2025-08-19T16:58:18.250957Z",
     "iopub.status.idle": "2025-08-19T16:58:18.263143Z",
     "shell.execute_reply": "2025-08-19T16:58:18.261530Z"
    },
    "papermill": {
     "duration": 0.027638,
     "end_time": "2025-08-19T16:58:18.264824",
     "exception": false,
     "start_time": "2025-08-19T16:58:18.237186",
     "status": "completed"
    },
    "tags": []
   },
   "outputs": [],
   "source": [
    "cp_metrics_dict = {\n",
    "    \"universe_id\": [universe_id],\n",
    "    \"universe_training_year\": [universe_training_year],\n",
    "    \"universe_training_size\": [universe_training_size],\n",
    "    \"universe_scale\": [universe_scale],\n",
    "    \"universe_model\": [universe_model],\n",
    "    \"universe_exclude_features\": [universe_exclude_features],\n",
    "    \"universe_exclude_subgroups\": [universe_exclude_subgroups],\n",
    "    \"q_hat\": [q_hat],\n",
    "    \"coverage\": [metrics[\"coverage\"]],\n",
    "    \"avg_size\": [metrics[\"avg_size\"]],\n",
    "}"
   ]
  },
  {
   "cell_type": "code",
   "execution_count": 49,
   "id": "33007efc-14e9-4ec6-97ac-56a455c82265",
   "metadata": {
    "execution": {
     "iopub.execute_input": "2025-08-19T16:58:18.326061Z",
     "iopub.status.busy": "2025-08-19T16:58:18.325243Z",
     "iopub.status.idle": "2025-08-19T16:58:18.331476Z",
     "shell.execute_reply": "2025-08-19T16:58:18.330845Z"
    },
    "papermill": {
     "duration": 0.037676,
     "end_time": "2025-08-19T16:58:18.333494",
     "exception": false,
     "start_time": "2025-08-19T16:58:18.295818",
     "status": "completed"
    },
    "tags": []
   },
   "outputs": [],
   "source": [
    "cp_metrics_df = pd.DataFrame(cp_metrics_dict)"
   ]
  },
  {
   "cell_type": "code",
   "execution_count": 50,
   "id": "db12611b-57b2-4910-b9d0-355adfd6e7bf",
   "metadata": {
    "execution": {
     "iopub.execute_input": "2025-08-19T16:58:18.361220Z",
     "iopub.status.busy": "2025-08-19T16:58:18.360842Z",
     "iopub.status.idle": "2025-08-19T16:58:18.373147Z",
     "shell.execute_reply": "2025-08-19T16:58:18.372439Z"
    },
    "papermill": {
     "duration": 0.040722,
     "end_time": "2025-08-19T16:58:18.387245",
     "exception": false,
     "start_time": "2025-08-19T16:58:18.346523",
     "status": "completed"
    },
    "tags": []
   },
   "outputs": [
    {
     "data": {
      "text/html": [
       "<div>\n",
       "<style scoped>\n",
       "    .dataframe tbody tr th:only-of-type {\n",
       "        vertical-align: middle;\n",
       "    }\n",
       "\n",
       "    .dataframe tbody tr th {\n",
       "        vertical-align: top;\n",
       "    }\n",
       "\n",
       "    .dataframe thead th {\n",
       "        text-align: right;\n",
       "    }\n",
       "</style>\n",
       "<table border=\"1\" class=\"dataframe\">\n",
       "  <thead>\n",
       "    <tr style=\"text-align: right;\">\n",
       "      <th></th>\n",
       "      <th>universe_id</th>\n",
       "      <th>universe_training_year</th>\n",
       "      <th>universe_training_size</th>\n",
       "      <th>universe_scale</th>\n",
       "      <th>universe_model</th>\n",
       "      <th>universe_exclude_features</th>\n",
       "      <th>universe_exclude_subgroups</th>\n",
       "      <th>q_hat</th>\n",
       "      <th>coverage</th>\n",
       "      <th>avg_size</th>\n",
       "    </tr>\n",
       "  </thead>\n",
       "  <tbody>\n",
       "    <tr>\n",
       "      <th>0</th>\n",
       "      <td>238c9f4730505e43b107881cfc65f81f</td>\n",
       "      <td>2014</td>\n",
       "      <td>25k</td>\n",
       "      <td>scale</td>\n",
       "      <td>rf</td>\n",
       "      <td>none</td>\n",
       "      <td>drop-non-german</td>\n",
       "      <td>0.67</td>\n",
       "      <td>0.915494</td>\n",
       "      <td>1.155657</td>\n",
       "    </tr>\n",
       "  </tbody>\n",
       "</table>\n",
       "</div>"
      ],
      "text/plain": [
       "                        universe_id universe_training_year  \\\n",
       "0  238c9f4730505e43b107881cfc65f81f                   2014   \n",
       "\n",
       "  universe_training_size universe_scale universe_model  \\\n",
       "0                    25k          scale             rf   \n",
       "\n",
       "  universe_exclude_features universe_exclude_subgroups  q_hat  coverage  \\\n",
       "0                      none            drop-non-german   0.67  0.915494   \n",
       "\n",
       "   avg_size  \n",
       "0  1.155657  "
      ]
     },
     "execution_count": 50,
     "metadata": {},
     "output_type": "execute_result"
    }
   ],
   "source": [
    "cp_metrics_df"
   ]
  },
  {
   "cell_type": "markdown",
   "id": "c825ecb4-0d3d-41d6-b7c6-eccb21272259",
   "metadata": {
    "papermill": {
     "duration": 0.028484,
     "end_time": "2025-08-19T16:58:18.432663",
     "exception": false,
     "start_time": "2025-08-19T16:58:18.404179",
     "status": "completed"
    },
    "tags": []
   },
   "source": [
    "Conditional coverage & looking at subgroups"
   ]
  },
  {
   "cell_type": "code",
   "execution_count": 51,
   "id": "027ae886-68dd-4141-96c7-805a5450e1ef",
   "metadata": {
    "execution": {
     "iopub.execute_input": "2025-08-19T16:58:18.461308Z",
     "iopub.status.busy": "2025-08-19T16:58:18.460022Z",
     "iopub.status.idle": "2025-08-19T16:58:18.709102Z",
     "shell.execute_reply": "2025-08-19T16:58:18.708384Z"
    },
    "papermill": {
     "duration": 0.265266,
     "end_time": "2025-08-19T16:58:18.711756",
     "exception": false,
     "start_time": "2025-08-19T16:58:18.446490",
     "status": "completed"
    },
    "tags": []
   },
   "outputs": [],
   "source": [
    "from fairness_multiverse.conformal import build_cp_groups\n",
    "\n",
    "cp_groups_df = build_cp_groups(pred_sets, y_true, X_test.index, org_test)"
   ]
  },
  {
   "cell_type": "code",
   "execution_count": 52,
   "id": "6cbdab96-b2b2-45af-ad54-d0516db2e28d",
   "metadata": {
    "execution": {
     "iopub.execute_input": "2025-08-19T16:58:18.754425Z",
     "iopub.status.busy": "2025-08-19T16:58:18.753212Z",
     "iopub.status.idle": "2025-08-19T16:58:19.587549Z",
     "shell.execute_reply": "2025-08-19T16:58:19.586753Z"
    },
    "papermill": {
     "duration": 0.851224,
     "end_time": "2025-08-19T16:58:19.589523",
     "exception": false,
     "start_time": "2025-08-19T16:58:18.738299",
     "status": "completed"
    },
    "tags": []
   },
   "outputs": [],
   "source": [
    "# Define covered = 1 if true_label is in the predicted set\n",
    "cp_groups_df['covered'] = cp_groups_df.apply(\n",
    "    lambda r: int(r['true_label'] in r['pred_set']),\n",
    "    axis=1\n",
    ")"
   ]
  },
  {
   "cell_type": "code",
   "execution_count": 53,
   "id": "90032e27-66df-4540-9169-4e89cfbaa758",
   "metadata": {
    "execution": {
     "iopub.execute_input": "2025-08-19T16:58:19.631235Z",
     "iopub.status.busy": "2025-08-19T16:58:19.630175Z",
     "iopub.status.idle": "2025-08-19T16:58:19.648091Z",
     "shell.execute_reply": "2025-08-19T16:58:19.647243Z"
    },
    "papermill": {
     "duration": 0.033571,
     "end_time": "2025-08-19T16:58:19.649442",
     "exception": false,
     "start_time": "2025-08-19T16:58:19.615871",
     "status": "completed"
    },
    "tags": []
   },
   "outputs": [],
   "source": [
    "subgroups = ['frau1','nongerman','nongerman_male','nongerman_female']\n",
    "\n",
    "# Conditional coverage for subgroup==1\n",
    "cond_coverage = {\n",
    "    g: cp_groups_df.loc[cp_groups_df[g]==1, 'covered'].mean()\n",
    "    for g in subgroups\n",
    "}"
   ]
  },
  {
   "cell_type": "code",
   "execution_count": 54,
   "id": "1e348fb1-b9c3-45bc-ba23-f016827a7e0d",
   "metadata": {
    "execution": {
     "iopub.execute_input": "2025-08-19T16:58:19.680459Z",
     "iopub.status.busy": "2025-08-19T16:58:19.679534Z",
     "iopub.status.idle": "2025-08-19T16:58:19.692842Z",
     "shell.execute_reply": "2025-08-19T16:58:19.690817Z"
    },
    "papermill": {
     "duration": 0.030921,
     "end_time": "2025-08-19T16:58:19.694481",
     "exception": false,
     "start_time": "2025-08-19T16:58:19.663560",
     "status": "completed"
    },
    "tags": []
   },
   "outputs": [
    {
     "data": {
      "text/plain": [
       "{'frau1': 0.9143819921822348,\n",
       " 'nongerman': 0.9147813394711728,\n",
       " 'nongerman_male': 0.9295685850670989,\n",
       " 'nongerman_female': 0.8903129657228018}"
      ]
     },
     "execution_count": 54,
     "metadata": {},
     "output_type": "execute_result"
    }
   ],
   "source": [
    "cond_coverage"
   ]
  },
  {
   "cell_type": "code",
   "execution_count": 55,
   "id": "f5093324-c3dd-4d63-bc4c-8d945e5c8bbb",
   "metadata": {
    "execution": {
     "iopub.execute_input": "2025-08-19T16:58:19.725496Z",
     "iopub.status.busy": "2025-08-19T16:58:19.724393Z",
     "iopub.status.idle": "2025-08-19T16:58:19.731770Z",
     "shell.execute_reply": "2025-08-19T16:58:19.730972Z"
    },
    "papermill": {
     "duration": 0.022152,
     "end_time": "2025-08-19T16:58:19.732964",
     "exception": false,
     "start_time": "2025-08-19T16:58:19.710812",
     "status": "completed"
    },
    "tags": []
   },
   "outputs": [],
   "source": [
    "for subgroup, cov in cond_coverage.items():\n",
    "    cp_metrics_df[f\"cov_{subgroup}\"] = cov"
   ]
  },
  {
   "cell_type": "code",
   "execution_count": 56,
   "id": "6e872e10-dbe5-49e8-b554-5030c98ff75d",
   "metadata": {
    "execution": {
     "iopub.execute_input": "2025-08-19T16:58:19.765354Z",
     "iopub.status.busy": "2025-08-19T16:58:19.764637Z",
     "iopub.status.idle": "2025-08-19T16:58:19.785946Z",
     "shell.execute_reply": "2025-08-19T16:58:19.785222Z"
    },
    "papermill": {
     "duration": 0.038604,
     "end_time": "2025-08-19T16:58:19.787334",
     "exception": false,
     "start_time": "2025-08-19T16:58:19.748730",
     "status": "completed"
    },
    "tags": []
   },
   "outputs": [
    {
     "data": {
      "text/html": [
       "<div>\n",
       "<style scoped>\n",
       "    .dataframe tbody tr th:only-of-type {\n",
       "        vertical-align: middle;\n",
       "    }\n",
       "\n",
       "    .dataframe tbody tr th {\n",
       "        vertical-align: top;\n",
       "    }\n",
       "\n",
       "    .dataframe thead th {\n",
       "        text-align: right;\n",
       "    }\n",
       "</style>\n",
       "<table border=\"1\" class=\"dataframe\">\n",
       "  <thead>\n",
       "    <tr style=\"text-align: right;\">\n",
       "      <th></th>\n",
       "      <th>universe_id</th>\n",
       "      <th>universe_training_year</th>\n",
       "      <th>universe_training_size</th>\n",
       "      <th>universe_scale</th>\n",
       "      <th>universe_model</th>\n",
       "      <th>universe_exclude_features</th>\n",
       "      <th>universe_exclude_subgroups</th>\n",
       "      <th>q_hat</th>\n",
       "      <th>coverage</th>\n",
       "      <th>avg_size</th>\n",
       "      <th>cov_frau1</th>\n",
       "      <th>cov_nongerman</th>\n",
       "      <th>cov_nongerman_male</th>\n",
       "      <th>cov_nongerman_female</th>\n",
       "    </tr>\n",
       "  </thead>\n",
       "  <tbody>\n",
       "    <tr>\n",
       "      <th>0</th>\n",
       "      <td>238c9f4730505e43b107881cfc65f81f</td>\n",
       "      <td>2014</td>\n",
       "      <td>25k</td>\n",
       "      <td>scale</td>\n",
       "      <td>rf</td>\n",
       "      <td>none</td>\n",
       "      <td>drop-non-german</td>\n",
       "      <td>0.67</td>\n",
       "      <td>0.915494</td>\n",
       "      <td>1.155657</td>\n",
       "      <td>0.914382</td>\n",
       "      <td>0.914781</td>\n",
       "      <td>0.929569</td>\n",
       "      <td>0.890313</td>\n",
       "    </tr>\n",
       "  </tbody>\n",
       "</table>\n",
       "</div>"
      ],
      "text/plain": [
       "                        universe_id universe_training_year  \\\n",
       "0  238c9f4730505e43b107881cfc65f81f                   2014   \n",
       "\n",
       "  universe_training_size universe_scale universe_model  \\\n",
       "0                    25k          scale             rf   \n",
       "\n",
       "  universe_exclude_features universe_exclude_subgroups  q_hat  coverage  \\\n",
       "0                      none            drop-non-german   0.67  0.915494   \n",
       "\n",
       "   avg_size  cov_frau1  cov_nongerman  cov_nongerman_male  \\\n",
       "0  1.155657   0.914382       0.914781            0.929569   \n",
       "\n",
       "   cov_nongerman_female  \n",
       "0              0.890313  "
      ]
     },
     "execution_count": 56,
     "metadata": {},
     "output_type": "execute_result"
    }
   ],
   "source": [
    "cp_metrics_df"
   ]
  },
  {
   "cell_type": "markdown",
   "id": "33774451",
   "metadata": {
    "papermill": {
     "duration": 0.012759,
     "end_time": "2025-08-19T16:58:19.815611",
     "exception": false,
     "start_time": "2025-08-19T16:58:19.802852",
     "status": "completed"
    },
    "tags": []
   },
   "source": [
    "# (Fairness) Metrics"
   ]
  },
  {
   "cell_type": "code",
   "execution_count": 57,
   "id": "debc5d62",
   "metadata": {
    "execution": {
     "iopub.execute_input": "2025-08-19T16:58:19.841206Z",
     "iopub.status.busy": "2025-08-19T16:58:19.840946Z",
     "iopub.status.idle": "2025-08-19T16:58:19.857306Z",
     "shell.execute_reply": "2025-08-19T16:58:19.855615Z"
    },
    "papermill": {
     "duration": 0.031132,
     "end_time": "2025-08-19T16:58:19.858943",
     "exception": false,
     "start_time": "2025-08-19T16:58:19.827811",
     "status": "completed"
    },
    "tags": []
   },
   "outputs": [],
   "source": [
    "colname_to_bin = \"maxdeutsch1\"\n",
    "majority_value = org_train[colname_to_bin].mode()[0]\n",
    "\n",
    "org_test[\"majmin\"] = np.where(org_test[colname_to_bin] == majority_value, \"majority\", \"minority\")"
   ]
  },
  {
   "cell_type": "code",
   "execution_count": 58,
   "id": "06a50de5",
   "metadata": {
    "execution": {
     "iopub.execute_input": "2025-08-19T16:58:19.887079Z",
     "iopub.status.busy": "2025-08-19T16:58:19.885805Z",
     "iopub.status.idle": "2025-08-19T16:58:21.594319Z",
     "shell.execute_reply": "2025-08-19T16:58:21.593562Z"
    },
    "papermill": {
     "duration": 1.724133,
     "end_time": "2025-08-19T16:58:21.595740",
     "exception": false,
     "start_time": "2025-08-19T16:58:19.871607",
     "status": "completed"
    },
    "tags": []
   },
   "outputs": [],
   "source": [
    "example_universe = universe.copy()\n",
    "example_universe[\"cutoff\"] = example_universe[\"cutoff\"][0]\n",
    "example_universe[\"eval_fairness_grouping\"] = example_universe[\"eval_fairness_grouping\"][0]\n",
    "fairness_dict, metric_frame = universe_analysis.compute_metrics(\n",
    "    example_universe,\n",
    "    y_pred_prob=probs_test,\n",
    "    y_test=y_true,\n",
    "    org_test=org_test,\n",
    ")"
   ]
  },
  {
   "cell_type": "markdown",
   "id": "f95d4e02",
   "metadata": {
    "papermill": {
     "duration": 0.015062,
     "end_time": "2025-08-19T16:58:21.624366",
     "exception": false,
     "start_time": "2025-08-19T16:58:21.609304",
     "status": "completed"
    },
    "tags": []
   },
   "source": [
    "# Overall"
   ]
  },
  {
   "cell_type": "markdown",
   "id": "bdee4871",
   "metadata": {
    "papermill": {
     "duration": 0.012252,
     "end_time": "2025-08-19T16:58:21.649115",
     "exception": false,
     "start_time": "2025-08-19T16:58:21.636863",
     "status": "completed"
    },
    "tags": []
   },
   "source": [
    "Main fairness target: Equalized Odds. Seems to be a better fit than equal opportunity, since we're not only interested in Y = 1. Seems to be a better fit than demographic parity, since we also care about accuracy, not just equal distribution of preds.\n",
    "\n",
    "Pick column for computation of fairness metrics\n",
    "\n",
    "Performance\n",
    "Overall performance measures, most interesting in relation to the measures split by group below"
   ]
  },
  {
   "cell_type": "code",
   "execution_count": 59,
   "id": "c4e067c6",
   "metadata": {
    "execution": {
     "iopub.execute_input": "2025-08-19T16:58:21.674895Z",
     "iopub.status.busy": "2025-08-19T16:58:21.674599Z",
     "iopub.status.idle": "2025-08-19T16:58:21.682079Z",
     "shell.execute_reply": "2025-08-19T16:58:21.681144Z"
    },
    "papermill": {
     "duration": 0.022229,
     "end_time": "2025-08-19T16:58:21.683600",
     "exception": false,
     "start_time": "2025-08-19T16:58:21.661371",
     "status": "completed"
    },
    "tags": []
   },
   "outputs": [
    {
     "data": {
      "text/plain": [
       "accuracy                   0.204916\n",
       "balanced accuracy          0.535397\n",
       "f1                         0.240240\n",
       "precision                  0.136902\n",
       "false positive rate        0.909133\n",
       "false negative rate        0.020073\n",
       "selection rate             0.918214\n",
       "count                  89710.000000\n",
       "dtype: float64"
      ]
     },
     "execution_count": 59,
     "metadata": {},
     "output_type": "execute_result"
    }
   ],
   "source": [
    "metric_frame.overall"
   ]
  },
  {
   "cell_type": "markdown",
   "id": "e968fe9d",
   "metadata": {
    "papermill": {
     "duration": 0.017121,
     "end_time": "2025-08-19T16:58:21.718821",
     "exception": false,
     "start_time": "2025-08-19T16:58:21.701700",
     "status": "completed"
    },
    "tags": []
   },
   "source": [
    "By Group"
   ]
  },
  {
   "cell_type": "code",
   "execution_count": 60,
   "id": "ec325bce",
   "metadata": {
    "execution": {
     "iopub.execute_input": "2025-08-19T16:58:21.745870Z",
     "iopub.status.busy": "2025-08-19T16:58:21.745354Z",
     "iopub.status.idle": "2025-08-19T16:58:21.760637Z",
     "shell.execute_reply": "2025-08-19T16:58:21.759517Z"
    },
    "papermill": {
     "duration": 0.033945,
     "end_time": "2025-08-19T16:58:21.765827",
     "exception": false,
     "start_time": "2025-08-19T16:58:21.731882",
     "status": "completed"
    },
    "tags": []
   },
   "outputs": [
    {
     "data": {
      "text/html": [
       "<div>\n",
       "<style scoped>\n",
       "    .dataframe tbody tr th:only-of-type {\n",
       "        vertical-align: middle;\n",
       "    }\n",
       "\n",
       "    .dataframe tbody tr th {\n",
       "        vertical-align: top;\n",
       "    }\n",
       "\n",
       "    .dataframe thead th {\n",
       "        text-align: right;\n",
       "    }\n",
       "</style>\n",
       "<table border=\"1\" class=\"dataframe\">\n",
       "  <thead>\n",
       "    <tr style=\"text-align: right;\">\n",
       "      <th></th>\n",
       "      <th>accuracy</th>\n",
       "      <th>balanced accuracy</th>\n",
       "      <th>f1</th>\n",
       "      <th>precision</th>\n",
       "      <th>false positive rate</th>\n",
       "      <th>false negative rate</th>\n",
       "      <th>selection rate</th>\n",
       "      <th>count</th>\n",
       "    </tr>\n",
       "    <tr>\n",
       "      <th>majmin</th>\n",
       "      <th></th>\n",
       "      <th></th>\n",
       "      <th></th>\n",
       "      <th></th>\n",
       "      <th></th>\n",
       "      <th></th>\n",
       "      <th></th>\n",
       "      <th></th>\n",
       "    </tr>\n",
       "  </thead>\n",
       "  <tbody>\n",
       "    <tr>\n",
       "      <th>majority</th>\n",
       "      <td>0.200347</td>\n",
       "      <td>0.534381</td>\n",
       "      <td>0.246225</td>\n",
       "      <td>0.140629</td>\n",
       "      <td>0.919640</td>\n",
       "      <td>0.011597</td>\n",
       "      <td>0.928726</td>\n",
       "      <td>69170.0</td>\n",
       "    </tr>\n",
       "    <tr>\n",
       "      <th>minority</th>\n",
       "      <td>0.220302</td>\n",
       "      <td>0.536395</td>\n",
       "      <td>0.218819</td>\n",
       "      <td>0.123697</td>\n",
       "      <td>0.874422</td>\n",
       "      <td>0.052787</td>\n",
       "      <td>0.882814</td>\n",
       "      <td>20540.0</td>\n",
       "    </tr>\n",
       "  </tbody>\n",
       "</table>\n",
       "</div>"
      ],
      "text/plain": [
       "          accuracy  balanced accuracy        f1  precision  \\\n",
       "majmin                                                       \n",
       "majority  0.200347           0.534381  0.246225   0.140629   \n",
       "minority  0.220302           0.536395  0.218819   0.123697   \n",
       "\n",
       "          false positive rate  false negative rate  selection rate    count  \n",
       "majmin                                                                       \n",
       "majority             0.919640             0.011597        0.928726  69170.0  \n",
       "minority             0.874422             0.052787        0.882814  20540.0  "
      ]
     },
     "execution_count": 60,
     "metadata": {},
     "output_type": "execute_result"
    }
   ],
   "source": [
    "metric_frame.by_group"
   ]
  },
  {
   "cell_type": "code",
   "execution_count": 61,
   "id": "a9ddbe63",
   "metadata": {
    "execution": {
     "iopub.execute_input": "2025-08-19T16:58:21.803667Z",
     "iopub.status.busy": "2025-08-19T16:58:21.802490Z",
     "iopub.status.idle": "2025-08-19T16:58:23.520492Z",
     "shell.execute_reply": "2025-08-19T16:58:23.519587Z"
    },
    "papermill": {
     "duration": 1.734364,
     "end_time": "2025-08-19T16:58:23.521749",
     "exception": false,
     "start_time": "2025-08-19T16:58:21.787385",
     "status": "completed"
    },
    "tags": []
   },
   "outputs": [
    {
     "data": {
      "text/plain": [
       "array([[<Axes: title={'center': 'accuracy'}, xlabel='majmin'>,\n",
       "        <Axes: title={'center': 'balanced accuracy'}, xlabel='majmin'>,\n",
       "        <Axes: title={'center': 'f1'}, xlabel='majmin'>],\n",
       "       [<Axes: title={'center': 'precision'}, xlabel='majmin'>,\n",
       "        <Axes: title={'center': 'false positive rate'}, xlabel='majmin'>,\n",
       "        <Axes: title={'center': 'false negative rate'}, xlabel='majmin'>],\n",
       "       [<Axes: title={'center': 'selection rate'}, xlabel='majmin'>,\n",
       "        <Axes: title={'center': 'count'}, xlabel='majmin'>,\n",
       "        <Axes: xlabel='majmin'>]], dtype=object)"
      ]
     },
     "execution_count": 61,
     "metadata": {},
     "output_type": "execute_result"
    },
    {
     "data": {
      "image/png": "[encoded data removed]",
      "text/plain": [
       "<Figure size 1200x800 with 9 Axes>"
      ]
     },
     "metadata": {},
     "output_type": "display_data"
    }
   ],
   "source": [
    "# In a graphic\n",
    "metric_frame.by_group.plot.bar(\n",
    "    subplots=True,\n",
    "    layout=[3, 3],\n",
    "    legend=False,\n",
    "    figsize=[12, 8],\n",
    "    title=\"Show all metrics\",\n",
    ")"
   ]
  },
  {
   "cell_type": "markdown",
   "id": "f57a0bac",
   "metadata": {
    "papermill": {
     "duration": 0.014755,
     "end_time": "2025-08-19T16:58:23.554807",
     "exception": false,
     "start_time": "2025-08-19T16:58:23.540052",
     "status": "completed"
    },
    "tags": []
   },
   "source": [
    "# Final Output"
   ]
  },
  {
   "cell_type": "code",
   "execution_count": 62,
   "id": "96d280a3",
   "metadata": {
    "execution": {
     "iopub.execute_input": "2025-08-19T16:58:23.589451Z",
     "iopub.status.busy": "2025-08-19T16:58:23.586905Z",
     "iopub.status.idle": "2025-08-19T16:58:23.605458Z",
     "shell.execute_reply": "2025-08-19T16:58:23.604315Z"
    },
    "papermill": {
     "duration": 0.036768,
     "end_time": "2025-08-19T16:58:23.607155",
     "exception": false,
     "start_time": "2025-08-19T16:58:23.570387",
     "status": "completed"
    },
    "tags": []
   },
   "outputs": [
    {
     "data": {
      "text/plain": [
       "4"
      ]
     },
     "execution_count": 62,
     "metadata": {},
     "output_type": "execute_result"
    }
   ],
   "source": [
    "sub_universes = universe_analysis.generate_sub_universes()\n",
    "len(sub_universes)"
   ]
  },
  {
   "cell_type": "code",
   "execution_count": 63,
   "id": "92adf7ba",
   "metadata": {
    "execution": {
     "iopub.execute_input": "2025-08-19T16:58:23.640878Z",
     "iopub.status.busy": "2025-08-19T16:58:23.639517Z",
     "iopub.status.idle": "2025-08-19T16:58:23.648790Z",
     "shell.execute_reply": "2025-08-19T16:58:23.647458Z"
    },
    "papermill": {
     "duration": 0.026938,
     "end_time": "2025-08-19T16:58:23.650182",
     "exception": false,
     "start_time": "2025-08-19T16:58:23.623244",
     "status": "completed"
    },
    "tags": []
   },
   "outputs": [],
   "source": [
    "def filter_sub_universe_data(sub_universe, org_test):\n",
    "    # Keep all rows — no filtering\n",
    "    keep_rows_mask = np.ones(org_test.shape[0], dtype=bool)\n",
    "\n",
    "    print(f\"[INFO] Keeping all rows: {keep_rows_mask.sum()} rows retained.\")\n",
    "    return keep_rows_mask"
   ]
  },
  {
   "cell_type": "code",
   "execution_count": 64,
   "id": "4a759155",
   "metadata": {
    "execution": {
     "iopub.execute_input": "2025-08-19T16:58:23.689036Z",
     "iopub.status.busy": "2025-08-19T16:58:23.687451Z",
     "iopub.status.idle": "2025-08-19T16:58:30.219642Z",
     "shell.execute_reply": "2025-08-19T16:58:30.218459Z"
    },
    "papermill": {
     "duration": 6.552499,
     "end_time": "2025-08-19T16:58:30.223629",
     "exception": false,
     "start_time": "2025-08-19T16:58:23.671130",
     "status": "completed"
    },
    "tags": []
   },
   "outputs": [
    {
     "name": "stdout",
     "output_type": "stream",
     "text": [
      "Stopping execution_time clock.\n",
      "[INFO] Keeping all rows: 89710 rows retained.\n"
     ]
    },
    {
     "name": "stdout",
     "output_type": "stream",
     "text": [
      "[INFO] Keeping all rows: 89710 rows retained.\n"
     ]
    },
    {
     "name": "stdout",
     "output_type": "stream",
     "text": [
      "[INFO] Keeping all rows: 89710 rows retained.\n"
     ]
    },
    {
     "name": "stdout",
     "output_type": "stream",
     "text": [
      "[INFO] Keeping all rows: 89710 rows retained.\n"
     ]
    },
    {
     "data": {
      "text/html": [
       "<div>\n",
       "<style scoped>\n",
       "    .dataframe tbody tr th:only-of-type {\n",
       "        vertical-align: middle;\n",
       "    }\n",
       "\n",
       "    .dataframe tbody tr th {\n",
       "        vertical-align: top;\n",
       "    }\n",
       "\n",
       "    .dataframe thead th {\n",
       "        text-align: right;\n",
       "    }\n",
       "</style>\n",
       "<table border=\"1\" class=\"dataframe\">\n",
       "  <thead>\n",
       "    <tr style=\"text-align: right;\">\n",
       "      <th></th>\n",
       "      <th>run_no</th>\n",
       "      <th>universe_id</th>\n",
       "      <th>universe_settings</th>\n",
       "      <th>execution_time</th>\n",
       "      <th>test_size_n</th>\n",
       "      <th>test_size_frac</th>\n",
       "      <th>fair_main_equalized_odds_difference</th>\n",
       "      <th>fair_main_equalized_odds_ratio</th>\n",
       "      <th>fair_main_demographic_parity_difference</th>\n",
       "      <th>fair_main_demographic_parity_ratio</th>\n",
       "      <th>...</th>\n",
       "      <th>perf_grp_precision_0</th>\n",
       "      <th>perf_grp_precision_1</th>\n",
       "      <th>perf_grp_false positive rate_0</th>\n",
       "      <th>perf_grp_false positive rate_1</th>\n",
       "      <th>perf_grp_false negative rate_0</th>\n",
       "      <th>perf_grp_false negative rate_1</th>\n",
       "      <th>perf_grp_selection rate_0</th>\n",
       "      <th>perf_grp_selection rate_1</th>\n",
       "      <th>perf_grp_count_0</th>\n",
       "      <th>perf_grp_count_1</th>\n",
       "    </tr>\n",
       "  </thead>\n",
       "  <tbody>\n",
       "    <tr>\n",
       "      <th>0</th>\n",
       "      <td>2</td>\n",
       "      <td>238c9f4730505e43b107881cfc65f81f</td>\n",
       "      <td>{\"cutoff\": \"quantile_0.1\", \"eval_fairness_grou...</td>\n",
       "      <td>36.461027</td>\n",
       "      <td>89710</td>\n",
       "      <td>1.0</td>\n",
       "      <td>0.045218</td>\n",
       "      <td>0.950831</td>\n",
       "      <td>0.045912</td>\n",
       "      <td>0.950564</td>\n",
       "      <td>...</td>\n",
       "      <td>NaN</td>\n",
       "      <td>NaN</td>\n",
       "      <td>NaN</td>\n",
       "      <td>NaN</td>\n",
       "      <td>NaN</td>\n",
       "      <td>NaN</td>\n",
       "      <td>NaN</td>\n",
       "      <td>NaN</td>\n",
       "      <td>NaN</td>\n",
       "      <td>NaN</td>\n",
       "    </tr>\n",
       "    <tr>\n",
       "      <th>0</th>\n",
       "      <td>2</td>\n",
       "      <td>238c9f4730505e43b107881cfc65f81f</td>\n",
       "      <td>{\"cutoff\": \"quantile_0.1\", \"eval_fairness_grou...</td>\n",
       "      <td>36.461027</td>\n",
       "      <td>89710</td>\n",
       "      <td>1.0</td>\n",
       "      <td>0.045218</td>\n",
       "      <td>0.950831</td>\n",
       "      <td>0.045912</td>\n",
       "      <td>0.950564</td>\n",
       "      <td>...</td>\n",
       "      <td>0.123697</td>\n",
       "      <td>0.140629</td>\n",
       "      <td>0.874422</td>\n",
       "      <td>0.919640</td>\n",
       "      <td>0.052787</td>\n",
       "      <td>0.011597</td>\n",
       "      <td>0.882814</td>\n",
       "      <td>0.928726</td>\n",
       "      <td>20540.0</td>\n",
       "      <td>69170.0</td>\n",
       "    </tr>\n",
       "    <tr>\n",
       "      <th>0</th>\n",
       "      <td>2</td>\n",
       "      <td>238c9f4730505e43b107881cfc65f81f</td>\n",
       "      <td>{\"cutoff\": \"quantile_0.25\", \"eval_fairness_gro...</td>\n",
       "      <td>36.461027</td>\n",
       "      <td>89710</td>\n",
       "      <td>1.0</td>\n",
       "      <td>0.075720</td>\n",
       "      <td>0.920249</td>\n",
       "      <td>0.033152</td>\n",
       "      <td>0.956381</td>\n",
       "      <td>...</td>\n",
       "      <td>NaN</td>\n",
       "      <td>NaN</td>\n",
       "      <td>NaN</td>\n",
       "      <td>NaN</td>\n",
       "      <td>NaN</td>\n",
       "      <td>NaN</td>\n",
       "      <td>NaN</td>\n",
       "      <td>NaN</td>\n",
       "      <td>NaN</td>\n",
       "      <td>NaN</td>\n",
       "    </tr>\n",
       "    <tr>\n",
       "      <th>0</th>\n",
       "      <td>2</td>\n",
       "      <td>238c9f4730505e43b107881cfc65f81f</td>\n",
       "      <td>{\"cutoff\": \"quantile_0.25\", \"eval_fairness_gro...</td>\n",
       "      <td>36.461027</td>\n",
       "      <td>89710</td>\n",
       "      <td>1.0</td>\n",
       "      <td>0.075720</td>\n",
       "      <td>0.920249</td>\n",
       "      <td>0.033152</td>\n",
       "      <td>0.956381</td>\n",
       "      <td>...</td>\n",
       "      <td>0.138580</td>\n",
       "      <td>0.165072</td>\n",
       "      <td>0.707737</td>\n",
       "      <td>0.731184</td>\n",
       "      <td>0.126267</td>\n",
       "      <td>0.050547</td>\n",
       "      <td>0.726874</td>\n",
       "      <td>0.760026</td>\n",
       "      <td>20540.0</td>\n",
       "      <td>69170.0</td>\n",
       "    </tr>\n",
       "  </tbody>\n",
       "</table>\n",
       "<p>4 rows × 50 columns</p>\n",
       "</div>"
      ],
      "text/plain": [
       "  run_no                       universe_id  \\\n",
       "0      2  238c9f4730505e43b107881cfc65f81f   \n",
       "0      2  238c9f4730505e43b107881cfc65f81f   \n",
       "0      2  238c9f4730505e43b107881cfc65f81f   \n",
       "0      2  238c9f4730505e43b107881cfc65f81f   \n",
       "\n",
       "                                   universe_settings  execution_time  \\\n",
       "0  {\"cutoff\": \"quantile_0.1\", \"eval_fairness_grou...       36.461027   \n",
       "0  {\"cutoff\": \"quantile_0.1\", \"eval_fairness_grou...       36.461027   \n",
       "0  {\"cutoff\": \"quantile_0.25\", \"eval_fairness_gro...       36.461027   \n",
       "0  {\"cutoff\": \"quantile_0.25\", \"eval_fairness_gro...       36.461027   \n",
       "\n",
       "   test_size_n  test_size_frac  fair_main_equalized_odds_difference  \\\n",
       "0        89710             1.0                             0.045218   \n",
       "0        89710             1.0                             0.045218   \n",
       "0        89710             1.0                             0.075720   \n",
       "0        89710             1.0                             0.075720   \n",
       "\n",
       "   fair_main_equalized_odds_ratio  fair_main_demographic_parity_difference  \\\n",
       "0                        0.950831                                 0.045912   \n",
       "0                        0.950831                                 0.045912   \n",
       "0                        0.920249                                 0.033152   \n",
       "0                        0.920249                                 0.033152   \n",
       "\n",
       "   fair_main_demographic_parity_ratio  ...  perf_grp_precision_0  \\\n",
       "0                            0.950564  ...                   NaN   \n",
       "0                            0.950564  ...              0.123697   \n",
       "0                            0.956381  ...                   NaN   \n",
       "0                            0.956381  ...              0.138580   \n",
       "\n",
       "   perf_grp_precision_1  perf_grp_false positive rate_0  \\\n",
       "0                   NaN                             NaN   \n",
       "0              0.140629                        0.874422   \n",
       "0                   NaN                             NaN   \n",
       "0              0.165072                        0.707737   \n",
       "\n",
       "   perf_grp_false positive rate_1  perf_grp_false negative rate_0  \\\n",
       "0                             NaN                             NaN   \n",
       "0                        0.919640                        0.052787   \n",
       "0                             NaN                             NaN   \n",
       "0                        0.731184                        0.126267   \n",
       "\n",
       "   perf_grp_false negative rate_1  perf_grp_selection rate_0  \\\n",
       "0                             NaN                        NaN   \n",
       "0                        0.011597                   0.882814   \n",
       "0                             NaN                        NaN   \n",
       "0                        0.050547                   0.726874   \n",
       "\n",
       "   perf_grp_selection rate_1  perf_grp_count_0  perf_grp_count_1  \n",
       "0                        NaN               NaN               NaN  \n",
       "0                   0.928726           20540.0           69170.0  \n",
       "0                        NaN               NaN               NaN  \n",
       "0                   0.760026           20540.0           69170.0  \n",
       "\n",
       "[4 rows x 50 columns]"
      ]
     },
     "execution_count": 64,
     "metadata": {},
     "output_type": "execute_result"
    }
   ],
   "source": [
    "final_output = universe_analysis.generate_final_output(\n",
    "    y_pred_prob=probs_test,\n",
    "    y_test=y_true,\n",
    "    org_test=org_test,\n",
    "    filter_data=filter_sub_universe_data,\n",
    "    cp_metrics_df=cp_metrics_df,\n",
    "    save=True,\n",
    ")\n",
    "final_output"
   ]
  },
  {
   "cell_type": "code",
   "execution_count": null,
   "id": "571f9a0f-660a-4841-b661-b06fbc637944",
   "metadata": {
    "papermill": {
     "duration": 0.015027,
     "end_time": "2025-08-19T16:58:30.270241",
     "exception": false,
     "start_time": "2025-08-19T16:58:30.255214",
     "status": "completed"
    },
    "tags": []
   },
   "outputs": [],
   "source": []
  },
  {
   "cell_type": "code",
   "execution_count": null,
   "id": "529482e3-0150-4854-a92d-ab864efc606e",
   "metadata": {
    "papermill": {
     "duration": 0.01463,
     "end_time": "2025-08-19T16:58:30.299676",
     "exception": false,
     "start_time": "2025-08-19T16:58:30.285046",
     "status": "completed"
    },
    "tags": []
   },
   "outputs": [],
   "source": []
  }
 ],
 "metadata": {
  "celltoolbar": "Tags",
  "kernelspec": {
   "display_name": "Python (CMA Fairness)",
   "language": "python",
   "name": "cma_fair_env"
  },
  "language_info": {
   "codemirror_mode": {
    "name": "ipython",
    "version": 3
   },
   "file_extension": ".py",
   "mimetype": "text/x-python",
   "name": "python",
   "nbconvert_exporter": "python",
   "pygments_lexer": "ipython3",
   "version": "3.10.12"
  },
  "papermill": {
   "default_parameters": {},
   "duration": 46.72455,
   "end_time": "2025-08-19T16:58:31.139336",
   "environment_variables": {},
   "exception": null,
   "input_path": "universe_analysis.ipynb",
   "output_path": "output/runs/2/notebooks/m_2-238c9f4730505e43b107881cfc65f81f.ipynb",
   "parameters": {
    "output_dir": "output",
    "run_no": "2",
    "seed": "2023",
    "universe": "{\"cutoff\": [\"quantile_0.1\", \"quantile_0.25\"], \"eval_fairness_grouping\": [\"majority-minority\", \"nationality-all\"], \"exclude_features\": \"none\", \"exclude_subgroups\": \"drop-non-german\", \"model\": \"rf\", \"scale\": \"scale\", \"training_size\": \"25k\", \"training_year\": \"2014\"}",
    "universe_id": "238c9f4730505e43b107881cfc65f81f"
   },
   "start_time": "2025-08-19T16:57:44.414786",
   "version": "2.6.0"
  }
 },
 "nbformat": 4,
 "nbformat_minor": 5
}