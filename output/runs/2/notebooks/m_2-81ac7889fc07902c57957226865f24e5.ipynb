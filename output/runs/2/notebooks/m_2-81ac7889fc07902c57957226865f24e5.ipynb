{
 "cells": [
  {
   "cell_type": "code",
   "execution_count": 1,
   "id": "f159f837-637b-42ba-96b5-ec9a68c44524",
   "metadata": {
    "execution": {
     "iopub.execute_input": "2025-07-21T07:37:32.106278Z",
     "iopub.status.busy": "2025-07-21T07:37:32.105471Z",
     "iopub.status.idle": "2025-07-21T07:37:32.119185Z",
     "shell.execute_reply": "2025-07-21T07:37:32.118185Z"
    },
    "papermill": {
     "duration": 0.032856,
     "end_time": "2025-07-21T07:37:32.121061",
     "exception": false,
     "start_time": "2025-07-21T07:37:32.088205",
     "status": "completed"
    },
    "tags": []
   },
   "outputs": [
    {
     "name": "stdout",
     "output_type": "stream",
     "text": [
      "/dss/dsshome1/0C/ra93lal2/cma/CMA_Fairness_v2\n"
     ]
    },
    {
     "name": "stderr",
     "output_type": "stream",
     "text": [
      "/dss/dsshome1/0C/ra93lal2/.local/share/virtualenvs/CMA_Fairness_v2-3j10GkSs/lib/python3.10/site-packages/IPython/core/magics/osm.py:393: UserWarning: This is now an optional IPython functionality, using bookmarks requires you to install the `pickleshare` library.\n",
      "  bkms = self.shell.db.get('bookmarks', {})\n",
      "/dss/dsshome1/0C/ra93lal2/.local/share/virtualenvs/CMA_Fairness_v2-3j10GkSs/lib/python3.10/site-packages/IPython/core/magics/osm.py:417: UserWarning: This is now an optional IPython functionality, setting dhist requires you to install the `pickleshare` library.\n",
      "  self.shell.db['dhist'] = compress_dhist(dhist)[-100:]\n"
     ]
    }
   ],
   "source": [
    "%cd ~/cma/CMA_Fairness_v2"
   ]
  },
  {
   "cell_type": "markdown",
   "id": "de2603b9",
   "metadata": {
    "papermill": {
     "duration": 0.017799,
     "end_time": "2025-07-21T07:37:32.156041",
     "exception": false,
     "start_time": "2025-07-21T07:37:32.138242",
     "status": "completed"
    },
    "tags": []
   },
   "source": [
    "The following cell holds the definition of our parameters, these values can be overriden by rendering the with e.g. the following command:\n",
    "\n",
    "papermill -p alpha 0.2 -p ratio 0.3 universe_analysis.ipynb output/test_run.ipynb"
   ]
  },
  {
   "cell_type": "code",
   "execution_count": 2,
   "id": "a80968a0-40bb-4fa9-85ef-2d5eefb01975",
   "metadata": {
    "execution": {
     "iopub.execute_input": "2025-07-21T07:37:32.192744Z",
     "iopub.status.busy": "2025-07-21T07:37:32.191825Z",
     "iopub.status.idle": "2025-07-21T07:37:32.197824Z",
     "shell.execute_reply": "2025-07-21T07:37:32.196789Z"
    },
    "papermill": {
     "duration": 0.025942,
     "end_time": "2025-07-21T07:37:32.199644",
     "exception": false,
     "start_time": "2025-07-21T07:37:32.173702",
     "status": "completed"
    },
    "tags": []
   },
   "outputs": [
    {
     "name": "stdout",
     "output_type": "stream",
     "text": [
      "Current working directory: /dss/dsshome1/0C/ra93lal2/cma/CMA_Fairness_v2\n"
     ]
    }
   ],
   "source": [
    "import os\n",
    "print(\"Current working directory:\", os.getcwd())"
   ]
  },
  {
   "cell_type": "code",
   "execution_count": 3,
   "id": "2dce4c03",
   "metadata": {
    "execution": {
     "iopub.execute_input": "2025-07-21T07:37:32.238232Z",
     "iopub.status.busy": "2025-07-21T07:37:32.237292Z",
     "iopub.status.idle": "2025-07-21T07:37:32.243837Z",
     "shell.execute_reply": "2025-07-21T07:37:32.242898Z"
    },
    "papermill": {
     "duration": 0.027687,
     "end_time": "2025-07-21T07:37:32.245607",
     "exception": false,
     "start_time": "2025-07-21T07:37:32.217920",
     "status": "completed"
    },
    "tags": [
     "parameters"
    ]
   },
   "outputs": [],
   "source": [
    "run_no = 0\n",
    "universe_id = \"test\"\n",
    "universe = {\n",
    "    #\"scale\": \"scale\", # \"scale\", \"do-not-scale\",\n",
    "    #\"encode_categorical\": \"one-hot\", # \"ordinal\", \"one-hot\"\n",
    "    \"model\": \"elasticnet\", # \"logreg\", \"penalized_logreg\", \"rf\", \"gbm\", \"elasticnet\"\n",
    "    \"cutoff\": [\"quantile_0.15\", \"quantile_0.30\"],\n",
    "    \"exclude_features\": \"nationality-sex\", # \"none\", \"nationality\", \"sex\", \"nationality-sex\"\n",
    "    \"exclude_subgroups\": \"keep-all\", # \"keep-all\", \"drop-non-german\"\n",
    "    \"eval_fairness_grouping\": [\"majority-minority\", \"nationality-all\"]\n",
    "}\n",
    "\n",
    "output_dir=\"./output\"\n",
    "seed=0"
   ]
  },
  {
   "cell_type": "code",
   "execution_count": 4,
   "id": "33108a2e",
   "metadata": {
    "execution": {
     "iopub.execute_input": "2025-07-21T07:37:32.290644Z",
     "iopub.status.busy": "2025-07-21T07:37:32.290115Z",
     "iopub.status.idle": "2025-07-21T07:37:32.295493Z",
     "shell.execute_reply": "2025-07-21T07:37:32.294590Z"
    },
    "papermill": {
     "duration": 0.035014,
     "end_time": "2025-07-21T07:37:32.297143",
     "exception": false,
     "start_time": "2025-07-21T07:37:32.262129",
     "status": "completed"
    },
    "tags": [
     "injected-parameters"
    ]
   },
   "outputs": [],
   "source": [
    "# Parameters\n",
    "universe_id = \"81ac7889fc07902c57957226865f24e5\"\n",
    "run_no = \"2\"\n",
    "universe = \"{\\\"cutoff\\\": [\\\"quantile_0.1\\\", \\\"quantile_0.25\\\"], \\\"eval_fairness_grouping\\\": [\\\"majority-minority\\\", \\\"nationality-all\\\"], \\\"exclude_features\\\": \\\"sex\\\", \\\"exclude_subgroups\\\": \\\"keep-all\\\", \\\"model\\\": \\\"rf\\\"}\"\n",
    "output_dir = \"output\"\n",
    "seed = \"2023\"\n"
   ]
  },
  {
   "cell_type": "code",
   "execution_count": 5,
   "id": "1650acaf",
   "metadata": {
    "execution": {
     "iopub.execute_input": "2025-07-21T07:37:32.336028Z",
     "iopub.status.busy": "2025-07-21T07:37:32.335663Z",
     "iopub.status.idle": "2025-07-21T07:37:32.339902Z",
     "shell.execute_reply": "2025-07-21T07:37:32.339155Z"
    },
    "papermill": {
     "duration": 0.017413,
     "end_time": "2025-07-21T07:37:32.341153",
     "exception": false,
     "start_time": "2025-07-21T07:37:32.323740",
     "status": "completed"
    },
    "tags": []
   },
   "outputs": [],
   "source": [
    "import json\n",
    "# Parse universe into dict if it is passed as a string\n",
    "if isinstance(universe, str):\n",
    "    universe = json.loads(universe)"
   ]
  },
  {
   "cell_type": "code",
   "execution_count": 6,
   "id": "16620c48",
   "metadata": {
    "execution": {
     "iopub.execute_input": "2025-07-21T07:37:32.359278Z",
     "iopub.status.busy": "2025-07-21T07:37:32.358980Z",
     "iopub.status.idle": "2025-07-21T07:37:32.403332Z",
     "shell.execute_reply": "2025-07-21T07:37:32.402197Z"
    },
    "papermill": {
     "duration": 0.055179,
     "end_time": "2025-07-21T07:37:32.405334",
     "exception": false,
     "start_time": "2025-07-21T07:37:32.350155",
     "status": "completed"
    },
    "tags": []
   },
   "outputs": [],
   "source": [
    "# Auto-reload the custom package\n",
    "%load_ext autoreload\n",
    "%autoreload 1\n",
    "%aimport fairness_multiverse"
   ]
  },
  {
   "cell_type": "code",
   "execution_count": 7,
   "id": "01c5c9f3",
   "metadata": {
    "execution": {
     "iopub.execute_input": "2025-07-21T07:37:32.442638Z",
     "iopub.status.busy": "2025-07-21T07:37:32.441977Z",
     "iopub.status.idle": "2025-07-21T07:37:34.433216Z",
     "shell.execute_reply": "2025-07-21T07:37:34.432005Z"
    },
    "papermill": {
     "duration": 2.011912,
     "end_time": "2025-07-21T07:37:34.435190",
     "exception": false,
     "start_time": "2025-07-21T07:37:32.423278",
     "status": "completed"
    },
    "tags": []
   },
   "outputs": [],
   "source": [
    "from fairness_multiverse.universe import UniverseAnalysis\n",
    "\n",
    "universe_analysis = UniverseAnalysis(\n",
    "    run_no = run_no,\n",
    "    universe_id = universe_id,\n",
    "    universe = universe,\n",
    "    output_dir=output_dir,\n",
    ")"
   ]
  },
  {
   "cell_type": "code",
   "execution_count": 8,
   "id": "106241f5",
   "metadata": {
    "execution": {
     "iopub.execute_input": "2025-07-21T07:37:34.469486Z",
     "iopub.status.busy": "2025-07-21T07:37:34.468968Z",
     "iopub.status.idle": "2025-07-21T07:37:34.475745Z",
     "shell.execute_reply": "2025-07-21T07:37:34.474517Z"
    },
    "papermill": {
     "duration": 0.025337,
     "end_time": "2025-07-21T07:37:34.477280",
     "exception": false,
     "start_time": "2025-07-21T07:37:34.451943",
     "status": "completed"
    },
    "tags": []
   },
   "outputs": [
    {
     "name": "stdout",
     "output_type": "stream",
     "text": [
      "Using Seed: 2023\n"
     ]
    }
   ],
   "source": [
    "import numpy as np\n",
    "parsed_seed = int(seed)\n",
    "np.random.seed(parsed_seed)\n",
    "print(f\"Using Seed: {parsed_seed}\")"
   ]
  },
  {
   "cell_type": "markdown",
   "id": "e0ebdc57",
   "metadata": {
    "papermill": {
     "duration": 0.016171,
     "end_time": "2025-07-21T07:37:34.510033",
     "exception": false,
     "start_time": "2025-07-21T07:37:34.493862",
     "status": "completed"
    },
    "tags": []
   },
   "source": [
    "# Loading Data"
   ]
  },
  {
   "cell_type": "markdown",
   "id": "681925a3",
   "metadata": {
    "papermill": {
     "duration": 0.015684,
     "end_time": "2025-07-21T07:37:34.542019",
     "exception": false,
     "start_time": "2025-07-21T07:37:34.526335",
     "status": "completed"
    },
    "tags": []
   },
   "source": [
    "Load siab_train, siab_test, siab_calib and/or \n",
    "load siab_train_features, siab_train_labels"
   ]
  },
  {
   "cell_type": "code",
   "execution_count": 9,
   "id": "f0496b8a",
   "metadata": {
    "execution": {
     "iopub.execute_input": "2025-07-21T07:37:34.575833Z",
     "iopub.status.busy": "2025-07-21T07:37:34.575109Z",
     "iopub.status.idle": "2025-07-21T07:37:49.376911Z",
     "shell.execute_reply": "2025-07-21T07:37:49.375438Z"
    },
    "papermill": {
     "duration": 14.821346,
     "end_time": "2025-07-21T07:37:49.379007",
     "exception": false,
     "start_time": "2025-07-21T07:37:34.557661",
     "status": "completed"
    },
    "tags": []
   },
   "outputs": [
    {
     "name": "stdout",
     "output_type": "stream",
     "text": [
      "Loading SIAB data from cache: data/siab_cached.csv.gz\n"
     ]
    },
    {
     "name": "stdout",
     "output_type": "stream",
     "text": [
      "(643690, 164)\n"
     ]
    }
   ],
   "source": [
    "# Do I need to load siab? Delete this cell?\n",
    "\n",
    "from pathlib import Path\n",
    "import pandas as pd\n",
    "\n",
    "# File paths\n",
    "raw_file = Path(\"data/raw/siab.csv\")\n",
    "cache_file = Path(\"data/siab_cached.csv.gz\")\n",
    "\n",
    "# Ensure cache directory exists\n",
    "cache_file.parent.mkdir(parents=True, exist_ok=True)\n",
    "\n",
    "# Load with simple caching\n",
    "if cache_file.exists():\n",
    "    print(f\"Loading SIAB data from cache: {cache_file}\")\n",
    "    siab = pd.read_csv(cache_file, compression='gzip')\n",
    "else:\n",
    "    print(f\"Cache not found. Reading raw SIAB data: {raw_file}\")\n",
    "    siab = pd.read_csv(raw_file)\n",
    "    siab.to_csv(cache_file, index=False, compression='gzip')\n",
    "    print(f\"Cached SIAB data to: {cache_file}\")\n",
    "\n",
    "# Now use `siab` DataFrame as needed\n",
    "print(siab.shape)\n"
   ]
  },
  {
   "cell_type": "code",
   "execution_count": 10,
   "id": "a0edb063",
   "metadata": {
    "execution": {
     "iopub.execute_input": "2025-07-21T07:37:49.437341Z",
     "iopub.status.busy": "2025-07-21T07:37:49.436595Z",
     "iopub.status.idle": "2025-07-21T07:37:49.904930Z",
     "shell.execute_reply": "2025-07-21T07:37:49.903656Z"
    },
    "papermill": {
     "duration": 0.499965,
     "end_time": "2025-07-21T07:37:49.907498",
     "exception": false,
     "start_time": "2025-07-21T07:37:49.407533",
     "status": "completed"
    },
    "tags": []
   },
   "outputs": [],
   "source": [
    "import pandas as pd\n",
    "\n",
    "X_train = pd.read_csv(\"./data/X_train.csv\")\n",
    "y_train = pd.read_csv(\"./data/y_train.csv\")"
   ]
  },
  {
   "cell_type": "code",
   "execution_count": 11,
   "id": "63d08085",
   "metadata": {
    "execution": {
     "iopub.execute_input": "2025-07-21T07:37:49.985075Z",
     "iopub.status.busy": "2025-07-21T07:37:49.984519Z",
     "iopub.status.idle": "2025-07-21T07:37:52.391522Z",
     "shell.execute_reply": "2025-07-21T07:37:52.384447Z"
    },
    "papermill": {
     "duration": 2.446419,
     "end_time": "2025-07-21T07:37:52.393553",
     "exception": false,
     "start_time": "2025-07-21T07:37:49.947134",
     "status": "completed"
    },
    "tags": []
   },
   "outputs": [],
   "source": [
    "X_test = pd.read_csv(\"./data/X_test.csv\")\n",
    "y_true = pd.read_csv(\"./data/y_test.csv\")"
   ]
  },
  {
   "cell_type": "code",
   "execution_count": 12,
   "id": "98a8d0fa-1d3d-4ed8-bb2c-281470e24add",
   "metadata": {
    "execution": {
     "iopub.execute_input": "2025-07-21T07:37:52.511283Z",
     "iopub.status.busy": "2025-07-21T07:37:52.510760Z",
     "iopub.status.idle": "2025-07-21T07:37:56.818676Z",
     "shell.execute_reply": "2025-07-21T07:37:56.817606Z"
    },
    "papermill": {
     "duration": 4.373391,
     "end_time": "2025-07-21T07:37:56.822221",
     "exception": false,
     "start_time": "2025-07-21T07:37:52.448830",
     "status": "completed"
    },
    "tags": []
   },
   "outputs": [],
   "source": [
    "# Calibration data for conformal\n",
    "X_calib = pd.read_csv(\"./data/X_calib.csv\")\n",
    "y_calib = pd.read_csv(\"./data/y_calib.csv\")"
   ]
  },
  {
   "cell_type": "code",
   "execution_count": 13,
   "id": "e6c733c5",
   "metadata": {
    "execution": {
     "iopub.execute_input": "2025-07-21T07:37:56.907686Z",
     "iopub.status.busy": "2025-07-21T07:37:56.907201Z",
     "iopub.status.idle": "2025-07-21T07:37:57.017984Z",
     "shell.execute_reply": "2025-07-21T07:37:57.016641Z"
    },
    "papermill": {
     "duration": 0.150843,
     "end_time": "2025-07-21T07:37:57.019919",
     "exception": false,
     "start_time": "2025-07-21T07:37:56.869076",
     "status": "completed"
    },
    "tags": []
   },
   "outputs": [],
   "source": [
    "# Auxiliary data needed downstream in the pipeline\n",
    "\n",
    "org_train = X_train.copy()\n",
    "org_test = X_test.copy()\n",
    "org_calib = X_calib.copy()"
   ]
  },
  {
   "cell_type": "markdown",
   "id": "0a4a1b33",
   "metadata": {
    "papermill": {
     "duration": 0.077644,
     "end_time": "2025-07-21T07:37:57.155386",
     "exception": false,
     "start_time": "2025-07-21T07:37:57.077742",
     "status": "completed"
    },
    "tags": []
   },
   "source": [
    "# Preprocessing Data"
   ]
  },
  {
   "cell_type": "code",
   "execution_count": 14,
   "id": "ca879031",
   "metadata": {
    "execution": {
     "iopub.execute_input": "2025-07-21T07:37:57.239841Z",
     "iopub.status.busy": "2025-07-21T07:37:57.239327Z",
     "iopub.status.idle": "2025-07-21T07:37:57.246110Z",
     "shell.execute_reply": "2025-07-21T07:37:57.244877Z"
    },
    "papermill": {
     "duration": 0.061828,
     "end_time": "2025-07-21T07:37:57.250041",
     "exception": false,
     "start_time": "2025-07-21T07:37:57.188213",
     "status": "completed"
    },
    "tags": []
   },
   "outputs": [],
   "source": [
    "# EXCLUDE PROTECTED FEATURES\n",
    "# ----------------------\n",
    "# \"exclude_features\": \"none\", # \"nationality\", \"sex\", \"nationality-sex\"\n",
    "\n",
    "excluded_features = universe[\"exclude_features\"].split(\"-\") # split, e.g.: \"nationality-sex\" -> [\"nationality\", \"sex\"]\n",
    "excluded_features_dictionary = {\n",
    "    \"nationality\": [\"maxdeutsch1\", \"maxdeutsch.Missing.\"],\n",
    "    \"sex\": [\"frau1\"],\n",
    "}\n"
   ]
  },
  {
   "cell_type": "code",
   "execution_count": 15,
   "id": "b745ac60",
   "metadata": {
    "execution": {
     "iopub.execute_input": "2025-07-21T07:37:57.344354Z",
     "iopub.status.busy": "2025-07-21T07:37:57.343934Z",
     "iopub.status.idle": "2025-07-21T07:37:57.351363Z",
     "shell.execute_reply": "2025-07-21T07:37:57.350390Z"
    },
    "papermill": {
     "duration": 0.056441,
     "end_time": "2025-07-21T07:37:57.353693",
     "exception": false,
     "start_time": "2025-07-21T07:37:57.297252",
     "status": "completed"
    },
    "tags": []
   },
   "outputs": [],
   "source": [
    "# Code nice names to column names\n",
    "\n",
    "excluded_features_columns = [\n",
    "    excluded_features_dictionary[f] for f in excluded_features if len(f) > 0 and f != \"none\"\n",
    "]"
   ]
  },
  {
   "cell_type": "code",
   "execution_count": 16,
   "id": "f84f73a2",
   "metadata": {
    "execution": {
     "iopub.execute_input": "2025-07-21T07:37:57.485929Z",
     "iopub.status.busy": "2025-07-21T07:37:57.485508Z",
     "iopub.status.idle": "2025-07-21T07:37:57.492389Z",
     "shell.execute_reply": "2025-07-21T07:37:57.491358Z"
    },
    "papermill": {
     "duration": 0.07467,
     "end_time": "2025-07-21T07:37:57.497956",
     "exception": false,
     "start_time": "2025-07-21T07:37:57.423286",
     "status": "completed"
    },
    "tags": []
   },
   "outputs": [],
   "source": [
    "from utils import flatten_once\n",
    "\n",
    "excluded_features_columns = flatten_once(excluded_features_columns)"
   ]
  },
  {
   "cell_type": "code",
   "execution_count": 17,
   "id": "884dea22",
   "metadata": {
    "execution": {
     "iopub.execute_input": "2025-07-21T07:37:57.653096Z",
     "iopub.status.busy": "2025-07-21T07:37:57.652663Z",
     "iopub.status.idle": "2025-07-21T07:37:57.689693Z",
     "shell.execute_reply": "2025-07-21T07:37:57.688656Z"
    },
    "papermill": {
     "duration": 0.110853,
     "end_time": "2025-07-21T07:37:57.691921",
     "exception": false,
     "start_time": "2025-07-21T07:37:57.581068",
     "status": "completed"
    },
    "tags": []
   },
   "outputs": [
    {
     "name": "stdout",
     "output_type": "stream",
     "text": [
      "Dropping features: ['frau1']\n"
     ]
    }
   ],
   "source": [
    "if len(excluded_features_columns) > 0:\n",
    "    print(f\"Dropping features: {excluded_features_columns}\")\n",
    "    X_train.drop(excluded_features_columns, axis=1, inplace=True)"
   ]
  },
  {
   "cell_type": "code",
   "execution_count": 18,
   "id": "95ab8b16",
   "metadata": {
    "execution": {
     "iopub.execute_input": "2025-07-21T07:37:57.815882Z",
     "iopub.status.busy": "2025-07-21T07:37:57.815447Z",
     "iopub.status.idle": "2025-07-21T07:37:57.973769Z",
     "shell.execute_reply": "2025-07-21T07:37:57.972750Z"
    },
    "papermill": {
     "duration": 0.221398,
     "end_time": "2025-07-21T07:37:57.975918",
     "exception": false,
     "start_time": "2025-07-21T07:37:57.754520",
     "status": "completed"
    },
    "tags": []
   },
   "outputs": [
    {
     "name": "stdout",
     "output_type": "stream",
     "text": [
      "Dropping features: ['frau1']\n"
     ]
    }
   ],
   "source": [
    "if len(excluded_features_columns) > 0:\n",
    "    print(f\"Dropping features: {excluded_features_columns}\")\n",
    "    X_test.drop(excluded_features_columns, axis=1, inplace=True)"
   ]
  },
  {
   "cell_type": "code",
   "execution_count": 19,
   "id": "1853aaf5-fb9f-46cb-a2b5-8ea4ae2237e4",
   "metadata": {
    "execution": {
     "iopub.execute_input": "2025-07-21T07:37:58.067019Z",
     "iopub.status.busy": "2025-07-21T07:37:58.066591Z",
     "iopub.status.idle": "2025-07-21T07:37:58.194456Z",
     "shell.execute_reply": "2025-07-21T07:37:58.193225Z"
    },
    "papermill": {
     "duration": 0.202107,
     "end_time": "2025-07-21T07:37:58.196471",
     "exception": false,
     "start_time": "2025-07-21T07:37:57.994364",
     "status": "completed"
    },
    "tags": []
   },
   "outputs": [
    {
     "name": "stdout",
     "output_type": "stream",
     "text": [
      "Dropping features: ['frau1']\n"
     ]
    }
   ],
   "source": [
    "if len(excluded_features_columns) > 0:\n",
    "    print(f\"Dropping features: {excluded_features_columns}\")\n",
    "    X_calib.drop(excluded_features_columns, axis=1, inplace=True)"
   ]
  },
  {
   "cell_type": "code",
   "execution_count": 20,
   "id": "76c4dc6d",
   "metadata": {
    "execution": {
     "iopub.execute_input": "2025-07-21T07:37:58.291457Z",
     "iopub.status.busy": "2025-07-21T07:37:58.290316Z",
     "iopub.status.idle": "2025-07-21T07:37:58.297157Z",
     "shell.execute_reply": "2025-07-21T07:37:58.295914Z"
    },
    "papermill": {
     "duration": 0.053842,
     "end_time": "2025-07-21T07:37:58.298756",
     "exception": false,
     "start_time": "2025-07-21T07:37:58.244914",
     "status": "completed"
    },
    "tags": []
   },
   "outputs": [],
   "source": [
    "# EXCLUDE CERTAIN SUBGROUPS\n",
    "# ----------------------\n",
    "\n",
    "mode = universe.get(\"exclude_subgroups\", \"keep-all\") \n",
    "# Fetches the exclude_subgroups setting from the universe dict.\n",
    "# Defaults to \"keep-all\" if the key is missing."
   ]
  },
  {
   "cell_type": "code",
   "execution_count": 21,
   "id": "21994072",
   "metadata": {
    "execution": {
     "iopub.execute_input": "2025-07-21T07:37:58.402950Z",
     "iopub.status.busy": "2025-07-21T07:37:58.402507Z",
     "iopub.status.idle": "2025-07-21T07:37:58.410401Z",
     "shell.execute_reply": "2025-07-21T07:37:58.409067Z"
    },
    "papermill": {
     "duration": 0.063013,
     "end_time": "2025-07-21T07:37:58.412028",
     "exception": false,
     "start_time": "2025-07-21T07:37:58.349015",
     "status": "completed"
    },
    "tags": []
   },
   "outputs": [],
   "source": [
    "if mode == \"keep-all\":\n",
    "    keep_mask = pd.Series(True, index=org_train.index)\n",
    "\n",
    "# org_train contains the original feature columns from features_org (in Simson)\n",
    "# features_org contains unprocessed features, for me X_train at beginning ???\n",
    "# For keep-all, creates a boolean Series (keep_mask) of all True, so no rows are removed.\n",
    "\n",
    "elif mode == \"drop-non-german\":\n",
    "    keep_mask = org_train[\"maxdeutsch1\"] == 1 # ??? what about missing values?\n",
    "\n",
    "else:\n",
    "    raise ValueError(f\"Unsupported mode for exclude_subgroups: {mode}\")\n"
   ]
  },
  {
   "cell_type": "code",
   "execution_count": 22,
   "id": "71651440",
   "metadata": {
    "execution": {
     "iopub.execute_input": "2025-07-21T07:37:58.510479Z",
     "iopub.status.busy": "2025-07-21T07:37:58.510046Z",
     "iopub.status.idle": "2025-07-21T07:37:58.517261Z",
     "shell.execute_reply": "2025-07-21T07:37:58.516132Z"
    },
    "papermill": {
     "duration": 0.05601,
     "end_time": "2025-07-21T07:37:58.520748",
     "exception": false,
     "start_time": "2025-07-21T07:37:58.464738",
     "status": "completed"
    },
    "tags": []
   },
   "outputs": [],
   "source": [
    "n_drop = (~keep_mask).sum() # Calculates how many rows are set to be dropped\n",
    "if n_drop > 0:\n",
    "    pct = n_drop / len(keep_mask) * 100\n",
    "    print(f\"Dropping {n_drop} rows ({pct:.2f}%) where mode='{mode}'\")"
   ]
  },
  {
   "cell_type": "code",
   "execution_count": 23,
   "id": "5fb8eee5",
   "metadata": {
    "execution": {
     "iopub.execute_input": "2025-07-21T07:37:58.573556Z",
     "iopub.status.busy": "2025-07-21T07:37:58.573100Z",
     "iopub.status.idle": "2025-07-21T07:37:58.617575Z",
     "shell.execute_reply": "2025-07-21T07:37:58.610843Z"
    },
    "papermill": {
     "duration": 0.06377,
     "end_time": "2025-07-21T07:37:58.619822",
     "exception": false,
     "start_time": "2025-07-21T07:37:58.556052",
     "status": "completed"
    },
    "tags": []
   },
   "outputs": [],
   "source": [
    "X_train = X_train[keep_mask]"
   ]
  },
  {
   "cell_type": "code",
   "execution_count": 24,
   "id": "b202bb3a",
   "metadata": {
    "execution": {
     "iopub.execute_input": "2025-07-21T07:37:58.698708Z",
     "iopub.status.busy": "2025-07-21T07:37:58.698282Z",
     "iopub.status.idle": "2025-07-21T07:37:58.705559Z",
     "shell.execute_reply": "2025-07-21T07:37:58.704433Z"
    },
    "papermill": {
     "duration": 0.070331,
     "end_time": "2025-07-21T07:37:58.709185",
     "exception": false,
     "start_time": "2025-07-21T07:37:58.638854",
     "status": "completed"
    },
    "tags": []
   },
   "outputs": [],
   "source": [
    "y_train = y_train[keep_mask]"
   ]
  },
  {
   "cell_type": "markdown",
   "id": "493e2ac3",
   "metadata": {
    "papermill": {
     "duration": 0.019458,
     "end_time": "2025-07-21T07:37:58.748698",
     "exception": false,
     "start_time": "2025-07-21T07:37:58.729240",
     "status": "completed"
    },
    "tags": []
   },
   "source": [
    "# Model Training"
   ]
  },
  {
   "cell_type": "code",
   "execution_count": 25,
   "id": "679e1268",
   "metadata": {
    "execution": {
     "iopub.execute_input": "2025-07-21T07:37:58.850691Z",
     "iopub.status.busy": "2025-07-21T07:37:58.850286Z",
     "iopub.status.idle": "2025-07-21T07:37:59.121483Z",
     "shell.execute_reply": "2025-07-21T07:37:59.120184Z"
    },
    "papermill": {
     "duration": 0.356467,
     "end_time": "2025-07-21T07:37:59.123982",
     "exception": false,
     "start_time": "2025-07-21T07:37:58.767515",
     "status": "completed"
    },
    "tags": []
   },
   "outputs": [],
   "source": [
    "from sklearn.linear_model import LogisticRegression\n",
    "from sklearn.ensemble import GradientBoostingClassifier, RandomForestClassifier\n",
    "\n",
    "if (universe[\"model\"] == \"logreg\"):\n",
    "    model = LogisticRegression() #penalty=\"none\") #, solver=\"newton-cg\", max_iter=1) # include random_state=19 ?\n",
    "elif (universe[\"model\"] == \"penalized_logreg\"):\n",
    "    model = LogisticRegression(penalty=\"l2\", C=1.0) #, solver=\"newton-cg\", max_iter=1)\n",
    "elif (universe[\"model\"] == \"rf\"):\n",
    "    model = RandomForestClassifier(n_estimators=100, n_jobs=-1)\n",
    "elif (universe[\"model\"] == \"gbm\"):\n",
    "    model = GradientBoostingClassifier()\n",
    "elif (universe[\"model\"] == \"elasticnet\"):\n",
    "    model = LogisticRegression(penalty = 'elasticnet', solver = 'saga', l1_ratio = 0.5, max_iter=5000) # which solver to use?\n",
    "else:\n",
    "    raise \"Unsupported universe.model\""
   ]
  },
  {
   "cell_type": "code",
   "execution_count": 26,
   "id": "0cc8f744",
   "metadata": {
    "execution": {
     "iopub.execute_input": "2025-07-21T07:37:59.262965Z",
     "iopub.status.busy": "2025-07-21T07:37:59.262518Z",
     "iopub.status.idle": "2025-07-21T07:37:59.269821Z",
     "shell.execute_reply": "2025-07-21T07:37:59.268438Z"
    },
    "papermill": {
     "duration": 0.062683,
     "end_time": "2025-07-21T07:37:59.271585",
     "exception": false,
     "start_time": "2025-07-21T07:37:59.208902",
     "status": "completed"
    },
    "tags": []
   },
   "outputs": [],
   "source": [
    "import numpy as np\n",
    "from sklearn.pipeline import Pipeline\n",
    "from sklearn.preprocessing import StandardScaler\n",
    "from sklearn.metrics import accuracy_score\n",
    "\n",
    "model = Pipeline([\n",
    "    #(\"continuous_processor\", continuous_processor),\n",
    "    #(\"categorical_preprocessor\", categorical_preprocessor),\n",
    "    #(\"scale\", StandardScaler() if universe[\"scale\"] == \"scale\" else None),\n",
    "    (\"model\", model),\n",
    "])"
   ]
  },
  {
   "cell_type": "code",
   "execution_count": 27,
   "id": "9442c04d",
   "metadata": {
    "execution": {
     "iopub.execute_input": "2025-07-21T07:37:59.382766Z",
     "iopub.status.busy": "2025-07-21T07:37:59.382341Z",
     "iopub.status.idle": "2025-07-21T07:38:04.700406Z",
     "shell.execute_reply": "2025-07-21T07:38:04.699348Z"
    },
    "papermill": {
     "duration": 5.401926,
     "end_time": "2025-07-21T07:38:04.702429",
     "exception": false,
     "start_time": "2025-07-21T07:37:59.300503",
     "status": "completed"
    },
    "tags": []
   },
   "outputs": [
    {
     "data": {
      "text/html": [
       "<style>#sk-container-id-1 {color: black;background-color: white;}#sk-container-id-1 pre{padding: 0;}#sk-container-id-1 div.sk-toggleable {background-color: white;}#sk-container-id-1 label.sk-toggleable__label {cursor: pointer;display: block;width: 100%;margin-bottom: 0;padding: 0.3em;box-sizing: border-box;text-align: center;}#sk-container-id-1 label.sk-toggleable__label-arrow:before {content: \"▸\";float: left;margin-right: 0.25em;color: #696969;}#sk-container-id-1 label.sk-toggleable__label-arrow:hover:before {color: black;}#sk-container-id-1 div.sk-estimator:hover label.sk-toggleable__label-arrow:before {color: black;}#sk-container-id-1 div.sk-toggleable__content {max-height: 0;max-width: 0;overflow: hidden;text-align: left;background-color: #f0f8ff;}#sk-container-id-1 div.sk-toggleable__content pre {margin: 0.2em;color: black;border-radius: 0.25em;background-color: #f0f8ff;}#sk-container-id-1 input.sk-toggleable__control:checked~div.sk-toggleable__content {max-height: 200px;max-width: 100%;overflow: auto;}#sk-container-id-1 input.sk-toggleable__control:checked~label.sk-toggleable__label-arrow:before {content: \"▾\";}#sk-container-id-1 div.sk-estimator input.sk-toggleable__control:checked~label.sk-toggleable__label {background-color: #d4ebff;}#sk-container-id-1 div.sk-label input.sk-toggleable__control:checked~label.sk-toggleable__label {background-color: #d4ebff;}#sk-container-id-1 input.sk-hidden--visually {border: 0;clip: rect(1px 1px 1px 1px);clip: rect(1px, 1px, 1px, 1px);height: 1px;margin: -1px;overflow: hidden;padding: 0;position: absolute;width: 1px;}#sk-container-id-1 div.sk-estimator {font-family: monospace;background-color: #f0f8ff;border: 1px dotted black;border-radius: 0.25em;box-sizing: border-box;margin-bottom: 0.5em;}#sk-container-id-1 div.sk-estimator:hover {background-color: #d4ebff;}#sk-container-id-1 div.sk-parallel-item::after {content: \"\";width: 100%;border-bottom: 1px solid gray;flex-grow: 1;}#sk-container-id-1 div.sk-label:hover label.sk-toggleable__label {background-color: #d4ebff;}#sk-container-id-1 div.sk-serial::before {content: \"\";position: absolute;border-left: 1px solid gray;box-sizing: border-box;top: 0;bottom: 0;left: 50%;z-index: 0;}#sk-container-id-1 div.sk-serial {display: flex;flex-direction: column;align-items: center;background-color: white;padding-right: 0.2em;padding-left: 0.2em;position: relative;}#sk-container-id-1 div.sk-item {position: relative;z-index: 1;}#sk-container-id-1 div.sk-parallel {display: flex;align-items: stretch;justify-content: center;background-color: white;position: relative;}#sk-container-id-1 div.sk-item::before, #sk-container-id-1 div.sk-parallel-item::before {content: \"\";position: absolute;border-left: 1px solid gray;box-sizing: border-box;top: 0;bottom: 0;left: 50%;z-index: -1;}#sk-container-id-1 div.sk-parallel-item {display: flex;flex-direction: column;z-index: 1;position: relative;background-color: white;}#sk-container-id-1 div.sk-parallel-item:first-child::after {align-self: flex-end;width: 50%;}#sk-container-id-1 div.sk-parallel-item:last-child::after {align-self: flex-start;width: 50%;}#sk-container-id-1 div.sk-parallel-item:only-child::after {width: 0;}#sk-container-id-1 div.sk-dashed-wrapped {border: 1px dashed gray;margin: 0 0.4em 0.5em 0.4em;box-sizing: border-box;padding-bottom: 0.4em;background-color: white;}#sk-container-id-1 div.sk-label label {font-family: monospace;font-weight: bold;display: inline-block;line-height: 1.2em;}#sk-container-id-1 div.sk-label-container {text-align: center;}#sk-container-id-1 div.sk-container {/* jupyter's `normalize.less` sets `[hidden] { display: none; }` but bootstrap.min.css set `[hidden] { display: none !important; }` so we also need the `!important` here to be able to override the default hidden behavior on the sphinx rendered scikit-learn.org. See: https://github.com/scikit-learn/scikit-learn/issues/21755 */display: inline-block !important;position: relative;}#sk-container-id-1 div.sk-text-repr-fallback {display: none;}</style><div id=\"sk-container-id-1\" class=\"sk-top-container\"><div class=\"sk-text-repr-fallback\"><pre>Pipeline(steps=[(&#x27;model&#x27;, RandomForestClassifier(n_jobs=-1))])</pre><b>In a Jupyter environment, please rerun this cell to show the HTML representation or trust the notebook. <br />On GitHub, the HTML representation is unable to render, please try loading this page with nbviewer.org.</b></div><div class=\"sk-container\" hidden><div class=\"sk-item sk-dashed-wrapped\"><div class=\"sk-label-container\"><div class=\"sk-label sk-toggleable\"><input class=\"sk-toggleable__control sk-hidden--visually\" id=\"sk-estimator-id-1\" type=\"checkbox\" ><label for=\"sk-estimator-id-1\" class=\"sk-toggleable__label sk-toggleable__label-arrow\">Pipeline</label><div class=\"sk-toggleable__content\"><pre>Pipeline(steps=[(&#x27;model&#x27;, RandomForestClassifier(n_jobs=-1))])</pre></div></div></div><div class=\"sk-serial\"><div class=\"sk-item\"><div class=\"sk-estimator sk-toggleable\"><input class=\"sk-toggleable__control sk-hidden--visually\" id=\"sk-estimator-id-2\" type=\"checkbox\" ><label for=\"sk-estimator-id-2\" class=\"sk-toggleable__label sk-toggleable__label-arrow\">RandomForestClassifier</label><div class=\"sk-toggleable__content\"><pre>RandomForestClassifier(n_jobs=-1)</pre></div></div></div></div></div></div></div>"
      ],
      "text/plain": [
       "Pipeline(steps=[('model', RandomForestClassifier(n_jobs=-1))])"
      ]
     },
     "execution_count": 27,
     "metadata": {},
     "output_type": "execute_result"
    }
   ],
   "source": [
    "model.fit(X_train, y_train.values.ravel())"
   ]
  },
  {
   "cell_type": "code",
   "execution_count": 28,
   "id": "af59f8c0",
   "metadata": {
    "execution": {
     "iopub.execute_input": "2025-07-21T07:38:04.762128Z",
     "iopub.status.busy": "2025-07-21T07:38:04.761582Z",
     "iopub.status.idle": "2025-07-21T07:38:04.767392Z",
     "shell.execute_reply": "2025-07-21T07:38:04.766362Z"
    },
    "papermill": {
     "duration": 0.030986,
     "end_time": "2025-07-21T07:38:04.770314",
     "exception": false,
     "start_time": "2025-07-21T07:38:04.739328",
     "status": "completed"
    },
    "tags": []
   },
   "outputs": [],
   "source": [
    "from fairness_multiverse.universe import predict_w_threshold"
   ]
  },
  {
   "cell_type": "code",
   "execution_count": 29,
   "id": "a7cf2e16",
   "metadata": {
    "execution": {
     "iopub.execute_input": "2025-07-21T07:38:04.812700Z",
     "iopub.status.busy": "2025-07-21T07:38:04.812125Z",
     "iopub.status.idle": "2025-07-21T07:38:05.899713Z",
     "shell.execute_reply": "2025-07-21T07:38:05.898676Z"
    },
    "papermill": {
     "duration": 1.110431,
     "end_time": "2025-07-21T07:38:05.901765",
     "exception": false,
     "start_time": "2025-07-21T07:38:04.791334",
     "status": "completed"
    },
    "tags": []
   },
   "outputs": [
    {
     "data": {
      "text/plain": [
       "0.8659681194961543"
      ]
     },
     "execution_count": 29,
     "metadata": {},
     "output_type": "execute_result"
    }
   ],
   "source": [
    "probs_test = model.predict_proba(X_test)\n",
    "\n",
    "'''\n",
    "Below code returns a boolean array (or binary 0/1 array depending on how it’s used) where each element \n",
    "is True if the probability of class 1 is greater than or equal to the threshold, and False otherwise.\n",
    "'''\n",
    "y_pred_default = predict_w_threshold(probs_test, 0.5)\n",
    "\n",
    "# Naive prediction\n",
    "accuracy_score(y_true = y_true, y_pred = y_pred_default)"
   ]
  },
  {
   "cell_type": "code",
   "execution_count": 30,
   "id": "081964c3",
   "metadata": {
    "execution": {
     "iopub.execute_input": "2025-07-21T07:38:05.940924Z",
     "iopub.status.busy": "2025-07-21T07:38:05.940081Z",
     "iopub.status.idle": "2025-07-21T07:38:06.975633Z",
     "shell.execute_reply": "2025-07-21T07:38:06.974464Z"
    },
    "papermill": {
     "duration": 1.055526,
     "end_time": "2025-07-21T07:38:06.977503",
     "exception": false,
     "start_time": "2025-07-21T07:38:05.921977",
     "status": "completed"
    },
    "tags": []
   },
   "outputs": [
    {
     "data": {
      "text/plain": [
       "array([0, 0, 0, ..., 0, 0, 0])"
      ]
     },
     "execution_count": 30,
     "metadata": {},
     "output_type": "execute_result"
    }
   ],
   "source": [
    "model.predict(X_test)"
   ]
  },
  {
   "cell_type": "markdown",
   "id": "56c9705b",
   "metadata": {
    "papermill": {
     "duration": 0.018747,
     "end_time": "2025-07-21T07:38:07.015918",
     "exception": false,
     "start_time": "2025-07-21T07:38:06.997171",
     "status": "completed"
    },
    "tags": []
   },
   "source": [
    "# Conformal Prediction"
   ]
  },
  {
   "cell_type": "code",
   "execution_count": 31,
   "id": "160ec6ff",
   "metadata": {
    "execution": {
     "iopub.execute_input": "2025-07-21T07:38:07.067524Z",
     "iopub.status.busy": "2025-07-21T07:38:07.066385Z",
     "iopub.status.idle": "2025-07-21T07:38:07.071897Z",
     "shell.execute_reply": "2025-07-21T07:38:07.070913Z"
    },
    "papermill": {
     "duration": 0.040113,
     "end_time": "2025-07-21T07:38:07.073573",
     "exception": false,
     "start_time": "2025-07-21T07:38:07.033460",
     "status": "completed"
    },
    "tags": []
   },
   "outputs": [],
   "source": [
    "# Miscoverage level for conformal prediction (10% allowed error rate => 90% target coverage)\n",
    "alpha = 0.1"
   ]
  },
  {
   "cell_type": "code",
   "execution_count": 32,
   "id": "eadf4555-3dd3-440e-8e35-f82a4ad9f855",
   "metadata": {
    "execution": {
     "iopub.execute_input": "2025-07-21T07:38:07.115995Z",
     "iopub.status.busy": "2025-07-21T07:38:07.115170Z",
     "iopub.status.idle": "2025-07-21T07:38:08.237237Z",
     "shell.execute_reply": "2025-07-21T07:38:08.236423Z"
    },
    "papermill": {
     "duration": 1.144641,
     "end_time": "2025-07-21T07:38:08.238774",
     "exception": false,
     "start_time": "2025-07-21T07:38:07.094133",
     "status": "completed"
    },
    "tags": []
   },
   "outputs": [],
   "source": [
    "probs_calib = model.predict_proba(X_calib)"
   ]
  },
  {
   "cell_type": "code",
   "execution_count": 33,
   "id": "2ed93547-6d5d-4983-9b36-1ecb300da49a",
   "metadata": {
    "execution": {
     "iopub.execute_input": "2025-07-21T07:38:08.261072Z",
     "iopub.status.busy": "2025-07-21T07:38:08.260693Z",
     "iopub.status.idle": "2025-07-21T07:38:08.266140Z",
     "shell.execute_reply": "2025-07-21T07:38:08.265310Z"
    },
    "papermill": {
     "duration": 0.01843,
     "end_time": "2025-07-21T07:38:08.267978",
     "exception": false,
     "start_time": "2025-07-21T07:38:08.249548",
     "status": "completed"
    },
    "tags": []
   },
   "outputs": [],
   "source": [
    "y_calib = y_calib.values.ravel().astype(int)"
   ]
  },
  {
   "cell_type": "code",
   "execution_count": 34,
   "id": "65d1320d-f588-4b38-9072-62af1ae97f7d",
   "metadata": {
    "execution": {
     "iopub.execute_input": "2025-07-21T07:38:08.312011Z",
     "iopub.status.busy": "2025-07-21T07:38:08.311689Z",
     "iopub.status.idle": "2025-07-21T07:38:08.318547Z",
     "shell.execute_reply": "2025-07-21T07:38:08.317805Z"
    },
    "papermill": {
     "duration": 0.031135,
     "end_time": "2025-07-21T07:38:08.320624",
     "exception": false,
     "start_time": "2025-07-21T07:38:08.289489",
     "status": "completed"
    },
    "tags": []
   },
   "outputs": [],
   "source": [
    "from fairness_multiverse.conformal import compute_nc_scores\n",
    "\n",
    "# Compute nonconformity scores on calibration set (1 - probability of true class)\n",
    "nc_scores = compute_nc_scores(probs_calib, y_calib)"
   ]
  },
  {
   "cell_type": "code",
   "execution_count": 35,
   "id": "df3b8ca3-53b7-43d5-9667-7c85da7aeda2",
   "metadata": {
    "execution": {
     "iopub.execute_input": "2025-07-21T07:38:08.342636Z",
     "iopub.status.busy": "2025-07-21T07:38:08.342235Z",
     "iopub.status.idle": "2025-07-21T07:38:08.347500Z",
     "shell.execute_reply": "2025-07-21T07:38:08.346760Z"
    },
    "papermill": {
     "duration": 0.017108,
     "end_time": "2025-07-21T07:38:08.348857",
     "exception": false,
     "start_time": "2025-07-21T07:38:08.331749",
     "status": "completed"
    },
    "tags": []
   },
   "outputs": [],
   "source": [
    "from fairness_multiverse.conformal import find_threshold\n",
    "\n",
    "# Find conformal threshold q_hat for the given alpha (split conformal method)\n",
    "q_hat = find_threshold(nc_scores, alpha)"
   ]
  },
  {
   "cell_type": "code",
   "execution_count": 36,
   "id": "4d29e6c1-0ef6-4aa4-b8fe-4fe79b0d033a",
   "metadata": {
    "execution": {
     "iopub.execute_input": "2025-07-21T07:38:08.370996Z",
     "iopub.status.busy": "2025-07-21T07:38:08.370592Z",
     "iopub.status.idle": "2025-07-21T07:38:08.376786Z",
     "shell.execute_reply": "2025-07-21T07:38:08.376022Z"
    },
    "papermill": {
     "duration": 0.018601,
     "end_time": "2025-07-21T07:38:08.378180",
     "exception": false,
     "start_time": "2025-07-21T07:38:08.359579",
     "status": "completed"
    },
    "tags": []
   },
   "outputs": [
    {
     "data": {
      "text/plain": [
       "0.6599999999999999"
      ]
     },
     "execution_count": 36,
     "metadata": {},
     "output_type": "execute_result"
    }
   ],
   "source": [
    "q_hat"
   ]
  },
  {
   "cell_type": "code",
   "execution_count": 37,
   "id": "92460794-cdac-4be2-ba28-f28c0515a6fb",
   "metadata": {
    "execution": {
     "iopub.execute_input": "2025-07-21T07:38:08.400326Z",
     "iopub.status.busy": "2025-07-21T07:38:08.399700Z",
     "iopub.status.idle": "2025-07-21T07:38:10.339438Z",
     "shell.execute_reply": "2025-07-21T07:38:10.338211Z"
    },
    "papermill": {
     "duration": 1.952865,
     "end_time": "2025-07-21T07:38:10.341504",
     "exception": false,
     "start_time": "2025-07-21T07:38:08.388639",
     "status": "completed"
    },
    "tags": []
   },
   "outputs": [],
   "source": [
    "from fairness_multiverse.conformal import predict_conformal_sets\n",
    "\n",
    "# Generate prediction sets for each test example\n",
    "pred_sets = predict_conformal_sets(model, X_test, q_hat)"
   ]
  },
  {
   "cell_type": "code",
   "execution_count": 38,
   "id": "d90c9a65-e6db-4f5d-80cd-e68fb7e46829",
   "metadata": {
    "execution": {
     "iopub.execute_input": "2025-07-21T07:38:10.388042Z",
     "iopub.status.busy": "2025-07-21T07:38:10.387601Z",
     "iopub.status.idle": "2025-07-21T07:38:10.393921Z",
     "shell.execute_reply": "2025-07-21T07:38:10.392895Z"
    },
    "papermill": {
     "duration": 0.032767,
     "end_time": "2025-07-21T07:38:10.395699",
     "exception": false,
     "start_time": "2025-07-21T07:38:10.362932",
     "status": "completed"
    },
    "tags": []
   },
   "outputs": [],
   "source": [
    "y_true = y_true.squeeze()"
   ]
  },
  {
   "cell_type": "code",
   "execution_count": 39,
   "id": "3a58a54a-1e68-46b9-927a-df01f18aebc8",
   "metadata": {
    "execution": {
     "iopub.execute_input": "2025-07-21T07:38:10.438578Z",
     "iopub.status.busy": "2025-07-21T07:38:10.438118Z",
     "iopub.status.idle": "2025-07-21T07:38:11.394701Z",
     "shell.execute_reply": "2025-07-21T07:38:11.393693Z"
    },
    "papermill": {
     "duration": 0.979687,
     "end_time": "2025-07-21T07:38:11.396738",
     "exception": false,
     "start_time": "2025-07-21T07:38:10.417051",
     "status": "completed"
    },
    "tags": []
   },
   "outputs": [],
   "source": [
    "from fairness_multiverse.conformal import evaluate_sets\n",
    "\n",
    "# Evaluate coverage and average set size on test data\n",
    "metrics = evaluate_sets(pred_sets, y_true)"
   ]
  },
  {
   "cell_type": "code",
   "execution_count": 40,
   "id": "5ce0a5cb-201f-45a0-ade5-94c7f0bd6095",
   "metadata": {
    "execution": {
     "iopub.execute_input": "2025-07-21T07:38:11.441892Z",
     "iopub.status.busy": "2025-07-21T07:38:11.441221Z",
     "iopub.status.idle": "2025-07-21T07:38:11.448676Z",
     "shell.execute_reply": "2025-07-21T07:38:11.447623Z"
    },
    "papermill": {
     "duration": 0.031691,
     "end_time": "2025-07-21T07:38:11.450460",
     "exception": false,
     "start_time": "2025-07-21T07:38:11.418769",
     "status": "completed"
    },
    "tags": []
   },
   "outputs": [
    {
     "data": {
      "text/plain": [
       "{'coverage': 0.9157953405417456, 'avg_size': 1.14912495819864}"
      ]
     },
     "execution_count": 40,
     "metadata": {},
     "output_type": "execute_result"
    }
   ],
   "source": [
    "metrics"
   ]
  },
  {
   "cell_type": "code",
   "execution_count": 41,
   "id": "9b9a838d-31c9-430b-ae14-12baee460d17",
   "metadata": {
    "execution": {
     "iopub.execute_input": "2025-07-21T07:38:11.495496Z",
     "iopub.status.busy": "2025-07-21T07:38:11.494816Z",
     "iopub.status.idle": "2025-07-21T07:38:11.500869Z",
     "shell.execute_reply": "2025-07-21T07:38:11.499866Z"
    },
    "papermill": {
     "duration": 0.031011,
     "end_time": "2025-07-21T07:38:11.502465",
     "exception": false,
     "start_time": "2025-07-21T07:38:11.471454",
     "status": "completed"
    },
    "tags": []
   },
   "outputs": [],
   "source": [
    "example_universe = universe.copy()\n",
    "universe_model = example_universe.get(\"model\")\n",
    "universe_exclude_features = example_universe.get(\"exclude_features\")\n",
    "universe_exclude_subgroups = example_universe.get(\"exclude_subgroups\")"
   ]
  },
  {
   "cell_type": "code",
   "execution_count": 42,
   "id": "f4b6a8ac-9dc0-4245-8a91-5b3b5999c4f9",
   "metadata": {
    "execution": {
     "iopub.execute_input": "2025-07-21T07:38:11.546671Z",
     "iopub.status.busy": "2025-07-21T07:38:11.545607Z",
     "iopub.status.idle": "2025-07-21T07:38:11.552531Z",
     "shell.execute_reply": "2025-07-21T07:38:11.551563Z"
    },
    "papermill": {
     "duration": 0.030549,
     "end_time": "2025-07-21T07:38:11.554380",
     "exception": false,
     "start_time": "2025-07-21T07:38:11.523831",
     "status": "completed"
    },
    "tags": []
   },
   "outputs": [],
   "source": [
    "cp_metrics_dict = {\n",
    "    \"universe_id\": [universe_id],\n",
    "    \"universe_model\": [universe_model],\n",
    "    \"universe_exclude_features\": [universe_exclude_features],\n",
    "    \"universe_exclude_subgroups\": [universe_exclude_subgroups],\n",
    "    \"q_hat\": [q_hat],\n",
    "    \"coverage\": [metrics[\"coverage\"]],\n",
    "    \"avg_size\": [metrics[\"avg_size\"]],\n",
    "}"
   ]
  },
  {
   "cell_type": "code",
   "execution_count": 43,
   "id": "908acbb1-0371-4915-85ca-3fa520d2efe2",
   "metadata": {
    "execution": {
     "iopub.execute_input": "2025-07-21T07:38:11.601441Z",
     "iopub.status.busy": "2025-07-21T07:38:11.600757Z",
     "iopub.status.idle": "2025-07-21T07:38:11.608591Z",
     "shell.execute_reply": "2025-07-21T07:38:11.607499Z"
    },
    "papermill": {
     "duration": 0.031928,
     "end_time": "2025-07-21T07:38:11.610681",
     "exception": false,
     "start_time": "2025-07-21T07:38:11.578753",
     "status": "completed"
    },
    "tags": []
   },
   "outputs": [
    {
     "data": {
      "text/plain": [
       "{'universe_id': ['81ac7889fc07902c57957226865f24e5'],\n",
       " 'universe_model': ['rf'],\n",
       " 'universe_exclude_features': ['sex'],\n",
       " 'universe_exclude_subgroups': ['keep-all'],\n",
       " 'q_hat': [0.6599999999999999],\n",
       " 'coverage': [0.9157953405417456],\n",
       " 'avg_size': [1.14912495819864]}"
      ]
     },
     "execution_count": 43,
     "metadata": {},
     "output_type": "execute_result"
    }
   ],
   "source": [
    "cp_metrics_dict"
   ]
  },
  {
   "cell_type": "code",
   "execution_count": 44,
   "id": "33007efc-14e9-4ec6-97ac-56a455c82265",
   "metadata": {
    "execution": {
     "iopub.execute_input": "2025-07-21T07:38:11.655318Z",
     "iopub.status.busy": "2025-07-21T07:38:11.654611Z",
     "iopub.status.idle": "2025-07-21T07:38:11.661305Z",
     "shell.execute_reply": "2025-07-21T07:38:11.660369Z"
    },
    "papermill": {
     "duration": 0.031184,
     "end_time": "2025-07-21T07:38:11.663123",
     "exception": false,
     "start_time": "2025-07-21T07:38:11.631939",
     "status": "completed"
    },
    "tags": []
   },
   "outputs": [],
   "source": [
    "cp_metrics_df = pd.DataFrame(cp_metrics_dict)"
   ]
  },
  {
   "cell_type": "code",
   "execution_count": 45,
   "id": "db12611b-57b2-4910-b9d0-355adfd6e7bf",
   "metadata": {
    "execution": {
     "iopub.execute_input": "2025-07-21T07:38:11.708688Z",
     "iopub.status.busy": "2025-07-21T07:38:11.707955Z",
     "iopub.status.idle": "2025-07-21T07:38:11.724844Z",
     "shell.execute_reply": "2025-07-21T07:38:11.723872Z"
    },
    "papermill": {
     "duration": 0.041722,
     "end_time": "2025-07-21T07:38:11.726668",
     "exception": false,
     "start_time": "2025-07-21T07:38:11.684946",
     "status": "completed"
    },
    "tags": []
   },
   "outputs": [
    {
     "data": {
      "text/html": [
       "<div>\n",
       "<style scoped>\n",
       "    .dataframe tbody tr th:only-of-type {\n",
       "        vertical-align: middle;\n",
       "    }\n",
       "\n",
       "    .dataframe tbody tr th {\n",
       "        vertical-align: top;\n",
       "    }\n",
       "\n",
       "    .dataframe thead th {\n",
       "        text-align: right;\n",
       "    }\n",
       "</style>\n",
       "<table border=\"1\" class=\"dataframe\">\n",
       "  <thead>\n",
       "    <tr style=\"text-align: right;\">\n",
       "      <th></th>\n",
       "      <th>universe_id</th>\n",
       "      <th>universe_model</th>\n",
       "      <th>universe_exclude_features</th>\n",
       "      <th>universe_exclude_subgroups</th>\n",
       "      <th>q_hat</th>\n",
       "      <th>coverage</th>\n",
       "      <th>avg_size</th>\n",
       "    </tr>\n",
       "  </thead>\n",
       "  <tbody>\n",
       "    <tr>\n",
       "      <th>0</th>\n",
       "      <td>81ac7889fc07902c57957226865f24e5</td>\n",
       "      <td>rf</td>\n",
       "      <td>sex</td>\n",
       "      <td>keep-all</td>\n",
       "      <td>0.66</td>\n",
       "      <td>0.915795</td>\n",
       "      <td>1.149125</td>\n",
       "    </tr>\n",
       "  </tbody>\n",
       "</table>\n",
       "</div>"
      ],
      "text/plain": [
       "                        universe_id universe_model universe_exclude_features  \\\n",
       "0  81ac7889fc07902c57957226865f24e5             rf                       sex   \n",
       "\n",
       "  universe_exclude_subgroups  q_hat  coverage  avg_size  \n",
       "0                   keep-all   0.66  0.915795  1.149125  "
      ]
     },
     "execution_count": 45,
     "metadata": {},
     "output_type": "execute_result"
    }
   ],
   "source": [
    "cp_metrics_df"
   ]
  },
  {
   "cell_type": "code",
   "execution_count": 46,
   "id": "b7fbde55-a0a1-47e4-9af6-fe4a17fa8c61",
   "metadata": {
    "execution": {
     "iopub.execute_input": "2025-07-21T07:38:11.772683Z",
     "iopub.status.busy": "2025-07-21T07:38:11.771983Z",
     "iopub.status.idle": "2025-07-21T07:38:11.777311Z",
     "shell.execute_reply": "2025-07-21T07:38:11.776287Z"
    },
    "papermill": {
     "duration": 0.02983,
     "end_time": "2025-07-21T07:38:11.779166",
     "exception": false,
     "start_time": "2025-07-21T07:38:11.749336",
     "status": "completed"
    },
    "tags": []
   },
   "outputs": [],
   "source": [
    "# Conditional Coverage & looking at subgroups"
   ]
  },
  {
   "cell_type": "code",
   "execution_count": 47,
   "id": "027ae886-68dd-4141-96c7-805a5450e1ef",
   "metadata": {
    "execution": {
     "iopub.execute_input": "2025-07-21T07:38:11.825693Z",
     "iopub.status.busy": "2025-07-21T07:38:11.824980Z",
     "iopub.status.idle": "2025-07-21T07:38:12.095331Z",
     "shell.execute_reply": "2025-07-21T07:38:12.094080Z"
    },
    "papermill": {
     "duration": 0.295187,
     "end_time": "2025-07-21T07:38:12.097560",
     "exception": false,
     "start_time": "2025-07-21T07:38:11.802373",
     "status": "completed"
    },
    "tags": []
   },
   "outputs": [],
   "source": [
    "from fairness_multiverse.conformal import build_cp_groups\n",
    "\n",
    "cp_groups_df = build_cp_groups(pred_sets, y_true, X_test.index, org_test)\n",
    "#needs universe_id and setting"
   ]
  },
  {
   "cell_type": "code",
   "execution_count": 48,
   "id": "c3b92545-903e-4839-89af-0f057907d7d6",
   "metadata": {
    "execution": {
     "iopub.execute_input": "2025-07-21T07:38:12.139971Z",
     "iopub.status.busy": "2025-07-21T07:38:12.139569Z",
     "iopub.status.idle": "2025-07-21T07:38:13.463160Z",
     "shell.execute_reply": "2025-07-21T07:38:13.462022Z"
    },
    "papermill": {
     "duration": 1.343942,
     "end_time": "2025-07-21T07:38:13.465206",
     "exception": false,
     "start_time": "2025-07-21T07:38:12.121264",
     "status": "completed"
    },
    "tags": []
   },
   "outputs": [],
   "source": [
    "# Define covered = 1 if true_label is in the predicted set\n",
    "cp_groups_df['covered'] = cp_groups_df.apply(\n",
    "    lambda r: int(r['true_label'] in r['pred_set']),\n",
    "    axis=1\n",
    ")"
   ]
  },
  {
   "cell_type": "code",
   "execution_count": 49,
   "id": "338ff529-1a6b-4b87-a931-8e4788d52aad",
   "metadata": {
    "execution": {
     "iopub.execute_input": "2025-07-21T07:38:13.511843Z",
     "iopub.status.busy": "2025-07-21T07:38:13.510878Z",
     "iopub.status.idle": "2025-07-21T07:38:13.517382Z",
     "shell.execute_reply": "2025-07-21T07:38:13.516176Z"
    },
    "papermill": {
     "duration": 0.031968,
     "end_time": "2025-07-21T07:38:13.519542",
     "exception": false,
     "start_time": "2025-07-21T07:38:13.487574",
     "status": "completed"
    },
    "tags": []
   },
   "outputs": [],
   "source": [
    "#cp_groups_df"
   ]
  },
  {
   "cell_type": "code",
   "execution_count": 50,
   "id": "90032e27-66df-4540-9169-4e89cfbaa758",
   "metadata": {
    "execution": {
     "iopub.execute_input": "2025-07-21T07:38:13.566335Z",
     "iopub.status.busy": "2025-07-21T07:38:13.565681Z",
     "iopub.status.idle": "2025-07-21T07:38:13.578098Z",
     "shell.execute_reply": "2025-07-21T07:38:13.577117Z"
    },
    "papermill": {
     "duration": 0.036971,
     "end_time": "2025-07-21T07:38:13.579948",
     "exception": false,
     "start_time": "2025-07-21T07:38:13.542977",
     "status": "completed"
    },
    "tags": []
   },
   "outputs": [],
   "source": [
    "subgroups = ['frau1','nongerman','nongerman_male','nongerman_female']\n",
    "\n",
    "# Conditional coverage for subgroup==1\n",
    "cond_coverage = {\n",
    "    g: cp_groups_df.loc[cp_groups_df[g]==1, 'covered'].mean()\n",
    "    for g in subgroups\n",
    "}"
   ]
  },
  {
   "cell_type": "code",
   "execution_count": 51,
   "id": "1e348fb1-b9c3-45bc-ba23-f016827a7e0d",
   "metadata": {
    "execution": {
     "iopub.execute_input": "2025-07-21T07:38:13.624494Z",
     "iopub.status.busy": "2025-07-21T07:38:13.623788Z",
     "iopub.status.idle": "2025-07-21T07:38:13.631699Z",
     "shell.execute_reply": "2025-07-21T07:38:13.630651Z"
    },
    "papermill": {
     "duration": 0.033181,
     "end_time": "2025-07-21T07:38:13.633750",
     "exception": false,
     "start_time": "2025-07-21T07:38:13.600569",
     "status": "completed"
    },
    "tags": []
   },
   "outputs": [
    {
     "data": {
      "text/plain": [
       "{'frau1': 0.9153524733791616,\n",
       " 'nongerman': 0.9107393476674339,\n",
       " 'nongerman_male': 0.9256056921552733,\n",
       " 'nongerman_female': 0.886140089418778}"
      ]
     },
     "execution_count": 51,
     "metadata": {},
     "output_type": "execute_result"
    }
   ],
   "source": [
    "cond_coverage"
   ]
  },
  {
   "cell_type": "code",
   "execution_count": 52,
   "id": "f5093324-c3dd-4d63-bc4c-8d945e5c8bbb",
   "metadata": {
    "execution": {
     "iopub.execute_input": "2025-07-21T07:38:13.680482Z",
     "iopub.status.busy": "2025-07-21T07:38:13.679774Z",
     "iopub.status.idle": "2025-07-21T07:38:13.687531Z",
     "shell.execute_reply": "2025-07-21T07:38:13.686599Z"
    },
    "papermill": {
     "duration": 0.032747,
     "end_time": "2025-07-21T07:38:13.689218",
     "exception": false,
     "start_time": "2025-07-21T07:38:13.656471",
     "status": "completed"
    },
    "tags": []
   },
   "outputs": [],
   "source": [
    "for subgroup, cov in cond_coverage.items():\n",
    "    cp_metrics_df[f\"cov_{subgroup}\"] = cov"
   ]
  },
  {
   "cell_type": "code",
   "execution_count": 53,
   "id": "6e872e10-dbe5-49e8-b554-5030c98ff75d",
   "metadata": {
    "execution": {
     "iopub.execute_input": "2025-07-21T07:38:13.738918Z",
     "iopub.status.busy": "2025-07-21T07:38:13.738001Z",
     "iopub.status.idle": "2025-07-21T07:38:13.758613Z",
     "shell.execute_reply": "2025-07-21T07:38:13.757496Z"
    },
    "papermill": {
     "duration": 0.047738,
     "end_time": "2025-07-21T07:38:13.760947",
     "exception": false,
     "start_time": "2025-07-21T07:38:13.713209",
     "status": "completed"
    },
    "tags": []
   },
   "outputs": [
    {
     "data": {
      "text/html": [
       "<div>\n",
       "<style scoped>\n",
       "    .dataframe tbody tr th:only-of-type {\n",
       "        vertical-align: middle;\n",
       "    }\n",
       "\n",
       "    .dataframe tbody tr th {\n",
       "        vertical-align: top;\n",
       "    }\n",
       "\n",
       "    .dataframe thead th {\n",
       "        text-align: right;\n",
       "    }\n",
       "</style>\n",
       "<table border=\"1\" class=\"dataframe\">\n",
       "  <thead>\n",
       "    <tr style=\"text-align: right;\">\n",
       "      <th></th>\n",
       "      <th>universe_id</th>\n",
       "      <th>universe_model</th>\n",
       "      <th>universe_exclude_features</th>\n",
       "      <th>universe_exclude_subgroups</th>\n",
       "      <th>q_hat</th>\n",
       "      <th>coverage</th>\n",
       "      <th>avg_size</th>\n",
       "      <th>cov_frau1</th>\n",
       "      <th>cov_nongerman</th>\n",
       "      <th>cov_nongerman_male</th>\n",
       "      <th>cov_nongerman_female</th>\n",
       "    </tr>\n",
       "  </thead>\n",
       "  <tbody>\n",
       "    <tr>\n",
       "      <th>0</th>\n",
       "      <td>81ac7889fc07902c57957226865f24e5</td>\n",
       "      <td>rf</td>\n",
       "      <td>sex</td>\n",
       "      <td>keep-all</td>\n",
       "      <td>0.66</td>\n",
       "      <td>0.915795</td>\n",
       "      <td>1.149125</td>\n",
       "      <td>0.915352</td>\n",
       "      <td>0.910739</td>\n",
       "      <td>0.925606</td>\n",
       "      <td>0.88614</td>\n",
       "    </tr>\n",
       "  </tbody>\n",
       "</table>\n",
       "</div>"
      ],
      "text/plain": [
       "                        universe_id universe_model universe_exclude_features  \\\n",
       "0  81ac7889fc07902c57957226865f24e5             rf                       sex   \n",
       "\n",
       "  universe_exclude_subgroups  q_hat  coverage  avg_size  cov_frau1  \\\n",
       "0                   keep-all   0.66  0.915795  1.149125   0.915352   \n",
       "\n",
       "   cov_nongerman  cov_nongerman_male  cov_nongerman_female  \n",
       "0       0.910739            0.925606               0.88614  "
      ]
     },
     "execution_count": 53,
     "metadata": {},
     "output_type": "execute_result"
    }
   ],
   "source": [
    "cp_metrics_df"
   ]
  },
  {
   "cell_type": "markdown",
   "id": "33774451",
   "metadata": {
    "papermill": {
     "duration": 0.022455,
     "end_time": "2025-07-21T07:38:13.807094",
     "exception": false,
     "start_time": "2025-07-21T07:38:13.784639",
     "status": "completed"
    },
    "tags": []
   },
   "source": [
    "# (Fairness) Metrics"
   ]
  },
  {
   "cell_type": "code",
   "execution_count": 54,
   "id": "debc5d62",
   "metadata": {
    "execution": {
     "iopub.execute_input": "2025-07-21T07:38:13.854135Z",
     "iopub.status.busy": "2025-07-21T07:38:13.853607Z",
     "iopub.status.idle": "2025-07-21T07:38:13.877507Z",
     "shell.execute_reply": "2025-07-21T07:38:13.876503Z"
    },
    "papermill": {
     "duration": 0.049447,
     "end_time": "2025-07-21T07:38:13.879138",
     "exception": false,
     "start_time": "2025-07-21T07:38:13.829691",
     "status": "completed"
    },
    "tags": []
   },
   "outputs": [],
   "source": [
    "# do I need to include maxdeutsch1.missing?\n",
    "\n",
    "import numpy as np\n",
    "\n",
    "colname_to_bin = \"maxdeutsch1\"\n",
    "majority_value = org_train[colname_to_bin].mode()[0]\n",
    "\n",
    "org_test[\"majmin\"] = np.where(org_test[colname_to_bin] == majority_value, \"majority\", \"minority\")"
   ]
  },
  {
   "cell_type": "code",
   "execution_count": 55,
   "id": "06a50de5",
   "metadata": {
    "execution": {
     "iopub.execute_input": "2025-07-21T07:38:13.926773Z",
     "iopub.status.busy": "2025-07-21T07:38:13.925909Z",
     "iopub.status.idle": "2025-07-21T07:38:16.693661Z",
     "shell.execute_reply": "2025-07-21T07:38:16.692606Z"
    },
    "papermill": {
     "duration": 2.793502,
     "end_time": "2025-07-21T07:38:16.695551",
     "exception": false,
     "start_time": "2025-07-21T07:38:13.902049",
     "status": "completed"
    },
    "tags": []
   },
   "outputs": [],
   "source": [
    "example_universe = universe.copy()\n",
    "example_universe[\"cutoff\"] = example_universe[\"cutoff\"][0]\n",
    "example_universe[\"eval_fairness_grouping\"] = example_universe[\"eval_fairness_grouping\"][0]\n",
    "fairness_dict, metric_frame = universe_analysis.compute_metrics(\n",
    "    example_universe,\n",
    "    y_pred_prob=probs_test,\n",
    "    y_test=y_true,\n",
    "    org_test=org_test,\n",
    ")"
   ]
  },
  {
   "cell_type": "markdown",
   "id": "f95d4e02",
   "metadata": {
    "papermill": {
     "duration": 0.022178,
     "end_time": "2025-07-21T07:38:16.740784",
     "exception": false,
     "start_time": "2025-07-21T07:38:16.718606",
     "status": "completed"
    },
    "tags": []
   },
   "source": [
    "# Overall"
   ]
  },
  {
   "cell_type": "markdown",
   "id": "bdee4871",
   "metadata": {
    "papermill": {
     "duration": 0.021911,
     "end_time": "2025-07-21T07:38:16.785721",
     "exception": false,
     "start_time": "2025-07-21T07:38:16.763810",
     "status": "completed"
    },
    "tags": []
   },
   "source": [
    "Fairness\n",
    "Main fairness target: Equalized Odds. Seems to be a better fit than equal opportunity, since we're not only interested in Y = 1. Seems to be a better fit than demographic parity, since we also care about accuracy, not just equal distribution of preds.\n",
    "\n",
    "Pick column for computation of fairness metrics\n",
    "\n",
    "Performance\n",
    "Overall performance measures, most interesting in relation to the measures split by group below"
   ]
  },
  {
   "cell_type": "code",
   "execution_count": 56,
   "id": "c4e067c6",
   "metadata": {
    "execution": {
     "iopub.execute_input": "2025-07-21T07:38:16.831180Z",
     "iopub.status.busy": "2025-07-21T07:38:16.830477Z",
     "iopub.status.idle": "2025-07-21T07:38:16.839571Z",
     "shell.execute_reply": "2025-07-21T07:38:16.838522Z"
    },
    "papermill": {
     "duration": 0.033869,
     "end_time": "2025-07-21T07:38:16.841304",
     "exception": false,
     "start_time": "2025-07-21T07:38:16.807435",
     "status": "completed"
    },
    "tags": []
   },
   "outputs": [
    {
     "data": {
      "text/plain": [
       "accuracy                   0.195263\n",
       "balanced accuracy          0.531602\n",
       "f1                         0.238800\n",
       "precision                  0.135889\n",
       "false positive rate        0.920808\n",
       "false negative rate        0.015989\n",
       "selection rate             0.928915\n",
       "count                  89710.000000\n",
       "dtype: float64"
      ]
     },
     "execution_count": 56,
     "metadata": {},
     "output_type": "execute_result"
    }
   ],
   "source": [
    "metric_frame.overall"
   ]
  },
  {
   "cell_type": "markdown",
   "id": "e968fe9d",
   "metadata": {
    "papermill": {
     "duration": 0.020961,
     "end_time": "2025-07-21T07:38:16.883301",
     "exception": false,
     "start_time": "2025-07-21T07:38:16.862340",
     "status": "completed"
    },
    "tags": []
   },
   "source": [
    "By Group"
   ]
  },
  {
   "cell_type": "code",
   "execution_count": 57,
   "id": "ec325bce",
   "metadata": {
    "execution": {
     "iopub.execute_input": "2025-07-21T07:38:16.927109Z",
     "iopub.status.busy": "2025-07-21T07:38:16.926225Z",
     "iopub.status.idle": "2025-07-21T07:38:16.939436Z",
     "shell.execute_reply": "2025-07-21T07:38:16.938470Z"
    },
    "papermill": {
     "duration": 0.037386,
     "end_time": "2025-07-21T07:38:16.941068",
     "exception": false,
     "start_time": "2025-07-21T07:38:16.903682",
     "status": "completed"
    },
    "tags": []
   },
   "outputs": [
    {
     "data": {
      "text/html": [
       "<div>\n",
       "<style scoped>\n",
       "    .dataframe tbody tr th:only-of-type {\n",
       "        vertical-align: middle;\n",
       "    }\n",
       "\n",
       "    .dataframe tbody tr th {\n",
       "        vertical-align: top;\n",
       "    }\n",
       "\n",
       "    .dataframe thead th {\n",
       "        text-align: right;\n",
       "    }\n",
       "</style>\n",
       "<table border=\"1\" class=\"dataframe\">\n",
       "  <thead>\n",
       "    <tr style=\"text-align: right;\">\n",
       "      <th></th>\n",
       "      <th>accuracy</th>\n",
       "      <th>balanced accuracy</th>\n",
       "      <th>f1</th>\n",
       "      <th>precision</th>\n",
       "      <th>false positive rate</th>\n",
       "      <th>false negative rate</th>\n",
       "      <th>selection rate</th>\n",
       "      <th>count</th>\n",
       "    </tr>\n",
       "    <tr>\n",
       "      <th>majmin</th>\n",
       "      <th></th>\n",
       "      <th></th>\n",
       "      <th></th>\n",
       "      <th></th>\n",
       "      <th></th>\n",
       "      <th></th>\n",
       "      <th></th>\n",
       "      <th></th>\n",
       "    </tr>\n",
       "  </thead>\n",
       "  <tbody>\n",
       "    <tr>\n",
       "      <th>majority</th>\n",
       "      <td>0.189027</td>\n",
       "      <td>0.529343</td>\n",
       "      <td>0.244278</td>\n",
       "      <td>0.139290</td>\n",
       "      <td>0.933217</td>\n",
       "      <td>0.008096</td>\n",
       "      <td>0.940972</td>\n",
       "      <td>69170.0</td>\n",
       "    </tr>\n",
       "    <tr>\n",
       "      <th>minority</th>\n",
       "      <td>0.216261</td>\n",
       "      <td>0.536866</td>\n",
       "      <td>0.219074</td>\n",
       "      <td>0.123753</td>\n",
       "      <td>0.879815</td>\n",
       "      <td>0.046453</td>\n",
       "      <td>0.888315</td>\n",
       "      <td>20540.0</td>\n",
       "    </tr>\n",
       "  </tbody>\n",
       "</table>\n",
       "</div>"
      ],
      "text/plain": [
       "          accuracy  balanced accuracy        f1  precision  \\\n",
       "majmin                                                       \n",
       "majority  0.189027           0.529343  0.244278   0.139290   \n",
       "minority  0.216261           0.536866  0.219074   0.123753   \n",
       "\n",
       "          false positive rate  false negative rate  selection rate    count  \n",
       "majmin                                                                       \n",
       "majority             0.933217             0.008096        0.940972  69170.0  \n",
       "minority             0.879815             0.046453        0.888315  20540.0  "
      ]
     },
     "execution_count": 57,
     "metadata": {},
     "output_type": "execute_result"
    }
   ],
   "source": [
    "metric_frame.by_group"
   ]
  },
  {
   "cell_type": "code",
   "execution_count": 58,
   "id": "a9ddbe63",
   "metadata": {
    "execution": {
     "iopub.execute_input": "2025-07-21T07:38:16.967503Z",
     "iopub.status.busy": "2025-07-21T07:38:16.966795Z",
     "iopub.status.idle": "2025-07-21T07:38:18.712071Z",
     "shell.execute_reply": "2025-07-21T07:38:18.711197Z"
    },
    "papermill": {
     "duration": 1.759646,
     "end_time": "2025-07-21T07:38:18.713487",
     "exception": false,
     "start_time": "2025-07-21T07:38:16.953841",
     "status": "completed"
    },
    "tags": []
   },
   "outputs": [
    {
     "data": {
      "text/plain": [
       "array([[<Axes: title={'center': 'accuracy'}, xlabel='majmin'>,\n",
       "        <Axes: title={'center': 'balanced accuracy'}, xlabel='majmin'>,\n",
       "        <Axes: title={'center': 'f1'}, xlabel='majmin'>],\n",
       "       [<Axes: title={'center': 'precision'}, xlabel='majmin'>,\n",
       "        <Axes: title={'center': 'false positive rate'}, xlabel='majmin'>,\n",
       "        <Axes: title={'center': 'false negative rate'}, xlabel='majmin'>],\n",
       "       [<Axes: title={'center': 'selection rate'}, xlabel='majmin'>,\n",
       "        <Axes: title={'center': 'count'}, xlabel='majmin'>,\n",
       "        <Axes: xlabel='majmin'>]], dtype=object)"
      ]
     },
     "execution_count": 58,
     "metadata": {},
     "output_type": "execute_result"
    },
    {
     "data": {
      "image/png": "[encoded data removed]",
      "text/plain": [
       "<Figure size 1200x800 with 9 Axes>"
      ]
     },
     "metadata": {},
     "output_type": "display_data"
    }
   ],
   "source": [
    "# In a graphic\n",
    "metric_frame.by_group.plot.bar(\n",
    "    subplots=True,\n",
    "    layout=[3, 3],\n",
    "    legend=False,\n",
    "    figsize=[12, 8],\n",
    "    title=\"Show all metrics\",\n",
    ")"
   ]
  },
  {
   "cell_type": "markdown",
   "id": "f57a0bac",
   "metadata": {
    "papermill": {
     "duration": 0.012209,
     "end_time": "2025-07-21T07:38:18.738821",
     "exception": false,
     "start_time": "2025-07-21T07:38:18.726612",
     "status": "completed"
    },
    "tags": []
   },
   "source": [
    "# Final Output"
   ]
  },
  {
   "cell_type": "code",
   "execution_count": 59,
   "id": "96d280a3",
   "metadata": {
    "execution": {
     "iopub.execute_input": "2025-07-21T07:38:18.765335Z",
     "iopub.status.busy": "2025-07-21T07:38:18.764732Z",
     "iopub.status.idle": "2025-07-21T07:38:18.774245Z",
     "shell.execute_reply": "2025-07-21T07:38:18.773293Z"
    },
    "papermill": {
     "duration": 0.024542,
     "end_time": "2025-07-21T07:38:18.775807",
     "exception": false,
     "start_time": "2025-07-21T07:38:18.751265",
     "status": "completed"
    },
    "tags": []
   },
   "outputs": [
    {
     "data": {
      "text/plain": [
       "4"
      ]
     },
     "execution_count": 59,
     "metadata": {},
     "output_type": "execute_result"
    }
   ],
   "source": [
    "sub_universes = universe_analysis.generate_sub_universes()\n",
    "len(sub_universes)"
   ]
  },
  {
   "cell_type": "code",
   "execution_count": 60,
   "id": "92adf7ba",
   "metadata": {
    "execution": {
     "iopub.execute_input": "2025-07-21T07:38:18.828628Z",
     "iopub.status.busy": "2025-07-21T07:38:18.827926Z",
     "iopub.status.idle": "2025-07-21T07:38:18.834255Z",
     "shell.execute_reply": "2025-07-21T07:38:18.833200Z"
    },
    "papermill": {
     "duration": 0.034908,
     "end_time": "2025-07-21T07:38:18.835910",
     "exception": false,
     "start_time": "2025-07-21T07:38:18.801002",
     "status": "completed"
    },
    "tags": []
   },
   "outputs": [],
   "source": [
    "def filter_sub_universe_data(sub_universe, org_test):\n",
    "    # Keep all rows — no filtering\n",
    "    keep_rows_mask = np.ones(org_test.shape[0], dtype=bool)\n",
    "\n",
    "    print(f\"[INFO] Keeping all rows: {keep_rows_mask.sum()} rows retained.\")\n",
    "    return keep_rows_mask"
   ]
  },
  {
   "cell_type": "code",
   "execution_count": 61,
   "id": "4a759155",
   "metadata": {
    "execution": {
     "iopub.execute_input": "2025-07-21T07:38:18.884535Z",
     "iopub.status.busy": "2025-07-21T07:38:18.883563Z",
     "iopub.status.idle": "2025-07-21T07:38:28.797982Z",
     "shell.execute_reply": "2025-07-21T07:38:28.796913Z"
    },
    "papermill": {
     "duration": 9.939668,
     "end_time": "2025-07-21T07:38:28.799906",
     "exception": false,
     "start_time": "2025-07-21T07:38:18.860238",
     "status": "completed"
    },
    "tags": []
   },
   "outputs": [
    {
     "name": "stdout",
     "output_type": "stream",
     "text": [
      "Stopping execution_time clock.\n",
      "[INFO] Keeping all rows: 89710 rows retained.\n"
     ]
    },
    {
     "name": "stdout",
     "output_type": "stream",
     "text": [
      "[INFO] Keeping all rows: 89710 rows retained.\n"
     ]
    },
    {
     "name": "stdout",
     "output_type": "stream",
     "text": [
      "[INFO] Keeping all rows: 89710 rows retained.\n"
     ]
    },
    {
     "name": "stdout",
     "output_type": "stream",
     "text": [
      "[INFO] Keeping all rows: 89710 rows retained.\n"
     ]
    },
    {
     "data": {
      "text/html": [
       "<div>\n",
       "<style scoped>\n",
       "    .dataframe tbody tr th:only-of-type {\n",
       "        vertical-align: middle;\n",
       "    }\n",
       "\n",
       "    .dataframe tbody tr th {\n",
       "        vertical-align: top;\n",
       "    }\n",
       "\n",
       "    .dataframe thead th {\n",
       "        text-align: right;\n",
       "    }\n",
       "</style>\n",
       "<table border=\"1\" class=\"dataframe\">\n",
       "  <thead>\n",
       "    <tr style=\"text-align: right;\">\n",
       "      <th></th>\n",
       "      <th>run_no</th>\n",
       "      <th>universe_id</th>\n",
       "      <th>universe_settings</th>\n",
       "      <th>execution_time</th>\n",
       "      <th>test_size_n</th>\n",
       "      <th>test_size_frac</th>\n",
       "      <th>fair_main_equalized_odds_difference</th>\n",
       "      <th>fair_main_equalized_odds_ratio</th>\n",
       "      <th>fair_main_demographic_parity_difference</th>\n",
       "      <th>fair_main_demographic_parity_ratio</th>\n",
       "      <th>...</th>\n",
       "      <th>perf_grp_precision_0</th>\n",
       "      <th>perf_grp_precision_1</th>\n",
       "      <th>perf_grp_false positive rate_0</th>\n",
       "      <th>perf_grp_false positive rate_1</th>\n",
       "      <th>perf_grp_false negative rate_0</th>\n",
       "      <th>perf_grp_false negative rate_1</th>\n",
       "      <th>perf_grp_selection rate_0</th>\n",
       "      <th>perf_grp_selection rate_1</th>\n",
       "      <th>perf_grp_count_0</th>\n",
       "      <th>perf_grp_count_1</th>\n",
       "    </tr>\n",
       "  </thead>\n",
       "  <tbody>\n",
       "    <tr>\n",
       "      <th>0</th>\n",
       "      <td>2</td>\n",
       "      <td>81ac7889fc07902c57957226865f24e5</td>\n",
       "      <td>{\"cutoff\": \"quantile_0.1\", \"eval_fairness_grou...</td>\n",
       "      <td>44.514735</td>\n",
       "      <td>89710</td>\n",
       "      <td>1.0</td>\n",
       "      <td>0.053402</td>\n",
       "      <td>0.942777</td>\n",
       "      <td>0.052656</td>\n",
       "      <td>0.944041</td>\n",
       "      <td>...</td>\n",
       "      <td>NaN</td>\n",
       "      <td>NaN</td>\n",
       "      <td>NaN</td>\n",
       "      <td>NaN</td>\n",
       "      <td>NaN</td>\n",
       "      <td>NaN</td>\n",
       "      <td>NaN</td>\n",
       "      <td>NaN</td>\n",
       "      <td>NaN</td>\n",
       "      <td>NaN</td>\n",
       "    </tr>\n",
       "    <tr>\n",
       "      <th>0</th>\n",
       "      <td>2</td>\n",
       "      <td>81ac7889fc07902c57957226865f24e5</td>\n",
       "      <td>{\"cutoff\": \"quantile_0.1\", \"eval_fairness_grou...</td>\n",
       "      <td>44.514735</td>\n",
       "      <td>89710</td>\n",
       "      <td>1.0</td>\n",
       "      <td>0.053402</td>\n",
       "      <td>0.942777</td>\n",
       "      <td>0.052656</td>\n",
       "      <td>0.944041</td>\n",
       "      <td>...</td>\n",
       "      <td>0.123753</td>\n",
       "      <td>0.139290</td>\n",
       "      <td>0.879815</td>\n",
       "      <td>0.933217</td>\n",
       "      <td>0.046453</td>\n",
       "      <td>0.008096</td>\n",
       "      <td>0.888315</td>\n",
       "      <td>0.940972</td>\n",
       "      <td>20540.0</td>\n",
       "      <td>69170.0</td>\n",
       "    </tr>\n",
       "    <tr>\n",
       "      <th>0</th>\n",
       "      <td>2</td>\n",
       "      <td>81ac7889fc07902c57957226865f24e5</td>\n",
       "      <td>{\"cutoff\": \"quantile_0.25\", \"eval_fairness_gro...</td>\n",
       "      <td>44.514735</td>\n",
       "      <td>89710</td>\n",
       "      <td>1.0</td>\n",
       "      <td>0.077228</td>\n",
       "      <td>0.919752</td>\n",
       "      <td>0.059388</td>\n",
       "      <td>0.925574</td>\n",
       "      <td>...</td>\n",
       "      <td>NaN</td>\n",
       "      <td>NaN</td>\n",
       "      <td>NaN</td>\n",
       "      <td>NaN</td>\n",
       "      <td>NaN</td>\n",
       "      <td>NaN</td>\n",
       "      <td>NaN</td>\n",
       "      <td>NaN</td>\n",
       "      <td>NaN</td>\n",
       "      <td>NaN</td>\n",
       "    </tr>\n",
       "    <tr>\n",
       "      <th>0</th>\n",
       "      <td>2</td>\n",
       "      <td>81ac7889fc07902c57957226865f24e5</td>\n",
       "      <td>{\"cutoff\": \"quantile_0.25\", \"eval_fairness_gro...</td>\n",
       "      <td>44.514735</td>\n",
       "      <td>89710</td>\n",
       "      <td>1.0</td>\n",
       "      <td>0.077228</td>\n",
       "      <td>0.919752</td>\n",
       "      <td>0.059388</td>\n",
       "      <td>0.925574</td>\n",
       "      <td>...</td>\n",
       "      <td>0.138167</td>\n",
       "      <td>0.159365</td>\n",
       "      <td>0.719459</td>\n",
       "      <td>0.772914</td>\n",
       "      <td>0.114865</td>\n",
       "      <td>0.037637</td>\n",
       "      <td>0.738559</td>\n",
       "      <td>0.797947</td>\n",
       "      <td>20540.0</td>\n",
       "      <td>69170.0</td>\n",
       "    </tr>\n",
       "  </tbody>\n",
       "</table>\n",
       "<p>4 rows × 50 columns</p>\n",
       "</div>"
      ],
      "text/plain": [
       "  run_no                       universe_id  \\\n",
       "0      2  81ac7889fc07902c57957226865f24e5   \n",
       "0      2  81ac7889fc07902c57957226865f24e5   \n",
       "0      2  81ac7889fc07902c57957226865f24e5   \n",
       "0      2  81ac7889fc07902c57957226865f24e5   \n",
       "\n",
       "                                   universe_settings  execution_time  \\\n",
       "0  {\"cutoff\": \"quantile_0.1\", \"eval_fairness_grou...       44.514735   \n",
       "0  {\"cutoff\": \"quantile_0.1\", \"eval_fairness_grou...       44.514735   \n",
       "0  {\"cutoff\": \"quantile_0.25\", \"eval_fairness_gro...       44.514735   \n",
       "0  {\"cutoff\": \"quantile_0.25\", \"eval_fairness_gro...       44.514735   \n",
       "\n",
       "   test_size_n  test_size_frac  fair_main_equalized_odds_difference  \\\n",
       "0        89710             1.0                             0.053402   \n",
       "0        89710             1.0                             0.053402   \n",
       "0        89710             1.0                             0.077228   \n",
       "0        89710             1.0                             0.077228   \n",
       "\n",
       "   fair_main_equalized_odds_ratio  fair_main_demographic_parity_difference  \\\n",
       "0                        0.942777                                 0.052656   \n",
       "0                        0.942777                                 0.052656   \n",
       "0                        0.919752                                 0.059388   \n",
       "0                        0.919752                                 0.059388   \n",
       "\n",
       "   fair_main_demographic_parity_ratio  ...  perf_grp_precision_0  \\\n",
       "0                            0.944041  ...                   NaN   \n",
       "0                            0.944041  ...              0.123753   \n",
       "0                            0.925574  ...                   NaN   \n",
       "0                            0.925574  ...              0.138167   \n",
       "\n",
       "   perf_grp_precision_1  perf_grp_false positive rate_0  \\\n",
       "0                   NaN                             NaN   \n",
       "0              0.139290                        0.879815   \n",
       "0                   NaN                             NaN   \n",
       "0              0.159365                        0.719459   \n",
       "\n",
       "   perf_grp_false positive rate_1  perf_grp_false negative rate_0  \\\n",
       "0                             NaN                             NaN   \n",
       "0                        0.933217                        0.046453   \n",
       "0                             NaN                             NaN   \n",
       "0                        0.772914                        0.114865   \n",
       "\n",
       "   perf_grp_false negative rate_1  perf_grp_selection rate_0  \\\n",
       "0                             NaN                        NaN   \n",
       "0                        0.008096                   0.888315   \n",
       "0                             NaN                        NaN   \n",
       "0                        0.037637                   0.738559   \n",
       "\n",
       "   perf_grp_selection rate_1  perf_grp_count_0  perf_grp_count_1  \n",
       "0                        NaN               NaN               NaN  \n",
       "0                   0.940972           20540.0           69170.0  \n",
       "0                        NaN               NaN               NaN  \n",
       "0                   0.797947           20540.0           69170.0  \n",
       "\n",
       "[4 rows x 50 columns]"
      ]
     },
     "execution_count": 61,
     "metadata": {},
     "output_type": "execute_result"
    }
   ],
   "source": [
    "final_output = universe_analysis.generate_final_output(\n",
    "    y_pred_prob=probs_test,\n",
    "    y_test=y_true,\n",
    "    org_test=org_test,\n",
    "    filter_data=filter_sub_universe_data,\n",
    "    cp_metrics_df=cp_metrics_df,\n",
    "    save=True,\n",
    ")\n",
    "final_output"
   ]
  },
  {
   "cell_type": "code",
   "execution_count": null,
   "id": "721ff514-cb11-46f8-b6fc-50392f74b5cb",
   "metadata": {
    "papermill": {
     "duration": 0.029166,
     "end_time": "2025-07-21T07:38:28.857557",
     "exception": false,
     "start_time": "2025-07-21T07:38:28.828391",
     "status": "completed"
    },
    "tags": []
   },
   "outputs": [],
   "source": []
  }
 ],
 "metadata": {
  "celltoolbar": "Tags",
  "kernelspec": {
   "display_name": "Python (CMA Fairness)",
   "language": "python",
   "name": "cma_fair_env"
  },
  "language_info": {
   "codemirror_mode": {
    "name": "ipython",
    "version": 3
   },
   "file_extension": ".py",
   "mimetype": "text/x-python",
   "name": "python",
   "nbconvert_exporter": "python",
   "pygments_lexer": "ipython3",
   "version": "3.10.12"
  },
  "papermill": {
   "default_parameters": {},
   "duration": 58.878185,
   "end_time": "2025-07-21T07:38:29.706066",
   "environment_variables": {},
   "exception": null,
   "input_path": "universe_analysis.ipynb",
   "output_path": "output/runs/2/notebooks/m_2-81ac7889fc07902c57957226865f24e5.ipynb",
   "parameters": {
    "output_dir": "output",
    "run_no": "2",
    "seed": "2023",
    "universe": "{\"cutoff\": [\"quantile_0.1\", \"quantile_0.25\"], \"eval_fairness_grouping\": [\"majority-minority\", \"nationality-all\"], \"exclude_features\": \"sex\", \"exclude_subgroups\": \"keep-all\", \"model\": \"rf\"}",
    "universe_id": "81ac7889fc07902c57957226865f24e5"
   },
   "start_time": "2025-07-21T07:37:30.827881",
   "version": "2.6.0"
  }
 },
 "nbformat": 4,
 "nbformat_minor": 5
}