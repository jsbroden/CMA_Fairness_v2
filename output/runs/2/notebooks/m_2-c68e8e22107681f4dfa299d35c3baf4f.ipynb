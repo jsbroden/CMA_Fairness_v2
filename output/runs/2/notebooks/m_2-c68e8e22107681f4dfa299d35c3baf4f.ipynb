{
 "cells": [
  {
   "cell_type": "markdown",
   "id": "b2057076-3a91-4cfa-9bfd-eab1e61b3068",
   "metadata": {
    "papermill": {
     "duration": 0.02306,
     "end_time": "2025-08-19T17:02:06.568529",
     "exception": false,
     "start_time": "2025-08-19T17:02:06.545469",
     "status": "completed"
    },
    "tags": []
   },
   "source": [
    "# Setup"
   ]
  },
  {
   "cell_type": "code",
   "execution_count": 1,
   "id": "f159f837-637b-42ba-96b5-ec9a68c44524",
   "metadata": {
    "execution": {
     "iopub.execute_input": "2025-08-19T17:02:06.593805Z",
     "iopub.status.busy": "2025-08-19T17:02:06.592393Z",
     "iopub.status.idle": "2025-08-19T17:02:06.612064Z",
     "shell.execute_reply": "2025-08-19T17:02:06.611077Z"
    },
    "papermill": {
     "duration": 0.032783,
     "end_time": "2025-08-19T17:02:06.613796",
     "exception": false,
     "start_time": "2025-08-19T17:02:06.581013",
     "status": "completed"
    },
    "tags": []
   },
   "outputs": [
    {
     "name": "stdout",
     "output_type": "stream",
     "text": [
      "/dss/dsshome1/0C/ra93lal2/cma/CMA_Fairness_v2\n"
     ]
    },
    {
     "name": "stderr",
     "output_type": "stream",
     "text": [
      "/dss/dsshome1/0C/ra93lal2/.local/share/virtualenvs/CMA_Fairness_v2-3j10GkSs/lib/python3.10/site-packages/IPython/core/magics/osm.py:393: UserWarning: This is now an optional IPython functionality, using bookmarks requires you to install the `pickleshare` library.\n",
      "  bkms = self.shell.db.get('bookmarks', {})\n",
      "/dss/dsshome1/0C/ra93lal2/.local/share/virtualenvs/CMA_Fairness_v2-3j10GkSs/lib/python3.10/site-packages/IPython/core/magics/osm.py:417: UserWarning: This is now an optional IPython functionality, setting dhist requires you to install the `pickleshare` library.\n",
      "  self.shell.db['dhist'] = compress_dhist(dhist)[-100:]\n"
     ]
    }
   ],
   "source": [
    "%cd ~/cma/CMA_Fairness_v2"
   ]
  },
  {
   "cell_type": "markdown",
   "id": "de2603b9",
   "metadata": {
    "papermill": {
     "duration": 0.009777,
     "end_time": "2025-08-19T17:02:06.638399",
     "exception": false,
     "start_time": "2025-08-19T17:02:06.628622",
     "status": "completed"
    },
    "tags": []
   },
   "source": [
    "The following cell holds the definition of our parameters, these values can be overriden by rendering the with e.g. the following command:\n",
    "\n",
    "papermill -p alpha 0.2 -p ratio 0.3 universe_analysis.ipynb output/test_run.ipynb"
   ]
  },
  {
   "cell_type": "code",
   "execution_count": 2,
   "id": "a80968a0-40bb-4fa9-85ef-2d5eefb01975",
   "metadata": {
    "execution": {
     "iopub.execute_input": "2025-08-19T17:02:06.660684Z",
     "iopub.status.busy": "2025-08-19T17:02:06.659304Z",
     "iopub.status.idle": "2025-08-19T17:02:06.668870Z",
     "shell.execute_reply": "2025-08-19T17:02:06.667102Z"
    },
    "papermill": {
     "duration": 0.023355,
     "end_time": "2025-08-19T17:02:06.670721",
     "exception": false,
     "start_time": "2025-08-19T17:02:06.647366",
     "status": "completed"
    },
    "tags": []
   },
   "outputs": [
    {
     "name": "stdout",
     "output_type": "stream",
     "text": [
      "Current working directory: /dss/dsshome1/0C/ra93lal2/cma/CMA_Fairness_v2\n"
     ]
    }
   ],
   "source": [
    "import os\n",
    "print(\"Current working directory:\", os.getcwd())"
   ]
  },
  {
   "cell_type": "code",
   "execution_count": 3,
   "id": "2dce4c03",
   "metadata": {
    "execution": {
     "iopub.execute_input": "2025-08-19T17:02:06.696278Z",
     "iopub.status.busy": "2025-08-19T17:02:06.694717Z",
     "iopub.status.idle": "2025-08-19T17:02:06.705061Z",
     "shell.execute_reply": "2025-08-19T17:02:06.703462Z"
    },
    "papermill": {
     "duration": 0.023346,
     "end_time": "2025-08-19T17:02:06.706939",
     "exception": false,
     "start_time": "2025-08-19T17:02:06.683593",
     "status": "completed"
    },
    "tags": [
     "parameters"
    ]
   },
   "outputs": [],
   "source": [
    "run_no = 0\n",
    "universe_id = \"test\"\n",
    "universe = {\n",
    "    \"training_size\": \"5k\", # \"25k\", \"5k\", \"1k\"\n",
    "    \"training_year\": \"2012_14\", # \"2014\", \"2012_14\", \"2010_14\"\n",
    "    \"scale\": \"scale\", # \"scale\", \"do-not-scale\",\n",
    "    \"model\": \"elasticnet\", # \"logreg\", \"penalized_logreg\", \"rf\", \"gbm\", \"elasticnet\"\n",
    "    \"cutoff\": [\"quantile_0.15\", \"quantile_0.30\"],\n",
    "    \"exclude_features\": \"age\", # \"none\", \"nationality\", \"sex\", \"nationality-sex\", \"age\"\n",
    "    \"exclude_subgroups\": \"drop-non-german\", # \"keep-all\", \"drop-non-german\"\n",
    "    \"eval_fairness_grouping\": [\"majority-minority\", \"nationality-all\"]\n",
    "}\n",
    "\n",
    "output_dir=\"./output\"\n",
    "seed=0"
   ]
  },
  {
   "cell_type": "code",
   "execution_count": 4,
   "id": "5be277ea",
   "metadata": {
    "execution": {
     "iopub.execute_input": "2025-08-19T17:02:06.735294Z",
     "iopub.status.busy": "2025-08-19T17:02:06.733996Z",
     "iopub.status.idle": "2025-08-19T17:02:06.742445Z",
     "shell.execute_reply": "2025-08-19T17:02:06.740945Z"
    },
    "papermill": {
     "duration": 0.022356,
     "end_time": "2025-08-19T17:02:06.744208",
     "exception": false,
     "start_time": "2025-08-19T17:02:06.721852",
     "status": "completed"
    },
    "tags": [
     "injected-parameters"
    ]
   },
   "outputs": [],
   "source": [
    "# Parameters\n",
    "universe_id = \"c68e8e22107681f4dfa299d35c3baf4f\"\n",
    "run_no = \"2\"\n",
    "universe = \"{\\\"cutoff\\\": [\\\"quantile_0.1\\\", \\\"quantile_0.25\\\"], \\\"eval_fairness_grouping\\\": [\\\"majority-minority\\\", \\\"nationality-all\\\"], \\\"exclude_features\\\": \\\"nationality-sex\\\", \\\"exclude_subgroups\\\": \\\"drop-non-german\\\", \\\"model\\\": \\\"penalized_logreg\\\", \\\"scale\\\": \\\"do-not-scale\\\", \\\"training_size\\\": \\\"25k\\\", \\\"training_year\\\": \\\"2014\\\"}\"\n",
    "output_dir = \"output\"\n",
    "seed = \"2023\"\n"
   ]
  },
  {
   "cell_type": "code",
   "execution_count": 5,
   "id": "1650acaf",
   "metadata": {
    "execution": {
     "iopub.execute_input": "2025-08-19T17:02:06.770056Z",
     "iopub.status.busy": "2025-08-19T17:02:06.768734Z",
     "iopub.status.idle": "2025-08-19T17:02:06.777114Z",
     "shell.execute_reply": "2025-08-19T17:02:06.775330Z"
    },
    "papermill": {
     "duration": 0.022213,
     "end_time": "2025-08-19T17:02:06.778848",
     "exception": false,
     "start_time": "2025-08-19T17:02:06.756635",
     "status": "completed"
    },
    "tags": []
   },
   "outputs": [],
   "source": [
    "import json\n",
    "if isinstance(universe, str):\n",
    "    universe = json.loads(universe)"
   ]
  },
  {
   "cell_type": "code",
   "execution_count": 6,
   "id": "16620c48",
   "metadata": {
    "execution": {
     "iopub.execute_input": "2025-08-19T17:02:06.803330Z",
     "iopub.status.busy": "2025-08-19T17:02:06.802129Z",
     "iopub.status.idle": "2025-08-19T17:02:06.856214Z",
     "shell.execute_reply": "2025-08-19T17:02:06.855282Z"
    },
    "papermill": {
     "duration": 0.067173,
     "end_time": "2025-08-19T17:02:06.858211",
     "exception": false,
     "start_time": "2025-08-19T17:02:06.791038",
     "status": "completed"
    },
    "tags": []
   },
   "outputs": [],
   "source": [
    "# Auto-reload the custom package\n",
    "%load_ext autoreload\n",
    "%autoreload 1\n",
    "%aimport fairness_multiverse"
   ]
  },
  {
   "cell_type": "code",
   "execution_count": 7,
   "id": "01c5c9f3",
   "metadata": {
    "execution": {
     "iopub.execute_input": "2025-08-19T17:02:06.890867Z",
     "iopub.status.busy": "2025-08-19T17:02:06.890322Z",
     "iopub.status.idle": "2025-08-19T17:02:08.507463Z",
     "shell.execute_reply": "2025-08-19T17:02:08.505363Z"
    },
    "papermill": {
     "duration": 1.635021,
     "end_time": "2025-08-19T17:02:08.509861",
     "exception": false,
     "start_time": "2025-08-19T17:02:06.874840",
     "status": "completed"
    },
    "tags": []
   },
   "outputs": [],
   "source": [
    "from fairness_multiverse.universe import UniverseAnalysis\n",
    "\n",
    "universe_analysis = UniverseAnalysis(\n",
    "    run_no = run_no,\n",
    "    universe_id = universe_id,\n",
    "    universe = universe,\n",
    "    output_dir=output_dir,\n",
    ")"
   ]
  },
  {
   "cell_type": "code",
   "execution_count": 8,
   "id": "106241f5",
   "metadata": {
    "execution": {
     "iopub.execute_input": "2025-08-19T17:02:08.531945Z",
     "iopub.status.busy": "2025-08-19T17:02:08.531296Z",
     "iopub.status.idle": "2025-08-19T17:02:08.538518Z",
     "shell.execute_reply": "2025-08-19T17:02:08.537679Z"
    },
    "papermill": {
     "duration": 0.02145,
     "end_time": "2025-08-19T17:02:08.541593",
     "exception": false,
     "start_time": "2025-08-19T17:02:08.520143",
     "status": "completed"
    },
    "tags": []
   },
   "outputs": [
    {
     "name": "stdout",
     "output_type": "stream",
     "text": [
      "Using Seed: 2023\n"
     ]
    }
   ],
   "source": [
    "import numpy as np\n",
    "parsed_seed = int(seed)\n",
    "np.random.seed(parsed_seed)\n",
    "print(f\"Using Seed: {parsed_seed}\")"
   ]
  },
  {
   "cell_type": "markdown",
   "id": "e0ebdc57",
   "metadata": {
    "papermill": {
     "duration": 0.009668,
     "end_time": "2025-08-19T17:02:08.561983",
     "exception": false,
     "start_time": "2025-08-19T17:02:08.552315",
     "status": "completed"
    },
    "tags": []
   },
   "source": [
    "# Loading Data"
   ]
  },
  {
   "cell_type": "code",
   "execution_count": 9,
   "id": "f0496b8a",
   "metadata": {
    "execution": {
     "iopub.execute_input": "2025-08-19T17:02:08.584252Z",
     "iopub.status.busy": "2025-08-19T17:02:08.583120Z",
     "iopub.status.idle": "2025-08-19T17:02:19.700754Z",
     "shell.execute_reply": "2025-08-19T17:02:19.699220Z"
    },
    "papermill": {
     "duration": 11.130588,
     "end_time": "2025-08-19T17:02:19.702166",
     "exception": false,
     "start_time": "2025-08-19T17:02:08.571578",
     "status": "completed"
    },
    "tags": []
   },
   "outputs": [
    {
     "name": "stdout",
     "output_type": "stream",
     "text": [
      "Loading SIAB data from cache: data/siab_cached.csv.gz\n"
     ]
    },
    {
     "name": "stdout",
     "output_type": "stream",
     "text": [
      "(643690, 164)\n"
     ]
    }
   ],
   "source": [
    "from pathlib import Path\n",
    "import pandas as pd\n",
    "\n",
    "# File paths\n",
    "raw_file = Path(\"data/raw/siab.csv\")\n",
    "cache_file = Path(\"data/siab_cached.csv.gz\")\n",
    "\n",
    "# Ensure cache directory exists\n",
    "cache_file.parent.mkdir(parents=True, exist_ok=True)\n",
    "\n",
    "# Load with simple caching\n",
    "if cache_file.exists():\n",
    "    print(f\"Loading SIAB data from cache: {cache_file}\")\n",
    "    siab = pd.read_csv(cache_file, compression='gzip')\n",
    "else:\n",
    "    print(f\"Cache not found. Reading raw SIAB data: {raw_file}\")\n",
    "    siab = pd.read_csv(raw_file)\n",
    "    siab.to_csv(cache_file, index=False, compression='gzip')\n",
    "    print(f\"Cached SIAB data to: {cache_file}\")\n",
    "\n",
    "print(siab.shape)"
   ]
  },
  {
   "cell_type": "code",
   "execution_count": 10,
   "id": "db0ca512-5f53-4dba-abdb-a2888bca41ba",
   "metadata": {
    "execution": {
     "iopub.execute_input": "2025-08-19T17:02:19.736918Z",
     "iopub.status.busy": "2025-08-19T17:02:19.736290Z",
     "iopub.status.idle": "2025-08-19T17:02:19.862817Z",
     "shell.execute_reply": "2025-08-19T17:02:19.861937Z"
    },
    "papermill": {
     "duration": 0.144652,
     "end_time": "2025-08-19T17:02:19.864196",
     "exception": false,
     "start_time": "2025-08-19T17:02:19.719544",
     "status": "completed"
    },
    "tags": []
   },
   "outputs": [
    {
     "data": {
      "text/html": [
       "<div>\n",
       "<style scoped>\n",
       "    .dataframe tbody tr th:only-of-type {\n",
       "        vertical-align: middle;\n",
       "    }\n",
       "\n",
       "    .dataframe tbody tr th {\n",
       "        vertical-align: top;\n",
       "    }\n",
       "\n",
       "    .dataframe thead th {\n",
       "        text-align: right;\n",
       "    }\n",
       "</style>\n",
       "<table border=\"1\" class=\"dataframe\">\n",
       "  <thead>\n",
       "    <tr style=\"text-align: right;\">\n",
       "      <th></th>\n",
       "      <th>persnr</th>\n",
       "      <th>year</th>\n",
       "      <th>nrEntry</th>\n",
       "      <th>ltue</th>\n",
       "      <th>employed_before</th>\n",
       "      <th>receipt_leh_before</th>\n",
       "      <th>receipt_lhg_before</th>\n",
       "      <th>se_before</th>\n",
       "      <th>ASU_notue_seeking_before</th>\n",
       "      <th>ASU_other_before</th>\n",
       "      <th>...</th>\n",
       "      <th>minijob_tot_dur_byage</th>\n",
       "      <th>ft_tot_dur_byage</th>\n",
       "      <th>befrist_tot_dur_byage</th>\n",
       "      <th>leih_tot_dur_byage</th>\n",
       "      <th>LHG_tot_dur_byage</th>\n",
       "      <th>LEH_tot_dur_byage</th>\n",
       "      <th>almp_tot_dur_byage</th>\n",
       "      <th>almp_aw_tot_dur_byage</th>\n",
       "      <th>se_tot_dur_byage</th>\n",
       "      <th>seeking1_tot_dur_byage</th>\n",
       "    </tr>\n",
       "  </thead>\n",
       "  <tbody>\n",
       "    <tr>\n",
       "      <th>0</th>\n",
       "      <td>7</td>\n",
       "      <td>2015</td>\n",
       "      <td>1</td>\n",
       "      <td>0</td>\n",
       "      <td>1</td>\n",
       "      <td>0</td>\n",
       "      <td>0</td>\n",
       "      <td>0</td>\n",
       "      <td>1</td>\n",
       "      <td>0</td>\n",
       "      <td>...</td>\n",
       "      <td>0.000000</td>\n",
       "      <td>0.000000</td>\n",
       "      <td>15.043478</td>\n",
       "      <td>0.000000</td>\n",
       "      <td>0.000000</td>\n",
       "      <td>0.000000</td>\n",
       "      <td>0.000000</td>\n",
       "      <td>0.000000</td>\n",
       "      <td>0.000000</td>\n",
       "      <td>0.000000</td>\n",
       "    </tr>\n",
       "    <tr>\n",
       "      <th>1</th>\n",
       "      <td>18</td>\n",
       "      <td>2010</td>\n",
       "      <td>1</td>\n",
       "      <td>1</td>\n",
       "      <td>0</td>\n",
       "      <td>0</td>\n",
       "      <td>0</td>\n",
       "      <td>0</td>\n",
       "      <td>0</td>\n",
       "      <td>0</td>\n",
       "      <td>...</td>\n",
       "      <td>0.000000</td>\n",
       "      <td>0.000000</td>\n",
       "      <td>0.000000</td>\n",
       "      <td>0.000000</td>\n",
       "      <td>0.000000</td>\n",
       "      <td>0.000000</td>\n",
       "      <td>0.000000</td>\n",
       "      <td>0.000000</td>\n",
       "      <td>0.000000</td>\n",
       "      <td>0.000000</td>\n",
       "    </tr>\n",
       "    <tr>\n",
       "      <th>2</th>\n",
       "      <td>18</td>\n",
       "      <td>2011</td>\n",
       "      <td>2</td>\n",
       "      <td>0</td>\n",
       "      <td>1</td>\n",
       "      <td>0</td>\n",
       "      <td>1</td>\n",
       "      <td>0</td>\n",
       "      <td>1</td>\n",
       "      <td>0</td>\n",
       "      <td>...</td>\n",
       "      <td>2.714286</td>\n",
       "      <td>2.714286</td>\n",
       "      <td>0.000000</td>\n",
       "      <td>0.000000</td>\n",
       "      <td>10.775510</td>\n",
       "      <td>0.000000</td>\n",
       "      <td>8.367347</td>\n",
       "      <td>0.000000</td>\n",
       "      <td>0.000000</td>\n",
       "      <td>9.836735</td>\n",
       "    </tr>\n",
       "    <tr>\n",
       "      <th>3</th>\n",
       "      <td>18</td>\n",
       "      <td>2012</td>\n",
       "      <td>3</td>\n",
       "      <td>0</td>\n",
       "      <td>1</td>\n",
       "      <td>0</td>\n",
       "      <td>1</td>\n",
       "      <td>0</td>\n",
       "      <td>1</td>\n",
       "      <td>0</td>\n",
       "      <td>...</td>\n",
       "      <td>4.200000</td>\n",
       "      <td>4.200000</td>\n",
       "      <td>0.000000</td>\n",
       "      <td>0.000000</td>\n",
       "      <td>12.100000</td>\n",
       "      <td>0.000000</td>\n",
       "      <td>9.400000</td>\n",
       "      <td>0.000000</td>\n",
       "      <td>0.000000</td>\n",
       "      <td>9.960000</td>\n",
       "    </tr>\n",
       "    <tr>\n",
       "      <th>4</th>\n",
       "      <td>18</td>\n",
       "      <td>2012</td>\n",
       "      <td>4</td>\n",
       "      <td>0</td>\n",
       "      <td>1</td>\n",
       "      <td>0</td>\n",
       "      <td>1</td>\n",
       "      <td>0</td>\n",
       "      <td>1</td>\n",
       "      <td>0</td>\n",
       "      <td>...</td>\n",
       "      <td>5.460000</td>\n",
       "      <td>5.460000</td>\n",
       "      <td>0.000000</td>\n",
       "      <td>0.000000</td>\n",
       "      <td>13.360000</td>\n",
       "      <td>0.000000</td>\n",
       "      <td>10.320000</td>\n",
       "      <td>0.000000</td>\n",
       "      <td>0.000000</td>\n",
       "      <td>10.280000</td>\n",
       "    </tr>\n",
       "    <tr>\n",
       "      <th>...</th>\n",
       "      <td>...</td>\n",
       "      <td>...</td>\n",
       "      <td>...</td>\n",
       "      <td>...</td>\n",
       "      <td>...</td>\n",
       "      <td>...</td>\n",
       "      <td>...</td>\n",
       "      <td>...</td>\n",
       "      <td>...</td>\n",
       "      <td>...</td>\n",
       "      <td>...</td>\n",
       "      <td>...</td>\n",
       "      <td>...</td>\n",
       "      <td>...</td>\n",
       "      <td>...</td>\n",
       "      <td>...</td>\n",
       "      <td>...</td>\n",
       "      <td>...</td>\n",
       "      <td>...</td>\n",
       "      <td>...</td>\n",
       "      <td>...</td>\n",
       "    </tr>\n",
       "    <tr>\n",
       "      <th>643685</th>\n",
       "      <td>1827860</td>\n",
       "      <td>2013</td>\n",
       "      <td>1</td>\n",
       "      <td>0</td>\n",
       "      <td>0</td>\n",
       "      <td>0</td>\n",
       "      <td>1</td>\n",
       "      <td>0</td>\n",
       "      <td>0</td>\n",
       "      <td>1</td>\n",
       "      <td>...</td>\n",
       "      <td>0.000000</td>\n",
       "      <td>0.000000</td>\n",
       "      <td>0.000000</td>\n",
       "      <td>0.000000</td>\n",
       "      <td>0.612903</td>\n",
       "      <td>0.000000</td>\n",
       "      <td>0.000000</td>\n",
       "      <td>0.000000</td>\n",
       "      <td>0.000000</td>\n",
       "      <td>0.000000</td>\n",
       "    </tr>\n",
       "    <tr>\n",
       "      <th>643686</th>\n",
       "      <td>1827860</td>\n",
       "      <td>2015</td>\n",
       "      <td>2</td>\n",
       "      <td>1</td>\n",
       "      <td>0</td>\n",
       "      <td>0</td>\n",
       "      <td>1</td>\n",
       "      <td>0</td>\n",
       "      <td>1</td>\n",
       "      <td>0</td>\n",
       "      <td>...</td>\n",
       "      <td>0.000000</td>\n",
       "      <td>0.000000</td>\n",
       "      <td>0.212121</td>\n",
       "      <td>0.212121</td>\n",
       "      <td>17.363636</td>\n",
       "      <td>0.000000</td>\n",
       "      <td>8.909091</td>\n",
       "      <td>0.000000</td>\n",
       "      <td>0.000000</td>\n",
       "      <td>7.121212</td>\n",
       "    </tr>\n",
       "    <tr>\n",
       "      <th>643687</th>\n",
       "      <td>1827860</td>\n",
       "      <td>2016</td>\n",
       "      <td>3</td>\n",
       "      <td>1</td>\n",
       "      <td>0</td>\n",
       "      <td>0</td>\n",
       "      <td>1</td>\n",
       "      <td>1</td>\n",
       "      <td>0</td>\n",
       "      <td>1</td>\n",
       "      <td>...</td>\n",
       "      <td>0.000000</td>\n",
       "      <td>0.000000</td>\n",
       "      <td>0.294118</td>\n",
       "      <td>0.205882</td>\n",
       "      <td>34.705882</td>\n",
       "      <td>0.000000</td>\n",
       "      <td>10.352941</td>\n",
       "      <td>1.705882</td>\n",
       "      <td>1.705882</td>\n",
       "      <td>23.911765</td>\n",
       "    </tr>\n",
       "    <tr>\n",
       "      <th>643688</th>\n",
       "      <td>1827869</td>\n",
       "      <td>2013</td>\n",
       "      <td>1</td>\n",
       "      <td>1</td>\n",
       "      <td>1</td>\n",
       "      <td>0</td>\n",
       "      <td>0</td>\n",
       "      <td>0</td>\n",
       "      <td>1</td>\n",
       "      <td>0</td>\n",
       "      <td>...</td>\n",
       "      <td>0.000000</td>\n",
       "      <td>0.000000</td>\n",
       "      <td>0.000000</td>\n",
       "      <td>0.000000</td>\n",
       "      <td>0.000000</td>\n",
       "      <td>0.525424</td>\n",
       "      <td>0.000000</td>\n",
       "      <td>0.000000</td>\n",
       "      <td>0.000000</td>\n",
       "      <td>0.000000</td>\n",
       "    </tr>\n",
       "    <tr>\n",
       "      <th>643689</th>\n",
       "      <td>1827869</td>\n",
       "      <td>2014</td>\n",
       "      <td>2</td>\n",
       "      <td>0</td>\n",
       "      <td>0</td>\n",
       "      <td>1</td>\n",
       "      <td>0</td>\n",
       "      <td>0</td>\n",
       "      <td>1</td>\n",
       "      <td>0</td>\n",
       "      <td>...</td>\n",
       "      <td>0.000000</td>\n",
       "      <td>0.666667</td>\n",
       "      <td>0.666667</td>\n",
       "      <td>0.000000</td>\n",
       "      <td>0.000000</td>\n",
       "      <td>8.950000</td>\n",
       "      <td>1.033333</td>\n",
       "      <td>0.083333</td>\n",
       "      <td>0.083333</td>\n",
       "      <td>8.133333</td>\n",
       "    </tr>\n",
       "  </tbody>\n",
       "</table>\n",
       "<p>643690 rows × 164 columns</p>\n",
       "</div>"
      ],
      "text/plain": [
       "         persnr  year  nrEntry  ltue  employed_before  receipt_leh_before  \\\n",
       "0             7  2015        1     0                1                   0   \n",
       "1            18  2010        1     1                0                   0   \n",
       "2            18  2011        2     0                1                   0   \n",
       "3            18  2012        3     0                1                   0   \n",
       "4            18  2012        4     0                1                   0   \n",
       "...         ...   ...      ...   ...              ...                 ...   \n",
       "643685  1827860  2013        1     0                0                   0   \n",
       "643686  1827860  2015        2     1                0                   0   \n",
       "643687  1827860  2016        3     1                0                   0   \n",
       "643688  1827869  2013        1     1                1                   0   \n",
       "643689  1827869  2014        2     0                0                   1   \n",
       "\n",
       "        receipt_lhg_before  se_before  ASU_notue_seeking_before  \\\n",
       "0                        0          0                         1   \n",
       "1                        0          0                         0   \n",
       "2                        1          0                         1   \n",
       "3                        1          0                         1   \n",
       "4                        1          0                         1   \n",
       "...                    ...        ...                       ...   \n",
       "643685                   1          0                         0   \n",
       "643686                   1          0                         1   \n",
       "643687                   1          1                         0   \n",
       "643688                   0          0                         1   \n",
       "643689                   0          0                         1   \n",
       "\n",
       "        ASU_other_before  ...  minijob_tot_dur_byage  ft_tot_dur_byage  \\\n",
       "0                      0  ...               0.000000          0.000000   \n",
       "1                      0  ...               0.000000          0.000000   \n",
       "2                      0  ...               2.714286          2.714286   \n",
       "3                      0  ...               4.200000          4.200000   \n",
       "4                      0  ...               5.460000          5.460000   \n",
       "...                  ...  ...                    ...               ...   \n",
       "643685                 1  ...               0.000000          0.000000   \n",
       "643686                 0  ...               0.000000          0.000000   \n",
       "643687                 1  ...               0.000000          0.000000   \n",
       "643688                 0  ...               0.000000          0.000000   \n",
       "643689                 0  ...               0.000000          0.666667   \n",
       "\n",
       "        befrist_tot_dur_byage  leih_tot_dur_byage  LHG_tot_dur_byage  \\\n",
       "0                   15.043478            0.000000           0.000000   \n",
       "1                    0.000000            0.000000           0.000000   \n",
       "2                    0.000000            0.000000          10.775510   \n",
       "3                    0.000000            0.000000          12.100000   \n",
       "4                    0.000000            0.000000          13.360000   \n",
       "...                       ...                 ...                ...   \n",
       "643685               0.000000            0.000000           0.612903   \n",
       "643686               0.212121            0.212121          17.363636   \n",
       "643687               0.294118            0.205882          34.705882   \n",
       "643688               0.000000            0.000000           0.000000   \n",
       "643689               0.666667            0.000000           0.000000   \n",
       "\n",
       "        LEH_tot_dur_byage  almp_tot_dur_byage  almp_aw_tot_dur_byage  \\\n",
       "0                0.000000            0.000000               0.000000   \n",
       "1                0.000000            0.000000               0.000000   \n",
       "2                0.000000            8.367347               0.000000   \n",
       "3                0.000000            9.400000               0.000000   \n",
       "4                0.000000           10.320000               0.000000   \n",
       "...                   ...                 ...                    ...   \n",
       "643685           0.000000            0.000000               0.000000   \n",
       "643686           0.000000            8.909091               0.000000   \n",
       "643687           0.000000           10.352941               1.705882   \n",
       "643688           0.525424            0.000000               0.000000   \n",
       "643689           8.950000            1.033333               0.083333   \n",
       "\n",
       "        se_tot_dur_byage  seeking1_tot_dur_byage  \n",
       "0               0.000000                0.000000  \n",
       "1               0.000000                0.000000  \n",
       "2               0.000000                9.836735  \n",
       "3               0.000000                9.960000  \n",
       "4               0.000000               10.280000  \n",
       "...                  ...                     ...  \n",
       "643685          0.000000                0.000000  \n",
       "643686          0.000000                7.121212  \n",
       "643687          1.705882               23.911765  \n",
       "643688          0.000000                0.000000  \n",
       "643689          0.083333                8.133333  \n",
       "\n",
       "[643690 rows x 164 columns]"
      ]
     },
     "execution_count": 10,
     "metadata": {},
     "output_type": "execute_result"
    }
   ],
   "source": [
    "siab"
   ]
  },
  {
   "cell_type": "markdown",
   "id": "997051c5-15bd-4b69-9786-c3001a3ce484",
   "metadata": {
    "papermill": {
     "duration": 0.010132,
     "end_time": "2025-08-19T17:02:19.886145",
     "exception": false,
     "start_time": "2025-08-19T17:02:19.876013",
     "status": "completed"
    },
    "tags": []
   },
   "source": [
    "# Splitting Data and Setting Training Data Size"
   ]
  },
  {
   "cell_type": "code",
   "execution_count": 11,
   "id": "aea9c6ef-6f46-42c8-85eb-5a62025c1508",
   "metadata": {
    "execution": {
     "iopub.execute_input": "2025-08-19T17:02:19.907732Z",
     "iopub.status.busy": "2025-08-19T17:02:19.907176Z",
     "iopub.status.idle": "2025-08-19T17:02:20.194104Z",
     "shell.execute_reply": "2025-08-19T17:02:20.193168Z"
    },
    "papermill": {
     "duration": 0.299747,
     "end_time": "2025-08-19T17:02:20.195737",
     "exception": false,
     "start_time": "2025-08-19T17:02:19.895990",
     "status": "completed"
    },
    "tags": []
   },
   "outputs": [],
   "source": [
    "from fairness_multiverse.universe import sample_by_year_size\n",
    "\n",
    "siab_train = sample_by_year_size(siab,\n",
    "                               training_year=universe[\"training_year\"],\n",
    "                               training_size=universe[\"training_size\"])"
   ]
  },
  {
   "cell_type": "code",
   "execution_count": 12,
   "id": "8d3afb32-789d-442c-8d5d-9f5aa8dd2eed",
   "metadata": {
    "execution": {
     "iopub.execute_input": "2025-08-19T17:02:20.218832Z",
     "iopub.status.busy": "2025-08-19T17:02:20.218452Z",
     "iopub.status.idle": "2025-08-19T17:02:20.226615Z",
     "shell.execute_reply": "2025-08-19T17:02:20.225541Z"
    },
    "papermill": {
     "duration": 0.02082,
     "end_time": "2025-08-19T17:02:20.227986",
     "exception": false,
     "start_time": "2025-08-19T17:02:20.207166",
     "status": "completed"
    },
    "tags": []
   },
   "outputs": [
    {
     "data": {
      "text/plain": [
       "(25000, 164)"
      ]
     },
     "execution_count": 12,
     "metadata": {},
     "output_type": "execute_result"
    }
   ],
   "source": [
    "siab_train.shape"
   ]
  },
  {
   "cell_type": "code",
   "execution_count": 13,
   "id": "d582db68-1a4c-47fb-84fc-08518dc1975a",
   "metadata": {
    "execution": {
     "iopub.execute_input": "2025-08-19T17:02:20.252353Z",
     "iopub.status.busy": "2025-08-19T17:02:20.251289Z",
     "iopub.status.idle": "2025-08-19T17:02:20.266114Z",
     "shell.execute_reply": "2025-08-19T17:02:20.263925Z"
    },
    "papermill": {
     "duration": 0.028469,
     "end_time": "2025-08-19T17:02:20.268201",
     "exception": false,
     "start_time": "2025-08-19T17:02:20.239732",
     "status": "completed"
    },
    "tags": []
   },
   "outputs": [
    {
     "data": {
      "text/plain": [
       "year\n",
       "2014    25000\n",
       "dtype: int64"
      ]
     },
     "metadata": {},
     "output_type": "display_data"
    }
   ],
   "source": [
    "display(siab_train.groupby(\"year\").size())"
   ]
  },
  {
   "cell_type": "code",
   "execution_count": 14,
   "id": "a561edb4-d032-42cb-8256-22eac1111c64",
   "metadata": {
    "execution": {
     "iopub.execute_input": "2025-08-19T17:02:20.302338Z",
     "iopub.status.busy": "2025-08-19T17:02:20.301974Z",
     "iopub.status.idle": "2025-08-19T17:02:20.528961Z",
     "shell.execute_reply": "2025-08-19T17:02:20.527947Z"
    },
    "papermill": {
     "duration": 0.24039,
     "end_time": "2025-08-19T17:02:20.530590",
     "exception": false,
     "start_time": "2025-08-19T17:02:20.290200",
     "status": "completed"
    },
    "tags": []
   },
   "outputs": [],
   "source": [
    "#siab_train = siab_s[siab_s.year < 2015]\n",
    "siab_calib = siab[siab.year == 2015]\n",
    "siab_test = siab[siab.year == 2016]"
   ]
  },
  {
   "cell_type": "code",
   "execution_count": 15,
   "id": "bc10fe59",
   "metadata": {
    "execution": {
     "iopub.execute_input": "2025-08-19T17:02:20.564948Z",
     "iopub.status.busy": "2025-08-19T17:02:20.553214Z",
     "iopub.status.idle": "2025-08-19T17:02:20.570240Z",
     "shell.execute_reply": "2025-08-19T17:02:20.569135Z"
    },
    "papermill": {
     "duration": 0.030232,
     "end_time": "2025-08-19T17:02:20.571901",
     "exception": false,
     "start_time": "2025-08-19T17:02:20.541669",
     "status": "completed"
    },
    "tags": []
   },
   "outputs": [],
   "source": [
    "#siab_calib.shape"
   ]
  },
  {
   "cell_type": "code",
   "execution_count": 16,
   "id": "d6aeff2f",
   "metadata": {
    "execution": {
     "iopub.execute_input": "2025-08-19T17:02:20.599147Z",
     "iopub.status.busy": "2025-08-19T17:02:20.597950Z",
     "iopub.status.idle": "2025-08-19T17:02:20.614526Z",
     "shell.execute_reply": "2025-08-19T17:02:20.613535Z"
    },
    "papermill": {
     "duration": 0.031057,
     "end_time": "2025-08-19T17:02:20.616311",
     "exception": false,
     "start_time": "2025-08-19T17:02:20.585254",
     "status": "completed"
    },
    "tags": []
   },
   "outputs": [],
   "source": [
    "#siab_test.shape"
   ]
  },
  {
   "cell_type": "code",
   "execution_count": 17,
   "id": "472de16f-c3db-4916-846b-1f0de9cf1746",
   "metadata": {
    "execution": {
     "iopub.execute_input": "2025-08-19T17:02:20.656926Z",
     "iopub.status.busy": "2025-08-19T17:02:20.642577Z",
     "iopub.status.idle": "2025-08-19T17:02:20.685427Z",
     "shell.execute_reply": "2025-08-19T17:02:20.684451Z"
    },
    "papermill": {
     "duration": 0.059068,
     "end_time": "2025-08-19T17:02:20.688992",
     "exception": false,
     "start_time": "2025-08-19T17:02:20.629924",
     "status": "completed"
    },
    "tags": []
   },
   "outputs": [],
   "source": [
    "X_train = siab_train.iloc[:,4:164]\n",
    "y_train = siab_train.iloc[:, [3]]"
   ]
  },
  {
   "cell_type": "code",
   "execution_count": null,
   "id": "a843c1c8",
   "metadata": {
    "papermill": {
     "duration": 0.013972,
     "end_time": "2025-08-19T17:02:20.727235",
     "exception": false,
     "start_time": "2025-08-19T17:02:20.713263",
     "status": "completed"
    },
    "tags": []
   },
   "outputs": [],
   "source": []
  },
  {
   "cell_type": "code",
   "execution_count": 18,
   "id": "828c96af-f43a-4ed6-ba47-8ac73a47d56c",
   "metadata": {
    "execution": {
     "iopub.execute_input": "2025-08-19T17:02:20.751060Z",
     "iopub.status.busy": "2025-08-19T17:02:20.750567Z",
     "iopub.status.idle": "2025-08-19T17:02:20.802169Z",
     "shell.execute_reply": "2025-08-19T17:02:20.801273Z"
    },
    "papermill": {
     "duration": 0.064851,
     "end_time": "2025-08-19T17:02:20.803543",
     "exception": false,
     "start_time": "2025-08-19T17:02:20.738692",
     "status": "completed"
    },
    "tags": []
   },
   "outputs": [],
   "source": [
    "X_calib = siab_calib.iloc[:,4:164]\n",
    "y_calib = siab_calib.iloc[:, [3]]"
   ]
  },
  {
   "cell_type": "code",
   "execution_count": 19,
   "id": "c34be9c3-6bd6-476e-acd3-845840e303be",
   "metadata": {
    "execution": {
     "iopub.execute_input": "2025-08-19T17:02:20.849368Z",
     "iopub.status.busy": "2025-08-19T17:02:20.848876Z",
     "iopub.status.idle": "2025-08-19T17:02:20.904704Z",
     "shell.execute_reply": "2025-08-19T17:02:20.903004Z"
    },
    "papermill": {
     "duration": 0.088306,
     "end_time": "2025-08-19T17:02:20.906973",
     "exception": false,
     "start_time": "2025-08-19T17:02:20.818667",
     "status": "completed"
    },
    "tags": []
   },
   "outputs": [],
   "source": [
    "X_test = siab_test.iloc[:,4:164]\n",
    "y_true = siab_test.iloc[:, [3]]"
   ]
  },
  {
   "cell_type": "code",
   "execution_count": 20,
   "id": "e6c733c5",
   "metadata": {
    "execution": {
     "iopub.execute_input": "2025-08-19T17:02:20.942736Z",
     "iopub.status.busy": "2025-08-19T17:02:20.942191Z",
     "iopub.status.idle": "2025-08-19T17:02:21.049092Z",
     "shell.execute_reply": "2025-08-19T17:02:21.048315Z"
    },
    "papermill": {
     "duration": 0.129279,
     "end_time": "2025-08-19T17:02:21.051147",
     "exception": false,
     "start_time": "2025-08-19T17:02:20.921868",
     "status": "completed"
    },
    "tags": []
   },
   "outputs": [],
   "source": [
    "# Auxiliary data needed downstream in the pipeline\n",
    "\n",
    "org_train = X_train.copy()\n",
    "org_test = X_test.copy()\n",
    "org_calib = X_calib.copy()"
   ]
  },
  {
   "cell_type": "markdown",
   "id": "0a4a1b33",
   "metadata": {
    "papermill": {
     "duration": 0.01999,
     "end_time": "2025-08-19T17:02:21.087676",
     "exception": false,
     "start_time": "2025-08-19T17:02:21.067686",
     "status": "completed"
    },
    "tags": []
   },
   "source": [
    "# Preprocessing Data"
   ]
  },
  {
   "cell_type": "code",
   "execution_count": 21,
   "id": "ca879031",
   "metadata": {
    "execution": {
     "iopub.execute_input": "2025-08-19T17:02:21.112518Z",
     "iopub.status.busy": "2025-08-19T17:02:21.111131Z",
     "iopub.status.idle": "2025-08-19T17:02:21.120870Z",
     "shell.execute_reply": "2025-08-19T17:02:21.119485Z"
    },
    "papermill": {
     "duration": 0.023655,
     "end_time": "2025-08-19T17:02:21.122630",
     "exception": false,
     "start_time": "2025-08-19T17:02:21.098975",
     "status": "completed"
    },
    "tags": []
   },
   "outputs": [],
   "source": [
    "# EXCLUDE PROTECTED FEATURES\n",
    "# --------------------------\n",
    "\n",
    "excluded_features = universe[\"exclude_features\"].split(\"-\")\n",
    "excluded_features_dictionary = {\n",
    "    \"nationality\": [\"maxdeutsch1\", \"maxdeutsch.Missing.\"],\n",
    "    \"sex\": [\"frau1\"],\n",
    "    \"age\": [\"age\"],\n",
    "}"
   ]
  },
  {
   "cell_type": "code",
   "execution_count": 22,
   "id": "b745ac60",
   "metadata": {
    "execution": {
     "iopub.execute_input": "2025-08-19T17:02:21.161120Z",
     "iopub.status.busy": "2025-08-19T17:02:21.158008Z",
     "iopub.status.idle": "2025-08-19T17:02:21.172027Z",
     "shell.execute_reply": "2025-08-19T17:02:21.170935Z"
    },
    "papermill": {
     "duration": 0.037732,
     "end_time": "2025-08-19T17:02:21.173420",
     "exception": false,
     "start_time": "2025-08-19T17:02:21.135688",
     "status": "completed"
    },
    "tags": []
   },
   "outputs": [],
   "source": [
    "excluded_features_columns = [\n",
    "    excluded_features_dictionary[f] for f in excluded_features if len(f) > 0 and f != \"none\"\n",
    "]"
   ]
  },
  {
   "cell_type": "code",
   "execution_count": 23,
   "id": "f84f73a2",
   "metadata": {
    "execution": {
     "iopub.execute_input": "2025-08-19T17:02:21.209463Z",
     "iopub.status.busy": "2025-08-19T17:02:21.208965Z",
     "iopub.status.idle": "2025-08-19T17:02:21.221023Z",
     "shell.execute_reply": "2025-08-19T17:02:21.220138Z"
    },
    "papermill": {
     "duration": 0.036261,
     "end_time": "2025-08-19T17:02:21.229420",
     "exception": false,
     "start_time": "2025-08-19T17:02:21.193159",
     "status": "completed"
    },
    "tags": []
   },
   "outputs": [],
   "source": [
    "from fairness_multiverse.universe import flatten_once\n",
    "\n",
    "excluded_features_columns = flatten_once(excluded_features_columns)"
   ]
  },
  {
   "cell_type": "code",
   "execution_count": 24,
   "id": "884dea22",
   "metadata": {
    "execution": {
     "iopub.execute_input": "2025-08-19T17:02:21.257547Z",
     "iopub.status.busy": "2025-08-19T17:02:21.257065Z",
     "iopub.status.idle": "2025-08-19T17:02:21.280867Z",
     "shell.execute_reply": "2025-08-19T17:02:21.279992Z"
    },
    "papermill": {
     "duration": 0.038313,
     "end_time": "2025-08-19T17:02:21.282469",
     "exception": false,
     "start_time": "2025-08-19T17:02:21.244156",
     "status": "completed"
    },
    "tags": []
   },
   "outputs": [
    {
     "name": "stdout",
     "output_type": "stream",
     "text": [
      "Dropping features: ['maxdeutsch1', 'maxdeutsch.Missing.', 'frau1']\n"
     ]
    }
   ],
   "source": [
    "if len(excluded_features_columns) > 0:\n",
    "    print(f\"Dropping features: {excluded_features_columns}\")\n",
    "    X_train.drop(excluded_features_columns, axis=1, inplace=True)"
   ]
  },
  {
   "cell_type": "code",
   "execution_count": 25,
   "id": "95ab8b16",
   "metadata": {
    "execution": {
     "iopub.execute_input": "2025-08-19T17:02:21.306288Z",
     "iopub.status.busy": "2025-08-19T17:02:21.305296Z",
     "iopub.status.idle": "2025-08-19T17:02:21.358869Z",
     "shell.execute_reply": "2025-08-19T17:02:21.358013Z"
    },
    "papermill": {
     "duration": 0.067734,
     "end_time": "2025-08-19T17:02:21.361371",
     "exception": false,
     "start_time": "2025-08-19T17:02:21.293637",
     "status": "completed"
    },
    "tags": []
   },
   "outputs": [
    {
     "name": "stdout",
     "output_type": "stream",
     "text": [
      "Dropping features: ['maxdeutsch1', 'maxdeutsch.Missing.', 'frau1']\n"
     ]
    }
   ],
   "source": [
    "if len(excluded_features_columns) > 0:\n",
    "    print(f\"Dropping features: {excluded_features_columns}\")\n",
    "    X_test.drop(excluded_features_columns, axis=1, inplace=True)"
   ]
  },
  {
   "cell_type": "code",
   "execution_count": 26,
   "id": "1853aaf5-fb9f-46cb-a2b5-8ea4ae2237e4",
   "metadata": {
    "execution": {
     "iopub.execute_input": "2025-08-19T17:02:21.403095Z",
     "iopub.status.busy": "2025-08-19T17:02:21.401419Z",
     "iopub.status.idle": "2025-08-19T17:02:21.455357Z",
     "shell.execute_reply": "2025-08-19T17:02:21.454505Z"
    },
    "papermill": {
     "duration": 0.069566,
     "end_time": "2025-08-19T17:02:21.456582",
     "exception": false,
     "start_time": "2025-08-19T17:02:21.387016",
     "status": "completed"
    },
    "tags": []
   },
   "outputs": [
    {
     "name": "stdout",
     "output_type": "stream",
     "text": [
      "Dropping features: ['maxdeutsch1', 'maxdeutsch.Missing.', 'frau1']\n"
     ]
    }
   ],
   "source": [
    "if len(excluded_features_columns) > 0:\n",
    "    print(f\"Dropping features: {excluded_features_columns}\")\n",
    "    X_calib.drop(excluded_features_columns, axis=1, inplace=True)"
   ]
  },
  {
   "cell_type": "code",
   "execution_count": 27,
   "id": "76c4dc6d",
   "metadata": {
    "execution": {
     "iopub.execute_input": "2025-08-19T17:02:21.481924Z",
     "iopub.status.busy": "2025-08-19T17:02:21.481012Z",
     "iopub.status.idle": "2025-08-19T17:02:21.485938Z",
     "shell.execute_reply": "2025-08-19T17:02:21.485117Z"
    },
    "papermill": {
     "duration": 0.018017,
     "end_time": "2025-08-19T17:02:21.487026",
     "exception": false,
     "start_time": "2025-08-19T17:02:21.469009",
     "status": "completed"
    },
    "tags": []
   },
   "outputs": [],
   "source": [
    "# EXCLUDE CERTAIN SUBGROUPS\n",
    "# -------------------------\n",
    "\n",
    "mode = universe.get(\"exclude_subgroups\", \"keep-all\") # Defaults to \"keep-all\" if the key is missing."
   ]
  },
  {
   "cell_type": "code",
   "execution_count": 28,
   "id": "21994072",
   "metadata": {
    "execution": {
     "iopub.execute_input": "2025-08-19T17:02:21.511725Z",
     "iopub.status.busy": "2025-08-19T17:02:21.510530Z",
     "iopub.status.idle": "2025-08-19T17:02:21.537138Z",
     "shell.execute_reply": "2025-08-19T17:02:21.536313Z"
    },
    "papermill": {
     "duration": 0.040973,
     "end_time": "2025-08-19T17:02:21.539257",
     "exception": false,
     "start_time": "2025-08-19T17:02:21.498284",
     "status": "completed"
    },
    "tags": []
   },
   "outputs": [],
   "source": [
    "if mode == \"keep-all\":\n",
    "    keep_mask = pd.Series(True, index=org_train.index)\n",
    "\n",
    "elif mode == \"drop-non-german\":\n",
    "    keep_mask = (org_train[\"maxdeutsch1\"] == 1) & (org_train[\"maxdeutsch.Missing.\"] == 0)\n",
    "\n",
    "else:\n",
    "    raise ValueError(f\"Unsupported mode for exclude_subgroups: {mode}\")"
   ]
  },
  {
   "cell_type": "code",
   "execution_count": 29,
   "id": "71651440",
   "metadata": {
    "execution": {
     "iopub.execute_input": "2025-08-19T17:02:21.569892Z",
     "iopub.status.busy": "2025-08-19T17:02:21.568903Z",
     "iopub.status.idle": "2025-08-19T17:02:21.575918Z",
     "shell.execute_reply": "2025-08-19T17:02:21.575030Z"
    },
    "papermill": {
     "duration": 0.020676,
     "end_time": "2025-08-19T17:02:21.577204",
     "exception": false,
     "start_time": "2025-08-19T17:02:21.556528",
     "status": "completed"
    },
    "tags": []
   },
   "outputs": [
    {
     "name": "stdout",
     "output_type": "stream",
     "text": [
      "Dropping 3688 rows (14.75%) where mode='drop-non-german'\n"
     ]
    }
   ],
   "source": [
    "n_drop = (~keep_mask).sum() # Calculates how many rows are set to be dropped\n",
    "if n_drop > 0:\n",
    "    pct = n_drop / len(keep_mask) * 100\n",
    "    print(f\"Dropping {n_drop} rows ({pct:.2f}%) where mode='{mode}'\")"
   ]
  },
  {
   "cell_type": "code",
   "execution_count": 30,
   "id": "5fb8eee5",
   "metadata": {
    "execution": {
     "iopub.execute_input": "2025-08-19T17:02:21.603288Z",
     "iopub.status.busy": "2025-08-19T17:02:21.601968Z",
     "iopub.status.idle": "2025-08-19T17:02:21.677048Z",
     "shell.execute_reply": "2025-08-19T17:02:21.676214Z"
    },
    "papermill": {
     "duration": 0.090389,
     "end_time": "2025-08-19T17:02:21.679832",
     "exception": false,
     "start_time": "2025-08-19T17:02:21.589443",
     "status": "completed"
    },
    "tags": []
   },
   "outputs": [],
   "source": [
    "X_train = X_train[keep_mask]"
   ]
  },
  {
   "cell_type": "code",
   "execution_count": 31,
   "id": "b202bb3a",
   "metadata": {
    "execution": {
     "iopub.execute_input": "2025-08-19T17:02:21.722396Z",
     "iopub.status.busy": "2025-08-19T17:02:21.721353Z",
     "iopub.status.idle": "2025-08-19T17:02:21.728568Z",
     "shell.execute_reply": "2025-08-19T17:02:21.727510Z"
    },
    "papermill": {
     "duration": 0.020821,
     "end_time": "2025-08-19T17:02:21.729862",
     "exception": false,
     "start_time": "2025-08-19T17:02:21.709041",
     "status": "completed"
    },
    "tags": []
   },
   "outputs": [],
   "source": [
    "y_train = y_train[keep_mask]"
   ]
  },
  {
   "cell_type": "markdown",
   "id": "493e2ac3",
   "metadata": {
    "papermill": {
     "duration": 0.01121,
     "end_time": "2025-08-19T17:02:21.752927",
     "exception": false,
     "start_time": "2025-08-19T17:02:21.741717",
     "status": "completed"
    },
    "tags": []
   },
   "source": [
    "# Model Training"
   ]
  },
  {
   "cell_type": "code",
   "execution_count": 32,
   "id": "679e1268",
   "metadata": {
    "execution": {
     "iopub.execute_input": "2025-08-19T17:02:21.790629Z",
     "iopub.status.busy": "2025-08-19T17:02:21.789827Z",
     "iopub.status.idle": "2025-08-19T17:02:21.901074Z",
     "shell.execute_reply": "2025-08-19T17:02:21.900160Z"
    },
    "papermill": {
     "duration": 0.138883,
     "end_time": "2025-08-19T17:02:21.902711",
     "exception": false,
     "start_time": "2025-08-19T17:02:21.763828",
     "status": "completed"
    },
    "tags": []
   },
   "outputs": [],
   "source": [
    "from sklearn.linear_model import LogisticRegression\n",
    "from sklearn.ensemble import GradientBoostingClassifier, RandomForestClassifier\n",
    "\n",
    "if (universe[\"model\"] == \"logreg\"):\n",
    "    model = LogisticRegression() #penalty=\"none\", solver=\"newton-cg\", max_iter=1)\n",
    "elif (universe[\"model\"] == \"penalized_logreg\"):\n",
    "    model = LogisticRegression(penalty=\"l2\", C=0.1) #, solver=\"newton-cg\", max_iter=1)\n",
    "elif (universe[\"model\"] == \"rf\"):\n",
    "    model = RandomForestClassifier() # n_estimators=100, n_jobs=-1\n",
    "elif (universe[\"model\"] == \"gbm\"):\n",
    "    model = GradientBoostingClassifier()\n",
    "elif (universe[\"model\"] == \"elasticnet\"):\n",
    "    model = LogisticRegression(penalty = 'elasticnet', solver = 'saga', l1_ratio = 0.5) # max_iter=5000\n",
    "else:\n",
    "    raise \"Unsupported universe.model\""
   ]
  },
  {
   "cell_type": "code",
   "execution_count": 33,
   "id": "0cc8f744",
   "metadata": {
    "execution": {
     "iopub.execute_input": "2025-08-19T17:02:21.928725Z",
     "iopub.status.busy": "2025-08-19T17:02:21.927639Z",
     "iopub.status.idle": "2025-08-19T17:02:21.940001Z",
     "shell.execute_reply": "2025-08-19T17:02:21.935741Z"
    },
    "papermill": {
     "duration": 0.026462,
     "end_time": "2025-08-19T17:02:21.941288",
     "exception": false,
     "start_time": "2025-08-19T17:02:21.914826",
     "status": "completed"
    },
    "tags": []
   },
   "outputs": [],
   "source": [
    "from sklearn.pipeline import Pipeline\n",
    "from sklearn.preprocessing import StandardScaler\n",
    "\n",
    "model = Pipeline([\n",
    "    #(\"continuous_processor\", continuous_processor),\n",
    "    #(\"categorical_preprocessor\", categorical_preprocessor),\n",
    "    (\"scale\", StandardScaler() if universe[\"scale\"] == \"scale\" else None), \n",
    "    (\"model\", model),\n",
    "])"
   ]
  },
  {
   "cell_type": "code",
   "execution_count": 34,
   "id": "9442c04d",
   "metadata": {
    "execution": {
     "iopub.execute_input": "2025-08-19T17:02:21.978081Z",
     "iopub.status.busy": "2025-08-19T17:02:21.977723Z",
     "iopub.status.idle": "2025-08-19T17:02:22.800979Z",
     "shell.execute_reply": "2025-08-19T17:02:22.800107Z"
    },
    "papermill": {
     "duration": 0.841336,
     "end_time": "2025-08-19T17:02:22.804926",
     "exception": false,
     "start_time": "2025-08-19T17:02:21.963590",
     "status": "completed"
    },
    "tags": []
   },
   "outputs": [
    {
     "name": "stderr",
     "output_type": "stream",
     "text": [
      "/dss/dsshome1/0C/ra93lal2/.local/share/virtualenvs/CMA_Fairness_v2-3j10GkSs/lib/python3.10/site-packages/sklearn/linear_model/_logistic.py:444: ConvergenceWarning: lbfgs failed to converge (status=1):\n",
      "STOP: TOTAL NO. of ITERATIONS REACHED LIMIT.\n",
      "\n",
      "Increase the number of iterations (max_iter) or scale the data as shown in:\n",
      "    https://scikit-learn.org/stable/modules/preprocessing.html\n",
      "Please also refer to the documentation for alternative solver options:\n",
      "    https://scikit-learn.org/stable/modules/linear_model.html#logistic-regression\n",
      "  n_iter_i = _check_optimize_result(\n"
     ]
    },
    {
     "data": {
      "text/html": [
       "<style>#sk-container-id-1 {color: black;background-color: white;}#sk-container-id-1 pre{padding: 0;}#sk-container-id-1 div.sk-toggleable {background-color: white;}#sk-container-id-1 label.sk-toggleable__label {cursor: pointer;display: block;width: 100%;margin-bottom: 0;padding: 0.3em;box-sizing: border-box;text-align: center;}#sk-container-id-1 label.sk-toggleable__label-arrow:before {content: \"▸\";float: left;margin-right: 0.25em;color: #696969;}#sk-container-id-1 label.sk-toggleable__label-arrow:hover:before {color: black;}#sk-container-id-1 div.sk-estimator:hover label.sk-toggleable__label-arrow:before {color: black;}#sk-container-id-1 div.sk-toggleable__content {max-height: 0;max-width: 0;overflow: hidden;text-align: left;background-color: #f0f8ff;}#sk-container-id-1 div.sk-toggleable__content pre {margin: 0.2em;color: black;border-radius: 0.25em;background-color: #f0f8ff;}#sk-container-id-1 input.sk-toggleable__control:checked~div.sk-toggleable__content {max-height: 200px;max-width: 100%;overflow: auto;}#sk-container-id-1 input.sk-toggleable__control:checked~label.sk-toggleable__label-arrow:before {content: \"▾\";}#sk-container-id-1 div.sk-estimator input.sk-toggleable__control:checked~label.sk-toggleable__label {background-color: #d4ebff;}#sk-container-id-1 div.sk-label input.sk-toggleable__control:checked~label.sk-toggleable__label {background-color: #d4ebff;}#sk-container-id-1 input.sk-hidden--visually {border: 0;clip: rect(1px 1px 1px 1px);clip: rect(1px, 1px, 1px, 1px);height: 1px;margin: -1px;overflow: hidden;padding: 0;position: absolute;width: 1px;}#sk-container-id-1 div.sk-estimator {font-family: monospace;background-color: #f0f8ff;border: 1px dotted black;border-radius: 0.25em;box-sizing: border-box;margin-bottom: 0.5em;}#sk-container-id-1 div.sk-estimator:hover {background-color: #d4ebff;}#sk-container-id-1 div.sk-parallel-item::after {content: \"\";width: 100%;border-bottom: 1px solid gray;flex-grow: 1;}#sk-container-id-1 div.sk-label:hover label.sk-toggleable__label {background-color: #d4ebff;}#sk-container-id-1 div.sk-serial::before {content: \"\";position: absolute;border-left: 1px solid gray;box-sizing: border-box;top: 0;bottom: 0;left: 50%;z-index: 0;}#sk-container-id-1 div.sk-serial {display: flex;flex-direction: column;align-items: center;background-color: white;padding-right: 0.2em;padding-left: 0.2em;position: relative;}#sk-container-id-1 div.sk-item {position: relative;z-index: 1;}#sk-container-id-1 div.sk-parallel {display: flex;align-items: stretch;justify-content: center;background-color: white;position: relative;}#sk-container-id-1 div.sk-item::before, #sk-container-id-1 div.sk-parallel-item::before {content: \"\";position: absolute;border-left: 1px solid gray;box-sizing: border-box;top: 0;bottom: 0;left: 50%;z-index: -1;}#sk-container-id-1 div.sk-parallel-item {display: flex;flex-direction: column;z-index: 1;position: relative;background-color: white;}#sk-container-id-1 div.sk-parallel-item:first-child::after {align-self: flex-end;width: 50%;}#sk-container-id-1 div.sk-parallel-item:last-child::after {align-self: flex-start;width: 50%;}#sk-container-id-1 div.sk-parallel-item:only-child::after {width: 0;}#sk-container-id-1 div.sk-dashed-wrapped {border: 1px dashed gray;margin: 0 0.4em 0.5em 0.4em;box-sizing: border-box;padding-bottom: 0.4em;background-color: white;}#sk-container-id-1 div.sk-label label {font-family: monospace;font-weight: bold;display: inline-block;line-height: 1.2em;}#sk-container-id-1 div.sk-label-container {text-align: center;}#sk-container-id-1 div.sk-container {/* jupyter's `normalize.less` sets `[hidden] { display: none; }` but bootstrap.min.css set `[hidden] { display: none !important; }` so we also need the `!important` here to be able to override the default hidden behavior on the sphinx rendered scikit-learn.org. See: https://github.com/scikit-learn/scikit-learn/issues/21755 */display: inline-block !important;position: relative;}#sk-container-id-1 div.sk-text-repr-fallback {display: none;}</style><div id=\"sk-container-id-1\" class=\"sk-top-container\"><div class=\"sk-text-repr-fallback\"><pre>Pipeline(steps=[(&#x27;scale&#x27;, None), (&#x27;model&#x27;, LogisticRegression(C=0.1))])</pre><b>In a Jupyter environment, please rerun this cell to show the HTML representation or trust the notebook. <br />On GitHub, the HTML representation is unable to render, please try loading this page with nbviewer.org.</b></div><div class=\"sk-container\" hidden><div class=\"sk-item sk-dashed-wrapped\"><div class=\"sk-label-container\"><div class=\"sk-label sk-toggleable\"><input class=\"sk-toggleable__control sk-hidden--visually\" id=\"sk-estimator-id-1\" type=\"checkbox\" ><label for=\"sk-estimator-id-1\" class=\"sk-toggleable__label sk-toggleable__label-arrow\">Pipeline</label><div class=\"sk-toggleable__content\"><pre>Pipeline(steps=[(&#x27;scale&#x27;, None), (&#x27;model&#x27;, LogisticRegression(C=0.1))])</pre></div></div></div><div class=\"sk-serial\"><div class=\"sk-item\"><div class=\"sk-estimator sk-toggleable\"><input class=\"sk-toggleable__control sk-hidden--visually\" id=\"sk-estimator-id-2\" type=\"checkbox\" ><label for=\"sk-estimator-id-2\" class=\"sk-toggleable__label sk-toggleable__label-arrow\">None</label><div class=\"sk-toggleable__content\"><pre>None</pre></div></div></div><div class=\"sk-item\"><div class=\"sk-estimator sk-toggleable\"><input class=\"sk-toggleable__control sk-hidden--visually\" id=\"sk-estimator-id-3\" type=\"checkbox\" ><label for=\"sk-estimator-id-3\" class=\"sk-toggleable__label sk-toggleable__label-arrow\">LogisticRegression</label><div class=\"sk-toggleable__content\"><pre>LogisticRegression(C=0.1)</pre></div></div></div></div></div></div></div>"
      ],
      "text/plain": [
       "Pipeline(steps=[('scale', None), ('model', LogisticRegression(C=0.1))])"
      ]
     },
     "execution_count": 34,
     "metadata": {},
     "output_type": "execute_result"
    }
   ],
   "source": [
    "model.fit(X_train, y_train.values.ravel())"
   ]
  },
  {
   "cell_type": "code",
   "execution_count": 35,
   "id": "a7cf2e16",
   "metadata": {
    "execution": {
     "iopub.execute_input": "2025-08-19T17:02:22.848336Z",
     "iopub.status.busy": "2025-08-19T17:02:22.846988Z",
     "iopub.status.idle": "2025-08-19T17:02:22.960708Z",
     "shell.execute_reply": "2025-08-19T17:02:22.959602Z"
    },
    "papermill": {
     "duration": 0.13265,
     "end_time": "2025-08-19T17:02:22.962052",
     "exception": false,
     "start_time": "2025-08-19T17:02:22.829402",
     "status": "completed"
    },
    "tags": []
   },
   "outputs": [
    {
     "data": {
      "text/plain": [
       "0.8644186824211347"
      ]
     },
     "execution_count": 35,
     "metadata": {},
     "output_type": "execute_result"
    }
   ],
   "source": [
    "from fairness_multiverse.universe import predict_w_threshold\n",
    "\n",
    "probs_test = model.predict_proba(X_test)\n",
    "\n",
    "'''\n",
    "Below code returns a boolean array (or binary 0/1 array depending on how it’s used) where each element \n",
    "is True if the probability of class 1 is greater than or equal to the threshold, and False otherwise.\n",
    "'''\n",
    "y_pred_default = predict_w_threshold(probs_test, 0.5)\n",
    "\n",
    "from sklearn.metrics import accuracy_score\n",
    "\n",
    "# Naive prediction\n",
    "accuracy_score(y_true = y_true, y_pred = y_pred_default)"
   ]
  },
  {
   "cell_type": "code",
   "execution_count": 36,
   "id": "081964c3",
   "metadata": {
    "execution": {
     "iopub.execute_input": "2025-08-19T17:02:22.991969Z",
     "iopub.status.busy": "2025-08-19T17:02:22.990868Z",
     "iopub.status.idle": "2025-08-19T17:02:23.090742Z",
     "shell.execute_reply": "2025-08-19T17:02:23.089664Z"
    },
    "papermill": {
     "duration": 0.119248,
     "end_time": "2025-08-19T17:02:23.093101",
     "exception": false,
     "start_time": "2025-08-19T17:02:22.973853",
     "status": "completed"
    },
    "tags": []
   },
   "outputs": [
    {
     "data": {
      "text/plain": [
       "array([0, 0, 0, ..., 0, 0, 0])"
      ]
     },
     "execution_count": 36,
     "metadata": {},
     "output_type": "execute_result"
    }
   ],
   "source": [
    "model.predict(X_test)"
   ]
  },
  {
   "cell_type": "markdown",
   "id": "56c9705b",
   "metadata": {
    "papermill": {
     "duration": 0.015085,
     "end_time": "2025-08-19T17:02:23.126322",
     "exception": false,
     "start_time": "2025-08-19T17:02:23.111237",
     "status": "completed"
    },
    "tags": []
   },
   "source": [
    "# Conformal Prediction"
   ]
  },
  {
   "cell_type": "code",
   "execution_count": 37,
   "id": "160ec6ff",
   "metadata": {
    "execution": {
     "iopub.execute_input": "2025-08-19T17:02:23.176841Z",
     "iopub.status.busy": "2025-08-19T17:02:23.176312Z",
     "iopub.status.idle": "2025-08-19T17:02:23.181438Z",
     "shell.execute_reply": "2025-08-19T17:02:23.180592Z"
    },
    "papermill": {
     "duration": 0.022477,
     "end_time": "2025-08-19T17:02:23.182786",
     "exception": false,
     "start_time": "2025-08-19T17:02:23.160309",
     "status": "completed"
    },
    "tags": []
   },
   "outputs": [],
   "source": [
    "# Miscoverage level for conformal prediction (10% allowed error rate => 90% target coverage)\n",
    "alpha = 0.1"
   ]
  },
  {
   "cell_type": "code",
   "execution_count": 38,
   "id": "eadf4555-3dd3-440e-8e35-f82a4ad9f855",
   "metadata": {
    "execution": {
     "iopub.execute_input": "2025-08-19T17:02:23.233757Z",
     "iopub.status.busy": "2025-08-19T17:02:23.233245Z",
     "iopub.status.idle": "2025-08-19T17:02:23.327014Z",
     "shell.execute_reply": "2025-08-19T17:02:23.326192Z"
    },
    "papermill": {
     "duration": 0.117419,
     "end_time": "2025-08-19T17:02:23.330074",
     "exception": false,
     "start_time": "2025-08-19T17:02:23.212655",
     "status": "completed"
    },
    "tags": []
   },
   "outputs": [],
   "source": [
    "probs_calib = model.predict_proba(X_calib)"
   ]
  },
  {
   "cell_type": "code",
   "execution_count": 39,
   "id": "2ed93547-6d5d-4983-9b36-1ecb300da49a",
   "metadata": {
    "execution": {
     "iopub.execute_input": "2025-08-19T17:02:23.452934Z",
     "iopub.status.busy": "2025-08-19T17:02:23.452448Z",
     "iopub.status.idle": "2025-08-19T17:02:23.458392Z",
     "shell.execute_reply": "2025-08-19T17:02:23.457677Z"
    },
    "papermill": {
     "duration": 0.108684,
     "end_time": "2025-08-19T17:02:23.459774",
     "exception": false,
     "start_time": "2025-08-19T17:02:23.351090",
     "status": "completed"
    },
    "tags": []
   },
   "outputs": [],
   "source": [
    "y_calib = y_calib.values.ravel().astype(int)"
   ]
  },
  {
   "cell_type": "code",
   "execution_count": 40,
   "id": "65d1320d-f588-4b38-9072-62af1ae97f7d",
   "metadata": {
    "execution": {
     "iopub.execute_input": "2025-08-19T17:02:23.485395Z",
     "iopub.status.busy": "2025-08-19T17:02:23.484937Z",
     "iopub.status.idle": "2025-08-19T17:02:23.493867Z",
     "shell.execute_reply": "2025-08-19T17:02:23.493184Z"
    },
    "papermill": {
     "duration": 0.023304,
     "end_time": "2025-08-19T17:02:23.495244",
     "exception": false,
     "start_time": "2025-08-19T17:02:23.471940",
     "status": "completed"
    },
    "tags": []
   },
   "outputs": [],
   "source": [
    "from fairness_multiverse.conformal import compute_nc_scores\n",
    "\n",
    "# Compute nonconformity scores on calibration set (1 - probability of true class)\n",
    "nc_scores = compute_nc_scores(probs_calib, y_calib)"
   ]
  },
  {
   "cell_type": "code",
   "execution_count": 41,
   "id": "df3b8ca3-53b7-43d5-9667-7c85da7aeda2",
   "metadata": {
    "execution": {
     "iopub.execute_input": "2025-08-19T17:02:23.519777Z",
     "iopub.status.busy": "2025-08-19T17:02:23.519349Z",
     "iopub.status.idle": "2025-08-19T17:02:23.538569Z",
     "shell.execute_reply": "2025-08-19T17:02:23.537782Z"
    },
    "papermill": {
     "duration": 0.033239,
     "end_time": "2025-08-19T17:02:23.540239",
     "exception": false,
     "start_time": "2025-08-19T17:02:23.507000",
     "status": "completed"
    },
    "tags": []
   },
   "outputs": [],
   "source": [
    "from fairness_multiverse.conformal import find_threshold\n",
    "\n",
    "# Find conformal threshold q_hat for the given alpha (split conformal method)\n",
    "q_hat = find_threshold(nc_scores, alpha)"
   ]
  },
  {
   "cell_type": "code",
   "execution_count": 42,
   "id": "4d29e6c1-0ef6-4aa4-b8fe-4fe79b0d033a",
   "metadata": {
    "execution": {
     "iopub.execute_input": "2025-08-19T17:02:23.567658Z",
     "iopub.status.busy": "2025-08-19T17:02:23.567194Z",
     "iopub.status.idle": "2025-08-19T17:02:23.574283Z",
     "shell.execute_reply": "2025-08-19T17:02:23.573620Z"
    },
    "papermill": {
     "duration": 0.021119,
     "end_time": "2025-08-19T17:02:23.575635",
     "exception": false,
     "start_time": "2025-08-19T17:02:23.554516",
     "status": "completed"
    },
    "tags": []
   },
   "outputs": [
    {
     "data": {
      "text/plain": [
       "0.665943994361013"
      ]
     },
     "execution_count": 42,
     "metadata": {},
     "output_type": "execute_result"
    }
   ],
   "source": [
    "q_hat"
   ]
  },
  {
   "cell_type": "code",
   "execution_count": 43,
   "id": "92460794-cdac-4be2-ba28-f28c0515a6fb",
   "metadata": {
    "execution": {
     "iopub.execute_input": "2025-08-19T17:02:23.600179Z",
     "iopub.status.busy": "2025-08-19T17:02:23.599792Z",
     "iopub.status.idle": "2025-08-19T17:02:24.293757Z",
     "shell.execute_reply": "2025-08-19T17:02:24.292268Z"
    },
    "papermill": {
     "duration": 0.708392,
     "end_time": "2025-08-19T17:02:24.295706",
     "exception": false,
     "start_time": "2025-08-19T17:02:23.587314",
     "status": "completed"
    },
    "tags": []
   },
   "outputs": [],
   "source": [
    "from fairness_multiverse.conformal import predict_conformal_sets\n",
    "\n",
    "# Generate prediction sets for each test example\n",
    "pred_sets = predict_conformal_sets(model, X_test, q_hat)"
   ]
  },
  {
   "cell_type": "code",
   "execution_count": 44,
   "id": "d90c9a65-e6db-4f5d-80cd-e68fb7e46829",
   "metadata": {
    "execution": {
     "iopub.execute_input": "2025-08-19T17:02:24.330343Z",
     "iopub.status.busy": "2025-08-19T17:02:24.329229Z",
     "iopub.status.idle": "2025-08-19T17:02:24.338086Z",
     "shell.execute_reply": "2025-08-19T17:02:24.336997Z"
    },
    "papermill": {
     "duration": 0.024675,
     "end_time": "2025-08-19T17:02:24.339716",
     "exception": false,
     "start_time": "2025-08-19T17:02:24.315041",
     "status": "completed"
    },
    "tags": []
   },
   "outputs": [],
   "source": [
    "y_true = y_true.squeeze()"
   ]
  },
  {
   "cell_type": "code",
   "execution_count": 45,
   "id": "3a58a54a-1e68-46b9-927a-df01f18aebc8",
   "metadata": {
    "execution": {
     "iopub.execute_input": "2025-08-19T17:02:24.375780Z",
     "iopub.status.busy": "2025-08-19T17:02:24.375161Z",
     "iopub.status.idle": "2025-08-19T17:02:24.889563Z",
     "shell.execute_reply": "2025-08-19T17:02:24.888014Z"
    },
    "papermill": {
     "duration": 0.533414,
     "end_time": "2025-08-19T17:02:24.891637",
     "exception": false,
     "start_time": "2025-08-19T17:02:24.358223",
     "status": "completed"
    },
    "tags": []
   },
   "outputs": [],
   "source": [
    "from fairness_multiverse.conformal import evaluate_sets\n",
    "\n",
    "# Evaluate coverage and average set size on test data\n",
    "metrics = evaluate_sets(pred_sets, y_true)"
   ]
  },
  {
   "cell_type": "markdown",
   "id": "2b569c12-9aaa-4c88-98c9-bbcd0cf3ebb8",
   "metadata": {
    "papermill": {
     "duration": 0.011935,
     "end_time": "2025-08-19T17:02:24.918085",
     "exception": false,
     "start_time": "2025-08-19T17:02:24.906150",
     "status": "completed"
    },
    "tags": []
   },
   "source": [
    "# CP Metrics"
   ]
  },
  {
   "cell_type": "code",
   "execution_count": 46,
   "id": "5ce0a5cb-201f-45a0-ade5-94c7f0bd6095",
   "metadata": {
    "execution": {
     "iopub.execute_input": "2025-08-19T17:02:24.949681Z",
     "iopub.status.busy": "2025-08-19T17:02:24.947265Z",
     "iopub.status.idle": "2025-08-19T17:02:24.961556Z",
     "shell.execute_reply": "2025-08-19T17:02:24.960283Z"
    },
    "papermill": {
     "duration": 0.030656,
     "end_time": "2025-08-19T17:02:24.963160",
     "exception": false,
     "start_time": "2025-08-19T17:02:24.932504",
     "status": "completed"
    },
    "tags": []
   },
   "outputs": [
    {
     "data": {
      "text/plain": [
       "{'coverage': 0.9126741723330732, 'avg_size': 1.2268643406532158}"
      ]
     },
     "execution_count": 46,
     "metadata": {},
     "output_type": "execute_result"
    }
   ],
   "source": [
    "metrics"
   ]
  },
  {
   "cell_type": "code",
   "execution_count": 47,
   "id": "9b9a838d-31c9-430b-ae14-12baee460d17",
   "metadata": {
    "execution": {
     "iopub.execute_input": "2025-08-19T17:02:24.994866Z",
     "iopub.status.busy": "2025-08-19T17:02:24.993393Z",
     "iopub.status.idle": "2025-08-19T17:02:25.004517Z",
     "shell.execute_reply": "2025-08-19T17:02:25.003009Z"
    },
    "papermill": {
     "duration": 0.027326,
     "end_time": "2025-08-19T17:02:25.006300",
     "exception": false,
     "start_time": "2025-08-19T17:02:24.978974",
     "status": "completed"
    },
    "tags": []
   },
   "outputs": [],
   "source": [
    "example_universe = universe.copy()\n",
    "universe_training_year = example_universe.get(\"training_year\")\n",
    "universe_training_size = example_universe.get(\"training_size\")\n",
    "universe_scale = example_universe.get(\"scale\")\n",
    "universe_model = example_universe.get(\"model\")\n",
    "universe_exclude_features = example_universe.get(\"exclude_features\")\n",
    "universe_exclude_subgroups = example_universe.get(\"exclude_subgroups\")"
   ]
  },
  {
   "cell_type": "code",
   "execution_count": 48,
   "id": "f4b6a8ac-9dc0-4245-8a91-5b3b5999c4f9",
   "metadata": {
    "execution": {
     "iopub.execute_input": "2025-08-19T17:02:25.041518Z",
     "iopub.status.busy": "2025-08-19T17:02:25.039908Z",
     "iopub.status.idle": "2025-08-19T17:02:25.050093Z",
     "shell.execute_reply": "2025-08-19T17:02:25.048670Z"
    },
    "papermill": {
     "duration": 0.027038,
     "end_time": "2025-08-19T17:02:25.051768",
     "exception": false,
     "start_time": "2025-08-19T17:02:25.024730",
     "status": "completed"
    },
    "tags": []
   },
   "outputs": [],
   "source": [
    "cp_metrics_dict = {\n",
    "    \"universe_id\": [universe_id],\n",
    "    \"universe_training_year\": [universe_training_year],\n",
    "    \"universe_training_size\": [universe_training_size],\n",
    "    \"universe_scale\": [universe_scale],\n",
    "    \"universe_model\": [universe_model],\n",
    "    \"universe_exclude_features\": [universe_exclude_features],\n",
    "    \"universe_exclude_subgroups\": [universe_exclude_subgroups],\n",
    "    \"q_hat\": [q_hat],\n",
    "    \"coverage\": [metrics[\"coverage\"]],\n",
    "    \"avg_size\": [metrics[\"avg_size\"]],\n",
    "}"
   ]
  },
  {
   "cell_type": "code",
   "execution_count": 49,
   "id": "33007efc-14e9-4ec6-97ac-56a455c82265",
   "metadata": {
    "execution": {
     "iopub.execute_input": "2025-08-19T17:02:25.083058Z",
     "iopub.status.busy": "2025-08-19T17:02:25.081495Z",
     "iopub.status.idle": "2025-08-19T17:02:25.094086Z",
     "shell.execute_reply": "2025-08-19T17:02:25.092688Z"
    },
    "papermill": {
     "duration": 0.029481,
     "end_time": "2025-08-19T17:02:25.096863",
     "exception": false,
     "start_time": "2025-08-19T17:02:25.067382",
     "status": "completed"
    },
    "tags": []
   },
   "outputs": [],
   "source": [
    "cp_metrics_df = pd.DataFrame(cp_metrics_dict)"
   ]
  },
  {
   "cell_type": "code",
   "execution_count": 50,
   "id": "db12611b-57b2-4910-b9d0-355adfd6e7bf",
   "metadata": {
    "execution": {
     "iopub.execute_input": "2025-08-19T17:02:25.126283Z",
     "iopub.status.busy": "2025-08-19T17:02:25.125688Z",
     "iopub.status.idle": "2025-08-19T17:02:25.141733Z",
     "shell.execute_reply": "2025-08-19T17:02:25.140537Z"
    },
    "papermill": {
     "duration": 0.031246,
     "end_time": "2025-08-19T17:02:25.143453",
     "exception": false,
     "start_time": "2025-08-19T17:02:25.112207",
     "status": "completed"
    },
    "tags": []
   },
   "outputs": [
    {
     "data": {
      "text/html": [
       "<div>\n",
       "<style scoped>\n",
       "    .dataframe tbody tr th:only-of-type {\n",
       "        vertical-align: middle;\n",
       "    }\n",
       "\n",
       "    .dataframe tbody tr th {\n",
       "        vertical-align: top;\n",
       "    }\n",
       "\n",
       "    .dataframe thead th {\n",
       "        text-align: right;\n",
       "    }\n",
       "</style>\n",
       "<table border=\"1\" class=\"dataframe\">\n",
       "  <thead>\n",
       "    <tr style=\"text-align: right;\">\n",
       "      <th></th>\n",
       "      <th>universe_id</th>\n",
       "      <th>universe_training_year</th>\n",
       "      <th>universe_training_size</th>\n",
       "      <th>universe_scale</th>\n",
       "      <th>universe_model</th>\n",
       "      <th>universe_exclude_features</th>\n",
       "      <th>universe_exclude_subgroups</th>\n",
       "      <th>q_hat</th>\n",
       "      <th>coverage</th>\n",
       "      <th>avg_size</th>\n",
       "    </tr>\n",
       "  </thead>\n",
       "  <tbody>\n",
       "    <tr>\n",
       "      <th>0</th>\n",
       "      <td>c68e8e22107681f4dfa299d35c3baf4f</td>\n",
       "      <td>2014</td>\n",
       "      <td>25k</td>\n",
       "      <td>do-not-scale</td>\n",
       "      <td>penalized_logreg</td>\n",
       "      <td>nationality-sex</td>\n",
       "      <td>drop-non-german</td>\n",
       "      <td>0.665944</td>\n",
       "      <td>0.912674</td>\n",
       "      <td>1.226864</td>\n",
       "    </tr>\n",
       "  </tbody>\n",
       "</table>\n",
       "</div>"
      ],
      "text/plain": [
       "                        universe_id universe_training_year  \\\n",
       "0  c68e8e22107681f4dfa299d35c3baf4f                   2014   \n",
       "\n",
       "  universe_training_size universe_scale    universe_model  \\\n",
       "0                    25k   do-not-scale  penalized_logreg   \n",
       "\n",
       "  universe_exclude_features universe_exclude_subgroups     q_hat  coverage  \\\n",
       "0           nationality-sex            drop-non-german  0.665944  0.912674   \n",
       "\n",
       "   avg_size  \n",
       "0  1.226864  "
      ]
     },
     "execution_count": 50,
     "metadata": {},
     "output_type": "execute_result"
    }
   ],
   "source": [
    "cp_metrics_df"
   ]
  },
  {
   "cell_type": "markdown",
   "id": "c825ecb4-0d3d-41d6-b7c6-eccb21272259",
   "metadata": {
    "papermill": {
     "duration": 0.021196,
     "end_time": "2025-08-19T17:02:25.190157",
     "exception": false,
     "start_time": "2025-08-19T17:02:25.168961",
     "status": "completed"
    },
    "tags": []
   },
   "source": [
    "Conditional coverage & looking at subgroups"
   ]
  },
  {
   "cell_type": "code",
   "execution_count": 51,
   "id": "027ae886-68dd-4141-96c7-805a5450e1ef",
   "metadata": {
    "execution": {
     "iopub.execute_input": "2025-08-19T17:02:25.224153Z",
     "iopub.status.busy": "2025-08-19T17:02:25.223612Z",
     "iopub.status.idle": "2025-08-19T17:02:25.519049Z",
     "shell.execute_reply": "2025-08-19T17:02:25.517993Z"
    },
    "papermill": {
     "duration": 0.312096,
     "end_time": "2025-08-19T17:02:25.520846",
     "exception": false,
     "start_time": "2025-08-19T17:02:25.208750",
     "status": "completed"
    },
    "tags": []
   },
   "outputs": [],
   "source": [
    "from fairness_multiverse.conformal import build_cp_groups\n",
    "\n",
    "cp_groups_df = build_cp_groups(pred_sets, y_true, X_test.index, org_test)"
   ]
  },
  {
   "cell_type": "code",
   "execution_count": 52,
   "id": "6cbdab96-b2b2-45af-ad54-d0516db2e28d",
   "metadata": {
    "execution": {
     "iopub.execute_input": "2025-08-19T17:02:25.551894Z",
     "iopub.status.busy": "2025-08-19T17:02:25.551573Z",
     "iopub.status.idle": "2025-08-19T17:02:26.481326Z",
     "shell.execute_reply": "2025-08-19T17:02:26.480076Z"
    },
    "papermill": {
     "duration": 0.947303,
     "end_time": "2025-08-19T17:02:26.483156",
     "exception": false,
     "start_time": "2025-08-19T17:02:25.535853",
     "status": "completed"
    },
    "tags": []
   },
   "outputs": [],
   "source": [
    "# Define covered = 1 if true_label is in the predicted set\n",
    "cp_groups_df['covered'] = cp_groups_df.apply(\n",
    "    lambda r: int(r['true_label'] in r['pred_set']),\n",
    "    axis=1\n",
    ")"
   ]
  },
  {
   "cell_type": "code",
   "execution_count": 53,
   "id": "90032e27-66df-4540-9169-4e89cfbaa758",
   "metadata": {
    "execution": {
     "iopub.execute_input": "2025-08-19T17:02:26.532246Z",
     "iopub.status.busy": "2025-08-19T17:02:26.531657Z",
     "iopub.status.idle": "2025-08-19T17:02:26.576899Z",
     "shell.execute_reply": "2025-08-19T17:02:26.575935Z"
    },
    "papermill": {
     "duration": 0.074217,
     "end_time": "2025-08-19T17:02:26.579456",
     "exception": false,
     "start_time": "2025-08-19T17:02:26.505239",
     "status": "completed"
    },
    "tags": []
   },
   "outputs": [],
   "source": [
    "subgroups = ['frau1','nongerman','nongerman_male','nongerman_female']\n",
    "\n",
    "# Conditional coverage for subgroup==1\n",
    "cond_coverage = {\n",
    "    g: cp_groups_df.loc[cp_groups_df[g]==1, 'covered'].mean()\n",
    "    for g in subgroups\n",
    "}"
   ]
  },
  {
   "cell_type": "code",
   "execution_count": 54,
   "id": "1e348fb1-b9c3-45bc-ba23-f016827a7e0d",
   "metadata": {
    "execution": {
     "iopub.execute_input": "2025-08-19T17:02:26.612916Z",
     "iopub.status.busy": "2025-08-19T17:02:26.612347Z",
     "iopub.status.idle": "2025-08-19T17:02:26.623349Z",
     "shell.execute_reply": "2025-08-19T17:02:26.622328Z"
    },
    "papermill": {
     "duration": 0.036233,
     "end_time": "2025-08-19T17:02:26.634215",
     "exception": false,
     "start_time": "2025-08-19T17:02:26.597982",
     "status": "completed"
    },
    "tags": []
   },
   "outputs": [
    {
     "data": {
      "text/plain": [
       "{'frau1': 0.9107157298827335,\n",
       " 'nongerman': 0.9440857800482794,\n",
       " 'nongerman_male': 0.9541565342700171,\n",
       " 'nongerman_female': 0.9274217585692995}"
      ]
     },
     "execution_count": 54,
     "metadata": {},
     "output_type": "execute_result"
    }
   ],
   "source": [
    "cond_coverage"
   ]
  },
  {
   "cell_type": "code",
   "execution_count": 55,
   "id": "f5093324-c3dd-4d63-bc4c-8d945e5c8bbb",
   "metadata": {
    "execution": {
     "iopub.execute_input": "2025-08-19T17:02:26.674864Z",
     "iopub.status.busy": "2025-08-19T17:02:26.668019Z",
     "iopub.status.idle": "2025-08-19T17:02:26.682661Z",
     "shell.execute_reply": "2025-08-19T17:02:26.681892Z"
    },
    "papermill": {
     "duration": 0.030349,
     "end_time": "2025-08-19T17:02:26.683746",
     "exception": false,
     "start_time": "2025-08-19T17:02:26.653397",
     "status": "completed"
    },
    "tags": []
   },
   "outputs": [],
   "source": [
    "for subgroup, cov in cond_coverage.items():\n",
    "    cp_metrics_df[f\"cov_{subgroup}\"] = cov"
   ]
  },
  {
   "cell_type": "code",
   "execution_count": 56,
   "id": "6e872e10-dbe5-49e8-b554-5030c98ff75d",
   "metadata": {
    "execution": {
     "iopub.execute_input": "2025-08-19T17:02:26.711898Z",
     "iopub.status.busy": "2025-08-19T17:02:26.710811Z",
     "iopub.status.idle": "2025-08-19T17:02:26.819707Z",
     "shell.execute_reply": "2025-08-19T17:02:26.818747Z"
    },
    "papermill": {
     "duration": 0.12444,
     "end_time": "2025-08-19T17:02:26.821093",
     "exception": false,
     "start_time": "2025-08-19T17:02:26.696653",
     "status": "completed"
    },
    "tags": []
   },
   "outputs": [
    {
     "data": {
      "text/html": [
       "<div>\n",
       "<style scoped>\n",
       "    .dataframe tbody tr th:only-of-type {\n",
       "        vertical-align: middle;\n",
       "    }\n",
       "\n",
       "    .dataframe tbody tr th {\n",
       "        vertical-align: top;\n",
       "    }\n",
       "\n",
       "    .dataframe thead th {\n",
       "        text-align: right;\n",
       "    }\n",
       "</style>\n",
       "<table border=\"1\" class=\"dataframe\">\n",
       "  <thead>\n",
       "    <tr style=\"text-align: right;\">\n",
       "      <th></th>\n",
       "      <th>universe_id</th>\n",
       "      <th>universe_training_year</th>\n",
       "      <th>universe_training_size</th>\n",
       "      <th>universe_scale</th>\n",
       "      <th>universe_model</th>\n",
       "      <th>universe_exclude_features</th>\n",
       "      <th>universe_exclude_subgroups</th>\n",
       "      <th>q_hat</th>\n",
       "      <th>coverage</th>\n",
       "      <th>avg_size</th>\n",
       "      <th>cov_frau1</th>\n",
       "      <th>cov_nongerman</th>\n",
       "      <th>cov_nongerman_male</th>\n",
       "      <th>cov_nongerman_female</th>\n",
       "    </tr>\n",
       "  </thead>\n",
       "  <tbody>\n",
       "    <tr>\n",
       "      <th>0</th>\n",
       "      <td>c68e8e22107681f4dfa299d35c3baf4f</td>\n",
       "      <td>2014</td>\n",
       "      <td>25k</td>\n",
       "      <td>do-not-scale</td>\n",
       "      <td>penalized_logreg</td>\n",
       "      <td>nationality-sex</td>\n",
       "      <td>drop-non-german</td>\n",
       "      <td>0.665944</td>\n",
       "      <td>0.912674</td>\n",
       "      <td>1.226864</td>\n",
       "      <td>0.910716</td>\n",
       "      <td>0.944086</td>\n",
       "      <td>0.954157</td>\n",
       "      <td>0.927422</td>\n",
       "    </tr>\n",
       "  </tbody>\n",
       "</table>\n",
       "</div>"
      ],
      "text/plain": [
       "                        universe_id universe_training_year  \\\n",
       "0  c68e8e22107681f4dfa299d35c3baf4f                   2014   \n",
       "\n",
       "  universe_training_size universe_scale    universe_model  \\\n",
       "0                    25k   do-not-scale  penalized_logreg   \n",
       "\n",
       "  universe_exclude_features universe_exclude_subgroups     q_hat  coverage  \\\n",
       "0           nationality-sex            drop-non-german  0.665944  0.912674   \n",
       "\n",
       "   avg_size  cov_frau1  cov_nongerman  cov_nongerman_male  \\\n",
       "0  1.226864   0.910716       0.944086            0.954157   \n",
       "\n",
       "   cov_nongerman_female  \n",
       "0              0.927422  "
      ]
     },
     "execution_count": 56,
     "metadata": {},
     "output_type": "execute_result"
    }
   ],
   "source": [
    "cp_metrics_df"
   ]
  },
  {
   "cell_type": "markdown",
   "id": "33774451",
   "metadata": {
    "papermill": {
     "duration": 0.023116,
     "end_time": "2025-08-19T17:02:26.860501",
     "exception": false,
     "start_time": "2025-08-19T17:02:26.837385",
     "status": "completed"
    },
    "tags": []
   },
   "source": [
    "# (Fairness) Metrics"
   ]
  },
  {
   "cell_type": "code",
   "execution_count": 57,
   "id": "debc5d62",
   "metadata": {
    "execution": {
     "iopub.execute_input": "2025-08-19T17:02:26.888526Z",
     "iopub.status.busy": "2025-08-19T17:02:26.887898Z",
     "iopub.status.idle": "2025-08-19T17:02:26.908327Z",
     "shell.execute_reply": "2025-08-19T17:02:26.907265Z"
    },
    "papermill": {
     "duration": 0.036401,
     "end_time": "2025-08-19T17:02:26.909791",
     "exception": false,
     "start_time": "2025-08-19T17:02:26.873390",
     "status": "completed"
    },
    "tags": []
   },
   "outputs": [],
   "source": [
    "colname_to_bin = \"maxdeutsch1\"\n",
    "majority_value = org_train[colname_to_bin].mode()[0]\n",
    "\n",
    "org_test[\"majmin\"] = np.where(org_test[colname_to_bin] == majority_value, \"majority\", \"minority\")"
   ]
  },
  {
   "cell_type": "code",
   "execution_count": 58,
   "id": "06a50de5",
   "metadata": {
    "execution": {
     "iopub.execute_input": "2025-08-19T17:02:26.937859Z",
     "iopub.status.busy": "2025-08-19T17:02:26.937350Z",
     "iopub.status.idle": "2025-08-19T17:02:28.712066Z",
     "shell.execute_reply": "2025-08-19T17:02:28.710764Z"
    },
    "papermill": {
     "duration": 1.791036,
     "end_time": "2025-08-19T17:02:28.714220",
     "exception": false,
     "start_time": "2025-08-19T17:02:26.923184",
     "status": "completed"
    },
    "tags": []
   },
   "outputs": [],
   "source": [
    "example_universe = universe.copy()\n",
    "example_universe[\"cutoff\"] = example_universe[\"cutoff\"][0]\n",
    "example_universe[\"eval_fairness_grouping\"] = example_universe[\"eval_fairness_grouping\"][0]\n",
    "fairness_dict, metric_frame = universe_analysis.compute_metrics(\n",
    "    example_universe,\n",
    "    y_pred_prob=probs_test,\n",
    "    y_test=y_true,\n",
    "    org_test=org_test,\n",
    ")"
   ]
  },
  {
   "cell_type": "markdown",
   "id": "f95d4e02",
   "metadata": {
    "papermill": {
     "duration": 0.030546,
     "end_time": "2025-08-19T17:02:28.767179",
     "exception": false,
     "start_time": "2025-08-19T17:02:28.736633",
     "status": "completed"
    },
    "tags": []
   },
   "source": [
    "# Overall"
   ]
  },
  {
   "cell_type": "markdown",
   "id": "bdee4871",
   "metadata": {
    "papermill": {
     "duration": 0.012621,
     "end_time": "2025-08-19T17:02:28.794532",
     "exception": false,
     "start_time": "2025-08-19T17:02:28.781911",
     "status": "completed"
    },
    "tags": []
   },
   "source": [
    "Main fairness target: Equalized Odds. Seems to be a better fit than equal opportunity, since we're not only interested in Y = 1. Seems to be a better fit than demographic parity, since we also care about accuracy, not just equal distribution of preds.\n",
    "\n",
    "Pick column for computation of fairness metrics\n",
    "\n",
    "Performance\n",
    "Overall performance measures, most interesting in relation to the measures split by group below"
   ]
  },
  {
   "cell_type": "code",
   "execution_count": 59,
   "id": "c4e067c6",
   "metadata": {
    "execution": {
     "iopub.execute_input": "2025-08-19T17:02:28.823321Z",
     "iopub.status.busy": "2025-08-19T17:02:28.822503Z",
     "iopub.status.idle": "2025-08-19T17:02:28.841398Z",
     "shell.execute_reply": "2025-08-19T17:02:28.840717Z"
    },
    "papermill": {
     "duration": 0.035554,
     "end_time": "2025-08-19T17:02:28.842718",
     "exception": false,
     "start_time": "2025-08-19T17:02:28.807164",
     "status": "completed"
    },
    "tags": []
   },
   "outputs": [
    {
     "data": {
      "text/plain": [
       "accuracy                   0.217356\n",
       "balanced accuracy          0.532935\n",
       "f1                         0.238880\n",
       "precision                  0.136464\n",
       "false positive rate        0.891550\n",
       "false negative rate        0.042579\n",
       "selection rate             0.900000\n",
       "count                  89710.000000\n",
       "dtype: float64"
      ]
     },
     "execution_count": 59,
     "metadata": {},
     "output_type": "execute_result"
    }
   ],
   "source": [
    "metric_frame.overall"
   ]
  },
  {
   "cell_type": "markdown",
   "id": "e968fe9d",
   "metadata": {
    "papermill": {
     "duration": 0.013818,
     "end_time": "2025-08-19T17:02:28.879611",
     "exception": false,
     "start_time": "2025-08-19T17:02:28.865793",
     "status": "completed"
    },
    "tags": []
   },
   "source": [
    "By Group"
   ]
  },
  {
   "cell_type": "code",
   "execution_count": 60,
   "id": "ec325bce",
   "metadata": {
    "execution": {
     "iopub.execute_input": "2025-08-19T17:02:28.907246Z",
     "iopub.status.busy": "2025-08-19T17:02:28.906480Z",
     "iopub.status.idle": "2025-08-19T17:02:28.933344Z",
     "shell.execute_reply": "2025-08-19T17:02:28.932551Z"
    },
    "papermill": {
     "duration": 0.042507,
     "end_time": "2025-08-19T17:02:28.935033",
     "exception": false,
     "start_time": "2025-08-19T17:02:28.892526",
     "status": "completed"
    },
    "tags": []
   },
   "outputs": [
    {
     "data": {
      "text/html": [
       "<div>\n",
       "<style scoped>\n",
       "    .dataframe tbody tr th:only-of-type {\n",
       "        vertical-align: middle;\n",
       "    }\n",
       "\n",
       "    .dataframe tbody tr th {\n",
       "        vertical-align: top;\n",
       "    }\n",
       "\n",
       "    .dataframe thead th {\n",
       "        text-align: right;\n",
       "    }\n",
       "</style>\n",
       "<table border=\"1\" class=\"dataframe\">\n",
       "  <thead>\n",
       "    <tr style=\"text-align: right;\">\n",
       "      <th></th>\n",
       "      <th>accuracy</th>\n",
       "      <th>balanced accuracy</th>\n",
       "      <th>f1</th>\n",
       "      <th>precision</th>\n",
       "      <th>false positive rate</th>\n",
       "      <th>false negative rate</th>\n",
       "      <th>selection rate</th>\n",
       "      <th>count</th>\n",
       "    </tr>\n",
       "    <tr>\n",
       "      <th>majmin</th>\n",
       "      <th></th>\n",
       "      <th></th>\n",
       "      <th></th>\n",
       "      <th></th>\n",
       "      <th></th>\n",
       "      <th></th>\n",
       "      <th></th>\n",
       "      <th></th>\n",
       "    </tr>\n",
       "  </thead>\n",
       "  <tbody>\n",
       "    <tr>\n",
       "      <th>majority</th>\n",
       "      <td>0.239540</td>\n",
       "      <td>0.540637</td>\n",
       "      <td>0.248181</td>\n",
       "      <td>0.142737</td>\n",
       "      <td>0.868616</td>\n",
       "      <td>0.050109</td>\n",
       "      <td>0.879355</td>\n",
       "      <td>69170.0</td>\n",
       "    </tr>\n",
       "    <tr>\n",
       "      <th>minority</th>\n",
       "      <td>0.142648</td>\n",
       "      <td>0.509587</td>\n",
       "      <td>0.209676</td>\n",
       "      <td>0.117304</td>\n",
       "      <td>0.967312</td>\n",
       "      <td>0.013514</td>\n",
       "      <td>0.969523</td>\n",
       "      <td>20540.0</td>\n",
       "    </tr>\n",
       "  </tbody>\n",
       "</table>\n",
       "</div>"
      ],
      "text/plain": [
       "          accuracy  balanced accuracy        f1  precision  \\\n",
       "majmin                                                       \n",
       "majority  0.239540           0.540637  0.248181   0.142737   \n",
       "minority  0.142648           0.509587  0.209676   0.117304   \n",
       "\n",
       "          false positive rate  false negative rate  selection rate    count  \n",
       "majmin                                                                       \n",
       "majority             0.868616             0.050109        0.879355  69170.0  \n",
       "minority             0.967312             0.013514        0.969523  20540.0  "
      ]
     },
     "execution_count": 60,
     "metadata": {},
     "output_type": "execute_result"
    }
   ],
   "source": [
    "metric_frame.by_group"
   ]
  },
  {
   "cell_type": "code",
   "execution_count": 61,
   "id": "a9ddbe63",
   "metadata": {
    "execution": {
     "iopub.execute_input": "2025-08-19T17:02:28.978407Z",
     "iopub.status.busy": "2025-08-19T17:02:28.978002Z",
     "iopub.status.idle": "2025-08-19T17:02:30.951933Z",
     "shell.execute_reply": "2025-08-19T17:02:30.950665Z"
    },
    "papermill": {
     "duration": 1.991221,
     "end_time": "2025-08-19T17:02:30.953468",
     "exception": false,
     "start_time": "2025-08-19T17:02:28.962247",
     "status": "completed"
    },
    "tags": []
   },
   "outputs": [
    {
     "data": {
      "text/plain": [
       "array([[<Axes: title={'center': 'accuracy'}, xlabel='majmin'>,\n",
       "        <Axes: title={'center': 'balanced accuracy'}, xlabel='majmin'>,\n",
       "        <Axes: title={'center': 'f1'}, xlabel='majmin'>],\n",
       "       [<Axes: title={'center': 'precision'}, xlabel='majmin'>,\n",
       "        <Axes: title={'center': 'false positive rate'}, xlabel='majmin'>,\n",
       "        <Axes: title={'center': 'false negative rate'}, xlabel='majmin'>],\n",
       "       [<Axes: title={'center': 'selection rate'}, xlabel='majmin'>,\n",
       "        <Axes: title={'center': 'count'}, xlabel='majmin'>,\n",
       "        <Axes: xlabel='majmin'>]], dtype=object)"
      ]
     },
     "execution_count": 61,
     "metadata": {},
     "output_type": "execute_result"
    },
    {
     "data": {
      "image/png": "[encoded data removed]",
      "text/plain": [
       "<Figure size 1200x800 with 9 Axes>"
      ]
     },
     "metadata": {},
     "output_type": "display_data"
    }
   ],
   "source": [
    "# In a graphic\n",
    "metric_frame.by_group.plot.bar(\n",
    "    subplots=True,\n",
    "    layout=[3, 3],\n",
    "    legend=False,\n",
    "    figsize=[12, 8],\n",
    "    title=\"Show all metrics\",\n",
    ")"
   ]
  },
  {
   "cell_type": "markdown",
   "id": "f57a0bac",
   "metadata": {
    "papermill": {
     "duration": 0.013988,
     "end_time": "2025-08-19T17:02:30.982110",
     "exception": false,
     "start_time": "2025-08-19T17:02:30.968122",
     "status": "completed"
    },
    "tags": []
   },
   "source": [
    "# Final Output"
   ]
  },
  {
   "cell_type": "code",
   "execution_count": 62,
   "id": "96d280a3",
   "metadata": {
    "execution": {
     "iopub.execute_input": "2025-08-19T17:02:31.015982Z",
     "iopub.status.busy": "2025-08-19T17:02:31.013052Z",
     "iopub.status.idle": "2025-08-19T17:02:31.036238Z",
     "shell.execute_reply": "2025-08-19T17:02:31.035210Z"
    },
    "papermill": {
     "duration": 0.042021,
     "end_time": "2025-08-19T17:02:31.038156",
     "exception": false,
     "start_time": "2025-08-19T17:02:30.996135",
     "status": "completed"
    },
    "tags": []
   },
   "outputs": [
    {
     "data": {
      "text/plain": [
       "4"
      ]
     },
     "execution_count": 62,
     "metadata": {},
     "output_type": "execute_result"
    }
   ],
   "source": [
    "sub_universes = universe_analysis.generate_sub_universes()\n",
    "len(sub_universes)"
   ]
  },
  {
   "cell_type": "code",
   "execution_count": 63,
   "id": "92adf7ba",
   "metadata": {
    "execution": {
     "iopub.execute_input": "2025-08-19T17:02:31.074482Z",
     "iopub.status.busy": "2025-08-19T17:02:31.073314Z",
     "iopub.status.idle": "2025-08-19T17:02:31.160327Z",
     "shell.execute_reply": "2025-08-19T17:02:31.153496Z"
    },
    "papermill": {
     "duration": 0.10614,
     "end_time": "2025-08-19T17:02:31.163514",
     "exception": false,
     "start_time": "2025-08-19T17:02:31.057374",
     "status": "completed"
    },
    "tags": []
   },
   "outputs": [],
   "source": [
    "def filter_sub_universe_data(sub_universe, org_test):\n",
    "    # Keep all rows — no filtering\n",
    "    keep_rows_mask = np.ones(org_test.shape[0], dtype=bool)\n",
    "\n",
    "    print(f\"[INFO] Keeping all rows: {keep_rows_mask.sum()} rows retained.\")\n",
    "    return keep_rows_mask"
   ]
  },
  {
   "cell_type": "code",
   "execution_count": 64,
   "id": "4a759155",
   "metadata": {
    "execution": {
     "iopub.execute_input": "2025-08-19T17:02:31.211038Z",
     "iopub.status.busy": "2025-08-19T17:02:31.209537Z",
     "iopub.status.idle": "2025-08-19T17:02:38.147097Z",
     "shell.execute_reply": "2025-08-19T17:02:38.146061Z"
    },
    "papermill": {
     "duration": 6.956068,
     "end_time": "2025-08-19T17:02:38.148466",
     "exception": false,
     "start_time": "2025-08-19T17:02:31.192398",
     "status": "completed"
    },
    "tags": []
   },
   "outputs": [
    {
     "name": "stdout",
     "output_type": "stream",
     "text": [
      "Stopping execution_time clock.\n",
      "[INFO] Keeping all rows: 89710 rows retained.\n"
     ]
    },
    {
     "name": "stdout",
     "output_type": "stream",
     "text": [
      "[INFO] Keeping all rows: 89710 rows retained.\n"
     ]
    },
    {
     "name": "stdout",
     "output_type": "stream",
     "text": [
      "[INFO] Keeping all rows: 89710 rows retained.\n"
     ]
    },
    {
     "name": "stdout",
     "output_type": "stream",
     "text": [
      "[INFO] Keeping all rows: 89710 rows retained.\n"
     ]
    },
    {
     "data": {
      "text/html": [
       "<div>\n",
       "<style scoped>\n",
       "    .dataframe tbody tr th:only-of-type {\n",
       "        vertical-align: middle;\n",
       "    }\n",
       "\n",
       "    .dataframe tbody tr th {\n",
       "        vertical-align: top;\n",
       "    }\n",
       "\n",
       "    .dataframe thead th {\n",
       "        text-align: right;\n",
       "    }\n",
       "</style>\n",
       "<table border=\"1\" class=\"dataframe\">\n",
       "  <thead>\n",
       "    <tr style=\"text-align: right;\">\n",
       "      <th></th>\n",
       "      <th>run_no</th>\n",
       "      <th>universe_id</th>\n",
       "      <th>universe_settings</th>\n",
       "      <th>execution_time</th>\n",
       "      <th>test_size_n</th>\n",
       "      <th>test_size_frac</th>\n",
       "      <th>fair_main_equalized_odds_difference</th>\n",
       "      <th>fair_main_equalized_odds_ratio</th>\n",
       "      <th>fair_main_demographic_parity_difference</th>\n",
       "      <th>fair_main_demographic_parity_ratio</th>\n",
       "      <th>...</th>\n",
       "      <th>perf_grp_precision_0</th>\n",
       "      <th>perf_grp_precision_1</th>\n",
       "      <th>perf_grp_false positive rate_0</th>\n",
       "      <th>perf_grp_false positive rate_1</th>\n",
       "      <th>perf_grp_false negative rate_0</th>\n",
       "      <th>perf_grp_false negative rate_1</th>\n",
       "      <th>perf_grp_selection rate_0</th>\n",
       "      <th>perf_grp_selection rate_1</th>\n",
       "      <th>perf_grp_count_0</th>\n",
       "      <th>perf_grp_count_1</th>\n",
       "    </tr>\n",
       "  </thead>\n",
       "  <tbody>\n",
       "    <tr>\n",
       "      <th>0</th>\n",
       "      <td>2</td>\n",
       "      <td>c68e8e22107681f4dfa299d35c3baf4f</td>\n",
       "      <td>{\"cutoff\": \"quantile_0.1\", \"eval_fairness_grou...</td>\n",
       "      <td>22.761533</td>\n",
       "      <td>89710</td>\n",
       "      <td>1.0</td>\n",
       "      <td>0.098697</td>\n",
       "      <td>0.897968</td>\n",
       "      <td>0.090168</td>\n",
       "      <td>0.906998</td>\n",
       "      <td>...</td>\n",
       "      <td>NaN</td>\n",
       "      <td>NaN</td>\n",
       "      <td>NaN</td>\n",
       "      <td>NaN</td>\n",
       "      <td>NaN</td>\n",
       "      <td>NaN</td>\n",
       "      <td>NaN</td>\n",
       "      <td>NaN</td>\n",
       "      <td>NaN</td>\n",
       "      <td>NaN</td>\n",
       "    </tr>\n",
       "    <tr>\n",
       "      <th>0</th>\n",
       "      <td>2</td>\n",
       "      <td>c68e8e22107681f4dfa299d35c3baf4f</td>\n",
       "      <td>{\"cutoff\": \"quantile_0.1\", \"eval_fairness_grou...</td>\n",
       "      <td>22.761533</td>\n",
       "      <td>89710</td>\n",
       "      <td>1.0</td>\n",
       "      <td>0.098697</td>\n",
       "      <td>0.897968</td>\n",
       "      <td>0.090168</td>\n",
       "      <td>0.906998</td>\n",
       "      <td>...</td>\n",
       "      <td>0.117304</td>\n",
       "      <td>0.142737</td>\n",
       "      <td>0.967312</td>\n",
       "      <td>0.868616</td>\n",
       "      <td>0.013514</td>\n",
       "      <td>0.050109</td>\n",
       "      <td>0.969523</td>\n",
       "      <td>0.879355</td>\n",
       "      <td>20540.0</td>\n",
       "      <td>69170.0</td>\n",
       "    </tr>\n",
       "    <tr>\n",
       "      <th>0</th>\n",
       "      <td>2</td>\n",
       "      <td>c68e8e22107681f4dfa299d35c3baf4f</td>\n",
       "      <td>{\"cutoff\": \"quantile_0.25\", \"eval_fairness_gro...</td>\n",
       "      <td>22.761533</td>\n",
       "      <td>89710</td>\n",
       "      <td>1.0</td>\n",
       "      <td>0.222192</td>\n",
       "      <td>0.753545</td>\n",
       "      <td>0.204021</td>\n",
       "      <td>0.775135</td>\n",
       "      <td>...</td>\n",
       "      <td>NaN</td>\n",
       "      <td>NaN</td>\n",
       "      <td>NaN</td>\n",
       "      <td>NaN</td>\n",
       "      <td>NaN</td>\n",
       "      <td>NaN</td>\n",
       "      <td>NaN</td>\n",
       "      <td>NaN</td>\n",
       "      <td>NaN</td>\n",
       "      <td>NaN</td>\n",
       "    </tr>\n",
       "    <tr>\n",
       "      <th>0</th>\n",
       "      <td>2</td>\n",
       "      <td>c68e8e22107681f4dfa299d35c3baf4f</td>\n",
       "      <td>{\"cutoff\": \"quantile_0.25\", \"eval_fairness_gro...</td>\n",
       "      <td>22.761533</td>\n",
       "      <td>89710</td>\n",
       "      <td>1.0</td>\n",
       "      <td>0.222192</td>\n",
       "      <td>0.753545</td>\n",
       "      <td>0.204021</td>\n",
       "      <td>0.775135</td>\n",
       "      <td>...</td>\n",
       "      <td>0.120895</td>\n",
       "      <td>0.161658</td>\n",
       "      <td>0.901552</td>\n",
       "      <td>0.679360</td>\n",
       "      <td>0.048564</td>\n",
       "      <td>0.139606</td>\n",
       "      <td>0.907303</td>\n",
       "      <td>0.703282</td>\n",
       "      <td>20540.0</td>\n",
       "      <td>69170.0</td>\n",
       "    </tr>\n",
       "  </tbody>\n",
       "</table>\n",
       "<p>4 rows × 50 columns</p>\n",
       "</div>"
      ],
      "text/plain": [
       "  run_no                       universe_id  \\\n",
       "0      2  c68e8e22107681f4dfa299d35c3baf4f   \n",
       "0      2  c68e8e22107681f4dfa299d35c3baf4f   \n",
       "0      2  c68e8e22107681f4dfa299d35c3baf4f   \n",
       "0      2  c68e8e22107681f4dfa299d35c3baf4f   \n",
       "\n",
       "                                   universe_settings  execution_time  \\\n",
       "0  {\"cutoff\": \"quantile_0.1\", \"eval_fairness_grou...       22.761533   \n",
       "0  {\"cutoff\": \"quantile_0.1\", \"eval_fairness_grou...       22.761533   \n",
       "0  {\"cutoff\": \"quantile_0.25\", \"eval_fairness_gro...       22.761533   \n",
       "0  {\"cutoff\": \"quantile_0.25\", \"eval_fairness_gro...       22.761533   \n",
       "\n",
       "   test_size_n  test_size_frac  fair_main_equalized_odds_difference  \\\n",
       "0        89710             1.0                             0.098697   \n",
       "0        89710             1.0                             0.098697   \n",
       "0        89710             1.0                             0.222192   \n",
       "0        89710             1.0                             0.222192   \n",
       "\n",
       "   fair_main_equalized_odds_ratio  fair_main_demographic_parity_difference  \\\n",
       "0                        0.897968                                 0.090168   \n",
       "0                        0.897968                                 0.090168   \n",
       "0                        0.753545                                 0.204021   \n",
       "0                        0.753545                                 0.204021   \n",
       "\n",
       "   fair_main_demographic_parity_ratio  ...  perf_grp_precision_0  \\\n",
       "0                            0.906998  ...                   NaN   \n",
       "0                            0.906998  ...              0.117304   \n",
       "0                            0.775135  ...                   NaN   \n",
       "0                            0.775135  ...              0.120895   \n",
       "\n",
       "   perf_grp_precision_1  perf_grp_false positive rate_0  \\\n",
       "0                   NaN                             NaN   \n",
       "0              0.142737                        0.967312   \n",
       "0                   NaN                             NaN   \n",
       "0              0.161658                        0.901552   \n",
       "\n",
       "   perf_grp_false positive rate_1  perf_grp_false negative rate_0  \\\n",
       "0                             NaN                             NaN   \n",
       "0                        0.868616                        0.013514   \n",
       "0                             NaN                             NaN   \n",
       "0                        0.679360                        0.048564   \n",
       "\n",
       "   perf_grp_false negative rate_1  perf_grp_selection rate_0  \\\n",
       "0                             NaN                        NaN   \n",
       "0                        0.050109                   0.969523   \n",
       "0                             NaN                        NaN   \n",
       "0                        0.139606                   0.907303   \n",
       "\n",
       "   perf_grp_selection rate_1  perf_grp_count_0  perf_grp_count_1  \n",
       "0                        NaN               NaN               NaN  \n",
       "0                   0.879355           20540.0           69170.0  \n",
       "0                        NaN               NaN               NaN  \n",
       "0                   0.703282           20540.0           69170.0  \n",
       "\n",
       "[4 rows x 50 columns]"
      ]
     },
     "execution_count": 64,
     "metadata": {},
     "output_type": "execute_result"
    }
   ],
   "source": [
    "final_output = universe_analysis.generate_final_output(\n",
    "    y_pred_prob=probs_test,\n",
    "    y_test=y_true,\n",
    "    org_test=org_test,\n",
    "    filter_data=filter_sub_universe_data,\n",
    "    cp_metrics_df=cp_metrics_df,\n",
    "    save=True,\n",
    ")\n",
    "final_output"
   ]
  },
  {
   "cell_type": "code",
   "execution_count": null,
   "id": "571f9a0f-660a-4841-b661-b06fbc637944",
   "metadata": {
    "papermill": {
     "duration": 0.015556,
     "end_time": "2025-08-19T17:02:38.198865",
     "exception": false,
     "start_time": "2025-08-19T17:02:38.183309",
     "status": "completed"
    },
    "tags": []
   },
   "outputs": [],
   "source": []
  },
  {
   "cell_type": "code",
   "execution_count": null,
   "id": "529482e3-0150-4854-a92d-ab864efc606e",
   "metadata": {
    "papermill": {
     "duration": 0.015154,
     "end_time": "2025-08-19T17:02:38.228846",
     "exception": false,
     "start_time": "2025-08-19T17:02:38.213692",
     "status": "completed"
    },
    "tags": []
   },
   "outputs": [],
   "source": []
  }
 ],
 "metadata": {
  "celltoolbar": "Tags",
  "kernelspec": {
   "display_name": "Python (CMA Fairness)",
   "language": "python",
   "name": "cma_fair_env"
  },
  "language_info": {
   "codemirror_mode": {
    "name": "ipython",
    "version": 3
   },
   "file_extension": ".py",
   "mimetype": "text/x-python",
   "name": "python",
   "nbconvert_exporter": "python",
   "pygments_lexer": "ipython3",
   "version": "3.10.12"
  },
  "papermill": {
   "default_parameters": {},
   "duration": 33.64901,
   "end_time": "2025-08-19T17:02:39.065569",
   "environment_variables": {},
   "exception": null,
   "input_path": "universe_analysis.ipynb",
   "output_path": "output/runs/2/notebooks/m_2-c68e8e22107681f4dfa299d35c3baf4f.ipynb",
   "parameters": {
    "output_dir": "output",
    "run_no": "2",
    "seed": "2023",
    "universe": "{\"cutoff\": [\"quantile_0.1\", \"quantile_0.25\"], \"eval_fairness_grouping\": [\"majority-minority\", \"nationality-all\"], \"exclude_features\": \"nationality-sex\", \"exclude_subgroups\": \"drop-non-german\", \"model\": \"penalized_logreg\", \"scale\": \"do-not-scale\", \"training_size\": \"25k\", \"training_year\": \"2014\"}",
    "universe_id": "c68e8e22107681f4dfa299d35c3baf4f"
   },
   "start_time": "2025-08-19T17:02:05.416559",
   "version": "2.6.0"
  }
 },
 "nbformat": 4,
 "nbformat_minor": 5
}