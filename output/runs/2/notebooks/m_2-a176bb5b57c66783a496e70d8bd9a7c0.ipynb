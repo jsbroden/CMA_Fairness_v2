{
 "cells": [
  {
   "cell_type": "markdown",
   "id": "b2057076-3a91-4cfa-9bfd-eab1e61b3068",
   "metadata": {
    "papermill": {
     "duration": 0.02245,
     "end_time": "2025-08-19T17:26:22.253783",
     "exception": false,
     "start_time": "2025-08-19T17:26:22.231333",
     "status": "completed"
    },
    "tags": []
   },
   "source": [
    "# Setup"
   ]
  },
  {
   "cell_type": "code",
   "execution_count": 1,
   "id": "f159f837-637b-42ba-96b5-ec9a68c44524",
   "metadata": {
    "execution": {
     "iopub.execute_input": "2025-08-19T17:26:22.276961Z",
     "iopub.status.busy": "2025-08-19T17:26:22.276458Z",
     "iopub.status.idle": "2025-08-19T17:26:22.287936Z",
     "shell.execute_reply": "2025-08-19T17:26:22.286972Z"
    },
    "papermill": {
     "duration": 0.023173,
     "end_time": "2025-08-19T17:26:22.289075",
     "exception": false,
     "start_time": "2025-08-19T17:26:22.265902",
     "status": "completed"
    },
    "tags": []
   },
   "outputs": [
    {
     "name": "stdout",
     "output_type": "stream",
     "text": [
      "/dss/dsshome1/0C/ra93lal2/cma/CMA_Fairness_v2\n"
     ]
    },
    {
     "name": "stderr",
     "output_type": "stream",
     "text": [
      "/dss/dsshome1/0C/ra93lal2/.local/share/virtualenvs/CMA_Fairness_v2-3j10GkSs/lib/python3.10/site-packages/IPython/core/magics/osm.py:393: UserWarning: This is now an optional IPython functionality, using bookmarks requires you to install the `pickleshare` library.\n",
      "  bkms = self.shell.db.get('bookmarks', {})\n",
      "/dss/dsshome1/0C/ra93lal2/.local/share/virtualenvs/CMA_Fairness_v2-3j10GkSs/lib/python3.10/site-packages/IPython/core/magics/osm.py:417: UserWarning: This is now an optional IPython functionality, setting dhist requires you to install the `pickleshare` library.\n",
      "  self.shell.db['dhist'] = compress_dhist(dhist)[-100:]\n"
     ]
    }
   ],
   "source": [
    "%cd ~/cma/CMA_Fairness_v2"
   ]
  },
  {
   "cell_type": "markdown",
   "id": "de2603b9",
   "metadata": {
    "papermill": {
     "duration": 0.026322,
     "end_time": "2025-08-19T17:26:22.335221",
     "exception": false,
     "start_time": "2025-08-19T17:26:22.308899",
     "status": "completed"
    },
    "tags": []
   },
   "source": [
    "The following cell holds the definition of our parameters, these values can be overriden by rendering the with e.g. the following command:\n",
    "\n",
    "papermill -p alpha 0.2 -p ratio 0.3 universe_analysis.ipynb output/test_run.ipynb"
   ]
  },
  {
   "cell_type": "code",
   "execution_count": 2,
   "id": "a80968a0-40bb-4fa9-85ef-2d5eefb01975",
   "metadata": {
    "execution": {
     "iopub.execute_input": "2025-08-19T17:26:22.358119Z",
     "iopub.status.busy": "2025-08-19T17:26:22.357644Z",
     "iopub.status.idle": "2025-08-19T17:26:22.362966Z",
     "shell.execute_reply": "2025-08-19T17:26:22.362110Z"
    },
    "papermill": {
     "duration": 0.017221,
     "end_time": "2025-08-19T17:26:22.364243",
     "exception": false,
     "start_time": "2025-08-19T17:26:22.347022",
     "status": "completed"
    },
    "tags": []
   },
   "outputs": [
    {
     "name": "stdout",
     "output_type": "stream",
     "text": [
      "Current working directory: /dss/dsshome1/0C/ra93lal2/cma/CMA_Fairness_v2\n"
     ]
    }
   ],
   "source": [
    "import os\n",
    "print(\"Current working directory:\", os.getcwd())"
   ]
  },
  {
   "cell_type": "code",
   "execution_count": 3,
   "id": "2dce4c03",
   "metadata": {
    "execution": {
     "iopub.execute_input": "2025-08-19T17:26:22.396788Z",
     "iopub.status.busy": "2025-08-19T17:26:22.396299Z",
     "iopub.status.idle": "2025-08-19T17:26:22.401206Z",
     "shell.execute_reply": "2025-08-19T17:26:22.400512Z"
    },
    "papermill": {
     "duration": 0.018255,
     "end_time": "2025-08-19T17:26:22.402391",
     "exception": false,
     "start_time": "2025-08-19T17:26:22.384136",
     "status": "completed"
    },
    "tags": [
     "parameters"
    ]
   },
   "outputs": [],
   "source": [
    "run_no = 0\n",
    "universe_id = \"test\"\n",
    "universe = {\n",
    "    \"training_size\": \"5k\", # \"25k\", \"5k\", \"1k\"\n",
    "    \"training_year\": \"2012_14\", # \"2014\", \"2012_14\", \"2010_14\"\n",
    "    \"scale\": \"scale\", # \"scale\", \"do-not-scale\",\n",
    "    \"model\": \"elasticnet\", # \"logreg\", \"penalized_logreg\", \"rf\", \"gbm\", \"elasticnet\"\n",
    "    \"cutoff\": [\"quantile_0.15\", \"quantile_0.30\"],\n",
    "    \"exclude_features\": \"age\", # \"none\", \"nationality\", \"sex\", \"nationality-sex\", \"age\"\n",
    "    \"exclude_subgroups\": \"drop-non-german\", # \"keep-all\", \"drop-non-german\"\n",
    "    \"eval_fairness_grouping\": [\"majority-minority\", \"nationality-all\"]\n",
    "}\n",
    "\n",
    "output_dir=\"./output\"\n",
    "seed=0"
   ]
  },
  {
   "cell_type": "code",
   "execution_count": 4,
   "id": "e943ca6f",
   "metadata": {
    "execution": {
     "iopub.execute_input": "2025-08-19T17:26:22.422323Z",
     "iopub.status.busy": "2025-08-19T17:26:22.421856Z",
     "iopub.status.idle": "2025-08-19T17:26:22.426122Z",
     "shell.execute_reply": "2025-08-19T17:26:22.425433Z"
    },
    "papermill": {
     "duration": 0.015598,
     "end_time": "2025-08-19T17:26:22.427266",
     "exception": false,
     "start_time": "2025-08-19T17:26:22.411668",
     "status": "completed"
    },
    "tags": [
     "injected-parameters"
    ]
   },
   "outputs": [],
   "source": [
    "# Parameters\n",
    "universe_id = \"a176bb5b57c66783a496e70d8bd9a7c0\"\n",
    "run_no = \"2\"\n",
    "universe = \"{\\\"cutoff\\\": [\\\"quantile_0.1\\\", \\\"quantile_0.25\\\"], \\\"eval_fairness_grouping\\\": [\\\"majority-minority\\\", \\\"nationality-all\\\"], \\\"exclude_features\\\": \\\"none\\\", \\\"exclude_subgroups\\\": \\\"drop-non-german\\\", \\\"model\\\": \\\"penalized_logreg\\\", \\\"scale\\\": \\\"scale\\\", \\\"training_size\\\": \\\"5k\\\", \\\"training_year\\\": \\\"2014\\\"}\"\n",
    "output_dir = \"output\"\n",
    "seed = \"2023\"\n"
   ]
  },
  {
   "cell_type": "code",
   "execution_count": 5,
   "id": "1650acaf",
   "metadata": {
    "execution": {
     "iopub.execute_input": "2025-08-19T17:26:22.447490Z",
     "iopub.status.busy": "2025-08-19T17:26:22.446769Z",
     "iopub.status.idle": "2025-08-19T17:26:22.457279Z",
     "shell.execute_reply": "2025-08-19T17:26:22.456645Z"
    },
    "papermill": {
     "duration": 0.021921,
     "end_time": "2025-08-19T17:26:22.458482",
     "exception": false,
     "start_time": "2025-08-19T17:26:22.436561",
     "status": "completed"
    },
    "tags": []
   },
   "outputs": [],
   "source": [
    "import json\n",
    "if isinstance(universe, str):\n",
    "    universe = json.loads(universe)"
   ]
  },
  {
   "cell_type": "code",
   "execution_count": 6,
   "id": "16620c48",
   "metadata": {
    "execution": {
     "iopub.execute_input": "2025-08-19T17:26:22.480614Z",
     "iopub.status.busy": "2025-08-19T17:26:22.480136Z",
     "iopub.status.idle": "2025-08-19T17:26:22.515210Z",
     "shell.execute_reply": "2025-08-19T17:26:22.514284Z"
    },
    "papermill": {
     "duration": 0.048738,
     "end_time": "2025-08-19T17:26:22.517892",
     "exception": false,
     "start_time": "2025-08-19T17:26:22.469154",
     "status": "completed"
    },
    "tags": []
   },
   "outputs": [],
   "source": [
    "# Auto-reload the custom package\n",
    "%load_ext autoreload\n",
    "%autoreload 1\n",
    "%aimport fairness_multiverse"
   ]
  },
  {
   "cell_type": "code",
   "execution_count": 7,
   "id": "01c5c9f3",
   "metadata": {
    "execution": {
     "iopub.execute_input": "2025-08-19T17:26:22.549575Z",
     "iopub.status.busy": "2025-08-19T17:26:22.549112Z",
     "iopub.status.idle": "2025-08-19T17:26:24.133486Z",
     "shell.execute_reply": "2025-08-19T17:26:24.132650Z"
    },
    "papermill": {
     "duration": 1.598223,
     "end_time": "2025-08-19T17:26:24.135019",
     "exception": false,
     "start_time": "2025-08-19T17:26:22.536796",
     "status": "completed"
    },
    "tags": []
   },
   "outputs": [],
   "source": [
    "from fairness_multiverse.universe import UniverseAnalysis\n",
    "\n",
    "universe_analysis = UniverseAnalysis(\n",
    "    run_no = run_no,\n",
    "    universe_id = universe_id,\n",
    "    universe = universe,\n",
    "    output_dir=output_dir,\n",
    ")"
   ]
  },
  {
   "cell_type": "code",
   "execution_count": 8,
   "id": "106241f5",
   "metadata": {
    "execution": {
     "iopub.execute_input": "2025-08-19T17:26:24.156783Z",
     "iopub.status.busy": "2025-08-19T17:26:24.155589Z",
     "iopub.status.idle": "2025-08-19T17:26:24.164945Z",
     "shell.execute_reply": "2025-08-19T17:26:24.163682Z"
    },
    "papermill": {
     "duration": 0.021523,
     "end_time": "2025-08-19T17:26:24.166432",
     "exception": false,
     "start_time": "2025-08-19T17:26:24.144909",
     "status": "completed"
    },
    "tags": []
   },
   "outputs": [
    {
     "name": "stdout",
     "output_type": "stream",
     "text": [
      "Using Seed: 2023\n"
     ]
    }
   ],
   "source": [
    "import numpy as np\n",
    "parsed_seed = int(seed)\n",
    "np.random.seed(parsed_seed)\n",
    "print(f\"Using Seed: {parsed_seed}\")"
   ]
  },
  {
   "cell_type": "markdown",
   "id": "e0ebdc57",
   "metadata": {
    "papermill": {
     "duration": 0.009984,
     "end_time": "2025-08-19T17:26:24.186761",
     "exception": false,
     "start_time": "2025-08-19T17:26:24.176777",
     "status": "completed"
    },
    "tags": []
   },
   "source": [
    "# Loading Data"
   ]
  },
  {
   "cell_type": "code",
   "execution_count": 9,
   "id": "f0496b8a",
   "metadata": {
    "execution": {
     "iopub.execute_input": "2025-08-19T17:26:24.207939Z",
     "iopub.status.busy": "2025-08-19T17:26:24.206888Z",
     "iopub.status.idle": "2025-08-19T17:26:34.391583Z",
     "shell.execute_reply": "2025-08-19T17:26:34.390636Z"
    },
    "papermill": {
     "duration": 10.196723,
     "end_time": "2025-08-19T17:26:34.392734",
     "exception": false,
     "start_time": "2025-08-19T17:26:24.196011",
     "status": "completed"
    },
    "tags": []
   },
   "outputs": [
    {
     "name": "stdout",
     "output_type": "stream",
     "text": [
      "Loading SIAB data from cache: data/siab_cached.csv.gz\n"
     ]
    },
    {
     "name": "stdout",
     "output_type": "stream",
     "text": [
      "(643690, 164)\n"
     ]
    }
   ],
   "source": [
    "from pathlib import Path\n",
    "import pandas as pd\n",
    "\n",
    "# File paths\n",
    "raw_file = Path(\"data/raw/siab.csv\")\n",
    "cache_file = Path(\"data/siab_cached.csv.gz\")\n",
    "\n",
    "# Ensure cache directory exists\n",
    "cache_file.parent.mkdir(parents=True, exist_ok=True)\n",
    "\n",
    "# Load with simple caching\n",
    "if cache_file.exists():\n",
    "    print(f\"Loading SIAB data from cache: {cache_file}\")\n",
    "    siab = pd.read_csv(cache_file, compression='gzip')\n",
    "else:\n",
    "    print(f\"Cache not found. Reading raw SIAB data: {raw_file}\")\n",
    "    siab = pd.read_csv(raw_file)\n",
    "    siab.to_csv(cache_file, index=False, compression='gzip')\n",
    "    print(f\"Cached SIAB data to: {cache_file}\")\n",
    "\n",
    "print(siab.shape)"
   ]
  },
  {
   "cell_type": "code",
   "execution_count": 10,
   "id": "db0ca512-5f53-4dba-abdb-a2888bca41ba",
   "metadata": {
    "execution": {
     "iopub.execute_input": "2025-08-19T17:26:34.419111Z",
     "iopub.status.busy": "2025-08-19T17:26:34.418321Z",
     "iopub.status.idle": "2025-08-19T17:26:34.612998Z",
     "shell.execute_reply": "2025-08-19T17:26:34.612280Z"
    },
    "papermill": {
     "duration": 0.210519,
     "end_time": "2025-08-19T17:26:34.615815",
     "exception": false,
     "start_time": "2025-08-19T17:26:34.405296",
     "status": "completed"
    },
    "tags": []
   },
   "outputs": [
    {
     "data": {
      "text/html": [
       "<div>\n",
       "<style scoped>\n",
       "    .dataframe tbody tr th:only-of-type {\n",
       "        vertical-align: middle;\n",
       "    }\n",
       "\n",
       "    .dataframe tbody tr th {\n",
       "        vertical-align: top;\n",
       "    }\n",
       "\n",
       "    .dataframe thead th {\n",
       "        text-align: right;\n",
       "    }\n",
       "</style>\n",
       "<table border=\"1\" class=\"dataframe\">\n",
       "  <thead>\n",
       "    <tr style=\"text-align: right;\">\n",
       "      <th></th>\n",
       "      <th>persnr</th>\n",
       "      <th>year</th>\n",
       "      <th>nrEntry</th>\n",
       "      <th>ltue</th>\n",
       "      <th>employed_before</th>\n",
       "      <th>receipt_leh_before</th>\n",
       "      <th>receipt_lhg_before</th>\n",
       "      <th>se_before</th>\n",
       "      <th>ASU_notue_seeking_before</th>\n",
       "      <th>ASU_other_before</th>\n",
       "      <th>...</th>\n",
       "      <th>minijob_tot_dur_byage</th>\n",
       "      <th>ft_tot_dur_byage</th>\n",
       "      <th>befrist_tot_dur_byage</th>\n",
       "      <th>leih_tot_dur_byage</th>\n",
       "      <th>LHG_tot_dur_byage</th>\n",
       "      <th>LEH_tot_dur_byage</th>\n",
       "      <th>almp_tot_dur_byage</th>\n",
       "      <th>almp_aw_tot_dur_byage</th>\n",
       "      <th>se_tot_dur_byage</th>\n",
       "      <th>seeking1_tot_dur_byage</th>\n",
       "    </tr>\n",
       "  </thead>\n",
       "  <tbody>\n",
       "    <tr>\n",
       "      <th>0</th>\n",
       "      <td>7</td>\n",
       "      <td>2015</td>\n",
       "      <td>1</td>\n",
       "      <td>0</td>\n",
       "      <td>1</td>\n",
       "      <td>0</td>\n",
       "      <td>0</td>\n",
       "      <td>0</td>\n",
       "      <td>1</td>\n",
       "      <td>0</td>\n",
       "      <td>...</td>\n",
       "      <td>0.000000</td>\n",
       "      <td>0.000000</td>\n",
       "      <td>15.043478</td>\n",
       "      <td>0.000000</td>\n",
       "      <td>0.000000</td>\n",
       "      <td>0.000000</td>\n",
       "      <td>0.000000</td>\n",
       "      <td>0.000000</td>\n",
       "      <td>0.000000</td>\n",
       "      <td>0.000000</td>\n",
       "    </tr>\n",
       "    <tr>\n",
       "      <th>1</th>\n",
       "      <td>18</td>\n",
       "      <td>2010</td>\n",
       "      <td>1</td>\n",
       "      <td>1</td>\n",
       "      <td>0</td>\n",
       "      <td>0</td>\n",
       "      <td>0</td>\n",
       "      <td>0</td>\n",
       "      <td>0</td>\n",
       "      <td>0</td>\n",
       "      <td>...</td>\n",
       "      <td>0.000000</td>\n",
       "      <td>0.000000</td>\n",
       "      <td>0.000000</td>\n",
       "      <td>0.000000</td>\n",
       "      <td>0.000000</td>\n",
       "      <td>0.000000</td>\n",
       "      <td>0.000000</td>\n",
       "      <td>0.000000</td>\n",
       "      <td>0.000000</td>\n",
       "      <td>0.000000</td>\n",
       "    </tr>\n",
       "    <tr>\n",
       "      <th>2</th>\n",
       "      <td>18</td>\n",
       "      <td>2011</td>\n",
       "      <td>2</td>\n",
       "      <td>0</td>\n",
       "      <td>1</td>\n",
       "      <td>0</td>\n",
       "      <td>1</td>\n",
       "      <td>0</td>\n",
       "      <td>1</td>\n",
       "      <td>0</td>\n",
       "      <td>...</td>\n",
       "      <td>2.714286</td>\n",
       "      <td>2.714286</td>\n",
       "      <td>0.000000</td>\n",
       "      <td>0.000000</td>\n",
       "      <td>10.775510</td>\n",
       "      <td>0.000000</td>\n",
       "      <td>8.367347</td>\n",
       "      <td>0.000000</td>\n",
       "      <td>0.000000</td>\n",
       "      <td>9.836735</td>\n",
       "    </tr>\n",
       "    <tr>\n",
       "      <th>3</th>\n",
       "      <td>18</td>\n",
       "      <td>2012</td>\n",
       "      <td>3</td>\n",
       "      <td>0</td>\n",
       "      <td>1</td>\n",
       "      <td>0</td>\n",
       "      <td>1</td>\n",
       "      <td>0</td>\n",
       "      <td>1</td>\n",
       "      <td>0</td>\n",
       "      <td>...</td>\n",
       "      <td>4.200000</td>\n",
       "      <td>4.200000</td>\n",
       "      <td>0.000000</td>\n",
       "      <td>0.000000</td>\n",
       "      <td>12.100000</td>\n",
       "      <td>0.000000</td>\n",
       "      <td>9.400000</td>\n",
       "      <td>0.000000</td>\n",
       "      <td>0.000000</td>\n",
       "      <td>9.960000</td>\n",
       "    </tr>\n",
       "    <tr>\n",
       "      <th>4</th>\n",
       "      <td>18</td>\n",
       "      <td>2012</td>\n",
       "      <td>4</td>\n",
       "      <td>0</td>\n",
       "      <td>1</td>\n",
       "      <td>0</td>\n",
       "      <td>1</td>\n",
       "      <td>0</td>\n",
       "      <td>1</td>\n",
       "      <td>0</td>\n",
       "      <td>...</td>\n",
       "      <td>5.460000</td>\n",
       "      <td>5.460000</td>\n",
       "      <td>0.000000</td>\n",
       "      <td>0.000000</td>\n",
       "      <td>13.360000</td>\n",
       "      <td>0.000000</td>\n",
       "      <td>10.320000</td>\n",
       "      <td>0.000000</td>\n",
       "      <td>0.000000</td>\n",
       "      <td>10.280000</td>\n",
       "    </tr>\n",
       "    <tr>\n",
       "      <th>...</th>\n",
       "      <td>...</td>\n",
       "      <td>...</td>\n",
       "      <td>...</td>\n",
       "      <td>...</td>\n",
       "      <td>...</td>\n",
       "      <td>...</td>\n",
       "      <td>...</td>\n",
       "      <td>...</td>\n",
       "      <td>...</td>\n",
       "      <td>...</td>\n",
       "      <td>...</td>\n",
       "      <td>...</td>\n",
       "      <td>...</td>\n",
       "      <td>...</td>\n",
       "      <td>...</td>\n",
       "      <td>...</td>\n",
       "      <td>...</td>\n",
       "      <td>...</td>\n",
       "      <td>...</td>\n",
       "      <td>...</td>\n",
       "      <td>...</td>\n",
       "    </tr>\n",
       "    <tr>\n",
       "      <th>643685</th>\n",
       "      <td>1827860</td>\n",
       "      <td>2013</td>\n",
       "      <td>1</td>\n",
       "      <td>0</td>\n",
       "      <td>0</td>\n",
       "      <td>0</td>\n",
       "      <td>1</td>\n",
       "      <td>0</td>\n",
       "      <td>0</td>\n",
       "      <td>1</td>\n",
       "      <td>...</td>\n",
       "      <td>0.000000</td>\n",
       "      <td>0.000000</td>\n",
       "      <td>0.000000</td>\n",
       "      <td>0.000000</td>\n",
       "      <td>0.612903</td>\n",
       "      <td>0.000000</td>\n",
       "      <td>0.000000</td>\n",
       "      <td>0.000000</td>\n",
       "      <td>0.000000</td>\n",
       "      <td>0.000000</td>\n",
       "    </tr>\n",
       "    <tr>\n",
       "      <th>643686</th>\n",
       "      <td>1827860</td>\n",
       "      <td>2015</td>\n",
       "      <td>2</td>\n",
       "      <td>1</td>\n",
       "      <td>0</td>\n",
       "      <td>0</td>\n",
       "      <td>1</td>\n",
       "      <td>0</td>\n",
       "      <td>1</td>\n",
       "      <td>0</td>\n",
       "      <td>...</td>\n",
       "      <td>0.000000</td>\n",
       "      <td>0.000000</td>\n",
       "      <td>0.212121</td>\n",
       "      <td>0.212121</td>\n",
       "      <td>17.363636</td>\n",
       "      <td>0.000000</td>\n",
       "      <td>8.909091</td>\n",
       "      <td>0.000000</td>\n",
       "      <td>0.000000</td>\n",
       "      <td>7.121212</td>\n",
       "    </tr>\n",
       "    <tr>\n",
       "      <th>643687</th>\n",
       "      <td>1827860</td>\n",
       "      <td>2016</td>\n",
       "      <td>3</td>\n",
       "      <td>1</td>\n",
       "      <td>0</td>\n",
       "      <td>0</td>\n",
       "      <td>1</td>\n",
       "      <td>1</td>\n",
       "      <td>0</td>\n",
       "      <td>1</td>\n",
       "      <td>...</td>\n",
       "      <td>0.000000</td>\n",
       "      <td>0.000000</td>\n",
       "      <td>0.294118</td>\n",
       "      <td>0.205882</td>\n",
       "      <td>34.705882</td>\n",
       "      <td>0.000000</td>\n",
       "      <td>10.352941</td>\n",
       "      <td>1.705882</td>\n",
       "      <td>1.705882</td>\n",
       "      <td>23.911765</td>\n",
       "    </tr>\n",
       "    <tr>\n",
       "      <th>643688</th>\n",
       "      <td>1827869</td>\n",
       "      <td>2013</td>\n",
       "      <td>1</td>\n",
       "      <td>1</td>\n",
       "      <td>1</td>\n",
       "      <td>0</td>\n",
       "      <td>0</td>\n",
       "      <td>0</td>\n",
       "      <td>1</td>\n",
       "      <td>0</td>\n",
       "      <td>...</td>\n",
       "      <td>0.000000</td>\n",
       "      <td>0.000000</td>\n",
       "      <td>0.000000</td>\n",
       "      <td>0.000000</td>\n",
       "      <td>0.000000</td>\n",
       "      <td>0.525424</td>\n",
       "      <td>0.000000</td>\n",
       "      <td>0.000000</td>\n",
       "      <td>0.000000</td>\n",
       "      <td>0.000000</td>\n",
       "    </tr>\n",
       "    <tr>\n",
       "      <th>643689</th>\n",
       "      <td>1827869</td>\n",
       "      <td>2014</td>\n",
       "      <td>2</td>\n",
       "      <td>0</td>\n",
       "      <td>0</td>\n",
       "      <td>1</td>\n",
       "      <td>0</td>\n",
       "      <td>0</td>\n",
       "      <td>1</td>\n",
       "      <td>0</td>\n",
       "      <td>...</td>\n",
       "      <td>0.000000</td>\n",
       "      <td>0.666667</td>\n",
       "      <td>0.666667</td>\n",
       "      <td>0.000000</td>\n",
       "      <td>0.000000</td>\n",
       "      <td>8.950000</td>\n",
       "      <td>1.033333</td>\n",
       "      <td>0.083333</td>\n",
       "      <td>0.083333</td>\n",
       "      <td>8.133333</td>\n",
       "    </tr>\n",
       "  </tbody>\n",
       "</table>\n",
       "<p>643690 rows × 164 columns</p>\n",
       "</div>"
      ],
      "text/plain": [
       "         persnr  year  nrEntry  ltue  employed_before  receipt_leh_before  \\\n",
       "0             7  2015        1     0                1                   0   \n",
       "1            18  2010        1     1                0                   0   \n",
       "2            18  2011        2     0                1                   0   \n",
       "3            18  2012        3     0                1                   0   \n",
       "4            18  2012        4     0                1                   0   \n",
       "...         ...   ...      ...   ...              ...                 ...   \n",
       "643685  1827860  2013        1     0                0                   0   \n",
       "643686  1827860  2015        2     1                0                   0   \n",
       "643687  1827860  2016        3     1                0                   0   \n",
       "643688  1827869  2013        1     1                1                   0   \n",
       "643689  1827869  2014        2     0                0                   1   \n",
       "\n",
       "        receipt_lhg_before  se_before  ASU_notue_seeking_before  \\\n",
       "0                        0          0                         1   \n",
       "1                        0          0                         0   \n",
       "2                        1          0                         1   \n",
       "3                        1          0                         1   \n",
       "4                        1          0                         1   \n",
       "...                    ...        ...                       ...   \n",
       "643685                   1          0                         0   \n",
       "643686                   1          0                         1   \n",
       "643687                   1          1                         0   \n",
       "643688                   0          0                         1   \n",
       "643689                   0          0                         1   \n",
       "\n",
       "        ASU_other_before  ...  minijob_tot_dur_byage  ft_tot_dur_byage  \\\n",
       "0                      0  ...               0.000000          0.000000   \n",
       "1                      0  ...               0.000000          0.000000   \n",
       "2                      0  ...               2.714286          2.714286   \n",
       "3                      0  ...               4.200000          4.200000   \n",
       "4                      0  ...               5.460000          5.460000   \n",
       "...                  ...  ...                    ...               ...   \n",
       "643685                 1  ...               0.000000          0.000000   \n",
       "643686                 0  ...               0.000000          0.000000   \n",
       "643687                 1  ...               0.000000          0.000000   \n",
       "643688                 0  ...               0.000000          0.000000   \n",
       "643689                 0  ...               0.000000          0.666667   \n",
       "\n",
       "        befrist_tot_dur_byage  leih_tot_dur_byage  LHG_tot_dur_byage  \\\n",
       "0                   15.043478            0.000000           0.000000   \n",
       "1                    0.000000            0.000000           0.000000   \n",
       "2                    0.000000            0.000000          10.775510   \n",
       "3                    0.000000            0.000000          12.100000   \n",
       "4                    0.000000            0.000000          13.360000   \n",
       "...                       ...                 ...                ...   \n",
       "643685               0.000000            0.000000           0.612903   \n",
       "643686               0.212121            0.212121          17.363636   \n",
       "643687               0.294118            0.205882          34.705882   \n",
       "643688               0.000000            0.000000           0.000000   \n",
       "643689               0.666667            0.000000           0.000000   \n",
       "\n",
       "        LEH_tot_dur_byage  almp_tot_dur_byage  almp_aw_tot_dur_byage  \\\n",
       "0                0.000000            0.000000               0.000000   \n",
       "1                0.000000            0.000000               0.000000   \n",
       "2                0.000000            8.367347               0.000000   \n",
       "3                0.000000            9.400000               0.000000   \n",
       "4                0.000000           10.320000               0.000000   \n",
       "...                   ...                 ...                    ...   \n",
       "643685           0.000000            0.000000               0.000000   \n",
       "643686           0.000000            8.909091               0.000000   \n",
       "643687           0.000000           10.352941               1.705882   \n",
       "643688           0.525424            0.000000               0.000000   \n",
       "643689           8.950000            1.033333               0.083333   \n",
       "\n",
       "        se_tot_dur_byage  seeking1_tot_dur_byage  \n",
       "0               0.000000                0.000000  \n",
       "1               0.000000                0.000000  \n",
       "2               0.000000                9.836735  \n",
       "3               0.000000                9.960000  \n",
       "4               0.000000               10.280000  \n",
       "...                  ...                     ...  \n",
       "643685          0.000000                0.000000  \n",
       "643686          0.000000                7.121212  \n",
       "643687          1.705882               23.911765  \n",
       "643688          0.000000                0.000000  \n",
       "643689          0.083333                8.133333  \n",
       "\n",
       "[643690 rows x 164 columns]"
      ]
     },
     "execution_count": 10,
     "metadata": {},
     "output_type": "execute_result"
    }
   ],
   "source": [
    "siab"
   ]
  },
  {
   "cell_type": "markdown",
   "id": "997051c5-15bd-4b69-9786-c3001a3ce484",
   "metadata": {
    "papermill": {
     "duration": 0.011852,
     "end_time": "2025-08-19T17:26:34.650585",
     "exception": false,
     "start_time": "2025-08-19T17:26:34.638733",
     "status": "completed"
    },
    "tags": []
   },
   "source": [
    "# Splitting Data and Setting Training Data Size"
   ]
  },
  {
   "cell_type": "code",
   "execution_count": 11,
   "id": "aea9c6ef-6f46-42c8-85eb-5a62025c1508",
   "metadata": {
    "execution": {
     "iopub.execute_input": "2025-08-19T17:26:34.672963Z",
     "iopub.status.busy": "2025-08-19T17:26:34.671329Z",
     "iopub.status.idle": "2025-08-19T17:26:34.919945Z",
     "shell.execute_reply": "2025-08-19T17:26:34.918892Z"
    },
    "papermill": {
     "duration": 0.261722,
     "end_time": "2025-08-19T17:26:34.921962",
     "exception": false,
     "start_time": "2025-08-19T17:26:34.660240",
     "status": "completed"
    },
    "tags": []
   },
   "outputs": [],
   "source": [
    "from fairness_multiverse.universe import sample_by_year_size\n",
    "\n",
    "siab_train = sample_by_year_size(siab,\n",
    "                               training_year=universe[\"training_year\"],\n",
    "                               training_size=universe[\"training_size\"])"
   ]
  },
  {
   "cell_type": "code",
   "execution_count": 12,
   "id": "8d3afb32-789d-442c-8d5d-9f5aa8dd2eed",
   "metadata": {
    "execution": {
     "iopub.execute_input": "2025-08-19T17:26:34.967718Z",
     "iopub.status.busy": "2025-08-19T17:26:34.967074Z",
     "iopub.status.idle": "2025-08-19T17:26:34.975400Z",
     "shell.execute_reply": "2025-08-19T17:26:34.974695Z"
    },
    "papermill": {
     "duration": 0.036896,
     "end_time": "2025-08-19T17:26:34.977906",
     "exception": false,
     "start_time": "2025-08-19T17:26:34.941010",
     "status": "completed"
    },
    "tags": []
   },
   "outputs": [
    {
     "data": {
      "text/plain": [
       "(5000, 164)"
      ]
     },
     "execution_count": 12,
     "metadata": {},
     "output_type": "execute_result"
    }
   ],
   "source": [
    "siab_train.shape"
   ]
  },
  {
   "cell_type": "code",
   "execution_count": 13,
   "id": "d582db68-1a4c-47fb-84fc-08518dc1975a",
   "metadata": {
    "execution": {
     "iopub.execute_input": "2025-08-19T17:26:35.005766Z",
     "iopub.status.busy": "2025-08-19T17:26:35.005366Z",
     "iopub.status.idle": "2025-08-19T17:26:35.013378Z",
     "shell.execute_reply": "2025-08-19T17:26:35.012795Z"
    },
    "papermill": {
     "duration": 0.022788,
     "end_time": "2025-08-19T17:26:35.016583",
     "exception": false,
     "start_time": "2025-08-19T17:26:34.993795",
     "status": "completed"
    },
    "tags": []
   },
   "outputs": [
    {
     "data": {
      "text/plain": [
       "year\n",
       "2014    5000\n",
       "dtype: int64"
      ]
     },
     "metadata": {},
     "output_type": "display_data"
    }
   ],
   "source": [
    "display(siab_train.groupby(\"year\").size())"
   ]
  },
  {
   "cell_type": "code",
   "execution_count": 14,
   "id": "a561edb4-d032-42cb-8256-22eac1111c64",
   "metadata": {
    "execution": {
     "iopub.execute_input": "2025-08-19T17:26:35.038794Z",
     "iopub.status.busy": "2025-08-19T17:26:35.038436Z",
     "iopub.status.idle": "2025-08-19T17:26:35.289919Z",
     "shell.execute_reply": "2025-08-19T17:26:35.289156Z"
    },
    "papermill": {
     "duration": 0.26374,
     "end_time": "2025-08-19T17:26:35.291266",
     "exception": false,
     "start_time": "2025-08-19T17:26:35.027526",
     "status": "completed"
    },
    "tags": []
   },
   "outputs": [],
   "source": [
    "#siab_train = siab_s[siab_s.year < 2015]\n",
    "siab_calib = siab[siab.year == 2015]\n",
    "siab_test = siab[siab.year == 2016]"
   ]
  },
  {
   "cell_type": "code",
   "execution_count": 15,
   "id": "bc10fe59",
   "metadata": {
    "execution": {
     "iopub.execute_input": "2025-08-19T17:26:35.330844Z",
     "iopub.status.busy": "2025-08-19T17:26:35.329715Z",
     "iopub.status.idle": "2025-08-19T17:26:35.339326Z",
     "shell.execute_reply": "2025-08-19T17:26:35.337640Z"
    },
    "papermill": {
     "duration": 0.036818,
     "end_time": "2025-08-19T17:26:35.342507",
     "exception": false,
     "start_time": "2025-08-19T17:26:35.305689",
     "status": "completed"
    },
    "tags": []
   },
   "outputs": [],
   "source": [
    "#siab_calib.shape"
   ]
  },
  {
   "cell_type": "code",
   "execution_count": 16,
   "id": "d6aeff2f",
   "metadata": {
    "execution": {
     "iopub.execute_input": "2025-08-19T17:26:35.374173Z",
     "iopub.status.busy": "2025-08-19T17:26:35.373643Z",
     "iopub.status.idle": "2025-08-19T17:26:35.377714Z",
     "shell.execute_reply": "2025-08-19T17:26:35.376940Z"
    },
    "papermill": {
     "duration": 0.018387,
     "end_time": "2025-08-19T17:26:35.378918",
     "exception": false,
     "start_time": "2025-08-19T17:26:35.360531",
     "status": "completed"
    },
    "tags": []
   },
   "outputs": [],
   "source": [
    "#siab_test.shape"
   ]
  },
  {
   "cell_type": "code",
   "execution_count": 17,
   "id": "472de16f-c3db-4916-846b-1f0de9cf1746",
   "metadata": {
    "execution": {
     "iopub.execute_input": "2025-08-19T17:26:35.403348Z",
     "iopub.status.busy": "2025-08-19T17:26:35.402418Z",
     "iopub.status.idle": "2025-08-19T17:26:35.426032Z",
     "shell.execute_reply": "2025-08-19T17:26:35.424703Z"
    },
    "papermill": {
     "duration": 0.041483,
     "end_time": "2025-08-19T17:26:35.430666",
     "exception": false,
     "start_time": "2025-08-19T17:26:35.389183",
     "status": "completed"
    },
    "tags": []
   },
   "outputs": [],
   "source": [
    "X_train = siab_train.iloc[:,4:164]\n",
    "y_train = siab_train.iloc[:, [3]]"
   ]
  },
  {
   "cell_type": "code",
   "execution_count": null,
   "id": "a843c1c8",
   "metadata": {
    "papermill": {
     "duration": 0.011556,
     "end_time": "2025-08-19T17:26:35.460998",
     "exception": false,
     "start_time": "2025-08-19T17:26:35.449442",
     "status": "completed"
    },
    "tags": []
   },
   "outputs": [],
   "source": []
  },
  {
   "cell_type": "code",
   "execution_count": 18,
   "id": "828c96af-f43a-4ed6-ba47-8ac73a47d56c",
   "metadata": {
    "execution": {
     "iopub.execute_input": "2025-08-19T17:26:35.485118Z",
     "iopub.status.busy": "2025-08-19T17:26:35.483946Z",
     "iopub.status.idle": "2025-08-19T17:26:35.549751Z",
     "shell.execute_reply": "2025-08-19T17:26:35.548651Z"
    },
    "papermill": {
     "duration": 0.081855,
     "end_time": "2025-08-19T17:26:35.553040",
     "exception": false,
     "start_time": "2025-08-19T17:26:35.471185",
     "status": "completed"
    },
    "tags": []
   },
   "outputs": [],
   "source": [
    "X_calib = siab_calib.iloc[:,4:164]\n",
    "y_calib = siab_calib.iloc[:, [3]]"
   ]
  },
  {
   "cell_type": "code",
   "execution_count": 19,
   "id": "c34be9c3-6bd6-476e-acd3-845840e303be",
   "metadata": {
    "execution": {
     "iopub.execute_input": "2025-08-19T17:26:35.591111Z",
     "iopub.status.busy": "2025-08-19T17:26:35.590149Z",
     "iopub.status.idle": "2025-08-19T17:26:35.666729Z",
     "shell.execute_reply": "2025-08-19T17:26:35.665401Z"
    },
    "papermill": {
     "duration": 0.097457,
     "end_time": "2025-08-19T17:26:35.673814",
     "exception": false,
     "start_time": "2025-08-19T17:26:35.576357",
     "status": "completed"
    },
    "tags": []
   },
   "outputs": [],
   "source": [
    "X_test = siab_test.iloc[:,4:164]\n",
    "y_true = siab_test.iloc[:, [3]]"
   ]
  },
  {
   "cell_type": "code",
   "execution_count": 20,
   "id": "e6c733c5",
   "metadata": {
    "execution": {
     "iopub.execute_input": "2025-08-19T17:26:35.718309Z",
     "iopub.status.busy": "2025-08-19T17:26:35.716816Z",
     "iopub.status.idle": "2025-08-19T17:26:35.844456Z",
     "shell.execute_reply": "2025-08-19T17:26:35.843322Z"
    },
    "papermill": {
     "duration": 0.145729,
     "end_time": "2025-08-19T17:26:35.847539",
     "exception": false,
     "start_time": "2025-08-19T17:26:35.701810",
     "status": "completed"
    },
    "tags": []
   },
   "outputs": [],
   "source": [
    "# Auxiliary data needed downstream in the pipeline\n",
    "\n",
    "org_train = X_train.copy()\n",
    "org_test = X_test.copy()\n",
    "org_calib = X_calib.copy()"
   ]
  },
  {
   "cell_type": "markdown",
   "id": "0a4a1b33",
   "metadata": {
    "papermill": {
     "duration": 0.012337,
     "end_time": "2025-08-19T17:26:35.883014",
     "exception": false,
     "start_time": "2025-08-19T17:26:35.870677",
     "status": "completed"
    },
    "tags": []
   },
   "source": [
    "# Preprocessing Data"
   ]
  },
  {
   "cell_type": "code",
   "execution_count": 21,
   "id": "ca879031",
   "metadata": {
    "execution": {
     "iopub.execute_input": "2025-08-19T17:26:35.909449Z",
     "iopub.status.busy": "2025-08-19T17:26:35.908973Z",
     "iopub.status.idle": "2025-08-19T17:26:35.917157Z",
     "shell.execute_reply": "2025-08-19T17:26:35.915866Z"
    },
    "papermill": {
     "duration": 0.025604,
     "end_time": "2025-08-19T17:26:35.918946",
     "exception": false,
     "start_time": "2025-08-19T17:26:35.893342",
     "status": "completed"
    },
    "tags": []
   },
   "outputs": [],
   "source": [
    "# EXCLUDE PROTECTED FEATURES\n",
    "# --------------------------\n",
    "\n",
    "excluded_features = universe[\"exclude_features\"].split(\"-\")\n",
    "excluded_features_dictionary = {\n",
    "    \"nationality\": [\"maxdeutsch1\", \"maxdeutsch.Missing.\"],\n",
    "    \"sex\": [\"frau1\"],\n",
    "    \"age\": [\"age\"],\n",
    "}"
   ]
  },
  {
   "cell_type": "code",
   "execution_count": 22,
   "id": "b745ac60",
   "metadata": {
    "execution": {
     "iopub.execute_input": "2025-08-19T17:26:35.947173Z",
     "iopub.status.busy": "2025-08-19T17:26:35.946559Z",
     "iopub.status.idle": "2025-08-19T17:26:35.953438Z",
     "shell.execute_reply": "2025-08-19T17:26:35.952595Z"
    },
    "papermill": {
     "duration": 0.020759,
     "end_time": "2025-08-19T17:26:35.954796",
     "exception": false,
     "start_time": "2025-08-19T17:26:35.934037",
     "status": "completed"
    },
    "tags": []
   },
   "outputs": [],
   "source": [
    "excluded_features_columns = [\n",
    "    excluded_features_dictionary[f] for f in excluded_features if len(f) > 0 and f != \"none\"\n",
    "]"
   ]
  },
  {
   "cell_type": "code",
   "execution_count": 23,
   "id": "f84f73a2",
   "metadata": {
    "execution": {
     "iopub.execute_input": "2025-08-19T17:26:35.978508Z",
     "iopub.status.busy": "2025-08-19T17:26:35.978093Z",
     "iopub.status.idle": "2025-08-19T17:26:36.002339Z",
     "shell.execute_reply": "2025-08-19T17:26:36.001296Z"
    },
    "papermill": {
     "duration": 0.037948,
     "end_time": "2025-08-19T17:26:36.004420",
     "exception": false,
     "start_time": "2025-08-19T17:26:35.966472",
     "status": "completed"
    },
    "tags": []
   },
   "outputs": [],
   "source": [
    "from fairness_multiverse.universe import flatten_once\n",
    "\n",
    "excluded_features_columns = flatten_once(excluded_features_columns)"
   ]
  },
  {
   "cell_type": "code",
   "execution_count": 24,
   "id": "884dea22",
   "metadata": {
    "execution": {
     "iopub.execute_input": "2025-08-19T17:26:36.035020Z",
     "iopub.status.busy": "2025-08-19T17:26:36.034626Z",
     "iopub.status.idle": "2025-08-19T17:26:36.039197Z",
     "shell.execute_reply": "2025-08-19T17:26:36.038549Z"
    },
    "papermill": {
     "duration": 0.02247,
     "end_time": "2025-08-19T17:26:36.045444",
     "exception": false,
     "start_time": "2025-08-19T17:26:36.022974",
     "status": "completed"
    },
    "tags": []
   },
   "outputs": [],
   "source": [
    "if len(excluded_features_columns) > 0:\n",
    "    print(f\"Dropping features: {excluded_features_columns}\")\n",
    "    X_train.drop(excluded_features_columns, axis=1, inplace=True)"
   ]
  },
  {
   "cell_type": "code",
   "execution_count": 25,
   "id": "95ab8b16",
   "metadata": {
    "execution": {
     "iopub.execute_input": "2025-08-19T17:26:36.070866Z",
     "iopub.status.busy": "2025-08-19T17:26:36.070492Z",
     "iopub.status.idle": "2025-08-19T17:26:36.074939Z",
     "shell.execute_reply": "2025-08-19T17:26:36.074272Z"
    },
    "papermill": {
     "duration": 0.021459,
     "end_time": "2025-08-19T17:26:36.080108",
     "exception": false,
     "start_time": "2025-08-19T17:26:36.058649",
     "status": "completed"
    },
    "tags": []
   },
   "outputs": [],
   "source": [
    "if len(excluded_features_columns) > 0:\n",
    "    print(f\"Dropping features: {excluded_features_columns}\")\n",
    "    X_test.drop(excluded_features_columns, axis=1, inplace=True)"
   ]
  },
  {
   "cell_type": "code",
   "execution_count": 26,
   "id": "1853aaf5-fb9f-46cb-a2b5-8ea4ae2237e4",
   "metadata": {
    "execution": {
     "iopub.execute_input": "2025-08-19T17:26:36.105101Z",
     "iopub.status.busy": "2025-08-19T17:26:36.104640Z",
     "iopub.status.idle": "2025-08-19T17:26:36.109647Z",
     "shell.execute_reply": "2025-08-19T17:26:36.108926Z"
    },
    "papermill": {
     "duration": 0.018193,
     "end_time": "2025-08-19T17:26:36.111080",
     "exception": false,
     "start_time": "2025-08-19T17:26:36.092887",
     "status": "completed"
    },
    "tags": []
   },
   "outputs": [],
   "source": [
    "if len(excluded_features_columns) > 0:\n",
    "    print(f\"Dropping features: {excluded_features_columns}\")\n",
    "    X_calib.drop(excluded_features_columns, axis=1, inplace=True)"
   ]
  },
  {
   "cell_type": "code",
   "execution_count": 27,
   "id": "76c4dc6d",
   "metadata": {
    "execution": {
     "iopub.execute_input": "2025-08-19T17:26:36.135334Z",
     "iopub.status.busy": "2025-08-19T17:26:36.134971Z",
     "iopub.status.idle": "2025-08-19T17:26:36.139220Z",
     "shell.execute_reply": "2025-08-19T17:26:36.138562Z"
    },
    "papermill": {
     "duration": 0.017166,
     "end_time": "2025-08-19T17:26:36.140669",
     "exception": false,
     "start_time": "2025-08-19T17:26:36.123503",
     "status": "completed"
    },
    "tags": []
   },
   "outputs": [],
   "source": [
    "# EXCLUDE CERTAIN SUBGROUPS\n",
    "# -------------------------\n",
    "\n",
    "mode = universe.get(\"exclude_subgroups\", \"keep-all\") # Defaults to \"keep-all\" if the key is missing."
   ]
  },
  {
   "cell_type": "code",
   "execution_count": 28,
   "id": "21994072",
   "metadata": {
    "execution": {
     "iopub.execute_input": "2025-08-19T17:26:36.165425Z",
     "iopub.status.busy": "2025-08-19T17:26:36.165026Z",
     "iopub.status.idle": "2025-08-19T17:26:36.171347Z",
     "shell.execute_reply": "2025-08-19T17:26:36.170531Z"
    },
    "papermill": {
     "duration": 0.021235,
     "end_time": "2025-08-19T17:26:36.173064",
     "exception": false,
     "start_time": "2025-08-19T17:26:36.151829",
     "status": "completed"
    },
    "tags": []
   },
   "outputs": [],
   "source": [
    "if mode == \"keep-all\":\n",
    "    keep_mask = pd.Series(True, index=org_train.index)\n",
    "\n",
    "elif mode == \"drop-non-german\":\n",
    "    keep_mask = (org_train[\"maxdeutsch1\"] == 1) & (org_train[\"maxdeutsch.Missing.\"] == 0)\n",
    "\n",
    "else:\n",
    "    raise ValueError(f\"Unsupported mode for exclude_subgroups: {mode}\")"
   ]
  },
  {
   "cell_type": "code",
   "execution_count": 29,
   "id": "71651440",
   "metadata": {
    "execution": {
     "iopub.execute_input": "2025-08-19T17:26:36.197349Z",
     "iopub.status.busy": "2025-08-19T17:26:36.196972Z",
     "iopub.status.idle": "2025-08-19T17:26:36.202472Z",
     "shell.execute_reply": "2025-08-19T17:26:36.201769Z"
    },
    "papermill": {
     "duration": 0.019666,
     "end_time": "2025-08-19T17:26:36.204971",
     "exception": false,
     "start_time": "2025-08-19T17:26:36.185305",
     "status": "completed"
    },
    "tags": []
   },
   "outputs": [
    {
     "name": "stdout",
     "output_type": "stream",
     "text": [
      "Dropping 741 rows (14.82%) where mode='drop-non-german'\n"
     ]
    }
   ],
   "source": [
    "n_drop = (~keep_mask).sum() # Calculates how many rows are set to be dropped\n",
    "if n_drop > 0:\n",
    "    pct = n_drop / len(keep_mask) * 100\n",
    "    print(f\"Dropping {n_drop} rows ({pct:.2f}%) where mode='{mode}'\")"
   ]
  },
  {
   "cell_type": "code",
   "execution_count": 30,
   "id": "5fb8eee5",
   "metadata": {
    "execution": {
     "iopub.execute_input": "2025-08-19T17:26:36.229198Z",
     "iopub.status.busy": "2025-08-19T17:26:36.228519Z",
     "iopub.status.idle": "2025-08-19T17:26:36.236762Z",
     "shell.execute_reply": "2025-08-19T17:26:36.236053Z"
    },
    "papermill": {
     "duration": 0.02137,
     "end_time": "2025-08-19T17:26:36.238090",
     "exception": false,
     "start_time": "2025-08-19T17:26:36.216720",
     "status": "completed"
    },
    "tags": []
   },
   "outputs": [],
   "source": [
    "X_train = X_train[keep_mask]"
   ]
  },
  {
   "cell_type": "code",
   "execution_count": 31,
   "id": "b202bb3a",
   "metadata": {
    "execution": {
     "iopub.execute_input": "2025-08-19T17:26:36.264419Z",
     "iopub.status.busy": "2025-08-19T17:26:36.263243Z",
     "iopub.status.idle": "2025-08-19T17:26:36.270687Z",
     "shell.execute_reply": "2025-08-19T17:26:36.269992Z"
    },
    "papermill": {
     "duration": 0.023667,
     "end_time": "2025-08-19T17:26:36.273772",
     "exception": false,
     "start_time": "2025-08-19T17:26:36.250105",
     "status": "completed"
    },
    "tags": []
   },
   "outputs": [],
   "source": [
    "y_train = y_train[keep_mask]"
   ]
  },
  {
   "cell_type": "markdown",
   "id": "493e2ac3",
   "metadata": {
    "papermill": {
     "duration": 0.010605,
     "end_time": "2025-08-19T17:26:36.296060",
     "exception": false,
     "start_time": "2025-08-19T17:26:36.285455",
     "status": "completed"
    },
    "tags": []
   },
   "source": [
    "# Model Training"
   ]
  },
  {
   "cell_type": "code",
   "execution_count": 32,
   "id": "679e1268",
   "metadata": {
    "execution": {
     "iopub.execute_input": "2025-08-19T17:26:36.332874Z",
     "iopub.status.busy": "2025-08-19T17:26:36.332437Z",
     "iopub.status.idle": "2025-08-19T17:26:36.425606Z",
     "shell.execute_reply": "2025-08-19T17:26:36.424961Z"
    },
    "papermill": {
     "duration": 0.111765,
     "end_time": "2025-08-19T17:26:36.432148",
     "exception": false,
     "start_time": "2025-08-19T17:26:36.320383",
     "status": "completed"
    },
    "tags": []
   },
   "outputs": [],
   "source": [
    "from sklearn.linear_model import LogisticRegression\n",
    "from sklearn.ensemble import GradientBoostingClassifier, RandomForestClassifier\n",
    "\n",
    "if (universe[\"model\"] == \"logreg\"):\n",
    "    model = LogisticRegression() #penalty=\"none\", solver=\"newton-cg\", max_iter=1)\n",
    "elif (universe[\"model\"] == \"penalized_logreg\"):\n",
    "    model = LogisticRegression(penalty=\"l2\", C=0.1) #, solver=\"newton-cg\", max_iter=1)\n",
    "elif (universe[\"model\"] == \"rf\"):\n",
    "    model = RandomForestClassifier() # n_estimators=100, n_jobs=-1\n",
    "elif (universe[\"model\"] == \"gbm\"):\n",
    "    model = GradientBoostingClassifier()\n",
    "elif (universe[\"model\"] == \"elasticnet\"):\n",
    "    model = LogisticRegression(penalty = 'elasticnet', solver = 'saga', l1_ratio = 0.5) # max_iter=5000\n",
    "else:\n",
    "    raise \"Unsupported universe.model\""
   ]
  },
  {
   "cell_type": "code",
   "execution_count": 33,
   "id": "0cc8f744",
   "metadata": {
    "execution": {
     "iopub.execute_input": "2025-08-19T17:26:36.456000Z",
     "iopub.status.busy": "2025-08-19T17:26:36.455621Z",
     "iopub.status.idle": "2025-08-19T17:26:36.461317Z",
     "shell.execute_reply": "2025-08-19T17:26:36.460607Z"
    },
    "papermill": {
     "duration": 0.019042,
     "end_time": "2025-08-19T17:26:36.462623",
     "exception": false,
     "start_time": "2025-08-19T17:26:36.443581",
     "status": "completed"
    },
    "tags": []
   },
   "outputs": [],
   "source": [
    "from sklearn.pipeline import Pipeline\n",
    "from sklearn.preprocessing import StandardScaler\n",
    "\n",
    "model = Pipeline([\n",
    "    #(\"continuous_processor\", continuous_processor),\n",
    "    #(\"categorical_preprocessor\", categorical_preprocessor),\n",
    "    (\"scale\", StandardScaler() if universe[\"scale\"] == \"scale\" else None), \n",
    "    (\"model\", model),\n",
    "])"
   ]
  },
  {
   "cell_type": "code",
   "execution_count": 34,
   "id": "9442c04d",
   "metadata": {
    "execution": {
     "iopub.execute_input": "2025-08-19T17:26:36.487194Z",
     "iopub.status.busy": "2025-08-19T17:26:36.486840Z",
     "iopub.status.idle": "2025-08-19T17:26:36.605312Z",
     "shell.execute_reply": "2025-08-19T17:26:36.604118Z"
    },
    "papermill": {
     "duration": 0.131772,
     "end_time": "2025-08-19T17:26:36.606499",
     "exception": false,
     "start_time": "2025-08-19T17:26:36.474727",
     "status": "completed"
    },
    "tags": []
   },
   "outputs": [
    {
     "data": {
      "text/html": [
       "<style>#sk-container-id-1 {color: black;background-color: white;}#sk-container-id-1 pre{padding: 0;}#sk-container-id-1 div.sk-toggleable {background-color: white;}#sk-container-id-1 label.sk-toggleable__label {cursor: pointer;display: block;width: 100%;margin-bottom: 0;padding: 0.3em;box-sizing: border-box;text-align: center;}#sk-container-id-1 label.sk-toggleable__label-arrow:before {content: \"▸\";float: left;margin-right: 0.25em;color: #696969;}#sk-container-id-1 label.sk-toggleable__label-arrow:hover:before {color: black;}#sk-container-id-1 div.sk-estimator:hover label.sk-toggleable__label-arrow:before {color: black;}#sk-container-id-1 div.sk-toggleable__content {max-height: 0;max-width: 0;overflow: hidden;text-align: left;background-color: #f0f8ff;}#sk-container-id-1 div.sk-toggleable__content pre {margin: 0.2em;color: black;border-radius: 0.25em;background-color: #f0f8ff;}#sk-container-id-1 input.sk-toggleable__control:checked~div.sk-toggleable__content {max-height: 200px;max-width: 100%;overflow: auto;}#sk-container-id-1 input.sk-toggleable__control:checked~label.sk-toggleable__label-arrow:before {content: \"▾\";}#sk-container-id-1 div.sk-estimator input.sk-toggleable__control:checked~label.sk-toggleable__label {background-color: #d4ebff;}#sk-container-id-1 div.sk-label input.sk-toggleable__control:checked~label.sk-toggleable__label {background-color: #d4ebff;}#sk-container-id-1 input.sk-hidden--visually {border: 0;clip: rect(1px 1px 1px 1px);clip: rect(1px, 1px, 1px, 1px);height: 1px;margin: -1px;overflow: hidden;padding: 0;position: absolute;width: 1px;}#sk-container-id-1 div.sk-estimator {font-family: monospace;background-color: #f0f8ff;border: 1px dotted black;border-radius: 0.25em;box-sizing: border-box;margin-bottom: 0.5em;}#sk-container-id-1 div.sk-estimator:hover {background-color: #d4ebff;}#sk-container-id-1 div.sk-parallel-item::after {content: \"\";width: 100%;border-bottom: 1px solid gray;flex-grow: 1;}#sk-container-id-1 div.sk-label:hover label.sk-toggleable__label {background-color: #d4ebff;}#sk-container-id-1 div.sk-serial::before {content: \"\";position: absolute;border-left: 1px solid gray;box-sizing: border-box;top: 0;bottom: 0;left: 50%;z-index: 0;}#sk-container-id-1 div.sk-serial {display: flex;flex-direction: column;align-items: center;background-color: white;padding-right: 0.2em;padding-left: 0.2em;position: relative;}#sk-container-id-1 div.sk-item {position: relative;z-index: 1;}#sk-container-id-1 div.sk-parallel {display: flex;align-items: stretch;justify-content: center;background-color: white;position: relative;}#sk-container-id-1 div.sk-item::before, #sk-container-id-1 div.sk-parallel-item::before {content: \"\";position: absolute;border-left: 1px solid gray;box-sizing: border-box;top: 0;bottom: 0;left: 50%;z-index: -1;}#sk-container-id-1 div.sk-parallel-item {display: flex;flex-direction: column;z-index: 1;position: relative;background-color: white;}#sk-container-id-1 div.sk-parallel-item:first-child::after {align-self: flex-end;width: 50%;}#sk-container-id-1 div.sk-parallel-item:last-child::after {align-self: flex-start;width: 50%;}#sk-container-id-1 div.sk-parallel-item:only-child::after {width: 0;}#sk-container-id-1 div.sk-dashed-wrapped {border: 1px dashed gray;margin: 0 0.4em 0.5em 0.4em;box-sizing: border-box;padding-bottom: 0.4em;background-color: white;}#sk-container-id-1 div.sk-label label {font-family: monospace;font-weight: bold;display: inline-block;line-height: 1.2em;}#sk-container-id-1 div.sk-label-container {text-align: center;}#sk-container-id-1 div.sk-container {/* jupyter's `normalize.less` sets `[hidden] { display: none; }` but bootstrap.min.css set `[hidden] { display: none !important; }` so we also need the `!important` here to be able to override the default hidden behavior on the sphinx rendered scikit-learn.org. See: https://github.com/scikit-learn/scikit-learn/issues/21755 */display: inline-block !important;position: relative;}#sk-container-id-1 div.sk-text-repr-fallback {display: none;}</style><div id=\"sk-container-id-1\" class=\"sk-top-container\"><div class=\"sk-text-repr-fallback\"><pre>Pipeline(steps=[(&#x27;scale&#x27;, StandardScaler()),\n",
       "                (&#x27;model&#x27;, LogisticRegression(C=0.1))])</pre><b>In a Jupyter environment, please rerun this cell to show the HTML representation or trust the notebook. <br />On GitHub, the HTML representation is unable to render, please try loading this page with nbviewer.org.</b></div><div class=\"sk-container\" hidden><div class=\"sk-item sk-dashed-wrapped\"><div class=\"sk-label-container\"><div class=\"sk-label sk-toggleable\"><input class=\"sk-toggleable__control sk-hidden--visually\" id=\"sk-estimator-id-1\" type=\"checkbox\" ><label for=\"sk-estimator-id-1\" class=\"sk-toggleable__label sk-toggleable__label-arrow\">Pipeline</label><div class=\"sk-toggleable__content\"><pre>Pipeline(steps=[(&#x27;scale&#x27;, StandardScaler()),\n",
       "                (&#x27;model&#x27;, LogisticRegression(C=0.1))])</pre></div></div></div><div class=\"sk-serial\"><div class=\"sk-item\"><div class=\"sk-estimator sk-toggleable\"><input class=\"sk-toggleable__control sk-hidden--visually\" id=\"sk-estimator-id-2\" type=\"checkbox\" ><label for=\"sk-estimator-id-2\" class=\"sk-toggleable__label sk-toggleable__label-arrow\">StandardScaler</label><div class=\"sk-toggleable__content\"><pre>StandardScaler()</pre></div></div></div><div class=\"sk-item\"><div class=\"sk-estimator sk-toggleable\"><input class=\"sk-toggleable__control sk-hidden--visually\" id=\"sk-estimator-id-3\" type=\"checkbox\" ><label for=\"sk-estimator-id-3\" class=\"sk-toggleable__label sk-toggleable__label-arrow\">LogisticRegression</label><div class=\"sk-toggleable__content\"><pre>LogisticRegression(C=0.1)</pre></div></div></div></div></div></div></div>"
      ],
      "text/plain": [
       "Pipeline(steps=[('scale', StandardScaler()),\n",
       "                ('model', LogisticRegression(C=0.1))])"
      ]
     },
     "execution_count": 34,
     "metadata": {},
     "output_type": "execute_result"
    }
   ],
   "source": [
    "model.fit(X_train, y_train.values.ravel())"
   ]
  },
  {
   "cell_type": "code",
   "execution_count": 35,
   "id": "a7cf2e16",
   "metadata": {
    "execution": {
     "iopub.execute_input": "2025-08-19T17:26:36.659490Z",
     "iopub.status.busy": "2025-08-19T17:26:36.658298Z",
     "iopub.status.idle": "2025-08-19T17:26:36.851872Z",
     "shell.execute_reply": "2025-08-19T17:26:36.851259Z"
    },
    "papermill": {
     "duration": 0.231607,
     "end_time": "2025-08-19T17:26:36.853038",
     "exception": false,
     "start_time": "2025-08-19T17:26:36.621431",
     "status": "completed"
    },
    "tags": []
   },
   "outputs": [
    {
     "data": {
      "text/plain": [
       "0.8575298183034221"
      ]
     },
     "execution_count": 35,
     "metadata": {},
     "output_type": "execute_result"
    }
   ],
   "source": [
    "from fairness_multiverse.universe import predict_w_threshold\n",
    "\n",
    "probs_test = model.predict_proba(X_test)\n",
    "\n",
    "'''\n",
    "Below code returns a boolean array (or binary 0/1 array depending on how it’s used) where each element \n",
    "is True if the probability of class 1 is greater than or equal to the threshold, and False otherwise.\n",
    "'''\n",
    "y_pred_default = predict_w_threshold(probs_test, 0.5)\n",
    "\n",
    "from sklearn.metrics import accuracy_score\n",
    "\n",
    "# Naive prediction\n",
    "accuracy_score(y_true = y_true, y_pred = y_pred_default)"
   ]
  },
  {
   "cell_type": "code",
   "execution_count": 36,
   "id": "081964c3",
   "metadata": {
    "execution": {
     "iopub.execute_input": "2025-08-19T17:26:36.884680Z",
     "iopub.status.busy": "2025-08-19T17:26:36.884154Z",
     "iopub.status.idle": "2025-08-19T17:26:37.061644Z",
     "shell.execute_reply": "2025-08-19T17:26:37.060806Z"
    },
    "papermill": {
     "duration": 0.195301,
     "end_time": "2025-08-19T17:26:37.063094",
     "exception": false,
     "start_time": "2025-08-19T17:26:36.867793",
     "status": "completed"
    },
    "tags": []
   },
   "outputs": [
    {
     "data": {
      "text/plain": [
       "array([0, 0, 0, ..., 0, 0, 0])"
      ]
     },
     "execution_count": 36,
     "metadata": {},
     "output_type": "execute_result"
    }
   ],
   "source": [
    "model.predict(X_test)"
   ]
  },
  {
   "cell_type": "markdown",
   "id": "56c9705b",
   "metadata": {
    "papermill": {
     "duration": 0.011356,
     "end_time": "2025-08-19T17:26:37.086326",
     "exception": false,
     "start_time": "2025-08-19T17:26:37.074970",
     "status": "completed"
    },
    "tags": []
   },
   "source": [
    "# Conformal Prediction"
   ]
  },
  {
   "cell_type": "code",
   "execution_count": 37,
   "id": "160ec6ff",
   "metadata": {
    "execution": {
     "iopub.execute_input": "2025-08-19T17:26:37.111281Z",
     "iopub.status.busy": "2025-08-19T17:26:37.110089Z",
     "iopub.status.idle": "2025-08-19T17:26:37.117036Z",
     "shell.execute_reply": "2025-08-19T17:26:37.115821Z"
    },
    "papermill": {
     "duration": 0.022293,
     "end_time": "2025-08-19T17:26:37.119728",
     "exception": false,
     "start_time": "2025-08-19T17:26:37.097435",
     "status": "completed"
    },
    "tags": []
   },
   "outputs": [],
   "source": [
    "# Miscoverage level for conformal prediction (10% allowed error rate => 90% target coverage)\n",
    "alpha = 0.1"
   ]
  },
  {
   "cell_type": "code",
   "execution_count": 38,
   "id": "eadf4555-3dd3-440e-8e35-f82a4ad9f855",
   "metadata": {
    "execution": {
     "iopub.execute_input": "2025-08-19T17:26:37.161876Z",
     "iopub.status.busy": "2025-08-19T17:26:37.160629Z",
     "iopub.status.idle": "2025-08-19T17:26:37.342575Z",
     "shell.execute_reply": "2025-08-19T17:26:37.341483Z"
    },
    "papermill": {
     "duration": 0.198889,
     "end_time": "2025-08-19T17:26:37.344142",
     "exception": false,
     "start_time": "2025-08-19T17:26:37.145253",
     "status": "completed"
    },
    "tags": []
   },
   "outputs": [],
   "source": [
    "probs_calib = model.predict_proba(X_calib)"
   ]
  },
  {
   "cell_type": "code",
   "execution_count": 39,
   "id": "2ed93547-6d5d-4983-9b36-1ecb300da49a",
   "metadata": {
    "execution": {
     "iopub.execute_input": "2025-08-19T17:26:37.392765Z",
     "iopub.status.busy": "2025-08-19T17:26:37.391584Z",
     "iopub.status.idle": "2025-08-19T17:26:37.401368Z",
     "shell.execute_reply": "2025-08-19T17:26:37.399786Z"
    },
    "papermill": {
     "duration": 0.025705,
     "end_time": "2025-08-19T17:26:37.402951",
     "exception": false,
     "start_time": "2025-08-19T17:26:37.377246",
     "status": "completed"
    },
    "tags": []
   },
   "outputs": [],
   "source": [
    "y_calib = y_calib.values.ravel().astype(int)"
   ]
  },
  {
   "cell_type": "code",
   "execution_count": 40,
   "id": "65d1320d-f588-4b38-9072-62af1ae97f7d",
   "metadata": {
    "execution": {
     "iopub.execute_input": "2025-08-19T17:26:37.439881Z",
     "iopub.status.busy": "2025-08-19T17:26:37.433431Z",
     "iopub.status.idle": "2025-08-19T17:26:37.446327Z",
     "shell.execute_reply": "2025-08-19T17:26:37.445449Z"
    },
    "papermill": {
     "duration": 0.030588,
     "end_time": "2025-08-19T17:26:37.447873",
     "exception": false,
     "start_time": "2025-08-19T17:26:37.417285",
     "status": "completed"
    },
    "tags": []
   },
   "outputs": [],
   "source": [
    "from fairness_multiverse.conformal import compute_nc_scores\n",
    "\n",
    "# Compute nonconformity scores on calibration set (1 - probability of true class)\n",
    "nc_scores = compute_nc_scores(probs_calib, y_calib)"
   ]
  },
  {
   "cell_type": "code",
   "execution_count": 41,
   "id": "df3b8ca3-53b7-43d5-9667-7c85da7aeda2",
   "metadata": {
    "execution": {
     "iopub.execute_input": "2025-08-19T17:26:37.477260Z",
     "iopub.status.busy": "2025-08-19T17:26:37.476866Z",
     "iopub.status.idle": "2025-08-19T17:26:37.482475Z",
     "shell.execute_reply": "2025-08-19T17:26:37.481574Z"
    },
    "papermill": {
     "duration": 0.019962,
     "end_time": "2025-08-19T17:26:37.483784",
     "exception": false,
     "start_time": "2025-08-19T17:26:37.463822",
     "status": "completed"
    },
    "tags": []
   },
   "outputs": [],
   "source": [
    "from fairness_multiverse.conformal import find_threshold\n",
    "\n",
    "# Find conformal threshold q_hat for the given alpha (split conformal method)\n",
    "q_hat = find_threshold(nc_scores, alpha)"
   ]
  },
  {
   "cell_type": "code",
   "execution_count": 42,
   "id": "4d29e6c1-0ef6-4aa4-b8fe-4fe79b0d033a",
   "metadata": {
    "execution": {
     "iopub.execute_input": "2025-08-19T17:26:37.509616Z",
     "iopub.status.busy": "2025-08-19T17:26:37.509289Z",
     "iopub.status.idle": "2025-08-19T17:26:37.515075Z",
     "shell.execute_reply": "2025-08-19T17:26:37.514291Z"
    },
    "papermill": {
     "duration": 0.01932,
     "end_time": "2025-08-19T17:26:37.516435",
     "exception": false,
     "start_time": "2025-08-19T17:26:37.497115",
     "status": "completed"
    },
    "tags": []
   },
   "outputs": [
    {
     "data": {
      "text/plain": [
       "0.6886016590862862"
      ]
     },
     "execution_count": 42,
     "metadata": {},
     "output_type": "execute_result"
    }
   ],
   "source": [
    "q_hat"
   ]
  },
  {
   "cell_type": "code",
   "execution_count": 43,
   "id": "92460794-cdac-4be2-ba28-f28c0515a6fb",
   "metadata": {
    "execution": {
     "iopub.execute_input": "2025-08-19T17:26:37.542207Z",
     "iopub.status.busy": "2025-08-19T17:26:37.541173Z",
     "iopub.status.idle": "2025-08-19T17:26:38.174556Z",
     "shell.execute_reply": "2025-08-19T17:26:38.170569Z"
    },
    "papermill": {
     "duration": 0.648321,
     "end_time": "2025-08-19T17:26:38.176894",
     "exception": false,
     "start_time": "2025-08-19T17:26:37.528573",
     "status": "completed"
    },
    "tags": []
   },
   "outputs": [],
   "source": [
    "from fairness_multiverse.conformal import predict_conformal_sets\n",
    "\n",
    "# Generate prediction sets for each test example\n",
    "pred_sets = predict_conformal_sets(model, X_test, q_hat)"
   ]
  },
  {
   "cell_type": "code",
   "execution_count": 44,
   "id": "d90c9a65-e6db-4f5d-80cd-e68fb7e46829",
   "metadata": {
    "execution": {
     "iopub.execute_input": "2025-08-19T17:26:38.209576Z",
     "iopub.status.busy": "2025-08-19T17:26:38.209187Z",
     "iopub.status.idle": "2025-08-19T17:26:38.213722Z",
     "shell.execute_reply": "2025-08-19T17:26:38.213040Z"
    },
    "papermill": {
     "duration": 0.018885,
     "end_time": "2025-08-19T17:26:38.214861",
     "exception": false,
     "start_time": "2025-08-19T17:26:38.195976",
     "status": "completed"
    },
    "tags": []
   },
   "outputs": [],
   "source": [
    "y_true = y_true.squeeze()"
   ]
  },
  {
   "cell_type": "code",
   "execution_count": 45,
   "id": "3a58a54a-1e68-46b9-927a-df01f18aebc8",
   "metadata": {
    "execution": {
     "iopub.execute_input": "2025-08-19T17:26:38.239936Z",
     "iopub.status.busy": "2025-08-19T17:26:38.239604Z",
     "iopub.status.idle": "2025-08-19T17:26:38.739104Z",
     "shell.execute_reply": "2025-08-19T17:26:38.737881Z"
    },
    "papermill": {
     "duration": 0.514177,
     "end_time": "2025-08-19T17:26:38.741078",
     "exception": false,
     "start_time": "2025-08-19T17:26:38.226901",
     "status": "completed"
    },
    "tags": []
   },
   "outputs": [],
   "source": [
    "from fairness_multiverse.conformal import evaluate_sets\n",
    "\n",
    "# Evaluate coverage and average set size on test data\n",
    "metrics = evaluate_sets(pred_sets, y_true)"
   ]
  },
  {
   "cell_type": "markdown",
   "id": "2b569c12-9aaa-4c88-98c9-bbcd0cf3ebb8",
   "metadata": {
    "papermill": {
     "duration": 0.012303,
     "end_time": "2025-08-19T17:26:38.778237",
     "exception": false,
     "start_time": "2025-08-19T17:26:38.765934",
     "status": "completed"
    },
    "tags": []
   },
   "source": [
    "# CP Metrics"
   ]
  },
  {
   "cell_type": "code",
   "execution_count": 46,
   "id": "5ce0a5cb-201f-45a0-ade5-94c7f0bd6095",
   "metadata": {
    "execution": {
     "iopub.execute_input": "2025-08-19T17:26:38.805541Z",
     "iopub.status.busy": "2025-08-19T17:26:38.804152Z",
     "iopub.status.idle": "2025-08-19T17:26:38.817534Z",
     "shell.execute_reply": "2025-08-19T17:26:38.816339Z"
    },
    "papermill": {
     "duration": 0.029001,
     "end_time": "2025-08-19T17:26:38.818969",
     "exception": false,
     "start_time": "2025-08-19T17:26:38.789968",
     "status": "completed"
    },
    "tags": []
   },
   "outputs": [
    {
     "data": {
      "text/plain": [
       "{'coverage': 0.9097759447107346, 'avg_size': 1.1348790547319139}"
      ]
     },
     "execution_count": 46,
     "metadata": {},
     "output_type": "execute_result"
    }
   ],
   "source": [
    "metrics"
   ]
  },
  {
   "cell_type": "code",
   "execution_count": 47,
   "id": "9b9a838d-31c9-430b-ae14-12baee460d17",
   "metadata": {
    "execution": {
     "iopub.execute_input": "2025-08-19T17:26:38.850188Z",
     "iopub.status.busy": "2025-08-19T17:26:38.849024Z",
     "iopub.status.idle": "2025-08-19T17:26:38.859196Z",
     "shell.execute_reply": "2025-08-19T17:26:38.858099Z"
    },
    "papermill": {
     "duration": 0.025803,
     "end_time": "2025-08-19T17:26:38.860869",
     "exception": false,
     "start_time": "2025-08-19T17:26:38.835066",
     "status": "completed"
    },
    "tags": []
   },
   "outputs": [],
   "source": [
    "example_universe = universe.copy()\n",
    "universe_training_year = example_universe.get(\"training_year\")\n",
    "universe_training_size = example_universe.get(\"training_size\")\n",
    "universe_scale = example_universe.get(\"scale\")\n",
    "universe_model = example_universe.get(\"model\")\n",
    "universe_exclude_features = example_universe.get(\"exclude_features\")\n",
    "universe_exclude_subgroups = example_universe.get(\"exclude_subgroups\")"
   ]
  },
  {
   "cell_type": "code",
   "execution_count": 48,
   "id": "f4b6a8ac-9dc0-4245-8a91-5b3b5999c4f9",
   "metadata": {
    "execution": {
     "iopub.execute_input": "2025-08-19T17:26:38.906911Z",
     "iopub.status.busy": "2025-08-19T17:26:38.905704Z",
     "iopub.status.idle": "2025-08-19T17:26:38.913999Z",
     "shell.execute_reply": "2025-08-19T17:26:38.912956Z"
    },
    "papermill": {
     "duration": 0.041682,
     "end_time": "2025-08-19T17:26:38.918563",
     "exception": false,
     "start_time": "2025-08-19T17:26:38.876881",
     "status": "completed"
    },
    "tags": []
   },
   "outputs": [],
   "source": [
    "cp_metrics_dict = {\n",
    "    \"universe_id\": [universe_id],\n",
    "    \"universe_training_year\": [universe_training_year],\n",
    "    \"universe_training_size\": [universe_training_size],\n",
    "    \"universe_scale\": [universe_scale],\n",
    "    \"universe_model\": [universe_model],\n",
    "    \"universe_exclude_features\": [universe_exclude_features],\n",
    "    \"universe_exclude_subgroups\": [universe_exclude_subgroups],\n",
    "    \"q_hat\": [q_hat],\n",
    "    \"coverage\": [metrics[\"coverage\"]],\n",
    "    \"avg_size\": [metrics[\"avg_size\"]],\n",
    "}"
   ]
  },
  {
   "cell_type": "code",
   "execution_count": 49,
   "id": "33007efc-14e9-4ec6-97ac-56a455c82265",
   "metadata": {
    "execution": {
     "iopub.execute_input": "2025-08-19T17:26:38.948394Z",
     "iopub.status.busy": "2025-08-19T17:26:38.947976Z",
     "iopub.status.idle": "2025-08-19T17:26:38.953945Z",
     "shell.execute_reply": "2025-08-19T17:26:38.953343Z"
    },
    "papermill": {
     "duration": 0.020547,
     "end_time": "2025-08-19T17:26:38.955359",
     "exception": false,
     "start_time": "2025-08-19T17:26:38.934812",
     "status": "completed"
    },
    "tags": []
   },
   "outputs": [],
   "source": [
    "cp_metrics_df = pd.DataFrame(cp_metrics_dict)"
   ]
  },
  {
   "cell_type": "code",
   "execution_count": 50,
   "id": "db12611b-57b2-4910-b9d0-355adfd6e7bf",
   "metadata": {
    "execution": {
     "iopub.execute_input": "2025-08-19T17:26:38.981564Z",
     "iopub.status.busy": "2025-08-19T17:26:38.981165Z",
     "iopub.status.idle": "2025-08-19T17:26:38.994204Z",
     "shell.execute_reply": "2025-08-19T17:26:38.993443Z"
    },
    "papermill": {
     "duration": 0.03378,
     "end_time": "2025-08-19T17:26:39.001749",
     "exception": false,
     "start_time": "2025-08-19T17:26:38.967969",
     "status": "completed"
    },
    "tags": []
   },
   "outputs": [
    {
     "data": {
      "text/html": [
       "<div>\n",
       "<style scoped>\n",
       "    .dataframe tbody tr th:only-of-type {\n",
       "        vertical-align: middle;\n",
       "    }\n",
       "\n",
       "    .dataframe tbody tr th {\n",
       "        vertical-align: top;\n",
       "    }\n",
       "\n",
       "    .dataframe thead th {\n",
       "        text-align: right;\n",
       "    }\n",
       "</style>\n",
       "<table border=\"1\" class=\"dataframe\">\n",
       "  <thead>\n",
       "    <tr style=\"text-align: right;\">\n",
       "      <th></th>\n",
       "      <th>universe_id</th>\n",
       "      <th>universe_training_year</th>\n",
       "      <th>universe_training_size</th>\n",
       "      <th>universe_scale</th>\n",
       "      <th>universe_model</th>\n",
       "      <th>universe_exclude_features</th>\n",
       "      <th>universe_exclude_subgroups</th>\n",
       "      <th>q_hat</th>\n",
       "      <th>coverage</th>\n",
       "      <th>avg_size</th>\n",
       "    </tr>\n",
       "  </thead>\n",
       "  <tbody>\n",
       "    <tr>\n",
       "      <th>0</th>\n",
       "      <td>a176bb5b57c66783a496e70d8bd9a7c0</td>\n",
       "      <td>2014</td>\n",
       "      <td>5k</td>\n",
       "      <td>scale</td>\n",
       "      <td>penalized_logreg</td>\n",
       "      <td>none</td>\n",
       "      <td>drop-non-german</td>\n",
       "      <td>0.688602</td>\n",
       "      <td>0.909776</td>\n",
       "      <td>1.134879</td>\n",
       "    </tr>\n",
       "  </tbody>\n",
       "</table>\n",
       "</div>"
      ],
      "text/plain": [
       "                        universe_id universe_training_year  \\\n",
       "0  a176bb5b57c66783a496e70d8bd9a7c0                   2014   \n",
       "\n",
       "  universe_training_size universe_scale    universe_model  \\\n",
       "0                     5k          scale  penalized_logreg   \n",
       "\n",
       "  universe_exclude_features universe_exclude_subgroups     q_hat  coverage  \\\n",
       "0                      none            drop-non-german  0.688602  0.909776   \n",
       "\n",
       "   avg_size  \n",
       "0  1.134879  "
      ]
     },
     "execution_count": 50,
     "metadata": {},
     "output_type": "execute_result"
    }
   ],
   "source": [
    "cp_metrics_df"
   ]
  },
  {
   "cell_type": "markdown",
   "id": "c825ecb4-0d3d-41d6-b7c6-eccb21272259",
   "metadata": {
    "papermill": {
     "duration": 0.012598,
     "end_time": "2025-08-19T17:26:39.029481",
     "exception": false,
     "start_time": "2025-08-19T17:26:39.016883",
     "status": "completed"
    },
    "tags": []
   },
   "source": [
    "Conditional coverage & looking at subgroups"
   ]
  },
  {
   "cell_type": "code",
   "execution_count": 51,
   "id": "027ae886-68dd-4141-96c7-805a5450e1ef",
   "metadata": {
    "execution": {
     "iopub.execute_input": "2025-08-19T17:26:39.056356Z",
     "iopub.status.busy": "2025-08-19T17:26:39.055939Z",
     "iopub.status.idle": "2025-08-19T17:26:39.336341Z",
     "shell.execute_reply": "2025-08-19T17:26:39.335227Z"
    },
    "papermill": {
     "duration": 0.297358,
     "end_time": "2025-08-19T17:26:39.339494",
     "exception": false,
     "start_time": "2025-08-19T17:26:39.042136",
     "status": "completed"
    },
    "tags": []
   },
   "outputs": [],
   "source": [
    "from fairness_multiverse.conformal import build_cp_groups\n",
    "\n",
    "cp_groups_df = build_cp_groups(pred_sets, y_true, X_test.index, org_test)"
   ]
  },
  {
   "cell_type": "code",
   "execution_count": 52,
   "id": "6cbdab96-b2b2-45af-ad54-d0516db2e28d",
   "metadata": {
    "execution": {
     "iopub.execute_input": "2025-08-19T17:26:39.403471Z",
     "iopub.status.busy": "2025-08-19T17:26:39.402535Z",
     "iopub.status.idle": "2025-08-19T17:26:40.267701Z",
     "shell.execute_reply": "2025-08-19T17:26:40.266514Z"
    },
    "papermill": {
     "duration": 0.899923,
     "end_time": "2025-08-19T17:26:40.269275",
     "exception": false,
     "start_time": "2025-08-19T17:26:39.369352",
     "status": "completed"
    },
    "tags": []
   },
   "outputs": [],
   "source": [
    "# Define covered = 1 if true_label is in the predicted set\n",
    "cp_groups_df['covered'] = cp_groups_df.apply(\n",
    "    lambda r: int(r['true_label'] in r['pred_set']),\n",
    "    axis=1\n",
    ")"
   ]
  },
  {
   "cell_type": "code",
   "execution_count": 53,
   "id": "90032e27-66df-4540-9169-4e89cfbaa758",
   "metadata": {
    "execution": {
     "iopub.execute_input": "2025-08-19T17:26:40.313560Z",
     "iopub.status.busy": "2025-08-19T17:26:40.312227Z",
     "iopub.status.idle": "2025-08-19T17:26:40.333181Z",
     "shell.execute_reply": "2025-08-19T17:26:40.331908Z"
    },
    "papermill": {
     "duration": 0.04485,
     "end_time": "2025-08-19T17:26:40.334887",
     "exception": false,
     "start_time": "2025-08-19T17:26:40.290037",
     "status": "completed"
    },
    "tags": []
   },
   "outputs": [],
   "source": [
    "subgroups = ['frau1','nongerman','nongerman_male','nongerman_female']\n",
    "\n",
    "# Conditional coverage for subgroup==1\n",
    "cond_coverage = {\n",
    "    g: cp_groups_df.loc[cp_groups_df[g]==1, 'covered'].mean()\n",
    "    for g in subgroups\n",
    "}"
   ]
  },
  {
   "cell_type": "code",
   "execution_count": 54,
   "id": "1e348fb1-b9c3-45bc-ba23-f016827a7e0d",
   "metadata": {
    "execution": {
     "iopub.execute_input": "2025-08-19T17:26:40.378975Z",
     "iopub.status.busy": "2025-08-19T17:26:40.378528Z",
     "iopub.status.idle": "2025-08-19T17:26:40.385306Z",
     "shell.execute_reply": "2025-08-19T17:26:40.384506Z"
    },
    "papermill": {
     "duration": 0.038972,
     "end_time": "2025-08-19T17:26:40.393075",
     "exception": false,
     "start_time": "2025-08-19T17:26:40.354103",
     "status": "completed"
    },
    "tags": []
   },
   "outputs": [
    {
     "data": {
      "text/plain": [
       "{'frau1': 0.9064563957406658,\n",
       " 'nongerman': 0.906753494638747,\n",
       " 'nongerman_male': 0.9263262181392417,\n",
       " 'nongerman_female': 0.8743666169895679}"
      ]
     },
     "execution_count": 54,
     "metadata": {},
     "output_type": "execute_result"
    }
   ],
   "source": [
    "cond_coverage"
   ]
  },
  {
   "cell_type": "code",
   "execution_count": 55,
   "id": "f5093324-c3dd-4d63-bc4c-8d945e5c8bbb",
   "metadata": {
    "execution": {
     "iopub.execute_input": "2025-08-19T17:26:40.431399Z",
     "iopub.status.busy": "2025-08-19T17:26:40.430126Z",
     "iopub.status.idle": "2025-08-19T17:26:40.442342Z",
     "shell.execute_reply": "2025-08-19T17:26:40.440830Z"
    },
    "papermill": {
     "duration": 0.028285,
     "end_time": "2025-08-19T17:26:40.444261",
     "exception": false,
     "start_time": "2025-08-19T17:26:40.415976",
     "status": "completed"
    },
    "tags": []
   },
   "outputs": [],
   "source": [
    "for subgroup, cov in cond_coverage.items():\n",
    "    cp_metrics_df[f\"cov_{subgroup}\"] = cov"
   ]
  },
  {
   "cell_type": "code",
   "execution_count": 56,
   "id": "6e872e10-dbe5-49e8-b554-5030c98ff75d",
   "metadata": {
    "execution": {
     "iopub.execute_input": "2025-08-19T17:26:40.477245Z",
     "iopub.status.busy": "2025-08-19T17:26:40.476047Z",
     "iopub.status.idle": "2025-08-19T17:26:40.501651Z",
     "shell.execute_reply": "2025-08-19T17:26:40.500790Z"
    },
    "papermill": {
     "duration": 0.041829,
     "end_time": "2025-08-19T17:26:40.503858",
     "exception": false,
     "start_time": "2025-08-19T17:26:40.462029",
     "status": "completed"
    },
    "tags": []
   },
   "outputs": [
    {
     "data": {
      "text/html": [
       "<div>\n",
       "<style scoped>\n",
       "    .dataframe tbody tr th:only-of-type {\n",
       "        vertical-align: middle;\n",
       "    }\n",
       "\n",
       "    .dataframe tbody tr th {\n",
       "        vertical-align: top;\n",
       "    }\n",
       "\n",
       "    .dataframe thead th {\n",
       "        text-align: right;\n",
       "    }\n",
       "</style>\n",
       "<table border=\"1\" class=\"dataframe\">\n",
       "  <thead>\n",
       "    <tr style=\"text-align: right;\">\n",
       "      <th></th>\n",
       "      <th>universe_id</th>\n",
       "      <th>universe_training_year</th>\n",
       "      <th>universe_training_size</th>\n",
       "      <th>universe_scale</th>\n",
       "      <th>universe_model</th>\n",
       "      <th>universe_exclude_features</th>\n",
       "      <th>universe_exclude_subgroups</th>\n",
       "      <th>q_hat</th>\n",
       "      <th>coverage</th>\n",
       "      <th>avg_size</th>\n",
       "      <th>cov_frau1</th>\n",
       "      <th>cov_nongerman</th>\n",
       "      <th>cov_nongerman_male</th>\n",
       "      <th>cov_nongerman_female</th>\n",
       "    </tr>\n",
       "  </thead>\n",
       "  <tbody>\n",
       "    <tr>\n",
       "      <th>0</th>\n",
       "      <td>a176bb5b57c66783a496e70d8bd9a7c0</td>\n",
       "      <td>2014</td>\n",
       "      <td>5k</td>\n",
       "      <td>scale</td>\n",
       "      <td>penalized_logreg</td>\n",
       "      <td>none</td>\n",
       "      <td>drop-non-german</td>\n",
       "      <td>0.688602</td>\n",
       "      <td>0.909776</td>\n",
       "      <td>1.134879</td>\n",
       "      <td>0.906456</td>\n",
       "      <td>0.906753</td>\n",
       "      <td>0.926326</td>\n",
       "      <td>0.874367</td>\n",
       "    </tr>\n",
       "  </tbody>\n",
       "</table>\n",
       "</div>"
      ],
      "text/plain": [
       "                        universe_id universe_training_year  \\\n",
       "0  a176bb5b57c66783a496e70d8bd9a7c0                   2014   \n",
       "\n",
       "  universe_training_size universe_scale    universe_model  \\\n",
       "0                     5k          scale  penalized_logreg   \n",
       "\n",
       "  universe_exclude_features universe_exclude_subgroups     q_hat  coverage  \\\n",
       "0                      none            drop-non-german  0.688602  0.909776   \n",
       "\n",
       "   avg_size  cov_frau1  cov_nongerman  cov_nongerman_male  \\\n",
       "0  1.134879   0.906456       0.906753            0.926326   \n",
       "\n",
       "   cov_nongerman_female  \n",
       "0              0.874367  "
      ]
     },
     "execution_count": 56,
     "metadata": {},
     "output_type": "execute_result"
    }
   ],
   "source": [
    "cp_metrics_df"
   ]
  },
  {
   "cell_type": "markdown",
   "id": "33774451",
   "metadata": {
    "papermill": {
     "duration": 0.012623,
     "end_time": "2025-08-19T17:26:40.536195",
     "exception": false,
     "start_time": "2025-08-19T17:26:40.523572",
     "status": "completed"
    },
    "tags": []
   },
   "source": [
    "# (Fairness) Metrics"
   ]
  },
  {
   "cell_type": "code",
   "execution_count": 57,
   "id": "debc5d62",
   "metadata": {
    "execution": {
     "iopub.execute_input": "2025-08-19T17:26:40.563187Z",
     "iopub.status.busy": "2025-08-19T17:26:40.562737Z",
     "iopub.status.idle": "2025-08-19T17:26:40.578731Z",
     "shell.execute_reply": "2025-08-19T17:26:40.577708Z"
    },
    "papermill": {
     "duration": 0.030873,
     "end_time": "2025-08-19T17:26:40.580069",
     "exception": false,
     "start_time": "2025-08-19T17:26:40.549196",
     "status": "completed"
    },
    "tags": []
   },
   "outputs": [],
   "source": [
    "colname_to_bin = \"maxdeutsch1\"\n",
    "majority_value = org_train[colname_to_bin].mode()[0]\n",
    "\n",
    "org_test[\"majmin\"] = np.where(org_test[colname_to_bin] == majority_value, \"majority\", \"minority\")"
   ]
  },
  {
   "cell_type": "code",
   "execution_count": 58,
   "id": "06a50de5",
   "metadata": {
    "execution": {
     "iopub.execute_input": "2025-08-19T17:26:40.612623Z",
     "iopub.status.busy": "2025-08-19T17:26:40.611704Z",
     "iopub.status.idle": "2025-08-19T17:26:42.351736Z",
     "shell.execute_reply": "2025-08-19T17:26:42.350482Z"
    },
    "papermill": {
     "duration": 1.760956,
     "end_time": "2025-08-19T17:26:42.353755",
     "exception": false,
     "start_time": "2025-08-19T17:26:40.592799",
     "status": "completed"
    },
    "tags": []
   },
   "outputs": [],
   "source": [
    "example_universe = universe.copy()\n",
    "example_universe[\"cutoff\"] = example_universe[\"cutoff\"][0]\n",
    "example_universe[\"eval_fairness_grouping\"] = example_universe[\"eval_fairness_grouping\"][0]\n",
    "fairness_dict, metric_frame = universe_analysis.compute_metrics(\n",
    "    example_universe,\n",
    "    y_pred_prob=probs_test,\n",
    "    y_test=y_true,\n",
    "    org_test=org_test,\n",
    ")"
   ]
  },
  {
   "cell_type": "markdown",
   "id": "f95d4e02",
   "metadata": {
    "papermill": {
     "duration": 0.013701,
     "end_time": "2025-08-19T17:26:42.386000",
     "exception": false,
     "start_time": "2025-08-19T17:26:42.372299",
     "status": "completed"
    },
    "tags": []
   },
   "source": [
    "# Overall"
   ]
  },
  {
   "cell_type": "markdown",
   "id": "bdee4871",
   "metadata": {
    "papermill": {
     "duration": 0.016019,
     "end_time": "2025-08-19T17:26:42.420400",
     "exception": false,
     "start_time": "2025-08-19T17:26:42.404381",
     "status": "completed"
    },
    "tags": []
   },
   "source": [
    "Main fairness target: Equalized Odds. Seems to be a better fit than equal opportunity, since we're not only interested in Y = 1. Seems to be a better fit than demographic parity, since we also care about accuracy, not just equal distribution of preds.\n",
    "\n",
    "Pick column for computation of fairness metrics\n",
    "\n",
    "Performance\n",
    "Overall performance measures, most interesting in relation to the measures split by group below"
   ]
  },
  {
   "cell_type": "code",
   "execution_count": 59,
   "id": "c4e067c6",
   "metadata": {
    "execution": {
     "iopub.execute_input": "2025-08-19T17:26:42.447058Z",
     "iopub.status.busy": "2025-08-19T17:26:42.446599Z",
     "iopub.status.idle": "2025-08-19T17:26:42.454530Z",
     "shell.execute_reply": "2025-08-19T17:26:42.453874Z"
    },
    "papermill": {
     "duration": 0.022698,
     "end_time": "2025-08-19T17:26:42.455660",
     "exception": false,
     "start_time": "2025-08-19T17:26:42.432962",
     "status": "completed"
    },
    "tags": []
   },
   "outputs": [
    {
     "data": {
      "text/plain": [
       "accuracy                   0.223910\n",
       "balanced accuracy          0.547589\n",
       "f1                         0.245255\n",
       "precision                  0.140106\n",
       "false positive rate        0.887791\n",
       "false negative rate        0.017032\n",
       "selection rate             0.900000\n",
       "count                  89710.000000\n",
       "dtype: float64"
      ]
     },
     "execution_count": 59,
     "metadata": {},
     "output_type": "execute_result"
    }
   ],
   "source": [
    "metric_frame.overall"
   ]
  },
  {
   "cell_type": "markdown",
   "id": "e968fe9d",
   "metadata": {
    "papermill": {
     "duration": 0.014008,
     "end_time": "2025-08-19T17:26:42.489873",
     "exception": false,
     "start_time": "2025-08-19T17:26:42.475865",
     "status": "completed"
    },
    "tags": []
   },
   "source": [
    "By Group"
   ]
  },
  {
   "cell_type": "code",
   "execution_count": 60,
   "id": "ec325bce",
   "metadata": {
    "execution": {
     "iopub.execute_input": "2025-08-19T17:26:42.516928Z",
     "iopub.status.busy": "2025-08-19T17:26:42.516518Z",
     "iopub.status.idle": "2025-08-19T17:26:42.531989Z",
     "shell.execute_reply": "2025-08-19T17:26:42.530207Z"
    },
    "papermill": {
     "duration": 0.031378,
     "end_time": "2025-08-19T17:26:42.534094",
     "exception": false,
     "start_time": "2025-08-19T17:26:42.502716",
     "status": "completed"
    },
    "tags": []
   },
   "outputs": [
    {
     "data": {
      "text/html": [
       "<div>\n",
       "<style scoped>\n",
       "    .dataframe tbody tr th:only-of-type {\n",
       "        vertical-align: middle;\n",
       "    }\n",
       "\n",
       "    .dataframe tbody tr th {\n",
       "        vertical-align: top;\n",
       "    }\n",
       "\n",
       "    .dataframe thead th {\n",
       "        text-align: right;\n",
       "    }\n",
       "</style>\n",
       "<table border=\"1\" class=\"dataframe\">\n",
       "  <thead>\n",
       "    <tr style=\"text-align: right;\">\n",
       "      <th></th>\n",
       "      <th>accuracy</th>\n",
       "      <th>balanced accuracy</th>\n",
       "      <th>f1</th>\n",
       "      <th>precision</th>\n",
       "      <th>false positive rate</th>\n",
       "      <th>false negative rate</th>\n",
       "      <th>selection rate</th>\n",
       "      <th>count</th>\n",
       "    </tr>\n",
       "    <tr>\n",
       "      <th>majmin</th>\n",
       "      <th></th>\n",
       "      <th></th>\n",
       "      <th></th>\n",
       "      <th></th>\n",
       "      <th></th>\n",
       "      <th></th>\n",
       "      <th></th>\n",
       "      <th></th>\n",
       "    </tr>\n",
       "  </thead>\n",
       "  <tbody>\n",
       "    <tr>\n",
       "      <th>majority</th>\n",
       "      <td>0.239294</td>\n",
       "      <td>0.554455</td>\n",
       "      <td>0.254534</td>\n",
       "      <td>0.146198</td>\n",
       "      <td>0.873913</td>\n",
       "      <td>0.017177</td>\n",
       "      <td>0.888304</td>\n",
       "      <td>69170.0</td>\n",
       "    </tr>\n",
       "    <tr>\n",
       "      <th>minority</th>\n",
       "      <td>0.172103</td>\n",
       "      <td>0.524948</td>\n",
       "      <td>0.215021</td>\n",
       "      <td>0.120705</td>\n",
       "      <td>0.933634</td>\n",
       "      <td>0.016470</td>\n",
       "      <td>0.939387</td>\n",
       "      <td>20540.0</td>\n",
       "    </tr>\n",
       "  </tbody>\n",
       "</table>\n",
       "</div>"
      ],
      "text/plain": [
       "          accuracy  balanced accuracy        f1  precision  \\\n",
       "majmin                                                       \n",
       "majority  0.239294           0.554455  0.254534   0.146198   \n",
       "minority  0.172103           0.524948  0.215021   0.120705   \n",
       "\n",
       "          false positive rate  false negative rate  selection rate    count  \n",
       "majmin                                                                       \n",
       "majority             0.873913             0.017177        0.888304  69170.0  \n",
       "minority             0.933634             0.016470        0.939387  20540.0  "
      ]
     },
     "execution_count": 60,
     "metadata": {},
     "output_type": "execute_result"
    }
   ],
   "source": [
    "metric_frame.by_group"
   ]
  },
  {
   "cell_type": "code",
   "execution_count": 61,
   "id": "a9ddbe63",
   "metadata": {
    "execution": {
     "iopub.execute_input": "2025-08-19T17:26:42.563587Z",
     "iopub.status.busy": "2025-08-19T17:26:42.562096Z",
     "iopub.status.idle": "2025-08-19T17:26:44.481433Z",
     "shell.execute_reply": "2025-08-19T17:26:44.480173Z"
    },
    "papermill": {
     "duration": 1.935324,
     "end_time": "2025-08-19T17:26:44.482849",
     "exception": false,
     "start_time": "2025-08-19T17:26:42.547525",
     "status": "completed"
    },
    "tags": []
   },
   "outputs": [
    {
     "data": {
      "text/plain": [
       "array([[<Axes: title={'center': 'accuracy'}, xlabel='majmin'>,\n",
       "        <Axes: title={'center': 'balanced accuracy'}, xlabel='majmin'>,\n",
       "        <Axes: title={'center': 'f1'}, xlabel='majmin'>],\n",
       "       [<Axes: title={'center': 'precision'}, xlabel='majmin'>,\n",
       "        <Axes: title={'center': 'false positive rate'}, xlabel='majmin'>,\n",
       "        <Axes: title={'center': 'false negative rate'}, xlabel='majmin'>],\n",
       "       [<Axes: title={'center': 'selection rate'}, xlabel='majmin'>,\n",
       "        <Axes: title={'center': 'count'}, xlabel='majmin'>,\n",
       "        <Axes: xlabel='majmin'>]], dtype=object)"
      ]
     },
     "execution_count": 61,
     "metadata": {},
     "output_type": "execute_result"
    },
    {
     "data": {
      "image/png": "[encoded data removed]",
      "text/plain": [
       "<Figure size 1200x800 with 9 Axes>"
      ]
     },
     "metadata": {},
     "output_type": "display_data"
    }
   ],
   "source": [
    "# In a graphic\n",
    "metric_frame.by_group.plot.bar(\n",
    "    subplots=True,\n",
    "    layout=[3, 3],\n",
    "    legend=False,\n",
    "    figsize=[12, 8],\n",
    "    title=\"Show all metrics\",\n",
    ")"
   ]
  },
  {
   "cell_type": "markdown",
   "id": "f57a0bac",
   "metadata": {
    "papermill": {
     "duration": 0.013784,
     "end_time": "2025-08-19T17:26:44.512950",
     "exception": false,
     "start_time": "2025-08-19T17:26:44.499166",
     "status": "completed"
    },
    "tags": []
   },
   "source": [
    "# Final Output"
   ]
  },
  {
   "cell_type": "code",
   "execution_count": 62,
   "id": "96d280a3",
   "metadata": {
    "execution": {
     "iopub.execute_input": "2025-08-19T17:26:44.545377Z",
     "iopub.status.busy": "2025-08-19T17:26:44.543591Z",
     "iopub.status.idle": "2025-08-19T17:26:44.565505Z",
     "shell.execute_reply": "2025-08-19T17:26:44.559529Z"
    },
    "papermill": {
     "duration": 0.04108,
     "end_time": "2025-08-19T17:26:44.567762",
     "exception": false,
     "start_time": "2025-08-19T17:26:44.526682",
     "status": "completed"
    },
    "tags": []
   },
   "outputs": [
    {
     "data": {
      "text/plain": [
       "4"
      ]
     },
     "execution_count": 62,
     "metadata": {},
     "output_type": "execute_result"
    }
   ],
   "source": [
    "sub_universes = universe_analysis.generate_sub_universes()\n",
    "len(sub_universes)"
   ]
  },
  {
   "cell_type": "code",
   "execution_count": 63,
   "id": "92adf7ba",
   "metadata": {
    "execution": {
     "iopub.execute_input": "2025-08-19T17:26:44.605224Z",
     "iopub.status.busy": "2025-08-19T17:26:44.604912Z",
     "iopub.status.idle": "2025-08-19T17:26:44.610534Z",
     "shell.execute_reply": "2025-08-19T17:26:44.609757Z"
    },
    "papermill": {
     "duration": 0.024273,
     "end_time": "2025-08-19T17:26:44.612791",
     "exception": false,
     "start_time": "2025-08-19T17:26:44.588518",
     "status": "completed"
    },
    "tags": []
   },
   "outputs": [],
   "source": [
    "def filter_sub_universe_data(sub_universe, org_test):\n",
    "    # Keep all rows — no filtering\n",
    "    keep_rows_mask = np.ones(org_test.shape[0], dtype=bool)\n",
    "\n",
    "    print(f\"[INFO] Keeping all rows: {keep_rows_mask.sum()} rows retained.\")\n",
    "    return keep_rows_mask"
   ]
  },
  {
   "cell_type": "code",
   "execution_count": 64,
   "id": "4a759155",
   "metadata": {
    "execution": {
     "iopub.execute_input": "2025-08-19T17:26:44.652183Z",
     "iopub.status.busy": "2025-08-19T17:26:44.651753Z",
     "iopub.status.idle": "2025-08-19T17:26:51.449780Z",
     "shell.execute_reply": "2025-08-19T17:26:51.448732Z"
    },
    "papermill": {
     "duration": 6.815765,
     "end_time": "2025-08-19T17:26:51.451515",
     "exception": false,
     "start_time": "2025-08-19T17:26:44.635750",
     "status": "completed"
    },
    "tags": []
   },
   "outputs": [
    {
     "name": "stdout",
     "output_type": "stream",
     "text": [
      "Stopping execution_time clock.\n",
      "[INFO] Keeping all rows: 89710 rows retained.\n"
     ]
    },
    {
     "name": "stdout",
     "output_type": "stream",
     "text": [
      "[INFO] Keeping all rows: 89710 rows retained.\n"
     ]
    },
    {
     "name": "stdout",
     "output_type": "stream",
     "text": [
      "[INFO] Keeping all rows: 89710 rows retained.\n"
     ]
    },
    {
     "name": "stdout",
     "output_type": "stream",
     "text": [
      "[INFO] Keeping all rows: 89710 rows retained.\n"
     ]
    },
    {
     "data": {
      "text/html": [
       "<div>\n",
       "<style scoped>\n",
       "    .dataframe tbody tr th:only-of-type {\n",
       "        vertical-align: middle;\n",
       "    }\n",
       "\n",
       "    .dataframe tbody tr th {\n",
       "        vertical-align: top;\n",
       "    }\n",
       "\n",
       "    .dataframe thead th {\n",
       "        text-align: right;\n",
       "    }\n",
       "</style>\n",
       "<table border=\"1\" class=\"dataframe\">\n",
       "  <thead>\n",
       "    <tr style=\"text-align: right;\">\n",
       "      <th></th>\n",
       "      <th>run_no</th>\n",
       "      <th>universe_id</th>\n",
       "      <th>universe_settings</th>\n",
       "      <th>execution_time</th>\n",
       "      <th>test_size_n</th>\n",
       "      <th>test_size_frac</th>\n",
       "      <th>fair_main_equalized_odds_difference</th>\n",
       "      <th>fair_main_equalized_odds_ratio</th>\n",
       "      <th>fair_main_demographic_parity_difference</th>\n",
       "      <th>fair_main_demographic_parity_ratio</th>\n",
       "      <th>...</th>\n",
       "      <th>perf_grp_precision_0</th>\n",
       "      <th>perf_grp_precision_1</th>\n",
       "      <th>perf_grp_false positive rate_0</th>\n",
       "      <th>perf_grp_false positive rate_1</th>\n",
       "      <th>perf_grp_false negative rate_0</th>\n",
       "      <th>perf_grp_false negative rate_1</th>\n",
       "      <th>perf_grp_selection rate_0</th>\n",
       "      <th>perf_grp_selection rate_1</th>\n",
       "      <th>perf_grp_count_0</th>\n",
       "      <th>perf_grp_count_1</th>\n",
       "    </tr>\n",
       "  </thead>\n",
       "  <tbody>\n",
       "    <tr>\n",
       "      <th>0</th>\n",
       "      <td>2</td>\n",
       "      <td>a176bb5b57c66783a496e70d8bd9a7c0</td>\n",
       "      <td>{\"cutoff\": \"quantile_0.1\", \"eval_fairness_grou...</td>\n",
       "      <td>20.56792</td>\n",
       "      <td>89710</td>\n",
       "      <td>1.0</td>\n",
       "      <td>0.059721</td>\n",
       "      <td>0.936034</td>\n",
       "      <td>0.051082</td>\n",
       "      <td>0.945622</td>\n",
       "      <td>...</td>\n",
       "      <td>NaN</td>\n",
       "      <td>NaN</td>\n",
       "      <td>NaN</td>\n",
       "      <td>NaN</td>\n",
       "      <td>NaN</td>\n",
       "      <td>NaN</td>\n",
       "      <td>NaN</td>\n",
       "      <td>NaN</td>\n",
       "      <td>NaN</td>\n",
       "      <td>NaN</td>\n",
       "    </tr>\n",
       "    <tr>\n",
       "      <th>0</th>\n",
       "      <td>2</td>\n",
       "      <td>a176bb5b57c66783a496e70d8bd9a7c0</td>\n",
       "      <td>{\"cutoff\": \"quantile_0.1\", \"eval_fairness_grou...</td>\n",
       "      <td>20.56792</td>\n",
       "      <td>89710</td>\n",
       "      <td>1.0</td>\n",
       "      <td>0.059721</td>\n",
       "      <td>0.936034</td>\n",
       "      <td>0.051082</td>\n",
       "      <td>0.945622</td>\n",
       "      <td>...</td>\n",
       "      <td>0.120705</td>\n",
       "      <td>0.146198</td>\n",
       "      <td>0.933634</td>\n",
       "      <td>0.873913</td>\n",
       "      <td>0.016470</td>\n",
       "      <td>0.017177</td>\n",
       "      <td>0.939387</td>\n",
       "      <td>0.888304</td>\n",
       "      <td>20540.0</td>\n",
       "      <td>69170.0</td>\n",
       "    </tr>\n",
       "    <tr>\n",
       "      <th>0</th>\n",
       "      <td>2</td>\n",
       "      <td>a176bb5b57c66783a496e70d8bd9a7c0</td>\n",
       "      <td>{\"cutoff\": \"quantile_0.25\", \"eval_fairness_gro...</td>\n",
       "      <td>20.56792</td>\n",
       "      <td>89710</td>\n",
       "      <td>1.0</td>\n",
       "      <td>0.122423</td>\n",
       "      <td>0.850160</td>\n",
       "      <td>0.104319</td>\n",
       "      <td>0.874379</td>\n",
       "      <td>...</td>\n",
       "      <td>NaN</td>\n",
       "      <td>NaN</td>\n",
       "      <td>NaN</td>\n",
       "      <td>NaN</td>\n",
       "      <td>NaN</td>\n",
       "      <td>NaN</td>\n",
       "      <td>NaN</td>\n",
       "      <td>NaN</td>\n",
       "      <td>NaN</td>\n",
       "      <td>NaN</td>\n",
       "    </tr>\n",
       "    <tr>\n",
       "      <th>0</th>\n",
       "      <td>2</td>\n",
       "      <td>a176bb5b57c66783a496e70d8bd9a7c0</td>\n",
       "      <td>{\"cutoff\": \"quantile_0.25\", \"eval_fairness_gro...</td>\n",
       "      <td>20.56792</td>\n",
       "      <td>89710</td>\n",
       "      <td>1.0</td>\n",
       "      <td>0.122423</td>\n",
       "      <td>0.850160</td>\n",
       "      <td>0.104319</td>\n",
       "      <td>0.874379</td>\n",
       "      <td>...</td>\n",
       "      <td>0.129566</td>\n",
       "      <td>0.169796</td>\n",
       "      <td>0.817026</td>\n",
       "      <td>0.694603</td>\n",
       "      <td>0.066723</td>\n",
       "      <td>0.066958</td>\n",
       "      <td>0.830428</td>\n",
       "      <td>0.726110</td>\n",
       "      <td>20540.0</td>\n",
       "      <td>69170.0</td>\n",
       "    </tr>\n",
       "  </tbody>\n",
       "</table>\n",
       "<p>4 rows × 50 columns</p>\n",
       "</div>"
      ],
      "text/plain": [
       "  run_no                       universe_id  \\\n",
       "0      2  a176bb5b57c66783a496e70d8bd9a7c0   \n",
       "0      2  a176bb5b57c66783a496e70d8bd9a7c0   \n",
       "0      2  a176bb5b57c66783a496e70d8bd9a7c0   \n",
       "0      2  a176bb5b57c66783a496e70d8bd9a7c0   \n",
       "\n",
       "                                   universe_settings  execution_time  \\\n",
       "0  {\"cutoff\": \"quantile_0.1\", \"eval_fairness_grou...        20.56792   \n",
       "0  {\"cutoff\": \"quantile_0.1\", \"eval_fairness_grou...        20.56792   \n",
       "0  {\"cutoff\": \"quantile_0.25\", \"eval_fairness_gro...        20.56792   \n",
       "0  {\"cutoff\": \"quantile_0.25\", \"eval_fairness_gro...        20.56792   \n",
       "\n",
       "   test_size_n  test_size_frac  fair_main_equalized_odds_difference  \\\n",
       "0        89710             1.0                             0.059721   \n",
       "0        89710             1.0                             0.059721   \n",
       "0        89710             1.0                             0.122423   \n",
       "0        89710             1.0                             0.122423   \n",
       "\n",
       "   fair_main_equalized_odds_ratio  fair_main_demographic_parity_difference  \\\n",
       "0                        0.936034                                 0.051082   \n",
       "0                        0.936034                                 0.051082   \n",
       "0                        0.850160                                 0.104319   \n",
       "0                        0.850160                                 0.104319   \n",
       "\n",
       "   fair_main_demographic_parity_ratio  ...  perf_grp_precision_0  \\\n",
       "0                            0.945622  ...                   NaN   \n",
       "0                            0.945622  ...              0.120705   \n",
       "0                            0.874379  ...                   NaN   \n",
       "0                            0.874379  ...              0.129566   \n",
       "\n",
       "   perf_grp_precision_1  perf_grp_false positive rate_0  \\\n",
       "0                   NaN                             NaN   \n",
       "0              0.146198                        0.933634   \n",
       "0                   NaN                             NaN   \n",
       "0              0.169796                        0.817026   \n",
       "\n",
       "   perf_grp_false positive rate_1  perf_grp_false negative rate_0  \\\n",
       "0                             NaN                             NaN   \n",
       "0                        0.873913                        0.016470   \n",
       "0                             NaN                             NaN   \n",
       "0                        0.694603                        0.066723   \n",
       "\n",
       "   perf_grp_false negative rate_1  perf_grp_selection rate_0  \\\n",
       "0                             NaN                        NaN   \n",
       "0                        0.017177                   0.939387   \n",
       "0                             NaN                        NaN   \n",
       "0                        0.066958                   0.830428   \n",
       "\n",
       "   perf_grp_selection rate_1  perf_grp_count_0  perf_grp_count_1  \n",
       "0                        NaN               NaN               NaN  \n",
       "0                   0.888304           20540.0           69170.0  \n",
       "0                        NaN               NaN               NaN  \n",
       "0                   0.726110           20540.0           69170.0  \n",
       "\n",
       "[4 rows x 50 columns]"
      ]
     },
     "execution_count": 64,
     "metadata": {},
     "output_type": "execute_result"
    }
   ],
   "source": [
    "final_output = universe_analysis.generate_final_output(\n",
    "    y_pred_prob=probs_test,\n",
    "    y_test=y_true,\n",
    "    org_test=org_test,\n",
    "    filter_data=filter_sub_universe_data,\n",
    "    cp_metrics_df=cp_metrics_df,\n",
    "    save=True,\n",
    ")\n",
    "final_output"
   ]
  },
  {
   "cell_type": "code",
   "execution_count": null,
   "id": "571f9a0f-660a-4841-b661-b06fbc637944",
   "metadata": {
    "papermill": {
     "duration": 0.015297,
     "end_time": "2025-08-19T17:26:51.487345",
     "exception": false,
     "start_time": "2025-08-19T17:26:51.472048",
     "status": "completed"
    },
    "tags": []
   },
   "outputs": [],
   "source": []
  },
  {
   "cell_type": "code",
   "execution_count": null,
   "id": "529482e3-0150-4854-a92d-ab864efc606e",
   "metadata": {
    "papermill": {
     "duration": 0.015162,
     "end_time": "2025-08-19T17:26:51.517737",
     "exception": false,
     "start_time": "2025-08-19T17:26:51.502575",
     "status": "completed"
    },
    "tags": []
   },
   "outputs": [],
   "source": []
  }
 ],
 "metadata": {
  "celltoolbar": "Tags",
  "kernelspec": {
   "display_name": "Python (CMA Fairness)",
   "language": "python",
   "name": "cma_fair_env"
  },
  "language_info": {
   "codemirror_mode": {
    "name": "ipython",
    "version": 3
   },
   "file_extension": ".py",
   "mimetype": "text/x-python",
   "name": "python",
   "nbconvert_exporter": "python",
   "pygments_lexer": "ipython3",
   "version": "3.10.12"
  },
  "papermill": {
   "default_parameters": {},
   "duration": 31.058345,
   "end_time": "2025-08-19T17:26:52.356189",
   "environment_variables": {},
   "exception": null,
   "input_path": "universe_analysis.ipynb",
   "output_path": "output/runs/2/notebooks/m_2-a176bb5b57c66783a496e70d8bd9a7c0.ipynb",
   "parameters": {
    "output_dir": "output",
    "run_no": "2",
    "seed": "2023",
    "universe": "{\"cutoff\": [\"quantile_0.1\", \"quantile_0.25\"], \"eval_fairness_grouping\": [\"majority-minority\", \"nationality-all\"], \"exclude_features\": \"none\", \"exclude_subgroups\": \"drop-non-german\", \"model\": \"penalized_logreg\", \"scale\": \"scale\", \"training_size\": \"5k\", \"training_year\": \"2014\"}",
    "universe_id": "a176bb5b57c66783a496e70d8bd9a7c0"
   },
   "start_time": "2025-08-19T17:26:21.297844",
   "version": "2.6.0"
  }
 },
 "nbformat": 4,
 "nbformat_minor": 5
}