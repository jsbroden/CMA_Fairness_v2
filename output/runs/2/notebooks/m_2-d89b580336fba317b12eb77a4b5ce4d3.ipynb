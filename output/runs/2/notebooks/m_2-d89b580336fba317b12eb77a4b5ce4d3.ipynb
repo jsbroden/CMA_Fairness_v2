{
 "cells": [
  {
   "cell_type": "markdown",
   "id": "b2057076-3a91-4cfa-9bfd-eab1e61b3068",
   "metadata": {
    "papermill": {
     "duration": 0.018525,
     "end_time": "2025-08-19T17:22:25.651443",
     "exception": false,
     "start_time": "2025-08-19T17:22:25.632918",
     "status": "completed"
    },
    "tags": []
   },
   "source": [
    "# Setup"
   ]
  },
  {
   "cell_type": "code",
   "execution_count": 1,
   "id": "f159f837-637b-42ba-96b5-ec9a68c44524",
   "metadata": {
    "execution": {
     "iopub.execute_input": "2025-08-19T17:22:25.683170Z",
     "iopub.status.busy": "2025-08-19T17:22:25.682816Z",
     "iopub.status.idle": "2025-08-19T17:22:25.697710Z",
     "shell.execute_reply": "2025-08-19T17:22:25.696735Z"
    },
    "papermill": {
     "duration": 0.028524,
     "end_time": "2025-08-19T17:22:25.699221",
     "exception": false,
     "start_time": "2025-08-19T17:22:25.670697",
     "status": "completed"
    },
    "tags": []
   },
   "outputs": [
    {
     "name": "stdout",
     "output_type": "stream",
     "text": [
      "/dss/dsshome1/0C/ra93lal2/cma/CMA_Fairness_v2\n"
     ]
    },
    {
     "name": "stderr",
     "output_type": "stream",
     "text": [
      "/dss/dsshome1/0C/ra93lal2/.local/share/virtualenvs/CMA_Fairness_v2-3j10GkSs/lib/python3.10/site-packages/IPython/core/magics/osm.py:393: UserWarning: This is now an optional IPython functionality, using bookmarks requires you to install the `pickleshare` library.\n",
      "  bkms = self.shell.db.get('bookmarks', {})\n",
      "/dss/dsshome1/0C/ra93lal2/.local/share/virtualenvs/CMA_Fairness_v2-3j10GkSs/lib/python3.10/site-packages/IPython/core/magics/osm.py:417: UserWarning: This is now an optional IPython functionality, setting dhist requires you to install the `pickleshare` library.\n",
      "  self.shell.db['dhist'] = compress_dhist(dhist)[-100:]\n"
     ]
    }
   ],
   "source": [
    "%cd ~/cma/CMA_Fairness_v2"
   ]
  },
  {
   "cell_type": "markdown",
   "id": "de2603b9",
   "metadata": {
    "papermill": {
     "duration": 0.009022,
     "end_time": "2025-08-19T17:22:25.717720",
     "exception": false,
     "start_time": "2025-08-19T17:22:25.708698",
     "status": "completed"
    },
    "tags": []
   },
   "source": [
    "The following cell holds the definition of our parameters, these values can be overriden by rendering the with e.g. the following command:\n",
    "\n",
    "papermill -p alpha 0.2 -p ratio 0.3 universe_analysis.ipynb output/test_run.ipynb"
   ]
  },
  {
   "cell_type": "code",
   "execution_count": 2,
   "id": "a80968a0-40bb-4fa9-85ef-2d5eefb01975",
   "metadata": {
    "execution": {
     "iopub.execute_input": "2025-08-19T17:22:25.737684Z",
     "iopub.status.busy": "2025-08-19T17:22:25.737350Z",
     "iopub.status.idle": "2025-08-19T17:22:25.743733Z",
     "shell.execute_reply": "2025-08-19T17:22:25.742297Z"
    },
    "papermill": {
     "duration": 0.019507,
     "end_time": "2025-08-19T17:22:25.745950",
     "exception": false,
     "start_time": "2025-08-19T17:22:25.726443",
     "status": "completed"
    },
    "tags": []
   },
   "outputs": [
    {
     "name": "stdout",
     "output_type": "stream",
     "text": [
      "Current working directory: /dss/dsshome1/0C/ra93lal2/cma/CMA_Fairness_v2\n"
     ]
    }
   ],
   "source": [
    "import os\n",
    "print(\"Current working directory:\", os.getcwd())"
   ]
  },
  {
   "cell_type": "code",
   "execution_count": 3,
   "id": "2dce4c03",
   "metadata": {
    "execution": {
     "iopub.execute_input": "2025-08-19T17:22:25.768831Z",
     "iopub.status.busy": "2025-08-19T17:22:25.768529Z",
     "iopub.status.idle": "2025-08-19T17:22:25.784183Z",
     "shell.execute_reply": "2025-08-19T17:22:25.782837Z"
    },
    "papermill": {
     "duration": 0.028573,
     "end_time": "2025-08-19T17:22:25.786096",
     "exception": false,
     "start_time": "2025-08-19T17:22:25.757523",
     "status": "completed"
    },
    "tags": [
     "parameters"
    ]
   },
   "outputs": [],
   "source": [
    "run_no = 0\n",
    "universe_id = \"test\"\n",
    "universe = {\n",
    "    \"training_size\": \"5k\", # \"25k\", \"5k\", \"1k\"\n",
    "    \"training_year\": \"2012_14\", # \"2014\", \"2012_14\", \"2010_14\"\n",
    "    \"scale\": \"scale\", # \"scale\", \"do-not-scale\",\n",
    "    \"model\": \"elasticnet\", # \"logreg\", \"penalized_logreg\", \"rf\", \"gbm\", \"elasticnet\"\n",
    "    \"cutoff\": [\"quantile_0.15\", \"quantile_0.30\"],\n",
    "    \"exclude_features\": \"age\", # \"none\", \"nationality\", \"sex\", \"nationality-sex\", \"age\"\n",
    "    \"exclude_subgroups\": \"drop-non-german\", # \"keep-all\", \"drop-non-german\"\n",
    "    \"eval_fairness_grouping\": [\"majority-minority\", \"nationality-all\"]\n",
    "}\n",
    "\n",
    "output_dir=\"./output\"\n",
    "seed=0"
   ]
  },
  {
   "cell_type": "code",
   "execution_count": 4,
   "id": "28892212",
   "metadata": {
    "execution": {
     "iopub.execute_input": "2025-08-19T17:22:25.809635Z",
     "iopub.status.busy": "2025-08-19T17:22:25.809300Z",
     "iopub.status.idle": "2025-08-19T17:22:25.814886Z",
     "shell.execute_reply": "2025-08-19T17:22:25.813912Z"
    },
    "papermill": {
     "duration": 0.017726,
     "end_time": "2025-08-19T17:22:25.816420",
     "exception": false,
     "start_time": "2025-08-19T17:22:25.798694",
     "status": "completed"
    },
    "tags": [
     "injected-parameters"
    ]
   },
   "outputs": [],
   "source": [
    "# Parameters\n",
    "universe_id = \"d89b580336fba317b12eb77a4b5ce4d3\"\n",
    "run_no = \"2\"\n",
    "universe = \"{\\\"cutoff\\\": [\\\"quantile_0.1\\\", \\\"quantile_0.25\\\"], \\\"eval_fairness_grouping\\\": [\\\"majority-minority\\\", \\\"nationality-all\\\"], \\\"exclude_features\\\": \\\"nationality\\\", \\\"exclude_subgroups\\\": \\\"keep-all\\\", \\\"model\\\": \\\"rf\\\", \\\"scale\\\": \\\"do-not-scale\\\", \\\"training_size\\\": \\\"25k\\\", \\\"training_year\\\": \\\"2010_14\\\"}\"\n",
    "output_dir = \"output\"\n",
    "seed = \"2023\"\n"
   ]
  },
  {
   "cell_type": "code",
   "execution_count": 5,
   "id": "1650acaf",
   "metadata": {
    "execution": {
     "iopub.execute_input": "2025-08-19T17:22:25.838075Z",
     "iopub.status.busy": "2025-08-19T17:22:25.837732Z",
     "iopub.status.idle": "2025-08-19T17:22:25.843014Z",
     "shell.execute_reply": "2025-08-19T17:22:25.841891Z"
    },
    "papermill": {
     "duration": 0.018273,
     "end_time": "2025-08-19T17:22:25.844582",
     "exception": false,
     "start_time": "2025-08-19T17:22:25.826309",
     "status": "completed"
    },
    "tags": []
   },
   "outputs": [],
   "source": [
    "import json\n",
    "if isinstance(universe, str):\n",
    "    universe = json.loads(universe)"
   ]
  },
  {
   "cell_type": "code",
   "execution_count": 6,
   "id": "16620c48",
   "metadata": {
    "execution": {
     "iopub.execute_input": "2025-08-19T17:22:25.864940Z",
     "iopub.status.busy": "2025-08-19T17:22:25.864614Z",
     "iopub.status.idle": "2025-08-19T17:22:26.008310Z",
     "shell.execute_reply": "2025-08-19T17:22:26.007370Z"
    },
    "papermill": {
     "duration": 0.15573,
     "end_time": "2025-08-19T17:22:26.009863",
     "exception": false,
     "start_time": "2025-08-19T17:22:25.854133",
     "status": "completed"
    },
    "tags": []
   },
   "outputs": [],
   "source": [
    "# Auto-reload the custom package\n",
    "%load_ext autoreload\n",
    "%autoreload 1\n",
    "%aimport fairness_multiverse"
   ]
  },
  {
   "cell_type": "code",
   "execution_count": 7,
   "id": "01c5c9f3",
   "metadata": {
    "execution": {
     "iopub.execute_input": "2025-08-19T17:22:26.031772Z",
     "iopub.status.busy": "2025-08-19T17:22:26.030778Z",
     "iopub.status.idle": "2025-08-19T17:22:27.551273Z",
     "shell.execute_reply": "2025-08-19T17:22:27.549040Z"
    },
    "papermill": {
     "duration": 1.533586,
     "end_time": "2025-08-19T17:22:27.553205",
     "exception": false,
     "start_time": "2025-08-19T17:22:26.019619",
     "status": "completed"
    },
    "tags": []
   },
   "outputs": [],
   "source": [
    "from fairness_multiverse.universe import UniverseAnalysis\n",
    "\n",
    "universe_analysis = UniverseAnalysis(\n",
    "    run_no = run_no,\n",
    "    universe_id = universe_id,\n",
    "    universe = universe,\n",
    "    output_dir=output_dir,\n",
    ")"
   ]
  },
  {
   "cell_type": "code",
   "execution_count": 8,
   "id": "106241f5",
   "metadata": {
    "execution": {
     "iopub.execute_input": "2025-08-19T17:22:27.573832Z",
     "iopub.status.busy": "2025-08-19T17:22:27.573366Z",
     "iopub.status.idle": "2025-08-19T17:22:27.580934Z",
     "shell.execute_reply": "2025-08-19T17:22:27.579919Z"
    },
    "papermill": {
     "duration": 0.019334,
     "end_time": "2025-08-19T17:22:27.582121",
     "exception": false,
     "start_time": "2025-08-19T17:22:27.562787",
     "status": "completed"
    },
    "tags": []
   },
   "outputs": [
    {
     "name": "stdout",
     "output_type": "stream",
     "text": [
      "Using Seed: 2023\n"
     ]
    }
   ],
   "source": [
    "import numpy as np\n",
    "parsed_seed = int(seed)\n",
    "np.random.seed(parsed_seed)\n",
    "print(f\"Using Seed: {parsed_seed}\")"
   ]
  },
  {
   "cell_type": "markdown",
   "id": "e0ebdc57",
   "metadata": {
    "papermill": {
     "duration": 0.00952,
     "end_time": "2025-08-19T17:22:27.603885",
     "exception": false,
     "start_time": "2025-08-19T17:22:27.594365",
     "status": "completed"
    },
    "tags": []
   },
   "source": [
    "# Loading Data"
   ]
  },
  {
   "cell_type": "code",
   "execution_count": 9,
   "id": "f0496b8a",
   "metadata": {
    "execution": {
     "iopub.execute_input": "2025-08-19T17:22:27.625892Z",
     "iopub.status.busy": "2025-08-19T17:22:27.624681Z",
     "iopub.status.idle": "2025-08-19T17:22:37.594187Z",
     "shell.execute_reply": "2025-08-19T17:22:37.593273Z"
    },
    "papermill": {
     "duration": 9.981939,
     "end_time": "2025-08-19T17:22:37.595318",
     "exception": false,
     "start_time": "2025-08-19T17:22:27.613379",
     "status": "completed"
    },
    "tags": []
   },
   "outputs": [
    {
     "name": "stdout",
     "output_type": "stream",
     "text": [
      "Loading SIAB data from cache: data/siab_cached.csv.gz\n"
     ]
    },
    {
     "name": "stdout",
     "output_type": "stream",
     "text": [
      "(643690, 164)\n"
     ]
    }
   ],
   "source": [
    "from pathlib import Path\n",
    "import pandas as pd\n",
    "\n",
    "# File paths\n",
    "raw_file = Path(\"data/raw/siab.csv\")\n",
    "cache_file = Path(\"data/siab_cached.csv.gz\")\n",
    "\n",
    "# Ensure cache directory exists\n",
    "cache_file.parent.mkdir(parents=True, exist_ok=True)\n",
    "\n",
    "# Load with simple caching\n",
    "if cache_file.exists():\n",
    "    print(f\"Loading SIAB data from cache: {cache_file}\")\n",
    "    siab = pd.read_csv(cache_file, compression='gzip')\n",
    "else:\n",
    "    print(f\"Cache not found. Reading raw SIAB data: {raw_file}\")\n",
    "    siab = pd.read_csv(raw_file)\n",
    "    siab.to_csv(cache_file, index=False, compression='gzip')\n",
    "    print(f\"Cached SIAB data to: {cache_file}\")\n",
    "\n",
    "print(siab.shape)"
   ]
  },
  {
   "cell_type": "code",
   "execution_count": 10,
   "id": "db0ca512-5f53-4dba-abdb-a2888bca41ba",
   "metadata": {
    "execution": {
     "iopub.execute_input": "2025-08-19T17:22:37.622799Z",
     "iopub.status.busy": "2025-08-19T17:22:37.621633Z",
     "iopub.status.idle": "2025-08-19T17:22:37.777635Z",
     "shell.execute_reply": "2025-08-19T17:22:37.776889Z"
    },
    "papermill": {
     "duration": 0.17299,
     "end_time": "2025-08-19T17:22:37.780561",
     "exception": false,
     "start_time": "2025-08-19T17:22:37.607571",
     "status": "completed"
    },
    "tags": []
   },
   "outputs": [
    {
     "data": {
      "text/html": [
       "<div>\n",
       "<style scoped>\n",
       "    .dataframe tbody tr th:only-of-type {\n",
       "        vertical-align: middle;\n",
       "    }\n",
       "\n",
       "    .dataframe tbody tr th {\n",
       "        vertical-align: top;\n",
       "    }\n",
       "\n",
       "    .dataframe thead th {\n",
       "        text-align: right;\n",
       "    }\n",
       "</style>\n",
       "<table border=\"1\" class=\"dataframe\">\n",
       "  <thead>\n",
       "    <tr style=\"text-align: right;\">\n",
       "      <th></th>\n",
       "      <th>persnr</th>\n",
       "      <th>year</th>\n",
       "      <th>nrEntry</th>\n",
       "      <th>ltue</th>\n",
       "      <th>employed_before</th>\n",
       "      <th>receipt_leh_before</th>\n",
       "      <th>receipt_lhg_before</th>\n",
       "      <th>se_before</th>\n",
       "      <th>ASU_notue_seeking_before</th>\n",
       "      <th>ASU_other_before</th>\n",
       "      <th>...</th>\n",
       "      <th>minijob_tot_dur_byage</th>\n",
       "      <th>ft_tot_dur_byage</th>\n",
       "      <th>befrist_tot_dur_byage</th>\n",
       "      <th>leih_tot_dur_byage</th>\n",
       "      <th>LHG_tot_dur_byage</th>\n",
       "      <th>LEH_tot_dur_byage</th>\n",
       "      <th>almp_tot_dur_byage</th>\n",
       "      <th>almp_aw_tot_dur_byage</th>\n",
       "      <th>se_tot_dur_byage</th>\n",
       "      <th>seeking1_tot_dur_byage</th>\n",
       "    </tr>\n",
       "  </thead>\n",
       "  <tbody>\n",
       "    <tr>\n",
       "      <th>0</th>\n",
       "      <td>7</td>\n",
       "      <td>2015</td>\n",
       "      <td>1</td>\n",
       "      <td>0</td>\n",
       "      <td>1</td>\n",
       "      <td>0</td>\n",
       "      <td>0</td>\n",
       "      <td>0</td>\n",
       "      <td>1</td>\n",
       "      <td>0</td>\n",
       "      <td>...</td>\n",
       "      <td>0.000000</td>\n",
       "      <td>0.000000</td>\n",
       "      <td>15.043478</td>\n",
       "      <td>0.000000</td>\n",
       "      <td>0.000000</td>\n",
       "      <td>0.000000</td>\n",
       "      <td>0.000000</td>\n",
       "      <td>0.000000</td>\n",
       "      <td>0.000000</td>\n",
       "      <td>0.000000</td>\n",
       "    </tr>\n",
       "    <tr>\n",
       "      <th>1</th>\n",
       "      <td>18</td>\n",
       "      <td>2010</td>\n",
       "      <td>1</td>\n",
       "      <td>1</td>\n",
       "      <td>0</td>\n",
       "      <td>0</td>\n",
       "      <td>0</td>\n",
       "      <td>0</td>\n",
       "      <td>0</td>\n",
       "      <td>0</td>\n",
       "      <td>...</td>\n",
       "      <td>0.000000</td>\n",
       "      <td>0.000000</td>\n",
       "      <td>0.000000</td>\n",
       "      <td>0.000000</td>\n",
       "      <td>0.000000</td>\n",
       "      <td>0.000000</td>\n",
       "      <td>0.000000</td>\n",
       "      <td>0.000000</td>\n",
       "      <td>0.000000</td>\n",
       "      <td>0.000000</td>\n",
       "    </tr>\n",
       "    <tr>\n",
       "      <th>2</th>\n",
       "      <td>18</td>\n",
       "      <td>2011</td>\n",
       "      <td>2</td>\n",
       "      <td>0</td>\n",
       "      <td>1</td>\n",
       "      <td>0</td>\n",
       "      <td>1</td>\n",
       "      <td>0</td>\n",
       "      <td>1</td>\n",
       "      <td>0</td>\n",
       "      <td>...</td>\n",
       "      <td>2.714286</td>\n",
       "      <td>2.714286</td>\n",
       "      <td>0.000000</td>\n",
       "      <td>0.000000</td>\n",
       "      <td>10.775510</td>\n",
       "      <td>0.000000</td>\n",
       "      <td>8.367347</td>\n",
       "      <td>0.000000</td>\n",
       "      <td>0.000000</td>\n",
       "      <td>9.836735</td>\n",
       "    </tr>\n",
       "    <tr>\n",
       "      <th>3</th>\n",
       "      <td>18</td>\n",
       "      <td>2012</td>\n",
       "      <td>3</td>\n",
       "      <td>0</td>\n",
       "      <td>1</td>\n",
       "      <td>0</td>\n",
       "      <td>1</td>\n",
       "      <td>0</td>\n",
       "      <td>1</td>\n",
       "      <td>0</td>\n",
       "      <td>...</td>\n",
       "      <td>4.200000</td>\n",
       "      <td>4.200000</td>\n",
       "      <td>0.000000</td>\n",
       "      <td>0.000000</td>\n",
       "      <td>12.100000</td>\n",
       "      <td>0.000000</td>\n",
       "      <td>9.400000</td>\n",
       "      <td>0.000000</td>\n",
       "      <td>0.000000</td>\n",
       "      <td>9.960000</td>\n",
       "    </tr>\n",
       "    <tr>\n",
       "      <th>4</th>\n",
       "      <td>18</td>\n",
       "      <td>2012</td>\n",
       "      <td>4</td>\n",
       "      <td>0</td>\n",
       "      <td>1</td>\n",
       "      <td>0</td>\n",
       "      <td>1</td>\n",
       "      <td>0</td>\n",
       "      <td>1</td>\n",
       "      <td>0</td>\n",
       "      <td>...</td>\n",
       "      <td>5.460000</td>\n",
       "      <td>5.460000</td>\n",
       "      <td>0.000000</td>\n",
       "      <td>0.000000</td>\n",
       "      <td>13.360000</td>\n",
       "      <td>0.000000</td>\n",
       "      <td>10.320000</td>\n",
       "      <td>0.000000</td>\n",
       "      <td>0.000000</td>\n",
       "      <td>10.280000</td>\n",
       "    </tr>\n",
       "    <tr>\n",
       "      <th>...</th>\n",
       "      <td>...</td>\n",
       "      <td>...</td>\n",
       "      <td>...</td>\n",
       "      <td>...</td>\n",
       "      <td>...</td>\n",
       "      <td>...</td>\n",
       "      <td>...</td>\n",
       "      <td>...</td>\n",
       "      <td>...</td>\n",
       "      <td>...</td>\n",
       "      <td>...</td>\n",
       "      <td>...</td>\n",
       "      <td>...</td>\n",
       "      <td>...</td>\n",
       "      <td>...</td>\n",
       "      <td>...</td>\n",
       "      <td>...</td>\n",
       "      <td>...</td>\n",
       "      <td>...</td>\n",
       "      <td>...</td>\n",
       "      <td>...</td>\n",
       "    </tr>\n",
       "    <tr>\n",
       "      <th>643685</th>\n",
       "      <td>1827860</td>\n",
       "      <td>2013</td>\n",
       "      <td>1</td>\n",
       "      <td>0</td>\n",
       "      <td>0</td>\n",
       "      <td>0</td>\n",
       "      <td>1</td>\n",
       "      <td>0</td>\n",
       "      <td>0</td>\n",
       "      <td>1</td>\n",
       "      <td>...</td>\n",
       "      <td>0.000000</td>\n",
       "      <td>0.000000</td>\n",
       "      <td>0.000000</td>\n",
       "      <td>0.000000</td>\n",
       "      <td>0.612903</td>\n",
       "      <td>0.000000</td>\n",
       "      <td>0.000000</td>\n",
       "      <td>0.000000</td>\n",
       "      <td>0.000000</td>\n",
       "      <td>0.000000</td>\n",
       "    </tr>\n",
       "    <tr>\n",
       "      <th>643686</th>\n",
       "      <td>1827860</td>\n",
       "      <td>2015</td>\n",
       "      <td>2</td>\n",
       "      <td>1</td>\n",
       "      <td>0</td>\n",
       "      <td>0</td>\n",
       "      <td>1</td>\n",
       "      <td>0</td>\n",
       "      <td>1</td>\n",
       "      <td>0</td>\n",
       "      <td>...</td>\n",
       "      <td>0.000000</td>\n",
       "      <td>0.000000</td>\n",
       "      <td>0.212121</td>\n",
       "      <td>0.212121</td>\n",
       "      <td>17.363636</td>\n",
       "      <td>0.000000</td>\n",
       "      <td>8.909091</td>\n",
       "      <td>0.000000</td>\n",
       "      <td>0.000000</td>\n",
       "      <td>7.121212</td>\n",
       "    </tr>\n",
       "    <tr>\n",
       "      <th>643687</th>\n",
       "      <td>1827860</td>\n",
       "      <td>2016</td>\n",
       "      <td>3</td>\n",
       "      <td>1</td>\n",
       "      <td>0</td>\n",
       "      <td>0</td>\n",
       "      <td>1</td>\n",
       "      <td>1</td>\n",
       "      <td>0</td>\n",
       "      <td>1</td>\n",
       "      <td>...</td>\n",
       "      <td>0.000000</td>\n",
       "      <td>0.000000</td>\n",
       "      <td>0.294118</td>\n",
       "      <td>0.205882</td>\n",
       "      <td>34.705882</td>\n",
       "      <td>0.000000</td>\n",
       "      <td>10.352941</td>\n",
       "      <td>1.705882</td>\n",
       "      <td>1.705882</td>\n",
       "      <td>23.911765</td>\n",
       "    </tr>\n",
       "    <tr>\n",
       "      <th>643688</th>\n",
       "      <td>1827869</td>\n",
       "      <td>2013</td>\n",
       "      <td>1</td>\n",
       "      <td>1</td>\n",
       "      <td>1</td>\n",
       "      <td>0</td>\n",
       "      <td>0</td>\n",
       "      <td>0</td>\n",
       "      <td>1</td>\n",
       "      <td>0</td>\n",
       "      <td>...</td>\n",
       "      <td>0.000000</td>\n",
       "      <td>0.000000</td>\n",
       "      <td>0.000000</td>\n",
       "      <td>0.000000</td>\n",
       "      <td>0.000000</td>\n",
       "      <td>0.525424</td>\n",
       "      <td>0.000000</td>\n",
       "      <td>0.000000</td>\n",
       "      <td>0.000000</td>\n",
       "      <td>0.000000</td>\n",
       "    </tr>\n",
       "    <tr>\n",
       "      <th>643689</th>\n",
       "      <td>1827869</td>\n",
       "      <td>2014</td>\n",
       "      <td>2</td>\n",
       "      <td>0</td>\n",
       "      <td>0</td>\n",
       "      <td>1</td>\n",
       "      <td>0</td>\n",
       "      <td>0</td>\n",
       "      <td>1</td>\n",
       "      <td>0</td>\n",
       "      <td>...</td>\n",
       "      <td>0.000000</td>\n",
       "      <td>0.666667</td>\n",
       "      <td>0.666667</td>\n",
       "      <td>0.000000</td>\n",
       "      <td>0.000000</td>\n",
       "      <td>8.950000</td>\n",
       "      <td>1.033333</td>\n",
       "      <td>0.083333</td>\n",
       "      <td>0.083333</td>\n",
       "      <td>8.133333</td>\n",
       "    </tr>\n",
       "  </tbody>\n",
       "</table>\n",
       "<p>643690 rows × 164 columns</p>\n",
       "</div>"
      ],
      "text/plain": [
       "         persnr  year  nrEntry  ltue  employed_before  receipt_leh_before  \\\n",
       "0             7  2015        1     0                1                   0   \n",
       "1            18  2010        1     1                0                   0   \n",
       "2            18  2011        2     0                1                   0   \n",
       "3            18  2012        3     0                1                   0   \n",
       "4            18  2012        4     0                1                   0   \n",
       "...         ...   ...      ...   ...              ...                 ...   \n",
       "643685  1827860  2013        1     0                0                   0   \n",
       "643686  1827860  2015        2     1                0                   0   \n",
       "643687  1827860  2016        3     1                0                   0   \n",
       "643688  1827869  2013        1     1                1                   0   \n",
       "643689  1827869  2014        2     0                0                   1   \n",
       "\n",
       "        receipt_lhg_before  se_before  ASU_notue_seeking_before  \\\n",
       "0                        0          0                         1   \n",
       "1                        0          0                         0   \n",
       "2                        1          0                         1   \n",
       "3                        1          0                         1   \n",
       "4                        1          0                         1   \n",
       "...                    ...        ...                       ...   \n",
       "643685                   1          0                         0   \n",
       "643686                   1          0                         1   \n",
       "643687                   1          1                         0   \n",
       "643688                   0          0                         1   \n",
       "643689                   0          0                         1   \n",
       "\n",
       "        ASU_other_before  ...  minijob_tot_dur_byage  ft_tot_dur_byage  \\\n",
       "0                      0  ...               0.000000          0.000000   \n",
       "1                      0  ...               0.000000          0.000000   \n",
       "2                      0  ...               2.714286          2.714286   \n",
       "3                      0  ...               4.200000          4.200000   \n",
       "4                      0  ...               5.460000          5.460000   \n",
       "...                  ...  ...                    ...               ...   \n",
       "643685                 1  ...               0.000000          0.000000   \n",
       "643686                 0  ...               0.000000          0.000000   \n",
       "643687                 1  ...               0.000000          0.000000   \n",
       "643688                 0  ...               0.000000          0.000000   \n",
       "643689                 0  ...               0.000000          0.666667   \n",
       "\n",
       "        befrist_tot_dur_byage  leih_tot_dur_byage  LHG_tot_dur_byage  \\\n",
       "0                   15.043478            0.000000           0.000000   \n",
       "1                    0.000000            0.000000           0.000000   \n",
       "2                    0.000000            0.000000          10.775510   \n",
       "3                    0.000000            0.000000          12.100000   \n",
       "4                    0.000000            0.000000          13.360000   \n",
       "...                       ...                 ...                ...   \n",
       "643685               0.000000            0.000000           0.612903   \n",
       "643686               0.212121            0.212121          17.363636   \n",
       "643687               0.294118            0.205882          34.705882   \n",
       "643688               0.000000            0.000000           0.000000   \n",
       "643689               0.666667            0.000000           0.000000   \n",
       "\n",
       "        LEH_tot_dur_byage  almp_tot_dur_byage  almp_aw_tot_dur_byage  \\\n",
       "0                0.000000            0.000000               0.000000   \n",
       "1                0.000000            0.000000               0.000000   \n",
       "2                0.000000            8.367347               0.000000   \n",
       "3                0.000000            9.400000               0.000000   \n",
       "4                0.000000           10.320000               0.000000   \n",
       "...                   ...                 ...                    ...   \n",
       "643685           0.000000            0.000000               0.000000   \n",
       "643686           0.000000            8.909091               0.000000   \n",
       "643687           0.000000           10.352941               1.705882   \n",
       "643688           0.525424            0.000000               0.000000   \n",
       "643689           8.950000            1.033333               0.083333   \n",
       "\n",
       "        se_tot_dur_byage  seeking1_tot_dur_byage  \n",
       "0               0.000000                0.000000  \n",
       "1               0.000000                0.000000  \n",
       "2               0.000000                9.836735  \n",
       "3               0.000000                9.960000  \n",
       "4               0.000000               10.280000  \n",
       "...                  ...                     ...  \n",
       "643685          0.000000                0.000000  \n",
       "643686          0.000000                7.121212  \n",
       "643687          1.705882               23.911765  \n",
       "643688          0.000000                0.000000  \n",
       "643689          0.083333                8.133333  \n",
       "\n",
       "[643690 rows x 164 columns]"
      ]
     },
     "execution_count": 10,
     "metadata": {},
     "output_type": "execute_result"
    }
   ],
   "source": [
    "siab"
   ]
  },
  {
   "cell_type": "markdown",
   "id": "997051c5-15bd-4b69-9786-c3001a3ce484",
   "metadata": {
    "papermill": {
     "duration": 0.012588,
     "end_time": "2025-08-19T17:22:37.817356",
     "exception": false,
     "start_time": "2025-08-19T17:22:37.804768",
     "status": "completed"
    },
    "tags": []
   },
   "source": [
    "# Splitting Data and Setting Training Data Size"
   ]
  },
  {
   "cell_type": "code",
   "execution_count": 11,
   "id": "aea9c6ef-6f46-42c8-85eb-5a62025c1508",
   "metadata": {
    "execution": {
     "iopub.execute_input": "2025-08-19T17:22:37.840241Z",
     "iopub.status.busy": "2025-08-19T17:22:37.838910Z",
     "iopub.status.idle": "2025-08-19T17:22:38.969272Z",
     "shell.execute_reply": "2025-08-19T17:22:38.968450Z"
    },
    "papermill": {
     "duration": 1.144666,
     "end_time": "2025-08-19T17:22:38.971959",
     "exception": false,
     "start_time": "2025-08-19T17:22:37.827293",
     "status": "completed"
    },
    "tags": []
   },
   "outputs": [],
   "source": [
    "from fairness_multiverse.universe import sample_by_year_size\n",
    "\n",
    "siab_train = sample_by_year_size(siab,\n",
    "                               training_year=universe[\"training_year\"],\n",
    "                               training_size=universe[\"training_size\"])"
   ]
  },
  {
   "cell_type": "code",
   "execution_count": 12,
   "id": "8d3afb32-789d-442c-8d5d-9f5aa8dd2eed",
   "metadata": {
    "execution": {
     "iopub.execute_input": "2025-08-19T17:22:39.011766Z",
     "iopub.status.busy": "2025-08-19T17:22:39.010348Z",
     "iopub.status.idle": "2025-08-19T17:22:39.024388Z",
     "shell.execute_reply": "2025-08-19T17:22:39.022662Z"
    },
    "papermill": {
     "duration": 0.03018,
     "end_time": "2025-08-19T17:22:39.026457",
     "exception": false,
     "start_time": "2025-08-19T17:22:38.996277",
     "status": "completed"
    },
    "tags": []
   },
   "outputs": [
    {
     "data": {
      "text/plain": [
       "(25000, 164)"
      ]
     },
     "execution_count": 12,
     "metadata": {},
     "output_type": "execute_result"
    }
   ],
   "source": [
    "siab_train.shape"
   ]
  },
  {
   "cell_type": "code",
   "execution_count": 13,
   "id": "d582db68-1a4c-47fb-84fc-08518dc1975a",
   "metadata": {
    "execution": {
     "iopub.execute_input": "2025-08-19T17:22:39.054098Z",
     "iopub.status.busy": "2025-08-19T17:22:39.052881Z",
     "iopub.status.idle": "2025-08-19T17:22:39.070993Z",
     "shell.execute_reply": "2025-08-19T17:22:39.069709Z"
    },
    "papermill": {
     "duration": 0.032156,
     "end_time": "2025-08-19T17:22:39.072504",
     "exception": false,
     "start_time": "2025-08-19T17:22:39.040348",
     "status": "completed"
    },
    "tags": []
   },
   "outputs": [
    {
     "data": {
      "text/plain": [
       "year\n",
       "2010    5000\n",
       "2011    5000\n",
       "2012    5000\n",
       "2013    5000\n",
       "2014    5000\n",
       "dtype: int64"
      ]
     },
     "metadata": {},
     "output_type": "display_data"
    }
   ],
   "source": [
    "display(siab_train.groupby(\"year\").size())"
   ]
  },
  {
   "cell_type": "code",
   "execution_count": 14,
   "id": "a561edb4-d032-42cb-8256-22eac1111c64",
   "metadata": {
    "execution": {
     "iopub.execute_input": "2025-08-19T17:22:39.103353Z",
     "iopub.status.busy": "2025-08-19T17:22:39.102168Z",
     "iopub.status.idle": "2025-08-19T17:22:39.365376Z",
     "shell.execute_reply": "2025-08-19T17:22:39.364680Z"
    },
    "papermill": {
     "duration": 0.278476,
     "end_time": "2025-08-19T17:22:39.367212",
     "exception": false,
     "start_time": "2025-08-19T17:22:39.088736",
     "status": "completed"
    },
    "tags": []
   },
   "outputs": [],
   "source": [
    "#siab_train = siab_s[siab_s.year < 2015]\n",
    "siab_calib = siab[siab.year == 2015]\n",
    "siab_test = siab[siab.year == 2016]"
   ]
  },
  {
   "cell_type": "code",
   "execution_count": 15,
   "id": "bc10fe59",
   "metadata": {
    "execution": {
     "iopub.execute_input": "2025-08-19T17:22:39.403616Z",
     "iopub.status.busy": "2025-08-19T17:22:39.402547Z",
     "iopub.status.idle": "2025-08-19T17:22:39.410776Z",
     "shell.execute_reply": "2025-08-19T17:22:39.409077Z"
    },
    "papermill": {
     "duration": 0.023862,
     "end_time": "2025-08-19T17:22:39.412267",
     "exception": false,
     "start_time": "2025-08-19T17:22:39.388405",
     "status": "completed"
    },
    "tags": []
   },
   "outputs": [],
   "source": [
    "#siab_calib.shape"
   ]
  },
  {
   "cell_type": "code",
   "execution_count": 16,
   "id": "d6aeff2f",
   "metadata": {
    "execution": {
     "iopub.execute_input": "2025-08-19T17:22:39.440366Z",
     "iopub.status.busy": "2025-08-19T17:22:39.438812Z",
     "iopub.status.idle": "2025-08-19T17:22:39.448777Z",
     "shell.execute_reply": "2025-08-19T17:22:39.446589Z"
    },
    "papermill": {
     "duration": 0.023897,
     "end_time": "2025-08-19T17:22:39.450271",
     "exception": false,
     "start_time": "2025-08-19T17:22:39.426374",
     "status": "completed"
    },
    "tags": []
   },
   "outputs": [],
   "source": [
    "#siab_test.shape"
   ]
  },
  {
   "cell_type": "code",
   "execution_count": 17,
   "id": "472de16f-c3db-4916-846b-1f0de9cf1746",
   "metadata": {
    "execution": {
     "iopub.execute_input": "2025-08-19T17:22:39.496070Z",
     "iopub.status.busy": "2025-08-19T17:22:39.494890Z",
     "iopub.status.idle": "2025-08-19T17:22:39.516003Z",
     "shell.execute_reply": "2025-08-19T17:22:39.514745Z"
    },
    "papermill": {
     "duration": 0.05771,
     "end_time": "2025-08-19T17:22:39.520705",
     "exception": false,
     "start_time": "2025-08-19T17:22:39.462995",
     "status": "completed"
    },
    "tags": []
   },
   "outputs": [],
   "source": [
    "X_train = siab_train.iloc[:,4:164]\n",
    "y_train = siab_train.iloc[:, [3]]"
   ]
  },
  {
   "cell_type": "code",
   "execution_count": null,
   "id": "a843c1c8",
   "metadata": {
    "papermill": {
     "duration": 0.01087,
     "end_time": "2025-08-19T17:22:39.548022",
     "exception": false,
     "start_time": "2025-08-19T17:22:39.537152",
     "status": "completed"
    },
    "tags": []
   },
   "outputs": [],
   "source": []
  },
  {
   "cell_type": "code",
   "execution_count": 18,
   "id": "828c96af-f43a-4ed6-ba47-8ac73a47d56c",
   "metadata": {
    "execution": {
     "iopub.execute_input": "2025-08-19T17:22:39.571179Z",
     "iopub.status.busy": "2025-08-19T17:22:39.569996Z",
     "iopub.status.idle": "2025-08-19T17:22:39.625034Z",
     "shell.execute_reply": "2025-08-19T17:22:39.624307Z"
    },
    "papermill": {
     "duration": 0.069427,
     "end_time": "2025-08-19T17:22:39.627637",
     "exception": false,
     "start_time": "2025-08-19T17:22:39.558210",
     "status": "completed"
    },
    "tags": []
   },
   "outputs": [],
   "source": [
    "X_calib = siab_calib.iloc[:,4:164]\n",
    "y_calib = siab_calib.iloc[:, [3]]"
   ]
  },
  {
   "cell_type": "code",
   "execution_count": 19,
   "id": "c34be9c3-6bd6-476e-acd3-845840e303be",
   "metadata": {
    "execution": {
     "iopub.execute_input": "2025-08-19T17:22:39.669261Z",
     "iopub.status.busy": "2025-08-19T17:22:39.667724Z",
     "iopub.status.idle": "2025-08-19T17:22:39.726590Z",
     "shell.execute_reply": "2025-08-19T17:22:39.725906Z"
    },
    "papermill": {
     "duration": 0.076131,
     "end_time": "2025-08-19T17:22:39.729214",
     "exception": false,
     "start_time": "2025-08-19T17:22:39.653083",
     "status": "completed"
    },
    "tags": []
   },
   "outputs": [],
   "source": [
    "X_test = siab_test.iloc[:,4:164]\n",
    "y_true = siab_test.iloc[:, [3]]"
   ]
  },
  {
   "cell_type": "code",
   "execution_count": 20,
   "id": "e6c733c5",
   "metadata": {
    "execution": {
     "iopub.execute_input": "2025-08-19T17:22:39.770515Z",
     "iopub.status.busy": "2025-08-19T17:22:39.769322Z",
     "iopub.status.idle": "2025-08-19T17:22:39.884099Z",
     "shell.execute_reply": "2025-08-19T17:22:39.883403Z"
    },
    "papermill": {
     "duration": 0.131293,
     "end_time": "2025-08-19T17:22:39.885736",
     "exception": false,
     "start_time": "2025-08-19T17:22:39.754443",
     "status": "completed"
    },
    "tags": []
   },
   "outputs": [],
   "source": [
    "# Auxiliary data needed downstream in the pipeline\n",
    "\n",
    "org_train = X_train.copy()\n",
    "org_test = X_test.copy()\n",
    "org_calib = X_calib.copy()"
   ]
  },
  {
   "cell_type": "markdown",
   "id": "0a4a1b33",
   "metadata": {
    "papermill": {
     "duration": 0.010875,
     "end_time": "2025-08-19T17:22:39.907801",
     "exception": false,
     "start_time": "2025-08-19T17:22:39.896926",
     "status": "completed"
    },
    "tags": []
   },
   "source": [
    "# Preprocessing Data"
   ]
  },
  {
   "cell_type": "code",
   "execution_count": 21,
   "id": "ca879031",
   "metadata": {
    "execution": {
     "iopub.execute_input": "2025-08-19T17:22:39.931021Z",
     "iopub.status.busy": "2025-08-19T17:22:39.930537Z",
     "iopub.status.idle": "2025-08-19T17:22:39.935325Z",
     "shell.execute_reply": "2025-08-19T17:22:39.934706Z"
    },
    "papermill": {
     "duration": 0.020164,
     "end_time": "2025-08-19T17:22:39.938678",
     "exception": false,
     "start_time": "2025-08-19T17:22:39.918514",
     "status": "completed"
    },
    "tags": []
   },
   "outputs": [],
   "source": [
    "# EXCLUDE PROTECTED FEATURES\n",
    "# --------------------------\n",
    "\n",
    "excluded_features = universe[\"exclude_features\"].split(\"-\")\n",
    "excluded_features_dictionary = {\n",
    "    \"nationality\": [\"maxdeutsch1\", \"maxdeutsch.Missing.\"],\n",
    "    \"sex\": [\"frau1\"],\n",
    "    \"age\": [\"age\"],\n",
    "}"
   ]
  },
  {
   "cell_type": "code",
   "execution_count": 22,
   "id": "b745ac60",
   "metadata": {
    "execution": {
     "iopub.execute_input": "2025-08-19T17:22:39.977800Z",
     "iopub.status.busy": "2025-08-19T17:22:39.976568Z",
     "iopub.status.idle": "2025-08-19T17:22:39.986330Z",
     "shell.execute_reply": "2025-08-19T17:22:39.984581Z"
    },
    "papermill": {
     "duration": 0.025656,
     "end_time": "2025-08-19T17:22:39.987848",
     "exception": false,
     "start_time": "2025-08-19T17:22:39.962192",
     "status": "completed"
    },
    "tags": []
   },
   "outputs": [],
   "source": [
    "excluded_features_columns = [\n",
    "    excluded_features_dictionary[f] for f in excluded_features if len(f) > 0 and f != \"none\"\n",
    "]"
   ]
  },
  {
   "cell_type": "code",
   "execution_count": 23,
   "id": "f84f73a2",
   "metadata": {
    "execution": {
     "iopub.execute_input": "2025-08-19T17:22:40.015406Z",
     "iopub.status.busy": "2025-08-19T17:22:40.014239Z",
     "iopub.status.idle": "2025-08-19T17:22:40.023285Z",
     "shell.execute_reply": "2025-08-19T17:22:40.021576Z"
    },
    "papermill": {
     "duration": 0.02351,
     "end_time": "2025-08-19T17:22:40.024743",
     "exception": false,
     "start_time": "2025-08-19T17:22:40.001233",
     "status": "completed"
    },
    "tags": []
   },
   "outputs": [],
   "source": [
    "from fairness_multiverse.universe import flatten_once\n",
    "\n",
    "excluded_features_columns = flatten_once(excluded_features_columns)"
   ]
  },
  {
   "cell_type": "code",
   "execution_count": 24,
   "id": "884dea22",
   "metadata": {
    "execution": {
     "iopub.execute_input": "2025-08-19T17:22:40.051081Z",
     "iopub.status.busy": "2025-08-19T17:22:40.049870Z",
     "iopub.status.idle": "2025-08-19T17:22:40.071060Z",
     "shell.execute_reply": "2025-08-19T17:22:40.070082Z"
    },
    "papermill": {
     "duration": 0.034753,
     "end_time": "2025-08-19T17:22:40.072609",
     "exception": false,
     "start_time": "2025-08-19T17:22:40.037856",
     "status": "completed"
    },
    "tags": []
   },
   "outputs": [
    {
     "name": "stdout",
     "output_type": "stream",
     "text": [
      "Dropping features: ['maxdeutsch1', 'maxdeutsch.Missing.']\n"
     ]
    }
   ],
   "source": [
    "if len(excluded_features_columns) > 0:\n",
    "    print(f\"Dropping features: {excluded_features_columns}\")\n",
    "    X_train.drop(excluded_features_columns, axis=1, inplace=True)"
   ]
  },
  {
   "cell_type": "code",
   "execution_count": 25,
   "id": "95ab8b16",
   "metadata": {
    "execution": {
     "iopub.execute_input": "2025-08-19T17:22:40.106189Z",
     "iopub.status.busy": "2025-08-19T17:22:40.105003Z",
     "iopub.status.idle": "2025-08-19T17:22:40.163306Z",
     "shell.execute_reply": "2025-08-19T17:22:40.162681Z"
    },
    "papermill": {
     "duration": 0.074812,
     "end_time": "2025-08-19T17:22:40.166059",
     "exception": false,
     "start_time": "2025-08-19T17:22:40.091247",
     "status": "completed"
    },
    "tags": []
   },
   "outputs": [
    {
     "name": "stdout",
     "output_type": "stream",
     "text": [
      "Dropping features: ['maxdeutsch1', 'maxdeutsch.Missing.']\n"
     ]
    }
   ],
   "source": [
    "if len(excluded_features_columns) > 0:\n",
    "    print(f\"Dropping features: {excluded_features_columns}\")\n",
    "    X_test.drop(excluded_features_columns, axis=1, inplace=True)"
   ]
  },
  {
   "cell_type": "code",
   "execution_count": 26,
   "id": "1853aaf5-fb9f-46cb-a2b5-8ea4ae2237e4",
   "metadata": {
    "execution": {
     "iopub.execute_input": "2025-08-19T17:22:40.205419Z",
     "iopub.status.busy": "2025-08-19T17:22:40.204250Z",
     "iopub.status.idle": "2025-08-19T17:22:40.260234Z",
     "shell.execute_reply": "2025-08-19T17:22:40.259458Z"
    },
    "papermill": {
     "duration": 0.073253,
     "end_time": "2025-08-19T17:22:40.263281",
     "exception": false,
     "start_time": "2025-08-19T17:22:40.190028",
     "status": "completed"
    },
    "tags": []
   },
   "outputs": [
    {
     "name": "stdout",
     "output_type": "stream",
     "text": [
      "Dropping features: ['maxdeutsch1', 'maxdeutsch.Missing.']\n"
     ]
    }
   ],
   "source": [
    "if len(excluded_features_columns) > 0:\n",
    "    print(f\"Dropping features: {excluded_features_columns}\")\n",
    "    X_calib.drop(excluded_features_columns, axis=1, inplace=True)"
   ]
  },
  {
   "cell_type": "code",
   "execution_count": 27,
   "id": "76c4dc6d",
   "metadata": {
    "execution": {
     "iopub.execute_input": "2025-08-19T17:22:40.302680Z",
     "iopub.status.busy": "2025-08-19T17:22:40.301454Z",
     "iopub.status.idle": "2025-08-19T17:22:40.310565Z",
     "shell.execute_reply": "2025-08-19T17:22:40.308981Z"
    },
    "papermill": {
     "duration": 0.025155,
     "end_time": "2025-08-19T17:22:40.312172",
     "exception": false,
     "start_time": "2025-08-19T17:22:40.287017",
     "status": "completed"
    },
    "tags": []
   },
   "outputs": [],
   "source": [
    "# EXCLUDE CERTAIN SUBGROUPS\n",
    "# -------------------------\n",
    "\n",
    "mode = universe.get(\"exclude_subgroups\", \"keep-all\") # Defaults to \"keep-all\" if the key is missing."
   ]
  },
  {
   "cell_type": "code",
   "execution_count": 28,
   "id": "21994072",
   "metadata": {
    "execution": {
     "iopub.execute_input": "2025-08-19T17:22:40.341626Z",
     "iopub.status.busy": "2025-08-19T17:22:40.340406Z",
     "iopub.status.idle": "2025-08-19T17:22:40.351947Z",
     "shell.execute_reply": "2025-08-19T17:22:40.350602Z"
    },
    "papermill": {
     "duration": 0.025633,
     "end_time": "2025-08-19T17:22:40.353469",
     "exception": false,
     "start_time": "2025-08-19T17:22:40.327836",
     "status": "completed"
    },
    "tags": []
   },
   "outputs": [],
   "source": [
    "if mode == \"keep-all\":\n",
    "    keep_mask = pd.Series(True, index=org_train.index)\n",
    "\n",
    "elif mode == \"drop-non-german\":\n",
    "    keep_mask = (org_train[\"maxdeutsch1\"] == 1) & (org_train[\"maxdeutsch.Missing.\"] == 0)\n",
    "\n",
    "else:\n",
    "    raise ValueError(f\"Unsupported mode for exclude_subgroups: {mode}\")"
   ]
  },
  {
   "cell_type": "code",
   "execution_count": 29,
   "id": "71651440",
   "metadata": {
    "execution": {
     "iopub.execute_input": "2025-08-19T17:22:40.385611Z",
     "iopub.status.busy": "2025-08-19T17:22:40.384372Z",
     "iopub.status.idle": "2025-08-19T17:22:40.395960Z",
     "shell.execute_reply": "2025-08-19T17:22:40.394225Z"
    },
    "papermill": {
     "duration": 0.027137,
     "end_time": "2025-08-19T17:22:40.397587",
     "exception": false,
     "start_time": "2025-08-19T17:22:40.370450",
     "status": "completed"
    },
    "tags": []
   },
   "outputs": [],
   "source": [
    "n_drop = (~keep_mask).sum() # Calculates how many rows are set to be dropped\n",
    "if n_drop > 0:\n",
    "    pct = n_drop / len(keep_mask) * 100\n",
    "    print(f\"Dropping {n_drop} rows ({pct:.2f}%) where mode='{mode}'\")"
   ]
  },
  {
   "cell_type": "code",
   "execution_count": 30,
   "id": "5fb8eee5",
   "metadata": {
    "execution": {
     "iopub.execute_input": "2025-08-19T17:22:40.429976Z",
     "iopub.status.busy": "2025-08-19T17:22:40.428770Z",
     "iopub.status.idle": "2025-08-19T17:22:40.450462Z",
     "shell.execute_reply": "2025-08-19T17:22:40.449270Z"
    },
    "papermill": {
     "duration": 0.038446,
     "end_time": "2025-08-19T17:22:40.452773",
     "exception": false,
     "start_time": "2025-08-19T17:22:40.414327",
     "status": "completed"
    },
    "tags": []
   },
   "outputs": [],
   "source": [
    "X_train = X_train[keep_mask]"
   ]
  },
  {
   "cell_type": "code",
   "execution_count": 31,
   "id": "b202bb3a",
   "metadata": {
    "execution": {
     "iopub.execute_input": "2025-08-19T17:22:40.486037Z",
     "iopub.status.busy": "2025-08-19T17:22:40.484841Z",
     "iopub.status.idle": "2025-08-19T17:22:40.495768Z",
     "shell.execute_reply": "2025-08-19T17:22:40.494210Z"
    },
    "papermill": {
     "duration": 0.026266,
     "end_time": "2025-08-19T17:22:40.497497",
     "exception": false,
     "start_time": "2025-08-19T17:22:40.471231",
     "status": "completed"
    },
    "tags": []
   },
   "outputs": [],
   "source": [
    "y_train = y_train[keep_mask]"
   ]
  },
  {
   "cell_type": "markdown",
   "id": "493e2ac3",
   "metadata": {
    "papermill": {
     "duration": 0.01174,
     "end_time": "2025-08-19T17:22:40.524649",
     "exception": false,
     "start_time": "2025-08-19T17:22:40.512909",
     "status": "completed"
    },
    "tags": []
   },
   "source": [
    "# Model Training"
   ]
  },
  {
   "cell_type": "code",
   "execution_count": 32,
   "id": "679e1268",
   "metadata": {
    "execution": {
     "iopub.execute_input": "2025-08-19T17:22:40.549234Z",
     "iopub.status.busy": "2025-08-19T17:22:40.548036Z",
     "iopub.status.idle": "2025-08-19T17:22:40.649059Z",
     "shell.execute_reply": "2025-08-19T17:22:40.648369Z"
    },
    "papermill": {
     "duration": 0.116261,
     "end_time": "2025-08-19T17:22:40.651778",
     "exception": false,
     "start_time": "2025-08-19T17:22:40.535517",
     "status": "completed"
    },
    "tags": []
   },
   "outputs": [],
   "source": [
    "from sklearn.linear_model import LogisticRegression\n",
    "from sklearn.ensemble import GradientBoostingClassifier, RandomForestClassifier\n",
    "\n",
    "if (universe[\"model\"] == \"logreg\"):\n",
    "    model = LogisticRegression() #penalty=\"none\", solver=\"newton-cg\", max_iter=1)\n",
    "elif (universe[\"model\"] == \"penalized_logreg\"):\n",
    "    model = LogisticRegression(penalty=\"l2\", C=0.1) #, solver=\"newton-cg\", max_iter=1)\n",
    "elif (universe[\"model\"] == \"rf\"):\n",
    "    model = RandomForestClassifier() # n_estimators=100, n_jobs=-1\n",
    "elif (universe[\"model\"] == \"gbm\"):\n",
    "    model = GradientBoostingClassifier()\n",
    "elif (universe[\"model\"] == \"elasticnet\"):\n",
    "    model = LogisticRegression(penalty = 'elasticnet', solver = 'saga', l1_ratio = 0.5) # max_iter=5000\n",
    "else:\n",
    "    raise \"Unsupported universe.model\""
   ]
  },
  {
   "cell_type": "code",
   "execution_count": 33,
   "id": "0cc8f744",
   "metadata": {
    "execution": {
     "iopub.execute_input": "2025-08-19T17:22:40.699681Z",
     "iopub.status.busy": "2025-08-19T17:22:40.698418Z",
     "iopub.status.idle": "2025-08-19T17:22:40.711940Z",
     "shell.execute_reply": "2025-08-19T17:22:40.710902Z"
    },
    "papermill": {
     "duration": 0.028918,
     "end_time": "2025-08-19T17:22:40.713599",
     "exception": false,
     "start_time": "2025-08-19T17:22:40.684681",
     "status": "completed"
    },
    "tags": []
   },
   "outputs": [],
   "source": [
    "from sklearn.pipeline import Pipeline\n",
    "from sklearn.preprocessing import StandardScaler\n",
    "\n",
    "model = Pipeline([\n",
    "    #(\"continuous_processor\", continuous_processor),\n",
    "    #(\"categorical_preprocessor\", categorical_preprocessor),\n",
    "    (\"scale\", StandardScaler() if universe[\"scale\"] == \"scale\" else None), \n",
    "    (\"model\", model),\n",
    "])"
   ]
  },
  {
   "cell_type": "code",
   "execution_count": 34,
   "id": "9442c04d",
   "metadata": {
    "execution": {
     "iopub.execute_input": "2025-08-19T17:22:40.773303Z",
     "iopub.status.busy": "2025-08-19T17:22:40.769904Z",
     "iopub.status.idle": "2025-08-19T17:22:49.366725Z",
     "shell.execute_reply": "2025-08-19T17:22:49.365793Z"
    },
    "papermill": {
     "duration": 8.634119,
     "end_time": "2025-08-19T17:22:49.367952",
     "exception": false,
     "start_time": "2025-08-19T17:22:40.733833",
     "status": "completed"
    },
    "tags": []
   },
   "outputs": [
    {
     "data": {
      "text/html": [
       "<style>#sk-container-id-1 {color: black;background-color: white;}#sk-container-id-1 pre{padding: 0;}#sk-container-id-1 div.sk-toggleable {background-color: white;}#sk-container-id-1 label.sk-toggleable__label {cursor: pointer;display: block;width: 100%;margin-bottom: 0;padding: 0.3em;box-sizing: border-box;text-align: center;}#sk-container-id-1 label.sk-toggleable__label-arrow:before {content: \"▸\";float: left;margin-right: 0.25em;color: #696969;}#sk-container-id-1 label.sk-toggleable__label-arrow:hover:before {color: black;}#sk-container-id-1 div.sk-estimator:hover label.sk-toggleable__label-arrow:before {color: black;}#sk-container-id-1 div.sk-toggleable__content {max-height: 0;max-width: 0;overflow: hidden;text-align: left;background-color: #f0f8ff;}#sk-container-id-1 div.sk-toggleable__content pre {margin: 0.2em;color: black;border-radius: 0.25em;background-color: #f0f8ff;}#sk-container-id-1 input.sk-toggleable__control:checked~div.sk-toggleable__content {max-height: 200px;max-width: 100%;overflow: auto;}#sk-container-id-1 input.sk-toggleable__control:checked~label.sk-toggleable__label-arrow:before {content: \"▾\";}#sk-container-id-1 div.sk-estimator input.sk-toggleable__control:checked~label.sk-toggleable__label {background-color: #d4ebff;}#sk-container-id-1 div.sk-label input.sk-toggleable__control:checked~label.sk-toggleable__label {background-color: #d4ebff;}#sk-container-id-1 input.sk-hidden--visually {border: 0;clip: rect(1px 1px 1px 1px);clip: rect(1px, 1px, 1px, 1px);height: 1px;margin: -1px;overflow: hidden;padding: 0;position: absolute;width: 1px;}#sk-container-id-1 div.sk-estimator {font-family: monospace;background-color: #f0f8ff;border: 1px dotted black;border-radius: 0.25em;box-sizing: border-box;margin-bottom: 0.5em;}#sk-container-id-1 div.sk-estimator:hover {background-color: #d4ebff;}#sk-container-id-1 div.sk-parallel-item::after {content: \"\";width: 100%;border-bottom: 1px solid gray;flex-grow: 1;}#sk-container-id-1 div.sk-label:hover label.sk-toggleable__label {background-color: #d4ebff;}#sk-container-id-1 div.sk-serial::before {content: \"\";position: absolute;border-left: 1px solid gray;box-sizing: border-box;top: 0;bottom: 0;left: 50%;z-index: 0;}#sk-container-id-1 div.sk-serial {display: flex;flex-direction: column;align-items: center;background-color: white;padding-right: 0.2em;padding-left: 0.2em;position: relative;}#sk-container-id-1 div.sk-item {position: relative;z-index: 1;}#sk-container-id-1 div.sk-parallel {display: flex;align-items: stretch;justify-content: center;background-color: white;position: relative;}#sk-container-id-1 div.sk-item::before, #sk-container-id-1 div.sk-parallel-item::before {content: \"\";position: absolute;border-left: 1px solid gray;box-sizing: border-box;top: 0;bottom: 0;left: 50%;z-index: -1;}#sk-container-id-1 div.sk-parallel-item {display: flex;flex-direction: column;z-index: 1;position: relative;background-color: white;}#sk-container-id-1 div.sk-parallel-item:first-child::after {align-self: flex-end;width: 50%;}#sk-container-id-1 div.sk-parallel-item:last-child::after {align-self: flex-start;width: 50%;}#sk-container-id-1 div.sk-parallel-item:only-child::after {width: 0;}#sk-container-id-1 div.sk-dashed-wrapped {border: 1px dashed gray;margin: 0 0.4em 0.5em 0.4em;box-sizing: border-box;padding-bottom: 0.4em;background-color: white;}#sk-container-id-1 div.sk-label label {font-family: monospace;font-weight: bold;display: inline-block;line-height: 1.2em;}#sk-container-id-1 div.sk-label-container {text-align: center;}#sk-container-id-1 div.sk-container {/* jupyter's `normalize.less` sets `[hidden] { display: none; }` but bootstrap.min.css set `[hidden] { display: none !important; }` so we also need the `!important` here to be able to override the default hidden behavior on the sphinx rendered scikit-learn.org. See: https://github.com/scikit-learn/scikit-learn/issues/21755 */display: inline-block !important;position: relative;}#sk-container-id-1 div.sk-text-repr-fallback {display: none;}</style><div id=\"sk-container-id-1\" class=\"sk-top-container\"><div class=\"sk-text-repr-fallback\"><pre>Pipeline(steps=[(&#x27;scale&#x27;, None), (&#x27;model&#x27;, RandomForestClassifier())])</pre><b>In a Jupyter environment, please rerun this cell to show the HTML representation or trust the notebook. <br />On GitHub, the HTML representation is unable to render, please try loading this page with nbviewer.org.</b></div><div class=\"sk-container\" hidden><div class=\"sk-item sk-dashed-wrapped\"><div class=\"sk-label-container\"><div class=\"sk-label sk-toggleable\"><input class=\"sk-toggleable__control sk-hidden--visually\" id=\"sk-estimator-id-1\" type=\"checkbox\" ><label for=\"sk-estimator-id-1\" class=\"sk-toggleable__label sk-toggleable__label-arrow\">Pipeline</label><div class=\"sk-toggleable__content\"><pre>Pipeline(steps=[(&#x27;scale&#x27;, None), (&#x27;model&#x27;, RandomForestClassifier())])</pre></div></div></div><div class=\"sk-serial\"><div class=\"sk-item\"><div class=\"sk-estimator sk-toggleable\"><input class=\"sk-toggleable__control sk-hidden--visually\" id=\"sk-estimator-id-2\" type=\"checkbox\" ><label for=\"sk-estimator-id-2\" class=\"sk-toggleable__label sk-toggleable__label-arrow\">None</label><div class=\"sk-toggleable__content\"><pre>None</pre></div></div></div><div class=\"sk-item\"><div class=\"sk-estimator sk-toggleable\"><input class=\"sk-toggleable__control sk-hidden--visually\" id=\"sk-estimator-id-3\" type=\"checkbox\" ><label for=\"sk-estimator-id-3\" class=\"sk-toggleable__label sk-toggleable__label-arrow\">RandomForestClassifier</label><div class=\"sk-toggleable__content\"><pre>RandomForestClassifier()</pre></div></div></div></div></div></div></div>"
      ],
      "text/plain": [
       "Pipeline(steps=[('scale', None), ('model', RandomForestClassifier())])"
      ]
     },
     "execution_count": 34,
     "metadata": {},
     "output_type": "execute_result"
    }
   ],
   "source": [
    "model.fit(X_train, y_train.values.ravel())"
   ]
  },
  {
   "cell_type": "code",
   "execution_count": 35,
   "id": "a7cf2e16",
   "metadata": {
    "execution": {
     "iopub.execute_input": "2025-08-19T17:22:49.401877Z",
     "iopub.status.busy": "2025-08-19T17:22:49.398199Z",
     "iopub.status.idle": "2025-08-19T17:22:51.838980Z",
     "shell.execute_reply": "2025-08-19T17:22:51.838013Z"
    },
    "papermill": {
     "duration": 2.458067,
     "end_time": "2025-08-19T17:22:51.840549",
     "exception": false,
     "start_time": "2025-08-19T17:22:49.382482",
     "status": "completed"
    },
    "tags": []
   },
   "outputs": [
    {
     "data": {
      "text/plain": [
       "0.8644521235090848"
      ]
     },
     "execution_count": 35,
     "metadata": {},
     "output_type": "execute_result"
    }
   ],
   "source": [
    "from fairness_multiverse.universe import predict_w_threshold\n",
    "\n",
    "probs_test = model.predict_proba(X_test)\n",
    "\n",
    "'''\n",
    "Below code returns a boolean array (or binary 0/1 array depending on how it’s used) where each element \n",
    "is True if the probability of class 1 is greater than or equal to the threshold, and False otherwise.\n",
    "'''\n",
    "y_pred_default = predict_w_threshold(probs_test, 0.5)\n",
    "\n",
    "from sklearn.metrics import accuracy_score\n",
    "\n",
    "# Naive prediction\n",
    "accuracy_score(y_true = y_true, y_pred = y_pred_default)"
   ]
  },
  {
   "cell_type": "code",
   "execution_count": 36,
   "id": "081964c3",
   "metadata": {
    "execution": {
     "iopub.execute_input": "2025-08-19T17:22:51.873780Z",
     "iopub.status.busy": "2025-08-19T17:22:51.871840Z",
     "iopub.status.idle": "2025-08-19T17:22:54.301072Z",
     "shell.execute_reply": "2025-08-19T17:22:54.299928Z"
    },
    "papermill": {
     "duration": 2.446251,
     "end_time": "2025-08-19T17:22:54.303701",
     "exception": false,
     "start_time": "2025-08-19T17:22:51.857450",
     "status": "completed"
    },
    "tags": []
   },
   "outputs": [
    {
     "data": {
      "text/plain": [
       "array([0, 0, 0, ..., 0, 0, 0])"
      ]
     },
     "execution_count": 36,
     "metadata": {},
     "output_type": "execute_result"
    }
   ],
   "source": [
    "model.predict(X_test)"
   ]
  },
  {
   "cell_type": "markdown",
   "id": "56c9705b",
   "metadata": {
    "papermill": {
     "duration": 0.013069,
     "end_time": "2025-08-19T17:22:54.342670",
     "exception": false,
     "start_time": "2025-08-19T17:22:54.329601",
     "status": "completed"
    },
    "tags": []
   },
   "source": [
    "# Conformal Prediction"
   ]
  },
  {
   "cell_type": "code",
   "execution_count": 37,
   "id": "160ec6ff",
   "metadata": {
    "execution": {
     "iopub.execute_input": "2025-08-19T17:22:54.369690Z",
     "iopub.status.busy": "2025-08-19T17:22:54.368232Z",
     "iopub.status.idle": "2025-08-19T17:22:54.378570Z",
     "shell.execute_reply": "2025-08-19T17:22:54.376941Z"
    },
    "papermill": {
     "duration": 0.026269,
     "end_time": "2025-08-19T17:22:54.380440",
     "exception": false,
     "start_time": "2025-08-19T17:22:54.354171",
     "status": "completed"
    },
    "tags": []
   },
   "outputs": [],
   "source": [
    "# Miscoverage level for conformal prediction (10% allowed error rate => 90% target coverage)\n",
    "alpha = 0.1"
   ]
  },
  {
   "cell_type": "code",
   "execution_count": 38,
   "id": "eadf4555-3dd3-440e-8e35-f82a4ad9f855",
   "metadata": {
    "execution": {
     "iopub.execute_input": "2025-08-19T17:22:54.412288Z",
     "iopub.status.busy": "2025-08-19T17:22:54.410870Z",
     "iopub.status.idle": "2025-08-19T17:22:56.719286Z",
     "shell.execute_reply": "2025-08-19T17:22:56.718478Z"
    },
    "papermill": {
     "duration": 2.323599,
     "end_time": "2025-08-19T17:22:56.720910",
     "exception": false,
     "start_time": "2025-08-19T17:22:54.397311",
     "status": "completed"
    },
    "tags": []
   },
   "outputs": [],
   "source": [
    "probs_calib = model.predict_proba(X_calib)"
   ]
  },
  {
   "cell_type": "code",
   "execution_count": 39,
   "id": "2ed93547-6d5d-4983-9b36-1ecb300da49a",
   "metadata": {
    "execution": {
     "iopub.execute_input": "2025-08-19T17:22:56.751006Z",
     "iopub.status.busy": "2025-08-19T17:22:56.749867Z",
     "iopub.status.idle": "2025-08-19T17:22:56.759364Z",
     "shell.execute_reply": "2025-08-19T17:22:56.758188Z"
    },
    "papermill": {
     "duration": 0.024857,
     "end_time": "2025-08-19T17:22:56.760813",
     "exception": false,
     "start_time": "2025-08-19T17:22:56.735956",
     "status": "completed"
    },
    "tags": []
   },
   "outputs": [],
   "source": [
    "y_calib = y_calib.values.ravel().astype(int)"
   ]
  },
  {
   "cell_type": "code",
   "execution_count": 40,
   "id": "65d1320d-f588-4b38-9072-62af1ae97f7d",
   "metadata": {
    "execution": {
     "iopub.execute_input": "2025-08-19T17:22:56.790659Z",
     "iopub.status.busy": "2025-08-19T17:22:56.789491Z",
     "iopub.status.idle": "2025-08-19T17:22:56.802605Z",
     "shell.execute_reply": "2025-08-19T17:22:56.801425Z"
    },
    "papermill": {
     "duration": 0.028071,
     "end_time": "2025-08-19T17:22:56.804204",
     "exception": false,
     "start_time": "2025-08-19T17:22:56.776133",
     "status": "completed"
    },
    "tags": []
   },
   "outputs": [],
   "source": [
    "from fairness_multiverse.conformal import compute_nc_scores\n",
    "\n",
    "# Compute nonconformity scores on calibration set (1 - probability of true class)\n",
    "nc_scores = compute_nc_scores(probs_calib, y_calib)"
   ]
  },
  {
   "cell_type": "code",
   "execution_count": 41,
   "id": "df3b8ca3-53b7-43d5-9667-7c85da7aeda2",
   "metadata": {
    "execution": {
     "iopub.execute_input": "2025-08-19T17:22:56.837719Z",
     "iopub.status.busy": "2025-08-19T17:22:56.836629Z",
     "iopub.status.idle": "2025-08-19T17:22:56.847036Z",
     "shell.execute_reply": "2025-08-19T17:22:56.845547Z"
    },
    "papermill": {
     "duration": 0.027754,
     "end_time": "2025-08-19T17:22:56.848862",
     "exception": false,
     "start_time": "2025-08-19T17:22:56.821108",
     "status": "completed"
    },
    "tags": []
   },
   "outputs": [],
   "source": [
    "from fairness_multiverse.conformal import find_threshold\n",
    "\n",
    "# Find conformal threshold q_hat for the given alpha (split conformal method)\n",
    "q_hat = find_threshold(nc_scores, alpha)"
   ]
  },
  {
   "cell_type": "code",
   "execution_count": 42,
   "id": "4d29e6c1-0ef6-4aa4-b8fe-4fe79b0d033a",
   "metadata": {
    "execution": {
     "iopub.execute_input": "2025-08-19T17:22:56.881058Z",
     "iopub.status.busy": "2025-08-19T17:22:56.879764Z",
     "iopub.status.idle": "2025-08-19T17:22:56.889966Z",
     "shell.execute_reply": "2025-08-19T17:22:56.888738Z"
    },
    "papermill": {
     "duration": 0.025694,
     "end_time": "2025-08-19T17:22:56.891537",
     "exception": false,
     "start_time": "2025-08-19T17:22:56.865843",
     "status": "completed"
    },
    "tags": []
   },
   "outputs": [
    {
     "data": {
      "text/plain": [
       "0.6599999999999999"
      ]
     },
     "execution_count": 42,
     "metadata": {},
     "output_type": "execute_result"
    }
   ],
   "source": [
    "q_hat"
   ]
  },
  {
   "cell_type": "code",
   "execution_count": 43,
   "id": "92460794-cdac-4be2-ba28-f28c0515a6fb",
   "metadata": {
    "execution": {
     "iopub.execute_input": "2025-08-19T17:22:56.944825Z",
     "iopub.status.busy": "2025-08-19T17:22:56.928598Z",
     "iopub.status.idle": "2025-08-19T17:22:59.775515Z",
     "shell.execute_reply": "2025-08-19T17:22:59.774562Z"
    },
    "papermill": {
     "duration": 2.867463,
     "end_time": "2025-08-19T17:22:59.777182",
     "exception": false,
     "start_time": "2025-08-19T17:22:56.909719",
     "status": "completed"
    },
    "tags": []
   },
   "outputs": [],
   "source": [
    "from fairness_multiverse.conformal import predict_conformal_sets\n",
    "\n",
    "# Generate prediction sets for each test example\n",
    "pred_sets = predict_conformal_sets(model, X_test, q_hat)"
   ]
  },
  {
   "cell_type": "code",
   "execution_count": 44,
   "id": "d90c9a65-e6db-4f5d-80cd-e68fb7e46829",
   "metadata": {
    "execution": {
     "iopub.execute_input": "2025-08-19T17:22:59.816203Z",
     "iopub.status.busy": "2025-08-19T17:22:59.811798Z",
     "iopub.status.idle": "2025-08-19T17:22:59.821807Z",
     "shell.execute_reply": "2025-08-19T17:22:59.820985Z"
    },
    "papermill": {
     "duration": 0.03132,
     "end_time": "2025-08-19T17:22:59.823308",
     "exception": false,
     "start_time": "2025-08-19T17:22:59.791988",
     "status": "completed"
    },
    "tags": []
   },
   "outputs": [],
   "source": [
    "y_true = y_true.squeeze()"
   ]
  },
  {
   "cell_type": "code",
   "execution_count": 45,
   "id": "3a58a54a-1e68-46b9-927a-df01f18aebc8",
   "metadata": {
    "execution": {
     "iopub.execute_input": "2025-08-19T17:22:59.852283Z",
     "iopub.status.busy": "2025-08-19T17:22:59.851818Z",
     "iopub.status.idle": "2025-08-19T17:23:00.343833Z",
     "shell.execute_reply": "2025-08-19T17:23:00.342929Z"
    },
    "papermill": {
     "duration": 0.50634,
     "end_time": "2025-08-19T17:23:00.345461",
     "exception": false,
     "start_time": "2025-08-19T17:22:59.839121",
     "status": "completed"
    },
    "tags": []
   },
   "outputs": [],
   "source": [
    "from fairness_multiverse.conformal import evaluate_sets\n",
    "\n",
    "# Evaluate coverage and average set size on test data\n",
    "metrics = evaluate_sets(pred_sets, y_true)"
   ]
  },
  {
   "cell_type": "markdown",
   "id": "2b569c12-9aaa-4c88-98c9-bbcd0cf3ebb8",
   "metadata": {
    "papermill": {
     "duration": 0.028716,
     "end_time": "2025-08-19T17:23:00.404313",
     "exception": false,
     "start_time": "2025-08-19T17:23:00.375597",
     "status": "completed"
    },
    "tags": []
   },
   "source": [
    "# CP Metrics"
   ]
  },
  {
   "cell_type": "code",
   "execution_count": 46,
   "id": "5ce0a5cb-201f-45a0-ade5-94c7f0bd6095",
   "metadata": {
    "execution": {
     "iopub.execute_input": "2025-08-19T17:23:00.431906Z",
     "iopub.status.busy": "2025-08-19T17:23:00.430623Z",
     "iopub.status.idle": "2025-08-19T17:23:00.441002Z",
     "shell.execute_reply": "2025-08-19T17:23:00.439692Z"
    },
    "papermill": {
     "duration": 0.025616,
     "end_time": "2025-08-19T17:23:00.442692",
     "exception": false,
     "start_time": "2025-08-19T17:23:00.417076",
     "status": "completed"
    },
    "tags": []
   },
   "outputs": [
    {
     "data": {
      "text/plain": [
       "{'coverage': 0.9149258722550441, 'avg_size': 1.1498495151042247}"
      ]
     },
     "execution_count": 46,
     "metadata": {},
     "output_type": "execute_result"
    }
   ],
   "source": [
    "metrics"
   ]
  },
  {
   "cell_type": "code",
   "execution_count": 47,
   "id": "9b9a838d-31c9-430b-ae14-12baee460d17",
   "metadata": {
    "execution": {
     "iopub.execute_input": "2025-08-19T17:23:00.472567Z",
     "iopub.status.busy": "2025-08-19T17:23:00.471253Z",
     "iopub.status.idle": "2025-08-19T17:23:00.481061Z",
     "shell.execute_reply": "2025-08-19T17:23:00.479729Z"
    },
    "papermill": {
     "duration": 0.025168,
     "end_time": "2025-08-19T17:23:00.482854",
     "exception": false,
     "start_time": "2025-08-19T17:23:00.457686",
     "status": "completed"
    },
    "tags": []
   },
   "outputs": [],
   "source": [
    "example_universe = universe.copy()\n",
    "universe_training_year = example_universe.get(\"training_year\")\n",
    "universe_training_size = example_universe.get(\"training_size\")\n",
    "universe_scale = example_universe.get(\"scale\")\n",
    "universe_model = example_universe.get(\"model\")\n",
    "universe_exclude_features = example_universe.get(\"exclude_features\")\n",
    "universe_exclude_subgroups = example_universe.get(\"exclude_subgroups\")"
   ]
  },
  {
   "cell_type": "code",
   "execution_count": 48,
   "id": "f4b6a8ac-9dc0-4245-8a91-5b3b5999c4f9",
   "metadata": {
    "execution": {
     "iopub.execute_input": "2025-08-19T17:23:00.514484Z",
     "iopub.status.busy": "2025-08-19T17:23:00.513119Z",
     "iopub.status.idle": "2025-08-19T17:23:00.522765Z",
     "shell.execute_reply": "2025-08-19T17:23:00.521458Z"
    },
    "papermill": {
     "duration": 0.026826,
     "end_time": "2025-08-19T17:23:00.524674",
     "exception": false,
     "start_time": "2025-08-19T17:23:00.497848",
     "status": "completed"
    },
    "tags": []
   },
   "outputs": [],
   "source": [
    "cp_metrics_dict = {\n",
    "    \"universe_id\": [universe_id],\n",
    "    \"universe_training_year\": [universe_training_year],\n",
    "    \"universe_training_size\": [universe_training_size],\n",
    "    \"universe_scale\": [universe_scale],\n",
    "    \"universe_model\": [universe_model],\n",
    "    \"universe_exclude_features\": [universe_exclude_features],\n",
    "    \"universe_exclude_subgroups\": [universe_exclude_subgroups],\n",
    "    \"q_hat\": [q_hat],\n",
    "    \"coverage\": [metrics[\"coverage\"]],\n",
    "    \"avg_size\": [metrics[\"avg_size\"]],\n",
    "}"
   ]
  },
  {
   "cell_type": "code",
   "execution_count": 49,
   "id": "33007efc-14e9-4ec6-97ac-56a455c82265",
   "metadata": {
    "execution": {
     "iopub.execute_input": "2025-08-19T17:23:00.555754Z",
     "iopub.status.busy": "2025-08-19T17:23:00.554550Z",
     "iopub.status.idle": "2025-08-19T17:23:00.564345Z",
     "shell.execute_reply": "2025-08-19T17:23:00.562931Z"
    },
    "papermill": {
     "duration": 0.025429,
     "end_time": "2025-08-19T17:23:00.565977",
     "exception": false,
     "start_time": "2025-08-19T17:23:00.540548",
     "status": "completed"
    },
    "tags": []
   },
   "outputs": [],
   "source": [
    "cp_metrics_df = pd.DataFrame(cp_metrics_dict)"
   ]
  },
  {
   "cell_type": "code",
   "execution_count": 50,
   "id": "db12611b-57b2-4910-b9d0-355adfd6e7bf",
   "metadata": {
    "execution": {
     "iopub.execute_input": "2025-08-19T17:23:00.597582Z",
     "iopub.status.busy": "2025-08-19T17:23:00.596349Z",
     "iopub.status.idle": "2025-08-19T17:23:00.618039Z",
     "shell.execute_reply": "2025-08-19T17:23:00.616995Z"
    },
    "papermill": {
     "duration": 0.037415,
     "end_time": "2025-08-19T17:23:00.620019",
     "exception": false,
     "start_time": "2025-08-19T17:23:00.582604",
     "status": "completed"
    },
    "tags": []
   },
   "outputs": [
    {
     "data": {
      "text/html": [
       "<div>\n",
       "<style scoped>\n",
       "    .dataframe tbody tr th:only-of-type {\n",
       "        vertical-align: middle;\n",
       "    }\n",
       "\n",
       "    .dataframe tbody tr th {\n",
       "        vertical-align: top;\n",
       "    }\n",
       "\n",
       "    .dataframe thead th {\n",
       "        text-align: right;\n",
       "    }\n",
       "</style>\n",
       "<table border=\"1\" class=\"dataframe\">\n",
       "  <thead>\n",
       "    <tr style=\"text-align: right;\">\n",
       "      <th></th>\n",
       "      <th>universe_id</th>\n",
       "      <th>universe_training_year</th>\n",
       "      <th>universe_training_size</th>\n",
       "      <th>universe_scale</th>\n",
       "      <th>universe_model</th>\n",
       "      <th>universe_exclude_features</th>\n",
       "      <th>universe_exclude_subgroups</th>\n",
       "      <th>q_hat</th>\n",
       "      <th>coverage</th>\n",
       "      <th>avg_size</th>\n",
       "    </tr>\n",
       "  </thead>\n",
       "  <tbody>\n",
       "    <tr>\n",
       "      <th>0</th>\n",
       "      <td>d89b580336fba317b12eb77a4b5ce4d3</td>\n",
       "      <td>2010_14</td>\n",
       "      <td>25k</td>\n",
       "      <td>do-not-scale</td>\n",
       "      <td>rf</td>\n",
       "      <td>nationality</td>\n",
       "      <td>keep-all</td>\n",
       "      <td>0.66</td>\n",
       "      <td>0.914926</td>\n",
       "      <td>1.14985</td>\n",
       "    </tr>\n",
       "  </tbody>\n",
       "</table>\n",
       "</div>"
      ],
      "text/plain": [
       "                        universe_id universe_training_year  \\\n",
       "0  d89b580336fba317b12eb77a4b5ce4d3                2010_14   \n",
       "\n",
       "  universe_training_size universe_scale universe_model  \\\n",
       "0                    25k   do-not-scale             rf   \n",
       "\n",
       "  universe_exclude_features universe_exclude_subgroups  q_hat  coverage  \\\n",
       "0               nationality                   keep-all   0.66  0.914926   \n",
       "\n",
       "   avg_size  \n",
       "0   1.14985  "
      ]
     },
     "execution_count": 50,
     "metadata": {},
     "output_type": "execute_result"
    }
   ],
   "source": [
    "cp_metrics_df"
   ]
  },
  {
   "cell_type": "markdown",
   "id": "c825ecb4-0d3d-41d6-b7c6-eccb21272259",
   "metadata": {
    "papermill": {
     "duration": 0.012825,
     "end_time": "2025-08-19T17:23:00.656263",
     "exception": false,
     "start_time": "2025-08-19T17:23:00.643438",
     "status": "completed"
    },
    "tags": []
   },
   "source": [
    "Conditional coverage & looking at subgroups"
   ]
  },
  {
   "cell_type": "code",
   "execution_count": 51,
   "id": "027ae886-68dd-4141-96c7-805a5450e1ef",
   "metadata": {
    "execution": {
     "iopub.execute_input": "2025-08-19T17:23:00.684949Z",
     "iopub.status.busy": "2025-08-19T17:23:00.683625Z",
     "iopub.status.idle": "2025-08-19T17:23:00.941197Z",
     "shell.execute_reply": "2025-08-19T17:23:00.939902Z"
    },
    "papermill": {
     "duration": 0.274038,
     "end_time": "2025-08-19T17:23:00.943091",
     "exception": false,
     "start_time": "2025-08-19T17:23:00.669053",
     "status": "completed"
    },
    "tags": []
   },
   "outputs": [],
   "source": [
    "from fairness_multiverse.conformal import build_cp_groups\n",
    "\n",
    "cp_groups_df = build_cp_groups(pred_sets, y_true, X_test.index, org_test)"
   ]
  },
  {
   "cell_type": "code",
   "execution_count": 52,
   "id": "6cbdab96-b2b2-45af-ad54-d0516db2e28d",
   "metadata": {
    "execution": {
     "iopub.execute_input": "2025-08-19T17:23:00.994305Z",
     "iopub.status.busy": "2025-08-19T17:23:00.993028Z",
     "iopub.status.idle": "2025-08-19T17:23:01.889955Z",
     "shell.execute_reply": "2025-08-19T17:23:01.888795Z"
    },
    "papermill": {
     "duration": 0.921902,
     "end_time": "2025-08-19T17:23:01.892244",
     "exception": false,
     "start_time": "2025-08-19T17:23:00.970342",
     "status": "completed"
    },
    "tags": []
   },
   "outputs": [],
   "source": [
    "# Define covered = 1 if true_label is in the predicted set\n",
    "cp_groups_df['covered'] = cp_groups_df.apply(\n",
    "    lambda r: int(r['true_label'] in r['pred_set']),\n",
    "    axis=1\n",
    ")"
   ]
  },
  {
   "cell_type": "code",
   "execution_count": 53,
   "id": "90032e27-66df-4540-9169-4e89cfbaa758",
   "metadata": {
    "execution": {
     "iopub.execute_input": "2025-08-19T17:23:01.925001Z",
     "iopub.status.busy": "2025-08-19T17:23:01.923857Z",
     "iopub.status.idle": "2025-08-19T17:23:01.944589Z",
     "shell.execute_reply": "2025-08-19T17:23:01.943788Z"
    },
    "papermill": {
     "duration": 0.036713,
     "end_time": "2025-08-19T17:23:01.946061",
     "exception": false,
     "start_time": "2025-08-19T17:23:01.909348",
     "status": "completed"
    },
    "tags": []
   },
   "outputs": [],
   "source": [
    "subgroups = ['frau1','nongerman','nongerman_male','nongerman_female']\n",
    "\n",
    "# Conditional coverage for subgroup==1\n",
    "cond_coverage = {\n",
    "    g: cp_groups_df.loc[cp_groups_df[g]==1, 'covered'].mean()\n",
    "    for g in subgroups\n",
    "}"
   ]
  },
  {
   "cell_type": "code",
   "execution_count": 54,
   "id": "1e348fb1-b9c3-45bc-ba23-f016827a7e0d",
   "metadata": {
    "execution": {
     "iopub.execute_input": "2025-08-19T17:23:01.984183Z",
     "iopub.status.busy": "2025-08-19T17:23:01.983041Z",
     "iopub.status.idle": "2025-08-19T17:23:02.000978Z",
     "shell.execute_reply": "2025-08-19T17:23:01.999343Z"
    },
    "papermill": {
     "duration": 0.035633,
     "end_time": "2025-08-19T17:23:02.002863",
     "exception": false,
     "start_time": "2025-08-19T17:23:01.967230",
     "status": "completed"
    },
    "tags": []
   },
   "outputs": [
    {
     "data": {
      "text/plain": [
       "{'frau1': 0.9141932875050546,\n",
       " 'nongerman': 0.9074271599393702,\n",
       " 'nongerman_male': 0.9196613527875349,\n",
       " 'nongerman_female': 0.8871833084947839}"
      ]
     },
     "execution_count": 54,
     "metadata": {},
     "output_type": "execute_result"
    }
   ],
   "source": [
    "cond_coverage"
   ]
  },
  {
   "cell_type": "code",
   "execution_count": 55,
   "id": "f5093324-c3dd-4d63-bc4c-8d945e5c8bbb",
   "metadata": {
    "execution": {
     "iopub.execute_input": "2025-08-19T17:23:02.045692Z",
     "iopub.status.busy": "2025-08-19T17:23:02.044695Z",
     "iopub.status.idle": "2025-08-19T17:23:02.057927Z",
     "shell.execute_reply": "2025-08-19T17:23:02.056583Z"
    },
    "papermill": {
     "duration": 0.034156,
     "end_time": "2025-08-19T17:23:02.059294",
     "exception": false,
     "start_time": "2025-08-19T17:23:02.025138",
     "status": "completed"
    },
    "tags": []
   },
   "outputs": [],
   "source": [
    "for subgroup, cov in cond_coverage.items():\n",
    "    cp_metrics_df[f\"cov_{subgroup}\"] = cov"
   ]
  },
  {
   "cell_type": "code",
   "execution_count": 56,
   "id": "6e872e10-dbe5-49e8-b554-5030c98ff75d",
   "metadata": {
    "execution": {
     "iopub.execute_input": "2025-08-19T17:23:02.092029Z",
     "iopub.status.busy": "2025-08-19T17:23:02.091285Z",
     "iopub.status.idle": "2025-08-19T17:23:02.107954Z",
     "shell.execute_reply": "2025-08-19T17:23:02.107252Z"
    },
    "papermill": {
     "duration": 0.034033,
     "end_time": "2025-08-19T17:23:02.109433",
     "exception": false,
     "start_time": "2025-08-19T17:23:02.075400",
     "status": "completed"
    },
    "tags": []
   },
   "outputs": [
    {
     "data": {
      "text/html": [
       "<div>\n",
       "<style scoped>\n",
       "    .dataframe tbody tr th:only-of-type {\n",
       "        vertical-align: middle;\n",
       "    }\n",
       "\n",
       "    .dataframe tbody tr th {\n",
       "        vertical-align: top;\n",
       "    }\n",
       "\n",
       "    .dataframe thead th {\n",
       "        text-align: right;\n",
       "    }\n",
       "</style>\n",
       "<table border=\"1\" class=\"dataframe\">\n",
       "  <thead>\n",
       "    <tr style=\"text-align: right;\">\n",
       "      <th></th>\n",
       "      <th>universe_id</th>\n",
       "      <th>universe_training_year</th>\n",
       "      <th>universe_training_size</th>\n",
       "      <th>universe_scale</th>\n",
       "      <th>universe_model</th>\n",
       "      <th>universe_exclude_features</th>\n",
       "      <th>universe_exclude_subgroups</th>\n",
       "      <th>q_hat</th>\n",
       "      <th>coverage</th>\n",
       "      <th>avg_size</th>\n",
       "      <th>cov_frau1</th>\n",
       "      <th>cov_nongerman</th>\n",
       "      <th>cov_nongerman_male</th>\n",
       "      <th>cov_nongerman_female</th>\n",
       "    </tr>\n",
       "  </thead>\n",
       "  <tbody>\n",
       "    <tr>\n",
       "      <th>0</th>\n",
       "      <td>d89b580336fba317b12eb77a4b5ce4d3</td>\n",
       "      <td>2010_14</td>\n",
       "      <td>25k</td>\n",
       "      <td>do-not-scale</td>\n",
       "      <td>rf</td>\n",
       "      <td>nationality</td>\n",
       "      <td>keep-all</td>\n",
       "      <td>0.66</td>\n",
       "      <td>0.914926</td>\n",
       "      <td>1.14985</td>\n",
       "      <td>0.914193</td>\n",
       "      <td>0.907427</td>\n",
       "      <td>0.919661</td>\n",
       "      <td>0.887183</td>\n",
       "    </tr>\n",
       "  </tbody>\n",
       "</table>\n",
       "</div>"
      ],
      "text/plain": [
       "                        universe_id universe_training_year  \\\n",
       "0  d89b580336fba317b12eb77a4b5ce4d3                2010_14   \n",
       "\n",
       "  universe_training_size universe_scale universe_model  \\\n",
       "0                    25k   do-not-scale             rf   \n",
       "\n",
       "  universe_exclude_features universe_exclude_subgroups  q_hat  coverage  \\\n",
       "0               nationality                   keep-all   0.66  0.914926   \n",
       "\n",
       "   avg_size  cov_frau1  cov_nongerman  cov_nongerman_male  \\\n",
       "0   1.14985   0.914193       0.907427            0.919661   \n",
       "\n",
       "   cov_nongerman_female  \n",
       "0              0.887183  "
      ]
     },
     "execution_count": 56,
     "metadata": {},
     "output_type": "execute_result"
    }
   ],
   "source": [
    "cp_metrics_df"
   ]
  },
  {
   "cell_type": "markdown",
   "id": "33774451",
   "metadata": {
    "papermill": {
     "duration": 0.012523,
     "end_time": "2025-08-19T17:23:02.137245",
     "exception": false,
     "start_time": "2025-08-19T17:23:02.124722",
     "status": "completed"
    },
    "tags": []
   },
   "source": [
    "# (Fairness) Metrics"
   ]
  },
  {
   "cell_type": "code",
   "execution_count": 57,
   "id": "debc5d62",
   "metadata": {
    "execution": {
     "iopub.execute_input": "2025-08-19T17:23:02.164805Z",
     "iopub.status.busy": "2025-08-19T17:23:02.164376Z",
     "iopub.status.idle": "2025-08-19T17:23:02.179057Z",
     "shell.execute_reply": "2025-08-19T17:23:02.178419Z"
    },
    "papermill": {
     "duration": 0.042157,
     "end_time": "2025-08-19T17:23:02.192528",
     "exception": false,
     "start_time": "2025-08-19T17:23:02.150371",
     "status": "completed"
    },
    "tags": []
   },
   "outputs": [],
   "source": [
    "colname_to_bin = \"maxdeutsch1\"\n",
    "majority_value = org_train[colname_to_bin].mode()[0]\n",
    "\n",
    "org_test[\"majmin\"] = np.where(org_test[colname_to_bin] == majority_value, \"majority\", \"minority\")"
   ]
  },
  {
   "cell_type": "code",
   "execution_count": 58,
   "id": "06a50de5",
   "metadata": {
    "execution": {
     "iopub.execute_input": "2025-08-19T17:23:02.230491Z",
     "iopub.status.busy": "2025-08-19T17:23:02.229220Z",
     "iopub.status.idle": "2025-08-19T17:23:03.955562Z",
     "shell.execute_reply": "2025-08-19T17:23:03.954420Z"
    },
    "papermill": {
     "duration": 1.743821,
     "end_time": "2025-08-19T17:23:03.957106",
     "exception": false,
     "start_time": "2025-08-19T17:23:02.213285",
     "status": "completed"
    },
    "tags": []
   },
   "outputs": [],
   "source": [
    "example_universe = universe.copy()\n",
    "example_universe[\"cutoff\"] = example_universe[\"cutoff\"][0]\n",
    "example_universe[\"eval_fairness_grouping\"] = example_universe[\"eval_fairness_grouping\"][0]\n",
    "fairness_dict, metric_frame = universe_analysis.compute_metrics(\n",
    "    example_universe,\n",
    "    y_pred_prob=probs_test,\n",
    "    y_test=y_true,\n",
    "    org_test=org_test,\n",
    ")"
   ]
  },
  {
   "cell_type": "markdown",
   "id": "f95d4e02",
   "metadata": {
    "papermill": {
     "duration": 0.022159,
     "end_time": "2025-08-19T17:23:04.005309",
     "exception": false,
     "start_time": "2025-08-19T17:23:03.983150",
     "status": "completed"
    },
    "tags": []
   },
   "source": [
    "# Overall"
   ]
  },
  {
   "cell_type": "markdown",
   "id": "bdee4871",
   "metadata": {
    "papermill": {
     "duration": 0.013225,
     "end_time": "2025-08-19T17:23:04.044295",
     "exception": false,
     "start_time": "2025-08-19T17:23:04.031070",
     "status": "completed"
    },
    "tags": []
   },
   "source": [
    "Main fairness target: Equalized Odds. Seems to be a better fit than equal opportunity, since we're not only interested in Y = 1. Seems to be a better fit than demographic parity, since we also care about accuracy, not just equal distribution of preds.\n",
    "\n",
    "Pick column for computation of fairness metrics\n",
    "\n",
    "Performance\n",
    "Overall performance measures, most interesting in relation to the measures split by group below"
   ]
  },
  {
   "cell_type": "code",
   "execution_count": 59,
   "id": "c4e067c6",
   "metadata": {
    "execution": {
     "iopub.execute_input": "2025-08-19T17:23:04.073980Z",
     "iopub.status.busy": "2025-08-19T17:23:04.072834Z",
     "iopub.status.idle": "2025-08-19T17:23:04.088871Z",
     "shell.execute_reply": "2025-08-19T17:23:04.087739Z"
    },
    "papermill": {
     "duration": 0.03391,
     "end_time": "2025-08-19T17:23:04.090483",
     "exception": false,
     "start_time": "2025-08-19T17:23:04.056573",
     "status": "completed"
    },
    "tags": []
   },
   "outputs": [
    {
     "data": {
      "text/plain": [
       "accuracy                   0.222205\n",
       "balanced accuracy          0.543795\n",
       "f1                         0.243604\n",
       "precision                  0.139163\n",
       "false positive rate        0.888775\n",
       "false negative rate        0.023636\n",
       "selection rate             0.900011\n",
       "count                  89710.000000\n",
       "dtype: float64"
      ]
     },
     "execution_count": 59,
     "metadata": {},
     "output_type": "execute_result"
    }
   ],
   "source": [
    "metric_frame.overall"
   ]
  },
  {
   "cell_type": "markdown",
   "id": "e968fe9d",
   "metadata": {
    "papermill": {
     "duration": 0.012449,
     "end_time": "2025-08-19T17:23:04.118401",
     "exception": false,
     "start_time": "2025-08-19T17:23:04.105952",
     "status": "completed"
    },
    "tags": []
   },
   "source": [
    "By Group"
   ]
  },
  {
   "cell_type": "code",
   "execution_count": 60,
   "id": "ec325bce",
   "metadata": {
    "execution": {
     "iopub.execute_input": "2025-08-19T17:23:04.145812Z",
     "iopub.status.busy": "2025-08-19T17:23:04.144821Z",
     "iopub.status.idle": "2025-08-19T17:23:04.166995Z",
     "shell.execute_reply": "2025-08-19T17:23:04.166173Z"
    },
    "papermill": {
     "duration": 0.037818,
     "end_time": "2025-08-19T17:23:04.168680",
     "exception": false,
     "start_time": "2025-08-19T17:23:04.130862",
     "status": "completed"
    },
    "tags": []
   },
   "outputs": [
    {
     "data": {
      "text/html": [
       "<div>\n",
       "<style scoped>\n",
       "    .dataframe tbody tr th:only-of-type {\n",
       "        vertical-align: middle;\n",
       "    }\n",
       "\n",
       "    .dataframe tbody tr th {\n",
       "        vertical-align: top;\n",
       "    }\n",
       "\n",
       "    .dataframe thead th {\n",
       "        text-align: right;\n",
       "    }\n",
       "</style>\n",
       "<table border=\"1\" class=\"dataframe\">\n",
       "  <thead>\n",
       "    <tr style=\"text-align: right;\">\n",
       "      <th></th>\n",
       "      <th>accuracy</th>\n",
       "      <th>balanced accuracy</th>\n",
       "      <th>f1</th>\n",
       "      <th>precision</th>\n",
       "      <th>false positive rate</th>\n",
       "      <th>false negative rate</th>\n",
       "      <th>selection rate</th>\n",
       "      <th>count</th>\n",
       "    </tr>\n",
       "    <tr>\n",
       "      <th>majmin</th>\n",
       "      <th></th>\n",
       "      <th></th>\n",
       "      <th></th>\n",
       "      <th></th>\n",
       "      <th></th>\n",
       "      <th></th>\n",
       "      <th></th>\n",
       "      <th></th>\n",
       "    </tr>\n",
       "  </thead>\n",
       "  <tbody>\n",
       "    <tr>\n",
       "      <th>majority</th>\n",
       "      <td>0.217305</td>\n",
       "      <td>0.543317</td>\n",
       "      <td>0.249851</td>\n",
       "      <td>0.143041</td>\n",
       "      <td>0.899800</td>\n",
       "      <td>0.013567</td>\n",
       "      <td>0.911248</td>\n",
       "      <td>69170.0</td>\n",
       "    </tr>\n",
       "    <tr>\n",
       "      <th>minority</th>\n",
       "      <td>0.238705</td>\n",
       "      <td>0.542572</td>\n",
       "      <td>0.221149</td>\n",
       "      <td>0.125360</td>\n",
       "      <td>0.852355</td>\n",
       "      <td>0.062500</td>\n",
       "      <td>0.862171</td>\n",
       "      <td>20540.0</td>\n",
       "    </tr>\n",
       "  </tbody>\n",
       "</table>\n",
       "</div>"
      ],
      "text/plain": [
       "          accuracy  balanced accuracy        f1  precision  \\\n",
       "majmin                                                       \n",
       "majority  0.217305           0.543317  0.249851   0.143041   \n",
       "minority  0.238705           0.542572  0.221149   0.125360   \n",
       "\n",
       "          false positive rate  false negative rate  selection rate    count  \n",
       "majmin                                                                       \n",
       "majority             0.899800             0.013567        0.911248  69170.0  \n",
       "minority             0.852355             0.062500        0.862171  20540.0  "
      ]
     },
     "execution_count": 60,
     "metadata": {},
     "output_type": "execute_result"
    }
   ],
   "source": [
    "metric_frame.by_group"
   ]
  },
  {
   "cell_type": "code",
   "execution_count": 61,
   "id": "a9ddbe63",
   "metadata": {
    "execution": {
     "iopub.execute_input": "2025-08-19T17:23:04.203821Z",
     "iopub.status.busy": "2025-08-19T17:23:04.202804Z",
     "iopub.status.idle": "2025-08-19T17:23:05.977885Z",
     "shell.execute_reply": "2025-08-19T17:23:05.976877Z"
    },
    "papermill": {
     "duration": 1.792071,
     "end_time": "2025-08-19T17:23:05.980492",
     "exception": false,
     "start_time": "2025-08-19T17:23:04.188421",
     "status": "completed"
    },
    "tags": []
   },
   "outputs": [
    {
     "data": {
      "text/plain": [
       "array([[<Axes: title={'center': 'accuracy'}, xlabel='majmin'>,\n",
       "        <Axes: title={'center': 'balanced accuracy'}, xlabel='majmin'>,\n",
       "        <Axes: title={'center': 'f1'}, xlabel='majmin'>],\n",
       "       [<Axes: title={'center': 'precision'}, xlabel='majmin'>,\n",
       "        <Axes: title={'center': 'false positive rate'}, xlabel='majmin'>,\n",
       "        <Axes: title={'center': 'false negative rate'}, xlabel='majmin'>],\n",
       "       [<Axes: title={'center': 'selection rate'}, xlabel='majmin'>,\n",
       "        <Axes: title={'center': 'count'}, xlabel='majmin'>,\n",
       "        <Axes: xlabel='majmin'>]], dtype=object)"
      ]
     },
     "execution_count": 61,
     "metadata": {},
     "output_type": "execute_result"
    },
    {
     "data": {
      "image/png": "[encoded data removed]",
      "text/plain": [
       "<Figure size 1200x800 with 9 Axes>"
      ]
     },
     "metadata": {},
     "output_type": "display_data"
    }
   ],
   "source": [
    "# In a graphic\n",
    "metric_frame.by_group.plot.bar(\n",
    "    subplots=True,\n",
    "    layout=[3, 3],\n",
    "    legend=False,\n",
    "    figsize=[12, 8],\n",
    "    title=\"Show all metrics\",\n",
    ")"
   ]
  },
  {
   "cell_type": "markdown",
   "id": "f57a0bac",
   "metadata": {
    "papermill": {
     "duration": 0.025112,
     "end_time": "2025-08-19T17:23:06.030596",
     "exception": false,
     "start_time": "2025-08-19T17:23:06.005484",
     "status": "completed"
    },
    "tags": []
   },
   "source": [
    "# Final Output"
   ]
  },
  {
   "cell_type": "code",
   "execution_count": 62,
   "id": "96d280a3",
   "metadata": {
    "execution": {
     "iopub.execute_input": "2025-08-19T17:23:06.063693Z",
     "iopub.status.busy": "2025-08-19T17:23:06.061308Z",
     "iopub.status.idle": "2025-08-19T17:23:06.081072Z",
     "shell.execute_reply": "2025-08-19T17:23:06.079972Z"
    },
    "papermill": {
     "duration": 0.03775,
     "end_time": "2025-08-19T17:23:06.082659",
     "exception": false,
     "start_time": "2025-08-19T17:23:06.044909",
     "status": "completed"
    },
    "tags": []
   },
   "outputs": [
    {
     "data": {
      "text/plain": [
       "4"
      ]
     },
     "execution_count": 62,
     "metadata": {},
     "output_type": "execute_result"
    }
   ],
   "source": [
    "sub_universes = universe_analysis.generate_sub_universes()\n",
    "len(sub_universes)"
   ]
  },
  {
   "cell_type": "code",
   "execution_count": 63,
   "id": "92adf7ba",
   "metadata": {
    "execution": {
     "iopub.execute_input": "2025-08-19T17:23:06.122655Z",
     "iopub.status.busy": "2025-08-19T17:23:06.120957Z",
     "iopub.status.idle": "2025-08-19T17:23:06.148920Z",
     "shell.execute_reply": "2025-08-19T17:23:06.147204Z"
    },
    "papermill": {
     "duration": 0.047332,
     "end_time": "2025-08-19T17:23:06.150998",
     "exception": false,
     "start_time": "2025-08-19T17:23:06.103666",
     "status": "completed"
    },
    "tags": []
   },
   "outputs": [],
   "source": [
    "def filter_sub_universe_data(sub_universe, org_test):\n",
    "    # Keep all rows — no filtering\n",
    "    keep_rows_mask = np.ones(org_test.shape[0], dtype=bool)\n",
    "\n",
    "    print(f\"[INFO] Keeping all rows: {keep_rows_mask.sum()} rows retained.\")\n",
    "    return keep_rows_mask"
   ]
  },
  {
   "cell_type": "code",
   "execution_count": 64,
   "id": "4a759155",
   "metadata": {
    "execution": {
     "iopub.execute_input": "2025-08-19T17:23:06.196385Z",
     "iopub.status.busy": "2025-08-19T17:23:06.195072Z",
     "iopub.status.idle": "2025-08-19T17:23:12.827700Z",
     "shell.execute_reply": "2025-08-19T17:23:12.825856Z"
    },
    "papermill": {
     "duration": 6.650998,
     "end_time": "2025-08-19T17:23:12.829495",
     "exception": false,
     "start_time": "2025-08-19T17:23:06.178497",
     "status": "completed"
    },
    "tags": []
   },
   "outputs": [
    {
     "name": "stdout",
     "output_type": "stream",
     "text": [
      "Stopping execution_time clock.\n",
      "[INFO] Keeping all rows: 89710 rows retained.\n"
     ]
    },
    {
     "name": "stdout",
     "output_type": "stream",
     "text": [
      "[INFO] Keeping all rows: 89710 rows retained.\n"
     ]
    },
    {
     "name": "stdout",
     "output_type": "stream",
     "text": [
      "[INFO] Keeping all rows: 89710 rows retained.\n"
     ]
    },
    {
     "name": "stdout",
     "output_type": "stream",
     "text": [
      "[INFO] Keeping all rows: 89710 rows retained.\n"
     ]
    },
    {
     "data": {
      "text/html": [
       "<div>\n",
       "<style scoped>\n",
       "    .dataframe tbody tr th:only-of-type {\n",
       "        vertical-align: middle;\n",
       "    }\n",
       "\n",
       "    .dataframe tbody tr th {\n",
       "        vertical-align: top;\n",
       "    }\n",
       "\n",
       "    .dataframe thead th {\n",
       "        text-align: right;\n",
       "    }\n",
       "</style>\n",
       "<table border=\"1\" class=\"dataframe\">\n",
       "  <thead>\n",
       "    <tr style=\"text-align: right;\">\n",
       "      <th></th>\n",
       "      <th>run_no</th>\n",
       "      <th>universe_id</th>\n",
       "      <th>universe_settings</th>\n",
       "      <th>execution_time</th>\n",
       "      <th>test_size_n</th>\n",
       "      <th>test_size_frac</th>\n",
       "      <th>fair_main_equalized_odds_difference</th>\n",
       "      <th>fair_main_equalized_odds_ratio</th>\n",
       "      <th>fair_main_demographic_parity_difference</th>\n",
       "      <th>fair_main_demographic_parity_ratio</th>\n",
       "      <th>...</th>\n",
       "      <th>perf_grp_precision_0</th>\n",
       "      <th>perf_grp_precision_1</th>\n",
       "      <th>perf_grp_false positive rate_0</th>\n",
       "      <th>perf_grp_false positive rate_1</th>\n",
       "      <th>perf_grp_false negative rate_0</th>\n",
       "      <th>perf_grp_false negative rate_1</th>\n",
       "      <th>perf_grp_selection rate_0</th>\n",
       "      <th>perf_grp_selection rate_1</th>\n",
       "      <th>perf_grp_count_0</th>\n",
       "      <th>perf_grp_count_1</th>\n",
       "    </tr>\n",
       "  </thead>\n",
       "  <tbody>\n",
       "    <tr>\n",
       "      <th>0</th>\n",
       "      <td>2</td>\n",
       "      <td>d89b580336fba317b12eb77a4b5ce4d3</td>\n",
       "      <td>{\"cutoff\": \"quantile_0.1\", \"eval_fairness_grou...</td>\n",
       "      <td>38.698532</td>\n",
       "      <td>89710</td>\n",
       "      <td>1.0</td>\n",
       "      <td>0.048933</td>\n",
       "      <td>0.947272</td>\n",
       "      <td>0.049076</td>\n",
       "      <td>0.946144</td>\n",
       "      <td>...</td>\n",
       "      <td>NaN</td>\n",
       "      <td>NaN</td>\n",
       "      <td>NaN</td>\n",
       "      <td>NaN</td>\n",
       "      <td>NaN</td>\n",
       "      <td>NaN</td>\n",
       "      <td>NaN</td>\n",
       "      <td>NaN</td>\n",
       "      <td>NaN</td>\n",
       "      <td>NaN</td>\n",
       "    </tr>\n",
       "    <tr>\n",
       "      <th>0</th>\n",
       "      <td>2</td>\n",
       "      <td>d89b580336fba317b12eb77a4b5ce4d3</td>\n",
       "      <td>{\"cutoff\": \"quantile_0.1\", \"eval_fairness_grou...</td>\n",
       "      <td>38.698532</td>\n",
       "      <td>89710</td>\n",
       "      <td>1.0</td>\n",
       "      <td>0.048933</td>\n",
       "      <td>0.947272</td>\n",
       "      <td>0.049076</td>\n",
       "      <td>0.946144</td>\n",
       "      <td>...</td>\n",
       "      <td>0.125360</td>\n",
       "      <td>0.143041</td>\n",
       "      <td>0.852355</td>\n",
       "      <td>0.899800</td>\n",
       "      <td>0.062500</td>\n",
       "      <td>0.013567</td>\n",
       "      <td>0.862171</td>\n",
       "      <td>0.911248</td>\n",
       "      <td>20540.0</td>\n",
       "      <td>69170.0</td>\n",
       "    </tr>\n",
       "    <tr>\n",
       "      <th>0</th>\n",
       "      <td>2</td>\n",
       "      <td>d89b580336fba317b12eb77a4b5ce4d3</td>\n",
       "      <td>{\"cutoff\": \"quantile_0.25\", \"eval_fairness_gro...</td>\n",
       "      <td>38.698532</td>\n",
       "      <td>89710</td>\n",
       "      <td>1.0</td>\n",
       "      <td>0.091468</td>\n",
       "      <td>0.904017</td>\n",
       "      <td>0.065392</td>\n",
       "      <td>0.915061</td>\n",
       "      <td>...</td>\n",
       "      <td>NaN</td>\n",
       "      <td>NaN</td>\n",
       "      <td>NaN</td>\n",
       "      <td>NaN</td>\n",
       "      <td>NaN</td>\n",
       "      <td>NaN</td>\n",
       "      <td>NaN</td>\n",
       "      <td>NaN</td>\n",
       "      <td>NaN</td>\n",
       "      <td>NaN</td>\n",
       "    </tr>\n",
       "    <tr>\n",
       "      <th>0</th>\n",
       "      <td>2</td>\n",
       "      <td>d89b580336fba317b12eb77a4b5ce4d3</td>\n",
       "      <td>{\"cutoff\": \"quantile_0.25\", \"eval_fairness_gro...</td>\n",
       "      <td>38.698532</td>\n",
       "      <td>89710</td>\n",
       "      <td>1.0</td>\n",
       "      <td>0.091468</td>\n",
       "      <td>0.904017</td>\n",
       "      <td>0.065392</td>\n",
       "      <td>0.915061</td>\n",
       "      <td>...</td>\n",
       "      <td>0.140981</td>\n",
       "      <td>0.163562</td>\n",
       "      <td>0.684019</td>\n",
       "      <td>0.741996</td>\n",
       "      <td>0.138514</td>\n",
       "      <td>0.047046</td>\n",
       "      <td>0.704479</td>\n",
       "      <td>0.769871</td>\n",
       "      <td>20540.0</td>\n",
       "      <td>69170.0</td>\n",
       "    </tr>\n",
       "  </tbody>\n",
       "</table>\n",
       "<p>4 rows × 50 columns</p>\n",
       "</div>"
      ],
      "text/plain": [
       "  run_no                       universe_id  \\\n",
       "0      2  d89b580336fba317b12eb77a4b5ce4d3   \n",
       "0      2  d89b580336fba317b12eb77a4b5ce4d3   \n",
       "0      2  d89b580336fba317b12eb77a4b5ce4d3   \n",
       "0      2  d89b580336fba317b12eb77a4b5ce4d3   \n",
       "\n",
       "                                   universe_settings  execution_time  \\\n",
       "0  {\"cutoff\": \"quantile_0.1\", \"eval_fairness_grou...       38.698532   \n",
       "0  {\"cutoff\": \"quantile_0.1\", \"eval_fairness_grou...       38.698532   \n",
       "0  {\"cutoff\": \"quantile_0.25\", \"eval_fairness_gro...       38.698532   \n",
       "0  {\"cutoff\": \"quantile_0.25\", \"eval_fairness_gro...       38.698532   \n",
       "\n",
       "   test_size_n  test_size_frac  fair_main_equalized_odds_difference  \\\n",
       "0        89710             1.0                             0.048933   \n",
       "0        89710             1.0                             0.048933   \n",
       "0        89710             1.0                             0.091468   \n",
       "0        89710             1.0                             0.091468   \n",
       "\n",
       "   fair_main_equalized_odds_ratio  fair_main_demographic_parity_difference  \\\n",
       "0                        0.947272                                 0.049076   \n",
       "0                        0.947272                                 0.049076   \n",
       "0                        0.904017                                 0.065392   \n",
       "0                        0.904017                                 0.065392   \n",
       "\n",
       "   fair_main_demographic_parity_ratio  ...  perf_grp_precision_0  \\\n",
       "0                            0.946144  ...                   NaN   \n",
       "0                            0.946144  ...              0.125360   \n",
       "0                            0.915061  ...                   NaN   \n",
       "0                            0.915061  ...              0.140981   \n",
       "\n",
       "   perf_grp_precision_1  perf_grp_false positive rate_0  \\\n",
       "0                   NaN                             NaN   \n",
       "0              0.143041                        0.852355   \n",
       "0                   NaN                             NaN   \n",
       "0              0.163562                        0.684019   \n",
       "\n",
       "   perf_grp_false positive rate_1  perf_grp_false negative rate_0  \\\n",
       "0                             NaN                             NaN   \n",
       "0                        0.899800                        0.062500   \n",
       "0                             NaN                             NaN   \n",
       "0                        0.741996                        0.138514   \n",
       "\n",
       "   perf_grp_false negative rate_1  perf_grp_selection rate_0  \\\n",
       "0                             NaN                        NaN   \n",
       "0                        0.013567                   0.862171   \n",
       "0                             NaN                        NaN   \n",
       "0                        0.047046                   0.704479   \n",
       "\n",
       "   perf_grp_selection rate_1  perf_grp_count_0  perf_grp_count_1  \n",
       "0                        NaN               NaN               NaN  \n",
       "0                   0.911248           20540.0           69170.0  \n",
       "0                        NaN               NaN               NaN  \n",
       "0                   0.769871           20540.0           69170.0  \n",
       "\n",
       "[4 rows x 50 columns]"
      ]
     },
     "execution_count": 64,
     "metadata": {},
     "output_type": "execute_result"
    }
   ],
   "source": [
    "final_output = universe_analysis.generate_final_output(\n",
    "    y_pred_prob=probs_test,\n",
    "    y_test=y_true,\n",
    "    org_test=org_test,\n",
    "    filter_data=filter_sub_universe_data,\n",
    "    cp_metrics_df=cp_metrics_df,\n",
    "    save=True,\n",
    ")\n",
    "final_output"
   ]
  },
  {
   "cell_type": "code",
   "execution_count": null,
   "id": "571f9a0f-660a-4841-b661-b06fbc637944",
   "metadata": {
    "papermill": {
     "duration": 0.014508,
     "end_time": "2025-08-19T17:23:12.862060",
     "exception": false,
     "start_time": "2025-08-19T17:23:12.847552",
     "status": "completed"
    },
    "tags": []
   },
   "outputs": [],
   "source": []
  },
  {
   "cell_type": "code",
   "execution_count": null,
   "id": "529482e3-0150-4854-a92d-ab864efc606e",
   "metadata": {
    "papermill": {
     "duration": 0.014345,
     "end_time": "2025-08-19T17:23:12.890723",
     "exception": false,
     "start_time": "2025-08-19T17:23:12.876378",
     "status": "completed"
    },
    "tags": []
   },
   "outputs": [],
   "source": []
  }
 ],
 "metadata": {
  "celltoolbar": "Tags",
  "kernelspec": {
   "display_name": "Python (CMA Fairness)",
   "language": "python",
   "name": "cma_fair_env"
  },
  "language_info": {
   "codemirror_mode": {
    "name": "ipython",
    "version": 3
   },
   "file_extension": ".py",
   "mimetype": "text/x-python",
   "name": "python",
   "nbconvert_exporter": "python",
   "pygments_lexer": "ipython3",
   "version": "3.10.12"
  },
  "papermill": {
   "default_parameters": {},
   "duration": 49.085055,
   "end_time": "2025-08-19T17:23:13.733632",
   "environment_variables": {},
   "exception": null,
   "input_path": "universe_analysis.ipynb",
   "output_path": "output/runs/2/notebooks/m_2-d89b580336fba317b12eb77a4b5ce4d3.ipynb",
   "parameters": {
    "output_dir": "output",
    "run_no": "2",
    "seed": "2023",
    "universe": "{\"cutoff\": [\"quantile_0.1\", \"quantile_0.25\"], \"eval_fairness_grouping\": [\"majority-minority\", \"nationality-all\"], \"exclude_features\": \"nationality\", \"exclude_subgroups\": \"keep-all\", \"model\": \"rf\", \"scale\": \"do-not-scale\", \"training_size\": \"25k\", \"training_year\": \"2010_14\"}",
    "universe_id": "d89b580336fba317b12eb77a4b5ce4d3"
   },
   "start_time": "2025-08-19T17:22:24.648577",
   "version": "2.6.0"
  }
 },
 "nbformat": 4,
 "nbformat_minor": 5
}