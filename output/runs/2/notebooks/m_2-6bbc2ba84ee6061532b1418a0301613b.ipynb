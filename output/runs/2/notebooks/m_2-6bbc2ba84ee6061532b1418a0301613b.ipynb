{
 "cells": [
  {
   "cell_type": "markdown",
   "id": "b2057076-3a91-4cfa-9bfd-eab1e61b3068",
   "metadata": {
    "papermill": {
     "duration": 0.023369,
     "end_time": "2025-08-19T17:03:22.635941",
     "exception": false,
     "start_time": "2025-08-19T17:03:22.612572",
     "status": "completed"
    },
    "tags": []
   },
   "source": [
    "# Setup"
   ]
  },
  {
   "cell_type": "code",
   "execution_count": 1,
   "id": "f159f837-637b-42ba-96b5-ec9a68c44524",
   "metadata": {
    "execution": {
     "iopub.execute_input": "2025-08-19T17:03:22.660708Z",
     "iopub.status.busy": "2025-08-19T17:03:22.659390Z",
     "iopub.status.idle": "2025-08-19T17:03:22.678966Z",
     "shell.execute_reply": "2025-08-19T17:03:22.677788Z"
    },
    "papermill": {
     "duration": 0.031909,
     "end_time": "2025-08-19T17:03:22.680903",
     "exception": false,
     "start_time": "2025-08-19T17:03:22.648994",
     "status": "completed"
    },
    "tags": []
   },
   "outputs": [
    {
     "name": "stdout",
     "output_type": "stream",
     "text": [
      "/dss/dsshome1/0C/ra93lal2/cma/CMA_Fairness_v2\n"
     ]
    },
    {
     "name": "stderr",
     "output_type": "stream",
     "text": [
      "/dss/dsshome1/0C/ra93lal2/.local/share/virtualenvs/CMA_Fairness_v2-3j10GkSs/lib/python3.10/site-packages/IPython/core/magics/osm.py:393: UserWarning: This is now an optional IPython functionality, using bookmarks requires you to install the `pickleshare` library.\n",
      "  bkms = self.shell.db.get('bookmarks', {})\n",
      "/dss/dsshome1/0C/ra93lal2/.local/share/virtualenvs/CMA_Fairness_v2-3j10GkSs/lib/python3.10/site-packages/IPython/core/magics/osm.py:417: UserWarning: This is now an optional IPython functionality, setting dhist requires you to install the `pickleshare` library.\n",
      "  self.shell.db['dhist'] = compress_dhist(dhist)[-100:]\n"
     ]
    }
   ],
   "source": [
    "%cd ~/cma/CMA_Fairness_v2"
   ]
  },
  {
   "cell_type": "markdown",
   "id": "de2603b9",
   "metadata": {
    "papermill": {
     "duration": 0.010268,
     "end_time": "2025-08-19T17:03:22.705814",
     "exception": false,
     "start_time": "2025-08-19T17:03:22.695546",
     "status": "completed"
    },
    "tags": []
   },
   "source": [
    "The following cell holds the definition of our parameters, these values can be overriden by rendering the with e.g. the following command:\n",
    "\n",
    "papermill -p alpha 0.2 -p ratio 0.3 universe_analysis.ipynb output/test_run.ipynb"
   ]
  },
  {
   "cell_type": "code",
   "execution_count": 2,
   "id": "a80968a0-40bb-4fa9-85ef-2d5eefb01975",
   "metadata": {
    "execution": {
     "iopub.execute_input": "2025-08-19T17:03:22.726438Z",
     "iopub.status.busy": "2025-08-19T17:03:22.725329Z",
     "iopub.status.idle": "2025-08-19T17:03:22.734081Z",
     "shell.execute_reply": "2025-08-19T17:03:22.732585Z"
    },
    "papermill": {
     "duration": 0.020837,
     "end_time": "2025-08-19T17:03:22.735516",
     "exception": false,
     "start_time": "2025-08-19T17:03:22.714679",
     "status": "completed"
    },
    "tags": []
   },
   "outputs": [
    {
     "name": "stdout",
     "output_type": "stream",
     "text": [
      "Current working directory: /dss/dsshome1/0C/ra93lal2/cma/CMA_Fairness_v2\n"
     ]
    }
   ],
   "source": [
    "import os\n",
    "print(\"Current working directory:\", os.getcwd())"
   ]
  },
  {
   "cell_type": "code",
   "execution_count": 3,
   "id": "2dce4c03",
   "metadata": {
    "execution": {
     "iopub.execute_input": "2025-08-19T17:03:22.757182Z",
     "iopub.status.busy": "2025-08-19T17:03:22.756101Z",
     "iopub.status.idle": "2025-08-19T17:03:22.766010Z",
     "shell.execute_reply": "2025-08-19T17:03:22.764409Z"
    },
    "papermill": {
     "duration": 0.02214,
     "end_time": "2025-08-19T17:03:22.767474",
     "exception": false,
     "start_time": "2025-08-19T17:03:22.745334",
     "status": "completed"
    },
    "tags": [
     "parameters"
    ]
   },
   "outputs": [],
   "source": [
    "run_no = 0\n",
    "universe_id = \"test\"\n",
    "universe = {\n",
    "    \"training_size\": \"5k\", # \"25k\", \"5k\", \"1k\"\n",
    "    \"training_year\": \"2012_14\", # \"2014\", \"2012_14\", \"2010_14\"\n",
    "    \"scale\": \"scale\", # \"scale\", \"do-not-scale\",\n",
    "    \"model\": \"elasticnet\", # \"logreg\", \"penalized_logreg\", \"rf\", \"gbm\", \"elasticnet\"\n",
    "    \"cutoff\": [\"quantile_0.15\", \"quantile_0.30\"],\n",
    "    \"exclude_features\": \"age\", # \"none\", \"nationality\", \"sex\", \"nationality-sex\", \"age\"\n",
    "    \"exclude_subgroups\": \"drop-non-german\", # \"keep-all\", \"drop-non-german\"\n",
    "    \"eval_fairness_grouping\": [\"majority-minority\", \"nationality-all\"]\n",
    "}\n",
    "\n",
    "output_dir=\"./output\"\n",
    "seed=0"
   ]
  },
  {
   "cell_type": "code",
   "execution_count": 4,
   "id": "771f6e84",
   "metadata": {
    "execution": {
     "iopub.execute_input": "2025-08-19T17:03:22.791183Z",
     "iopub.status.busy": "2025-08-19T17:03:22.790230Z",
     "iopub.status.idle": "2025-08-19T17:03:22.798440Z",
     "shell.execute_reply": "2025-08-19T17:03:22.796883Z"
    },
    "papermill": {
     "duration": 0.020394,
     "end_time": "2025-08-19T17:03:22.799910",
     "exception": false,
     "start_time": "2025-08-19T17:03:22.779516",
     "status": "completed"
    },
    "tags": [
     "injected-parameters"
    ]
   },
   "outputs": [],
   "source": [
    "# Parameters\n",
    "universe_id = \"6bbc2ba84ee6061532b1418a0301613b\"\n",
    "run_no = \"2\"\n",
    "universe = \"{\\\"cutoff\\\": [\\\"quantile_0.1\\\", \\\"quantile_0.25\\\"], \\\"eval_fairness_grouping\\\": [\\\"majority-minority\\\", \\\"nationality-all\\\"], \\\"exclude_features\\\": \\\"age\\\", \\\"exclude_subgroups\\\": \\\"drop-non-german\\\", \\\"model\\\": \\\"rf\\\", \\\"scale\\\": \\\"do-not-scale\\\", \\\"training_size\\\": \\\"25k\\\", \\\"training_year\\\": \\\"2014\\\"}\"\n",
    "output_dir = \"output\"\n",
    "seed = \"2023\"\n"
   ]
  },
  {
   "cell_type": "code",
   "execution_count": 5,
   "id": "1650acaf",
   "metadata": {
    "execution": {
     "iopub.execute_input": "2025-08-19T17:03:22.826334Z",
     "iopub.status.busy": "2025-08-19T17:03:22.825203Z",
     "iopub.status.idle": "2025-08-19T17:03:22.833051Z",
     "shell.execute_reply": "2025-08-19T17:03:22.831442Z"
    },
    "papermill": {
     "duration": 0.022458,
     "end_time": "2025-08-19T17:03:22.834622",
     "exception": false,
     "start_time": "2025-08-19T17:03:22.812164",
     "status": "completed"
    },
    "tags": []
   },
   "outputs": [],
   "source": [
    "import json\n",
    "if isinstance(universe, str):\n",
    "    universe = json.loads(universe)"
   ]
  },
  {
   "cell_type": "code",
   "execution_count": 6,
   "id": "16620c48",
   "metadata": {
    "execution": {
     "iopub.execute_input": "2025-08-19T17:03:22.857384Z",
     "iopub.status.busy": "2025-08-19T17:03:22.856417Z",
     "iopub.status.idle": "2025-08-19T17:03:22.907311Z",
     "shell.execute_reply": "2025-08-19T17:03:22.906666Z"
    },
    "papermill": {
     "duration": 0.063382,
     "end_time": "2025-08-19T17:03:22.909103",
     "exception": false,
     "start_time": "2025-08-19T17:03:22.845721",
     "status": "completed"
    },
    "tags": []
   },
   "outputs": [],
   "source": [
    "# Auto-reload the custom package\n",
    "%load_ext autoreload\n",
    "%autoreload 1\n",
    "%aimport fairness_multiverse"
   ]
  },
  {
   "cell_type": "code",
   "execution_count": 7,
   "id": "01c5c9f3",
   "metadata": {
    "execution": {
     "iopub.execute_input": "2025-08-19T17:03:22.933784Z",
     "iopub.status.busy": "2025-08-19T17:03:22.932805Z",
     "iopub.status.idle": "2025-08-19T17:03:24.418903Z",
     "shell.execute_reply": "2025-08-19T17:03:24.417937Z"
    },
    "papermill": {
     "duration": 1.499914,
     "end_time": "2025-08-19T17:03:24.420362",
     "exception": false,
     "start_time": "2025-08-19T17:03:22.920448",
     "status": "completed"
    },
    "tags": []
   },
   "outputs": [],
   "source": [
    "from fairness_multiverse.universe import UniverseAnalysis\n",
    "\n",
    "universe_analysis = UniverseAnalysis(\n",
    "    run_no = run_no,\n",
    "    universe_id = universe_id,\n",
    "    universe = universe,\n",
    "    output_dir=output_dir,\n",
    ")"
   ]
  },
  {
   "cell_type": "code",
   "execution_count": 8,
   "id": "106241f5",
   "metadata": {
    "execution": {
     "iopub.execute_input": "2025-08-19T17:03:24.441925Z",
     "iopub.status.busy": "2025-08-19T17:03:24.441165Z",
     "iopub.status.idle": "2025-08-19T17:03:24.446501Z",
     "shell.execute_reply": "2025-08-19T17:03:24.445899Z"
    },
    "papermill": {
     "duration": 0.017938,
     "end_time": "2025-08-19T17:03:24.448458",
     "exception": false,
     "start_time": "2025-08-19T17:03:24.430520",
     "status": "completed"
    },
    "tags": []
   },
   "outputs": [
    {
     "name": "stdout",
     "output_type": "stream",
     "text": [
      "Using Seed: 2023\n"
     ]
    }
   ],
   "source": [
    "import numpy as np\n",
    "parsed_seed = int(seed)\n",
    "np.random.seed(parsed_seed)\n",
    "print(f\"Using Seed: {parsed_seed}\")"
   ]
  },
  {
   "cell_type": "markdown",
   "id": "e0ebdc57",
   "metadata": {
    "papermill": {
     "duration": 0.009159,
     "end_time": "2025-08-19T17:03:24.467036",
     "exception": false,
     "start_time": "2025-08-19T17:03:24.457877",
     "status": "completed"
    },
    "tags": []
   },
   "source": [
    "# Loading Data"
   ]
  },
  {
   "cell_type": "code",
   "execution_count": 9,
   "id": "f0496b8a",
   "metadata": {
    "execution": {
     "iopub.execute_input": "2025-08-19T17:03:24.486663Z",
     "iopub.status.busy": "2025-08-19T17:03:24.486269Z",
     "iopub.status.idle": "2025-08-19T17:03:34.652068Z",
     "shell.execute_reply": "2025-08-19T17:03:34.651132Z"
    },
    "papermill": {
     "duration": 10.177275,
     "end_time": "2025-08-19T17:03:34.653517",
     "exception": false,
     "start_time": "2025-08-19T17:03:24.476242",
     "status": "completed"
    },
    "tags": []
   },
   "outputs": [
    {
     "name": "stdout",
     "output_type": "stream",
     "text": [
      "Loading SIAB data from cache: data/siab_cached.csv.gz\n"
     ]
    },
    {
     "name": "stdout",
     "output_type": "stream",
     "text": [
      "(643690, 164)\n"
     ]
    }
   ],
   "source": [
    "from pathlib import Path\n",
    "import pandas as pd\n",
    "\n",
    "# File paths\n",
    "raw_file = Path(\"data/raw/siab.csv\")\n",
    "cache_file = Path(\"data/siab_cached.csv.gz\")\n",
    "\n",
    "# Ensure cache directory exists\n",
    "cache_file.parent.mkdir(parents=True, exist_ok=True)\n",
    "\n",
    "# Load with simple caching\n",
    "if cache_file.exists():\n",
    "    print(f\"Loading SIAB data from cache: {cache_file}\")\n",
    "    siab = pd.read_csv(cache_file, compression='gzip')\n",
    "else:\n",
    "    print(f\"Cache not found. Reading raw SIAB data: {raw_file}\")\n",
    "    siab = pd.read_csv(raw_file)\n",
    "    siab.to_csv(cache_file, index=False, compression='gzip')\n",
    "    print(f\"Cached SIAB data to: {cache_file}\")\n",
    "\n",
    "print(siab.shape)"
   ]
  },
  {
   "cell_type": "code",
   "execution_count": 10,
   "id": "db0ca512-5f53-4dba-abdb-a2888bca41ba",
   "metadata": {
    "execution": {
     "iopub.execute_input": "2025-08-19T17:03:34.680598Z",
     "iopub.status.busy": "2025-08-19T17:03:34.679746Z",
     "iopub.status.idle": "2025-08-19T17:03:34.812506Z",
     "shell.execute_reply": "2025-08-19T17:03:34.811292Z"
    },
    "papermill": {
     "duration": 0.150933,
     "end_time": "2025-08-19T17:03:34.817734",
     "exception": false,
     "start_time": "2025-08-19T17:03:34.666801",
     "status": "completed"
    },
    "tags": []
   },
   "outputs": [
    {
     "data": {
      "text/html": [
       "<div>\n",
       "<style scoped>\n",
       "    .dataframe tbody tr th:only-of-type {\n",
       "        vertical-align: middle;\n",
       "    }\n",
       "\n",
       "    .dataframe tbody tr th {\n",
       "        vertical-align: top;\n",
       "    }\n",
       "\n",
       "    .dataframe thead th {\n",
       "        text-align: right;\n",
       "    }\n",
       "</style>\n",
       "<table border=\"1\" class=\"dataframe\">\n",
       "  <thead>\n",
       "    <tr style=\"text-align: right;\">\n",
       "      <th></th>\n",
       "      <th>persnr</th>\n",
       "      <th>year</th>\n",
       "      <th>nrEntry</th>\n",
       "      <th>ltue</th>\n",
       "      <th>employed_before</th>\n",
       "      <th>receipt_leh_before</th>\n",
       "      <th>receipt_lhg_before</th>\n",
       "      <th>se_before</th>\n",
       "      <th>ASU_notue_seeking_before</th>\n",
       "      <th>ASU_other_before</th>\n",
       "      <th>...</th>\n",
       "      <th>minijob_tot_dur_byage</th>\n",
       "      <th>ft_tot_dur_byage</th>\n",
       "      <th>befrist_tot_dur_byage</th>\n",
       "      <th>leih_tot_dur_byage</th>\n",
       "      <th>LHG_tot_dur_byage</th>\n",
       "      <th>LEH_tot_dur_byage</th>\n",
       "      <th>almp_tot_dur_byage</th>\n",
       "      <th>almp_aw_tot_dur_byage</th>\n",
       "      <th>se_tot_dur_byage</th>\n",
       "      <th>seeking1_tot_dur_byage</th>\n",
       "    </tr>\n",
       "  </thead>\n",
       "  <tbody>\n",
       "    <tr>\n",
       "      <th>0</th>\n",
       "      <td>7</td>\n",
       "      <td>2015</td>\n",
       "      <td>1</td>\n",
       "      <td>0</td>\n",
       "      <td>1</td>\n",
       "      <td>0</td>\n",
       "      <td>0</td>\n",
       "      <td>0</td>\n",
       "      <td>1</td>\n",
       "      <td>0</td>\n",
       "      <td>...</td>\n",
       "      <td>0.000000</td>\n",
       "      <td>0.000000</td>\n",
       "      <td>15.043478</td>\n",
       "      <td>0.000000</td>\n",
       "      <td>0.000000</td>\n",
       "      <td>0.000000</td>\n",
       "      <td>0.000000</td>\n",
       "      <td>0.000000</td>\n",
       "      <td>0.000000</td>\n",
       "      <td>0.000000</td>\n",
       "    </tr>\n",
       "    <tr>\n",
       "      <th>1</th>\n",
       "      <td>18</td>\n",
       "      <td>2010</td>\n",
       "      <td>1</td>\n",
       "      <td>1</td>\n",
       "      <td>0</td>\n",
       "      <td>0</td>\n",
       "      <td>0</td>\n",
       "      <td>0</td>\n",
       "      <td>0</td>\n",
       "      <td>0</td>\n",
       "      <td>...</td>\n",
       "      <td>0.000000</td>\n",
       "      <td>0.000000</td>\n",
       "      <td>0.000000</td>\n",
       "      <td>0.000000</td>\n",
       "      <td>0.000000</td>\n",
       "      <td>0.000000</td>\n",
       "      <td>0.000000</td>\n",
       "      <td>0.000000</td>\n",
       "      <td>0.000000</td>\n",
       "      <td>0.000000</td>\n",
       "    </tr>\n",
       "    <tr>\n",
       "      <th>2</th>\n",
       "      <td>18</td>\n",
       "      <td>2011</td>\n",
       "      <td>2</td>\n",
       "      <td>0</td>\n",
       "      <td>1</td>\n",
       "      <td>0</td>\n",
       "      <td>1</td>\n",
       "      <td>0</td>\n",
       "      <td>1</td>\n",
       "      <td>0</td>\n",
       "      <td>...</td>\n",
       "      <td>2.714286</td>\n",
       "      <td>2.714286</td>\n",
       "      <td>0.000000</td>\n",
       "      <td>0.000000</td>\n",
       "      <td>10.775510</td>\n",
       "      <td>0.000000</td>\n",
       "      <td>8.367347</td>\n",
       "      <td>0.000000</td>\n",
       "      <td>0.000000</td>\n",
       "      <td>9.836735</td>\n",
       "    </tr>\n",
       "    <tr>\n",
       "      <th>3</th>\n",
       "      <td>18</td>\n",
       "      <td>2012</td>\n",
       "      <td>3</td>\n",
       "      <td>0</td>\n",
       "      <td>1</td>\n",
       "      <td>0</td>\n",
       "      <td>1</td>\n",
       "      <td>0</td>\n",
       "      <td>1</td>\n",
       "      <td>0</td>\n",
       "      <td>...</td>\n",
       "      <td>4.200000</td>\n",
       "      <td>4.200000</td>\n",
       "      <td>0.000000</td>\n",
       "      <td>0.000000</td>\n",
       "      <td>12.100000</td>\n",
       "      <td>0.000000</td>\n",
       "      <td>9.400000</td>\n",
       "      <td>0.000000</td>\n",
       "      <td>0.000000</td>\n",
       "      <td>9.960000</td>\n",
       "    </tr>\n",
       "    <tr>\n",
       "      <th>4</th>\n",
       "      <td>18</td>\n",
       "      <td>2012</td>\n",
       "      <td>4</td>\n",
       "      <td>0</td>\n",
       "      <td>1</td>\n",
       "      <td>0</td>\n",
       "      <td>1</td>\n",
       "      <td>0</td>\n",
       "      <td>1</td>\n",
       "      <td>0</td>\n",
       "      <td>...</td>\n",
       "      <td>5.460000</td>\n",
       "      <td>5.460000</td>\n",
       "      <td>0.000000</td>\n",
       "      <td>0.000000</td>\n",
       "      <td>13.360000</td>\n",
       "      <td>0.000000</td>\n",
       "      <td>10.320000</td>\n",
       "      <td>0.000000</td>\n",
       "      <td>0.000000</td>\n",
       "      <td>10.280000</td>\n",
       "    </tr>\n",
       "    <tr>\n",
       "      <th>...</th>\n",
       "      <td>...</td>\n",
       "      <td>...</td>\n",
       "      <td>...</td>\n",
       "      <td>...</td>\n",
       "      <td>...</td>\n",
       "      <td>...</td>\n",
       "      <td>...</td>\n",
       "      <td>...</td>\n",
       "      <td>...</td>\n",
       "      <td>...</td>\n",
       "      <td>...</td>\n",
       "      <td>...</td>\n",
       "      <td>...</td>\n",
       "      <td>...</td>\n",
       "      <td>...</td>\n",
       "      <td>...</td>\n",
       "      <td>...</td>\n",
       "      <td>...</td>\n",
       "      <td>...</td>\n",
       "      <td>...</td>\n",
       "      <td>...</td>\n",
       "    </tr>\n",
       "    <tr>\n",
       "      <th>643685</th>\n",
       "      <td>1827860</td>\n",
       "      <td>2013</td>\n",
       "      <td>1</td>\n",
       "      <td>0</td>\n",
       "      <td>0</td>\n",
       "      <td>0</td>\n",
       "      <td>1</td>\n",
       "      <td>0</td>\n",
       "      <td>0</td>\n",
       "      <td>1</td>\n",
       "      <td>...</td>\n",
       "      <td>0.000000</td>\n",
       "      <td>0.000000</td>\n",
       "      <td>0.000000</td>\n",
       "      <td>0.000000</td>\n",
       "      <td>0.612903</td>\n",
       "      <td>0.000000</td>\n",
       "      <td>0.000000</td>\n",
       "      <td>0.000000</td>\n",
       "      <td>0.000000</td>\n",
       "      <td>0.000000</td>\n",
       "    </tr>\n",
       "    <tr>\n",
       "      <th>643686</th>\n",
       "      <td>1827860</td>\n",
       "      <td>2015</td>\n",
       "      <td>2</td>\n",
       "      <td>1</td>\n",
       "      <td>0</td>\n",
       "      <td>0</td>\n",
       "      <td>1</td>\n",
       "      <td>0</td>\n",
       "      <td>1</td>\n",
       "      <td>0</td>\n",
       "      <td>...</td>\n",
       "      <td>0.000000</td>\n",
       "      <td>0.000000</td>\n",
       "      <td>0.212121</td>\n",
       "      <td>0.212121</td>\n",
       "      <td>17.363636</td>\n",
       "      <td>0.000000</td>\n",
       "      <td>8.909091</td>\n",
       "      <td>0.000000</td>\n",
       "      <td>0.000000</td>\n",
       "      <td>7.121212</td>\n",
       "    </tr>\n",
       "    <tr>\n",
       "      <th>643687</th>\n",
       "      <td>1827860</td>\n",
       "      <td>2016</td>\n",
       "      <td>3</td>\n",
       "      <td>1</td>\n",
       "      <td>0</td>\n",
       "      <td>0</td>\n",
       "      <td>1</td>\n",
       "      <td>1</td>\n",
       "      <td>0</td>\n",
       "      <td>1</td>\n",
       "      <td>...</td>\n",
       "      <td>0.000000</td>\n",
       "      <td>0.000000</td>\n",
       "      <td>0.294118</td>\n",
       "      <td>0.205882</td>\n",
       "      <td>34.705882</td>\n",
       "      <td>0.000000</td>\n",
       "      <td>10.352941</td>\n",
       "      <td>1.705882</td>\n",
       "      <td>1.705882</td>\n",
       "      <td>23.911765</td>\n",
       "    </tr>\n",
       "    <tr>\n",
       "      <th>643688</th>\n",
       "      <td>1827869</td>\n",
       "      <td>2013</td>\n",
       "      <td>1</td>\n",
       "      <td>1</td>\n",
       "      <td>1</td>\n",
       "      <td>0</td>\n",
       "      <td>0</td>\n",
       "      <td>0</td>\n",
       "      <td>1</td>\n",
       "      <td>0</td>\n",
       "      <td>...</td>\n",
       "      <td>0.000000</td>\n",
       "      <td>0.000000</td>\n",
       "      <td>0.000000</td>\n",
       "      <td>0.000000</td>\n",
       "      <td>0.000000</td>\n",
       "      <td>0.525424</td>\n",
       "      <td>0.000000</td>\n",
       "      <td>0.000000</td>\n",
       "      <td>0.000000</td>\n",
       "      <td>0.000000</td>\n",
       "    </tr>\n",
       "    <tr>\n",
       "      <th>643689</th>\n",
       "      <td>1827869</td>\n",
       "      <td>2014</td>\n",
       "      <td>2</td>\n",
       "      <td>0</td>\n",
       "      <td>0</td>\n",
       "      <td>1</td>\n",
       "      <td>0</td>\n",
       "      <td>0</td>\n",
       "      <td>1</td>\n",
       "      <td>0</td>\n",
       "      <td>...</td>\n",
       "      <td>0.000000</td>\n",
       "      <td>0.666667</td>\n",
       "      <td>0.666667</td>\n",
       "      <td>0.000000</td>\n",
       "      <td>0.000000</td>\n",
       "      <td>8.950000</td>\n",
       "      <td>1.033333</td>\n",
       "      <td>0.083333</td>\n",
       "      <td>0.083333</td>\n",
       "      <td>8.133333</td>\n",
       "    </tr>\n",
       "  </tbody>\n",
       "</table>\n",
       "<p>643690 rows × 164 columns</p>\n",
       "</div>"
      ],
      "text/plain": [
       "         persnr  year  nrEntry  ltue  employed_before  receipt_leh_before  \\\n",
       "0             7  2015        1     0                1                   0   \n",
       "1            18  2010        1     1                0                   0   \n",
       "2            18  2011        2     0                1                   0   \n",
       "3            18  2012        3     0                1                   0   \n",
       "4            18  2012        4     0                1                   0   \n",
       "...         ...   ...      ...   ...              ...                 ...   \n",
       "643685  1827860  2013        1     0                0                   0   \n",
       "643686  1827860  2015        2     1                0                   0   \n",
       "643687  1827860  2016        3     1                0                   0   \n",
       "643688  1827869  2013        1     1                1                   0   \n",
       "643689  1827869  2014        2     0                0                   1   \n",
       "\n",
       "        receipt_lhg_before  se_before  ASU_notue_seeking_before  \\\n",
       "0                        0          0                         1   \n",
       "1                        0          0                         0   \n",
       "2                        1          0                         1   \n",
       "3                        1          0                         1   \n",
       "4                        1          0                         1   \n",
       "...                    ...        ...                       ...   \n",
       "643685                   1          0                         0   \n",
       "643686                   1          0                         1   \n",
       "643687                   1          1                         0   \n",
       "643688                   0          0                         1   \n",
       "643689                   0          0                         1   \n",
       "\n",
       "        ASU_other_before  ...  minijob_tot_dur_byage  ft_tot_dur_byage  \\\n",
       "0                      0  ...               0.000000          0.000000   \n",
       "1                      0  ...               0.000000          0.000000   \n",
       "2                      0  ...               2.714286          2.714286   \n",
       "3                      0  ...               4.200000          4.200000   \n",
       "4                      0  ...               5.460000          5.460000   \n",
       "...                  ...  ...                    ...               ...   \n",
       "643685                 1  ...               0.000000          0.000000   \n",
       "643686                 0  ...               0.000000          0.000000   \n",
       "643687                 1  ...               0.000000          0.000000   \n",
       "643688                 0  ...               0.000000          0.000000   \n",
       "643689                 0  ...               0.000000          0.666667   \n",
       "\n",
       "        befrist_tot_dur_byage  leih_tot_dur_byage  LHG_tot_dur_byage  \\\n",
       "0                   15.043478            0.000000           0.000000   \n",
       "1                    0.000000            0.000000           0.000000   \n",
       "2                    0.000000            0.000000          10.775510   \n",
       "3                    0.000000            0.000000          12.100000   \n",
       "4                    0.000000            0.000000          13.360000   \n",
       "...                       ...                 ...                ...   \n",
       "643685               0.000000            0.000000           0.612903   \n",
       "643686               0.212121            0.212121          17.363636   \n",
       "643687               0.294118            0.205882          34.705882   \n",
       "643688               0.000000            0.000000           0.000000   \n",
       "643689               0.666667            0.000000           0.000000   \n",
       "\n",
       "        LEH_tot_dur_byage  almp_tot_dur_byage  almp_aw_tot_dur_byage  \\\n",
       "0                0.000000            0.000000               0.000000   \n",
       "1                0.000000            0.000000               0.000000   \n",
       "2                0.000000            8.367347               0.000000   \n",
       "3                0.000000            9.400000               0.000000   \n",
       "4                0.000000           10.320000               0.000000   \n",
       "...                   ...                 ...                    ...   \n",
       "643685           0.000000            0.000000               0.000000   \n",
       "643686           0.000000            8.909091               0.000000   \n",
       "643687           0.000000           10.352941               1.705882   \n",
       "643688           0.525424            0.000000               0.000000   \n",
       "643689           8.950000            1.033333               0.083333   \n",
       "\n",
       "        se_tot_dur_byage  seeking1_tot_dur_byage  \n",
       "0               0.000000                0.000000  \n",
       "1               0.000000                0.000000  \n",
       "2               0.000000                9.836735  \n",
       "3               0.000000                9.960000  \n",
       "4               0.000000               10.280000  \n",
       "...                  ...                     ...  \n",
       "643685          0.000000                0.000000  \n",
       "643686          0.000000                7.121212  \n",
       "643687          1.705882               23.911765  \n",
       "643688          0.000000                0.000000  \n",
       "643689          0.083333                8.133333  \n",
       "\n",
       "[643690 rows x 164 columns]"
      ]
     },
     "execution_count": 10,
     "metadata": {},
     "output_type": "execute_result"
    }
   ],
   "source": [
    "siab"
   ]
  },
  {
   "cell_type": "markdown",
   "id": "997051c5-15bd-4b69-9786-c3001a3ce484",
   "metadata": {
    "papermill": {
     "duration": 0.010987,
     "end_time": "2025-08-19T17:03:34.848124",
     "exception": false,
     "start_time": "2025-08-19T17:03:34.837137",
     "status": "completed"
    },
    "tags": []
   },
   "source": [
    "# Splitting Data and Setting Training Data Size"
   ]
  },
  {
   "cell_type": "code",
   "execution_count": 11,
   "id": "aea9c6ef-6f46-42c8-85eb-5a62025c1508",
   "metadata": {
    "execution": {
     "iopub.execute_input": "2025-08-19T17:03:34.870966Z",
     "iopub.status.busy": "2025-08-19T17:03:34.870262Z",
     "iopub.status.idle": "2025-08-19T17:03:35.171965Z",
     "shell.execute_reply": "2025-08-19T17:03:35.171176Z"
    },
    "papermill": {
     "duration": 0.315294,
     "end_time": "2025-08-19T17:03:35.173491",
     "exception": false,
     "start_time": "2025-08-19T17:03:34.858197",
     "status": "completed"
    },
    "tags": []
   },
   "outputs": [],
   "source": [
    "from fairness_multiverse.universe import sample_by_year_size\n",
    "\n",
    "siab_train = sample_by_year_size(siab,\n",
    "                               training_year=universe[\"training_year\"],\n",
    "                               training_size=universe[\"training_size\"])"
   ]
  },
  {
   "cell_type": "code",
   "execution_count": 12,
   "id": "8d3afb32-789d-442c-8d5d-9f5aa8dd2eed",
   "metadata": {
    "execution": {
     "iopub.execute_input": "2025-08-19T17:03:35.195991Z",
     "iopub.status.busy": "2025-08-19T17:03:35.195546Z",
     "iopub.status.idle": "2025-08-19T17:03:35.202468Z",
     "shell.execute_reply": "2025-08-19T17:03:35.201539Z"
    },
    "papermill": {
     "duration": 0.019784,
     "end_time": "2025-08-19T17:03:35.203826",
     "exception": false,
     "start_time": "2025-08-19T17:03:35.184042",
     "status": "completed"
    },
    "tags": []
   },
   "outputs": [
    {
     "data": {
      "text/plain": [
       "(25000, 164)"
      ]
     },
     "execution_count": 12,
     "metadata": {},
     "output_type": "execute_result"
    }
   ],
   "source": [
    "siab_train.shape"
   ]
  },
  {
   "cell_type": "code",
   "execution_count": 13,
   "id": "d582db68-1a4c-47fb-84fc-08518dc1975a",
   "metadata": {
    "execution": {
     "iopub.execute_input": "2025-08-19T17:03:35.227069Z",
     "iopub.status.busy": "2025-08-19T17:03:35.226433Z",
     "iopub.status.idle": "2025-08-19T17:03:35.239622Z",
     "shell.execute_reply": "2025-08-19T17:03:35.238468Z"
    },
    "papermill": {
     "duration": 0.026928,
     "end_time": "2025-08-19T17:03:35.241375",
     "exception": false,
     "start_time": "2025-08-19T17:03:35.214447",
     "status": "completed"
    },
    "tags": []
   },
   "outputs": [
    {
     "data": {
      "text/plain": [
       "year\n",
       "2014    25000\n",
       "dtype: int64"
      ]
     },
     "metadata": {},
     "output_type": "display_data"
    }
   ],
   "source": [
    "display(siab_train.groupby(\"year\").size())"
   ]
  },
  {
   "cell_type": "code",
   "execution_count": 14,
   "id": "a561edb4-d032-42cb-8256-22eac1111c64",
   "metadata": {
    "execution": {
     "iopub.execute_input": "2025-08-19T17:03:35.267618Z",
     "iopub.status.busy": "2025-08-19T17:03:35.266901Z",
     "iopub.status.idle": "2025-08-19T17:03:35.541581Z",
     "shell.execute_reply": "2025-08-19T17:03:35.540515Z"
    },
    "papermill": {
     "duration": 0.290258,
     "end_time": "2025-08-19T17:03:35.544972",
     "exception": false,
     "start_time": "2025-08-19T17:03:35.254714",
     "status": "completed"
    },
    "tags": []
   },
   "outputs": [],
   "source": [
    "#siab_train = siab_s[siab_s.year < 2015]\n",
    "siab_calib = siab[siab.year == 2015]\n",
    "siab_test = siab[siab.year == 2016]"
   ]
  },
  {
   "cell_type": "code",
   "execution_count": 15,
   "id": "bc10fe59",
   "metadata": {
    "execution": {
     "iopub.execute_input": "2025-08-19T17:03:35.583483Z",
     "iopub.status.busy": "2025-08-19T17:03:35.582762Z",
     "iopub.status.idle": "2025-08-19T17:03:35.589075Z",
     "shell.execute_reply": "2025-08-19T17:03:35.587779Z"
    },
    "papermill": {
     "duration": 0.022321,
     "end_time": "2025-08-19T17:03:35.590675",
     "exception": false,
     "start_time": "2025-08-19T17:03:35.568354",
     "status": "completed"
    },
    "tags": []
   },
   "outputs": [],
   "source": [
    "#siab_calib.shape"
   ]
  },
  {
   "cell_type": "code",
   "execution_count": 16,
   "id": "d6aeff2f",
   "metadata": {
    "execution": {
     "iopub.execute_input": "2025-08-19T17:03:35.614636Z",
     "iopub.status.busy": "2025-08-19T17:03:35.613955Z",
     "iopub.status.idle": "2025-08-19T17:03:35.620380Z",
     "shell.execute_reply": "2025-08-19T17:03:35.619182Z"
    },
    "papermill": {
     "duration": 0.020047,
     "end_time": "2025-08-19T17:03:35.621916",
     "exception": false,
     "start_time": "2025-08-19T17:03:35.601869",
     "status": "completed"
    },
    "tags": []
   },
   "outputs": [],
   "source": [
    "#siab_test.shape"
   ]
  },
  {
   "cell_type": "code",
   "execution_count": 17,
   "id": "472de16f-c3db-4916-846b-1f0de9cf1746",
   "metadata": {
    "execution": {
     "iopub.execute_input": "2025-08-19T17:03:35.645373Z",
     "iopub.status.busy": "2025-08-19T17:03:35.644683Z",
     "iopub.status.idle": "2025-08-19T17:03:35.699887Z",
     "shell.execute_reply": "2025-08-19T17:03:35.698769Z"
    },
    "papermill": {
     "duration": 0.070701,
     "end_time": "2025-08-19T17:03:35.703158",
     "exception": false,
     "start_time": "2025-08-19T17:03:35.632457",
     "status": "completed"
    },
    "tags": []
   },
   "outputs": [],
   "source": [
    "X_train = siab_train.iloc[:,4:164]\n",
    "y_train = siab_train.iloc[:, [3]]"
   ]
  },
  {
   "cell_type": "code",
   "execution_count": null,
   "id": "a843c1c8",
   "metadata": {
    "papermill": {
     "duration": 0.016019,
     "end_time": "2025-08-19T17:03:35.740907",
     "exception": false,
     "start_time": "2025-08-19T17:03:35.724888",
     "status": "completed"
    },
    "tags": []
   },
   "outputs": [],
   "source": []
  },
  {
   "cell_type": "code",
   "execution_count": 18,
   "id": "828c96af-f43a-4ed6-ba47-8ac73a47d56c",
   "metadata": {
    "execution": {
     "iopub.execute_input": "2025-08-19T17:03:35.765270Z",
     "iopub.status.busy": "2025-08-19T17:03:35.764566Z",
     "iopub.status.idle": "2025-08-19T17:03:35.819511Z",
     "shell.execute_reply": "2025-08-19T17:03:35.818360Z"
    },
    "papermill": {
     "duration": 0.070977,
     "end_time": "2025-08-19T17:03:35.822864",
     "exception": false,
     "start_time": "2025-08-19T17:03:35.751887",
     "status": "completed"
    },
    "tags": []
   },
   "outputs": [],
   "source": [
    "X_calib = siab_calib.iloc[:,4:164]\n",
    "y_calib = siab_calib.iloc[:, [3]]"
   ]
  },
  {
   "cell_type": "code",
   "execution_count": 19,
   "id": "c34be9c3-6bd6-476e-acd3-845840e303be",
   "metadata": {
    "execution": {
     "iopub.execute_input": "2025-08-19T17:03:35.859928Z",
     "iopub.status.busy": "2025-08-19T17:03:35.859338Z",
     "iopub.status.idle": "2025-08-19T17:03:35.919885Z",
     "shell.execute_reply": "2025-08-19T17:03:35.918713Z"
    },
    "papermill": {
     "duration": 0.077805,
     "end_time": "2025-08-19T17:03:35.923311",
     "exception": false,
     "start_time": "2025-08-19T17:03:35.845506",
     "status": "completed"
    },
    "tags": []
   },
   "outputs": [],
   "source": [
    "X_test = siab_test.iloc[:,4:164]\n",
    "y_true = siab_test.iloc[:, [3]]"
   ]
  },
  {
   "cell_type": "code",
   "execution_count": 20,
   "id": "e6c733c5",
   "metadata": {
    "execution": {
     "iopub.execute_input": "2025-08-19T17:03:35.960075Z",
     "iopub.status.busy": "2025-08-19T17:03:35.959486Z",
     "iopub.status.idle": "2025-08-19T17:03:36.078114Z",
     "shell.execute_reply": "2025-08-19T17:03:36.077022Z"
    },
    "papermill": {
     "duration": 0.135697,
     "end_time": "2025-08-19T17:03:36.081366",
     "exception": false,
     "start_time": "2025-08-19T17:03:35.945669",
     "status": "completed"
    },
    "tags": []
   },
   "outputs": [],
   "source": [
    "# Auxiliary data needed downstream in the pipeline\n",
    "\n",
    "org_train = X_train.copy()\n",
    "org_test = X_test.copy()\n",
    "org_calib = X_calib.copy()"
   ]
  },
  {
   "cell_type": "markdown",
   "id": "0a4a1b33",
   "metadata": {
    "papermill": {
     "duration": 0.012563,
     "end_time": "2025-08-19T17:03:36.117841",
     "exception": false,
     "start_time": "2025-08-19T17:03:36.105278",
     "status": "completed"
    },
    "tags": []
   },
   "source": [
    "# Preprocessing Data"
   ]
  },
  {
   "cell_type": "code",
   "execution_count": 21,
   "id": "ca879031",
   "metadata": {
    "execution": {
     "iopub.execute_input": "2025-08-19T17:03:36.141542Z",
     "iopub.status.busy": "2025-08-19T17:03:36.140846Z",
     "iopub.status.idle": "2025-08-19T17:03:36.149476Z",
     "shell.execute_reply": "2025-08-19T17:03:36.148238Z"
    },
    "papermill": {
     "duration": 0.02275,
     "end_time": "2025-08-19T17:03:36.151140",
     "exception": false,
     "start_time": "2025-08-19T17:03:36.128390",
     "status": "completed"
    },
    "tags": []
   },
   "outputs": [],
   "source": [
    "# EXCLUDE PROTECTED FEATURES\n",
    "# --------------------------\n",
    "\n",
    "excluded_features = universe[\"exclude_features\"].split(\"-\")\n",
    "excluded_features_dictionary = {\n",
    "    \"nationality\": [\"maxdeutsch1\", \"maxdeutsch.Missing.\"],\n",
    "    \"sex\": [\"frau1\"],\n",
    "    \"age\": [\"age\"],\n",
    "}"
   ]
  },
  {
   "cell_type": "code",
   "execution_count": 22,
   "id": "b745ac60",
   "metadata": {
    "execution": {
     "iopub.execute_input": "2025-08-19T17:03:36.176141Z",
     "iopub.status.busy": "2025-08-19T17:03:36.175450Z",
     "iopub.status.idle": "2025-08-19T17:03:36.182876Z",
     "shell.execute_reply": "2025-08-19T17:03:36.181732Z"
    },
    "papermill": {
     "duration": 0.021676,
     "end_time": "2025-08-19T17:03:36.184744",
     "exception": false,
     "start_time": "2025-08-19T17:03:36.163068",
     "status": "completed"
    },
    "tags": []
   },
   "outputs": [],
   "source": [
    "excluded_features_columns = [\n",
    "    excluded_features_dictionary[f] for f in excluded_features if len(f) > 0 and f != \"none\"\n",
    "]"
   ]
  },
  {
   "cell_type": "code",
   "execution_count": 23,
   "id": "f84f73a2",
   "metadata": {
    "execution": {
     "iopub.execute_input": "2025-08-19T17:03:36.210594Z",
     "iopub.status.busy": "2025-08-19T17:03:36.209920Z",
     "iopub.status.idle": "2025-08-19T17:03:36.216744Z",
     "shell.execute_reply": "2025-08-19T17:03:36.215608Z"
    },
    "papermill": {
     "duration": 0.020801,
     "end_time": "2025-08-19T17:03:36.218404",
     "exception": false,
     "start_time": "2025-08-19T17:03:36.197603",
     "status": "completed"
    },
    "tags": []
   },
   "outputs": [],
   "source": [
    "from fairness_multiverse.universe import flatten_once\n",
    "\n",
    "excluded_features_columns = flatten_once(excluded_features_columns)"
   ]
  },
  {
   "cell_type": "code",
   "execution_count": 24,
   "id": "884dea22",
   "metadata": {
    "execution": {
     "iopub.execute_input": "2025-08-19T17:03:36.242128Z",
     "iopub.status.busy": "2025-08-19T17:03:36.241445Z",
     "iopub.status.idle": "2025-08-19T17:03:36.260764Z",
     "shell.execute_reply": "2025-08-19T17:03:36.259568Z"
    },
    "papermill": {
     "duration": 0.033548,
     "end_time": "2025-08-19T17:03:36.262664",
     "exception": false,
     "start_time": "2025-08-19T17:03:36.229116",
     "status": "completed"
    },
    "tags": []
   },
   "outputs": [
    {
     "name": "stdout",
     "output_type": "stream",
     "text": [
      "Dropping features: ['age']\n"
     ]
    }
   ],
   "source": [
    "if len(excluded_features_columns) > 0:\n",
    "    print(f\"Dropping features: {excluded_features_columns}\")\n",
    "    X_train.drop(excluded_features_columns, axis=1, inplace=True)"
   ]
  },
  {
   "cell_type": "code",
   "execution_count": 25,
   "id": "95ab8b16",
   "metadata": {
    "execution": {
     "iopub.execute_input": "2025-08-19T17:03:36.306135Z",
     "iopub.status.busy": "2025-08-19T17:03:36.305688Z",
     "iopub.status.idle": "2025-08-19T17:03:36.366211Z",
     "shell.execute_reply": "2025-08-19T17:03:36.362730Z"
    },
    "papermill": {
     "duration": 0.091447,
     "end_time": "2025-08-19T17:03:36.368908",
     "exception": false,
     "start_time": "2025-08-19T17:03:36.277461",
     "status": "completed"
    },
    "tags": []
   },
   "outputs": [
    {
     "name": "stdout",
     "output_type": "stream",
     "text": [
      "Dropping features: ['age']\n"
     ]
    }
   ],
   "source": [
    "if len(excluded_features_columns) > 0:\n",
    "    print(f\"Dropping features: {excluded_features_columns}\")\n",
    "    X_test.drop(excluded_features_columns, axis=1, inplace=True)"
   ]
  },
  {
   "cell_type": "code",
   "execution_count": 26,
   "id": "1853aaf5-fb9f-46cb-a2b5-8ea4ae2237e4",
   "metadata": {
    "execution": {
     "iopub.execute_input": "2025-08-19T17:03:36.404576Z",
     "iopub.status.busy": "2025-08-19T17:03:36.403900Z",
     "iopub.status.idle": "2025-08-19T17:03:36.488997Z",
     "shell.execute_reply": "2025-08-19T17:03:36.487936Z"
    },
    "papermill": {
     "duration": 0.100678,
     "end_time": "2025-08-19T17:03:36.490490",
     "exception": false,
     "start_time": "2025-08-19T17:03:36.389812",
     "status": "completed"
    },
    "tags": []
   },
   "outputs": [
    {
     "name": "stdout",
     "output_type": "stream",
     "text": [
      "Dropping features: ['age']\n"
     ]
    }
   ],
   "source": [
    "if len(excluded_features_columns) > 0:\n",
    "    print(f\"Dropping features: {excluded_features_columns}\")\n",
    "    X_calib.drop(excluded_features_columns, axis=1, inplace=True)"
   ]
  },
  {
   "cell_type": "code",
   "execution_count": 27,
   "id": "76c4dc6d",
   "metadata": {
    "execution": {
     "iopub.execute_input": "2025-08-19T17:03:36.516276Z",
     "iopub.status.busy": "2025-08-19T17:03:36.515486Z",
     "iopub.status.idle": "2025-08-19T17:03:36.522012Z",
     "shell.execute_reply": "2025-08-19T17:03:36.520718Z"
    },
    "papermill": {
     "duration": 0.020209,
     "end_time": "2025-08-19T17:03:36.523453",
     "exception": false,
     "start_time": "2025-08-19T17:03:36.503244",
     "status": "completed"
    },
    "tags": []
   },
   "outputs": [],
   "source": [
    "# EXCLUDE CERTAIN SUBGROUPS\n",
    "# -------------------------\n",
    "\n",
    "mode = universe.get(\"exclude_subgroups\", \"keep-all\") # Defaults to \"keep-all\" if the key is missing."
   ]
  },
  {
   "cell_type": "code",
   "execution_count": 28,
   "id": "21994072",
   "metadata": {
    "execution": {
     "iopub.execute_input": "2025-08-19T17:03:36.551710Z",
     "iopub.status.busy": "2025-08-19T17:03:36.550470Z",
     "iopub.status.idle": "2025-08-19T17:03:36.562000Z",
     "shell.execute_reply": "2025-08-19T17:03:36.560549Z"
    },
    "papermill": {
     "duration": 0.029151,
     "end_time": "2025-08-19T17:03:36.565117",
     "exception": false,
     "start_time": "2025-08-19T17:03:36.535966",
     "status": "completed"
    },
    "tags": []
   },
   "outputs": [],
   "source": [
    "if mode == \"keep-all\":\n",
    "    keep_mask = pd.Series(True, index=org_train.index)\n",
    "\n",
    "elif mode == \"drop-non-german\":\n",
    "    keep_mask = (org_train[\"maxdeutsch1\"] == 1) & (org_train[\"maxdeutsch.Missing.\"] == 0)\n",
    "\n",
    "else:\n",
    "    raise ValueError(f\"Unsupported mode for exclude_subgroups: {mode}\")"
   ]
  },
  {
   "cell_type": "code",
   "execution_count": 29,
   "id": "71651440",
   "metadata": {
    "execution": {
     "iopub.execute_input": "2025-08-19T17:03:36.606632Z",
     "iopub.status.busy": "2025-08-19T17:03:36.605416Z",
     "iopub.status.idle": "2025-08-19T17:03:36.617464Z",
     "shell.execute_reply": "2025-08-19T17:03:36.615881Z"
    },
    "papermill": {
     "duration": 0.028627,
     "end_time": "2025-08-19T17:03:36.619191",
     "exception": false,
     "start_time": "2025-08-19T17:03:36.590564",
     "status": "completed"
    },
    "tags": []
   },
   "outputs": [
    {
     "name": "stdout",
     "output_type": "stream",
     "text": [
      "Dropping 3688 rows (14.75%) where mode='drop-non-german'\n"
     ]
    }
   ],
   "source": [
    "n_drop = (~keep_mask).sum() # Calculates how many rows are set to be dropped\n",
    "if n_drop > 0:\n",
    "    pct = n_drop / len(keep_mask) * 100\n",
    "    print(f\"Dropping {n_drop} rows ({pct:.2f}%) where mode='{mode}'\")"
   ]
  },
  {
   "cell_type": "code",
   "execution_count": 30,
   "id": "5fb8eee5",
   "metadata": {
    "execution": {
     "iopub.execute_input": "2025-08-19T17:03:36.657414Z",
     "iopub.status.busy": "2025-08-19T17:03:36.657103Z",
     "iopub.status.idle": "2025-08-19T17:03:36.687644Z",
     "shell.execute_reply": "2025-08-19T17:03:36.686892Z"
    },
    "papermill": {
     "duration": 0.056334,
     "end_time": "2025-08-19T17:03:36.689092",
     "exception": false,
     "start_time": "2025-08-19T17:03:36.632758",
     "status": "completed"
    },
    "tags": []
   },
   "outputs": [],
   "source": [
    "X_train = X_train[keep_mask]"
   ]
  },
  {
   "cell_type": "code",
   "execution_count": 31,
   "id": "b202bb3a",
   "metadata": {
    "execution": {
     "iopub.execute_input": "2025-08-19T17:03:36.713132Z",
     "iopub.status.busy": "2025-08-19T17:03:36.712737Z",
     "iopub.status.idle": "2025-08-19T17:03:36.717693Z",
     "shell.execute_reply": "2025-08-19T17:03:36.717011Z"
    },
    "papermill": {
     "duration": 0.018489,
     "end_time": "2025-08-19T17:03:36.719115",
     "exception": false,
     "start_time": "2025-08-19T17:03:36.700626",
     "status": "completed"
    },
    "tags": []
   },
   "outputs": [],
   "source": [
    "y_train = y_train[keep_mask]"
   ]
  },
  {
   "cell_type": "markdown",
   "id": "493e2ac3",
   "metadata": {
    "papermill": {
     "duration": 0.011265,
     "end_time": "2025-08-19T17:03:36.742439",
     "exception": false,
     "start_time": "2025-08-19T17:03:36.731174",
     "status": "completed"
    },
    "tags": []
   },
   "source": [
    "# Model Training"
   ]
  },
  {
   "cell_type": "code",
   "execution_count": 32,
   "id": "679e1268",
   "metadata": {
    "execution": {
     "iopub.execute_input": "2025-08-19T17:03:36.765753Z",
     "iopub.status.busy": "2025-08-19T17:03:36.765351Z",
     "iopub.status.idle": "2025-08-19T17:03:36.858343Z",
     "shell.execute_reply": "2025-08-19T17:03:36.857527Z"
    },
    "papermill": {
     "duration": 0.107868,
     "end_time": "2025-08-19T17:03:36.861224",
     "exception": false,
     "start_time": "2025-08-19T17:03:36.753356",
     "status": "completed"
    },
    "tags": []
   },
   "outputs": [],
   "source": [
    "from sklearn.linear_model import LogisticRegression\n",
    "from sklearn.ensemble import GradientBoostingClassifier, RandomForestClassifier\n",
    "\n",
    "if (universe[\"model\"] == \"logreg\"):\n",
    "    model = LogisticRegression() #penalty=\"none\", solver=\"newton-cg\", max_iter=1)\n",
    "elif (universe[\"model\"] == \"penalized_logreg\"):\n",
    "    model = LogisticRegression(penalty=\"l2\", C=0.1) #, solver=\"newton-cg\", max_iter=1)\n",
    "elif (universe[\"model\"] == \"rf\"):\n",
    "    model = RandomForestClassifier() # n_estimators=100, n_jobs=-1\n",
    "elif (universe[\"model\"] == \"gbm\"):\n",
    "    model = GradientBoostingClassifier()\n",
    "elif (universe[\"model\"] == \"elasticnet\"):\n",
    "    model = LogisticRegression(penalty = 'elasticnet', solver = 'saga', l1_ratio = 0.5) # max_iter=5000\n",
    "else:\n",
    "    raise \"Unsupported universe.model\""
   ]
  },
  {
   "cell_type": "code",
   "execution_count": 33,
   "id": "0cc8f744",
   "metadata": {
    "execution": {
     "iopub.execute_input": "2025-08-19T17:03:36.901537Z",
     "iopub.status.busy": "2025-08-19T17:03:36.900604Z",
     "iopub.status.idle": "2025-08-19T17:03:36.910813Z",
     "shell.execute_reply": "2025-08-19T17:03:36.909179Z"
    },
    "papermill": {
     "duration": 0.026563,
     "end_time": "2025-08-19T17:03:36.912709",
     "exception": false,
     "start_time": "2025-08-19T17:03:36.886146",
     "status": "completed"
    },
    "tags": []
   },
   "outputs": [],
   "source": [
    "from sklearn.pipeline import Pipeline\n",
    "from sklearn.preprocessing import StandardScaler\n",
    "\n",
    "model = Pipeline([\n",
    "    #(\"continuous_processor\", continuous_processor),\n",
    "    #(\"categorical_preprocessor\", categorical_preprocessor),\n",
    "    (\"scale\", StandardScaler() if universe[\"scale\"] == \"scale\" else None), \n",
    "    (\"model\", model),\n",
    "])"
   ]
  },
  {
   "cell_type": "code",
   "execution_count": 34,
   "id": "9442c04d",
   "metadata": {
    "execution": {
     "iopub.execute_input": "2025-08-19T17:03:36.943734Z",
     "iopub.status.busy": "2025-08-19T17:03:36.942553Z",
     "iopub.status.idle": "2025-08-19T17:03:43.923949Z",
     "shell.execute_reply": "2025-08-19T17:03:43.923075Z"
    },
    "papermill": {
     "duration": 6.99787,
     "end_time": "2025-08-19T17:03:43.925803",
     "exception": false,
     "start_time": "2025-08-19T17:03:36.927933",
     "status": "completed"
    },
    "tags": []
   },
   "outputs": [
    {
     "data": {
      "text/html": [
       "<style>#sk-container-id-1 {color: black;background-color: white;}#sk-container-id-1 pre{padding: 0;}#sk-container-id-1 div.sk-toggleable {background-color: white;}#sk-container-id-1 label.sk-toggleable__label {cursor: pointer;display: block;width: 100%;margin-bottom: 0;padding: 0.3em;box-sizing: border-box;text-align: center;}#sk-container-id-1 label.sk-toggleable__label-arrow:before {content: \"▸\";float: left;margin-right: 0.25em;color: #696969;}#sk-container-id-1 label.sk-toggleable__label-arrow:hover:before {color: black;}#sk-container-id-1 div.sk-estimator:hover label.sk-toggleable__label-arrow:before {color: black;}#sk-container-id-1 div.sk-toggleable__content {max-height: 0;max-width: 0;overflow: hidden;text-align: left;background-color: #f0f8ff;}#sk-container-id-1 div.sk-toggleable__content pre {margin: 0.2em;color: black;border-radius: 0.25em;background-color: #f0f8ff;}#sk-container-id-1 input.sk-toggleable__control:checked~div.sk-toggleable__content {max-height: 200px;max-width: 100%;overflow: auto;}#sk-container-id-1 input.sk-toggleable__control:checked~label.sk-toggleable__label-arrow:before {content: \"▾\";}#sk-container-id-1 div.sk-estimator input.sk-toggleable__control:checked~label.sk-toggleable__label {background-color: #d4ebff;}#sk-container-id-1 div.sk-label input.sk-toggleable__control:checked~label.sk-toggleable__label {background-color: #d4ebff;}#sk-container-id-1 input.sk-hidden--visually {border: 0;clip: rect(1px 1px 1px 1px);clip: rect(1px, 1px, 1px, 1px);height: 1px;margin: -1px;overflow: hidden;padding: 0;position: absolute;width: 1px;}#sk-container-id-1 div.sk-estimator {font-family: monospace;background-color: #f0f8ff;border: 1px dotted black;border-radius: 0.25em;box-sizing: border-box;margin-bottom: 0.5em;}#sk-container-id-1 div.sk-estimator:hover {background-color: #d4ebff;}#sk-container-id-1 div.sk-parallel-item::after {content: \"\";width: 100%;border-bottom: 1px solid gray;flex-grow: 1;}#sk-container-id-1 div.sk-label:hover label.sk-toggleable__label {background-color: #d4ebff;}#sk-container-id-1 div.sk-serial::before {content: \"\";position: absolute;border-left: 1px solid gray;box-sizing: border-box;top: 0;bottom: 0;left: 50%;z-index: 0;}#sk-container-id-1 div.sk-serial {display: flex;flex-direction: column;align-items: center;background-color: white;padding-right: 0.2em;padding-left: 0.2em;position: relative;}#sk-container-id-1 div.sk-item {position: relative;z-index: 1;}#sk-container-id-1 div.sk-parallel {display: flex;align-items: stretch;justify-content: center;background-color: white;position: relative;}#sk-container-id-1 div.sk-item::before, #sk-container-id-1 div.sk-parallel-item::before {content: \"\";position: absolute;border-left: 1px solid gray;box-sizing: border-box;top: 0;bottom: 0;left: 50%;z-index: -1;}#sk-container-id-1 div.sk-parallel-item {display: flex;flex-direction: column;z-index: 1;position: relative;background-color: white;}#sk-container-id-1 div.sk-parallel-item:first-child::after {align-self: flex-end;width: 50%;}#sk-container-id-1 div.sk-parallel-item:last-child::after {align-self: flex-start;width: 50%;}#sk-container-id-1 div.sk-parallel-item:only-child::after {width: 0;}#sk-container-id-1 div.sk-dashed-wrapped {border: 1px dashed gray;margin: 0 0.4em 0.5em 0.4em;box-sizing: border-box;padding-bottom: 0.4em;background-color: white;}#sk-container-id-1 div.sk-label label {font-family: monospace;font-weight: bold;display: inline-block;line-height: 1.2em;}#sk-container-id-1 div.sk-label-container {text-align: center;}#sk-container-id-1 div.sk-container {/* jupyter's `normalize.less` sets `[hidden] { display: none; }` but bootstrap.min.css set `[hidden] { display: none !important; }` so we also need the `!important` here to be able to override the default hidden behavior on the sphinx rendered scikit-learn.org. See: https://github.com/scikit-learn/scikit-learn/issues/21755 */display: inline-block !important;position: relative;}#sk-container-id-1 div.sk-text-repr-fallback {display: none;}</style><div id=\"sk-container-id-1\" class=\"sk-top-container\"><div class=\"sk-text-repr-fallback\"><pre>Pipeline(steps=[(&#x27;scale&#x27;, None), (&#x27;model&#x27;, RandomForestClassifier())])</pre><b>In a Jupyter environment, please rerun this cell to show the HTML representation or trust the notebook. <br />On GitHub, the HTML representation is unable to render, please try loading this page with nbviewer.org.</b></div><div class=\"sk-container\" hidden><div class=\"sk-item sk-dashed-wrapped\"><div class=\"sk-label-container\"><div class=\"sk-label sk-toggleable\"><input class=\"sk-toggleable__control sk-hidden--visually\" id=\"sk-estimator-id-1\" type=\"checkbox\" ><label for=\"sk-estimator-id-1\" class=\"sk-toggleable__label sk-toggleable__label-arrow\">Pipeline</label><div class=\"sk-toggleable__content\"><pre>Pipeline(steps=[(&#x27;scale&#x27;, None), (&#x27;model&#x27;, RandomForestClassifier())])</pre></div></div></div><div class=\"sk-serial\"><div class=\"sk-item\"><div class=\"sk-estimator sk-toggleable\"><input class=\"sk-toggleable__control sk-hidden--visually\" id=\"sk-estimator-id-2\" type=\"checkbox\" ><label for=\"sk-estimator-id-2\" class=\"sk-toggleable__label sk-toggleable__label-arrow\">None</label><div class=\"sk-toggleable__content\"><pre>None</pre></div></div></div><div class=\"sk-item\"><div class=\"sk-estimator sk-toggleable\"><input class=\"sk-toggleable__control sk-hidden--visually\" id=\"sk-estimator-id-3\" type=\"checkbox\" ><label for=\"sk-estimator-id-3\" class=\"sk-toggleable__label sk-toggleable__label-arrow\">RandomForestClassifier</label><div class=\"sk-toggleable__content\"><pre>RandomForestClassifier()</pre></div></div></div></div></div></div></div>"
      ],
      "text/plain": [
       "Pipeline(steps=[('scale', None), ('model', RandomForestClassifier())])"
      ]
     },
     "execution_count": 34,
     "metadata": {},
     "output_type": "execute_result"
    }
   ],
   "source": [
    "model.fit(X_train, y_train.values.ravel())"
   ]
  },
  {
   "cell_type": "code",
   "execution_count": 35,
   "id": "a7cf2e16",
   "metadata": {
    "execution": {
     "iopub.execute_input": "2025-08-19T17:03:43.971461Z",
     "iopub.status.busy": "2025-08-19T17:03:43.970087Z",
     "iopub.status.idle": "2025-08-19T17:03:46.310362Z",
     "shell.execute_reply": "2025-08-19T17:03:46.309694Z"
    },
    "papermill": {
     "duration": 2.355759,
     "end_time": "2025-08-19T17:03:46.311464",
     "exception": false,
     "start_time": "2025-08-19T17:03:43.955705",
     "status": "completed"
    },
    "tags": []
   },
   "outputs": [
    {
     "data": {
      "text/plain": [
       "0.8679745847731579"
      ]
     },
     "execution_count": 35,
     "metadata": {},
     "output_type": "execute_result"
    }
   ],
   "source": [
    "from fairness_multiverse.universe import predict_w_threshold\n",
    "\n",
    "probs_test = model.predict_proba(X_test)\n",
    "\n",
    "'''\n",
    "Below code returns a boolean array (or binary 0/1 array depending on how it’s used) where each element \n",
    "is True if the probability of class 1 is greater than or equal to the threshold, and False otherwise.\n",
    "'''\n",
    "y_pred_default = predict_w_threshold(probs_test, 0.5)\n",
    "\n",
    "from sklearn.metrics import accuracy_score\n",
    "\n",
    "# Naive prediction\n",
    "accuracy_score(y_true = y_true, y_pred = y_pred_default)"
   ]
  },
  {
   "cell_type": "code",
   "execution_count": 36,
   "id": "081964c3",
   "metadata": {
    "execution": {
     "iopub.execute_input": "2025-08-19T17:03:46.342406Z",
     "iopub.status.busy": "2025-08-19T17:03:46.342030Z",
     "iopub.status.idle": "2025-08-19T17:03:48.603099Z",
     "shell.execute_reply": "2025-08-19T17:03:48.602065Z"
    },
    "papermill": {
     "duration": 2.279661,
     "end_time": "2025-08-19T17:03:48.604892",
     "exception": false,
     "start_time": "2025-08-19T17:03:46.325231",
     "status": "completed"
    },
    "tags": []
   },
   "outputs": [
    {
     "data": {
      "text/plain": [
       "array([0, 0, 0, ..., 0, 0, 0])"
      ]
     },
     "execution_count": 36,
     "metadata": {},
     "output_type": "execute_result"
    }
   ],
   "source": [
    "model.predict(X_test)"
   ]
  },
  {
   "cell_type": "markdown",
   "id": "56c9705b",
   "metadata": {
    "papermill": {
     "duration": 0.015208,
     "end_time": "2025-08-19T17:03:48.646797",
     "exception": false,
     "start_time": "2025-08-19T17:03:48.631589",
     "status": "completed"
    },
    "tags": []
   },
   "source": [
    "# Conformal Prediction"
   ]
  },
  {
   "cell_type": "code",
   "execution_count": 37,
   "id": "160ec6ff",
   "metadata": {
    "execution": {
     "iopub.execute_input": "2025-08-19T17:03:48.673103Z",
     "iopub.status.busy": "2025-08-19T17:03:48.671888Z",
     "iopub.status.idle": "2025-08-19T17:03:48.681720Z",
     "shell.execute_reply": "2025-08-19T17:03:48.680068Z"
    },
    "papermill": {
     "duration": 0.025034,
     "end_time": "2025-08-19T17:03:48.683429",
     "exception": false,
     "start_time": "2025-08-19T17:03:48.658395",
     "status": "completed"
    },
    "tags": []
   },
   "outputs": [],
   "source": [
    "# Miscoverage level for conformal prediction (10% allowed error rate => 90% target coverage)\n",
    "alpha = 0.1"
   ]
  },
  {
   "cell_type": "code",
   "execution_count": 38,
   "id": "eadf4555-3dd3-440e-8e35-f82a4ad9f855",
   "metadata": {
    "execution": {
     "iopub.execute_input": "2025-08-19T17:03:48.711661Z",
     "iopub.status.busy": "2025-08-19T17:03:48.710035Z",
     "iopub.status.idle": "2025-08-19T17:03:50.926857Z",
     "shell.execute_reply": "2025-08-19T17:03:50.925940Z"
    },
    "papermill": {
     "duration": 2.232506,
     "end_time": "2025-08-19T17:03:50.929828",
     "exception": false,
     "start_time": "2025-08-19T17:03:48.697322",
     "status": "completed"
    },
    "tags": []
   },
   "outputs": [],
   "source": [
    "probs_calib = model.predict_proba(X_calib)"
   ]
  },
  {
   "cell_type": "code",
   "execution_count": 39,
   "id": "2ed93547-6d5d-4983-9b36-1ecb300da49a",
   "metadata": {
    "execution": {
     "iopub.execute_input": "2025-08-19T17:03:50.970383Z",
     "iopub.status.busy": "2025-08-19T17:03:50.969305Z",
     "iopub.status.idle": "2025-08-19T17:03:50.980833Z",
     "shell.execute_reply": "2025-08-19T17:03:50.979176Z"
    },
    "papermill": {
     "duration": 0.027627,
     "end_time": "2025-08-19T17:03:50.982494",
     "exception": false,
     "start_time": "2025-08-19T17:03:50.954867",
     "status": "completed"
    },
    "tags": []
   },
   "outputs": [],
   "source": [
    "y_calib = y_calib.values.ravel().astype(int)"
   ]
  },
  {
   "cell_type": "code",
   "execution_count": 40,
   "id": "65d1320d-f588-4b38-9072-62af1ae97f7d",
   "metadata": {
    "execution": {
     "iopub.execute_input": "2025-08-19T17:03:51.012310Z",
     "iopub.status.busy": "2025-08-19T17:03:51.011414Z",
     "iopub.status.idle": "2025-08-19T17:03:51.024923Z",
     "shell.execute_reply": "2025-08-19T17:03:51.023689Z"
    },
    "papermill": {
     "duration": 0.028416,
     "end_time": "2025-08-19T17:03:51.026509",
     "exception": false,
     "start_time": "2025-08-19T17:03:50.998093",
     "status": "completed"
    },
    "tags": []
   },
   "outputs": [],
   "source": [
    "from fairness_multiverse.conformal import compute_nc_scores\n",
    "\n",
    "# Compute nonconformity scores on calibration set (1 - probability of true class)\n",
    "nc_scores = compute_nc_scores(probs_calib, y_calib)"
   ]
  },
  {
   "cell_type": "code",
   "execution_count": 41,
   "id": "df3b8ca3-53b7-43d5-9667-7c85da7aeda2",
   "metadata": {
    "execution": {
     "iopub.execute_input": "2025-08-19T17:03:51.059855Z",
     "iopub.status.busy": "2025-08-19T17:03:51.058702Z",
     "iopub.status.idle": "2025-08-19T17:03:51.071300Z",
     "shell.execute_reply": "2025-08-19T17:03:51.069767Z"
    },
    "papermill": {
     "duration": 0.028114,
     "end_time": "2025-08-19T17:03:51.072801",
     "exception": false,
     "start_time": "2025-08-19T17:03:51.044687",
     "status": "completed"
    },
    "tags": []
   },
   "outputs": [],
   "source": [
    "from fairness_multiverse.conformal import find_threshold\n",
    "\n",
    "# Find conformal threshold q_hat for the given alpha (split conformal method)\n",
    "q_hat = find_threshold(nc_scores, alpha)"
   ]
  },
  {
   "cell_type": "code",
   "execution_count": 42,
   "id": "4d29e6c1-0ef6-4aa4-b8fe-4fe79b0d033a",
   "metadata": {
    "execution": {
     "iopub.execute_input": "2025-08-19T17:03:51.103028Z",
     "iopub.status.busy": "2025-08-19T17:03:51.102056Z",
     "iopub.status.idle": "2025-08-19T17:03:51.113368Z",
     "shell.execute_reply": "2025-08-19T17:03:51.112185Z"
    },
    "papermill": {
     "duration": 0.026029,
     "end_time": "2025-08-19T17:03:51.114817",
     "exception": false,
     "start_time": "2025-08-19T17:03:51.088788",
     "status": "completed"
    },
    "tags": []
   },
   "outputs": [
    {
     "data": {
      "text/plain": [
       "0.6699999999999999"
      ]
     },
     "execution_count": 42,
     "metadata": {},
     "output_type": "execute_result"
    }
   ],
   "source": [
    "q_hat"
   ]
  },
  {
   "cell_type": "code",
   "execution_count": 43,
   "id": "92460794-cdac-4be2-ba28-f28c0515a6fb",
   "metadata": {
    "execution": {
     "iopub.execute_input": "2025-08-19T17:03:51.145689Z",
     "iopub.status.busy": "2025-08-19T17:03:51.144599Z",
     "iopub.status.idle": "2025-08-19T17:03:53.792842Z",
     "shell.execute_reply": "2025-08-19T17:03:53.792088Z"
    },
    "papermill": {
     "duration": 2.664595,
     "end_time": "2025-08-19T17:03:53.795760",
     "exception": false,
     "start_time": "2025-08-19T17:03:51.131165",
     "status": "completed"
    },
    "tags": []
   },
   "outputs": [],
   "source": [
    "from fairness_multiverse.conformal import predict_conformal_sets\n",
    "\n",
    "# Generate prediction sets for each test example\n",
    "pred_sets = predict_conformal_sets(model, X_test, q_hat)"
   ]
  },
  {
   "cell_type": "code",
   "execution_count": 44,
   "id": "d90c9a65-e6db-4f5d-80cd-e68fb7e46829",
   "metadata": {
    "execution": {
     "iopub.execute_input": "2025-08-19T17:03:53.840987Z",
     "iopub.status.busy": "2025-08-19T17:03:53.839505Z",
     "iopub.status.idle": "2025-08-19T17:03:53.848725Z",
     "shell.execute_reply": "2025-08-19T17:03:53.847081Z"
    },
    "papermill": {
     "duration": 0.027168,
     "end_time": "2025-08-19T17:03:53.850217",
     "exception": false,
     "start_time": "2025-08-19T17:03:53.823049",
     "status": "completed"
    },
    "tags": []
   },
   "outputs": [],
   "source": [
    "y_true = y_true.squeeze()"
   ]
  },
  {
   "cell_type": "code",
   "execution_count": 45,
   "id": "3a58a54a-1e68-46b9-927a-df01f18aebc8",
   "metadata": {
    "execution": {
     "iopub.execute_input": "2025-08-19T17:03:53.879370Z",
     "iopub.status.busy": "2025-08-19T17:03:53.877983Z",
     "iopub.status.idle": "2025-08-19T17:03:54.367966Z",
     "shell.execute_reply": "2025-08-19T17:03:54.367277Z"
    },
    "papermill": {
     "duration": 0.50619,
     "end_time": "2025-08-19T17:03:54.370824",
     "exception": false,
     "start_time": "2025-08-19T17:03:53.864634",
     "status": "completed"
    },
    "tags": []
   },
   "outputs": [],
   "source": [
    "from fairness_multiverse.conformal import evaluate_sets\n",
    "\n",
    "# Evaluate coverage and average set size on test data\n",
    "metrics = evaluate_sets(pred_sets, y_true)"
   ]
  },
  {
   "cell_type": "markdown",
   "id": "2b569c12-9aaa-4c88-98c9-bbcd0cf3ebb8",
   "metadata": {
    "papermill": {
     "duration": 0.013889,
     "end_time": "2025-08-19T17:03:54.412962",
     "exception": false,
     "start_time": "2025-08-19T17:03:54.399073",
     "status": "completed"
    },
    "tags": []
   },
   "source": [
    "# CP Metrics"
   ]
  },
  {
   "cell_type": "code",
   "execution_count": 46,
   "id": "5ce0a5cb-201f-45a0-ade5-94c7f0bd6095",
   "metadata": {
    "execution": {
     "iopub.execute_input": "2025-08-19T17:03:54.450927Z",
     "iopub.status.busy": "2025-08-19T17:03:54.449676Z",
     "iopub.status.idle": "2025-08-19T17:03:54.461208Z",
     "shell.execute_reply": "2025-08-19T17:03:54.459574Z"
    },
    "papermill": {
     "duration": 0.031293,
     "end_time": "2025-08-19T17:03:54.462874",
     "exception": false,
     "start_time": "2025-08-19T17:03:54.431581",
     "status": "completed"
    },
    "tags": []
   },
   "outputs": [
    {
     "data": {
      "text/plain": [
       "{'coverage': 0.9160071340987627, 'avg_size': 1.1496154274885744}"
      ]
     },
     "execution_count": 46,
     "metadata": {},
     "output_type": "execute_result"
    }
   ],
   "source": [
    "metrics"
   ]
  },
  {
   "cell_type": "code",
   "execution_count": 47,
   "id": "9b9a838d-31c9-430b-ae14-12baee460d17",
   "metadata": {
    "execution": {
     "iopub.execute_input": "2025-08-19T17:03:54.497797Z",
     "iopub.status.busy": "2025-08-19T17:03:54.496608Z",
     "iopub.status.idle": "2025-08-19T17:03:54.507137Z",
     "shell.execute_reply": "2025-08-19T17:03:54.506005Z"
    },
    "papermill": {
     "duration": 0.028708,
     "end_time": "2025-08-19T17:03:54.508673",
     "exception": false,
     "start_time": "2025-08-19T17:03:54.479965",
     "status": "completed"
    },
    "tags": []
   },
   "outputs": [],
   "source": [
    "example_universe = universe.copy()\n",
    "universe_training_year = example_universe.get(\"training_year\")\n",
    "universe_training_size = example_universe.get(\"training_size\")\n",
    "universe_scale = example_universe.get(\"scale\")\n",
    "universe_model = example_universe.get(\"model\")\n",
    "universe_exclude_features = example_universe.get(\"exclude_features\")\n",
    "universe_exclude_subgroups = example_universe.get(\"exclude_subgroups\")"
   ]
  },
  {
   "cell_type": "code",
   "execution_count": 48,
   "id": "f4b6a8ac-9dc0-4245-8a91-5b3b5999c4f9",
   "metadata": {
    "execution": {
     "iopub.execute_input": "2025-08-19T17:03:54.537923Z",
     "iopub.status.busy": "2025-08-19T17:03:54.536958Z",
     "iopub.status.idle": "2025-08-19T17:03:54.547543Z",
     "shell.execute_reply": "2025-08-19T17:03:54.546237Z"
    },
    "papermill": {
     "duration": 0.025594,
     "end_time": "2025-08-19T17:03:54.549005",
     "exception": false,
     "start_time": "2025-08-19T17:03:54.523411",
     "status": "completed"
    },
    "tags": []
   },
   "outputs": [],
   "source": [
    "cp_metrics_dict = {\n",
    "    \"universe_id\": [universe_id],\n",
    "    \"universe_training_year\": [universe_training_year],\n",
    "    \"universe_training_size\": [universe_training_size],\n",
    "    \"universe_scale\": [universe_scale],\n",
    "    \"universe_model\": [universe_model],\n",
    "    \"universe_exclude_features\": [universe_exclude_features],\n",
    "    \"universe_exclude_subgroups\": [universe_exclude_subgroups],\n",
    "    \"q_hat\": [q_hat],\n",
    "    \"coverage\": [metrics[\"coverage\"]],\n",
    "    \"avg_size\": [metrics[\"avg_size\"]],\n",
    "}"
   ]
  },
  {
   "cell_type": "code",
   "execution_count": 49,
   "id": "33007efc-14e9-4ec6-97ac-56a455c82265",
   "metadata": {
    "execution": {
     "iopub.execute_input": "2025-08-19T17:03:54.578800Z",
     "iopub.status.busy": "2025-08-19T17:03:54.577388Z",
     "iopub.status.idle": "2025-08-19T17:03:54.587521Z",
     "shell.execute_reply": "2025-08-19T17:03:54.586119Z"
    },
    "papermill": {
     "duration": 0.025202,
     "end_time": "2025-08-19T17:03:54.588951",
     "exception": false,
     "start_time": "2025-08-19T17:03:54.563749",
     "status": "completed"
    },
    "tags": []
   },
   "outputs": [],
   "source": [
    "cp_metrics_df = pd.DataFrame(cp_metrics_dict)"
   ]
  },
  {
   "cell_type": "code",
   "execution_count": 50,
   "id": "db12611b-57b2-4910-b9d0-355adfd6e7bf",
   "metadata": {
    "execution": {
     "iopub.execute_input": "2025-08-19T17:03:54.618501Z",
     "iopub.status.busy": "2025-08-19T17:03:54.617066Z",
     "iopub.status.idle": "2025-08-19T17:03:54.638893Z",
     "shell.execute_reply": "2025-08-19T17:03:54.638118Z"
    },
    "papermill": {
     "duration": 0.036814,
     "end_time": "2025-08-19T17:03:54.640504",
     "exception": false,
     "start_time": "2025-08-19T17:03:54.603690",
     "status": "completed"
    },
    "tags": []
   },
   "outputs": [
    {
     "data": {
      "text/html": [
       "<div>\n",
       "<style scoped>\n",
       "    .dataframe tbody tr th:only-of-type {\n",
       "        vertical-align: middle;\n",
       "    }\n",
       "\n",
       "    .dataframe tbody tr th {\n",
       "        vertical-align: top;\n",
       "    }\n",
       "\n",
       "    .dataframe thead th {\n",
       "        text-align: right;\n",
       "    }\n",
       "</style>\n",
       "<table border=\"1\" class=\"dataframe\">\n",
       "  <thead>\n",
       "    <tr style=\"text-align: right;\">\n",
       "      <th></th>\n",
       "      <th>universe_id</th>\n",
       "      <th>universe_training_year</th>\n",
       "      <th>universe_training_size</th>\n",
       "      <th>universe_scale</th>\n",
       "      <th>universe_model</th>\n",
       "      <th>universe_exclude_features</th>\n",
       "      <th>universe_exclude_subgroups</th>\n",
       "      <th>q_hat</th>\n",
       "      <th>coverage</th>\n",
       "      <th>avg_size</th>\n",
       "    </tr>\n",
       "  </thead>\n",
       "  <tbody>\n",
       "    <tr>\n",
       "      <th>0</th>\n",
       "      <td>6bbc2ba84ee6061532b1418a0301613b</td>\n",
       "      <td>2014</td>\n",
       "      <td>25k</td>\n",
       "      <td>do-not-scale</td>\n",
       "      <td>rf</td>\n",
       "      <td>age</td>\n",
       "      <td>drop-non-german</td>\n",
       "      <td>0.67</td>\n",
       "      <td>0.916007</td>\n",
       "      <td>1.149615</td>\n",
       "    </tr>\n",
       "  </tbody>\n",
       "</table>\n",
       "</div>"
      ],
      "text/plain": [
       "                        universe_id universe_training_year  \\\n",
       "0  6bbc2ba84ee6061532b1418a0301613b                   2014   \n",
       "\n",
       "  universe_training_size universe_scale universe_model  \\\n",
       "0                    25k   do-not-scale             rf   \n",
       "\n",
       "  universe_exclude_features universe_exclude_subgroups  q_hat  coverage  \\\n",
       "0                       age            drop-non-german   0.67  0.916007   \n",
       "\n",
       "   avg_size  \n",
       "0  1.149615  "
      ]
     },
     "execution_count": 50,
     "metadata": {},
     "output_type": "execute_result"
    }
   ],
   "source": [
    "cp_metrics_df"
   ]
  },
  {
   "cell_type": "markdown",
   "id": "c825ecb4-0d3d-41d6-b7c6-eccb21272259",
   "metadata": {
    "papermill": {
     "duration": 0.01206,
     "end_time": "2025-08-19T17:03:54.671804",
     "exception": false,
     "start_time": "2025-08-19T17:03:54.659744",
     "status": "completed"
    },
    "tags": []
   },
   "source": [
    "Conditional coverage & looking at subgroups"
   ]
  },
  {
   "cell_type": "code",
   "execution_count": 51,
   "id": "027ae886-68dd-4141-96c7-805a5450e1ef",
   "metadata": {
    "execution": {
     "iopub.execute_input": "2025-08-19T17:03:54.697965Z",
     "iopub.status.busy": "2025-08-19T17:03:54.697101Z",
     "iopub.status.idle": "2025-08-19T17:03:54.921916Z",
     "shell.execute_reply": "2025-08-19T17:03:54.921243Z"
    },
    "papermill": {
     "duration": 0.240868,
     "end_time": "2025-08-19T17:03:54.924598",
     "exception": false,
     "start_time": "2025-08-19T17:03:54.683730",
     "status": "completed"
    },
    "tags": []
   },
   "outputs": [],
   "source": [
    "from fairness_multiverse.conformal import build_cp_groups\n",
    "\n",
    "cp_groups_df = build_cp_groups(pred_sets, y_true, X_test.index, org_test)"
   ]
  },
  {
   "cell_type": "code",
   "execution_count": 52,
   "id": "6cbdab96-b2b2-45af-ad54-d0516db2e28d",
   "metadata": {
    "execution": {
     "iopub.execute_input": "2025-08-19T17:03:54.968404Z",
     "iopub.status.busy": "2025-08-19T17:03:54.967280Z",
     "iopub.status.idle": "2025-08-19T17:03:55.806898Z",
     "shell.execute_reply": "2025-08-19T17:03:55.806238Z"
    },
    "papermill": {
     "duration": 0.85636,
     "end_time": "2025-08-19T17:03:55.808275",
     "exception": false,
     "start_time": "2025-08-19T17:03:54.951915",
     "status": "completed"
    },
    "tags": []
   },
   "outputs": [],
   "source": [
    "# Define covered = 1 if true_label is in the predicted set\n",
    "cp_groups_df['covered'] = cp_groups_df.apply(\n",
    "    lambda r: int(r['true_label'] in r['pred_set']),\n",
    "    axis=1\n",
    ")"
   ]
  },
  {
   "cell_type": "code",
   "execution_count": 53,
   "id": "90032e27-66df-4540-9169-4e89cfbaa758",
   "metadata": {
    "execution": {
     "iopub.execute_input": "2025-08-19T17:03:55.848095Z",
     "iopub.status.busy": "2025-08-19T17:03:55.847310Z",
     "iopub.status.idle": "2025-08-19T17:03:55.863216Z",
     "shell.execute_reply": "2025-08-19T17:03:55.862473Z"
    },
    "papermill": {
     "duration": 0.044409,
     "end_time": "2025-08-19T17:03:55.865519",
     "exception": false,
     "start_time": "2025-08-19T17:03:55.821110",
     "status": "completed"
    },
    "tags": []
   },
   "outputs": [],
   "source": [
    "subgroups = ['frau1','nongerman','nongerman_male','nongerman_female']\n",
    "\n",
    "# Conditional coverage for subgroup==1\n",
    "cond_coverage = {\n",
    "    g: cp_groups_df.loc[cp_groups_df[g]==1, 'covered'].mean()\n",
    "    for g in subgroups\n",
    "}"
   ]
  },
  {
   "cell_type": "code",
   "execution_count": 54,
   "id": "1e348fb1-b9c3-45bc-ba23-f016827a7e0d",
   "metadata": {
    "execution": {
     "iopub.execute_input": "2025-08-19T17:03:55.907700Z",
     "iopub.status.busy": "2025-08-19T17:03:55.906692Z",
     "iopub.status.idle": "2025-08-19T17:03:55.918135Z",
     "shell.execute_reply": "2025-08-19T17:03:55.916545Z"
    },
    "papermill": {
     "duration": 0.027716,
     "end_time": "2025-08-19T17:03:55.919687",
     "exception": false,
     "start_time": "2025-08-19T17:03:55.891971",
     "status": "completed"
    },
    "tags": []
   },
   "outputs": [
    {
     "data": {
      "text/plain": [
       "{'frau1': 0.9144359078042863,\n",
       " 'nongerman': 0.9134340088699264,\n",
       " 'nongerman_male': 0.9274070071151941,\n",
       " 'nongerman_female': 0.8903129657228018}"
      ]
     },
     "execution_count": 54,
     "metadata": {},
     "output_type": "execute_result"
    }
   ],
   "source": [
    "cond_coverage"
   ]
  },
  {
   "cell_type": "code",
   "execution_count": 55,
   "id": "f5093324-c3dd-4d63-bc4c-8d945e5c8bbb",
   "metadata": {
    "execution": {
     "iopub.execute_input": "2025-08-19T17:03:55.952467Z",
     "iopub.status.busy": "2025-08-19T17:03:55.951549Z",
     "iopub.status.idle": "2025-08-19T17:03:55.962803Z",
     "shell.execute_reply": "2025-08-19T17:03:55.961537Z"
    },
    "papermill": {
     "duration": 0.026641,
     "end_time": "2025-08-19T17:03:55.963979",
     "exception": false,
     "start_time": "2025-08-19T17:03:55.937338",
     "status": "completed"
    },
    "tags": []
   },
   "outputs": [],
   "source": [
    "for subgroup, cov in cond_coverage.items():\n",
    "    cp_metrics_df[f\"cov_{subgroup}\"] = cov"
   ]
  },
  {
   "cell_type": "code",
   "execution_count": 56,
   "id": "6e872e10-dbe5-49e8-b554-5030c98ff75d",
   "metadata": {
    "execution": {
     "iopub.execute_input": "2025-08-19T17:03:55.993432Z",
     "iopub.status.busy": "2025-08-19T17:03:55.992453Z",
     "iopub.status.idle": "2025-08-19T17:03:56.016213Z",
     "shell.execute_reply": "2025-08-19T17:03:56.015430Z"
    },
    "papermill": {
     "duration": 0.03875,
     "end_time": "2025-08-19T17:03:56.017713",
     "exception": false,
     "start_time": "2025-08-19T17:03:55.978963",
     "status": "completed"
    },
    "tags": []
   },
   "outputs": [
    {
     "data": {
      "text/html": [
       "<div>\n",
       "<style scoped>\n",
       "    .dataframe tbody tr th:only-of-type {\n",
       "        vertical-align: middle;\n",
       "    }\n",
       "\n",
       "    .dataframe tbody tr th {\n",
       "        vertical-align: top;\n",
       "    }\n",
       "\n",
       "    .dataframe thead th {\n",
       "        text-align: right;\n",
       "    }\n",
       "</style>\n",
       "<table border=\"1\" class=\"dataframe\">\n",
       "  <thead>\n",
       "    <tr style=\"text-align: right;\">\n",
       "      <th></th>\n",
       "      <th>universe_id</th>\n",
       "      <th>universe_training_year</th>\n",
       "      <th>universe_training_size</th>\n",
       "      <th>universe_scale</th>\n",
       "      <th>universe_model</th>\n",
       "      <th>universe_exclude_features</th>\n",
       "      <th>universe_exclude_subgroups</th>\n",
       "      <th>q_hat</th>\n",
       "      <th>coverage</th>\n",
       "      <th>avg_size</th>\n",
       "      <th>cov_frau1</th>\n",
       "      <th>cov_nongerman</th>\n",
       "      <th>cov_nongerman_male</th>\n",
       "      <th>cov_nongerman_female</th>\n",
       "    </tr>\n",
       "  </thead>\n",
       "  <tbody>\n",
       "    <tr>\n",
       "      <th>0</th>\n",
       "      <td>6bbc2ba84ee6061532b1418a0301613b</td>\n",
       "      <td>2014</td>\n",
       "      <td>25k</td>\n",
       "      <td>do-not-scale</td>\n",
       "      <td>rf</td>\n",
       "      <td>age</td>\n",
       "      <td>drop-non-german</td>\n",
       "      <td>0.67</td>\n",
       "      <td>0.916007</td>\n",
       "      <td>1.149615</td>\n",
       "      <td>0.914436</td>\n",
       "      <td>0.913434</td>\n",
       "      <td>0.927407</td>\n",
       "      <td>0.890313</td>\n",
       "    </tr>\n",
       "  </tbody>\n",
       "</table>\n",
       "</div>"
      ],
      "text/plain": [
       "                        universe_id universe_training_year  \\\n",
       "0  6bbc2ba84ee6061532b1418a0301613b                   2014   \n",
       "\n",
       "  universe_training_size universe_scale universe_model  \\\n",
       "0                    25k   do-not-scale             rf   \n",
       "\n",
       "  universe_exclude_features universe_exclude_subgroups  q_hat  coverage  \\\n",
       "0                       age            drop-non-german   0.67  0.916007   \n",
       "\n",
       "   avg_size  cov_frau1  cov_nongerman  cov_nongerman_male  \\\n",
       "0  1.149615   0.914436       0.913434            0.927407   \n",
       "\n",
       "   cov_nongerman_female  \n",
       "0              0.890313  "
      ]
     },
     "execution_count": 56,
     "metadata": {},
     "output_type": "execute_result"
    }
   ],
   "source": [
    "cp_metrics_df"
   ]
  },
  {
   "cell_type": "markdown",
   "id": "33774451",
   "metadata": {
    "papermill": {
     "duration": 0.01269,
     "end_time": "2025-08-19T17:03:56.050167",
     "exception": false,
     "start_time": "2025-08-19T17:03:56.037477",
     "status": "completed"
    },
    "tags": []
   },
   "source": [
    "# (Fairness) Metrics"
   ]
  },
  {
   "cell_type": "code",
   "execution_count": 57,
   "id": "debc5d62",
   "metadata": {
    "execution": {
     "iopub.execute_input": "2025-08-19T17:03:56.077136Z",
     "iopub.status.busy": "2025-08-19T17:03:56.076134Z",
     "iopub.status.idle": "2025-08-19T17:03:56.103140Z",
     "shell.execute_reply": "2025-08-19T17:03:56.102196Z"
    },
    "papermill": {
     "duration": 0.042422,
     "end_time": "2025-08-19T17:03:56.104873",
     "exception": false,
     "start_time": "2025-08-19T17:03:56.062451",
     "status": "completed"
    },
    "tags": []
   },
   "outputs": [],
   "source": [
    "colname_to_bin = \"maxdeutsch1\"\n",
    "majority_value = org_train[colname_to_bin].mode()[0]\n",
    "\n",
    "org_test[\"majmin\"] = np.where(org_test[colname_to_bin] == majority_value, \"majority\", \"minority\")"
   ]
  },
  {
   "cell_type": "code",
   "execution_count": 58,
   "id": "06a50de5",
   "metadata": {
    "execution": {
     "iopub.execute_input": "2025-08-19T17:03:56.144966Z",
     "iopub.status.busy": "2025-08-19T17:03:56.144043Z",
     "iopub.status.idle": "2025-08-19T17:03:57.817226Z",
     "shell.execute_reply": "2025-08-19T17:03:57.816545Z"
    },
    "papermill": {
     "duration": 1.689444,
     "end_time": "2025-08-19T17:03:57.818602",
     "exception": false,
     "start_time": "2025-08-19T17:03:56.129158",
     "status": "completed"
    },
    "tags": []
   },
   "outputs": [],
   "source": [
    "example_universe = universe.copy()\n",
    "example_universe[\"cutoff\"] = example_universe[\"cutoff\"][0]\n",
    "example_universe[\"eval_fairness_grouping\"] = example_universe[\"eval_fairness_grouping\"][0]\n",
    "fairness_dict, metric_frame = universe_analysis.compute_metrics(\n",
    "    example_universe,\n",
    "    y_pred_prob=probs_test,\n",
    "    y_test=y_true,\n",
    "    org_test=org_test,\n",
    ")"
   ]
  },
  {
   "cell_type": "markdown",
   "id": "f95d4e02",
   "metadata": {
    "papermill": {
     "duration": 0.018005,
     "end_time": "2025-08-19T17:03:57.849934",
     "exception": false,
     "start_time": "2025-08-19T17:03:57.831929",
     "status": "completed"
    },
    "tags": []
   },
   "source": [
    "# Overall"
   ]
  },
  {
   "cell_type": "markdown",
   "id": "bdee4871",
   "metadata": {
    "papermill": {
     "duration": 0.014643,
     "end_time": "2025-08-19T17:03:57.894580",
     "exception": false,
     "start_time": "2025-08-19T17:03:57.879937",
     "status": "completed"
    },
    "tags": []
   },
   "source": [
    "Main fairness target: Equalized Odds. Seems to be a better fit than equal opportunity, since we're not only interested in Y = 1. Seems to be a better fit than demographic parity, since we also care about accuracy, not just equal distribution of preds.\n",
    "\n",
    "Pick column for computation of fairness metrics\n",
    "\n",
    "Performance\n",
    "Overall performance measures, most interesting in relation to the measures split by group below"
   ]
  },
  {
   "cell_type": "code",
   "execution_count": 59,
   "id": "c4e067c6",
   "metadata": {
    "execution": {
     "iopub.execute_input": "2025-08-19T17:03:57.922058Z",
     "iopub.status.busy": "2025-08-19T17:03:57.921025Z",
     "iopub.status.idle": "2025-08-19T17:03:57.934561Z",
     "shell.execute_reply": "2025-08-19T17:03:57.933029Z"
    },
    "papermill": {
     "duration": 0.028887,
     "end_time": "2025-08-19T17:03:57.935961",
     "exception": false,
     "start_time": "2025-08-19T17:03:57.907074",
     "status": "completed"
    },
    "tags": []
   },
   "outputs": [
    {
     "data": {
      "text/plain": [
       "accuracy                   0.205863\n",
       "balanced accuracy          0.532643\n",
       "f1                         0.239014\n",
       "precision                  0.136256\n",
       "false positive rate        0.906908\n",
       "false negative rate        0.027807\n",
       "selection rate             0.915283\n",
       "count                  89710.000000\n",
       "dtype: float64"
      ]
     },
     "execution_count": 59,
     "metadata": {},
     "output_type": "execute_result"
    }
   ],
   "source": [
    "metric_frame.overall"
   ]
  },
  {
   "cell_type": "markdown",
   "id": "e968fe9d",
   "metadata": {
    "papermill": {
     "duration": 0.013078,
     "end_time": "2025-08-19T17:03:57.968105",
     "exception": false,
     "start_time": "2025-08-19T17:03:57.955027",
     "status": "completed"
    },
    "tags": []
   },
   "source": [
    "By Group"
   ]
  },
  {
   "cell_type": "code",
   "execution_count": 60,
   "id": "ec325bce",
   "metadata": {
    "execution": {
     "iopub.execute_input": "2025-08-19T17:03:57.995483Z",
     "iopub.status.busy": "2025-08-19T17:03:57.994458Z",
     "iopub.status.idle": "2025-08-19T17:03:58.016360Z",
     "shell.execute_reply": "2025-08-19T17:03:58.015548Z"
    },
    "papermill": {
     "duration": 0.037051,
     "end_time": "2025-08-19T17:03:58.017633",
     "exception": false,
     "start_time": "2025-08-19T17:03:57.980582",
     "status": "completed"
    },
    "tags": []
   },
   "outputs": [
    {
     "data": {
      "text/html": [
       "<div>\n",
       "<style scoped>\n",
       "    .dataframe tbody tr th:only-of-type {\n",
       "        vertical-align: middle;\n",
       "    }\n",
       "\n",
       "    .dataframe tbody tr th {\n",
       "        vertical-align: top;\n",
       "    }\n",
       "\n",
       "    .dataframe thead th {\n",
       "        text-align: right;\n",
       "    }\n",
       "</style>\n",
       "<table border=\"1\" class=\"dataframe\">\n",
       "  <thead>\n",
       "    <tr style=\"text-align: right;\">\n",
       "      <th></th>\n",
       "      <th>accuracy</th>\n",
       "      <th>balanced accuracy</th>\n",
       "      <th>f1</th>\n",
       "      <th>precision</th>\n",
       "      <th>false positive rate</th>\n",
       "      <th>false negative rate</th>\n",
       "      <th>selection rate</th>\n",
       "      <th>count</th>\n",
       "    </tr>\n",
       "    <tr>\n",
       "      <th>majmin</th>\n",
       "      <th></th>\n",
       "      <th></th>\n",
       "      <th></th>\n",
       "      <th></th>\n",
       "      <th></th>\n",
       "      <th></th>\n",
       "      <th></th>\n",
       "      <th></th>\n",
       "    </tr>\n",
       "  </thead>\n",
       "  <tbody>\n",
       "    <tr>\n",
       "      <th>majority</th>\n",
       "      <td>0.197528</td>\n",
       "      <td>0.533035</td>\n",
       "      <td>0.245696</td>\n",
       "      <td>0.14027</td>\n",
       "      <td>0.922989</td>\n",
       "      <td>0.010941</td>\n",
       "      <td>0.931719</td>\n",
       "      <td>69170.0</td>\n",
       "    </tr>\n",
       "    <tr>\n",
       "      <th>minority</th>\n",
       "      <td>0.233934</td>\n",
       "      <td>0.526654</td>\n",
       "      <td>0.214468</td>\n",
       "      <td>0.12161</td>\n",
       "      <td>0.853786</td>\n",
       "      <td>0.092905</td>\n",
       "      <td>0.859932</td>\n",
       "      <td>20540.0</td>\n",
       "    </tr>\n",
       "  </tbody>\n",
       "</table>\n",
       "</div>"
      ],
      "text/plain": [
       "          accuracy  balanced accuracy        f1  precision  \\\n",
       "majmin                                                       \n",
       "majority  0.197528           0.533035  0.245696    0.14027   \n",
       "minority  0.233934           0.526654  0.214468    0.12161   \n",
       "\n",
       "          false positive rate  false negative rate  selection rate    count  \n",
       "majmin                                                                       \n",
       "majority             0.922989             0.010941        0.931719  69170.0  \n",
       "minority             0.853786             0.092905        0.859932  20540.0  "
      ]
     },
     "execution_count": 60,
     "metadata": {},
     "output_type": "execute_result"
    }
   ],
   "source": [
    "metric_frame.by_group"
   ]
  },
  {
   "cell_type": "code",
   "execution_count": 61,
   "id": "a9ddbe63",
   "metadata": {
    "execution": {
     "iopub.execute_input": "2025-08-19T17:03:58.052672Z",
     "iopub.status.busy": "2025-08-19T17:03:58.051556Z",
     "iopub.status.idle": "2025-08-19T17:03:59.739207Z",
     "shell.execute_reply": "2025-08-19T17:03:59.738358Z"
    },
    "papermill": {
     "duration": 1.706338,
     "end_time": "2025-08-19T17:03:59.743406",
     "exception": false,
     "start_time": "2025-08-19T17:03:58.037068",
     "status": "completed"
    },
    "tags": []
   },
   "outputs": [
    {
     "data": {
      "text/plain": [
       "array([[<Axes: title={'center': 'accuracy'}, xlabel='majmin'>,\n",
       "        <Axes: title={'center': 'balanced accuracy'}, xlabel='majmin'>,\n",
       "        <Axes: title={'center': 'f1'}, xlabel='majmin'>],\n",
       "       [<Axes: title={'center': 'precision'}, xlabel='majmin'>,\n",
       "        <Axes: title={'center': 'false positive rate'}, xlabel='majmin'>,\n",
       "        <Axes: title={'center': 'false negative rate'}, xlabel='majmin'>],\n",
       "       [<Axes: title={'center': 'selection rate'}, xlabel='majmin'>,\n",
       "        <Axes: title={'center': 'count'}, xlabel='majmin'>,\n",
       "        <Axes: xlabel='majmin'>]], dtype=object)"
      ]
     },
     "execution_count": 61,
     "metadata": {},
     "output_type": "execute_result"
    },
    {
     "data": {
      "image/png": "[encoded data removed]",
      "text/plain": [
       "<Figure size 1200x800 with 9 Axes>"
      ]
     },
     "metadata": {},
     "output_type": "display_data"
    }
   ],
   "source": [
    "# In a graphic\n",
    "metric_frame.by_group.plot.bar(\n",
    "    subplots=True,\n",
    "    layout=[3, 3],\n",
    "    legend=False,\n",
    "    figsize=[12, 8],\n",
    "    title=\"Show all metrics\",\n",
    ")"
   ]
  },
  {
   "cell_type": "markdown",
   "id": "f57a0bac",
   "metadata": {
    "papermill": {
     "duration": 0.013887,
     "end_time": "2025-08-19T17:03:59.783532",
     "exception": false,
     "start_time": "2025-08-19T17:03:59.769645",
     "status": "completed"
    },
    "tags": []
   },
   "source": [
    "# Final Output"
   ]
  },
  {
   "cell_type": "code",
   "execution_count": 62,
   "id": "96d280a3",
   "metadata": {
    "execution": {
     "iopub.execute_input": "2025-08-19T17:03:59.814150Z",
     "iopub.status.busy": "2025-08-19T17:03:59.812418Z",
     "iopub.status.idle": "2025-08-19T17:03:59.825041Z",
     "shell.execute_reply": "2025-08-19T17:03:59.823850Z"
    },
    "papermill": {
     "duration": 0.029204,
     "end_time": "2025-08-19T17:03:59.826392",
     "exception": false,
     "start_time": "2025-08-19T17:03:59.797188",
     "status": "completed"
    },
    "tags": []
   },
   "outputs": [
    {
     "data": {
      "text/plain": [
       "4"
      ]
     },
     "execution_count": 62,
     "metadata": {},
     "output_type": "execute_result"
    }
   ],
   "source": [
    "sub_universes = universe_analysis.generate_sub_universes()\n",
    "len(sub_universes)"
   ]
  },
  {
   "cell_type": "code",
   "execution_count": 63,
   "id": "92adf7ba",
   "metadata": {
    "execution": {
     "iopub.execute_input": "2025-08-19T17:03:59.864142Z",
     "iopub.status.busy": "2025-08-19T17:03:59.862971Z",
     "iopub.status.idle": "2025-08-19T17:03:59.877490Z",
     "shell.execute_reply": "2025-08-19T17:03:59.875810Z"
    },
    "papermill": {
     "duration": 0.03194,
     "end_time": "2025-08-19T17:03:59.879003",
     "exception": false,
     "start_time": "2025-08-19T17:03:59.847063",
     "status": "completed"
    },
    "tags": []
   },
   "outputs": [],
   "source": [
    "def filter_sub_universe_data(sub_universe, org_test):\n",
    "    # Keep all rows — no filtering\n",
    "    keep_rows_mask = np.ones(org_test.shape[0], dtype=bool)\n",
    "\n",
    "    print(f\"[INFO] Keeping all rows: {keep_rows_mask.sum()} rows retained.\")\n",
    "    return keep_rows_mask"
   ]
  },
  {
   "cell_type": "code",
   "execution_count": 64,
   "id": "4a759155",
   "metadata": {
    "execution": {
     "iopub.execute_input": "2025-08-19T17:03:59.916888Z",
     "iopub.status.busy": "2025-08-19T17:03:59.915788Z",
     "iopub.status.idle": "2025-08-19T17:04:06.548065Z",
     "shell.execute_reply": "2025-08-19T17:04:06.547102Z"
    },
    "papermill": {
     "duration": 6.650675,
     "end_time": "2025-08-19T17:04:06.551065",
     "exception": false,
     "start_time": "2025-08-19T17:03:59.900390",
     "status": "completed"
    },
    "tags": []
   },
   "outputs": [
    {
     "name": "stdout",
     "output_type": "stream",
     "text": [
      "Stopping execution_time clock.\n",
      "[INFO] Keeping all rows: 89710 rows retained.\n"
     ]
    },
    {
     "name": "stdout",
     "output_type": "stream",
     "text": [
      "[INFO] Keeping all rows: 89710 rows retained.\n"
     ]
    },
    {
     "name": "stdout",
     "output_type": "stream",
     "text": [
      "[INFO] Keeping all rows: 89710 rows retained.\n"
     ]
    },
    {
     "name": "stdout",
     "output_type": "stream",
     "text": [
      "[INFO] Keeping all rows: 89710 rows retained.\n"
     ]
    },
    {
     "data": {
      "text/html": [
       "<div>\n",
       "<style scoped>\n",
       "    .dataframe tbody tr th:only-of-type {\n",
       "        vertical-align: middle;\n",
       "    }\n",
       "\n",
       "    .dataframe tbody tr th {\n",
       "        vertical-align: top;\n",
       "    }\n",
       "\n",
       "    .dataframe thead th {\n",
       "        text-align: right;\n",
       "    }\n",
       "</style>\n",
       "<table border=\"1\" class=\"dataframe\">\n",
       "  <thead>\n",
       "    <tr style=\"text-align: right;\">\n",
       "      <th></th>\n",
       "      <th>run_no</th>\n",
       "      <th>universe_id</th>\n",
       "      <th>universe_settings</th>\n",
       "      <th>execution_time</th>\n",
       "      <th>test_size_n</th>\n",
       "      <th>test_size_frac</th>\n",
       "      <th>fair_main_equalized_odds_difference</th>\n",
       "      <th>fair_main_equalized_odds_ratio</th>\n",
       "      <th>fair_main_demographic_parity_difference</th>\n",
       "      <th>fair_main_demographic_parity_ratio</th>\n",
       "      <th>...</th>\n",
       "      <th>perf_grp_precision_0</th>\n",
       "      <th>perf_grp_precision_1</th>\n",
       "      <th>perf_grp_false positive rate_0</th>\n",
       "      <th>perf_grp_false positive rate_1</th>\n",
       "      <th>perf_grp_false negative rate_0</th>\n",
       "      <th>perf_grp_false negative rate_1</th>\n",
       "      <th>perf_grp_selection rate_0</th>\n",
       "      <th>perf_grp_selection rate_1</th>\n",
       "      <th>perf_grp_count_0</th>\n",
       "      <th>perf_grp_count_1</th>\n",
       "    </tr>\n",
       "  </thead>\n",
       "  <tbody>\n",
       "    <tr>\n",
       "      <th>0</th>\n",
       "      <td>2</td>\n",
       "      <td>6bbc2ba84ee6061532b1418a0301613b</td>\n",
       "      <td>{\"cutoff\": \"quantile_0.1\", \"eval_fairness_grou...</td>\n",
       "      <td>35.555692</td>\n",
       "      <td>89710</td>\n",
       "      <td>1.0</td>\n",
       "      <td>0.081964</td>\n",
       "      <td>0.917129</td>\n",
       "      <td>0.071787</td>\n",
       "      <td>0.922952</td>\n",
       "      <td>...</td>\n",
       "      <td>NaN</td>\n",
       "      <td>NaN</td>\n",
       "      <td>NaN</td>\n",
       "      <td>NaN</td>\n",
       "      <td>NaN</td>\n",
       "      <td>NaN</td>\n",
       "      <td>NaN</td>\n",
       "      <td>NaN</td>\n",
       "      <td>NaN</td>\n",
       "      <td>NaN</td>\n",
       "    </tr>\n",
       "    <tr>\n",
       "      <th>0</th>\n",
       "      <td>2</td>\n",
       "      <td>6bbc2ba84ee6061532b1418a0301613b</td>\n",
       "      <td>{\"cutoff\": \"quantile_0.1\", \"eval_fairness_grou...</td>\n",
       "      <td>35.555692</td>\n",
       "      <td>89710</td>\n",
       "      <td>1.0</td>\n",
       "      <td>0.081964</td>\n",
       "      <td>0.917129</td>\n",
       "      <td>0.071787</td>\n",
       "      <td>0.922952</td>\n",
       "      <td>...</td>\n",
       "      <td>0.121610</td>\n",
       "      <td>0.140270</td>\n",
       "      <td>0.853786</td>\n",
       "      <td>0.922989</td>\n",
       "      <td>0.092905</td>\n",
       "      <td>0.010941</td>\n",
       "      <td>0.859932</td>\n",
       "      <td>0.931719</td>\n",
       "      <td>20540.0</td>\n",
       "      <td>69170.0</td>\n",
       "    </tr>\n",
       "    <tr>\n",
       "      <th>0</th>\n",
       "      <td>2</td>\n",
       "      <td>6bbc2ba84ee6061532b1418a0301613b</td>\n",
       "      <td>{\"cutoff\": \"quantile_0.25\", \"eval_fairness_gro...</td>\n",
       "      <td>35.555692</td>\n",
       "      <td>89710</td>\n",
       "      <td>1.0</td>\n",
       "      <td>0.113604</td>\n",
       "      <td>0.879905</td>\n",
       "      <td>0.055866</td>\n",
       "      <td>0.926793</td>\n",
       "      <td>...</td>\n",
       "      <td>NaN</td>\n",
       "      <td>NaN</td>\n",
       "      <td>NaN</td>\n",
       "      <td>NaN</td>\n",
       "      <td>NaN</td>\n",
       "      <td>NaN</td>\n",
       "      <td>NaN</td>\n",
       "      <td>NaN</td>\n",
       "      <td>NaN</td>\n",
       "      <td>NaN</td>\n",
       "    </tr>\n",
       "    <tr>\n",
       "      <th>0</th>\n",
       "      <td>2</td>\n",
       "      <td>6bbc2ba84ee6061532b1418a0301613b</td>\n",
       "      <td>{\"cutoff\": \"quantile_0.25\", \"eval_fairness_gro...</td>\n",
       "      <td>35.555692</td>\n",
       "      <td>89710</td>\n",
       "      <td>1.0</td>\n",
       "      <td>0.113604</td>\n",
       "      <td>0.879905</td>\n",
       "      <td>0.055866</td>\n",
       "      <td>0.926793</td>\n",
       "      <td>...</td>\n",
       "      <td>0.135678</td>\n",
       "      <td>0.163797</td>\n",
       "      <td>0.690953</td>\n",
       "      <td>0.735282</td>\n",
       "      <td>0.167652</td>\n",
       "      <td>0.054048</td>\n",
       "      <td>0.707254</td>\n",
       "      <td>0.763120</td>\n",
       "      <td>20540.0</td>\n",
       "      <td>69170.0</td>\n",
       "    </tr>\n",
       "  </tbody>\n",
       "</table>\n",
       "<p>4 rows × 50 columns</p>\n",
       "</div>"
      ],
      "text/plain": [
       "  run_no                       universe_id  \\\n",
       "0      2  6bbc2ba84ee6061532b1418a0301613b   \n",
       "0      2  6bbc2ba84ee6061532b1418a0301613b   \n",
       "0      2  6bbc2ba84ee6061532b1418a0301613b   \n",
       "0      2  6bbc2ba84ee6061532b1418a0301613b   \n",
       "\n",
       "                                   universe_settings  execution_time  \\\n",
       "0  {\"cutoff\": \"quantile_0.1\", \"eval_fairness_grou...       35.555692   \n",
       "0  {\"cutoff\": \"quantile_0.1\", \"eval_fairness_grou...       35.555692   \n",
       "0  {\"cutoff\": \"quantile_0.25\", \"eval_fairness_gro...       35.555692   \n",
       "0  {\"cutoff\": \"quantile_0.25\", \"eval_fairness_gro...       35.555692   \n",
       "\n",
       "   test_size_n  test_size_frac  fair_main_equalized_odds_difference  \\\n",
       "0        89710             1.0                             0.081964   \n",
       "0        89710             1.0                             0.081964   \n",
       "0        89710             1.0                             0.113604   \n",
       "0        89710             1.0                             0.113604   \n",
       "\n",
       "   fair_main_equalized_odds_ratio  fair_main_demographic_parity_difference  \\\n",
       "0                        0.917129                                 0.071787   \n",
       "0                        0.917129                                 0.071787   \n",
       "0                        0.879905                                 0.055866   \n",
       "0                        0.879905                                 0.055866   \n",
       "\n",
       "   fair_main_demographic_parity_ratio  ...  perf_grp_precision_0  \\\n",
       "0                            0.922952  ...                   NaN   \n",
       "0                            0.922952  ...              0.121610   \n",
       "0                            0.926793  ...                   NaN   \n",
       "0                            0.926793  ...              0.135678   \n",
       "\n",
       "   perf_grp_precision_1  perf_grp_false positive rate_0  \\\n",
       "0                   NaN                             NaN   \n",
       "0              0.140270                        0.853786   \n",
       "0                   NaN                             NaN   \n",
       "0              0.163797                        0.690953   \n",
       "\n",
       "   perf_grp_false positive rate_1  perf_grp_false negative rate_0  \\\n",
       "0                             NaN                             NaN   \n",
       "0                        0.922989                        0.092905   \n",
       "0                             NaN                             NaN   \n",
       "0                        0.735282                        0.167652   \n",
       "\n",
       "   perf_grp_false negative rate_1  perf_grp_selection rate_0  \\\n",
       "0                             NaN                        NaN   \n",
       "0                        0.010941                   0.859932   \n",
       "0                             NaN                        NaN   \n",
       "0                        0.054048                   0.707254   \n",
       "\n",
       "   perf_grp_selection rate_1  perf_grp_count_0  perf_grp_count_1  \n",
       "0                        NaN               NaN               NaN  \n",
       "0                   0.931719           20540.0           69170.0  \n",
       "0                        NaN               NaN               NaN  \n",
       "0                   0.763120           20540.0           69170.0  \n",
       "\n",
       "[4 rows x 50 columns]"
      ]
     },
     "execution_count": 64,
     "metadata": {},
     "output_type": "execute_result"
    }
   ],
   "source": [
    "final_output = universe_analysis.generate_final_output(\n",
    "    y_pred_prob=probs_test,\n",
    "    y_test=y_true,\n",
    "    org_test=org_test,\n",
    "    filter_data=filter_sub_universe_data,\n",
    "    cp_metrics_df=cp_metrics_df,\n",
    "    save=True,\n",
    ")\n",
    "final_output"
   ]
  },
  {
   "cell_type": "code",
   "execution_count": null,
   "id": "571f9a0f-660a-4841-b661-b06fbc637944",
   "metadata": {
    "papermill": {
     "duration": 0.016437,
     "end_time": "2025-08-19T17:04:06.605494",
     "exception": false,
     "start_time": "2025-08-19T17:04:06.589057",
     "status": "completed"
    },
    "tags": []
   },
   "outputs": [],
   "source": []
  },
  {
   "cell_type": "code",
   "execution_count": null,
   "id": "529482e3-0150-4854-a92d-ab864efc606e",
   "metadata": {
    "papermill": {
     "duration": 0.016356,
     "end_time": "2025-08-19T17:04:06.637957",
     "exception": false,
     "start_time": "2025-08-19T17:04:06.621601",
     "status": "completed"
    },
    "tags": []
   },
   "outputs": [],
   "source": []
  }
 ],
 "metadata": {
  "celltoolbar": "Tags",
  "kernelspec": {
   "display_name": "Python (CMA Fairness)",
   "language": "python",
   "name": "cma_fair_env"
  },
  "language_info": {
   "codemirror_mode": {
    "name": "ipython",
    "version": 3
   },
   "file_extension": ".py",
   "mimetype": "text/x-python",
   "name": "python",
   "nbconvert_exporter": "python",
   "pygments_lexer": "ipython3",
   "version": "3.10.12"
  },
  "papermill": {
   "default_parameters": {},
   "duration": 45.787031,
   "end_time": "2025-08-19T17:04:07.478774",
   "environment_variables": {},
   "exception": null,
   "input_path": "universe_analysis.ipynb",
   "output_path": "output/runs/2/notebooks/m_2-6bbc2ba84ee6061532b1418a0301613b.ipynb",
   "parameters": {
    "output_dir": "output",
    "run_no": "2",
    "seed": "2023",
    "universe": "{\"cutoff\": [\"quantile_0.1\", \"quantile_0.25\"], \"eval_fairness_grouping\": [\"majority-minority\", \"nationality-all\"], \"exclude_features\": \"age\", \"exclude_subgroups\": \"drop-non-german\", \"model\": \"rf\", \"scale\": \"do-not-scale\", \"training_size\": \"25k\", \"training_year\": \"2014\"}",
    "universe_id": "6bbc2ba84ee6061532b1418a0301613b"
   },
   "start_time": "2025-08-19T17:03:21.691743",
   "version": "2.6.0"
  }
 },
 "nbformat": 4,
 "nbformat_minor": 5
}