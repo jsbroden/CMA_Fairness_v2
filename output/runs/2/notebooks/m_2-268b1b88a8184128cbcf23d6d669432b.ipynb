{
 "cells": [
  {
   "cell_type": "markdown",
   "id": "b2057076-3a91-4cfa-9bfd-eab1e61b3068",
   "metadata": {
    "papermill": {
     "duration": 0.011199,
     "end_time": "2025-08-19T17:26:40.504042",
     "exception": false,
     "start_time": "2025-08-19T17:26:40.492843",
     "status": "completed"
    },
    "tags": []
   },
   "source": [
    "# Setup"
   ]
  },
  {
   "cell_type": "code",
   "execution_count": 1,
   "id": "f159f837-637b-42ba-96b5-ec9a68c44524",
   "metadata": {
    "execution": {
     "iopub.execute_input": "2025-08-19T17:26:40.538126Z",
     "iopub.status.busy": "2025-08-19T17:26:40.537718Z",
     "iopub.status.idle": "2025-08-19T17:26:40.551599Z",
     "shell.execute_reply": "2025-08-19T17:26:40.550753Z"
    },
    "papermill": {
     "duration": 0.03847,
     "end_time": "2025-08-19T17:26:40.555684",
     "exception": false,
     "start_time": "2025-08-19T17:26:40.517214",
     "status": "completed"
    },
    "tags": []
   },
   "outputs": [
    {
     "name": "stdout",
     "output_type": "stream",
     "text": [
      "/dss/dsshome1/0C/ra93lal2/cma/CMA_Fairness_v2\n"
     ]
    },
    {
     "name": "stderr",
     "output_type": "stream",
     "text": [
      "/dss/dsshome1/0C/ra93lal2/.local/share/virtualenvs/CMA_Fairness_v2-3j10GkSs/lib/python3.10/site-packages/IPython/core/magics/osm.py:393: UserWarning: This is now an optional IPython functionality, using bookmarks requires you to install the `pickleshare` library.\n",
      "  bkms = self.shell.db.get('bookmarks', {})\n",
      "/dss/dsshome1/0C/ra93lal2/.local/share/virtualenvs/CMA_Fairness_v2-3j10GkSs/lib/python3.10/site-packages/IPython/core/magics/osm.py:417: UserWarning: This is now an optional IPython functionality, setting dhist requires you to install the `pickleshare` library.\n",
      "  self.shell.db['dhist'] = compress_dhist(dhist)[-100:]\n"
     ]
    }
   ],
   "source": [
    "%cd ~/cma/CMA_Fairness_v2"
   ]
  },
  {
   "cell_type": "markdown",
   "id": "de2603b9",
   "metadata": {
    "papermill": {
     "duration": 0.010767,
     "end_time": "2025-08-19T17:26:40.583308",
     "exception": false,
     "start_time": "2025-08-19T17:26:40.572541",
     "status": "completed"
    },
    "tags": []
   },
   "source": [
    "The following cell holds the definition of our parameters, these values can be overriden by rendering the with e.g. the following command:\n",
    "\n",
    "papermill -p alpha 0.2 -p ratio 0.3 universe_analysis.ipynb output/test_run.ipynb"
   ]
  },
  {
   "cell_type": "code",
   "execution_count": 2,
   "id": "a80968a0-40bb-4fa9-85ef-2d5eefb01975",
   "metadata": {
    "execution": {
     "iopub.execute_input": "2025-08-19T17:26:40.603318Z",
     "iopub.status.busy": "2025-08-19T17:26:40.602793Z",
     "iopub.status.idle": "2025-08-19T17:26:40.609752Z",
     "shell.execute_reply": "2025-08-19T17:26:40.608786Z"
    },
    "papermill": {
     "duration": 0.019189,
     "end_time": "2025-08-19T17:26:40.611511",
     "exception": false,
     "start_time": "2025-08-19T17:26:40.592322",
     "status": "completed"
    },
    "tags": []
   },
   "outputs": [
    {
     "name": "stdout",
     "output_type": "stream",
     "text": [
      "Current working directory: /dss/dsshome1/0C/ra93lal2/cma/CMA_Fairness_v2\n"
     ]
    }
   ],
   "source": [
    "import os\n",
    "print(\"Current working directory:\", os.getcwd())"
   ]
  },
  {
   "cell_type": "code",
   "execution_count": 3,
   "id": "2dce4c03",
   "metadata": {
    "execution": {
     "iopub.execute_input": "2025-08-19T17:26:40.633262Z",
     "iopub.status.busy": "2025-08-19T17:26:40.632836Z",
     "iopub.status.idle": "2025-08-19T17:26:40.637740Z",
     "shell.execute_reply": "2025-08-19T17:26:40.637023Z"
    },
    "papermill": {
     "duration": 0.017655,
     "end_time": "2025-08-19T17:26:40.639133",
     "exception": false,
     "start_time": "2025-08-19T17:26:40.621478",
     "status": "completed"
    },
    "tags": [
     "parameters"
    ]
   },
   "outputs": [],
   "source": [
    "run_no = 0\n",
    "universe_id = \"test\"\n",
    "universe = {\n",
    "    \"training_size\": \"5k\", # \"25k\", \"5k\", \"1k\"\n",
    "    \"training_year\": \"2012_14\", # \"2014\", \"2012_14\", \"2010_14\"\n",
    "    \"scale\": \"scale\", # \"scale\", \"do-not-scale\",\n",
    "    \"model\": \"elasticnet\", # \"logreg\", \"penalized_logreg\", \"rf\", \"gbm\", \"elasticnet\"\n",
    "    \"cutoff\": [\"quantile_0.15\", \"quantile_0.30\"],\n",
    "    \"exclude_features\": \"age\", # \"none\", \"nationality\", \"sex\", \"nationality-sex\", \"age\"\n",
    "    \"exclude_subgroups\": \"drop-non-german\", # \"keep-all\", \"drop-non-german\"\n",
    "    \"eval_fairness_grouping\": [\"majority-minority\", \"nationality-all\"]\n",
    "}\n",
    "\n",
    "output_dir=\"./output\"\n",
    "seed=0"
   ]
  },
  {
   "cell_type": "code",
   "execution_count": 4,
   "id": "ba950e5f",
   "metadata": {
    "execution": {
     "iopub.execute_input": "2025-08-19T17:26:40.659986Z",
     "iopub.status.busy": "2025-08-19T17:26:40.659507Z",
     "iopub.status.idle": "2025-08-19T17:26:40.669247Z",
     "shell.execute_reply": "2025-08-19T17:26:40.668515Z"
    },
    "papermill": {
     "duration": 0.021875,
     "end_time": "2025-08-19T17:26:40.670885",
     "exception": false,
     "start_time": "2025-08-19T17:26:40.649010",
     "status": "completed"
    },
    "tags": [
     "injected-parameters"
    ]
   },
   "outputs": [],
   "source": [
    "# Parameters\n",
    "universe_id = \"268b1b88a8184128cbcf23d6d669432b\"\n",
    "run_no = \"2\"\n",
    "universe = \"{\\\"cutoff\\\": [\\\"quantile_0.1\\\", \\\"quantile_0.25\\\"], \\\"eval_fairness_grouping\\\": [\\\"majority-minority\\\", \\\"nationality-all\\\"], \\\"exclude_features\\\": \\\"nationality\\\", \\\"exclude_subgroups\\\": \\\"keep-all\\\", \\\"model\\\": \\\"penalized_logreg\\\", \\\"scale\\\": \\\"scale\\\", \\\"training_size\\\": \\\"5k\\\", \\\"training_year\\\": \\\"2014\\\"}\"\n",
    "output_dir = \"output\"\n",
    "seed = \"2023\"\n"
   ]
  },
  {
   "cell_type": "code",
   "execution_count": 5,
   "id": "1650acaf",
   "metadata": {
    "execution": {
     "iopub.execute_input": "2025-08-19T17:26:40.692291Z",
     "iopub.status.busy": "2025-08-19T17:26:40.691806Z",
     "iopub.status.idle": "2025-08-19T17:26:40.697299Z",
     "shell.execute_reply": "2025-08-19T17:26:40.696596Z"
    },
    "papermill": {
     "duration": 0.017418,
     "end_time": "2025-08-19T17:26:40.698759",
     "exception": false,
     "start_time": "2025-08-19T17:26:40.681341",
     "status": "completed"
    },
    "tags": []
   },
   "outputs": [],
   "source": [
    "import json\n",
    "if isinstance(universe, str):\n",
    "    universe = json.loads(universe)"
   ]
  },
  {
   "cell_type": "code",
   "execution_count": 6,
   "id": "16620c48",
   "metadata": {
    "execution": {
     "iopub.execute_input": "2025-08-19T17:26:40.719291Z",
     "iopub.status.busy": "2025-08-19T17:26:40.718830Z",
     "iopub.status.idle": "2025-08-19T17:26:40.754119Z",
     "shell.execute_reply": "2025-08-19T17:26:40.753375Z"
    },
    "papermill": {
     "duration": 0.047263,
     "end_time": "2025-08-19T17:26:40.755627",
     "exception": false,
     "start_time": "2025-08-19T17:26:40.708364",
     "status": "completed"
    },
    "tags": []
   },
   "outputs": [],
   "source": [
    "# Auto-reload the custom package\n",
    "%load_ext autoreload\n",
    "%autoreload 1\n",
    "%aimport fairness_multiverse"
   ]
  },
  {
   "cell_type": "code",
   "execution_count": 7,
   "id": "01c5c9f3",
   "metadata": {
    "execution": {
     "iopub.execute_input": "2025-08-19T17:26:40.800350Z",
     "iopub.status.busy": "2025-08-19T17:26:40.798736Z",
     "iopub.status.idle": "2025-08-19T17:26:42.328310Z",
     "shell.execute_reply": "2025-08-19T17:26:42.327355Z"
    },
    "papermill": {
     "duration": 1.557302,
     "end_time": "2025-08-19T17:26:42.330752",
     "exception": false,
     "start_time": "2025-08-19T17:26:40.773450",
     "status": "completed"
    },
    "tags": []
   },
   "outputs": [],
   "source": [
    "from fairness_multiverse.universe import UniverseAnalysis\n",
    "\n",
    "universe_analysis = UniverseAnalysis(\n",
    "    run_no = run_no,\n",
    "    universe_id = universe_id,\n",
    "    universe = universe,\n",
    "    output_dir=output_dir,\n",
    ")"
   ]
  },
  {
   "cell_type": "code",
   "execution_count": 8,
   "id": "106241f5",
   "metadata": {
    "execution": {
     "iopub.execute_input": "2025-08-19T17:26:42.375388Z",
     "iopub.status.busy": "2025-08-19T17:26:42.374535Z",
     "iopub.status.idle": "2025-08-19T17:26:42.389951Z",
     "shell.execute_reply": "2025-08-19T17:26:42.388595Z"
    },
    "papermill": {
     "duration": 0.042109,
     "end_time": "2025-08-19T17:26:42.392629",
     "exception": false,
     "start_time": "2025-08-19T17:26:42.350520",
     "status": "completed"
    },
    "tags": []
   },
   "outputs": [
    {
     "name": "stdout",
     "output_type": "stream",
     "text": [
      "Using Seed: 2023\n"
     ]
    }
   ],
   "source": [
    "import numpy as np\n",
    "parsed_seed = int(seed)\n",
    "np.random.seed(parsed_seed)\n",
    "print(f\"Using Seed: {parsed_seed}\")"
   ]
  },
  {
   "cell_type": "markdown",
   "id": "e0ebdc57",
   "metadata": {
    "papermill": {
     "duration": 0.016804,
     "end_time": "2025-08-19T17:26:42.429585",
     "exception": false,
     "start_time": "2025-08-19T17:26:42.412781",
     "status": "completed"
    },
    "tags": []
   },
   "source": [
    "# Loading Data"
   ]
  },
  {
   "cell_type": "code",
   "execution_count": 9,
   "id": "f0496b8a",
   "metadata": {
    "execution": {
     "iopub.execute_input": "2025-08-19T17:26:42.457516Z",
     "iopub.status.busy": "2025-08-19T17:26:42.457126Z",
     "iopub.status.idle": "2025-08-19T17:26:52.826578Z",
     "shell.execute_reply": "2025-08-19T17:26:52.825483Z"
    },
    "papermill": {
     "duration": 10.386526,
     "end_time": "2025-08-19T17:26:52.828099",
     "exception": false,
     "start_time": "2025-08-19T17:26:42.441573",
     "status": "completed"
    },
    "tags": []
   },
   "outputs": [
    {
     "name": "stdout",
     "output_type": "stream",
     "text": [
      "Loading SIAB data from cache: data/siab_cached.csv.gz\n"
     ]
    },
    {
     "name": "stdout",
     "output_type": "stream",
     "text": [
      "(643690, 164)\n"
     ]
    }
   ],
   "source": [
    "from pathlib import Path\n",
    "import pandas as pd\n",
    "\n",
    "# File paths\n",
    "raw_file = Path(\"data/raw/siab.csv\")\n",
    "cache_file = Path(\"data/siab_cached.csv.gz\")\n",
    "\n",
    "# Ensure cache directory exists\n",
    "cache_file.parent.mkdir(parents=True, exist_ok=True)\n",
    "\n",
    "# Load with simple caching\n",
    "if cache_file.exists():\n",
    "    print(f\"Loading SIAB data from cache: {cache_file}\")\n",
    "    siab = pd.read_csv(cache_file, compression='gzip')\n",
    "else:\n",
    "    print(f\"Cache not found. Reading raw SIAB data: {raw_file}\")\n",
    "    siab = pd.read_csv(raw_file)\n",
    "    siab.to_csv(cache_file, index=False, compression='gzip')\n",
    "    print(f\"Cached SIAB data to: {cache_file}\")\n",
    "\n",
    "print(siab.shape)"
   ]
  },
  {
   "cell_type": "code",
   "execution_count": 10,
   "id": "db0ca512-5f53-4dba-abdb-a2888bca41ba",
   "metadata": {
    "execution": {
     "iopub.execute_input": "2025-08-19T17:26:52.853356Z",
     "iopub.status.busy": "2025-08-19T17:26:52.852881Z",
     "iopub.status.idle": "2025-08-19T17:26:53.061388Z",
     "shell.execute_reply": "2025-08-19T17:26:53.060613Z"
    },
    "papermill": {
     "duration": 0.221405,
     "end_time": "2025-08-19T17:26:53.062637",
     "exception": false,
     "start_time": "2025-08-19T17:26:52.841232",
     "status": "completed"
    },
    "tags": []
   },
   "outputs": [
    {
     "data": {
      "text/html": [
       "<div>\n",
       "<style scoped>\n",
       "    .dataframe tbody tr th:only-of-type {\n",
       "        vertical-align: middle;\n",
       "    }\n",
       "\n",
       "    .dataframe tbody tr th {\n",
       "        vertical-align: top;\n",
       "    }\n",
       "\n",
       "    .dataframe thead th {\n",
       "        text-align: right;\n",
       "    }\n",
       "</style>\n",
       "<table border=\"1\" class=\"dataframe\">\n",
       "  <thead>\n",
       "    <tr style=\"text-align: right;\">\n",
       "      <th></th>\n",
       "      <th>persnr</th>\n",
       "      <th>year</th>\n",
       "      <th>nrEntry</th>\n",
       "      <th>ltue</th>\n",
       "      <th>employed_before</th>\n",
       "      <th>receipt_leh_before</th>\n",
       "      <th>receipt_lhg_before</th>\n",
       "      <th>se_before</th>\n",
       "      <th>ASU_notue_seeking_before</th>\n",
       "      <th>ASU_other_before</th>\n",
       "      <th>...</th>\n",
       "      <th>minijob_tot_dur_byage</th>\n",
       "      <th>ft_tot_dur_byage</th>\n",
       "      <th>befrist_tot_dur_byage</th>\n",
       "      <th>leih_tot_dur_byage</th>\n",
       "      <th>LHG_tot_dur_byage</th>\n",
       "      <th>LEH_tot_dur_byage</th>\n",
       "      <th>almp_tot_dur_byage</th>\n",
       "      <th>almp_aw_tot_dur_byage</th>\n",
       "      <th>se_tot_dur_byage</th>\n",
       "      <th>seeking1_tot_dur_byage</th>\n",
       "    </tr>\n",
       "  </thead>\n",
       "  <tbody>\n",
       "    <tr>\n",
       "      <th>0</th>\n",
       "      <td>7</td>\n",
       "      <td>2015</td>\n",
       "      <td>1</td>\n",
       "      <td>0</td>\n",
       "      <td>1</td>\n",
       "      <td>0</td>\n",
       "      <td>0</td>\n",
       "      <td>0</td>\n",
       "      <td>1</td>\n",
       "      <td>0</td>\n",
       "      <td>...</td>\n",
       "      <td>0.000000</td>\n",
       "      <td>0.000000</td>\n",
       "      <td>15.043478</td>\n",
       "      <td>0.000000</td>\n",
       "      <td>0.000000</td>\n",
       "      <td>0.000000</td>\n",
       "      <td>0.000000</td>\n",
       "      <td>0.000000</td>\n",
       "      <td>0.000000</td>\n",
       "      <td>0.000000</td>\n",
       "    </tr>\n",
       "    <tr>\n",
       "      <th>1</th>\n",
       "      <td>18</td>\n",
       "      <td>2010</td>\n",
       "      <td>1</td>\n",
       "      <td>1</td>\n",
       "      <td>0</td>\n",
       "      <td>0</td>\n",
       "      <td>0</td>\n",
       "      <td>0</td>\n",
       "      <td>0</td>\n",
       "      <td>0</td>\n",
       "      <td>...</td>\n",
       "      <td>0.000000</td>\n",
       "      <td>0.000000</td>\n",
       "      <td>0.000000</td>\n",
       "      <td>0.000000</td>\n",
       "      <td>0.000000</td>\n",
       "      <td>0.000000</td>\n",
       "      <td>0.000000</td>\n",
       "      <td>0.000000</td>\n",
       "      <td>0.000000</td>\n",
       "      <td>0.000000</td>\n",
       "    </tr>\n",
       "    <tr>\n",
       "      <th>2</th>\n",
       "      <td>18</td>\n",
       "      <td>2011</td>\n",
       "      <td>2</td>\n",
       "      <td>0</td>\n",
       "      <td>1</td>\n",
       "      <td>0</td>\n",
       "      <td>1</td>\n",
       "      <td>0</td>\n",
       "      <td>1</td>\n",
       "      <td>0</td>\n",
       "      <td>...</td>\n",
       "      <td>2.714286</td>\n",
       "      <td>2.714286</td>\n",
       "      <td>0.000000</td>\n",
       "      <td>0.000000</td>\n",
       "      <td>10.775510</td>\n",
       "      <td>0.000000</td>\n",
       "      <td>8.367347</td>\n",
       "      <td>0.000000</td>\n",
       "      <td>0.000000</td>\n",
       "      <td>9.836735</td>\n",
       "    </tr>\n",
       "    <tr>\n",
       "      <th>3</th>\n",
       "      <td>18</td>\n",
       "      <td>2012</td>\n",
       "      <td>3</td>\n",
       "      <td>0</td>\n",
       "      <td>1</td>\n",
       "      <td>0</td>\n",
       "      <td>1</td>\n",
       "      <td>0</td>\n",
       "      <td>1</td>\n",
       "      <td>0</td>\n",
       "      <td>...</td>\n",
       "      <td>4.200000</td>\n",
       "      <td>4.200000</td>\n",
       "      <td>0.000000</td>\n",
       "      <td>0.000000</td>\n",
       "      <td>12.100000</td>\n",
       "      <td>0.000000</td>\n",
       "      <td>9.400000</td>\n",
       "      <td>0.000000</td>\n",
       "      <td>0.000000</td>\n",
       "      <td>9.960000</td>\n",
       "    </tr>\n",
       "    <tr>\n",
       "      <th>4</th>\n",
       "      <td>18</td>\n",
       "      <td>2012</td>\n",
       "      <td>4</td>\n",
       "      <td>0</td>\n",
       "      <td>1</td>\n",
       "      <td>0</td>\n",
       "      <td>1</td>\n",
       "      <td>0</td>\n",
       "      <td>1</td>\n",
       "      <td>0</td>\n",
       "      <td>...</td>\n",
       "      <td>5.460000</td>\n",
       "      <td>5.460000</td>\n",
       "      <td>0.000000</td>\n",
       "      <td>0.000000</td>\n",
       "      <td>13.360000</td>\n",
       "      <td>0.000000</td>\n",
       "      <td>10.320000</td>\n",
       "      <td>0.000000</td>\n",
       "      <td>0.000000</td>\n",
       "      <td>10.280000</td>\n",
       "    </tr>\n",
       "    <tr>\n",
       "      <th>...</th>\n",
       "      <td>...</td>\n",
       "      <td>...</td>\n",
       "      <td>...</td>\n",
       "      <td>...</td>\n",
       "      <td>...</td>\n",
       "      <td>...</td>\n",
       "      <td>...</td>\n",
       "      <td>...</td>\n",
       "      <td>...</td>\n",
       "      <td>...</td>\n",
       "      <td>...</td>\n",
       "      <td>...</td>\n",
       "      <td>...</td>\n",
       "      <td>...</td>\n",
       "      <td>...</td>\n",
       "      <td>...</td>\n",
       "      <td>...</td>\n",
       "      <td>...</td>\n",
       "      <td>...</td>\n",
       "      <td>...</td>\n",
       "      <td>...</td>\n",
       "    </tr>\n",
       "    <tr>\n",
       "      <th>643685</th>\n",
       "      <td>1827860</td>\n",
       "      <td>2013</td>\n",
       "      <td>1</td>\n",
       "      <td>0</td>\n",
       "      <td>0</td>\n",
       "      <td>0</td>\n",
       "      <td>1</td>\n",
       "      <td>0</td>\n",
       "      <td>0</td>\n",
       "      <td>1</td>\n",
       "      <td>...</td>\n",
       "      <td>0.000000</td>\n",
       "      <td>0.000000</td>\n",
       "      <td>0.000000</td>\n",
       "      <td>0.000000</td>\n",
       "      <td>0.612903</td>\n",
       "      <td>0.000000</td>\n",
       "      <td>0.000000</td>\n",
       "      <td>0.000000</td>\n",
       "      <td>0.000000</td>\n",
       "      <td>0.000000</td>\n",
       "    </tr>\n",
       "    <tr>\n",
       "      <th>643686</th>\n",
       "      <td>1827860</td>\n",
       "      <td>2015</td>\n",
       "      <td>2</td>\n",
       "      <td>1</td>\n",
       "      <td>0</td>\n",
       "      <td>0</td>\n",
       "      <td>1</td>\n",
       "      <td>0</td>\n",
       "      <td>1</td>\n",
       "      <td>0</td>\n",
       "      <td>...</td>\n",
       "      <td>0.000000</td>\n",
       "      <td>0.000000</td>\n",
       "      <td>0.212121</td>\n",
       "      <td>0.212121</td>\n",
       "      <td>17.363636</td>\n",
       "      <td>0.000000</td>\n",
       "      <td>8.909091</td>\n",
       "      <td>0.000000</td>\n",
       "      <td>0.000000</td>\n",
       "      <td>7.121212</td>\n",
       "    </tr>\n",
       "    <tr>\n",
       "      <th>643687</th>\n",
       "      <td>1827860</td>\n",
       "      <td>2016</td>\n",
       "      <td>3</td>\n",
       "      <td>1</td>\n",
       "      <td>0</td>\n",
       "      <td>0</td>\n",
       "      <td>1</td>\n",
       "      <td>1</td>\n",
       "      <td>0</td>\n",
       "      <td>1</td>\n",
       "      <td>...</td>\n",
       "      <td>0.000000</td>\n",
       "      <td>0.000000</td>\n",
       "      <td>0.294118</td>\n",
       "      <td>0.205882</td>\n",
       "      <td>34.705882</td>\n",
       "      <td>0.000000</td>\n",
       "      <td>10.352941</td>\n",
       "      <td>1.705882</td>\n",
       "      <td>1.705882</td>\n",
       "      <td>23.911765</td>\n",
       "    </tr>\n",
       "    <tr>\n",
       "      <th>643688</th>\n",
       "      <td>1827869</td>\n",
       "      <td>2013</td>\n",
       "      <td>1</td>\n",
       "      <td>1</td>\n",
       "      <td>1</td>\n",
       "      <td>0</td>\n",
       "      <td>0</td>\n",
       "      <td>0</td>\n",
       "      <td>1</td>\n",
       "      <td>0</td>\n",
       "      <td>...</td>\n",
       "      <td>0.000000</td>\n",
       "      <td>0.000000</td>\n",
       "      <td>0.000000</td>\n",
       "      <td>0.000000</td>\n",
       "      <td>0.000000</td>\n",
       "      <td>0.525424</td>\n",
       "      <td>0.000000</td>\n",
       "      <td>0.000000</td>\n",
       "      <td>0.000000</td>\n",
       "      <td>0.000000</td>\n",
       "    </tr>\n",
       "    <tr>\n",
       "      <th>643689</th>\n",
       "      <td>1827869</td>\n",
       "      <td>2014</td>\n",
       "      <td>2</td>\n",
       "      <td>0</td>\n",
       "      <td>0</td>\n",
       "      <td>1</td>\n",
       "      <td>0</td>\n",
       "      <td>0</td>\n",
       "      <td>1</td>\n",
       "      <td>0</td>\n",
       "      <td>...</td>\n",
       "      <td>0.000000</td>\n",
       "      <td>0.666667</td>\n",
       "      <td>0.666667</td>\n",
       "      <td>0.000000</td>\n",
       "      <td>0.000000</td>\n",
       "      <td>8.950000</td>\n",
       "      <td>1.033333</td>\n",
       "      <td>0.083333</td>\n",
       "      <td>0.083333</td>\n",
       "      <td>8.133333</td>\n",
       "    </tr>\n",
       "  </tbody>\n",
       "</table>\n",
       "<p>643690 rows × 164 columns</p>\n",
       "</div>"
      ],
      "text/plain": [
       "         persnr  year  nrEntry  ltue  employed_before  receipt_leh_before  \\\n",
       "0             7  2015        1     0                1                   0   \n",
       "1            18  2010        1     1                0                   0   \n",
       "2            18  2011        2     0                1                   0   \n",
       "3            18  2012        3     0                1                   0   \n",
       "4            18  2012        4     0                1                   0   \n",
       "...         ...   ...      ...   ...              ...                 ...   \n",
       "643685  1827860  2013        1     0                0                   0   \n",
       "643686  1827860  2015        2     1                0                   0   \n",
       "643687  1827860  2016        3     1                0                   0   \n",
       "643688  1827869  2013        1     1                1                   0   \n",
       "643689  1827869  2014        2     0                0                   1   \n",
       "\n",
       "        receipt_lhg_before  se_before  ASU_notue_seeking_before  \\\n",
       "0                        0          0                         1   \n",
       "1                        0          0                         0   \n",
       "2                        1          0                         1   \n",
       "3                        1          0                         1   \n",
       "4                        1          0                         1   \n",
       "...                    ...        ...                       ...   \n",
       "643685                   1          0                         0   \n",
       "643686                   1          0                         1   \n",
       "643687                   1          1                         0   \n",
       "643688                   0          0                         1   \n",
       "643689                   0          0                         1   \n",
       "\n",
       "        ASU_other_before  ...  minijob_tot_dur_byage  ft_tot_dur_byage  \\\n",
       "0                      0  ...               0.000000          0.000000   \n",
       "1                      0  ...               0.000000          0.000000   \n",
       "2                      0  ...               2.714286          2.714286   \n",
       "3                      0  ...               4.200000          4.200000   \n",
       "4                      0  ...               5.460000          5.460000   \n",
       "...                  ...  ...                    ...               ...   \n",
       "643685                 1  ...               0.000000          0.000000   \n",
       "643686                 0  ...               0.000000          0.000000   \n",
       "643687                 1  ...               0.000000          0.000000   \n",
       "643688                 0  ...               0.000000          0.000000   \n",
       "643689                 0  ...               0.000000          0.666667   \n",
       "\n",
       "        befrist_tot_dur_byage  leih_tot_dur_byage  LHG_tot_dur_byage  \\\n",
       "0                   15.043478            0.000000           0.000000   \n",
       "1                    0.000000            0.000000           0.000000   \n",
       "2                    0.000000            0.000000          10.775510   \n",
       "3                    0.000000            0.000000          12.100000   \n",
       "4                    0.000000            0.000000          13.360000   \n",
       "...                       ...                 ...                ...   \n",
       "643685               0.000000            0.000000           0.612903   \n",
       "643686               0.212121            0.212121          17.363636   \n",
       "643687               0.294118            0.205882          34.705882   \n",
       "643688               0.000000            0.000000           0.000000   \n",
       "643689               0.666667            0.000000           0.000000   \n",
       "\n",
       "        LEH_tot_dur_byage  almp_tot_dur_byage  almp_aw_tot_dur_byage  \\\n",
       "0                0.000000            0.000000               0.000000   \n",
       "1                0.000000            0.000000               0.000000   \n",
       "2                0.000000            8.367347               0.000000   \n",
       "3                0.000000            9.400000               0.000000   \n",
       "4                0.000000           10.320000               0.000000   \n",
       "...                   ...                 ...                    ...   \n",
       "643685           0.000000            0.000000               0.000000   \n",
       "643686           0.000000            8.909091               0.000000   \n",
       "643687           0.000000           10.352941               1.705882   \n",
       "643688           0.525424            0.000000               0.000000   \n",
       "643689           8.950000            1.033333               0.083333   \n",
       "\n",
       "        se_tot_dur_byage  seeking1_tot_dur_byage  \n",
       "0               0.000000                0.000000  \n",
       "1               0.000000                0.000000  \n",
       "2               0.000000                9.836735  \n",
       "3               0.000000                9.960000  \n",
       "4               0.000000               10.280000  \n",
       "...                  ...                     ...  \n",
       "643685          0.000000                0.000000  \n",
       "643686          0.000000                7.121212  \n",
       "643687          1.705882               23.911765  \n",
       "643688          0.000000                0.000000  \n",
       "643689          0.083333                8.133333  \n",
       "\n",
       "[643690 rows x 164 columns]"
      ]
     },
     "execution_count": 10,
     "metadata": {},
     "output_type": "execute_result"
    }
   ],
   "source": [
    "siab"
   ]
  },
  {
   "cell_type": "markdown",
   "id": "997051c5-15bd-4b69-9786-c3001a3ce484",
   "metadata": {
    "papermill": {
     "duration": 0.013302,
     "end_time": "2025-08-19T17:26:53.086756",
     "exception": false,
     "start_time": "2025-08-19T17:26:53.073454",
     "status": "completed"
    },
    "tags": []
   },
   "source": [
    "# Splitting Data and Setting Training Data Size"
   ]
  },
  {
   "cell_type": "code",
   "execution_count": 11,
   "id": "aea9c6ef-6f46-42c8-85eb-5a62025c1508",
   "metadata": {
    "execution": {
     "iopub.execute_input": "2025-08-19T17:26:53.109152Z",
     "iopub.status.busy": "2025-08-19T17:26:53.108727Z",
     "iopub.status.idle": "2025-08-19T17:26:53.386657Z",
     "shell.execute_reply": "2025-08-19T17:26:53.385564Z"
    },
    "papermill": {
     "duration": 0.292017,
     "end_time": "2025-08-19T17:26:53.389670",
     "exception": false,
     "start_time": "2025-08-19T17:26:53.097653",
     "status": "completed"
    },
    "tags": []
   },
   "outputs": [],
   "source": [
    "from fairness_multiverse.universe import sample_by_year_size\n",
    "\n",
    "siab_train = sample_by_year_size(siab,\n",
    "                               training_year=universe[\"training_year\"],\n",
    "                               training_size=universe[\"training_size\"])"
   ]
  },
  {
   "cell_type": "code",
   "execution_count": 12,
   "id": "8d3afb32-789d-442c-8d5d-9f5aa8dd2eed",
   "metadata": {
    "execution": {
     "iopub.execute_input": "2025-08-19T17:26:53.436322Z",
     "iopub.status.busy": "2025-08-19T17:26:53.435915Z",
     "iopub.status.idle": "2025-08-19T17:26:53.441258Z",
     "shell.execute_reply": "2025-08-19T17:26:53.440581Z"
    },
    "papermill": {
     "duration": 0.034442,
     "end_time": "2025-08-19T17:26:53.446136",
     "exception": false,
     "start_time": "2025-08-19T17:26:53.411694",
     "status": "completed"
    },
    "tags": []
   },
   "outputs": [
    {
     "data": {
      "text/plain": [
       "(5000, 164)"
      ]
     },
     "execution_count": 12,
     "metadata": {},
     "output_type": "execute_result"
    }
   ],
   "source": [
    "siab_train.shape"
   ]
  },
  {
   "cell_type": "code",
   "execution_count": 13,
   "id": "d582db68-1a4c-47fb-84fc-08518dc1975a",
   "metadata": {
    "execution": {
     "iopub.execute_input": "2025-08-19T17:26:53.471028Z",
     "iopub.status.busy": "2025-08-19T17:26:53.470615Z",
     "iopub.status.idle": "2025-08-19T17:26:53.480186Z",
     "shell.execute_reply": "2025-08-19T17:26:53.479466Z"
    },
    "papermill": {
     "duration": 0.022823,
     "end_time": "2025-08-19T17:26:53.482269",
     "exception": false,
     "start_time": "2025-08-19T17:26:53.459446",
     "status": "completed"
    },
    "tags": []
   },
   "outputs": [
    {
     "data": {
      "text/plain": [
       "year\n",
       "2014    5000\n",
       "dtype: int64"
      ]
     },
     "metadata": {},
     "output_type": "display_data"
    }
   ],
   "source": [
    "display(siab_train.groupby(\"year\").size())"
   ]
  },
  {
   "cell_type": "code",
   "execution_count": 14,
   "id": "a561edb4-d032-42cb-8256-22eac1111c64",
   "metadata": {
    "execution": {
     "iopub.execute_input": "2025-08-19T17:26:53.510130Z",
     "iopub.status.busy": "2025-08-19T17:26:53.509601Z",
     "iopub.status.idle": "2025-08-19T17:26:53.757606Z",
     "shell.execute_reply": "2025-08-19T17:26:53.756792Z"
    },
    "papermill": {
     "duration": 0.266133,
     "end_time": "2025-08-19T17:26:53.759288",
     "exception": false,
     "start_time": "2025-08-19T17:26:53.493155",
     "status": "completed"
    },
    "tags": []
   },
   "outputs": [],
   "source": [
    "#siab_train = siab_s[siab_s.year < 2015]\n",
    "siab_calib = siab[siab.year == 2015]\n",
    "siab_test = siab[siab.year == 2016]"
   ]
  },
  {
   "cell_type": "code",
   "execution_count": 15,
   "id": "bc10fe59",
   "metadata": {
    "execution": {
     "iopub.execute_input": "2025-08-19T17:26:53.782281Z",
     "iopub.status.busy": "2025-08-19T17:26:53.781881Z",
     "iopub.status.idle": "2025-08-19T17:26:53.785971Z",
     "shell.execute_reply": "2025-08-19T17:26:53.785194Z"
    },
    "papermill": {
     "duration": 0.017077,
     "end_time": "2025-08-19T17:26:53.787198",
     "exception": false,
     "start_time": "2025-08-19T17:26:53.770121",
     "status": "completed"
    },
    "tags": []
   },
   "outputs": [],
   "source": [
    "#siab_calib.shape"
   ]
  },
  {
   "cell_type": "code",
   "execution_count": 16,
   "id": "d6aeff2f",
   "metadata": {
    "execution": {
     "iopub.execute_input": "2025-08-19T17:26:53.810256Z",
     "iopub.status.busy": "2025-08-19T17:26:53.809858Z",
     "iopub.status.idle": "2025-08-19T17:26:53.813940Z",
     "shell.execute_reply": "2025-08-19T17:26:53.813138Z"
    },
    "papermill": {
     "duration": 0.016724,
     "end_time": "2025-08-19T17:26:53.815170",
     "exception": false,
     "start_time": "2025-08-19T17:26:53.798446",
     "status": "completed"
    },
    "tags": []
   },
   "outputs": [],
   "source": [
    "#siab_test.shape"
   ]
  },
  {
   "cell_type": "code",
   "execution_count": 17,
   "id": "472de16f-c3db-4916-846b-1f0de9cf1746",
   "metadata": {
    "execution": {
     "iopub.execute_input": "2025-08-19T17:26:53.838366Z",
     "iopub.status.busy": "2025-08-19T17:26:53.837980Z",
     "iopub.status.idle": "2025-08-19T17:26:53.848998Z",
     "shell.execute_reply": "2025-08-19T17:26:53.848136Z"
    },
    "papermill": {
     "duration": 0.023654,
     "end_time": "2025-08-19T17:26:53.850199",
     "exception": false,
     "start_time": "2025-08-19T17:26:53.826545",
     "status": "completed"
    },
    "tags": []
   },
   "outputs": [],
   "source": [
    "X_train = siab_train.iloc[:,4:164]\n",
    "y_train = siab_train.iloc[:, [3]]"
   ]
  },
  {
   "cell_type": "code",
   "execution_count": null,
   "id": "a843c1c8",
   "metadata": {
    "papermill": {
     "duration": 0.010331,
     "end_time": "2025-08-19T17:26:53.871278",
     "exception": false,
     "start_time": "2025-08-19T17:26:53.860947",
     "status": "completed"
    },
    "tags": []
   },
   "outputs": [],
   "source": []
  },
  {
   "cell_type": "code",
   "execution_count": 18,
   "id": "828c96af-f43a-4ed6-ba47-8ac73a47d56c",
   "metadata": {
    "execution": {
     "iopub.execute_input": "2025-08-19T17:26:53.894879Z",
     "iopub.status.busy": "2025-08-19T17:26:53.893800Z",
     "iopub.status.idle": "2025-08-19T17:26:53.954694Z",
     "shell.execute_reply": "2025-08-19T17:26:53.953920Z"
    },
    "papermill": {
     "duration": 0.076138,
     "end_time": "2025-08-19T17:26:53.957834",
     "exception": false,
     "start_time": "2025-08-19T17:26:53.881696",
     "status": "completed"
    },
    "tags": []
   },
   "outputs": [],
   "source": [
    "X_calib = siab_calib.iloc[:,4:164]\n",
    "y_calib = siab_calib.iloc[:, [3]]"
   ]
  },
  {
   "cell_type": "code",
   "execution_count": 19,
   "id": "c34be9c3-6bd6-476e-acd3-845840e303be",
   "metadata": {
    "execution": {
     "iopub.execute_input": "2025-08-19T17:26:53.997690Z",
     "iopub.status.busy": "2025-08-19T17:26:53.996636Z",
     "iopub.status.idle": "2025-08-19T17:26:54.058750Z",
     "shell.execute_reply": "2025-08-19T17:26:54.057986Z"
    },
    "papermill": {
     "duration": 0.0792,
     "end_time": "2025-08-19T17:26:54.061448",
     "exception": false,
     "start_time": "2025-08-19T17:26:53.982248",
     "status": "completed"
    },
    "tags": []
   },
   "outputs": [],
   "source": [
    "X_test = siab_test.iloc[:,4:164]\n",
    "y_true = siab_test.iloc[:, [3]]"
   ]
  },
  {
   "cell_type": "code",
   "execution_count": 20,
   "id": "e6c733c5",
   "metadata": {
    "execution": {
     "iopub.execute_input": "2025-08-19T17:26:54.100327Z",
     "iopub.status.busy": "2025-08-19T17:26:54.099402Z",
     "iopub.status.idle": "2025-08-19T17:26:54.216365Z",
     "shell.execute_reply": "2025-08-19T17:26:54.215675Z"
    },
    "papermill": {
     "duration": 0.133763,
     "end_time": "2025-08-19T17:26:54.219046",
     "exception": false,
     "start_time": "2025-08-19T17:26:54.085283",
     "status": "completed"
    },
    "tags": []
   },
   "outputs": [],
   "source": [
    "# Auxiliary data needed downstream in the pipeline\n",
    "\n",
    "org_train = X_train.copy()\n",
    "org_test = X_test.copy()\n",
    "org_calib = X_calib.copy()"
   ]
  },
  {
   "cell_type": "markdown",
   "id": "0a4a1b33",
   "metadata": {
    "papermill": {
     "duration": 0.012747,
     "end_time": "2025-08-19T17:26:54.257464",
     "exception": false,
     "start_time": "2025-08-19T17:26:54.244717",
     "status": "completed"
    },
    "tags": []
   },
   "source": [
    "# Preprocessing Data"
   ]
  },
  {
   "cell_type": "code",
   "execution_count": 21,
   "id": "ca879031",
   "metadata": {
    "execution": {
     "iopub.execute_input": "2025-08-19T17:26:54.281473Z",
     "iopub.status.busy": "2025-08-19T17:26:54.280408Z",
     "iopub.status.idle": "2025-08-19T17:26:54.290295Z",
     "shell.execute_reply": "2025-08-19T17:26:54.288719Z"
    },
    "papermill": {
     "duration": 0.023835,
     "end_time": "2025-08-19T17:26:54.291892",
     "exception": false,
     "start_time": "2025-08-19T17:26:54.268057",
     "status": "completed"
    },
    "tags": []
   },
   "outputs": [],
   "source": [
    "# EXCLUDE PROTECTED FEATURES\n",
    "# --------------------------\n",
    "\n",
    "excluded_features = universe[\"exclude_features\"].split(\"-\")\n",
    "excluded_features_dictionary = {\n",
    "    \"nationality\": [\"maxdeutsch1\", \"maxdeutsch.Missing.\"],\n",
    "    \"sex\": [\"frau1\"],\n",
    "    \"age\": [\"age\"],\n",
    "}"
   ]
  },
  {
   "cell_type": "code",
   "execution_count": 22,
   "id": "b745ac60",
   "metadata": {
    "execution": {
     "iopub.execute_input": "2025-08-19T17:26:54.318108Z",
     "iopub.status.busy": "2025-08-19T17:26:54.317301Z",
     "iopub.status.idle": "2025-08-19T17:26:54.325068Z",
     "shell.execute_reply": "2025-08-19T17:26:54.323798Z"
    },
    "papermill": {
     "duration": 0.021282,
     "end_time": "2025-08-19T17:26:54.326512",
     "exception": false,
     "start_time": "2025-08-19T17:26:54.305230",
     "status": "completed"
    },
    "tags": []
   },
   "outputs": [],
   "source": [
    "excluded_features_columns = [\n",
    "    excluded_features_dictionary[f] for f in excluded_features if len(f) > 0 and f != \"none\"\n",
    "]"
   ]
  },
  {
   "cell_type": "code",
   "execution_count": 23,
   "id": "f84f73a2",
   "metadata": {
    "execution": {
     "iopub.execute_input": "2025-08-19T17:26:54.353652Z",
     "iopub.status.busy": "2025-08-19T17:26:54.352631Z",
     "iopub.status.idle": "2025-08-19T17:26:54.361470Z",
     "shell.execute_reply": "2025-08-19T17:26:54.359795Z"
    },
    "papermill": {
     "duration": 0.023253,
     "end_time": "2025-08-19T17:26:54.362985",
     "exception": false,
     "start_time": "2025-08-19T17:26:54.339732",
     "status": "completed"
    },
    "tags": []
   },
   "outputs": [],
   "source": [
    "from fairness_multiverse.universe import flatten_once\n",
    "\n",
    "excluded_features_columns = flatten_once(excluded_features_columns)"
   ]
  },
  {
   "cell_type": "code",
   "execution_count": 24,
   "id": "884dea22",
   "metadata": {
    "execution": {
     "iopub.execute_input": "2025-08-19T17:26:54.389715Z",
     "iopub.status.busy": "2025-08-19T17:26:54.388687Z",
     "iopub.status.idle": "2025-08-19T17:26:54.409005Z",
     "shell.execute_reply": "2025-08-19T17:26:54.408047Z"
    },
    "papermill": {
     "duration": 0.034416,
     "end_time": "2025-08-19T17:26:54.410729",
     "exception": false,
     "start_time": "2025-08-19T17:26:54.376313",
     "status": "completed"
    },
    "tags": []
   },
   "outputs": [
    {
     "name": "stdout",
     "output_type": "stream",
     "text": [
      "Dropping features: ['maxdeutsch1', 'maxdeutsch.Missing.']\n"
     ]
    }
   ],
   "source": [
    "if len(excluded_features_columns) > 0:\n",
    "    print(f\"Dropping features: {excluded_features_columns}\")\n",
    "    X_train.drop(excluded_features_columns, axis=1, inplace=True)"
   ]
  },
  {
   "cell_type": "code",
   "execution_count": 25,
   "id": "95ab8b16",
   "metadata": {
    "execution": {
     "iopub.execute_input": "2025-08-19T17:26:54.444329Z",
     "iopub.status.busy": "2025-08-19T17:26:54.443028Z",
     "iopub.status.idle": "2025-08-19T17:26:54.507356Z",
     "shell.execute_reply": "2025-08-19T17:26:54.506667Z"
    },
    "papermill": {
     "duration": 0.079404,
     "end_time": "2025-08-19T17:26:54.508736",
     "exception": false,
     "start_time": "2025-08-19T17:26:54.429332",
     "status": "completed"
    },
    "tags": []
   },
   "outputs": [
    {
     "name": "stdout",
     "output_type": "stream",
     "text": [
      "Dropping features: ['maxdeutsch1', 'maxdeutsch.Missing.']\n"
     ]
    }
   ],
   "source": [
    "if len(excluded_features_columns) > 0:\n",
    "    print(f\"Dropping features: {excluded_features_columns}\")\n",
    "    X_test.drop(excluded_features_columns, axis=1, inplace=True)"
   ]
  },
  {
   "cell_type": "code",
   "execution_count": 26,
   "id": "1853aaf5-fb9f-46cb-a2b5-8ea4ae2237e4",
   "metadata": {
    "execution": {
     "iopub.execute_input": "2025-08-19T17:26:54.552119Z",
     "iopub.status.busy": "2025-08-19T17:26:54.550290Z",
     "iopub.status.idle": "2025-08-19T17:26:54.603368Z",
     "shell.execute_reply": "2025-08-19T17:26:54.602709Z"
    },
    "papermill": {
     "duration": 0.06909,
     "end_time": "2025-08-19T17:26:54.606597",
     "exception": false,
     "start_time": "2025-08-19T17:26:54.537507",
     "status": "completed"
    },
    "tags": []
   },
   "outputs": [
    {
     "name": "stdout",
     "output_type": "stream",
     "text": [
      "Dropping features: ['maxdeutsch1', 'maxdeutsch.Missing.']\n"
     ]
    }
   ],
   "source": [
    "if len(excluded_features_columns) > 0:\n",
    "    print(f\"Dropping features: {excluded_features_columns}\")\n",
    "    X_calib.drop(excluded_features_columns, axis=1, inplace=True)"
   ]
  },
  {
   "cell_type": "code",
   "execution_count": 27,
   "id": "76c4dc6d",
   "metadata": {
    "execution": {
     "iopub.execute_input": "2025-08-19T17:26:54.645761Z",
     "iopub.status.busy": "2025-08-19T17:26:54.644711Z",
     "iopub.status.idle": "2025-08-19T17:26:54.653048Z",
     "shell.execute_reply": "2025-08-19T17:26:54.651363Z"
    },
    "papermill": {
     "duration": 0.024344,
     "end_time": "2025-08-19T17:26:54.654692",
     "exception": false,
     "start_time": "2025-08-19T17:26:54.630348",
     "status": "completed"
    },
    "tags": []
   },
   "outputs": [],
   "source": [
    "# EXCLUDE CERTAIN SUBGROUPS\n",
    "# -------------------------\n",
    "\n",
    "mode = universe.get(\"exclude_subgroups\", \"keep-all\") # Defaults to \"keep-all\" if the key is missing."
   ]
  },
  {
   "cell_type": "code",
   "execution_count": 28,
   "id": "21994072",
   "metadata": {
    "execution": {
     "iopub.execute_input": "2025-08-19T17:26:54.681920Z",
     "iopub.status.busy": "2025-08-19T17:26:54.680869Z",
     "iopub.status.idle": "2025-08-19T17:26:54.691831Z",
     "shell.execute_reply": "2025-08-19T17:26:54.690451Z"
    },
    "papermill": {
     "duration": 0.02532,
     "end_time": "2025-08-19T17:26:54.693701",
     "exception": false,
     "start_time": "2025-08-19T17:26:54.668381",
     "status": "completed"
    },
    "tags": []
   },
   "outputs": [],
   "source": [
    "if mode == \"keep-all\":\n",
    "    keep_mask = pd.Series(True, index=org_train.index)\n",
    "\n",
    "elif mode == \"drop-non-german\":\n",
    "    keep_mask = (org_train[\"maxdeutsch1\"] == 1) & (org_train[\"maxdeutsch.Missing.\"] == 0)\n",
    "\n",
    "else:\n",
    "    raise ValueError(f\"Unsupported mode for exclude_subgroups: {mode}\")"
   ]
  },
  {
   "cell_type": "code",
   "execution_count": 29,
   "id": "71651440",
   "metadata": {
    "execution": {
     "iopub.execute_input": "2025-08-19T17:26:54.725380Z",
     "iopub.status.busy": "2025-08-19T17:26:54.724282Z",
     "iopub.status.idle": "2025-08-19T17:26:54.735361Z",
     "shell.execute_reply": "2025-08-19T17:26:54.733756Z"
    },
    "papermill": {
     "duration": 0.026794,
     "end_time": "2025-08-19T17:26:54.737166",
     "exception": false,
     "start_time": "2025-08-19T17:26:54.710372",
     "status": "completed"
    },
    "tags": []
   },
   "outputs": [],
   "source": [
    "n_drop = (~keep_mask).sum() # Calculates how many rows are set to be dropped\n",
    "if n_drop > 0:\n",
    "    pct = n_drop / len(keep_mask) * 100\n",
    "    print(f\"Dropping {n_drop} rows ({pct:.2f}%) where mode='{mode}'\")"
   ]
  },
  {
   "cell_type": "code",
   "execution_count": 30,
   "id": "5fb8eee5",
   "metadata": {
    "execution": {
     "iopub.execute_input": "2025-08-19T17:26:54.765368Z",
     "iopub.status.busy": "2025-08-19T17:26:54.763704Z",
     "iopub.status.idle": "2025-08-19T17:26:54.782930Z",
     "shell.execute_reply": "2025-08-19T17:26:54.781783Z"
    },
    "papermill": {
     "duration": 0.033735,
     "end_time": "2025-08-19T17:26:54.784816",
     "exception": false,
     "start_time": "2025-08-19T17:26:54.751081",
     "status": "completed"
    },
    "tags": []
   },
   "outputs": [],
   "source": [
    "X_train = X_train[keep_mask]"
   ]
  },
  {
   "cell_type": "code",
   "execution_count": 31,
   "id": "b202bb3a",
   "metadata": {
    "execution": {
     "iopub.execute_input": "2025-08-19T17:26:54.817332Z",
     "iopub.status.busy": "2025-08-19T17:26:54.816008Z",
     "iopub.status.idle": "2025-08-19T17:26:54.826818Z",
     "shell.execute_reply": "2025-08-19T17:26:54.824424Z"
    },
    "papermill": {
     "duration": 0.026709,
     "end_time": "2025-08-19T17:26:54.828694",
     "exception": false,
     "start_time": "2025-08-19T17:26:54.801985",
     "status": "completed"
    },
    "tags": []
   },
   "outputs": [],
   "source": [
    "y_train = y_train[keep_mask]"
   ]
  },
  {
   "cell_type": "markdown",
   "id": "493e2ac3",
   "metadata": {
    "papermill": {
     "duration": 0.011303,
     "end_time": "2025-08-19T17:26:54.955487",
     "exception": false,
     "start_time": "2025-08-19T17:26:54.944184",
     "status": "completed"
    },
    "tags": []
   },
   "source": [
    "# Model Training"
   ]
  },
  {
   "cell_type": "code",
   "execution_count": 32,
   "id": "679e1268",
   "metadata": {
    "execution": {
     "iopub.execute_input": "2025-08-19T17:26:54.980595Z",
     "iopub.status.busy": "2025-08-19T17:26:54.979518Z",
     "iopub.status.idle": "2025-08-19T17:26:55.081802Z",
     "shell.execute_reply": "2025-08-19T17:26:55.081139Z"
    },
    "papermill": {
     "duration": 0.118146,
     "end_time": "2025-08-19T17:26:55.084766",
     "exception": false,
     "start_time": "2025-08-19T17:26:54.966620",
     "status": "completed"
    },
    "tags": []
   },
   "outputs": [],
   "source": [
    "from sklearn.linear_model import LogisticRegression\n",
    "from sklearn.ensemble import GradientBoostingClassifier, RandomForestClassifier\n",
    "\n",
    "if (universe[\"model\"] == \"logreg\"):\n",
    "    model = LogisticRegression() #penalty=\"none\", solver=\"newton-cg\", max_iter=1)\n",
    "elif (universe[\"model\"] == \"penalized_logreg\"):\n",
    "    model = LogisticRegression(penalty=\"l2\", C=0.1) #, solver=\"newton-cg\", max_iter=1)\n",
    "elif (universe[\"model\"] == \"rf\"):\n",
    "    model = RandomForestClassifier() # n_estimators=100, n_jobs=-1\n",
    "elif (universe[\"model\"] == \"gbm\"):\n",
    "    model = GradientBoostingClassifier()\n",
    "elif (universe[\"model\"] == \"elasticnet\"):\n",
    "    model = LogisticRegression(penalty = 'elasticnet', solver = 'saga', l1_ratio = 0.5) # max_iter=5000\n",
    "else:\n",
    "    raise \"Unsupported universe.model\""
   ]
  },
  {
   "cell_type": "code",
   "execution_count": 33,
   "id": "0cc8f744",
   "metadata": {
    "execution": {
     "iopub.execute_input": "2025-08-19T17:26:55.126074Z",
     "iopub.status.busy": "2025-08-19T17:26:55.125012Z",
     "iopub.status.idle": "2025-08-19T17:26:55.135374Z",
     "shell.execute_reply": "2025-08-19T17:26:55.133846Z"
    },
    "papermill": {
     "duration": 0.027087,
     "end_time": "2025-08-19T17:26:55.137115",
     "exception": false,
     "start_time": "2025-08-19T17:26:55.110028",
     "status": "completed"
    },
    "tags": []
   },
   "outputs": [],
   "source": [
    "from sklearn.pipeline import Pipeline\n",
    "from sklearn.preprocessing import StandardScaler\n",
    "\n",
    "model = Pipeline([\n",
    "    #(\"continuous_processor\", continuous_processor),\n",
    "    #(\"categorical_preprocessor\", categorical_preprocessor),\n",
    "    (\"scale\", StandardScaler() if universe[\"scale\"] == \"scale\" else None), \n",
    "    (\"model\", model),\n",
    "])"
   ]
  },
  {
   "cell_type": "code",
   "execution_count": 34,
   "id": "9442c04d",
   "metadata": {
    "execution": {
     "iopub.execute_input": "2025-08-19T17:26:55.169378Z",
     "iopub.status.busy": "2025-08-19T17:26:55.168306Z",
     "iopub.status.idle": "2025-08-19T17:26:55.312167Z",
     "shell.execute_reply": "2025-08-19T17:26:55.311211Z"
    },
    "papermill": {
     "duration": 0.159609,
     "end_time": "2025-08-19T17:26:55.313740",
     "exception": false,
     "start_time": "2025-08-19T17:26:55.154131",
     "status": "completed"
    },
    "tags": []
   },
   "outputs": [
    {
     "data": {
      "text/html": [
       "<style>#sk-container-id-1 {color: black;background-color: white;}#sk-container-id-1 pre{padding: 0;}#sk-container-id-1 div.sk-toggleable {background-color: white;}#sk-container-id-1 label.sk-toggleable__label {cursor: pointer;display: block;width: 100%;margin-bottom: 0;padding: 0.3em;box-sizing: border-box;text-align: center;}#sk-container-id-1 label.sk-toggleable__label-arrow:before {content: \"▸\";float: left;margin-right: 0.25em;color: #696969;}#sk-container-id-1 label.sk-toggleable__label-arrow:hover:before {color: black;}#sk-container-id-1 div.sk-estimator:hover label.sk-toggleable__label-arrow:before {color: black;}#sk-container-id-1 div.sk-toggleable__content {max-height: 0;max-width: 0;overflow: hidden;text-align: left;background-color: #f0f8ff;}#sk-container-id-1 div.sk-toggleable__content pre {margin: 0.2em;color: black;border-radius: 0.25em;background-color: #f0f8ff;}#sk-container-id-1 input.sk-toggleable__control:checked~div.sk-toggleable__content {max-height: 200px;max-width: 100%;overflow: auto;}#sk-container-id-1 input.sk-toggleable__control:checked~label.sk-toggleable__label-arrow:before {content: \"▾\";}#sk-container-id-1 div.sk-estimator input.sk-toggleable__control:checked~label.sk-toggleable__label {background-color: #d4ebff;}#sk-container-id-1 div.sk-label input.sk-toggleable__control:checked~label.sk-toggleable__label {background-color: #d4ebff;}#sk-container-id-1 input.sk-hidden--visually {border: 0;clip: rect(1px 1px 1px 1px);clip: rect(1px, 1px, 1px, 1px);height: 1px;margin: -1px;overflow: hidden;padding: 0;position: absolute;width: 1px;}#sk-container-id-1 div.sk-estimator {font-family: monospace;background-color: #f0f8ff;border: 1px dotted black;border-radius: 0.25em;box-sizing: border-box;margin-bottom: 0.5em;}#sk-container-id-1 div.sk-estimator:hover {background-color: #d4ebff;}#sk-container-id-1 div.sk-parallel-item::after {content: \"\";width: 100%;border-bottom: 1px solid gray;flex-grow: 1;}#sk-container-id-1 div.sk-label:hover label.sk-toggleable__label {background-color: #d4ebff;}#sk-container-id-1 div.sk-serial::before {content: \"\";position: absolute;border-left: 1px solid gray;box-sizing: border-box;top: 0;bottom: 0;left: 50%;z-index: 0;}#sk-container-id-1 div.sk-serial {display: flex;flex-direction: column;align-items: center;background-color: white;padding-right: 0.2em;padding-left: 0.2em;position: relative;}#sk-container-id-1 div.sk-item {position: relative;z-index: 1;}#sk-container-id-1 div.sk-parallel {display: flex;align-items: stretch;justify-content: center;background-color: white;position: relative;}#sk-container-id-1 div.sk-item::before, #sk-container-id-1 div.sk-parallel-item::before {content: \"\";position: absolute;border-left: 1px solid gray;box-sizing: border-box;top: 0;bottom: 0;left: 50%;z-index: -1;}#sk-container-id-1 div.sk-parallel-item {display: flex;flex-direction: column;z-index: 1;position: relative;background-color: white;}#sk-container-id-1 div.sk-parallel-item:first-child::after {align-self: flex-end;width: 50%;}#sk-container-id-1 div.sk-parallel-item:last-child::after {align-self: flex-start;width: 50%;}#sk-container-id-1 div.sk-parallel-item:only-child::after {width: 0;}#sk-container-id-1 div.sk-dashed-wrapped {border: 1px dashed gray;margin: 0 0.4em 0.5em 0.4em;box-sizing: border-box;padding-bottom: 0.4em;background-color: white;}#sk-container-id-1 div.sk-label label {font-family: monospace;font-weight: bold;display: inline-block;line-height: 1.2em;}#sk-container-id-1 div.sk-label-container {text-align: center;}#sk-container-id-1 div.sk-container {/* jupyter's `normalize.less` sets `[hidden] { display: none; }` but bootstrap.min.css set `[hidden] { display: none !important; }` so we also need the `!important` here to be able to override the default hidden behavior on the sphinx rendered scikit-learn.org. See: https://github.com/scikit-learn/scikit-learn/issues/21755 */display: inline-block !important;position: relative;}#sk-container-id-1 div.sk-text-repr-fallback {display: none;}</style><div id=\"sk-container-id-1\" class=\"sk-top-container\"><div class=\"sk-text-repr-fallback\"><pre>Pipeline(steps=[(&#x27;scale&#x27;, StandardScaler()),\n",
       "                (&#x27;model&#x27;, LogisticRegression(C=0.1))])</pre><b>In a Jupyter environment, please rerun this cell to show the HTML representation or trust the notebook. <br />On GitHub, the HTML representation is unable to render, please try loading this page with nbviewer.org.</b></div><div class=\"sk-container\" hidden><div class=\"sk-item sk-dashed-wrapped\"><div class=\"sk-label-container\"><div class=\"sk-label sk-toggleable\"><input class=\"sk-toggleable__control sk-hidden--visually\" id=\"sk-estimator-id-1\" type=\"checkbox\" ><label for=\"sk-estimator-id-1\" class=\"sk-toggleable__label sk-toggleable__label-arrow\">Pipeline</label><div class=\"sk-toggleable__content\"><pre>Pipeline(steps=[(&#x27;scale&#x27;, StandardScaler()),\n",
       "                (&#x27;model&#x27;, LogisticRegression(C=0.1))])</pre></div></div></div><div class=\"sk-serial\"><div class=\"sk-item\"><div class=\"sk-estimator sk-toggleable\"><input class=\"sk-toggleable__control sk-hidden--visually\" id=\"sk-estimator-id-2\" type=\"checkbox\" ><label for=\"sk-estimator-id-2\" class=\"sk-toggleable__label sk-toggleable__label-arrow\">StandardScaler</label><div class=\"sk-toggleable__content\"><pre>StandardScaler()</pre></div></div></div><div class=\"sk-item\"><div class=\"sk-estimator sk-toggleable\"><input class=\"sk-toggleable__control sk-hidden--visually\" id=\"sk-estimator-id-3\" type=\"checkbox\" ><label for=\"sk-estimator-id-3\" class=\"sk-toggleable__label sk-toggleable__label-arrow\">LogisticRegression</label><div class=\"sk-toggleable__content\"><pre>LogisticRegression(C=0.1)</pre></div></div></div></div></div></div></div>"
      ],
      "text/plain": [
       "Pipeline(steps=[('scale', StandardScaler()),\n",
       "                ('model', LogisticRegression(C=0.1))])"
      ]
     },
     "execution_count": 34,
     "metadata": {},
     "output_type": "execute_result"
    }
   ],
   "source": [
    "model.fit(X_train, y_train.values.ravel())"
   ]
  },
  {
   "cell_type": "code",
   "execution_count": 35,
   "id": "a7cf2e16",
   "metadata": {
    "execution": {
     "iopub.execute_input": "2025-08-19T17:26:55.340042Z",
     "iopub.status.busy": "2025-08-19T17:26:55.339029Z",
     "iopub.status.idle": "2025-08-19T17:26:55.532809Z",
     "shell.execute_reply": "2025-08-19T17:26:55.532067Z"
    },
    "papermill": {
     "duration": 0.210337,
     "end_time": "2025-08-19T17:26:55.536243",
     "exception": false,
     "start_time": "2025-08-19T17:26:55.325906",
     "status": "completed"
    },
    "tags": []
   },
   "outputs": [
    {
     "data": {
      "text/plain": [
       "0.8588451677627912"
      ]
     },
     "execution_count": 35,
     "metadata": {},
     "output_type": "execute_result"
    }
   ],
   "source": [
    "from fairness_multiverse.universe import predict_w_threshold\n",
    "\n",
    "probs_test = model.predict_proba(X_test)\n",
    "\n",
    "'''\n",
    "Below code returns a boolean array (or binary 0/1 array depending on how it’s used) where each element \n",
    "is True if the probability of class 1 is greater than or equal to the threshold, and False otherwise.\n",
    "'''\n",
    "y_pred_default = predict_w_threshold(probs_test, 0.5)\n",
    "\n",
    "from sklearn.metrics import accuracy_score\n",
    "\n",
    "# Naive prediction\n",
    "accuracy_score(y_true = y_true, y_pred = y_pred_default)"
   ]
  },
  {
   "cell_type": "code",
   "execution_count": 36,
   "id": "081964c3",
   "metadata": {
    "execution": {
     "iopub.execute_input": "2025-08-19T17:26:55.576434Z",
     "iopub.status.busy": "2025-08-19T17:26:55.575230Z",
     "iopub.status.idle": "2025-08-19T17:26:55.760398Z",
     "shell.execute_reply": "2025-08-19T17:26:55.759600Z"
    },
    "papermill": {
     "duration": 0.203411,
     "end_time": "2025-08-19T17:26:55.763843",
     "exception": false,
     "start_time": "2025-08-19T17:26:55.560432",
     "status": "completed"
    },
    "tags": []
   },
   "outputs": [
    {
     "data": {
      "text/plain": [
       "array([0, 0, 0, ..., 0, 0, 0])"
      ]
     },
     "execution_count": 36,
     "metadata": {},
     "output_type": "execute_result"
    }
   ],
   "source": [
    "model.predict(X_test)"
   ]
  },
  {
   "cell_type": "markdown",
   "id": "56c9705b",
   "metadata": {
    "papermill": {
     "duration": 0.013792,
     "end_time": "2025-08-19T17:26:55.804628",
     "exception": false,
     "start_time": "2025-08-19T17:26:55.790836",
     "status": "completed"
    },
    "tags": []
   },
   "source": [
    "# Conformal Prediction"
   ]
  },
  {
   "cell_type": "code",
   "execution_count": 37,
   "id": "160ec6ff",
   "metadata": {
    "execution": {
     "iopub.execute_input": "2025-08-19T17:26:55.831210Z",
     "iopub.status.busy": "2025-08-19T17:26:55.830005Z",
     "iopub.status.idle": "2025-08-19T17:26:55.837318Z",
     "shell.execute_reply": "2025-08-19T17:26:55.836036Z"
    },
    "papermill": {
     "duration": 0.022698,
     "end_time": "2025-08-19T17:26:55.839194",
     "exception": false,
     "start_time": "2025-08-19T17:26:55.816496",
     "status": "completed"
    },
    "tags": []
   },
   "outputs": [],
   "source": [
    "# Miscoverage level for conformal prediction (10% allowed error rate => 90% target coverage)\n",
    "alpha = 0.1"
   ]
  },
  {
   "cell_type": "code",
   "execution_count": 38,
   "id": "eadf4555-3dd3-440e-8e35-f82a4ad9f855",
   "metadata": {
    "execution": {
     "iopub.execute_input": "2025-08-19T17:26:55.873273Z",
     "iopub.status.busy": "2025-08-19T17:26:55.867470Z",
     "iopub.status.idle": "2025-08-19T17:26:56.062723Z",
     "shell.execute_reply": "2025-08-19T17:26:56.061700Z"
    },
    "papermill": {
     "duration": 0.214584,
     "end_time": "2025-08-19T17:26:56.068273",
     "exception": false,
     "start_time": "2025-08-19T17:26:55.853689",
     "status": "completed"
    },
    "tags": []
   },
   "outputs": [],
   "source": [
    "probs_calib = model.predict_proba(X_calib)"
   ]
  },
  {
   "cell_type": "code",
   "execution_count": 39,
   "id": "2ed93547-6d5d-4983-9b36-1ecb300da49a",
   "metadata": {
    "execution": {
     "iopub.execute_input": "2025-08-19T17:26:56.115651Z",
     "iopub.status.busy": "2025-08-19T17:26:56.114435Z",
     "iopub.status.idle": "2025-08-19T17:26:56.123407Z",
     "shell.execute_reply": "2025-08-19T17:26:56.122114Z"
    },
    "papermill": {
     "duration": 0.026497,
     "end_time": "2025-08-19T17:26:56.125100",
     "exception": false,
     "start_time": "2025-08-19T17:26:56.098603",
     "status": "completed"
    },
    "tags": []
   },
   "outputs": [],
   "source": [
    "y_calib = y_calib.values.ravel().astype(int)"
   ]
  },
  {
   "cell_type": "code",
   "execution_count": 40,
   "id": "65d1320d-f588-4b38-9072-62af1ae97f7d",
   "metadata": {
    "execution": {
     "iopub.execute_input": "2025-08-19T17:26:56.156119Z",
     "iopub.status.busy": "2025-08-19T17:26:56.154909Z",
     "iopub.status.idle": "2025-08-19T17:26:56.168358Z",
     "shell.execute_reply": "2025-08-19T17:26:56.167296Z"
    },
    "papermill": {
     "duration": 0.028833,
     "end_time": "2025-08-19T17:26:56.170026",
     "exception": false,
     "start_time": "2025-08-19T17:26:56.141193",
     "status": "completed"
    },
    "tags": []
   },
   "outputs": [],
   "source": [
    "from fairness_multiverse.conformal import compute_nc_scores\n",
    "\n",
    "# Compute nonconformity scores on calibration set (1 - probability of true class)\n",
    "nc_scores = compute_nc_scores(probs_calib, y_calib)"
   ]
  },
  {
   "cell_type": "code",
   "execution_count": 41,
   "id": "df3b8ca3-53b7-43d5-9667-7c85da7aeda2",
   "metadata": {
    "execution": {
     "iopub.execute_input": "2025-08-19T17:26:56.203729Z",
     "iopub.status.busy": "2025-08-19T17:26:56.202503Z",
     "iopub.status.idle": "2025-08-19T17:26:56.212837Z",
     "shell.execute_reply": "2025-08-19T17:26:56.211571Z"
    },
    "papermill": {
     "duration": 0.026569,
     "end_time": "2025-08-19T17:26:56.214745",
     "exception": false,
     "start_time": "2025-08-19T17:26:56.188176",
     "status": "completed"
    },
    "tags": []
   },
   "outputs": [],
   "source": [
    "from fairness_multiverse.conformal import find_threshold\n",
    "\n",
    "# Find conformal threshold q_hat for the given alpha (split conformal method)\n",
    "q_hat = find_threshold(nc_scores, alpha)"
   ]
  },
  {
   "cell_type": "code",
   "execution_count": 42,
   "id": "4d29e6c1-0ef6-4aa4-b8fe-4fe79b0d033a",
   "metadata": {
    "execution": {
     "iopub.execute_input": "2025-08-19T17:26:56.245487Z",
     "iopub.status.busy": "2025-08-19T17:26:56.244023Z",
     "iopub.status.idle": "2025-08-19T17:26:56.261955Z",
     "shell.execute_reply": "2025-08-19T17:26:56.253736Z"
    },
    "papermill": {
     "duration": 0.034575,
     "end_time": "2025-08-19T17:26:56.264181",
     "exception": false,
     "start_time": "2025-08-19T17:26:56.229606",
     "status": "completed"
    },
    "tags": []
   },
   "outputs": [
    {
     "data": {
      "text/plain": [
       "0.6830494007092878"
      ]
     },
     "execution_count": 42,
     "metadata": {},
     "output_type": "execute_result"
    }
   ],
   "source": [
    "q_hat"
   ]
  },
  {
   "cell_type": "code",
   "execution_count": 43,
   "id": "92460794-cdac-4be2-ba28-f28c0515a6fb",
   "metadata": {
    "execution": {
     "iopub.execute_input": "2025-08-19T17:26:56.296278Z",
     "iopub.status.busy": "2025-08-19T17:26:56.295862Z",
     "iopub.status.idle": "2025-08-19T17:26:56.914050Z",
     "shell.execute_reply": "2025-08-19T17:26:56.912843Z"
    },
    "papermill": {
     "duration": 0.633238,
     "end_time": "2025-08-19T17:26:56.915693",
     "exception": false,
     "start_time": "2025-08-19T17:26:56.282455",
     "status": "completed"
    },
    "tags": []
   },
   "outputs": [],
   "source": [
    "from fairness_multiverse.conformal import predict_conformal_sets\n",
    "\n",
    "# Generate prediction sets for each test example\n",
    "pred_sets = predict_conformal_sets(model, X_test, q_hat)"
   ]
  },
  {
   "cell_type": "code",
   "execution_count": 44,
   "id": "d90c9a65-e6db-4f5d-80cd-e68fb7e46829",
   "metadata": {
    "execution": {
     "iopub.execute_input": "2025-08-19T17:26:56.942763Z",
     "iopub.status.busy": "2025-08-19T17:26:56.941744Z",
     "iopub.status.idle": "2025-08-19T17:26:56.955356Z",
     "shell.execute_reply": "2025-08-19T17:26:56.953643Z"
    },
    "papermill": {
     "duration": 0.028957,
     "end_time": "2025-08-19T17:26:56.957172",
     "exception": false,
     "start_time": "2025-08-19T17:26:56.928215",
     "status": "completed"
    },
    "tags": []
   },
   "outputs": [],
   "source": [
    "y_true = y_true.squeeze()"
   ]
  },
  {
   "cell_type": "code",
   "execution_count": 45,
   "id": "3a58a54a-1e68-46b9-927a-df01f18aebc8",
   "metadata": {
    "execution": {
     "iopub.execute_input": "2025-08-19T17:26:56.992788Z",
     "iopub.status.busy": "2025-08-19T17:26:56.991166Z",
     "iopub.status.idle": "2025-08-19T17:26:57.518111Z",
     "shell.execute_reply": "2025-08-19T17:26:57.516811Z"
    },
    "papermill": {
     "duration": 0.544286,
     "end_time": "2025-08-19T17:26:57.519833",
     "exception": false,
     "start_time": "2025-08-19T17:26:56.975547",
     "status": "completed"
    },
    "tags": []
   },
   "outputs": [],
   "source": [
    "from fairness_multiverse.conformal import evaluate_sets\n",
    "\n",
    "# Evaluate coverage and average set size on test data\n",
    "metrics = evaluate_sets(pred_sets, y_true)"
   ]
  },
  {
   "cell_type": "markdown",
   "id": "2b569c12-9aaa-4c88-98c9-bbcd0cf3ebb8",
   "metadata": {
    "papermill": {
     "duration": 0.027881,
     "end_time": "2025-08-19T17:26:57.561216",
     "exception": false,
     "start_time": "2025-08-19T17:26:57.533335",
     "status": "completed"
    },
    "tags": []
   },
   "source": [
    "# CP Metrics"
   ]
  },
  {
   "cell_type": "code",
   "execution_count": 46,
   "id": "5ce0a5cb-201f-45a0-ade5-94c7f0bd6095",
   "metadata": {
    "execution": {
     "iopub.execute_input": "2025-08-19T17:26:57.593009Z",
     "iopub.status.busy": "2025-08-19T17:26:57.591806Z",
     "iopub.status.idle": "2025-08-19T17:26:57.608633Z",
     "shell.execute_reply": "2025-08-19T17:26:57.607291Z"
    },
    "papermill": {
     "duration": 0.036616,
     "end_time": "2025-08-19T17:26:57.610404",
     "exception": false,
     "start_time": "2025-08-19T17:26:57.573788",
     "status": "completed"
    },
    "tags": []
   },
   "outputs": [
    {
     "data": {
      "text/plain": [
       "{'coverage': 0.9102552669713522, 'avg_size': 1.1326830899565266}"
      ]
     },
     "execution_count": 46,
     "metadata": {},
     "output_type": "execute_result"
    }
   ],
   "source": [
    "metrics"
   ]
  },
  {
   "cell_type": "code",
   "execution_count": 47,
   "id": "9b9a838d-31c9-430b-ae14-12baee460d17",
   "metadata": {
    "execution": {
     "iopub.execute_input": "2025-08-19T17:26:57.655345Z",
     "iopub.status.busy": "2025-08-19T17:26:57.653553Z",
     "iopub.status.idle": "2025-08-19T17:26:57.665670Z",
     "shell.execute_reply": "2025-08-19T17:26:57.664524Z"
    },
    "papermill": {
     "duration": 0.028367,
     "end_time": "2025-08-19T17:26:57.666975",
     "exception": false,
     "start_time": "2025-08-19T17:26:57.638608",
     "status": "completed"
    },
    "tags": []
   },
   "outputs": [],
   "source": [
    "example_universe = universe.copy()\n",
    "universe_training_year = example_universe.get(\"training_year\")\n",
    "universe_training_size = example_universe.get(\"training_size\")\n",
    "universe_scale = example_universe.get(\"scale\")\n",
    "universe_model = example_universe.get(\"model\")\n",
    "universe_exclude_features = example_universe.get(\"exclude_features\")\n",
    "universe_exclude_subgroups = example_universe.get(\"exclude_subgroups\")"
   ]
  },
  {
   "cell_type": "code",
   "execution_count": 48,
   "id": "f4b6a8ac-9dc0-4245-8a91-5b3b5999c4f9",
   "metadata": {
    "execution": {
     "iopub.execute_input": "2025-08-19T17:26:57.721459Z",
     "iopub.status.busy": "2025-08-19T17:26:57.715023Z",
     "iopub.status.idle": "2025-08-19T17:26:57.733056Z",
     "shell.execute_reply": "2025-08-19T17:26:57.729934Z"
    },
    "papermill": {
     "duration": 0.053503,
     "end_time": "2025-08-19T17:26:57.739060",
     "exception": false,
     "start_time": "2025-08-19T17:26:57.685557",
     "status": "completed"
    },
    "tags": []
   },
   "outputs": [],
   "source": [
    "cp_metrics_dict = {\n",
    "    \"universe_id\": [universe_id],\n",
    "    \"universe_training_year\": [universe_training_year],\n",
    "    \"universe_training_size\": [universe_training_size],\n",
    "    \"universe_scale\": [universe_scale],\n",
    "    \"universe_model\": [universe_model],\n",
    "    \"universe_exclude_features\": [universe_exclude_features],\n",
    "    \"universe_exclude_subgroups\": [universe_exclude_subgroups],\n",
    "    \"q_hat\": [q_hat],\n",
    "    \"coverage\": [metrics[\"coverage\"]],\n",
    "    \"avg_size\": [metrics[\"avg_size\"]],\n",
    "}"
   ]
  },
  {
   "cell_type": "code",
   "execution_count": 49,
   "id": "33007efc-14e9-4ec6-97ac-56a455c82265",
   "metadata": {
    "execution": {
     "iopub.execute_input": "2025-08-19T17:26:57.818839Z",
     "iopub.status.busy": "2025-08-19T17:26:57.818419Z",
     "iopub.status.idle": "2025-08-19T17:26:57.834540Z",
     "shell.execute_reply": "2025-08-19T17:26:57.833509Z"
    },
    "papermill": {
     "duration": 0.055873,
     "end_time": "2025-08-19T17:26:57.841726",
     "exception": false,
     "start_time": "2025-08-19T17:26:57.785853",
     "status": "completed"
    },
    "tags": []
   },
   "outputs": [],
   "source": [
    "cp_metrics_df = pd.DataFrame(cp_metrics_dict)"
   ]
  },
  {
   "cell_type": "code",
   "execution_count": 50,
   "id": "db12611b-57b2-4910-b9d0-355adfd6e7bf",
   "metadata": {
    "execution": {
     "iopub.execute_input": "2025-08-19T17:26:57.895591Z",
     "iopub.status.busy": "2025-08-19T17:26:57.894996Z",
     "iopub.status.idle": "2025-08-19T17:26:57.912172Z",
     "shell.execute_reply": "2025-08-19T17:26:57.911378Z"
    },
    "papermill": {
     "duration": 0.05709,
     "end_time": "2025-08-19T17:26:57.915207",
     "exception": false,
     "start_time": "2025-08-19T17:26:57.858117",
     "status": "completed"
    },
    "tags": []
   },
   "outputs": [
    {
     "data": {
      "text/html": [
       "<div>\n",
       "<style scoped>\n",
       "    .dataframe tbody tr th:only-of-type {\n",
       "        vertical-align: middle;\n",
       "    }\n",
       "\n",
       "    .dataframe tbody tr th {\n",
       "        vertical-align: top;\n",
       "    }\n",
       "\n",
       "    .dataframe thead th {\n",
       "        text-align: right;\n",
       "    }\n",
       "</style>\n",
       "<table border=\"1\" class=\"dataframe\">\n",
       "  <thead>\n",
       "    <tr style=\"text-align: right;\">\n",
       "      <th></th>\n",
       "      <th>universe_id</th>\n",
       "      <th>universe_training_year</th>\n",
       "      <th>universe_training_size</th>\n",
       "      <th>universe_scale</th>\n",
       "      <th>universe_model</th>\n",
       "      <th>universe_exclude_features</th>\n",
       "      <th>universe_exclude_subgroups</th>\n",
       "      <th>q_hat</th>\n",
       "      <th>coverage</th>\n",
       "      <th>avg_size</th>\n",
       "    </tr>\n",
       "  </thead>\n",
       "  <tbody>\n",
       "    <tr>\n",
       "      <th>0</th>\n",
       "      <td>268b1b88a8184128cbcf23d6d669432b</td>\n",
       "      <td>2014</td>\n",
       "      <td>5k</td>\n",
       "      <td>scale</td>\n",
       "      <td>penalized_logreg</td>\n",
       "      <td>nationality</td>\n",
       "      <td>keep-all</td>\n",
       "      <td>0.683049</td>\n",
       "      <td>0.910255</td>\n",
       "      <td>1.132683</td>\n",
       "    </tr>\n",
       "  </tbody>\n",
       "</table>\n",
       "</div>"
      ],
      "text/plain": [
       "                        universe_id universe_training_year  \\\n",
       "0  268b1b88a8184128cbcf23d6d669432b                   2014   \n",
       "\n",
       "  universe_training_size universe_scale    universe_model  \\\n",
       "0                     5k          scale  penalized_logreg   \n",
       "\n",
       "  universe_exclude_features universe_exclude_subgroups     q_hat  coverage  \\\n",
       "0               nationality                   keep-all  0.683049  0.910255   \n",
       "\n",
       "   avg_size  \n",
       "0  1.132683  "
      ]
     },
     "execution_count": 50,
     "metadata": {},
     "output_type": "execute_result"
    }
   ],
   "source": [
    "cp_metrics_df"
   ]
  },
  {
   "cell_type": "markdown",
   "id": "c825ecb4-0d3d-41d6-b7c6-eccb21272259",
   "metadata": {
    "papermill": {
     "duration": 0.015753,
     "end_time": "2025-08-19T17:26:57.958199",
     "exception": false,
     "start_time": "2025-08-19T17:26:57.942446",
     "status": "completed"
    },
    "tags": []
   },
   "source": [
    "Conditional coverage & looking at subgroups"
   ]
  },
  {
   "cell_type": "code",
   "execution_count": 51,
   "id": "027ae886-68dd-4141-96c7-805a5450e1ef",
   "metadata": {
    "execution": {
     "iopub.execute_input": "2025-08-19T17:26:57.985917Z",
     "iopub.status.busy": "2025-08-19T17:26:57.985212Z",
     "iopub.status.idle": "2025-08-19T17:26:58.281302Z",
     "shell.execute_reply": "2025-08-19T17:26:58.280334Z"
    },
    "papermill": {
     "duration": 0.312669,
     "end_time": "2025-08-19T17:26:58.283239",
     "exception": false,
     "start_time": "2025-08-19T17:26:57.970570",
     "status": "completed"
    },
    "tags": []
   },
   "outputs": [],
   "source": [
    "from fairness_multiverse.conformal import build_cp_groups\n",
    "\n",
    "cp_groups_df = build_cp_groups(pred_sets, y_true, X_test.index, org_test)"
   ]
  },
  {
   "cell_type": "code",
   "execution_count": 52,
   "id": "6cbdab96-b2b2-45af-ad54-d0516db2e28d",
   "metadata": {
    "execution": {
     "iopub.execute_input": "2025-08-19T17:26:58.342313Z",
     "iopub.status.busy": "2025-08-19T17:26:58.341596Z",
     "iopub.status.idle": "2025-08-19T17:26:59.219014Z",
     "shell.execute_reply": "2025-08-19T17:26:59.217782Z"
    },
    "papermill": {
     "duration": 0.900885,
     "end_time": "2025-08-19T17:26:59.220779",
     "exception": false,
     "start_time": "2025-08-19T17:26:58.319894",
     "status": "completed"
    },
    "tags": []
   },
   "outputs": [],
   "source": [
    "# Define covered = 1 if true_label is in the predicted set\n",
    "cp_groups_df['covered'] = cp_groups_df.apply(\n",
    "    lambda r: int(r['true_label'] in r['pred_set']),\n",
    "    axis=1\n",
    ")"
   ]
  },
  {
   "cell_type": "code",
   "execution_count": 53,
   "id": "90032e27-66df-4540-9169-4e89cfbaa758",
   "metadata": {
    "execution": {
     "iopub.execute_input": "2025-08-19T17:26:59.250518Z",
     "iopub.status.busy": "2025-08-19T17:26:59.250023Z",
     "iopub.status.idle": "2025-08-19T17:26:59.263138Z",
     "shell.execute_reply": "2025-08-19T17:26:59.262443Z"
    },
    "papermill": {
     "duration": 0.03007,
     "end_time": "2025-08-19T17:26:59.264974",
     "exception": false,
     "start_time": "2025-08-19T17:26:59.234904",
     "status": "completed"
    },
    "tags": []
   },
   "outputs": [],
   "source": [
    "subgroups = ['frau1','nongerman','nongerman_male','nongerman_female']\n",
    "\n",
    "# Conditional coverage for subgroup==1\n",
    "cond_coverage = {\n",
    "    g: cp_groups_df.loc[cp_groups_df[g]==1, 'covered'].mean()\n",
    "    for g in subgroups\n",
    "}"
   ]
  },
  {
   "cell_type": "code",
   "execution_count": 54,
   "id": "1e348fb1-b9c3-45bc-ba23-f016827a7e0d",
   "metadata": {
    "execution": {
     "iopub.execute_input": "2025-08-19T17:26:59.295356Z",
     "iopub.status.busy": "2025-08-19T17:26:59.294922Z",
     "iopub.status.idle": "2025-08-19T17:26:59.302128Z",
     "shell.execute_reply": "2025-08-19T17:26:59.301459Z"
    },
    "papermill": {
     "duration": 0.023645,
     "end_time": "2025-08-19T17:26:59.303564",
     "exception": false,
     "start_time": "2025-08-19T17:26:59.279919",
     "status": "completed"
    },
    "tags": []
   },
   "outputs": [
    {
     "data": {
      "text/plain": [
       "{'frau1': 0.9075616659927214,\n",
       " 'nongerman': 0.9093358782911357,\n",
       " 'nongerman_male': 0.9282175988471584,\n",
       " 'nongerman_female': 0.8780923994038748}"
      ]
     },
     "execution_count": 54,
     "metadata": {},
     "output_type": "execute_result"
    }
   ],
   "source": [
    "cond_coverage"
   ]
  },
  {
   "cell_type": "code",
   "execution_count": 55,
   "id": "f5093324-c3dd-4d63-bc4c-8d945e5c8bbb",
   "metadata": {
    "execution": {
     "iopub.execute_input": "2025-08-19T17:26:59.334977Z",
     "iopub.status.busy": "2025-08-19T17:26:59.334530Z",
     "iopub.status.idle": "2025-08-19T17:26:59.340863Z",
     "shell.execute_reply": "2025-08-19T17:26:59.340126Z"
    },
    "papermill": {
     "duration": 0.022524,
     "end_time": "2025-08-19T17:26:59.342128",
     "exception": false,
     "start_time": "2025-08-19T17:26:59.319604",
     "status": "completed"
    },
    "tags": []
   },
   "outputs": [],
   "source": [
    "for subgroup, cov in cond_coverage.items():\n",
    "    cp_metrics_df[f\"cov_{subgroup}\"] = cov"
   ]
  },
  {
   "cell_type": "code",
   "execution_count": 56,
   "id": "6e872e10-dbe5-49e8-b554-5030c98ff75d",
   "metadata": {
    "execution": {
     "iopub.execute_input": "2025-08-19T17:26:59.397079Z",
     "iopub.status.busy": "2025-08-19T17:26:59.396650Z",
     "iopub.status.idle": "2025-08-19T17:26:59.423503Z",
     "shell.execute_reply": "2025-08-19T17:26:59.422388Z"
    },
    "papermill": {
     "duration": 0.044986,
     "end_time": "2025-08-19T17:26:59.425853",
     "exception": false,
     "start_time": "2025-08-19T17:26:59.380867",
     "status": "completed"
    },
    "tags": []
   },
   "outputs": [
    {
     "data": {
      "text/html": [
       "<div>\n",
       "<style scoped>\n",
       "    .dataframe tbody tr th:only-of-type {\n",
       "        vertical-align: middle;\n",
       "    }\n",
       "\n",
       "    .dataframe tbody tr th {\n",
       "        vertical-align: top;\n",
       "    }\n",
       "\n",
       "    .dataframe thead th {\n",
       "        text-align: right;\n",
       "    }\n",
       "</style>\n",
       "<table border=\"1\" class=\"dataframe\">\n",
       "  <thead>\n",
       "    <tr style=\"text-align: right;\">\n",
       "      <th></th>\n",
       "      <th>universe_id</th>\n",
       "      <th>universe_training_year</th>\n",
       "      <th>universe_training_size</th>\n",
       "      <th>universe_scale</th>\n",
       "      <th>universe_model</th>\n",
       "      <th>universe_exclude_features</th>\n",
       "      <th>universe_exclude_subgroups</th>\n",
       "      <th>q_hat</th>\n",
       "      <th>coverage</th>\n",
       "      <th>avg_size</th>\n",
       "      <th>cov_frau1</th>\n",
       "      <th>cov_nongerman</th>\n",
       "      <th>cov_nongerman_male</th>\n",
       "      <th>cov_nongerman_female</th>\n",
       "    </tr>\n",
       "  </thead>\n",
       "  <tbody>\n",
       "    <tr>\n",
       "      <th>0</th>\n",
       "      <td>268b1b88a8184128cbcf23d6d669432b</td>\n",
       "      <td>2014</td>\n",
       "      <td>5k</td>\n",
       "      <td>scale</td>\n",
       "      <td>penalized_logreg</td>\n",
       "      <td>nationality</td>\n",
       "      <td>keep-all</td>\n",
       "      <td>0.683049</td>\n",
       "      <td>0.910255</td>\n",
       "      <td>1.132683</td>\n",
       "      <td>0.907562</td>\n",
       "      <td>0.909336</td>\n",
       "      <td>0.928218</td>\n",
       "      <td>0.878092</td>\n",
       "    </tr>\n",
       "  </tbody>\n",
       "</table>\n",
       "</div>"
      ],
      "text/plain": [
       "                        universe_id universe_training_year  \\\n",
       "0  268b1b88a8184128cbcf23d6d669432b                   2014   \n",
       "\n",
       "  universe_training_size universe_scale    universe_model  \\\n",
       "0                     5k          scale  penalized_logreg   \n",
       "\n",
       "  universe_exclude_features universe_exclude_subgroups     q_hat  coverage  \\\n",
       "0               nationality                   keep-all  0.683049  0.910255   \n",
       "\n",
       "   avg_size  cov_frau1  cov_nongerman  cov_nongerman_male  \\\n",
       "0  1.132683   0.907562       0.909336            0.928218   \n",
       "\n",
       "   cov_nongerman_female  \n",
       "0              0.878092  "
      ]
     },
     "execution_count": 56,
     "metadata": {},
     "output_type": "execute_result"
    }
   ],
   "source": [
    "cp_metrics_df"
   ]
  },
  {
   "cell_type": "markdown",
   "id": "33774451",
   "metadata": {
    "papermill": {
     "duration": 0.014795,
     "end_time": "2025-08-19T17:26:59.460133",
     "exception": false,
     "start_time": "2025-08-19T17:26:59.445338",
     "status": "completed"
    },
    "tags": []
   },
   "source": [
    "# (Fairness) Metrics"
   ]
  },
  {
   "cell_type": "code",
   "execution_count": 57,
   "id": "debc5d62",
   "metadata": {
    "execution": {
     "iopub.execute_input": "2025-08-19T17:26:59.489983Z",
     "iopub.status.busy": "2025-08-19T17:26:59.489536Z",
     "iopub.status.idle": "2025-08-19T17:26:59.508149Z",
     "shell.execute_reply": "2025-08-19T17:26:59.507141Z"
    },
    "papermill": {
     "duration": 0.036272,
     "end_time": "2025-08-19T17:26:59.509931",
     "exception": false,
     "start_time": "2025-08-19T17:26:59.473659",
     "status": "completed"
    },
    "tags": []
   },
   "outputs": [],
   "source": [
    "colname_to_bin = \"maxdeutsch1\"\n",
    "majority_value = org_train[colname_to_bin].mode()[0]\n",
    "\n",
    "org_test[\"majmin\"] = np.where(org_test[colname_to_bin] == majority_value, \"majority\", \"minority\")"
   ]
  },
  {
   "cell_type": "code",
   "execution_count": 58,
   "id": "06a50de5",
   "metadata": {
    "execution": {
     "iopub.execute_input": "2025-08-19T17:26:59.541287Z",
     "iopub.status.busy": "2025-08-19T17:26:59.540844Z",
     "iopub.status.idle": "2025-08-19T17:27:01.295680Z",
     "shell.execute_reply": "2025-08-19T17:27:01.294285Z"
    },
    "papermill": {
     "duration": 1.771696,
     "end_time": "2025-08-19T17:27:01.297684",
     "exception": false,
     "start_time": "2025-08-19T17:26:59.525988",
     "status": "completed"
    },
    "tags": []
   },
   "outputs": [],
   "source": [
    "example_universe = universe.copy()\n",
    "example_universe[\"cutoff\"] = example_universe[\"cutoff\"][0]\n",
    "example_universe[\"eval_fairness_grouping\"] = example_universe[\"eval_fairness_grouping\"][0]\n",
    "fairness_dict, metric_frame = universe_analysis.compute_metrics(\n",
    "    example_universe,\n",
    "    y_pred_prob=probs_test,\n",
    "    y_test=y_true,\n",
    "    org_test=org_test,\n",
    ")"
   ]
  },
  {
   "cell_type": "markdown",
   "id": "f95d4e02",
   "metadata": {
    "papermill": {
     "duration": 0.012801,
     "end_time": "2025-08-19T17:27:01.326691",
     "exception": false,
     "start_time": "2025-08-19T17:27:01.313890",
     "status": "completed"
    },
    "tags": []
   },
   "source": [
    "# Overall"
   ]
  },
  {
   "cell_type": "markdown",
   "id": "bdee4871",
   "metadata": {
    "papermill": {
     "duration": 0.015085,
     "end_time": "2025-08-19T17:27:01.356806",
     "exception": false,
     "start_time": "2025-08-19T17:27:01.341721",
     "status": "completed"
    },
    "tags": []
   },
   "source": [
    "Main fairness target: Equalized Odds. Seems to be a better fit than equal opportunity, since we're not only interested in Y = 1. Seems to be a better fit than demographic parity, since we also care about accuracy, not just equal distribution of preds.\n",
    "\n",
    "Pick column for computation of fairness metrics\n",
    "\n",
    "Performance\n",
    "Overall performance measures, most interesting in relation to the measures split by group below"
   ]
  },
  {
   "cell_type": "code",
   "execution_count": 59,
   "id": "c4e067c6",
   "metadata": {
    "execution": {
     "iopub.execute_input": "2025-08-19T17:27:01.390528Z",
     "iopub.status.busy": "2025-08-19T17:27:01.390016Z",
     "iopub.status.idle": "2025-08-19T17:27:01.398682Z",
     "shell.execute_reply": "2025-08-19T17:27:01.397866Z"
    },
    "papermill": {
     "duration": 0.029362,
     "end_time": "2025-08-19T17:27:01.400355",
     "exception": false,
     "start_time": "2025-08-19T17:27:01.370993",
     "status": "completed"
    },
    "tags": []
   },
   "outputs": [
    {
     "data": {
      "text/plain": [
       "accuracy                   0.224512\n",
       "balanced accuracy          0.548935\n",
       "f1                         0.245840\n",
       "precision                  0.140440\n",
       "false positive rate        0.887445\n",
       "false negative rate        0.014685\n",
       "selection rate             0.900000\n",
       "count                  89710.000000\n",
       "dtype: float64"
      ]
     },
     "execution_count": 59,
     "metadata": {},
     "output_type": "execute_result"
    }
   ],
   "source": [
    "metric_frame.overall"
   ]
  },
  {
   "cell_type": "markdown",
   "id": "e968fe9d",
   "metadata": {
    "papermill": {
     "duration": 0.01446,
     "end_time": "2025-08-19T17:27:01.433568",
     "exception": false,
     "start_time": "2025-08-19T17:27:01.419108",
     "status": "completed"
    },
    "tags": []
   },
   "source": [
    "By Group"
   ]
  },
  {
   "cell_type": "code",
   "execution_count": 60,
   "id": "ec325bce",
   "metadata": {
    "execution": {
     "iopub.execute_input": "2025-08-19T17:27:01.462582Z",
     "iopub.status.busy": "2025-08-19T17:27:01.462242Z",
     "iopub.status.idle": "2025-08-19T17:27:01.663679Z",
     "shell.execute_reply": "2025-08-19T17:27:01.662565Z"
    },
    "papermill": {
     "duration": 0.217646,
     "end_time": "2025-08-19T17:27:01.665154",
     "exception": false,
     "start_time": "2025-08-19T17:27:01.447508",
     "status": "completed"
    },
    "tags": []
   },
   "outputs": [
    {
     "data": {
      "text/html": [
       "<div>\n",
       "<style scoped>\n",
       "    .dataframe tbody tr th:only-of-type {\n",
       "        vertical-align: middle;\n",
       "    }\n",
       "\n",
       "    .dataframe tbody tr th {\n",
       "        vertical-align: top;\n",
       "    }\n",
       "\n",
       "    .dataframe thead th {\n",
       "        text-align: right;\n",
       "    }\n",
       "</style>\n",
       "<table border=\"1\" class=\"dataframe\">\n",
       "  <thead>\n",
       "    <tr style=\"text-align: right;\">\n",
       "      <th></th>\n",
       "      <th>accuracy</th>\n",
       "      <th>balanced accuracy</th>\n",
       "      <th>f1</th>\n",
       "      <th>precision</th>\n",
       "      <th>false positive rate</th>\n",
       "      <th>false negative rate</th>\n",
       "      <th>selection rate</th>\n",
       "      <th>count</th>\n",
       "    </tr>\n",
       "    <tr>\n",
       "      <th>majmin</th>\n",
       "      <th></th>\n",
       "      <th></th>\n",
       "      <th></th>\n",
       "      <th></th>\n",
       "      <th></th>\n",
       "      <th></th>\n",
       "      <th></th>\n",
       "      <th></th>\n",
       "    </tr>\n",
       "  </thead>\n",
       "  <tbody>\n",
       "    <tr>\n",
       "      <th>majority</th>\n",
       "      <td>0.242663</td>\n",
       "      <td>0.557323</td>\n",
       "      <td>0.255800</td>\n",
       "      <td>0.146985</td>\n",
       "      <td>0.870365</td>\n",
       "      <td>0.014989</td>\n",
       "      <td>0.885514</td>\n",
       "      <td>69170.0</td>\n",
       "    </tr>\n",
       "    <tr>\n",
       "      <th>minority</th>\n",
       "      <td>0.163389</td>\n",
       "      <td>0.521308</td>\n",
       "      <td>0.213763</td>\n",
       "      <td>0.119869</td>\n",
       "      <td>0.943870</td>\n",
       "      <td>0.013514</td>\n",
       "      <td>0.948783</td>\n",
       "      <td>20540.0</td>\n",
       "    </tr>\n",
       "  </tbody>\n",
       "</table>\n",
       "</div>"
      ],
      "text/plain": [
       "          accuracy  balanced accuracy        f1  precision  \\\n",
       "majmin                                                       \n",
       "majority  0.242663           0.557323  0.255800   0.146985   \n",
       "minority  0.163389           0.521308  0.213763   0.119869   \n",
       "\n",
       "          false positive rate  false negative rate  selection rate    count  \n",
       "majmin                                                                       \n",
       "majority             0.870365             0.014989        0.885514  69170.0  \n",
       "minority             0.943870             0.013514        0.948783  20540.0  "
      ]
     },
     "execution_count": 60,
     "metadata": {},
     "output_type": "execute_result"
    }
   ],
   "source": [
    "metric_frame.by_group"
   ]
  },
  {
   "cell_type": "code",
   "execution_count": 61,
   "id": "a9ddbe63",
   "metadata": {
    "execution": {
     "iopub.execute_input": "2025-08-19T17:27:01.694447Z",
     "iopub.status.busy": "2025-08-19T17:27:01.693993Z",
     "iopub.status.idle": "2025-08-19T17:27:03.769932Z",
     "shell.execute_reply": "2025-08-19T17:27:03.768847Z"
    },
    "papermill": {
     "duration": 2.092472,
     "end_time": "2025-08-19T17:27:03.771764",
     "exception": false,
     "start_time": "2025-08-19T17:27:01.679292",
     "status": "completed"
    },
    "tags": []
   },
   "outputs": [
    {
     "data": {
      "text/plain": [
       "array([[<Axes: title={'center': 'accuracy'}, xlabel='majmin'>,\n",
       "        <Axes: title={'center': 'balanced accuracy'}, xlabel='majmin'>,\n",
       "        <Axes: title={'center': 'f1'}, xlabel='majmin'>],\n",
       "       [<Axes: title={'center': 'precision'}, xlabel='majmin'>,\n",
       "        <Axes: title={'center': 'false positive rate'}, xlabel='majmin'>,\n",
       "        <Axes: title={'center': 'false negative rate'}, xlabel='majmin'>],\n",
       "       [<Axes: title={'center': 'selection rate'}, xlabel='majmin'>,\n",
       "        <Axes: title={'center': 'count'}, xlabel='majmin'>,\n",
       "        <Axes: xlabel='majmin'>]], dtype=object)"
      ]
     },
     "execution_count": 61,
     "metadata": {},
     "output_type": "execute_result"
    },
    {
     "data": {
      "image/png": "[encoded data removed]",
      "text/plain": [
       "<Figure size 1200x800 with 9 Axes>"
      ]
     },
     "metadata": {},
     "output_type": "display_data"
    }
   ],
   "source": [
    "# In a graphic\n",
    "metric_frame.by_group.plot.bar(\n",
    "    subplots=True,\n",
    "    layout=[3, 3],\n",
    "    legend=False,\n",
    "    figsize=[12, 8],\n",
    "    title=\"Show all metrics\",\n",
    ")"
   ]
  },
  {
   "cell_type": "markdown",
   "id": "f57a0bac",
   "metadata": {
    "papermill": {
     "duration": 0.015576,
     "end_time": "2025-08-19T17:27:03.803469",
     "exception": false,
     "start_time": "2025-08-19T17:27:03.787893",
     "status": "completed"
    },
    "tags": []
   },
   "source": [
    "# Final Output"
   ]
  },
  {
   "cell_type": "code",
   "execution_count": 62,
   "id": "96d280a3",
   "metadata": {
    "execution": {
     "iopub.execute_input": "2025-08-19T17:27:03.854968Z",
     "iopub.status.busy": "2025-08-19T17:27:03.850981Z",
     "iopub.status.idle": "2025-08-19T17:27:03.881235Z",
     "shell.execute_reply": "2025-08-19T17:27:03.880244Z"
    },
    "papermill": {
     "duration": 0.056735,
     "end_time": "2025-08-19T17:27:03.883335",
     "exception": false,
     "start_time": "2025-08-19T17:27:03.826600",
     "status": "completed"
    },
    "tags": []
   },
   "outputs": [
    {
     "data": {
      "text/plain": [
       "4"
      ]
     },
     "execution_count": 62,
     "metadata": {},
     "output_type": "execute_result"
    }
   ],
   "source": [
    "sub_universes = universe_analysis.generate_sub_universes()\n",
    "len(sub_universes)"
   ]
  },
  {
   "cell_type": "code",
   "execution_count": 63,
   "id": "92adf7ba",
   "metadata": {
    "execution": {
     "iopub.execute_input": "2025-08-19T17:27:03.916332Z",
     "iopub.status.busy": "2025-08-19T17:27:03.915366Z",
     "iopub.status.idle": "2025-08-19T17:27:03.933024Z",
     "shell.execute_reply": "2025-08-19T17:27:03.931123Z"
    },
    "papermill": {
     "duration": 0.036452,
     "end_time": "2025-08-19T17:27:03.935197",
     "exception": false,
     "start_time": "2025-08-19T17:27:03.898745",
     "status": "completed"
    },
    "tags": []
   },
   "outputs": [],
   "source": [
    "def filter_sub_universe_data(sub_universe, org_test):\n",
    "    # Keep all rows — no filtering\n",
    "    keep_rows_mask = np.ones(org_test.shape[0], dtype=bool)\n",
    "\n",
    "    print(f\"[INFO] Keeping all rows: {keep_rows_mask.sum()} rows retained.\")\n",
    "    return keep_rows_mask"
   ]
  },
  {
   "cell_type": "code",
   "execution_count": 64,
   "id": "4a759155",
   "metadata": {
    "execution": {
     "iopub.execute_input": "2025-08-19T17:27:03.977023Z",
     "iopub.status.busy": "2025-08-19T17:27:03.975594Z",
     "iopub.status.idle": "2025-08-19T17:27:11.521741Z",
     "shell.execute_reply": "2025-08-19T17:27:11.519961Z"
    },
    "papermill": {
     "duration": 7.566641,
     "end_time": "2025-08-19T17:27:11.523244",
     "exception": false,
     "start_time": "2025-08-19T17:27:03.956603",
     "status": "completed"
    },
    "tags": []
   },
   "outputs": [
    {
     "name": "stdout",
     "output_type": "stream",
     "text": [
      "Stopping execution_time clock.\n",
      "[INFO] Keeping all rows: 89710 rows retained.\n"
     ]
    },
    {
     "name": "stdout",
     "output_type": "stream",
     "text": [
      "[INFO] Keeping all rows: 89710 rows retained.\n"
     ]
    },
    {
     "name": "stdout",
     "output_type": "stream",
     "text": [
      "[INFO] Keeping all rows: 89710 rows retained.\n"
     ]
    },
    {
     "name": "stdout",
     "output_type": "stream",
     "text": [
      "[INFO] Keeping all rows: 89710 rows retained.\n"
     ]
    },
    {
     "data": {
      "text/html": [
       "<div>\n",
       "<style scoped>\n",
       "    .dataframe tbody tr th:only-of-type {\n",
       "        vertical-align: middle;\n",
       "    }\n",
       "\n",
       "    .dataframe tbody tr th {\n",
       "        vertical-align: top;\n",
       "    }\n",
       "\n",
       "    .dataframe thead th {\n",
       "        text-align: right;\n",
       "    }\n",
       "</style>\n",
       "<table border=\"1\" class=\"dataframe\">\n",
       "  <thead>\n",
       "    <tr style=\"text-align: right;\">\n",
       "      <th></th>\n",
       "      <th>run_no</th>\n",
       "      <th>universe_id</th>\n",
       "      <th>universe_settings</th>\n",
       "      <th>execution_time</th>\n",
       "      <th>test_size_n</th>\n",
       "      <th>test_size_frac</th>\n",
       "      <th>fair_main_equalized_odds_difference</th>\n",
       "      <th>fair_main_equalized_odds_ratio</th>\n",
       "      <th>fair_main_demographic_parity_difference</th>\n",
       "      <th>fair_main_demographic_parity_ratio</th>\n",
       "      <th>...</th>\n",
       "      <th>perf_grp_precision_0</th>\n",
       "      <th>perf_grp_precision_1</th>\n",
       "      <th>perf_grp_false positive rate_0</th>\n",
       "      <th>perf_grp_false positive rate_1</th>\n",
       "      <th>perf_grp_false negative rate_0</th>\n",
       "      <th>perf_grp_false negative rate_1</th>\n",
       "      <th>perf_grp_selection rate_0</th>\n",
       "      <th>perf_grp_selection rate_1</th>\n",
       "      <th>perf_grp_count_0</th>\n",
       "      <th>perf_grp_count_1</th>\n",
       "    </tr>\n",
       "  </thead>\n",
       "  <tbody>\n",
       "    <tr>\n",
       "      <th>0</th>\n",
       "      <td>2</td>\n",
       "      <td>268b1b88a8184128cbcf23d6d669432b</td>\n",
       "      <td>{\"cutoff\": \"quantile_0.1\", \"eval_fairness_grou...</td>\n",
       "      <td>21.699424</td>\n",
       "      <td>89710</td>\n",
       "      <td>1.0</td>\n",
       "      <td>0.073505</td>\n",
       "      <td>0.922124</td>\n",
       "      <td>0.063269</td>\n",
       "      <td>0.933316</td>\n",
       "      <td>...</td>\n",
       "      <td>NaN</td>\n",
       "      <td>NaN</td>\n",
       "      <td>NaN</td>\n",
       "      <td>NaN</td>\n",
       "      <td>NaN</td>\n",
       "      <td>NaN</td>\n",
       "      <td>NaN</td>\n",
       "      <td>NaN</td>\n",
       "      <td>NaN</td>\n",
       "      <td>NaN</td>\n",
       "    </tr>\n",
       "    <tr>\n",
       "      <th>0</th>\n",
       "      <td>2</td>\n",
       "      <td>268b1b88a8184128cbcf23d6d669432b</td>\n",
       "      <td>{\"cutoff\": \"quantile_0.1\", \"eval_fairness_grou...</td>\n",
       "      <td>21.699424</td>\n",
       "      <td>89710</td>\n",
       "      <td>1.0</td>\n",
       "      <td>0.073505</td>\n",
       "      <td>0.922124</td>\n",
       "      <td>0.063269</td>\n",
       "      <td>0.933316</td>\n",
       "      <td>...</td>\n",
       "      <td>0.119869</td>\n",
       "      <td>0.146985</td>\n",
       "      <td>0.943870</td>\n",
       "      <td>0.870365</td>\n",
       "      <td>0.013514</td>\n",
       "      <td>0.014989</td>\n",
       "      <td>0.948783</td>\n",
       "      <td>0.885514</td>\n",
       "      <td>20540.0</td>\n",
       "      <td>69170.0</td>\n",
       "    </tr>\n",
       "    <tr>\n",
       "      <th>0</th>\n",
       "      <td>2</td>\n",
       "      <td>268b1b88a8184128cbcf23d6d669432b</td>\n",
       "      <td>{\"cutoff\": \"quantile_0.25\", \"eval_fairness_gro...</td>\n",
       "      <td>21.699424</td>\n",
       "      <td>89710</td>\n",
       "      <td>1.0</td>\n",
       "      <td>0.149428</td>\n",
       "      <td>0.821508</td>\n",
       "      <td>0.129513</td>\n",
       "      <td>0.847606</td>\n",
       "      <td>...</td>\n",
       "      <td>NaN</td>\n",
       "      <td>NaN</td>\n",
       "      <td>NaN</td>\n",
       "      <td>NaN</td>\n",
       "      <td>NaN</td>\n",
       "      <td>NaN</td>\n",
       "      <td>NaN</td>\n",
       "      <td>NaN</td>\n",
       "      <td>NaN</td>\n",
       "      <td>NaN</td>\n",
       "    </tr>\n",
       "    <tr>\n",
       "      <th>0</th>\n",
       "      <td>2</td>\n",
       "      <td>268b1b88a8184128cbcf23d6d669432b</td>\n",
       "      <td>{\"cutoff\": \"quantile_0.25\", \"eval_fairness_gro...</td>\n",
       "      <td>21.699424</td>\n",
       "      <td>89710</td>\n",
       "      <td>1.0</td>\n",
       "      <td>0.149428</td>\n",
       "      <td>0.821508</td>\n",
       "      <td>0.129513</td>\n",
       "      <td>0.847606</td>\n",
       "      <td>...</td>\n",
       "      <td>0.128495</td>\n",
       "      <td>0.171417</td>\n",
       "      <td>0.837167</td>\n",
       "      <td>0.687739</td>\n",
       "      <td>0.052787</td>\n",
       "      <td>0.065536</td>\n",
       "      <td>0.849854</td>\n",
       "      <td>0.720341</td>\n",
       "      <td>20540.0</td>\n",
       "      <td>69170.0</td>\n",
       "    </tr>\n",
       "  </tbody>\n",
       "</table>\n",
       "<p>4 rows × 50 columns</p>\n",
       "</div>"
      ],
      "text/plain": [
       "  run_no                       universe_id  \\\n",
       "0      2  268b1b88a8184128cbcf23d6d669432b   \n",
       "0      2  268b1b88a8184128cbcf23d6d669432b   \n",
       "0      2  268b1b88a8184128cbcf23d6d669432b   \n",
       "0      2  268b1b88a8184128cbcf23d6d669432b   \n",
       "\n",
       "                                   universe_settings  execution_time  \\\n",
       "0  {\"cutoff\": \"quantile_0.1\", \"eval_fairness_grou...       21.699424   \n",
       "0  {\"cutoff\": \"quantile_0.1\", \"eval_fairness_grou...       21.699424   \n",
       "0  {\"cutoff\": \"quantile_0.25\", \"eval_fairness_gro...       21.699424   \n",
       "0  {\"cutoff\": \"quantile_0.25\", \"eval_fairness_gro...       21.699424   \n",
       "\n",
       "   test_size_n  test_size_frac  fair_main_equalized_odds_difference  \\\n",
       "0        89710             1.0                             0.073505   \n",
       "0        89710             1.0                             0.073505   \n",
       "0        89710             1.0                             0.149428   \n",
       "0        89710             1.0                             0.149428   \n",
       "\n",
       "   fair_main_equalized_odds_ratio  fair_main_demographic_parity_difference  \\\n",
       "0                        0.922124                                 0.063269   \n",
       "0                        0.922124                                 0.063269   \n",
       "0                        0.821508                                 0.129513   \n",
       "0                        0.821508                                 0.129513   \n",
       "\n",
       "   fair_main_demographic_parity_ratio  ...  perf_grp_precision_0  \\\n",
       "0                            0.933316  ...                   NaN   \n",
       "0                            0.933316  ...              0.119869   \n",
       "0                            0.847606  ...                   NaN   \n",
       "0                            0.847606  ...              0.128495   \n",
       "\n",
       "   perf_grp_precision_1  perf_grp_false positive rate_0  \\\n",
       "0                   NaN                             NaN   \n",
       "0              0.146985                        0.943870   \n",
       "0                   NaN                             NaN   \n",
       "0              0.171417                        0.837167   \n",
       "\n",
       "   perf_grp_false positive rate_1  perf_grp_false negative rate_0  \\\n",
       "0                             NaN                             NaN   \n",
       "0                        0.870365                        0.013514   \n",
       "0                             NaN                             NaN   \n",
       "0                        0.687739                        0.052787   \n",
       "\n",
       "   perf_grp_false negative rate_1  perf_grp_selection rate_0  \\\n",
       "0                             NaN                        NaN   \n",
       "0                        0.014989                   0.948783   \n",
       "0                             NaN                        NaN   \n",
       "0                        0.065536                   0.849854   \n",
       "\n",
       "   perf_grp_selection rate_1  perf_grp_count_0  perf_grp_count_1  \n",
       "0                        NaN               NaN               NaN  \n",
       "0                   0.885514           20540.0           69170.0  \n",
       "0                        NaN               NaN               NaN  \n",
       "0                   0.720341           20540.0           69170.0  \n",
       "\n",
       "[4 rows x 50 columns]"
      ]
     },
     "execution_count": 64,
     "metadata": {},
     "output_type": "execute_result"
    }
   ],
   "source": [
    "final_output = universe_analysis.generate_final_output(\n",
    "    y_pred_prob=probs_test,\n",
    "    y_test=y_true,\n",
    "    org_test=org_test,\n",
    "    filter_data=filter_sub_universe_data,\n",
    "    cp_metrics_df=cp_metrics_df,\n",
    "    save=True,\n",
    ")\n",
    "final_output"
   ]
  },
  {
   "cell_type": "code",
   "execution_count": null,
   "id": "571f9a0f-660a-4841-b661-b06fbc637944",
   "metadata": {
    "papermill": {
     "duration": 0.014594,
     "end_time": "2025-08-19T17:27:11.556332",
     "exception": false,
     "start_time": "2025-08-19T17:27:11.541738",
     "status": "completed"
    },
    "tags": []
   },
   "outputs": [],
   "source": []
  },
  {
   "cell_type": "code",
   "execution_count": null,
   "id": "529482e3-0150-4854-a92d-ab864efc606e",
   "metadata": {
    "papermill": {
     "duration": 0.015323,
     "end_time": "2025-08-19T17:27:11.586307",
     "exception": false,
     "start_time": "2025-08-19T17:27:11.570984",
     "status": "completed"
    },
    "tags": []
   },
   "outputs": [],
   "source": []
  }
 ],
 "metadata": {
  "celltoolbar": "Tags",
  "kernelspec": {
   "display_name": "Python (CMA Fairness)",
   "language": "python",
   "name": "cma_fair_env"
  },
  "language_info": {
   "codemirror_mode": {
    "name": "ipython",
    "version": 3
   },
   "file_extension": ".py",
   "mimetype": "text/x-python",
   "name": "python",
   "nbconvert_exporter": "python",
   "pygments_lexer": "ipython3",
   "version": "3.10.12"
  },
  "papermill": {
   "default_parameters": {},
   "duration": 32.967306,
   "end_time": "2025-08-19T17:27:12.527114",
   "environment_variables": {},
   "exception": null,
   "input_path": "universe_analysis.ipynb",
   "output_path": "output/runs/2/notebooks/m_2-268b1b88a8184128cbcf23d6d669432b.ipynb",
   "parameters": {
    "output_dir": "output",
    "run_no": "2",
    "seed": "2023",
    "universe": "{\"cutoff\": [\"quantile_0.1\", \"quantile_0.25\"], \"eval_fairness_grouping\": [\"majority-minority\", \"nationality-all\"], \"exclude_features\": \"nationality\", \"exclude_subgroups\": \"keep-all\", \"model\": \"penalized_logreg\", \"scale\": \"scale\", \"training_size\": \"5k\", \"training_year\": \"2014\"}",
    "universe_id": "268b1b88a8184128cbcf23d6d669432b"
   },
   "start_time": "2025-08-19T17:26:39.559808",
   "version": "2.6.0"
  }
 },
 "nbformat": 4,
 "nbformat_minor": 5
}