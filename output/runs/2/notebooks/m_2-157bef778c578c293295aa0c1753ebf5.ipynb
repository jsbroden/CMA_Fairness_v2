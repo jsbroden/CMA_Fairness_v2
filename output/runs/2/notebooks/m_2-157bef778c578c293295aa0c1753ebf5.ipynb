{
 "cells": [
  {
   "cell_type": "markdown",
   "id": "b2057076-3a91-4cfa-9bfd-eab1e61b3068",
   "metadata": {
    "papermill": {
     "duration": 0.016511,
     "end_time": "2025-08-19T16:55:55.059592",
     "exception": false,
     "start_time": "2025-08-19T16:55:55.043081",
     "status": "completed"
    },
    "tags": []
   },
   "source": [
    "# Setup"
   ]
  },
  {
   "cell_type": "code",
   "execution_count": 1,
   "id": "f159f837-637b-42ba-96b5-ec9a68c44524",
   "metadata": {
    "execution": {
     "iopub.execute_input": "2025-08-19T16:55:55.081905Z",
     "iopub.status.busy": "2025-08-19T16:55:55.080013Z",
     "iopub.status.idle": "2025-08-19T16:55:55.097162Z",
     "shell.execute_reply": "2025-08-19T16:55:55.096251Z"
    },
    "papermill": {
     "duration": 0.029821,
     "end_time": "2025-08-19T16:55:55.098770",
     "exception": false,
     "start_time": "2025-08-19T16:55:55.068949",
     "status": "completed"
    },
    "tags": []
   },
   "outputs": [
    {
     "name": "stdout",
     "output_type": "stream",
     "text": [
      "/dss/dsshome1/0C/ra93lal2/cma/CMA_Fairness_v2\n"
     ]
    },
    {
     "name": "stderr",
     "output_type": "stream",
     "text": [
      "/dss/dsshome1/0C/ra93lal2/.local/share/virtualenvs/CMA_Fairness_v2-3j10GkSs/lib/python3.10/site-packages/IPython/core/magics/osm.py:393: UserWarning: This is now an optional IPython functionality, using bookmarks requires you to install the `pickleshare` library.\n",
      "  bkms = self.shell.db.get('bookmarks', {})\n",
      "/dss/dsshome1/0C/ra93lal2/.local/share/virtualenvs/CMA_Fairness_v2-3j10GkSs/lib/python3.10/site-packages/IPython/core/magics/osm.py:417: UserWarning: This is now an optional IPython functionality, setting dhist requires you to install the `pickleshare` library.\n",
      "  self.shell.db['dhist'] = compress_dhist(dhist)[-100:]\n"
     ]
    }
   ],
   "source": [
    "%cd ~/cma/CMA_Fairness_v2"
   ]
  },
  {
   "cell_type": "markdown",
   "id": "de2603b9",
   "metadata": {
    "papermill": {
     "duration": 0.010849,
     "end_time": "2025-08-19T16:55:55.124349",
     "exception": false,
     "start_time": "2025-08-19T16:55:55.113500",
     "status": "completed"
    },
    "tags": []
   },
   "source": [
    "The following cell holds the definition of our parameters, these values can be overriden by rendering the with e.g. the following command:\n",
    "\n",
    "papermill -p alpha 0.2 -p ratio 0.3 universe_analysis.ipynb output/test_run.ipynb"
   ]
  },
  {
   "cell_type": "code",
   "execution_count": 2,
   "id": "a80968a0-40bb-4fa9-85ef-2d5eefb01975",
   "metadata": {
    "execution": {
     "iopub.execute_input": "2025-08-19T16:55:55.146059Z",
     "iopub.status.busy": "2025-08-19T16:55:55.144177Z",
     "iopub.status.idle": "2025-08-19T16:55:55.170075Z",
     "shell.execute_reply": "2025-08-19T16:55:55.167701Z"
    },
    "papermill": {
     "duration": 0.038561,
     "end_time": "2025-08-19T16:55:55.172058",
     "exception": false,
     "start_time": "2025-08-19T16:55:55.133497",
     "status": "completed"
    },
    "tags": []
   },
   "outputs": [
    {
     "name": "stdout",
     "output_type": "stream",
     "text": [
      "Current working directory: /dss/dsshome1/0C/ra93lal2/cma/CMA_Fairness_v2\n"
     ]
    }
   ],
   "source": [
    "import os\n",
    "print(\"Current working directory:\", os.getcwd())"
   ]
  },
  {
   "cell_type": "code",
   "execution_count": 3,
   "id": "2dce4c03",
   "metadata": {
    "execution": {
     "iopub.execute_input": "2025-08-19T16:55:55.198499Z",
     "iopub.status.busy": "2025-08-19T16:55:55.198132Z",
     "iopub.status.idle": "2025-08-19T16:55:55.205956Z",
     "shell.execute_reply": "2025-08-19T16:55:55.204832Z"
    },
    "papermill": {
     "duration": 0.020478,
     "end_time": "2025-08-19T16:55:55.207234",
     "exception": false,
     "start_time": "2025-08-19T16:55:55.186756",
     "status": "completed"
    },
    "tags": [
     "parameters"
    ]
   },
   "outputs": [],
   "source": [
    "run_no = 0\n",
    "universe_id = \"test\"\n",
    "universe = {\n",
    "    \"training_size\": \"5k\", # \"25k\", \"5k\", \"1k\"\n",
    "    \"training_year\": \"2012_14\", # \"2014\", \"2012_14\", \"2010_14\"\n",
    "    \"scale\": \"scale\", # \"scale\", \"do-not-scale\",\n",
    "    \"model\": \"elasticnet\", # \"logreg\", \"penalized_logreg\", \"rf\", \"gbm\", \"elasticnet\"\n",
    "    \"cutoff\": [\"quantile_0.15\", \"quantile_0.30\"],\n",
    "    \"exclude_features\": \"age\", # \"none\", \"nationality\", \"sex\", \"nationality-sex\", \"age\"\n",
    "    \"exclude_subgroups\": \"drop-non-german\", # \"keep-all\", \"drop-non-german\"\n",
    "    \"eval_fairness_grouping\": [\"majority-minority\", \"nationality-all\"]\n",
    "}\n",
    "\n",
    "output_dir=\"./output\"\n",
    "seed=0"
   ]
  },
  {
   "cell_type": "code",
   "execution_count": 4,
   "id": "819d230c",
   "metadata": {
    "execution": {
     "iopub.execute_input": "2025-08-19T16:55:55.234170Z",
     "iopub.status.busy": "2025-08-19T16:55:55.233910Z",
     "iopub.status.idle": "2025-08-19T16:55:55.238679Z",
     "shell.execute_reply": "2025-08-19T16:55:55.237771Z"
    },
    "papermill": {
     "duration": 0.022022,
     "end_time": "2025-08-19T16:55:55.241459",
     "exception": false,
     "start_time": "2025-08-19T16:55:55.219437",
     "status": "completed"
    },
    "tags": [
     "injected-parameters"
    ]
   },
   "outputs": [],
   "source": [
    "# Parameters\n",
    "universe_id = \"157bef778c578c293295aa0c1753ebf5\"\n",
    "run_no = \"2\"\n",
    "universe = \"{\\\"cutoff\\\": [\\\"quantile_0.1\\\", \\\"quantile_0.25\\\"], \\\"eval_fairness_grouping\\\": [\\\"majority-minority\\\", \\\"nationality-all\\\"], \\\"exclude_features\\\": \\\"nationality\\\", \\\"exclude_subgroups\\\": \\\"drop-non-german\\\", \\\"model\\\": \\\"logreg\\\", \\\"scale\\\": \\\"scale\\\", \\\"training_size\\\": \\\"25k\\\", \\\"training_year\\\": \\\"2014\\\"}\"\n",
    "output_dir = \"output\"\n",
    "seed = \"2023\"\n"
   ]
  },
  {
   "cell_type": "code",
   "execution_count": 5,
   "id": "1650acaf",
   "metadata": {
    "execution": {
     "iopub.execute_input": "2025-08-19T16:55:55.275245Z",
     "iopub.status.busy": "2025-08-19T16:55:55.274673Z",
     "iopub.status.idle": "2025-08-19T16:55:55.283845Z",
     "shell.execute_reply": "2025-08-19T16:55:55.281917Z"
    },
    "papermill": {
     "duration": 0.023632,
     "end_time": "2025-08-19T16:55:55.285789",
     "exception": false,
     "start_time": "2025-08-19T16:55:55.262157",
     "status": "completed"
    },
    "tags": []
   },
   "outputs": [],
   "source": [
    "import json\n",
    "if isinstance(universe, str):\n",
    "    universe = json.loads(universe)"
   ]
  },
  {
   "cell_type": "code",
   "execution_count": 6,
   "id": "16620c48",
   "metadata": {
    "execution": {
     "iopub.execute_input": "2025-08-19T16:55:55.312130Z",
     "iopub.status.busy": "2025-08-19T16:55:55.310221Z",
     "iopub.status.idle": "2025-08-19T16:55:55.369985Z",
     "shell.execute_reply": "2025-08-19T16:55:55.368643Z"
    },
    "papermill": {
     "duration": 0.074465,
     "end_time": "2025-08-19T16:55:55.372842",
     "exception": false,
     "start_time": "2025-08-19T16:55:55.298377",
     "status": "completed"
    },
    "tags": []
   },
   "outputs": [],
   "source": [
    "# Auto-reload the custom package\n",
    "%load_ext autoreload\n",
    "%autoreload 1\n",
    "%aimport fairness_multiverse"
   ]
  },
  {
   "cell_type": "code",
   "execution_count": 7,
   "id": "01c5c9f3",
   "metadata": {
    "execution": {
     "iopub.execute_input": "2025-08-19T16:55:55.409548Z",
     "iopub.status.busy": "2025-08-19T16:55:55.407858Z",
     "iopub.status.idle": "2025-08-19T16:56:04.601653Z",
     "shell.execute_reply": "2025-08-19T16:56:04.599959Z"
    },
    "papermill": {
     "duration": 9.209955,
     "end_time": "2025-08-19T16:56:04.604092",
     "exception": false,
     "start_time": "2025-08-19T16:55:55.394137",
     "status": "completed"
    },
    "tags": []
   },
   "outputs": [],
   "source": [
    "from fairness_multiverse.universe import UniverseAnalysis\n",
    "\n",
    "universe_analysis = UniverseAnalysis(\n",
    "    run_no = run_no,\n",
    "    universe_id = universe_id,\n",
    "    universe = universe,\n",
    "    output_dir=output_dir,\n",
    ")"
   ]
  },
  {
   "cell_type": "code",
   "execution_count": 8,
   "id": "106241f5",
   "metadata": {
    "execution": {
     "iopub.execute_input": "2025-08-19T16:56:04.637691Z",
     "iopub.status.busy": "2025-08-19T16:56:04.637168Z",
     "iopub.status.idle": "2025-08-19T16:56:04.643788Z",
     "shell.execute_reply": "2025-08-19T16:56:04.642973Z"
    },
    "papermill": {
     "duration": 0.019888,
     "end_time": "2025-08-19T16:56:04.644912",
     "exception": false,
     "start_time": "2025-08-19T16:56:04.625024",
     "status": "completed"
    },
    "tags": []
   },
   "outputs": [
    {
     "name": "stdout",
     "output_type": "stream",
     "text": [
      "Using Seed: 2023\n"
     ]
    }
   ],
   "source": [
    "import numpy as np\n",
    "parsed_seed = int(seed)\n",
    "np.random.seed(parsed_seed)\n",
    "print(f\"Using Seed: {parsed_seed}\")"
   ]
  },
  {
   "cell_type": "markdown",
   "id": "e0ebdc57",
   "metadata": {
    "papermill": {
     "duration": 0.009384,
     "end_time": "2025-08-19T16:56:04.664626",
     "exception": false,
     "start_time": "2025-08-19T16:56:04.655242",
     "status": "completed"
    },
    "tags": []
   },
   "source": [
    "# Loading Data"
   ]
  },
  {
   "cell_type": "code",
   "execution_count": 9,
   "id": "f0496b8a",
   "metadata": {
    "execution": {
     "iopub.execute_input": "2025-08-19T16:56:04.686375Z",
     "iopub.status.busy": "2025-08-19T16:56:04.684949Z",
     "iopub.status.idle": "2025-08-19T16:56:14.676814Z",
     "shell.execute_reply": "2025-08-19T16:56:14.673712Z"
    },
    "papermill": {
     "duration": 10.004286,
     "end_time": "2025-08-19T16:56:14.678045",
     "exception": false,
     "start_time": "2025-08-19T16:56:04.673759",
     "status": "completed"
    },
    "tags": []
   },
   "outputs": [
    {
     "name": "stdout",
     "output_type": "stream",
     "text": [
      "Loading SIAB data from cache: data/siab_cached.csv.gz\n"
     ]
    },
    {
     "name": "stdout",
     "output_type": "stream",
     "text": [
      "(643690, 164)\n"
     ]
    }
   ],
   "source": [
    "from pathlib import Path\n",
    "import pandas as pd\n",
    "\n",
    "# File paths\n",
    "raw_file = Path(\"data/raw/siab.csv\")\n",
    "cache_file = Path(\"data/siab_cached.csv.gz\")\n",
    "\n",
    "# Ensure cache directory exists\n",
    "cache_file.parent.mkdir(parents=True, exist_ok=True)\n",
    "\n",
    "# Load with simple caching\n",
    "if cache_file.exists():\n",
    "    print(f\"Loading SIAB data from cache: {cache_file}\")\n",
    "    siab = pd.read_csv(cache_file, compression='gzip')\n",
    "else:\n",
    "    print(f\"Cache not found. Reading raw SIAB data: {raw_file}\")\n",
    "    siab = pd.read_csv(raw_file)\n",
    "    siab.to_csv(cache_file, index=False, compression='gzip')\n",
    "    print(f\"Cached SIAB data to: {cache_file}\")\n",
    "\n",
    "print(siab.shape)"
   ]
  },
  {
   "cell_type": "code",
   "execution_count": 10,
   "id": "db0ca512-5f53-4dba-abdb-a2888bca41ba",
   "metadata": {
    "execution": {
     "iopub.execute_input": "2025-08-19T16:56:14.706610Z",
     "iopub.status.busy": "2025-08-19T16:56:14.705530Z",
     "iopub.status.idle": "2025-08-19T16:56:14.854692Z",
     "shell.execute_reply": "2025-08-19T16:56:14.853916Z"
    },
    "papermill": {
     "duration": 0.166627,
     "end_time": "2025-08-19T16:56:14.858253",
     "exception": false,
     "start_time": "2025-08-19T16:56:14.691626",
     "status": "completed"
    },
    "tags": []
   },
   "outputs": [
    {
     "data": {
      "text/html": [
       "<div>\n",
       "<style scoped>\n",
       "    .dataframe tbody tr th:only-of-type {\n",
       "        vertical-align: middle;\n",
       "    }\n",
       "\n",
       "    .dataframe tbody tr th {\n",
       "        vertical-align: top;\n",
       "    }\n",
       "\n",
       "    .dataframe thead th {\n",
       "        text-align: right;\n",
       "    }\n",
       "</style>\n",
       "<table border=\"1\" class=\"dataframe\">\n",
       "  <thead>\n",
       "    <tr style=\"text-align: right;\">\n",
       "      <th></th>\n",
       "      <th>persnr</th>\n",
       "      <th>year</th>\n",
       "      <th>nrEntry</th>\n",
       "      <th>ltue</th>\n",
       "      <th>employed_before</th>\n",
       "      <th>receipt_leh_before</th>\n",
       "      <th>receipt_lhg_before</th>\n",
       "      <th>se_before</th>\n",
       "      <th>ASU_notue_seeking_before</th>\n",
       "      <th>ASU_other_before</th>\n",
       "      <th>...</th>\n",
       "      <th>minijob_tot_dur_byage</th>\n",
       "      <th>ft_tot_dur_byage</th>\n",
       "      <th>befrist_tot_dur_byage</th>\n",
       "      <th>leih_tot_dur_byage</th>\n",
       "      <th>LHG_tot_dur_byage</th>\n",
       "      <th>LEH_tot_dur_byage</th>\n",
       "      <th>almp_tot_dur_byage</th>\n",
       "      <th>almp_aw_tot_dur_byage</th>\n",
       "      <th>se_tot_dur_byage</th>\n",
       "      <th>seeking1_tot_dur_byage</th>\n",
       "    </tr>\n",
       "  </thead>\n",
       "  <tbody>\n",
       "    <tr>\n",
       "      <th>0</th>\n",
       "      <td>7</td>\n",
       "      <td>2015</td>\n",
       "      <td>1</td>\n",
       "      <td>0</td>\n",
       "      <td>1</td>\n",
       "      <td>0</td>\n",
       "      <td>0</td>\n",
       "      <td>0</td>\n",
       "      <td>1</td>\n",
       "      <td>0</td>\n",
       "      <td>...</td>\n",
       "      <td>0.000000</td>\n",
       "      <td>0.000000</td>\n",
       "      <td>15.043478</td>\n",
       "      <td>0.000000</td>\n",
       "      <td>0.000000</td>\n",
       "      <td>0.000000</td>\n",
       "      <td>0.000000</td>\n",
       "      <td>0.000000</td>\n",
       "      <td>0.000000</td>\n",
       "      <td>0.000000</td>\n",
       "    </tr>\n",
       "    <tr>\n",
       "      <th>1</th>\n",
       "      <td>18</td>\n",
       "      <td>2010</td>\n",
       "      <td>1</td>\n",
       "      <td>1</td>\n",
       "      <td>0</td>\n",
       "      <td>0</td>\n",
       "      <td>0</td>\n",
       "      <td>0</td>\n",
       "      <td>0</td>\n",
       "      <td>0</td>\n",
       "      <td>...</td>\n",
       "      <td>0.000000</td>\n",
       "      <td>0.000000</td>\n",
       "      <td>0.000000</td>\n",
       "      <td>0.000000</td>\n",
       "      <td>0.000000</td>\n",
       "      <td>0.000000</td>\n",
       "      <td>0.000000</td>\n",
       "      <td>0.000000</td>\n",
       "      <td>0.000000</td>\n",
       "      <td>0.000000</td>\n",
       "    </tr>\n",
       "    <tr>\n",
       "      <th>2</th>\n",
       "      <td>18</td>\n",
       "      <td>2011</td>\n",
       "      <td>2</td>\n",
       "      <td>0</td>\n",
       "      <td>1</td>\n",
       "      <td>0</td>\n",
       "      <td>1</td>\n",
       "      <td>0</td>\n",
       "      <td>1</td>\n",
       "      <td>0</td>\n",
       "      <td>...</td>\n",
       "      <td>2.714286</td>\n",
       "      <td>2.714286</td>\n",
       "      <td>0.000000</td>\n",
       "      <td>0.000000</td>\n",
       "      <td>10.775510</td>\n",
       "      <td>0.000000</td>\n",
       "      <td>8.367347</td>\n",
       "      <td>0.000000</td>\n",
       "      <td>0.000000</td>\n",
       "      <td>9.836735</td>\n",
       "    </tr>\n",
       "    <tr>\n",
       "      <th>3</th>\n",
       "      <td>18</td>\n",
       "      <td>2012</td>\n",
       "      <td>3</td>\n",
       "      <td>0</td>\n",
       "      <td>1</td>\n",
       "      <td>0</td>\n",
       "      <td>1</td>\n",
       "      <td>0</td>\n",
       "      <td>1</td>\n",
       "      <td>0</td>\n",
       "      <td>...</td>\n",
       "      <td>4.200000</td>\n",
       "      <td>4.200000</td>\n",
       "      <td>0.000000</td>\n",
       "      <td>0.000000</td>\n",
       "      <td>12.100000</td>\n",
       "      <td>0.000000</td>\n",
       "      <td>9.400000</td>\n",
       "      <td>0.000000</td>\n",
       "      <td>0.000000</td>\n",
       "      <td>9.960000</td>\n",
       "    </tr>\n",
       "    <tr>\n",
       "      <th>4</th>\n",
       "      <td>18</td>\n",
       "      <td>2012</td>\n",
       "      <td>4</td>\n",
       "      <td>0</td>\n",
       "      <td>1</td>\n",
       "      <td>0</td>\n",
       "      <td>1</td>\n",
       "      <td>0</td>\n",
       "      <td>1</td>\n",
       "      <td>0</td>\n",
       "      <td>...</td>\n",
       "      <td>5.460000</td>\n",
       "      <td>5.460000</td>\n",
       "      <td>0.000000</td>\n",
       "      <td>0.000000</td>\n",
       "      <td>13.360000</td>\n",
       "      <td>0.000000</td>\n",
       "      <td>10.320000</td>\n",
       "      <td>0.000000</td>\n",
       "      <td>0.000000</td>\n",
       "      <td>10.280000</td>\n",
       "    </tr>\n",
       "    <tr>\n",
       "      <th>...</th>\n",
       "      <td>...</td>\n",
       "      <td>...</td>\n",
       "      <td>...</td>\n",
       "      <td>...</td>\n",
       "      <td>...</td>\n",
       "      <td>...</td>\n",
       "      <td>...</td>\n",
       "      <td>...</td>\n",
       "      <td>...</td>\n",
       "      <td>...</td>\n",
       "      <td>...</td>\n",
       "      <td>...</td>\n",
       "      <td>...</td>\n",
       "      <td>...</td>\n",
       "      <td>...</td>\n",
       "      <td>...</td>\n",
       "      <td>...</td>\n",
       "      <td>...</td>\n",
       "      <td>...</td>\n",
       "      <td>...</td>\n",
       "      <td>...</td>\n",
       "    </tr>\n",
       "    <tr>\n",
       "      <th>643685</th>\n",
       "      <td>1827860</td>\n",
       "      <td>2013</td>\n",
       "      <td>1</td>\n",
       "      <td>0</td>\n",
       "      <td>0</td>\n",
       "      <td>0</td>\n",
       "      <td>1</td>\n",
       "      <td>0</td>\n",
       "      <td>0</td>\n",
       "      <td>1</td>\n",
       "      <td>...</td>\n",
       "      <td>0.000000</td>\n",
       "      <td>0.000000</td>\n",
       "      <td>0.000000</td>\n",
       "      <td>0.000000</td>\n",
       "      <td>0.612903</td>\n",
       "      <td>0.000000</td>\n",
       "      <td>0.000000</td>\n",
       "      <td>0.000000</td>\n",
       "      <td>0.000000</td>\n",
       "      <td>0.000000</td>\n",
       "    </tr>\n",
       "    <tr>\n",
       "      <th>643686</th>\n",
       "      <td>1827860</td>\n",
       "      <td>2015</td>\n",
       "      <td>2</td>\n",
       "      <td>1</td>\n",
       "      <td>0</td>\n",
       "      <td>0</td>\n",
       "      <td>1</td>\n",
       "      <td>0</td>\n",
       "      <td>1</td>\n",
       "      <td>0</td>\n",
       "      <td>...</td>\n",
       "      <td>0.000000</td>\n",
       "      <td>0.000000</td>\n",
       "      <td>0.212121</td>\n",
       "      <td>0.212121</td>\n",
       "      <td>17.363636</td>\n",
       "      <td>0.000000</td>\n",
       "      <td>8.909091</td>\n",
       "      <td>0.000000</td>\n",
       "      <td>0.000000</td>\n",
       "      <td>7.121212</td>\n",
       "    </tr>\n",
       "    <tr>\n",
       "      <th>643687</th>\n",
       "      <td>1827860</td>\n",
       "      <td>2016</td>\n",
       "      <td>3</td>\n",
       "      <td>1</td>\n",
       "      <td>0</td>\n",
       "      <td>0</td>\n",
       "      <td>1</td>\n",
       "      <td>1</td>\n",
       "      <td>0</td>\n",
       "      <td>1</td>\n",
       "      <td>...</td>\n",
       "      <td>0.000000</td>\n",
       "      <td>0.000000</td>\n",
       "      <td>0.294118</td>\n",
       "      <td>0.205882</td>\n",
       "      <td>34.705882</td>\n",
       "      <td>0.000000</td>\n",
       "      <td>10.352941</td>\n",
       "      <td>1.705882</td>\n",
       "      <td>1.705882</td>\n",
       "      <td>23.911765</td>\n",
       "    </tr>\n",
       "    <tr>\n",
       "      <th>643688</th>\n",
       "      <td>1827869</td>\n",
       "      <td>2013</td>\n",
       "      <td>1</td>\n",
       "      <td>1</td>\n",
       "      <td>1</td>\n",
       "      <td>0</td>\n",
       "      <td>0</td>\n",
       "      <td>0</td>\n",
       "      <td>1</td>\n",
       "      <td>0</td>\n",
       "      <td>...</td>\n",
       "      <td>0.000000</td>\n",
       "      <td>0.000000</td>\n",
       "      <td>0.000000</td>\n",
       "      <td>0.000000</td>\n",
       "      <td>0.000000</td>\n",
       "      <td>0.525424</td>\n",
       "      <td>0.000000</td>\n",
       "      <td>0.000000</td>\n",
       "      <td>0.000000</td>\n",
       "      <td>0.000000</td>\n",
       "    </tr>\n",
       "    <tr>\n",
       "      <th>643689</th>\n",
       "      <td>1827869</td>\n",
       "      <td>2014</td>\n",
       "      <td>2</td>\n",
       "      <td>0</td>\n",
       "      <td>0</td>\n",
       "      <td>1</td>\n",
       "      <td>0</td>\n",
       "      <td>0</td>\n",
       "      <td>1</td>\n",
       "      <td>0</td>\n",
       "      <td>...</td>\n",
       "      <td>0.000000</td>\n",
       "      <td>0.666667</td>\n",
       "      <td>0.666667</td>\n",
       "      <td>0.000000</td>\n",
       "      <td>0.000000</td>\n",
       "      <td>8.950000</td>\n",
       "      <td>1.033333</td>\n",
       "      <td>0.083333</td>\n",
       "      <td>0.083333</td>\n",
       "      <td>8.133333</td>\n",
       "    </tr>\n",
       "  </tbody>\n",
       "</table>\n",
       "<p>643690 rows × 164 columns</p>\n",
       "</div>"
      ],
      "text/plain": [
       "         persnr  year  nrEntry  ltue  employed_before  receipt_leh_before  \\\n",
       "0             7  2015        1     0                1                   0   \n",
       "1            18  2010        1     1                0                   0   \n",
       "2            18  2011        2     0                1                   0   \n",
       "3            18  2012        3     0                1                   0   \n",
       "4            18  2012        4     0                1                   0   \n",
       "...         ...   ...      ...   ...              ...                 ...   \n",
       "643685  1827860  2013        1     0                0                   0   \n",
       "643686  1827860  2015        2     1                0                   0   \n",
       "643687  1827860  2016        3     1                0                   0   \n",
       "643688  1827869  2013        1     1                1                   0   \n",
       "643689  1827869  2014        2     0                0                   1   \n",
       "\n",
       "        receipt_lhg_before  se_before  ASU_notue_seeking_before  \\\n",
       "0                        0          0                         1   \n",
       "1                        0          0                         0   \n",
       "2                        1          0                         1   \n",
       "3                        1          0                         1   \n",
       "4                        1          0                         1   \n",
       "...                    ...        ...                       ...   \n",
       "643685                   1          0                         0   \n",
       "643686                   1          0                         1   \n",
       "643687                   1          1                         0   \n",
       "643688                   0          0                         1   \n",
       "643689                   0          0                         1   \n",
       "\n",
       "        ASU_other_before  ...  minijob_tot_dur_byage  ft_tot_dur_byage  \\\n",
       "0                      0  ...               0.000000          0.000000   \n",
       "1                      0  ...               0.000000          0.000000   \n",
       "2                      0  ...               2.714286          2.714286   \n",
       "3                      0  ...               4.200000          4.200000   \n",
       "4                      0  ...               5.460000          5.460000   \n",
       "...                  ...  ...                    ...               ...   \n",
       "643685                 1  ...               0.000000          0.000000   \n",
       "643686                 0  ...               0.000000          0.000000   \n",
       "643687                 1  ...               0.000000          0.000000   \n",
       "643688                 0  ...               0.000000          0.000000   \n",
       "643689                 0  ...               0.000000          0.666667   \n",
       "\n",
       "        befrist_tot_dur_byage  leih_tot_dur_byage  LHG_tot_dur_byage  \\\n",
       "0                   15.043478            0.000000           0.000000   \n",
       "1                    0.000000            0.000000           0.000000   \n",
       "2                    0.000000            0.000000          10.775510   \n",
       "3                    0.000000            0.000000          12.100000   \n",
       "4                    0.000000            0.000000          13.360000   \n",
       "...                       ...                 ...                ...   \n",
       "643685               0.000000            0.000000           0.612903   \n",
       "643686               0.212121            0.212121          17.363636   \n",
       "643687               0.294118            0.205882          34.705882   \n",
       "643688               0.000000            0.000000           0.000000   \n",
       "643689               0.666667            0.000000           0.000000   \n",
       "\n",
       "        LEH_tot_dur_byage  almp_tot_dur_byage  almp_aw_tot_dur_byage  \\\n",
       "0                0.000000            0.000000               0.000000   \n",
       "1                0.000000            0.000000               0.000000   \n",
       "2                0.000000            8.367347               0.000000   \n",
       "3                0.000000            9.400000               0.000000   \n",
       "4                0.000000           10.320000               0.000000   \n",
       "...                   ...                 ...                    ...   \n",
       "643685           0.000000            0.000000               0.000000   \n",
       "643686           0.000000            8.909091               0.000000   \n",
       "643687           0.000000           10.352941               1.705882   \n",
       "643688           0.525424            0.000000               0.000000   \n",
       "643689           8.950000            1.033333               0.083333   \n",
       "\n",
       "        se_tot_dur_byage  seeking1_tot_dur_byage  \n",
       "0               0.000000                0.000000  \n",
       "1               0.000000                0.000000  \n",
       "2               0.000000                9.836735  \n",
       "3               0.000000                9.960000  \n",
       "4               0.000000               10.280000  \n",
       "...                  ...                     ...  \n",
       "643685          0.000000                0.000000  \n",
       "643686          0.000000                7.121212  \n",
       "643687          1.705882               23.911765  \n",
       "643688          0.000000                0.000000  \n",
       "643689          0.083333                8.133333  \n",
       "\n",
       "[643690 rows x 164 columns]"
      ]
     },
     "execution_count": 10,
     "metadata": {},
     "output_type": "execute_result"
    }
   ],
   "source": [
    "siab"
   ]
  },
  {
   "cell_type": "markdown",
   "id": "997051c5-15bd-4b69-9786-c3001a3ce484",
   "metadata": {
    "papermill": {
     "duration": 0.011678,
     "end_time": "2025-08-19T16:56:14.892448",
     "exception": false,
     "start_time": "2025-08-19T16:56:14.880770",
     "status": "completed"
    },
    "tags": []
   },
   "source": [
    "# Splitting Data and Setting Training Data Size"
   ]
  },
  {
   "cell_type": "code",
   "execution_count": 11,
   "id": "aea9c6ef-6f46-42c8-85eb-5a62025c1508",
   "metadata": {
    "execution": {
     "iopub.execute_input": "2025-08-19T16:56:14.914236Z",
     "iopub.status.busy": "2025-08-19T16:56:14.913723Z",
     "iopub.status.idle": "2025-08-19T16:56:15.290884Z",
     "shell.execute_reply": "2025-08-19T16:56:15.289893Z"
    },
    "papermill": {
     "duration": 0.390187,
     "end_time": "2025-08-19T16:56:15.292496",
     "exception": false,
     "start_time": "2025-08-19T16:56:14.902309",
     "status": "completed"
    },
    "tags": []
   },
   "outputs": [],
   "source": [
    "from fairness_multiverse.universe import sample_by_year_size\n",
    "\n",
    "siab_train = sample_by_year_size(siab,\n",
    "                               training_year=universe[\"training_year\"],\n",
    "                               training_size=universe[\"training_size\"])"
   ]
  },
  {
   "cell_type": "code",
   "execution_count": 12,
   "id": "8d3afb32-789d-442c-8d5d-9f5aa8dd2eed",
   "metadata": {
    "execution": {
     "iopub.execute_input": "2025-08-19T16:56:15.327320Z",
     "iopub.status.busy": "2025-08-19T16:56:15.325815Z",
     "iopub.status.idle": "2025-08-19T16:56:15.336632Z",
     "shell.execute_reply": "2025-08-19T16:56:15.335032Z"
    },
    "papermill": {
     "duration": 0.02636,
     "end_time": "2025-08-19T16:56:15.338483",
     "exception": false,
     "start_time": "2025-08-19T16:56:15.312123",
     "status": "completed"
    },
    "tags": []
   },
   "outputs": [
    {
     "data": {
      "text/plain": [
       "(25000, 164)"
      ]
     },
     "execution_count": 12,
     "metadata": {},
     "output_type": "execute_result"
    }
   ],
   "source": [
    "siab_train.shape"
   ]
  },
  {
   "cell_type": "code",
   "execution_count": 13,
   "id": "d582db68-1a4c-47fb-84fc-08518dc1975a",
   "metadata": {
    "execution": {
     "iopub.execute_input": "2025-08-19T16:56:15.366193Z",
     "iopub.status.busy": "2025-08-19T16:56:15.365486Z",
     "iopub.status.idle": "2025-08-19T16:56:15.382590Z",
     "shell.execute_reply": "2025-08-19T16:56:15.380571Z"
    },
    "papermill": {
     "duration": 0.034647,
     "end_time": "2025-08-19T16:56:15.385008",
     "exception": false,
     "start_time": "2025-08-19T16:56:15.350361",
     "status": "completed"
    },
    "tags": []
   },
   "outputs": [
    {
     "data": {
      "text/plain": [
       "year\n",
       "2014    25000\n",
       "dtype: int64"
      ]
     },
     "metadata": {},
     "output_type": "display_data"
    }
   ],
   "source": [
    "display(siab_train.groupby(\"year\").size())"
   ]
  },
  {
   "cell_type": "code",
   "execution_count": 14,
   "id": "a561edb4-d032-42cb-8256-22eac1111c64",
   "metadata": {
    "execution": {
     "iopub.execute_input": "2025-08-19T16:56:15.418506Z",
     "iopub.status.busy": "2025-08-19T16:56:15.416754Z",
     "iopub.status.idle": "2025-08-19T16:56:15.778525Z",
     "shell.execute_reply": "2025-08-19T16:56:15.777595Z"
    },
    "papermill": {
     "duration": 0.379089,
     "end_time": "2025-08-19T16:56:15.780085",
     "exception": false,
     "start_time": "2025-08-19T16:56:15.400996",
     "status": "completed"
    },
    "tags": []
   },
   "outputs": [],
   "source": [
    "#siab_train = siab_s[siab_s.year < 2015]\n",
    "siab_calib = siab[siab.year == 2015]\n",
    "siab_test = siab[siab.year == 2016]"
   ]
  },
  {
   "cell_type": "code",
   "execution_count": 15,
   "id": "bc10fe59",
   "metadata": {
    "execution": {
     "iopub.execute_input": "2025-08-19T16:56:15.804651Z",
     "iopub.status.busy": "2025-08-19T16:56:15.803085Z",
     "iopub.status.idle": "2025-08-19T16:56:15.809839Z",
     "shell.execute_reply": "2025-08-19T16:56:15.808649Z"
    },
    "papermill": {
     "duration": 0.01987,
     "end_time": "2025-08-19T16:56:15.811473",
     "exception": false,
     "start_time": "2025-08-19T16:56:15.791603",
     "status": "completed"
    },
    "tags": []
   },
   "outputs": [],
   "source": [
    "#siab_calib.shape"
   ]
  },
  {
   "cell_type": "code",
   "execution_count": 16,
   "id": "d6aeff2f",
   "metadata": {
    "execution": {
     "iopub.execute_input": "2025-08-19T16:56:15.838778Z",
     "iopub.status.busy": "2025-08-19T16:56:15.835081Z",
     "iopub.status.idle": "2025-08-19T16:56:15.843826Z",
     "shell.execute_reply": "2025-08-19T16:56:15.842904Z"
    },
    "papermill": {
     "duration": 0.022053,
     "end_time": "2025-08-19T16:56:15.845111",
     "exception": false,
     "start_time": "2025-08-19T16:56:15.823058",
     "status": "completed"
    },
    "tags": []
   },
   "outputs": [],
   "source": [
    "#siab_test.shape"
   ]
  },
  {
   "cell_type": "code",
   "execution_count": 17,
   "id": "472de16f-c3db-4916-846b-1f0de9cf1746",
   "metadata": {
    "execution": {
     "iopub.execute_input": "2025-08-19T16:56:15.874205Z",
     "iopub.status.busy": "2025-08-19T16:56:15.867663Z",
     "iopub.status.idle": "2025-08-19T16:56:15.892190Z",
     "shell.execute_reply": "2025-08-19T16:56:15.890550Z"
    },
    "papermill": {
     "duration": 0.038481,
     "end_time": "2025-08-19T16:56:15.894009",
     "exception": false,
     "start_time": "2025-08-19T16:56:15.855528",
     "status": "completed"
    },
    "tags": []
   },
   "outputs": [],
   "source": [
    "X_train = siab_train.iloc[:,4:164]\n",
    "y_train = siab_train.iloc[:, [3]]"
   ]
  },
  {
   "cell_type": "code",
   "execution_count": null,
   "id": "a843c1c8",
   "metadata": {
    "papermill": {
     "duration": 0.01023,
     "end_time": "2025-08-19T16:56:15.914615",
     "exception": false,
     "start_time": "2025-08-19T16:56:15.904385",
     "status": "completed"
    },
    "tags": []
   },
   "outputs": [],
   "source": []
  },
  {
   "cell_type": "code",
   "execution_count": 18,
   "id": "828c96af-f43a-4ed6-ba47-8ac73a47d56c",
   "metadata": {
    "execution": {
     "iopub.execute_input": "2025-08-19T16:56:15.937801Z",
     "iopub.status.busy": "2025-08-19T16:56:15.936540Z",
     "iopub.status.idle": "2025-08-19T16:56:15.998575Z",
     "shell.execute_reply": "2025-08-19T16:56:15.997011Z"
    },
    "papermill": {
     "duration": 0.08421,
     "end_time": "2025-08-19T16:56:16.009007",
     "exception": false,
     "start_time": "2025-08-19T16:56:15.924797",
     "status": "completed"
    },
    "tags": []
   },
   "outputs": [],
   "source": [
    "X_calib = siab_calib.iloc[:,4:164]\n",
    "y_calib = siab_calib.iloc[:, [3]]"
   ]
  },
  {
   "cell_type": "code",
   "execution_count": 19,
   "id": "c34be9c3-6bd6-476e-acd3-845840e303be",
   "metadata": {
    "execution": {
     "iopub.execute_input": "2025-08-19T16:56:16.053402Z",
     "iopub.status.busy": "2025-08-19T16:56:16.052861Z",
     "iopub.status.idle": "2025-08-19T16:56:16.138186Z",
     "shell.execute_reply": "2025-08-19T16:56:16.137291Z"
    },
    "papermill": {
     "duration": 0.10597,
     "end_time": "2025-08-19T16:56:16.140735",
     "exception": false,
     "start_time": "2025-08-19T16:56:16.034765",
     "status": "completed"
    },
    "tags": []
   },
   "outputs": [],
   "source": [
    "X_test = siab_test.iloc[:,4:164]\n",
    "y_true = siab_test.iloc[:, [3]]"
   ]
  },
  {
   "cell_type": "code",
   "execution_count": 20,
   "id": "e6c733c5",
   "metadata": {
    "execution": {
     "iopub.execute_input": "2025-08-19T16:56:16.269596Z",
     "iopub.status.busy": "2025-08-19T16:56:16.269235Z",
     "iopub.status.idle": "2025-08-19T16:56:16.461736Z",
     "shell.execute_reply": "2025-08-19T16:56:16.460736Z"
    },
    "papermill": {
     "duration": 0.29525,
     "end_time": "2025-08-19T16:56:16.464400",
     "exception": false,
     "start_time": "2025-08-19T16:56:16.169150",
     "status": "completed"
    },
    "tags": []
   },
   "outputs": [],
   "source": [
    "# Auxiliary data needed downstream in the pipeline\n",
    "\n",
    "org_train = X_train.copy()\n",
    "org_test = X_test.copy()\n",
    "org_calib = X_calib.copy()"
   ]
  },
  {
   "cell_type": "markdown",
   "id": "0a4a1b33",
   "metadata": {
    "papermill": {
     "duration": 0.011336,
     "end_time": "2025-08-19T16:56:16.500385",
     "exception": false,
     "start_time": "2025-08-19T16:56:16.489049",
     "status": "completed"
    },
    "tags": []
   },
   "source": [
    "# Preprocessing Data"
   ]
  },
  {
   "cell_type": "code",
   "execution_count": 21,
   "id": "ca879031",
   "metadata": {
    "execution": {
     "iopub.execute_input": "2025-08-19T16:56:16.525791Z",
     "iopub.status.busy": "2025-08-19T16:56:16.523989Z",
     "iopub.status.idle": "2025-08-19T16:56:16.534446Z",
     "shell.execute_reply": "2025-08-19T16:56:16.532884Z"
    },
    "papermill": {
     "duration": 0.025963,
     "end_time": "2025-08-19T16:56:16.537182",
     "exception": false,
     "start_time": "2025-08-19T16:56:16.511219",
     "status": "completed"
    },
    "tags": []
   },
   "outputs": [],
   "source": [
    "# EXCLUDE PROTECTED FEATURES\n",
    "# --------------------------\n",
    "\n",
    "excluded_features = universe[\"exclude_features\"].split(\"-\")\n",
    "excluded_features_dictionary = {\n",
    "    \"nationality\": [\"maxdeutsch1\", \"maxdeutsch.Missing.\"],\n",
    "    \"sex\": [\"frau1\"],\n",
    "    \"age\": [\"age\"],\n",
    "}"
   ]
  },
  {
   "cell_type": "code",
   "execution_count": 22,
   "id": "b745ac60",
   "metadata": {
    "execution": {
     "iopub.execute_input": "2025-08-19T16:56:16.566164Z",
     "iopub.status.busy": "2025-08-19T16:56:16.564785Z",
     "iopub.status.idle": "2025-08-19T16:56:16.629117Z",
     "shell.execute_reply": "2025-08-19T16:56:16.627213Z"
    },
    "papermill": {
     "duration": 0.080389,
     "end_time": "2025-08-19T16:56:16.632548",
     "exception": false,
     "start_time": "2025-08-19T16:56:16.552159",
     "status": "completed"
    },
    "tags": []
   },
   "outputs": [],
   "source": [
    "excluded_features_columns = [\n",
    "    excluded_features_dictionary[f] for f in excluded_features if len(f) > 0 and f != \"none\"\n",
    "]"
   ]
  },
  {
   "cell_type": "code",
   "execution_count": 23,
   "id": "f84f73a2",
   "metadata": {
    "execution": {
     "iopub.execute_input": "2025-08-19T16:56:16.669622Z",
     "iopub.status.busy": "2025-08-19T16:56:16.668389Z",
     "iopub.status.idle": "2025-08-19T16:56:16.696911Z",
     "shell.execute_reply": "2025-08-19T16:56:16.695171Z"
    },
    "papermill": {
     "duration": 0.043568,
     "end_time": "2025-08-19T16:56:16.698653",
     "exception": false,
     "start_time": "2025-08-19T16:56:16.655085",
     "status": "completed"
    },
    "tags": []
   },
   "outputs": [],
   "source": [
    "from fairness_multiverse.universe import flatten_once\n",
    "\n",
    "excluded_features_columns = flatten_once(excluded_features_columns)"
   ]
  },
  {
   "cell_type": "code",
   "execution_count": 24,
   "id": "884dea22",
   "metadata": {
    "execution": {
     "iopub.execute_input": "2025-08-19T16:56:16.721947Z",
     "iopub.status.busy": "2025-08-19T16:56:16.721480Z",
     "iopub.status.idle": "2025-08-19T16:56:16.817431Z",
     "shell.execute_reply": "2025-08-19T16:56:16.816791Z"
    },
    "papermill": {
     "duration": 0.110136,
     "end_time": "2025-08-19T16:56:16.820206",
     "exception": false,
     "start_time": "2025-08-19T16:56:16.710070",
     "status": "completed"
    },
    "tags": []
   },
   "outputs": [
    {
     "name": "stdout",
     "output_type": "stream",
     "text": [
      "Dropping features: ['maxdeutsch1', 'maxdeutsch.Missing.']\n"
     ]
    }
   ],
   "source": [
    "if len(excluded_features_columns) > 0:\n",
    "    print(f\"Dropping features: {excluded_features_columns}\")\n",
    "    X_train.drop(excluded_features_columns, axis=1, inplace=True)"
   ]
  },
  {
   "cell_type": "code",
   "execution_count": 25,
   "id": "95ab8b16",
   "metadata": {
    "execution": {
     "iopub.execute_input": "2025-08-19T16:56:16.868536Z",
     "iopub.status.busy": "2025-08-19T16:56:16.866765Z",
     "iopub.status.idle": "2025-08-19T16:56:16.960677Z",
     "shell.execute_reply": "2025-08-19T16:56:16.959897Z"
    },
    "papermill": {
     "duration": 0.114666,
     "end_time": "2025-08-19T16:56:16.963417",
     "exception": false,
     "start_time": "2025-08-19T16:56:16.848751",
     "status": "completed"
    },
    "tags": []
   },
   "outputs": [
    {
     "name": "stdout",
     "output_type": "stream",
     "text": [
      "Dropping features: ['maxdeutsch1', 'maxdeutsch.Missing.']\n"
     ]
    }
   ],
   "source": [
    "if len(excluded_features_columns) > 0:\n",
    "    print(f\"Dropping features: {excluded_features_columns}\")\n",
    "    X_test.drop(excluded_features_columns, axis=1, inplace=True)"
   ]
  },
  {
   "cell_type": "code",
   "execution_count": 26,
   "id": "1853aaf5-fb9f-46cb-a2b5-8ea4ae2237e4",
   "metadata": {
    "execution": {
     "iopub.execute_input": "2025-08-19T16:56:16.987631Z",
     "iopub.status.busy": "2025-08-19T16:56:16.987333Z",
     "iopub.status.idle": "2025-08-19T16:56:17.090690Z",
     "shell.execute_reply": "2025-08-19T16:56:17.089094Z"
    },
    "papermill": {
     "duration": 0.116464,
     "end_time": "2025-08-19T16:56:17.092436",
     "exception": false,
     "start_time": "2025-08-19T16:56:16.975972",
     "status": "completed"
    },
    "tags": []
   },
   "outputs": [
    {
     "name": "stdout",
     "output_type": "stream",
     "text": [
      "Dropping features: ['maxdeutsch1', 'maxdeutsch.Missing.']\n"
     ]
    }
   ],
   "source": [
    "if len(excluded_features_columns) > 0:\n",
    "    print(f\"Dropping features: {excluded_features_columns}\")\n",
    "    X_calib.drop(excluded_features_columns, axis=1, inplace=True)"
   ]
  },
  {
   "cell_type": "code",
   "execution_count": 27,
   "id": "76c4dc6d",
   "metadata": {
    "execution": {
     "iopub.execute_input": "2025-08-19T16:56:17.124725Z",
     "iopub.status.busy": "2025-08-19T16:56:17.123516Z",
     "iopub.status.idle": "2025-08-19T16:56:17.133514Z",
     "shell.execute_reply": "2025-08-19T16:56:17.132179Z"
    },
    "papermill": {
     "duration": 0.02515,
     "end_time": "2025-08-19T16:56:17.135248",
     "exception": false,
     "start_time": "2025-08-19T16:56:17.110098",
     "status": "completed"
    },
    "tags": []
   },
   "outputs": [],
   "source": [
    "# EXCLUDE CERTAIN SUBGROUPS\n",
    "# -------------------------\n",
    "\n",
    "mode = universe.get(\"exclude_subgroups\", \"keep-all\") # Defaults to \"keep-all\" if the key is missing."
   ]
  },
  {
   "cell_type": "code",
   "execution_count": 28,
   "id": "21994072",
   "metadata": {
    "execution": {
     "iopub.execute_input": "2025-08-19T16:56:17.166503Z",
     "iopub.status.busy": "2025-08-19T16:56:17.164553Z",
     "iopub.status.idle": "2025-08-19T16:56:17.205438Z",
     "shell.execute_reply": "2025-08-19T16:56:17.203797Z"
    },
    "papermill": {
     "duration": 0.059777,
     "end_time": "2025-08-19T16:56:17.209098",
     "exception": false,
     "start_time": "2025-08-19T16:56:17.149321",
     "status": "completed"
    },
    "tags": []
   },
   "outputs": [],
   "source": [
    "if mode == \"keep-all\":\n",
    "    keep_mask = pd.Series(True, index=org_train.index)\n",
    "\n",
    "elif mode == \"drop-non-german\":\n",
    "    keep_mask = (org_train[\"maxdeutsch1\"] == 1) & (org_train[\"maxdeutsch.Missing.\"] == 0)\n",
    "\n",
    "else:\n",
    "    raise ValueError(f\"Unsupported mode for exclude_subgroups: {mode}\")"
   ]
  },
  {
   "cell_type": "code",
   "execution_count": 29,
   "id": "71651440",
   "metadata": {
    "execution": {
     "iopub.execute_input": "2025-08-19T16:56:17.251107Z",
     "iopub.status.busy": "2025-08-19T16:56:17.249466Z",
     "iopub.status.idle": "2025-08-19T16:56:17.262455Z",
     "shell.execute_reply": "2025-08-19T16:56:17.261009Z"
    },
    "papermill": {
     "duration": 0.029191,
     "end_time": "2025-08-19T16:56:17.263954",
     "exception": false,
     "start_time": "2025-08-19T16:56:17.234763",
     "status": "completed"
    },
    "tags": []
   },
   "outputs": [
    {
     "name": "stdout",
     "output_type": "stream",
     "text": [
      "Dropping 3688 rows (14.75%) where mode='drop-non-german'\n"
     ]
    }
   ],
   "source": [
    "n_drop = (~keep_mask).sum() # Calculates how many rows are set to be dropped\n",
    "if n_drop > 0:\n",
    "    pct = n_drop / len(keep_mask) * 100\n",
    "    print(f\"Dropping {n_drop} rows ({pct:.2f}%) where mode='{mode}'\")"
   ]
  },
  {
   "cell_type": "code",
   "execution_count": 30,
   "id": "5fb8eee5",
   "metadata": {
    "execution": {
     "iopub.execute_input": "2025-08-19T16:56:17.292839Z",
     "iopub.status.busy": "2025-08-19T16:56:17.291822Z",
     "iopub.status.idle": "2025-08-19T16:56:17.338776Z",
     "shell.execute_reply": "2025-08-19T16:56:17.338126Z"
    },
    "papermill": {
     "duration": 0.061897,
     "end_time": "2025-08-19T16:56:17.341511",
     "exception": false,
     "start_time": "2025-08-19T16:56:17.279614",
     "status": "completed"
    },
    "tags": []
   },
   "outputs": [],
   "source": [
    "X_train = X_train[keep_mask]"
   ]
  },
  {
   "cell_type": "code",
   "execution_count": 31,
   "id": "b202bb3a",
   "metadata": {
    "execution": {
     "iopub.execute_input": "2025-08-19T16:56:17.387164Z",
     "iopub.status.busy": "2025-08-19T16:56:17.386563Z",
     "iopub.status.idle": "2025-08-19T16:56:17.397253Z",
     "shell.execute_reply": "2025-08-19T16:56:17.395844Z"
    },
    "papermill": {
     "duration": 0.0267,
     "end_time": "2025-08-19T16:56:17.399055",
     "exception": false,
     "start_time": "2025-08-19T16:56:17.372355",
     "status": "completed"
    },
    "tags": []
   },
   "outputs": [],
   "source": [
    "y_train = y_train[keep_mask]"
   ]
  },
  {
   "cell_type": "markdown",
   "id": "493e2ac3",
   "metadata": {
    "papermill": {
     "duration": 0.011131,
     "end_time": "2025-08-19T16:56:17.427752",
     "exception": false,
     "start_time": "2025-08-19T16:56:17.416621",
     "status": "completed"
    },
    "tags": []
   },
   "source": [
    "# Model Training"
   ]
  },
  {
   "cell_type": "code",
   "execution_count": 32,
   "id": "679e1268",
   "metadata": {
    "execution": {
     "iopub.execute_input": "2025-08-19T16:56:17.455475Z",
     "iopub.status.busy": "2025-08-19T16:56:17.454188Z",
     "iopub.status.idle": "2025-08-19T16:56:18.942474Z",
     "shell.execute_reply": "2025-08-19T16:56:18.940015Z"
    },
    "papermill": {
     "duration": 1.505975,
     "end_time": "2025-08-19T16:56:18.945752",
     "exception": false,
     "start_time": "2025-08-19T16:56:17.439777",
     "status": "completed"
    },
    "tags": []
   },
   "outputs": [],
   "source": [
    "from sklearn.linear_model import LogisticRegression\n",
    "from sklearn.ensemble import GradientBoostingClassifier, RandomForestClassifier\n",
    "\n",
    "if (universe[\"model\"] == \"logreg\"):\n",
    "    model = LogisticRegression() #penalty=\"none\", solver=\"newton-cg\", max_iter=1)\n",
    "elif (universe[\"model\"] == \"penalized_logreg\"):\n",
    "    model = LogisticRegression(penalty=\"l2\", C=0.1) #, solver=\"newton-cg\", max_iter=1)\n",
    "elif (universe[\"model\"] == \"rf\"):\n",
    "    model = RandomForestClassifier() # n_estimators=100, n_jobs=-1\n",
    "elif (universe[\"model\"] == \"gbm\"):\n",
    "    model = GradientBoostingClassifier()\n",
    "elif (universe[\"model\"] == \"elasticnet\"):\n",
    "    model = LogisticRegression(penalty = 'elasticnet', solver = 'saga', l1_ratio = 0.5) # max_iter=5000\n",
    "else:\n",
    "    raise \"Unsupported universe.model\""
   ]
  },
  {
   "cell_type": "code",
   "execution_count": 33,
   "id": "0cc8f744",
   "metadata": {
    "execution": {
     "iopub.execute_input": "2025-08-19T16:56:18.976582Z",
     "iopub.status.busy": "2025-08-19T16:56:18.976280Z",
     "iopub.status.idle": "2025-08-19T16:56:18.985236Z",
     "shell.execute_reply": "2025-08-19T16:56:18.984451Z"
    },
    "papermill": {
     "duration": 0.024384,
     "end_time": "2025-08-19T16:56:18.987628",
     "exception": false,
     "start_time": "2025-08-19T16:56:18.963244",
     "status": "completed"
    },
    "tags": []
   },
   "outputs": [],
   "source": [
    "from sklearn.pipeline import Pipeline\n",
    "from sklearn.preprocessing import StandardScaler\n",
    "\n",
    "model = Pipeline([\n",
    "    #(\"continuous_processor\", continuous_processor),\n",
    "    #(\"categorical_preprocessor\", categorical_preprocessor),\n",
    "    (\"scale\", StandardScaler() if universe[\"scale\"] == \"scale\" else None), \n",
    "    (\"model\", model),\n",
    "])"
   ]
  },
  {
   "cell_type": "code",
   "execution_count": 34,
   "id": "9442c04d",
   "metadata": {
    "execution": {
     "iopub.execute_input": "2025-08-19T16:56:19.024559Z",
     "iopub.status.busy": "2025-08-19T16:56:19.024258Z",
     "iopub.status.idle": "2025-08-19T16:56:20.191545Z",
     "shell.execute_reply": "2025-08-19T16:56:20.180430Z"
    },
    "papermill": {
     "duration": 1.187294,
     "end_time": "2025-08-19T16:56:20.193512",
     "exception": false,
     "start_time": "2025-08-19T16:56:19.006218",
     "status": "completed"
    },
    "tags": []
   },
   "outputs": [
    {
     "name": "stderr",
     "output_type": "stream",
     "text": [
      "/dss/dsshome1/0C/ra93lal2/.local/share/virtualenvs/CMA_Fairness_v2-3j10GkSs/lib/python3.10/site-packages/sklearn/linear_model/_logistic.py:444: ConvergenceWarning: lbfgs failed to converge (status=1):\n",
      "STOP: TOTAL NO. of ITERATIONS REACHED LIMIT.\n",
      "\n",
      "Increase the number of iterations (max_iter) or scale the data as shown in:\n",
      "    https://scikit-learn.org/stable/modules/preprocessing.html\n",
      "Please also refer to the documentation for alternative solver options:\n",
      "    https://scikit-learn.org/stable/modules/linear_model.html#logistic-regression\n",
      "  n_iter_i = _check_optimize_result(\n"
     ]
    },
    {
     "data": {
      "text/html": [
       "<style>#sk-container-id-1 {color: black;background-color: white;}#sk-container-id-1 pre{padding: 0;}#sk-container-id-1 div.sk-toggleable {background-color: white;}#sk-container-id-1 label.sk-toggleable__label {cursor: pointer;display: block;width: 100%;margin-bottom: 0;padding: 0.3em;box-sizing: border-box;text-align: center;}#sk-container-id-1 label.sk-toggleable__label-arrow:before {content: \"▸\";float: left;margin-right: 0.25em;color: #696969;}#sk-container-id-1 label.sk-toggleable__label-arrow:hover:before {color: black;}#sk-container-id-1 div.sk-estimator:hover label.sk-toggleable__label-arrow:before {color: black;}#sk-container-id-1 div.sk-toggleable__content {max-height: 0;max-width: 0;overflow: hidden;text-align: left;background-color: #f0f8ff;}#sk-container-id-1 div.sk-toggleable__content pre {margin: 0.2em;color: black;border-radius: 0.25em;background-color: #f0f8ff;}#sk-container-id-1 input.sk-toggleable__control:checked~div.sk-toggleable__content {max-height: 200px;max-width: 100%;overflow: auto;}#sk-container-id-1 input.sk-toggleable__control:checked~label.sk-toggleable__label-arrow:before {content: \"▾\";}#sk-container-id-1 div.sk-estimator input.sk-toggleable__control:checked~label.sk-toggleable__label {background-color: #d4ebff;}#sk-container-id-1 div.sk-label input.sk-toggleable__control:checked~label.sk-toggleable__label {background-color: #d4ebff;}#sk-container-id-1 input.sk-hidden--visually {border: 0;clip: rect(1px 1px 1px 1px);clip: rect(1px, 1px, 1px, 1px);height: 1px;margin: -1px;overflow: hidden;padding: 0;position: absolute;width: 1px;}#sk-container-id-1 div.sk-estimator {font-family: monospace;background-color: #f0f8ff;border: 1px dotted black;border-radius: 0.25em;box-sizing: border-box;margin-bottom: 0.5em;}#sk-container-id-1 div.sk-estimator:hover {background-color: #d4ebff;}#sk-container-id-1 div.sk-parallel-item::after {content: \"\";width: 100%;border-bottom: 1px solid gray;flex-grow: 1;}#sk-container-id-1 div.sk-label:hover label.sk-toggleable__label {background-color: #d4ebff;}#sk-container-id-1 div.sk-serial::before {content: \"\";position: absolute;border-left: 1px solid gray;box-sizing: border-box;top: 0;bottom: 0;left: 50%;z-index: 0;}#sk-container-id-1 div.sk-serial {display: flex;flex-direction: column;align-items: center;background-color: white;padding-right: 0.2em;padding-left: 0.2em;position: relative;}#sk-container-id-1 div.sk-item {position: relative;z-index: 1;}#sk-container-id-1 div.sk-parallel {display: flex;align-items: stretch;justify-content: center;background-color: white;position: relative;}#sk-container-id-1 div.sk-item::before, #sk-container-id-1 div.sk-parallel-item::before {content: \"\";position: absolute;border-left: 1px solid gray;box-sizing: border-box;top: 0;bottom: 0;left: 50%;z-index: -1;}#sk-container-id-1 div.sk-parallel-item {display: flex;flex-direction: column;z-index: 1;position: relative;background-color: white;}#sk-container-id-1 div.sk-parallel-item:first-child::after {align-self: flex-end;width: 50%;}#sk-container-id-1 div.sk-parallel-item:last-child::after {align-self: flex-start;width: 50%;}#sk-container-id-1 div.sk-parallel-item:only-child::after {width: 0;}#sk-container-id-1 div.sk-dashed-wrapped {border: 1px dashed gray;margin: 0 0.4em 0.5em 0.4em;box-sizing: border-box;padding-bottom: 0.4em;background-color: white;}#sk-container-id-1 div.sk-label label {font-family: monospace;font-weight: bold;display: inline-block;line-height: 1.2em;}#sk-container-id-1 div.sk-label-container {text-align: center;}#sk-container-id-1 div.sk-container {/* jupyter's `normalize.less` sets `[hidden] { display: none; }` but bootstrap.min.css set `[hidden] { display: none !important; }` so we also need the `!important` here to be able to override the default hidden behavior on the sphinx rendered scikit-learn.org. See: https://github.com/scikit-learn/scikit-learn/issues/21755 */display: inline-block !important;position: relative;}#sk-container-id-1 div.sk-text-repr-fallback {display: none;}</style><div id=\"sk-container-id-1\" class=\"sk-top-container\"><div class=\"sk-text-repr-fallback\"><pre>Pipeline(steps=[(&#x27;scale&#x27;, StandardScaler()), (&#x27;model&#x27;, LogisticRegression())])</pre><b>In a Jupyter environment, please rerun this cell to show the HTML representation or trust the notebook. <br />On GitHub, the HTML representation is unable to render, please try loading this page with nbviewer.org.</b></div><div class=\"sk-container\" hidden><div class=\"sk-item sk-dashed-wrapped\"><div class=\"sk-label-container\"><div class=\"sk-label sk-toggleable\"><input class=\"sk-toggleable__control sk-hidden--visually\" id=\"sk-estimator-id-1\" type=\"checkbox\" ><label for=\"sk-estimator-id-1\" class=\"sk-toggleable__label sk-toggleable__label-arrow\">Pipeline</label><div class=\"sk-toggleable__content\"><pre>Pipeline(steps=[(&#x27;scale&#x27;, StandardScaler()), (&#x27;model&#x27;, LogisticRegression())])</pre></div></div></div><div class=\"sk-serial\"><div class=\"sk-item\"><div class=\"sk-estimator sk-toggleable\"><input class=\"sk-toggleable__control sk-hidden--visually\" id=\"sk-estimator-id-2\" type=\"checkbox\" ><label for=\"sk-estimator-id-2\" class=\"sk-toggleable__label sk-toggleable__label-arrow\">StandardScaler</label><div class=\"sk-toggleable__content\"><pre>StandardScaler()</pre></div></div></div><div class=\"sk-item\"><div class=\"sk-estimator sk-toggleable\"><input class=\"sk-toggleable__control sk-hidden--visually\" id=\"sk-estimator-id-3\" type=\"checkbox\" ><label for=\"sk-estimator-id-3\" class=\"sk-toggleable__label sk-toggleable__label-arrow\">LogisticRegression</label><div class=\"sk-toggleable__content\"><pre>LogisticRegression()</pre></div></div></div></div></div></div></div>"
      ],
      "text/plain": [
       "Pipeline(steps=[('scale', StandardScaler()), ('model', LogisticRegression())])"
      ]
     },
     "execution_count": 34,
     "metadata": {},
     "output_type": "execute_result"
    }
   ],
   "source": [
    "model.fit(X_train, y_train.values.ravel())"
   ]
  },
  {
   "cell_type": "code",
   "execution_count": 35,
   "id": "a7cf2e16",
   "metadata": {
    "execution": {
     "iopub.execute_input": "2025-08-19T16:56:20.225529Z",
     "iopub.status.busy": "2025-08-19T16:56:20.223450Z",
     "iopub.status.idle": "2025-08-19T16:56:20.520988Z",
     "shell.execute_reply": "2025-08-19T16:56:20.520193Z"
    },
    "papermill": {
     "duration": 0.314108,
     "end_time": "2025-08-19T16:56:20.522308",
     "exception": false,
     "start_time": "2025-08-19T16:56:20.208200",
     "status": "completed"
    },
    "tags": []
   },
   "outputs": [
    {
     "data": {
      "text/plain": [
       "0.8655445323821201"
      ]
     },
     "execution_count": 35,
     "metadata": {},
     "output_type": "execute_result"
    }
   ],
   "source": [
    "from fairness_multiverse.universe import predict_w_threshold\n",
    "\n",
    "probs_test = model.predict_proba(X_test)\n",
    "\n",
    "'''\n",
    "Below code returns a boolean array (or binary 0/1 array depending on how it’s used) where each element \n",
    "is True if the probability of class 1 is greater than or equal to the threshold, and False otherwise.\n",
    "'''\n",
    "y_pred_default = predict_w_threshold(probs_test, 0.5)\n",
    "\n",
    "from sklearn.metrics import accuracy_score\n",
    "\n",
    "# Naive prediction\n",
    "accuracy_score(y_true = y_true, y_pred = y_pred_default)"
   ]
  },
  {
   "cell_type": "code",
   "execution_count": 36,
   "id": "081964c3",
   "metadata": {
    "execution": {
     "iopub.execute_input": "2025-08-19T16:56:20.573192Z",
     "iopub.status.busy": "2025-08-19T16:56:20.570008Z",
     "iopub.status.idle": "2025-08-19T16:56:20.837766Z",
     "shell.execute_reply": "2025-08-19T16:56:20.836773Z"
    },
    "papermill": {
     "duration": 0.291914,
     "end_time": "2025-08-19T16:56:20.840294",
     "exception": false,
     "start_time": "2025-08-19T16:56:20.548380",
     "status": "completed"
    },
    "tags": []
   },
   "outputs": [
    {
     "data": {
      "text/plain": [
       "array([0, 0, 0, ..., 0, 0, 0])"
      ]
     },
     "execution_count": 36,
     "metadata": {},
     "output_type": "execute_result"
    }
   ],
   "source": [
    "model.predict(X_test)"
   ]
  },
  {
   "cell_type": "markdown",
   "id": "56c9705b",
   "metadata": {
    "papermill": {
     "duration": 0.011809,
     "end_time": "2025-08-19T16:56:20.870662",
     "exception": false,
     "start_time": "2025-08-19T16:56:20.858853",
     "status": "completed"
    },
    "tags": []
   },
   "source": [
    "# Conformal Prediction"
   ]
  },
  {
   "cell_type": "code",
   "execution_count": 37,
   "id": "160ec6ff",
   "metadata": {
    "execution": {
     "iopub.execute_input": "2025-08-19T16:56:20.897764Z",
     "iopub.status.busy": "2025-08-19T16:56:20.897291Z",
     "iopub.status.idle": "2025-08-19T16:56:20.902349Z",
     "shell.execute_reply": "2025-08-19T16:56:20.901704Z"
    },
    "papermill": {
     "duration": 0.021641,
     "end_time": "2025-08-19T16:56:20.903644",
     "exception": false,
     "start_time": "2025-08-19T16:56:20.882003",
     "status": "completed"
    },
    "tags": []
   },
   "outputs": [],
   "source": [
    "# Miscoverage level for conformal prediction (10% allowed error rate => 90% target coverage)\n",
    "alpha = 0.1"
   ]
  },
  {
   "cell_type": "code",
   "execution_count": 38,
   "id": "eadf4555-3dd3-440e-8e35-f82a4ad9f855",
   "metadata": {
    "execution": {
     "iopub.execute_input": "2025-08-19T16:56:20.932179Z",
     "iopub.status.busy": "2025-08-19T16:56:20.931718Z",
     "iopub.status.idle": "2025-08-19T16:56:21.299398Z",
     "shell.execute_reply": "2025-08-19T16:56:21.298106Z"
    },
    "papermill": {
     "duration": 0.384635,
     "end_time": "2025-08-19T16:56:21.301799",
     "exception": false,
     "start_time": "2025-08-19T16:56:20.917164",
     "status": "completed"
    },
    "tags": []
   },
   "outputs": [],
   "source": [
    "probs_calib = model.predict_proba(X_calib)"
   ]
  },
  {
   "cell_type": "code",
   "execution_count": 39,
   "id": "2ed93547-6d5d-4983-9b36-1ecb300da49a",
   "metadata": {
    "execution": {
     "iopub.execute_input": "2025-08-19T16:56:21.353748Z",
     "iopub.status.busy": "2025-08-19T16:56:21.352435Z",
     "iopub.status.idle": "2025-08-19T16:56:21.364550Z",
     "shell.execute_reply": "2025-08-19T16:56:21.362958Z"
    },
    "papermill": {
     "duration": 0.035808,
     "end_time": "2025-08-19T16:56:21.367244",
     "exception": false,
     "start_time": "2025-08-19T16:56:21.331436",
     "status": "completed"
    },
    "tags": []
   },
   "outputs": [],
   "source": [
    "y_calib = y_calib.values.ravel().astype(int)"
   ]
  },
  {
   "cell_type": "code",
   "execution_count": 40,
   "id": "65d1320d-f588-4b38-9072-62af1ae97f7d",
   "metadata": {
    "execution": {
     "iopub.execute_input": "2025-08-19T16:56:21.410375Z",
     "iopub.status.busy": "2025-08-19T16:56:21.409460Z",
     "iopub.status.idle": "2025-08-19T16:56:21.490664Z",
     "shell.execute_reply": "2025-08-19T16:56:21.489526Z"
    },
    "papermill": {
     "duration": 0.107682,
     "end_time": "2025-08-19T16:56:21.493112",
     "exception": false,
     "start_time": "2025-08-19T16:56:21.385430",
     "status": "completed"
    },
    "tags": []
   },
   "outputs": [],
   "source": [
    "from fairness_multiverse.conformal import compute_nc_scores\n",
    "\n",
    "# Compute nonconformity scores on calibration set (1 - probability of true class)\n",
    "nc_scores = compute_nc_scores(probs_calib, y_calib)"
   ]
  },
  {
   "cell_type": "code",
   "execution_count": 41,
   "id": "df3b8ca3-53b7-43d5-9667-7c85da7aeda2",
   "metadata": {
    "execution": {
     "iopub.execute_input": "2025-08-19T16:56:21.528767Z",
     "iopub.status.busy": "2025-08-19T16:56:21.528206Z",
     "iopub.status.idle": "2025-08-19T16:56:21.535730Z",
     "shell.execute_reply": "2025-08-19T16:56:21.534600Z"
    },
    "papermill": {
     "duration": 0.022619,
     "end_time": "2025-08-19T16:56:21.537223",
     "exception": false,
     "start_time": "2025-08-19T16:56:21.514604",
     "status": "completed"
    },
    "tags": []
   },
   "outputs": [],
   "source": [
    "from fairness_multiverse.conformal import find_threshold\n",
    "\n",
    "# Find conformal threshold q_hat for the given alpha (split conformal method)\n",
    "q_hat = find_threshold(nc_scores, alpha)"
   ]
  },
  {
   "cell_type": "code",
   "execution_count": 42,
   "id": "4d29e6c1-0ef6-4aa4-b8fe-4fe79b0d033a",
   "metadata": {
    "execution": {
     "iopub.execute_input": "2025-08-19T16:56:21.564183Z",
     "iopub.status.busy": "2025-08-19T16:56:21.563310Z",
     "iopub.status.idle": "2025-08-19T16:56:21.573984Z",
     "shell.execute_reply": "2025-08-19T16:56:21.573302Z"
    },
    "papermill": {
     "duration": 0.025617,
     "end_time": "2025-08-19T16:56:21.575038",
     "exception": false,
     "start_time": "2025-08-19T16:56:21.549421",
     "status": "completed"
    },
    "tags": []
   },
   "outputs": [
    {
     "data": {
      "text/plain": [
       "0.6756774789253586"
      ]
     },
     "execution_count": 42,
     "metadata": {},
     "output_type": "execute_result"
    }
   ],
   "source": [
    "q_hat"
   ]
  },
  {
   "cell_type": "code",
   "execution_count": 43,
   "id": "92460794-cdac-4be2-ba28-f28c0515a6fb",
   "metadata": {
    "execution": {
     "iopub.execute_input": "2025-08-19T16:56:21.600198Z",
     "iopub.status.busy": "2025-08-19T16:56:21.599712Z",
     "iopub.status.idle": "2025-08-19T16:56:22.274931Z",
     "shell.execute_reply": "2025-08-19T16:56:22.273308Z"
    },
    "papermill": {
     "duration": 0.68955,
     "end_time": "2025-08-19T16:56:22.276434",
     "exception": false,
     "start_time": "2025-08-19T16:56:21.586884",
     "status": "completed"
    },
    "tags": []
   },
   "outputs": [],
   "source": [
    "from fairness_multiverse.conformal import predict_conformal_sets\n",
    "\n",
    "# Generate prediction sets for each test example\n",
    "pred_sets = predict_conformal_sets(model, X_test, q_hat)"
   ]
  },
  {
   "cell_type": "code",
   "execution_count": 44,
   "id": "d90c9a65-e6db-4f5d-80cd-e68fb7e46829",
   "metadata": {
    "execution": {
     "iopub.execute_input": "2025-08-19T16:56:22.307035Z",
     "iopub.status.busy": "2025-08-19T16:56:22.305800Z",
     "iopub.status.idle": "2025-08-19T16:56:22.318128Z",
     "shell.execute_reply": "2025-08-19T16:56:22.316816Z"
    },
    "papermill": {
     "duration": 0.029823,
     "end_time": "2025-08-19T16:56:22.320935",
     "exception": false,
     "start_time": "2025-08-19T16:56:22.291112",
     "status": "completed"
    },
    "tags": []
   },
   "outputs": [],
   "source": [
    "y_true = y_true.squeeze()"
   ]
  },
  {
   "cell_type": "code",
   "execution_count": 45,
   "id": "3a58a54a-1e68-46b9-927a-df01f18aebc8",
   "metadata": {
    "execution": {
     "iopub.execute_input": "2025-08-19T16:56:22.353022Z",
     "iopub.status.busy": "2025-08-19T16:56:22.352701Z",
     "iopub.status.idle": "2025-08-19T16:56:22.850442Z",
     "shell.execute_reply": "2025-08-19T16:56:22.848724Z"
    },
    "papermill": {
     "duration": 0.515153,
     "end_time": "2025-08-19T16:56:22.853157",
     "exception": false,
     "start_time": "2025-08-19T16:56:22.338004",
     "status": "completed"
    },
    "tags": []
   },
   "outputs": [],
   "source": [
    "from fairness_multiverse.conformal import evaluate_sets\n",
    "\n",
    "# Evaluate coverage and average set size on test data\n",
    "metrics = evaluate_sets(pred_sets, y_true)"
   ]
  },
  {
   "cell_type": "markdown",
   "id": "2b569c12-9aaa-4c88-98c9-bbcd0cf3ebb8",
   "metadata": {
    "papermill": {
     "duration": 0.011651,
     "end_time": "2025-08-19T16:56:22.876738",
     "exception": false,
     "start_time": "2025-08-19T16:56:22.865087",
     "status": "completed"
    },
    "tags": []
   },
   "source": [
    "# CP Metrics"
   ]
  },
  {
   "cell_type": "code",
   "execution_count": 46,
   "id": "5ce0a5cb-201f-45a0-ade5-94c7f0bd6095",
   "metadata": {
    "execution": {
     "iopub.execute_input": "2025-08-19T16:56:22.903417Z",
     "iopub.status.busy": "2025-08-19T16:56:22.902922Z",
     "iopub.status.idle": "2025-08-19T16:56:22.918097Z",
     "shell.execute_reply": "2025-08-19T16:56:22.916779Z"
    },
    "papermill": {
     "duration": 0.03113,
     "end_time": "2025-08-19T16:56:22.919832",
     "exception": false,
     "start_time": "2025-08-19T16:56:22.888702",
     "status": "completed"
    },
    "tags": []
   },
   "outputs": [
    {
     "data": {
      "text/plain": [
       "{'coverage': 0.9126964663917067, 'avg_size': 1.1257830788094974}"
      ]
     },
     "execution_count": 46,
     "metadata": {},
     "output_type": "execute_result"
    }
   ],
   "source": [
    "metrics"
   ]
  },
  {
   "cell_type": "code",
   "execution_count": 47,
   "id": "9b9a838d-31c9-430b-ae14-12baee460d17",
   "metadata": {
    "execution": {
     "iopub.execute_input": "2025-08-19T16:56:22.961551Z",
     "iopub.status.busy": "2025-08-19T16:56:22.960861Z",
     "iopub.status.idle": "2025-08-19T16:56:23.262857Z",
     "shell.execute_reply": "2025-08-19T16:56:23.258939Z"
    },
    "papermill": {
     "duration": 0.326236,
     "end_time": "2025-08-19T16:56:23.264538",
     "exception": false,
     "start_time": "2025-08-19T16:56:22.938302",
     "status": "completed"
    },
    "tags": []
   },
   "outputs": [],
   "source": [
    "example_universe = universe.copy()\n",
    "universe_training_year = example_universe.get(\"training_year\")\n",
    "universe_training_size = example_universe.get(\"training_size\")\n",
    "universe_scale = example_universe.get(\"scale\")\n",
    "universe_model = example_universe.get(\"model\")\n",
    "universe_exclude_features = example_universe.get(\"exclude_features\")\n",
    "universe_exclude_subgroups = example_universe.get(\"exclude_subgroups\")"
   ]
  },
  {
   "cell_type": "code",
   "execution_count": 48,
   "id": "f4b6a8ac-9dc0-4245-8a91-5b3b5999c4f9",
   "metadata": {
    "execution": {
     "iopub.execute_input": "2025-08-19T16:56:23.300432Z",
     "iopub.status.busy": "2025-08-19T16:56:23.299716Z",
     "iopub.status.idle": "2025-08-19T16:56:23.313427Z",
     "shell.execute_reply": "2025-08-19T16:56:23.311866Z"
    },
    "papermill": {
     "duration": 0.036609,
     "end_time": "2025-08-19T16:56:23.317512",
     "exception": false,
     "start_time": "2025-08-19T16:56:23.280903",
     "status": "completed"
    },
    "tags": []
   },
   "outputs": [],
   "source": [
    "cp_metrics_dict = {\n",
    "    \"universe_id\": [universe_id],\n",
    "    \"universe_training_year\": [universe_training_year],\n",
    "    \"universe_training_size\": [universe_training_size],\n",
    "    \"universe_scale\": [universe_scale],\n",
    "    \"universe_model\": [universe_model],\n",
    "    \"universe_exclude_features\": [universe_exclude_features],\n",
    "    \"universe_exclude_subgroups\": [universe_exclude_subgroups],\n",
    "    \"q_hat\": [q_hat],\n",
    "    \"coverage\": [metrics[\"coverage\"]],\n",
    "    \"avg_size\": [metrics[\"avg_size\"]],\n",
    "}"
   ]
  },
  {
   "cell_type": "code",
   "execution_count": 49,
   "id": "33007efc-14e9-4ec6-97ac-56a455c82265",
   "metadata": {
    "execution": {
     "iopub.execute_input": "2025-08-19T16:56:23.348599Z",
     "iopub.status.busy": "2025-08-19T16:56:23.347823Z",
     "iopub.status.idle": "2025-08-19T16:56:23.360044Z",
     "shell.execute_reply": "2025-08-19T16:56:23.358945Z"
    },
    "papermill": {
     "duration": 0.027458,
     "end_time": "2025-08-19T16:56:23.361458",
     "exception": false,
     "start_time": "2025-08-19T16:56:23.334000",
     "status": "completed"
    },
    "tags": []
   },
   "outputs": [],
   "source": [
    "cp_metrics_df = pd.DataFrame(cp_metrics_dict)"
   ]
  },
  {
   "cell_type": "code",
   "execution_count": 50,
   "id": "db12611b-57b2-4910-b9d0-355adfd6e7bf",
   "metadata": {
    "execution": {
     "iopub.execute_input": "2025-08-19T16:56:23.392030Z",
     "iopub.status.busy": "2025-08-19T16:56:23.391366Z",
     "iopub.status.idle": "2025-08-19T16:56:23.419689Z",
     "shell.execute_reply": "2025-08-19T16:56:23.418552Z"
    },
    "papermill": {
     "duration": 0.044228,
     "end_time": "2025-08-19T16:56:23.422000",
     "exception": false,
     "start_time": "2025-08-19T16:56:23.377772",
     "status": "completed"
    },
    "tags": []
   },
   "outputs": [
    {
     "data": {
      "text/html": [
       "<div>\n",
       "<style scoped>\n",
       "    .dataframe tbody tr th:only-of-type {\n",
       "        vertical-align: middle;\n",
       "    }\n",
       "\n",
       "    .dataframe tbody tr th {\n",
       "        vertical-align: top;\n",
       "    }\n",
       "\n",
       "    .dataframe thead th {\n",
       "        text-align: right;\n",
       "    }\n",
       "</style>\n",
       "<table border=\"1\" class=\"dataframe\">\n",
       "  <thead>\n",
       "    <tr style=\"text-align: right;\">\n",
       "      <th></th>\n",
       "      <th>universe_id</th>\n",
       "      <th>universe_training_year</th>\n",
       "      <th>universe_training_size</th>\n",
       "      <th>universe_scale</th>\n",
       "      <th>universe_model</th>\n",
       "      <th>universe_exclude_features</th>\n",
       "      <th>universe_exclude_subgroups</th>\n",
       "      <th>q_hat</th>\n",
       "      <th>coverage</th>\n",
       "      <th>avg_size</th>\n",
       "    </tr>\n",
       "  </thead>\n",
       "  <tbody>\n",
       "    <tr>\n",
       "      <th>0</th>\n",
       "      <td>157bef778c578c293295aa0c1753ebf5</td>\n",
       "      <td>2014</td>\n",
       "      <td>25k</td>\n",
       "      <td>scale</td>\n",
       "      <td>logreg</td>\n",
       "      <td>nationality</td>\n",
       "      <td>drop-non-german</td>\n",
       "      <td>0.675677</td>\n",
       "      <td>0.912696</td>\n",
       "      <td>1.125783</td>\n",
       "    </tr>\n",
       "  </tbody>\n",
       "</table>\n",
       "</div>"
      ],
      "text/plain": [
       "                        universe_id universe_training_year  \\\n",
       "0  157bef778c578c293295aa0c1753ebf5                   2014   \n",
       "\n",
       "  universe_training_size universe_scale universe_model  \\\n",
       "0                    25k          scale         logreg   \n",
       "\n",
       "  universe_exclude_features universe_exclude_subgroups     q_hat  coverage  \\\n",
       "0               nationality            drop-non-german  0.675677  0.912696   \n",
       "\n",
       "   avg_size  \n",
       "0  1.125783  "
      ]
     },
     "execution_count": 50,
     "metadata": {},
     "output_type": "execute_result"
    }
   ],
   "source": [
    "cp_metrics_df"
   ]
  },
  {
   "cell_type": "markdown",
   "id": "c825ecb4-0d3d-41d6-b7c6-eccb21272259",
   "metadata": {
    "papermill": {
     "duration": 0.020574,
     "end_time": "2025-08-19T16:56:23.468989",
     "exception": false,
     "start_time": "2025-08-19T16:56:23.448415",
     "status": "completed"
    },
    "tags": []
   },
   "source": [
    "Conditional coverage & looking at subgroups"
   ]
  },
  {
   "cell_type": "code",
   "execution_count": 51,
   "id": "027ae886-68dd-4141-96c7-805a5450e1ef",
   "metadata": {
    "execution": {
     "iopub.execute_input": "2025-08-19T16:56:23.496274Z",
     "iopub.status.busy": "2025-08-19T16:56:23.495773Z",
     "iopub.status.idle": "2025-08-19T16:56:23.796973Z",
     "shell.execute_reply": "2025-08-19T16:56:23.795713Z"
    },
    "papermill": {
     "duration": 0.316268,
     "end_time": "2025-08-19T16:56:23.798746",
     "exception": false,
     "start_time": "2025-08-19T16:56:23.482478",
     "status": "completed"
    },
    "tags": []
   },
   "outputs": [],
   "source": [
    "from fairness_multiverse.conformal import build_cp_groups\n",
    "\n",
    "cp_groups_df = build_cp_groups(pred_sets, y_true, X_test.index, org_test)"
   ]
  },
  {
   "cell_type": "code",
   "execution_count": 52,
   "id": "6cbdab96-b2b2-45af-ad54-d0516db2e28d",
   "metadata": {
    "execution": {
     "iopub.execute_input": "2025-08-19T16:56:23.825487Z",
     "iopub.status.busy": "2025-08-19T16:56:23.824821Z",
     "iopub.status.idle": "2025-08-19T16:56:24.733429Z",
     "shell.execute_reply": "2025-08-19T16:56:24.732173Z"
    },
    "papermill": {
     "duration": 0.923694,
     "end_time": "2025-08-19T16:56:24.735076",
     "exception": false,
     "start_time": "2025-08-19T16:56:23.811382",
     "status": "completed"
    },
    "tags": []
   },
   "outputs": [],
   "source": [
    "# Define covered = 1 if true_label is in the predicted set\n",
    "cp_groups_df['covered'] = cp_groups_df.apply(\n",
    "    lambda r: int(r['true_label'] in r['pred_set']),\n",
    "    axis=1\n",
    ")"
   ]
  },
  {
   "cell_type": "code",
   "execution_count": 53,
   "id": "90032e27-66df-4540-9169-4e89cfbaa758",
   "metadata": {
    "execution": {
     "iopub.execute_input": "2025-08-19T16:56:24.775124Z",
     "iopub.status.busy": "2025-08-19T16:56:24.773739Z",
     "iopub.status.idle": "2025-08-19T16:56:24.799854Z",
     "shell.execute_reply": "2025-08-19T16:56:24.798787Z"
    },
    "papermill": {
     "duration": 0.055025,
     "end_time": "2025-08-19T16:56:24.804219",
     "exception": false,
     "start_time": "2025-08-19T16:56:24.749194",
     "status": "completed"
    },
    "tags": []
   },
   "outputs": [],
   "source": [
    "subgroups = ['frau1','nongerman','nongerman_male','nongerman_female']\n",
    "\n",
    "# Conditional coverage for subgroup==1\n",
    "cond_coverage = {\n",
    "    g: cp_groups_df.loc[cp_groups_df[g]==1, 'covered'].mean()\n",
    "    for g in subgroups\n",
    "}"
   ]
  },
  {
   "cell_type": "code",
   "execution_count": 54,
   "id": "1e348fb1-b9c3-45bc-ba23-f016827a7e0d",
   "metadata": {
    "execution": {
     "iopub.execute_input": "2025-08-19T16:56:24.841810Z",
     "iopub.status.busy": "2025-08-19T16:56:24.836591Z",
     "iopub.status.idle": "2025-08-19T16:56:24.849171Z",
     "shell.execute_reply": "2025-08-19T16:56:24.848460Z"
    },
    "papermill": {
     "duration": 0.028137,
     "end_time": "2025-08-19T16:56:24.850322",
     "exception": false,
     "start_time": "2025-08-19T16:56:24.822185",
     "status": "completed"
    },
    "tags": []
   },
   "outputs": [
    {
     "data": {
      "text/plain": [
       "{'frau1': 0.9117131688906861,\n",
       " 'nongerman': 0.9123673721439398,\n",
       " 'nongerman_male': 0.9277672701071782,\n",
       " 'nongerman_female': 0.8868852459016393}"
      ]
     },
     "execution_count": 54,
     "metadata": {},
     "output_type": "execute_result"
    }
   ],
   "source": [
    "cond_coverage"
   ]
  },
  {
   "cell_type": "code",
   "execution_count": 55,
   "id": "f5093324-c3dd-4d63-bc4c-8d945e5c8bbb",
   "metadata": {
    "execution": {
     "iopub.execute_input": "2025-08-19T16:56:24.917675Z",
     "iopub.status.busy": "2025-08-19T16:56:24.916652Z",
     "iopub.status.idle": "2025-08-19T16:56:24.925565Z",
     "shell.execute_reply": "2025-08-19T16:56:24.924521Z"
    },
    "papermill": {
     "duration": 0.041249,
     "end_time": "2025-08-19T16:56:24.927209",
     "exception": false,
     "start_time": "2025-08-19T16:56:24.885960",
     "status": "completed"
    },
    "tags": []
   },
   "outputs": [],
   "source": [
    "for subgroup, cov in cond_coverage.items():\n",
    "    cp_metrics_df[f\"cov_{subgroup}\"] = cov"
   ]
  },
  {
   "cell_type": "code",
   "execution_count": 56,
   "id": "6e872e10-dbe5-49e8-b554-5030c98ff75d",
   "metadata": {
    "execution": {
     "iopub.execute_input": "2025-08-19T16:56:24.963801Z",
     "iopub.status.busy": "2025-08-19T16:56:24.962322Z",
     "iopub.status.idle": "2025-08-19T16:56:25.006252Z",
     "shell.execute_reply": "2025-08-19T16:56:25.004981Z"
    },
    "papermill": {
     "duration": 0.060693,
     "end_time": "2025-08-19T16:56:25.007710",
     "exception": false,
     "start_time": "2025-08-19T16:56:24.947017",
     "status": "completed"
    },
    "tags": []
   },
   "outputs": [
    {
     "data": {
      "text/html": [
       "<div>\n",
       "<style scoped>\n",
       "    .dataframe tbody tr th:only-of-type {\n",
       "        vertical-align: middle;\n",
       "    }\n",
       "\n",
       "    .dataframe tbody tr th {\n",
       "        vertical-align: top;\n",
       "    }\n",
       "\n",
       "    .dataframe thead th {\n",
       "        text-align: right;\n",
       "    }\n",
       "</style>\n",
       "<table border=\"1\" class=\"dataframe\">\n",
       "  <thead>\n",
       "    <tr style=\"text-align: right;\">\n",
       "      <th></th>\n",
       "      <th>universe_id</th>\n",
       "      <th>universe_training_year</th>\n",
       "      <th>universe_training_size</th>\n",
       "      <th>universe_scale</th>\n",
       "      <th>universe_model</th>\n",
       "      <th>universe_exclude_features</th>\n",
       "      <th>universe_exclude_subgroups</th>\n",
       "      <th>q_hat</th>\n",
       "      <th>coverage</th>\n",
       "      <th>avg_size</th>\n",
       "      <th>cov_frau1</th>\n",
       "      <th>cov_nongerman</th>\n",
       "      <th>cov_nongerman_male</th>\n",
       "      <th>cov_nongerman_female</th>\n",
       "    </tr>\n",
       "  </thead>\n",
       "  <tbody>\n",
       "    <tr>\n",
       "      <th>0</th>\n",
       "      <td>157bef778c578c293295aa0c1753ebf5</td>\n",
       "      <td>2014</td>\n",
       "      <td>25k</td>\n",
       "      <td>scale</td>\n",
       "      <td>logreg</td>\n",
       "      <td>nationality</td>\n",
       "      <td>drop-non-german</td>\n",
       "      <td>0.675677</td>\n",
       "      <td>0.912696</td>\n",
       "      <td>1.125783</td>\n",
       "      <td>0.911713</td>\n",
       "      <td>0.912367</td>\n",
       "      <td>0.927767</td>\n",
       "      <td>0.886885</td>\n",
       "    </tr>\n",
       "  </tbody>\n",
       "</table>\n",
       "</div>"
      ],
      "text/plain": [
       "                        universe_id universe_training_year  \\\n",
       "0  157bef778c578c293295aa0c1753ebf5                   2014   \n",
       "\n",
       "  universe_training_size universe_scale universe_model  \\\n",
       "0                    25k          scale         logreg   \n",
       "\n",
       "  universe_exclude_features universe_exclude_subgroups     q_hat  coverage  \\\n",
       "0               nationality            drop-non-german  0.675677  0.912696   \n",
       "\n",
       "   avg_size  cov_frau1  cov_nongerman  cov_nongerman_male  \\\n",
       "0  1.125783   0.911713       0.912367            0.927767   \n",
       "\n",
       "   cov_nongerman_female  \n",
       "0              0.886885  "
      ]
     },
     "execution_count": 56,
     "metadata": {},
     "output_type": "execute_result"
    }
   ],
   "source": [
    "cp_metrics_df"
   ]
  },
  {
   "cell_type": "markdown",
   "id": "33774451",
   "metadata": {
    "papermill": {
     "duration": 0.012175,
     "end_time": "2025-08-19T16:56:25.035033",
     "exception": false,
     "start_time": "2025-08-19T16:56:25.022858",
     "status": "completed"
    },
    "tags": []
   },
   "source": [
    "# (Fairness) Metrics"
   ]
  },
  {
   "cell_type": "code",
   "execution_count": 57,
   "id": "debc5d62",
   "metadata": {
    "execution": {
     "iopub.execute_input": "2025-08-19T16:56:25.078564Z",
     "iopub.status.busy": "2025-08-19T16:56:25.078110Z",
     "iopub.status.idle": "2025-08-19T16:56:25.111353Z",
     "shell.execute_reply": "2025-08-19T16:56:25.109762Z"
    },
    "papermill": {
     "duration": 0.067838,
     "end_time": "2025-08-19T16:56:25.115305",
     "exception": false,
     "start_time": "2025-08-19T16:56:25.047467",
     "status": "completed"
    },
    "tags": []
   },
   "outputs": [],
   "source": [
    "colname_to_bin = \"maxdeutsch1\"\n",
    "majority_value = org_train[colname_to_bin].mode()[0]\n",
    "\n",
    "org_test[\"majmin\"] = np.where(org_test[colname_to_bin] == majority_value, \"majority\", \"minority\")"
   ]
  },
  {
   "cell_type": "code",
   "execution_count": 58,
   "id": "06a50de5",
   "metadata": {
    "execution": {
     "iopub.execute_input": "2025-08-19T16:56:25.161136Z",
     "iopub.status.busy": "2025-08-19T16:56:25.159875Z",
     "iopub.status.idle": "2025-08-19T16:56:26.932278Z",
     "shell.execute_reply": "2025-08-19T16:56:26.928298Z"
    },
    "papermill": {
     "duration": 1.790993,
     "end_time": "2025-08-19T16:56:26.935246",
     "exception": false,
     "start_time": "2025-08-19T16:56:25.144253",
     "status": "completed"
    },
    "tags": []
   },
   "outputs": [],
   "source": [
    "example_universe = universe.copy()\n",
    "example_universe[\"cutoff\"] = example_universe[\"cutoff\"][0]\n",
    "example_universe[\"eval_fairness_grouping\"] = example_universe[\"eval_fairness_grouping\"][0]\n",
    "fairness_dict, metric_frame = universe_analysis.compute_metrics(\n",
    "    example_universe,\n",
    "    y_pred_prob=probs_test,\n",
    "    y_test=y_true,\n",
    "    org_test=org_test,\n",
    ")"
   ]
  },
  {
   "cell_type": "markdown",
   "id": "f95d4e02",
   "metadata": {
    "papermill": {
     "duration": 0.012421,
     "end_time": "2025-08-19T16:56:26.962831",
     "exception": false,
     "start_time": "2025-08-19T16:56:26.950410",
     "status": "completed"
    },
    "tags": []
   },
   "source": [
    "# Overall"
   ]
  },
  {
   "cell_type": "markdown",
   "id": "bdee4871",
   "metadata": {
    "papermill": {
     "duration": 0.028282,
     "end_time": "2025-08-19T16:56:27.004252",
     "exception": false,
     "start_time": "2025-08-19T16:56:26.975970",
     "status": "completed"
    },
    "tags": []
   },
   "source": [
    "Main fairness target: Equalized Odds. Seems to be a better fit than equal opportunity, since we're not only interested in Y = 1. Seems to be a better fit than demographic parity, since we also care about accuracy, not just equal distribution of preds.\n",
    "\n",
    "Pick column for computation of fairness metrics\n",
    "\n",
    "Performance\n",
    "Overall performance measures, most interesting in relation to the measures split by group below"
   ]
  },
  {
   "cell_type": "code",
   "execution_count": 59,
   "id": "c4e067c6",
   "metadata": {
    "execution": {
     "iopub.execute_input": "2025-08-19T16:56:27.039830Z",
     "iopub.status.busy": "2025-08-19T16:56:27.039006Z",
     "iopub.status.idle": "2025-08-19T16:56:27.058698Z",
     "shell.execute_reply": "2025-08-19T16:56:27.057192Z"
    },
    "papermill": {
     "duration": 0.036449,
     "end_time": "2025-08-19T16:56:27.060555",
     "exception": false,
     "start_time": "2025-08-19T16:56:27.024106",
     "status": "completed"
    },
    "tags": []
   },
   "outputs": [
    {
     "data": {
      "text/plain": [
       "accuracy                   0.225382\n",
       "balanced accuracy          0.550878\n",
       "f1                         0.246686\n",
       "precision                  0.140923\n",
       "false positive rate        0.886947\n",
       "false negative rate        0.011296\n",
       "selection rate             0.900000\n",
       "count                  89710.000000\n",
       "dtype: float64"
      ]
     },
     "execution_count": 59,
     "metadata": {},
     "output_type": "execute_result"
    }
   ],
   "source": [
    "metric_frame.overall"
   ]
  },
  {
   "cell_type": "markdown",
   "id": "e968fe9d",
   "metadata": {
    "papermill": {
     "duration": 0.017542,
     "end_time": "2025-08-19T16:56:27.108261",
     "exception": false,
     "start_time": "2025-08-19T16:56:27.090719",
     "status": "completed"
    },
    "tags": []
   },
   "source": [
    "By Group"
   ]
  },
  {
   "cell_type": "code",
   "execution_count": 60,
   "id": "ec325bce",
   "metadata": {
    "execution": {
     "iopub.execute_input": "2025-08-19T16:56:27.142558Z",
     "iopub.status.busy": "2025-08-19T16:56:27.142253Z",
     "iopub.status.idle": "2025-08-19T16:56:27.156232Z",
     "shell.execute_reply": "2025-08-19T16:56:27.155266Z"
    },
    "papermill": {
     "duration": 0.032631,
     "end_time": "2025-08-19T16:56:27.157734",
     "exception": false,
     "start_time": "2025-08-19T16:56:27.125103",
     "status": "completed"
    },
    "tags": []
   },
   "outputs": [
    {
     "data": {
      "text/html": [
       "<div>\n",
       "<style scoped>\n",
       "    .dataframe tbody tr th:only-of-type {\n",
       "        vertical-align: middle;\n",
       "    }\n",
       "\n",
       "    .dataframe tbody tr th {\n",
       "        vertical-align: top;\n",
       "    }\n",
       "\n",
       "    .dataframe thead th {\n",
       "        text-align: right;\n",
       "    }\n",
       "</style>\n",
       "<table border=\"1\" class=\"dataframe\">\n",
       "  <thead>\n",
       "    <tr style=\"text-align: right;\">\n",
       "      <th></th>\n",
       "      <th>accuracy</th>\n",
       "      <th>balanced accuracy</th>\n",
       "      <th>f1</th>\n",
       "      <th>precision</th>\n",
       "      <th>false positive rate</th>\n",
       "      <th>false negative rate</th>\n",
       "      <th>selection rate</th>\n",
       "      <th>count</th>\n",
       "    </tr>\n",
       "    <tr>\n",
       "      <th>majmin</th>\n",
       "      <th></th>\n",
       "      <th></th>\n",
       "      <th></th>\n",
       "      <th></th>\n",
       "      <th></th>\n",
       "      <th></th>\n",
       "      <th></th>\n",
       "      <th></th>\n",
       "    </tr>\n",
       "  </thead>\n",
       "  <tbody>\n",
       "    <tr>\n",
       "      <th>majority</th>\n",
       "      <td>0.246350</td>\n",
       "      <td>0.560514</td>\n",
       "      <td>0.257217</td>\n",
       "      <td>0.147865</td>\n",
       "      <td>0.86650</td>\n",
       "      <td>0.012473</td>\n",
       "      <td>0.882492</td>\n",
       "      <td>69170.0</td>\n",
       "    </tr>\n",
       "    <tr>\n",
       "      <th>minority</th>\n",
       "      <td>0.154771</td>\n",
       "      <td>0.519376</td>\n",
       "      <td>0.213188</td>\n",
       "      <td>0.119409</td>\n",
       "      <td>0.95449</td>\n",
       "      <td>0.006757</td>\n",
       "      <td>0.958958</td>\n",
       "      <td>20540.0</td>\n",
       "    </tr>\n",
       "  </tbody>\n",
       "</table>\n",
       "</div>"
      ],
      "text/plain": [
       "          accuracy  balanced accuracy        f1  precision  \\\n",
       "majmin                                                       \n",
       "majority  0.246350           0.560514  0.257217   0.147865   \n",
       "minority  0.154771           0.519376  0.213188   0.119409   \n",
       "\n",
       "          false positive rate  false negative rate  selection rate    count  \n",
       "majmin                                                                       \n",
       "majority              0.86650             0.012473        0.882492  69170.0  \n",
       "minority              0.95449             0.006757        0.958958  20540.0  "
      ]
     },
     "execution_count": 60,
     "metadata": {},
     "output_type": "execute_result"
    }
   ],
   "source": [
    "metric_frame.by_group"
   ]
  },
  {
   "cell_type": "code",
   "execution_count": 61,
   "id": "a9ddbe63",
   "metadata": {
    "execution": {
     "iopub.execute_input": "2025-08-19T16:56:27.196451Z",
     "iopub.status.busy": "2025-08-19T16:56:27.195212Z",
     "iopub.status.idle": "2025-08-19T16:56:30.714330Z",
     "shell.execute_reply": "2025-08-19T16:56:30.713049Z"
    },
    "papermill": {
     "duration": 3.537288,
     "end_time": "2025-08-19T16:56:30.715556",
     "exception": false,
     "start_time": "2025-08-19T16:56:27.178268",
     "status": "completed"
    },
    "tags": []
   },
   "outputs": [
    {
     "data": {
      "text/plain": [
       "array([[<Axes: title={'center': 'accuracy'}, xlabel='majmin'>,\n",
       "        <Axes: title={'center': 'balanced accuracy'}, xlabel='majmin'>,\n",
       "        <Axes: title={'center': 'f1'}, xlabel='majmin'>],\n",
       "       [<Axes: title={'center': 'precision'}, xlabel='majmin'>,\n",
       "        <Axes: title={'center': 'false positive rate'}, xlabel='majmin'>,\n",
       "        <Axes: title={'center': 'false negative rate'}, xlabel='majmin'>],\n",
       "       [<Axes: title={'center': 'selection rate'}, xlabel='majmin'>,\n",
       "        <Axes: title={'center': 'count'}, xlabel='majmin'>,\n",
       "        <Axes: xlabel='majmin'>]], dtype=object)"
      ]
     },
     "execution_count": 61,
     "metadata": {},
     "output_type": "execute_result"
    },
    {
     "data": {
      "image/png": "[encoded data removed]",
      "text/plain": [
       "<Figure size 1200x800 with 9 Axes>"
      ]
     },
     "metadata": {},
     "output_type": "display_data"
    }
   ],
   "source": [
    "# In a graphic\n",
    "metric_frame.by_group.plot.bar(\n",
    "    subplots=True,\n",
    "    layout=[3, 3],\n",
    "    legend=False,\n",
    "    figsize=[12, 8],\n",
    "    title=\"Show all metrics\",\n",
    ")"
   ]
  },
  {
   "cell_type": "markdown",
   "id": "f57a0bac",
   "metadata": {
    "papermill": {
     "duration": 0.013822,
     "end_time": "2025-08-19T16:56:30.746170",
     "exception": false,
     "start_time": "2025-08-19T16:56:30.732348",
     "status": "completed"
    },
    "tags": []
   },
   "source": [
    "# Final Output"
   ]
  },
  {
   "cell_type": "code",
   "execution_count": 62,
   "id": "96d280a3",
   "metadata": {
    "execution": {
     "iopub.execute_input": "2025-08-19T16:56:30.775720Z",
     "iopub.status.busy": "2025-08-19T16:56:30.774889Z",
     "iopub.status.idle": "2025-08-19T16:56:30.786732Z",
     "shell.execute_reply": "2025-08-19T16:56:30.785978Z"
    },
    "papermill": {
     "duration": 0.027949,
     "end_time": "2025-08-19T16:56:30.787933",
     "exception": false,
     "start_time": "2025-08-19T16:56:30.759984",
     "status": "completed"
    },
    "tags": []
   },
   "outputs": [
    {
     "data": {
      "text/plain": [
       "4"
      ]
     },
     "execution_count": 62,
     "metadata": {},
     "output_type": "execute_result"
    }
   ],
   "source": [
    "sub_universes = universe_analysis.generate_sub_universes()\n",
    "len(sub_universes)"
   ]
  },
  {
   "cell_type": "code",
   "execution_count": 63,
   "id": "92adf7ba",
   "metadata": {
    "execution": {
     "iopub.execute_input": "2025-08-19T16:56:30.843851Z",
     "iopub.status.busy": "2025-08-19T16:56:30.843459Z",
     "iopub.status.idle": "2025-08-19T16:56:30.848152Z",
     "shell.execute_reply": "2025-08-19T16:56:30.847412Z"
    },
    "papermill": {
     "duration": 0.043412,
     "end_time": "2025-08-19T16:56:30.850043",
     "exception": false,
     "start_time": "2025-08-19T16:56:30.806631",
     "status": "completed"
    },
    "tags": []
   },
   "outputs": [],
   "source": [
    "def filter_sub_universe_data(sub_universe, org_test):\n",
    "    # Keep all rows — no filtering\n",
    "    keep_rows_mask = np.ones(org_test.shape[0], dtype=bool)\n",
    "\n",
    "    print(f\"[INFO] Keeping all rows: {keep_rows_mask.sum()} rows retained.\")\n",
    "    return keep_rows_mask"
   ]
  },
  {
   "cell_type": "code",
   "execution_count": 64,
   "id": "4a759155",
   "metadata": {
    "execution": {
     "iopub.execute_input": "2025-08-19T16:56:30.889687Z",
     "iopub.status.busy": "2025-08-19T16:56:30.889266Z",
     "iopub.status.idle": "2025-08-19T16:56:38.352061Z",
     "shell.execute_reply": "2025-08-19T16:56:38.351053Z"
    },
    "papermill": {
     "duration": 7.479905,
     "end_time": "2025-08-19T16:56:38.353516",
     "exception": false,
     "start_time": "2025-08-19T16:56:30.873611",
     "status": "completed"
    },
    "tags": []
   },
   "outputs": [
    {
     "name": "stdout",
     "output_type": "stream",
     "text": [
      "Stopping execution_time clock.\n",
      "[INFO] Keeping all rows: 89710 rows retained.\n"
     ]
    },
    {
     "name": "stdout",
     "output_type": "stream",
     "text": [
      "[INFO] Keeping all rows: 89710 rows retained.\n"
     ]
    },
    {
     "name": "stdout",
     "output_type": "stream",
     "text": [
      "[INFO] Keeping all rows: 89710 rows retained.\n"
     ]
    },
    {
     "name": "stdout",
     "output_type": "stream",
     "text": [
      "[INFO] Keeping all rows: 89710 rows retained.\n"
     ]
    },
    {
     "data": {
      "text/html": [
       "<div>\n",
       "<style scoped>\n",
       "    .dataframe tbody tr th:only-of-type {\n",
       "        vertical-align: middle;\n",
       "    }\n",
       "\n",
       "    .dataframe tbody tr th {\n",
       "        vertical-align: top;\n",
       "    }\n",
       "\n",
       "    .dataframe thead th {\n",
       "        text-align: right;\n",
       "    }\n",
       "</style>\n",
       "<table border=\"1\" class=\"dataframe\">\n",
       "  <thead>\n",
       "    <tr style=\"text-align: right;\">\n",
       "      <th></th>\n",
       "      <th>run_no</th>\n",
       "      <th>universe_id</th>\n",
       "      <th>universe_settings</th>\n",
       "      <th>execution_time</th>\n",
       "      <th>test_size_n</th>\n",
       "      <th>test_size_frac</th>\n",
       "      <th>fair_main_equalized_odds_difference</th>\n",
       "      <th>fair_main_equalized_odds_ratio</th>\n",
       "      <th>fair_main_demographic_parity_difference</th>\n",
       "      <th>fair_main_demographic_parity_ratio</th>\n",
       "      <th>...</th>\n",
       "      <th>perf_grp_precision_0</th>\n",
       "      <th>perf_grp_precision_1</th>\n",
       "      <th>perf_grp_false positive rate_0</th>\n",
       "      <th>perf_grp_false positive rate_1</th>\n",
       "      <th>perf_grp_false negative rate_0</th>\n",
       "      <th>perf_grp_false negative rate_1</th>\n",
       "      <th>perf_grp_selection rate_0</th>\n",
       "      <th>perf_grp_selection rate_1</th>\n",
       "      <th>perf_grp_count_0</th>\n",
       "      <th>perf_grp_count_1</th>\n",
       "    </tr>\n",
       "  </thead>\n",
       "  <tbody>\n",
       "    <tr>\n",
       "      <th>0</th>\n",
       "      <td>2</td>\n",
       "      <td>157bef778c578c293295aa0c1753ebf5</td>\n",
       "      <td>{\"cutoff\": \"quantile_0.1\", \"eval_fairness_grou...</td>\n",
       "      <td>27.191451</td>\n",
       "      <td>89710</td>\n",
       "      <td>1.0</td>\n",
       "      <td>0.087990</td>\n",
       "      <td>0.907814</td>\n",
       "      <td>0.076466</td>\n",
       "      <td>0.920262</td>\n",
       "      <td>...</td>\n",
       "      <td>NaN</td>\n",
       "      <td>NaN</td>\n",
       "      <td>NaN</td>\n",
       "      <td>NaN</td>\n",
       "      <td>NaN</td>\n",
       "      <td>NaN</td>\n",
       "      <td>NaN</td>\n",
       "      <td>NaN</td>\n",
       "      <td>NaN</td>\n",
       "      <td>NaN</td>\n",
       "    </tr>\n",
       "    <tr>\n",
       "      <th>0</th>\n",
       "      <td>2</td>\n",
       "      <td>157bef778c578c293295aa0c1753ebf5</td>\n",
       "      <td>{\"cutoff\": \"quantile_0.1\", \"eval_fairness_grou...</td>\n",
       "      <td>27.191451</td>\n",
       "      <td>89710</td>\n",
       "      <td>1.0</td>\n",
       "      <td>0.087990</td>\n",
       "      <td>0.907814</td>\n",
       "      <td>0.076466</td>\n",
       "      <td>0.920262</td>\n",
       "      <td>...</td>\n",
       "      <td>0.119409</td>\n",
       "      <td>0.147865</td>\n",
       "      <td>0.954490</td>\n",
       "      <td>0.866500</td>\n",
       "      <td>0.006757</td>\n",
       "      <td>0.012473</td>\n",
       "      <td>0.958958</td>\n",
       "      <td>0.882492</td>\n",
       "      <td>20540.0</td>\n",
       "      <td>69170.0</td>\n",
       "    </tr>\n",
       "    <tr>\n",
       "      <th>0</th>\n",
       "      <td>2</td>\n",
       "      <td>157bef778c578c293295aa0c1753ebf5</td>\n",
       "      <td>{\"cutoff\": \"quantile_0.25\", \"eval_fairness_gro...</td>\n",
       "      <td>27.191451</td>\n",
       "      <td>89710</td>\n",
       "      <td>1.0</td>\n",
       "      <td>0.161549</td>\n",
       "      <td>0.808714</td>\n",
       "      <td>0.139616</td>\n",
       "      <td>0.837210</td>\n",
       "      <td>...</td>\n",
       "      <td>NaN</td>\n",
       "      <td>NaN</td>\n",
       "      <td>NaN</td>\n",
       "      <td>NaN</td>\n",
       "      <td>NaN</td>\n",
       "      <td>NaN</td>\n",
       "      <td>NaN</td>\n",
       "      <td>NaN</td>\n",
       "      <td>NaN</td>\n",
       "      <td>NaN</td>\n",
       "    </tr>\n",
       "    <tr>\n",
       "      <th>0</th>\n",
       "      <td>2</td>\n",
       "      <td>157bef778c578c293295aa0c1753ebf5</td>\n",
       "      <td>{\"cutoff\": \"quantile_0.25\", \"eval_fairness_gro...</td>\n",
       "      <td>27.191451</td>\n",
       "      <td>89710</td>\n",
       "      <td>1.0</td>\n",
       "      <td>0.161549</td>\n",
       "      <td>0.808714</td>\n",
       "      <td>0.139616</td>\n",
       "      <td>0.837210</td>\n",
       "      <td>...</td>\n",
       "      <td>0.128803</td>\n",
       "      <td>0.174486</td>\n",
       "      <td>0.844541</td>\n",
       "      <td>0.682992</td>\n",
       "      <td>0.041807</td>\n",
       "      <td>0.051860</td>\n",
       "      <td>0.857644</td>\n",
       "      <td>0.718028</td>\n",
       "      <td>20540.0</td>\n",
       "      <td>69170.0</td>\n",
       "    </tr>\n",
       "  </tbody>\n",
       "</table>\n",
       "<p>4 rows × 50 columns</p>\n",
       "</div>"
      ],
      "text/plain": [
       "  run_no                       universe_id  \\\n",
       "0      2  157bef778c578c293295aa0c1753ebf5   \n",
       "0      2  157bef778c578c293295aa0c1753ebf5   \n",
       "0      2  157bef778c578c293295aa0c1753ebf5   \n",
       "0      2  157bef778c578c293295aa0c1753ebf5   \n",
       "\n",
       "                                   universe_settings  execution_time  \\\n",
       "0  {\"cutoff\": \"quantile_0.1\", \"eval_fairness_grou...       27.191451   \n",
       "0  {\"cutoff\": \"quantile_0.1\", \"eval_fairness_grou...       27.191451   \n",
       "0  {\"cutoff\": \"quantile_0.25\", \"eval_fairness_gro...       27.191451   \n",
       "0  {\"cutoff\": \"quantile_0.25\", \"eval_fairness_gro...       27.191451   \n",
       "\n",
       "   test_size_n  test_size_frac  fair_main_equalized_odds_difference  \\\n",
       "0        89710             1.0                             0.087990   \n",
       "0        89710             1.0                             0.087990   \n",
       "0        89710             1.0                             0.161549   \n",
       "0        89710             1.0                             0.161549   \n",
       "\n",
       "   fair_main_equalized_odds_ratio  fair_main_demographic_parity_difference  \\\n",
       "0                        0.907814                                 0.076466   \n",
       "0                        0.907814                                 0.076466   \n",
       "0                        0.808714                                 0.139616   \n",
       "0                        0.808714                                 0.139616   \n",
       "\n",
       "   fair_main_demographic_parity_ratio  ...  perf_grp_precision_0  \\\n",
       "0                            0.920262  ...                   NaN   \n",
       "0                            0.920262  ...              0.119409   \n",
       "0                            0.837210  ...                   NaN   \n",
       "0                            0.837210  ...              0.128803   \n",
       "\n",
       "   perf_grp_precision_1  perf_grp_false positive rate_0  \\\n",
       "0                   NaN                             NaN   \n",
       "0              0.147865                        0.954490   \n",
       "0                   NaN                             NaN   \n",
       "0              0.174486                        0.844541   \n",
       "\n",
       "   perf_grp_false positive rate_1  perf_grp_false negative rate_0  \\\n",
       "0                             NaN                             NaN   \n",
       "0                        0.866500                        0.006757   \n",
       "0                             NaN                             NaN   \n",
       "0                        0.682992                        0.041807   \n",
       "\n",
       "   perf_grp_false negative rate_1  perf_grp_selection rate_0  \\\n",
       "0                             NaN                        NaN   \n",
       "0                        0.012473                   0.958958   \n",
       "0                             NaN                        NaN   \n",
       "0                        0.051860                   0.857644   \n",
       "\n",
       "   perf_grp_selection rate_1  perf_grp_count_0  perf_grp_count_1  \n",
       "0                        NaN               NaN               NaN  \n",
       "0                   0.882492           20540.0           69170.0  \n",
       "0                        NaN               NaN               NaN  \n",
       "0                   0.718028           20540.0           69170.0  \n",
       "\n",
       "[4 rows x 50 columns]"
      ]
     },
     "execution_count": 64,
     "metadata": {},
     "output_type": "execute_result"
    }
   ],
   "source": [
    "final_output = universe_analysis.generate_final_output(\n",
    "    y_pred_prob=probs_test,\n",
    "    y_test=y_true,\n",
    "    org_test=org_test,\n",
    "    filter_data=filter_sub_universe_data,\n",
    "    cp_metrics_df=cp_metrics_df,\n",
    "    save=True,\n",
    ")\n",
    "final_output"
   ]
  },
  {
   "cell_type": "code",
   "execution_count": null,
   "id": "571f9a0f-660a-4841-b661-b06fbc637944",
   "metadata": {
    "papermill": {
     "duration": 0.015598,
     "end_time": "2025-08-19T16:56:38.387815",
     "exception": false,
     "start_time": "2025-08-19T16:56:38.372217",
     "status": "completed"
    },
    "tags": []
   },
   "outputs": [],
   "source": []
  },
  {
   "cell_type": "code",
   "execution_count": null,
   "id": "529482e3-0150-4854-a92d-ab864efc606e",
   "metadata": {
    "papermill": {
     "duration": 0.016866,
     "end_time": "2025-08-19T16:56:38.420300",
     "exception": false,
     "start_time": "2025-08-19T16:56:38.403434",
     "status": "completed"
    },
    "tags": []
   },
   "outputs": [],
   "source": []
  }
 ],
 "metadata": {
  "celltoolbar": "Tags",
  "kernelspec": {
   "display_name": "Python (CMA Fairness)",
   "language": "python",
   "name": "cma_fair_env"
  },
  "language_info": {
   "codemirror_mode": {
    "name": "ipython",
    "version": 3
   },
   "file_extension": ".py",
   "mimetype": "text/x-python",
   "name": "python",
   "nbconvert_exporter": "python",
   "pygments_lexer": "ipython3",
   "version": "3.10.12"
  },
  "papermill": {
   "default_parameters": {},
   "duration": 51.707367,
   "end_time": "2025-08-19T16:56:39.260166",
   "environment_variables": {},
   "exception": null,
   "input_path": "universe_analysis.ipynb",
   "output_path": "output/runs/2/notebooks/m_2-157bef778c578c293295aa0c1753ebf5.ipynb",
   "parameters": {
    "output_dir": "output",
    "run_no": "2",
    "seed": "2023",
    "universe": "{\"cutoff\": [\"quantile_0.1\", \"quantile_0.25\"], \"eval_fairness_grouping\": [\"majority-minority\", \"nationality-all\"], \"exclude_features\": \"nationality\", \"exclude_subgroups\": \"drop-non-german\", \"model\": \"logreg\", \"scale\": \"scale\", \"training_size\": \"25k\", \"training_year\": \"2014\"}",
    "universe_id": "157bef778c578c293295aa0c1753ebf5"
   },
   "start_time": "2025-08-19T16:55:47.552799",
   "version": "2.6.0"
  }
 },
 "nbformat": 4,
 "nbformat_minor": 5
}