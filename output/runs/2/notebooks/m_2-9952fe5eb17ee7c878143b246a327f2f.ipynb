{
 "cells": [
  {
   "cell_type": "markdown",
   "id": "b2057076-3a91-4cfa-9bfd-eab1e61b3068",
   "metadata": {
    "papermill": {
     "duration": 0.009992,
     "end_time": "2025-08-19T16:56:39.751463",
     "exception": false,
     "start_time": "2025-08-19T16:56:39.741471",
     "status": "completed"
    },
    "tags": []
   },
   "source": [
    "# Setup"
   ]
  },
  {
   "cell_type": "code",
   "execution_count": 1,
   "id": "f159f837-637b-42ba-96b5-ec9a68c44524",
   "metadata": {
    "execution": {
     "iopub.execute_input": "2025-08-19T16:56:39.788184Z",
     "iopub.status.busy": "2025-08-19T16:56:39.787877Z",
     "iopub.status.idle": "2025-08-19T16:56:39.807261Z",
     "shell.execute_reply": "2025-08-19T16:56:39.805760Z"
    },
    "papermill": {
     "duration": 0.032277,
     "end_time": "2025-08-19T16:56:39.809155",
     "exception": false,
     "start_time": "2025-08-19T16:56:39.776878",
     "status": "completed"
    },
    "tags": []
   },
   "outputs": [
    {
     "name": "stdout",
     "output_type": "stream",
     "text": [
      "/dss/dsshome1/0C/ra93lal2/cma/CMA_Fairness_v2\n"
     ]
    },
    {
     "name": "stderr",
     "output_type": "stream",
     "text": [
      "/dss/dsshome1/0C/ra93lal2/.local/share/virtualenvs/CMA_Fairness_v2-3j10GkSs/lib/python3.10/site-packages/IPython/core/magics/osm.py:393: UserWarning: This is now an optional IPython functionality, using bookmarks requires you to install the `pickleshare` library.\n",
      "  bkms = self.shell.db.get('bookmarks', {})\n",
      "/dss/dsshome1/0C/ra93lal2/.local/share/virtualenvs/CMA_Fairness_v2-3j10GkSs/lib/python3.10/site-packages/IPython/core/magics/osm.py:417: UserWarning: This is now an optional IPython functionality, setting dhist requires you to install the `pickleshare` library.\n",
      "  self.shell.db['dhist'] = compress_dhist(dhist)[-100:]\n"
     ]
    }
   ],
   "source": [
    "%cd ~/cma/CMA_Fairness_v2"
   ]
  },
  {
   "cell_type": "markdown",
   "id": "de2603b9",
   "metadata": {
    "papermill": {
     "duration": 0.008674,
     "end_time": "2025-08-19T16:56:39.829006",
     "exception": false,
     "start_time": "2025-08-19T16:56:39.820332",
     "status": "completed"
    },
    "tags": []
   },
   "source": [
    "The following cell holds the definition of our parameters, these values can be overriden by rendering the with e.g. the following command:\n",
    "\n",
    "papermill -p alpha 0.2 -p ratio 0.3 universe_analysis.ipynb output/test_run.ipynb"
   ]
  },
  {
   "cell_type": "code",
   "execution_count": 2,
   "id": "a80968a0-40bb-4fa9-85ef-2d5eefb01975",
   "metadata": {
    "execution": {
     "iopub.execute_input": "2025-08-19T16:56:39.853563Z",
     "iopub.status.busy": "2025-08-19T16:56:39.848398Z",
     "iopub.status.idle": "2025-08-19T16:56:39.863000Z",
     "shell.execute_reply": "2025-08-19T16:56:39.859971Z"
    },
    "papermill": {
     "duration": 0.030845,
     "end_time": "2025-08-19T16:56:39.868552",
     "exception": false,
     "start_time": "2025-08-19T16:56:39.837707",
     "status": "completed"
    },
    "tags": []
   },
   "outputs": [
    {
     "name": "stdout",
     "output_type": "stream",
     "text": [
      "Current working directory: /dss/dsshome1/0C/ra93lal2/cma/CMA_Fairness_v2\n"
     ]
    }
   ],
   "source": [
    "import os\n",
    "print(\"Current working directory:\", os.getcwd())"
   ]
  },
  {
   "cell_type": "code",
   "execution_count": 3,
   "id": "2dce4c03",
   "metadata": {
    "execution": {
     "iopub.execute_input": "2025-08-19T16:56:39.891320Z",
     "iopub.status.busy": "2025-08-19T16:56:39.890381Z",
     "iopub.status.idle": "2025-08-19T16:56:39.899777Z",
     "shell.execute_reply": "2025-08-19T16:56:39.898410Z"
    },
    "papermill": {
     "duration": 0.021445,
     "end_time": "2025-08-19T16:56:39.901540",
     "exception": false,
     "start_time": "2025-08-19T16:56:39.880095",
     "status": "completed"
    },
    "tags": [
     "parameters"
    ]
   },
   "outputs": [],
   "source": [
    "run_no = 0\n",
    "universe_id = \"test\"\n",
    "universe = {\n",
    "    \"training_size\": \"5k\", # \"25k\", \"5k\", \"1k\"\n",
    "    \"training_year\": \"2012_14\", # \"2014\", \"2012_14\", \"2010_14\"\n",
    "    \"scale\": \"scale\", # \"scale\", \"do-not-scale\",\n",
    "    \"model\": \"elasticnet\", # \"logreg\", \"penalized_logreg\", \"rf\", \"gbm\", \"elasticnet\"\n",
    "    \"cutoff\": [\"quantile_0.15\", \"quantile_0.30\"],\n",
    "    \"exclude_features\": \"age\", # \"none\", \"nationality\", \"sex\", \"nationality-sex\", \"age\"\n",
    "    \"exclude_subgroups\": \"drop-non-german\", # \"keep-all\", \"drop-non-german\"\n",
    "    \"eval_fairness_grouping\": [\"majority-minority\", \"nationality-all\"]\n",
    "}\n",
    "\n",
    "output_dir=\"./output\"\n",
    "seed=0"
   ]
  },
  {
   "cell_type": "code",
   "execution_count": 4,
   "id": "a8250a93",
   "metadata": {
    "execution": {
     "iopub.execute_input": "2025-08-19T16:56:39.924859Z",
     "iopub.status.busy": "2025-08-19T16:56:39.923958Z",
     "iopub.status.idle": "2025-08-19T16:56:39.934489Z",
     "shell.execute_reply": "2025-08-19T16:56:39.933689Z"
    },
    "papermill": {
     "duration": 0.022739,
     "end_time": "2025-08-19T16:56:39.936120",
     "exception": false,
     "start_time": "2025-08-19T16:56:39.913381",
     "status": "completed"
    },
    "tags": [
     "injected-parameters"
    ]
   },
   "outputs": [],
   "source": [
    "# Parameters\n",
    "universe_id = \"9952fe5eb17ee7c878143b246a327f2f\"\n",
    "run_no = \"2\"\n",
    "universe = \"{\\\"cutoff\\\": [\\\"quantile_0.1\\\", \\\"quantile_0.25\\\"], \\\"eval_fairness_grouping\\\": [\\\"majority-minority\\\", \\\"nationality-all\\\"], \\\"exclude_features\\\": \\\"nationality-sex\\\", \\\"exclude_subgroups\\\": \\\"drop-non-german\\\", \\\"model\\\": \\\"logreg\\\", \\\"scale\\\": \\\"scale\\\", \\\"training_size\\\": \\\"25k\\\", \\\"training_year\\\": \\\"2014\\\"}\"\n",
    "output_dir = \"output\"\n",
    "seed = \"2023\"\n"
   ]
  },
  {
   "cell_type": "code",
   "execution_count": 5,
   "id": "1650acaf",
   "metadata": {
    "execution": {
     "iopub.execute_input": "2025-08-19T16:56:39.976430Z",
     "iopub.status.busy": "2025-08-19T16:56:39.976132Z",
     "iopub.status.idle": "2025-08-19T16:56:39.995330Z",
     "shell.execute_reply": "2025-08-19T16:56:39.994457Z"
    },
    "papermill": {
     "duration": 0.044003,
     "end_time": "2025-08-19T16:56:39.996849",
     "exception": false,
     "start_time": "2025-08-19T16:56:39.952846",
     "status": "completed"
    },
    "tags": []
   },
   "outputs": [],
   "source": [
    "import json\n",
    "if isinstance(universe, str):\n",
    "    universe = json.loads(universe)"
   ]
  },
  {
   "cell_type": "code",
   "execution_count": 6,
   "id": "16620c48",
   "metadata": {
    "execution": {
     "iopub.execute_input": "2025-08-19T16:56:40.018396Z",
     "iopub.status.busy": "2025-08-19T16:56:40.017042Z",
     "iopub.status.idle": "2025-08-19T16:56:40.078404Z",
     "shell.execute_reply": "2025-08-19T16:56:40.077591Z"
    },
    "papermill": {
     "duration": 0.075661,
     "end_time": "2025-08-19T16:56:40.081875",
     "exception": false,
     "start_time": "2025-08-19T16:56:40.006214",
     "status": "completed"
    },
    "tags": []
   },
   "outputs": [],
   "source": [
    "# Auto-reload the custom package\n",
    "%load_ext autoreload\n",
    "%autoreload 1\n",
    "%aimport fairness_multiverse"
   ]
  },
  {
   "cell_type": "code",
   "execution_count": 7,
   "id": "01c5c9f3",
   "metadata": {
    "execution": {
     "iopub.execute_input": "2025-08-19T16:56:40.135318Z",
     "iopub.status.busy": "2025-08-19T16:56:40.132646Z",
     "iopub.status.idle": "2025-08-19T16:56:41.959284Z",
     "shell.execute_reply": "2025-08-19T16:56:41.958396Z"
    },
    "papermill": {
     "duration": 1.853597,
     "end_time": "2025-08-19T16:56:41.962012",
     "exception": false,
     "start_time": "2025-08-19T16:56:40.108415",
     "status": "completed"
    },
    "tags": []
   },
   "outputs": [],
   "source": [
    "from fairness_multiverse.universe import UniverseAnalysis\n",
    "\n",
    "universe_analysis = UniverseAnalysis(\n",
    "    run_no = run_no,\n",
    "    universe_id = universe_id,\n",
    "    universe = universe,\n",
    "    output_dir=output_dir,\n",
    ")"
   ]
  },
  {
   "cell_type": "code",
   "execution_count": 8,
   "id": "106241f5",
   "metadata": {
    "execution": {
     "iopub.execute_input": "2025-08-19T16:56:41.989284Z",
     "iopub.status.busy": "2025-08-19T16:56:41.988667Z",
     "iopub.status.idle": "2025-08-19T16:56:41.995707Z",
     "shell.execute_reply": "2025-08-19T16:56:41.994700Z"
    },
    "papermill": {
     "duration": 0.02094,
     "end_time": "2025-08-19T16:56:41.997005",
     "exception": false,
     "start_time": "2025-08-19T16:56:41.976065",
     "status": "completed"
    },
    "tags": []
   },
   "outputs": [
    {
     "name": "stdout",
     "output_type": "stream",
     "text": [
      "Using Seed: 2023\n"
     ]
    }
   ],
   "source": [
    "import numpy as np\n",
    "parsed_seed = int(seed)\n",
    "np.random.seed(parsed_seed)\n",
    "print(f\"Using Seed: {parsed_seed}\")"
   ]
  },
  {
   "cell_type": "markdown",
   "id": "e0ebdc57",
   "metadata": {
    "papermill": {
     "duration": 0.009021,
     "end_time": "2025-08-19T16:56:42.015432",
     "exception": false,
     "start_time": "2025-08-19T16:56:42.006411",
     "status": "completed"
    },
    "tags": []
   },
   "source": [
    "# Loading Data"
   ]
  },
  {
   "cell_type": "code",
   "execution_count": 9,
   "id": "f0496b8a",
   "metadata": {
    "execution": {
     "iopub.execute_input": "2025-08-19T16:56:42.034808Z",
     "iopub.status.busy": "2025-08-19T16:56:42.034425Z",
     "iopub.status.idle": "2025-08-19T16:56:51.940932Z",
     "shell.execute_reply": "2025-08-19T16:56:51.939715Z"
    },
    "papermill": {
     "duration": 9.918023,
     "end_time": "2025-08-19T16:56:51.942526",
     "exception": false,
     "start_time": "2025-08-19T16:56:42.024503",
     "status": "completed"
    },
    "tags": []
   },
   "outputs": [
    {
     "name": "stdout",
     "output_type": "stream",
     "text": [
      "Loading SIAB data from cache: data/siab_cached.csv.gz\n"
     ]
    },
    {
     "name": "stdout",
     "output_type": "stream",
     "text": [
      "(643690, 164)\n"
     ]
    }
   ],
   "source": [
    "from pathlib import Path\n",
    "import pandas as pd\n",
    "\n",
    "# File paths\n",
    "raw_file = Path(\"data/raw/siab.csv\")\n",
    "cache_file = Path(\"data/siab_cached.csv.gz\")\n",
    "\n",
    "# Ensure cache directory exists\n",
    "cache_file.parent.mkdir(parents=True, exist_ok=True)\n",
    "\n",
    "# Load with simple caching\n",
    "if cache_file.exists():\n",
    "    print(f\"Loading SIAB data from cache: {cache_file}\")\n",
    "    siab = pd.read_csv(cache_file, compression='gzip')\n",
    "else:\n",
    "    print(f\"Cache not found. Reading raw SIAB data: {raw_file}\")\n",
    "    siab = pd.read_csv(raw_file)\n",
    "    siab.to_csv(cache_file, index=False, compression='gzip')\n",
    "    print(f\"Cached SIAB data to: {cache_file}\")\n",
    "\n",
    "print(siab.shape)"
   ]
  },
  {
   "cell_type": "code",
   "execution_count": 10,
   "id": "db0ca512-5f53-4dba-abdb-a2888bca41ba",
   "metadata": {
    "execution": {
     "iopub.execute_input": "2025-08-19T16:56:51.967161Z",
     "iopub.status.busy": "2025-08-19T16:56:51.966297Z",
     "iopub.status.idle": "2025-08-19T16:56:52.132492Z",
     "shell.execute_reply": "2025-08-19T16:56:52.131759Z"
    },
    "papermill": {
     "duration": 0.180379,
     "end_time": "2025-08-19T16:56:52.135074",
     "exception": false,
     "start_time": "2025-08-19T16:56:51.954695",
     "status": "completed"
    },
    "tags": []
   },
   "outputs": [
    {
     "data": {
      "text/html": [
       "<div>\n",
       "<style scoped>\n",
       "    .dataframe tbody tr th:only-of-type {\n",
       "        vertical-align: middle;\n",
       "    }\n",
       "\n",
       "    .dataframe tbody tr th {\n",
       "        vertical-align: top;\n",
       "    }\n",
       "\n",
       "    .dataframe thead th {\n",
       "        text-align: right;\n",
       "    }\n",
       "</style>\n",
       "<table border=\"1\" class=\"dataframe\">\n",
       "  <thead>\n",
       "    <tr style=\"text-align: right;\">\n",
       "      <th></th>\n",
       "      <th>persnr</th>\n",
       "      <th>year</th>\n",
       "      <th>nrEntry</th>\n",
       "      <th>ltue</th>\n",
       "      <th>employed_before</th>\n",
       "      <th>receipt_leh_before</th>\n",
       "      <th>receipt_lhg_before</th>\n",
       "      <th>se_before</th>\n",
       "      <th>ASU_notue_seeking_before</th>\n",
       "      <th>ASU_other_before</th>\n",
       "      <th>...</th>\n",
       "      <th>minijob_tot_dur_byage</th>\n",
       "      <th>ft_tot_dur_byage</th>\n",
       "      <th>befrist_tot_dur_byage</th>\n",
       "      <th>leih_tot_dur_byage</th>\n",
       "      <th>LHG_tot_dur_byage</th>\n",
       "      <th>LEH_tot_dur_byage</th>\n",
       "      <th>almp_tot_dur_byage</th>\n",
       "      <th>almp_aw_tot_dur_byage</th>\n",
       "      <th>se_tot_dur_byage</th>\n",
       "      <th>seeking1_tot_dur_byage</th>\n",
       "    </tr>\n",
       "  </thead>\n",
       "  <tbody>\n",
       "    <tr>\n",
       "      <th>0</th>\n",
       "      <td>7</td>\n",
       "      <td>2015</td>\n",
       "      <td>1</td>\n",
       "      <td>0</td>\n",
       "      <td>1</td>\n",
       "      <td>0</td>\n",
       "      <td>0</td>\n",
       "      <td>0</td>\n",
       "      <td>1</td>\n",
       "      <td>0</td>\n",
       "      <td>...</td>\n",
       "      <td>0.000000</td>\n",
       "      <td>0.000000</td>\n",
       "      <td>15.043478</td>\n",
       "      <td>0.000000</td>\n",
       "      <td>0.000000</td>\n",
       "      <td>0.000000</td>\n",
       "      <td>0.000000</td>\n",
       "      <td>0.000000</td>\n",
       "      <td>0.000000</td>\n",
       "      <td>0.000000</td>\n",
       "    </tr>\n",
       "    <tr>\n",
       "      <th>1</th>\n",
       "      <td>18</td>\n",
       "      <td>2010</td>\n",
       "      <td>1</td>\n",
       "      <td>1</td>\n",
       "      <td>0</td>\n",
       "      <td>0</td>\n",
       "      <td>0</td>\n",
       "      <td>0</td>\n",
       "      <td>0</td>\n",
       "      <td>0</td>\n",
       "      <td>...</td>\n",
       "      <td>0.000000</td>\n",
       "      <td>0.000000</td>\n",
       "      <td>0.000000</td>\n",
       "      <td>0.000000</td>\n",
       "      <td>0.000000</td>\n",
       "      <td>0.000000</td>\n",
       "      <td>0.000000</td>\n",
       "      <td>0.000000</td>\n",
       "      <td>0.000000</td>\n",
       "      <td>0.000000</td>\n",
       "    </tr>\n",
       "    <tr>\n",
       "      <th>2</th>\n",
       "      <td>18</td>\n",
       "      <td>2011</td>\n",
       "      <td>2</td>\n",
       "      <td>0</td>\n",
       "      <td>1</td>\n",
       "      <td>0</td>\n",
       "      <td>1</td>\n",
       "      <td>0</td>\n",
       "      <td>1</td>\n",
       "      <td>0</td>\n",
       "      <td>...</td>\n",
       "      <td>2.714286</td>\n",
       "      <td>2.714286</td>\n",
       "      <td>0.000000</td>\n",
       "      <td>0.000000</td>\n",
       "      <td>10.775510</td>\n",
       "      <td>0.000000</td>\n",
       "      <td>8.367347</td>\n",
       "      <td>0.000000</td>\n",
       "      <td>0.000000</td>\n",
       "      <td>9.836735</td>\n",
       "    </tr>\n",
       "    <tr>\n",
       "      <th>3</th>\n",
       "      <td>18</td>\n",
       "      <td>2012</td>\n",
       "      <td>3</td>\n",
       "      <td>0</td>\n",
       "      <td>1</td>\n",
       "      <td>0</td>\n",
       "      <td>1</td>\n",
       "      <td>0</td>\n",
       "      <td>1</td>\n",
       "      <td>0</td>\n",
       "      <td>...</td>\n",
       "      <td>4.200000</td>\n",
       "      <td>4.200000</td>\n",
       "      <td>0.000000</td>\n",
       "      <td>0.000000</td>\n",
       "      <td>12.100000</td>\n",
       "      <td>0.000000</td>\n",
       "      <td>9.400000</td>\n",
       "      <td>0.000000</td>\n",
       "      <td>0.000000</td>\n",
       "      <td>9.960000</td>\n",
       "    </tr>\n",
       "    <tr>\n",
       "      <th>4</th>\n",
       "      <td>18</td>\n",
       "      <td>2012</td>\n",
       "      <td>4</td>\n",
       "      <td>0</td>\n",
       "      <td>1</td>\n",
       "      <td>0</td>\n",
       "      <td>1</td>\n",
       "      <td>0</td>\n",
       "      <td>1</td>\n",
       "      <td>0</td>\n",
       "      <td>...</td>\n",
       "      <td>5.460000</td>\n",
       "      <td>5.460000</td>\n",
       "      <td>0.000000</td>\n",
       "      <td>0.000000</td>\n",
       "      <td>13.360000</td>\n",
       "      <td>0.000000</td>\n",
       "      <td>10.320000</td>\n",
       "      <td>0.000000</td>\n",
       "      <td>0.000000</td>\n",
       "      <td>10.280000</td>\n",
       "    </tr>\n",
       "    <tr>\n",
       "      <th>...</th>\n",
       "      <td>...</td>\n",
       "      <td>...</td>\n",
       "      <td>...</td>\n",
       "      <td>...</td>\n",
       "      <td>...</td>\n",
       "      <td>...</td>\n",
       "      <td>...</td>\n",
       "      <td>...</td>\n",
       "      <td>...</td>\n",
       "      <td>...</td>\n",
       "      <td>...</td>\n",
       "      <td>...</td>\n",
       "      <td>...</td>\n",
       "      <td>...</td>\n",
       "      <td>...</td>\n",
       "      <td>...</td>\n",
       "      <td>...</td>\n",
       "      <td>...</td>\n",
       "      <td>...</td>\n",
       "      <td>...</td>\n",
       "      <td>...</td>\n",
       "    </tr>\n",
       "    <tr>\n",
       "      <th>643685</th>\n",
       "      <td>1827860</td>\n",
       "      <td>2013</td>\n",
       "      <td>1</td>\n",
       "      <td>0</td>\n",
       "      <td>0</td>\n",
       "      <td>0</td>\n",
       "      <td>1</td>\n",
       "      <td>0</td>\n",
       "      <td>0</td>\n",
       "      <td>1</td>\n",
       "      <td>...</td>\n",
       "      <td>0.000000</td>\n",
       "      <td>0.000000</td>\n",
       "      <td>0.000000</td>\n",
       "      <td>0.000000</td>\n",
       "      <td>0.612903</td>\n",
       "      <td>0.000000</td>\n",
       "      <td>0.000000</td>\n",
       "      <td>0.000000</td>\n",
       "      <td>0.000000</td>\n",
       "      <td>0.000000</td>\n",
       "    </tr>\n",
       "    <tr>\n",
       "      <th>643686</th>\n",
       "      <td>1827860</td>\n",
       "      <td>2015</td>\n",
       "      <td>2</td>\n",
       "      <td>1</td>\n",
       "      <td>0</td>\n",
       "      <td>0</td>\n",
       "      <td>1</td>\n",
       "      <td>0</td>\n",
       "      <td>1</td>\n",
       "      <td>0</td>\n",
       "      <td>...</td>\n",
       "      <td>0.000000</td>\n",
       "      <td>0.000000</td>\n",
       "      <td>0.212121</td>\n",
       "      <td>0.212121</td>\n",
       "      <td>17.363636</td>\n",
       "      <td>0.000000</td>\n",
       "      <td>8.909091</td>\n",
       "      <td>0.000000</td>\n",
       "      <td>0.000000</td>\n",
       "      <td>7.121212</td>\n",
       "    </tr>\n",
       "    <tr>\n",
       "      <th>643687</th>\n",
       "      <td>1827860</td>\n",
       "      <td>2016</td>\n",
       "      <td>3</td>\n",
       "      <td>1</td>\n",
       "      <td>0</td>\n",
       "      <td>0</td>\n",
       "      <td>1</td>\n",
       "      <td>1</td>\n",
       "      <td>0</td>\n",
       "      <td>1</td>\n",
       "      <td>...</td>\n",
       "      <td>0.000000</td>\n",
       "      <td>0.000000</td>\n",
       "      <td>0.294118</td>\n",
       "      <td>0.205882</td>\n",
       "      <td>34.705882</td>\n",
       "      <td>0.000000</td>\n",
       "      <td>10.352941</td>\n",
       "      <td>1.705882</td>\n",
       "      <td>1.705882</td>\n",
       "      <td>23.911765</td>\n",
       "    </tr>\n",
       "    <tr>\n",
       "      <th>643688</th>\n",
       "      <td>1827869</td>\n",
       "      <td>2013</td>\n",
       "      <td>1</td>\n",
       "      <td>1</td>\n",
       "      <td>1</td>\n",
       "      <td>0</td>\n",
       "      <td>0</td>\n",
       "      <td>0</td>\n",
       "      <td>1</td>\n",
       "      <td>0</td>\n",
       "      <td>...</td>\n",
       "      <td>0.000000</td>\n",
       "      <td>0.000000</td>\n",
       "      <td>0.000000</td>\n",
       "      <td>0.000000</td>\n",
       "      <td>0.000000</td>\n",
       "      <td>0.525424</td>\n",
       "      <td>0.000000</td>\n",
       "      <td>0.000000</td>\n",
       "      <td>0.000000</td>\n",
       "      <td>0.000000</td>\n",
       "    </tr>\n",
       "    <tr>\n",
       "      <th>643689</th>\n",
       "      <td>1827869</td>\n",
       "      <td>2014</td>\n",
       "      <td>2</td>\n",
       "      <td>0</td>\n",
       "      <td>0</td>\n",
       "      <td>1</td>\n",
       "      <td>0</td>\n",
       "      <td>0</td>\n",
       "      <td>1</td>\n",
       "      <td>0</td>\n",
       "      <td>...</td>\n",
       "      <td>0.000000</td>\n",
       "      <td>0.666667</td>\n",
       "      <td>0.666667</td>\n",
       "      <td>0.000000</td>\n",
       "      <td>0.000000</td>\n",
       "      <td>8.950000</td>\n",
       "      <td>1.033333</td>\n",
       "      <td>0.083333</td>\n",
       "      <td>0.083333</td>\n",
       "      <td>8.133333</td>\n",
       "    </tr>\n",
       "  </tbody>\n",
       "</table>\n",
       "<p>643690 rows × 164 columns</p>\n",
       "</div>"
      ],
      "text/plain": [
       "         persnr  year  nrEntry  ltue  employed_before  receipt_leh_before  \\\n",
       "0             7  2015        1     0                1                   0   \n",
       "1            18  2010        1     1                0                   0   \n",
       "2            18  2011        2     0                1                   0   \n",
       "3            18  2012        3     0                1                   0   \n",
       "4            18  2012        4     0                1                   0   \n",
       "...         ...   ...      ...   ...              ...                 ...   \n",
       "643685  1827860  2013        1     0                0                   0   \n",
       "643686  1827860  2015        2     1                0                   0   \n",
       "643687  1827860  2016        3     1                0                   0   \n",
       "643688  1827869  2013        1     1                1                   0   \n",
       "643689  1827869  2014        2     0                0                   1   \n",
       "\n",
       "        receipt_lhg_before  se_before  ASU_notue_seeking_before  \\\n",
       "0                        0          0                         1   \n",
       "1                        0          0                         0   \n",
       "2                        1          0                         1   \n",
       "3                        1          0                         1   \n",
       "4                        1          0                         1   \n",
       "...                    ...        ...                       ...   \n",
       "643685                   1          0                         0   \n",
       "643686                   1          0                         1   \n",
       "643687                   1          1                         0   \n",
       "643688                   0          0                         1   \n",
       "643689                   0          0                         1   \n",
       "\n",
       "        ASU_other_before  ...  minijob_tot_dur_byage  ft_tot_dur_byage  \\\n",
       "0                      0  ...               0.000000          0.000000   \n",
       "1                      0  ...               0.000000          0.000000   \n",
       "2                      0  ...               2.714286          2.714286   \n",
       "3                      0  ...               4.200000          4.200000   \n",
       "4                      0  ...               5.460000          5.460000   \n",
       "...                  ...  ...                    ...               ...   \n",
       "643685                 1  ...               0.000000          0.000000   \n",
       "643686                 0  ...               0.000000          0.000000   \n",
       "643687                 1  ...               0.000000          0.000000   \n",
       "643688                 0  ...               0.000000          0.000000   \n",
       "643689                 0  ...               0.000000          0.666667   \n",
       "\n",
       "        befrist_tot_dur_byage  leih_tot_dur_byage  LHG_tot_dur_byage  \\\n",
       "0                   15.043478            0.000000           0.000000   \n",
       "1                    0.000000            0.000000           0.000000   \n",
       "2                    0.000000            0.000000          10.775510   \n",
       "3                    0.000000            0.000000          12.100000   \n",
       "4                    0.000000            0.000000          13.360000   \n",
       "...                       ...                 ...                ...   \n",
       "643685               0.000000            0.000000           0.612903   \n",
       "643686               0.212121            0.212121          17.363636   \n",
       "643687               0.294118            0.205882          34.705882   \n",
       "643688               0.000000            0.000000           0.000000   \n",
       "643689               0.666667            0.000000           0.000000   \n",
       "\n",
       "        LEH_tot_dur_byage  almp_tot_dur_byage  almp_aw_tot_dur_byage  \\\n",
       "0                0.000000            0.000000               0.000000   \n",
       "1                0.000000            0.000000               0.000000   \n",
       "2                0.000000            8.367347               0.000000   \n",
       "3                0.000000            9.400000               0.000000   \n",
       "4                0.000000           10.320000               0.000000   \n",
       "...                   ...                 ...                    ...   \n",
       "643685           0.000000            0.000000               0.000000   \n",
       "643686           0.000000            8.909091               0.000000   \n",
       "643687           0.000000           10.352941               1.705882   \n",
       "643688           0.525424            0.000000               0.000000   \n",
       "643689           8.950000            1.033333               0.083333   \n",
       "\n",
       "        se_tot_dur_byage  seeking1_tot_dur_byage  \n",
       "0               0.000000                0.000000  \n",
       "1               0.000000                0.000000  \n",
       "2               0.000000                9.836735  \n",
       "3               0.000000                9.960000  \n",
       "4               0.000000               10.280000  \n",
       "...                  ...                     ...  \n",
       "643685          0.000000                0.000000  \n",
       "643686          0.000000                7.121212  \n",
       "643687          1.705882               23.911765  \n",
       "643688          0.000000                0.000000  \n",
       "643689          0.083333                8.133333  \n",
       "\n",
       "[643690 rows x 164 columns]"
      ]
     },
     "execution_count": 10,
     "metadata": {},
     "output_type": "execute_result"
    }
   ],
   "source": [
    "siab"
   ]
  },
  {
   "cell_type": "markdown",
   "id": "997051c5-15bd-4b69-9786-c3001a3ce484",
   "metadata": {
    "papermill": {
     "duration": 0.011733,
     "end_time": "2025-08-19T16:56:52.171014",
     "exception": false,
     "start_time": "2025-08-19T16:56:52.159281",
     "status": "completed"
    },
    "tags": []
   },
   "source": [
    "# Splitting Data and Setting Training Data Size"
   ]
  },
  {
   "cell_type": "code",
   "execution_count": 11,
   "id": "aea9c6ef-6f46-42c8-85eb-5a62025c1508",
   "metadata": {
    "execution": {
     "iopub.execute_input": "2025-08-19T16:56:52.194829Z",
     "iopub.status.busy": "2025-08-19T16:56:52.193782Z",
     "iopub.status.idle": "2025-08-19T16:56:52.488872Z",
     "shell.execute_reply": "2025-08-19T16:56:52.487965Z"
    },
    "papermill": {
     "duration": 0.310418,
     "end_time": "2025-08-19T16:56:52.491323",
     "exception": false,
     "start_time": "2025-08-19T16:56:52.180905",
     "status": "completed"
    },
    "tags": []
   },
   "outputs": [],
   "source": [
    "from fairness_multiverse.universe import sample_by_year_size\n",
    "\n",
    "siab_train = sample_by_year_size(siab,\n",
    "                               training_year=universe[\"training_year\"],\n",
    "                               training_size=universe[\"training_size\"])"
   ]
  },
  {
   "cell_type": "code",
   "execution_count": 12,
   "id": "8d3afb32-789d-442c-8d5d-9f5aa8dd2eed",
   "metadata": {
    "execution": {
     "iopub.execute_input": "2025-08-19T16:56:52.515774Z",
     "iopub.status.busy": "2025-08-19T16:56:52.515466Z",
     "iopub.status.idle": "2025-08-19T16:56:52.521731Z",
     "shell.execute_reply": "2025-08-19T16:56:52.520954Z"
    },
    "papermill": {
     "duration": 0.020601,
     "end_time": "2025-08-19T16:56:52.524093",
     "exception": false,
     "start_time": "2025-08-19T16:56:52.503492",
     "status": "completed"
    },
    "tags": []
   },
   "outputs": [
    {
     "data": {
      "text/plain": [
       "(25000, 164)"
      ]
     },
     "execution_count": 12,
     "metadata": {},
     "output_type": "execute_result"
    }
   ],
   "source": [
    "siab_train.shape"
   ]
  },
  {
   "cell_type": "code",
   "execution_count": 13,
   "id": "d582db68-1a4c-47fb-84fc-08518dc1975a",
   "metadata": {
    "execution": {
     "iopub.execute_input": "2025-08-19T16:56:52.546822Z",
     "iopub.status.busy": "2025-08-19T16:56:52.546517Z",
     "iopub.status.idle": "2025-08-19T16:56:52.555719Z",
     "shell.execute_reply": "2025-08-19T16:56:52.554685Z"
    },
    "papermill": {
     "duration": 0.022273,
     "end_time": "2025-08-19T16:56:52.557190",
     "exception": false,
     "start_time": "2025-08-19T16:56:52.534917",
     "status": "completed"
    },
    "tags": []
   },
   "outputs": [
    {
     "data": {
      "text/plain": [
       "year\n",
       "2014    25000\n",
       "dtype: int64"
      ]
     },
     "metadata": {},
     "output_type": "display_data"
    }
   ],
   "source": [
    "display(siab_train.groupby(\"year\").size())"
   ]
  },
  {
   "cell_type": "code",
   "execution_count": 14,
   "id": "a561edb4-d032-42cb-8256-22eac1111c64",
   "metadata": {
    "execution": {
     "iopub.execute_input": "2025-08-19T16:56:52.580020Z",
     "iopub.status.busy": "2025-08-19T16:56:52.579710Z",
     "iopub.status.idle": "2025-08-19T16:56:52.817056Z",
     "shell.execute_reply": "2025-08-19T16:56:52.816229Z"
    },
    "papermill": {
     "duration": 0.251393,
     "end_time": "2025-08-19T16:56:52.818970",
     "exception": false,
     "start_time": "2025-08-19T16:56:52.567577",
     "status": "completed"
    },
    "tags": []
   },
   "outputs": [],
   "source": [
    "#siab_train = siab_s[siab_s.year < 2015]\n",
    "siab_calib = siab[siab.year == 2015]\n",
    "siab_test = siab[siab.year == 2016]"
   ]
  },
  {
   "cell_type": "code",
   "execution_count": 15,
   "id": "bc10fe59",
   "metadata": {
    "execution": {
     "iopub.execute_input": "2025-08-19T16:56:52.842870Z",
     "iopub.status.busy": "2025-08-19T16:56:52.842569Z",
     "iopub.status.idle": "2025-08-19T16:56:52.854214Z",
     "shell.execute_reply": "2025-08-19T16:56:52.853472Z"
    },
    "papermill": {
     "duration": 0.025191,
     "end_time": "2025-08-19T16:56:52.855702",
     "exception": false,
     "start_time": "2025-08-19T16:56:52.830511",
     "status": "completed"
    },
    "tags": []
   },
   "outputs": [],
   "source": [
    "#siab_calib.shape"
   ]
  },
  {
   "cell_type": "code",
   "execution_count": 16,
   "id": "d6aeff2f",
   "metadata": {
    "execution": {
     "iopub.execute_input": "2025-08-19T16:56:52.880729Z",
     "iopub.status.busy": "2025-08-19T16:56:52.880298Z",
     "iopub.status.idle": "2025-08-19T16:56:52.884609Z",
     "shell.execute_reply": "2025-08-19T16:56:52.883910Z"
    },
    "papermill": {
     "duration": 0.017139,
     "end_time": "2025-08-19T16:56:52.885992",
     "exception": false,
     "start_time": "2025-08-19T16:56:52.868853",
     "status": "completed"
    },
    "tags": []
   },
   "outputs": [],
   "source": [
    "#siab_test.shape"
   ]
  },
  {
   "cell_type": "code",
   "execution_count": 17,
   "id": "472de16f-c3db-4916-846b-1f0de9cf1746",
   "metadata": {
    "execution": {
     "iopub.execute_input": "2025-08-19T16:56:52.910767Z",
     "iopub.status.busy": "2025-08-19T16:56:52.910237Z",
     "iopub.status.idle": "2025-08-19T16:56:52.925139Z",
     "shell.execute_reply": "2025-08-19T16:56:52.923851Z"
    },
    "papermill": {
     "duration": 0.031725,
     "end_time": "2025-08-19T16:56:52.928165",
     "exception": false,
     "start_time": "2025-08-19T16:56:52.896440",
     "status": "completed"
    },
    "tags": []
   },
   "outputs": [],
   "source": [
    "X_train = siab_train.iloc[:,4:164]\n",
    "y_train = siab_train.iloc[:, [3]]"
   ]
  },
  {
   "cell_type": "code",
   "execution_count": null,
   "id": "a843c1c8",
   "metadata": {
    "papermill": {
     "duration": 0.011208,
     "end_time": "2025-08-19T16:56:52.958842",
     "exception": false,
     "start_time": "2025-08-19T16:56:52.947634",
     "status": "completed"
    },
    "tags": []
   },
   "outputs": [],
   "source": []
  },
  {
   "cell_type": "code",
   "execution_count": 18,
   "id": "828c96af-f43a-4ed6-ba47-8ac73a47d56c",
   "metadata": {
    "execution": {
     "iopub.execute_input": "2025-08-19T16:56:52.981887Z",
     "iopub.status.busy": "2025-08-19T16:56:52.980654Z",
     "iopub.status.idle": "2025-08-19T16:56:53.036858Z",
     "shell.execute_reply": "2025-08-19T16:56:53.036199Z"
    },
    "papermill": {
     "duration": 0.069426,
     "end_time": "2025-08-19T16:56:53.038477",
     "exception": false,
     "start_time": "2025-08-19T16:56:52.969051",
     "status": "completed"
    },
    "tags": []
   },
   "outputs": [],
   "source": [
    "X_calib = siab_calib.iloc[:,4:164]\n",
    "y_calib = siab_calib.iloc[:, [3]]"
   ]
  },
  {
   "cell_type": "code",
   "execution_count": 19,
   "id": "c34be9c3-6bd6-476e-acd3-845840e303be",
   "metadata": {
    "execution": {
     "iopub.execute_input": "2025-08-19T16:56:53.062493Z",
     "iopub.status.busy": "2025-08-19T16:56:53.062077Z",
     "iopub.status.idle": "2025-08-19T16:56:53.110902Z",
     "shell.execute_reply": "2025-08-19T16:56:53.110272Z"
    },
    "papermill": {
     "duration": 0.061256,
     "end_time": "2025-08-19T16:56:53.112146",
     "exception": false,
     "start_time": "2025-08-19T16:56:53.050890",
     "status": "completed"
    },
    "tags": []
   },
   "outputs": [],
   "source": [
    "X_test = siab_test.iloc[:,4:164]\n",
    "y_true = siab_test.iloc[:, [3]]"
   ]
  },
  {
   "cell_type": "code",
   "execution_count": 20,
   "id": "e6c733c5",
   "metadata": {
    "execution": {
     "iopub.execute_input": "2025-08-19T16:56:53.134405Z",
     "iopub.status.busy": "2025-08-19T16:56:53.134034Z",
     "iopub.status.idle": "2025-08-19T16:56:53.273537Z",
     "shell.execute_reply": "2025-08-19T16:56:53.272778Z"
    },
    "papermill": {
     "duration": 0.152391,
     "end_time": "2025-08-19T16:56:53.275111",
     "exception": false,
     "start_time": "2025-08-19T16:56:53.122720",
     "status": "completed"
    },
    "tags": []
   },
   "outputs": [],
   "source": [
    "# Auxiliary data needed downstream in the pipeline\n",
    "\n",
    "org_train = X_train.copy()\n",
    "org_test = X_test.copy()\n",
    "org_calib = X_calib.copy()"
   ]
  },
  {
   "cell_type": "markdown",
   "id": "0a4a1b33",
   "metadata": {
    "papermill": {
     "duration": 0.01047,
     "end_time": "2025-08-19T16:56:53.298124",
     "exception": false,
     "start_time": "2025-08-19T16:56:53.287654",
     "status": "completed"
    },
    "tags": []
   },
   "source": [
    "# Preprocessing Data"
   ]
  },
  {
   "cell_type": "code",
   "execution_count": 21,
   "id": "ca879031",
   "metadata": {
    "execution": {
     "iopub.execute_input": "2025-08-19T16:56:53.322620Z",
     "iopub.status.busy": "2025-08-19T16:56:53.321672Z",
     "iopub.status.idle": "2025-08-19T16:56:53.329698Z",
     "shell.execute_reply": "2025-08-19T16:56:53.328337Z"
    },
    "papermill": {
     "duration": 0.023994,
     "end_time": "2025-08-19T16:56:53.332586",
     "exception": false,
     "start_time": "2025-08-19T16:56:53.308592",
     "status": "completed"
    },
    "tags": []
   },
   "outputs": [],
   "source": [
    "# EXCLUDE PROTECTED FEATURES\n",
    "# --------------------------\n",
    "\n",
    "excluded_features = universe[\"exclude_features\"].split(\"-\")\n",
    "excluded_features_dictionary = {\n",
    "    \"nationality\": [\"maxdeutsch1\", \"maxdeutsch.Missing.\"],\n",
    "    \"sex\": [\"frau1\"],\n",
    "    \"age\": [\"age\"],\n",
    "}"
   ]
  },
  {
   "cell_type": "code",
   "execution_count": 22,
   "id": "b745ac60",
   "metadata": {
    "execution": {
     "iopub.execute_input": "2025-08-19T16:56:53.362197Z",
     "iopub.status.busy": "2025-08-19T16:56:53.361338Z",
     "iopub.status.idle": "2025-08-19T16:56:53.425184Z",
     "shell.execute_reply": "2025-08-19T16:56:53.424064Z"
    },
    "papermill": {
     "duration": 0.079957,
     "end_time": "2025-08-19T16:56:53.428272",
     "exception": false,
     "start_time": "2025-08-19T16:56:53.348315",
     "status": "completed"
    },
    "tags": []
   },
   "outputs": [],
   "source": [
    "excluded_features_columns = [\n",
    "    excluded_features_dictionary[f] for f in excluded_features if len(f) > 0 and f != \"none\"\n",
    "]"
   ]
  },
  {
   "cell_type": "code",
   "execution_count": 23,
   "id": "f84f73a2",
   "metadata": {
    "execution": {
     "iopub.execute_input": "2025-08-19T16:56:53.468262Z",
     "iopub.status.busy": "2025-08-19T16:56:53.467363Z",
     "iopub.status.idle": "2025-08-19T16:56:53.472704Z",
     "shell.execute_reply": "2025-08-19T16:56:53.471605Z"
    },
    "papermill": {
     "duration": 0.020651,
     "end_time": "2025-08-19T16:56:53.474031",
     "exception": false,
     "start_time": "2025-08-19T16:56:53.453380",
     "status": "completed"
    },
    "tags": []
   },
   "outputs": [],
   "source": [
    "from fairness_multiverse.universe import flatten_once\n",
    "\n",
    "excluded_features_columns = flatten_once(excluded_features_columns)"
   ]
  },
  {
   "cell_type": "code",
   "execution_count": 24,
   "id": "884dea22",
   "metadata": {
    "execution": {
     "iopub.execute_input": "2025-08-19T16:56:53.498493Z",
     "iopub.status.busy": "2025-08-19T16:56:53.497434Z",
     "iopub.status.idle": "2025-08-19T16:56:53.603123Z",
     "shell.execute_reply": "2025-08-19T16:56:53.602439Z"
    },
    "papermill": {
     "duration": 0.119555,
     "end_time": "2025-08-19T16:56:53.604493",
     "exception": false,
     "start_time": "2025-08-19T16:56:53.484938",
     "status": "completed"
    },
    "tags": []
   },
   "outputs": [
    {
     "name": "stdout",
     "output_type": "stream",
     "text": [
      "Dropping features: ['maxdeutsch1', 'maxdeutsch.Missing.', 'frau1']\n"
     ]
    }
   ],
   "source": [
    "if len(excluded_features_columns) > 0:\n",
    "    print(f\"Dropping features: {excluded_features_columns}\")\n",
    "    X_train.drop(excluded_features_columns, axis=1, inplace=True)"
   ]
  },
  {
   "cell_type": "code",
   "execution_count": 25,
   "id": "95ab8b16",
   "metadata": {
    "execution": {
     "iopub.execute_input": "2025-08-19T16:56:53.630705Z",
     "iopub.status.busy": "2025-08-19T16:56:53.629966Z",
     "iopub.status.idle": "2025-08-19T16:56:53.689019Z",
     "shell.execute_reply": "2025-08-19T16:56:53.688117Z"
    },
    "papermill": {
     "duration": 0.07415,
     "end_time": "2025-08-19T16:56:53.691697",
     "exception": false,
     "start_time": "2025-08-19T16:56:53.617547",
     "status": "completed"
    },
    "tags": []
   },
   "outputs": [
    {
     "name": "stdout",
     "output_type": "stream",
     "text": [
      "Dropping features: ['maxdeutsch1', 'maxdeutsch.Missing.', 'frau1']\n"
     ]
    }
   ],
   "source": [
    "if len(excluded_features_columns) > 0:\n",
    "    print(f\"Dropping features: {excluded_features_columns}\")\n",
    "    X_test.drop(excluded_features_columns, axis=1, inplace=True)"
   ]
  },
  {
   "cell_type": "code",
   "execution_count": 26,
   "id": "1853aaf5-fb9f-46cb-a2b5-8ea4ae2237e4",
   "metadata": {
    "execution": {
     "iopub.execute_input": "2025-08-19T16:56:53.732531Z",
     "iopub.status.busy": "2025-08-19T16:56:53.731306Z",
     "iopub.status.idle": "2025-08-19T16:56:53.800235Z",
     "shell.execute_reply": "2025-08-19T16:56:53.799214Z"
    },
    "papermill": {
     "duration": 0.085827,
     "end_time": "2025-08-19T16:56:53.802976",
     "exception": false,
     "start_time": "2025-08-19T16:56:53.717149",
     "status": "completed"
    },
    "tags": []
   },
   "outputs": [
    {
     "name": "stdout",
     "output_type": "stream",
     "text": [
      "Dropping features: ['maxdeutsch1', 'maxdeutsch.Missing.', 'frau1']\n"
     ]
    }
   ],
   "source": [
    "if len(excluded_features_columns) > 0:\n",
    "    print(f\"Dropping features: {excluded_features_columns}\")\n",
    "    X_calib.drop(excluded_features_columns, axis=1, inplace=True)"
   ]
  },
  {
   "cell_type": "code",
   "execution_count": 27,
   "id": "76c4dc6d",
   "metadata": {
    "execution": {
     "iopub.execute_input": "2025-08-19T16:56:53.854716Z",
     "iopub.status.busy": "2025-08-19T16:56:53.854342Z",
     "iopub.status.idle": "2025-08-19T16:56:54.588289Z",
     "shell.execute_reply": "2025-08-19T16:56:54.587280Z"
    },
    "papermill": {
     "duration": 0.752421,
     "end_time": "2025-08-19T16:56:54.591732",
     "exception": false,
     "start_time": "2025-08-19T16:56:53.839311",
     "status": "completed"
    },
    "tags": []
   },
   "outputs": [],
   "source": [
    "# EXCLUDE CERTAIN SUBGROUPS\n",
    "# -------------------------\n",
    "\n",
    "mode = universe.get(\"exclude_subgroups\", \"keep-all\") # Defaults to \"keep-all\" if the key is missing."
   ]
  },
  {
   "cell_type": "code",
   "execution_count": 28,
   "id": "21994072",
   "metadata": {
    "execution": {
     "iopub.execute_input": "2025-08-19T16:56:54.616529Z",
     "iopub.status.busy": "2025-08-19T16:56:54.615974Z",
     "iopub.status.idle": "2025-08-19T16:56:54.623260Z",
     "shell.execute_reply": "2025-08-19T16:56:54.622258Z"
    },
    "papermill": {
     "duration": 0.022467,
     "end_time": "2025-08-19T16:56:54.626450",
     "exception": false,
     "start_time": "2025-08-19T16:56:54.603983",
     "status": "completed"
    },
    "tags": []
   },
   "outputs": [],
   "source": [
    "if mode == \"keep-all\":\n",
    "    keep_mask = pd.Series(True, index=org_train.index)\n",
    "\n",
    "elif mode == \"drop-non-german\":\n",
    "    keep_mask = (org_train[\"maxdeutsch1\"] == 1) & (org_train[\"maxdeutsch.Missing.\"] == 0)\n",
    "\n",
    "else:\n",
    "    raise ValueError(f\"Unsupported mode for exclude_subgroups: {mode}\")"
   ]
  },
  {
   "cell_type": "code",
   "execution_count": 29,
   "id": "71651440",
   "metadata": {
    "execution": {
     "iopub.execute_input": "2025-08-19T16:56:54.669058Z",
     "iopub.status.busy": "2025-08-19T16:56:54.667897Z",
     "iopub.status.idle": "2025-08-19T16:56:55.172541Z",
     "shell.execute_reply": "2025-08-19T16:56:55.171531Z"
    },
    "papermill": {
     "duration": 0.519491,
     "end_time": "2025-08-19T16:56:55.174340",
     "exception": false,
     "start_time": "2025-08-19T16:56:54.654849",
     "status": "completed"
    },
    "tags": []
   },
   "outputs": [
    {
     "name": "stdout",
     "output_type": "stream",
     "text": [
      "Dropping 3688 rows (14.75%) where mode='drop-non-german'\n"
     ]
    }
   ],
   "source": [
    "n_drop = (~keep_mask).sum() # Calculates how many rows are set to be dropped\n",
    "if n_drop > 0:\n",
    "    pct = n_drop / len(keep_mask) * 100\n",
    "    print(f\"Dropping {n_drop} rows ({pct:.2f}%) where mode='{mode}'\")"
   ]
  },
  {
   "cell_type": "code",
   "execution_count": 30,
   "id": "5fb8eee5",
   "metadata": {
    "execution": {
     "iopub.execute_input": "2025-08-19T16:56:55.201052Z",
     "iopub.status.busy": "2025-08-19T16:56:55.199532Z",
     "iopub.status.idle": "2025-08-19T16:56:55.218582Z",
     "shell.execute_reply": "2025-08-19T16:56:55.217346Z"
    },
    "papermill": {
     "duration": 0.03473,
     "end_time": "2025-08-19T16:56:55.222180",
     "exception": false,
     "start_time": "2025-08-19T16:56:55.187450",
     "status": "completed"
    },
    "tags": []
   },
   "outputs": [],
   "source": [
    "X_train = X_train[keep_mask]"
   ]
  },
  {
   "cell_type": "code",
   "execution_count": 31,
   "id": "b202bb3a",
   "metadata": {
    "execution": {
     "iopub.execute_input": "2025-08-19T16:56:55.246011Z",
     "iopub.status.busy": "2025-08-19T16:56:55.245559Z",
     "iopub.status.idle": "2025-08-19T16:56:55.252040Z",
     "shell.execute_reply": "2025-08-19T16:56:55.251051Z"
    },
    "papermill": {
     "duration": 0.025106,
     "end_time": "2025-08-19T16:56:55.259080",
     "exception": false,
     "start_time": "2025-08-19T16:56:55.233974",
     "status": "completed"
    },
    "tags": []
   },
   "outputs": [],
   "source": [
    "y_train = y_train[keep_mask]"
   ]
  },
  {
   "cell_type": "markdown",
   "id": "493e2ac3",
   "metadata": {
    "papermill": {
     "duration": 0.010653,
     "end_time": "2025-08-19T16:56:55.286892",
     "exception": false,
     "start_time": "2025-08-19T16:56:55.276239",
     "status": "completed"
    },
    "tags": []
   },
   "source": [
    "# Model Training"
   ]
  },
  {
   "cell_type": "code",
   "execution_count": 32,
   "id": "679e1268",
   "metadata": {
    "execution": {
     "iopub.execute_input": "2025-08-19T16:56:55.311978Z",
     "iopub.status.busy": "2025-08-19T16:56:55.309960Z",
     "iopub.status.idle": "2025-08-19T16:56:55.434406Z",
     "shell.execute_reply": "2025-08-19T16:56:55.433303Z"
    },
    "papermill": {
     "duration": 0.138868,
     "end_time": "2025-08-19T16:56:55.436395",
     "exception": false,
     "start_time": "2025-08-19T16:56:55.297527",
     "status": "completed"
    },
    "tags": []
   },
   "outputs": [],
   "source": [
    "from sklearn.linear_model import LogisticRegression\n",
    "from sklearn.ensemble import GradientBoostingClassifier, RandomForestClassifier\n",
    "\n",
    "if (universe[\"model\"] == \"logreg\"):\n",
    "    model = LogisticRegression() #penalty=\"none\", solver=\"newton-cg\", max_iter=1)\n",
    "elif (universe[\"model\"] == \"penalized_logreg\"):\n",
    "    model = LogisticRegression(penalty=\"l2\", C=0.1) #, solver=\"newton-cg\", max_iter=1)\n",
    "elif (universe[\"model\"] == \"rf\"):\n",
    "    model = RandomForestClassifier() # n_estimators=100, n_jobs=-1\n",
    "elif (universe[\"model\"] == \"gbm\"):\n",
    "    model = GradientBoostingClassifier()\n",
    "elif (universe[\"model\"] == \"elasticnet\"):\n",
    "    model = LogisticRegression(penalty = 'elasticnet', solver = 'saga', l1_ratio = 0.5) # max_iter=5000\n",
    "else:\n",
    "    raise \"Unsupported universe.model\""
   ]
  },
  {
   "cell_type": "code",
   "execution_count": 33,
   "id": "0cc8f744",
   "metadata": {
    "execution": {
     "iopub.execute_input": "2025-08-19T16:56:55.478711Z",
     "iopub.status.busy": "2025-08-19T16:56:55.478345Z",
     "iopub.status.idle": "2025-08-19T16:56:55.483562Z",
     "shell.execute_reply": "2025-08-19T16:56:55.482714Z"
    },
    "papermill": {
     "duration": 0.037498,
     "end_time": "2025-08-19T16:56:55.485406",
     "exception": false,
     "start_time": "2025-08-19T16:56:55.447908",
     "status": "completed"
    },
    "tags": []
   },
   "outputs": [],
   "source": [
    "from sklearn.pipeline import Pipeline\n",
    "from sklearn.preprocessing import StandardScaler\n",
    "\n",
    "model = Pipeline([\n",
    "    #(\"continuous_processor\", continuous_processor),\n",
    "    #(\"categorical_preprocessor\", categorical_preprocessor),\n",
    "    (\"scale\", StandardScaler() if universe[\"scale\"] == \"scale\" else None), \n",
    "    (\"model\", model),\n",
    "])"
   ]
  },
  {
   "cell_type": "code",
   "execution_count": 34,
   "id": "9442c04d",
   "metadata": {
    "execution": {
     "iopub.execute_input": "2025-08-19T16:56:55.517926Z",
     "iopub.status.busy": "2025-08-19T16:56:55.517508Z",
     "iopub.status.idle": "2025-08-19T16:56:56.299985Z",
     "shell.execute_reply": "2025-08-19T16:56:56.298977Z"
    },
    "papermill": {
     "duration": 0.796338,
     "end_time": "2025-08-19T16:56:56.302077",
     "exception": false,
     "start_time": "2025-08-19T16:56:55.505739",
     "status": "completed"
    },
    "tags": []
   },
   "outputs": [
    {
     "name": "stderr",
     "output_type": "stream",
     "text": [
      "/dss/dsshome1/0C/ra93lal2/.local/share/virtualenvs/CMA_Fairness_v2-3j10GkSs/lib/python3.10/site-packages/sklearn/linear_model/_logistic.py:444: ConvergenceWarning: lbfgs failed to converge (status=1):\n",
      "STOP: TOTAL NO. of ITERATIONS REACHED LIMIT.\n",
      "\n",
      "Increase the number of iterations (max_iter) or scale the data as shown in:\n",
      "    https://scikit-learn.org/stable/modules/preprocessing.html\n",
      "Please also refer to the documentation for alternative solver options:\n",
      "    https://scikit-learn.org/stable/modules/linear_model.html#logistic-regression\n",
      "  n_iter_i = _check_optimize_result(\n"
     ]
    },
    {
     "data": {
      "text/html": [
       "<style>#sk-container-id-1 {color: black;background-color: white;}#sk-container-id-1 pre{padding: 0;}#sk-container-id-1 div.sk-toggleable {background-color: white;}#sk-container-id-1 label.sk-toggleable__label {cursor: pointer;display: block;width: 100%;margin-bottom: 0;padding: 0.3em;box-sizing: border-box;text-align: center;}#sk-container-id-1 label.sk-toggleable__label-arrow:before {content: \"▸\";float: left;margin-right: 0.25em;color: #696969;}#sk-container-id-1 label.sk-toggleable__label-arrow:hover:before {color: black;}#sk-container-id-1 div.sk-estimator:hover label.sk-toggleable__label-arrow:before {color: black;}#sk-container-id-1 div.sk-toggleable__content {max-height: 0;max-width: 0;overflow: hidden;text-align: left;background-color: #f0f8ff;}#sk-container-id-1 div.sk-toggleable__content pre {margin: 0.2em;color: black;border-radius: 0.25em;background-color: #f0f8ff;}#sk-container-id-1 input.sk-toggleable__control:checked~div.sk-toggleable__content {max-height: 200px;max-width: 100%;overflow: auto;}#sk-container-id-1 input.sk-toggleable__control:checked~label.sk-toggleable__label-arrow:before {content: \"▾\";}#sk-container-id-1 div.sk-estimator input.sk-toggleable__control:checked~label.sk-toggleable__label {background-color: #d4ebff;}#sk-container-id-1 div.sk-label input.sk-toggleable__control:checked~label.sk-toggleable__label {background-color: #d4ebff;}#sk-container-id-1 input.sk-hidden--visually {border: 0;clip: rect(1px 1px 1px 1px);clip: rect(1px, 1px, 1px, 1px);height: 1px;margin: -1px;overflow: hidden;padding: 0;position: absolute;width: 1px;}#sk-container-id-1 div.sk-estimator {font-family: monospace;background-color: #f0f8ff;border: 1px dotted black;border-radius: 0.25em;box-sizing: border-box;margin-bottom: 0.5em;}#sk-container-id-1 div.sk-estimator:hover {background-color: #d4ebff;}#sk-container-id-1 div.sk-parallel-item::after {content: \"\";width: 100%;border-bottom: 1px solid gray;flex-grow: 1;}#sk-container-id-1 div.sk-label:hover label.sk-toggleable__label {background-color: #d4ebff;}#sk-container-id-1 div.sk-serial::before {content: \"\";position: absolute;border-left: 1px solid gray;box-sizing: border-box;top: 0;bottom: 0;left: 50%;z-index: 0;}#sk-container-id-1 div.sk-serial {display: flex;flex-direction: column;align-items: center;background-color: white;padding-right: 0.2em;padding-left: 0.2em;position: relative;}#sk-container-id-1 div.sk-item {position: relative;z-index: 1;}#sk-container-id-1 div.sk-parallel {display: flex;align-items: stretch;justify-content: center;background-color: white;position: relative;}#sk-container-id-1 div.sk-item::before, #sk-container-id-1 div.sk-parallel-item::before {content: \"\";position: absolute;border-left: 1px solid gray;box-sizing: border-box;top: 0;bottom: 0;left: 50%;z-index: -1;}#sk-container-id-1 div.sk-parallel-item {display: flex;flex-direction: column;z-index: 1;position: relative;background-color: white;}#sk-container-id-1 div.sk-parallel-item:first-child::after {align-self: flex-end;width: 50%;}#sk-container-id-1 div.sk-parallel-item:last-child::after {align-self: flex-start;width: 50%;}#sk-container-id-1 div.sk-parallel-item:only-child::after {width: 0;}#sk-container-id-1 div.sk-dashed-wrapped {border: 1px dashed gray;margin: 0 0.4em 0.5em 0.4em;box-sizing: border-box;padding-bottom: 0.4em;background-color: white;}#sk-container-id-1 div.sk-label label {font-family: monospace;font-weight: bold;display: inline-block;line-height: 1.2em;}#sk-container-id-1 div.sk-label-container {text-align: center;}#sk-container-id-1 div.sk-container {/* jupyter's `normalize.less` sets `[hidden] { display: none; }` but bootstrap.min.css set `[hidden] { display: none !important; }` so we also need the `!important` here to be able to override the default hidden behavior on the sphinx rendered scikit-learn.org. See: https://github.com/scikit-learn/scikit-learn/issues/21755 */display: inline-block !important;position: relative;}#sk-container-id-1 div.sk-text-repr-fallback {display: none;}</style><div id=\"sk-container-id-1\" class=\"sk-top-container\"><div class=\"sk-text-repr-fallback\"><pre>Pipeline(steps=[(&#x27;scale&#x27;, StandardScaler()), (&#x27;model&#x27;, LogisticRegression())])</pre><b>In a Jupyter environment, please rerun this cell to show the HTML representation or trust the notebook. <br />On GitHub, the HTML representation is unable to render, please try loading this page with nbviewer.org.</b></div><div class=\"sk-container\" hidden><div class=\"sk-item sk-dashed-wrapped\"><div class=\"sk-label-container\"><div class=\"sk-label sk-toggleable\"><input class=\"sk-toggleable__control sk-hidden--visually\" id=\"sk-estimator-id-1\" type=\"checkbox\" ><label for=\"sk-estimator-id-1\" class=\"sk-toggleable__label sk-toggleable__label-arrow\">Pipeline</label><div class=\"sk-toggleable__content\"><pre>Pipeline(steps=[(&#x27;scale&#x27;, StandardScaler()), (&#x27;model&#x27;, LogisticRegression())])</pre></div></div></div><div class=\"sk-serial\"><div class=\"sk-item\"><div class=\"sk-estimator sk-toggleable\"><input class=\"sk-toggleable__control sk-hidden--visually\" id=\"sk-estimator-id-2\" type=\"checkbox\" ><label for=\"sk-estimator-id-2\" class=\"sk-toggleable__label sk-toggleable__label-arrow\">StandardScaler</label><div class=\"sk-toggleable__content\"><pre>StandardScaler()</pre></div></div></div><div class=\"sk-item\"><div class=\"sk-estimator sk-toggleable\"><input class=\"sk-toggleable__control sk-hidden--visually\" id=\"sk-estimator-id-3\" type=\"checkbox\" ><label for=\"sk-estimator-id-3\" class=\"sk-toggleable__label sk-toggleable__label-arrow\">LogisticRegression</label><div class=\"sk-toggleable__content\"><pre>LogisticRegression()</pre></div></div></div></div></div></div></div>"
      ],
      "text/plain": [
       "Pipeline(steps=[('scale', StandardScaler()), ('model', LogisticRegression())])"
      ]
     },
     "execution_count": 34,
     "metadata": {},
     "output_type": "execute_result"
    }
   ],
   "source": [
    "model.fit(X_train, y_train.values.ravel())"
   ]
  },
  {
   "cell_type": "code",
   "execution_count": 35,
   "id": "a7cf2e16",
   "metadata": {
    "execution": {
     "iopub.execute_input": "2025-08-19T16:56:56.350892Z",
     "iopub.status.busy": "2025-08-19T16:56:56.349438Z",
     "iopub.status.idle": "2025-08-19T16:56:56.555876Z",
     "shell.execute_reply": "2025-08-19T16:56:56.555132Z"
    },
    "papermill": {
     "duration": 0.238822,
     "end_time": "2025-08-19T16:56:56.558805",
     "exception": false,
     "start_time": "2025-08-19T16:56:56.319983",
     "status": "completed"
    },
    "tags": []
   },
   "outputs": [
    {
     "data": {
      "text/plain": [
       "0.8653550328837365"
      ]
     },
     "execution_count": 35,
     "metadata": {},
     "output_type": "execute_result"
    }
   ],
   "source": [
    "from fairness_multiverse.universe import predict_w_threshold\n",
    "\n",
    "probs_test = model.predict_proba(X_test)\n",
    "\n",
    "'''\n",
    "Below code returns a boolean array (or binary 0/1 array depending on how it’s used) where each element \n",
    "is True if the probability of class 1 is greater than or equal to the threshold, and False otherwise.\n",
    "'''\n",
    "y_pred_default = predict_w_threshold(probs_test, 0.5)\n",
    "\n",
    "from sklearn.metrics import accuracy_score\n",
    "\n",
    "# Naive prediction\n",
    "accuracy_score(y_true = y_true, y_pred = y_pred_default)"
   ]
  },
  {
   "cell_type": "code",
   "execution_count": 36,
   "id": "081964c3",
   "metadata": {
    "execution": {
     "iopub.execute_input": "2025-08-19T16:56:56.600513Z",
     "iopub.status.busy": "2025-08-19T16:56:56.600030Z",
     "iopub.status.idle": "2025-08-19T16:56:56.789629Z",
     "shell.execute_reply": "2025-08-19T16:56:56.788811Z"
    },
    "papermill": {
     "duration": 0.211218,
     "end_time": "2025-08-19T16:56:56.791976",
     "exception": false,
     "start_time": "2025-08-19T16:56:56.580758",
     "status": "completed"
    },
    "tags": []
   },
   "outputs": [
    {
     "data": {
      "text/plain": [
       "array([0, 0, 0, ..., 0, 0, 0])"
      ]
     },
     "execution_count": 36,
     "metadata": {},
     "output_type": "execute_result"
    }
   ],
   "source": [
    "model.predict(X_test)"
   ]
  },
  {
   "cell_type": "markdown",
   "id": "56c9705b",
   "metadata": {
    "papermill": {
     "duration": 0.013998,
     "end_time": "2025-08-19T16:56:56.826420",
     "exception": false,
     "start_time": "2025-08-19T16:56:56.812422",
     "status": "completed"
    },
    "tags": []
   },
   "source": [
    "# Conformal Prediction"
   ]
  },
  {
   "cell_type": "code",
   "execution_count": 37,
   "id": "160ec6ff",
   "metadata": {
    "execution": {
     "iopub.execute_input": "2025-08-19T16:56:56.862938Z",
     "iopub.status.busy": "2025-08-19T16:56:56.861557Z",
     "iopub.status.idle": "2025-08-19T16:56:56.870661Z",
     "shell.execute_reply": "2025-08-19T16:56:56.868943Z"
    },
    "papermill": {
     "duration": 0.028312,
     "end_time": "2025-08-19T16:56:56.874879",
     "exception": false,
     "start_time": "2025-08-19T16:56:56.846567",
     "status": "completed"
    },
    "tags": []
   },
   "outputs": [],
   "source": [
    "# Miscoverage level for conformal prediction (10% allowed error rate => 90% target coverage)\n",
    "alpha = 0.1"
   ]
  },
  {
   "cell_type": "code",
   "execution_count": 38,
   "id": "eadf4555-3dd3-440e-8e35-f82a4ad9f855",
   "metadata": {
    "execution": {
     "iopub.execute_input": "2025-08-19T16:56:56.928461Z",
     "iopub.status.busy": "2025-08-19T16:56:56.926742Z",
     "iopub.status.idle": "2025-08-19T16:56:57.119289Z",
     "shell.execute_reply": "2025-08-19T16:56:57.118473Z"
    },
    "papermill": {
     "duration": 0.212035,
     "end_time": "2025-08-19T16:56:57.120937",
     "exception": false,
     "start_time": "2025-08-19T16:56:56.908902",
     "status": "completed"
    },
    "tags": []
   },
   "outputs": [],
   "source": [
    "probs_calib = model.predict_proba(X_calib)"
   ]
  },
  {
   "cell_type": "code",
   "execution_count": 39,
   "id": "2ed93547-6d5d-4983-9b36-1ecb300da49a",
   "metadata": {
    "execution": {
     "iopub.execute_input": "2025-08-19T16:56:57.148760Z",
     "iopub.status.busy": "2025-08-19T16:56:57.147972Z",
     "iopub.status.idle": "2025-08-19T16:56:57.157807Z",
     "shell.execute_reply": "2025-08-19T16:56:57.156157Z"
    },
    "papermill": {
     "duration": 0.026862,
     "end_time": "2025-08-19T16:56:57.160857",
     "exception": false,
     "start_time": "2025-08-19T16:56:57.133995",
     "status": "completed"
    },
    "tags": []
   },
   "outputs": [],
   "source": [
    "y_calib = y_calib.values.ravel().astype(int)"
   ]
  },
  {
   "cell_type": "code",
   "execution_count": 40,
   "id": "65d1320d-f588-4b38-9072-62af1ae97f7d",
   "metadata": {
    "execution": {
     "iopub.execute_input": "2025-08-19T16:56:57.193973Z",
     "iopub.status.busy": "2025-08-19T16:56:57.192885Z",
     "iopub.status.idle": "2025-08-19T16:56:57.207123Z",
     "shell.execute_reply": "2025-08-19T16:56:57.205396Z"
    },
    "papermill": {
     "duration": 0.030947,
     "end_time": "2025-08-19T16:56:57.209520",
     "exception": false,
     "start_time": "2025-08-19T16:56:57.178573",
     "status": "completed"
    },
    "tags": []
   },
   "outputs": [],
   "source": [
    "from fairness_multiverse.conformal import compute_nc_scores\n",
    "\n",
    "# Compute nonconformity scores on calibration set (1 - probability of true class)\n",
    "nc_scores = compute_nc_scores(probs_calib, y_calib)"
   ]
  },
  {
   "cell_type": "code",
   "execution_count": 41,
   "id": "df3b8ca3-53b7-43d5-9667-7c85da7aeda2",
   "metadata": {
    "execution": {
     "iopub.execute_input": "2025-08-19T16:56:57.246025Z",
     "iopub.status.busy": "2025-08-19T16:56:57.244903Z",
     "iopub.status.idle": "2025-08-19T16:56:57.258869Z",
     "shell.execute_reply": "2025-08-19T16:56:57.256784Z"
    },
    "papermill": {
     "duration": 0.04909,
     "end_time": "2025-08-19T16:56:57.277957",
     "exception": false,
     "start_time": "2025-08-19T16:56:57.228867",
     "status": "completed"
    },
    "tags": []
   },
   "outputs": [],
   "source": [
    "from fairness_multiverse.conformal import find_threshold\n",
    "\n",
    "# Find conformal threshold q_hat for the given alpha (split conformal method)\n",
    "q_hat = find_threshold(nc_scores, alpha)"
   ]
  },
  {
   "cell_type": "code",
   "execution_count": 42,
   "id": "4d29e6c1-0ef6-4aa4-b8fe-4fe79b0d033a",
   "metadata": {
    "execution": {
     "iopub.execute_input": "2025-08-19T16:56:57.320948Z",
     "iopub.status.busy": "2025-08-19T16:56:57.320524Z",
     "iopub.status.idle": "2025-08-19T16:56:57.326312Z",
     "shell.execute_reply": "2025-08-19T16:56:57.325665Z"
    },
    "papermill": {
     "duration": 0.029117,
     "end_time": "2025-08-19T16:56:57.334598",
     "exception": false,
     "start_time": "2025-08-19T16:56:57.305481",
     "status": "completed"
    },
    "tags": []
   },
   "outputs": [
    {
     "data": {
      "text/plain": [
       "0.6756893084678626"
      ]
     },
     "execution_count": 42,
     "metadata": {},
     "output_type": "execute_result"
    }
   ],
   "source": [
    "q_hat"
   ]
  },
  {
   "cell_type": "code",
   "execution_count": 43,
   "id": "92460794-cdac-4be2-ba28-f28c0515a6fb",
   "metadata": {
    "execution": {
     "iopub.execute_input": "2025-08-19T16:56:57.370328Z",
     "iopub.status.busy": "2025-08-19T16:56:57.369260Z",
     "iopub.status.idle": "2025-08-19T16:56:58.060659Z",
     "shell.execute_reply": "2025-08-19T16:56:58.059583Z"
    },
    "papermill": {
     "duration": 0.706995,
     "end_time": "2025-08-19T16:56:58.062544",
     "exception": false,
     "start_time": "2025-08-19T16:56:57.355549",
     "status": "completed"
    },
    "tags": []
   },
   "outputs": [],
   "source": [
    "from fairness_multiverse.conformal import predict_conformal_sets\n",
    "\n",
    "# Generate prediction sets for each test example\n",
    "pred_sets = predict_conformal_sets(model, X_test, q_hat)"
   ]
  },
  {
   "cell_type": "code",
   "execution_count": 44,
   "id": "d90c9a65-e6db-4f5d-80cd-e68fb7e46829",
   "metadata": {
    "execution": {
     "iopub.execute_input": "2025-08-19T16:56:58.094787Z",
     "iopub.status.busy": "2025-08-19T16:56:58.093838Z",
     "iopub.status.idle": "2025-08-19T16:56:58.101481Z",
     "shell.execute_reply": "2025-08-19T16:56:58.100264Z"
    },
    "papermill": {
     "duration": 0.024551,
     "end_time": "2025-08-19T16:56:58.103484",
     "exception": false,
     "start_time": "2025-08-19T16:56:58.078933",
     "status": "completed"
    },
    "tags": []
   },
   "outputs": [],
   "source": [
    "y_true = y_true.squeeze()"
   ]
  },
  {
   "cell_type": "code",
   "execution_count": 45,
   "id": "3a58a54a-1e68-46b9-927a-df01f18aebc8",
   "metadata": {
    "execution": {
     "iopub.execute_input": "2025-08-19T16:56:58.130540Z",
     "iopub.status.busy": "2025-08-19T16:56:58.129814Z",
     "iopub.status.idle": "2025-08-19T16:56:58.688527Z",
     "shell.execute_reply": "2025-08-19T16:56:58.687249Z"
    },
    "papermill": {
     "duration": 0.574535,
     "end_time": "2025-08-19T16:56:58.690481",
     "exception": false,
     "start_time": "2025-08-19T16:56:58.115946",
     "status": "completed"
    },
    "tags": []
   },
   "outputs": [],
   "source": [
    "from fairness_multiverse.conformal import evaluate_sets\n",
    "\n",
    "# Evaluate coverage and average set size on test data\n",
    "metrics = evaluate_sets(pred_sets, y_true)"
   ]
  },
  {
   "cell_type": "markdown",
   "id": "2b569c12-9aaa-4c88-98c9-bbcd0cf3ebb8",
   "metadata": {
    "papermill": {
     "duration": 0.012026,
     "end_time": "2025-08-19T16:56:58.715642",
     "exception": false,
     "start_time": "2025-08-19T16:56:58.703616",
     "status": "completed"
    },
    "tags": []
   },
   "source": [
    "# CP Metrics"
   ]
  },
  {
   "cell_type": "code",
   "execution_count": 46,
   "id": "5ce0a5cb-201f-45a0-ade5-94c7f0bd6095",
   "metadata": {
    "execution": {
     "iopub.execute_input": "2025-08-19T16:56:58.741084Z",
     "iopub.status.busy": "2025-08-19T16:56:58.740613Z",
     "iopub.status.idle": "2025-08-19T16:56:58.747150Z",
     "shell.execute_reply": "2025-08-19T16:56:58.746558Z"
    },
    "papermill": {
     "duration": 0.023858,
     "end_time": "2025-08-19T16:56:58.751495",
     "exception": false,
     "start_time": "2025-08-19T16:56:58.727637",
     "status": "completed"
    },
    "tags": []
   },
   "outputs": [
    {
     "data": {
      "text/plain": [
       "{'coverage': 0.9126072901571731, 'avg_size': 1.1255266971352134}"
      ]
     },
     "execution_count": 46,
     "metadata": {},
     "output_type": "execute_result"
    }
   ],
   "source": [
    "metrics"
   ]
  },
  {
   "cell_type": "code",
   "execution_count": 47,
   "id": "9b9a838d-31c9-430b-ae14-12baee460d17",
   "metadata": {
    "execution": {
     "iopub.execute_input": "2025-08-19T16:56:58.782192Z",
     "iopub.status.busy": "2025-08-19T16:56:58.781861Z",
     "iopub.status.idle": "2025-08-19T16:56:58.788438Z",
     "shell.execute_reply": "2025-08-19T16:56:58.787261Z"
    },
    "papermill": {
     "duration": 0.021258,
     "end_time": "2025-08-19T16:56:58.790067",
     "exception": false,
     "start_time": "2025-08-19T16:56:58.768809",
     "status": "completed"
    },
    "tags": []
   },
   "outputs": [],
   "source": [
    "example_universe = universe.copy()\n",
    "universe_training_year = example_universe.get(\"training_year\")\n",
    "universe_training_size = example_universe.get(\"training_size\")\n",
    "universe_scale = example_universe.get(\"scale\")\n",
    "universe_model = example_universe.get(\"model\")\n",
    "universe_exclude_features = example_universe.get(\"exclude_features\")\n",
    "universe_exclude_subgroups = example_universe.get(\"exclude_subgroups\")"
   ]
  },
  {
   "cell_type": "code",
   "execution_count": 48,
   "id": "f4b6a8ac-9dc0-4245-8a91-5b3b5999c4f9",
   "metadata": {
    "execution": {
     "iopub.execute_input": "2025-08-19T16:56:58.816135Z",
     "iopub.status.busy": "2025-08-19T16:56:58.815822Z",
     "iopub.status.idle": "2025-08-19T16:56:58.822263Z",
     "shell.execute_reply": "2025-08-19T16:56:58.821382Z"
    },
    "papermill": {
     "duration": 0.02105,
     "end_time": "2025-08-19T16:56:58.823620",
     "exception": false,
     "start_time": "2025-08-19T16:56:58.802570",
     "status": "completed"
    },
    "tags": []
   },
   "outputs": [],
   "source": [
    "cp_metrics_dict = {\n",
    "    \"universe_id\": [universe_id],\n",
    "    \"universe_training_year\": [universe_training_year],\n",
    "    \"universe_training_size\": [universe_training_size],\n",
    "    \"universe_scale\": [universe_scale],\n",
    "    \"universe_model\": [universe_model],\n",
    "    \"universe_exclude_features\": [universe_exclude_features],\n",
    "    \"universe_exclude_subgroups\": [universe_exclude_subgroups],\n",
    "    \"q_hat\": [q_hat],\n",
    "    \"coverage\": [metrics[\"coverage\"]],\n",
    "    \"avg_size\": [metrics[\"avg_size\"]],\n",
    "}"
   ]
  },
  {
   "cell_type": "code",
   "execution_count": 49,
   "id": "33007efc-14e9-4ec6-97ac-56a455c82265",
   "metadata": {
    "execution": {
     "iopub.execute_input": "2025-08-19T16:56:58.848581Z",
     "iopub.status.busy": "2025-08-19T16:56:58.848255Z",
     "iopub.status.idle": "2025-08-19T16:56:58.872733Z",
     "shell.execute_reply": "2025-08-19T16:56:58.871400Z"
    },
    "papermill": {
     "duration": 0.041197,
     "end_time": "2025-08-19T16:56:58.876689",
     "exception": false,
     "start_time": "2025-08-19T16:56:58.835492",
     "status": "completed"
    },
    "tags": []
   },
   "outputs": [],
   "source": [
    "cp_metrics_df = pd.DataFrame(cp_metrics_dict)"
   ]
  },
  {
   "cell_type": "code",
   "execution_count": 50,
   "id": "db12611b-57b2-4910-b9d0-355adfd6e7bf",
   "metadata": {
    "execution": {
     "iopub.execute_input": "2025-08-19T16:56:58.920749Z",
     "iopub.status.busy": "2025-08-19T16:56:58.919285Z",
     "iopub.status.idle": "2025-08-19T16:56:58.957295Z",
     "shell.execute_reply": "2025-08-19T16:56:58.956179Z"
    },
    "papermill": {
     "duration": 0.055077,
     "end_time": "2025-08-19T16:56:58.959583",
     "exception": false,
     "start_time": "2025-08-19T16:56:58.904506",
     "status": "completed"
    },
    "tags": []
   },
   "outputs": [
    {
     "data": {
      "text/html": [
       "<div>\n",
       "<style scoped>\n",
       "    .dataframe tbody tr th:only-of-type {\n",
       "        vertical-align: middle;\n",
       "    }\n",
       "\n",
       "    .dataframe tbody tr th {\n",
       "        vertical-align: top;\n",
       "    }\n",
       "\n",
       "    .dataframe thead th {\n",
       "        text-align: right;\n",
       "    }\n",
       "</style>\n",
       "<table border=\"1\" class=\"dataframe\">\n",
       "  <thead>\n",
       "    <tr style=\"text-align: right;\">\n",
       "      <th></th>\n",
       "      <th>universe_id</th>\n",
       "      <th>universe_training_year</th>\n",
       "      <th>universe_training_size</th>\n",
       "      <th>universe_scale</th>\n",
       "      <th>universe_model</th>\n",
       "      <th>universe_exclude_features</th>\n",
       "      <th>universe_exclude_subgroups</th>\n",
       "      <th>q_hat</th>\n",
       "      <th>coverage</th>\n",
       "      <th>avg_size</th>\n",
       "    </tr>\n",
       "  </thead>\n",
       "  <tbody>\n",
       "    <tr>\n",
       "      <th>0</th>\n",
       "      <td>9952fe5eb17ee7c878143b246a327f2f</td>\n",
       "      <td>2014</td>\n",
       "      <td>25k</td>\n",
       "      <td>scale</td>\n",
       "      <td>logreg</td>\n",
       "      <td>nationality-sex</td>\n",
       "      <td>drop-non-german</td>\n",
       "      <td>0.675689</td>\n",
       "      <td>0.912607</td>\n",
       "      <td>1.125527</td>\n",
       "    </tr>\n",
       "  </tbody>\n",
       "</table>\n",
       "</div>"
      ],
      "text/plain": [
       "                        universe_id universe_training_year  \\\n",
       "0  9952fe5eb17ee7c878143b246a327f2f                   2014   \n",
       "\n",
       "  universe_training_size universe_scale universe_model  \\\n",
       "0                    25k          scale         logreg   \n",
       "\n",
       "  universe_exclude_features universe_exclude_subgroups     q_hat  coverage  \\\n",
       "0           nationality-sex            drop-non-german  0.675689  0.912607   \n",
       "\n",
       "   avg_size  \n",
       "0  1.125527  "
      ]
     },
     "execution_count": 50,
     "metadata": {},
     "output_type": "execute_result"
    }
   ],
   "source": [
    "cp_metrics_df"
   ]
  },
  {
   "cell_type": "markdown",
   "id": "c825ecb4-0d3d-41d6-b7c6-eccb21272259",
   "metadata": {
    "papermill": {
     "duration": 0.012436,
     "end_time": "2025-08-19T16:56:59.000311",
     "exception": false,
     "start_time": "2025-08-19T16:56:58.987875",
     "status": "completed"
    },
    "tags": []
   },
   "source": [
    "Conditional coverage & looking at subgroups"
   ]
  },
  {
   "cell_type": "code",
   "execution_count": 51,
   "id": "027ae886-68dd-4141-96c7-805a5450e1ef",
   "metadata": {
    "execution": {
     "iopub.execute_input": "2025-08-19T16:56:59.029505Z",
     "iopub.status.busy": "2025-08-19T16:56:59.028815Z",
     "iopub.status.idle": "2025-08-19T16:56:59.310002Z",
     "shell.execute_reply": "2025-08-19T16:56:59.309253Z"
    },
    "papermill": {
     "duration": 0.298601,
     "end_time": "2025-08-19T16:56:59.312975",
     "exception": false,
     "start_time": "2025-08-19T16:56:59.014374",
     "status": "completed"
    },
    "tags": []
   },
   "outputs": [],
   "source": [
    "from fairness_multiverse.conformal import build_cp_groups\n",
    "\n",
    "cp_groups_df = build_cp_groups(pred_sets, y_true, X_test.index, org_test)"
   ]
  },
  {
   "cell_type": "code",
   "execution_count": 52,
   "id": "6cbdab96-b2b2-45af-ad54-d0516db2e28d",
   "metadata": {
    "execution": {
     "iopub.execute_input": "2025-08-19T16:56:59.355463Z",
     "iopub.status.busy": "2025-08-19T16:56:59.354267Z",
     "iopub.status.idle": "2025-08-19T16:57:00.276377Z",
     "shell.execute_reply": "2025-08-19T16:57:00.275210Z"
    },
    "papermill": {
     "duration": 0.938468,
     "end_time": "2025-08-19T16:57:00.277926",
     "exception": false,
     "start_time": "2025-08-19T16:56:59.339458",
     "status": "completed"
    },
    "tags": []
   },
   "outputs": [],
   "source": [
    "# Define covered = 1 if true_label is in the predicted set\n",
    "cp_groups_df['covered'] = cp_groups_df.apply(\n",
    "    lambda r: int(r['true_label'] in r['pred_set']),\n",
    "    axis=1\n",
    ")"
   ]
  },
  {
   "cell_type": "code",
   "execution_count": 53,
   "id": "90032e27-66df-4540-9169-4e89cfbaa758",
   "metadata": {
    "execution": {
     "iopub.execute_input": "2025-08-19T16:57:00.304427Z",
     "iopub.status.busy": "2025-08-19T16:57:00.303335Z",
     "iopub.status.idle": "2025-08-19T16:57:00.328253Z",
     "shell.execute_reply": "2025-08-19T16:57:00.327492Z"
    },
    "papermill": {
     "duration": 0.039449,
     "end_time": "2025-08-19T16:57:00.329462",
     "exception": false,
     "start_time": "2025-08-19T16:57:00.290013",
     "status": "completed"
    },
    "tags": []
   },
   "outputs": [],
   "source": [
    "subgroups = ['frau1','nongerman','nongerman_male','nongerman_female']\n",
    "\n",
    "# Conditional coverage for subgroup==1\n",
    "cond_coverage = {\n",
    "    g: cp_groups_df.loc[cp_groups_df[g]==1, 'covered'].mean()\n",
    "    for g in subgroups\n",
    "}"
   ]
  },
  {
   "cell_type": "code",
   "execution_count": 54,
   "id": "1e348fb1-b9c3-45bc-ba23-f016827a7e0d",
   "metadata": {
    "execution": {
     "iopub.execute_input": "2025-08-19T16:57:00.356874Z",
     "iopub.status.busy": "2025-08-19T16:57:00.355378Z",
     "iopub.status.idle": "2025-08-19T16:57:00.364318Z",
     "shell.execute_reply": "2025-08-19T16:57:00.363467Z"
    },
    "papermill": {
     "duration": 0.024212,
     "end_time": "2025-08-19T16:57:00.365755",
     "exception": false,
     "start_time": "2025-08-19T16:57:00.341543",
     "status": "completed"
    },
    "tags": []
   },
   "outputs": [
    {
     "data": {
      "text/plain": [
       "{'frau1': 0.9126566922765872,\n",
       " 'nongerman': 0.9121989558187841,\n",
       " 'nongerman_male': 0.9269566783752139,\n",
       " 'nongerman_female': 0.887779433681073}"
      ]
     },
     "execution_count": 54,
     "metadata": {},
     "output_type": "execute_result"
    }
   ],
   "source": [
    "cond_coverage"
   ]
  },
  {
   "cell_type": "code",
   "execution_count": 55,
   "id": "f5093324-c3dd-4d63-bc4c-8d945e5c8bbb",
   "metadata": {
    "execution": {
     "iopub.execute_input": "2025-08-19T16:57:00.394933Z",
     "iopub.status.busy": "2025-08-19T16:57:00.394046Z",
     "iopub.status.idle": "2025-08-19T16:57:00.456698Z",
     "shell.execute_reply": "2025-08-19T16:57:00.455900Z"
    },
    "papermill": {
     "duration": 0.080246,
     "end_time": "2025-08-19T16:57:00.460522",
     "exception": false,
     "start_time": "2025-08-19T16:57:00.380276",
     "status": "completed"
    },
    "tags": []
   },
   "outputs": [],
   "source": [
    "for subgroup, cov in cond_coverage.items():\n",
    "    cp_metrics_df[f\"cov_{subgroup}\"] = cov"
   ]
  },
  {
   "cell_type": "code",
   "execution_count": 56,
   "id": "6e872e10-dbe5-49e8-b554-5030c98ff75d",
   "metadata": {
    "execution": {
     "iopub.execute_input": "2025-08-19T16:57:00.500192Z",
     "iopub.status.busy": "2025-08-19T16:57:00.499041Z",
     "iopub.status.idle": "2025-08-19T16:57:00.534289Z",
     "shell.execute_reply": "2025-08-19T16:57:00.532564Z"
    },
    "papermill": {
     "duration": 0.053237,
     "end_time": "2025-08-19T16:57:00.538279",
     "exception": false,
     "start_time": "2025-08-19T16:57:00.485042",
     "status": "completed"
    },
    "tags": []
   },
   "outputs": [
    {
     "data": {
      "text/html": [
       "<div>\n",
       "<style scoped>\n",
       "    .dataframe tbody tr th:only-of-type {\n",
       "        vertical-align: middle;\n",
       "    }\n",
       "\n",
       "    .dataframe tbody tr th {\n",
       "        vertical-align: top;\n",
       "    }\n",
       "\n",
       "    .dataframe thead th {\n",
       "        text-align: right;\n",
       "    }\n",
       "</style>\n",
       "<table border=\"1\" class=\"dataframe\">\n",
       "  <thead>\n",
       "    <tr style=\"text-align: right;\">\n",
       "      <th></th>\n",
       "      <th>universe_id</th>\n",
       "      <th>universe_training_year</th>\n",
       "      <th>universe_training_size</th>\n",
       "      <th>universe_scale</th>\n",
       "      <th>universe_model</th>\n",
       "      <th>universe_exclude_features</th>\n",
       "      <th>universe_exclude_subgroups</th>\n",
       "      <th>q_hat</th>\n",
       "      <th>coverage</th>\n",
       "      <th>avg_size</th>\n",
       "      <th>cov_frau1</th>\n",
       "      <th>cov_nongerman</th>\n",
       "      <th>cov_nongerman_male</th>\n",
       "      <th>cov_nongerman_female</th>\n",
       "    </tr>\n",
       "  </thead>\n",
       "  <tbody>\n",
       "    <tr>\n",
       "      <th>0</th>\n",
       "      <td>9952fe5eb17ee7c878143b246a327f2f</td>\n",
       "      <td>2014</td>\n",
       "      <td>25k</td>\n",
       "      <td>scale</td>\n",
       "      <td>logreg</td>\n",
       "      <td>nationality-sex</td>\n",
       "      <td>drop-non-german</td>\n",
       "      <td>0.675689</td>\n",
       "      <td>0.912607</td>\n",
       "      <td>1.125527</td>\n",
       "      <td>0.912657</td>\n",
       "      <td>0.912199</td>\n",
       "      <td>0.926957</td>\n",
       "      <td>0.887779</td>\n",
       "    </tr>\n",
       "  </tbody>\n",
       "</table>\n",
       "</div>"
      ],
      "text/plain": [
       "                        universe_id universe_training_year  \\\n",
       "0  9952fe5eb17ee7c878143b246a327f2f                   2014   \n",
       "\n",
       "  universe_training_size universe_scale universe_model  \\\n",
       "0                    25k          scale         logreg   \n",
       "\n",
       "  universe_exclude_features universe_exclude_subgroups     q_hat  coverage  \\\n",
       "0           nationality-sex            drop-non-german  0.675689  0.912607   \n",
       "\n",
       "   avg_size  cov_frau1  cov_nongerman  cov_nongerman_male  \\\n",
       "0  1.125527   0.912657       0.912199            0.926957   \n",
       "\n",
       "   cov_nongerman_female  \n",
       "0              0.887779  "
      ]
     },
     "execution_count": 56,
     "metadata": {},
     "output_type": "execute_result"
    }
   ],
   "source": [
    "cp_metrics_df"
   ]
  },
  {
   "cell_type": "markdown",
   "id": "33774451",
   "metadata": {
    "papermill": {
     "duration": 0.015104,
     "end_time": "2025-08-19T16:57:00.577195",
     "exception": false,
     "start_time": "2025-08-19T16:57:00.562091",
     "status": "completed"
    },
    "tags": []
   },
   "source": [
    "# (Fairness) Metrics"
   ]
  },
  {
   "cell_type": "code",
   "execution_count": 57,
   "id": "debc5d62",
   "metadata": {
    "execution": {
     "iopub.execute_input": "2025-08-19T16:57:00.606941Z",
     "iopub.status.busy": "2025-08-19T16:57:00.604826Z",
     "iopub.status.idle": "2025-08-19T16:57:00.636895Z",
     "shell.execute_reply": "2025-08-19T16:57:00.635883Z"
    },
    "papermill": {
     "duration": 0.048851,
     "end_time": "2025-08-19T16:57:00.639385",
     "exception": false,
     "start_time": "2025-08-19T16:57:00.590534",
     "status": "completed"
    },
    "tags": []
   },
   "outputs": [],
   "source": [
    "colname_to_bin = \"maxdeutsch1\"\n",
    "majority_value = org_train[colname_to_bin].mode()[0]\n",
    "\n",
    "org_test[\"majmin\"] = np.where(org_test[colname_to_bin] == majority_value, \"majority\", \"minority\")"
   ]
  },
  {
   "cell_type": "code",
   "execution_count": 58,
   "id": "06a50de5",
   "metadata": {
    "execution": {
     "iopub.execute_input": "2025-08-19T16:57:00.683526Z",
     "iopub.status.busy": "2025-08-19T16:57:00.681346Z",
     "iopub.status.idle": "2025-08-19T16:57:02.522442Z",
     "shell.execute_reply": "2025-08-19T16:57:02.521167Z"
    },
    "papermill": {
     "duration": 1.858678,
     "end_time": "2025-08-19T16:57:02.524342",
     "exception": false,
     "start_time": "2025-08-19T16:57:00.665664",
     "status": "completed"
    },
    "tags": []
   },
   "outputs": [],
   "source": [
    "example_universe = universe.copy()\n",
    "example_universe[\"cutoff\"] = example_universe[\"cutoff\"][0]\n",
    "example_universe[\"eval_fairness_grouping\"] = example_universe[\"eval_fairness_grouping\"][0]\n",
    "fairness_dict, metric_frame = universe_analysis.compute_metrics(\n",
    "    example_universe,\n",
    "    y_pred_prob=probs_test,\n",
    "    y_test=y_true,\n",
    "    org_test=org_test,\n",
    ")"
   ]
  },
  {
   "cell_type": "markdown",
   "id": "f95d4e02",
   "metadata": {
    "papermill": {
     "duration": 0.012245,
     "end_time": "2025-08-19T16:57:02.553597",
     "exception": false,
     "start_time": "2025-08-19T16:57:02.541352",
     "status": "completed"
    },
    "tags": []
   },
   "source": [
    "# Overall"
   ]
  },
  {
   "cell_type": "markdown",
   "id": "bdee4871",
   "metadata": {
    "papermill": {
     "duration": 0.012014,
     "end_time": "2025-08-19T16:57:02.577734",
     "exception": false,
     "start_time": "2025-08-19T16:57:02.565720",
     "status": "completed"
    },
    "tags": []
   },
   "source": [
    "Main fairness target: Equalized Odds. Seems to be a better fit than equal opportunity, since we're not only interested in Y = 1. Seems to be a better fit than demographic parity, since we also care about accuracy, not just equal distribution of preds.\n",
    "\n",
    "Pick column for computation of fairness metrics\n",
    "\n",
    "Performance\n",
    "Overall performance measures, most interesting in relation to the measures split by group below"
   ]
  },
  {
   "cell_type": "code",
   "execution_count": 59,
   "id": "c4e067c6",
   "metadata": {
    "execution": {
     "iopub.execute_input": "2025-08-19T16:57:02.605515Z",
     "iopub.status.busy": "2025-08-19T16:57:02.604170Z",
     "iopub.status.idle": "2025-08-19T16:57:02.620324Z",
     "shell.execute_reply": "2025-08-19T16:57:02.619369Z"
    },
    "papermill": {
     "duration": 0.032194,
     "end_time": "2025-08-19T16:57:02.621962",
     "exception": false,
     "start_time": "2025-08-19T16:57:02.589768",
     "status": "completed"
    },
    "tags": []
   },
   "outputs": [
    {
     "data": {
      "text/plain": [
       "accuracy                   0.225404\n",
       "balanced accuracy          0.550928\n",
       "f1                         0.246707\n",
       "precision                  0.140936\n",
       "false positive rate        0.886934\n",
       "false negative rate        0.011210\n",
       "selection rate             0.900000\n",
       "count                  89710.000000\n",
       "dtype: float64"
      ]
     },
     "execution_count": 59,
     "metadata": {},
     "output_type": "execute_result"
    }
   ],
   "source": [
    "metric_frame.overall"
   ]
  },
  {
   "cell_type": "markdown",
   "id": "e968fe9d",
   "metadata": {
    "papermill": {
     "duration": 0.012237,
     "end_time": "2025-08-19T16:57:02.650858",
     "exception": false,
     "start_time": "2025-08-19T16:57:02.638621",
     "status": "completed"
    },
    "tags": []
   },
   "source": [
    "By Group"
   ]
  },
  {
   "cell_type": "code",
   "execution_count": 60,
   "id": "ec325bce",
   "metadata": {
    "execution": {
     "iopub.execute_input": "2025-08-19T16:57:02.678076Z",
     "iopub.status.busy": "2025-08-19T16:57:02.677025Z",
     "iopub.status.idle": "2025-08-19T16:57:02.700750Z",
     "shell.execute_reply": "2025-08-19T16:57:02.699697Z"
    },
    "papermill": {
     "duration": 0.039311,
     "end_time": "2025-08-19T16:57:02.702452",
     "exception": false,
     "start_time": "2025-08-19T16:57:02.663141",
     "status": "completed"
    },
    "tags": []
   },
   "outputs": [
    {
     "data": {
      "text/html": [
       "<div>\n",
       "<style scoped>\n",
       "    .dataframe tbody tr th:only-of-type {\n",
       "        vertical-align: middle;\n",
       "    }\n",
       "\n",
       "    .dataframe tbody tr th {\n",
       "        vertical-align: top;\n",
       "    }\n",
       "\n",
       "    .dataframe thead th {\n",
       "        text-align: right;\n",
       "    }\n",
       "</style>\n",
       "<table border=\"1\" class=\"dataframe\">\n",
       "  <thead>\n",
       "    <tr style=\"text-align: right;\">\n",
       "      <th></th>\n",
       "      <th>accuracy</th>\n",
       "      <th>balanced accuracy</th>\n",
       "      <th>f1</th>\n",
       "      <th>precision</th>\n",
       "      <th>false positive rate</th>\n",
       "      <th>false negative rate</th>\n",
       "      <th>selection rate</th>\n",
       "      <th>count</th>\n",
       "    </tr>\n",
       "    <tr>\n",
       "      <th>majmin</th>\n",
       "      <th></th>\n",
       "      <th></th>\n",
       "      <th></th>\n",
       "      <th></th>\n",
       "      <th></th>\n",
       "      <th></th>\n",
       "      <th></th>\n",
       "      <th></th>\n",
       "    </tr>\n",
       "  </thead>\n",
       "  <tbody>\n",
       "    <tr>\n",
       "      <th>majority</th>\n",
       "      <td>0.24648</td>\n",
       "      <td>0.560635</td>\n",
       "      <td>0.257271</td>\n",
       "      <td>0.147899</td>\n",
       "      <td>0.866367</td>\n",
       "      <td>0.012363</td>\n",
       "      <td>0.882391</td>\n",
       "      <td>69170.0</td>\n",
       "    </tr>\n",
       "    <tr>\n",
       "      <th>minority</th>\n",
       "      <td>0.15443</td>\n",
       "      <td>0.519184</td>\n",
       "      <td>0.213121</td>\n",
       "      <td>0.119367</td>\n",
       "      <td>0.954876</td>\n",
       "      <td>0.006757</td>\n",
       "      <td>0.959299</td>\n",
       "      <td>20540.0</td>\n",
       "    </tr>\n",
       "  </tbody>\n",
       "</table>\n",
       "</div>"
      ],
      "text/plain": [
       "          accuracy  balanced accuracy        f1  precision  \\\n",
       "majmin                                                       \n",
       "majority   0.24648           0.560635  0.257271   0.147899   \n",
       "minority   0.15443           0.519184  0.213121   0.119367   \n",
       "\n",
       "          false positive rate  false negative rate  selection rate    count  \n",
       "majmin                                                                       \n",
       "majority             0.866367             0.012363        0.882391  69170.0  \n",
       "minority             0.954876             0.006757        0.959299  20540.0  "
      ]
     },
     "execution_count": 60,
     "metadata": {},
     "output_type": "execute_result"
    }
   ],
   "source": [
    "metric_frame.by_group"
   ]
  },
  {
   "cell_type": "code",
   "execution_count": 61,
   "id": "a9ddbe63",
   "metadata": {
    "execution": {
     "iopub.execute_input": "2025-08-19T16:57:02.735438Z",
     "iopub.status.busy": "2025-08-19T16:57:02.735066Z",
     "iopub.status.idle": "2025-08-19T16:57:04.635015Z",
     "shell.execute_reply": "2025-08-19T16:57:04.634154Z"
    },
    "papermill": {
     "duration": 1.91487,
     "end_time": "2025-08-19T16:57:04.636302",
     "exception": false,
     "start_time": "2025-08-19T16:57:02.721432",
     "status": "completed"
    },
    "tags": []
   },
   "outputs": [
    {
     "data": {
      "text/plain": [
       "array([[<Axes: title={'center': 'accuracy'}, xlabel='majmin'>,\n",
       "        <Axes: title={'center': 'balanced accuracy'}, xlabel='majmin'>,\n",
       "        <Axes: title={'center': 'f1'}, xlabel='majmin'>],\n",
       "       [<Axes: title={'center': 'precision'}, xlabel='majmin'>,\n",
       "        <Axes: title={'center': 'false positive rate'}, xlabel='majmin'>,\n",
       "        <Axes: title={'center': 'false negative rate'}, xlabel='majmin'>],\n",
       "       [<Axes: title={'center': 'selection rate'}, xlabel='majmin'>,\n",
       "        <Axes: title={'center': 'count'}, xlabel='majmin'>,\n",
       "        <Axes: xlabel='majmin'>]], dtype=object)"
      ]
     },
     "execution_count": 61,
     "metadata": {},
     "output_type": "execute_result"
    },
    {
     "data": {
      "image/png": "[encoded data removed]",
      "text/plain": [
       "<Figure size 1200x800 with 9 Axes>"
      ]
     },
     "metadata": {},
     "output_type": "display_data"
    }
   ],
   "source": [
    "# In a graphic\n",
    "metric_frame.by_group.plot.bar(\n",
    "    subplots=True,\n",
    "    layout=[3, 3],\n",
    "    legend=False,\n",
    "    figsize=[12, 8],\n",
    "    title=\"Show all metrics\",\n",
    ")"
   ]
  },
  {
   "cell_type": "markdown",
   "id": "f57a0bac",
   "metadata": {
    "papermill": {
     "duration": 0.020403,
     "end_time": "2025-08-19T16:57:04.673162",
     "exception": false,
     "start_time": "2025-08-19T16:57:04.652759",
     "status": "completed"
    },
    "tags": []
   },
   "source": [
    "# Final Output"
   ]
  },
  {
   "cell_type": "code",
   "execution_count": 62,
   "id": "96d280a3",
   "metadata": {
    "execution": {
     "iopub.execute_input": "2025-08-19T16:57:04.703322Z",
     "iopub.status.busy": "2025-08-19T16:57:04.702499Z",
     "iopub.status.idle": "2025-08-19T16:57:04.711543Z",
     "shell.execute_reply": "2025-08-19T16:57:04.710951Z"
    },
    "papermill": {
     "duration": 0.033352,
     "end_time": "2025-08-19T16:57:04.721157",
     "exception": false,
     "start_time": "2025-08-19T16:57:04.687805",
     "status": "completed"
    },
    "tags": []
   },
   "outputs": [
    {
     "data": {
      "text/plain": [
       "4"
      ]
     },
     "execution_count": 62,
     "metadata": {},
     "output_type": "execute_result"
    }
   ],
   "source": [
    "sub_universes = universe_analysis.generate_sub_universes()\n",
    "len(sub_universes)"
   ]
  },
  {
   "cell_type": "code",
   "execution_count": 63,
   "id": "92adf7ba",
   "metadata": {
    "execution": {
     "iopub.execute_input": "2025-08-19T16:57:04.753185Z",
     "iopub.status.busy": "2025-08-19T16:57:04.751316Z",
     "iopub.status.idle": "2025-08-19T16:57:04.774470Z",
     "shell.execute_reply": "2025-08-19T16:57:04.772466Z"
    },
    "papermill": {
     "duration": 0.041103,
     "end_time": "2025-08-19T16:57:04.776903",
     "exception": false,
     "start_time": "2025-08-19T16:57:04.735800",
     "status": "completed"
    },
    "tags": []
   },
   "outputs": [],
   "source": [
    "def filter_sub_universe_data(sub_universe, org_test):\n",
    "    # Keep all rows — no filtering\n",
    "    keep_rows_mask = np.ones(org_test.shape[0], dtype=bool)\n",
    "\n",
    "    print(f\"[INFO] Keeping all rows: {keep_rows_mask.sum()} rows retained.\")\n",
    "    return keep_rows_mask"
   ]
  },
  {
   "cell_type": "code",
   "execution_count": 64,
   "id": "4a759155",
   "metadata": {
    "execution": {
     "iopub.execute_input": "2025-08-19T16:57:04.818956Z",
     "iopub.status.busy": "2025-08-19T16:57:04.817859Z",
     "iopub.status.idle": "2025-08-19T16:57:11.500323Z",
     "shell.execute_reply": "2025-08-19T16:57:11.499349Z"
    },
    "papermill": {
     "duration": 6.701974,
     "end_time": "2025-08-19T16:57:11.501646",
     "exception": false,
     "start_time": "2025-08-19T16:57:04.799672",
     "status": "completed"
    },
    "tags": []
   },
   "outputs": [
    {
     "name": "stdout",
     "output_type": "stream",
     "text": [
      "Stopping execution_time clock.\n",
      "[INFO] Keeping all rows: 89710 rows retained.\n"
     ]
    },
    {
     "name": "stdout",
     "output_type": "stream",
     "text": [
      "[INFO] Keeping all rows: 89710 rows retained.\n"
     ]
    },
    {
     "name": "stdout",
     "output_type": "stream",
     "text": [
      "[INFO] Keeping all rows: 89710 rows retained.\n"
     ]
    },
    {
     "name": "stdout",
     "output_type": "stream",
     "text": [
      "[INFO] Keeping all rows: 89710 rows retained.\n"
     ]
    },
    {
     "data": {
      "text/html": [
       "<div>\n",
       "<style scoped>\n",
       "    .dataframe tbody tr th:only-of-type {\n",
       "        vertical-align: middle;\n",
       "    }\n",
       "\n",
       "    .dataframe tbody tr th {\n",
       "        vertical-align: top;\n",
       "    }\n",
       "\n",
       "    .dataframe thead th {\n",
       "        text-align: right;\n",
       "    }\n",
       "</style>\n",
       "<table border=\"1\" class=\"dataframe\">\n",
       "  <thead>\n",
       "    <tr style=\"text-align: right;\">\n",
       "      <th></th>\n",
       "      <th>run_no</th>\n",
       "      <th>universe_id</th>\n",
       "      <th>universe_settings</th>\n",
       "      <th>execution_time</th>\n",
       "      <th>test_size_n</th>\n",
       "      <th>test_size_frac</th>\n",
       "      <th>fair_main_equalized_odds_difference</th>\n",
       "      <th>fair_main_equalized_odds_ratio</th>\n",
       "      <th>fair_main_demographic_parity_difference</th>\n",
       "      <th>fair_main_demographic_parity_ratio</th>\n",
       "      <th>...</th>\n",
       "      <th>perf_grp_precision_0</th>\n",
       "      <th>perf_grp_precision_1</th>\n",
       "      <th>perf_grp_false positive rate_0</th>\n",
       "      <th>perf_grp_false positive rate_1</th>\n",
       "      <th>perf_grp_false negative rate_0</th>\n",
       "      <th>perf_grp_false negative rate_1</th>\n",
       "      <th>perf_grp_selection rate_0</th>\n",
       "      <th>perf_grp_selection rate_1</th>\n",
       "      <th>perf_grp_count_0</th>\n",
       "      <th>perf_grp_count_1</th>\n",
       "    </tr>\n",
       "  </thead>\n",
       "  <tbody>\n",
       "    <tr>\n",
       "      <th>0</th>\n",
       "      <td>2</td>\n",
       "      <td>9952fe5eb17ee7c878143b246a327f2f</td>\n",
       "      <td>{\"cutoff\": \"quantile_0.1\", \"eval_fairness_grou...</td>\n",
       "      <td>22.929519</td>\n",
       "      <td>89710</td>\n",
       "      <td>1.0</td>\n",
       "      <td>0.088509</td>\n",
       "      <td>0.907309</td>\n",
       "      <td>0.076908</td>\n",
       "      <td>0.919829</td>\n",
       "      <td>...</td>\n",
       "      <td>NaN</td>\n",
       "      <td>NaN</td>\n",
       "      <td>NaN</td>\n",
       "      <td>NaN</td>\n",
       "      <td>NaN</td>\n",
       "      <td>NaN</td>\n",
       "      <td>NaN</td>\n",
       "      <td>NaN</td>\n",
       "      <td>NaN</td>\n",
       "      <td>NaN</td>\n",
       "    </tr>\n",
       "    <tr>\n",
       "      <th>0</th>\n",
       "      <td>2</td>\n",
       "      <td>9952fe5eb17ee7c878143b246a327f2f</td>\n",
       "      <td>{\"cutoff\": \"quantile_0.1\", \"eval_fairness_grou...</td>\n",
       "      <td>22.929519</td>\n",
       "      <td>89710</td>\n",
       "      <td>1.0</td>\n",
       "      <td>0.088509</td>\n",
       "      <td>0.907309</td>\n",
       "      <td>0.076908</td>\n",
       "      <td>0.919829</td>\n",
       "      <td>...</td>\n",
       "      <td>0.119367</td>\n",
       "      <td>0.147899</td>\n",
       "      <td>0.954876</td>\n",
       "      <td>0.866367</td>\n",
       "      <td>0.006757</td>\n",
       "      <td>0.012363</td>\n",
       "      <td>0.959299</td>\n",
       "      <td>0.882391</td>\n",
       "      <td>20540.0</td>\n",
       "      <td>69170.0</td>\n",
       "    </tr>\n",
       "    <tr>\n",
       "      <th>0</th>\n",
       "      <td>2</td>\n",
       "      <td>9952fe5eb17ee7c878143b246a327f2f</td>\n",
       "      <td>{\"cutoff\": \"quantile_0.25\", \"eval_fairness_gro...</td>\n",
       "      <td>22.929519</td>\n",
       "      <td>89710</td>\n",
       "      <td>1.0</td>\n",
       "      <td>0.157205</td>\n",
       "      <td>0.813103</td>\n",
       "      <td>0.135638</td>\n",
       "      <td>0.841281</td>\n",
       "      <td>...</td>\n",
       "      <td>NaN</td>\n",
       "      <td>NaN</td>\n",
       "      <td>NaN</td>\n",
       "      <td>NaN</td>\n",
       "      <td>NaN</td>\n",
       "      <td>NaN</td>\n",
       "      <td>NaN</td>\n",
       "      <td>NaN</td>\n",
       "      <td>NaN</td>\n",
       "      <td>NaN</td>\n",
       "    </tr>\n",
       "    <tr>\n",
       "      <th>0</th>\n",
       "      <td>2</td>\n",
       "      <td>9952fe5eb17ee7c878143b246a327f2f</td>\n",
       "      <td>{\"cutoff\": \"quantile_0.25\", \"eval_fairness_gro...</td>\n",
       "      <td>22.929519</td>\n",
       "      <td>89710</td>\n",
       "      <td>1.0</td>\n",
       "      <td>0.157205</td>\n",
       "      <td>0.813103</td>\n",
       "      <td>0.135638</td>\n",
       "      <td>0.841281</td>\n",
       "      <td>...</td>\n",
       "      <td>0.129209</td>\n",
       "      <td>0.174405</td>\n",
       "      <td>0.841129</td>\n",
       "      <td>0.683925</td>\n",
       "      <td>0.042230</td>\n",
       "      <td>0.051094</td>\n",
       "      <td>0.854576</td>\n",
       "      <td>0.718939</td>\n",
       "      <td>20540.0</td>\n",
       "      <td>69170.0</td>\n",
       "    </tr>\n",
       "  </tbody>\n",
       "</table>\n",
       "<p>4 rows × 50 columns</p>\n",
       "</div>"
      ],
      "text/plain": [
       "  run_no                       universe_id  \\\n",
       "0      2  9952fe5eb17ee7c878143b246a327f2f   \n",
       "0      2  9952fe5eb17ee7c878143b246a327f2f   \n",
       "0      2  9952fe5eb17ee7c878143b246a327f2f   \n",
       "0      2  9952fe5eb17ee7c878143b246a327f2f   \n",
       "\n",
       "                                   universe_settings  execution_time  \\\n",
       "0  {\"cutoff\": \"quantile_0.1\", \"eval_fairness_grou...       22.929519   \n",
       "0  {\"cutoff\": \"quantile_0.1\", \"eval_fairness_grou...       22.929519   \n",
       "0  {\"cutoff\": \"quantile_0.25\", \"eval_fairness_gro...       22.929519   \n",
       "0  {\"cutoff\": \"quantile_0.25\", \"eval_fairness_gro...       22.929519   \n",
       "\n",
       "   test_size_n  test_size_frac  fair_main_equalized_odds_difference  \\\n",
       "0        89710             1.0                             0.088509   \n",
       "0        89710             1.0                             0.088509   \n",
       "0        89710             1.0                             0.157205   \n",
       "0        89710             1.0                             0.157205   \n",
       "\n",
       "   fair_main_equalized_odds_ratio  fair_main_demographic_parity_difference  \\\n",
       "0                        0.907309                                 0.076908   \n",
       "0                        0.907309                                 0.076908   \n",
       "0                        0.813103                                 0.135638   \n",
       "0                        0.813103                                 0.135638   \n",
       "\n",
       "   fair_main_demographic_parity_ratio  ...  perf_grp_precision_0  \\\n",
       "0                            0.919829  ...                   NaN   \n",
       "0                            0.919829  ...              0.119367   \n",
       "0                            0.841281  ...                   NaN   \n",
       "0                            0.841281  ...              0.129209   \n",
       "\n",
       "   perf_grp_precision_1  perf_grp_false positive rate_0  \\\n",
       "0                   NaN                             NaN   \n",
       "0              0.147899                        0.954876   \n",
       "0                   NaN                             NaN   \n",
       "0              0.174405                        0.841129   \n",
       "\n",
       "   perf_grp_false positive rate_1  perf_grp_false negative rate_0  \\\n",
       "0                             NaN                             NaN   \n",
       "0                        0.866367                        0.006757   \n",
       "0                             NaN                             NaN   \n",
       "0                        0.683925                        0.042230   \n",
       "\n",
       "   perf_grp_false negative rate_1  perf_grp_selection rate_0  \\\n",
       "0                             NaN                        NaN   \n",
       "0                        0.012363                   0.959299   \n",
       "0                             NaN                        NaN   \n",
       "0                        0.051094                   0.854576   \n",
       "\n",
       "   perf_grp_selection rate_1  perf_grp_count_0  perf_grp_count_1  \n",
       "0                        NaN               NaN               NaN  \n",
       "0                   0.882391           20540.0           69170.0  \n",
       "0                        NaN               NaN               NaN  \n",
       "0                   0.718939           20540.0           69170.0  \n",
       "\n",
       "[4 rows x 50 columns]"
      ]
     },
     "execution_count": 64,
     "metadata": {},
     "output_type": "execute_result"
    }
   ],
   "source": [
    "final_output = universe_analysis.generate_final_output(\n",
    "    y_pred_prob=probs_test,\n",
    "    y_test=y_true,\n",
    "    org_test=org_test,\n",
    "    filter_data=filter_sub_universe_data,\n",
    "    cp_metrics_df=cp_metrics_df,\n",
    "    save=True,\n",
    ")\n",
    "final_output"
   ]
  },
  {
   "cell_type": "code",
   "execution_count": null,
   "id": "571f9a0f-660a-4841-b661-b06fbc637944",
   "metadata": {
    "papermill": {
     "duration": 0.014836,
     "end_time": "2025-08-19T16:57:11.537408",
     "exception": false,
     "start_time": "2025-08-19T16:57:11.522572",
     "status": "completed"
    },
    "tags": []
   },
   "outputs": [],
   "source": []
  },
  {
   "cell_type": "code",
   "execution_count": null,
   "id": "529482e3-0150-4854-a92d-ab864efc606e",
   "metadata": {
    "papermill": {
     "duration": 0.0145,
     "end_time": "2025-08-19T16:57:11.566587",
     "exception": false,
     "start_time": "2025-08-19T16:57:11.552087",
     "status": "completed"
    },
    "tags": []
   },
   "outputs": [],
   "source": []
  }
 ],
 "metadata": {
  "celltoolbar": "Tags",
  "kernelspec": {
   "display_name": "Python (CMA Fairness)",
   "language": "python",
   "name": "cma_fair_env"
  },
  "language_info": {
   "codemirror_mode": {
    "name": "ipython",
    "version": 3
   },
   "file_extension": ".py",
   "mimetype": "text/x-python",
   "name": "python",
   "nbconvert_exporter": "python",
   "pygments_lexer": "ipython3",
   "version": "3.10.12"
  },
  "papermill": {
   "default_parameters": {},
   "duration": 33.708692,
   "end_time": "2025-08-19T16:57:12.402884",
   "environment_variables": {},
   "exception": null,
   "input_path": "universe_analysis.ipynb",
   "output_path": "output/runs/2/notebooks/m_2-9952fe5eb17ee7c878143b246a327f2f.ipynb",
   "parameters": {
    "output_dir": "output",
    "run_no": "2",
    "seed": "2023",
    "universe": "{\"cutoff\": [\"quantile_0.1\", \"quantile_0.25\"], \"eval_fairness_grouping\": [\"majority-minority\", \"nationality-all\"], \"exclude_features\": \"nationality-sex\", \"exclude_subgroups\": \"drop-non-german\", \"model\": \"logreg\", \"scale\": \"scale\", \"training_size\": \"25k\", \"training_year\": \"2014\"}",
    "universe_id": "9952fe5eb17ee7c878143b246a327f2f"
   },
   "start_time": "2025-08-19T16:56:38.694192",
   "version": "2.6.0"
  }
 },
 "nbformat": 4,
 "nbformat_minor": 5
}