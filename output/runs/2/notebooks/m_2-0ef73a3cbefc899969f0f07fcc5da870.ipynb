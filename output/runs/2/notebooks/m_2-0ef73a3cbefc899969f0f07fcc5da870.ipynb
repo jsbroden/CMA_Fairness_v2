{
 "cells": [
  {
   "cell_type": "markdown",
   "id": "b2057076-3a91-4cfa-9bfd-eab1e61b3068",
   "metadata": {
    "papermill": {
     "duration": 0.034038,
     "end_time": "2025-08-19T16:55:54.080658",
     "exception": false,
     "start_time": "2025-08-19T16:55:54.046620",
     "status": "completed"
    },
    "tags": []
   },
   "source": [
    "# Setup"
   ]
  },
  {
   "cell_type": "code",
   "execution_count": 1,
   "id": "f159f837-637b-42ba-96b5-ec9a68c44524",
   "metadata": {
    "execution": {
     "iopub.execute_input": "2025-08-19T16:55:54.104286Z",
     "iopub.status.busy": "2025-08-19T16:55:54.103026Z",
     "iopub.status.idle": "2025-08-19T16:55:54.124836Z",
     "shell.execute_reply": "2025-08-19T16:55:54.123281Z"
    },
    "papermill": {
     "duration": 0.036164,
     "end_time": "2025-08-19T16:55:54.126629",
     "exception": false,
     "start_time": "2025-08-19T16:55:54.090465",
     "status": "completed"
    },
    "tags": []
   },
   "outputs": [
    {
     "name": "stdout",
     "output_type": "stream",
     "text": [
      "/dss/dsshome1/0C/ra93lal2/cma/CMA_Fairness_v2\n"
     ]
    },
    {
     "name": "stderr",
     "output_type": "stream",
     "text": [
      "/dss/dsshome1/0C/ra93lal2/.local/share/virtualenvs/CMA_Fairness_v2-3j10GkSs/lib/python3.10/site-packages/IPython/core/magics/osm.py:393: UserWarning: This is now an optional IPython functionality, using bookmarks requires you to install the `pickleshare` library.\n",
      "  bkms = self.shell.db.get('bookmarks', {})\n",
      "/dss/dsshome1/0C/ra93lal2/.local/share/virtualenvs/CMA_Fairness_v2-3j10GkSs/lib/python3.10/site-packages/IPython/core/magics/osm.py:417: UserWarning: This is now an optional IPython functionality, setting dhist requires you to install the `pickleshare` library.\n",
      "  self.shell.db['dhist'] = compress_dhist(dhist)[-100:]\n"
     ]
    }
   ],
   "source": [
    "%cd ~/cma/CMA_Fairness_v2"
   ]
  },
  {
   "cell_type": "markdown",
   "id": "de2603b9",
   "metadata": {
    "papermill": {
     "duration": 0.008886,
     "end_time": "2025-08-19T16:55:54.150531",
     "exception": false,
     "start_time": "2025-08-19T16:55:54.141645",
     "status": "completed"
    },
    "tags": []
   },
   "source": [
    "The following cell holds the definition of our parameters, these values can be overriden by rendering the with e.g. the following command:\n",
    "\n",
    "papermill -p alpha 0.2 -p ratio 0.3 universe_analysis.ipynb output/test_run.ipynb"
   ]
  },
  {
   "cell_type": "code",
   "execution_count": 2,
   "id": "a80968a0-40bb-4fa9-85ef-2d5eefb01975",
   "metadata": {
    "execution": {
     "iopub.execute_input": "2025-08-19T16:55:54.179174Z",
     "iopub.status.busy": "2025-08-19T16:55:54.178726Z",
     "iopub.status.idle": "2025-08-19T16:55:54.183791Z",
     "shell.execute_reply": "2025-08-19T16:55:54.182953Z"
    },
    "papermill": {
     "duration": 0.018863,
     "end_time": "2025-08-19T16:55:54.185059",
     "exception": false,
     "start_time": "2025-08-19T16:55:54.166196",
     "status": "completed"
    },
    "tags": []
   },
   "outputs": [
    {
     "name": "stdout",
     "output_type": "stream",
     "text": [
      "Current working directory: /dss/dsshome1/0C/ra93lal2/cma/CMA_Fairness_v2\n"
     ]
    }
   ],
   "source": [
    "import os\n",
    "print(\"Current working directory:\", os.getcwd())"
   ]
  },
  {
   "cell_type": "code",
   "execution_count": 3,
   "id": "2dce4c03",
   "metadata": {
    "execution": {
     "iopub.execute_input": "2025-08-19T16:55:54.219894Z",
     "iopub.status.busy": "2025-08-19T16:55:54.219013Z",
     "iopub.status.idle": "2025-08-19T16:55:54.227310Z",
     "shell.execute_reply": "2025-08-19T16:55:54.225903Z"
    },
    "papermill": {
     "duration": 0.022994,
     "end_time": "2025-08-19T16:55:54.229654",
     "exception": false,
     "start_time": "2025-08-19T16:55:54.206660",
     "status": "completed"
    },
    "tags": [
     "parameters"
    ]
   },
   "outputs": [],
   "source": [
    "run_no = 0\n",
    "universe_id = \"test\"\n",
    "universe = {\n",
    "    \"training_size\": \"5k\", # \"25k\", \"5k\", \"1k\"\n",
    "    \"training_year\": \"2012_14\", # \"2014\", \"2012_14\", \"2010_14\"\n",
    "    \"scale\": \"scale\", # \"scale\", \"do-not-scale\",\n",
    "    \"model\": \"elasticnet\", # \"logreg\", \"penalized_logreg\", \"rf\", \"gbm\", \"elasticnet\"\n",
    "    \"cutoff\": [\"quantile_0.15\", \"quantile_0.30\"],\n",
    "    \"exclude_features\": \"age\", # \"none\", \"nationality\", \"sex\", \"nationality-sex\", \"age\"\n",
    "    \"exclude_subgroups\": \"drop-non-german\", # \"keep-all\", \"drop-non-german\"\n",
    "    \"eval_fairness_grouping\": [\"majority-minority\", \"nationality-all\"]\n",
    "}\n",
    "\n",
    "output_dir=\"./output\"\n",
    "seed=0"
   ]
  },
  {
   "cell_type": "code",
   "execution_count": 4,
   "id": "cbd97882",
   "metadata": {
    "execution": {
     "iopub.execute_input": "2025-08-19T16:55:54.255265Z",
     "iopub.status.busy": "2025-08-19T16:55:54.253747Z",
     "iopub.status.idle": "2025-08-19T16:55:54.262527Z",
     "shell.execute_reply": "2025-08-19T16:55:54.260702Z"
    },
    "papermill": {
     "duration": 0.023895,
     "end_time": "2025-08-19T16:55:54.266020",
     "exception": false,
     "start_time": "2025-08-19T16:55:54.242125",
     "status": "completed"
    },
    "tags": [
     "injected-parameters"
    ]
   },
   "outputs": [],
   "source": [
    "# Parameters\n",
    "universe_id = \"0ef73a3cbefc899969f0f07fcc5da870\"\n",
    "run_no = \"2\"\n",
    "universe = \"{\\\"cutoff\\\": [\\\"quantile_0.1\\\", \\\"quantile_0.25\\\"], \\\"eval_fairness_grouping\\\": [\\\"majority-minority\\\", \\\"nationality-all\\\"], \\\"exclude_features\\\": \\\"nationality\\\", \\\"exclude_subgroups\\\": \\\"keep-all\\\", \\\"model\\\": \\\"logreg\\\", \\\"scale\\\": \\\"scale\\\", \\\"training_size\\\": \\\"25k\\\", \\\"training_year\\\": \\\"2014\\\"}\"\n",
    "output_dir = \"output\"\n",
    "seed = \"2023\"\n"
   ]
  },
  {
   "cell_type": "code",
   "execution_count": 5,
   "id": "1650acaf",
   "metadata": {
    "execution": {
     "iopub.execute_input": "2025-08-19T16:55:54.306643Z",
     "iopub.status.busy": "2025-08-19T16:55:54.305668Z",
     "iopub.status.idle": "2025-08-19T16:55:54.318355Z",
     "shell.execute_reply": "2025-08-19T16:55:54.317049Z"
    },
    "papermill": {
     "duration": 0.03148,
     "end_time": "2025-08-19T16:55:54.321701",
     "exception": false,
     "start_time": "2025-08-19T16:55:54.290221",
     "status": "completed"
    },
    "tags": []
   },
   "outputs": [],
   "source": [
    "import json\n",
    "if isinstance(universe, str):\n",
    "    universe = json.loads(universe)"
   ]
  },
  {
   "cell_type": "code",
   "execution_count": 6,
   "id": "16620c48",
   "metadata": {
    "execution": {
     "iopub.execute_input": "2025-08-19T16:55:54.354362Z",
     "iopub.status.busy": "2025-08-19T16:55:54.353926Z",
     "iopub.status.idle": "2025-08-19T16:55:54.408745Z",
     "shell.execute_reply": "2025-08-19T16:55:54.406664Z"
    },
    "papermill": {
     "duration": 0.070043,
     "end_time": "2025-08-19T16:55:54.411596",
     "exception": false,
     "start_time": "2025-08-19T16:55:54.341553",
     "status": "completed"
    },
    "tags": []
   },
   "outputs": [],
   "source": [
    "# Auto-reload the custom package\n",
    "%load_ext autoreload\n",
    "%autoreload 1\n",
    "%aimport fairness_multiverse"
   ]
  },
  {
   "cell_type": "code",
   "execution_count": 7,
   "id": "01c5c9f3",
   "metadata": {
    "execution": {
     "iopub.execute_input": "2025-08-19T16:55:54.436847Z",
     "iopub.status.busy": "2025-08-19T16:55:54.435923Z",
     "iopub.status.idle": "2025-08-19T16:56:04.562533Z",
     "shell.execute_reply": "2025-08-19T16:56:04.561695Z"
    },
    "papermill": {
     "duration": 10.139763,
     "end_time": "2025-08-19T16:56:04.564008",
     "exception": false,
     "start_time": "2025-08-19T16:55:54.424245",
     "status": "completed"
    },
    "tags": []
   },
   "outputs": [],
   "source": [
    "from fairness_multiverse.universe import UniverseAnalysis\n",
    "\n",
    "universe_analysis = UniverseAnalysis(\n",
    "    run_no = run_no,\n",
    "    universe_id = universe_id,\n",
    "    universe = universe,\n",
    "    output_dir=output_dir,\n",
    ")"
   ]
  },
  {
   "cell_type": "code",
   "execution_count": 8,
   "id": "106241f5",
   "metadata": {
    "execution": {
     "iopub.execute_input": "2025-08-19T16:56:04.593594Z",
     "iopub.status.busy": "2025-08-19T16:56:04.592320Z",
     "iopub.status.idle": "2025-08-19T16:56:04.610057Z",
     "shell.execute_reply": "2025-08-19T16:56:04.609185Z"
    },
    "papermill": {
     "duration": 0.033066,
     "end_time": "2025-08-19T16:56:04.611257",
     "exception": false,
     "start_time": "2025-08-19T16:56:04.578191",
     "status": "completed"
    },
    "tags": []
   },
   "outputs": [
    {
     "name": "stdout",
     "output_type": "stream",
     "text": [
      "Using Seed: 2023\n"
     ]
    }
   ],
   "source": [
    "import numpy as np\n",
    "parsed_seed = int(seed)\n",
    "np.random.seed(parsed_seed)\n",
    "print(f\"Using Seed: {parsed_seed}\")"
   ]
  },
  {
   "cell_type": "markdown",
   "id": "e0ebdc57",
   "metadata": {
    "papermill": {
     "duration": 0.019165,
     "end_time": "2025-08-19T16:56:04.649750",
     "exception": false,
     "start_time": "2025-08-19T16:56:04.630585",
     "status": "completed"
    },
    "tags": []
   },
   "source": [
    "# Loading Data"
   ]
  },
  {
   "cell_type": "code",
   "execution_count": 9,
   "id": "f0496b8a",
   "metadata": {
    "execution": {
     "iopub.execute_input": "2025-08-19T16:56:04.677912Z",
     "iopub.status.busy": "2025-08-19T16:56:04.677452Z",
     "iopub.status.idle": "2025-08-19T16:56:14.606471Z",
     "shell.execute_reply": "2025-08-19T16:56:14.605567Z"
    },
    "papermill": {
     "duration": 9.94201,
     "end_time": "2025-08-19T16:56:14.607813",
     "exception": false,
     "start_time": "2025-08-19T16:56:04.665803",
     "status": "completed"
    },
    "tags": []
   },
   "outputs": [
    {
     "name": "stdout",
     "output_type": "stream",
     "text": [
      "Loading SIAB data from cache: data/siab_cached.csv.gz\n"
     ]
    },
    {
     "name": "stdout",
     "output_type": "stream",
     "text": [
      "(643690, 164)\n"
     ]
    }
   ],
   "source": [
    "from pathlib import Path\n",
    "import pandas as pd\n",
    "\n",
    "# File paths\n",
    "raw_file = Path(\"data/raw/siab.csv\")\n",
    "cache_file = Path(\"data/siab_cached.csv.gz\")\n",
    "\n",
    "# Ensure cache directory exists\n",
    "cache_file.parent.mkdir(parents=True, exist_ok=True)\n",
    "\n",
    "# Load with simple caching\n",
    "if cache_file.exists():\n",
    "    print(f\"Loading SIAB data from cache: {cache_file}\")\n",
    "    siab = pd.read_csv(cache_file, compression='gzip')\n",
    "else:\n",
    "    print(f\"Cache not found. Reading raw SIAB data: {raw_file}\")\n",
    "    siab = pd.read_csv(raw_file)\n",
    "    siab.to_csv(cache_file, index=False, compression='gzip')\n",
    "    print(f\"Cached SIAB data to: {cache_file}\")\n",
    "\n",
    "print(siab.shape)"
   ]
  },
  {
   "cell_type": "code",
   "execution_count": 10,
   "id": "db0ca512-5f53-4dba-abdb-a2888bca41ba",
   "metadata": {
    "execution": {
     "iopub.execute_input": "2025-08-19T16:56:14.651410Z",
     "iopub.status.busy": "2025-08-19T16:56:14.650012Z",
     "iopub.status.idle": "2025-08-19T16:56:14.780372Z",
     "shell.execute_reply": "2025-08-19T16:56:14.779655Z"
    },
    "papermill": {
     "duration": 0.149505,
     "end_time": "2025-08-19T16:56:14.781775",
     "exception": false,
     "start_time": "2025-08-19T16:56:14.632270",
     "status": "completed"
    },
    "tags": []
   },
   "outputs": [
    {
     "data": {
      "text/html": [
       "<div>\n",
       "<style scoped>\n",
       "    .dataframe tbody tr th:only-of-type {\n",
       "        vertical-align: middle;\n",
       "    }\n",
       "\n",
       "    .dataframe tbody tr th {\n",
       "        vertical-align: top;\n",
       "    }\n",
       "\n",
       "    .dataframe thead th {\n",
       "        text-align: right;\n",
       "    }\n",
       "</style>\n",
       "<table border=\"1\" class=\"dataframe\">\n",
       "  <thead>\n",
       "    <tr style=\"text-align: right;\">\n",
       "      <th></th>\n",
       "      <th>persnr</th>\n",
       "      <th>year</th>\n",
       "      <th>nrEntry</th>\n",
       "      <th>ltue</th>\n",
       "      <th>employed_before</th>\n",
       "      <th>receipt_leh_before</th>\n",
       "      <th>receipt_lhg_before</th>\n",
       "      <th>se_before</th>\n",
       "      <th>ASU_notue_seeking_before</th>\n",
       "      <th>ASU_other_before</th>\n",
       "      <th>...</th>\n",
       "      <th>minijob_tot_dur_byage</th>\n",
       "      <th>ft_tot_dur_byage</th>\n",
       "      <th>befrist_tot_dur_byage</th>\n",
       "      <th>leih_tot_dur_byage</th>\n",
       "      <th>LHG_tot_dur_byage</th>\n",
       "      <th>LEH_tot_dur_byage</th>\n",
       "      <th>almp_tot_dur_byage</th>\n",
       "      <th>almp_aw_tot_dur_byage</th>\n",
       "      <th>se_tot_dur_byage</th>\n",
       "      <th>seeking1_tot_dur_byage</th>\n",
       "    </tr>\n",
       "  </thead>\n",
       "  <tbody>\n",
       "    <tr>\n",
       "      <th>0</th>\n",
       "      <td>7</td>\n",
       "      <td>2015</td>\n",
       "      <td>1</td>\n",
       "      <td>0</td>\n",
       "      <td>1</td>\n",
       "      <td>0</td>\n",
       "      <td>0</td>\n",
       "      <td>0</td>\n",
       "      <td>1</td>\n",
       "      <td>0</td>\n",
       "      <td>...</td>\n",
       "      <td>0.000000</td>\n",
       "      <td>0.000000</td>\n",
       "      <td>15.043478</td>\n",
       "      <td>0.000000</td>\n",
       "      <td>0.000000</td>\n",
       "      <td>0.000000</td>\n",
       "      <td>0.000000</td>\n",
       "      <td>0.000000</td>\n",
       "      <td>0.000000</td>\n",
       "      <td>0.000000</td>\n",
       "    </tr>\n",
       "    <tr>\n",
       "      <th>1</th>\n",
       "      <td>18</td>\n",
       "      <td>2010</td>\n",
       "      <td>1</td>\n",
       "      <td>1</td>\n",
       "      <td>0</td>\n",
       "      <td>0</td>\n",
       "      <td>0</td>\n",
       "      <td>0</td>\n",
       "      <td>0</td>\n",
       "      <td>0</td>\n",
       "      <td>...</td>\n",
       "      <td>0.000000</td>\n",
       "      <td>0.000000</td>\n",
       "      <td>0.000000</td>\n",
       "      <td>0.000000</td>\n",
       "      <td>0.000000</td>\n",
       "      <td>0.000000</td>\n",
       "      <td>0.000000</td>\n",
       "      <td>0.000000</td>\n",
       "      <td>0.000000</td>\n",
       "      <td>0.000000</td>\n",
       "    </tr>\n",
       "    <tr>\n",
       "      <th>2</th>\n",
       "      <td>18</td>\n",
       "      <td>2011</td>\n",
       "      <td>2</td>\n",
       "      <td>0</td>\n",
       "      <td>1</td>\n",
       "      <td>0</td>\n",
       "      <td>1</td>\n",
       "      <td>0</td>\n",
       "      <td>1</td>\n",
       "      <td>0</td>\n",
       "      <td>...</td>\n",
       "      <td>2.714286</td>\n",
       "      <td>2.714286</td>\n",
       "      <td>0.000000</td>\n",
       "      <td>0.000000</td>\n",
       "      <td>10.775510</td>\n",
       "      <td>0.000000</td>\n",
       "      <td>8.367347</td>\n",
       "      <td>0.000000</td>\n",
       "      <td>0.000000</td>\n",
       "      <td>9.836735</td>\n",
       "    </tr>\n",
       "    <tr>\n",
       "      <th>3</th>\n",
       "      <td>18</td>\n",
       "      <td>2012</td>\n",
       "      <td>3</td>\n",
       "      <td>0</td>\n",
       "      <td>1</td>\n",
       "      <td>0</td>\n",
       "      <td>1</td>\n",
       "      <td>0</td>\n",
       "      <td>1</td>\n",
       "      <td>0</td>\n",
       "      <td>...</td>\n",
       "      <td>4.200000</td>\n",
       "      <td>4.200000</td>\n",
       "      <td>0.000000</td>\n",
       "      <td>0.000000</td>\n",
       "      <td>12.100000</td>\n",
       "      <td>0.000000</td>\n",
       "      <td>9.400000</td>\n",
       "      <td>0.000000</td>\n",
       "      <td>0.000000</td>\n",
       "      <td>9.960000</td>\n",
       "    </tr>\n",
       "    <tr>\n",
       "      <th>4</th>\n",
       "      <td>18</td>\n",
       "      <td>2012</td>\n",
       "      <td>4</td>\n",
       "      <td>0</td>\n",
       "      <td>1</td>\n",
       "      <td>0</td>\n",
       "      <td>1</td>\n",
       "      <td>0</td>\n",
       "      <td>1</td>\n",
       "      <td>0</td>\n",
       "      <td>...</td>\n",
       "      <td>5.460000</td>\n",
       "      <td>5.460000</td>\n",
       "      <td>0.000000</td>\n",
       "      <td>0.000000</td>\n",
       "      <td>13.360000</td>\n",
       "      <td>0.000000</td>\n",
       "      <td>10.320000</td>\n",
       "      <td>0.000000</td>\n",
       "      <td>0.000000</td>\n",
       "      <td>10.280000</td>\n",
       "    </tr>\n",
       "    <tr>\n",
       "      <th>...</th>\n",
       "      <td>...</td>\n",
       "      <td>...</td>\n",
       "      <td>...</td>\n",
       "      <td>...</td>\n",
       "      <td>...</td>\n",
       "      <td>...</td>\n",
       "      <td>...</td>\n",
       "      <td>...</td>\n",
       "      <td>...</td>\n",
       "      <td>...</td>\n",
       "      <td>...</td>\n",
       "      <td>...</td>\n",
       "      <td>...</td>\n",
       "      <td>...</td>\n",
       "      <td>...</td>\n",
       "      <td>...</td>\n",
       "      <td>...</td>\n",
       "      <td>...</td>\n",
       "      <td>...</td>\n",
       "      <td>...</td>\n",
       "      <td>...</td>\n",
       "    </tr>\n",
       "    <tr>\n",
       "      <th>643685</th>\n",
       "      <td>1827860</td>\n",
       "      <td>2013</td>\n",
       "      <td>1</td>\n",
       "      <td>0</td>\n",
       "      <td>0</td>\n",
       "      <td>0</td>\n",
       "      <td>1</td>\n",
       "      <td>0</td>\n",
       "      <td>0</td>\n",
       "      <td>1</td>\n",
       "      <td>...</td>\n",
       "      <td>0.000000</td>\n",
       "      <td>0.000000</td>\n",
       "      <td>0.000000</td>\n",
       "      <td>0.000000</td>\n",
       "      <td>0.612903</td>\n",
       "      <td>0.000000</td>\n",
       "      <td>0.000000</td>\n",
       "      <td>0.000000</td>\n",
       "      <td>0.000000</td>\n",
       "      <td>0.000000</td>\n",
       "    </tr>\n",
       "    <tr>\n",
       "      <th>643686</th>\n",
       "      <td>1827860</td>\n",
       "      <td>2015</td>\n",
       "      <td>2</td>\n",
       "      <td>1</td>\n",
       "      <td>0</td>\n",
       "      <td>0</td>\n",
       "      <td>1</td>\n",
       "      <td>0</td>\n",
       "      <td>1</td>\n",
       "      <td>0</td>\n",
       "      <td>...</td>\n",
       "      <td>0.000000</td>\n",
       "      <td>0.000000</td>\n",
       "      <td>0.212121</td>\n",
       "      <td>0.212121</td>\n",
       "      <td>17.363636</td>\n",
       "      <td>0.000000</td>\n",
       "      <td>8.909091</td>\n",
       "      <td>0.000000</td>\n",
       "      <td>0.000000</td>\n",
       "      <td>7.121212</td>\n",
       "    </tr>\n",
       "    <tr>\n",
       "      <th>643687</th>\n",
       "      <td>1827860</td>\n",
       "      <td>2016</td>\n",
       "      <td>3</td>\n",
       "      <td>1</td>\n",
       "      <td>0</td>\n",
       "      <td>0</td>\n",
       "      <td>1</td>\n",
       "      <td>1</td>\n",
       "      <td>0</td>\n",
       "      <td>1</td>\n",
       "      <td>...</td>\n",
       "      <td>0.000000</td>\n",
       "      <td>0.000000</td>\n",
       "      <td>0.294118</td>\n",
       "      <td>0.205882</td>\n",
       "      <td>34.705882</td>\n",
       "      <td>0.000000</td>\n",
       "      <td>10.352941</td>\n",
       "      <td>1.705882</td>\n",
       "      <td>1.705882</td>\n",
       "      <td>23.911765</td>\n",
       "    </tr>\n",
       "    <tr>\n",
       "      <th>643688</th>\n",
       "      <td>1827869</td>\n",
       "      <td>2013</td>\n",
       "      <td>1</td>\n",
       "      <td>1</td>\n",
       "      <td>1</td>\n",
       "      <td>0</td>\n",
       "      <td>0</td>\n",
       "      <td>0</td>\n",
       "      <td>1</td>\n",
       "      <td>0</td>\n",
       "      <td>...</td>\n",
       "      <td>0.000000</td>\n",
       "      <td>0.000000</td>\n",
       "      <td>0.000000</td>\n",
       "      <td>0.000000</td>\n",
       "      <td>0.000000</td>\n",
       "      <td>0.525424</td>\n",
       "      <td>0.000000</td>\n",
       "      <td>0.000000</td>\n",
       "      <td>0.000000</td>\n",
       "      <td>0.000000</td>\n",
       "    </tr>\n",
       "    <tr>\n",
       "      <th>643689</th>\n",
       "      <td>1827869</td>\n",
       "      <td>2014</td>\n",
       "      <td>2</td>\n",
       "      <td>0</td>\n",
       "      <td>0</td>\n",
       "      <td>1</td>\n",
       "      <td>0</td>\n",
       "      <td>0</td>\n",
       "      <td>1</td>\n",
       "      <td>0</td>\n",
       "      <td>...</td>\n",
       "      <td>0.000000</td>\n",
       "      <td>0.666667</td>\n",
       "      <td>0.666667</td>\n",
       "      <td>0.000000</td>\n",
       "      <td>0.000000</td>\n",
       "      <td>8.950000</td>\n",
       "      <td>1.033333</td>\n",
       "      <td>0.083333</td>\n",
       "      <td>0.083333</td>\n",
       "      <td>8.133333</td>\n",
       "    </tr>\n",
       "  </tbody>\n",
       "</table>\n",
       "<p>643690 rows × 164 columns</p>\n",
       "</div>"
      ],
      "text/plain": [
       "         persnr  year  nrEntry  ltue  employed_before  receipt_leh_before  \\\n",
       "0             7  2015        1     0                1                   0   \n",
       "1            18  2010        1     1                0                   0   \n",
       "2            18  2011        2     0                1                   0   \n",
       "3            18  2012        3     0                1                   0   \n",
       "4            18  2012        4     0                1                   0   \n",
       "...         ...   ...      ...   ...              ...                 ...   \n",
       "643685  1827860  2013        1     0                0                   0   \n",
       "643686  1827860  2015        2     1                0                   0   \n",
       "643687  1827860  2016        3     1                0                   0   \n",
       "643688  1827869  2013        1     1                1                   0   \n",
       "643689  1827869  2014        2     0                0                   1   \n",
       "\n",
       "        receipt_lhg_before  se_before  ASU_notue_seeking_before  \\\n",
       "0                        0          0                         1   \n",
       "1                        0          0                         0   \n",
       "2                        1          0                         1   \n",
       "3                        1          0                         1   \n",
       "4                        1          0                         1   \n",
       "...                    ...        ...                       ...   \n",
       "643685                   1          0                         0   \n",
       "643686                   1          0                         1   \n",
       "643687                   1          1                         0   \n",
       "643688                   0          0                         1   \n",
       "643689                   0          0                         1   \n",
       "\n",
       "        ASU_other_before  ...  minijob_tot_dur_byage  ft_tot_dur_byage  \\\n",
       "0                      0  ...               0.000000          0.000000   \n",
       "1                      0  ...               0.000000          0.000000   \n",
       "2                      0  ...               2.714286          2.714286   \n",
       "3                      0  ...               4.200000          4.200000   \n",
       "4                      0  ...               5.460000          5.460000   \n",
       "...                  ...  ...                    ...               ...   \n",
       "643685                 1  ...               0.000000          0.000000   \n",
       "643686                 0  ...               0.000000          0.000000   \n",
       "643687                 1  ...               0.000000          0.000000   \n",
       "643688                 0  ...               0.000000          0.000000   \n",
       "643689                 0  ...               0.000000          0.666667   \n",
       "\n",
       "        befrist_tot_dur_byage  leih_tot_dur_byage  LHG_tot_dur_byage  \\\n",
       "0                   15.043478            0.000000           0.000000   \n",
       "1                    0.000000            0.000000           0.000000   \n",
       "2                    0.000000            0.000000          10.775510   \n",
       "3                    0.000000            0.000000          12.100000   \n",
       "4                    0.000000            0.000000          13.360000   \n",
       "...                       ...                 ...                ...   \n",
       "643685               0.000000            0.000000           0.612903   \n",
       "643686               0.212121            0.212121          17.363636   \n",
       "643687               0.294118            0.205882          34.705882   \n",
       "643688               0.000000            0.000000           0.000000   \n",
       "643689               0.666667            0.000000           0.000000   \n",
       "\n",
       "        LEH_tot_dur_byage  almp_tot_dur_byage  almp_aw_tot_dur_byage  \\\n",
       "0                0.000000            0.000000               0.000000   \n",
       "1                0.000000            0.000000               0.000000   \n",
       "2                0.000000            8.367347               0.000000   \n",
       "3                0.000000            9.400000               0.000000   \n",
       "4                0.000000           10.320000               0.000000   \n",
       "...                   ...                 ...                    ...   \n",
       "643685           0.000000            0.000000               0.000000   \n",
       "643686           0.000000            8.909091               0.000000   \n",
       "643687           0.000000           10.352941               1.705882   \n",
       "643688           0.525424            0.000000               0.000000   \n",
       "643689           8.950000            1.033333               0.083333   \n",
       "\n",
       "        se_tot_dur_byage  seeking1_tot_dur_byage  \n",
       "0               0.000000                0.000000  \n",
       "1               0.000000                0.000000  \n",
       "2               0.000000                9.836735  \n",
       "3               0.000000                9.960000  \n",
       "4               0.000000               10.280000  \n",
       "...                  ...                     ...  \n",
       "643685          0.000000                0.000000  \n",
       "643686          0.000000                7.121212  \n",
       "643687          1.705882               23.911765  \n",
       "643688          0.000000                0.000000  \n",
       "643689          0.083333                8.133333  \n",
       "\n",
       "[643690 rows x 164 columns]"
      ]
     },
     "execution_count": 10,
     "metadata": {},
     "output_type": "execute_result"
    }
   ],
   "source": [
    "siab"
   ]
  },
  {
   "cell_type": "markdown",
   "id": "997051c5-15bd-4b69-9786-c3001a3ce484",
   "metadata": {
    "papermill": {
     "duration": 0.009659,
     "end_time": "2025-08-19T16:56:14.803041",
     "exception": false,
     "start_time": "2025-08-19T16:56:14.793382",
     "status": "completed"
    },
    "tags": []
   },
   "source": [
    "# Splitting Data and Setting Training Data Size"
   ]
  },
  {
   "cell_type": "code",
   "execution_count": 11,
   "id": "aea9c6ef-6f46-42c8-85eb-5a62025c1508",
   "metadata": {
    "execution": {
     "iopub.execute_input": "2025-08-19T16:56:14.825093Z",
     "iopub.status.busy": "2025-08-19T16:56:14.824089Z",
     "iopub.status.idle": "2025-08-19T16:56:15.168562Z",
     "shell.execute_reply": "2025-08-19T16:56:15.167494Z"
    },
    "papermill": {
     "duration": 0.35739,
     "end_time": "2025-08-19T16:56:15.170053",
     "exception": false,
     "start_time": "2025-08-19T16:56:14.812663",
     "status": "completed"
    },
    "tags": []
   },
   "outputs": [],
   "source": [
    "from fairness_multiverse.universe import sample_by_year_size\n",
    "\n",
    "siab_train = sample_by_year_size(siab,\n",
    "                               training_year=universe[\"training_year\"],\n",
    "                               training_size=universe[\"training_size\"])"
   ]
  },
  {
   "cell_type": "code",
   "execution_count": 12,
   "id": "8d3afb32-789d-442c-8d5d-9f5aa8dd2eed",
   "metadata": {
    "execution": {
     "iopub.execute_input": "2025-08-19T16:56:15.199928Z",
     "iopub.status.busy": "2025-08-19T16:56:15.199118Z",
     "iopub.status.idle": "2025-08-19T16:56:15.210017Z",
     "shell.execute_reply": "2025-08-19T16:56:15.208847Z"
    },
    "papermill": {
     "duration": 0.030237,
     "end_time": "2025-08-19T16:56:15.213289",
     "exception": false,
     "start_time": "2025-08-19T16:56:15.183052",
     "status": "completed"
    },
    "tags": []
   },
   "outputs": [
    {
     "data": {
      "text/plain": [
       "(25000, 164)"
      ]
     },
     "execution_count": 12,
     "metadata": {},
     "output_type": "execute_result"
    }
   ],
   "source": [
    "siab_train.shape"
   ]
  },
  {
   "cell_type": "code",
   "execution_count": 13,
   "id": "d582db68-1a4c-47fb-84fc-08518dc1975a",
   "metadata": {
    "execution": {
     "iopub.execute_input": "2025-08-19T16:56:15.243594Z",
     "iopub.status.busy": "2025-08-19T16:56:15.242524Z",
     "iopub.status.idle": "2025-08-19T16:56:15.260290Z",
     "shell.execute_reply": "2025-08-19T16:56:15.258622Z"
    },
    "papermill": {
     "duration": 0.032027,
     "end_time": "2025-08-19T16:56:15.262288",
     "exception": false,
     "start_time": "2025-08-19T16:56:15.230261",
     "status": "completed"
    },
    "tags": []
   },
   "outputs": [
    {
     "data": {
      "text/plain": [
       "year\n",
       "2014    25000\n",
       "dtype: int64"
      ]
     },
     "metadata": {},
     "output_type": "display_data"
    }
   ],
   "source": [
    "display(siab_train.groupby(\"year\").size())"
   ]
  },
  {
   "cell_type": "code",
   "execution_count": 14,
   "id": "a561edb4-d032-42cb-8256-22eac1111c64",
   "metadata": {
    "execution": {
     "iopub.execute_input": "2025-08-19T16:56:15.317568Z",
     "iopub.status.busy": "2025-08-19T16:56:15.313368Z",
     "iopub.status.idle": "2025-08-19T16:56:15.997017Z",
     "shell.execute_reply": "2025-08-19T16:56:15.996026Z"
    },
    "papermill": {
     "duration": 0.718293,
     "end_time": "2025-08-19T16:56:16.006297",
     "exception": false,
     "start_time": "2025-08-19T16:56:15.288004",
     "status": "completed"
    },
    "tags": []
   },
   "outputs": [],
   "source": [
    "#siab_train = siab_s[siab_s.year < 2015]\n",
    "siab_calib = siab[siab.year == 2015]\n",
    "siab_test = siab[siab.year == 2016]"
   ]
  },
  {
   "cell_type": "code",
   "execution_count": 15,
   "id": "bc10fe59",
   "metadata": {
    "execution": {
     "iopub.execute_input": "2025-08-19T16:56:16.037758Z",
     "iopub.status.busy": "2025-08-19T16:56:16.036348Z",
     "iopub.status.idle": "2025-08-19T16:56:16.043867Z",
     "shell.execute_reply": "2025-08-19T16:56:16.042527Z"
    },
    "papermill": {
     "duration": 0.022665,
     "end_time": "2025-08-19T16:56:16.045592",
     "exception": false,
     "start_time": "2025-08-19T16:56:16.022927",
     "status": "completed"
    },
    "tags": []
   },
   "outputs": [],
   "source": [
    "#siab_calib.shape"
   ]
  },
  {
   "cell_type": "code",
   "execution_count": 16,
   "id": "d6aeff2f",
   "metadata": {
    "execution": {
     "iopub.execute_input": "2025-08-19T16:56:16.069157Z",
     "iopub.status.busy": "2025-08-19T16:56:16.067708Z",
     "iopub.status.idle": "2025-08-19T16:56:16.076152Z",
     "shell.execute_reply": "2025-08-19T16:56:16.074393Z"
    },
    "papermill": {
     "duration": 0.021912,
     "end_time": "2025-08-19T16:56:16.078025",
     "exception": false,
     "start_time": "2025-08-19T16:56:16.056113",
     "status": "completed"
    },
    "tags": []
   },
   "outputs": [],
   "source": [
    "#siab_test.shape"
   ]
  },
  {
   "cell_type": "code",
   "execution_count": 17,
   "id": "472de16f-c3db-4916-846b-1f0de9cf1746",
   "metadata": {
    "execution": {
     "iopub.execute_input": "2025-08-19T16:56:16.109636Z",
     "iopub.status.busy": "2025-08-19T16:56:16.102524Z",
     "iopub.status.idle": "2025-08-19T16:56:16.183026Z",
     "shell.execute_reply": "2025-08-19T16:56:16.181822Z"
    },
    "papermill": {
     "duration": 0.095225,
     "end_time": "2025-08-19T16:56:16.184686",
     "exception": false,
     "start_time": "2025-08-19T16:56:16.089461",
     "status": "completed"
    },
    "tags": []
   },
   "outputs": [],
   "source": [
    "X_train = siab_train.iloc[:,4:164]\n",
    "y_train = siab_train.iloc[:, [3]]"
   ]
  },
  {
   "cell_type": "code",
   "execution_count": null,
   "id": "a843c1c8",
   "metadata": {
    "papermill": {
     "duration": 0.01231,
     "end_time": "2025-08-19T16:56:16.207866",
     "exception": false,
     "start_time": "2025-08-19T16:56:16.195556",
     "status": "completed"
    },
    "tags": []
   },
   "outputs": [],
   "source": []
  },
  {
   "cell_type": "code",
   "execution_count": 18,
   "id": "828c96af-f43a-4ed6-ba47-8ac73a47d56c",
   "metadata": {
    "execution": {
     "iopub.execute_input": "2025-08-19T16:56:16.230831Z",
     "iopub.status.busy": "2025-08-19T16:56:16.229278Z",
     "iopub.status.idle": "2025-08-19T16:56:16.288381Z",
     "shell.execute_reply": "2025-08-19T16:56:16.287426Z"
    },
    "papermill": {
     "duration": 0.073408,
     "end_time": "2025-08-19T16:56:16.291124",
     "exception": false,
     "start_time": "2025-08-19T16:56:16.217716",
     "status": "completed"
    },
    "tags": []
   },
   "outputs": [],
   "source": [
    "X_calib = siab_calib.iloc[:,4:164]\n",
    "y_calib = siab_calib.iloc[:, [3]]"
   ]
  },
  {
   "cell_type": "code",
   "execution_count": 19,
   "id": "c34be9c3-6bd6-476e-acd3-845840e303be",
   "metadata": {
    "execution": {
     "iopub.execute_input": "2025-08-19T16:56:16.335362Z",
     "iopub.status.busy": "2025-08-19T16:56:16.334188Z",
     "iopub.status.idle": "2025-08-19T16:56:16.390177Z",
     "shell.execute_reply": "2025-08-19T16:56:16.388383Z"
    },
    "papermill": {
     "duration": 0.078955,
     "end_time": "2025-08-19T16:56:16.393601",
     "exception": false,
     "start_time": "2025-08-19T16:56:16.314646",
     "status": "completed"
    },
    "tags": []
   },
   "outputs": [],
   "source": [
    "X_test = siab_test.iloc[:,4:164]\n",
    "y_true = siab_test.iloc[:, [3]]"
   ]
  },
  {
   "cell_type": "code",
   "execution_count": 20,
   "id": "e6c733c5",
   "metadata": {
    "execution": {
     "iopub.execute_input": "2025-08-19T16:56:16.483068Z",
     "iopub.status.busy": "2025-08-19T16:56:16.481608Z",
     "iopub.status.idle": "2025-08-19T16:56:16.673010Z",
     "shell.execute_reply": "2025-08-19T16:56:16.671332Z"
    },
    "papermill": {
     "duration": 0.255326,
     "end_time": "2025-08-19T16:56:16.674681",
     "exception": false,
     "start_time": "2025-08-19T16:56:16.419355",
     "status": "completed"
    },
    "tags": []
   },
   "outputs": [],
   "source": [
    "# Auxiliary data needed downstream in the pipeline\n",
    "\n",
    "org_train = X_train.copy()\n",
    "org_test = X_test.copy()\n",
    "org_calib = X_calib.copy()"
   ]
  },
  {
   "cell_type": "markdown",
   "id": "0a4a1b33",
   "metadata": {
    "papermill": {
     "duration": 0.01097,
     "end_time": "2025-08-19T16:56:16.696125",
     "exception": false,
     "start_time": "2025-08-19T16:56:16.685155",
     "status": "completed"
    },
    "tags": []
   },
   "source": [
    "# Preprocessing Data"
   ]
  },
  {
   "cell_type": "code",
   "execution_count": 21,
   "id": "ca879031",
   "metadata": {
    "execution": {
     "iopub.execute_input": "2025-08-19T16:56:16.719216Z",
     "iopub.status.busy": "2025-08-19T16:56:16.718768Z",
     "iopub.status.idle": "2025-08-19T16:56:16.725731Z",
     "shell.execute_reply": "2025-08-19T16:56:16.725083Z"
    },
    "papermill": {
     "duration": 0.020459,
     "end_time": "2025-08-19T16:56:16.726914",
     "exception": false,
     "start_time": "2025-08-19T16:56:16.706455",
     "status": "completed"
    },
    "tags": []
   },
   "outputs": [],
   "source": [
    "# EXCLUDE PROTECTED FEATURES\n",
    "# --------------------------\n",
    "\n",
    "excluded_features = universe[\"exclude_features\"].split(\"-\")\n",
    "excluded_features_dictionary = {\n",
    "    \"nationality\": [\"maxdeutsch1\", \"maxdeutsch.Missing.\"],\n",
    "    \"sex\": [\"frau1\"],\n",
    "    \"age\": [\"age\"],\n",
    "}"
   ]
  },
  {
   "cell_type": "code",
   "execution_count": 22,
   "id": "b745ac60",
   "metadata": {
    "execution": {
     "iopub.execute_input": "2025-08-19T16:56:16.752071Z",
     "iopub.status.busy": "2025-08-19T16:56:16.751207Z",
     "iopub.status.idle": "2025-08-19T16:56:16.758008Z",
     "shell.execute_reply": "2025-08-19T16:56:16.757257Z"
    },
    "papermill": {
     "duration": 0.020517,
     "end_time": "2025-08-19T16:56:16.759996",
     "exception": false,
     "start_time": "2025-08-19T16:56:16.739479",
     "status": "completed"
    },
    "tags": []
   },
   "outputs": [],
   "source": [
    "excluded_features_columns = [\n",
    "    excluded_features_dictionary[f] for f in excluded_features if len(f) > 0 and f != \"none\"\n",
    "]"
   ]
  },
  {
   "cell_type": "code",
   "execution_count": 23,
   "id": "f84f73a2",
   "metadata": {
    "execution": {
     "iopub.execute_input": "2025-08-19T16:56:16.791658Z",
     "iopub.status.busy": "2025-08-19T16:56:16.791232Z",
     "iopub.status.idle": "2025-08-19T16:56:16.801808Z",
     "shell.execute_reply": "2025-08-19T16:56:16.797354Z"
    },
    "papermill": {
     "duration": 0.025163,
     "end_time": "2025-08-19T16:56:16.804052",
     "exception": false,
     "start_time": "2025-08-19T16:56:16.778889",
     "status": "completed"
    },
    "tags": []
   },
   "outputs": [],
   "source": [
    "from fairness_multiverse.universe import flatten_once\n",
    "\n",
    "excluded_features_columns = flatten_once(excluded_features_columns)"
   ]
  },
  {
   "cell_type": "code",
   "execution_count": 24,
   "id": "884dea22",
   "metadata": {
    "execution": {
     "iopub.execute_input": "2025-08-19T16:56:16.837513Z",
     "iopub.status.busy": "2025-08-19T16:56:16.830659Z",
     "iopub.status.idle": "2025-08-19T16:56:17.069986Z",
     "shell.execute_reply": "2025-08-19T16:56:17.068924Z"
    },
    "papermill": {
     "duration": 0.258046,
     "end_time": "2025-08-19T16:56:17.073074",
     "exception": false,
     "start_time": "2025-08-19T16:56:16.815028",
     "status": "completed"
    },
    "tags": []
   },
   "outputs": [
    {
     "name": "stdout",
     "output_type": "stream",
     "text": [
      "Dropping features: ['maxdeutsch1', 'maxdeutsch.Missing.']\n"
     ]
    }
   ],
   "source": [
    "if len(excluded_features_columns) > 0:\n",
    "    print(f\"Dropping features: {excluded_features_columns}\")\n",
    "    X_train.drop(excluded_features_columns, axis=1, inplace=True)"
   ]
  },
  {
   "cell_type": "code",
   "execution_count": 25,
   "id": "95ab8b16",
   "metadata": {
    "execution": {
     "iopub.execute_input": "2025-08-19T16:56:17.098962Z",
     "iopub.status.busy": "2025-08-19T16:56:17.098504Z",
     "iopub.status.idle": "2025-08-19T16:56:17.160812Z",
     "shell.execute_reply": "2025-08-19T16:56:17.160107Z"
    },
    "papermill": {
     "duration": 0.077851,
     "end_time": "2025-08-19T16:56:17.163175",
     "exception": false,
     "start_time": "2025-08-19T16:56:17.085324",
     "status": "completed"
    },
    "tags": []
   },
   "outputs": [
    {
     "name": "stdout",
     "output_type": "stream",
     "text": [
      "Dropping features: ['maxdeutsch1', 'maxdeutsch.Missing.']\n"
     ]
    }
   ],
   "source": [
    "if len(excluded_features_columns) > 0:\n",
    "    print(f\"Dropping features: {excluded_features_columns}\")\n",
    "    X_test.drop(excluded_features_columns, axis=1, inplace=True)"
   ]
  },
  {
   "cell_type": "code",
   "execution_count": 26,
   "id": "1853aaf5-fb9f-46cb-a2b5-8ea4ae2237e4",
   "metadata": {
    "execution": {
     "iopub.execute_input": "2025-08-19T16:56:17.203616Z",
     "iopub.status.busy": "2025-08-19T16:56:17.202553Z",
     "iopub.status.idle": "2025-08-19T16:56:17.272018Z",
     "shell.execute_reply": "2025-08-19T16:56:17.270437Z"
    },
    "papermill": {
     "duration": 0.087155,
     "end_time": "2025-08-19T16:56:17.274805",
     "exception": false,
     "start_time": "2025-08-19T16:56:17.187650",
     "status": "completed"
    },
    "tags": []
   },
   "outputs": [
    {
     "name": "stdout",
     "output_type": "stream",
     "text": [
      "Dropping features: ['maxdeutsch1', 'maxdeutsch.Missing.']\n"
     ]
    }
   ],
   "source": [
    "if len(excluded_features_columns) > 0:\n",
    "    print(f\"Dropping features: {excluded_features_columns}\")\n",
    "    X_calib.drop(excluded_features_columns, axis=1, inplace=True)"
   ]
  },
  {
   "cell_type": "code",
   "execution_count": 27,
   "id": "76c4dc6d",
   "metadata": {
    "execution": {
     "iopub.execute_input": "2025-08-19T16:56:17.318134Z",
     "iopub.status.busy": "2025-08-19T16:56:17.315918Z",
     "iopub.status.idle": "2025-08-19T16:56:17.326602Z",
     "shell.execute_reply": "2025-08-19T16:56:17.324859Z"
    },
    "papermill": {
     "duration": 0.028419,
     "end_time": "2025-08-19T16:56:17.328433",
     "exception": false,
     "start_time": "2025-08-19T16:56:17.300014",
     "status": "completed"
    },
    "tags": []
   },
   "outputs": [],
   "source": [
    "# EXCLUDE CERTAIN SUBGROUPS\n",
    "# -------------------------\n",
    "\n",
    "mode = universe.get(\"exclude_subgroups\", \"keep-all\") # Defaults to \"keep-all\" if the key is missing."
   ]
  },
  {
   "cell_type": "code",
   "execution_count": 28,
   "id": "21994072",
   "metadata": {
    "execution": {
     "iopub.execute_input": "2025-08-19T16:56:17.363896Z",
     "iopub.status.busy": "2025-08-19T16:56:17.362959Z",
     "iopub.status.idle": "2025-08-19T16:56:17.373557Z",
     "shell.execute_reply": "2025-08-19T16:56:17.372180Z"
    },
    "papermill": {
     "duration": 0.025848,
     "end_time": "2025-08-19T16:56:17.375343",
     "exception": false,
     "start_time": "2025-08-19T16:56:17.349495",
     "status": "completed"
    },
    "tags": []
   },
   "outputs": [],
   "source": [
    "if mode == \"keep-all\":\n",
    "    keep_mask = pd.Series(True, index=org_train.index)\n",
    "\n",
    "elif mode == \"drop-non-german\":\n",
    "    keep_mask = (org_train[\"maxdeutsch1\"] == 1) & (org_train[\"maxdeutsch.Missing.\"] == 0)\n",
    "\n",
    "else:\n",
    "    raise ValueError(f\"Unsupported mode for exclude_subgroups: {mode}\")"
   ]
  },
  {
   "cell_type": "code",
   "execution_count": 29,
   "id": "71651440",
   "metadata": {
    "execution": {
     "iopub.execute_input": "2025-08-19T16:56:17.403991Z",
     "iopub.status.busy": "2025-08-19T16:56:17.402963Z",
     "iopub.status.idle": "2025-08-19T16:56:17.413183Z",
     "shell.execute_reply": "2025-08-19T16:56:17.411906Z"
    },
    "papermill": {
     "duration": 0.026351,
     "end_time": "2025-08-19T16:56:17.414645",
     "exception": false,
     "start_time": "2025-08-19T16:56:17.388294",
     "status": "completed"
    },
    "tags": []
   },
   "outputs": [],
   "source": [
    "n_drop = (~keep_mask).sum() # Calculates how many rows are set to be dropped\n",
    "if n_drop > 0:\n",
    "    pct = n_drop / len(keep_mask) * 100\n",
    "    print(f\"Dropping {n_drop} rows ({pct:.2f}%) where mode='{mode}'\")"
   ]
  },
  {
   "cell_type": "code",
   "execution_count": 30,
   "id": "5fb8eee5",
   "metadata": {
    "execution": {
     "iopub.execute_input": "2025-08-19T16:56:17.442797Z",
     "iopub.status.busy": "2025-08-19T16:56:17.441558Z",
     "iopub.status.idle": "2025-08-19T16:56:17.456899Z",
     "shell.execute_reply": "2025-08-19T16:56:17.456091Z"
    },
    "papermill": {
     "duration": 0.03114,
     "end_time": "2025-08-19T16:56:17.459324",
     "exception": false,
     "start_time": "2025-08-19T16:56:17.428184",
     "status": "completed"
    },
    "tags": []
   },
   "outputs": [],
   "source": [
    "X_train = X_train[keep_mask]"
   ]
  },
  {
   "cell_type": "code",
   "execution_count": 31,
   "id": "b202bb3a",
   "metadata": {
    "execution": {
     "iopub.execute_input": "2025-08-19T16:56:17.493890Z",
     "iopub.status.busy": "2025-08-19T16:56:17.493305Z",
     "iopub.status.idle": "2025-08-19T16:56:17.502102Z",
     "shell.execute_reply": "2025-08-19T16:56:17.500948Z"
    },
    "papermill": {
     "duration": 0.023859,
     "end_time": "2025-08-19T16:56:17.503652",
     "exception": false,
     "start_time": "2025-08-19T16:56:17.479793",
     "status": "completed"
    },
    "tags": []
   },
   "outputs": [],
   "source": [
    "y_train = y_train[keep_mask]"
   ]
  },
  {
   "cell_type": "markdown",
   "id": "493e2ac3",
   "metadata": {
    "papermill": {
     "duration": 0.011636,
     "end_time": "2025-08-19T16:56:17.526685",
     "exception": false,
     "start_time": "2025-08-19T16:56:17.515049",
     "status": "completed"
    },
    "tags": []
   },
   "source": [
    "# Model Training"
   ]
  },
  {
   "cell_type": "code",
   "execution_count": 32,
   "id": "679e1268",
   "metadata": {
    "execution": {
     "iopub.execute_input": "2025-08-19T16:56:17.551317Z",
     "iopub.status.busy": "2025-08-19T16:56:17.550617Z",
     "iopub.status.idle": "2025-08-19T16:56:18.942873Z",
     "shell.execute_reply": "2025-08-19T16:56:18.941688Z"
    },
    "papermill": {
     "duration": 1.40935,
     "end_time": "2025-08-19T16:56:18.947305",
     "exception": false,
     "start_time": "2025-08-19T16:56:17.537955",
     "status": "completed"
    },
    "tags": []
   },
   "outputs": [],
   "source": [
    "from sklearn.linear_model import LogisticRegression\n",
    "from sklearn.ensemble import GradientBoostingClassifier, RandomForestClassifier\n",
    "\n",
    "if (universe[\"model\"] == \"logreg\"):\n",
    "    model = LogisticRegression() #penalty=\"none\", solver=\"newton-cg\", max_iter=1)\n",
    "elif (universe[\"model\"] == \"penalized_logreg\"):\n",
    "    model = LogisticRegression(penalty=\"l2\", C=0.1) #, solver=\"newton-cg\", max_iter=1)\n",
    "elif (universe[\"model\"] == \"rf\"):\n",
    "    model = RandomForestClassifier() # n_estimators=100, n_jobs=-1\n",
    "elif (universe[\"model\"] == \"gbm\"):\n",
    "    model = GradientBoostingClassifier()\n",
    "elif (universe[\"model\"] == \"elasticnet\"):\n",
    "    model = LogisticRegression(penalty = 'elasticnet', solver = 'saga', l1_ratio = 0.5) # max_iter=5000\n",
    "else:\n",
    "    raise \"Unsupported universe.model\""
   ]
  },
  {
   "cell_type": "code",
   "execution_count": 33,
   "id": "0cc8f744",
   "metadata": {
    "execution": {
     "iopub.execute_input": "2025-08-19T16:56:18.976270Z",
     "iopub.status.busy": "2025-08-19T16:56:18.975726Z",
     "iopub.status.idle": "2025-08-19T16:56:18.987496Z",
     "shell.execute_reply": "2025-08-19T16:56:18.985842Z"
    },
    "papermill": {
     "duration": 0.027347,
     "end_time": "2025-08-19T16:56:18.990544",
     "exception": false,
     "start_time": "2025-08-19T16:56:18.963197",
     "status": "completed"
    },
    "tags": []
   },
   "outputs": [],
   "source": [
    "from sklearn.pipeline import Pipeline\n",
    "from sklearn.preprocessing import StandardScaler\n",
    "\n",
    "model = Pipeline([\n",
    "    #(\"continuous_processor\", continuous_processor),\n",
    "    #(\"categorical_preprocessor\", categorical_preprocessor),\n",
    "    (\"scale\", StandardScaler() if universe[\"scale\"] == \"scale\" else None), \n",
    "    (\"model\", model),\n",
    "])"
   ]
  },
  {
   "cell_type": "code",
   "execution_count": 34,
   "id": "9442c04d",
   "metadata": {
    "execution": {
     "iopub.execute_input": "2025-08-19T16:56:19.015068Z",
     "iopub.status.busy": "2025-08-19T16:56:19.014444Z",
     "iopub.status.idle": "2025-08-19T16:56:20.236654Z",
     "shell.execute_reply": "2025-08-19T16:56:20.233281Z"
    },
    "papermill": {
     "duration": 1.236148,
     "end_time": "2025-08-19T16:56:20.238468",
     "exception": false,
     "start_time": "2025-08-19T16:56:19.002320",
     "status": "completed"
    },
    "tags": []
   },
   "outputs": [
    {
     "name": "stderr",
     "output_type": "stream",
     "text": [
      "/dss/dsshome1/0C/ra93lal2/.local/share/virtualenvs/CMA_Fairness_v2-3j10GkSs/lib/python3.10/site-packages/sklearn/linear_model/_logistic.py:444: ConvergenceWarning: lbfgs failed to converge (status=1):\n",
      "STOP: TOTAL NO. of ITERATIONS REACHED LIMIT.\n",
      "\n",
      "Increase the number of iterations (max_iter) or scale the data as shown in:\n",
      "    https://scikit-learn.org/stable/modules/preprocessing.html\n",
      "Please also refer to the documentation for alternative solver options:\n",
      "    https://scikit-learn.org/stable/modules/linear_model.html#logistic-regression\n",
      "  n_iter_i = _check_optimize_result(\n"
     ]
    },
    {
     "data": {
      "text/html": [
       "<style>#sk-container-id-1 {color: black;background-color: white;}#sk-container-id-1 pre{padding: 0;}#sk-container-id-1 div.sk-toggleable {background-color: white;}#sk-container-id-1 label.sk-toggleable__label {cursor: pointer;display: block;width: 100%;margin-bottom: 0;padding: 0.3em;box-sizing: border-box;text-align: center;}#sk-container-id-1 label.sk-toggleable__label-arrow:before {content: \"▸\";float: left;margin-right: 0.25em;color: #696969;}#sk-container-id-1 label.sk-toggleable__label-arrow:hover:before {color: black;}#sk-container-id-1 div.sk-estimator:hover label.sk-toggleable__label-arrow:before {color: black;}#sk-container-id-1 div.sk-toggleable__content {max-height: 0;max-width: 0;overflow: hidden;text-align: left;background-color: #f0f8ff;}#sk-container-id-1 div.sk-toggleable__content pre {margin: 0.2em;color: black;border-radius: 0.25em;background-color: #f0f8ff;}#sk-container-id-1 input.sk-toggleable__control:checked~div.sk-toggleable__content {max-height: 200px;max-width: 100%;overflow: auto;}#sk-container-id-1 input.sk-toggleable__control:checked~label.sk-toggleable__label-arrow:before {content: \"▾\";}#sk-container-id-1 div.sk-estimator input.sk-toggleable__control:checked~label.sk-toggleable__label {background-color: #d4ebff;}#sk-container-id-1 div.sk-label input.sk-toggleable__control:checked~label.sk-toggleable__label {background-color: #d4ebff;}#sk-container-id-1 input.sk-hidden--visually {border: 0;clip: rect(1px 1px 1px 1px);clip: rect(1px, 1px, 1px, 1px);height: 1px;margin: -1px;overflow: hidden;padding: 0;position: absolute;width: 1px;}#sk-container-id-1 div.sk-estimator {font-family: monospace;background-color: #f0f8ff;border: 1px dotted black;border-radius: 0.25em;box-sizing: border-box;margin-bottom: 0.5em;}#sk-container-id-1 div.sk-estimator:hover {background-color: #d4ebff;}#sk-container-id-1 div.sk-parallel-item::after {content: \"\";width: 100%;border-bottom: 1px solid gray;flex-grow: 1;}#sk-container-id-1 div.sk-label:hover label.sk-toggleable__label {background-color: #d4ebff;}#sk-container-id-1 div.sk-serial::before {content: \"\";position: absolute;border-left: 1px solid gray;box-sizing: border-box;top: 0;bottom: 0;left: 50%;z-index: 0;}#sk-container-id-1 div.sk-serial {display: flex;flex-direction: column;align-items: center;background-color: white;padding-right: 0.2em;padding-left: 0.2em;position: relative;}#sk-container-id-1 div.sk-item {position: relative;z-index: 1;}#sk-container-id-1 div.sk-parallel {display: flex;align-items: stretch;justify-content: center;background-color: white;position: relative;}#sk-container-id-1 div.sk-item::before, #sk-container-id-1 div.sk-parallel-item::before {content: \"\";position: absolute;border-left: 1px solid gray;box-sizing: border-box;top: 0;bottom: 0;left: 50%;z-index: -1;}#sk-container-id-1 div.sk-parallel-item {display: flex;flex-direction: column;z-index: 1;position: relative;background-color: white;}#sk-container-id-1 div.sk-parallel-item:first-child::after {align-self: flex-end;width: 50%;}#sk-container-id-1 div.sk-parallel-item:last-child::after {align-self: flex-start;width: 50%;}#sk-container-id-1 div.sk-parallel-item:only-child::after {width: 0;}#sk-container-id-1 div.sk-dashed-wrapped {border: 1px dashed gray;margin: 0 0.4em 0.5em 0.4em;box-sizing: border-box;padding-bottom: 0.4em;background-color: white;}#sk-container-id-1 div.sk-label label {font-family: monospace;font-weight: bold;display: inline-block;line-height: 1.2em;}#sk-container-id-1 div.sk-label-container {text-align: center;}#sk-container-id-1 div.sk-container {/* jupyter's `normalize.less` sets `[hidden] { display: none; }` but bootstrap.min.css set `[hidden] { display: none !important; }` so we also need the `!important` here to be able to override the default hidden behavior on the sphinx rendered scikit-learn.org. See: https://github.com/scikit-learn/scikit-learn/issues/21755 */display: inline-block !important;position: relative;}#sk-container-id-1 div.sk-text-repr-fallback {display: none;}</style><div id=\"sk-container-id-1\" class=\"sk-top-container\"><div class=\"sk-text-repr-fallback\"><pre>Pipeline(steps=[(&#x27;scale&#x27;, StandardScaler()), (&#x27;model&#x27;, LogisticRegression())])</pre><b>In a Jupyter environment, please rerun this cell to show the HTML representation or trust the notebook. <br />On GitHub, the HTML representation is unable to render, please try loading this page with nbviewer.org.</b></div><div class=\"sk-container\" hidden><div class=\"sk-item sk-dashed-wrapped\"><div class=\"sk-label-container\"><div class=\"sk-label sk-toggleable\"><input class=\"sk-toggleable__control sk-hidden--visually\" id=\"sk-estimator-id-1\" type=\"checkbox\" ><label for=\"sk-estimator-id-1\" class=\"sk-toggleable__label sk-toggleable__label-arrow\">Pipeline</label><div class=\"sk-toggleable__content\"><pre>Pipeline(steps=[(&#x27;scale&#x27;, StandardScaler()), (&#x27;model&#x27;, LogisticRegression())])</pre></div></div></div><div class=\"sk-serial\"><div class=\"sk-item\"><div class=\"sk-estimator sk-toggleable\"><input class=\"sk-toggleable__control sk-hidden--visually\" id=\"sk-estimator-id-2\" type=\"checkbox\" ><label for=\"sk-estimator-id-2\" class=\"sk-toggleable__label sk-toggleable__label-arrow\">StandardScaler</label><div class=\"sk-toggleable__content\"><pre>StandardScaler()</pre></div></div></div><div class=\"sk-item\"><div class=\"sk-estimator sk-toggleable\"><input class=\"sk-toggleable__control sk-hidden--visually\" id=\"sk-estimator-id-3\" type=\"checkbox\" ><label for=\"sk-estimator-id-3\" class=\"sk-toggleable__label sk-toggleable__label-arrow\">LogisticRegression</label><div class=\"sk-toggleable__content\"><pre>LogisticRegression()</pre></div></div></div></div></div></div></div>"
      ],
      "text/plain": [
       "Pipeline(steps=[('scale', StandardScaler()), ('model', LogisticRegression())])"
      ]
     },
     "execution_count": 34,
     "metadata": {},
     "output_type": "execute_result"
    }
   ],
   "source": [
    "model.fit(X_train, y_train.values.ravel())"
   ]
  },
  {
   "cell_type": "code",
   "execution_count": 35,
   "id": "a7cf2e16",
   "metadata": {
    "execution": {
     "iopub.execute_input": "2025-08-19T16:56:20.281192Z",
     "iopub.status.busy": "2025-08-19T16:56:20.279703Z",
     "iopub.status.idle": "2025-08-19T16:56:20.499145Z",
     "shell.execute_reply": "2025-08-19T16:56:20.498375Z"
    },
    "papermill": {
     "duration": 0.235437,
     "end_time": "2025-08-19T16:56:20.500760",
     "exception": false,
     "start_time": "2025-08-19T16:56:20.265323",
     "status": "completed"
    },
    "tags": []
   },
   "outputs": [
    {
     "data": {
      "text/plain": [
       "0.8652547096198863"
      ]
     },
     "execution_count": 35,
     "metadata": {},
     "output_type": "execute_result"
    }
   ],
   "source": [
    "from fairness_multiverse.universe import predict_w_threshold\n",
    "\n",
    "probs_test = model.predict_proba(X_test)\n",
    "\n",
    "'''\n",
    "Below code returns a boolean array (or binary 0/1 array depending on how it’s used) where each element \n",
    "is True if the probability of class 1 is greater than or equal to the threshold, and False otherwise.\n",
    "'''\n",
    "y_pred_default = predict_w_threshold(probs_test, 0.5)\n",
    "\n",
    "from sklearn.metrics import accuracy_score\n",
    "\n",
    "# Naive prediction\n",
    "accuracy_score(y_true = y_true, y_pred = y_pred_default)"
   ]
  },
  {
   "cell_type": "code",
   "execution_count": 36,
   "id": "081964c3",
   "metadata": {
    "execution": {
     "iopub.execute_input": "2025-08-19T16:56:20.530557Z",
     "iopub.status.busy": "2025-08-19T16:56:20.525226Z",
     "iopub.status.idle": "2025-08-19T16:56:20.731820Z",
     "shell.execute_reply": "2025-08-19T16:56:20.730894Z"
    },
    "papermill": {
     "duration": 0.220927,
     "end_time": "2025-08-19T16:56:20.733055",
     "exception": false,
     "start_time": "2025-08-19T16:56:20.512128",
     "status": "completed"
    },
    "tags": []
   },
   "outputs": [
    {
     "data": {
      "text/plain": [
       "array([0, 0, 0, ..., 0, 0, 0])"
      ]
     },
     "execution_count": 36,
     "metadata": {},
     "output_type": "execute_result"
    }
   ],
   "source": [
    "model.predict(X_test)"
   ]
  },
  {
   "cell_type": "markdown",
   "id": "56c9705b",
   "metadata": {
    "papermill": {
     "duration": 0.011493,
     "end_time": "2025-08-19T16:56:20.756294",
     "exception": false,
     "start_time": "2025-08-19T16:56:20.744801",
     "status": "completed"
    },
    "tags": []
   },
   "source": [
    "# Conformal Prediction"
   ]
  },
  {
   "cell_type": "code",
   "execution_count": 37,
   "id": "160ec6ff",
   "metadata": {
    "execution": {
     "iopub.execute_input": "2025-08-19T16:56:20.782295Z",
     "iopub.status.busy": "2025-08-19T16:56:20.781493Z",
     "iopub.status.idle": "2025-08-19T16:56:20.788300Z",
     "shell.execute_reply": "2025-08-19T16:56:20.787210Z"
    },
    "papermill": {
     "duration": 0.021937,
     "end_time": "2025-08-19T16:56:20.789523",
     "exception": false,
     "start_time": "2025-08-19T16:56:20.767586",
     "status": "completed"
    },
    "tags": []
   },
   "outputs": [],
   "source": [
    "# Miscoverage level for conformal prediction (10% allowed error rate => 90% target coverage)\n",
    "alpha = 0.1"
   ]
  },
  {
   "cell_type": "code",
   "execution_count": 38,
   "id": "eadf4555-3dd3-440e-8e35-f82a4ad9f855",
   "metadata": {
    "execution": {
     "iopub.execute_input": "2025-08-19T16:56:20.813072Z",
     "iopub.status.busy": "2025-08-19T16:56:20.812560Z",
     "iopub.status.idle": "2025-08-19T16:56:21.007140Z",
     "shell.execute_reply": "2025-08-19T16:56:21.005785Z"
    },
    "papermill": {
     "duration": 0.20958,
     "end_time": "2025-08-19T16:56:21.010192",
     "exception": false,
     "start_time": "2025-08-19T16:56:20.800612",
     "status": "completed"
    },
    "tags": []
   },
   "outputs": [],
   "source": [
    "probs_calib = model.predict_proba(X_calib)"
   ]
  },
  {
   "cell_type": "code",
   "execution_count": 39,
   "id": "2ed93547-6d5d-4983-9b36-1ecb300da49a",
   "metadata": {
    "execution": {
     "iopub.execute_input": "2025-08-19T16:56:21.048863Z",
     "iopub.status.busy": "2025-08-19T16:56:21.048413Z",
     "iopub.status.idle": "2025-08-19T16:56:21.053535Z",
     "shell.execute_reply": "2025-08-19T16:56:21.052797Z"
    },
    "papermill": {
     "duration": 0.020238,
     "end_time": "2025-08-19T16:56:21.054744",
     "exception": false,
     "start_time": "2025-08-19T16:56:21.034506",
     "status": "completed"
    },
    "tags": []
   },
   "outputs": [],
   "source": [
    "y_calib = y_calib.values.ravel().astype(int)"
   ]
  },
  {
   "cell_type": "code",
   "execution_count": 40,
   "id": "65d1320d-f588-4b38-9072-62af1ae97f7d",
   "metadata": {
    "execution": {
     "iopub.execute_input": "2025-08-19T16:56:21.079694Z",
     "iopub.status.busy": "2025-08-19T16:56:21.078798Z",
     "iopub.status.idle": "2025-08-19T16:56:21.089996Z",
     "shell.execute_reply": "2025-08-19T16:56:21.089067Z"
    },
    "papermill": {
     "duration": 0.029644,
     "end_time": "2025-08-19T16:56:21.095834",
     "exception": false,
     "start_time": "2025-08-19T16:56:21.066190",
     "status": "completed"
    },
    "tags": []
   },
   "outputs": [],
   "source": [
    "from fairness_multiverse.conformal import compute_nc_scores\n",
    "\n",
    "# Compute nonconformity scores on calibration set (1 - probability of true class)\n",
    "nc_scores = compute_nc_scores(probs_calib, y_calib)"
   ]
  },
  {
   "cell_type": "code",
   "execution_count": 41,
   "id": "df3b8ca3-53b7-43d5-9667-7c85da7aeda2",
   "metadata": {
    "execution": {
     "iopub.execute_input": "2025-08-19T16:56:21.132199Z",
     "iopub.status.busy": "2025-08-19T16:56:21.131451Z",
     "iopub.status.idle": "2025-08-19T16:56:21.139469Z",
     "shell.execute_reply": "2025-08-19T16:56:21.138592Z"
    },
    "papermill": {
     "duration": 0.022874,
     "end_time": "2025-08-19T16:56:21.141402",
     "exception": false,
     "start_time": "2025-08-19T16:56:21.118528",
     "status": "completed"
    },
    "tags": []
   },
   "outputs": [],
   "source": [
    "from fairness_multiverse.conformal import find_threshold\n",
    "\n",
    "# Find conformal threshold q_hat for the given alpha (split conformal method)\n",
    "q_hat = find_threshold(nc_scores, alpha)"
   ]
  },
  {
   "cell_type": "code",
   "execution_count": 42,
   "id": "4d29e6c1-0ef6-4aa4-b8fe-4fe79b0d033a",
   "metadata": {
    "execution": {
     "iopub.execute_input": "2025-08-19T16:56:21.170398Z",
     "iopub.status.busy": "2025-08-19T16:56:21.169788Z",
     "iopub.status.idle": "2025-08-19T16:56:21.175961Z",
     "shell.execute_reply": "2025-08-19T16:56:21.175165Z"
    },
    "papermill": {
     "duration": 0.021454,
     "end_time": "2025-08-19T16:56:21.177224",
     "exception": false,
     "start_time": "2025-08-19T16:56:21.155770",
     "status": "completed"
    },
    "tags": []
   },
   "outputs": [
    {
     "data": {
      "text/plain": [
       "0.6753431606092202"
      ]
     },
     "execution_count": 42,
     "metadata": {},
     "output_type": "execute_result"
    }
   ],
   "source": [
    "q_hat"
   ]
  },
  {
   "cell_type": "code",
   "execution_count": 43,
   "id": "92460794-cdac-4be2-ba28-f28c0515a6fb",
   "metadata": {
    "execution": {
     "iopub.execute_input": "2025-08-19T16:56:21.206812Z",
     "iopub.status.busy": "2025-08-19T16:56:21.205610Z",
     "iopub.status.idle": "2025-08-19T16:56:21.881540Z",
     "shell.execute_reply": "2025-08-19T16:56:21.880248Z"
    },
    "papermill": {
     "duration": 0.692835,
     "end_time": "2025-08-19T16:56:21.882985",
     "exception": false,
     "start_time": "2025-08-19T16:56:21.190150",
     "status": "completed"
    },
    "tags": []
   },
   "outputs": [],
   "source": [
    "from fairness_multiverse.conformal import predict_conformal_sets\n",
    "\n",
    "# Generate prediction sets for each test example\n",
    "pred_sets = predict_conformal_sets(model, X_test, q_hat)"
   ]
  },
  {
   "cell_type": "code",
   "execution_count": 44,
   "id": "d90c9a65-e6db-4f5d-80cd-e68fb7e46829",
   "metadata": {
    "execution": {
     "iopub.execute_input": "2025-08-19T16:56:21.910925Z",
     "iopub.status.busy": "2025-08-19T16:56:21.910566Z",
     "iopub.status.idle": "2025-08-19T16:56:21.916524Z",
     "shell.execute_reply": "2025-08-19T16:56:21.915816Z"
    },
    "papermill": {
     "duration": 0.020107,
     "end_time": "2025-08-19T16:56:21.917611",
     "exception": false,
     "start_time": "2025-08-19T16:56:21.897504",
     "status": "completed"
    },
    "tags": []
   },
   "outputs": [],
   "source": [
    "y_true = y_true.squeeze()"
   ]
  },
  {
   "cell_type": "code",
   "execution_count": 45,
   "id": "3a58a54a-1e68-46b9-927a-df01f18aebc8",
   "metadata": {
    "execution": {
     "iopub.execute_input": "2025-08-19T16:56:21.943108Z",
     "iopub.status.busy": "2025-08-19T16:56:21.942387Z",
     "iopub.status.idle": "2025-08-19T16:56:22.464056Z",
     "shell.execute_reply": "2025-08-19T16:56:22.462930Z"
    },
    "papermill": {
     "duration": 0.535585,
     "end_time": "2025-08-19T16:56:22.465668",
     "exception": false,
     "start_time": "2025-08-19T16:56:21.930083",
     "status": "completed"
    },
    "tags": []
   },
   "outputs": [],
   "source": [
    "from fairness_multiverse.conformal import evaluate_sets\n",
    "\n",
    "# Evaluate coverage and average set size on test data\n",
    "metrics = evaluate_sets(pred_sets, y_true)"
   ]
  },
  {
   "cell_type": "markdown",
   "id": "2b569c12-9aaa-4c88-98c9-bbcd0cf3ebb8",
   "metadata": {
    "papermill": {
     "duration": 0.011768,
     "end_time": "2025-08-19T16:56:22.489501",
     "exception": false,
     "start_time": "2025-08-19T16:56:22.477733",
     "status": "completed"
    },
    "tags": []
   },
   "source": [
    "# CP Metrics"
   ]
  },
  {
   "cell_type": "code",
   "execution_count": 46,
   "id": "5ce0a5cb-201f-45a0-ade5-94c7f0bd6095",
   "metadata": {
    "execution": {
     "iopub.execute_input": "2025-08-19T16:56:22.513332Z",
     "iopub.status.busy": "2025-08-19T16:56:22.513007Z",
     "iopub.status.idle": "2025-08-19T16:56:22.518899Z",
     "shell.execute_reply": "2025-08-19T16:56:22.518332Z"
    },
    "papermill": {
     "duration": 0.020374,
     "end_time": "2025-08-19T16:56:22.521075",
     "exception": false,
     "start_time": "2025-08-19T16:56:22.500701",
     "status": "completed"
    },
    "tags": []
   },
   "outputs": [
    {
     "data": {
      "text/plain": [
       "{'coverage': 0.9122840263069892, 'avg_size': 1.1249916397280124}"
      ]
     },
     "execution_count": 46,
     "metadata": {},
     "output_type": "execute_result"
    }
   ],
   "source": [
    "metrics"
   ]
  },
  {
   "cell_type": "code",
   "execution_count": 47,
   "id": "9b9a838d-31c9-430b-ae14-12baee460d17",
   "metadata": {
    "execution": {
     "iopub.execute_input": "2025-08-19T16:56:22.545167Z",
     "iopub.status.busy": "2025-08-19T16:56:22.544904Z",
     "iopub.status.idle": "2025-08-19T16:56:22.549275Z",
     "shell.execute_reply": "2025-08-19T16:56:22.548691Z"
    },
    "papermill": {
     "duration": 0.024682,
     "end_time": "2025-08-19T16:56:22.557496",
     "exception": false,
     "start_time": "2025-08-19T16:56:22.532814",
     "status": "completed"
    },
    "tags": []
   },
   "outputs": [],
   "source": [
    "example_universe = universe.copy()\n",
    "universe_training_year = example_universe.get(\"training_year\")\n",
    "universe_training_size = example_universe.get(\"training_size\")\n",
    "universe_scale = example_universe.get(\"scale\")\n",
    "universe_model = example_universe.get(\"model\")\n",
    "universe_exclude_features = example_universe.get(\"exclude_features\")\n",
    "universe_exclude_subgroups = example_universe.get(\"exclude_subgroups\")"
   ]
  },
  {
   "cell_type": "code",
   "execution_count": 48,
   "id": "f4b6a8ac-9dc0-4245-8a91-5b3b5999c4f9",
   "metadata": {
    "execution": {
     "iopub.execute_input": "2025-08-19T16:56:22.584316Z",
     "iopub.status.busy": "2025-08-19T16:56:22.584062Z",
     "iopub.status.idle": "2025-08-19T16:56:22.588332Z",
     "shell.execute_reply": "2025-08-19T16:56:22.587731Z"
    },
    "papermill": {
     "duration": 0.017784,
     "end_time": "2025-08-19T16:56:22.589316",
     "exception": false,
     "start_time": "2025-08-19T16:56:22.571532",
     "status": "completed"
    },
    "tags": []
   },
   "outputs": [],
   "source": [
    "cp_metrics_dict = {\n",
    "    \"universe_id\": [universe_id],\n",
    "    \"universe_training_year\": [universe_training_year],\n",
    "    \"universe_training_size\": [universe_training_size],\n",
    "    \"universe_scale\": [universe_scale],\n",
    "    \"universe_model\": [universe_model],\n",
    "    \"universe_exclude_features\": [universe_exclude_features],\n",
    "    \"universe_exclude_subgroups\": [universe_exclude_subgroups],\n",
    "    \"q_hat\": [q_hat],\n",
    "    \"coverage\": [metrics[\"coverage\"]],\n",
    "    \"avg_size\": [metrics[\"avg_size\"]],\n",
    "}"
   ]
  },
  {
   "cell_type": "code",
   "execution_count": 49,
   "id": "33007efc-14e9-4ec6-97ac-56a455c82265",
   "metadata": {
    "execution": {
     "iopub.execute_input": "2025-08-19T16:56:22.621070Z",
     "iopub.status.busy": "2025-08-19T16:56:22.620820Z",
     "iopub.status.idle": "2025-08-19T16:56:22.626000Z",
     "shell.execute_reply": "2025-08-19T16:56:22.625433Z"
    },
    "papermill": {
     "duration": 0.025659,
     "end_time": "2025-08-19T16:56:22.626946",
     "exception": false,
     "start_time": "2025-08-19T16:56:22.601287",
     "status": "completed"
    },
    "tags": []
   },
   "outputs": [],
   "source": [
    "cp_metrics_df = pd.DataFrame(cp_metrics_dict)"
   ]
  },
  {
   "cell_type": "code",
   "execution_count": 50,
   "id": "db12611b-57b2-4910-b9d0-355adfd6e7bf",
   "metadata": {
    "execution": {
     "iopub.execute_input": "2025-08-19T16:56:22.656881Z",
     "iopub.status.busy": "2025-08-19T16:56:22.656615Z",
     "iopub.status.idle": "2025-08-19T16:56:22.706994Z",
     "shell.execute_reply": "2025-08-19T16:56:22.706300Z"
    },
    "papermill": {
     "duration": 0.074124,
     "end_time": "2025-08-19T16:56:22.713487",
     "exception": false,
     "start_time": "2025-08-19T16:56:22.639363",
     "status": "completed"
    },
    "tags": []
   },
   "outputs": [
    {
     "data": {
      "text/html": [
       "<div>\n",
       "<style scoped>\n",
       "    .dataframe tbody tr th:only-of-type {\n",
       "        vertical-align: middle;\n",
       "    }\n",
       "\n",
       "    .dataframe tbody tr th {\n",
       "        vertical-align: top;\n",
       "    }\n",
       "\n",
       "    .dataframe thead th {\n",
       "        text-align: right;\n",
       "    }\n",
       "</style>\n",
       "<table border=\"1\" class=\"dataframe\">\n",
       "  <thead>\n",
       "    <tr style=\"text-align: right;\">\n",
       "      <th></th>\n",
       "      <th>universe_id</th>\n",
       "      <th>universe_training_year</th>\n",
       "      <th>universe_training_size</th>\n",
       "      <th>universe_scale</th>\n",
       "      <th>universe_model</th>\n",
       "      <th>universe_exclude_features</th>\n",
       "      <th>universe_exclude_subgroups</th>\n",
       "      <th>q_hat</th>\n",
       "      <th>coverage</th>\n",
       "      <th>avg_size</th>\n",
       "    </tr>\n",
       "  </thead>\n",
       "  <tbody>\n",
       "    <tr>\n",
       "      <th>0</th>\n",
       "      <td>0ef73a3cbefc899969f0f07fcc5da870</td>\n",
       "      <td>2014</td>\n",
       "      <td>25k</td>\n",
       "      <td>scale</td>\n",
       "      <td>logreg</td>\n",
       "      <td>nationality</td>\n",
       "      <td>keep-all</td>\n",
       "      <td>0.675343</td>\n",
       "      <td>0.912284</td>\n",
       "      <td>1.124992</td>\n",
       "    </tr>\n",
       "  </tbody>\n",
       "</table>\n",
       "</div>"
      ],
      "text/plain": [
       "                        universe_id universe_training_year  \\\n",
       "0  0ef73a3cbefc899969f0f07fcc5da870                   2014   \n",
       "\n",
       "  universe_training_size universe_scale universe_model  \\\n",
       "0                    25k          scale         logreg   \n",
       "\n",
       "  universe_exclude_features universe_exclude_subgroups     q_hat  coverage  \\\n",
       "0               nationality                   keep-all  0.675343  0.912284   \n",
       "\n",
       "   avg_size  \n",
       "0  1.124992  "
      ]
     },
     "execution_count": 50,
     "metadata": {},
     "output_type": "execute_result"
    }
   ],
   "source": [
    "cp_metrics_df"
   ]
  },
  {
   "cell_type": "markdown",
   "id": "c825ecb4-0d3d-41d6-b7c6-eccb21272259",
   "metadata": {
    "papermill": {
     "duration": 0.012151,
     "end_time": "2025-08-19T16:56:22.738507",
     "exception": false,
     "start_time": "2025-08-19T16:56:22.726356",
     "status": "completed"
    },
    "tags": []
   },
   "source": [
    "Conditional coverage & looking at subgroups"
   ]
  },
  {
   "cell_type": "code",
   "execution_count": 51,
   "id": "027ae886-68dd-4141-96c7-805a5450e1ef",
   "metadata": {
    "execution": {
     "iopub.execute_input": "2025-08-19T16:56:22.764513Z",
     "iopub.status.busy": "2025-08-19T16:56:22.764225Z",
     "iopub.status.idle": "2025-08-19T16:56:23.069992Z",
     "shell.execute_reply": "2025-08-19T16:56:23.068999Z"
    },
    "papermill": {
     "duration": 0.321224,
     "end_time": "2025-08-19T16:56:23.073028",
     "exception": false,
     "start_time": "2025-08-19T16:56:22.751804",
     "status": "completed"
    },
    "tags": []
   },
   "outputs": [],
   "source": [
    "from fairness_multiverse.conformal import build_cp_groups\n",
    "\n",
    "cp_groups_df = build_cp_groups(pred_sets, y_true, X_test.index, org_test)"
   ]
  },
  {
   "cell_type": "code",
   "execution_count": 52,
   "id": "6cbdab96-b2b2-45af-ad54-d0516db2e28d",
   "metadata": {
    "execution": {
     "iopub.execute_input": "2025-08-19T16:56:23.115943Z",
     "iopub.status.busy": "2025-08-19T16:56:23.114737Z",
     "iopub.status.idle": "2025-08-19T16:56:24.016654Z",
     "shell.execute_reply": "2025-08-19T16:56:24.015418Z"
    },
    "papermill": {
     "duration": 0.919952,
     "end_time": "2025-08-19T16:56:24.019588",
     "exception": false,
     "start_time": "2025-08-19T16:56:23.099636",
     "status": "completed"
    },
    "tags": []
   },
   "outputs": [],
   "source": [
    "# Define covered = 1 if true_label is in the predicted set\n",
    "cp_groups_df['covered'] = cp_groups_df.apply(\n",
    "    lambda r: int(r['true_label'] in r['pred_set']),\n",
    "    axis=1\n",
    ")"
   ]
  },
  {
   "cell_type": "code",
   "execution_count": 53,
   "id": "90032e27-66df-4540-9169-4e89cfbaa758",
   "metadata": {
    "execution": {
     "iopub.execute_input": "2025-08-19T16:56:24.056004Z",
     "iopub.status.busy": "2025-08-19T16:56:24.055703Z",
     "iopub.status.idle": "2025-08-19T16:56:24.069567Z",
     "shell.execute_reply": "2025-08-19T16:56:24.068719Z"
    },
    "papermill": {
     "duration": 0.030944,
     "end_time": "2025-08-19T16:56:24.072841",
     "exception": false,
     "start_time": "2025-08-19T16:56:24.041897",
     "status": "completed"
    },
    "tags": []
   },
   "outputs": [],
   "source": [
    "subgroups = ['frau1','nongerman','nongerman_male','nongerman_female']\n",
    "\n",
    "# Conditional coverage for subgroup==1\n",
    "cond_coverage = {\n",
    "    g: cp_groups_df.loc[cp_groups_df[g]==1, 'covered'].mean()\n",
    "    for g in subgroups\n",
    "}"
   ]
  },
  {
   "cell_type": "code",
   "execution_count": 54,
   "id": "1e348fb1-b9c3-45bc-ba23-f016827a7e0d",
   "metadata": {
    "execution": {
     "iopub.execute_input": "2025-08-19T16:56:24.118481Z",
     "iopub.status.busy": "2025-08-19T16:56:24.117581Z",
     "iopub.status.idle": "2025-08-19T16:56:24.126984Z",
     "shell.execute_reply": "2025-08-19T16:56:24.126239Z"
    },
    "papermill": {
     "duration": 0.031818,
     "end_time": "2025-08-19T16:56:24.128161",
     "exception": false,
     "start_time": "2025-08-19T16:56:24.096343",
     "status": "completed"
    },
    "tags": []
   },
   "outputs": [
    {
     "data": {
      "text/plain": [
       "{'frau1': 0.9109044345599138,\n",
       " 'nongerman': 0.9121428170437321,\n",
       " 'nongerman_male': 0.9277672701071782,\n",
       " 'nongerman_female': 0.8862891207153503}"
      ]
     },
     "execution_count": 54,
     "metadata": {},
     "output_type": "execute_result"
    }
   ],
   "source": [
    "cond_coverage"
   ]
  },
  {
   "cell_type": "code",
   "execution_count": 55,
   "id": "f5093324-c3dd-4d63-bc4c-8d945e5c8bbb",
   "metadata": {
    "execution": {
     "iopub.execute_input": "2025-08-19T16:56:24.157431Z",
     "iopub.status.busy": "2025-08-19T16:56:24.157077Z",
     "iopub.status.idle": "2025-08-19T16:56:24.164028Z",
     "shell.execute_reply": "2025-08-19T16:56:24.163242Z"
    },
    "papermill": {
     "duration": 0.026769,
     "end_time": "2025-08-19T16:56:24.167179",
     "exception": false,
     "start_time": "2025-08-19T16:56:24.140410",
     "status": "completed"
    },
    "tags": []
   },
   "outputs": [],
   "source": [
    "for subgroup, cov in cond_coverage.items():\n",
    "    cp_metrics_df[f\"cov_{subgroup}\"] = cov"
   ]
  },
  {
   "cell_type": "code",
   "execution_count": 56,
   "id": "6e872e10-dbe5-49e8-b554-5030c98ff75d",
   "metadata": {
    "execution": {
     "iopub.execute_input": "2025-08-19T16:56:24.198397Z",
     "iopub.status.busy": "2025-08-19T16:56:24.197608Z",
     "iopub.status.idle": "2025-08-19T16:56:24.239736Z",
     "shell.execute_reply": "2025-08-19T16:56:24.238305Z"
    },
    "papermill": {
     "duration": 0.061841,
     "end_time": "2025-08-19T16:56:24.244128",
     "exception": false,
     "start_time": "2025-08-19T16:56:24.182287",
     "status": "completed"
    },
    "tags": []
   },
   "outputs": [
    {
     "data": {
      "text/html": [
       "<div>\n",
       "<style scoped>\n",
       "    .dataframe tbody tr th:only-of-type {\n",
       "        vertical-align: middle;\n",
       "    }\n",
       "\n",
       "    .dataframe tbody tr th {\n",
       "        vertical-align: top;\n",
       "    }\n",
       "\n",
       "    .dataframe thead th {\n",
       "        text-align: right;\n",
       "    }\n",
       "</style>\n",
       "<table border=\"1\" class=\"dataframe\">\n",
       "  <thead>\n",
       "    <tr style=\"text-align: right;\">\n",
       "      <th></th>\n",
       "      <th>universe_id</th>\n",
       "      <th>universe_training_year</th>\n",
       "      <th>universe_training_size</th>\n",
       "      <th>universe_scale</th>\n",
       "      <th>universe_model</th>\n",
       "      <th>universe_exclude_features</th>\n",
       "      <th>universe_exclude_subgroups</th>\n",
       "      <th>q_hat</th>\n",
       "      <th>coverage</th>\n",
       "      <th>avg_size</th>\n",
       "      <th>cov_frau1</th>\n",
       "      <th>cov_nongerman</th>\n",
       "      <th>cov_nongerman_male</th>\n",
       "      <th>cov_nongerman_female</th>\n",
       "    </tr>\n",
       "  </thead>\n",
       "  <tbody>\n",
       "    <tr>\n",
       "      <th>0</th>\n",
       "      <td>0ef73a3cbefc899969f0f07fcc5da870</td>\n",
       "      <td>2014</td>\n",
       "      <td>25k</td>\n",
       "      <td>scale</td>\n",
       "      <td>logreg</td>\n",
       "      <td>nationality</td>\n",
       "      <td>keep-all</td>\n",
       "      <td>0.675343</td>\n",
       "      <td>0.912284</td>\n",
       "      <td>1.124992</td>\n",
       "      <td>0.910904</td>\n",
       "      <td>0.912143</td>\n",
       "      <td>0.927767</td>\n",
       "      <td>0.886289</td>\n",
       "    </tr>\n",
       "  </tbody>\n",
       "</table>\n",
       "</div>"
      ],
      "text/plain": [
       "                        universe_id universe_training_year  \\\n",
       "0  0ef73a3cbefc899969f0f07fcc5da870                   2014   \n",
       "\n",
       "  universe_training_size universe_scale universe_model  \\\n",
       "0                    25k          scale         logreg   \n",
       "\n",
       "  universe_exclude_features universe_exclude_subgroups     q_hat  coverage  \\\n",
       "0               nationality                   keep-all  0.675343  0.912284   \n",
       "\n",
       "   avg_size  cov_frau1  cov_nongerman  cov_nongerman_male  \\\n",
       "0  1.124992   0.910904       0.912143            0.927767   \n",
       "\n",
       "   cov_nongerman_female  \n",
       "0              0.886289  "
      ]
     },
     "execution_count": 56,
     "metadata": {},
     "output_type": "execute_result"
    }
   ],
   "source": [
    "cp_metrics_df"
   ]
  },
  {
   "cell_type": "markdown",
   "id": "33774451",
   "metadata": {
    "papermill": {
     "duration": 0.012752,
     "end_time": "2025-08-19T16:56:24.279293",
     "exception": false,
     "start_time": "2025-08-19T16:56:24.266541",
     "status": "completed"
    },
    "tags": []
   },
   "source": [
    "# (Fairness) Metrics"
   ]
  },
  {
   "cell_type": "code",
   "execution_count": 57,
   "id": "debc5d62",
   "metadata": {
    "execution": {
     "iopub.execute_input": "2025-08-19T16:56:24.308404Z",
     "iopub.status.busy": "2025-08-19T16:56:24.304936Z",
     "iopub.status.idle": "2025-08-19T16:56:24.326788Z",
     "shell.execute_reply": "2025-08-19T16:56:24.325919Z"
    },
    "papermill": {
     "duration": 0.036597,
     "end_time": "2025-08-19T16:56:24.328259",
     "exception": false,
     "start_time": "2025-08-19T16:56:24.291662",
     "status": "completed"
    },
    "tags": []
   },
   "outputs": [],
   "source": [
    "colname_to_bin = \"maxdeutsch1\"\n",
    "majority_value = org_train[colname_to_bin].mode()[0]\n",
    "\n",
    "org_test[\"majmin\"] = np.where(org_test[colname_to_bin] == majority_value, \"majority\", \"minority\")"
   ]
  },
  {
   "cell_type": "code",
   "execution_count": 58,
   "id": "06a50de5",
   "metadata": {
    "execution": {
     "iopub.execute_input": "2025-08-19T16:56:24.354475Z",
     "iopub.status.busy": "2025-08-19T16:56:24.354206Z",
     "iopub.status.idle": "2025-08-19T16:56:26.127820Z",
     "shell.execute_reply": "2025-08-19T16:56:26.126448Z"
    },
    "papermill": {
     "duration": 1.788346,
     "end_time": "2025-08-19T16:56:26.129493",
     "exception": false,
     "start_time": "2025-08-19T16:56:24.341147",
     "status": "completed"
    },
    "tags": []
   },
   "outputs": [],
   "source": [
    "example_universe = universe.copy()\n",
    "example_universe[\"cutoff\"] = example_universe[\"cutoff\"][0]\n",
    "example_universe[\"eval_fairness_grouping\"] = example_universe[\"eval_fairness_grouping\"][0]\n",
    "fairness_dict, metric_frame = universe_analysis.compute_metrics(\n",
    "    example_universe,\n",
    "    y_pred_prob=probs_test,\n",
    "    y_test=y_true,\n",
    "    org_test=org_test,\n",
    ")"
   ]
  },
  {
   "cell_type": "markdown",
   "id": "f95d4e02",
   "metadata": {
    "papermill": {
     "duration": 0.015389,
     "end_time": "2025-08-19T16:56:26.162730",
     "exception": false,
     "start_time": "2025-08-19T16:56:26.147341",
     "status": "completed"
    },
    "tags": []
   },
   "source": [
    "# Overall"
   ]
  },
  {
   "cell_type": "markdown",
   "id": "bdee4871",
   "metadata": {
    "papermill": {
     "duration": 0.012317,
     "end_time": "2025-08-19T16:56:26.187674",
     "exception": false,
     "start_time": "2025-08-19T16:56:26.175357",
     "status": "completed"
    },
    "tags": []
   },
   "source": [
    "Main fairness target: Equalized Odds. Seems to be a better fit than equal opportunity, since we're not only interested in Y = 1. Seems to be a better fit than demographic parity, since we also care about accuracy, not just equal distribution of preds.\n",
    "\n",
    "Pick column for computation of fairness metrics\n",
    "\n",
    "Performance\n",
    "Overall performance measures, most interesting in relation to the measures split by group below"
   ]
  },
  {
   "cell_type": "code",
   "execution_count": 59,
   "id": "c4e067c6",
   "metadata": {
    "execution": {
     "iopub.execute_input": "2025-08-19T16:56:26.215285Z",
     "iopub.status.busy": "2025-08-19T16:56:26.214808Z",
     "iopub.status.idle": "2025-08-19T16:56:26.223380Z",
     "shell.execute_reply": "2025-08-19T16:56:26.222583Z"
    },
    "papermill": {
     "duration": 0.02565,
     "end_time": "2025-08-19T16:56:26.225577",
     "exception": false,
     "start_time": "2025-08-19T16:56:26.199927",
     "status": "completed"
    },
    "tags": []
   },
   "outputs": [
    {
     "data": {
      "text/plain": [
       "accuracy                   0.225538\n",
       "balanced accuracy          0.551227\n",
       "f1                         0.246837\n",
       "precision                  0.141010\n",
       "false positive rate        0.886857\n",
       "false negative rate        0.010688\n",
       "selection rate             0.900000\n",
       "count                  89710.000000\n",
       "dtype: float64"
      ]
     },
     "execution_count": 59,
     "metadata": {},
     "output_type": "execute_result"
    }
   ],
   "source": [
    "metric_frame.overall"
   ]
  },
  {
   "cell_type": "markdown",
   "id": "e968fe9d",
   "metadata": {
    "papermill": {
     "duration": 0.013052,
     "end_time": "2025-08-19T16:56:26.252898",
     "exception": false,
     "start_time": "2025-08-19T16:56:26.239846",
     "status": "completed"
    },
    "tags": []
   },
   "source": [
    "By Group"
   ]
  },
  {
   "cell_type": "code",
   "execution_count": 60,
   "id": "ec325bce",
   "metadata": {
    "execution": {
     "iopub.execute_input": "2025-08-19T16:56:26.279179Z",
     "iopub.status.busy": "2025-08-19T16:56:26.278769Z",
     "iopub.status.idle": "2025-08-19T16:56:26.291591Z",
     "shell.execute_reply": "2025-08-19T16:56:26.290847Z"
    },
    "papermill": {
     "duration": 0.027665,
     "end_time": "2025-08-19T16:56:26.292904",
     "exception": false,
     "start_time": "2025-08-19T16:56:26.265239",
     "status": "completed"
    },
    "tags": []
   },
   "outputs": [
    {
     "data": {
      "text/html": [
       "<div>\n",
       "<style scoped>\n",
       "    .dataframe tbody tr th:only-of-type {\n",
       "        vertical-align: middle;\n",
       "    }\n",
       "\n",
       "    .dataframe tbody tr th {\n",
       "        vertical-align: top;\n",
       "    }\n",
       "\n",
       "    .dataframe thead th {\n",
       "        text-align: right;\n",
       "    }\n",
       "</style>\n",
       "<table border=\"1\" class=\"dataframe\">\n",
       "  <thead>\n",
       "    <tr style=\"text-align: right;\">\n",
       "      <th></th>\n",
       "      <th>accuracy</th>\n",
       "      <th>balanced accuracy</th>\n",
       "      <th>f1</th>\n",
       "      <th>precision</th>\n",
       "      <th>false positive rate</th>\n",
       "      <th>false negative rate</th>\n",
       "      <th>selection rate</th>\n",
       "      <th>count</th>\n",
       "    </tr>\n",
       "    <tr>\n",
       "      <th>majmin</th>\n",
       "      <th></th>\n",
       "      <th></th>\n",
       "      <th></th>\n",
       "      <th></th>\n",
       "      <th></th>\n",
       "      <th></th>\n",
       "      <th></th>\n",
       "      <th></th>\n",
       "    </tr>\n",
       "  </thead>\n",
       "  <tbody>\n",
       "    <tr>\n",
       "      <th>majority</th>\n",
       "      <td>0.247217</td>\n",
       "      <td>0.561199</td>\n",
       "      <td>0.257522</td>\n",
       "      <td>0.148057</td>\n",
       "      <td>0.865567</td>\n",
       "      <td>0.012035</td>\n",
       "      <td>0.881741</td>\n",
       "      <td>69170.0</td>\n",
       "    </tr>\n",
       "    <tr>\n",
       "      <th>minority</th>\n",
       "      <td>0.152532</td>\n",
       "      <td>0.518662</td>\n",
       "      <td>0.212958</td>\n",
       "      <td>0.119247</td>\n",
       "      <td>0.957187</td>\n",
       "      <td>0.005490</td>\n",
       "      <td>0.961490</td>\n",
       "      <td>20540.0</td>\n",
       "    </tr>\n",
       "  </tbody>\n",
       "</table>\n",
       "</div>"
      ],
      "text/plain": [
       "          accuracy  balanced accuracy        f1  precision  \\\n",
       "majmin                                                       \n",
       "majority  0.247217           0.561199  0.257522   0.148057   \n",
       "minority  0.152532           0.518662  0.212958   0.119247   \n",
       "\n",
       "          false positive rate  false negative rate  selection rate    count  \n",
       "majmin                                                                       \n",
       "majority             0.865567             0.012035        0.881741  69170.0  \n",
       "minority             0.957187             0.005490        0.961490  20540.0  "
      ]
     },
     "execution_count": 60,
     "metadata": {},
     "output_type": "execute_result"
    }
   ],
   "source": [
    "metric_frame.by_group"
   ]
  },
  {
   "cell_type": "code",
   "execution_count": 61,
   "id": "a9ddbe63",
   "metadata": {
    "execution": {
     "iopub.execute_input": "2025-08-19T16:56:26.333693Z",
     "iopub.status.busy": "2025-08-19T16:56:26.333245Z",
     "iopub.status.idle": "2025-08-19T16:56:30.703474Z",
     "shell.execute_reply": "2025-08-19T16:56:30.702394Z"
    },
    "papermill": {
     "duration": 4.392824,
     "end_time": "2025-08-19T16:56:30.705610",
     "exception": false,
     "start_time": "2025-08-19T16:56:26.312786",
     "status": "completed"
    },
    "tags": []
   },
   "outputs": [
    {
     "data": {
      "text/plain": [
       "array([[<Axes: title={'center': 'accuracy'}, xlabel='majmin'>,\n",
       "        <Axes: title={'center': 'balanced accuracy'}, xlabel='majmin'>,\n",
       "        <Axes: title={'center': 'f1'}, xlabel='majmin'>],\n",
       "       [<Axes: title={'center': 'precision'}, xlabel='majmin'>,\n",
       "        <Axes: title={'center': 'false positive rate'}, xlabel='majmin'>,\n",
       "        <Axes: title={'center': 'false negative rate'}, xlabel='majmin'>],\n",
       "       [<Axes: title={'center': 'selection rate'}, xlabel='majmin'>,\n",
       "        <Axes: title={'center': 'count'}, xlabel='majmin'>,\n",
       "        <Axes: xlabel='majmin'>]], dtype=object)"
      ]
     },
     "execution_count": 61,
     "metadata": {},
     "output_type": "execute_result"
    },
    {
     "data": {
      "image/png": "[encoded data removed]",
      "text/plain": [
       "<Figure size 1200x800 with 9 Axes>"
      ]
     },
     "metadata": {},
     "output_type": "display_data"
    }
   ],
   "source": [
    "# In a graphic\n",
    "metric_frame.by_group.plot.bar(\n",
    "    subplots=True,\n",
    "    layout=[3, 3],\n",
    "    legend=False,\n",
    "    figsize=[12, 8],\n",
    "    title=\"Show all metrics\",\n",
    ")"
   ]
  },
  {
   "cell_type": "markdown",
   "id": "f57a0bac",
   "metadata": {
    "papermill": {
     "duration": 0.021743,
     "end_time": "2025-08-19T16:56:30.753942",
     "exception": false,
     "start_time": "2025-08-19T16:56:30.732199",
     "status": "completed"
    },
    "tags": []
   },
   "source": [
    "# Final Output"
   ]
  },
  {
   "cell_type": "code",
   "execution_count": 62,
   "id": "96d280a3",
   "metadata": {
    "execution": {
     "iopub.execute_input": "2025-08-19T16:56:30.787133Z",
     "iopub.status.busy": "2025-08-19T16:56:30.786318Z",
     "iopub.status.idle": "2025-08-19T16:56:30.797269Z",
     "shell.execute_reply": "2025-08-19T16:56:30.796458Z"
    },
    "papermill": {
     "duration": 0.035563,
     "end_time": "2025-08-19T16:56:30.803960",
     "exception": false,
     "start_time": "2025-08-19T16:56:30.768397",
     "status": "completed"
    },
    "tags": []
   },
   "outputs": [
    {
     "data": {
      "text/plain": [
       "4"
      ]
     },
     "execution_count": 62,
     "metadata": {},
     "output_type": "execute_result"
    }
   ],
   "source": [
    "sub_universes = universe_analysis.generate_sub_universes()\n",
    "len(sub_universes)"
   ]
  },
  {
   "cell_type": "code",
   "execution_count": 63,
   "id": "92adf7ba",
   "metadata": {
    "execution": {
     "iopub.execute_input": "2025-08-19T16:56:30.836240Z",
     "iopub.status.busy": "2025-08-19T16:56:30.835787Z",
     "iopub.status.idle": "2025-08-19T16:56:30.935644Z",
     "shell.execute_reply": "2025-08-19T16:56:30.933731Z"
    },
    "papermill": {
     "duration": 0.119419,
     "end_time": "2025-08-19T16:56:30.938940",
     "exception": false,
     "start_time": "2025-08-19T16:56:30.819521",
     "status": "completed"
    },
    "tags": []
   },
   "outputs": [],
   "source": [
    "def filter_sub_universe_data(sub_universe, org_test):\n",
    "    # Keep all rows — no filtering\n",
    "    keep_rows_mask = np.ones(org_test.shape[0], dtype=bool)\n",
    "\n",
    "    print(f\"[INFO] Keeping all rows: {keep_rows_mask.sum()} rows retained.\")\n",
    "    return keep_rows_mask"
   ]
  },
  {
   "cell_type": "code",
   "execution_count": 64,
   "id": "4a759155",
   "metadata": {
    "execution": {
     "iopub.execute_input": "2025-08-19T16:56:30.990303Z",
     "iopub.status.busy": "2025-08-19T16:56:30.988813Z",
     "iopub.status.idle": "2025-08-19T16:56:38.001430Z",
     "shell.execute_reply": "2025-08-19T16:56:38.000284Z"
    },
    "papermill": {
     "duration": 7.034626,
     "end_time": "2025-08-19T16:56:38.003653",
     "exception": false,
     "start_time": "2025-08-19T16:56:30.969027",
     "status": "completed"
    },
    "tags": []
   },
   "outputs": [
    {
     "name": "stdout",
     "output_type": "stream",
     "text": [
      "Stopping execution_time clock.\n",
      "[INFO] Keeping all rows: 89710 rows retained.\n"
     ]
    },
    {
     "name": "stdout",
     "output_type": "stream",
     "text": [
      "[INFO] Keeping all rows: 89710 rows retained.\n"
     ]
    },
    {
     "name": "stdout",
     "output_type": "stream",
     "text": [
      "[INFO] Keeping all rows: 89710 rows retained.\n"
     ]
    },
    {
     "name": "stdout",
     "output_type": "stream",
     "text": [
      "[INFO] Keeping all rows: 89710 rows retained.\n"
     ]
    },
    {
     "data": {
      "text/html": [
       "<div>\n",
       "<style scoped>\n",
       "    .dataframe tbody tr th:only-of-type {\n",
       "        vertical-align: middle;\n",
       "    }\n",
       "\n",
       "    .dataframe tbody tr th {\n",
       "        vertical-align: top;\n",
       "    }\n",
       "\n",
       "    .dataframe thead th {\n",
       "        text-align: right;\n",
       "    }\n",
       "</style>\n",
       "<table border=\"1\" class=\"dataframe\">\n",
       "  <thead>\n",
       "    <tr style=\"text-align: right;\">\n",
       "      <th></th>\n",
       "      <th>run_no</th>\n",
       "      <th>universe_id</th>\n",
       "      <th>universe_settings</th>\n",
       "      <th>execution_time</th>\n",
       "      <th>test_size_n</th>\n",
       "      <th>test_size_frac</th>\n",
       "      <th>fair_main_equalized_odds_difference</th>\n",
       "      <th>fair_main_equalized_odds_ratio</th>\n",
       "      <th>fair_main_demographic_parity_difference</th>\n",
       "      <th>fair_main_demographic_parity_ratio</th>\n",
       "      <th>...</th>\n",
       "      <th>perf_grp_precision_0</th>\n",
       "      <th>perf_grp_precision_1</th>\n",
       "      <th>perf_grp_false positive rate_0</th>\n",
       "      <th>perf_grp_false positive rate_1</th>\n",
       "      <th>perf_grp_false negative rate_0</th>\n",
       "      <th>perf_grp_false negative rate_1</th>\n",
       "      <th>perf_grp_selection rate_0</th>\n",
       "      <th>perf_grp_selection rate_1</th>\n",
       "      <th>perf_grp_count_0</th>\n",
       "      <th>perf_grp_count_1</th>\n",
       "    </tr>\n",
       "  </thead>\n",
       "  <tbody>\n",
       "    <tr>\n",
       "      <th>0</th>\n",
       "      <td>2</td>\n",
       "      <td>0ef73a3cbefc899969f0f07fcc5da870</td>\n",
       "      <td>{\"cutoff\": \"quantile_0.1\", \"eval_fairness_grou...</td>\n",
       "      <td>26.518866</td>\n",
       "      <td>89710</td>\n",
       "      <td>1.0</td>\n",
       "      <td>0.09162</td>\n",
       "      <td>0.904282</td>\n",
       "      <td>0.079749</td>\n",
       "      <td>0.917057</td>\n",
       "      <td>...</td>\n",
       "      <td>NaN</td>\n",
       "      <td>NaN</td>\n",
       "      <td>NaN</td>\n",
       "      <td>NaN</td>\n",
       "      <td>NaN</td>\n",
       "      <td>NaN</td>\n",
       "      <td>NaN</td>\n",
       "      <td>NaN</td>\n",
       "      <td>NaN</td>\n",
       "      <td>NaN</td>\n",
       "    </tr>\n",
       "    <tr>\n",
       "      <th>0</th>\n",
       "      <td>2</td>\n",
       "      <td>0ef73a3cbefc899969f0f07fcc5da870</td>\n",
       "      <td>{\"cutoff\": \"quantile_0.1\", \"eval_fairness_grou...</td>\n",
       "      <td>26.518866</td>\n",
       "      <td>89710</td>\n",
       "      <td>1.0</td>\n",
       "      <td>0.09162</td>\n",
       "      <td>0.904282</td>\n",
       "      <td>0.079749</td>\n",
       "      <td>0.917057</td>\n",
       "      <td>...</td>\n",
       "      <td>0.119247</td>\n",
       "      <td>0.148057</td>\n",
       "      <td>0.957187</td>\n",
       "      <td>0.865567</td>\n",
       "      <td>0.005490</td>\n",
       "      <td>0.012035</td>\n",
       "      <td>0.96149</td>\n",
       "      <td>0.881741</td>\n",
       "      <td>20540.0</td>\n",
       "      <td>69170.0</td>\n",
       "    </tr>\n",
       "    <tr>\n",
       "      <th>0</th>\n",
       "      <td>2</td>\n",
       "      <td>0ef73a3cbefc899969f0f07fcc5da870</td>\n",
       "      <td>{\"cutoff\": \"quantile_0.25\", \"eval_fairness_gro...</td>\n",
       "      <td>26.518866</td>\n",
       "      <td>89710</td>\n",
       "      <td>1.0</td>\n",
       "      <td>0.17188</td>\n",
       "      <td>0.798308</td>\n",
       "      <td>0.149403</td>\n",
       "      <td>0.827318</td>\n",
       "      <td>...</td>\n",
       "      <td>NaN</td>\n",
       "      <td>NaN</td>\n",
       "      <td>NaN</td>\n",
       "      <td>NaN</td>\n",
       "      <td>NaN</td>\n",
       "      <td>NaN</td>\n",
       "      <td>NaN</td>\n",
       "      <td>NaN</td>\n",
       "      <td>NaN</td>\n",
       "      <td>NaN</td>\n",
       "    </tr>\n",
       "    <tr>\n",
       "      <th>0</th>\n",
       "      <td>2</td>\n",
       "      <td>0ef73a3cbefc899969f0f07fcc5da870</td>\n",
       "      <td>{\"cutoff\": \"quantile_0.25\", \"eval_fairness_gro...</td>\n",
       "      <td>26.518866</td>\n",
       "      <td>89710</td>\n",
       "      <td>1.0</td>\n",
       "      <td>0.17188</td>\n",
       "      <td>0.798308</td>\n",
       "      <td>0.149403</td>\n",
       "      <td>0.827318</td>\n",
       "      <td>...</td>\n",
       "      <td>0.128580</td>\n",
       "      <td>0.175153</td>\n",
       "      <td>0.852190</td>\n",
       "      <td>0.680310</td>\n",
       "      <td>0.035051</td>\n",
       "      <td>0.051204</td>\n",
       "      <td>0.86519</td>\n",
       "      <td>0.715787</td>\n",
       "      <td>20540.0</td>\n",
       "      <td>69170.0</td>\n",
       "    </tr>\n",
       "  </tbody>\n",
       "</table>\n",
       "<p>4 rows × 50 columns</p>\n",
       "</div>"
      ],
      "text/plain": [
       "  run_no                       universe_id  \\\n",
       "0      2  0ef73a3cbefc899969f0f07fcc5da870   \n",
       "0      2  0ef73a3cbefc899969f0f07fcc5da870   \n",
       "0      2  0ef73a3cbefc899969f0f07fcc5da870   \n",
       "0      2  0ef73a3cbefc899969f0f07fcc5da870   \n",
       "\n",
       "                                   universe_settings  execution_time  \\\n",
       "0  {\"cutoff\": \"quantile_0.1\", \"eval_fairness_grou...       26.518866   \n",
       "0  {\"cutoff\": \"quantile_0.1\", \"eval_fairness_grou...       26.518866   \n",
       "0  {\"cutoff\": \"quantile_0.25\", \"eval_fairness_gro...       26.518866   \n",
       "0  {\"cutoff\": \"quantile_0.25\", \"eval_fairness_gro...       26.518866   \n",
       "\n",
       "   test_size_n  test_size_frac  fair_main_equalized_odds_difference  \\\n",
       "0        89710             1.0                              0.09162   \n",
       "0        89710             1.0                              0.09162   \n",
       "0        89710             1.0                              0.17188   \n",
       "0        89710             1.0                              0.17188   \n",
       "\n",
       "   fair_main_equalized_odds_ratio  fair_main_demographic_parity_difference  \\\n",
       "0                        0.904282                                 0.079749   \n",
       "0                        0.904282                                 0.079749   \n",
       "0                        0.798308                                 0.149403   \n",
       "0                        0.798308                                 0.149403   \n",
       "\n",
       "   fair_main_demographic_parity_ratio  ...  perf_grp_precision_0  \\\n",
       "0                            0.917057  ...                   NaN   \n",
       "0                            0.917057  ...              0.119247   \n",
       "0                            0.827318  ...                   NaN   \n",
       "0                            0.827318  ...              0.128580   \n",
       "\n",
       "   perf_grp_precision_1  perf_grp_false positive rate_0  \\\n",
       "0                   NaN                             NaN   \n",
       "0              0.148057                        0.957187   \n",
       "0                   NaN                             NaN   \n",
       "0              0.175153                        0.852190   \n",
       "\n",
       "   perf_grp_false positive rate_1  perf_grp_false negative rate_0  \\\n",
       "0                             NaN                             NaN   \n",
       "0                        0.865567                        0.005490   \n",
       "0                             NaN                             NaN   \n",
       "0                        0.680310                        0.035051   \n",
       "\n",
       "   perf_grp_false negative rate_1  perf_grp_selection rate_0  \\\n",
       "0                             NaN                        NaN   \n",
       "0                        0.012035                    0.96149   \n",
       "0                             NaN                        NaN   \n",
       "0                        0.051204                    0.86519   \n",
       "\n",
       "   perf_grp_selection rate_1  perf_grp_count_0  perf_grp_count_1  \n",
       "0                        NaN               NaN               NaN  \n",
       "0                   0.881741           20540.0           69170.0  \n",
       "0                        NaN               NaN               NaN  \n",
       "0                   0.715787           20540.0           69170.0  \n",
       "\n",
       "[4 rows x 50 columns]"
      ]
     },
     "execution_count": 64,
     "metadata": {},
     "output_type": "execute_result"
    }
   ],
   "source": [
    "final_output = universe_analysis.generate_final_output(\n",
    "    y_pred_prob=probs_test,\n",
    "    y_test=y_true,\n",
    "    org_test=org_test,\n",
    "    filter_data=filter_sub_universe_data,\n",
    "    cp_metrics_df=cp_metrics_df,\n",
    "    save=True,\n",
    ")\n",
    "final_output"
   ]
  },
  {
   "cell_type": "code",
   "execution_count": null,
   "id": "571f9a0f-660a-4841-b661-b06fbc637944",
   "metadata": {
    "papermill": {
     "duration": 0.014262,
     "end_time": "2025-08-19T16:56:38.044273",
     "exception": false,
     "start_time": "2025-08-19T16:56:38.030011",
     "status": "completed"
    },
    "tags": []
   },
   "outputs": [],
   "source": []
  },
  {
   "cell_type": "code",
   "execution_count": null,
   "id": "529482e3-0150-4854-a92d-ab864efc606e",
   "metadata": {
    "papermill": {
     "duration": 0.032883,
     "end_time": "2025-08-19T16:56:38.094167",
     "exception": false,
     "start_time": "2025-08-19T16:56:38.061284",
     "status": "completed"
    },
    "tags": []
   },
   "outputs": [],
   "source": []
  }
 ],
 "metadata": {
  "celltoolbar": "Tags",
  "kernelspec": {
   "display_name": "Python (CMA Fairness)",
   "language": "python",
   "name": "cma_fair_env"
  },
  "language_info": {
   "codemirror_mode": {
    "name": "ipython",
    "version": 3
   },
   "file_extension": ".py",
   "mimetype": "text/x-python",
   "name": "python",
   "nbconvert_exporter": "python",
   "pygments_lexer": "ipython3",
   "version": "3.10.12"
  },
  "papermill": {
   "default_parameters": {},
   "duration": 51.462419,
   "end_time": "2025-08-19T16:56:38.952149",
   "environment_variables": {},
   "exception": null,
   "input_path": "universe_analysis.ipynb",
   "output_path": "output/runs/2/notebooks/m_2-0ef73a3cbefc899969f0f07fcc5da870.ipynb",
   "parameters": {
    "output_dir": "output",
    "run_no": "2",
    "seed": "2023",
    "universe": "{\"cutoff\": [\"quantile_0.1\", \"quantile_0.25\"], \"eval_fairness_grouping\": [\"majority-minority\", \"nationality-all\"], \"exclude_features\": \"nationality\", \"exclude_subgroups\": \"keep-all\", \"model\": \"logreg\", \"scale\": \"scale\", \"training_size\": \"25k\", \"training_year\": \"2014\"}",
    "universe_id": "0ef73a3cbefc899969f0f07fcc5da870"
   },
   "start_time": "2025-08-19T16:55:47.489730",
   "version": "2.6.0"
  }
 },
 "nbformat": 4,
 "nbformat_minor": 5
}