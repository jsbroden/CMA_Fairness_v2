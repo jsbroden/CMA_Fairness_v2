{
 "cells": [
  {
   "cell_type": "code",
   "execution_count": 1,
   "id": "f159f837-637b-42ba-96b5-ec9a68c44524",
   "metadata": {
    "execution": {
     "iopub.execute_input": "2025-07-21T07:37:30.185141Z",
     "iopub.status.busy": "2025-07-21T07:37:30.184667Z",
     "iopub.status.idle": "2025-07-21T07:37:30.197977Z",
     "shell.execute_reply": "2025-07-21T07:37:30.197232Z"
    },
    "papermill": {
     "duration": 0.024976,
     "end_time": "2025-07-21T07:37:30.199870",
     "exception": false,
     "start_time": "2025-07-21T07:37:30.174894",
     "status": "completed"
    },
    "tags": []
   },
   "outputs": [
    {
     "name": "stdout",
     "output_type": "stream",
     "text": [
      "/dss/dsshome1/0C/ra93lal2/cma/CMA_Fairness_v2\n"
     ]
    },
    {
     "name": "stderr",
     "output_type": "stream",
     "text": [
      "/dss/dsshome1/0C/ra93lal2/.local/share/virtualenvs/CMA_Fairness_v2-3j10GkSs/lib/python3.10/site-packages/IPython/core/magics/osm.py:393: UserWarning: This is now an optional IPython functionality, using bookmarks requires you to install the `pickleshare` library.\n",
      "  bkms = self.shell.db.get('bookmarks', {})\n",
      "/dss/dsshome1/0C/ra93lal2/.local/share/virtualenvs/CMA_Fairness_v2-3j10GkSs/lib/python3.10/site-packages/IPython/core/magics/osm.py:417: UserWarning: This is now an optional IPython functionality, setting dhist requires you to install the `pickleshare` library.\n",
      "  self.shell.db['dhist'] = compress_dhist(dhist)[-100:]\n"
     ]
    }
   ],
   "source": [
    "%cd ~/cma/CMA_Fairness_v2"
   ]
  },
  {
   "cell_type": "markdown",
   "id": "de2603b9",
   "metadata": {
    "papermill": {
     "duration": 0.018395,
     "end_time": "2025-07-21T07:37:30.239159",
     "exception": false,
     "start_time": "2025-07-21T07:37:30.220764",
     "status": "completed"
    },
    "tags": []
   },
   "source": [
    "The following cell holds the definition of our parameters, these values can be overriden by rendering the with e.g. the following command:\n",
    "\n",
    "papermill -p alpha 0.2 -p ratio 0.3 universe_analysis.ipynb output/test_run.ipynb"
   ]
  },
  {
   "cell_type": "code",
   "execution_count": 2,
   "id": "a80968a0-40bb-4fa9-85ef-2d5eefb01975",
   "metadata": {
    "execution": {
     "iopub.execute_input": "2025-07-21T07:37:30.258543Z",
     "iopub.status.busy": "2025-07-21T07:37:30.258109Z",
     "iopub.status.idle": "2025-07-21T07:37:30.263560Z",
     "shell.execute_reply": "2025-07-21T07:37:30.262761Z"
    },
    "papermill": {
     "duration": 0.017163,
     "end_time": "2025-07-21T07:37:30.265301",
     "exception": false,
     "start_time": "2025-07-21T07:37:30.248138",
     "status": "completed"
    },
    "tags": []
   },
   "outputs": [
    {
     "name": "stdout",
     "output_type": "stream",
     "text": [
      "Current working directory: /dss/dsshome1/0C/ra93lal2/cma/CMA_Fairness_v2\n"
     ]
    }
   ],
   "source": [
    "import os\n",
    "print(\"Current working directory:\", os.getcwd())"
   ]
  },
  {
   "cell_type": "code",
   "execution_count": 3,
   "id": "2dce4c03",
   "metadata": {
    "execution": {
     "iopub.execute_input": "2025-07-21T07:37:30.301732Z",
     "iopub.status.busy": "2025-07-21T07:37:30.301220Z",
     "iopub.status.idle": "2025-07-21T07:37:30.307215Z",
     "shell.execute_reply": "2025-07-21T07:37:30.306380Z"
    },
    "papermill": {
     "duration": 0.025871,
     "end_time": "2025-07-21T07:37:30.308849",
     "exception": false,
     "start_time": "2025-07-21T07:37:30.282978",
     "status": "completed"
    },
    "tags": [
     "parameters"
    ]
   },
   "outputs": [],
   "source": [
    "run_no = 0\n",
    "universe_id = \"test\"\n",
    "universe = {\n",
    "    #\"scale\": \"scale\", # \"scale\", \"do-not-scale\",\n",
    "    #\"encode_categorical\": \"one-hot\", # \"ordinal\", \"one-hot\"\n",
    "    \"model\": \"elasticnet\", # \"logreg\", \"penalized_logreg\", \"rf\", \"gbm\", \"elasticnet\"\n",
    "    \"cutoff\": [\"quantile_0.15\", \"quantile_0.30\"],\n",
    "    \"exclude_features\": \"nationality-sex\", # \"none\", \"nationality\", \"sex\", \"nationality-sex\"\n",
    "    \"exclude_subgroups\": \"keep-all\", # \"keep-all\", \"drop-non-german\"\n",
    "    \"eval_fairness_grouping\": [\"majority-minority\", \"nationality-all\"]\n",
    "}\n",
    "\n",
    "output_dir=\"./output\"\n",
    "seed=0"
   ]
  },
  {
   "cell_type": "code",
   "execution_count": 4,
   "id": "5e2e1289",
   "metadata": {
    "execution": {
     "iopub.execute_input": "2025-07-21T07:37:30.342469Z",
     "iopub.status.busy": "2025-07-21T07:37:30.342024Z",
     "iopub.status.idle": "2025-07-21T07:37:30.347062Z",
     "shell.execute_reply": "2025-07-21T07:37:30.346080Z"
    },
    "papermill": {
     "duration": 0.023824,
     "end_time": "2025-07-21T07:37:30.348750",
     "exception": false,
     "start_time": "2025-07-21T07:37:30.324926",
     "status": "completed"
    },
    "tags": [
     "injected-parameters"
    ]
   },
   "outputs": [],
   "source": [
    "# Parameters\n",
    "universe_id = \"630882776e420e2a50ab68c1f76a8700\"\n",
    "run_no = \"2\"\n",
    "universe = \"{\\\"cutoff\\\": [\\\"quantile_0.1\\\", \\\"quantile_0.25\\\"], \\\"eval_fairness_grouping\\\": [\\\"majority-minority\\\", \\\"nationality-all\\\"], \\\"exclude_features\\\": \\\"nationality\\\", \\\"exclude_subgroups\\\": \\\"keep-all\\\", \\\"model\\\": \\\"rf\\\"}\"\n",
    "output_dir = \"output\"\n",
    "seed = \"2023\"\n"
   ]
  },
  {
   "cell_type": "code",
   "execution_count": 5,
   "id": "1650acaf",
   "metadata": {
    "execution": {
     "iopub.execute_input": "2025-07-21T07:37:30.383362Z",
     "iopub.status.busy": "2025-07-21T07:37:30.382513Z",
     "iopub.status.idle": "2025-07-21T07:37:30.387801Z",
     "shell.execute_reply": "2025-07-21T07:37:30.386939Z"
    },
    "papermill": {
     "duration": 0.02408,
     "end_time": "2025-07-21T07:37:30.389307",
     "exception": false,
     "start_time": "2025-07-21T07:37:30.365227",
     "status": "completed"
    },
    "tags": []
   },
   "outputs": [],
   "source": [
    "import json\n",
    "# Parse universe into dict if it is passed as a string\n",
    "if isinstance(universe, str):\n",
    "    universe = json.loads(universe)"
   ]
  },
  {
   "cell_type": "code",
   "execution_count": 6,
   "id": "16620c48",
   "metadata": {
    "execution": {
     "iopub.execute_input": "2025-07-21T07:37:30.423084Z",
     "iopub.status.busy": "2025-07-21T07:37:30.422412Z",
     "iopub.status.idle": "2025-07-21T07:37:30.469800Z",
     "shell.execute_reply": "2025-07-21T07:37:30.468815Z"
    },
    "papermill": {
     "duration": 0.066363,
     "end_time": "2025-07-21T07:37:30.471727",
     "exception": false,
     "start_time": "2025-07-21T07:37:30.405364",
     "status": "completed"
    },
    "tags": []
   },
   "outputs": [],
   "source": [
    "# Auto-reload the custom package\n",
    "%load_ext autoreload\n",
    "%autoreload 1\n",
    "%aimport fairness_multiverse"
   ]
  },
  {
   "cell_type": "code",
   "execution_count": 7,
   "id": "01c5c9f3",
   "metadata": {
    "execution": {
     "iopub.execute_input": "2025-07-21T07:37:30.505533Z",
     "iopub.status.busy": "2025-07-21T07:37:30.505059Z",
     "iopub.status.idle": "2025-07-21T07:37:32.268416Z",
     "shell.execute_reply": "2025-07-21T07:37:32.267264Z"
    },
    "papermill": {
     "duration": 1.78236,
     "end_time": "2025-07-21T07:37:32.270571",
     "exception": false,
     "start_time": "2025-07-21T07:37:30.488211",
     "status": "completed"
    },
    "tags": []
   },
   "outputs": [],
   "source": [
    "from fairness_multiverse.universe import UniverseAnalysis\n",
    "\n",
    "universe_analysis = UniverseAnalysis(\n",
    "    run_no = run_no,\n",
    "    universe_id = universe_id,\n",
    "    universe = universe,\n",
    "    output_dir=output_dir,\n",
    ")"
   ]
  },
  {
   "cell_type": "code",
   "execution_count": 8,
   "id": "106241f5",
   "metadata": {
    "execution": {
     "iopub.execute_input": "2025-07-21T07:37:32.322769Z",
     "iopub.status.busy": "2025-07-21T07:37:32.321399Z",
     "iopub.status.idle": "2025-07-21T07:37:32.328908Z",
     "shell.execute_reply": "2025-07-21T07:37:32.327933Z"
    },
    "papermill": {
     "duration": 0.040794,
     "end_time": "2025-07-21T07:37:32.330537",
     "exception": false,
     "start_time": "2025-07-21T07:37:32.289743",
     "status": "completed"
    },
    "tags": []
   },
   "outputs": [
    {
     "name": "stdout",
     "output_type": "stream",
     "text": [
      "Using Seed: 2023\n"
     ]
    }
   ],
   "source": [
    "import numpy as np\n",
    "parsed_seed = int(seed)\n",
    "np.random.seed(parsed_seed)\n",
    "print(f\"Using Seed: {parsed_seed}\")"
   ]
  },
  {
   "cell_type": "markdown",
   "id": "e0ebdc57",
   "metadata": {
    "papermill": {
     "duration": 0.016024,
     "end_time": "2025-07-21T07:37:32.363443",
     "exception": false,
     "start_time": "2025-07-21T07:37:32.347419",
     "status": "completed"
    },
    "tags": []
   },
   "source": [
    "# Loading Data"
   ]
  },
  {
   "cell_type": "markdown",
   "id": "681925a3",
   "metadata": {
    "papermill": {
     "duration": 0.016107,
     "end_time": "2025-07-21T07:37:32.396593",
     "exception": false,
     "start_time": "2025-07-21T07:37:32.380486",
     "status": "completed"
    },
    "tags": []
   },
   "source": [
    "Load siab_train, siab_test, siab_calib and/or \n",
    "load siab_train_features, siab_train_labels"
   ]
  },
  {
   "cell_type": "code",
   "execution_count": 9,
   "id": "f0496b8a",
   "metadata": {
    "execution": {
     "iopub.execute_input": "2025-07-21T07:37:32.429202Z",
     "iopub.status.busy": "2025-07-21T07:37:32.428674Z",
     "iopub.status.idle": "2025-07-21T07:37:45.647458Z",
     "shell.execute_reply": "2025-07-21T07:37:45.646295Z"
    },
    "papermill": {
     "duration": 13.237246,
     "end_time": "2025-07-21T07:37:45.649194",
     "exception": false,
     "start_time": "2025-07-21T07:37:32.411948",
     "status": "completed"
    },
    "tags": []
   },
   "outputs": [
    {
     "name": "stdout",
     "output_type": "stream",
     "text": [
      "Loading SIAB data from cache: data/siab_cached.csv.gz\n"
     ]
    },
    {
     "name": "stdout",
     "output_type": "stream",
     "text": [
      "(643690, 164)\n"
     ]
    }
   ],
   "source": [
    "# Do I need to load siab? Delete this cell?\n",
    "\n",
    "from pathlib import Path\n",
    "import pandas as pd\n",
    "\n",
    "# File paths\n",
    "raw_file = Path(\"data/raw/siab.csv\")\n",
    "cache_file = Path(\"data/siab_cached.csv.gz\")\n",
    "\n",
    "# Ensure cache directory exists\n",
    "cache_file.parent.mkdir(parents=True, exist_ok=True)\n",
    "\n",
    "# Load with simple caching\n",
    "if cache_file.exists():\n",
    "    print(f\"Loading SIAB data from cache: {cache_file}\")\n",
    "    siab = pd.read_csv(cache_file, compression='gzip')\n",
    "else:\n",
    "    print(f\"Cache not found. Reading raw SIAB data: {raw_file}\")\n",
    "    siab = pd.read_csv(raw_file)\n",
    "    siab.to_csv(cache_file, index=False, compression='gzip')\n",
    "    print(f\"Cached SIAB data to: {cache_file}\")\n",
    "\n",
    "# Now use `siab` DataFrame as needed\n",
    "print(siab.shape)\n"
   ]
  },
  {
   "cell_type": "code",
   "execution_count": 10,
   "id": "a0edb063",
   "metadata": {
    "execution": {
     "iopub.execute_input": "2025-07-21T07:37:45.715210Z",
     "iopub.status.busy": "2025-07-21T07:37:45.714736Z",
     "iopub.status.idle": "2025-07-21T07:37:46.239816Z",
     "shell.execute_reply": "2025-07-21T07:37:46.238751Z"
    },
    "papermill": {
     "duration": 0.554832,
     "end_time": "2025-07-21T07:37:46.241942",
     "exception": false,
     "start_time": "2025-07-21T07:37:45.687110",
     "status": "completed"
    },
    "tags": []
   },
   "outputs": [],
   "source": [
    "import pandas as pd\n",
    "\n",
    "X_train = pd.read_csv(\"./data/X_train.csv\")\n",
    "y_train = pd.read_csv(\"./data/y_train.csv\")"
   ]
  },
  {
   "cell_type": "code",
   "execution_count": 11,
   "id": "63d08085",
   "metadata": {
    "execution": {
     "iopub.execute_input": "2025-07-21T07:37:46.291127Z",
     "iopub.status.busy": "2025-07-21T07:37:46.290128Z",
     "iopub.status.idle": "2025-07-21T07:37:47.933721Z",
     "shell.execute_reply": "2025-07-21T07:37:47.932727Z"
    },
    "papermill": {
     "duration": 1.675794,
     "end_time": "2025-07-21T07:37:47.935765",
     "exception": false,
     "start_time": "2025-07-21T07:37:46.259971",
     "status": "completed"
    },
    "tags": []
   },
   "outputs": [],
   "source": [
    "X_test = pd.read_csv(\"./data/X_test.csv\")\n",
    "y_true = pd.read_csv(\"./data/y_test.csv\")"
   ]
  },
  {
   "cell_type": "code",
   "execution_count": 12,
   "id": "98a8d0fa-1d3d-4ed8-bb2c-281470e24add",
   "metadata": {
    "execution": {
     "iopub.execute_input": "2025-07-21T07:37:47.966191Z",
     "iopub.status.busy": "2025-07-21T07:37:47.965396Z",
     "iopub.status.idle": "2025-07-21T07:37:49.543657Z",
     "shell.execute_reply": "2025-07-21T07:37:49.542583Z"
    },
    "papermill": {
     "duration": 1.598043,
     "end_time": "2025-07-21T07:37:49.545721",
     "exception": false,
     "start_time": "2025-07-21T07:37:47.947678",
     "status": "completed"
    },
    "tags": []
   },
   "outputs": [],
   "source": [
    "# Calibration data for conformal\n",
    "X_calib = pd.read_csv(\"./data/X_calib.csv\")\n",
    "y_calib = pd.read_csv(\"./data/y_calib.csv\")"
   ]
  },
  {
   "cell_type": "code",
   "execution_count": 13,
   "id": "e6c733c5",
   "metadata": {
    "execution": {
     "iopub.execute_input": "2025-07-21T07:37:49.589669Z",
     "iopub.status.busy": "2025-07-21T07:37:49.589269Z",
     "iopub.status.idle": "2025-07-21T07:37:49.716056Z",
     "shell.execute_reply": "2025-07-21T07:37:49.714996Z"
    },
    "papermill": {
     "duration": 0.153374,
     "end_time": "2025-07-21T07:37:49.717739",
     "exception": false,
     "start_time": "2025-07-21T07:37:49.564365",
     "status": "completed"
    },
    "tags": []
   },
   "outputs": [],
   "source": [
    "# Auxiliary data needed downstream in the pipeline\n",
    "\n",
    "org_train = X_train.copy()\n",
    "org_test = X_test.copy()\n",
    "org_calib = X_calib.copy()"
   ]
  },
  {
   "cell_type": "markdown",
   "id": "0a4a1b33",
   "metadata": {
    "papermill": {
     "duration": 0.022774,
     "end_time": "2025-07-21T07:37:49.756741",
     "exception": false,
     "start_time": "2025-07-21T07:37:49.733967",
     "status": "completed"
    },
    "tags": []
   },
   "source": [
    "# Preprocessing Data"
   ]
  },
  {
   "cell_type": "code",
   "execution_count": 14,
   "id": "ca879031",
   "metadata": {
    "execution": {
     "iopub.execute_input": "2025-07-21T07:37:49.812896Z",
     "iopub.status.busy": "2025-07-21T07:37:49.812454Z",
     "iopub.status.idle": "2025-07-21T07:37:49.819007Z",
     "shell.execute_reply": "2025-07-21T07:37:49.817872Z"
    },
    "papermill": {
     "duration": 0.059738,
     "end_time": "2025-07-21T07:37:49.835955",
     "exception": false,
     "start_time": "2025-07-21T07:37:49.776217",
     "status": "completed"
    },
    "tags": []
   },
   "outputs": [],
   "source": [
    "# EXCLUDE PROTECTED FEATURES\n",
    "# ----------------------\n",
    "# \"exclude_features\": \"none\", # \"nationality\", \"sex\", \"nationality-sex\"\n",
    "\n",
    "excluded_features = universe[\"exclude_features\"].split(\"-\") # split, e.g.: \"nationality-sex\" -> [\"nationality\", \"sex\"]\n",
    "excluded_features_dictionary = {\n",
    "    \"nationality\": [\"maxdeutsch1\", \"maxdeutsch.Missing.\"],\n",
    "    \"sex\": [\"frau1\"],\n",
    "}\n"
   ]
  },
  {
   "cell_type": "code",
   "execution_count": 15,
   "id": "b745ac60",
   "metadata": {
    "execution": {
     "iopub.execute_input": "2025-07-21T07:37:49.961056Z",
     "iopub.status.busy": "2025-07-21T07:37:49.960553Z",
     "iopub.status.idle": "2025-07-21T07:37:49.967521Z",
     "shell.execute_reply": "2025-07-21T07:37:49.965879Z"
    },
    "papermill": {
     "duration": 0.056131,
     "end_time": "2025-07-21T07:37:49.969165",
     "exception": false,
     "start_time": "2025-07-21T07:37:49.913034",
     "status": "completed"
    },
    "tags": []
   },
   "outputs": [],
   "source": [
    "# Code nice names to column names\n",
    "\n",
    "excluded_features_columns = [\n",
    "    excluded_features_dictionary[f] for f in excluded_features if len(f) > 0 and f != \"none\"\n",
    "]"
   ]
  },
  {
   "cell_type": "code",
   "execution_count": 16,
   "id": "f84f73a2",
   "metadata": {
    "execution": {
     "iopub.execute_input": "2025-07-21T07:37:50.017027Z",
     "iopub.status.busy": "2025-07-21T07:37:50.016228Z",
     "iopub.status.idle": "2025-07-21T07:37:50.037281Z",
     "shell.execute_reply": "2025-07-21T07:37:50.024029Z"
    },
    "papermill": {
     "duration": 0.046138,
     "end_time": "2025-07-21T07:37:50.041540",
     "exception": false,
     "start_time": "2025-07-21T07:37:49.995402",
     "status": "completed"
    },
    "tags": []
   },
   "outputs": [],
   "source": [
    "from utils import flatten_once\n",
    "\n",
    "excluded_features_columns = flatten_once(excluded_features_columns)"
   ]
  },
  {
   "cell_type": "code",
   "execution_count": 17,
   "id": "884dea22",
   "metadata": {
    "execution": {
     "iopub.execute_input": "2025-07-21T07:37:50.116091Z",
     "iopub.status.busy": "2025-07-21T07:37:50.114995Z",
     "iopub.status.idle": "2025-07-21T07:37:50.200078Z",
     "shell.execute_reply": "2025-07-21T07:37:50.198905Z"
    },
    "papermill": {
     "duration": 0.132623,
     "end_time": "2025-07-21T07:37:50.202218",
     "exception": false,
     "start_time": "2025-07-21T07:37:50.069595",
     "status": "completed"
    },
    "tags": []
   },
   "outputs": [
    {
     "name": "stdout",
     "output_type": "stream",
     "text": [
      "Dropping features: ['maxdeutsch1', 'maxdeutsch.Missing.']\n"
     ]
    }
   ],
   "source": [
    "if len(excluded_features_columns) > 0:\n",
    "    print(f\"Dropping features: {excluded_features_columns}\")\n",
    "    X_train.drop(excluded_features_columns, axis=1, inplace=True)"
   ]
  },
  {
   "cell_type": "code",
   "execution_count": 18,
   "id": "95ab8b16",
   "metadata": {
    "execution": {
     "iopub.execute_input": "2025-07-21T07:37:50.245808Z",
     "iopub.status.busy": "2025-07-21T07:37:50.245326Z",
     "iopub.status.idle": "2025-07-21T07:37:50.302833Z",
     "shell.execute_reply": "2025-07-21T07:37:50.301524Z"
    },
    "papermill": {
     "duration": 0.073766,
     "end_time": "2025-07-21T07:37:50.305080",
     "exception": false,
     "start_time": "2025-07-21T07:37:50.231314",
     "status": "completed"
    },
    "tags": []
   },
   "outputs": [
    {
     "name": "stdout",
     "output_type": "stream",
     "text": [
      "Dropping features: ['maxdeutsch1', 'maxdeutsch.Missing.']\n"
     ]
    }
   ],
   "source": [
    "if len(excluded_features_columns) > 0:\n",
    "    print(f\"Dropping features: {excluded_features_columns}\")\n",
    "    X_test.drop(excluded_features_columns, axis=1, inplace=True)"
   ]
  },
  {
   "cell_type": "code",
   "execution_count": 19,
   "id": "1853aaf5-fb9f-46cb-a2b5-8ea4ae2237e4",
   "metadata": {
    "execution": {
     "iopub.execute_input": "2025-07-21T07:37:50.348014Z",
     "iopub.status.busy": "2025-07-21T07:37:50.347560Z",
     "iopub.status.idle": "2025-07-21T07:37:50.461424Z",
     "shell.execute_reply": "2025-07-21T07:37:50.460279Z"
    },
    "papermill": {
     "duration": 0.137747,
     "end_time": "2025-07-21T07:37:50.463727",
     "exception": false,
     "start_time": "2025-07-21T07:37:50.325980",
     "status": "completed"
    },
    "tags": []
   },
   "outputs": [
    {
     "name": "stdout",
     "output_type": "stream",
     "text": [
      "Dropping features: ['maxdeutsch1', 'maxdeutsch.Missing.']\n"
     ]
    }
   ],
   "source": [
    "if len(excluded_features_columns) > 0:\n",
    "    print(f\"Dropping features: {excluded_features_columns}\")\n",
    "    X_calib.drop(excluded_features_columns, axis=1, inplace=True)"
   ]
  },
  {
   "cell_type": "code",
   "execution_count": 20,
   "id": "76c4dc6d",
   "metadata": {
    "execution": {
     "iopub.execute_input": "2025-07-21T07:37:50.502612Z",
     "iopub.status.busy": "2025-07-21T07:37:50.502193Z",
     "iopub.status.idle": "2025-07-21T07:37:50.506973Z",
     "shell.execute_reply": "2025-07-21T07:37:50.506059Z"
    },
    "papermill": {
     "duration": 0.025336,
     "end_time": "2025-07-21T07:37:50.508331",
     "exception": false,
     "start_time": "2025-07-21T07:37:50.482995",
     "status": "completed"
    },
    "tags": []
   },
   "outputs": [],
   "source": [
    "# EXCLUDE CERTAIN SUBGROUPS\n",
    "# ----------------------\n",
    "\n",
    "mode = universe.get(\"exclude_subgroups\", \"keep-all\") \n",
    "# Fetches the exclude_subgroups setting from the universe dict.\n",
    "# Defaults to \"keep-all\" if the key is missing."
   ]
  },
  {
   "cell_type": "code",
   "execution_count": 21,
   "id": "21994072",
   "metadata": {
    "execution": {
     "iopub.execute_input": "2025-07-21T07:37:50.551248Z",
     "iopub.status.busy": "2025-07-21T07:37:50.550578Z",
     "iopub.status.idle": "2025-07-21T07:37:50.570317Z",
     "shell.execute_reply": "2025-07-21T07:37:50.569211Z"
    },
    "papermill": {
     "duration": 0.043854,
     "end_time": "2025-07-21T07:37:50.572191",
     "exception": false,
     "start_time": "2025-07-21T07:37:50.528337",
     "status": "completed"
    },
    "tags": []
   },
   "outputs": [],
   "source": [
    "if mode == \"keep-all\":\n",
    "    keep_mask = pd.Series(True, index=org_train.index)\n",
    "\n",
    "# org_train contains the original feature columns from features_org (in Simson)\n",
    "# features_org contains unprocessed features, for me X_train at beginning ???\n",
    "# For keep-all, creates a boolean Series (keep_mask) of all True, so no rows are removed.\n",
    "\n",
    "elif mode == \"drop-non-german\":\n",
    "    keep_mask = org_train[\"maxdeutsch1\"] == 1 # ??? what about missing values?\n",
    "\n",
    "else:\n",
    "    raise ValueError(f\"Unsupported mode for exclude_subgroups: {mode}\")\n"
   ]
  },
  {
   "cell_type": "code",
   "execution_count": 22,
   "id": "71651440",
   "metadata": {
    "execution": {
     "iopub.execute_input": "2025-07-21T07:37:50.613264Z",
     "iopub.status.busy": "2025-07-21T07:37:50.612042Z",
     "iopub.status.idle": "2025-07-21T07:37:50.620172Z",
     "shell.execute_reply": "2025-07-21T07:37:50.619061Z"
    },
    "papermill": {
     "duration": 0.029906,
     "end_time": "2025-07-21T07:37:50.622116",
     "exception": false,
     "start_time": "2025-07-21T07:37:50.592210",
     "status": "completed"
    },
    "tags": []
   },
   "outputs": [],
   "source": [
    "n_drop = (~keep_mask).sum() # Calculates how many rows are set to be dropped\n",
    "if n_drop > 0:\n",
    "    pct = n_drop / len(keep_mask) * 100\n",
    "    print(f\"Dropping {n_drop} rows ({pct:.2f}%) where mode='{mode}'\")"
   ]
  },
  {
   "cell_type": "code",
   "execution_count": 23,
   "id": "5fb8eee5",
   "metadata": {
    "execution": {
     "iopub.execute_input": "2025-07-21T07:37:50.659461Z",
     "iopub.status.busy": "2025-07-21T07:37:50.658820Z",
     "iopub.status.idle": "2025-07-21T07:37:50.675312Z",
     "shell.execute_reply": "2025-07-21T07:37:50.674519Z"
    },
    "papermill": {
     "duration": 0.034366,
     "end_time": "2025-07-21T07:37:50.676977",
     "exception": false,
     "start_time": "2025-07-21T07:37:50.642611",
     "status": "completed"
    },
    "tags": []
   },
   "outputs": [],
   "source": [
    "X_train = X_train[keep_mask]"
   ]
  },
  {
   "cell_type": "code",
   "execution_count": 24,
   "id": "b202bb3a",
   "metadata": {
    "execution": {
     "iopub.execute_input": "2025-07-21T07:37:50.702640Z",
     "iopub.status.busy": "2025-07-21T07:37:50.701832Z",
     "iopub.status.idle": "2025-07-21T07:37:50.707911Z",
     "shell.execute_reply": "2025-07-21T07:37:50.707052Z"
    },
    "papermill": {
     "duration": 0.021985,
     "end_time": "2025-07-21T07:37:50.709749",
     "exception": false,
     "start_time": "2025-07-21T07:37:50.687764",
     "status": "completed"
    },
    "tags": []
   },
   "outputs": [],
   "source": [
    "y_train = y_train[keep_mask]"
   ]
  },
  {
   "cell_type": "markdown",
   "id": "493e2ac3",
   "metadata": {
    "papermill": {
     "duration": 0.010126,
     "end_time": "2025-07-21T07:37:50.730648",
     "exception": false,
     "start_time": "2025-07-21T07:37:50.720522",
     "status": "completed"
    },
    "tags": []
   },
   "source": [
    "# Model Training"
   ]
  },
  {
   "cell_type": "code",
   "execution_count": 25,
   "id": "679e1268",
   "metadata": {
    "execution": {
     "iopub.execute_input": "2025-07-21T07:37:50.771418Z",
     "iopub.status.busy": "2025-07-21T07:37:50.770964Z",
     "iopub.status.idle": "2025-07-21T07:37:51.018035Z",
     "shell.execute_reply": "2025-07-21T07:37:51.016875Z"
    },
    "papermill": {
     "duration": 0.27729,
     "end_time": "2025-07-21T07:37:51.020070",
     "exception": false,
     "start_time": "2025-07-21T07:37:50.742780",
     "status": "completed"
    },
    "tags": []
   },
   "outputs": [],
   "source": [
    "from sklearn.linear_model import LogisticRegression\n",
    "from sklearn.ensemble import GradientBoostingClassifier, RandomForestClassifier\n",
    "\n",
    "if (universe[\"model\"] == \"logreg\"):\n",
    "    model = LogisticRegression() #penalty=\"none\") #, solver=\"newton-cg\", max_iter=1) # include random_state=19 ?\n",
    "elif (universe[\"model\"] == \"penalized_logreg\"):\n",
    "    model = LogisticRegression(penalty=\"l2\", C=1.0) #, solver=\"newton-cg\", max_iter=1)\n",
    "elif (universe[\"model\"] == \"rf\"):\n",
    "    model = RandomForestClassifier(n_estimators=100, n_jobs=-1)\n",
    "elif (universe[\"model\"] == \"gbm\"):\n",
    "    model = GradientBoostingClassifier()\n",
    "elif (universe[\"model\"] == \"elasticnet\"):\n",
    "    model = LogisticRegression(penalty = 'elasticnet', solver = 'saga', l1_ratio = 0.5, max_iter=5000) # which solver to use?\n",
    "else:\n",
    "    raise \"Unsupported universe.model\""
   ]
  },
  {
   "cell_type": "code",
   "execution_count": 26,
   "id": "0cc8f744",
   "metadata": {
    "execution": {
     "iopub.execute_input": "2025-07-21T07:37:51.108476Z",
     "iopub.status.busy": "2025-07-21T07:37:51.107432Z",
     "iopub.status.idle": "2025-07-21T07:37:51.114829Z",
     "shell.execute_reply": "2025-07-21T07:37:51.113645Z"
    },
    "papermill": {
     "duration": 0.052,
     "end_time": "2025-07-21T07:37:51.116480",
     "exception": false,
     "start_time": "2025-07-21T07:37:51.064480",
     "status": "completed"
    },
    "tags": []
   },
   "outputs": [],
   "source": [
    "import numpy as np\n",
    "from sklearn.pipeline import Pipeline\n",
    "from sklearn.preprocessing import StandardScaler\n",
    "from sklearn.metrics import accuracy_score\n",
    "\n",
    "model = Pipeline([\n",
    "    #(\"continuous_processor\", continuous_processor),\n",
    "    #(\"categorical_preprocessor\", categorical_preprocessor),\n",
    "    #(\"scale\", StandardScaler() if universe[\"scale\"] == \"scale\" else None),\n",
    "    (\"model\", model),\n",
    "])"
   ]
  },
  {
   "cell_type": "code",
   "execution_count": 27,
   "id": "9442c04d",
   "metadata": {
    "execution": {
     "iopub.execute_input": "2025-07-21T07:37:51.175860Z",
     "iopub.status.busy": "2025-07-21T07:37:51.175422Z",
     "iopub.status.idle": "2025-07-21T07:37:56.621866Z",
     "shell.execute_reply": "2025-07-21T07:37:56.620638Z"
    },
    "papermill": {
     "duration": 5.474863,
     "end_time": "2025-07-21T07:37:56.624012",
     "exception": false,
     "start_time": "2025-07-21T07:37:51.149149",
     "status": "completed"
    },
    "tags": []
   },
   "outputs": [
    {
     "data": {
      "text/html": [
       "<style>#sk-container-id-1 {color: black;background-color: white;}#sk-container-id-1 pre{padding: 0;}#sk-container-id-1 div.sk-toggleable {background-color: white;}#sk-container-id-1 label.sk-toggleable__label {cursor: pointer;display: block;width: 100%;margin-bottom: 0;padding: 0.3em;box-sizing: border-box;text-align: center;}#sk-container-id-1 label.sk-toggleable__label-arrow:before {content: \"▸\";float: left;margin-right: 0.25em;color: #696969;}#sk-container-id-1 label.sk-toggleable__label-arrow:hover:before {color: black;}#sk-container-id-1 div.sk-estimator:hover label.sk-toggleable__label-arrow:before {color: black;}#sk-container-id-1 div.sk-toggleable__content {max-height: 0;max-width: 0;overflow: hidden;text-align: left;background-color: #f0f8ff;}#sk-container-id-1 div.sk-toggleable__content pre {margin: 0.2em;color: black;border-radius: 0.25em;background-color: #f0f8ff;}#sk-container-id-1 input.sk-toggleable__control:checked~div.sk-toggleable__content {max-height: 200px;max-width: 100%;overflow: auto;}#sk-container-id-1 input.sk-toggleable__control:checked~label.sk-toggleable__label-arrow:before {content: \"▾\";}#sk-container-id-1 div.sk-estimator input.sk-toggleable__control:checked~label.sk-toggleable__label {background-color: #d4ebff;}#sk-container-id-1 div.sk-label input.sk-toggleable__control:checked~label.sk-toggleable__label {background-color: #d4ebff;}#sk-container-id-1 input.sk-hidden--visually {border: 0;clip: rect(1px 1px 1px 1px);clip: rect(1px, 1px, 1px, 1px);height: 1px;margin: -1px;overflow: hidden;padding: 0;position: absolute;width: 1px;}#sk-container-id-1 div.sk-estimator {font-family: monospace;background-color: #f0f8ff;border: 1px dotted black;border-radius: 0.25em;box-sizing: border-box;margin-bottom: 0.5em;}#sk-container-id-1 div.sk-estimator:hover {background-color: #d4ebff;}#sk-container-id-1 div.sk-parallel-item::after {content: \"\";width: 100%;border-bottom: 1px solid gray;flex-grow: 1;}#sk-container-id-1 div.sk-label:hover label.sk-toggleable__label {background-color: #d4ebff;}#sk-container-id-1 div.sk-serial::before {content: \"\";position: absolute;border-left: 1px solid gray;box-sizing: border-box;top: 0;bottom: 0;left: 50%;z-index: 0;}#sk-container-id-1 div.sk-serial {display: flex;flex-direction: column;align-items: center;background-color: white;padding-right: 0.2em;padding-left: 0.2em;position: relative;}#sk-container-id-1 div.sk-item {position: relative;z-index: 1;}#sk-container-id-1 div.sk-parallel {display: flex;align-items: stretch;justify-content: center;background-color: white;position: relative;}#sk-container-id-1 div.sk-item::before, #sk-container-id-1 div.sk-parallel-item::before {content: \"\";position: absolute;border-left: 1px solid gray;box-sizing: border-box;top: 0;bottom: 0;left: 50%;z-index: -1;}#sk-container-id-1 div.sk-parallel-item {display: flex;flex-direction: column;z-index: 1;position: relative;background-color: white;}#sk-container-id-1 div.sk-parallel-item:first-child::after {align-self: flex-end;width: 50%;}#sk-container-id-1 div.sk-parallel-item:last-child::after {align-self: flex-start;width: 50%;}#sk-container-id-1 div.sk-parallel-item:only-child::after {width: 0;}#sk-container-id-1 div.sk-dashed-wrapped {border: 1px dashed gray;margin: 0 0.4em 0.5em 0.4em;box-sizing: border-box;padding-bottom: 0.4em;background-color: white;}#sk-container-id-1 div.sk-label label {font-family: monospace;font-weight: bold;display: inline-block;line-height: 1.2em;}#sk-container-id-1 div.sk-label-container {text-align: center;}#sk-container-id-1 div.sk-container {/* jupyter's `normalize.less` sets `[hidden] { display: none; }` but bootstrap.min.css set `[hidden] { display: none !important; }` so we also need the `!important` here to be able to override the default hidden behavior on the sphinx rendered scikit-learn.org. See: https://github.com/scikit-learn/scikit-learn/issues/21755 */display: inline-block !important;position: relative;}#sk-container-id-1 div.sk-text-repr-fallback {display: none;}</style><div id=\"sk-container-id-1\" class=\"sk-top-container\"><div class=\"sk-text-repr-fallback\"><pre>Pipeline(steps=[(&#x27;model&#x27;, RandomForestClassifier(n_jobs=-1))])</pre><b>In a Jupyter environment, please rerun this cell to show the HTML representation or trust the notebook. <br />On GitHub, the HTML representation is unable to render, please try loading this page with nbviewer.org.</b></div><div class=\"sk-container\" hidden><div class=\"sk-item sk-dashed-wrapped\"><div class=\"sk-label-container\"><div class=\"sk-label sk-toggleable\"><input class=\"sk-toggleable__control sk-hidden--visually\" id=\"sk-estimator-id-1\" type=\"checkbox\" ><label for=\"sk-estimator-id-1\" class=\"sk-toggleable__label sk-toggleable__label-arrow\">Pipeline</label><div class=\"sk-toggleable__content\"><pre>Pipeline(steps=[(&#x27;model&#x27;, RandomForestClassifier(n_jobs=-1))])</pre></div></div></div><div class=\"sk-serial\"><div class=\"sk-item\"><div class=\"sk-estimator sk-toggleable\"><input class=\"sk-toggleable__control sk-hidden--visually\" id=\"sk-estimator-id-2\" type=\"checkbox\" ><label for=\"sk-estimator-id-2\" class=\"sk-toggleable__label sk-toggleable__label-arrow\">RandomForestClassifier</label><div class=\"sk-toggleable__content\"><pre>RandomForestClassifier(n_jobs=-1)</pre></div></div></div></div></div></div></div>"
      ],
      "text/plain": [
       "Pipeline(steps=[('model', RandomForestClassifier(n_jobs=-1))])"
      ]
     },
     "execution_count": 27,
     "metadata": {},
     "output_type": "execute_result"
    }
   ],
   "source": [
    "model.fit(X_train, y_train.values.ravel())"
   ]
  },
  {
   "cell_type": "code",
   "execution_count": 28,
   "id": "af59f8c0",
   "metadata": {
    "execution": {
     "iopub.execute_input": "2025-07-21T07:37:56.690852Z",
     "iopub.status.busy": "2025-07-21T07:37:56.690409Z",
     "iopub.status.idle": "2025-07-21T07:37:56.697672Z",
     "shell.execute_reply": "2025-07-21T07:37:56.696610Z"
    },
    "papermill": {
     "duration": 0.046354,
     "end_time": "2025-07-21T07:37:56.699550",
     "exception": false,
     "start_time": "2025-07-21T07:37:56.653196",
     "status": "completed"
    },
    "tags": []
   },
   "outputs": [],
   "source": [
    "from fairness_multiverse.universe import predict_w_threshold"
   ]
  },
  {
   "cell_type": "code",
   "execution_count": 29,
   "id": "a7cf2e16",
   "metadata": {
    "execution": {
     "iopub.execute_input": "2025-07-21T07:37:56.791907Z",
     "iopub.status.busy": "2025-07-21T07:37:56.791470Z",
     "iopub.status.idle": "2025-07-21T07:37:58.465840Z",
     "shell.execute_reply": "2025-07-21T07:37:58.464624Z"
    },
    "papermill": {
     "duration": 1.732782,
     "end_time": "2025-07-21T07:37:58.468079",
     "exception": false,
     "start_time": "2025-07-21T07:37:56.735297",
     "status": "completed"
    },
    "tags": []
   },
   "outputs": [
    {
     "data": {
      "text/plain": [
       "0.8644521235090848"
      ]
     },
     "execution_count": 29,
     "metadata": {},
     "output_type": "execute_result"
    }
   ],
   "source": [
    "probs_test = model.predict_proba(X_test)\n",
    "\n",
    "'''\n",
    "Below code returns a boolean array (or binary 0/1 array depending on how it’s used) where each element \n",
    "is True if the probability of class 1 is greater than or equal to the threshold, and False otherwise.\n",
    "'''\n",
    "y_pred_default = predict_w_threshold(probs_test, 0.5)\n",
    "\n",
    "# Naive prediction\n",
    "accuracy_score(y_true = y_true, y_pred = y_pred_default)"
   ]
  },
  {
   "cell_type": "code",
   "execution_count": 30,
   "id": "081964c3",
   "metadata": {
    "execution": {
     "iopub.execute_input": "2025-07-21T07:37:58.559269Z",
     "iopub.status.busy": "2025-07-21T07:37:58.558275Z",
     "iopub.status.idle": "2025-07-21T07:38:00.099533Z",
     "shell.execute_reply": "2025-07-21T07:38:00.098572Z"
    },
    "papermill": {
     "duration": 1.597895,
     "end_time": "2025-07-21T07:38:00.101286",
     "exception": false,
     "start_time": "2025-07-21T07:37:58.503391",
     "status": "completed"
    },
    "tags": []
   },
   "outputs": [
    {
     "data": {
      "text/plain": [
       "array([0, 0, 0, ..., 0, 0, 0])"
      ]
     },
     "execution_count": 30,
     "metadata": {},
     "output_type": "execute_result"
    }
   ],
   "source": [
    "model.predict(X_test)"
   ]
  },
  {
   "cell_type": "markdown",
   "id": "56c9705b",
   "metadata": {
    "papermill": {
     "duration": 0.052787,
     "end_time": "2025-07-21T07:38:00.201671",
     "exception": false,
     "start_time": "2025-07-21T07:38:00.148884",
     "status": "completed"
    },
    "tags": []
   },
   "source": [
    "# Conformal Prediction"
   ]
  },
  {
   "cell_type": "code",
   "execution_count": 31,
   "id": "160ec6ff",
   "metadata": {
    "execution": {
     "iopub.execute_input": "2025-07-21T07:38:00.333910Z",
     "iopub.status.busy": "2025-07-21T07:38:00.333501Z",
     "iopub.status.idle": "2025-07-21T07:38:00.338714Z",
     "shell.execute_reply": "2025-07-21T07:38:00.337775Z"
    },
    "papermill": {
     "duration": 0.079537,
     "end_time": "2025-07-21T07:38:00.340663",
     "exception": false,
     "start_time": "2025-07-21T07:38:00.261126",
     "status": "completed"
    },
    "tags": []
   },
   "outputs": [],
   "source": [
    "# Miscoverage level for conformal prediction (10% allowed error rate => 90% target coverage)\n",
    "alpha = 0.1"
   ]
  },
  {
   "cell_type": "code",
   "execution_count": 32,
   "id": "eadf4555-3dd3-440e-8e35-f82a4ad9f855",
   "metadata": {
    "execution": {
     "iopub.execute_input": "2025-07-21T07:38:00.512936Z",
     "iopub.status.busy": "2025-07-21T07:38:00.512466Z",
     "iopub.status.idle": "2025-07-21T07:38:02.316088Z",
     "shell.execute_reply": "2025-07-21T07:38:02.315036Z"
    },
    "papermill": {
     "duration": 1.906,
     "end_time": "2025-07-21T07:38:02.318710",
     "exception": false,
     "start_time": "2025-07-21T07:38:00.412710",
     "status": "completed"
    },
    "tags": []
   },
   "outputs": [],
   "source": [
    "probs_calib = model.predict_proba(X_calib)"
   ]
  },
  {
   "cell_type": "code",
   "execution_count": 33,
   "id": "2ed93547-6d5d-4983-9b36-1ecb300da49a",
   "metadata": {
    "execution": {
     "iopub.execute_input": "2025-07-21T07:38:02.373636Z",
     "iopub.status.busy": "2025-07-21T07:38:02.373190Z",
     "iopub.status.idle": "2025-07-21T07:38:02.379485Z",
     "shell.execute_reply": "2025-07-21T07:38:02.378426Z"
    },
    "papermill": {
     "duration": 0.031731,
     "end_time": "2025-07-21T07:38:02.383062",
     "exception": false,
     "start_time": "2025-07-21T07:38:02.351331",
     "status": "completed"
    },
    "tags": []
   },
   "outputs": [],
   "source": [
    "y_calib = y_calib.values.ravel().astype(int)"
   ]
  },
  {
   "cell_type": "code",
   "execution_count": 34,
   "id": "65d1320d-f588-4b38-9072-62af1ae97f7d",
   "metadata": {
    "execution": {
     "iopub.execute_input": "2025-07-21T07:38:02.460064Z",
     "iopub.status.busy": "2025-07-21T07:38:02.459519Z",
     "iopub.status.idle": "2025-07-21T07:38:02.470487Z",
     "shell.execute_reply": "2025-07-21T07:38:02.469333Z"
    },
    "papermill": {
     "duration": 0.068491,
     "end_time": "2025-07-21T07:38:02.472981",
     "exception": false,
     "start_time": "2025-07-21T07:38:02.404490",
     "status": "completed"
    },
    "tags": []
   },
   "outputs": [],
   "source": [
    "from fairness_multiverse.conformal import compute_nc_scores\n",
    "\n",
    "# Compute nonconformity scores on calibration set (1 - probability of true class)\n",
    "nc_scores = compute_nc_scores(probs_calib, y_calib)"
   ]
  },
  {
   "cell_type": "code",
   "execution_count": 35,
   "id": "df3b8ca3-53b7-43d5-9667-7c85da7aeda2",
   "metadata": {
    "execution": {
     "iopub.execute_input": "2025-07-21T07:38:02.535760Z",
     "iopub.status.busy": "2025-07-21T07:38:02.535313Z",
     "iopub.status.idle": "2025-07-21T07:38:02.543886Z",
     "shell.execute_reply": "2025-07-21T07:38:02.542788Z"
    },
    "papermill": {
     "duration": 0.048171,
     "end_time": "2025-07-21T07:38:02.545819",
     "exception": false,
     "start_time": "2025-07-21T07:38:02.497648",
     "status": "completed"
    },
    "tags": []
   },
   "outputs": [],
   "source": [
    "from fairness_multiverse.conformal import find_threshold\n",
    "\n",
    "# Find conformal threshold q_hat for the given alpha (split conformal method)\n",
    "q_hat = find_threshold(nc_scores, alpha)"
   ]
  },
  {
   "cell_type": "code",
   "execution_count": 36,
   "id": "4d29e6c1-0ef6-4aa4-b8fe-4fe79b0d033a",
   "metadata": {
    "execution": {
     "iopub.execute_input": "2025-07-21T07:38:02.621537Z",
     "iopub.status.busy": "2025-07-21T07:38:02.621092Z",
     "iopub.status.idle": "2025-07-21T07:38:02.628731Z",
     "shell.execute_reply": "2025-07-21T07:38:02.627716Z"
    },
    "papermill": {
     "duration": 0.033437,
     "end_time": "2025-07-21T07:38:02.630589",
     "exception": false,
     "start_time": "2025-07-21T07:38:02.597152",
     "status": "completed"
    },
    "tags": []
   },
   "outputs": [
    {
     "data": {
      "text/plain": [
       "0.6599999999999999"
      ]
     },
     "execution_count": 36,
     "metadata": {},
     "output_type": "execute_result"
    }
   ],
   "source": [
    "q_hat"
   ]
  },
  {
   "cell_type": "code",
   "execution_count": 37,
   "id": "92460794-cdac-4be2-ba28-f28c0515a6fb",
   "metadata": {
    "execution": {
     "iopub.execute_input": "2025-07-21T07:38:02.678063Z",
     "iopub.status.busy": "2025-07-21T07:38:02.677643Z",
     "iopub.status.idle": "2025-07-21T07:38:05.791174Z",
     "shell.execute_reply": "2025-07-21T07:38:05.790159Z"
    },
    "papermill": {
     "duration": 3.139472,
     "end_time": "2025-07-21T07:38:05.793259",
     "exception": false,
     "start_time": "2025-07-21T07:38:02.653787",
     "status": "completed"
    },
    "tags": []
   },
   "outputs": [],
   "source": [
    "from fairness_multiverse.conformal import predict_conformal_sets\n",
    "\n",
    "# Generate prediction sets for each test example\n",
    "pred_sets = predict_conformal_sets(model, X_test, q_hat)"
   ]
  },
  {
   "cell_type": "code",
   "execution_count": 38,
   "id": "d90c9a65-e6db-4f5d-80cd-e68fb7e46829",
   "metadata": {
    "execution": {
     "iopub.execute_input": "2025-07-21T07:38:05.834060Z",
     "iopub.status.busy": "2025-07-21T07:38:05.833657Z",
     "iopub.status.idle": "2025-07-21T07:38:05.839049Z",
     "shell.execute_reply": "2025-07-21T07:38:05.838101Z"
    },
    "papermill": {
     "duration": 0.027756,
     "end_time": "2025-07-21T07:38:05.841490",
     "exception": false,
     "start_time": "2025-07-21T07:38:05.813734",
     "status": "completed"
    },
    "tags": []
   },
   "outputs": [],
   "source": [
    "y_true = y_true.squeeze()"
   ]
  },
  {
   "cell_type": "code",
   "execution_count": 39,
   "id": "3a58a54a-1e68-46b9-927a-df01f18aebc8",
   "metadata": {
    "execution": {
     "iopub.execute_input": "2025-07-21T07:38:05.882829Z",
     "iopub.status.busy": "2025-07-21T07:38:05.882317Z",
     "iopub.status.idle": "2025-07-21T07:38:07.050282Z",
     "shell.execute_reply": "2025-07-21T07:38:07.049194Z"
    },
    "papermill": {
     "duration": 1.189186,
     "end_time": "2025-07-21T07:38:07.052170",
     "exception": false,
     "start_time": "2025-07-21T07:38:05.862984",
     "status": "completed"
    },
    "tags": []
   },
   "outputs": [],
   "source": [
    "from fairness_multiverse.conformal import evaluate_sets\n",
    "\n",
    "# Evaluate coverage and average set size on test data\n",
    "metrics = evaluate_sets(pred_sets, y_true)"
   ]
  },
  {
   "cell_type": "code",
   "execution_count": 40,
   "id": "5ce0a5cb-201f-45a0-ade5-94c7f0bd6095",
   "metadata": {
    "execution": {
     "iopub.execute_input": "2025-07-21T07:38:07.095400Z",
     "iopub.status.busy": "2025-07-21T07:38:07.094404Z",
     "iopub.status.idle": "2025-07-21T07:38:07.101374Z",
     "shell.execute_reply": "2025-07-21T07:38:07.100492Z"
    },
    "papermill": {
     "duration": 0.031171,
     "end_time": "2025-07-21T07:38:07.103102",
     "exception": false,
     "start_time": "2025-07-21T07:38:07.071931",
     "status": "completed"
    },
    "tags": []
   },
   "outputs": [
    {
     "data": {
      "text/plain": [
       "{'coverage': 0.9149258722550441, 'avg_size': 1.1498495151042247}"
      ]
     },
     "execution_count": 40,
     "metadata": {},
     "output_type": "execute_result"
    }
   ],
   "source": [
    "metrics"
   ]
  },
  {
   "cell_type": "code",
   "execution_count": 41,
   "id": "9b9a838d-31c9-430b-ae14-12baee460d17",
   "metadata": {
    "execution": {
     "iopub.execute_input": "2025-07-21T07:38:07.145805Z",
     "iopub.status.busy": "2025-07-21T07:38:07.145250Z",
     "iopub.status.idle": "2025-07-21T07:38:07.152981Z",
     "shell.execute_reply": "2025-07-21T07:38:07.151755Z"
    },
    "papermill": {
     "duration": 0.032064,
     "end_time": "2025-07-21T07:38:07.154661",
     "exception": false,
     "start_time": "2025-07-21T07:38:07.122597",
     "status": "completed"
    },
    "tags": []
   },
   "outputs": [],
   "source": [
    "example_universe = universe.copy()\n",
    "universe_model = example_universe.get(\"model\")\n",
    "universe_exclude_features = example_universe.get(\"exclude_features\")\n",
    "universe_exclude_subgroups = example_universe.get(\"exclude_subgroups\")"
   ]
  },
  {
   "cell_type": "code",
   "execution_count": 42,
   "id": "f4b6a8ac-9dc0-4245-8a91-5b3b5999c4f9",
   "metadata": {
    "execution": {
     "iopub.execute_input": "2025-07-21T07:38:07.197157Z",
     "iopub.status.busy": "2025-07-21T07:38:07.196530Z",
     "iopub.status.idle": "2025-07-21T07:38:07.204494Z",
     "shell.execute_reply": "2025-07-21T07:38:07.203369Z"
    },
    "papermill": {
     "duration": 0.032292,
     "end_time": "2025-07-21T07:38:07.207334",
     "exception": false,
     "start_time": "2025-07-21T07:38:07.175042",
     "status": "completed"
    },
    "tags": []
   },
   "outputs": [],
   "source": [
    "cp_metrics_dict = {\n",
    "    \"universe_id\": [universe_id],\n",
    "    \"universe_model\": [universe_model],\n",
    "    \"universe_exclude_features\": [universe_exclude_features],\n",
    "    \"universe_exclude_subgroups\": [universe_exclude_subgroups],\n",
    "    \"q_hat\": [q_hat],\n",
    "    \"coverage\": [metrics[\"coverage\"]],\n",
    "    \"avg_size\": [metrics[\"avg_size\"]],\n",
    "}"
   ]
  },
  {
   "cell_type": "code",
   "execution_count": 43,
   "id": "908acbb1-0371-4915-85ca-3fa520d2efe2",
   "metadata": {
    "execution": {
     "iopub.execute_input": "2025-07-21T07:38:07.323493Z",
     "iopub.status.busy": "2025-07-21T07:38:07.322434Z",
     "iopub.status.idle": "2025-07-21T07:38:07.330249Z",
     "shell.execute_reply": "2025-07-21T07:38:07.329386Z"
    },
    "papermill": {
     "duration": 0.066434,
     "end_time": "2025-07-21T07:38:07.335297",
     "exception": false,
     "start_time": "2025-07-21T07:38:07.268863",
     "status": "completed"
    },
    "tags": []
   },
   "outputs": [
    {
     "data": {
      "text/plain": [
       "{'universe_id': ['630882776e420e2a50ab68c1f76a8700'],\n",
       " 'universe_model': ['rf'],\n",
       " 'universe_exclude_features': ['nationality'],\n",
       " 'universe_exclude_subgroups': ['keep-all'],\n",
       " 'q_hat': [0.6599999999999999],\n",
       " 'coverage': [0.9149258722550441],\n",
       " 'avg_size': [1.1498495151042247]}"
      ]
     },
     "execution_count": 43,
     "metadata": {},
     "output_type": "execute_result"
    }
   ],
   "source": [
    "cp_metrics_dict"
   ]
  },
  {
   "cell_type": "code",
   "execution_count": 44,
   "id": "33007efc-14e9-4ec6-97ac-56a455c82265",
   "metadata": {
    "execution": {
     "iopub.execute_input": "2025-07-21T07:38:07.381593Z",
     "iopub.status.busy": "2025-07-21T07:38:07.381144Z",
     "iopub.status.idle": "2025-07-21T07:38:07.454361Z",
     "shell.execute_reply": "2025-07-21T07:38:07.453295Z"
    },
    "papermill": {
     "duration": 0.099423,
     "end_time": "2025-07-21T07:38:07.456169",
     "exception": false,
     "start_time": "2025-07-21T07:38:07.356746",
     "status": "completed"
    },
    "tags": []
   },
   "outputs": [],
   "source": [
    "cp_metrics_df = pd.DataFrame(cp_metrics_dict)"
   ]
  },
  {
   "cell_type": "code",
   "execution_count": 45,
   "id": "db12611b-57b2-4910-b9d0-355adfd6e7bf",
   "metadata": {
    "execution": {
     "iopub.execute_input": "2025-07-21T07:38:07.528364Z",
     "iopub.status.busy": "2025-07-21T07:38:07.527330Z",
     "iopub.status.idle": "2025-07-21T07:38:07.582220Z",
     "shell.execute_reply": "2025-07-21T07:38:07.581022Z"
    },
    "papermill": {
     "duration": 0.104558,
     "end_time": "2025-07-21T07:38:07.584409",
     "exception": false,
     "start_time": "2025-07-21T07:38:07.479851",
     "status": "completed"
    },
    "tags": []
   },
   "outputs": [
    {
     "data": {
      "text/html": [
       "<div>\n",
       "<style scoped>\n",
       "    .dataframe tbody tr th:only-of-type {\n",
       "        vertical-align: middle;\n",
       "    }\n",
       "\n",
       "    .dataframe tbody tr th {\n",
       "        vertical-align: top;\n",
       "    }\n",
       "\n",
       "    .dataframe thead th {\n",
       "        text-align: right;\n",
       "    }\n",
       "</style>\n",
       "<table border=\"1\" class=\"dataframe\">\n",
       "  <thead>\n",
       "    <tr style=\"text-align: right;\">\n",
       "      <th></th>\n",
       "      <th>universe_id</th>\n",
       "      <th>universe_model</th>\n",
       "      <th>universe_exclude_features</th>\n",
       "      <th>universe_exclude_subgroups</th>\n",
       "      <th>q_hat</th>\n",
       "      <th>coverage</th>\n",
       "      <th>avg_size</th>\n",
       "    </tr>\n",
       "  </thead>\n",
       "  <tbody>\n",
       "    <tr>\n",
       "      <th>0</th>\n",
       "      <td>630882776e420e2a50ab68c1f76a8700</td>\n",
       "      <td>rf</td>\n",
       "      <td>nationality</td>\n",
       "      <td>keep-all</td>\n",
       "      <td>0.66</td>\n",
       "      <td>0.914926</td>\n",
       "      <td>1.14985</td>\n",
       "    </tr>\n",
       "  </tbody>\n",
       "</table>\n",
       "</div>"
      ],
      "text/plain": [
       "                        universe_id universe_model universe_exclude_features  \\\n",
       "0  630882776e420e2a50ab68c1f76a8700             rf               nationality   \n",
       "\n",
       "  universe_exclude_subgroups  q_hat  coverage  avg_size  \n",
       "0                   keep-all   0.66  0.914926   1.14985  "
      ]
     },
     "execution_count": 45,
     "metadata": {},
     "output_type": "execute_result"
    }
   ],
   "source": [
    "cp_metrics_df"
   ]
  },
  {
   "cell_type": "code",
   "execution_count": 46,
   "id": "b7fbde55-a0a1-47e4-9af6-fe4a17fa8c61",
   "metadata": {
    "execution": {
     "iopub.execute_input": "2025-07-21T07:38:07.687644Z",
     "iopub.status.busy": "2025-07-21T07:38:07.687193Z",
     "iopub.status.idle": "2025-07-21T07:38:07.694481Z",
     "shell.execute_reply": "2025-07-21T07:38:07.693345Z"
    },
    "papermill": {
     "duration": 0.069583,
     "end_time": "2025-07-21T07:38:07.696429",
     "exception": false,
     "start_time": "2025-07-21T07:38:07.626846",
     "status": "completed"
    },
    "tags": []
   },
   "outputs": [],
   "source": [
    "# Conditional Coverage & looking at subgroups"
   ]
  },
  {
   "cell_type": "code",
   "execution_count": 47,
   "id": "027ae886-68dd-4141-96c7-805a5450e1ef",
   "metadata": {
    "execution": {
     "iopub.execute_input": "2025-07-21T07:38:07.749793Z",
     "iopub.status.busy": "2025-07-21T07:38:07.749276Z",
     "iopub.status.idle": "2025-07-21T07:38:08.036716Z",
     "shell.execute_reply": "2025-07-21T07:38:08.035552Z"
    },
    "papermill": {
     "duration": 0.316042,
     "end_time": "2025-07-21T07:38:08.039109",
     "exception": false,
     "start_time": "2025-07-21T07:38:07.723067",
     "status": "completed"
    },
    "tags": []
   },
   "outputs": [],
   "source": [
    "from fairness_multiverse.conformal import build_cp_groups\n",
    "\n",
    "cp_groups_df = build_cp_groups(pred_sets, y_true, X_test.index, org_test)\n",
    "#needs universe_id and setting"
   ]
  },
  {
   "cell_type": "code",
   "execution_count": 48,
   "id": "c3b92545-903e-4839-89af-0f057907d7d6",
   "metadata": {
    "execution": {
     "iopub.execute_input": "2025-07-21T07:38:08.100944Z",
     "iopub.status.busy": "2025-07-21T07:38:08.100474Z",
     "iopub.status.idle": "2025-07-21T07:38:10.236111Z",
     "shell.execute_reply": "2025-07-21T07:38:10.235190Z"
    },
    "papermill": {
     "duration": 2.173503,
     "end_time": "2025-07-21T07:38:10.237979",
     "exception": false,
     "start_time": "2025-07-21T07:38:08.064476",
     "status": "completed"
    },
    "tags": []
   },
   "outputs": [],
   "source": [
    "# Define covered = 1 if true_label is in the predicted set\n",
    "cp_groups_df['covered'] = cp_groups_df.apply(\n",
    "    lambda r: int(r['true_label'] in r['pred_set']),\n",
    "    axis=1\n",
    ")"
   ]
  },
  {
   "cell_type": "code",
   "execution_count": 49,
   "id": "338ff529-1a6b-4b87-a931-8e4788d52aad",
   "metadata": {
    "execution": {
     "iopub.execute_input": "2025-07-21T07:38:10.280349Z",
     "iopub.status.busy": "2025-07-21T07:38:10.279871Z",
     "iopub.status.idle": "2025-07-21T07:38:10.285167Z",
     "shell.execute_reply": "2025-07-21T07:38:10.284229Z"
    },
    "papermill": {
     "duration": 0.028747,
     "end_time": "2025-07-21T07:38:10.286973",
     "exception": false,
     "start_time": "2025-07-21T07:38:10.258226",
     "status": "completed"
    },
    "tags": []
   },
   "outputs": [],
   "source": [
    "#cp_groups_df"
   ]
  },
  {
   "cell_type": "code",
   "execution_count": 50,
   "id": "90032e27-66df-4540-9169-4e89cfbaa758",
   "metadata": {
    "execution": {
     "iopub.execute_input": "2025-07-21T07:38:10.333556Z",
     "iopub.status.busy": "2025-07-21T07:38:10.332618Z",
     "iopub.status.idle": "2025-07-21T07:38:10.343248Z",
     "shell.execute_reply": "2025-07-21T07:38:10.342382Z"
    },
    "papermill": {
     "duration": 0.04336,
     "end_time": "2025-07-21T07:38:10.353505",
     "exception": false,
     "start_time": "2025-07-21T07:38:10.310145",
     "status": "completed"
    },
    "tags": []
   },
   "outputs": [],
   "source": [
    "subgroups = ['frau1','nongerman','nongerman_male','nongerman_female']\n",
    "\n",
    "# Conditional coverage for subgroup==1\n",
    "cond_coverage = {\n",
    "    g: cp_groups_df.loc[cp_groups_df[g]==1, 'covered'].mean()\n",
    "    for g in subgroups\n",
    "}"
   ]
  },
  {
   "cell_type": "code",
   "execution_count": 51,
   "id": "1e348fb1-b9c3-45bc-ba23-f016827a7e0d",
   "metadata": {
    "execution": {
     "iopub.execute_input": "2025-07-21T07:38:10.377043Z",
     "iopub.status.busy": "2025-07-21T07:38:10.376246Z",
     "iopub.status.idle": "2025-07-21T07:38:10.382508Z",
     "shell.execute_reply": "2025-07-21T07:38:10.381722Z"
    },
    "papermill": {
     "duration": 0.019187,
     "end_time": "2025-07-21T07:38:10.383805",
     "exception": false,
     "start_time": "2025-07-21T07:38:10.364618",
     "status": "completed"
    },
    "tags": []
   },
   "outputs": [
    {
     "data": {
      "text/plain": [
       "{'frau1': 0.9141932875050546,\n",
       " 'nongerman': 0.9074271599393702,\n",
       " 'nongerman_male': 0.9196613527875349,\n",
       " 'nongerman_female': 0.8871833084947839}"
      ]
     },
     "execution_count": 51,
     "metadata": {},
     "output_type": "execute_result"
    }
   ],
   "source": [
    "cond_coverage"
   ]
  },
  {
   "cell_type": "code",
   "execution_count": 52,
   "id": "f5093324-c3dd-4d63-bc4c-8d945e5c8bbb",
   "metadata": {
    "execution": {
     "iopub.execute_input": "2025-07-21T07:38:10.412176Z",
     "iopub.status.busy": "2025-07-21T07:38:10.411473Z",
     "iopub.status.idle": "2025-07-21T07:38:10.417519Z",
     "shell.execute_reply": "2025-07-21T07:38:10.416760Z"
    },
    "papermill": {
     "duration": 0.019379,
     "end_time": "2025-07-21T07:38:10.418845",
     "exception": false,
     "start_time": "2025-07-21T07:38:10.399466",
     "status": "completed"
    },
    "tags": []
   },
   "outputs": [],
   "source": [
    "for subgroup, cov in cond_coverage.items():\n",
    "    cp_metrics_df[f\"cov_{subgroup}\"] = cov"
   ]
  },
  {
   "cell_type": "code",
   "execution_count": 53,
   "id": "6e872e10-dbe5-49e8-b554-5030c98ff75d",
   "metadata": {
    "execution": {
     "iopub.execute_input": "2025-07-21T07:38:10.445533Z",
     "iopub.status.busy": "2025-07-21T07:38:10.445138Z",
     "iopub.status.idle": "2025-07-21T07:38:10.463485Z",
     "shell.execute_reply": "2025-07-21T07:38:10.462399Z"
    },
    "papermill": {
     "duration": 0.035183,
     "end_time": "2025-07-21T07:38:10.465388",
     "exception": false,
     "start_time": "2025-07-21T07:38:10.430205",
     "status": "completed"
    },
    "tags": []
   },
   "outputs": [
    {
     "data": {
      "text/html": [
       "<div>\n",
       "<style scoped>\n",
       "    .dataframe tbody tr th:only-of-type {\n",
       "        vertical-align: middle;\n",
       "    }\n",
       "\n",
       "    .dataframe tbody tr th {\n",
       "        vertical-align: top;\n",
       "    }\n",
       "\n",
       "    .dataframe thead th {\n",
       "        text-align: right;\n",
       "    }\n",
       "</style>\n",
       "<table border=\"1\" class=\"dataframe\">\n",
       "  <thead>\n",
       "    <tr style=\"text-align: right;\">\n",
       "      <th></th>\n",
       "      <th>universe_id</th>\n",
       "      <th>universe_model</th>\n",
       "      <th>universe_exclude_features</th>\n",
       "      <th>universe_exclude_subgroups</th>\n",
       "      <th>q_hat</th>\n",
       "      <th>coverage</th>\n",
       "      <th>avg_size</th>\n",
       "      <th>cov_frau1</th>\n",
       "      <th>cov_nongerman</th>\n",
       "      <th>cov_nongerman_male</th>\n",
       "      <th>cov_nongerman_female</th>\n",
       "    </tr>\n",
       "  </thead>\n",
       "  <tbody>\n",
       "    <tr>\n",
       "      <th>0</th>\n",
       "      <td>630882776e420e2a50ab68c1f76a8700</td>\n",
       "      <td>rf</td>\n",
       "      <td>nationality</td>\n",
       "      <td>keep-all</td>\n",
       "      <td>0.66</td>\n",
       "      <td>0.914926</td>\n",
       "      <td>1.14985</td>\n",
       "      <td>0.914193</td>\n",
       "      <td>0.907427</td>\n",
       "      <td>0.919661</td>\n",
       "      <td>0.887183</td>\n",
       "    </tr>\n",
       "  </tbody>\n",
       "</table>\n",
       "</div>"
      ],
      "text/plain": [
       "                        universe_id universe_model universe_exclude_features  \\\n",
       "0  630882776e420e2a50ab68c1f76a8700             rf               nationality   \n",
       "\n",
       "  universe_exclude_subgroups  q_hat  coverage  avg_size  cov_frau1  \\\n",
       "0                   keep-all   0.66  0.914926   1.14985   0.914193   \n",
       "\n",
       "   cov_nongerman  cov_nongerman_male  cov_nongerman_female  \n",
       "0       0.907427            0.919661              0.887183  "
      ]
     },
     "execution_count": 53,
     "metadata": {},
     "output_type": "execute_result"
    }
   ],
   "source": [
    "cp_metrics_df"
   ]
  },
  {
   "cell_type": "markdown",
   "id": "33774451",
   "metadata": {
    "papermill": {
     "duration": 0.022486,
     "end_time": "2025-07-21T07:38:10.510942",
     "exception": false,
     "start_time": "2025-07-21T07:38:10.488456",
     "status": "completed"
    },
    "tags": []
   },
   "source": [
    "# (Fairness) Metrics"
   ]
  },
  {
   "cell_type": "code",
   "execution_count": 54,
   "id": "debc5d62",
   "metadata": {
    "execution": {
     "iopub.execute_input": "2025-07-21T07:38:10.557738Z",
     "iopub.status.busy": "2025-07-21T07:38:10.557044Z",
     "iopub.status.idle": "2025-07-21T07:38:10.577682Z",
     "shell.execute_reply": "2025-07-21T07:38:10.576654Z"
    },
    "papermill": {
     "duration": 0.046369,
     "end_time": "2025-07-21T07:38:10.579675",
     "exception": false,
     "start_time": "2025-07-21T07:38:10.533306",
     "status": "completed"
    },
    "tags": []
   },
   "outputs": [],
   "source": [
    "# do I need to include maxdeutsch1.missing?\n",
    "\n",
    "import numpy as np\n",
    "\n",
    "colname_to_bin = \"maxdeutsch1\"\n",
    "majority_value = org_train[colname_to_bin].mode()[0]\n",
    "\n",
    "org_test[\"majmin\"] = np.where(org_test[colname_to_bin] == majority_value, \"majority\", \"minority\")"
   ]
  },
  {
   "cell_type": "code",
   "execution_count": 55,
   "id": "06a50de5",
   "metadata": {
    "execution": {
     "iopub.execute_input": "2025-07-21T07:38:10.627055Z",
     "iopub.status.busy": "2025-07-21T07:38:10.626539Z",
     "iopub.status.idle": "2025-07-21T07:38:13.134027Z",
     "shell.execute_reply": "2025-07-21T07:38:13.133046Z"
    },
    "papermill": {
     "duration": 2.533563,
     "end_time": "2025-07-21T07:38:13.136300",
     "exception": false,
     "start_time": "2025-07-21T07:38:10.602737",
     "status": "completed"
    },
    "tags": []
   },
   "outputs": [],
   "source": [
    "example_universe = universe.copy()\n",
    "example_universe[\"cutoff\"] = example_universe[\"cutoff\"][0]\n",
    "example_universe[\"eval_fairness_grouping\"] = example_universe[\"eval_fairness_grouping\"][0]\n",
    "fairness_dict, metric_frame = universe_analysis.compute_metrics(\n",
    "    example_universe,\n",
    "    y_pred_prob=probs_test,\n",
    "    y_test=y_true,\n",
    "    org_test=org_test,\n",
    ")"
   ]
  },
  {
   "cell_type": "markdown",
   "id": "f95d4e02",
   "metadata": {
    "papermill": {
     "duration": 0.025512,
     "end_time": "2025-07-21T07:38:13.185407",
     "exception": false,
     "start_time": "2025-07-21T07:38:13.159895",
     "status": "completed"
    },
    "tags": []
   },
   "source": [
    "# Overall"
   ]
  },
  {
   "cell_type": "markdown",
   "id": "bdee4871",
   "metadata": {
    "papermill": {
     "duration": 0.023701,
     "end_time": "2025-07-21T07:38:13.232504",
     "exception": false,
     "start_time": "2025-07-21T07:38:13.208803",
     "status": "completed"
    },
    "tags": []
   },
   "source": [
    "Fairness\n",
    "Main fairness target: Equalized Odds. Seems to be a better fit than equal opportunity, since we're not only interested in Y = 1. Seems to be a better fit than demographic parity, since we also care about accuracy, not just equal distribution of preds.\n",
    "\n",
    "Pick column for computation of fairness metrics\n",
    "\n",
    "Performance\n",
    "Overall performance measures, most interesting in relation to the measures split by group below"
   ]
  },
  {
   "cell_type": "code",
   "execution_count": 56,
   "id": "c4e067c6",
   "metadata": {
    "execution": {
     "iopub.execute_input": "2025-07-21T07:38:13.281607Z",
     "iopub.status.busy": "2025-07-21T07:38:13.281061Z",
     "iopub.status.idle": "2025-07-21T07:38:13.290768Z",
     "shell.execute_reply": "2025-07-21T07:38:13.289851Z"
    },
    "papermill": {
     "duration": 0.036522,
     "end_time": "2025-07-21T07:38:13.292537",
     "exception": false,
     "start_time": "2025-07-21T07:38:13.256015",
     "status": "completed"
    },
    "tags": []
   },
   "outputs": [
    {
     "data": {
      "text/plain": [
       "accuracy                   0.222071\n",
       "balanced accuracy          0.543829\n",
       "f1                         0.243622\n",
       "precision                  0.139169\n",
       "false positive rate        0.888967\n",
       "false negative rate        0.023375\n",
       "selection rate             0.900212\n",
       "count                  89710.000000\n",
       "dtype: float64"
      ]
     },
     "execution_count": 56,
     "metadata": {},
     "output_type": "execute_result"
    }
   ],
   "source": [
    "metric_frame.overall"
   ]
  },
  {
   "cell_type": "markdown",
   "id": "e968fe9d",
   "metadata": {
    "papermill": {
     "duration": 0.023454,
     "end_time": "2025-07-21T07:38:13.341111",
     "exception": false,
     "start_time": "2025-07-21T07:38:13.317657",
     "status": "completed"
    },
    "tags": []
   },
   "source": [
    "By Group"
   ]
  },
  {
   "cell_type": "code",
   "execution_count": 57,
   "id": "ec325bce",
   "metadata": {
    "execution": {
     "iopub.execute_input": "2025-07-21T07:38:13.392150Z",
     "iopub.status.busy": "2025-07-21T07:38:13.391410Z",
     "iopub.status.idle": "2025-07-21T07:38:13.409649Z",
     "shell.execute_reply": "2025-07-21T07:38:13.408614Z"
    },
    "papermill": {
     "duration": 0.047122,
     "end_time": "2025-07-21T07:38:13.411512",
     "exception": false,
     "start_time": "2025-07-21T07:38:13.364390",
     "status": "completed"
    },
    "tags": []
   },
   "outputs": [
    {
     "data": {
      "text/html": [
       "<div>\n",
       "<style scoped>\n",
       "    .dataframe tbody tr th:only-of-type {\n",
       "        vertical-align: middle;\n",
       "    }\n",
       "\n",
       "    .dataframe tbody tr th {\n",
       "        vertical-align: top;\n",
       "    }\n",
       "\n",
       "    .dataframe thead th {\n",
       "        text-align: right;\n",
       "    }\n",
       "</style>\n",
       "<table border=\"1\" class=\"dataframe\">\n",
       "  <thead>\n",
       "    <tr style=\"text-align: right;\">\n",
       "      <th></th>\n",
       "      <th>accuracy</th>\n",
       "      <th>balanced accuracy</th>\n",
       "      <th>f1</th>\n",
       "      <th>precision</th>\n",
       "      <th>false positive rate</th>\n",
       "      <th>false negative rate</th>\n",
       "      <th>selection rate</th>\n",
       "      <th>count</th>\n",
       "    </tr>\n",
       "    <tr>\n",
       "      <th>majmin</th>\n",
       "      <th></th>\n",
       "      <th></th>\n",
       "      <th></th>\n",
       "      <th></th>\n",
       "      <th></th>\n",
       "      <th></th>\n",
       "      <th></th>\n",
       "      <th></th>\n",
       "    </tr>\n",
       "  </thead>\n",
       "  <tbody>\n",
       "    <tr>\n",
       "      <th>majority</th>\n",
       "      <td>0.217291</td>\n",
       "      <td>0.543308</td>\n",
       "      <td>0.249848</td>\n",
       "      <td>0.143038</td>\n",
       "      <td>0.899817</td>\n",
       "      <td>0.013567</td>\n",
       "      <td>0.911262</td>\n",
       "      <td>69170.0</td>\n",
       "    </tr>\n",
       "    <tr>\n",
       "      <th>minority</th>\n",
       "      <td>0.238169</td>\n",
       "      <td>0.542821</td>\n",
       "      <td>0.221260</td>\n",
       "      <td>0.125409</td>\n",
       "      <td>0.853126</td>\n",
       "      <td>0.061233</td>\n",
       "      <td>0.862999</td>\n",
       "      <td>20540.0</td>\n",
       "    </tr>\n",
       "  </tbody>\n",
       "</table>\n",
       "</div>"
      ],
      "text/plain": [
       "          accuracy  balanced accuracy        f1  precision  \\\n",
       "majmin                                                       \n",
       "majority  0.217291           0.543308  0.249848   0.143038   \n",
       "minority  0.238169           0.542821  0.221260   0.125409   \n",
       "\n",
       "          false positive rate  false negative rate  selection rate    count  \n",
       "majmin                                                                       \n",
       "majority             0.899817             0.013567        0.911262  69170.0  \n",
       "minority             0.853126             0.061233        0.862999  20540.0  "
      ]
     },
     "execution_count": 57,
     "metadata": {},
     "output_type": "execute_result"
    }
   ],
   "source": [
    "metric_frame.by_group"
   ]
  },
  {
   "cell_type": "code",
   "execution_count": 58,
   "id": "a9ddbe63",
   "metadata": {
    "execution": {
     "iopub.execute_input": "2025-07-21T07:38:13.459155Z",
     "iopub.status.busy": "2025-07-21T07:38:13.458408Z",
     "iopub.status.idle": "2025-07-21T07:38:16.072836Z",
     "shell.execute_reply": "2025-07-21T07:38:16.071836Z"
    },
    "papermill": {
     "duration": 2.63967,
     "end_time": "2025-07-21T07:38:16.074802",
     "exception": false,
     "start_time": "2025-07-21T07:38:13.435132",
     "status": "completed"
    },
    "tags": []
   },
   "outputs": [
    {
     "data": {
      "text/plain": [
       "array([[<Axes: title={'center': 'accuracy'}, xlabel='majmin'>,\n",
       "        <Axes: title={'center': 'balanced accuracy'}, xlabel='majmin'>,\n",
       "        <Axes: title={'center': 'f1'}, xlabel='majmin'>],\n",
       "       [<Axes: title={'center': 'precision'}, xlabel='majmin'>,\n",
       "        <Axes: title={'center': 'false positive rate'}, xlabel='majmin'>,\n",
       "        <Axes: title={'center': 'false negative rate'}, xlabel='majmin'>],\n",
       "       [<Axes: title={'center': 'selection rate'}, xlabel='majmin'>,\n",
       "        <Axes: title={'center': 'count'}, xlabel='majmin'>,\n",
       "        <Axes: xlabel='majmin'>]], dtype=object)"
      ]
     },
     "execution_count": 58,
     "metadata": {},
     "output_type": "execute_result"
    },
    {
     "data": {
      "image/png": "[encoded data removed]",
      "text/plain": [
       "<Figure size 1200x800 with 9 Axes>"
      ]
     },
     "metadata": {},
     "output_type": "display_data"
    }
   ],
   "source": [
    "# In a graphic\n",
    "metric_frame.by_group.plot.bar(\n",
    "    subplots=True,\n",
    "    layout=[3, 3],\n",
    "    legend=False,\n",
    "    figsize=[12, 8],\n",
    "    title=\"Show all metrics\",\n",
    ")"
   ]
  },
  {
   "cell_type": "markdown",
   "id": "f57a0bac",
   "metadata": {
    "papermill": {
     "duration": 0.024421,
     "end_time": "2025-07-21T07:38:16.126137",
     "exception": false,
     "start_time": "2025-07-21T07:38:16.101716",
     "status": "completed"
    },
    "tags": []
   },
   "source": [
    "# Final Output"
   ]
  },
  {
   "cell_type": "code",
   "execution_count": 59,
   "id": "96d280a3",
   "metadata": {
    "execution": {
     "iopub.execute_input": "2025-07-21T07:38:16.175389Z",
     "iopub.status.busy": "2025-07-21T07:38:16.174480Z",
     "iopub.status.idle": "2025-07-21T07:38:16.183116Z",
     "shell.execute_reply": "2025-07-21T07:38:16.182127Z"
    },
    "papermill": {
     "duration": 0.036026,
     "end_time": "2025-07-21T07:38:16.184975",
     "exception": false,
     "start_time": "2025-07-21T07:38:16.148949",
     "status": "completed"
    },
    "tags": []
   },
   "outputs": [
    {
     "data": {
      "text/plain": [
       "4"
      ]
     },
     "execution_count": 59,
     "metadata": {},
     "output_type": "execute_result"
    }
   ],
   "source": [
    "sub_universes = universe_analysis.generate_sub_universes()\n",
    "len(sub_universes)"
   ]
  },
  {
   "cell_type": "code",
   "execution_count": 60,
   "id": "92adf7ba",
   "metadata": {
    "execution": {
     "iopub.execute_input": "2025-07-21T07:38:16.254755Z",
     "iopub.status.busy": "2025-07-21T07:38:16.253467Z",
     "iopub.status.idle": "2025-07-21T07:38:16.260774Z",
     "shell.execute_reply": "2025-07-21T07:38:16.259773Z"
    },
    "papermill": {
     "duration": 0.052235,
     "end_time": "2025-07-21T07:38:16.262530",
     "exception": false,
     "start_time": "2025-07-21T07:38:16.210295",
     "status": "completed"
    },
    "tags": []
   },
   "outputs": [],
   "source": [
    "def filter_sub_universe_data(sub_universe, org_test):\n",
    "    # Keep all rows — no filtering\n",
    "    keep_rows_mask = np.ones(org_test.shape[0], dtype=bool)\n",
    "\n",
    "    print(f\"[INFO] Keeping all rows: {keep_rows_mask.sum()} rows retained.\")\n",
    "    return keep_rows_mask"
   ]
  },
  {
   "cell_type": "code",
   "execution_count": 61,
   "id": "4a759155",
   "metadata": {
    "execution": {
     "iopub.execute_input": "2025-07-21T07:38:16.317091Z",
     "iopub.status.busy": "2025-07-21T07:38:16.316242Z",
     "iopub.status.idle": "2025-07-21T07:38:27.937852Z",
     "shell.execute_reply": "2025-07-21T07:38:27.936731Z"
    },
    "papermill": {
     "duration": 11.650842,
     "end_time": "2025-07-21T07:38:27.939552",
     "exception": false,
     "start_time": "2025-07-21T07:38:16.288710",
     "status": "completed"
    },
    "tags": []
   },
   "outputs": [
    {
     "name": "stdout",
     "output_type": "stream",
     "text": [
      "Stopping execution_time clock.\n",
      "[INFO] Keeping all rows: 89710 rows retained.\n"
     ]
    },
    {
     "name": "stdout",
     "output_type": "stream",
     "text": [
      "[INFO] Keeping all rows: 89710 rows retained.\n"
     ]
    },
    {
     "name": "stdout",
     "output_type": "stream",
     "text": [
      "[INFO] Keeping all rows: 89710 rows retained.\n"
     ]
    },
    {
     "name": "stdout",
     "output_type": "stream",
     "text": [
      "[INFO] Keeping all rows: 89710 rows retained.\n"
     ]
    },
    {
     "data": {
      "text/html": [
       "<div>\n",
       "<style scoped>\n",
       "    .dataframe tbody tr th:only-of-type {\n",
       "        vertical-align: middle;\n",
       "    }\n",
       "\n",
       "    .dataframe tbody tr th {\n",
       "        vertical-align: top;\n",
       "    }\n",
       "\n",
       "    .dataframe thead th {\n",
       "        text-align: right;\n",
       "    }\n",
       "</style>\n",
       "<table border=\"1\" class=\"dataframe\">\n",
       "  <thead>\n",
       "    <tr style=\"text-align: right;\">\n",
       "      <th></th>\n",
       "      <th>run_no</th>\n",
       "      <th>universe_id</th>\n",
       "      <th>universe_settings</th>\n",
       "      <th>execution_time</th>\n",
       "      <th>test_size_n</th>\n",
       "      <th>test_size_frac</th>\n",
       "      <th>fair_main_equalized_odds_difference</th>\n",
       "      <th>fair_main_equalized_odds_ratio</th>\n",
       "      <th>fair_main_demographic_parity_difference</th>\n",
       "      <th>fair_main_demographic_parity_ratio</th>\n",
       "      <th>...</th>\n",
       "      <th>perf_grp_precision_0</th>\n",
       "      <th>perf_grp_precision_1</th>\n",
       "      <th>perf_grp_false positive rate_0</th>\n",
       "      <th>perf_grp_false positive rate_1</th>\n",
       "      <th>perf_grp_false negative rate_0</th>\n",
       "      <th>perf_grp_false negative rate_1</th>\n",
       "      <th>perf_grp_selection rate_0</th>\n",
       "      <th>perf_grp_selection rate_1</th>\n",
       "      <th>perf_grp_count_0</th>\n",
       "      <th>perf_grp_count_1</th>\n",
       "    </tr>\n",
       "  </thead>\n",
       "  <tbody>\n",
       "    <tr>\n",
       "      <th>0</th>\n",
       "      <td>2</td>\n",
       "      <td>630882776e420e2a50ab68c1f76a8700</td>\n",
       "      <td>{\"cutoff\": \"quantile_0.1\", \"eval_fairness_grou...</td>\n",
       "      <td>44.114581</td>\n",
       "      <td>89710</td>\n",
       "      <td>1.0</td>\n",
       "      <td>0.047666</td>\n",
       "      <td>0.948110</td>\n",
       "      <td>0.048263</td>\n",
       "      <td>0.947037</td>\n",
       "      <td>...</td>\n",
       "      <td>NaN</td>\n",
       "      <td>NaN</td>\n",
       "      <td>NaN</td>\n",
       "      <td>NaN</td>\n",
       "      <td>NaN</td>\n",
       "      <td>NaN</td>\n",
       "      <td>NaN</td>\n",
       "      <td>NaN</td>\n",
       "      <td>NaN</td>\n",
       "      <td>NaN</td>\n",
       "    </tr>\n",
       "    <tr>\n",
       "      <th>0</th>\n",
       "      <td>2</td>\n",
       "      <td>630882776e420e2a50ab68c1f76a8700</td>\n",
       "      <td>{\"cutoff\": \"quantile_0.1\", \"eval_fairness_grou...</td>\n",
       "      <td>44.114581</td>\n",
       "      <td>89710</td>\n",
       "      <td>1.0</td>\n",
       "      <td>0.047666</td>\n",
       "      <td>0.948110</td>\n",
       "      <td>0.048263</td>\n",
       "      <td>0.947037</td>\n",
       "      <td>...</td>\n",
       "      <td>0.125409</td>\n",
       "      <td>0.143038</td>\n",
       "      <td>0.853126</td>\n",
       "      <td>0.899817</td>\n",
       "      <td>0.061233</td>\n",
       "      <td>0.013567</td>\n",
       "      <td>0.862999</td>\n",
       "      <td>0.911262</td>\n",
       "      <td>20540.0</td>\n",
       "      <td>69170.0</td>\n",
       "    </tr>\n",
       "    <tr>\n",
       "      <th>0</th>\n",
       "      <td>2</td>\n",
       "      <td>630882776e420e2a50ab68c1f76a8700</td>\n",
       "      <td>{\"cutoff\": \"quantile_0.25\", \"eval_fairness_gro...</td>\n",
       "      <td>44.114581</td>\n",
       "      <td>89710</td>\n",
       "      <td>1.0</td>\n",
       "      <td>0.091468</td>\n",
       "      <td>0.904017</td>\n",
       "      <td>0.065392</td>\n",
       "      <td>0.915061</td>\n",
       "      <td>...</td>\n",
       "      <td>NaN</td>\n",
       "      <td>NaN</td>\n",
       "      <td>NaN</td>\n",
       "      <td>NaN</td>\n",
       "      <td>NaN</td>\n",
       "      <td>NaN</td>\n",
       "      <td>NaN</td>\n",
       "      <td>NaN</td>\n",
       "      <td>NaN</td>\n",
       "      <td>NaN</td>\n",
       "    </tr>\n",
       "    <tr>\n",
       "      <th>0</th>\n",
       "      <td>2</td>\n",
       "      <td>630882776e420e2a50ab68c1f76a8700</td>\n",
       "      <td>{\"cutoff\": \"quantile_0.25\", \"eval_fairness_gro...</td>\n",
       "      <td>44.114581</td>\n",
       "      <td>89710</td>\n",
       "      <td>1.0</td>\n",
       "      <td>0.091468</td>\n",
       "      <td>0.904017</td>\n",
       "      <td>0.065392</td>\n",
       "      <td>0.915061</td>\n",
       "      <td>...</td>\n",
       "      <td>0.140981</td>\n",
       "      <td>0.163562</td>\n",
       "      <td>0.684019</td>\n",
       "      <td>0.741996</td>\n",
       "      <td>0.138514</td>\n",
       "      <td>0.047046</td>\n",
       "      <td>0.704479</td>\n",
       "      <td>0.769871</td>\n",
       "      <td>20540.0</td>\n",
       "      <td>69170.0</td>\n",
       "    </tr>\n",
       "  </tbody>\n",
       "</table>\n",
       "<p>4 rows × 50 columns</p>\n",
       "</div>"
      ],
      "text/plain": [
       "  run_no                       universe_id  \\\n",
       "0      2  630882776e420e2a50ab68c1f76a8700   \n",
       "0      2  630882776e420e2a50ab68c1f76a8700   \n",
       "0      2  630882776e420e2a50ab68c1f76a8700   \n",
       "0      2  630882776e420e2a50ab68c1f76a8700   \n",
       "\n",
       "                                   universe_settings  execution_time  \\\n",
       "0  {\"cutoff\": \"quantile_0.1\", \"eval_fairness_grou...       44.114581   \n",
       "0  {\"cutoff\": \"quantile_0.1\", \"eval_fairness_grou...       44.114581   \n",
       "0  {\"cutoff\": \"quantile_0.25\", \"eval_fairness_gro...       44.114581   \n",
       "0  {\"cutoff\": \"quantile_0.25\", \"eval_fairness_gro...       44.114581   \n",
       "\n",
       "   test_size_n  test_size_frac  fair_main_equalized_odds_difference  \\\n",
       "0        89710             1.0                             0.047666   \n",
       "0        89710             1.0                             0.047666   \n",
       "0        89710             1.0                             0.091468   \n",
       "0        89710             1.0                             0.091468   \n",
       "\n",
       "   fair_main_equalized_odds_ratio  fair_main_demographic_parity_difference  \\\n",
       "0                        0.948110                                 0.048263   \n",
       "0                        0.948110                                 0.048263   \n",
       "0                        0.904017                                 0.065392   \n",
       "0                        0.904017                                 0.065392   \n",
       "\n",
       "   fair_main_demographic_parity_ratio  ...  perf_grp_precision_0  \\\n",
       "0                            0.947037  ...                   NaN   \n",
       "0                            0.947037  ...              0.125409   \n",
       "0                            0.915061  ...                   NaN   \n",
       "0                            0.915061  ...              0.140981   \n",
       "\n",
       "   perf_grp_precision_1  perf_grp_false positive rate_0  \\\n",
       "0                   NaN                             NaN   \n",
       "0              0.143038                        0.853126   \n",
       "0                   NaN                             NaN   \n",
       "0              0.163562                        0.684019   \n",
       "\n",
       "   perf_grp_false positive rate_1  perf_grp_false negative rate_0  \\\n",
       "0                             NaN                             NaN   \n",
       "0                        0.899817                        0.061233   \n",
       "0                             NaN                             NaN   \n",
       "0                        0.741996                        0.138514   \n",
       "\n",
       "   perf_grp_false negative rate_1  perf_grp_selection rate_0  \\\n",
       "0                             NaN                        NaN   \n",
       "0                        0.013567                   0.862999   \n",
       "0                             NaN                        NaN   \n",
       "0                        0.047046                   0.704479   \n",
       "\n",
       "   perf_grp_selection rate_1  perf_grp_count_0  perf_grp_count_1  \n",
       "0                        NaN               NaN               NaN  \n",
       "0                   0.911262           20540.0           69170.0  \n",
       "0                        NaN               NaN               NaN  \n",
       "0                   0.769871           20540.0           69170.0  \n",
       "\n",
       "[4 rows x 50 columns]"
      ]
     },
     "execution_count": 61,
     "metadata": {},
     "output_type": "execute_result"
    }
   ],
   "source": [
    "final_output = universe_analysis.generate_final_output(\n",
    "    y_pred_prob=probs_test,\n",
    "    y_test=y_true,\n",
    "    org_test=org_test,\n",
    "    filter_data=filter_sub_universe_data,\n",
    "    cp_metrics_df=cp_metrics_df,\n",
    "    save=True,\n",
    ")\n",
    "final_output"
   ]
  },
  {
   "cell_type": "code",
   "execution_count": null,
   "id": "721ff514-cb11-46f8-b6fc-50392f74b5cb",
   "metadata": {
    "papermill": {
     "duration": 0.025643,
     "end_time": "2025-07-21T07:38:27.993719",
     "exception": false,
     "start_time": "2025-07-21T07:38:27.968076",
     "status": "completed"
    },
    "tags": []
   },
   "outputs": [],
   "source": []
  }
 ],
 "metadata": {
  "celltoolbar": "Tags",
  "kernelspec": {
   "display_name": "Python (CMA Fairness)",
   "language": "python",
   "name": "cma_fair_env"
  },
  "language_info": {
   "codemirror_mode": {
    "name": "ipython",
    "version": 3
   },
   "file_extension": ".py",
   "mimetype": "text/x-python",
   "name": "python",
   "nbconvert_exporter": "python",
   "pygments_lexer": "ipython3",
   "version": "3.10.12"
  },
  "papermill": {
   "default_parameters": {},
   "duration": 59.834917,
   "end_time": "2025-07-21T07:38:28.839794",
   "environment_variables": {},
   "exception": null,
   "input_path": "universe_analysis.ipynb",
   "output_path": "output/runs/2/notebooks/m_2-630882776e420e2a50ab68c1f76a8700.ipynb",
   "parameters": {
    "output_dir": "output",
    "run_no": "2",
    "seed": "2023",
    "universe": "{\"cutoff\": [\"quantile_0.1\", \"quantile_0.25\"], \"eval_fairness_grouping\": [\"majority-minority\", \"nationality-all\"], \"exclude_features\": \"nationality\", \"exclude_subgroups\": \"keep-all\", \"model\": \"rf\"}",
    "universe_id": "630882776e420e2a50ab68c1f76a8700"
   },
   "start_time": "2025-07-21T07:37:29.004877",
   "version": "2.6.0"
  }
 },
 "nbformat": 4,
 "nbformat_minor": 5
}