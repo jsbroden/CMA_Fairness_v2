{
 "cells": [
  {
   "cell_type": "code",
   "execution_count": 1,
   "id": "f159f837-637b-42ba-96b5-ec9a68c44524",
   "metadata": {
    "execution": {
     "iopub.execute_input": "2025-07-21T07:35:54.543046Z",
     "iopub.status.busy": "2025-07-21T07:35:54.542564Z",
     "iopub.status.idle": "2025-07-21T07:35:54.556103Z",
     "shell.execute_reply": "2025-07-21T07:35:54.554818Z"
    },
    "papermill": {
     "duration": 0.027121,
     "end_time": "2025-07-21T07:35:54.558017",
     "exception": false,
     "start_time": "2025-07-21T07:35:54.530896",
     "status": "completed"
    },
    "tags": []
   },
   "outputs": [
    {
     "name": "stdout",
     "output_type": "stream",
     "text": [
      "/dss/dsshome1/0C/ra93lal2/cma/CMA_Fairness_v2\n"
     ]
    },
    {
     "name": "stderr",
     "output_type": "stream",
     "text": [
      "/dss/dsshome1/0C/ra93lal2/.local/share/virtualenvs/CMA_Fairness_v2-3j10GkSs/lib/python3.10/site-packages/IPython/core/magics/osm.py:393: UserWarning: This is now an optional IPython functionality, using bookmarks requires you to install the `pickleshare` library.\n",
      "  bkms = self.shell.db.get('bookmarks', {})\n",
      "/dss/dsshome1/0C/ra93lal2/.local/share/virtualenvs/CMA_Fairness_v2-3j10GkSs/lib/python3.10/site-packages/IPython/core/magics/osm.py:417: UserWarning: This is now an optional IPython functionality, setting dhist requires you to install the `pickleshare` library.\n",
      "  self.shell.db['dhist'] = compress_dhist(dhist)[-100:]\n"
     ]
    }
   ],
   "source": [
    "%cd ~/cma/CMA_Fairness_v2"
   ]
  },
  {
   "cell_type": "markdown",
   "id": "de2603b9",
   "metadata": {
    "papermill": {
     "duration": 0.010707,
     "end_time": "2025-07-21T07:35:54.580260",
     "exception": false,
     "start_time": "2025-07-21T07:35:54.569553",
     "status": "completed"
    },
    "tags": []
   },
   "source": [
    "The following cell holds the definition of our parameters, these values can be overriden by rendering the with e.g. the following command:\n",
    "\n",
    "papermill -p alpha 0.2 -p ratio 0.3 universe_analysis.ipynb output/test_run.ipynb"
   ]
  },
  {
   "cell_type": "code",
   "execution_count": 2,
   "id": "a80968a0-40bb-4fa9-85ef-2d5eefb01975",
   "metadata": {
    "execution": {
     "iopub.execute_input": "2025-07-21T07:35:54.616973Z",
     "iopub.status.busy": "2025-07-21T07:35:54.616505Z",
     "iopub.status.idle": "2025-07-21T07:35:54.621933Z",
     "shell.execute_reply": "2025-07-21T07:35:54.620815Z"
    },
    "papermill": {
     "duration": 0.025217,
     "end_time": "2025-07-21T07:35:54.623634",
     "exception": false,
     "start_time": "2025-07-21T07:35:54.598417",
     "status": "completed"
    },
    "tags": []
   },
   "outputs": [
    {
     "name": "stdout",
     "output_type": "stream",
     "text": [
      "Current working directory: /dss/dsshome1/0C/ra93lal2/cma/CMA_Fairness_v2\n"
     ]
    }
   ],
   "source": [
    "import os\n",
    "print(\"Current working directory:\", os.getcwd())"
   ]
  },
  {
   "cell_type": "code",
   "execution_count": 3,
   "id": "2dce4c03",
   "metadata": {
    "execution": {
     "iopub.execute_input": "2025-07-21T07:35:54.663182Z",
     "iopub.status.busy": "2025-07-21T07:35:54.662864Z",
     "iopub.status.idle": "2025-07-21T07:35:54.668207Z",
     "shell.execute_reply": "2025-07-21T07:35:54.667159Z"
    },
    "papermill": {
     "duration": 0.027142,
     "end_time": "2025-07-21T07:35:54.669731",
     "exception": false,
     "start_time": "2025-07-21T07:35:54.642589",
     "status": "completed"
    },
    "tags": [
     "parameters"
    ]
   },
   "outputs": [],
   "source": [
    "run_no = 0\n",
    "universe_id = \"test\"\n",
    "universe = {\n",
    "    #\"scale\": \"scale\", # \"scale\", \"do-not-scale\",\n",
    "    #\"encode_categorical\": \"one-hot\", # \"ordinal\", \"one-hot\"\n",
    "    \"model\": \"elasticnet\", # \"logreg\", \"penalized_logreg\", \"rf\", \"gbm\", \"elasticnet\"\n",
    "    \"cutoff\": [\"quantile_0.15\", \"quantile_0.30\"],\n",
    "    \"exclude_features\": \"nationality-sex\", # \"none\", \"nationality\", \"sex\", \"nationality-sex\"\n",
    "    \"exclude_subgroups\": \"keep-all\", # \"keep-all\", \"drop-non-german\"\n",
    "    \"eval_fairness_grouping\": [\"majority-minority\", \"nationality-all\"]\n",
    "}\n",
    "\n",
    "output_dir=\"./output\"\n",
    "seed=0"
   ]
  },
  {
   "cell_type": "code",
   "execution_count": 4,
   "id": "3567d3d7",
   "metadata": {
    "execution": {
     "iopub.execute_input": "2025-07-21T07:35:54.702082Z",
     "iopub.status.busy": "2025-07-21T07:35:54.701844Z",
     "iopub.status.idle": "2025-07-21T07:35:54.706720Z",
     "shell.execute_reply": "2025-07-21T07:35:54.705606Z"
    },
    "papermill": {
     "duration": 0.023091,
     "end_time": "2025-07-21T07:35:54.708115",
     "exception": false,
     "start_time": "2025-07-21T07:35:54.685024",
     "status": "completed"
    },
    "tags": [
     "injected-parameters"
    ]
   },
   "outputs": [],
   "source": [
    "# Parameters\n",
    "universe_id = \"c0e33c3e2220da8b49cf0ce915df6679\"\n",
    "run_no = \"2\"\n",
    "universe = \"{\\\"cutoff\\\": [\\\"quantile_0.1\\\", \\\"quantile_0.25\\\"], \\\"eval_fairness_grouping\\\": [\\\"majority-minority\\\", \\\"nationality-all\\\"], \\\"exclude_features\\\": \\\"none\\\", \\\"exclude_subgroups\\\": \\\"keep-all\\\", \\\"model\\\": \\\"logreg\\\"}\"\n",
    "output_dir = \"output\"\n",
    "seed = \"2023\"\n"
   ]
  },
  {
   "cell_type": "code",
   "execution_count": 5,
   "id": "1650acaf",
   "metadata": {
    "execution": {
     "iopub.execute_input": "2025-07-21T07:35:54.742271Z",
     "iopub.status.busy": "2025-07-21T07:35:54.741917Z",
     "iopub.status.idle": "2025-07-21T07:35:54.745945Z",
     "shell.execute_reply": "2025-07-21T07:35:54.745296Z"
    },
    "papermill": {
     "duration": 0.022306,
     "end_time": "2025-07-21T07:35:54.747084",
     "exception": false,
     "start_time": "2025-07-21T07:35:54.724778",
     "status": "completed"
    },
    "tags": []
   },
   "outputs": [],
   "source": [
    "import json\n",
    "# Parse universe into dict if it is passed as a string\n",
    "if isinstance(universe, str):\n",
    "    universe = json.loads(universe)"
   ]
  },
  {
   "cell_type": "code",
   "execution_count": 6,
   "id": "16620c48",
   "metadata": {
    "execution": {
     "iopub.execute_input": "2025-07-21T07:35:54.782617Z",
     "iopub.status.busy": "2025-07-21T07:35:54.782206Z",
     "iopub.status.idle": "2025-07-21T07:35:54.818881Z",
     "shell.execute_reply": "2025-07-21T07:35:54.818119Z"
    },
    "papermill": {
     "duration": 0.056543,
     "end_time": "2025-07-21T07:35:54.820059",
     "exception": false,
     "start_time": "2025-07-21T07:35:54.763516",
     "status": "completed"
    },
    "tags": []
   },
   "outputs": [],
   "source": [
    "# Auto-reload the custom package\n",
    "%load_ext autoreload\n",
    "%autoreload 1\n",
    "%aimport fairness_multiverse"
   ]
  },
  {
   "cell_type": "code",
   "execution_count": 7,
   "id": "01c5c9f3",
   "metadata": {
    "execution": {
     "iopub.execute_input": "2025-07-21T07:35:54.838377Z",
     "iopub.status.busy": "2025-07-21T07:35:54.838154Z",
     "iopub.status.idle": "2025-07-21T07:36:00.406885Z",
     "shell.execute_reply": "2025-07-21T07:36:00.405890Z"
    },
    "papermill": {
     "duration": 5.5796,
     "end_time": "2025-07-21T07:36:00.408806",
     "exception": false,
     "start_time": "2025-07-21T07:35:54.829206",
     "status": "completed"
    },
    "tags": []
   },
   "outputs": [],
   "source": [
    "from fairness_multiverse.universe import UniverseAnalysis\n",
    "\n",
    "universe_analysis = UniverseAnalysis(\n",
    "    run_no = run_no,\n",
    "    universe_id = universe_id,\n",
    "    universe = universe,\n",
    "    output_dir=output_dir,\n",
    ")"
   ]
  },
  {
   "cell_type": "code",
   "execution_count": 8,
   "id": "106241f5",
   "metadata": {
    "execution": {
     "iopub.execute_input": "2025-07-21T07:36:00.436112Z",
     "iopub.status.busy": "2025-07-21T07:36:00.435847Z",
     "iopub.status.idle": "2025-07-21T07:36:00.441117Z",
     "shell.execute_reply": "2025-07-21T07:36:00.440315Z"
    },
    "papermill": {
     "duration": 0.017026,
     "end_time": "2025-07-21T07:36:00.443087",
     "exception": false,
     "start_time": "2025-07-21T07:36:00.426061",
     "status": "completed"
    },
    "tags": []
   },
   "outputs": [
    {
     "name": "stdout",
     "output_type": "stream",
     "text": [
      "Using Seed: 2023\n"
     ]
    }
   ],
   "source": [
    "import numpy as np\n",
    "parsed_seed = int(seed)\n",
    "np.random.seed(parsed_seed)\n",
    "print(f\"Using Seed: {parsed_seed}\")"
   ]
  },
  {
   "cell_type": "markdown",
   "id": "e0ebdc57",
   "metadata": {
    "papermill": {
     "duration": 0.019204,
     "end_time": "2025-07-21T07:36:00.480707",
     "exception": false,
     "start_time": "2025-07-21T07:36:00.461503",
     "status": "completed"
    },
    "tags": []
   },
   "source": [
    "# Loading Data"
   ]
  },
  {
   "cell_type": "markdown",
   "id": "681925a3",
   "metadata": {
    "papermill": {
     "duration": 0.018769,
     "end_time": "2025-07-21T07:36:00.517281",
     "exception": false,
     "start_time": "2025-07-21T07:36:00.498512",
     "status": "completed"
    },
    "tags": []
   },
   "source": [
    "Load siab_train, siab_test, siab_calib and/or \n",
    "load siab_train_features, siab_train_labels"
   ]
  },
  {
   "cell_type": "code",
   "execution_count": 9,
   "id": "f0496b8a",
   "metadata": {
    "execution": {
     "iopub.execute_input": "2025-07-21T07:36:00.556456Z",
     "iopub.status.busy": "2025-07-21T07:36:00.555858Z",
     "iopub.status.idle": "2025-07-21T07:36:14.934136Z",
     "shell.execute_reply": "2025-07-21T07:36:14.932358Z"
    },
    "papermill": {
     "duration": 14.400372,
     "end_time": "2025-07-21T07:36:14.936238",
     "exception": false,
     "start_time": "2025-07-21T07:36:00.535866",
     "status": "completed"
    },
    "tags": []
   },
   "outputs": [
    {
     "name": "stdout",
     "output_type": "stream",
     "text": [
      "Loading SIAB data from cache: data/siab_cached.csv.gz\n"
     ]
    },
    {
     "name": "stdout",
     "output_type": "stream",
     "text": [
      "(643690, 164)\n"
     ]
    }
   ],
   "source": [
    "# Do I need to load siab? Delete this cell?\n",
    "\n",
    "from pathlib import Path\n",
    "import pandas as pd\n",
    "\n",
    "# File paths\n",
    "raw_file = Path(\"data/raw/siab.csv\")\n",
    "cache_file = Path(\"data/siab_cached.csv.gz\")\n",
    "\n",
    "# Ensure cache directory exists\n",
    "cache_file.parent.mkdir(parents=True, exist_ok=True)\n",
    "\n",
    "# Load with simple caching\n",
    "if cache_file.exists():\n",
    "    print(f\"Loading SIAB data from cache: {cache_file}\")\n",
    "    siab = pd.read_csv(cache_file, compression='gzip')\n",
    "else:\n",
    "    print(f\"Cache not found. Reading raw SIAB data: {raw_file}\")\n",
    "    siab = pd.read_csv(raw_file)\n",
    "    siab.to_csv(cache_file, index=False, compression='gzip')\n",
    "    print(f\"Cached SIAB data to: {cache_file}\")\n",
    "\n",
    "# Now use `siab` DataFrame as needed\n",
    "print(siab.shape)\n"
   ]
  },
  {
   "cell_type": "code",
   "execution_count": 10,
   "id": "a0edb063",
   "metadata": {
    "execution": {
     "iopub.execute_input": "2025-07-21T07:36:14.976906Z",
     "iopub.status.busy": "2025-07-21T07:36:14.976250Z",
     "iopub.status.idle": "2025-07-21T07:36:15.375184Z",
     "shell.execute_reply": "2025-07-21T07:36:15.374151Z"
    },
    "papermill": {
     "duration": 0.42044,
     "end_time": "2025-07-21T07:36:15.378043",
     "exception": false,
     "start_time": "2025-07-21T07:36:14.957603",
     "status": "completed"
    },
    "tags": []
   },
   "outputs": [],
   "source": [
    "import pandas as pd\n",
    "\n",
    "X_train = pd.read_csv(\"./data/X_train.csv\")\n",
    "y_train = pd.read_csv(\"./data/y_train.csv\")"
   ]
  },
  {
   "cell_type": "code",
   "execution_count": 11,
   "id": "63d08085",
   "metadata": {
    "execution": {
     "iopub.execute_input": "2025-07-21T07:36:15.418400Z",
     "iopub.status.busy": "2025-07-21T07:36:15.417883Z",
     "iopub.status.idle": "2025-07-21T07:36:16.999891Z",
     "shell.execute_reply": "2025-07-21T07:36:16.998758Z"
    },
    "papermill": {
     "duration": 1.606204,
     "end_time": "2025-07-21T07:36:17.001903",
     "exception": false,
     "start_time": "2025-07-21T07:36:15.395699",
     "status": "completed"
    },
    "tags": []
   },
   "outputs": [],
   "source": [
    "X_test = pd.read_csv(\"./data/X_test.csv\")\n",
    "y_true = pd.read_csv(\"./data/y_test.csv\")"
   ]
  },
  {
   "cell_type": "code",
   "execution_count": 12,
   "id": "98a8d0fa-1d3d-4ed8-bb2c-281470e24add",
   "metadata": {
    "execution": {
     "iopub.execute_input": "2025-07-21T07:36:17.047300Z",
     "iopub.status.busy": "2025-07-21T07:36:17.046264Z",
     "iopub.status.idle": "2025-07-21T07:36:18.375140Z",
     "shell.execute_reply": "2025-07-21T07:36:18.374053Z"
    },
    "papermill": {
     "duration": 1.355987,
     "end_time": "2025-07-21T07:36:18.377205",
     "exception": false,
     "start_time": "2025-07-21T07:36:17.021218",
     "status": "completed"
    },
    "tags": []
   },
   "outputs": [],
   "source": [
    "# Calibration data for conformal\n",
    "X_calib = pd.read_csv(\"./data/X_calib.csv\")\n",
    "y_calib = pd.read_csv(\"./data/y_calib.csv\")"
   ]
  },
  {
   "cell_type": "code",
   "execution_count": 13,
   "id": "e6c733c5",
   "metadata": {
    "execution": {
     "iopub.execute_input": "2025-07-21T07:36:18.420379Z",
     "iopub.status.busy": "2025-07-21T07:36:18.419824Z",
     "iopub.status.idle": "2025-07-21T07:36:18.541409Z",
     "shell.execute_reply": "2025-07-21T07:36:18.540351Z"
    },
    "papermill": {
     "duration": 0.145171,
     "end_time": "2025-07-21T07:36:18.543613",
     "exception": false,
     "start_time": "2025-07-21T07:36:18.398442",
     "status": "completed"
    },
    "tags": []
   },
   "outputs": [],
   "source": [
    "# Auxiliary data needed downstream in the pipeline\n",
    "\n",
    "org_train = X_train.copy()\n",
    "org_test = X_test.copy()\n",
    "org_calib = X_calib.copy()"
   ]
  },
  {
   "cell_type": "markdown",
   "id": "0a4a1b33",
   "metadata": {
    "papermill": {
     "duration": 0.019977,
     "end_time": "2025-07-21T07:36:18.587569",
     "exception": false,
     "start_time": "2025-07-21T07:36:18.567592",
     "status": "completed"
    },
    "tags": []
   },
   "source": [
    "# Preprocessing Data"
   ]
  },
  {
   "cell_type": "code",
   "execution_count": 14,
   "id": "ca879031",
   "metadata": {
    "execution": {
     "iopub.execute_input": "2025-07-21T07:36:18.626734Z",
     "iopub.status.busy": "2025-07-21T07:36:18.626232Z",
     "iopub.status.idle": "2025-07-21T07:36:18.633127Z",
     "shell.execute_reply": "2025-07-21T07:36:18.631930Z"
    },
    "papermill": {
     "duration": 0.028472,
     "end_time": "2025-07-21T07:36:18.634936",
     "exception": false,
     "start_time": "2025-07-21T07:36:18.606464",
     "status": "completed"
    },
    "tags": []
   },
   "outputs": [],
   "source": [
    "# EXCLUDE PROTECTED FEATURES\n",
    "# ----------------------\n",
    "# \"exclude_features\": \"none\", # \"nationality\", \"sex\", \"nationality-sex\"\n",
    "\n",
    "excluded_features = universe[\"exclude_features\"].split(\"-\") # split, e.g.: \"nationality-sex\" -> [\"nationality\", \"sex\"]\n",
    "excluded_features_dictionary = {\n",
    "    \"nationality\": [\"maxdeutsch1\", \"maxdeutsch.Missing.\"],\n",
    "    \"sex\": [\"frau1\"],\n",
    "}\n"
   ]
  },
  {
   "cell_type": "code",
   "execution_count": 15,
   "id": "b745ac60",
   "metadata": {
    "execution": {
     "iopub.execute_input": "2025-07-21T07:36:18.681211Z",
     "iopub.status.busy": "2025-07-21T07:36:18.680717Z",
     "iopub.status.idle": "2025-07-21T07:36:18.687651Z",
     "shell.execute_reply": "2025-07-21T07:36:18.686365Z"
    },
    "papermill": {
     "duration": 0.03216,
     "end_time": "2025-07-21T07:36:18.690041",
     "exception": false,
     "start_time": "2025-07-21T07:36:18.657881",
     "status": "completed"
    },
    "tags": []
   },
   "outputs": [],
   "source": [
    "# Code nice names to column names\n",
    "\n",
    "excluded_features_columns = [\n",
    "    excluded_features_dictionary[f] for f in excluded_features if len(f) > 0 and f != \"none\"\n",
    "]"
   ]
  },
  {
   "cell_type": "code",
   "execution_count": 16,
   "id": "f84f73a2",
   "metadata": {
    "execution": {
     "iopub.execute_input": "2025-07-21T07:36:18.714337Z",
     "iopub.status.busy": "2025-07-21T07:36:18.713971Z",
     "iopub.status.idle": "2025-07-21T07:36:18.720360Z",
     "shell.execute_reply": "2025-07-21T07:36:18.719179Z"
    },
    "papermill": {
     "duration": 0.019724,
     "end_time": "2025-07-21T07:36:18.722601",
     "exception": false,
     "start_time": "2025-07-21T07:36:18.702877",
     "status": "completed"
    },
    "tags": []
   },
   "outputs": [],
   "source": [
    "from utils import flatten_once\n",
    "\n",
    "excluded_features_columns = flatten_once(excluded_features_columns)"
   ]
  },
  {
   "cell_type": "code",
   "execution_count": 17,
   "id": "884dea22",
   "metadata": {
    "execution": {
     "iopub.execute_input": "2025-07-21T07:36:18.766460Z",
     "iopub.status.busy": "2025-07-21T07:36:18.765696Z",
     "iopub.status.idle": "2025-07-21T07:36:18.772511Z",
     "shell.execute_reply": "2025-07-21T07:36:18.771365Z"
    },
    "papermill": {
     "duration": 0.031375,
     "end_time": "2025-07-21T07:36:18.774770",
     "exception": false,
     "start_time": "2025-07-21T07:36:18.743395",
     "status": "completed"
    },
    "tags": []
   },
   "outputs": [],
   "source": [
    "if len(excluded_features_columns) > 0:\n",
    "    print(f\"Dropping features: {excluded_features_columns}\")\n",
    "    X_train.drop(excluded_features_columns, axis=1, inplace=True)"
   ]
  },
  {
   "cell_type": "code",
   "execution_count": 18,
   "id": "95ab8b16",
   "metadata": {
    "execution": {
     "iopub.execute_input": "2025-07-21T07:36:18.819774Z",
     "iopub.status.busy": "2025-07-21T07:36:18.819241Z",
     "iopub.status.idle": "2025-07-21T07:36:18.827312Z",
     "shell.execute_reply": "2025-07-21T07:36:18.825615Z"
    },
    "papermill": {
     "duration": 0.032935,
     "end_time": "2025-07-21T07:36:18.829599",
     "exception": false,
     "start_time": "2025-07-21T07:36:18.796664",
     "status": "completed"
    },
    "tags": []
   },
   "outputs": [],
   "source": [
    "if len(excluded_features_columns) > 0:\n",
    "    print(f\"Dropping features: {excluded_features_columns}\")\n",
    "    X_test.drop(excluded_features_columns, axis=1, inplace=True)"
   ]
  },
  {
   "cell_type": "code",
   "execution_count": 19,
   "id": "1853aaf5-fb9f-46cb-a2b5-8ea4ae2237e4",
   "metadata": {
    "execution": {
     "iopub.execute_input": "2025-07-21T07:36:18.874193Z",
     "iopub.status.busy": "2025-07-21T07:36:18.873570Z",
     "iopub.status.idle": "2025-07-21T07:36:18.881021Z",
     "shell.execute_reply": "2025-07-21T07:36:18.879739Z"
    },
    "papermill": {
     "duration": 0.032027,
     "end_time": "2025-07-21T07:36:18.883286",
     "exception": false,
     "start_time": "2025-07-21T07:36:18.851259",
     "status": "completed"
    },
    "tags": []
   },
   "outputs": [],
   "source": [
    "if len(excluded_features_columns) > 0:\n",
    "    print(f\"Dropping features: {excluded_features_columns}\")\n",
    "    X_calib.drop(excluded_features_columns, axis=1, inplace=True)"
   ]
  },
  {
   "cell_type": "code",
   "execution_count": 20,
   "id": "76c4dc6d",
   "metadata": {
    "execution": {
     "iopub.execute_input": "2025-07-21T07:36:18.927591Z",
     "iopub.status.busy": "2025-07-21T07:36:18.926754Z",
     "iopub.status.idle": "2025-07-21T07:36:18.933741Z",
     "shell.execute_reply": "2025-07-21T07:36:18.932683Z"
    },
    "papermill": {
     "duration": 0.031575,
     "end_time": "2025-07-21T07:36:18.936113",
     "exception": false,
     "start_time": "2025-07-21T07:36:18.904538",
     "status": "completed"
    },
    "tags": []
   },
   "outputs": [],
   "source": [
    "# EXCLUDE CERTAIN SUBGROUPS\n",
    "# ----------------------\n",
    "\n",
    "mode = universe.get(\"exclude_subgroups\", \"keep-all\") \n",
    "# Fetches the exclude_subgroups setting from the universe dict.\n",
    "# Defaults to \"keep-all\" if the key is missing."
   ]
  },
  {
   "cell_type": "code",
   "execution_count": 21,
   "id": "21994072",
   "metadata": {
    "execution": {
     "iopub.execute_input": "2025-07-21T07:36:18.980441Z",
     "iopub.status.busy": "2025-07-21T07:36:18.979664Z",
     "iopub.status.idle": "2025-07-21T07:36:18.987651Z",
     "shell.execute_reply": "2025-07-21T07:36:18.986261Z"
    },
    "papermill": {
     "duration": 0.032595,
     "end_time": "2025-07-21T07:36:18.989881",
     "exception": false,
     "start_time": "2025-07-21T07:36:18.957286",
     "status": "completed"
    },
    "tags": []
   },
   "outputs": [],
   "source": [
    "if mode == \"keep-all\":\n",
    "    keep_mask = pd.Series(True, index=org_train.index)\n",
    "\n",
    "# org_train contains the original feature columns from features_org (in Simson)\n",
    "# features_org contains unprocessed features, for me X_train at beginning ???\n",
    "# For keep-all, creates a boolean Series (keep_mask) of all True, so no rows are removed.\n",
    "\n",
    "elif mode == \"drop-non-german\":\n",
    "    keep_mask = org_train[\"maxdeutsch1\"] == 1 # ??? what about missing values?\n",
    "\n",
    "else:\n",
    "    raise ValueError(f\"Unsupported mode for exclude_subgroups: {mode}\")\n"
   ]
  },
  {
   "cell_type": "code",
   "execution_count": 22,
   "id": "71651440",
   "metadata": {
    "execution": {
     "iopub.execute_input": "2025-07-21T07:36:19.125501Z",
     "iopub.status.busy": "2025-07-21T07:36:19.124882Z",
     "iopub.status.idle": "2025-07-21T07:36:19.133123Z",
     "shell.execute_reply": "2025-07-21T07:36:19.131927Z"
    },
    "papermill": {
     "duration": 0.033042,
     "end_time": "2025-07-21T07:36:19.135279",
     "exception": false,
     "start_time": "2025-07-21T07:36:19.102237",
     "status": "completed"
    },
    "tags": []
   },
   "outputs": [],
   "source": [
    "n_drop = (~keep_mask).sum() # Calculates how many rows are set to be dropped\n",
    "if n_drop > 0:\n",
    "    pct = n_drop / len(keep_mask) * 100\n",
    "    print(f\"Dropping {n_drop} rows ({pct:.2f}%) where mode='{mode}'\")"
   ]
  },
  {
   "cell_type": "code",
   "execution_count": 23,
   "id": "5fb8eee5",
   "metadata": {
    "execution": {
     "iopub.execute_input": "2025-07-21T07:36:19.182813Z",
     "iopub.status.busy": "2025-07-21T07:36:19.181517Z",
     "iopub.status.idle": "2025-07-21T07:36:19.208898Z",
     "shell.execute_reply": "2025-07-21T07:36:19.207713Z"
    },
    "papermill": {
     "duration": 0.054287,
     "end_time": "2025-07-21T07:36:19.211186",
     "exception": false,
     "start_time": "2025-07-21T07:36:19.156899",
     "status": "completed"
    },
    "tags": []
   },
   "outputs": [],
   "source": [
    "X_train = X_train[keep_mask]"
   ]
  },
  {
   "cell_type": "code",
   "execution_count": 24,
   "id": "b202bb3a",
   "metadata": {
    "execution": {
     "iopub.execute_input": "2025-07-21T07:36:19.249341Z",
     "iopub.status.busy": "2025-07-21T07:36:19.248701Z",
     "iopub.status.idle": "2025-07-21T07:36:19.256539Z",
     "shell.execute_reply": "2025-07-21T07:36:19.255430Z"
    },
    "papermill": {
     "duration": 0.033484,
     "end_time": "2025-07-21T07:36:19.259291",
     "exception": false,
     "start_time": "2025-07-21T07:36:19.225807",
     "status": "completed"
    },
    "tags": []
   },
   "outputs": [],
   "source": [
    "y_train = y_train[keep_mask]"
   ]
  },
  {
   "cell_type": "markdown",
   "id": "493e2ac3",
   "metadata": {
    "papermill": {
     "duration": 0.015481,
     "end_time": "2025-07-21T07:36:19.296084",
     "exception": false,
     "start_time": "2025-07-21T07:36:19.280603",
     "status": "completed"
    },
    "tags": []
   },
   "source": [
    "# Model Training"
   ]
  },
  {
   "cell_type": "code",
   "execution_count": 25,
   "id": "679e1268",
   "metadata": {
    "execution": {
     "iopub.execute_input": "2025-07-21T07:36:19.329355Z",
     "iopub.status.busy": "2025-07-21T07:36:19.328908Z",
     "iopub.status.idle": "2025-07-21T07:36:19.459754Z",
     "shell.execute_reply": "2025-07-21T07:36:19.458623Z"
    },
    "papermill": {
     "duration": 0.153669,
     "end_time": "2025-07-21T07:36:19.461989",
     "exception": false,
     "start_time": "2025-07-21T07:36:19.308320",
     "status": "completed"
    },
    "tags": []
   },
   "outputs": [],
   "source": [
    "from sklearn.linear_model import LogisticRegression\n",
    "from sklearn.ensemble import GradientBoostingClassifier, RandomForestClassifier\n",
    "\n",
    "if (universe[\"model\"] == \"logreg\"):\n",
    "    model = LogisticRegression() #penalty=\"none\") #, solver=\"newton-cg\", max_iter=1) # include random_state=19 ?\n",
    "elif (universe[\"model\"] == \"penalized_logreg\"):\n",
    "    model = LogisticRegression(penalty=\"l2\", C=1.0) #, solver=\"newton-cg\", max_iter=1)\n",
    "elif (universe[\"model\"] == \"rf\"):\n",
    "    model = RandomForestClassifier(n_estimators=100, n_jobs=-1)\n",
    "elif (universe[\"model\"] == \"gbm\"):\n",
    "    model = GradientBoostingClassifier()\n",
    "elif (universe[\"model\"] == \"elasticnet\"):\n",
    "    model = LogisticRegression(penalty = 'elasticnet', solver = 'saga', l1_ratio = 0.5, max_iter=5000) # which solver to use?\n",
    "else:\n",
    "    raise \"Unsupported universe.model\""
   ]
  },
  {
   "cell_type": "code",
   "execution_count": 26,
   "id": "0cc8f744",
   "metadata": {
    "execution": {
     "iopub.execute_input": "2025-07-21T07:36:19.507532Z",
     "iopub.status.busy": "2025-07-21T07:36:19.506974Z",
     "iopub.status.idle": "2025-07-21T07:36:19.514413Z",
     "shell.execute_reply": "2025-07-21T07:36:19.513270Z"
    },
    "papermill": {
     "duration": 0.033048,
     "end_time": "2025-07-21T07:36:19.516328",
     "exception": false,
     "start_time": "2025-07-21T07:36:19.483280",
     "status": "completed"
    },
    "tags": []
   },
   "outputs": [],
   "source": [
    "import numpy as np\n",
    "from sklearn.pipeline import Pipeline\n",
    "from sklearn.preprocessing import StandardScaler\n",
    "from sklearn.metrics import accuracy_score\n",
    "\n",
    "model = Pipeline([\n",
    "    #(\"continuous_processor\", continuous_processor),\n",
    "    #(\"categorical_preprocessor\", categorical_preprocessor),\n",
    "    #(\"scale\", StandardScaler() if universe[\"scale\"] == \"scale\" else None),\n",
    "    (\"model\", model),\n",
    "])"
   ]
  },
  {
   "cell_type": "code",
   "execution_count": 27,
   "id": "9442c04d",
   "metadata": {
    "execution": {
     "iopub.execute_input": "2025-07-21T07:36:19.562025Z",
     "iopub.status.busy": "2025-07-21T07:36:19.561206Z",
     "iopub.status.idle": "2025-07-21T07:36:20.642121Z",
     "shell.execute_reply": "2025-07-21T07:36:20.640947Z"
    },
    "papermill": {
     "duration": 1.105252,
     "end_time": "2025-07-21T07:36:20.644026",
     "exception": false,
     "start_time": "2025-07-21T07:36:19.538774",
     "status": "completed"
    },
    "tags": []
   },
   "outputs": [
    {
     "name": "stderr",
     "output_type": "stream",
     "text": [
      "/dss/dsshome1/0C/ra93lal2/.local/share/virtualenvs/CMA_Fairness_v2-3j10GkSs/lib/python3.10/site-packages/sklearn/linear_model/_logistic.py:444: ConvergenceWarning: lbfgs failed to converge (status=1):\n",
      "STOP: TOTAL NO. of ITERATIONS REACHED LIMIT.\n",
      "\n",
      "Increase the number of iterations (max_iter) or scale the data as shown in:\n",
      "    https://scikit-learn.org/stable/modules/preprocessing.html\n",
      "Please also refer to the documentation for alternative solver options:\n",
      "    https://scikit-learn.org/stable/modules/linear_model.html#logistic-regression\n",
      "  n_iter_i = _check_optimize_result(\n"
     ]
    },
    {
     "data": {
      "text/html": [
       "<style>#sk-container-id-1 {color: black;background-color: white;}#sk-container-id-1 pre{padding: 0;}#sk-container-id-1 div.sk-toggleable {background-color: white;}#sk-container-id-1 label.sk-toggleable__label {cursor: pointer;display: block;width: 100%;margin-bottom: 0;padding: 0.3em;box-sizing: border-box;text-align: center;}#sk-container-id-1 label.sk-toggleable__label-arrow:before {content: \"▸\";float: left;margin-right: 0.25em;color: #696969;}#sk-container-id-1 label.sk-toggleable__label-arrow:hover:before {color: black;}#sk-container-id-1 div.sk-estimator:hover label.sk-toggleable__label-arrow:before {color: black;}#sk-container-id-1 div.sk-toggleable__content {max-height: 0;max-width: 0;overflow: hidden;text-align: left;background-color: #f0f8ff;}#sk-container-id-1 div.sk-toggleable__content pre {margin: 0.2em;color: black;border-radius: 0.25em;background-color: #f0f8ff;}#sk-container-id-1 input.sk-toggleable__control:checked~div.sk-toggleable__content {max-height: 200px;max-width: 100%;overflow: auto;}#sk-container-id-1 input.sk-toggleable__control:checked~label.sk-toggleable__label-arrow:before {content: \"▾\";}#sk-container-id-1 div.sk-estimator input.sk-toggleable__control:checked~label.sk-toggleable__label {background-color: #d4ebff;}#sk-container-id-1 div.sk-label input.sk-toggleable__control:checked~label.sk-toggleable__label {background-color: #d4ebff;}#sk-container-id-1 input.sk-hidden--visually {border: 0;clip: rect(1px 1px 1px 1px);clip: rect(1px, 1px, 1px, 1px);height: 1px;margin: -1px;overflow: hidden;padding: 0;position: absolute;width: 1px;}#sk-container-id-1 div.sk-estimator {font-family: monospace;background-color: #f0f8ff;border: 1px dotted black;border-radius: 0.25em;box-sizing: border-box;margin-bottom: 0.5em;}#sk-container-id-1 div.sk-estimator:hover {background-color: #d4ebff;}#sk-container-id-1 div.sk-parallel-item::after {content: \"\";width: 100%;border-bottom: 1px solid gray;flex-grow: 1;}#sk-container-id-1 div.sk-label:hover label.sk-toggleable__label {background-color: #d4ebff;}#sk-container-id-1 div.sk-serial::before {content: \"\";position: absolute;border-left: 1px solid gray;box-sizing: border-box;top: 0;bottom: 0;left: 50%;z-index: 0;}#sk-container-id-1 div.sk-serial {display: flex;flex-direction: column;align-items: center;background-color: white;padding-right: 0.2em;padding-left: 0.2em;position: relative;}#sk-container-id-1 div.sk-item {position: relative;z-index: 1;}#sk-container-id-1 div.sk-parallel {display: flex;align-items: stretch;justify-content: center;background-color: white;position: relative;}#sk-container-id-1 div.sk-item::before, #sk-container-id-1 div.sk-parallel-item::before {content: \"\";position: absolute;border-left: 1px solid gray;box-sizing: border-box;top: 0;bottom: 0;left: 50%;z-index: -1;}#sk-container-id-1 div.sk-parallel-item {display: flex;flex-direction: column;z-index: 1;position: relative;background-color: white;}#sk-container-id-1 div.sk-parallel-item:first-child::after {align-self: flex-end;width: 50%;}#sk-container-id-1 div.sk-parallel-item:last-child::after {align-self: flex-start;width: 50%;}#sk-container-id-1 div.sk-parallel-item:only-child::after {width: 0;}#sk-container-id-1 div.sk-dashed-wrapped {border: 1px dashed gray;margin: 0 0.4em 0.5em 0.4em;box-sizing: border-box;padding-bottom: 0.4em;background-color: white;}#sk-container-id-1 div.sk-label label {font-family: monospace;font-weight: bold;display: inline-block;line-height: 1.2em;}#sk-container-id-1 div.sk-label-container {text-align: center;}#sk-container-id-1 div.sk-container {/* jupyter's `normalize.less` sets `[hidden] { display: none; }` but bootstrap.min.css set `[hidden] { display: none !important; }` so we also need the `!important` here to be able to override the default hidden behavior on the sphinx rendered scikit-learn.org. See: https://github.com/scikit-learn/scikit-learn/issues/21755 */display: inline-block !important;position: relative;}#sk-container-id-1 div.sk-text-repr-fallback {display: none;}</style><div id=\"sk-container-id-1\" class=\"sk-top-container\"><div class=\"sk-text-repr-fallback\"><pre>Pipeline(steps=[(&#x27;model&#x27;, LogisticRegression())])</pre><b>In a Jupyter environment, please rerun this cell to show the HTML representation or trust the notebook. <br />On GitHub, the HTML representation is unable to render, please try loading this page with nbviewer.org.</b></div><div class=\"sk-container\" hidden><div class=\"sk-item sk-dashed-wrapped\"><div class=\"sk-label-container\"><div class=\"sk-label sk-toggleable\"><input class=\"sk-toggleable__control sk-hidden--visually\" id=\"sk-estimator-id-1\" type=\"checkbox\" ><label for=\"sk-estimator-id-1\" class=\"sk-toggleable__label sk-toggleable__label-arrow\">Pipeline</label><div class=\"sk-toggleable__content\"><pre>Pipeline(steps=[(&#x27;model&#x27;, LogisticRegression())])</pre></div></div></div><div class=\"sk-serial\"><div class=\"sk-item\"><div class=\"sk-estimator sk-toggleable\"><input class=\"sk-toggleable__control sk-hidden--visually\" id=\"sk-estimator-id-2\" type=\"checkbox\" ><label for=\"sk-estimator-id-2\" class=\"sk-toggleable__label sk-toggleable__label-arrow\">LogisticRegression</label><div class=\"sk-toggleable__content\"><pre>LogisticRegression()</pre></div></div></div></div></div></div></div>"
      ],
      "text/plain": [
       "Pipeline(steps=[('model', LogisticRegression())])"
      ]
     },
     "execution_count": 27,
     "metadata": {},
     "output_type": "execute_result"
    }
   ],
   "source": [
    "model.fit(X_train, y_train.values.ravel())"
   ]
  },
  {
   "cell_type": "code",
   "execution_count": 28,
   "id": "af59f8c0",
   "metadata": {
    "execution": {
     "iopub.execute_input": "2025-07-21T07:36:20.694358Z",
     "iopub.status.busy": "2025-07-21T07:36:20.693567Z",
     "iopub.status.idle": "2025-07-21T07:36:20.701409Z",
     "shell.execute_reply": "2025-07-21T07:36:20.700262Z"
    },
    "papermill": {
     "duration": 0.039413,
     "end_time": "2025-07-21T07:36:20.703324",
     "exception": false,
     "start_time": "2025-07-21T07:36:20.663911",
     "status": "completed"
    },
    "tags": []
   },
   "outputs": [],
   "source": [
    "from fairness_multiverse.universe import predict_w_threshold"
   ]
  },
  {
   "cell_type": "code",
   "execution_count": 29,
   "id": "a7cf2e16",
   "metadata": {
    "execution": {
     "iopub.execute_input": "2025-07-21T07:36:20.746142Z",
     "iopub.status.busy": "2025-07-21T07:36:20.745431Z",
     "iopub.status.idle": "2025-07-21T07:36:20.845085Z",
     "shell.execute_reply": "2025-07-21T07:36:20.842952Z"
    },
    "papermill": {
     "duration": 0.123462,
     "end_time": "2025-07-21T07:36:20.846957",
     "exception": false,
     "start_time": "2025-07-21T07:36:20.723495",
     "status": "completed"
    },
    "tags": []
   },
   "outputs": [
    {
     "data": {
      "text/plain": [
       "0.8624345112027645"
      ]
     },
     "execution_count": 29,
     "metadata": {},
     "output_type": "execute_result"
    }
   ],
   "source": [
    "probs_test = model.predict_proba(X_test)\n",
    "\n",
    "'''\n",
    "Below code returns a boolean array (or binary 0/1 array depending on how it’s used) where each element \n",
    "is True if the probability of class 1 is greater than or equal to the threshold, and False otherwise.\n",
    "'''\n",
    "y_pred_default = predict_w_threshold(probs_test, 0.5)\n",
    "\n",
    "# Naive prediction\n",
    "accuracy_score(y_true = y_true, y_pred = y_pred_default)"
   ]
  },
  {
   "cell_type": "code",
   "execution_count": 30,
   "id": "081964c3",
   "metadata": {
    "execution": {
     "iopub.execute_input": "2025-07-21T07:36:20.882643Z",
     "iopub.status.busy": "2025-07-21T07:36:20.882151Z",
     "iopub.status.idle": "2025-07-21T07:36:20.966822Z",
     "shell.execute_reply": "2025-07-21T07:36:20.966196Z"
    },
    "papermill": {
     "duration": 0.101516,
     "end_time": "2025-07-21T07:36:20.968367",
     "exception": false,
     "start_time": "2025-07-21T07:36:20.866851",
     "status": "completed"
    },
    "tags": []
   },
   "outputs": [
    {
     "data": {
      "text/plain": [
       "array([0, 0, 0, ..., 0, 0, 0])"
      ]
     },
     "execution_count": 30,
     "metadata": {},
     "output_type": "execute_result"
    }
   ],
   "source": [
    "model.predict(X_test)"
   ]
  },
  {
   "cell_type": "markdown",
   "id": "56c9705b",
   "metadata": {
    "papermill": {
     "duration": 0.019294,
     "end_time": "2025-07-21T07:36:21.007774",
     "exception": false,
     "start_time": "2025-07-21T07:36:20.988480",
     "status": "completed"
    },
    "tags": []
   },
   "source": [
    "# Conformal Prediction"
   ]
  },
  {
   "cell_type": "code",
   "execution_count": 31,
   "id": "160ec6ff",
   "metadata": {
    "execution": {
     "iopub.execute_input": "2025-07-21T07:36:21.049771Z",
     "iopub.status.busy": "2025-07-21T07:36:21.049275Z",
     "iopub.status.idle": "2025-07-21T07:36:21.054686Z",
     "shell.execute_reply": "2025-07-21T07:36:21.053676Z"
    },
    "papermill": {
     "duration": 0.028256,
     "end_time": "2025-07-21T07:36:21.056341",
     "exception": false,
     "start_time": "2025-07-21T07:36:21.028085",
     "status": "completed"
    },
    "tags": []
   },
   "outputs": [],
   "source": [
    "# Miscoverage level for conformal prediction (10% allowed error rate => 90% target coverage)\n",
    "alpha = 0.1"
   ]
  },
  {
   "cell_type": "code",
   "execution_count": 32,
   "id": "eadf4555-3dd3-440e-8e35-f82a4ad9f855",
   "metadata": {
    "execution": {
     "iopub.execute_input": "2025-07-21T07:36:21.099592Z",
     "iopub.status.busy": "2025-07-21T07:36:21.099073Z",
     "iopub.status.idle": "2025-07-21T07:36:21.194279Z",
     "shell.execute_reply": "2025-07-21T07:36:21.193291Z"
    },
    "papermill": {
     "duration": 0.119236,
     "end_time": "2025-07-21T07:36:21.196177",
     "exception": false,
     "start_time": "2025-07-21T07:36:21.076941",
     "status": "completed"
    },
    "tags": []
   },
   "outputs": [],
   "source": [
    "probs_calib = model.predict_proba(X_calib)"
   ]
  },
  {
   "cell_type": "code",
   "execution_count": 33,
   "id": "2ed93547-6d5d-4983-9b36-1ecb300da49a",
   "metadata": {
    "execution": {
     "iopub.execute_input": "2025-07-21T07:36:21.239100Z",
     "iopub.status.busy": "2025-07-21T07:36:21.238192Z",
     "iopub.status.idle": "2025-07-21T07:36:21.243894Z",
     "shell.execute_reply": "2025-07-21T07:36:21.242890Z"
    },
    "papermill": {
     "duration": 0.029123,
     "end_time": "2025-07-21T07:36:21.245629",
     "exception": false,
     "start_time": "2025-07-21T07:36:21.216506",
     "status": "completed"
    },
    "tags": []
   },
   "outputs": [],
   "source": [
    "y_calib = y_calib.values.ravel().astype(int)"
   ]
  },
  {
   "cell_type": "code",
   "execution_count": 34,
   "id": "65d1320d-f588-4b38-9072-62af1ae97f7d",
   "metadata": {
    "execution": {
     "iopub.execute_input": "2025-07-21T07:36:21.290501Z",
     "iopub.status.busy": "2025-07-21T07:36:21.290074Z",
     "iopub.status.idle": "2025-07-21T07:36:21.298297Z",
     "shell.execute_reply": "2025-07-21T07:36:21.297229Z"
    },
    "papermill": {
     "duration": 0.034685,
     "end_time": "2025-07-21T07:36:21.300239",
     "exception": false,
     "start_time": "2025-07-21T07:36:21.265554",
     "status": "completed"
    },
    "tags": []
   },
   "outputs": [],
   "source": [
    "from fairness_multiverse.conformal import compute_nc_scores\n",
    "\n",
    "# Compute nonconformity scores on calibration set (1 - probability of true class)\n",
    "nc_scores = compute_nc_scores(probs_calib, y_calib)"
   ]
  },
  {
   "cell_type": "code",
   "execution_count": 35,
   "id": "df3b8ca3-53b7-43d5-9667-7c85da7aeda2",
   "metadata": {
    "execution": {
     "iopub.execute_input": "2025-07-21T07:36:21.341017Z",
     "iopub.status.busy": "2025-07-21T07:36:21.340514Z",
     "iopub.status.idle": "2025-07-21T07:36:21.346673Z",
     "shell.execute_reply": "2025-07-21T07:36:21.345678Z"
    },
    "papermill": {
     "duration": 0.028261,
     "end_time": "2025-07-21T07:36:21.348270",
     "exception": false,
     "start_time": "2025-07-21T07:36:21.320009",
     "status": "completed"
    },
    "tags": []
   },
   "outputs": [],
   "source": [
    "from fairness_multiverse.conformal import find_threshold\n",
    "\n",
    "# Find conformal threshold q_hat for the given alpha (split conformal method)\n",
    "q_hat = find_threshold(nc_scores, alpha)"
   ]
  },
  {
   "cell_type": "code",
   "execution_count": 36,
   "id": "4d29e6c1-0ef6-4aa4-b8fe-4fe79b0d033a",
   "metadata": {
    "execution": {
     "iopub.execute_input": "2025-07-21T07:36:21.389353Z",
     "iopub.status.busy": "2025-07-21T07:36:21.388782Z",
     "iopub.status.idle": "2025-07-21T07:36:21.395833Z",
     "shell.execute_reply": "2025-07-21T07:36:21.394894Z"
    },
    "papermill": {
     "duration": 0.029546,
     "end_time": "2025-07-21T07:36:21.397699",
     "exception": false,
     "start_time": "2025-07-21T07:36:21.368153",
     "status": "completed"
    },
    "tags": []
   },
   "outputs": [
    {
     "data": {
      "text/plain": [
       "0.673671679915707"
      ]
     },
     "execution_count": 36,
     "metadata": {},
     "output_type": "execute_result"
    }
   ],
   "source": [
    "q_hat"
   ]
  },
  {
   "cell_type": "code",
   "execution_count": 37,
   "id": "92460794-cdac-4be2-ba28-f28c0515a6fb",
   "metadata": {
    "execution": {
     "iopub.execute_input": "2025-07-21T07:36:21.439235Z",
     "iopub.status.busy": "2025-07-21T07:36:21.438879Z",
     "iopub.status.idle": "2025-07-21T07:36:22.525254Z",
     "shell.execute_reply": "2025-07-21T07:36:22.524278Z"
    },
    "papermill": {
     "duration": 1.108876,
     "end_time": "2025-07-21T07:36:22.526996",
     "exception": false,
     "start_time": "2025-07-21T07:36:21.418120",
     "status": "completed"
    },
    "tags": []
   },
   "outputs": [],
   "source": [
    "from fairness_multiverse.conformal import predict_conformal_sets\n",
    "\n",
    "# Generate prediction sets for each test example\n",
    "pred_sets = predict_conformal_sets(model, X_test, q_hat)"
   ]
  },
  {
   "cell_type": "code",
   "execution_count": 38,
   "id": "d90c9a65-e6db-4f5d-80cd-e68fb7e46829",
   "metadata": {
    "execution": {
     "iopub.execute_input": "2025-07-21T07:36:22.570763Z",
     "iopub.status.busy": "2025-07-21T07:36:22.570177Z",
     "iopub.status.idle": "2025-07-21T07:36:22.576005Z",
     "shell.execute_reply": "2025-07-21T07:36:22.575033Z"
    },
    "papermill": {
     "duration": 0.035766,
     "end_time": "2025-07-21T07:36:22.582162",
     "exception": false,
     "start_time": "2025-07-21T07:36:22.546396",
     "status": "completed"
    },
    "tags": []
   },
   "outputs": [],
   "source": [
    "y_true = y_true.squeeze()"
   ]
  },
  {
   "cell_type": "code",
   "execution_count": 39,
   "id": "3a58a54a-1e68-46b9-927a-df01f18aebc8",
   "metadata": {
    "execution": {
     "iopub.execute_input": "2025-07-21T07:36:22.624352Z",
     "iopub.status.busy": "2025-07-21T07:36:22.623909Z",
     "iopub.status.idle": "2025-07-21T07:36:23.464136Z",
     "shell.execute_reply": "2025-07-21T07:36:23.463297Z"
    },
    "papermill": {
     "duration": 0.865716,
     "end_time": "2025-07-21T07:36:23.466100",
     "exception": false,
     "start_time": "2025-07-21T07:36:22.600384",
     "status": "completed"
    },
    "tags": []
   },
   "outputs": [],
   "source": [
    "from fairness_multiverse.conformal import evaluate_sets\n",
    "\n",
    "# Evaluate coverage and average set size on test data\n",
    "metrics = evaluate_sets(pred_sets, y_true)"
   ]
  },
  {
   "cell_type": "code",
   "execution_count": 40,
   "id": "5ce0a5cb-201f-45a0-ade5-94c7f0bd6095",
   "metadata": {
    "execution": {
     "iopub.execute_input": "2025-07-21T07:36:23.510398Z",
     "iopub.status.busy": "2025-07-21T07:36:23.509905Z",
     "iopub.status.idle": "2025-07-21T07:36:23.517260Z",
     "shell.execute_reply": "2025-07-21T07:36:23.516114Z"
    },
    "papermill": {
     "duration": 0.031175,
     "end_time": "2025-07-21T07:36:23.519229",
     "exception": false,
     "start_time": "2025-07-21T07:36:23.488054",
     "status": "completed"
    },
    "tags": []
   },
   "outputs": [
    {
     "data": {
      "text/plain": [
       "{'coverage': 0.9121614089845056, 'avg_size': 1.2037676959090402}"
      ]
     },
     "execution_count": 40,
     "metadata": {},
     "output_type": "execute_result"
    }
   ],
   "source": [
    "metrics"
   ]
  },
  {
   "cell_type": "code",
   "execution_count": 41,
   "id": "9b9a838d-31c9-430b-ae14-12baee460d17",
   "metadata": {
    "execution": {
     "iopub.execute_input": "2025-07-21T07:36:23.564522Z",
     "iopub.status.busy": "2025-07-21T07:36:23.563858Z",
     "iopub.status.idle": "2025-07-21T07:36:23.569570Z",
     "shell.execute_reply": "2025-07-21T07:36:23.568550Z"
    },
    "papermill": {
     "duration": 0.030308,
     "end_time": "2025-07-21T07:36:23.571492",
     "exception": false,
     "start_time": "2025-07-21T07:36:23.541184",
     "status": "completed"
    },
    "tags": []
   },
   "outputs": [],
   "source": [
    "example_universe = universe.copy()\n",
    "universe_model = example_universe.get(\"model\")\n",
    "universe_exclude_features = example_universe.get(\"exclude_features\")\n",
    "universe_exclude_subgroups = example_universe.get(\"exclude_subgroups\")"
   ]
  },
  {
   "cell_type": "code",
   "execution_count": 42,
   "id": "f4b6a8ac-9dc0-4245-8a91-5b3b5999c4f9",
   "metadata": {
    "execution": {
     "iopub.execute_input": "2025-07-21T07:36:23.616260Z",
     "iopub.status.busy": "2025-07-21T07:36:23.615568Z",
     "iopub.status.idle": "2025-07-21T07:36:23.621689Z",
     "shell.execute_reply": "2025-07-21T07:36:23.620596Z"
    },
    "papermill": {
     "duration": 0.030092,
     "end_time": "2025-07-21T07:36:23.623510",
     "exception": false,
     "start_time": "2025-07-21T07:36:23.593418",
     "status": "completed"
    },
    "tags": []
   },
   "outputs": [],
   "source": [
    "cp_metrics_dict = {\n",
    "    \"universe_id\": [universe_id],\n",
    "    \"universe_model\": [universe_model],\n",
    "    \"universe_exclude_features\": [universe_exclude_features],\n",
    "    \"universe_exclude_subgroups\": [universe_exclude_subgroups],\n",
    "    \"q_hat\": [q_hat],\n",
    "    \"coverage\": [metrics[\"coverage\"]],\n",
    "    \"avg_size\": [metrics[\"avg_size\"]],\n",
    "}"
   ]
  },
  {
   "cell_type": "code",
   "execution_count": 43,
   "id": "908acbb1-0371-4915-85ca-3fa520d2efe2",
   "metadata": {
    "execution": {
     "iopub.execute_input": "2025-07-21T07:36:23.669364Z",
     "iopub.status.busy": "2025-07-21T07:36:23.668803Z",
     "iopub.status.idle": "2025-07-21T07:36:23.675906Z",
     "shell.execute_reply": "2025-07-21T07:36:23.674985Z"
    },
    "papermill": {
     "duration": 0.032415,
     "end_time": "2025-07-21T07:36:23.677681",
     "exception": false,
     "start_time": "2025-07-21T07:36:23.645266",
     "status": "completed"
    },
    "tags": []
   },
   "outputs": [
    {
     "data": {
      "text/plain": [
       "{'universe_id': ['c0e33c3e2220da8b49cf0ce915df6679'],\n",
       " 'universe_model': ['logreg'],\n",
       " 'universe_exclude_features': ['none'],\n",
       " 'universe_exclude_subgroups': ['keep-all'],\n",
       " 'q_hat': [0.673671679915707],\n",
       " 'coverage': [0.9121614089845056],\n",
       " 'avg_size': [1.2037676959090402]}"
      ]
     },
     "execution_count": 43,
     "metadata": {},
     "output_type": "execute_result"
    }
   ],
   "source": [
    "cp_metrics_dict"
   ]
  },
  {
   "cell_type": "code",
   "execution_count": 44,
   "id": "33007efc-14e9-4ec6-97ac-56a455c82265",
   "metadata": {
    "execution": {
     "iopub.execute_input": "2025-07-21T07:36:23.723066Z",
     "iopub.status.busy": "2025-07-21T07:36:23.722296Z",
     "iopub.status.idle": "2025-07-21T07:36:23.728386Z",
     "shell.execute_reply": "2025-07-21T07:36:23.727497Z"
    },
    "papermill": {
     "duration": 0.030569,
     "end_time": "2025-07-21T07:36:23.730301",
     "exception": false,
     "start_time": "2025-07-21T07:36:23.699732",
     "status": "completed"
    },
    "tags": []
   },
   "outputs": [],
   "source": [
    "cp_metrics_df = pd.DataFrame(cp_metrics_dict)"
   ]
  },
  {
   "cell_type": "code",
   "execution_count": 45,
   "id": "db12611b-57b2-4910-b9d0-355adfd6e7bf",
   "metadata": {
    "execution": {
     "iopub.execute_input": "2025-07-21T07:36:23.784089Z",
     "iopub.status.busy": "2025-07-21T07:36:23.783350Z",
     "iopub.status.idle": "2025-07-21T07:36:23.814458Z",
     "shell.execute_reply": "2025-07-21T07:36:23.813497Z"
    },
    "papermill": {
     "duration": 0.063768,
     "end_time": "2025-07-21T07:36:23.816139",
     "exception": false,
     "start_time": "2025-07-21T07:36:23.752371",
     "status": "completed"
    },
    "tags": []
   },
   "outputs": [
    {
     "data": {
      "text/html": [
       "<div>\n",
       "<style scoped>\n",
       "    .dataframe tbody tr th:only-of-type {\n",
       "        vertical-align: middle;\n",
       "    }\n",
       "\n",
       "    .dataframe tbody tr th {\n",
       "        vertical-align: top;\n",
       "    }\n",
       "\n",
       "    .dataframe thead th {\n",
       "        text-align: right;\n",
       "    }\n",
       "</style>\n",
       "<table border=\"1\" class=\"dataframe\">\n",
       "  <thead>\n",
       "    <tr style=\"text-align: right;\">\n",
       "      <th></th>\n",
       "      <th>universe_id</th>\n",
       "      <th>universe_model</th>\n",
       "      <th>universe_exclude_features</th>\n",
       "      <th>universe_exclude_subgroups</th>\n",
       "      <th>q_hat</th>\n",
       "      <th>coverage</th>\n",
       "      <th>avg_size</th>\n",
       "    </tr>\n",
       "  </thead>\n",
       "  <tbody>\n",
       "    <tr>\n",
       "      <th>0</th>\n",
       "      <td>c0e33c3e2220da8b49cf0ce915df6679</td>\n",
       "      <td>logreg</td>\n",
       "      <td>none</td>\n",
       "      <td>keep-all</td>\n",
       "      <td>0.673672</td>\n",
       "      <td>0.912161</td>\n",
       "      <td>1.203768</td>\n",
       "    </tr>\n",
       "  </tbody>\n",
       "</table>\n",
       "</div>"
      ],
      "text/plain": [
       "                        universe_id universe_model universe_exclude_features  \\\n",
       "0  c0e33c3e2220da8b49cf0ce915df6679         logreg                      none   \n",
       "\n",
       "  universe_exclude_subgroups     q_hat  coverage  avg_size  \n",
       "0                   keep-all  0.673672  0.912161  1.203768  "
      ]
     },
     "execution_count": 45,
     "metadata": {},
     "output_type": "execute_result"
    }
   ],
   "source": [
    "cp_metrics_df"
   ]
  },
  {
   "cell_type": "code",
   "execution_count": 46,
   "id": "b7fbde55-a0a1-47e4-9af6-fe4a17fa8c61",
   "metadata": {
    "execution": {
     "iopub.execute_input": "2025-07-21T07:36:23.858827Z",
     "iopub.status.busy": "2025-07-21T07:36:23.858340Z",
     "iopub.status.idle": "2025-07-21T07:36:23.863342Z",
     "shell.execute_reply": "2025-07-21T07:36:23.862353Z"
    },
    "papermill": {
     "duration": 0.029297,
     "end_time": "2025-07-21T07:36:23.865106",
     "exception": false,
     "start_time": "2025-07-21T07:36:23.835809",
     "status": "completed"
    },
    "tags": []
   },
   "outputs": [],
   "source": [
    "# Conditional Coverage & looking at subgroups"
   ]
  },
  {
   "cell_type": "code",
   "execution_count": 47,
   "id": "027ae886-68dd-4141-96c7-805a5450e1ef",
   "metadata": {
    "execution": {
     "iopub.execute_input": "2025-07-21T07:36:23.916986Z",
     "iopub.status.busy": "2025-07-21T07:36:23.916475Z",
     "iopub.status.idle": "2025-07-21T07:36:24.121999Z",
     "shell.execute_reply": "2025-07-21T07:36:24.121130Z"
    },
    "papermill": {
     "duration": 0.232768,
     "end_time": "2025-07-21T07:36:24.123414",
     "exception": false,
     "start_time": "2025-07-21T07:36:23.890646",
     "status": "completed"
    },
    "tags": []
   },
   "outputs": [],
   "source": [
    "from fairness_multiverse.conformal import build_cp_groups\n",
    "\n",
    "cp_groups_df = build_cp_groups(pred_sets, y_true, X_test.index, org_test)\n",
    "#needs universe_id and setting"
   ]
  },
  {
   "cell_type": "code",
   "execution_count": 48,
   "id": "c3b92545-903e-4839-89af-0f057907d7d6",
   "metadata": {
    "execution": {
     "iopub.execute_input": "2025-07-21T07:36:24.147416Z",
     "iopub.status.busy": "2025-07-21T07:36:24.146908Z",
     "iopub.status.idle": "2025-07-21T07:36:25.993137Z",
     "shell.execute_reply": "2025-07-21T07:36:25.992038Z"
    },
    "papermill": {
     "duration": 1.860228,
     "end_time": "2025-07-21T07:36:25.995253",
     "exception": false,
     "start_time": "2025-07-21T07:36:24.135025",
     "status": "completed"
    },
    "tags": []
   },
   "outputs": [],
   "source": [
    "# Define covered = 1 if true_label is in the predicted set\n",
    "cp_groups_df['covered'] = cp_groups_df.apply(\n",
    "    lambda r: int(r['true_label'] in r['pred_set']),\n",
    "    axis=1\n",
    ")"
   ]
  },
  {
   "cell_type": "code",
   "execution_count": 49,
   "id": "338ff529-1a6b-4b87-a931-8e4788d52aad",
   "metadata": {
    "execution": {
     "iopub.execute_input": "2025-07-21T07:36:26.041828Z",
     "iopub.status.busy": "2025-07-21T07:36:26.041370Z",
     "iopub.status.idle": "2025-07-21T07:36:26.046340Z",
     "shell.execute_reply": "2025-07-21T07:36:26.045394Z"
    },
    "papermill": {
     "duration": 0.030728,
     "end_time": "2025-07-21T07:36:26.047975",
     "exception": false,
     "start_time": "2025-07-21T07:36:26.017247",
     "status": "completed"
    },
    "tags": []
   },
   "outputs": [],
   "source": [
    "#cp_groups_df"
   ]
  },
  {
   "cell_type": "code",
   "execution_count": 50,
   "id": "90032e27-66df-4540-9169-4e89cfbaa758",
   "metadata": {
    "execution": {
     "iopub.execute_input": "2025-07-21T07:36:26.097553Z",
     "iopub.status.busy": "2025-07-21T07:36:26.096832Z",
     "iopub.status.idle": "2025-07-21T07:36:26.108843Z",
     "shell.execute_reply": "2025-07-21T07:36:26.107746Z"
    },
    "papermill": {
     "duration": 0.038917,
     "end_time": "2025-07-21T07:36:26.110455",
     "exception": false,
     "start_time": "2025-07-21T07:36:26.071538",
     "status": "completed"
    },
    "tags": []
   },
   "outputs": [],
   "source": [
    "subgroups = ['frau1','nongerman','nongerman_male','nongerman_female']\n",
    "\n",
    "# Conditional coverage for subgroup==1\n",
    "cond_coverage = {\n",
    "    g: cp_groups_df.loc[cp_groups_df[g]==1, 'covered'].mean()\n",
    "    for g in subgroups\n",
    "}"
   ]
  },
  {
   "cell_type": "code",
   "execution_count": 51,
   "id": "1e348fb1-b9c3-45bc-ba23-f016827a7e0d",
   "metadata": {
    "execution": {
     "iopub.execute_input": "2025-07-21T07:36:26.164275Z",
     "iopub.status.busy": "2025-07-21T07:36:26.163920Z",
     "iopub.status.idle": "2025-07-21T07:36:26.170710Z",
     "shell.execute_reply": "2025-07-21T07:36:26.169773Z"
    },
    "papermill": {
     "duration": 0.034077,
     "end_time": "2025-07-21T07:36:26.172351",
     "exception": false,
     "start_time": "2025-07-21T07:36:26.138274",
     "status": "completed"
    },
    "tags": []
   },
   "outputs": [
    {
     "data": {
      "text/plain": [
       "{'frau1': 0.9117940423237633,\n",
       " 'nongerman': 0.931847527086959,\n",
       " 'nongerman_male': 0.9438890389984689,\n",
       " 'nongerman_female': 0.9119225037257824}"
      ]
     },
     "execution_count": 51,
     "metadata": {},
     "output_type": "execute_result"
    }
   ],
   "source": [
    "cond_coverage"
   ]
  },
  {
   "cell_type": "code",
   "execution_count": 52,
   "id": "f5093324-c3dd-4d63-bc4c-8d945e5c8bbb",
   "metadata": {
    "execution": {
     "iopub.execute_input": "2025-07-21T07:36:26.222488Z",
     "iopub.status.busy": "2025-07-21T07:36:26.222007Z",
     "iopub.status.idle": "2025-07-21T07:36:26.230467Z",
     "shell.execute_reply": "2025-07-21T07:36:26.229127Z"
    },
    "papermill": {
     "duration": 0.037327,
     "end_time": "2025-07-21T07:36:26.234436",
     "exception": false,
     "start_time": "2025-07-21T07:36:26.197109",
     "status": "completed"
    },
    "tags": []
   },
   "outputs": [],
   "source": [
    "for subgroup, cov in cond_coverage.items():\n",
    "    cp_metrics_df[f\"cov_{subgroup}\"] = cov"
   ]
  },
  {
   "cell_type": "code",
   "execution_count": 53,
   "id": "6e872e10-dbe5-49e8-b554-5030c98ff75d",
   "metadata": {
    "execution": {
     "iopub.execute_input": "2025-07-21T07:36:26.279340Z",
     "iopub.status.busy": "2025-07-21T07:36:26.278728Z",
     "iopub.status.idle": "2025-07-21T07:36:26.299398Z",
     "shell.execute_reply": "2025-07-21T07:36:26.298343Z"
    },
    "papermill": {
     "duration": 0.045736,
     "end_time": "2025-07-21T07:36:26.301205",
     "exception": false,
     "start_time": "2025-07-21T07:36:26.255469",
     "status": "completed"
    },
    "tags": []
   },
   "outputs": [
    {
     "data": {
      "text/html": [
       "<div>\n",
       "<style scoped>\n",
       "    .dataframe tbody tr th:only-of-type {\n",
       "        vertical-align: middle;\n",
       "    }\n",
       "\n",
       "    .dataframe tbody tr th {\n",
       "        vertical-align: top;\n",
       "    }\n",
       "\n",
       "    .dataframe thead th {\n",
       "        text-align: right;\n",
       "    }\n",
       "</style>\n",
       "<table border=\"1\" class=\"dataframe\">\n",
       "  <thead>\n",
       "    <tr style=\"text-align: right;\">\n",
       "      <th></th>\n",
       "      <th>universe_id</th>\n",
       "      <th>universe_model</th>\n",
       "      <th>universe_exclude_features</th>\n",
       "      <th>universe_exclude_subgroups</th>\n",
       "      <th>q_hat</th>\n",
       "      <th>coverage</th>\n",
       "      <th>avg_size</th>\n",
       "      <th>cov_frau1</th>\n",
       "      <th>cov_nongerman</th>\n",
       "      <th>cov_nongerman_male</th>\n",
       "      <th>cov_nongerman_female</th>\n",
       "    </tr>\n",
       "  </thead>\n",
       "  <tbody>\n",
       "    <tr>\n",
       "      <th>0</th>\n",
       "      <td>c0e33c3e2220da8b49cf0ce915df6679</td>\n",
       "      <td>logreg</td>\n",
       "      <td>none</td>\n",
       "      <td>keep-all</td>\n",
       "      <td>0.673672</td>\n",
       "      <td>0.912161</td>\n",
       "      <td>1.203768</td>\n",
       "      <td>0.911794</td>\n",
       "      <td>0.931848</td>\n",
       "      <td>0.943889</td>\n",
       "      <td>0.911923</td>\n",
       "    </tr>\n",
       "  </tbody>\n",
       "</table>\n",
       "</div>"
      ],
      "text/plain": [
       "                        universe_id universe_model universe_exclude_features  \\\n",
       "0  c0e33c3e2220da8b49cf0ce915df6679         logreg                      none   \n",
       "\n",
       "  universe_exclude_subgroups     q_hat  coverage  avg_size  cov_frau1  \\\n",
       "0                   keep-all  0.673672  0.912161  1.203768   0.911794   \n",
       "\n",
       "   cov_nongerman  cov_nongerman_male  cov_nongerman_female  \n",
       "0       0.931848            0.943889              0.911923  "
      ]
     },
     "execution_count": 53,
     "metadata": {},
     "output_type": "execute_result"
    }
   ],
   "source": [
    "cp_metrics_df"
   ]
  },
  {
   "cell_type": "markdown",
   "id": "33774451",
   "metadata": {
    "papermill": {
     "duration": 0.020141,
     "end_time": "2025-07-21T07:36:26.345207",
     "exception": false,
     "start_time": "2025-07-21T07:36:26.325066",
     "status": "completed"
    },
    "tags": []
   },
   "source": [
    "# (Fairness) Metrics"
   ]
  },
  {
   "cell_type": "code",
   "execution_count": 54,
   "id": "debc5d62",
   "metadata": {
    "execution": {
     "iopub.execute_input": "2025-07-21T07:36:26.391602Z",
     "iopub.status.busy": "2025-07-21T07:36:26.390561Z",
     "iopub.status.idle": "2025-07-21T07:36:26.412842Z",
     "shell.execute_reply": "2025-07-21T07:36:26.411781Z"
    },
    "papermill": {
     "duration": 0.047811,
     "end_time": "2025-07-21T07:36:26.414289",
     "exception": false,
     "start_time": "2025-07-21T07:36:26.366478",
     "status": "completed"
    },
    "tags": []
   },
   "outputs": [],
   "source": [
    "# do I need to include maxdeutsch1.missing?\n",
    "\n",
    "import numpy as np\n",
    "\n",
    "colname_to_bin = \"maxdeutsch1\"\n",
    "majority_value = org_train[colname_to_bin].mode()[0]\n",
    "\n",
    "org_test[\"majmin\"] = np.where(org_test[colname_to_bin] == majority_value, \"majority\", \"minority\")"
   ]
  },
  {
   "cell_type": "code",
   "execution_count": 55,
   "id": "06a50de5",
   "metadata": {
    "execution": {
     "iopub.execute_input": "2025-07-21T07:36:26.462715Z",
     "iopub.status.busy": "2025-07-21T07:36:26.461870Z",
     "iopub.status.idle": "2025-07-21T07:36:29.246919Z",
     "shell.execute_reply": "2025-07-21T07:36:29.245779Z"
    },
    "papermill": {
     "duration": 2.813208,
     "end_time": "2025-07-21T07:36:29.249245",
     "exception": false,
     "start_time": "2025-07-21T07:36:26.436037",
     "status": "completed"
    },
    "tags": []
   },
   "outputs": [],
   "source": [
    "example_universe = universe.copy()\n",
    "example_universe[\"cutoff\"] = example_universe[\"cutoff\"][0]\n",
    "example_universe[\"eval_fairness_grouping\"] = example_universe[\"eval_fairness_grouping\"][0]\n",
    "fairness_dict, metric_frame = universe_analysis.compute_metrics(\n",
    "    example_universe,\n",
    "    y_pred_prob=probs_test,\n",
    "    y_test=y_true,\n",
    "    org_test=org_test,\n",
    ")"
   ]
  },
  {
   "cell_type": "markdown",
   "id": "f95d4e02",
   "metadata": {
    "papermill": {
     "duration": 0.023993,
     "end_time": "2025-07-21T07:36:29.298636",
     "exception": false,
     "start_time": "2025-07-21T07:36:29.274643",
     "status": "completed"
    },
    "tags": []
   },
   "source": [
    "# Overall"
   ]
  },
  {
   "cell_type": "markdown",
   "id": "bdee4871",
   "metadata": {
    "papermill": {
     "duration": 0.023086,
     "end_time": "2025-07-21T07:36:29.345216",
     "exception": false,
     "start_time": "2025-07-21T07:36:29.322130",
     "status": "completed"
    },
    "tags": []
   },
   "source": [
    "Fairness\n",
    "Main fairness target: Equalized Odds. Seems to be a better fit than equal opportunity, since we're not only interested in Y = 1. Seems to be a better fit than demographic parity, since we also care about accuracy, not just equal distribution of preds.\n",
    "\n",
    "Pick column for computation of fairness metrics\n",
    "\n",
    "Performance\n",
    "Overall performance measures, most interesting in relation to the measures split by group below"
   ]
  },
  {
   "cell_type": "code",
   "execution_count": 56,
   "id": "c4e067c6",
   "metadata": {
    "execution": {
     "iopub.execute_input": "2025-07-21T07:36:29.395158Z",
     "iopub.status.busy": "2025-07-21T07:36:29.394682Z",
     "iopub.status.idle": "2025-07-21T07:36:29.403223Z",
     "shell.execute_reply": "2025-07-21T07:36:29.402389Z"
    },
    "papermill": {
     "duration": 0.035626,
     "end_time": "2025-07-21T07:36:29.404948",
     "exception": false,
     "start_time": "2025-07-21T07:36:29.369322",
     "status": "completed"
    },
    "tags": []
   },
   "outputs": [
    {
     "data": {
      "text/plain": [
       "accuracy                   0.217557\n",
       "balanced accuracy          0.533384\n",
       "f1                         0.239076\n",
       "precision                  0.136576\n",
       "false positive rate        0.891435\n",
       "false negative rate        0.041797\n",
       "selection rate             0.900000\n",
       "count                  89710.000000\n",
       "dtype: float64"
      ]
     },
     "execution_count": 56,
     "metadata": {},
     "output_type": "execute_result"
    }
   ],
   "source": [
    "metric_frame.overall"
   ]
  },
  {
   "cell_type": "markdown",
   "id": "e968fe9d",
   "metadata": {
    "papermill": {
     "duration": 0.02346,
     "end_time": "2025-07-21T07:36:29.452211",
     "exception": false,
     "start_time": "2025-07-21T07:36:29.428751",
     "status": "completed"
    },
    "tags": []
   },
   "source": [
    "By Group"
   ]
  },
  {
   "cell_type": "code",
   "execution_count": 57,
   "id": "ec325bce",
   "metadata": {
    "execution": {
     "iopub.execute_input": "2025-07-21T07:36:29.500782Z",
     "iopub.status.busy": "2025-07-21T07:36:29.500119Z",
     "iopub.status.idle": "2025-07-21T07:36:29.515569Z",
     "shell.execute_reply": "2025-07-21T07:36:29.514702Z"
    },
    "papermill": {
     "duration": 0.041645,
     "end_time": "2025-07-21T07:36:29.517356",
     "exception": false,
     "start_time": "2025-07-21T07:36:29.475711",
     "status": "completed"
    },
    "tags": []
   },
   "outputs": [
    {
     "data": {
      "text/html": [
       "<div>\n",
       "<style scoped>\n",
       "    .dataframe tbody tr th:only-of-type {\n",
       "        vertical-align: middle;\n",
       "    }\n",
       "\n",
       "    .dataframe tbody tr th {\n",
       "        vertical-align: top;\n",
       "    }\n",
       "\n",
       "    .dataframe thead th {\n",
       "        text-align: right;\n",
       "    }\n",
       "</style>\n",
       "<table border=\"1\" class=\"dataframe\">\n",
       "  <thead>\n",
       "    <tr style=\"text-align: right;\">\n",
       "      <th></th>\n",
       "      <th>accuracy</th>\n",
       "      <th>balanced accuracy</th>\n",
       "      <th>f1</th>\n",
       "      <th>precision</th>\n",
       "      <th>false positive rate</th>\n",
       "      <th>false negative rate</th>\n",
       "      <th>selection rate</th>\n",
       "      <th>count</th>\n",
       "    </tr>\n",
       "    <tr>\n",
       "      <th>majmin</th>\n",
       "      <th></th>\n",
       "      <th></th>\n",
       "      <th></th>\n",
       "      <th></th>\n",
       "      <th></th>\n",
       "      <th></th>\n",
       "      <th></th>\n",
       "      <th></th>\n",
       "    </tr>\n",
       "  </thead>\n",
       "  <tbody>\n",
       "    <tr>\n",
       "      <th>majority</th>\n",
       "      <td>0.239728</td>\n",
       "      <td>0.541117</td>\n",
       "      <td>0.248399</td>\n",
       "      <td>0.142862</td>\n",
       "      <td>0.868532</td>\n",
       "      <td>0.049234</td>\n",
       "      <td>0.879399</td>\n",
       "      <td>69170.0</td>\n",
       "    </tr>\n",
       "    <tr>\n",
       "      <th>minority</th>\n",
       "      <td>0.142892</td>\n",
       "      <td>0.509908</td>\n",
       "      <td>0.209794</td>\n",
       "      <td>0.117372</td>\n",
       "      <td>0.967092</td>\n",
       "      <td>0.013091</td>\n",
       "      <td>0.969377</td>\n",
       "      <td>20540.0</td>\n",
       "    </tr>\n",
       "  </tbody>\n",
       "</table>\n",
       "</div>"
      ],
      "text/plain": [
       "          accuracy  balanced accuracy        f1  precision  \\\n",
       "majmin                                                       \n",
       "majority  0.239728           0.541117  0.248399   0.142862   \n",
       "minority  0.142892           0.509908  0.209794   0.117372   \n",
       "\n",
       "          false positive rate  false negative rate  selection rate    count  \n",
       "majmin                                                                       \n",
       "majority             0.868532             0.049234        0.879399  69170.0  \n",
       "minority             0.967092             0.013091        0.969377  20540.0  "
      ]
     },
     "execution_count": 57,
     "metadata": {},
     "output_type": "execute_result"
    }
   ],
   "source": [
    "metric_frame.by_group"
   ]
  },
  {
   "cell_type": "code",
   "execution_count": 58,
   "id": "a9ddbe63",
   "metadata": {
    "execution": {
     "iopub.execute_input": "2025-07-21T07:36:29.568207Z",
     "iopub.status.busy": "2025-07-21T07:36:29.567675Z",
     "iopub.status.idle": "2025-07-21T07:36:32.050584Z",
     "shell.execute_reply": "2025-07-21T07:36:32.049627Z"
    },
    "papermill": {
     "duration": 2.51007,
     "end_time": "2025-07-21T07:36:32.052251",
     "exception": false,
     "start_time": "2025-07-21T07:36:29.542181",
     "status": "completed"
    },
    "tags": []
   },
   "outputs": [
    {
     "data": {
      "text/plain": [
       "array([[<Axes: title={'center': 'accuracy'}, xlabel='majmin'>,\n",
       "        <Axes: title={'center': 'balanced accuracy'}, xlabel='majmin'>,\n",
       "        <Axes: title={'center': 'f1'}, xlabel='majmin'>],\n",
       "       [<Axes: title={'center': 'precision'}, xlabel='majmin'>,\n",
       "        <Axes: title={'center': 'false positive rate'}, xlabel='majmin'>,\n",
       "        <Axes: title={'center': 'false negative rate'}, xlabel='majmin'>],\n",
       "       [<Axes: title={'center': 'selection rate'}, xlabel='majmin'>,\n",
       "        <Axes: title={'center': 'count'}, xlabel='majmin'>,\n",
       "        <Axes: xlabel='majmin'>]], dtype=object)"
      ]
     },
     "execution_count": 58,
     "metadata": {},
     "output_type": "execute_result"
    },
    {
     "data": {
      "image/png": "[encoded data removed]",
      "text/plain": [
       "<Figure size 1200x800 with 9 Axes>"
      ]
     },
     "metadata": {},
     "output_type": "display_data"
    }
   ],
   "source": [
    "# In a graphic\n",
    "metric_frame.by_group.plot.bar(\n",
    "    subplots=True,\n",
    "    layout=[3, 3],\n",
    "    legend=False,\n",
    "    figsize=[12, 8],\n",
    "    title=\"Show all metrics\",\n",
    ")"
   ]
  },
  {
   "cell_type": "markdown",
   "id": "f57a0bac",
   "metadata": {
    "papermill": {
     "duration": 0.021576,
     "end_time": "2025-07-21T07:36:32.100527",
     "exception": false,
     "start_time": "2025-07-21T07:36:32.078951",
     "status": "completed"
    },
    "tags": []
   },
   "source": [
    "# Final Output"
   ]
  },
  {
   "cell_type": "code",
   "execution_count": 59,
   "id": "96d280a3",
   "metadata": {
    "execution": {
     "iopub.execute_input": "2025-07-21T07:36:32.146759Z",
     "iopub.status.busy": "2025-07-21T07:36:32.145455Z",
     "iopub.status.idle": "2025-07-21T07:36:32.153522Z",
     "shell.execute_reply": "2025-07-21T07:36:32.152598Z"
    },
    "papermill": {
     "duration": 0.032234,
     "end_time": "2025-07-21T07:36:32.155022",
     "exception": false,
     "start_time": "2025-07-21T07:36:32.122788",
     "status": "completed"
    },
    "tags": []
   },
   "outputs": [
    {
     "data": {
      "text/plain": [
       "4"
      ]
     },
     "execution_count": 59,
     "metadata": {},
     "output_type": "execute_result"
    }
   ],
   "source": [
    "sub_universes = universe_analysis.generate_sub_universes()\n",
    "len(sub_universes)"
   ]
  },
  {
   "cell_type": "code",
   "execution_count": 60,
   "id": "92adf7ba",
   "metadata": {
    "execution": {
     "iopub.execute_input": "2025-07-21T07:36:32.204235Z",
     "iopub.status.busy": "2025-07-21T07:36:32.203579Z",
     "iopub.status.idle": "2025-07-21T07:36:32.209787Z",
     "shell.execute_reply": "2025-07-21T07:36:32.208680Z"
    },
    "papermill": {
     "duration": 0.033914,
     "end_time": "2025-07-21T07:36:32.211392",
     "exception": false,
     "start_time": "2025-07-21T07:36:32.177478",
     "status": "completed"
    },
    "tags": []
   },
   "outputs": [],
   "source": [
    "def filter_sub_universe_data(sub_universe, org_test):\n",
    "    # Keep all rows — no filtering\n",
    "    keep_rows_mask = np.ones(org_test.shape[0], dtype=bool)\n",
    "\n",
    "    print(f\"[INFO] Keeping all rows: {keep_rows_mask.sum()} rows retained.\")\n",
    "    return keep_rows_mask"
   ]
  },
  {
   "cell_type": "code",
   "execution_count": 61,
   "id": "4a759155",
   "metadata": {
    "execution": {
     "iopub.execute_input": "2025-07-21T07:36:32.257493Z",
     "iopub.status.busy": "2025-07-21T07:36:32.256860Z",
     "iopub.status.idle": "2025-07-21T07:36:40.935437Z",
     "shell.execute_reply": "2025-07-21T07:36:40.934137Z"
    },
    "papermill": {
     "duration": 8.703334,
     "end_time": "2025-07-21T07:36:40.937315",
     "exception": false,
     "start_time": "2025-07-21T07:36:32.233981",
     "status": "completed"
    },
    "tags": []
   },
   "outputs": [
    {
     "name": "stdout",
     "output_type": "stream",
     "text": [
      "Stopping execution_time clock.\n",
      "[INFO] Keeping all rows: 89710 rows retained.\n"
     ]
    },
    {
     "name": "stdout",
     "output_type": "stream",
     "text": [
      "[INFO] Keeping all rows: 89710 rows retained.\n"
     ]
    },
    {
     "name": "stdout",
     "output_type": "stream",
     "text": [
      "[INFO] Keeping all rows: 89710 rows retained.\n"
     ]
    },
    {
     "name": "stdout",
     "output_type": "stream",
     "text": [
      "[INFO] Keeping all rows: 89710 rows retained.\n"
     ]
    },
    {
     "data": {
      "text/html": [
       "<div>\n",
       "<style scoped>\n",
       "    .dataframe tbody tr th:only-of-type {\n",
       "        vertical-align: middle;\n",
       "    }\n",
       "\n",
       "    .dataframe tbody tr th {\n",
       "        vertical-align: top;\n",
       "    }\n",
       "\n",
       "    .dataframe thead th {\n",
       "        text-align: right;\n",
       "    }\n",
       "</style>\n",
       "<table border=\"1\" class=\"dataframe\">\n",
       "  <thead>\n",
       "    <tr style=\"text-align: right;\">\n",
       "      <th></th>\n",
       "      <th>run_no</th>\n",
       "      <th>universe_id</th>\n",
       "      <th>universe_settings</th>\n",
       "      <th>execution_time</th>\n",
       "      <th>test_size_n</th>\n",
       "      <th>test_size_frac</th>\n",
       "      <th>fair_main_equalized_odds_difference</th>\n",
       "      <th>fair_main_equalized_odds_ratio</th>\n",
       "      <th>fair_main_demographic_parity_difference</th>\n",
       "      <th>fair_main_demographic_parity_ratio</th>\n",
       "      <th>...</th>\n",
       "      <th>perf_grp_precision_0</th>\n",
       "      <th>perf_grp_precision_1</th>\n",
       "      <th>perf_grp_false positive rate_0</th>\n",
       "      <th>perf_grp_false positive rate_1</th>\n",
       "      <th>perf_grp_false negative rate_0</th>\n",
       "      <th>perf_grp_false negative rate_1</th>\n",
       "      <th>perf_grp_selection rate_0</th>\n",
       "      <th>perf_grp_selection rate_1</th>\n",
       "      <th>perf_grp_count_0</th>\n",
       "      <th>perf_grp_count_1</th>\n",
       "    </tr>\n",
       "  </thead>\n",
       "  <tbody>\n",
       "    <tr>\n",
       "      <th>0</th>\n",
       "      <td>2</td>\n",
       "      <td>c0e33c3e2220da8b49cf0ce915df6679</td>\n",
       "      <td>{\"cutoff\": \"quantile_0.1\", \"eval_fairness_grou...</td>\n",
       "      <td>31.922718</td>\n",
       "      <td>89710</td>\n",
       "      <td>1.0</td>\n",
       "      <td>0.098560</td>\n",
       "      <td>0.898086</td>\n",
       "      <td>0.089978</td>\n",
       "      <td>0.907179</td>\n",
       "      <td>...</td>\n",
       "      <td>NaN</td>\n",
       "      <td>NaN</td>\n",
       "      <td>NaN</td>\n",
       "      <td>NaN</td>\n",
       "      <td>NaN</td>\n",
       "      <td>NaN</td>\n",
       "      <td>NaN</td>\n",
       "      <td>NaN</td>\n",
       "      <td>NaN</td>\n",
       "      <td>NaN</td>\n",
       "    </tr>\n",
       "    <tr>\n",
       "      <th>0</th>\n",
       "      <td>2</td>\n",
       "      <td>c0e33c3e2220da8b49cf0ce915df6679</td>\n",
       "      <td>{\"cutoff\": \"quantile_0.1\", \"eval_fairness_grou...</td>\n",
       "      <td>31.922718</td>\n",
       "      <td>89710</td>\n",
       "      <td>1.0</td>\n",
       "      <td>0.098560</td>\n",
       "      <td>0.898086</td>\n",
       "      <td>0.089978</td>\n",
       "      <td>0.907179</td>\n",
       "      <td>...</td>\n",
       "      <td>0.117372</td>\n",
       "      <td>0.142862</td>\n",
       "      <td>0.967092</td>\n",
       "      <td>0.868532</td>\n",
       "      <td>0.013091</td>\n",
       "      <td>0.049234</td>\n",
       "      <td>0.969377</td>\n",
       "      <td>0.879399</td>\n",
       "      <td>20540.0</td>\n",
       "      <td>69170.0</td>\n",
       "    </tr>\n",
       "    <tr>\n",
       "      <th>0</th>\n",
       "      <td>2</td>\n",
       "      <td>c0e33c3e2220da8b49cf0ce915df6679</td>\n",
       "      <td>{\"cutoff\": \"quantile_0.25\", \"eval_fairness_gro...</td>\n",
       "      <td>31.922718</td>\n",
       "      <td>89710</td>\n",
       "      <td>1.0</td>\n",
       "      <td>0.217594</td>\n",
       "      <td>0.757475</td>\n",
       "      <td>0.199475</td>\n",
       "      <td>0.779293</td>\n",
       "      <td>...</td>\n",
       "      <td>NaN</td>\n",
       "      <td>NaN</td>\n",
       "      <td>NaN</td>\n",
       "      <td>NaN</td>\n",
       "      <td>NaN</td>\n",
       "      <td>NaN</td>\n",
       "      <td>NaN</td>\n",
       "      <td>NaN</td>\n",
       "      <td>NaN</td>\n",
       "      <td>NaN</td>\n",
       "    </tr>\n",
       "    <tr>\n",
       "      <th>0</th>\n",
       "      <td>2</td>\n",
       "      <td>c0e33c3e2220da8b49cf0ce915df6679</td>\n",
       "      <td>{\"cutoff\": \"quantile_0.25\", \"eval_fairness_gro...</td>\n",
       "      <td>31.922718</td>\n",
       "      <td>89710</td>\n",
       "      <td>1.0</td>\n",
       "      <td>0.217594</td>\n",
       "      <td>0.757475</td>\n",
       "      <td>0.199475</td>\n",
       "      <td>0.779293</td>\n",
       "      <td>...</td>\n",
       "      <td>0.121741</td>\n",
       "      <td>0.162589</td>\n",
       "      <td>0.897204</td>\n",
       "      <td>0.679610</td>\n",
       "      <td>0.045608</td>\n",
       "      <td>0.133370</td>\n",
       "      <td>0.903797</td>\n",
       "      <td>0.704323</td>\n",
       "      <td>20540.0</td>\n",
       "      <td>69170.0</td>\n",
       "    </tr>\n",
       "  </tbody>\n",
       "</table>\n",
       "<p>4 rows × 50 columns</p>\n",
       "</div>"
      ],
      "text/plain": [
       "  run_no                       universe_id  \\\n",
       "0      2  c0e33c3e2220da8b49cf0ce915df6679   \n",
       "0      2  c0e33c3e2220da8b49cf0ce915df6679   \n",
       "0      2  c0e33c3e2220da8b49cf0ce915df6679   \n",
       "0      2  c0e33c3e2220da8b49cf0ce915df6679   \n",
       "\n",
       "                                   universe_settings  execution_time  \\\n",
       "0  {\"cutoff\": \"quantile_0.1\", \"eval_fairness_grou...       31.922718   \n",
       "0  {\"cutoff\": \"quantile_0.1\", \"eval_fairness_grou...       31.922718   \n",
       "0  {\"cutoff\": \"quantile_0.25\", \"eval_fairness_gro...       31.922718   \n",
       "0  {\"cutoff\": \"quantile_0.25\", \"eval_fairness_gro...       31.922718   \n",
       "\n",
       "   test_size_n  test_size_frac  fair_main_equalized_odds_difference  \\\n",
       "0        89710             1.0                             0.098560   \n",
       "0        89710             1.0                             0.098560   \n",
       "0        89710             1.0                             0.217594   \n",
       "0        89710             1.0                             0.217594   \n",
       "\n",
       "   fair_main_equalized_odds_ratio  fair_main_demographic_parity_difference  \\\n",
       "0                        0.898086                                 0.089978   \n",
       "0                        0.898086                                 0.089978   \n",
       "0                        0.757475                                 0.199475   \n",
       "0                        0.757475                                 0.199475   \n",
       "\n",
       "   fair_main_demographic_parity_ratio  ...  perf_grp_precision_0  \\\n",
       "0                            0.907179  ...                   NaN   \n",
       "0                            0.907179  ...              0.117372   \n",
       "0                            0.779293  ...                   NaN   \n",
       "0                            0.779293  ...              0.121741   \n",
       "\n",
       "   perf_grp_precision_1  perf_grp_false positive rate_0  \\\n",
       "0                   NaN                             NaN   \n",
       "0              0.142862                        0.967092   \n",
       "0                   NaN                             NaN   \n",
       "0              0.162589                        0.897204   \n",
       "\n",
       "   perf_grp_false positive rate_1  perf_grp_false negative rate_0  \\\n",
       "0                             NaN                             NaN   \n",
       "0                        0.868532                        0.013091   \n",
       "0                             NaN                             NaN   \n",
       "0                        0.679610                        0.045608   \n",
       "\n",
       "   perf_grp_false negative rate_1  perf_grp_selection rate_0  \\\n",
       "0                             NaN                        NaN   \n",
       "0                        0.049234                   0.969377   \n",
       "0                             NaN                        NaN   \n",
       "0                        0.133370                   0.903797   \n",
       "\n",
       "   perf_grp_selection rate_1  perf_grp_count_0  perf_grp_count_1  \n",
       "0                        NaN               NaN               NaN  \n",
       "0                   0.879399           20540.0           69170.0  \n",
       "0                        NaN               NaN               NaN  \n",
       "0                   0.704323           20540.0           69170.0  \n",
       "\n",
       "[4 rows x 50 columns]"
      ]
     },
     "execution_count": 61,
     "metadata": {},
     "output_type": "execute_result"
    }
   ],
   "source": [
    "final_output = universe_analysis.generate_final_output(\n",
    "    y_pred_prob=probs_test,\n",
    "    y_test=y_true,\n",
    "    org_test=org_test,\n",
    "    filter_data=filter_sub_universe_data,\n",
    "    cp_metrics_df=cp_metrics_df,\n",
    "    save=True,\n",
    ")\n",
    "final_output"
   ]
  },
  {
   "cell_type": "code",
   "execution_count": null,
   "id": "721ff514-cb11-46f8-b6fc-50392f74b5cb",
   "metadata": {
    "papermill": {
     "duration": 0.032951,
     "end_time": "2025-07-21T07:36:41.000853",
     "exception": false,
     "start_time": "2025-07-21T07:36:40.967902",
     "status": "completed"
    },
    "tags": []
   },
   "outputs": [],
   "source": []
  }
 ],
 "metadata": {
  "celltoolbar": "Tags",
  "kernelspec": {
   "display_name": "Python (CMA Fairness)",
   "language": "python",
   "name": "cma_fair_env"
  },
  "language_info": {
   "codemirror_mode": {
    "name": "ipython",
    "version": 3
   },
   "file_extension": ".py",
   "mimetype": "text/x-python",
   "name": "python",
   "nbconvert_exporter": "python",
   "pygments_lexer": "ipython3",
   "version": "3.10.12"
  },
  "papermill": {
   "default_parameters": {},
   "duration": 48.62671,
   "end_time": "2025-07-21T07:36:41.750389",
   "environment_variables": {},
   "exception": null,
   "input_path": "universe_analysis.ipynb",
   "output_path": "output/runs/2/notebooks/m_2-c0e33c3e2220da8b49cf0ce915df6679.ipynb",
   "parameters": {
    "output_dir": "output",
    "run_no": "2",
    "seed": "2023",
    "universe": "{\"cutoff\": [\"quantile_0.1\", \"quantile_0.25\"], \"eval_fairness_grouping\": [\"majority-minority\", \"nationality-all\"], \"exclude_features\": \"none\", \"exclude_subgroups\": \"keep-all\", \"model\": \"logreg\"}",
    "universe_id": "c0e33c3e2220da8b49cf0ce915df6679"
   },
   "start_time": "2025-07-21T07:35:53.123679",
   "version": "2.6.0"
  }
 },
 "nbformat": 4,
 "nbformat_minor": 5
}