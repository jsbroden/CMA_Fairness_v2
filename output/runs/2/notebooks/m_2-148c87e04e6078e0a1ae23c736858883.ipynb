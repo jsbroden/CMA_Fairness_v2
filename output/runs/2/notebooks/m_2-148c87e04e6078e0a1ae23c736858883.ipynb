{
 "cells": [
  {
   "cell_type": "markdown",
   "id": "b2057076-3a91-4cfa-9bfd-eab1e61b3068",
   "metadata": {
    "papermill": {
     "duration": 0.009103,
     "end_time": "2025-08-19T17:11:23.812959",
     "exception": false,
     "start_time": "2025-08-19T17:11:23.803856",
     "status": "completed"
    },
    "tags": []
   },
   "source": [
    "# Setup"
   ]
  },
  {
   "cell_type": "code",
   "execution_count": 1,
   "id": "f159f837-637b-42ba-96b5-ec9a68c44524",
   "metadata": {
    "execution": {
     "iopub.execute_input": "2025-08-19T17:11:23.831799Z",
     "iopub.status.busy": "2025-08-19T17:11:23.831494Z",
     "iopub.status.idle": "2025-08-19T17:11:23.841344Z",
     "shell.execute_reply": "2025-08-19T17:11:23.840501Z"
    },
    "papermill": {
     "duration": 0.020988,
     "end_time": "2025-08-19T17:11:23.842674",
     "exception": false,
     "start_time": "2025-08-19T17:11:23.821686",
     "status": "completed"
    },
    "tags": []
   },
   "outputs": [
    {
     "name": "stdout",
     "output_type": "stream",
     "text": [
      "/dss/dsshome1/0C/ra93lal2/cma/CMA_Fairness_v2\n"
     ]
    },
    {
     "name": "stderr",
     "output_type": "stream",
     "text": [
      "/dss/dsshome1/0C/ra93lal2/.local/share/virtualenvs/CMA_Fairness_v2-3j10GkSs/lib/python3.10/site-packages/IPython/core/magics/osm.py:393: UserWarning: This is now an optional IPython functionality, using bookmarks requires you to install the `pickleshare` library.\n",
      "  bkms = self.shell.db.get('bookmarks', {})\n",
      "/dss/dsshome1/0C/ra93lal2/.local/share/virtualenvs/CMA_Fairness_v2-3j10GkSs/lib/python3.10/site-packages/IPython/core/magics/osm.py:417: UserWarning: This is now an optional IPython functionality, setting dhist requires you to install the `pickleshare` library.\n",
      "  self.shell.db['dhist'] = compress_dhist(dhist)[-100:]\n"
     ]
    }
   ],
   "source": [
    "%cd ~/cma/CMA_Fairness_v2"
   ]
  },
  {
   "cell_type": "markdown",
   "id": "de2603b9",
   "metadata": {
    "papermill": {
     "duration": 0.009191,
     "end_time": "2025-08-19T17:11:23.866084",
     "exception": false,
     "start_time": "2025-08-19T17:11:23.856893",
     "status": "completed"
    },
    "tags": []
   },
   "source": [
    "The following cell holds the definition of our parameters, these values can be overriden by rendering the with e.g. the following command:\n",
    "\n",
    "papermill -p alpha 0.2 -p ratio 0.3 universe_analysis.ipynb output/test_run.ipynb"
   ]
  },
  {
   "cell_type": "code",
   "execution_count": 2,
   "id": "a80968a0-40bb-4fa9-85ef-2d5eefb01975",
   "metadata": {
    "execution": {
     "iopub.execute_input": "2025-08-19T17:11:23.885455Z",
     "iopub.status.busy": "2025-08-19T17:11:23.885183Z",
     "iopub.status.idle": "2025-08-19T17:11:23.890222Z",
     "shell.execute_reply": "2025-08-19T17:11:23.889401Z"
    },
    "papermill": {
     "duration": 0.016725,
     "end_time": "2025-08-19T17:11:23.891913",
     "exception": false,
     "start_time": "2025-08-19T17:11:23.875188",
     "status": "completed"
    },
    "tags": []
   },
   "outputs": [
    {
     "name": "stdout",
     "output_type": "stream",
     "text": [
      "Current working directory: /dss/dsshome1/0C/ra93lal2/cma/CMA_Fairness_v2\n"
     ]
    }
   ],
   "source": [
    "import os\n",
    "print(\"Current working directory:\", os.getcwd())"
   ]
  },
  {
   "cell_type": "code",
   "execution_count": 3,
   "id": "2dce4c03",
   "metadata": {
    "execution": {
     "iopub.execute_input": "2025-08-19T17:11:23.919503Z",
     "iopub.status.busy": "2025-08-19T17:11:23.919142Z",
     "iopub.status.idle": "2025-08-19T17:11:23.926219Z",
     "shell.execute_reply": "2025-08-19T17:11:23.925023Z"
    },
    "papermill": {
     "duration": 0.025809,
     "end_time": "2025-08-19T17:11:23.928333",
     "exception": false,
     "start_time": "2025-08-19T17:11:23.902524",
     "status": "completed"
    },
    "tags": [
     "parameters"
    ]
   },
   "outputs": [],
   "source": [
    "run_no = 0\n",
    "universe_id = \"test\"\n",
    "universe = {\n",
    "    \"training_size\": \"5k\", # \"25k\", \"5k\", \"1k\"\n",
    "    \"training_year\": \"2012_14\", # \"2014\", \"2012_14\", \"2010_14\"\n",
    "    \"scale\": \"scale\", # \"scale\", \"do-not-scale\",\n",
    "    \"model\": \"elasticnet\", # \"logreg\", \"penalized_logreg\", \"rf\", \"gbm\", \"elasticnet\"\n",
    "    \"cutoff\": [\"quantile_0.15\", \"quantile_0.30\"],\n",
    "    \"exclude_features\": \"age\", # \"none\", \"nationality\", \"sex\", \"nationality-sex\", \"age\"\n",
    "    \"exclude_subgroups\": \"drop-non-german\", # \"keep-all\", \"drop-non-german\"\n",
    "    \"eval_fairness_grouping\": [\"majority-minority\", \"nationality-all\"]\n",
    "}\n",
    "\n",
    "output_dir=\"./output\"\n",
    "seed=0"
   ]
  },
  {
   "cell_type": "code",
   "execution_count": 4,
   "id": "9c01d7e0",
   "metadata": {
    "execution": {
     "iopub.execute_input": "2025-08-19T17:11:23.951555Z",
     "iopub.status.busy": "2025-08-19T17:11:23.951267Z",
     "iopub.status.idle": "2025-08-19T17:11:23.957621Z",
     "shell.execute_reply": "2025-08-19T17:11:23.956732Z"
    },
    "papermill": {
     "duration": 0.020154,
     "end_time": "2025-08-19T17:11:23.959275",
     "exception": false,
     "start_time": "2025-08-19T17:11:23.939121",
     "status": "completed"
    },
    "tags": [
     "injected-parameters"
    ]
   },
   "outputs": [],
   "source": [
    "# Parameters\n",
    "universe_id = \"148c87e04e6078e0a1ae23c736858883\"\n",
    "run_no = \"2\"\n",
    "universe = \"{\\\"cutoff\\\": [\\\"quantile_0.1\\\", \\\"quantile_0.25\\\"], \\\"eval_fairness_grouping\\\": [\\\"majority-minority\\\", \\\"nationality-all\\\"], \\\"exclude_features\\\": \\\"none\\\", \\\"exclude_subgroups\\\": \\\"drop-non-german\\\", \\\"model\\\": \\\"penalized_logreg\\\", \\\"scale\\\": \\\"do-not-scale\\\", \\\"training_size\\\": \\\"25k\\\", \\\"training_year\\\": \\\"2012_14\\\"}\"\n",
    "output_dir = \"output\"\n",
    "seed = \"2023\"\n"
   ]
  },
  {
   "cell_type": "code",
   "execution_count": 5,
   "id": "1650acaf",
   "metadata": {
    "execution": {
     "iopub.execute_input": "2025-08-19T17:11:23.980459Z",
     "iopub.status.busy": "2025-08-19T17:11:23.980186Z",
     "iopub.status.idle": "2025-08-19T17:11:23.985952Z",
     "shell.execute_reply": "2025-08-19T17:11:23.985196Z"
    },
    "papermill": {
     "duration": 0.01877,
     "end_time": "2025-08-19T17:11:23.988343",
     "exception": false,
     "start_time": "2025-08-19T17:11:23.969573",
     "status": "completed"
    },
    "tags": []
   },
   "outputs": [],
   "source": [
    "import json\n",
    "if isinstance(universe, str):\n",
    "    universe = json.loads(universe)"
   ]
  },
  {
   "cell_type": "code",
   "execution_count": 6,
   "id": "16620c48",
   "metadata": {
    "execution": {
     "iopub.execute_input": "2025-08-19T17:11:24.022501Z",
     "iopub.status.busy": "2025-08-19T17:11:24.021564Z",
     "iopub.status.idle": "2025-08-19T17:11:24.132846Z",
     "shell.execute_reply": "2025-08-19T17:11:24.131914Z"
    },
    "papermill": {
     "duration": 0.126701,
     "end_time": "2025-08-19T17:11:24.135502",
     "exception": false,
     "start_time": "2025-08-19T17:11:24.008801",
     "status": "completed"
    },
    "tags": []
   },
   "outputs": [],
   "source": [
    "# Auto-reload the custom package\n",
    "%load_ext autoreload\n",
    "%autoreload 1\n",
    "%aimport fairness_multiverse"
   ]
  },
  {
   "cell_type": "code",
   "execution_count": 7,
   "id": "01c5c9f3",
   "metadata": {
    "execution": {
     "iopub.execute_input": "2025-08-19T17:11:24.192333Z",
     "iopub.status.busy": "2025-08-19T17:11:24.191559Z",
     "iopub.status.idle": "2025-08-19T17:11:25.920023Z",
     "shell.execute_reply": "2025-08-19T17:11:25.918795Z"
    },
    "papermill": {
     "duration": 1.765842,
     "end_time": "2025-08-19T17:11:25.923765",
     "exception": false,
     "start_time": "2025-08-19T17:11:24.157923",
     "status": "completed"
    },
    "tags": []
   },
   "outputs": [],
   "source": [
    "from fairness_multiverse.universe import UniverseAnalysis\n",
    "\n",
    "universe_analysis = UniverseAnalysis(\n",
    "    run_no = run_no,\n",
    "    universe_id = universe_id,\n",
    "    universe = universe,\n",
    "    output_dir=output_dir,\n",
    ")"
   ]
  },
  {
   "cell_type": "code",
   "execution_count": 8,
   "id": "106241f5",
   "metadata": {
    "execution": {
     "iopub.execute_input": "2025-08-19T17:11:25.958796Z",
     "iopub.status.busy": "2025-08-19T17:11:25.958178Z",
     "iopub.status.idle": "2025-08-19T17:11:25.967721Z",
     "shell.execute_reply": "2025-08-19T17:11:25.966607Z"
    },
    "papermill": {
     "duration": 0.024342,
     "end_time": "2025-08-19T17:11:25.969567",
     "exception": false,
     "start_time": "2025-08-19T17:11:25.945225",
     "status": "completed"
    },
    "tags": []
   },
   "outputs": [
    {
     "name": "stdout",
     "output_type": "stream",
     "text": [
      "Using Seed: 2023\n"
     ]
    }
   ],
   "source": [
    "import numpy as np\n",
    "parsed_seed = int(seed)\n",
    "np.random.seed(parsed_seed)\n",
    "print(f\"Using Seed: {parsed_seed}\")"
   ]
  },
  {
   "cell_type": "markdown",
   "id": "e0ebdc57",
   "metadata": {
    "papermill": {
     "duration": 0.009322,
     "end_time": "2025-08-19T17:11:25.988205",
     "exception": false,
     "start_time": "2025-08-19T17:11:25.978883",
     "status": "completed"
    },
    "tags": []
   },
   "source": [
    "# Loading Data"
   ]
  },
  {
   "cell_type": "code",
   "execution_count": 9,
   "id": "f0496b8a",
   "metadata": {
    "execution": {
     "iopub.execute_input": "2025-08-19T17:11:26.015842Z",
     "iopub.status.busy": "2025-08-19T17:11:26.015061Z",
     "iopub.status.idle": "2025-08-19T17:11:36.615997Z",
     "shell.execute_reply": "2025-08-19T17:11:36.615008Z"
    },
    "papermill": {
     "duration": 10.619946,
     "end_time": "2025-08-19T17:11:36.617332",
     "exception": false,
     "start_time": "2025-08-19T17:11:25.997386",
     "status": "completed"
    },
    "tags": []
   },
   "outputs": [
    {
     "name": "stdout",
     "output_type": "stream",
     "text": [
      "Loading SIAB data from cache: data/siab_cached.csv.gz\n"
     ]
    },
    {
     "name": "stdout",
     "output_type": "stream",
     "text": [
      "(643690, 164)\n"
     ]
    }
   ],
   "source": [
    "from pathlib import Path\n",
    "import pandas as pd\n",
    "\n",
    "# File paths\n",
    "raw_file = Path(\"data/raw/siab.csv\")\n",
    "cache_file = Path(\"data/siab_cached.csv.gz\")\n",
    "\n",
    "# Ensure cache directory exists\n",
    "cache_file.parent.mkdir(parents=True, exist_ok=True)\n",
    "\n",
    "# Load with simple caching\n",
    "if cache_file.exists():\n",
    "    print(f\"Loading SIAB data from cache: {cache_file}\")\n",
    "    siab = pd.read_csv(cache_file, compression='gzip')\n",
    "else:\n",
    "    print(f\"Cache not found. Reading raw SIAB data: {raw_file}\")\n",
    "    siab = pd.read_csv(raw_file)\n",
    "    siab.to_csv(cache_file, index=False, compression='gzip')\n",
    "    print(f\"Cached SIAB data to: {cache_file}\")\n",
    "\n",
    "print(siab.shape)"
   ]
  },
  {
   "cell_type": "code",
   "execution_count": 10,
   "id": "db0ca512-5f53-4dba-abdb-a2888bca41ba",
   "metadata": {
    "execution": {
     "iopub.execute_input": "2025-08-19T17:11:36.644747Z",
     "iopub.status.busy": "2025-08-19T17:11:36.643846Z",
     "iopub.status.idle": "2025-08-19T17:11:36.878992Z",
     "shell.execute_reply": "2025-08-19T17:11:36.878252Z"
    },
    "papermill": {
     "duration": 0.250754,
     "end_time": "2025-08-19T17:11:36.880411",
     "exception": false,
     "start_time": "2025-08-19T17:11:36.629657",
     "status": "completed"
    },
    "tags": []
   },
   "outputs": [
    {
     "data": {
      "text/html": [
       "<div>\n",
       "<style scoped>\n",
       "    .dataframe tbody tr th:only-of-type {\n",
       "        vertical-align: middle;\n",
       "    }\n",
       "\n",
       "    .dataframe tbody tr th {\n",
       "        vertical-align: top;\n",
       "    }\n",
       "\n",
       "    .dataframe thead th {\n",
       "        text-align: right;\n",
       "    }\n",
       "</style>\n",
       "<table border=\"1\" class=\"dataframe\">\n",
       "  <thead>\n",
       "    <tr style=\"text-align: right;\">\n",
       "      <th></th>\n",
       "      <th>persnr</th>\n",
       "      <th>year</th>\n",
       "      <th>nrEntry</th>\n",
       "      <th>ltue</th>\n",
       "      <th>employed_before</th>\n",
       "      <th>receipt_leh_before</th>\n",
       "      <th>receipt_lhg_before</th>\n",
       "      <th>se_before</th>\n",
       "      <th>ASU_notue_seeking_before</th>\n",
       "      <th>ASU_other_before</th>\n",
       "      <th>...</th>\n",
       "      <th>minijob_tot_dur_byage</th>\n",
       "      <th>ft_tot_dur_byage</th>\n",
       "      <th>befrist_tot_dur_byage</th>\n",
       "      <th>leih_tot_dur_byage</th>\n",
       "      <th>LHG_tot_dur_byage</th>\n",
       "      <th>LEH_tot_dur_byage</th>\n",
       "      <th>almp_tot_dur_byage</th>\n",
       "      <th>almp_aw_tot_dur_byage</th>\n",
       "      <th>se_tot_dur_byage</th>\n",
       "      <th>seeking1_tot_dur_byage</th>\n",
       "    </tr>\n",
       "  </thead>\n",
       "  <tbody>\n",
       "    <tr>\n",
       "      <th>0</th>\n",
       "      <td>7</td>\n",
       "      <td>2015</td>\n",
       "      <td>1</td>\n",
       "      <td>0</td>\n",
       "      <td>1</td>\n",
       "      <td>0</td>\n",
       "      <td>0</td>\n",
       "      <td>0</td>\n",
       "      <td>1</td>\n",
       "      <td>0</td>\n",
       "      <td>...</td>\n",
       "      <td>0.000000</td>\n",
       "      <td>0.000000</td>\n",
       "      <td>15.043478</td>\n",
       "      <td>0.000000</td>\n",
       "      <td>0.000000</td>\n",
       "      <td>0.000000</td>\n",
       "      <td>0.000000</td>\n",
       "      <td>0.000000</td>\n",
       "      <td>0.000000</td>\n",
       "      <td>0.000000</td>\n",
       "    </tr>\n",
       "    <tr>\n",
       "      <th>1</th>\n",
       "      <td>18</td>\n",
       "      <td>2010</td>\n",
       "      <td>1</td>\n",
       "      <td>1</td>\n",
       "      <td>0</td>\n",
       "      <td>0</td>\n",
       "      <td>0</td>\n",
       "      <td>0</td>\n",
       "      <td>0</td>\n",
       "      <td>0</td>\n",
       "      <td>...</td>\n",
       "      <td>0.000000</td>\n",
       "      <td>0.000000</td>\n",
       "      <td>0.000000</td>\n",
       "      <td>0.000000</td>\n",
       "      <td>0.000000</td>\n",
       "      <td>0.000000</td>\n",
       "      <td>0.000000</td>\n",
       "      <td>0.000000</td>\n",
       "      <td>0.000000</td>\n",
       "      <td>0.000000</td>\n",
       "    </tr>\n",
       "    <tr>\n",
       "      <th>2</th>\n",
       "      <td>18</td>\n",
       "      <td>2011</td>\n",
       "      <td>2</td>\n",
       "      <td>0</td>\n",
       "      <td>1</td>\n",
       "      <td>0</td>\n",
       "      <td>1</td>\n",
       "      <td>0</td>\n",
       "      <td>1</td>\n",
       "      <td>0</td>\n",
       "      <td>...</td>\n",
       "      <td>2.714286</td>\n",
       "      <td>2.714286</td>\n",
       "      <td>0.000000</td>\n",
       "      <td>0.000000</td>\n",
       "      <td>10.775510</td>\n",
       "      <td>0.000000</td>\n",
       "      <td>8.367347</td>\n",
       "      <td>0.000000</td>\n",
       "      <td>0.000000</td>\n",
       "      <td>9.836735</td>\n",
       "    </tr>\n",
       "    <tr>\n",
       "      <th>3</th>\n",
       "      <td>18</td>\n",
       "      <td>2012</td>\n",
       "      <td>3</td>\n",
       "      <td>0</td>\n",
       "      <td>1</td>\n",
       "      <td>0</td>\n",
       "      <td>1</td>\n",
       "      <td>0</td>\n",
       "      <td>1</td>\n",
       "      <td>0</td>\n",
       "      <td>...</td>\n",
       "      <td>4.200000</td>\n",
       "      <td>4.200000</td>\n",
       "      <td>0.000000</td>\n",
       "      <td>0.000000</td>\n",
       "      <td>12.100000</td>\n",
       "      <td>0.000000</td>\n",
       "      <td>9.400000</td>\n",
       "      <td>0.000000</td>\n",
       "      <td>0.000000</td>\n",
       "      <td>9.960000</td>\n",
       "    </tr>\n",
       "    <tr>\n",
       "      <th>4</th>\n",
       "      <td>18</td>\n",
       "      <td>2012</td>\n",
       "      <td>4</td>\n",
       "      <td>0</td>\n",
       "      <td>1</td>\n",
       "      <td>0</td>\n",
       "      <td>1</td>\n",
       "      <td>0</td>\n",
       "      <td>1</td>\n",
       "      <td>0</td>\n",
       "      <td>...</td>\n",
       "      <td>5.460000</td>\n",
       "      <td>5.460000</td>\n",
       "      <td>0.000000</td>\n",
       "      <td>0.000000</td>\n",
       "      <td>13.360000</td>\n",
       "      <td>0.000000</td>\n",
       "      <td>10.320000</td>\n",
       "      <td>0.000000</td>\n",
       "      <td>0.000000</td>\n",
       "      <td>10.280000</td>\n",
       "    </tr>\n",
       "    <tr>\n",
       "      <th>...</th>\n",
       "      <td>...</td>\n",
       "      <td>...</td>\n",
       "      <td>...</td>\n",
       "      <td>...</td>\n",
       "      <td>...</td>\n",
       "      <td>...</td>\n",
       "      <td>...</td>\n",
       "      <td>...</td>\n",
       "      <td>...</td>\n",
       "      <td>...</td>\n",
       "      <td>...</td>\n",
       "      <td>...</td>\n",
       "      <td>...</td>\n",
       "      <td>...</td>\n",
       "      <td>...</td>\n",
       "      <td>...</td>\n",
       "      <td>...</td>\n",
       "      <td>...</td>\n",
       "      <td>...</td>\n",
       "      <td>...</td>\n",
       "      <td>...</td>\n",
       "    </tr>\n",
       "    <tr>\n",
       "      <th>643685</th>\n",
       "      <td>1827860</td>\n",
       "      <td>2013</td>\n",
       "      <td>1</td>\n",
       "      <td>0</td>\n",
       "      <td>0</td>\n",
       "      <td>0</td>\n",
       "      <td>1</td>\n",
       "      <td>0</td>\n",
       "      <td>0</td>\n",
       "      <td>1</td>\n",
       "      <td>...</td>\n",
       "      <td>0.000000</td>\n",
       "      <td>0.000000</td>\n",
       "      <td>0.000000</td>\n",
       "      <td>0.000000</td>\n",
       "      <td>0.612903</td>\n",
       "      <td>0.000000</td>\n",
       "      <td>0.000000</td>\n",
       "      <td>0.000000</td>\n",
       "      <td>0.000000</td>\n",
       "      <td>0.000000</td>\n",
       "    </tr>\n",
       "    <tr>\n",
       "      <th>643686</th>\n",
       "      <td>1827860</td>\n",
       "      <td>2015</td>\n",
       "      <td>2</td>\n",
       "      <td>1</td>\n",
       "      <td>0</td>\n",
       "      <td>0</td>\n",
       "      <td>1</td>\n",
       "      <td>0</td>\n",
       "      <td>1</td>\n",
       "      <td>0</td>\n",
       "      <td>...</td>\n",
       "      <td>0.000000</td>\n",
       "      <td>0.000000</td>\n",
       "      <td>0.212121</td>\n",
       "      <td>0.212121</td>\n",
       "      <td>17.363636</td>\n",
       "      <td>0.000000</td>\n",
       "      <td>8.909091</td>\n",
       "      <td>0.000000</td>\n",
       "      <td>0.000000</td>\n",
       "      <td>7.121212</td>\n",
       "    </tr>\n",
       "    <tr>\n",
       "      <th>643687</th>\n",
       "      <td>1827860</td>\n",
       "      <td>2016</td>\n",
       "      <td>3</td>\n",
       "      <td>1</td>\n",
       "      <td>0</td>\n",
       "      <td>0</td>\n",
       "      <td>1</td>\n",
       "      <td>1</td>\n",
       "      <td>0</td>\n",
       "      <td>1</td>\n",
       "      <td>...</td>\n",
       "      <td>0.000000</td>\n",
       "      <td>0.000000</td>\n",
       "      <td>0.294118</td>\n",
       "      <td>0.205882</td>\n",
       "      <td>34.705882</td>\n",
       "      <td>0.000000</td>\n",
       "      <td>10.352941</td>\n",
       "      <td>1.705882</td>\n",
       "      <td>1.705882</td>\n",
       "      <td>23.911765</td>\n",
       "    </tr>\n",
       "    <tr>\n",
       "      <th>643688</th>\n",
       "      <td>1827869</td>\n",
       "      <td>2013</td>\n",
       "      <td>1</td>\n",
       "      <td>1</td>\n",
       "      <td>1</td>\n",
       "      <td>0</td>\n",
       "      <td>0</td>\n",
       "      <td>0</td>\n",
       "      <td>1</td>\n",
       "      <td>0</td>\n",
       "      <td>...</td>\n",
       "      <td>0.000000</td>\n",
       "      <td>0.000000</td>\n",
       "      <td>0.000000</td>\n",
       "      <td>0.000000</td>\n",
       "      <td>0.000000</td>\n",
       "      <td>0.525424</td>\n",
       "      <td>0.000000</td>\n",
       "      <td>0.000000</td>\n",
       "      <td>0.000000</td>\n",
       "      <td>0.000000</td>\n",
       "    </tr>\n",
       "    <tr>\n",
       "      <th>643689</th>\n",
       "      <td>1827869</td>\n",
       "      <td>2014</td>\n",
       "      <td>2</td>\n",
       "      <td>0</td>\n",
       "      <td>0</td>\n",
       "      <td>1</td>\n",
       "      <td>0</td>\n",
       "      <td>0</td>\n",
       "      <td>1</td>\n",
       "      <td>0</td>\n",
       "      <td>...</td>\n",
       "      <td>0.000000</td>\n",
       "      <td>0.666667</td>\n",
       "      <td>0.666667</td>\n",
       "      <td>0.000000</td>\n",
       "      <td>0.000000</td>\n",
       "      <td>8.950000</td>\n",
       "      <td>1.033333</td>\n",
       "      <td>0.083333</td>\n",
       "      <td>0.083333</td>\n",
       "      <td>8.133333</td>\n",
       "    </tr>\n",
       "  </tbody>\n",
       "</table>\n",
       "<p>643690 rows × 164 columns</p>\n",
       "</div>"
      ],
      "text/plain": [
       "         persnr  year  nrEntry  ltue  employed_before  receipt_leh_before  \\\n",
       "0             7  2015        1     0                1                   0   \n",
       "1            18  2010        1     1                0                   0   \n",
       "2            18  2011        2     0                1                   0   \n",
       "3            18  2012        3     0                1                   0   \n",
       "4            18  2012        4     0                1                   0   \n",
       "...         ...   ...      ...   ...              ...                 ...   \n",
       "643685  1827860  2013        1     0                0                   0   \n",
       "643686  1827860  2015        2     1                0                   0   \n",
       "643687  1827860  2016        3     1                0                   0   \n",
       "643688  1827869  2013        1     1                1                   0   \n",
       "643689  1827869  2014        2     0                0                   1   \n",
       "\n",
       "        receipt_lhg_before  se_before  ASU_notue_seeking_before  \\\n",
       "0                        0          0                         1   \n",
       "1                        0          0                         0   \n",
       "2                        1          0                         1   \n",
       "3                        1          0                         1   \n",
       "4                        1          0                         1   \n",
       "...                    ...        ...                       ...   \n",
       "643685                   1          0                         0   \n",
       "643686                   1          0                         1   \n",
       "643687                   1          1                         0   \n",
       "643688                   0          0                         1   \n",
       "643689                   0          0                         1   \n",
       "\n",
       "        ASU_other_before  ...  minijob_tot_dur_byage  ft_tot_dur_byage  \\\n",
       "0                      0  ...               0.000000          0.000000   \n",
       "1                      0  ...               0.000000          0.000000   \n",
       "2                      0  ...               2.714286          2.714286   \n",
       "3                      0  ...               4.200000          4.200000   \n",
       "4                      0  ...               5.460000          5.460000   \n",
       "...                  ...  ...                    ...               ...   \n",
       "643685                 1  ...               0.000000          0.000000   \n",
       "643686                 0  ...               0.000000          0.000000   \n",
       "643687                 1  ...               0.000000          0.000000   \n",
       "643688                 0  ...               0.000000          0.000000   \n",
       "643689                 0  ...               0.000000          0.666667   \n",
       "\n",
       "        befrist_tot_dur_byage  leih_tot_dur_byage  LHG_tot_dur_byage  \\\n",
       "0                   15.043478            0.000000           0.000000   \n",
       "1                    0.000000            0.000000           0.000000   \n",
       "2                    0.000000            0.000000          10.775510   \n",
       "3                    0.000000            0.000000          12.100000   \n",
       "4                    0.000000            0.000000          13.360000   \n",
       "...                       ...                 ...                ...   \n",
       "643685               0.000000            0.000000           0.612903   \n",
       "643686               0.212121            0.212121          17.363636   \n",
       "643687               0.294118            0.205882          34.705882   \n",
       "643688               0.000000            0.000000           0.000000   \n",
       "643689               0.666667            0.000000           0.000000   \n",
       "\n",
       "        LEH_tot_dur_byage  almp_tot_dur_byage  almp_aw_tot_dur_byage  \\\n",
       "0                0.000000            0.000000               0.000000   \n",
       "1                0.000000            0.000000               0.000000   \n",
       "2                0.000000            8.367347               0.000000   \n",
       "3                0.000000            9.400000               0.000000   \n",
       "4                0.000000           10.320000               0.000000   \n",
       "...                   ...                 ...                    ...   \n",
       "643685           0.000000            0.000000               0.000000   \n",
       "643686           0.000000            8.909091               0.000000   \n",
       "643687           0.000000           10.352941               1.705882   \n",
       "643688           0.525424            0.000000               0.000000   \n",
       "643689           8.950000            1.033333               0.083333   \n",
       "\n",
       "        se_tot_dur_byage  seeking1_tot_dur_byage  \n",
       "0               0.000000                0.000000  \n",
       "1               0.000000                0.000000  \n",
       "2               0.000000                9.836735  \n",
       "3               0.000000                9.960000  \n",
       "4               0.000000               10.280000  \n",
       "...                  ...                     ...  \n",
       "643685          0.000000                0.000000  \n",
       "643686          0.000000                7.121212  \n",
       "643687          1.705882               23.911765  \n",
       "643688          0.000000                0.000000  \n",
       "643689          0.083333                8.133333  \n",
       "\n",
       "[643690 rows x 164 columns]"
      ]
     },
     "execution_count": 10,
     "metadata": {},
     "output_type": "execute_result"
    }
   ],
   "source": [
    "siab"
   ]
  },
  {
   "cell_type": "markdown",
   "id": "997051c5-15bd-4b69-9786-c3001a3ce484",
   "metadata": {
    "papermill": {
     "duration": 0.014596,
     "end_time": "2025-08-19T17:11:36.917814",
     "exception": false,
     "start_time": "2025-08-19T17:11:36.903218",
     "status": "completed"
    },
    "tags": []
   },
   "source": [
    "# Splitting Data and Setting Training Data Size"
   ]
  },
  {
   "cell_type": "code",
   "execution_count": 11,
   "id": "aea9c6ef-6f46-42c8-85eb-5a62025c1508",
   "metadata": {
    "execution": {
     "iopub.execute_input": "2025-08-19T17:11:36.940909Z",
     "iopub.status.busy": "2025-08-19T17:11:36.940594Z",
     "iopub.status.idle": "2025-08-19T17:11:37.753158Z",
     "shell.execute_reply": "2025-08-19T17:11:37.751944Z"
    },
    "papermill": {
     "duration": 0.826836,
     "end_time": "2025-08-19T17:11:37.755596",
     "exception": false,
     "start_time": "2025-08-19T17:11:36.928760",
     "status": "completed"
    },
    "tags": []
   },
   "outputs": [],
   "source": [
    "from fairness_multiverse.universe import sample_by_year_size\n",
    "\n",
    "siab_train = sample_by_year_size(siab,\n",
    "                               training_year=universe[\"training_year\"],\n",
    "                               training_size=universe[\"training_size\"])"
   ]
  },
  {
   "cell_type": "code",
   "execution_count": 12,
   "id": "8d3afb32-789d-442c-8d5d-9f5aa8dd2eed",
   "metadata": {
    "execution": {
     "iopub.execute_input": "2025-08-19T17:11:37.794966Z",
     "iopub.status.busy": "2025-08-19T17:11:37.793117Z",
     "iopub.status.idle": "2025-08-19T17:11:37.807318Z",
     "shell.execute_reply": "2025-08-19T17:11:37.805890Z"
    },
    "papermill": {
     "duration": 0.042227,
     "end_time": "2025-08-19T17:11:37.814173",
     "exception": false,
     "start_time": "2025-08-19T17:11:37.771946",
     "status": "completed"
    },
    "tags": []
   },
   "outputs": [
    {
     "data": {
      "text/plain": [
       "(25000, 164)"
      ]
     },
     "execution_count": 12,
     "metadata": {},
     "output_type": "execute_result"
    }
   ],
   "source": [
    "siab_train.shape"
   ]
  },
  {
   "cell_type": "code",
   "execution_count": 13,
   "id": "d582db68-1a4c-47fb-84fc-08518dc1975a",
   "metadata": {
    "execution": {
     "iopub.execute_input": "2025-08-19T17:11:37.847048Z",
     "iopub.status.busy": "2025-08-19T17:11:37.845420Z",
     "iopub.status.idle": "2025-08-19T17:11:37.863686Z",
     "shell.execute_reply": "2025-08-19T17:11:37.862474Z"
    },
    "papermill": {
     "duration": 0.033202,
     "end_time": "2025-08-19T17:11:37.865228",
     "exception": false,
     "start_time": "2025-08-19T17:11:37.832026",
     "status": "completed"
    },
    "tags": []
   },
   "outputs": [
    {
     "data": {
      "text/plain": [
       "year\n",
       "2012    8334\n",
       "2013    8333\n",
       "2014    8333\n",
       "dtype: int64"
      ]
     },
     "metadata": {},
     "output_type": "display_data"
    }
   ],
   "source": [
    "display(siab_train.groupby(\"year\").size())"
   ]
  },
  {
   "cell_type": "code",
   "execution_count": 14,
   "id": "a561edb4-d032-42cb-8256-22eac1111c64",
   "metadata": {
    "execution": {
     "iopub.execute_input": "2025-08-19T17:11:37.896919Z",
     "iopub.status.busy": "2025-08-19T17:11:37.895663Z",
     "iopub.status.idle": "2025-08-19T17:11:38.189615Z",
     "shell.execute_reply": "2025-08-19T17:11:38.188921Z"
    },
    "papermill": {
     "duration": 0.309348,
     "end_time": "2025-08-19T17:11:38.191211",
     "exception": false,
     "start_time": "2025-08-19T17:11:37.881863",
     "status": "completed"
    },
    "tags": []
   },
   "outputs": [],
   "source": [
    "#siab_train = siab_s[siab_s.year < 2015]\n",
    "siab_calib = siab[siab.year == 2015]\n",
    "siab_test = siab[siab.year == 2016]"
   ]
  },
  {
   "cell_type": "code",
   "execution_count": 15,
   "id": "bc10fe59",
   "metadata": {
    "execution": {
     "iopub.execute_input": "2025-08-19T17:11:38.225964Z",
     "iopub.status.busy": "2025-08-19T17:11:38.224834Z",
     "iopub.status.idle": "2025-08-19T17:11:38.232240Z",
     "shell.execute_reply": "2025-08-19T17:11:38.230820Z"
    },
    "papermill": {
     "duration": 0.031535,
     "end_time": "2025-08-19T17:11:38.233921",
     "exception": false,
     "start_time": "2025-08-19T17:11:38.202386",
     "status": "completed"
    },
    "tags": []
   },
   "outputs": [],
   "source": [
    "#siab_calib.shape"
   ]
  },
  {
   "cell_type": "code",
   "execution_count": 16,
   "id": "d6aeff2f",
   "metadata": {
    "execution": {
     "iopub.execute_input": "2025-08-19T17:11:38.262243Z",
     "iopub.status.busy": "2025-08-19T17:11:38.260785Z",
     "iopub.status.idle": "2025-08-19T17:11:38.269709Z",
     "shell.execute_reply": "2025-08-19T17:11:38.267802Z"
    },
    "papermill": {
     "duration": 0.026748,
     "end_time": "2025-08-19T17:11:38.271688",
     "exception": false,
     "start_time": "2025-08-19T17:11:38.244940",
     "status": "completed"
    },
    "tags": []
   },
   "outputs": [],
   "source": [
    "#siab_test.shape"
   ]
  },
  {
   "cell_type": "code",
   "execution_count": 17,
   "id": "472de16f-c3db-4916-846b-1f0de9cf1746",
   "metadata": {
    "execution": {
     "iopub.execute_input": "2025-08-19T17:11:38.299500Z",
     "iopub.status.busy": "2025-08-19T17:11:38.298342Z",
     "iopub.status.idle": "2025-08-19T17:11:38.337355Z",
     "shell.execute_reply": "2025-08-19T17:11:38.336709Z"
    },
    "papermill": {
     "duration": 0.054131,
     "end_time": "2025-08-19T17:11:38.339006",
     "exception": false,
     "start_time": "2025-08-19T17:11:38.284875",
     "status": "completed"
    },
    "tags": []
   },
   "outputs": [],
   "source": [
    "X_train = siab_train.iloc[:,4:164]\n",
    "y_train = siab_train.iloc[:, [3]]"
   ]
  },
  {
   "cell_type": "code",
   "execution_count": null,
   "id": "a843c1c8",
   "metadata": {
    "papermill": {
     "duration": 0.011794,
     "end_time": "2025-08-19T17:11:38.368858",
     "exception": false,
     "start_time": "2025-08-19T17:11:38.357064",
     "status": "completed"
    },
    "tags": []
   },
   "outputs": [],
   "source": []
  },
  {
   "cell_type": "code",
   "execution_count": 18,
   "id": "828c96af-f43a-4ed6-ba47-8ac73a47d56c",
   "metadata": {
    "execution": {
     "iopub.execute_input": "2025-08-19T17:11:38.392870Z",
     "iopub.status.busy": "2025-08-19T17:11:38.391691Z",
     "iopub.status.idle": "2025-08-19T17:11:38.456939Z",
     "shell.execute_reply": "2025-08-19T17:11:38.456174Z"
    },
    "papermill": {
     "duration": 0.079738,
     "end_time": "2025-08-19T17:11:38.459106",
     "exception": false,
     "start_time": "2025-08-19T17:11:38.379368",
     "status": "completed"
    },
    "tags": []
   },
   "outputs": [],
   "source": [
    "X_calib = siab_calib.iloc[:,4:164]\n",
    "y_calib = siab_calib.iloc[:, [3]]"
   ]
  },
  {
   "cell_type": "code",
   "execution_count": 19,
   "id": "c34be9c3-6bd6-476e-acd3-845840e303be",
   "metadata": {
    "execution": {
     "iopub.execute_input": "2025-08-19T17:11:38.489330Z",
     "iopub.status.busy": "2025-08-19T17:11:38.487950Z",
     "iopub.status.idle": "2025-08-19T17:11:38.583009Z",
     "shell.execute_reply": "2025-08-19T17:11:38.582161Z"
    },
    "papermill": {
     "duration": 0.110152,
     "end_time": "2025-08-19T17:11:38.585848",
     "exception": false,
     "start_time": "2025-08-19T17:11:38.475696",
     "status": "completed"
    },
    "tags": []
   },
   "outputs": [],
   "source": [
    "X_test = siab_test.iloc[:,4:164]\n",
    "y_true = siab_test.iloc[:, [3]]"
   ]
  },
  {
   "cell_type": "code",
   "execution_count": 20,
   "id": "e6c733c5",
   "metadata": {
    "execution": {
     "iopub.execute_input": "2025-08-19T17:11:38.641710Z",
     "iopub.status.busy": "2025-08-19T17:11:38.640366Z",
     "iopub.status.idle": "2025-08-19T17:11:38.800187Z",
     "shell.execute_reply": "2025-08-19T17:11:38.798928Z"
    },
    "papermill": {
     "duration": 0.191891,
     "end_time": "2025-08-19T17:11:38.801890",
     "exception": false,
     "start_time": "2025-08-19T17:11:38.609999",
     "status": "completed"
    },
    "tags": []
   },
   "outputs": [],
   "source": [
    "# Auxiliary data needed downstream in the pipeline\n",
    "\n",
    "org_train = X_train.copy()\n",
    "org_test = X_test.copy()\n",
    "org_calib = X_calib.copy()"
   ]
  },
  {
   "cell_type": "markdown",
   "id": "0a4a1b33",
   "metadata": {
    "papermill": {
     "duration": 0.010059,
     "end_time": "2025-08-19T17:11:38.822833",
     "exception": false,
     "start_time": "2025-08-19T17:11:38.812774",
     "status": "completed"
    },
    "tags": []
   },
   "source": [
    "# Preprocessing Data"
   ]
  },
  {
   "cell_type": "code",
   "execution_count": 21,
   "id": "ca879031",
   "metadata": {
    "execution": {
     "iopub.execute_input": "2025-08-19T17:11:38.846331Z",
     "iopub.status.busy": "2025-08-19T17:11:38.844847Z",
     "iopub.status.idle": "2025-08-19T17:11:38.855183Z",
     "shell.execute_reply": "2025-08-19T17:11:38.853879Z"
    },
    "papermill": {
     "duration": 0.024004,
     "end_time": "2025-08-19T17:11:38.856963",
     "exception": false,
     "start_time": "2025-08-19T17:11:38.832959",
     "status": "completed"
    },
    "tags": []
   },
   "outputs": [],
   "source": [
    "# EXCLUDE PROTECTED FEATURES\n",
    "# --------------------------\n",
    "\n",
    "excluded_features = universe[\"exclude_features\"].split(\"-\")\n",
    "excluded_features_dictionary = {\n",
    "    \"nationality\": [\"maxdeutsch1\", \"maxdeutsch.Missing.\"],\n",
    "    \"sex\": [\"frau1\"],\n",
    "    \"age\": [\"age\"],\n",
    "}"
   ]
  },
  {
   "cell_type": "code",
   "execution_count": 22,
   "id": "b745ac60",
   "metadata": {
    "execution": {
     "iopub.execute_input": "2025-08-19T17:11:38.905539Z",
     "iopub.status.busy": "2025-08-19T17:11:38.905026Z",
     "iopub.status.idle": "2025-08-19T17:11:38.910492Z",
     "shell.execute_reply": "2025-08-19T17:11:38.909749Z"
    },
    "papermill": {
     "duration": 0.037074,
     "end_time": "2025-08-19T17:11:38.912075",
     "exception": false,
     "start_time": "2025-08-19T17:11:38.875001",
     "status": "completed"
    },
    "tags": []
   },
   "outputs": [],
   "source": [
    "excluded_features_columns = [\n",
    "    excluded_features_dictionary[f] for f in excluded_features if len(f) > 0 and f != \"none\"\n",
    "]"
   ]
  },
  {
   "cell_type": "code",
   "execution_count": 23,
   "id": "f84f73a2",
   "metadata": {
    "execution": {
     "iopub.execute_input": "2025-08-19T17:11:38.935834Z",
     "iopub.status.busy": "2025-08-19T17:11:38.935357Z",
     "iopub.status.idle": "2025-08-19T17:11:38.983000Z",
     "shell.execute_reply": "2025-08-19T17:11:38.982186Z"
    },
    "papermill": {
     "duration": 0.061889,
     "end_time": "2025-08-19T17:11:38.984761",
     "exception": false,
     "start_time": "2025-08-19T17:11:38.922872",
     "status": "completed"
    },
    "tags": []
   },
   "outputs": [],
   "source": [
    "from fairness_multiverse.universe import flatten_once\n",
    "\n",
    "excluded_features_columns = flatten_once(excluded_features_columns)"
   ]
  },
  {
   "cell_type": "code",
   "execution_count": 24,
   "id": "884dea22",
   "metadata": {
    "execution": {
     "iopub.execute_input": "2025-08-19T17:11:39.009525Z",
     "iopub.status.busy": "2025-08-19T17:11:39.009092Z",
     "iopub.status.idle": "2025-08-19T17:11:39.017651Z",
     "shell.execute_reply": "2025-08-19T17:11:39.016932Z"
    },
    "papermill": {
     "duration": 0.022507,
     "end_time": "2025-08-19T17:11:39.019007",
     "exception": false,
     "start_time": "2025-08-19T17:11:38.996500",
     "status": "completed"
    },
    "tags": []
   },
   "outputs": [],
   "source": [
    "if len(excluded_features_columns) > 0:\n",
    "    print(f\"Dropping features: {excluded_features_columns}\")\n",
    "    X_train.drop(excluded_features_columns, axis=1, inplace=True)"
   ]
  },
  {
   "cell_type": "code",
   "execution_count": 25,
   "id": "95ab8b16",
   "metadata": {
    "execution": {
     "iopub.execute_input": "2025-08-19T17:11:39.055413Z",
     "iopub.status.busy": "2025-08-19T17:11:39.054880Z",
     "iopub.status.idle": "2025-08-19T17:11:39.059820Z",
     "shell.execute_reply": "2025-08-19T17:11:39.059136Z"
    },
    "papermill": {
     "duration": 0.021505,
     "end_time": "2025-08-19T17:11:39.063882",
     "exception": false,
     "start_time": "2025-08-19T17:11:39.042377",
     "status": "completed"
    },
    "tags": []
   },
   "outputs": [],
   "source": [
    "if len(excluded_features_columns) > 0:\n",
    "    print(f\"Dropping features: {excluded_features_columns}\")\n",
    "    X_test.drop(excluded_features_columns, axis=1, inplace=True)"
   ]
  },
  {
   "cell_type": "code",
   "execution_count": 26,
   "id": "1853aaf5-fb9f-46cb-a2b5-8ea4ae2237e4",
   "metadata": {
    "execution": {
     "iopub.execute_input": "2025-08-19T17:11:39.088331Z",
     "iopub.status.busy": "2025-08-19T17:11:39.087651Z",
     "iopub.status.idle": "2025-08-19T17:11:39.094083Z",
     "shell.execute_reply": "2025-08-19T17:11:39.093254Z"
    },
    "papermill": {
     "duration": 0.020887,
     "end_time": "2025-08-19T17:11:39.096223",
     "exception": false,
     "start_time": "2025-08-19T17:11:39.075336",
     "status": "completed"
    },
    "tags": []
   },
   "outputs": [],
   "source": [
    "if len(excluded_features_columns) > 0:\n",
    "    print(f\"Dropping features: {excluded_features_columns}\")\n",
    "    X_calib.drop(excluded_features_columns, axis=1, inplace=True)"
   ]
  },
  {
   "cell_type": "code",
   "execution_count": 27,
   "id": "76c4dc6d",
   "metadata": {
    "execution": {
     "iopub.execute_input": "2025-08-19T17:11:39.139488Z",
     "iopub.status.busy": "2025-08-19T17:11:39.139001Z",
     "iopub.status.idle": "2025-08-19T17:11:39.148851Z",
     "shell.execute_reply": "2025-08-19T17:11:39.147632Z"
    },
    "papermill": {
     "duration": 0.035472,
     "end_time": "2025-08-19T17:11:39.156625",
     "exception": false,
     "start_time": "2025-08-19T17:11:39.121153",
     "status": "completed"
    },
    "tags": []
   },
   "outputs": [],
   "source": [
    "# EXCLUDE CERTAIN SUBGROUPS\n",
    "# -------------------------\n",
    "\n",
    "mode = universe.get(\"exclude_subgroups\", \"keep-all\") # Defaults to \"keep-all\" if the key is missing."
   ]
  },
  {
   "cell_type": "code",
   "execution_count": 28,
   "id": "21994072",
   "metadata": {
    "execution": {
     "iopub.execute_input": "2025-08-19T17:11:39.206496Z",
     "iopub.status.busy": "2025-08-19T17:11:39.205566Z",
     "iopub.status.idle": "2025-08-19T17:11:39.212688Z",
     "shell.execute_reply": "2025-08-19T17:11:39.211876Z"
    },
    "papermill": {
     "duration": 0.030992,
     "end_time": "2025-08-19T17:11:39.215176",
     "exception": false,
     "start_time": "2025-08-19T17:11:39.184184",
     "status": "completed"
    },
    "tags": []
   },
   "outputs": [],
   "source": [
    "if mode == \"keep-all\":\n",
    "    keep_mask = pd.Series(True, index=org_train.index)\n",
    "\n",
    "elif mode == \"drop-non-german\":\n",
    "    keep_mask = (org_train[\"maxdeutsch1\"] == 1) & (org_train[\"maxdeutsch.Missing.\"] == 0)\n",
    "\n",
    "else:\n",
    "    raise ValueError(f\"Unsupported mode for exclude_subgroups: {mode}\")"
   ]
  },
  {
   "cell_type": "code",
   "execution_count": 29,
   "id": "71651440",
   "metadata": {
    "execution": {
     "iopub.execute_input": "2025-08-19T17:11:39.240868Z",
     "iopub.status.busy": "2025-08-19T17:11:39.240363Z",
     "iopub.status.idle": "2025-08-19T17:11:39.268804Z",
     "shell.execute_reply": "2025-08-19T17:11:39.267080Z"
    },
    "papermill": {
     "duration": 0.044573,
     "end_time": "2025-08-19T17:11:39.271689",
     "exception": false,
     "start_time": "2025-08-19T17:11:39.227116",
     "status": "completed"
    },
    "tags": []
   },
   "outputs": [
    {
     "name": "stdout",
     "output_type": "stream",
     "text": [
      "Dropping 3481 rows (13.92%) where mode='drop-non-german'\n"
     ]
    }
   ],
   "source": [
    "n_drop = (~keep_mask).sum() # Calculates how many rows are set to be dropped\n",
    "if n_drop > 0:\n",
    "    pct = n_drop / len(keep_mask) * 100\n",
    "    print(f\"Dropping {n_drop} rows ({pct:.2f}%) where mode='{mode}'\")"
   ]
  },
  {
   "cell_type": "code",
   "execution_count": 30,
   "id": "5fb8eee5",
   "metadata": {
    "execution": {
     "iopub.execute_input": "2025-08-19T17:11:39.301357Z",
     "iopub.status.busy": "2025-08-19T17:11:39.300533Z",
     "iopub.status.idle": "2025-08-19T17:11:39.324686Z",
     "shell.execute_reply": "2025-08-19T17:11:39.323292Z"
    },
    "papermill": {
     "duration": 0.03907,
     "end_time": "2025-08-19T17:11:39.326850",
     "exception": false,
     "start_time": "2025-08-19T17:11:39.287780",
     "status": "completed"
    },
    "tags": []
   },
   "outputs": [],
   "source": [
    "X_train = X_train[keep_mask]"
   ]
  },
  {
   "cell_type": "code",
   "execution_count": 31,
   "id": "b202bb3a",
   "metadata": {
    "execution": {
     "iopub.execute_input": "2025-08-19T17:11:39.364302Z",
     "iopub.status.busy": "2025-08-19T17:11:39.363830Z",
     "iopub.status.idle": "2025-08-19T17:11:39.369656Z",
     "shell.execute_reply": "2025-08-19T17:11:39.368977Z"
    },
    "papermill": {
     "duration": 0.025474,
     "end_time": "2025-08-19T17:11:39.371262",
     "exception": false,
     "start_time": "2025-08-19T17:11:39.345788",
     "status": "completed"
    },
    "tags": []
   },
   "outputs": [],
   "source": [
    "y_train = y_train[keep_mask]"
   ]
  },
  {
   "cell_type": "markdown",
   "id": "493e2ac3",
   "metadata": {
    "papermill": {
     "duration": 0.017006,
     "end_time": "2025-08-19T17:11:39.402974",
     "exception": false,
     "start_time": "2025-08-19T17:11:39.385968",
     "status": "completed"
    },
    "tags": []
   },
   "source": [
    "# Model Training"
   ]
  },
  {
   "cell_type": "code",
   "execution_count": 32,
   "id": "679e1268",
   "metadata": {
    "execution": {
     "iopub.execute_input": "2025-08-19T17:11:39.427128Z",
     "iopub.status.busy": "2025-08-19T17:11:39.426648Z",
     "iopub.status.idle": "2025-08-19T17:11:39.523255Z",
     "shell.execute_reply": "2025-08-19T17:11:39.522387Z"
    },
    "papermill": {
     "duration": 0.110524,
     "end_time": "2025-08-19T17:11:39.525084",
     "exception": false,
     "start_time": "2025-08-19T17:11:39.414560",
     "status": "completed"
    },
    "tags": []
   },
   "outputs": [],
   "source": [
    "from sklearn.linear_model import LogisticRegression\n",
    "from sklearn.ensemble import GradientBoostingClassifier, RandomForestClassifier\n",
    "\n",
    "if (universe[\"model\"] == \"logreg\"):\n",
    "    model = LogisticRegression() #penalty=\"none\", solver=\"newton-cg\", max_iter=1)\n",
    "elif (universe[\"model\"] == \"penalized_logreg\"):\n",
    "    model = LogisticRegression(penalty=\"l2\", C=0.1) #, solver=\"newton-cg\", max_iter=1)\n",
    "elif (universe[\"model\"] == \"rf\"):\n",
    "    model = RandomForestClassifier() # n_estimators=100, n_jobs=-1\n",
    "elif (universe[\"model\"] == \"gbm\"):\n",
    "    model = GradientBoostingClassifier()\n",
    "elif (universe[\"model\"] == \"elasticnet\"):\n",
    "    model = LogisticRegression(penalty = 'elasticnet', solver = 'saga', l1_ratio = 0.5) # max_iter=5000\n",
    "else:\n",
    "    raise \"Unsupported universe.model\""
   ]
  },
  {
   "cell_type": "code",
   "execution_count": 33,
   "id": "0cc8f744",
   "metadata": {
    "execution": {
     "iopub.execute_input": "2025-08-19T17:11:39.554082Z",
     "iopub.status.busy": "2025-08-19T17:11:39.553624Z",
     "iopub.status.idle": "2025-08-19T17:11:39.559572Z",
     "shell.execute_reply": "2025-08-19T17:11:39.558613Z"
    },
    "papermill": {
     "duration": 0.024194,
     "end_time": "2025-08-19T17:11:39.561167",
     "exception": false,
     "start_time": "2025-08-19T17:11:39.536973",
     "status": "completed"
    },
    "tags": []
   },
   "outputs": [],
   "source": [
    "from sklearn.pipeline import Pipeline\n",
    "from sklearn.preprocessing import StandardScaler\n",
    "\n",
    "model = Pipeline([\n",
    "    #(\"continuous_processor\", continuous_processor),\n",
    "    #(\"categorical_preprocessor\", categorical_preprocessor),\n",
    "    (\"scale\", StandardScaler() if universe[\"scale\"] == \"scale\" else None), \n",
    "    (\"model\", model),\n",
    "])"
   ]
  },
  {
   "cell_type": "code",
   "execution_count": 34,
   "id": "9442c04d",
   "metadata": {
    "execution": {
     "iopub.execute_input": "2025-08-19T17:11:39.584545Z",
     "iopub.status.busy": "2025-08-19T17:11:39.584073Z",
     "iopub.status.idle": "2025-08-19T17:11:40.345477Z",
     "shell.execute_reply": "2025-08-19T17:11:40.344243Z"
    },
    "papermill": {
     "duration": 0.775043,
     "end_time": "2025-08-19T17:11:40.347423",
     "exception": false,
     "start_time": "2025-08-19T17:11:39.572380",
     "status": "completed"
    },
    "tags": []
   },
   "outputs": [
    {
     "name": "stderr",
     "output_type": "stream",
     "text": [
      "/dss/dsshome1/0C/ra93lal2/.local/share/virtualenvs/CMA_Fairness_v2-3j10GkSs/lib/python3.10/site-packages/sklearn/linear_model/_logistic.py:444: ConvergenceWarning: lbfgs failed to converge (status=1):\n",
      "STOP: TOTAL NO. of ITERATIONS REACHED LIMIT.\n",
      "\n",
      "Increase the number of iterations (max_iter) or scale the data as shown in:\n",
      "    https://scikit-learn.org/stable/modules/preprocessing.html\n",
      "Please also refer to the documentation for alternative solver options:\n",
      "    https://scikit-learn.org/stable/modules/linear_model.html#logistic-regression\n",
      "  n_iter_i = _check_optimize_result(\n"
     ]
    },
    {
     "data": {
      "text/html": [
       "<style>#sk-container-id-1 {color: black;background-color: white;}#sk-container-id-1 pre{padding: 0;}#sk-container-id-1 div.sk-toggleable {background-color: white;}#sk-container-id-1 label.sk-toggleable__label {cursor: pointer;display: block;width: 100%;margin-bottom: 0;padding: 0.3em;box-sizing: border-box;text-align: center;}#sk-container-id-1 label.sk-toggleable__label-arrow:before {content: \"▸\";float: left;margin-right: 0.25em;color: #696969;}#sk-container-id-1 label.sk-toggleable__label-arrow:hover:before {color: black;}#sk-container-id-1 div.sk-estimator:hover label.sk-toggleable__label-arrow:before {color: black;}#sk-container-id-1 div.sk-toggleable__content {max-height: 0;max-width: 0;overflow: hidden;text-align: left;background-color: #f0f8ff;}#sk-container-id-1 div.sk-toggleable__content pre {margin: 0.2em;color: black;border-radius: 0.25em;background-color: #f0f8ff;}#sk-container-id-1 input.sk-toggleable__control:checked~div.sk-toggleable__content {max-height: 200px;max-width: 100%;overflow: auto;}#sk-container-id-1 input.sk-toggleable__control:checked~label.sk-toggleable__label-arrow:before {content: \"▾\";}#sk-container-id-1 div.sk-estimator input.sk-toggleable__control:checked~label.sk-toggleable__label {background-color: #d4ebff;}#sk-container-id-1 div.sk-label input.sk-toggleable__control:checked~label.sk-toggleable__label {background-color: #d4ebff;}#sk-container-id-1 input.sk-hidden--visually {border: 0;clip: rect(1px 1px 1px 1px);clip: rect(1px, 1px, 1px, 1px);height: 1px;margin: -1px;overflow: hidden;padding: 0;position: absolute;width: 1px;}#sk-container-id-1 div.sk-estimator {font-family: monospace;background-color: #f0f8ff;border: 1px dotted black;border-radius: 0.25em;box-sizing: border-box;margin-bottom: 0.5em;}#sk-container-id-1 div.sk-estimator:hover {background-color: #d4ebff;}#sk-container-id-1 div.sk-parallel-item::after {content: \"\";width: 100%;border-bottom: 1px solid gray;flex-grow: 1;}#sk-container-id-1 div.sk-label:hover label.sk-toggleable__label {background-color: #d4ebff;}#sk-container-id-1 div.sk-serial::before {content: \"\";position: absolute;border-left: 1px solid gray;box-sizing: border-box;top: 0;bottom: 0;left: 50%;z-index: 0;}#sk-container-id-1 div.sk-serial {display: flex;flex-direction: column;align-items: center;background-color: white;padding-right: 0.2em;padding-left: 0.2em;position: relative;}#sk-container-id-1 div.sk-item {position: relative;z-index: 1;}#sk-container-id-1 div.sk-parallel {display: flex;align-items: stretch;justify-content: center;background-color: white;position: relative;}#sk-container-id-1 div.sk-item::before, #sk-container-id-1 div.sk-parallel-item::before {content: \"\";position: absolute;border-left: 1px solid gray;box-sizing: border-box;top: 0;bottom: 0;left: 50%;z-index: -1;}#sk-container-id-1 div.sk-parallel-item {display: flex;flex-direction: column;z-index: 1;position: relative;background-color: white;}#sk-container-id-1 div.sk-parallel-item:first-child::after {align-self: flex-end;width: 50%;}#sk-container-id-1 div.sk-parallel-item:last-child::after {align-self: flex-start;width: 50%;}#sk-container-id-1 div.sk-parallel-item:only-child::after {width: 0;}#sk-container-id-1 div.sk-dashed-wrapped {border: 1px dashed gray;margin: 0 0.4em 0.5em 0.4em;box-sizing: border-box;padding-bottom: 0.4em;background-color: white;}#sk-container-id-1 div.sk-label label {font-family: monospace;font-weight: bold;display: inline-block;line-height: 1.2em;}#sk-container-id-1 div.sk-label-container {text-align: center;}#sk-container-id-1 div.sk-container {/* jupyter's `normalize.less` sets `[hidden] { display: none; }` but bootstrap.min.css set `[hidden] { display: none !important; }` so we also need the `!important` here to be able to override the default hidden behavior on the sphinx rendered scikit-learn.org. See: https://github.com/scikit-learn/scikit-learn/issues/21755 */display: inline-block !important;position: relative;}#sk-container-id-1 div.sk-text-repr-fallback {display: none;}</style><div id=\"sk-container-id-1\" class=\"sk-top-container\"><div class=\"sk-text-repr-fallback\"><pre>Pipeline(steps=[(&#x27;scale&#x27;, None), (&#x27;model&#x27;, LogisticRegression(C=0.1))])</pre><b>In a Jupyter environment, please rerun this cell to show the HTML representation or trust the notebook. <br />On GitHub, the HTML representation is unable to render, please try loading this page with nbviewer.org.</b></div><div class=\"sk-container\" hidden><div class=\"sk-item sk-dashed-wrapped\"><div class=\"sk-label-container\"><div class=\"sk-label sk-toggleable\"><input class=\"sk-toggleable__control sk-hidden--visually\" id=\"sk-estimator-id-1\" type=\"checkbox\" ><label for=\"sk-estimator-id-1\" class=\"sk-toggleable__label sk-toggleable__label-arrow\">Pipeline</label><div class=\"sk-toggleable__content\"><pre>Pipeline(steps=[(&#x27;scale&#x27;, None), (&#x27;model&#x27;, LogisticRegression(C=0.1))])</pre></div></div></div><div class=\"sk-serial\"><div class=\"sk-item\"><div class=\"sk-estimator sk-toggleable\"><input class=\"sk-toggleable__control sk-hidden--visually\" id=\"sk-estimator-id-2\" type=\"checkbox\" ><label for=\"sk-estimator-id-2\" class=\"sk-toggleable__label sk-toggleable__label-arrow\">None</label><div class=\"sk-toggleable__content\"><pre>None</pre></div></div></div><div class=\"sk-item\"><div class=\"sk-estimator sk-toggleable\"><input class=\"sk-toggleable__control sk-hidden--visually\" id=\"sk-estimator-id-3\" type=\"checkbox\" ><label for=\"sk-estimator-id-3\" class=\"sk-toggleable__label sk-toggleable__label-arrow\">LogisticRegression</label><div class=\"sk-toggleable__content\"><pre>LogisticRegression(C=0.1)</pre></div></div></div></div></div></div></div>"
      ],
      "text/plain": [
       "Pipeline(steps=[('scale', None), ('model', LogisticRegression(C=0.1))])"
      ]
     },
     "execution_count": 34,
     "metadata": {},
     "output_type": "execute_result"
    }
   ],
   "source": [
    "model.fit(X_train, y_train.values.ravel())"
   ]
  },
  {
   "cell_type": "code",
   "execution_count": 35,
   "id": "a7cf2e16",
   "metadata": {
    "execution": {
     "iopub.execute_input": "2025-08-19T17:11:40.372077Z",
     "iopub.status.busy": "2025-08-19T17:11:40.371612Z",
     "iopub.status.idle": "2025-08-19T17:11:40.476176Z",
     "shell.execute_reply": "2025-08-19T17:11:40.475451Z"
    },
    "papermill": {
     "duration": 0.117989,
     "end_time": "2025-08-19T17:11:40.477564",
     "exception": false,
     "start_time": "2025-08-19T17:11:40.359575",
     "status": "completed"
    },
    "tags": []
   },
   "outputs": [
    {
     "data": {
      "text/plain": [
       "0.8616653661799131"
      ]
     },
     "execution_count": 35,
     "metadata": {},
     "output_type": "execute_result"
    }
   ],
   "source": [
    "from fairness_multiverse.universe import predict_w_threshold\n",
    "\n",
    "probs_test = model.predict_proba(X_test)\n",
    "\n",
    "'''\n",
    "Below code returns a boolean array (or binary 0/1 array depending on how it’s used) where each element \n",
    "is True if the probability of class 1 is greater than or equal to the threshold, and False otherwise.\n",
    "'''\n",
    "y_pred_default = predict_w_threshold(probs_test, 0.5)\n",
    "\n",
    "from sklearn.metrics import accuracy_score\n",
    "\n",
    "# Naive prediction\n",
    "accuracy_score(y_true = y_true, y_pred = y_pred_default)"
   ]
  },
  {
   "cell_type": "code",
   "execution_count": 36,
   "id": "081964c3",
   "metadata": {
    "execution": {
     "iopub.execute_input": "2025-08-19T17:11:40.507651Z",
     "iopub.status.busy": "2025-08-19T17:11:40.507153Z",
     "iopub.status.idle": "2025-08-19T17:11:40.590874Z",
     "shell.execute_reply": "2025-08-19T17:11:40.590116Z"
    },
    "papermill": {
     "duration": 0.100421,
     "end_time": "2025-08-19T17:11:40.592161",
     "exception": false,
     "start_time": "2025-08-19T17:11:40.491740",
     "status": "completed"
    },
    "tags": []
   },
   "outputs": [
    {
     "data": {
      "text/plain": [
       "array([0, 0, 0, ..., 0, 0, 0])"
      ]
     },
     "execution_count": 36,
     "metadata": {},
     "output_type": "execute_result"
    }
   ],
   "source": [
    "model.predict(X_test)"
   ]
  },
  {
   "cell_type": "markdown",
   "id": "56c9705b",
   "metadata": {
    "papermill": {
     "duration": 0.012418,
     "end_time": "2025-08-19T17:11:40.617185",
     "exception": false,
     "start_time": "2025-08-19T17:11:40.604767",
     "status": "completed"
    },
    "tags": []
   },
   "source": [
    "# Conformal Prediction"
   ]
  },
  {
   "cell_type": "code",
   "execution_count": 37,
   "id": "160ec6ff",
   "metadata": {
    "execution": {
     "iopub.execute_input": "2025-08-19T17:11:40.641831Z",
     "iopub.status.busy": "2025-08-19T17:11:40.641376Z",
     "iopub.status.idle": "2025-08-19T17:11:40.645726Z",
     "shell.execute_reply": "2025-08-19T17:11:40.645059Z"
    },
    "papermill": {
     "duration": 0.018055,
     "end_time": "2025-08-19T17:11:40.647117",
     "exception": false,
     "start_time": "2025-08-19T17:11:40.629062",
     "status": "completed"
    },
    "tags": []
   },
   "outputs": [],
   "source": [
    "# Miscoverage level for conformal prediction (10% allowed error rate => 90% target coverage)\n",
    "alpha = 0.1"
   ]
  },
  {
   "cell_type": "code",
   "execution_count": 38,
   "id": "eadf4555-3dd3-440e-8e35-f82a4ad9f855",
   "metadata": {
    "execution": {
     "iopub.execute_input": "2025-08-19T17:11:40.671069Z",
     "iopub.status.busy": "2025-08-19T17:11:40.670672Z",
     "iopub.status.idle": "2025-08-19T17:11:40.758695Z",
     "shell.execute_reply": "2025-08-19T17:11:40.757975Z"
    },
    "papermill": {
     "duration": 0.101766,
     "end_time": "2025-08-19T17:11:40.760388",
     "exception": false,
     "start_time": "2025-08-19T17:11:40.658622",
     "status": "completed"
    },
    "tags": []
   },
   "outputs": [],
   "source": [
    "probs_calib = model.predict_proba(X_calib)"
   ]
  },
  {
   "cell_type": "code",
   "execution_count": 39,
   "id": "2ed93547-6d5d-4983-9b36-1ecb300da49a",
   "metadata": {
    "execution": {
     "iopub.execute_input": "2025-08-19T17:11:40.804610Z",
     "iopub.status.busy": "2025-08-19T17:11:40.803314Z",
     "iopub.status.idle": "2025-08-19T17:11:40.811874Z",
     "shell.execute_reply": "2025-08-19T17:11:40.810655Z"
    },
    "papermill": {
     "duration": 0.030207,
     "end_time": "2025-08-19T17:11:40.817679",
     "exception": false,
     "start_time": "2025-08-19T17:11:40.787472",
     "status": "completed"
    },
    "tags": []
   },
   "outputs": [],
   "source": [
    "y_calib = y_calib.values.ravel().astype(int)"
   ]
  },
  {
   "cell_type": "code",
   "execution_count": 40,
   "id": "65d1320d-f588-4b38-9072-62af1ae97f7d",
   "metadata": {
    "execution": {
     "iopub.execute_input": "2025-08-19T17:11:40.862751Z",
     "iopub.status.busy": "2025-08-19T17:11:40.862448Z",
     "iopub.status.idle": "2025-08-19T17:11:40.868796Z",
     "shell.execute_reply": "2025-08-19T17:11:40.868088Z"
    },
    "papermill": {
     "duration": 0.022196,
     "end_time": "2025-08-19T17:11:40.870619",
     "exception": false,
     "start_time": "2025-08-19T17:11:40.848423",
     "status": "completed"
    },
    "tags": []
   },
   "outputs": [],
   "source": [
    "from fairness_multiverse.conformal import compute_nc_scores\n",
    "\n",
    "# Compute nonconformity scores on calibration set (1 - probability of true class)\n",
    "nc_scores = compute_nc_scores(probs_calib, y_calib)"
   ]
  },
  {
   "cell_type": "code",
   "execution_count": 41,
   "id": "df3b8ca3-53b7-43d5-9667-7c85da7aeda2",
   "metadata": {
    "execution": {
     "iopub.execute_input": "2025-08-19T17:11:40.922091Z",
     "iopub.status.busy": "2025-08-19T17:11:40.921362Z",
     "iopub.status.idle": "2025-08-19T17:11:40.933961Z",
     "shell.execute_reply": "2025-08-19T17:11:40.932049Z"
    },
    "papermill": {
     "duration": 0.045351,
     "end_time": "2025-08-19T17:11:40.936533",
     "exception": false,
     "start_time": "2025-08-19T17:11:40.891182",
     "status": "completed"
    },
    "tags": []
   },
   "outputs": [],
   "source": [
    "from fairness_multiverse.conformal import find_threshold\n",
    "\n",
    "# Find conformal threshold q_hat for the given alpha (split conformal method)\n",
    "q_hat = find_threshold(nc_scores, alpha)"
   ]
  },
  {
   "cell_type": "code",
   "execution_count": 42,
   "id": "4d29e6c1-0ef6-4aa4-b8fe-4fe79b0d033a",
   "metadata": {
    "execution": {
     "iopub.execute_input": "2025-08-19T17:11:40.970332Z",
     "iopub.status.busy": "2025-08-19T17:11:40.968465Z",
     "iopub.status.idle": "2025-08-19T17:11:40.981272Z",
     "shell.execute_reply": "2025-08-19T17:11:40.980568Z"
    },
    "papermill": {
     "duration": 0.029701,
     "end_time": "2025-08-19T17:11:40.985577",
     "exception": false,
     "start_time": "2025-08-19T17:11:40.955876",
     "status": "completed"
    },
    "tags": []
   },
   "outputs": [
    {
     "data": {
      "text/plain": [
       "0.6603609203833384"
      ]
     },
     "execution_count": 42,
     "metadata": {},
     "output_type": "execute_result"
    }
   ],
   "source": [
    "q_hat"
   ]
  },
  {
   "cell_type": "code",
   "execution_count": 43,
   "id": "92460794-cdac-4be2-ba28-f28c0515a6fb",
   "metadata": {
    "execution": {
     "iopub.execute_input": "2025-08-19T17:11:41.042478Z",
     "iopub.status.busy": "2025-08-19T17:11:41.041925Z",
     "iopub.status.idle": "2025-08-19T17:11:41.545489Z",
     "shell.execute_reply": "2025-08-19T17:11:41.544324Z"
    },
    "papermill": {
     "duration": 0.531054,
     "end_time": "2025-08-19T17:11:41.547207",
     "exception": false,
     "start_time": "2025-08-19T17:11:41.016153",
     "status": "completed"
    },
    "tags": []
   },
   "outputs": [],
   "source": [
    "from fairness_multiverse.conformal import predict_conformal_sets\n",
    "\n",
    "# Generate prediction sets for each test example\n",
    "pred_sets = predict_conformal_sets(model, X_test, q_hat)"
   ]
  },
  {
   "cell_type": "code",
   "execution_count": 44,
   "id": "d90c9a65-e6db-4f5d-80cd-e68fb7e46829",
   "metadata": {
    "execution": {
     "iopub.execute_input": "2025-08-19T17:11:41.573794Z",
     "iopub.status.busy": "2025-08-19T17:11:41.572592Z",
     "iopub.status.idle": "2025-08-19T17:11:41.580772Z",
     "shell.execute_reply": "2025-08-19T17:11:41.579771Z"
    },
    "papermill": {
     "duration": 0.023017,
     "end_time": "2025-08-19T17:11:41.582338",
     "exception": false,
     "start_time": "2025-08-19T17:11:41.559321",
     "status": "completed"
    },
    "tags": []
   },
   "outputs": [],
   "source": [
    "y_true = y_true.squeeze()"
   ]
  },
  {
   "cell_type": "code",
   "execution_count": 45,
   "id": "3a58a54a-1e68-46b9-927a-df01f18aebc8",
   "metadata": {
    "execution": {
     "iopub.execute_input": "2025-08-19T17:11:41.609968Z",
     "iopub.status.busy": "2025-08-19T17:11:41.608915Z",
     "iopub.status.idle": "2025-08-19T17:11:42.107240Z",
     "shell.execute_reply": "2025-08-19T17:11:42.106110Z"
    },
    "papermill": {
     "duration": 0.513505,
     "end_time": "2025-08-19T17:11:42.109561",
     "exception": false,
     "start_time": "2025-08-19T17:11:41.596056",
     "status": "completed"
    },
    "tags": []
   },
   "outputs": [],
   "source": [
    "from fairness_multiverse.conformal import evaluate_sets\n",
    "\n",
    "# Evaluate coverage and average set size on test data\n",
    "metrics = evaluate_sets(pred_sets, y_true)"
   ]
  },
  {
   "cell_type": "markdown",
   "id": "2b569c12-9aaa-4c88-98c9-bbcd0cf3ebb8",
   "metadata": {
    "papermill": {
     "duration": 0.011782,
     "end_time": "2025-08-19T17:11:42.139034",
     "exception": false,
     "start_time": "2025-08-19T17:11:42.127252",
     "status": "completed"
    },
    "tags": []
   },
   "source": [
    "# CP Metrics"
   ]
  },
  {
   "cell_type": "code",
   "execution_count": 46,
   "id": "5ce0a5cb-201f-45a0-ade5-94c7f0bd6095",
   "metadata": {
    "execution": {
     "iopub.execute_input": "2025-08-19T17:11:42.164900Z",
     "iopub.status.busy": "2025-08-19T17:11:42.163696Z",
     "iopub.status.idle": "2025-08-19T17:11:42.174731Z",
     "shell.execute_reply": "2025-08-19T17:11:42.173504Z"
    },
    "papermill": {
     "duration": 0.025784,
     "end_time": "2025-08-19T17:11:42.176205",
     "exception": false,
     "start_time": "2025-08-19T17:11:42.150421",
     "status": "completed"
    },
    "tags": []
   },
   "outputs": [
    {
     "data": {
      "text/plain": [
       "{'coverage': 0.9124177906587895, 'avg_size': 1.221301973024189}"
      ]
     },
     "execution_count": 46,
     "metadata": {},
     "output_type": "execute_result"
    }
   ],
   "source": [
    "metrics"
   ]
  },
  {
   "cell_type": "code",
   "execution_count": 47,
   "id": "9b9a838d-31c9-430b-ae14-12baee460d17",
   "metadata": {
    "execution": {
     "iopub.execute_input": "2025-08-19T17:11:42.204644Z",
     "iopub.status.busy": "2025-08-19T17:11:42.203949Z",
     "iopub.status.idle": "2025-08-19T17:11:42.213918Z",
     "shell.execute_reply": "2025-08-19T17:11:42.212168Z"
    },
    "papermill": {
     "duration": 0.030534,
     "end_time": "2025-08-19T17:11:42.221067",
     "exception": false,
     "start_time": "2025-08-19T17:11:42.190533",
     "status": "completed"
    },
    "tags": []
   },
   "outputs": [],
   "source": [
    "example_universe = universe.copy()\n",
    "universe_training_year = example_universe.get(\"training_year\")\n",
    "universe_training_size = example_universe.get(\"training_size\")\n",
    "universe_scale = example_universe.get(\"scale\")\n",
    "universe_model = example_universe.get(\"model\")\n",
    "universe_exclude_features = example_universe.get(\"exclude_features\")\n",
    "universe_exclude_subgroups = example_universe.get(\"exclude_subgroups\")"
   ]
  },
  {
   "cell_type": "code",
   "execution_count": 48,
   "id": "f4b6a8ac-9dc0-4245-8a91-5b3b5999c4f9",
   "metadata": {
    "execution": {
     "iopub.execute_input": "2025-08-19T17:11:42.253595Z",
     "iopub.status.busy": "2025-08-19T17:11:42.252779Z",
     "iopub.status.idle": "2025-08-19T17:11:42.259375Z",
     "shell.execute_reply": "2025-08-19T17:11:42.258628Z"
    },
    "papermill": {
     "duration": 0.02074,
     "end_time": "2025-08-19T17:11:42.260710",
     "exception": false,
     "start_time": "2025-08-19T17:11:42.239970",
     "status": "completed"
    },
    "tags": []
   },
   "outputs": [],
   "source": [
    "cp_metrics_dict = {\n",
    "    \"universe_id\": [universe_id],\n",
    "    \"universe_training_year\": [universe_training_year],\n",
    "    \"universe_training_size\": [universe_training_size],\n",
    "    \"universe_scale\": [universe_scale],\n",
    "    \"universe_model\": [universe_model],\n",
    "    \"universe_exclude_features\": [universe_exclude_features],\n",
    "    \"universe_exclude_subgroups\": [universe_exclude_subgroups],\n",
    "    \"q_hat\": [q_hat],\n",
    "    \"coverage\": [metrics[\"coverage\"]],\n",
    "    \"avg_size\": [metrics[\"avg_size\"]],\n",
    "}"
   ]
  },
  {
   "cell_type": "code",
   "execution_count": 49,
   "id": "33007efc-14e9-4ec6-97ac-56a455c82265",
   "metadata": {
    "execution": {
     "iopub.execute_input": "2025-08-19T17:11:42.289651Z",
     "iopub.status.busy": "2025-08-19T17:11:42.288437Z",
     "iopub.status.idle": "2025-08-19T17:11:42.299587Z",
     "shell.execute_reply": "2025-08-19T17:11:42.298577Z"
    },
    "papermill": {
     "duration": 0.028704,
     "end_time": "2025-08-19T17:11:42.301265",
     "exception": false,
     "start_time": "2025-08-19T17:11:42.272561",
     "status": "completed"
    },
    "tags": []
   },
   "outputs": [],
   "source": [
    "cp_metrics_df = pd.DataFrame(cp_metrics_dict)"
   ]
  },
  {
   "cell_type": "code",
   "execution_count": 50,
   "id": "db12611b-57b2-4910-b9d0-355adfd6e7bf",
   "metadata": {
    "execution": {
     "iopub.execute_input": "2025-08-19T17:11:42.333906Z",
     "iopub.status.busy": "2025-08-19T17:11:42.332808Z",
     "iopub.status.idle": "2025-08-19T17:11:42.358196Z",
     "shell.execute_reply": "2025-08-19T17:11:42.356864Z"
    },
    "papermill": {
     "duration": 0.042201,
     "end_time": "2025-08-19T17:11:42.361710",
     "exception": false,
     "start_time": "2025-08-19T17:11:42.319509",
     "status": "completed"
    },
    "tags": []
   },
   "outputs": [
    {
     "data": {
      "text/html": [
       "<div>\n",
       "<style scoped>\n",
       "    .dataframe tbody tr th:only-of-type {\n",
       "        vertical-align: middle;\n",
       "    }\n",
       "\n",
       "    .dataframe tbody tr th {\n",
       "        vertical-align: top;\n",
       "    }\n",
       "\n",
       "    .dataframe thead th {\n",
       "        text-align: right;\n",
       "    }\n",
       "</style>\n",
       "<table border=\"1\" class=\"dataframe\">\n",
       "  <thead>\n",
       "    <tr style=\"text-align: right;\">\n",
       "      <th></th>\n",
       "      <th>universe_id</th>\n",
       "      <th>universe_training_year</th>\n",
       "      <th>universe_training_size</th>\n",
       "      <th>universe_scale</th>\n",
       "      <th>universe_model</th>\n",
       "      <th>universe_exclude_features</th>\n",
       "      <th>universe_exclude_subgroups</th>\n",
       "      <th>q_hat</th>\n",
       "      <th>coverage</th>\n",
       "      <th>avg_size</th>\n",
       "    </tr>\n",
       "  </thead>\n",
       "  <tbody>\n",
       "    <tr>\n",
       "      <th>0</th>\n",
       "      <td>148c87e04e6078e0a1ae23c736858883</td>\n",
       "      <td>2012_14</td>\n",
       "      <td>25k</td>\n",
       "      <td>do-not-scale</td>\n",
       "      <td>penalized_logreg</td>\n",
       "      <td>none</td>\n",
       "      <td>drop-non-german</td>\n",
       "      <td>0.660361</td>\n",
       "      <td>0.912418</td>\n",
       "      <td>1.221302</td>\n",
       "    </tr>\n",
       "  </tbody>\n",
       "</table>\n",
       "</div>"
      ],
      "text/plain": [
       "                        universe_id universe_training_year  \\\n",
       "0  148c87e04e6078e0a1ae23c736858883                2012_14   \n",
       "\n",
       "  universe_training_size universe_scale    universe_model  \\\n",
       "0                    25k   do-not-scale  penalized_logreg   \n",
       "\n",
       "  universe_exclude_features universe_exclude_subgroups     q_hat  coverage  \\\n",
       "0                      none            drop-non-german  0.660361  0.912418   \n",
       "\n",
       "   avg_size  \n",
       "0  1.221302  "
      ]
     },
     "execution_count": 50,
     "metadata": {},
     "output_type": "execute_result"
    }
   ],
   "source": [
    "cp_metrics_df"
   ]
  },
  {
   "cell_type": "markdown",
   "id": "c825ecb4-0d3d-41d6-b7c6-eccb21272259",
   "metadata": {
    "papermill": {
     "duration": 0.014017,
     "end_time": "2025-08-19T17:11:42.394654",
     "exception": false,
     "start_time": "2025-08-19T17:11:42.380637",
     "status": "completed"
    },
    "tags": []
   },
   "source": [
    "Conditional coverage & looking at subgroups"
   ]
  },
  {
   "cell_type": "code",
   "execution_count": 51,
   "id": "027ae886-68dd-4141-96c7-805a5450e1ef",
   "metadata": {
    "execution": {
     "iopub.execute_input": "2025-08-19T17:11:42.422938Z",
     "iopub.status.busy": "2025-08-19T17:11:42.421743Z",
     "iopub.status.idle": "2025-08-19T17:11:42.718241Z",
     "shell.execute_reply": "2025-08-19T17:11:42.717294Z"
    },
    "papermill": {
     "duration": 0.312129,
     "end_time": "2025-08-19T17:11:42.719804",
     "exception": false,
     "start_time": "2025-08-19T17:11:42.407675",
     "status": "completed"
    },
    "tags": []
   },
   "outputs": [],
   "source": [
    "from fairness_multiverse.conformal import build_cp_groups\n",
    "\n",
    "cp_groups_df = build_cp_groups(pred_sets, y_true, X_test.index, org_test)"
   ]
  },
  {
   "cell_type": "code",
   "execution_count": 52,
   "id": "6cbdab96-b2b2-45af-ad54-d0516db2e28d",
   "metadata": {
    "execution": {
     "iopub.execute_input": "2025-08-19T17:11:42.747209Z",
     "iopub.status.busy": "2025-08-19T17:11:42.746289Z",
     "iopub.status.idle": "2025-08-19T17:11:43.619158Z",
     "shell.execute_reply": "2025-08-19T17:11:43.617653Z"
    },
    "papermill": {
     "duration": 0.890378,
     "end_time": "2025-08-19T17:11:43.623016",
     "exception": false,
     "start_time": "2025-08-19T17:11:42.732638",
     "status": "completed"
    },
    "tags": []
   },
   "outputs": [],
   "source": [
    "# Define covered = 1 if true_label is in the predicted set\n",
    "cp_groups_df['covered'] = cp_groups_df.apply(\n",
    "    lambda r: int(r['true_label'] in r['pred_set']),\n",
    "    axis=1\n",
    ")"
   ]
  },
  {
   "cell_type": "code",
   "execution_count": 53,
   "id": "90032e27-66df-4540-9169-4e89cfbaa758",
   "metadata": {
    "execution": {
     "iopub.execute_input": "2025-08-19T17:11:43.666355Z",
     "iopub.status.busy": "2025-08-19T17:11:43.665034Z",
     "iopub.status.idle": "2025-08-19T17:11:43.689838Z",
     "shell.execute_reply": "2025-08-19T17:11:43.688738Z"
    },
    "papermill": {
     "duration": 0.04408,
     "end_time": "2025-08-19T17:11:43.692054",
     "exception": false,
     "start_time": "2025-08-19T17:11:43.647974",
     "status": "completed"
    },
    "tags": []
   },
   "outputs": [],
   "source": [
    "subgroups = ['frau1','nongerman','nongerman_male','nongerman_female']\n",
    "\n",
    "# Conditional coverage for subgroup==1\n",
    "cond_coverage = {\n",
    "    g: cp_groups_df.loc[cp_groups_df[g]==1, 'covered'].mean()\n",
    "    for g in subgroups\n",
    "}"
   ]
  },
  {
   "cell_type": "code",
   "execution_count": 54,
   "id": "1e348fb1-b9c3-45bc-ba23-f016827a7e0d",
   "metadata": {
    "execution": {
     "iopub.execute_input": "2025-08-19T17:11:43.730394Z",
     "iopub.status.busy": "2025-08-19T17:11:43.729546Z",
     "iopub.status.idle": "2025-08-19T17:11:43.743683Z",
     "shell.execute_reply": "2025-08-19T17:11:43.741815Z"
    },
    "papermill": {
     "duration": 0.031853,
     "end_time": "2025-08-19T17:11:43.747188",
     "exception": false,
     "start_time": "2025-08-19T17:11:43.715335",
     "status": "completed"
    },
    "tags": []
   },
   "outputs": [
    {
     "data": {
      "text/plain": [
       "{'frau1': 0.9123331985442782,\n",
       " 'nongerman': 0.9417840902711503,\n",
       " 'nongerman_male': 0.951634693326128,\n",
       " 'nongerman_female': 0.9254843517138599}"
      ]
     },
     "execution_count": 54,
     "metadata": {},
     "output_type": "execute_result"
    }
   ],
   "source": [
    "cond_coverage"
   ]
  },
  {
   "cell_type": "code",
   "execution_count": 55,
   "id": "f5093324-c3dd-4d63-bc4c-8d945e5c8bbb",
   "metadata": {
    "execution": {
     "iopub.execute_input": "2025-08-19T17:11:43.775696Z",
     "iopub.status.busy": "2025-08-19T17:11:43.774419Z",
     "iopub.status.idle": "2025-08-19T17:11:43.786966Z",
     "shell.execute_reply": "2025-08-19T17:11:43.785799Z"
    },
    "papermill": {
     "duration": 0.028048,
     "end_time": "2025-08-19T17:11:43.788925",
     "exception": false,
     "start_time": "2025-08-19T17:11:43.760877",
     "status": "completed"
    },
    "tags": []
   },
   "outputs": [],
   "source": [
    "for subgroup, cov in cond_coverage.items():\n",
    "    cp_metrics_df[f\"cov_{subgroup}\"] = cov"
   ]
  },
  {
   "cell_type": "code",
   "execution_count": 56,
   "id": "6e872e10-dbe5-49e8-b554-5030c98ff75d",
   "metadata": {
    "execution": {
     "iopub.execute_input": "2025-08-19T17:11:43.822810Z",
     "iopub.status.busy": "2025-08-19T17:11:43.819766Z",
     "iopub.status.idle": "2025-08-19T17:11:43.849595Z",
     "shell.execute_reply": "2025-08-19T17:11:43.848673Z"
    },
    "papermill": {
     "duration": 0.045894,
     "end_time": "2025-08-19T17:11:43.851913",
     "exception": false,
     "start_time": "2025-08-19T17:11:43.806019",
     "status": "completed"
    },
    "tags": []
   },
   "outputs": [
    {
     "data": {
      "text/html": [
       "<div>\n",
       "<style scoped>\n",
       "    .dataframe tbody tr th:only-of-type {\n",
       "        vertical-align: middle;\n",
       "    }\n",
       "\n",
       "    .dataframe tbody tr th {\n",
       "        vertical-align: top;\n",
       "    }\n",
       "\n",
       "    .dataframe thead th {\n",
       "        text-align: right;\n",
       "    }\n",
       "</style>\n",
       "<table border=\"1\" class=\"dataframe\">\n",
       "  <thead>\n",
       "    <tr style=\"text-align: right;\">\n",
       "      <th></th>\n",
       "      <th>universe_id</th>\n",
       "      <th>universe_training_year</th>\n",
       "      <th>universe_training_size</th>\n",
       "      <th>universe_scale</th>\n",
       "      <th>universe_model</th>\n",
       "      <th>universe_exclude_features</th>\n",
       "      <th>universe_exclude_subgroups</th>\n",
       "      <th>q_hat</th>\n",
       "      <th>coverage</th>\n",
       "      <th>avg_size</th>\n",
       "      <th>cov_frau1</th>\n",
       "      <th>cov_nongerman</th>\n",
       "      <th>cov_nongerman_male</th>\n",
       "      <th>cov_nongerman_female</th>\n",
       "    </tr>\n",
       "  </thead>\n",
       "  <tbody>\n",
       "    <tr>\n",
       "      <th>0</th>\n",
       "      <td>148c87e04e6078e0a1ae23c736858883</td>\n",
       "      <td>2012_14</td>\n",
       "      <td>25k</td>\n",
       "      <td>do-not-scale</td>\n",
       "      <td>penalized_logreg</td>\n",
       "      <td>none</td>\n",
       "      <td>drop-non-german</td>\n",
       "      <td>0.660361</td>\n",
       "      <td>0.912418</td>\n",
       "      <td>1.221302</td>\n",
       "      <td>0.912333</td>\n",
       "      <td>0.941784</td>\n",
       "      <td>0.951635</td>\n",
       "      <td>0.925484</td>\n",
       "    </tr>\n",
       "  </tbody>\n",
       "</table>\n",
       "</div>"
      ],
      "text/plain": [
       "                        universe_id universe_training_year  \\\n",
       "0  148c87e04e6078e0a1ae23c736858883                2012_14   \n",
       "\n",
       "  universe_training_size universe_scale    universe_model  \\\n",
       "0                    25k   do-not-scale  penalized_logreg   \n",
       "\n",
       "  universe_exclude_features universe_exclude_subgroups     q_hat  coverage  \\\n",
       "0                      none            drop-non-german  0.660361  0.912418   \n",
       "\n",
       "   avg_size  cov_frau1  cov_nongerman  cov_nongerman_male  \\\n",
       "0  1.221302   0.912333       0.941784            0.951635   \n",
       "\n",
       "   cov_nongerman_female  \n",
       "0              0.925484  "
      ]
     },
     "execution_count": 56,
     "metadata": {},
     "output_type": "execute_result"
    }
   ],
   "source": [
    "cp_metrics_df"
   ]
  },
  {
   "cell_type": "markdown",
   "id": "33774451",
   "metadata": {
    "papermill": {
     "duration": 0.01222,
     "end_time": "2025-08-19T17:11:43.887185",
     "exception": false,
     "start_time": "2025-08-19T17:11:43.874965",
     "status": "completed"
    },
    "tags": []
   },
   "source": [
    "# (Fairness) Metrics"
   ]
  },
  {
   "cell_type": "code",
   "execution_count": 57,
   "id": "debc5d62",
   "metadata": {
    "execution": {
     "iopub.execute_input": "2025-08-19T17:11:43.915460Z",
     "iopub.status.busy": "2025-08-19T17:11:43.914138Z",
     "iopub.status.idle": "2025-08-19T17:11:43.945288Z",
     "shell.execute_reply": "2025-08-19T17:11:43.944317Z"
    },
    "papermill": {
     "duration": 0.048495,
     "end_time": "2025-08-19T17:11:43.947994",
     "exception": false,
     "start_time": "2025-08-19T17:11:43.899499",
     "status": "completed"
    },
    "tags": []
   },
   "outputs": [],
   "source": [
    "colname_to_bin = \"maxdeutsch1\"\n",
    "majority_value = org_train[colname_to_bin].mode()[0]\n",
    "\n",
    "org_test[\"majmin\"] = np.where(org_test[colname_to_bin] == majority_value, \"majority\", \"minority\")"
   ]
  },
  {
   "cell_type": "code",
   "execution_count": 58,
   "id": "06a50de5",
   "metadata": {
    "execution": {
     "iopub.execute_input": "2025-08-19T17:11:43.990029Z",
     "iopub.status.busy": "2025-08-19T17:11:43.988858Z",
     "iopub.status.idle": "2025-08-19T17:11:45.730716Z",
     "shell.execute_reply": "2025-08-19T17:11:45.729421Z"
    },
    "papermill": {
     "duration": 1.759539,
     "end_time": "2025-08-19T17:11:45.732627",
     "exception": false,
     "start_time": "2025-08-19T17:11:43.973088",
     "status": "completed"
    },
    "tags": []
   },
   "outputs": [],
   "source": [
    "example_universe = universe.copy()\n",
    "example_universe[\"cutoff\"] = example_universe[\"cutoff\"][0]\n",
    "example_universe[\"eval_fairness_grouping\"] = example_universe[\"eval_fairness_grouping\"][0]\n",
    "fairness_dict, metric_frame = universe_analysis.compute_metrics(\n",
    "    example_universe,\n",
    "    y_pred_prob=probs_test,\n",
    "    y_test=y_true,\n",
    "    org_test=org_test,\n",
    ")"
   ]
  },
  {
   "cell_type": "markdown",
   "id": "f95d4e02",
   "metadata": {
    "papermill": {
     "duration": 0.031888,
     "end_time": "2025-08-19T17:11:45.779771",
     "exception": false,
     "start_time": "2025-08-19T17:11:45.747883",
     "status": "completed"
    },
    "tags": []
   },
   "source": [
    "# Overall"
   ]
  },
  {
   "cell_type": "markdown",
   "id": "bdee4871",
   "metadata": {
    "papermill": {
     "duration": 0.025753,
     "end_time": "2025-08-19T17:11:45.818702",
     "exception": false,
     "start_time": "2025-08-19T17:11:45.792949",
     "status": "completed"
    },
    "tags": []
   },
   "source": [
    "Main fairness target: Equalized Odds. Seems to be a better fit than equal opportunity, since we're not only interested in Y = 1. Seems to be a better fit than demographic parity, since we also care about accuracy, not just equal distribution of preds.\n",
    "\n",
    "Pick column for computation of fairness metrics\n",
    "\n",
    "Performance\n",
    "Overall performance measures, most interesting in relation to the measures split by group below"
   ]
  },
  {
   "cell_type": "code",
   "execution_count": 59,
   "id": "c4e067c6",
   "metadata": {
    "execution": {
     "iopub.execute_input": "2025-08-19T17:11:45.859816Z",
     "iopub.status.busy": "2025-08-19T17:11:45.859104Z",
     "iopub.status.idle": "2025-08-19T17:11:45.868322Z",
     "shell.execute_reply": "2025-08-19T17:11:45.867469Z"
    },
    "papermill": {
     "duration": 0.027204,
     "end_time": "2025-08-19T17:11:45.870213",
     "exception": false,
     "start_time": "2025-08-19T17:11:45.843009",
     "status": "completed"
    },
    "tags": []
   },
   "outputs": [
    {
     "data": {
      "text/plain": [
       "accuracy                   0.217958\n",
       "balanced accuracy          0.534281\n",
       "f1                         0.239466\n",
       "precision                  0.136799\n",
       "false positive rate        0.891205\n",
       "false negative rate        0.040233\n",
       "selection rate             0.900000\n",
       "count                  89710.000000\n",
       "dtype: float64"
      ]
     },
     "execution_count": 59,
     "metadata": {},
     "output_type": "execute_result"
    }
   ],
   "source": [
    "metric_frame.overall"
   ]
  },
  {
   "cell_type": "markdown",
   "id": "e968fe9d",
   "metadata": {
    "papermill": {
     "duration": 0.012278,
     "end_time": "2025-08-19T17:11:45.897160",
     "exception": false,
     "start_time": "2025-08-19T17:11:45.884882",
     "status": "completed"
    },
    "tags": []
   },
   "source": [
    "By Group"
   ]
  },
  {
   "cell_type": "code",
   "execution_count": 60,
   "id": "ec325bce",
   "metadata": {
    "execution": {
     "iopub.execute_input": "2025-08-19T17:11:45.923870Z",
     "iopub.status.busy": "2025-08-19T17:11:45.922917Z",
     "iopub.status.idle": "2025-08-19T17:11:45.935620Z",
     "shell.execute_reply": "2025-08-19T17:11:45.934776Z"
    },
    "papermill": {
     "duration": 0.029109,
     "end_time": "2025-08-19T17:11:45.938545",
     "exception": false,
     "start_time": "2025-08-19T17:11:45.909436",
     "status": "completed"
    },
    "tags": []
   },
   "outputs": [
    {
     "data": {
      "text/html": [
       "<div>\n",
       "<style scoped>\n",
       "    .dataframe tbody tr th:only-of-type {\n",
       "        vertical-align: middle;\n",
       "    }\n",
       "\n",
       "    .dataframe tbody tr th {\n",
       "        vertical-align: top;\n",
       "    }\n",
       "\n",
       "    .dataframe thead th {\n",
       "        text-align: right;\n",
       "    }\n",
       "</style>\n",
       "<table border=\"1\" class=\"dataframe\">\n",
       "  <thead>\n",
       "    <tr style=\"text-align: right;\">\n",
       "      <th></th>\n",
       "      <th>accuracy</th>\n",
       "      <th>balanced accuracy</th>\n",
       "      <th>f1</th>\n",
       "      <th>precision</th>\n",
       "      <th>false positive rate</th>\n",
       "      <th>false negative rate</th>\n",
       "      <th>selection rate</th>\n",
       "      <th>count</th>\n",
       "    </tr>\n",
       "    <tr>\n",
       "      <th>majmin</th>\n",
       "      <th></th>\n",
       "      <th></th>\n",
       "      <th></th>\n",
       "      <th></th>\n",
       "      <th></th>\n",
       "      <th></th>\n",
       "      <th></th>\n",
       "      <th></th>\n",
       "    </tr>\n",
       "  </thead>\n",
       "  <tbody>\n",
       "    <tr>\n",
       "      <th>majority</th>\n",
       "      <td>0.240812</td>\n",
       "      <td>0.542530</td>\n",
       "      <td>0.249031</td>\n",
       "      <td>0.143238</td>\n",
       "      <td>0.867566</td>\n",
       "      <td>0.047374</td>\n",
       "      <td>0.878806</td>\n",
       "      <td>69170.0</td>\n",
       "    </tr>\n",
       "    <tr>\n",
       "      <th>minority</th>\n",
       "      <td>0.140993</td>\n",
       "      <td>0.509019</td>\n",
       "      <td>0.209498</td>\n",
       "      <td>0.117181</td>\n",
       "      <td>0.969293</td>\n",
       "      <td>0.012669</td>\n",
       "      <td>0.971373</td>\n",
       "      <td>20540.0</td>\n",
       "    </tr>\n",
       "  </tbody>\n",
       "</table>\n",
       "</div>"
      ],
      "text/plain": [
       "          accuracy  balanced accuracy        f1  precision  \\\n",
       "majmin                                                       \n",
       "majority  0.240812           0.542530  0.249031   0.143238   \n",
       "minority  0.140993           0.509019  0.209498   0.117181   \n",
       "\n",
       "          false positive rate  false negative rate  selection rate    count  \n",
       "majmin                                                                       \n",
       "majority             0.867566             0.047374        0.878806  69170.0  \n",
       "minority             0.969293             0.012669        0.971373  20540.0  "
      ]
     },
     "execution_count": 60,
     "metadata": {},
     "output_type": "execute_result"
    }
   ],
   "source": [
    "metric_frame.by_group"
   ]
  },
  {
   "cell_type": "code",
   "execution_count": 61,
   "id": "a9ddbe63",
   "metadata": {
    "execution": {
     "iopub.execute_input": "2025-08-19T17:11:45.981223Z",
     "iopub.status.busy": "2025-08-19T17:11:45.979988Z",
     "iopub.status.idle": "2025-08-19T17:11:47.756277Z",
     "shell.execute_reply": "2025-08-19T17:11:47.755356Z"
    },
    "papermill": {
     "duration": 1.797196,
     "end_time": "2025-08-19T17:11:47.761962",
     "exception": false,
     "start_time": "2025-08-19T17:11:45.964766",
     "status": "completed"
    },
    "tags": []
   },
   "outputs": [
    {
     "data": {
      "text/plain": [
       "array([[<Axes: title={'center': 'accuracy'}, xlabel='majmin'>,\n",
       "        <Axes: title={'center': 'balanced accuracy'}, xlabel='majmin'>,\n",
       "        <Axes: title={'center': 'f1'}, xlabel='majmin'>],\n",
       "       [<Axes: title={'center': 'precision'}, xlabel='majmin'>,\n",
       "        <Axes: title={'center': 'false positive rate'}, xlabel='majmin'>,\n",
       "        <Axes: title={'center': 'false negative rate'}, xlabel='majmin'>],\n",
       "       [<Axes: title={'center': 'selection rate'}, xlabel='majmin'>,\n",
       "        <Axes: title={'center': 'count'}, xlabel='majmin'>,\n",
       "        <Axes: xlabel='majmin'>]], dtype=object)"
      ]
     },
     "execution_count": 61,
     "metadata": {},
     "output_type": "execute_result"
    },
    {
     "data": {
      "image/png": "[encoded data removed]",
      "text/plain": [
       "<Figure size 1200x800 with 9 Axes>"
      ]
     },
     "metadata": {},
     "output_type": "display_data"
    }
   ],
   "source": [
    "# In a graphic\n",
    "metric_frame.by_group.plot.bar(\n",
    "    subplots=True,\n",
    "    layout=[3, 3],\n",
    "    legend=False,\n",
    "    figsize=[12, 8],\n",
    "    title=\"Show all metrics\",\n",
    ")"
   ]
  },
  {
   "cell_type": "markdown",
   "id": "f57a0bac",
   "metadata": {
    "papermill": {
     "duration": 0.013693,
     "end_time": "2025-08-19T17:11:47.802350",
     "exception": false,
     "start_time": "2025-08-19T17:11:47.788657",
     "status": "completed"
    },
    "tags": []
   },
   "source": [
    "# Final Output"
   ]
  },
  {
   "cell_type": "code",
   "execution_count": 62,
   "id": "96d280a3",
   "metadata": {
    "execution": {
     "iopub.execute_input": "2025-08-19T17:11:47.834253Z",
     "iopub.status.busy": "2025-08-19T17:11:47.831832Z",
     "iopub.status.idle": "2025-08-19T17:11:47.845633Z",
     "shell.execute_reply": "2025-08-19T17:11:47.844442Z"
    },
    "papermill": {
     "duration": 0.031374,
     "end_time": "2025-08-19T17:11:47.847316",
     "exception": false,
     "start_time": "2025-08-19T17:11:47.815942",
     "status": "completed"
    },
    "tags": []
   },
   "outputs": [
    {
     "data": {
      "text/plain": [
       "4"
      ]
     },
     "execution_count": 62,
     "metadata": {},
     "output_type": "execute_result"
    }
   ],
   "source": [
    "sub_universes = universe_analysis.generate_sub_universes()\n",
    "len(sub_universes)"
   ]
  },
  {
   "cell_type": "code",
   "execution_count": 63,
   "id": "92adf7ba",
   "metadata": {
    "execution": {
     "iopub.execute_input": "2025-08-19T17:11:47.889253Z",
     "iopub.status.busy": "2025-08-19T17:11:47.887926Z",
     "iopub.status.idle": "2025-08-19T17:11:47.897060Z",
     "shell.execute_reply": "2025-08-19T17:11:47.895803Z"
    },
    "papermill": {
     "duration": 0.030218,
     "end_time": "2025-08-19T17:11:47.898900",
     "exception": false,
     "start_time": "2025-08-19T17:11:47.868682",
     "status": "completed"
    },
    "tags": []
   },
   "outputs": [],
   "source": [
    "def filter_sub_universe_data(sub_universe, org_test):\n",
    "    # Keep all rows — no filtering\n",
    "    keep_rows_mask = np.ones(org_test.shape[0], dtype=bool)\n",
    "\n",
    "    print(f\"[INFO] Keeping all rows: {keep_rows_mask.sum()} rows retained.\")\n",
    "    return keep_rows_mask"
   ]
  },
  {
   "cell_type": "code",
   "execution_count": 64,
   "id": "4a759155",
   "metadata": {
    "execution": {
     "iopub.execute_input": "2025-08-19T17:11:47.934085Z",
     "iopub.status.busy": "2025-08-19T17:11:47.932830Z",
     "iopub.status.idle": "2025-08-19T17:11:54.612440Z",
     "shell.execute_reply": "2025-08-19T17:11:54.611483Z"
    },
    "papermill": {
     "duration": 6.698651,
     "end_time": "2025-08-19T17:11:54.615949",
     "exception": false,
     "start_time": "2025-08-19T17:11:47.917298",
     "status": "completed"
    },
    "tags": []
   },
   "outputs": [
    {
     "name": "stdout",
     "output_type": "stream",
     "text": [
      "Stopping execution_time clock.\n",
      "[INFO] Keeping all rows: 89710 rows retained.\n"
     ]
    },
    {
     "name": "stdout",
     "output_type": "stream",
     "text": [
      "[INFO] Keeping all rows: 89710 rows retained.\n"
     ]
    },
    {
     "name": "stdout",
     "output_type": "stream",
     "text": [
      "[INFO] Keeping all rows: 89710 rows retained.\n"
     ]
    },
    {
     "name": "stdout",
     "output_type": "stream",
     "text": [
      "[INFO] Keeping all rows: 89710 rows retained.\n"
     ]
    },
    {
     "data": {
      "text/html": [
       "<div>\n",
       "<style scoped>\n",
       "    .dataframe tbody tr th:only-of-type {\n",
       "        vertical-align: middle;\n",
       "    }\n",
       "\n",
       "    .dataframe tbody tr th {\n",
       "        vertical-align: top;\n",
       "    }\n",
       "\n",
       "    .dataframe thead th {\n",
       "        text-align: right;\n",
       "    }\n",
       "</style>\n",
       "<table border=\"1\" class=\"dataframe\">\n",
       "  <thead>\n",
       "    <tr style=\"text-align: right;\">\n",
       "      <th></th>\n",
       "      <th>run_no</th>\n",
       "      <th>universe_id</th>\n",
       "      <th>universe_settings</th>\n",
       "      <th>execution_time</th>\n",
       "      <th>test_size_n</th>\n",
       "      <th>test_size_frac</th>\n",
       "      <th>fair_main_equalized_odds_difference</th>\n",
       "      <th>fair_main_equalized_odds_ratio</th>\n",
       "      <th>fair_main_demographic_parity_difference</th>\n",
       "      <th>fair_main_demographic_parity_ratio</th>\n",
       "      <th>...</th>\n",
       "      <th>perf_grp_precision_0</th>\n",
       "      <th>perf_grp_precision_1</th>\n",
       "      <th>perf_grp_false positive rate_0</th>\n",
       "      <th>perf_grp_false positive rate_1</th>\n",
       "      <th>perf_grp_false negative rate_0</th>\n",
       "      <th>perf_grp_false negative rate_1</th>\n",
       "      <th>perf_grp_selection rate_0</th>\n",
       "      <th>perf_grp_selection rate_1</th>\n",
       "      <th>perf_grp_count_0</th>\n",
       "      <th>perf_grp_count_1</th>\n",
       "    </tr>\n",
       "  </thead>\n",
       "  <tbody>\n",
       "    <tr>\n",
       "      <th>0</th>\n",
       "      <td>2</td>\n",
       "      <td>148c87e04e6078e0a1ae23c736858883</td>\n",
       "      <td>{\"cutoff\": \"quantile_0.1\", \"eval_fairness_grou...</td>\n",
       "      <td>22.105314</td>\n",
       "      <td>89710</td>\n",
       "      <td>1.0</td>\n",
       "      <td>0.101727</td>\n",
       "      <td>0.895050</td>\n",
       "      <td>0.092567</td>\n",
       "      <td>0.904705</td>\n",
       "      <td>...</td>\n",
       "      <td>NaN</td>\n",
       "      <td>NaN</td>\n",
       "      <td>NaN</td>\n",
       "      <td>NaN</td>\n",
       "      <td>NaN</td>\n",
       "      <td>NaN</td>\n",
       "      <td>NaN</td>\n",
       "      <td>NaN</td>\n",
       "      <td>NaN</td>\n",
       "      <td>NaN</td>\n",
       "    </tr>\n",
       "    <tr>\n",
       "      <th>0</th>\n",
       "      <td>2</td>\n",
       "      <td>148c87e04e6078e0a1ae23c736858883</td>\n",
       "      <td>{\"cutoff\": \"quantile_0.1\", \"eval_fairness_grou...</td>\n",
       "      <td>22.105314</td>\n",
       "      <td>89710</td>\n",
       "      <td>1.0</td>\n",
       "      <td>0.101727</td>\n",
       "      <td>0.895050</td>\n",
       "      <td>0.092567</td>\n",
       "      <td>0.904705</td>\n",
       "      <td>...</td>\n",
       "      <td>0.117181</td>\n",
       "      <td>0.143238</td>\n",
       "      <td>0.969293</td>\n",
       "      <td>0.867566</td>\n",
       "      <td>0.012669</td>\n",
       "      <td>0.047374</td>\n",
       "      <td>0.971373</td>\n",
       "      <td>0.878806</td>\n",
       "      <td>20540.0</td>\n",
       "      <td>69170.0</td>\n",
       "    </tr>\n",
       "    <tr>\n",
       "      <th>0</th>\n",
       "      <td>2</td>\n",
       "      <td>148c87e04e6078e0a1ae23c736858883</td>\n",
       "      <td>{\"cutoff\": \"quantile_0.25\", \"eval_fairness_gro...</td>\n",
       "      <td>22.105314</td>\n",
       "      <td>89710</td>\n",
       "      <td>1.0</td>\n",
       "      <td>0.231180</td>\n",
       "      <td>0.745347</td>\n",
       "      <td>0.212356</td>\n",
       "      <td>0.767594</td>\n",
       "      <td>...</td>\n",
       "      <td>NaN</td>\n",
       "      <td>NaN</td>\n",
       "      <td>NaN</td>\n",
       "      <td>NaN</td>\n",
       "      <td>NaN</td>\n",
       "      <td>NaN</td>\n",
       "      <td>NaN</td>\n",
       "      <td>NaN</td>\n",
       "      <td>NaN</td>\n",
       "      <td>NaN</td>\n",
       "    </tr>\n",
       "    <tr>\n",
       "      <th>0</th>\n",
       "      <td>2</td>\n",
       "      <td>148c87e04e6078e0a1ae23c736858883</td>\n",
       "      <td>{\"cutoff\": \"quantile_0.25\", \"eval_fairness_gro...</td>\n",
       "      <td>22.105314</td>\n",
       "      <td>89710</td>\n",
       "      <td>1.0</td>\n",
       "      <td>0.231180</td>\n",
       "      <td>0.745347</td>\n",
       "      <td>0.212356</td>\n",
       "      <td>0.767594</td>\n",
       "      <td>...</td>\n",
       "      <td>0.121004</td>\n",
       "      <td>0.162737</td>\n",
       "      <td>0.907825</td>\n",
       "      <td>0.676645</td>\n",
       "      <td>0.040963</td>\n",
       "      <td>0.136214</td>\n",
       "      <td>0.913729</td>\n",
       "      <td>0.701373</td>\n",
       "      <td>20540.0</td>\n",
       "      <td>69170.0</td>\n",
       "    </tr>\n",
       "  </tbody>\n",
       "</table>\n",
       "<p>4 rows × 50 columns</p>\n",
       "</div>"
      ],
      "text/plain": [
       "  run_no                       universe_id  \\\n",
       "0      2  148c87e04e6078e0a1ae23c736858883   \n",
       "0      2  148c87e04e6078e0a1ae23c736858883   \n",
       "0      2  148c87e04e6078e0a1ae23c736858883   \n",
       "0      2  148c87e04e6078e0a1ae23c736858883   \n",
       "\n",
       "                                   universe_settings  execution_time  \\\n",
       "0  {\"cutoff\": \"quantile_0.1\", \"eval_fairness_grou...       22.105314   \n",
       "0  {\"cutoff\": \"quantile_0.1\", \"eval_fairness_grou...       22.105314   \n",
       "0  {\"cutoff\": \"quantile_0.25\", \"eval_fairness_gro...       22.105314   \n",
       "0  {\"cutoff\": \"quantile_0.25\", \"eval_fairness_gro...       22.105314   \n",
       "\n",
       "   test_size_n  test_size_frac  fair_main_equalized_odds_difference  \\\n",
       "0        89710             1.0                             0.101727   \n",
       "0        89710             1.0                             0.101727   \n",
       "0        89710             1.0                             0.231180   \n",
       "0        89710             1.0                             0.231180   \n",
       "\n",
       "   fair_main_equalized_odds_ratio  fair_main_demographic_parity_difference  \\\n",
       "0                        0.895050                                 0.092567   \n",
       "0                        0.895050                                 0.092567   \n",
       "0                        0.745347                                 0.212356   \n",
       "0                        0.745347                                 0.212356   \n",
       "\n",
       "   fair_main_demographic_parity_ratio  ...  perf_grp_precision_0  \\\n",
       "0                            0.904705  ...                   NaN   \n",
       "0                            0.904705  ...              0.117181   \n",
       "0                            0.767594  ...                   NaN   \n",
       "0                            0.767594  ...              0.121004   \n",
       "\n",
       "   perf_grp_precision_1  perf_grp_false positive rate_0  \\\n",
       "0                   NaN                             NaN   \n",
       "0              0.143238                        0.969293   \n",
       "0                   NaN                             NaN   \n",
       "0              0.162737                        0.907825   \n",
       "\n",
       "   perf_grp_false positive rate_1  perf_grp_false negative rate_0  \\\n",
       "0                             NaN                             NaN   \n",
       "0                        0.867566                        0.012669   \n",
       "0                             NaN                             NaN   \n",
       "0                        0.676645                        0.040963   \n",
       "\n",
       "   perf_grp_false negative rate_1  perf_grp_selection rate_0  \\\n",
       "0                             NaN                        NaN   \n",
       "0                        0.047374                   0.971373   \n",
       "0                             NaN                        NaN   \n",
       "0                        0.136214                   0.913729   \n",
       "\n",
       "   perf_grp_selection rate_1  perf_grp_count_0  perf_grp_count_1  \n",
       "0                        NaN               NaN               NaN  \n",
       "0                   0.878806           20540.0           69170.0  \n",
       "0                        NaN               NaN               NaN  \n",
       "0                   0.701373           20540.0           69170.0  \n",
       "\n",
       "[4 rows x 50 columns]"
      ]
     },
     "execution_count": 64,
     "metadata": {},
     "output_type": "execute_result"
    }
   ],
   "source": [
    "final_output = universe_analysis.generate_final_output(\n",
    "    y_pred_prob=probs_test,\n",
    "    y_test=y_true,\n",
    "    org_test=org_test,\n",
    "    filter_data=filter_sub_universe_data,\n",
    "    cp_metrics_df=cp_metrics_df,\n",
    "    save=True,\n",
    ")\n",
    "final_output"
   ]
  },
  {
   "cell_type": "code",
   "execution_count": null,
   "id": "571f9a0f-660a-4841-b661-b06fbc637944",
   "metadata": {
    "papermill": {
     "duration": 0.026138,
     "end_time": "2025-08-19T17:11:54.693081",
     "exception": false,
     "start_time": "2025-08-19T17:11:54.666943",
     "status": "completed"
    },
    "tags": []
   },
   "outputs": [],
   "source": []
  },
  {
   "cell_type": "code",
   "execution_count": null,
   "id": "529482e3-0150-4854-a92d-ab864efc606e",
   "metadata": {
    "papermill": {
     "duration": 0.033179,
     "end_time": "2025-08-19T17:11:54.740580",
     "exception": false,
     "start_time": "2025-08-19T17:11:54.707401",
     "status": "completed"
    },
    "tags": []
   },
   "outputs": [],
   "source": []
  }
 ],
 "metadata": {
  "celltoolbar": "Tags",
  "kernelspec": {
   "display_name": "Python (CMA Fairness)",
   "language": "python",
   "name": "cma_fair_env"
  },
  "language_info": {
   "codemirror_mode": {
    "name": "ipython",
    "version": 3
   },
   "file_extension": ".py",
   "mimetype": "text/x-python",
   "name": "python",
   "nbconvert_exporter": "python",
   "pygments_lexer": "ipython3",
   "version": "3.10.12"
  },
  "papermill": {
   "default_parameters": {},
   "duration": 32.873273,
   "end_time": "2025-08-19T17:11:55.580533",
   "environment_variables": {},
   "exception": null,
   "input_path": "universe_analysis.ipynb",
   "output_path": "output/runs/2/notebooks/m_2-148c87e04e6078e0a1ae23c736858883.ipynb",
   "parameters": {
    "output_dir": "output",
    "run_no": "2",
    "seed": "2023",
    "universe": "{\"cutoff\": [\"quantile_0.1\", \"quantile_0.25\"], \"eval_fairness_grouping\": [\"majority-minority\", \"nationality-all\"], \"exclude_features\": \"none\", \"exclude_subgroups\": \"drop-non-german\", \"model\": \"penalized_logreg\", \"scale\": \"do-not-scale\", \"training_size\": \"25k\", \"training_year\": \"2012_14\"}",
    "universe_id": "148c87e04e6078e0a1ae23c736858883"
   },
   "start_time": "2025-08-19T17:11:22.707260",
   "version": "2.6.0"
  }
 },
 "nbformat": 4,
 "nbformat_minor": 5
}