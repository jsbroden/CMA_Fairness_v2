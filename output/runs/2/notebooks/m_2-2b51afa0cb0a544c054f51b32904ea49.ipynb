{
 "cells": [
  {
   "cell_type": "markdown",
   "id": "b2057076-3a91-4cfa-9bfd-eab1e61b3068",
   "metadata": {
    "papermill": {
     "duration": 0.009792,
     "end_time": "2025-08-19T17:03:15.700222",
     "exception": false,
     "start_time": "2025-08-19T17:03:15.690430",
     "status": "completed"
    },
    "tags": []
   },
   "source": [
    "# Setup"
   ]
  },
  {
   "cell_type": "code",
   "execution_count": 1,
   "id": "f159f837-637b-42ba-96b5-ec9a68c44524",
   "metadata": {
    "execution": {
     "iopub.execute_input": "2025-08-19T17:03:15.748705Z",
     "iopub.status.busy": "2025-08-19T17:03:15.747578Z",
     "iopub.status.idle": "2025-08-19T17:03:15.767067Z",
     "shell.execute_reply": "2025-08-19T17:03:15.765956Z"
    },
    "papermill": {
     "duration": 0.057374,
     "end_time": "2025-08-19T17:03:15.769236",
     "exception": false,
     "start_time": "2025-08-19T17:03:15.711862",
     "status": "completed"
    },
    "tags": []
   },
   "outputs": [
    {
     "name": "stdout",
     "output_type": "stream",
     "text": [
      "/dss/dsshome1/0C/ra93lal2/cma/CMA_Fairness_v2\n"
     ]
    },
    {
     "name": "stderr",
     "output_type": "stream",
     "text": [
      "/dss/dsshome1/0C/ra93lal2/.local/share/virtualenvs/CMA_Fairness_v2-3j10GkSs/lib/python3.10/site-packages/IPython/core/magics/osm.py:393: UserWarning: This is now an optional IPython functionality, using bookmarks requires you to install the `pickleshare` library.\n",
      "  bkms = self.shell.db.get('bookmarks', {})\n",
      "/dss/dsshome1/0C/ra93lal2/.local/share/virtualenvs/CMA_Fairness_v2-3j10GkSs/lib/python3.10/site-packages/IPython/core/magics/osm.py:417: UserWarning: This is now an optional IPython functionality, setting dhist requires you to install the `pickleshare` library.\n",
      "  self.shell.db['dhist'] = compress_dhist(dhist)[-100:]\n"
     ]
    }
   ],
   "source": [
    "%cd ~/cma/CMA_Fairness_v2"
   ]
  },
  {
   "cell_type": "markdown",
   "id": "de2603b9",
   "metadata": {
    "papermill": {
     "duration": 0.022784,
     "end_time": "2025-08-19T17:03:15.809192",
     "exception": false,
     "start_time": "2025-08-19T17:03:15.786408",
     "status": "completed"
    },
    "tags": []
   },
   "source": [
    "The following cell holds the definition of our parameters, these values can be overriden by rendering the with e.g. the following command:\n",
    "\n",
    "papermill -p alpha 0.2 -p ratio 0.3 universe_analysis.ipynb output/test_run.ipynb"
   ]
  },
  {
   "cell_type": "code",
   "execution_count": 2,
   "id": "a80968a0-40bb-4fa9-85ef-2d5eefb01975",
   "metadata": {
    "execution": {
     "iopub.execute_input": "2025-08-19T17:03:15.845293Z",
     "iopub.status.busy": "2025-08-19T17:03:15.844212Z",
     "iopub.status.idle": "2025-08-19T17:03:15.852054Z",
     "shell.execute_reply": "2025-08-19T17:03:15.850811Z"
    },
    "papermill": {
     "duration": 0.032867,
     "end_time": "2025-08-19T17:03:15.853719",
     "exception": false,
     "start_time": "2025-08-19T17:03:15.820852",
     "status": "completed"
    },
    "tags": []
   },
   "outputs": [
    {
     "name": "stdout",
     "output_type": "stream",
     "text": [
      "Current working directory: /dss/dsshome1/0C/ra93lal2/cma/CMA_Fairness_v2\n"
     ]
    }
   ],
   "source": [
    "import os\n",
    "print(\"Current working directory:\", os.getcwd())"
   ]
  },
  {
   "cell_type": "code",
   "execution_count": 3,
   "id": "2dce4c03",
   "metadata": {
    "execution": {
     "iopub.execute_input": "2025-08-19T17:03:15.877099Z",
     "iopub.status.busy": "2025-08-19T17:03:15.875913Z",
     "iopub.status.idle": "2025-08-19T17:03:15.886387Z",
     "shell.execute_reply": "2025-08-19T17:03:15.884832Z"
    },
    "papermill": {
     "duration": 0.023798,
     "end_time": "2025-08-19T17:03:15.888005",
     "exception": false,
     "start_time": "2025-08-19T17:03:15.864207",
     "status": "completed"
    },
    "tags": [
     "parameters"
    ]
   },
   "outputs": [],
   "source": [
    "run_no = 0\n",
    "universe_id = \"test\"\n",
    "universe = {\n",
    "    \"training_size\": \"5k\", # \"25k\", \"5k\", \"1k\"\n",
    "    \"training_year\": \"2012_14\", # \"2014\", \"2012_14\", \"2010_14\"\n",
    "    \"scale\": \"scale\", # \"scale\", \"do-not-scale\",\n",
    "    \"model\": \"elasticnet\", # \"logreg\", \"penalized_logreg\", \"rf\", \"gbm\", \"elasticnet\"\n",
    "    \"cutoff\": [\"quantile_0.15\", \"quantile_0.30\"],\n",
    "    \"exclude_features\": \"age\", # \"none\", \"nationality\", \"sex\", \"nationality-sex\", \"age\"\n",
    "    \"exclude_subgroups\": \"drop-non-german\", # \"keep-all\", \"drop-non-german\"\n",
    "    \"eval_fairness_grouping\": [\"majority-minority\", \"nationality-all\"]\n",
    "}\n",
    "\n",
    "output_dir=\"./output\"\n",
    "seed=0"
   ]
  },
  {
   "cell_type": "code",
   "execution_count": 4,
   "id": "b8beaf74",
   "metadata": {
    "execution": {
     "iopub.execute_input": "2025-08-19T17:03:15.912448Z",
     "iopub.status.busy": "2025-08-19T17:03:15.911345Z",
     "iopub.status.idle": "2025-08-19T17:03:15.920098Z",
     "shell.execute_reply": "2025-08-19T17:03:15.918564Z"
    },
    "papermill": {
     "duration": 0.021603,
     "end_time": "2025-08-19T17:03:15.921962",
     "exception": false,
     "start_time": "2025-08-19T17:03:15.900359",
     "status": "completed"
    },
    "tags": [
     "injected-parameters"
    ]
   },
   "outputs": [],
   "source": [
    "# Parameters\n",
    "universe_id = \"2b51afa0cb0a544c054f51b32904ea49\"\n",
    "run_no = \"2\"\n",
    "universe = \"{\\\"cutoff\\\": [\\\"quantile_0.1\\\", \\\"quantile_0.25\\\"], \\\"eval_fairness_grouping\\\": [\\\"majority-minority\\\", \\\"nationality-all\\\"], \\\"exclude_features\\\": \\\"nationality-sex\\\", \\\"exclude_subgroups\\\": \\\"drop-non-german\\\", \\\"model\\\": \\\"rf\\\", \\\"scale\\\": \\\"do-not-scale\\\", \\\"training_size\\\": \\\"25k\\\", \\\"training_year\\\": \\\"2014\\\"}\"\n",
    "output_dir = \"output\"\n",
    "seed = \"2023\"\n"
   ]
  },
  {
   "cell_type": "code",
   "execution_count": 5,
   "id": "1650acaf",
   "metadata": {
    "execution": {
     "iopub.execute_input": "2025-08-19T17:03:15.947116Z",
     "iopub.status.busy": "2025-08-19T17:03:15.945846Z",
     "iopub.status.idle": "2025-08-19T17:03:15.955976Z",
     "shell.execute_reply": "2025-08-19T17:03:15.954382Z"
    },
    "papermill": {
     "duration": 0.02377,
     "end_time": "2025-08-19T17:03:15.957789",
     "exception": false,
     "start_time": "2025-08-19T17:03:15.934019",
     "status": "completed"
    },
    "tags": []
   },
   "outputs": [],
   "source": [
    "import json\n",
    "if isinstance(universe, str):\n",
    "    universe = json.loads(universe)"
   ]
  },
  {
   "cell_type": "code",
   "execution_count": 6,
   "id": "16620c48",
   "metadata": {
    "execution": {
     "iopub.execute_input": "2025-08-19T17:03:15.981697Z",
     "iopub.status.busy": "2025-08-19T17:03:15.980642Z",
     "iopub.status.idle": "2025-08-19T17:03:16.039983Z",
     "shell.execute_reply": "2025-08-19T17:03:16.038774Z"
    },
    "papermill": {
     "duration": 0.072262,
     "end_time": "2025-08-19T17:03:16.041821",
     "exception": false,
     "start_time": "2025-08-19T17:03:15.969559",
     "status": "completed"
    },
    "tags": []
   },
   "outputs": [],
   "source": [
    "# Auto-reload the custom package\n",
    "%load_ext autoreload\n",
    "%autoreload 1\n",
    "%aimport fairness_multiverse"
   ]
  },
  {
   "cell_type": "code",
   "execution_count": 7,
   "id": "01c5c9f3",
   "metadata": {
    "execution": {
     "iopub.execute_input": "2025-08-19T17:03:16.062628Z",
     "iopub.status.busy": "2025-08-19T17:03:16.062208Z",
     "iopub.status.idle": "2025-08-19T17:03:17.627441Z",
     "shell.execute_reply": "2025-08-19T17:03:17.626055Z"
    },
    "papermill": {
     "duration": 1.57786,
     "end_time": "2025-08-19T17:03:17.629387",
     "exception": false,
     "start_time": "2025-08-19T17:03:16.051527",
     "status": "completed"
    },
    "tags": []
   },
   "outputs": [],
   "source": [
    "from fairness_multiverse.universe import UniverseAnalysis\n",
    "\n",
    "universe_analysis = UniverseAnalysis(\n",
    "    run_no = run_no,\n",
    "    universe_id = universe_id,\n",
    "    universe = universe,\n",
    "    output_dir=output_dir,\n",
    ")"
   ]
  },
  {
   "cell_type": "code",
   "execution_count": 8,
   "id": "106241f5",
   "metadata": {
    "execution": {
     "iopub.execute_input": "2025-08-19T17:03:17.668213Z",
     "iopub.status.busy": "2025-08-19T17:03:17.667604Z",
     "iopub.status.idle": "2025-08-19T17:03:17.687908Z",
     "shell.execute_reply": "2025-08-19T17:03:17.686700Z"
    },
    "papermill": {
     "duration": 0.047752,
     "end_time": "2025-08-19T17:03:17.689442",
     "exception": false,
     "start_time": "2025-08-19T17:03:17.641690",
     "status": "completed"
    },
    "tags": []
   },
   "outputs": [
    {
     "name": "stdout",
     "output_type": "stream",
     "text": [
      "Using Seed: 2023\n"
     ]
    }
   ],
   "source": [
    "import numpy as np\n",
    "parsed_seed = int(seed)\n",
    "np.random.seed(parsed_seed)\n",
    "print(f\"Using Seed: {parsed_seed}\")"
   ]
  },
  {
   "cell_type": "markdown",
   "id": "e0ebdc57",
   "metadata": {
    "papermill": {
     "duration": 0.009947,
     "end_time": "2025-08-19T17:03:17.709087",
     "exception": false,
     "start_time": "2025-08-19T17:03:17.699140",
     "status": "completed"
    },
    "tags": []
   },
   "source": [
    "# Loading Data"
   ]
  },
  {
   "cell_type": "code",
   "execution_count": 9,
   "id": "f0496b8a",
   "metadata": {
    "execution": {
     "iopub.execute_input": "2025-08-19T17:03:17.729289Z",
     "iopub.status.busy": "2025-08-19T17:03:17.728983Z",
     "iopub.status.idle": "2025-08-19T17:03:27.598805Z",
     "shell.execute_reply": "2025-08-19T17:03:27.597591Z"
    },
    "papermill": {
     "duration": 9.882001,
     "end_time": "2025-08-19T17:03:27.600383",
     "exception": false,
     "start_time": "2025-08-19T17:03:17.718382",
     "status": "completed"
    },
    "tags": []
   },
   "outputs": [
    {
     "name": "stdout",
     "output_type": "stream",
     "text": [
      "Loading SIAB data from cache: data/siab_cached.csv.gz\n"
     ]
    },
    {
     "name": "stdout",
     "output_type": "stream",
     "text": [
      "(643690, 164)\n"
     ]
    }
   ],
   "source": [
    "from pathlib import Path\n",
    "import pandas as pd\n",
    "\n",
    "# File paths\n",
    "raw_file = Path(\"data/raw/siab.csv\")\n",
    "cache_file = Path(\"data/siab_cached.csv.gz\")\n",
    "\n",
    "# Ensure cache directory exists\n",
    "cache_file.parent.mkdir(parents=True, exist_ok=True)\n",
    "\n",
    "# Load with simple caching\n",
    "if cache_file.exists():\n",
    "    print(f\"Loading SIAB data from cache: {cache_file}\")\n",
    "    siab = pd.read_csv(cache_file, compression='gzip')\n",
    "else:\n",
    "    print(f\"Cache not found. Reading raw SIAB data: {raw_file}\")\n",
    "    siab = pd.read_csv(raw_file)\n",
    "    siab.to_csv(cache_file, index=False, compression='gzip')\n",
    "    print(f\"Cached SIAB data to: {cache_file}\")\n",
    "\n",
    "print(siab.shape)"
   ]
  },
  {
   "cell_type": "code",
   "execution_count": 10,
   "id": "db0ca512-5f53-4dba-abdb-a2888bca41ba",
   "metadata": {
    "execution": {
     "iopub.execute_input": "2025-08-19T17:03:27.634692Z",
     "iopub.status.busy": "2025-08-19T17:03:27.634350Z",
     "iopub.status.idle": "2025-08-19T17:03:27.768486Z",
     "shell.execute_reply": "2025-08-19T17:03:27.767166Z"
    },
    "papermill": {
     "duration": 0.157715,
     "end_time": "2025-08-19T17:03:27.773501",
     "exception": false,
     "start_time": "2025-08-19T17:03:27.615786",
     "status": "completed"
    },
    "tags": []
   },
   "outputs": [
    {
     "data": {
      "text/html": [
       "<div>\n",
       "<style scoped>\n",
       "    .dataframe tbody tr th:only-of-type {\n",
       "        vertical-align: middle;\n",
       "    }\n",
       "\n",
       "    .dataframe tbody tr th {\n",
       "        vertical-align: top;\n",
       "    }\n",
       "\n",
       "    .dataframe thead th {\n",
       "        text-align: right;\n",
       "    }\n",
       "</style>\n",
       "<table border=\"1\" class=\"dataframe\">\n",
       "  <thead>\n",
       "    <tr style=\"text-align: right;\">\n",
       "      <th></th>\n",
       "      <th>persnr</th>\n",
       "      <th>year</th>\n",
       "      <th>nrEntry</th>\n",
       "      <th>ltue</th>\n",
       "      <th>employed_before</th>\n",
       "      <th>receipt_leh_before</th>\n",
       "      <th>receipt_lhg_before</th>\n",
       "      <th>se_before</th>\n",
       "      <th>ASU_notue_seeking_before</th>\n",
       "      <th>ASU_other_before</th>\n",
       "      <th>...</th>\n",
       "      <th>minijob_tot_dur_byage</th>\n",
       "      <th>ft_tot_dur_byage</th>\n",
       "      <th>befrist_tot_dur_byage</th>\n",
       "      <th>leih_tot_dur_byage</th>\n",
       "      <th>LHG_tot_dur_byage</th>\n",
       "      <th>LEH_tot_dur_byage</th>\n",
       "      <th>almp_tot_dur_byage</th>\n",
       "      <th>almp_aw_tot_dur_byage</th>\n",
       "      <th>se_tot_dur_byage</th>\n",
       "      <th>seeking1_tot_dur_byage</th>\n",
       "    </tr>\n",
       "  </thead>\n",
       "  <tbody>\n",
       "    <tr>\n",
       "      <th>0</th>\n",
       "      <td>7</td>\n",
       "      <td>2015</td>\n",
       "      <td>1</td>\n",
       "      <td>0</td>\n",
       "      <td>1</td>\n",
       "      <td>0</td>\n",
       "      <td>0</td>\n",
       "      <td>0</td>\n",
       "      <td>1</td>\n",
       "      <td>0</td>\n",
       "      <td>...</td>\n",
       "      <td>0.000000</td>\n",
       "      <td>0.000000</td>\n",
       "      <td>15.043478</td>\n",
       "      <td>0.000000</td>\n",
       "      <td>0.000000</td>\n",
       "      <td>0.000000</td>\n",
       "      <td>0.000000</td>\n",
       "      <td>0.000000</td>\n",
       "      <td>0.000000</td>\n",
       "      <td>0.000000</td>\n",
       "    </tr>\n",
       "    <tr>\n",
       "      <th>1</th>\n",
       "      <td>18</td>\n",
       "      <td>2010</td>\n",
       "      <td>1</td>\n",
       "      <td>1</td>\n",
       "      <td>0</td>\n",
       "      <td>0</td>\n",
       "      <td>0</td>\n",
       "      <td>0</td>\n",
       "      <td>0</td>\n",
       "      <td>0</td>\n",
       "      <td>...</td>\n",
       "      <td>0.000000</td>\n",
       "      <td>0.000000</td>\n",
       "      <td>0.000000</td>\n",
       "      <td>0.000000</td>\n",
       "      <td>0.000000</td>\n",
       "      <td>0.000000</td>\n",
       "      <td>0.000000</td>\n",
       "      <td>0.000000</td>\n",
       "      <td>0.000000</td>\n",
       "      <td>0.000000</td>\n",
       "    </tr>\n",
       "    <tr>\n",
       "      <th>2</th>\n",
       "      <td>18</td>\n",
       "      <td>2011</td>\n",
       "      <td>2</td>\n",
       "      <td>0</td>\n",
       "      <td>1</td>\n",
       "      <td>0</td>\n",
       "      <td>1</td>\n",
       "      <td>0</td>\n",
       "      <td>1</td>\n",
       "      <td>0</td>\n",
       "      <td>...</td>\n",
       "      <td>2.714286</td>\n",
       "      <td>2.714286</td>\n",
       "      <td>0.000000</td>\n",
       "      <td>0.000000</td>\n",
       "      <td>10.775510</td>\n",
       "      <td>0.000000</td>\n",
       "      <td>8.367347</td>\n",
       "      <td>0.000000</td>\n",
       "      <td>0.000000</td>\n",
       "      <td>9.836735</td>\n",
       "    </tr>\n",
       "    <tr>\n",
       "      <th>3</th>\n",
       "      <td>18</td>\n",
       "      <td>2012</td>\n",
       "      <td>3</td>\n",
       "      <td>0</td>\n",
       "      <td>1</td>\n",
       "      <td>0</td>\n",
       "      <td>1</td>\n",
       "      <td>0</td>\n",
       "      <td>1</td>\n",
       "      <td>0</td>\n",
       "      <td>...</td>\n",
       "      <td>4.200000</td>\n",
       "      <td>4.200000</td>\n",
       "      <td>0.000000</td>\n",
       "      <td>0.000000</td>\n",
       "      <td>12.100000</td>\n",
       "      <td>0.000000</td>\n",
       "      <td>9.400000</td>\n",
       "      <td>0.000000</td>\n",
       "      <td>0.000000</td>\n",
       "      <td>9.960000</td>\n",
       "    </tr>\n",
       "    <tr>\n",
       "      <th>4</th>\n",
       "      <td>18</td>\n",
       "      <td>2012</td>\n",
       "      <td>4</td>\n",
       "      <td>0</td>\n",
       "      <td>1</td>\n",
       "      <td>0</td>\n",
       "      <td>1</td>\n",
       "      <td>0</td>\n",
       "      <td>1</td>\n",
       "      <td>0</td>\n",
       "      <td>...</td>\n",
       "      <td>5.460000</td>\n",
       "      <td>5.460000</td>\n",
       "      <td>0.000000</td>\n",
       "      <td>0.000000</td>\n",
       "      <td>13.360000</td>\n",
       "      <td>0.000000</td>\n",
       "      <td>10.320000</td>\n",
       "      <td>0.000000</td>\n",
       "      <td>0.000000</td>\n",
       "      <td>10.280000</td>\n",
       "    </tr>\n",
       "    <tr>\n",
       "      <th>...</th>\n",
       "      <td>...</td>\n",
       "      <td>...</td>\n",
       "      <td>...</td>\n",
       "      <td>...</td>\n",
       "      <td>...</td>\n",
       "      <td>...</td>\n",
       "      <td>...</td>\n",
       "      <td>...</td>\n",
       "      <td>...</td>\n",
       "      <td>...</td>\n",
       "      <td>...</td>\n",
       "      <td>...</td>\n",
       "      <td>...</td>\n",
       "      <td>...</td>\n",
       "      <td>...</td>\n",
       "      <td>...</td>\n",
       "      <td>...</td>\n",
       "      <td>...</td>\n",
       "      <td>...</td>\n",
       "      <td>...</td>\n",
       "      <td>...</td>\n",
       "    </tr>\n",
       "    <tr>\n",
       "      <th>643685</th>\n",
       "      <td>1827860</td>\n",
       "      <td>2013</td>\n",
       "      <td>1</td>\n",
       "      <td>0</td>\n",
       "      <td>0</td>\n",
       "      <td>0</td>\n",
       "      <td>1</td>\n",
       "      <td>0</td>\n",
       "      <td>0</td>\n",
       "      <td>1</td>\n",
       "      <td>...</td>\n",
       "      <td>0.000000</td>\n",
       "      <td>0.000000</td>\n",
       "      <td>0.000000</td>\n",
       "      <td>0.000000</td>\n",
       "      <td>0.612903</td>\n",
       "      <td>0.000000</td>\n",
       "      <td>0.000000</td>\n",
       "      <td>0.000000</td>\n",
       "      <td>0.000000</td>\n",
       "      <td>0.000000</td>\n",
       "    </tr>\n",
       "    <tr>\n",
       "      <th>643686</th>\n",
       "      <td>1827860</td>\n",
       "      <td>2015</td>\n",
       "      <td>2</td>\n",
       "      <td>1</td>\n",
       "      <td>0</td>\n",
       "      <td>0</td>\n",
       "      <td>1</td>\n",
       "      <td>0</td>\n",
       "      <td>1</td>\n",
       "      <td>0</td>\n",
       "      <td>...</td>\n",
       "      <td>0.000000</td>\n",
       "      <td>0.000000</td>\n",
       "      <td>0.212121</td>\n",
       "      <td>0.212121</td>\n",
       "      <td>17.363636</td>\n",
       "      <td>0.000000</td>\n",
       "      <td>8.909091</td>\n",
       "      <td>0.000000</td>\n",
       "      <td>0.000000</td>\n",
       "      <td>7.121212</td>\n",
       "    </tr>\n",
       "    <tr>\n",
       "      <th>643687</th>\n",
       "      <td>1827860</td>\n",
       "      <td>2016</td>\n",
       "      <td>3</td>\n",
       "      <td>1</td>\n",
       "      <td>0</td>\n",
       "      <td>0</td>\n",
       "      <td>1</td>\n",
       "      <td>1</td>\n",
       "      <td>0</td>\n",
       "      <td>1</td>\n",
       "      <td>...</td>\n",
       "      <td>0.000000</td>\n",
       "      <td>0.000000</td>\n",
       "      <td>0.294118</td>\n",
       "      <td>0.205882</td>\n",
       "      <td>34.705882</td>\n",
       "      <td>0.000000</td>\n",
       "      <td>10.352941</td>\n",
       "      <td>1.705882</td>\n",
       "      <td>1.705882</td>\n",
       "      <td>23.911765</td>\n",
       "    </tr>\n",
       "    <tr>\n",
       "      <th>643688</th>\n",
       "      <td>1827869</td>\n",
       "      <td>2013</td>\n",
       "      <td>1</td>\n",
       "      <td>1</td>\n",
       "      <td>1</td>\n",
       "      <td>0</td>\n",
       "      <td>0</td>\n",
       "      <td>0</td>\n",
       "      <td>1</td>\n",
       "      <td>0</td>\n",
       "      <td>...</td>\n",
       "      <td>0.000000</td>\n",
       "      <td>0.000000</td>\n",
       "      <td>0.000000</td>\n",
       "      <td>0.000000</td>\n",
       "      <td>0.000000</td>\n",
       "      <td>0.525424</td>\n",
       "      <td>0.000000</td>\n",
       "      <td>0.000000</td>\n",
       "      <td>0.000000</td>\n",
       "      <td>0.000000</td>\n",
       "    </tr>\n",
       "    <tr>\n",
       "      <th>643689</th>\n",
       "      <td>1827869</td>\n",
       "      <td>2014</td>\n",
       "      <td>2</td>\n",
       "      <td>0</td>\n",
       "      <td>0</td>\n",
       "      <td>1</td>\n",
       "      <td>0</td>\n",
       "      <td>0</td>\n",
       "      <td>1</td>\n",
       "      <td>0</td>\n",
       "      <td>...</td>\n",
       "      <td>0.000000</td>\n",
       "      <td>0.666667</td>\n",
       "      <td>0.666667</td>\n",
       "      <td>0.000000</td>\n",
       "      <td>0.000000</td>\n",
       "      <td>8.950000</td>\n",
       "      <td>1.033333</td>\n",
       "      <td>0.083333</td>\n",
       "      <td>0.083333</td>\n",
       "      <td>8.133333</td>\n",
       "    </tr>\n",
       "  </tbody>\n",
       "</table>\n",
       "<p>643690 rows × 164 columns</p>\n",
       "</div>"
      ],
      "text/plain": [
       "         persnr  year  nrEntry  ltue  employed_before  receipt_leh_before  \\\n",
       "0             7  2015        1     0                1                   0   \n",
       "1            18  2010        1     1                0                   0   \n",
       "2            18  2011        2     0                1                   0   \n",
       "3            18  2012        3     0                1                   0   \n",
       "4            18  2012        4     0                1                   0   \n",
       "...         ...   ...      ...   ...              ...                 ...   \n",
       "643685  1827860  2013        1     0                0                   0   \n",
       "643686  1827860  2015        2     1                0                   0   \n",
       "643687  1827860  2016        3     1                0                   0   \n",
       "643688  1827869  2013        1     1                1                   0   \n",
       "643689  1827869  2014        2     0                0                   1   \n",
       "\n",
       "        receipt_lhg_before  se_before  ASU_notue_seeking_before  \\\n",
       "0                        0          0                         1   \n",
       "1                        0          0                         0   \n",
       "2                        1          0                         1   \n",
       "3                        1          0                         1   \n",
       "4                        1          0                         1   \n",
       "...                    ...        ...                       ...   \n",
       "643685                   1          0                         0   \n",
       "643686                   1          0                         1   \n",
       "643687                   1          1                         0   \n",
       "643688                   0          0                         1   \n",
       "643689                   0          0                         1   \n",
       "\n",
       "        ASU_other_before  ...  minijob_tot_dur_byage  ft_tot_dur_byage  \\\n",
       "0                      0  ...               0.000000          0.000000   \n",
       "1                      0  ...               0.000000          0.000000   \n",
       "2                      0  ...               2.714286          2.714286   \n",
       "3                      0  ...               4.200000          4.200000   \n",
       "4                      0  ...               5.460000          5.460000   \n",
       "...                  ...  ...                    ...               ...   \n",
       "643685                 1  ...               0.000000          0.000000   \n",
       "643686                 0  ...               0.000000          0.000000   \n",
       "643687                 1  ...               0.000000          0.000000   \n",
       "643688                 0  ...               0.000000          0.000000   \n",
       "643689                 0  ...               0.000000          0.666667   \n",
       "\n",
       "        befrist_tot_dur_byage  leih_tot_dur_byage  LHG_tot_dur_byage  \\\n",
       "0                   15.043478            0.000000           0.000000   \n",
       "1                    0.000000            0.000000           0.000000   \n",
       "2                    0.000000            0.000000          10.775510   \n",
       "3                    0.000000            0.000000          12.100000   \n",
       "4                    0.000000            0.000000          13.360000   \n",
       "...                       ...                 ...                ...   \n",
       "643685               0.000000            0.000000           0.612903   \n",
       "643686               0.212121            0.212121          17.363636   \n",
       "643687               0.294118            0.205882          34.705882   \n",
       "643688               0.000000            0.000000           0.000000   \n",
       "643689               0.666667            0.000000           0.000000   \n",
       "\n",
       "        LEH_tot_dur_byage  almp_tot_dur_byage  almp_aw_tot_dur_byage  \\\n",
       "0                0.000000            0.000000               0.000000   \n",
       "1                0.000000            0.000000               0.000000   \n",
       "2                0.000000            8.367347               0.000000   \n",
       "3                0.000000            9.400000               0.000000   \n",
       "4                0.000000           10.320000               0.000000   \n",
       "...                   ...                 ...                    ...   \n",
       "643685           0.000000            0.000000               0.000000   \n",
       "643686           0.000000            8.909091               0.000000   \n",
       "643687           0.000000           10.352941               1.705882   \n",
       "643688           0.525424            0.000000               0.000000   \n",
       "643689           8.950000            1.033333               0.083333   \n",
       "\n",
       "        se_tot_dur_byage  seeking1_tot_dur_byage  \n",
       "0               0.000000                0.000000  \n",
       "1               0.000000                0.000000  \n",
       "2               0.000000                9.836735  \n",
       "3               0.000000                9.960000  \n",
       "4               0.000000               10.280000  \n",
       "...                  ...                     ...  \n",
       "643685          0.000000                0.000000  \n",
       "643686          0.000000                7.121212  \n",
       "643687          1.705882               23.911765  \n",
       "643688          0.000000                0.000000  \n",
       "643689          0.083333                8.133333  \n",
       "\n",
       "[643690 rows x 164 columns]"
      ]
     },
     "execution_count": 10,
     "metadata": {},
     "output_type": "execute_result"
    }
   ],
   "source": [
    "siab"
   ]
  },
  {
   "cell_type": "markdown",
   "id": "997051c5-15bd-4b69-9786-c3001a3ce484",
   "metadata": {
    "papermill": {
     "duration": 0.011701,
     "end_time": "2025-08-19T17:03:27.806182",
     "exception": false,
     "start_time": "2025-08-19T17:03:27.794481",
     "status": "completed"
    },
    "tags": []
   },
   "source": [
    "# Splitting Data and Setting Training Data Size"
   ]
  },
  {
   "cell_type": "code",
   "execution_count": 11,
   "id": "aea9c6ef-6f46-42c8-85eb-5a62025c1508",
   "metadata": {
    "execution": {
     "iopub.execute_input": "2025-08-19T17:03:27.828927Z",
     "iopub.status.busy": "2025-08-19T17:03:27.828146Z",
     "iopub.status.idle": "2025-08-19T17:03:28.239307Z",
     "shell.execute_reply": "2025-08-19T17:03:28.238444Z"
    },
    "papermill": {
     "duration": 0.424943,
     "end_time": "2025-08-19T17:03:28.240933",
     "exception": false,
     "start_time": "2025-08-19T17:03:27.815990",
     "status": "completed"
    },
    "tags": []
   },
   "outputs": [],
   "source": [
    "from fairness_multiverse.universe import sample_by_year_size\n",
    "\n",
    "siab_train = sample_by_year_size(siab,\n",
    "                               training_year=universe[\"training_year\"],\n",
    "                               training_size=universe[\"training_size\"])"
   ]
  },
  {
   "cell_type": "code",
   "execution_count": 12,
   "id": "8d3afb32-789d-442c-8d5d-9f5aa8dd2eed",
   "metadata": {
    "execution": {
     "iopub.execute_input": "2025-08-19T17:03:28.263467Z",
     "iopub.status.busy": "2025-08-19T17:03:28.263034Z",
     "iopub.status.idle": "2025-08-19T17:03:28.270020Z",
     "shell.execute_reply": "2025-08-19T17:03:28.269438Z"
    },
    "papermill": {
     "duration": 0.019745,
     "end_time": "2025-08-19T17:03:28.271165",
     "exception": false,
     "start_time": "2025-08-19T17:03:28.251420",
     "status": "completed"
    },
    "tags": []
   },
   "outputs": [
    {
     "data": {
      "text/plain": [
       "(25000, 164)"
      ]
     },
     "execution_count": 12,
     "metadata": {},
     "output_type": "execute_result"
    }
   ],
   "source": [
    "siab_train.shape"
   ]
  },
  {
   "cell_type": "code",
   "execution_count": 13,
   "id": "d582db68-1a4c-47fb-84fc-08518dc1975a",
   "metadata": {
    "execution": {
     "iopub.execute_input": "2025-08-19T17:03:28.292569Z",
     "iopub.status.busy": "2025-08-19T17:03:28.292164Z",
     "iopub.status.idle": "2025-08-19T17:03:28.299626Z",
     "shell.execute_reply": "2025-08-19T17:03:28.299027Z"
    },
    "papermill": {
     "duration": 0.020334,
     "end_time": "2025-08-19T17:03:28.301653",
     "exception": false,
     "start_time": "2025-08-19T17:03:28.281319",
     "status": "completed"
    },
    "tags": []
   },
   "outputs": [
    {
     "data": {
      "text/plain": [
       "year\n",
       "2014    25000\n",
       "dtype: int64"
      ]
     },
     "metadata": {},
     "output_type": "display_data"
    }
   ],
   "source": [
    "display(siab_train.groupby(\"year\").size())"
   ]
  },
  {
   "cell_type": "code",
   "execution_count": 14,
   "id": "a561edb4-d032-42cb-8256-22eac1111c64",
   "metadata": {
    "execution": {
     "iopub.execute_input": "2025-08-19T17:03:28.324092Z",
     "iopub.status.busy": "2025-08-19T17:03:28.323680Z",
     "iopub.status.idle": "2025-08-19T17:03:28.654996Z",
     "shell.execute_reply": "2025-08-19T17:03:28.653481Z"
    },
    "papermill": {
     "duration": 0.346494,
     "end_time": "2025-08-19T17:03:28.658600",
     "exception": false,
     "start_time": "2025-08-19T17:03:28.312106",
     "status": "completed"
    },
    "tags": []
   },
   "outputs": [],
   "source": [
    "#siab_train = siab_s[siab_s.year < 2015]\n",
    "siab_calib = siab[siab.year == 2015]\n",
    "siab_test = siab[siab.year == 2016]"
   ]
  },
  {
   "cell_type": "code",
   "execution_count": 15,
   "id": "bc10fe59",
   "metadata": {
    "execution": {
     "iopub.execute_input": "2025-08-19T17:03:28.695334Z",
     "iopub.status.busy": "2025-08-19T17:03:28.694179Z",
     "iopub.status.idle": "2025-08-19T17:03:28.701074Z",
     "shell.execute_reply": "2025-08-19T17:03:28.699840Z"
    },
    "papermill": {
     "duration": 0.020563,
     "end_time": "2025-08-19T17:03:28.702688",
     "exception": false,
     "start_time": "2025-08-19T17:03:28.682125",
     "status": "completed"
    },
    "tags": []
   },
   "outputs": [],
   "source": [
    "#siab_calib.shape"
   ]
  },
  {
   "cell_type": "code",
   "execution_count": 16,
   "id": "d6aeff2f",
   "metadata": {
    "execution": {
     "iopub.execute_input": "2025-08-19T17:03:28.741783Z",
     "iopub.status.busy": "2025-08-19T17:03:28.740830Z",
     "iopub.status.idle": "2025-08-19T17:03:28.746662Z",
     "shell.execute_reply": "2025-08-19T17:03:28.745496Z"
    },
    "papermill": {
     "duration": 0.019193,
     "end_time": "2025-08-19T17:03:28.748153",
     "exception": false,
     "start_time": "2025-08-19T17:03:28.728960",
     "status": "completed"
    },
    "tags": []
   },
   "outputs": [],
   "source": [
    "#siab_test.shape"
   ]
  },
  {
   "cell_type": "code",
   "execution_count": 17,
   "id": "472de16f-c3db-4916-846b-1f0de9cf1746",
   "metadata": {
    "execution": {
     "iopub.execute_input": "2025-08-19T17:03:28.774185Z",
     "iopub.status.busy": "2025-08-19T17:03:28.773811Z",
     "iopub.status.idle": "2025-08-19T17:03:28.806463Z",
     "shell.execute_reply": "2025-08-19T17:03:28.805222Z"
    },
    "papermill": {
     "duration": 0.050197,
     "end_time": "2025-08-19T17:03:28.809238",
     "exception": false,
     "start_time": "2025-08-19T17:03:28.759041",
     "status": "completed"
    },
    "tags": []
   },
   "outputs": [],
   "source": [
    "X_train = siab_train.iloc[:,4:164]\n",
    "y_train = siab_train.iloc[:, [3]]"
   ]
  },
  {
   "cell_type": "code",
   "execution_count": null,
   "id": "a843c1c8",
   "metadata": {
    "papermill": {
     "duration": 0.014981,
     "end_time": "2025-08-19T17:03:28.862911",
     "exception": false,
     "start_time": "2025-08-19T17:03:28.847930",
     "status": "completed"
    },
    "tags": []
   },
   "outputs": [],
   "source": []
  },
  {
   "cell_type": "code",
   "execution_count": 18,
   "id": "828c96af-f43a-4ed6-ba47-8ac73a47d56c",
   "metadata": {
    "execution": {
     "iopub.execute_input": "2025-08-19T17:03:28.907978Z",
     "iopub.status.busy": "2025-08-19T17:03:28.907558Z",
     "iopub.status.idle": "2025-08-19T17:03:28.991347Z",
     "shell.execute_reply": "2025-08-19T17:03:28.990450Z"
    },
    "papermill": {
     "duration": 0.116156,
     "end_time": "2025-08-19T17:03:28.994503",
     "exception": false,
     "start_time": "2025-08-19T17:03:28.878347",
     "status": "completed"
    },
    "tags": []
   },
   "outputs": [],
   "source": [
    "X_calib = siab_calib.iloc[:,4:164]\n",
    "y_calib = siab_calib.iloc[:, [3]]"
   ]
  },
  {
   "cell_type": "code",
   "execution_count": 19,
   "id": "c34be9c3-6bd6-476e-acd3-845840e303be",
   "metadata": {
    "execution": {
     "iopub.execute_input": "2025-08-19T17:03:29.035207Z",
     "iopub.status.busy": "2025-08-19T17:03:29.034175Z",
     "iopub.status.idle": "2025-08-19T17:03:29.089647Z",
     "shell.execute_reply": "2025-08-19T17:03:29.088872Z"
    },
    "papermill": {
     "duration": 0.073666,
     "end_time": "2025-08-19T17:03:29.093058",
     "exception": false,
     "start_time": "2025-08-19T17:03:29.019392",
     "status": "completed"
    },
    "tags": []
   },
   "outputs": [],
   "source": [
    "X_test = siab_test.iloc[:,4:164]\n",
    "y_true = siab_test.iloc[:, [3]]"
   ]
  },
  {
   "cell_type": "code",
   "execution_count": 20,
   "id": "e6c733c5",
   "metadata": {
    "execution": {
     "iopub.execute_input": "2025-08-19T17:03:29.138113Z",
     "iopub.status.busy": "2025-08-19T17:03:29.136927Z",
     "iopub.status.idle": "2025-08-19T17:03:29.269900Z",
     "shell.execute_reply": "2025-08-19T17:03:29.269119Z"
    },
    "papermill": {
     "duration": 0.15527,
     "end_time": "2025-08-19T17:03:29.272951",
     "exception": false,
     "start_time": "2025-08-19T17:03:29.117681",
     "status": "completed"
    },
    "tags": []
   },
   "outputs": [],
   "source": [
    "# Auxiliary data needed downstream in the pipeline\n",
    "\n",
    "org_train = X_train.copy()\n",
    "org_test = X_test.copy()\n",
    "org_calib = X_calib.copy()"
   ]
  },
  {
   "cell_type": "markdown",
   "id": "0a4a1b33",
   "metadata": {
    "papermill": {
     "duration": 0.01295,
     "end_time": "2025-08-19T17:03:29.310274",
     "exception": false,
     "start_time": "2025-08-19T17:03:29.297324",
     "status": "completed"
    },
    "tags": []
   },
   "source": [
    "# Preprocessing Data"
   ]
  },
  {
   "cell_type": "code",
   "execution_count": 21,
   "id": "ca879031",
   "metadata": {
    "execution": {
     "iopub.execute_input": "2025-08-19T17:03:29.334410Z",
     "iopub.status.busy": "2025-08-19T17:03:29.333217Z",
     "iopub.status.idle": "2025-08-19T17:03:29.342248Z",
     "shell.execute_reply": "2025-08-19T17:03:29.341006Z"
    },
    "papermill": {
     "duration": 0.023195,
     "end_time": "2025-08-19T17:03:29.344145",
     "exception": false,
     "start_time": "2025-08-19T17:03:29.320950",
     "status": "completed"
    },
    "tags": []
   },
   "outputs": [],
   "source": [
    "# EXCLUDE PROTECTED FEATURES\n",
    "# --------------------------\n",
    "\n",
    "excluded_features = universe[\"exclude_features\"].split(\"-\")\n",
    "excluded_features_dictionary = {\n",
    "    \"nationality\": [\"maxdeutsch1\", \"maxdeutsch.Missing.\"],\n",
    "    \"sex\": [\"frau1\"],\n",
    "    \"age\": [\"age\"],\n",
    "}"
   ]
  },
  {
   "cell_type": "code",
   "execution_count": 22,
   "id": "b745ac60",
   "metadata": {
    "execution": {
     "iopub.execute_input": "2025-08-19T17:03:29.372274Z",
     "iopub.status.busy": "2025-08-19T17:03:29.371219Z",
     "iopub.status.idle": "2025-08-19T17:03:29.379422Z",
     "shell.execute_reply": "2025-08-19T17:03:29.378150Z"
    },
    "papermill": {
     "duration": 0.022488,
     "end_time": "2025-08-19T17:03:29.381022",
     "exception": false,
     "start_time": "2025-08-19T17:03:29.358534",
     "status": "completed"
    },
    "tags": []
   },
   "outputs": [],
   "source": [
    "excluded_features_columns = [\n",
    "    excluded_features_dictionary[f] for f in excluded_features if len(f) > 0 and f != \"none\"\n",
    "]"
   ]
  },
  {
   "cell_type": "code",
   "execution_count": 23,
   "id": "f84f73a2",
   "metadata": {
    "execution": {
     "iopub.execute_input": "2025-08-19T17:03:29.408751Z",
     "iopub.status.busy": "2025-08-19T17:03:29.407580Z",
     "iopub.status.idle": "2025-08-19T17:03:29.414887Z",
     "shell.execute_reply": "2025-08-19T17:03:29.413711Z"
    },
    "papermill": {
     "duration": 0.021057,
     "end_time": "2025-08-19T17:03:29.416343",
     "exception": false,
     "start_time": "2025-08-19T17:03:29.395286",
     "status": "completed"
    },
    "tags": []
   },
   "outputs": [],
   "source": [
    "from fairness_multiverse.universe import flatten_once\n",
    "\n",
    "excluded_features_columns = flatten_once(excluded_features_columns)"
   ]
  },
  {
   "cell_type": "code",
   "execution_count": 24,
   "id": "884dea22",
   "metadata": {
    "execution": {
     "iopub.execute_input": "2025-08-19T17:03:29.442888Z",
     "iopub.status.busy": "2025-08-19T17:03:29.441758Z",
     "iopub.status.idle": "2025-08-19T17:03:29.481086Z",
     "shell.execute_reply": "2025-08-19T17:03:29.480305Z"
    },
    "papermill": {
     "duration": 0.05907,
     "end_time": "2025-08-19T17:03:29.488175",
     "exception": false,
     "start_time": "2025-08-19T17:03:29.429105",
     "status": "completed"
    },
    "tags": []
   },
   "outputs": [
    {
     "name": "stdout",
     "output_type": "stream",
     "text": [
      "Dropping features: ['maxdeutsch1', 'maxdeutsch.Missing.', 'frau1']\n"
     ]
    }
   ],
   "source": [
    "if len(excluded_features_columns) > 0:\n",
    "    print(f\"Dropping features: {excluded_features_columns}\")\n",
    "    X_train.drop(excluded_features_columns, axis=1, inplace=True)"
   ]
  },
  {
   "cell_type": "code",
   "execution_count": 25,
   "id": "95ab8b16",
   "metadata": {
    "execution": {
     "iopub.execute_input": "2025-08-19T17:03:29.524399Z",
     "iopub.status.busy": "2025-08-19T17:03:29.523197Z",
     "iopub.status.idle": "2025-08-19T17:03:29.584550Z",
     "shell.execute_reply": "2025-08-19T17:03:29.583692Z"
    },
    "papermill": {
     "duration": 0.078193,
     "end_time": "2025-08-19T17:03:29.587712",
     "exception": false,
     "start_time": "2025-08-19T17:03:29.509519",
     "status": "completed"
    },
    "tags": []
   },
   "outputs": [
    {
     "name": "stdout",
     "output_type": "stream",
     "text": [
      "Dropping features: ['maxdeutsch1', 'maxdeutsch.Missing.', 'frau1']\n"
     ]
    }
   ],
   "source": [
    "if len(excluded_features_columns) > 0:\n",
    "    print(f\"Dropping features: {excluded_features_columns}\")\n",
    "    X_test.drop(excluded_features_columns, axis=1, inplace=True)"
   ]
  },
  {
   "cell_type": "code",
   "execution_count": 26,
   "id": "1853aaf5-fb9f-46cb-a2b5-8ea4ae2237e4",
   "metadata": {
    "execution": {
     "iopub.execute_input": "2025-08-19T17:03:29.626341Z",
     "iopub.status.busy": "2025-08-19T17:03:29.625212Z",
     "iopub.status.idle": "2025-08-19T17:03:29.682131Z",
     "shell.execute_reply": "2025-08-19T17:03:29.681331Z"
    },
    "papermill": {
     "duration": 0.074305,
     "end_time": "2025-08-19T17:03:29.685429",
     "exception": false,
     "start_time": "2025-08-19T17:03:29.611124",
     "status": "completed"
    },
    "tags": []
   },
   "outputs": [
    {
     "name": "stdout",
     "output_type": "stream",
     "text": [
      "Dropping features: ['maxdeutsch1', 'maxdeutsch.Missing.', 'frau1']\n"
     ]
    }
   ],
   "source": [
    "if len(excluded_features_columns) > 0:\n",
    "    print(f\"Dropping features: {excluded_features_columns}\")\n",
    "    X_calib.drop(excluded_features_columns, axis=1, inplace=True)"
   ]
  },
  {
   "cell_type": "code",
   "execution_count": 27,
   "id": "76c4dc6d",
   "metadata": {
    "execution": {
     "iopub.execute_input": "2025-08-19T17:03:29.724349Z",
     "iopub.status.busy": "2025-08-19T17:03:29.723179Z",
     "iopub.status.idle": "2025-08-19T17:03:29.731168Z",
     "shell.execute_reply": "2025-08-19T17:03:29.729953Z"
    },
    "papermill": {
     "duration": 0.023504,
     "end_time": "2025-08-19T17:03:29.732664",
     "exception": false,
     "start_time": "2025-08-19T17:03:29.709160",
     "status": "completed"
    },
    "tags": []
   },
   "outputs": [],
   "source": [
    "# EXCLUDE CERTAIN SUBGROUPS\n",
    "# -------------------------\n",
    "\n",
    "mode = universe.get(\"exclude_subgroups\", \"keep-all\") # Defaults to \"keep-all\" if the key is missing."
   ]
  },
  {
   "cell_type": "code",
   "execution_count": 28,
   "id": "21994072",
   "metadata": {
    "execution": {
     "iopub.execute_input": "2025-08-19T17:03:29.764340Z",
     "iopub.status.busy": "2025-08-19T17:03:29.763199Z",
     "iopub.status.idle": "2025-08-19T17:03:29.773972Z",
     "shell.execute_reply": "2025-08-19T17:03:29.772909Z"
    },
    "papermill": {
     "duration": 0.024981,
     "end_time": "2025-08-19T17:03:29.775507",
     "exception": false,
     "start_time": "2025-08-19T17:03:29.750526",
     "status": "completed"
    },
    "tags": []
   },
   "outputs": [],
   "source": [
    "if mode == \"keep-all\":\n",
    "    keep_mask = pd.Series(True, index=org_train.index)\n",
    "\n",
    "elif mode == \"drop-non-german\":\n",
    "    keep_mask = (org_train[\"maxdeutsch1\"] == 1) & (org_train[\"maxdeutsch.Missing.\"] == 0)\n",
    "\n",
    "else:\n",
    "    raise ValueError(f\"Unsupported mode for exclude_subgroups: {mode}\")"
   ]
  },
  {
   "cell_type": "code",
   "execution_count": 29,
   "id": "71651440",
   "metadata": {
    "execution": {
     "iopub.execute_input": "2025-08-19T17:03:29.803366Z",
     "iopub.status.busy": "2025-08-19T17:03:29.802225Z",
     "iopub.status.idle": "2025-08-19T17:03:29.812630Z",
     "shell.execute_reply": "2025-08-19T17:03:29.811332Z"
    },
    "papermill": {
     "duration": 0.02451,
     "end_time": "2025-08-19T17:03:29.814131",
     "exception": false,
     "start_time": "2025-08-19T17:03:29.789621",
     "status": "completed"
    },
    "tags": []
   },
   "outputs": [
    {
     "name": "stdout",
     "output_type": "stream",
     "text": [
      "Dropping 3688 rows (14.75%) where mode='drop-non-german'\n"
     ]
    }
   ],
   "source": [
    "n_drop = (~keep_mask).sum() # Calculates how many rows are set to be dropped\n",
    "if n_drop > 0:\n",
    "    pct = n_drop / len(keep_mask) * 100\n",
    "    print(f\"Dropping {n_drop} rows ({pct:.2f}%) where mode='{mode}'\")"
   ]
  },
  {
   "cell_type": "code",
   "execution_count": 30,
   "id": "5fb8eee5",
   "metadata": {
    "execution": {
     "iopub.execute_input": "2025-08-19T17:03:29.842684Z",
     "iopub.status.busy": "2025-08-19T17:03:29.841603Z",
     "iopub.status.idle": "2025-08-19T17:03:29.875603Z",
     "shell.execute_reply": "2025-08-19T17:03:29.874827Z"
    },
    "papermill": {
     "duration": 0.048512,
     "end_time": "2025-08-19T17:03:29.877407",
     "exception": false,
     "start_time": "2025-08-19T17:03:29.828895",
     "status": "completed"
    },
    "tags": []
   },
   "outputs": [],
   "source": [
    "X_train = X_train[keep_mask]"
   ]
  },
  {
   "cell_type": "code",
   "execution_count": 31,
   "id": "b202bb3a",
   "metadata": {
    "execution": {
     "iopub.execute_input": "2025-08-19T17:03:29.920246Z",
     "iopub.status.busy": "2025-08-19T17:03:29.919113Z",
     "iopub.status.idle": "2025-08-19T17:03:29.928569Z",
     "shell.execute_reply": "2025-08-19T17:03:29.927291Z"
    },
    "papermill": {
     "duration": 0.03928,
     "end_time": "2025-08-19T17:03:29.930113",
     "exception": false,
     "start_time": "2025-08-19T17:03:29.890833",
     "status": "completed"
    },
    "tags": []
   },
   "outputs": [],
   "source": [
    "y_train = y_train[keep_mask]"
   ]
  },
  {
   "cell_type": "markdown",
   "id": "493e2ac3",
   "metadata": {
    "papermill": {
     "duration": 0.011141,
     "end_time": "2025-08-19T17:03:29.953463",
     "exception": false,
     "start_time": "2025-08-19T17:03:29.942322",
     "status": "completed"
    },
    "tags": []
   },
   "source": [
    "# Model Training"
   ]
  },
  {
   "cell_type": "code",
   "execution_count": 32,
   "id": "679e1268",
   "metadata": {
    "execution": {
     "iopub.execute_input": "2025-08-19T17:03:29.978800Z",
     "iopub.status.busy": "2025-08-19T17:03:29.977668Z",
     "iopub.status.idle": "2025-08-19T17:03:30.080627Z",
     "shell.execute_reply": "2025-08-19T17:03:30.079790Z"
    },
    "papermill": {
     "duration": 0.119007,
     "end_time": "2025-08-19T17:03:30.083539",
     "exception": false,
     "start_time": "2025-08-19T17:03:29.964532",
     "status": "completed"
    },
    "tags": []
   },
   "outputs": [],
   "source": [
    "from sklearn.linear_model import LogisticRegression\n",
    "from sklearn.ensemble import GradientBoostingClassifier, RandomForestClassifier\n",
    "\n",
    "if (universe[\"model\"] == \"logreg\"):\n",
    "    model = LogisticRegression() #penalty=\"none\", solver=\"newton-cg\", max_iter=1)\n",
    "elif (universe[\"model\"] == \"penalized_logreg\"):\n",
    "    model = LogisticRegression(penalty=\"l2\", C=0.1) #, solver=\"newton-cg\", max_iter=1)\n",
    "elif (universe[\"model\"] == \"rf\"):\n",
    "    model = RandomForestClassifier() # n_estimators=100, n_jobs=-1\n",
    "elif (universe[\"model\"] == \"gbm\"):\n",
    "    model = GradientBoostingClassifier()\n",
    "elif (universe[\"model\"] == \"elasticnet\"):\n",
    "    model = LogisticRegression(penalty = 'elasticnet', solver = 'saga', l1_ratio = 0.5) # max_iter=5000\n",
    "else:\n",
    "    raise \"Unsupported universe.model\""
   ]
  },
  {
   "cell_type": "code",
   "execution_count": 33,
   "id": "0cc8f744",
   "metadata": {
    "execution": {
     "iopub.execute_input": "2025-08-19T17:03:30.128139Z",
     "iopub.status.busy": "2025-08-19T17:03:30.126932Z",
     "iopub.status.idle": "2025-08-19T17:03:30.136141Z",
     "shell.execute_reply": "2025-08-19T17:03:30.134852Z"
    },
    "papermill": {
     "duration": 0.026545,
     "end_time": "2025-08-19T17:03:30.137659",
     "exception": false,
     "start_time": "2025-08-19T17:03:30.111114",
     "status": "completed"
    },
    "tags": []
   },
   "outputs": [],
   "source": [
    "from sklearn.pipeline import Pipeline\n",
    "from sklearn.preprocessing import StandardScaler\n",
    "\n",
    "model = Pipeline([\n",
    "    #(\"continuous_processor\", continuous_processor),\n",
    "    #(\"categorical_preprocessor\", categorical_preprocessor),\n",
    "    (\"scale\", StandardScaler() if universe[\"scale\"] == \"scale\" else None), \n",
    "    (\"model\", model),\n",
    "])"
   ]
  },
  {
   "cell_type": "code",
   "execution_count": 34,
   "id": "9442c04d",
   "metadata": {
    "execution": {
     "iopub.execute_input": "2025-08-19T17:03:30.183598Z",
     "iopub.status.busy": "2025-08-19T17:03:30.182410Z",
     "iopub.status.idle": "2025-08-19T17:03:37.288361Z",
     "shell.execute_reply": "2025-08-19T17:03:37.287408Z"
    },
    "papermill": {
     "duration": 7.138684,
     "end_time": "2025-08-19T17:03:37.290747",
     "exception": false,
     "start_time": "2025-08-19T17:03:30.152063",
     "status": "completed"
    },
    "tags": []
   },
   "outputs": [
    {
     "data": {
      "text/html": [
       "<style>#sk-container-id-1 {color: black;background-color: white;}#sk-container-id-1 pre{padding: 0;}#sk-container-id-1 div.sk-toggleable {background-color: white;}#sk-container-id-1 label.sk-toggleable__label {cursor: pointer;display: block;width: 100%;margin-bottom: 0;padding: 0.3em;box-sizing: border-box;text-align: center;}#sk-container-id-1 label.sk-toggleable__label-arrow:before {content: \"▸\";float: left;margin-right: 0.25em;color: #696969;}#sk-container-id-1 label.sk-toggleable__label-arrow:hover:before {color: black;}#sk-container-id-1 div.sk-estimator:hover label.sk-toggleable__label-arrow:before {color: black;}#sk-container-id-1 div.sk-toggleable__content {max-height: 0;max-width: 0;overflow: hidden;text-align: left;background-color: #f0f8ff;}#sk-container-id-1 div.sk-toggleable__content pre {margin: 0.2em;color: black;border-radius: 0.25em;background-color: #f0f8ff;}#sk-container-id-1 input.sk-toggleable__control:checked~div.sk-toggleable__content {max-height: 200px;max-width: 100%;overflow: auto;}#sk-container-id-1 input.sk-toggleable__control:checked~label.sk-toggleable__label-arrow:before {content: \"▾\";}#sk-container-id-1 div.sk-estimator input.sk-toggleable__control:checked~label.sk-toggleable__label {background-color: #d4ebff;}#sk-container-id-1 div.sk-label input.sk-toggleable__control:checked~label.sk-toggleable__label {background-color: #d4ebff;}#sk-container-id-1 input.sk-hidden--visually {border: 0;clip: rect(1px 1px 1px 1px);clip: rect(1px, 1px, 1px, 1px);height: 1px;margin: -1px;overflow: hidden;padding: 0;position: absolute;width: 1px;}#sk-container-id-1 div.sk-estimator {font-family: monospace;background-color: #f0f8ff;border: 1px dotted black;border-radius: 0.25em;box-sizing: border-box;margin-bottom: 0.5em;}#sk-container-id-1 div.sk-estimator:hover {background-color: #d4ebff;}#sk-container-id-1 div.sk-parallel-item::after {content: \"\";width: 100%;border-bottom: 1px solid gray;flex-grow: 1;}#sk-container-id-1 div.sk-label:hover label.sk-toggleable__label {background-color: #d4ebff;}#sk-container-id-1 div.sk-serial::before {content: \"\";position: absolute;border-left: 1px solid gray;box-sizing: border-box;top: 0;bottom: 0;left: 50%;z-index: 0;}#sk-container-id-1 div.sk-serial {display: flex;flex-direction: column;align-items: center;background-color: white;padding-right: 0.2em;padding-left: 0.2em;position: relative;}#sk-container-id-1 div.sk-item {position: relative;z-index: 1;}#sk-container-id-1 div.sk-parallel {display: flex;align-items: stretch;justify-content: center;background-color: white;position: relative;}#sk-container-id-1 div.sk-item::before, #sk-container-id-1 div.sk-parallel-item::before {content: \"\";position: absolute;border-left: 1px solid gray;box-sizing: border-box;top: 0;bottom: 0;left: 50%;z-index: -1;}#sk-container-id-1 div.sk-parallel-item {display: flex;flex-direction: column;z-index: 1;position: relative;background-color: white;}#sk-container-id-1 div.sk-parallel-item:first-child::after {align-self: flex-end;width: 50%;}#sk-container-id-1 div.sk-parallel-item:last-child::after {align-self: flex-start;width: 50%;}#sk-container-id-1 div.sk-parallel-item:only-child::after {width: 0;}#sk-container-id-1 div.sk-dashed-wrapped {border: 1px dashed gray;margin: 0 0.4em 0.5em 0.4em;box-sizing: border-box;padding-bottom: 0.4em;background-color: white;}#sk-container-id-1 div.sk-label label {font-family: monospace;font-weight: bold;display: inline-block;line-height: 1.2em;}#sk-container-id-1 div.sk-label-container {text-align: center;}#sk-container-id-1 div.sk-container {/* jupyter's `normalize.less` sets `[hidden] { display: none; }` but bootstrap.min.css set `[hidden] { display: none !important; }` so we also need the `!important` here to be able to override the default hidden behavior on the sphinx rendered scikit-learn.org. See: https://github.com/scikit-learn/scikit-learn/issues/21755 */display: inline-block !important;position: relative;}#sk-container-id-1 div.sk-text-repr-fallback {display: none;}</style><div id=\"sk-container-id-1\" class=\"sk-top-container\"><div class=\"sk-text-repr-fallback\"><pre>Pipeline(steps=[(&#x27;scale&#x27;, None), (&#x27;model&#x27;, RandomForestClassifier())])</pre><b>In a Jupyter environment, please rerun this cell to show the HTML representation or trust the notebook. <br />On GitHub, the HTML representation is unable to render, please try loading this page with nbviewer.org.</b></div><div class=\"sk-container\" hidden><div class=\"sk-item sk-dashed-wrapped\"><div class=\"sk-label-container\"><div class=\"sk-label sk-toggleable\"><input class=\"sk-toggleable__control sk-hidden--visually\" id=\"sk-estimator-id-1\" type=\"checkbox\" ><label for=\"sk-estimator-id-1\" class=\"sk-toggleable__label sk-toggleable__label-arrow\">Pipeline</label><div class=\"sk-toggleable__content\"><pre>Pipeline(steps=[(&#x27;scale&#x27;, None), (&#x27;model&#x27;, RandomForestClassifier())])</pre></div></div></div><div class=\"sk-serial\"><div class=\"sk-item\"><div class=\"sk-estimator sk-toggleable\"><input class=\"sk-toggleable__control sk-hidden--visually\" id=\"sk-estimator-id-2\" type=\"checkbox\" ><label for=\"sk-estimator-id-2\" class=\"sk-toggleable__label sk-toggleable__label-arrow\">None</label><div class=\"sk-toggleable__content\"><pre>None</pre></div></div></div><div class=\"sk-item\"><div class=\"sk-estimator sk-toggleable\"><input class=\"sk-toggleable__control sk-hidden--visually\" id=\"sk-estimator-id-3\" type=\"checkbox\" ><label for=\"sk-estimator-id-3\" class=\"sk-toggleable__label sk-toggleable__label-arrow\">RandomForestClassifier</label><div class=\"sk-toggleable__content\"><pre>RandomForestClassifier()</pre></div></div></div></div></div></div></div>"
      ],
      "text/plain": [
       "Pipeline(steps=[('scale', None), ('model', RandomForestClassifier())])"
      ]
     },
     "execution_count": 34,
     "metadata": {},
     "output_type": "execute_result"
    }
   ],
   "source": [
    "model.fit(X_train, y_train.values.ravel())"
   ]
  },
  {
   "cell_type": "code",
   "execution_count": 35,
   "id": "a7cf2e16",
   "metadata": {
    "execution": {
     "iopub.execute_input": "2025-08-19T17:03:37.321114Z",
     "iopub.status.busy": "2025-08-19T17:03:37.319900Z",
     "iopub.status.idle": "2025-08-19T17:03:39.711320Z",
     "shell.execute_reply": "2025-08-19T17:03:39.710339Z"
    },
    "papermill": {
     "duration": 2.406851,
     "end_time": "2025-08-19T17:03:39.712734",
     "exception": false,
     "start_time": "2025-08-19T17:03:37.305883",
     "status": "completed"
    },
    "tags": []
   },
   "outputs": [
    {
     "data": {
      "text/plain": [
       "0.8628580983167986"
      ]
     },
     "execution_count": 35,
     "metadata": {},
     "output_type": "execute_result"
    }
   ],
   "source": [
    "from fairness_multiverse.universe import predict_w_threshold\n",
    "\n",
    "probs_test = model.predict_proba(X_test)\n",
    "\n",
    "'''\n",
    "Below code returns a boolean array (or binary 0/1 array depending on how it’s used) where each element \n",
    "is True if the probability of class 1 is greater than or equal to the threshold, and False otherwise.\n",
    "'''\n",
    "y_pred_default = predict_w_threshold(probs_test, 0.5)\n",
    "\n",
    "from sklearn.metrics import accuracy_score\n",
    "\n",
    "# Naive prediction\n",
    "accuracy_score(y_true = y_true, y_pred = y_pred_default)"
   ]
  },
  {
   "cell_type": "code",
   "execution_count": 36,
   "id": "081964c3",
   "metadata": {
    "execution": {
     "iopub.execute_input": "2025-08-19T17:03:39.770730Z",
     "iopub.status.busy": "2025-08-19T17:03:39.769427Z",
     "iopub.status.idle": "2025-08-19T17:03:42.171599Z",
     "shell.execute_reply": "2025-08-19T17:03:42.170394Z"
    },
    "papermill": {
     "duration": 2.42503,
     "end_time": "2025-08-19T17:03:42.173040",
     "exception": false,
     "start_time": "2025-08-19T17:03:39.748010",
     "status": "completed"
    },
    "tags": []
   },
   "outputs": [
    {
     "data": {
      "text/plain": [
       "array([0, 0, 0, ..., 0, 0, 0])"
      ]
     },
     "execution_count": 36,
     "metadata": {},
     "output_type": "execute_result"
    }
   ],
   "source": [
    "model.predict(X_test)"
   ]
  },
  {
   "cell_type": "markdown",
   "id": "56c9705b",
   "metadata": {
    "papermill": {
     "duration": 0.012852,
     "end_time": "2025-08-19T17:03:42.199563",
     "exception": false,
     "start_time": "2025-08-19T17:03:42.186711",
     "status": "completed"
    },
    "tags": []
   },
   "source": [
    "# Conformal Prediction"
   ]
  },
  {
   "cell_type": "code",
   "execution_count": 37,
   "id": "160ec6ff",
   "metadata": {
    "execution": {
     "iopub.execute_input": "2025-08-19T17:03:42.226748Z",
     "iopub.status.busy": "2025-08-19T17:03:42.225646Z",
     "iopub.status.idle": "2025-08-19T17:03:42.232412Z",
     "shell.execute_reply": "2025-08-19T17:03:42.231451Z"
    },
    "papermill": {
     "duration": 0.021654,
     "end_time": "2025-08-19T17:03:42.233634",
     "exception": false,
     "start_time": "2025-08-19T17:03:42.211980",
     "status": "completed"
    },
    "tags": []
   },
   "outputs": [],
   "source": [
    "# Miscoverage level for conformal prediction (10% allowed error rate => 90% target coverage)\n",
    "alpha = 0.1"
   ]
  },
  {
   "cell_type": "code",
   "execution_count": 38,
   "id": "eadf4555-3dd3-440e-8e35-f82a4ad9f855",
   "metadata": {
    "execution": {
     "iopub.execute_input": "2025-08-19T17:03:42.262949Z",
     "iopub.status.busy": "2025-08-19T17:03:42.262078Z",
     "iopub.status.idle": "2025-08-19T17:03:44.564114Z",
     "shell.execute_reply": "2025-08-19T17:03:44.562902Z"
    },
    "papermill": {
     "duration": 2.317423,
     "end_time": "2025-08-19T17:03:44.565820",
     "exception": false,
     "start_time": "2025-08-19T17:03:42.248397",
     "status": "completed"
    },
    "tags": []
   },
   "outputs": [],
   "source": [
    "probs_calib = model.predict_proba(X_calib)"
   ]
  },
  {
   "cell_type": "code",
   "execution_count": 39,
   "id": "2ed93547-6d5d-4983-9b36-1ecb300da49a",
   "metadata": {
    "execution": {
     "iopub.execute_input": "2025-08-19T17:03:44.605245Z",
     "iopub.status.busy": "2025-08-19T17:03:44.604163Z",
     "iopub.status.idle": "2025-08-19T17:03:44.613888Z",
     "shell.execute_reply": "2025-08-19T17:03:44.612306Z"
    },
    "papermill": {
     "duration": 0.0368,
     "end_time": "2025-08-19T17:03:44.616828",
     "exception": false,
     "start_time": "2025-08-19T17:03:44.580028",
     "status": "completed"
    },
    "tags": []
   },
   "outputs": [],
   "source": [
    "y_calib = y_calib.values.ravel().astype(int)"
   ]
  },
  {
   "cell_type": "code",
   "execution_count": 40,
   "id": "65d1320d-f588-4b38-9072-62af1ae97f7d",
   "metadata": {
    "execution": {
     "iopub.execute_input": "2025-08-19T17:03:44.676902Z",
     "iopub.status.busy": "2025-08-19T17:03:44.676410Z",
     "iopub.status.idle": "2025-08-19T17:03:44.683821Z",
     "shell.execute_reply": "2025-08-19T17:03:44.683018Z"
    },
    "papermill": {
     "duration": 0.035477,
     "end_time": "2025-08-19T17:03:44.685301",
     "exception": false,
     "start_time": "2025-08-19T17:03:44.649824",
     "status": "completed"
    },
    "tags": []
   },
   "outputs": [],
   "source": [
    "from fairness_multiverse.conformal import compute_nc_scores\n",
    "\n",
    "# Compute nonconformity scores on calibration set (1 - probability of true class)\n",
    "nc_scores = compute_nc_scores(probs_calib, y_calib)"
   ]
  },
  {
   "cell_type": "code",
   "execution_count": 41,
   "id": "df3b8ca3-53b7-43d5-9667-7c85da7aeda2",
   "metadata": {
    "execution": {
     "iopub.execute_input": "2025-08-19T17:03:44.714076Z",
     "iopub.status.busy": "2025-08-19T17:03:44.713470Z",
     "iopub.status.idle": "2025-08-19T17:03:44.722069Z",
     "shell.execute_reply": "2025-08-19T17:03:44.721099Z"
    },
    "papermill": {
     "duration": 0.02302,
     "end_time": "2025-08-19T17:03:44.723331",
     "exception": false,
     "start_time": "2025-08-19T17:03:44.700311",
     "status": "completed"
    },
    "tags": []
   },
   "outputs": [],
   "source": [
    "from fairness_multiverse.conformal import find_threshold\n",
    "\n",
    "# Find conformal threshold q_hat for the given alpha (split conformal method)\n",
    "q_hat = find_threshold(nc_scores, alpha)"
   ]
  },
  {
   "cell_type": "code",
   "execution_count": 42,
   "id": "4d29e6c1-0ef6-4aa4-b8fe-4fe79b0d033a",
   "metadata": {
    "execution": {
     "iopub.execute_input": "2025-08-19T17:03:44.751962Z",
     "iopub.status.busy": "2025-08-19T17:03:44.750814Z",
     "iopub.status.idle": "2025-08-19T17:03:44.760790Z",
     "shell.execute_reply": "2025-08-19T17:03:44.759462Z"
    },
    "papermill": {
     "duration": 0.024451,
     "end_time": "2025-08-19T17:03:44.762061",
     "exception": false,
     "start_time": "2025-08-19T17:03:44.737610",
     "status": "completed"
    },
    "tags": []
   },
   "outputs": [
    {
     "data": {
      "text/plain": [
       "0.6599999999999999"
      ]
     },
     "execution_count": 42,
     "metadata": {},
     "output_type": "execute_result"
    }
   ],
   "source": [
    "q_hat"
   ]
  },
  {
   "cell_type": "code",
   "execution_count": 43,
   "id": "92460794-cdac-4be2-ba28-f28c0515a6fb",
   "metadata": {
    "execution": {
     "iopub.execute_input": "2025-08-19T17:03:44.813654Z",
     "iopub.status.busy": "2025-08-19T17:03:44.812582Z",
     "iopub.status.idle": "2025-08-19T17:03:47.489862Z",
     "shell.execute_reply": "2025-08-19T17:03:47.489029Z"
    },
    "papermill": {
     "duration": 2.714436,
     "end_time": "2025-08-19T17:03:47.491350",
     "exception": false,
     "start_time": "2025-08-19T17:03:44.776914",
     "status": "completed"
    },
    "tags": []
   },
   "outputs": [],
   "source": [
    "from fairness_multiverse.conformal import predict_conformal_sets\n",
    "\n",
    "# Generate prediction sets for each test example\n",
    "pred_sets = predict_conformal_sets(model, X_test, q_hat)"
   ]
  },
  {
   "cell_type": "code",
   "execution_count": 44,
   "id": "d90c9a65-e6db-4f5d-80cd-e68fb7e46829",
   "metadata": {
    "execution": {
     "iopub.execute_input": "2025-08-19T17:03:47.518331Z",
     "iopub.status.busy": "2025-08-19T17:03:47.517083Z",
     "iopub.status.idle": "2025-08-19T17:03:47.525103Z",
     "shell.execute_reply": "2025-08-19T17:03:47.523794Z"
    },
    "papermill": {
     "duration": 0.022592,
     "end_time": "2025-08-19T17:03:47.526444",
     "exception": false,
     "start_time": "2025-08-19T17:03:47.503852",
     "status": "completed"
    },
    "tags": []
   },
   "outputs": [],
   "source": [
    "y_true = y_true.squeeze()"
   ]
  },
  {
   "cell_type": "code",
   "execution_count": 45,
   "id": "3a58a54a-1e68-46b9-927a-df01f18aebc8",
   "metadata": {
    "execution": {
     "iopub.execute_input": "2025-08-19T17:03:47.563593Z",
     "iopub.status.busy": "2025-08-19T17:03:47.562581Z",
     "iopub.status.idle": "2025-08-19T17:03:48.056165Z",
     "shell.execute_reply": "2025-08-19T17:03:48.055267Z"
    },
    "papermill": {
     "duration": 0.514597,
     "end_time": "2025-08-19T17:03:48.057795",
     "exception": false,
     "start_time": "2025-08-19T17:03:47.543198",
     "status": "completed"
    },
    "tags": []
   },
   "outputs": [],
   "source": [
    "from fairness_multiverse.conformal import evaluate_sets\n",
    "\n",
    "# Evaluate coverage and average set size on test data\n",
    "metrics = evaluate_sets(pred_sets, y_true)"
   ]
  },
  {
   "cell_type": "markdown",
   "id": "2b569c12-9aaa-4c88-98c9-bbcd0cf3ebb8",
   "metadata": {
    "papermill": {
     "duration": 0.011758,
     "end_time": "2025-08-19T17:03:48.082078",
     "exception": false,
     "start_time": "2025-08-19T17:03:48.070320",
     "status": "completed"
    },
    "tags": []
   },
   "source": [
    "# CP Metrics"
   ]
  },
  {
   "cell_type": "code",
   "execution_count": 46,
   "id": "5ce0a5cb-201f-45a0-ade5-94c7f0bd6095",
   "metadata": {
    "execution": {
     "iopub.execute_input": "2025-08-19T17:03:48.108190Z",
     "iopub.status.busy": "2025-08-19T17:03:48.107031Z",
     "iopub.status.idle": "2025-08-19T17:03:48.117210Z",
     "shell.execute_reply": "2025-08-19T17:03:48.116179Z"
    },
    "papermill": {
     "duration": 0.024965,
     "end_time": "2025-08-19T17:03:48.118690",
     "exception": false,
     "start_time": "2025-08-19T17:03:48.093725",
     "status": "completed"
    },
    "tags": []
   },
   "outputs": [
    {
     "data": {
      "text/plain": [
       "{'coverage': 0.9149147252257274, 'avg_size': 1.1468955523353026}"
      ]
     },
     "execution_count": 46,
     "metadata": {},
     "output_type": "execute_result"
    }
   ],
   "source": [
    "metrics"
   ]
  },
  {
   "cell_type": "code",
   "execution_count": 47,
   "id": "9b9a838d-31c9-430b-ae14-12baee460d17",
   "metadata": {
    "execution": {
     "iopub.execute_input": "2025-08-19T17:03:48.147080Z",
     "iopub.status.busy": "2025-08-19T17:03:48.146156Z",
     "iopub.status.idle": "2025-08-19T17:03:48.156085Z",
     "shell.execute_reply": "2025-08-19T17:03:48.154872Z"
    },
    "papermill": {
     "duration": 0.02469,
     "end_time": "2025-08-19T17:03:48.157728",
     "exception": false,
     "start_time": "2025-08-19T17:03:48.133038",
     "status": "completed"
    },
    "tags": []
   },
   "outputs": [],
   "source": [
    "example_universe = universe.copy()\n",
    "universe_training_year = example_universe.get(\"training_year\")\n",
    "universe_training_size = example_universe.get(\"training_size\")\n",
    "universe_scale = example_universe.get(\"scale\")\n",
    "universe_model = example_universe.get(\"model\")\n",
    "universe_exclude_features = example_universe.get(\"exclude_features\")\n",
    "universe_exclude_subgroups = example_universe.get(\"exclude_subgroups\")"
   ]
  },
  {
   "cell_type": "code",
   "execution_count": 48,
   "id": "f4b6a8ac-9dc0-4245-8a91-5b3b5999c4f9",
   "metadata": {
    "execution": {
     "iopub.execute_input": "2025-08-19T17:03:48.187264Z",
     "iopub.status.busy": "2025-08-19T17:03:48.186107Z",
     "iopub.status.idle": "2025-08-19T17:03:48.195576Z",
     "shell.execute_reply": "2025-08-19T17:03:48.194356Z"
    },
    "papermill": {
     "duration": 0.024587,
     "end_time": "2025-08-19T17:03:48.197100",
     "exception": false,
     "start_time": "2025-08-19T17:03:48.172513",
     "status": "completed"
    },
    "tags": []
   },
   "outputs": [],
   "source": [
    "cp_metrics_dict = {\n",
    "    \"universe_id\": [universe_id],\n",
    "    \"universe_training_year\": [universe_training_year],\n",
    "    \"universe_training_size\": [universe_training_size],\n",
    "    \"universe_scale\": [universe_scale],\n",
    "    \"universe_model\": [universe_model],\n",
    "    \"universe_exclude_features\": [universe_exclude_features],\n",
    "    \"universe_exclude_subgroups\": [universe_exclude_subgroups],\n",
    "    \"q_hat\": [q_hat],\n",
    "    \"coverage\": [metrics[\"coverage\"]],\n",
    "    \"avg_size\": [metrics[\"avg_size\"]],\n",
    "}"
   ]
  },
  {
   "cell_type": "code",
   "execution_count": 49,
   "id": "33007efc-14e9-4ec6-97ac-56a455c82265",
   "metadata": {
    "execution": {
     "iopub.execute_input": "2025-08-19T17:03:48.226098Z",
     "iopub.status.busy": "2025-08-19T17:03:48.225199Z",
     "iopub.status.idle": "2025-08-19T17:03:48.234579Z",
     "shell.execute_reply": "2025-08-19T17:03:48.233375Z"
    },
    "papermill": {
     "duration": 0.024057,
     "end_time": "2025-08-19T17:03:48.235929",
     "exception": false,
     "start_time": "2025-08-19T17:03:48.211872",
     "status": "completed"
    },
    "tags": []
   },
   "outputs": [],
   "source": [
    "cp_metrics_df = pd.DataFrame(cp_metrics_dict)"
   ]
  },
  {
   "cell_type": "code",
   "execution_count": 50,
   "id": "db12611b-57b2-4910-b9d0-355adfd6e7bf",
   "metadata": {
    "execution": {
     "iopub.execute_input": "2025-08-19T17:03:48.264539Z",
     "iopub.status.busy": "2025-08-19T17:03:48.263618Z",
     "iopub.status.idle": "2025-08-19T17:03:48.285530Z",
     "shell.execute_reply": "2025-08-19T17:03:48.284594Z"
    },
    "papermill": {
     "duration": 0.036337,
     "end_time": "2025-08-19T17:03:48.286928",
     "exception": false,
     "start_time": "2025-08-19T17:03:48.250591",
     "status": "completed"
    },
    "tags": []
   },
   "outputs": [
    {
     "data": {
      "text/html": [
       "<div>\n",
       "<style scoped>\n",
       "    .dataframe tbody tr th:only-of-type {\n",
       "        vertical-align: middle;\n",
       "    }\n",
       "\n",
       "    .dataframe tbody tr th {\n",
       "        vertical-align: top;\n",
       "    }\n",
       "\n",
       "    .dataframe thead th {\n",
       "        text-align: right;\n",
       "    }\n",
       "</style>\n",
       "<table border=\"1\" class=\"dataframe\">\n",
       "  <thead>\n",
       "    <tr style=\"text-align: right;\">\n",
       "      <th></th>\n",
       "      <th>universe_id</th>\n",
       "      <th>universe_training_year</th>\n",
       "      <th>universe_training_size</th>\n",
       "      <th>universe_scale</th>\n",
       "      <th>universe_model</th>\n",
       "      <th>universe_exclude_features</th>\n",
       "      <th>universe_exclude_subgroups</th>\n",
       "      <th>q_hat</th>\n",
       "      <th>coverage</th>\n",
       "      <th>avg_size</th>\n",
       "    </tr>\n",
       "  </thead>\n",
       "  <tbody>\n",
       "    <tr>\n",
       "      <th>0</th>\n",
       "      <td>2b51afa0cb0a544c054f51b32904ea49</td>\n",
       "      <td>2014</td>\n",
       "      <td>25k</td>\n",
       "      <td>do-not-scale</td>\n",
       "      <td>rf</td>\n",
       "      <td>nationality-sex</td>\n",
       "      <td>drop-non-german</td>\n",
       "      <td>0.66</td>\n",
       "      <td>0.914915</td>\n",
       "      <td>1.146896</td>\n",
       "    </tr>\n",
       "  </tbody>\n",
       "</table>\n",
       "</div>"
      ],
      "text/plain": [
       "                        universe_id universe_training_year  \\\n",
       "0  2b51afa0cb0a544c054f51b32904ea49                   2014   \n",
       "\n",
       "  universe_training_size universe_scale universe_model  \\\n",
       "0                    25k   do-not-scale             rf   \n",
       "\n",
       "  universe_exclude_features universe_exclude_subgroups  q_hat  coverage  \\\n",
       "0           nationality-sex            drop-non-german   0.66  0.914915   \n",
       "\n",
       "   avg_size  \n",
       "0  1.146896  "
      ]
     },
     "execution_count": 50,
     "metadata": {},
     "output_type": "execute_result"
    }
   ],
   "source": [
    "cp_metrics_df"
   ]
  },
  {
   "cell_type": "markdown",
   "id": "c825ecb4-0d3d-41d6-b7c6-eccb21272259",
   "metadata": {
    "papermill": {
     "duration": 0.012517,
     "end_time": "2025-08-19T17:03:48.317973",
     "exception": false,
     "start_time": "2025-08-19T17:03:48.305456",
     "status": "completed"
    },
    "tags": []
   },
   "source": [
    "Conditional coverage & looking at subgroups"
   ]
  },
  {
   "cell_type": "code",
   "execution_count": 51,
   "id": "027ae886-68dd-4141-96c7-805a5450e1ef",
   "metadata": {
    "execution": {
     "iopub.execute_input": "2025-08-19T17:03:48.344557Z",
     "iopub.status.busy": "2025-08-19T17:03:48.343506Z",
     "iopub.status.idle": "2025-08-19T17:03:48.579517Z",
     "shell.execute_reply": "2025-08-19T17:03:48.578738Z"
    },
    "papermill": {
     "duration": 0.252178,
     "end_time": "2025-08-19T17:03:48.582173",
     "exception": false,
     "start_time": "2025-08-19T17:03:48.329995",
     "status": "completed"
    },
    "tags": []
   },
   "outputs": [],
   "source": [
    "from fairness_multiverse.conformal import build_cp_groups\n",
    "\n",
    "cp_groups_df = build_cp_groups(pred_sets, y_true, X_test.index, org_test)"
   ]
  },
  {
   "cell_type": "code",
   "execution_count": 52,
   "id": "6cbdab96-b2b2-45af-ad54-d0516db2e28d",
   "metadata": {
    "execution": {
     "iopub.execute_input": "2025-08-19T17:03:48.623312Z",
     "iopub.status.busy": "2025-08-19T17:03:48.622878Z",
     "iopub.status.idle": "2025-08-19T17:03:49.438890Z",
     "shell.execute_reply": "2025-08-19T17:03:49.438122Z"
    },
    "papermill": {
     "duration": 0.833151,
     "end_time": "2025-08-19T17:03:49.441711",
     "exception": false,
     "start_time": "2025-08-19T17:03:48.608560",
     "status": "completed"
    },
    "tags": []
   },
   "outputs": [],
   "source": [
    "# Define covered = 1 if true_label is in the predicted set\n",
    "cp_groups_df['covered'] = cp_groups_df.apply(\n",
    "    lambda r: int(r['true_label'] in r['pred_set']),\n",
    "    axis=1\n",
    ")"
   ]
  },
  {
   "cell_type": "code",
   "execution_count": 53,
   "id": "90032e27-66df-4540-9169-4e89cfbaa758",
   "metadata": {
    "execution": {
     "iopub.execute_input": "2025-08-19T17:03:49.484382Z",
     "iopub.status.busy": "2025-08-19T17:03:49.483358Z",
     "iopub.status.idle": "2025-08-19T17:03:49.501112Z",
     "shell.execute_reply": "2025-08-19T17:03:49.500021Z"
    },
    "papermill": {
     "duration": 0.034608,
     "end_time": "2025-08-19T17:03:49.502815",
     "exception": false,
     "start_time": "2025-08-19T17:03:49.468207",
     "status": "completed"
    },
    "tags": []
   },
   "outputs": [],
   "source": [
    "subgroups = ['frau1','nongerman','nongerman_male','nongerman_female']\n",
    "\n",
    "# Conditional coverage for subgroup==1\n",
    "cond_coverage = {\n",
    "    g: cp_groups_df.loc[cp_groups_df[g]==1, 'covered'].mean()\n",
    "    for g in subgroups\n",
    "}"
   ]
  },
  {
   "cell_type": "code",
   "execution_count": 54,
   "id": "1e348fb1-b9c3-45bc-ba23-f016827a7e0d",
   "metadata": {
    "execution": {
     "iopub.execute_input": "2025-08-19T17:03:49.536399Z",
     "iopub.status.busy": "2025-08-19T17:03:49.535265Z",
     "iopub.status.idle": "2025-08-19T17:03:49.544625Z",
     "shell.execute_reply": "2025-08-19T17:03:49.543544Z"
    },
    "papermill": {
     "duration": 0.024636,
     "end_time": "2025-08-19T17:03:49.546008",
     "exception": false,
     "start_time": "2025-08-19T17:03:49.521372",
     "status": "completed"
    },
    "tags": []
   },
   "outputs": [
    {
     "data": {
      "text/plain": [
       "{'frau1': 0.9148133171586467,\n",
       " 'nongerman': 0.9159041149722114,\n",
       " 'nongerman_male': 0.9286679275871386,\n",
       " 'nongerman_female': 0.8947839046199701}"
      ]
     },
     "execution_count": 54,
     "metadata": {},
     "output_type": "execute_result"
    }
   ],
   "source": [
    "cond_coverage"
   ]
  },
  {
   "cell_type": "code",
   "execution_count": 55,
   "id": "f5093324-c3dd-4d63-bc4c-8d945e5c8bbb",
   "metadata": {
    "execution": {
     "iopub.execute_input": "2025-08-19T17:03:49.576110Z",
     "iopub.status.busy": "2025-08-19T17:03:49.575155Z",
     "iopub.status.idle": "2025-08-19T17:03:49.587854Z",
     "shell.execute_reply": "2025-08-19T17:03:49.586734Z"
    },
    "papermill": {
     "duration": 0.02791,
     "end_time": "2025-08-19T17:03:49.589346",
     "exception": false,
     "start_time": "2025-08-19T17:03:49.561436",
     "status": "completed"
    },
    "tags": []
   },
   "outputs": [],
   "source": [
    "for subgroup, cov in cond_coverage.items():\n",
    "    cp_metrics_df[f\"cov_{subgroup}\"] = cov"
   ]
  },
  {
   "cell_type": "code",
   "execution_count": 56,
   "id": "6e872e10-dbe5-49e8-b554-5030c98ff75d",
   "metadata": {
    "execution": {
     "iopub.execute_input": "2025-08-19T17:03:49.624157Z",
     "iopub.status.busy": "2025-08-19T17:03:49.623155Z",
     "iopub.status.idle": "2025-08-19T17:03:49.646761Z",
     "shell.execute_reply": "2025-08-19T17:03:49.645996Z"
    },
    "papermill": {
     "duration": 0.040147,
     "end_time": "2025-08-19T17:03:49.648495",
     "exception": false,
     "start_time": "2025-08-19T17:03:49.608348",
     "status": "completed"
    },
    "tags": []
   },
   "outputs": [
    {
     "data": {
      "text/html": [
       "<div>\n",
       "<style scoped>\n",
       "    .dataframe tbody tr th:only-of-type {\n",
       "        vertical-align: middle;\n",
       "    }\n",
       "\n",
       "    .dataframe tbody tr th {\n",
       "        vertical-align: top;\n",
       "    }\n",
       "\n",
       "    .dataframe thead th {\n",
       "        text-align: right;\n",
       "    }\n",
       "</style>\n",
       "<table border=\"1\" class=\"dataframe\">\n",
       "  <thead>\n",
       "    <tr style=\"text-align: right;\">\n",
       "      <th></th>\n",
       "      <th>universe_id</th>\n",
       "      <th>universe_training_year</th>\n",
       "      <th>universe_training_size</th>\n",
       "      <th>universe_scale</th>\n",
       "      <th>universe_model</th>\n",
       "      <th>universe_exclude_features</th>\n",
       "      <th>universe_exclude_subgroups</th>\n",
       "      <th>q_hat</th>\n",
       "      <th>coverage</th>\n",
       "      <th>avg_size</th>\n",
       "      <th>cov_frau1</th>\n",
       "      <th>cov_nongerman</th>\n",
       "      <th>cov_nongerman_male</th>\n",
       "      <th>cov_nongerman_female</th>\n",
       "    </tr>\n",
       "  </thead>\n",
       "  <tbody>\n",
       "    <tr>\n",
       "      <th>0</th>\n",
       "      <td>2b51afa0cb0a544c054f51b32904ea49</td>\n",
       "      <td>2014</td>\n",
       "      <td>25k</td>\n",
       "      <td>do-not-scale</td>\n",
       "      <td>rf</td>\n",
       "      <td>nationality-sex</td>\n",
       "      <td>drop-non-german</td>\n",
       "      <td>0.66</td>\n",
       "      <td>0.914915</td>\n",
       "      <td>1.146896</td>\n",
       "      <td>0.914813</td>\n",
       "      <td>0.915904</td>\n",
       "      <td>0.928668</td>\n",
       "      <td>0.894784</td>\n",
       "    </tr>\n",
       "  </tbody>\n",
       "</table>\n",
       "</div>"
      ],
      "text/plain": [
       "                        universe_id universe_training_year  \\\n",
       "0  2b51afa0cb0a544c054f51b32904ea49                   2014   \n",
       "\n",
       "  universe_training_size universe_scale universe_model  \\\n",
       "0                    25k   do-not-scale             rf   \n",
       "\n",
       "  universe_exclude_features universe_exclude_subgroups  q_hat  coverage  \\\n",
       "0           nationality-sex            drop-non-german   0.66  0.914915   \n",
       "\n",
       "   avg_size  cov_frau1  cov_nongerman  cov_nongerman_male  \\\n",
       "0  1.146896   0.914813       0.915904            0.928668   \n",
       "\n",
       "   cov_nongerman_female  \n",
       "0              0.894784  "
      ]
     },
     "execution_count": 56,
     "metadata": {},
     "output_type": "execute_result"
    }
   ],
   "source": [
    "cp_metrics_df"
   ]
  },
  {
   "cell_type": "markdown",
   "id": "33774451",
   "metadata": {
    "papermill": {
     "duration": 0.012782,
     "end_time": "2025-08-19T17:03:49.680548",
     "exception": false,
     "start_time": "2025-08-19T17:03:49.667766",
     "status": "completed"
    },
    "tags": []
   },
   "source": [
    "# (Fairness) Metrics"
   ]
  },
  {
   "cell_type": "code",
   "execution_count": 57,
   "id": "debc5d62",
   "metadata": {
    "execution": {
     "iopub.execute_input": "2025-08-19T17:03:49.708321Z",
     "iopub.status.busy": "2025-08-19T17:03:49.707185Z",
     "iopub.status.idle": "2025-08-19T17:03:49.738226Z",
     "shell.execute_reply": "2025-08-19T17:03:49.737461Z"
    },
    "papermill": {
     "duration": 0.047459,
     "end_time": "2025-08-19T17:03:49.740458",
     "exception": false,
     "start_time": "2025-08-19T17:03:49.692999",
     "status": "completed"
    },
    "tags": []
   },
   "outputs": [],
   "source": [
    "colname_to_bin = \"maxdeutsch1\"\n",
    "majority_value = org_train[colname_to_bin].mode()[0]\n",
    "\n",
    "org_test[\"majmin\"] = np.where(org_test[colname_to_bin] == majority_value, \"majority\", \"minority\")"
   ]
  },
  {
   "cell_type": "code",
   "execution_count": 58,
   "id": "06a50de5",
   "metadata": {
    "execution": {
     "iopub.execute_input": "2025-08-19T17:03:49.786480Z",
     "iopub.status.busy": "2025-08-19T17:03:49.785081Z",
     "iopub.status.idle": "2025-08-19T17:03:51.501265Z",
     "shell.execute_reply": "2025-08-19T17:03:51.500427Z"
    },
    "papermill": {
     "duration": 1.735159,
     "end_time": "2025-08-19T17:03:51.504071",
     "exception": false,
     "start_time": "2025-08-19T17:03:49.768912",
     "status": "completed"
    },
    "tags": []
   },
   "outputs": [],
   "source": [
    "example_universe = universe.copy()\n",
    "example_universe[\"cutoff\"] = example_universe[\"cutoff\"][0]\n",
    "example_universe[\"eval_fairness_grouping\"] = example_universe[\"eval_fairness_grouping\"][0]\n",
    "fairness_dict, metric_frame = universe_analysis.compute_metrics(\n",
    "    example_universe,\n",
    "    y_pred_prob=probs_test,\n",
    "    y_test=y_true,\n",
    "    org_test=org_test,\n",
    ")"
   ]
  },
  {
   "cell_type": "markdown",
   "id": "f95d4e02",
   "metadata": {
    "papermill": {
     "duration": 0.013425,
     "end_time": "2025-08-19T17:03:51.545115",
     "exception": false,
     "start_time": "2025-08-19T17:03:51.531690",
     "status": "completed"
    },
    "tags": []
   },
   "source": [
    "# Overall"
   ]
  },
  {
   "cell_type": "markdown",
   "id": "bdee4871",
   "metadata": {
    "papermill": {
     "duration": 0.012367,
     "end_time": "2025-08-19T17:03:51.570147",
     "exception": false,
     "start_time": "2025-08-19T17:03:51.557780",
     "status": "completed"
    },
    "tags": []
   },
   "source": [
    "Main fairness target: Equalized Odds. Seems to be a better fit than equal opportunity, since we're not only interested in Y = 1. Seems to be a better fit than demographic parity, since we also care about accuracy, not just equal distribution of preds.\n",
    "\n",
    "Pick column for computation of fairness metrics\n",
    "\n",
    "Performance\n",
    "Overall performance measures, most interesting in relation to the measures split by group below"
   ]
  },
  {
   "cell_type": "code",
   "execution_count": 59,
   "id": "c4e067c6",
   "metadata": {
    "execution": {
     "iopub.execute_input": "2025-08-19T17:03:51.598063Z",
     "iopub.status.busy": "2025-08-19T17:03:51.596825Z",
     "iopub.status.idle": "2025-08-19T17:03:51.609181Z",
     "shell.execute_reply": "2025-08-19T17:03:51.608102Z"
    },
    "papermill": {
     "duration": 0.028159,
     "end_time": "2025-08-19T17:03:51.610682",
     "exception": false,
     "start_time": "2025-08-19T17:03:51.582523",
     "status": "completed"
    },
    "tags": []
   },
   "outputs": [
    {
     "data": {
      "text/plain": [
       "accuracy                   0.204905\n",
       "balanced accuracy          0.536132\n",
       "f1                         0.240561\n",
       "precision                  0.137076\n",
       "false positive rate        0.909401\n",
       "false negative rate        0.018335\n",
       "selection rate             0.918671\n",
       "count                  89710.000000\n",
       "dtype: float64"
      ]
     },
     "execution_count": 59,
     "metadata": {},
     "output_type": "execute_result"
    }
   ],
   "source": [
    "metric_frame.overall"
   ]
  },
  {
   "cell_type": "markdown",
   "id": "e968fe9d",
   "metadata": {
    "papermill": {
     "duration": 0.01228,
     "end_time": "2025-08-19T17:03:51.640067",
     "exception": false,
     "start_time": "2025-08-19T17:03:51.627787",
     "status": "completed"
    },
    "tags": []
   },
   "source": [
    "By Group"
   ]
  },
  {
   "cell_type": "code",
   "execution_count": 60,
   "id": "ec325bce",
   "metadata": {
    "execution": {
     "iopub.execute_input": "2025-08-19T17:03:51.667283Z",
     "iopub.status.busy": "2025-08-19T17:03:51.666300Z",
     "iopub.status.idle": "2025-08-19T17:03:51.687494Z",
     "shell.execute_reply": "2025-08-19T17:03:51.686587Z"
    },
    "papermill": {
     "duration": 0.03683,
     "end_time": "2025-08-19T17:03:51.689146",
     "exception": false,
     "start_time": "2025-08-19T17:03:51.652316",
     "status": "completed"
    },
    "tags": []
   },
   "outputs": [
    {
     "data": {
      "text/html": [
       "<div>\n",
       "<style scoped>\n",
       "    .dataframe tbody tr th:only-of-type {\n",
       "        vertical-align: middle;\n",
       "    }\n",
       "\n",
       "    .dataframe tbody tr th {\n",
       "        vertical-align: top;\n",
       "    }\n",
       "\n",
       "    .dataframe thead th {\n",
       "        text-align: right;\n",
       "    }\n",
       "</style>\n",
       "<table border=\"1\" class=\"dataframe\">\n",
       "  <thead>\n",
       "    <tr style=\"text-align: right;\">\n",
       "      <th></th>\n",
       "      <th>accuracy</th>\n",
       "      <th>balanced accuracy</th>\n",
       "      <th>f1</th>\n",
       "      <th>precision</th>\n",
       "      <th>false positive rate</th>\n",
       "      <th>false negative rate</th>\n",
       "      <th>selection rate</th>\n",
       "      <th>count</th>\n",
       "    </tr>\n",
       "    <tr>\n",
       "      <th>majmin</th>\n",
       "      <th></th>\n",
       "      <th></th>\n",
       "      <th></th>\n",
       "      <th></th>\n",
       "      <th></th>\n",
       "      <th></th>\n",
       "      <th></th>\n",
       "      <th></th>\n",
       "    </tr>\n",
       "  </thead>\n",
       "  <tbody>\n",
       "    <tr>\n",
       "      <th>majority</th>\n",
       "      <td>0.200202</td>\n",
       "      <td>0.535365</td>\n",
       "      <td>0.246664</td>\n",
       "      <td>0.140864</td>\n",
       "      <td>0.920190</td>\n",
       "      <td>0.009081</td>\n",
       "      <td>0.929536</td>\n",
       "      <td>69170.0</td>\n",
       "    </tr>\n",
       "    <tr>\n",
       "      <th>minority</th>\n",
       "      <td>0.220740</td>\n",
       "      <td>0.536092</td>\n",
       "      <td>0.218686</td>\n",
       "      <td>0.123634</td>\n",
       "      <td>0.873762</td>\n",
       "      <td>0.054054</td>\n",
       "      <td>0.882084</td>\n",
       "      <td>20540.0</td>\n",
       "    </tr>\n",
       "  </tbody>\n",
       "</table>\n",
       "</div>"
      ],
      "text/plain": [
       "          accuracy  balanced accuracy        f1  precision  \\\n",
       "majmin                                                       \n",
       "majority  0.200202           0.535365  0.246664   0.140864   \n",
       "minority  0.220740           0.536092  0.218686   0.123634   \n",
       "\n",
       "          false positive rate  false negative rate  selection rate    count  \n",
       "majmin                                                                       \n",
       "majority             0.920190             0.009081        0.929536  69170.0  \n",
       "minority             0.873762             0.054054        0.882084  20540.0  "
      ]
     },
     "execution_count": 60,
     "metadata": {},
     "output_type": "execute_result"
    }
   ],
   "source": [
    "metric_frame.by_group"
   ]
  },
  {
   "cell_type": "code",
   "execution_count": 61,
   "id": "a9ddbe63",
   "metadata": {
    "execution": {
     "iopub.execute_input": "2025-08-19T17:03:51.723552Z",
     "iopub.status.busy": "2025-08-19T17:03:51.722295Z",
     "iopub.status.idle": "2025-08-19T17:03:53.432657Z",
     "shell.execute_reply": "2025-08-19T17:03:53.431738Z"
    },
    "papermill": {
     "duration": 1.726655,
     "end_time": "2025-08-19T17:03:53.434870",
     "exception": false,
     "start_time": "2025-08-19T17:03:51.708215",
     "status": "completed"
    },
    "tags": []
   },
   "outputs": [
    {
     "data": {
      "text/plain": [
       "array([[<Axes: title={'center': 'accuracy'}, xlabel='majmin'>,\n",
       "        <Axes: title={'center': 'balanced accuracy'}, xlabel='majmin'>,\n",
       "        <Axes: title={'center': 'f1'}, xlabel='majmin'>],\n",
       "       [<Axes: title={'center': 'precision'}, xlabel='majmin'>,\n",
       "        <Axes: title={'center': 'false positive rate'}, xlabel='majmin'>,\n",
       "        <Axes: title={'center': 'false negative rate'}, xlabel='majmin'>],\n",
       "       [<Axes: title={'center': 'selection rate'}, xlabel='majmin'>,\n",
       "        <Axes: title={'center': 'count'}, xlabel='majmin'>,\n",
       "        <Axes: xlabel='majmin'>]], dtype=object)"
      ]
     },
     "execution_count": 61,
     "metadata": {},
     "output_type": "execute_result"
    },
    {
     "data": {
      "image/png": "[encoded data removed]",
      "text/plain": [
       "<Figure size 1200x800 with 9 Axes>"
      ]
     },
     "metadata": {},
     "output_type": "display_data"
    }
   ],
   "source": [
    "# In a graphic\n",
    "metric_frame.by_group.plot.bar(\n",
    "    subplots=True,\n",
    "    layout=[3, 3],\n",
    "    legend=False,\n",
    "    figsize=[12, 8],\n",
    "    title=\"Show all metrics\",\n",
    ")"
   ]
  },
  {
   "cell_type": "markdown",
   "id": "f57a0bac",
   "metadata": {
    "papermill": {
     "duration": 0.013645,
     "end_time": "2025-08-19T17:03:53.474468",
     "exception": false,
     "start_time": "2025-08-19T17:03:53.460823",
     "status": "completed"
    },
    "tags": []
   },
   "source": [
    "# Final Output"
   ]
  },
  {
   "cell_type": "code",
   "execution_count": 62,
   "id": "96d280a3",
   "metadata": {
    "execution": {
     "iopub.execute_input": "2025-08-19T17:03:53.505840Z",
     "iopub.status.busy": "2025-08-19T17:03:53.504218Z",
     "iopub.status.idle": "2025-08-19T17:03:53.518090Z",
     "shell.execute_reply": "2025-08-19T17:03:53.517140Z"
    },
    "papermill": {
     "duration": 0.031373,
     "end_time": "2025-08-19T17:03:53.519600",
     "exception": false,
     "start_time": "2025-08-19T17:03:53.488227",
     "status": "completed"
    },
    "tags": []
   },
   "outputs": [
    {
     "data": {
      "text/plain": [
       "4"
      ]
     },
     "execution_count": 62,
     "metadata": {},
     "output_type": "execute_result"
    }
   ],
   "source": [
    "sub_universes = universe_analysis.generate_sub_universes()\n",
    "len(sub_universes)"
   ]
  },
  {
   "cell_type": "code",
   "execution_count": 63,
   "id": "92adf7ba",
   "metadata": {
    "execution": {
     "iopub.execute_input": "2025-08-19T17:03:53.553649Z",
     "iopub.status.busy": "2025-08-19T17:03:53.552700Z",
     "iopub.status.idle": "2025-08-19T17:03:53.561307Z",
     "shell.execute_reply": "2025-08-19T17:03:53.560045Z"
    },
    "papermill": {
     "duration": 0.025443,
     "end_time": "2025-08-19T17:03:53.562790",
     "exception": false,
     "start_time": "2025-08-19T17:03:53.537347",
     "status": "completed"
    },
    "tags": []
   },
   "outputs": [],
   "source": [
    "def filter_sub_universe_data(sub_universe, org_test):\n",
    "    # Keep all rows — no filtering\n",
    "    keep_rows_mask = np.ones(org_test.shape[0], dtype=bool)\n",
    "\n",
    "    print(f\"[INFO] Keeping all rows: {keep_rows_mask.sum()} rows retained.\")\n",
    "    return keep_rows_mask"
   ]
  },
  {
   "cell_type": "code",
   "execution_count": 64,
   "id": "4a759155",
   "metadata": {
    "execution": {
     "iopub.execute_input": "2025-08-19T17:03:53.596310Z",
     "iopub.status.busy": "2025-08-19T17:03:53.595187Z",
     "iopub.status.idle": "2025-08-19T17:04:00.209848Z",
     "shell.execute_reply": "2025-08-19T17:04:00.208841Z"
    },
    "papermill": {
     "duration": 6.632879,
     "end_time": "2025-08-19T17:04:00.212800",
     "exception": false,
     "start_time": "2025-08-19T17:03:53.579921",
     "status": "completed"
    },
    "tags": []
   },
   "outputs": [
    {
     "name": "stdout",
     "output_type": "stream",
     "text": [
      "Stopping execution_time clock.\n",
      "[INFO] Keeping all rows: 89710 rows retained.\n"
     ]
    },
    {
     "name": "stdout",
     "output_type": "stream",
     "text": [
      "[INFO] Keeping all rows: 89710 rows retained.\n"
     ]
    },
    {
     "name": "stdout",
     "output_type": "stream",
     "text": [
      "[INFO] Keeping all rows: 89710 rows retained.\n"
     ]
    },
    {
     "name": "stdout",
     "output_type": "stream",
     "text": [
      "[INFO] Keeping all rows: 89710 rows retained.\n"
     ]
    },
    {
     "data": {
      "text/html": [
       "<div>\n",
       "<style scoped>\n",
       "    .dataframe tbody tr th:only-of-type {\n",
       "        vertical-align: middle;\n",
       "    }\n",
       "\n",
       "    .dataframe tbody tr th {\n",
       "        vertical-align: top;\n",
       "    }\n",
       "\n",
       "    .dataframe thead th {\n",
       "        text-align: right;\n",
       "    }\n",
       "</style>\n",
       "<table border=\"1\" class=\"dataframe\">\n",
       "  <thead>\n",
       "    <tr style=\"text-align: right;\">\n",
       "      <th></th>\n",
       "      <th>run_no</th>\n",
       "      <th>universe_id</th>\n",
       "      <th>universe_settings</th>\n",
       "      <th>execution_time</th>\n",
       "      <th>test_size_n</th>\n",
       "      <th>test_size_frac</th>\n",
       "      <th>fair_main_equalized_odds_difference</th>\n",
       "      <th>fair_main_equalized_odds_ratio</th>\n",
       "      <th>fair_main_demographic_parity_difference</th>\n",
       "      <th>fair_main_demographic_parity_ratio</th>\n",
       "      <th>...</th>\n",
       "      <th>perf_grp_precision_0</th>\n",
       "      <th>perf_grp_precision_1</th>\n",
       "      <th>perf_grp_false positive rate_0</th>\n",
       "      <th>perf_grp_false positive rate_1</th>\n",
       "      <th>perf_grp_false negative rate_0</th>\n",
       "      <th>perf_grp_false negative rate_1</th>\n",
       "      <th>perf_grp_selection rate_0</th>\n",
       "      <th>perf_grp_selection rate_1</th>\n",
       "      <th>perf_grp_count_0</th>\n",
       "      <th>perf_grp_count_1</th>\n",
       "    </tr>\n",
       "  </thead>\n",
       "  <tbody>\n",
       "    <tr>\n",
       "      <th>0</th>\n",
       "      <td>2</td>\n",
       "      <td>2b51afa0cb0a544c054f51b32904ea49</td>\n",
       "      <td>{\"cutoff\": \"quantile_0.1\", \"eval_fairness_grou...</td>\n",
       "      <td>36.022687</td>\n",
       "      <td>89710</td>\n",
       "      <td>1.0</td>\n",
       "      <td>0.046428</td>\n",
       "      <td>0.949545</td>\n",
       "      <td>0.047452</td>\n",
       "      <td>0.948951</td>\n",
       "      <td>...</td>\n",
       "      <td>NaN</td>\n",
       "      <td>NaN</td>\n",
       "      <td>NaN</td>\n",
       "      <td>NaN</td>\n",
       "      <td>NaN</td>\n",
       "      <td>NaN</td>\n",
       "      <td>NaN</td>\n",
       "      <td>NaN</td>\n",
       "      <td>NaN</td>\n",
       "      <td>NaN</td>\n",
       "    </tr>\n",
       "    <tr>\n",
       "      <th>0</th>\n",
       "      <td>2</td>\n",
       "      <td>2b51afa0cb0a544c054f51b32904ea49</td>\n",
       "      <td>{\"cutoff\": \"quantile_0.1\", \"eval_fairness_grou...</td>\n",
       "      <td>36.022687</td>\n",
       "      <td>89710</td>\n",
       "      <td>1.0</td>\n",
       "      <td>0.046428</td>\n",
       "      <td>0.949545</td>\n",
       "      <td>0.047452</td>\n",
       "      <td>0.948951</td>\n",
       "      <td>...</td>\n",
       "      <td>0.123634</td>\n",
       "      <td>0.140864</td>\n",
       "      <td>0.873762</td>\n",
       "      <td>0.920190</td>\n",
       "      <td>0.054054</td>\n",
       "      <td>0.009081</td>\n",
       "      <td>0.882084</td>\n",
       "      <td>0.929536</td>\n",
       "      <td>20540.0</td>\n",
       "      <td>69170.0</td>\n",
       "    </tr>\n",
       "    <tr>\n",
       "      <th>0</th>\n",
       "      <td>2</td>\n",
       "      <td>2b51afa0cb0a544c054f51b32904ea49</td>\n",
       "      <td>{\"cutoff\": \"quantile_0.25\", \"eval_fairness_gro...</td>\n",
       "      <td>36.022687</td>\n",
       "      <td>89710</td>\n",
       "      <td>1.0</td>\n",
       "      <td>0.074875</td>\n",
       "      <td>0.921139</td>\n",
       "      <td>0.031666</td>\n",
       "      <td>0.958390</td>\n",
       "      <td>...</td>\n",
       "      <td>NaN</td>\n",
       "      <td>NaN</td>\n",
       "      <td>NaN</td>\n",
       "      <td>NaN</td>\n",
       "      <td>NaN</td>\n",
       "      <td>NaN</td>\n",
       "      <td>NaN</td>\n",
       "      <td>NaN</td>\n",
       "      <td>NaN</td>\n",
       "      <td>NaN</td>\n",
       "    </tr>\n",
       "    <tr>\n",
       "      <th>0</th>\n",
       "      <td>2</td>\n",
       "      <td>2b51afa0cb0a544c054f51b32904ea49</td>\n",
       "      <td>{\"cutoff\": \"quantile_0.25\", \"eval_fairness_gro...</td>\n",
       "      <td>36.022687</td>\n",
       "      <td>89710</td>\n",
       "      <td>1.0</td>\n",
       "      <td>0.074875</td>\n",
       "      <td>0.921139</td>\n",
       "      <td>0.031666</td>\n",
       "      <td>0.958390</td>\n",
       "      <td>...</td>\n",
       "      <td>0.138242</td>\n",
       "      <td>0.164856</td>\n",
       "      <td>0.710434</td>\n",
       "      <td>0.732334</td>\n",
       "      <td>0.125422</td>\n",
       "      <td>0.050547</td>\n",
       "      <td>0.729357</td>\n",
       "      <td>0.761024</td>\n",
       "      <td>20540.0</td>\n",
       "      <td>69170.0</td>\n",
       "    </tr>\n",
       "  </tbody>\n",
       "</table>\n",
       "<p>4 rows × 50 columns</p>\n",
       "</div>"
      ],
      "text/plain": [
       "  run_no                       universe_id  \\\n",
       "0      2  2b51afa0cb0a544c054f51b32904ea49   \n",
       "0      2  2b51afa0cb0a544c054f51b32904ea49   \n",
       "0      2  2b51afa0cb0a544c054f51b32904ea49   \n",
       "0      2  2b51afa0cb0a544c054f51b32904ea49   \n",
       "\n",
       "                                   universe_settings  execution_time  \\\n",
       "0  {\"cutoff\": \"quantile_0.1\", \"eval_fairness_grou...       36.022687   \n",
       "0  {\"cutoff\": \"quantile_0.1\", \"eval_fairness_grou...       36.022687   \n",
       "0  {\"cutoff\": \"quantile_0.25\", \"eval_fairness_gro...       36.022687   \n",
       "0  {\"cutoff\": \"quantile_0.25\", \"eval_fairness_gro...       36.022687   \n",
       "\n",
       "   test_size_n  test_size_frac  fair_main_equalized_odds_difference  \\\n",
       "0        89710             1.0                             0.046428   \n",
       "0        89710             1.0                             0.046428   \n",
       "0        89710             1.0                             0.074875   \n",
       "0        89710             1.0                             0.074875   \n",
       "\n",
       "   fair_main_equalized_odds_ratio  fair_main_demographic_parity_difference  \\\n",
       "0                        0.949545                                 0.047452   \n",
       "0                        0.949545                                 0.047452   \n",
       "0                        0.921139                                 0.031666   \n",
       "0                        0.921139                                 0.031666   \n",
       "\n",
       "   fair_main_demographic_parity_ratio  ...  perf_grp_precision_0  \\\n",
       "0                            0.948951  ...                   NaN   \n",
       "0                            0.948951  ...              0.123634   \n",
       "0                            0.958390  ...                   NaN   \n",
       "0                            0.958390  ...              0.138242   \n",
       "\n",
       "   perf_grp_precision_1  perf_grp_false positive rate_0  \\\n",
       "0                   NaN                             NaN   \n",
       "0              0.140864                        0.873762   \n",
       "0                   NaN                             NaN   \n",
       "0              0.164856                        0.710434   \n",
       "\n",
       "   perf_grp_false positive rate_1  perf_grp_false negative rate_0  \\\n",
       "0                             NaN                             NaN   \n",
       "0                        0.920190                        0.054054   \n",
       "0                             NaN                             NaN   \n",
       "0                        0.732334                        0.125422   \n",
       "\n",
       "   perf_grp_false negative rate_1  perf_grp_selection rate_0  \\\n",
       "0                             NaN                        NaN   \n",
       "0                        0.009081                   0.882084   \n",
       "0                             NaN                        NaN   \n",
       "0                        0.050547                   0.729357   \n",
       "\n",
       "   perf_grp_selection rate_1  perf_grp_count_0  perf_grp_count_1  \n",
       "0                        NaN               NaN               NaN  \n",
       "0                   0.929536           20540.0           69170.0  \n",
       "0                        NaN               NaN               NaN  \n",
       "0                   0.761024           20540.0           69170.0  \n",
       "\n",
       "[4 rows x 50 columns]"
      ]
     },
     "execution_count": 64,
     "metadata": {},
     "output_type": "execute_result"
    }
   ],
   "source": [
    "final_output = universe_analysis.generate_final_output(\n",
    "    y_pred_prob=probs_test,\n",
    "    y_test=y_true,\n",
    "    org_test=org_test,\n",
    "    filter_data=filter_sub_universe_data,\n",
    "    cp_metrics_df=cp_metrics_df,\n",
    "    save=True,\n",
    ")\n",
    "final_output"
   ]
  },
  {
   "cell_type": "code",
   "execution_count": null,
   "id": "571f9a0f-660a-4841-b661-b06fbc637944",
   "metadata": {
    "papermill": {
     "duration": 0.015155,
     "end_time": "2025-08-19T17:04:00.259963",
     "exception": false,
     "start_time": "2025-08-19T17:04:00.244808",
     "status": "completed"
    },
    "tags": []
   },
   "outputs": [],
   "source": []
  },
  {
   "cell_type": "code",
   "execution_count": null,
   "id": "529482e3-0150-4854-a92d-ab864efc606e",
   "metadata": {
    "papermill": {
     "duration": 0.014047,
     "end_time": "2025-08-19T17:04:00.288265",
     "exception": false,
     "start_time": "2025-08-19T17:04:00.274218",
     "status": "completed"
    },
    "tags": []
   },
   "outputs": [],
   "source": []
  }
 ],
 "metadata": {
  "celltoolbar": "Tags",
  "kernelspec": {
   "display_name": "Python (CMA Fairness)",
   "language": "python",
   "name": "cma_fair_env"
  },
  "language_info": {
   "codemirror_mode": {
    "name": "ipython",
    "version": 3
   },
   "file_extension": ".py",
   "mimetype": "text/x-python",
   "name": "python",
   "nbconvert_exporter": "python",
   "pygments_lexer": "ipython3",
   "version": "3.10.12"
  },
  "papermill": {
   "default_parameters": {},
   "duration": 46.254183,
   "end_time": "2025-08-19T17:04:01.026652",
   "environment_variables": {},
   "exception": null,
   "input_path": "universe_analysis.ipynb",
   "output_path": "output/runs/2/notebooks/m_2-2b51afa0cb0a544c054f51b32904ea49.ipynb",
   "parameters": {
    "output_dir": "output",
    "run_no": "2",
    "seed": "2023",
    "universe": "{\"cutoff\": [\"quantile_0.1\", \"quantile_0.25\"], \"eval_fairness_grouping\": [\"majority-minority\", \"nationality-all\"], \"exclude_features\": \"nationality-sex\", \"exclude_subgroups\": \"drop-non-german\", \"model\": \"rf\", \"scale\": \"do-not-scale\", \"training_size\": \"25k\", \"training_year\": \"2014\"}",
    "universe_id": "2b51afa0cb0a544c054f51b32904ea49"
   },
   "start_time": "2025-08-19T17:03:14.772469",
   "version": "2.6.0"
  }
 },
 "nbformat": 4,
 "nbformat_minor": 5
}