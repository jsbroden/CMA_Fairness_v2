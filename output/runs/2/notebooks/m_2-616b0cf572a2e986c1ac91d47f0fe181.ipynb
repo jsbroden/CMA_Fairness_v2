{
 "cells": [
  {
   "cell_type": "markdown",
   "id": "b2057076-3a91-4cfa-9bfd-eab1e61b3068",
   "metadata": {
    "papermill": {
     "duration": 0.009475,
     "end_time": "2025-08-19T17:17:29.982851",
     "exception": false,
     "start_time": "2025-08-19T17:17:29.973376",
     "status": "completed"
    },
    "tags": []
   },
   "source": [
    "# Setup"
   ]
  },
  {
   "cell_type": "code",
   "execution_count": 1,
   "id": "f159f837-637b-42ba-96b5-ec9a68c44524",
   "metadata": {
    "execution": {
     "iopub.execute_input": "2025-08-19T17:17:30.003409Z",
     "iopub.status.busy": "2025-08-19T17:17:30.002839Z",
     "iopub.status.idle": "2025-08-19T17:17:30.020097Z",
     "shell.execute_reply": "2025-08-19T17:17:30.018985Z"
    },
    "papermill": {
     "duration": 0.030095,
     "end_time": "2025-08-19T17:17:30.022246",
     "exception": false,
     "start_time": "2025-08-19T17:17:29.992151",
     "status": "completed"
    },
    "tags": []
   },
   "outputs": [
    {
     "name": "stdout",
     "output_type": "stream",
     "text": [
      "/dss/dsshome1/0C/ra93lal2/cma/CMA_Fairness_v2\n"
     ]
    },
    {
     "name": "stderr",
     "output_type": "stream",
     "text": [
      "/dss/dsshome1/0C/ra93lal2/.local/share/virtualenvs/CMA_Fairness_v2-3j10GkSs/lib/python3.10/site-packages/IPython/core/magics/osm.py:393: UserWarning: This is now an optional IPython functionality, using bookmarks requires you to install the `pickleshare` library.\n",
      "  bkms = self.shell.db.get('bookmarks', {})\n",
      "/dss/dsshome1/0C/ra93lal2/.local/share/virtualenvs/CMA_Fairness_v2-3j10GkSs/lib/python3.10/site-packages/IPython/core/magics/osm.py:417: UserWarning: This is now an optional IPython functionality, setting dhist requires you to install the `pickleshare` library.\n",
      "  self.shell.db['dhist'] = compress_dhist(dhist)[-100:]\n"
     ]
    }
   ],
   "source": [
    "%cd ~/cma/CMA_Fairness_v2"
   ]
  },
  {
   "cell_type": "markdown",
   "id": "de2603b9",
   "metadata": {
    "papermill": {
     "duration": 0.009594,
     "end_time": "2025-08-19T17:17:30.042780",
     "exception": false,
     "start_time": "2025-08-19T17:17:30.033186",
     "status": "completed"
    },
    "tags": []
   },
   "source": [
    "The following cell holds the definition of our parameters, these values can be overriden by rendering the with e.g. the following command:\n",
    "\n",
    "papermill -p alpha 0.2 -p ratio 0.3 universe_analysis.ipynb output/test_run.ipynb"
   ]
  },
  {
   "cell_type": "code",
   "execution_count": 2,
   "id": "a80968a0-40bb-4fa9-85ef-2d5eefb01975",
   "metadata": {
    "execution": {
     "iopub.execute_input": "2025-08-19T17:17:30.063060Z",
     "iopub.status.busy": "2025-08-19T17:17:30.062743Z",
     "iopub.status.idle": "2025-08-19T17:17:30.067859Z",
     "shell.execute_reply": "2025-08-19T17:17:30.066926Z"
    },
    "papermill": {
     "duration": 0.017743,
     "end_time": "2025-08-19T17:17:30.069720",
     "exception": false,
     "start_time": "2025-08-19T17:17:30.051977",
     "status": "completed"
    },
    "tags": []
   },
   "outputs": [
    {
     "name": "stdout",
     "output_type": "stream",
     "text": [
      "Current working directory: /dss/dsshome1/0C/ra93lal2/cma/CMA_Fairness_v2\n"
     ]
    }
   ],
   "source": [
    "import os\n",
    "print(\"Current working directory:\", os.getcwd())"
   ]
  },
  {
   "cell_type": "code",
   "execution_count": 3,
   "id": "2dce4c03",
   "metadata": {
    "execution": {
     "iopub.execute_input": "2025-08-19T17:17:30.090256Z",
     "iopub.status.busy": "2025-08-19T17:17:30.089957Z",
     "iopub.status.idle": "2025-08-19T17:17:30.095107Z",
     "shell.execute_reply": "2025-08-19T17:17:30.094235Z"
    },
    "papermill": {
     "duration": 0.017869,
     "end_time": "2025-08-19T17:17:30.097160",
     "exception": false,
     "start_time": "2025-08-19T17:17:30.079291",
     "status": "completed"
    },
    "tags": [
     "parameters"
    ]
   },
   "outputs": [],
   "source": [
    "run_no = 0\n",
    "universe_id = \"test\"\n",
    "universe = {\n",
    "    \"training_size\": \"5k\", # \"25k\", \"5k\", \"1k\"\n",
    "    \"training_year\": \"2012_14\", # \"2014\", \"2012_14\", \"2010_14\"\n",
    "    \"scale\": \"scale\", # \"scale\", \"do-not-scale\",\n",
    "    \"model\": \"elasticnet\", # \"logreg\", \"penalized_logreg\", \"rf\", \"gbm\", \"elasticnet\"\n",
    "    \"cutoff\": [\"quantile_0.15\", \"quantile_0.30\"],\n",
    "    \"exclude_features\": \"age\", # \"none\", \"nationality\", \"sex\", \"nationality-sex\", \"age\"\n",
    "    \"exclude_subgroups\": \"drop-non-german\", # \"keep-all\", \"drop-non-german\"\n",
    "    \"eval_fairness_grouping\": [\"majority-minority\", \"nationality-all\"]\n",
    "}\n",
    "\n",
    "output_dir=\"./output\"\n",
    "seed=0"
   ]
  },
  {
   "cell_type": "code",
   "execution_count": 4,
   "id": "b2661468",
   "metadata": {
    "execution": {
     "iopub.execute_input": "2025-08-19T17:17:30.117959Z",
     "iopub.status.busy": "2025-08-19T17:17:30.117655Z",
     "iopub.status.idle": "2025-08-19T17:17:30.122197Z",
     "shell.execute_reply": "2025-08-19T17:17:30.121345Z"
    },
    "papermill": {
     "duration": 0.017131,
     "end_time": "2025-08-19T17:17:30.124138",
     "exception": false,
     "start_time": "2025-08-19T17:17:30.107007",
     "status": "completed"
    },
    "tags": [
     "injected-parameters"
    ]
   },
   "outputs": [],
   "source": [
    "# Parameters\n",
    "universe_id = \"616b0cf572a2e986c1ac91d47f0fe181\"\n",
    "run_no = \"2\"\n",
    "universe = \"{\\\"cutoff\\\": [\\\"quantile_0.1\\\", \\\"quantile_0.25\\\"], \\\"eval_fairness_grouping\\\": [\\\"majority-minority\\\", \\\"nationality-all\\\"], \\\"exclude_features\\\": \\\"sex\\\", \\\"exclude_subgroups\\\": \\\"drop-non-german\\\", \\\"model\\\": \\\"rf\\\", \\\"scale\\\": \\\"scale\\\", \\\"training_size\\\": \\\"25k\\\", \\\"training_year\\\": \\\"2010_14\\\"}\"\n",
    "output_dir = \"output\"\n",
    "seed = \"2023\"\n"
   ]
  },
  {
   "cell_type": "code",
   "execution_count": 5,
   "id": "1650acaf",
   "metadata": {
    "execution": {
     "iopub.execute_input": "2025-08-19T17:17:30.145314Z",
     "iopub.status.busy": "2025-08-19T17:17:30.144350Z",
     "iopub.status.idle": "2025-08-19T17:17:30.148766Z",
     "shell.execute_reply": "2025-08-19T17:17:30.147967Z"
    },
    "papermill": {
     "duration": 0.016556,
     "end_time": "2025-08-19T17:17:30.150321",
     "exception": false,
     "start_time": "2025-08-19T17:17:30.133765",
     "status": "completed"
    },
    "tags": []
   },
   "outputs": [],
   "source": [
    "import json\n",
    "if isinstance(universe, str):\n",
    "    universe = json.loads(universe)"
   ]
  },
  {
   "cell_type": "code",
   "execution_count": 6,
   "id": "16620c48",
   "metadata": {
    "execution": {
     "iopub.execute_input": "2025-08-19T17:17:30.170660Z",
     "iopub.status.busy": "2025-08-19T17:17:30.170259Z",
     "iopub.status.idle": "2025-08-19T17:17:30.208704Z",
     "shell.execute_reply": "2025-08-19T17:17:30.207605Z"
    },
    "papermill": {
     "duration": 0.050526,
     "end_time": "2025-08-19T17:17:30.210430",
     "exception": false,
     "start_time": "2025-08-19T17:17:30.159904",
     "status": "completed"
    },
    "tags": []
   },
   "outputs": [],
   "source": [
    "# Auto-reload the custom package\n",
    "%load_ext autoreload\n",
    "%autoreload 1\n",
    "%aimport fairness_multiverse"
   ]
  },
  {
   "cell_type": "code",
   "execution_count": 7,
   "id": "01c5c9f3",
   "metadata": {
    "execution": {
     "iopub.execute_input": "2025-08-19T17:17:30.232933Z",
     "iopub.status.busy": "2025-08-19T17:17:30.232562Z",
     "iopub.status.idle": "2025-08-19T17:17:31.847313Z",
     "shell.execute_reply": "2025-08-19T17:17:31.845713Z"
    },
    "papermill": {
     "duration": 1.627982,
     "end_time": "2025-08-19T17:17:31.849473",
     "exception": false,
     "start_time": "2025-08-19T17:17:30.221491",
     "status": "completed"
    },
    "tags": []
   },
   "outputs": [],
   "source": [
    "from fairness_multiverse.universe import UniverseAnalysis\n",
    "\n",
    "universe_analysis = UniverseAnalysis(\n",
    "    run_no = run_no,\n",
    "    universe_id = universe_id,\n",
    "    universe = universe,\n",
    "    output_dir=output_dir,\n",
    ")"
   ]
  },
  {
   "cell_type": "code",
   "execution_count": 8,
   "id": "106241f5",
   "metadata": {
    "execution": {
     "iopub.execute_input": "2025-08-19T17:17:31.871741Z",
     "iopub.status.busy": "2025-08-19T17:17:31.871271Z",
     "iopub.status.idle": "2025-08-19T17:17:31.880068Z",
     "shell.execute_reply": "2025-08-19T17:17:31.878760Z"
    },
    "papermill": {
     "duration": 0.02153,
     "end_time": "2025-08-19T17:17:31.881544",
     "exception": false,
     "start_time": "2025-08-19T17:17:31.860014",
     "status": "completed"
    },
    "tags": []
   },
   "outputs": [
    {
     "name": "stdout",
     "output_type": "stream",
     "text": [
      "Using Seed: 2023\n"
     ]
    }
   ],
   "source": [
    "import numpy as np\n",
    "parsed_seed = int(seed)\n",
    "np.random.seed(parsed_seed)\n",
    "print(f\"Using Seed: {parsed_seed}\")"
   ]
  },
  {
   "cell_type": "markdown",
   "id": "e0ebdc57",
   "metadata": {
    "papermill": {
     "duration": 0.009677,
     "end_time": "2025-08-19T17:17:31.901034",
     "exception": false,
     "start_time": "2025-08-19T17:17:31.891357",
     "status": "completed"
    },
    "tags": []
   },
   "source": [
    "# Loading Data"
   ]
  },
  {
   "cell_type": "code",
   "execution_count": 9,
   "id": "f0496b8a",
   "metadata": {
    "execution": {
     "iopub.execute_input": "2025-08-19T17:17:31.921442Z",
     "iopub.status.busy": "2025-08-19T17:17:31.921041Z",
     "iopub.status.idle": "2025-08-19T17:17:42.648196Z",
     "shell.execute_reply": "2025-08-19T17:17:42.646364Z"
    },
    "papermill": {
     "duration": 10.739274,
     "end_time": "2025-08-19T17:17:42.649893",
     "exception": false,
     "start_time": "2025-08-19T17:17:31.910619",
     "status": "completed"
    },
    "tags": []
   },
   "outputs": [
    {
     "name": "stdout",
     "output_type": "stream",
     "text": [
      "Loading SIAB data from cache: data/siab_cached.csv.gz\n"
     ]
    },
    {
     "name": "stdout",
     "output_type": "stream",
     "text": [
      "(643690, 164)\n"
     ]
    }
   ],
   "source": [
    "from pathlib import Path\n",
    "import pandas as pd\n",
    "\n",
    "# File paths\n",
    "raw_file = Path(\"data/raw/siab.csv\")\n",
    "cache_file = Path(\"data/siab_cached.csv.gz\")\n",
    "\n",
    "# Ensure cache directory exists\n",
    "cache_file.parent.mkdir(parents=True, exist_ok=True)\n",
    "\n",
    "# Load with simple caching\n",
    "if cache_file.exists():\n",
    "    print(f\"Loading SIAB data from cache: {cache_file}\")\n",
    "    siab = pd.read_csv(cache_file, compression='gzip')\n",
    "else:\n",
    "    print(f\"Cache not found. Reading raw SIAB data: {raw_file}\")\n",
    "    siab = pd.read_csv(raw_file)\n",
    "    siab.to_csv(cache_file, index=False, compression='gzip')\n",
    "    print(f\"Cached SIAB data to: {cache_file}\")\n",
    "\n",
    "print(siab.shape)"
   ]
  },
  {
   "cell_type": "code",
   "execution_count": 10,
   "id": "db0ca512-5f53-4dba-abdb-a2888bca41ba",
   "metadata": {
    "execution": {
     "iopub.execute_input": "2025-08-19T17:17:42.685059Z",
     "iopub.status.busy": "2025-08-19T17:17:42.674449Z",
     "iopub.status.idle": "2025-08-19T17:17:42.986954Z",
     "shell.execute_reply": "2025-08-19T17:17:42.985195Z"
    },
    "papermill": {
     "duration": 0.326047,
     "end_time": "2025-08-19T17:17:42.988621",
     "exception": false,
     "start_time": "2025-08-19T17:17:42.662574",
     "status": "completed"
    },
    "tags": []
   },
   "outputs": [
    {
     "data": {
      "text/html": [
       "<div>\n",
       "<style scoped>\n",
       "    .dataframe tbody tr th:only-of-type {\n",
       "        vertical-align: middle;\n",
       "    }\n",
       "\n",
       "    .dataframe tbody tr th {\n",
       "        vertical-align: top;\n",
       "    }\n",
       "\n",
       "    .dataframe thead th {\n",
       "        text-align: right;\n",
       "    }\n",
       "</style>\n",
       "<table border=\"1\" class=\"dataframe\">\n",
       "  <thead>\n",
       "    <tr style=\"text-align: right;\">\n",
       "      <th></th>\n",
       "      <th>persnr</th>\n",
       "      <th>year</th>\n",
       "      <th>nrEntry</th>\n",
       "      <th>ltue</th>\n",
       "      <th>employed_before</th>\n",
       "      <th>receipt_leh_before</th>\n",
       "      <th>receipt_lhg_before</th>\n",
       "      <th>se_before</th>\n",
       "      <th>ASU_notue_seeking_before</th>\n",
       "      <th>ASU_other_before</th>\n",
       "      <th>...</th>\n",
       "      <th>minijob_tot_dur_byage</th>\n",
       "      <th>ft_tot_dur_byage</th>\n",
       "      <th>befrist_tot_dur_byage</th>\n",
       "      <th>leih_tot_dur_byage</th>\n",
       "      <th>LHG_tot_dur_byage</th>\n",
       "      <th>LEH_tot_dur_byage</th>\n",
       "      <th>almp_tot_dur_byage</th>\n",
       "      <th>almp_aw_tot_dur_byage</th>\n",
       "      <th>se_tot_dur_byage</th>\n",
       "      <th>seeking1_tot_dur_byage</th>\n",
       "    </tr>\n",
       "  </thead>\n",
       "  <tbody>\n",
       "    <tr>\n",
       "      <th>0</th>\n",
       "      <td>7</td>\n",
       "      <td>2015</td>\n",
       "      <td>1</td>\n",
       "      <td>0</td>\n",
       "      <td>1</td>\n",
       "      <td>0</td>\n",
       "      <td>0</td>\n",
       "      <td>0</td>\n",
       "      <td>1</td>\n",
       "      <td>0</td>\n",
       "      <td>...</td>\n",
       "      <td>0.000000</td>\n",
       "      <td>0.000000</td>\n",
       "      <td>15.043478</td>\n",
       "      <td>0.000000</td>\n",
       "      <td>0.000000</td>\n",
       "      <td>0.000000</td>\n",
       "      <td>0.000000</td>\n",
       "      <td>0.000000</td>\n",
       "      <td>0.000000</td>\n",
       "      <td>0.000000</td>\n",
       "    </tr>\n",
       "    <tr>\n",
       "      <th>1</th>\n",
       "      <td>18</td>\n",
       "      <td>2010</td>\n",
       "      <td>1</td>\n",
       "      <td>1</td>\n",
       "      <td>0</td>\n",
       "      <td>0</td>\n",
       "      <td>0</td>\n",
       "      <td>0</td>\n",
       "      <td>0</td>\n",
       "      <td>0</td>\n",
       "      <td>...</td>\n",
       "      <td>0.000000</td>\n",
       "      <td>0.000000</td>\n",
       "      <td>0.000000</td>\n",
       "      <td>0.000000</td>\n",
       "      <td>0.000000</td>\n",
       "      <td>0.000000</td>\n",
       "      <td>0.000000</td>\n",
       "      <td>0.000000</td>\n",
       "      <td>0.000000</td>\n",
       "      <td>0.000000</td>\n",
       "    </tr>\n",
       "    <tr>\n",
       "      <th>2</th>\n",
       "      <td>18</td>\n",
       "      <td>2011</td>\n",
       "      <td>2</td>\n",
       "      <td>0</td>\n",
       "      <td>1</td>\n",
       "      <td>0</td>\n",
       "      <td>1</td>\n",
       "      <td>0</td>\n",
       "      <td>1</td>\n",
       "      <td>0</td>\n",
       "      <td>...</td>\n",
       "      <td>2.714286</td>\n",
       "      <td>2.714286</td>\n",
       "      <td>0.000000</td>\n",
       "      <td>0.000000</td>\n",
       "      <td>10.775510</td>\n",
       "      <td>0.000000</td>\n",
       "      <td>8.367347</td>\n",
       "      <td>0.000000</td>\n",
       "      <td>0.000000</td>\n",
       "      <td>9.836735</td>\n",
       "    </tr>\n",
       "    <tr>\n",
       "      <th>3</th>\n",
       "      <td>18</td>\n",
       "      <td>2012</td>\n",
       "      <td>3</td>\n",
       "      <td>0</td>\n",
       "      <td>1</td>\n",
       "      <td>0</td>\n",
       "      <td>1</td>\n",
       "      <td>0</td>\n",
       "      <td>1</td>\n",
       "      <td>0</td>\n",
       "      <td>...</td>\n",
       "      <td>4.200000</td>\n",
       "      <td>4.200000</td>\n",
       "      <td>0.000000</td>\n",
       "      <td>0.000000</td>\n",
       "      <td>12.100000</td>\n",
       "      <td>0.000000</td>\n",
       "      <td>9.400000</td>\n",
       "      <td>0.000000</td>\n",
       "      <td>0.000000</td>\n",
       "      <td>9.960000</td>\n",
       "    </tr>\n",
       "    <tr>\n",
       "      <th>4</th>\n",
       "      <td>18</td>\n",
       "      <td>2012</td>\n",
       "      <td>4</td>\n",
       "      <td>0</td>\n",
       "      <td>1</td>\n",
       "      <td>0</td>\n",
       "      <td>1</td>\n",
       "      <td>0</td>\n",
       "      <td>1</td>\n",
       "      <td>0</td>\n",
       "      <td>...</td>\n",
       "      <td>5.460000</td>\n",
       "      <td>5.460000</td>\n",
       "      <td>0.000000</td>\n",
       "      <td>0.000000</td>\n",
       "      <td>13.360000</td>\n",
       "      <td>0.000000</td>\n",
       "      <td>10.320000</td>\n",
       "      <td>0.000000</td>\n",
       "      <td>0.000000</td>\n",
       "      <td>10.280000</td>\n",
       "    </tr>\n",
       "    <tr>\n",
       "      <th>...</th>\n",
       "      <td>...</td>\n",
       "      <td>...</td>\n",
       "      <td>...</td>\n",
       "      <td>...</td>\n",
       "      <td>...</td>\n",
       "      <td>...</td>\n",
       "      <td>...</td>\n",
       "      <td>...</td>\n",
       "      <td>...</td>\n",
       "      <td>...</td>\n",
       "      <td>...</td>\n",
       "      <td>...</td>\n",
       "      <td>...</td>\n",
       "      <td>...</td>\n",
       "      <td>...</td>\n",
       "      <td>...</td>\n",
       "      <td>...</td>\n",
       "      <td>...</td>\n",
       "      <td>...</td>\n",
       "      <td>...</td>\n",
       "      <td>...</td>\n",
       "    </tr>\n",
       "    <tr>\n",
       "      <th>643685</th>\n",
       "      <td>1827860</td>\n",
       "      <td>2013</td>\n",
       "      <td>1</td>\n",
       "      <td>0</td>\n",
       "      <td>0</td>\n",
       "      <td>0</td>\n",
       "      <td>1</td>\n",
       "      <td>0</td>\n",
       "      <td>0</td>\n",
       "      <td>1</td>\n",
       "      <td>...</td>\n",
       "      <td>0.000000</td>\n",
       "      <td>0.000000</td>\n",
       "      <td>0.000000</td>\n",
       "      <td>0.000000</td>\n",
       "      <td>0.612903</td>\n",
       "      <td>0.000000</td>\n",
       "      <td>0.000000</td>\n",
       "      <td>0.000000</td>\n",
       "      <td>0.000000</td>\n",
       "      <td>0.000000</td>\n",
       "    </tr>\n",
       "    <tr>\n",
       "      <th>643686</th>\n",
       "      <td>1827860</td>\n",
       "      <td>2015</td>\n",
       "      <td>2</td>\n",
       "      <td>1</td>\n",
       "      <td>0</td>\n",
       "      <td>0</td>\n",
       "      <td>1</td>\n",
       "      <td>0</td>\n",
       "      <td>1</td>\n",
       "      <td>0</td>\n",
       "      <td>...</td>\n",
       "      <td>0.000000</td>\n",
       "      <td>0.000000</td>\n",
       "      <td>0.212121</td>\n",
       "      <td>0.212121</td>\n",
       "      <td>17.363636</td>\n",
       "      <td>0.000000</td>\n",
       "      <td>8.909091</td>\n",
       "      <td>0.000000</td>\n",
       "      <td>0.000000</td>\n",
       "      <td>7.121212</td>\n",
       "    </tr>\n",
       "    <tr>\n",
       "      <th>643687</th>\n",
       "      <td>1827860</td>\n",
       "      <td>2016</td>\n",
       "      <td>3</td>\n",
       "      <td>1</td>\n",
       "      <td>0</td>\n",
       "      <td>0</td>\n",
       "      <td>1</td>\n",
       "      <td>1</td>\n",
       "      <td>0</td>\n",
       "      <td>1</td>\n",
       "      <td>...</td>\n",
       "      <td>0.000000</td>\n",
       "      <td>0.000000</td>\n",
       "      <td>0.294118</td>\n",
       "      <td>0.205882</td>\n",
       "      <td>34.705882</td>\n",
       "      <td>0.000000</td>\n",
       "      <td>10.352941</td>\n",
       "      <td>1.705882</td>\n",
       "      <td>1.705882</td>\n",
       "      <td>23.911765</td>\n",
       "    </tr>\n",
       "    <tr>\n",
       "      <th>643688</th>\n",
       "      <td>1827869</td>\n",
       "      <td>2013</td>\n",
       "      <td>1</td>\n",
       "      <td>1</td>\n",
       "      <td>1</td>\n",
       "      <td>0</td>\n",
       "      <td>0</td>\n",
       "      <td>0</td>\n",
       "      <td>1</td>\n",
       "      <td>0</td>\n",
       "      <td>...</td>\n",
       "      <td>0.000000</td>\n",
       "      <td>0.000000</td>\n",
       "      <td>0.000000</td>\n",
       "      <td>0.000000</td>\n",
       "      <td>0.000000</td>\n",
       "      <td>0.525424</td>\n",
       "      <td>0.000000</td>\n",
       "      <td>0.000000</td>\n",
       "      <td>0.000000</td>\n",
       "      <td>0.000000</td>\n",
       "    </tr>\n",
       "    <tr>\n",
       "      <th>643689</th>\n",
       "      <td>1827869</td>\n",
       "      <td>2014</td>\n",
       "      <td>2</td>\n",
       "      <td>0</td>\n",
       "      <td>0</td>\n",
       "      <td>1</td>\n",
       "      <td>0</td>\n",
       "      <td>0</td>\n",
       "      <td>1</td>\n",
       "      <td>0</td>\n",
       "      <td>...</td>\n",
       "      <td>0.000000</td>\n",
       "      <td>0.666667</td>\n",
       "      <td>0.666667</td>\n",
       "      <td>0.000000</td>\n",
       "      <td>0.000000</td>\n",
       "      <td>8.950000</td>\n",
       "      <td>1.033333</td>\n",
       "      <td>0.083333</td>\n",
       "      <td>0.083333</td>\n",
       "      <td>8.133333</td>\n",
       "    </tr>\n",
       "  </tbody>\n",
       "</table>\n",
       "<p>643690 rows × 164 columns</p>\n",
       "</div>"
      ],
      "text/plain": [
       "         persnr  year  nrEntry  ltue  employed_before  receipt_leh_before  \\\n",
       "0             7  2015        1     0                1                   0   \n",
       "1            18  2010        1     1                0                   0   \n",
       "2            18  2011        2     0                1                   0   \n",
       "3            18  2012        3     0                1                   0   \n",
       "4            18  2012        4     0                1                   0   \n",
       "...         ...   ...      ...   ...              ...                 ...   \n",
       "643685  1827860  2013        1     0                0                   0   \n",
       "643686  1827860  2015        2     1                0                   0   \n",
       "643687  1827860  2016        3     1                0                   0   \n",
       "643688  1827869  2013        1     1                1                   0   \n",
       "643689  1827869  2014        2     0                0                   1   \n",
       "\n",
       "        receipt_lhg_before  se_before  ASU_notue_seeking_before  \\\n",
       "0                        0          0                         1   \n",
       "1                        0          0                         0   \n",
       "2                        1          0                         1   \n",
       "3                        1          0                         1   \n",
       "4                        1          0                         1   \n",
       "...                    ...        ...                       ...   \n",
       "643685                   1          0                         0   \n",
       "643686                   1          0                         1   \n",
       "643687                   1          1                         0   \n",
       "643688                   0          0                         1   \n",
       "643689                   0          0                         1   \n",
       "\n",
       "        ASU_other_before  ...  minijob_tot_dur_byage  ft_tot_dur_byage  \\\n",
       "0                      0  ...               0.000000          0.000000   \n",
       "1                      0  ...               0.000000          0.000000   \n",
       "2                      0  ...               2.714286          2.714286   \n",
       "3                      0  ...               4.200000          4.200000   \n",
       "4                      0  ...               5.460000          5.460000   \n",
       "...                  ...  ...                    ...               ...   \n",
       "643685                 1  ...               0.000000          0.000000   \n",
       "643686                 0  ...               0.000000          0.000000   \n",
       "643687                 1  ...               0.000000          0.000000   \n",
       "643688                 0  ...               0.000000          0.000000   \n",
       "643689                 0  ...               0.000000          0.666667   \n",
       "\n",
       "        befrist_tot_dur_byage  leih_tot_dur_byage  LHG_tot_dur_byage  \\\n",
       "0                   15.043478            0.000000           0.000000   \n",
       "1                    0.000000            0.000000           0.000000   \n",
       "2                    0.000000            0.000000          10.775510   \n",
       "3                    0.000000            0.000000          12.100000   \n",
       "4                    0.000000            0.000000          13.360000   \n",
       "...                       ...                 ...                ...   \n",
       "643685               0.000000            0.000000           0.612903   \n",
       "643686               0.212121            0.212121          17.363636   \n",
       "643687               0.294118            0.205882          34.705882   \n",
       "643688               0.000000            0.000000           0.000000   \n",
       "643689               0.666667            0.000000           0.000000   \n",
       "\n",
       "        LEH_tot_dur_byage  almp_tot_dur_byage  almp_aw_tot_dur_byage  \\\n",
       "0                0.000000            0.000000               0.000000   \n",
       "1                0.000000            0.000000               0.000000   \n",
       "2                0.000000            8.367347               0.000000   \n",
       "3                0.000000            9.400000               0.000000   \n",
       "4                0.000000           10.320000               0.000000   \n",
       "...                   ...                 ...                    ...   \n",
       "643685           0.000000            0.000000               0.000000   \n",
       "643686           0.000000            8.909091               0.000000   \n",
       "643687           0.000000           10.352941               1.705882   \n",
       "643688           0.525424            0.000000               0.000000   \n",
       "643689           8.950000            1.033333               0.083333   \n",
       "\n",
       "        se_tot_dur_byage  seeking1_tot_dur_byage  \n",
       "0               0.000000                0.000000  \n",
       "1               0.000000                0.000000  \n",
       "2               0.000000                9.836735  \n",
       "3               0.000000                9.960000  \n",
       "4               0.000000               10.280000  \n",
       "...                  ...                     ...  \n",
       "643685          0.000000                0.000000  \n",
       "643686          0.000000                7.121212  \n",
       "643687          1.705882               23.911765  \n",
       "643688          0.000000                0.000000  \n",
       "643689          0.083333                8.133333  \n",
       "\n",
       "[643690 rows x 164 columns]"
      ]
     },
     "execution_count": 10,
     "metadata": {},
     "output_type": "execute_result"
    }
   ],
   "source": [
    "siab"
   ]
  },
  {
   "cell_type": "markdown",
   "id": "997051c5-15bd-4b69-9786-c3001a3ce484",
   "metadata": {
    "papermill": {
     "duration": 0.010088,
     "end_time": "2025-08-19T17:17:43.009415",
     "exception": false,
     "start_time": "2025-08-19T17:17:42.999327",
     "status": "completed"
    },
    "tags": []
   },
   "source": [
    "# Splitting Data and Setting Training Data Size"
   ]
  },
  {
   "cell_type": "code",
   "execution_count": 11,
   "id": "aea9c6ef-6f46-42c8-85eb-5a62025c1508",
   "metadata": {
    "execution": {
     "iopub.execute_input": "2025-08-19T17:17:43.033554Z",
     "iopub.status.busy": "2025-08-19T17:17:43.033196Z",
     "iopub.status.idle": "2025-08-19T17:17:44.336768Z",
     "shell.execute_reply": "2025-08-19T17:17:44.335290Z"
    },
    "papermill": {
     "duration": 1.318999,
     "end_time": "2025-08-19T17:17:44.338700",
     "exception": false,
     "start_time": "2025-08-19T17:17:43.019701",
     "status": "completed"
    },
    "tags": []
   },
   "outputs": [],
   "source": [
    "from fairness_multiverse.universe import sample_by_year_size\n",
    "\n",
    "siab_train = sample_by_year_size(siab,\n",
    "                               training_year=universe[\"training_year\"],\n",
    "                               training_size=universe[\"training_size\"])"
   ]
  },
  {
   "cell_type": "code",
   "execution_count": 12,
   "id": "8d3afb32-789d-442c-8d5d-9f5aa8dd2eed",
   "metadata": {
    "execution": {
     "iopub.execute_input": "2025-08-19T17:17:44.382589Z",
     "iopub.status.busy": "2025-08-19T17:17:44.381195Z",
     "iopub.status.idle": "2025-08-19T17:17:44.394271Z",
     "shell.execute_reply": "2025-08-19T17:17:44.393171Z"
    },
    "papermill": {
     "duration": 0.03273,
     "end_time": "2025-08-19T17:17:44.395937",
     "exception": false,
     "start_time": "2025-08-19T17:17:44.363207",
     "status": "completed"
    },
    "tags": []
   },
   "outputs": [
    {
     "data": {
      "text/plain": [
       "(25000, 164)"
      ]
     },
     "execution_count": 12,
     "metadata": {},
     "output_type": "execute_result"
    }
   ],
   "source": [
    "siab_train.shape"
   ]
  },
  {
   "cell_type": "code",
   "execution_count": 13,
   "id": "d582db68-1a4c-47fb-84fc-08518dc1975a",
   "metadata": {
    "execution": {
     "iopub.execute_input": "2025-08-19T17:17:44.425462Z",
     "iopub.status.busy": "2025-08-19T17:17:44.424203Z",
     "iopub.status.idle": "2025-08-19T17:17:44.441827Z",
     "shell.execute_reply": "2025-08-19T17:17:44.440552Z"
    },
    "papermill": {
     "duration": 0.032196,
     "end_time": "2025-08-19T17:17:44.443700",
     "exception": false,
     "start_time": "2025-08-19T17:17:44.411504",
     "status": "completed"
    },
    "tags": []
   },
   "outputs": [
    {
     "data": {
      "text/plain": [
       "year\n",
       "2010    5000\n",
       "2011    5000\n",
       "2012    5000\n",
       "2013    5000\n",
       "2014    5000\n",
       "dtype: int64"
      ]
     },
     "metadata": {},
     "output_type": "display_data"
    }
   ],
   "source": [
    "display(siab_train.groupby(\"year\").size())"
   ]
  },
  {
   "cell_type": "code",
   "execution_count": 14,
   "id": "a561edb4-d032-42cb-8256-22eac1111c64",
   "metadata": {
    "execution": {
     "iopub.execute_input": "2025-08-19T17:17:44.473730Z",
     "iopub.status.busy": "2025-08-19T17:17:44.472124Z",
     "iopub.status.idle": "2025-08-19T17:17:44.764019Z",
     "shell.execute_reply": "2025-08-19T17:17:44.762728Z"
    },
    "papermill": {
     "duration": 0.306458,
     "end_time": "2025-08-19T17:17:44.765848",
     "exception": false,
     "start_time": "2025-08-19T17:17:44.459390",
     "status": "completed"
    },
    "tags": []
   },
   "outputs": [],
   "source": [
    "#siab_train = siab_s[siab_s.year < 2015]\n",
    "siab_calib = siab[siab.year == 2015]\n",
    "siab_test = siab[siab.year == 2016]"
   ]
  },
  {
   "cell_type": "code",
   "execution_count": 15,
   "id": "bc10fe59",
   "metadata": {
    "execution": {
     "iopub.execute_input": "2025-08-19T17:17:44.799741Z",
     "iopub.status.busy": "2025-08-19T17:17:44.798982Z",
     "iopub.status.idle": "2025-08-19T17:17:44.808513Z",
     "shell.execute_reply": "2025-08-19T17:17:44.807154Z"
    },
    "papermill": {
     "duration": 0.025906,
     "end_time": "2025-08-19T17:17:44.811081",
     "exception": false,
     "start_time": "2025-08-19T17:17:44.785175",
     "status": "completed"
    },
    "tags": []
   },
   "outputs": [],
   "source": [
    "#siab_calib.shape"
   ]
  },
  {
   "cell_type": "code",
   "execution_count": 16,
   "id": "d6aeff2f",
   "metadata": {
    "execution": {
     "iopub.execute_input": "2025-08-19T17:17:44.839884Z",
     "iopub.status.busy": "2025-08-19T17:17:44.839438Z",
     "iopub.status.idle": "2025-08-19T17:17:44.844076Z",
     "shell.execute_reply": "2025-08-19T17:17:44.843233Z"
    },
    "papermill": {
     "duration": 0.017913,
     "end_time": "2025-08-19T17:17:44.845611",
     "exception": false,
     "start_time": "2025-08-19T17:17:44.827698",
     "status": "completed"
    },
    "tags": []
   },
   "outputs": [],
   "source": [
    "#siab_test.shape"
   ]
  },
  {
   "cell_type": "code",
   "execution_count": 17,
   "id": "472de16f-c3db-4916-846b-1f0de9cf1746",
   "metadata": {
    "execution": {
     "iopub.execute_input": "2025-08-19T17:17:44.869123Z",
     "iopub.status.busy": "2025-08-19T17:17:44.868692Z",
     "iopub.status.idle": "2025-08-19T17:17:44.910335Z",
     "shell.execute_reply": "2025-08-19T17:17:44.909429Z"
    },
    "papermill": {
     "duration": 0.054934,
     "end_time": "2025-08-19T17:17:44.911930",
     "exception": false,
     "start_time": "2025-08-19T17:17:44.856996",
     "status": "completed"
    },
    "tags": []
   },
   "outputs": [],
   "source": [
    "X_train = siab_train.iloc[:,4:164]\n",
    "y_train = siab_train.iloc[:, [3]]"
   ]
  },
  {
   "cell_type": "code",
   "execution_count": null,
   "id": "a843c1c8",
   "metadata": {
    "papermill": {
     "duration": 0.010568,
     "end_time": "2025-08-19T17:17:44.933388",
     "exception": false,
     "start_time": "2025-08-19T17:17:44.922820",
     "status": "completed"
    },
    "tags": []
   },
   "outputs": [],
   "source": []
  },
  {
   "cell_type": "code",
   "execution_count": 18,
   "id": "828c96af-f43a-4ed6-ba47-8ac73a47d56c",
   "metadata": {
    "execution": {
     "iopub.execute_input": "2025-08-19T17:17:44.956288Z",
     "iopub.status.busy": "2025-08-19T17:17:44.955732Z",
     "iopub.status.idle": "2025-08-19T17:17:45.063839Z",
     "shell.execute_reply": "2025-08-19T17:17:45.062732Z"
    },
    "papermill": {
     "duration": 0.121776,
     "end_time": "2025-08-19T17:17:45.065677",
     "exception": false,
     "start_time": "2025-08-19T17:17:44.943901",
     "status": "completed"
    },
    "tags": []
   },
   "outputs": [],
   "source": [
    "X_calib = siab_calib.iloc[:,4:164]\n",
    "y_calib = siab_calib.iloc[:, [3]]"
   ]
  },
  {
   "cell_type": "code",
   "execution_count": 19,
   "id": "c34be9c3-6bd6-476e-acd3-845840e303be",
   "metadata": {
    "execution": {
     "iopub.execute_input": "2025-08-19T17:17:45.091138Z",
     "iopub.status.busy": "2025-08-19T17:17:45.090689Z",
     "iopub.status.idle": "2025-08-19T17:17:45.148075Z",
     "shell.execute_reply": "2025-08-19T17:17:45.147112Z"
    },
    "papermill": {
     "duration": 0.070867,
     "end_time": "2025-08-19T17:17:45.149778",
     "exception": false,
     "start_time": "2025-08-19T17:17:45.078911",
     "status": "completed"
    },
    "tags": []
   },
   "outputs": [],
   "source": [
    "X_test = siab_test.iloc[:,4:164]\n",
    "y_true = siab_test.iloc[:, [3]]"
   ]
  },
  {
   "cell_type": "code",
   "execution_count": 20,
   "id": "e6c733c5",
   "metadata": {
    "execution": {
     "iopub.execute_input": "2025-08-19T17:17:45.176529Z",
     "iopub.status.busy": "2025-08-19T17:17:45.175027Z",
     "iopub.status.idle": "2025-08-19T17:17:45.351337Z",
     "shell.execute_reply": "2025-08-19T17:17:45.350499Z"
    },
    "papermill": {
     "duration": 0.192299,
     "end_time": "2025-08-19T17:17:45.354368",
     "exception": false,
     "start_time": "2025-08-19T17:17:45.162069",
     "status": "completed"
    },
    "tags": []
   },
   "outputs": [],
   "source": [
    "# Auxiliary data needed downstream in the pipeline\n",
    "\n",
    "org_train = X_train.copy()\n",
    "org_test = X_test.copy()\n",
    "org_calib = X_calib.copy()"
   ]
  },
  {
   "cell_type": "markdown",
   "id": "0a4a1b33",
   "metadata": {
    "papermill": {
     "duration": 0.012532,
     "end_time": "2025-08-19T17:17:45.390456",
     "exception": false,
     "start_time": "2025-08-19T17:17:45.377924",
     "status": "completed"
    },
    "tags": []
   },
   "source": [
    "# Preprocessing Data"
   ]
  },
  {
   "cell_type": "code",
   "execution_count": 21,
   "id": "ca879031",
   "metadata": {
    "execution": {
     "iopub.execute_input": "2025-08-19T17:17:45.415178Z",
     "iopub.status.busy": "2025-08-19T17:17:45.413761Z",
     "iopub.status.idle": "2025-08-19T17:17:45.423940Z",
     "shell.execute_reply": "2025-08-19T17:17:45.422682Z"
    },
    "papermill": {
     "duration": 0.024645,
     "end_time": "2025-08-19T17:17:45.425765",
     "exception": false,
     "start_time": "2025-08-19T17:17:45.401120",
     "status": "completed"
    },
    "tags": []
   },
   "outputs": [],
   "source": [
    "# EXCLUDE PROTECTED FEATURES\n",
    "# --------------------------\n",
    "\n",
    "excluded_features = universe[\"exclude_features\"].split(\"-\")\n",
    "excluded_features_dictionary = {\n",
    "    \"nationality\": [\"maxdeutsch1\", \"maxdeutsch.Missing.\"],\n",
    "    \"sex\": [\"frau1\"],\n",
    "    \"age\": [\"age\"],\n",
    "}"
   ]
  },
  {
   "cell_type": "code",
   "execution_count": 22,
   "id": "b745ac60",
   "metadata": {
    "execution": {
     "iopub.execute_input": "2025-08-19T17:17:45.459459Z",
     "iopub.status.busy": "2025-08-19T17:17:45.451439Z",
     "iopub.status.idle": "2025-08-19T17:17:45.469753Z",
     "shell.execute_reply": "2025-08-19T17:17:45.468516Z"
    },
    "papermill": {
     "duration": 0.032623,
     "end_time": "2025-08-19T17:17:45.471392",
     "exception": false,
     "start_time": "2025-08-19T17:17:45.438769",
     "status": "completed"
    },
    "tags": []
   },
   "outputs": [],
   "source": [
    "excluded_features_columns = [\n",
    "    excluded_features_dictionary[f] for f in excluded_features if len(f) > 0 and f != \"none\"\n",
    "]"
   ]
  },
  {
   "cell_type": "code",
   "execution_count": 23,
   "id": "f84f73a2",
   "metadata": {
    "execution": {
     "iopub.execute_input": "2025-08-19T17:17:45.497907Z",
     "iopub.status.busy": "2025-08-19T17:17:45.497378Z",
     "iopub.status.idle": "2025-08-19T17:17:45.503223Z",
     "shell.execute_reply": "2025-08-19T17:17:45.502054Z"
    },
    "papermill": {
     "duration": 0.019332,
     "end_time": "2025-08-19T17:17:45.504702",
     "exception": false,
     "start_time": "2025-08-19T17:17:45.485370",
     "status": "completed"
    },
    "tags": []
   },
   "outputs": [],
   "source": [
    "from fairness_multiverse.universe import flatten_once\n",
    "\n",
    "excluded_features_columns = flatten_once(excluded_features_columns)"
   ]
  },
  {
   "cell_type": "code",
   "execution_count": 24,
   "id": "884dea22",
   "metadata": {
    "execution": {
     "iopub.execute_input": "2025-08-19T17:17:45.530684Z",
     "iopub.status.busy": "2025-08-19T17:17:45.530121Z",
     "iopub.status.idle": "2025-08-19T17:17:45.592026Z",
     "shell.execute_reply": "2025-08-19T17:17:45.591194Z"
    },
    "papermill": {
     "duration": 0.081032,
     "end_time": "2025-08-19T17:17:45.599056",
     "exception": false,
     "start_time": "2025-08-19T17:17:45.518024",
     "status": "completed"
    },
    "tags": []
   },
   "outputs": [
    {
     "name": "stdout",
     "output_type": "stream",
     "text": [
      "Dropping features: ['frau1']\n"
     ]
    }
   ],
   "source": [
    "if len(excluded_features_columns) > 0:\n",
    "    print(f\"Dropping features: {excluded_features_columns}\")\n",
    "    X_train.drop(excluded_features_columns, axis=1, inplace=True)"
   ]
  },
  {
   "cell_type": "code",
   "execution_count": 25,
   "id": "95ab8b16",
   "metadata": {
    "execution": {
     "iopub.execute_input": "2025-08-19T17:17:45.637743Z",
     "iopub.status.busy": "2025-08-19T17:17:45.635903Z",
     "iopub.status.idle": "2025-08-19T17:17:45.721182Z",
     "shell.execute_reply": "2025-08-19T17:17:45.720360Z"
    },
    "papermill": {
     "duration": 0.106001,
     "end_time": "2025-08-19T17:17:45.722456",
     "exception": false,
     "start_time": "2025-08-19T17:17:45.616455",
     "status": "completed"
    },
    "tags": []
   },
   "outputs": [
    {
     "name": "stdout",
     "output_type": "stream",
     "text": [
      "Dropping features: ['frau1']\n"
     ]
    }
   ],
   "source": [
    "if len(excluded_features_columns) > 0:\n",
    "    print(f\"Dropping features: {excluded_features_columns}\")\n",
    "    X_test.drop(excluded_features_columns, axis=1, inplace=True)"
   ]
  },
  {
   "cell_type": "code",
   "execution_count": 26,
   "id": "1853aaf5-fb9f-46cb-a2b5-8ea4ae2237e4",
   "metadata": {
    "execution": {
     "iopub.execute_input": "2025-08-19T17:17:45.768838Z",
     "iopub.status.busy": "2025-08-19T17:17:45.768187Z",
     "iopub.status.idle": "2025-08-19T17:17:45.837256Z",
     "shell.execute_reply": "2025-08-19T17:17:45.835851Z"
    },
    "papermill": {
     "duration": 0.100823,
     "end_time": "2025-08-19T17:17:45.839826",
     "exception": false,
     "start_time": "2025-08-19T17:17:45.739003",
     "status": "completed"
    },
    "tags": []
   },
   "outputs": [
    {
     "name": "stdout",
     "output_type": "stream",
     "text": [
      "Dropping features: ['frau1']\n"
     ]
    }
   ],
   "source": [
    "if len(excluded_features_columns) > 0:\n",
    "    print(f\"Dropping features: {excluded_features_columns}\")\n",
    "    X_calib.drop(excluded_features_columns, axis=1, inplace=True)"
   ]
  },
  {
   "cell_type": "code",
   "execution_count": 27,
   "id": "76c4dc6d",
   "metadata": {
    "execution": {
     "iopub.execute_input": "2025-08-19T17:17:45.906519Z",
     "iopub.status.busy": "2025-08-19T17:17:45.905767Z",
     "iopub.status.idle": "2025-08-19T17:17:45.914903Z",
     "shell.execute_reply": "2025-08-19T17:17:45.913019Z"
    },
    "papermill": {
     "duration": 0.040095,
     "end_time": "2025-08-19T17:17:45.917208",
     "exception": false,
     "start_time": "2025-08-19T17:17:45.877113",
     "status": "completed"
    },
    "tags": []
   },
   "outputs": [],
   "source": [
    "# EXCLUDE CERTAIN SUBGROUPS\n",
    "# -------------------------\n",
    "\n",
    "mode = universe.get(\"exclude_subgroups\", \"keep-all\") # Defaults to \"keep-all\" if the key is missing."
   ]
  },
  {
   "cell_type": "code",
   "execution_count": 28,
   "id": "21994072",
   "metadata": {
    "execution": {
     "iopub.execute_input": "2025-08-19T17:17:45.948357Z",
     "iopub.status.busy": "2025-08-19T17:17:45.947461Z",
     "iopub.status.idle": "2025-08-19T17:17:45.961114Z",
     "shell.execute_reply": "2025-08-19T17:17:45.959500Z"
    },
    "papermill": {
     "duration": 0.02985,
     "end_time": "2025-08-19T17:17:45.963275",
     "exception": false,
     "start_time": "2025-08-19T17:17:45.933425",
     "status": "completed"
    },
    "tags": []
   },
   "outputs": [],
   "source": [
    "if mode == \"keep-all\":\n",
    "    keep_mask = pd.Series(True, index=org_train.index)\n",
    "\n",
    "elif mode == \"drop-non-german\":\n",
    "    keep_mask = (org_train[\"maxdeutsch1\"] == 1) & (org_train[\"maxdeutsch.Missing.\"] == 0)\n",
    "\n",
    "else:\n",
    "    raise ValueError(f\"Unsupported mode for exclude_subgroups: {mode}\")"
   ]
  },
  {
   "cell_type": "code",
   "execution_count": 29,
   "id": "71651440",
   "metadata": {
    "execution": {
     "iopub.execute_input": "2025-08-19T17:17:45.993855Z",
     "iopub.status.busy": "2025-08-19T17:17:45.993115Z",
     "iopub.status.idle": "2025-08-19T17:17:46.007911Z",
     "shell.execute_reply": "2025-08-19T17:17:46.005488Z"
    },
    "papermill": {
     "duration": 0.031843,
     "end_time": "2025-08-19T17:17:46.011143",
     "exception": false,
     "start_time": "2025-08-19T17:17:45.979300",
     "status": "completed"
    },
    "tags": []
   },
   "outputs": [
    {
     "name": "stdout",
     "output_type": "stream",
     "text": [
      "Dropping 3312 rows (13.25%) where mode='drop-non-german'\n"
     ]
    }
   ],
   "source": [
    "n_drop = (~keep_mask).sum() # Calculates how many rows are set to be dropped\n",
    "if n_drop > 0:\n",
    "    pct = n_drop / len(keep_mask) * 100\n",
    "    print(f\"Dropping {n_drop} rows ({pct:.2f}%) where mode='{mode}'\")"
   ]
  },
  {
   "cell_type": "code",
   "execution_count": 30,
   "id": "5fb8eee5",
   "metadata": {
    "execution": {
     "iopub.execute_input": "2025-08-19T17:17:46.043987Z",
     "iopub.status.busy": "2025-08-19T17:17:46.043630Z",
     "iopub.status.idle": "2025-08-19T17:17:46.073442Z",
     "shell.execute_reply": "2025-08-19T17:17:46.072164Z"
    },
    "papermill": {
     "duration": 0.045869,
     "end_time": "2025-08-19T17:17:46.077261",
     "exception": false,
     "start_time": "2025-08-19T17:17:46.031392",
     "status": "completed"
    },
    "tags": []
   },
   "outputs": [],
   "source": [
    "X_train = X_train[keep_mask]"
   ]
  },
  {
   "cell_type": "code",
   "execution_count": 31,
   "id": "b202bb3a",
   "metadata": {
    "execution": {
     "iopub.execute_input": "2025-08-19T17:17:46.114531Z",
     "iopub.status.busy": "2025-08-19T17:17:46.114198Z",
     "iopub.status.idle": "2025-08-19T17:17:46.122439Z",
     "shell.execute_reply": "2025-08-19T17:17:46.120545Z"
    },
    "papermill": {
     "duration": 0.023989,
     "end_time": "2025-08-19T17:17:46.124272",
     "exception": false,
     "start_time": "2025-08-19T17:17:46.100283",
     "status": "completed"
    },
    "tags": []
   },
   "outputs": [],
   "source": [
    "y_train = y_train[keep_mask]"
   ]
  },
  {
   "cell_type": "markdown",
   "id": "493e2ac3",
   "metadata": {
    "papermill": {
     "duration": 0.02345,
     "end_time": "2025-08-19T17:17:46.162480",
     "exception": false,
     "start_time": "2025-08-19T17:17:46.139030",
     "status": "completed"
    },
    "tags": []
   },
   "source": [
    "# Model Training"
   ]
  },
  {
   "cell_type": "code",
   "execution_count": 32,
   "id": "679e1268",
   "metadata": {
    "execution": {
     "iopub.execute_input": "2025-08-19T17:17:46.200006Z",
     "iopub.status.busy": "2025-08-19T17:17:46.199667Z",
     "iopub.status.idle": "2025-08-19T17:17:46.308509Z",
     "shell.execute_reply": "2025-08-19T17:17:46.307051Z"
    },
    "papermill": {
     "duration": 0.126587,
     "end_time": "2025-08-19T17:17:46.312228",
     "exception": false,
     "start_time": "2025-08-19T17:17:46.185641",
     "status": "completed"
    },
    "tags": []
   },
   "outputs": [],
   "source": [
    "from sklearn.linear_model import LogisticRegression\n",
    "from sklearn.ensemble import GradientBoostingClassifier, RandomForestClassifier\n",
    "\n",
    "if (universe[\"model\"] == \"logreg\"):\n",
    "    model = LogisticRegression() #penalty=\"none\", solver=\"newton-cg\", max_iter=1)\n",
    "elif (universe[\"model\"] == \"penalized_logreg\"):\n",
    "    model = LogisticRegression(penalty=\"l2\", C=0.1) #, solver=\"newton-cg\", max_iter=1)\n",
    "elif (universe[\"model\"] == \"rf\"):\n",
    "    model = RandomForestClassifier() # n_estimators=100, n_jobs=-1\n",
    "elif (universe[\"model\"] == \"gbm\"):\n",
    "    model = GradientBoostingClassifier()\n",
    "elif (universe[\"model\"] == \"elasticnet\"):\n",
    "    model = LogisticRegression(penalty = 'elasticnet', solver = 'saga', l1_ratio = 0.5) # max_iter=5000\n",
    "else:\n",
    "    raise \"Unsupported universe.model\""
   ]
  },
  {
   "cell_type": "code",
   "execution_count": 33,
   "id": "0cc8f744",
   "metadata": {
    "execution": {
     "iopub.execute_input": "2025-08-19T17:17:46.352290Z",
     "iopub.status.busy": "2025-08-19T17:17:46.351112Z",
     "iopub.status.idle": "2025-08-19T17:17:46.362364Z",
     "shell.execute_reply": "2025-08-19T17:17:46.360534Z"
    },
    "papermill": {
     "duration": 0.028496,
     "end_time": "2025-08-19T17:17:46.364702",
     "exception": false,
     "start_time": "2025-08-19T17:17:46.336206",
     "status": "completed"
    },
    "tags": []
   },
   "outputs": [],
   "source": [
    "from sklearn.pipeline import Pipeline\n",
    "from sklearn.preprocessing import StandardScaler\n",
    "\n",
    "model = Pipeline([\n",
    "    #(\"continuous_processor\", continuous_processor),\n",
    "    #(\"categorical_preprocessor\", categorical_preprocessor),\n",
    "    (\"scale\", StandardScaler() if universe[\"scale\"] == \"scale\" else None), \n",
    "    (\"model\", model),\n",
    "])"
   ]
  },
  {
   "cell_type": "code",
   "execution_count": 34,
   "id": "9442c04d",
   "metadata": {
    "execution": {
     "iopub.execute_input": "2025-08-19T17:17:46.394578Z",
     "iopub.status.busy": "2025-08-19T17:17:46.393251Z",
     "iopub.status.idle": "2025-08-19T17:17:53.751302Z",
     "shell.execute_reply": "2025-08-19T17:17:53.750322Z"
    },
    "papermill": {
     "duration": 7.377251,
     "end_time": "2025-08-19T17:17:53.756591",
     "exception": false,
     "start_time": "2025-08-19T17:17:46.379340",
     "status": "completed"
    },
    "tags": []
   },
   "outputs": [
    {
     "data": {
      "text/html": [
       "<style>#sk-container-id-1 {color: black;background-color: white;}#sk-container-id-1 pre{padding: 0;}#sk-container-id-1 div.sk-toggleable {background-color: white;}#sk-container-id-1 label.sk-toggleable__label {cursor: pointer;display: block;width: 100%;margin-bottom: 0;padding: 0.3em;box-sizing: border-box;text-align: center;}#sk-container-id-1 label.sk-toggleable__label-arrow:before {content: \"▸\";float: left;margin-right: 0.25em;color: #696969;}#sk-container-id-1 label.sk-toggleable__label-arrow:hover:before {color: black;}#sk-container-id-1 div.sk-estimator:hover label.sk-toggleable__label-arrow:before {color: black;}#sk-container-id-1 div.sk-toggleable__content {max-height: 0;max-width: 0;overflow: hidden;text-align: left;background-color: #f0f8ff;}#sk-container-id-1 div.sk-toggleable__content pre {margin: 0.2em;color: black;border-radius: 0.25em;background-color: #f0f8ff;}#sk-container-id-1 input.sk-toggleable__control:checked~div.sk-toggleable__content {max-height: 200px;max-width: 100%;overflow: auto;}#sk-container-id-1 input.sk-toggleable__control:checked~label.sk-toggleable__label-arrow:before {content: \"▾\";}#sk-container-id-1 div.sk-estimator input.sk-toggleable__control:checked~label.sk-toggleable__label {background-color: #d4ebff;}#sk-container-id-1 div.sk-label input.sk-toggleable__control:checked~label.sk-toggleable__label {background-color: #d4ebff;}#sk-container-id-1 input.sk-hidden--visually {border: 0;clip: rect(1px 1px 1px 1px);clip: rect(1px, 1px, 1px, 1px);height: 1px;margin: -1px;overflow: hidden;padding: 0;position: absolute;width: 1px;}#sk-container-id-1 div.sk-estimator {font-family: monospace;background-color: #f0f8ff;border: 1px dotted black;border-radius: 0.25em;box-sizing: border-box;margin-bottom: 0.5em;}#sk-container-id-1 div.sk-estimator:hover {background-color: #d4ebff;}#sk-container-id-1 div.sk-parallel-item::after {content: \"\";width: 100%;border-bottom: 1px solid gray;flex-grow: 1;}#sk-container-id-1 div.sk-label:hover label.sk-toggleable__label {background-color: #d4ebff;}#sk-container-id-1 div.sk-serial::before {content: \"\";position: absolute;border-left: 1px solid gray;box-sizing: border-box;top: 0;bottom: 0;left: 50%;z-index: 0;}#sk-container-id-1 div.sk-serial {display: flex;flex-direction: column;align-items: center;background-color: white;padding-right: 0.2em;padding-left: 0.2em;position: relative;}#sk-container-id-1 div.sk-item {position: relative;z-index: 1;}#sk-container-id-1 div.sk-parallel {display: flex;align-items: stretch;justify-content: center;background-color: white;position: relative;}#sk-container-id-1 div.sk-item::before, #sk-container-id-1 div.sk-parallel-item::before {content: \"\";position: absolute;border-left: 1px solid gray;box-sizing: border-box;top: 0;bottom: 0;left: 50%;z-index: -1;}#sk-container-id-1 div.sk-parallel-item {display: flex;flex-direction: column;z-index: 1;position: relative;background-color: white;}#sk-container-id-1 div.sk-parallel-item:first-child::after {align-self: flex-end;width: 50%;}#sk-container-id-1 div.sk-parallel-item:last-child::after {align-self: flex-start;width: 50%;}#sk-container-id-1 div.sk-parallel-item:only-child::after {width: 0;}#sk-container-id-1 div.sk-dashed-wrapped {border: 1px dashed gray;margin: 0 0.4em 0.5em 0.4em;box-sizing: border-box;padding-bottom: 0.4em;background-color: white;}#sk-container-id-1 div.sk-label label {font-family: monospace;font-weight: bold;display: inline-block;line-height: 1.2em;}#sk-container-id-1 div.sk-label-container {text-align: center;}#sk-container-id-1 div.sk-container {/* jupyter's `normalize.less` sets `[hidden] { display: none; }` but bootstrap.min.css set `[hidden] { display: none !important; }` so we also need the `!important` here to be able to override the default hidden behavior on the sphinx rendered scikit-learn.org. See: https://github.com/scikit-learn/scikit-learn/issues/21755 */display: inline-block !important;position: relative;}#sk-container-id-1 div.sk-text-repr-fallback {display: none;}</style><div id=\"sk-container-id-1\" class=\"sk-top-container\"><div class=\"sk-text-repr-fallback\"><pre>Pipeline(steps=[(&#x27;scale&#x27;, StandardScaler()),\n",
       "                (&#x27;model&#x27;, RandomForestClassifier())])</pre><b>In a Jupyter environment, please rerun this cell to show the HTML representation or trust the notebook. <br />On GitHub, the HTML representation is unable to render, please try loading this page with nbviewer.org.</b></div><div class=\"sk-container\" hidden><div class=\"sk-item sk-dashed-wrapped\"><div class=\"sk-label-container\"><div class=\"sk-label sk-toggleable\"><input class=\"sk-toggleable__control sk-hidden--visually\" id=\"sk-estimator-id-1\" type=\"checkbox\" ><label for=\"sk-estimator-id-1\" class=\"sk-toggleable__label sk-toggleable__label-arrow\">Pipeline</label><div class=\"sk-toggleable__content\"><pre>Pipeline(steps=[(&#x27;scale&#x27;, StandardScaler()),\n",
       "                (&#x27;model&#x27;, RandomForestClassifier())])</pre></div></div></div><div class=\"sk-serial\"><div class=\"sk-item\"><div class=\"sk-estimator sk-toggleable\"><input class=\"sk-toggleable__control sk-hidden--visually\" id=\"sk-estimator-id-2\" type=\"checkbox\" ><label for=\"sk-estimator-id-2\" class=\"sk-toggleable__label sk-toggleable__label-arrow\">StandardScaler</label><div class=\"sk-toggleable__content\"><pre>StandardScaler()</pre></div></div></div><div class=\"sk-item\"><div class=\"sk-estimator sk-toggleable\"><input class=\"sk-toggleable__control sk-hidden--visually\" id=\"sk-estimator-id-3\" type=\"checkbox\" ><label for=\"sk-estimator-id-3\" class=\"sk-toggleable__label sk-toggleable__label-arrow\">RandomForestClassifier</label><div class=\"sk-toggleable__content\"><pre>RandomForestClassifier()</pre></div></div></div></div></div></div></div>"
      ],
      "text/plain": [
       "Pipeline(steps=[('scale', StandardScaler()),\n",
       "                ('model', RandomForestClassifier())])"
      ]
     },
     "execution_count": 34,
     "metadata": {},
     "output_type": "execute_result"
    }
   ],
   "source": [
    "model.fit(X_train, y_train.values.ravel())"
   ]
  },
  {
   "cell_type": "code",
   "execution_count": 35,
   "id": "a7cf2e16",
   "metadata": {
    "execution": {
     "iopub.execute_input": "2025-08-19T17:17:53.799889Z",
     "iopub.status.busy": "2025-08-19T17:17:53.797867Z",
     "iopub.status.idle": "2025-08-19T17:17:56.544565Z",
     "shell.execute_reply": "2025-08-19T17:17:56.543486Z"
    },
    "papermill": {
     "duration": 2.763581,
     "end_time": "2025-08-19T17:17:56.545890",
     "exception": false,
     "start_time": "2025-08-19T17:17:53.782309",
     "status": "completed"
    },
    "tags": []
   },
   "outputs": [
    {
     "data": {
      "text/plain": [
       "0.8671162635157731"
      ]
     },
     "execution_count": 35,
     "metadata": {},
     "output_type": "execute_result"
    }
   ],
   "source": [
    "from fairness_multiverse.universe import predict_w_threshold\n",
    "\n",
    "probs_test = model.predict_proba(X_test)\n",
    "\n",
    "'''\n",
    "Below code returns a boolean array (or binary 0/1 array depending on how it’s used) where each element \n",
    "is True if the probability of class 1 is greater than or equal to the threshold, and False otherwise.\n",
    "'''\n",
    "y_pred_default = predict_w_threshold(probs_test, 0.5)\n",
    "\n",
    "from sklearn.metrics import accuracy_score\n",
    "\n",
    "# Naive prediction\n",
    "accuracy_score(y_true = y_true, y_pred = y_pred_default)"
   ]
  },
  {
   "cell_type": "code",
   "execution_count": 36,
   "id": "081964c3",
   "metadata": {
    "execution": {
     "iopub.execute_input": "2025-08-19T17:17:56.575112Z",
     "iopub.status.busy": "2025-08-19T17:17:56.573605Z",
     "iopub.status.idle": "2025-08-19T17:17:59.159852Z",
     "shell.execute_reply": "2025-08-19T17:17:59.158581Z"
    },
    "papermill": {
     "duration": 2.601736,
     "end_time": "2025-08-19T17:17:59.162161",
     "exception": false,
     "start_time": "2025-08-19T17:17:56.560425",
     "status": "completed"
    },
    "tags": []
   },
   "outputs": [
    {
     "data": {
      "text/plain": [
       "array([0, 0, 0, ..., 0, 0, 0])"
      ]
     },
     "execution_count": 36,
     "metadata": {},
     "output_type": "execute_result"
    }
   ],
   "source": [
    "model.predict(X_test)"
   ]
  },
  {
   "cell_type": "markdown",
   "id": "56c9705b",
   "metadata": {
    "papermill": {
     "duration": 0.012348,
     "end_time": "2025-08-19T17:17:59.189743",
     "exception": false,
     "start_time": "2025-08-19T17:17:59.177395",
     "status": "completed"
    },
    "tags": []
   },
   "source": [
    "# Conformal Prediction"
   ]
  },
  {
   "cell_type": "code",
   "execution_count": 37,
   "id": "160ec6ff",
   "metadata": {
    "execution": {
     "iopub.execute_input": "2025-08-19T17:17:59.215920Z",
     "iopub.status.busy": "2025-08-19T17:17:59.215289Z",
     "iopub.status.idle": "2025-08-19T17:17:59.220602Z",
     "shell.execute_reply": "2025-08-19T17:17:59.219914Z"
    },
    "papermill": {
     "duration": 0.020043,
     "end_time": "2025-08-19T17:17:59.221866",
     "exception": false,
     "start_time": "2025-08-19T17:17:59.201823",
     "status": "completed"
    },
    "tags": []
   },
   "outputs": [],
   "source": [
    "# Miscoverage level for conformal prediction (10% allowed error rate => 90% target coverage)\n",
    "alpha = 0.1"
   ]
  },
  {
   "cell_type": "code",
   "execution_count": 38,
   "id": "eadf4555-3dd3-440e-8e35-f82a4ad9f855",
   "metadata": {
    "execution": {
     "iopub.execute_input": "2025-08-19T17:17:59.249810Z",
     "iopub.status.busy": "2025-08-19T17:17:59.248810Z",
     "iopub.status.idle": "2025-08-19T17:18:01.658548Z",
     "shell.execute_reply": "2025-08-19T17:18:01.657334Z"
    },
    "papermill": {
     "duration": 2.425408,
     "end_time": "2025-08-19T17:18:01.660639",
     "exception": false,
     "start_time": "2025-08-19T17:17:59.235231",
     "status": "completed"
    },
    "tags": []
   },
   "outputs": [],
   "source": [
    "probs_calib = model.predict_proba(X_calib)"
   ]
  },
  {
   "cell_type": "code",
   "execution_count": 39,
   "id": "2ed93547-6d5d-4983-9b36-1ecb300da49a",
   "metadata": {
    "execution": {
     "iopub.execute_input": "2025-08-19T17:18:01.717570Z",
     "iopub.status.busy": "2025-08-19T17:18:01.715808Z",
     "iopub.status.idle": "2025-08-19T17:18:01.735376Z",
     "shell.execute_reply": "2025-08-19T17:18:01.734347Z"
    },
    "papermill": {
     "duration": 0.061217,
     "end_time": "2025-08-19T17:18:01.737116",
     "exception": false,
     "start_time": "2025-08-19T17:18:01.675899",
     "status": "completed"
    },
    "tags": []
   },
   "outputs": [],
   "source": [
    "y_calib = y_calib.values.ravel().astype(int)"
   ]
  },
  {
   "cell_type": "code",
   "execution_count": 40,
   "id": "65d1320d-f588-4b38-9072-62af1ae97f7d",
   "metadata": {
    "execution": {
     "iopub.execute_input": "2025-08-19T17:18:01.770318Z",
     "iopub.status.busy": "2025-08-19T17:18:01.768985Z",
     "iopub.status.idle": "2025-08-19T17:18:01.783095Z",
     "shell.execute_reply": "2025-08-19T17:18:01.782117Z"
    },
    "papermill": {
     "duration": 0.029611,
     "end_time": "2025-08-19T17:18:01.784807",
     "exception": false,
     "start_time": "2025-08-19T17:18:01.755196",
     "status": "completed"
    },
    "tags": []
   },
   "outputs": [],
   "source": [
    "from fairness_multiverse.conformal import compute_nc_scores\n",
    "\n",
    "# Compute nonconformity scores on calibration set (1 - probability of true class)\n",
    "nc_scores = compute_nc_scores(probs_calib, y_calib)"
   ]
  },
  {
   "cell_type": "code",
   "execution_count": 41,
   "id": "df3b8ca3-53b7-43d5-9667-7c85da7aeda2",
   "metadata": {
    "execution": {
     "iopub.execute_input": "2025-08-19T17:18:01.818586Z",
     "iopub.status.busy": "2025-08-19T17:18:01.817288Z",
     "iopub.status.idle": "2025-08-19T17:18:01.829453Z",
     "shell.execute_reply": "2025-08-19T17:18:01.828179Z"
    },
    "papermill": {
     "duration": 0.028283,
     "end_time": "2025-08-19T17:18:01.831155",
     "exception": false,
     "start_time": "2025-08-19T17:18:01.802872",
     "status": "completed"
    },
    "tags": []
   },
   "outputs": [],
   "source": [
    "from fairness_multiverse.conformal import find_threshold\n",
    "\n",
    "# Find conformal threshold q_hat for the given alpha (split conformal method)\n",
    "q_hat = find_threshold(nc_scores, alpha)"
   ]
  },
  {
   "cell_type": "code",
   "execution_count": 42,
   "id": "4d29e6c1-0ef6-4aa4-b8fe-4fe79b0d033a",
   "metadata": {
    "execution": {
     "iopub.execute_input": "2025-08-19T17:18:01.860961Z",
     "iopub.status.busy": "2025-08-19T17:18:01.859690Z",
     "iopub.status.idle": "2025-08-19T17:18:01.870580Z",
     "shell.execute_reply": "2025-08-19T17:18:01.869629Z"
    },
    "papermill": {
     "duration": 0.025894,
     "end_time": "2025-08-19T17:18:01.872088",
     "exception": false,
     "start_time": "2025-08-19T17:18:01.846194",
     "status": "completed"
    },
    "tags": []
   },
   "outputs": [
    {
     "data": {
      "text/plain": [
       "0.65"
      ]
     },
     "execution_count": 42,
     "metadata": {},
     "output_type": "execute_result"
    }
   ],
   "source": [
    "q_hat"
   ]
  },
  {
   "cell_type": "code",
   "execution_count": 43,
   "id": "92460794-cdac-4be2-ba28-f28c0515a6fb",
   "metadata": {
    "execution": {
     "iopub.execute_input": "2025-08-19T17:18:01.901882Z",
     "iopub.status.busy": "2025-08-19T17:18:01.900572Z",
     "iopub.status.idle": "2025-08-19T17:18:04.875847Z",
     "shell.execute_reply": "2025-08-19T17:18:04.874679Z"
    },
    "papermill": {
     "duration": 2.990666,
     "end_time": "2025-08-19T17:18:04.877716",
     "exception": false,
     "start_time": "2025-08-19T17:18:01.887050",
     "status": "completed"
    },
    "tags": []
   },
   "outputs": [],
   "source": [
    "from fairness_multiverse.conformal import predict_conformal_sets\n",
    "\n",
    "# Generate prediction sets for each test example\n",
    "pred_sets = predict_conformal_sets(model, X_test, q_hat)"
   ]
  },
  {
   "cell_type": "code",
   "execution_count": 44,
   "id": "d90c9a65-e6db-4f5d-80cd-e68fb7e46829",
   "metadata": {
    "execution": {
     "iopub.execute_input": "2025-08-19T17:18:04.913089Z",
     "iopub.status.busy": "2025-08-19T17:18:04.912577Z",
     "iopub.status.idle": "2025-08-19T17:18:04.918877Z",
     "shell.execute_reply": "2025-08-19T17:18:04.917953Z"
    },
    "papermill": {
     "duration": 0.026834,
     "end_time": "2025-08-19T17:18:04.920394",
     "exception": false,
     "start_time": "2025-08-19T17:18:04.893560",
     "status": "completed"
    },
    "tags": []
   },
   "outputs": [],
   "source": [
    "y_true = y_true.squeeze()"
   ]
  },
  {
   "cell_type": "code",
   "execution_count": 45,
   "id": "3a58a54a-1e68-46b9-927a-df01f18aebc8",
   "metadata": {
    "execution": {
     "iopub.execute_input": "2025-08-19T17:18:04.945541Z",
     "iopub.status.busy": "2025-08-19T17:18:04.945107Z",
     "iopub.status.idle": "2025-08-19T17:18:05.451445Z",
     "shell.execute_reply": "2025-08-19T17:18:05.450246Z"
    },
    "papermill": {
     "duration": 0.520466,
     "end_time": "2025-08-19T17:18:05.453054",
     "exception": false,
     "start_time": "2025-08-19T17:18:04.932588",
     "status": "completed"
    },
    "tags": []
   },
   "outputs": [],
   "source": [
    "from fairness_multiverse.conformal import evaluate_sets\n",
    "\n",
    "# Evaluate coverage and average set size on test data\n",
    "metrics = evaluate_sets(pred_sets, y_true)"
   ]
  },
  {
   "cell_type": "markdown",
   "id": "2b569c12-9aaa-4c88-98c9-bbcd0cf3ebb8",
   "metadata": {
    "papermill": {
     "duration": 0.011744,
     "end_time": "2025-08-19T17:18:05.477126",
     "exception": false,
     "start_time": "2025-08-19T17:18:05.465382",
     "status": "completed"
    },
    "tags": []
   },
   "source": [
    "# CP Metrics"
   ]
  },
  {
   "cell_type": "code",
   "execution_count": 46,
   "id": "5ce0a5cb-201f-45a0-ade5-94c7f0bd6095",
   "metadata": {
    "execution": {
     "iopub.execute_input": "2025-08-19T17:18:05.502068Z",
     "iopub.status.busy": "2025-08-19T17:18:05.501592Z",
     "iopub.status.idle": "2025-08-19T17:18:05.511548Z",
     "shell.execute_reply": "2025-08-19T17:18:05.510468Z"
    },
    "papermill": {
     "duration": 0.024042,
     "end_time": "2025-08-19T17:18:05.512832",
     "exception": false,
     "start_time": "2025-08-19T17:18:05.488790",
     "status": "completed"
    },
    "tags": []
   },
   "outputs": [
    {
     "data": {
      "text/plain": [
       "{'coverage': 0.9139783747631256, 'avg_size': 1.1392821313120054}"
      ]
     },
     "execution_count": 46,
     "metadata": {},
     "output_type": "execute_result"
    }
   ],
   "source": [
    "metrics"
   ]
  },
  {
   "cell_type": "code",
   "execution_count": 47,
   "id": "9b9a838d-31c9-430b-ae14-12baee460d17",
   "metadata": {
    "execution": {
     "iopub.execute_input": "2025-08-19T17:18:05.540365Z",
     "iopub.status.busy": "2025-08-19T17:18:05.539333Z",
     "iopub.status.idle": "2025-08-19T17:18:05.547879Z",
     "shell.execute_reply": "2025-08-19T17:18:05.546816Z"
    },
    "papermill": {
     "duration": 0.023265,
     "end_time": "2025-08-19T17:18:05.549461",
     "exception": false,
     "start_time": "2025-08-19T17:18:05.526196",
     "status": "completed"
    },
    "tags": []
   },
   "outputs": [],
   "source": [
    "example_universe = universe.copy()\n",
    "universe_training_year = example_universe.get(\"training_year\")\n",
    "universe_training_size = example_universe.get(\"training_size\")\n",
    "universe_scale = example_universe.get(\"scale\")\n",
    "universe_model = example_universe.get(\"model\")\n",
    "universe_exclude_features = example_universe.get(\"exclude_features\")\n",
    "universe_exclude_subgroups = example_universe.get(\"exclude_subgroups\")"
   ]
  },
  {
   "cell_type": "code",
   "execution_count": 48,
   "id": "f4b6a8ac-9dc0-4245-8a91-5b3b5999c4f9",
   "metadata": {
    "execution": {
     "iopub.execute_input": "2025-08-19T17:18:05.578545Z",
     "iopub.status.busy": "2025-08-19T17:18:05.577277Z",
     "iopub.status.idle": "2025-08-19T17:18:05.587103Z",
     "shell.execute_reply": "2025-08-19T17:18:05.585901Z"
    },
    "papermill": {
     "duration": 0.025102,
     "end_time": "2025-08-19T17:18:05.588739",
     "exception": false,
     "start_time": "2025-08-19T17:18:05.563637",
     "status": "completed"
    },
    "tags": []
   },
   "outputs": [],
   "source": [
    "cp_metrics_dict = {\n",
    "    \"universe_id\": [universe_id],\n",
    "    \"universe_training_year\": [universe_training_year],\n",
    "    \"universe_training_size\": [universe_training_size],\n",
    "    \"universe_scale\": [universe_scale],\n",
    "    \"universe_model\": [universe_model],\n",
    "    \"universe_exclude_features\": [universe_exclude_features],\n",
    "    \"universe_exclude_subgroups\": [universe_exclude_subgroups],\n",
    "    \"q_hat\": [q_hat],\n",
    "    \"coverage\": [metrics[\"coverage\"]],\n",
    "    \"avg_size\": [metrics[\"avg_size\"]],\n",
    "}"
   ]
  },
  {
   "cell_type": "code",
   "execution_count": 49,
   "id": "33007efc-14e9-4ec6-97ac-56a455c82265",
   "metadata": {
    "execution": {
     "iopub.execute_input": "2025-08-19T17:18:05.627114Z",
     "iopub.status.busy": "2025-08-19T17:18:05.624697Z",
     "iopub.status.idle": "2025-08-19T17:18:05.640971Z",
     "shell.execute_reply": "2025-08-19T17:18:05.640069Z"
    },
    "papermill": {
     "duration": 0.038996,
     "end_time": "2025-08-19T17:18:05.642939",
     "exception": false,
     "start_time": "2025-08-19T17:18:05.603943",
     "status": "completed"
    },
    "tags": []
   },
   "outputs": [],
   "source": [
    "cp_metrics_df = pd.DataFrame(cp_metrics_dict)"
   ]
  },
  {
   "cell_type": "code",
   "execution_count": 50,
   "id": "db12611b-57b2-4910-b9d0-355adfd6e7bf",
   "metadata": {
    "execution": {
     "iopub.execute_input": "2025-08-19T17:18:05.679281Z",
     "iopub.status.busy": "2025-08-19T17:18:05.678088Z",
     "iopub.status.idle": "2025-08-19T17:18:05.702136Z",
     "shell.execute_reply": "2025-08-19T17:18:05.701242Z"
    },
    "papermill": {
     "duration": 0.040051,
     "end_time": "2025-08-19T17:18:05.703849",
     "exception": false,
     "start_time": "2025-08-19T17:18:05.663798",
     "status": "completed"
    },
    "tags": []
   },
   "outputs": [
    {
     "data": {
      "text/html": [
       "<div>\n",
       "<style scoped>\n",
       "    .dataframe tbody tr th:only-of-type {\n",
       "        vertical-align: middle;\n",
       "    }\n",
       "\n",
       "    .dataframe tbody tr th {\n",
       "        vertical-align: top;\n",
       "    }\n",
       "\n",
       "    .dataframe thead th {\n",
       "        text-align: right;\n",
       "    }\n",
       "</style>\n",
       "<table border=\"1\" class=\"dataframe\">\n",
       "  <thead>\n",
       "    <tr style=\"text-align: right;\">\n",
       "      <th></th>\n",
       "      <th>universe_id</th>\n",
       "      <th>universe_training_year</th>\n",
       "      <th>universe_training_size</th>\n",
       "      <th>universe_scale</th>\n",
       "      <th>universe_model</th>\n",
       "      <th>universe_exclude_features</th>\n",
       "      <th>universe_exclude_subgroups</th>\n",
       "      <th>q_hat</th>\n",
       "      <th>coverage</th>\n",
       "      <th>avg_size</th>\n",
       "    </tr>\n",
       "  </thead>\n",
       "  <tbody>\n",
       "    <tr>\n",
       "      <th>0</th>\n",
       "      <td>616b0cf572a2e986c1ac91d47f0fe181</td>\n",
       "      <td>2010_14</td>\n",
       "      <td>25k</td>\n",
       "      <td>scale</td>\n",
       "      <td>rf</td>\n",
       "      <td>sex</td>\n",
       "      <td>drop-non-german</td>\n",
       "      <td>0.65</td>\n",
       "      <td>0.913978</td>\n",
       "      <td>1.139282</td>\n",
       "    </tr>\n",
       "  </tbody>\n",
       "</table>\n",
       "</div>"
      ],
      "text/plain": [
       "                        universe_id universe_training_year  \\\n",
       "0  616b0cf572a2e986c1ac91d47f0fe181                2010_14   \n",
       "\n",
       "  universe_training_size universe_scale universe_model  \\\n",
       "0                    25k          scale             rf   \n",
       "\n",
       "  universe_exclude_features universe_exclude_subgroups  q_hat  coverage  \\\n",
       "0                       sex            drop-non-german   0.65  0.913978   \n",
       "\n",
       "   avg_size  \n",
       "0  1.139282  "
      ]
     },
     "execution_count": 50,
     "metadata": {},
     "output_type": "execute_result"
    }
   ],
   "source": [
    "cp_metrics_df"
   ]
  },
  {
   "cell_type": "markdown",
   "id": "c825ecb4-0d3d-41d6-b7c6-eccb21272259",
   "metadata": {
    "papermill": {
     "duration": 0.012857,
     "end_time": "2025-08-19T17:18:05.737324",
     "exception": false,
     "start_time": "2025-08-19T17:18:05.724467",
     "status": "completed"
    },
    "tags": []
   },
   "source": [
    "Conditional coverage & looking at subgroups"
   ]
  },
  {
   "cell_type": "code",
   "execution_count": 51,
   "id": "027ae886-68dd-4141-96c7-805a5450e1ef",
   "metadata": {
    "execution": {
     "iopub.execute_input": "2025-08-19T17:18:05.763956Z",
     "iopub.status.busy": "2025-08-19T17:18:05.762909Z",
     "iopub.status.idle": "2025-08-19T17:18:06.080618Z",
     "shell.execute_reply": "2025-08-19T17:18:06.079420Z"
    },
    "papermill": {
     "duration": 0.3328,
     "end_time": "2025-08-19T17:18:06.082162",
     "exception": false,
     "start_time": "2025-08-19T17:18:05.749362",
     "status": "completed"
    },
    "tags": []
   },
   "outputs": [],
   "source": [
    "from fairness_multiverse.conformal import build_cp_groups\n",
    "\n",
    "cp_groups_df = build_cp_groups(pred_sets, y_true, X_test.index, org_test)"
   ]
  },
  {
   "cell_type": "code",
   "execution_count": 52,
   "id": "6cbdab96-b2b2-45af-ad54-d0516db2e28d",
   "metadata": {
    "execution": {
     "iopub.execute_input": "2025-08-19T17:18:06.109647Z",
     "iopub.status.busy": "2025-08-19T17:18:06.109038Z",
     "iopub.status.idle": "2025-08-19T17:18:07.018183Z",
     "shell.execute_reply": "2025-08-19T17:18:07.016963Z"
    },
    "papermill": {
     "duration": 0.926071,
     "end_time": "2025-08-19T17:18:07.021128",
     "exception": false,
     "start_time": "2025-08-19T17:18:06.095057",
     "status": "completed"
    },
    "tags": []
   },
   "outputs": [],
   "source": [
    "# Define covered = 1 if true_label is in the predicted set\n",
    "cp_groups_df['covered'] = cp_groups_df.apply(\n",
    "    lambda r: int(r['true_label'] in r['pred_set']),\n",
    "    axis=1\n",
    ")"
   ]
  },
  {
   "cell_type": "code",
   "execution_count": 53,
   "id": "90032e27-66df-4540-9169-4e89cfbaa758",
   "metadata": {
    "execution": {
     "iopub.execute_input": "2025-08-19T17:18:07.064128Z",
     "iopub.status.busy": "2025-08-19T17:18:07.063373Z",
     "iopub.status.idle": "2025-08-19T17:18:07.082171Z",
     "shell.execute_reply": "2025-08-19T17:18:07.081347Z"
    },
    "papermill": {
     "duration": 0.03568,
     "end_time": "2025-08-19T17:18:07.083633",
     "exception": false,
     "start_time": "2025-08-19T17:18:07.047953",
     "status": "completed"
    },
    "tags": []
   },
   "outputs": [],
   "source": [
    "subgroups = ['frau1','nongerman','nongerman_male','nongerman_female']\n",
    "\n",
    "# Conditional coverage for subgroup==1\n",
    "cond_coverage = {\n",
    "    g: cp_groups_df.loc[cp_groups_df[g]==1, 'covered'].mean()\n",
    "    for g in subgroups\n",
    "}"
   ]
  },
  {
   "cell_type": "code",
   "execution_count": 54,
   "id": "1e348fb1-b9c3-45bc-ba23-f016827a7e0d",
   "metadata": {
    "execution": {
     "iopub.execute_input": "2025-08-19T17:18:07.118371Z",
     "iopub.status.busy": "2025-08-19T17:18:07.117908Z",
     "iopub.status.idle": "2025-08-19T17:18:07.124799Z",
     "shell.execute_reply": "2025-08-19T17:18:07.123970Z"
    },
    "papermill": {
     "duration": 0.029561,
     "end_time": "2025-08-19T17:18:07.126685",
     "exception": false,
     "start_time": "2025-08-19T17:18:07.097124",
     "status": "completed"
    },
    "tags": []
   },
   "outputs": [
    {
     "data": {
      "text/plain": [
       "{'frau1': 0.913303679741205,\n",
       " 'nongerman': 0.9084937966653568,\n",
       " 'nongerman_male': 0.9231739169593803,\n",
       " 'nongerman_female': 0.8842026825633383}"
      ]
     },
     "execution_count": 54,
     "metadata": {},
     "output_type": "execute_result"
    }
   ],
   "source": [
    "cond_coverage"
   ]
  },
  {
   "cell_type": "code",
   "execution_count": 55,
   "id": "f5093324-c3dd-4d63-bc4c-8d945e5c8bbb",
   "metadata": {
    "execution": {
     "iopub.execute_input": "2025-08-19T17:18:07.153786Z",
     "iopub.status.busy": "2025-08-19T17:18:07.153403Z",
     "iopub.status.idle": "2025-08-19T17:18:07.159437Z",
     "shell.execute_reply": "2025-08-19T17:18:07.158713Z"
    },
    "papermill": {
     "duration": 0.021084,
     "end_time": "2025-08-19T17:18:07.160970",
     "exception": false,
     "start_time": "2025-08-19T17:18:07.139886",
     "status": "completed"
    },
    "tags": []
   },
   "outputs": [],
   "source": [
    "for subgroup, cov in cond_coverage.items():\n",
    "    cp_metrics_df[f\"cov_{subgroup}\"] = cov"
   ]
  },
  {
   "cell_type": "code",
   "execution_count": 56,
   "id": "6e872e10-dbe5-49e8-b554-5030c98ff75d",
   "metadata": {
    "execution": {
     "iopub.execute_input": "2025-08-19T17:18:07.188036Z",
     "iopub.status.busy": "2025-08-19T17:18:07.187638Z",
     "iopub.status.idle": "2025-08-19T17:18:07.203660Z",
     "shell.execute_reply": "2025-08-19T17:18:07.202935Z"
    },
    "papermill": {
     "duration": 0.031096,
     "end_time": "2025-08-19T17:18:07.205307",
     "exception": false,
     "start_time": "2025-08-19T17:18:07.174211",
     "status": "completed"
    },
    "tags": []
   },
   "outputs": [
    {
     "data": {
      "text/html": [
       "<div>\n",
       "<style scoped>\n",
       "    .dataframe tbody tr th:only-of-type {\n",
       "        vertical-align: middle;\n",
       "    }\n",
       "\n",
       "    .dataframe tbody tr th {\n",
       "        vertical-align: top;\n",
       "    }\n",
       "\n",
       "    .dataframe thead th {\n",
       "        text-align: right;\n",
       "    }\n",
       "</style>\n",
       "<table border=\"1\" class=\"dataframe\">\n",
       "  <thead>\n",
       "    <tr style=\"text-align: right;\">\n",
       "      <th></th>\n",
       "      <th>universe_id</th>\n",
       "      <th>universe_training_year</th>\n",
       "      <th>universe_training_size</th>\n",
       "      <th>universe_scale</th>\n",
       "      <th>universe_model</th>\n",
       "      <th>universe_exclude_features</th>\n",
       "      <th>universe_exclude_subgroups</th>\n",
       "      <th>q_hat</th>\n",
       "      <th>coverage</th>\n",
       "      <th>avg_size</th>\n",
       "      <th>cov_frau1</th>\n",
       "      <th>cov_nongerman</th>\n",
       "      <th>cov_nongerman_male</th>\n",
       "      <th>cov_nongerman_female</th>\n",
       "    </tr>\n",
       "  </thead>\n",
       "  <tbody>\n",
       "    <tr>\n",
       "      <th>0</th>\n",
       "      <td>616b0cf572a2e986c1ac91d47f0fe181</td>\n",
       "      <td>2010_14</td>\n",
       "      <td>25k</td>\n",
       "      <td>scale</td>\n",
       "      <td>rf</td>\n",
       "      <td>sex</td>\n",
       "      <td>drop-non-german</td>\n",
       "      <td>0.65</td>\n",
       "      <td>0.913978</td>\n",
       "      <td>1.139282</td>\n",
       "      <td>0.913304</td>\n",
       "      <td>0.908494</td>\n",
       "      <td>0.923174</td>\n",
       "      <td>0.884203</td>\n",
       "    </tr>\n",
       "  </tbody>\n",
       "</table>\n",
       "</div>"
      ],
      "text/plain": [
       "                        universe_id universe_training_year  \\\n",
       "0  616b0cf572a2e986c1ac91d47f0fe181                2010_14   \n",
       "\n",
       "  universe_training_size universe_scale universe_model  \\\n",
       "0                    25k          scale             rf   \n",
       "\n",
       "  universe_exclude_features universe_exclude_subgroups  q_hat  coverage  \\\n",
       "0                       sex            drop-non-german   0.65  0.913978   \n",
       "\n",
       "   avg_size  cov_frau1  cov_nongerman  cov_nongerman_male  \\\n",
       "0  1.139282   0.913304       0.908494            0.923174   \n",
       "\n",
       "   cov_nongerman_female  \n",
       "0              0.884203  "
      ]
     },
     "execution_count": 56,
     "metadata": {},
     "output_type": "execute_result"
    }
   ],
   "source": [
    "cp_metrics_df"
   ]
  },
  {
   "cell_type": "markdown",
   "id": "33774451",
   "metadata": {
    "papermill": {
     "duration": 0.012487,
     "end_time": "2025-08-19T17:18:07.233076",
     "exception": false,
     "start_time": "2025-08-19T17:18:07.220589",
     "status": "completed"
    },
    "tags": []
   },
   "source": [
    "# (Fairness) Metrics"
   ]
  },
  {
   "cell_type": "code",
   "execution_count": 57,
   "id": "debc5d62",
   "metadata": {
    "execution": {
     "iopub.execute_input": "2025-08-19T17:18:07.259432Z",
     "iopub.status.busy": "2025-08-19T17:18:07.259026Z",
     "iopub.status.idle": "2025-08-19T17:18:07.274938Z",
     "shell.execute_reply": "2025-08-19T17:18:07.274218Z"
    },
    "papermill": {
     "duration": 0.030789,
     "end_time": "2025-08-19T17:18:07.276315",
     "exception": false,
     "start_time": "2025-08-19T17:18:07.245526",
     "status": "completed"
    },
    "tags": []
   },
   "outputs": [],
   "source": [
    "colname_to_bin = \"maxdeutsch1\"\n",
    "majority_value = org_train[colname_to_bin].mode()[0]\n",
    "\n",
    "org_test[\"majmin\"] = np.where(org_test[colname_to_bin] == majority_value, \"majority\", \"minority\")"
   ]
  },
  {
   "cell_type": "code",
   "execution_count": 58,
   "id": "06a50de5",
   "metadata": {
    "execution": {
     "iopub.execute_input": "2025-08-19T17:18:07.308119Z",
     "iopub.status.busy": "2025-08-19T17:18:07.307720Z",
     "iopub.status.idle": "2025-08-19T17:18:09.012356Z",
     "shell.execute_reply": "2025-08-19T17:18:09.011143Z"
    },
    "papermill": {
     "duration": 1.725657,
     "end_time": "2025-08-19T17:18:09.015699",
     "exception": false,
     "start_time": "2025-08-19T17:18:07.290042",
     "status": "completed"
    },
    "tags": []
   },
   "outputs": [],
   "source": [
    "example_universe = universe.copy()\n",
    "example_universe[\"cutoff\"] = example_universe[\"cutoff\"][0]\n",
    "example_universe[\"eval_fairness_grouping\"] = example_universe[\"eval_fairness_grouping\"][0]\n",
    "fairness_dict, metric_frame = universe_analysis.compute_metrics(\n",
    "    example_universe,\n",
    "    y_pred_prob=probs_test,\n",
    "    y_test=y_true,\n",
    "    org_test=org_test,\n",
    ")"
   ]
  },
  {
   "cell_type": "markdown",
   "id": "f95d4e02",
   "metadata": {
    "papermill": {
     "duration": 0.013281,
     "end_time": "2025-08-19T17:18:09.055886",
     "exception": false,
     "start_time": "2025-08-19T17:18:09.042605",
     "status": "completed"
    },
    "tags": []
   },
   "source": [
    "# Overall"
   ]
  },
  {
   "cell_type": "markdown",
   "id": "bdee4871",
   "metadata": {
    "papermill": {
     "duration": 0.013184,
     "end_time": "2025-08-19T17:18:09.081714",
     "exception": false,
     "start_time": "2025-08-19T17:18:09.068530",
     "status": "completed"
    },
    "tags": []
   },
   "source": [
    "Main fairness target: Equalized Odds. Seems to be a better fit than equal opportunity, since we're not only interested in Y = 1. Seems to be a better fit than demographic parity, since we also care about accuracy, not just equal distribution of preds.\n",
    "\n",
    "Pick column for computation of fairness metrics\n",
    "\n",
    "Performance\n",
    "Overall performance measures, most interesting in relation to the measures split by group below"
   ]
  },
  {
   "cell_type": "code",
   "execution_count": 59,
   "id": "c4e067c6",
   "metadata": {
    "execution": {
     "iopub.execute_input": "2025-08-19T17:18:09.110636Z",
     "iopub.status.busy": "2025-08-19T17:18:09.109855Z",
     "iopub.status.idle": "2025-08-19T17:18:09.125242Z",
     "shell.execute_reply": "2025-08-19T17:18:09.124055Z"
    },
    "papermill": {
     "duration": 0.034083,
     "end_time": "2025-08-19T17:18:09.128430",
     "exception": false,
     "start_time": "2025-08-19T17:18:09.094347",
     "status": "completed"
    },
    "tags": []
   },
   "outputs": [
    {
     "data": {
      "text/plain": [
       "accuracy                   0.195920\n",
       "balanced accuracy          0.530460\n",
       "f1                         0.238289\n",
       "precision                  0.135626\n",
       "false positive rate        0.919529\n",
       "false negative rate        0.019552\n",
       "selection rate             0.927344\n",
       "count                  89710.000000\n",
       "dtype: float64"
      ]
     },
     "execution_count": 59,
     "metadata": {},
     "output_type": "execute_result"
    }
   ],
   "source": [
    "metric_frame.overall"
   ]
  },
  {
   "cell_type": "markdown",
   "id": "e968fe9d",
   "metadata": {
    "papermill": {
     "duration": 0.012817,
     "end_time": "2025-08-19T17:18:09.159463",
     "exception": false,
     "start_time": "2025-08-19T17:18:09.146646",
     "status": "completed"
    },
    "tags": []
   },
   "source": [
    "By Group"
   ]
  },
  {
   "cell_type": "code",
   "execution_count": 60,
   "id": "ec325bce",
   "metadata": {
    "execution": {
     "iopub.execute_input": "2025-08-19T17:18:09.187814Z",
     "iopub.status.busy": "2025-08-19T17:18:09.187093Z",
     "iopub.status.idle": "2025-08-19T17:18:09.208552Z",
     "shell.execute_reply": "2025-08-19T17:18:09.207689Z"
    },
    "papermill": {
     "duration": 0.038134,
     "end_time": "2025-08-19T17:18:09.210343",
     "exception": false,
     "start_time": "2025-08-19T17:18:09.172209",
     "status": "completed"
    },
    "tags": []
   },
   "outputs": [
    {
     "data": {
      "text/html": [
       "<div>\n",
       "<style scoped>\n",
       "    .dataframe tbody tr th:only-of-type {\n",
       "        vertical-align: middle;\n",
       "    }\n",
       "\n",
       "    .dataframe tbody tr th {\n",
       "        vertical-align: top;\n",
       "    }\n",
       "\n",
       "    .dataframe thead th {\n",
       "        text-align: right;\n",
       "    }\n",
       "</style>\n",
       "<table border=\"1\" class=\"dataframe\">\n",
       "  <thead>\n",
       "    <tr style=\"text-align: right;\">\n",
       "      <th></th>\n",
       "      <th>accuracy</th>\n",
       "      <th>balanced accuracy</th>\n",
       "      <th>f1</th>\n",
       "      <th>precision</th>\n",
       "      <th>false positive rate</th>\n",
       "      <th>false negative rate</th>\n",
       "      <th>selection rate</th>\n",
       "      <th>count</th>\n",
       "    </tr>\n",
       "    <tr>\n",
       "      <th>majmin</th>\n",
       "      <th></th>\n",
       "      <th></th>\n",
       "      <th></th>\n",
       "      <th></th>\n",
       "      <th></th>\n",
       "      <th></th>\n",
       "      <th></th>\n",
       "      <th></th>\n",
       "    </tr>\n",
       "  </thead>\n",
       "  <tbody>\n",
       "    <tr>\n",
       "      <th>majority</th>\n",
       "      <td>0.191485</td>\n",
       "      <td>0.530296</td>\n",
       "      <td>0.244634</td>\n",
       "      <td>0.139544</td>\n",
       "      <td>0.930218</td>\n",
       "      <td>0.009190</td>\n",
       "      <td>0.938225</td>\n",
       "      <td>69170.0</td>\n",
       "    </tr>\n",
       "    <tr>\n",
       "      <th>minority</th>\n",
       "      <td>0.210857</td>\n",
       "      <td>0.528119</td>\n",
       "      <td>0.215554</td>\n",
       "      <td>0.121727</td>\n",
       "      <td>0.884217</td>\n",
       "      <td>0.059544</td>\n",
       "      <td>0.890701</td>\n",
       "      <td>20540.0</td>\n",
       "    </tr>\n",
       "  </tbody>\n",
       "</table>\n",
       "</div>"
      ],
      "text/plain": [
       "          accuracy  balanced accuracy        f1  precision  \\\n",
       "majmin                                                       \n",
       "majority  0.191485           0.530296  0.244634   0.139544   \n",
       "minority  0.210857           0.528119  0.215554   0.121727   \n",
       "\n",
       "          false positive rate  false negative rate  selection rate    count  \n",
       "majmin                                                                       \n",
       "majority             0.930218             0.009190        0.938225  69170.0  \n",
       "minority             0.884217             0.059544        0.890701  20540.0  "
      ]
     },
     "execution_count": 60,
     "metadata": {},
     "output_type": "execute_result"
    }
   ],
   "source": [
    "metric_frame.by_group"
   ]
  },
  {
   "cell_type": "code",
   "execution_count": 61,
   "id": "a9ddbe63",
   "metadata": {
    "execution": {
     "iopub.execute_input": "2025-08-19T17:18:09.245248Z",
     "iopub.status.busy": "2025-08-19T17:18:09.244558Z",
     "iopub.status.idle": "2025-08-19T17:18:11.035522Z",
     "shell.execute_reply": "2025-08-19T17:18:11.034336Z"
    },
    "papermill": {
     "duration": 1.808973,
     "end_time": "2025-08-19T17:18:11.038412",
     "exception": false,
     "start_time": "2025-08-19T17:18:09.229439",
     "status": "completed"
    },
    "tags": []
   },
   "outputs": [
    {
     "data": {
      "text/plain": [
       "array([[<Axes: title={'center': 'accuracy'}, xlabel='majmin'>,\n",
       "        <Axes: title={'center': 'balanced accuracy'}, xlabel='majmin'>,\n",
       "        <Axes: title={'center': 'f1'}, xlabel='majmin'>],\n",
       "       [<Axes: title={'center': 'precision'}, xlabel='majmin'>,\n",
       "        <Axes: title={'center': 'false positive rate'}, xlabel='majmin'>,\n",
       "        <Axes: title={'center': 'false negative rate'}, xlabel='majmin'>],\n",
       "       [<Axes: title={'center': 'selection rate'}, xlabel='majmin'>,\n",
       "        <Axes: title={'center': 'count'}, xlabel='majmin'>,\n",
       "        <Axes: xlabel='majmin'>]], dtype=object)"
      ]
     },
     "execution_count": 61,
     "metadata": {},
     "output_type": "execute_result"
    },
    {
     "data": {
      "image/png": "[encoded data removed]",
      "text/plain": [
       "<Figure size 1200x800 with 9 Axes>"
      ]
     },
     "metadata": {},
     "output_type": "display_data"
    }
   ],
   "source": [
    "# In a graphic\n",
    "metric_frame.by_group.plot.bar(\n",
    "    subplots=True,\n",
    "    layout=[3, 3],\n",
    "    legend=False,\n",
    "    figsize=[12, 8],\n",
    "    title=\"Show all metrics\",\n",
    ")"
   ]
  },
  {
   "cell_type": "markdown",
   "id": "f57a0bac",
   "metadata": {
    "papermill": {
     "duration": 0.014206,
     "end_time": "2025-08-19T17:18:11.081111",
     "exception": false,
     "start_time": "2025-08-19T17:18:11.066905",
     "status": "completed"
    },
    "tags": []
   },
   "source": [
    "# Final Output"
   ]
  },
  {
   "cell_type": "code",
   "execution_count": 62,
   "id": "96d280a3",
   "metadata": {
    "execution": {
     "iopub.execute_input": "2025-08-19T17:18:11.114688Z",
     "iopub.status.busy": "2025-08-19T17:18:11.112408Z",
     "iopub.status.idle": "2025-08-19T17:18:11.130403Z",
     "shell.execute_reply": "2025-08-19T17:18:11.129441Z"
    },
    "papermill": {
     "duration": 0.035926,
     "end_time": "2025-08-19T17:18:11.131923",
     "exception": false,
     "start_time": "2025-08-19T17:18:11.095997",
     "status": "completed"
    },
    "tags": []
   },
   "outputs": [
    {
     "data": {
      "text/plain": [
       "4"
      ]
     },
     "execution_count": 62,
     "metadata": {},
     "output_type": "execute_result"
    }
   ],
   "source": [
    "sub_universes = universe_analysis.generate_sub_universes()\n",
    "len(sub_universes)"
   ]
  },
  {
   "cell_type": "code",
   "execution_count": 63,
   "id": "92adf7ba",
   "metadata": {
    "execution": {
     "iopub.execute_input": "2025-08-19T17:18:11.169683Z",
     "iopub.status.busy": "2025-08-19T17:18:11.168684Z",
     "iopub.status.idle": "2025-08-19T17:18:11.177644Z",
     "shell.execute_reply": "2025-08-19T17:18:11.176363Z"
    },
    "papermill": {
     "duration": 0.027453,
     "end_time": "2025-08-19T17:18:11.179243",
     "exception": false,
     "start_time": "2025-08-19T17:18:11.151790",
     "status": "completed"
    },
    "tags": []
   },
   "outputs": [],
   "source": [
    "def filter_sub_universe_data(sub_universe, org_test):\n",
    "    # Keep all rows — no filtering\n",
    "    keep_rows_mask = np.ones(org_test.shape[0], dtype=bool)\n",
    "\n",
    "    print(f\"[INFO] Keeping all rows: {keep_rows_mask.sum()} rows retained.\")\n",
    "    return keep_rows_mask"
   ]
  },
  {
   "cell_type": "code",
   "execution_count": 64,
   "id": "4a759155",
   "metadata": {
    "execution": {
     "iopub.execute_input": "2025-08-19T17:18:11.214150Z",
     "iopub.status.busy": "2025-08-19T17:18:11.212923Z",
     "iopub.status.idle": "2025-08-19T17:18:17.924879Z",
     "shell.execute_reply": "2025-08-19T17:18:17.923781Z"
    },
    "papermill": {
     "duration": 6.735064,
     "end_time": "2025-08-19T17:18:17.932084",
     "exception": false,
     "start_time": "2025-08-19T17:18:11.197020",
     "status": "completed"
    },
    "tags": []
   },
   "outputs": [
    {
     "name": "stdout",
     "output_type": "stream",
     "text": [
      "Stopping execution_time clock.\n",
      "[INFO] Keeping all rows: 89710 rows retained.\n"
     ]
    },
    {
     "name": "stdout",
     "output_type": "stream",
     "text": [
      "[INFO] Keeping all rows: 89710 rows retained.\n"
     ]
    },
    {
     "name": "stdout",
     "output_type": "stream",
     "text": [
      "[INFO] Keeping all rows: 89710 rows retained.\n"
     ]
    },
    {
     "name": "stdout",
     "output_type": "stream",
     "text": [
      "[INFO] Keeping all rows: 89710 rows retained.\n"
     ]
    },
    {
     "data": {
      "text/html": [
       "<div>\n",
       "<style scoped>\n",
       "    .dataframe tbody tr th:only-of-type {\n",
       "        vertical-align: middle;\n",
       "    }\n",
       "\n",
       "    .dataframe tbody tr th {\n",
       "        vertical-align: top;\n",
       "    }\n",
       "\n",
       "    .dataframe thead th {\n",
       "        text-align: right;\n",
       "    }\n",
       "</style>\n",
       "<table border=\"1\" class=\"dataframe\">\n",
       "  <thead>\n",
       "    <tr style=\"text-align: right;\">\n",
       "      <th></th>\n",
       "      <th>run_no</th>\n",
       "      <th>universe_id</th>\n",
       "      <th>universe_settings</th>\n",
       "      <th>execution_time</th>\n",
       "      <th>test_size_n</th>\n",
       "      <th>test_size_frac</th>\n",
       "      <th>fair_main_equalized_odds_difference</th>\n",
       "      <th>fair_main_equalized_odds_ratio</th>\n",
       "      <th>fair_main_demographic_parity_difference</th>\n",
       "      <th>fair_main_demographic_parity_ratio</th>\n",
       "      <th>...</th>\n",
       "      <th>perf_grp_precision_0</th>\n",
       "      <th>perf_grp_precision_1</th>\n",
       "      <th>perf_grp_false positive rate_0</th>\n",
       "      <th>perf_grp_false positive rate_1</th>\n",
       "      <th>perf_grp_false negative rate_0</th>\n",
       "      <th>perf_grp_false negative rate_1</th>\n",
       "      <th>perf_grp_selection rate_0</th>\n",
       "      <th>perf_grp_selection rate_1</th>\n",
       "      <th>perf_grp_count_0</th>\n",
       "      <th>perf_grp_count_1</th>\n",
       "    </tr>\n",
       "  </thead>\n",
       "  <tbody>\n",
       "    <tr>\n",
       "      <th>0</th>\n",
       "      <td>2</td>\n",
       "      <td>616b0cf572a2e986c1ac91d47f0fe181</td>\n",
       "      <td>{\"cutoff\": \"quantile_0.1\", \"eval_fairness_grou...</td>\n",
       "      <td>39.429003</td>\n",
       "      <td>89710</td>\n",
       "      <td>1.0</td>\n",
       "      <td>0.050354</td>\n",
       "      <td>0.949179</td>\n",
       "      <td>0.047524</td>\n",
       "      <td>0.949347</td>\n",
       "      <td>...</td>\n",
       "      <td>NaN</td>\n",
       "      <td>NaN</td>\n",
       "      <td>NaN</td>\n",
       "      <td>NaN</td>\n",
       "      <td>NaN</td>\n",
       "      <td>NaN</td>\n",
       "      <td>NaN</td>\n",
       "      <td>NaN</td>\n",
       "      <td>NaN</td>\n",
       "      <td>NaN</td>\n",
       "    </tr>\n",
       "    <tr>\n",
       "      <th>0</th>\n",
       "      <td>2</td>\n",
       "      <td>616b0cf572a2e986c1ac91d47f0fe181</td>\n",
       "      <td>{\"cutoff\": \"quantile_0.1\", \"eval_fairness_grou...</td>\n",
       "      <td>39.429003</td>\n",
       "      <td>89710</td>\n",
       "      <td>1.0</td>\n",
       "      <td>0.050354</td>\n",
       "      <td>0.949179</td>\n",
       "      <td>0.047524</td>\n",
       "      <td>0.949347</td>\n",
       "      <td>...</td>\n",
       "      <td>0.121727</td>\n",
       "      <td>0.139544</td>\n",
       "      <td>0.884217</td>\n",
       "      <td>0.930218</td>\n",
       "      <td>0.059544</td>\n",
       "      <td>0.009190</td>\n",
       "      <td>0.890701</td>\n",
       "      <td>0.938225</td>\n",
       "      <td>20540.0</td>\n",
       "      <td>69170.0</td>\n",
       "    </tr>\n",
       "    <tr>\n",
       "      <th>0</th>\n",
       "      <td>2</td>\n",
       "      <td>616b0cf572a2e986c1ac91d47f0fe181</td>\n",
       "      <td>{\"cutoff\": \"quantile_0.25\", \"eval_fairness_gro...</td>\n",
       "      <td>39.429003</td>\n",
       "      <td>89710</td>\n",
       "      <td>1.0</td>\n",
       "      <td>0.098049</td>\n",
       "      <td>0.897545</td>\n",
       "      <td>0.061729</td>\n",
       "      <td>0.922003</td>\n",
       "      <td>...</td>\n",
       "      <td>NaN</td>\n",
       "      <td>NaN</td>\n",
       "      <td>NaN</td>\n",
       "      <td>NaN</td>\n",
       "      <td>NaN</td>\n",
       "      <td>NaN</td>\n",
       "      <td>NaN</td>\n",
       "      <td>NaN</td>\n",
       "      <td>NaN</td>\n",
       "      <td>NaN</td>\n",
       "    </tr>\n",
       "    <tr>\n",
       "      <th>0</th>\n",
       "      <td>2</td>\n",
       "      <td>616b0cf572a2e986c1ac91d47f0fe181</td>\n",
       "      <td>{\"cutoff\": \"quantile_0.25\", \"eval_fairness_gro...</td>\n",
       "      <td>39.429003</td>\n",
       "      <td>89710</td>\n",
       "      <td>1.0</td>\n",
       "      <td>0.098049</td>\n",
       "      <td>0.897545</td>\n",
       "      <td>0.061729</td>\n",
       "      <td>0.922003</td>\n",
       "      <td>...</td>\n",
       "      <td>0.135709</td>\n",
       "      <td>0.159783</td>\n",
       "      <td>0.712855</td>\n",
       "      <td>0.766217</td>\n",
       "      <td>0.141047</td>\n",
       "      <td>0.042998</td>\n",
       "      <td>0.729698</td>\n",
       "      <td>0.791427</td>\n",
       "      <td>20540.0</td>\n",
       "      <td>69170.0</td>\n",
       "    </tr>\n",
       "  </tbody>\n",
       "</table>\n",
       "<p>4 rows × 50 columns</p>\n",
       "</div>"
      ],
      "text/plain": [
       "  run_no                       universe_id  \\\n",
       "0      2  616b0cf572a2e986c1ac91d47f0fe181   \n",
       "0      2  616b0cf572a2e986c1ac91d47f0fe181   \n",
       "0      2  616b0cf572a2e986c1ac91d47f0fe181   \n",
       "0      2  616b0cf572a2e986c1ac91d47f0fe181   \n",
       "\n",
       "                                   universe_settings  execution_time  \\\n",
       "0  {\"cutoff\": \"quantile_0.1\", \"eval_fairness_grou...       39.429003   \n",
       "0  {\"cutoff\": \"quantile_0.1\", \"eval_fairness_grou...       39.429003   \n",
       "0  {\"cutoff\": \"quantile_0.25\", \"eval_fairness_gro...       39.429003   \n",
       "0  {\"cutoff\": \"quantile_0.25\", \"eval_fairness_gro...       39.429003   \n",
       "\n",
       "   test_size_n  test_size_frac  fair_main_equalized_odds_difference  \\\n",
       "0        89710             1.0                             0.050354   \n",
       "0        89710             1.0                             0.050354   \n",
       "0        89710             1.0                             0.098049   \n",
       "0        89710             1.0                             0.098049   \n",
       "\n",
       "   fair_main_equalized_odds_ratio  fair_main_demographic_parity_difference  \\\n",
       "0                        0.949179                                 0.047524   \n",
       "0                        0.949179                                 0.047524   \n",
       "0                        0.897545                                 0.061729   \n",
       "0                        0.897545                                 0.061729   \n",
       "\n",
       "   fair_main_demographic_parity_ratio  ...  perf_grp_precision_0  \\\n",
       "0                            0.949347  ...                   NaN   \n",
       "0                            0.949347  ...              0.121727   \n",
       "0                            0.922003  ...                   NaN   \n",
       "0                            0.922003  ...              0.135709   \n",
       "\n",
       "   perf_grp_precision_1  perf_grp_false positive rate_0  \\\n",
       "0                   NaN                             NaN   \n",
       "0              0.139544                        0.884217   \n",
       "0                   NaN                             NaN   \n",
       "0              0.159783                        0.712855   \n",
       "\n",
       "   perf_grp_false positive rate_1  perf_grp_false negative rate_0  \\\n",
       "0                             NaN                             NaN   \n",
       "0                        0.930218                        0.059544   \n",
       "0                             NaN                             NaN   \n",
       "0                        0.766217                        0.141047   \n",
       "\n",
       "   perf_grp_false negative rate_1  perf_grp_selection rate_0  \\\n",
       "0                             NaN                        NaN   \n",
       "0                        0.009190                   0.890701   \n",
       "0                             NaN                        NaN   \n",
       "0                        0.042998                   0.729698   \n",
       "\n",
       "   perf_grp_selection rate_1  perf_grp_count_0  perf_grp_count_1  \n",
       "0                        NaN               NaN               NaN  \n",
       "0                   0.938225           20540.0           69170.0  \n",
       "0                        NaN               NaN               NaN  \n",
       "0                   0.791427           20540.0           69170.0  \n",
       "\n",
       "[4 rows x 50 columns]"
      ]
     },
     "execution_count": 64,
     "metadata": {},
     "output_type": "execute_result"
    }
   ],
   "source": [
    "final_output = universe_analysis.generate_final_output(\n",
    "    y_pred_prob=probs_test,\n",
    "    y_test=y_true,\n",
    "    org_test=org_test,\n",
    "    filter_data=filter_sub_universe_data,\n",
    "    cp_metrics_df=cp_metrics_df,\n",
    "    save=True,\n",
    ")\n",
    "final_output"
   ]
  },
  {
   "cell_type": "code",
   "execution_count": null,
   "id": "571f9a0f-660a-4841-b661-b06fbc637944",
   "metadata": {
    "papermill": {
     "duration": 0.017457,
     "end_time": "2025-08-19T17:18:17.981075",
     "exception": false,
     "start_time": "2025-08-19T17:18:17.963618",
     "status": "completed"
    },
    "tags": []
   },
   "outputs": [],
   "source": []
  },
  {
   "cell_type": "code",
   "execution_count": null,
   "id": "529482e3-0150-4854-a92d-ab864efc606e",
   "metadata": {
    "papermill": {
     "duration": 0.016605,
     "end_time": "2025-08-19T17:18:18.014300",
     "exception": false,
     "start_time": "2025-08-19T17:18:17.997695",
     "status": "completed"
    },
    "tags": []
   },
   "outputs": [],
   "source": []
  }
 ],
 "metadata": {
  "celltoolbar": "Tags",
  "kernelspec": {
   "display_name": "Python (CMA Fairness)",
   "language": "python",
   "name": "cma_fair_env"
  },
  "language_info": {
   "codemirror_mode": {
    "name": "ipython",
    "version": 3
   },
   "file_extension": ".py",
   "mimetype": "text/x-python",
   "name": "python",
   "nbconvert_exporter": "python",
   "pygments_lexer": "ipython3",
   "version": "3.10.12"
  },
  "papermill": {
   "default_parameters": {},
   "duration": 49.853493,
   "end_time": "2025-08-19T17:18:18.871304",
   "environment_variables": {},
   "exception": null,
   "input_path": "universe_analysis.ipynb",
   "output_path": "output/runs/2/notebooks/m_2-616b0cf572a2e986c1ac91d47f0fe181.ipynb",
   "parameters": {
    "output_dir": "output",
    "run_no": "2",
    "seed": "2023",
    "universe": "{\"cutoff\": [\"quantile_0.1\", \"quantile_0.25\"], \"eval_fairness_grouping\": [\"majority-minority\", \"nationality-all\"], \"exclude_features\": \"sex\", \"exclude_subgroups\": \"drop-non-german\", \"model\": \"rf\", \"scale\": \"scale\", \"training_size\": \"25k\", \"training_year\": \"2010_14\"}",
    "universe_id": "616b0cf572a2e986c1ac91d47f0fe181"
   },
   "start_time": "2025-08-19T17:17:29.017811",
   "version": "2.6.0"
  }
 },
 "nbformat": 4,
 "nbformat_minor": 5
}