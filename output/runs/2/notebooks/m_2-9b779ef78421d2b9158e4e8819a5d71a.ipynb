{
 "cells": [
  {
   "cell_type": "markdown",
   "id": "b2057076-3a91-4cfa-9bfd-eab1e61b3068",
   "metadata": {
    "papermill": {
     "duration": 0.021889,
     "end_time": "2025-08-19T17:00:57.963870",
     "exception": false,
     "start_time": "2025-08-19T17:00:57.941981",
     "status": "completed"
    },
    "tags": []
   },
   "source": [
    "# Setup"
   ]
  },
  {
   "cell_type": "code",
   "execution_count": 1,
   "id": "f159f837-637b-42ba-96b5-ec9a68c44524",
   "metadata": {
    "execution": {
     "iopub.execute_input": "2025-08-19T17:00:57.986174Z",
     "iopub.status.busy": "2025-08-19T17:00:57.985795Z",
     "iopub.status.idle": "2025-08-19T17:00:57.998768Z",
     "shell.execute_reply": "2025-08-19T17:00:57.997764Z"
    },
    "papermill": {
     "duration": 0.025109,
     "end_time": "2025-08-19T17:00:58.000612",
     "exception": false,
     "start_time": "2025-08-19T17:00:57.975503",
     "status": "completed"
    },
    "tags": []
   },
   "outputs": [
    {
     "name": "stdout",
     "output_type": "stream",
     "text": [
      "/dss/dsshome1/0C/ra93lal2/cma/CMA_Fairness_v2\n"
     ]
    },
    {
     "name": "stderr",
     "output_type": "stream",
     "text": [
      "/dss/dsshome1/0C/ra93lal2/.local/share/virtualenvs/CMA_Fairness_v2-3j10GkSs/lib/python3.10/site-packages/IPython/core/magics/osm.py:393: UserWarning: This is now an optional IPython functionality, using bookmarks requires you to install the `pickleshare` library.\n",
      "  bkms = self.shell.db.get('bookmarks', {})\n",
      "/dss/dsshome1/0C/ra93lal2/.local/share/virtualenvs/CMA_Fairness_v2-3j10GkSs/lib/python3.10/site-packages/IPython/core/magics/osm.py:417: UserWarning: This is now an optional IPython functionality, setting dhist requires you to install the `pickleshare` library.\n",
      "  self.shell.db['dhist'] = compress_dhist(dhist)[-100:]\n"
     ]
    }
   ],
   "source": [
    "%cd ~/cma/CMA_Fairness_v2"
   ]
  },
  {
   "cell_type": "markdown",
   "id": "de2603b9",
   "metadata": {
    "papermill": {
     "duration": 0.010042,
     "end_time": "2025-08-19T17:00:58.024893",
     "exception": false,
     "start_time": "2025-08-19T17:00:58.014851",
     "status": "completed"
    },
    "tags": []
   },
   "source": [
    "The following cell holds the definition of our parameters, these values can be overriden by rendering the with e.g. the following command:\n",
    "\n",
    "papermill -p alpha 0.2 -p ratio 0.3 universe_analysis.ipynb output/test_run.ipynb"
   ]
  },
  {
   "cell_type": "code",
   "execution_count": 2,
   "id": "a80968a0-40bb-4fa9-85ef-2d5eefb01975",
   "metadata": {
    "execution": {
     "iopub.execute_input": "2025-08-19T17:00:58.043736Z",
     "iopub.status.busy": "2025-08-19T17:00:58.043379Z",
     "iopub.status.idle": "2025-08-19T17:00:58.050768Z",
     "shell.execute_reply": "2025-08-19T17:00:58.049797Z"
    },
    "papermill": {
     "duration": 0.018901,
     "end_time": "2025-08-19T17:00:58.052399",
     "exception": false,
     "start_time": "2025-08-19T17:00:58.033498",
     "status": "completed"
    },
    "tags": []
   },
   "outputs": [
    {
     "name": "stdout",
     "output_type": "stream",
     "text": [
      "Current working directory: /dss/dsshome1/0C/ra93lal2/cma/CMA_Fairness_v2\n"
     ]
    }
   ],
   "source": [
    "import os\n",
    "print(\"Current working directory:\", os.getcwd())"
   ]
  },
  {
   "cell_type": "code",
   "execution_count": 3,
   "id": "2dce4c03",
   "metadata": {
    "execution": {
     "iopub.execute_input": "2025-08-19T17:00:58.074014Z",
     "iopub.status.busy": "2025-08-19T17:00:58.073642Z",
     "iopub.status.idle": "2025-08-19T17:00:58.080727Z",
     "shell.execute_reply": "2025-08-19T17:00:58.079437Z"
    },
    "papermill": {
     "duration": 0.018341,
     "end_time": "2025-08-19T17:00:58.082032",
     "exception": false,
     "start_time": "2025-08-19T17:00:58.063691",
     "status": "completed"
    },
    "tags": [
     "parameters"
    ]
   },
   "outputs": [],
   "source": [
    "run_no = 0\n",
    "universe_id = \"test\"\n",
    "universe = {\n",
    "    \"training_size\": \"5k\", # \"25k\", \"5k\", \"1k\"\n",
    "    \"training_year\": \"2012_14\", # \"2014\", \"2012_14\", \"2010_14\"\n",
    "    \"scale\": \"scale\", # \"scale\", \"do-not-scale\",\n",
    "    \"model\": \"elasticnet\", # \"logreg\", \"penalized_logreg\", \"rf\", \"gbm\", \"elasticnet\"\n",
    "    \"cutoff\": [\"quantile_0.15\", \"quantile_0.30\"],\n",
    "    \"exclude_features\": \"age\", # \"none\", \"nationality\", \"sex\", \"nationality-sex\", \"age\"\n",
    "    \"exclude_subgroups\": \"drop-non-german\", # \"keep-all\", \"drop-non-german\"\n",
    "    \"eval_fairness_grouping\": [\"majority-minority\", \"nationality-all\"]\n",
    "}\n",
    "\n",
    "output_dir=\"./output\"\n",
    "seed=0"
   ]
  },
  {
   "cell_type": "code",
   "execution_count": 4,
   "id": "f9dde2b6",
   "metadata": {
    "execution": {
     "iopub.execute_input": "2025-08-19T17:00:58.104115Z",
     "iopub.status.busy": "2025-08-19T17:00:58.103744Z",
     "iopub.status.idle": "2025-08-19T17:00:58.110242Z",
     "shell.execute_reply": "2025-08-19T17:00:58.109090Z"
    },
    "papermill": {
     "duration": 0.018087,
     "end_time": "2025-08-19T17:00:58.111727",
     "exception": false,
     "start_time": "2025-08-19T17:00:58.093640",
     "status": "completed"
    },
    "tags": [
     "injected-parameters"
    ]
   },
   "outputs": [],
   "source": [
    "# Parameters\n",
    "universe_id = \"9b779ef78421d2b9158e4e8819a5d71a\"\n",
    "run_no = \"2\"\n",
    "universe = \"{\\\"cutoff\\\": [\\\"quantile_0.1\\\", \\\"quantile_0.25\\\"], \\\"eval_fairness_grouping\\\": [\\\"majority-minority\\\", \\\"nationality-all\\\"], \\\"exclude_features\\\": \\\"nationality\\\", \\\"exclude_subgroups\\\": \\\"keep-all\\\", \\\"model\\\": \\\"logreg\\\", \\\"scale\\\": \\\"do-not-scale\\\", \\\"training_size\\\": \\\"25k\\\", \\\"training_year\\\": \\\"2014\\\"}\"\n",
    "output_dir = \"output\"\n",
    "seed = \"2023\"\n"
   ]
  },
  {
   "cell_type": "code",
   "execution_count": 5,
   "id": "1650acaf",
   "metadata": {
    "execution": {
     "iopub.execute_input": "2025-08-19T17:00:58.133577Z",
     "iopub.status.busy": "2025-08-19T17:00:58.133218Z",
     "iopub.status.idle": "2025-08-19T17:00:58.139315Z",
     "shell.execute_reply": "2025-08-19T17:00:58.138334Z"
    },
    "papermill": {
     "duration": 0.017587,
     "end_time": "2025-08-19T17:00:58.140867",
     "exception": false,
     "start_time": "2025-08-19T17:00:58.123280",
     "status": "completed"
    },
    "tags": []
   },
   "outputs": [],
   "source": [
    "import json\n",
    "if isinstance(universe, str):\n",
    "    universe = json.loads(universe)"
   ]
  },
  {
   "cell_type": "code",
   "execution_count": 6,
   "id": "16620c48",
   "metadata": {
    "execution": {
     "iopub.execute_input": "2025-08-19T17:00:58.162994Z",
     "iopub.status.busy": "2025-08-19T17:00:58.162647Z",
     "iopub.status.idle": "2025-08-19T17:00:58.228221Z",
     "shell.execute_reply": "2025-08-19T17:00:58.227545Z"
    },
    "papermill": {
     "duration": 0.078612,
     "end_time": "2025-08-19T17:00:58.230678",
     "exception": false,
     "start_time": "2025-08-19T17:00:58.152066",
     "status": "completed"
    },
    "tags": []
   },
   "outputs": [],
   "source": [
    "# Auto-reload the custom package\n",
    "%load_ext autoreload\n",
    "%autoreload 1\n",
    "%aimport fairness_multiverse"
   ]
  },
  {
   "cell_type": "code",
   "execution_count": 7,
   "id": "01c5c9f3",
   "metadata": {
    "execution": {
     "iopub.execute_input": "2025-08-19T17:00:58.281352Z",
     "iopub.status.busy": "2025-08-19T17:00:58.280061Z",
     "iopub.status.idle": "2025-08-19T17:00:59.729131Z",
     "shell.execute_reply": "2025-08-19T17:00:59.728310Z"
    },
    "papermill": {
     "duration": 1.477036,
     "end_time": "2025-08-19T17:00:59.730756",
     "exception": false,
     "start_time": "2025-08-19T17:00:58.253720",
     "status": "completed"
    },
    "tags": []
   },
   "outputs": [],
   "source": [
    "from fairness_multiverse.universe import UniverseAnalysis\n",
    "\n",
    "universe_analysis = UniverseAnalysis(\n",
    "    run_no = run_no,\n",
    "    universe_id = universe_id,\n",
    "    universe = universe,\n",
    "    output_dir=output_dir,\n",
    ")"
   ]
  },
  {
   "cell_type": "code",
   "execution_count": 8,
   "id": "106241f5",
   "metadata": {
    "execution": {
     "iopub.execute_input": "2025-08-19T17:00:59.751369Z",
     "iopub.status.busy": "2025-08-19T17:00:59.750726Z",
     "iopub.status.idle": "2025-08-19T17:00:59.757313Z",
     "shell.execute_reply": "2025-08-19T17:00:59.756429Z"
    },
    "papermill": {
     "duration": 0.01842,
     "end_time": "2025-08-19T17:00:59.758813",
     "exception": false,
     "start_time": "2025-08-19T17:00:59.740393",
     "status": "completed"
    },
    "tags": []
   },
   "outputs": [
    {
     "name": "stdout",
     "output_type": "stream",
     "text": [
      "Using Seed: 2023\n"
     ]
    }
   ],
   "source": [
    "import numpy as np\n",
    "parsed_seed = int(seed)\n",
    "np.random.seed(parsed_seed)\n",
    "print(f\"Using Seed: {parsed_seed}\")"
   ]
  },
  {
   "cell_type": "markdown",
   "id": "e0ebdc57",
   "metadata": {
    "papermill": {
     "duration": 0.009364,
     "end_time": "2025-08-19T17:00:59.777711",
     "exception": false,
     "start_time": "2025-08-19T17:00:59.768347",
     "status": "completed"
    },
    "tags": []
   },
   "source": [
    "# Loading Data"
   ]
  },
  {
   "cell_type": "code",
   "execution_count": 9,
   "id": "f0496b8a",
   "metadata": {
    "execution": {
     "iopub.execute_input": "2025-08-19T17:00:59.798379Z",
     "iopub.status.busy": "2025-08-19T17:00:59.797444Z",
     "iopub.status.idle": "2025-08-19T17:01:09.846928Z",
     "shell.execute_reply": "2025-08-19T17:01:09.846017Z"
    },
    "papermill": {
     "duration": 10.061962,
     "end_time": "2025-08-19T17:01:09.848693",
     "exception": false,
     "start_time": "2025-08-19T17:00:59.786731",
     "status": "completed"
    },
    "tags": []
   },
   "outputs": [
    {
     "name": "stdout",
     "output_type": "stream",
     "text": [
      "Loading SIAB data from cache: data/siab_cached.csv.gz\n"
     ]
    },
    {
     "name": "stdout",
     "output_type": "stream",
     "text": [
      "(643690, 164)\n"
     ]
    }
   ],
   "source": [
    "from pathlib import Path\n",
    "import pandas as pd\n",
    "\n",
    "# File paths\n",
    "raw_file = Path(\"data/raw/siab.csv\")\n",
    "cache_file = Path(\"data/siab_cached.csv.gz\")\n",
    "\n",
    "# Ensure cache directory exists\n",
    "cache_file.parent.mkdir(parents=True, exist_ok=True)\n",
    "\n",
    "# Load with simple caching\n",
    "if cache_file.exists():\n",
    "    print(f\"Loading SIAB data from cache: {cache_file}\")\n",
    "    siab = pd.read_csv(cache_file, compression='gzip')\n",
    "else:\n",
    "    print(f\"Cache not found. Reading raw SIAB data: {raw_file}\")\n",
    "    siab = pd.read_csv(raw_file)\n",
    "    siab.to_csv(cache_file, index=False, compression='gzip')\n",
    "    print(f\"Cached SIAB data to: {cache_file}\")\n",
    "\n",
    "print(siab.shape)"
   ]
  },
  {
   "cell_type": "code",
   "execution_count": 10,
   "id": "db0ca512-5f53-4dba-abdb-a2888bca41ba",
   "metadata": {
    "execution": {
     "iopub.execute_input": "2025-08-19T17:01:09.874403Z",
     "iopub.status.busy": "2025-08-19T17:01:09.873192Z",
     "iopub.status.idle": "2025-08-19T17:01:10.067983Z",
     "shell.execute_reply": "2025-08-19T17:01:10.067146Z"
    },
    "papermill": {
     "duration": 0.208319,
     "end_time": "2025-08-19T17:01:10.069438",
     "exception": false,
     "start_time": "2025-08-19T17:01:09.861119",
     "status": "completed"
    },
    "tags": []
   },
   "outputs": [
    {
     "data": {
      "text/html": [
       "<div>\n",
       "<style scoped>\n",
       "    .dataframe tbody tr th:only-of-type {\n",
       "        vertical-align: middle;\n",
       "    }\n",
       "\n",
       "    .dataframe tbody tr th {\n",
       "        vertical-align: top;\n",
       "    }\n",
       "\n",
       "    .dataframe thead th {\n",
       "        text-align: right;\n",
       "    }\n",
       "</style>\n",
       "<table border=\"1\" class=\"dataframe\">\n",
       "  <thead>\n",
       "    <tr style=\"text-align: right;\">\n",
       "      <th></th>\n",
       "      <th>persnr</th>\n",
       "      <th>year</th>\n",
       "      <th>nrEntry</th>\n",
       "      <th>ltue</th>\n",
       "      <th>employed_before</th>\n",
       "      <th>receipt_leh_before</th>\n",
       "      <th>receipt_lhg_before</th>\n",
       "      <th>se_before</th>\n",
       "      <th>ASU_notue_seeking_before</th>\n",
       "      <th>ASU_other_before</th>\n",
       "      <th>...</th>\n",
       "      <th>minijob_tot_dur_byage</th>\n",
       "      <th>ft_tot_dur_byage</th>\n",
       "      <th>befrist_tot_dur_byage</th>\n",
       "      <th>leih_tot_dur_byage</th>\n",
       "      <th>LHG_tot_dur_byage</th>\n",
       "      <th>LEH_tot_dur_byage</th>\n",
       "      <th>almp_tot_dur_byage</th>\n",
       "      <th>almp_aw_tot_dur_byage</th>\n",
       "      <th>se_tot_dur_byage</th>\n",
       "      <th>seeking1_tot_dur_byage</th>\n",
       "    </tr>\n",
       "  </thead>\n",
       "  <tbody>\n",
       "    <tr>\n",
       "      <th>0</th>\n",
       "      <td>7</td>\n",
       "      <td>2015</td>\n",
       "      <td>1</td>\n",
       "      <td>0</td>\n",
       "      <td>1</td>\n",
       "      <td>0</td>\n",
       "      <td>0</td>\n",
       "      <td>0</td>\n",
       "      <td>1</td>\n",
       "      <td>0</td>\n",
       "      <td>...</td>\n",
       "      <td>0.000000</td>\n",
       "      <td>0.000000</td>\n",
       "      <td>15.043478</td>\n",
       "      <td>0.000000</td>\n",
       "      <td>0.000000</td>\n",
       "      <td>0.000000</td>\n",
       "      <td>0.000000</td>\n",
       "      <td>0.000000</td>\n",
       "      <td>0.000000</td>\n",
       "      <td>0.000000</td>\n",
       "    </tr>\n",
       "    <tr>\n",
       "      <th>1</th>\n",
       "      <td>18</td>\n",
       "      <td>2010</td>\n",
       "      <td>1</td>\n",
       "      <td>1</td>\n",
       "      <td>0</td>\n",
       "      <td>0</td>\n",
       "      <td>0</td>\n",
       "      <td>0</td>\n",
       "      <td>0</td>\n",
       "      <td>0</td>\n",
       "      <td>...</td>\n",
       "      <td>0.000000</td>\n",
       "      <td>0.000000</td>\n",
       "      <td>0.000000</td>\n",
       "      <td>0.000000</td>\n",
       "      <td>0.000000</td>\n",
       "      <td>0.000000</td>\n",
       "      <td>0.000000</td>\n",
       "      <td>0.000000</td>\n",
       "      <td>0.000000</td>\n",
       "      <td>0.000000</td>\n",
       "    </tr>\n",
       "    <tr>\n",
       "      <th>2</th>\n",
       "      <td>18</td>\n",
       "      <td>2011</td>\n",
       "      <td>2</td>\n",
       "      <td>0</td>\n",
       "      <td>1</td>\n",
       "      <td>0</td>\n",
       "      <td>1</td>\n",
       "      <td>0</td>\n",
       "      <td>1</td>\n",
       "      <td>0</td>\n",
       "      <td>...</td>\n",
       "      <td>2.714286</td>\n",
       "      <td>2.714286</td>\n",
       "      <td>0.000000</td>\n",
       "      <td>0.000000</td>\n",
       "      <td>10.775510</td>\n",
       "      <td>0.000000</td>\n",
       "      <td>8.367347</td>\n",
       "      <td>0.000000</td>\n",
       "      <td>0.000000</td>\n",
       "      <td>9.836735</td>\n",
       "    </tr>\n",
       "    <tr>\n",
       "      <th>3</th>\n",
       "      <td>18</td>\n",
       "      <td>2012</td>\n",
       "      <td>3</td>\n",
       "      <td>0</td>\n",
       "      <td>1</td>\n",
       "      <td>0</td>\n",
       "      <td>1</td>\n",
       "      <td>0</td>\n",
       "      <td>1</td>\n",
       "      <td>0</td>\n",
       "      <td>...</td>\n",
       "      <td>4.200000</td>\n",
       "      <td>4.200000</td>\n",
       "      <td>0.000000</td>\n",
       "      <td>0.000000</td>\n",
       "      <td>12.100000</td>\n",
       "      <td>0.000000</td>\n",
       "      <td>9.400000</td>\n",
       "      <td>0.000000</td>\n",
       "      <td>0.000000</td>\n",
       "      <td>9.960000</td>\n",
       "    </tr>\n",
       "    <tr>\n",
       "      <th>4</th>\n",
       "      <td>18</td>\n",
       "      <td>2012</td>\n",
       "      <td>4</td>\n",
       "      <td>0</td>\n",
       "      <td>1</td>\n",
       "      <td>0</td>\n",
       "      <td>1</td>\n",
       "      <td>0</td>\n",
       "      <td>1</td>\n",
       "      <td>0</td>\n",
       "      <td>...</td>\n",
       "      <td>5.460000</td>\n",
       "      <td>5.460000</td>\n",
       "      <td>0.000000</td>\n",
       "      <td>0.000000</td>\n",
       "      <td>13.360000</td>\n",
       "      <td>0.000000</td>\n",
       "      <td>10.320000</td>\n",
       "      <td>0.000000</td>\n",
       "      <td>0.000000</td>\n",
       "      <td>10.280000</td>\n",
       "    </tr>\n",
       "    <tr>\n",
       "      <th>...</th>\n",
       "      <td>...</td>\n",
       "      <td>...</td>\n",
       "      <td>...</td>\n",
       "      <td>...</td>\n",
       "      <td>...</td>\n",
       "      <td>...</td>\n",
       "      <td>...</td>\n",
       "      <td>...</td>\n",
       "      <td>...</td>\n",
       "      <td>...</td>\n",
       "      <td>...</td>\n",
       "      <td>...</td>\n",
       "      <td>...</td>\n",
       "      <td>...</td>\n",
       "      <td>...</td>\n",
       "      <td>...</td>\n",
       "      <td>...</td>\n",
       "      <td>...</td>\n",
       "      <td>...</td>\n",
       "      <td>...</td>\n",
       "      <td>...</td>\n",
       "    </tr>\n",
       "    <tr>\n",
       "      <th>643685</th>\n",
       "      <td>1827860</td>\n",
       "      <td>2013</td>\n",
       "      <td>1</td>\n",
       "      <td>0</td>\n",
       "      <td>0</td>\n",
       "      <td>0</td>\n",
       "      <td>1</td>\n",
       "      <td>0</td>\n",
       "      <td>0</td>\n",
       "      <td>1</td>\n",
       "      <td>...</td>\n",
       "      <td>0.000000</td>\n",
       "      <td>0.000000</td>\n",
       "      <td>0.000000</td>\n",
       "      <td>0.000000</td>\n",
       "      <td>0.612903</td>\n",
       "      <td>0.000000</td>\n",
       "      <td>0.000000</td>\n",
       "      <td>0.000000</td>\n",
       "      <td>0.000000</td>\n",
       "      <td>0.000000</td>\n",
       "    </tr>\n",
       "    <tr>\n",
       "      <th>643686</th>\n",
       "      <td>1827860</td>\n",
       "      <td>2015</td>\n",
       "      <td>2</td>\n",
       "      <td>1</td>\n",
       "      <td>0</td>\n",
       "      <td>0</td>\n",
       "      <td>1</td>\n",
       "      <td>0</td>\n",
       "      <td>1</td>\n",
       "      <td>0</td>\n",
       "      <td>...</td>\n",
       "      <td>0.000000</td>\n",
       "      <td>0.000000</td>\n",
       "      <td>0.212121</td>\n",
       "      <td>0.212121</td>\n",
       "      <td>17.363636</td>\n",
       "      <td>0.000000</td>\n",
       "      <td>8.909091</td>\n",
       "      <td>0.000000</td>\n",
       "      <td>0.000000</td>\n",
       "      <td>7.121212</td>\n",
       "    </tr>\n",
       "    <tr>\n",
       "      <th>643687</th>\n",
       "      <td>1827860</td>\n",
       "      <td>2016</td>\n",
       "      <td>3</td>\n",
       "      <td>1</td>\n",
       "      <td>0</td>\n",
       "      <td>0</td>\n",
       "      <td>1</td>\n",
       "      <td>1</td>\n",
       "      <td>0</td>\n",
       "      <td>1</td>\n",
       "      <td>...</td>\n",
       "      <td>0.000000</td>\n",
       "      <td>0.000000</td>\n",
       "      <td>0.294118</td>\n",
       "      <td>0.205882</td>\n",
       "      <td>34.705882</td>\n",
       "      <td>0.000000</td>\n",
       "      <td>10.352941</td>\n",
       "      <td>1.705882</td>\n",
       "      <td>1.705882</td>\n",
       "      <td>23.911765</td>\n",
       "    </tr>\n",
       "    <tr>\n",
       "      <th>643688</th>\n",
       "      <td>1827869</td>\n",
       "      <td>2013</td>\n",
       "      <td>1</td>\n",
       "      <td>1</td>\n",
       "      <td>1</td>\n",
       "      <td>0</td>\n",
       "      <td>0</td>\n",
       "      <td>0</td>\n",
       "      <td>1</td>\n",
       "      <td>0</td>\n",
       "      <td>...</td>\n",
       "      <td>0.000000</td>\n",
       "      <td>0.000000</td>\n",
       "      <td>0.000000</td>\n",
       "      <td>0.000000</td>\n",
       "      <td>0.000000</td>\n",
       "      <td>0.525424</td>\n",
       "      <td>0.000000</td>\n",
       "      <td>0.000000</td>\n",
       "      <td>0.000000</td>\n",
       "      <td>0.000000</td>\n",
       "    </tr>\n",
       "    <tr>\n",
       "      <th>643689</th>\n",
       "      <td>1827869</td>\n",
       "      <td>2014</td>\n",
       "      <td>2</td>\n",
       "      <td>0</td>\n",
       "      <td>0</td>\n",
       "      <td>1</td>\n",
       "      <td>0</td>\n",
       "      <td>0</td>\n",
       "      <td>1</td>\n",
       "      <td>0</td>\n",
       "      <td>...</td>\n",
       "      <td>0.000000</td>\n",
       "      <td>0.666667</td>\n",
       "      <td>0.666667</td>\n",
       "      <td>0.000000</td>\n",
       "      <td>0.000000</td>\n",
       "      <td>8.950000</td>\n",
       "      <td>1.033333</td>\n",
       "      <td>0.083333</td>\n",
       "      <td>0.083333</td>\n",
       "      <td>8.133333</td>\n",
       "    </tr>\n",
       "  </tbody>\n",
       "</table>\n",
       "<p>643690 rows × 164 columns</p>\n",
       "</div>"
      ],
      "text/plain": [
       "         persnr  year  nrEntry  ltue  employed_before  receipt_leh_before  \\\n",
       "0             7  2015        1     0                1                   0   \n",
       "1            18  2010        1     1                0                   0   \n",
       "2            18  2011        2     0                1                   0   \n",
       "3            18  2012        3     0                1                   0   \n",
       "4            18  2012        4     0                1                   0   \n",
       "...         ...   ...      ...   ...              ...                 ...   \n",
       "643685  1827860  2013        1     0                0                   0   \n",
       "643686  1827860  2015        2     1                0                   0   \n",
       "643687  1827860  2016        3     1                0                   0   \n",
       "643688  1827869  2013        1     1                1                   0   \n",
       "643689  1827869  2014        2     0                0                   1   \n",
       "\n",
       "        receipt_lhg_before  se_before  ASU_notue_seeking_before  \\\n",
       "0                        0          0                         1   \n",
       "1                        0          0                         0   \n",
       "2                        1          0                         1   \n",
       "3                        1          0                         1   \n",
       "4                        1          0                         1   \n",
       "...                    ...        ...                       ...   \n",
       "643685                   1          0                         0   \n",
       "643686                   1          0                         1   \n",
       "643687                   1          1                         0   \n",
       "643688                   0          0                         1   \n",
       "643689                   0          0                         1   \n",
       "\n",
       "        ASU_other_before  ...  minijob_tot_dur_byage  ft_tot_dur_byage  \\\n",
       "0                      0  ...               0.000000          0.000000   \n",
       "1                      0  ...               0.000000          0.000000   \n",
       "2                      0  ...               2.714286          2.714286   \n",
       "3                      0  ...               4.200000          4.200000   \n",
       "4                      0  ...               5.460000          5.460000   \n",
       "...                  ...  ...                    ...               ...   \n",
       "643685                 1  ...               0.000000          0.000000   \n",
       "643686                 0  ...               0.000000          0.000000   \n",
       "643687                 1  ...               0.000000          0.000000   \n",
       "643688                 0  ...               0.000000          0.000000   \n",
       "643689                 0  ...               0.000000          0.666667   \n",
       "\n",
       "        befrist_tot_dur_byage  leih_tot_dur_byage  LHG_tot_dur_byage  \\\n",
       "0                   15.043478            0.000000           0.000000   \n",
       "1                    0.000000            0.000000           0.000000   \n",
       "2                    0.000000            0.000000          10.775510   \n",
       "3                    0.000000            0.000000          12.100000   \n",
       "4                    0.000000            0.000000          13.360000   \n",
       "...                       ...                 ...                ...   \n",
       "643685               0.000000            0.000000           0.612903   \n",
       "643686               0.212121            0.212121          17.363636   \n",
       "643687               0.294118            0.205882          34.705882   \n",
       "643688               0.000000            0.000000           0.000000   \n",
       "643689               0.666667            0.000000           0.000000   \n",
       "\n",
       "        LEH_tot_dur_byage  almp_tot_dur_byage  almp_aw_tot_dur_byage  \\\n",
       "0                0.000000            0.000000               0.000000   \n",
       "1                0.000000            0.000000               0.000000   \n",
       "2                0.000000            8.367347               0.000000   \n",
       "3                0.000000            9.400000               0.000000   \n",
       "4                0.000000           10.320000               0.000000   \n",
       "...                   ...                 ...                    ...   \n",
       "643685           0.000000            0.000000               0.000000   \n",
       "643686           0.000000            8.909091               0.000000   \n",
       "643687           0.000000           10.352941               1.705882   \n",
       "643688           0.525424            0.000000               0.000000   \n",
       "643689           8.950000            1.033333               0.083333   \n",
       "\n",
       "        se_tot_dur_byage  seeking1_tot_dur_byage  \n",
       "0               0.000000                0.000000  \n",
       "1               0.000000                0.000000  \n",
       "2               0.000000                9.836735  \n",
       "3               0.000000                9.960000  \n",
       "4               0.000000               10.280000  \n",
       "...                  ...                     ...  \n",
       "643685          0.000000                0.000000  \n",
       "643686          0.000000                7.121212  \n",
       "643687          1.705882               23.911765  \n",
       "643688          0.000000                0.000000  \n",
       "643689          0.083333                8.133333  \n",
       "\n",
       "[643690 rows x 164 columns]"
      ]
     },
     "execution_count": 10,
     "metadata": {},
     "output_type": "execute_result"
    }
   ],
   "source": [
    "siab"
   ]
  },
  {
   "cell_type": "markdown",
   "id": "997051c5-15bd-4b69-9786-c3001a3ce484",
   "metadata": {
    "papermill": {
     "duration": 0.009992,
     "end_time": "2025-08-19T17:01:10.097797",
     "exception": false,
     "start_time": "2025-08-19T17:01:10.087805",
     "status": "completed"
    },
    "tags": []
   },
   "source": [
    "# Splitting Data and Setting Training Data Size"
   ]
  },
  {
   "cell_type": "code",
   "execution_count": 11,
   "id": "aea9c6ef-6f46-42c8-85eb-5a62025c1508",
   "metadata": {
    "execution": {
     "iopub.execute_input": "2025-08-19T17:01:10.119829Z",
     "iopub.status.busy": "2025-08-19T17:01:10.118873Z",
     "iopub.status.idle": "2025-08-19T17:01:10.462210Z",
     "shell.execute_reply": "2025-08-19T17:01:10.460908Z"
    },
    "papermill": {
     "duration": 0.356528,
     "end_time": "2025-08-19T17:01:10.463981",
     "exception": false,
     "start_time": "2025-08-19T17:01:10.107453",
     "status": "completed"
    },
    "tags": []
   },
   "outputs": [],
   "source": [
    "from fairness_multiverse.universe import sample_by_year_size\n",
    "\n",
    "siab_train = sample_by_year_size(siab,\n",
    "                               training_year=universe[\"training_year\"],\n",
    "                               training_size=universe[\"training_size\"])"
   ]
  },
  {
   "cell_type": "code",
   "execution_count": 12,
   "id": "8d3afb32-789d-442c-8d5d-9f5aa8dd2eed",
   "metadata": {
    "execution": {
     "iopub.execute_input": "2025-08-19T17:01:10.486030Z",
     "iopub.status.busy": "2025-08-19T17:01:10.485309Z",
     "iopub.status.idle": "2025-08-19T17:01:10.492504Z",
     "shell.execute_reply": "2025-08-19T17:01:10.491522Z"
    },
    "papermill": {
     "duration": 0.019517,
     "end_time": "2025-08-19T17:01:10.493669",
     "exception": false,
     "start_time": "2025-08-19T17:01:10.474152",
     "status": "completed"
    },
    "tags": []
   },
   "outputs": [
    {
     "data": {
      "text/plain": [
       "(25000, 164)"
      ]
     },
     "execution_count": 12,
     "metadata": {},
     "output_type": "execute_result"
    }
   ],
   "source": [
    "siab_train.shape"
   ]
  },
  {
   "cell_type": "code",
   "execution_count": 13,
   "id": "d582db68-1a4c-47fb-84fc-08518dc1975a",
   "metadata": {
    "execution": {
     "iopub.execute_input": "2025-08-19T17:01:10.516233Z",
     "iopub.status.busy": "2025-08-19T17:01:10.515552Z",
     "iopub.status.idle": "2025-08-19T17:01:10.528588Z",
     "shell.execute_reply": "2025-08-19T17:01:10.527676Z"
    },
    "papermill": {
     "duration": 0.026865,
     "end_time": "2025-08-19T17:01:10.530370",
     "exception": false,
     "start_time": "2025-08-19T17:01:10.503505",
     "status": "completed"
    },
    "tags": []
   },
   "outputs": [
    {
     "data": {
      "text/plain": [
       "year\n",
       "2014    25000\n",
       "dtype: int64"
      ]
     },
     "metadata": {},
     "output_type": "display_data"
    }
   ],
   "source": [
    "display(siab_train.groupby(\"year\").size())"
   ]
  },
  {
   "cell_type": "code",
   "execution_count": 14,
   "id": "a561edb4-d032-42cb-8256-22eac1111c64",
   "metadata": {
    "execution": {
     "iopub.execute_input": "2025-08-19T17:01:10.556122Z",
     "iopub.status.busy": "2025-08-19T17:01:10.554986Z",
     "iopub.status.idle": "2025-08-19T17:01:10.811567Z",
     "shell.execute_reply": "2025-08-19T17:01:10.810894Z"
    },
    "papermill": {
     "duration": 0.26966,
     "end_time": "2025-08-19T17:01:10.812868",
     "exception": false,
     "start_time": "2025-08-19T17:01:10.543208",
     "status": "completed"
    },
    "tags": []
   },
   "outputs": [],
   "source": [
    "#siab_train = siab_s[siab_s.year < 2015]\n",
    "siab_calib = siab[siab.year == 2015]\n",
    "siab_test = siab[siab.year == 2016]"
   ]
  },
  {
   "cell_type": "code",
   "execution_count": 15,
   "id": "bc10fe59",
   "metadata": {
    "execution": {
     "iopub.execute_input": "2025-08-19T17:01:10.846297Z",
     "iopub.status.busy": "2025-08-19T17:01:10.845325Z",
     "iopub.status.idle": "2025-08-19T17:01:10.854030Z",
     "shell.execute_reply": "2025-08-19T17:01:10.852657Z"
    },
    "papermill": {
     "duration": 0.033303,
     "end_time": "2025-08-19T17:01:10.856543",
     "exception": false,
     "start_time": "2025-08-19T17:01:10.823240",
     "status": "completed"
    },
    "tags": []
   },
   "outputs": [],
   "source": [
    "#siab_calib.shape"
   ]
  },
  {
   "cell_type": "code",
   "execution_count": 16,
   "id": "d6aeff2f",
   "metadata": {
    "execution": {
     "iopub.execute_input": "2025-08-19T17:01:10.884590Z",
     "iopub.status.busy": "2025-08-19T17:01:10.884178Z",
     "iopub.status.idle": "2025-08-19T17:01:10.888024Z",
     "shell.execute_reply": "2025-08-19T17:01:10.887428Z"
    },
    "papermill": {
     "duration": 0.016686,
     "end_time": "2025-08-19T17:01:10.889375",
     "exception": false,
     "start_time": "2025-08-19T17:01:10.872689",
     "status": "completed"
    },
    "tags": []
   },
   "outputs": [],
   "source": [
    "#siab_test.shape"
   ]
  },
  {
   "cell_type": "code",
   "execution_count": 17,
   "id": "472de16f-c3db-4916-846b-1f0de9cf1746",
   "metadata": {
    "execution": {
     "iopub.execute_input": "2025-08-19T17:01:10.910573Z",
     "iopub.status.busy": "2025-08-19T17:01:10.910296Z",
     "iopub.status.idle": "2025-08-19T17:01:10.925062Z",
     "shell.execute_reply": "2025-08-19T17:01:10.923937Z"
    },
    "papermill": {
     "duration": 0.026666,
     "end_time": "2025-08-19T17:01:10.926179",
     "exception": false,
     "start_time": "2025-08-19T17:01:10.899513",
     "status": "completed"
    },
    "tags": []
   },
   "outputs": [],
   "source": [
    "X_train = siab_train.iloc[:,4:164]\n",
    "y_train = siab_train.iloc[:, [3]]"
   ]
  },
  {
   "cell_type": "code",
   "execution_count": null,
   "id": "a843c1c8",
   "metadata": {
    "papermill": {
     "duration": 0.00994,
     "end_time": "2025-08-19T17:01:10.946572",
     "exception": false,
     "start_time": "2025-08-19T17:01:10.936632",
     "status": "completed"
    },
    "tags": []
   },
   "outputs": [],
   "source": []
  },
  {
   "cell_type": "code",
   "execution_count": 18,
   "id": "828c96af-f43a-4ed6-ba47-8ac73a47d56c",
   "metadata": {
    "execution": {
     "iopub.execute_input": "2025-08-19T17:01:10.969680Z",
     "iopub.status.busy": "2025-08-19T17:01:10.968398Z",
     "iopub.status.idle": "2025-08-19T17:01:11.031053Z",
     "shell.execute_reply": "2025-08-19T17:01:11.030117Z"
    },
    "papermill": {
     "duration": 0.07703,
     "end_time": "2025-08-19T17:01:11.033540",
     "exception": false,
     "start_time": "2025-08-19T17:01:10.956510",
     "status": "completed"
    },
    "tags": []
   },
   "outputs": [],
   "source": [
    "X_calib = siab_calib.iloc[:,4:164]\n",
    "y_calib = siab_calib.iloc[:, [3]]"
   ]
  },
  {
   "cell_type": "code",
   "execution_count": 19,
   "id": "c34be9c3-6bd6-476e-acd3-845840e303be",
   "metadata": {
    "execution": {
     "iopub.execute_input": "2025-08-19T17:01:11.074482Z",
     "iopub.status.busy": "2025-08-19T17:01:11.073403Z",
     "iopub.status.idle": "2025-08-19T17:01:11.129354Z",
     "shell.execute_reply": "2025-08-19T17:01:11.128690Z"
    },
    "papermill": {
     "duration": 0.073123,
     "end_time": "2025-08-19T17:01:11.131708",
     "exception": false,
     "start_time": "2025-08-19T17:01:11.058585",
     "status": "completed"
    },
    "tags": []
   },
   "outputs": [],
   "source": [
    "X_test = siab_test.iloc[:,4:164]\n",
    "y_true = siab_test.iloc[:, [3]]"
   ]
  },
  {
   "cell_type": "code",
   "execution_count": 20,
   "id": "e6c733c5",
   "metadata": {
    "execution": {
     "iopub.execute_input": "2025-08-19T17:01:11.171754Z",
     "iopub.status.busy": "2025-08-19T17:01:11.170607Z",
     "iopub.status.idle": "2025-08-19T17:01:11.302241Z",
     "shell.execute_reply": "2025-08-19T17:01:11.301596Z"
    },
    "papermill": {
     "duration": 0.148964,
     "end_time": "2025-08-19T17:01:11.304611",
     "exception": false,
     "start_time": "2025-08-19T17:01:11.155647",
     "status": "completed"
    },
    "tags": []
   },
   "outputs": [],
   "source": [
    "# Auxiliary data needed downstream in the pipeline\n",
    "\n",
    "org_train = X_train.copy()\n",
    "org_test = X_test.copy()\n",
    "org_calib = X_calib.copy()"
   ]
  },
  {
   "cell_type": "markdown",
   "id": "0a4a1b33",
   "metadata": {
    "papermill": {
     "duration": 0.012015,
     "end_time": "2025-08-19T17:01:11.338958",
     "exception": false,
     "start_time": "2025-08-19T17:01:11.326943",
     "status": "completed"
    },
    "tags": []
   },
   "source": [
    "# Preprocessing Data"
   ]
  },
  {
   "cell_type": "code",
   "execution_count": 21,
   "id": "ca879031",
   "metadata": {
    "execution": {
     "iopub.execute_input": "2025-08-19T17:01:11.382114Z",
     "iopub.status.busy": "2025-08-19T17:01:11.381764Z",
     "iopub.status.idle": "2025-08-19T17:01:11.386864Z",
     "shell.execute_reply": "2025-08-19T17:01:11.386275Z"
    },
    "papermill": {
     "duration": 0.017505,
     "end_time": "2025-08-19T17:01:11.387960",
     "exception": false,
     "start_time": "2025-08-19T17:01:11.370455",
     "status": "completed"
    },
    "tags": []
   },
   "outputs": [],
   "source": [
    "# EXCLUDE PROTECTED FEATURES\n",
    "# --------------------------\n",
    "\n",
    "excluded_features = universe[\"exclude_features\"].split(\"-\")\n",
    "excluded_features_dictionary = {\n",
    "    \"nationality\": [\"maxdeutsch1\", \"maxdeutsch.Missing.\"],\n",
    "    \"sex\": [\"frau1\"],\n",
    "    \"age\": [\"age\"],\n",
    "}"
   ]
  },
  {
   "cell_type": "code",
   "execution_count": 22,
   "id": "b745ac60",
   "metadata": {
    "execution": {
     "iopub.execute_input": "2025-08-19T17:01:11.411199Z",
     "iopub.status.busy": "2025-08-19T17:01:11.410811Z",
     "iopub.status.idle": "2025-08-19T17:01:11.416809Z",
     "shell.execute_reply": "2025-08-19T17:01:11.415765Z"
    },
    "papermill": {
     "duration": 0.018451,
     "end_time": "2025-08-19T17:01:11.417992",
     "exception": false,
     "start_time": "2025-08-19T17:01:11.399541",
     "status": "completed"
    },
    "tags": []
   },
   "outputs": [],
   "source": [
    "excluded_features_columns = [\n",
    "    excluded_features_dictionary[f] for f in excluded_features if len(f) > 0 and f != \"none\"\n",
    "]"
   ]
  },
  {
   "cell_type": "code",
   "execution_count": 23,
   "id": "f84f73a2",
   "metadata": {
    "execution": {
     "iopub.execute_input": "2025-08-19T17:01:11.444063Z",
     "iopub.status.busy": "2025-08-19T17:01:11.442661Z",
     "iopub.status.idle": "2025-08-19T17:01:11.454286Z",
     "shell.execute_reply": "2025-08-19T17:01:11.452744Z"
    },
    "papermill": {
     "duration": 0.025736,
     "end_time": "2025-08-19T17:01:11.455846",
     "exception": false,
     "start_time": "2025-08-19T17:01:11.430110",
     "status": "completed"
    },
    "tags": []
   },
   "outputs": [],
   "source": [
    "from fairness_multiverse.universe import flatten_once\n",
    "\n",
    "excluded_features_columns = flatten_once(excluded_features_columns)"
   ]
  },
  {
   "cell_type": "code",
   "execution_count": 24,
   "id": "884dea22",
   "metadata": {
    "execution": {
     "iopub.execute_input": "2025-08-19T17:01:11.484148Z",
     "iopub.status.busy": "2025-08-19T17:01:11.483033Z",
     "iopub.status.idle": "2025-08-19T17:01:11.504020Z",
     "shell.execute_reply": "2025-08-19T17:01:11.503169Z"
    },
    "papermill": {
     "duration": 0.035316,
     "end_time": "2025-08-19T17:01:11.505735",
     "exception": false,
     "start_time": "2025-08-19T17:01:11.470419",
     "status": "completed"
    },
    "tags": []
   },
   "outputs": [
    {
     "name": "stdout",
     "output_type": "stream",
     "text": [
      "Dropping features: ['maxdeutsch1', 'maxdeutsch.Missing.']\n"
     ]
    }
   ],
   "source": [
    "if len(excluded_features_columns) > 0:\n",
    "    print(f\"Dropping features: {excluded_features_columns}\")\n",
    "    X_train.drop(excluded_features_columns, axis=1, inplace=True)"
   ]
  },
  {
   "cell_type": "code",
   "execution_count": 25,
   "id": "95ab8b16",
   "metadata": {
    "execution": {
     "iopub.execute_input": "2025-08-19T17:01:11.537625Z",
     "iopub.status.busy": "2025-08-19T17:01:11.537344Z",
     "iopub.status.idle": "2025-08-19T17:01:11.591520Z",
     "shell.execute_reply": "2025-08-19T17:01:11.590921Z"
    },
    "papermill": {
     "duration": 0.073528,
     "end_time": "2025-08-19T17:01:11.596184",
     "exception": false,
     "start_time": "2025-08-19T17:01:11.522656",
     "status": "completed"
    },
    "tags": []
   },
   "outputs": [
    {
     "name": "stdout",
     "output_type": "stream",
     "text": [
      "Dropping features: ['maxdeutsch1', 'maxdeutsch.Missing.']\n"
     ]
    }
   ],
   "source": [
    "if len(excluded_features_columns) > 0:\n",
    "    print(f\"Dropping features: {excluded_features_columns}\")\n",
    "    X_test.drop(excluded_features_columns, axis=1, inplace=True)"
   ]
  },
  {
   "cell_type": "code",
   "execution_count": 26,
   "id": "1853aaf5-fb9f-46cb-a2b5-8ea4ae2237e4",
   "metadata": {
    "execution": {
     "iopub.execute_input": "2025-08-19T17:01:11.632978Z",
     "iopub.status.busy": "2025-08-19T17:01:11.631977Z",
     "iopub.status.idle": "2025-08-19T17:01:11.687553Z",
     "shell.execute_reply": "2025-08-19T17:01:11.686925Z"
    },
    "papermill": {
     "duration": 0.070498,
     "end_time": "2025-08-19T17:01:11.688893",
     "exception": false,
     "start_time": "2025-08-19T17:01:11.618395",
     "status": "completed"
    },
    "tags": []
   },
   "outputs": [
    {
     "name": "stdout",
     "output_type": "stream",
     "text": [
      "Dropping features: ['maxdeutsch1', 'maxdeutsch.Missing.']\n"
     ]
    }
   ],
   "source": [
    "if len(excluded_features_columns) > 0:\n",
    "    print(f\"Dropping features: {excluded_features_columns}\")\n",
    "    X_calib.drop(excluded_features_columns, axis=1, inplace=True)"
   ]
  },
  {
   "cell_type": "code",
   "execution_count": 27,
   "id": "76c4dc6d",
   "metadata": {
    "execution": {
     "iopub.execute_input": "2025-08-19T17:01:11.711609Z",
     "iopub.status.busy": "2025-08-19T17:01:11.711314Z",
     "iopub.status.idle": "2025-08-19T17:01:11.715311Z",
     "shell.execute_reply": "2025-08-19T17:01:11.714605Z"
    },
    "papermill": {
     "duration": 0.017219,
     "end_time": "2025-08-19T17:01:11.716929",
     "exception": false,
     "start_time": "2025-08-19T17:01:11.699710",
     "status": "completed"
    },
    "tags": []
   },
   "outputs": [],
   "source": [
    "# EXCLUDE CERTAIN SUBGROUPS\n",
    "# -------------------------\n",
    "\n",
    "mode = universe.get(\"exclude_subgroups\", \"keep-all\") # Defaults to \"keep-all\" if the key is missing."
   ]
  },
  {
   "cell_type": "code",
   "execution_count": 28,
   "id": "21994072",
   "metadata": {
    "execution": {
     "iopub.execute_input": "2025-08-19T17:01:11.740124Z",
     "iopub.status.busy": "2025-08-19T17:01:11.739482Z",
     "iopub.status.idle": "2025-08-19T17:01:11.746353Z",
     "shell.execute_reply": "2025-08-19T17:01:11.745390Z"
    },
    "papermill": {
     "duration": 0.022462,
     "end_time": "2025-08-19T17:01:11.750556",
     "exception": false,
     "start_time": "2025-08-19T17:01:11.728094",
     "status": "completed"
    },
    "tags": []
   },
   "outputs": [],
   "source": [
    "if mode == \"keep-all\":\n",
    "    keep_mask = pd.Series(True, index=org_train.index)\n",
    "\n",
    "elif mode == \"drop-non-german\":\n",
    "    keep_mask = (org_train[\"maxdeutsch1\"] == 1) & (org_train[\"maxdeutsch.Missing.\"] == 0)\n",
    "\n",
    "else:\n",
    "    raise ValueError(f\"Unsupported mode for exclude_subgroups: {mode}\")"
   ]
  },
  {
   "cell_type": "code",
   "execution_count": 29,
   "id": "71651440",
   "metadata": {
    "execution": {
     "iopub.execute_input": "2025-08-19T17:01:11.780137Z",
     "iopub.status.busy": "2025-08-19T17:01:11.778974Z",
     "iopub.status.idle": "2025-08-19T17:01:11.791321Z",
     "shell.execute_reply": "2025-08-19T17:01:11.787595Z"
    },
    "papermill": {
     "duration": 0.026289,
     "end_time": "2025-08-19T17:01:11.793204",
     "exception": false,
     "start_time": "2025-08-19T17:01:11.766915",
     "status": "completed"
    },
    "tags": []
   },
   "outputs": [],
   "source": [
    "n_drop = (~keep_mask).sum() # Calculates how many rows are set to be dropped\n",
    "if n_drop > 0:\n",
    "    pct = n_drop / len(keep_mask) * 100\n",
    "    print(f\"Dropping {n_drop} rows ({pct:.2f}%) where mode='{mode}'\")"
   ]
  },
  {
   "cell_type": "code",
   "execution_count": 30,
   "id": "5fb8eee5",
   "metadata": {
    "execution": {
     "iopub.execute_input": "2025-08-19T17:01:11.817719Z",
     "iopub.status.busy": "2025-08-19T17:01:11.816761Z",
     "iopub.status.idle": "2025-08-19T17:01:11.838851Z",
     "shell.execute_reply": "2025-08-19T17:01:11.837930Z"
    },
    "papermill": {
     "duration": 0.036329,
     "end_time": "2025-08-19T17:01:11.841164",
     "exception": false,
     "start_time": "2025-08-19T17:01:11.804835",
     "status": "completed"
    },
    "tags": []
   },
   "outputs": [],
   "source": [
    "X_train = X_train[keep_mask]"
   ]
  },
  {
   "cell_type": "code",
   "execution_count": 31,
   "id": "b202bb3a",
   "metadata": {
    "execution": {
     "iopub.execute_input": "2025-08-19T17:01:11.871712Z",
     "iopub.status.busy": "2025-08-19T17:01:11.870866Z",
     "iopub.status.idle": "2025-08-19T17:01:11.881701Z",
     "shell.execute_reply": "2025-08-19T17:01:11.880940Z"
    },
    "papermill": {
     "duration": 0.02462,
     "end_time": "2025-08-19T17:01:11.883021",
     "exception": false,
     "start_time": "2025-08-19T17:01:11.858401",
     "status": "completed"
    },
    "tags": []
   },
   "outputs": [],
   "source": [
    "y_train = y_train[keep_mask]"
   ]
  },
  {
   "cell_type": "markdown",
   "id": "493e2ac3",
   "metadata": {
    "papermill": {
     "duration": 0.010485,
     "end_time": "2025-08-19T17:01:11.905098",
     "exception": false,
     "start_time": "2025-08-19T17:01:11.894613",
     "status": "completed"
    },
    "tags": []
   },
   "source": [
    "# Model Training"
   ]
  },
  {
   "cell_type": "code",
   "execution_count": 32,
   "id": "679e1268",
   "metadata": {
    "execution": {
     "iopub.execute_input": "2025-08-19T17:01:11.929456Z",
     "iopub.status.busy": "2025-08-19T17:01:11.929173Z",
     "iopub.status.idle": "2025-08-19T17:01:12.027374Z",
     "shell.execute_reply": "2025-08-19T17:01:12.026634Z"
    },
    "papermill": {
     "duration": 0.113549,
     "end_time": "2025-08-19T17:01:12.029096",
     "exception": false,
     "start_time": "2025-08-19T17:01:11.915547",
     "status": "completed"
    },
    "tags": []
   },
   "outputs": [],
   "source": [
    "from sklearn.linear_model import LogisticRegression\n",
    "from sklearn.ensemble import GradientBoostingClassifier, RandomForestClassifier\n",
    "\n",
    "if (universe[\"model\"] == \"logreg\"):\n",
    "    model = LogisticRegression() #penalty=\"none\", solver=\"newton-cg\", max_iter=1)\n",
    "elif (universe[\"model\"] == \"penalized_logreg\"):\n",
    "    model = LogisticRegression(penalty=\"l2\", C=0.1) #, solver=\"newton-cg\", max_iter=1)\n",
    "elif (universe[\"model\"] == \"rf\"):\n",
    "    model = RandomForestClassifier() # n_estimators=100, n_jobs=-1\n",
    "elif (universe[\"model\"] == \"gbm\"):\n",
    "    model = GradientBoostingClassifier()\n",
    "elif (universe[\"model\"] == \"elasticnet\"):\n",
    "    model = LogisticRegression(penalty = 'elasticnet', solver = 'saga', l1_ratio = 0.5) # max_iter=5000\n",
    "else:\n",
    "    raise \"Unsupported universe.model\""
   ]
  },
  {
   "cell_type": "code",
   "execution_count": 33,
   "id": "0cc8f744",
   "metadata": {
    "execution": {
     "iopub.execute_input": "2025-08-19T17:01:12.057286Z",
     "iopub.status.busy": "2025-08-19T17:01:12.057001Z",
     "iopub.status.idle": "2025-08-19T17:01:12.061316Z",
     "shell.execute_reply": "2025-08-19T17:01:12.060681Z"
    },
    "papermill": {
     "duration": 0.021216,
     "end_time": "2025-08-19T17:01:12.062851",
     "exception": false,
     "start_time": "2025-08-19T17:01:12.041635",
     "status": "completed"
    },
    "tags": []
   },
   "outputs": [],
   "source": [
    "from sklearn.pipeline import Pipeline\n",
    "from sklearn.preprocessing import StandardScaler\n",
    "\n",
    "model = Pipeline([\n",
    "    #(\"continuous_processor\", continuous_processor),\n",
    "    #(\"categorical_preprocessor\", categorical_preprocessor),\n",
    "    (\"scale\", StandardScaler() if universe[\"scale\"] == \"scale\" else None), \n",
    "    (\"model\", model),\n",
    "])"
   ]
  },
  {
   "cell_type": "code",
   "execution_count": 34,
   "id": "9442c04d",
   "metadata": {
    "execution": {
     "iopub.execute_input": "2025-08-19T17:01:12.087123Z",
     "iopub.status.busy": "2025-08-19T17:01:12.086857Z",
     "iopub.status.idle": "2025-08-19T17:01:12.949936Z",
     "shell.execute_reply": "2025-08-19T17:01:12.949284Z"
    },
    "papermill": {
     "duration": 0.878777,
     "end_time": "2025-08-19T17:01:12.953780",
     "exception": false,
     "start_time": "2025-08-19T17:01:12.075003",
     "status": "completed"
    },
    "tags": []
   },
   "outputs": [
    {
     "name": "stderr",
     "output_type": "stream",
     "text": [
      "/dss/dsshome1/0C/ra93lal2/.local/share/virtualenvs/CMA_Fairness_v2-3j10GkSs/lib/python3.10/site-packages/sklearn/linear_model/_logistic.py:444: ConvergenceWarning: lbfgs failed to converge (status=1):\n",
      "STOP: TOTAL NO. of ITERATIONS REACHED LIMIT.\n",
      "\n",
      "Increase the number of iterations (max_iter) or scale the data as shown in:\n",
      "    https://scikit-learn.org/stable/modules/preprocessing.html\n",
      "Please also refer to the documentation for alternative solver options:\n",
      "    https://scikit-learn.org/stable/modules/linear_model.html#logistic-regression\n",
      "  n_iter_i = _check_optimize_result(\n"
     ]
    },
    {
     "data": {
      "text/html": [
       "<style>#sk-container-id-1 {color: black;background-color: white;}#sk-container-id-1 pre{padding: 0;}#sk-container-id-1 div.sk-toggleable {background-color: white;}#sk-container-id-1 label.sk-toggleable__label {cursor: pointer;display: block;width: 100%;margin-bottom: 0;padding: 0.3em;box-sizing: border-box;text-align: center;}#sk-container-id-1 label.sk-toggleable__label-arrow:before {content: \"▸\";float: left;margin-right: 0.25em;color: #696969;}#sk-container-id-1 label.sk-toggleable__label-arrow:hover:before {color: black;}#sk-container-id-1 div.sk-estimator:hover label.sk-toggleable__label-arrow:before {color: black;}#sk-container-id-1 div.sk-toggleable__content {max-height: 0;max-width: 0;overflow: hidden;text-align: left;background-color: #f0f8ff;}#sk-container-id-1 div.sk-toggleable__content pre {margin: 0.2em;color: black;border-radius: 0.25em;background-color: #f0f8ff;}#sk-container-id-1 input.sk-toggleable__control:checked~div.sk-toggleable__content {max-height: 200px;max-width: 100%;overflow: auto;}#sk-container-id-1 input.sk-toggleable__control:checked~label.sk-toggleable__label-arrow:before {content: \"▾\";}#sk-container-id-1 div.sk-estimator input.sk-toggleable__control:checked~label.sk-toggleable__label {background-color: #d4ebff;}#sk-container-id-1 div.sk-label input.sk-toggleable__control:checked~label.sk-toggleable__label {background-color: #d4ebff;}#sk-container-id-1 input.sk-hidden--visually {border: 0;clip: rect(1px 1px 1px 1px);clip: rect(1px, 1px, 1px, 1px);height: 1px;margin: -1px;overflow: hidden;padding: 0;position: absolute;width: 1px;}#sk-container-id-1 div.sk-estimator {font-family: monospace;background-color: #f0f8ff;border: 1px dotted black;border-radius: 0.25em;box-sizing: border-box;margin-bottom: 0.5em;}#sk-container-id-1 div.sk-estimator:hover {background-color: #d4ebff;}#sk-container-id-1 div.sk-parallel-item::after {content: \"\";width: 100%;border-bottom: 1px solid gray;flex-grow: 1;}#sk-container-id-1 div.sk-label:hover label.sk-toggleable__label {background-color: #d4ebff;}#sk-container-id-1 div.sk-serial::before {content: \"\";position: absolute;border-left: 1px solid gray;box-sizing: border-box;top: 0;bottom: 0;left: 50%;z-index: 0;}#sk-container-id-1 div.sk-serial {display: flex;flex-direction: column;align-items: center;background-color: white;padding-right: 0.2em;padding-left: 0.2em;position: relative;}#sk-container-id-1 div.sk-item {position: relative;z-index: 1;}#sk-container-id-1 div.sk-parallel {display: flex;align-items: stretch;justify-content: center;background-color: white;position: relative;}#sk-container-id-1 div.sk-item::before, #sk-container-id-1 div.sk-parallel-item::before {content: \"\";position: absolute;border-left: 1px solid gray;box-sizing: border-box;top: 0;bottom: 0;left: 50%;z-index: -1;}#sk-container-id-1 div.sk-parallel-item {display: flex;flex-direction: column;z-index: 1;position: relative;background-color: white;}#sk-container-id-1 div.sk-parallel-item:first-child::after {align-self: flex-end;width: 50%;}#sk-container-id-1 div.sk-parallel-item:last-child::after {align-self: flex-start;width: 50%;}#sk-container-id-1 div.sk-parallel-item:only-child::after {width: 0;}#sk-container-id-1 div.sk-dashed-wrapped {border: 1px dashed gray;margin: 0 0.4em 0.5em 0.4em;box-sizing: border-box;padding-bottom: 0.4em;background-color: white;}#sk-container-id-1 div.sk-label label {font-family: monospace;font-weight: bold;display: inline-block;line-height: 1.2em;}#sk-container-id-1 div.sk-label-container {text-align: center;}#sk-container-id-1 div.sk-container {/* jupyter's `normalize.less` sets `[hidden] { display: none; }` but bootstrap.min.css set `[hidden] { display: none !important; }` so we also need the `!important` here to be able to override the default hidden behavior on the sphinx rendered scikit-learn.org. See: https://github.com/scikit-learn/scikit-learn/issues/21755 */display: inline-block !important;position: relative;}#sk-container-id-1 div.sk-text-repr-fallback {display: none;}</style><div id=\"sk-container-id-1\" class=\"sk-top-container\"><div class=\"sk-text-repr-fallback\"><pre>Pipeline(steps=[(&#x27;scale&#x27;, None), (&#x27;model&#x27;, LogisticRegression())])</pre><b>In a Jupyter environment, please rerun this cell to show the HTML representation or trust the notebook. <br />On GitHub, the HTML representation is unable to render, please try loading this page with nbviewer.org.</b></div><div class=\"sk-container\" hidden><div class=\"sk-item sk-dashed-wrapped\"><div class=\"sk-label-container\"><div class=\"sk-label sk-toggleable\"><input class=\"sk-toggleable__control sk-hidden--visually\" id=\"sk-estimator-id-1\" type=\"checkbox\" ><label for=\"sk-estimator-id-1\" class=\"sk-toggleable__label sk-toggleable__label-arrow\">Pipeline</label><div class=\"sk-toggleable__content\"><pre>Pipeline(steps=[(&#x27;scale&#x27;, None), (&#x27;model&#x27;, LogisticRegression())])</pre></div></div></div><div class=\"sk-serial\"><div class=\"sk-item\"><div class=\"sk-estimator sk-toggleable\"><input class=\"sk-toggleable__control sk-hidden--visually\" id=\"sk-estimator-id-2\" type=\"checkbox\" ><label for=\"sk-estimator-id-2\" class=\"sk-toggleable__label sk-toggleable__label-arrow\">None</label><div class=\"sk-toggleable__content\"><pre>None</pre></div></div></div><div class=\"sk-item\"><div class=\"sk-estimator sk-toggleable\"><input class=\"sk-toggleable__control sk-hidden--visually\" id=\"sk-estimator-id-3\" type=\"checkbox\" ><label for=\"sk-estimator-id-3\" class=\"sk-toggleable__label sk-toggleable__label-arrow\">LogisticRegression</label><div class=\"sk-toggleable__content\"><pre>LogisticRegression()</pre></div></div></div></div></div></div></div>"
      ],
      "text/plain": [
       "Pipeline(steps=[('scale', None), ('model', LogisticRegression())])"
      ]
     },
     "execution_count": 34,
     "metadata": {},
     "output_type": "execute_result"
    }
   ],
   "source": [
    "model.fit(X_train, y_train.values.ravel())"
   ]
  },
  {
   "cell_type": "code",
   "execution_count": 35,
   "id": "a7cf2e16",
   "metadata": {
    "execution": {
     "iopub.execute_input": "2025-08-19T17:01:12.990776Z",
     "iopub.status.busy": "2025-08-19T17:01:12.989520Z",
     "iopub.status.idle": "2025-08-19T17:01:13.092040Z",
     "shell.execute_reply": "2025-08-19T17:01:13.091343Z"
    },
    "papermill": {
     "duration": 0.118776,
     "end_time": "2025-08-19T17:01:13.094916",
     "exception": false,
     "start_time": "2025-08-19T17:01:12.976140",
     "status": "completed"
    },
    "tags": []
   },
   "outputs": [
    {
     "data": {
      "text/plain": [
       "0.8634377438412663"
      ]
     },
     "execution_count": 35,
     "metadata": {},
     "output_type": "execute_result"
    }
   ],
   "source": [
    "from fairness_multiverse.universe import predict_w_threshold\n",
    "\n",
    "probs_test = model.predict_proba(X_test)\n",
    "\n",
    "'''\n",
    "Below code returns a boolean array (or binary 0/1 array depending on how it’s used) where each element \n",
    "is True if the probability of class 1 is greater than or equal to the threshold, and False otherwise.\n",
    "'''\n",
    "y_pred_default = predict_w_threshold(probs_test, 0.5)\n",
    "\n",
    "from sklearn.metrics import accuracy_score\n",
    "\n",
    "# Naive prediction\n",
    "accuracy_score(y_true = y_true, y_pred = y_pred_default)"
   ]
  },
  {
   "cell_type": "code",
   "execution_count": 36,
   "id": "081964c3",
   "metadata": {
    "execution": {
     "iopub.execute_input": "2025-08-19T17:01:13.136906Z",
     "iopub.status.busy": "2025-08-19T17:01:13.135778Z",
     "iopub.status.idle": "2025-08-19T17:01:13.228854Z",
     "shell.execute_reply": "2025-08-19T17:01:13.228130Z"
    },
    "papermill": {
     "duration": 0.110099,
     "end_time": "2025-08-19T17:01:13.231100",
     "exception": false,
     "start_time": "2025-08-19T17:01:13.121001",
     "status": "completed"
    },
    "tags": []
   },
   "outputs": [
    {
     "data": {
      "text/plain": [
       "array([0, 0, 0, ..., 0, 0, 0])"
      ]
     },
     "execution_count": 36,
     "metadata": {},
     "output_type": "execute_result"
    }
   ],
   "source": [
    "model.predict(X_test)"
   ]
  },
  {
   "cell_type": "markdown",
   "id": "56c9705b",
   "metadata": {
    "papermill": {
     "duration": 0.012529,
     "end_time": "2025-08-19T17:01:13.268069",
     "exception": false,
     "start_time": "2025-08-19T17:01:13.255540",
     "status": "completed"
    },
    "tags": []
   },
   "source": [
    "# Conformal Prediction"
   ]
  },
  {
   "cell_type": "code",
   "execution_count": 37,
   "id": "160ec6ff",
   "metadata": {
    "execution": {
     "iopub.execute_input": "2025-08-19T17:01:13.293380Z",
     "iopub.status.busy": "2025-08-19T17:01:13.291754Z",
     "iopub.status.idle": "2025-08-19T17:01:13.300231Z",
     "shell.execute_reply": "2025-08-19T17:01:13.298659Z"
    },
    "papermill": {
     "duration": 0.022627,
     "end_time": "2025-08-19T17:01:13.301704",
     "exception": false,
     "start_time": "2025-08-19T17:01:13.279077",
     "status": "completed"
    },
    "tags": []
   },
   "outputs": [],
   "source": [
    "# Miscoverage level for conformal prediction (10% allowed error rate => 90% target coverage)\n",
    "alpha = 0.1"
   ]
  },
  {
   "cell_type": "code",
   "execution_count": 38,
   "id": "eadf4555-3dd3-440e-8e35-f82a4ad9f855",
   "metadata": {
    "execution": {
     "iopub.execute_input": "2025-08-19T17:01:13.345000Z",
     "iopub.status.busy": "2025-08-19T17:01:13.343996Z",
     "iopub.status.idle": "2025-08-19T17:01:13.429844Z",
     "shell.execute_reply": "2025-08-19T17:01:13.429048Z"
    },
    "papermill": {
     "duration": 0.116017,
     "end_time": "2025-08-19T17:01:13.431327",
     "exception": false,
     "start_time": "2025-08-19T17:01:13.315310",
     "status": "completed"
    },
    "tags": []
   },
   "outputs": [],
   "source": [
    "probs_calib = model.predict_proba(X_calib)"
   ]
  },
  {
   "cell_type": "code",
   "execution_count": 39,
   "id": "2ed93547-6d5d-4983-9b36-1ecb300da49a",
   "metadata": {
    "execution": {
     "iopub.execute_input": "2025-08-19T17:01:13.482897Z",
     "iopub.status.busy": "2025-08-19T17:01:13.482035Z",
     "iopub.status.idle": "2025-08-19T17:01:13.487325Z",
     "shell.execute_reply": "2025-08-19T17:01:13.486461Z"
    },
    "papermill": {
     "duration": 0.031775,
     "end_time": "2025-08-19T17:01:13.488869",
     "exception": false,
     "start_time": "2025-08-19T17:01:13.457094",
     "status": "completed"
    },
    "tags": []
   },
   "outputs": [],
   "source": [
    "y_calib = y_calib.values.ravel().astype(int)"
   ]
  },
  {
   "cell_type": "code",
   "execution_count": 40,
   "id": "65d1320d-f588-4b38-9072-62af1ae97f7d",
   "metadata": {
    "execution": {
     "iopub.execute_input": "2025-08-19T17:01:13.513238Z",
     "iopub.status.busy": "2025-08-19T17:01:13.512951Z",
     "iopub.status.idle": "2025-08-19T17:01:13.521508Z",
     "shell.execute_reply": "2025-08-19T17:01:13.520816Z"
    },
    "papermill": {
     "duration": 0.021959,
     "end_time": "2025-08-19T17:01:13.522851",
     "exception": false,
     "start_time": "2025-08-19T17:01:13.500892",
     "status": "completed"
    },
    "tags": []
   },
   "outputs": [],
   "source": [
    "from fairness_multiverse.conformal import compute_nc_scores\n",
    "\n",
    "# Compute nonconformity scores on calibration set (1 - probability of true class)\n",
    "nc_scores = compute_nc_scores(probs_calib, y_calib)"
   ]
  },
  {
   "cell_type": "code",
   "execution_count": 41,
   "id": "df3b8ca3-53b7-43d5-9667-7c85da7aeda2",
   "metadata": {
    "execution": {
     "iopub.execute_input": "2025-08-19T17:01:13.547642Z",
     "iopub.status.busy": "2025-08-19T17:01:13.547261Z",
     "iopub.status.idle": "2025-08-19T17:01:13.552615Z",
     "shell.execute_reply": "2025-08-19T17:01:13.551875Z"
    },
    "papermill": {
     "duration": 0.019886,
     "end_time": "2025-08-19T17:01:13.555004",
     "exception": false,
     "start_time": "2025-08-19T17:01:13.535118",
     "status": "completed"
    },
    "tags": []
   },
   "outputs": [],
   "source": [
    "from fairness_multiverse.conformal import find_threshold\n",
    "\n",
    "# Find conformal threshold q_hat for the given alpha (split conformal method)\n",
    "q_hat = find_threshold(nc_scores, alpha)"
   ]
  },
  {
   "cell_type": "code",
   "execution_count": 42,
   "id": "4d29e6c1-0ef6-4aa4-b8fe-4fe79b0d033a",
   "metadata": {
    "execution": {
     "iopub.execute_input": "2025-08-19T17:01:13.586422Z",
     "iopub.status.busy": "2025-08-19T17:01:13.586052Z",
     "iopub.status.idle": "2025-08-19T17:01:13.592068Z",
     "shell.execute_reply": "2025-08-19T17:01:13.591107Z"
    },
    "papermill": {
     "duration": 0.020027,
     "end_time": "2025-08-19T17:01:13.593480",
     "exception": false,
     "start_time": "2025-08-19T17:01:13.573453",
     "status": "completed"
    },
    "tags": []
   },
   "outputs": [
    {
     "data": {
      "text/plain": [
       "0.6782401864610803"
      ]
     },
     "execution_count": 42,
     "metadata": {},
     "output_type": "execute_result"
    }
   ],
   "source": [
    "q_hat"
   ]
  },
  {
   "cell_type": "code",
   "execution_count": 43,
   "id": "92460794-cdac-4be2-ba28-f28c0515a6fb",
   "metadata": {
    "execution": {
     "iopub.execute_input": "2025-08-19T17:01:13.617438Z",
     "iopub.status.busy": "2025-08-19T17:01:13.617099Z",
     "iopub.status.idle": "2025-08-19T17:01:14.133931Z",
     "shell.execute_reply": "2025-08-19T17:01:14.132681Z"
    },
    "papermill": {
     "duration": 0.530397,
     "end_time": "2025-08-19T17:01:14.135403",
     "exception": false,
     "start_time": "2025-08-19T17:01:13.605006",
     "status": "completed"
    },
    "tags": []
   },
   "outputs": [],
   "source": [
    "from fairness_multiverse.conformal import predict_conformal_sets\n",
    "\n",
    "# Generate prediction sets for each test example\n",
    "pred_sets = predict_conformal_sets(model, X_test, q_hat)"
   ]
  },
  {
   "cell_type": "code",
   "execution_count": 44,
   "id": "d90c9a65-e6db-4f5d-80cd-e68fb7e46829",
   "metadata": {
    "execution": {
     "iopub.execute_input": "2025-08-19T17:01:14.161526Z",
     "iopub.status.busy": "2025-08-19T17:01:14.160918Z",
     "iopub.status.idle": "2025-08-19T17:01:14.168467Z",
     "shell.execute_reply": "2025-08-19T17:01:14.167464Z"
    },
    "papermill": {
     "duration": 0.022284,
     "end_time": "2025-08-19T17:01:14.169969",
     "exception": false,
     "start_time": "2025-08-19T17:01:14.147685",
     "status": "completed"
    },
    "tags": []
   },
   "outputs": [],
   "source": [
    "y_true = y_true.squeeze()"
   ]
  },
  {
   "cell_type": "code",
   "execution_count": 45,
   "id": "3a58a54a-1e68-46b9-927a-df01f18aebc8",
   "metadata": {
    "execution": {
     "iopub.execute_input": "2025-08-19T17:01:14.198460Z",
     "iopub.status.busy": "2025-08-19T17:01:14.197170Z",
     "iopub.status.idle": "2025-08-19T17:01:14.688709Z",
     "shell.execute_reply": "2025-08-19T17:01:14.687866Z"
    },
    "papermill": {
     "duration": 0.507346,
     "end_time": "2025-08-19T17:01:14.691394",
     "exception": false,
     "start_time": "2025-08-19T17:01:14.184048",
     "status": "completed"
    },
    "tags": []
   },
   "outputs": [],
   "source": [
    "from fairness_multiverse.conformal import evaluate_sets\n",
    "\n",
    "# Evaluate coverage and average set size on test data\n",
    "metrics = evaluate_sets(pred_sets, y_true)"
   ]
  },
  {
   "cell_type": "markdown",
   "id": "2b569c12-9aaa-4c88-98c9-bbcd0cf3ebb8",
   "metadata": {
    "papermill": {
     "duration": 0.013322,
     "end_time": "2025-08-19T17:01:14.731005",
     "exception": false,
     "start_time": "2025-08-19T17:01:14.717683",
     "status": "completed"
    },
    "tags": []
   },
   "source": [
    "# CP Metrics"
   ]
  },
  {
   "cell_type": "code",
   "execution_count": 46,
   "id": "5ce0a5cb-201f-45a0-ade5-94c7f0bd6095",
   "metadata": {
    "execution": {
     "iopub.execute_input": "2025-08-19T17:01:14.755181Z",
     "iopub.status.busy": "2025-08-19T17:01:14.754856Z",
     "iopub.status.idle": "2025-08-19T17:01:14.760999Z",
     "shell.execute_reply": "2025-08-19T17:01:14.760403Z"
    },
    "papermill": {
     "duration": 0.019702,
     "end_time": "2025-08-19T17:01:14.762064",
     "exception": false,
     "start_time": "2025-08-19T17:01:14.742362",
     "status": "completed"
    },
    "tags": []
   },
   "outputs": [
    {
     "data": {
      "text/plain": [
       "{'coverage': 0.9119050273102218, 'avg_size': 1.1997770594136663}"
      ]
     },
     "execution_count": 46,
     "metadata": {},
     "output_type": "execute_result"
    }
   ],
   "source": [
    "metrics"
   ]
  },
  {
   "cell_type": "code",
   "execution_count": 47,
   "id": "9b9a838d-31c9-430b-ae14-12baee460d17",
   "metadata": {
    "execution": {
     "iopub.execute_input": "2025-08-19T17:01:14.803379Z",
     "iopub.status.busy": "2025-08-19T17:01:14.802917Z",
     "iopub.status.idle": "2025-08-19T17:01:14.808244Z",
     "shell.execute_reply": "2025-08-19T17:01:14.807600Z"
    },
    "papermill": {
     "duration": 0.027477,
     "end_time": "2025-08-19T17:01:14.810075",
     "exception": false,
     "start_time": "2025-08-19T17:01:14.782598",
     "status": "completed"
    },
    "tags": []
   },
   "outputs": [],
   "source": [
    "example_universe = universe.copy()\n",
    "universe_training_year = example_universe.get(\"training_year\")\n",
    "universe_training_size = example_universe.get(\"training_size\")\n",
    "universe_scale = example_universe.get(\"scale\")\n",
    "universe_model = example_universe.get(\"model\")\n",
    "universe_exclude_features = example_universe.get(\"exclude_features\")\n",
    "universe_exclude_subgroups = example_universe.get(\"exclude_subgroups\")"
   ]
  },
  {
   "cell_type": "code",
   "execution_count": 48,
   "id": "f4b6a8ac-9dc0-4245-8a91-5b3b5999c4f9",
   "metadata": {
    "execution": {
     "iopub.execute_input": "2025-08-19T17:01:14.838638Z",
     "iopub.status.busy": "2025-08-19T17:01:14.838070Z",
     "iopub.status.idle": "2025-08-19T17:01:14.842996Z",
     "shell.execute_reply": "2025-08-19T17:01:14.842433Z"
    },
    "papermill": {
     "duration": 0.024424,
     "end_time": "2025-08-19T17:01:14.849235",
     "exception": false,
     "start_time": "2025-08-19T17:01:14.824811",
     "status": "completed"
    },
    "tags": []
   },
   "outputs": [],
   "source": [
    "cp_metrics_dict = {\n",
    "    \"universe_id\": [universe_id],\n",
    "    \"universe_training_year\": [universe_training_year],\n",
    "    \"universe_training_size\": [universe_training_size],\n",
    "    \"universe_scale\": [universe_scale],\n",
    "    \"universe_model\": [universe_model],\n",
    "    \"universe_exclude_features\": [universe_exclude_features],\n",
    "    \"universe_exclude_subgroups\": [universe_exclude_subgroups],\n",
    "    \"q_hat\": [q_hat],\n",
    "    \"coverage\": [metrics[\"coverage\"]],\n",
    "    \"avg_size\": [metrics[\"avg_size\"]],\n",
    "}"
   ]
  },
  {
   "cell_type": "code",
   "execution_count": 49,
   "id": "33007efc-14e9-4ec6-97ac-56a455c82265",
   "metadata": {
    "execution": {
     "iopub.execute_input": "2025-08-19T17:01:14.875937Z",
     "iopub.status.busy": "2025-08-19T17:01:14.875560Z",
     "iopub.status.idle": "2025-08-19T17:01:14.882319Z",
     "shell.execute_reply": "2025-08-19T17:01:14.881349Z"
    },
    "papermill": {
     "duration": 0.022899,
     "end_time": "2025-08-19T17:01:14.884867",
     "exception": false,
     "start_time": "2025-08-19T17:01:14.861968",
     "status": "completed"
    },
    "tags": []
   },
   "outputs": [],
   "source": [
    "cp_metrics_df = pd.DataFrame(cp_metrics_dict)"
   ]
  },
  {
   "cell_type": "code",
   "execution_count": 50,
   "id": "db12611b-57b2-4910-b9d0-355adfd6e7bf",
   "metadata": {
    "execution": {
     "iopub.execute_input": "2025-08-19T17:01:14.935919Z",
     "iopub.status.busy": "2025-08-19T17:01:14.935057Z",
     "iopub.status.idle": "2025-08-19T17:01:14.958216Z",
     "shell.execute_reply": "2025-08-19T17:01:14.957374Z"
    },
    "papermill": {
     "duration": 0.061118,
     "end_time": "2025-08-19T17:01:14.959554",
     "exception": false,
     "start_time": "2025-08-19T17:01:14.898436",
     "status": "completed"
    },
    "tags": []
   },
   "outputs": [
    {
     "data": {
      "text/html": [
       "<div>\n",
       "<style scoped>\n",
       "    .dataframe tbody tr th:only-of-type {\n",
       "        vertical-align: middle;\n",
       "    }\n",
       "\n",
       "    .dataframe tbody tr th {\n",
       "        vertical-align: top;\n",
       "    }\n",
       "\n",
       "    .dataframe thead th {\n",
       "        text-align: right;\n",
       "    }\n",
       "</style>\n",
       "<table border=\"1\" class=\"dataframe\">\n",
       "  <thead>\n",
       "    <tr style=\"text-align: right;\">\n",
       "      <th></th>\n",
       "      <th>universe_id</th>\n",
       "      <th>universe_training_year</th>\n",
       "      <th>universe_training_size</th>\n",
       "      <th>universe_scale</th>\n",
       "      <th>universe_model</th>\n",
       "      <th>universe_exclude_features</th>\n",
       "      <th>universe_exclude_subgroups</th>\n",
       "      <th>q_hat</th>\n",
       "      <th>coverage</th>\n",
       "      <th>avg_size</th>\n",
       "    </tr>\n",
       "  </thead>\n",
       "  <tbody>\n",
       "    <tr>\n",
       "      <th>0</th>\n",
       "      <td>9b779ef78421d2b9158e4e8819a5d71a</td>\n",
       "      <td>2014</td>\n",
       "      <td>25k</td>\n",
       "      <td>do-not-scale</td>\n",
       "      <td>logreg</td>\n",
       "      <td>nationality</td>\n",
       "      <td>keep-all</td>\n",
       "      <td>0.67824</td>\n",
       "      <td>0.911905</td>\n",
       "      <td>1.199777</td>\n",
       "    </tr>\n",
       "  </tbody>\n",
       "</table>\n",
       "</div>"
      ],
      "text/plain": [
       "                        universe_id universe_training_year  \\\n",
       "0  9b779ef78421d2b9158e4e8819a5d71a                   2014   \n",
       "\n",
       "  universe_training_size universe_scale universe_model  \\\n",
       "0                    25k   do-not-scale         logreg   \n",
       "\n",
       "  universe_exclude_features universe_exclude_subgroups    q_hat  coverage  \\\n",
       "0               nationality                   keep-all  0.67824  0.911905   \n",
       "\n",
       "   avg_size  \n",
       "0  1.199777  "
      ]
     },
     "execution_count": 50,
     "metadata": {},
     "output_type": "execute_result"
    }
   ],
   "source": [
    "cp_metrics_df"
   ]
  },
  {
   "cell_type": "markdown",
   "id": "c825ecb4-0d3d-41d6-b7c6-eccb21272259",
   "metadata": {
    "papermill": {
     "duration": 0.012096,
     "end_time": "2025-08-19T17:01:14.984986",
     "exception": false,
     "start_time": "2025-08-19T17:01:14.972890",
     "status": "completed"
    },
    "tags": []
   },
   "source": [
    "Conditional coverage & looking at subgroups"
   ]
  },
  {
   "cell_type": "code",
   "execution_count": 51,
   "id": "027ae886-68dd-4141-96c7-805a5450e1ef",
   "metadata": {
    "execution": {
     "iopub.execute_input": "2025-08-19T17:01:15.010334Z",
     "iopub.status.busy": "2025-08-19T17:01:15.009888Z",
     "iopub.status.idle": "2025-08-19T17:01:15.294102Z",
     "shell.execute_reply": "2025-08-19T17:01:15.293052Z"
    },
    "papermill": {
     "duration": 0.298328,
     "end_time": "2025-08-19T17:01:15.295426",
     "exception": false,
     "start_time": "2025-08-19T17:01:14.997098",
     "status": "completed"
    },
    "tags": []
   },
   "outputs": [],
   "source": [
    "from fairness_multiverse.conformal import build_cp_groups\n",
    "\n",
    "cp_groups_df = build_cp_groups(pred_sets, y_true, X_test.index, org_test)"
   ]
  },
  {
   "cell_type": "code",
   "execution_count": 52,
   "id": "6cbdab96-b2b2-45af-ad54-d0516db2e28d",
   "metadata": {
    "execution": {
     "iopub.execute_input": "2025-08-19T17:01:15.322962Z",
     "iopub.status.busy": "2025-08-19T17:01:15.322440Z",
     "iopub.status.idle": "2025-08-19T17:01:16.211925Z",
     "shell.execute_reply": "2025-08-19T17:01:16.210637Z"
    },
    "papermill": {
     "duration": 0.905567,
     "end_time": "2025-08-19T17:01:16.214331",
     "exception": false,
     "start_time": "2025-08-19T17:01:15.308764",
     "status": "completed"
    },
    "tags": []
   },
   "outputs": [],
   "source": [
    "# Define covered = 1 if true_label is in the predicted set\n",
    "cp_groups_df['covered'] = cp_groups_df.apply(\n",
    "    lambda r: int(r['true_label'] in r['pred_set']),\n",
    "    axis=1\n",
    ")"
   ]
  },
  {
   "cell_type": "code",
   "execution_count": 53,
   "id": "90032e27-66df-4540-9169-4e89cfbaa758",
   "metadata": {
    "execution": {
     "iopub.execute_input": "2025-08-19T17:01:16.247594Z",
     "iopub.status.busy": "2025-08-19T17:01:16.246429Z",
     "iopub.status.idle": "2025-08-19T17:01:16.272014Z",
     "shell.execute_reply": "2025-08-19T17:01:16.270959Z"
    },
    "papermill": {
     "duration": 0.054649,
     "end_time": "2025-08-19T17:01:16.284235",
     "exception": false,
     "start_time": "2025-08-19T17:01:16.229586",
     "status": "completed"
    },
    "tags": []
   },
   "outputs": [],
   "source": [
    "subgroups = ['frau1','nongerman','nongerman_male','nongerman_female']\n",
    "\n",
    "# Conditional coverage for subgroup==1\n",
    "cond_coverage = {\n",
    "    g: cp_groups_df.loc[cp_groups_df[g]==1, 'covered'].mean()\n",
    "    for g in subgroups\n",
    "}"
   ]
  },
  {
   "cell_type": "code",
   "execution_count": 54,
   "id": "1e348fb1-b9c3-45bc-ba23-f016827a7e0d",
   "metadata": {
    "execution": {
     "iopub.execute_input": "2025-08-19T17:01:16.329712Z",
     "iopub.status.busy": "2025-08-19T17:01:16.329225Z",
     "iopub.status.idle": "2025-08-19T17:01:16.336266Z",
     "shell.execute_reply": "2025-08-19T17:01:16.335356Z"
    },
    "papermill": {
     "duration": 0.034637,
     "end_time": "2025-08-19T17:01:16.337755",
     "exception": false,
     "start_time": "2025-08-19T17:01:16.303118",
     "status": "completed"
    },
    "tags": []
   },
   "outputs": [
    {
     "data": {
      "text/plain": [
       "{'frau1': 0.9105270252055533,\n",
       " 'nongerman': 0.9291528658844664,\n",
       " 'nongerman_male': 0.9428082500225164,\n",
       " 'nongerman_female': 0.9065573770491804}"
      ]
     },
     "execution_count": 54,
     "metadata": {},
     "output_type": "execute_result"
    }
   ],
   "source": [
    "cond_coverage"
   ]
  },
  {
   "cell_type": "code",
   "execution_count": 55,
   "id": "f5093324-c3dd-4d63-bc4c-8d945e5c8bbb",
   "metadata": {
    "execution": {
     "iopub.execute_input": "2025-08-19T17:01:16.369924Z",
     "iopub.status.busy": "2025-08-19T17:01:16.368896Z",
     "iopub.status.idle": "2025-08-19T17:01:16.410285Z",
     "shell.execute_reply": "2025-08-19T17:01:16.408539Z"
    },
    "papermill": {
     "duration": 0.058703,
     "end_time": "2025-08-19T17:01:16.412501",
     "exception": false,
     "start_time": "2025-08-19T17:01:16.353798",
     "status": "completed"
    },
    "tags": []
   },
   "outputs": [],
   "source": [
    "for subgroup, cov in cond_coverage.items():\n",
    "    cp_metrics_df[f\"cov_{subgroup}\"] = cov"
   ]
  },
  {
   "cell_type": "code",
   "execution_count": 56,
   "id": "6e872e10-dbe5-49e8-b554-5030c98ff75d",
   "metadata": {
    "execution": {
     "iopub.execute_input": "2025-08-19T17:01:16.463040Z",
     "iopub.status.busy": "2025-08-19T17:01:16.461743Z",
     "iopub.status.idle": "2025-08-19T17:01:16.488139Z",
     "shell.execute_reply": "2025-08-19T17:01:16.487297Z"
    },
    "papermill": {
     "duration": 0.060667,
     "end_time": "2025-08-19T17:01:16.493352",
     "exception": false,
     "start_time": "2025-08-19T17:01:16.432685",
     "status": "completed"
    },
    "tags": []
   },
   "outputs": [
    {
     "data": {
      "text/html": [
       "<div>\n",
       "<style scoped>\n",
       "    .dataframe tbody tr th:only-of-type {\n",
       "        vertical-align: middle;\n",
       "    }\n",
       "\n",
       "    .dataframe tbody tr th {\n",
       "        vertical-align: top;\n",
       "    }\n",
       "\n",
       "    .dataframe thead th {\n",
       "        text-align: right;\n",
       "    }\n",
       "</style>\n",
       "<table border=\"1\" class=\"dataframe\">\n",
       "  <thead>\n",
       "    <tr style=\"text-align: right;\">\n",
       "      <th></th>\n",
       "      <th>universe_id</th>\n",
       "      <th>universe_training_year</th>\n",
       "      <th>universe_training_size</th>\n",
       "      <th>universe_scale</th>\n",
       "      <th>universe_model</th>\n",
       "      <th>universe_exclude_features</th>\n",
       "      <th>universe_exclude_subgroups</th>\n",
       "      <th>q_hat</th>\n",
       "      <th>coverage</th>\n",
       "      <th>avg_size</th>\n",
       "      <th>cov_frau1</th>\n",
       "      <th>cov_nongerman</th>\n",
       "      <th>cov_nongerman_male</th>\n",
       "      <th>cov_nongerman_female</th>\n",
       "    </tr>\n",
       "  </thead>\n",
       "  <tbody>\n",
       "    <tr>\n",
       "      <th>0</th>\n",
       "      <td>9b779ef78421d2b9158e4e8819a5d71a</td>\n",
       "      <td>2014</td>\n",
       "      <td>25k</td>\n",
       "      <td>do-not-scale</td>\n",
       "      <td>logreg</td>\n",
       "      <td>nationality</td>\n",
       "      <td>keep-all</td>\n",
       "      <td>0.67824</td>\n",
       "      <td>0.911905</td>\n",
       "      <td>1.199777</td>\n",
       "      <td>0.910527</td>\n",
       "      <td>0.929153</td>\n",
       "      <td>0.942808</td>\n",
       "      <td>0.906557</td>\n",
       "    </tr>\n",
       "  </tbody>\n",
       "</table>\n",
       "</div>"
      ],
      "text/plain": [
       "                        universe_id universe_training_year  \\\n",
       "0  9b779ef78421d2b9158e4e8819a5d71a                   2014   \n",
       "\n",
       "  universe_training_size universe_scale universe_model  \\\n",
       "0                    25k   do-not-scale         logreg   \n",
       "\n",
       "  universe_exclude_features universe_exclude_subgroups    q_hat  coverage  \\\n",
       "0               nationality                   keep-all  0.67824  0.911905   \n",
       "\n",
       "   avg_size  cov_frau1  cov_nongerman  cov_nongerman_male  \\\n",
       "0  1.199777   0.910527       0.929153            0.942808   \n",
       "\n",
       "   cov_nongerman_female  \n",
       "0              0.906557  "
      ]
     },
     "execution_count": 56,
     "metadata": {},
     "output_type": "execute_result"
    }
   ],
   "source": [
    "cp_metrics_df"
   ]
  },
  {
   "cell_type": "markdown",
   "id": "33774451",
   "metadata": {
    "papermill": {
     "duration": 0.012471,
     "end_time": "2025-08-19T17:01:16.522418",
     "exception": false,
     "start_time": "2025-08-19T17:01:16.509947",
     "status": "completed"
    },
    "tags": []
   },
   "source": [
    "# (Fairness) Metrics"
   ]
  },
  {
   "cell_type": "code",
   "execution_count": 57,
   "id": "debc5d62",
   "metadata": {
    "execution": {
     "iopub.execute_input": "2025-08-19T17:01:16.549971Z",
     "iopub.status.busy": "2025-08-19T17:01:16.548987Z",
     "iopub.status.idle": "2025-08-19T17:01:16.571998Z",
     "shell.execute_reply": "2025-08-19T17:01:16.570971Z"
    },
    "papermill": {
     "duration": 0.038665,
     "end_time": "2025-08-19T17:01:16.573407",
     "exception": false,
     "start_time": "2025-08-19T17:01:16.534742",
     "status": "completed"
    },
    "tags": []
   },
   "outputs": [],
   "source": [
    "colname_to_bin = \"maxdeutsch1\"\n",
    "majority_value = org_train[colname_to_bin].mode()[0]\n",
    "\n",
    "org_test[\"majmin\"] = np.where(org_test[colname_to_bin] == majority_value, \"majority\", \"minority\")"
   ]
  },
  {
   "cell_type": "code",
   "execution_count": 58,
   "id": "06a50de5",
   "metadata": {
    "execution": {
     "iopub.execute_input": "2025-08-19T17:01:16.606162Z",
     "iopub.status.busy": "2025-08-19T17:01:16.605716Z",
     "iopub.status.idle": "2025-08-19T17:01:18.351254Z",
     "shell.execute_reply": "2025-08-19T17:01:18.349439Z"
    },
    "papermill": {
     "duration": 1.766903,
     "end_time": "2025-08-19T17:01:18.353311",
     "exception": false,
     "start_time": "2025-08-19T17:01:16.586408",
     "status": "completed"
    },
    "tags": []
   },
   "outputs": [],
   "source": [
    "example_universe = universe.copy()\n",
    "example_universe[\"cutoff\"] = example_universe[\"cutoff\"][0]\n",
    "example_universe[\"eval_fairness_grouping\"] = example_universe[\"eval_fairness_grouping\"][0]\n",
    "fairness_dict, metric_frame = universe_analysis.compute_metrics(\n",
    "    example_universe,\n",
    "    y_pred_prob=probs_test,\n",
    "    y_test=y_true,\n",
    "    org_test=org_test,\n",
    ")"
   ]
  },
  {
   "cell_type": "markdown",
   "id": "f95d4e02",
   "metadata": {
    "papermill": {
     "duration": 0.013142,
     "end_time": "2025-08-19T17:01:18.382304",
     "exception": false,
     "start_time": "2025-08-19T17:01:18.369162",
     "status": "completed"
    },
    "tags": []
   },
   "source": [
    "# Overall"
   ]
  },
  {
   "cell_type": "markdown",
   "id": "bdee4871",
   "metadata": {
    "papermill": {
     "duration": 0.036096,
     "end_time": "2025-08-19T17:01:18.441904",
     "exception": false,
     "start_time": "2025-08-19T17:01:18.405808",
     "status": "completed"
    },
    "tags": []
   },
   "source": [
    "Main fairness target: Equalized Odds. Seems to be a better fit than equal opportunity, since we're not only interested in Y = 1. Seems to be a better fit than demographic parity, since we also care about accuracy, not just equal distribution of preds.\n",
    "\n",
    "Pick column for computation of fairness metrics\n",
    "\n",
    "Performance\n",
    "Overall performance measures, most interesting in relation to the measures split by group below"
   ]
  },
  {
   "cell_type": "code",
   "execution_count": 59,
   "id": "c4e067c6",
   "metadata": {
    "execution": {
     "iopub.execute_input": "2025-08-19T17:01:18.475935Z",
     "iopub.status.busy": "2025-08-19T17:01:18.475499Z",
     "iopub.status.idle": "2025-08-19T17:01:18.484221Z",
     "shell.execute_reply": "2025-08-19T17:01:18.483470Z"
    },
    "papermill": {
     "duration": 0.024358,
     "end_time": "2025-08-19T17:01:18.485942",
     "exception": false,
     "start_time": "2025-08-19T17:01:18.461584",
     "status": "completed"
    },
    "tags": []
   },
   "outputs": [
    {
     "data": {
      "text/plain": [
       "accuracy                   0.216999\n",
       "balanced accuracy          0.532138\n",
       "f1                         0.238534\n",
       "precision                  0.136266\n",
       "false positive rate        0.891755\n",
       "false negative rate        0.043969\n",
       "selection rate             0.900000\n",
       "count                  89710.000000\n",
       "dtype: float64"
      ]
     },
     "execution_count": 59,
     "metadata": {},
     "output_type": "execute_result"
    }
   ],
   "source": [
    "metric_frame.overall"
   ]
  },
  {
   "cell_type": "markdown",
   "id": "e968fe9d",
   "metadata": {
    "papermill": {
     "duration": 0.012282,
     "end_time": "2025-08-19T17:01:18.512870",
     "exception": false,
     "start_time": "2025-08-19T17:01:18.500588",
     "status": "completed"
    },
    "tags": []
   },
   "source": [
    "By Group"
   ]
  },
  {
   "cell_type": "code",
   "execution_count": 60,
   "id": "ec325bce",
   "metadata": {
    "execution": {
     "iopub.execute_input": "2025-08-19T17:01:18.538835Z",
     "iopub.status.busy": "2025-08-19T17:01:18.538333Z",
     "iopub.status.idle": "2025-08-19T17:01:18.554324Z",
     "shell.execute_reply": "2025-08-19T17:01:18.553164Z"
    },
    "papermill": {
     "duration": 0.030493,
     "end_time": "2025-08-19T17:01:18.555621",
     "exception": false,
     "start_time": "2025-08-19T17:01:18.525128",
     "status": "completed"
    },
    "tags": []
   },
   "outputs": [
    {
     "data": {
      "text/html": [
       "<div>\n",
       "<style scoped>\n",
       "    .dataframe tbody tr th:only-of-type {\n",
       "        vertical-align: middle;\n",
       "    }\n",
       "\n",
       "    .dataframe tbody tr th {\n",
       "        vertical-align: top;\n",
       "    }\n",
       "\n",
       "    .dataframe thead th {\n",
       "        text-align: right;\n",
       "    }\n",
       "</style>\n",
       "<table border=\"1\" class=\"dataframe\">\n",
       "  <thead>\n",
       "    <tr style=\"text-align: right;\">\n",
       "      <th></th>\n",
       "      <th>accuracy</th>\n",
       "      <th>balanced accuracy</th>\n",
       "      <th>f1</th>\n",
       "      <th>precision</th>\n",
       "      <th>false positive rate</th>\n",
       "      <th>false negative rate</th>\n",
       "      <th>selection rate</th>\n",
       "      <th>count</th>\n",
       "    </tr>\n",
       "    <tr>\n",
       "      <th>majmin</th>\n",
       "      <th></th>\n",
       "      <th></th>\n",
       "      <th></th>\n",
       "      <th></th>\n",
       "      <th></th>\n",
       "      <th></th>\n",
       "      <th></th>\n",
       "      <th></th>\n",
       "    </tr>\n",
       "  </thead>\n",
       "  <tbody>\n",
       "    <tr>\n",
       "      <th>majority</th>\n",
       "      <td>0.238846</td>\n",
       "      <td>0.539542</td>\n",
       "      <td>0.247689</td>\n",
       "      <td>0.142449</td>\n",
       "      <td>0.869165</td>\n",
       "      <td>0.051751</td>\n",
       "      <td>0.879615</td>\n",
       "      <td>69170.0</td>\n",
       "    </tr>\n",
       "    <tr>\n",
       "      <th>minority</th>\n",
       "      <td>0.143427</td>\n",
       "      <td>0.509844</td>\n",
       "      <td>0.209756</td>\n",
       "      <td>0.117360</td>\n",
       "      <td>0.966377</td>\n",
       "      <td>0.013936</td>\n",
       "      <td>0.968647</td>\n",
       "      <td>20540.0</td>\n",
       "    </tr>\n",
       "  </tbody>\n",
       "</table>\n",
       "</div>"
      ],
      "text/plain": [
       "          accuracy  balanced accuracy        f1  precision  \\\n",
       "majmin                                                       \n",
       "majority  0.238846           0.539542  0.247689   0.142449   \n",
       "minority  0.143427           0.509844  0.209756   0.117360   \n",
       "\n",
       "          false positive rate  false negative rate  selection rate    count  \n",
       "majmin                                                                       \n",
       "majority             0.869165             0.051751        0.879615  69170.0  \n",
       "minority             0.966377             0.013936        0.968647  20540.0  "
      ]
     },
     "execution_count": 60,
     "metadata": {},
     "output_type": "execute_result"
    }
   ],
   "source": [
    "metric_frame.by_group"
   ]
  },
  {
   "cell_type": "code",
   "execution_count": 61,
   "id": "a9ddbe63",
   "metadata": {
    "execution": {
     "iopub.execute_input": "2025-08-19T17:01:18.584282Z",
     "iopub.status.busy": "2025-08-19T17:01:18.582983Z",
     "iopub.status.idle": "2025-08-19T17:01:20.489918Z",
     "shell.execute_reply": "2025-08-19T17:01:20.488746Z"
    },
    "papermill": {
     "duration": 1.922754,
     "end_time": "2025-08-19T17:01:20.491317",
     "exception": false,
     "start_time": "2025-08-19T17:01:18.568563",
     "status": "completed"
    },
    "tags": []
   },
   "outputs": [
    {
     "data": {
      "text/plain": [
       "array([[<Axes: title={'center': 'accuracy'}, xlabel='majmin'>,\n",
       "        <Axes: title={'center': 'balanced accuracy'}, xlabel='majmin'>,\n",
       "        <Axes: title={'center': 'f1'}, xlabel='majmin'>],\n",
       "       [<Axes: title={'center': 'precision'}, xlabel='majmin'>,\n",
       "        <Axes: title={'center': 'false positive rate'}, xlabel='majmin'>,\n",
       "        <Axes: title={'center': 'false negative rate'}, xlabel='majmin'>],\n",
       "       [<Axes: title={'center': 'selection rate'}, xlabel='majmin'>,\n",
       "        <Axes: title={'center': 'count'}, xlabel='majmin'>,\n",
       "        <Axes: xlabel='majmin'>]], dtype=object)"
      ]
     },
     "execution_count": 61,
     "metadata": {},
     "output_type": "execute_result"
    },
    {
     "data": {
      "image/png": "[encoded data removed]",
      "text/plain": [
       "<Figure size 1200x800 with 9 Axes>"
      ]
     },
     "metadata": {},
     "output_type": "display_data"
    }
   ],
   "source": [
    "# In a graphic\n",
    "metric_frame.by_group.plot.bar(\n",
    "    subplots=True,\n",
    "    layout=[3, 3],\n",
    "    legend=False,\n",
    "    figsize=[12, 8],\n",
    "    title=\"Show all metrics\",\n",
    ")"
   ]
  },
  {
   "cell_type": "markdown",
   "id": "f57a0bac",
   "metadata": {
    "papermill": {
     "duration": 0.019468,
     "end_time": "2025-08-19T17:01:20.530040",
     "exception": false,
     "start_time": "2025-08-19T17:01:20.510572",
     "status": "completed"
    },
    "tags": []
   },
   "source": [
    "# Final Output"
   ]
  },
  {
   "cell_type": "code",
   "execution_count": 62,
   "id": "96d280a3",
   "metadata": {
    "execution": {
     "iopub.execute_input": "2025-08-19T17:01:20.561894Z",
     "iopub.status.busy": "2025-08-19T17:01:20.559956Z",
     "iopub.status.idle": "2025-08-19T17:01:20.570847Z",
     "shell.execute_reply": "2025-08-19T17:01:20.570249Z"
    },
    "papermill": {
     "duration": 0.038099,
     "end_time": "2025-08-19T17:01:20.582784",
     "exception": false,
     "start_time": "2025-08-19T17:01:20.544685",
     "status": "completed"
    },
    "tags": []
   },
   "outputs": [
    {
     "data": {
      "text/plain": [
       "4"
      ]
     },
     "execution_count": 62,
     "metadata": {},
     "output_type": "execute_result"
    }
   ],
   "source": [
    "sub_universes = universe_analysis.generate_sub_universes()\n",
    "len(sub_universes)"
   ]
  },
  {
   "cell_type": "code",
   "execution_count": 63,
   "id": "92adf7ba",
   "metadata": {
    "execution": {
     "iopub.execute_input": "2025-08-19T17:01:20.612700Z",
     "iopub.status.busy": "2025-08-19T17:01:20.611912Z",
     "iopub.status.idle": "2025-08-19T17:01:20.616910Z",
     "shell.execute_reply": "2025-08-19T17:01:20.616177Z"
    },
    "papermill": {
     "duration": 0.021027,
     "end_time": "2025-08-19T17:01:20.618116",
     "exception": false,
     "start_time": "2025-08-19T17:01:20.597089",
     "status": "completed"
    },
    "tags": []
   },
   "outputs": [],
   "source": [
    "def filter_sub_universe_data(sub_universe, org_test):\n",
    "    # Keep all rows — no filtering\n",
    "    keep_rows_mask = np.ones(org_test.shape[0], dtype=bool)\n",
    "\n",
    "    print(f\"[INFO] Keeping all rows: {keep_rows_mask.sum()} rows retained.\")\n",
    "    return keep_rows_mask"
   ]
  },
  {
   "cell_type": "code",
   "execution_count": 64,
   "id": "4a759155",
   "metadata": {
    "execution": {
     "iopub.execute_input": "2025-08-19T17:01:20.650623Z",
     "iopub.status.busy": "2025-08-19T17:01:20.649561Z",
     "iopub.status.idle": "2025-08-19T17:01:27.582752Z",
     "shell.execute_reply": "2025-08-19T17:01:27.581706Z"
    },
    "papermill": {
     "duration": 6.951666,
     "end_time": "2025-08-19T17:01:27.584326",
     "exception": false,
     "start_time": "2025-08-19T17:01:20.632660",
     "status": "completed"
    },
    "tags": []
   },
   "outputs": [
    {
     "name": "stdout",
     "output_type": "stream",
     "text": [
      "Stopping execution_time clock.\n",
      "[INFO] Keeping all rows: 89710 rows retained.\n"
     ]
    },
    {
     "name": "stdout",
     "output_type": "stream",
     "text": [
      "[INFO] Keeping all rows: 89710 rows retained.\n"
     ]
    },
    {
     "name": "stdout",
     "output_type": "stream",
     "text": [
      "[INFO] Keeping all rows: 89710 rows retained.\n"
     ]
    },
    {
     "name": "stdout",
     "output_type": "stream",
     "text": [
      "[INFO] Keeping all rows: 89710 rows retained.\n"
     ]
    },
    {
     "data": {
      "text/html": [
       "<div>\n",
       "<style scoped>\n",
       "    .dataframe tbody tr th:only-of-type {\n",
       "        vertical-align: middle;\n",
       "    }\n",
       "\n",
       "    .dataframe tbody tr th {\n",
       "        vertical-align: top;\n",
       "    }\n",
       "\n",
       "    .dataframe thead th {\n",
       "        text-align: right;\n",
       "    }\n",
       "</style>\n",
       "<table border=\"1\" class=\"dataframe\">\n",
       "  <thead>\n",
       "    <tr style=\"text-align: right;\">\n",
       "      <th></th>\n",
       "      <th>run_no</th>\n",
       "      <th>universe_id</th>\n",
       "      <th>universe_settings</th>\n",
       "      <th>execution_time</th>\n",
       "      <th>test_size_n</th>\n",
       "      <th>test_size_frac</th>\n",
       "      <th>fair_main_equalized_odds_difference</th>\n",
       "      <th>fair_main_equalized_odds_ratio</th>\n",
       "      <th>fair_main_demographic_parity_difference</th>\n",
       "      <th>fair_main_demographic_parity_ratio</th>\n",
       "      <th>...</th>\n",
       "      <th>perf_grp_precision_0</th>\n",
       "      <th>perf_grp_precision_1</th>\n",
       "      <th>perf_grp_false positive rate_0</th>\n",
       "      <th>perf_grp_false positive rate_1</th>\n",
       "      <th>perf_grp_false negative rate_0</th>\n",
       "      <th>perf_grp_false negative rate_1</th>\n",
       "      <th>perf_grp_selection rate_0</th>\n",
       "      <th>perf_grp_selection rate_1</th>\n",
       "      <th>perf_grp_count_0</th>\n",
       "      <th>perf_grp_count_1</th>\n",
       "    </tr>\n",
       "  </thead>\n",
       "  <tbody>\n",
       "    <tr>\n",
       "      <th>0</th>\n",
       "      <td>2</td>\n",
       "      <td>9b779ef78421d2b9158e4e8819a5d71a</td>\n",
       "      <td>{\"cutoff\": \"quantile_0.1\", \"eval_fairness_grou...</td>\n",
       "      <td>20.973258</td>\n",
       "      <td>89710</td>\n",
       "      <td>1.0</td>\n",
       "      <td>0.097211</td>\n",
       "      <td>0.899406</td>\n",
       "      <td>0.089031</td>\n",
       "      <td>0.908087</td>\n",
       "      <td>...</td>\n",
       "      <td>NaN</td>\n",
       "      <td>NaN</td>\n",
       "      <td>NaN</td>\n",
       "      <td>NaN</td>\n",
       "      <td>NaN</td>\n",
       "      <td>NaN</td>\n",
       "      <td>NaN</td>\n",
       "      <td>NaN</td>\n",
       "      <td>NaN</td>\n",
       "      <td>NaN</td>\n",
       "    </tr>\n",
       "    <tr>\n",
       "      <th>0</th>\n",
       "      <td>2</td>\n",
       "      <td>9b779ef78421d2b9158e4e8819a5d71a</td>\n",
       "      <td>{\"cutoff\": \"quantile_0.1\", \"eval_fairness_grou...</td>\n",
       "      <td>20.973258</td>\n",
       "      <td>89710</td>\n",
       "      <td>1.0</td>\n",
       "      <td>0.097211</td>\n",
       "      <td>0.899406</td>\n",
       "      <td>0.089031</td>\n",
       "      <td>0.908087</td>\n",
       "      <td>...</td>\n",
       "      <td>0.117360</td>\n",
       "      <td>0.142449</td>\n",
       "      <td>0.966377</td>\n",
       "      <td>0.869165</td>\n",
       "      <td>0.013936</td>\n",
       "      <td>0.051751</td>\n",
       "      <td>0.968647</td>\n",
       "      <td>0.879615</td>\n",
       "      <td>20540.0</td>\n",
       "      <td>69170.0</td>\n",
       "    </tr>\n",
       "    <tr>\n",
       "      <th>0</th>\n",
       "      <td>2</td>\n",
       "      <td>9b779ef78421d2b9158e4e8819a5d71a</td>\n",
       "      <td>{\"cutoff\": \"quantile_0.25\", \"eval_fairness_gro...</td>\n",
       "      <td>20.973258</td>\n",
       "      <td>89710</td>\n",
       "      <td>1.0</td>\n",
       "      <td>0.213306</td>\n",
       "      <td>0.761318</td>\n",
       "      <td>0.195434</td>\n",
       "      <td>0.783016</td>\n",
       "      <td>...</td>\n",
       "      <td>NaN</td>\n",
       "      <td>NaN</td>\n",
       "      <td>NaN</td>\n",
       "      <td>NaN</td>\n",
       "      <td>NaN</td>\n",
       "      <td>NaN</td>\n",
       "      <td>NaN</td>\n",
       "      <td>NaN</td>\n",
       "      <td>NaN</td>\n",
       "      <td>NaN</td>\n",
       "    </tr>\n",
       "    <tr>\n",
       "      <th>0</th>\n",
       "      <td>2</td>\n",
       "      <td>9b779ef78421d2b9158e4e8819a5d71a</td>\n",
       "      <td>{\"cutoff\": \"quantile_0.25\", \"eval_fairness_gro...</td>\n",
       "      <td>20.973258</td>\n",
       "      <td>89710</td>\n",
       "      <td>1.0</td>\n",
       "      <td>0.213306</td>\n",
       "      <td>0.761318</td>\n",
       "      <td>0.195434</td>\n",
       "      <td>0.783016</td>\n",
       "      <td>...</td>\n",
       "      <td>0.122162</td>\n",
       "      <td>0.162744</td>\n",
       "      <td>0.893683</td>\n",
       "      <td>0.680376</td>\n",
       "      <td>0.045608</td>\n",
       "      <td>0.131400</td>\n",
       "      <td>0.900682</td>\n",
       "      <td>0.705248</td>\n",
       "      <td>20540.0</td>\n",
       "      <td>69170.0</td>\n",
       "    </tr>\n",
       "  </tbody>\n",
       "</table>\n",
       "<p>4 rows × 50 columns</p>\n",
       "</div>"
      ],
      "text/plain": [
       "  run_no                       universe_id  \\\n",
       "0      2  9b779ef78421d2b9158e4e8819a5d71a   \n",
       "0      2  9b779ef78421d2b9158e4e8819a5d71a   \n",
       "0      2  9b779ef78421d2b9158e4e8819a5d71a   \n",
       "0      2  9b779ef78421d2b9158e4e8819a5d71a   \n",
       "\n",
       "                                   universe_settings  execution_time  \\\n",
       "0  {\"cutoff\": \"quantile_0.1\", \"eval_fairness_grou...       20.973258   \n",
       "0  {\"cutoff\": \"quantile_0.1\", \"eval_fairness_grou...       20.973258   \n",
       "0  {\"cutoff\": \"quantile_0.25\", \"eval_fairness_gro...       20.973258   \n",
       "0  {\"cutoff\": \"quantile_0.25\", \"eval_fairness_gro...       20.973258   \n",
       "\n",
       "   test_size_n  test_size_frac  fair_main_equalized_odds_difference  \\\n",
       "0        89710             1.0                             0.097211   \n",
       "0        89710             1.0                             0.097211   \n",
       "0        89710             1.0                             0.213306   \n",
       "0        89710             1.0                             0.213306   \n",
       "\n",
       "   fair_main_equalized_odds_ratio  fair_main_demographic_parity_difference  \\\n",
       "0                        0.899406                                 0.089031   \n",
       "0                        0.899406                                 0.089031   \n",
       "0                        0.761318                                 0.195434   \n",
       "0                        0.761318                                 0.195434   \n",
       "\n",
       "   fair_main_demographic_parity_ratio  ...  perf_grp_precision_0  \\\n",
       "0                            0.908087  ...                   NaN   \n",
       "0                            0.908087  ...              0.117360   \n",
       "0                            0.783016  ...                   NaN   \n",
       "0                            0.783016  ...              0.122162   \n",
       "\n",
       "   perf_grp_precision_1  perf_grp_false positive rate_0  \\\n",
       "0                   NaN                             NaN   \n",
       "0              0.142449                        0.966377   \n",
       "0                   NaN                             NaN   \n",
       "0              0.162744                        0.893683   \n",
       "\n",
       "   perf_grp_false positive rate_1  perf_grp_false negative rate_0  \\\n",
       "0                             NaN                             NaN   \n",
       "0                        0.869165                        0.013936   \n",
       "0                             NaN                             NaN   \n",
       "0                        0.680376                        0.045608   \n",
       "\n",
       "   perf_grp_false negative rate_1  perf_grp_selection rate_0  \\\n",
       "0                             NaN                        NaN   \n",
       "0                        0.051751                   0.968647   \n",
       "0                             NaN                        NaN   \n",
       "0                        0.131400                   0.900682   \n",
       "\n",
       "   perf_grp_selection rate_1  perf_grp_count_0  perf_grp_count_1  \n",
       "0                        NaN               NaN               NaN  \n",
       "0                   0.879615           20540.0           69170.0  \n",
       "0                        NaN               NaN               NaN  \n",
       "0                   0.705248           20540.0           69170.0  \n",
       "\n",
       "[4 rows x 50 columns]"
      ]
     },
     "execution_count": 64,
     "metadata": {},
     "output_type": "execute_result"
    }
   ],
   "source": [
    "final_output = universe_analysis.generate_final_output(\n",
    "    y_pred_prob=probs_test,\n",
    "    y_test=y_true,\n",
    "    org_test=org_test,\n",
    "    filter_data=filter_sub_universe_data,\n",
    "    cp_metrics_df=cp_metrics_df,\n",
    "    save=True,\n",
    ")\n",
    "final_output"
   ]
  },
  {
   "cell_type": "code",
   "execution_count": null,
   "id": "571f9a0f-660a-4841-b661-b06fbc637944",
   "metadata": {
    "papermill": {
     "duration": 0.025176,
     "end_time": "2025-08-19T17:01:27.629665",
     "exception": false,
     "start_time": "2025-08-19T17:01:27.604489",
     "status": "completed"
    },
    "tags": []
   },
   "outputs": [],
   "source": []
  },
  {
   "cell_type": "code",
   "execution_count": null,
   "id": "529482e3-0150-4854-a92d-ab864efc606e",
   "metadata": {
    "papermill": {
     "duration": 0.014155,
     "end_time": "2025-08-19T17:01:27.658786",
     "exception": false,
     "start_time": "2025-08-19T17:01:27.644631",
     "status": "completed"
    },
    "tags": []
   },
   "outputs": [],
   "source": []
  }
 ],
 "metadata": {
  "celltoolbar": "Tags",
  "kernelspec": {
   "display_name": "Python (CMA Fairness)",
   "language": "python",
   "name": "cma_fair_env"
  },
  "language_info": {
   "codemirror_mode": {
    "name": "ipython",
    "version": 3
   },
   "file_extension": ".py",
   "mimetype": "text/x-python",
   "name": "python",
   "nbconvert_exporter": "python",
   "pygments_lexer": "ipython3",
   "version": "3.10.12"
  },
  "papermill": {
   "default_parameters": {},
   "duration": 31.474517,
   "end_time": "2025-08-19T17:01:28.492590",
   "environment_variables": {},
   "exception": null,
   "input_path": "universe_analysis.ipynb",
   "output_path": "output/runs/2/notebooks/m_2-9b779ef78421d2b9158e4e8819a5d71a.ipynb",
   "parameters": {
    "output_dir": "output",
    "run_no": "2",
    "seed": "2023",
    "universe": "{\"cutoff\": [\"quantile_0.1\", \"quantile_0.25\"], \"eval_fairness_grouping\": [\"majority-minority\", \"nationality-all\"], \"exclude_features\": \"nationality\", \"exclude_subgroups\": \"keep-all\", \"model\": \"logreg\", \"scale\": \"do-not-scale\", \"training_size\": \"25k\", \"training_year\": \"2014\"}",
    "universe_id": "9b779ef78421d2b9158e4e8819a5d71a"
   },
   "start_time": "2025-08-19T17:00:57.018073",
   "version": "2.6.0"
  }
 },
 "nbformat": 4,
 "nbformat_minor": 5
}