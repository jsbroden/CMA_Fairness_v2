{
 "cells": [
  {
   "cell_type": "code",
   "execution_count": 1,
   "id": "f159f837-637b-42ba-96b5-ec9a68c44524",
   "metadata": {
    "execution": {
     "iopub.execute_input": "2025-07-21T07:35:55.077473Z",
     "iopub.status.busy": "2025-07-21T07:35:55.076772Z",
     "iopub.status.idle": "2025-07-21T07:35:55.093633Z",
     "shell.execute_reply": "2025-07-21T07:35:55.092603Z"
    },
    "papermill": {
     "duration": 0.03452,
     "end_time": "2025-07-21T07:35:55.095424",
     "exception": false,
     "start_time": "2025-07-21T07:35:55.060904",
     "status": "completed"
    },
    "tags": []
   },
   "outputs": [
    {
     "name": "stdout",
     "output_type": "stream",
     "text": [
      "/dss/dsshome1/0C/ra93lal2/cma/CMA_Fairness_v2\n"
     ]
    },
    {
     "name": "stderr",
     "output_type": "stream",
     "text": [
      "/dss/dsshome1/0C/ra93lal2/.local/share/virtualenvs/CMA_Fairness_v2-3j10GkSs/lib/python3.10/site-packages/IPython/core/magics/osm.py:393: UserWarning: This is now an optional IPython functionality, using bookmarks requires you to install the `pickleshare` library.\n",
      "  bkms = self.shell.db.get('bookmarks', {})\n",
      "/dss/dsshome1/0C/ra93lal2/.local/share/virtualenvs/CMA_Fairness_v2-3j10GkSs/lib/python3.10/site-packages/IPython/core/magics/osm.py:417: UserWarning: This is now an optional IPython functionality, setting dhist requires you to install the `pickleshare` library.\n",
      "  self.shell.db['dhist'] = compress_dhist(dhist)[-100:]\n"
     ]
    }
   ],
   "source": [
    "%cd ~/cma/CMA_Fairness_v2"
   ]
  },
  {
   "cell_type": "markdown",
   "id": "de2603b9",
   "metadata": {
    "papermill": {
     "duration": 0.017307,
     "end_time": "2025-07-21T07:35:55.129136",
     "exception": false,
     "start_time": "2025-07-21T07:35:55.111829",
     "status": "completed"
    },
    "tags": []
   },
   "source": [
    "The following cell holds the definition of our parameters, these values can be overriden by rendering the with e.g. the following command:\n",
    "\n",
    "papermill -p alpha 0.2 -p ratio 0.3 universe_analysis.ipynb output/test_run.ipynb"
   ]
  },
  {
   "cell_type": "code",
   "execution_count": 2,
   "id": "a80968a0-40bb-4fa9-85ef-2d5eefb01975",
   "metadata": {
    "execution": {
     "iopub.execute_input": "2025-07-21T07:35:55.160360Z",
     "iopub.status.busy": "2025-07-21T07:35:55.160012Z",
     "iopub.status.idle": "2025-07-21T07:35:55.164906Z",
     "shell.execute_reply": "2025-07-21T07:35:55.164083Z"
    },
    "papermill": {
     "duration": 0.021129,
     "end_time": "2025-07-21T07:35:55.166590",
     "exception": false,
     "start_time": "2025-07-21T07:35:55.145461",
     "status": "completed"
    },
    "tags": []
   },
   "outputs": [
    {
     "name": "stdout",
     "output_type": "stream",
     "text": [
      "Current working directory: /dss/dsshome1/0C/ra93lal2/cma/CMA_Fairness_v2\n"
     ]
    }
   ],
   "source": [
    "import os\n",
    "print(\"Current working directory:\", os.getcwd())"
   ]
  },
  {
   "cell_type": "code",
   "execution_count": 3,
   "id": "2dce4c03",
   "metadata": {
    "execution": {
     "iopub.execute_input": "2025-07-21T07:35:55.200019Z",
     "iopub.status.busy": "2025-07-21T07:35:55.198500Z",
     "iopub.status.idle": "2025-07-21T07:35:55.228378Z",
     "shell.execute_reply": "2025-07-21T07:35:55.227501Z"
    },
    "papermill": {
     "duration": 0.045548,
     "end_time": "2025-07-21T07:35:55.230118",
     "exception": false,
     "start_time": "2025-07-21T07:35:55.184570",
     "status": "completed"
    },
    "tags": [
     "parameters"
    ]
   },
   "outputs": [],
   "source": [
    "run_no = 0\n",
    "universe_id = \"test\"\n",
    "universe = {\n",
    "    #\"scale\": \"scale\", # \"scale\", \"do-not-scale\",\n",
    "    #\"encode_categorical\": \"one-hot\", # \"ordinal\", \"one-hot\"\n",
    "    \"model\": \"elasticnet\", # \"logreg\", \"penalized_logreg\", \"rf\", \"gbm\", \"elasticnet\"\n",
    "    \"cutoff\": [\"quantile_0.15\", \"quantile_0.30\"],\n",
    "    \"exclude_features\": \"nationality-sex\", # \"none\", \"nationality\", \"sex\", \"nationality-sex\"\n",
    "    \"exclude_subgroups\": \"keep-all\", # \"keep-all\", \"drop-non-german\"\n",
    "    \"eval_fairness_grouping\": [\"majority-minority\", \"nationality-all\"]\n",
    "}\n",
    "\n",
    "output_dir=\"./output\"\n",
    "seed=0"
   ]
  },
  {
   "cell_type": "code",
   "execution_count": 4,
   "id": "b6ea7e05",
   "metadata": {
    "execution": {
     "iopub.execute_input": "2025-07-21T07:35:55.269030Z",
     "iopub.status.busy": "2025-07-21T07:35:55.268316Z",
     "iopub.status.idle": "2025-07-21T07:35:55.293445Z",
     "shell.execute_reply": "2025-07-21T07:35:55.292445Z"
    },
    "papermill": {
     "duration": 0.040222,
     "end_time": "2025-07-21T07:35:55.294832",
     "exception": false,
     "start_time": "2025-07-21T07:35:55.254610",
     "status": "completed"
    },
    "tags": [
     "injected-parameters"
    ]
   },
   "outputs": [],
   "source": [
    "# Parameters\n",
    "universe_id = \"12a5fec09c1184e64c2b9398314839d5\"\n",
    "run_no = \"2\"\n",
    "universe = \"{\\\"cutoff\\\": [\\\"quantile_0.1\\\", \\\"quantile_0.25\\\"], \\\"eval_fairness_grouping\\\": [\\\"majority-minority\\\", \\\"nationality-all\\\"], \\\"exclude_features\\\": \\\"sex\\\", \\\"exclude_subgroups\\\": \\\"keep-all\\\", \\\"model\\\": \\\"logreg\\\"}\"\n",
    "output_dir = \"output\"\n",
    "seed = \"2023\"\n"
   ]
  },
  {
   "cell_type": "code",
   "execution_count": 5,
   "id": "1650acaf",
   "metadata": {
    "execution": {
     "iopub.execute_input": "2025-07-21T07:35:55.314116Z",
     "iopub.status.busy": "2025-07-21T07:35:55.313851Z",
     "iopub.status.idle": "2025-07-21T07:35:55.317217Z",
     "shell.execute_reply": "2025-07-21T07:35:55.316537Z"
    },
    "papermill": {
     "duration": 0.015107,
     "end_time": "2025-07-21T07:35:55.318839",
     "exception": false,
     "start_time": "2025-07-21T07:35:55.303732",
     "status": "completed"
    },
    "tags": []
   },
   "outputs": [],
   "source": [
    "import json\n",
    "# Parse universe into dict if it is passed as a string\n",
    "if isinstance(universe, str):\n",
    "    universe = json.loads(universe)"
   ]
  },
  {
   "cell_type": "code",
   "execution_count": 6,
   "id": "16620c48",
   "metadata": {
    "execution": {
     "iopub.execute_input": "2025-07-21T07:35:55.355673Z",
     "iopub.status.busy": "2025-07-21T07:35:55.355117Z",
     "iopub.status.idle": "2025-07-21T07:35:55.416018Z",
     "shell.execute_reply": "2025-07-21T07:35:55.415281Z"
    },
    "papermill": {
     "duration": 0.080636,
     "end_time": "2025-07-21T07:35:55.417572",
     "exception": false,
     "start_time": "2025-07-21T07:35:55.336936",
     "status": "completed"
    },
    "tags": []
   },
   "outputs": [],
   "source": [
    "# Auto-reload the custom package\n",
    "%load_ext autoreload\n",
    "%autoreload 1\n",
    "%aimport fairness_multiverse"
   ]
  },
  {
   "cell_type": "code",
   "execution_count": 7,
   "id": "01c5c9f3",
   "metadata": {
    "execution": {
     "iopub.execute_input": "2025-07-21T07:35:55.437769Z",
     "iopub.status.busy": "2025-07-21T07:35:55.437179Z",
     "iopub.status.idle": "2025-07-21T07:36:00.373639Z",
     "shell.execute_reply": "2025-07-21T07:36:00.372546Z"
    },
    "papermill": {
     "duration": 4.947429,
     "end_time": "2025-07-21T07:36:00.375532",
     "exception": false,
     "start_time": "2025-07-21T07:35:55.428103",
     "status": "completed"
    },
    "tags": []
   },
   "outputs": [],
   "source": [
    "from fairness_multiverse.universe import UniverseAnalysis\n",
    "\n",
    "universe_analysis = UniverseAnalysis(\n",
    "    run_no = run_no,\n",
    "    universe_id = universe_id,\n",
    "    universe = universe,\n",
    "    output_dir=output_dir,\n",
    ")"
   ]
  },
  {
   "cell_type": "code",
   "execution_count": 8,
   "id": "106241f5",
   "metadata": {
    "execution": {
     "iopub.execute_input": "2025-07-21T07:36:00.417194Z",
     "iopub.status.busy": "2025-07-21T07:36:00.416662Z",
     "iopub.status.idle": "2025-07-21T07:36:00.422832Z",
     "shell.execute_reply": "2025-07-21T07:36:00.421898Z"
    },
    "papermill": {
     "duration": 0.027236,
     "end_time": "2025-07-21T07:36:00.424478",
     "exception": false,
     "start_time": "2025-07-21T07:36:00.397242",
     "status": "completed"
    },
    "tags": []
   },
   "outputs": [
    {
     "name": "stdout",
     "output_type": "stream",
     "text": [
      "Using Seed: 2023\n"
     ]
    }
   ],
   "source": [
    "import numpy as np\n",
    "parsed_seed = int(seed)\n",
    "np.random.seed(parsed_seed)\n",
    "print(f\"Using Seed: {parsed_seed}\")"
   ]
  },
  {
   "cell_type": "markdown",
   "id": "e0ebdc57",
   "metadata": {
    "papermill": {
     "duration": 0.016991,
     "end_time": "2025-07-21T07:36:00.459270",
     "exception": false,
     "start_time": "2025-07-21T07:36:00.442279",
     "status": "completed"
    },
    "tags": []
   },
   "source": [
    "# Loading Data"
   ]
  },
  {
   "cell_type": "markdown",
   "id": "681925a3",
   "metadata": {
    "papermill": {
     "duration": 0.016793,
     "end_time": "2025-07-21T07:36:00.493026",
     "exception": false,
     "start_time": "2025-07-21T07:36:00.476233",
     "status": "completed"
    },
    "tags": []
   },
   "source": [
    "Load siab_train, siab_test, siab_calib and/or \n",
    "load siab_train_features, siab_train_labels"
   ]
  },
  {
   "cell_type": "code",
   "execution_count": 9,
   "id": "f0496b8a",
   "metadata": {
    "execution": {
     "iopub.execute_input": "2025-07-21T07:36:00.526624Z",
     "iopub.status.busy": "2025-07-21T07:36:00.526123Z",
     "iopub.status.idle": "2025-07-21T07:36:13.670405Z",
     "shell.execute_reply": "2025-07-21T07:36:13.669355Z"
    },
    "papermill": {
     "duration": 13.161573,
     "end_time": "2025-07-21T07:36:13.671600",
     "exception": false,
     "start_time": "2025-07-21T07:36:00.510027",
     "status": "completed"
    },
    "tags": []
   },
   "outputs": [
    {
     "name": "stdout",
     "output_type": "stream",
     "text": [
      "Loading SIAB data from cache: data/siab_cached.csv.gz\n"
     ]
    },
    {
     "name": "stdout",
     "output_type": "stream",
     "text": [
      "(643690, 164)\n"
     ]
    }
   ],
   "source": [
    "# Do I need to load siab? Delete this cell?\n",
    "\n",
    "from pathlib import Path\n",
    "import pandas as pd\n",
    "\n",
    "# File paths\n",
    "raw_file = Path(\"data/raw/siab.csv\")\n",
    "cache_file = Path(\"data/siab_cached.csv.gz\")\n",
    "\n",
    "# Ensure cache directory exists\n",
    "cache_file.parent.mkdir(parents=True, exist_ok=True)\n",
    "\n",
    "# Load with simple caching\n",
    "if cache_file.exists():\n",
    "    print(f\"Loading SIAB data from cache: {cache_file}\")\n",
    "    siab = pd.read_csv(cache_file, compression='gzip')\n",
    "else:\n",
    "    print(f\"Cache not found. Reading raw SIAB data: {raw_file}\")\n",
    "    siab = pd.read_csv(raw_file)\n",
    "    siab.to_csv(cache_file, index=False, compression='gzip')\n",
    "    print(f\"Cached SIAB data to: {cache_file}\")\n",
    "\n",
    "# Now use `siab` DataFrame as needed\n",
    "print(siab.shape)\n"
   ]
  },
  {
   "cell_type": "code",
   "execution_count": 10,
   "id": "a0edb063",
   "metadata": {
    "execution": {
     "iopub.execute_input": "2025-07-21T07:36:13.695111Z",
     "iopub.status.busy": "2025-07-21T07:36:13.694564Z",
     "iopub.status.idle": "2025-07-21T07:36:13.993288Z",
     "shell.execute_reply": "2025-07-21T07:36:13.992478Z"
    },
    "papermill": {
     "duration": 0.3121,
     "end_time": "2025-07-21T07:36:13.994676",
     "exception": false,
     "start_time": "2025-07-21T07:36:13.682576",
     "status": "completed"
    },
    "tags": []
   },
   "outputs": [],
   "source": [
    "import pandas as pd\n",
    "\n",
    "X_train = pd.read_csv(\"./data/X_train.csv\")\n",
    "y_train = pd.read_csv(\"./data/y_train.csv\")"
   ]
  },
  {
   "cell_type": "code",
   "execution_count": 11,
   "id": "63d08085",
   "metadata": {
    "execution": {
     "iopub.execute_input": "2025-07-21T07:36:14.016437Z",
     "iopub.status.busy": "2025-07-21T07:36:14.015887Z",
     "iopub.status.idle": "2025-07-21T07:36:15.426524Z",
     "shell.execute_reply": "2025-07-21T07:36:15.425561Z"
    },
    "papermill": {
     "duration": 1.425036,
     "end_time": "2025-07-21T07:36:15.428844",
     "exception": false,
     "start_time": "2025-07-21T07:36:14.003808",
     "status": "completed"
    },
    "tags": []
   },
   "outputs": [],
   "source": [
    "X_test = pd.read_csv(\"./data/X_test.csv\")\n",
    "y_true = pd.read_csv(\"./data/y_test.csv\")"
   ]
  },
  {
   "cell_type": "code",
   "execution_count": 12,
   "id": "98a8d0fa-1d3d-4ed8-bb2c-281470e24add",
   "metadata": {
    "execution": {
     "iopub.execute_input": "2025-07-21T07:36:15.470558Z",
     "iopub.status.busy": "2025-07-21T07:36:15.470035Z",
     "iopub.status.idle": "2025-07-21T07:36:16.949025Z",
     "shell.execute_reply": "2025-07-21T07:36:16.947875Z"
    },
    "papermill": {
     "duration": 1.502222,
     "end_time": "2025-07-21T07:36:16.951150",
     "exception": false,
     "start_time": "2025-07-21T07:36:15.448928",
     "status": "completed"
    },
    "tags": []
   },
   "outputs": [],
   "source": [
    "# Calibration data for conformal\n",
    "X_calib = pd.read_csv(\"./data/X_calib.csv\")\n",
    "y_calib = pd.read_csv(\"./data/y_calib.csv\")"
   ]
  },
  {
   "cell_type": "code",
   "execution_count": 13,
   "id": "e6c733c5",
   "metadata": {
    "execution": {
     "iopub.execute_input": "2025-07-21T07:36:16.994713Z",
     "iopub.status.busy": "2025-07-21T07:36:16.994191Z",
     "iopub.status.idle": "2025-07-21T07:36:17.070942Z",
     "shell.execute_reply": "2025-07-21T07:36:17.069654Z"
    },
    "papermill": {
     "duration": 0.102427,
     "end_time": "2025-07-21T07:36:17.072500",
     "exception": false,
     "start_time": "2025-07-21T07:36:16.970073",
     "status": "completed"
    },
    "tags": []
   },
   "outputs": [],
   "source": [
    "# Auxiliary data needed downstream in the pipeline\n",
    "\n",
    "org_train = X_train.copy()\n",
    "org_test = X_test.copy()\n",
    "org_calib = X_calib.copy()"
   ]
  },
  {
   "cell_type": "markdown",
   "id": "0a4a1b33",
   "metadata": {
    "papermill": {
     "duration": 0.019279,
     "end_time": "2025-07-21T07:36:17.111112",
     "exception": false,
     "start_time": "2025-07-21T07:36:17.091833",
     "status": "completed"
    },
    "tags": []
   },
   "source": [
    "# Preprocessing Data"
   ]
  },
  {
   "cell_type": "code",
   "execution_count": 14,
   "id": "ca879031",
   "metadata": {
    "execution": {
     "iopub.execute_input": "2025-07-21T07:36:17.150302Z",
     "iopub.status.busy": "2025-07-21T07:36:17.149845Z",
     "iopub.status.idle": "2025-07-21T07:36:17.156149Z",
     "shell.execute_reply": "2025-07-21T07:36:17.155028Z"
    },
    "papermill": {
     "duration": 0.028571,
     "end_time": "2025-07-21T07:36:17.158039",
     "exception": false,
     "start_time": "2025-07-21T07:36:17.129468",
     "status": "completed"
    },
    "tags": []
   },
   "outputs": [],
   "source": [
    "# EXCLUDE PROTECTED FEATURES\n",
    "# ----------------------\n",
    "# \"exclude_features\": \"none\", # \"nationality\", \"sex\", \"nationality-sex\"\n",
    "\n",
    "excluded_features = universe[\"exclude_features\"].split(\"-\") # split, e.g.: \"nationality-sex\" -> [\"nationality\", \"sex\"]\n",
    "excluded_features_dictionary = {\n",
    "    \"nationality\": [\"maxdeutsch1\", \"maxdeutsch.Missing.\"],\n",
    "    \"sex\": [\"frau1\"],\n",
    "}\n"
   ]
  },
  {
   "cell_type": "code",
   "execution_count": 15,
   "id": "b745ac60",
   "metadata": {
    "execution": {
     "iopub.execute_input": "2025-07-21T07:36:17.197332Z",
     "iopub.status.busy": "2025-07-21T07:36:17.196859Z",
     "iopub.status.idle": "2025-07-21T07:36:17.202533Z",
     "shell.execute_reply": "2025-07-21T07:36:17.201544Z"
    },
    "papermill": {
     "duration": 0.027458,
     "end_time": "2025-07-21T07:36:17.204452",
     "exception": false,
     "start_time": "2025-07-21T07:36:17.176994",
     "status": "completed"
    },
    "tags": []
   },
   "outputs": [],
   "source": [
    "# Code nice names to column names\n",
    "\n",
    "excluded_features_columns = [\n",
    "    excluded_features_dictionary[f] for f in excluded_features if len(f) > 0 and f != \"none\"\n",
    "]"
   ]
  },
  {
   "cell_type": "code",
   "execution_count": 16,
   "id": "f84f73a2",
   "metadata": {
    "execution": {
     "iopub.execute_input": "2025-07-21T07:36:17.243991Z",
     "iopub.status.busy": "2025-07-21T07:36:17.243438Z",
     "iopub.status.idle": "2025-07-21T07:36:17.250824Z",
     "shell.execute_reply": "2025-07-21T07:36:17.249719Z"
    },
    "papermill": {
     "duration": 0.028807,
     "end_time": "2025-07-21T07:36:17.252776",
     "exception": false,
     "start_time": "2025-07-21T07:36:17.223969",
     "status": "completed"
    },
    "tags": []
   },
   "outputs": [],
   "source": [
    "from utils import flatten_once\n",
    "\n",
    "excluded_features_columns = flatten_once(excluded_features_columns)"
   ]
  },
  {
   "cell_type": "code",
   "execution_count": 17,
   "id": "884dea22",
   "metadata": {
    "execution": {
     "iopub.execute_input": "2025-07-21T07:36:17.293190Z",
     "iopub.status.busy": "2025-07-21T07:36:17.292445Z",
     "iopub.status.idle": "2025-07-21T07:36:17.318789Z",
     "shell.execute_reply": "2025-07-21T07:36:17.317803Z"
    },
    "papermill": {
     "duration": 0.047855,
     "end_time": "2025-07-21T07:36:17.320618",
     "exception": false,
     "start_time": "2025-07-21T07:36:17.272763",
     "status": "completed"
    },
    "tags": []
   },
   "outputs": [
    {
     "name": "stdout",
     "output_type": "stream",
     "text": [
      "Dropping features: ['frau1']\n"
     ]
    }
   ],
   "source": [
    "if len(excluded_features_columns) > 0:\n",
    "    print(f\"Dropping features: {excluded_features_columns}\")\n",
    "    X_train.drop(excluded_features_columns, axis=1, inplace=True)"
   ]
  },
  {
   "cell_type": "code",
   "execution_count": 18,
   "id": "95ab8b16",
   "metadata": {
    "execution": {
     "iopub.execute_input": "2025-07-21T07:36:17.362736Z",
     "iopub.status.busy": "2025-07-21T07:36:17.361654Z",
     "iopub.status.idle": "2025-07-21T07:36:17.416024Z",
     "shell.execute_reply": "2025-07-21T07:36:17.414978Z"
    },
    "papermill": {
     "duration": 0.07778,
     "end_time": "2025-07-21T07:36:17.417862",
     "exception": false,
     "start_time": "2025-07-21T07:36:17.340082",
     "status": "completed"
    },
    "tags": []
   },
   "outputs": [
    {
     "name": "stdout",
     "output_type": "stream",
     "text": [
      "Dropping features: ['frau1']\n"
     ]
    }
   ],
   "source": [
    "if len(excluded_features_columns) > 0:\n",
    "    print(f\"Dropping features: {excluded_features_columns}\")\n",
    "    X_test.drop(excluded_features_columns, axis=1, inplace=True)"
   ]
  },
  {
   "cell_type": "code",
   "execution_count": 19,
   "id": "1853aaf5-fb9f-46cb-a2b5-8ea4ae2237e4",
   "metadata": {
    "execution": {
     "iopub.execute_input": "2025-07-21T07:36:17.456090Z",
     "iopub.status.busy": "2025-07-21T07:36:17.455572Z",
     "iopub.status.idle": "2025-07-21T07:36:17.492122Z",
     "shell.execute_reply": "2025-07-21T07:36:17.491072Z"
    },
    "papermill": {
     "duration": 0.057393,
     "end_time": "2025-07-21T07:36:17.494172",
     "exception": false,
     "start_time": "2025-07-21T07:36:17.436779",
     "status": "completed"
    },
    "tags": []
   },
   "outputs": [
    {
     "name": "stdout",
     "output_type": "stream",
     "text": [
      "Dropping features: ['frau1']\n"
     ]
    }
   ],
   "source": [
    "if len(excluded_features_columns) > 0:\n",
    "    print(f\"Dropping features: {excluded_features_columns}\")\n",
    "    X_calib.drop(excluded_features_columns, axis=1, inplace=True)"
   ]
  },
  {
   "cell_type": "code",
   "execution_count": 20,
   "id": "76c4dc6d",
   "metadata": {
    "execution": {
     "iopub.execute_input": "2025-07-21T07:36:17.531391Z",
     "iopub.status.busy": "2025-07-21T07:36:17.530566Z",
     "iopub.status.idle": "2025-07-21T07:36:17.536755Z",
     "shell.execute_reply": "2025-07-21T07:36:17.535590Z"
    },
    "papermill": {
     "duration": 0.0266,
     "end_time": "2025-07-21T07:36:17.538463",
     "exception": false,
     "start_time": "2025-07-21T07:36:17.511863",
     "status": "completed"
    },
    "tags": []
   },
   "outputs": [],
   "source": [
    "# EXCLUDE CERTAIN SUBGROUPS\n",
    "# ----------------------\n",
    "\n",
    "mode = universe.get(\"exclude_subgroups\", \"keep-all\") \n",
    "# Fetches the exclude_subgroups setting from the universe dict.\n",
    "# Defaults to \"keep-all\" if the key is missing."
   ]
  },
  {
   "cell_type": "code",
   "execution_count": 21,
   "id": "21994072",
   "metadata": {
    "execution": {
     "iopub.execute_input": "2025-07-21T07:36:17.575878Z",
     "iopub.status.busy": "2025-07-21T07:36:17.575216Z",
     "iopub.status.idle": "2025-07-21T07:36:17.584887Z",
     "shell.execute_reply": "2025-07-21T07:36:17.583761Z"
    },
    "papermill": {
     "duration": 0.029855,
     "end_time": "2025-07-21T07:36:17.586722",
     "exception": false,
     "start_time": "2025-07-21T07:36:17.556867",
     "status": "completed"
    },
    "tags": []
   },
   "outputs": [],
   "source": [
    "if mode == \"keep-all\":\n",
    "    keep_mask = pd.Series(True, index=org_train.index)\n",
    "\n",
    "# org_train contains the original feature columns from features_org (in Simson)\n",
    "# features_org contains unprocessed features, for me X_train at beginning ???\n",
    "# For keep-all, creates a boolean Series (keep_mask) of all True, so no rows are removed.\n",
    "\n",
    "elif mode == \"drop-non-german\":\n",
    "    keep_mask = org_train[\"maxdeutsch1\"] == 1 # ??? what about missing values?\n",
    "\n",
    "else:\n",
    "    raise ValueError(f\"Unsupported mode for exclude_subgroups: {mode}\")\n"
   ]
  },
  {
   "cell_type": "code",
   "execution_count": 22,
   "id": "71651440",
   "metadata": {
    "execution": {
     "iopub.execute_input": "2025-07-21T07:36:17.681079Z",
     "iopub.status.busy": "2025-07-21T07:36:17.680471Z",
     "iopub.status.idle": "2025-07-21T07:36:17.688486Z",
     "shell.execute_reply": "2025-07-21T07:36:17.687247Z"
    },
    "papermill": {
     "duration": 0.029217,
     "end_time": "2025-07-21T07:36:17.690443",
     "exception": false,
     "start_time": "2025-07-21T07:36:17.661226",
     "status": "completed"
    },
    "tags": []
   },
   "outputs": [],
   "source": [
    "n_drop = (~keep_mask).sum() # Calculates how many rows are set to be dropped\n",
    "if n_drop > 0:\n",
    "    pct = n_drop / len(keep_mask) * 100\n",
    "    print(f\"Dropping {n_drop} rows ({pct:.2f}%) where mode='{mode}'\")"
   ]
  },
  {
   "cell_type": "code",
   "execution_count": 23,
   "id": "5fb8eee5",
   "metadata": {
    "execution": {
     "iopub.execute_input": "2025-07-21T07:36:17.737030Z",
     "iopub.status.busy": "2025-07-21T07:36:17.736573Z",
     "iopub.status.idle": "2025-07-21T07:36:17.752672Z",
     "shell.execute_reply": "2025-07-21T07:36:17.751616Z"
    },
    "papermill": {
     "duration": 0.039432,
     "end_time": "2025-07-21T07:36:17.754420",
     "exception": false,
     "start_time": "2025-07-21T07:36:17.714988",
     "status": "completed"
    },
    "tags": []
   },
   "outputs": [],
   "source": [
    "X_train = X_train[keep_mask]"
   ]
  },
  {
   "cell_type": "code",
   "execution_count": 24,
   "id": "b202bb3a",
   "metadata": {
    "execution": {
     "iopub.execute_input": "2025-07-21T07:36:17.794575Z",
     "iopub.status.busy": "2025-07-21T07:36:17.794168Z",
     "iopub.status.idle": "2025-07-21T07:36:17.800326Z",
     "shell.execute_reply": "2025-07-21T07:36:17.799370Z"
    },
    "papermill": {
     "duration": 0.026845,
     "end_time": "2025-07-21T07:36:17.802054",
     "exception": false,
     "start_time": "2025-07-21T07:36:17.775209",
     "status": "completed"
    },
    "tags": []
   },
   "outputs": [],
   "source": [
    "y_train = y_train[keep_mask]"
   ]
  },
  {
   "cell_type": "markdown",
   "id": "493e2ac3",
   "metadata": {
    "papermill": {
     "duration": 0.019951,
     "end_time": "2025-07-21T07:36:17.843324",
     "exception": false,
     "start_time": "2025-07-21T07:36:17.823373",
     "status": "completed"
    },
    "tags": []
   },
   "source": [
    "# Model Training"
   ]
  },
  {
   "cell_type": "code",
   "execution_count": 25,
   "id": "679e1268",
   "metadata": {
    "execution": {
     "iopub.execute_input": "2025-07-21T07:36:17.893771Z",
     "iopub.status.busy": "2025-07-21T07:36:17.893357Z",
     "iopub.status.idle": "2025-07-21T07:36:17.991163Z",
     "shell.execute_reply": "2025-07-21T07:36:17.990202Z"
    },
    "papermill": {
     "duration": 0.123196,
     "end_time": "2025-07-21T07:36:17.992781",
     "exception": false,
     "start_time": "2025-07-21T07:36:17.869585",
     "status": "completed"
    },
    "tags": []
   },
   "outputs": [],
   "source": [
    "from sklearn.linear_model import LogisticRegression\n",
    "from sklearn.ensemble import GradientBoostingClassifier, RandomForestClassifier\n",
    "\n",
    "if (universe[\"model\"] == \"logreg\"):\n",
    "    model = LogisticRegression() #penalty=\"none\") #, solver=\"newton-cg\", max_iter=1) # include random_state=19 ?\n",
    "elif (universe[\"model\"] == \"penalized_logreg\"):\n",
    "    model = LogisticRegression(penalty=\"l2\", C=1.0) #, solver=\"newton-cg\", max_iter=1)\n",
    "elif (universe[\"model\"] == \"rf\"):\n",
    "    model = RandomForestClassifier(n_estimators=100, n_jobs=-1)\n",
    "elif (universe[\"model\"] == \"gbm\"):\n",
    "    model = GradientBoostingClassifier()\n",
    "elif (universe[\"model\"] == \"elasticnet\"):\n",
    "    model = LogisticRegression(penalty = 'elasticnet', solver = 'saga', l1_ratio = 0.5, max_iter=5000) # which solver to use?\n",
    "else:\n",
    "    raise \"Unsupported universe.model\""
   ]
  },
  {
   "cell_type": "code",
   "execution_count": 26,
   "id": "0cc8f744",
   "metadata": {
    "execution": {
     "iopub.execute_input": "2025-07-21T07:36:18.032803Z",
     "iopub.status.busy": "2025-07-21T07:36:18.031522Z",
     "iopub.status.idle": "2025-07-21T07:36:18.041736Z",
     "shell.execute_reply": "2025-07-21T07:36:18.040367Z"
    },
    "papermill": {
     "duration": 0.03146,
     "end_time": "2025-07-21T07:36:18.044317",
     "exception": false,
     "start_time": "2025-07-21T07:36:18.012857",
     "status": "completed"
    },
    "tags": []
   },
   "outputs": [],
   "source": [
    "import numpy as np\n",
    "from sklearn.pipeline import Pipeline\n",
    "from sklearn.preprocessing import StandardScaler\n",
    "from sklearn.metrics import accuracy_score\n",
    "\n",
    "model = Pipeline([\n",
    "    #(\"continuous_processor\", continuous_processor),\n",
    "    #(\"categorical_preprocessor\", categorical_preprocessor),\n",
    "    #(\"scale\", StandardScaler() if universe[\"scale\"] == \"scale\" else None),\n",
    "    (\"model\", model),\n",
    "])"
   ]
  },
  {
   "cell_type": "code",
   "execution_count": 27,
   "id": "9442c04d",
   "metadata": {
    "execution": {
     "iopub.execute_input": "2025-07-21T07:36:18.088002Z",
     "iopub.status.busy": "2025-07-21T07:36:18.086951Z",
     "iopub.status.idle": "2025-07-21T07:36:19.233665Z",
     "shell.execute_reply": "2025-07-21T07:36:19.232283Z"
    },
    "papermill": {
     "duration": 1.169567,
     "end_time": "2025-07-21T07:36:19.235569",
     "exception": false,
     "start_time": "2025-07-21T07:36:18.066002",
     "status": "completed"
    },
    "tags": []
   },
   "outputs": [
    {
     "name": "stderr",
     "output_type": "stream",
     "text": [
      "/dss/dsshome1/0C/ra93lal2/.local/share/virtualenvs/CMA_Fairness_v2-3j10GkSs/lib/python3.10/site-packages/sklearn/linear_model/_logistic.py:444: ConvergenceWarning: lbfgs failed to converge (status=1):\n",
      "STOP: TOTAL NO. of ITERATIONS REACHED LIMIT.\n",
      "\n",
      "Increase the number of iterations (max_iter) or scale the data as shown in:\n",
      "    https://scikit-learn.org/stable/modules/preprocessing.html\n",
      "Please also refer to the documentation for alternative solver options:\n",
      "    https://scikit-learn.org/stable/modules/linear_model.html#logistic-regression\n",
      "  n_iter_i = _check_optimize_result(\n"
     ]
    },
    {
     "data": {
      "text/html": [
       "<style>#sk-container-id-1 {color: black;background-color: white;}#sk-container-id-1 pre{padding: 0;}#sk-container-id-1 div.sk-toggleable {background-color: white;}#sk-container-id-1 label.sk-toggleable__label {cursor: pointer;display: block;width: 100%;margin-bottom: 0;padding: 0.3em;box-sizing: border-box;text-align: center;}#sk-container-id-1 label.sk-toggleable__label-arrow:before {content: \"▸\";float: left;margin-right: 0.25em;color: #696969;}#sk-container-id-1 label.sk-toggleable__label-arrow:hover:before {color: black;}#sk-container-id-1 div.sk-estimator:hover label.sk-toggleable__label-arrow:before {color: black;}#sk-container-id-1 div.sk-toggleable__content {max-height: 0;max-width: 0;overflow: hidden;text-align: left;background-color: #f0f8ff;}#sk-container-id-1 div.sk-toggleable__content pre {margin: 0.2em;color: black;border-radius: 0.25em;background-color: #f0f8ff;}#sk-container-id-1 input.sk-toggleable__control:checked~div.sk-toggleable__content {max-height: 200px;max-width: 100%;overflow: auto;}#sk-container-id-1 input.sk-toggleable__control:checked~label.sk-toggleable__label-arrow:before {content: \"▾\";}#sk-container-id-1 div.sk-estimator input.sk-toggleable__control:checked~label.sk-toggleable__label {background-color: #d4ebff;}#sk-container-id-1 div.sk-label input.sk-toggleable__control:checked~label.sk-toggleable__label {background-color: #d4ebff;}#sk-container-id-1 input.sk-hidden--visually {border: 0;clip: rect(1px 1px 1px 1px);clip: rect(1px, 1px, 1px, 1px);height: 1px;margin: -1px;overflow: hidden;padding: 0;position: absolute;width: 1px;}#sk-container-id-1 div.sk-estimator {font-family: monospace;background-color: #f0f8ff;border: 1px dotted black;border-radius: 0.25em;box-sizing: border-box;margin-bottom: 0.5em;}#sk-container-id-1 div.sk-estimator:hover {background-color: #d4ebff;}#sk-container-id-1 div.sk-parallel-item::after {content: \"\";width: 100%;border-bottom: 1px solid gray;flex-grow: 1;}#sk-container-id-1 div.sk-label:hover label.sk-toggleable__label {background-color: #d4ebff;}#sk-container-id-1 div.sk-serial::before {content: \"\";position: absolute;border-left: 1px solid gray;box-sizing: border-box;top: 0;bottom: 0;left: 50%;z-index: 0;}#sk-container-id-1 div.sk-serial {display: flex;flex-direction: column;align-items: center;background-color: white;padding-right: 0.2em;padding-left: 0.2em;position: relative;}#sk-container-id-1 div.sk-item {position: relative;z-index: 1;}#sk-container-id-1 div.sk-parallel {display: flex;align-items: stretch;justify-content: center;background-color: white;position: relative;}#sk-container-id-1 div.sk-item::before, #sk-container-id-1 div.sk-parallel-item::before {content: \"\";position: absolute;border-left: 1px solid gray;box-sizing: border-box;top: 0;bottom: 0;left: 50%;z-index: -1;}#sk-container-id-1 div.sk-parallel-item {display: flex;flex-direction: column;z-index: 1;position: relative;background-color: white;}#sk-container-id-1 div.sk-parallel-item:first-child::after {align-self: flex-end;width: 50%;}#sk-container-id-1 div.sk-parallel-item:last-child::after {align-self: flex-start;width: 50%;}#sk-container-id-1 div.sk-parallel-item:only-child::after {width: 0;}#sk-container-id-1 div.sk-dashed-wrapped {border: 1px dashed gray;margin: 0 0.4em 0.5em 0.4em;box-sizing: border-box;padding-bottom: 0.4em;background-color: white;}#sk-container-id-1 div.sk-label label {font-family: monospace;font-weight: bold;display: inline-block;line-height: 1.2em;}#sk-container-id-1 div.sk-label-container {text-align: center;}#sk-container-id-1 div.sk-container {/* jupyter's `normalize.less` sets `[hidden] { display: none; }` but bootstrap.min.css set `[hidden] { display: none !important; }` so we also need the `!important` here to be able to override the default hidden behavior on the sphinx rendered scikit-learn.org. See: https://github.com/scikit-learn/scikit-learn/issues/21755 */display: inline-block !important;position: relative;}#sk-container-id-1 div.sk-text-repr-fallback {display: none;}</style><div id=\"sk-container-id-1\" class=\"sk-top-container\"><div class=\"sk-text-repr-fallback\"><pre>Pipeline(steps=[(&#x27;model&#x27;, LogisticRegression())])</pre><b>In a Jupyter environment, please rerun this cell to show the HTML representation or trust the notebook. <br />On GitHub, the HTML representation is unable to render, please try loading this page with nbviewer.org.</b></div><div class=\"sk-container\" hidden><div class=\"sk-item sk-dashed-wrapped\"><div class=\"sk-label-container\"><div class=\"sk-label sk-toggleable\"><input class=\"sk-toggleable__control sk-hidden--visually\" id=\"sk-estimator-id-1\" type=\"checkbox\" ><label for=\"sk-estimator-id-1\" class=\"sk-toggleable__label sk-toggleable__label-arrow\">Pipeline</label><div class=\"sk-toggleable__content\"><pre>Pipeline(steps=[(&#x27;model&#x27;, LogisticRegression())])</pre></div></div></div><div class=\"sk-serial\"><div class=\"sk-item\"><div class=\"sk-estimator sk-toggleable\"><input class=\"sk-toggleable__control sk-hidden--visually\" id=\"sk-estimator-id-2\" type=\"checkbox\" ><label for=\"sk-estimator-id-2\" class=\"sk-toggleable__label sk-toggleable__label-arrow\">LogisticRegression</label><div class=\"sk-toggleable__content\"><pre>LogisticRegression()</pre></div></div></div></div></div></div></div>"
      ],
      "text/plain": [
       "Pipeline(steps=[('model', LogisticRegression())])"
      ]
     },
     "execution_count": 27,
     "metadata": {},
     "output_type": "execute_result"
    }
   ],
   "source": [
    "model.fit(X_train, y_train.values.ravel())"
   ]
  },
  {
   "cell_type": "code",
   "execution_count": 28,
   "id": "af59f8c0",
   "metadata": {
    "execution": {
     "iopub.execute_input": "2025-07-21T07:36:19.286257Z",
     "iopub.status.busy": "2025-07-21T07:36:19.285397Z",
     "iopub.status.idle": "2025-07-21T07:36:19.291956Z",
     "shell.execute_reply": "2025-07-21T07:36:19.290781Z"
    },
    "papermill": {
     "duration": 0.033118,
     "end_time": "2025-07-21T07:36:19.294346",
     "exception": false,
     "start_time": "2025-07-21T07:36:19.261228",
     "status": "completed"
    },
    "tags": []
   },
   "outputs": [],
   "source": [
    "from fairness_multiverse.universe import predict_w_threshold"
   ]
  },
  {
   "cell_type": "code",
   "execution_count": 29,
   "id": "a7cf2e16",
   "metadata": {
    "execution": {
     "iopub.execute_input": "2025-07-21T07:36:19.323959Z",
     "iopub.status.busy": "2025-07-21T07:36:19.323283Z",
     "iopub.status.idle": "2025-07-21T07:36:19.423896Z",
     "shell.execute_reply": "2025-07-21T07:36:19.422709Z"
    },
    "papermill": {
     "duration": 0.113559,
     "end_time": "2025-07-21T07:36:19.425775",
     "exception": false,
     "start_time": "2025-07-21T07:36:19.312216",
     "status": "completed"
    },
    "tags": []
   },
   "outputs": [
    {
     "data": {
      "text/plain": [
       "0.8623564819975477"
      ]
     },
     "execution_count": 29,
     "metadata": {},
     "output_type": "execute_result"
    }
   ],
   "source": [
    "probs_test = model.predict_proba(X_test)\n",
    "\n",
    "'''\n",
    "Below code returns a boolean array (or binary 0/1 array depending on how it’s used) where each element \n",
    "is True if the probability of class 1 is greater than or equal to the threshold, and False otherwise.\n",
    "'''\n",
    "y_pred_default = predict_w_threshold(probs_test, 0.5)\n",
    "\n",
    "# Naive prediction\n",
    "accuracy_score(y_true = y_true, y_pred = y_pred_default)"
   ]
  },
  {
   "cell_type": "code",
   "execution_count": 30,
   "id": "081964c3",
   "metadata": {
    "execution": {
     "iopub.execute_input": "2025-07-21T07:36:19.478875Z",
     "iopub.status.busy": "2025-07-21T07:36:19.478251Z",
     "iopub.status.idle": "2025-07-21T07:36:19.593093Z",
     "shell.execute_reply": "2025-07-21T07:36:19.591961Z"
    },
    "papermill": {
     "duration": 0.141593,
     "end_time": "2025-07-21T07:36:19.595566",
     "exception": false,
     "start_time": "2025-07-21T07:36:19.453973",
     "status": "completed"
    },
    "tags": []
   },
   "outputs": [
    {
     "data": {
      "text/plain": [
       "array([0, 0, 0, ..., 0, 0, 0])"
      ]
     },
     "execution_count": 30,
     "metadata": {},
     "output_type": "execute_result"
    }
   ],
   "source": [
    "model.predict(X_test)"
   ]
  },
  {
   "cell_type": "markdown",
   "id": "56c9705b",
   "metadata": {
    "papermill": {
     "duration": 0.024141,
     "end_time": "2025-07-21T07:36:19.642711",
     "exception": false,
     "start_time": "2025-07-21T07:36:19.618570",
     "status": "completed"
    },
    "tags": []
   },
   "source": [
    "# Conformal Prediction"
   ]
  },
  {
   "cell_type": "code",
   "execution_count": 31,
   "id": "160ec6ff",
   "metadata": {
    "execution": {
     "iopub.execute_input": "2025-07-21T07:36:19.695698Z",
     "iopub.status.busy": "2025-07-21T07:36:19.695088Z",
     "iopub.status.idle": "2025-07-21T07:36:19.702189Z",
     "shell.execute_reply": "2025-07-21T07:36:19.700699Z"
    },
    "papermill": {
     "duration": 0.038564,
     "end_time": "2025-07-21T07:36:19.704704",
     "exception": false,
     "start_time": "2025-07-21T07:36:19.666140",
     "status": "completed"
    },
    "tags": []
   },
   "outputs": [],
   "source": [
    "# Miscoverage level for conformal prediction (10% allowed error rate => 90% target coverage)\n",
    "alpha = 0.1"
   ]
  },
  {
   "cell_type": "code",
   "execution_count": 32,
   "id": "eadf4555-3dd3-440e-8e35-f82a4ad9f855",
   "metadata": {
    "execution": {
     "iopub.execute_input": "2025-07-21T07:36:19.757440Z",
     "iopub.status.busy": "2025-07-21T07:36:19.756847Z",
     "iopub.status.idle": "2025-07-21T07:36:19.839279Z",
     "shell.execute_reply": "2025-07-21T07:36:19.838419Z"
    },
    "papermill": {
     "duration": 0.111532,
     "end_time": "2025-07-21T07:36:19.840949",
     "exception": false,
     "start_time": "2025-07-21T07:36:19.729417",
     "status": "completed"
    },
    "tags": []
   },
   "outputs": [],
   "source": [
    "probs_calib = model.predict_proba(X_calib)"
   ]
  },
  {
   "cell_type": "code",
   "execution_count": 33,
   "id": "2ed93547-6d5d-4983-9b36-1ecb300da49a",
   "metadata": {
    "execution": {
     "iopub.execute_input": "2025-07-21T07:36:19.873744Z",
     "iopub.status.busy": "2025-07-21T07:36:19.873192Z",
     "iopub.status.idle": "2025-07-21T07:36:19.880057Z",
     "shell.execute_reply": "2025-07-21T07:36:19.878798Z"
    },
    "papermill": {
     "duration": 0.028413,
     "end_time": "2025-07-21T07:36:19.886196",
     "exception": false,
     "start_time": "2025-07-21T07:36:19.857783",
     "status": "completed"
    },
    "tags": []
   },
   "outputs": [],
   "source": [
    "y_calib = y_calib.values.ravel().astype(int)"
   ]
  },
  {
   "cell_type": "code",
   "execution_count": 34,
   "id": "65d1320d-f588-4b38-9072-62af1ae97f7d",
   "metadata": {
    "execution": {
     "iopub.execute_input": "2025-07-21T07:36:19.935484Z",
     "iopub.status.busy": "2025-07-21T07:36:19.935021Z",
     "iopub.status.idle": "2025-07-21T07:36:19.945775Z",
     "shell.execute_reply": "2025-07-21T07:36:19.944411Z"
    },
    "papermill": {
     "duration": 0.038348,
     "end_time": "2025-07-21T07:36:19.948654",
     "exception": false,
     "start_time": "2025-07-21T07:36:19.910306",
     "status": "completed"
    },
    "tags": []
   },
   "outputs": [],
   "source": [
    "from fairness_multiverse.conformal import compute_nc_scores\n",
    "\n",
    "# Compute nonconformity scores on calibration set (1 - probability of true class)\n",
    "nc_scores = compute_nc_scores(probs_calib, y_calib)"
   ]
  },
  {
   "cell_type": "code",
   "execution_count": 35,
   "id": "df3b8ca3-53b7-43d5-9667-7c85da7aeda2",
   "metadata": {
    "execution": {
     "iopub.execute_input": "2025-07-21T07:36:19.997878Z",
     "iopub.status.busy": "2025-07-21T07:36:19.997242Z",
     "iopub.status.idle": "2025-07-21T07:36:20.005692Z",
     "shell.execute_reply": "2025-07-21T07:36:20.004208Z"
    },
    "papermill": {
     "duration": 0.037261,
     "end_time": "2025-07-21T07:36:20.008048",
     "exception": false,
     "start_time": "2025-07-21T07:36:19.970787",
     "status": "completed"
    },
    "tags": []
   },
   "outputs": [],
   "source": [
    "from fairness_multiverse.conformal import find_threshold\n",
    "\n",
    "# Find conformal threshold q_hat for the given alpha (split conformal method)\n",
    "q_hat = find_threshold(nc_scores, alpha)"
   ]
  },
  {
   "cell_type": "code",
   "execution_count": 36,
   "id": "4d29e6c1-0ef6-4aa4-b8fe-4fe79b0d033a",
   "metadata": {
    "execution": {
     "iopub.execute_input": "2025-07-21T07:36:20.054176Z",
     "iopub.status.busy": "2025-07-21T07:36:20.053435Z",
     "iopub.status.idle": "2025-07-21T07:36:20.061786Z",
     "shell.execute_reply": "2025-07-21T07:36:20.060628Z"
    },
    "papermill": {
     "duration": 0.034119,
     "end_time": "2025-07-21T07:36:20.063849",
     "exception": false,
     "start_time": "2025-07-21T07:36:20.029730",
     "status": "completed"
    },
    "tags": []
   },
   "outputs": [
    {
     "data": {
      "text/plain": [
       "0.6761277050096451"
      ]
     },
     "execution_count": 36,
     "metadata": {},
     "output_type": "execute_result"
    }
   ],
   "source": [
    "q_hat"
   ]
  },
  {
   "cell_type": "code",
   "execution_count": 37,
   "id": "92460794-cdac-4be2-ba28-f28c0515a6fb",
   "metadata": {
    "execution": {
     "iopub.execute_input": "2025-07-21T07:36:20.093240Z",
     "iopub.status.busy": "2025-07-21T07:36:20.092642Z",
     "iopub.status.idle": "2025-07-21T07:36:20.961070Z",
     "shell.execute_reply": "2025-07-21T07:36:20.947644Z"
    },
    "papermill": {
     "duration": 0.883584,
     "end_time": "2025-07-21T07:36:20.963106",
     "exception": false,
     "start_time": "2025-07-21T07:36:20.079522",
     "status": "completed"
    },
    "tags": []
   },
   "outputs": [],
   "source": [
    "from fairness_multiverse.conformal import predict_conformal_sets\n",
    "\n",
    "# Generate prediction sets for each test example\n",
    "pred_sets = predict_conformal_sets(model, X_test, q_hat)"
   ]
  },
  {
   "cell_type": "code",
   "execution_count": 38,
   "id": "d90c9a65-e6db-4f5d-80cd-e68fb7e46829",
   "metadata": {
    "execution": {
     "iopub.execute_input": "2025-07-21T07:36:21.012155Z",
     "iopub.status.busy": "2025-07-21T07:36:21.011662Z",
     "iopub.status.idle": "2025-07-21T07:36:21.016158Z",
     "shell.execute_reply": "2025-07-21T07:36:21.015306Z"
    },
    "papermill": {
     "duration": 0.016554,
     "end_time": "2025-07-21T07:36:21.017560",
     "exception": false,
     "start_time": "2025-07-21T07:36:21.001006",
     "status": "completed"
    },
    "tags": []
   },
   "outputs": [],
   "source": [
    "y_true = y_true.squeeze()"
   ]
  },
  {
   "cell_type": "code",
   "execution_count": 39,
   "id": "3a58a54a-1e68-46b9-927a-df01f18aebc8",
   "metadata": {
    "execution": {
     "iopub.execute_input": "2025-07-21T07:36:21.041329Z",
     "iopub.status.busy": "2025-07-21T07:36:21.040372Z",
     "iopub.status.idle": "2025-07-21T07:36:21.878540Z",
     "shell.execute_reply": "2025-07-21T07:36:21.877519Z"
    },
    "papermill": {
     "duration": 0.852507,
     "end_time": "2025-07-21T07:36:21.880658",
     "exception": false,
     "start_time": "2025-07-21T07:36:21.028151",
     "status": "completed"
    },
    "tags": []
   },
   "outputs": [],
   "source": [
    "from fairness_multiverse.conformal import evaluate_sets\n",
    "\n",
    "# Evaluate coverage and average set size on test data\n",
    "metrics = evaluate_sets(pred_sets, y_true)"
   ]
  },
  {
   "cell_type": "code",
   "execution_count": 40,
   "id": "5ce0a5cb-201f-45a0-ade5-94c7f0bd6095",
   "metadata": {
    "execution": {
     "iopub.execute_input": "2025-07-21T07:36:21.910209Z",
     "iopub.status.busy": "2025-07-21T07:36:21.909861Z",
     "iopub.status.idle": "2025-07-21T07:36:21.915764Z",
     "shell.execute_reply": "2025-07-21T07:36:21.915023Z"
    },
    "papermill": {
     "duration": 0.019847,
     "end_time": "2025-07-21T07:36:21.917030",
     "exception": false,
     "start_time": "2025-07-21T07:36:21.897183",
     "status": "completed"
    },
    "tags": []
   },
   "outputs": [
    {
     "data": {
      "text/plain": [
       "{'coverage': 0.9118938802809051, 'avg_size': 1.2021959647753873}"
      ]
     },
     "execution_count": 40,
     "metadata": {},
     "output_type": "execute_result"
    }
   ],
   "source": [
    "metrics"
   ]
  },
  {
   "cell_type": "code",
   "execution_count": 41,
   "id": "9b9a838d-31c9-430b-ae14-12baee460d17",
   "metadata": {
    "execution": {
     "iopub.execute_input": "2025-07-21T07:36:21.951083Z",
     "iopub.status.busy": "2025-07-21T07:36:21.950777Z",
     "iopub.status.idle": "2025-07-21T07:36:21.955081Z",
     "shell.execute_reply": "2025-07-21T07:36:21.954302Z"
    },
    "papermill": {
     "duration": 0.023814,
     "end_time": "2025-07-21T07:36:21.956657",
     "exception": false,
     "start_time": "2025-07-21T07:36:21.932843",
     "status": "completed"
    },
    "tags": []
   },
   "outputs": [],
   "source": [
    "example_universe = universe.copy()\n",
    "universe_model = example_universe.get(\"model\")\n",
    "universe_exclude_features = example_universe.get(\"exclude_features\")\n",
    "universe_exclude_subgroups = example_universe.get(\"exclude_subgroups\")"
   ]
  },
  {
   "cell_type": "code",
   "execution_count": 42,
   "id": "f4b6a8ac-9dc0-4245-8a91-5b3b5999c4f9",
   "metadata": {
    "execution": {
     "iopub.execute_input": "2025-07-21T07:36:21.996469Z",
     "iopub.status.busy": "2025-07-21T07:36:21.996050Z",
     "iopub.status.idle": "2025-07-21T07:36:22.002016Z",
     "shell.execute_reply": "2025-07-21T07:36:22.001044Z"
    },
    "papermill": {
     "duration": 0.029438,
     "end_time": "2025-07-21T07:36:22.003743",
     "exception": false,
     "start_time": "2025-07-21T07:36:21.974305",
     "status": "completed"
    },
    "tags": []
   },
   "outputs": [],
   "source": [
    "cp_metrics_dict = {\n",
    "    \"universe_id\": [universe_id],\n",
    "    \"universe_model\": [universe_model],\n",
    "    \"universe_exclude_features\": [universe_exclude_features],\n",
    "    \"universe_exclude_subgroups\": [universe_exclude_subgroups],\n",
    "    \"q_hat\": [q_hat],\n",
    "    \"coverage\": [metrics[\"coverage\"]],\n",
    "    \"avg_size\": [metrics[\"avg_size\"]],\n",
    "}"
   ]
  },
  {
   "cell_type": "code",
   "execution_count": 43,
   "id": "908acbb1-0371-4915-85ca-3fa520d2efe2",
   "metadata": {
    "execution": {
     "iopub.execute_input": "2025-07-21T07:36:22.044882Z",
     "iopub.status.busy": "2025-07-21T07:36:22.044354Z",
     "iopub.status.idle": "2025-07-21T07:36:22.051179Z",
     "shell.execute_reply": "2025-07-21T07:36:22.050173Z"
    },
    "papermill": {
     "duration": 0.029659,
     "end_time": "2025-07-21T07:36:22.053026",
     "exception": false,
     "start_time": "2025-07-21T07:36:22.023367",
     "status": "completed"
    },
    "tags": []
   },
   "outputs": [
    {
     "data": {
      "text/plain": [
       "{'universe_id': ['12a5fec09c1184e64c2b9398314839d5'],\n",
       " 'universe_model': ['logreg'],\n",
       " 'universe_exclude_features': ['sex'],\n",
       " 'universe_exclude_subgroups': ['keep-all'],\n",
       " 'q_hat': [0.6761277050096451],\n",
       " 'coverage': [0.9118938802809051],\n",
       " 'avg_size': [1.2021959647753873]}"
      ]
     },
     "execution_count": 43,
     "metadata": {},
     "output_type": "execute_result"
    }
   ],
   "source": [
    "cp_metrics_dict"
   ]
  },
  {
   "cell_type": "code",
   "execution_count": 44,
   "id": "33007efc-14e9-4ec6-97ac-56a455c82265",
   "metadata": {
    "execution": {
     "iopub.execute_input": "2025-07-21T07:36:22.098294Z",
     "iopub.status.busy": "2025-07-21T07:36:22.097801Z",
     "iopub.status.idle": "2025-07-21T07:36:22.104005Z",
     "shell.execute_reply": "2025-07-21T07:36:22.102997Z"
    },
    "papermill": {
     "duration": 0.030883,
     "end_time": "2025-07-21T07:36:22.106052",
     "exception": false,
     "start_time": "2025-07-21T07:36:22.075169",
     "status": "completed"
    },
    "tags": []
   },
   "outputs": [],
   "source": [
    "cp_metrics_df = pd.DataFrame(cp_metrics_dict)"
   ]
  },
  {
   "cell_type": "code",
   "execution_count": 45,
   "id": "db12611b-57b2-4910-b9d0-355adfd6e7bf",
   "metadata": {
    "execution": {
     "iopub.execute_input": "2025-07-21T07:36:22.151882Z",
     "iopub.status.busy": "2025-07-21T07:36:22.151359Z",
     "iopub.status.idle": "2025-07-21T07:36:22.169341Z",
     "shell.execute_reply": "2025-07-21T07:36:22.168284Z"
    },
    "papermill": {
     "duration": 0.042847,
     "end_time": "2025-07-21T07:36:22.171319",
     "exception": false,
     "start_time": "2025-07-21T07:36:22.128472",
     "status": "completed"
    },
    "tags": []
   },
   "outputs": [
    {
     "data": {
      "text/html": [
       "<div>\n",
       "<style scoped>\n",
       "    .dataframe tbody tr th:only-of-type {\n",
       "        vertical-align: middle;\n",
       "    }\n",
       "\n",
       "    .dataframe tbody tr th {\n",
       "        vertical-align: top;\n",
       "    }\n",
       "\n",
       "    .dataframe thead th {\n",
       "        text-align: right;\n",
       "    }\n",
       "</style>\n",
       "<table border=\"1\" class=\"dataframe\">\n",
       "  <thead>\n",
       "    <tr style=\"text-align: right;\">\n",
       "      <th></th>\n",
       "      <th>universe_id</th>\n",
       "      <th>universe_model</th>\n",
       "      <th>universe_exclude_features</th>\n",
       "      <th>universe_exclude_subgroups</th>\n",
       "      <th>q_hat</th>\n",
       "      <th>coverage</th>\n",
       "      <th>avg_size</th>\n",
       "    </tr>\n",
       "  </thead>\n",
       "  <tbody>\n",
       "    <tr>\n",
       "      <th>0</th>\n",
       "      <td>12a5fec09c1184e64c2b9398314839d5</td>\n",
       "      <td>logreg</td>\n",
       "      <td>sex</td>\n",
       "      <td>keep-all</td>\n",
       "      <td>0.676128</td>\n",
       "      <td>0.911894</td>\n",
       "      <td>1.202196</td>\n",
       "    </tr>\n",
       "  </tbody>\n",
       "</table>\n",
       "</div>"
      ],
      "text/plain": [
       "                        universe_id universe_model universe_exclude_features  \\\n",
       "0  12a5fec09c1184e64c2b9398314839d5         logreg                       sex   \n",
       "\n",
       "  universe_exclude_subgroups     q_hat  coverage  avg_size  \n",
       "0                   keep-all  0.676128  0.911894  1.202196  "
      ]
     },
     "execution_count": 45,
     "metadata": {},
     "output_type": "execute_result"
    }
   ],
   "source": [
    "cp_metrics_df"
   ]
  },
  {
   "cell_type": "code",
   "execution_count": 46,
   "id": "b7fbde55-a0a1-47e4-9af6-fe4a17fa8c61",
   "metadata": {
    "execution": {
     "iopub.execute_input": "2025-07-21T07:36:22.217187Z",
     "iopub.status.busy": "2025-07-21T07:36:22.216581Z",
     "iopub.status.idle": "2025-07-21T07:36:22.221875Z",
     "shell.execute_reply": "2025-07-21T07:36:22.220233Z"
    },
    "papermill": {
     "duration": 0.02966,
     "end_time": "2025-07-21T07:36:22.223256",
     "exception": false,
     "start_time": "2025-07-21T07:36:22.193596",
     "status": "completed"
    },
    "tags": []
   },
   "outputs": [],
   "source": [
    "# Conditional Coverage & looking at subgroups"
   ]
  },
  {
   "cell_type": "code",
   "execution_count": 47,
   "id": "027ae886-68dd-4141-96c7-805a5450e1ef",
   "metadata": {
    "execution": {
     "iopub.execute_input": "2025-07-21T07:36:22.245915Z",
     "iopub.status.busy": "2025-07-21T07:36:22.245696Z",
     "iopub.status.idle": "2025-07-21T07:36:22.422672Z",
     "shell.execute_reply": "2025-07-21T07:36:22.421806Z"
    },
    "papermill": {
     "duration": 0.189871,
     "end_time": "2025-07-21T07:36:22.424306",
     "exception": false,
     "start_time": "2025-07-21T07:36:22.234435",
     "status": "completed"
    },
    "tags": []
   },
   "outputs": [],
   "source": [
    "from fairness_multiverse.conformal import build_cp_groups\n",
    "\n",
    "cp_groups_df = build_cp_groups(pred_sets, y_true, X_test.index, org_test)\n",
    "#needs universe_id and setting"
   ]
  },
  {
   "cell_type": "code",
   "execution_count": 48,
   "id": "c3b92545-903e-4839-89af-0f057907d7d6",
   "metadata": {
    "execution": {
     "iopub.execute_input": "2025-07-21T07:36:22.472269Z",
     "iopub.status.busy": "2025-07-21T07:36:22.471532Z",
     "iopub.status.idle": "2025-07-21T07:36:23.832904Z",
     "shell.execute_reply": "2025-07-21T07:36:23.831852Z"
    },
    "papermill": {
     "duration": 1.387153,
     "end_time": "2025-07-21T07:36:23.834931",
     "exception": false,
     "start_time": "2025-07-21T07:36:22.447778",
     "status": "completed"
    },
    "tags": []
   },
   "outputs": [],
   "source": [
    "# Define covered = 1 if true_label is in the predicted set\n",
    "cp_groups_df['covered'] = cp_groups_df.apply(\n",
    "    lambda r: int(r['true_label'] in r['pred_set']),\n",
    "    axis=1\n",
    ")"
   ]
  },
  {
   "cell_type": "code",
   "execution_count": 49,
   "id": "338ff529-1a6b-4b87-a931-8e4788d52aad",
   "metadata": {
    "execution": {
     "iopub.execute_input": "2025-07-21T07:36:23.871750Z",
     "iopub.status.busy": "2025-07-21T07:36:23.871427Z",
     "iopub.status.idle": "2025-07-21T07:36:23.875449Z",
     "shell.execute_reply": "2025-07-21T07:36:23.874570Z"
    },
    "papermill": {
     "duration": 0.019033,
     "end_time": "2025-07-21T07:36:23.876515",
     "exception": false,
     "start_time": "2025-07-21T07:36:23.857482",
     "status": "completed"
    },
    "tags": []
   },
   "outputs": [],
   "source": [
    "#cp_groups_df"
   ]
  },
  {
   "cell_type": "code",
   "execution_count": 50,
   "id": "90032e27-66df-4540-9169-4e89cfbaa758",
   "metadata": {
    "execution": {
     "iopub.execute_input": "2025-07-21T07:36:23.903743Z",
     "iopub.status.busy": "2025-07-21T07:36:23.903458Z",
     "iopub.status.idle": "2025-07-21T07:36:23.912042Z",
     "shell.execute_reply": "2025-07-21T07:36:23.911234Z"
    },
    "papermill": {
     "duration": 0.021233,
     "end_time": "2025-07-21T07:36:23.913378",
     "exception": false,
     "start_time": "2025-07-21T07:36:23.892145",
     "status": "completed"
    },
    "tags": []
   },
   "outputs": [],
   "source": [
    "subgroups = ['frau1','nongerman','nongerman_male','nongerman_female']\n",
    "\n",
    "# Conditional coverage for subgroup==1\n",
    "cond_coverage = {\n",
    "    g: cp_groups_df.loc[cp_groups_df[g]==1, 'covered'].mean()\n",
    "    for g in subgroups\n",
    "}"
   ]
  },
  {
   "cell_type": "code",
   "execution_count": 51,
   "id": "1e348fb1-b9c3-45bc-ba23-f016827a7e0d",
   "metadata": {
    "execution": {
     "iopub.execute_input": "2025-07-21T07:36:23.946156Z",
     "iopub.status.busy": "2025-07-21T07:36:23.945293Z",
     "iopub.status.idle": "2025-07-21T07:36:23.952277Z",
     "shell.execute_reply": "2025-07-21T07:36:23.951615Z"
    },
    "papermill": {
     "duration": 0.023045,
     "end_time": "2025-07-21T07:36:23.953961",
     "exception": false,
     "start_time": "2025-07-21T07:36:23.930916",
     "status": "completed"
    },
    "tags": []
   },
   "outputs": [
    {
     "data": {
      "text/plain": [
       "{'frau1': 0.911928831378892,\n",
       " 'nongerman': 0.9315668332116993,\n",
       " 'nongerman_male': 0.9437989732504728,\n",
       " 'nongerman_female': 0.9113263785394933}"
      ]
     },
     "execution_count": 51,
     "metadata": {},
     "output_type": "execute_result"
    }
   ],
   "source": [
    "cond_coverage"
   ]
  },
  {
   "cell_type": "code",
   "execution_count": 52,
   "id": "f5093324-c3dd-4d63-bc4c-8d945e5c8bbb",
   "metadata": {
    "execution": {
     "iopub.execute_input": "2025-07-21T07:36:24.000702Z",
     "iopub.status.busy": "2025-07-21T07:36:23.999897Z",
     "iopub.status.idle": "2025-07-21T07:36:24.007661Z",
     "shell.execute_reply": "2025-07-21T07:36:24.006685Z"
    },
    "papermill": {
     "duration": 0.032346,
     "end_time": "2025-07-21T07:36:24.009317",
     "exception": false,
     "start_time": "2025-07-21T07:36:23.976971",
     "status": "completed"
    },
    "tags": []
   },
   "outputs": [],
   "source": [
    "for subgroup, cov in cond_coverage.items():\n",
    "    cp_metrics_df[f\"cov_{subgroup}\"] = cov"
   ]
  },
  {
   "cell_type": "code",
   "execution_count": 53,
   "id": "6e872e10-dbe5-49e8-b554-5030c98ff75d",
   "metadata": {
    "execution": {
     "iopub.execute_input": "2025-07-21T07:36:24.058971Z",
     "iopub.status.busy": "2025-07-21T07:36:24.058443Z",
     "iopub.status.idle": "2025-07-21T07:36:24.076569Z",
     "shell.execute_reply": "2025-07-21T07:36:24.075667Z"
    },
    "papermill": {
     "duration": 0.044791,
     "end_time": "2025-07-21T07:36:24.078563",
     "exception": false,
     "start_time": "2025-07-21T07:36:24.033772",
     "status": "completed"
    },
    "tags": []
   },
   "outputs": [
    {
     "data": {
      "text/html": [
       "<div>\n",
       "<style scoped>\n",
       "    .dataframe tbody tr th:only-of-type {\n",
       "        vertical-align: middle;\n",
       "    }\n",
       "\n",
       "    .dataframe tbody tr th {\n",
       "        vertical-align: top;\n",
       "    }\n",
       "\n",
       "    .dataframe thead th {\n",
       "        text-align: right;\n",
       "    }\n",
       "</style>\n",
       "<table border=\"1\" class=\"dataframe\">\n",
       "  <thead>\n",
       "    <tr style=\"text-align: right;\">\n",
       "      <th></th>\n",
       "      <th>universe_id</th>\n",
       "      <th>universe_model</th>\n",
       "      <th>universe_exclude_features</th>\n",
       "      <th>universe_exclude_subgroups</th>\n",
       "      <th>q_hat</th>\n",
       "      <th>coverage</th>\n",
       "      <th>avg_size</th>\n",
       "      <th>cov_frau1</th>\n",
       "      <th>cov_nongerman</th>\n",
       "      <th>cov_nongerman_male</th>\n",
       "      <th>cov_nongerman_female</th>\n",
       "    </tr>\n",
       "  </thead>\n",
       "  <tbody>\n",
       "    <tr>\n",
       "      <th>0</th>\n",
       "      <td>12a5fec09c1184e64c2b9398314839d5</td>\n",
       "      <td>logreg</td>\n",
       "      <td>sex</td>\n",
       "      <td>keep-all</td>\n",
       "      <td>0.676128</td>\n",
       "      <td>0.911894</td>\n",
       "      <td>1.202196</td>\n",
       "      <td>0.911929</td>\n",
       "      <td>0.931567</td>\n",
       "      <td>0.943799</td>\n",
       "      <td>0.911326</td>\n",
       "    </tr>\n",
       "  </tbody>\n",
       "</table>\n",
       "</div>"
      ],
      "text/plain": [
       "                        universe_id universe_model universe_exclude_features  \\\n",
       "0  12a5fec09c1184e64c2b9398314839d5         logreg                       sex   \n",
       "\n",
       "  universe_exclude_subgroups     q_hat  coverage  avg_size  cov_frau1  \\\n",
       "0                   keep-all  0.676128  0.911894  1.202196   0.911929   \n",
       "\n",
       "   cov_nongerman  cov_nongerman_male  cov_nongerman_female  \n",
       "0       0.931567            0.943799              0.911326  "
      ]
     },
     "execution_count": 53,
     "metadata": {},
     "output_type": "execute_result"
    }
   ],
   "source": [
    "cp_metrics_df"
   ]
  },
  {
   "cell_type": "markdown",
   "id": "33774451",
   "metadata": {
    "papermill": {
     "duration": 0.022789,
     "end_time": "2025-07-21T07:36:24.125737",
     "exception": false,
     "start_time": "2025-07-21T07:36:24.102948",
     "status": "completed"
    },
    "tags": []
   },
   "source": [
    "# (Fairness) Metrics"
   ]
  },
  {
   "cell_type": "code",
   "execution_count": 54,
   "id": "debc5d62",
   "metadata": {
    "execution": {
     "iopub.execute_input": "2025-07-21T07:36:24.173954Z",
     "iopub.status.busy": "2025-07-21T07:36:24.172968Z",
     "iopub.status.idle": "2025-07-21T07:36:24.196360Z",
     "shell.execute_reply": "2025-07-21T07:36:24.195328Z"
    },
    "papermill": {
     "duration": 0.056753,
     "end_time": "2025-07-21T07:36:24.206119",
     "exception": false,
     "start_time": "2025-07-21T07:36:24.149366",
     "status": "completed"
    },
    "tags": []
   },
   "outputs": [],
   "source": [
    "# do I need to include maxdeutsch1.missing?\n",
    "\n",
    "import numpy as np\n",
    "\n",
    "colname_to_bin = \"maxdeutsch1\"\n",
    "majority_value = org_train[colname_to_bin].mode()[0]\n",
    "\n",
    "org_test[\"majmin\"] = np.where(org_test[colname_to_bin] == majority_value, \"majority\", \"minority\")"
   ]
  },
  {
   "cell_type": "code",
   "execution_count": 55,
   "id": "06a50de5",
   "metadata": {
    "execution": {
     "iopub.execute_input": "2025-07-21T07:36:24.262743Z",
     "iopub.status.busy": "2025-07-21T07:36:24.262213Z",
     "iopub.status.idle": "2025-07-21T07:36:26.180572Z",
     "shell.execute_reply": "2025-07-21T07:36:26.179282Z"
    },
    "papermill": {
     "duration": 1.947811,
     "end_time": "2025-07-21T07:36:26.182750",
     "exception": false,
     "start_time": "2025-07-21T07:36:24.234939",
     "status": "completed"
    },
    "tags": []
   },
   "outputs": [],
   "source": [
    "example_universe = universe.copy()\n",
    "example_universe[\"cutoff\"] = example_universe[\"cutoff\"][0]\n",
    "example_universe[\"eval_fairness_grouping\"] = example_universe[\"eval_fairness_grouping\"][0]\n",
    "fairness_dict, metric_frame = universe_analysis.compute_metrics(\n",
    "    example_universe,\n",
    "    y_pred_prob=probs_test,\n",
    "    y_test=y_true,\n",
    "    org_test=org_test,\n",
    ")"
   ]
  },
  {
   "cell_type": "markdown",
   "id": "f95d4e02",
   "metadata": {
    "papermill": {
     "duration": 0.010705,
     "end_time": "2025-07-21T07:36:26.207112",
     "exception": false,
     "start_time": "2025-07-21T07:36:26.196407",
     "status": "completed"
    },
    "tags": []
   },
   "source": [
    "# Overall"
   ]
  },
  {
   "cell_type": "markdown",
   "id": "bdee4871",
   "metadata": {
    "papermill": {
     "duration": 0.018475,
     "end_time": "2025-07-21T07:36:26.236780",
     "exception": false,
     "start_time": "2025-07-21T07:36:26.218305",
     "status": "completed"
    },
    "tags": []
   },
   "source": [
    "Fairness\n",
    "Main fairness target: Equalized Odds. Seems to be a better fit than equal opportunity, since we're not only interested in Y = 1. Seems to be a better fit than demographic parity, since we also care about accuracy, not just equal distribution of preds.\n",
    "\n",
    "Pick column for computation of fairness metrics\n",
    "\n",
    "Performance\n",
    "Overall performance measures, most interesting in relation to the measures split by group below"
   ]
  },
  {
   "cell_type": "code",
   "execution_count": 56,
   "id": "c4e067c6",
   "metadata": {
    "execution": {
     "iopub.execute_input": "2025-07-21T07:36:26.262562Z",
     "iopub.status.busy": "2025-07-21T07:36:26.262136Z",
     "iopub.status.idle": "2025-07-21T07:36:26.271544Z",
     "shell.execute_reply": "2025-07-21T07:36:26.270492Z"
    },
    "papermill": {
     "duration": 0.027292,
     "end_time": "2025-07-21T07:36:26.276004",
     "exception": false,
     "start_time": "2025-07-21T07:36:26.248712",
     "status": "completed"
    },
    "tags": []
   },
   "outputs": [
    {
     "data": {
      "text/plain": [
       "accuracy                   0.217222\n",
       "balanced accuracy          0.532636\n",
       "f1                         0.238750\n",
       "precision                  0.136390\n",
       "false positive rate        0.891627\n",
       "false negative rate        0.043100\n",
       "selection rate             0.900000\n",
       "count                  89710.000000\n",
       "dtype: float64"
      ]
     },
     "execution_count": 56,
     "metadata": {},
     "output_type": "execute_result"
    }
   ],
   "source": [
    "metric_frame.overall"
   ]
  },
  {
   "cell_type": "markdown",
   "id": "e968fe9d",
   "metadata": {
    "papermill": {
     "duration": 0.023197,
     "end_time": "2025-07-21T07:36:26.327157",
     "exception": false,
     "start_time": "2025-07-21T07:36:26.303960",
     "status": "completed"
    },
    "tags": []
   },
   "source": [
    "By Group"
   ]
  },
  {
   "cell_type": "code",
   "execution_count": 57,
   "id": "ec325bce",
   "metadata": {
    "execution": {
     "iopub.execute_input": "2025-07-21T07:36:26.364017Z",
     "iopub.status.busy": "2025-07-21T07:36:26.363359Z",
     "iopub.status.idle": "2025-07-21T07:36:26.376718Z",
     "shell.execute_reply": "2025-07-21T07:36:26.375832Z"
    },
    "papermill": {
     "duration": 0.029571,
     "end_time": "2025-07-21T07:36:26.378015",
     "exception": false,
     "start_time": "2025-07-21T07:36:26.348444",
     "status": "completed"
    },
    "tags": []
   },
   "outputs": [
    {
     "data": {
      "text/html": [
       "<div>\n",
       "<style scoped>\n",
       "    .dataframe tbody tr th:only-of-type {\n",
       "        vertical-align: middle;\n",
       "    }\n",
       "\n",
       "    .dataframe tbody tr th {\n",
       "        vertical-align: top;\n",
       "    }\n",
       "\n",
       "    .dataframe thead th {\n",
       "        text-align: right;\n",
       "    }\n",
       "</style>\n",
       "<table border=\"1\" class=\"dataframe\">\n",
       "  <thead>\n",
       "    <tr style=\"text-align: right;\">\n",
       "      <th></th>\n",
       "      <th>accuracy</th>\n",
       "      <th>balanced accuracy</th>\n",
       "      <th>f1</th>\n",
       "      <th>precision</th>\n",
       "      <th>false positive rate</th>\n",
       "      <th>false negative rate</th>\n",
       "      <th>selection rate</th>\n",
       "      <th>count</th>\n",
       "    </tr>\n",
       "    <tr>\n",
       "      <th>majmin</th>\n",
       "      <th></th>\n",
       "      <th></th>\n",
       "      <th></th>\n",
       "      <th></th>\n",
       "      <th></th>\n",
       "      <th></th>\n",
       "      <th></th>\n",
       "      <th></th>\n",
       "    </tr>\n",
       "  </thead>\n",
       "  <tbody>\n",
       "    <tr>\n",
       "      <th>majority</th>\n",
       "      <td>0.238919</td>\n",
       "      <td>0.540140</td>\n",
       "      <td>0.247964</td>\n",
       "      <td>0.142601</td>\n",
       "      <td>0.869282</td>\n",
       "      <td>0.050438</td>\n",
       "      <td>0.879890</td>\n",
       "      <td>69170.0</td>\n",
       "    </tr>\n",
       "    <tr>\n",
       "      <th>minority</th>\n",
       "      <td>0.144158</td>\n",
       "      <td>0.509889</td>\n",
       "      <td>0.209755</td>\n",
       "      <td>0.117372</td>\n",
       "      <td>0.965441</td>\n",
       "      <td>0.014780</td>\n",
       "      <td>0.967722</td>\n",
       "      <td>20540.0</td>\n",
       "    </tr>\n",
       "  </tbody>\n",
       "</table>\n",
       "</div>"
      ],
      "text/plain": [
       "          accuracy  balanced accuracy        f1  precision  \\\n",
       "majmin                                                       \n",
       "majority  0.238919           0.540140  0.247964   0.142601   \n",
       "minority  0.144158           0.509889  0.209755   0.117372   \n",
       "\n",
       "          false positive rate  false negative rate  selection rate    count  \n",
       "majmin                                                                       \n",
       "majority             0.869282             0.050438        0.879890  69170.0  \n",
       "minority             0.965441             0.014780        0.967722  20540.0  "
      ]
     },
     "execution_count": 57,
     "metadata": {},
     "output_type": "execute_result"
    }
   ],
   "source": [
    "metric_frame.by_group"
   ]
  },
  {
   "cell_type": "code",
   "execution_count": 58,
   "id": "a9ddbe63",
   "metadata": {
    "execution": {
     "iopub.execute_input": "2025-07-21T07:36:26.413859Z",
     "iopub.status.busy": "2025-07-21T07:36:26.413448Z",
     "iopub.status.idle": "2025-07-21T07:36:28.881132Z",
     "shell.execute_reply": "2025-07-21T07:36:28.879893Z"
    },
    "papermill": {
     "duration": 2.493248,
     "end_time": "2025-07-21T07:36:28.883222",
     "exception": false,
     "start_time": "2025-07-21T07:36:26.389974",
     "status": "completed"
    },
    "tags": []
   },
   "outputs": [
    {
     "data": {
      "text/plain": [
       "array([[<Axes: title={'center': 'accuracy'}, xlabel='majmin'>,\n",
       "        <Axes: title={'center': 'balanced accuracy'}, xlabel='majmin'>,\n",
       "        <Axes: title={'center': 'f1'}, xlabel='majmin'>],\n",
       "       [<Axes: title={'center': 'precision'}, xlabel='majmin'>,\n",
       "        <Axes: title={'center': 'false positive rate'}, xlabel='majmin'>,\n",
       "        <Axes: title={'center': 'false negative rate'}, xlabel='majmin'>],\n",
       "       [<Axes: title={'center': 'selection rate'}, xlabel='majmin'>,\n",
       "        <Axes: title={'center': 'count'}, xlabel='majmin'>,\n",
       "        <Axes: xlabel='majmin'>]], dtype=object)"
      ]
     },
     "execution_count": 58,
     "metadata": {},
     "output_type": "execute_result"
    },
    {
     "data": {
      "image/png": "[encoded data removed]",
      "text/plain": [
       "<Figure size 1200x800 with 9 Axes>"
      ]
     },
     "metadata": {},
     "output_type": "display_data"
    }
   ],
   "source": [
    "# In a graphic\n",
    "metric_frame.by_group.plot.bar(\n",
    "    subplots=True,\n",
    "    layout=[3, 3],\n",
    "    legend=False,\n",
    "    figsize=[12, 8],\n",
    "    title=\"Show all metrics\",\n",
    ")"
   ]
  },
  {
   "cell_type": "markdown",
   "id": "f57a0bac",
   "metadata": {
    "papermill": {
     "duration": 0.027007,
     "end_time": "2025-07-21T07:36:28.939223",
     "exception": false,
     "start_time": "2025-07-21T07:36:28.912216",
     "status": "completed"
    },
    "tags": []
   },
   "source": [
    "# Final Output"
   ]
  },
  {
   "cell_type": "code",
   "execution_count": 59,
   "id": "96d280a3",
   "metadata": {
    "execution": {
     "iopub.execute_input": "2025-07-21T07:36:28.997598Z",
     "iopub.status.busy": "2025-07-21T07:36:28.996869Z",
     "iopub.status.idle": "2025-07-21T07:36:29.005985Z",
     "shell.execute_reply": "2025-07-21T07:36:29.004952Z"
    },
    "papermill": {
     "duration": 0.04044,
     "end_time": "2025-07-21T07:36:29.007773",
     "exception": false,
     "start_time": "2025-07-21T07:36:28.967333",
     "status": "completed"
    },
    "tags": []
   },
   "outputs": [
    {
     "data": {
      "text/plain": [
       "4"
      ]
     },
     "execution_count": 59,
     "metadata": {},
     "output_type": "execute_result"
    }
   ],
   "source": [
    "sub_universes = universe_analysis.generate_sub_universes()\n",
    "len(sub_universes)"
   ]
  },
  {
   "cell_type": "code",
   "execution_count": 60,
   "id": "92adf7ba",
   "metadata": {
    "execution": {
     "iopub.execute_input": "2025-07-21T07:36:29.064367Z",
     "iopub.status.busy": "2025-07-21T07:36:29.063462Z",
     "iopub.status.idle": "2025-07-21T07:36:29.070842Z",
     "shell.execute_reply": "2025-07-21T07:36:29.069693Z"
    },
    "papermill": {
     "duration": 0.037901,
     "end_time": "2025-07-21T07:36:29.072832",
     "exception": false,
     "start_time": "2025-07-21T07:36:29.034931",
     "status": "completed"
    },
    "tags": []
   },
   "outputs": [],
   "source": [
    "def filter_sub_universe_data(sub_universe, org_test):\n",
    "    # Keep all rows — no filtering\n",
    "    keep_rows_mask = np.ones(org_test.shape[0], dtype=bool)\n",
    "\n",
    "    print(f\"[INFO] Keeping all rows: {keep_rows_mask.sum()} rows retained.\")\n",
    "    return keep_rows_mask"
   ]
  },
  {
   "cell_type": "code",
   "execution_count": 61,
   "id": "4a759155",
   "metadata": {
    "execution": {
     "iopub.execute_input": "2025-07-21T07:36:29.128582Z",
     "iopub.status.busy": "2025-07-21T07:36:29.127775Z",
     "iopub.status.idle": "2025-07-21T07:36:35.963949Z",
     "shell.execute_reply": "2025-07-21T07:36:35.963063Z"
    },
    "papermill": {
     "duration": 6.864886,
     "end_time": "2025-07-21T07:36:35.965324",
     "exception": false,
     "start_time": "2025-07-21T07:36:29.100438",
     "status": "completed"
    },
    "tags": []
   },
   "outputs": [
    {
     "name": "stdout",
     "output_type": "stream",
     "text": [
      "Stopping execution_time clock.\n",
      "[INFO] Keeping all rows: 89710 rows retained.\n"
     ]
    },
    {
     "name": "stdout",
     "output_type": "stream",
     "text": [
      "[INFO] Keeping all rows: 89710 rows retained.\n"
     ]
    },
    {
     "name": "stdout",
     "output_type": "stream",
     "text": [
      "[INFO] Keeping all rows: 89710 rows retained.\n"
     ]
    },
    {
     "name": "stdout",
     "output_type": "stream",
     "text": [
      "[INFO] Keeping all rows: 89710 rows retained.\n"
     ]
    },
    {
     "data": {
      "text/html": [
       "<div>\n",
       "<style scoped>\n",
       "    .dataframe tbody tr th:only-of-type {\n",
       "        vertical-align: middle;\n",
       "    }\n",
       "\n",
       "    .dataframe tbody tr th {\n",
       "        vertical-align: top;\n",
       "    }\n",
       "\n",
       "    .dataframe thead th {\n",
       "        text-align: right;\n",
       "    }\n",
       "</style>\n",
       "<table border=\"1\" class=\"dataframe\">\n",
       "  <thead>\n",
       "    <tr style=\"text-align: right;\">\n",
       "      <th></th>\n",
       "      <th>run_no</th>\n",
       "      <th>universe_id</th>\n",
       "      <th>universe_settings</th>\n",
       "      <th>execution_time</th>\n",
       "      <th>test_size_n</th>\n",
       "      <th>test_size_frac</th>\n",
       "      <th>fair_main_equalized_odds_difference</th>\n",
       "      <th>fair_main_equalized_odds_ratio</th>\n",
       "      <th>fair_main_demographic_parity_difference</th>\n",
       "      <th>fair_main_demographic_parity_ratio</th>\n",
       "      <th>...</th>\n",
       "      <th>perf_grp_precision_0</th>\n",
       "      <th>perf_grp_precision_1</th>\n",
       "      <th>perf_grp_false positive rate_0</th>\n",
       "      <th>perf_grp_false positive rate_1</th>\n",
       "      <th>perf_grp_false negative rate_0</th>\n",
       "      <th>perf_grp_false negative rate_1</th>\n",
       "      <th>perf_grp_selection rate_0</th>\n",
       "      <th>perf_grp_selection rate_1</th>\n",
       "      <th>perf_grp_count_0</th>\n",
       "      <th>perf_grp_count_1</th>\n",
       "    </tr>\n",
       "  </thead>\n",
       "  <tbody>\n",
       "    <tr>\n",
       "      <th>0</th>\n",
       "      <td>2</td>\n",
       "      <td>12a5fec09c1184e64c2b9398314839d5</td>\n",
       "      <td>{\"cutoff\": \"quantile_0.1\", \"eval_fairness_grou...</td>\n",
       "      <td>28.815993</td>\n",
       "      <td>89710</td>\n",
       "      <td>1.0</td>\n",
       "      <td>0.096159</td>\n",
       "      <td>0.900399</td>\n",
       "      <td>0.087831</td>\n",
       "      <td>0.909239</td>\n",
       "      <td>...</td>\n",
       "      <td>NaN</td>\n",
       "      <td>NaN</td>\n",
       "      <td>NaN</td>\n",
       "      <td>NaN</td>\n",
       "      <td>NaN</td>\n",
       "      <td>NaN</td>\n",
       "      <td>NaN</td>\n",
       "      <td>NaN</td>\n",
       "      <td>NaN</td>\n",
       "      <td>NaN</td>\n",
       "    </tr>\n",
       "    <tr>\n",
       "      <th>0</th>\n",
       "      <td>2</td>\n",
       "      <td>12a5fec09c1184e64c2b9398314839d5</td>\n",
       "      <td>{\"cutoff\": \"quantile_0.1\", \"eval_fairness_grou...</td>\n",
       "      <td>28.815993</td>\n",
       "      <td>89710</td>\n",
       "      <td>1.0</td>\n",
       "      <td>0.096159</td>\n",
       "      <td>0.900399</td>\n",
       "      <td>0.087831</td>\n",
       "      <td>0.909239</td>\n",
       "      <td>...</td>\n",
       "      <td>0.117372</td>\n",
       "      <td>0.142601</td>\n",
       "      <td>0.965441</td>\n",
       "      <td>0.869282</td>\n",
       "      <td>0.01478</td>\n",
       "      <td>0.050438</td>\n",
       "      <td>0.967722</td>\n",
       "      <td>0.879890</td>\n",
       "      <td>20540.0</td>\n",
       "      <td>69170.0</td>\n",
       "    </tr>\n",
       "    <tr>\n",
       "      <th>0</th>\n",
       "      <td>2</td>\n",
       "      <td>12a5fec09c1184e64c2b9398314839d5</td>\n",
       "      <td>{\"cutoff\": \"quantile_0.25\", \"eval_fairness_gro...</td>\n",
       "      <td>28.815993</td>\n",
       "      <td>89710</td>\n",
       "      <td>1.0</td>\n",
       "      <td>0.214935</td>\n",
       "      <td>0.759924</td>\n",
       "      <td>0.197202</td>\n",
       "      <td>0.781384</td>\n",
       "      <td>...</td>\n",
       "      <td>NaN</td>\n",
       "      <td>NaN</td>\n",
       "      <td>NaN</td>\n",
       "      <td>NaN</td>\n",
       "      <td>NaN</td>\n",
       "      <td>NaN</td>\n",
       "      <td>NaN</td>\n",
       "      <td>NaN</td>\n",
       "      <td>NaN</td>\n",
       "      <td>NaN</td>\n",
       "    </tr>\n",
       "    <tr>\n",
       "      <th>0</th>\n",
       "      <td>2</td>\n",
       "      <td>12a5fec09c1184e64c2b9398314839d5</td>\n",
       "      <td>{\"cutoff\": \"quantile_0.25\", \"eval_fairness_gro...</td>\n",
       "      <td>28.815993</td>\n",
       "      <td>89710</td>\n",
       "      <td>1.0</td>\n",
       "      <td>0.214935</td>\n",
       "      <td>0.759924</td>\n",
       "      <td>0.197202</td>\n",
       "      <td>0.781384</td>\n",
       "      <td>...</td>\n",
       "      <td>0.121924</td>\n",
       "      <td>0.162305</td>\n",
       "      <td>0.895278</td>\n",
       "      <td>0.680343</td>\n",
       "      <td>0.04603</td>\n",
       "      <td>0.134245</td>\n",
       "      <td>0.902045</td>\n",
       "      <td>0.704843</td>\n",
       "      <td>20540.0</td>\n",
       "      <td>69170.0</td>\n",
       "    </tr>\n",
       "  </tbody>\n",
       "</table>\n",
       "<p>4 rows × 50 columns</p>\n",
       "</div>"
      ],
      "text/plain": [
       "  run_no                       universe_id  \\\n",
       "0      2  12a5fec09c1184e64c2b9398314839d5   \n",
       "0      2  12a5fec09c1184e64c2b9398314839d5   \n",
       "0      2  12a5fec09c1184e64c2b9398314839d5   \n",
       "0      2  12a5fec09c1184e64c2b9398314839d5   \n",
       "\n",
       "                                   universe_settings  execution_time  \\\n",
       "0  {\"cutoff\": \"quantile_0.1\", \"eval_fairness_grou...       28.815993   \n",
       "0  {\"cutoff\": \"quantile_0.1\", \"eval_fairness_grou...       28.815993   \n",
       "0  {\"cutoff\": \"quantile_0.25\", \"eval_fairness_gro...       28.815993   \n",
       "0  {\"cutoff\": \"quantile_0.25\", \"eval_fairness_gro...       28.815993   \n",
       "\n",
       "   test_size_n  test_size_frac  fair_main_equalized_odds_difference  \\\n",
       "0        89710             1.0                             0.096159   \n",
       "0        89710             1.0                             0.096159   \n",
       "0        89710             1.0                             0.214935   \n",
       "0        89710             1.0                             0.214935   \n",
       "\n",
       "   fair_main_equalized_odds_ratio  fair_main_demographic_parity_difference  \\\n",
       "0                        0.900399                                 0.087831   \n",
       "0                        0.900399                                 0.087831   \n",
       "0                        0.759924                                 0.197202   \n",
       "0                        0.759924                                 0.197202   \n",
       "\n",
       "   fair_main_demographic_parity_ratio  ...  perf_grp_precision_0  \\\n",
       "0                            0.909239  ...                   NaN   \n",
       "0                            0.909239  ...              0.117372   \n",
       "0                            0.781384  ...                   NaN   \n",
       "0                            0.781384  ...              0.121924   \n",
       "\n",
       "   perf_grp_precision_1  perf_grp_false positive rate_0  \\\n",
       "0                   NaN                             NaN   \n",
       "0              0.142601                        0.965441   \n",
       "0                   NaN                             NaN   \n",
       "0              0.162305                        0.895278   \n",
       "\n",
       "   perf_grp_false positive rate_1  perf_grp_false negative rate_0  \\\n",
       "0                             NaN                             NaN   \n",
       "0                        0.869282                         0.01478   \n",
       "0                             NaN                             NaN   \n",
       "0                        0.680343                         0.04603   \n",
       "\n",
       "   perf_grp_false negative rate_1  perf_grp_selection rate_0  \\\n",
       "0                             NaN                        NaN   \n",
       "0                        0.050438                   0.967722   \n",
       "0                             NaN                        NaN   \n",
       "0                        0.134245                   0.902045   \n",
       "\n",
       "   perf_grp_selection rate_1  perf_grp_count_0  perf_grp_count_1  \n",
       "0                        NaN               NaN               NaN  \n",
       "0                   0.879890           20540.0           69170.0  \n",
       "0                        NaN               NaN               NaN  \n",
       "0                   0.704843           20540.0           69170.0  \n",
       "\n",
       "[4 rows x 50 columns]"
      ]
     },
     "execution_count": 61,
     "metadata": {},
     "output_type": "execute_result"
    }
   ],
   "source": [
    "final_output = universe_analysis.generate_final_output(\n",
    "    y_pred_prob=probs_test,\n",
    "    y_test=y_true,\n",
    "    org_test=org_test,\n",
    "    filter_data=filter_sub_universe_data,\n",
    "    cp_metrics_df=cp_metrics_df,\n",
    "    save=True,\n",
    ")\n",
    "final_output"
   ]
  },
  {
   "cell_type": "code",
   "execution_count": null,
   "id": "721ff514-cb11-46f8-b6fc-50392f74b5cb",
   "metadata": {
    "papermill": {
     "duration": 0.013251,
     "end_time": "2025-07-21T07:36:35.994907",
     "exception": false,
     "start_time": "2025-07-21T07:36:35.981656",
     "status": "completed"
    },
    "tags": []
   },
   "outputs": [],
   "source": []
  }
 ],
 "metadata": {
  "celltoolbar": "Tags",
  "kernelspec": {
   "display_name": "Python (CMA Fairness)",
   "language": "python",
   "name": "cma_fair_env"
  },
  "language_info": {
   "codemirror_mode": {
    "name": "ipython",
    "version": 3
   },
   "file_extension": ".py",
   "mimetype": "text/x-python",
   "name": "python",
   "nbconvert_exporter": "python",
   "pygments_lexer": "ipython3",
   "version": "3.10.12"
  },
  "papermill": {
   "default_parameters": {},
   "duration": 43.51874,
   "end_time": "2025-07-21T07:36:36.927076",
   "environment_variables": {},
   "exception": null,
   "input_path": "universe_analysis.ipynb",
   "output_path": "output/runs/2/notebooks/m_2-12a5fec09c1184e64c2b9398314839d5.ipynb",
   "parameters": {
    "output_dir": "output",
    "run_no": "2",
    "seed": "2023",
    "universe": "{\"cutoff\": [\"quantile_0.1\", \"quantile_0.25\"], \"eval_fairness_grouping\": [\"majority-minority\", \"nationality-all\"], \"exclude_features\": \"sex\", \"exclude_subgroups\": \"keep-all\", \"model\": \"logreg\"}",
    "universe_id": "12a5fec09c1184e64c2b9398314839d5"
   },
   "start_time": "2025-07-21T07:35:53.408336",
   "version": "2.6.0"
  }
 },
 "nbformat": 4,
 "nbformat_minor": 5
}