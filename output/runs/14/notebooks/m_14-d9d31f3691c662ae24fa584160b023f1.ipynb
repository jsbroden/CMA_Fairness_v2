{
 "cells": [
  {
   "cell_type": "code",
   "execution_count": 1,
   "id": "f159f837-637b-42ba-96b5-ec9a68c44524",
   "metadata": {
    "execution": {
     "iopub.execute_input": "2025-07-30T21:12:03.633494Z",
     "iopub.status.busy": "2025-07-30T21:12:03.632856Z",
     "iopub.status.idle": "2025-07-30T21:12:03.646238Z",
     "shell.execute_reply": "2025-07-30T21:12:03.645293Z"
    },
    "papermill": {
     "duration": 0.040393,
     "end_time": "2025-07-30T21:12:03.647888",
     "exception": false,
     "start_time": "2025-07-30T21:12:03.607495",
     "status": "completed"
    },
    "tags": []
   },
   "outputs": [
    {
     "name": "stdout",
     "output_type": "stream",
     "text": [
      "/dss/dsshome1/0C/ra93lal2/cma/CMA_Fairness_v2\n"
     ]
    },
    {
     "name": "stderr",
     "output_type": "stream",
     "text": [
      "/dss/dsshome1/0C/ra93lal2/.local/share/virtualenvs/CMA_Fairness_v2-3j10GkSs/lib/python3.10/site-packages/IPython/core/magics/osm.py:393: UserWarning: This is now an optional IPython functionality, using bookmarks requires you to install the `pickleshare` library.\n",
      "  bkms = self.shell.db.get('bookmarks', {})\n",
      "/dss/dsshome1/0C/ra93lal2/.local/share/virtualenvs/CMA_Fairness_v2-3j10GkSs/lib/python3.10/site-packages/IPython/core/magics/osm.py:417: UserWarning: This is now an optional IPython functionality, setting dhist requires you to install the `pickleshare` library.\n",
      "  self.shell.db['dhist'] = compress_dhist(dhist)[-100:]\n"
     ]
    }
   ],
   "source": [
    "%cd ~/cma/CMA_Fairness_v2"
   ]
  },
  {
   "cell_type": "markdown",
   "id": "de2603b9",
   "metadata": {
    "papermill": {
     "duration": 0.020571,
     "end_time": "2025-07-30T21:12:03.688659",
     "exception": false,
     "start_time": "2025-07-30T21:12:03.668088",
     "status": "completed"
    },
    "tags": []
   },
   "source": [
    "The following cell holds the definition of our parameters, these values can be overriden by rendering the with e.g. the following command:\n",
    "\n",
    "papermill -p alpha 0.2 -p ratio 0.3 universe_analysis.ipynb output/test_run.ipynb"
   ]
  },
  {
   "cell_type": "code",
   "execution_count": 2,
   "id": "a80968a0-40bb-4fa9-85ef-2d5eefb01975",
   "metadata": {
    "execution": {
     "iopub.execute_input": "2025-07-30T21:12:03.731066Z",
     "iopub.status.busy": "2025-07-30T21:12:03.730617Z",
     "iopub.status.idle": "2025-07-30T21:12:03.736449Z",
     "shell.execute_reply": "2025-07-30T21:12:03.735438Z"
    },
    "papermill": {
     "duration": 0.028275,
     "end_time": "2025-07-30T21:12:03.738219",
     "exception": false,
     "start_time": "2025-07-30T21:12:03.709944",
     "status": "completed"
    },
    "tags": []
   },
   "outputs": [
    {
     "name": "stdout",
     "output_type": "stream",
     "text": [
      "Current working directory: /dss/dsshome1/0C/ra93lal2/cma/CMA_Fairness_v2\n"
     ]
    }
   ],
   "source": [
    "import os\n",
    "print(\"Current working directory:\", os.getcwd())"
   ]
  },
  {
   "cell_type": "code",
   "execution_count": 3,
   "id": "2dce4c03",
   "metadata": {
    "execution": {
     "iopub.execute_input": "2025-07-30T21:12:03.782678Z",
     "iopub.status.busy": "2025-07-30T21:12:03.782208Z",
     "iopub.status.idle": "2025-07-30T21:12:03.788801Z",
     "shell.execute_reply": "2025-07-30T21:12:03.787704Z"
    },
    "papermill": {
     "duration": 0.030966,
     "end_time": "2025-07-30T21:12:03.790662",
     "exception": false,
     "start_time": "2025-07-30T21:12:03.759696",
     "status": "completed"
    },
    "tags": [
     "parameters"
    ]
   },
   "outputs": [],
   "source": [
    "run_no = 0\n",
    "universe_id = \"test\"\n",
    "universe = {\n",
    "    \"training_size\": \"25k\", # \"25k\", \"5k\", \"1k\"\n",
    "    \"training_year\": \"2014\", # \"2014\", \"2012_14\", \"2010_14\"\n",
    "    \"scale\": \"scale\", # \"scale\", \"do-not-scale\",\n",
    "    #\"stratify_split\": \"target\", # \"none\", \"target\", \"protected-attribute\", \"both\",\n",
    "    \"model\": \"elasticnet\", # \"logreg\", \"penalized_logreg\", \"rf\", \"gbm\", \"elasticnet\"\n",
    "    \"cutoff\": [\"quantile_0.15\", \"quantile_0.30\"],\n",
    "    \"exclude_features\": \"age\", # \"none\", \"nationality\", \"sex\", \"nationality-sex\", \"age\"\n",
    "    \"exclude_subgroups\": \"keep-all\", # \"keep-all\", \"drop-non-german\"\n",
    "    \"eval_fairness_grouping\": [\"majority-minority\", \"nationality-all\"]\n",
    "}\n",
    "\n",
    "output_dir=\"./output\"\n",
    "seed=0"
   ]
  },
  {
   "cell_type": "code",
   "execution_count": 4,
   "id": "4236b666",
   "metadata": {
    "execution": {
     "iopub.execute_input": "2025-07-30T21:12:03.839159Z",
     "iopub.status.busy": "2025-07-30T21:12:03.838741Z",
     "iopub.status.idle": "2025-07-30T21:12:03.844704Z",
     "shell.execute_reply": "2025-07-30T21:12:03.843642Z"
    },
    "papermill": {
     "duration": 0.031549,
     "end_time": "2025-07-30T21:12:03.846498",
     "exception": false,
     "start_time": "2025-07-30T21:12:03.814949",
     "status": "completed"
    },
    "tags": [
     "injected-parameters"
    ]
   },
   "outputs": [],
   "source": [
    "# Parameters\n",
    "universe_id = \"d9d31f3691c662ae24fa584160b023f1\"\n",
    "run_no = \"14\"\n",
    "universe = \"{\\\"cutoff\\\": [\\\"quantile_0.1\\\", \\\"quantile_0.25\\\"], \\\"eval_fairness_grouping\\\": [\\\"majority-minority\\\", \\\"nationality-all\\\"], \\\"exclude_features\\\": \\\"sex\\\", \\\"exclude_subgroups\\\": \\\"drop-non-german\\\", \\\"model\\\": \\\"rf\\\", \\\"scale\\\": \\\"scale\\\", \\\"training_size\\\": \\\"5k\\\", \\\"training_year\\\": \\\"2010_14\\\"}\"\n",
    "output_dir = \"output\"\n",
    "seed = \"2023\"\n"
   ]
  },
  {
   "cell_type": "code",
   "execution_count": 5,
   "id": "1650acaf",
   "metadata": {
    "execution": {
     "iopub.execute_input": "2025-07-30T21:12:03.888999Z",
     "iopub.status.busy": "2025-07-30T21:12:03.888069Z",
     "iopub.status.idle": "2025-07-30T21:12:03.893606Z",
     "shell.execute_reply": "2025-07-30T21:12:03.892572Z"
    },
    "papermill": {
     "duration": 0.028457,
     "end_time": "2025-07-30T21:12:03.895445",
     "exception": false,
     "start_time": "2025-07-30T21:12:03.866988",
     "status": "completed"
    },
    "tags": []
   },
   "outputs": [],
   "source": [
    "import json\n",
    "# Parse universe into dict if it is passed as a string\n",
    "if isinstance(universe, str):\n",
    "    universe = json.loads(universe)"
   ]
  },
  {
   "cell_type": "code",
   "execution_count": 6,
   "id": "16620c48",
   "metadata": {
    "execution": {
     "iopub.execute_input": "2025-07-30T21:12:03.938994Z",
     "iopub.status.busy": "2025-07-30T21:12:03.938176Z",
     "iopub.status.idle": "2025-07-30T21:12:03.983893Z",
     "shell.execute_reply": "2025-07-30T21:12:03.983000Z"
    },
    "papermill": {
     "duration": 0.069238,
     "end_time": "2025-07-30T21:12:03.985929",
     "exception": false,
     "start_time": "2025-07-30T21:12:03.916691",
     "status": "completed"
    },
    "tags": []
   },
   "outputs": [],
   "source": [
    "# Auto-reload the custom package\n",
    "%load_ext autoreload\n",
    "%autoreload 1\n",
    "%aimport fairness_multiverse"
   ]
  },
  {
   "cell_type": "code",
   "execution_count": 7,
   "id": "01c5c9f3",
   "metadata": {
    "execution": {
     "iopub.execute_input": "2025-07-30T21:12:04.029316Z",
     "iopub.status.busy": "2025-07-30T21:12:04.028707Z",
     "iopub.status.idle": "2025-07-30T21:12:05.940640Z",
     "shell.execute_reply": "2025-07-30T21:12:05.939628Z"
    },
    "papermill": {
     "duration": 1.934946,
     "end_time": "2025-07-30T21:12:05.942454",
     "exception": false,
     "start_time": "2025-07-30T21:12:04.007508",
     "status": "completed"
    },
    "tags": []
   },
   "outputs": [],
   "source": [
    "from fairness_multiverse.universe import UniverseAnalysis\n",
    "\n",
    "universe_analysis = UniverseAnalysis(\n",
    "    run_no = run_no,\n",
    "    universe_id = universe_id,\n",
    "    universe = universe,\n",
    "    output_dir=output_dir,\n",
    ")"
   ]
  },
  {
   "cell_type": "code",
   "execution_count": 8,
   "id": "106241f5",
   "metadata": {
    "execution": {
     "iopub.execute_input": "2025-07-30T21:12:05.983611Z",
     "iopub.status.busy": "2025-07-30T21:12:05.983109Z",
     "iopub.status.idle": "2025-07-30T21:12:05.989549Z",
     "shell.execute_reply": "2025-07-30T21:12:05.988736Z"
    },
    "papermill": {
     "duration": 0.029067,
     "end_time": "2025-07-30T21:12:05.991481",
     "exception": false,
     "start_time": "2025-07-30T21:12:05.962414",
     "status": "completed"
    },
    "tags": []
   },
   "outputs": [
    {
     "name": "stdout",
     "output_type": "stream",
     "text": [
      "Using Seed: 2023\n"
     ]
    }
   ],
   "source": [
    "import numpy as np\n",
    "parsed_seed = int(seed)\n",
    "np.random.seed(parsed_seed)\n",
    "print(f\"Using Seed: {parsed_seed}\")"
   ]
  },
  {
   "cell_type": "markdown",
   "id": "e0ebdc57",
   "metadata": {
    "papermill": {
     "duration": 0.018118,
     "end_time": "2025-07-30T21:12:06.030910",
     "exception": false,
     "start_time": "2025-07-30T21:12:06.012792",
     "status": "completed"
    },
    "tags": []
   },
   "source": [
    "# Loading Data"
   ]
  },
  {
   "cell_type": "markdown",
   "id": "681925a3",
   "metadata": {
    "papermill": {
     "duration": 0.018336,
     "end_time": "2025-07-30T21:12:06.067570",
     "exception": false,
     "start_time": "2025-07-30T21:12:06.049234",
     "status": "completed"
    },
    "tags": []
   },
   "source": [
    "Load siab_train, siab_test, siab_calib and/or \n",
    "load siab_train_features, siab_train_labels"
   ]
  },
  {
   "cell_type": "code",
   "execution_count": 9,
   "id": "f0496b8a",
   "metadata": {
    "execution": {
     "iopub.execute_input": "2025-07-30T21:12:06.106890Z",
     "iopub.status.busy": "2025-07-30T21:12:06.106398Z",
     "iopub.status.idle": "2025-07-30T21:12:19.751473Z",
     "shell.execute_reply": "2025-07-30T21:12:19.750363Z"
    },
    "papermill": {
     "duration": 13.666987,
     "end_time": "2025-07-30T21:12:19.753091",
     "exception": false,
     "start_time": "2025-07-30T21:12:06.086104",
     "status": "completed"
    },
    "tags": []
   },
   "outputs": [
    {
     "name": "stdout",
     "output_type": "stream",
     "text": [
      "Loading SIAB data from cache: data/siab_cached.csv.gz\n"
     ]
    },
    {
     "name": "stdout",
     "output_type": "stream",
     "text": [
      "(643690, 164)\n"
     ]
    }
   ],
   "source": [
    "from pathlib import Path\n",
    "import pandas as pd\n",
    "\n",
    "# File paths\n",
    "raw_file = Path(\"data/raw/siab.csv\")\n",
    "cache_file = Path(\"data/siab_cached.csv.gz\")\n",
    "\n",
    "# Ensure cache directory exists\n",
    "cache_file.parent.mkdir(parents=True, exist_ok=True)\n",
    "\n",
    "# Load with simple caching\n",
    "if cache_file.exists():\n",
    "    print(f\"Loading SIAB data from cache: {cache_file}\")\n",
    "    siab = pd.read_csv(cache_file, compression='gzip')\n",
    "else:\n",
    "    print(f\"Cache not found. Reading raw SIAB data: {raw_file}\")\n",
    "    siab = pd.read_csv(raw_file)\n",
    "    siab.to_csv(cache_file, index=False, compression='gzip')\n",
    "    print(f\"Cached SIAB data to: {cache_file}\")\n",
    "\n",
    "# Now use `siab` DataFrame as needed\n",
    "print(siab.shape)"
   ]
  },
  {
   "cell_type": "code",
   "execution_count": 10,
   "id": "db0ca512-5f53-4dba-abdb-a2888bca41ba",
   "metadata": {
    "execution": {
     "iopub.execute_input": "2025-07-30T21:12:19.827635Z",
     "iopub.status.busy": "2025-07-30T21:12:19.827098Z",
     "iopub.status.idle": "2025-07-30T21:12:19.833483Z",
     "shell.execute_reply": "2025-07-30T21:12:19.832388Z"
    },
    "papermill": {
     "duration": 0.056369,
     "end_time": "2025-07-30T21:12:19.842531",
     "exception": false,
     "start_time": "2025-07-30T21:12:19.786162",
     "status": "completed"
    },
    "tags": []
   },
   "outputs": [],
   "source": [
    "#siab"
   ]
  },
  {
   "cell_type": "code",
   "execution_count": 11,
   "id": "a0edb063",
   "metadata": {
    "execution": {
     "iopub.execute_input": "2025-07-30T21:12:19.906573Z",
     "iopub.status.busy": "2025-07-30T21:12:19.906175Z",
     "iopub.status.idle": "2025-07-30T21:12:19.911583Z",
     "shell.execute_reply": "2025-07-30T21:12:19.910504Z"
    },
    "papermill": {
     "duration": 0.047202,
     "end_time": "2025-07-30T21:12:19.914034",
     "exception": false,
     "start_time": "2025-07-30T21:12:19.866832",
     "status": "completed"
    },
    "tags": []
   },
   "outputs": [],
   "source": [
    "#import pandas as pd\n",
    "#\n",
    "#X_train = pd.read_csv(\"./data/X_train.csv\")\n",
    "#y_train = pd.read_csv(\"./data/y_train.csv\")"
   ]
  },
  {
   "cell_type": "code",
   "execution_count": 12,
   "id": "63d08085",
   "metadata": {
    "execution": {
     "iopub.execute_input": "2025-07-30T21:12:19.975718Z",
     "iopub.status.busy": "2025-07-30T21:12:19.975183Z",
     "iopub.status.idle": "2025-07-30T21:12:19.985329Z",
     "shell.execute_reply": "2025-07-30T21:12:19.984097Z"
    },
    "papermill": {
     "duration": 0.027376,
     "end_time": "2025-07-30T21:12:19.987289",
     "exception": false,
     "start_time": "2025-07-30T21:12:19.959913",
     "status": "completed"
    },
    "tags": []
   },
   "outputs": [],
   "source": [
    "#X_test = pd.read_csv(\"./data/X_test.csv\")\n",
    "#y_true = pd.read_csv(\"./data/y_test.csv\")"
   ]
  },
  {
   "cell_type": "code",
   "execution_count": 13,
   "id": "98a8d0fa-1d3d-4ed8-bb2c-281470e24add",
   "metadata": {
    "execution": {
     "iopub.execute_input": "2025-07-30T21:12:20.036062Z",
     "iopub.status.busy": "2025-07-30T21:12:20.035474Z",
     "iopub.status.idle": "2025-07-30T21:12:20.041749Z",
     "shell.execute_reply": "2025-07-30T21:12:20.040608Z"
    },
    "papermill": {
     "duration": 0.032477,
     "end_time": "2025-07-30T21:12:20.043502",
     "exception": false,
     "start_time": "2025-07-30T21:12:20.011025",
     "status": "completed"
    },
    "tags": []
   },
   "outputs": [],
   "source": [
    "# Calibration data for conformal\n",
    "#X_calib = pd.read_csv(\"./data/X_calib.csv\")\n",
    "#y_calib = pd.read_csv(\"./data/y_calib.csv\")"
   ]
  },
  {
   "cell_type": "markdown",
   "id": "997051c5-15bd-4b69-9786-c3001a3ce484",
   "metadata": {
    "papermill": {
     "duration": 0.023177,
     "end_time": "2025-07-30T21:12:20.091057",
     "exception": false,
     "start_time": "2025-07-30T21:12:20.067880",
     "status": "completed"
    },
    "tags": []
   },
   "source": [
    "# Splitting Data and Setting Training Data Size"
   ]
  },
  {
   "cell_type": "code",
   "execution_count": 14,
   "id": "e993b61f-042d-41a6-8c81-f55681f86335",
   "metadata": {
    "execution": {
     "iopub.execute_input": "2025-07-30T21:12:20.134815Z",
     "iopub.status.busy": "2025-07-30T21:12:20.134327Z",
     "iopub.status.idle": "2025-07-30T21:12:20.196527Z",
     "shell.execute_reply": "2025-07-30T21:12:20.195527Z"
    },
    "papermill": {
     "duration": 0.08782,
     "end_time": "2025-07-30T21:12:20.198451",
     "exception": false,
     "start_time": "2025-07-30T21:12:20.110631",
     "status": "completed"
    },
    "tags": []
   },
   "outputs": [],
   "source": [
    "def sample_by_year_size(df,\n",
    "                        training_year: str,\n",
    "                        training_size: str,\n",
    "                        random_state: int = 42):\n",
    "    # --- parse training_year into a list of int years ---\n",
    "    if \"_\" in training_year:\n",
    "        start_str, end_str = training_year.split(\"_\", 1)\n",
    "        start = int(start_str)\n",
    "        end   = int(end_str) if len(end_str) == 4 else (int(end_str) + (start // 100)*100)\n",
    "        years = list(range(start, end + 1))\n",
    "    else:\n",
    "        years = [int(training_year)]\n",
    "\n",
    "    df = df[df[\"year\"].isin(years)].reset_index(drop=True)\n",
    "\n",
    "    # --- map training_size to total number of samples ---\n",
    "    total_map = {\"25k\": 25_000, \"5k\": 5_000, \"1k\": 1_000}\n",
    "    if training_size not in total_map:\n",
    "        return df  # e.g. \"all\"\n",
    "\n",
    "    total_samples = total_map[training_size]\n",
    "    n_years       = len(years)\n",
    "    base          = total_samples // n_years\n",
    "    remainder     = total_samples % n_years\n",
    "\n",
    "    # --- build a dict: year -> how many to sample ---\n",
    "    # give +1 to the first `remainder` years in ascending order\n",
    "    quotas = {\n",
    "        year: base + (1 if idx < remainder else 0)\n",
    "        for idx, year in enumerate(sorted(years))\n",
    "    }\n",
    "\n",
    "    # --- sample per‐year according to the quota dict ---\n",
    "    sampled = (\n",
    "        df\n",
    "        .groupby(\"year\", group_keys=False)\n",
    "        .apply(lambda grp: grp.sample(\n",
    "            n=min(len(grp), quotas[grp.name]),\n",
    "            random_state=random_state))\n",
    "        .reset_index(drop=True)\n",
    "    )\n",
    "\n",
    "    return sampled"
   ]
  },
  {
   "cell_type": "code",
   "execution_count": 15,
   "id": "c0ccd338-0e02-41f3-a09d-f56f9266e3fb",
   "metadata": {
    "execution": {
     "iopub.execute_input": "2025-07-30T21:12:20.310611Z",
     "iopub.status.busy": "2025-07-30T21:12:20.310180Z",
     "iopub.status.idle": "2025-07-30T21:12:20.315644Z",
     "shell.execute_reply": "2025-07-30T21:12:20.314787Z"
    },
    "papermill": {
     "duration": 0.062252,
     "end_time": "2025-07-30T21:12:20.317566",
     "exception": false,
     "start_time": "2025-07-30T21:12:20.255314",
     "status": "completed"
    },
    "tags": []
   },
   "outputs": [],
   "source": [
    "#universe[\"training_size\"]"
   ]
  },
  {
   "cell_type": "code",
   "execution_count": 16,
   "id": "ca707fd7-8047-4acd-bfa5-66248fbbf8e6",
   "metadata": {
    "execution": {
     "iopub.execute_input": "2025-07-30T21:12:20.376555Z",
     "iopub.status.busy": "2025-07-30T21:12:20.376140Z",
     "iopub.status.idle": "2025-07-30T21:12:20.387387Z",
     "shell.execute_reply": "2025-07-30T21:12:20.386403Z"
    },
    "papermill": {
     "duration": 0.037409,
     "end_time": "2025-07-30T21:12:20.389634",
     "exception": false,
     "start_time": "2025-07-30T21:12:20.352225",
     "status": "completed"
    },
    "tags": []
   },
   "outputs": [],
   "source": [
    "#universe[\"training_year\"]"
   ]
  },
  {
   "cell_type": "code",
   "execution_count": 17,
   "id": "aea9c6ef-6f46-42c8-85eb-5a62025c1508",
   "metadata": {
    "execution": {
     "iopub.execute_input": "2025-07-30T21:12:20.496417Z",
     "iopub.status.busy": "2025-07-30T21:12:20.495919Z",
     "iopub.status.idle": "2025-07-30T21:12:21.587062Z",
     "shell.execute_reply": "2025-07-30T21:12:21.586030Z"
    },
    "papermill": {
     "duration": 1.162551,
     "end_time": "2025-07-30T21:12:21.589006",
     "exception": false,
     "start_time": "2025-07-30T21:12:20.426455",
     "status": "completed"
    },
    "tags": []
   },
   "outputs": [],
   "source": [
    "siab_train = sample_by_year_size(siab,\n",
    "                               training_year=universe[\"training_year\"],\n",
    "                               training_size=universe[\"training_size\"])"
   ]
  },
  {
   "cell_type": "code",
   "execution_count": 18,
   "id": "8d3afb32-789d-442c-8d5d-9f5aa8dd2eed",
   "metadata": {
    "execution": {
     "iopub.execute_input": "2025-07-30T21:12:21.635843Z",
     "iopub.status.busy": "2025-07-30T21:12:21.634881Z",
     "iopub.status.idle": "2025-07-30T21:12:21.640398Z",
     "shell.execute_reply": "2025-07-30T21:12:21.639415Z"
    },
    "papermill": {
     "duration": 0.030419,
     "end_time": "2025-07-30T21:12:21.642133",
     "exception": false,
     "start_time": "2025-07-30T21:12:21.611714",
     "status": "completed"
    },
    "tags": []
   },
   "outputs": [],
   "source": [
    "#siab_train.shape"
   ]
  },
  {
   "cell_type": "code",
   "execution_count": 19,
   "id": "d582db68-1a4c-47fb-84fc-08518dc1975a",
   "metadata": {
    "execution": {
     "iopub.execute_input": "2025-07-30T21:12:21.690193Z",
     "iopub.status.busy": "2025-07-30T21:12:21.689656Z",
     "iopub.status.idle": "2025-07-30T21:12:21.696186Z",
     "shell.execute_reply": "2025-07-30T21:12:21.695100Z"
    },
    "papermill": {
     "duration": 0.031914,
     "end_time": "2025-07-30T21:12:21.698039",
     "exception": false,
     "start_time": "2025-07-30T21:12:21.666125",
     "status": "completed"
    },
    "tags": []
   },
   "outputs": [],
   "source": [
    "#display(siab_train.groupby(\"year\").size())"
   ]
  },
  {
   "cell_type": "code",
   "execution_count": 20,
   "id": "a561edb4-d032-42cb-8256-22eac1111c64",
   "metadata": {
    "execution": {
     "iopub.execute_input": "2025-07-30T21:12:21.743978Z",
     "iopub.status.busy": "2025-07-30T21:12:21.743491Z",
     "iopub.status.idle": "2025-07-30T21:12:21.980555Z",
     "shell.execute_reply": "2025-07-30T21:12:21.979475Z"
    },
    "papermill": {
     "duration": 0.261531,
     "end_time": "2025-07-30T21:12:21.982510",
     "exception": false,
     "start_time": "2025-07-30T21:12:21.720979",
     "status": "completed"
    },
    "tags": []
   },
   "outputs": [],
   "source": [
    "#siab_train = siab_s[siab_s.year < 2015]\n",
    "siab_calib = siab[siab.year == 2015]\n",
    "siab_test = siab[siab.year == 2016]"
   ]
  },
  {
   "cell_type": "code",
   "execution_count": 21,
   "id": "472de16f-c3db-4916-846b-1f0de9cf1746",
   "metadata": {
    "execution": {
     "iopub.execute_input": "2025-07-30T21:12:22.028775Z",
     "iopub.status.busy": "2025-07-30T21:12:22.028149Z",
     "iopub.status.idle": "2025-07-30T21:12:22.036133Z",
     "shell.execute_reply": "2025-07-30T21:12:22.035164Z"
    },
    "papermill": {
     "duration": 0.032851,
     "end_time": "2025-07-30T21:12:22.037892",
     "exception": false,
     "start_time": "2025-07-30T21:12:22.005041",
     "status": "completed"
    },
    "tags": []
   },
   "outputs": [],
   "source": [
    "X_train = siab_train.iloc[:,4:164]\n",
    "y_train = siab_train.iloc[:, [3]]"
   ]
  },
  {
   "cell_type": "code",
   "execution_count": 22,
   "id": "828c96af-f43a-4ed6-ba47-8ac73a47d56c",
   "metadata": {
    "execution": {
     "iopub.execute_input": "2025-07-30T21:12:22.085077Z",
     "iopub.status.busy": "2025-07-30T21:12:22.084360Z",
     "iopub.status.idle": "2025-07-30T21:12:22.133527Z",
     "shell.execute_reply": "2025-07-30T21:12:22.132611Z"
    },
    "papermill": {
     "duration": 0.072863,
     "end_time": "2025-07-30T21:12:22.135177",
     "exception": false,
     "start_time": "2025-07-30T21:12:22.062314",
     "status": "completed"
    },
    "tags": []
   },
   "outputs": [],
   "source": [
    "X_calib = siab_calib.iloc[:,4:164]\n",
    "y_calib = siab_calib.iloc[:, [3]]"
   ]
  },
  {
   "cell_type": "code",
   "execution_count": 23,
   "id": "c34be9c3-6bd6-476e-acd3-845840e303be",
   "metadata": {
    "execution": {
     "iopub.execute_input": "2025-07-30T21:12:22.182727Z",
     "iopub.status.busy": "2025-07-30T21:12:22.182331Z",
     "iopub.status.idle": "2025-07-30T21:12:22.236075Z",
     "shell.execute_reply": "2025-07-30T21:12:22.234920Z"
    },
    "papermill": {
     "duration": 0.078693,
     "end_time": "2025-07-30T21:12:22.237779",
     "exception": false,
     "start_time": "2025-07-30T21:12:22.159086",
     "status": "completed"
    },
    "tags": []
   },
   "outputs": [],
   "source": [
    "X_test = siab_test.iloc[:,4:164]\n",
    "y_true = siab_test.iloc[:, [3]]"
   ]
  },
  {
   "cell_type": "markdown",
   "id": "9901737e-04df-44f0-9100-f5ad144ed040",
   "metadata": {
    "papermill": {
     "duration": 0.022036,
     "end_time": "2025-07-30T21:12:22.275530",
     "exception": false,
     "start_time": "2025-07-30T21:12:22.253494",
     "status": "completed"
    },
    "tags": []
   },
   "source": [
    "# Splitting Data and Setting Training Data Size OLD VERSION"
   ]
  },
  {
   "cell_type": "code",
   "execution_count": 24,
   "id": "acbc8f7d-8fc8-4e86-8c59-5dcb0f58384b",
   "metadata": {
    "execution": {
     "iopub.execute_input": "2025-07-30T21:12:22.320994Z",
     "iopub.status.busy": "2025-07-30T21:12:22.320496Z",
     "iopub.status.idle": "2025-07-30T21:12:22.326129Z",
     "shell.execute_reply": "2025-07-30T21:12:22.325176Z"
    },
    "papermill": {
     "duration": 0.030638,
     "end_time": "2025-07-30T21:12:22.327886",
     "exception": false,
     "start_time": "2025-07-30T21:12:22.297248",
     "status": "completed"
    },
    "tags": []
   },
   "outputs": [],
   "source": [
    "#def sample_by_year(df, training_size, random_state=42):\n",
    "#    if training_size == \"2014\":\n",
    "#        return df[df[\"year\"] == 2014].reset_index(drop=True)\n",
    "#    \n",
    "#    size_map = {\n",
    "#        \"25k\": 5000,\n",
    "#        \"5k\": 1000,\n",
    "#        \"1k\": 200\n",
    "#    }\n",
    "#\n",
    "#    if training_size not in size_map:\n",
    "#        return df.reset_index(drop=True)  # use all data\n",
    "#\n",
    "#    n_per_year = size_map[training_size]\n",
    "#    grouped = df.groupby(\"year\")\n",
    "#    sampled = grouped.apply(lambda x: x.sample(n=min(n_per_year, len(x)), random_state=random_state))\n",
    "#    return sampled.reset_index(drop=True)"
   ]
  },
  {
   "cell_type": "code",
   "execution_count": 25,
   "id": "6d931f52-beaf-43ff-9e78-9d44a448d54e",
   "metadata": {
    "execution": {
     "iopub.execute_input": "2025-07-30T21:12:22.373294Z",
     "iopub.status.busy": "2025-07-30T21:12:22.372511Z",
     "iopub.status.idle": "2025-07-30T21:12:22.377684Z",
     "shell.execute_reply": "2025-07-30T21:12:22.376697Z"
    },
    "papermill": {
     "duration": 0.03083,
     "end_time": "2025-07-30T21:12:22.379384",
     "exception": false,
     "start_time": "2025-07-30T21:12:22.348554",
     "status": "completed"
    },
    "tags": []
   },
   "outputs": [],
   "source": [
    "#siab_s = sample_by_year(siab, universe[\"training_size\"])"
   ]
  },
  {
   "cell_type": "code",
   "execution_count": 26,
   "id": "5db0a40e-a4e2-4920-be85-b12ae061d70d",
   "metadata": {
    "execution": {
     "iopub.execute_input": "2025-07-30T21:12:22.422641Z",
     "iopub.status.busy": "2025-07-30T21:12:22.422145Z",
     "iopub.status.idle": "2025-07-30T21:12:22.427335Z",
     "shell.execute_reply": "2025-07-30T21:12:22.426346Z"
    },
    "papermill": {
     "duration": 0.030805,
     "end_time": "2025-07-30T21:12:22.429149",
     "exception": false,
     "start_time": "2025-07-30T21:12:22.398344",
     "status": "completed"
    },
    "tags": []
   },
   "outputs": [],
   "source": [
    "#display(siab_s.groupby(\"year\").size())"
   ]
  },
  {
   "cell_type": "code",
   "execution_count": 27,
   "id": "e6c733c5",
   "metadata": {
    "execution": {
     "iopub.execute_input": "2025-07-30T21:12:22.474029Z",
     "iopub.status.busy": "2025-07-30T21:12:22.473523Z",
     "iopub.status.idle": "2025-07-30T21:12:22.568369Z",
     "shell.execute_reply": "2025-07-30T21:12:22.567356Z"
    },
    "papermill": {
     "duration": 0.1209,
     "end_time": "2025-07-30T21:12:22.570350",
     "exception": false,
     "start_time": "2025-07-30T21:12:22.449450",
     "status": "completed"
    },
    "tags": []
   },
   "outputs": [],
   "source": [
    "# Auxiliary data needed downstream in the pipeline\n",
    "\n",
    "org_train = X_train.copy()\n",
    "org_test = X_test.copy()\n",
    "org_calib = X_calib.copy()"
   ]
  },
  {
   "cell_type": "code",
   "execution_count": 28,
   "id": "1466abac-c6da-4492-a62f-4240ae3783af",
   "metadata": {
    "execution": {
     "iopub.execute_input": "2025-07-30T21:12:22.614153Z",
     "iopub.status.busy": "2025-07-30T21:12:22.613717Z",
     "iopub.status.idle": "2025-07-30T21:12:22.620138Z",
     "shell.execute_reply": "2025-07-30T21:12:22.619353Z"
    },
    "papermill": {
     "duration": 0.021345,
     "end_time": "2025-07-30T21:12:22.621536",
     "exception": false,
     "start_time": "2025-07-30T21:12:22.600191",
     "status": "completed"
    },
    "tags": []
   },
   "outputs": [],
   "source": [
    "# put in other script?\n",
    "# Group sizes\n",
    "\n",
    "#def calculate_percentages(df, df_name):\n",
    "#    total_entries = len(df)\n",
    "#\n",
    "#    female_pct = (df['frau1'] == 1).mean() * 100\n",
    "#    non_german_pct = ((df['maxdeutsch1'] == 0) & (df['maxdeutsch.Missing.'] == 0)).mean() * 100\n",
    "#    non_german_male_pct = ((df['frau1'] == 0) & (df['maxdeutsch1'] == 0) & (df['maxdeutsch.Missing.'] == 0)).mean() * 100\n",
    "#    non_german_female_pct = ((df['frau1'] == 1) & (df['maxdeutsch1'] == 0) & (df['maxdeutsch.Missing.'] == 0)).mean() * 100\n",
    "#\n",
    "#    print(f\"--- {df_name} ---\")\n",
    "#    print(f\"Female: {female_pct:.2f}%\")\n",
    "#    print(f\"Non-German: {non_german_pct:.2f}%\")\n",
    "#    print(f\"Non-German Male: {non_german_male_pct:.2f}%\")\n",
    "#    print(f\"Non-German Female: {non_german_female_pct:.2f}%\\n\")\n",
    "#\n",
    "## Calculate for each DataFrame\n",
    "#calculate_percentages(siab_calib, \"siab_calib\")\n",
    "#calculate_percentages(siab_test, \"siab_test\")\n",
    "#calculate_percentages(siab_train, \"siab_train\")"
   ]
  },
  {
   "cell_type": "markdown",
   "id": "0a4a1b33",
   "metadata": {
    "papermill": {
     "duration": 0.024642,
     "end_time": "2025-07-30T21:12:22.660282",
     "exception": false,
     "start_time": "2025-07-30T21:12:22.635640",
     "status": "completed"
    },
    "tags": []
   },
   "source": [
    "# Preprocessing Data"
   ]
  },
  {
   "cell_type": "code",
   "execution_count": 29,
   "id": "ca879031",
   "metadata": {
    "execution": {
     "iopub.execute_input": "2025-07-30T21:12:22.705504Z",
     "iopub.status.busy": "2025-07-30T21:12:22.705010Z",
     "iopub.status.idle": "2025-07-30T21:12:22.711488Z",
     "shell.execute_reply": "2025-07-30T21:12:22.710379Z"
    },
    "papermill": {
     "duration": 0.033289,
     "end_time": "2025-07-30T21:12:22.713382",
     "exception": false,
     "start_time": "2025-07-30T21:12:22.680093",
     "status": "completed"
    },
    "tags": []
   },
   "outputs": [],
   "source": [
    "# EXCLUDE PROTECTED FEATURES\n",
    "# ----------------------\n",
    "# \"exclude_features\": \"none\", # \"nationality\", \"sex\", \"nationality-sex\"\n",
    "\n",
    "excluded_features = universe[\"exclude_features\"].split(\"-\") # split, e.g.: \"nationality-sex\" -> [\"nationality\", \"sex\"]\n",
    "excluded_features_dictionary = {\n",
    "    \"nationality\": [\"maxdeutsch1\", \"maxdeutsch.Missing.\"],\n",
    "    \"sex\": [\"frau1\"],\n",
    "    \"age\": [\"age\"],\n",
    "}\n"
   ]
  },
  {
   "cell_type": "code",
   "execution_count": 30,
   "id": "b745ac60",
   "metadata": {
    "execution": {
     "iopub.execute_input": "2025-07-30T21:12:22.758788Z",
     "iopub.status.busy": "2025-07-30T21:12:22.758277Z",
     "iopub.status.idle": "2025-07-30T21:12:22.764376Z",
     "shell.execute_reply": "2025-07-30T21:12:22.763351Z"
    },
    "papermill": {
     "duration": 0.028847,
     "end_time": "2025-07-30T21:12:22.766210",
     "exception": false,
     "start_time": "2025-07-30T21:12:22.737363",
     "status": "completed"
    },
    "tags": []
   },
   "outputs": [],
   "source": [
    "# Code nice names to column names\n",
    "\n",
    "excluded_features_columns = [\n",
    "    excluded_features_dictionary[f] for f in excluded_features if len(f) > 0 and f != \"none\"\n",
    "]"
   ]
  },
  {
   "cell_type": "code",
   "execution_count": 31,
   "id": "f84f73a2",
   "metadata": {
    "execution": {
     "iopub.execute_input": "2025-07-30T21:12:22.812455Z",
     "iopub.status.busy": "2025-07-30T21:12:22.811569Z",
     "iopub.status.idle": "2025-07-30T21:12:22.818700Z",
     "shell.execute_reply": "2025-07-30T21:12:22.817526Z"
    },
    "papermill": {
     "duration": 0.029738,
     "end_time": "2025-07-30T21:12:22.820541",
     "exception": false,
     "start_time": "2025-07-30T21:12:22.790803",
     "status": "completed"
    },
    "tags": []
   },
   "outputs": [],
   "source": [
    "from utils import flatten_once\n",
    "\n",
    "excluded_features_columns = flatten_once(excluded_features_columns)"
   ]
  },
  {
   "cell_type": "code",
   "execution_count": 32,
   "id": "884dea22",
   "metadata": {
    "execution": {
     "iopub.execute_input": "2025-07-30T21:12:22.872905Z",
     "iopub.status.busy": "2025-07-30T21:12:22.872370Z",
     "iopub.status.idle": "2025-07-30T21:12:22.881968Z",
     "shell.execute_reply": "2025-07-30T21:12:22.880825Z"
    },
    "papermill": {
     "duration": 0.038017,
     "end_time": "2025-07-30T21:12:22.883586",
     "exception": false,
     "start_time": "2025-07-30T21:12:22.845569",
     "status": "completed"
    },
    "tags": []
   },
   "outputs": [
    {
     "name": "stdout",
     "output_type": "stream",
     "text": [
      "Dropping features: ['frau1']\n"
     ]
    }
   ],
   "source": [
    "if len(excluded_features_columns) > 0:\n",
    "    print(f\"Dropping features: {excluded_features_columns}\")\n",
    "    X_train.drop(excluded_features_columns, axis=1, inplace=True)"
   ]
  },
  {
   "cell_type": "code",
   "execution_count": 33,
   "id": "95ab8b16",
   "metadata": {
    "execution": {
     "iopub.execute_input": "2025-07-30T21:12:22.935569Z",
     "iopub.status.busy": "2025-07-30T21:12:22.934832Z",
     "iopub.status.idle": "2025-07-30T21:12:22.989076Z",
     "shell.execute_reply": "2025-07-30T21:12:22.988100Z"
    },
    "papermill": {
     "duration": 0.082073,
     "end_time": "2025-07-30T21:12:22.990981",
     "exception": false,
     "start_time": "2025-07-30T21:12:22.908908",
     "status": "completed"
    },
    "tags": []
   },
   "outputs": [
    {
     "name": "stdout",
     "output_type": "stream",
     "text": [
      "Dropping features: ['frau1']\n"
     ]
    }
   ],
   "source": [
    "if len(excluded_features_columns) > 0:\n",
    "    print(f\"Dropping features: {excluded_features_columns}\")\n",
    "    X_test.drop(excluded_features_columns, axis=1, inplace=True)"
   ]
  },
  {
   "cell_type": "code",
   "execution_count": 34,
   "id": "1853aaf5-fb9f-46cb-a2b5-8ea4ae2237e4",
   "metadata": {
    "execution": {
     "iopub.execute_input": "2025-07-30T21:12:23.043834Z",
     "iopub.status.busy": "2025-07-30T21:12:23.043416Z",
     "iopub.status.idle": "2025-07-30T21:12:23.099107Z",
     "shell.execute_reply": "2025-07-30T21:12:23.098060Z"
    },
    "papermill": {
     "duration": 0.084373,
     "end_time": "2025-07-30T21:12:23.100917",
     "exception": false,
     "start_time": "2025-07-30T21:12:23.016544",
     "status": "completed"
    },
    "tags": []
   },
   "outputs": [
    {
     "name": "stdout",
     "output_type": "stream",
     "text": [
      "Dropping features: ['frau1']\n"
     ]
    }
   ],
   "source": [
    "if len(excluded_features_columns) > 0:\n",
    "    print(f\"Dropping features: {excluded_features_columns}\")\n",
    "    X_calib.drop(excluded_features_columns, axis=1, inplace=True)"
   ]
  },
  {
   "cell_type": "code",
   "execution_count": 35,
   "id": "6727d079-03e5-481e-9d38-292a90b7a0a8",
   "metadata": {
    "execution": {
     "iopub.execute_input": "2025-07-30T21:12:23.154619Z",
     "iopub.status.busy": "2025-07-30T21:12:23.154080Z",
     "iopub.status.idle": "2025-07-30T21:12:23.159841Z",
     "shell.execute_reply": "2025-07-30T21:12:23.158767Z"
    },
    "papermill": {
     "duration": 0.034984,
     "end_time": "2025-07-30T21:12:23.161754",
     "exception": false,
     "start_time": "2025-07-30T21:12:23.126770",
     "status": "completed"
    },
    "tags": []
   },
   "outputs": [],
   "source": [
    "# SPLIT & STRATIFY DATA\n",
    "# ----------------------"
   ]
  },
  {
   "cell_type": "code",
   "execution_count": 36,
   "id": "76c4dc6d",
   "metadata": {
    "execution": {
     "iopub.execute_input": "2025-07-30T21:12:23.216993Z",
     "iopub.status.busy": "2025-07-30T21:12:23.216444Z",
     "iopub.status.idle": "2025-07-30T21:12:23.222587Z",
     "shell.execute_reply": "2025-07-30T21:12:23.221383Z"
    },
    "papermill": {
     "duration": 0.03635,
     "end_time": "2025-07-30T21:12:23.224613",
     "exception": false,
     "start_time": "2025-07-30T21:12:23.188263",
     "status": "completed"
    },
    "tags": []
   },
   "outputs": [],
   "source": [
    "# EXCLUDE CERTAIN SUBGROUPS\n",
    "# ----------------------\n",
    "\n",
    "mode = universe.get(\"exclude_subgroups\", \"keep-all\") \n",
    "# Fetches the exclude_subgroups setting from the universe dict.\n",
    "# Defaults to \"keep-all\" if the key is missing."
   ]
  },
  {
   "cell_type": "code",
   "execution_count": 37,
   "id": "21994072",
   "metadata": {
    "execution": {
     "iopub.execute_input": "2025-07-30T21:12:23.276209Z",
     "iopub.status.busy": "2025-07-30T21:12:23.275678Z",
     "iopub.status.idle": "2025-07-30T21:12:23.283266Z",
     "shell.execute_reply": "2025-07-30T21:12:23.282186Z"
    },
    "papermill": {
     "duration": 0.034467,
     "end_time": "2025-07-30T21:12:23.285269",
     "exception": false,
     "start_time": "2025-07-30T21:12:23.250802",
     "status": "completed"
    },
    "tags": []
   },
   "outputs": [],
   "source": [
    "if mode == \"keep-all\":\n",
    "    keep_mask = pd.Series(True, index=org_train.index)\n",
    "\n",
    "# org_train contains the original feature columns from features_org (in Simson)\n",
    "# features_org contains unprocessed features, for me X_train at beginning ???\n",
    "# For keep-all, creates a boolean Series (keep_mask) of all True, so no rows are removed.\n",
    "\n",
    "elif mode == \"drop-non-german\":\n",
    "    keep_mask = org_train[\"maxdeutsch1\"] == 1 # ??? what about missing values?\n",
    "\n",
    "else:\n",
    "    raise ValueError(f\"Unsupported mode for exclude_subgroups: {mode}\")\n"
   ]
  },
  {
   "cell_type": "code",
   "execution_count": 38,
   "id": "71651440",
   "metadata": {
    "execution": {
     "iopub.execute_input": "2025-07-30T21:12:23.337223Z",
     "iopub.status.busy": "2025-07-30T21:12:23.336150Z",
     "iopub.status.idle": "2025-07-30T21:12:23.345257Z",
     "shell.execute_reply": "2025-07-30T21:12:23.344097Z"
    },
    "papermill": {
     "duration": 0.036945,
     "end_time": "2025-07-30T21:12:23.347065",
     "exception": false,
     "start_time": "2025-07-30T21:12:23.310120",
     "status": "completed"
    },
    "tags": []
   },
   "outputs": [
    {
     "name": "stdout",
     "output_type": "stream",
     "text": [
      "Dropping 657 rows (13.14%) where mode='drop-non-german'\n"
     ]
    }
   ],
   "source": [
    "n_drop = (~keep_mask).sum() # Calculates how many rows are set to be dropped\n",
    "if n_drop > 0:\n",
    "    pct = n_drop / len(keep_mask) * 100\n",
    "    print(f\"Dropping {n_drop} rows ({pct:.2f}%) where mode='{mode}'\")"
   ]
  },
  {
   "cell_type": "code",
   "execution_count": 39,
   "id": "5fb8eee5",
   "metadata": {
    "execution": {
     "iopub.execute_input": "2025-07-30T21:12:23.384191Z",
     "iopub.status.busy": "2025-07-30T21:12:23.383570Z",
     "iopub.status.idle": "2025-07-30T21:12:23.390429Z",
     "shell.execute_reply": "2025-07-30T21:12:23.389519Z"
    },
    "papermill": {
     "duration": 0.022459,
     "end_time": "2025-07-30T21:12:23.392371",
     "exception": false,
     "start_time": "2025-07-30T21:12:23.369912",
     "status": "completed"
    },
    "tags": []
   },
   "outputs": [],
   "source": [
    "X_train = X_train[keep_mask]"
   ]
  },
  {
   "cell_type": "code",
   "execution_count": 40,
   "id": "b202bb3a",
   "metadata": {
    "execution": {
     "iopub.execute_input": "2025-07-30T21:12:23.433869Z",
     "iopub.status.busy": "2025-07-30T21:12:23.433439Z",
     "iopub.status.idle": "2025-07-30T21:12:23.438401Z",
     "shell.execute_reply": "2025-07-30T21:12:23.437624Z"
    },
    "papermill": {
     "duration": 0.022769,
     "end_time": "2025-07-30T21:12:23.439757",
     "exception": false,
     "start_time": "2025-07-30T21:12:23.416988",
     "status": "completed"
    },
    "tags": []
   },
   "outputs": [],
   "source": [
    "y_train = y_train[keep_mask]"
   ]
  },
  {
   "cell_type": "markdown",
   "id": "493e2ac3",
   "metadata": {
    "papermill": {
     "duration": 0.013144,
     "end_time": "2025-07-30T21:12:23.467204",
     "exception": false,
     "start_time": "2025-07-30T21:12:23.454060",
     "status": "completed"
    },
    "tags": []
   },
   "source": [
    "# Model Training"
   ]
  },
  {
   "cell_type": "code",
   "execution_count": 41,
   "id": "679e1268",
   "metadata": {
    "execution": {
     "iopub.execute_input": "2025-07-30T21:12:23.519088Z",
     "iopub.status.busy": "2025-07-30T21:12:23.518536Z",
     "iopub.status.idle": "2025-07-30T21:12:23.632323Z",
     "shell.execute_reply": "2025-07-30T21:12:23.630986Z"
    },
    "papermill": {
     "duration": 0.141965,
     "end_time": "2025-07-30T21:12:23.634436",
     "exception": false,
     "start_time": "2025-07-30T21:12:23.492471",
     "status": "completed"
    },
    "tags": []
   },
   "outputs": [],
   "source": [
    "from sklearn.linear_model import LogisticRegression\n",
    "from sklearn.ensemble import GradientBoostingClassifier, RandomForestClassifier\n",
    "\n",
    "if (universe[\"model\"] == \"logreg\"):\n",
    "    model = LogisticRegression() #penalty=\"none\") #, solver=\"newton-cg\", max_iter=1) # include random_state=19 ?\n",
    "elif (universe[\"model\"] == \"penalized_logreg\"):\n",
    "    model = LogisticRegression(penalty=\"l2\", C=1.0) #, solver=\"newton-cg\", max_iter=1)\n",
    "elif (universe[\"model\"] == \"rf\"):\n",
    "    model = RandomForestClassifier(n_estimators=100, n_jobs=-1)\n",
    "elif (universe[\"model\"] == \"gbm\"):\n",
    "    model = GradientBoostingClassifier()\n",
    "elif (universe[\"model\"] == \"elasticnet\"):\n",
    "    model = LogisticRegression(penalty = 'elasticnet', solver = 'saga', l1_ratio = 0.5, max_iter=5000) # which solver to use?\n",
    "else:\n",
    "    raise \"Unsupported universe.model\""
   ]
  },
  {
   "cell_type": "code",
   "execution_count": 42,
   "id": "0cc8f744",
   "metadata": {
    "execution": {
     "iopub.execute_input": "2025-07-30T21:12:23.688003Z",
     "iopub.status.busy": "2025-07-30T21:12:23.687541Z",
     "iopub.status.idle": "2025-07-30T21:12:23.694394Z",
     "shell.execute_reply": "2025-07-30T21:12:23.693274Z"
    },
    "papermill": {
     "duration": 0.03589,
     "end_time": "2025-07-30T21:12:23.696176",
     "exception": false,
     "start_time": "2025-07-30T21:12:23.660286",
     "status": "completed"
    },
    "tags": []
   },
   "outputs": [],
   "source": [
    "import numpy as np\n",
    "from sklearn.pipeline import Pipeline\n",
    "from sklearn.preprocessing import StandardScaler\n",
    "\n",
    "model = Pipeline([\n",
    "    #(\"continuous_processor\", continuous_processor),\n",
    "    #(\"categorical_preprocessor\", categorical_preprocessor),\n",
    "    (\"scale\", StandardScaler() if universe[\"scale\"] == \"scale\" else None), \n",
    "    (\"model\", model),\n",
    "])"
   ]
  },
  {
   "cell_type": "code",
   "execution_count": 43,
   "id": "9442c04d",
   "metadata": {
    "execution": {
     "iopub.execute_input": "2025-07-30T21:12:23.745405Z",
     "iopub.status.busy": "2025-07-30T21:12:23.744908Z",
     "iopub.status.idle": "2025-07-30T21:12:24.569253Z",
     "shell.execute_reply": "2025-07-30T21:12:24.568572Z"
    },
    "papermill": {
     "duration": 0.851567,
     "end_time": "2025-07-30T21:12:24.570634",
     "exception": false,
     "start_time": "2025-07-30T21:12:23.719067",
     "status": "completed"
    },
    "tags": []
   },
   "outputs": [
    {
     "data": {
      "text/html": [
       "<style>#sk-container-id-1 {color: black;background-color: white;}#sk-container-id-1 pre{padding: 0;}#sk-container-id-1 div.sk-toggleable {background-color: white;}#sk-container-id-1 label.sk-toggleable__label {cursor: pointer;display: block;width: 100%;margin-bottom: 0;padding: 0.3em;box-sizing: border-box;text-align: center;}#sk-container-id-1 label.sk-toggleable__label-arrow:before {content: \"▸\";float: left;margin-right: 0.25em;color: #696969;}#sk-container-id-1 label.sk-toggleable__label-arrow:hover:before {color: black;}#sk-container-id-1 div.sk-estimator:hover label.sk-toggleable__label-arrow:before {color: black;}#sk-container-id-1 div.sk-toggleable__content {max-height: 0;max-width: 0;overflow: hidden;text-align: left;background-color: #f0f8ff;}#sk-container-id-1 div.sk-toggleable__content pre {margin: 0.2em;color: black;border-radius: 0.25em;background-color: #f0f8ff;}#sk-container-id-1 input.sk-toggleable__control:checked~div.sk-toggleable__content {max-height: 200px;max-width: 100%;overflow: auto;}#sk-container-id-1 input.sk-toggleable__control:checked~label.sk-toggleable__label-arrow:before {content: \"▾\";}#sk-container-id-1 div.sk-estimator input.sk-toggleable__control:checked~label.sk-toggleable__label {background-color: #d4ebff;}#sk-container-id-1 div.sk-label input.sk-toggleable__control:checked~label.sk-toggleable__label {background-color: #d4ebff;}#sk-container-id-1 input.sk-hidden--visually {border: 0;clip: rect(1px 1px 1px 1px);clip: rect(1px, 1px, 1px, 1px);height: 1px;margin: -1px;overflow: hidden;padding: 0;position: absolute;width: 1px;}#sk-container-id-1 div.sk-estimator {font-family: monospace;background-color: #f0f8ff;border: 1px dotted black;border-radius: 0.25em;box-sizing: border-box;margin-bottom: 0.5em;}#sk-container-id-1 div.sk-estimator:hover {background-color: #d4ebff;}#sk-container-id-1 div.sk-parallel-item::after {content: \"\";width: 100%;border-bottom: 1px solid gray;flex-grow: 1;}#sk-container-id-1 div.sk-label:hover label.sk-toggleable__label {background-color: #d4ebff;}#sk-container-id-1 div.sk-serial::before {content: \"\";position: absolute;border-left: 1px solid gray;box-sizing: border-box;top: 0;bottom: 0;left: 50%;z-index: 0;}#sk-container-id-1 div.sk-serial {display: flex;flex-direction: column;align-items: center;background-color: white;padding-right: 0.2em;padding-left: 0.2em;position: relative;}#sk-container-id-1 div.sk-item {position: relative;z-index: 1;}#sk-container-id-1 div.sk-parallel {display: flex;align-items: stretch;justify-content: center;background-color: white;position: relative;}#sk-container-id-1 div.sk-item::before, #sk-container-id-1 div.sk-parallel-item::before {content: \"\";position: absolute;border-left: 1px solid gray;box-sizing: border-box;top: 0;bottom: 0;left: 50%;z-index: -1;}#sk-container-id-1 div.sk-parallel-item {display: flex;flex-direction: column;z-index: 1;position: relative;background-color: white;}#sk-container-id-1 div.sk-parallel-item:first-child::after {align-self: flex-end;width: 50%;}#sk-container-id-1 div.sk-parallel-item:last-child::after {align-self: flex-start;width: 50%;}#sk-container-id-1 div.sk-parallel-item:only-child::after {width: 0;}#sk-container-id-1 div.sk-dashed-wrapped {border: 1px dashed gray;margin: 0 0.4em 0.5em 0.4em;box-sizing: border-box;padding-bottom: 0.4em;background-color: white;}#sk-container-id-1 div.sk-label label {font-family: monospace;font-weight: bold;display: inline-block;line-height: 1.2em;}#sk-container-id-1 div.sk-label-container {text-align: center;}#sk-container-id-1 div.sk-container {/* jupyter's `normalize.less` sets `[hidden] { display: none; }` but bootstrap.min.css set `[hidden] { display: none !important; }` so we also need the `!important` here to be able to override the default hidden behavior on the sphinx rendered scikit-learn.org. See: https://github.com/scikit-learn/scikit-learn/issues/21755 */display: inline-block !important;position: relative;}#sk-container-id-1 div.sk-text-repr-fallback {display: none;}</style><div id=\"sk-container-id-1\" class=\"sk-top-container\"><div class=\"sk-text-repr-fallback\"><pre>Pipeline(steps=[(&#x27;scale&#x27;, StandardScaler()),\n",
       "                (&#x27;model&#x27;, RandomForestClassifier(n_jobs=-1))])</pre><b>In a Jupyter environment, please rerun this cell to show the HTML representation or trust the notebook. <br />On GitHub, the HTML representation is unable to render, please try loading this page with nbviewer.org.</b></div><div class=\"sk-container\" hidden><div class=\"sk-item sk-dashed-wrapped\"><div class=\"sk-label-container\"><div class=\"sk-label sk-toggleable\"><input class=\"sk-toggleable__control sk-hidden--visually\" id=\"sk-estimator-id-1\" type=\"checkbox\" ><label for=\"sk-estimator-id-1\" class=\"sk-toggleable__label sk-toggleable__label-arrow\">Pipeline</label><div class=\"sk-toggleable__content\"><pre>Pipeline(steps=[(&#x27;scale&#x27;, StandardScaler()),\n",
       "                (&#x27;model&#x27;, RandomForestClassifier(n_jobs=-1))])</pre></div></div></div><div class=\"sk-serial\"><div class=\"sk-item\"><div class=\"sk-estimator sk-toggleable\"><input class=\"sk-toggleable__control sk-hidden--visually\" id=\"sk-estimator-id-2\" type=\"checkbox\" ><label for=\"sk-estimator-id-2\" class=\"sk-toggleable__label sk-toggleable__label-arrow\">StandardScaler</label><div class=\"sk-toggleable__content\"><pre>StandardScaler()</pre></div></div></div><div class=\"sk-item\"><div class=\"sk-estimator sk-toggleable\"><input class=\"sk-toggleable__control sk-hidden--visually\" id=\"sk-estimator-id-3\" type=\"checkbox\" ><label for=\"sk-estimator-id-3\" class=\"sk-toggleable__label sk-toggleable__label-arrow\">RandomForestClassifier</label><div class=\"sk-toggleable__content\"><pre>RandomForestClassifier(n_jobs=-1)</pre></div></div></div></div></div></div></div>"
      ],
      "text/plain": [
       "Pipeline(steps=[('scale', StandardScaler()),\n",
       "                ('model', RandomForestClassifier(n_jobs=-1))])"
      ]
     },
     "execution_count": 43,
     "metadata": {},
     "output_type": "execute_result"
    }
   ],
   "source": [
    "model.fit(X_train, y_train.values.ravel())"
   ]
  },
  {
   "cell_type": "code",
   "execution_count": 44,
   "id": "af59f8c0",
   "metadata": {
    "execution": {
     "iopub.execute_input": "2025-07-30T21:12:24.599811Z",
     "iopub.status.busy": "2025-07-30T21:12:24.599256Z",
     "iopub.status.idle": "2025-07-30T21:12:24.603810Z",
     "shell.execute_reply": "2025-07-30T21:12:24.603037Z"
    },
    "papermill": {
     "duration": 0.020835,
     "end_time": "2025-07-30T21:12:24.605126",
     "exception": false,
     "start_time": "2025-07-30T21:12:24.584291",
     "status": "completed"
    },
    "tags": []
   },
   "outputs": [],
   "source": [
    "from fairness_multiverse.universe import predict_w_threshold"
   ]
  },
  {
   "cell_type": "code",
   "execution_count": 45,
   "id": "a7cf2e16",
   "metadata": {
    "execution": {
     "iopub.execute_input": "2025-07-30T21:12:24.631257Z",
     "iopub.status.busy": "2025-07-30T21:12:24.630122Z",
     "iopub.status.idle": "2025-07-30T21:12:25.717969Z",
     "shell.execute_reply": "2025-07-30T21:12:25.716893Z"
    },
    "papermill": {
     "duration": 1.10169,
     "end_time": "2025-07-30T21:12:25.719661",
     "exception": false,
     "start_time": "2025-07-30T21:12:24.617971",
     "status": "completed"
    },
    "tags": []
   },
   "outputs": [
    {
     "data": {
      "text/plain": [
       "0.8609519563036451"
      ]
     },
     "execution_count": 45,
     "metadata": {},
     "output_type": "execute_result"
    }
   ],
   "source": [
    "probs_test = model.predict_proba(X_test)\n",
    "\n",
    "'''\n",
    "Below code returns a boolean array (or binary 0/1 array depending on how it’s used) where each element \n",
    "is True if the probability of class 1 is greater than or equal to the threshold, and False otherwise.\n",
    "'''\n",
    "y_pred_default = predict_w_threshold(probs_test, 0.5)\n",
    "\n",
    "from sklearn.metrics import accuracy_score\n",
    "\n",
    "# Naive prediction\n",
    "accuracy_score(y_true = y_true, y_pred = y_pred_default)"
   ]
  },
  {
   "cell_type": "code",
   "execution_count": 46,
   "id": "081964c3",
   "metadata": {
    "execution": {
     "iopub.execute_input": "2025-07-30T21:12:25.762582Z",
     "iopub.status.busy": "2025-07-30T21:12:25.762198Z",
     "iopub.status.idle": "2025-07-30T21:12:26.645646Z",
     "shell.execute_reply": "2025-07-30T21:12:26.644609Z"
    },
    "papermill": {
     "duration": 0.899872,
     "end_time": "2025-07-30T21:12:26.647235",
     "exception": false,
     "start_time": "2025-07-30T21:12:25.747363",
     "status": "completed"
    },
    "tags": []
   },
   "outputs": [
    {
     "data": {
      "text/plain": [
       "array([0, 0, 0, ..., 0, 0, 0])"
      ]
     },
     "execution_count": 46,
     "metadata": {},
     "output_type": "execute_result"
    }
   ],
   "source": [
    "model.predict(X_test)"
   ]
  },
  {
   "cell_type": "markdown",
   "id": "56c9705b",
   "metadata": {
    "papermill": {
     "duration": 0.023696,
     "end_time": "2025-07-30T21:12:26.693547",
     "exception": false,
     "start_time": "2025-07-30T21:12:26.669851",
     "status": "completed"
    },
    "tags": []
   },
   "source": [
    "# Conformal Prediction"
   ]
  },
  {
   "cell_type": "code",
   "execution_count": 47,
   "id": "160ec6ff",
   "metadata": {
    "execution": {
     "iopub.execute_input": "2025-07-30T21:12:26.739538Z",
     "iopub.status.busy": "2025-07-30T21:12:26.738652Z",
     "iopub.status.idle": "2025-07-30T21:12:26.744450Z",
     "shell.execute_reply": "2025-07-30T21:12:26.743402Z"
    },
    "papermill": {
     "duration": 0.031072,
     "end_time": "2025-07-30T21:12:26.746578",
     "exception": false,
     "start_time": "2025-07-30T21:12:26.715506",
     "status": "completed"
    },
    "tags": []
   },
   "outputs": [],
   "source": [
    "# Miscoverage level for conformal prediction (10% allowed error rate => 90% target coverage)\n",
    "alpha = 0.1"
   ]
  },
  {
   "cell_type": "code",
   "execution_count": 48,
   "id": "eadf4555-3dd3-440e-8e35-f82a4ad9f855",
   "metadata": {
    "execution": {
     "iopub.execute_input": "2025-07-30T21:12:26.795671Z",
     "iopub.status.busy": "2025-07-30T21:12:26.795032Z",
     "iopub.status.idle": "2025-07-30T21:12:27.722753Z",
     "shell.execute_reply": "2025-07-30T21:12:27.721618Z"
    },
    "papermill": {
     "duration": 0.954818,
     "end_time": "2025-07-30T21:12:27.724951",
     "exception": false,
     "start_time": "2025-07-30T21:12:26.770133",
     "status": "completed"
    },
    "tags": []
   },
   "outputs": [],
   "source": [
    "probs_calib = model.predict_proba(X_calib)"
   ]
  },
  {
   "cell_type": "code",
   "execution_count": 49,
   "id": "2ed93547-6d5d-4983-9b36-1ecb300da49a",
   "metadata": {
    "execution": {
     "iopub.execute_input": "2025-07-30T21:12:27.753062Z",
     "iopub.status.busy": "2025-07-30T21:12:27.752728Z",
     "iopub.status.idle": "2025-07-30T21:12:27.757783Z",
     "shell.execute_reply": "2025-07-30T21:12:27.756979Z"
    },
    "papermill": {
     "duration": 0.019311,
     "end_time": "2025-07-30T21:12:27.759114",
     "exception": false,
     "start_time": "2025-07-30T21:12:27.739803",
     "status": "completed"
    },
    "tags": []
   },
   "outputs": [],
   "source": [
    "y_calib = y_calib.values.ravel().astype(int)"
   ]
  },
  {
   "cell_type": "code",
   "execution_count": 50,
   "id": "65d1320d-f588-4b38-9072-62af1ae97f7d",
   "metadata": {
    "execution": {
     "iopub.execute_input": "2025-07-30T21:12:27.790651Z",
     "iopub.status.busy": "2025-07-30T21:12:27.790277Z",
     "iopub.status.idle": "2025-07-30T21:12:27.796498Z",
     "shell.execute_reply": "2025-07-30T21:12:27.795643Z"
    },
    "papermill": {
     "duration": 0.025142,
     "end_time": "2025-07-30T21:12:27.797942",
     "exception": false,
     "start_time": "2025-07-30T21:12:27.772800",
     "status": "completed"
    },
    "tags": []
   },
   "outputs": [],
   "source": [
    "from fairness_multiverse.conformal import compute_nc_scores\n",
    "\n",
    "# Compute nonconformity scores on calibration set (1 - probability of true class)\n",
    "nc_scores = compute_nc_scores(probs_calib, y_calib)"
   ]
  },
  {
   "cell_type": "code",
   "execution_count": 51,
   "id": "df3b8ca3-53b7-43d5-9667-7c85da7aeda2",
   "metadata": {
    "execution": {
     "iopub.execute_input": "2025-07-30T21:12:27.824774Z",
     "iopub.status.busy": "2025-07-30T21:12:27.824376Z",
     "iopub.status.idle": "2025-07-30T21:12:27.830739Z",
     "shell.execute_reply": "2025-07-30T21:12:27.829212Z"
    },
    "papermill": {
     "duration": 0.021817,
     "end_time": "2025-07-30T21:12:27.833086",
     "exception": false,
     "start_time": "2025-07-30T21:12:27.811269",
     "status": "completed"
    },
    "tags": []
   },
   "outputs": [],
   "source": [
    "from fairness_multiverse.conformal import find_threshold\n",
    "\n",
    "# Find conformal threshold q_hat for the given alpha (split conformal method)\n",
    "q_hat = find_threshold(nc_scores, alpha)"
   ]
  },
  {
   "cell_type": "code",
   "execution_count": 52,
   "id": "4d29e6c1-0ef6-4aa4-b8fe-4fe79b0d033a",
   "metadata": {
    "execution": {
     "iopub.execute_input": "2025-07-30T21:12:27.863238Z",
     "iopub.status.busy": "2025-07-30T21:12:27.862487Z",
     "iopub.status.idle": "2025-07-30T21:12:27.868945Z",
     "shell.execute_reply": "2025-07-30T21:12:27.868117Z"
    },
    "papermill": {
     "duration": 0.021579,
     "end_time": "2025-07-30T21:12:27.870290",
     "exception": false,
     "start_time": "2025-07-30T21:12:27.848711",
     "status": "completed"
    },
    "tags": []
   },
   "outputs": [
    {
     "data": {
      "text/plain": [
       "0.6599999999999999"
      ]
     },
     "execution_count": 52,
     "metadata": {},
     "output_type": "execute_result"
    }
   ],
   "source": [
    "q_hat"
   ]
  },
  {
   "cell_type": "code",
   "execution_count": 53,
   "id": "92460794-cdac-4be2-ba28-f28c0515a6fb",
   "metadata": {
    "execution": {
     "iopub.execute_input": "2025-07-30T21:12:27.902163Z",
     "iopub.status.busy": "2025-07-30T21:12:27.901358Z",
     "iopub.status.idle": "2025-07-30T21:12:29.598927Z",
     "shell.execute_reply": "2025-07-30T21:12:29.598076Z"
    },
    "papermill": {
     "duration": 1.716783,
     "end_time": "2025-07-30T21:12:29.600883",
     "exception": false,
     "start_time": "2025-07-30T21:12:27.884100",
     "status": "completed"
    },
    "tags": []
   },
   "outputs": [],
   "source": [
    "from fairness_multiverse.conformal import predict_conformal_sets\n",
    "\n",
    "# Generate prediction sets for each test example\n",
    "pred_sets = predict_conformal_sets(model, X_test, q_hat)"
   ]
  },
  {
   "cell_type": "code",
   "execution_count": 54,
   "id": "d90c9a65-e6db-4f5d-80cd-e68fb7e46829",
   "metadata": {
    "execution": {
     "iopub.execute_input": "2025-07-30T21:12:29.655976Z",
     "iopub.status.busy": "2025-07-30T21:12:29.655468Z",
     "iopub.status.idle": "2025-07-30T21:12:29.661479Z",
     "shell.execute_reply": "2025-07-30T21:12:29.660507Z"
    },
    "papermill": {
     "duration": 0.034314,
     "end_time": "2025-07-30T21:12:29.663230",
     "exception": false,
     "start_time": "2025-07-30T21:12:29.628916",
     "status": "completed"
    },
    "tags": []
   },
   "outputs": [],
   "source": [
    "y_true = y_true.squeeze()"
   ]
  },
  {
   "cell_type": "code",
   "execution_count": 55,
   "id": "3a58a54a-1e68-46b9-927a-df01f18aebc8",
   "metadata": {
    "execution": {
     "iopub.execute_input": "2025-07-30T21:12:29.698181Z",
     "iopub.status.busy": "2025-07-30T21:12:29.697836Z",
     "iopub.status.idle": "2025-07-30T21:12:30.651796Z",
     "shell.execute_reply": "2025-07-30T21:12:30.650797Z"
    },
    "papermill": {
     "duration": 0.969146,
     "end_time": "2025-07-30T21:12:30.653279",
     "exception": false,
     "start_time": "2025-07-30T21:12:29.684133",
     "status": "completed"
    },
    "tags": []
   },
   "outputs": [],
   "source": [
    "from fairness_multiverse.conformal import evaluate_sets\n",
    "\n",
    "# Evaluate coverage and average set size on test data\n",
    "metrics = evaluate_sets(pred_sets, y_true)"
   ]
  },
  {
   "cell_type": "markdown",
   "id": "2b569c12-9aaa-4c88-98c9-bbcd0cf3ebb8",
   "metadata": {
    "papermill": {
     "duration": 0.023817,
     "end_time": "2025-07-30T21:12:30.702775",
     "exception": false,
     "start_time": "2025-07-30T21:12:30.678958",
     "status": "completed"
    },
    "tags": []
   },
   "source": [
    "# CP Metrics"
   ]
  },
  {
   "cell_type": "code",
   "execution_count": 56,
   "id": "5ce0a5cb-201f-45a0-ade5-94c7f0bd6095",
   "metadata": {
    "execution": {
     "iopub.execute_input": "2025-07-30T21:12:30.755822Z",
     "iopub.status.busy": "2025-07-30T21:12:30.755362Z",
     "iopub.status.idle": "2025-07-30T21:12:30.763766Z",
     "shell.execute_reply": "2025-07-30T21:12:30.762681Z"
    },
    "papermill": {
     "duration": 0.036387,
     "end_time": "2025-07-30T21:12:30.765383",
     "exception": false,
     "start_time": "2025-07-30T21:12:30.728996",
     "status": "completed"
    },
    "tags": []
   },
   "outputs": [
    {
     "data": {
      "text/plain": [
       "{'coverage': 0.9131089064764241, 'avg_size': 1.1468398171887193}"
      ]
     },
     "execution_count": 56,
     "metadata": {},
     "output_type": "execute_result"
    }
   ],
   "source": [
    "metrics"
   ]
  },
  {
   "cell_type": "code",
   "execution_count": 57,
   "id": "9b9a838d-31c9-430b-ae14-12baee460d17",
   "metadata": {
    "execution": {
     "iopub.execute_input": "2025-07-30T21:12:30.806757Z",
     "iopub.status.busy": "2025-07-30T21:12:30.806391Z",
     "iopub.status.idle": "2025-07-30T21:12:30.812161Z",
     "shell.execute_reply": "2025-07-30T21:12:30.811253Z"
    },
    "papermill": {
     "duration": 0.021582,
     "end_time": "2025-07-30T21:12:30.813604",
     "exception": false,
     "start_time": "2025-07-30T21:12:30.792022",
     "status": "completed"
    },
    "tags": []
   },
   "outputs": [],
   "source": [
    "example_universe = universe.copy()\n",
    "universe_training_year = example_universe.get(\"training_year\")\n",
    "universe_training_size = example_universe.get(\"training_size\")\n",
    "universe_scale = example_universe.get(\"scale\")\n",
    "universe_model = example_universe.get(\"model\")\n",
    "universe_exclude_features = example_universe.get(\"exclude_features\")\n",
    "universe_exclude_subgroups = example_universe.get(\"exclude_subgroups\")"
   ]
  },
  {
   "cell_type": "code",
   "execution_count": 58,
   "id": "f4b6a8ac-9dc0-4245-8a91-5b3b5999c4f9",
   "metadata": {
    "execution": {
     "iopub.execute_input": "2025-07-30T21:12:30.843195Z",
     "iopub.status.busy": "2025-07-30T21:12:30.842691Z",
     "iopub.status.idle": "2025-07-30T21:12:30.848289Z",
     "shell.execute_reply": "2025-07-30T21:12:30.847485Z"
    },
    "papermill": {
     "duration": 0.021632,
     "end_time": "2025-07-30T21:12:30.849754",
     "exception": false,
     "start_time": "2025-07-30T21:12:30.828122",
     "status": "completed"
    },
    "tags": []
   },
   "outputs": [],
   "source": [
    "cp_metrics_dict = {\n",
    "    \"universe_id\": [universe_id],\n",
    "    \"universe_training_year\": [universe_training_year],\n",
    "    \"universe_training_size\": [universe_training_size],\n",
    "    \"universe_scale\": [universe_scale],\n",
    "    \"universe_model\": [universe_model],\n",
    "    \"universe_exclude_features\": [universe_exclude_features],\n",
    "    \"universe_exclude_subgroups\": [universe_exclude_subgroups],\n",
    "    \"q_hat\": [q_hat],\n",
    "    \"coverage\": [metrics[\"coverage\"]],\n",
    "    \"avg_size\": [metrics[\"avg_size\"]],\n",
    "}"
   ]
  },
  {
   "cell_type": "code",
   "execution_count": 59,
   "id": "908acbb1-0371-4915-85ca-3fa520d2efe2",
   "metadata": {
    "execution": {
     "iopub.execute_input": "2025-07-30T21:12:30.880379Z",
     "iopub.status.busy": "2025-07-30T21:12:30.879827Z",
     "iopub.status.idle": "2025-07-30T21:12:30.886751Z",
     "shell.execute_reply": "2025-07-30T21:12:30.886003Z"
    },
    "papermill": {
     "duration": 0.023464,
     "end_time": "2025-07-30T21:12:30.888143",
     "exception": false,
     "start_time": "2025-07-30T21:12:30.864679",
     "status": "completed"
    },
    "tags": []
   },
   "outputs": [
    {
     "data": {
      "text/plain": [
       "{'universe_id': ['d9d31f3691c662ae24fa584160b023f1'],\n",
       " 'universe_training_year': ['2010_14'],\n",
       " 'universe_training_size': ['5k'],\n",
       " 'universe_scale': ['scale'],\n",
       " 'universe_model': ['rf'],\n",
       " 'universe_exclude_features': ['sex'],\n",
       " 'universe_exclude_subgroups': ['drop-non-german'],\n",
       " 'q_hat': [0.6599999999999999],\n",
       " 'coverage': [0.9131089064764241],\n",
       " 'avg_size': [1.1468398171887193]}"
      ]
     },
     "execution_count": 59,
     "metadata": {},
     "output_type": "execute_result"
    }
   ],
   "source": [
    "cp_metrics_dict"
   ]
  },
  {
   "cell_type": "code",
   "execution_count": 60,
   "id": "33007efc-14e9-4ec6-97ac-56a455c82265",
   "metadata": {
    "execution": {
     "iopub.execute_input": "2025-07-30T21:12:30.979037Z",
     "iopub.status.busy": "2025-07-30T21:12:30.978573Z",
     "iopub.status.idle": "2025-07-30T21:12:30.985676Z",
     "shell.execute_reply": "2025-07-30T21:12:30.984589Z"
    },
    "papermill": {
     "duration": 0.082502,
     "end_time": "2025-07-30T21:12:30.987398",
     "exception": false,
     "start_time": "2025-07-30T21:12:30.904896",
     "status": "completed"
    },
    "tags": []
   },
   "outputs": [],
   "source": [
    "cp_metrics_df = pd.DataFrame(cp_metrics_dict)"
   ]
  },
  {
   "cell_type": "code",
   "execution_count": 61,
   "id": "db12611b-57b2-4910-b9d0-355adfd6e7bf",
   "metadata": {
    "execution": {
     "iopub.execute_input": "2025-07-30T21:12:31.051787Z",
     "iopub.status.busy": "2025-07-30T21:12:31.051437Z",
     "iopub.status.idle": "2025-07-30T21:12:31.092670Z",
     "shell.execute_reply": "2025-07-30T21:12:31.076099Z"
    },
    "papermill": {
     "duration": 0.072113,
     "end_time": "2025-07-30T21:12:31.094732",
     "exception": false,
     "start_time": "2025-07-30T21:12:31.022619",
     "status": "completed"
    },
    "tags": []
   },
   "outputs": [
    {
     "data": {
      "text/html": [
       "<div>\n",
       "<style scoped>\n",
       "    .dataframe tbody tr th:only-of-type {\n",
       "        vertical-align: middle;\n",
       "    }\n",
       "\n",
       "    .dataframe tbody tr th {\n",
       "        vertical-align: top;\n",
       "    }\n",
       "\n",
       "    .dataframe thead th {\n",
       "        text-align: right;\n",
       "    }\n",
       "</style>\n",
       "<table border=\"1\" class=\"dataframe\">\n",
       "  <thead>\n",
       "    <tr style=\"text-align: right;\">\n",
       "      <th></th>\n",
       "      <th>universe_id</th>\n",
       "      <th>universe_training_year</th>\n",
       "      <th>universe_training_size</th>\n",
       "      <th>universe_scale</th>\n",
       "      <th>universe_model</th>\n",
       "      <th>universe_exclude_features</th>\n",
       "      <th>universe_exclude_subgroups</th>\n",
       "      <th>q_hat</th>\n",
       "      <th>coverage</th>\n",
       "      <th>avg_size</th>\n",
       "    </tr>\n",
       "  </thead>\n",
       "  <tbody>\n",
       "    <tr>\n",
       "      <th>0</th>\n",
       "      <td>d9d31f3691c662ae24fa584160b023f1</td>\n",
       "      <td>2010_14</td>\n",
       "      <td>5k</td>\n",
       "      <td>scale</td>\n",
       "      <td>rf</td>\n",
       "      <td>sex</td>\n",
       "      <td>drop-non-german</td>\n",
       "      <td>0.66</td>\n",
       "      <td>0.913109</td>\n",
       "      <td>1.14684</td>\n",
       "    </tr>\n",
       "  </tbody>\n",
       "</table>\n",
       "</div>"
      ],
      "text/plain": [
       "                        universe_id universe_training_year  \\\n",
       "0  d9d31f3691c662ae24fa584160b023f1                2010_14   \n",
       "\n",
       "  universe_training_size universe_scale universe_model  \\\n",
       "0                     5k          scale             rf   \n",
       "\n",
       "  universe_exclude_features universe_exclude_subgroups  q_hat  coverage  \\\n",
       "0                       sex            drop-non-german   0.66  0.913109   \n",
       "\n",
       "   avg_size  \n",
       "0   1.14684  "
      ]
     },
     "execution_count": 61,
     "metadata": {},
     "output_type": "execute_result"
    }
   ],
   "source": [
    "cp_metrics_df"
   ]
  },
  {
   "cell_type": "code",
   "execution_count": 62,
   "id": "b7fbde55-a0a1-47e4-9af6-fe4a17fa8c61",
   "metadata": {
    "execution": {
     "iopub.execute_input": "2025-07-30T21:12:31.186914Z",
     "iopub.status.busy": "2025-07-30T21:12:31.186569Z",
     "iopub.status.idle": "2025-07-30T21:12:31.191412Z",
     "shell.execute_reply": "2025-07-30T21:12:31.190386Z"
    },
    "papermill": {
     "duration": 0.074022,
     "end_time": "2025-07-30T21:12:31.194026",
     "exception": false,
     "start_time": "2025-07-30T21:12:31.120004",
     "status": "completed"
    },
    "tags": []
   },
   "outputs": [],
   "source": [
    "# Conditional Coverage & looking at subgroups"
   ]
  },
  {
   "cell_type": "code",
   "execution_count": 63,
   "id": "027ae886-68dd-4141-96c7-805a5450e1ef",
   "metadata": {
    "execution": {
     "iopub.execute_input": "2025-07-30T21:12:31.295679Z",
     "iopub.status.busy": "2025-07-30T21:12:31.295278Z",
     "iopub.status.idle": "2025-07-30T21:12:31.643571Z",
     "shell.execute_reply": "2025-07-30T21:12:31.642465Z"
    },
    "papermill": {
     "duration": 0.380984,
     "end_time": "2025-07-30T21:12:31.645361",
     "exception": false,
     "start_time": "2025-07-30T21:12:31.264377",
     "status": "completed"
    },
    "tags": []
   },
   "outputs": [],
   "source": [
    "from fairness_multiverse.conformal import build_cp_groups\n",
    "\n",
    "cp_groups_df = build_cp_groups(pred_sets, y_true, X_test.index, org_test)\n",
    "#needs universe_id and setting"
   ]
  },
  {
   "cell_type": "code",
   "execution_count": 64,
   "id": "01d5802c-663a-4d1f-9d69-e036faaffbf7",
   "metadata": {
    "execution": {
     "iopub.execute_input": "2025-07-30T21:12:31.715089Z",
     "iopub.status.busy": "2025-07-30T21:12:31.714710Z",
     "iopub.status.idle": "2025-07-30T21:12:31.719360Z",
     "shell.execute_reply": "2025-07-30T21:12:31.718595Z"
    },
    "papermill": {
     "duration": 0.033324,
     "end_time": "2025-07-30T21:12:31.720669",
     "exception": false,
     "start_time": "2025-07-30T21:12:31.687345",
     "status": "completed"
    },
    "tags": []
   },
   "outputs": [],
   "source": [
    "#delete\n",
    "#cp_groups_df"
   ]
  },
  {
   "cell_type": "code",
   "execution_count": 65,
   "id": "fa424af1-d1eb-443d-b717-2d279ada8408",
   "metadata": {
    "execution": {
     "iopub.execute_input": "2025-07-30T21:12:31.752907Z",
     "iopub.status.busy": "2025-07-30T21:12:31.752226Z",
     "iopub.status.idle": "2025-07-30T21:12:31.756779Z",
     "shell.execute_reply": "2025-07-30T21:12:31.756097Z"
    },
    "papermill": {
     "duration": 0.019728,
     "end_time": "2025-07-30T21:12:31.758102",
     "exception": false,
     "start_time": "2025-07-30T21:12:31.738374",
     "status": "completed"
    },
    "tags": []
   },
   "outputs": [],
   "source": [
    "#delete\n",
    "#percentage = (cp_groups_df['nongerman_female'] == 1).mean() * 100\n",
    "#print(percentage)\n"
   ]
  },
  {
   "cell_type": "code",
   "execution_count": 66,
   "id": "6cbdab96-b2b2-45af-ad54-d0516db2e28d",
   "metadata": {
    "execution": {
     "iopub.execute_input": "2025-07-30T21:12:31.786903Z",
     "iopub.status.busy": "2025-07-30T21:12:31.786287Z",
     "iopub.status.idle": "2025-07-30T21:12:33.322228Z",
     "shell.execute_reply": "2025-07-30T21:12:33.321478Z"
    },
    "papermill": {
     "duration": 1.550866,
     "end_time": "2025-07-30T21:12:33.323681",
     "exception": false,
     "start_time": "2025-07-30T21:12:31.772815",
     "status": "completed"
    },
    "tags": []
   },
   "outputs": [],
   "source": [
    "# Define covered = 1 if true_label is in the predicted set\n",
    "cp_groups_df['covered'] = cp_groups_df.apply(\n",
    "    lambda r: int(r['true_label'] in r['pred_set']),\n",
    "    axis=1\n",
    ")"
   ]
  },
  {
   "cell_type": "code",
   "execution_count": 67,
   "id": "338ff529-1a6b-4b87-a931-8e4788d52aad",
   "metadata": {
    "execution": {
     "iopub.execute_input": "2025-07-30T21:12:33.352897Z",
     "iopub.status.busy": "2025-07-30T21:12:33.352399Z",
     "iopub.status.idle": "2025-07-30T21:12:33.356667Z",
     "shell.execute_reply": "2025-07-30T21:12:33.355972Z"
    },
    "papermill": {
     "duration": 0.020462,
     "end_time": "2025-07-30T21:12:33.358127",
     "exception": false,
     "start_time": "2025-07-30T21:12:33.337665",
     "status": "completed"
    },
    "tags": []
   },
   "outputs": [],
   "source": [
    "#cp_groups_df"
   ]
  },
  {
   "cell_type": "code",
   "execution_count": 68,
   "id": "90032e27-66df-4540-9169-4e89cfbaa758",
   "metadata": {
    "execution": {
     "iopub.execute_input": "2025-07-30T21:12:33.389407Z",
     "iopub.status.busy": "2025-07-30T21:12:33.388887Z",
     "iopub.status.idle": "2025-07-30T21:12:33.398479Z",
     "shell.execute_reply": "2025-07-30T21:12:33.397659Z"
    },
    "papermill": {
     "duration": 0.026073,
     "end_time": "2025-07-30T21:12:33.400006",
     "exception": false,
     "start_time": "2025-07-30T21:12:33.373933",
     "status": "completed"
    },
    "tags": []
   },
   "outputs": [],
   "source": [
    "subgroups = ['frau1','nongerman','nongerman_male','nongerman_female']\n",
    "\n",
    "# Conditional coverage for subgroup==1\n",
    "cond_coverage = {\n",
    "    g: cp_groups_df.loc[cp_groups_df[g]==1, 'covered'].mean()\n",
    "    for g in subgroups\n",
    "}"
   ]
  },
  {
   "cell_type": "code",
   "execution_count": 69,
   "id": "1e348fb1-b9c3-45bc-ba23-f016827a7e0d",
   "metadata": {
    "execution": {
     "iopub.execute_input": "2025-07-30T21:12:33.429890Z",
     "iopub.status.busy": "2025-07-30T21:12:33.429415Z",
     "iopub.status.idle": "2025-07-30T21:12:33.435883Z",
     "shell.execute_reply": "2025-07-30T21:12:33.435094Z"
    },
    "papermill": {
     "duration": 0.022498,
     "end_time": "2025-07-30T21:12:33.437260",
     "exception": false,
     "start_time": "2025-07-30T21:12:33.414762",
     "status": "completed"
    },
    "tags": []
   },
   "outputs": [
    {
     "data": {
      "text/plain": [
       "{'frau1': 0.9116592532686346,\n",
       " 'nongerman': 0.9038342783360467,\n",
       " 'nongerman_male': 0.9177699720796181,\n",
       " 'nongerman_female': 0.8807749627421758}"
      ]
     },
     "execution_count": 69,
     "metadata": {},
     "output_type": "execute_result"
    }
   ],
   "source": [
    "cond_coverage"
   ]
  },
  {
   "cell_type": "code",
   "execution_count": 70,
   "id": "f5093324-c3dd-4d63-bc4c-8d945e5c8bbb",
   "metadata": {
    "execution": {
     "iopub.execute_input": "2025-07-30T21:12:33.468446Z",
     "iopub.status.busy": "2025-07-30T21:12:33.467885Z",
     "iopub.status.idle": "2025-07-30T21:12:33.473960Z",
     "shell.execute_reply": "2025-07-30T21:12:33.473241Z"
    },
    "papermill": {
     "duration": 0.022668,
     "end_time": "2025-07-30T21:12:33.475331",
     "exception": false,
     "start_time": "2025-07-30T21:12:33.452663",
     "status": "completed"
    },
    "tags": []
   },
   "outputs": [],
   "source": [
    "for subgroup, cov in cond_coverage.items():\n",
    "    cp_metrics_df[f\"cov_{subgroup}\"] = cov"
   ]
  },
  {
   "cell_type": "code",
   "execution_count": 71,
   "id": "6e872e10-dbe5-49e8-b554-5030c98ff75d",
   "metadata": {
    "execution": {
     "iopub.execute_input": "2025-07-30T21:12:33.506549Z",
     "iopub.status.busy": "2025-07-30T21:12:33.506044Z",
     "iopub.status.idle": "2025-07-30T21:12:33.520977Z",
     "shell.execute_reply": "2025-07-30T21:12:33.520090Z"
    },
    "papermill": {
     "duration": 0.031534,
     "end_time": "2025-07-30T21:12:33.522396",
     "exception": false,
     "start_time": "2025-07-30T21:12:33.490862",
     "status": "completed"
    },
    "tags": []
   },
   "outputs": [
    {
     "data": {
      "text/html": [
       "<div>\n",
       "<style scoped>\n",
       "    .dataframe tbody tr th:only-of-type {\n",
       "        vertical-align: middle;\n",
       "    }\n",
       "\n",
       "    .dataframe tbody tr th {\n",
       "        vertical-align: top;\n",
       "    }\n",
       "\n",
       "    .dataframe thead th {\n",
       "        text-align: right;\n",
       "    }\n",
       "</style>\n",
       "<table border=\"1\" class=\"dataframe\">\n",
       "  <thead>\n",
       "    <tr style=\"text-align: right;\">\n",
       "      <th></th>\n",
       "      <th>universe_id</th>\n",
       "      <th>universe_training_year</th>\n",
       "      <th>universe_training_size</th>\n",
       "      <th>universe_scale</th>\n",
       "      <th>universe_model</th>\n",
       "      <th>universe_exclude_features</th>\n",
       "      <th>universe_exclude_subgroups</th>\n",
       "      <th>q_hat</th>\n",
       "      <th>coverage</th>\n",
       "      <th>avg_size</th>\n",
       "      <th>cov_frau1</th>\n",
       "      <th>cov_nongerman</th>\n",
       "      <th>cov_nongerman_male</th>\n",
       "      <th>cov_nongerman_female</th>\n",
       "    </tr>\n",
       "  </thead>\n",
       "  <tbody>\n",
       "    <tr>\n",
       "      <th>0</th>\n",
       "      <td>d9d31f3691c662ae24fa584160b023f1</td>\n",
       "      <td>2010_14</td>\n",
       "      <td>5k</td>\n",
       "      <td>scale</td>\n",
       "      <td>rf</td>\n",
       "      <td>sex</td>\n",
       "      <td>drop-non-german</td>\n",
       "      <td>0.66</td>\n",
       "      <td>0.913109</td>\n",
       "      <td>1.14684</td>\n",
       "      <td>0.911659</td>\n",
       "      <td>0.903834</td>\n",
       "      <td>0.91777</td>\n",
       "      <td>0.880775</td>\n",
       "    </tr>\n",
       "  </tbody>\n",
       "</table>\n",
       "</div>"
      ],
      "text/plain": [
       "                        universe_id universe_training_year  \\\n",
       "0  d9d31f3691c662ae24fa584160b023f1                2010_14   \n",
       "\n",
       "  universe_training_size universe_scale universe_model  \\\n",
       "0                     5k          scale             rf   \n",
       "\n",
       "  universe_exclude_features universe_exclude_subgroups  q_hat  coverage  \\\n",
       "0                       sex            drop-non-german   0.66  0.913109   \n",
       "\n",
       "   avg_size  cov_frau1  cov_nongerman  cov_nongerman_male  \\\n",
       "0   1.14684   0.911659       0.903834             0.91777   \n",
       "\n",
       "   cov_nongerman_female  \n",
       "0              0.880775  "
      ]
     },
     "execution_count": 71,
     "metadata": {},
     "output_type": "execute_result"
    }
   ],
   "source": [
    "cp_metrics_df"
   ]
  },
  {
   "cell_type": "markdown",
   "id": "33774451",
   "metadata": {
    "papermill": {
     "duration": 0.014266,
     "end_time": "2025-07-30T21:12:33.552484",
     "exception": false,
     "start_time": "2025-07-30T21:12:33.538218",
     "status": "completed"
    },
    "tags": []
   },
   "source": [
    "# (Fairness) Metrics"
   ]
  },
  {
   "cell_type": "code",
   "execution_count": 72,
   "id": "debc5d62",
   "metadata": {
    "execution": {
     "iopub.execute_input": "2025-07-30T21:12:33.582142Z",
     "iopub.status.busy": "2025-07-30T21:12:33.581640Z",
     "iopub.status.idle": "2025-07-30T21:12:33.599764Z",
     "shell.execute_reply": "2025-07-30T21:12:33.598793Z"
    },
    "papermill": {
     "duration": 0.034937,
     "end_time": "2025-07-30T21:12:33.601795",
     "exception": false,
     "start_time": "2025-07-30T21:12:33.566858",
     "status": "completed"
    },
    "tags": []
   },
   "outputs": [],
   "source": [
    "# do I need to include maxdeutsch1.missing?\n",
    "\n",
    "import numpy as np\n",
    "\n",
    "colname_to_bin = \"maxdeutsch1\"\n",
    "majority_value = org_train[colname_to_bin].mode()[0]\n",
    "\n",
    "org_test[\"majmin\"] = np.where(org_test[colname_to_bin] == majority_value, \"majority\", \"minority\")"
   ]
  },
  {
   "cell_type": "code",
   "execution_count": 73,
   "id": "06a50de5",
   "metadata": {
    "execution": {
     "iopub.execute_input": "2025-07-30T21:12:33.697500Z",
     "iopub.status.busy": "2025-07-30T21:12:33.696340Z",
     "iopub.status.idle": "2025-07-30T21:12:36.812518Z",
     "shell.execute_reply": "2025-07-30T21:12:36.811543Z"
    },
    "papermill": {
     "duration": 3.186315,
     "end_time": "2025-07-30T21:12:36.814535",
     "exception": false,
     "start_time": "2025-07-30T21:12:33.628220",
     "status": "completed"
    },
    "tags": []
   },
   "outputs": [],
   "source": [
    "example_universe = universe.copy()\n",
    "example_universe[\"cutoff\"] = example_universe[\"cutoff\"][0]\n",
    "example_universe[\"eval_fairness_grouping\"] = example_universe[\"eval_fairness_grouping\"][0]\n",
    "fairness_dict, metric_frame = universe_analysis.compute_metrics(\n",
    "    example_universe,\n",
    "    y_pred_prob=probs_test,\n",
    "    y_test=y_true,\n",
    "    org_test=org_test,\n",
    ")"
   ]
  },
  {
   "cell_type": "markdown",
   "id": "f95d4e02",
   "metadata": {
    "papermill": {
     "duration": 0.030407,
     "end_time": "2025-07-30T21:12:36.877015",
     "exception": false,
     "start_time": "2025-07-30T21:12:36.846608",
     "status": "completed"
    },
    "tags": []
   },
   "source": [
    "# Overall"
   ]
  },
  {
   "cell_type": "markdown",
   "id": "bdee4871",
   "metadata": {
    "papermill": {
     "duration": 0.031082,
     "end_time": "2025-07-30T21:12:36.938393",
     "exception": false,
     "start_time": "2025-07-30T21:12:36.907311",
     "status": "completed"
    },
    "tags": []
   },
   "source": [
    "Fairness\n",
    "Main fairness target: Equalized Odds. Seems to be a better fit than equal opportunity, since we're not only interested in Y = 1. Seems to be a better fit than demographic parity, since we also care about accuracy, not just equal distribution of preds.\n",
    "\n",
    "Pick column for computation of fairness metrics\n",
    "\n",
    "Performance\n",
    "Overall performance measures, most interesting in relation to the measures split by group below"
   ]
  },
  {
   "cell_type": "code",
   "execution_count": 74,
   "id": "c4e067c6",
   "metadata": {
    "execution": {
     "iopub.execute_input": "2025-07-30T21:12:37.001551Z",
     "iopub.status.busy": "2025-07-30T21:12:37.001021Z",
     "iopub.status.idle": "2025-07-30T21:12:37.010847Z",
     "shell.execute_reply": "2025-07-30T21:12:37.009800Z"
    },
    "papermill": {
     "duration": 0.044203,
     "end_time": "2025-07-30T21:12:37.012736",
     "exception": false,
     "start_time": "2025-07-30T21:12:36.968533",
     "status": "completed"
    },
    "tags": []
   },
   "outputs": [
    {
     "data": {
      "text/plain": [
       "accuracy                   0.199298\n",
       "balanced accuracy          0.532916\n",
       "f1                         0.239280\n",
       "precision                  0.136245\n",
       "false positive rate        0.915833\n",
       "false negative rate        0.018335\n",
       "selection rate             0.924278\n",
       "count                  89710.000000\n",
       "dtype: float64"
      ]
     },
     "execution_count": 74,
     "metadata": {},
     "output_type": "execute_result"
    }
   ],
   "source": [
    "metric_frame.overall"
   ]
  },
  {
   "cell_type": "markdown",
   "id": "e968fe9d",
   "metadata": {
    "papermill": {
     "duration": 0.031446,
     "end_time": "2025-07-30T21:12:37.075058",
     "exception": false,
     "start_time": "2025-07-30T21:12:37.043612",
     "status": "completed"
    },
    "tags": []
   },
   "source": [
    "By Group"
   ]
  },
  {
   "cell_type": "code",
   "execution_count": 75,
   "id": "ec325bce",
   "metadata": {
    "execution": {
     "iopub.execute_input": "2025-07-30T21:12:37.139269Z",
     "iopub.status.busy": "2025-07-30T21:12:37.138642Z",
     "iopub.status.idle": "2025-07-30T21:12:37.163296Z",
     "shell.execute_reply": "2025-07-30T21:12:37.161648Z"
    },
    "papermill": {
     "duration": 0.059313,
     "end_time": "2025-07-30T21:12:37.165917",
     "exception": false,
     "start_time": "2025-07-30T21:12:37.106604",
     "status": "completed"
    },
    "tags": []
   },
   "outputs": [
    {
     "data": {
      "text/html": [
       "<div>\n",
       "<style scoped>\n",
       "    .dataframe tbody tr th:only-of-type {\n",
       "        vertical-align: middle;\n",
       "    }\n",
       "\n",
       "    .dataframe tbody tr th {\n",
       "        vertical-align: top;\n",
       "    }\n",
       "\n",
       "    .dataframe thead th {\n",
       "        text-align: right;\n",
       "    }\n",
       "</style>\n",
       "<table border=\"1\" class=\"dataframe\">\n",
       "  <thead>\n",
       "    <tr style=\"text-align: right;\">\n",
       "      <th></th>\n",
       "      <th>accuracy</th>\n",
       "      <th>balanced accuracy</th>\n",
       "      <th>f1</th>\n",
       "      <th>precision</th>\n",
       "      <th>false positive rate</th>\n",
       "      <th>false negative rate</th>\n",
       "      <th>selection rate</th>\n",
       "      <th>count</th>\n",
       "    </tr>\n",
       "    <tr>\n",
       "      <th>majmin</th>\n",
       "      <th></th>\n",
       "      <th></th>\n",
       "      <th></th>\n",
       "      <th></th>\n",
       "      <th></th>\n",
       "      <th></th>\n",
       "      <th></th>\n",
       "      <th></th>\n",
       "    </tr>\n",
       "  </thead>\n",
       "  <tbody>\n",
       "    <tr>\n",
       "      <th>majority</th>\n",
       "      <td>0.198887</td>\n",
       "      <td>0.534375</td>\n",
       "      <td>0.246256</td>\n",
       "      <td>0.140609</td>\n",
       "      <td>0.921623</td>\n",
       "      <td>0.009628</td>\n",
       "      <td>0.930707</td>\n",
       "      <td>69170.0</td>\n",
       "    </tr>\n",
       "    <tr>\n",
       "      <th>minority</th>\n",
       "      <td>0.200682</td>\n",
       "      <td>0.525674</td>\n",
       "      <td>0.214750</td>\n",
       "      <td>0.121090</td>\n",
       "      <td>0.896709</td>\n",
       "      <td>0.051943</td>\n",
       "      <td>0.902629</td>\n",
       "      <td>20540.0</td>\n",
       "    </tr>\n",
       "  </tbody>\n",
       "</table>\n",
       "</div>"
      ],
      "text/plain": [
       "          accuracy  balanced accuracy        f1  precision  \\\n",
       "majmin                                                       \n",
       "majority  0.198887           0.534375  0.246256   0.140609   \n",
       "minority  0.200682           0.525674  0.214750   0.121090   \n",
       "\n",
       "          false positive rate  false negative rate  selection rate    count  \n",
       "majmin                                                                       \n",
       "majority             0.921623             0.009628        0.930707  69170.0  \n",
       "minority             0.896709             0.051943        0.902629  20540.0  "
      ]
     },
     "execution_count": 75,
     "metadata": {},
     "output_type": "execute_result"
    }
   ],
   "source": [
    "metric_frame.by_group"
   ]
  },
  {
   "cell_type": "code",
   "execution_count": 76,
   "id": "a9ddbe63",
   "metadata": {
    "execution": {
     "iopub.execute_input": "2025-07-30T21:12:37.250399Z",
     "iopub.status.busy": "2025-07-30T21:12:37.249515Z",
     "iopub.status.idle": "2025-07-30T21:12:39.661344Z",
     "shell.execute_reply": "2025-07-30T21:12:39.660111Z"
    },
    "papermill": {
     "duration": 2.456444,
     "end_time": "2025-07-30T21:12:39.663902",
     "exception": false,
     "start_time": "2025-07-30T21:12:37.207458",
     "status": "completed"
    },
    "tags": []
   },
   "outputs": [
    {
     "data": {
      "text/plain": [
       "array([[<Axes: title={'center': 'accuracy'}, xlabel='majmin'>,\n",
       "        <Axes: title={'center': 'balanced accuracy'}, xlabel='majmin'>,\n",
       "        <Axes: title={'center': 'f1'}, xlabel='majmin'>],\n",
       "       [<Axes: title={'center': 'precision'}, xlabel='majmin'>,\n",
       "        <Axes: title={'center': 'false positive rate'}, xlabel='majmin'>,\n",
       "        <Axes: title={'center': 'false negative rate'}, xlabel='majmin'>],\n",
       "       [<Axes: title={'center': 'selection rate'}, xlabel='majmin'>,\n",
       "        <Axes: title={'center': 'count'}, xlabel='majmin'>,\n",
       "        <Axes: xlabel='majmin'>]], dtype=object)"
      ]
     },
     "execution_count": 76,
     "metadata": {},
     "output_type": "execute_result"
    },
    {
     "data": {
      "image/png": "[encoded data removed]",
      "text/plain": [
       "<Figure size 1200x800 with 9 Axes>"
      ]
     },
     "metadata": {},
     "output_type": "display_data"
    }
   ],
   "source": [
    "# In a graphic\n",
    "metric_frame.by_group.plot.bar(\n",
    "    subplots=True,\n",
    "    layout=[3, 3],\n",
    "    legend=False,\n",
    "    figsize=[12, 8],\n",
    "    title=\"Show all metrics\",\n",
    ")"
   ]
  },
  {
   "cell_type": "markdown",
   "id": "f57a0bac",
   "metadata": {
    "papermill": {
     "duration": 0.059789,
     "end_time": "2025-07-30T21:12:39.772498",
     "exception": false,
     "start_time": "2025-07-30T21:12:39.712709",
     "status": "completed"
    },
    "tags": []
   },
   "source": [
    "# Final Output"
   ]
  },
  {
   "cell_type": "code",
   "execution_count": 77,
   "id": "96d280a3",
   "metadata": {
    "execution": {
     "iopub.execute_input": "2025-07-30T21:12:39.886298Z",
     "iopub.status.busy": "2025-07-30T21:12:39.885642Z",
     "iopub.status.idle": "2025-07-30T21:12:39.895038Z",
     "shell.execute_reply": "2025-07-30T21:12:39.893887Z"
    },
    "papermill": {
     "duration": 0.064012,
     "end_time": "2025-07-30T21:12:39.896818",
     "exception": false,
     "start_time": "2025-07-30T21:12:39.832806",
     "status": "completed"
    },
    "tags": []
   },
   "outputs": [
    {
     "data": {
      "text/plain": [
       "4"
      ]
     },
     "execution_count": 77,
     "metadata": {},
     "output_type": "execute_result"
    }
   ],
   "source": [
    "sub_universes = universe_analysis.generate_sub_universes()\n",
    "len(sub_universes)"
   ]
  },
  {
   "cell_type": "code",
   "execution_count": 78,
   "id": "92adf7ba",
   "metadata": {
    "execution": {
     "iopub.execute_input": "2025-07-30T21:12:39.968093Z",
     "iopub.status.busy": "2025-07-30T21:12:39.967585Z",
     "iopub.status.idle": "2025-07-30T21:12:39.974136Z",
     "shell.execute_reply": "2025-07-30T21:12:39.973228Z"
    },
    "papermill": {
     "duration": 0.038741,
     "end_time": "2025-07-30T21:12:39.975691",
     "exception": false,
     "start_time": "2025-07-30T21:12:39.936950",
     "status": "completed"
    },
    "tags": []
   },
   "outputs": [],
   "source": [
    "def filter_sub_universe_data(sub_universe, org_test):\n",
    "    # Keep all rows — no filtering\n",
    "    keep_rows_mask = np.ones(org_test.shape[0], dtype=bool)\n",
    "\n",
    "    print(f\"[INFO] Keeping all rows: {keep_rows_mask.sum()} rows retained.\")\n",
    "    return keep_rows_mask"
   ]
  },
  {
   "cell_type": "code",
   "execution_count": 79,
   "id": "4a759155",
   "metadata": {
    "execution": {
     "iopub.execute_input": "2025-07-30T21:12:40.035294Z",
     "iopub.status.busy": "2025-07-30T21:12:40.034789Z",
     "iopub.status.idle": "2025-07-30T21:12:51.158989Z",
     "shell.execute_reply": "2025-07-30T21:12:51.158149Z"
    },
    "papermill": {
     "duration": 11.156096,
     "end_time": "2025-07-30T21:12:51.160702",
     "exception": false,
     "start_time": "2025-07-30T21:12:40.004606",
     "status": "completed"
    },
    "tags": []
   },
   "outputs": [
    {
     "name": "stdout",
     "output_type": "stream",
     "text": [
      "Stopping execution_time clock.\n",
      "[INFO] Keeping all rows: 89710 rows retained.\n"
     ]
    },
    {
     "name": "stdout",
     "output_type": "stream",
     "text": [
      "[INFO] Keeping all rows: 89710 rows retained.\n"
     ]
    },
    {
     "name": "stdout",
     "output_type": "stream",
     "text": [
      "[INFO] Keeping all rows: 89710 rows retained.\n"
     ]
    },
    {
     "name": "stdout",
     "output_type": "stream",
     "text": [
      "[INFO] Keeping all rows: 89710 rows retained.\n"
     ]
    },
    {
     "data": {
      "text/html": [
       "<div>\n",
       "<style scoped>\n",
       "    .dataframe tbody tr th:only-of-type {\n",
       "        vertical-align: middle;\n",
       "    }\n",
       "\n",
       "    .dataframe tbody tr th {\n",
       "        vertical-align: top;\n",
       "    }\n",
       "\n",
       "    .dataframe thead th {\n",
       "        text-align: right;\n",
       "    }\n",
       "</style>\n",
       "<table border=\"1\" class=\"dataframe\">\n",
       "  <thead>\n",
       "    <tr style=\"text-align: right;\">\n",
       "      <th></th>\n",
       "      <th>run_no</th>\n",
       "      <th>universe_id</th>\n",
       "      <th>universe_settings</th>\n",
       "      <th>execution_time</th>\n",
       "      <th>test_size_n</th>\n",
       "      <th>test_size_frac</th>\n",
       "      <th>fair_main_equalized_odds_difference</th>\n",
       "      <th>fair_main_equalized_odds_ratio</th>\n",
       "      <th>fair_main_demographic_parity_difference</th>\n",
       "      <th>fair_main_demographic_parity_ratio</th>\n",
       "      <th>...</th>\n",
       "      <th>perf_grp_precision_0</th>\n",
       "      <th>perf_grp_precision_1</th>\n",
       "      <th>perf_grp_false positive rate_0</th>\n",
       "      <th>perf_grp_false positive rate_1</th>\n",
       "      <th>perf_grp_false negative rate_0</th>\n",
       "      <th>perf_grp_false negative rate_1</th>\n",
       "      <th>perf_grp_selection rate_0</th>\n",
       "      <th>perf_grp_selection rate_1</th>\n",
       "      <th>perf_grp_count_0</th>\n",
       "      <th>perf_grp_count_1</th>\n",
       "    </tr>\n",
       "  </thead>\n",
       "  <tbody>\n",
       "    <tr>\n",
       "      <th>0</th>\n",
       "      <td>14</td>\n",
       "      <td>d9d31f3691c662ae24fa584160b023f1</td>\n",
       "      <td>{\"cutoff\": \"quantile_0.1\", \"eval_fairness_grou...</td>\n",
       "      <td>34.206144</td>\n",
       "      <td>89710</td>\n",
       "      <td>1.0</td>\n",
       "      <td>0.042315</td>\n",
       "      <td>0.957274</td>\n",
       "      <td>0.028078</td>\n",
       "      <td>0.969832</td>\n",
       "      <td>...</td>\n",
       "      <td>NaN</td>\n",
       "      <td>NaN</td>\n",
       "      <td>NaN</td>\n",
       "      <td>NaN</td>\n",
       "      <td>NaN</td>\n",
       "      <td>NaN</td>\n",
       "      <td>NaN</td>\n",
       "      <td>NaN</td>\n",
       "      <td>NaN</td>\n",
       "      <td>NaN</td>\n",
       "    </tr>\n",
       "    <tr>\n",
       "      <th>0</th>\n",
       "      <td>14</td>\n",
       "      <td>d9d31f3691c662ae24fa584160b023f1</td>\n",
       "      <td>{\"cutoff\": \"quantile_0.1\", \"eval_fairness_grou...</td>\n",
       "      <td>34.206144</td>\n",
       "      <td>89710</td>\n",
       "      <td>1.0</td>\n",
       "      <td>0.042315</td>\n",
       "      <td>0.957274</td>\n",
       "      <td>0.028078</td>\n",
       "      <td>0.969832</td>\n",
       "      <td>...</td>\n",
       "      <td>0.121090</td>\n",
       "      <td>0.140609</td>\n",
       "      <td>0.896709</td>\n",
       "      <td>0.921623</td>\n",
       "      <td>0.051943</td>\n",
       "      <td>0.009628</td>\n",
       "      <td>0.902629</td>\n",
       "      <td>0.930707</td>\n",
       "      <td>20540.0</td>\n",
       "      <td>69170.0</td>\n",
       "    </tr>\n",
       "    <tr>\n",
       "      <th>0</th>\n",
       "      <td>14</td>\n",
       "      <td>d9d31f3691c662ae24fa584160b023f1</td>\n",
       "      <td>{\"cutoff\": \"quantile_0.25\", \"eval_fairness_gro...</td>\n",
       "      <td>34.206144</td>\n",
       "      <td>89710</td>\n",
       "      <td>1.0</td>\n",
       "      <td>0.105403</td>\n",
       "      <td>0.889393</td>\n",
       "      <td>0.044855</td>\n",
       "      <td>0.942386</td>\n",
       "      <td>...</td>\n",
       "      <td>NaN</td>\n",
       "      <td>NaN</td>\n",
       "      <td>NaN</td>\n",
       "      <td>NaN</td>\n",
       "      <td>NaN</td>\n",
       "      <td>NaN</td>\n",
       "      <td>NaN</td>\n",
       "      <td>NaN</td>\n",
       "      <td>NaN</td>\n",
       "      <td>NaN</td>\n",
       "    </tr>\n",
       "    <tr>\n",
       "      <th>0</th>\n",
       "      <td>14</td>\n",
       "      <td>d9d31f3691c662ae24fa584160b023f1</td>\n",
       "      <td>{\"cutoff\": \"quantile_0.25\", \"eval_fairness_gro...</td>\n",
       "      <td>34.206144</td>\n",
       "      <td>89710</td>\n",
       "      <td>1.0</td>\n",
       "      <td>0.105403</td>\n",
       "      <td>0.889393</td>\n",
       "      <td>0.044855</td>\n",
       "      <td>0.942386</td>\n",
       "      <td>...</td>\n",
       "      <td>0.133179</td>\n",
       "      <td>0.161740</td>\n",
       "      <td>0.718853</td>\n",
       "      <td>0.751991</td>\n",
       "      <td>0.152449</td>\n",
       "      <td>0.047046</td>\n",
       "      <td>0.733690</td>\n",
       "      <td>0.778546</td>\n",
       "      <td>20540.0</td>\n",
       "      <td>69170.0</td>\n",
       "    </tr>\n",
       "  </tbody>\n",
       "</table>\n",
       "<p>4 rows × 50 columns</p>\n",
       "</div>"
      ],
      "text/plain": [
       "  run_no                       universe_id  \\\n",
       "0     14  d9d31f3691c662ae24fa584160b023f1   \n",
       "0     14  d9d31f3691c662ae24fa584160b023f1   \n",
       "0     14  d9d31f3691c662ae24fa584160b023f1   \n",
       "0     14  d9d31f3691c662ae24fa584160b023f1   \n",
       "\n",
       "                                   universe_settings  execution_time  \\\n",
       "0  {\"cutoff\": \"quantile_0.1\", \"eval_fairness_grou...       34.206144   \n",
       "0  {\"cutoff\": \"quantile_0.1\", \"eval_fairness_grou...       34.206144   \n",
       "0  {\"cutoff\": \"quantile_0.25\", \"eval_fairness_gro...       34.206144   \n",
       "0  {\"cutoff\": \"quantile_0.25\", \"eval_fairness_gro...       34.206144   \n",
       "\n",
       "   test_size_n  test_size_frac  fair_main_equalized_odds_difference  \\\n",
       "0        89710             1.0                             0.042315   \n",
       "0        89710             1.0                             0.042315   \n",
       "0        89710             1.0                             0.105403   \n",
       "0        89710             1.0                             0.105403   \n",
       "\n",
       "   fair_main_equalized_odds_ratio  fair_main_demographic_parity_difference  \\\n",
       "0                        0.957274                                 0.028078   \n",
       "0                        0.957274                                 0.028078   \n",
       "0                        0.889393                                 0.044855   \n",
       "0                        0.889393                                 0.044855   \n",
       "\n",
       "   fair_main_demographic_parity_ratio  ...  perf_grp_precision_0  \\\n",
       "0                            0.969832  ...                   NaN   \n",
       "0                            0.969832  ...              0.121090   \n",
       "0                            0.942386  ...                   NaN   \n",
       "0                            0.942386  ...              0.133179   \n",
       "\n",
       "   perf_grp_precision_1  perf_grp_false positive rate_0  \\\n",
       "0                   NaN                             NaN   \n",
       "0              0.140609                        0.896709   \n",
       "0                   NaN                             NaN   \n",
       "0              0.161740                        0.718853   \n",
       "\n",
       "   perf_grp_false positive rate_1  perf_grp_false negative rate_0  \\\n",
       "0                             NaN                             NaN   \n",
       "0                        0.921623                        0.051943   \n",
       "0                             NaN                             NaN   \n",
       "0                        0.751991                        0.152449   \n",
       "\n",
       "   perf_grp_false negative rate_1  perf_grp_selection rate_0  \\\n",
       "0                             NaN                        NaN   \n",
       "0                        0.009628                   0.902629   \n",
       "0                             NaN                        NaN   \n",
       "0                        0.047046                   0.733690   \n",
       "\n",
       "   perf_grp_selection rate_1  perf_grp_count_0  perf_grp_count_1  \n",
       "0                        NaN               NaN               NaN  \n",
       "0                   0.930707           20540.0           69170.0  \n",
       "0                        NaN               NaN               NaN  \n",
       "0                   0.778546           20540.0           69170.0  \n",
       "\n",
       "[4 rows x 50 columns]"
      ]
     },
     "execution_count": 79,
     "metadata": {},
     "output_type": "execute_result"
    }
   ],
   "source": [
    "final_output = universe_analysis.generate_final_output(\n",
    "    y_pred_prob=probs_test,\n",
    "    y_test=y_true,\n",
    "    org_test=org_test,\n",
    "    filter_data=filter_sub_universe_data,\n",
    "    cp_metrics_df=cp_metrics_df,\n",
    "    save=True,\n",
    ")\n",
    "final_output"
   ]
  },
  {
   "cell_type": "code",
   "execution_count": null,
   "id": "721ff514-cb11-46f8-b6fc-50392f74b5cb",
   "metadata": {
    "papermill": {
     "duration": 0.032533,
     "end_time": "2025-07-30T21:12:51.238197",
     "exception": false,
     "start_time": "2025-07-30T21:12:51.205664",
     "status": "completed"
    },
    "tags": []
   },
   "outputs": [],
   "source": []
  }
 ],
 "metadata": {
  "celltoolbar": "Tags",
  "kernelspec": {
   "display_name": "Python (CMA Fairness)",
   "language": "python",
   "name": "cma_fair_env"
  },
  "language_info": {
   "codemirror_mode": {
    "name": "ipython",
    "version": 3
   },
   "file_extension": ".py",
   "mimetype": "text/x-python",
   "name": "python",
   "nbconvert_exporter": "python",
   "pygments_lexer": "ipython3",
   "version": "3.10.12"
  },
  "papermill": {
   "default_parameters": {},
   "duration": 49.777287,
   "end_time": "2025-07-30T21:12:52.090690",
   "environment_variables": {},
   "exception": null,
   "input_path": "universe_analysis.ipynb",
   "output_path": "output/runs/14/notebooks/m_14-d9d31f3691c662ae24fa584160b023f1.ipynb",
   "parameters": {
    "output_dir": "output",
    "run_no": "14",
    "seed": "2023",
    "universe": "{\"cutoff\": [\"quantile_0.1\", \"quantile_0.25\"], \"eval_fairness_grouping\": [\"majority-minority\", \"nationality-all\"], \"exclude_features\": \"sex\", \"exclude_subgroups\": \"drop-non-german\", \"model\": \"rf\", \"scale\": \"scale\", \"training_size\": \"5k\", \"training_year\": \"2010_14\"}",
    "universe_id": "d9d31f3691c662ae24fa584160b023f1"
   },
   "start_time": "2025-07-30T21:12:02.313403",
   "version": "2.6.0"
  }
 },
 "nbformat": 4,
 "nbformat_minor": 5
}