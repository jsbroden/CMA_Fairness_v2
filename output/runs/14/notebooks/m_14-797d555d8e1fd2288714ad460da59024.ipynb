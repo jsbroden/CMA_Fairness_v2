{
 "cells": [
  {
   "cell_type": "code",
   "execution_count": 1,
   "id": "f159f837-637b-42ba-96b5-ec9a68c44524",
   "metadata": {
    "execution": {
     "iopub.execute_input": "2025-07-30T21:39:35.001171Z",
     "iopub.status.busy": "2025-07-30T21:39:35.000685Z",
     "iopub.status.idle": "2025-07-30T21:39:35.014685Z",
     "shell.execute_reply": "2025-07-30T21:39:35.013751Z"
    },
    "papermill": {
     "duration": 0.036476,
     "end_time": "2025-07-30T21:39:35.016162",
     "exception": false,
     "start_time": "2025-07-30T21:39:34.979686",
     "status": "completed"
    },
    "tags": []
   },
   "outputs": [
    {
     "name": "stdout",
     "output_type": "stream",
     "text": [
      "/dss/dsshome1/0C/ra93lal2/cma/CMA_Fairness_v2\n"
     ]
    },
    {
     "name": "stderr",
     "output_type": "stream",
     "text": [
      "/dss/dsshome1/0C/ra93lal2/.local/share/virtualenvs/CMA_Fairness_v2-3j10GkSs/lib/python3.10/site-packages/IPython/core/magics/osm.py:393: UserWarning: This is now an optional IPython functionality, using bookmarks requires you to install the `pickleshare` library.\n",
      "  bkms = self.shell.db.get('bookmarks', {})\n",
      "/dss/dsshome1/0C/ra93lal2/.local/share/virtualenvs/CMA_Fairness_v2-3j10GkSs/lib/python3.10/site-packages/IPython/core/magics/osm.py:417: UserWarning: This is now an optional IPython functionality, setting dhist requires you to install the `pickleshare` library.\n",
      "  self.shell.db['dhist'] = compress_dhist(dhist)[-100:]\n"
     ]
    }
   ],
   "source": [
    "%cd ~/cma/CMA_Fairness_v2"
   ]
  },
  {
   "cell_type": "markdown",
   "id": "de2603b9",
   "metadata": {
    "papermill": {
     "duration": 0.02134,
     "end_time": "2025-07-30T21:39:35.058394",
     "exception": false,
     "start_time": "2025-07-30T21:39:35.037054",
     "status": "completed"
    },
    "tags": []
   },
   "source": [
    "The following cell holds the definition of our parameters, these values can be overriden by rendering the with e.g. the following command:\n",
    "\n",
    "papermill -p alpha 0.2 -p ratio 0.3 universe_analysis.ipynb output/test_run.ipynb"
   ]
  },
  {
   "cell_type": "code",
   "execution_count": 2,
   "id": "a80968a0-40bb-4fa9-85ef-2d5eefb01975",
   "metadata": {
    "execution": {
     "iopub.execute_input": "2025-07-30T21:39:35.101648Z",
     "iopub.status.busy": "2025-07-30T21:39:35.101159Z",
     "iopub.status.idle": "2025-07-30T21:39:35.106764Z",
     "shell.execute_reply": "2025-07-30T21:39:35.105827Z"
    },
    "papermill": {
     "duration": 0.030353,
     "end_time": "2025-07-30T21:39:35.108908",
     "exception": false,
     "start_time": "2025-07-30T21:39:35.078555",
     "status": "completed"
    },
    "tags": []
   },
   "outputs": [
    {
     "name": "stdout",
     "output_type": "stream",
     "text": [
      "Current working directory: /dss/dsshome1/0C/ra93lal2/cma/CMA_Fairness_v2\n"
     ]
    }
   ],
   "source": [
    "import os\n",
    "print(\"Current working directory:\", os.getcwd())"
   ]
  },
  {
   "cell_type": "code",
   "execution_count": 3,
   "id": "2dce4c03",
   "metadata": {
    "execution": {
     "iopub.execute_input": "2025-07-30T21:39:35.134587Z",
     "iopub.status.busy": "2025-07-30T21:39:35.134195Z",
     "iopub.status.idle": "2025-07-30T21:39:35.140829Z",
     "shell.execute_reply": "2025-07-30T21:39:35.139657Z"
    },
    "papermill": {
     "duration": 0.020331,
     "end_time": "2025-07-30T21:39:35.142646",
     "exception": false,
     "start_time": "2025-07-30T21:39:35.122315",
     "status": "completed"
    },
    "tags": [
     "parameters"
    ]
   },
   "outputs": [],
   "source": [
    "run_no = 0\n",
    "universe_id = \"test\"\n",
    "universe = {\n",
    "    \"training_size\": \"25k\", # \"25k\", \"5k\", \"1k\"\n",
    "    \"training_year\": \"2014\", # \"2014\", \"2012_14\", \"2010_14\"\n",
    "    \"scale\": \"scale\", # \"scale\", \"do-not-scale\",\n",
    "    #\"stratify_split\": \"target\", # \"none\", \"target\", \"protected-attribute\", \"both\",\n",
    "    \"model\": \"elasticnet\", # \"logreg\", \"penalized_logreg\", \"rf\", \"gbm\", \"elasticnet\"\n",
    "    \"cutoff\": [\"quantile_0.15\", \"quantile_0.30\"],\n",
    "    \"exclude_features\": \"age\", # \"none\", \"nationality\", \"sex\", \"nationality-sex\", \"age\"\n",
    "    \"exclude_subgroups\": \"keep-all\", # \"keep-all\", \"drop-non-german\"\n",
    "    \"eval_fairness_grouping\": [\"majority-minority\", \"nationality-all\"]\n",
    "}\n",
    "\n",
    "output_dir=\"./output\"\n",
    "seed=0"
   ]
  },
  {
   "cell_type": "code",
   "execution_count": 4,
   "id": "f31384be",
   "metadata": {
    "execution": {
     "iopub.execute_input": "2025-07-30T21:39:35.186820Z",
     "iopub.status.busy": "2025-07-30T21:39:35.185986Z",
     "iopub.status.idle": "2025-07-30T21:39:35.191793Z",
     "shell.execute_reply": "2025-07-30T21:39:35.190701Z"
    },
    "papermill": {
     "duration": 0.029774,
     "end_time": "2025-07-30T21:39:35.193732",
     "exception": false,
     "start_time": "2025-07-30T21:39:35.163958",
     "status": "completed"
    },
    "tags": [
     "injected-parameters"
    ]
   },
   "outputs": [],
   "source": [
    "# Parameters\n",
    "universe_id = \"797d555d8e1fd2288714ad460da59024\"\n",
    "run_no = \"14\"\n",
    "universe = \"{\\\"cutoff\\\": [\\\"quantile_0.1\\\", \\\"quantile_0.25\\\"], \\\"eval_fairness_grouping\\\": [\\\"majority-minority\\\", \\\"nationality-all\\\"], \\\"exclude_features\\\": \\\"nationality-sex\\\", \\\"exclude_subgroups\\\": \\\"drop-non-german\\\", \\\"model\\\": \\\"penalized_logreg\\\", \\\"scale\\\": \\\"do-not-scale\\\", \\\"training_size\\\": \\\"1k\\\", \\\"training_year\\\": \\\"2012_14\\\"}\"\n",
    "output_dir = \"output\"\n",
    "seed = \"2023\"\n"
   ]
  },
  {
   "cell_type": "code",
   "execution_count": 5,
   "id": "1650acaf",
   "metadata": {
    "execution": {
     "iopub.execute_input": "2025-07-30T21:39:35.237473Z",
     "iopub.status.busy": "2025-07-30T21:39:35.236734Z",
     "iopub.status.idle": "2025-07-30T21:39:35.241995Z",
     "shell.execute_reply": "2025-07-30T21:39:35.240983Z"
    },
    "papermill": {
     "duration": 0.027968,
     "end_time": "2025-07-30T21:39:35.243767",
     "exception": false,
     "start_time": "2025-07-30T21:39:35.215799",
     "status": "completed"
    },
    "tags": []
   },
   "outputs": [],
   "source": [
    "import json\n",
    "# Parse universe into dict if it is passed as a string\n",
    "if isinstance(universe, str):\n",
    "    universe = json.loads(universe)"
   ]
  },
  {
   "cell_type": "code",
   "execution_count": 6,
   "id": "16620c48",
   "metadata": {
    "execution": {
     "iopub.execute_input": "2025-07-30T21:39:35.279399Z",
     "iopub.status.busy": "2025-07-30T21:39:35.279036Z",
     "iopub.status.idle": "2025-07-30T21:39:35.327385Z",
     "shell.execute_reply": "2025-07-30T21:39:35.326327Z"
    },
    "papermill": {
     "duration": 0.063698,
     "end_time": "2025-07-30T21:39:35.329826",
     "exception": false,
     "start_time": "2025-07-30T21:39:35.266128",
     "status": "completed"
    },
    "tags": []
   },
   "outputs": [],
   "source": [
    "# Auto-reload the custom package\n",
    "%load_ext autoreload\n",
    "%autoreload 1\n",
    "%aimport fairness_multiverse"
   ]
  },
  {
   "cell_type": "code",
   "execution_count": 7,
   "id": "01c5c9f3",
   "metadata": {
    "execution": {
     "iopub.execute_input": "2025-07-30T21:39:35.381438Z",
     "iopub.status.busy": "2025-07-30T21:39:35.380947Z",
     "iopub.status.idle": "2025-07-30T21:39:37.362872Z",
     "shell.execute_reply": "2025-07-30T21:39:37.361749Z"
    },
    "papermill": {
     "duration": 2.007366,
     "end_time": "2025-07-30T21:39:37.365195",
     "exception": false,
     "start_time": "2025-07-30T21:39:35.357829",
     "status": "completed"
    },
    "tags": []
   },
   "outputs": [],
   "source": [
    "from fairness_multiverse.universe import UniverseAnalysis\n",
    "\n",
    "universe_analysis = UniverseAnalysis(\n",
    "    run_no = run_no,\n",
    "    universe_id = universe_id,\n",
    "    universe = universe,\n",
    "    output_dir=output_dir,\n",
    ")"
   ]
  },
  {
   "cell_type": "code",
   "execution_count": 8,
   "id": "106241f5",
   "metadata": {
    "execution": {
     "iopub.execute_input": "2025-07-30T21:39:37.412273Z",
     "iopub.status.busy": "2025-07-30T21:39:37.411454Z",
     "iopub.status.idle": "2025-07-30T21:39:37.420397Z",
     "shell.execute_reply": "2025-07-30T21:39:37.419307Z"
    },
    "papermill": {
     "duration": 0.033787,
     "end_time": "2025-07-30T21:39:37.422298",
     "exception": false,
     "start_time": "2025-07-30T21:39:37.388511",
     "status": "completed"
    },
    "tags": []
   },
   "outputs": [
    {
     "name": "stdout",
     "output_type": "stream",
     "text": [
      "Using Seed: 2023\n"
     ]
    }
   ],
   "source": [
    "import numpy as np\n",
    "parsed_seed = int(seed)\n",
    "np.random.seed(parsed_seed)\n",
    "print(f\"Using Seed: {parsed_seed}\")"
   ]
  },
  {
   "cell_type": "markdown",
   "id": "e0ebdc57",
   "metadata": {
    "papermill": {
     "duration": 0.022083,
     "end_time": "2025-07-30T21:39:37.467490",
     "exception": false,
     "start_time": "2025-07-30T21:39:37.445407",
     "status": "completed"
    },
    "tags": []
   },
   "source": [
    "# Loading Data"
   ]
  },
  {
   "cell_type": "markdown",
   "id": "681925a3",
   "metadata": {
    "papermill": {
     "duration": 0.021125,
     "end_time": "2025-07-30T21:39:37.509314",
     "exception": false,
     "start_time": "2025-07-30T21:39:37.488189",
     "status": "completed"
    },
    "tags": []
   },
   "source": [
    "Load siab_train, siab_test, siab_calib and/or \n",
    "load siab_train_features, siab_train_labels"
   ]
  },
  {
   "cell_type": "code",
   "execution_count": 9,
   "id": "f0496b8a",
   "metadata": {
    "execution": {
     "iopub.execute_input": "2025-07-30T21:39:37.552903Z",
     "iopub.status.busy": "2025-07-30T21:39:37.552403Z",
     "iopub.status.idle": "2025-07-30T21:39:49.511056Z",
     "shell.execute_reply": "2025-07-30T21:39:49.509790Z"
    },
    "papermill": {
     "duration": 11.982041,
     "end_time": "2025-07-30T21:39:49.512765",
     "exception": false,
     "start_time": "2025-07-30T21:39:37.530724",
     "status": "completed"
    },
    "tags": []
   },
   "outputs": [
    {
     "name": "stdout",
     "output_type": "stream",
     "text": [
      "Loading SIAB data from cache: data/siab_cached.csv.gz\n"
     ]
    },
    {
     "name": "stdout",
     "output_type": "stream",
     "text": [
      "(643690, 164)\n"
     ]
    }
   ],
   "source": [
    "from pathlib import Path\n",
    "import pandas as pd\n",
    "\n",
    "# File paths\n",
    "raw_file = Path(\"data/raw/siab.csv\")\n",
    "cache_file = Path(\"data/siab_cached.csv.gz\")\n",
    "\n",
    "# Ensure cache directory exists\n",
    "cache_file.parent.mkdir(parents=True, exist_ok=True)\n",
    "\n",
    "# Load with simple caching\n",
    "if cache_file.exists():\n",
    "    print(f\"Loading SIAB data from cache: {cache_file}\")\n",
    "    siab = pd.read_csv(cache_file, compression='gzip')\n",
    "else:\n",
    "    print(f\"Cache not found. Reading raw SIAB data: {raw_file}\")\n",
    "    siab = pd.read_csv(raw_file)\n",
    "    siab.to_csv(cache_file, index=False, compression='gzip')\n",
    "    print(f\"Cached SIAB data to: {cache_file}\")\n",
    "\n",
    "# Now use `siab` DataFrame as needed\n",
    "print(siab.shape)"
   ]
  },
  {
   "cell_type": "code",
   "execution_count": 10,
   "id": "db0ca512-5f53-4dba-abdb-a2888bca41ba",
   "metadata": {
    "execution": {
     "iopub.execute_input": "2025-07-30T21:39:49.562703Z",
     "iopub.status.busy": "2025-07-30T21:39:49.562135Z",
     "iopub.status.idle": "2025-07-30T21:39:49.568088Z",
     "shell.execute_reply": "2025-07-30T21:39:49.567034Z"
    },
    "papermill": {
     "duration": 0.031803,
     "end_time": "2025-07-30T21:39:49.569899",
     "exception": false,
     "start_time": "2025-07-30T21:39:49.538096",
     "status": "completed"
    },
    "tags": []
   },
   "outputs": [],
   "source": [
    "#siab"
   ]
  },
  {
   "cell_type": "code",
   "execution_count": 11,
   "id": "a0edb063",
   "metadata": {
    "execution": {
     "iopub.execute_input": "2025-07-30T21:39:49.617796Z",
     "iopub.status.busy": "2025-07-30T21:39:49.617129Z",
     "iopub.status.idle": "2025-07-30T21:39:49.622634Z",
     "shell.execute_reply": "2025-07-30T21:39:49.621744Z"
    },
    "papermill": {
     "duration": 0.030987,
     "end_time": "2025-07-30T21:39:49.624332",
     "exception": false,
     "start_time": "2025-07-30T21:39:49.593345",
     "status": "completed"
    },
    "tags": []
   },
   "outputs": [],
   "source": [
    "#import pandas as pd\n",
    "#\n",
    "#X_train = pd.read_csv(\"./data/X_train.csv\")\n",
    "#y_train = pd.read_csv(\"./data/y_train.csv\")"
   ]
  },
  {
   "cell_type": "code",
   "execution_count": 12,
   "id": "63d08085",
   "metadata": {
    "execution": {
     "iopub.execute_input": "2025-07-30T21:39:49.670449Z",
     "iopub.status.busy": "2025-07-30T21:39:49.669491Z",
     "iopub.status.idle": "2025-07-30T21:39:49.674895Z",
     "shell.execute_reply": "2025-07-30T21:39:49.673963Z"
    },
    "papermill": {
     "duration": 0.029839,
     "end_time": "2025-07-30T21:39:49.676696",
     "exception": false,
     "start_time": "2025-07-30T21:39:49.646857",
     "status": "completed"
    },
    "tags": []
   },
   "outputs": [],
   "source": [
    "#X_test = pd.read_csv(\"./data/X_test.csv\")\n",
    "#y_true = pd.read_csv(\"./data/y_test.csv\")"
   ]
  },
  {
   "cell_type": "code",
   "execution_count": 13,
   "id": "98a8d0fa-1d3d-4ed8-bb2c-281470e24add",
   "metadata": {
    "execution": {
     "iopub.execute_input": "2025-07-30T21:39:49.721905Z",
     "iopub.status.busy": "2025-07-30T21:39:49.721239Z",
     "iopub.status.idle": "2025-07-30T21:39:49.726182Z",
     "shell.execute_reply": "2025-07-30T21:39:49.725287Z"
    },
    "papermill": {
     "duration": 0.030725,
     "end_time": "2025-07-30T21:39:49.727855",
     "exception": false,
     "start_time": "2025-07-30T21:39:49.697130",
     "status": "completed"
    },
    "tags": []
   },
   "outputs": [],
   "source": [
    "# Calibration data for conformal\n",
    "#X_calib = pd.read_csv(\"./data/X_calib.csv\")\n",
    "#y_calib = pd.read_csv(\"./data/y_calib.csv\")"
   ]
  },
  {
   "cell_type": "markdown",
   "id": "997051c5-15bd-4b69-9786-c3001a3ce484",
   "metadata": {
    "papermill": {
     "duration": 0.022524,
     "end_time": "2025-07-30T21:39:49.773685",
     "exception": false,
     "start_time": "2025-07-30T21:39:49.751161",
     "status": "completed"
    },
    "tags": []
   },
   "source": [
    "# Splitting Data and Setting Training Data Size"
   ]
  },
  {
   "cell_type": "code",
   "execution_count": 14,
   "id": "e993b61f-042d-41a6-8c81-f55681f86335",
   "metadata": {
    "execution": {
     "iopub.execute_input": "2025-07-30T21:39:49.821353Z",
     "iopub.status.busy": "2025-07-30T21:39:49.820691Z",
     "iopub.status.idle": "2025-07-30T21:39:49.834530Z",
     "shell.execute_reply": "2025-07-30T21:39:49.833401Z"
    },
    "papermill": {
     "duration": 0.039887,
     "end_time": "2025-07-30T21:39:49.836436",
     "exception": false,
     "start_time": "2025-07-30T21:39:49.796549",
     "status": "completed"
    },
    "tags": []
   },
   "outputs": [],
   "source": [
    "def sample_by_year_size(df,\n",
    "                        training_year: str,\n",
    "                        training_size: str,\n",
    "                        random_state: int = 42):\n",
    "    # --- parse training_year into a list of int years ---\n",
    "    if \"_\" in training_year:\n",
    "        start_str, end_str = training_year.split(\"_\", 1)\n",
    "        start = int(start_str)\n",
    "        end   = int(end_str) if len(end_str) == 4 else (int(end_str) + (start // 100)*100)\n",
    "        years = list(range(start, end + 1))\n",
    "    else:\n",
    "        years = [int(training_year)]\n",
    "\n",
    "    df = df[df[\"year\"].isin(years)].reset_index(drop=True)\n",
    "\n",
    "    # --- map training_size to total number of samples ---\n",
    "    total_map = {\"25k\": 25_000, \"5k\": 5_000, \"1k\": 1_000}\n",
    "    if training_size not in total_map:\n",
    "        return df  # e.g. \"all\"\n",
    "\n",
    "    total_samples = total_map[training_size]\n",
    "    n_years       = len(years)\n",
    "    base          = total_samples // n_years\n",
    "    remainder     = total_samples % n_years\n",
    "\n",
    "    # --- build a dict: year -> how many to sample ---\n",
    "    # give +1 to the first `remainder` years in ascending order\n",
    "    quotas = {\n",
    "        year: base + (1 if idx < remainder else 0)\n",
    "        for idx, year in enumerate(sorted(years))\n",
    "    }\n",
    "\n",
    "    # --- sample per‐year according to the quota dict ---\n",
    "    sampled = (\n",
    "        df\n",
    "        .groupby(\"year\", group_keys=False)\n",
    "        .apply(lambda grp: grp.sample(\n",
    "            n=min(len(grp), quotas[grp.name]),\n",
    "            random_state=random_state))\n",
    "        .reset_index(drop=True)\n",
    "    )\n",
    "\n",
    "    return sampled"
   ]
  },
  {
   "cell_type": "code",
   "execution_count": 15,
   "id": "c0ccd338-0e02-41f3-a09d-f56f9266e3fb",
   "metadata": {
    "execution": {
     "iopub.execute_input": "2025-07-30T21:39:49.885214Z",
     "iopub.status.busy": "2025-07-30T21:39:49.884553Z",
     "iopub.status.idle": "2025-07-30T21:39:49.890017Z",
     "shell.execute_reply": "2025-07-30T21:39:49.889140Z"
    },
    "papermill": {
     "duration": 0.031149,
     "end_time": "2025-07-30T21:39:49.891691",
     "exception": false,
     "start_time": "2025-07-30T21:39:49.860542",
     "status": "completed"
    },
    "tags": []
   },
   "outputs": [],
   "source": [
    "#universe[\"training_size\"]"
   ]
  },
  {
   "cell_type": "code",
   "execution_count": 16,
   "id": "ca707fd7-8047-4acd-bfa5-66248fbbf8e6",
   "metadata": {
    "execution": {
     "iopub.execute_input": "2025-07-30T21:39:49.939574Z",
     "iopub.status.busy": "2025-07-30T21:39:49.938680Z",
     "iopub.status.idle": "2025-07-30T21:39:49.944079Z",
     "shell.execute_reply": "2025-07-30T21:39:49.943043Z"
    },
    "papermill": {
     "duration": 0.030892,
     "end_time": "2025-07-30T21:39:49.945887",
     "exception": false,
     "start_time": "2025-07-30T21:39:49.914995",
     "status": "completed"
    },
    "tags": []
   },
   "outputs": [],
   "source": [
    "#universe[\"training_year\"]"
   ]
  },
  {
   "cell_type": "code",
   "execution_count": 17,
   "id": "aea9c6ef-6f46-42c8-85eb-5a62025c1508",
   "metadata": {
    "execution": {
     "iopub.execute_input": "2025-07-30T21:39:49.996000Z",
     "iopub.status.busy": "2025-07-30T21:39:49.995379Z",
     "iopub.status.idle": "2025-07-30T21:39:50.575958Z",
     "shell.execute_reply": "2025-07-30T21:39:50.574813Z"
    },
    "papermill": {
     "duration": 0.608239,
     "end_time": "2025-07-30T21:39:50.578270",
     "exception": false,
     "start_time": "2025-07-30T21:39:49.970031",
     "status": "completed"
    },
    "tags": []
   },
   "outputs": [],
   "source": [
    "siab_train = sample_by_year_size(siab,\n",
    "                               training_year=universe[\"training_year\"],\n",
    "                               training_size=universe[\"training_size\"])"
   ]
  },
  {
   "cell_type": "code",
   "execution_count": 18,
   "id": "8d3afb32-789d-442c-8d5d-9f5aa8dd2eed",
   "metadata": {
    "execution": {
     "iopub.execute_input": "2025-07-30T21:39:50.629279Z",
     "iopub.status.busy": "2025-07-30T21:39:50.628569Z",
     "iopub.status.idle": "2025-07-30T21:39:50.634728Z",
     "shell.execute_reply": "2025-07-30T21:39:50.633503Z"
    },
    "papermill": {
     "duration": 0.033665,
     "end_time": "2025-07-30T21:39:50.636772",
     "exception": false,
     "start_time": "2025-07-30T21:39:50.603107",
     "status": "completed"
    },
    "tags": []
   },
   "outputs": [],
   "source": [
    "#siab_train.shape"
   ]
  },
  {
   "cell_type": "code",
   "execution_count": 19,
   "id": "d582db68-1a4c-47fb-84fc-08518dc1975a",
   "metadata": {
    "execution": {
     "iopub.execute_input": "2025-07-30T21:39:50.687289Z",
     "iopub.status.busy": "2025-07-30T21:39:50.686760Z",
     "iopub.status.idle": "2025-07-30T21:39:50.691669Z",
     "shell.execute_reply": "2025-07-30T21:39:50.690779Z"
    },
    "papermill": {
     "duration": 0.031938,
     "end_time": "2025-07-30T21:39:50.693275",
     "exception": false,
     "start_time": "2025-07-30T21:39:50.661337",
     "status": "completed"
    },
    "tags": []
   },
   "outputs": [],
   "source": [
    "#display(siab_train.groupby(\"year\").size())"
   ]
  },
  {
   "cell_type": "code",
   "execution_count": 20,
   "id": "a561edb4-d032-42cb-8256-22eac1111c64",
   "metadata": {
    "execution": {
     "iopub.execute_input": "2025-07-30T21:39:50.743530Z",
     "iopub.status.busy": "2025-07-30T21:39:50.742997Z",
     "iopub.status.idle": "2025-07-30T21:39:51.002803Z",
     "shell.execute_reply": "2025-07-30T21:39:51.001815Z"
    },
    "papermill": {
     "duration": 0.286804,
     "end_time": "2025-07-30T21:39:51.004845",
     "exception": false,
     "start_time": "2025-07-30T21:39:50.718041",
     "status": "completed"
    },
    "tags": []
   },
   "outputs": [],
   "source": [
    "#siab_train = siab_s[siab_s.year < 2015]\n",
    "siab_calib = siab[siab.year == 2015]\n",
    "siab_test = siab[siab.year == 2016]"
   ]
  },
  {
   "cell_type": "code",
   "execution_count": 21,
   "id": "472de16f-c3db-4916-846b-1f0de9cf1746",
   "metadata": {
    "execution": {
     "iopub.execute_input": "2025-07-30T21:39:51.049169Z",
     "iopub.status.busy": "2025-07-30T21:39:51.048253Z",
     "iopub.status.idle": "2025-07-30T21:39:51.055767Z",
     "shell.execute_reply": "2025-07-30T21:39:51.054797Z"
    },
    "papermill": {
     "duration": 0.031491,
     "end_time": "2025-07-30T21:39:51.057471",
     "exception": false,
     "start_time": "2025-07-30T21:39:51.025980",
     "status": "completed"
    },
    "tags": []
   },
   "outputs": [],
   "source": [
    "X_train = siab_train.iloc[:,4:164]\n",
    "y_train = siab_train.iloc[:, [3]]"
   ]
  },
  {
   "cell_type": "code",
   "execution_count": 22,
   "id": "828c96af-f43a-4ed6-ba47-8ac73a47d56c",
   "metadata": {
    "execution": {
     "iopub.execute_input": "2025-07-30T21:39:51.104716Z",
     "iopub.status.busy": "2025-07-30T21:39:51.103598Z",
     "iopub.status.idle": "2025-07-30T21:39:51.159553Z",
     "shell.execute_reply": "2025-07-30T21:39:51.158472Z"
    },
    "papermill": {
     "duration": 0.081139,
     "end_time": "2025-07-30T21:39:51.161784",
     "exception": false,
     "start_time": "2025-07-30T21:39:51.080645",
     "status": "completed"
    },
    "tags": []
   },
   "outputs": [],
   "source": [
    "X_calib = siab_calib.iloc[:,4:164]\n",
    "y_calib = siab_calib.iloc[:, [3]]"
   ]
  },
  {
   "cell_type": "code",
   "execution_count": 23,
   "id": "c34be9c3-6bd6-476e-acd3-845840e303be",
   "metadata": {
    "execution": {
     "iopub.execute_input": "2025-07-30T21:39:51.210529Z",
     "iopub.status.busy": "2025-07-30T21:39:51.209754Z",
     "iopub.status.idle": "2025-07-30T21:39:51.267543Z",
     "shell.execute_reply": "2025-07-30T21:39:51.266524Z"
    },
    "papermill": {
     "duration": 0.082341,
     "end_time": "2025-07-30T21:39:51.269387",
     "exception": false,
     "start_time": "2025-07-30T21:39:51.187046",
     "status": "completed"
    },
    "tags": []
   },
   "outputs": [],
   "source": [
    "X_test = siab_test.iloc[:,4:164]\n",
    "y_true = siab_test.iloc[:, [3]]"
   ]
  },
  {
   "cell_type": "markdown",
   "id": "9901737e-04df-44f0-9100-f5ad144ed040",
   "metadata": {
    "papermill": {
     "duration": 0.022541,
     "end_time": "2025-07-30T21:39:51.315080",
     "exception": false,
     "start_time": "2025-07-30T21:39:51.292539",
     "status": "completed"
    },
    "tags": []
   },
   "source": [
    "# Splitting Data and Setting Training Data Size OLD VERSION"
   ]
  },
  {
   "cell_type": "code",
   "execution_count": 24,
   "id": "acbc8f7d-8fc8-4e86-8c59-5dcb0f58384b",
   "metadata": {
    "execution": {
     "iopub.execute_input": "2025-07-30T21:39:51.361665Z",
     "iopub.status.busy": "2025-07-30T21:39:51.360796Z",
     "iopub.status.idle": "2025-07-30T21:39:51.367060Z",
     "shell.execute_reply": "2025-07-30T21:39:51.366124Z"
    },
    "papermill": {
     "duration": 0.031086,
     "end_time": "2025-07-30T21:39:51.368780",
     "exception": false,
     "start_time": "2025-07-30T21:39:51.337694",
     "status": "completed"
    },
    "tags": []
   },
   "outputs": [],
   "source": [
    "#def sample_by_year(df, training_size, random_state=42):\n",
    "#    if training_size == \"2014\":\n",
    "#        return df[df[\"year\"] == 2014].reset_index(drop=True)\n",
    "#    \n",
    "#    size_map = {\n",
    "#        \"25k\": 5000,\n",
    "#        \"5k\": 1000,\n",
    "#        \"1k\": 200\n",
    "#    }\n",
    "#\n",
    "#    if training_size not in size_map:\n",
    "#        return df.reset_index(drop=True)  # use all data\n",
    "#\n",
    "#    n_per_year = size_map[training_size]\n",
    "#    grouped = df.groupby(\"year\")\n",
    "#    sampled = grouped.apply(lambda x: x.sample(n=min(n_per_year, len(x)), random_state=random_state))\n",
    "#    return sampled.reset_index(drop=True)"
   ]
  },
  {
   "cell_type": "code",
   "execution_count": 25,
   "id": "6d931f52-beaf-43ff-9e78-9d44a448d54e",
   "metadata": {
    "execution": {
     "iopub.execute_input": "2025-07-30T21:39:51.415006Z",
     "iopub.status.busy": "2025-07-30T21:39:51.414363Z",
     "iopub.status.idle": "2025-07-30T21:39:51.419463Z",
     "shell.execute_reply": "2025-07-30T21:39:51.418512Z"
    },
    "papermill": {
     "duration": 0.029988,
     "end_time": "2025-07-30T21:39:51.421090",
     "exception": false,
     "start_time": "2025-07-30T21:39:51.391102",
     "status": "completed"
    },
    "tags": []
   },
   "outputs": [],
   "source": [
    "#siab_s = sample_by_year(siab, universe[\"training_size\"])"
   ]
  },
  {
   "cell_type": "code",
   "execution_count": 26,
   "id": "5db0a40e-a4e2-4920-be85-b12ae061d70d",
   "metadata": {
    "execution": {
     "iopub.execute_input": "2025-07-30T21:39:51.467242Z",
     "iopub.status.busy": "2025-07-30T21:39:51.466362Z",
     "iopub.status.idle": "2025-07-30T21:39:51.471781Z",
     "shell.execute_reply": "2025-07-30T21:39:51.470931Z"
    },
    "papermill": {
     "duration": 0.030958,
     "end_time": "2025-07-30T21:39:51.473582",
     "exception": false,
     "start_time": "2025-07-30T21:39:51.442624",
     "status": "completed"
    },
    "tags": []
   },
   "outputs": [],
   "source": [
    "#display(siab_s.groupby(\"year\").size())"
   ]
  },
  {
   "cell_type": "code",
   "execution_count": 27,
   "id": "e6c733c5",
   "metadata": {
    "execution": {
     "iopub.execute_input": "2025-07-30T21:39:51.521155Z",
     "iopub.status.busy": "2025-07-30T21:39:51.520139Z",
     "iopub.status.idle": "2025-07-30T21:39:51.614937Z",
     "shell.execute_reply": "2025-07-30T21:39:51.613861Z"
    },
    "papermill": {
     "duration": 0.121107,
     "end_time": "2025-07-30T21:39:51.617055",
     "exception": false,
     "start_time": "2025-07-30T21:39:51.495948",
     "status": "completed"
    },
    "tags": []
   },
   "outputs": [],
   "source": [
    "# Auxiliary data needed downstream in the pipeline\n",
    "\n",
    "org_train = X_train.copy()\n",
    "org_test = X_test.copy()\n",
    "org_calib = X_calib.copy()"
   ]
  },
  {
   "cell_type": "code",
   "execution_count": 28,
   "id": "1466abac-c6da-4492-a62f-4240ae3783af",
   "metadata": {
    "execution": {
     "iopub.execute_input": "2025-07-30T21:39:51.666588Z",
     "iopub.status.busy": "2025-07-30T21:39:51.665902Z",
     "iopub.status.idle": "2025-07-30T21:39:51.672307Z",
     "shell.execute_reply": "2025-07-30T21:39:51.671192Z"
    },
    "papermill": {
     "duration": 0.031987,
     "end_time": "2025-07-30T21:39:51.673898",
     "exception": false,
     "start_time": "2025-07-30T21:39:51.641911",
     "status": "completed"
    },
    "tags": []
   },
   "outputs": [],
   "source": [
    "# put in other script?\n",
    "# Group sizes\n",
    "\n",
    "#def calculate_percentages(df, df_name):\n",
    "#    total_entries = len(df)\n",
    "#\n",
    "#    female_pct = (df['frau1'] == 1).mean() * 100\n",
    "#    non_german_pct = ((df['maxdeutsch1'] == 0) & (df['maxdeutsch.Missing.'] == 0)).mean() * 100\n",
    "#    non_german_male_pct = ((df['frau1'] == 0) & (df['maxdeutsch1'] == 0) & (df['maxdeutsch.Missing.'] == 0)).mean() * 100\n",
    "#    non_german_female_pct = ((df['frau1'] == 1) & (df['maxdeutsch1'] == 0) & (df['maxdeutsch.Missing.'] == 0)).mean() * 100\n",
    "#\n",
    "#    print(f\"--- {df_name} ---\")\n",
    "#    print(f\"Female: {female_pct:.2f}%\")\n",
    "#    print(f\"Non-German: {non_german_pct:.2f}%\")\n",
    "#    print(f\"Non-German Male: {non_german_male_pct:.2f}%\")\n",
    "#    print(f\"Non-German Female: {non_german_female_pct:.2f}%\\n\")\n",
    "#\n",
    "## Calculate for each DataFrame\n",
    "#calculate_percentages(siab_calib, \"siab_calib\")\n",
    "#calculate_percentages(siab_test, \"siab_test\")\n",
    "#calculate_percentages(siab_train, \"siab_train\")"
   ]
  },
  {
   "cell_type": "markdown",
   "id": "0a4a1b33",
   "metadata": {
    "papermill": {
     "duration": 0.022318,
     "end_time": "2025-07-30T21:39:51.717729",
     "exception": false,
     "start_time": "2025-07-30T21:39:51.695411",
     "status": "completed"
    },
    "tags": []
   },
   "source": [
    "# Preprocessing Data"
   ]
  },
  {
   "cell_type": "code",
   "execution_count": 29,
   "id": "ca879031",
   "metadata": {
    "execution": {
     "iopub.execute_input": "2025-07-30T21:39:51.763639Z",
     "iopub.status.busy": "2025-07-30T21:39:51.763136Z",
     "iopub.status.idle": "2025-07-30T21:39:51.769437Z",
     "shell.execute_reply": "2025-07-30T21:39:51.768579Z"
    },
    "papermill": {
     "duration": 0.032159,
     "end_time": "2025-07-30T21:39:51.771196",
     "exception": false,
     "start_time": "2025-07-30T21:39:51.739037",
     "status": "completed"
    },
    "tags": []
   },
   "outputs": [],
   "source": [
    "# EXCLUDE PROTECTED FEATURES\n",
    "# ----------------------\n",
    "# \"exclude_features\": \"none\", # \"nationality\", \"sex\", \"nationality-sex\"\n",
    "\n",
    "excluded_features = universe[\"exclude_features\"].split(\"-\") # split, e.g.: \"nationality-sex\" -> [\"nationality\", \"sex\"]\n",
    "excluded_features_dictionary = {\n",
    "    \"nationality\": [\"maxdeutsch1\", \"maxdeutsch.Missing.\"],\n",
    "    \"sex\": [\"frau1\"],\n",
    "    \"age\": [\"age\"],\n",
    "}\n"
   ]
  },
  {
   "cell_type": "code",
   "execution_count": 30,
   "id": "b745ac60",
   "metadata": {
    "execution": {
     "iopub.execute_input": "2025-07-30T21:39:51.820644Z",
     "iopub.status.busy": "2025-07-30T21:39:51.819927Z",
     "iopub.status.idle": "2025-07-30T21:39:51.826140Z",
     "shell.execute_reply": "2025-07-30T21:39:51.825126Z"
    },
    "papermill": {
     "duration": 0.031267,
     "end_time": "2025-07-30T21:39:51.827573",
     "exception": false,
     "start_time": "2025-07-30T21:39:51.796306",
     "status": "completed"
    },
    "tags": []
   },
   "outputs": [],
   "source": [
    "# Code nice names to column names\n",
    "\n",
    "excluded_features_columns = [\n",
    "    excluded_features_dictionary[f] for f in excluded_features if len(f) > 0 and f != \"none\"\n",
    "]"
   ]
  },
  {
   "cell_type": "code",
   "execution_count": 31,
   "id": "f84f73a2",
   "metadata": {
    "execution": {
     "iopub.execute_input": "2025-07-30T21:39:51.870951Z",
     "iopub.status.busy": "2025-07-30T21:39:51.870494Z",
     "iopub.status.idle": "2025-07-30T21:39:51.876702Z",
     "shell.execute_reply": "2025-07-30T21:39:51.875695Z"
    },
    "papermill": {
     "duration": 0.029655,
     "end_time": "2025-07-30T21:39:51.878322",
     "exception": false,
     "start_time": "2025-07-30T21:39:51.848667",
     "status": "completed"
    },
    "tags": []
   },
   "outputs": [],
   "source": [
    "from utils import flatten_once\n",
    "\n",
    "excluded_features_columns = flatten_once(excluded_features_columns)"
   ]
  },
  {
   "cell_type": "code",
   "execution_count": 32,
   "id": "884dea22",
   "metadata": {
    "execution": {
     "iopub.execute_input": "2025-07-30T21:39:51.926214Z",
     "iopub.status.busy": "2025-07-30T21:39:51.925374Z",
     "iopub.status.idle": "2025-07-30T21:39:51.932690Z",
     "shell.execute_reply": "2025-07-30T21:39:51.931776Z"
    },
    "papermill": {
     "duration": 0.032896,
     "end_time": "2025-07-30T21:39:51.934364",
     "exception": false,
     "start_time": "2025-07-30T21:39:51.901468",
     "status": "completed"
    },
    "tags": []
   },
   "outputs": [
    {
     "name": "stdout",
     "output_type": "stream",
     "text": [
      "Dropping features: ['maxdeutsch1', 'maxdeutsch.Missing.', 'frau1']\n"
     ]
    }
   ],
   "source": [
    "if len(excluded_features_columns) > 0:\n",
    "    print(f\"Dropping features: {excluded_features_columns}\")\n",
    "    X_train.drop(excluded_features_columns, axis=1, inplace=True)"
   ]
  },
  {
   "cell_type": "code",
   "execution_count": 33,
   "id": "95ab8b16",
   "metadata": {
    "execution": {
     "iopub.execute_input": "2025-07-30T21:39:51.982004Z",
     "iopub.status.busy": "2025-07-30T21:39:51.981224Z",
     "iopub.status.idle": "2025-07-30T21:39:52.035964Z",
     "shell.execute_reply": "2025-07-30T21:39:52.034619Z"
    },
    "papermill": {
     "duration": 0.08173,
     "end_time": "2025-07-30T21:39:52.037747",
     "exception": false,
     "start_time": "2025-07-30T21:39:51.956017",
     "status": "completed"
    },
    "tags": []
   },
   "outputs": [
    {
     "name": "stdout",
     "output_type": "stream",
     "text": [
      "Dropping features: ['maxdeutsch1', 'maxdeutsch.Missing.', 'frau1']\n"
     ]
    }
   ],
   "source": [
    "if len(excluded_features_columns) > 0:\n",
    "    print(f\"Dropping features: {excluded_features_columns}\")\n",
    "    X_test.drop(excluded_features_columns, axis=1, inplace=True)"
   ]
  },
  {
   "cell_type": "code",
   "execution_count": 34,
   "id": "1853aaf5-fb9f-46cb-a2b5-8ea4ae2237e4",
   "metadata": {
    "execution": {
     "iopub.execute_input": "2025-07-30T21:39:52.086359Z",
     "iopub.status.busy": "2025-07-30T21:39:52.085687Z",
     "iopub.status.idle": "2025-07-30T21:39:52.136152Z",
     "shell.execute_reply": "2025-07-30T21:39:52.135071Z"
    },
    "papermill": {
     "duration": 0.078617,
     "end_time": "2025-07-30T21:39:52.138769",
     "exception": false,
     "start_time": "2025-07-30T21:39:52.060152",
     "status": "completed"
    },
    "tags": []
   },
   "outputs": [
    {
     "name": "stdout",
     "output_type": "stream",
     "text": [
      "Dropping features: ['maxdeutsch1', 'maxdeutsch.Missing.', 'frau1']\n"
     ]
    }
   ],
   "source": [
    "if len(excluded_features_columns) > 0:\n",
    "    print(f\"Dropping features: {excluded_features_columns}\")\n",
    "    X_calib.drop(excluded_features_columns, axis=1, inplace=True)"
   ]
  },
  {
   "cell_type": "code",
   "execution_count": 35,
   "id": "6727d079-03e5-481e-9d38-292a90b7a0a8",
   "metadata": {
    "execution": {
     "iopub.execute_input": "2025-07-30T21:39:52.171150Z",
     "iopub.status.busy": "2025-07-30T21:39:52.170057Z",
     "iopub.status.idle": "2025-07-30T21:39:52.177628Z",
     "shell.execute_reply": "2025-07-30T21:39:52.176673Z"
    },
    "papermill": {
     "duration": 0.023166,
     "end_time": "2025-07-30T21:39:52.179643",
     "exception": false,
     "start_time": "2025-07-30T21:39:52.156477",
     "status": "completed"
    },
    "tags": []
   },
   "outputs": [],
   "source": [
    "# SPLIT & STRATIFY DATA\n",
    "# ----------------------"
   ]
  },
  {
   "cell_type": "code",
   "execution_count": 36,
   "id": "76c4dc6d",
   "metadata": {
    "execution": {
     "iopub.execute_input": "2025-07-30T21:39:52.229643Z",
     "iopub.status.busy": "2025-07-30T21:39:52.229196Z",
     "iopub.status.idle": "2025-07-30T21:39:52.234960Z",
     "shell.execute_reply": "2025-07-30T21:39:52.234066Z"
    },
    "papermill": {
     "duration": 0.032805,
     "end_time": "2025-07-30T21:39:52.236703",
     "exception": false,
     "start_time": "2025-07-30T21:39:52.203898",
     "status": "completed"
    },
    "tags": []
   },
   "outputs": [],
   "source": [
    "# EXCLUDE CERTAIN SUBGROUPS\n",
    "# ----------------------\n",
    "\n",
    "mode = universe.get(\"exclude_subgroups\", \"keep-all\") \n",
    "# Fetches the exclude_subgroups setting from the universe dict.\n",
    "# Defaults to \"keep-all\" if the key is missing."
   ]
  },
  {
   "cell_type": "code",
   "execution_count": 37,
   "id": "21994072",
   "metadata": {
    "execution": {
     "iopub.execute_input": "2025-07-30T21:39:52.269658Z",
     "iopub.status.busy": "2025-07-30T21:39:52.269318Z",
     "iopub.status.idle": "2025-07-30T21:39:52.274490Z",
     "shell.execute_reply": "2025-07-30T21:39:52.273708Z"
    },
    "papermill": {
     "duration": 0.018597,
     "end_time": "2025-07-30T21:39:52.275767",
     "exception": false,
     "start_time": "2025-07-30T21:39:52.257170",
     "status": "completed"
    },
    "tags": []
   },
   "outputs": [],
   "source": [
    "if mode == \"keep-all\":\n",
    "    keep_mask = pd.Series(True, index=org_train.index)\n",
    "\n",
    "# org_train contains the original feature columns from features_org (in Simson)\n",
    "# features_org contains unprocessed features, for me X_train at beginning ???\n",
    "# For keep-all, creates a boolean Series (keep_mask) of all True, so no rows are removed.\n",
    "\n",
    "elif mode == \"drop-non-german\":\n",
    "    keep_mask = org_train[\"maxdeutsch1\"] == 1 # ??? what about missing values?\n",
    "\n",
    "else:\n",
    "    raise ValueError(f\"Unsupported mode for exclude_subgroups: {mode}\")\n"
   ]
  },
  {
   "cell_type": "code",
   "execution_count": 38,
   "id": "71651440",
   "metadata": {
    "execution": {
     "iopub.execute_input": "2025-07-30T21:39:52.304231Z",
     "iopub.status.busy": "2025-07-30T21:39:52.303791Z",
     "iopub.status.idle": "2025-07-30T21:39:52.309925Z",
     "shell.execute_reply": "2025-07-30T21:39:52.308969Z"
    },
    "papermill": {
     "duration": 0.023638,
     "end_time": "2025-07-30T21:39:52.311576",
     "exception": false,
     "start_time": "2025-07-30T21:39:52.287938",
     "status": "completed"
    },
    "tags": []
   },
   "outputs": [
    {
     "name": "stdout",
     "output_type": "stream",
     "text": [
      "Dropping 147 rows (14.70%) where mode='drop-non-german'\n"
     ]
    }
   ],
   "source": [
    "n_drop = (~keep_mask).sum() # Calculates how many rows are set to be dropped\n",
    "if n_drop > 0:\n",
    "    pct = n_drop / len(keep_mask) * 100\n",
    "    print(f\"Dropping {n_drop} rows ({pct:.2f}%) where mode='{mode}'\")"
   ]
  },
  {
   "cell_type": "code",
   "execution_count": 39,
   "id": "5fb8eee5",
   "metadata": {
    "execution": {
     "iopub.execute_input": "2025-07-30T21:39:52.337555Z",
     "iopub.status.busy": "2025-07-30T21:39:52.337063Z",
     "iopub.status.idle": "2025-07-30T21:39:52.342358Z",
     "shell.execute_reply": "2025-07-30T21:39:52.341651Z"
    },
    "papermill": {
     "duration": 0.032993,
     "end_time": "2025-07-30T21:39:52.357716",
     "exception": false,
     "start_time": "2025-07-30T21:39:52.324723",
     "status": "completed"
    },
    "tags": []
   },
   "outputs": [],
   "source": [
    "X_train = X_train[keep_mask]"
   ]
  },
  {
   "cell_type": "code",
   "execution_count": 40,
   "id": "b202bb3a",
   "metadata": {
    "execution": {
     "iopub.execute_input": "2025-07-30T21:39:52.404942Z",
     "iopub.status.busy": "2025-07-30T21:39:52.404089Z",
     "iopub.status.idle": "2025-07-30T21:39:52.409818Z",
     "shell.execute_reply": "2025-07-30T21:39:52.409007Z"
    },
    "papermill": {
     "duration": 0.041805,
     "end_time": "2025-07-30T21:39:52.422486",
     "exception": false,
     "start_time": "2025-07-30T21:39:52.380681",
     "status": "completed"
    },
    "tags": []
   },
   "outputs": [],
   "source": [
    "y_train = y_train[keep_mask]"
   ]
  },
  {
   "cell_type": "markdown",
   "id": "493e2ac3",
   "metadata": {
    "papermill": {
     "duration": 0.022475,
     "end_time": "2025-07-30T21:39:52.468594",
     "exception": false,
     "start_time": "2025-07-30T21:39:52.446119",
     "status": "completed"
    },
    "tags": []
   },
   "source": [
    "# Model Training"
   ]
  },
  {
   "cell_type": "code",
   "execution_count": 41,
   "id": "679e1268",
   "metadata": {
    "execution": {
     "iopub.execute_input": "2025-07-30T21:39:52.523957Z",
     "iopub.status.busy": "2025-07-30T21:39:52.523494Z",
     "iopub.status.idle": "2025-07-30T21:39:52.626219Z",
     "shell.execute_reply": "2025-07-30T21:39:52.625304Z"
    },
    "papermill": {
     "duration": 0.133119,
     "end_time": "2025-07-30T21:39:52.628094",
     "exception": false,
     "start_time": "2025-07-30T21:39:52.494975",
     "status": "completed"
    },
    "tags": []
   },
   "outputs": [],
   "source": [
    "from sklearn.linear_model import LogisticRegression\n",
    "from sklearn.ensemble import GradientBoostingClassifier, RandomForestClassifier\n",
    "\n",
    "if (universe[\"model\"] == \"logreg\"):\n",
    "    model = LogisticRegression() #penalty=\"none\") #, solver=\"newton-cg\", max_iter=1) # include random_state=19 ?\n",
    "elif (universe[\"model\"] == \"penalized_logreg\"):\n",
    "    model = LogisticRegression(penalty=\"l2\", C=1.0) #, solver=\"newton-cg\", max_iter=1)\n",
    "elif (universe[\"model\"] == \"rf\"):\n",
    "    model = RandomForestClassifier(n_estimators=100, n_jobs=-1)\n",
    "elif (universe[\"model\"] == \"gbm\"):\n",
    "    model = GradientBoostingClassifier()\n",
    "elif (universe[\"model\"] == \"elasticnet\"):\n",
    "    model = LogisticRegression(penalty = 'elasticnet', solver = 'saga', l1_ratio = 0.5, max_iter=5000) # which solver to use?\n",
    "else:\n",
    "    raise \"Unsupported universe.model\""
   ]
  },
  {
   "cell_type": "code",
   "execution_count": 42,
   "id": "0cc8f744",
   "metadata": {
    "execution": {
     "iopub.execute_input": "2025-07-30T21:39:52.677548Z",
     "iopub.status.busy": "2025-07-30T21:39:52.677047Z",
     "iopub.status.idle": "2025-07-30T21:39:52.683575Z",
     "shell.execute_reply": "2025-07-30T21:39:52.682383Z"
    },
    "papermill": {
     "duration": 0.032951,
     "end_time": "2025-07-30T21:39:52.685200",
     "exception": false,
     "start_time": "2025-07-30T21:39:52.652249",
     "status": "completed"
    },
    "tags": []
   },
   "outputs": [],
   "source": [
    "import numpy as np\n",
    "from sklearn.pipeline import Pipeline\n",
    "from sklearn.preprocessing import StandardScaler\n",
    "\n",
    "model = Pipeline([\n",
    "    #(\"continuous_processor\", continuous_processor),\n",
    "    #(\"categorical_preprocessor\", categorical_preprocessor),\n",
    "    (\"scale\", StandardScaler() if universe[\"scale\"] == \"scale\" else None), \n",
    "    (\"model\", model),\n",
    "])"
   ]
  },
  {
   "cell_type": "code",
   "execution_count": 43,
   "id": "9442c04d",
   "metadata": {
    "execution": {
     "iopub.execute_input": "2025-07-30T21:39:52.734860Z",
     "iopub.status.busy": "2025-07-30T21:39:52.734159Z",
     "iopub.status.idle": "2025-07-30T21:39:52.823633Z",
     "shell.execute_reply": "2025-07-30T21:39:52.822637Z"
    },
    "papermill": {
     "duration": 0.116185,
     "end_time": "2025-07-30T21:39:52.825767",
     "exception": false,
     "start_time": "2025-07-30T21:39:52.709582",
     "status": "completed"
    },
    "tags": []
   },
   "outputs": [
    {
     "name": "stderr",
     "output_type": "stream",
     "text": [
      "/dss/dsshome1/0C/ra93lal2/.local/share/virtualenvs/CMA_Fairness_v2-3j10GkSs/lib/python3.10/site-packages/sklearn/linear_model/_logistic.py:444: ConvergenceWarning: lbfgs failed to converge (status=1):\n",
      "STOP: TOTAL NO. of ITERATIONS REACHED LIMIT.\n",
      "\n",
      "Increase the number of iterations (max_iter) or scale the data as shown in:\n",
      "    https://scikit-learn.org/stable/modules/preprocessing.html\n",
      "Please also refer to the documentation for alternative solver options:\n",
      "    https://scikit-learn.org/stable/modules/linear_model.html#logistic-regression\n",
      "  n_iter_i = _check_optimize_result(\n"
     ]
    },
    {
     "data": {
      "text/html": [
       "<style>#sk-container-id-1 {color: black;background-color: white;}#sk-container-id-1 pre{padding: 0;}#sk-container-id-1 div.sk-toggleable {background-color: white;}#sk-container-id-1 label.sk-toggleable__label {cursor: pointer;display: block;width: 100%;margin-bottom: 0;padding: 0.3em;box-sizing: border-box;text-align: center;}#sk-container-id-1 label.sk-toggleable__label-arrow:before {content: \"▸\";float: left;margin-right: 0.25em;color: #696969;}#sk-container-id-1 label.sk-toggleable__label-arrow:hover:before {color: black;}#sk-container-id-1 div.sk-estimator:hover label.sk-toggleable__label-arrow:before {color: black;}#sk-container-id-1 div.sk-toggleable__content {max-height: 0;max-width: 0;overflow: hidden;text-align: left;background-color: #f0f8ff;}#sk-container-id-1 div.sk-toggleable__content pre {margin: 0.2em;color: black;border-radius: 0.25em;background-color: #f0f8ff;}#sk-container-id-1 input.sk-toggleable__control:checked~div.sk-toggleable__content {max-height: 200px;max-width: 100%;overflow: auto;}#sk-container-id-1 input.sk-toggleable__control:checked~label.sk-toggleable__label-arrow:before {content: \"▾\";}#sk-container-id-1 div.sk-estimator input.sk-toggleable__control:checked~label.sk-toggleable__label {background-color: #d4ebff;}#sk-container-id-1 div.sk-label input.sk-toggleable__control:checked~label.sk-toggleable__label {background-color: #d4ebff;}#sk-container-id-1 input.sk-hidden--visually {border: 0;clip: rect(1px 1px 1px 1px);clip: rect(1px, 1px, 1px, 1px);height: 1px;margin: -1px;overflow: hidden;padding: 0;position: absolute;width: 1px;}#sk-container-id-1 div.sk-estimator {font-family: monospace;background-color: #f0f8ff;border: 1px dotted black;border-radius: 0.25em;box-sizing: border-box;margin-bottom: 0.5em;}#sk-container-id-1 div.sk-estimator:hover {background-color: #d4ebff;}#sk-container-id-1 div.sk-parallel-item::after {content: \"\";width: 100%;border-bottom: 1px solid gray;flex-grow: 1;}#sk-container-id-1 div.sk-label:hover label.sk-toggleable__label {background-color: #d4ebff;}#sk-container-id-1 div.sk-serial::before {content: \"\";position: absolute;border-left: 1px solid gray;box-sizing: border-box;top: 0;bottom: 0;left: 50%;z-index: 0;}#sk-container-id-1 div.sk-serial {display: flex;flex-direction: column;align-items: center;background-color: white;padding-right: 0.2em;padding-left: 0.2em;position: relative;}#sk-container-id-1 div.sk-item {position: relative;z-index: 1;}#sk-container-id-1 div.sk-parallel {display: flex;align-items: stretch;justify-content: center;background-color: white;position: relative;}#sk-container-id-1 div.sk-item::before, #sk-container-id-1 div.sk-parallel-item::before {content: \"\";position: absolute;border-left: 1px solid gray;box-sizing: border-box;top: 0;bottom: 0;left: 50%;z-index: -1;}#sk-container-id-1 div.sk-parallel-item {display: flex;flex-direction: column;z-index: 1;position: relative;background-color: white;}#sk-container-id-1 div.sk-parallel-item:first-child::after {align-self: flex-end;width: 50%;}#sk-container-id-1 div.sk-parallel-item:last-child::after {align-self: flex-start;width: 50%;}#sk-container-id-1 div.sk-parallel-item:only-child::after {width: 0;}#sk-container-id-1 div.sk-dashed-wrapped {border: 1px dashed gray;margin: 0 0.4em 0.5em 0.4em;box-sizing: border-box;padding-bottom: 0.4em;background-color: white;}#sk-container-id-1 div.sk-label label {font-family: monospace;font-weight: bold;display: inline-block;line-height: 1.2em;}#sk-container-id-1 div.sk-label-container {text-align: center;}#sk-container-id-1 div.sk-container {/* jupyter's `normalize.less` sets `[hidden] { display: none; }` but bootstrap.min.css set `[hidden] { display: none !important; }` so we also need the `!important` here to be able to override the default hidden behavior on the sphinx rendered scikit-learn.org. See: https://github.com/scikit-learn/scikit-learn/issues/21755 */display: inline-block !important;position: relative;}#sk-container-id-1 div.sk-text-repr-fallback {display: none;}</style><div id=\"sk-container-id-1\" class=\"sk-top-container\"><div class=\"sk-text-repr-fallback\"><pre>Pipeline(steps=[(&#x27;scale&#x27;, None), (&#x27;model&#x27;, LogisticRegression())])</pre><b>In a Jupyter environment, please rerun this cell to show the HTML representation or trust the notebook. <br />On GitHub, the HTML representation is unable to render, please try loading this page with nbviewer.org.</b></div><div class=\"sk-container\" hidden><div class=\"sk-item sk-dashed-wrapped\"><div class=\"sk-label-container\"><div class=\"sk-label sk-toggleable\"><input class=\"sk-toggleable__control sk-hidden--visually\" id=\"sk-estimator-id-1\" type=\"checkbox\" ><label for=\"sk-estimator-id-1\" class=\"sk-toggleable__label sk-toggleable__label-arrow\">Pipeline</label><div class=\"sk-toggleable__content\"><pre>Pipeline(steps=[(&#x27;scale&#x27;, None), (&#x27;model&#x27;, LogisticRegression())])</pre></div></div></div><div class=\"sk-serial\"><div class=\"sk-item\"><div class=\"sk-estimator sk-toggleable\"><input class=\"sk-toggleable__control sk-hidden--visually\" id=\"sk-estimator-id-2\" type=\"checkbox\" ><label for=\"sk-estimator-id-2\" class=\"sk-toggleable__label sk-toggleable__label-arrow\">None</label><div class=\"sk-toggleable__content\"><pre>None</pre></div></div></div><div class=\"sk-item\"><div class=\"sk-estimator sk-toggleable\"><input class=\"sk-toggleable__control sk-hidden--visually\" id=\"sk-estimator-id-3\" type=\"checkbox\" ><label for=\"sk-estimator-id-3\" class=\"sk-toggleable__label sk-toggleable__label-arrow\">LogisticRegression</label><div class=\"sk-toggleable__content\"><pre>LogisticRegression()</pre></div></div></div></div></div></div></div>"
      ],
      "text/plain": [
       "Pipeline(steps=[('scale', None), ('model', LogisticRegression())])"
      ]
     },
     "execution_count": 43,
     "metadata": {},
     "output_type": "execute_result"
    }
   ],
   "source": [
    "model.fit(X_train, y_train.values.ravel())"
   ]
  },
  {
   "cell_type": "code",
   "execution_count": 44,
   "id": "af59f8c0",
   "metadata": {
    "execution": {
     "iopub.execute_input": "2025-07-30T21:39:52.881905Z",
     "iopub.status.busy": "2025-07-30T21:39:52.881444Z",
     "iopub.status.idle": "2025-07-30T21:39:52.886763Z",
     "shell.execute_reply": "2025-07-30T21:39:52.885758Z"
    },
    "papermill": {
     "duration": 0.030695,
     "end_time": "2025-07-30T21:39:52.888395",
     "exception": false,
     "start_time": "2025-07-30T21:39:52.857700",
     "status": "completed"
    },
    "tags": []
   },
   "outputs": [],
   "source": [
    "from fairness_multiverse.universe import predict_w_threshold"
   ]
  },
  {
   "cell_type": "code",
   "execution_count": 45,
   "id": "a7cf2e16",
   "metadata": {
    "execution": {
     "iopub.execute_input": "2025-07-30T21:39:52.939467Z",
     "iopub.status.busy": "2025-07-30T21:39:52.938812Z",
     "iopub.status.idle": "2025-07-30T21:39:53.033850Z",
     "shell.execute_reply": "2025-07-30T21:39:53.032795Z"
    },
    "papermill": {
     "duration": 0.122604,
     "end_time": "2025-07-30T21:39:53.035795",
     "exception": false,
     "start_time": "2025-07-30T21:39:52.913191",
     "status": "completed"
    },
    "tags": []
   },
   "outputs": [
    {
     "data": {
      "text/plain": [
       "0.8591461375543418"
      ]
     },
     "execution_count": 45,
     "metadata": {},
     "output_type": "execute_result"
    }
   ],
   "source": [
    "probs_test = model.predict_proba(X_test)\n",
    "\n",
    "'''\n",
    "Below code returns a boolean array (or binary 0/1 array depending on how it’s used) where each element \n",
    "is True if the probability of class 1 is greater than or equal to the threshold, and False otherwise.\n",
    "'''\n",
    "y_pred_default = predict_w_threshold(probs_test, 0.5)\n",
    "\n",
    "from sklearn.metrics import accuracy_score\n",
    "\n",
    "# Naive prediction\n",
    "accuracy_score(y_true = y_true, y_pred = y_pred_default)"
   ]
  },
  {
   "cell_type": "code",
   "execution_count": 46,
   "id": "081964c3",
   "metadata": {
    "execution": {
     "iopub.execute_input": "2025-07-30T21:39:53.083790Z",
     "iopub.status.busy": "2025-07-30T21:39:53.082844Z",
     "iopub.status.idle": "2025-07-30T21:39:53.169082Z",
     "shell.execute_reply": "2025-07-30T21:39:53.168166Z"
    },
    "papermill": {
     "duration": 0.109663,
     "end_time": "2025-07-30T21:39:53.170680",
     "exception": false,
     "start_time": "2025-07-30T21:39:53.061017",
     "status": "completed"
    },
    "tags": []
   },
   "outputs": [
    {
     "data": {
      "text/plain": [
       "array([0, 0, 0, ..., 0, 0, 0])"
      ]
     },
     "execution_count": 46,
     "metadata": {},
     "output_type": "execute_result"
    }
   ],
   "source": [
    "model.predict(X_test)"
   ]
  },
  {
   "cell_type": "markdown",
   "id": "56c9705b",
   "metadata": {
    "papermill": {
     "duration": 0.016666,
     "end_time": "2025-07-30T21:39:53.212491",
     "exception": false,
     "start_time": "2025-07-30T21:39:53.195825",
     "status": "completed"
    },
    "tags": []
   },
   "source": [
    "# Conformal Prediction"
   ]
  },
  {
   "cell_type": "code",
   "execution_count": 47,
   "id": "160ec6ff",
   "metadata": {
    "execution": {
     "iopub.execute_input": "2025-07-30T21:39:53.240097Z",
     "iopub.status.busy": "2025-07-30T21:39:53.239648Z",
     "iopub.status.idle": "2025-07-30T21:39:53.244737Z",
     "shell.execute_reply": "2025-07-30T21:39:53.243989Z"
    },
    "papermill": {
     "duration": 0.020639,
     "end_time": "2025-07-30T21:39:53.246044",
     "exception": false,
     "start_time": "2025-07-30T21:39:53.225405",
     "status": "completed"
    },
    "tags": []
   },
   "outputs": [],
   "source": [
    "# Miscoverage level for conformal prediction (10% allowed error rate => 90% target coverage)\n",
    "alpha = 0.1"
   ]
  },
  {
   "cell_type": "code",
   "execution_count": 48,
   "id": "eadf4555-3dd3-440e-8e35-f82a4ad9f855",
   "metadata": {
    "execution": {
     "iopub.execute_input": "2025-07-30T21:39:53.277851Z",
     "iopub.status.busy": "2025-07-30T21:39:53.277505Z",
     "iopub.status.idle": "2025-07-30T21:39:53.350363Z",
     "shell.execute_reply": "2025-07-30T21:39:53.349618Z"
    },
    "papermill": {
     "duration": 0.087675,
     "end_time": "2025-07-30T21:39:53.351847",
     "exception": false,
     "start_time": "2025-07-30T21:39:53.264172",
     "status": "completed"
    },
    "tags": []
   },
   "outputs": [],
   "source": [
    "probs_calib = model.predict_proba(X_calib)"
   ]
  },
  {
   "cell_type": "code",
   "execution_count": 49,
   "id": "2ed93547-6d5d-4983-9b36-1ecb300da49a",
   "metadata": {
    "execution": {
     "iopub.execute_input": "2025-07-30T21:39:53.382568Z",
     "iopub.status.busy": "2025-07-30T21:39:53.382225Z",
     "iopub.status.idle": "2025-07-30T21:39:53.387307Z",
     "shell.execute_reply": "2025-07-30T21:39:53.386519Z"
    },
    "papermill": {
     "duration": 0.019839,
     "end_time": "2025-07-30T21:39:53.388647",
     "exception": false,
     "start_time": "2025-07-30T21:39:53.368808",
     "status": "completed"
    },
    "tags": []
   },
   "outputs": [],
   "source": [
    "y_calib = y_calib.values.ravel().astype(int)"
   ]
  },
  {
   "cell_type": "code",
   "execution_count": 50,
   "id": "65d1320d-f588-4b38-9072-62af1ae97f7d",
   "metadata": {
    "execution": {
     "iopub.execute_input": "2025-07-30T21:39:53.420841Z",
     "iopub.status.busy": "2025-07-30T21:39:53.420252Z",
     "iopub.status.idle": "2025-07-30T21:39:53.426201Z",
     "shell.execute_reply": "2025-07-30T21:39:53.425460Z"
    },
    "papermill": {
     "duration": 0.025102,
     "end_time": "2025-07-30T21:39:53.427511",
     "exception": false,
     "start_time": "2025-07-30T21:39:53.402409",
     "status": "completed"
    },
    "tags": []
   },
   "outputs": [],
   "source": [
    "from fairness_multiverse.conformal import compute_nc_scores\n",
    "\n",
    "# Compute nonconformity scores on calibration set (1 - probability of true class)\n",
    "nc_scores = compute_nc_scores(probs_calib, y_calib)"
   ]
  },
  {
   "cell_type": "code",
   "execution_count": 51,
   "id": "df3b8ca3-53b7-43d5-9667-7c85da7aeda2",
   "metadata": {
    "execution": {
     "iopub.execute_input": "2025-07-30T21:39:53.455814Z",
     "iopub.status.busy": "2025-07-30T21:39:53.455318Z",
     "iopub.status.idle": "2025-07-30T21:39:53.460993Z",
     "shell.execute_reply": "2025-07-30T21:39:53.460304Z"
    },
    "papermill": {
     "duration": 0.02106,
     "end_time": "2025-07-30T21:39:53.462309",
     "exception": false,
     "start_time": "2025-07-30T21:39:53.441249",
     "status": "completed"
    },
    "tags": []
   },
   "outputs": [],
   "source": [
    "from fairness_multiverse.conformal import find_threshold\n",
    "\n",
    "# Find conformal threshold q_hat for the given alpha (split conformal method)\n",
    "q_hat = find_threshold(nc_scores, alpha)"
   ]
  },
  {
   "cell_type": "code",
   "execution_count": 52,
   "id": "4d29e6c1-0ef6-4aa4-b8fe-4fe79b0d033a",
   "metadata": {
    "execution": {
     "iopub.execute_input": "2025-07-30T21:39:53.493182Z",
     "iopub.status.busy": "2025-07-30T21:39:53.492496Z",
     "iopub.status.idle": "2025-07-30T21:39:53.498679Z",
     "shell.execute_reply": "2025-07-30T21:39:53.497976Z"
    },
    "papermill": {
     "duration": 0.0206,
     "end_time": "2025-07-30T21:39:53.499965",
     "exception": false,
     "start_time": "2025-07-30T21:39:53.479365",
     "status": "completed"
    },
    "tags": []
   },
   "outputs": [
    {
     "data": {
      "text/plain": [
       "0.6928312022045862"
      ]
     },
     "execution_count": 52,
     "metadata": {},
     "output_type": "execute_result"
    }
   ],
   "source": [
    "q_hat"
   ]
  },
  {
   "cell_type": "code",
   "execution_count": 53,
   "id": "92460794-cdac-4be2-ba28-f28c0515a6fb",
   "metadata": {
    "execution": {
     "iopub.execute_input": "2025-07-30T21:39:53.530850Z",
     "iopub.status.busy": "2025-07-30T21:39:53.530173Z",
     "iopub.status.idle": "2025-07-30T21:39:54.241691Z",
     "shell.execute_reply": "2025-07-30T21:39:54.240940Z"
    },
    "papermill": {
     "duration": 0.730106,
     "end_time": "2025-07-30T21:39:54.243091",
     "exception": false,
     "start_time": "2025-07-30T21:39:53.512985",
     "status": "completed"
    },
    "tags": []
   },
   "outputs": [],
   "source": [
    "from fairness_multiverse.conformal import predict_conformal_sets\n",
    "\n",
    "# Generate prediction sets for each test example\n",
    "pred_sets = predict_conformal_sets(model, X_test, q_hat)"
   ]
  },
  {
   "cell_type": "code",
   "execution_count": 54,
   "id": "d90c9a65-e6db-4f5d-80cd-e68fb7e46829",
   "metadata": {
    "execution": {
     "iopub.execute_input": "2025-07-30T21:39:54.285935Z",
     "iopub.status.busy": "2025-07-30T21:39:54.285413Z",
     "iopub.status.idle": "2025-07-30T21:39:54.291773Z",
     "shell.execute_reply": "2025-07-30T21:39:54.290620Z"
    },
    "papermill": {
     "duration": 0.036065,
     "end_time": "2025-07-30T21:39:54.293773",
     "exception": false,
     "start_time": "2025-07-30T21:39:54.257708",
     "status": "completed"
    },
    "tags": []
   },
   "outputs": [],
   "source": [
    "y_true = y_true.squeeze()"
   ]
  },
  {
   "cell_type": "code",
   "execution_count": 55,
   "id": "3a58a54a-1e68-46b9-927a-df01f18aebc8",
   "metadata": {
    "execution": {
     "iopub.execute_input": "2025-07-30T21:39:54.336739Z",
     "iopub.status.busy": "2025-07-30T21:39:54.336255Z",
     "iopub.status.idle": "2025-07-30T21:39:55.064773Z",
     "shell.execute_reply": "2025-07-30T21:39:55.063929Z"
    },
    "papermill": {
     "duration": 0.747473,
     "end_time": "2025-07-30T21:39:55.066275",
     "exception": false,
     "start_time": "2025-07-30T21:39:54.318802",
     "status": "completed"
    },
    "tags": []
   },
   "outputs": [],
   "source": [
    "from fairness_multiverse.conformal import evaluate_sets\n",
    "\n",
    "# Evaluate coverage and average set size on test data\n",
    "metrics = evaluate_sets(pred_sets, y_true)"
   ]
  },
  {
   "cell_type": "markdown",
   "id": "2b569c12-9aaa-4c88-98c9-bbcd0cf3ebb8",
   "metadata": {
    "papermill": {
     "duration": 0.012919,
     "end_time": "2025-07-30T21:39:55.092651",
     "exception": false,
     "start_time": "2025-07-30T21:39:55.079732",
     "status": "completed"
    },
    "tags": []
   },
   "source": [
    "# CP Metrics"
   ]
  },
  {
   "cell_type": "code",
   "execution_count": 56,
   "id": "5ce0a5cb-201f-45a0-ade5-94c7f0bd6095",
   "metadata": {
    "execution": {
     "iopub.execute_input": "2025-07-30T21:39:55.120552Z",
     "iopub.status.busy": "2025-07-30T21:39:55.120023Z",
     "iopub.status.idle": "2025-07-30T21:39:55.126536Z",
     "shell.execute_reply": "2025-07-30T21:39:55.125739Z"
    },
    "papermill": {
     "duration": 0.021739,
     "end_time": "2025-07-30T21:39:55.127743",
     "exception": false,
     "start_time": "2025-07-30T21:39:55.106004",
     "status": "completed"
    },
    "tags": []
   },
   "outputs": [
    {
     "data": {
      "text/plain": [
       "{'coverage': 0.911826998105005, 'avg_size': 1.2235202318582097}"
      ]
     },
     "execution_count": 56,
     "metadata": {},
     "output_type": "execute_result"
    }
   ],
   "source": [
    "metrics"
   ]
  },
  {
   "cell_type": "code",
   "execution_count": 57,
   "id": "9b9a838d-31c9-430b-ae14-12baee460d17",
   "metadata": {
    "execution": {
     "iopub.execute_input": "2025-07-30T21:39:55.156249Z",
     "iopub.status.busy": "2025-07-30T21:39:55.155692Z",
     "iopub.status.idle": "2025-07-30T21:39:55.161494Z",
     "shell.execute_reply": "2025-07-30T21:39:55.160822Z"
    },
    "papermill": {
     "duration": 0.021413,
     "end_time": "2025-07-30T21:39:55.162909",
     "exception": false,
     "start_time": "2025-07-30T21:39:55.141496",
     "status": "completed"
    },
    "tags": []
   },
   "outputs": [],
   "source": [
    "example_universe = universe.copy()\n",
    "universe_training_year = example_universe.get(\"training_year\")\n",
    "universe_training_size = example_universe.get(\"training_size\")\n",
    "universe_scale = example_universe.get(\"scale\")\n",
    "universe_model = example_universe.get(\"model\")\n",
    "universe_exclude_features = example_universe.get(\"exclude_features\")\n",
    "universe_exclude_subgroups = example_universe.get(\"exclude_subgroups\")"
   ]
  },
  {
   "cell_type": "code",
   "execution_count": 58,
   "id": "f4b6a8ac-9dc0-4245-8a91-5b3b5999c4f9",
   "metadata": {
    "execution": {
     "iopub.execute_input": "2025-07-30T21:39:55.191782Z",
     "iopub.status.busy": "2025-07-30T21:39:55.191280Z",
     "iopub.status.idle": "2025-07-30T21:39:55.196898Z",
     "shell.execute_reply": "2025-07-30T21:39:55.196091Z"
    },
    "papermill": {
     "duration": 0.021229,
     "end_time": "2025-07-30T21:39:55.198248",
     "exception": false,
     "start_time": "2025-07-30T21:39:55.177019",
     "status": "completed"
    },
    "tags": []
   },
   "outputs": [],
   "source": [
    "cp_metrics_dict = {\n",
    "    \"universe_id\": [universe_id],\n",
    "    \"universe_training_year\": [universe_training_year],\n",
    "    \"universe_training_size\": [universe_training_size],\n",
    "    \"universe_scale\": [universe_scale],\n",
    "    \"universe_model\": [universe_model],\n",
    "    \"universe_exclude_features\": [universe_exclude_features],\n",
    "    \"universe_exclude_subgroups\": [universe_exclude_subgroups],\n",
    "    \"q_hat\": [q_hat],\n",
    "    \"coverage\": [metrics[\"coverage\"]],\n",
    "    \"avg_size\": [metrics[\"avg_size\"]],\n",
    "}"
   ]
  },
  {
   "cell_type": "code",
   "execution_count": 59,
   "id": "908acbb1-0371-4915-85ca-3fa520d2efe2",
   "metadata": {
    "execution": {
     "iopub.execute_input": "2025-07-30T21:39:55.227108Z",
     "iopub.status.busy": "2025-07-30T21:39:55.226607Z",
     "iopub.status.idle": "2025-07-30T21:39:55.233257Z",
     "shell.execute_reply": "2025-07-30T21:39:55.232577Z"
    },
    "papermill": {
     "duration": 0.021942,
     "end_time": "2025-07-30T21:39:55.234513",
     "exception": false,
     "start_time": "2025-07-30T21:39:55.212571",
     "status": "completed"
    },
    "tags": []
   },
   "outputs": [
    {
     "data": {
      "text/plain": [
       "{'universe_id': ['797d555d8e1fd2288714ad460da59024'],\n",
       " 'universe_training_year': ['2012_14'],\n",
       " 'universe_training_size': ['1k'],\n",
       " 'universe_scale': ['do-not-scale'],\n",
       " 'universe_model': ['penalized_logreg'],\n",
       " 'universe_exclude_features': ['nationality-sex'],\n",
       " 'universe_exclude_subgroups': ['drop-non-german'],\n",
       " 'q_hat': [0.6928312022045862],\n",
       " 'coverage': [0.911826998105005],\n",
       " 'avg_size': [1.2235202318582097]}"
      ]
     },
     "execution_count": 59,
     "metadata": {},
     "output_type": "execute_result"
    }
   ],
   "source": [
    "cp_metrics_dict"
   ]
  },
  {
   "cell_type": "code",
   "execution_count": 60,
   "id": "33007efc-14e9-4ec6-97ac-56a455c82265",
   "metadata": {
    "execution": {
     "iopub.execute_input": "2025-07-30T21:39:55.262763Z",
     "iopub.status.busy": "2025-07-30T21:39:55.262263Z",
     "iopub.status.idle": "2025-07-30T21:39:55.267861Z",
     "shell.execute_reply": "2025-07-30T21:39:55.267011Z"
    },
    "papermill": {
     "duration": 0.02111,
     "end_time": "2025-07-30T21:39:55.269269",
     "exception": false,
     "start_time": "2025-07-30T21:39:55.248159",
     "status": "completed"
    },
    "tags": []
   },
   "outputs": [],
   "source": [
    "cp_metrics_df = pd.DataFrame(cp_metrics_dict)"
   ]
  },
  {
   "cell_type": "code",
   "execution_count": 61,
   "id": "db12611b-57b2-4910-b9d0-355adfd6e7bf",
   "metadata": {
    "execution": {
     "iopub.execute_input": "2025-07-30T21:39:55.298173Z",
     "iopub.status.busy": "2025-07-30T21:39:55.297758Z",
     "iopub.status.idle": "2025-07-30T21:39:55.311663Z",
     "shell.execute_reply": "2025-07-30T21:39:55.310945Z"
    },
    "papermill": {
     "duration": 0.029829,
     "end_time": "2025-07-30T21:39:55.313002",
     "exception": false,
     "start_time": "2025-07-30T21:39:55.283173",
     "status": "completed"
    },
    "tags": []
   },
   "outputs": [
    {
     "data": {
      "text/html": [
       "<div>\n",
       "<style scoped>\n",
       "    .dataframe tbody tr th:only-of-type {\n",
       "        vertical-align: middle;\n",
       "    }\n",
       "\n",
       "    .dataframe tbody tr th {\n",
       "        vertical-align: top;\n",
       "    }\n",
       "\n",
       "    .dataframe thead th {\n",
       "        text-align: right;\n",
       "    }\n",
       "</style>\n",
       "<table border=\"1\" class=\"dataframe\">\n",
       "  <thead>\n",
       "    <tr style=\"text-align: right;\">\n",
       "      <th></th>\n",
       "      <th>universe_id</th>\n",
       "      <th>universe_training_year</th>\n",
       "      <th>universe_training_size</th>\n",
       "      <th>universe_scale</th>\n",
       "      <th>universe_model</th>\n",
       "      <th>universe_exclude_features</th>\n",
       "      <th>universe_exclude_subgroups</th>\n",
       "      <th>q_hat</th>\n",
       "      <th>coverage</th>\n",
       "      <th>avg_size</th>\n",
       "    </tr>\n",
       "  </thead>\n",
       "  <tbody>\n",
       "    <tr>\n",
       "      <th>0</th>\n",
       "      <td>797d555d8e1fd2288714ad460da59024</td>\n",
       "      <td>2012_14</td>\n",
       "      <td>1k</td>\n",
       "      <td>do-not-scale</td>\n",
       "      <td>penalized_logreg</td>\n",
       "      <td>nationality-sex</td>\n",
       "      <td>drop-non-german</td>\n",
       "      <td>0.692831</td>\n",
       "      <td>0.911827</td>\n",
       "      <td>1.22352</td>\n",
       "    </tr>\n",
       "  </tbody>\n",
       "</table>\n",
       "</div>"
      ],
      "text/plain": [
       "                        universe_id universe_training_year  \\\n",
       "0  797d555d8e1fd2288714ad460da59024                2012_14   \n",
       "\n",
       "  universe_training_size universe_scale    universe_model  \\\n",
       "0                     1k   do-not-scale  penalized_logreg   \n",
       "\n",
       "  universe_exclude_features universe_exclude_subgroups     q_hat  coverage  \\\n",
       "0           nationality-sex            drop-non-german  0.692831  0.911827   \n",
       "\n",
       "   avg_size  \n",
       "0   1.22352  "
      ]
     },
     "execution_count": 61,
     "metadata": {},
     "output_type": "execute_result"
    }
   ],
   "source": [
    "cp_metrics_df"
   ]
  },
  {
   "cell_type": "code",
   "execution_count": 62,
   "id": "b7fbde55-a0a1-47e4-9af6-fe4a17fa8c61",
   "metadata": {
    "execution": {
     "iopub.execute_input": "2025-07-30T21:39:55.342474Z",
     "iopub.status.busy": "2025-07-30T21:39:55.341971Z",
     "iopub.status.idle": "2025-07-30T21:39:55.346627Z",
     "shell.execute_reply": "2025-07-30T21:39:55.345929Z"
    },
    "papermill": {
     "duration": 0.020813,
     "end_time": "2025-07-30T21:39:55.347936",
     "exception": false,
     "start_time": "2025-07-30T21:39:55.327123",
     "status": "completed"
    },
    "tags": []
   },
   "outputs": [],
   "source": [
    "# Conditional Coverage & looking at subgroups"
   ]
  },
  {
   "cell_type": "code",
   "execution_count": 63,
   "id": "027ae886-68dd-4141-96c7-805a5450e1ef",
   "metadata": {
    "execution": {
     "iopub.execute_input": "2025-07-30T21:39:55.378200Z",
     "iopub.status.busy": "2025-07-30T21:39:55.377677Z",
     "iopub.status.idle": "2025-07-30T21:39:55.602439Z",
     "shell.execute_reply": "2025-07-30T21:39:55.601453Z"
    },
    "papermill": {
     "duration": 0.24154,
     "end_time": "2025-07-30T21:39:55.603996",
     "exception": false,
     "start_time": "2025-07-30T21:39:55.362456",
     "status": "completed"
    },
    "tags": []
   },
   "outputs": [],
   "source": [
    "from fairness_multiverse.conformal import build_cp_groups\n",
    "\n",
    "cp_groups_df = build_cp_groups(pred_sets, y_true, X_test.index, org_test)\n",
    "#needs universe_id and setting"
   ]
  },
  {
   "cell_type": "code",
   "execution_count": 64,
   "id": "01d5802c-663a-4d1f-9d69-e036faaffbf7",
   "metadata": {
    "execution": {
     "iopub.execute_input": "2025-07-30T21:39:55.650511Z",
     "iopub.status.busy": "2025-07-30T21:39:55.649903Z",
     "iopub.status.idle": "2025-07-30T21:39:55.654442Z",
     "shell.execute_reply": "2025-07-30T21:39:55.653772Z"
    },
    "papermill": {
     "duration": 0.024416,
     "end_time": "2025-07-30T21:39:55.655687",
     "exception": false,
     "start_time": "2025-07-30T21:39:55.631271",
     "status": "completed"
    },
    "tags": []
   },
   "outputs": [],
   "source": [
    "#delete\n",
    "#cp_groups_df"
   ]
  },
  {
   "cell_type": "code",
   "execution_count": 65,
   "id": "fa424af1-d1eb-443d-b717-2d279ada8408",
   "metadata": {
    "execution": {
     "iopub.execute_input": "2025-07-30T21:39:55.685444Z",
     "iopub.status.busy": "2025-07-30T21:39:55.685090Z",
     "iopub.status.idle": "2025-07-30T21:39:55.689294Z",
     "shell.execute_reply": "2025-07-30T21:39:55.688455Z"
    },
    "papermill": {
     "duration": 0.020638,
     "end_time": "2025-07-30T21:39:55.690567",
     "exception": false,
     "start_time": "2025-07-30T21:39:55.669929",
     "status": "completed"
    },
    "tags": []
   },
   "outputs": [],
   "source": [
    "#delete\n",
    "#percentage = (cp_groups_df['nongerman_female'] == 1).mean() * 100\n",
    "#print(percentage)\n"
   ]
  },
  {
   "cell_type": "code",
   "execution_count": 66,
   "id": "6cbdab96-b2b2-45af-ad54-d0516db2e28d",
   "metadata": {
    "execution": {
     "iopub.execute_input": "2025-07-30T21:39:55.719891Z",
     "iopub.status.busy": "2025-07-30T21:39:55.719393Z",
     "iopub.status.idle": "2025-07-30T21:39:57.262433Z",
     "shell.execute_reply": "2025-07-30T21:39:57.261697Z"
    },
    "papermill": {
     "duration": 1.559145,
     "end_time": "2025-07-30T21:39:57.263844",
     "exception": false,
     "start_time": "2025-07-30T21:39:55.704699",
     "status": "completed"
    },
    "tags": []
   },
   "outputs": [],
   "source": [
    "# Define covered = 1 if true_label is in the predicted set\n",
    "cp_groups_df['covered'] = cp_groups_df.apply(\n",
    "    lambda r: int(r['true_label'] in r['pred_set']),\n",
    "    axis=1\n",
    ")"
   ]
  },
  {
   "cell_type": "code",
   "execution_count": 67,
   "id": "338ff529-1a6b-4b87-a931-8e4788d52aad",
   "metadata": {
    "execution": {
     "iopub.execute_input": "2025-07-30T21:39:57.319283Z",
     "iopub.status.busy": "2025-07-30T21:39:57.318856Z",
     "iopub.status.idle": "2025-07-30T21:39:57.323747Z",
     "shell.execute_reply": "2025-07-30T21:39:57.322777Z"
    },
    "papermill": {
     "duration": 0.035638,
     "end_time": "2025-07-30T21:39:57.325593",
     "exception": false,
     "start_time": "2025-07-30T21:39:57.289955",
     "status": "completed"
    },
    "tags": []
   },
   "outputs": [],
   "source": [
    "#cp_groups_df"
   ]
  },
  {
   "cell_type": "code",
   "execution_count": 68,
   "id": "90032e27-66df-4540-9169-4e89cfbaa758",
   "metadata": {
    "execution": {
     "iopub.execute_input": "2025-07-30T21:39:57.384459Z",
     "iopub.status.busy": "2025-07-30T21:39:57.384050Z",
     "iopub.status.idle": "2025-07-30T21:39:57.395714Z",
     "shell.execute_reply": "2025-07-30T21:39:57.394643Z"
    },
    "papermill": {
     "duration": 0.043711,
     "end_time": "2025-07-30T21:39:57.397924",
     "exception": false,
     "start_time": "2025-07-30T21:39:57.354213",
     "status": "completed"
    },
    "tags": []
   },
   "outputs": [],
   "source": [
    "subgroups = ['frau1','nongerman','nongerman_male','nongerman_female']\n",
    "\n",
    "# Conditional coverage for subgroup==1\n",
    "cond_coverage = {\n",
    "    g: cp_groups_df.loc[cp_groups_df[g]==1, 'covered'].mean()\n",
    "    for g in subgroups\n",
    "}"
   ]
  },
  {
   "cell_type": "code",
   "execution_count": 69,
   "id": "1e348fb1-b9c3-45bc-ba23-f016827a7e0d",
   "metadata": {
    "execution": {
     "iopub.execute_input": "2025-07-30T21:39:57.449032Z",
     "iopub.status.busy": "2025-07-30T21:39:57.448334Z",
     "iopub.status.idle": "2025-07-30T21:39:57.455687Z",
     "shell.execute_reply": "2025-07-30T21:39:57.454774Z"
    },
    "papermill": {
     "duration": 0.036771,
     "end_time": "2025-07-30T21:39:57.457464",
     "exception": false,
     "start_time": "2025-07-30T21:39:57.420693",
     "status": "completed"
    },
    "tags": []
   },
   "outputs": [
    {
     "data": {
      "text/plain": [
       "{'frau1': 0.9104461517724761,\n",
       " 'nongerman': 0.9394262617189693,\n",
       " 'nongerman_male': 0.9498333783662073,\n",
       " 'nongerman_female': 0.9222056631892698}"
      ]
     },
     "execution_count": 69,
     "metadata": {},
     "output_type": "execute_result"
    }
   ],
   "source": [
    "cond_coverage"
   ]
  },
  {
   "cell_type": "code",
   "execution_count": 70,
   "id": "f5093324-c3dd-4d63-bc4c-8d945e5c8bbb",
   "metadata": {
    "execution": {
     "iopub.execute_input": "2025-07-30T21:39:57.517068Z",
     "iopub.status.busy": "2025-07-30T21:39:57.516537Z",
     "iopub.status.idle": "2025-07-30T21:39:57.524858Z",
     "shell.execute_reply": "2025-07-30T21:39:57.523395Z"
    },
    "papermill": {
     "duration": 0.04305,
     "end_time": "2025-07-30T21:39:57.526591",
     "exception": false,
     "start_time": "2025-07-30T21:39:57.483541",
     "status": "completed"
    },
    "tags": []
   },
   "outputs": [],
   "source": [
    "for subgroup, cov in cond_coverage.items():\n",
    "    cp_metrics_df[f\"cov_{subgroup}\"] = cov"
   ]
  },
  {
   "cell_type": "code",
   "execution_count": 71,
   "id": "6e872e10-dbe5-49e8-b554-5030c98ff75d",
   "metadata": {
    "execution": {
     "iopub.execute_input": "2025-07-30T21:39:57.562658Z",
     "iopub.status.busy": "2025-07-30T21:39:57.562221Z",
     "iopub.status.idle": "2025-07-30T21:39:57.581956Z",
     "shell.execute_reply": "2025-07-30T21:39:57.580980Z"
    },
    "papermill": {
     "duration": 0.03596,
     "end_time": "2025-07-30T21:39:57.583552",
     "exception": false,
     "start_time": "2025-07-30T21:39:57.547592",
     "status": "completed"
    },
    "tags": []
   },
   "outputs": [
    {
     "data": {
      "text/html": [
       "<div>\n",
       "<style scoped>\n",
       "    .dataframe tbody tr th:only-of-type {\n",
       "        vertical-align: middle;\n",
       "    }\n",
       "\n",
       "    .dataframe tbody tr th {\n",
       "        vertical-align: top;\n",
       "    }\n",
       "\n",
       "    .dataframe thead th {\n",
       "        text-align: right;\n",
       "    }\n",
       "</style>\n",
       "<table border=\"1\" class=\"dataframe\">\n",
       "  <thead>\n",
       "    <tr style=\"text-align: right;\">\n",
       "      <th></th>\n",
       "      <th>universe_id</th>\n",
       "      <th>universe_training_year</th>\n",
       "      <th>universe_training_size</th>\n",
       "      <th>universe_scale</th>\n",
       "      <th>universe_model</th>\n",
       "      <th>universe_exclude_features</th>\n",
       "      <th>universe_exclude_subgroups</th>\n",
       "      <th>q_hat</th>\n",
       "      <th>coverage</th>\n",
       "      <th>avg_size</th>\n",
       "      <th>cov_frau1</th>\n",
       "      <th>cov_nongerman</th>\n",
       "      <th>cov_nongerman_male</th>\n",
       "      <th>cov_nongerman_female</th>\n",
       "    </tr>\n",
       "  </thead>\n",
       "  <tbody>\n",
       "    <tr>\n",
       "      <th>0</th>\n",
       "      <td>797d555d8e1fd2288714ad460da59024</td>\n",
       "      <td>2012_14</td>\n",
       "      <td>1k</td>\n",
       "      <td>do-not-scale</td>\n",
       "      <td>penalized_logreg</td>\n",
       "      <td>nationality-sex</td>\n",
       "      <td>drop-non-german</td>\n",
       "      <td>0.692831</td>\n",
       "      <td>0.911827</td>\n",
       "      <td>1.22352</td>\n",
       "      <td>0.910446</td>\n",
       "      <td>0.939426</td>\n",
       "      <td>0.949833</td>\n",
       "      <td>0.922206</td>\n",
       "    </tr>\n",
       "  </tbody>\n",
       "</table>\n",
       "</div>"
      ],
      "text/plain": [
       "                        universe_id universe_training_year  \\\n",
       "0  797d555d8e1fd2288714ad460da59024                2012_14   \n",
       "\n",
       "  universe_training_size universe_scale    universe_model  \\\n",
       "0                     1k   do-not-scale  penalized_logreg   \n",
       "\n",
       "  universe_exclude_features universe_exclude_subgroups     q_hat  coverage  \\\n",
       "0           nationality-sex            drop-non-german  0.692831  0.911827   \n",
       "\n",
       "   avg_size  cov_frau1  cov_nongerman  cov_nongerman_male  \\\n",
       "0   1.22352   0.910446       0.939426            0.949833   \n",
       "\n",
       "   cov_nongerman_female  \n",
       "0              0.922206  "
      ]
     },
     "execution_count": 71,
     "metadata": {},
     "output_type": "execute_result"
    }
   ],
   "source": [
    "cp_metrics_df"
   ]
  },
  {
   "cell_type": "markdown",
   "id": "33774451",
   "metadata": {
    "papermill": {
     "duration": 0.02471,
     "end_time": "2025-07-30T21:39:57.639782",
     "exception": false,
     "start_time": "2025-07-30T21:39:57.615072",
     "status": "completed"
    },
    "tags": []
   },
   "source": [
    "# (Fairness) Metrics"
   ]
  },
  {
   "cell_type": "code",
   "execution_count": 72,
   "id": "debc5d62",
   "metadata": {
    "execution": {
     "iopub.execute_input": "2025-07-30T21:39:57.697008Z",
     "iopub.status.busy": "2025-07-30T21:39:57.696643Z",
     "iopub.status.idle": "2025-07-30T21:39:57.717945Z",
     "shell.execute_reply": "2025-07-30T21:39:57.717085Z"
    },
    "papermill": {
     "duration": 0.05194,
     "end_time": "2025-07-30T21:39:57.719549",
     "exception": false,
     "start_time": "2025-07-30T21:39:57.667609",
     "status": "completed"
    },
    "tags": []
   },
   "outputs": [],
   "source": [
    "# do I need to include maxdeutsch1.missing?\n",
    "\n",
    "import numpy as np\n",
    "\n",
    "colname_to_bin = \"maxdeutsch1\"\n",
    "majority_value = org_train[colname_to_bin].mode()[0]\n",
    "\n",
    "org_test[\"majmin\"] = np.where(org_test[colname_to_bin] == majority_value, \"majority\", \"minority\")"
   ]
  },
  {
   "cell_type": "code",
   "execution_count": 73,
   "id": "06a50de5",
   "metadata": {
    "execution": {
     "iopub.execute_input": "2025-07-30T21:39:57.750052Z",
     "iopub.status.busy": "2025-07-30T21:39:57.749639Z",
     "iopub.status.idle": "2025-07-30T21:40:00.596956Z",
     "shell.execute_reply": "2025-07-30T21:40:00.595825Z"
    },
    "papermill": {
     "duration": 2.864132,
     "end_time": "2025-07-30T21:40:00.598976",
     "exception": false,
     "start_time": "2025-07-30T21:39:57.734844",
     "status": "completed"
    },
    "tags": []
   },
   "outputs": [],
   "source": [
    "example_universe = universe.copy()\n",
    "example_universe[\"cutoff\"] = example_universe[\"cutoff\"][0]\n",
    "example_universe[\"eval_fairness_grouping\"] = example_universe[\"eval_fairness_grouping\"][0]\n",
    "fairness_dict, metric_frame = universe_analysis.compute_metrics(\n",
    "    example_universe,\n",
    "    y_pred_prob=probs_test,\n",
    "    y_test=y_true,\n",
    "    org_test=org_test,\n",
    ")"
   ]
  },
  {
   "cell_type": "markdown",
   "id": "f95d4e02",
   "metadata": {
    "papermill": {
     "duration": 0.028891,
     "end_time": "2025-07-30T21:40:00.659475",
     "exception": false,
     "start_time": "2025-07-30T21:40:00.630584",
     "status": "completed"
    },
    "tags": []
   },
   "source": [
    "# Overall"
   ]
  },
  {
   "cell_type": "markdown",
   "id": "bdee4871",
   "metadata": {
    "papermill": {
     "duration": 0.027673,
     "end_time": "2025-07-30T21:40:00.715806",
     "exception": false,
     "start_time": "2025-07-30T21:40:00.688133",
     "status": "completed"
    },
    "tags": []
   },
   "source": [
    "Fairness\n",
    "Main fairness target: Equalized Odds. Seems to be a better fit than equal opportunity, since we're not only interested in Y = 1. Seems to be a better fit than demographic parity, since we also care about accuracy, not just equal distribution of preds.\n",
    "\n",
    "Pick column for computation of fairness metrics\n",
    "\n",
    "Performance\n",
    "Overall performance measures, most interesting in relation to the measures split by group below"
   ]
  },
  {
   "cell_type": "code",
   "execution_count": 74,
   "id": "c4e067c6",
   "metadata": {
    "execution": {
     "iopub.execute_input": "2025-07-30T21:40:00.772101Z",
     "iopub.status.busy": "2025-07-30T21:40:00.771506Z",
     "iopub.status.idle": "2025-07-30T21:40:00.780710Z",
     "shell.execute_reply": "2025-07-30T21:40:00.779634Z"
    },
    "papermill": {
     "duration": 0.038664,
     "end_time": "2025-07-30T21:40:00.782417",
     "exception": false,
     "start_time": "2025-07-30T21:40:00.743753",
     "status": "completed"
    },
    "tags": []
   },
   "outputs": [
    {
     "data": {
      "text/plain": [
       "accuracy                   0.212563\n",
       "balanced accuracy          0.522219\n",
       "f1                         0.234219\n",
       "precision                  0.133802\n",
       "false positive rate        0.894299\n",
       "false negative rate        0.061262\n",
       "selection rate             0.900000\n",
       "count                  89710.000000\n",
       "dtype: float64"
      ]
     },
     "execution_count": 74,
     "metadata": {},
     "output_type": "execute_result"
    }
   ],
   "source": [
    "metric_frame.overall"
   ]
  },
  {
   "cell_type": "markdown",
   "id": "e968fe9d",
   "metadata": {
    "papermill": {
     "duration": 0.032342,
     "end_time": "2025-07-30T21:40:00.842966",
     "exception": false,
     "start_time": "2025-07-30T21:40:00.810624",
     "status": "completed"
    },
    "tags": []
   },
   "source": [
    "By Group"
   ]
  },
  {
   "cell_type": "code",
   "execution_count": 75,
   "id": "ec325bce",
   "metadata": {
    "execution": {
     "iopub.execute_input": "2025-07-30T21:40:00.902124Z",
     "iopub.status.busy": "2025-07-30T21:40:00.901362Z",
     "iopub.status.idle": "2025-07-30T21:40:00.918467Z",
     "shell.execute_reply": "2025-07-30T21:40:00.917426Z"
    },
    "papermill": {
     "duration": 0.049149,
     "end_time": "2025-07-30T21:40:00.920130",
     "exception": false,
     "start_time": "2025-07-30T21:40:00.870981",
     "status": "completed"
    },
    "tags": []
   },
   "outputs": [
    {
     "data": {
      "text/html": [
       "<div>\n",
       "<style scoped>\n",
       "    .dataframe tbody tr th:only-of-type {\n",
       "        vertical-align: middle;\n",
       "    }\n",
       "\n",
       "    .dataframe tbody tr th {\n",
       "        vertical-align: top;\n",
       "    }\n",
       "\n",
       "    .dataframe thead th {\n",
       "        text-align: right;\n",
       "    }\n",
       "</style>\n",
       "<table border=\"1\" class=\"dataframe\">\n",
       "  <thead>\n",
       "    <tr style=\"text-align: right;\">\n",
       "      <th></th>\n",
       "      <th>accuracy</th>\n",
       "      <th>balanced accuracy</th>\n",
       "      <th>f1</th>\n",
       "      <th>precision</th>\n",
       "      <th>false positive rate</th>\n",
       "      <th>false negative rate</th>\n",
       "      <th>selection rate</th>\n",
       "      <th>count</th>\n",
       "    </tr>\n",
       "    <tr>\n",
       "      <th>majmin</th>\n",
       "      <th></th>\n",
       "      <th></th>\n",
       "      <th></th>\n",
       "      <th></th>\n",
       "      <th></th>\n",
       "      <th></th>\n",
       "      <th></th>\n",
       "      <th></th>\n",
       "    </tr>\n",
       "  </thead>\n",
       "  <tbody>\n",
       "    <tr>\n",
       "      <th>majority</th>\n",
       "      <td>0.231271</td>\n",
       "      <td>0.526969</td>\n",
       "      <td>0.242042</td>\n",
       "      <td>0.139151</td>\n",
       "      <td>0.874946</td>\n",
       "      <td>0.071116</td>\n",
       "      <td>0.882073</td>\n",
       "      <td>69170.0</td>\n",
       "    </tr>\n",
       "    <tr>\n",
       "      <th>minority</th>\n",
       "      <td>0.149562</td>\n",
       "      <td>0.509271</td>\n",
       "      <td>0.209378</td>\n",
       "      <td>0.117256</td>\n",
       "      <td>0.958232</td>\n",
       "      <td>0.023226</td>\n",
       "      <td>0.960370</td>\n",
       "      <td>20540.0</td>\n",
       "    </tr>\n",
       "  </tbody>\n",
       "</table>\n",
       "</div>"
      ],
      "text/plain": [
       "          accuracy  balanced accuracy        f1  precision  \\\n",
       "majmin                                                       \n",
       "majority  0.231271           0.526969  0.242042   0.139151   \n",
       "minority  0.149562           0.509271  0.209378   0.117256   \n",
       "\n",
       "          false positive rate  false negative rate  selection rate    count  \n",
       "majmin                                                                       \n",
       "majority             0.874946             0.071116        0.882073  69170.0  \n",
       "minority             0.958232             0.023226        0.960370  20540.0  "
      ]
     },
     "execution_count": 75,
     "metadata": {},
     "output_type": "execute_result"
    }
   ],
   "source": [
    "metric_frame.by_group"
   ]
  },
  {
   "cell_type": "code",
   "execution_count": 76,
   "id": "a9ddbe63",
   "metadata": {
    "execution": {
     "iopub.execute_input": "2025-07-30T21:40:00.981258Z",
     "iopub.status.busy": "2025-07-30T21:40:00.980305Z",
     "iopub.status.idle": "2025-07-30T21:40:03.225580Z",
     "shell.execute_reply": "2025-07-30T21:40:03.224563Z"
    },
    "papermill": {
     "duration": 2.276937,
     "end_time": "2025-07-30T21:40:03.227264",
     "exception": false,
     "start_time": "2025-07-30T21:40:00.950327",
     "status": "completed"
    },
    "tags": []
   },
   "outputs": [
    {
     "data": {
      "text/plain": [
       "array([[<Axes: title={'center': 'accuracy'}, xlabel='majmin'>,\n",
       "        <Axes: title={'center': 'balanced accuracy'}, xlabel='majmin'>,\n",
       "        <Axes: title={'center': 'f1'}, xlabel='majmin'>],\n",
       "       [<Axes: title={'center': 'precision'}, xlabel='majmin'>,\n",
       "        <Axes: title={'center': 'false positive rate'}, xlabel='majmin'>,\n",
       "        <Axes: title={'center': 'false negative rate'}, xlabel='majmin'>],\n",
       "       [<Axes: title={'center': 'selection rate'}, xlabel='majmin'>,\n",
       "        <Axes: title={'center': 'count'}, xlabel='majmin'>,\n",
       "        <Axes: xlabel='majmin'>]], dtype=object)"
      ]
     },
     "execution_count": 76,
     "metadata": {},
     "output_type": "execute_result"
    },
    {
     "data": {
      "image/png": "[encoded data removed]",
      "text/plain": [
       "<Figure size 1200x800 with 9 Axes>"
      ]
     },
     "metadata": {},
     "output_type": "display_data"
    }
   ],
   "source": [
    "# In a graphic\n",
    "metric_frame.by_group.plot.bar(\n",
    "    subplots=True,\n",
    "    layout=[3, 3],\n",
    "    legend=False,\n",
    "    figsize=[12, 8],\n",
    "    title=\"Show all metrics\",\n",
    ")"
   ]
  },
  {
   "cell_type": "markdown",
   "id": "f57a0bac",
   "metadata": {
    "papermill": {
     "duration": 0.027318,
     "end_time": "2025-07-30T21:40:03.286368",
     "exception": false,
     "start_time": "2025-07-30T21:40:03.259050",
     "status": "completed"
    },
    "tags": []
   },
   "source": [
    "# Final Output"
   ]
  },
  {
   "cell_type": "code",
   "execution_count": 77,
   "id": "96d280a3",
   "metadata": {
    "execution": {
     "iopub.execute_input": "2025-07-30T21:40:03.343591Z",
     "iopub.status.busy": "2025-07-30T21:40:03.342874Z",
     "iopub.status.idle": "2025-07-30T21:40:03.351703Z",
     "shell.execute_reply": "2025-07-30T21:40:03.350792Z"
    },
    "papermill": {
     "duration": 0.039421,
     "end_time": "2025-07-30T21:40:03.353237",
     "exception": false,
     "start_time": "2025-07-30T21:40:03.313816",
     "status": "completed"
    },
    "tags": []
   },
   "outputs": [
    {
     "data": {
      "text/plain": [
       "4"
      ]
     },
     "execution_count": 77,
     "metadata": {},
     "output_type": "execute_result"
    }
   ],
   "source": [
    "sub_universes = universe_analysis.generate_sub_universes()\n",
    "len(sub_universes)"
   ]
  },
  {
   "cell_type": "code",
   "execution_count": 78,
   "id": "92adf7ba",
   "metadata": {
    "execution": {
     "iopub.execute_input": "2025-07-30T21:40:03.408845Z",
     "iopub.status.busy": "2025-07-30T21:40:03.407779Z",
     "iopub.status.idle": "2025-07-30T21:40:03.414062Z",
     "shell.execute_reply": "2025-07-30T21:40:03.413149Z"
    },
    "papermill": {
     "duration": 0.035858,
     "end_time": "2025-07-30T21:40:03.415728",
     "exception": false,
     "start_time": "2025-07-30T21:40:03.379870",
     "status": "completed"
    },
    "tags": []
   },
   "outputs": [],
   "source": [
    "def filter_sub_universe_data(sub_universe, org_test):\n",
    "    # Keep all rows — no filtering\n",
    "    keep_rows_mask = np.ones(org_test.shape[0], dtype=bool)\n",
    "\n",
    "    print(f\"[INFO] Keeping all rows: {keep_rows_mask.sum()} rows retained.\")\n",
    "    return keep_rows_mask"
   ]
  },
  {
   "cell_type": "code",
   "execution_count": 79,
   "id": "4a759155",
   "metadata": {
    "execution": {
     "iopub.execute_input": "2025-07-30T21:40:03.472210Z",
     "iopub.status.busy": "2025-07-30T21:40:03.471337Z",
     "iopub.status.idle": "2025-07-30T21:40:14.196888Z",
     "shell.execute_reply": "2025-07-30T21:40:14.195728Z"
    },
    "papermill": {
     "duration": 10.755067,
     "end_time": "2025-07-30T21:40:14.198678",
     "exception": false,
     "start_time": "2025-07-30T21:40:03.443611",
     "status": "completed"
    },
    "tags": []
   },
   "outputs": [
    {
     "name": "stdout",
     "output_type": "stream",
     "text": [
      "Stopping execution_time clock.\n",
      "[INFO] Keeping all rows: 89710 rows retained.\n"
     ]
    },
    {
     "name": "stdout",
     "output_type": "stream",
     "text": [
      "[INFO] Keeping all rows: 89710 rows retained.\n"
     ]
    },
    {
     "name": "stdout",
     "output_type": "stream",
     "text": [
      "[INFO] Keeping all rows: 89710 rows retained.\n"
     ]
    },
    {
     "name": "stdout",
     "output_type": "stream",
     "text": [
      "[INFO] Keeping all rows: 89710 rows retained.\n"
     ]
    },
    {
     "data": {
      "text/html": [
       "<div>\n",
       "<style scoped>\n",
       "    .dataframe tbody tr th:only-of-type {\n",
       "        vertical-align: middle;\n",
       "    }\n",
       "\n",
       "    .dataframe tbody tr th {\n",
       "        vertical-align: top;\n",
       "    }\n",
       "\n",
       "    .dataframe thead th {\n",
       "        text-align: right;\n",
       "    }\n",
       "</style>\n",
       "<table border=\"1\" class=\"dataframe\">\n",
       "  <thead>\n",
       "    <tr style=\"text-align: right;\">\n",
       "      <th></th>\n",
       "      <th>run_no</th>\n",
       "      <th>universe_id</th>\n",
       "      <th>universe_settings</th>\n",
       "      <th>execution_time</th>\n",
       "      <th>test_size_n</th>\n",
       "      <th>test_size_frac</th>\n",
       "      <th>fair_main_equalized_odds_difference</th>\n",
       "      <th>fair_main_equalized_odds_ratio</th>\n",
       "      <th>fair_main_demographic_parity_difference</th>\n",
       "      <th>fair_main_demographic_parity_ratio</th>\n",
       "      <th>...</th>\n",
       "      <th>perf_grp_precision_0</th>\n",
       "      <th>perf_grp_precision_1</th>\n",
       "      <th>perf_grp_false positive rate_0</th>\n",
       "      <th>perf_grp_false positive rate_1</th>\n",
       "      <th>perf_grp_false negative rate_0</th>\n",
       "      <th>perf_grp_false negative rate_1</th>\n",
       "      <th>perf_grp_selection rate_0</th>\n",
       "      <th>perf_grp_selection rate_1</th>\n",
       "      <th>perf_grp_count_0</th>\n",
       "      <th>perf_grp_count_1</th>\n",
       "    </tr>\n",
       "  </thead>\n",
       "  <tbody>\n",
       "    <tr>\n",
       "      <th>0</th>\n",
       "      <td>14</td>\n",
       "      <td>797d555d8e1fd2288714ad460da59024</td>\n",
       "      <td>{\"cutoff\": \"quantile_0.1\", \"eval_fairness_grou...</td>\n",
       "      <td>26.177814</td>\n",
       "      <td>89710</td>\n",
       "      <td>1.0</td>\n",
       "      <td>0.083287</td>\n",
       "      <td>0.913083</td>\n",
       "      <td>0.078297</td>\n",
       "      <td>0.918472</td>\n",
       "      <td>...</td>\n",
       "      <td>NaN</td>\n",
       "      <td>NaN</td>\n",
       "      <td>NaN</td>\n",
       "      <td>NaN</td>\n",
       "      <td>NaN</td>\n",
       "      <td>NaN</td>\n",
       "      <td>NaN</td>\n",
       "      <td>NaN</td>\n",
       "      <td>NaN</td>\n",
       "      <td>NaN</td>\n",
       "    </tr>\n",
       "    <tr>\n",
       "      <th>0</th>\n",
       "      <td>14</td>\n",
       "      <td>797d555d8e1fd2288714ad460da59024</td>\n",
       "      <td>{\"cutoff\": \"quantile_0.1\", \"eval_fairness_grou...</td>\n",
       "      <td>26.177814</td>\n",
       "      <td>89710</td>\n",
       "      <td>1.0</td>\n",
       "      <td>0.083287</td>\n",
       "      <td>0.913083</td>\n",
       "      <td>0.078297</td>\n",
       "      <td>0.918472</td>\n",
       "      <td>...</td>\n",
       "      <td>0.117256</td>\n",
       "      <td>0.139151</td>\n",
       "      <td>0.958232</td>\n",
       "      <td>0.874946</td>\n",
       "      <td>0.023226</td>\n",
       "      <td>0.071116</td>\n",
       "      <td>0.960370</td>\n",
       "      <td>0.882073</td>\n",
       "      <td>20540.0</td>\n",
       "      <td>69170.0</td>\n",
       "    </tr>\n",
       "    <tr>\n",
       "      <th>0</th>\n",
       "      <td>14</td>\n",
       "      <td>797d555d8e1fd2288714ad460da59024</td>\n",
       "      <td>{\"cutoff\": \"quantile_0.25\", \"eval_fairness_gro...</td>\n",
       "      <td>26.177814</td>\n",
       "      <td>89710</td>\n",
       "      <td>1.0</td>\n",
       "      <td>0.210897</td>\n",
       "      <td>0.764796</td>\n",
       "      <td>0.196444</td>\n",
       "      <td>0.782083</td>\n",
       "      <td>...</td>\n",
       "      <td>NaN</td>\n",
       "      <td>NaN</td>\n",
       "      <td>NaN</td>\n",
       "      <td>NaN</td>\n",
       "      <td>NaN</td>\n",
       "      <td>NaN</td>\n",
       "      <td>NaN</td>\n",
       "      <td>NaN</td>\n",
       "      <td>NaN</td>\n",
       "      <td>NaN</td>\n",
       "    </tr>\n",
       "    <tr>\n",
       "      <th>0</th>\n",
       "      <td>14</td>\n",
       "      <td>797d555d8e1fd2288714ad460da59024</td>\n",
       "      <td>{\"cutoff\": \"quantile_0.25\", \"eval_fairness_gro...</td>\n",
       "      <td>26.177814</td>\n",
       "      <td>89710</td>\n",
       "      <td>1.0</td>\n",
       "      <td>0.210897</td>\n",
       "      <td>0.764796</td>\n",
       "      <td>0.196444</td>\n",
       "      <td>0.782083</td>\n",
       "      <td>...</td>\n",
       "      <td>0.120004</td>\n",
       "      <td>0.155846</td>\n",
       "      <td>0.896654</td>\n",
       "      <td>0.685757</td>\n",
       "      <td>0.061655</td>\n",
       "      <td>0.168490</td>\n",
       "      <td>0.901461</td>\n",
       "      <td>0.705017</td>\n",
       "      <td>20540.0</td>\n",
       "      <td>69170.0</td>\n",
       "    </tr>\n",
       "  </tbody>\n",
       "</table>\n",
       "<p>4 rows × 50 columns</p>\n",
       "</div>"
      ],
      "text/plain": [
       "  run_no                       universe_id  \\\n",
       "0     14  797d555d8e1fd2288714ad460da59024   \n",
       "0     14  797d555d8e1fd2288714ad460da59024   \n",
       "0     14  797d555d8e1fd2288714ad460da59024   \n",
       "0     14  797d555d8e1fd2288714ad460da59024   \n",
       "\n",
       "                                   universe_settings  execution_time  \\\n",
       "0  {\"cutoff\": \"quantile_0.1\", \"eval_fairness_grou...       26.177814   \n",
       "0  {\"cutoff\": \"quantile_0.1\", \"eval_fairness_grou...       26.177814   \n",
       "0  {\"cutoff\": \"quantile_0.25\", \"eval_fairness_gro...       26.177814   \n",
       "0  {\"cutoff\": \"quantile_0.25\", \"eval_fairness_gro...       26.177814   \n",
       "\n",
       "   test_size_n  test_size_frac  fair_main_equalized_odds_difference  \\\n",
       "0        89710             1.0                             0.083287   \n",
       "0        89710             1.0                             0.083287   \n",
       "0        89710             1.0                             0.210897   \n",
       "0        89710             1.0                             0.210897   \n",
       "\n",
       "   fair_main_equalized_odds_ratio  fair_main_demographic_parity_difference  \\\n",
       "0                        0.913083                                 0.078297   \n",
       "0                        0.913083                                 0.078297   \n",
       "0                        0.764796                                 0.196444   \n",
       "0                        0.764796                                 0.196444   \n",
       "\n",
       "   fair_main_demographic_parity_ratio  ...  perf_grp_precision_0  \\\n",
       "0                            0.918472  ...                   NaN   \n",
       "0                            0.918472  ...              0.117256   \n",
       "0                            0.782083  ...                   NaN   \n",
       "0                            0.782083  ...              0.120004   \n",
       "\n",
       "   perf_grp_precision_1  perf_grp_false positive rate_0  \\\n",
       "0                   NaN                             NaN   \n",
       "0              0.139151                        0.958232   \n",
       "0                   NaN                             NaN   \n",
       "0              0.155846                        0.896654   \n",
       "\n",
       "   perf_grp_false positive rate_1  perf_grp_false negative rate_0  \\\n",
       "0                             NaN                             NaN   \n",
       "0                        0.874946                        0.023226   \n",
       "0                             NaN                             NaN   \n",
       "0                        0.685757                        0.061655   \n",
       "\n",
       "   perf_grp_false negative rate_1  perf_grp_selection rate_0  \\\n",
       "0                             NaN                        NaN   \n",
       "0                        0.071116                   0.960370   \n",
       "0                             NaN                        NaN   \n",
       "0                        0.168490                   0.901461   \n",
       "\n",
       "   perf_grp_selection rate_1  perf_grp_count_0  perf_grp_count_1  \n",
       "0                        NaN               NaN               NaN  \n",
       "0                   0.882073           20540.0           69170.0  \n",
       "0                        NaN               NaN               NaN  \n",
       "0                   0.705017           20540.0           69170.0  \n",
       "\n",
       "[4 rows x 50 columns]"
      ]
     },
     "execution_count": 79,
     "metadata": {},
     "output_type": "execute_result"
    }
   ],
   "source": [
    "final_output = universe_analysis.generate_final_output(\n",
    "    y_pred_prob=probs_test,\n",
    "    y_test=y_true,\n",
    "    org_test=org_test,\n",
    "    filter_data=filter_sub_universe_data,\n",
    "    cp_metrics_df=cp_metrics_df,\n",
    "    save=True,\n",
    ")\n",
    "final_output"
   ]
  },
  {
   "cell_type": "code",
   "execution_count": null,
   "id": "721ff514-cb11-46f8-b6fc-50392f74b5cb",
   "metadata": {
    "papermill": {
     "duration": 0.019452,
     "end_time": "2025-07-30T21:40:14.253713",
     "exception": false,
     "start_time": "2025-07-30T21:40:14.234261",
     "status": "completed"
    },
    "tags": []
   },
   "outputs": [],
   "source": []
  }
 ],
 "metadata": {
  "celltoolbar": "Tags",
  "kernelspec": {
   "display_name": "Python (CMA Fairness)",
   "language": "python",
   "name": "cma_fair_env"
  },
  "language_info": {
   "codemirror_mode": {
    "name": "ipython",
    "version": 3
   },
   "file_extension": ".py",
   "mimetype": "text/x-python",
   "name": "python",
   "nbconvert_exporter": "python",
   "pygments_lexer": "ipython3",
   "version": "3.10.12"
  },
  "papermill": {
   "default_parameters": {},
   "duration": 41.308493,
   "end_time": "2025-07-30T21:40:15.102084",
   "environment_variables": {},
   "exception": null,
   "input_path": "universe_analysis.ipynb",
   "output_path": "output/runs/14/notebooks/m_14-797d555d8e1fd2288714ad460da59024.ipynb",
   "parameters": {
    "output_dir": "output",
    "run_no": "14",
    "seed": "2023",
    "universe": "{\"cutoff\": [\"quantile_0.1\", \"quantile_0.25\"], \"eval_fairness_grouping\": [\"majority-minority\", \"nationality-all\"], \"exclude_features\": \"nationality-sex\", \"exclude_subgroups\": \"drop-non-german\", \"model\": \"penalized_logreg\", \"scale\": \"do-not-scale\", \"training_size\": \"1k\", \"training_year\": \"2012_14\"}",
    "universe_id": "797d555d8e1fd2288714ad460da59024"
   },
   "start_time": "2025-07-30T21:39:33.793591",
   "version": "2.6.0"
  }
 },
 "nbformat": 4,
 "nbformat_minor": 5
}