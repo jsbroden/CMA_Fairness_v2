{
 "cells": [
  {
   "cell_type": "code",
   "execution_count": 1,
   "id": "f159f837-637b-42ba-96b5-ec9a68c44524",
   "metadata": {
    "execution": {
     "iopub.execute_input": "2025-07-30T21:26:14.098563Z",
     "iopub.status.busy": "2025-07-30T21:26:14.098154Z",
     "iopub.status.idle": "2025-07-30T21:26:14.110800Z",
     "shell.execute_reply": "2025-07-30T21:26:14.109793Z"
    },
    "papermill": {
     "duration": 0.035732,
     "end_time": "2025-07-30T21:26:14.112746",
     "exception": false,
     "start_time": "2025-07-30T21:26:14.077014",
     "status": "completed"
    },
    "tags": []
   },
   "outputs": [
    {
     "name": "stdout",
     "output_type": "stream",
     "text": [
      "/dss/dsshome1/0C/ra93lal2/cma/CMA_Fairness_v2\n"
     ]
    },
    {
     "name": "stderr",
     "output_type": "stream",
     "text": [
      "/dss/dsshome1/0C/ra93lal2/.local/share/virtualenvs/CMA_Fairness_v2-3j10GkSs/lib/python3.10/site-packages/IPython/core/magics/osm.py:393: UserWarning: This is now an optional IPython functionality, using bookmarks requires you to install the `pickleshare` library.\n",
      "  bkms = self.shell.db.get('bookmarks', {})\n",
      "/dss/dsshome1/0C/ra93lal2/.local/share/virtualenvs/CMA_Fairness_v2-3j10GkSs/lib/python3.10/site-packages/IPython/core/magics/osm.py:417: UserWarning: This is now an optional IPython functionality, setting dhist requires you to install the `pickleshare` library.\n",
      "  self.shell.db['dhist'] = compress_dhist(dhist)[-100:]\n"
     ]
    }
   ],
   "source": [
    "%cd ~/cma/CMA_Fairness_v2"
   ]
  },
  {
   "cell_type": "markdown",
   "id": "de2603b9",
   "metadata": {
    "papermill": {
     "duration": 0.020391,
     "end_time": "2025-07-30T21:26:14.155800",
     "exception": false,
     "start_time": "2025-07-30T21:26:14.135409",
     "status": "completed"
    },
    "tags": []
   },
   "source": [
    "The following cell holds the definition of our parameters, these values can be overriden by rendering the with e.g. the following command:\n",
    "\n",
    "papermill -p alpha 0.2 -p ratio 0.3 universe_analysis.ipynb output/test_run.ipynb"
   ]
  },
  {
   "cell_type": "code",
   "execution_count": 2,
   "id": "a80968a0-40bb-4fa9-85ef-2d5eefb01975",
   "metadata": {
    "execution": {
     "iopub.execute_input": "2025-07-30T21:26:14.195416Z",
     "iopub.status.busy": "2025-07-30T21:26:14.194737Z",
     "iopub.status.idle": "2025-07-30T21:26:14.200692Z",
     "shell.execute_reply": "2025-07-30T21:26:14.199746Z"
    },
    "papermill": {
     "duration": 0.028718,
     "end_time": "2025-07-30T21:26:14.202337",
     "exception": false,
     "start_time": "2025-07-30T21:26:14.173619",
     "status": "completed"
    },
    "tags": []
   },
   "outputs": [
    {
     "name": "stdout",
     "output_type": "stream",
     "text": [
      "Current working directory: /dss/dsshome1/0C/ra93lal2/cma/CMA_Fairness_v2\n"
     ]
    }
   ],
   "source": [
    "import os\n",
    "print(\"Current working directory:\", os.getcwd())"
   ]
  },
  {
   "cell_type": "code",
   "execution_count": 3,
   "id": "2dce4c03",
   "metadata": {
    "execution": {
     "iopub.execute_input": "2025-07-30T21:26:14.232452Z",
     "iopub.status.busy": "2025-07-30T21:26:14.232107Z",
     "iopub.status.idle": "2025-07-30T21:26:14.236838Z",
     "shell.execute_reply": "2025-07-30T21:26:14.236069Z"
    },
    "papermill": {
     "duration": 0.018229,
     "end_time": "2025-07-30T21:26:14.238165",
     "exception": false,
     "start_time": "2025-07-30T21:26:14.219936",
     "status": "completed"
    },
    "tags": [
     "parameters"
    ]
   },
   "outputs": [],
   "source": [
    "run_no = 0\n",
    "universe_id = \"test\"\n",
    "universe = {\n",
    "    \"training_size\": \"25k\", # \"25k\", \"5k\", \"1k\"\n",
    "    \"training_year\": \"2014\", # \"2014\", \"2012_14\", \"2010_14\"\n",
    "    \"scale\": \"scale\", # \"scale\", \"do-not-scale\",\n",
    "    #\"stratify_split\": \"target\", # \"none\", \"target\", \"protected-attribute\", \"both\",\n",
    "    \"model\": \"elasticnet\", # \"logreg\", \"penalized_logreg\", \"rf\", \"gbm\", \"elasticnet\"\n",
    "    \"cutoff\": [\"quantile_0.15\", \"quantile_0.30\"],\n",
    "    \"exclude_features\": \"age\", # \"none\", \"nationality\", \"sex\", \"nationality-sex\", \"age\"\n",
    "    \"exclude_subgroups\": \"keep-all\", # \"keep-all\", \"drop-non-german\"\n",
    "    \"eval_fairness_grouping\": [\"majority-minority\", \"nationality-all\"]\n",
    "}\n",
    "\n",
    "output_dir=\"./output\"\n",
    "seed=0"
   ]
  },
  {
   "cell_type": "code",
   "execution_count": 4,
   "id": "ae170396",
   "metadata": {
    "execution": {
     "iopub.execute_input": "2025-07-30T21:26:14.260827Z",
     "iopub.status.busy": "2025-07-30T21:26:14.260513Z",
     "iopub.status.idle": "2025-07-30T21:26:14.264777Z",
     "shell.execute_reply": "2025-07-30T21:26:14.263887Z"
    },
    "papermill": {
     "duration": 0.017081,
     "end_time": "2025-07-30T21:26:14.266548",
     "exception": false,
     "start_time": "2025-07-30T21:26:14.249467",
     "status": "completed"
    },
    "tags": [
     "injected-parameters"
    ]
   },
   "outputs": [],
   "source": [
    "# Parameters\n",
    "universe_id = \"85f72c5b51d869c95449ba0195fff4f1\"\n",
    "run_no = \"14\"\n",
    "universe = \"{\\\"cutoff\\\": [\\\"quantile_0.1\\\", \\\"quantile_0.25\\\"], \\\"eval_fairness_grouping\\\": [\\\"majority-minority\\\", \\\"nationality-all\\\"], \\\"exclude_features\\\": \\\"nationality\\\", \\\"exclude_subgroups\\\": \\\"keep-all\\\", \\\"model\\\": \\\"elasticnet\\\", \\\"scale\\\": \\\"scale\\\", \\\"training_size\\\": \\\"1k\\\", \\\"training_year\\\": \\\"2014\\\"}\"\n",
    "output_dir = \"output\"\n",
    "seed = \"2023\"\n"
   ]
  },
  {
   "cell_type": "code",
   "execution_count": 5,
   "id": "1650acaf",
   "metadata": {
    "execution": {
     "iopub.execute_input": "2025-07-30T21:26:14.310874Z",
     "iopub.status.busy": "2025-07-30T21:26:14.309860Z",
     "iopub.status.idle": "2025-07-30T21:26:14.315457Z",
     "shell.execute_reply": "2025-07-30T21:26:14.314326Z"
    },
    "papermill": {
     "duration": 0.029404,
     "end_time": "2025-07-30T21:26:14.317526",
     "exception": false,
     "start_time": "2025-07-30T21:26:14.288122",
     "status": "completed"
    },
    "tags": []
   },
   "outputs": [],
   "source": [
    "import json\n",
    "# Parse universe into dict if it is passed as a string\n",
    "if isinstance(universe, str):\n",
    "    universe = json.loads(universe)"
   ]
  },
  {
   "cell_type": "code",
   "execution_count": 6,
   "id": "16620c48",
   "metadata": {
    "execution": {
     "iopub.execute_input": "2025-07-30T21:26:14.364603Z",
     "iopub.status.busy": "2025-07-30T21:26:14.364098Z",
     "iopub.status.idle": "2025-07-30T21:26:14.412467Z",
     "shell.execute_reply": "2025-07-30T21:26:14.411493Z"
    },
    "papermill": {
     "duration": 0.07334,
     "end_time": "2025-07-30T21:26:14.414584",
     "exception": false,
     "start_time": "2025-07-30T21:26:14.341244",
     "status": "completed"
    },
    "tags": []
   },
   "outputs": [],
   "source": [
    "# Auto-reload the custom package\n",
    "%load_ext autoreload\n",
    "%autoreload 1\n",
    "%aimport fairness_multiverse"
   ]
  },
  {
   "cell_type": "code",
   "execution_count": 7,
   "id": "01c5c9f3",
   "metadata": {
    "execution": {
     "iopub.execute_input": "2025-07-30T21:26:14.457860Z",
     "iopub.status.busy": "2025-07-30T21:26:14.457380Z",
     "iopub.status.idle": "2025-07-30T21:26:16.498453Z",
     "shell.execute_reply": "2025-07-30T21:26:16.497099Z"
    },
    "papermill": {
     "duration": 2.064936,
     "end_time": "2025-07-30T21:26:16.500503",
     "exception": false,
     "start_time": "2025-07-30T21:26:14.435567",
     "status": "completed"
    },
    "tags": []
   },
   "outputs": [],
   "source": [
    "from fairness_multiverse.universe import UniverseAnalysis\n",
    "\n",
    "universe_analysis = UniverseAnalysis(\n",
    "    run_no = run_no,\n",
    "    universe_id = universe_id,\n",
    "    universe = universe,\n",
    "    output_dir=output_dir,\n",
    ")"
   ]
  },
  {
   "cell_type": "code",
   "execution_count": 8,
   "id": "106241f5",
   "metadata": {
    "execution": {
     "iopub.execute_input": "2025-07-30T21:26:16.544152Z",
     "iopub.status.busy": "2025-07-30T21:26:16.543435Z",
     "iopub.status.idle": "2025-07-30T21:26:16.550696Z",
     "shell.execute_reply": "2025-07-30T21:26:16.549705Z"
    },
    "papermill": {
     "duration": 0.030693,
     "end_time": "2025-07-30T21:26:16.552283",
     "exception": false,
     "start_time": "2025-07-30T21:26:16.521590",
     "status": "completed"
    },
    "tags": []
   },
   "outputs": [
    {
     "name": "stdout",
     "output_type": "stream",
     "text": [
      "Using Seed: 2023\n"
     ]
    }
   ],
   "source": [
    "import numpy as np\n",
    "parsed_seed = int(seed)\n",
    "np.random.seed(parsed_seed)\n",
    "print(f\"Using Seed: {parsed_seed}\")"
   ]
  },
  {
   "cell_type": "markdown",
   "id": "e0ebdc57",
   "metadata": {
    "papermill": {
     "duration": 0.021225,
     "end_time": "2025-07-30T21:26:16.595319",
     "exception": false,
     "start_time": "2025-07-30T21:26:16.574094",
     "status": "completed"
    },
    "tags": []
   },
   "source": [
    "# Loading Data"
   ]
  },
  {
   "cell_type": "markdown",
   "id": "681925a3",
   "metadata": {
    "papermill": {
     "duration": 0.020367,
     "end_time": "2025-07-30T21:26:16.638069",
     "exception": false,
     "start_time": "2025-07-30T21:26:16.617702",
     "status": "completed"
    },
    "tags": []
   },
   "source": [
    "Load siab_train, siab_test, siab_calib and/or \n",
    "load siab_train_features, siab_train_labels"
   ]
  },
  {
   "cell_type": "code",
   "execution_count": 9,
   "id": "f0496b8a",
   "metadata": {
    "execution": {
     "iopub.execute_input": "2025-07-30T21:26:16.682742Z",
     "iopub.status.busy": "2025-07-30T21:26:16.682069Z",
     "iopub.status.idle": "2025-07-30T21:26:29.015463Z",
     "shell.execute_reply": "2025-07-30T21:26:29.014378Z"
    },
    "papermill": {
     "duration": 12.358576,
     "end_time": "2025-07-30T21:26:29.017087",
     "exception": false,
     "start_time": "2025-07-30T21:26:16.658511",
     "status": "completed"
    },
    "tags": []
   },
   "outputs": [
    {
     "name": "stdout",
     "output_type": "stream",
     "text": [
      "Loading SIAB data from cache: data/siab_cached.csv.gz\n"
     ]
    },
    {
     "name": "stdout",
     "output_type": "stream",
     "text": [
      "(643690, 164)\n"
     ]
    }
   ],
   "source": [
    "from pathlib import Path\n",
    "import pandas as pd\n",
    "\n",
    "# File paths\n",
    "raw_file = Path(\"data/raw/siab.csv\")\n",
    "cache_file = Path(\"data/siab_cached.csv.gz\")\n",
    "\n",
    "# Ensure cache directory exists\n",
    "cache_file.parent.mkdir(parents=True, exist_ok=True)\n",
    "\n",
    "# Load with simple caching\n",
    "if cache_file.exists():\n",
    "    print(f\"Loading SIAB data from cache: {cache_file}\")\n",
    "    siab = pd.read_csv(cache_file, compression='gzip')\n",
    "else:\n",
    "    print(f\"Cache not found. Reading raw SIAB data: {raw_file}\")\n",
    "    siab = pd.read_csv(raw_file)\n",
    "    siab.to_csv(cache_file, index=False, compression='gzip')\n",
    "    print(f\"Cached SIAB data to: {cache_file}\")\n",
    "\n",
    "# Now use `siab` DataFrame as needed\n",
    "print(siab.shape)"
   ]
  },
  {
   "cell_type": "code",
   "execution_count": 10,
   "id": "db0ca512-5f53-4dba-abdb-a2888bca41ba",
   "metadata": {
    "execution": {
     "iopub.execute_input": "2025-07-30T21:26:29.064148Z",
     "iopub.status.busy": "2025-07-30T21:26:29.063281Z",
     "iopub.status.idle": "2025-07-30T21:26:29.068646Z",
     "shell.execute_reply": "2025-07-30T21:26:29.067651Z"
    },
    "papermill": {
     "duration": 0.031661,
     "end_time": "2025-07-30T21:26:29.070386",
     "exception": false,
     "start_time": "2025-07-30T21:26:29.038725",
     "status": "completed"
    },
    "tags": []
   },
   "outputs": [],
   "source": [
    "#siab"
   ]
  },
  {
   "cell_type": "code",
   "execution_count": 11,
   "id": "a0edb063",
   "metadata": {
    "execution": {
     "iopub.execute_input": "2025-07-30T21:26:29.114318Z",
     "iopub.status.busy": "2025-07-30T21:26:29.113699Z",
     "iopub.status.idle": "2025-07-30T21:26:29.118844Z",
     "shell.execute_reply": "2025-07-30T21:26:29.117870Z"
    },
    "papermill": {
     "duration": 0.030249,
     "end_time": "2025-07-30T21:26:29.120554",
     "exception": false,
     "start_time": "2025-07-30T21:26:29.090305",
     "status": "completed"
    },
    "tags": []
   },
   "outputs": [],
   "source": [
    "#import pandas as pd\n",
    "#\n",
    "#X_train = pd.read_csv(\"./data/X_train.csv\")\n",
    "#y_train = pd.read_csv(\"./data/y_train.csv\")"
   ]
  },
  {
   "cell_type": "code",
   "execution_count": 12,
   "id": "63d08085",
   "metadata": {
    "execution": {
     "iopub.execute_input": "2025-07-30T21:26:29.163129Z",
     "iopub.status.busy": "2025-07-30T21:26:29.162281Z",
     "iopub.status.idle": "2025-07-30T21:26:29.167442Z",
     "shell.execute_reply": "2025-07-30T21:26:29.166474Z"
    },
    "papermill": {
     "duration": 0.037075,
     "end_time": "2025-07-30T21:26:29.178458",
     "exception": false,
     "start_time": "2025-07-30T21:26:29.141383",
     "status": "completed"
    },
    "tags": []
   },
   "outputs": [],
   "source": [
    "#X_test = pd.read_csv(\"./data/X_test.csv\")\n",
    "#y_true = pd.read_csv(\"./data/y_test.csv\")"
   ]
  },
  {
   "cell_type": "code",
   "execution_count": 13,
   "id": "98a8d0fa-1d3d-4ed8-bb2c-281470e24add",
   "metadata": {
    "execution": {
     "iopub.execute_input": "2025-07-30T21:26:29.232991Z",
     "iopub.status.busy": "2025-07-30T21:26:29.232545Z",
     "iopub.status.idle": "2025-07-30T21:26:29.237702Z",
     "shell.execute_reply": "2025-07-30T21:26:29.236783Z"
    },
    "papermill": {
     "duration": 0.030049,
     "end_time": "2025-07-30T21:26:29.239293",
     "exception": false,
     "start_time": "2025-07-30T21:26:29.209244",
     "status": "completed"
    },
    "tags": []
   },
   "outputs": [],
   "source": [
    "# Calibration data for conformal\n",
    "#X_calib = pd.read_csv(\"./data/X_calib.csv\")\n",
    "#y_calib = pd.read_csv(\"./data/y_calib.csv\")"
   ]
  },
  {
   "cell_type": "markdown",
   "id": "997051c5-15bd-4b69-9786-c3001a3ce484",
   "metadata": {
    "papermill": {
     "duration": 0.020232,
     "end_time": "2025-07-30T21:26:29.280101",
     "exception": false,
     "start_time": "2025-07-30T21:26:29.259869",
     "status": "completed"
    },
    "tags": []
   },
   "source": [
    "# Splitting Data and Setting Training Data Size"
   ]
  },
  {
   "cell_type": "code",
   "execution_count": 14,
   "id": "e993b61f-042d-41a6-8c81-f55681f86335",
   "metadata": {
    "execution": {
     "iopub.execute_input": "2025-07-30T21:26:29.321847Z",
     "iopub.status.busy": "2025-07-30T21:26:29.321052Z",
     "iopub.status.idle": "2025-07-30T21:26:29.334590Z",
     "shell.execute_reply": "2025-07-30T21:26:29.333620Z"
    },
    "papermill": {
     "duration": 0.036594,
     "end_time": "2025-07-30T21:26:29.336205",
     "exception": false,
     "start_time": "2025-07-30T21:26:29.299611",
     "status": "completed"
    },
    "tags": []
   },
   "outputs": [],
   "source": [
    "def sample_by_year_size(df,\n",
    "                        training_year: str,\n",
    "                        training_size: str,\n",
    "                        random_state: int = 42):\n",
    "    # --- parse training_year into a list of int years ---\n",
    "    if \"_\" in training_year:\n",
    "        start_str, end_str = training_year.split(\"_\", 1)\n",
    "        start = int(start_str)\n",
    "        end   = int(end_str) if len(end_str) == 4 else (int(end_str) + (start // 100)*100)\n",
    "        years = list(range(start, end + 1))\n",
    "    else:\n",
    "        years = [int(training_year)]\n",
    "\n",
    "    df = df[df[\"year\"].isin(years)].reset_index(drop=True)\n",
    "\n",
    "    # --- map training_size to total number of samples ---\n",
    "    total_map = {\"25k\": 25_000, \"5k\": 5_000, \"1k\": 1_000}\n",
    "    if training_size not in total_map:\n",
    "        return df  # e.g. \"all\"\n",
    "\n",
    "    total_samples = total_map[training_size]\n",
    "    n_years       = len(years)\n",
    "    base          = total_samples // n_years\n",
    "    remainder     = total_samples % n_years\n",
    "\n",
    "    # --- build a dict: year -> how many to sample ---\n",
    "    # give +1 to the first `remainder` years in ascending order\n",
    "    quotas = {\n",
    "        year: base + (1 if idx < remainder else 0)\n",
    "        for idx, year in enumerate(sorted(years))\n",
    "    }\n",
    "\n",
    "    # --- sample per‐year according to the quota dict ---\n",
    "    sampled = (\n",
    "        df\n",
    "        .groupby(\"year\", group_keys=False)\n",
    "        .apply(lambda grp: grp.sample(\n",
    "            n=min(len(grp), quotas[grp.name]),\n",
    "            random_state=random_state))\n",
    "        .reset_index(drop=True)\n",
    "    )\n",
    "\n",
    "    return sampled"
   ]
  },
  {
   "cell_type": "code",
   "execution_count": 15,
   "id": "c0ccd338-0e02-41f3-a09d-f56f9266e3fb",
   "metadata": {
    "execution": {
     "iopub.execute_input": "2025-07-30T21:26:29.382691Z",
     "iopub.status.busy": "2025-07-30T21:26:29.382081Z",
     "iopub.status.idle": "2025-07-30T21:26:29.387208Z",
     "shell.execute_reply": "2025-07-30T21:26:29.386226Z"
    },
    "papermill": {
     "duration": 0.027507,
     "end_time": "2025-07-30T21:26:29.388860",
     "exception": false,
     "start_time": "2025-07-30T21:26:29.361353",
     "status": "completed"
    },
    "tags": []
   },
   "outputs": [],
   "source": [
    "#universe[\"training_size\"]"
   ]
  },
  {
   "cell_type": "code",
   "execution_count": 16,
   "id": "ca707fd7-8047-4acd-bfa5-66248fbbf8e6",
   "metadata": {
    "execution": {
     "iopub.execute_input": "2025-07-30T21:26:29.431215Z",
     "iopub.status.busy": "2025-07-30T21:26:29.430285Z",
     "iopub.status.idle": "2025-07-30T21:26:29.435206Z",
     "shell.execute_reply": "2025-07-30T21:26:29.434285Z"
    },
    "papermill": {
     "duration": 0.027491,
     "end_time": "2025-07-30T21:26:29.436881",
     "exception": false,
     "start_time": "2025-07-30T21:26:29.409390",
     "status": "completed"
    },
    "tags": []
   },
   "outputs": [],
   "source": [
    "#universe[\"training_year\"]"
   ]
  },
  {
   "cell_type": "code",
   "execution_count": 17,
   "id": "aea9c6ef-6f46-42c8-85eb-5a62025c1508",
   "metadata": {
    "execution": {
     "iopub.execute_input": "2025-07-30T21:26:29.480124Z",
     "iopub.status.busy": "2025-07-30T21:26:29.479295Z",
     "iopub.status.idle": "2025-07-30T21:26:29.704966Z",
     "shell.execute_reply": "2025-07-30T21:26:29.703972Z"
    },
    "papermill": {
     "duration": 0.249419,
     "end_time": "2025-07-30T21:26:29.706816",
     "exception": false,
     "start_time": "2025-07-30T21:26:29.457397",
     "status": "completed"
    },
    "tags": []
   },
   "outputs": [],
   "source": [
    "siab_train = sample_by_year_size(siab,\n",
    "                               training_year=universe[\"training_year\"],\n",
    "                               training_size=universe[\"training_size\"])"
   ]
  },
  {
   "cell_type": "code",
   "execution_count": 18,
   "id": "8d3afb32-789d-442c-8d5d-9f5aa8dd2eed",
   "metadata": {
    "execution": {
     "iopub.execute_input": "2025-07-30T21:26:29.749155Z",
     "iopub.status.busy": "2025-07-30T21:26:29.748558Z",
     "iopub.status.idle": "2025-07-30T21:26:29.753804Z",
     "shell.execute_reply": "2025-07-30T21:26:29.752832Z"
    },
    "papermill": {
     "duration": 0.028197,
     "end_time": "2025-07-30T21:26:29.755365",
     "exception": false,
     "start_time": "2025-07-30T21:26:29.727168",
     "status": "completed"
    },
    "tags": []
   },
   "outputs": [],
   "source": [
    "#siab_train.shape"
   ]
  },
  {
   "cell_type": "code",
   "execution_count": 19,
   "id": "d582db68-1a4c-47fb-84fc-08518dc1975a",
   "metadata": {
    "execution": {
     "iopub.execute_input": "2025-07-30T21:26:29.799920Z",
     "iopub.status.busy": "2025-07-30T21:26:29.799096Z",
     "iopub.status.idle": "2025-07-30T21:26:29.804454Z",
     "shell.execute_reply": "2025-07-30T21:26:29.803373Z"
    },
    "papermill": {
     "duration": 0.030245,
     "end_time": "2025-07-30T21:26:29.806665",
     "exception": false,
     "start_time": "2025-07-30T21:26:29.776420",
     "status": "completed"
    },
    "tags": []
   },
   "outputs": [],
   "source": [
    "#display(siab_train.groupby(\"year\").size())"
   ]
  },
  {
   "cell_type": "code",
   "execution_count": 20,
   "id": "a561edb4-d032-42cb-8256-22eac1111c64",
   "metadata": {
    "execution": {
     "iopub.execute_input": "2025-07-30T21:26:29.856231Z",
     "iopub.status.busy": "2025-07-30T21:26:29.855529Z",
     "iopub.status.idle": "2025-07-30T21:26:30.112437Z",
     "shell.execute_reply": "2025-07-30T21:26:30.111465Z"
    },
    "papermill": {
     "duration": 0.283841,
     "end_time": "2025-07-30T21:26:30.114292",
     "exception": false,
     "start_time": "2025-07-30T21:26:29.830451",
     "status": "completed"
    },
    "tags": []
   },
   "outputs": [],
   "source": [
    "#siab_train = siab_s[siab_s.year < 2015]\n",
    "siab_calib = siab[siab.year == 2015]\n",
    "siab_test = siab[siab.year == 2016]"
   ]
  },
  {
   "cell_type": "code",
   "execution_count": 21,
   "id": "472de16f-c3db-4916-846b-1f0de9cf1746",
   "metadata": {
    "execution": {
     "iopub.execute_input": "2025-07-30T21:26:30.155302Z",
     "iopub.status.busy": "2025-07-30T21:26:30.154634Z",
     "iopub.status.idle": "2025-07-30T21:26:30.161955Z",
     "shell.execute_reply": "2025-07-30T21:26:30.160904Z"
    },
    "papermill": {
     "duration": 0.029473,
     "end_time": "2025-07-30T21:26:30.163674",
     "exception": false,
     "start_time": "2025-07-30T21:26:30.134201",
     "status": "completed"
    },
    "tags": []
   },
   "outputs": [],
   "source": [
    "X_train = siab_train.iloc[:,4:164]\n",
    "y_train = siab_train.iloc[:, [3]]"
   ]
  },
  {
   "cell_type": "code",
   "execution_count": 22,
   "id": "828c96af-f43a-4ed6-ba47-8ac73a47d56c",
   "metadata": {
    "execution": {
     "iopub.execute_input": "2025-07-30T21:26:30.205182Z",
     "iopub.status.busy": "2025-07-30T21:26:30.204661Z",
     "iopub.status.idle": "2025-07-30T21:26:30.252887Z",
     "shell.execute_reply": "2025-07-30T21:26:30.251832Z"
    },
    "papermill": {
     "duration": 0.070246,
     "end_time": "2025-07-30T21:26:30.254617",
     "exception": false,
     "start_time": "2025-07-30T21:26:30.184371",
     "status": "completed"
    },
    "tags": []
   },
   "outputs": [],
   "source": [
    "X_calib = siab_calib.iloc[:,4:164]\n",
    "y_calib = siab_calib.iloc[:, [3]]"
   ]
  },
  {
   "cell_type": "code",
   "execution_count": 23,
   "id": "c34be9c3-6bd6-476e-acd3-845840e303be",
   "metadata": {
    "execution": {
     "iopub.execute_input": "2025-07-30T21:26:30.297049Z",
     "iopub.status.busy": "2025-07-30T21:26:30.296650Z",
     "iopub.status.idle": "2025-07-30T21:26:30.349072Z",
     "shell.execute_reply": "2025-07-30T21:26:30.347980Z"
    },
    "papermill": {
     "duration": 0.075335,
     "end_time": "2025-07-30T21:26:30.350974",
     "exception": false,
     "start_time": "2025-07-30T21:26:30.275639",
     "status": "completed"
    },
    "tags": []
   },
   "outputs": [],
   "source": [
    "X_test = siab_test.iloc[:,4:164]\n",
    "y_true = siab_test.iloc[:, [3]]"
   ]
  },
  {
   "cell_type": "markdown",
   "id": "9901737e-04df-44f0-9100-f5ad144ed040",
   "metadata": {
    "papermill": {
     "duration": 0.019737,
     "end_time": "2025-07-30T21:26:30.392423",
     "exception": false,
     "start_time": "2025-07-30T21:26:30.372686",
     "status": "completed"
    },
    "tags": []
   },
   "source": [
    "# Splitting Data and Setting Training Data Size OLD VERSION"
   ]
  },
  {
   "cell_type": "code",
   "execution_count": 24,
   "id": "acbc8f7d-8fc8-4e86-8c59-5dcb0f58384b",
   "metadata": {
    "execution": {
     "iopub.execute_input": "2025-07-30T21:26:30.433430Z",
     "iopub.status.busy": "2025-07-30T21:26:30.432894Z",
     "iopub.status.idle": "2025-07-30T21:26:30.438640Z",
     "shell.execute_reply": "2025-07-30T21:26:30.437787Z"
    },
    "papermill": {
     "duration": 0.027769,
     "end_time": "2025-07-30T21:26:30.440311",
     "exception": false,
     "start_time": "2025-07-30T21:26:30.412542",
     "status": "completed"
    },
    "tags": []
   },
   "outputs": [],
   "source": [
    "#def sample_by_year(df, training_size, random_state=42):\n",
    "#    if training_size == \"2014\":\n",
    "#        return df[df[\"year\"] == 2014].reset_index(drop=True)\n",
    "#    \n",
    "#    size_map = {\n",
    "#        \"25k\": 5000,\n",
    "#        \"5k\": 1000,\n",
    "#        \"1k\": 200\n",
    "#    }\n",
    "#\n",
    "#    if training_size not in size_map:\n",
    "#        return df.reset_index(drop=True)  # use all data\n",
    "#\n",
    "#    n_per_year = size_map[training_size]\n",
    "#    grouped = df.groupby(\"year\")\n",
    "#    sampled = grouped.apply(lambda x: x.sample(n=min(n_per_year, len(x)), random_state=random_state))\n",
    "#    return sampled.reset_index(drop=True)"
   ]
  },
  {
   "cell_type": "code",
   "execution_count": 25,
   "id": "6d931f52-beaf-43ff-9e78-9d44a448d54e",
   "metadata": {
    "execution": {
     "iopub.execute_input": "2025-07-30T21:26:30.483057Z",
     "iopub.status.busy": "2025-07-30T21:26:30.482716Z",
     "iopub.status.idle": "2025-07-30T21:26:30.486580Z",
     "shell.execute_reply": "2025-07-30T21:26:30.485742Z"
    },
    "papermill": {
     "duration": 0.02631,
     "end_time": "2025-07-30T21:26:30.488527",
     "exception": false,
     "start_time": "2025-07-30T21:26:30.462217",
     "status": "completed"
    },
    "tags": []
   },
   "outputs": [],
   "source": [
    "#siab_s = sample_by_year(siab, universe[\"training_size\"])"
   ]
  },
  {
   "cell_type": "code",
   "execution_count": 26,
   "id": "5db0a40e-a4e2-4920-be85-b12ae061d70d",
   "metadata": {
    "execution": {
     "iopub.execute_input": "2025-07-30T21:26:30.532070Z",
     "iopub.status.busy": "2025-07-30T21:26:30.531598Z",
     "iopub.status.idle": "2025-07-30T21:26:30.536595Z",
     "shell.execute_reply": "2025-07-30T21:26:30.535671Z"
    },
    "papermill": {
     "duration": 0.028451,
     "end_time": "2025-07-30T21:26:30.538332",
     "exception": false,
     "start_time": "2025-07-30T21:26:30.509881",
     "status": "completed"
    },
    "tags": []
   },
   "outputs": [],
   "source": [
    "#display(siab_s.groupby(\"year\").size())"
   ]
  },
  {
   "cell_type": "code",
   "execution_count": 27,
   "id": "e6c733c5",
   "metadata": {
    "execution": {
     "iopub.execute_input": "2025-07-30T21:26:30.582396Z",
     "iopub.status.busy": "2025-07-30T21:26:30.581940Z",
     "iopub.status.idle": "2025-07-30T21:26:30.673649Z",
     "shell.execute_reply": "2025-07-30T21:26:30.672816Z"
    },
    "papermill": {
     "duration": 0.115032,
     "end_time": "2025-07-30T21:26:30.675494",
     "exception": false,
     "start_time": "2025-07-30T21:26:30.560462",
     "status": "completed"
    },
    "tags": []
   },
   "outputs": [],
   "source": [
    "# Auxiliary data needed downstream in the pipeline\n",
    "\n",
    "org_train = X_train.copy()\n",
    "org_test = X_test.copy()\n",
    "org_calib = X_calib.copy()"
   ]
  },
  {
   "cell_type": "code",
   "execution_count": 28,
   "id": "1466abac-c6da-4492-a62f-4240ae3783af",
   "metadata": {
    "execution": {
     "iopub.execute_input": "2025-07-30T21:26:30.729179Z",
     "iopub.status.busy": "2025-07-30T21:26:30.728783Z",
     "iopub.status.idle": "2025-07-30T21:26:30.734096Z",
     "shell.execute_reply": "2025-07-30T21:26:30.733265Z"
    },
    "papermill": {
     "duration": 0.028913,
     "end_time": "2025-07-30T21:26:30.735657",
     "exception": false,
     "start_time": "2025-07-30T21:26:30.706744",
     "status": "completed"
    },
    "tags": []
   },
   "outputs": [],
   "source": [
    "# put in other script?\n",
    "# Group sizes\n",
    "\n",
    "#def calculate_percentages(df, df_name):\n",
    "#    total_entries = len(df)\n",
    "#\n",
    "#    female_pct = (df['frau1'] == 1).mean() * 100\n",
    "#    non_german_pct = ((df['maxdeutsch1'] == 0) & (df['maxdeutsch.Missing.'] == 0)).mean() * 100\n",
    "#    non_german_male_pct = ((df['frau1'] == 0) & (df['maxdeutsch1'] == 0) & (df['maxdeutsch.Missing.'] == 0)).mean() * 100\n",
    "#    non_german_female_pct = ((df['frau1'] == 1) & (df['maxdeutsch1'] == 0) & (df['maxdeutsch.Missing.'] == 0)).mean() * 100\n",
    "#\n",
    "#    print(f\"--- {df_name} ---\")\n",
    "#    print(f\"Female: {female_pct:.2f}%\")\n",
    "#    print(f\"Non-German: {non_german_pct:.2f}%\")\n",
    "#    print(f\"Non-German Male: {non_german_male_pct:.2f}%\")\n",
    "#    print(f\"Non-German Female: {non_german_female_pct:.2f}%\\n\")\n",
    "#\n",
    "## Calculate for each DataFrame\n",
    "#calculate_percentages(siab_calib, \"siab_calib\")\n",
    "#calculate_percentages(siab_test, \"siab_test\")\n",
    "#calculate_percentages(siab_train, \"siab_train\")"
   ]
  },
  {
   "cell_type": "markdown",
   "id": "0a4a1b33",
   "metadata": {
    "papermill": {
     "duration": 0.020916,
     "end_time": "2025-07-30T21:26:30.777705",
     "exception": false,
     "start_time": "2025-07-30T21:26:30.756789",
     "status": "completed"
    },
    "tags": []
   },
   "source": [
    "# Preprocessing Data"
   ]
  },
  {
   "cell_type": "code",
   "execution_count": 29,
   "id": "ca879031",
   "metadata": {
    "execution": {
     "iopub.execute_input": "2025-07-30T21:26:30.819964Z",
     "iopub.status.busy": "2025-07-30T21:26:30.819416Z",
     "iopub.status.idle": "2025-07-30T21:26:30.825797Z",
     "shell.execute_reply": "2025-07-30T21:26:30.824715Z"
    },
    "papermill": {
     "duration": 0.02933,
     "end_time": "2025-07-30T21:26:30.827485",
     "exception": false,
     "start_time": "2025-07-30T21:26:30.798155",
     "status": "completed"
    },
    "tags": []
   },
   "outputs": [],
   "source": [
    "# EXCLUDE PROTECTED FEATURES\n",
    "# ----------------------\n",
    "# \"exclude_features\": \"none\", # \"nationality\", \"sex\", \"nationality-sex\"\n",
    "\n",
    "excluded_features = universe[\"exclude_features\"].split(\"-\") # split, e.g.: \"nationality-sex\" -> [\"nationality\", \"sex\"]\n",
    "excluded_features_dictionary = {\n",
    "    \"nationality\": [\"maxdeutsch1\", \"maxdeutsch.Missing.\"],\n",
    "    \"sex\": [\"frau1\"],\n",
    "    \"age\": [\"age\"],\n",
    "}\n"
   ]
  },
  {
   "cell_type": "code",
   "execution_count": 30,
   "id": "b745ac60",
   "metadata": {
    "execution": {
     "iopub.execute_input": "2025-07-30T21:26:30.855076Z",
     "iopub.status.busy": "2025-07-30T21:26:30.854032Z",
     "iopub.status.idle": "2025-07-30T21:26:30.859718Z",
     "shell.execute_reply": "2025-07-30T21:26:30.858772Z"
    },
    "papermill": {
     "duration": 0.021081,
     "end_time": "2025-07-30T21:26:30.861768",
     "exception": false,
     "start_time": "2025-07-30T21:26:30.840687",
     "status": "completed"
    },
    "tags": []
   },
   "outputs": [],
   "source": [
    "# Code nice names to column names\n",
    "\n",
    "excluded_features_columns = [\n",
    "    excluded_features_dictionary[f] for f in excluded_features if len(f) > 0 and f != \"none\"\n",
    "]"
   ]
  },
  {
   "cell_type": "code",
   "execution_count": 31,
   "id": "f84f73a2",
   "metadata": {
    "execution": {
     "iopub.execute_input": "2025-07-30T21:26:30.905053Z",
     "iopub.status.busy": "2025-07-30T21:26:30.904317Z",
     "iopub.status.idle": "2025-07-30T21:26:30.910034Z",
     "shell.execute_reply": "2025-07-30T21:26:30.909198Z"
    },
    "papermill": {
     "duration": 0.02767,
     "end_time": "2025-07-30T21:26:30.911440",
     "exception": false,
     "start_time": "2025-07-30T21:26:30.883770",
     "status": "completed"
    },
    "tags": []
   },
   "outputs": [],
   "source": [
    "from utils import flatten_once\n",
    "\n",
    "excluded_features_columns = flatten_once(excluded_features_columns)"
   ]
  },
  {
   "cell_type": "code",
   "execution_count": 32,
   "id": "884dea22",
   "metadata": {
    "execution": {
     "iopub.execute_input": "2025-07-30T21:26:30.955267Z",
     "iopub.status.busy": "2025-07-30T21:26:30.954809Z",
     "iopub.status.idle": "2025-07-30T21:26:30.962707Z",
     "shell.execute_reply": "2025-07-30T21:26:30.961760Z"
    },
    "papermill": {
     "duration": 0.03166,
     "end_time": "2025-07-30T21:26:30.964285",
     "exception": false,
     "start_time": "2025-07-30T21:26:30.932625",
     "status": "completed"
    },
    "tags": []
   },
   "outputs": [
    {
     "name": "stdout",
     "output_type": "stream",
     "text": [
      "Dropping features: ['maxdeutsch1', 'maxdeutsch.Missing.']\n"
     ]
    }
   ],
   "source": [
    "if len(excluded_features_columns) > 0:\n",
    "    print(f\"Dropping features: {excluded_features_columns}\")\n",
    "    X_train.drop(excluded_features_columns, axis=1, inplace=True)"
   ]
  },
  {
   "cell_type": "code",
   "execution_count": 33,
   "id": "95ab8b16",
   "metadata": {
    "execution": {
     "iopub.execute_input": "2025-07-30T21:26:31.009320Z",
     "iopub.status.busy": "2025-07-30T21:26:31.008706Z",
     "iopub.status.idle": "2025-07-30T21:26:31.060407Z",
     "shell.execute_reply": "2025-07-30T21:26:31.059438Z"
    },
    "papermill": {
     "duration": 0.074601,
     "end_time": "2025-07-30T21:26:31.062158",
     "exception": false,
     "start_time": "2025-07-30T21:26:30.987557",
     "status": "completed"
    },
    "tags": []
   },
   "outputs": [
    {
     "name": "stdout",
     "output_type": "stream",
     "text": [
      "Dropping features: ['maxdeutsch1', 'maxdeutsch.Missing.']\n"
     ]
    }
   ],
   "source": [
    "if len(excluded_features_columns) > 0:\n",
    "    print(f\"Dropping features: {excluded_features_columns}\")\n",
    "    X_test.drop(excluded_features_columns, axis=1, inplace=True)"
   ]
  },
  {
   "cell_type": "code",
   "execution_count": 34,
   "id": "1853aaf5-fb9f-46cb-a2b5-8ea4ae2237e4",
   "metadata": {
    "execution": {
     "iopub.execute_input": "2025-07-30T21:26:31.108302Z",
     "iopub.status.busy": "2025-07-30T21:26:31.107816Z",
     "iopub.status.idle": "2025-07-30T21:26:31.156937Z",
     "shell.execute_reply": "2025-07-30T21:26:31.156002Z"
    },
    "papermill": {
     "duration": 0.072469,
     "end_time": "2025-07-30T21:26:31.158647",
     "exception": false,
     "start_time": "2025-07-30T21:26:31.086178",
     "status": "completed"
    },
    "tags": []
   },
   "outputs": [
    {
     "name": "stdout",
     "output_type": "stream",
     "text": [
      "Dropping features: ['maxdeutsch1', 'maxdeutsch.Missing.']\n"
     ]
    }
   ],
   "source": [
    "if len(excluded_features_columns) > 0:\n",
    "    print(f\"Dropping features: {excluded_features_columns}\")\n",
    "    X_calib.drop(excluded_features_columns, axis=1, inplace=True)"
   ]
  },
  {
   "cell_type": "code",
   "execution_count": 35,
   "id": "6727d079-03e5-481e-9d38-292a90b7a0a8",
   "metadata": {
    "execution": {
     "iopub.execute_input": "2025-07-30T21:26:31.204904Z",
     "iopub.status.busy": "2025-07-30T21:26:31.204272Z",
     "iopub.status.idle": "2025-07-30T21:26:31.209029Z",
     "shell.execute_reply": "2025-07-30T21:26:31.208024Z"
    },
    "papermill": {
     "duration": 0.027951,
     "end_time": "2025-07-30T21:26:31.210634",
     "exception": false,
     "start_time": "2025-07-30T21:26:31.182683",
     "status": "completed"
    },
    "tags": []
   },
   "outputs": [],
   "source": [
    "# SPLIT & STRATIFY DATA\n",
    "# ----------------------"
   ]
  },
  {
   "cell_type": "code",
   "execution_count": 36,
   "id": "76c4dc6d",
   "metadata": {
    "execution": {
     "iopub.execute_input": "2025-07-30T21:26:31.257436Z",
     "iopub.status.busy": "2025-07-30T21:26:31.256801Z",
     "iopub.status.idle": "2025-07-30T21:26:31.262110Z",
     "shell.execute_reply": "2025-07-30T21:26:31.261204Z"
    },
    "papermill": {
     "duration": 0.029429,
     "end_time": "2025-07-30T21:26:31.263859",
     "exception": false,
     "start_time": "2025-07-30T21:26:31.234430",
     "status": "completed"
    },
    "tags": []
   },
   "outputs": [],
   "source": [
    "# EXCLUDE CERTAIN SUBGROUPS\n",
    "# ----------------------\n",
    "\n",
    "mode = universe.get(\"exclude_subgroups\", \"keep-all\") \n",
    "# Fetches the exclude_subgroups setting from the universe dict.\n",
    "# Defaults to \"keep-all\" if the key is missing."
   ]
  },
  {
   "cell_type": "code",
   "execution_count": 37,
   "id": "21994072",
   "metadata": {
    "execution": {
     "iopub.execute_input": "2025-07-30T21:26:31.312142Z",
     "iopub.status.busy": "2025-07-30T21:26:31.311481Z",
     "iopub.status.idle": "2025-07-30T21:26:31.318723Z",
     "shell.execute_reply": "2025-07-30T21:26:31.317814Z"
    },
    "papermill": {
     "duration": 0.032447,
     "end_time": "2025-07-30T21:26:31.320769",
     "exception": false,
     "start_time": "2025-07-30T21:26:31.288322",
     "status": "completed"
    },
    "tags": []
   },
   "outputs": [],
   "source": [
    "if mode == \"keep-all\":\n",
    "    keep_mask = pd.Series(True, index=org_train.index)\n",
    "\n",
    "# org_train contains the original feature columns from features_org (in Simson)\n",
    "# features_org contains unprocessed features, for me X_train at beginning ???\n",
    "# For keep-all, creates a boolean Series (keep_mask) of all True, so no rows are removed.\n",
    "\n",
    "elif mode == \"drop-non-german\":\n",
    "    keep_mask = org_train[\"maxdeutsch1\"] == 1 # ??? what about missing values?\n",
    "\n",
    "else:\n",
    "    raise ValueError(f\"Unsupported mode for exclude_subgroups: {mode}\")\n"
   ]
  },
  {
   "cell_type": "code",
   "execution_count": 38,
   "id": "71651440",
   "metadata": {
    "execution": {
     "iopub.execute_input": "2025-07-30T21:26:31.365916Z",
     "iopub.status.busy": "2025-07-30T21:26:31.365245Z",
     "iopub.status.idle": "2025-07-30T21:26:31.372719Z",
     "shell.execute_reply": "2025-07-30T21:26:31.371521Z"
    },
    "papermill": {
     "duration": 0.030735,
     "end_time": "2025-07-30T21:26:31.374344",
     "exception": false,
     "start_time": "2025-07-30T21:26:31.343609",
     "status": "completed"
    },
    "tags": []
   },
   "outputs": [],
   "source": [
    "n_drop = (~keep_mask).sum() # Calculates how many rows are set to be dropped\n",
    "if n_drop > 0:\n",
    "    pct = n_drop / len(keep_mask) * 100\n",
    "    print(f\"Dropping {n_drop} rows ({pct:.2f}%) where mode='{mode}'\")"
   ]
  },
  {
   "cell_type": "code",
   "execution_count": 39,
   "id": "5fb8eee5",
   "metadata": {
    "execution": {
     "iopub.execute_input": "2025-07-30T21:26:31.419426Z",
     "iopub.status.busy": "2025-07-30T21:26:31.418758Z",
     "iopub.status.idle": "2025-07-30T21:26:31.425043Z",
     "shell.execute_reply": "2025-07-30T21:26:31.424088Z"
    },
    "papermill": {
     "duration": 0.030672,
     "end_time": "2025-07-30T21:26:31.426786",
     "exception": false,
     "start_time": "2025-07-30T21:26:31.396114",
     "status": "completed"
    },
    "tags": []
   },
   "outputs": [],
   "source": [
    "X_train = X_train[keep_mask]"
   ]
  },
  {
   "cell_type": "code",
   "execution_count": 40,
   "id": "b202bb3a",
   "metadata": {
    "execution": {
     "iopub.execute_input": "2025-07-30T21:26:31.470754Z",
     "iopub.status.busy": "2025-07-30T21:26:31.470163Z",
     "iopub.status.idle": "2025-07-30T21:26:31.476718Z",
     "shell.execute_reply": "2025-07-30T21:26:31.475759Z"
    },
    "papermill": {
     "duration": 0.029467,
     "end_time": "2025-07-30T21:26:31.478189",
     "exception": false,
     "start_time": "2025-07-30T21:26:31.448722",
     "status": "completed"
    },
    "tags": []
   },
   "outputs": [],
   "source": [
    "y_train = y_train[keep_mask]"
   ]
  },
  {
   "cell_type": "markdown",
   "id": "493e2ac3",
   "metadata": {
    "papermill": {
     "duration": 0.020291,
     "end_time": "2025-07-30T21:26:31.520608",
     "exception": false,
     "start_time": "2025-07-30T21:26:31.500317",
     "status": "completed"
    },
    "tags": []
   },
   "source": [
    "# Model Training"
   ]
  },
  {
   "cell_type": "code",
   "execution_count": 41,
   "id": "679e1268",
   "metadata": {
    "execution": {
     "iopub.execute_input": "2025-07-30T21:26:31.564957Z",
     "iopub.status.busy": "2025-07-30T21:26:31.564312Z",
     "iopub.status.idle": "2025-07-30T21:26:31.665308Z",
     "shell.execute_reply": "2025-07-30T21:26:31.664424Z"
    },
    "papermill": {
     "duration": 0.124831,
     "end_time": "2025-07-30T21:26:31.667012",
     "exception": false,
     "start_time": "2025-07-30T21:26:31.542181",
     "status": "completed"
    },
    "tags": []
   },
   "outputs": [],
   "source": [
    "from sklearn.linear_model import LogisticRegression\n",
    "from sklearn.ensemble import GradientBoostingClassifier, RandomForestClassifier\n",
    "\n",
    "if (universe[\"model\"] == \"logreg\"):\n",
    "    model = LogisticRegression() #penalty=\"none\") #, solver=\"newton-cg\", max_iter=1) # include random_state=19 ?\n",
    "elif (universe[\"model\"] == \"penalized_logreg\"):\n",
    "    model = LogisticRegression(penalty=\"l2\", C=1.0) #, solver=\"newton-cg\", max_iter=1)\n",
    "elif (universe[\"model\"] == \"rf\"):\n",
    "    model = RandomForestClassifier(n_estimators=100, n_jobs=-1)\n",
    "elif (universe[\"model\"] == \"gbm\"):\n",
    "    model = GradientBoostingClassifier()\n",
    "elif (universe[\"model\"] == \"elasticnet\"):\n",
    "    model = LogisticRegression(penalty = 'elasticnet', solver = 'saga', l1_ratio = 0.5, max_iter=5000) # which solver to use?\n",
    "else:\n",
    "    raise \"Unsupported universe.model\""
   ]
  },
  {
   "cell_type": "code",
   "execution_count": 42,
   "id": "0cc8f744",
   "metadata": {
    "execution": {
     "iopub.execute_input": "2025-07-30T21:26:31.713727Z",
     "iopub.status.busy": "2025-07-30T21:26:31.713095Z",
     "iopub.status.idle": "2025-07-30T21:26:31.719214Z",
     "shell.execute_reply": "2025-07-30T21:26:31.718323Z"
    },
    "papermill": {
     "duration": 0.032516,
     "end_time": "2025-07-30T21:26:31.721483",
     "exception": false,
     "start_time": "2025-07-30T21:26:31.688967",
     "status": "completed"
    },
    "tags": []
   },
   "outputs": [],
   "source": [
    "import numpy as np\n",
    "from sklearn.pipeline import Pipeline\n",
    "from sklearn.preprocessing import StandardScaler\n",
    "\n",
    "model = Pipeline([\n",
    "    #(\"continuous_processor\", continuous_processor),\n",
    "    #(\"categorical_preprocessor\", categorical_preprocessor),\n",
    "    (\"scale\", StandardScaler() if universe[\"scale\"] == \"scale\" else None), \n",
    "    (\"model\", model),\n",
    "])"
   ]
  },
  {
   "cell_type": "code",
   "execution_count": 43,
   "id": "9442c04d",
   "metadata": {
    "execution": {
     "iopub.execute_input": "2025-07-30T21:26:31.769470Z",
     "iopub.status.busy": "2025-07-30T21:26:31.768607Z",
     "iopub.status.idle": "2025-07-30T21:26:34.117690Z",
     "shell.execute_reply": "2025-07-30T21:26:34.116735Z"
    },
    "papermill": {
     "duration": 2.374768,
     "end_time": "2025-07-30T21:26:34.119418",
     "exception": false,
     "start_time": "2025-07-30T21:26:31.744650",
     "status": "completed"
    },
    "tags": []
   },
   "outputs": [
    {
     "data": {
      "text/html": [
       "<style>#sk-container-id-1 {color: black;background-color: white;}#sk-container-id-1 pre{padding: 0;}#sk-container-id-1 div.sk-toggleable {background-color: white;}#sk-container-id-1 label.sk-toggleable__label {cursor: pointer;display: block;width: 100%;margin-bottom: 0;padding: 0.3em;box-sizing: border-box;text-align: center;}#sk-container-id-1 label.sk-toggleable__label-arrow:before {content: \"▸\";float: left;margin-right: 0.25em;color: #696969;}#sk-container-id-1 label.sk-toggleable__label-arrow:hover:before {color: black;}#sk-container-id-1 div.sk-estimator:hover label.sk-toggleable__label-arrow:before {color: black;}#sk-container-id-1 div.sk-toggleable__content {max-height: 0;max-width: 0;overflow: hidden;text-align: left;background-color: #f0f8ff;}#sk-container-id-1 div.sk-toggleable__content pre {margin: 0.2em;color: black;border-radius: 0.25em;background-color: #f0f8ff;}#sk-container-id-1 input.sk-toggleable__control:checked~div.sk-toggleable__content {max-height: 200px;max-width: 100%;overflow: auto;}#sk-container-id-1 input.sk-toggleable__control:checked~label.sk-toggleable__label-arrow:before {content: \"▾\";}#sk-container-id-1 div.sk-estimator input.sk-toggleable__control:checked~label.sk-toggleable__label {background-color: #d4ebff;}#sk-container-id-1 div.sk-label input.sk-toggleable__control:checked~label.sk-toggleable__label {background-color: #d4ebff;}#sk-container-id-1 input.sk-hidden--visually {border: 0;clip: rect(1px 1px 1px 1px);clip: rect(1px, 1px, 1px, 1px);height: 1px;margin: -1px;overflow: hidden;padding: 0;position: absolute;width: 1px;}#sk-container-id-1 div.sk-estimator {font-family: monospace;background-color: #f0f8ff;border: 1px dotted black;border-radius: 0.25em;box-sizing: border-box;margin-bottom: 0.5em;}#sk-container-id-1 div.sk-estimator:hover {background-color: #d4ebff;}#sk-container-id-1 div.sk-parallel-item::after {content: \"\";width: 100%;border-bottom: 1px solid gray;flex-grow: 1;}#sk-container-id-1 div.sk-label:hover label.sk-toggleable__label {background-color: #d4ebff;}#sk-container-id-1 div.sk-serial::before {content: \"\";position: absolute;border-left: 1px solid gray;box-sizing: border-box;top: 0;bottom: 0;left: 50%;z-index: 0;}#sk-container-id-1 div.sk-serial {display: flex;flex-direction: column;align-items: center;background-color: white;padding-right: 0.2em;padding-left: 0.2em;position: relative;}#sk-container-id-1 div.sk-item {position: relative;z-index: 1;}#sk-container-id-1 div.sk-parallel {display: flex;align-items: stretch;justify-content: center;background-color: white;position: relative;}#sk-container-id-1 div.sk-item::before, #sk-container-id-1 div.sk-parallel-item::before {content: \"\";position: absolute;border-left: 1px solid gray;box-sizing: border-box;top: 0;bottom: 0;left: 50%;z-index: -1;}#sk-container-id-1 div.sk-parallel-item {display: flex;flex-direction: column;z-index: 1;position: relative;background-color: white;}#sk-container-id-1 div.sk-parallel-item:first-child::after {align-self: flex-end;width: 50%;}#sk-container-id-1 div.sk-parallel-item:last-child::after {align-self: flex-start;width: 50%;}#sk-container-id-1 div.sk-parallel-item:only-child::after {width: 0;}#sk-container-id-1 div.sk-dashed-wrapped {border: 1px dashed gray;margin: 0 0.4em 0.5em 0.4em;box-sizing: border-box;padding-bottom: 0.4em;background-color: white;}#sk-container-id-1 div.sk-label label {font-family: monospace;font-weight: bold;display: inline-block;line-height: 1.2em;}#sk-container-id-1 div.sk-label-container {text-align: center;}#sk-container-id-1 div.sk-container {/* jupyter's `normalize.less` sets `[hidden] { display: none; }` but bootstrap.min.css set `[hidden] { display: none !important; }` so we also need the `!important` here to be able to override the default hidden behavior on the sphinx rendered scikit-learn.org. See: https://github.com/scikit-learn/scikit-learn/issues/21755 */display: inline-block !important;position: relative;}#sk-container-id-1 div.sk-text-repr-fallback {display: none;}</style><div id=\"sk-container-id-1\" class=\"sk-top-container\"><div class=\"sk-text-repr-fallback\"><pre>Pipeline(steps=[(&#x27;scale&#x27;, StandardScaler()),\n",
       "                (&#x27;model&#x27;,\n",
       "                 LogisticRegression(l1_ratio=0.5, max_iter=5000,\n",
       "                                    penalty=&#x27;elasticnet&#x27;, solver=&#x27;saga&#x27;))])</pre><b>In a Jupyter environment, please rerun this cell to show the HTML representation or trust the notebook. <br />On GitHub, the HTML representation is unable to render, please try loading this page with nbviewer.org.</b></div><div class=\"sk-container\" hidden><div class=\"sk-item sk-dashed-wrapped\"><div class=\"sk-label-container\"><div class=\"sk-label sk-toggleable\"><input class=\"sk-toggleable__control sk-hidden--visually\" id=\"sk-estimator-id-1\" type=\"checkbox\" ><label for=\"sk-estimator-id-1\" class=\"sk-toggleable__label sk-toggleable__label-arrow\">Pipeline</label><div class=\"sk-toggleable__content\"><pre>Pipeline(steps=[(&#x27;scale&#x27;, StandardScaler()),\n",
       "                (&#x27;model&#x27;,\n",
       "                 LogisticRegression(l1_ratio=0.5, max_iter=5000,\n",
       "                                    penalty=&#x27;elasticnet&#x27;, solver=&#x27;saga&#x27;))])</pre></div></div></div><div class=\"sk-serial\"><div class=\"sk-item\"><div class=\"sk-estimator sk-toggleable\"><input class=\"sk-toggleable__control sk-hidden--visually\" id=\"sk-estimator-id-2\" type=\"checkbox\" ><label for=\"sk-estimator-id-2\" class=\"sk-toggleable__label sk-toggleable__label-arrow\">StandardScaler</label><div class=\"sk-toggleable__content\"><pre>StandardScaler()</pre></div></div></div><div class=\"sk-item\"><div class=\"sk-estimator sk-toggleable\"><input class=\"sk-toggleable__control sk-hidden--visually\" id=\"sk-estimator-id-3\" type=\"checkbox\" ><label for=\"sk-estimator-id-3\" class=\"sk-toggleable__label sk-toggleable__label-arrow\">LogisticRegression</label><div class=\"sk-toggleable__content\"><pre>LogisticRegression(l1_ratio=0.5, max_iter=5000, penalty=&#x27;elasticnet&#x27;,\n",
       "                   solver=&#x27;saga&#x27;)</pre></div></div></div></div></div></div></div>"
      ],
      "text/plain": [
       "Pipeline(steps=[('scale', StandardScaler()),\n",
       "                ('model',\n",
       "                 LogisticRegression(l1_ratio=0.5, max_iter=5000,\n",
       "                                    penalty='elasticnet', solver='saga'))])"
      ]
     },
     "execution_count": 43,
     "metadata": {},
     "output_type": "execute_result"
    }
   ],
   "source": [
    "model.fit(X_train, y_train.values.ravel())"
   ]
  },
  {
   "cell_type": "code",
   "execution_count": 44,
   "id": "af59f8c0",
   "metadata": {
    "execution": {
     "iopub.execute_input": "2025-07-30T21:26:34.172138Z",
     "iopub.status.busy": "2025-07-30T21:26:34.171404Z",
     "iopub.status.idle": "2025-07-30T21:26:34.177434Z",
     "shell.execute_reply": "2025-07-30T21:26:34.176403Z"
    },
    "papermill": {
     "duration": 0.034441,
     "end_time": "2025-07-30T21:26:34.179329",
     "exception": false,
     "start_time": "2025-07-30T21:26:34.144888",
     "status": "completed"
    },
    "tags": []
   },
   "outputs": [],
   "source": [
    "from fairness_multiverse.universe import predict_w_threshold"
   ]
  },
  {
   "cell_type": "code",
   "execution_count": 45,
   "id": "a7cf2e16",
   "metadata": {
    "execution": {
     "iopub.execute_input": "2025-07-30T21:26:34.231503Z",
     "iopub.status.busy": "2025-07-30T21:26:34.230799Z",
     "iopub.status.idle": "2025-07-30T21:26:34.419126Z",
     "shell.execute_reply": "2025-07-30T21:26:34.418140Z"
    },
    "papermill": {
     "duration": 0.215647,
     "end_time": "2025-07-30T21:26:34.420903",
     "exception": false,
     "start_time": "2025-07-30T21:26:34.205256",
     "status": "completed"
    },
    "tags": []
   },
   "outputs": [
    {
     "data": {
      "text/plain": [
       "0.8197748300078029"
      ]
     },
     "execution_count": 45,
     "metadata": {},
     "output_type": "execute_result"
    }
   ],
   "source": [
    "probs_test = model.predict_proba(X_test)\n",
    "\n",
    "'''\n",
    "Below code returns a boolean array (or binary 0/1 array depending on how it’s used) where each element \n",
    "is True if the probability of class 1 is greater than or equal to the threshold, and False otherwise.\n",
    "'''\n",
    "y_pred_default = predict_w_threshold(probs_test, 0.5)\n",
    "\n",
    "from sklearn.metrics import accuracy_score\n",
    "\n",
    "# Naive prediction\n",
    "accuracy_score(y_true = y_true, y_pred = y_pred_default)"
   ]
  },
  {
   "cell_type": "code",
   "execution_count": 46,
   "id": "081964c3",
   "metadata": {
    "execution": {
     "iopub.execute_input": "2025-07-30T21:26:34.471646Z",
     "iopub.status.busy": "2025-07-30T21:26:34.471195Z",
     "iopub.status.idle": "2025-07-30T21:26:34.657746Z",
     "shell.execute_reply": "2025-07-30T21:26:34.656845Z"
    },
    "papermill": {
     "duration": 0.212458,
     "end_time": "2025-07-30T21:26:34.659468",
     "exception": false,
     "start_time": "2025-07-30T21:26:34.447010",
     "status": "completed"
    },
    "tags": []
   },
   "outputs": [
    {
     "data": {
      "text/plain": [
       "array([0, 0, 0, ..., 0, 0, 0])"
      ]
     },
     "execution_count": 46,
     "metadata": {},
     "output_type": "execute_result"
    }
   ],
   "source": [
    "model.predict(X_test)"
   ]
  },
  {
   "cell_type": "markdown",
   "id": "56c9705b",
   "metadata": {
    "papermill": {
     "duration": 0.024024,
     "end_time": "2025-07-30T21:26:34.708320",
     "exception": false,
     "start_time": "2025-07-30T21:26:34.684296",
     "status": "completed"
    },
    "tags": []
   },
   "source": [
    "# Conformal Prediction"
   ]
  },
  {
   "cell_type": "code",
   "execution_count": 47,
   "id": "160ec6ff",
   "metadata": {
    "execution": {
     "iopub.execute_input": "2025-07-30T21:26:34.757582Z",
     "iopub.status.busy": "2025-07-30T21:26:34.757090Z",
     "iopub.status.idle": "2025-07-30T21:26:34.762380Z",
     "shell.execute_reply": "2025-07-30T21:26:34.761444Z"
    },
    "papermill": {
     "duration": 0.033672,
     "end_time": "2025-07-30T21:26:34.764569",
     "exception": false,
     "start_time": "2025-07-30T21:26:34.730897",
     "status": "completed"
    },
    "tags": []
   },
   "outputs": [],
   "source": [
    "# Miscoverage level for conformal prediction (10% allowed error rate => 90% target coverage)\n",
    "alpha = 0.1"
   ]
  },
  {
   "cell_type": "code",
   "execution_count": 48,
   "id": "eadf4555-3dd3-440e-8e35-f82a4ad9f855",
   "metadata": {
    "execution": {
     "iopub.execute_input": "2025-07-30T21:26:34.818043Z",
     "iopub.status.busy": "2025-07-30T21:26:34.817533Z",
     "iopub.status.idle": "2025-07-30T21:26:34.995976Z",
     "shell.execute_reply": "2025-07-30T21:26:34.995046Z"
    },
    "papermill": {
     "duration": 0.206687,
     "end_time": "2025-07-30T21:26:34.997593",
     "exception": false,
     "start_time": "2025-07-30T21:26:34.790906",
     "status": "completed"
    },
    "tags": []
   },
   "outputs": [],
   "source": [
    "probs_calib = model.predict_proba(X_calib)"
   ]
  },
  {
   "cell_type": "code",
   "execution_count": 49,
   "id": "2ed93547-6d5d-4983-9b36-1ecb300da49a",
   "metadata": {
    "execution": {
     "iopub.execute_input": "2025-07-30T21:26:35.029674Z",
     "iopub.status.busy": "2025-07-30T21:26:35.029327Z",
     "iopub.status.idle": "2025-07-30T21:26:35.034402Z",
     "shell.execute_reply": "2025-07-30T21:26:35.033427Z"
    },
    "papermill": {
     "duration": 0.0216,
     "end_time": "2025-07-30T21:26:35.036303",
     "exception": false,
     "start_time": "2025-07-30T21:26:35.014703",
     "status": "completed"
    },
    "tags": []
   },
   "outputs": [],
   "source": [
    "y_calib = y_calib.values.ravel().astype(int)"
   ]
  },
  {
   "cell_type": "code",
   "execution_count": 50,
   "id": "65d1320d-f588-4b38-9072-62af1ae97f7d",
   "metadata": {
    "execution": {
     "iopub.execute_input": "2025-07-30T21:26:35.085735Z",
     "iopub.status.busy": "2025-07-30T21:26:35.084891Z",
     "iopub.status.idle": "2025-07-30T21:26:35.093012Z",
     "shell.execute_reply": "2025-07-30T21:26:35.091886Z"
    },
    "papermill": {
     "duration": 0.034397,
     "end_time": "2025-07-30T21:26:35.095367",
     "exception": false,
     "start_time": "2025-07-30T21:26:35.060970",
     "status": "completed"
    },
    "tags": []
   },
   "outputs": [],
   "source": [
    "from fairness_multiverse.conformal import compute_nc_scores\n",
    "\n",
    "# Compute nonconformity scores on calibration set (1 - probability of true class)\n",
    "nc_scores = compute_nc_scores(probs_calib, y_calib)"
   ]
  },
  {
   "cell_type": "code",
   "execution_count": 51,
   "id": "df3b8ca3-53b7-43d5-9667-7c85da7aeda2",
   "metadata": {
    "execution": {
     "iopub.execute_input": "2025-07-30T21:26:35.146747Z",
     "iopub.status.busy": "2025-07-30T21:26:35.146109Z",
     "iopub.status.idle": "2025-07-30T21:26:35.153618Z",
     "shell.execute_reply": "2025-07-30T21:26:35.152565Z"
    },
    "papermill": {
     "duration": 0.034696,
     "end_time": "2025-07-30T21:26:35.155511",
     "exception": false,
     "start_time": "2025-07-30T21:26:35.120815",
     "status": "completed"
    },
    "tags": []
   },
   "outputs": [],
   "source": [
    "from fairness_multiverse.conformal import find_threshold\n",
    "\n",
    "# Find conformal threshold q_hat for the given alpha (split conformal method)\n",
    "q_hat = find_threshold(nc_scores, alpha)"
   ]
  },
  {
   "cell_type": "code",
   "execution_count": 52,
   "id": "4d29e6c1-0ef6-4aa4-b8fe-4fe79b0d033a",
   "metadata": {
    "execution": {
     "iopub.execute_input": "2025-07-30T21:26:35.208156Z",
     "iopub.status.busy": "2025-07-30T21:26:35.207337Z",
     "iopub.status.idle": "2025-07-30T21:26:35.215646Z",
     "shell.execute_reply": "2025-07-30T21:26:35.214563Z"
    },
    "papermill": {
     "duration": 0.03712,
     "end_time": "2025-07-30T21:26:35.217394",
     "exception": false,
     "start_time": "2025-07-30T21:26:35.180274",
     "status": "completed"
    },
    "tags": []
   },
   "outputs": [
    {
     "data": {
      "text/plain": [
       "0.789698592991039"
      ]
     },
     "execution_count": 52,
     "metadata": {},
     "output_type": "execute_result"
    }
   ],
   "source": [
    "q_hat"
   ]
  },
  {
   "cell_type": "code",
   "execution_count": 53,
   "id": "92460794-cdac-4be2-ba28-f28c0515a6fb",
   "metadata": {
    "execution": {
     "iopub.execute_input": "2025-07-30T21:26:35.272526Z",
     "iopub.status.busy": "2025-07-30T21:26:35.267675Z",
     "iopub.status.idle": "2025-07-30T21:26:36.015754Z",
     "shell.execute_reply": "2025-07-30T21:26:36.015035Z"
    },
    "papermill": {
     "duration": 0.77527,
     "end_time": "2025-07-30T21:26:36.017405",
     "exception": false,
     "start_time": "2025-07-30T21:26:35.242135",
     "status": "completed"
    },
    "tags": []
   },
   "outputs": [],
   "source": [
    "from fairness_multiverse.conformal import predict_conformal_sets\n",
    "\n",
    "# Generate prediction sets for each test example\n",
    "pred_sets = predict_conformal_sets(model, X_test, q_hat)"
   ]
  },
  {
   "cell_type": "code",
   "execution_count": 54,
   "id": "d90c9a65-e6db-4f5d-80cd-e68fb7e46829",
   "metadata": {
    "execution": {
     "iopub.execute_input": "2025-07-30T21:26:36.065442Z",
     "iopub.status.busy": "2025-07-30T21:26:36.064812Z",
     "iopub.status.idle": "2025-07-30T21:26:36.070058Z",
     "shell.execute_reply": "2025-07-30T21:26:36.069161Z"
    },
    "papermill": {
     "duration": 0.030487,
     "end_time": "2025-07-30T21:26:36.071980",
     "exception": false,
     "start_time": "2025-07-30T21:26:36.041493",
     "status": "completed"
    },
    "tags": []
   },
   "outputs": [],
   "source": [
    "y_true = y_true.squeeze()"
   ]
  },
  {
   "cell_type": "code",
   "execution_count": 55,
   "id": "3a58a54a-1e68-46b9-927a-df01f18aebc8",
   "metadata": {
    "execution": {
     "iopub.execute_input": "2025-07-30T21:26:36.121577Z",
     "iopub.status.busy": "2025-07-30T21:26:36.120888Z",
     "iopub.status.idle": "2025-07-30T21:26:37.185592Z",
     "shell.execute_reply": "2025-07-30T21:26:37.184628Z"
    },
    "papermill": {
     "duration": 1.091393,
     "end_time": "2025-07-30T21:26:37.187043",
     "exception": false,
     "start_time": "2025-07-30T21:26:36.095650",
     "status": "completed"
    },
    "tags": []
   },
   "outputs": [],
   "source": [
    "from fairness_multiverse.conformal import evaluate_sets\n",
    "\n",
    "# Evaluate coverage and average set size on test data\n",
    "metrics = evaluate_sets(pred_sets, y_true)"
   ]
  },
  {
   "cell_type": "markdown",
   "id": "2b569c12-9aaa-4c88-98c9-bbcd0cf3ebb8",
   "metadata": {
    "papermill": {
     "duration": 0.012169,
     "end_time": "2025-07-30T21:26:37.213404",
     "exception": false,
     "start_time": "2025-07-30T21:26:37.201235",
     "status": "completed"
    },
    "tags": []
   },
   "source": [
    "# CP Metrics"
   ]
  },
  {
   "cell_type": "code",
   "execution_count": 56,
   "id": "5ce0a5cb-201f-45a0-ade5-94c7f0bd6095",
   "metadata": {
    "execution": {
     "iopub.execute_input": "2025-07-30T21:26:37.239396Z",
     "iopub.status.busy": "2025-07-30T21:26:37.238609Z",
     "iopub.status.idle": "2025-07-30T21:26:37.244950Z",
     "shell.execute_reply": "2025-07-30T21:26:37.244192Z"
    },
    "papermill": {
     "duration": 0.02074,
     "end_time": "2025-07-30T21:26:37.246532",
     "exception": false,
     "start_time": "2025-07-30T21:26:37.225792",
     "status": "completed"
    },
    "tags": []
   },
   "outputs": [
    {
     "data": {
      "text/plain": [
       "{'coverage': 0.9072567160851633, 'avg_size': 1.23273882510311}"
      ]
     },
     "execution_count": 56,
     "metadata": {},
     "output_type": "execute_result"
    }
   ],
   "source": [
    "metrics"
   ]
  },
  {
   "cell_type": "code",
   "execution_count": 57,
   "id": "9b9a838d-31c9-430b-ae14-12baee460d17",
   "metadata": {
    "execution": {
     "iopub.execute_input": "2025-07-30T21:26:37.296473Z",
     "iopub.status.busy": "2025-07-30T21:26:37.295960Z",
     "iopub.status.idle": "2025-07-30T21:26:37.302934Z",
     "shell.execute_reply": "2025-07-30T21:26:37.301902Z"
    },
    "papermill": {
     "duration": 0.033823,
     "end_time": "2025-07-30T21:26:37.304721",
     "exception": false,
     "start_time": "2025-07-30T21:26:37.270898",
     "status": "completed"
    },
    "tags": []
   },
   "outputs": [],
   "source": [
    "example_universe = universe.copy()\n",
    "universe_training_year = example_universe.get(\"training_year\")\n",
    "universe_training_size = example_universe.get(\"training_size\")\n",
    "universe_scale = example_universe.get(\"scale\")\n",
    "universe_model = example_universe.get(\"model\")\n",
    "universe_exclude_features = example_universe.get(\"exclude_features\")\n",
    "universe_exclude_subgroups = example_universe.get(\"exclude_subgroups\")"
   ]
  },
  {
   "cell_type": "code",
   "execution_count": 58,
   "id": "f4b6a8ac-9dc0-4245-8a91-5b3b5999c4f9",
   "metadata": {
    "execution": {
     "iopub.execute_input": "2025-07-30T21:26:37.354724Z",
     "iopub.status.busy": "2025-07-30T21:26:37.354246Z",
     "iopub.status.idle": "2025-07-30T21:26:37.360920Z",
     "shell.execute_reply": "2025-07-30T21:26:37.359878Z"
    },
    "papermill": {
     "duration": 0.033057,
     "end_time": "2025-07-30T21:26:37.363073",
     "exception": false,
     "start_time": "2025-07-30T21:26:37.330016",
     "status": "completed"
    },
    "tags": []
   },
   "outputs": [],
   "source": [
    "cp_metrics_dict = {\n",
    "    \"universe_id\": [universe_id],\n",
    "    \"universe_training_year\": [universe_training_year],\n",
    "    \"universe_training_size\": [universe_training_size],\n",
    "    \"universe_scale\": [universe_scale],\n",
    "    \"universe_model\": [universe_model],\n",
    "    \"universe_exclude_features\": [universe_exclude_features],\n",
    "    \"universe_exclude_subgroups\": [universe_exclude_subgroups],\n",
    "    \"q_hat\": [q_hat],\n",
    "    \"coverage\": [metrics[\"coverage\"]],\n",
    "    \"avg_size\": [metrics[\"avg_size\"]],\n",
    "}"
   ]
  },
  {
   "cell_type": "code",
   "execution_count": 59,
   "id": "908acbb1-0371-4915-85ca-3fa520d2efe2",
   "metadata": {
    "execution": {
     "iopub.execute_input": "2025-07-30T21:26:37.413484Z",
     "iopub.status.busy": "2025-07-30T21:26:37.412892Z",
     "iopub.status.idle": "2025-07-30T21:26:37.420295Z",
     "shell.execute_reply": "2025-07-30T21:26:37.419322Z"
    },
    "papermill": {
     "duration": 0.033372,
     "end_time": "2025-07-30T21:26:37.421966",
     "exception": false,
     "start_time": "2025-07-30T21:26:37.388594",
     "status": "completed"
    },
    "tags": []
   },
   "outputs": [
    {
     "data": {
      "text/plain": [
       "{'universe_id': ['85f72c5b51d869c95449ba0195fff4f1'],\n",
       " 'universe_training_year': ['2014'],\n",
       " 'universe_training_size': ['1k'],\n",
       " 'universe_scale': ['scale'],\n",
       " 'universe_model': ['elasticnet'],\n",
       " 'universe_exclude_features': ['nationality'],\n",
       " 'universe_exclude_subgroups': ['keep-all'],\n",
       " 'q_hat': [0.789698592991039],\n",
       " 'coverage': [0.9072567160851633],\n",
       " 'avg_size': [1.23273882510311]}"
      ]
     },
     "execution_count": 59,
     "metadata": {},
     "output_type": "execute_result"
    }
   ],
   "source": [
    "cp_metrics_dict"
   ]
  },
  {
   "cell_type": "code",
   "execution_count": 60,
   "id": "33007efc-14e9-4ec6-97ac-56a455c82265",
   "metadata": {
    "execution": {
     "iopub.execute_input": "2025-07-30T21:26:37.470209Z",
     "iopub.status.busy": "2025-07-30T21:26:37.469688Z",
     "iopub.status.idle": "2025-07-30T21:26:37.477005Z",
     "shell.execute_reply": "2025-07-30T21:26:37.475965Z"
    },
    "papermill": {
     "duration": 0.032876,
     "end_time": "2025-07-30T21:26:37.478790",
     "exception": false,
     "start_time": "2025-07-30T21:26:37.445914",
     "status": "completed"
    },
    "tags": []
   },
   "outputs": [],
   "source": [
    "cp_metrics_df = pd.DataFrame(cp_metrics_dict)"
   ]
  },
  {
   "cell_type": "code",
   "execution_count": 61,
   "id": "db12611b-57b2-4910-b9d0-355adfd6e7bf",
   "metadata": {
    "execution": {
     "iopub.execute_input": "2025-07-30T21:26:37.528248Z",
     "iopub.status.busy": "2025-07-30T21:26:37.527825Z",
     "iopub.status.idle": "2025-07-30T21:26:37.546875Z",
     "shell.execute_reply": "2025-07-30T21:26:37.545890Z"
    },
    "papermill": {
     "duration": 0.04426,
     "end_time": "2025-07-30T21:26:37.548671",
     "exception": false,
     "start_time": "2025-07-30T21:26:37.504411",
     "status": "completed"
    },
    "tags": []
   },
   "outputs": [
    {
     "data": {
      "text/html": [
       "<div>\n",
       "<style scoped>\n",
       "    .dataframe tbody tr th:only-of-type {\n",
       "        vertical-align: middle;\n",
       "    }\n",
       "\n",
       "    .dataframe tbody tr th {\n",
       "        vertical-align: top;\n",
       "    }\n",
       "\n",
       "    .dataframe thead th {\n",
       "        text-align: right;\n",
       "    }\n",
       "</style>\n",
       "<table border=\"1\" class=\"dataframe\">\n",
       "  <thead>\n",
       "    <tr style=\"text-align: right;\">\n",
       "      <th></th>\n",
       "      <th>universe_id</th>\n",
       "      <th>universe_training_year</th>\n",
       "      <th>universe_training_size</th>\n",
       "      <th>universe_scale</th>\n",
       "      <th>universe_model</th>\n",
       "      <th>universe_exclude_features</th>\n",
       "      <th>universe_exclude_subgroups</th>\n",
       "      <th>q_hat</th>\n",
       "      <th>coverage</th>\n",
       "      <th>avg_size</th>\n",
       "    </tr>\n",
       "  </thead>\n",
       "  <tbody>\n",
       "    <tr>\n",
       "      <th>0</th>\n",
       "      <td>85f72c5b51d869c95449ba0195fff4f1</td>\n",
       "      <td>2014</td>\n",
       "      <td>1k</td>\n",
       "      <td>scale</td>\n",
       "      <td>elasticnet</td>\n",
       "      <td>nationality</td>\n",
       "      <td>keep-all</td>\n",
       "      <td>0.789699</td>\n",
       "      <td>0.907257</td>\n",
       "      <td>1.232739</td>\n",
       "    </tr>\n",
       "  </tbody>\n",
       "</table>\n",
       "</div>"
      ],
      "text/plain": [
       "                        universe_id universe_training_year  \\\n",
       "0  85f72c5b51d869c95449ba0195fff4f1                   2014   \n",
       "\n",
       "  universe_training_size universe_scale universe_model  \\\n",
       "0                     1k          scale     elasticnet   \n",
       "\n",
       "  universe_exclude_features universe_exclude_subgroups     q_hat  coverage  \\\n",
       "0               nationality                   keep-all  0.789699  0.907257   \n",
       "\n",
       "   avg_size  \n",
       "0  1.232739  "
      ]
     },
     "execution_count": 61,
     "metadata": {},
     "output_type": "execute_result"
    }
   ],
   "source": [
    "cp_metrics_df"
   ]
  },
  {
   "cell_type": "code",
   "execution_count": 62,
   "id": "b7fbde55-a0a1-47e4-9af6-fe4a17fa8c61",
   "metadata": {
    "execution": {
     "iopub.execute_input": "2025-07-30T21:26:37.599116Z",
     "iopub.status.busy": "2025-07-30T21:26:37.598496Z",
     "iopub.status.idle": "2025-07-30T21:26:37.603512Z",
     "shell.execute_reply": "2025-07-30T21:26:37.602458Z"
    },
    "papermill": {
     "duration": 0.031796,
     "end_time": "2025-07-30T21:26:37.605127",
     "exception": false,
     "start_time": "2025-07-30T21:26:37.573331",
     "status": "completed"
    },
    "tags": []
   },
   "outputs": [],
   "source": [
    "# Conditional Coverage & looking at subgroups"
   ]
  },
  {
   "cell_type": "code",
   "execution_count": 63,
   "id": "027ae886-68dd-4141-96c7-805a5450e1ef",
   "metadata": {
    "execution": {
     "iopub.execute_input": "2025-07-30T21:26:37.655883Z",
     "iopub.status.busy": "2025-07-30T21:26:37.655112Z",
     "iopub.status.idle": "2025-07-30T21:26:37.903319Z",
     "shell.execute_reply": "2025-07-30T21:26:37.902317Z"
    },
    "papermill": {
     "duration": 0.275516,
     "end_time": "2025-07-30T21:26:37.905727",
     "exception": false,
     "start_time": "2025-07-30T21:26:37.630211",
     "status": "completed"
    },
    "tags": []
   },
   "outputs": [],
   "source": [
    "from fairness_multiverse.conformal import build_cp_groups\n",
    "\n",
    "cp_groups_df = build_cp_groups(pred_sets, y_true, X_test.index, org_test)\n",
    "#needs universe_id and setting"
   ]
  },
  {
   "cell_type": "code",
   "execution_count": 64,
   "id": "01d5802c-663a-4d1f-9d69-e036faaffbf7",
   "metadata": {
    "execution": {
     "iopub.execute_input": "2025-07-30T21:26:37.964578Z",
     "iopub.status.busy": "2025-07-30T21:26:37.963697Z",
     "iopub.status.idle": "2025-07-30T21:26:37.968711Z",
     "shell.execute_reply": "2025-07-30T21:26:37.967740Z"
    },
    "papermill": {
     "duration": 0.031791,
     "end_time": "2025-07-30T21:26:37.970389",
     "exception": false,
     "start_time": "2025-07-30T21:26:37.938598",
     "status": "completed"
    },
    "tags": []
   },
   "outputs": [],
   "source": [
    "#delete\n",
    "#cp_groups_df"
   ]
  },
  {
   "cell_type": "code",
   "execution_count": 65,
   "id": "fa424af1-d1eb-443d-b717-2d279ada8408",
   "metadata": {
    "execution": {
     "iopub.execute_input": "2025-07-30T21:26:38.021048Z",
     "iopub.status.busy": "2025-07-30T21:26:38.020622Z",
     "iopub.status.idle": "2025-07-30T21:26:38.025153Z",
     "shell.execute_reply": "2025-07-30T21:26:38.024328Z"
    },
    "papermill": {
     "duration": 0.031177,
     "end_time": "2025-07-30T21:26:38.026589",
     "exception": false,
     "start_time": "2025-07-30T21:26:37.995412",
     "status": "completed"
    },
    "tags": []
   },
   "outputs": [],
   "source": [
    "#delete\n",
    "#percentage = (cp_groups_df['nongerman_female'] == 1).mean() * 100\n",
    "#print(percentage)\n"
   ]
  },
  {
   "cell_type": "code",
   "execution_count": 66,
   "id": "6cbdab96-b2b2-45af-ad54-d0516db2e28d",
   "metadata": {
    "execution": {
     "iopub.execute_input": "2025-07-30T21:26:38.076484Z",
     "iopub.status.busy": "2025-07-30T21:26:38.075838Z",
     "iopub.status.idle": "2025-07-30T21:26:39.628429Z",
     "shell.execute_reply": "2025-07-30T21:26:39.627387Z"
    },
    "papermill": {
     "duration": 1.579147,
     "end_time": "2025-07-30T21:26:39.630408",
     "exception": false,
     "start_time": "2025-07-30T21:26:38.051261",
     "status": "completed"
    },
    "tags": []
   },
   "outputs": [],
   "source": [
    "# Define covered = 1 if true_label is in the predicted set\n",
    "cp_groups_df['covered'] = cp_groups_df.apply(\n",
    "    lambda r: int(r['true_label'] in r['pred_set']),\n",
    "    axis=1\n",
    ")"
   ]
  },
  {
   "cell_type": "code",
   "execution_count": 67,
   "id": "338ff529-1a6b-4b87-a931-8e4788d52aad",
   "metadata": {
    "execution": {
     "iopub.execute_input": "2025-07-30T21:26:39.685172Z",
     "iopub.status.busy": "2025-07-30T21:26:39.684685Z",
     "iopub.status.idle": "2025-07-30T21:26:39.689685Z",
     "shell.execute_reply": "2025-07-30T21:26:39.688831Z"
    },
    "papermill": {
     "duration": 0.043685,
     "end_time": "2025-07-30T21:26:39.702019",
     "exception": false,
     "start_time": "2025-07-30T21:26:39.658334",
     "status": "completed"
    },
    "tags": []
   },
   "outputs": [],
   "source": [
    "#cp_groups_df"
   ]
  },
  {
   "cell_type": "code",
   "execution_count": 68,
   "id": "90032e27-66df-4540-9169-4e89cfbaa758",
   "metadata": {
    "execution": {
     "iopub.execute_input": "2025-07-30T21:26:39.753420Z",
     "iopub.status.busy": "2025-07-30T21:26:39.752919Z",
     "iopub.status.idle": "2025-07-30T21:26:39.765210Z",
     "shell.execute_reply": "2025-07-30T21:26:39.764287Z"
    },
    "papermill": {
     "duration": 0.041027,
     "end_time": "2025-07-30T21:26:39.767092",
     "exception": false,
     "start_time": "2025-07-30T21:26:39.726065",
     "status": "completed"
    },
    "tags": []
   },
   "outputs": [],
   "source": [
    "subgroups = ['frau1','nongerman','nongerman_male','nongerman_female']\n",
    "\n",
    "# Conditional coverage for subgroup==1\n",
    "cond_coverage = {\n",
    "    g: cp_groups_df.loc[cp_groups_df[g]==1, 'covered'].mean()\n",
    "    for g in subgroups\n",
    "}"
   ]
  },
  {
   "cell_type": "code",
   "execution_count": 69,
   "id": "1e348fb1-b9c3-45bc-ba23-f016827a7e0d",
   "metadata": {
    "execution": {
     "iopub.execute_input": "2025-07-30T21:26:39.818763Z",
     "iopub.status.busy": "2025-07-30T21:26:39.818125Z",
     "iopub.status.idle": "2025-07-30T21:26:39.825179Z",
     "shell.execute_reply": "2025-07-30T21:26:39.824203Z"
    },
    "papermill": {
     "duration": 0.034261,
     "end_time": "2025-07-30T21:26:39.826707",
     "exception": false,
     "start_time": "2025-07-30T21:26:39.792446",
     "status": "completed"
    },
    "tags": []
   },
   "outputs": [
    {
     "data": {
      "text/plain": [
       "{'frau1': 0.9055667879768163,\n",
       " 'nongerman': 0.9109077639925897,\n",
       " 'nongerman_male': 0.9280374673511663,\n",
       " 'nongerman_female': 0.8825633383010432}"
      ]
     },
     "execution_count": 69,
     "metadata": {},
     "output_type": "execute_result"
    }
   ],
   "source": [
    "cond_coverage"
   ]
  },
  {
   "cell_type": "code",
   "execution_count": 70,
   "id": "f5093324-c3dd-4d63-bc4c-8d945e5c8bbb",
   "metadata": {
    "execution": {
     "iopub.execute_input": "2025-07-30T21:26:39.881186Z",
     "iopub.status.busy": "2025-07-30T21:26:39.880479Z",
     "iopub.status.idle": "2025-07-30T21:26:39.888959Z",
     "shell.execute_reply": "2025-07-30T21:26:39.887964Z"
    },
    "papermill": {
     "duration": 0.038187,
     "end_time": "2025-07-30T21:26:39.890854",
     "exception": false,
     "start_time": "2025-07-30T21:26:39.852667",
     "status": "completed"
    },
    "tags": []
   },
   "outputs": [],
   "source": [
    "for subgroup, cov in cond_coverage.items():\n",
    "    cp_metrics_df[f\"cov_{subgroup}\"] = cov"
   ]
  },
  {
   "cell_type": "code",
   "execution_count": 71,
   "id": "6e872e10-dbe5-49e8-b554-5030c98ff75d",
   "metadata": {
    "execution": {
     "iopub.execute_input": "2025-07-30T21:26:39.943254Z",
     "iopub.status.busy": "2025-07-30T21:26:39.942779Z",
     "iopub.status.idle": "2025-07-30T21:26:39.960558Z",
     "shell.execute_reply": "2025-07-30T21:26:39.959610Z"
    },
    "papermill": {
     "duration": 0.044716,
     "end_time": "2025-07-30T21:26:39.962090",
     "exception": false,
     "start_time": "2025-07-30T21:26:39.917374",
     "status": "completed"
    },
    "tags": []
   },
   "outputs": [
    {
     "data": {
      "text/html": [
       "<div>\n",
       "<style scoped>\n",
       "    .dataframe tbody tr th:only-of-type {\n",
       "        vertical-align: middle;\n",
       "    }\n",
       "\n",
       "    .dataframe tbody tr th {\n",
       "        vertical-align: top;\n",
       "    }\n",
       "\n",
       "    .dataframe thead th {\n",
       "        text-align: right;\n",
       "    }\n",
       "</style>\n",
       "<table border=\"1\" class=\"dataframe\">\n",
       "  <thead>\n",
       "    <tr style=\"text-align: right;\">\n",
       "      <th></th>\n",
       "      <th>universe_id</th>\n",
       "      <th>universe_training_year</th>\n",
       "      <th>universe_training_size</th>\n",
       "      <th>universe_scale</th>\n",
       "      <th>universe_model</th>\n",
       "      <th>universe_exclude_features</th>\n",
       "      <th>universe_exclude_subgroups</th>\n",
       "      <th>q_hat</th>\n",
       "      <th>coverage</th>\n",
       "      <th>avg_size</th>\n",
       "      <th>cov_frau1</th>\n",
       "      <th>cov_nongerman</th>\n",
       "      <th>cov_nongerman_male</th>\n",
       "      <th>cov_nongerman_female</th>\n",
       "    </tr>\n",
       "  </thead>\n",
       "  <tbody>\n",
       "    <tr>\n",
       "      <th>0</th>\n",
       "      <td>85f72c5b51d869c95449ba0195fff4f1</td>\n",
       "      <td>2014</td>\n",
       "      <td>1k</td>\n",
       "      <td>scale</td>\n",
       "      <td>elasticnet</td>\n",
       "      <td>nationality</td>\n",
       "      <td>keep-all</td>\n",
       "      <td>0.789699</td>\n",
       "      <td>0.907257</td>\n",
       "      <td>1.232739</td>\n",
       "      <td>0.905567</td>\n",
       "      <td>0.910908</td>\n",
       "      <td>0.928037</td>\n",
       "      <td>0.882563</td>\n",
       "    </tr>\n",
       "  </tbody>\n",
       "</table>\n",
       "</div>"
      ],
      "text/plain": [
       "                        universe_id universe_training_year  \\\n",
       "0  85f72c5b51d869c95449ba0195fff4f1                   2014   \n",
       "\n",
       "  universe_training_size universe_scale universe_model  \\\n",
       "0                     1k          scale     elasticnet   \n",
       "\n",
       "  universe_exclude_features universe_exclude_subgroups     q_hat  coverage  \\\n",
       "0               nationality                   keep-all  0.789699  0.907257   \n",
       "\n",
       "   avg_size  cov_frau1  cov_nongerman  cov_nongerman_male  \\\n",
       "0  1.232739   0.905567       0.910908            0.928037   \n",
       "\n",
       "   cov_nongerman_female  \n",
       "0              0.882563  "
      ]
     },
     "execution_count": 71,
     "metadata": {},
     "output_type": "execute_result"
    }
   ],
   "source": [
    "cp_metrics_df"
   ]
  },
  {
   "cell_type": "markdown",
   "id": "33774451",
   "metadata": {
    "papermill": {
     "duration": 0.025127,
     "end_time": "2025-07-30T21:26:40.012185",
     "exception": false,
     "start_time": "2025-07-30T21:26:39.987058",
     "status": "completed"
    },
    "tags": []
   },
   "source": [
    "# (Fairness) Metrics"
   ]
  },
  {
   "cell_type": "code",
   "execution_count": 72,
   "id": "debc5d62",
   "metadata": {
    "execution": {
     "iopub.execute_input": "2025-07-30T21:26:40.063270Z",
     "iopub.status.busy": "2025-07-30T21:26:40.062451Z",
     "iopub.status.idle": "2025-07-30T21:26:40.085508Z",
     "shell.execute_reply": "2025-07-30T21:26:40.084569Z"
    },
    "papermill": {
     "duration": 0.050005,
     "end_time": "2025-07-30T21:26:40.087551",
     "exception": false,
     "start_time": "2025-07-30T21:26:40.037546",
     "status": "completed"
    },
    "tags": []
   },
   "outputs": [],
   "source": [
    "# do I need to include maxdeutsch1.missing?\n",
    "\n",
    "import numpy as np\n",
    "\n",
    "colname_to_bin = \"maxdeutsch1\"\n",
    "majority_value = org_train[colname_to_bin].mode()[0]\n",
    "\n",
    "org_test[\"majmin\"] = np.where(org_test[colname_to_bin] == majority_value, \"majority\", \"minority\")"
   ]
  },
  {
   "cell_type": "code",
   "execution_count": 73,
   "id": "06a50de5",
   "metadata": {
    "execution": {
     "iopub.execute_input": "2025-07-30T21:26:40.142906Z",
     "iopub.status.busy": "2025-07-30T21:26:40.142264Z",
     "iopub.status.idle": "2025-07-30T21:26:42.159473Z",
     "shell.execute_reply": "2025-07-30T21:26:42.158524Z"
    },
    "papermill": {
     "duration": 2.046887,
     "end_time": "2025-07-30T21:26:42.161493",
     "exception": false,
     "start_time": "2025-07-30T21:26:40.114606",
     "status": "completed"
    },
    "tags": []
   },
   "outputs": [],
   "source": [
    "example_universe = universe.copy()\n",
    "example_universe[\"cutoff\"] = example_universe[\"cutoff\"][0]\n",
    "example_universe[\"eval_fairness_grouping\"] = example_universe[\"eval_fairness_grouping\"][0]\n",
    "fairness_dict, metric_frame = universe_analysis.compute_metrics(\n",
    "    example_universe,\n",
    "    y_pred_prob=probs_test,\n",
    "    y_test=y_true,\n",
    "    org_test=org_test,\n",
    ")"
   ]
  },
  {
   "cell_type": "markdown",
   "id": "f95d4e02",
   "metadata": {
    "papermill": {
     "duration": 0.025367,
     "end_time": "2025-07-30T21:26:42.213931",
     "exception": false,
     "start_time": "2025-07-30T21:26:42.188564",
     "status": "completed"
    },
    "tags": []
   },
   "source": [
    "# Overall"
   ]
  },
  {
   "cell_type": "markdown",
   "id": "bdee4871",
   "metadata": {
    "papermill": {
     "duration": 0.025603,
     "end_time": "2025-07-30T21:26:42.264073",
     "exception": false,
     "start_time": "2025-07-30T21:26:42.238470",
     "status": "completed"
    },
    "tags": []
   },
   "source": [
    "Fairness\n",
    "Main fairness target: Equalized Odds. Seems to be a better fit than equal opportunity, since we're not only interested in Y = 1. Seems to be a better fit than demographic parity, since we also care about accuracy, not just equal distribution of preds.\n",
    "\n",
    "Pick column for computation of fairness metrics\n",
    "\n",
    "Performance\n",
    "Overall performance measures, most interesting in relation to the measures split by group below"
   ]
  },
  {
   "cell_type": "code",
   "execution_count": 74,
   "id": "c4e067c6",
   "metadata": {
    "execution": {
     "iopub.execute_input": "2025-07-30T21:26:42.341990Z",
     "iopub.status.busy": "2025-07-30T21:26:42.341487Z",
     "iopub.status.idle": "2025-07-30T21:26:42.352450Z",
     "shell.execute_reply": "2025-07-30T21:26:42.351309Z"
    },
    "papermill": {
     "duration": 0.059973,
     "end_time": "2025-07-30T21:26:42.354329",
     "exception": false,
     "start_time": "2025-07-30T21:26:42.294356",
     "status": "completed"
    },
    "tags": []
   },
   "outputs": [
    {
     "data": {
      "text/plain": [
       "accuracy                   0.218850\n",
       "balanced accuracy          0.536275\n",
       "f1                         0.240333\n",
       "precision                  0.137294\n",
       "false positive rate        0.890693\n",
       "false negative rate        0.036757\n",
       "selection rate             0.900000\n",
       "count                  89710.000000\n",
       "dtype: float64"
      ]
     },
     "execution_count": 74,
     "metadata": {},
     "output_type": "execute_result"
    }
   ],
   "source": [
    "metric_frame.overall"
   ]
  },
  {
   "cell_type": "markdown",
   "id": "e968fe9d",
   "metadata": {
    "papermill": {
     "duration": 0.029033,
     "end_time": "2025-07-30T21:26:42.412932",
     "exception": false,
     "start_time": "2025-07-30T21:26:42.383899",
     "status": "completed"
    },
    "tags": []
   },
   "source": [
    "By Group"
   ]
  },
  {
   "cell_type": "code",
   "execution_count": 75,
   "id": "ec325bce",
   "metadata": {
    "execution": {
     "iopub.execute_input": "2025-07-30T21:26:42.472289Z",
     "iopub.status.busy": "2025-07-30T21:26:42.471761Z",
     "iopub.status.idle": "2025-07-30T21:26:42.492248Z",
     "shell.execute_reply": "2025-07-30T21:26:42.491073Z"
    },
    "papermill": {
     "duration": 0.052832,
     "end_time": "2025-07-30T21:26:42.494441",
     "exception": false,
     "start_time": "2025-07-30T21:26:42.441609",
     "status": "completed"
    },
    "tags": []
   },
   "outputs": [
    {
     "data": {
      "text/html": [
       "<div>\n",
       "<style scoped>\n",
       "    .dataframe tbody tr th:only-of-type {\n",
       "        vertical-align: middle;\n",
       "    }\n",
       "\n",
       "    .dataframe tbody tr th {\n",
       "        vertical-align: top;\n",
       "    }\n",
       "\n",
       "    .dataframe thead th {\n",
       "        text-align: right;\n",
       "    }\n",
       "</style>\n",
       "<table border=\"1\" class=\"dataframe\">\n",
       "  <thead>\n",
       "    <tr style=\"text-align: right;\">\n",
       "      <th></th>\n",
       "      <th>accuracy</th>\n",
       "      <th>balanced accuracy</th>\n",
       "      <th>f1</th>\n",
       "      <th>precision</th>\n",
       "      <th>false positive rate</th>\n",
       "      <th>false negative rate</th>\n",
       "      <th>selection rate</th>\n",
       "      <th>count</th>\n",
       "    </tr>\n",
       "    <tr>\n",
       "      <th>majmin</th>\n",
       "      <th></th>\n",
       "      <th></th>\n",
       "      <th></th>\n",
       "      <th></th>\n",
       "      <th></th>\n",
       "      <th></th>\n",
       "      <th></th>\n",
       "      <th></th>\n",
       "    </tr>\n",
       "  </thead>\n",
       "  <tbody>\n",
       "    <tr>\n",
       "      <th>majority</th>\n",
       "      <td>0.236432</td>\n",
       "      <td>0.543020</td>\n",
       "      <td>0.249346</td>\n",
       "      <td>0.143287</td>\n",
       "      <td>0.873696</td>\n",
       "      <td>0.040263</td>\n",
       "      <td>0.885066</td>\n",
       "      <td>69170.0</td>\n",
       "    </tr>\n",
       "    <tr>\n",
       "      <th>minority</th>\n",
       "      <td>0.159640</td>\n",
       "      <td>0.514966</td>\n",
       "      <td>0.211358</td>\n",
       "      <td>0.118500</td>\n",
       "      <td>0.946841</td>\n",
       "      <td>0.023226</td>\n",
       "      <td>0.950292</td>\n",
       "      <td>20540.0</td>\n",
       "    </tr>\n",
       "  </tbody>\n",
       "</table>\n",
       "</div>"
      ],
      "text/plain": [
       "          accuracy  balanced accuracy        f1  precision  \\\n",
       "majmin                                                       \n",
       "majority  0.236432           0.543020  0.249346   0.143287   \n",
       "minority  0.159640           0.514966  0.211358   0.118500   \n",
       "\n",
       "          false positive rate  false negative rate  selection rate    count  \n",
       "majmin                                                                       \n",
       "majority             0.873696             0.040263        0.885066  69170.0  \n",
       "minority             0.946841             0.023226        0.950292  20540.0  "
      ]
     },
     "execution_count": 75,
     "metadata": {},
     "output_type": "execute_result"
    }
   ],
   "source": [
    "metric_frame.by_group"
   ]
  },
  {
   "cell_type": "code",
   "execution_count": 76,
   "id": "a9ddbe63",
   "metadata": {
    "execution": {
     "iopub.execute_input": "2025-07-30T21:26:42.557501Z",
     "iopub.status.busy": "2025-07-30T21:26:42.557102Z",
     "iopub.status.idle": "2025-07-30T21:26:44.777746Z",
     "shell.execute_reply": "2025-07-30T21:26:44.776949Z"
    },
    "papermill": {
     "duration": 2.253627,
     "end_time": "2025-07-30T21:26:44.779002",
     "exception": false,
     "start_time": "2025-07-30T21:26:42.525375",
     "status": "completed"
    },
    "tags": []
   },
   "outputs": [
    {
     "data": {
      "text/plain": [
       "array([[<Axes: title={'center': 'accuracy'}, xlabel='majmin'>,\n",
       "        <Axes: title={'center': 'balanced accuracy'}, xlabel='majmin'>,\n",
       "        <Axes: title={'center': 'f1'}, xlabel='majmin'>],\n",
       "       [<Axes: title={'center': 'precision'}, xlabel='majmin'>,\n",
       "        <Axes: title={'center': 'false positive rate'}, xlabel='majmin'>,\n",
       "        <Axes: title={'center': 'false negative rate'}, xlabel='majmin'>],\n",
       "       [<Axes: title={'center': 'selection rate'}, xlabel='majmin'>,\n",
       "        <Axes: title={'center': 'count'}, xlabel='majmin'>,\n",
       "        <Axes: xlabel='majmin'>]], dtype=object)"
      ]
     },
     "execution_count": 76,
     "metadata": {},
     "output_type": "execute_result"
    },
    {
     "data": {
      "image/png": "[encoded data removed]",
      "text/plain": [
       "<Figure size 1200x800 with 9 Axes>"
      ]
     },
     "metadata": {},
     "output_type": "display_data"
    }
   ],
   "source": [
    "# In a graphic\n",
    "metric_frame.by_group.plot.bar(\n",
    "    subplots=True,\n",
    "    layout=[3, 3],\n",
    "    legend=False,\n",
    "    figsize=[12, 8],\n",
    "    title=\"Show all metrics\",\n",
    ")"
   ]
  },
  {
   "cell_type": "markdown",
   "id": "f57a0bac",
   "metadata": {
    "papermill": {
     "duration": 0.01596,
     "end_time": "2025-07-30T21:26:44.813415",
     "exception": false,
     "start_time": "2025-07-30T21:26:44.797455",
     "status": "completed"
    },
    "tags": []
   },
   "source": [
    "# Final Output"
   ]
  },
  {
   "cell_type": "code",
   "execution_count": 77,
   "id": "96d280a3",
   "metadata": {
    "execution": {
     "iopub.execute_input": "2025-07-30T21:26:44.846157Z",
     "iopub.status.busy": "2025-07-30T21:26:44.845455Z",
     "iopub.status.idle": "2025-07-30T21:26:44.853609Z",
     "shell.execute_reply": "2025-07-30T21:26:44.852495Z"
    },
    "papermill": {
     "duration": 0.026827,
     "end_time": "2025-07-30T21:26:44.855469",
     "exception": false,
     "start_time": "2025-07-30T21:26:44.828642",
     "status": "completed"
    },
    "tags": []
   },
   "outputs": [
    {
     "data": {
      "text/plain": [
       "4"
      ]
     },
     "execution_count": 77,
     "metadata": {},
     "output_type": "execute_result"
    }
   ],
   "source": [
    "sub_universes = universe_analysis.generate_sub_universes()\n",
    "len(sub_universes)"
   ]
  },
  {
   "cell_type": "code",
   "execution_count": 78,
   "id": "92adf7ba",
   "metadata": {
    "execution": {
     "iopub.execute_input": "2025-07-30T21:26:44.908981Z",
     "iopub.status.busy": "2025-07-30T21:26:44.908506Z",
     "iopub.status.idle": "2025-07-30T21:26:44.914808Z",
     "shell.execute_reply": "2025-07-30T21:26:44.913773Z"
    },
    "papermill": {
     "duration": 0.034792,
     "end_time": "2025-07-30T21:26:44.916259",
     "exception": false,
     "start_time": "2025-07-30T21:26:44.881467",
     "status": "completed"
    },
    "tags": []
   },
   "outputs": [],
   "source": [
    "def filter_sub_universe_data(sub_universe, org_test):\n",
    "    # Keep all rows — no filtering\n",
    "    keep_rows_mask = np.ones(org_test.shape[0], dtype=bool)\n",
    "\n",
    "    print(f\"[INFO] Keeping all rows: {keep_rows_mask.sum()} rows retained.\")\n",
    "    return keep_rows_mask"
   ]
  },
  {
   "cell_type": "code",
   "execution_count": 79,
   "id": "4a759155",
   "metadata": {
    "execution": {
     "iopub.execute_input": "2025-07-30T21:26:44.979886Z",
     "iopub.status.busy": "2025-07-30T21:26:44.979402Z",
     "iopub.status.idle": "2025-07-30T21:26:53.540836Z",
     "shell.execute_reply": "2025-07-30T21:26:53.539878Z"
    },
    "papermill": {
     "duration": 8.596201,
     "end_time": "2025-07-30T21:26:53.542564",
     "exception": false,
     "start_time": "2025-07-30T21:26:44.946363",
     "status": "completed"
    },
    "tags": []
   },
   "outputs": [
    {
     "name": "stdout",
     "output_type": "stream",
     "text": [
      "Stopping execution_time clock.\n",
      "[INFO] Keeping all rows: 89710 rows retained.\n"
     ]
    },
    {
     "name": "stdout",
     "output_type": "stream",
     "text": [
      "[INFO] Keeping all rows: 89710 rows retained.\n"
     ]
    },
    {
     "name": "stdout",
     "output_type": "stream",
     "text": [
      "[INFO] Keeping all rows: 89710 rows retained.\n"
     ]
    },
    {
     "name": "stdout",
     "output_type": "stream",
     "text": [
      "[INFO] Keeping all rows: 89710 rows retained.\n"
     ]
    },
    {
     "data": {
      "text/html": [
       "<div>\n",
       "<style scoped>\n",
       "    .dataframe tbody tr th:only-of-type {\n",
       "        vertical-align: middle;\n",
       "    }\n",
       "\n",
       "    .dataframe tbody tr th {\n",
       "        vertical-align: top;\n",
       "    }\n",
       "\n",
       "    .dataframe thead th {\n",
       "        text-align: right;\n",
       "    }\n",
       "</style>\n",
       "<table border=\"1\" class=\"dataframe\">\n",
       "  <thead>\n",
       "    <tr style=\"text-align: right;\">\n",
       "      <th></th>\n",
       "      <th>run_no</th>\n",
       "      <th>universe_id</th>\n",
       "      <th>universe_settings</th>\n",
       "      <th>execution_time</th>\n",
       "      <th>test_size_n</th>\n",
       "      <th>test_size_frac</th>\n",
       "      <th>fair_main_equalized_odds_difference</th>\n",
       "      <th>fair_main_equalized_odds_ratio</th>\n",
       "      <th>fair_main_demographic_parity_difference</th>\n",
       "      <th>fair_main_demographic_parity_ratio</th>\n",
       "      <th>...</th>\n",
       "      <th>perf_grp_precision_0</th>\n",
       "      <th>perf_grp_precision_1</th>\n",
       "      <th>perf_grp_false positive rate_0</th>\n",
       "      <th>perf_grp_false positive rate_1</th>\n",
       "      <th>perf_grp_false negative rate_0</th>\n",
       "      <th>perf_grp_false negative rate_1</th>\n",
       "      <th>perf_grp_selection rate_0</th>\n",
       "      <th>perf_grp_selection rate_1</th>\n",
       "      <th>perf_grp_count_0</th>\n",
       "      <th>perf_grp_count_1</th>\n",
       "    </tr>\n",
       "  </thead>\n",
       "  <tbody>\n",
       "    <tr>\n",
       "      <th>0</th>\n",
       "      <td>14</td>\n",
       "      <td>85f72c5b51d869c95449ba0195fff4f1</td>\n",
       "      <td>{\"cutoff\": \"quantile_0.1\", \"eval_fairness_grou...</td>\n",
       "      <td>28.544258</td>\n",
       "      <td>89710</td>\n",
       "      <td>1.0</td>\n",
       "      <td>0.073145</td>\n",
       "      <td>0.922749</td>\n",
       "      <td>0.065226</td>\n",
       "      <td>0.931362</td>\n",
       "      <td>...</td>\n",
       "      <td>NaN</td>\n",
       "      <td>NaN</td>\n",
       "      <td>NaN</td>\n",
       "      <td>NaN</td>\n",
       "      <td>NaN</td>\n",
       "      <td>NaN</td>\n",
       "      <td>NaN</td>\n",
       "      <td>NaN</td>\n",
       "      <td>NaN</td>\n",
       "      <td>NaN</td>\n",
       "    </tr>\n",
       "    <tr>\n",
       "      <th>0</th>\n",
       "      <td>14</td>\n",
       "      <td>85f72c5b51d869c95449ba0195fff4f1</td>\n",
       "      <td>{\"cutoff\": \"quantile_0.1\", \"eval_fairness_grou...</td>\n",
       "      <td>28.544258</td>\n",
       "      <td>89710</td>\n",
       "      <td>1.0</td>\n",
       "      <td>0.073145</td>\n",
       "      <td>0.922749</td>\n",
       "      <td>0.065226</td>\n",
       "      <td>0.931362</td>\n",
       "      <td>...</td>\n",
       "      <td>0.118500</td>\n",
       "      <td>0.143287</td>\n",
       "      <td>0.946841</td>\n",
       "      <td>0.873696</td>\n",
       "      <td>0.023226</td>\n",
       "      <td>0.040263</td>\n",
       "      <td>0.950292</td>\n",
       "      <td>0.885066</td>\n",
       "      <td>20540.0</td>\n",
       "      <td>69170.0</td>\n",
       "    </tr>\n",
       "    <tr>\n",
       "      <th>0</th>\n",
       "      <td>14</td>\n",
       "      <td>85f72c5b51d869c95449ba0195fff4f1</td>\n",
       "      <td>{\"cutoff\": \"quantile_0.25\", \"eval_fairness_gro...</td>\n",
       "      <td>28.544258</td>\n",
       "      <td>89710</td>\n",
       "      <td>1.0</td>\n",
       "      <td>0.079800</td>\n",
       "      <td>0.899157</td>\n",
       "      <td>0.068896</td>\n",
       "      <td>0.914214</td>\n",
       "      <td>...</td>\n",
       "      <td>NaN</td>\n",
       "      <td>NaN</td>\n",
       "      <td>NaN</td>\n",
       "      <td>NaN</td>\n",
       "      <td>NaN</td>\n",
       "      <td>NaN</td>\n",
       "      <td>NaN</td>\n",
       "      <td>NaN</td>\n",
       "      <td>NaN</td>\n",
       "      <td>NaN</td>\n",
       "    </tr>\n",
       "    <tr>\n",
       "      <th>0</th>\n",
       "      <td>14</td>\n",
       "      <td>85f72c5b51d869c95449ba0195fff4f1</td>\n",
       "      <td>{\"cutoff\": \"quantile_0.25\", \"eval_fairness_gro...</td>\n",
       "      <td>28.544258</td>\n",
       "      <td>89710</td>\n",
       "      <td>1.0</td>\n",
       "      <td>0.079800</td>\n",
       "      <td>0.899157</td>\n",
       "      <td>0.068896</td>\n",
       "      <td>0.914214</td>\n",
       "      <td>...</td>\n",
       "      <td>0.128274</td>\n",
       "      <td>0.158961</td>\n",
       "      <td>0.791327</td>\n",
       "      <td>0.711528</td>\n",
       "      <td>0.106419</td>\n",
       "      <td>0.116740</td>\n",
       "      <td>0.803116</td>\n",
       "      <td>0.734220</td>\n",
       "      <td>20540.0</td>\n",
       "      <td>69170.0</td>\n",
       "    </tr>\n",
       "  </tbody>\n",
       "</table>\n",
       "<p>4 rows × 50 columns</p>\n",
       "</div>"
      ],
      "text/plain": [
       "  run_no                       universe_id  \\\n",
       "0     14  85f72c5b51d869c95449ba0195fff4f1   \n",
       "0     14  85f72c5b51d869c95449ba0195fff4f1   \n",
       "0     14  85f72c5b51d869c95449ba0195fff4f1   \n",
       "0     14  85f72c5b51d869c95449ba0195fff4f1   \n",
       "\n",
       "                                   universe_settings  execution_time  \\\n",
       "0  {\"cutoff\": \"quantile_0.1\", \"eval_fairness_grou...       28.544258   \n",
       "0  {\"cutoff\": \"quantile_0.1\", \"eval_fairness_grou...       28.544258   \n",
       "0  {\"cutoff\": \"quantile_0.25\", \"eval_fairness_gro...       28.544258   \n",
       "0  {\"cutoff\": \"quantile_0.25\", \"eval_fairness_gro...       28.544258   \n",
       "\n",
       "   test_size_n  test_size_frac  fair_main_equalized_odds_difference  \\\n",
       "0        89710             1.0                             0.073145   \n",
       "0        89710             1.0                             0.073145   \n",
       "0        89710             1.0                             0.079800   \n",
       "0        89710             1.0                             0.079800   \n",
       "\n",
       "   fair_main_equalized_odds_ratio  fair_main_demographic_parity_difference  \\\n",
       "0                        0.922749                                 0.065226   \n",
       "0                        0.922749                                 0.065226   \n",
       "0                        0.899157                                 0.068896   \n",
       "0                        0.899157                                 0.068896   \n",
       "\n",
       "   fair_main_demographic_parity_ratio  ...  perf_grp_precision_0  \\\n",
       "0                            0.931362  ...                   NaN   \n",
       "0                            0.931362  ...              0.118500   \n",
       "0                            0.914214  ...                   NaN   \n",
       "0                            0.914214  ...              0.128274   \n",
       "\n",
       "   perf_grp_precision_1  perf_grp_false positive rate_0  \\\n",
       "0                   NaN                             NaN   \n",
       "0              0.143287                        0.946841   \n",
       "0                   NaN                             NaN   \n",
       "0              0.158961                        0.791327   \n",
       "\n",
       "   perf_grp_false positive rate_1  perf_grp_false negative rate_0  \\\n",
       "0                             NaN                             NaN   \n",
       "0                        0.873696                        0.023226   \n",
       "0                             NaN                             NaN   \n",
       "0                        0.711528                        0.106419   \n",
       "\n",
       "   perf_grp_false negative rate_1  perf_grp_selection rate_0  \\\n",
       "0                             NaN                        NaN   \n",
       "0                        0.040263                   0.950292   \n",
       "0                             NaN                        NaN   \n",
       "0                        0.116740                   0.803116   \n",
       "\n",
       "   perf_grp_selection rate_1  perf_grp_count_0  perf_grp_count_1  \n",
       "0                        NaN               NaN               NaN  \n",
       "0                   0.885066           20540.0           69170.0  \n",
       "0                        NaN               NaN               NaN  \n",
       "0                   0.734220           20540.0           69170.0  \n",
       "\n",
       "[4 rows x 50 columns]"
      ]
     },
     "execution_count": 79,
     "metadata": {},
     "output_type": "execute_result"
    }
   ],
   "source": [
    "final_output = universe_analysis.generate_final_output(\n",
    "    y_pred_prob=probs_test,\n",
    "    y_test=y_true,\n",
    "    org_test=org_test,\n",
    "    filter_data=filter_sub_universe_data,\n",
    "    cp_metrics_df=cp_metrics_df,\n",
    "    save=True,\n",
    ")\n",
    "final_output"
   ]
  },
  {
   "cell_type": "code",
   "execution_count": null,
   "id": "721ff514-cb11-46f8-b6fc-50392f74b5cb",
   "metadata": {
    "papermill": {
     "duration": 0.030326,
     "end_time": "2025-07-30T21:26:53.606062",
     "exception": false,
     "start_time": "2025-07-30T21:26:53.575736",
     "status": "completed"
    },
    "tags": []
   },
   "outputs": [],
   "source": []
  }
 ],
 "metadata": {
  "celltoolbar": "Tags",
  "kernelspec": {
   "display_name": "Python (CMA Fairness)",
   "language": "python",
   "name": "cma_fair_env"
  },
  "language_info": {
   "codemirror_mode": {
    "name": "ipython",
    "version": 3
   },
   "file_extension": ".py",
   "mimetype": "text/x-python",
   "name": "python",
   "nbconvert_exporter": "python",
   "pygments_lexer": "ipython3",
   "version": "3.10.12"
  },
  "papermill": {
   "default_parameters": {},
   "duration": 41.437008,
   "end_time": "2025-07-30T21:26:54.356224",
   "environment_variables": {},
   "exception": null,
   "input_path": "universe_analysis.ipynb",
   "output_path": "output/runs/14/notebooks/m_14-85f72c5b51d869c95449ba0195fff4f1.ipynb",
   "parameters": {
    "output_dir": "output",
    "run_no": "14",
    "seed": "2023",
    "universe": "{\"cutoff\": [\"quantile_0.1\", \"quantile_0.25\"], \"eval_fairness_grouping\": [\"majority-minority\", \"nationality-all\"], \"exclude_features\": \"nationality\", \"exclude_subgroups\": \"keep-all\", \"model\": \"elasticnet\", \"scale\": \"scale\", \"training_size\": \"1k\", \"training_year\": \"2014\"}",
    "universe_id": "85f72c5b51d869c95449ba0195fff4f1"
   },
   "start_time": "2025-07-30T21:26:12.919216",
   "version": "2.6.0"
  }
 },
 "nbformat": 4,
 "nbformat_minor": 5
}