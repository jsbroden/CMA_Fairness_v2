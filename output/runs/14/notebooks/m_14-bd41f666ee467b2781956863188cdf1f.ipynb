{
 "cells": [
  {
   "cell_type": "code",
   "execution_count": 1,
   "id": "f159f837-637b-42ba-96b5-ec9a68c44524",
   "metadata": {
    "execution": {
     "iopub.execute_input": "2025-07-30T21:45:41.442416Z",
     "iopub.status.busy": "2025-07-30T21:45:41.441953Z",
     "iopub.status.idle": "2025-07-30T21:45:41.455321Z",
     "shell.execute_reply": "2025-07-30T21:45:41.454450Z"
    },
    "papermill": {
     "duration": 0.037369,
     "end_time": "2025-07-30T21:45:41.457307",
     "exception": false,
     "start_time": "2025-07-30T21:45:41.419938",
     "status": "completed"
    },
    "tags": []
   },
   "outputs": [
    {
     "name": "stdout",
     "output_type": "stream",
     "text": [
      "/dss/dsshome1/0C/ra93lal2/cma/CMA_Fairness_v2\n"
     ]
    },
    {
     "name": "stderr",
     "output_type": "stream",
     "text": [
      "/dss/dsshome1/0C/ra93lal2/.local/share/virtualenvs/CMA_Fairness_v2-3j10GkSs/lib/python3.10/site-packages/IPython/core/magics/osm.py:393: UserWarning: This is now an optional IPython functionality, using bookmarks requires you to install the `pickleshare` library.\n",
      "  bkms = self.shell.db.get('bookmarks', {})\n",
      "/dss/dsshome1/0C/ra93lal2/.local/share/virtualenvs/CMA_Fairness_v2-3j10GkSs/lib/python3.10/site-packages/IPython/core/magics/osm.py:417: UserWarning: This is now an optional IPython functionality, setting dhist requires you to install the `pickleshare` library.\n",
      "  self.shell.db['dhist'] = compress_dhist(dhist)[-100:]\n"
     ]
    }
   ],
   "source": [
    "%cd ~/cma/CMA_Fairness_v2"
   ]
  },
  {
   "cell_type": "markdown",
   "id": "de2603b9",
   "metadata": {
    "papermill": {
     "duration": 0.019968,
     "end_time": "2025-07-30T21:45:41.497500",
     "exception": false,
     "start_time": "2025-07-30T21:45:41.477532",
     "status": "completed"
    },
    "tags": []
   },
   "source": [
    "The following cell holds the definition of our parameters, these values can be overriden by rendering the with e.g. the following command:\n",
    "\n",
    "papermill -p alpha 0.2 -p ratio 0.3 universe_analysis.ipynb output/test_run.ipynb"
   ]
  },
  {
   "cell_type": "code",
   "execution_count": 2,
   "id": "a80968a0-40bb-4fa9-85ef-2d5eefb01975",
   "metadata": {
    "execution": {
     "iopub.execute_input": "2025-07-30T21:45:41.538895Z",
     "iopub.status.busy": "2025-07-30T21:45:41.537966Z",
     "iopub.status.idle": "2025-07-30T21:45:41.543967Z",
     "shell.execute_reply": "2025-07-30T21:45:41.542993Z"
    },
    "papermill": {
     "duration": 0.027902,
     "end_time": "2025-07-30T21:45:41.545632",
     "exception": false,
     "start_time": "2025-07-30T21:45:41.517730",
     "status": "completed"
    },
    "tags": []
   },
   "outputs": [
    {
     "name": "stdout",
     "output_type": "stream",
     "text": [
      "Current working directory: /dss/dsshome1/0C/ra93lal2/cma/CMA_Fairness_v2\n"
     ]
    }
   ],
   "source": [
    "import os\n",
    "print(\"Current working directory:\", os.getcwd())"
   ]
  },
  {
   "cell_type": "code",
   "execution_count": 3,
   "id": "2dce4c03",
   "metadata": {
    "execution": {
     "iopub.execute_input": "2025-07-30T21:45:41.587859Z",
     "iopub.status.busy": "2025-07-30T21:45:41.587289Z",
     "iopub.status.idle": "2025-07-30T21:45:41.593722Z",
     "shell.execute_reply": "2025-07-30T21:45:41.592646Z"
    },
    "papermill": {
     "duration": 0.029034,
     "end_time": "2025-07-30T21:45:41.595368",
     "exception": false,
     "start_time": "2025-07-30T21:45:41.566334",
     "status": "completed"
    },
    "tags": [
     "parameters"
    ]
   },
   "outputs": [],
   "source": [
    "run_no = 0\n",
    "universe_id = \"test\"\n",
    "universe = {\n",
    "    \"training_size\": \"25k\", # \"25k\", \"5k\", \"1k\"\n",
    "    \"training_year\": \"2014\", # \"2014\", \"2012_14\", \"2010_14\"\n",
    "    \"scale\": \"scale\", # \"scale\", \"do-not-scale\",\n",
    "    #\"stratify_split\": \"target\", # \"none\", \"target\", \"protected-attribute\", \"both\",\n",
    "    \"model\": \"elasticnet\", # \"logreg\", \"penalized_logreg\", \"rf\", \"gbm\", \"elasticnet\"\n",
    "    \"cutoff\": [\"quantile_0.15\", \"quantile_0.30\"],\n",
    "    \"exclude_features\": \"age\", # \"none\", \"nationality\", \"sex\", \"nationality-sex\", \"age\"\n",
    "    \"exclude_subgroups\": \"keep-all\", # \"keep-all\", \"drop-non-german\"\n",
    "    \"eval_fairness_grouping\": [\"majority-minority\", \"nationality-all\"]\n",
    "}\n",
    "\n",
    "output_dir=\"./output\"\n",
    "seed=0"
   ]
  },
  {
   "cell_type": "code",
   "execution_count": 4,
   "id": "6f13e804",
   "metadata": {
    "execution": {
     "iopub.execute_input": "2025-07-30T21:45:41.638572Z",
     "iopub.status.busy": "2025-07-30T21:45:41.637670Z",
     "iopub.status.idle": "2025-07-30T21:45:41.643447Z",
     "shell.execute_reply": "2025-07-30T21:45:41.642520Z"
    },
    "papermill": {
     "duration": 0.028719,
     "end_time": "2025-07-30T21:45:41.645052",
     "exception": false,
     "start_time": "2025-07-30T21:45:41.616333",
     "status": "completed"
    },
    "tags": [
     "injected-parameters"
    ]
   },
   "outputs": [],
   "source": [
    "# Parameters\n",
    "universe_id = \"bd41f666ee467b2781956863188cdf1f\"\n",
    "run_no = \"14\"\n",
    "universe = \"{\\\"cutoff\\\": [\\\"quantile_0.1\\\", \\\"quantile_0.25\\\"], \\\"eval_fairness_grouping\\\": [\\\"majority-minority\\\", \\\"nationality-all\\\"], \\\"exclude_features\\\": \\\"sex\\\", \\\"exclude_subgroups\\\": \\\"drop-non-german\\\", \\\"model\\\": \\\"rf\\\", \\\"scale\\\": \\\"scale\\\", \\\"training_size\\\": \\\"1k\\\", \\\"training_year\\\": \\\"2010_14\\\"}\"\n",
    "output_dir = \"output\"\n",
    "seed = \"2023\"\n"
   ]
  },
  {
   "cell_type": "code",
   "execution_count": 5,
   "id": "1650acaf",
   "metadata": {
    "execution": {
     "iopub.execute_input": "2025-07-30T21:45:41.687125Z",
     "iopub.status.busy": "2025-07-30T21:45:41.686227Z",
     "iopub.status.idle": "2025-07-30T21:45:41.691972Z",
     "shell.execute_reply": "2025-07-30T21:45:41.690953Z"
    },
    "papermill": {
     "duration": 0.028425,
     "end_time": "2025-07-30T21:45:41.693576",
     "exception": false,
     "start_time": "2025-07-30T21:45:41.665151",
     "status": "completed"
    },
    "tags": []
   },
   "outputs": [],
   "source": [
    "import json\n",
    "# Parse universe into dict if it is passed as a string\n",
    "if isinstance(universe, str):\n",
    "    universe = json.loads(universe)"
   ]
  },
  {
   "cell_type": "code",
   "execution_count": 6,
   "id": "16620c48",
   "metadata": {
    "execution": {
     "iopub.execute_input": "2025-07-30T21:45:41.736386Z",
     "iopub.status.busy": "2025-07-30T21:45:41.735335Z",
     "iopub.status.idle": "2025-07-30T21:45:41.779936Z",
     "shell.execute_reply": "2025-07-30T21:45:41.778981Z"
    },
    "papermill": {
     "duration": 0.067243,
     "end_time": "2025-07-30T21:45:41.781819",
     "exception": false,
     "start_time": "2025-07-30T21:45:41.714576",
     "status": "completed"
    },
    "tags": []
   },
   "outputs": [],
   "source": [
    "# Auto-reload the custom package\n",
    "%load_ext autoreload\n",
    "%autoreload 1\n",
    "%aimport fairness_multiverse"
   ]
  },
  {
   "cell_type": "code",
   "execution_count": 7,
   "id": "01c5c9f3",
   "metadata": {
    "execution": {
     "iopub.execute_input": "2025-07-30T21:45:41.824259Z",
     "iopub.status.busy": "2025-07-30T21:45:41.823288Z",
     "iopub.status.idle": "2025-07-30T21:45:43.801173Z",
     "shell.execute_reply": "2025-07-30T21:45:43.800001Z"
    },
    "papermill": {
     "duration": 2.001547,
     "end_time": "2025-07-30T21:45:43.803489",
     "exception": false,
     "start_time": "2025-07-30T21:45:41.801942",
     "status": "completed"
    },
    "tags": []
   },
   "outputs": [],
   "source": [
    "from fairness_multiverse.universe import UniverseAnalysis\n",
    "\n",
    "universe_analysis = UniverseAnalysis(\n",
    "    run_no = run_no,\n",
    "    universe_id = universe_id,\n",
    "    universe = universe,\n",
    "    output_dir=output_dir,\n",
    ")"
   ]
  },
  {
   "cell_type": "code",
   "execution_count": 8,
   "id": "106241f5",
   "metadata": {
    "execution": {
     "iopub.execute_input": "2025-07-30T21:45:43.855836Z",
     "iopub.status.busy": "2025-07-30T21:45:43.854826Z",
     "iopub.status.idle": "2025-07-30T21:45:43.862537Z",
     "shell.execute_reply": "2025-07-30T21:45:43.861473Z"
    },
    "papermill": {
     "duration": 0.03653,
     "end_time": "2025-07-30T21:45:43.864398",
     "exception": false,
     "start_time": "2025-07-30T21:45:43.827868",
     "status": "completed"
    },
    "tags": []
   },
   "outputs": [
    {
     "name": "stdout",
     "output_type": "stream",
     "text": [
      "Using Seed: 2023\n"
     ]
    }
   ],
   "source": [
    "import numpy as np\n",
    "parsed_seed = int(seed)\n",
    "np.random.seed(parsed_seed)\n",
    "print(f\"Using Seed: {parsed_seed}\")"
   ]
  },
  {
   "cell_type": "markdown",
   "id": "e0ebdc57",
   "metadata": {
    "papermill": {
     "duration": 0.021432,
     "end_time": "2025-07-30T21:45:43.906395",
     "exception": false,
     "start_time": "2025-07-30T21:45:43.884963",
     "status": "completed"
    },
    "tags": []
   },
   "source": [
    "# Loading Data"
   ]
  },
  {
   "cell_type": "markdown",
   "id": "681925a3",
   "metadata": {
    "papermill": {
     "duration": 0.020631,
     "end_time": "2025-07-30T21:45:43.948418",
     "exception": false,
     "start_time": "2025-07-30T21:45:43.927787",
     "status": "completed"
    },
    "tags": []
   },
   "source": [
    "Load siab_train, siab_test, siab_calib and/or \n",
    "load siab_train_features, siab_train_labels"
   ]
  },
  {
   "cell_type": "code",
   "execution_count": 9,
   "id": "f0496b8a",
   "metadata": {
    "execution": {
     "iopub.execute_input": "2025-07-30T21:45:43.993008Z",
     "iopub.status.busy": "2025-07-30T21:45:43.991973Z",
     "iopub.status.idle": "2025-07-30T21:45:58.228272Z",
     "shell.execute_reply": "2025-07-30T21:45:58.226975Z"
    },
    "papermill": {
     "duration": 14.260797,
     "end_time": "2025-07-30T21:45:58.230125",
     "exception": false,
     "start_time": "2025-07-30T21:45:43.969328",
     "status": "completed"
    },
    "tags": []
   },
   "outputs": [
    {
     "name": "stdout",
     "output_type": "stream",
     "text": [
      "Loading SIAB data from cache: data/siab_cached.csv.gz\n"
     ]
    },
    {
     "name": "stdout",
     "output_type": "stream",
     "text": [
      "(643690, 164)\n"
     ]
    }
   ],
   "source": [
    "from pathlib import Path\n",
    "import pandas as pd\n",
    "\n",
    "# File paths\n",
    "raw_file = Path(\"data/raw/siab.csv\")\n",
    "cache_file = Path(\"data/siab_cached.csv.gz\")\n",
    "\n",
    "# Ensure cache directory exists\n",
    "cache_file.parent.mkdir(parents=True, exist_ok=True)\n",
    "\n",
    "# Load with simple caching\n",
    "if cache_file.exists():\n",
    "    print(f\"Loading SIAB data from cache: {cache_file}\")\n",
    "    siab = pd.read_csv(cache_file, compression='gzip')\n",
    "else:\n",
    "    print(f\"Cache not found. Reading raw SIAB data: {raw_file}\")\n",
    "    siab = pd.read_csv(raw_file)\n",
    "    siab.to_csv(cache_file, index=False, compression='gzip')\n",
    "    print(f\"Cached SIAB data to: {cache_file}\")\n",
    "\n",
    "# Now use `siab` DataFrame as needed\n",
    "print(siab.shape)"
   ]
  },
  {
   "cell_type": "code",
   "execution_count": 10,
   "id": "db0ca512-5f53-4dba-abdb-a2888bca41ba",
   "metadata": {
    "execution": {
     "iopub.execute_input": "2025-07-30T21:45:58.285510Z",
     "iopub.status.busy": "2025-07-30T21:45:58.285148Z",
     "iopub.status.idle": "2025-07-30T21:45:58.291400Z",
     "shell.execute_reply": "2025-07-30T21:45:58.290337Z"
    },
    "papermill": {
     "duration": 0.026627,
     "end_time": "2025-07-30T21:45:58.299137",
     "exception": false,
     "start_time": "2025-07-30T21:45:58.272510",
     "status": "completed"
    },
    "tags": []
   },
   "outputs": [],
   "source": [
    "#siab"
   ]
  },
  {
   "cell_type": "code",
   "execution_count": 11,
   "id": "a0edb063",
   "metadata": {
    "execution": {
     "iopub.execute_input": "2025-07-30T21:45:58.346407Z",
     "iopub.status.busy": "2025-07-30T21:45:58.345445Z",
     "iopub.status.idle": "2025-07-30T21:45:58.357147Z",
     "shell.execute_reply": "2025-07-30T21:45:58.355901Z"
    },
    "papermill": {
     "duration": 0.037165,
     "end_time": "2025-07-30T21:45:58.359033",
     "exception": false,
     "start_time": "2025-07-30T21:45:58.321868",
     "status": "completed"
    },
    "tags": []
   },
   "outputs": [],
   "source": [
    "#import pandas as pd\n",
    "#\n",
    "#X_train = pd.read_csv(\"./data/X_train.csv\")\n",
    "#y_train = pd.read_csv(\"./data/y_train.csv\")"
   ]
  },
  {
   "cell_type": "code",
   "execution_count": 12,
   "id": "63d08085",
   "metadata": {
    "execution": {
     "iopub.execute_input": "2025-07-30T21:45:58.385272Z",
     "iopub.status.busy": "2025-07-30T21:45:58.384919Z",
     "iopub.status.idle": "2025-07-30T21:45:58.388903Z",
     "shell.execute_reply": "2025-07-30T21:45:58.388234Z"
    },
    "papermill": {
     "duration": 0.018338,
     "end_time": "2025-07-30T21:45:58.390148",
     "exception": false,
     "start_time": "2025-07-30T21:45:58.371810",
     "status": "completed"
    },
    "tags": []
   },
   "outputs": [],
   "source": [
    "#X_test = pd.read_csv(\"./data/X_test.csv\")\n",
    "#y_true = pd.read_csv(\"./data/y_test.csv\")"
   ]
  },
  {
   "cell_type": "code",
   "execution_count": 13,
   "id": "98a8d0fa-1d3d-4ed8-bb2c-281470e24add",
   "metadata": {
    "execution": {
     "iopub.execute_input": "2025-07-30T21:45:58.417232Z",
     "iopub.status.busy": "2025-07-30T21:45:58.416246Z",
     "iopub.status.idle": "2025-07-30T21:45:58.454137Z",
     "shell.execute_reply": "2025-07-30T21:45:58.453041Z"
    },
    "papermill": {
     "duration": 0.054591,
     "end_time": "2025-07-30T21:45:58.456114",
     "exception": false,
     "start_time": "2025-07-30T21:45:58.401523",
     "status": "completed"
    },
    "tags": []
   },
   "outputs": [],
   "source": [
    "# Calibration data for conformal\n",
    "#X_calib = pd.read_csv(\"./data/X_calib.csv\")\n",
    "#y_calib = pd.read_csv(\"./data/y_calib.csv\")"
   ]
  },
  {
   "cell_type": "markdown",
   "id": "997051c5-15bd-4b69-9786-c3001a3ce484",
   "metadata": {
    "papermill": {
     "duration": 0.023756,
     "end_time": "2025-07-30T21:45:58.503313",
     "exception": false,
     "start_time": "2025-07-30T21:45:58.479557",
     "status": "completed"
    },
    "tags": []
   },
   "source": [
    "# Splitting Data and Setting Training Data Size"
   ]
  },
  {
   "cell_type": "code",
   "execution_count": 14,
   "id": "e993b61f-042d-41a6-8c81-f55681f86335",
   "metadata": {
    "execution": {
     "iopub.execute_input": "2025-07-30T21:45:58.547518Z",
     "iopub.status.busy": "2025-07-30T21:45:58.547003Z",
     "iopub.status.idle": "2025-07-30T21:45:58.561471Z",
     "shell.execute_reply": "2025-07-30T21:45:58.560349Z"
    },
    "papermill": {
     "duration": 0.036656,
     "end_time": "2025-07-30T21:45:58.563101",
     "exception": false,
     "start_time": "2025-07-30T21:45:58.526445",
     "status": "completed"
    },
    "tags": []
   },
   "outputs": [],
   "source": [
    "def sample_by_year_size(df,\n",
    "                        training_year: str,\n",
    "                        training_size: str,\n",
    "                        random_state: int = 42):\n",
    "    # --- parse training_year into a list of int years ---\n",
    "    if \"_\" in training_year:\n",
    "        start_str, end_str = training_year.split(\"_\", 1)\n",
    "        start = int(start_str)\n",
    "        end   = int(end_str) if len(end_str) == 4 else (int(end_str) + (start // 100)*100)\n",
    "        years = list(range(start, end + 1))\n",
    "    else:\n",
    "        years = [int(training_year)]\n",
    "\n",
    "    df = df[df[\"year\"].isin(years)].reset_index(drop=True)\n",
    "\n",
    "    # --- map training_size to total number of samples ---\n",
    "    total_map = {\"25k\": 25_000, \"5k\": 5_000, \"1k\": 1_000}\n",
    "    if training_size not in total_map:\n",
    "        return df  # e.g. \"all\"\n",
    "\n",
    "    total_samples = total_map[training_size]\n",
    "    n_years       = len(years)\n",
    "    base          = total_samples // n_years\n",
    "    remainder     = total_samples % n_years\n",
    "\n",
    "    # --- build a dict: year -> how many to sample ---\n",
    "    # give +1 to the first `remainder` years in ascending order\n",
    "    quotas = {\n",
    "        year: base + (1 if idx < remainder else 0)\n",
    "        for idx, year in enumerate(sorted(years))\n",
    "    }\n",
    "\n",
    "    # --- sample per‐year according to the quota dict ---\n",
    "    sampled = (\n",
    "        df\n",
    "        .groupby(\"year\", group_keys=False)\n",
    "        .apply(lambda grp: grp.sample(\n",
    "            n=min(len(grp), quotas[grp.name]),\n",
    "            random_state=random_state))\n",
    "        .reset_index(drop=True)\n",
    "    )\n",
    "\n",
    "    return sampled"
   ]
  },
  {
   "cell_type": "code",
   "execution_count": 15,
   "id": "c0ccd338-0e02-41f3-a09d-f56f9266e3fb",
   "metadata": {
    "execution": {
     "iopub.execute_input": "2025-07-30T21:45:58.610285Z",
     "iopub.status.busy": "2025-07-30T21:45:58.609806Z",
     "iopub.status.idle": "2025-07-30T21:45:58.614990Z",
     "shell.execute_reply": "2025-07-30T21:45:58.613951Z"
    },
    "papermill": {
     "duration": 0.030759,
     "end_time": "2025-07-30T21:45:58.616777",
     "exception": false,
     "start_time": "2025-07-30T21:45:58.586018",
     "status": "completed"
    },
    "tags": []
   },
   "outputs": [],
   "source": [
    "#universe[\"training_size\"]"
   ]
  },
  {
   "cell_type": "code",
   "execution_count": 16,
   "id": "ca707fd7-8047-4acd-bfa5-66248fbbf8e6",
   "metadata": {
    "execution": {
     "iopub.execute_input": "2025-07-30T21:45:58.664014Z",
     "iopub.status.busy": "2025-07-30T21:45:58.663586Z",
     "iopub.status.idle": "2025-07-30T21:45:58.668430Z",
     "shell.execute_reply": "2025-07-30T21:45:58.667378Z"
    },
    "papermill": {
     "duration": 0.030461,
     "end_time": "2025-07-30T21:45:58.670151",
     "exception": false,
     "start_time": "2025-07-30T21:45:58.639690",
     "status": "completed"
    },
    "tags": []
   },
   "outputs": [],
   "source": [
    "#universe[\"training_year\"]"
   ]
  },
  {
   "cell_type": "code",
   "execution_count": 17,
   "id": "aea9c6ef-6f46-42c8-85eb-5a62025c1508",
   "metadata": {
    "execution": {
     "iopub.execute_input": "2025-07-30T21:45:58.713528Z",
     "iopub.status.busy": "2025-07-30T21:45:58.712926Z",
     "iopub.status.idle": "2025-07-30T21:45:59.713043Z",
     "shell.execute_reply": "2025-07-30T21:45:59.711965Z"
    },
    "papermill": {
     "duration": 1.025868,
     "end_time": "2025-07-30T21:45:59.715120",
     "exception": false,
     "start_time": "2025-07-30T21:45:58.689252",
     "status": "completed"
    },
    "tags": []
   },
   "outputs": [],
   "source": [
    "siab_train = sample_by_year_size(siab,\n",
    "                               training_year=universe[\"training_year\"],\n",
    "                               training_size=universe[\"training_size\"])"
   ]
  },
  {
   "cell_type": "code",
   "execution_count": 18,
   "id": "8d3afb32-789d-442c-8d5d-9f5aa8dd2eed",
   "metadata": {
    "execution": {
     "iopub.execute_input": "2025-07-30T21:45:59.751121Z",
     "iopub.status.busy": "2025-07-30T21:45:59.750396Z",
     "iopub.status.idle": "2025-07-30T21:45:59.755615Z",
     "shell.execute_reply": "2025-07-30T21:45:59.754539Z"
    },
    "papermill": {
     "duration": 0.020297,
     "end_time": "2025-07-30T21:45:59.757760",
     "exception": false,
     "start_time": "2025-07-30T21:45:59.737463",
     "status": "completed"
    },
    "tags": []
   },
   "outputs": [],
   "source": [
    "#siab_train.shape"
   ]
  },
  {
   "cell_type": "code",
   "execution_count": 19,
   "id": "d582db68-1a4c-47fb-84fc-08518dc1975a",
   "metadata": {
    "execution": {
     "iopub.execute_input": "2025-07-30T21:45:59.822971Z",
     "iopub.status.busy": "2025-07-30T21:45:59.822553Z",
     "iopub.status.idle": "2025-07-30T21:45:59.828307Z",
     "shell.execute_reply": "2025-07-30T21:45:59.827330Z"
    },
    "papermill": {
     "duration": 0.051467,
     "end_time": "2025-07-30T21:45:59.830423",
     "exception": false,
     "start_time": "2025-07-30T21:45:59.778956",
     "status": "completed"
    },
    "tags": []
   },
   "outputs": [],
   "source": [
    "#display(siab_train.groupby(\"year\").size())"
   ]
  },
  {
   "cell_type": "code",
   "execution_count": 20,
   "id": "a561edb4-d032-42cb-8256-22eac1111c64",
   "metadata": {
    "execution": {
     "iopub.execute_input": "2025-07-30T21:45:59.873834Z",
     "iopub.status.busy": "2025-07-30T21:45:59.873364Z",
     "iopub.status.idle": "2025-07-30T21:46:00.177139Z",
     "shell.execute_reply": "2025-07-30T21:46:00.176130Z"
    },
    "papermill": {
     "duration": 0.326612,
     "end_time": "2025-07-30T21:46:00.178816",
     "exception": false,
     "start_time": "2025-07-30T21:45:59.852204",
     "status": "completed"
    },
    "tags": []
   },
   "outputs": [],
   "source": [
    "#siab_train = siab_s[siab_s.year < 2015]\n",
    "siab_calib = siab[siab.year == 2015]\n",
    "siab_test = siab[siab.year == 2016]"
   ]
  },
  {
   "cell_type": "code",
   "execution_count": 21,
   "id": "472de16f-c3db-4916-846b-1f0de9cf1746",
   "metadata": {
    "execution": {
     "iopub.execute_input": "2025-07-30T21:46:00.265539Z",
     "iopub.status.busy": "2025-07-30T21:46:00.265062Z",
     "iopub.status.idle": "2025-07-30T21:46:00.271537Z",
     "shell.execute_reply": "2025-07-30T21:46:00.270594Z"
    },
    "papermill": {
     "duration": 0.070257,
     "end_time": "2025-07-30T21:46:00.291851",
     "exception": false,
     "start_time": "2025-07-30T21:46:00.221594",
     "status": "completed"
    },
    "tags": []
   },
   "outputs": [],
   "source": [
    "X_train = siab_train.iloc[:,4:164]\n",
    "y_train = siab_train.iloc[:, [3]]"
   ]
  },
  {
   "cell_type": "code",
   "execution_count": 22,
   "id": "828c96af-f43a-4ed6-ba47-8ac73a47d56c",
   "metadata": {
    "execution": {
     "iopub.execute_input": "2025-07-30T21:46:00.376246Z",
     "iopub.status.busy": "2025-07-30T21:46:00.375166Z",
     "iopub.status.idle": "2025-07-30T21:46:00.428399Z",
     "shell.execute_reply": "2025-07-30T21:46:00.427367Z"
    },
    "papermill": {
     "duration": 0.096301,
     "end_time": "2025-07-30T21:46:00.430566",
     "exception": false,
     "start_time": "2025-07-30T21:46:00.334265",
     "status": "completed"
    },
    "tags": []
   },
   "outputs": [],
   "source": [
    "X_calib = siab_calib.iloc[:,4:164]\n",
    "y_calib = siab_calib.iloc[:, [3]]"
   ]
  },
  {
   "cell_type": "code",
   "execution_count": 23,
   "id": "c34be9c3-6bd6-476e-acd3-845840e303be",
   "metadata": {
    "execution": {
     "iopub.execute_input": "2025-07-30T21:46:00.480983Z",
     "iopub.status.busy": "2025-07-30T21:46:00.480357Z",
     "iopub.status.idle": "2025-07-30T21:46:00.556511Z",
     "shell.execute_reply": "2025-07-30T21:46:00.555266Z"
    },
    "papermill": {
     "duration": 0.104164,
     "end_time": "2025-07-30T21:46:00.558630",
     "exception": false,
     "start_time": "2025-07-30T21:46:00.454466",
     "status": "completed"
    },
    "tags": []
   },
   "outputs": [],
   "source": [
    "X_test = siab_test.iloc[:,4:164]\n",
    "y_true = siab_test.iloc[:, [3]]"
   ]
  },
  {
   "cell_type": "markdown",
   "id": "9901737e-04df-44f0-9100-f5ad144ed040",
   "metadata": {
    "papermill": {
     "duration": 0.033195,
     "end_time": "2025-07-30T21:46:00.623820",
     "exception": false,
     "start_time": "2025-07-30T21:46:00.590625",
     "status": "completed"
    },
    "tags": []
   },
   "source": [
    "# Splitting Data and Setting Training Data Size OLD VERSION"
   ]
  },
  {
   "cell_type": "code",
   "execution_count": 24,
   "id": "acbc8f7d-8fc8-4e86-8c59-5dcb0f58384b",
   "metadata": {
    "execution": {
     "iopub.execute_input": "2025-07-30T21:46:00.679894Z",
     "iopub.status.busy": "2025-07-30T21:46:00.679548Z",
     "iopub.status.idle": "2025-07-30T21:46:00.685240Z",
     "shell.execute_reply": "2025-07-30T21:46:00.684214Z"
    },
    "papermill": {
     "duration": 0.036826,
     "end_time": "2025-07-30T21:46:00.688542",
     "exception": false,
     "start_time": "2025-07-30T21:46:00.651716",
     "status": "completed"
    },
    "tags": []
   },
   "outputs": [],
   "source": [
    "#def sample_by_year(df, training_size, random_state=42):\n",
    "#    if training_size == \"2014\":\n",
    "#        return df[df[\"year\"] == 2014].reset_index(drop=True)\n",
    "#    \n",
    "#    size_map = {\n",
    "#        \"25k\": 5000,\n",
    "#        \"5k\": 1000,\n",
    "#        \"1k\": 200\n",
    "#    }\n",
    "#\n",
    "#    if training_size not in size_map:\n",
    "#        return df.reset_index(drop=True)  # use all data\n",
    "#\n",
    "#    n_per_year = size_map[training_size]\n",
    "#    grouped = df.groupby(\"year\")\n",
    "#    sampled = grouped.apply(lambda x: x.sample(n=min(n_per_year, len(x)), random_state=random_state))\n",
    "#    return sampled.reset_index(drop=True)"
   ]
  },
  {
   "cell_type": "code",
   "execution_count": 25,
   "id": "6d931f52-beaf-43ff-9e78-9d44a448d54e",
   "metadata": {
    "execution": {
     "iopub.execute_input": "2025-07-30T21:46:00.762958Z",
     "iopub.status.busy": "2025-07-30T21:46:00.762562Z",
     "iopub.status.idle": "2025-07-30T21:46:00.767662Z",
     "shell.execute_reply": "2025-07-30T21:46:00.766843Z"
    },
    "papermill": {
     "duration": 0.048995,
     "end_time": "2025-07-30T21:46:00.770209",
     "exception": false,
     "start_time": "2025-07-30T21:46:00.721214",
     "status": "completed"
    },
    "tags": []
   },
   "outputs": [],
   "source": [
    "#siab_s = sample_by_year(siab, universe[\"training_size\"])"
   ]
  },
  {
   "cell_type": "code",
   "execution_count": 26,
   "id": "5db0a40e-a4e2-4920-be85-b12ae061d70d",
   "metadata": {
    "execution": {
     "iopub.execute_input": "2025-07-30T21:46:00.829158Z",
     "iopub.status.busy": "2025-07-30T21:46:00.828772Z",
     "iopub.status.idle": "2025-07-30T21:46:00.835318Z",
     "shell.execute_reply": "2025-07-30T21:46:00.834346Z"
    },
    "papermill": {
     "duration": 0.045386,
     "end_time": "2025-07-30T21:46:00.837098",
     "exception": false,
     "start_time": "2025-07-30T21:46:00.791712",
     "status": "completed"
    },
    "tags": []
   },
   "outputs": [],
   "source": [
    "#display(siab_s.groupby(\"year\").size())"
   ]
  },
  {
   "cell_type": "code",
   "execution_count": 27,
   "id": "e6c733c5",
   "metadata": {
    "execution": {
     "iopub.execute_input": "2025-07-30T21:46:00.947000Z",
     "iopub.status.busy": "2025-07-30T21:46:00.945947Z",
     "iopub.status.idle": "2025-07-30T21:46:01.069209Z",
     "shell.execute_reply": "2025-07-30T21:46:01.068099Z"
    },
    "papermill": {
     "duration": 0.167226,
     "end_time": "2025-07-30T21:46:01.071114",
     "exception": false,
     "start_time": "2025-07-30T21:46:00.903888",
     "status": "completed"
    },
    "tags": []
   },
   "outputs": [],
   "source": [
    "# Auxiliary data needed downstream in the pipeline\n",
    "\n",
    "org_train = X_train.copy()\n",
    "org_test = X_test.copy()\n",
    "org_calib = X_calib.copy()"
   ]
  },
  {
   "cell_type": "code",
   "execution_count": 28,
   "id": "1466abac-c6da-4492-a62f-4240ae3783af",
   "metadata": {
    "execution": {
     "iopub.execute_input": "2025-07-30T21:46:01.203125Z",
     "iopub.status.busy": "2025-07-30T21:46:01.202736Z",
     "iopub.status.idle": "2025-07-30T21:46:01.208648Z",
     "shell.execute_reply": "2025-07-30T21:46:01.207652Z"
    },
    "papermill": {
     "duration": 0.067471,
     "end_time": "2025-07-30T21:46:01.211242",
     "exception": false,
     "start_time": "2025-07-30T21:46:01.143771",
     "status": "completed"
    },
    "tags": []
   },
   "outputs": [],
   "source": [
    "# put in other script?\n",
    "# Group sizes\n",
    "\n",
    "#def calculate_percentages(df, df_name):\n",
    "#    total_entries = len(df)\n",
    "#\n",
    "#    female_pct = (df['frau1'] == 1).mean() * 100\n",
    "#    non_german_pct = ((df['maxdeutsch1'] == 0) & (df['maxdeutsch.Missing.'] == 0)).mean() * 100\n",
    "#    non_german_male_pct = ((df['frau1'] == 0) & (df['maxdeutsch1'] == 0) & (df['maxdeutsch.Missing.'] == 0)).mean() * 100\n",
    "#    non_german_female_pct = ((df['frau1'] == 1) & (df['maxdeutsch1'] == 0) & (df['maxdeutsch.Missing.'] == 0)).mean() * 100\n",
    "#\n",
    "#    print(f\"--- {df_name} ---\")\n",
    "#    print(f\"Female: {female_pct:.2f}%\")\n",
    "#    print(f\"Non-German: {non_german_pct:.2f}%\")\n",
    "#    print(f\"Non-German Male: {non_german_male_pct:.2f}%\")\n",
    "#    print(f\"Non-German Female: {non_german_female_pct:.2f}%\\n\")\n",
    "#\n",
    "## Calculate for each DataFrame\n",
    "#calculate_percentages(siab_calib, \"siab_calib\")\n",
    "#calculate_percentages(siab_test, \"siab_test\")\n",
    "#calculate_percentages(siab_train, \"siab_train\")"
   ]
  },
  {
   "cell_type": "markdown",
   "id": "0a4a1b33",
   "metadata": {
    "papermill": {
     "duration": 0.050098,
     "end_time": "2025-07-30T21:46:01.285237",
     "exception": false,
     "start_time": "2025-07-30T21:46:01.235139",
     "status": "completed"
    },
    "tags": []
   },
   "source": [
    "# Preprocessing Data"
   ]
  },
  {
   "cell_type": "code",
   "execution_count": 29,
   "id": "ca879031",
   "metadata": {
    "execution": {
     "iopub.execute_input": "2025-07-30T21:46:01.370352Z",
     "iopub.status.busy": "2025-07-30T21:46:01.369565Z",
     "iopub.status.idle": "2025-07-30T21:46:01.375670Z",
     "shell.execute_reply": "2025-07-30T21:46:01.374714Z"
    },
    "papermill": {
     "duration": 0.032966,
     "end_time": "2025-07-30T21:46:01.377249",
     "exception": false,
     "start_time": "2025-07-30T21:46:01.344283",
     "status": "completed"
    },
    "tags": []
   },
   "outputs": [],
   "source": [
    "# EXCLUDE PROTECTED FEATURES\n",
    "# ----------------------\n",
    "# \"exclude_features\": \"none\", # \"nationality\", \"sex\", \"nationality-sex\"\n",
    "\n",
    "excluded_features = universe[\"exclude_features\"].split(\"-\") # split, e.g.: \"nationality-sex\" -> [\"nationality\", \"sex\"]\n",
    "excluded_features_dictionary = {\n",
    "    \"nationality\": [\"maxdeutsch1\", \"maxdeutsch.Missing.\"],\n",
    "    \"sex\": [\"frau1\"],\n",
    "    \"age\": [\"age\"],\n",
    "}\n"
   ]
  },
  {
   "cell_type": "code",
   "execution_count": 30,
   "id": "b745ac60",
   "metadata": {
    "execution": {
     "iopub.execute_input": "2025-07-30T21:46:01.422039Z",
     "iopub.status.busy": "2025-07-30T21:46:01.421622Z",
     "iopub.status.idle": "2025-07-30T21:46:01.430274Z",
     "shell.execute_reply": "2025-07-30T21:46:01.429295Z"
    },
    "papermill": {
     "duration": 0.033352,
     "end_time": "2025-07-30T21:46:01.432460",
     "exception": false,
     "start_time": "2025-07-30T21:46:01.399108",
     "status": "completed"
    },
    "tags": []
   },
   "outputs": [],
   "source": [
    "# Code nice names to column names\n",
    "\n",
    "excluded_features_columns = [\n",
    "    excluded_features_dictionary[f] for f in excluded_features if len(f) > 0 and f != \"none\"\n",
    "]"
   ]
  },
  {
   "cell_type": "code",
   "execution_count": 31,
   "id": "f84f73a2",
   "metadata": {
    "execution": {
     "iopub.execute_input": "2025-07-30T21:46:01.475705Z",
     "iopub.status.busy": "2025-07-30T21:46:01.475317Z",
     "iopub.status.idle": "2025-07-30T21:46:01.481584Z",
     "shell.execute_reply": "2025-07-30T21:46:01.480699Z"
    },
    "papermill": {
     "duration": 0.03183,
     "end_time": "2025-07-30T21:46:01.484467",
     "exception": false,
     "start_time": "2025-07-30T21:46:01.452637",
     "status": "completed"
    },
    "tags": []
   },
   "outputs": [],
   "source": [
    "from utils import flatten_once\n",
    "\n",
    "excluded_features_columns = flatten_once(excluded_features_columns)"
   ]
  },
  {
   "cell_type": "code",
   "execution_count": 32,
   "id": "884dea22",
   "metadata": {
    "execution": {
     "iopub.execute_input": "2025-07-30T21:46:01.532555Z",
     "iopub.status.busy": "2025-07-30T21:46:01.532056Z",
     "iopub.status.idle": "2025-07-30T21:46:01.541213Z",
     "shell.execute_reply": "2025-07-30T21:46:01.540022Z"
    },
    "papermill": {
     "duration": 0.035009,
     "end_time": "2025-07-30T21:46:01.542691",
     "exception": false,
     "start_time": "2025-07-30T21:46:01.507682",
     "status": "completed"
    },
    "tags": []
   },
   "outputs": [
    {
     "name": "stdout",
     "output_type": "stream",
     "text": [
      "Dropping features: ['frau1']\n"
     ]
    }
   ],
   "source": [
    "if len(excluded_features_columns) > 0:\n",
    "    print(f\"Dropping features: {excluded_features_columns}\")\n",
    "    X_train.drop(excluded_features_columns, axis=1, inplace=True)"
   ]
  },
  {
   "cell_type": "code",
   "execution_count": 33,
   "id": "95ab8b16",
   "metadata": {
    "execution": {
     "iopub.execute_input": "2025-07-30T21:46:01.592867Z",
     "iopub.status.busy": "2025-07-30T21:46:01.592331Z",
     "iopub.status.idle": "2025-07-30T21:46:01.646876Z",
     "shell.execute_reply": "2025-07-30T21:46:01.645873Z"
    },
    "papermill": {
     "duration": 0.081565,
     "end_time": "2025-07-30T21:46:01.648490",
     "exception": false,
     "start_time": "2025-07-30T21:46:01.566925",
     "status": "completed"
    },
    "tags": []
   },
   "outputs": [
    {
     "name": "stdout",
     "output_type": "stream",
     "text": [
      "Dropping features: ['frau1']\n"
     ]
    }
   ],
   "source": [
    "if len(excluded_features_columns) > 0:\n",
    "    print(f\"Dropping features: {excluded_features_columns}\")\n",
    "    X_test.drop(excluded_features_columns, axis=1, inplace=True)"
   ]
  },
  {
   "cell_type": "code",
   "execution_count": 34,
   "id": "1853aaf5-fb9f-46cb-a2b5-8ea4ae2237e4",
   "metadata": {
    "execution": {
     "iopub.execute_input": "2025-07-30T21:46:01.694202Z",
     "iopub.status.busy": "2025-07-30T21:46:01.693710Z",
     "iopub.status.idle": "2025-07-30T21:46:01.774892Z",
     "shell.execute_reply": "2025-07-30T21:46:01.773873Z"
    },
    "papermill": {
     "duration": 0.105684,
     "end_time": "2025-07-30T21:46:01.776799",
     "exception": false,
     "start_time": "2025-07-30T21:46:01.671115",
     "status": "completed"
    },
    "tags": []
   },
   "outputs": [
    {
     "name": "stdout",
     "output_type": "stream",
     "text": [
      "Dropping features: ['frau1']\n"
     ]
    }
   ],
   "source": [
    "if len(excluded_features_columns) > 0:\n",
    "    print(f\"Dropping features: {excluded_features_columns}\")\n",
    "    X_calib.drop(excluded_features_columns, axis=1, inplace=True)"
   ]
  },
  {
   "cell_type": "code",
   "execution_count": 35,
   "id": "6727d079-03e5-481e-9d38-292a90b7a0a8",
   "metadata": {
    "execution": {
     "iopub.execute_input": "2025-07-30T21:46:01.831598Z",
     "iopub.status.busy": "2025-07-30T21:46:01.831097Z",
     "iopub.status.idle": "2025-07-30T21:46:01.836629Z",
     "shell.execute_reply": "2025-07-30T21:46:01.835226Z"
    },
    "papermill": {
     "duration": 0.039441,
     "end_time": "2025-07-30T21:46:01.838552",
     "exception": false,
     "start_time": "2025-07-30T21:46:01.799111",
     "status": "completed"
    },
    "tags": []
   },
   "outputs": [],
   "source": [
    "# SPLIT & STRATIFY DATA\n",
    "# ----------------------"
   ]
  },
  {
   "cell_type": "code",
   "execution_count": 36,
   "id": "76c4dc6d",
   "metadata": {
    "execution": {
     "iopub.execute_input": "2025-07-30T21:46:01.917355Z",
     "iopub.status.busy": "2025-07-30T21:46:01.916691Z",
     "iopub.status.idle": "2025-07-30T21:46:01.922614Z",
     "shell.execute_reply": "2025-07-30T21:46:01.921696Z"
    },
    "papermill": {
     "duration": 0.060928,
     "end_time": "2025-07-30T21:46:01.925260",
     "exception": false,
     "start_time": "2025-07-30T21:46:01.864332",
     "status": "completed"
    },
    "tags": []
   },
   "outputs": [],
   "source": [
    "# EXCLUDE CERTAIN SUBGROUPS\n",
    "# ----------------------\n",
    "\n",
    "mode = universe.get(\"exclude_subgroups\", \"keep-all\") \n",
    "# Fetches the exclude_subgroups setting from the universe dict.\n",
    "# Defaults to \"keep-all\" if the key is missing."
   ]
  },
  {
   "cell_type": "code",
   "execution_count": 37,
   "id": "21994072",
   "metadata": {
    "execution": {
     "iopub.execute_input": "2025-07-30T21:46:01.975685Z",
     "iopub.status.busy": "2025-07-30T21:46:01.975224Z",
     "iopub.status.idle": "2025-07-30T21:46:01.982503Z",
     "shell.execute_reply": "2025-07-30T21:46:01.981564Z"
    },
    "papermill": {
     "duration": 0.032317,
     "end_time": "2025-07-30T21:46:01.987075",
     "exception": false,
     "start_time": "2025-07-30T21:46:01.954758",
     "status": "completed"
    },
    "tags": []
   },
   "outputs": [],
   "source": [
    "if mode == \"keep-all\":\n",
    "    keep_mask = pd.Series(True, index=org_train.index)\n",
    "\n",
    "# org_train contains the original feature columns from features_org (in Simson)\n",
    "# features_org contains unprocessed features, for me X_train at beginning ???\n",
    "# For keep-all, creates a boolean Series (keep_mask) of all True, so no rows are removed.\n",
    "\n",
    "elif mode == \"drop-non-german\":\n",
    "    keep_mask = org_train[\"maxdeutsch1\"] == 1 # ??? what about missing values?\n",
    "\n",
    "else:\n",
    "    raise ValueError(f\"Unsupported mode for exclude_subgroups: {mode}\")\n"
   ]
  },
  {
   "cell_type": "code",
   "execution_count": 38,
   "id": "71651440",
   "metadata": {
    "execution": {
     "iopub.execute_input": "2025-07-30T21:46:02.086422Z",
     "iopub.status.busy": "2025-07-30T21:46:02.086042Z",
     "iopub.status.idle": "2025-07-30T21:46:02.093280Z",
     "shell.execute_reply": "2025-07-30T21:46:02.092180Z"
    },
    "papermill": {
     "duration": 0.04812,
     "end_time": "2025-07-30T21:46:02.094876",
     "exception": false,
     "start_time": "2025-07-30T21:46:02.046756",
     "status": "completed"
    },
    "tags": []
   },
   "outputs": [
    {
     "name": "stdout",
     "output_type": "stream",
     "text": [
      "Dropping 131 rows (13.10%) where mode='drop-non-german'\n"
     ]
    }
   ],
   "source": [
    "n_drop = (~keep_mask).sum() # Calculates how many rows are set to be dropped\n",
    "if n_drop > 0:\n",
    "    pct = n_drop / len(keep_mask) * 100\n",
    "    print(f\"Dropping {n_drop} rows ({pct:.2f}%) where mode='{mode}'\")"
   ]
  },
  {
   "cell_type": "code",
   "execution_count": 39,
   "id": "5fb8eee5",
   "metadata": {
    "execution": {
     "iopub.execute_input": "2025-07-30T21:46:02.189380Z",
     "iopub.status.busy": "2025-07-30T21:46:02.188984Z",
     "iopub.status.idle": "2025-07-30T21:46:02.195407Z",
     "shell.execute_reply": "2025-07-30T21:46:02.194386Z"
    },
    "papermill": {
     "duration": 0.062973,
     "end_time": "2025-07-30T21:46:02.209387",
     "exception": false,
     "start_time": "2025-07-30T21:46:02.146414",
     "status": "completed"
    },
    "tags": []
   },
   "outputs": [],
   "source": [
    "X_train = X_train[keep_mask]"
   ]
  },
  {
   "cell_type": "code",
   "execution_count": 40,
   "id": "b202bb3a",
   "metadata": {
    "execution": {
     "iopub.execute_input": "2025-07-30T21:46:02.290017Z",
     "iopub.status.busy": "2025-07-30T21:46:02.289142Z",
     "iopub.status.idle": "2025-07-30T21:46:02.294670Z",
     "shell.execute_reply": "2025-07-30T21:46:02.293705Z"
    },
    "papermill": {
     "duration": 0.050467,
     "end_time": "2025-07-30T21:46:02.308837",
     "exception": false,
     "start_time": "2025-07-30T21:46:02.258370",
     "status": "completed"
    },
    "tags": []
   },
   "outputs": [],
   "source": [
    "y_train = y_train[keep_mask]"
   ]
  },
  {
   "cell_type": "markdown",
   "id": "493e2ac3",
   "metadata": {
    "papermill": {
     "duration": 0.01784,
     "end_time": "2025-07-30T21:46:02.365037",
     "exception": false,
     "start_time": "2025-07-30T21:46:02.347197",
     "status": "completed"
    },
    "tags": []
   },
   "source": [
    "# Model Training"
   ]
  },
  {
   "cell_type": "code",
   "execution_count": 41,
   "id": "679e1268",
   "metadata": {
    "execution": {
     "iopub.execute_input": "2025-07-30T21:46:02.417488Z",
     "iopub.status.busy": "2025-07-30T21:46:02.416978Z",
     "iopub.status.idle": "2025-07-30T21:46:02.578747Z",
     "shell.execute_reply": "2025-07-30T21:46:02.577904Z"
    },
    "papermill": {
     "duration": 0.194089,
     "end_time": "2025-07-30T21:46:02.580615",
     "exception": false,
     "start_time": "2025-07-30T21:46:02.386526",
     "status": "completed"
    },
    "tags": []
   },
   "outputs": [],
   "source": [
    "from sklearn.linear_model import LogisticRegression\n",
    "from sklearn.ensemble import GradientBoostingClassifier, RandomForestClassifier\n",
    "\n",
    "if (universe[\"model\"] == \"logreg\"):\n",
    "    model = LogisticRegression() #penalty=\"none\") #, solver=\"newton-cg\", max_iter=1) # include random_state=19 ?\n",
    "elif (universe[\"model\"] == \"penalized_logreg\"):\n",
    "    model = LogisticRegression(penalty=\"l2\", C=1.0) #, solver=\"newton-cg\", max_iter=1)\n",
    "elif (universe[\"model\"] == \"rf\"):\n",
    "    model = RandomForestClassifier(n_estimators=100, n_jobs=-1)\n",
    "elif (universe[\"model\"] == \"gbm\"):\n",
    "    model = GradientBoostingClassifier()\n",
    "elif (universe[\"model\"] == \"elasticnet\"):\n",
    "    model = LogisticRegression(penalty = 'elasticnet', solver = 'saga', l1_ratio = 0.5, max_iter=5000) # which solver to use?\n",
    "else:\n",
    "    raise \"Unsupported universe.model\""
   ]
  },
  {
   "cell_type": "code",
   "execution_count": 42,
   "id": "0cc8f744",
   "metadata": {
    "execution": {
     "iopub.execute_input": "2025-07-30T21:46:02.635676Z",
     "iopub.status.busy": "2025-07-30T21:46:02.634949Z",
     "iopub.status.idle": "2025-07-30T21:46:02.641099Z",
     "shell.execute_reply": "2025-07-30T21:46:02.640063Z"
    },
    "papermill": {
     "duration": 0.036774,
     "end_time": "2025-07-30T21:46:02.643518",
     "exception": false,
     "start_time": "2025-07-30T21:46:02.606744",
     "status": "completed"
    },
    "tags": []
   },
   "outputs": [],
   "source": [
    "import numpy as np\n",
    "from sklearn.pipeline import Pipeline\n",
    "from sklearn.preprocessing import StandardScaler\n",
    "\n",
    "model = Pipeline([\n",
    "    #(\"continuous_processor\", continuous_processor),\n",
    "    #(\"categorical_preprocessor\", categorical_preprocessor),\n",
    "    (\"scale\", StandardScaler() if universe[\"scale\"] == \"scale\" else None), \n",
    "    (\"model\", model),\n",
    "])"
   ]
  },
  {
   "cell_type": "code",
   "execution_count": 43,
   "id": "9442c04d",
   "metadata": {
    "execution": {
     "iopub.execute_input": "2025-07-30T21:46:02.692872Z",
     "iopub.status.busy": "2025-07-30T21:46:02.692513Z",
     "iopub.status.idle": "2025-07-30T21:46:03.212257Z",
     "shell.execute_reply": "2025-07-30T21:46:03.211415Z"
    },
    "papermill": {
     "duration": 0.546323,
     "end_time": "2025-07-30T21:46:03.213612",
     "exception": false,
     "start_time": "2025-07-30T21:46:02.667289",
     "status": "completed"
    },
    "tags": []
   },
   "outputs": [
    {
     "data": {
      "text/html": [
       "<style>#sk-container-id-1 {color: black;background-color: white;}#sk-container-id-1 pre{padding: 0;}#sk-container-id-1 div.sk-toggleable {background-color: white;}#sk-container-id-1 label.sk-toggleable__label {cursor: pointer;display: block;width: 100%;margin-bottom: 0;padding: 0.3em;box-sizing: border-box;text-align: center;}#sk-container-id-1 label.sk-toggleable__label-arrow:before {content: \"▸\";float: left;margin-right: 0.25em;color: #696969;}#sk-container-id-1 label.sk-toggleable__label-arrow:hover:before {color: black;}#sk-container-id-1 div.sk-estimator:hover label.sk-toggleable__label-arrow:before {color: black;}#sk-container-id-1 div.sk-toggleable__content {max-height: 0;max-width: 0;overflow: hidden;text-align: left;background-color: #f0f8ff;}#sk-container-id-1 div.sk-toggleable__content pre {margin: 0.2em;color: black;border-radius: 0.25em;background-color: #f0f8ff;}#sk-container-id-1 input.sk-toggleable__control:checked~div.sk-toggleable__content {max-height: 200px;max-width: 100%;overflow: auto;}#sk-container-id-1 input.sk-toggleable__control:checked~label.sk-toggleable__label-arrow:before {content: \"▾\";}#sk-container-id-1 div.sk-estimator input.sk-toggleable__control:checked~label.sk-toggleable__label {background-color: #d4ebff;}#sk-container-id-1 div.sk-label input.sk-toggleable__control:checked~label.sk-toggleable__label {background-color: #d4ebff;}#sk-container-id-1 input.sk-hidden--visually {border: 0;clip: rect(1px 1px 1px 1px);clip: rect(1px, 1px, 1px, 1px);height: 1px;margin: -1px;overflow: hidden;padding: 0;position: absolute;width: 1px;}#sk-container-id-1 div.sk-estimator {font-family: monospace;background-color: #f0f8ff;border: 1px dotted black;border-radius: 0.25em;box-sizing: border-box;margin-bottom: 0.5em;}#sk-container-id-1 div.sk-estimator:hover {background-color: #d4ebff;}#sk-container-id-1 div.sk-parallel-item::after {content: \"\";width: 100%;border-bottom: 1px solid gray;flex-grow: 1;}#sk-container-id-1 div.sk-label:hover label.sk-toggleable__label {background-color: #d4ebff;}#sk-container-id-1 div.sk-serial::before {content: \"\";position: absolute;border-left: 1px solid gray;box-sizing: border-box;top: 0;bottom: 0;left: 50%;z-index: 0;}#sk-container-id-1 div.sk-serial {display: flex;flex-direction: column;align-items: center;background-color: white;padding-right: 0.2em;padding-left: 0.2em;position: relative;}#sk-container-id-1 div.sk-item {position: relative;z-index: 1;}#sk-container-id-1 div.sk-parallel {display: flex;align-items: stretch;justify-content: center;background-color: white;position: relative;}#sk-container-id-1 div.sk-item::before, #sk-container-id-1 div.sk-parallel-item::before {content: \"\";position: absolute;border-left: 1px solid gray;box-sizing: border-box;top: 0;bottom: 0;left: 50%;z-index: -1;}#sk-container-id-1 div.sk-parallel-item {display: flex;flex-direction: column;z-index: 1;position: relative;background-color: white;}#sk-container-id-1 div.sk-parallel-item:first-child::after {align-self: flex-end;width: 50%;}#sk-container-id-1 div.sk-parallel-item:last-child::after {align-self: flex-start;width: 50%;}#sk-container-id-1 div.sk-parallel-item:only-child::after {width: 0;}#sk-container-id-1 div.sk-dashed-wrapped {border: 1px dashed gray;margin: 0 0.4em 0.5em 0.4em;box-sizing: border-box;padding-bottom: 0.4em;background-color: white;}#sk-container-id-1 div.sk-label label {font-family: monospace;font-weight: bold;display: inline-block;line-height: 1.2em;}#sk-container-id-1 div.sk-label-container {text-align: center;}#sk-container-id-1 div.sk-container {/* jupyter's `normalize.less` sets `[hidden] { display: none; }` but bootstrap.min.css set `[hidden] { display: none !important; }` so we also need the `!important` here to be able to override the default hidden behavior on the sphinx rendered scikit-learn.org. See: https://github.com/scikit-learn/scikit-learn/issues/21755 */display: inline-block !important;position: relative;}#sk-container-id-1 div.sk-text-repr-fallback {display: none;}</style><div id=\"sk-container-id-1\" class=\"sk-top-container\"><div class=\"sk-text-repr-fallback\"><pre>Pipeline(steps=[(&#x27;scale&#x27;, StandardScaler()),\n",
       "                (&#x27;model&#x27;, RandomForestClassifier(n_jobs=-1))])</pre><b>In a Jupyter environment, please rerun this cell to show the HTML representation or trust the notebook. <br />On GitHub, the HTML representation is unable to render, please try loading this page with nbviewer.org.</b></div><div class=\"sk-container\" hidden><div class=\"sk-item sk-dashed-wrapped\"><div class=\"sk-label-container\"><div class=\"sk-label sk-toggleable\"><input class=\"sk-toggleable__control sk-hidden--visually\" id=\"sk-estimator-id-1\" type=\"checkbox\" ><label for=\"sk-estimator-id-1\" class=\"sk-toggleable__label sk-toggleable__label-arrow\">Pipeline</label><div class=\"sk-toggleable__content\"><pre>Pipeline(steps=[(&#x27;scale&#x27;, StandardScaler()),\n",
       "                (&#x27;model&#x27;, RandomForestClassifier(n_jobs=-1))])</pre></div></div></div><div class=\"sk-serial\"><div class=\"sk-item\"><div class=\"sk-estimator sk-toggleable\"><input class=\"sk-toggleable__control sk-hidden--visually\" id=\"sk-estimator-id-2\" type=\"checkbox\" ><label for=\"sk-estimator-id-2\" class=\"sk-toggleable__label sk-toggleable__label-arrow\">StandardScaler</label><div class=\"sk-toggleable__content\"><pre>StandardScaler()</pre></div></div></div><div class=\"sk-item\"><div class=\"sk-estimator sk-toggleable\"><input class=\"sk-toggleable__control sk-hidden--visually\" id=\"sk-estimator-id-3\" type=\"checkbox\" ><label for=\"sk-estimator-id-3\" class=\"sk-toggleable__label sk-toggleable__label-arrow\">RandomForestClassifier</label><div class=\"sk-toggleable__content\"><pre>RandomForestClassifier(n_jobs=-1)</pre></div></div></div></div></div></div></div>"
      ],
      "text/plain": [
       "Pipeline(steps=[('scale', StandardScaler()),\n",
       "                ('model', RandomForestClassifier(n_jobs=-1))])"
      ]
     },
     "execution_count": 43,
     "metadata": {},
     "output_type": "execute_result"
    }
   ],
   "source": [
    "model.fit(X_train, y_train.values.ravel())"
   ]
  },
  {
   "cell_type": "code",
   "execution_count": 44,
   "id": "af59f8c0",
   "metadata": {
    "execution": {
     "iopub.execute_input": "2025-07-30T21:46:03.273211Z",
     "iopub.status.busy": "2025-07-30T21:46:03.272815Z",
     "iopub.status.idle": "2025-07-30T21:46:03.282976Z",
     "shell.execute_reply": "2025-07-30T21:46:03.281705Z"
    },
    "papermill": {
     "duration": 0.036821,
     "end_time": "2025-07-30T21:46:03.284844",
     "exception": false,
     "start_time": "2025-07-30T21:46:03.248023",
     "status": "completed"
    },
    "tags": []
   },
   "outputs": [],
   "source": [
    "from fairness_multiverse.universe import predict_w_threshold"
   ]
  },
  {
   "cell_type": "code",
   "execution_count": 45,
   "id": "a7cf2e16",
   "metadata": {
    "execution": {
     "iopub.execute_input": "2025-07-30T21:46:03.331374Z",
     "iopub.status.busy": "2025-07-30T21:46:03.330953Z",
     "iopub.status.idle": "2025-07-30T21:46:04.436587Z",
     "shell.execute_reply": "2025-07-30T21:46:04.418666Z"
    },
    "papermill": {
     "duration": 1.13269,
     "end_time": "2025-07-30T21:46:04.438867",
     "exception": false,
     "start_time": "2025-07-30T21:46:03.306177",
     "status": "completed"
    },
    "tags": []
   },
   "outputs": [
    {
     "data": {
      "text/plain": [
       "0.8611860439192955"
      ]
     },
     "execution_count": 45,
     "metadata": {},
     "output_type": "execute_result"
    }
   ],
   "source": [
    "probs_test = model.predict_proba(X_test)\n",
    "\n",
    "'''\n",
    "Below code returns a boolean array (or binary 0/1 array depending on how it’s used) where each element \n",
    "is True if the probability of class 1 is greater than or equal to the threshold, and False otherwise.\n",
    "'''\n",
    "y_pred_default = predict_w_threshold(probs_test, 0.5)\n",
    "\n",
    "from sklearn.metrics import accuracy_score\n",
    "\n",
    "# Naive prediction\n",
    "accuracy_score(y_true = y_true, y_pred = y_pred_default)"
   ]
  },
  {
   "cell_type": "code",
   "execution_count": 46,
   "id": "081964c3",
   "metadata": {
    "execution": {
     "iopub.execute_input": "2025-07-30T21:46:04.516082Z",
     "iopub.status.busy": "2025-07-30T21:46:04.515704Z",
     "iopub.status.idle": "2025-07-30T21:46:05.319356Z",
     "shell.execute_reply": "2025-07-30T21:46:05.318244Z"
    },
    "papermill": {
     "duration": 0.820834,
     "end_time": "2025-07-30T21:46:05.320999",
     "exception": false,
     "start_time": "2025-07-30T21:46:04.500165",
     "status": "completed"
    },
    "tags": []
   },
   "outputs": [
    {
     "data": {
      "text/plain": [
       "array([0, 0, 0, ..., 0, 0, 0])"
      ]
     },
     "execution_count": 46,
     "metadata": {},
     "output_type": "execute_result"
    }
   ],
   "source": [
    "model.predict(X_test)"
   ]
  },
  {
   "cell_type": "markdown",
   "id": "56c9705b",
   "metadata": {
    "papermill": {
     "duration": 0.012733,
     "end_time": "2025-07-30T21:46:05.346895",
     "exception": false,
     "start_time": "2025-07-30T21:46:05.334162",
     "status": "completed"
    },
    "tags": []
   },
   "source": [
    "# Conformal Prediction"
   ]
  },
  {
   "cell_type": "code",
   "execution_count": 47,
   "id": "160ec6ff",
   "metadata": {
    "execution": {
     "iopub.execute_input": "2025-07-30T21:46:05.383703Z",
     "iopub.status.busy": "2025-07-30T21:46:05.383298Z",
     "iopub.status.idle": "2025-07-30T21:46:05.388257Z",
     "shell.execute_reply": "2025-07-30T21:46:05.387250Z"
    },
    "papermill": {
     "duration": 0.029784,
     "end_time": "2025-07-30T21:46:05.389843",
     "exception": false,
     "start_time": "2025-07-30T21:46:05.360059",
     "status": "completed"
    },
    "tags": []
   },
   "outputs": [],
   "source": [
    "# Miscoverage level for conformal prediction (10% allowed error rate => 90% target coverage)\n",
    "alpha = 0.1"
   ]
  },
  {
   "cell_type": "code",
   "execution_count": 48,
   "id": "eadf4555-3dd3-440e-8e35-f82a4ad9f855",
   "metadata": {
    "execution": {
     "iopub.execute_input": "2025-07-30T21:46:05.447819Z",
     "iopub.status.busy": "2025-07-30T21:46:05.447047Z",
     "iopub.status.idle": "2025-07-30T21:46:06.191122Z",
     "shell.execute_reply": "2025-07-30T21:46:06.190157Z"
    },
    "papermill": {
     "duration": 0.776913,
     "end_time": "2025-07-30T21:46:06.192985",
     "exception": false,
     "start_time": "2025-07-30T21:46:05.416072",
     "status": "completed"
    },
    "tags": []
   },
   "outputs": [],
   "source": [
    "probs_calib = model.predict_proba(X_calib)"
   ]
  },
  {
   "cell_type": "code",
   "execution_count": 49,
   "id": "2ed93547-6d5d-4983-9b36-1ecb300da49a",
   "metadata": {
    "execution": {
     "iopub.execute_input": "2025-07-30T21:46:06.249178Z",
     "iopub.status.busy": "2025-07-30T21:46:06.248514Z",
     "iopub.status.idle": "2025-07-30T21:46:06.254586Z",
     "shell.execute_reply": "2025-07-30T21:46:06.253647Z"
    },
    "papermill": {
     "duration": 0.035287,
     "end_time": "2025-07-30T21:46:06.255883",
     "exception": false,
     "start_time": "2025-07-30T21:46:06.220596",
     "status": "completed"
    },
    "tags": []
   },
   "outputs": [],
   "source": [
    "y_calib = y_calib.values.ravel().astype(int)"
   ]
  },
  {
   "cell_type": "code",
   "execution_count": 50,
   "id": "65d1320d-f588-4b38-9072-62af1ae97f7d",
   "metadata": {
    "execution": {
     "iopub.execute_input": "2025-07-30T21:46:06.308124Z",
     "iopub.status.busy": "2025-07-30T21:46:06.307591Z",
     "iopub.status.idle": "2025-07-30T21:46:06.314696Z",
     "shell.execute_reply": "2025-07-30T21:46:06.313821Z"
    },
    "papermill": {
     "duration": 0.033509,
     "end_time": "2025-07-30T21:46:06.316272",
     "exception": false,
     "start_time": "2025-07-30T21:46:06.282763",
     "status": "completed"
    },
    "tags": []
   },
   "outputs": [],
   "source": [
    "from fairness_multiverse.conformal import compute_nc_scores\n",
    "\n",
    "# Compute nonconformity scores on calibration set (1 - probability of true class)\n",
    "nc_scores = compute_nc_scores(probs_calib, y_calib)"
   ]
  },
  {
   "cell_type": "code",
   "execution_count": 51,
   "id": "df3b8ca3-53b7-43d5-9667-7c85da7aeda2",
   "metadata": {
    "execution": {
     "iopub.execute_input": "2025-07-30T21:46:06.363585Z",
     "iopub.status.busy": "2025-07-30T21:46:06.363143Z",
     "iopub.status.idle": "2025-07-30T21:46:06.453769Z",
     "shell.execute_reply": "2025-07-30T21:46:06.452734Z"
    },
    "papermill": {
     "duration": 0.114141,
     "end_time": "2025-07-30T21:46:06.456229",
     "exception": false,
     "start_time": "2025-07-30T21:46:06.342088",
     "status": "completed"
    },
    "tags": []
   },
   "outputs": [],
   "source": [
    "from fairness_multiverse.conformal import find_threshold\n",
    "\n",
    "# Find conformal threshold q_hat for the given alpha (split conformal method)\n",
    "q_hat = find_threshold(nc_scores, alpha)"
   ]
  },
  {
   "cell_type": "code",
   "execution_count": 52,
   "id": "4d29e6c1-0ef6-4aa4-b8fe-4fe79b0d033a",
   "metadata": {
    "execution": {
     "iopub.execute_input": "2025-07-30T21:46:06.510479Z",
     "iopub.status.busy": "2025-07-30T21:46:06.509536Z",
     "iopub.status.idle": "2025-07-30T21:46:06.518201Z",
     "shell.execute_reply": "2025-07-30T21:46:06.516285Z"
    },
    "papermill": {
     "duration": 0.03586,
     "end_time": "2025-07-30T21:46:06.520081",
     "exception": false,
     "start_time": "2025-07-30T21:46:06.484221",
     "status": "completed"
    },
    "tags": []
   },
   "outputs": [
    {
     "data": {
      "text/plain": [
       "0.65"
      ]
     },
     "execution_count": 52,
     "metadata": {},
     "output_type": "execute_result"
    }
   ],
   "source": [
    "q_hat"
   ]
  },
  {
   "cell_type": "code",
   "execution_count": 53,
   "id": "92460794-cdac-4be2-ba28-f28c0515a6fb",
   "metadata": {
    "execution": {
     "iopub.execute_input": "2025-07-30T21:46:06.569989Z",
     "iopub.status.busy": "2025-07-30T21:46:06.569484Z",
     "iopub.status.idle": "2025-07-30T21:46:07.737527Z",
     "shell.execute_reply": "2025-07-30T21:46:07.736765Z"
    },
    "papermill": {
     "duration": 1.194278,
     "end_time": "2025-07-30T21:46:07.738972",
     "exception": false,
     "start_time": "2025-07-30T21:46:06.544694",
     "status": "completed"
    },
    "tags": []
   },
   "outputs": [],
   "source": [
    "from fairness_multiverse.conformal import predict_conformal_sets\n",
    "\n",
    "# Generate prediction sets for each test example\n",
    "pred_sets = predict_conformal_sets(model, X_test, q_hat)"
   ]
  },
  {
   "cell_type": "code",
   "execution_count": 54,
   "id": "d90c9a65-e6db-4f5d-80cd-e68fb7e46829",
   "metadata": {
    "execution": {
     "iopub.execute_input": "2025-07-30T21:46:07.767485Z",
     "iopub.status.busy": "2025-07-30T21:46:07.766862Z",
     "iopub.status.idle": "2025-07-30T21:46:07.771405Z",
     "shell.execute_reply": "2025-07-30T21:46:07.770574Z"
    },
    "papermill": {
     "duration": 0.019932,
     "end_time": "2025-07-30T21:46:07.772758",
     "exception": false,
     "start_time": "2025-07-30T21:46:07.752826",
     "status": "completed"
    },
    "tags": []
   },
   "outputs": [],
   "source": [
    "y_true = y_true.squeeze()"
   ]
  },
  {
   "cell_type": "code",
   "execution_count": 55,
   "id": "3a58a54a-1e68-46b9-927a-df01f18aebc8",
   "metadata": {
    "execution": {
     "iopub.execute_input": "2025-07-30T21:46:07.800313Z",
     "iopub.status.busy": "2025-07-30T21:46:07.799942Z",
     "iopub.status.idle": "2025-07-30T21:46:08.595388Z",
     "shell.execute_reply": "2025-07-30T21:46:08.594285Z"
    },
    "papermill": {
     "duration": 0.81047,
     "end_time": "2025-07-30T21:46:08.597146",
     "exception": false,
     "start_time": "2025-07-30T21:46:07.786676",
     "status": "completed"
    },
    "tags": []
   },
   "outputs": [],
   "source": [
    "from fairness_multiverse.conformal import evaluate_sets\n",
    "\n",
    "# Evaluate coverage and average set size on test data\n",
    "metrics = evaluate_sets(pred_sets, y_true)"
   ]
  },
  {
   "cell_type": "markdown",
   "id": "2b569c12-9aaa-4c88-98c9-bbcd0cf3ebb8",
   "metadata": {
    "papermill": {
     "duration": 0.023768,
     "end_time": "2025-07-30T21:46:08.643265",
     "exception": false,
     "start_time": "2025-07-30T21:46:08.619497",
     "status": "completed"
    },
    "tags": []
   },
   "source": [
    "# CP Metrics"
   ]
  },
  {
   "cell_type": "code",
   "execution_count": 56,
   "id": "5ce0a5cb-201f-45a0-ade5-94c7f0bd6095",
   "metadata": {
    "execution": {
     "iopub.execute_input": "2025-07-30T21:46:08.695607Z",
     "iopub.status.busy": "2025-07-30T21:46:08.694837Z",
     "iopub.status.idle": "2025-07-30T21:46:08.702336Z",
     "shell.execute_reply": "2025-07-30T21:46:08.701404Z"
    },
    "papermill": {
     "duration": 0.035883,
     "end_time": "2025-07-30T21:46:08.703887",
     "exception": false,
     "start_time": "2025-07-30T21:46:08.668004",
     "status": "completed"
    },
    "tags": []
   },
   "outputs": [
    {
     "data": {
      "text/plain": [
       "{'coverage': 0.9142570504960428, 'avg_size': 1.153260506075131}"
      ]
     },
     "execution_count": 56,
     "metadata": {},
     "output_type": "execute_result"
    }
   ],
   "source": [
    "metrics"
   ]
  },
  {
   "cell_type": "code",
   "execution_count": 57,
   "id": "9b9a838d-31c9-430b-ae14-12baee460d17",
   "metadata": {
    "execution": {
     "iopub.execute_input": "2025-07-30T21:46:08.754054Z",
     "iopub.status.busy": "2025-07-30T21:46:08.753611Z",
     "iopub.status.idle": "2025-07-30T21:46:08.760271Z",
     "shell.execute_reply": "2025-07-30T21:46:08.759366Z"
    },
    "papermill": {
     "duration": 0.033106,
     "end_time": "2025-07-30T21:46:08.761925",
     "exception": false,
     "start_time": "2025-07-30T21:46:08.728819",
     "status": "completed"
    },
    "tags": []
   },
   "outputs": [],
   "source": [
    "example_universe = universe.copy()\n",
    "universe_training_year = example_universe.get(\"training_year\")\n",
    "universe_training_size = example_universe.get(\"training_size\")\n",
    "universe_scale = example_universe.get(\"scale\")\n",
    "universe_model = example_universe.get(\"model\")\n",
    "universe_exclude_features = example_universe.get(\"exclude_features\")\n",
    "universe_exclude_subgroups = example_universe.get(\"exclude_subgroups\")"
   ]
  },
  {
   "cell_type": "code",
   "execution_count": 58,
   "id": "f4b6a8ac-9dc0-4245-8a91-5b3b5999c4f9",
   "metadata": {
    "execution": {
     "iopub.execute_input": "2025-07-30T21:46:08.811723Z",
     "iopub.status.busy": "2025-07-30T21:46:08.811302Z",
     "iopub.status.idle": "2025-07-30T21:46:08.817361Z",
     "shell.execute_reply": "2025-07-30T21:46:08.816531Z"
    },
    "papermill": {
     "duration": 0.032104,
     "end_time": "2025-07-30T21:46:08.818868",
     "exception": false,
     "start_time": "2025-07-30T21:46:08.786764",
     "status": "completed"
    },
    "tags": []
   },
   "outputs": [],
   "source": [
    "cp_metrics_dict = {\n",
    "    \"universe_id\": [universe_id],\n",
    "    \"universe_training_year\": [universe_training_year],\n",
    "    \"universe_training_size\": [universe_training_size],\n",
    "    \"universe_scale\": [universe_scale],\n",
    "    \"universe_model\": [universe_model],\n",
    "    \"universe_exclude_features\": [universe_exclude_features],\n",
    "    \"universe_exclude_subgroups\": [universe_exclude_subgroups],\n",
    "    \"q_hat\": [q_hat],\n",
    "    \"coverage\": [metrics[\"coverage\"]],\n",
    "    \"avg_size\": [metrics[\"avg_size\"]],\n",
    "}"
   ]
  },
  {
   "cell_type": "code",
   "execution_count": 59,
   "id": "908acbb1-0371-4915-85ca-3fa520d2efe2",
   "metadata": {
    "execution": {
     "iopub.execute_input": "2025-07-30T21:46:08.868765Z",
     "iopub.status.busy": "2025-07-30T21:46:08.868090Z",
     "iopub.status.idle": "2025-07-30T21:46:08.875497Z",
     "shell.execute_reply": "2025-07-30T21:46:08.874390Z"
    },
    "papermill": {
     "duration": 0.034521,
     "end_time": "2025-07-30T21:46:08.877112",
     "exception": false,
     "start_time": "2025-07-30T21:46:08.842591",
     "status": "completed"
    },
    "tags": []
   },
   "outputs": [
    {
     "data": {
      "text/plain": [
       "{'universe_id': ['bd41f666ee467b2781956863188cdf1f'],\n",
       " 'universe_training_year': ['2010_14'],\n",
       " 'universe_training_size': ['1k'],\n",
       " 'universe_scale': ['scale'],\n",
       " 'universe_model': ['rf'],\n",
       " 'universe_exclude_features': ['sex'],\n",
       " 'universe_exclude_subgroups': ['drop-non-german'],\n",
       " 'q_hat': [0.65],\n",
       " 'coverage': [0.9142570504960428],\n",
       " 'avg_size': [1.153260506075131]}"
      ]
     },
     "execution_count": 59,
     "metadata": {},
     "output_type": "execute_result"
    }
   ],
   "source": [
    "cp_metrics_dict"
   ]
  },
  {
   "cell_type": "code",
   "execution_count": 60,
   "id": "33007efc-14e9-4ec6-97ac-56a455c82265",
   "metadata": {
    "execution": {
     "iopub.execute_input": "2025-07-30T21:46:08.926988Z",
     "iopub.status.busy": "2025-07-30T21:46:08.926608Z",
     "iopub.status.idle": "2025-07-30T21:46:08.932486Z",
     "shell.execute_reply": "2025-07-30T21:46:08.931518Z"
    },
    "papermill": {
     "duration": 0.03237,
     "end_time": "2025-07-30T21:46:08.933969",
     "exception": false,
     "start_time": "2025-07-30T21:46:08.901599",
     "status": "completed"
    },
    "tags": []
   },
   "outputs": [],
   "source": [
    "cp_metrics_df = pd.DataFrame(cp_metrics_dict)"
   ]
  },
  {
   "cell_type": "code",
   "execution_count": 61,
   "id": "db12611b-57b2-4910-b9d0-355adfd6e7bf",
   "metadata": {
    "execution": {
     "iopub.execute_input": "2025-07-30T21:46:08.983559Z",
     "iopub.status.busy": "2025-07-30T21:46:08.983137Z",
     "iopub.status.idle": "2025-07-30T21:46:09.001336Z",
     "shell.execute_reply": "2025-07-30T21:46:09.000247Z"
    },
    "papermill": {
     "duration": 0.044835,
     "end_time": "2025-07-30T21:46:09.003107",
     "exception": false,
     "start_time": "2025-07-30T21:46:08.958272",
     "status": "completed"
    },
    "tags": []
   },
   "outputs": [
    {
     "data": {
      "text/html": [
       "<div>\n",
       "<style scoped>\n",
       "    .dataframe tbody tr th:only-of-type {\n",
       "        vertical-align: middle;\n",
       "    }\n",
       "\n",
       "    .dataframe tbody tr th {\n",
       "        vertical-align: top;\n",
       "    }\n",
       "\n",
       "    .dataframe thead th {\n",
       "        text-align: right;\n",
       "    }\n",
       "</style>\n",
       "<table border=\"1\" class=\"dataframe\">\n",
       "  <thead>\n",
       "    <tr style=\"text-align: right;\">\n",
       "      <th></th>\n",
       "      <th>universe_id</th>\n",
       "      <th>universe_training_year</th>\n",
       "      <th>universe_training_size</th>\n",
       "      <th>universe_scale</th>\n",
       "      <th>universe_model</th>\n",
       "      <th>universe_exclude_features</th>\n",
       "      <th>universe_exclude_subgroups</th>\n",
       "      <th>q_hat</th>\n",
       "      <th>coverage</th>\n",
       "      <th>avg_size</th>\n",
       "    </tr>\n",
       "  </thead>\n",
       "  <tbody>\n",
       "    <tr>\n",
       "      <th>0</th>\n",
       "      <td>bd41f666ee467b2781956863188cdf1f</td>\n",
       "      <td>2010_14</td>\n",
       "      <td>1k</td>\n",
       "      <td>scale</td>\n",
       "      <td>rf</td>\n",
       "      <td>sex</td>\n",
       "      <td>drop-non-german</td>\n",
       "      <td>0.65</td>\n",
       "      <td>0.914257</td>\n",
       "      <td>1.153261</td>\n",
       "    </tr>\n",
       "  </tbody>\n",
       "</table>\n",
       "</div>"
      ],
      "text/plain": [
       "                        universe_id universe_training_year  \\\n",
       "0  bd41f666ee467b2781956863188cdf1f                2010_14   \n",
       "\n",
       "  universe_training_size universe_scale universe_model  \\\n",
       "0                     1k          scale             rf   \n",
       "\n",
       "  universe_exclude_features universe_exclude_subgroups  q_hat  coverage  \\\n",
       "0                       sex            drop-non-german   0.65  0.914257   \n",
       "\n",
       "   avg_size  \n",
       "0  1.153261  "
      ]
     },
     "execution_count": 61,
     "metadata": {},
     "output_type": "execute_result"
    }
   ],
   "source": [
    "cp_metrics_df"
   ]
  },
  {
   "cell_type": "code",
   "execution_count": 62,
   "id": "b7fbde55-a0a1-47e4-9af6-fe4a17fa8c61",
   "metadata": {
    "execution": {
     "iopub.execute_input": "2025-07-30T21:46:09.055161Z",
     "iopub.status.busy": "2025-07-30T21:46:09.054696Z",
     "iopub.status.idle": "2025-07-30T21:46:09.059544Z",
     "shell.execute_reply": "2025-07-30T21:46:09.058722Z"
    },
    "papermill": {
     "duration": 0.032009,
     "end_time": "2025-07-30T21:46:09.061204",
     "exception": false,
     "start_time": "2025-07-30T21:46:09.029195",
     "status": "completed"
    },
    "tags": []
   },
   "outputs": [],
   "source": [
    "# Conditional Coverage & looking at subgroups"
   ]
  },
  {
   "cell_type": "code",
   "execution_count": 63,
   "id": "027ae886-68dd-4141-96c7-805a5450e1ef",
   "metadata": {
    "execution": {
     "iopub.execute_input": "2025-07-30T21:46:09.110406Z",
     "iopub.status.busy": "2025-07-30T21:46:09.109844Z",
     "iopub.status.idle": "2025-07-30T21:46:09.383346Z",
     "shell.execute_reply": "2025-07-30T21:46:09.382562Z"
    },
    "papermill": {
     "duration": 0.300046,
     "end_time": "2025-07-30T21:46:09.385060",
     "exception": false,
     "start_time": "2025-07-30T21:46:09.085014",
     "status": "completed"
    },
    "tags": []
   },
   "outputs": [],
   "source": [
    "from fairness_multiverse.conformal import build_cp_groups\n",
    "\n",
    "cp_groups_df = build_cp_groups(pred_sets, y_true, X_test.index, org_test)\n",
    "#needs universe_id and setting"
   ]
  },
  {
   "cell_type": "code",
   "execution_count": 64,
   "id": "01d5802c-663a-4d1f-9d69-e036faaffbf7",
   "metadata": {
    "execution": {
     "iopub.execute_input": "2025-07-30T21:46:09.422797Z",
     "iopub.status.busy": "2025-07-30T21:46:09.422322Z",
     "iopub.status.idle": "2025-07-30T21:46:09.426583Z",
     "shell.execute_reply": "2025-07-30T21:46:09.425938Z"
    },
    "papermill": {
     "duration": 0.019433,
     "end_time": "2025-07-30T21:46:09.427781",
     "exception": false,
     "start_time": "2025-07-30T21:46:09.408348",
     "status": "completed"
    },
    "tags": []
   },
   "outputs": [],
   "source": [
    "#delete\n",
    "#cp_groups_df"
   ]
  },
  {
   "cell_type": "code",
   "execution_count": 65,
   "id": "fa424af1-d1eb-443d-b717-2d279ada8408",
   "metadata": {
    "execution": {
     "iopub.execute_input": "2025-07-30T21:46:09.461928Z",
     "iopub.status.busy": "2025-07-30T21:46:09.461332Z",
     "iopub.status.idle": "2025-07-30T21:46:09.465518Z",
     "shell.execute_reply": "2025-07-30T21:46:09.464804Z"
    },
    "papermill": {
     "duration": 0.02287,
     "end_time": "2025-07-30T21:46:09.466725",
     "exception": false,
     "start_time": "2025-07-30T21:46:09.443855",
     "status": "completed"
    },
    "tags": []
   },
   "outputs": [],
   "source": [
    "#delete\n",
    "#percentage = (cp_groups_df['nongerman_female'] == 1).mean() * 100\n",
    "#print(percentage)\n"
   ]
  },
  {
   "cell_type": "code",
   "execution_count": 66,
   "id": "6cbdab96-b2b2-45af-ad54-d0516db2e28d",
   "metadata": {
    "execution": {
     "iopub.execute_input": "2025-07-30T21:46:09.494908Z",
     "iopub.status.busy": "2025-07-30T21:46:09.494459Z",
     "iopub.status.idle": "2025-07-30T21:46:10.621625Z",
     "shell.execute_reply": "2025-07-30T21:46:10.620884Z"
    },
    "papermill": {
     "duration": 1.14257,
     "end_time": "2025-07-30T21:46:10.623064",
     "exception": false,
     "start_time": "2025-07-30T21:46:09.480494",
     "status": "completed"
    },
    "tags": []
   },
   "outputs": [],
   "source": [
    "# Define covered = 1 if true_label is in the predicted set\n",
    "cp_groups_df['covered'] = cp_groups_df.apply(\n",
    "    lambda r: int(r['true_label'] in r['pred_set']),\n",
    "    axis=1\n",
    ")"
   ]
  },
  {
   "cell_type": "code",
   "execution_count": 67,
   "id": "338ff529-1a6b-4b87-a931-8e4788d52aad",
   "metadata": {
    "execution": {
     "iopub.execute_input": "2025-07-30T21:46:10.652297Z",
     "iopub.status.busy": "2025-07-30T21:46:10.651619Z",
     "iopub.status.idle": "2025-07-30T21:46:10.656082Z",
     "shell.execute_reply": "2025-07-30T21:46:10.655303Z"
    },
    "papermill": {
     "duration": 0.019477,
     "end_time": "2025-07-30T21:46:10.657398",
     "exception": false,
     "start_time": "2025-07-30T21:46:10.637921",
     "status": "completed"
    },
    "tags": []
   },
   "outputs": [],
   "source": [
    "#cp_groups_df"
   ]
  },
  {
   "cell_type": "code",
   "execution_count": 68,
   "id": "90032e27-66df-4540-9169-4e89cfbaa758",
   "metadata": {
    "execution": {
     "iopub.execute_input": "2025-07-30T21:46:10.686236Z",
     "iopub.status.busy": "2025-07-30T21:46:10.685507Z",
     "iopub.status.idle": "2025-07-30T21:46:10.694031Z",
     "shell.execute_reply": "2025-07-30T21:46:10.693328Z"
    },
    "papermill": {
     "duration": 0.023836,
     "end_time": "2025-07-30T21:46:10.695427",
     "exception": false,
     "start_time": "2025-07-30T21:46:10.671591",
     "status": "completed"
    },
    "tags": []
   },
   "outputs": [],
   "source": [
    "subgroups = ['frau1','nongerman','nongerman_male','nongerman_female']\n",
    "\n",
    "# Conditional coverage for subgroup==1\n",
    "cond_coverage = {\n",
    "    g: cp_groups_df.loc[cp_groups_df[g]==1, 'covered'].mean()\n",
    "    for g in subgroups\n",
    "}"
   ]
  },
  {
   "cell_type": "code",
   "execution_count": 69,
   "id": "1e348fb1-b9c3-45bc-ba23-f016827a7e0d",
   "metadata": {
    "execution": {
     "iopub.execute_input": "2025-07-30T21:46:10.723753Z",
     "iopub.status.busy": "2025-07-30T21:46:10.723124Z",
     "iopub.status.idle": "2025-07-30T21:46:10.729097Z",
     "shell.execute_reply": "2025-07-30T21:46:10.728322Z"
    },
    "papermill": {
     "duration": 0.021149,
     "end_time": "2025-07-30T21:46:10.730376",
     "exception": false,
     "start_time": "2025-07-30T21:46:10.709227",
     "status": "completed"
    },
    "tags": []
   },
   "outputs": [
    {
     "data": {
      "text/plain": [
       "{'frau1': 0.9117401267017118,\n",
       " 'nongerman': 0.9034974456857351,\n",
       " 'nongerman_male': 0.9233540484553724,\n",
       " 'nongerman_female': 0.8706408345752608}"
      ]
     },
     "execution_count": 69,
     "metadata": {},
     "output_type": "execute_result"
    }
   ],
   "source": [
    "cond_coverage"
   ]
  },
  {
   "cell_type": "code",
   "execution_count": 70,
   "id": "f5093324-c3dd-4d63-bc4c-8d945e5c8bbb",
   "metadata": {
    "execution": {
     "iopub.execute_input": "2025-07-30T21:46:10.758506Z",
     "iopub.status.busy": "2025-07-30T21:46:10.758257Z",
     "iopub.status.idle": "2025-07-30T21:46:10.763547Z",
     "shell.execute_reply": "2025-07-30T21:46:10.762877Z"
    },
    "papermill": {
     "duration": 0.020608,
     "end_time": "2025-07-30T21:46:10.764852",
     "exception": false,
     "start_time": "2025-07-30T21:46:10.744244",
     "status": "completed"
    },
    "tags": []
   },
   "outputs": [],
   "source": [
    "for subgroup, cov in cond_coverage.items():\n",
    "    cp_metrics_df[f\"cov_{subgroup}\"] = cov"
   ]
  },
  {
   "cell_type": "code",
   "execution_count": 71,
   "id": "6e872e10-dbe5-49e8-b554-5030c98ff75d",
   "metadata": {
    "execution": {
     "iopub.execute_input": "2025-07-30T21:46:10.793646Z",
     "iopub.status.busy": "2025-07-30T21:46:10.793273Z",
     "iopub.status.idle": "2025-07-30T21:46:10.807339Z",
     "shell.execute_reply": "2025-07-30T21:46:10.806587Z"
    },
    "papermill": {
     "duration": 0.029825,
     "end_time": "2025-07-30T21:46:10.808748",
     "exception": false,
     "start_time": "2025-07-30T21:46:10.778923",
     "status": "completed"
    },
    "tags": []
   },
   "outputs": [
    {
     "data": {
      "text/html": [
       "<div>\n",
       "<style scoped>\n",
       "    .dataframe tbody tr th:only-of-type {\n",
       "        vertical-align: middle;\n",
       "    }\n",
       "\n",
       "    .dataframe tbody tr th {\n",
       "        vertical-align: top;\n",
       "    }\n",
       "\n",
       "    .dataframe thead th {\n",
       "        text-align: right;\n",
       "    }\n",
       "</style>\n",
       "<table border=\"1\" class=\"dataframe\">\n",
       "  <thead>\n",
       "    <tr style=\"text-align: right;\">\n",
       "      <th></th>\n",
       "      <th>universe_id</th>\n",
       "      <th>universe_training_year</th>\n",
       "      <th>universe_training_size</th>\n",
       "      <th>universe_scale</th>\n",
       "      <th>universe_model</th>\n",
       "      <th>universe_exclude_features</th>\n",
       "      <th>universe_exclude_subgroups</th>\n",
       "      <th>q_hat</th>\n",
       "      <th>coverage</th>\n",
       "      <th>avg_size</th>\n",
       "      <th>cov_frau1</th>\n",
       "      <th>cov_nongerman</th>\n",
       "      <th>cov_nongerman_male</th>\n",
       "      <th>cov_nongerman_female</th>\n",
       "    </tr>\n",
       "  </thead>\n",
       "  <tbody>\n",
       "    <tr>\n",
       "      <th>0</th>\n",
       "      <td>bd41f666ee467b2781956863188cdf1f</td>\n",
       "      <td>2010_14</td>\n",
       "      <td>1k</td>\n",
       "      <td>scale</td>\n",
       "      <td>rf</td>\n",
       "      <td>sex</td>\n",
       "      <td>drop-non-german</td>\n",
       "      <td>0.65</td>\n",
       "      <td>0.914257</td>\n",
       "      <td>1.153261</td>\n",
       "      <td>0.91174</td>\n",
       "      <td>0.903497</td>\n",
       "      <td>0.923354</td>\n",
       "      <td>0.870641</td>\n",
       "    </tr>\n",
       "  </tbody>\n",
       "</table>\n",
       "</div>"
      ],
      "text/plain": [
       "                        universe_id universe_training_year  \\\n",
       "0  bd41f666ee467b2781956863188cdf1f                2010_14   \n",
       "\n",
       "  universe_training_size universe_scale universe_model  \\\n",
       "0                     1k          scale             rf   \n",
       "\n",
       "  universe_exclude_features universe_exclude_subgroups  q_hat  coverage  \\\n",
       "0                       sex            drop-non-german   0.65  0.914257   \n",
       "\n",
       "   avg_size  cov_frau1  cov_nongerman  cov_nongerman_male  \\\n",
       "0  1.153261    0.91174       0.903497            0.923354   \n",
       "\n",
       "   cov_nongerman_female  \n",
       "0              0.870641  "
      ]
     },
     "execution_count": 71,
     "metadata": {},
     "output_type": "execute_result"
    }
   ],
   "source": [
    "cp_metrics_df"
   ]
  },
  {
   "cell_type": "markdown",
   "id": "33774451",
   "metadata": {
    "papermill": {
     "duration": 0.013721,
     "end_time": "2025-07-30T21:46:10.837146",
     "exception": false,
     "start_time": "2025-07-30T21:46:10.823425",
     "status": "completed"
    },
    "tags": []
   },
   "source": [
    "# (Fairness) Metrics"
   ]
  },
  {
   "cell_type": "code",
   "execution_count": 72,
   "id": "debc5d62",
   "metadata": {
    "execution": {
     "iopub.execute_input": "2025-07-30T21:46:10.866785Z",
     "iopub.status.busy": "2025-07-30T21:46:10.866280Z",
     "iopub.status.idle": "2025-07-30T21:46:10.880572Z",
     "shell.execute_reply": "2025-07-30T21:46:10.879801Z"
    },
    "papermill": {
     "duration": 0.030913,
     "end_time": "2025-07-30T21:46:10.882134",
     "exception": false,
     "start_time": "2025-07-30T21:46:10.851221",
     "status": "completed"
    },
    "tags": []
   },
   "outputs": [],
   "source": [
    "# do I need to include maxdeutsch1.missing?\n",
    "\n",
    "import numpy as np\n",
    "\n",
    "colname_to_bin = \"maxdeutsch1\"\n",
    "majority_value = org_train[colname_to_bin].mode()[0]\n",
    "\n",
    "org_test[\"majmin\"] = np.where(org_test[colname_to_bin] == majority_value, \"majority\", \"minority\")"
   ]
  },
  {
   "cell_type": "code",
   "execution_count": 73,
   "id": "06a50de5",
   "metadata": {
    "execution": {
     "iopub.execute_input": "2025-07-30T21:46:10.911644Z",
     "iopub.status.busy": "2025-07-30T21:46:10.911133Z",
     "iopub.status.idle": "2025-07-30T21:46:12.517535Z",
     "shell.execute_reply": "2025-07-30T21:46:12.516641Z"
    },
    "papermill": {
     "duration": 1.622775,
     "end_time": "2025-07-30T21:46:12.519384",
     "exception": false,
     "start_time": "2025-07-30T21:46:10.896609",
     "status": "completed"
    },
    "tags": []
   },
   "outputs": [],
   "source": [
    "example_universe = universe.copy()\n",
    "example_universe[\"cutoff\"] = example_universe[\"cutoff\"][0]\n",
    "example_universe[\"eval_fairness_grouping\"] = example_universe[\"eval_fairness_grouping\"][0]\n",
    "fairness_dict, metric_frame = universe_analysis.compute_metrics(\n",
    "    example_universe,\n",
    "    y_pred_prob=probs_test,\n",
    "    y_test=y_true,\n",
    "    org_test=org_test,\n",
    ")"
   ]
  },
  {
   "cell_type": "markdown",
   "id": "f95d4e02",
   "metadata": {
    "papermill": {
     "duration": 0.026293,
     "end_time": "2025-07-30T21:46:12.572835",
     "exception": false,
     "start_time": "2025-07-30T21:46:12.546542",
     "status": "completed"
    },
    "tags": []
   },
   "source": [
    "# Overall"
   ]
  },
  {
   "cell_type": "markdown",
   "id": "bdee4871",
   "metadata": {
    "papermill": {
     "duration": 0.025373,
     "end_time": "2025-07-30T21:46:12.625030",
     "exception": false,
     "start_time": "2025-07-30T21:46:12.599657",
     "status": "completed"
    },
    "tags": []
   },
   "source": [
    "Fairness\n",
    "Main fairness target: Equalized Odds. Seems to be a better fit than equal opportunity, since we're not only interested in Y = 1. Seems to be a better fit than demographic parity, since we also care about accuracy, not just equal distribution of preds.\n",
    "\n",
    "Pick column for computation of fairness metrics\n",
    "\n",
    "Performance\n",
    "Overall performance measures, most interesting in relation to the measures split by group below"
   ]
  },
  {
   "cell_type": "code",
   "execution_count": 74,
   "id": "c4e067c6",
   "metadata": {
    "execution": {
     "iopub.execute_input": "2025-07-30T21:46:12.681018Z",
     "iopub.status.busy": "2025-07-30T21:46:12.680249Z",
     "iopub.status.idle": "2025-07-30T21:46:12.689091Z",
     "shell.execute_reply": "2025-07-30T21:46:12.688087Z"
    },
    "papermill": {
     "duration": 0.037856,
     "end_time": "2025-07-30T21:46:12.690762",
     "exception": false,
     "start_time": "2025-07-30T21:46:12.652906",
     "status": "completed"
    },
    "tags": []
   },
   "outputs": [
    {
     "data": {
      "text/plain": [
       "accuracy                   0.195642\n",
       "balanced accuracy          0.532041\n",
       "f1                         0.238982\n",
       "precision                  0.135996\n",
       "false positive rate        0.920450\n",
       "false negative rate        0.015468\n",
       "selection rate             0.928670\n",
       "count                  89710.000000\n",
       "dtype: float64"
      ]
     },
     "execution_count": 74,
     "metadata": {},
     "output_type": "execute_result"
    }
   ],
   "source": [
    "metric_frame.overall"
   ]
  },
  {
   "cell_type": "markdown",
   "id": "e968fe9d",
   "metadata": {
    "papermill": {
     "duration": 0.02581,
     "end_time": "2025-07-30T21:46:12.743523",
     "exception": false,
     "start_time": "2025-07-30T21:46:12.717713",
     "status": "completed"
    },
    "tags": []
   },
   "source": [
    "By Group"
   ]
  },
  {
   "cell_type": "code",
   "execution_count": 75,
   "id": "ec325bce",
   "metadata": {
    "execution": {
     "iopub.execute_input": "2025-07-30T21:46:12.799453Z",
     "iopub.status.busy": "2025-07-30T21:46:12.798944Z",
     "iopub.status.idle": "2025-07-30T21:46:12.816409Z",
     "shell.execute_reply": "2025-07-30T21:46:12.815282Z"
    },
    "papermill": {
     "duration": 0.049197,
     "end_time": "2025-07-30T21:46:12.818209",
     "exception": false,
     "start_time": "2025-07-30T21:46:12.769012",
     "status": "completed"
    },
    "tags": []
   },
   "outputs": [
    {
     "data": {
      "text/html": [
       "<div>\n",
       "<style scoped>\n",
       "    .dataframe tbody tr th:only-of-type {\n",
       "        vertical-align: middle;\n",
       "    }\n",
       "\n",
       "    .dataframe tbody tr th {\n",
       "        vertical-align: top;\n",
       "    }\n",
       "\n",
       "    .dataframe thead th {\n",
       "        text-align: right;\n",
       "    }\n",
       "</style>\n",
       "<table border=\"1\" class=\"dataframe\">\n",
       "  <thead>\n",
       "    <tr style=\"text-align: right;\">\n",
       "      <th></th>\n",
       "      <th>accuracy</th>\n",
       "      <th>balanced accuracy</th>\n",
       "      <th>f1</th>\n",
       "      <th>precision</th>\n",
       "      <th>false positive rate</th>\n",
       "      <th>false negative rate</th>\n",
       "      <th>selection rate</th>\n",
       "      <th>count</th>\n",
       "    </tr>\n",
       "    <tr>\n",
       "      <th>majmin</th>\n",
       "      <th></th>\n",
       "      <th></th>\n",
       "      <th></th>\n",
       "      <th></th>\n",
       "      <th></th>\n",
       "      <th></th>\n",
       "      <th></th>\n",
       "      <th></th>\n",
       "    </tr>\n",
       "  </thead>\n",
       "  <tbody>\n",
       "    <tr>\n",
       "      <th>majority</th>\n",
       "      <td>0.200159</td>\n",
       "      <td>0.533577</td>\n",
       "      <td>0.245873</td>\n",
       "      <td>0.140433</td>\n",
       "      <td>0.919607</td>\n",
       "      <td>0.013239</td>\n",
       "      <td>0.928481</td>\n",
       "      <td>69170.0</td>\n",
       "    </tr>\n",
       "    <tr>\n",
       "      <th>minority</th>\n",
       "      <td>0.180428</td>\n",
       "      <td>0.526348</td>\n",
       "      <td>0.215418</td>\n",
       "      <td>0.121071</td>\n",
       "      <td>0.923234</td>\n",
       "      <td>0.024071</td>\n",
       "      <td>0.929309</td>\n",
       "      <td>20540.0</td>\n",
       "    </tr>\n",
       "  </tbody>\n",
       "</table>\n",
       "</div>"
      ],
      "text/plain": [
       "          accuracy  balanced accuracy        f1  precision  \\\n",
       "majmin                                                       \n",
       "majority  0.200159           0.533577  0.245873   0.140433   \n",
       "minority  0.180428           0.526348  0.215418   0.121071   \n",
       "\n",
       "          false positive rate  false negative rate  selection rate    count  \n",
       "majmin                                                                       \n",
       "majority             0.919607             0.013239        0.928481  69170.0  \n",
       "minority             0.923234             0.024071        0.929309  20540.0  "
      ]
     },
     "execution_count": 75,
     "metadata": {},
     "output_type": "execute_result"
    }
   ],
   "source": [
    "metric_frame.by_group"
   ]
  },
  {
   "cell_type": "code",
   "execution_count": 76,
   "id": "a9ddbe63",
   "metadata": {
    "execution": {
     "iopub.execute_input": "2025-07-30T21:46:12.875710Z",
     "iopub.status.busy": "2025-07-30T21:46:12.874778Z",
     "iopub.status.idle": "2025-07-30T21:46:15.377506Z",
     "shell.execute_reply": "2025-07-30T21:46:15.376452Z"
    },
    "papermill": {
     "duration": 2.533079,
     "end_time": "2025-07-30T21:46:15.379056",
     "exception": false,
     "start_time": "2025-07-30T21:46:12.845977",
     "status": "completed"
    },
    "tags": []
   },
   "outputs": [
    {
     "data": {
      "text/plain": [
       "array([[<Axes: title={'center': 'accuracy'}, xlabel='majmin'>,\n",
       "        <Axes: title={'center': 'balanced accuracy'}, xlabel='majmin'>,\n",
       "        <Axes: title={'center': 'f1'}, xlabel='majmin'>],\n",
       "       [<Axes: title={'center': 'precision'}, xlabel='majmin'>,\n",
       "        <Axes: title={'center': 'false positive rate'}, xlabel='majmin'>,\n",
       "        <Axes: title={'center': 'false negative rate'}, xlabel='majmin'>],\n",
       "       [<Axes: title={'center': 'selection rate'}, xlabel='majmin'>,\n",
       "        <Axes: title={'center': 'count'}, xlabel='majmin'>,\n",
       "        <Axes: xlabel='majmin'>]], dtype=object)"
      ]
     },
     "execution_count": 76,
     "metadata": {},
     "output_type": "execute_result"
    },
    {
     "data": {
      "image/png": "[encoded data removed]",
      "text/plain": [
       "<Figure size 1200x800 with 9 Axes>"
      ]
     },
     "metadata": {},
     "output_type": "display_data"
    }
   ],
   "source": [
    "# In a graphic\n",
    "metric_frame.by_group.plot.bar(\n",
    "    subplots=True,\n",
    "    layout=[3, 3],\n",
    "    legend=False,\n",
    "    figsize=[12, 8],\n",
    "    title=\"Show all metrics\",\n",
    ")"
   ]
  },
  {
   "cell_type": "markdown",
   "id": "f57a0bac",
   "metadata": {
    "papermill": {
     "duration": 0.026686,
     "end_time": "2025-07-30T21:46:15.434082",
     "exception": false,
     "start_time": "2025-07-30T21:46:15.407396",
     "status": "completed"
    },
    "tags": []
   },
   "source": [
    "# Final Output"
   ]
  },
  {
   "cell_type": "code",
   "execution_count": 77,
   "id": "96d280a3",
   "metadata": {
    "execution": {
     "iopub.execute_input": "2025-07-30T21:46:15.530074Z",
     "iopub.status.busy": "2025-07-30T21:46:15.529068Z",
     "iopub.status.idle": "2025-07-30T21:46:15.536642Z",
     "shell.execute_reply": "2025-07-30T21:46:15.535756Z"
    },
    "papermill": {
     "duration": 0.039101,
     "end_time": "2025-07-30T21:46:15.538092",
     "exception": false,
     "start_time": "2025-07-30T21:46:15.498991",
     "status": "completed"
    },
    "tags": []
   },
   "outputs": [
    {
     "data": {
      "text/plain": [
       "4"
      ]
     },
     "execution_count": 77,
     "metadata": {},
     "output_type": "execute_result"
    }
   ],
   "source": [
    "sub_universes = universe_analysis.generate_sub_universes()\n",
    "len(sub_universes)"
   ]
  },
  {
   "cell_type": "code",
   "execution_count": 78,
   "id": "92adf7ba",
   "metadata": {
    "execution": {
     "iopub.execute_input": "2025-07-30T21:46:15.598291Z",
     "iopub.status.busy": "2025-07-30T21:46:15.597333Z",
     "iopub.status.idle": "2025-07-30T21:46:15.603348Z",
     "shell.execute_reply": "2025-07-30T21:46:15.602442Z"
    },
    "papermill": {
     "duration": 0.039369,
     "end_time": "2025-07-30T21:46:15.604938",
     "exception": false,
     "start_time": "2025-07-30T21:46:15.565569",
     "status": "completed"
    },
    "tags": []
   },
   "outputs": [],
   "source": [
    "def filter_sub_universe_data(sub_universe, org_test):\n",
    "    # Keep all rows — no filtering\n",
    "    keep_rows_mask = np.ones(org_test.shape[0], dtype=bool)\n",
    "\n",
    "    print(f\"[INFO] Keeping all rows: {keep_rows_mask.sum()} rows retained.\")\n",
    "    return keep_rows_mask"
   ]
  },
  {
   "cell_type": "code",
   "execution_count": 79,
   "id": "4a759155",
   "metadata": {
    "execution": {
     "iopub.execute_input": "2025-07-30T21:46:15.664278Z",
     "iopub.status.busy": "2025-07-30T21:46:15.663605Z",
     "iopub.status.idle": "2025-07-30T21:46:26.759394Z",
     "shell.execute_reply": "2025-07-30T21:46:26.758178Z"
    },
    "papermill": {
     "duration": 11.128472,
     "end_time": "2025-07-30T21:46:26.761424",
     "exception": false,
     "start_time": "2025-07-30T21:46:15.632952",
     "status": "completed"
    },
    "tags": []
   },
   "outputs": [
    {
     "name": "stdout",
     "output_type": "stream",
     "text": [
      "Stopping execution_time clock.\n",
      "[INFO] Keeping all rows: 89710 rows retained.\n"
     ]
    },
    {
     "name": "stdout",
     "output_type": "stream",
     "text": [
      "[INFO] Keeping all rows: 89710 rows retained.\n"
     ]
    },
    {
     "name": "stdout",
     "output_type": "stream",
     "text": [
      "[INFO] Keeping all rows: 89710 rows retained.\n"
     ]
    },
    {
     "name": "stdout",
     "output_type": "stream",
     "text": [
      "[INFO] Keeping all rows: 89710 rows retained.\n"
     ]
    },
    {
     "data": {
      "text/html": [
       "<div>\n",
       "<style scoped>\n",
       "    .dataframe tbody tr th:only-of-type {\n",
       "        vertical-align: middle;\n",
       "    }\n",
       "\n",
       "    .dataframe tbody tr th {\n",
       "        vertical-align: top;\n",
       "    }\n",
       "\n",
       "    .dataframe thead th {\n",
       "        text-align: right;\n",
       "    }\n",
       "</style>\n",
       "<table border=\"1\" class=\"dataframe\">\n",
       "  <thead>\n",
       "    <tr style=\"text-align: right;\">\n",
       "      <th></th>\n",
       "      <th>run_no</th>\n",
       "      <th>universe_id</th>\n",
       "      <th>universe_settings</th>\n",
       "      <th>execution_time</th>\n",
       "      <th>test_size_n</th>\n",
       "      <th>test_size_frac</th>\n",
       "      <th>fair_main_equalized_odds_difference</th>\n",
       "      <th>fair_main_equalized_odds_ratio</th>\n",
       "      <th>fair_main_demographic_parity_difference</th>\n",
       "      <th>fair_main_demographic_parity_ratio</th>\n",
       "      <th>...</th>\n",
       "      <th>perf_grp_precision_0</th>\n",
       "      <th>perf_grp_precision_1</th>\n",
       "      <th>perf_grp_false positive rate_0</th>\n",
       "      <th>perf_grp_false positive rate_1</th>\n",
       "      <th>perf_grp_false negative rate_0</th>\n",
       "      <th>perf_grp_false negative rate_1</th>\n",
       "      <th>perf_grp_selection rate_0</th>\n",
       "      <th>perf_grp_selection rate_1</th>\n",
       "      <th>perf_grp_count_0</th>\n",
       "      <th>perf_grp_count_1</th>\n",
       "    </tr>\n",
       "  </thead>\n",
       "  <tbody>\n",
       "    <tr>\n",
       "      <th>0</th>\n",
       "      <td>14</td>\n",
       "      <td>bd41f666ee467b2781956863188cdf1f</td>\n",
       "      <td>{\"cutoff\": \"quantile_0.1\", \"eval_fairness_grou...</td>\n",
       "      <td>31.923917</td>\n",
       "      <td>89710</td>\n",
       "      <td>1.0</td>\n",
       "      <td>0.010832</td>\n",
       "      <td>0.989022</td>\n",
       "      <td>0.000828</td>\n",
       "      <td>0.999109</td>\n",
       "      <td>...</td>\n",
       "      <td>NaN</td>\n",
       "      <td>NaN</td>\n",
       "      <td>NaN</td>\n",
       "      <td>NaN</td>\n",
       "      <td>NaN</td>\n",
       "      <td>NaN</td>\n",
       "      <td>NaN</td>\n",
       "      <td>NaN</td>\n",
       "      <td>NaN</td>\n",
       "      <td>NaN</td>\n",
       "    </tr>\n",
       "    <tr>\n",
       "      <th>0</th>\n",
       "      <td>14</td>\n",
       "      <td>bd41f666ee467b2781956863188cdf1f</td>\n",
       "      <td>{\"cutoff\": \"quantile_0.1\", \"eval_fairness_grou...</td>\n",
       "      <td>31.923917</td>\n",
       "      <td>89710</td>\n",
       "      <td>1.0</td>\n",
       "      <td>0.010832</td>\n",
       "      <td>0.989022</td>\n",
       "      <td>0.000828</td>\n",
       "      <td>0.999109</td>\n",
       "      <td>...</td>\n",
       "      <td>0.121071</td>\n",
       "      <td>0.140433</td>\n",
       "      <td>0.923234</td>\n",
       "      <td>0.919607</td>\n",
       "      <td>0.024071</td>\n",
       "      <td>0.013239</td>\n",
       "      <td>0.929309</td>\n",
       "      <td>0.928481</td>\n",
       "      <td>20540.0</td>\n",
       "      <td>69170.0</td>\n",
       "    </tr>\n",
       "    <tr>\n",
       "      <th>0</th>\n",
       "      <td>14</td>\n",
       "      <td>bd41f666ee467b2781956863188cdf1f</td>\n",
       "      <td>{\"cutoff\": \"quantile_0.25\", \"eval_fairness_gro...</td>\n",
       "      <td>31.923917</td>\n",
       "      <td>89710</td>\n",
       "      <td>1.0</td>\n",
       "      <td>0.058525</td>\n",
       "      <td>0.937392</td>\n",
       "      <td>0.010963</td>\n",
       "      <td>0.985782</td>\n",
       "      <td>...</td>\n",
       "      <td>NaN</td>\n",
       "      <td>NaN</td>\n",
       "      <td>NaN</td>\n",
       "      <td>NaN</td>\n",
       "      <td>NaN</td>\n",
       "      <td>NaN</td>\n",
       "      <td>NaN</td>\n",
       "      <td>NaN</td>\n",
       "      <td>NaN</td>\n",
       "      <td>NaN</td>\n",
       "    </tr>\n",
       "    <tr>\n",
       "      <th>0</th>\n",
       "      <td>14</td>\n",
       "      <td>bd41f666ee467b2781956863188cdf1f</td>\n",
       "      <td>{\"cutoff\": \"quantile_0.25\", \"eval_fairness_gro...</td>\n",
       "      <td>31.923917</td>\n",
       "      <td>89710</td>\n",
       "      <td>1.0</td>\n",
       "      <td>0.058525</td>\n",
       "      <td>0.937392</td>\n",
       "      <td>0.010963</td>\n",
       "      <td>0.985782</td>\n",
       "      <td>...</td>\n",
       "      <td>0.131022</td>\n",
       "      <td>0.162514</td>\n",
       "      <td>0.757319</td>\n",
       "      <td>0.733467</td>\n",
       "      <td>0.123733</td>\n",
       "      <td>0.065208</td>\n",
       "      <td>0.771032</td>\n",
       "      <td>0.760069</td>\n",
       "      <td>20540.0</td>\n",
       "      <td>69170.0</td>\n",
       "    </tr>\n",
       "  </tbody>\n",
       "</table>\n",
       "<p>4 rows × 50 columns</p>\n",
       "</div>"
      ],
      "text/plain": [
       "  run_no                       universe_id  \\\n",
       "0     14  bd41f666ee467b2781956863188cdf1f   \n",
       "0     14  bd41f666ee467b2781956863188cdf1f   \n",
       "0     14  bd41f666ee467b2781956863188cdf1f   \n",
       "0     14  bd41f666ee467b2781956863188cdf1f   \n",
       "\n",
       "                                   universe_settings  execution_time  \\\n",
       "0  {\"cutoff\": \"quantile_0.1\", \"eval_fairness_grou...       31.923917   \n",
       "0  {\"cutoff\": \"quantile_0.1\", \"eval_fairness_grou...       31.923917   \n",
       "0  {\"cutoff\": \"quantile_0.25\", \"eval_fairness_gro...       31.923917   \n",
       "0  {\"cutoff\": \"quantile_0.25\", \"eval_fairness_gro...       31.923917   \n",
       "\n",
       "   test_size_n  test_size_frac  fair_main_equalized_odds_difference  \\\n",
       "0        89710             1.0                             0.010832   \n",
       "0        89710             1.0                             0.010832   \n",
       "0        89710             1.0                             0.058525   \n",
       "0        89710             1.0                             0.058525   \n",
       "\n",
       "   fair_main_equalized_odds_ratio  fair_main_demographic_parity_difference  \\\n",
       "0                        0.989022                                 0.000828   \n",
       "0                        0.989022                                 0.000828   \n",
       "0                        0.937392                                 0.010963   \n",
       "0                        0.937392                                 0.010963   \n",
       "\n",
       "   fair_main_demographic_parity_ratio  ...  perf_grp_precision_0  \\\n",
       "0                            0.999109  ...                   NaN   \n",
       "0                            0.999109  ...              0.121071   \n",
       "0                            0.985782  ...                   NaN   \n",
       "0                            0.985782  ...              0.131022   \n",
       "\n",
       "   perf_grp_precision_1  perf_grp_false positive rate_0  \\\n",
       "0                   NaN                             NaN   \n",
       "0              0.140433                        0.923234   \n",
       "0                   NaN                             NaN   \n",
       "0              0.162514                        0.757319   \n",
       "\n",
       "   perf_grp_false positive rate_1  perf_grp_false negative rate_0  \\\n",
       "0                             NaN                             NaN   \n",
       "0                        0.919607                        0.024071   \n",
       "0                             NaN                             NaN   \n",
       "0                        0.733467                        0.123733   \n",
       "\n",
       "   perf_grp_false negative rate_1  perf_grp_selection rate_0  \\\n",
       "0                             NaN                        NaN   \n",
       "0                        0.013239                   0.929309   \n",
       "0                             NaN                        NaN   \n",
       "0                        0.065208                   0.771032   \n",
       "\n",
       "   perf_grp_selection rate_1  perf_grp_count_0  perf_grp_count_1  \n",
       "0                        NaN               NaN               NaN  \n",
       "0                   0.928481           20540.0           69170.0  \n",
       "0                        NaN               NaN               NaN  \n",
       "0                   0.760069           20540.0           69170.0  \n",
       "\n",
       "[4 rows x 50 columns]"
      ]
     },
     "execution_count": 79,
     "metadata": {},
     "output_type": "execute_result"
    }
   ],
   "source": [
    "final_output = universe_analysis.generate_final_output(\n",
    "    y_pred_prob=probs_test,\n",
    "    y_test=y_true,\n",
    "    org_test=org_test,\n",
    "    filter_data=filter_sub_universe_data,\n",
    "    cp_metrics_df=cp_metrics_df,\n",
    "    save=True,\n",
    ")\n",
    "final_output"
   ]
  },
  {
   "cell_type": "code",
   "execution_count": null,
   "id": "721ff514-cb11-46f8-b6fc-50392f74b5cb",
   "metadata": {
    "papermill": {
     "duration": 0.036195,
     "end_time": "2025-07-30T21:46:26.835521",
     "exception": false,
     "start_time": "2025-07-30T21:46:26.799326",
     "status": "completed"
    },
    "tags": []
   },
   "outputs": [],
   "source": []
  }
 ],
 "metadata": {
  "celltoolbar": "Tags",
  "kernelspec": {
   "display_name": "Python (CMA Fairness)",
   "language": "python",
   "name": "cma_fair_env"
  },
  "language_info": {
   "codemirror_mode": {
    "name": "ipython",
    "version": 3
   },
   "file_extension": ".py",
   "mimetype": "text/x-python",
   "name": "python",
   "nbconvert_exporter": "python",
   "pygments_lexer": "ipython3",
   "version": "3.10.12"
  },
  "papermill": {
   "default_parameters": {},
   "duration": 47.329714,
   "end_time": "2025-07-30T21:46:27.690101",
   "environment_variables": {},
   "exception": null,
   "input_path": "universe_analysis.ipynb",
   "output_path": "output/runs/14/notebooks/m_14-bd41f666ee467b2781956863188cdf1f.ipynb",
   "parameters": {
    "output_dir": "output",
    "run_no": "14",
    "seed": "2023",
    "universe": "{\"cutoff\": [\"quantile_0.1\", \"quantile_0.25\"], \"eval_fairness_grouping\": [\"majority-minority\", \"nationality-all\"], \"exclude_features\": \"sex\", \"exclude_subgroups\": \"drop-non-german\", \"model\": \"rf\", \"scale\": \"scale\", \"training_size\": \"1k\", \"training_year\": \"2010_14\"}",
    "universe_id": "bd41f666ee467b2781956863188cdf1f"
   },
   "start_time": "2025-07-30T21:45:40.360387",
   "version": "2.6.0"
  }
 },
 "nbformat": 4,
 "nbformat_minor": 5
}