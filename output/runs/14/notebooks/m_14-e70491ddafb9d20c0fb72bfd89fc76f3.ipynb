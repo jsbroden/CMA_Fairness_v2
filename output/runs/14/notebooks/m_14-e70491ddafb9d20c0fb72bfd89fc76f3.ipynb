{
 "cells": [
  {
   "cell_type": "code",
   "execution_count": 1,
   "id": "f159f837-637b-42ba-96b5-ec9a68c44524",
   "metadata": {
    "execution": {
     "iopub.execute_input": "2025-07-30T21:12:22.236971Z",
     "iopub.status.busy": "2025-07-30T21:12:22.236084Z",
     "iopub.status.idle": "2025-07-30T21:12:22.250124Z",
     "shell.execute_reply": "2025-07-30T21:12:22.249113Z"
    },
    "papermill": {
     "duration": 0.040099,
     "end_time": "2025-07-30T21:12:22.251795",
     "exception": false,
     "start_time": "2025-07-30T21:12:22.211696",
     "status": "completed"
    },
    "tags": []
   },
   "outputs": [
    {
     "name": "stdout",
     "output_type": "stream",
     "text": [
      "/dss/dsshome1/0C/ra93lal2/cma/CMA_Fairness_v2\n"
     ]
    },
    {
     "name": "stderr",
     "output_type": "stream",
     "text": [
      "/dss/dsshome1/0C/ra93lal2/.local/share/virtualenvs/CMA_Fairness_v2-3j10GkSs/lib/python3.10/site-packages/IPython/core/magics/osm.py:393: UserWarning: This is now an optional IPython functionality, using bookmarks requires you to install the `pickleshare` library.\n",
      "  bkms = self.shell.db.get('bookmarks', {})\n",
      "/dss/dsshome1/0C/ra93lal2/.local/share/virtualenvs/CMA_Fairness_v2-3j10GkSs/lib/python3.10/site-packages/IPython/core/magics/osm.py:417: UserWarning: This is now an optional IPython functionality, setting dhist requires you to install the `pickleshare` library.\n",
      "  self.shell.db['dhist'] = compress_dhist(dhist)[-100:]\n"
     ]
    }
   ],
   "source": [
    "%cd ~/cma/CMA_Fairness_v2"
   ]
  },
  {
   "cell_type": "markdown",
   "id": "de2603b9",
   "metadata": {
    "papermill": {
     "duration": 0.020254,
     "end_time": "2025-07-30T21:12:22.293583",
     "exception": false,
     "start_time": "2025-07-30T21:12:22.273329",
     "status": "completed"
    },
    "tags": []
   },
   "source": [
    "The following cell holds the definition of our parameters, these values can be overriden by rendering the with e.g. the following command:\n",
    "\n",
    "papermill -p alpha 0.2 -p ratio 0.3 universe_analysis.ipynb output/test_run.ipynb"
   ]
  },
  {
   "cell_type": "code",
   "execution_count": 2,
   "id": "a80968a0-40bb-4fa9-85ef-2d5eefb01975",
   "metadata": {
    "execution": {
     "iopub.execute_input": "2025-07-30T21:12:22.332914Z",
     "iopub.status.busy": "2025-07-30T21:12:22.332380Z",
     "iopub.status.idle": "2025-07-30T21:12:22.338175Z",
     "shell.execute_reply": "2025-07-30T21:12:22.337247Z"
    },
    "papermill": {
     "duration": 0.025836,
     "end_time": "2025-07-30T21:12:22.339904",
     "exception": false,
     "start_time": "2025-07-30T21:12:22.314068",
     "status": "completed"
    },
    "tags": []
   },
   "outputs": [
    {
     "name": "stdout",
     "output_type": "stream",
     "text": [
      "Current working directory: /dss/dsshome1/0C/ra93lal2/cma/CMA_Fairness_v2\n"
     ]
    }
   ],
   "source": [
    "import os\n",
    "print(\"Current working directory:\", os.getcwd())"
   ]
  },
  {
   "cell_type": "code",
   "execution_count": 3,
   "id": "2dce4c03",
   "metadata": {
    "execution": {
     "iopub.execute_input": "2025-07-30T21:12:22.382917Z",
     "iopub.status.busy": "2025-07-30T21:12:22.382370Z",
     "iopub.status.idle": "2025-07-30T21:12:22.388976Z",
     "shell.execute_reply": "2025-07-30T21:12:22.388000Z"
    },
    "papermill": {
     "duration": 0.028545,
     "end_time": "2025-07-30T21:12:22.390569",
     "exception": false,
     "start_time": "2025-07-30T21:12:22.362024",
     "status": "completed"
    },
    "tags": [
     "parameters"
    ]
   },
   "outputs": [],
   "source": [
    "run_no = 0\n",
    "universe_id = \"test\"\n",
    "universe = {\n",
    "    \"training_size\": \"25k\", # \"25k\", \"5k\", \"1k\"\n",
    "    \"training_year\": \"2014\", # \"2014\", \"2012_14\", \"2010_14\"\n",
    "    \"scale\": \"scale\", # \"scale\", \"do-not-scale\",\n",
    "    #\"stratify_split\": \"target\", # \"none\", \"target\", \"protected-attribute\", \"both\",\n",
    "    \"model\": \"elasticnet\", # \"logreg\", \"penalized_logreg\", \"rf\", \"gbm\", \"elasticnet\"\n",
    "    \"cutoff\": [\"quantile_0.15\", \"quantile_0.30\"],\n",
    "    \"exclude_features\": \"age\", # \"none\", \"nationality\", \"sex\", \"nationality-sex\", \"age\"\n",
    "    \"exclude_subgroups\": \"keep-all\", # \"keep-all\", \"drop-non-german\"\n",
    "    \"eval_fairness_grouping\": [\"majority-minority\", \"nationality-all\"]\n",
    "}\n",
    "\n",
    "output_dir=\"./output\"\n",
    "seed=0"
   ]
  },
  {
   "cell_type": "code",
   "execution_count": 4,
   "id": "d8017a8a",
   "metadata": {
    "execution": {
     "iopub.execute_input": "2025-07-30T21:12:22.430244Z",
     "iopub.status.busy": "2025-07-30T21:12:22.429734Z",
     "iopub.status.idle": "2025-07-30T21:12:22.435353Z",
     "shell.execute_reply": "2025-07-30T21:12:22.434427Z"
    },
    "papermill": {
     "duration": 0.024261,
     "end_time": "2025-07-30T21:12:22.437065",
     "exception": false,
     "start_time": "2025-07-30T21:12:22.412804",
     "status": "completed"
    },
    "tags": [
     "injected-parameters"
    ]
   },
   "outputs": [],
   "source": [
    "# Parameters\n",
    "universe_id = \"e70491ddafb9d20c0fb72bfd89fc76f3\"\n",
    "run_no = \"14\"\n",
    "universe = \"{\\\"cutoff\\\": [\\\"quantile_0.1\\\", \\\"quantile_0.25\\\"], \\\"eval_fairness_grouping\\\": [\\\"majority-minority\\\", \\\"nationality-all\\\"], \\\"exclude_features\\\": \\\"age\\\", \\\"exclude_subgroups\\\": \\\"keep-all\\\", \\\"model\\\": \\\"rf\\\", \\\"scale\\\": \\\"scale\\\", \\\"training_size\\\": \\\"5k\\\", \\\"training_year\\\": \\\"2010_14\\\"}\"\n",
    "output_dir = \"output\"\n",
    "seed = \"2023\"\n"
   ]
  },
  {
   "cell_type": "code",
   "execution_count": 5,
   "id": "1650acaf",
   "metadata": {
    "execution": {
     "iopub.execute_input": "2025-07-30T21:12:22.479232Z",
     "iopub.status.busy": "2025-07-30T21:12:22.478772Z",
     "iopub.status.idle": "2025-07-30T21:12:22.483844Z",
     "shell.execute_reply": "2025-07-30T21:12:22.483030Z"
    },
    "papermill": {
     "duration": 0.026187,
     "end_time": "2025-07-30T21:12:22.485580",
     "exception": false,
     "start_time": "2025-07-30T21:12:22.459393",
     "status": "completed"
    },
    "tags": []
   },
   "outputs": [],
   "source": [
    "import json\n",
    "# Parse universe into dict if it is passed as a string\n",
    "if isinstance(universe, str):\n",
    "    universe = json.loads(universe)"
   ]
  },
  {
   "cell_type": "code",
   "execution_count": 6,
   "id": "16620c48",
   "metadata": {
    "execution": {
     "iopub.execute_input": "2025-07-30T21:12:22.533172Z",
     "iopub.status.busy": "2025-07-30T21:12:22.532332Z",
     "iopub.status.idle": "2025-07-30T21:12:22.577346Z",
     "shell.execute_reply": "2025-07-30T21:12:22.576646Z"
    },
    "papermill": {
     "duration": 0.07619,
     "end_time": "2025-07-30T21:12:22.585388",
     "exception": false,
     "start_time": "2025-07-30T21:12:22.509198",
     "status": "completed"
    },
    "tags": []
   },
   "outputs": [],
   "source": [
    "# Auto-reload the custom package\n",
    "%load_ext autoreload\n",
    "%autoreload 1\n",
    "%aimport fairness_multiverse"
   ]
  },
  {
   "cell_type": "code",
   "execution_count": 7,
   "id": "01c5c9f3",
   "metadata": {
    "execution": {
     "iopub.execute_input": "2025-07-30T21:12:22.632783Z",
     "iopub.status.busy": "2025-07-30T21:12:22.631844Z",
     "iopub.status.idle": "2025-07-30T21:12:24.690280Z",
     "shell.execute_reply": "2025-07-30T21:12:24.689035Z"
    },
    "papermill": {
     "duration": 2.084735,
     "end_time": "2025-07-30T21:12:24.692394",
     "exception": false,
     "start_time": "2025-07-30T21:12:22.607659",
     "status": "completed"
    },
    "tags": []
   },
   "outputs": [],
   "source": [
    "from fairness_multiverse.universe import UniverseAnalysis\n",
    "\n",
    "universe_analysis = UniverseAnalysis(\n",
    "    run_no = run_no,\n",
    "    universe_id = universe_id,\n",
    "    universe = universe,\n",
    "    output_dir=output_dir,\n",
    ")"
   ]
  },
  {
   "cell_type": "code",
   "execution_count": 8,
   "id": "106241f5",
   "metadata": {
    "execution": {
     "iopub.execute_input": "2025-07-30T21:12:24.756965Z",
     "iopub.status.busy": "2025-07-30T21:12:24.755981Z",
     "iopub.status.idle": "2025-07-30T21:12:24.762808Z",
     "shell.execute_reply": "2025-07-30T21:12:24.761847Z"
    },
    "papermill": {
     "duration": 0.031283,
     "end_time": "2025-07-30T21:12:24.764628",
     "exception": false,
     "start_time": "2025-07-30T21:12:24.733345",
     "status": "completed"
    },
    "tags": []
   },
   "outputs": [
    {
     "name": "stdout",
     "output_type": "stream",
     "text": [
      "Using Seed: 2023\n"
     ]
    }
   ],
   "source": [
    "import numpy as np\n",
    "parsed_seed = int(seed)\n",
    "np.random.seed(parsed_seed)\n",
    "print(f\"Using Seed: {parsed_seed}\")"
   ]
  },
  {
   "cell_type": "markdown",
   "id": "e0ebdc57",
   "metadata": {
    "papermill": {
     "duration": 0.010894,
     "end_time": "2025-07-30T21:12:24.796069",
     "exception": false,
     "start_time": "2025-07-30T21:12:24.785175",
     "status": "completed"
    },
    "tags": []
   },
   "source": [
    "# Loading Data"
   ]
  },
  {
   "cell_type": "markdown",
   "id": "681925a3",
   "metadata": {
    "papermill": {
     "duration": 0.010915,
     "end_time": "2025-07-30T21:12:24.817942",
     "exception": false,
     "start_time": "2025-07-30T21:12:24.807027",
     "status": "completed"
    },
    "tags": []
   },
   "source": [
    "Load siab_train, siab_test, siab_calib and/or \n",
    "load siab_train_features, siab_train_labels"
   ]
  },
  {
   "cell_type": "code",
   "execution_count": 9,
   "id": "f0496b8a",
   "metadata": {
    "execution": {
     "iopub.execute_input": "2025-07-30T21:12:24.845715Z",
     "iopub.status.busy": "2025-07-30T21:12:24.845267Z",
     "iopub.status.idle": "2025-07-30T21:12:38.094391Z",
     "shell.execute_reply": "2025-07-30T21:12:38.093150Z"
    },
    "papermill": {
     "duration": 13.266982,
     "end_time": "2025-07-30T21:12:38.096249",
     "exception": false,
     "start_time": "2025-07-30T21:12:24.829267",
     "status": "completed"
    },
    "tags": []
   },
   "outputs": [
    {
     "name": "stdout",
     "output_type": "stream",
     "text": [
      "Loading SIAB data from cache: data/siab_cached.csv.gz\n"
     ]
    },
    {
     "name": "stdout",
     "output_type": "stream",
     "text": [
      "(643690, 164)\n"
     ]
    }
   ],
   "source": [
    "from pathlib import Path\n",
    "import pandas as pd\n",
    "\n",
    "# File paths\n",
    "raw_file = Path(\"data/raw/siab.csv\")\n",
    "cache_file = Path(\"data/siab_cached.csv.gz\")\n",
    "\n",
    "# Ensure cache directory exists\n",
    "cache_file.parent.mkdir(parents=True, exist_ok=True)\n",
    "\n",
    "# Load with simple caching\n",
    "if cache_file.exists():\n",
    "    print(f\"Loading SIAB data from cache: {cache_file}\")\n",
    "    siab = pd.read_csv(cache_file, compression='gzip')\n",
    "else:\n",
    "    print(f\"Cache not found. Reading raw SIAB data: {raw_file}\")\n",
    "    siab = pd.read_csv(raw_file)\n",
    "    siab.to_csv(cache_file, index=False, compression='gzip')\n",
    "    print(f\"Cached SIAB data to: {cache_file}\")\n",
    "\n",
    "# Now use `siab` DataFrame as needed\n",
    "print(siab.shape)"
   ]
  },
  {
   "cell_type": "code",
   "execution_count": 10,
   "id": "db0ca512-5f53-4dba-abdb-a2888bca41ba",
   "metadata": {
    "execution": {
     "iopub.execute_input": "2025-07-30T21:12:38.156818Z",
     "iopub.status.busy": "2025-07-30T21:12:38.156233Z",
     "iopub.status.idle": "2025-07-30T21:12:38.168492Z",
     "shell.execute_reply": "2025-07-30T21:12:38.161412Z"
    },
    "papermill": {
     "duration": 0.047997,
     "end_time": "2025-07-30T21:12:38.174860",
     "exception": false,
     "start_time": "2025-07-30T21:12:38.126863",
     "status": "completed"
    },
    "tags": []
   },
   "outputs": [],
   "source": [
    "#siab"
   ]
  },
  {
   "cell_type": "code",
   "execution_count": 11,
   "id": "a0edb063",
   "metadata": {
    "execution": {
     "iopub.execute_input": "2025-07-30T21:12:38.222754Z",
     "iopub.status.busy": "2025-07-30T21:12:38.222330Z",
     "iopub.status.idle": "2025-07-30T21:12:38.227379Z",
     "shell.execute_reply": "2025-07-30T21:12:38.226055Z"
    },
    "papermill": {
     "duration": 0.032282,
     "end_time": "2025-07-30T21:12:38.230142",
     "exception": false,
     "start_time": "2025-07-30T21:12:38.197860",
     "status": "completed"
    },
    "tags": []
   },
   "outputs": [],
   "source": [
    "#import pandas as pd\n",
    "#\n",
    "#X_train = pd.read_csv(\"./data/X_train.csv\")\n",
    "#y_train = pd.read_csv(\"./data/y_train.csv\")"
   ]
  },
  {
   "cell_type": "code",
   "execution_count": 12,
   "id": "63d08085",
   "metadata": {
    "execution": {
     "iopub.execute_input": "2025-07-30T21:12:38.287017Z",
     "iopub.status.busy": "2025-07-30T21:12:38.286624Z",
     "iopub.status.idle": "2025-07-30T21:12:38.291942Z",
     "shell.execute_reply": "2025-07-30T21:12:38.290939Z"
    },
    "papermill": {
     "duration": 0.040331,
     "end_time": "2025-07-30T21:12:38.297020",
     "exception": false,
     "start_time": "2025-07-30T21:12:38.256689",
     "status": "completed"
    },
    "tags": []
   },
   "outputs": [],
   "source": [
    "#X_test = pd.read_csv(\"./data/X_test.csv\")\n",
    "#y_true = pd.read_csv(\"./data/y_test.csv\")"
   ]
  },
  {
   "cell_type": "code",
   "execution_count": 13,
   "id": "98a8d0fa-1d3d-4ed8-bb2c-281470e24add",
   "metadata": {
    "execution": {
     "iopub.execute_input": "2025-07-30T21:12:38.342860Z",
     "iopub.status.busy": "2025-07-30T21:12:38.342281Z",
     "iopub.status.idle": "2025-07-30T21:12:38.347312Z",
     "shell.execute_reply": "2025-07-30T21:12:38.346520Z"
    },
    "papermill": {
     "duration": 0.029564,
     "end_time": "2025-07-30T21:12:38.348961",
     "exception": false,
     "start_time": "2025-07-30T21:12:38.319397",
     "status": "completed"
    },
    "tags": []
   },
   "outputs": [],
   "source": [
    "# Calibration data for conformal\n",
    "#X_calib = pd.read_csv(\"./data/X_calib.csv\")\n",
    "#y_calib = pd.read_csv(\"./data/y_calib.csv\")"
   ]
  },
  {
   "cell_type": "markdown",
   "id": "997051c5-15bd-4b69-9786-c3001a3ce484",
   "metadata": {
    "papermill": {
     "duration": 0.023557,
     "end_time": "2025-07-30T21:12:38.394636",
     "exception": false,
     "start_time": "2025-07-30T21:12:38.371079",
     "status": "completed"
    },
    "tags": []
   },
   "source": [
    "# Splitting Data and Setting Training Data Size"
   ]
  },
  {
   "cell_type": "code",
   "execution_count": 14,
   "id": "e993b61f-042d-41a6-8c81-f55681f86335",
   "metadata": {
    "execution": {
     "iopub.execute_input": "2025-07-30T21:12:38.440820Z",
     "iopub.status.busy": "2025-07-30T21:12:38.440437Z",
     "iopub.status.idle": "2025-07-30T21:12:38.454254Z",
     "shell.execute_reply": "2025-07-30T21:12:38.453225Z"
    },
    "papermill": {
     "duration": 0.044731,
     "end_time": "2025-07-30T21:12:38.461239",
     "exception": false,
     "start_time": "2025-07-30T21:12:38.416508",
     "status": "completed"
    },
    "tags": []
   },
   "outputs": [],
   "source": [
    "def sample_by_year_size(df,\n",
    "                        training_year: str,\n",
    "                        training_size: str,\n",
    "                        random_state: int = 42):\n",
    "    # --- parse training_year into a list of int years ---\n",
    "    if \"_\" in training_year:\n",
    "        start_str, end_str = training_year.split(\"_\", 1)\n",
    "        start = int(start_str)\n",
    "        end   = int(end_str) if len(end_str) == 4 else (int(end_str) + (start // 100)*100)\n",
    "        years = list(range(start, end + 1))\n",
    "    else:\n",
    "        years = [int(training_year)]\n",
    "\n",
    "    df = df[df[\"year\"].isin(years)].reset_index(drop=True)\n",
    "\n",
    "    # --- map training_size to total number of samples ---\n",
    "    total_map = {\"25k\": 25_000, \"5k\": 5_000, \"1k\": 1_000}\n",
    "    if training_size not in total_map:\n",
    "        return df  # e.g. \"all\"\n",
    "\n",
    "    total_samples = total_map[training_size]\n",
    "    n_years       = len(years)\n",
    "    base          = total_samples // n_years\n",
    "    remainder     = total_samples % n_years\n",
    "\n",
    "    # --- build a dict: year -> how many to sample ---\n",
    "    # give +1 to the first `remainder` years in ascending order\n",
    "    quotas = {\n",
    "        year: base + (1 if idx < remainder else 0)\n",
    "        for idx, year in enumerate(sorted(years))\n",
    "    }\n",
    "\n",
    "    # --- sample per‐year according to the quota dict ---\n",
    "    sampled = (\n",
    "        df\n",
    "        .groupby(\"year\", group_keys=False)\n",
    "        .apply(lambda grp: grp.sample(\n",
    "            n=min(len(grp), quotas[grp.name]),\n",
    "            random_state=random_state))\n",
    "        .reset_index(drop=True)\n",
    "    )\n",
    "\n",
    "    return sampled"
   ]
  },
  {
   "cell_type": "code",
   "execution_count": 15,
   "id": "c0ccd338-0e02-41f3-a09d-f56f9266e3fb",
   "metadata": {
    "execution": {
     "iopub.execute_input": "2025-07-30T21:12:38.507459Z",
     "iopub.status.busy": "2025-07-30T21:12:38.506554Z",
     "iopub.status.idle": "2025-07-30T21:12:38.511920Z",
     "shell.execute_reply": "2025-07-30T21:12:38.510901Z"
    },
    "papermill": {
     "duration": 0.03264,
     "end_time": "2025-07-30T21:12:38.514493",
     "exception": false,
     "start_time": "2025-07-30T21:12:38.481853",
     "status": "completed"
    },
    "tags": []
   },
   "outputs": [],
   "source": [
    "#universe[\"training_size\"]"
   ]
  },
  {
   "cell_type": "code",
   "execution_count": 16,
   "id": "ca707fd7-8047-4acd-bfa5-66248fbbf8e6",
   "metadata": {
    "execution": {
     "iopub.execute_input": "2025-07-30T21:12:38.558456Z",
     "iopub.status.busy": "2025-07-30T21:12:38.558095Z",
     "iopub.status.idle": "2025-07-30T21:12:38.562975Z",
     "shell.execute_reply": "2025-07-30T21:12:38.562027Z"
    },
    "papermill": {
     "duration": 0.028425,
     "end_time": "2025-07-30T21:12:38.564789",
     "exception": false,
     "start_time": "2025-07-30T21:12:38.536364",
     "status": "completed"
    },
    "tags": []
   },
   "outputs": [],
   "source": [
    "#universe[\"training_year\"]"
   ]
  },
  {
   "cell_type": "code",
   "execution_count": 17,
   "id": "aea9c6ef-6f46-42c8-85eb-5a62025c1508",
   "metadata": {
    "execution": {
     "iopub.execute_input": "2025-07-30T21:12:38.607629Z",
     "iopub.status.busy": "2025-07-30T21:12:38.607256Z",
     "iopub.status.idle": "2025-07-30T21:12:39.686046Z",
     "shell.execute_reply": "2025-07-30T21:12:39.685083Z"
    },
    "papermill": {
     "duration": 1.103226,
     "end_time": "2025-07-30T21:12:39.687546",
     "exception": false,
     "start_time": "2025-07-30T21:12:38.584320",
     "status": "completed"
    },
    "tags": []
   },
   "outputs": [],
   "source": [
    "siab_train = sample_by_year_size(siab,\n",
    "                               training_year=universe[\"training_year\"],\n",
    "                               training_size=universe[\"training_size\"])"
   ]
  },
  {
   "cell_type": "code",
   "execution_count": 18,
   "id": "8d3afb32-789d-442c-8d5d-9f5aa8dd2eed",
   "metadata": {
    "execution": {
     "iopub.execute_input": "2025-07-30T21:12:39.755770Z",
     "iopub.status.busy": "2025-07-30T21:12:39.755332Z",
     "iopub.status.idle": "2025-07-30T21:12:39.769614Z",
     "shell.execute_reply": "2025-07-30T21:12:39.768388Z"
    },
    "papermill": {
     "duration": 0.060417,
     "end_time": "2025-07-30T21:12:39.780149",
     "exception": false,
     "start_time": "2025-07-30T21:12:39.719732",
     "status": "completed"
    },
    "tags": []
   },
   "outputs": [],
   "source": [
    "#siab_train.shape"
   ]
  },
  {
   "cell_type": "code",
   "execution_count": 19,
   "id": "d582db68-1a4c-47fb-84fc-08518dc1975a",
   "metadata": {
    "execution": {
     "iopub.execute_input": "2025-07-30T21:12:39.854582Z",
     "iopub.status.busy": "2025-07-30T21:12:39.853707Z",
     "iopub.status.idle": "2025-07-30T21:12:39.858624Z",
     "shell.execute_reply": "2025-07-30T21:12:39.857803Z"
    },
    "papermill": {
     "duration": 0.053198,
     "end_time": "2025-07-30T21:12:39.871776",
     "exception": false,
     "start_time": "2025-07-30T21:12:39.818578",
     "status": "completed"
    },
    "tags": []
   },
   "outputs": [],
   "source": [
    "#display(siab_train.groupby(\"year\").size())"
   ]
  },
  {
   "cell_type": "code",
   "execution_count": 20,
   "id": "a561edb4-d032-42cb-8256-22eac1111c64",
   "metadata": {
    "execution": {
     "iopub.execute_input": "2025-07-30T21:12:39.921696Z",
     "iopub.status.busy": "2025-07-30T21:12:39.921208Z",
     "iopub.status.idle": "2025-07-30T21:12:40.151978Z",
     "shell.execute_reply": "2025-07-30T21:12:40.151180Z"
    },
    "papermill": {
     "duration": 0.26049,
     "end_time": "2025-07-30T21:12:40.153840",
     "exception": false,
     "start_time": "2025-07-30T21:12:39.893350",
     "status": "completed"
    },
    "tags": []
   },
   "outputs": [],
   "source": [
    "#siab_train = siab_s[siab_s.year < 2015]\n",
    "siab_calib = siab[siab.year == 2015]\n",
    "siab_test = siab[siab.year == 2016]"
   ]
  },
  {
   "cell_type": "code",
   "execution_count": 21,
   "id": "472de16f-c3db-4916-846b-1f0de9cf1746",
   "metadata": {
    "execution": {
     "iopub.execute_input": "2025-07-30T21:12:40.197439Z",
     "iopub.status.busy": "2025-07-30T21:12:40.196961Z",
     "iopub.status.idle": "2025-07-30T21:12:40.204945Z",
     "shell.execute_reply": "2025-07-30T21:12:40.204082Z"
    },
    "papermill": {
     "duration": 0.032041,
     "end_time": "2025-07-30T21:12:40.206626",
     "exception": false,
     "start_time": "2025-07-30T21:12:40.174585",
     "status": "completed"
    },
    "tags": []
   },
   "outputs": [],
   "source": [
    "X_train = siab_train.iloc[:,4:164]\n",
    "y_train = siab_train.iloc[:, [3]]"
   ]
  },
  {
   "cell_type": "code",
   "execution_count": 22,
   "id": "828c96af-f43a-4ed6-ba47-8ac73a47d56c",
   "metadata": {
    "execution": {
     "iopub.execute_input": "2025-07-30T21:12:40.235080Z",
     "iopub.status.busy": "2025-07-30T21:12:40.234683Z",
     "iopub.status.idle": "2025-07-30T21:12:40.307502Z",
     "shell.execute_reply": "2025-07-30T21:12:40.306457Z"
    },
    "papermill": {
     "duration": 0.090455,
     "end_time": "2025-07-30T21:12:40.309723",
     "exception": false,
     "start_time": "2025-07-30T21:12:40.219268",
     "status": "completed"
    },
    "tags": []
   },
   "outputs": [],
   "source": [
    "X_calib = siab_calib.iloc[:,4:164]\n",
    "y_calib = siab_calib.iloc[:, [3]]"
   ]
  },
  {
   "cell_type": "code",
   "execution_count": 23,
   "id": "c34be9c3-6bd6-476e-acd3-845840e303be",
   "metadata": {
    "execution": {
     "iopub.execute_input": "2025-07-30T21:12:40.359871Z",
     "iopub.status.busy": "2025-07-30T21:12:40.358856Z",
     "iopub.status.idle": "2025-07-30T21:12:40.421320Z",
     "shell.execute_reply": "2025-07-30T21:12:40.420190Z"
    },
    "papermill": {
     "duration": 0.088511,
     "end_time": "2025-07-30T21:12:40.423443",
     "exception": false,
     "start_time": "2025-07-30T21:12:40.334932",
     "status": "completed"
    },
    "tags": []
   },
   "outputs": [],
   "source": [
    "X_test = siab_test.iloc[:,4:164]\n",
    "y_true = siab_test.iloc[:, [3]]"
   ]
  },
  {
   "cell_type": "markdown",
   "id": "9901737e-04df-44f0-9100-f5ad144ed040",
   "metadata": {
    "papermill": {
     "duration": 0.033325,
     "end_time": "2025-07-30T21:12:40.493663",
     "exception": false,
     "start_time": "2025-07-30T21:12:40.460338",
     "status": "completed"
    },
    "tags": []
   },
   "source": [
    "# Splitting Data and Setting Training Data Size OLD VERSION"
   ]
  },
  {
   "cell_type": "code",
   "execution_count": 24,
   "id": "acbc8f7d-8fc8-4e86-8c59-5dcb0f58384b",
   "metadata": {
    "execution": {
     "iopub.execute_input": "2025-07-30T21:12:40.596164Z",
     "iopub.status.busy": "2025-07-30T21:12:40.595760Z",
     "iopub.status.idle": "2025-07-30T21:12:40.601433Z",
     "shell.execute_reply": "2025-07-30T21:12:40.600412Z"
    },
    "papermill": {
     "duration": 0.090408,
     "end_time": "2025-07-30T21:12:40.604150",
     "exception": false,
     "start_time": "2025-07-30T21:12:40.513742",
     "status": "completed"
    },
    "tags": []
   },
   "outputs": [],
   "source": [
    "#def sample_by_year(df, training_size, random_state=42):\n",
    "#    if training_size == \"2014\":\n",
    "#        return df[df[\"year\"] == 2014].reset_index(drop=True)\n",
    "#    \n",
    "#    size_map = {\n",
    "#        \"25k\": 5000,\n",
    "#        \"5k\": 1000,\n",
    "#        \"1k\": 200\n",
    "#    }\n",
    "#\n",
    "#    if training_size not in size_map:\n",
    "#        return df.reset_index(drop=True)  # use all data\n",
    "#\n",
    "#    n_per_year = size_map[training_size]\n",
    "#    grouped = df.groupby(\"year\")\n",
    "#    sampled = grouped.apply(lambda x: x.sample(n=min(n_per_year, len(x)), random_state=random_state))\n",
    "#    return sampled.reset_index(drop=True)"
   ]
  },
  {
   "cell_type": "code",
   "execution_count": 25,
   "id": "6d931f52-beaf-43ff-9e78-9d44a448d54e",
   "metadata": {
    "execution": {
     "iopub.execute_input": "2025-07-30T21:12:40.724083Z",
     "iopub.status.busy": "2025-07-30T21:12:40.723661Z",
     "iopub.status.idle": "2025-07-30T21:12:40.728957Z",
     "shell.execute_reply": "2025-07-30T21:12:40.727933Z"
    },
    "papermill": {
     "duration": 0.077264,
     "end_time": "2025-07-30T21:12:40.730695",
     "exception": false,
     "start_time": "2025-07-30T21:12:40.653431",
     "status": "completed"
    },
    "tags": []
   },
   "outputs": [],
   "source": [
    "#siab_s = sample_by_year(siab, universe[\"training_size\"])"
   ]
  },
  {
   "cell_type": "code",
   "execution_count": 26,
   "id": "5db0a40e-a4e2-4920-be85-b12ae061d70d",
   "metadata": {
    "execution": {
     "iopub.execute_input": "2025-07-30T21:12:40.826125Z",
     "iopub.status.busy": "2025-07-30T21:12:40.825732Z",
     "iopub.status.idle": "2025-07-30T21:12:40.831134Z",
     "shell.execute_reply": "2025-07-30T21:12:40.830133Z"
    },
    "papermill": {
     "duration": 0.048207,
     "end_time": "2025-07-30T21:12:40.832860",
     "exception": false,
     "start_time": "2025-07-30T21:12:40.784653",
     "status": "completed"
    },
    "tags": []
   },
   "outputs": [],
   "source": [
    "#display(siab_s.groupby(\"year\").size())"
   ]
  },
  {
   "cell_type": "code",
   "execution_count": 27,
   "id": "e6c733c5",
   "metadata": {
    "execution": {
     "iopub.execute_input": "2025-07-30T21:12:40.877938Z",
     "iopub.status.busy": "2025-07-30T21:12:40.876802Z",
     "iopub.status.idle": "2025-07-30T21:12:41.011297Z",
     "shell.execute_reply": "2025-07-30T21:12:41.010164Z"
    },
    "papermill": {
     "duration": 0.158738,
     "end_time": "2025-07-30T21:12:41.013287",
     "exception": false,
     "start_time": "2025-07-30T21:12:40.854549",
     "status": "completed"
    },
    "tags": []
   },
   "outputs": [],
   "source": [
    "# Auxiliary data needed downstream in the pipeline\n",
    "\n",
    "org_train = X_train.copy()\n",
    "org_test = X_test.copy()\n",
    "org_calib = X_calib.copy()"
   ]
  },
  {
   "cell_type": "code",
   "execution_count": 28,
   "id": "1466abac-c6da-4492-a62f-4240ae3783af",
   "metadata": {
    "execution": {
     "iopub.execute_input": "2025-07-30T21:12:41.057839Z",
     "iopub.status.busy": "2025-07-30T21:12:41.056913Z",
     "iopub.status.idle": "2025-07-30T21:12:41.063260Z",
     "shell.execute_reply": "2025-07-30T21:12:41.062268Z"
    },
    "papermill": {
     "duration": 0.030328,
     "end_time": "2025-07-30T21:12:41.065439",
     "exception": false,
     "start_time": "2025-07-30T21:12:41.035111",
     "status": "completed"
    },
    "tags": []
   },
   "outputs": [],
   "source": [
    "# put in other script?\n",
    "# Group sizes\n",
    "\n",
    "#def calculate_percentages(df, df_name):\n",
    "#    total_entries = len(df)\n",
    "#\n",
    "#    female_pct = (df['frau1'] == 1).mean() * 100\n",
    "#    non_german_pct = ((df['maxdeutsch1'] == 0) & (df['maxdeutsch.Missing.'] == 0)).mean() * 100\n",
    "#    non_german_male_pct = ((df['frau1'] == 0) & (df['maxdeutsch1'] == 0) & (df['maxdeutsch.Missing.'] == 0)).mean() * 100\n",
    "#    non_german_female_pct = ((df['frau1'] == 1) & (df['maxdeutsch1'] == 0) & (df['maxdeutsch.Missing.'] == 0)).mean() * 100\n",
    "#\n",
    "#    print(f\"--- {df_name} ---\")\n",
    "#    print(f\"Female: {female_pct:.2f}%\")\n",
    "#    print(f\"Non-German: {non_german_pct:.2f}%\")\n",
    "#    print(f\"Non-German Male: {non_german_male_pct:.2f}%\")\n",
    "#    print(f\"Non-German Female: {non_german_female_pct:.2f}%\\n\")\n",
    "#\n",
    "## Calculate for each DataFrame\n",
    "#calculate_percentages(siab_calib, \"siab_calib\")\n",
    "#calculate_percentages(siab_test, \"siab_test\")\n",
    "#calculate_percentages(siab_train, \"siab_train\")"
   ]
  },
  {
   "cell_type": "markdown",
   "id": "0a4a1b33",
   "metadata": {
    "papermill": {
     "duration": 0.021998,
     "end_time": "2025-07-30T21:12:41.110213",
     "exception": false,
     "start_time": "2025-07-30T21:12:41.088215",
     "status": "completed"
    },
    "tags": []
   },
   "source": [
    "# Preprocessing Data"
   ]
  },
  {
   "cell_type": "code",
   "execution_count": 29,
   "id": "ca879031",
   "metadata": {
    "execution": {
     "iopub.execute_input": "2025-07-30T21:12:41.159240Z",
     "iopub.status.busy": "2025-07-30T21:12:41.158743Z",
     "iopub.status.idle": "2025-07-30T21:12:41.166150Z",
     "shell.execute_reply": "2025-07-30T21:12:41.165370Z"
    },
    "papermill": {
     "duration": 0.046194,
     "end_time": "2025-07-30T21:12:41.181395",
     "exception": false,
     "start_time": "2025-07-30T21:12:41.135201",
     "status": "completed"
    },
    "tags": []
   },
   "outputs": [],
   "source": [
    "# EXCLUDE PROTECTED FEATURES\n",
    "# ----------------------\n",
    "# \"exclude_features\": \"none\", # \"nationality\", \"sex\", \"nationality-sex\"\n",
    "\n",
    "excluded_features = universe[\"exclude_features\"].split(\"-\") # split, e.g.: \"nationality-sex\" -> [\"nationality\", \"sex\"]\n",
    "excluded_features_dictionary = {\n",
    "    \"nationality\": [\"maxdeutsch1\", \"maxdeutsch.Missing.\"],\n",
    "    \"sex\": [\"frau1\"],\n",
    "    \"age\": [\"age\"],\n",
    "}\n"
   ]
  },
  {
   "cell_type": "code",
   "execution_count": 30,
   "id": "b745ac60",
   "metadata": {
    "execution": {
     "iopub.execute_input": "2025-07-30T21:12:41.232719Z",
     "iopub.status.busy": "2025-07-30T21:12:41.232274Z",
     "iopub.status.idle": "2025-07-30T21:12:41.238287Z",
     "shell.execute_reply": "2025-07-30T21:12:41.237340Z"
    },
    "papermill": {
     "duration": 0.03156,
     "end_time": "2025-07-30T21:12:41.241605",
     "exception": false,
     "start_time": "2025-07-30T21:12:41.210045",
     "status": "completed"
    },
    "tags": []
   },
   "outputs": [],
   "source": [
    "# Code nice names to column names\n",
    "\n",
    "excluded_features_columns = [\n",
    "    excluded_features_dictionary[f] for f in excluded_features if len(f) > 0 and f != \"none\"\n",
    "]"
   ]
  },
  {
   "cell_type": "code",
   "execution_count": 31,
   "id": "f84f73a2",
   "metadata": {
    "execution": {
     "iopub.execute_input": "2025-07-30T21:12:41.289124Z",
     "iopub.status.busy": "2025-07-30T21:12:41.288741Z",
     "iopub.status.idle": "2025-07-30T21:12:41.294967Z",
     "shell.execute_reply": "2025-07-30T21:12:41.293867Z"
    },
    "papermill": {
     "duration": 0.031063,
     "end_time": "2025-07-30T21:12:41.297143",
     "exception": false,
     "start_time": "2025-07-30T21:12:41.266080",
     "status": "completed"
    },
    "tags": []
   },
   "outputs": [],
   "source": [
    "from utils import flatten_once\n",
    "\n",
    "excluded_features_columns = flatten_once(excluded_features_columns)"
   ]
  },
  {
   "cell_type": "code",
   "execution_count": 32,
   "id": "884dea22",
   "metadata": {
    "execution": {
     "iopub.execute_input": "2025-07-30T21:12:41.340990Z",
     "iopub.status.busy": "2025-07-30T21:12:41.340596Z",
     "iopub.status.idle": "2025-07-30T21:12:41.349674Z",
     "shell.execute_reply": "2025-07-30T21:12:41.348796Z"
    },
    "papermill": {
     "duration": 0.034571,
     "end_time": "2025-07-30T21:12:41.353042",
     "exception": false,
     "start_time": "2025-07-30T21:12:41.318471",
     "status": "completed"
    },
    "tags": []
   },
   "outputs": [
    {
     "name": "stdout",
     "output_type": "stream",
     "text": [
      "Dropping features: ['age']\n"
     ]
    }
   ],
   "source": [
    "if len(excluded_features_columns) > 0:\n",
    "    print(f\"Dropping features: {excluded_features_columns}\")\n",
    "    X_train.drop(excluded_features_columns, axis=1, inplace=True)"
   ]
  },
  {
   "cell_type": "code",
   "execution_count": 33,
   "id": "95ab8b16",
   "metadata": {
    "execution": {
     "iopub.execute_input": "2025-07-30T21:12:41.403195Z",
     "iopub.status.busy": "2025-07-30T21:12:41.402775Z",
     "iopub.status.idle": "2025-07-30T21:12:41.460885Z",
     "shell.execute_reply": "2025-07-30T21:12:41.459830Z"
    },
    "papermill": {
     "duration": 0.087129,
     "end_time": "2025-07-30T21:12:41.463080",
     "exception": false,
     "start_time": "2025-07-30T21:12:41.375951",
     "status": "completed"
    },
    "tags": []
   },
   "outputs": [
    {
     "name": "stdout",
     "output_type": "stream",
     "text": [
      "Dropping features: ['age']\n"
     ]
    }
   ],
   "source": [
    "if len(excluded_features_columns) > 0:\n",
    "    print(f\"Dropping features: {excluded_features_columns}\")\n",
    "    X_test.drop(excluded_features_columns, axis=1, inplace=True)"
   ]
  },
  {
   "cell_type": "code",
   "execution_count": 34,
   "id": "1853aaf5-fb9f-46cb-a2b5-8ea4ae2237e4",
   "metadata": {
    "execution": {
     "iopub.execute_input": "2025-07-30T21:12:41.514488Z",
     "iopub.status.busy": "2025-07-30T21:12:41.514057Z",
     "iopub.status.idle": "2025-07-30T21:12:41.568996Z",
     "shell.execute_reply": "2025-07-30T21:12:41.566208Z"
    },
    "papermill": {
     "duration": 0.092716,
     "end_time": "2025-07-30T21:12:41.581224",
     "exception": false,
     "start_time": "2025-07-30T21:12:41.488508",
     "status": "completed"
    },
    "tags": []
   },
   "outputs": [
    {
     "name": "stdout",
     "output_type": "stream",
     "text": [
      "Dropping features: ['age']\n"
     ]
    }
   ],
   "source": [
    "if len(excluded_features_columns) > 0:\n",
    "    print(f\"Dropping features: {excluded_features_columns}\")\n",
    "    X_calib.drop(excluded_features_columns, axis=1, inplace=True)"
   ]
  },
  {
   "cell_type": "code",
   "execution_count": 35,
   "id": "6727d079-03e5-481e-9d38-292a90b7a0a8",
   "metadata": {
    "execution": {
     "iopub.execute_input": "2025-07-30T21:12:41.656012Z",
     "iopub.status.busy": "2025-07-30T21:12:41.655615Z",
     "iopub.status.idle": "2025-07-30T21:12:41.660372Z",
     "shell.execute_reply": "2025-07-30T21:12:41.659457Z"
    },
    "papermill": {
     "duration": 0.052457,
     "end_time": "2025-07-30T21:12:41.673393",
     "exception": false,
     "start_time": "2025-07-30T21:12:41.620936",
     "status": "completed"
    },
    "tags": []
   },
   "outputs": [],
   "source": [
    "# SPLIT & STRATIFY DATA\n",
    "# ----------------------"
   ]
  },
  {
   "cell_type": "code",
   "execution_count": 36,
   "id": "76c4dc6d",
   "metadata": {
    "execution": {
     "iopub.execute_input": "2025-07-30T21:12:41.723089Z",
     "iopub.status.busy": "2025-07-30T21:12:41.722702Z",
     "iopub.status.idle": "2025-07-30T21:12:41.728472Z",
     "shell.execute_reply": "2025-07-30T21:12:41.727418Z"
    },
    "papermill": {
     "duration": 0.031944,
     "end_time": "2025-07-30T21:12:41.731388",
     "exception": false,
     "start_time": "2025-07-30T21:12:41.699444",
     "status": "completed"
    },
    "tags": []
   },
   "outputs": [],
   "source": [
    "# EXCLUDE CERTAIN SUBGROUPS\n",
    "# ----------------------\n",
    "\n",
    "mode = universe.get(\"exclude_subgroups\", \"keep-all\") \n",
    "# Fetches the exclude_subgroups setting from the universe dict.\n",
    "# Defaults to \"keep-all\" if the key is missing."
   ]
  },
  {
   "cell_type": "code",
   "execution_count": 37,
   "id": "21994072",
   "metadata": {
    "execution": {
     "iopub.execute_input": "2025-07-30T21:12:41.806536Z",
     "iopub.status.busy": "2025-07-30T21:12:41.806158Z",
     "iopub.status.idle": "2025-07-30T21:12:41.813538Z",
     "shell.execute_reply": "2025-07-30T21:12:41.812523Z"
    },
    "papermill": {
     "duration": 0.037665,
     "end_time": "2025-07-30T21:12:41.816202",
     "exception": false,
     "start_time": "2025-07-30T21:12:41.778537",
     "status": "completed"
    },
    "tags": []
   },
   "outputs": [],
   "source": [
    "if mode == \"keep-all\":\n",
    "    keep_mask = pd.Series(True, index=org_train.index)\n",
    "\n",
    "# org_train contains the original feature columns from features_org (in Simson)\n",
    "# features_org contains unprocessed features, for me X_train at beginning ???\n",
    "# For keep-all, creates a boolean Series (keep_mask) of all True, so no rows are removed.\n",
    "\n",
    "elif mode == \"drop-non-german\":\n",
    "    keep_mask = org_train[\"maxdeutsch1\"] == 1 # ??? what about missing values?\n",
    "\n",
    "else:\n",
    "    raise ValueError(f\"Unsupported mode for exclude_subgroups: {mode}\")\n"
   ]
  },
  {
   "cell_type": "code",
   "execution_count": 38,
   "id": "71651440",
   "metadata": {
    "execution": {
     "iopub.execute_input": "2025-07-30T21:12:41.889178Z",
     "iopub.status.busy": "2025-07-30T21:12:41.888752Z",
     "iopub.status.idle": "2025-07-30T21:12:41.894498Z",
     "shell.execute_reply": "2025-07-30T21:12:41.893598Z"
    },
    "papermill": {
     "duration": 0.031369,
     "end_time": "2025-07-30T21:12:41.896158",
     "exception": false,
     "start_time": "2025-07-30T21:12:41.864789",
     "status": "completed"
    },
    "tags": []
   },
   "outputs": [],
   "source": [
    "n_drop = (~keep_mask).sum() # Calculates how many rows are set to be dropped\n",
    "if n_drop > 0:\n",
    "    pct = n_drop / len(keep_mask) * 100\n",
    "    print(f\"Dropping {n_drop} rows ({pct:.2f}%) where mode='{mode}'\")"
   ]
  },
  {
   "cell_type": "code",
   "execution_count": 39,
   "id": "5fb8eee5",
   "metadata": {
    "execution": {
     "iopub.execute_input": "2025-07-30T21:12:41.942551Z",
     "iopub.status.busy": "2025-07-30T21:12:41.941995Z",
     "iopub.status.idle": "2025-07-30T21:12:41.950095Z",
     "shell.execute_reply": "2025-07-30T21:12:41.949107Z"
    },
    "papermill": {
     "duration": 0.033176,
     "end_time": "2025-07-30T21:12:41.951666",
     "exception": false,
     "start_time": "2025-07-30T21:12:41.918490",
     "status": "completed"
    },
    "tags": []
   },
   "outputs": [],
   "source": [
    "X_train = X_train[keep_mask]"
   ]
  },
  {
   "cell_type": "code",
   "execution_count": 40,
   "id": "b202bb3a",
   "metadata": {
    "execution": {
     "iopub.execute_input": "2025-07-30T21:12:41.999577Z",
     "iopub.status.busy": "2025-07-30T21:12:41.999074Z",
     "iopub.status.idle": "2025-07-30T21:12:42.005474Z",
     "shell.execute_reply": "2025-07-30T21:12:42.004476Z"
    },
    "papermill": {
     "duration": 0.031019,
     "end_time": "2025-07-30T21:12:42.007043",
     "exception": false,
     "start_time": "2025-07-30T21:12:41.976024",
     "status": "completed"
    },
    "tags": []
   },
   "outputs": [],
   "source": [
    "y_train = y_train[keep_mask]"
   ]
  },
  {
   "cell_type": "markdown",
   "id": "493e2ac3",
   "metadata": {
    "papermill": {
     "duration": 0.023579,
     "end_time": "2025-07-30T21:12:42.054106",
     "exception": false,
     "start_time": "2025-07-30T21:12:42.030527",
     "status": "completed"
    },
    "tags": []
   },
   "source": [
    "# Model Training"
   ]
  },
  {
   "cell_type": "code",
   "execution_count": 41,
   "id": "679e1268",
   "metadata": {
    "execution": {
     "iopub.execute_input": "2025-07-30T21:12:42.101957Z",
     "iopub.status.busy": "2025-07-30T21:12:42.101079Z",
     "iopub.status.idle": "2025-07-30T21:12:42.210665Z",
     "shell.execute_reply": "2025-07-30T21:12:42.209749Z"
    },
    "papermill": {
     "duration": 0.135014,
     "end_time": "2025-07-30T21:12:42.212691",
     "exception": false,
     "start_time": "2025-07-30T21:12:42.077677",
     "status": "completed"
    },
    "tags": []
   },
   "outputs": [],
   "source": [
    "from sklearn.linear_model import LogisticRegression\n",
    "from sklearn.ensemble import GradientBoostingClassifier, RandomForestClassifier\n",
    "\n",
    "if (universe[\"model\"] == \"logreg\"):\n",
    "    model = LogisticRegression() #penalty=\"none\") #, solver=\"newton-cg\", max_iter=1) # include random_state=19 ?\n",
    "elif (universe[\"model\"] == \"penalized_logreg\"):\n",
    "    model = LogisticRegression(penalty=\"l2\", C=1.0) #, solver=\"newton-cg\", max_iter=1)\n",
    "elif (universe[\"model\"] == \"rf\"):\n",
    "    model = RandomForestClassifier(n_estimators=100, n_jobs=-1)\n",
    "elif (universe[\"model\"] == \"gbm\"):\n",
    "    model = GradientBoostingClassifier()\n",
    "elif (universe[\"model\"] == \"elasticnet\"):\n",
    "    model = LogisticRegression(penalty = 'elasticnet', solver = 'saga', l1_ratio = 0.5, max_iter=5000) # which solver to use?\n",
    "else:\n",
    "    raise \"Unsupported universe.model\""
   ]
  },
  {
   "cell_type": "code",
   "execution_count": 42,
   "id": "0cc8f744",
   "metadata": {
    "execution": {
     "iopub.execute_input": "2025-07-30T21:12:42.261807Z",
     "iopub.status.busy": "2025-07-30T21:12:42.260947Z",
     "iopub.status.idle": "2025-07-30T21:12:42.267819Z",
     "shell.execute_reply": "2025-07-30T21:12:42.266814Z"
    },
    "papermill": {
     "duration": 0.031967,
     "end_time": "2025-07-30T21:12:42.269462",
     "exception": false,
     "start_time": "2025-07-30T21:12:42.237495",
     "status": "completed"
    },
    "tags": []
   },
   "outputs": [],
   "source": [
    "import numpy as np\n",
    "from sklearn.pipeline import Pipeline\n",
    "from sklearn.preprocessing import StandardScaler\n",
    "\n",
    "model = Pipeline([\n",
    "    #(\"continuous_processor\", continuous_processor),\n",
    "    #(\"categorical_preprocessor\", categorical_preprocessor),\n",
    "    (\"scale\", StandardScaler() if universe[\"scale\"] == \"scale\" else None), \n",
    "    (\"model\", model),\n",
    "])"
   ]
  },
  {
   "cell_type": "code",
   "execution_count": 43,
   "id": "9442c04d",
   "metadata": {
    "execution": {
     "iopub.execute_input": "2025-07-30T21:12:42.316731Z",
     "iopub.status.busy": "2025-07-30T21:12:42.316345Z",
     "iopub.status.idle": "2025-07-30T21:12:43.573902Z",
     "shell.execute_reply": "2025-07-30T21:12:43.572968Z"
    },
    "papermill": {
     "duration": 1.282681,
     "end_time": "2025-07-30T21:12:43.575417",
     "exception": false,
     "start_time": "2025-07-30T21:12:42.292736",
     "status": "completed"
    },
    "tags": []
   },
   "outputs": [
    {
     "data": {
      "text/html": [
       "<style>#sk-container-id-1 {color: black;background-color: white;}#sk-container-id-1 pre{padding: 0;}#sk-container-id-1 div.sk-toggleable {background-color: white;}#sk-container-id-1 label.sk-toggleable__label {cursor: pointer;display: block;width: 100%;margin-bottom: 0;padding: 0.3em;box-sizing: border-box;text-align: center;}#sk-container-id-1 label.sk-toggleable__label-arrow:before {content: \"▸\";float: left;margin-right: 0.25em;color: #696969;}#sk-container-id-1 label.sk-toggleable__label-arrow:hover:before {color: black;}#sk-container-id-1 div.sk-estimator:hover label.sk-toggleable__label-arrow:before {color: black;}#sk-container-id-1 div.sk-toggleable__content {max-height: 0;max-width: 0;overflow: hidden;text-align: left;background-color: #f0f8ff;}#sk-container-id-1 div.sk-toggleable__content pre {margin: 0.2em;color: black;border-radius: 0.25em;background-color: #f0f8ff;}#sk-container-id-1 input.sk-toggleable__control:checked~div.sk-toggleable__content {max-height: 200px;max-width: 100%;overflow: auto;}#sk-container-id-1 input.sk-toggleable__control:checked~label.sk-toggleable__label-arrow:before {content: \"▾\";}#sk-container-id-1 div.sk-estimator input.sk-toggleable__control:checked~label.sk-toggleable__label {background-color: #d4ebff;}#sk-container-id-1 div.sk-label input.sk-toggleable__control:checked~label.sk-toggleable__label {background-color: #d4ebff;}#sk-container-id-1 input.sk-hidden--visually {border: 0;clip: rect(1px 1px 1px 1px);clip: rect(1px, 1px, 1px, 1px);height: 1px;margin: -1px;overflow: hidden;padding: 0;position: absolute;width: 1px;}#sk-container-id-1 div.sk-estimator {font-family: monospace;background-color: #f0f8ff;border: 1px dotted black;border-radius: 0.25em;box-sizing: border-box;margin-bottom: 0.5em;}#sk-container-id-1 div.sk-estimator:hover {background-color: #d4ebff;}#sk-container-id-1 div.sk-parallel-item::after {content: \"\";width: 100%;border-bottom: 1px solid gray;flex-grow: 1;}#sk-container-id-1 div.sk-label:hover label.sk-toggleable__label {background-color: #d4ebff;}#sk-container-id-1 div.sk-serial::before {content: \"\";position: absolute;border-left: 1px solid gray;box-sizing: border-box;top: 0;bottom: 0;left: 50%;z-index: 0;}#sk-container-id-1 div.sk-serial {display: flex;flex-direction: column;align-items: center;background-color: white;padding-right: 0.2em;padding-left: 0.2em;position: relative;}#sk-container-id-1 div.sk-item {position: relative;z-index: 1;}#sk-container-id-1 div.sk-parallel {display: flex;align-items: stretch;justify-content: center;background-color: white;position: relative;}#sk-container-id-1 div.sk-item::before, #sk-container-id-1 div.sk-parallel-item::before {content: \"\";position: absolute;border-left: 1px solid gray;box-sizing: border-box;top: 0;bottom: 0;left: 50%;z-index: -1;}#sk-container-id-1 div.sk-parallel-item {display: flex;flex-direction: column;z-index: 1;position: relative;background-color: white;}#sk-container-id-1 div.sk-parallel-item:first-child::after {align-self: flex-end;width: 50%;}#sk-container-id-1 div.sk-parallel-item:last-child::after {align-self: flex-start;width: 50%;}#sk-container-id-1 div.sk-parallel-item:only-child::after {width: 0;}#sk-container-id-1 div.sk-dashed-wrapped {border: 1px dashed gray;margin: 0 0.4em 0.5em 0.4em;box-sizing: border-box;padding-bottom: 0.4em;background-color: white;}#sk-container-id-1 div.sk-label label {font-family: monospace;font-weight: bold;display: inline-block;line-height: 1.2em;}#sk-container-id-1 div.sk-label-container {text-align: center;}#sk-container-id-1 div.sk-container {/* jupyter's `normalize.less` sets `[hidden] { display: none; }` but bootstrap.min.css set `[hidden] { display: none !important; }` so we also need the `!important` here to be able to override the default hidden behavior on the sphinx rendered scikit-learn.org. See: https://github.com/scikit-learn/scikit-learn/issues/21755 */display: inline-block !important;position: relative;}#sk-container-id-1 div.sk-text-repr-fallback {display: none;}</style><div id=\"sk-container-id-1\" class=\"sk-top-container\"><div class=\"sk-text-repr-fallback\"><pre>Pipeline(steps=[(&#x27;scale&#x27;, StandardScaler()),\n",
       "                (&#x27;model&#x27;, RandomForestClassifier(n_jobs=-1))])</pre><b>In a Jupyter environment, please rerun this cell to show the HTML representation or trust the notebook. <br />On GitHub, the HTML representation is unable to render, please try loading this page with nbviewer.org.</b></div><div class=\"sk-container\" hidden><div class=\"sk-item sk-dashed-wrapped\"><div class=\"sk-label-container\"><div class=\"sk-label sk-toggleable\"><input class=\"sk-toggleable__control sk-hidden--visually\" id=\"sk-estimator-id-1\" type=\"checkbox\" ><label for=\"sk-estimator-id-1\" class=\"sk-toggleable__label sk-toggleable__label-arrow\">Pipeline</label><div class=\"sk-toggleable__content\"><pre>Pipeline(steps=[(&#x27;scale&#x27;, StandardScaler()),\n",
       "                (&#x27;model&#x27;, RandomForestClassifier(n_jobs=-1))])</pre></div></div></div><div class=\"sk-serial\"><div class=\"sk-item\"><div class=\"sk-estimator sk-toggleable\"><input class=\"sk-toggleable__control sk-hidden--visually\" id=\"sk-estimator-id-2\" type=\"checkbox\" ><label for=\"sk-estimator-id-2\" class=\"sk-toggleable__label sk-toggleable__label-arrow\">StandardScaler</label><div class=\"sk-toggleable__content\"><pre>StandardScaler()</pre></div></div></div><div class=\"sk-item\"><div class=\"sk-estimator sk-toggleable\"><input class=\"sk-toggleable__control sk-hidden--visually\" id=\"sk-estimator-id-3\" type=\"checkbox\" ><label for=\"sk-estimator-id-3\" class=\"sk-toggleable__label sk-toggleable__label-arrow\">RandomForestClassifier</label><div class=\"sk-toggleable__content\"><pre>RandomForestClassifier(n_jobs=-1)</pre></div></div></div></div></div></div></div>"
      ],
      "text/plain": [
       "Pipeline(steps=[('scale', StandardScaler()),\n",
       "                ('model', RandomForestClassifier(n_jobs=-1))])"
      ]
     },
     "execution_count": 43,
     "metadata": {},
     "output_type": "execute_result"
    }
   ],
   "source": [
    "model.fit(X_train, y_train.values.ravel())"
   ]
  },
  {
   "cell_type": "code",
   "execution_count": 44,
   "id": "af59f8c0",
   "metadata": {
    "execution": {
     "iopub.execute_input": "2025-07-30T21:12:43.671509Z",
     "iopub.status.busy": "2025-07-30T21:12:43.671117Z",
     "iopub.status.idle": "2025-07-30T21:12:43.677210Z",
     "shell.execute_reply": "2025-07-30T21:12:43.675909Z"
    },
    "papermill": {
     "duration": 0.081982,
     "end_time": "2025-07-30T21:12:43.680577",
     "exception": false,
     "start_time": "2025-07-30T21:12:43.598595",
     "status": "completed"
    },
    "tags": []
   },
   "outputs": [],
   "source": [
    "from fairness_multiverse.universe import predict_w_threshold"
   ]
  },
  {
   "cell_type": "code",
   "execution_count": 45,
   "id": "a7cf2e16",
   "metadata": {
    "execution": {
     "iopub.execute_input": "2025-07-30T21:12:43.777463Z",
     "iopub.status.busy": "2025-07-30T21:12:43.777022Z",
     "iopub.status.idle": "2025-07-30T21:12:44.744366Z",
     "shell.execute_reply": "2025-07-30T21:12:44.743329Z"
    },
    "papermill": {
     "duration": 1.023041,
     "end_time": "2025-07-30T21:12:44.746559",
     "exception": false,
     "start_time": "2025-07-30T21:12:43.723518",
     "status": "completed"
    },
    "tags": []
   },
   "outputs": [
    {
     "data": {
      "text/plain": [
       "0.8667038234310557"
      ]
     },
     "execution_count": 45,
     "metadata": {},
     "output_type": "execute_result"
    }
   ],
   "source": [
    "probs_test = model.predict_proba(X_test)\n",
    "\n",
    "'''\n",
    "Below code returns a boolean array (or binary 0/1 array depending on how it’s used) where each element \n",
    "is True if the probability of class 1 is greater than or equal to the threshold, and False otherwise.\n",
    "'''\n",
    "y_pred_default = predict_w_threshold(probs_test, 0.5)\n",
    "\n",
    "from sklearn.metrics import accuracy_score\n",
    "\n",
    "# Naive prediction\n",
    "accuracy_score(y_true = y_true, y_pred = y_pred_default)"
   ]
  },
  {
   "cell_type": "code",
   "execution_count": 46,
   "id": "081964c3",
   "metadata": {
    "execution": {
     "iopub.execute_input": "2025-07-30T21:12:44.811345Z",
     "iopub.status.busy": "2025-07-30T21:12:44.810914Z",
     "iopub.status.idle": "2025-07-30T21:12:45.873111Z",
     "shell.execute_reply": "2025-07-30T21:12:45.872121Z"
    },
    "papermill": {
     "duration": 1.0912,
     "end_time": "2025-07-30T21:12:45.874912",
     "exception": false,
     "start_time": "2025-07-30T21:12:44.783712",
     "status": "completed"
    },
    "tags": []
   },
   "outputs": [
    {
     "data": {
      "text/plain": [
       "array([0, 0, 0, ..., 0, 0, 0])"
      ]
     },
     "execution_count": 46,
     "metadata": {},
     "output_type": "execute_result"
    }
   ],
   "source": [
    "model.predict(X_test)"
   ]
  },
  {
   "cell_type": "markdown",
   "id": "56c9705b",
   "metadata": {
    "papermill": {
     "duration": 0.016422,
     "end_time": "2025-07-30T21:12:45.918670",
     "exception": false,
     "start_time": "2025-07-30T21:12:45.902248",
     "status": "completed"
    },
    "tags": []
   },
   "source": [
    "# Conformal Prediction"
   ]
  },
  {
   "cell_type": "code",
   "execution_count": 47,
   "id": "160ec6ff",
   "metadata": {
    "execution": {
     "iopub.execute_input": "2025-07-30T21:12:45.954118Z",
     "iopub.status.busy": "2025-07-30T21:12:45.953721Z",
     "iopub.status.idle": "2025-07-30T21:12:45.959073Z",
     "shell.execute_reply": "2025-07-30T21:12:45.958157Z"
    },
    "papermill": {
     "duration": 0.036531,
     "end_time": "2025-07-30T21:12:45.967775",
     "exception": false,
     "start_time": "2025-07-30T21:12:45.931244",
     "status": "completed"
    },
    "tags": []
   },
   "outputs": [],
   "source": [
    "# Miscoverage level for conformal prediction (10% allowed error rate => 90% target coverage)\n",
    "alpha = 0.1"
   ]
  },
  {
   "cell_type": "code",
   "execution_count": 48,
   "id": "eadf4555-3dd3-440e-8e35-f82a4ad9f855",
   "metadata": {
    "execution": {
     "iopub.execute_input": "2025-07-30T21:12:46.048198Z",
     "iopub.status.busy": "2025-07-30T21:12:46.047765Z",
     "iopub.status.idle": "2025-07-30T21:12:47.086621Z",
     "shell.execute_reply": "2025-07-30T21:12:47.085869Z"
    },
    "papermill": {
     "duration": 1.067912,
     "end_time": "2025-07-30T21:12:47.088281",
     "exception": false,
     "start_time": "2025-07-30T21:12:46.020369",
     "status": "completed"
    },
    "tags": []
   },
   "outputs": [],
   "source": [
    "probs_calib = model.predict_proba(X_calib)"
   ]
  },
  {
   "cell_type": "code",
   "execution_count": 49,
   "id": "2ed93547-6d5d-4983-9b36-1ecb300da49a",
   "metadata": {
    "execution": {
     "iopub.execute_input": "2025-07-30T21:12:47.137258Z",
     "iopub.status.busy": "2025-07-30T21:12:47.136753Z",
     "iopub.status.idle": "2025-07-30T21:12:47.142167Z",
     "shell.execute_reply": "2025-07-30T21:12:47.141293Z"
    },
    "papermill": {
     "duration": 0.031596,
     "end_time": "2025-07-30T21:12:47.143708",
     "exception": false,
     "start_time": "2025-07-30T21:12:47.112112",
     "status": "completed"
    },
    "tags": []
   },
   "outputs": [],
   "source": [
    "y_calib = y_calib.values.ravel().astype(int)"
   ]
  },
  {
   "cell_type": "code",
   "execution_count": 50,
   "id": "65d1320d-f588-4b38-9072-62af1ae97f7d",
   "metadata": {
    "execution": {
     "iopub.execute_input": "2025-07-30T21:12:47.192906Z",
     "iopub.status.busy": "2025-07-30T21:12:47.192385Z",
     "iopub.status.idle": "2025-07-30T21:12:47.199917Z",
     "shell.execute_reply": "2025-07-30T21:12:47.198824Z"
    },
    "papermill": {
     "duration": 0.034101,
     "end_time": "2025-07-30T21:12:47.201907",
     "exception": false,
     "start_time": "2025-07-30T21:12:47.167806",
     "status": "completed"
    },
    "tags": []
   },
   "outputs": [],
   "source": [
    "from fairness_multiverse.conformal import compute_nc_scores\n",
    "\n",
    "# Compute nonconformity scores on calibration set (1 - probability of true class)\n",
    "nc_scores = compute_nc_scores(probs_calib, y_calib)"
   ]
  },
  {
   "cell_type": "code",
   "execution_count": 51,
   "id": "df3b8ca3-53b7-43d5-9667-7c85da7aeda2",
   "metadata": {
    "execution": {
     "iopub.execute_input": "2025-07-30T21:12:47.250371Z",
     "iopub.status.busy": "2025-07-30T21:12:47.249989Z",
     "iopub.status.idle": "2025-07-30T21:12:47.257459Z",
     "shell.execute_reply": "2025-07-30T21:12:47.256314Z"
    },
    "papermill": {
     "duration": 0.034714,
     "end_time": "2025-07-30T21:12:47.260927",
     "exception": false,
     "start_time": "2025-07-30T21:12:47.226213",
     "status": "completed"
    },
    "tags": []
   },
   "outputs": [],
   "source": [
    "from fairness_multiverse.conformal import find_threshold\n",
    "\n",
    "# Find conformal threshold q_hat for the given alpha (split conformal method)\n",
    "q_hat = find_threshold(nc_scores, alpha)"
   ]
  },
  {
   "cell_type": "code",
   "execution_count": 52,
   "id": "4d29e6c1-0ef6-4aa4-b8fe-4fe79b0d033a",
   "metadata": {
    "execution": {
     "iopub.execute_input": "2025-07-30T21:12:47.368666Z",
     "iopub.status.busy": "2025-07-30T21:12:47.368248Z",
     "iopub.status.idle": "2025-07-30T21:12:47.375468Z",
     "shell.execute_reply": "2025-07-30T21:12:47.374644Z"
    },
    "papermill": {
     "duration": 0.039313,
     "end_time": "2025-07-30T21:12:47.377010",
     "exception": false,
     "start_time": "2025-07-30T21:12:47.337697",
     "status": "completed"
    },
    "tags": []
   },
   "outputs": [
    {
     "data": {
      "text/plain": [
       "0.6799999999999999"
      ]
     },
     "execution_count": 52,
     "metadata": {},
     "output_type": "execute_result"
    }
   ],
   "source": [
    "q_hat"
   ]
  },
  {
   "cell_type": "code",
   "execution_count": 53,
   "id": "92460794-cdac-4be2-ba28-f28c0515a6fb",
   "metadata": {
    "execution": {
     "iopub.execute_input": "2025-07-30T21:12:47.449121Z",
     "iopub.status.busy": "2025-07-30T21:12:47.448720Z",
     "iopub.status.idle": "2025-07-30T21:12:49.171201Z",
     "shell.execute_reply": "2025-07-30T21:12:49.170165Z"
    },
    "papermill": {
     "duration": 1.757289,
     "end_time": "2025-07-30T21:12:49.173068",
     "exception": false,
     "start_time": "2025-07-30T21:12:47.415779",
     "status": "completed"
    },
    "tags": []
   },
   "outputs": [],
   "source": [
    "from fairness_multiverse.conformal import predict_conformal_sets\n",
    "\n",
    "# Generate prediction sets for each test example\n",
    "pred_sets = predict_conformal_sets(model, X_test, q_hat)"
   ]
  },
  {
   "cell_type": "code",
   "execution_count": 54,
   "id": "d90c9a65-e6db-4f5d-80cd-e68fb7e46829",
   "metadata": {
    "execution": {
     "iopub.execute_input": "2025-07-30T21:12:49.224130Z",
     "iopub.status.busy": "2025-07-30T21:12:49.223502Z",
     "iopub.status.idle": "2025-07-30T21:12:49.229020Z",
     "shell.execute_reply": "2025-07-30T21:12:49.227962Z"
    },
    "papermill": {
     "duration": 0.031055,
     "end_time": "2025-07-30T21:12:49.230666",
     "exception": false,
     "start_time": "2025-07-30T21:12:49.199611",
     "status": "completed"
    },
    "tags": []
   },
   "outputs": [],
   "source": [
    "y_true = y_true.squeeze()"
   ]
  },
  {
   "cell_type": "code",
   "execution_count": 55,
   "id": "3a58a54a-1e68-46b9-927a-df01f18aebc8",
   "metadata": {
    "execution": {
     "iopub.execute_input": "2025-07-30T21:12:49.278800Z",
     "iopub.status.busy": "2025-07-30T21:12:49.277958Z",
     "iopub.status.idle": "2025-07-30T21:12:50.156740Z",
     "shell.execute_reply": "2025-07-30T21:12:50.155699Z"
    },
    "papermill": {
     "duration": 0.90438,
     "end_time": "2025-07-30T21:12:50.158598",
     "exception": false,
     "start_time": "2025-07-30T21:12:49.254218",
     "status": "completed"
    },
    "tags": []
   },
   "outputs": [],
   "source": [
    "from fairness_multiverse.conformal import evaluate_sets\n",
    "\n",
    "# Evaluate coverage and average set size on test data\n",
    "metrics = evaluate_sets(pred_sets, y_true)"
   ]
  },
  {
   "cell_type": "markdown",
   "id": "2b569c12-9aaa-4c88-98c9-bbcd0cf3ebb8",
   "metadata": {
    "papermill": {
     "duration": 0.02489,
     "end_time": "2025-07-30T21:12:50.209389",
     "exception": false,
     "start_time": "2025-07-30T21:12:50.184499",
     "status": "completed"
    },
    "tags": []
   },
   "source": [
    "# CP Metrics"
   ]
  },
  {
   "cell_type": "code",
   "execution_count": 56,
   "id": "5ce0a5cb-201f-45a0-ade5-94c7f0bd6095",
   "metadata": {
    "execution": {
     "iopub.execute_input": "2025-07-30T21:12:50.258686Z",
     "iopub.status.busy": "2025-07-30T21:12:50.258204Z",
     "iopub.status.idle": "2025-07-30T21:12:50.265204Z",
     "shell.execute_reply": "2025-07-30T21:12:50.264218Z"
    },
    "papermill": {
     "duration": 0.033881,
     "end_time": "2025-07-30T21:12:50.266752",
     "exception": false,
     "start_time": "2025-07-30T21:12:50.232871",
     "status": "completed"
    },
    "tags": []
   },
   "outputs": [
    {
     "data": {
      "text/plain": [
       "{'coverage': 0.9154720766915617, 'avg_size': 1.1539181808048156}"
      ]
     },
     "execution_count": 56,
     "metadata": {},
     "output_type": "execute_result"
    }
   ],
   "source": [
    "metrics"
   ]
  },
  {
   "cell_type": "code",
   "execution_count": 57,
   "id": "9b9a838d-31c9-430b-ae14-12baee460d17",
   "metadata": {
    "execution": {
     "iopub.execute_input": "2025-07-30T21:12:50.316249Z",
     "iopub.status.busy": "2025-07-30T21:12:50.315366Z",
     "iopub.status.idle": "2025-07-30T21:12:50.322070Z",
     "shell.execute_reply": "2025-07-30T21:12:50.321114Z"
    },
    "papermill": {
     "duration": 0.033174,
     "end_time": "2025-07-30T21:12:50.323794",
     "exception": false,
     "start_time": "2025-07-30T21:12:50.290620",
     "status": "completed"
    },
    "tags": []
   },
   "outputs": [],
   "source": [
    "example_universe = universe.copy()\n",
    "universe_training_year = example_universe.get(\"training_year\")\n",
    "universe_training_size = example_universe.get(\"training_size\")\n",
    "universe_scale = example_universe.get(\"scale\")\n",
    "universe_model = example_universe.get(\"model\")\n",
    "universe_exclude_features = example_universe.get(\"exclude_features\")\n",
    "universe_exclude_subgroups = example_universe.get(\"exclude_subgroups\")"
   ]
  },
  {
   "cell_type": "code",
   "execution_count": 58,
   "id": "f4b6a8ac-9dc0-4245-8a91-5b3b5999c4f9",
   "metadata": {
    "execution": {
     "iopub.execute_input": "2025-07-30T21:12:50.373142Z",
     "iopub.status.busy": "2025-07-30T21:12:50.372174Z",
     "iopub.status.idle": "2025-07-30T21:12:50.379107Z",
     "shell.execute_reply": "2025-07-30T21:12:50.378238Z"
    },
    "papermill": {
     "duration": 0.032791,
     "end_time": "2025-07-30T21:12:50.380801",
     "exception": false,
     "start_time": "2025-07-30T21:12:50.348010",
     "status": "completed"
    },
    "tags": []
   },
   "outputs": [],
   "source": [
    "cp_metrics_dict = {\n",
    "    \"universe_id\": [universe_id],\n",
    "    \"universe_training_year\": [universe_training_year],\n",
    "    \"universe_training_size\": [universe_training_size],\n",
    "    \"universe_scale\": [universe_scale],\n",
    "    \"universe_model\": [universe_model],\n",
    "    \"universe_exclude_features\": [universe_exclude_features],\n",
    "    \"universe_exclude_subgroups\": [universe_exclude_subgroups],\n",
    "    \"q_hat\": [q_hat],\n",
    "    \"coverage\": [metrics[\"coverage\"]],\n",
    "    \"avg_size\": [metrics[\"avg_size\"]],\n",
    "}"
   ]
  },
  {
   "cell_type": "code",
   "execution_count": 59,
   "id": "908acbb1-0371-4915-85ca-3fa520d2efe2",
   "metadata": {
    "execution": {
     "iopub.execute_input": "2025-07-30T21:12:50.430572Z",
     "iopub.status.busy": "2025-07-30T21:12:50.429931Z",
     "iopub.status.idle": "2025-07-30T21:12:50.437419Z",
     "shell.execute_reply": "2025-07-30T21:12:50.436526Z"
    },
    "papermill": {
     "duration": 0.032942,
     "end_time": "2025-07-30T21:12:50.438948",
     "exception": false,
     "start_time": "2025-07-30T21:12:50.406006",
     "status": "completed"
    },
    "tags": []
   },
   "outputs": [
    {
     "data": {
      "text/plain": [
       "{'universe_id': ['e70491ddafb9d20c0fb72bfd89fc76f3'],\n",
       " 'universe_training_year': ['2010_14'],\n",
       " 'universe_training_size': ['5k'],\n",
       " 'universe_scale': ['scale'],\n",
       " 'universe_model': ['rf'],\n",
       " 'universe_exclude_features': ['age'],\n",
       " 'universe_exclude_subgroups': ['keep-all'],\n",
       " 'q_hat': [0.6799999999999999],\n",
       " 'coverage': [0.9154720766915617],\n",
       " 'avg_size': [1.1539181808048156]}"
      ]
     },
     "execution_count": 59,
     "metadata": {},
     "output_type": "execute_result"
    }
   ],
   "source": [
    "cp_metrics_dict"
   ]
  },
  {
   "cell_type": "code",
   "execution_count": 60,
   "id": "33007efc-14e9-4ec6-97ac-56a455c82265",
   "metadata": {
    "execution": {
     "iopub.execute_input": "2025-07-30T21:12:50.490256Z",
     "iopub.status.busy": "2025-07-30T21:12:50.489573Z",
     "iopub.status.idle": "2025-07-30T21:12:50.496281Z",
     "shell.execute_reply": "2025-07-30T21:12:50.495297Z"
    },
    "papermill": {
     "duration": 0.032577,
     "end_time": "2025-07-30T21:12:50.497991",
     "exception": false,
     "start_time": "2025-07-30T21:12:50.465414",
     "status": "completed"
    },
    "tags": []
   },
   "outputs": [],
   "source": [
    "cp_metrics_df = pd.DataFrame(cp_metrics_dict)"
   ]
  },
  {
   "cell_type": "code",
   "execution_count": 61,
   "id": "db12611b-57b2-4910-b9d0-355adfd6e7bf",
   "metadata": {
    "execution": {
     "iopub.execute_input": "2025-07-30T21:12:50.547668Z",
     "iopub.status.busy": "2025-07-30T21:12:50.547043Z",
     "iopub.status.idle": "2025-07-30T21:12:50.565326Z",
     "shell.execute_reply": "2025-07-30T21:12:50.564345Z"
    },
    "papermill": {
     "duration": 0.043836,
     "end_time": "2025-07-30T21:12:50.566960",
     "exception": false,
     "start_time": "2025-07-30T21:12:50.523124",
     "status": "completed"
    },
    "tags": []
   },
   "outputs": [
    {
     "data": {
      "text/html": [
       "<div>\n",
       "<style scoped>\n",
       "    .dataframe tbody tr th:only-of-type {\n",
       "        vertical-align: middle;\n",
       "    }\n",
       "\n",
       "    .dataframe tbody tr th {\n",
       "        vertical-align: top;\n",
       "    }\n",
       "\n",
       "    .dataframe thead th {\n",
       "        text-align: right;\n",
       "    }\n",
       "</style>\n",
       "<table border=\"1\" class=\"dataframe\">\n",
       "  <thead>\n",
       "    <tr style=\"text-align: right;\">\n",
       "      <th></th>\n",
       "      <th>universe_id</th>\n",
       "      <th>universe_training_year</th>\n",
       "      <th>universe_training_size</th>\n",
       "      <th>universe_scale</th>\n",
       "      <th>universe_model</th>\n",
       "      <th>universe_exclude_features</th>\n",
       "      <th>universe_exclude_subgroups</th>\n",
       "      <th>q_hat</th>\n",
       "      <th>coverage</th>\n",
       "      <th>avg_size</th>\n",
       "    </tr>\n",
       "  </thead>\n",
       "  <tbody>\n",
       "    <tr>\n",
       "      <th>0</th>\n",
       "      <td>e70491ddafb9d20c0fb72bfd89fc76f3</td>\n",
       "      <td>2010_14</td>\n",
       "      <td>5k</td>\n",
       "      <td>scale</td>\n",
       "      <td>rf</td>\n",
       "      <td>age</td>\n",
       "      <td>keep-all</td>\n",
       "      <td>0.68</td>\n",
       "      <td>0.915472</td>\n",
       "      <td>1.153918</td>\n",
       "    </tr>\n",
       "  </tbody>\n",
       "</table>\n",
       "</div>"
      ],
      "text/plain": [
       "                        universe_id universe_training_year  \\\n",
       "0  e70491ddafb9d20c0fb72bfd89fc76f3                2010_14   \n",
       "\n",
       "  universe_training_size universe_scale universe_model  \\\n",
       "0                     5k          scale             rf   \n",
       "\n",
       "  universe_exclude_features universe_exclude_subgroups  q_hat  coverage  \\\n",
       "0                       age                   keep-all   0.68  0.915472   \n",
       "\n",
       "   avg_size  \n",
       "0  1.153918  "
      ]
     },
     "execution_count": 61,
     "metadata": {},
     "output_type": "execute_result"
    }
   ],
   "source": [
    "cp_metrics_df"
   ]
  },
  {
   "cell_type": "code",
   "execution_count": 62,
   "id": "b7fbde55-a0a1-47e4-9af6-fe4a17fa8c61",
   "metadata": {
    "execution": {
     "iopub.execute_input": "2025-07-30T21:12:50.617941Z",
     "iopub.status.busy": "2025-07-30T21:12:50.617293Z",
     "iopub.status.idle": "2025-07-30T21:12:50.622385Z",
     "shell.execute_reply": "2025-07-30T21:12:50.621345Z"
    },
    "papermill": {
     "duration": 0.031296,
     "end_time": "2025-07-30T21:12:50.623970",
     "exception": false,
     "start_time": "2025-07-30T21:12:50.592674",
     "status": "completed"
    },
    "tags": []
   },
   "outputs": [],
   "source": [
    "# Conditional Coverage & looking at subgroups"
   ]
  },
  {
   "cell_type": "code",
   "execution_count": 63,
   "id": "027ae886-68dd-4141-96c7-805a5450e1ef",
   "metadata": {
    "execution": {
     "iopub.execute_input": "2025-07-30T21:12:50.676347Z",
     "iopub.status.busy": "2025-07-30T21:12:50.675634Z",
     "iopub.status.idle": "2025-07-30T21:12:50.934073Z",
     "shell.execute_reply": "2025-07-30T21:12:50.931875Z"
    },
    "papermill": {
     "duration": 0.286104,
     "end_time": "2025-07-30T21:12:50.935520",
     "exception": false,
     "start_time": "2025-07-30T21:12:50.649416",
     "status": "completed"
    },
    "tags": []
   },
   "outputs": [],
   "source": [
    "from fairness_multiverse.conformal import build_cp_groups\n",
    "\n",
    "cp_groups_df = build_cp_groups(pred_sets, y_true, X_test.index, org_test)\n",
    "#needs universe_id and setting"
   ]
  },
  {
   "cell_type": "code",
   "execution_count": 64,
   "id": "01d5802c-663a-4d1f-9d69-e036faaffbf7",
   "metadata": {
    "execution": {
     "iopub.execute_input": "2025-07-30T21:12:50.991697Z",
     "iopub.status.busy": "2025-07-30T21:12:50.991020Z",
     "iopub.status.idle": "2025-07-30T21:12:50.995964Z",
     "shell.execute_reply": "2025-07-30T21:12:50.994969Z"
    },
    "papermill": {
     "duration": 0.034632,
     "end_time": "2025-07-30T21:12:50.997727",
     "exception": false,
     "start_time": "2025-07-30T21:12:50.963095",
     "status": "completed"
    },
    "tags": []
   },
   "outputs": [],
   "source": [
    "#delete\n",
    "#cp_groups_df"
   ]
  },
  {
   "cell_type": "code",
   "execution_count": 65,
   "id": "fa424af1-d1eb-443d-b717-2d279ada8408",
   "metadata": {
    "execution": {
     "iopub.execute_input": "2025-07-30T21:12:51.049657Z",
     "iopub.status.busy": "2025-07-30T21:12:51.048786Z",
     "iopub.status.idle": "2025-07-30T21:12:51.054164Z",
     "shell.execute_reply": "2025-07-30T21:12:51.053176Z"
    },
    "papermill": {
     "duration": 0.032108,
     "end_time": "2025-07-30T21:12:51.055889",
     "exception": false,
     "start_time": "2025-07-30T21:12:51.023781",
     "status": "completed"
    },
    "tags": []
   },
   "outputs": [],
   "source": [
    "#delete\n",
    "#percentage = (cp_groups_df['nongerman_female'] == 1).mean() * 100\n",
    "#print(percentage)\n"
   ]
  },
  {
   "cell_type": "code",
   "execution_count": 66,
   "id": "6cbdab96-b2b2-45af-ad54-d0516db2e28d",
   "metadata": {
    "execution": {
     "iopub.execute_input": "2025-07-30T21:12:51.108796Z",
     "iopub.status.busy": "2025-07-30T21:12:51.107952Z",
     "iopub.status.idle": "2025-07-30T21:12:52.599576Z",
     "shell.execute_reply": "2025-07-30T21:12:52.598401Z"
    },
    "papermill": {
     "duration": 1.520785,
     "end_time": "2025-07-30T21:12:52.601384",
     "exception": false,
     "start_time": "2025-07-30T21:12:51.080599",
     "status": "completed"
    },
    "tags": []
   },
   "outputs": [],
   "source": [
    "# Define covered = 1 if true_label is in the predicted set\n",
    "cp_groups_df['covered'] = cp_groups_df.apply(\n",
    "    lambda r: int(r['true_label'] in r['pred_set']),\n",
    "    axis=1\n",
    ")"
   ]
  },
  {
   "cell_type": "code",
   "execution_count": 67,
   "id": "338ff529-1a6b-4b87-a931-8e4788d52aad",
   "metadata": {
    "execution": {
     "iopub.execute_input": "2025-07-30T21:12:52.662875Z",
     "iopub.status.busy": "2025-07-30T21:12:52.661558Z",
     "iopub.status.idle": "2025-07-30T21:12:52.667785Z",
     "shell.execute_reply": "2025-07-30T21:12:52.666801Z"
    },
    "papermill": {
     "duration": 0.037713,
     "end_time": "2025-07-30T21:12:52.669618",
     "exception": false,
     "start_time": "2025-07-30T21:12:52.631905",
     "status": "completed"
    },
    "tags": []
   },
   "outputs": [],
   "source": [
    "#cp_groups_df"
   ]
  },
  {
   "cell_type": "code",
   "execution_count": 68,
   "id": "90032e27-66df-4540-9169-4e89cfbaa758",
   "metadata": {
    "execution": {
     "iopub.execute_input": "2025-07-30T21:12:52.721384Z",
     "iopub.status.busy": "2025-07-30T21:12:52.720921Z",
     "iopub.status.idle": "2025-07-30T21:12:52.732638Z",
     "shell.execute_reply": "2025-07-30T21:12:52.731620Z"
    },
    "papermill": {
     "duration": 0.038375,
     "end_time": "2025-07-30T21:12:52.734452",
     "exception": false,
     "start_time": "2025-07-30T21:12:52.696077",
     "status": "completed"
    },
    "tags": []
   },
   "outputs": [],
   "source": [
    "subgroups = ['frau1','nongerman','nongerman_male','nongerman_female']\n",
    "\n",
    "# Conditional coverage for subgroup==1\n",
    "cond_coverage = {\n",
    "    g: cp_groups_df.loc[cp_groups_df[g]==1, 'covered'].mean()\n",
    "    for g in subgroups\n",
    "}"
   ]
  },
  {
   "cell_type": "code",
   "execution_count": 69,
   "id": "1e348fb1-b9c3-45bc-ba23-f016827a7e0d",
   "metadata": {
    "execution": {
     "iopub.execute_input": "2025-07-30T21:12:52.787214Z",
     "iopub.status.busy": "2025-07-30T21:12:52.786331Z",
     "iopub.status.idle": "2025-07-30T21:12:52.794177Z",
     "shell.execute_reply": "2025-07-30T21:12:52.793238Z"
    },
    "papermill": {
     "duration": 0.036057,
     "end_time": "2025-07-30T21:12:52.795893",
     "exception": false,
     "start_time": "2025-07-30T21:12:52.759836",
     "status": "completed"
    },
    "tags": []
   },
   "outputs": [
    {
     "data": {
      "text/plain": [
       "{'frau1': 0.9119557891899178,\n",
       " 'nongerman': 0.9110200415426936,\n",
       " 'nongerman_male': 0.9253354949112852,\n",
       " 'nongerman_female': 0.8873323397913562}"
      ]
     },
     "execution_count": 69,
     "metadata": {},
     "output_type": "execute_result"
    }
   ],
   "source": [
    "cond_coverage"
   ]
  },
  {
   "cell_type": "code",
   "execution_count": 70,
   "id": "f5093324-c3dd-4d63-bc4c-8d945e5c8bbb",
   "metadata": {
    "execution": {
     "iopub.execute_input": "2025-07-30T21:12:52.847417Z",
     "iopub.status.busy": "2025-07-30T21:12:52.846522Z",
     "iopub.status.idle": "2025-07-30T21:12:52.854292Z",
     "shell.execute_reply": "2025-07-30T21:12:52.853265Z"
    },
    "papermill": {
     "duration": 0.034906,
     "end_time": "2025-07-30T21:12:52.855996",
     "exception": false,
     "start_time": "2025-07-30T21:12:52.821090",
     "status": "completed"
    },
    "tags": []
   },
   "outputs": [],
   "source": [
    "for subgroup, cov in cond_coverage.items():\n",
    "    cp_metrics_df[f\"cov_{subgroup}\"] = cov"
   ]
  },
  {
   "cell_type": "code",
   "execution_count": 71,
   "id": "6e872e10-dbe5-49e8-b554-5030c98ff75d",
   "metadata": {
    "execution": {
     "iopub.execute_input": "2025-07-30T21:12:52.909020Z",
     "iopub.status.busy": "2025-07-30T21:12:52.908383Z",
     "iopub.status.idle": "2025-07-30T21:12:52.927078Z",
     "shell.execute_reply": "2025-07-30T21:12:52.926068Z"
    },
    "papermill": {
     "duration": 0.046523,
     "end_time": "2025-07-30T21:12:52.928948",
     "exception": false,
     "start_time": "2025-07-30T21:12:52.882425",
     "status": "completed"
    },
    "tags": []
   },
   "outputs": [
    {
     "data": {
      "text/html": [
       "<div>\n",
       "<style scoped>\n",
       "    .dataframe tbody tr th:only-of-type {\n",
       "        vertical-align: middle;\n",
       "    }\n",
       "\n",
       "    .dataframe tbody tr th {\n",
       "        vertical-align: top;\n",
       "    }\n",
       "\n",
       "    .dataframe thead th {\n",
       "        text-align: right;\n",
       "    }\n",
       "</style>\n",
       "<table border=\"1\" class=\"dataframe\">\n",
       "  <thead>\n",
       "    <tr style=\"text-align: right;\">\n",
       "      <th></th>\n",
       "      <th>universe_id</th>\n",
       "      <th>universe_training_year</th>\n",
       "      <th>universe_training_size</th>\n",
       "      <th>universe_scale</th>\n",
       "      <th>universe_model</th>\n",
       "      <th>universe_exclude_features</th>\n",
       "      <th>universe_exclude_subgroups</th>\n",
       "      <th>q_hat</th>\n",
       "      <th>coverage</th>\n",
       "      <th>avg_size</th>\n",
       "      <th>cov_frau1</th>\n",
       "      <th>cov_nongerman</th>\n",
       "      <th>cov_nongerman_male</th>\n",
       "      <th>cov_nongerman_female</th>\n",
       "    </tr>\n",
       "  </thead>\n",
       "  <tbody>\n",
       "    <tr>\n",
       "      <th>0</th>\n",
       "      <td>e70491ddafb9d20c0fb72bfd89fc76f3</td>\n",
       "      <td>2010_14</td>\n",
       "      <td>5k</td>\n",
       "      <td>scale</td>\n",
       "      <td>rf</td>\n",
       "      <td>age</td>\n",
       "      <td>keep-all</td>\n",
       "      <td>0.68</td>\n",
       "      <td>0.915472</td>\n",
       "      <td>1.153918</td>\n",
       "      <td>0.911956</td>\n",
       "      <td>0.91102</td>\n",
       "      <td>0.925335</td>\n",
       "      <td>0.887332</td>\n",
       "    </tr>\n",
       "  </tbody>\n",
       "</table>\n",
       "</div>"
      ],
      "text/plain": [
       "                        universe_id universe_training_year  \\\n",
       "0  e70491ddafb9d20c0fb72bfd89fc76f3                2010_14   \n",
       "\n",
       "  universe_training_size universe_scale universe_model  \\\n",
       "0                     5k          scale             rf   \n",
       "\n",
       "  universe_exclude_features universe_exclude_subgroups  q_hat  coverage  \\\n",
       "0                       age                   keep-all   0.68  0.915472   \n",
       "\n",
       "   avg_size  cov_frau1  cov_nongerman  cov_nongerman_male  \\\n",
       "0  1.153918   0.911956        0.91102            0.925335   \n",
       "\n",
       "   cov_nongerman_female  \n",
       "0              0.887332  "
      ]
     },
     "execution_count": 71,
     "metadata": {},
     "output_type": "execute_result"
    }
   ],
   "source": [
    "cp_metrics_df"
   ]
  },
  {
   "cell_type": "markdown",
   "id": "33774451",
   "metadata": {
    "papermill": {
     "duration": 0.026523,
     "end_time": "2025-07-30T21:12:52.985996",
     "exception": false,
     "start_time": "2025-07-30T21:12:52.959473",
     "status": "completed"
    },
    "tags": []
   },
   "source": [
    "# (Fairness) Metrics"
   ]
  },
  {
   "cell_type": "code",
   "execution_count": 72,
   "id": "debc5d62",
   "metadata": {
    "execution": {
     "iopub.execute_input": "2025-07-30T21:12:53.040447Z",
     "iopub.status.busy": "2025-07-30T21:12:53.040011Z",
     "iopub.status.idle": "2025-07-30T21:12:53.063612Z",
     "shell.execute_reply": "2025-07-30T21:12:53.062580Z"
    },
    "papermill": {
     "duration": 0.053538,
     "end_time": "2025-07-30T21:12:53.065429",
     "exception": false,
     "start_time": "2025-07-30T21:12:53.011891",
     "status": "completed"
    },
    "tags": []
   },
   "outputs": [],
   "source": [
    "# do I need to include maxdeutsch1.missing?\n",
    "\n",
    "import numpy as np\n",
    "\n",
    "colname_to_bin = \"maxdeutsch1\"\n",
    "majority_value = org_train[colname_to_bin].mode()[0]\n",
    "\n",
    "org_test[\"majmin\"] = np.where(org_test[colname_to_bin] == majority_value, \"majority\", \"minority\")"
   ]
  },
  {
   "cell_type": "code",
   "execution_count": 73,
   "id": "06a50de5",
   "metadata": {
    "execution": {
     "iopub.execute_input": "2025-07-30T21:12:53.121212Z",
     "iopub.status.busy": "2025-07-30T21:12:53.120742Z",
     "iopub.status.idle": "2025-07-30T21:12:55.927492Z",
     "shell.execute_reply": "2025-07-30T21:12:55.926541Z"
    },
    "papermill": {
     "duration": 2.836298,
     "end_time": "2025-07-30T21:12:55.929219",
     "exception": false,
     "start_time": "2025-07-30T21:12:53.092921",
     "status": "completed"
    },
    "tags": []
   },
   "outputs": [],
   "source": [
    "example_universe = universe.copy()\n",
    "example_universe[\"cutoff\"] = example_universe[\"cutoff\"][0]\n",
    "example_universe[\"eval_fairness_grouping\"] = example_universe[\"eval_fairness_grouping\"][0]\n",
    "fairness_dict, metric_frame = universe_analysis.compute_metrics(\n",
    "    example_universe,\n",
    "    y_pred_prob=probs_test,\n",
    "    y_test=y_true,\n",
    "    org_test=org_test,\n",
    ")"
   ]
  },
  {
   "cell_type": "markdown",
   "id": "f95d4e02",
   "metadata": {
    "papermill": {
     "duration": 0.029383,
     "end_time": "2025-07-30T21:12:55.987639",
     "exception": false,
     "start_time": "2025-07-30T21:12:55.958256",
     "status": "completed"
    },
    "tags": []
   },
   "source": [
    "# Overall"
   ]
  },
  {
   "cell_type": "markdown",
   "id": "bdee4871",
   "metadata": {
    "papermill": {
     "duration": 0.027156,
     "end_time": "2025-07-30T21:12:56.040643",
     "exception": false,
     "start_time": "2025-07-30T21:12:56.013487",
     "status": "completed"
    },
    "tags": []
   },
   "source": [
    "Fairness\n",
    "Main fairness target: Equalized Odds. Seems to be a better fit than equal opportunity, since we're not only interested in Y = 1. Seems to be a better fit than demographic parity, since we also care about accuracy, not just equal distribution of preds.\n",
    "\n",
    "Pick column for computation of fairness metrics\n",
    "\n",
    "Performance\n",
    "Overall performance measures, most interesting in relation to the measures split by group below"
   ]
  },
  {
   "cell_type": "code",
   "execution_count": 74,
   "id": "c4e067c6",
   "metadata": {
    "execution": {
     "iopub.execute_input": "2025-07-30T21:12:56.095493Z",
     "iopub.status.busy": "2025-07-30T21:12:56.094631Z",
     "iopub.status.idle": "2025-07-30T21:12:56.103617Z",
     "shell.execute_reply": "2025-07-30T21:12:56.102654Z"
    },
    "papermill": {
     "duration": 0.038204,
     "end_time": "2025-07-30T21:12:56.105376",
     "exception": false,
     "start_time": "2025-07-30T21:12:56.067172",
     "status": "completed"
    },
    "tags": []
   },
   "outputs": [
    {
     "data": {
      "text/plain": [
       "accuracy                   0.210958\n",
       "balanced accuracy          0.531526\n",
       "f1                         0.238404\n",
       "precision                  0.136047\n",
       "false positive rate        0.899670\n",
       "false negative rate        0.037278\n",
       "selection rate             0.907758\n",
       "count                  89710.000000\n",
       "dtype: float64"
      ]
     },
     "execution_count": 74,
     "metadata": {},
     "output_type": "execute_result"
    }
   ],
   "source": [
    "metric_frame.overall"
   ]
  },
  {
   "cell_type": "markdown",
   "id": "e968fe9d",
   "metadata": {
    "papermill": {
     "duration": 0.026929,
     "end_time": "2025-07-30T21:12:56.161167",
     "exception": false,
     "start_time": "2025-07-30T21:12:56.134238",
     "status": "completed"
    },
    "tags": []
   },
   "source": [
    "By Group"
   ]
  },
  {
   "cell_type": "code",
   "execution_count": 75,
   "id": "ec325bce",
   "metadata": {
    "execution": {
     "iopub.execute_input": "2025-07-30T21:12:56.218485Z",
     "iopub.status.busy": "2025-07-30T21:12:56.217986Z",
     "iopub.status.idle": "2025-07-30T21:12:56.234808Z",
     "shell.execute_reply": "2025-07-30T21:12:56.233883Z"
    },
    "papermill": {
     "duration": 0.053351,
     "end_time": "2025-07-30T21:12:56.242719",
     "exception": false,
     "start_time": "2025-07-30T21:12:56.189368",
     "status": "completed"
    },
    "tags": []
   },
   "outputs": [
    {
     "data": {
      "text/html": [
       "<div>\n",
       "<style scoped>\n",
       "    .dataframe tbody tr th:only-of-type {\n",
       "        vertical-align: middle;\n",
       "    }\n",
       "\n",
       "    .dataframe tbody tr th {\n",
       "        vertical-align: top;\n",
       "    }\n",
       "\n",
       "    .dataframe thead th {\n",
       "        text-align: right;\n",
       "    }\n",
       "</style>\n",
       "<table border=\"1\" class=\"dataframe\">\n",
       "  <thead>\n",
       "    <tr style=\"text-align: right;\">\n",
       "      <th></th>\n",
       "      <th>accuracy</th>\n",
       "      <th>balanced accuracy</th>\n",
       "      <th>f1</th>\n",
       "      <th>precision</th>\n",
       "      <th>false positive rate</th>\n",
       "      <th>false negative rate</th>\n",
       "      <th>selection rate</th>\n",
       "      <th>count</th>\n",
       "    </tr>\n",
       "    <tr>\n",
       "      <th>majmin</th>\n",
       "      <th></th>\n",
       "      <th></th>\n",
       "      <th></th>\n",
       "      <th></th>\n",
       "      <th></th>\n",
       "      <th></th>\n",
       "      <th></th>\n",
       "      <th></th>\n",
       "    </tr>\n",
       "  </thead>\n",
       "  <tbody>\n",
       "    <tr>\n",
       "      <th>majority</th>\n",
       "      <td>0.184704</td>\n",
       "      <td>0.526297</td>\n",
       "      <td>0.243054</td>\n",
       "      <td>0.138521</td>\n",
       "      <td>0.937998</td>\n",
       "      <td>0.009409</td>\n",
       "      <td>0.944947</td>\n",
       "      <td>69170.0</td>\n",
       "    </tr>\n",
       "    <tr>\n",
       "      <th>minority</th>\n",
       "      <td>0.299367</td>\n",
       "      <td>0.541047</td>\n",
       "      <td>0.219619</td>\n",
       "      <td>0.125988</td>\n",
       "      <td>0.773057</td>\n",
       "      <td>0.144848</td>\n",
       "      <td>0.782522</td>\n",
       "      <td>20540.0</td>\n",
       "    </tr>\n",
       "  </tbody>\n",
       "</table>\n",
       "</div>"
      ],
      "text/plain": [
       "          accuracy  balanced accuracy        f1  precision  \\\n",
       "majmin                                                       \n",
       "majority  0.184704           0.526297  0.243054   0.138521   \n",
       "minority  0.299367           0.541047  0.219619   0.125988   \n",
       "\n",
       "          false positive rate  false negative rate  selection rate    count  \n",
       "majmin                                                                       \n",
       "majority             0.937998             0.009409        0.944947  69170.0  \n",
       "minority             0.773057             0.144848        0.782522  20540.0  "
      ]
     },
     "execution_count": 75,
     "metadata": {},
     "output_type": "execute_result"
    }
   ],
   "source": [
    "metric_frame.by_group"
   ]
  },
  {
   "cell_type": "code",
   "execution_count": 76,
   "id": "a9ddbe63",
   "metadata": {
    "execution": {
     "iopub.execute_input": "2025-07-30T21:12:56.300383Z",
     "iopub.status.busy": "2025-07-30T21:12:56.299814Z",
     "iopub.status.idle": "2025-07-30T21:12:58.673359Z",
     "shell.execute_reply": "2025-07-30T21:12:58.672407Z"
    },
    "papermill": {
     "duration": 2.403598,
     "end_time": "2025-07-30T21:12:58.675014",
     "exception": false,
     "start_time": "2025-07-30T21:12:56.271416",
     "status": "completed"
    },
    "tags": []
   },
   "outputs": [
    {
     "data": {
      "text/plain": [
       "array([[<Axes: title={'center': 'accuracy'}, xlabel='majmin'>,\n",
       "        <Axes: title={'center': 'balanced accuracy'}, xlabel='majmin'>,\n",
       "        <Axes: title={'center': 'f1'}, xlabel='majmin'>],\n",
       "       [<Axes: title={'center': 'precision'}, xlabel='majmin'>,\n",
       "        <Axes: title={'center': 'false positive rate'}, xlabel='majmin'>,\n",
       "        <Axes: title={'center': 'false negative rate'}, xlabel='majmin'>],\n",
       "       [<Axes: title={'center': 'selection rate'}, xlabel='majmin'>,\n",
       "        <Axes: title={'center': 'count'}, xlabel='majmin'>,\n",
       "        <Axes: xlabel='majmin'>]], dtype=object)"
      ]
     },
     "execution_count": 76,
     "metadata": {},
     "output_type": "execute_result"
    },
    {
     "data": {
      "image/png": "[encoded data removed]",
      "text/plain": [
       "<Figure size 1200x800 with 9 Axes>"
      ]
     },
     "metadata": {},
     "output_type": "display_data"
    }
   ],
   "source": [
    "# In a graphic\n",
    "metric_frame.by_group.plot.bar(\n",
    "    subplots=True,\n",
    "    layout=[3, 3],\n",
    "    legend=False,\n",
    "    figsize=[12, 8],\n",
    "    title=\"Show all metrics\",\n",
    ")"
   ]
  },
  {
   "cell_type": "markdown",
   "id": "f57a0bac",
   "metadata": {
    "papermill": {
     "duration": 0.03085,
     "end_time": "2025-07-30T21:12:58.740488",
     "exception": false,
     "start_time": "2025-07-30T21:12:58.709638",
     "status": "completed"
    },
    "tags": []
   },
   "source": [
    "# Final Output"
   ]
  },
  {
   "cell_type": "code",
   "execution_count": 77,
   "id": "96d280a3",
   "metadata": {
    "execution": {
     "iopub.execute_input": "2025-07-30T21:12:58.803423Z",
     "iopub.status.busy": "2025-07-30T21:12:58.802625Z",
     "iopub.status.idle": "2025-07-30T21:12:58.811276Z",
     "shell.execute_reply": "2025-07-30T21:12:58.810349Z"
    },
    "papermill": {
     "duration": 0.041339,
     "end_time": "2025-07-30T21:12:58.812979",
     "exception": false,
     "start_time": "2025-07-30T21:12:58.771640",
     "status": "completed"
    },
    "tags": []
   },
   "outputs": [
    {
     "data": {
      "text/plain": [
       "4"
      ]
     },
     "execution_count": 77,
     "metadata": {},
     "output_type": "execute_result"
    }
   ],
   "source": [
    "sub_universes = universe_analysis.generate_sub_universes()\n",
    "len(sub_universes)"
   ]
  },
  {
   "cell_type": "code",
   "execution_count": 78,
   "id": "92adf7ba",
   "metadata": {
    "execution": {
     "iopub.execute_input": "2025-07-30T21:12:58.874962Z",
     "iopub.status.busy": "2025-07-30T21:12:58.874053Z",
     "iopub.status.idle": "2025-07-30T21:12:58.880554Z",
     "shell.execute_reply": "2025-07-30T21:12:58.879487Z"
    },
    "papermill": {
     "duration": 0.038842,
     "end_time": "2025-07-30T21:12:58.882445",
     "exception": false,
     "start_time": "2025-07-30T21:12:58.843603",
     "status": "completed"
    },
    "tags": []
   },
   "outputs": [],
   "source": [
    "def filter_sub_universe_data(sub_universe, org_test):\n",
    "    # Keep all rows — no filtering\n",
    "    keep_rows_mask = np.ones(org_test.shape[0], dtype=bool)\n",
    "\n",
    "    print(f\"[INFO] Keeping all rows: {keep_rows_mask.sum()} rows retained.\")\n",
    "    return keep_rows_mask"
   ]
  },
  {
   "cell_type": "code",
   "execution_count": 79,
   "id": "4a759155",
   "metadata": {
    "execution": {
     "iopub.execute_input": "2025-07-30T21:12:58.945138Z",
     "iopub.status.busy": "2025-07-30T21:12:58.944235Z",
     "iopub.status.idle": "2025-07-30T21:13:07.289249Z",
     "shell.execute_reply": "2025-07-30T21:13:07.288547Z"
    },
    "papermill": {
     "duration": 8.377479,
     "end_time": "2025-07-30T21:13:07.290487",
     "exception": false,
     "start_time": "2025-07-30T21:12:58.913008",
     "status": "completed"
    },
    "tags": []
   },
   "outputs": [
    {
     "name": "stdout",
     "output_type": "stream",
     "text": [
      "Stopping execution_time clock.\n",
      "[INFO] Keeping all rows: 89710 rows retained.\n"
     ]
    },
    {
     "name": "stdout",
     "output_type": "stream",
     "text": [
      "[INFO] Keeping all rows: 89710 rows retained.\n"
     ]
    },
    {
     "name": "stdout",
     "output_type": "stream",
     "text": [
      "[INFO] Keeping all rows: 89710 rows retained.\n"
     ]
    },
    {
     "name": "stdout",
     "output_type": "stream",
     "text": [
      "[INFO] Keeping all rows: 89710 rows retained.\n"
     ]
    },
    {
     "data": {
      "text/html": [
       "<div>\n",
       "<style scoped>\n",
       "    .dataframe tbody tr th:only-of-type {\n",
       "        vertical-align: middle;\n",
       "    }\n",
       "\n",
       "    .dataframe tbody tr th {\n",
       "        vertical-align: top;\n",
       "    }\n",
       "\n",
       "    .dataframe thead th {\n",
       "        text-align: right;\n",
       "    }\n",
       "</style>\n",
       "<table border=\"1\" class=\"dataframe\">\n",
       "  <thead>\n",
       "    <tr style=\"text-align: right;\">\n",
       "      <th></th>\n",
       "      <th>run_no</th>\n",
       "      <th>universe_id</th>\n",
       "      <th>universe_settings</th>\n",
       "      <th>execution_time</th>\n",
       "      <th>test_size_n</th>\n",
       "      <th>test_size_frac</th>\n",
       "      <th>fair_main_equalized_odds_difference</th>\n",
       "      <th>fair_main_equalized_odds_ratio</th>\n",
       "      <th>fair_main_demographic_parity_difference</th>\n",
       "      <th>fair_main_demographic_parity_ratio</th>\n",
       "      <th>...</th>\n",
       "      <th>perf_grp_precision_0</th>\n",
       "      <th>perf_grp_precision_1</th>\n",
       "      <th>perf_grp_false positive rate_0</th>\n",
       "      <th>perf_grp_false positive rate_1</th>\n",
       "      <th>perf_grp_false negative rate_0</th>\n",
       "      <th>perf_grp_false negative rate_1</th>\n",
       "      <th>perf_grp_selection rate_0</th>\n",
       "      <th>perf_grp_selection rate_1</th>\n",
       "      <th>perf_grp_count_0</th>\n",
       "      <th>perf_grp_count_1</th>\n",
       "    </tr>\n",
       "  </thead>\n",
       "  <tbody>\n",
       "    <tr>\n",
       "      <th>0</th>\n",
       "      <td>14</td>\n",
       "      <td>e70491ddafb9d20c0fb72bfd89fc76f3</td>\n",
       "      <td>{\"cutoff\": \"quantile_0.1\", \"eval_fairness_grou...</td>\n",
       "      <td>34.322388</td>\n",
       "      <td>89710</td>\n",
       "      <td>1.0</td>\n",
       "      <td>0.16494</td>\n",
       "      <td>0.824157</td>\n",
       "      <td>0.162425</td>\n",
       "      <td>0.828112</td>\n",
       "      <td>...</td>\n",
       "      <td>NaN</td>\n",
       "      <td>NaN</td>\n",
       "      <td>NaN</td>\n",
       "      <td>NaN</td>\n",
       "      <td>NaN</td>\n",
       "      <td>NaN</td>\n",
       "      <td>NaN</td>\n",
       "      <td>NaN</td>\n",
       "      <td>NaN</td>\n",
       "      <td>NaN</td>\n",
       "    </tr>\n",
       "    <tr>\n",
       "      <th>0</th>\n",
       "      <td>14</td>\n",
       "      <td>e70491ddafb9d20c0fb72bfd89fc76f3</td>\n",
       "      <td>{\"cutoff\": \"quantile_0.1\", \"eval_fairness_grou...</td>\n",
       "      <td>34.322388</td>\n",
       "      <td>89710</td>\n",
       "      <td>1.0</td>\n",
       "      <td>0.16494</td>\n",
       "      <td>0.824157</td>\n",
       "      <td>0.162425</td>\n",
       "      <td>0.828112</td>\n",
       "      <td>...</td>\n",
       "      <td>0.125988</td>\n",
       "      <td>0.138521</td>\n",
       "      <td>0.773057</td>\n",
       "      <td>0.937998</td>\n",
       "      <td>0.144848</td>\n",
       "      <td>0.009409</td>\n",
       "      <td>0.782522</td>\n",
       "      <td>0.944947</td>\n",
       "      <td>20540.0</td>\n",
       "      <td>69170.0</td>\n",
       "    </tr>\n",
       "    <tr>\n",
       "      <th>0</th>\n",
       "      <td>14</td>\n",
       "      <td>e70491ddafb9d20c0fb72bfd89fc76f3</td>\n",
       "      <td>{\"cutoff\": \"quantile_0.25\", \"eval_fairness_gro...</td>\n",
       "      <td>34.322388</td>\n",
       "      <td>89710</td>\n",
       "      <td>1.0</td>\n",
       "      <td>0.17314</td>\n",
       "      <td>0.800601</td>\n",
       "      <td>0.160470</td>\n",
       "      <td>0.800167</td>\n",
       "      <td>...</td>\n",
       "      <td>NaN</td>\n",
       "      <td>NaN</td>\n",
       "      <td>NaN</td>\n",
       "      <td>NaN</td>\n",
       "      <td>NaN</td>\n",
       "      <td>NaN</td>\n",
       "      <td>NaN</td>\n",
       "      <td>NaN</td>\n",
       "      <td>NaN</td>\n",
       "      <td>NaN</td>\n",
       "    </tr>\n",
       "    <tr>\n",
       "      <th>0</th>\n",
       "      <td>14</td>\n",
       "      <td>e70491ddafb9d20c0fb72bfd89fc76f3</td>\n",
       "      <td>{\"cutoff\": \"quantile_0.25\", \"eval_fairness_gro...</td>\n",
       "      <td>34.322388</td>\n",
       "      <td>89710</td>\n",
       "      <td>1.0</td>\n",
       "      <td>0.17314</td>\n",
       "      <td>0.800601</td>\n",
       "      <td>0.160470</td>\n",
       "      <td>0.800167</td>\n",
       "      <td>...</td>\n",
       "      <td>0.140779</td>\n",
       "      <td>0.157602</td>\n",
       "      <td>0.624037</td>\n",
       "      <td>0.779460</td>\n",
       "      <td>0.215372</td>\n",
       "      <td>0.042232</td>\n",
       "      <td>0.642551</td>\n",
       "      <td>0.803022</td>\n",
       "      <td>20540.0</td>\n",
       "      <td>69170.0</td>\n",
       "    </tr>\n",
       "  </tbody>\n",
       "</table>\n",
       "<p>4 rows × 50 columns</p>\n",
       "</div>"
      ],
      "text/plain": [
       "  run_no                       universe_id  \\\n",
       "0     14  e70491ddafb9d20c0fb72bfd89fc76f3   \n",
       "0     14  e70491ddafb9d20c0fb72bfd89fc76f3   \n",
       "0     14  e70491ddafb9d20c0fb72bfd89fc76f3   \n",
       "0     14  e70491ddafb9d20c0fb72bfd89fc76f3   \n",
       "\n",
       "                                   universe_settings  execution_time  \\\n",
       "0  {\"cutoff\": \"quantile_0.1\", \"eval_fairness_grou...       34.322388   \n",
       "0  {\"cutoff\": \"quantile_0.1\", \"eval_fairness_grou...       34.322388   \n",
       "0  {\"cutoff\": \"quantile_0.25\", \"eval_fairness_gro...       34.322388   \n",
       "0  {\"cutoff\": \"quantile_0.25\", \"eval_fairness_gro...       34.322388   \n",
       "\n",
       "   test_size_n  test_size_frac  fair_main_equalized_odds_difference  \\\n",
       "0        89710             1.0                              0.16494   \n",
       "0        89710             1.0                              0.16494   \n",
       "0        89710             1.0                              0.17314   \n",
       "0        89710             1.0                              0.17314   \n",
       "\n",
       "   fair_main_equalized_odds_ratio  fair_main_demographic_parity_difference  \\\n",
       "0                        0.824157                                 0.162425   \n",
       "0                        0.824157                                 0.162425   \n",
       "0                        0.800601                                 0.160470   \n",
       "0                        0.800601                                 0.160470   \n",
       "\n",
       "   fair_main_demographic_parity_ratio  ...  perf_grp_precision_0  \\\n",
       "0                            0.828112  ...                   NaN   \n",
       "0                            0.828112  ...              0.125988   \n",
       "0                            0.800167  ...                   NaN   \n",
       "0                            0.800167  ...              0.140779   \n",
       "\n",
       "   perf_grp_precision_1  perf_grp_false positive rate_0  \\\n",
       "0                   NaN                             NaN   \n",
       "0              0.138521                        0.773057   \n",
       "0                   NaN                             NaN   \n",
       "0              0.157602                        0.624037   \n",
       "\n",
       "   perf_grp_false positive rate_1  perf_grp_false negative rate_0  \\\n",
       "0                             NaN                             NaN   \n",
       "0                        0.937998                        0.144848   \n",
       "0                             NaN                             NaN   \n",
       "0                        0.779460                        0.215372   \n",
       "\n",
       "   perf_grp_false negative rate_1  perf_grp_selection rate_0  \\\n",
       "0                             NaN                        NaN   \n",
       "0                        0.009409                   0.782522   \n",
       "0                             NaN                        NaN   \n",
       "0                        0.042232                   0.642551   \n",
       "\n",
       "   perf_grp_selection rate_1  perf_grp_count_0  perf_grp_count_1  \n",
       "0                        NaN               NaN               NaN  \n",
       "0                   0.944947           20540.0           69170.0  \n",
       "0                        NaN               NaN               NaN  \n",
       "0                   0.803022           20540.0           69170.0  \n",
       "\n",
       "[4 rows x 50 columns]"
      ]
     },
     "execution_count": 79,
     "metadata": {},
     "output_type": "execute_result"
    }
   ],
   "source": [
    "final_output = universe_analysis.generate_final_output(\n",
    "    y_pred_prob=probs_test,\n",
    "    y_test=y_true,\n",
    "    org_test=org_test,\n",
    "    filter_data=filter_sub_universe_data,\n",
    "    cp_metrics_df=cp_metrics_df,\n",
    "    save=True,\n",
    ")\n",
    "final_output"
   ]
  },
  {
   "cell_type": "code",
   "execution_count": null,
   "id": "721ff514-cb11-46f8-b6fc-50392f74b5cb",
   "metadata": {
    "papermill": {
     "duration": 0.016554,
     "end_time": "2025-07-30T21:13:07.326115",
     "exception": false,
     "start_time": "2025-07-30T21:13:07.309561",
     "status": "completed"
    },
    "tags": []
   },
   "outputs": [],
   "source": []
  }
 ],
 "metadata": {
  "celltoolbar": "Tags",
  "kernelspec": {
   "display_name": "Python (CMA Fairness)",
   "language": "python",
   "name": "cma_fair_env"
  },
  "language_info": {
   "codemirror_mode": {
    "name": "ipython",
    "version": 3
   },
   "file_extension": ".py",
   "mimetype": "text/x-python",
   "name": "python",
   "nbconvert_exporter": "python",
   "pygments_lexer": "ipython3",
   "version": "3.10.12"
  },
  "papermill": {
   "default_parameters": {},
   "duration": 47.578278,
   "end_time": "2025-07-30T21:13:08.061150",
   "environment_variables": {},
   "exception": null,
   "input_path": "universe_analysis.ipynb",
   "output_path": "output/runs/14/notebooks/m_14-e70491ddafb9d20c0fb72bfd89fc76f3.ipynb",
   "parameters": {
    "output_dir": "output",
    "run_no": "14",
    "seed": "2023",
    "universe": "{\"cutoff\": [\"quantile_0.1\", \"quantile_0.25\"], \"eval_fairness_grouping\": [\"majority-minority\", \"nationality-all\"], \"exclude_features\": \"age\", \"exclude_subgroups\": \"keep-all\", \"model\": \"rf\", \"scale\": \"scale\", \"training_size\": \"5k\", \"training_year\": \"2010_14\"}",
    "universe_id": "e70491ddafb9d20c0fb72bfd89fc76f3"
   },
   "start_time": "2025-07-30T21:12:20.482872",
   "version": "2.6.0"
  }
 },
 "nbformat": 4,
 "nbformat_minor": 5
}