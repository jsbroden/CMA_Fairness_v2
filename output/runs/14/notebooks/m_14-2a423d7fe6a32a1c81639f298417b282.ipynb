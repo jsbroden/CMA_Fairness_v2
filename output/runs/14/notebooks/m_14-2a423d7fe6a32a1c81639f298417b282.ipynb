{
 "cells": [
  {
   "cell_type": "code",
   "execution_count": 1,
   "id": "f159f837-637b-42ba-96b5-ec9a68c44524",
   "metadata": {
    "execution": {
     "iopub.execute_input": "2025-07-30T21:03:53.533457Z",
     "iopub.status.busy": "2025-07-30T21:03:53.532620Z",
     "iopub.status.idle": "2025-07-30T21:03:53.548849Z",
     "shell.execute_reply": "2025-07-30T21:03:53.547685Z"
    },
    "papermill": {
     "duration": 0.048923,
     "end_time": "2025-07-30T21:03:53.551216",
     "exception": false,
     "start_time": "2025-07-30T21:03:53.502293",
     "status": "completed"
    },
    "tags": []
   },
   "outputs": [
    {
     "name": "stdout",
     "output_type": "stream",
     "text": [
      "/dss/dsshome1/0C/ra93lal2/cma/CMA_Fairness_v2\n"
     ]
    },
    {
     "name": "stderr",
     "output_type": "stream",
     "text": [
      "/dss/dsshome1/0C/ra93lal2/.local/share/virtualenvs/CMA_Fairness_v2-3j10GkSs/lib/python3.10/site-packages/IPython/core/magics/osm.py:393: UserWarning: This is now an optional IPython functionality, using bookmarks requires you to install the `pickleshare` library.\n",
      "  bkms = self.shell.db.get('bookmarks', {})\n",
      "/dss/dsshome1/0C/ra93lal2/.local/share/virtualenvs/CMA_Fairness_v2-3j10GkSs/lib/python3.10/site-packages/IPython/core/magics/osm.py:417: UserWarning: This is now an optional IPython functionality, setting dhist requires you to install the `pickleshare` library.\n",
      "  self.shell.db['dhist'] = compress_dhist(dhist)[-100:]\n"
     ]
    }
   ],
   "source": [
    "%cd ~/cma/CMA_Fairness_v2"
   ]
  },
  {
   "cell_type": "markdown",
   "id": "de2603b9",
   "metadata": {
    "papermill": {
     "duration": 0.028188,
     "end_time": "2025-07-30T21:03:53.607686",
     "exception": false,
     "start_time": "2025-07-30T21:03:53.579498",
     "status": "completed"
    },
    "tags": []
   },
   "source": [
    "The following cell holds the definition of our parameters, these values can be overriden by rendering the with e.g. the following command:\n",
    "\n",
    "papermill -p alpha 0.2 -p ratio 0.3 universe_analysis.ipynb output/test_run.ipynb"
   ]
  },
  {
   "cell_type": "code",
   "execution_count": 2,
   "id": "a80968a0-40bb-4fa9-85ef-2d5eefb01975",
   "metadata": {
    "execution": {
     "iopub.execute_input": "2025-07-30T21:03:53.663488Z",
     "iopub.status.busy": "2025-07-30T21:03:53.662366Z",
     "iopub.status.idle": "2025-07-30T21:03:53.672018Z",
     "shell.execute_reply": "2025-07-30T21:03:53.670741Z"
    },
    "papermill": {
     "duration": 0.041053,
     "end_time": "2025-07-30T21:03:53.673892",
     "exception": false,
     "start_time": "2025-07-30T21:03:53.632839",
     "status": "completed"
    },
    "tags": []
   },
   "outputs": [
    {
     "name": "stdout",
     "output_type": "stream",
     "text": [
      "Current working directory: /dss/dsshome1/0C/ra93lal2/cma/CMA_Fairness_v2\n"
     ]
    }
   ],
   "source": [
    "import os\n",
    "print(\"Current working directory:\", os.getcwd())"
   ]
  },
  {
   "cell_type": "code",
   "execution_count": 3,
   "id": "2dce4c03",
   "metadata": {
    "execution": {
     "iopub.execute_input": "2025-07-30T21:03:53.734814Z",
     "iopub.status.busy": "2025-07-30T21:03:53.734125Z",
     "iopub.status.idle": "2025-07-30T21:03:53.741564Z",
     "shell.execute_reply": "2025-07-30T21:03:53.740482Z"
    },
    "papermill": {
     "duration": 0.039918,
     "end_time": "2025-07-30T21:03:53.743082",
     "exception": false,
     "start_time": "2025-07-30T21:03:53.703164",
     "status": "completed"
    },
    "tags": [
     "parameters"
    ]
   },
   "outputs": [],
   "source": [
    "run_no = 0\n",
    "universe_id = \"test\"\n",
    "universe = {\n",
    "    \"training_size\": \"25k\", # \"25k\", \"5k\", \"1k\"\n",
    "    \"training_year\": \"2014\", # \"2014\", \"2012_14\", \"2010_14\"\n",
    "    \"scale\": \"scale\", # \"scale\", \"do-not-scale\",\n",
    "    #\"stratify_split\": \"target\", # \"none\", \"target\", \"protected-attribute\", \"both\",\n",
    "    \"model\": \"elasticnet\", # \"logreg\", \"penalized_logreg\", \"rf\", \"gbm\", \"elasticnet\"\n",
    "    \"cutoff\": [\"quantile_0.15\", \"quantile_0.30\"],\n",
    "    \"exclude_features\": \"age\", # \"none\", \"nationality\", \"sex\", \"nationality-sex\", \"age\"\n",
    "    \"exclude_subgroups\": \"keep-all\", # \"keep-all\", \"drop-non-german\"\n",
    "    \"eval_fairness_grouping\": [\"majority-minority\", \"nationality-all\"]\n",
    "}\n",
    "\n",
    "output_dir=\"./output\"\n",
    "seed=0"
   ]
  },
  {
   "cell_type": "code",
   "execution_count": 4,
   "id": "95752884",
   "metadata": {
    "execution": {
     "iopub.execute_input": "2025-07-30T21:03:53.787343Z",
     "iopub.status.busy": "2025-07-30T21:03:53.786560Z",
     "iopub.status.idle": "2025-07-30T21:03:53.793003Z",
     "shell.execute_reply": "2025-07-30T21:03:53.791932Z"
    },
    "papermill": {
     "duration": 0.030732,
     "end_time": "2025-07-30T21:03:53.794557",
     "exception": false,
     "start_time": "2025-07-30T21:03:53.763825",
     "status": "completed"
    },
    "tags": [
     "injected-parameters"
    ]
   },
   "outputs": [],
   "source": [
    "# Parameters\n",
    "universe_id = \"2a423d7fe6a32a1c81639f298417b282\"\n",
    "run_no = \"14\"\n",
    "universe = \"{\\\"cutoff\\\": [\\\"quantile_0.1\\\", \\\"quantile_0.25\\\"], \\\"eval_fairness_grouping\\\": [\\\"majority-minority\\\", \\\"nationality-all\\\"], \\\"exclude_features\\\": \\\"sex\\\", \\\"exclude_subgroups\\\": \\\"keep-all\\\", \\\"model\\\": \\\"penalized_logreg\\\", \\\"scale\\\": \\\"do-not-scale\\\", \\\"training_size\\\": \\\"5k\\\", \\\"training_year\\\": \\\"2012_14\\\"}\"\n",
    "output_dir = \"output\"\n",
    "seed = \"2023\"\n"
   ]
  },
  {
   "cell_type": "code",
   "execution_count": 5,
   "id": "1650acaf",
   "metadata": {
    "execution": {
     "iopub.execute_input": "2025-07-30T21:03:53.837138Z",
     "iopub.status.busy": "2025-07-30T21:03:53.836244Z",
     "iopub.status.idle": "2025-07-30T21:03:53.843189Z",
     "shell.execute_reply": "2025-07-30T21:03:53.842133Z"
    },
    "papermill": {
     "duration": 0.030423,
     "end_time": "2025-07-30T21:03:53.845112",
     "exception": false,
     "start_time": "2025-07-30T21:03:53.814689",
     "status": "completed"
    },
    "tags": []
   },
   "outputs": [],
   "source": [
    "import json\n",
    "# Parse universe into dict if it is passed as a string\n",
    "if isinstance(universe, str):\n",
    "    universe = json.loads(universe)"
   ]
  },
  {
   "cell_type": "code",
   "execution_count": 6,
   "id": "16620c48",
   "metadata": {
    "execution": {
     "iopub.execute_input": "2025-07-30T21:03:53.887888Z",
     "iopub.status.busy": "2025-07-30T21:03:53.886922Z",
     "iopub.status.idle": "2025-07-30T21:03:53.940682Z",
     "shell.execute_reply": "2025-07-30T21:03:53.939480Z"
    },
    "papermill": {
     "duration": 0.076912,
     "end_time": "2025-07-30T21:03:53.942929",
     "exception": false,
     "start_time": "2025-07-30T21:03:53.866017",
     "status": "completed"
    },
    "tags": []
   },
   "outputs": [],
   "source": [
    "# Auto-reload the custom package\n",
    "%load_ext autoreload\n",
    "%autoreload 1\n",
    "%aimport fairness_multiverse"
   ]
  },
  {
   "cell_type": "code",
   "execution_count": 7,
   "id": "01c5c9f3",
   "metadata": {
    "execution": {
     "iopub.execute_input": "2025-07-30T21:03:53.986829Z",
     "iopub.status.busy": "2025-07-30T21:03:53.985896Z",
     "iopub.status.idle": "2025-07-30T21:03:55.873402Z",
     "shell.execute_reply": "2025-07-30T21:03:55.872651Z"
    },
    "papermill": {
     "duration": 1.910888,
     "end_time": "2025-07-30T21:03:55.874772",
     "exception": false,
     "start_time": "2025-07-30T21:03:53.963884",
     "status": "completed"
    },
    "tags": []
   },
   "outputs": [],
   "source": [
    "from fairness_multiverse.universe import UniverseAnalysis\n",
    "\n",
    "universe_analysis = UniverseAnalysis(\n",
    "    run_no = run_no,\n",
    "    universe_id = universe_id,\n",
    "    universe = universe,\n",
    "    output_dir=output_dir,\n",
    ")"
   ]
  },
  {
   "cell_type": "code",
   "execution_count": 8,
   "id": "106241f5",
   "metadata": {
    "execution": {
     "iopub.execute_input": "2025-07-30T21:03:55.903928Z",
     "iopub.status.busy": "2025-07-30T21:03:55.903234Z",
     "iopub.status.idle": "2025-07-30T21:03:55.908981Z",
     "shell.execute_reply": "2025-07-30T21:03:55.908208Z"
    },
    "papermill": {
     "duration": 0.024963,
     "end_time": "2025-07-30T21:03:55.910325",
     "exception": false,
     "start_time": "2025-07-30T21:03:55.885362",
     "status": "completed"
    },
    "tags": []
   },
   "outputs": [
    {
     "name": "stdout",
     "output_type": "stream",
     "text": [
      "Using Seed: 2023\n"
     ]
    }
   ],
   "source": [
    "import numpy as np\n",
    "parsed_seed = int(seed)\n",
    "np.random.seed(parsed_seed)\n",
    "print(f\"Using Seed: {parsed_seed}\")"
   ]
  },
  {
   "cell_type": "markdown",
   "id": "e0ebdc57",
   "metadata": {
    "papermill": {
     "duration": 0.010203,
     "end_time": "2025-07-30T21:03:55.931908",
     "exception": false,
     "start_time": "2025-07-30T21:03:55.921705",
     "status": "completed"
    },
    "tags": []
   },
   "source": [
    "# Loading Data"
   ]
  },
  {
   "cell_type": "markdown",
   "id": "681925a3",
   "metadata": {
    "papermill": {
     "duration": 0.013492,
     "end_time": "2025-07-30T21:03:55.956479",
     "exception": false,
     "start_time": "2025-07-30T21:03:55.942987",
     "status": "completed"
    },
    "tags": []
   },
   "source": [
    "Load siab_train, siab_test, siab_calib and/or \n",
    "load siab_train_features, siab_train_labels"
   ]
  },
  {
   "cell_type": "code",
   "execution_count": 9,
   "id": "f0496b8a",
   "metadata": {
    "execution": {
     "iopub.execute_input": "2025-07-30T21:03:55.980605Z",
     "iopub.status.busy": "2025-07-30T21:03:55.980109Z",
     "iopub.status.idle": "2025-07-30T21:04:07.666241Z",
     "shell.execute_reply": "2025-07-30T21:04:07.664241Z"
    },
    "papermill": {
     "duration": 11.700196,
     "end_time": "2025-07-30T21:04:07.668599",
     "exception": false,
     "start_time": "2025-07-30T21:03:55.968403",
     "status": "completed"
    },
    "tags": []
   },
   "outputs": [
    {
     "name": "stdout",
     "output_type": "stream",
     "text": [
      "Loading SIAB data from cache: data/siab_cached.csv.gz\n"
     ]
    },
    {
     "name": "stdout",
     "output_type": "stream",
     "text": [
      "(643690, 164)\n"
     ]
    }
   ],
   "source": [
    "from pathlib import Path\n",
    "import pandas as pd\n",
    "\n",
    "# File paths\n",
    "raw_file = Path(\"data/raw/siab.csv\")\n",
    "cache_file = Path(\"data/siab_cached.csv.gz\")\n",
    "\n",
    "# Ensure cache directory exists\n",
    "cache_file.parent.mkdir(parents=True, exist_ok=True)\n",
    "\n",
    "# Load with simple caching\n",
    "if cache_file.exists():\n",
    "    print(f\"Loading SIAB data from cache: {cache_file}\")\n",
    "    siab = pd.read_csv(cache_file, compression='gzip')\n",
    "else:\n",
    "    print(f\"Cache not found. Reading raw SIAB data: {raw_file}\")\n",
    "    siab = pd.read_csv(raw_file)\n",
    "    siab.to_csv(cache_file, index=False, compression='gzip')\n",
    "    print(f\"Cached SIAB data to: {cache_file}\")\n",
    "\n",
    "# Now use `siab` DataFrame as needed\n",
    "print(siab.shape)"
   ]
  },
  {
   "cell_type": "code",
   "execution_count": 10,
   "id": "db0ca512-5f53-4dba-abdb-a2888bca41ba",
   "metadata": {
    "execution": {
     "iopub.execute_input": "2025-07-30T21:04:07.734592Z",
     "iopub.status.busy": "2025-07-30T21:04:07.734224Z",
     "iopub.status.idle": "2025-07-30T21:04:07.738809Z",
     "shell.execute_reply": "2025-07-30T21:04:07.738107Z"
    },
    "papermill": {
     "duration": 0.039435,
     "end_time": "2025-07-30T21:04:07.740896",
     "exception": false,
     "start_time": "2025-07-30T21:04:07.701461",
     "status": "completed"
    },
    "tags": []
   },
   "outputs": [],
   "source": [
    "#siab"
   ]
  },
  {
   "cell_type": "code",
   "execution_count": 11,
   "id": "a0edb063",
   "metadata": {
    "execution": {
     "iopub.execute_input": "2025-07-30T21:04:07.808982Z",
     "iopub.status.busy": "2025-07-30T21:04:07.808417Z",
     "iopub.status.idle": "2025-07-30T21:04:07.814231Z",
     "shell.execute_reply": "2025-07-30T21:04:07.813253Z"
    },
    "papermill": {
     "duration": 0.040743,
     "end_time": "2025-07-30T21:04:07.816627",
     "exception": false,
     "start_time": "2025-07-30T21:04:07.775884",
     "status": "completed"
    },
    "tags": []
   },
   "outputs": [],
   "source": [
    "#import pandas as pd\n",
    "#\n",
    "#X_train = pd.read_csv(\"./data/X_train.csv\")\n",
    "#y_train = pd.read_csv(\"./data/y_train.csv\")"
   ]
  },
  {
   "cell_type": "code",
   "execution_count": 12,
   "id": "63d08085",
   "metadata": {
    "execution": {
     "iopub.execute_input": "2025-07-30T21:04:07.880585Z",
     "iopub.status.busy": "2025-07-30T21:04:07.880134Z",
     "iopub.status.idle": "2025-07-30T21:04:07.885226Z",
     "shell.execute_reply": "2025-07-30T21:04:07.884325Z"
    },
    "papermill": {
     "duration": 0.039047,
     "end_time": "2025-07-30T21:04:07.887329",
     "exception": false,
     "start_time": "2025-07-30T21:04:07.848282",
     "status": "completed"
    },
    "tags": []
   },
   "outputs": [],
   "source": [
    "#X_test = pd.read_csv(\"./data/X_test.csv\")\n",
    "#y_true = pd.read_csv(\"./data/y_test.csv\")"
   ]
  },
  {
   "cell_type": "code",
   "execution_count": 13,
   "id": "98a8d0fa-1d3d-4ed8-bb2c-281470e24add",
   "metadata": {
    "execution": {
     "iopub.execute_input": "2025-07-30T21:04:07.949233Z",
     "iopub.status.busy": "2025-07-30T21:04:07.948843Z",
     "iopub.status.idle": "2025-07-30T21:04:07.954405Z",
     "shell.execute_reply": "2025-07-30T21:04:07.953330Z"
    },
    "papermill": {
     "duration": 0.038723,
     "end_time": "2025-07-30T21:04:07.956464",
     "exception": false,
     "start_time": "2025-07-30T21:04:07.917741",
     "status": "completed"
    },
    "tags": []
   },
   "outputs": [],
   "source": [
    "# Calibration data for conformal\n",
    "#X_calib = pd.read_csv(\"./data/X_calib.csv\")\n",
    "#y_calib = pd.read_csv(\"./data/y_calib.csv\")"
   ]
  },
  {
   "cell_type": "markdown",
   "id": "997051c5-15bd-4b69-9786-c3001a3ce484",
   "metadata": {
    "papermill": {
     "duration": 0.029765,
     "end_time": "2025-07-30T21:04:08.016379",
     "exception": false,
     "start_time": "2025-07-30T21:04:07.986614",
     "status": "completed"
    },
    "tags": []
   },
   "source": [
    "# Splitting Data and Setting Training Data Size"
   ]
  },
  {
   "cell_type": "code",
   "execution_count": 14,
   "id": "e993b61f-042d-41a6-8c81-f55681f86335",
   "metadata": {
    "execution": {
     "iopub.execute_input": "2025-07-30T21:04:08.077441Z",
     "iopub.status.busy": "2025-07-30T21:04:08.077057Z",
     "iopub.status.idle": "2025-07-30T21:04:08.090946Z",
     "shell.execute_reply": "2025-07-30T21:04:08.089841Z"
    },
    "papermill": {
     "duration": 0.046956,
     "end_time": "2025-07-30T21:04:08.093146",
     "exception": false,
     "start_time": "2025-07-30T21:04:08.046190",
     "status": "completed"
    },
    "tags": []
   },
   "outputs": [],
   "source": [
    "def sample_by_year_size(df,\n",
    "                        training_year: str,\n",
    "                        training_size: str,\n",
    "                        random_state: int = 42):\n",
    "    # --- parse training_year into a list of int years ---\n",
    "    if \"_\" in training_year:\n",
    "        start_str, end_str = training_year.split(\"_\", 1)\n",
    "        start = int(start_str)\n",
    "        end   = int(end_str) if len(end_str) == 4 else (int(end_str) + (start // 100)*100)\n",
    "        years = list(range(start, end + 1))\n",
    "    else:\n",
    "        years = [int(training_year)]\n",
    "\n",
    "    df = df[df[\"year\"].isin(years)].reset_index(drop=True)\n",
    "\n",
    "    # --- map training_size to total number of samples ---\n",
    "    total_map = {\"25k\": 25_000, \"5k\": 5_000, \"1k\": 1_000}\n",
    "    if training_size not in total_map:\n",
    "        return df  # e.g. \"all\"\n",
    "\n",
    "    total_samples = total_map[training_size]\n",
    "    n_years       = len(years)\n",
    "    base          = total_samples // n_years\n",
    "    remainder     = total_samples % n_years\n",
    "\n",
    "    # --- build a dict: year -> how many to sample ---\n",
    "    # give +1 to the first `remainder` years in ascending order\n",
    "    quotas = {\n",
    "        year: base + (1 if idx < remainder else 0)\n",
    "        for idx, year in enumerate(sorted(years))\n",
    "    }\n",
    "\n",
    "    # --- sample per‐year according to the quota dict ---\n",
    "    sampled = (\n",
    "        df\n",
    "        .groupby(\"year\", group_keys=False)\n",
    "        .apply(lambda grp: grp.sample(\n",
    "            n=min(len(grp), quotas[grp.name]),\n",
    "            random_state=random_state))\n",
    "        .reset_index(drop=True)\n",
    "    )\n",
    "\n",
    "    return sampled"
   ]
  },
  {
   "cell_type": "code",
   "execution_count": 15,
   "id": "c0ccd338-0e02-41f3-a09d-f56f9266e3fb",
   "metadata": {
    "execution": {
     "iopub.execute_input": "2025-07-30T21:04:08.155278Z",
     "iopub.status.busy": "2025-07-30T21:04:08.154576Z",
     "iopub.status.idle": "2025-07-30T21:04:08.160941Z",
     "shell.execute_reply": "2025-07-30T21:04:08.159839Z"
    },
    "papermill": {
     "duration": 0.039356,
     "end_time": "2025-07-30T21:04:08.162619",
     "exception": false,
     "start_time": "2025-07-30T21:04:08.123263",
     "status": "completed"
    },
    "tags": []
   },
   "outputs": [],
   "source": [
    "#universe[\"training_size\"]"
   ]
  },
  {
   "cell_type": "code",
   "execution_count": 16,
   "id": "ca707fd7-8047-4acd-bfa5-66248fbbf8e6",
   "metadata": {
    "execution": {
     "iopub.execute_input": "2025-07-30T21:04:08.204384Z",
     "iopub.status.busy": "2025-07-30T21:04:08.203402Z",
     "iopub.status.idle": "2025-07-30T21:04:08.208500Z",
     "shell.execute_reply": "2025-07-30T21:04:08.207639Z"
    },
    "papermill": {
     "duration": 0.027435,
     "end_time": "2025-07-30T21:04:08.209960",
     "exception": false,
     "start_time": "2025-07-30T21:04:08.182525",
     "status": "completed"
    },
    "tags": []
   },
   "outputs": [],
   "source": [
    "#universe[\"training_year\"]"
   ]
  },
  {
   "cell_type": "code",
   "execution_count": 17,
   "id": "aea9c6ef-6f46-42c8-85eb-5a62025c1508",
   "metadata": {
    "execution": {
     "iopub.execute_input": "2025-07-30T21:04:08.257236Z",
     "iopub.status.busy": "2025-07-30T21:04:08.256845Z",
     "iopub.status.idle": "2025-07-30T21:04:08.849441Z",
     "shell.execute_reply": "2025-07-30T21:04:08.848430Z"
    },
    "papermill": {
     "duration": 0.620691,
     "end_time": "2025-07-30T21:04:08.851231",
     "exception": false,
     "start_time": "2025-07-30T21:04:08.230540",
     "status": "completed"
    },
    "tags": []
   },
   "outputs": [],
   "source": [
    "siab_train = sample_by_year_size(siab,\n",
    "                               training_year=universe[\"training_year\"],\n",
    "                               training_size=universe[\"training_size\"])"
   ]
  },
  {
   "cell_type": "code",
   "execution_count": 18,
   "id": "8d3afb32-789d-442c-8d5d-9f5aa8dd2eed",
   "metadata": {
    "execution": {
     "iopub.execute_input": "2025-07-30T21:04:08.893721Z",
     "iopub.status.busy": "2025-07-30T21:04:08.892820Z",
     "iopub.status.idle": "2025-07-30T21:04:08.898437Z",
     "shell.execute_reply": "2025-07-30T21:04:08.897522Z"
    },
    "papermill": {
     "duration": 0.028926,
     "end_time": "2025-07-30T21:04:08.900290",
     "exception": false,
     "start_time": "2025-07-30T21:04:08.871364",
     "status": "completed"
    },
    "tags": []
   },
   "outputs": [],
   "source": [
    "#siab_train.shape"
   ]
  },
  {
   "cell_type": "code",
   "execution_count": 19,
   "id": "d582db68-1a4c-47fb-84fc-08518dc1975a",
   "metadata": {
    "execution": {
     "iopub.execute_input": "2025-07-30T21:04:08.959986Z",
     "iopub.status.busy": "2025-07-30T21:04:08.959263Z",
     "iopub.status.idle": "2025-07-30T21:04:08.965084Z",
     "shell.execute_reply": "2025-07-30T21:04:08.964011Z"
    },
    "papermill": {
     "duration": 0.038401,
     "end_time": "2025-07-30T21:04:08.967203",
     "exception": false,
     "start_time": "2025-07-30T21:04:08.928802",
     "status": "completed"
    },
    "tags": []
   },
   "outputs": [],
   "source": [
    "#display(siab_train.groupby(\"year\").size())"
   ]
  },
  {
   "cell_type": "code",
   "execution_count": 20,
   "id": "a561edb4-d032-42cb-8256-22eac1111c64",
   "metadata": {
    "execution": {
     "iopub.execute_input": "2025-07-30T21:04:09.031107Z",
     "iopub.status.busy": "2025-07-30T21:04:09.030593Z",
     "iopub.status.idle": "2025-07-30T21:04:09.286990Z",
     "shell.execute_reply": "2025-07-30T21:04:09.286075Z"
    },
    "papermill": {
     "duration": 0.290907,
     "end_time": "2025-07-30T21:04:09.289163",
     "exception": false,
     "start_time": "2025-07-30T21:04:08.998256",
     "status": "completed"
    },
    "tags": []
   },
   "outputs": [],
   "source": [
    "#siab_train = siab_s[siab_s.year < 2015]\n",
    "siab_calib = siab[siab.year == 2015]\n",
    "siab_test = siab[siab.year == 2016]"
   ]
  },
  {
   "cell_type": "code",
   "execution_count": 21,
   "id": "472de16f-c3db-4916-846b-1f0de9cf1746",
   "metadata": {
    "execution": {
     "iopub.execute_input": "2025-07-30T21:04:09.324651Z",
     "iopub.status.busy": "2025-07-30T21:04:09.324283Z",
     "iopub.status.idle": "2025-07-30T21:04:09.331674Z",
     "shell.execute_reply": "2025-07-30T21:04:09.330963Z"
    },
    "papermill": {
     "duration": 0.020288,
     "end_time": "2025-07-30T21:04:09.332966",
     "exception": false,
     "start_time": "2025-07-30T21:04:09.312678",
     "status": "completed"
    },
    "tags": []
   },
   "outputs": [],
   "source": [
    "X_train = siab_train.iloc[:,4:164]\n",
    "y_train = siab_train.iloc[:, [3]]"
   ]
  },
  {
   "cell_type": "code",
   "execution_count": 22,
   "id": "828c96af-f43a-4ed6-ba47-8ac73a47d56c",
   "metadata": {
    "execution": {
     "iopub.execute_input": "2025-07-30T21:04:09.359046Z",
     "iopub.status.busy": "2025-07-30T21:04:09.358664Z",
     "iopub.status.idle": "2025-07-30T21:04:09.418525Z",
     "shell.execute_reply": "2025-07-30T21:04:09.417579Z"
    },
    "papermill": {
     "duration": 0.076384,
     "end_time": "2025-07-30T21:04:09.420453",
     "exception": false,
     "start_time": "2025-07-30T21:04:09.344069",
     "status": "completed"
    },
    "tags": []
   },
   "outputs": [],
   "source": [
    "X_calib = siab_calib.iloc[:,4:164]\n",
    "y_calib = siab_calib.iloc[:, [3]]"
   ]
  },
  {
   "cell_type": "code",
   "execution_count": 23,
   "id": "c34be9c3-6bd6-476e-acd3-845840e303be",
   "metadata": {
    "execution": {
     "iopub.execute_input": "2025-07-30T21:04:09.472334Z",
     "iopub.status.busy": "2025-07-30T21:04:09.471837Z",
     "iopub.status.idle": "2025-07-30T21:04:09.526187Z",
     "shell.execute_reply": "2025-07-30T21:04:09.525129Z"
    },
    "papermill": {
     "duration": 0.07861,
     "end_time": "2025-07-30T21:04:09.527942",
     "exception": false,
     "start_time": "2025-07-30T21:04:09.449332",
     "status": "completed"
    },
    "tags": []
   },
   "outputs": [],
   "source": [
    "X_test = siab_test.iloc[:,4:164]\n",
    "y_true = siab_test.iloc[:, [3]]"
   ]
  },
  {
   "cell_type": "markdown",
   "id": "9901737e-04df-44f0-9100-f5ad144ed040",
   "metadata": {
    "papermill": {
     "duration": 0.016001,
     "end_time": "2025-07-30T21:04:09.567171",
     "exception": false,
     "start_time": "2025-07-30T21:04:09.551170",
     "status": "completed"
    },
    "tags": []
   },
   "source": [
    "# Splitting Data and Setting Training Data Size OLD VERSION"
   ]
  },
  {
   "cell_type": "code",
   "execution_count": 24,
   "id": "acbc8f7d-8fc8-4e86-8c59-5dcb0f58384b",
   "metadata": {
    "execution": {
     "iopub.execute_input": "2025-07-30T21:04:09.591617Z",
     "iopub.status.busy": "2025-07-30T21:04:09.591202Z",
     "iopub.status.idle": "2025-07-30T21:04:09.596562Z",
     "shell.execute_reply": "2025-07-30T21:04:09.595706Z"
    },
    "papermill": {
     "duration": 0.01942,
     "end_time": "2025-07-30T21:04:09.598267",
     "exception": false,
     "start_time": "2025-07-30T21:04:09.578847",
     "status": "completed"
    },
    "tags": []
   },
   "outputs": [],
   "source": [
    "#def sample_by_year(df, training_size, random_state=42):\n",
    "#    if training_size == \"2014\":\n",
    "#        return df[df[\"year\"] == 2014].reset_index(drop=True)\n",
    "#    \n",
    "#    size_map = {\n",
    "#        \"25k\": 5000,\n",
    "#        \"5k\": 1000,\n",
    "#        \"1k\": 200\n",
    "#    }\n",
    "#\n",
    "#    if training_size not in size_map:\n",
    "#        return df.reset_index(drop=True)  # use all data\n",
    "#\n",
    "#    n_per_year = size_map[training_size]\n",
    "#    grouped = df.groupby(\"year\")\n",
    "#    sampled = grouped.apply(lambda x: x.sample(n=min(n_per_year, len(x)), random_state=random_state))\n",
    "#    return sampled.reset_index(drop=True)"
   ]
  },
  {
   "cell_type": "code",
   "execution_count": 25,
   "id": "6d931f52-beaf-43ff-9e78-9d44a448d54e",
   "metadata": {
    "execution": {
     "iopub.execute_input": "2025-07-30T21:04:09.641349Z",
     "iopub.status.busy": "2025-07-30T21:04:09.640887Z",
     "iopub.status.idle": "2025-07-30T21:04:09.646134Z",
     "shell.execute_reply": "2025-07-30T21:04:09.645313Z"
    },
    "papermill": {
     "duration": 0.028598,
     "end_time": "2025-07-30T21:04:09.647622",
     "exception": false,
     "start_time": "2025-07-30T21:04:09.619024",
     "status": "completed"
    },
    "tags": []
   },
   "outputs": [],
   "source": [
    "#siab_s = sample_by_year(siab, universe[\"training_size\"])"
   ]
  },
  {
   "cell_type": "code",
   "execution_count": 26,
   "id": "5db0a40e-a4e2-4920-be85-b12ae061d70d",
   "metadata": {
    "execution": {
     "iopub.execute_input": "2025-07-30T21:04:09.692997Z",
     "iopub.status.busy": "2025-07-30T21:04:09.692300Z",
     "iopub.status.idle": "2025-07-30T21:04:09.697180Z",
     "shell.execute_reply": "2025-07-30T21:04:09.696282Z"
    },
    "papermill": {
     "duration": 0.027137,
     "end_time": "2025-07-30T21:04:09.698678",
     "exception": false,
     "start_time": "2025-07-30T21:04:09.671541",
     "status": "completed"
    },
    "tags": []
   },
   "outputs": [],
   "source": [
    "#display(siab_s.groupby(\"year\").size())"
   ]
  },
  {
   "cell_type": "code",
   "execution_count": 27,
   "id": "e6c733c5",
   "metadata": {
    "execution": {
     "iopub.execute_input": "2025-07-30T21:04:09.741589Z",
     "iopub.status.busy": "2025-07-30T21:04:09.740820Z",
     "iopub.status.idle": "2025-07-30T21:04:09.840656Z",
     "shell.execute_reply": "2025-07-30T21:04:09.839710Z"
    },
    "papermill": {
     "duration": 0.125412,
     "end_time": "2025-07-30T21:04:09.845352",
     "exception": false,
     "start_time": "2025-07-30T21:04:09.719940",
     "status": "completed"
    },
    "tags": []
   },
   "outputs": [],
   "source": [
    "# Auxiliary data needed downstream in the pipeline\n",
    "\n",
    "org_train = X_train.copy()\n",
    "org_test = X_test.copy()\n",
    "org_calib = X_calib.copy()"
   ]
  },
  {
   "cell_type": "code",
   "execution_count": 28,
   "id": "1466abac-c6da-4492-a62f-4240ae3783af",
   "metadata": {
    "execution": {
     "iopub.execute_input": "2025-07-30T21:04:09.889693Z",
     "iopub.status.busy": "2025-07-30T21:04:09.888723Z",
     "iopub.status.idle": "2025-07-30T21:04:09.894448Z",
     "shell.execute_reply": "2025-07-30T21:04:09.893549Z"
    },
    "papermill": {
     "duration": 0.029666,
     "end_time": "2025-07-30T21:04:09.896147",
     "exception": false,
     "start_time": "2025-07-30T21:04:09.866481",
     "status": "completed"
    },
    "tags": []
   },
   "outputs": [],
   "source": [
    "# put in other script?\n",
    "# Group sizes\n",
    "\n",
    "#def calculate_percentages(df, df_name):\n",
    "#    total_entries = len(df)\n",
    "#\n",
    "#    female_pct = (df['frau1'] == 1).mean() * 100\n",
    "#    non_german_pct = ((df['maxdeutsch1'] == 0) & (df['maxdeutsch.Missing.'] == 0)).mean() * 100\n",
    "#    non_german_male_pct = ((df['frau1'] == 0) & (df['maxdeutsch1'] == 0) & (df['maxdeutsch.Missing.'] == 0)).mean() * 100\n",
    "#    non_german_female_pct = ((df['frau1'] == 1) & (df['maxdeutsch1'] == 0) & (df['maxdeutsch.Missing.'] == 0)).mean() * 100\n",
    "#\n",
    "#    print(f\"--- {df_name} ---\")\n",
    "#    print(f\"Female: {female_pct:.2f}%\")\n",
    "#    print(f\"Non-German: {non_german_pct:.2f}%\")\n",
    "#    print(f\"Non-German Male: {non_german_male_pct:.2f}%\")\n",
    "#    print(f\"Non-German Female: {non_german_female_pct:.2f}%\\n\")\n",
    "#\n",
    "## Calculate for each DataFrame\n",
    "#calculate_percentages(siab_calib, \"siab_calib\")\n",
    "#calculate_percentages(siab_test, \"siab_test\")\n",
    "#calculate_percentages(siab_train, \"siab_train\")"
   ]
  },
  {
   "cell_type": "markdown",
   "id": "0a4a1b33",
   "metadata": {
    "papermill": {
     "duration": 0.020343,
     "end_time": "2025-07-30T21:04:09.938508",
     "exception": false,
     "start_time": "2025-07-30T21:04:09.918165",
     "status": "completed"
    },
    "tags": []
   },
   "source": [
    "# Preprocessing Data"
   ]
  },
  {
   "cell_type": "code",
   "execution_count": 29,
   "id": "ca879031",
   "metadata": {
    "execution": {
     "iopub.execute_input": "2025-07-30T21:04:09.982768Z",
     "iopub.status.busy": "2025-07-30T21:04:09.982292Z",
     "iopub.status.idle": "2025-07-30T21:04:09.988688Z",
     "shell.execute_reply": "2025-07-30T21:04:09.987734Z"
    },
    "papermill": {
     "duration": 0.029818,
     "end_time": "2025-07-30T21:04:09.990299",
     "exception": false,
     "start_time": "2025-07-30T21:04:09.960481",
     "status": "completed"
    },
    "tags": []
   },
   "outputs": [],
   "source": [
    "# EXCLUDE PROTECTED FEATURES\n",
    "# ----------------------\n",
    "# \"exclude_features\": \"none\", # \"nationality\", \"sex\", \"nationality-sex\"\n",
    "\n",
    "excluded_features = universe[\"exclude_features\"].split(\"-\") # split, e.g.: \"nationality-sex\" -> [\"nationality\", \"sex\"]\n",
    "excluded_features_dictionary = {\n",
    "    \"nationality\": [\"maxdeutsch1\", \"maxdeutsch.Missing.\"],\n",
    "    \"sex\": [\"frau1\"],\n",
    "    \"age\": [\"age\"],\n",
    "}\n"
   ]
  },
  {
   "cell_type": "code",
   "execution_count": 30,
   "id": "b745ac60",
   "metadata": {
    "execution": {
     "iopub.execute_input": "2025-07-30T21:04:10.037737Z",
     "iopub.status.busy": "2025-07-30T21:04:10.037268Z",
     "iopub.status.idle": "2025-07-30T21:04:10.042553Z",
     "shell.execute_reply": "2025-07-30T21:04:10.041766Z"
    },
    "papermill": {
     "duration": 0.031975,
     "end_time": "2025-07-30T21:04:10.044355",
     "exception": false,
     "start_time": "2025-07-30T21:04:10.012380",
     "status": "completed"
    },
    "tags": []
   },
   "outputs": [],
   "source": [
    "# Code nice names to column names\n",
    "\n",
    "excluded_features_columns = [\n",
    "    excluded_features_dictionary[f] for f in excluded_features if len(f) > 0 and f != \"none\"\n",
    "]"
   ]
  },
  {
   "cell_type": "code",
   "execution_count": 31,
   "id": "f84f73a2",
   "metadata": {
    "execution": {
     "iopub.execute_input": "2025-07-30T21:04:10.087464Z",
     "iopub.status.busy": "2025-07-30T21:04:10.086548Z",
     "iopub.status.idle": "2025-07-30T21:04:10.093134Z",
     "shell.execute_reply": "2025-07-30T21:04:10.092295Z"
    },
    "papermill": {
     "duration": 0.029034,
     "end_time": "2025-07-30T21:04:10.094615",
     "exception": false,
     "start_time": "2025-07-30T21:04:10.065581",
     "status": "completed"
    },
    "tags": []
   },
   "outputs": [],
   "source": [
    "from utils import flatten_once\n",
    "\n",
    "excluded_features_columns = flatten_once(excluded_features_columns)"
   ]
  },
  {
   "cell_type": "code",
   "execution_count": 32,
   "id": "884dea22",
   "metadata": {
    "execution": {
     "iopub.execute_input": "2025-07-30T21:04:10.137589Z",
     "iopub.status.busy": "2025-07-30T21:04:10.136975Z",
     "iopub.status.idle": "2025-07-30T21:04:10.146713Z",
     "shell.execute_reply": "2025-07-30T21:04:10.145797Z"
    },
    "papermill": {
     "duration": 0.033092,
     "end_time": "2025-07-30T21:04:10.149150",
     "exception": false,
     "start_time": "2025-07-30T21:04:10.116058",
     "status": "completed"
    },
    "tags": []
   },
   "outputs": [
    {
     "name": "stdout",
     "output_type": "stream",
     "text": [
      "Dropping features: ['frau1']\n"
     ]
    }
   ],
   "source": [
    "if len(excluded_features_columns) > 0:\n",
    "    print(f\"Dropping features: {excluded_features_columns}\")\n",
    "    X_train.drop(excluded_features_columns, axis=1, inplace=True)"
   ]
  },
  {
   "cell_type": "code",
   "execution_count": 33,
   "id": "95ab8b16",
   "metadata": {
    "execution": {
     "iopub.execute_input": "2025-07-30T21:04:10.196722Z",
     "iopub.status.busy": "2025-07-30T21:04:10.196210Z",
     "iopub.status.idle": "2025-07-30T21:04:10.255595Z",
     "shell.execute_reply": "2025-07-30T21:04:10.254673Z"
    },
    "papermill": {
     "duration": 0.083237,
     "end_time": "2025-07-30T21:04:10.257178",
     "exception": false,
     "start_time": "2025-07-30T21:04:10.173941",
     "status": "completed"
    },
    "tags": []
   },
   "outputs": [
    {
     "name": "stdout",
     "output_type": "stream",
     "text": [
      "Dropping features: ['frau1']\n"
     ]
    }
   ],
   "source": [
    "if len(excluded_features_columns) > 0:\n",
    "    print(f\"Dropping features: {excluded_features_columns}\")\n",
    "    X_test.drop(excluded_features_columns, axis=1, inplace=True)"
   ]
  },
  {
   "cell_type": "code",
   "execution_count": 34,
   "id": "1853aaf5-fb9f-46cb-a2b5-8ea4ae2237e4",
   "metadata": {
    "execution": {
     "iopub.execute_input": "2025-07-30T21:04:10.301804Z",
     "iopub.status.busy": "2025-07-30T21:04:10.300991Z",
     "iopub.status.idle": "2025-07-30T21:04:10.353710Z",
     "shell.execute_reply": "2025-07-30T21:04:10.352808Z"
    },
    "papermill": {
     "duration": 0.077139,
     "end_time": "2025-07-30T21:04:10.355452",
     "exception": false,
     "start_time": "2025-07-30T21:04:10.278313",
     "status": "completed"
    },
    "tags": []
   },
   "outputs": [
    {
     "name": "stdout",
     "output_type": "stream",
     "text": [
      "Dropping features: ['frau1']\n"
     ]
    }
   ],
   "source": [
    "if len(excluded_features_columns) > 0:\n",
    "    print(f\"Dropping features: {excluded_features_columns}\")\n",
    "    X_calib.drop(excluded_features_columns, axis=1, inplace=True)"
   ]
  },
  {
   "cell_type": "code",
   "execution_count": 35,
   "id": "6727d079-03e5-481e-9d38-292a90b7a0a8",
   "metadata": {
    "execution": {
     "iopub.execute_input": "2025-07-30T21:04:10.401171Z",
     "iopub.status.busy": "2025-07-30T21:04:10.400307Z",
     "iopub.status.idle": "2025-07-30T21:04:10.405438Z",
     "shell.execute_reply": "2025-07-30T21:04:10.404530Z"
    },
    "papermill": {
     "duration": 0.029905,
     "end_time": "2025-07-30T21:04:10.406856",
     "exception": false,
     "start_time": "2025-07-30T21:04:10.376951",
     "status": "completed"
    },
    "tags": []
   },
   "outputs": [],
   "source": [
    "# SPLIT & STRATIFY DATA\n",
    "# ----------------------"
   ]
  },
  {
   "cell_type": "code",
   "execution_count": 36,
   "id": "76c4dc6d",
   "metadata": {
    "execution": {
     "iopub.execute_input": "2025-07-30T21:04:10.451871Z",
     "iopub.status.busy": "2025-07-30T21:04:10.451212Z",
     "iopub.status.idle": "2025-07-30T21:04:10.456957Z",
     "shell.execute_reply": "2025-07-30T21:04:10.456087Z"
    },
    "papermill": {
     "duration": 0.029987,
     "end_time": "2025-07-30T21:04:10.458656",
     "exception": false,
     "start_time": "2025-07-30T21:04:10.428669",
     "status": "completed"
    },
    "tags": []
   },
   "outputs": [],
   "source": [
    "# EXCLUDE CERTAIN SUBGROUPS\n",
    "# ----------------------\n",
    "\n",
    "mode = universe.get(\"exclude_subgroups\", \"keep-all\") \n",
    "# Fetches the exclude_subgroups setting from the universe dict.\n",
    "# Defaults to \"keep-all\" if the key is missing."
   ]
  },
  {
   "cell_type": "code",
   "execution_count": 37,
   "id": "21994072",
   "metadata": {
    "execution": {
     "iopub.execute_input": "2025-07-30T21:04:10.502027Z",
     "iopub.status.busy": "2025-07-30T21:04:10.501184Z",
     "iopub.status.idle": "2025-07-30T21:04:10.508016Z",
     "shell.execute_reply": "2025-07-30T21:04:10.507263Z"
    },
    "papermill": {
     "duration": 0.030322,
     "end_time": "2025-07-30T21:04:10.509575",
     "exception": false,
     "start_time": "2025-07-30T21:04:10.479253",
     "status": "completed"
    },
    "tags": []
   },
   "outputs": [],
   "source": [
    "if mode == \"keep-all\":\n",
    "    keep_mask = pd.Series(True, index=org_train.index)\n",
    "\n",
    "# org_train contains the original feature columns from features_org (in Simson)\n",
    "# features_org contains unprocessed features, for me X_train at beginning ???\n",
    "# For keep-all, creates a boolean Series (keep_mask) of all True, so no rows are removed.\n",
    "\n",
    "elif mode == \"drop-non-german\":\n",
    "    keep_mask = org_train[\"maxdeutsch1\"] == 1 # ??? what about missing values?\n",
    "\n",
    "else:\n",
    "    raise ValueError(f\"Unsupported mode for exclude_subgroups: {mode}\")\n"
   ]
  },
  {
   "cell_type": "code",
   "execution_count": 38,
   "id": "71651440",
   "metadata": {
    "execution": {
     "iopub.execute_input": "2025-07-30T21:04:10.554716Z",
     "iopub.status.busy": "2025-07-30T21:04:10.553476Z",
     "iopub.status.idle": "2025-07-30T21:04:10.560559Z",
     "shell.execute_reply": "2025-07-30T21:04:10.559674Z"
    },
    "papermill": {
     "duration": 0.031466,
     "end_time": "2025-07-30T21:04:10.561973",
     "exception": false,
     "start_time": "2025-07-30T21:04:10.530507",
     "status": "completed"
    },
    "tags": []
   },
   "outputs": [],
   "source": [
    "n_drop = (~keep_mask).sum() # Calculates how many rows are set to be dropped\n",
    "if n_drop > 0:\n",
    "    pct = n_drop / len(keep_mask) * 100\n",
    "    print(f\"Dropping {n_drop} rows ({pct:.2f}%) where mode='{mode}'\")"
   ]
  },
  {
   "cell_type": "code",
   "execution_count": 39,
   "id": "5fb8eee5",
   "metadata": {
    "execution": {
     "iopub.execute_input": "2025-07-30T21:04:10.621457Z",
     "iopub.status.busy": "2025-07-30T21:04:10.620931Z",
     "iopub.status.idle": "2025-07-30T21:04:10.629490Z",
     "shell.execute_reply": "2025-07-30T21:04:10.628457Z"
    },
    "papermill": {
     "duration": 0.047216,
     "end_time": "2025-07-30T21:04:10.631384",
     "exception": false,
     "start_time": "2025-07-30T21:04:10.584168",
     "status": "completed"
    },
    "tags": []
   },
   "outputs": [],
   "source": [
    "X_train = X_train[keep_mask]"
   ]
  },
  {
   "cell_type": "code",
   "execution_count": 40,
   "id": "b202bb3a",
   "metadata": {
    "execution": {
     "iopub.execute_input": "2025-07-30T21:04:10.677238Z",
     "iopub.status.busy": "2025-07-30T21:04:10.676753Z",
     "iopub.status.idle": "2025-07-30T21:04:10.682772Z",
     "shell.execute_reply": "2025-07-30T21:04:10.681833Z"
    },
    "papermill": {
     "duration": 0.030434,
     "end_time": "2025-07-30T21:04:10.684462",
     "exception": false,
     "start_time": "2025-07-30T21:04:10.654028",
     "status": "completed"
    },
    "tags": []
   },
   "outputs": [],
   "source": [
    "y_train = y_train[keep_mask]"
   ]
  },
  {
   "cell_type": "markdown",
   "id": "493e2ac3",
   "metadata": {
    "papermill": {
     "duration": 0.022419,
     "end_time": "2025-07-30T21:04:10.729324",
     "exception": false,
     "start_time": "2025-07-30T21:04:10.706905",
     "status": "completed"
    },
    "tags": []
   },
   "source": [
    "# Model Training"
   ]
  },
  {
   "cell_type": "code",
   "execution_count": 41,
   "id": "679e1268",
   "metadata": {
    "execution": {
     "iopub.execute_input": "2025-07-30T21:04:10.775673Z",
     "iopub.status.busy": "2025-07-30T21:04:10.775217Z",
     "iopub.status.idle": "2025-07-30T21:04:10.880061Z",
     "shell.execute_reply": "2025-07-30T21:04:10.879191Z"
    },
    "papermill": {
     "duration": 0.13098,
     "end_time": "2025-07-30T21:04:10.881821",
     "exception": false,
     "start_time": "2025-07-30T21:04:10.750841",
     "status": "completed"
    },
    "tags": []
   },
   "outputs": [],
   "source": [
    "from sklearn.linear_model import LogisticRegression\n",
    "from sklearn.ensemble import GradientBoostingClassifier, RandomForestClassifier\n",
    "\n",
    "if (universe[\"model\"] == \"logreg\"):\n",
    "    model = LogisticRegression() #penalty=\"none\") #, solver=\"newton-cg\", max_iter=1) # include random_state=19 ?\n",
    "elif (universe[\"model\"] == \"penalized_logreg\"):\n",
    "    model = LogisticRegression(penalty=\"l2\", C=1.0) #, solver=\"newton-cg\", max_iter=1)\n",
    "elif (universe[\"model\"] == \"rf\"):\n",
    "    model = RandomForestClassifier(n_estimators=100, n_jobs=-1)\n",
    "elif (universe[\"model\"] == \"gbm\"):\n",
    "    model = GradientBoostingClassifier()\n",
    "elif (universe[\"model\"] == \"elasticnet\"):\n",
    "    model = LogisticRegression(penalty = 'elasticnet', solver = 'saga', l1_ratio = 0.5, max_iter=5000) # which solver to use?\n",
    "else:\n",
    "    raise \"Unsupported universe.model\""
   ]
  },
  {
   "cell_type": "code",
   "execution_count": 42,
   "id": "0cc8f744",
   "metadata": {
    "execution": {
     "iopub.execute_input": "2025-07-30T21:04:10.929995Z",
     "iopub.status.busy": "2025-07-30T21:04:10.929291Z",
     "iopub.status.idle": "2025-07-30T21:04:10.936697Z",
     "shell.execute_reply": "2025-07-30T21:04:10.935787Z"
    },
    "papermill": {
     "duration": 0.034442,
     "end_time": "2025-07-30T21:04:10.938309",
     "exception": false,
     "start_time": "2025-07-30T21:04:10.903867",
     "status": "completed"
    },
    "tags": []
   },
   "outputs": [],
   "source": [
    "import numpy as np\n",
    "from sklearn.pipeline import Pipeline\n",
    "from sklearn.preprocessing import StandardScaler\n",
    "\n",
    "model = Pipeline([\n",
    "    #(\"continuous_processor\", continuous_processor),\n",
    "    #(\"categorical_preprocessor\", categorical_preprocessor),\n",
    "    (\"scale\", StandardScaler() if universe[\"scale\"] == \"scale\" else None), \n",
    "    (\"model\", model),\n",
    "])"
   ]
  },
  {
   "cell_type": "code",
   "execution_count": 43,
   "id": "9442c04d",
   "metadata": {
    "execution": {
     "iopub.execute_input": "2025-07-30T21:04:10.984181Z",
     "iopub.status.busy": "2025-07-30T21:04:10.983592Z",
     "iopub.status.idle": "2025-07-30T21:04:11.129287Z",
     "shell.execute_reply": "2025-07-30T21:04:11.128369Z"
    },
    "papermill": {
     "duration": 0.170892,
     "end_time": "2025-07-30T21:04:11.130992",
     "exception": false,
     "start_time": "2025-07-30T21:04:10.960100",
     "status": "completed"
    },
    "tags": []
   },
   "outputs": [
    {
     "name": "stderr",
     "output_type": "stream",
     "text": [
      "/dss/dsshome1/0C/ra93lal2/.local/share/virtualenvs/CMA_Fairness_v2-3j10GkSs/lib/python3.10/site-packages/sklearn/linear_model/_logistic.py:444: ConvergenceWarning: lbfgs failed to converge (status=1):\n",
      "STOP: TOTAL NO. of ITERATIONS REACHED LIMIT.\n",
      "\n",
      "Increase the number of iterations (max_iter) or scale the data as shown in:\n",
      "    https://scikit-learn.org/stable/modules/preprocessing.html\n",
      "Please also refer to the documentation for alternative solver options:\n",
      "    https://scikit-learn.org/stable/modules/linear_model.html#logistic-regression\n",
      "  n_iter_i = _check_optimize_result(\n"
     ]
    },
    {
     "data": {
      "text/html": [
       "<style>#sk-container-id-1 {color: black;background-color: white;}#sk-container-id-1 pre{padding: 0;}#sk-container-id-1 div.sk-toggleable {background-color: white;}#sk-container-id-1 label.sk-toggleable__label {cursor: pointer;display: block;width: 100%;margin-bottom: 0;padding: 0.3em;box-sizing: border-box;text-align: center;}#sk-container-id-1 label.sk-toggleable__label-arrow:before {content: \"▸\";float: left;margin-right: 0.25em;color: #696969;}#sk-container-id-1 label.sk-toggleable__label-arrow:hover:before {color: black;}#sk-container-id-1 div.sk-estimator:hover label.sk-toggleable__label-arrow:before {color: black;}#sk-container-id-1 div.sk-toggleable__content {max-height: 0;max-width: 0;overflow: hidden;text-align: left;background-color: #f0f8ff;}#sk-container-id-1 div.sk-toggleable__content pre {margin: 0.2em;color: black;border-radius: 0.25em;background-color: #f0f8ff;}#sk-container-id-1 input.sk-toggleable__control:checked~div.sk-toggleable__content {max-height: 200px;max-width: 100%;overflow: auto;}#sk-container-id-1 input.sk-toggleable__control:checked~label.sk-toggleable__label-arrow:before {content: \"▾\";}#sk-container-id-1 div.sk-estimator input.sk-toggleable__control:checked~label.sk-toggleable__label {background-color: #d4ebff;}#sk-container-id-1 div.sk-label input.sk-toggleable__control:checked~label.sk-toggleable__label {background-color: #d4ebff;}#sk-container-id-1 input.sk-hidden--visually {border: 0;clip: rect(1px 1px 1px 1px);clip: rect(1px, 1px, 1px, 1px);height: 1px;margin: -1px;overflow: hidden;padding: 0;position: absolute;width: 1px;}#sk-container-id-1 div.sk-estimator {font-family: monospace;background-color: #f0f8ff;border: 1px dotted black;border-radius: 0.25em;box-sizing: border-box;margin-bottom: 0.5em;}#sk-container-id-1 div.sk-estimator:hover {background-color: #d4ebff;}#sk-container-id-1 div.sk-parallel-item::after {content: \"\";width: 100%;border-bottom: 1px solid gray;flex-grow: 1;}#sk-container-id-1 div.sk-label:hover label.sk-toggleable__label {background-color: #d4ebff;}#sk-container-id-1 div.sk-serial::before {content: \"\";position: absolute;border-left: 1px solid gray;box-sizing: border-box;top: 0;bottom: 0;left: 50%;z-index: 0;}#sk-container-id-1 div.sk-serial {display: flex;flex-direction: column;align-items: center;background-color: white;padding-right: 0.2em;padding-left: 0.2em;position: relative;}#sk-container-id-1 div.sk-item {position: relative;z-index: 1;}#sk-container-id-1 div.sk-parallel {display: flex;align-items: stretch;justify-content: center;background-color: white;position: relative;}#sk-container-id-1 div.sk-item::before, #sk-container-id-1 div.sk-parallel-item::before {content: \"\";position: absolute;border-left: 1px solid gray;box-sizing: border-box;top: 0;bottom: 0;left: 50%;z-index: -1;}#sk-container-id-1 div.sk-parallel-item {display: flex;flex-direction: column;z-index: 1;position: relative;background-color: white;}#sk-container-id-1 div.sk-parallel-item:first-child::after {align-self: flex-end;width: 50%;}#sk-container-id-1 div.sk-parallel-item:last-child::after {align-self: flex-start;width: 50%;}#sk-container-id-1 div.sk-parallel-item:only-child::after {width: 0;}#sk-container-id-1 div.sk-dashed-wrapped {border: 1px dashed gray;margin: 0 0.4em 0.5em 0.4em;box-sizing: border-box;padding-bottom: 0.4em;background-color: white;}#sk-container-id-1 div.sk-label label {font-family: monospace;font-weight: bold;display: inline-block;line-height: 1.2em;}#sk-container-id-1 div.sk-label-container {text-align: center;}#sk-container-id-1 div.sk-container {/* jupyter's `normalize.less` sets `[hidden] { display: none; }` but bootstrap.min.css set `[hidden] { display: none !important; }` so we also need the `!important` here to be able to override the default hidden behavior on the sphinx rendered scikit-learn.org. See: https://github.com/scikit-learn/scikit-learn/issues/21755 */display: inline-block !important;position: relative;}#sk-container-id-1 div.sk-text-repr-fallback {display: none;}</style><div id=\"sk-container-id-1\" class=\"sk-top-container\"><div class=\"sk-text-repr-fallback\"><pre>Pipeline(steps=[(&#x27;scale&#x27;, None), (&#x27;model&#x27;, LogisticRegression())])</pre><b>In a Jupyter environment, please rerun this cell to show the HTML representation or trust the notebook. <br />On GitHub, the HTML representation is unable to render, please try loading this page with nbviewer.org.</b></div><div class=\"sk-container\" hidden><div class=\"sk-item sk-dashed-wrapped\"><div class=\"sk-label-container\"><div class=\"sk-label sk-toggleable\"><input class=\"sk-toggleable__control sk-hidden--visually\" id=\"sk-estimator-id-1\" type=\"checkbox\" ><label for=\"sk-estimator-id-1\" class=\"sk-toggleable__label sk-toggleable__label-arrow\">Pipeline</label><div class=\"sk-toggleable__content\"><pre>Pipeline(steps=[(&#x27;scale&#x27;, None), (&#x27;model&#x27;, LogisticRegression())])</pre></div></div></div><div class=\"sk-serial\"><div class=\"sk-item\"><div class=\"sk-estimator sk-toggleable\"><input class=\"sk-toggleable__control sk-hidden--visually\" id=\"sk-estimator-id-2\" type=\"checkbox\" ><label for=\"sk-estimator-id-2\" class=\"sk-toggleable__label sk-toggleable__label-arrow\">None</label><div class=\"sk-toggleable__content\"><pre>None</pre></div></div></div><div class=\"sk-item\"><div class=\"sk-estimator sk-toggleable\"><input class=\"sk-toggleable__control sk-hidden--visually\" id=\"sk-estimator-id-3\" type=\"checkbox\" ><label for=\"sk-estimator-id-3\" class=\"sk-toggleable__label sk-toggleable__label-arrow\">LogisticRegression</label><div class=\"sk-toggleable__content\"><pre>LogisticRegression()</pre></div></div></div></div></div></div></div>"
      ],
      "text/plain": [
       "Pipeline(steps=[('scale', None), ('model', LogisticRegression())])"
      ]
     },
     "execution_count": 43,
     "metadata": {},
     "output_type": "execute_result"
    }
   ],
   "source": [
    "model.fit(X_train, y_train.values.ravel())"
   ]
  },
  {
   "cell_type": "code",
   "execution_count": 44,
   "id": "af59f8c0",
   "metadata": {
    "execution": {
     "iopub.execute_input": "2025-07-30T21:04:11.181179Z",
     "iopub.status.busy": "2025-07-30T21:04:11.180303Z",
     "iopub.status.idle": "2025-07-30T21:04:11.185707Z",
     "shell.execute_reply": "2025-07-30T21:04:11.184770Z"
    },
    "papermill": {
     "duration": 0.031554,
     "end_time": "2025-07-30T21:04:11.187165",
     "exception": false,
     "start_time": "2025-07-30T21:04:11.155611",
     "status": "completed"
    },
    "tags": []
   },
   "outputs": [],
   "source": [
    "from fairness_multiverse.universe import predict_w_threshold"
   ]
  },
  {
   "cell_type": "code",
   "execution_count": 45,
   "id": "a7cf2e16",
   "metadata": {
    "execution": {
     "iopub.execute_input": "2025-07-30T21:04:11.236503Z",
     "iopub.status.busy": "2025-07-30T21:04:11.235533Z",
     "iopub.status.idle": "2025-07-30T21:04:11.333717Z",
     "shell.execute_reply": "2025-07-30T21:04:11.332679Z"
    },
    "papermill": {
     "duration": 0.124607,
     "end_time": "2025-07-30T21:04:11.335467",
     "exception": false,
     "start_time": "2025-07-30T21:04:11.210860",
     "status": "completed"
    },
    "tags": []
   },
   "outputs": [
    {
     "data": {
      "text/plain": [
       "0.8625682755545647"
      ]
     },
     "execution_count": 45,
     "metadata": {},
     "output_type": "execute_result"
    }
   ],
   "source": [
    "probs_test = model.predict_proba(X_test)\n",
    "\n",
    "'''\n",
    "Below code returns a boolean array (or binary 0/1 array depending on how it’s used) where each element \n",
    "is True if the probability of class 1 is greater than or equal to the threshold, and False otherwise.\n",
    "'''\n",
    "y_pred_default = predict_w_threshold(probs_test, 0.5)\n",
    "\n",
    "from sklearn.metrics import accuracy_score\n",
    "\n",
    "# Naive prediction\n",
    "accuracy_score(y_true = y_true, y_pred = y_pred_default)"
   ]
  },
  {
   "cell_type": "code",
   "execution_count": 46,
   "id": "081964c3",
   "metadata": {
    "execution": {
     "iopub.execute_input": "2025-07-30T21:04:11.393801Z",
     "iopub.status.busy": "2025-07-30T21:04:11.392998Z",
     "iopub.status.idle": "2025-07-30T21:04:11.472964Z",
     "shell.execute_reply": "2025-07-30T21:04:11.471751Z"
    },
    "papermill": {
     "duration": 0.116248,
     "end_time": "2025-07-30T21:04:11.474654",
     "exception": false,
     "start_time": "2025-07-30T21:04:11.358406",
     "status": "completed"
    },
    "tags": []
   },
   "outputs": [
    {
     "data": {
      "text/plain": [
       "array([0, 0, 0, ..., 0, 0, 0])"
      ]
     },
     "execution_count": 46,
     "metadata": {},
     "output_type": "execute_result"
    }
   ],
   "source": [
    "model.predict(X_test)"
   ]
  },
  {
   "cell_type": "markdown",
   "id": "56c9705b",
   "metadata": {
    "papermill": {
     "duration": 0.02374,
     "end_time": "2025-07-30T21:04:11.524972",
     "exception": false,
     "start_time": "2025-07-30T21:04:11.501232",
     "status": "completed"
    },
    "tags": []
   },
   "source": [
    "# Conformal Prediction"
   ]
  },
  {
   "cell_type": "code",
   "execution_count": 47,
   "id": "160ec6ff",
   "metadata": {
    "execution": {
     "iopub.execute_input": "2025-07-30T21:04:11.618843Z",
     "iopub.status.busy": "2025-07-30T21:04:11.618358Z",
     "iopub.status.idle": "2025-07-30T21:04:11.623476Z",
     "shell.execute_reply": "2025-07-30T21:04:11.622524Z"
    },
    "papermill": {
     "duration": 0.032673,
     "end_time": "2025-07-30T21:04:11.625235",
     "exception": false,
     "start_time": "2025-07-30T21:04:11.592562",
     "status": "completed"
    },
    "tags": []
   },
   "outputs": [],
   "source": [
    "# Miscoverage level for conformal prediction (10% allowed error rate => 90% target coverage)\n",
    "alpha = 0.1"
   ]
  },
  {
   "cell_type": "code",
   "execution_count": 48,
   "id": "eadf4555-3dd3-440e-8e35-f82a4ad9f855",
   "metadata": {
    "execution": {
     "iopub.execute_input": "2025-07-30T21:04:11.677535Z",
     "iopub.status.busy": "2025-07-30T21:04:11.676853Z",
     "iopub.status.idle": "2025-07-30T21:04:11.763305Z",
     "shell.execute_reply": "2025-07-30T21:04:11.762315Z"
    },
    "papermill": {
     "duration": 0.11486,
     "end_time": "2025-07-30T21:04:11.765736",
     "exception": false,
     "start_time": "2025-07-30T21:04:11.650876",
     "status": "completed"
    },
    "tags": []
   },
   "outputs": [],
   "source": [
    "probs_calib = model.predict_proba(X_calib)"
   ]
  },
  {
   "cell_type": "code",
   "execution_count": 49,
   "id": "2ed93547-6d5d-4983-9b36-1ecb300da49a",
   "metadata": {
    "execution": {
     "iopub.execute_input": "2025-07-30T21:04:11.817590Z",
     "iopub.status.busy": "2025-07-30T21:04:11.816902Z",
     "iopub.status.idle": "2025-07-30T21:04:11.822734Z",
     "shell.execute_reply": "2025-07-30T21:04:11.821686Z"
    },
    "papermill": {
     "duration": 0.033416,
     "end_time": "2025-07-30T21:04:11.824436",
     "exception": false,
     "start_time": "2025-07-30T21:04:11.791020",
     "status": "completed"
    },
    "tags": []
   },
   "outputs": [],
   "source": [
    "y_calib = y_calib.values.ravel().astype(int)"
   ]
  },
  {
   "cell_type": "code",
   "execution_count": 50,
   "id": "65d1320d-f588-4b38-9072-62af1ae97f7d",
   "metadata": {
    "execution": {
     "iopub.execute_input": "2025-07-30T21:04:11.886242Z",
     "iopub.status.busy": "2025-07-30T21:04:11.885753Z",
     "iopub.status.idle": "2025-07-30T21:04:11.892569Z",
     "shell.execute_reply": "2025-07-30T21:04:11.891645Z"
    },
    "papermill": {
     "duration": 0.032225,
     "end_time": "2025-07-30T21:04:11.894389",
     "exception": false,
     "start_time": "2025-07-30T21:04:11.862164",
     "status": "completed"
    },
    "tags": []
   },
   "outputs": [],
   "source": [
    "from fairness_multiverse.conformal import compute_nc_scores\n",
    "\n",
    "# Compute nonconformity scores on calibration set (1 - probability of true class)\n",
    "nc_scores = compute_nc_scores(probs_calib, y_calib)"
   ]
  },
  {
   "cell_type": "code",
   "execution_count": 51,
   "id": "df3b8ca3-53b7-43d5-9667-7c85da7aeda2",
   "metadata": {
    "execution": {
     "iopub.execute_input": "2025-07-30T21:04:11.941655Z",
     "iopub.status.busy": "2025-07-30T21:04:11.941223Z",
     "iopub.status.idle": "2025-07-30T21:04:11.947474Z",
     "shell.execute_reply": "2025-07-30T21:04:11.946537Z"
    },
    "papermill": {
     "duration": 0.032123,
     "end_time": "2025-07-30T21:04:11.949300",
     "exception": false,
     "start_time": "2025-07-30T21:04:11.917177",
     "status": "completed"
    },
    "tags": []
   },
   "outputs": [],
   "source": [
    "from fairness_multiverse.conformal import find_threshold\n",
    "\n",
    "# Find conformal threshold q_hat for the given alpha (split conformal method)\n",
    "q_hat = find_threshold(nc_scores, alpha)"
   ]
  },
  {
   "cell_type": "code",
   "execution_count": 52,
   "id": "4d29e6c1-0ef6-4aa4-b8fe-4fe79b0d033a",
   "metadata": {
    "execution": {
     "iopub.execute_input": "2025-07-30T21:04:12.000267Z",
     "iopub.status.busy": "2025-07-30T21:04:11.999732Z",
     "iopub.status.idle": "2025-07-30T21:04:12.007497Z",
     "shell.execute_reply": "2025-07-30T21:04:12.006406Z"
    },
    "papermill": {
     "duration": 0.034695,
     "end_time": "2025-07-30T21:04:12.009220",
     "exception": false,
     "start_time": "2025-07-30T21:04:11.974525",
     "status": "completed"
    },
    "tags": []
   },
   "outputs": [
    {
     "data": {
      "text/plain": [
       "0.6821485562600595"
      ]
     },
     "execution_count": 52,
     "metadata": {},
     "output_type": "execute_result"
    }
   ],
   "source": [
    "q_hat"
   ]
  },
  {
   "cell_type": "code",
   "execution_count": 53,
   "id": "92460794-cdac-4be2-ba28-f28c0515a6fb",
   "metadata": {
    "execution": {
     "iopub.execute_input": "2025-07-30T21:04:12.060227Z",
     "iopub.status.busy": "2025-07-30T21:04:12.059491Z",
     "iopub.status.idle": "2025-07-30T21:04:12.856921Z",
     "shell.execute_reply": "2025-07-30T21:04:12.855892Z"
    },
    "papermill": {
     "duration": 0.825936,
     "end_time": "2025-07-30T21:04:12.858849",
     "exception": false,
     "start_time": "2025-07-30T21:04:12.032913",
     "status": "completed"
    },
    "tags": []
   },
   "outputs": [],
   "source": [
    "from fairness_multiverse.conformal import predict_conformal_sets\n",
    "\n",
    "# Generate prediction sets for each test example\n",
    "pred_sets = predict_conformal_sets(model, X_test, q_hat)"
   ]
  },
  {
   "cell_type": "code",
   "execution_count": 54,
   "id": "d90c9a65-e6db-4f5d-80cd-e68fb7e46829",
   "metadata": {
    "execution": {
     "iopub.execute_input": "2025-07-30T21:04:12.908279Z",
     "iopub.status.busy": "2025-07-30T21:04:12.907742Z",
     "iopub.status.idle": "2025-07-30T21:04:12.913564Z",
     "shell.execute_reply": "2025-07-30T21:04:12.912694Z"
    },
    "papermill": {
     "duration": 0.032579,
     "end_time": "2025-07-30T21:04:12.915035",
     "exception": false,
     "start_time": "2025-07-30T21:04:12.882456",
     "status": "completed"
    },
    "tags": []
   },
   "outputs": [],
   "source": [
    "y_true = y_true.squeeze()"
   ]
  },
  {
   "cell_type": "code",
   "execution_count": 55,
   "id": "3a58a54a-1e68-46b9-927a-df01f18aebc8",
   "metadata": {
    "execution": {
     "iopub.execute_input": "2025-07-30T21:04:12.962451Z",
     "iopub.status.busy": "2025-07-30T21:04:12.961936Z",
     "iopub.status.idle": "2025-07-30T21:04:13.864688Z",
     "shell.execute_reply": "2025-07-30T21:04:13.863643Z"
    },
    "papermill": {
     "duration": 0.928803,
     "end_time": "2025-07-30T21:04:13.866894",
     "exception": false,
     "start_time": "2025-07-30T21:04:12.938091",
     "status": "completed"
    },
    "tags": []
   },
   "outputs": [],
   "source": [
    "from fairness_multiverse.conformal import evaluate_sets\n",
    "\n",
    "# Evaluate coverage and average set size on test data\n",
    "metrics = evaluate_sets(pred_sets, y_true)"
   ]
  },
  {
   "cell_type": "markdown",
   "id": "2b569c12-9aaa-4c88-98c9-bbcd0cf3ebb8",
   "metadata": {
    "papermill": {
     "duration": 0.028486,
     "end_time": "2025-07-30T21:04:13.923695",
     "exception": false,
     "start_time": "2025-07-30T21:04:13.895209",
     "status": "completed"
    },
    "tags": []
   },
   "source": [
    "# CP Metrics"
   ]
  },
  {
   "cell_type": "code",
   "execution_count": 56,
   "id": "5ce0a5cb-201f-45a0-ade5-94c7f0bd6095",
   "metadata": {
    "execution": {
     "iopub.execute_input": "2025-07-30T21:04:13.979989Z",
     "iopub.status.busy": "2025-07-30T21:04:13.979481Z",
     "iopub.status.idle": "2025-07-30T21:04:13.987112Z",
     "shell.execute_reply": "2025-07-30T21:04:13.986075Z"
    },
    "papermill": {
     "duration": 0.037798,
     "end_time": "2025-07-30T21:04:13.988923",
     "exception": false,
     "start_time": "2025-07-30T21:04:13.951125",
     "status": "completed"
    },
    "tags": []
   },
   "outputs": [
    {
     "data": {
      "text/plain": [
       "{'coverage': 0.9116709396945714, 'avg_size': 1.2052948389254263}"
      ]
     },
     "execution_count": 56,
     "metadata": {},
     "output_type": "execute_result"
    }
   ],
   "source": [
    "metrics"
   ]
  },
  {
   "cell_type": "code",
   "execution_count": 57,
   "id": "9b9a838d-31c9-430b-ae14-12baee460d17",
   "metadata": {
    "execution": {
     "iopub.execute_input": "2025-07-30T21:04:14.047009Z",
     "iopub.status.busy": "2025-07-30T21:04:14.046281Z",
     "iopub.status.idle": "2025-07-30T21:04:14.053121Z",
     "shell.execute_reply": "2025-07-30T21:04:14.052138Z"
    },
    "papermill": {
     "duration": 0.037675,
     "end_time": "2025-07-30T21:04:14.054871",
     "exception": false,
     "start_time": "2025-07-30T21:04:14.017196",
     "status": "completed"
    },
    "tags": []
   },
   "outputs": [],
   "source": [
    "example_universe = universe.copy()\n",
    "universe_training_year = example_universe.get(\"training_year\")\n",
    "universe_training_size = example_universe.get(\"training_size\")\n",
    "universe_scale = example_universe.get(\"scale\")\n",
    "universe_model = example_universe.get(\"model\")\n",
    "universe_exclude_features = example_universe.get(\"exclude_features\")\n",
    "universe_exclude_subgroups = example_universe.get(\"exclude_subgroups\")"
   ]
  },
  {
   "cell_type": "code",
   "execution_count": 58,
   "id": "f4b6a8ac-9dc0-4245-8a91-5b3b5999c4f9",
   "metadata": {
    "execution": {
     "iopub.execute_input": "2025-07-30T21:04:14.114734Z",
     "iopub.status.busy": "2025-07-30T21:04:14.112984Z",
     "iopub.status.idle": "2025-07-30T21:04:14.121273Z",
     "shell.execute_reply": "2025-07-30T21:04:14.120211Z"
    },
    "papermill": {
     "duration": 0.039536,
     "end_time": "2025-07-30T21:04:14.122989",
     "exception": false,
     "start_time": "2025-07-30T21:04:14.083453",
     "status": "completed"
    },
    "tags": []
   },
   "outputs": [],
   "source": [
    "cp_metrics_dict = {\n",
    "    \"universe_id\": [universe_id],\n",
    "    \"universe_training_year\": [universe_training_year],\n",
    "    \"universe_training_size\": [universe_training_size],\n",
    "    \"universe_scale\": [universe_scale],\n",
    "    \"universe_model\": [universe_model],\n",
    "    \"universe_exclude_features\": [universe_exclude_features],\n",
    "    \"universe_exclude_subgroups\": [universe_exclude_subgroups],\n",
    "    \"q_hat\": [q_hat],\n",
    "    \"coverage\": [metrics[\"coverage\"]],\n",
    "    \"avg_size\": [metrics[\"avg_size\"]],\n",
    "}"
   ]
  },
  {
   "cell_type": "code",
   "execution_count": 59,
   "id": "908acbb1-0371-4915-85ca-3fa520d2efe2",
   "metadata": {
    "execution": {
     "iopub.execute_input": "2025-07-30T21:04:14.176591Z",
     "iopub.status.busy": "2025-07-30T21:04:14.175659Z",
     "iopub.status.idle": "2025-07-30T21:04:14.184558Z",
     "shell.execute_reply": "2025-07-30T21:04:14.183460Z"
    },
    "papermill": {
     "duration": 0.036608,
     "end_time": "2025-07-30T21:04:14.186165",
     "exception": false,
     "start_time": "2025-07-30T21:04:14.149557",
     "status": "completed"
    },
    "tags": []
   },
   "outputs": [
    {
     "data": {
      "text/plain": [
       "{'universe_id': ['2a423d7fe6a32a1c81639f298417b282'],\n",
       " 'universe_training_year': ['2012_14'],\n",
       " 'universe_training_size': ['5k'],\n",
       " 'universe_scale': ['do-not-scale'],\n",
       " 'universe_model': ['penalized_logreg'],\n",
       " 'universe_exclude_features': ['sex'],\n",
       " 'universe_exclude_subgroups': ['keep-all'],\n",
       " 'q_hat': [0.6821485562600595],\n",
       " 'coverage': [0.9116709396945714],\n",
       " 'avg_size': [1.2052948389254263]}"
      ]
     },
     "execution_count": 59,
     "metadata": {},
     "output_type": "execute_result"
    }
   ],
   "source": [
    "cp_metrics_dict"
   ]
  },
  {
   "cell_type": "code",
   "execution_count": 60,
   "id": "33007efc-14e9-4ec6-97ac-56a455c82265",
   "metadata": {
    "execution": {
     "iopub.execute_input": "2025-07-30T21:04:14.240798Z",
     "iopub.status.busy": "2025-07-30T21:04:14.239494Z",
     "iopub.status.idle": "2025-07-30T21:04:14.247278Z",
     "shell.execute_reply": "2025-07-30T21:04:14.246047Z"
    },
    "papermill": {
     "duration": 0.036296,
     "end_time": "2025-07-30T21:04:14.249132",
     "exception": false,
     "start_time": "2025-07-30T21:04:14.212836",
     "status": "completed"
    },
    "tags": []
   },
   "outputs": [],
   "source": [
    "cp_metrics_df = pd.DataFrame(cp_metrics_dict)"
   ]
  },
  {
   "cell_type": "code",
   "execution_count": 61,
   "id": "db12611b-57b2-4910-b9d0-355adfd6e7bf",
   "metadata": {
    "execution": {
     "iopub.execute_input": "2025-07-30T21:04:14.300026Z",
     "iopub.status.busy": "2025-07-30T21:04:14.299244Z",
     "iopub.status.idle": "2025-07-30T21:04:14.319207Z",
     "shell.execute_reply": "2025-07-30T21:04:14.318255Z"
    },
    "papermill": {
     "duration": 0.047306,
     "end_time": "2025-07-30T21:04:14.320931",
     "exception": false,
     "start_time": "2025-07-30T21:04:14.273625",
     "status": "completed"
    },
    "tags": []
   },
   "outputs": [
    {
     "data": {
      "text/html": [
       "<div>\n",
       "<style scoped>\n",
       "    .dataframe tbody tr th:only-of-type {\n",
       "        vertical-align: middle;\n",
       "    }\n",
       "\n",
       "    .dataframe tbody tr th {\n",
       "        vertical-align: top;\n",
       "    }\n",
       "\n",
       "    .dataframe thead th {\n",
       "        text-align: right;\n",
       "    }\n",
       "</style>\n",
       "<table border=\"1\" class=\"dataframe\">\n",
       "  <thead>\n",
       "    <tr style=\"text-align: right;\">\n",
       "      <th></th>\n",
       "      <th>universe_id</th>\n",
       "      <th>universe_training_year</th>\n",
       "      <th>universe_training_size</th>\n",
       "      <th>universe_scale</th>\n",
       "      <th>universe_model</th>\n",
       "      <th>universe_exclude_features</th>\n",
       "      <th>universe_exclude_subgroups</th>\n",
       "      <th>q_hat</th>\n",
       "      <th>coverage</th>\n",
       "      <th>avg_size</th>\n",
       "    </tr>\n",
       "  </thead>\n",
       "  <tbody>\n",
       "    <tr>\n",
       "      <th>0</th>\n",
       "      <td>2a423d7fe6a32a1c81639f298417b282</td>\n",
       "      <td>2012_14</td>\n",
       "      <td>5k</td>\n",
       "      <td>do-not-scale</td>\n",
       "      <td>penalized_logreg</td>\n",
       "      <td>sex</td>\n",
       "      <td>keep-all</td>\n",
       "      <td>0.682149</td>\n",
       "      <td>0.911671</td>\n",
       "      <td>1.205295</td>\n",
       "    </tr>\n",
       "  </tbody>\n",
       "</table>\n",
       "</div>"
      ],
      "text/plain": [
       "                        universe_id universe_training_year  \\\n",
       "0  2a423d7fe6a32a1c81639f298417b282                2012_14   \n",
       "\n",
       "  universe_training_size universe_scale    universe_model  \\\n",
       "0                     5k   do-not-scale  penalized_logreg   \n",
       "\n",
       "  universe_exclude_features universe_exclude_subgroups     q_hat  coverage  \\\n",
       "0                       sex                   keep-all  0.682149  0.911671   \n",
       "\n",
       "   avg_size  \n",
       "0  1.205295  "
      ]
     },
     "execution_count": 61,
     "metadata": {},
     "output_type": "execute_result"
    }
   ],
   "source": [
    "cp_metrics_df"
   ]
  },
  {
   "cell_type": "code",
   "execution_count": 62,
   "id": "b7fbde55-a0a1-47e4-9af6-fe4a17fa8c61",
   "metadata": {
    "execution": {
     "iopub.execute_input": "2025-07-30T21:04:14.376656Z",
     "iopub.status.busy": "2025-07-30T21:04:14.375751Z",
     "iopub.status.idle": "2025-07-30T21:04:14.381116Z",
     "shell.execute_reply": "2025-07-30T21:04:14.380027Z"
    },
    "papermill": {
     "duration": 0.033719,
     "end_time": "2025-07-30T21:04:14.382653",
     "exception": false,
     "start_time": "2025-07-30T21:04:14.348934",
     "status": "completed"
    },
    "tags": []
   },
   "outputs": [],
   "source": [
    "# Conditional Coverage & looking at subgroups"
   ]
  },
  {
   "cell_type": "code",
   "execution_count": 63,
   "id": "027ae886-68dd-4141-96c7-805a5450e1ef",
   "metadata": {
    "execution": {
     "iopub.execute_input": "2025-07-30T21:04:14.434904Z",
     "iopub.status.busy": "2025-07-30T21:04:14.434460Z",
     "iopub.status.idle": "2025-07-30T21:04:14.707880Z",
     "shell.execute_reply": "2025-07-30T21:04:14.706992Z"
    },
    "papermill": {
     "duration": 0.301734,
     "end_time": "2025-07-30T21:04:14.709870",
     "exception": false,
     "start_time": "2025-07-30T21:04:14.408136",
     "status": "completed"
    },
    "tags": []
   },
   "outputs": [],
   "source": [
    "from fairness_multiverse.conformal import build_cp_groups\n",
    "\n",
    "cp_groups_df = build_cp_groups(pred_sets, y_true, X_test.index, org_test)\n",
    "#needs universe_id and setting"
   ]
  },
  {
   "cell_type": "code",
   "execution_count": 64,
   "id": "01d5802c-663a-4d1f-9d69-e036faaffbf7",
   "metadata": {
    "execution": {
     "iopub.execute_input": "2025-07-30T21:04:14.767164Z",
     "iopub.status.busy": "2025-07-30T21:04:14.766546Z",
     "iopub.status.idle": "2025-07-30T21:04:14.771421Z",
     "shell.execute_reply": "2025-07-30T21:04:14.770538Z"
    },
    "papermill": {
     "duration": 0.036056,
     "end_time": "2025-07-30T21:04:14.773398",
     "exception": false,
     "start_time": "2025-07-30T21:04:14.737342",
     "status": "completed"
    },
    "tags": []
   },
   "outputs": [],
   "source": [
    "#delete\n",
    "#cp_groups_df"
   ]
  },
  {
   "cell_type": "code",
   "execution_count": 65,
   "id": "fa424af1-d1eb-443d-b717-2d279ada8408",
   "metadata": {
    "execution": {
     "iopub.execute_input": "2025-07-30T21:04:14.829741Z",
     "iopub.status.busy": "2025-07-30T21:04:14.829283Z",
     "iopub.status.idle": "2025-07-30T21:04:14.834094Z",
     "shell.execute_reply": "2025-07-30T21:04:14.833290Z"
    },
    "papermill": {
     "duration": 0.035157,
     "end_time": "2025-07-30T21:04:14.835584",
     "exception": false,
     "start_time": "2025-07-30T21:04:14.800427",
     "status": "completed"
    },
    "tags": []
   },
   "outputs": [],
   "source": [
    "#delete\n",
    "#percentage = (cp_groups_df['nongerman_female'] == 1).mean() * 100\n",
    "#print(percentage)\n"
   ]
  },
  {
   "cell_type": "code",
   "execution_count": 66,
   "id": "6cbdab96-b2b2-45af-ad54-d0516db2e28d",
   "metadata": {
    "execution": {
     "iopub.execute_input": "2025-07-30T21:04:14.891599Z",
     "iopub.status.busy": "2025-07-30T21:04:14.891135Z",
     "iopub.status.idle": "2025-07-30T21:04:16.573500Z",
     "shell.execute_reply": "2025-07-30T21:04:16.572498Z"
    },
    "papermill": {
     "duration": 1.71282,
     "end_time": "2025-07-30T21:04:16.575403",
     "exception": false,
     "start_time": "2025-07-30T21:04:14.862583",
     "status": "completed"
    },
    "tags": []
   },
   "outputs": [],
   "source": [
    "# Define covered = 1 if true_label is in the predicted set\n",
    "cp_groups_df['covered'] = cp_groups_df.apply(\n",
    "    lambda r: int(r['true_label'] in r['pred_set']),\n",
    "    axis=1\n",
    ")"
   ]
  },
  {
   "cell_type": "code",
   "execution_count": 67,
   "id": "338ff529-1a6b-4b87-a931-8e4788d52aad",
   "metadata": {
    "execution": {
     "iopub.execute_input": "2025-07-30T21:04:16.631194Z",
     "iopub.status.busy": "2025-07-30T21:04:16.630557Z",
     "iopub.status.idle": "2025-07-30T21:04:16.635947Z",
     "shell.execute_reply": "2025-07-30T21:04:16.635058Z"
    },
    "papermill": {
     "duration": 0.033871,
     "end_time": "2025-07-30T21:04:16.637650",
     "exception": false,
     "start_time": "2025-07-30T21:04:16.603779",
     "status": "completed"
    },
    "tags": []
   },
   "outputs": [],
   "source": [
    "#cp_groups_df"
   ]
  },
  {
   "cell_type": "code",
   "execution_count": 68,
   "id": "90032e27-66df-4540-9169-4e89cfbaa758",
   "metadata": {
    "execution": {
     "iopub.execute_input": "2025-07-30T21:04:16.692507Z",
     "iopub.status.busy": "2025-07-30T21:04:16.691635Z",
     "iopub.status.idle": "2025-07-30T21:04:16.703603Z",
     "shell.execute_reply": "2025-07-30T21:04:16.702644Z"
    },
    "papermill": {
     "duration": 0.039323,
     "end_time": "2025-07-30T21:04:16.705391",
     "exception": false,
     "start_time": "2025-07-30T21:04:16.666068",
     "status": "completed"
    },
    "tags": []
   },
   "outputs": [],
   "source": [
    "subgroups = ['frau1','nongerman','nongerman_male','nongerman_female']\n",
    "\n",
    "# Conditional coverage for subgroup==1\n",
    "cond_coverage = {\n",
    "    g: cp_groups_df.loc[cp_groups_df[g]==1, 'covered'].mean()\n",
    "    for g in subgroups\n",
    "}"
   ]
  },
  {
   "cell_type": "code",
   "execution_count": 69,
   "id": "1e348fb1-b9c3-45bc-ba23-f016827a7e0d",
   "metadata": {
    "execution": {
     "iopub.execute_input": "2025-07-30T21:04:16.757325Z",
     "iopub.status.busy": "2025-07-30T21:04:16.756896Z",
     "iopub.status.idle": "2025-07-30T21:04:16.764067Z",
     "shell.execute_reply": "2025-07-30T21:04:16.763041Z"
    },
    "papermill": {
     "duration": 0.03197,
     "end_time": "2025-07-30T21:04:16.765682",
     "exception": false,
     "start_time": "2025-07-30T21:04:16.733712",
     "status": "completed"
    },
    "tags": []
   },
   "outputs": [
    {
     "data": {
      "text/plain": [
       "{'frau1': 0.9087747674888799,\n",
       " 'nongerman': 0.9313984168865436,\n",
       " 'nongerman_male': 0.944159236242457,\n",
       " 'nongerman_female': 0.9102831594634874}"
      ]
     },
     "execution_count": 69,
     "metadata": {},
     "output_type": "execute_result"
    }
   ],
   "source": [
    "cond_coverage"
   ]
  },
  {
   "cell_type": "code",
   "execution_count": 70,
   "id": "f5093324-c3dd-4d63-bc4c-8d945e5c8bbb",
   "metadata": {
    "execution": {
     "iopub.execute_input": "2025-07-30T21:04:16.820793Z",
     "iopub.status.busy": "2025-07-30T21:04:16.819923Z",
     "iopub.status.idle": "2025-07-30T21:04:16.828069Z",
     "shell.execute_reply": "2025-07-30T21:04:16.827120Z"
    },
    "papermill": {
     "duration": 0.038245,
     "end_time": "2025-07-30T21:04:16.829670",
     "exception": false,
     "start_time": "2025-07-30T21:04:16.791425",
     "status": "completed"
    },
    "tags": []
   },
   "outputs": [],
   "source": [
    "for subgroup, cov in cond_coverage.items():\n",
    "    cp_metrics_df[f\"cov_{subgroup}\"] = cov"
   ]
  },
  {
   "cell_type": "code",
   "execution_count": 71,
   "id": "6e872e10-dbe5-49e8-b554-5030c98ff75d",
   "metadata": {
    "execution": {
     "iopub.execute_input": "2025-07-30T21:04:16.883917Z",
     "iopub.status.busy": "2025-07-30T21:04:16.883505Z",
     "iopub.status.idle": "2025-07-30T21:04:16.898405Z",
     "shell.execute_reply": "2025-07-30T21:04:16.897636Z"
    },
    "papermill": {
     "duration": 0.041813,
     "end_time": "2025-07-30T21:04:16.899674",
     "exception": false,
     "start_time": "2025-07-30T21:04:16.857861",
     "status": "completed"
    },
    "tags": []
   },
   "outputs": [
    {
     "data": {
      "text/html": [
       "<div>\n",
       "<style scoped>\n",
       "    .dataframe tbody tr th:only-of-type {\n",
       "        vertical-align: middle;\n",
       "    }\n",
       "\n",
       "    .dataframe tbody tr th {\n",
       "        vertical-align: top;\n",
       "    }\n",
       "\n",
       "    .dataframe thead th {\n",
       "        text-align: right;\n",
       "    }\n",
       "</style>\n",
       "<table border=\"1\" class=\"dataframe\">\n",
       "  <thead>\n",
       "    <tr style=\"text-align: right;\">\n",
       "      <th></th>\n",
       "      <th>universe_id</th>\n",
       "      <th>universe_training_year</th>\n",
       "      <th>universe_training_size</th>\n",
       "      <th>universe_scale</th>\n",
       "      <th>universe_model</th>\n",
       "      <th>universe_exclude_features</th>\n",
       "      <th>universe_exclude_subgroups</th>\n",
       "      <th>q_hat</th>\n",
       "      <th>coverage</th>\n",
       "      <th>avg_size</th>\n",
       "      <th>cov_frau1</th>\n",
       "      <th>cov_nongerman</th>\n",
       "      <th>cov_nongerman_male</th>\n",
       "      <th>cov_nongerman_female</th>\n",
       "    </tr>\n",
       "  </thead>\n",
       "  <tbody>\n",
       "    <tr>\n",
       "      <th>0</th>\n",
       "      <td>2a423d7fe6a32a1c81639f298417b282</td>\n",
       "      <td>2012_14</td>\n",
       "      <td>5k</td>\n",
       "      <td>do-not-scale</td>\n",
       "      <td>penalized_logreg</td>\n",
       "      <td>sex</td>\n",
       "      <td>keep-all</td>\n",
       "      <td>0.682149</td>\n",
       "      <td>0.911671</td>\n",
       "      <td>1.205295</td>\n",
       "      <td>0.908775</td>\n",
       "      <td>0.931398</td>\n",
       "      <td>0.944159</td>\n",
       "      <td>0.910283</td>\n",
       "    </tr>\n",
       "  </tbody>\n",
       "</table>\n",
       "</div>"
      ],
      "text/plain": [
       "                        universe_id universe_training_year  \\\n",
       "0  2a423d7fe6a32a1c81639f298417b282                2012_14   \n",
       "\n",
       "  universe_training_size universe_scale    universe_model  \\\n",
       "0                     5k   do-not-scale  penalized_logreg   \n",
       "\n",
       "  universe_exclude_features universe_exclude_subgroups     q_hat  coverage  \\\n",
       "0                       sex                   keep-all  0.682149  0.911671   \n",
       "\n",
       "   avg_size  cov_frau1  cov_nongerman  cov_nongerman_male  \\\n",
       "0  1.205295   0.908775       0.931398            0.944159   \n",
       "\n",
       "   cov_nongerman_female  \n",
       "0              0.910283  "
      ]
     },
     "execution_count": 71,
     "metadata": {},
     "output_type": "execute_result"
    }
   ],
   "source": [
    "cp_metrics_df"
   ]
  },
  {
   "cell_type": "markdown",
   "id": "33774451",
   "metadata": {
    "papermill": {
     "duration": 0.014083,
     "end_time": "2025-07-30T21:04:16.930082",
     "exception": false,
     "start_time": "2025-07-30T21:04:16.915999",
     "status": "completed"
    },
    "tags": []
   },
   "source": [
    "# (Fairness) Metrics"
   ]
  },
  {
   "cell_type": "code",
   "execution_count": 72,
   "id": "debc5d62",
   "metadata": {
    "execution": {
     "iopub.execute_input": "2025-07-30T21:04:16.974408Z",
     "iopub.status.busy": "2025-07-30T21:04:16.973900Z",
     "iopub.status.idle": "2025-07-30T21:04:16.988719Z",
     "shell.execute_reply": "2025-07-30T21:04:16.987945Z"
    },
    "papermill": {
     "duration": 0.046314,
     "end_time": "2025-07-30T21:04:16.989976",
     "exception": false,
     "start_time": "2025-07-30T21:04:16.943662",
     "status": "completed"
    },
    "tags": []
   },
   "outputs": [],
   "source": [
    "# do I need to include maxdeutsch1.missing?\n",
    "\n",
    "import numpy as np\n",
    "\n",
    "colname_to_bin = \"maxdeutsch1\"\n",
    "majority_value = org_train[colname_to_bin].mode()[0]\n",
    "\n",
    "org_test[\"majmin\"] = np.where(org_test[colname_to_bin] == majority_value, \"majority\", \"minority\")"
   ]
  },
  {
   "cell_type": "code",
   "execution_count": 73,
   "id": "06a50de5",
   "metadata": {
    "execution": {
     "iopub.execute_input": "2025-07-30T21:04:17.019229Z",
     "iopub.status.busy": "2025-07-30T21:04:17.018584Z",
     "iopub.status.idle": "2025-07-30T21:04:18.720352Z",
     "shell.execute_reply": "2025-07-30T21:04:18.719462Z"
    },
    "papermill": {
     "duration": 1.717548,
     "end_time": "2025-07-30T21:04:18.721742",
     "exception": false,
     "start_time": "2025-07-30T21:04:17.004194",
     "status": "completed"
    },
    "tags": []
   },
   "outputs": [],
   "source": [
    "example_universe = universe.copy()\n",
    "example_universe[\"cutoff\"] = example_universe[\"cutoff\"][0]\n",
    "example_universe[\"eval_fairness_grouping\"] = example_universe[\"eval_fairness_grouping\"][0]\n",
    "fairness_dict, metric_frame = universe_analysis.compute_metrics(\n",
    "    example_universe,\n",
    "    y_pred_prob=probs_test,\n",
    "    y_test=y_true,\n",
    "    org_test=org_test,\n",
    ")"
   ]
  },
  {
   "cell_type": "markdown",
   "id": "f95d4e02",
   "metadata": {
    "papermill": {
     "duration": 0.021083,
     "end_time": "2025-07-30T21:04:18.757646",
     "exception": false,
     "start_time": "2025-07-30T21:04:18.736563",
     "status": "completed"
    },
    "tags": []
   },
   "source": [
    "# Overall"
   ]
  },
  {
   "cell_type": "markdown",
   "id": "bdee4871",
   "metadata": {
    "papermill": {
     "duration": 0.025717,
     "end_time": "2025-07-30T21:04:18.809193",
     "exception": false,
     "start_time": "2025-07-30T21:04:18.783476",
     "status": "completed"
    },
    "tags": []
   },
   "source": [
    "Fairness\n",
    "Main fairness target: Equalized Odds. Seems to be a better fit than equal opportunity, since we're not only interested in Y = 1. Seems to be a better fit than demographic parity, since we also care about accuracy, not just equal distribution of preds.\n",
    "\n",
    "Pick column for computation of fairness metrics\n",
    "\n",
    "Performance\n",
    "Overall performance measures, most interesting in relation to the measures split by group below"
   ]
  },
  {
   "cell_type": "code",
   "execution_count": 74,
   "id": "c4e067c6",
   "metadata": {
    "execution": {
     "iopub.execute_input": "2025-07-30T21:04:18.851983Z",
     "iopub.status.busy": "2025-07-30T21:04:18.851639Z",
     "iopub.status.idle": "2025-07-30T21:04:18.859631Z",
     "shell.execute_reply": "2025-07-30T21:04:18.858683Z"
    },
    "papermill": {
     "duration": 0.026109,
     "end_time": "2025-07-30T21:04:18.860942",
     "exception": false,
     "start_time": "2025-07-30T21:04:18.834833",
     "status": "completed"
    },
    "tags": []
   },
   "outputs": [
    {
     "data": {
      "text/plain": [
       "accuracy                   0.218961\n",
       "balanced accuracy          0.536524\n",
       "f1                         0.240441\n",
       "precision                  0.137356\n",
       "false positive rate        0.890629\n",
       "false negative rate        0.036323\n",
       "selection rate             0.900000\n",
       "count                  89710.000000\n",
       "dtype: float64"
      ]
     },
     "execution_count": 74,
     "metadata": {},
     "output_type": "execute_result"
    }
   ],
   "source": [
    "metric_frame.overall"
   ]
  },
  {
   "cell_type": "markdown",
   "id": "e968fe9d",
   "metadata": {
    "papermill": {
     "duration": 0.028676,
     "end_time": "2025-07-30T21:04:18.908558",
     "exception": false,
     "start_time": "2025-07-30T21:04:18.879882",
     "status": "completed"
    },
    "tags": []
   },
   "source": [
    "By Group"
   ]
  },
  {
   "cell_type": "code",
   "execution_count": 75,
   "id": "ec325bce",
   "metadata": {
    "execution": {
     "iopub.execute_input": "2025-07-30T21:04:18.968373Z",
     "iopub.status.busy": "2025-07-30T21:04:18.967740Z",
     "iopub.status.idle": "2025-07-30T21:04:18.984873Z",
     "shell.execute_reply": "2025-07-30T21:04:18.983616Z"
    },
    "papermill": {
     "duration": 0.049261,
     "end_time": "2025-07-30T21:04:18.986572",
     "exception": false,
     "start_time": "2025-07-30T21:04:18.937311",
     "status": "completed"
    },
    "tags": []
   },
   "outputs": [
    {
     "data": {
      "text/html": [
       "<div>\n",
       "<style scoped>\n",
       "    .dataframe tbody tr th:only-of-type {\n",
       "        vertical-align: middle;\n",
       "    }\n",
       "\n",
       "    .dataframe tbody tr th {\n",
       "        vertical-align: top;\n",
       "    }\n",
       "\n",
       "    .dataframe thead th {\n",
       "        text-align: right;\n",
       "    }\n",
       "</style>\n",
       "<table border=\"1\" class=\"dataframe\">\n",
       "  <thead>\n",
       "    <tr style=\"text-align: right;\">\n",
       "      <th></th>\n",
       "      <th>accuracy</th>\n",
       "      <th>balanced accuracy</th>\n",
       "      <th>f1</th>\n",
       "      <th>precision</th>\n",
       "      <th>false positive rate</th>\n",
       "      <th>false negative rate</th>\n",
       "      <th>selection rate</th>\n",
       "      <th>count</th>\n",
       "    </tr>\n",
       "    <tr>\n",
       "      <th>majmin</th>\n",
       "      <th></th>\n",
       "      <th></th>\n",
       "      <th></th>\n",
       "      <th></th>\n",
       "      <th></th>\n",
       "      <th></th>\n",
       "      <th></th>\n",
       "      <th></th>\n",
       "    </tr>\n",
       "  </thead>\n",
       "  <tbody>\n",
       "    <tr>\n",
       "      <th>majority</th>\n",
       "      <td>0.240986</td>\n",
       "      <td>0.544949</td>\n",
       "      <td>0.250146</td>\n",
       "      <td>0.143852</td>\n",
       "      <td>0.868199</td>\n",
       "      <td>0.041904</td>\n",
       "      <td>0.880078</td>\n",
       "      <td>69170.0</td>\n",
       "    </tr>\n",
       "    <tr>\n",
       "      <th>minority</th>\n",
       "      <td>0.144791</td>\n",
       "      <td>0.510247</td>\n",
       "      <td>0.209878</td>\n",
       "      <td>0.117449</td>\n",
       "      <td>0.964726</td>\n",
       "      <td>0.014780</td>\n",
       "      <td>0.967089</td>\n",
       "      <td>20540.0</td>\n",
       "    </tr>\n",
       "  </tbody>\n",
       "</table>\n",
       "</div>"
      ],
      "text/plain": [
       "          accuracy  balanced accuracy        f1  precision  \\\n",
       "majmin                                                       \n",
       "majority  0.240986           0.544949  0.250146   0.143852   \n",
       "minority  0.144791           0.510247  0.209878   0.117449   \n",
       "\n",
       "          false positive rate  false negative rate  selection rate    count  \n",
       "majmin                                                                       \n",
       "majority             0.868199             0.041904        0.880078  69170.0  \n",
       "minority             0.964726             0.014780        0.967089  20540.0  "
      ]
     },
     "execution_count": 75,
     "metadata": {},
     "output_type": "execute_result"
    }
   ],
   "source": [
    "metric_frame.by_group"
   ]
  },
  {
   "cell_type": "code",
   "execution_count": 76,
   "id": "a9ddbe63",
   "metadata": {
    "execution": {
     "iopub.execute_input": "2025-07-30T21:04:19.045470Z",
     "iopub.status.busy": "2025-07-30T21:04:19.044739Z",
     "iopub.status.idle": "2025-07-30T21:04:21.845492Z",
     "shell.execute_reply": "2025-07-30T21:04:21.844428Z"
    },
    "papermill": {
     "duration": 2.832084,
     "end_time": "2025-07-30T21:04:21.847233",
     "exception": false,
     "start_time": "2025-07-30T21:04:19.015149",
     "status": "completed"
    },
    "tags": []
   },
   "outputs": [
    {
     "data": {
      "text/plain": [
       "array([[<Axes: title={'center': 'accuracy'}, xlabel='majmin'>,\n",
       "        <Axes: title={'center': 'balanced accuracy'}, xlabel='majmin'>,\n",
       "        <Axes: title={'center': 'f1'}, xlabel='majmin'>],\n",
       "       [<Axes: title={'center': 'precision'}, xlabel='majmin'>,\n",
       "        <Axes: title={'center': 'false positive rate'}, xlabel='majmin'>,\n",
       "        <Axes: title={'center': 'false negative rate'}, xlabel='majmin'>],\n",
       "       [<Axes: title={'center': 'selection rate'}, xlabel='majmin'>,\n",
       "        <Axes: title={'center': 'count'}, xlabel='majmin'>,\n",
       "        <Axes: xlabel='majmin'>]], dtype=object)"
      ]
     },
     "execution_count": 76,
     "metadata": {},
     "output_type": "execute_result"
    },
    {
     "data": {
      "image/png": "[encoded data removed]",
      "text/plain": [
       "<Figure size 1200x800 with 9 Axes>"
      ]
     },
     "metadata": {},
     "output_type": "display_data"
    }
   ],
   "source": [
    "# In a graphic\n",
    "metric_frame.by_group.plot.bar(\n",
    "    subplots=True,\n",
    "    layout=[3, 3],\n",
    "    legend=False,\n",
    "    figsize=[12, 8],\n",
    "    title=\"Show all metrics\",\n",
    ")"
   ]
  },
  {
   "cell_type": "markdown",
   "id": "f57a0bac",
   "metadata": {
    "papermill": {
     "duration": 0.027499,
     "end_time": "2025-07-30T21:04:21.903185",
     "exception": false,
     "start_time": "2025-07-30T21:04:21.875686",
     "status": "completed"
    },
    "tags": []
   },
   "source": [
    "# Final Output"
   ]
  },
  {
   "cell_type": "code",
   "execution_count": 77,
   "id": "96d280a3",
   "metadata": {
    "execution": {
     "iopub.execute_input": "2025-07-30T21:04:21.961131Z",
     "iopub.status.busy": "2025-07-30T21:04:21.959871Z",
     "iopub.status.idle": "2025-07-30T21:04:21.970769Z",
     "shell.execute_reply": "2025-07-30T21:04:21.969816Z"
    },
    "papermill": {
     "duration": 0.041672,
     "end_time": "2025-07-30T21:04:21.972448",
     "exception": false,
     "start_time": "2025-07-30T21:04:21.930776",
     "status": "completed"
    },
    "tags": []
   },
   "outputs": [
    {
     "data": {
      "text/plain": [
       "4"
      ]
     },
     "execution_count": 77,
     "metadata": {},
     "output_type": "execute_result"
    }
   ],
   "source": [
    "sub_universes = universe_analysis.generate_sub_universes()\n",
    "len(sub_universes)"
   ]
  },
  {
   "cell_type": "code",
   "execution_count": 78,
   "id": "92adf7ba",
   "metadata": {
    "execution": {
     "iopub.execute_input": "2025-07-30T21:04:22.029612Z",
     "iopub.status.busy": "2025-07-30T21:04:22.028741Z",
     "iopub.status.idle": "2025-07-30T21:04:22.043139Z",
     "shell.execute_reply": "2025-07-30T21:04:22.041944Z"
    },
    "papermill": {
     "duration": 0.045616,
     "end_time": "2025-07-30T21:04:22.045329",
     "exception": false,
     "start_time": "2025-07-30T21:04:21.999713",
     "status": "completed"
    },
    "tags": []
   },
   "outputs": [],
   "source": [
    "def filter_sub_universe_data(sub_universe, org_test):\n",
    "    # Keep all rows — no filtering\n",
    "    keep_rows_mask = np.ones(org_test.shape[0], dtype=bool)\n",
    "\n",
    "    print(f\"[INFO] Keeping all rows: {keep_rows_mask.sum()} rows retained.\")\n",
    "    return keep_rows_mask"
   ]
  },
  {
   "cell_type": "code",
   "execution_count": 79,
   "id": "4a759155",
   "metadata": {
    "execution": {
     "iopub.execute_input": "2025-07-30T21:04:22.106693Z",
     "iopub.status.busy": "2025-07-30T21:04:22.106238Z",
     "iopub.status.idle": "2025-07-30T21:04:31.997777Z",
     "shell.execute_reply": "2025-07-30T21:04:31.996891Z"
    },
    "papermill": {
     "duration": 9.924372,
     "end_time": "2025-07-30T21:04:31.999724",
     "exception": false,
     "start_time": "2025-07-30T21:04:22.075352",
     "status": "completed"
    },
    "tags": []
   },
   "outputs": [
    {
     "name": "stdout",
     "output_type": "stream",
     "text": [
      "Stopping execution_time clock.\n",
      "[INFO] Keeping all rows: 89710 rows retained.\n"
     ]
    },
    {
     "name": "stdout",
     "output_type": "stream",
     "text": [
      "[INFO] Keeping all rows: 89710 rows retained.\n"
     ]
    },
    {
     "name": "stdout",
     "output_type": "stream",
     "text": [
      "[INFO] Keeping all rows: 89710 rows retained.\n"
     ]
    },
    {
     "name": "stdout",
     "output_type": "stream",
     "text": [
      "[INFO] Keeping all rows: 89710 rows retained.\n"
     ]
    },
    {
     "data": {
      "text/html": [
       "<div>\n",
       "<style scoped>\n",
       "    .dataframe tbody tr th:only-of-type {\n",
       "        vertical-align: middle;\n",
       "    }\n",
       "\n",
       "    .dataframe tbody tr th {\n",
       "        vertical-align: top;\n",
       "    }\n",
       "\n",
       "    .dataframe thead th {\n",
       "        text-align: right;\n",
       "    }\n",
       "</style>\n",
       "<table border=\"1\" class=\"dataframe\">\n",
       "  <thead>\n",
       "    <tr style=\"text-align: right;\">\n",
       "      <th></th>\n",
       "      <th>run_no</th>\n",
       "      <th>universe_id</th>\n",
       "      <th>universe_settings</th>\n",
       "      <th>execution_time</th>\n",
       "      <th>test_size_n</th>\n",
       "      <th>test_size_frac</th>\n",
       "      <th>fair_main_equalized_odds_difference</th>\n",
       "      <th>fair_main_equalized_odds_ratio</th>\n",
       "      <th>fair_main_demographic_parity_difference</th>\n",
       "      <th>fair_main_demographic_parity_ratio</th>\n",
       "      <th>...</th>\n",
       "      <th>perf_grp_precision_0</th>\n",
       "      <th>perf_grp_precision_1</th>\n",
       "      <th>perf_grp_false positive rate_0</th>\n",
       "      <th>perf_grp_false positive rate_1</th>\n",
       "      <th>perf_grp_false negative rate_0</th>\n",
       "      <th>perf_grp_false negative rate_1</th>\n",
       "      <th>perf_grp_selection rate_0</th>\n",
       "      <th>perf_grp_selection rate_1</th>\n",
       "      <th>perf_grp_count_0</th>\n",
       "      <th>perf_grp_count_1</th>\n",
       "    </tr>\n",
       "  </thead>\n",
       "  <tbody>\n",
       "    <tr>\n",
       "      <th>0</th>\n",
       "      <td>14</td>\n",
       "      <td>2a423d7fe6a32a1c81639f298417b282</td>\n",
       "      <td>{\"cutoff\": \"quantile_0.1\", \"eval_fairness_grou...</td>\n",
       "      <td>26.27205</td>\n",
       "      <td>89710</td>\n",
       "      <td>1.0</td>\n",
       "      <td>0.096527</td>\n",
       "      <td>0.899944</td>\n",
       "      <td>0.087011</td>\n",
       "      <td>0.910028</td>\n",
       "      <td>...</td>\n",
       "      <td>NaN</td>\n",
       "      <td>NaN</td>\n",
       "      <td>NaN</td>\n",
       "      <td>NaN</td>\n",
       "      <td>NaN</td>\n",
       "      <td>NaN</td>\n",
       "      <td>NaN</td>\n",
       "      <td>NaN</td>\n",
       "      <td>NaN</td>\n",
       "      <td>NaN</td>\n",
       "    </tr>\n",
       "    <tr>\n",
       "      <th>0</th>\n",
       "      <td>14</td>\n",
       "      <td>2a423d7fe6a32a1c81639f298417b282</td>\n",
       "      <td>{\"cutoff\": \"quantile_0.1\", \"eval_fairness_grou...</td>\n",
       "      <td>26.27205</td>\n",
       "      <td>89710</td>\n",
       "      <td>1.0</td>\n",
       "      <td>0.096527</td>\n",
       "      <td>0.899944</td>\n",
       "      <td>0.087011</td>\n",
       "      <td>0.910028</td>\n",
       "      <td>...</td>\n",
       "      <td>0.117449</td>\n",
       "      <td>0.143852</td>\n",
       "      <td>0.964726</td>\n",
       "      <td>0.868199</td>\n",
       "      <td>0.014780</td>\n",
       "      <td>0.041904</td>\n",
       "      <td>0.967089</td>\n",
       "      <td>0.880078</td>\n",
       "      <td>20540.0</td>\n",
       "      <td>69170.0</td>\n",
       "    </tr>\n",
       "    <tr>\n",
       "      <th>0</th>\n",
       "      <td>14</td>\n",
       "      <td>2a423d7fe6a32a1c81639f298417b282</td>\n",
       "      <td>{\"cutoff\": \"quantile_0.25\", \"eval_fairness_gro...</td>\n",
       "      <td>26.27205</td>\n",
       "      <td>89710</td>\n",
       "      <td>1.0</td>\n",
       "      <td>0.217190</td>\n",
       "      <td>0.758059</td>\n",
       "      <td>0.198907</td>\n",
       "      <td>0.779815</td>\n",
       "      <td>...</td>\n",
       "      <td>NaN</td>\n",
       "      <td>NaN</td>\n",
       "      <td>NaN</td>\n",
       "      <td>NaN</td>\n",
       "      <td>NaN</td>\n",
       "      <td>NaN</td>\n",
       "      <td>NaN</td>\n",
       "      <td>NaN</td>\n",
       "      <td>NaN</td>\n",
       "      <td>NaN</td>\n",
       "    </tr>\n",
       "    <tr>\n",
       "      <th>0</th>\n",
       "      <td>14</td>\n",
       "      <td>2a423d7fe6a32a1c81639f298417b282</td>\n",
       "      <td>{\"cutoff\": \"quantile_0.25\", \"eval_fairness_gro...</td>\n",
       "      <td>26.27205</td>\n",
       "      <td>89710</td>\n",
       "      <td>1.0</td>\n",
       "      <td>0.217190</td>\n",
       "      <td>0.758059</td>\n",
       "      <td>0.198907</td>\n",
       "      <td>0.779815</td>\n",
       "      <td>...</td>\n",
       "      <td>0.120830</td>\n",
       "      <td>0.161635</td>\n",
       "      <td>0.897700</td>\n",
       "      <td>0.680510</td>\n",
       "      <td>0.053209</td>\n",
       "      <td>0.138293</td>\n",
       "      <td>0.903359</td>\n",
       "      <td>0.704453</td>\n",
       "      <td>20540.0</td>\n",
       "      <td>69170.0</td>\n",
       "    </tr>\n",
       "  </tbody>\n",
       "</table>\n",
       "<p>4 rows × 50 columns</p>\n",
       "</div>"
      ],
      "text/plain": [
       "  run_no                       universe_id  \\\n",
       "0     14  2a423d7fe6a32a1c81639f298417b282   \n",
       "0     14  2a423d7fe6a32a1c81639f298417b282   \n",
       "0     14  2a423d7fe6a32a1c81639f298417b282   \n",
       "0     14  2a423d7fe6a32a1c81639f298417b282   \n",
       "\n",
       "                                   universe_settings  execution_time  \\\n",
       "0  {\"cutoff\": \"quantile_0.1\", \"eval_fairness_grou...        26.27205   \n",
       "0  {\"cutoff\": \"quantile_0.1\", \"eval_fairness_grou...        26.27205   \n",
       "0  {\"cutoff\": \"quantile_0.25\", \"eval_fairness_gro...        26.27205   \n",
       "0  {\"cutoff\": \"quantile_0.25\", \"eval_fairness_gro...        26.27205   \n",
       "\n",
       "   test_size_n  test_size_frac  fair_main_equalized_odds_difference  \\\n",
       "0        89710             1.0                             0.096527   \n",
       "0        89710             1.0                             0.096527   \n",
       "0        89710             1.0                             0.217190   \n",
       "0        89710             1.0                             0.217190   \n",
       "\n",
       "   fair_main_equalized_odds_ratio  fair_main_demographic_parity_difference  \\\n",
       "0                        0.899944                                 0.087011   \n",
       "0                        0.899944                                 0.087011   \n",
       "0                        0.758059                                 0.198907   \n",
       "0                        0.758059                                 0.198907   \n",
       "\n",
       "   fair_main_demographic_parity_ratio  ...  perf_grp_precision_0  \\\n",
       "0                            0.910028  ...                   NaN   \n",
       "0                            0.910028  ...              0.117449   \n",
       "0                            0.779815  ...                   NaN   \n",
       "0                            0.779815  ...              0.120830   \n",
       "\n",
       "   perf_grp_precision_1  perf_grp_false positive rate_0  \\\n",
       "0                   NaN                             NaN   \n",
       "0              0.143852                        0.964726   \n",
       "0                   NaN                             NaN   \n",
       "0              0.161635                        0.897700   \n",
       "\n",
       "   perf_grp_false positive rate_1  perf_grp_false negative rate_0  \\\n",
       "0                             NaN                             NaN   \n",
       "0                        0.868199                        0.014780   \n",
       "0                             NaN                             NaN   \n",
       "0                        0.680510                        0.053209   \n",
       "\n",
       "   perf_grp_false negative rate_1  perf_grp_selection rate_0  \\\n",
       "0                             NaN                        NaN   \n",
       "0                        0.041904                   0.967089   \n",
       "0                             NaN                        NaN   \n",
       "0                        0.138293                   0.903359   \n",
       "\n",
       "   perf_grp_selection rate_1  perf_grp_count_0  perf_grp_count_1  \n",
       "0                        NaN               NaN               NaN  \n",
       "0                   0.880078           20540.0           69170.0  \n",
       "0                        NaN               NaN               NaN  \n",
       "0                   0.704453           20540.0           69170.0  \n",
       "\n",
       "[4 rows x 50 columns]"
      ]
     },
     "execution_count": 79,
     "metadata": {},
     "output_type": "execute_result"
    }
   ],
   "source": [
    "final_output = universe_analysis.generate_final_output(\n",
    "    y_pred_prob=probs_test,\n",
    "    y_test=y_true,\n",
    "    org_test=org_test,\n",
    "    filter_data=filter_sub_universe_data,\n",
    "    cp_metrics_df=cp_metrics_df,\n",
    "    save=True,\n",
    ")\n",
    "final_output"
   ]
  },
  {
   "cell_type": "code",
   "execution_count": null,
   "id": "721ff514-cb11-46f8-b6fc-50392f74b5cb",
   "metadata": {
    "papermill": {
     "duration": 0.043849,
     "end_time": "2025-07-30T21:04:32.091991",
     "exception": false,
     "start_time": "2025-07-30T21:04:32.048142",
     "status": "completed"
    },
    "tags": []
   },
   "outputs": [],
   "source": []
  }
 ],
 "metadata": {
  "celltoolbar": "Tags",
  "kernelspec": {
   "display_name": "Python (CMA Fairness)",
   "language": "python",
   "name": "cma_fair_env"
  },
  "language_info": {
   "codemirror_mode": {
    "name": "ipython",
    "version": 3
   },
   "file_extension": ".py",
   "mimetype": "text/x-python",
   "name": "python",
   "nbconvert_exporter": "python",
   "pygments_lexer": "ipython3",
   "version": "3.10.12"
  },
  "papermill": {
   "default_parameters": {},
   "duration": 40.628619,
   "end_time": "2025-07-30T21:04:32.956882",
   "environment_variables": {},
   "exception": null,
   "input_path": "universe_analysis.ipynb",
   "output_path": "output/runs/14/notebooks/m_14-2a423d7fe6a32a1c81639f298417b282.ipynb",
   "parameters": {
    "output_dir": "output",
    "run_no": "14",
    "seed": "2023",
    "universe": "{\"cutoff\": [\"quantile_0.1\", \"quantile_0.25\"], \"eval_fairness_grouping\": [\"majority-minority\", \"nationality-all\"], \"exclude_features\": \"sex\", \"exclude_subgroups\": \"keep-all\", \"model\": \"penalized_logreg\", \"scale\": \"do-not-scale\", \"training_size\": \"5k\", \"training_year\": \"2012_14\"}",
    "universe_id": "2a423d7fe6a32a1c81639f298417b282"
   },
   "start_time": "2025-07-30T21:03:52.328263",
   "version": "2.6.0"
  }
 },
 "nbformat": 4,
 "nbformat_minor": 5
}