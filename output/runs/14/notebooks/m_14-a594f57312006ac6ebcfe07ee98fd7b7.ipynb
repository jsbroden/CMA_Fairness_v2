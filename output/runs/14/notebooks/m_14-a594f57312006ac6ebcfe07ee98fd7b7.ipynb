{
 "cells": [
  {
   "cell_type": "code",
   "execution_count": 1,
   "id": "f159f837-637b-42ba-96b5-ec9a68c44524",
   "metadata": {
    "execution": {
     "iopub.execute_input": "2025-07-30T21:29:33.841199Z",
     "iopub.status.busy": "2025-07-30T21:29:33.840361Z",
     "iopub.status.idle": "2025-07-30T21:29:33.852983Z",
     "shell.execute_reply": "2025-07-30T21:29:33.852131Z"
    },
    "papermill": {
     "duration": 0.035328,
     "end_time": "2025-07-30T21:29:33.854686",
     "exception": false,
     "start_time": "2025-07-30T21:29:33.819358",
     "status": "completed"
    },
    "tags": []
   },
   "outputs": [
    {
     "name": "stdout",
     "output_type": "stream",
     "text": [
      "/dss/dsshome1/0C/ra93lal2/cma/CMA_Fairness_v2\n"
     ]
    },
    {
     "name": "stderr",
     "output_type": "stream",
     "text": [
      "/dss/dsshome1/0C/ra93lal2/.local/share/virtualenvs/CMA_Fairness_v2-3j10GkSs/lib/python3.10/site-packages/IPython/core/magics/osm.py:393: UserWarning: This is now an optional IPython functionality, using bookmarks requires you to install the `pickleshare` library.\n",
      "  bkms = self.shell.db.get('bookmarks', {})\n",
      "/dss/dsshome1/0C/ra93lal2/.local/share/virtualenvs/CMA_Fairness_v2-3j10GkSs/lib/python3.10/site-packages/IPython/core/magics/osm.py:417: UserWarning: This is now an optional IPython functionality, setting dhist requires you to install the `pickleshare` library.\n",
      "  self.shell.db['dhist'] = compress_dhist(dhist)[-100:]\n"
     ]
    }
   ],
   "source": [
    "%cd ~/cma/CMA_Fairness_v2"
   ]
  },
  {
   "cell_type": "markdown",
   "id": "de2603b9",
   "metadata": {
    "papermill": {
     "duration": 0.019555,
     "end_time": "2025-07-30T21:29:33.894590",
     "exception": false,
     "start_time": "2025-07-30T21:29:33.875035",
     "status": "completed"
    },
    "tags": []
   },
   "source": [
    "The following cell holds the definition of our parameters, these values can be overriden by rendering the with e.g. the following command:\n",
    "\n",
    "papermill -p alpha 0.2 -p ratio 0.3 universe_analysis.ipynb output/test_run.ipynb"
   ]
  },
  {
   "cell_type": "code",
   "execution_count": 2,
   "id": "a80968a0-40bb-4fa9-85ef-2d5eefb01975",
   "metadata": {
    "execution": {
     "iopub.execute_input": "2025-07-30T21:29:33.934597Z",
     "iopub.status.busy": "2025-07-30T21:29:33.933948Z",
     "iopub.status.idle": "2025-07-30T21:29:33.939181Z",
     "shell.execute_reply": "2025-07-30T21:29:33.938379Z"
    },
    "papermill": {
     "duration": 0.027346,
     "end_time": "2025-07-30T21:29:33.940720",
     "exception": false,
     "start_time": "2025-07-30T21:29:33.913374",
     "status": "completed"
    },
    "tags": []
   },
   "outputs": [
    {
     "name": "stdout",
     "output_type": "stream",
     "text": [
      "Current working directory: /dss/dsshome1/0C/ra93lal2/cma/CMA_Fairness_v2\n"
     ]
    }
   ],
   "source": [
    "import os\n",
    "print(\"Current working directory:\", os.getcwd())"
   ]
  },
  {
   "cell_type": "code",
   "execution_count": 3,
   "id": "2dce4c03",
   "metadata": {
    "execution": {
     "iopub.execute_input": "2025-07-30T21:29:33.982529Z",
     "iopub.status.busy": "2025-07-30T21:29:33.981625Z",
     "iopub.status.idle": "2025-07-30T21:29:33.988197Z",
     "shell.execute_reply": "2025-07-30T21:29:33.987288Z"
    },
    "papermill": {
     "duration": 0.029491,
     "end_time": "2025-07-30T21:29:33.989795",
     "exception": false,
     "start_time": "2025-07-30T21:29:33.960304",
     "status": "completed"
    },
    "tags": [
     "parameters"
    ]
   },
   "outputs": [],
   "source": [
    "run_no = 0\n",
    "universe_id = \"test\"\n",
    "universe = {\n",
    "    \"training_size\": \"25k\", # \"25k\", \"5k\", \"1k\"\n",
    "    \"training_year\": \"2014\", # \"2014\", \"2012_14\", \"2010_14\"\n",
    "    \"scale\": \"scale\", # \"scale\", \"do-not-scale\",\n",
    "    #\"stratify_split\": \"target\", # \"none\", \"target\", \"protected-attribute\", \"both\",\n",
    "    \"model\": \"elasticnet\", # \"logreg\", \"penalized_logreg\", \"rf\", \"gbm\", \"elasticnet\"\n",
    "    \"cutoff\": [\"quantile_0.15\", \"quantile_0.30\"],\n",
    "    \"exclude_features\": \"age\", # \"none\", \"nationality\", \"sex\", \"nationality-sex\", \"age\"\n",
    "    \"exclude_subgroups\": \"keep-all\", # \"keep-all\", \"drop-non-german\"\n",
    "    \"eval_fairness_grouping\": [\"majority-minority\", \"nationality-all\"]\n",
    "}\n",
    "\n",
    "output_dir=\"./output\"\n",
    "seed=0"
   ]
  },
  {
   "cell_type": "code",
   "execution_count": 4,
   "id": "76d07d14",
   "metadata": {
    "execution": {
     "iopub.execute_input": "2025-07-30T21:29:34.031550Z",
     "iopub.status.busy": "2025-07-30T21:29:34.030872Z",
     "iopub.status.idle": "2025-07-30T21:29:34.036180Z",
     "shell.execute_reply": "2025-07-30T21:29:34.035185Z"
    },
    "papermill": {
     "duration": 0.027775,
     "end_time": "2025-07-30T21:29:34.037601",
     "exception": false,
     "start_time": "2025-07-30T21:29:34.009826",
     "status": "completed"
    },
    "tags": [
     "injected-parameters"
    ]
   },
   "outputs": [],
   "source": [
    "# Parameters\n",
    "universe_id = \"a594f57312006ac6ebcfe07ee98fd7b7\"\n",
    "run_no = \"14\"\n",
    "universe = \"{\\\"cutoff\\\": [\\\"quantile_0.1\\\", \\\"quantile_0.25\\\"], \\\"eval_fairness_grouping\\\": [\\\"majority-minority\\\", \\\"nationality-all\\\"], \\\"exclude_features\\\": \\\"sex\\\", \\\"exclude_subgroups\\\": \\\"drop-non-german\\\", \\\"model\\\": \\\"rf\\\", \\\"scale\\\": \\\"do-not-scale\\\", \\\"training_size\\\": \\\"1k\\\", \\\"training_year\\\": \\\"2014\\\"}\"\n",
    "output_dir = \"output\"\n",
    "seed = \"2023\"\n"
   ]
  },
  {
   "cell_type": "code",
   "execution_count": 5,
   "id": "1650acaf",
   "metadata": {
    "execution": {
     "iopub.execute_input": "2025-07-30T21:29:34.078882Z",
     "iopub.status.busy": "2025-07-30T21:29:34.077971Z",
     "iopub.status.idle": "2025-07-30T21:29:34.083190Z",
     "shell.execute_reply": "2025-07-30T21:29:34.082208Z"
    },
    "papermill": {
     "duration": 0.027533,
     "end_time": "2025-07-30T21:29:34.084776",
     "exception": false,
     "start_time": "2025-07-30T21:29:34.057243",
     "status": "completed"
    },
    "tags": []
   },
   "outputs": [],
   "source": [
    "import json\n",
    "# Parse universe into dict if it is passed as a string\n",
    "if isinstance(universe, str):\n",
    "    universe = json.loads(universe)"
   ]
  },
  {
   "cell_type": "code",
   "execution_count": 6,
   "id": "16620c48",
   "metadata": {
    "execution": {
     "iopub.execute_input": "2025-07-30T21:29:34.126251Z",
     "iopub.status.busy": "2025-07-30T21:29:34.125607Z",
     "iopub.status.idle": "2025-07-30T21:29:34.167411Z",
     "shell.execute_reply": "2025-07-30T21:29:34.166432Z"
    },
    "papermill": {
     "duration": 0.065064,
     "end_time": "2025-07-30T21:29:34.169517",
     "exception": false,
     "start_time": "2025-07-30T21:29:34.104453",
     "status": "completed"
    },
    "tags": []
   },
   "outputs": [],
   "source": [
    "# Auto-reload the custom package\n",
    "%load_ext autoreload\n",
    "%autoreload 1\n",
    "%aimport fairness_multiverse"
   ]
  },
  {
   "cell_type": "code",
   "execution_count": 7,
   "id": "01c5c9f3",
   "metadata": {
    "execution": {
     "iopub.execute_input": "2025-07-30T21:29:34.212069Z",
     "iopub.status.busy": "2025-07-30T21:29:34.211245Z",
     "iopub.status.idle": "2025-07-30T21:29:35.985338Z",
     "shell.execute_reply": "2025-07-30T21:29:35.984556Z"
    },
    "papermill": {
     "duration": 1.796198,
     "end_time": "2025-07-30T21:29:35.986795",
     "exception": false,
     "start_time": "2025-07-30T21:29:34.190597",
     "status": "completed"
    },
    "tags": []
   },
   "outputs": [],
   "source": [
    "from fairness_multiverse.universe import UniverseAnalysis\n",
    "\n",
    "universe_analysis = UniverseAnalysis(\n",
    "    run_no = run_no,\n",
    "    universe_id = universe_id,\n",
    "    universe = universe,\n",
    "    output_dir=output_dir,\n",
    ")"
   ]
  },
  {
   "cell_type": "code",
   "execution_count": 8,
   "id": "106241f5",
   "metadata": {
    "execution": {
     "iopub.execute_input": "2025-07-30T21:29:36.010482Z",
     "iopub.status.busy": "2025-07-30T21:29:36.009964Z",
     "iopub.status.idle": "2025-07-30T21:29:36.015956Z",
     "shell.execute_reply": "2025-07-30T21:29:36.015197Z"
    },
    "papermill": {
     "duration": 0.019312,
     "end_time": "2025-07-30T21:29:36.017396",
     "exception": false,
     "start_time": "2025-07-30T21:29:35.998084",
     "status": "completed"
    },
    "tags": []
   },
   "outputs": [
    {
     "name": "stdout",
     "output_type": "stream",
     "text": [
      "Using Seed: 2023\n"
     ]
    }
   ],
   "source": [
    "import numpy as np\n",
    "parsed_seed = int(seed)\n",
    "np.random.seed(parsed_seed)\n",
    "print(f\"Using Seed: {parsed_seed}\")"
   ]
  },
  {
   "cell_type": "markdown",
   "id": "e0ebdc57",
   "metadata": {
    "papermill": {
     "duration": 0.01079,
     "end_time": "2025-07-30T21:29:36.039532",
     "exception": false,
     "start_time": "2025-07-30T21:29:36.028742",
     "status": "completed"
    },
    "tags": []
   },
   "source": [
    "# Loading Data"
   ]
  },
  {
   "cell_type": "markdown",
   "id": "681925a3",
   "metadata": {
    "papermill": {
     "duration": 0.010216,
     "end_time": "2025-07-30T21:29:36.060234",
     "exception": false,
     "start_time": "2025-07-30T21:29:36.050018",
     "status": "completed"
    },
    "tags": []
   },
   "source": [
    "Load siab_train, siab_test, siab_calib and/or \n",
    "load siab_train_features, siab_train_labels"
   ]
  },
  {
   "cell_type": "code",
   "execution_count": 9,
   "id": "f0496b8a",
   "metadata": {
    "execution": {
     "iopub.execute_input": "2025-07-30T21:29:36.082161Z",
     "iopub.status.busy": "2025-07-30T21:29:36.081875Z",
     "iopub.status.idle": "2025-07-30T21:29:47.062461Z",
     "shell.execute_reply": "2025-07-30T21:29:47.061261Z"
    },
    "papermill": {
     "duration": 10.99337,
     "end_time": "2025-07-30T21:29:47.063849",
     "exception": false,
     "start_time": "2025-07-30T21:29:36.070479",
     "status": "completed"
    },
    "tags": []
   },
   "outputs": [
    {
     "name": "stdout",
     "output_type": "stream",
     "text": [
      "Loading SIAB data from cache: data/siab_cached.csv.gz\n"
     ]
    },
    {
     "name": "stdout",
     "output_type": "stream",
     "text": [
      "(643690, 164)\n"
     ]
    }
   ],
   "source": [
    "from pathlib import Path\n",
    "import pandas as pd\n",
    "\n",
    "# File paths\n",
    "raw_file = Path(\"data/raw/siab.csv\")\n",
    "cache_file = Path(\"data/siab_cached.csv.gz\")\n",
    "\n",
    "# Ensure cache directory exists\n",
    "cache_file.parent.mkdir(parents=True, exist_ok=True)\n",
    "\n",
    "# Load with simple caching\n",
    "if cache_file.exists():\n",
    "    print(f\"Loading SIAB data from cache: {cache_file}\")\n",
    "    siab = pd.read_csv(cache_file, compression='gzip')\n",
    "else:\n",
    "    print(f\"Cache not found. Reading raw SIAB data: {raw_file}\")\n",
    "    siab = pd.read_csv(raw_file)\n",
    "    siab.to_csv(cache_file, index=False, compression='gzip')\n",
    "    print(f\"Cached SIAB data to: {cache_file}\")\n",
    "\n",
    "# Now use `siab` DataFrame as needed\n",
    "print(siab.shape)"
   ]
  },
  {
   "cell_type": "code",
   "execution_count": 10,
   "id": "db0ca512-5f53-4dba-abdb-a2888bca41ba",
   "metadata": {
    "execution": {
     "iopub.execute_input": "2025-07-30T21:29:47.122114Z",
     "iopub.status.busy": "2025-07-30T21:29:47.121660Z",
     "iopub.status.idle": "2025-07-30T21:29:47.127989Z",
     "shell.execute_reply": "2025-07-30T21:29:47.127118Z"
    },
    "papermill": {
     "duration": 0.032316,
     "end_time": "2025-07-30T21:29:47.130353",
     "exception": false,
     "start_time": "2025-07-30T21:29:47.098037",
     "status": "completed"
    },
    "tags": []
   },
   "outputs": [],
   "source": [
    "#siab"
   ]
  },
  {
   "cell_type": "code",
   "execution_count": 11,
   "id": "a0edb063",
   "metadata": {
    "execution": {
     "iopub.execute_input": "2025-07-30T21:29:47.187849Z",
     "iopub.status.busy": "2025-07-30T21:29:47.187410Z",
     "iopub.status.idle": "2025-07-30T21:29:47.193139Z",
     "shell.execute_reply": "2025-07-30T21:29:47.191829Z"
    },
    "papermill": {
     "duration": 0.042792,
     "end_time": "2025-07-30T21:29:47.199252",
     "exception": false,
     "start_time": "2025-07-30T21:29:47.156460",
     "status": "completed"
    },
    "tags": []
   },
   "outputs": [],
   "source": [
    "#import pandas as pd\n",
    "#\n",
    "#X_train = pd.read_csv(\"./data/X_train.csv\")\n",
    "#y_train = pd.read_csv(\"./data/y_train.csv\")"
   ]
  },
  {
   "cell_type": "code",
   "execution_count": 12,
   "id": "63d08085",
   "metadata": {
    "execution": {
     "iopub.execute_input": "2025-07-30T21:29:47.282474Z",
     "iopub.status.busy": "2025-07-30T21:29:47.281820Z",
     "iopub.status.idle": "2025-07-30T21:29:47.288672Z",
     "shell.execute_reply": "2025-07-30T21:29:47.287249Z"
    },
    "papermill": {
     "duration": 0.041552,
     "end_time": "2025-07-30T21:29:47.291456",
     "exception": false,
     "start_time": "2025-07-30T21:29:47.249904",
     "status": "completed"
    },
    "tags": []
   },
   "outputs": [],
   "source": [
    "#X_test = pd.read_csv(\"./data/X_test.csv\")\n",
    "#y_true = pd.read_csv(\"./data/y_test.csv\")"
   ]
  },
  {
   "cell_type": "code",
   "execution_count": 13,
   "id": "98a8d0fa-1d3d-4ed8-bb2c-281470e24add",
   "metadata": {
    "execution": {
     "iopub.execute_input": "2025-07-30T21:29:47.344621Z",
     "iopub.status.busy": "2025-07-30T21:29:47.344110Z",
     "iopub.status.idle": "2025-07-30T21:29:47.350174Z",
     "shell.execute_reply": "2025-07-30T21:29:47.348924Z"
    },
    "papermill": {
     "duration": 0.031444,
     "end_time": "2025-07-30T21:29:47.352309",
     "exception": false,
     "start_time": "2025-07-30T21:29:47.320865",
     "status": "completed"
    },
    "tags": []
   },
   "outputs": [],
   "source": [
    "# Calibration data for conformal\n",
    "#X_calib = pd.read_csv(\"./data/X_calib.csv\")\n",
    "#y_calib = pd.read_csv(\"./data/y_calib.csv\")"
   ]
  },
  {
   "cell_type": "markdown",
   "id": "997051c5-15bd-4b69-9786-c3001a3ce484",
   "metadata": {
    "papermill": {
     "duration": 0.022537,
     "end_time": "2025-07-30T21:29:47.399623",
     "exception": false,
     "start_time": "2025-07-30T21:29:47.377086",
     "status": "completed"
    },
    "tags": []
   },
   "source": [
    "# Splitting Data and Setting Training Data Size"
   ]
  },
  {
   "cell_type": "code",
   "execution_count": 14,
   "id": "e993b61f-042d-41a6-8c81-f55681f86335",
   "metadata": {
    "execution": {
     "iopub.execute_input": "2025-07-30T21:29:47.471865Z",
     "iopub.status.busy": "2025-07-30T21:29:47.471464Z",
     "iopub.status.idle": "2025-07-30T21:29:47.485926Z",
     "shell.execute_reply": "2025-07-30T21:29:47.484796Z"
    },
    "papermill": {
     "duration": 0.039137,
     "end_time": "2025-07-30T21:29:47.487728",
     "exception": false,
     "start_time": "2025-07-30T21:29:47.448591",
     "status": "completed"
    },
    "tags": []
   },
   "outputs": [],
   "source": [
    "def sample_by_year_size(df,\n",
    "                        training_year: str,\n",
    "                        training_size: str,\n",
    "                        random_state: int = 42):\n",
    "    # --- parse training_year into a list of int years ---\n",
    "    if \"_\" in training_year:\n",
    "        start_str, end_str = training_year.split(\"_\", 1)\n",
    "        start = int(start_str)\n",
    "        end   = int(end_str) if len(end_str) == 4 else (int(end_str) + (start // 100)*100)\n",
    "        years = list(range(start, end + 1))\n",
    "    else:\n",
    "        years = [int(training_year)]\n",
    "\n",
    "    df = df[df[\"year\"].isin(years)].reset_index(drop=True)\n",
    "\n",
    "    # --- map training_size to total number of samples ---\n",
    "    total_map = {\"25k\": 25_000, \"5k\": 5_000, \"1k\": 1_000}\n",
    "    if training_size not in total_map:\n",
    "        return df  # e.g. \"all\"\n",
    "\n",
    "    total_samples = total_map[training_size]\n",
    "    n_years       = len(years)\n",
    "    base          = total_samples // n_years\n",
    "    remainder     = total_samples % n_years\n",
    "\n",
    "    # --- build a dict: year -> how many to sample ---\n",
    "    # give +1 to the first `remainder` years in ascending order\n",
    "    quotas = {\n",
    "        year: base + (1 if idx < remainder else 0)\n",
    "        for idx, year in enumerate(sorted(years))\n",
    "    }\n",
    "\n",
    "    # --- sample per‐year according to the quota dict ---\n",
    "    sampled = (\n",
    "        df\n",
    "        .groupby(\"year\", group_keys=False)\n",
    "        .apply(lambda grp: grp.sample(\n",
    "            n=min(len(grp), quotas[grp.name]),\n",
    "            random_state=random_state))\n",
    "        .reset_index(drop=True)\n",
    "    )\n",
    "\n",
    "    return sampled"
   ]
  },
  {
   "cell_type": "code",
   "execution_count": 15,
   "id": "c0ccd338-0e02-41f3-a09d-f56f9266e3fb",
   "metadata": {
    "execution": {
     "iopub.execute_input": "2025-07-30T21:29:47.533828Z",
     "iopub.status.busy": "2025-07-30T21:29:47.533251Z",
     "iopub.status.idle": "2025-07-30T21:29:47.538665Z",
     "shell.execute_reply": "2025-07-30T21:29:47.537677Z"
    },
    "papermill": {
     "duration": 0.029509,
     "end_time": "2025-07-30T21:29:47.540479",
     "exception": false,
     "start_time": "2025-07-30T21:29:47.510970",
     "status": "completed"
    },
    "tags": []
   },
   "outputs": [],
   "source": [
    "#universe[\"training_size\"]"
   ]
  },
  {
   "cell_type": "code",
   "execution_count": 16,
   "id": "ca707fd7-8047-4acd-bfa5-66248fbbf8e6",
   "metadata": {
    "execution": {
     "iopub.execute_input": "2025-07-30T21:29:47.584927Z",
     "iopub.status.busy": "2025-07-30T21:29:47.584241Z",
     "iopub.status.idle": "2025-07-30T21:29:47.589559Z",
     "shell.execute_reply": "2025-07-30T21:29:47.588543Z"
    },
    "papermill": {
     "duration": 0.029161,
     "end_time": "2025-07-30T21:29:47.591344",
     "exception": false,
     "start_time": "2025-07-30T21:29:47.562183",
     "status": "completed"
    },
    "tags": []
   },
   "outputs": [],
   "source": [
    "#universe[\"training_year\"]"
   ]
  },
  {
   "cell_type": "code",
   "execution_count": 17,
   "id": "aea9c6ef-6f46-42c8-85eb-5a62025c1508",
   "metadata": {
    "execution": {
     "iopub.execute_input": "2025-07-30T21:29:47.635965Z",
     "iopub.status.busy": "2025-07-30T21:29:47.635572Z",
     "iopub.status.idle": "2025-07-30T21:29:47.816391Z",
     "shell.execute_reply": "2025-07-30T21:29:47.809879Z"
    },
    "papermill": {
     "duration": 0.204371,
     "end_time": "2025-07-30T21:29:47.818432",
     "exception": false,
     "start_time": "2025-07-30T21:29:47.614061",
     "status": "completed"
    },
    "tags": []
   },
   "outputs": [],
   "source": [
    "siab_train = sample_by_year_size(siab,\n",
    "                               training_year=universe[\"training_year\"],\n",
    "                               training_size=universe[\"training_size\"])"
   ]
  },
  {
   "cell_type": "code",
   "execution_count": 18,
   "id": "8d3afb32-789d-442c-8d5d-9f5aa8dd2eed",
   "metadata": {
    "execution": {
     "iopub.execute_input": "2025-07-30T21:29:47.892584Z",
     "iopub.status.busy": "2025-07-30T21:29:47.891824Z",
     "iopub.status.idle": "2025-07-30T21:29:47.897695Z",
     "shell.execute_reply": "2025-07-30T21:29:47.896564Z"
    },
    "papermill": {
     "duration": 0.037771,
     "end_time": "2025-07-30T21:29:47.899576",
     "exception": false,
     "start_time": "2025-07-30T21:29:47.861805",
     "status": "completed"
    },
    "tags": []
   },
   "outputs": [],
   "source": [
    "#siab_train.shape"
   ]
  },
  {
   "cell_type": "code",
   "execution_count": 19,
   "id": "d582db68-1a4c-47fb-84fc-08518dc1975a",
   "metadata": {
    "execution": {
     "iopub.execute_input": "2025-07-30T21:29:47.940716Z",
     "iopub.status.busy": "2025-07-30T21:29:47.940259Z",
     "iopub.status.idle": "2025-07-30T21:29:47.945877Z",
     "shell.execute_reply": "2025-07-30T21:29:47.944846Z"
    },
    "papermill": {
     "duration": 0.031455,
     "end_time": "2025-07-30T21:29:47.951103",
     "exception": false,
     "start_time": "2025-07-30T21:29:47.919648",
     "status": "completed"
    },
    "tags": []
   },
   "outputs": [],
   "source": [
    "#display(siab_train.groupby(\"year\").size())"
   ]
  },
  {
   "cell_type": "code",
   "execution_count": 20,
   "id": "a561edb4-d032-42cb-8256-22eac1111c64",
   "metadata": {
    "execution": {
     "iopub.execute_input": "2025-07-30T21:29:47.997438Z",
     "iopub.status.busy": "2025-07-30T21:29:47.997020Z",
     "iopub.status.idle": "2025-07-30T21:29:48.221531Z",
     "shell.execute_reply": "2025-07-30T21:29:48.220590Z"
    },
    "papermill": {
     "duration": 0.249234,
     "end_time": "2025-07-30T21:29:48.223559",
     "exception": false,
     "start_time": "2025-07-30T21:29:47.974325",
     "status": "completed"
    },
    "tags": []
   },
   "outputs": [],
   "source": [
    "#siab_train = siab_s[siab_s.year < 2015]\n",
    "siab_calib = siab[siab.year == 2015]\n",
    "siab_test = siab[siab.year == 2016]"
   ]
  },
  {
   "cell_type": "code",
   "execution_count": 21,
   "id": "472de16f-c3db-4916-846b-1f0de9cf1746",
   "metadata": {
    "execution": {
     "iopub.execute_input": "2025-07-30T21:29:48.272576Z",
     "iopub.status.busy": "2025-07-30T21:29:48.272198Z",
     "iopub.status.idle": "2025-07-30T21:29:48.279343Z",
     "shell.execute_reply": "2025-07-30T21:29:48.278093Z"
    },
    "papermill": {
     "duration": 0.03569,
     "end_time": "2025-07-30T21:29:48.281808",
     "exception": false,
     "start_time": "2025-07-30T21:29:48.246118",
     "status": "completed"
    },
    "tags": []
   },
   "outputs": [],
   "source": [
    "X_train = siab_train.iloc[:,4:164]\n",
    "y_train = siab_train.iloc[:, [3]]"
   ]
  },
  {
   "cell_type": "code",
   "execution_count": 22,
   "id": "828c96af-f43a-4ed6-ba47-8ac73a47d56c",
   "metadata": {
    "execution": {
     "iopub.execute_input": "2025-07-30T21:29:48.329077Z",
     "iopub.status.busy": "2025-07-30T21:29:48.328660Z",
     "iopub.status.idle": "2025-07-30T21:29:48.382329Z",
     "shell.execute_reply": "2025-07-30T21:29:48.380744Z"
    },
    "papermill": {
     "duration": 0.078564,
     "end_time": "2025-07-30T21:29:48.384228",
     "exception": false,
     "start_time": "2025-07-30T21:29:48.305664",
     "status": "completed"
    },
    "tags": []
   },
   "outputs": [],
   "source": [
    "X_calib = siab_calib.iloc[:,4:164]\n",
    "y_calib = siab_calib.iloc[:, [3]]"
   ]
  },
  {
   "cell_type": "code",
   "execution_count": 23,
   "id": "c34be9c3-6bd6-476e-acd3-845840e303be",
   "metadata": {
    "execution": {
     "iopub.execute_input": "2025-07-30T21:29:48.420953Z",
     "iopub.status.busy": "2025-07-30T21:29:48.420319Z",
     "iopub.status.idle": "2025-07-30T21:29:48.474189Z",
     "shell.execute_reply": "2025-07-30T21:29:48.473000Z"
    },
    "papermill": {
     "duration": 0.075365,
     "end_time": "2025-07-30T21:29:48.475839",
     "exception": false,
     "start_time": "2025-07-30T21:29:48.400474",
     "status": "completed"
    },
    "tags": []
   },
   "outputs": [],
   "source": [
    "X_test = siab_test.iloc[:,4:164]\n",
    "y_true = siab_test.iloc[:, [3]]"
   ]
  },
  {
   "cell_type": "markdown",
   "id": "9901737e-04df-44f0-9100-f5ad144ed040",
   "metadata": {
    "papermill": {
     "duration": 0.021702,
     "end_time": "2025-07-30T21:29:48.520226",
     "exception": false,
     "start_time": "2025-07-30T21:29:48.498524",
     "status": "completed"
    },
    "tags": []
   },
   "source": [
    "# Splitting Data and Setting Training Data Size OLD VERSION"
   ]
  },
  {
   "cell_type": "code",
   "execution_count": 24,
   "id": "acbc8f7d-8fc8-4e86-8c59-5dcb0f58384b",
   "metadata": {
    "execution": {
     "iopub.execute_input": "2025-07-30T21:29:48.561139Z",
     "iopub.status.busy": "2025-07-30T21:29:48.560641Z",
     "iopub.status.idle": "2025-07-30T21:29:48.566126Z",
     "shell.execute_reply": "2025-07-30T21:29:48.565202Z"
    },
    "papermill": {
     "duration": 0.02986,
     "end_time": "2025-07-30T21:29:48.567989",
     "exception": false,
     "start_time": "2025-07-30T21:29:48.538129",
     "status": "completed"
    },
    "tags": []
   },
   "outputs": [],
   "source": [
    "#def sample_by_year(df, training_size, random_state=42):\n",
    "#    if training_size == \"2014\":\n",
    "#        return df[df[\"year\"] == 2014].reset_index(drop=True)\n",
    "#    \n",
    "#    size_map = {\n",
    "#        \"25k\": 5000,\n",
    "#        \"5k\": 1000,\n",
    "#        \"1k\": 200\n",
    "#    }\n",
    "#\n",
    "#    if training_size not in size_map:\n",
    "#        return df.reset_index(drop=True)  # use all data\n",
    "#\n",
    "#    n_per_year = size_map[training_size]\n",
    "#    grouped = df.groupby(\"year\")\n",
    "#    sampled = grouped.apply(lambda x: x.sample(n=min(n_per_year, len(x)), random_state=random_state))\n",
    "#    return sampled.reset_index(drop=True)"
   ]
  },
  {
   "cell_type": "code",
   "execution_count": 25,
   "id": "6d931f52-beaf-43ff-9e78-9d44a448d54e",
   "metadata": {
    "execution": {
     "iopub.execute_input": "2025-07-30T21:29:48.598685Z",
     "iopub.status.busy": "2025-07-30T21:29:48.598335Z",
     "iopub.status.idle": "2025-07-30T21:29:48.602780Z",
     "shell.execute_reply": "2025-07-30T21:29:48.602089Z"
    },
    "papermill": {
     "duration": 0.019401,
     "end_time": "2025-07-30T21:29:48.604072",
     "exception": false,
     "start_time": "2025-07-30T21:29:48.584671",
     "status": "completed"
    },
    "tags": []
   },
   "outputs": [],
   "source": [
    "#siab_s = sample_by_year(siab, universe[\"training_size\"])"
   ]
  },
  {
   "cell_type": "code",
   "execution_count": 26,
   "id": "5db0a40e-a4e2-4920-be85-b12ae061d70d",
   "metadata": {
    "execution": {
     "iopub.execute_input": "2025-07-30T21:29:48.635762Z",
     "iopub.status.busy": "2025-07-30T21:29:48.634699Z",
     "iopub.status.idle": "2025-07-30T21:29:48.640154Z",
     "shell.execute_reply": "2025-07-30T21:29:48.639148Z"
    },
    "papermill": {
     "duration": 0.024429,
     "end_time": "2025-07-30T21:29:48.642060",
     "exception": false,
     "start_time": "2025-07-30T21:29:48.617631",
     "status": "completed"
    },
    "tags": []
   },
   "outputs": [],
   "source": [
    "#display(siab_s.groupby(\"year\").size())"
   ]
  },
  {
   "cell_type": "code",
   "execution_count": 27,
   "id": "e6c733c5",
   "metadata": {
    "execution": {
     "iopub.execute_input": "2025-07-30T21:29:48.691657Z",
     "iopub.status.busy": "2025-07-30T21:29:48.691183Z",
     "iopub.status.idle": "2025-07-30T21:29:48.817200Z",
     "shell.execute_reply": "2025-07-30T21:29:48.816106Z"
    },
    "papermill": {
     "duration": 0.14946,
     "end_time": "2025-07-30T21:29:48.819016",
     "exception": false,
     "start_time": "2025-07-30T21:29:48.669556",
     "status": "completed"
    },
    "tags": []
   },
   "outputs": [],
   "source": [
    "# Auxiliary data needed downstream in the pipeline\n",
    "\n",
    "org_train = X_train.copy()\n",
    "org_test = X_test.copy()\n",
    "org_calib = X_calib.copy()"
   ]
  },
  {
   "cell_type": "code",
   "execution_count": 28,
   "id": "1466abac-c6da-4492-a62f-4240ae3783af",
   "metadata": {
    "execution": {
     "iopub.execute_input": "2025-07-30T21:29:48.858175Z",
     "iopub.status.busy": "2025-07-30T21:29:48.857672Z",
     "iopub.status.idle": "2025-07-30T21:29:48.864140Z",
     "shell.execute_reply": "2025-07-30T21:29:48.862945Z"
    },
    "papermill": {
     "duration": 0.027157,
     "end_time": "2025-07-30T21:29:48.866267",
     "exception": false,
     "start_time": "2025-07-30T21:29:48.839110",
     "status": "completed"
    },
    "tags": []
   },
   "outputs": [],
   "source": [
    "# put in other script?\n",
    "# Group sizes\n",
    "\n",
    "#def calculate_percentages(df, df_name):\n",
    "#    total_entries = len(df)\n",
    "#\n",
    "#    female_pct = (df['frau1'] == 1).mean() * 100\n",
    "#    non_german_pct = ((df['maxdeutsch1'] == 0) & (df['maxdeutsch.Missing.'] == 0)).mean() * 100\n",
    "#    non_german_male_pct = ((df['frau1'] == 0) & (df['maxdeutsch1'] == 0) & (df['maxdeutsch.Missing.'] == 0)).mean() * 100\n",
    "#    non_german_female_pct = ((df['frau1'] == 1) & (df['maxdeutsch1'] == 0) & (df['maxdeutsch.Missing.'] == 0)).mean() * 100\n",
    "#\n",
    "#    print(f\"--- {df_name} ---\")\n",
    "#    print(f\"Female: {female_pct:.2f}%\")\n",
    "#    print(f\"Non-German: {non_german_pct:.2f}%\")\n",
    "#    print(f\"Non-German Male: {non_german_male_pct:.2f}%\")\n",
    "#    print(f\"Non-German Female: {non_german_female_pct:.2f}%\\n\")\n",
    "#\n",
    "## Calculate for each DataFrame\n",
    "#calculate_percentages(siab_calib, \"siab_calib\")\n",
    "#calculate_percentages(siab_test, \"siab_test\")\n",
    "#calculate_percentages(siab_train, \"siab_train\")"
   ]
  },
  {
   "cell_type": "markdown",
   "id": "0a4a1b33",
   "metadata": {
    "papermill": {
     "duration": 0.021709,
     "end_time": "2025-07-30T21:29:48.910735",
     "exception": false,
     "start_time": "2025-07-30T21:29:48.889026",
     "status": "completed"
    },
    "tags": []
   },
   "source": [
    "# Preprocessing Data"
   ]
  },
  {
   "cell_type": "code",
   "execution_count": 29,
   "id": "ca879031",
   "metadata": {
    "execution": {
     "iopub.execute_input": "2025-07-30T21:29:48.957370Z",
     "iopub.status.busy": "2025-07-30T21:29:48.956458Z",
     "iopub.status.idle": "2025-07-30T21:29:48.962984Z",
     "shell.execute_reply": "2025-07-30T21:29:48.962035Z"
    },
    "papermill": {
     "duration": 0.033611,
     "end_time": "2025-07-30T21:29:48.966346",
     "exception": false,
     "start_time": "2025-07-30T21:29:48.932735",
     "status": "completed"
    },
    "tags": []
   },
   "outputs": [],
   "source": [
    "# EXCLUDE PROTECTED FEATURES\n",
    "# ----------------------\n",
    "# \"exclude_features\": \"none\", # \"nationality\", \"sex\", \"nationality-sex\"\n",
    "\n",
    "excluded_features = universe[\"exclude_features\"].split(\"-\") # split, e.g.: \"nationality-sex\" -> [\"nationality\", \"sex\"]\n",
    "excluded_features_dictionary = {\n",
    "    \"nationality\": [\"maxdeutsch1\", \"maxdeutsch.Missing.\"],\n",
    "    \"sex\": [\"frau1\"],\n",
    "    \"age\": [\"age\"],\n",
    "}\n"
   ]
  },
  {
   "cell_type": "code",
   "execution_count": 30,
   "id": "b745ac60",
   "metadata": {
    "execution": {
     "iopub.execute_input": "2025-07-30T21:29:49.021441Z",
     "iopub.status.busy": "2025-07-30T21:29:49.020649Z",
     "iopub.status.idle": "2025-07-30T21:29:49.028947Z",
     "shell.execute_reply": "2025-07-30T21:29:49.025856Z"
    },
    "papermill": {
     "duration": 0.043779,
     "end_time": "2025-07-30T21:29:49.033522",
     "exception": false,
     "start_time": "2025-07-30T21:29:48.989743",
     "status": "completed"
    },
    "tags": []
   },
   "outputs": [],
   "source": [
    "# Code nice names to column names\n",
    "\n",
    "excluded_features_columns = [\n",
    "    excluded_features_dictionary[f] for f in excluded_features if len(f) > 0 and f != \"none\"\n",
    "]"
   ]
  },
  {
   "cell_type": "code",
   "execution_count": 31,
   "id": "f84f73a2",
   "metadata": {
    "execution": {
     "iopub.execute_input": "2025-07-30T21:29:49.114977Z",
     "iopub.status.busy": "2025-07-30T21:29:49.114479Z",
     "iopub.status.idle": "2025-07-30T21:29:49.124170Z",
     "shell.execute_reply": "2025-07-30T21:29:49.120441Z"
    },
    "papermill": {
     "duration": 0.069699,
     "end_time": "2025-07-30T21:29:49.125796",
     "exception": false,
     "start_time": "2025-07-30T21:29:49.056097",
     "status": "completed"
    },
    "tags": []
   },
   "outputs": [],
   "source": [
    "from utils import flatten_once\n",
    "\n",
    "excluded_features_columns = flatten_once(excluded_features_columns)"
   ]
  },
  {
   "cell_type": "code",
   "execution_count": 32,
   "id": "884dea22",
   "metadata": {
    "execution": {
     "iopub.execute_input": "2025-07-30T21:29:49.256563Z",
     "iopub.status.busy": "2025-07-30T21:29:49.255617Z",
     "iopub.status.idle": "2025-07-30T21:29:49.264713Z",
     "shell.execute_reply": "2025-07-30T21:29:49.263782Z"
    },
    "papermill": {
     "duration": 0.06562,
     "end_time": "2025-07-30T21:29:49.266478",
     "exception": false,
     "start_time": "2025-07-30T21:29:49.200858",
     "status": "completed"
    },
    "tags": []
   },
   "outputs": [
    {
     "name": "stdout",
     "output_type": "stream",
     "text": [
      "Dropping features: ['frau1']\n"
     ]
    }
   ],
   "source": [
    "if len(excluded_features_columns) > 0:\n",
    "    print(f\"Dropping features: {excluded_features_columns}\")\n",
    "    X_train.drop(excluded_features_columns, axis=1, inplace=True)"
   ]
  },
  {
   "cell_type": "code",
   "execution_count": 33,
   "id": "95ab8b16",
   "metadata": {
    "execution": {
     "iopub.execute_input": "2025-07-30T21:29:49.312843Z",
     "iopub.status.busy": "2025-07-30T21:29:49.312407Z",
     "iopub.status.idle": "2025-07-30T21:29:49.384208Z",
     "shell.execute_reply": "2025-07-30T21:29:49.383216Z"
    },
    "papermill": {
     "duration": 0.097324,
     "end_time": "2025-07-30T21:29:49.385753",
     "exception": false,
     "start_time": "2025-07-30T21:29:49.288429",
     "status": "completed"
    },
    "tags": []
   },
   "outputs": [
    {
     "name": "stdout",
     "output_type": "stream",
     "text": [
      "Dropping features: ['frau1']\n"
     ]
    }
   ],
   "source": [
    "if len(excluded_features_columns) > 0:\n",
    "    print(f\"Dropping features: {excluded_features_columns}\")\n",
    "    X_test.drop(excluded_features_columns, axis=1, inplace=True)"
   ]
  },
  {
   "cell_type": "code",
   "execution_count": 34,
   "id": "1853aaf5-fb9f-46cb-a2b5-8ea4ae2237e4",
   "metadata": {
    "execution": {
     "iopub.execute_input": "2025-07-30T21:29:49.420132Z",
     "iopub.status.busy": "2025-07-30T21:29:49.419729Z",
     "iopub.status.idle": "2025-07-30T21:29:49.481209Z",
     "shell.execute_reply": "2025-07-30T21:29:49.480139Z"
    },
    "papermill": {
     "duration": 0.079396,
     "end_time": "2025-07-30T21:29:49.483193",
     "exception": false,
     "start_time": "2025-07-30T21:29:49.403797",
     "status": "completed"
    },
    "tags": []
   },
   "outputs": [
    {
     "name": "stdout",
     "output_type": "stream",
     "text": [
      "Dropping features: ['frau1']\n"
     ]
    }
   ],
   "source": [
    "if len(excluded_features_columns) > 0:\n",
    "    print(f\"Dropping features: {excluded_features_columns}\")\n",
    "    X_calib.drop(excluded_features_columns, axis=1, inplace=True)"
   ]
  },
  {
   "cell_type": "code",
   "execution_count": 35,
   "id": "6727d079-03e5-481e-9d38-292a90b7a0a8",
   "metadata": {
    "execution": {
     "iopub.execute_input": "2025-07-30T21:29:49.532227Z",
     "iopub.status.busy": "2025-07-30T21:29:49.531794Z",
     "iopub.status.idle": "2025-07-30T21:29:49.536876Z",
     "shell.execute_reply": "2025-07-30T21:29:49.535814Z"
    },
    "papermill": {
     "duration": 0.031416,
     "end_time": "2025-07-30T21:29:49.538358",
     "exception": false,
     "start_time": "2025-07-30T21:29:49.506942",
     "status": "completed"
    },
    "tags": []
   },
   "outputs": [],
   "source": [
    "# SPLIT & STRATIFY DATA\n",
    "# ----------------------"
   ]
  },
  {
   "cell_type": "code",
   "execution_count": 36,
   "id": "76c4dc6d",
   "metadata": {
    "execution": {
     "iopub.execute_input": "2025-07-30T21:29:49.613431Z",
     "iopub.status.busy": "2025-07-30T21:29:49.612994Z",
     "iopub.status.idle": "2025-07-30T21:29:49.625843Z",
     "shell.execute_reply": "2025-07-30T21:29:49.624671Z"
    },
    "papermill": {
     "duration": 0.074563,
     "end_time": "2025-07-30T21:29:49.635003",
     "exception": false,
     "start_time": "2025-07-30T21:29:49.560440",
     "status": "completed"
    },
    "tags": []
   },
   "outputs": [],
   "source": [
    "# EXCLUDE CERTAIN SUBGROUPS\n",
    "# ----------------------\n",
    "\n",
    "mode = universe.get(\"exclude_subgroups\", \"keep-all\") \n",
    "# Fetches the exclude_subgroups setting from the universe dict.\n",
    "# Defaults to \"keep-all\" if the key is missing."
   ]
  },
  {
   "cell_type": "code",
   "execution_count": 37,
   "id": "21994072",
   "metadata": {
    "execution": {
     "iopub.execute_input": "2025-07-30T21:29:49.718629Z",
     "iopub.status.busy": "2025-07-30T21:29:49.718145Z",
     "iopub.status.idle": "2025-07-30T21:29:49.728223Z",
     "shell.execute_reply": "2025-07-30T21:29:49.727119Z"
    },
    "papermill": {
     "duration": 0.0695,
     "end_time": "2025-07-30T21:29:49.735967",
     "exception": false,
     "start_time": "2025-07-30T21:29:49.666467",
     "status": "completed"
    },
    "tags": []
   },
   "outputs": [],
   "source": [
    "if mode == \"keep-all\":\n",
    "    keep_mask = pd.Series(True, index=org_train.index)\n",
    "\n",
    "# org_train contains the original feature columns from features_org (in Simson)\n",
    "# features_org contains unprocessed features, for me X_train at beginning ???\n",
    "# For keep-all, creates a boolean Series (keep_mask) of all True, so no rows are removed.\n",
    "\n",
    "elif mode == \"drop-non-german\":\n",
    "    keep_mask = org_train[\"maxdeutsch1\"] == 1 # ??? what about missing values?\n",
    "\n",
    "else:\n",
    "    raise ValueError(f\"Unsupported mode for exclude_subgroups: {mode}\")\n"
   ]
  },
  {
   "cell_type": "code",
   "execution_count": 38,
   "id": "71651440",
   "metadata": {
    "execution": {
     "iopub.execute_input": "2025-07-30T21:29:49.838975Z",
     "iopub.status.busy": "2025-07-30T21:29:49.838543Z",
     "iopub.status.idle": "2025-07-30T21:29:49.848286Z",
     "shell.execute_reply": "2025-07-30T21:29:49.847284Z"
    },
    "papermill": {
     "duration": 0.067566,
     "end_time": "2025-07-30T21:29:49.850098",
     "exception": false,
     "start_time": "2025-07-30T21:29:49.782532",
     "status": "completed"
    },
    "tags": []
   },
   "outputs": [
    {
     "name": "stdout",
     "output_type": "stream",
     "text": [
      "Dropping 147 rows (14.70%) where mode='drop-non-german'\n"
     ]
    }
   ],
   "source": [
    "n_drop = (~keep_mask).sum() # Calculates how many rows are set to be dropped\n",
    "if n_drop > 0:\n",
    "    pct = n_drop / len(keep_mask) * 100\n",
    "    print(f\"Dropping {n_drop} rows ({pct:.2f}%) where mode='{mode}'\")"
   ]
  },
  {
   "cell_type": "code",
   "execution_count": 39,
   "id": "5fb8eee5",
   "metadata": {
    "execution": {
     "iopub.execute_input": "2025-07-30T21:29:49.962467Z",
     "iopub.status.busy": "2025-07-30T21:29:49.962090Z",
     "iopub.status.idle": "2025-07-30T21:29:49.969820Z",
     "shell.execute_reply": "2025-07-30T21:29:49.968845Z"
    },
    "papermill": {
     "duration": 0.072941,
     "end_time": "2025-07-30T21:29:49.971490",
     "exception": false,
     "start_time": "2025-07-30T21:29:49.898549",
     "status": "completed"
    },
    "tags": []
   },
   "outputs": [],
   "source": [
    "X_train = X_train[keep_mask]"
   ]
  },
  {
   "cell_type": "code",
   "execution_count": 40,
   "id": "b202bb3a",
   "metadata": {
    "execution": {
     "iopub.execute_input": "2025-07-30T21:29:50.058224Z",
     "iopub.status.busy": "2025-07-30T21:29:50.057831Z",
     "iopub.status.idle": "2025-07-30T21:29:50.063921Z",
     "shell.execute_reply": "2025-07-30T21:29:50.062955Z"
    },
    "papermill": {
     "duration": 0.05385,
     "end_time": "2025-07-30T21:29:50.065206",
     "exception": false,
     "start_time": "2025-07-30T21:29:50.011356",
     "status": "completed"
    },
    "tags": []
   },
   "outputs": [],
   "source": [
    "y_train = y_train[keep_mask]"
   ]
  },
  {
   "cell_type": "markdown",
   "id": "493e2ac3",
   "metadata": {
    "papermill": {
     "duration": 0.075367,
     "end_time": "2025-07-30T21:29:50.170592",
     "exception": false,
     "start_time": "2025-07-30T21:29:50.095225",
     "status": "completed"
    },
    "tags": []
   },
   "source": [
    "# Model Training"
   ]
  },
  {
   "cell_type": "code",
   "execution_count": 41,
   "id": "679e1268",
   "metadata": {
    "execution": {
     "iopub.execute_input": "2025-07-30T21:29:50.243770Z",
     "iopub.status.busy": "2025-07-30T21:29:50.243351Z",
     "iopub.status.idle": "2025-07-30T21:29:50.432297Z",
     "shell.execute_reply": "2025-07-30T21:29:50.431220Z"
    },
    "papermill": {
     "duration": 0.216388,
     "end_time": "2025-07-30T21:29:50.434243",
     "exception": false,
     "start_time": "2025-07-30T21:29:50.217855",
     "status": "completed"
    },
    "tags": []
   },
   "outputs": [],
   "source": [
    "from sklearn.linear_model import LogisticRegression\n",
    "from sklearn.ensemble import GradientBoostingClassifier, RandomForestClassifier\n",
    "\n",
    "if (universe[\"model\"] == \"logreg\"):\n",
    "    model = LogisticRegression() #penalty=\"none\") #, solver=\"newton-cg\", max_iter=1) # include random_state=19 ?\n",
    "elif (universe[\"model\"] == \"penalized_logreg\"):\n",
    "    model = LogisticRegression(penalty=\"l2\", C=1.0) #, solver=\"newton-cg\", max_iter=1)\n",
    "elif (universe[\"model\"] == \"rf\"):\n",
    "    model = RandomForestClassifier(n_estimators=100, n_jobs=-1)\n",
    "elif (universe[\"model\"] == \"gbm\"):\n",
    "    model = GradientBoostingClassifier()\n",
    "elif (universe[\"model\"] == \"elasticnet\"):\n",
    "    model = LogisticRegression(penalty = 'elasticnet', solver = 'saga', l1_ratio = 0.5, max_iter=5000) # which solver to use?\n",
    "else:\n",
    "    raise \"Unsupported universe.model\""
   ]
  },
  {
   "cell_type": "code",
   "execution_count": 42,
   "id": "0cc8f744",
   "metadata": {
    "execution": {
     "iopub.execute_input": "2025-07-30T21:29:50.530830Z",
     "iopub.status.busy": "2025-07-30T21:29:50.530409Z",
     "iopub.status.idle": "2025-07-30T21:29:50.540283Z",
     "shell.execute_reply": "2025-07-30T21:29:50.539216Z"
    },
    "papermill": {
     "duration": 0.052912,
     "end_time": "2025-07-30T21:29:50.541894",
     "exception": false,
     "start_time": "2025-07-30T21:29:50.488982",
     "status": "completed"
    },
    "tags": []
   },
   "outputs": [],
   "source": [
    "import numpy as np\n",
    "from sklearn.pipeline import Pipeline\n",
    "from sklearn.preprocessing import StandardScaler\n",
    "\n",
    "model = Pipeline([\n",
    "    #(\"continuous_processor\", continuous_processor),\n",
    "    #(\"categorical_preprocessor\", categorical_preprocessor),\n",
    "    (\"scale\", StandardScaler() if universe[\"scale\"] == \"scale\" else None), \n",
    "    (\"model\", model),\n",
    "])"
   ]
  },
  {
   "cell_type": "code",
   "execution_count": 43,
   "id": "9442c04d",
   "metadata": {
    "execution": {
     "iopub.execute_input": "2025-07-30T21:29:50.629932Z",
     "iopub.status.busy": "2025-07-30T21:29:50.629551Z",
     "iopub.status.idle": "2025-07-30T21:29:51.197305Z",
     "shell.execute_reply": "2025-07-30T21:29:51.180086Z"
    },
    "papermill": {
     "duration": 0.614828,
     "end_time": "2025-07-30T21:29:51.199414",
     "exception": false,
     "start_time": "2025-07-30T21:29:50.584586",
     "status": "completed"
    },
    "tags": []
   },
   "outputs": [
    {
     "data": {
      "text/html": [
       "<style>#sk-container-id-1 {color: black;background-color: white;}#sk-container-id-1 pre{padding: 0;}#sk-container-id-1 div.sk-toggleable {background-color: white;}#sk-container-id-1 label.sk-toggleable__label {cursor: pointer;display: block;width: 100%;margin-bottom: 0;padding: 0.3em;box-sizing: border-box;text-align: center;}#sk-container-id-1 label.sk-toggleable__label-arrow:before {content: \"▸\";float: left;margin-right: 0.25em;color: #696969;}#sk-container-id-1 label.sk-toggleable__label-arrow:hover:before {color: black;}#sk-container-id-1 div.sk-estimator:hover label.sk-toggleable__label-arrow:before {color: black;}#sk-container-id-1 div.sk-toggleable__content {max-height: 0;max-width: 0;overflow: hidden;text-align: left;background-color: #f0f8ff;}#sk-container-id-1 div.sk-toggleable__content pre {margin: 0.2em;color: black;border-radius: 0.25em;background-color: #f0f8ff;}#sk-container-id-1 input.sk-toggleable__control:checked~div.sk-toggleable__content {max-height: 200px;max-width: 100%;overflow: auto;}#sk-container-id-1 input.sk-toggleable__control:checked~label.sk-toggleable__label-arrow:before {content: \"▾\";}#sk-container-id-1 div.sk-estimator input.sk-toggleable__control:checked~label.sk-toggleable__label {background-color: #d4ebff;}#sk-container-id-1 div.sk-label input.sk-toggleable__control:checked~label.sk-toggleable__label {background-color: #d4ebff;}#sk-container-id-1 input.sk-hidden--visually {border: 0;clip: rect(1px 1px 1px 1px);clip: rect(1px, 1px, 1px, 1px);height: 1px;margin: -1px;overflow: hidden;padding: 0;position: absolute;width: 1px;}#sk-container-id-1 div.sk-estimator {font-family: monospace;background-color: #f0f8ff;border: 1px dotted black;border-radius: 0.25em;box-sizing: border-box;margin-bottom: 0.5em;}#sk-container-id-1 div.sk-estimator:hover {background-color: #d4ebff;}#sk-container-id-1 div.sk-parallel-item::after {content: \"\";width: 100%;border-bottom: 1px solid gray;flex-grow: 1;}#sk-container-id-1 div.sk-label:hover label.sk-toggleable__label {background-color: #d4ebff;}#sk-container-id-1 div.sk-serial::before {content: \"\";position: absolute;border-left: 1px solid gray;box-sizing: border-box;top: 0;bottom: 0;left: 50%;z-index: 0;}#sk-container-id-1 div.sk-serial {display: flex;flex-direction: column;align-items: center;background-color: white;padding-right: 0.2em;padding-left: 0.2em;position: relative;}#sk-container-id-1 div.sk-item {position: relative;z-index: 1;}#sk-container-id-1 div.sk-parallel {display: flex;align-items: stretch;justify-content: center;background-color: white;position: relative;}#sk-container-id-1 div.sk-item::before, #sk-container-id-1 div.sk-parallel-item::before {content: \"\";position: absolute;border-left: 1px solid gray;box-sizing: border-box;top: 0;bottom: 0;left: 50%;z-index: -1;}#sk-container-id-1 div.sk-parallel-item {display: flex;flex-direction: column;z-index: 1;position: relative;background-color: white;}#sk-container-id-1 div.sk-parallel-item:first-child::after {align-self: flex-end;width: 50%;}#sk-container-id-1 div.sk-parallel-item:last-child::after {align-self: flex-start;width: 50%;}#sk-container-id-1 div.sk-parallel-item:only-child::after {width: 0;}#sk-container-id-1 div.sk-dashed-wrapped {border: 1px dashed gray;margin: 0 0.4em 0.5em 0.4em;box-sizing: border-box;padding-bottom: 0.4em;background-color: white;}#sk-container-id-1 div.sk-label label {font-family: monospace;font-weight: bold;display: inline-block;line-height: 1.2em;}#sk-container-id-1 div.sk-label-container {text-align: center;}#sk-container-id-1 div.sk-container {/* jupyter's `normalize.less` sets `[hidden] { display: none; }` but bootstrap.min.css set `[hidden] { display: none !important; }` so we also need the `!important` here to be able to override the default hidden behavior on the sphinx rendered scikit-learn.org. See: https://github.com/scikit-learn/scikit-learn/issues/21755 */display: inline-block !important;position: relative;}#sk-container-id-1 div.sk-text-repr-fallback {display: none;}</style><div id=\"sk-container-id-1\" class=\"sk-top-container\"><div class=\"sk-text-repr-fallback\"><pre>Pipeline(steps=[(&#x27;scale&#x27;, None), (&#x27;model&#x27;, RandomForestClassifier(n_jobs=-1))])</pre><b>In a Jupyter environment, please rerun this cell to show the HTML representation or trust the notebook. <br />On GitHub, the HTML representation is unable to render, please try loading this page with nbviewer.org.</b></div><div class=\"sk-container\" hidden><div class=\"sk-item sk-dashed-wrapped\"><div class=\"sk-label-container\"><div class=\"sk-label sk-toggleable\"><input class=\"sk-toggleable__control sk-hidden--visually\" id=\"sk-estimator-id-1\" type=\"checkbox\" ><label for=\"sk-estimator-id-1\" class=\"sk-toggleable__label sk-toggleable__label-arrow\">Pipeline</label><div class=\"sk-toggleable__content\"><pre>Pipeline(steps=[(&#x27;scale&#x27;, None), (&#x27;model&#x27;, RandomForestClassifier(n_jobs=-1))])</pre></div></div></div><div class=\"sk-serial\"><div class=\"sk-item\"><div class=\"sk-estimator sk-toggleable\"><input class=\"sk-toggleable__control sk-hidden--visually\" id=\"sk-estimator-id-2\" type=\"checkbox\" ><label for=\"sk-estimator-id-2\" class=\"sk-toggleable__label sk-toggleable__label-arrow\">None</label><div class=\"sk-toggleable__content\"><pre>None</pre></div></div></div><div class=\"sk-item\"><div class=\"sk-estimator sk-toggleable\"><input class=\"sk-toggleable__control sk-hidden--visually\" id=\"sk-estimator-id-3\" type=\"checkbox\" ><label for=\"sk-estimator-id-3\" class=\"sk-toggleable__label sk-toggleable__label-arrow\">RandomForestClassifier</label><div class=\"sk-toggleable__content\"><pre>RandomForestClassifier(n_jobs=-1)</pre></div></div></div></div></div></div></div>"
      ],
      "text/plain": [
       "Pipeline(steps=[('scale', None), ('model', RandomForestClassifier(n_jobs=-1))])"
      ]
     },
     "execution_count": 43,
     "metadata": {},
     "output_type": "execute_result"
    }
   ],
   "source": [
    "model.fit(X_train, y_train.values.ravel())"
   ]
  },
  {
   "cell_type": "code",
   "execution_count": 44,
   "id": "af59f8c0",
   "metadata": {
    "execution": {
     "iopub.execute_input": "2025-07-30T21:29:51.251348Z",
     "iopub.status.busy": "2025-07-30T21:29:51.250934Z",
     "iopub.status.idle": "2025-07-30T21:29:51.257631Z",
     "shell.execute_reply": "2025-07-30T21:29:51.256405Z"
    },
    "papermill": {
     "duration": 0.03659,
     "end_time": "2025-07-30T21:29:51.259742",
     "exception": false,
     "start_time": "2025-07-30T21:29:51.223152",
     "status": "completed"
    },
    "tags": []
   },
   "outputs": [],
   "source": [
    "from fairness_multiverse.universe import predict_w_threshold"
   ]
  },
  {
   "cell_type": "code",
   "execution_count": 45,
   "id": "a7cf2e16",
   "metadata": {
    "execution": {
     "iopub.execute_input": "2025-07-30T21:29:51.362385Z",
     "iopub.status.busy": "2025-07-30T21:29:51.361925Z",
     "iopub.status.idle": "2025-07-30T21:29:52.348386Z",
     "shell.execute_reply": "2025-07-30T21:29:52.343050Z"
    },
    "papermill": {
     "duration": 1.044071,
     "end_time": "2025-07-30T21:29:52.350499",
     "exception": false,
     "start_time": "2025-07-30T21:29:51.306428",
     "status": "completed"
    },
    "tags": []
   },
   "outputs": [
    {
     "data": {
      "text/plain": [
       "0.8582543752090068"
      ]
     },
     "execution_count": 45,
     "metadata": {},
     "output_type": "execute_result"
    }
   ],
   "source": [
    "probs_test = model.predict_proba(X_test)\n",
    "\n",
    "'''\n",
    "Below code returns a boolean array (or binary 0/1 array depending on how it’s used) where each element \n",
    "is True if the probability of class 1 is greater than or equal to the threshold, and False otherwise.\n",
    "'''\n",
    "y_pred_default = predict_w_threshold(probs_test, 0.5)\n",
    "\n",
    "from sklearn.metrics import accuracy_score\n",
    "\n",
    "# Naive prediction\n",
    "accuracy_score(y_true = y_true, y_pred = y_pred_default)"
   ]
  },
  {
   "cell_type": "code",
   "execution_count": 46,
   "id": "081964c3",
   "metadata": {
    "execution": {
     "iopub.execute_input": "2025-07-30T21:29:52.415613Z",
     "iopub.status.busy": "2025-07-30T21:29:52.415119Z",
     "iopub.status.idle": "2025-07-30T21:29:53.281342Z",
     "shell.execute_reply": "2025-07-30T21:29:53.280213Z"
    },
    "papermill": {
     "duration": 0.901193,
     "end_time": "2025-07-30T21:29:53.283305",
     "exception": false,
     "start_time": "2025-07-30T21:29:52.382112",
     "status": "completed"
    },
    "tags": []
   },
   "outputs": [
    {
     "data": {
      "text/plain": [
       "array([0, 0, 0, ..., 0, 0, 0])"
      ]
     },
     "execution_count": 46,
     "metadata": {},
     "output_type": "execute_result"
    }
   ],
   "source": [
    "model.predict(X_test)"
   ]
  },
  {
   "cell_type": "markdown",
   "id": "56c9705b",
   "metadata": {
    "papermill": {
     "duration": 0.026318,
     "end_time": "2025-07-30T21:29:53.336119",
     "exception": false,
     "start_time": "2025-07-30T21:29:53.309801",
     "status": "completed"
    },
    "tags": []
   },
   "source": [
    "# Conformal Prediction"
   ]
  },
  {
   "cell_type": "code",
   "execution_count": 47,
   "id": "160ec6ff",
   "metadata": {
    "execution": {
     "iopub.execute_input": "2025-07-30T21:29:53.391448Z",
     "iopub.status.busy": "2025-07-30T21:29:53.390877Z",
     "iopub.status.idle": "2025-07-30T21:29:53.396619Z",
     "shell.execute_reply": "2025-07-30T21:29:53.395643Z"
    },
    "papermill": {
     "duration": 0.035487,
     "end_time": "2025-07-30T21:29:53.398365",
     "exception": false,
     "start_time": "2025-07-30T21:29:53.362878",
     "status": "completed"
    },
    "tags": []
   },
   "outputs": [],
   "source": [
    "# Miscoverage level for conformal prediction (10% allowed error rate => 90% target coverage)\n",
    "alpha = 0.1"
   ]
  },
  {
   "cell_type": "code",
   "execution_count": 48,
   "id": "eadf4555-3dd3-440e-8e35-f82a4ad9f855",
   "metadata": {
    "execution": {
     "iopub.execute_input": "2025-07-30T21:29:53.454906Z",
     "iopub.status.busy": "2025-07-30T21:29:53.454128Z",
     "iopub.status.idle": "2025-07-30T21:29:54.205203Z",
     "shell.execute_reply": "2025-07-30T21:29:54.203842Z"
    },
    "papermill": {
     "duration": 0.781224,
     "end_time": "2025-07-30T21:29:54.206843",
     "exception": false,
     "start_time": "2025-07-30T21:29:53.425619",
     "status": "completed"
    },
    "tags": []
   },
   "outputs": [],
   "source": [
    "probs_calib = model.predict_proba(X_calib)"
   ]
  },
  {
   "cell_type": "code",
   "execution_count": 49,
   "id": "2ed93547-6d5d-4983-9b36-1ecb300da49a",
   "metadata": {
    "execution": {
     "iopub.execute_input": "2025-07-30T21:29:54.262628Z",
     "iopub.status.busy": "2025-07-30T21:29:54.261949Z",
     "iopub.status.idle": "2025-07-30T21:29:54.269921Z",
     "shell.execute_reply": "2025-07-30T21:29:54.268575Z"
    },
    "papermill": {
     "duration": 0.039295,
     "end_time": "2025-07-30T21:29:54.271955",
     "exception": false,
     "start_time": "2025-07-30T21:29:54.232660",
     "status": "completed"
    },
    "tags": []
   },
   "outputs": [],
   "source": [
    "y_calib = y_calib.values.ravel().astype(int)"
   ]
  },
  {
   "cell_type": "code",
   "execution_count": 50,
   "id": "65d1320d-f588-4b38-9072-62af1ae97f7d",
   "metadata": {
    "execution": {
     "iopub.execute_input": "2025-07-30T21:29:54.328703Z",
     "iopub.status.busy": "2025-07-30T21:29:54.327917Z",
     "iopub.status.idle": "2025-07-30T21:29:54.336580Z",
     "shell.execute_reply": "2025-07-30T21:29:54.335616Z"
    },
    "papermill": {
     "duration": 0.038708,
     "end_time": "2025-07-30T21:29:54.338250",
     "exception": false,
     "start_time": "2025-07-30T21:29:54.299542",
     "status": "completed"
    },
    "tags": []
   },
   "outputs": [],
   "source": [
    "from fairness_multiverse.conformal import compute_nc_scores\n",
    "\n",
    "# Compute nonconformity scores on calibration set (1 - probability of true class)\n",
    "nc_scores = compute_nc_scores(probs_calib, y_calib)"
   ]
  },
  {
   "cell_type": "code",
   "execution_count": 51,
   "id": "df3b8ca3-53b7-43d5-9667-7c85da7aeda2",
   "metadata": {
    "execution": {
     "iopub.execute_input": "2025-07-30T21:29:54.372547Z",
     "iopub.status.busy": "2025-07-30T21:29:54.372091Z",
     "iopub.status.idle": "2025-07-30T21:29:54.377659Z",
     "shell.execute_reply": "2025-07-30T21:29:54.376962Z"
    },
    "papermill": {
     "duration": 0.02033,
     "end_time": "2025-07-30T21:29:54.379027",
     "exception": false,
     "start_time": "2025-07-30T21:29:54.358697",
     "status": "completed"
    },
    "tags": []
   },
   "outputs": [],
   "source": [
    "from fairness_multiverse.conformal import find_threshold\n",
    "\n",
    "# Find conformal threshold q_hat for the given alpha (split conformal method)\n",
    "q_hat = find_threshold(nc_scores, alpha)"
   ]
  },
  {
   "cell_type": "code",
   "execution_count": 52,
   "id": "4d29e6c1-0ef6-4aa4-b8fe-4fe79b0d033a",
   "metadata": {
    "execution": {
     "iopub.execute_input": "2025-07-30T21:29:54.406775Z",
     "iopub.status.busy": "2025-07-30T21:29:54.406364Z",
     "iopub.status.idle": "2025-07-30T21:29:54.414423Z",
     "shell.execute_reply": "2025-07-30T21:29:54.413092Z"
    },
    "papermill": {
     "duration": 0.023582,
     "end_time": "2025-07-30T21:29:54.415815",
     "exception": false,
     "start_time": "2025-07-30T21:29:54.392233",
     "status": "completed"
    },
    "tags": []
   },
   "outputs": [
    {
     "data": {
      "text/plain": [
       "0.6599999999999999"
      ]
     },
     "execution_count": 52,
     "metadata": {},
     "output_type": "execute_result"
    }
   ],
   "source": [
    "q_hat"
   ]
  },
  {
   "cell_type": "code",
   "execution_count": 53,
   "id": "92460794-cdac-4be2-ba28-f28c0515a6fb",
   "metadata": {
    "execution": {
     "iopub.execute_input": "2025-07-30T21:29:54.444387Z",
     "iopub.status.busy": "2025-07-30T21:29:54.443696Z",
     "iopub.status.idle": "2025-07-30T21:29:55.850089Z",
     "shell.execute_reply": "2025-07-30T21:29:55.849219Z"
    },
    "papermill": {
     "duration": 1.422359,
     "end_time": "2025-07-30T21:29:55.851591",
     "exception": false,
     "start_time": "2025-07-30T21:29:54.429232",
     "status": "completed"
    },
    "tags": []
   },
   "outputs": [],
   "source": [
    "from fairness_multiverse.conformal import predict_conformal_sets\n",
    "\n",
    "# Generate prediction sets for each test example\n",
    "pred_sets = predict_conformal_sets(model, X_test, q_hat)"
   ]
  },
  {
   "cell_type": "code",
   "execution_count": 54,
   "id": "d90c9a65-e6db-4f5d-80cd-e68fb7e46829",
   "metadata": {
    "execution": {
     "iopub.execute_input": "2025-07-30T21:29:55.909421Z",
     "iopub.status.busy": "2025-07-30T21:29:55.908935Z",
     "iopub.status.idle": "2025-07-30T21:29:55.917110Z",
     "shell.execute_reply": "2025-07-30T21:29:55.915716Z"
    },
    "papermill": {
     "duration": 0.05159,
     "end_time": "2025-07-30T21:29:55.919460",
     "exception": false,
     "start_time": "2025-07-30T21:29:55.867870",
     "status": "completed"
    },
    "tags": []
   },
   "outputs": [],
   "source": [
    "y_true = y_true.squeeze()"
   ]
  },
  {
   "cell_type": "code",
   "execution_count": 55,
   "id": "3a58a54a-1e68-46b9-927a-df01f18aebc8",
   "metadata": {
    "execution": {
     "iopub.execute_input": "2025-07-30T21:29:55.976771Z",
     "iopub.status.busy": "2025-07-30T21:29:55.975657Z",
     "iopub.status.idle": "2025-07-30T21:29:57.023592Z",
     "shell.execute_reply": "2025-07-30T21:29:57.022538Z"
    },
    "papermill": {
     "duration": 1.078362,
     "end_time": "2025-07-30T21:29:57.025768",
     "exception": false,
     "start_time": "2025-07-30T21:29:55.947406",
     "status": "completed"
    },
    "tags": []
   },
   "outputs": [],
   "source": [
    "from fairness_multiverse.conformal import evaluate_sets\n",
    "\n",
    "# Evaluate coverage and average set size on test data\n",
    "metrics = evaluate_sets(pred_sets, y_true)"
   ]
  },
  {
   "cell_type": "markdown",
   "id": "2b569c12-9aaa-4c88-98c9-bbcd0cf3ebb8",
   "metadata": {
    "papermill": {
     "duration": 0.033519,
     "end_time": "2025-07-30T21:29:57.091245",
     "exception": false,
     "start_time": "2025-07-30T21:29:57.057726",
     "status": "completed"
    },
    "tags": []
   },
   "source": [
    "# CP Metrics"
   ]
  },
  {
   "cell_type": "code",
   "execution_count": 56,
   "id": "5ce0a5cb-201f-45a0-ade5-94c7f0bd6095",
   "metadata": {
    "execution": {
     "iopub.execute_input": "2025-07-30T21:29:57.156848Z",
     "iopub.status.busy": "2025-07-30T21:29:57.155950Z",
     "iopub.status.idle": "2025-07-30T21:29:57.164683Z",
     "shell.execute_reply": "2025-07-30T21:29:57.163663Z"
    },
    "papermill": {
     "duration": 0.043427,
     "end_time": "2025-07-30T21:29:57.166244",
     "exception": false,
     "start_time": "2025-07-30T21:29:57.122817",
     "status": "completed"
    },
    "tags": []
   },
   "outputs": [
    {
     "data": {
      "text/plain": [
       "{'coverage': 0.912540407981273, 'avg_size': 1.143139003455579}"
      ]
     },
     "execution_count": 56,
     "metadata": {},
     "output_type": "execute_result"
    }
   ],
   "source": [
    "metrics"
   ]
  },
  {
   "cell_type": "code",
   "execution_count": 57,
   "id": "9b9a838d-31c9-430b-ae14-12baee460d17",
   "metadata": {
    "execution": {
     "iopub.execute_input": "2025-07-30T21:29:57.221270Z",
     "iopub.status.busy": "2025-07-30T21:29:57.220428Z",
     "iopub.status.idle": "2025-07-30T21:29:57.228320Z",
     "shell.execute_reply": "2025-07-30T21:29:57.227055Z"
    },
    "papermill": {
     "duration": 0.046529,
     "end_time": "2025-07-30T21:29:57.238834",
     "exception": false,
     "start_time": "2025-07-30T21:29:57.192305",
     "status": "completed"
    },
    "tags": []
   },
   "outputs": [],
   "source": [
    "example_universe = universe.copy()\n",
    "universe_training_year = example_universe.get(\"training_year\")\n",
    "universe_training_size = example_universe.get(\"training_size\")\n",
    "universe_scale = example_universe.get(\"scale\")\n",
    "universe_model = example_universe.get(\"model\")\n",
    "universe_exclude_features = example_universe.get(\"exclude_features\")\n",
    "universe_exclude_subgroups = example_universe.get(\"exclude_subgroups\")"
   ]
  },
  {
   "cell_type": "code",
   "execution_count": 58,
   "id": "f4b6a8ac-9dc0-4245-8a91-5b3b5999c4f9",
   "metadata": {
    "execution": {
     "iopub.execute_input": "2025-07-30T21:29:57.306184Z",
     "iopub.status.busy": "2025-07-30T21:29:57.305240Z",
     "iopub.status.idle": "2025-07-30T21:29:57.312336Z",
     "shell.execute_reply": "2025-07-30T21:29:57.311347Z"
    },
    "papermill": {
     "duration": 0.042556,
     "end_time": "2025-07-30T21:29:57.314093",
     "exception": false,
     "start_time": "2025-07-30T21:29:57.271537",
     "status": "completed"
    },
    "tags": []
   },
   "outputs": [],
   "source": [
    "cp_metrics_dict = {\n",
    "    \"universe_id\": [universe_id],\n",
    "    \"universe_training_year\": [universe_training_year],\n",
    "    \"universe_training_size\": [universe_training_size],\n",
    "    \"universe_scale\": [universe_scale],\n",
    "    \"universe_model\": [universe_model],\n",
    "    \"universe_exclude_features\": [universe_exclude_features],\n",
    "    \"universe_exclude_subgroups\": [universe_exclude_subgroups],\n",
    "    \"q_hat\": [q_hat],\n",
    "    \"coverage\": [metrics[\"coverage\"]],\n",
    "    \"avg_size\": [metrics[\"avg_size\"]],\n",
    "}"
   ]
  },
  {
   "cell_type": "code",
   "execution_count": 59,
   "id": "908acbb1-0371-4915-85ca-3fa520d2efe2",
   "metadata": {
    "execution": {
     "iopub.execute_input": "2025-07-30T21:29:57.375244Z",
     "iopub.status.busy": "2025-07-30T21:29:57.374542Z",
     "iopub.status.idle": "2025-07-30T21:29:57.383607Z",
     "shell.execute_reply": "2025-07-30T21:29:57.382532Z"
    },
    "papermill": {
     "duration": 0.042365,
     "end_time": "2025-07-30T21:29:57.385740",
     "exception": false,
     "start_time": "2025-07-30T21:29:57.343375",
     "status": "completed"
    },
    "tags": []
   },
   "outputs": [
    {
     "data": {
      "text/plain": [
       "{'universe_id': ['a594f57312006ac6ebcfe07ee98fd7b7'],\n",
       " 'universe_training_year': ['2014'],\n",
       " 'universe_training_size': ['1k'],\n",
       " 'universe_scale': ['do-not-scale'],\n",
       " 'universe_model': ['rf'],\n",
       " 'universe_exclude_features': ['sex'],\n",
       " 'universe_exclude_subgroups': ['drop-non-german'],\n",
       " 'q_hat': [0.6599999999999999],\n",
       " 'coverage': [0.912540407981273],\n",
       " 'avg_size': [1.143139003455579]}"
      ]
     },
     "execution_count": 59,
     "metadata": {},
     "output_type": "execute_result"
    }
   ],
   "source": [
    "cp_metrics_dict"
   ]
  },
  {
   "cell_type": "code",
   "execution_count": 60,
   "id": "33007efc-14e9-4ec6-97ac-56a455c82265",
   "metadata": {
    "execution": {
     "iopub.execute_input": "2025-07-30T21:29:57.447358Z",
     "iopub.status.busy": "2025-07-30T21:29:57.446893Z",
     "iopub.status.idle": "2025-07-30T21:29:57.453152Z",
     "shell.execute_reply": "2025-07-30T21:29:57.452241Z"
    },
    "papermill": {
     "duration": 0.038777,
     "end_time": "2025-07-30T21:29:57.454514",
     "exception": false,
     "start_time": "2025-07-30T21:29:57.415737",
     "status": "completed"
    },
    "tags": []
   },
   "outputs": [],
   "source": [
    "cp_metrics_df = pd.DataFrame(cp_metrics_dict)"
   ]
  },
  {
   "cell_type": "code",
   "execution_count": 61,
   "id": "db12611b-57b2-4910-b9d0-355adfd6e7bf",
   "metadata": {
    "execution": {
     "iopub.execute_input": "2025-07-30T21:29:57.485157Z",
     "iopub.status.busy": "2025-07-30T21:29:57.484824Z",
     "iopub.status.idle": "2025-07-30T21:29:57.498541Z",
     "shell.execute_reply": "2025-07-30T21:29:57.497807Z"
    },
    "papermill": {
     "duration": 0.029814,
     "end_time": "2025-07-30T21:29:57.500154",
     "exception": false,
     "start_time": "2025-07-30T21:29:57.470340",
     "status": "completed"
    },
    "tags": []
   },
   "outputs": [
    {
     "data": {
      "text/html": [
       "<div>\n",
       "<style scoped>\n",
       "    .dataframe tbody tr th:only-of-type {\n",
       "        vertical-align: middle;\n",
       "    }\n",
       "\n",
       "    .dataframe tbody tr th {\n",
       "        vertical-align: top;\n",
       "    }\n",
       "\n",
       "    .dataframe thead th {\n",
       "        text-align: right;\n",
       "    }\n",
       "</style>\n",
       "<table border=\"1\" class=\"dataframe\">\n",
       "  <thead>\n",
       "    <tr style=\"text-align: right;\">\n",
       "      <th></th>\n",
       "      <th>universe_id</th>\n",
       "      <th>universe_training_year</th>\n",
       "      <th>universe_training_size</th>\n",
       "      <th>universe_scale</th>\n",
       "      <th>universe_model</th>\n",
       "      <th>universe_exclude_features</th>\n",
       "      <th>universe_exclude_subgroups</th>\n",
       "      <th>q_hat</th>\n",
       "      <th>coverage</th>\n",
       "      <th>avg_size</th>\n",
       "    </tr>\n",
       "  </thead>\n",
       "  <tbody>\n",
       "    <tr>\n",
       "      <th>0</th>\n",
       "      <td>a594f57312006ac6ebcfe07ee98fd7b7</td>\n",
       "      <td>2014</td>\n",
       "      <td>1k</td>\n",
       "      <td>do-not-scale</td>\n",
       "      <td>rf</td>\n",
       "      <td>sex</td>\n",
       "      <td>drop-non-german</td>\n",
       "      <td>0.66</td>\n",
       "      <td>0.91254</td>\n",
       "      <td>1.143139</td>\n",
       "    </tr>\n",
       "  </tbody>\n",
       "</table>\n",
       "</div>"
      ],
      "text/plain": [
       "                        universe_id universe_training_year  \\\n",
       "0  a594f57312006ac6ebcfe07ee98fd7b7                   2014   \n",
       "\n",
       "  universe_training_size universe_scale universe_model  \\\n",
       "0                     1k   do-not-scale             rf   \n",
       "\n",
       "  universe_exclude_features universe_exclude_subgroups  q_hat  coverage  \\\n",
       "0                       sex            drop-non-german   0.66   0.91254   \n",
       "\n",
       "   avg_size  \n",
       "0  1.143139  "
      ]
     },
     "execution_count": 61,
     "metadata": {},
     "output_type": "execute_result"
    }
   ],
   "source": [
    "cp_metrics_df"
   ]
  },
  {
   "cell_type": "code",
   "execution_count": 62,
   "id": "b7fbde55-a0a1-47e4-9af6-fe4a17fa8c61",
   "metadata": {
    "execution": {
     "iopub.execute_input": "2025-07-30T21:29:57.564113Z",
     "iopub.status.busy": "2025-07-30T21:29:57.563140Z",
     "iopub.status.idle": "2025-07-30T21:29:57.568716Z",
     "shell.execute_reply": "2025-07-30T21:29:57.567692Z"
    },
    "papermill": {
     "duration": 0.039518,
     "end_time": "2025-07-30T21:29:57.570497",
     "exception": false,
     "start_time": "2025-07-30T21:29:57.530979",
     "status": "completed"
    },
    "tags": []
   },
   "outputs": [],
   "source": [
    "# Conditional Coverage & looking at subgroups"
   ]
  },
  {
   "cell_type": "code",
   "execution_count": 63,
   "id": "027ae886-68dd-4141-96c7-805a5450e1ef",
   "metadata": {
    "execution": {
     "iopub.execute_input": "2025-07-30T21:29:57.631908Z",
     "iopub.status.busy": "2025-07-30T21:29:57.631029Z",
     "iopub.status.idle": "2025-07-30T21:29:57.919630Z",
     "shell.execute_reply": "2025-07-30T21:29:57.918650Z"
    },
    "papermill": {
     "duration": 0.321192,
     "end_time": "2025-07-30T21:29:57.921558",
     "exception": false,
     "start_time": "2025-07-30T21:29:57.600366",
     "status": "completed"
    },
    "tags": []
   },
   "outputs": [],
   "source": [
    "from fairness_multiverse.conformal import build_cp_groups\n",
    "\n",
    "cp_groups_df = build_cp_groups(pred_sets, y_true, X_test.index, org_test)\n",
    "#needs universe_id and setting"
   ]
  },
  {
   "cell_type": "code",
   "execution_count": 64,
   "id": "01d5802c-663a-4d1f-9d69-e036faaffbf7",
   "metadata": {
    "execution": {
     "iopub.execute_input": "2025-07-30T21:29:57.990324Z",
     "iopub.status.busy": "2025-07-30T21:29:57.989893Z",
     "iopub.status.idle": "2025-07-30T21:29:57.994805Z",
     "shell.execute_reply": "2025-07-30T21:29:57.993853Z"
    },
    "papermill": {
     "duration": 0.049848,
     "end_time": "2025-07-30T21:29:57.996949",
     "exception": false,
     "start_time": "2025-07-30T21:29:57.947101",
     "status": "completed"
    },
    "tags": []
   },
   "outputs": [],
   "source": [
    "#delete\n",
    "#cp_groups_df"
   ]
  },
  {
   "cell_type": "code",
   "execution_count": 65,
   "id": "fa424af1-d1eb-443d-b717-2d279ada8408",
   "metadata": {
    "execution": {
     "iopub.execute_input": "2025-07-30T21:29:58.059196Z",
     "iopub.status.busy": "2025-07-30T21:29:58.058689Z",
     "iopub.status.idle": "2025-07-30T21:29:58.063826Z",
     "shell.execute_reply": "2025-07-30T21:29:58.062695Z"
    },
    "papermill": {
     "duration": 0.03921,
     "end_time": "2025-07-30T21:29:58.065681",
     "exception": false,
     "start_time": "2025-07-30T21:29:58.026471",
     "status": "completed"
    },
    "tags": []
   },
   "outputs": [],
   "source": [
    "#delete\n",
    "#percentage = (cp_groups_df['nongerman_female'] == 1).mean() * 100\n",
    "#print(percentage)\n"
   ]
  },
  {
   "cell_type": "code",
   "execution_count": 66,
   "id": "6cbdab96-b2b2-45af-ad54-d0516db2e28d",
   "metadata": {
    "execution": {
     "iopub.execute_input": "2025-07-30T21:29:58.117337Z",
     "iopub.status.busy": "2025-07-30T21:29:58.116958Z",
     "iopub.status.idle": "2025-07-30T21:29:59.826608Z",
     "shell.execute_reply": "2025-07-30T21:29:59.825276Z"
    },
    "papermill": {
     "duration": 1.734727,
     "end_time": "2025-07-30T21:29:59.829200",
     "exception": false,
     "start_time": "2025-07-30T21:29:58.094473",
     "status": "completed"
    },
    "tags": []
   },
   "outputs": [],
   "source": [
    "# Define covered = 1 if true_label is in the predicted set\n",
    "cp_groups_df['covered'] = cp_groups_df.apply(\n",
    "    lambda r: int(r['true_label'] in r['pred_set']),\n",
    "    axis=1\n",
    ")"
   ]
  },
  {
   "cell_type": "code",
   "execution_count": 67,
   "id": "338ff529-1a6b-4b87-a931-8e4788d52aad",
   "metadata": {
    "execution": {
     "iopub.execute_input": "2025-07-30T21:29:59.909085Z",
     "iopub.status.busy": "2025-07-30T21:29:59.908707Z",
     "iopub.status.idle": "2025-07-30T21:29:59.913683Z",
     "shell.execute_reply": "2025-07-30T21:29:59.912868Z"
    },
    "papermill": {
     "duration": 0.045369,
     "end_time": "2025-07-30T21:29:59.916762",
     "exception": false,
     "start_time": "2025-07-30T21:29:59.871393",
     "status": "completed"
    },
    "tags": []
   },
   "outputs": [],
   "source": [
    "#cp_groups_df"
   ]
  },
  {
   "cell_type": "code",
   "execution_count": 68,
   "id": "90032e27-66df-4540-9169-4e89cfbaa758",
   "metadata": {
    "execution": {
     "iopub.execute_input": "2025-07-30T21:29:59.972818Z",
     "iopub.status.busy": "2025-07-30T21:29:59.972432Z",
     "iopub.status.idle": "2025-07-30T21:29:59.983693Z",
     "shell.execute_reply": "2025-07-30T21:29:59.982596Z"
    },
    "papermill": {
     "duration": 0.039348,
     "end_time": "2025-07-30T21:29:59.986593",
     "exception": false,
     "start_time": "2025-07-30T21:29:59.947245",
     "status": "completed"
    },
    "tags": []
   },
   "outputs": [],
   "source": [
    "subgroups = ['frau1','nongerman','nongerman_male','nongerman_female']\n",
    "\n",
    "# Conditional coverage for subgroup==1\n",
    "cond_coverage = {\n",
    "    g: cp_groups_df.loc[cp_groups_df[g]==1, 'covered'].mean()\n",
    "    for g in subgroups\n",
    "}"
   ]
  },
  {
   "cell_type": "code",
   "execution_count": 69,
   "id": "1e348fb1-b9c3-45bc-ba23-f016827a7e0d",
   "metadata": {
    "execution": {
     "iopub.execute_input": "2025-07-30T21:30:00.047734Z",
     "iopub.status.busy": "2025-07-30T21:30:00.047360Z",
     "iopub.status.idle": "2025-07-30T21:30:00.054429Z",
     "shell.execute_reply": "2025-07-30T21:30:00.053515Z"
    },
    "papermill": {
     "duration": 0.049857,
     "end_time": "2025-07-30T21:30:00.058219",
     "exception": false,
     "start_time": "2025-07-30T21:30:00.008362",
     "status": "completed"
    },
    "tags": []
   },
   "outputs": [
    {
     "data": {
      "text/plain": [
       "{'frau1': 0.9084782315675967,\n",
       " 'nongerman': 0.90596755178802,\n",
       " 'nongerman_male': 0.9255156264072774,\n",
       " 'nongerman_female': 0.8736214605067064}"
      ]
     },
     "execution_count": 69,
     "metadata": {},
     "output_type": "execute_result"
    }
   ],
   "source": [
    "cond_coverage"
   ]
  },
  {
   "cell_type": "code",
   "execution_count": 70,
   "id": "f5093324-c3dd-4d63-bc4c-8d945e5c8bbb",
   "metadata": {
    "execution": {
     "iopub.execute_input": "2025-07-30T21:30:00.176467Z",
     "iopub.status.busy": "2025-07-30T21:30:00.175349Z",
     "iopub.status.idle": "2025-07-30T21:30:00.184074Z",
     "shell.execute_reply": "2025-07-30T21:30:00.182893Z"
    },
    "papermill": {
     "duration": 0.055939,
     "end_time": "2025-07-30T21:30:00.187423",
     "exception": false,
     "start_time": "2025-07-30T21:30:00.131484",
     "status": "completed"
    },
    "tags": []
   },
   "outputs": [],
   "source": [
    "for subgroup, cov in cond_coverage.items():\n",
    "    cp_metrics_df[f\"cov_{subgroup}\"] = cov"
   ]
  },
  {
   "cell_type": "code",
   "execution_count": 71,
   "id": "6e872e10-dbe5-49e8-b554-5030c98ff75d",
   "metadata": {
    "execution": {
     "iopub.execute_input": "2025-07-30T21:30:00.251779Z",
     "iopub.status.busy": "2025-07-30T21:30:00.251341Z",
     "iopub.status.idle": "2025-07-30T21:30:00.296790Z",
     "shell.execute_reply": "2025-07-30T21:30:00.295636Z"
    },
    "papermill": {
     "duration": 0.085015,
     "end_time": "2025-07-30T21:30:00.304339",
     "exception": false,
     "start_time": "2025-07-30T21:30:00.219324",
     "status": "completed"
    },
    "tags": []
   },
   "outputs": [
    {
     "data": {
      "text/html": [
       "<div>\n",
       "<style scoped>\n",
       "    .dataframe tbody tr th:only-of-type {\n",
       "        vertical-align: middle;\n",
       "    }\n",
       "\n",
       "    .dataframe tbody tr th {\n",
       "        vertical-align: top;\n",
       "    }\n",
       "\n",
       "    .dataframe thead th {\n",
       "        text-align: right;\n",
       "    }\n",
       "</style>\n",
       "<table border=\"1\" class=\"dataframe\">\n",
       "  <thead>\n",
       "    <tr style=\"text-align: right;\">\n",
       "      <th></th>\n",
       "      <th>universe_id</th>\n",
       "      <th>universe_training_year</th>\n",
       "      <th>universe_training_size</th>\n",
       "      <th>universe_scale</th>\n",
       "      <th>universe_model</th>\n",
       "      <th>universe_exclude_features</th>\n",
       "      <th>universe_exclude_subgroups</th>\n",
       "      <th>q_hat</th>\n",
       "      <th>coverage</th>\n",
       "      <th>avg_size</th>\n",
       "      <th>cov_frau1</th>\n",
       "      <th>cov_nongerman</th>\n",
       "      <th>cov_nongerman_male</th>\n",
       "      <th>cov_nongerman_female</th>\n",
       "    </tr>\n",
       "  </thead>\n",
       "  <tbody>\n",
       "    <tr>\n",
       "      <th>0</th>\n",
       "      <td>a594f57312006ac6ebcfe07ee98fd7b7</td>\n",
       "      <td>2014</td>\n",
       "      <td>1k</td>\n",
       "      <td>do-not-scale</td>\n",
       "      <td>rf</td>\n",
       "      <td>sex</td>\n",
       "      <td>drop-non-german</td>\n",
       "      <td>0.66</td>\n",
       "      <td>0.91254</td>\n",
       "      <td>1.143139</td>\n",
       "      <td>0.908478</td>\n",
       "      <td>0.905968</td>\n",
       "      <td>0.925516</td>\n",
       "      <td>0.873621</td>\n",
       "    </tr>\n",
       "  </tbody>\n",
       "</table>\n",
       "</div>"
      ],
      "text/plain": [
       "                        universe_id universe_training_year  \\\n",
       "0  a594f57312006ac6ebcfe07ee98fd7b7                   2014   \n",
       "\n",
       "  universe_training_size universe_scale universe_model  \\\n",
       "0                     1k   do-not-scale             rf   \n",
       "\n",
       "  universe_exclude_features universe_exclude_subgroups  q_hat  coverage  \\\n",
       "0                       sex            drop-non-german   0.66   0.91254   \n",
       "\n",
       "   avg_size  cov_frau1  cov_nongerman  cov_nongerman_male  \\\n",
       "0  1.143139   0.908478       0.905968            0.925516   \n",
       "\n",
       "   cov_nongerman_female  \n",
       "0              0.873621  "
      ]
     },
     "execution_count": 71,
     "metadata": {},
     "output_type": "execute_result"
    }
   ],
   "source": [
    "cp_metrics_df"
   ]
  },
  {
   "cell_type": "markdown",
   "id": "33774451",
   "metadata": {
    "papermill": {
     "duration": 0.03078,
     "end_time": "2025-07-30T21:30:00.373641",
     "exception": false,
     "start_time": "2025-07-30T21:30:00.342861",
     "status": "completed"
    },
    "tags": []
   },
   "source": [
    "# (Fairness) Metrics"
   ]
  },
  {
   "cell_type": "code",
   "execution_count": 72,
   "id": "debc5d62",
   "metadata": {
    "execution": {
     "iopub.execute_input": "2025-07-30T21:30:00.450387Z",
     "iopub.status.busy": "2025-07-30T21:30:00.449996Z",
     "iopub.status.idle": "2025-07-30T21:30:00.485415Z",
     "shell.execute_reply": "2025-07-30T21:30:00.484322Z"
    },
    "papermill": {
     "duration": 0.082442,
     "end_time": "2025-07-30T21:30:00.487303",
     "exception": false,
     "start_time": "2025-07-30T21:30:00.404861",
     "status": "completed"
    },
    "tags": []
   },
   "outputs": [],
   "source": [
    "# do I need to include maxdeutsch1.missing?\n",
    "\n",
    "import numpy as np\n",
    "\n",
    "colname_to_bin = \"maxdeutsch1\"\n",
    "majority_value = org_train[colname_to_bin].mode()[0]\n",
    "\n",
    "org_test[\"majmin\"] = np.where(org_test[colname_to_bin] == majority_value, \"majority\", \"minority\")"
   ]
  },
  {
   "cell_type": "code",
   "execution_count": 73,
   "id": "06a50de5",
   "metadata": {
    "execution": {
     "iopub.execute_input": "2025-07-30T21:30:00.563033Z",
     "iopub.status.busy": "2025-07-30T21:30:00.562539Z",
     "iopub.status.idle": "2025-07-30T21:30:03.426759Z",
     "shell.execute_reply": "2025-07-30T21:30:03.425685Z"
    },
    "papermill": {
     "duration": 2.898858,
     "end_time": "2025-07-30T21:30:03.428883",
     "exception": false,
     "start_time": "2025-07-30T21:30:00.530025",
     "status": "completed"
    },
    "tags": []
   },
   "outputs": [],
   "source": [
    "example_universe = universe.copy()\n",
    "example_universe[\"cutoff\"] = example_universe[\"cutoff\"][0]\n",
    "example_universe[\"eval_fairness_grouping\"] = example_universe[\"eval_fairness_grouping\"][0]\n",
    "fairness_dict, metric_frame = universe_analysis.compute_metrics(\n",
    "    example_universe,\n",
    "    y_pred_prob=probs_test,\n",
    "    y_test=y_true,\n",
    "    org_test=org_test,\n",
    ")"
   ]
  },
  {
   "cell_type": "markdown",
   "id": "f95d4e02",
   "metadata": {
    "papermill": {
     "duration": 0.029214,
     "end_time": "2025-07-30T21:30:03.491958",
     "exception": false,
     "start_time": "2025-07-30T21:30:03.462744",
     "status": "completed"
    },
    "tags": []
   },
   "source": [
    "# Overall"
   ]
  },
  {
   "cell_type": "markdown",
   "id": "bdee4871",
   "metadata": {
    "papermill": {
     "duration": 0.028226,
     "end_time": "2025-07-30T21:30:03.540613",
     "exception": false,
     "start_time": "2025-07-30T21:30:03.512387",
     "status": "completed"
    },
    "tags": []
   },
   "source": [
    "Fairness\n",
    "Main fairness target: Equalized Odds. Seems to be a better fit than equal opportunity, since we're not only interested in Y = 1. Seems to be a better fit than demographic parity, since we also care about accuracy, not just equal distribution of preds.\n",
    "\n",
    "Pick column for computation of fairness metrics\n",
    "\n",
    "Performance\n",
    "Overall performance measures, most interesting in relation to the measures split by group below"
   ]
  },
  {
   "cell_type": "code",
   "execution_count": 74,
   "id": "c4e067c6",
   "metadata": {
    "execution": {
     "iopub.execute_input": "2025-07-30T21:30:03.598633Z",
     "iopub.status.busy": "2025-07-30T21:30:03.598191Z",
     "iopub.status.idle": "2025-07-30T21:30:03.604624Z",
     "shell.execute_reply": "2025-07-30T21:30:03.603943Z"
    },
    "papermill": {
     "duration": 0.037094,
     "end_time": "2025-07-30T21:30:03.606066",
     "exception": false,
     "start_time": "2025-07-30T21:30:03.568972",
     "status": "completed"
    },
    "tags": []
   },
   "outputs": [
    {
     "data": {
      "text/plain": [
       "accuracy                   0.196990\n",
       "balanced accuracy          0.533334\n",
       "f1                         0.239512\n",
       "precision                  0.136317\n",
       "false positive rate        0.919081\n",
       "false negative rate        0.014251\n",
       "selection rate             0.927633\n",
       "count                  89710.000000\n",
       "dtype: float64"
      ]
     },
     "execution_count": 74,
     "metadata": {},
     "output_type": "execute_result"
    }
   ],
   "source": [
    "metric_frame.overall"
   ]
  },
  {
   "cell_type": "markdown",
   "id": "e968fe9d",
   "metadata": {
    "papermill": {
     "duration": 0.01521,
     "end_time": "2025-07-30T21:30:03.645677",
     "exception": false,
     "start_time": "2025-07-30T21:30:03.630467",
     "status": "completed"
    },
    "tags": []
   },
   "source": [
    "By Group"
   ]
  },
  {
   "cell_type": "code",
   "execution_count": 75,
   "id": "ec325bce",
   "metadata": {
    "execution": {
     "iopub.execute_input": "2025-07-30T21:30:03.692838Z",
     "iopub.status.busy": "2025-07-30T21:30:03.692457Z",
     "iopub.status.idle": "2025-07-30T21:30:03.711250Z",
     "shell.execute_reply": "2025-07-30T21:30:03.710025Z"
    },
    "papermill": {
     "duration": 0.051642,
     "end_time": "2025-07-30T21:30:03.712993",
     "exception": false,
     "start_time": "2025-07-30T21:30:03.661351",
     "status": "completed"
    },
    "tags": []
   },
   "outputs": [
    {
     "data": {
      "text/html": [
       "<div>\n",
       "<style scoped>\n",
       "    .dataframe tbody tr th:only-of-type {\n",
       "        vertical-align: middle;\n",
       "    }\n",
       "\n",
       "    .dataframe tbody tr th {\n",
       "        vertical-align: top;\n",
       "    }\n",
       "\n",
       "    .dataframe thead th {\n",
       "        text-align: right;\n",
       "    }\n",
       "</style>\n",
       "<table border=\"1\" class=\"dataframe\">\n",
       "  <thead>\n",
       "    <tr style=\"text-align: right;\">\n",
       "      <th></th>\n",
       "      <th>accuracy</th>\n",
       "      <th>balanced accuracy</th>\n",
       "      <th>f1</th>\n",
       "      <th>precision</th>\n",
       "      <th>false positive rate</th>\n",
       "      <th>false negative rate</th>\n",
       "      <th>selection rate</th>\n",
       "      <th>count</th>\n",
       "    </tr>\n",
       "    <tr>\n",
       "      <th>majmin</th>\n",
       "      <th></th>\n",
       "      <th></th>\n",
       "      <th></th>\n",
       "      <th></th>\n",
       "      <th></th>\n",
       "      <th></th>\n",
       "      <th></th>\n",
       "      <th></th>\n",
       "    </tr>\n",
       "  </thead>\n",
       "  <tbody>\n",
       "    <tr>\n",
       "      <th>majority</th>\n",
       "      <td>0.205031</td>\n",
       "      <td>0.536709</td>\n",
       "      <td>0.247152</td>\n",
       "      <td>0.141252</td>\n",
       "      <td>0.914110</td>\n",
       "      <td>0.012473</td>\n",
       "      <td>0.923811</td>\n",
       "      <td>69170.0</td>\n",
       "    </tr>\n",
       "    <tr>\n",
       "      <th>minority</th>\n",
       "      <td>0.169912</td>\n",
       "      <td>0.521690</td>\n",
       "      <td>0.213778</td>\n",
       "      <td>0.119992</td>\n",
       "      <td>0.935505</td>\n",
       "      <td>0.021115</td>\n",
       "      <td>0.940506</td>\n",
       "      <td>20540.0</td>\n",
       "    </tr>\n",
       "  </tbody>\n",
       "</table>\n",
       "</div>"
      ],
      "text/plain": [
       "          accuracy  balanced accuracy        f1  precision  \\\n",
       "majmin                                                       \n",
       "majority  0.205031           0.536709  0.247152   0.141252   \n",
       "minority  0.169912           0.521690  0.213778   0.119992   \n",
       "\n",
       "          false positive rate  false negative rate  selection rate    count  \n",
       "majmin                                                                       \n",
       "majority             0.914110             0.012473        0.923811  69170.0  \n",
       "minority             0.935505             0.021115        0.940506  20540.0  "
      ]
     },
     "execution_count": 75,
     "metadata": {},
     "output_type": "execute_result"
    }
   ],
   "source": [
    "metric_frame.by_group"
   ]
  },
  {
   "cell_type": "code",
   "execution_count": 76,
   "id": "a9ddbe63",
   "metadata": {
    "execution": {
     "iopub.execute_input": "2025-07-30T21:30:03.774624Z",
     "iopub.status.busy": "2025-07-30T21:30:03.773930Z",
     "iopub.status.idle": "2025-07-30T21:30:06.275077Z",
     "shell.execute_reply": "2025-07-30T21:30:06.274189Z"
    },
    "papermill": {
     "duration": 2.533631,
     "end_time": "2025-07-30T21:30:06.276615",
     "exception": false,
     "start_time": "2025-07-30T21:30:03.742984",
     "status": "completed"
    },
    "tags": []
   },
   "outputs": [
    {
     "data": {
      "text/plain": [
       "array([[<Axes: title={'center': 'accuracy'}, xlabel='majmin'>,\n",
       "        <Axes: title={'center': 'balanced accuracy'}, xlabel='majmin'>,\n",
       "        <Axes: title={'center': 'f1'}, xlabel='majmin'>],\n",
       "       [<Axes: title={'center': 'precision'}, xlabel='majmin'>,\n",
       "        <Axes: title={'center': 'false positive rate'}, xlabel='majmin'>,\n",
       "        <Axes: title={'center': 'false negative rate'}, xlabel='majmin'>],\n",
       "       [<Axes: title={'center': 'selection rate'}, xlabel='majmin'>,\n",
       "        <Axes: title={'center': 'count'}, xlabel='majmin'>,\n",
       "        <Axes: xlabel='majmin'>]], dtype=object)"
      ]
     },
     "execution_count": 76,
     "metadata": {},
     "output_type": "execute_result"
    },
    {
     "data": {
      "image/png": "[encoded data removed]",
      "text/plain": [
       "<Figure size 1200x800 with 9 Axes>"
      ]
     },
     "metadata": {},
     "output_type": "display_data"
    }
   ],
   "source": [
    "# In a graphic\n",
    "metric_frame.by_group.plot.bar(\n",
    "    subplots=True,\n",
    "    layout=[3, 3],\n",
    "    legend=False,\n",
    "    figsize=[12, 8],\n",
    "    title=\"Show all metrics\",\n",
    ")"
   ]
  },
  {
   "cell_type": "markdown",
   "id": "f57a0bac",
   "metadata": {
    "papermill": {
     "duration": 0.041958,
     "end_time": "2025-07-30T21:30:06.349577",
     "exception": false,
     "start_time": "2025-07-30T21:30:06.307619",
     "status": "completed"
    },
    "tags": []
   },
   "source": [
    "# Final Output"
   ]
  },
  {
   "cell_type": "code",
   "execution_count": 77,
   "id": "96d280a3",
   "metadata": {
    "execution": {
     "iopub.execute_input": "2025-07-30T21:30:06.437987Z",
     "iopub.status.busy": "2025-07-30T21:30:06.437318Z",
     "iopub.status.idle": "2025-07-30T21:30:06.447410Z",
     "shell.execute_reply": "2025-07-30T21:30:06.446476Z"
    },
    "papermill": {
     "duration": 0.063267,
     "end_time": "2025-07-30T21:30:06.450063",
     "exception": false,
     "start_time": "2025-07-30T21:30:06.386796",
     "status": "completed"
    },
    "tags": []
   },
   "outputs": [
    {
     "data": {
      "text/plain": [
       "4"
      ]
     },
     "execution_count": 77,
     "metadata": {},
     "output_type": "execute_result"
    }
   ],
   "source": [
    "sub_universes = universe_analysis.generate_sub_universes()\n",
    "len(sub_universes)"
   ]
  },
  {
   "cell_type": "code",
   "execution_count": 78,
   "id": "92adf7ba",
   "metadata": {
    "execution": {
     "iopub.execute_input": "2025-07-30T21:30:06.507669Z",
     "iopub.status.busy": "2025-07-30T21:30:06.507285Z",
     "iopub.status.idle": "2025-07-30T21:30:06.567640Z",
     "shell.execute_reply": "2025-07-30T21:30:06.566534Z"
    },
    "papermill": {
     "duration": 0.091398,
     "end_time": "2025-07-30T21:30:06.569989",
     "exception": false,
     "start_time": "2025-07-30T21:30:06.478591",
     "status": "completed"
    },
    "tags": []
   },
   "outputs": [],
   "source": [
    "def filter_sub_universe_data(sub_universe, org_test):\n",
    "    # Keep all rows — no filtering\n",
    "    keep_rows_mask = np.ones(org_test.shape[0], dtype=bool)\n",
    "\n",
    "    print(f\"[INFO] Keeping all rows: {keep_rows_mask.sum()} rows retained.\")\n",
    "    return keep_rows_mask"
   ]
  },
  {
   "cell_type": "code",
   "execution_count": 79,
   "id": "4a759155",
   "metadata": {
    "execution": {
     "iopub.execute_input": "2025-07-30T21:30:06.625508Z",
     "iopub.status.busy": "2025-07-30T21:30:06.625062Z",
     "iopub.status.idle": "2025-07-30T21:30:16.403181Z",
     "shell.execute_reply": "2025-07-30T21:30:16.402436Z"
    },
    "papermill": {
     "duration": 9.807303,
     "end_time": "2025-07-30T21:30:16.404605",
     "exception": false,
     "start_time": "2025-07-30T21:30:06.597302",
     "status": "completed"
    },
    "tags": []
   },
   "outputs": [
    {
     "name": "stdout",
     "output_type": "stream",
     "text": [
      "Stopping execution_time clock.\n",
      "[INFO] Keeping all rows: 89710 rows retained.\n"
     ]
    },
    {
     "name": "stdout",
     "output_type": "stream",
     "text": [
      "[INFO] Keeping all rows: 89710 rows retained.\n"
     ]
    },
    {
     "name": "stdout",
     "output_type": "stream",
     "text": [
      "[INFO] Keeping all rows: 89710 rows retained.\n"
     ]
    },
    {
     "name": "stdout",
     "output_type": "stream",
     "text": [
      "[INFO] Keeping all rows: 89710 rows retained.\n"
     ]
    },
    {
     "data": {
      "text/html": [
       "<div>\n",
       "<style scoped>\n",
       "    .dataframe tbody tr th:only-of-type {\n",
       "        vertical-align: middle;\n",
       "    }\n",
       "\n",
       "    .dataframe tbody tr th {\n",
       "        vertical-align: top;\n",
       "    }\n",
       "\n",
       "    .dataframe thead th {\n",
       "        text-align: right;\n",
       "    }\n",
       "</style>\n",
       "<table border=\"1\" class=\"dataframe\">\n",
       "  <thead>\n",
       "    <tr style=\"text-align: right;\">\n",
       "      <th></th>\n",
       "      <th>run_no</th>\n",
       "      <th>universe_id</th>\n",
       "      <th>universe_settings</th>\n",
       "      <th>execution_time</th>\n",
       "      <th>test_size_n</th>\n",
       "      <th>test_size_frac</th>\n",
       "      <th>fair_main_equalized_odds_difference</th>\n",
       "      <th>fair_main_equalized_odds_ratio</th>\n",
       "      <th>fair_main_demographic_parity_difference</th>\n",
       "      <th>fair_main_demographic_parity_ratio</th>\n",
       "      <th>...</th>\n",
       "      <th>perf_grp_precision_0</th>\n",
       "      <th>perf_grp_precision_1</th>\n",
       "      <th>perf_grp_false positive rate_0</th>\n",
       "      <th>perf_grp_false positive rate_1</th>\n",
       "      <th>perf_grp_false negative rate_0</th>\n",
       "      <th>perf_grp_false negative rate_1</th>\n",
       "      <th>perf_grp_selection rate_0</th>\n",
       "      <th>perf_grp_selection rate_1</th>\n",
       "      <th>perf_grp_count_0</th>\n",
       "      <th>perf_grp_count_1</th>\n",
       "    </tr>\n",
       "  </thead>\n",
       "  <tbody>\n",
       "    <tr>\n",
       "      <th>0</th>\n",
       "      <td>14</td>\n",
       "      <td>a594f57312006ac6ebcfe07ee98fd7b7</td>\n",
       "      <td>{\"cutoff\": \"quantile_0.1\", \"eval_fairness_grou...</td>\n",
       "      <td>30.67733</td>\n",
       "      <td>89710</td>\n",
       "      <td>1.0</td>\n",
       "      <td>0.021396</td>\n",
       "      <td>0.977129</td>\n",
       "      <td>0.016695</td>\n",
       "      <td>0.982248</td>\n",
       "      <td>...</td>\n",
       "      <td>NaN</td>\n",
       "      <td>NaN</td>\n",
       "      <td>NaN</td>\n",
       "      <td>NaN</td>\n",
       "      <td>NaN</td>\n",
       "      <td>NaN</td>\n",
       "      <td>NaN</td>\n",
       "      <td>NaN</td>\n",
       "      <td>NaN</td>\n",
       "      <td>NaN</td>\n",
       "    </tr>\n",
       "    <tr>\n",
       "      <th>0</th>\n",
       "      <td>14</td>\n",
       "      <td>a594f57312006ac6ebcfe07ee98fd7b7</td>\n",
       "      <td>{\"cutoff\": \"quantile_0.1\", \"eval_fairness_grou...</td>\n",
       "      <td>30.67733</td>\n",
       "      <td>89710</td>\n",
       "      <td>1.0</td>\n",
       "      <td>0.021396</td>\n",
       "      <td>0.977129</td>\n",
       "      <td>0.016695</td>\n",
       "      <td>0.982248</td>\n",
       "      <td>...</td>\n",
       "      <td>0.119992</td>\n",
       "      <td>0.141252</td>\n",
       "      <td>0.935505</td>\n",
       "      <td>0.914110</td>\n",
       "      <td>0.021115</td>\n",
       "      <td>0.012473</td>\n",
       "      <td>0.940506</td>\n",
       "      <td>0.923811</td>\n",
       "      <td>20540.0</td>\n",
       "      <td>69170.0</td>\n",
       "    </tr>\n",
       "    <tr>\n",
       "      <th>0</th>\n",
       "      <td>14</td>\n",
       "      <td>a594f57312006ac6ebcfe07ee98fd7b7</td>\n",
       "      <td>{\"cutoff\": \"quantile_0.25\", \"eval_fairness_gro...</td>\n",
       "      <td>30.67733</td>\n",
       "      <td>89710</td>\n",
       "      <td>1.0</td>\n",
       "      <td>0.043756</td>\n",
       "      <td>0.953507</td>\n",
       "      <td>0.019702</td>\n",
       "      <td>0.975083</td>\n",
       "      <td>...</td>\n",
       "      <td>NaN</td>\n",
       "      <td>NaN</td>\n",
       "      <td>NaN</td>\n",
       "      <td>NaN</td>\n",
       "      <td>NaN</td>\n",
       "      <td>NaN</td>\n",
       "      <td>NaN</td>\n",
       "      <td>NaN</td>\n",
       "      <td>NaN</td>\n",
       "      <td>NaN</td>\n",
       "    </tr>\n",
       "    <tr>\n",
       "      <th>0</th>\n",
       "      <td>14</td>\n",
       "      <td>a594f57312006ac6ebcfe07ee98fd7b7</td>\n",
       "      <td>{\"cutoff\": \"quantile_0.25\", \"eval_fairness_gro...</td>\n",
       "      <td>30.67733</td>\n",
       "      <td>89710</td>\n",
       "      <td>1.0</td>\n",
       "      <td>0.043756</td>\n",
       "      <td>0.953507</td>\n",
       "      <td>0.019702</td>\n",
       "      <td>0.975083</td>\n",
       "      <td>...</td>\n",
       "      <td>0.130842</td>\n",
       "      <td>0.161298</td>\n",
       "      <td>0.776799</td>\n",
       "      <td>0.745094</td>\n",
       "      <td>0.102618</td>\n",
       "      <td>0.058862</td>\n",
       "      <td>0.790701</td>\n",
       "      <td>0.770999</td>\n",
       "      <td>20540.0</td>\n",
       "      <td>69170.0</td>\n",
       "    </tr>\n",
       "  </tbody>\n",
       "</table>\n",
       "<p>4 rows × 50 columns</p>\n",
       "</div>"
      ],
      "text/plain": [
       "  run_no                       universe_id  \\\n",
       "0     14  a594f57312006ac6ebcfe07ee98fd7b7   \n",
       "0     14  a594f57312006ac6ebcfe07ee98fd7b7   \n",
       "0     14  a594f57312006ac6ebcfe07ee98fd7b7   \n",
       "0     14  a594f57312006ac6ebcfe07ee98fd7b7   \n",
       "\n",
       "                                   universe_settings  execution_time  \\\n",
       "0  {\"cutoff\": \"quantile_0.1\", \"eval_fairness_grou...        30.67733   \n",
       "0  {\"cutoff\": \"quantile_0.1\", \"eval_fairness_grou...        30.67733   \n",
       "0  {\"cutoff\": \"quantile_0.25\", \"eval_fairness_gro...        30.67733   \n",
       "0  {\"cutoff\": \"quantile_0.25\", \"eval_fairness_gro...        30.67733   \n",
       "\n",
       "   test_size_n  test_size_frac  fair_main_equalized_odds_difference  \\\n",
       "0        89710             1.0                             0.021396   \n",
       "0        89710             1.0                             0.021396   \n",
       "0        89710             1.0                             0.043756   \n",
       "0        89710             1.0                             0.043756   \n",
       "\n",
       "   fair_main_equalized_odds_ratio  fair_main_demographic_parity_difference  \\\n",
       "0                        0.977129                                 0.016695   \n",
       "0                        0.977129                                 0.016695   \n",
       "0                        0.953507                                 0.019702   \n",
       "0                        0.953507                                 0.019702   \n",
       "\n",
       "   fair_main_demographic_parity_ratio  ...  perf_grp_precision_0  \\\n",
       "0                            0.982248  ...                   NaN   \n",
       "0                            0.982248  ...              0.119992   \n",
       "0                            0.975083  ...                   NaN   \n",
       "0                            0.975083  ...              0.130842   \n",
       "\n",
       "   perf_grp_precision_1  perf_grp_false positive rate_0  \\\n",
       "0                   NaN                             NaN   \n",
       "0              0.141252                        0.935505   \n",
       "0                   NaN                             NaN   \n",
       "0              0.161298                        0.776799   \n",
       "\n",
       "   perf_grp_false positive rate_1  perf_grp_false negative rate_0  \\\n",
       "0                             NaN                             NaN   \n",
       "0                        0.914110                        0.021115   \n",
       "0                             NaN                             NaN   \n",
       "0                        0.745094                        0.102618   \n",
       "\n",
       "   perf_grp_false negative rate_1  perf_grp_selection rate_0  \\\n",
       "0                             NaN                        NaN   \n",
       "0                        0.012473                   0.940506   \n",
       "0                             NaN                        NaN   \n",
       "0                        0.058862                   0.790701   \n",
       "\n",
       "   perf_grp_selection rate_1  perf_grp_count_0  perf_grp_count_1  \n",
       "0                        NaN               NaN               NaN  \n",
       "0                   0.923811           20540.0           69170.0  \n",
       "0                        NaN               NaN               NaN  \n",
       "0                   0.770999           20540.0           69170.0  \n",
       "\n",
       "[4 rows x 50 columns]"
      ]
     },
     "execution_count": 79,
     "metadata": {},
     "output_type": "execute_result"
    }
   ],
   "source": [
    "final_output = universe_analysis.generate_final_output(\n",
    "    y_pred_prob=probs_test,\n",
    "    y_test=y_true,\n",
    "    org_test=org_test,\n",
    "    filter_data=filter_sub_universe_data,\n",
    "    cp_metrics_df=cp_metrics_df,\n",
    "    save=True,\n",
    ")\n",
    "final_output"
   ]
  },
  {
   "cell_type": "code",
   "execution_count": null,
   "id": "721ff514-cb11-46f8-b6fc-50392f74b5cb",
   "metadata": {
    "papermill": {
     "duration": 0.028764,
     "end_time": "2025-07-30T21:30:16.465451",
     "exception": false,
     "start_time": "2025-07-30T21:30:16.436687",
     "status": "completed"
    },
    "tags": []
   },
   "outputs": [],
   "source": []
  }
 ],
 "metadata": {
  "celltoolbar": "Tags",
  "kernelspec": {
   "display_name": "Python (CMA Fairness)",
   "language": "python",
   "name": "cma_fair_env"
  },
  "language_info": {
   "codemirror_mode": {
    "name": "ipython",
    "version": 3
   },
   "file_extension": ".py",
   "mimetype": "text/x-python",
   "name": "python",
   "nbconvert_exporter": "python",
   "pygments_lexer": "ipython3",
   "version": "3.10.12"
  },
  "papermill": {
   "default_parameters": {},
   "duration": 44.343988,
   "end_time": "2025-07-30T21:30:17.110495",
   "environment_variables": {},
   "exception": null,
   "input_path": "universe_analysis.ipynb",
   "output_path": "output/runs/14/notebooks/m_14-a594f57312006ac6ebcfe07ee98fd7b7.ipynb",
   "parameters": {
    "output_dir": "output",
    "run_no": "14",
    "seed": "2023",
    "universe": "{\"cutoff\": [\"quantile_0.1\", \"quantile_0.25\"], \"eval_fairness_grouping\": [\"majority-minority\", \"nationality-all\"], \"exclude_features\": \"sex\", \"exclude_subgroups\": \"drop-non-german\", \"model\": \"rf\", \"scale\": \"do-not-scale\", \"training_size\": \"1k\", \"training_year\": \"2014\"}",
    "universe_id": "a594f57312006ac6ebcfe07ee98fd7b7"
   },
   "start_time": "2025-07-30T21:29:32.766507",
   "version": "2.6.0"
  }
 },
 "nbformat": 4,
 "nbformat_minor": 5
}