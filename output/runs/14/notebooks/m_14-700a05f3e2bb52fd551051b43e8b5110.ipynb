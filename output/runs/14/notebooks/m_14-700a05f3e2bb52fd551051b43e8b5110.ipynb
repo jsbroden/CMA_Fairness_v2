{
 "cells": [
  {
   "cell_type": "code",
   "execution_count": 1,
   "id": "f159f837-637b-42ba-96b5-ec9a68c44524",
   "metadata": {
    "execution": {
     "iopub.execute_input": "2025-07-30T20:43:44.404635Z",
     "iopub.status.busy": "2025-07-30T20:43:44.403706Z",
     "iopub.status.idle": "2025-07-30T20:43:44.417119Z",
     "shell.execute_reply": "2025-07-30T20:43:44.416095Z"
    },
    "papermill": {
     "duration": 0.035963,
     "end_time": "2025-07-30T20:43:44.418707",
     "exception": false,
     "start_time": "2025-07-30T20:43:44.382744",
     "status": "completed"
    },
    "tags": []
   },
   "outputs": [
    {
     "name": "stdout",
     "output_type": "stream",
     "text": [
      "/dss/dsshome1/0C/ra93lal2/cma/CMA_Fairness_v2\n"
     ]
    },
    {
     "name": "stderr",
     "output_type": "stream",
     "text": [
      "/dss/dsshome1/0C/ra93lal2/.local/share/virtualenvs/CMA_Fairness_v2-3j10GkSs/lib/python3.10/site-packages/IPython/core/magics/osm.py:393: UserWarning: This is now an optional IPython functionality, using bookmarks requires you to install the `pickleshare` library.\n",
      "  bkms = self.shell.db.get('bookmarks', {})\n",
      "/dss/dsshome1/0C/ra93lal2/.local/share/virtualenvs/CMA_Fairness_v2-3j10GkSs/lib/python3.10/site-packages/IPython/core/magics/osm.py:417: UserWarning: This is now an optional IPython functionality, setting dhist requires you to install the `pickleshare` library.\n",
      "  self.shell.db['dhist'] = compress_dhist(dhist)[-100:]\n"
     ]
    }
   ],
   "source": [
    "%cd ~/cma/CMA_Fairness_v2"
   ]
  },
  {
   "cell_type": "markdown",
   "id": "de2603b9",
   "metadata": {
    "papermill": {
     "duration": 0.018849,
     "end_time": "2025-07-30T20:43:44.457466",
     "exception": false,
     "start_time": "2025-07-30T20:43:44.438617",
     "status": "completed"
    },
    "tags": []
   },
   "source": [
    "The following cell holds the definition of our parameters, these values can be overriden by rendering the with e.g. the following command:\n",
    "\n",
    "papermill -p alpha 0.2 -p ratio 0.3 universe_analysis.ipynb output/test_run.ipynb"
   ]
  },
  {
   "cell_type": "code",
   "execution_count": 2,
   "id": "a80968a0-40bb-4fa9-85ef-2d5eefb01975",
   "metadata": {
    "execution": {
     "iopub.execute_input": "2025-07-30T20:43:44.497517Z",
     "iopub.status.busy": "2025-07-30T20:43:44.496720Z",
     "iopub.status.idle": "2025-07-30T20:43:44.501831Z",
     "shell.execute_reply": "2025-07-30T20:43:44.500976Z"
    },
    "papermill": {
     "duration": 0.027901,
     "end_time": "2025-07-30T20:43:44.503782",
     "exception": false,
     "start_time": "2025-07-30T20:43:44.475881",
     "status": "completed"
    },
    "tags": []
   },
   "outputs": [
    {
     "name": "stdout",
     "output_type": "stream",
     "text": [
      "Current working directory: /dss/dsshome1/0C/ra93lal2/cma/CMA_Fairness_v2\n"
     ]
    }
   ],
   "source": [
    "import os\n",
    "print(\"Current working directory:\", os.getcwd())"
   ]
  },
  {
   "cell_type": "code",
   "execution_count": 3,
   "id": "2dce4c03",
   "metadata": {
    "execution": {
     "iopub.execute_input": "2025-07-30T20:43:44.546983Z",
     "iopub.status.busy": "2025-07-30T20:43:44.546523Z",
     "iopub.status.idle": "2025-07-30T20:43:44.552763Z",
     "shell.execute_reply": "2025-07-30T20:43:44.551818Z"
    },
    "papermill": {
     "duration": 0.029277,
     "end_time": "2025-07-30T20:43:44.554333",
     "exception": false,
     "start_time": "2025-07-30T20:43:44.525056",
     "status": "completed"
    },
    "tags": [
     "parameters"
    ]
   },
   "outputs": [],
   "source": [
    "run_no = 0\n",
    "universe_id = \"test\"\n",
    "universe = {\n",
    "    \"training_size\": \"25k\", # \"25k\", \"5k\", \"1k\"\n",
    "    \"training_year\": \"2014\", # \"2014\", \"2012_14\", \"2010_14\"\n",
    "    \"scale\": \"scale\", # \"scale\", \"do-not-scale\",\n",
    "    #\"stratify_split\": \"target\", # \"none\", \"target\", \"protected-attribute\", \"both\",\n",
    "    \"model\": \"elasticnet\", # \"logreg\", \"penalized_logreg\", \"rf\", \"gbm\", \"elasticnet\"\n",
    "    \"cutoff\": [\"quantile_0.15\", \"quantile_0.30\"],\n",
    "    \"exclude_features\": \"age\", # \"none\", \"nationality\", \"sex\", \"nationality-sex\", \"age\"\n",
    "    \"exclude_subgroups\": \"keep-all\", # \"keep-all\", \"drop-non-german\"\n",
    "    \"eval_fairness_grouping\": [\"majority-minority\", \"nationality-all\"]\n",
    "}\n",
    "\n",
    "output_dir=\"./output\"\n",
    "seed=0"
   ]
  },
  {
   "cell_type": "code",
   "execution_count": 4,
   "id": "6840d74e",
   "metadata": {
    "execution": {
     "iopub.execute_input": "2025-07-30T20:43:44.598456Z",
     "iopub.status.busy": "2025-07-30T20:43:44.598063Z",
     "iopub.status.idle": "2025-07-30T20:43:44.603191Z",
     "shell.execute_reply": "2025-07-30T20:43:44.602385Z"
    },
    "papermill": {
     "duration": 0.027598,
     "end_time": "2025-07-30T20:43:44.604568",
     "exception": false,
     "start_time": "2025-07-30T20:43:44.576970",
     "status": "completed"
    },
    "tags": [
     "injected-parameters"
    ]
   },
   "outputs": [],
   "source": [
    "# Parameters\n",
    "universe_id = \"700a05f3e2bb52fd551051b43e8b5110\"\n",
    "run_no = \"14\"\n",
    "universe = \"{\\\"cutoff\\\": [\\\"quantile_0.1\\\", \\\"quantile_0.25\\\"], \\\"eval_fairness_grouping\\\": [\\\"majority-minority\\\", \\\"nationality-all\\\"], \\\"exclude_features\\\": \\\"age\\\", \\\"exclude_subgroups\\\": \\\"keep-all\\\", \\\"model\\\": \\\"logreg\\\", \\\"scale\\\": \\\"scale\\\", \\\"training_size\\\": \\\"5k\\\", \\\"training_year\\\": \\\"2014\\\"}\"\n",
    "output_dir = \"output\"\n",
    "seed = \"2023\"\n"
   ]
  },
  {
   "cell_type": "code",
   "execution_count": 5,
   "id": "1650acaf",
   "metadata": {
    "execution": {
     "iopub.execute_input": "2025-07-30T20:43:44.627239Z",
     "iopub.status.busy": "2025-07-30T20:43:44.626649Z",
     "iopub.status.idle": "2025-07-30T20:43:44.630968Z",
     "shell.execute_reply": "2025-07-30T20:43:44.630234Z"
    },
    "papermill": {
     "duration": 0.01638,
     "end_time": "2025-07-30T20:43:44.632298",
     "exception": false,
     "start_time": "2025-07-30T20:43:44.615918",
     "status": "completed"
    },
    "tags": []
   },
   "outputs": [],
   "source": [
    "import json\n",
    "# Parse universe into dict if it is passed as a string\n",
    "if isinstance(universe, str):\n",
    "    universe = json.loads(universe)"
   ]
  },
  {
   "cell_type": "code",
   "execution_count": 6,
   "id": "16620c48",
   "metadata": {
    "execution": {
     "iopub.execute_input": "2025-07-30T20:43:44.658307Z",
     "iopub.status.busy": "2025-07-30T20:43:44.657514Z",
     "iopub.status.idle": "2025-07-30T20:43:44.700578Z",
     "shell.execute_reply": "2025-07-30T20:43:44.699771Z"
    },
    "papermill": {
     "duration": 0.058549,
     "end_time": "2025-07-30T20:43:44.702124",
     "exception": false,
     "start_time": "2025-07-30T20:43:44.643575",
     "status": "completed"
    },
    "tags": []
   },
   "outputs": [],
   "source": [
    "# Auto-reload the custom package\n",
    "%load_ext autoreload\n",
    "%autoreload 1\n",
    "%aimport fairness_multiverse"
   ]
  },
  {
   "cell_type": "code",
   "execution_count": 7,
   "id": "01c5c9f3",
   "metadata": {
    "execution": {
     "iopub.execute_input": "2025-07-30T20:43:44.725474Z",
     "iopub.status.busy": "2025-07-30T20:43:44.724753Z",
     "iopub.status.idle": "2025-07-30T20:43:46.585957Z",
     "shell.execute_reply": "2025-07-30T20:43:46.585050Z"
    },
    "papermill": {
     "duration": 1.874842,
     "end_time": "2025-07-30T20:43:46.587756",
     "exception": false,
     "start_time": "2025-07-30T20:43:44.712914",
     "status": "completed"
    },
    "tags": []
   },
   "outputs": [],
   "source": [
    "from fairness_multiverse.universe import UniverseAnalysis\n",
    "\n",
    "universe_analysis = UniverseAnalysis(\n",
    "    run_no = run_no,\n",
    "    universe_id = universe_id,\n",
    "    universe = universe,\n",
    "    output_dir=output_dir,\n",
    ")"
   ]
  },
  {
   "cell_type": "code",
   "execution_count": 8,
   "id": "106241f5",
   "metadata": {
    "execution": {
     "iopub.execute_input": "2025-07-30T20:43:46.627674Z",
     "iopub.status.busy": "2025-07-30T20:43:46.627206Z",
     "iopub.status.idle": "2025-07-30T20:43:46.633417Z",
     "shell.execute_reply": "2025-07-30T20:43:46.632512Z"
    },
    "papermill": {
     "duration": 0.028068,
     "end_time": "2025-07-30T20:43:46.635211",
     "exception": false,
     "start_time": "2025-07-30T20:43:46.607143",
     "status": "completed"
    },
    "tags": []
   },
   "outputs": [
    {
     "name": "stdout",
     "output_type": "stream",
     "text": [
      "Using Seed: 2023\n"
     ]
    }
   ],
   "source": [
    "import numpy as np\n",
    "parsed_seed = int(seed)\n",
    "np.random.seed(parsed_seed)\n",
    "print(f\"Using Seed: {parsed_seed}\")"
   ]
  },
  {
   "cell_type": "markdown",
   "id": "e0ebdc57",
   "metadata": {
    "papermill": {
     "duration": 0.018446,
     "end_time": "2025-07-30T20:43:46.674431",
     "exception": false,
     "start_time": "2025-07-30T20:43:46.655985",
     "status": "completed"
    },
    "tags": []
   },
   "source": [
    "# Loading Data"
   ]
  },
  {
   "cell_type": "markdown",
   "id": "681925a3",
   "metadata": {
    "papermill": {
     "duration": 0.01878,
     "end_time": "2025-07-30T20:43:46.711913",
     "exception": false,
     "start_time": "2025-07-30T20:43:46.693133",
     "status": "completed"
    },
    "tags": []
   },
   "source": [
    "Load siab_train, siab_test, siab_calib and/or \n",
    "load siab_train_features, siab_train_labels"
   ]
  },
  {
   "cell_type": "code",
   "execution_count": 9,
   "id": "f0496b8a",
   "metadata": {
    "execution": {
     "iopub.execute_input": "2025-07-30T20:43:46.751017Z",
     "iopub.status.busy": "2025-07-30T20:43:46.750333Z",
     "iopub.status.idle": "2025-07-30T20:43:58.437169Z",
     "shell.execute_reply": "2025-07-30T20:43:58.435951Z"
    },
    "papermill": {
     "duration": 11.708457,
     "end_time": "2025-07-30T20:43:58.438908",
     "exception": false,
     "start_time": "2025-07-30T20:43:46.730451",
     "status": "completed"
    },
    "tags": []
   },
   "outputs": [
    {
     "name": "stdout",
     "output_type": "stream",
     "text": [
      "Loading SIAB data from cache: data/siab_cached.csv.gz\n"
     ]
    },
    {
     "name": "stdout",
     "output_type": "stream",
     "text": [
      "(643690, 164)\n"
     ]
    }
   ],
   "source": [
    "from pathlib import Path\n",
    "import pandas as pd\n",
    "\n",
    "# File paths\n",
    "raw_file = Path(\"data/raw/siab.csv\")\n",
    "cache_file = Path(\"data/siab_cached.csv.gz\")\n",
    "\n",
    "# Ensure cache directory exists\n",
    "cache_file.parent.mkdir(parents=True, exist_ok=True)\n",
    "\n",
    "# Load with simple caching\n",
    "if cache_file.exists():\n",
    "    print(f\"Loading SIAB data from cache: {cache_file}\")\n",
    "    siab = pd.read_csv(cache_file, compression='gzip')\n",
    "else:\n",
    "    print(f\"Cache not found. Reading raw SIAB data: {raw_file}\")\n",
    "    siab = pd.read_csv(raw_file)\n",
    "    siab.to_csv(cache_file, index=False, compression='gzip')\n",
    "    print(f\"Cached SIAB data to: {cache_file}\")\n",
    "\n",
    "# Now use `siab` DataFrame as needed\n",
    "print(siab.shape)"
   ]
  },
  {
   "cell_type": "code",
   "execution_count": 10,
   "id": "db0ca512-5f53-4dba-abdb-a2888bca41ba",
   "metadata": {
    "execution": {
     "iopub.execute_input": "2025-07-30T20:43:58.482703Z",
     "iopub.status.busy": "2025-07-30T20:43:58.482328Z",
     "iopub.status.idle": "2025-07-30T20:43:58.486964Z",
     "shell.execute_reply": "2025-07-30T20:43:58.486051Z"
    },
    "papermill": {
     "duration": 0.017626,
     "end_time": "2025-07-30T20:43:58.488170",
     "exception": false,
     "start_time": "2025-07-30T20:43:58.470544",
     "status": "completed"
    },
    "tags": []
   },
   "outputs": [],
   "source": [
    "#siab"
   ]
  },
  {
   "cell_type": "code",
   "execution_count": 11,
   "id": "a0edb063",
   "metadata": {
    "execution": {
     "iopub.execute_input": "2025-07-30T20:43:58.511260Z",
     "iopub.status.busy": "2025-07-30T20:43:58.510838Z",
     "iopub.status.idle": "2025-07-30T20:43:58.514897Z",
     "shell.execute_reply": "2025-07-30T20:43:58.514122Z"
    },
    "papermill": {
     "duration": 0.016321,
     "end_time": "2025-07-30T20:43:58.516188",
     "exception": false,
     "start_time": "2025-07-30T20:43:58.499867",
     "status": "completed"
    },
    "tags": []
   },
   "outputs": [],
   "source": [
    "#import pandas as pd\n",
    "#\n",
    "#X_train = pd.read_csv(\"./data/X_train.csv\")\n",
    "#y_train = pd.read_csv(\"./data/y_train.csv\")"
   ]
  },
  {
   "cell_type": "code",
   "execution_count": 12,
   "id": "63d08085",
   "metadata": {
    "execution": {
     "iopub.execute_input": "2025-07-30T20:43:58.559394Z",
     "iopub.status.busy": "2025-07-30T20:43:58.558937Z",
     "iopub.status.idle": "2025-07-30T20:43:58.563725Z",
     "shell.execute_reply": "2025-07-30T20:43:58.562757Z"
    },
    "papermill": {
     "duration": 0.029149,
     "end_time": "2025-07-30T20:43:58.565412",
     "exception": false,
     "start_time": "2025-07-30T20:43:58.536263",
     "status": "completed"
    },
    "tags": []
   },
   "outputs": [],
   "source": [
    "#X_test = pd.read_csv(\"./data/X_test.csv\")\n",
    "#y_true = pd.read_csv(\"./data/y_test.csv\")"
   ]
  },
  {
   "cell_type": "code",
   "execution_count": 13,
   "id": "98a8d0fa-1d3d-4ed8-bb2c-281470e24add",
   "metadata": {
    "execution": {
     "iopub.execute_input": "2025-07-30T20:43:58.607852Z",
     "iopub.status.busy": "2025-07-30T20:43:58.607042Z",
     "iopub.status.idle": "2025-07-30T20:43:58.612925Z",
     "shell.execute_reply": "2025-07-30T20:43:58.611811Z"
    },
    "papermill": {
     "duration": 0.030743,
     "end_time": "2025-07-30T20:43:58.614555",
     "exception": false,
     "start_time": "2025-07-30T20:43:58.583812",
     "status": "completed"
    },
    "tags": []
   },
   "outputs": [],
   "source": [
    "# Calibration data for conformal\n",
    "#X_calib = pd.read_csv(\"./data/X_calib.csv\")\n",
    "#y_calib = pd.read_csv(\"./data/y_calib.csv\")"
   ]
  },
  {
   "cell_type": "markdown",
   "id": "997051c5-15bd-4b69-9786-c3001a3ce484",
   "metadata": {
    "papermill": {
     "duration": 0.018834,
     "end_time": "2025-07-30T20:43:58.655307",
     "exception": false,
     "start_time": "2025-07-30T20:43:58.636473",
     "status": "completed"
    },
    "tags": []
   },
   "source": [
    "# Splitting Data and Setting Training Data Size"
   ]
  },
  {
   "cell_type": "code",
   "execution_count": 14,
   "id": "e993b61f-042d-41a6-8c81-f55681f86335",
   "metadata": {
    "execution": {
     "iopub.execute_input": "2025-07-30T20:43:58.698640Z",
     "iopub.status.busy": "2025-07-30T20:43:58.698245Z",
     "iopub.status.idle": "2025-07-30T20:43:58.710740Z",
     "shell.execute_reply": "2025-07-30T20:43:58.709674Z"
    },
    "papermill": {
     "duration": 0.036201,
     "end_time": "2025-07-30T20:43:58.712290",
     "exception": false,
     "start_time": "2025-07-30T20:43:58.676089",
     "status": "completed"
    },
    "tags": []
   },
   "outputs": [],
   "source": [
    "def sample_by_year_size(df,\n",
    "                        training_year: str,\n",
    "                        training_size: str,\n",
    "                        random_state: int = 42):\n",
    "    # --- parse training_year into a list of int years ---\n",
    "    if \"_\" in training_year:\n",
    "        start_str, end_str = training_year.split(\"_\", 1)\n",
    "        start = int(start_str)\n",
    "        end   = int(end_str) if len(end_str) == 4 else (int(end_str) + (start // 100)*100)\n",
    "        years = list(range(start, end + 1))\n",
    "    else:\n",
    "        years = [int(training_year)]\n",
    "\n",
    "    df = df[df[\"year\"].isin(years)].reset_index(drop=True)\n",
    "\n",
    "    # --- map training_size to total number of samples ---\n",
    "    total_map = {\"25k\": 25_000, \"5k\": 5_000, \"1k\": 1_000}\n",
    "    if training_size not in total_map:\n",
    "        return df  # e.g. \"all\"\n",
    "\n",
    "    total_samples = total_map[training_size]\n",
    "    n_years       = len(years)\n",
    "    base          = total_samples // n_years\n",
    "    remainder     = total_samples % n_years\n",
    "\n",
    "    # --- build a dict: year -> how many to sample ---\n",
    "    # give +1 to the first `remainder` years in ascending order\n",
    "    quotas = {\n",
    "        year: base + (1 if idx < remainder else 0)\n",
    "        for idx, year in enumerate(sorted(years))\n",
    "    }\n",
    "\n",
    "    # --- sample per‐year according to the quota dict ---\n",
    "    sampled = (\n",
    "        df\n",
    "        .groupby(\"year\", group_keys=False)\n",
    "        .apply(lambda grp: grp.sample(\n",
    "            n=min(len(grp), quotas[grp.name]),\n",
    "            random_state=random_state))\n",
    "        .reset_index(drop=True)\n",
    "    )\n",
    "\n",
    "    return sampled"
   ]
  },
  {
   "cell_type": "code",
   "execution_count": 15,
   "id": "c0ccd338-0e02-41f3-a09d-f56f9266e3fb",
   "metadata": {
    "execution": {
     "iopub.execute_input": "2025-07-30T20:43:58.737714Z",
     "iopub.status.busy": "2025-07-30T20:43:58.737368Z",
     "iopub.status.idle": "2025-07-30T20:43:58.741378Z",
     "shell.execute_reply": "2025-07-30T20:43:58.740685Z"
    },
    "papermill": {
     "duration": 0.018194,
     "end_time": "2025-07-30T20:43:58.742681",
     "exception": false,
     "start_time": "2025-07-30T20:43:58.724487",
     "status": "completed"
    },
    "tags": []
   },
   "outputs": [],
   "source": [
    "#universe[\"training_size\"]"
   ]
  },
  {
   "cell_type": "code",
   "execution_count": 16,
   "id": "ca707fd7-8047-4acd-bfa5-66248fbbf8e6",
   "metadata": {
    "execution": {
     "iopub.execute_input": "2025-07-30T20:43:58.767172Z",
     "iopub.status.busy": "2025-07-30T20:43:58.766639Z",
     "iopub.status.idle": "2025-07-30T20:43:58.771144Z",
     "shell.execute_reply": "2025-07-30T20:43:58.770336Z"
    },
    "papermill": {
     "duration": 0.018366,
     "end_time": "2025-07-30T20:43:58.772612",
     "exception": false,
     "start_time": "2025-07-30T20:43:58.754246",
     "status": "completed"
    },
    "tags": []
   },
   "outputs": [],
   "source": [
    "#universe[\"training_year\"]"
   ]
  },
  {
   "cell_type": "code",
   "execution_count": 17,
   "id": "aea9c6ef-6f46-42c8-85eb-5a62025c1508",
   "metadata": {
    "execution": {
     "iopub.execute_input": "2025-07-30T20:43:58.798324Z",
     "iopub.status.busy": "2025-07-30T20:43:58.797791Z",
     "iopub.status.idle": "2025-07-30T20:43:59.015876Z",
     "shell.execute_reply": "2025-07-30T20:43:59.015008Z"
    },
    "papermill": {
     "duration": 0.232385,
     "end_time": "2025-07-30T20:43:59.017254",
     "exception": false,
     "start_time": "2025-07-30T20:43:58.784869",
     "status": "completed"
    },
    "tags": []
   },
   "outputs": [],
   "source": [
    "siab_train = sample_by_year_size(siab,\n",
    "                               training_year=universe[\"training_year\"],\n",
    "                               training_size=universe[\"training_size\"])"
   ]
  },
  {
   "cell_type": "code",
   "execution_count": 18,
   "id": "8d3afb32-789d-442c-8d5d-9f5aa8dd2eed",
   "metadata": {
    "execution": {
     "iopub.execute_input": "2025-07-30T20:43:59.040748Z",
     "iopub.status.busy": "2025-07-30T20:43:59.040077Z",
     "iopub.status.idle": "2025-07-30T20:43:59.044157Z",
     "shell.execute_reply": "2025-07-30T20:43:59.043472Z"
    },
    "papermill": {
     "duration": 0.016772,
     "end_time": "2025-07-30T20:43:59.045480",
     "exception": false,
     "start_time": "2025-07-30T20:43:59.028708",
     "status": "completed"
    },
    "tags": []
   },
   "outputs": [],
   "source": [
    "#siab_train.shape"
   ]
  },
  {
   "cell_type": "code",
   "execution_count": 19,
   "id": "d582db68-1a4c-47fb-84fc-08518dc1975a",
   "metadata": {
    "execution": {
     "iopub.execute_input": "2025-07-30T20:43:59.069355Z",
     "iopub.status.busy": "2025-07-30T20:43:59.068927Z",
     "iopub.status.idle": "2025-07-30T20:43:59.072911Z",
     "shell.execute_reply": "2025-07-30T20:43:59.072211Z"
    },
    "papermill": {
     "duration": 0.016396,
     "end_time": "2025-07-30T20:43:59.074127",
     "exception": false,
     "start_time": "2025-07-30T20:43:59.057731",
     "status": "completed"
    },
    "tags": []
   },
   "outputs": [],
   "source": [
    "#display(siab_train.groupby(\"year\").size())"
   ]
  },
  {
   "cell_type": "code",
   "execution_count": 20,
   "id": "a561edb4-d032-42cb-8256-22eac1111c64",
   "metadata": {
    "execution": {
     "iopub.execute_input": "2025-07-30T20:43:59.097892Z",
     "iopub.status.busy": "2025-07-30T20:43:59.097242Z",
     "iopub.status.idle": "2025-07-30T20:43:59.298547Z",
     "shell.execute_reply": "2025-07-30T20:43:59.297811Z"
    },
    "papermill": {
     "duration": 0.214369,
     "end_time": "2025-07-30T20:43:59.300050",
     "exception": false,
     "start_time": "2025-07-30T20:43:59.085681",
     "status": "completed"
    },
    "tags": []
   },
   "outputs": [],
   "source": [
    "#siab_train = siab_s[siab_s.year < 2015]\n",
    "siab_calib = siab[siab.year == 2015]\n",
    "siab_test = siab[siab.year == 2016]"
   ]
  },
  {
   "cell_type": "code",
   "execution_count": 21,
   "id": "472de16f-c3db-4916-846b-1f0de9cf1746",
   "metadata": {
    "execution": {
     "iopub.execute_input": "2025-07-30T20:43:59.322861Z",
     "iopub.status.busy": "2025-07-30T20:43:59.322538Z",
     "iopub.status.idle": "2025-07-30T20:43:59.329264Z",
     "shell.execute_reply": "2025-07-30T20:43:59.328290Z"
    },
    "papermill": {
     "duration": 0.019299,
     "end_time": "2025-07-30T20:43:59.330560",
     "exception": false,
     "start_time": "2025-07-30T20:43:59.311261",
     "status": "completed"
    },
    "tags": []
   },
   "outputs": [],
   "source": [
    "X_train = siab_train.iloc[:,4:164]\n",
    "y_train = siab_train.iloc[:, [3]]"
   ]
  },
  {
   "cell_type": "code",
   "execution_count": 22,
   "id": "828c96af-f43a-4ed6-ba47-8ac73a47d56c",
   "metadata": {
    "execution": {
     "iopub.execute_input": "2025-07-30T20:43:59.355967Z",
     "iopub.status.busy": "2025-07-30T20:43:59.355297Z",
     "iopub.status.idle": "2025-07-30T20:43:59.402553Z",
     "shell.execute_reply": "2025-07-30T20:43:59.401812Z"
    },
    "papermill": {
     "duration": 0.06129,
     "end_time": "2025-07-30T20:43:59.404238",
     "exception": false,
     "start_time": "2025-07-30T20:43:59.342948",
     "status": "completed"
    },
    "tags": []
   },
   "outputs": [],
   "source": [
    "X_calib = siab_calib.iloc[:,4:164]\n",
    "y_calib = siab_calib.iloc[:, [3]]"
   ]
  },
  {
   "cell_type": "code",
   "execution_count": 23,
   "id": "c34be9c3-6bd6-476e-acd3-845840e303be",
   "metadata": {
    "execution": {
     "iopub.execute_input": "2025-07-30T20:43:59.428968Z",
     "iopub.status.busy": "2025-07-30T20:43:59.428235Z",
     "iopub.status.idle": "2025-07-30T20:43:59.476503Z",
     "shell.execute_reply": "2025-07-30T20:43:59.475596Z"
    },
    "papermill": {
     "duration": 0.060978,
     "end_time": "2025-07-30T20:43:59.477780",
     "exception": false,
     "start_time": "2025-07-30T20:43:59.416802",
     "status": "completed"
    },
    "tags": []
   },
   "outputs": [],
   "source": [
    "X_test = siab_test.iloc[:,4:164]\n",
    "y_true = siab_test.iloc[:, [3]]"
   ]
  },
  {
   "cell_type": "markdown",
   "id": "9901737e-04df-44f0-9100-f5ad144ed040",
   "metadata": {
    "papermill": {
     "duration": 0.010801,
     "end_time": "2025-07-30T20:43:59.500998",
     "exception": false,
     "start_time": "2025-07-30T20:43:59.490197",
     "status": "completed"
    },
    "tags": []
   },
   "source": [
    "# Splitting Data and Setting Training Data Size OLD VERSION"
   ]
  },
  {
   "cell_type": "code",
   "execution_count": 24,
   "id": "acbc8f7d-8fc8-4e86-8c59-5dcb0f58384b",
   "metadata": {
    "execution": {
     "iopub.execute_input": "2025-07-30T20:43:59.523491Z",
     "iopub.status.busy": "2025-07-30T20:43:59.523089Z",
     "iopub.status.idle": "2025-07-30T20:43:59.527598Z",
     "shell.execute_reply": "2025-07-30T20:43:59.526932Z"
    },
    "papermill": {
     "duration": 0.017666,
     "end_time": "2025-07-30T20:43:59.529058",
     "exception": false,
     "start_time": "2025-07-30T20:43:59.511392",
     "status": "completed"
    },
    "tags": []
   },
   "outputs": [],
   "source": [
    "#def sample_by_year(df, training_size, random_state=42):\n",
    "#    if training_size == \"2014\":\n",
    "#        return df[df[\"year\"] == 2014].reset_index(drop=True)\n",
    "#    \n",
    "#    size_map = {\n",
    "#        \"25k\": 5000,\n",
    "#        \"5k\": 1000,\n",
    "#        \"1k\": 200\n",
    "#    }\n",
    "#\n",
    "#    if training_size not in size_map:\n",
    "#        return df.reset_index(drop=True)  # use all data\n",
    "#\n",
    "#    n_per_year = size_map[training_size]\n",
    "#    grouped = df.groupby(\"year\")\n",
    "#    sampled = grouped.apply(lambda x: x.sample(n=min(n_per_year, len(x)), random_state=random_state))\n",
    "#    return sampled.reset_index(drop=True)"
   ]
  },
  {
   "cell_type": "code",
   "execution_count": 25,
   "id": "6d931f52-beaf-43ff-9e78-9d44a448d54e",
   "metadata": {
    "execution": {
     "iopub.execute_input": "2025-07-30T20:43:59.553162Z",
     "iopub.status.busy": "2025-07-30T20:43:59.552524Z",
     "iopub.status.idle": "2025-07-30T20:43:59.556762Z",
     "shell.execute_reply": "2025-07-30T20:43:59.556025Z"
    },
    "papermill": {
     "duration": 0.017196,
     "end_time": "2025-07-30T20:43:59.558079",
     "exception": false,
     "start_time": "2025-07-30T20:43:59.540883",
     "status": "completed"
    },
    "tags": []
   },
   "outputs": [],
   "source": [
    "#siab_s = sample_by_year(siab, universe[\"training_size\"])"
   ]
  },
  {
   "cell_type": "code",
   "execution_count": 26,
   "id": "5db0a40e-a4e2-4920-be85-b12ae061d70d",
   "metadata": {
    "execution": {
     "iopub.execute_input": "2025-07-30T20:43:59.582098Z",
     "iopub.status.busy": "2025-07-30T20:43:59.581460Z",
     "iopub.status.idle": "2025-07-30T20:43:59.585747Z",
     "shell.execute_reply": "2025-07-30T20:43:59.585092Z"
    },
    "papermill": {
     "duration": 0.017177,
     "end_time": "2025-07-30T20:43:59.587111",
     "exception": false,
     "start_time": "2025-07-30T20:43:59.569934",
     "status": "completed"
    },
    "tags": []
   },
   "outputs": [],
   "source": [
    "#display(siab_s.groupby(\"year\").size())"
   ]
  },
  {
   "cell_type": "code",
   "execution_count": 27,
   "id": "e6c733c5",
   "metadata": {
    "execution": {
     "iopub.execute_input": "2025-07-30T20:43:59.611177Z",
     "iopub.status.busy": "2025-07-30T20:43:59.610665Z",
     "iopub.status.idle": "2025-07-30T20:43:59.697076Z",
     "shell.execute_reply": "2025-07-30T20:43:59.695937Z"
    },
    "papermill": {
     "duration": 0.099777,
     "end_time": "2025-07-30T20:43:59.698955",
     "exception": false,
     "start_time": "2025-07-30T20:43:59.599178",
     "status": "completed"
    },
    "tags": []
   },
   "outputs": [],
   "source": [
    "# Auxiliary data needed downstream in the pipeline\n",
    "\n",
    "org_train = X_train.copy()\n",
    "org_test = X_test.copy()\n",
    "org_calib = X_calib.copy()"
   ]
  },
  {
   "cell_type": "code",
   "execution_count": 28,
   "id": "1466abac-c6da-4492-a62f-4240ae3783af",
   "metadata": {
    "execution": {
     "iopub.execute_input": "2025-07-30T20:43:59.747466Z",
     "iopub.status.busy": "2025-07-30T20:43:59.746612Z",
     "iopub.status.idle": "2025-07-30T20:43:59.753569Z",
     "shell.execute_reply": "2025-07-30T20:43:59.752588Z"
    },
    "papermill": {
     "duration": 0.034133,
     "end_time": "2025-07-30T20:43:59.757289",
     "exception": false,
     "start_time": "2025-07-30T20:43:59.723156",
     "status": "completed"
    },
    "tags": []
   },
   "outputs": [],
   "source": [
    "# put in other script?\n",
    "# Group sizes\n",
    "\n",
    "#def calculate_percentages(df, df_name):\n",
    "#    total_entries = len(df)\n",
    "#\n",
    "#    female_pct = (df['frau1'] == 1).mean() * 100\n",
    "#    non_german_pct = ((df['maxdeutsch1'] == 0) & (df['maxdeutsch.Missing.'] == 0)).mean() * 100\n",
    "#    non_german_male_pct = ((df['frau1'] == 0) & (df['maxdeutsch1'] == 0) & (df['maxdeutsch.Missing.'] == 0)).mean() * 100\n",
    "#    non_german_female_pct = ((df['frau1'] == 1) & (df['maxdeutsch1'] == 0) & (df['maxdeutsch.Missing.'] == 0)).mean() * 100\n",
    "#\n",
    "#    print(f\"--- {df_name} ---\")\n",
    "#    print(f\"Female: {female_pct:.2f}%\")\n",
    "#    print(f\"Non-German: {non_german_pct:.2f}%\")\n",
    "#    print(f\"Non-German Male: {non_german_male_pct:.2f}%\")\n",
    "#    print(f\"Non-German Female: {non_german_female_pct:.2f}%\\n\")\n",
    "#\n",
    "## Calculate for each DataFrame\n",
    "#calculate_percentages(siab_calib, \"siab_calib\")\n",
    "#calculate_percentages(siab_test, \"siab_test\")\n",
    "#calculate_percentages(siab_train, \"siab_train\")"
   ]
  },
  {
   "cell_type": "markdown",
   "id": "0a4a1b33",
   "metadata": {
    "papermill": {
     "duration": 0.024443,
     "end_time": "2025-07-30T20:43:59.806459",
     "exception": false,
     "start_time": "2025-07-30T20:43:59.782016",
     "status": "completed"
    },
    "tags": []
   },
   "source": [
    "# Preprocessing Data"
   ]
  },
  {
   "cell_type": "code",
   "execution_count": 29,
   "id": "ca879031",
   "metadata": {
    "execution": {
     "iopub.execute_input": "2025-07-30T20:43:59.853919Z",
     "iopub.status.busy": "2025-07-30T20:43:59.853246Z",
     "iopub.status.idle": "2025-07-30T20:43:59.859411Z",
     "shell.execute_reply": "2025-07-30T20:43:59.858431Z"
    },
    "papermill": {
     "duration": 0.031786,
     "end_time": "2025-07-30T20:43:59.861065",
     "exception": false,
     "start_time": "2025-07-30T20:43:59.829279",
     "status": "completed"
    },
    "tags": []
   },
   "outputs": [],
   "source": [
    "# EXCLUDE PROTECTED FEATURES\n",
    "# ----------------------\n",
    "# \"exclude_features\": \"none\", # \"nationality\", \"sex\", \"nationality-sex\"\n",
    "\n",
    "excluded_features = universe[\"exclude_features\"].split(\"-\") # split, e.g.: \"nationality-sex\" -> [\"nationality\", \"sex\"]\n",
    "excluded_features_dictionary = {\n",
    "    \"nationality\": [\"maxdeutsch1\", \"maxdeutsch.Missing.\"],\n",
    "    \"sex\": [\"frau1\"],\n",
    "    \"age\": [\"age\"],\n",
    "}\n"
   ]
  },
  {
   "cell_type": "code",
   "execution_count": 30,
   "id": "b745ac60",
   "metadata": {
    "execution": {
     "iopub.execute_input": "2025-07-30T20:43:59.909231Z",
     "iopub.status.busy": "2025-07-30T20:43:59.908560Z",
     "iopub.status.idle": "2025-07-30T20:43:59.914410Z",
     "shell.execute_reply": "2025-07-30T20:43:59.913295Z"
    },
    "papermill": {
     "duration": 0.031427,
     "end_time": "2025-07-30T20:43:59.916199",
     "exception": false,
     "start_time": "2025-07-30T20:43:59.884772",
     "status": "completed"
    },
    "tags": []
   },
   "outputs": [],
   "source": [
    "# Code nice names to column names\n",
    "\n",
    "excluded_features_columns = [\n",
    "    excluded_features_dictionary[f] for f in excluded_features if len(f) > 0 and f != \"none\"\n",
    "]"
   ]
  },
  {
   "cell_type": "code",
   "execution_count": 31,
   "id": "f84f73a2",
   "metadata": {
    "execution": {
     "iopub.execute_input": "2025-07-30T20:43:59.965105Z",
     "iopub.status.busy": "2025-07-30T20:43:59.964460Z",
     "iopub.status.idle": "2025-07-30T20:43:59.971434Z",
     "shell.execute_reply": "2025-07-30T20:43:59.970528Z"
    },
    "papermill": {
     "duration": 0.03307,
     "end_time": "2025-07-30T20:43:59.973247",
     "exception": false,
     "start_time": "2025-07-30T20:43:59.940177",
     "status": "completed"
    },
    "tags": []
   },
   "outputs": [],
   "source": [
    "from utils import flatten_once\n",
    "\n",
    "excluded_features_columns = flatten_once(excluded_features_columns)"
   ]
  },
  {
   "cell_type": "code",
   "execution_count": 32,
   "id": "884dea22",
   "metadata": {
    "execution": {
     "iopub.execute_input": "2025-07-30T20:44:00.021836Z",
     "iopub.status.busy": "2025-07-30T20:44:00.020981Z",
     "iopub.status.idle": "2025-07-30T20:44:00.030655Z",
     "shell.execute_reply": "2025-07-30T20:44:00.029635Z"
    },
    "papermill": {
     "duration": 0.035245,
     "end_time": "2025-07-30T20:44:00.032383",
     "exception": false,
     "start_time": "2025-07-30T20:43:59.997138",
     "status": "completed"
    },
    "tags": []
   },
   "outputs": [
    {
     "name": "stdout",
     "output_type": "stream",
     "text": [
      "Dropping features: ['age']\n"
     ]
    }
   ],
   "source": [
    "if len(excluded_features_columns) > 0:\n",
    "    print(f\"Dropping features: {excluded_features_columns}\")\n",
    "    X_train.drop(excluded_features_columns, axis=1, inplace=True)"
   ]
  },
  {
   "cell_type": "code",
   "execution_count": 33,
   "id": "95ab8b16",
   "metadata": {
    "execution": {
     "iopub.execute_input": "2025-07-30T20:44:00.076669Z",
     "iopub.status.busy": "2025-07-30T20:44:00.075626Z",
     "iopub.status.idle": "2025-07-30T20:44:00.129372Z",
     "shell.execute_reply": "2025-07-30T20:44:00.128264Z"
    },
    "papermill": {
     "duration": 0.076624,
     "end_time": "2025-07-30T20:44:00.131122",
     "exception": false,
     "start_time": "2025-07-30T20:44:00.054498",
     "status": "completed"
    },
    "tags": []
   },
   "outputs": [
    {
     "name": "stdout",
     "output_type": "stream",
     "text": [
      "Dropping features: ['age']\n"
     ]
    }
   ],
   "source": [
    "if len(excluded_features_columns) > 0:\n",
    "    print(f\"Dropping features: {excluded_features_columns}\")\n",
    "    X_test.drop(excluded_features_columns, axis=1, inplace=True)"
   ]
  },
  {
   "cell_type": "code",
   "execution_count": 34,
   "id": "1853aaf5-fb9f-46cb-a2b5-8ea4ae2237e4",
   "metadata": {
    "execution": {
     "iopub.execute_input": "2025-07-30T20:44:00.175084Z",
     "iopub.status.busy": "2025-07-30T20:44:00.174396Z",
     "iopub.status.idle": "2025-07-30T20:44:00.228061Z",
     "shell.execute_reply": "2025-07-30T20:44:00.226989Z"
    },
    "papermill": {
     "duration": 0.076935,
     "end_time": "2025-07-30T20:44:00.229683",
     "exception": false,
     "start_time": "2025-07-30T20:44:00.152748",
     "status": "completed"
    },
    "tags": []
   },
   "outputs": [
    {
     "name": "stdout",
     "output_type": "stream",
     "text": [
      "Dropping features: ['age']\n"
     ]
    }
   ],
   "source": [
    "if len(excluded_features_columns) > 0:\n",
    "    print(f\"Dropping features: {excluded_features_columns}\")\n",
    "    X_calib.drop(excluded_features_columns, axis=1, inplace=True)"
   ]
  },
  {
   "cell_type": "code",
   "execution_count": 35,
   "id": "6727d079-03e5-481e-9d38-292a90b7a0a8",
   "metadata": {
    "execution": {
     "iopub.execute_input": "2025-07-30T20:44:00.273983Z",
     "iopub.status.busy": "2025-07-30T20:44:00.273300Z",
     "iopub.status.idle": "2025-07-30T20:44:00.278337Z",
     "shell.execute_reply": "2025-07-30T20:44:00.277266Z"
    },
    "papermill": {
     "duration": 0.028052,
     "end_time": "2025-07-30T20:44:00.279947",
     "exception": false,
     "start_time": "2025-07-30T20:44:00.251895",
     "status": "completed"
    },
    "tags": []
   },
   "outputs": [],
   "source": [
    "# SPLIT & STRATIFY DATA\n",
    "# ----------------------"
   ]
  },
  {
   "cell_type": "code",
   "execution_count": 36,
   "id": "76c4dc6d",
   "metadata": {
    "execution": {
     "iopub.execute_input": "2025-07-30T20:44:00.324319Z",
     "iopub.status.busy": "2025-07-30T20:44:00.323535Z",
     "iopub.status.idle": "2025-07-30T20:44:00.329233Z",
     "shell.execute_reply": "2025-07-30T20:44:00.328200Z"
    },
    "papermill": {
     "duration": 0.029245,
     "end_time": "2025-07-30T20:44:00.330961",
     "exception": false,
     "start_time": "2025-07-30T20:44:00.301716",
     "status": "completed"
    },
    "tags": []
   },
   "outputs": [],
   "source": [
    "# EXCLUDE CERTAIN SUBGROUPS\n",
    "# ----------------------\n",
    "\n",
    "mode = universe.get(\"exclude_subgroups\", \"keep-all\") \n",
    "# Fetches the exclude_subgroups setting from the universe dict.\n",
    "# Defaults to \"keep-all\" if the key is missing."
   ]
  },
  {
   "cell_type": "code",
   "execution_count": 37,
   "id": "21994072",
   "metadata": {
    "execution": {
     "iopub.execute_input": "2025-07-30T20:44:00.378295Z",
     "iopub.status.busy": "2025-07-30T20:44:00.377613Z",
     "iopub.status.idle": "2025-07-30T20:44:00.385084Z",
     "shell.execute_reply": "2025-07-30T20:44:00.384089Z"
    },
    "papermill": {
     "duration": 0.030961,
     "end_time": "2025-07-30T20:44:00.386600",
     "exception": false,
     "start_time": "2025-07-30T20:44:00.355639",
     "status": "completed"
    },
    "tags": []
   },
   "outputs": [],
   "source": [
    "if mode == \"keep-all\":\n",
    "    keep_mask = pd.Series(True, index=org_train.index)\n",
    "\n",
    "# org_train contains the original feature columns from features_org (in Simson)\n",
    "# features_org contains unprocessed features, for me X_train at beginning ???\n",
    "# For keep-all, creates a boolean Series (keep_mask) of all True, so no rows are removed.\n",
    "\n",
    "elif mode == \"drop-non-german\":\n",
    "    keep_mask = org_train[\"maxdeutsch1\"] == 1 # ??? what about missing values?\n",
    "\n",
    "else:\n",
    "    raise ValueError(f\"Unsupported mode for exclude_subgroups: {mode}\")\n"
   ]
  },
  {
   "cell_type": "code",
   "execution_count": 38,
   "id": "71651440",
   "metadata": {
    "execution": {
     "iopub.execute_input": "2025-07-30T20:44:00.431075Z",
     "iopub.status.busy": "2025-07-30T20:44:00.430406Z",
     "iopub.status.idle": "2025-07-30T20:44:00.437465Z",
     "shell.execute_reply": "2025-07-30T20:44:00.436527Z"
    },
    "papermill": {
     "duration": 0.030362,
     "end_time": "2025-07-30T20:44:00.438960",
     "exception": false,
     "start_time": "2025-07-30T20:44:00.408598",
     "status": "completed"
    },
    "tags": []
   },
   "outputs": [],
   "source": [
    "n_drop = (~keep_mask).sum() # Calculates how many rows are set to be dropped\n",
    "if n_drop > 0:\n",
    "    pct = n_drop / len(keep_mask) * 100\n",
    "    print(f\"Dropping {n_drop} rows ({pct:.2f}%) where mode='{mode}'\")"
   ]
  },
  {
   "cell_type": "code",
   "execution_count": 39,
   "id": "5fb8eee5",
   "metadata": {
    "execution": {
     "iopub.execute_input": "2025-07-30T20:44:00.484002Z",
     "iopub.status.busy": "2025-07-30T20:44:00.483169Z",
     "iopub.status.idle": "2025-07-30T20:44:00.491221Z",
     "shell.execute_reply": "2025-07-30T20:44:00.490255Z"
    },
    "papermill": {
     "duration": 0.031185,
     "end_time": "2025-07-30T20:44:00.492934",
     "exception": false,
     "start_time": "2025-07-30T20:44:00.461749",
     "status": "completed"
    },
    "tags": []
   },
   "outputs": [],
   "source": [
    "X_train = X_train[keep_mask]"
   ]
  },
  {
   "cell_type": "code",
   "execution_count": 40,
   "id": "b202bb3a",
   "metadata": {
    "execution": {
     "iopub.execute_input": "2025-07-30T20:44:00.538264Z",
     "iopub.status.busy": "2025-07-30T20:44:00.537759Z",
     "iopub.status.idle": "2025-07-30T20:44:00.543919Z",
     "shell.execute_reply": "2025-07-30T20:44:00.543120Z"
    },
    "papermill": {
     "duration": 0.0305,
     "end_time": "2025-07-30T20:44:00.545546",
     "exception": false,
     "start_time": "2025-07-30T20:44:00.515046",
     "status": "completed"
    },
    "tags": []
   },
   "outputs": [],
   "source": [
    "y_train = y_train[keep_mask]"
   ]
  },
  {
   "cell_type": "markdown",
   "id": "493e2ac3",
   "metadata": {
    "papermill": {
     "duration": 0.02222,
     "end_time": "2025-07-30T20:44:00.590014",
     "exception": false,
     "start_time": "2025-07-30T20:44:00.567794",
     "status": "completed"
    },
    "tags": []
   },
   "source": [
    "# Model Training"
   ]
  },
  {
   "cell_type": "code",
   "execution_count": 41,
   "id": "679e1268",
   "metadata": {
    "execution": {
     "iopub.execute_input": "2025-07-30T20:44:00.637257Z",
     "iopub.status.busy": "2025-07-30T20:44:00.636213Z",
     "iopub.status.idle": "2025-07-30T20:44:00.740723Z",
     "shell.execute_reply": "2025-07-30T20:44:00.739820Z"
    },
    "papermill": {
     "duration": 0.128793,
     "end_time": "2025-07-30T20:44:00.742486",
     "exception": false,
     "start_time": "2025-07-30T20:44:00.613693",
     "status": "completed"
    },
    "tags": []
   },
   "outputs": [],
   "source": [
    "from sklearn.linear_model import LogisticRegression\n",
    "from sklearn.ensemble import GradientBoostingClassifier, RandomForestClassifier\n",
    "\n",
    "if (universe[\"model\"] == \"logreg\"):\n",
    "    model = LogisticRegression() #penalty=\"none\") #, solver=\"newton-cg\", max_iter=1) # include random_state=19 ?\n",
    "elif (universe[\"model\"] == \"penalized_logreg\"):\n",
    "    model = LogisticRegression(penalty=\"l2\", C=1.0) #, solver=\"newton-cg\", max_iter=1)\n",
    "elif (universe[\"model\"] == \"rf\"):\n",
    "    model = RandomForestClassifier(n_estimators=100, n_jobs=-1)\n",
    "elif (universe[\"model\"] == \"gbm\"):\n",
    "    model = GradientBoostingClassifier()\n",
    "elif (universe[\"model\"] == \"elasticnet\"):\n",
    "    model = LogisticRegression(penalty = 'elasticnet', solver = 'saga', l1_ratio = 0.5, max_iter=5000) # which solver to use?\n",
    "else:\n",
    "    raise \"Unsupported universe.model\""
   ]
  },
  {
   "cell_type": "code",
   "execution_count": 42,
   "id": "0cc8f744",
   "metadata": {
    "execution": {
     "iopub.execute_input": "2025-07-30T20:44:00.791263Z",
     "iopub.status.busy": "2025-07-30T20:44:00.790422Z",
     "iopub.status.idle": "2025-07-30T20:44:00.796690Z",
     "shell.execute_reply": "2025-07-30T20:44:00.795735Z"
    },
    "papermill": {
     "duration": 0.032399,
     "end_time": "2025-07-30T20:44:00.798315",
     "exception": false,
     "start_time": "2025-07-30T20:44:00.765916",
     "status": "completed"
    },
    "tags": []
   },
   "outputs": [],
   "source": [
    "import numpy as np\n",
    "from sklearn.pipeline import Pipeline\n",
    "from sklearn.preprocessing import StandardScaler\n",
    "\n",
    "model = Pipeline([\n",
    "    #(\"continuous_processor\", continuous_processor),\n",
    "    #(\"categorical_preprocessor\", categorical_preprocessor),\n",
    "    (\"scale\", StandardScaler() if universe[\"scale\"] == \"scale\" else None), \n",
    "    (\"model\", model),\n",
    "])"
   ]
  },
  {
   "cell_type": "code",
   "execution_count": 43,
   "id": "9442c04d",
   "metadata": {
    "execution": {
     "iopub.execute_input": "2025-07-30T20:44:00.847170Z",
     "iopub.status.busy": "2025-07-30T20:44:00.846330Z",
     "iopub.status.idle": "2025-07-30T20:44:00.998037Z",
     "shell.execute_reply": "2025-07-30T20:44:00.997152Z"
    },
    "papermill": {
     "duration": 0.178154,
     "end_time": "2025-07-30T20:44:00.999868",
     "exception": false,
     "start_time": "2025-07-30T20:44:00.821714",
     "status": "completed"
    },
    "tags": []
   },
   "outputs": [
    {
     "name": "stderr",
     "output_type": "stream",
     "text": [
      "/dss/dsshome1/0C/ra93lal2/.local/share/virtualenvs/CMA_Fairness_v2-3j10GkSs/lib/python3.10/site-packages/sklearn/linear_model/_logistic.py:444: ConvergenceWarning: lbfgs failed to converge (status=1):\n",
      "STOP: TOTAL NO. of ITERATIONS REACHED LIMIT.\n",
      "\n",
      "Increase the number of iterations (max_iter) or scale the data as shown in:\n",
      "    https://scikit-learn.org/stable/modules/preprocessing.html\n",
      "Please also refer to the documentation for alternative solver options:\n",
      "    https://scikit-learn.org/stable/modules/linear_model.html#logistic-regression\n",
      "  n_iter_i = _check_optimize_result(\n"
     ]
    },
    {
     "data": {
      "text/html": [
       "<style>#sk-container-id-1 {color: black;background-color: white;}#sk-container-id-1 pre{padding: 0;}#sk-container-id-1 div.sk-toggleable {background-color: white;}#sk-container-id-1 label.sk-toggleable__label {cursor: pointer;display: block;width: 100%;margin-bottom: 0;padding: 0.3em;box-sizing: border-box;text-align: center;}#sk-container-id-1 label.sk-toggleable__label-arrow:before {content: \"▸\";float: left;margin-right: 0.25em;color: #696969;}#sk-container-id-1 label.sk-toggleable__label-arrow:hover:before {color: black;}#sk-container-id-1 div.sk-estimator:hover label.sk-toggleable__label-arrow:before {color: black;}#sk-container-id-1 div.sk-toggleable__content {max-height: 0;max-width: 0;overflow: hidden;text-align: left;background-color: #f0f8ff;}#sk-container-id-1 div.sk-toggleable__content pre {margin: 0.2em;color: black;border-radius: 0.25em;background-color: #f0f8ff;}#sk-container-id-1 input.sk-toggleable__control:checked~div.sk-toggleable__content {max-height: 200px;max-width: 100%;overflow: auto;}#sk-container-id-1 input.sk-toggleable__control:checked~label.sk-toggleable__label-arrow:before {content: \"▾\";}#sk-container-id-1 div.sk-estimator input.sk-toggleable__control:checked~label.sk-toggleable__label {background-color: #d4ebff;}#sk-container-id-1 div.sk-label input.sk-toggleable__control:checked~label.sk-toggleable__label {background-color: #d4ebff;}#sk-container-id-1 input.sk-hidden--visually {border: 0;clip: rect(1px 1px 1px 1px);clip: rect(1px, 1px, 1px, 1px);height: 1px;margin: -1px;overflow: hidden;padding: 0;position: absolute;width: 1px;}#sk-container-id-1 div.sk-estimator {font-family: monospace;background-color: #f0f8ff;border: 1px dotted black;border-radius: 0.25em;box-sizing: border-box;margin-bottom: 0.5em;}#sk-container-id-1 div.sk-estimator:hover {background-color: #d4ebff;}#sk-container-id-1 div.sk-parallel-item::after {content: \"\";width: 100%;border-bottom: 1px solid gray;flex-grow: 1;}#sk-container-id-1 div.sk-label:hover label.sk-toggleable__label {background-color: #d4ebff;}#sk-container-id-1 div.sk-serial::before {content: \"\";position: absolute;border-left: 1px solid gray;box-sizing: border-box;top: 0;bottom: 0;left: 50%;z-index: 0;}#sk-container-id-1 div.sk-serial {display: flex;flex-direction: column;align-items: center;background-color: white;padding-right: 0.2em;padding-left: 0.2em;position: relative;}#sk-container-id-1 div.sk-item {position: relative;z-index: 1;}#sk-container-id-1 div.sk-parallel {display: flex;align-items: stretch;justify-content: center;background-color: white;position: relative;}#sk-container-id-1 div.sk-item::before, #sk-container-id-1 div.sk-parallel-item::before {content: \"\";position: absolute;border-left: 1px solid gray;box-sizing: border-box;top: 0;bottom: 0;left: 50%;z-index: -1;}#sk-container-id-1 div.sk-parallel-item {display: flex;flex-direction: column;z-index: 1;position: relative;background-color: white;}#sk-container-id-1 div.sk-parallel-item:first-child::after {align-self: flex-end;width: 50%;}#sk-container-id-1 div.sk-parallel-item:last-child::after {align-self: flex-start;width: 50%;}#sk-container-id-1 div.sk-parallel-item:only-child::after {width: 0;}#sk-container-id-1 div.sk-dashed-wrapped {border: 1px dashed gray;margin: 0 0.4em 0.5em 0.4em;box-sizing: border-box;padding-bottom: 0.4em;background-color: white;}#sk-container-id-1 div.sk-label label {font-family: monospace;font-weight: bold;display: inline-block;line-height: 1.2em;}#sk-container-id-1 div.sk-label-container {text-align: center;}#sk-container-id-1 div.sk-container {/* jupyter's `normalize.less` sets `[hidden] { display: none; }` but bootstrap.min.css set `[hidden] { display: none !important; }` so we also need the `!important` here to be able to override the default hidden behavior on the sphinx rendered scikit-learn.org. See: https://github.com/scikit-learn/scikit-learn/issues/21755 */display: inline-block !important;position: relative;}#sk-container-id-1 div.sk-text-repr-fallback {display: none;}</style><div id=\"sk-container-id-1\" class=\"sk-top-container\"><div class=\"sk-text-repr-fallback\"><pre>Pipeline(steps=[(&#x27;scale&#x27;, StandardScaler()), (&#x27;model&#x27;, LogisticRegression())])</pre><b>In a Jupyter environment, please rerun this cell to show the HTML representation or trust the notebook. <br />On GitHub, the HTML representation is unable to render, please try loading this page with nbviewer.org.</b></div><div class=\"sk-container\" hidden><div class=\"sk-item sk-dashed-wrapped\"><div class=\"sk-label-container\"><div class=\"sk-label sk-toggleable\"><input class=\"sk-toggleable__control sk-hidden--visually\" id=\"sk-estimator-id-1\" type=\"checkbox\" ><label for=\"sk-estimator-id-1\" class=\"sk-toggleable__label sk-toggleable__label-arrow\">Pipeline</label><div class=\"sk-toggleable__content\"><pre>Pipeline(steps=[(&#x27;scale&#x27;, StandardScaler()), (&#x27;model&#x27;, LogisticRegression())])</pre></div></div></div><div class=\"sk-serial\"><div class=\"sk-item\"><div class=\"sk-estimator sk-toggleable\"><input class=\"sk-toggleable__control sk-hidden--visually\" id=\"sk-estimator-id-2\" type=\"checkbox\" ><label for=\"sk-estimator-id-2\" class=\"sk-toggleable__label sk-toggleable__label-arrow\">StandardScaler</label><div class=\"sk-toggleable__content\"><pre>StandardScaler()</pre></div></div></div><div class=\"sk-item\"><div class=\"sk-estimator sk-toggleable\"><input class=\"sk-toggleable__control sk-hidden--visually\" id=\"sk-estimator-id-3\" type=\"checkbox\" ><label for=\"sk-estimator-id-3\" class=\"sk-toggleable__label sk-toggleable__label-arrow\">LogisticRegression</label><div class=\"sk-toggleable__content\"><pre>LogisticRegression()</pre></div></div></div></div></div></div></div>"
      ],
      "text/plain": [
       "Pipeline(steps=[('scale', StandardScaler()), ('model', LogisticRegression())])"
      ]
     },
     "execution_count": 43,
     "metadata": {},
     "output_type": "execute_result"
    }
   ],
   "source": [
    "model.fit(X_train, y_train.values.ravel())"
   ]
  },
  {
   "cell_type": "code",
   "execution_count": 44,
   "id": "af59f8c0",
   "metadata": {
    "execution": {
     "iopub.execute_input": "2025-07-30T20:44:01.050319Z",
     "iopub.status.busy": "2025-07-30T20:44:01.049672Z",
     "iopub.status.idle": "2025-07-30T20:44:01.055016Z",
     "shell.execute_reply": "2025-07-30T20:44:01.053954Z"
    },
    "papermill": {
     "duration": 0.032699,
     "end_time": "2025-07-30T20:44:01.056977",
     "exception": false,
     "start_time": "2025-07-30T20:44:01.024278",
     "status": "completed"
    },
    "tags": []
   },
   "outputs": [],
   "source": [
    "from fairness_multiverse.universe import predict_w_threshold"
   ]
  },
  {
   "cell_type": "code",
   "execution_count": 45,
   "id": "a7cf2e16",
   "metadata": {
    "execution": {
     "iopub.execute_input": "2025-07-30T20:44:01.109155Z",
     "iopub.status.busy": "2025-07-30T20:44:01.108292Z",
     "iopub.status.idle": "2025-07-30T20:44:01.300099Z",
     "shell.execute_reply": "2025-07-30T20:44:01.299212Z"
    },
    "papermill": {
     "duration": 0.218256,
     "end_time": "2025-07-30T20:44:01.301690",
     "exception": false,
     "start_time": "2025-07-30T20:44:01.083434",
     "status": "completed"
    },
    "tags": []
   },
   "outputs": [
    {
     "data": {
      "text/plain": [
       "0.8567718203098874"
      ]
     },
     "execution_count": 45,
     "metadata": {},
     "output_type": "execute_result"
    }
   ],
   "source": [
    "probs_test = model.predict_proba(X_test)\n",
    "\n",
    "'''\n",
    "Below code returns a boolean array (or binary 0/1 array depending on how it’s used) where each element \n",
    "is True if the probability of class 1 is greater than or equal to the threshold, and False otherwise.\n",
    "'''\n",
    "y_pred_default = predict_w_threshold(probs_test, 0.5)\n",
    "\n",
    "from sklearn.metrics import accuracy_score\n",
    "\n",
    "# Naive prediction\n",
    "accuracy_score(y_true = y_true, y_pred = y_pred_default)"
   ]
  },
  {
   "cell_type": "code",
   "execution_count": 46,
   "id": "081964c3",
   "metadata": {
    "execution": {
     "iopub.execute_input": "2025-07-30T20:44:01.355732Z",
     "iopub.status.busy": "2025-07-30T20:44:01.354833Z",
     "iopub.status.idle": "2025-07-30T20:44:01.538690Z",
     "shell.execute_reply": "2025-07-30T20:44:01.537737Z"
    },
    "papermill": {
     "duration": 0.214474,
     "end_time": "2025-07-30T20:44:01.542600",
     "exception": false,
     "start_time": "2025-07-30T20:44:01.328126",
     "status": "completed"
    },
    "tags": []
   },
   "outputs": [
    {
     "data": {
      "text/plain": [
       "array([0, 0, 0, ..., 0, 0, 0])"
      ]
     },
     "execution_count": 46,
     "metadata": {},
     "output_type": "execute_result"
    }
   ],
   "source": [
    "model.predict(X_test)"
   ]
  },
  {
   "cell_type": "markdown",
   "id": "56c9705b",
   "metadata": {
    "papermill": {
     "duration": 0.025875,
     "end_time": "2025-07-30T20:44:01.594961",
     "exception": false,
     "start_time": "2025-07-30T20:44:01.569086",
     "status": "completed"
    },
    "tags": []
   },
   "source": [
    "# Conformal Prediction"
   ]
  },
  {
   "cell_type": "code",
   "execution_count": 47,
   "id": "160ec6ff",
   "metadata": {
    "execution": {
     "iopub.execute_input": "2025-07-30T20:44:01.650361Z",
     "iopub.status.busy": "2025-07-30T20:44:01.649482Z",
     "iopub.status.idle": "2025-07-30T20:44:01.654605Z",
     "shell.execute_reply": "2025-07-30T20:44:01.653676Z"
    },
    "papermill": {
     "duration": 0.03517,
     "end_time": "2025-07-30T20:44:01.656382",
     "exception": false,
     "start_time": "2025-07-30T20:44:01.621212",
     "status": "completed"
    },
    "tags": []
   },
   "outputs": [],
   "source": [
    "# Miscoverage level for conformal prediction (10% allowed error rate => 90% target coverage)\n",
    "alpha = 0.1"
   ]
  },
  {
   "cell_type": "code",
   "execution_count": 48,
   "id": "eadf4555-3dd3-440e-8e35-f82a4ad9f855",
   "metadata": {
    "execution": {
     "iopub.execute_input": "2025-07-30T20:44:01.713454Z",
     "iopub.status.busy": "2025-07-30T20:44:01.712930Z",
     "iopub.status.idle": "2025-07-30T20:44:01.896614Z",
     "shell.execute_reply": "2025-07-30T20:44:01.895511Z"
    },
    "papermill": {
     "duration": 0.214054,
     "end_time": "2025-07-30T20:44:01.898568",
     "exception": false,
     "start_time": "2025-07-30T20:44:01.684514",
     "status": "completed"
    },
    "tags": []
   },
   "outputs": [],
   "source": [
    "probs_calib = model.predict_proba(X_calib)"
   ]
  },
  {
   "cell_type": "code",
   "execution_count": 49,
   "id": "2ed93547-6d5d-4983-9b36-1ecb300da49a",
   "metadata": {
    "execution": {
     "iopub.execute_input": "2025-07-30T20:44:01.954135Z",
     "iopub.status.busy": "2025-07-30T20:44:01.953647Z",
     "iopub.status.idle": "2025-07-30T20:44:01.959698Z",
     "shell.execute_reply": "2025-07-30T20:44:01.958668Z"
    },
    "papermill": {
     "duration": 0.035937,
     "end_time": "2025-07-30T20:44:01.961534",
     "exception": false,
     "start_time": "2025-07-30T20:44:01.925597",
     "status": "completed"
    },
    "tags": []
   },
   "outputs": [],
   "source": [
    "y_calib = y_calib.values.ravel().astype(int)"
   ]
  },
  {
   "cell_type": "code",
   "execution_count": 50,
   "id": "65d1320d-f588-4b38-9072-62af1ae97f7d",
   "metadata": {
    "execution": {
     "iopub.execute_input": "2025-07-30T20:44:02.014639Z",
     "iopub.status.busy": "2025-07-30T20:44:02.013887Z",
     "iopub.status.idle": "2025-07-30T20:44:02.022245Z",
     "shell.execute_reply": "2025-07-30T20:44:02.021250Z"
    },
    "papermill": {
     "duration": 0.034557,
     "end_time": "2025-07-30T20:44:02.024184",
     "exception": false,
     "start_time": "2025-07-30T20:44:01.989627",
     "status": "completed"
    },
    "tags": []
   },
   "outputs": [],
   "source": [
    "from fairness_multiverse.conformal import compute_nc_scores\n",
    "\n",
    "# Compute nonconformity scores on calibration set (1 - probability of true class)\n",
    "nc_scores = compute_nc_scores(probs_calib, y_calib)"
   ]
  },
  {
   "cell_type": "code",
   "execution_count": 51,
   "id": "df3b8ca3-53b7-43d5-9667-7c85da7aeda2",
   "metadata": {
    "execution": {
     "iopub.execute_input": "2025-07-30T20:44:02.080550Z",
     "iopub.status.busy": "2025-07-30T20:44:02.079534Z",
     "iopub.status.idle": "2025-07-30T20:44:02.086774Z",
     "shell.execute_reply": "2025-07-30T20:44:02.085776Z"
    },
    "papermill": {
     "duration": 0.036842,
     "end_time": "2025-07-30T20:44:02.088523",
     "exception": false,
     "start_time": "2025-07-30T20:44:02.051681",
     "status": "completed"
    },
    "tags": []
   },
   "outputs": [],
   "source": [
    "from fairness_multiverse.conformal import find_threshold\n",
    "\n",
    "# Find conformal threshold q_hat for the given alpha (split conformal method)\n",
    "q_hat = find_threshold(nc_scores, alpha)"
   ]
  },
  {
   "cell_type": "code",
   "execution_count": 52,
   "id": "4d29e6c1-0ef6-4aa4-b8fe-4fe79b0d033a",
   "metadata": {
    "execution": {
     "iopub.execute_input": "2025-07-30T20:44:02.144335Z",
     "iopub.status.busy": "2025-07-30T20:44:02.143660Z",
     "iopub.status.idle": "2025-07-30T20:44:02.150797Z",
     "shell.execute_reply": "2025-07-30T20:44:02.149869Z"
    },
    "papermill": {
     "duration": 0.0367,
     "end_time": "2025-07-30T20:44:02.152517",
     "exception": false,
     "start_time": "2025-07-30T20:44:02.115817",
     "status": "completed"
    },
    "tags": []
   },
   "outputs": [
    {
     "data": {
      "text/plain": [
       "0.6911205661106637"
      ]
     },
     "execution_count": 52,
     "metadata": {},
     "output_type": "execute_result"
    }
   ],
   "source": [
    "q_hat"
   ]
  },
  {
   "cell_type": "code",
   "execution_count": 53,
   "id": "92460794-cdac-4be2-ba28-f28c0515a6fb",
   "metadata": {
    "execution": {
     "iopub.execute_input": "2025-07-30T20:44:02.208245Z",
     "iopub.status.busy": "2025-07-30T20:44:02.207274Z",
     "iopub.status.idle": "2025-07-30T20:44:03.056516Z",
     "shell.execute_reply": "2025-07-30T20:44:03.055459Z"
    },
    "papermill": {
     "duration": 0.878489,
     "end_time": "2025-07-30T20:44:03.058453",
     "exception": false,
     "start_time": "2025-07-30T20:44:02.179964",
     "status": "completed"
    },
    "tags": []
   },
   "outputs": [],
   "source": [
    "from fairness_multiverse.conformal import predict_conformal_sets\n",
    "\n",
    "# Generate prediction sets for each test example\n",
    "pred_sets = predict_conformal_sets(model, X_test, q_hat)"
   ]
  },
  {
   "cell_type": "code",
   "execution_count": 54,
   "id": "d90c9a65-e6db-4f5d-80cd-e68fb7e46829",
   "metadata": {
    "execution": {
     "iopub.execute_input": "2025-07-30T20:44:03.110223Z",
     "iopub.status.busy": "2025-07-30T20:44:03.109344Z",
     "iopub.status.idle": "2025-07-30T20:44:03.115795Z",
     "shell.execute_reply": "2025-07-30T20:44:03.114781Z"
    },
    "papermill": {
     "duration": 0.033135,
     "end_time": "2025-07-30T20:44:03.117752",
     "exception": false,
     "start_time": "2025-07-30T20:44:03.084617",
     "status": "completed"
    },
    "tags": []
   },
   "outputs": [],
   "source": [
    "y_true = y_true.squeeze()"
   ]
  },
  {
   "cell_type": "code",
   "execution_count": 55,
   "id": "3a58a54a-1e68-46b9-927a-df01f18aebc8",
   "metadata": {
    "execution": {
     "iopub.execute_input": "2025-07-30T20:44:03.172132Z",
     "iopub.status.busy": "2025-07-30T20:44:03.171634Z",
     "iopub.status.idle": "2025-07-30T20:44:03.709200Z",
     "shell.execute_reply": "2025-07-30T20:44:03.708438Z"
    },
    "papermill": {
     "duration": 0.56596,
     "end_time": "2025-07-30T20:44:03.710608",
     "exception": false,
     "start_time": "2025-07-30T20:44:03.144648",
     "status": "completed"
    },
    "tags": []
   },
   "outputs": [],
   "source": [
    "from fairness_multiverse.conformal import evaluate_sets\n",
    "\n",
    "# Evaluate coverage and average set size on test data\n",
    "metrics = evaluate_sets(pred_sets, y_true)"
   ]
  },
  {
   "cell_type": "markdown",
   "id": "2b569c12-9aaa-4c88-98c9-bbcd0cf3ebb8",
   "metadata": {
    "papermill": {
     "duration": 0.012261,
     "end_time": "2025-07-30T20:44:03.736482",
     "exception": false,
     "start_time": "2025-07-30T20:44:03.724221",
     "status": "completed"
    },
    "tags": []
   },
   "source": [
    "# CP Metrics"
   ]
  },
  {
   "cell_type": "code",
   "execution_count": 56,
   "id": "5ce0a5cb-201f-45a0-ade5-94c7f0bd6095",
   "metadata": {
    "execution": {
     "iopub.execute_input": "2025-07-30T20:44:03.767765Z",
     "iopub.status.busy": "2025-07-30T20:44:03.767151Z",
     "iopub.status.idle": "2025-07-30T20:44:03.773562Z",
     "shell.execute_reply": "2025-07-30T20:44:03.772815Z"
    },
    "papermill": {
     "duration": 0.02131,
     "end_time": "2025-07-30T20:44:03.774871",
     "exception": false,
     "start_time": "2025-07-30T20:44:03.753561",
     "status": "completed"
    },
    "tags": []
   },
   "outputs": [
    {
     "data": {
      "text/plain": [
       "{'coverage': 0.9104336194404191, 'avg_size': 1.1365622561587336}"
      ]
     },
     "execution_count": 56,
     "metadata": {},
     "output_type": "execute_result"
    }
   ],
   "source": [
    "metrics"
   ]
  },
  {
   "cell_type": "code",
   "execution_count": 57,
   "id": "9b9a838d-31c9-430b-ae14-12baee460d17",
   "metadata": {
    "execution": {
     "iopub.execute_input": "2025-07-30T20:44:03.806077Z",
     "iopub.status.busy": "2025-07-30T20:44:03.805448Z",
     "iopub.status.idle": "2025-07-30T20:44:03.810856Z",
     "shell.execute_reply": "2025-07-30T20:44:03.810137Z"
    },
    "papermill": {
     "duration": 0.022793,
     "end_time": "2025-07-30T20:44:03.812191",
     "exception": false,
     "start_time": "2025-07-30T20:44:03.789398",
     "status": "completed"
    },
    "tags": []
   },
   "outputs": [],
   "source": [
    "example_universe = universe.copy()\n",
    "universe_training_year = example_universe.get(\"training_year\")\n",
    "universe_training_size = example_universe.get(\"training_size\")\n",
    "universe_scale = example_universe.get(\"scale\")\n",
    "universe_model = example_universe.get(\"model\")\n",
    "universe_exclude_features = example_universe.get(\"exclude_features\")\n",
    "universe_exclude_subgroups = example_universe.get(\"exclude_subgroups\")"
   ]
  },
  {
   "cell_type": "code",
   "execution_count": 58,
   "id": "f4b6a8ac-9dc0-4245-8a91-5b3b5999c4f9",
   "metadata": {
    "execution": {
     "iopub.execute_input": "2025-07-30T20:44:03.841618Z",
     "iopub.status.busy": "2025-07-30T20:44:03.841150Z",
     "iopub.status.idle": "2025-07-30T20:44:03.847313Z",
     "shell.execute_reply": "2025-07-30T20:44:03.846426Z"
    },
    "papermill": {
     "duration": 0.023409,
     "end_time": "2025-07-30T20:44:03.849263",
     "exception": false,
     "start_time": "2025-07-30T20:44:03.825854",
     "status": "completed"
    },
    "tags": []
   },
   "outputs": [],
   "source": [
    "cp_metrics_dict = {\n",
    "    \"universe_id\": [universe_id],\n",
    "    \"universe_training_year\": [universe_training_year],\n",
    "    \"universe_training_size\": [universe_training_size],\n",
    "    \"universe_scale\": [universe_scale],\n",
    "    \"universe_model\": [universe_model],\n",
    "    \"universe_exclude_features\": [universe_exclude_features],\n",
    "    \"universe_exclude_subgroups\": [universe_exclude_subgroups],\n",
    "    \"q_hat\": [q_hat],\n",
    "    \"coverage\": [metrics[\"coverage\"]],\n",
    "    \"avg_size\": [metrics[\"avg_size\"]],\n",
    "}"
   ]
  },
  {
   "cell_type": "code",
   "execution_count": 59,
   "id": "908acbb1-0371-4915-85ca-3fa520d2efe2",
   "metadata": {
    "execution": {
     "iopub.execute_input": "2025-07-30T20:44:03.901326Z",
     "iopub.status.busy": "2025-07-30T20:44:03.900942Z",
     "iopub.status.idle": "2025-07-30T20:44:03.907779Z",
     "shell.execute_reply": "2025-07-30T20:44:03.906895Z"
    },
    "papermill": {
     "duration": 0.033751,
     "end_time": "2025-07-30T20:44:03.909552",
     "exception": false,
     "start_time": "2025-07-30T20:44:03.875801",
     "status": "completed"
    },
    "tags": []
   },
   "outputs": [
    {
     "data": {
      "text/plain": [
       "{'universe_id': ['700a05f3e2bb52fd551051b43e8b5110'],\n",
       " 'universe_training_year': ['2014'],\n",
       " 'universe_training_size': ['5k'],\n",
       " 'universe_scale': ['scale'],\n",
       " 'universe_model': ['logreg'],\n",
       " 'universe_exclude_features': ['age'],\n",
       " 'universe_exclude_subgroups': ['keep-all'],\n",
       " 'q_hat': [0.6911205661106637],\n",
       " 'coverage': [0.9104336194404191],\n",
       " 'avg_size': [1.1365622561587336]}"
      ]
     },
     "execution_count": 59,
     "metadata": {},
     "output_type": "execute_result"
    }
   ],
   "source": [
    "cp_metrics_dict"
   ]
  },
  {
   "cell_type": "code",
   "execution_count": 60,
   "id": "33007efc-14e9-4ec6-97ac-56a455c82265",
   "metadata": {
    "execution": {
     "iopub.execute_input": "2025-07-30T20:44:03.962470Z",
     "iopub.status.busy": "2025-07-30T20:44:03.962003Z",
     "iopub.status.idle": "2025-07-30T20:44:03.968320Z",
     "shell.execute_reply": "2025-07-30T20:44:03.967382Z"
    },
    "papermill": {
     "duration": 0.034403,
     "end_time": "2025-07-30T20:44:03.969917",
     "exception": false,
     "start_time": "2025-07-30T20:44:03.935514",
     "status": "completed"
    },
    "tags": []
   },
   "outputs": [],
   "source": [
    "cp_metrics_df = pd.DataFrame(cp_metrics_dict)"
   ]
  },
  {
   "cell_type": "code",
   "execution_count": 61,
   "id": "db12611b-57b2-4910-b9d0-355adfd6e7bf",
   "metadata": {
    "execution": {
     "iopub.execute_input": "2025-07-30T20:44:04.024701Z",
     "iopub.status.busy": "2025-07-30T20:44:04.023639Z",
     "iopub.status.idle": "2025-07-30T20:44:04.041839Z",
     "shell.execute_reply": "2025-07-30T20:44:04.040847Z"
    },
    "papermill": {
     "duration": 0.047584,
     "end_time": "2025-07-30T20:44:04.043545",
     "exception": false,
     "start_time": "2025-07-30T20:44:03.995961",
     "status": "completed"
    },
    "tags": []
   },
   "outputs": [
    {
     "data": {
      "text/html": [
       "<div>\n",
       "<style scoped>\n",
       "    .dataframe tbody tr th:only-of-type {\n",
       "        vertical-align: middle;\n",
       "    }\n",
       "\n",
       "    .dataframe tbody tr th {\n",
       "        vertical-align: top;\n",
       "    }\n",
       "\n",
       "    .dataframe thead th {\n",
       "        text-align: right;\n",
       "    }\n",
       "</style>\n",
       "<table border=\"1\" class=\"dataframe\">\n",
       "  <thead>\n",
       "    <tr style=\"text-align: right;\">\n",
       "      <th></th>\n",
       "      <th>universe_id</th>\n",
       "      <th>universe_training_year</th>\n",
       "      <th>universe_training_size</th>\n",
       "      <th>universe_scale</th>\n",
       "      <th>universe_model</th>\n",
       "      <th>universe_exclude_features</th>\n",
       "      <th>universe_exclude_subgroups</th>\n",
       "      <th>q_hat</th>\n",
       "      <th>coverage</th>\n",
       "      <th>avg_size</th>\n",
       "    </tr>\n",
       "  </thead>\n",
       "  <tbody>\n",
       "    <tr>\n",
       "      <th>0</th>\n",
       "      <td>700a05f3e2bb52fd551051b43e8b5110</td>\n",
       "      <td>2014</td>\n",
       "      <td>5k</td>\n",
       "      <td>scale</td>\n",
       "      <td>logreg</td>\n",
       "      <td>age</td>\n",
       "      <td>keep-all</td>\n",
       "      <td>0.691121</td>\n",
       "      <td>0.910434</td>\n",
       "      <td>1.136562</td>\n",
       "    </tr>\n",
       "  </tbody>\n",
       "</table>\n",
       "</div>"
      ],
      "text/plain": [
       "                        universe_id universe_training_year  \\\n",
       "0  700a05f3e2bb52fd551051b43e8b5110                   2014   \n",
       "\n",
       "  universe_training_size universe_scale universe_model  \\\n",
       "0                     5k          scale         logreg   \n",
       "\n",
       "  universe_exclude_features universe_exclude_subgroups     q_hat  coverage  \\\n",
       "0                       age                   keep-all  0.691121  0.910434   \n",
       "\n",
       "   avg_size  \n",
       "0  1.136562  "
      ]
     },
     "execution_count": 61,
     "metadata": {},
     "output_type": "execute_result"
    }
   ],
   "source": [
    "cp_metrics_df"
   ]
  },
  {
   "cell_type": "code",
   "execution_count": 62,
   "id": "b7fbde55-a0a1-47e4-9af6-fe4a17fa8c61",
   "metadata": {
    "execution": {
     "iopub.execute_input": "2025-07-30T20:44:04.099941Z",
     "iopub.status.busy": "2025-07-30T20:44:04.099283Z",
     "iopub.status.idle": "2025-07-30T20:44:04.104344Z",
     "shell.execute_reply": "2025-07-30T20:44:04.103392Z"
    },
    "papermill": {
     "duration": 0.034597,
     "end_time": "2025-07-30T20:44:04.105849",
     "exception": false,
     "start_time": "2025-07-30T20:44:04.071252",
     "status": "completed"
    },
    "tags": []
   },
   "outputs": [],
   "source": [
    "# Conditional Coverage & looking at subgroups"
   ]
  },
  {
   "cell_type": "code",
   "execution_count": 63,
   "id": "027ae886-68dd-4141-96c7-805a5450e1ef",
   "metadata": {
    "execution": {
     "iopub.execute_input": "2025-07-30T20:44:04.164785Z",
     "iopub.status.busy": "2025-07-30T20:44:04.164044Z",
     "iopub.status.idle": "2025-07-30T20:44:04.454447Z",
     "shell.execute_reply": "2025-07-30T20:44:04.453467Z"
    },
    "papermill": {
     "duration": 0.321759,
     "end_time": "2025-07-30T20:44:04.456592",
     "exception": false,
     "start_time": "2025-07-30T20:44:04.134833",
     "status": "completed"
    },
    "tags": []
   },
   "outputs": [],
   "source": [
    "from fairness_multiverse.conformal import build_cp_groups\n",
    "\n",
    "cp_groups_df = build_cp_groups(pred_sets, y_true, X_test.index, org_test)\n",
    "#needs universe_id and setting"
   ]
  },
  {
   "cell_type": "code",
   "execution_count": 64,
   "id": "01d5802c-663a-4d1f-9d69-e036faaffbf7",
   "metadata": {
    "execution": {
     "iopub.execute_input": "2025-07-30T20:44:04.509061Z",
     "iopub.status.busy": "2025-07-30T20:44:04.508407Z",
     "iopub.status.idle": "2025-07-30T20:44:04.514029Z",
     "shell.execute_reply": "2025-07-30T20:44:04.513029Z"
    },
    "papermill": {
     "duration": 0.034179,
     "end_time": "2025-07-30T20:44:04.515753",
     "exception": false,
     "start_time": "2025-07-30T20:44:04.481574",
     "status": "completed"
    },
    "tags": []
   },
   "outputs": [],
   "source": [
    "#delete\n",
    "#cp_groups_df"
   ]
  },
  {
   "cell_type": "code",
   "execution_count": 65,
   "id": "fa424af1-d1eb-443d-b717-2d279ada8408",
   "metadata": {
    "execution": {
     "iopub.execute_input": "2025-07-30T20:44:04.568438Z",
     "iopub.status.busy": "2025-07-30T20:44:04.567495Z",
     "iopub.status.idle": "2025-07-30T20:44:04.572954Z",
     "shell.execute_reply": "2025-07-30T20:44:04.572068Z"
    },
    "papermill": {
     "duration": 0.032768,
     "end_time": "2025-07-30T20:44:04.574563",
     "exception": false,
     "start_time": "2025-07-30T20:44:04.541795",
     "status": "completed"
    },
    "tags": []
   },
   "outputs": [],
   "source": [
    "#delete\n",
    "#percentage = (cp_groups_df['nongerman_female'] == 1).mean() * 100\n",
    "#print(percentage)\n"
   ]
  },
  {
   "cell_type": "code",
   "execution_count": 66,
   "id": "6cbdab96-b2b2-45af-ad54-d0516db2e28d",
   "metadata": {
    "execution": {
     "iopub.execute_input": "2025-07-30T20:44:04.628037Z",
     "iopub.status.busy": "2025-07-30T20:44:04.627310Z",
     "iopub.status.idle": "2025-07-30T20:44:06.166900Z",
     "shell.execute_reply": "2025-07-30T20:44:06.166155Z"
    },
    "papermill": {
     "duration": 1.567796,
     "end_time": "2025-07-30T20:44:06.168385",
     "exception": false,
     "start_time": "2025-07-30T20:44:04.600589",
     "status": "completed"
    },
    "tags": []
   },
   "outputs": [],
   "source": [
    "# Define covered = 1 if true_label is in the predicted set\n",
    "cp_groups_df['covered'] = cp_groups_df.apply(\n",
    "    lambda r: int(r['true_label'] in r['pred_set']),\n",
    "    axis=1\n",
    ")"
   ]
  },
  {
   "cell_type": "code",
   "execution_count": 67,
   "id": "338ff529-1a6b-4b87-a931-8e4788d52aad",
   "metadata": {
    "execution": {
     "iopub.execute_input": "2025-07-30T20:44:06.200828Z",
     "iopub.status.busy": "2025-07-30T20:44:06.200281Z",
     "iopub.status.idle": "2025-07-30T20:44:06.204694Z",
     "shell.execute_reply": "2025-07-30T20:44:06.203904Z"
    },
    "papermill": {
     "duration": 0.020997,
     "end_time": "2025-07-30T20:44:06.205975",
     "exception": false,
     "start_time": "2025-07-30T20:44:06.184978",
     "status": "completed"
    },
    "tags": []
   },
   "outputs": [],
   "source": [
    "#cp_groups_df"
   ]
  },
  {
   "cell_type": "code",
   "execution_count": 68,
   "id": "90032e27-66df-4540-9169-4e89cfbaa758",
   "metadata": {
    "execution": {
     "iopub.execute_input": "2025-07-30T20:44:06.238642Z",
     "iopub.status.busy": "2025-07-30T20:44:06.237916Z",
     "iopub.status.idle": "2025-07-30T20:44:06.247120Z",
     "shell.execute_reply": "2025-07-30T20:44:06.246376Z"
    },
    "papermill": {
     "duration": 0.027125,
     "end_time": "2025-07-30T20:44:06.248614",
     "exception": false,
     "start_time": "2025-07-30T20:44:06.221489",
     "status": "completed"
    },
    "tags": []
   },
   "outputs": [],
   "source": [
    "subgroups = ['frau1','nongerman','nongerman_male','nongerman_female']\n",
    "\n",
    "# Conditional coverage for subgroup==1\n",
    "cond_coverage = {\n",
    "    g: cp_groups_df.loc[cp_groups_df[g]==1, 'covered'].mean()\n",
    "    for g in subgroups\n",
    "}"
   ]
  },
  {
   "cell_type": "code",
   "execution_count": 69,
   "id": "1e348fb1-b9c3-45bc-ba23-f016827a7e0d",
   "metadata": {
    "execution": {
     "iopub.execute_input": "2025-07-30T20:44:06.277882Z",
     "iopub.status.busy": "2025-07-30T20:44:06.277359Z",
     "iopub.status.idle": "2025-07-30T20:44:06.284097Z",
     "shell.execute_reply": "2025-07-30T20:44:06.283300Z"
    },
    "papermill": {
     "duration": 0.022379,
     "end_time": "2025-07-30T20:44:06.285593",
     "exception": false,
     "start_time": "2025-07-30T20:44:06.263214",
     "status": "completed"
    },
    "tags": []
   },
   "outputs": [
    {
     "data": {
      "text/plain": [
       "{'frau1': 0.9072112144493867,\n",
       " 'nongerman': 0.9082131027900971,\n",
       " 'nongerman_male': 0.9269566783752139,\n",
       " 'nongerman_female': 0.8771982116244411}"
      ]
     },
     "execution_count": 69,
     "metadata": {},
     "output_type": "execute_result"
    }
   ],
   "source": [
    "cond_coverage"
   ]
  },
  {
   "cell_type": "code",
   "execution_count": 70,
   "id": "f5093324-c3dd-4d63-bc4c-8d945e5c8bbb",
   "metadata": {
    "execution": {
     "iopub.execute_input": "2025-07-30T20:44:06.316317Z",
     "iopub.status.busy": "2025-07-30T20:44:06.315774Z",
     "iopub.status.idle": "2025-07-30T20:44:06.322070Z",
     "shell.execute_reply": "2025-07-30T20:44:06.321294Z"
    },
    "papermill": {
     "duration": 0.022685,
     "end_time": "2025-07-30T20:44:06.323338",
     "exception": false,
     "start_time": "2025-07-30T20:44:06.300653",
     "status": "completed"
    },
    "tags": []
   },
   "outputs": [],
   "source": [
    "for subgroup, cov in cond_coverage.items():\n",
    "    cp_metrics_df[f\"cov_{subgroup}\"] = cov"
   ]
  },
  {
   "cell_type": "code",
   "execution_count": 71,
   "id": "6e872e10-dbe5-49e8-b554-5030c98ff75d",
   "metadata": {
    "execution": {
     "iopub.execute_input": "2025-07-30T20:44:06.360519Z",
     "iopub.status.busy": "2025-07-30T20:44:06.360009Z",
     "iopub.status.idle": "2025-07-30T20:44:06.380540Z",
     "shell.execute_reply": "2025-07-30T20:44:06.379486Z"
    },
    "papermill": {
     "duration": 0.043554,
     "end_time": "2025-07-30T20:44:06.382429",
     "exception": false,
     "start_time": "2025-07-30T20:44:06.338875",
     "status": "completed"
    },
    "tags": []
   },
   "outputs": [
    {
     "data": {
      "text/html": [
       "<div>\n",
       "<style scoped>\n",
       "    .dataframe tbody tr th:only-of-type {\n",
       "        vertical-align: middle;\n",
       "    }\n",
       "\n",
       "    .dataframe tbody tr th {\n",
       "        vertical-align: top;\n",
       "    }\n",
       "\n",
       "    .dataframe thead th {\n",
       "        text-align: right;\n",
       "    }\n",
       "</style>\n",
       "<table border=\"1\" class=\"dataframe\">\n",
       "  <thead>\n",
       "    <tr style=\"text-align: right;\">\n",
       "      <th></th>\n",
       "      <th>universe_id</th>\n",
       "      <th>universe_training_year</th>\n",
       "      <th>universe_training_size</th>\n",
       "      <th>universe_scale</th>\n",
       "      <th>universe_model</th>\n",
       "      <th>universe_exclude_features</th>\n",
       "      <th>universe_exclude_subgroups</th>\n",
       "      <th>q_hat</th>\n",
       "      <th>coverage</th>\n",
       "      <th>avg_size</th>\n",
       "      <th>cov_frau1</th>\n",
       "      <th>cov_nongerman</th>\n",
       "      <th>cov_nongerman_male</th>\n",
       "      <th>cov_nongerman_female</th>\n",
       "    </tr>\n",
       "  </thead>\n",
       "  <tbody>\n",
       "    <tr>\n",
       "      <th>0</th>\n",
       "      <td>700a05f3e2bb52fd551051b43e8b5110</td>\n",
       "      <td>2014</td>\n",
       "      <td>5k</td>\n",
       "      <td>scale</td>\n",
       "      <td>logreg</td>\n",
       "      <td>age</td>\n",
       "      <td>keep-all</td>\n",
       "      <td>0.691121</td>\n",
       "      <td>0.910434</td>\n",
       "      <td>1.136562</td>\n",
       "      <td>0.907211</td>\n",
       "      <td>0.908213</td>\n",
       "      <td>0.926957</td>\n",
       "      <td>0.877198</td>\n",
       "    </tr>\n",
       "  </tbody>\n",
       "</table>\n",
       "</div>"
      ],
      "text/plain": [
       "                        universe_id universe_training_year  \\\n",
       "0  700a05f3e2bb52fd551051b43e8b5110                   2014   \n",
       "\n",
       "  universe_training_size universe_scale universe_model  \\\n",
       "0                     5k          scale         logreg   \n",
       "\n",
       "  universe_exclude_features universe_exclude_subgroups     q_hat  coverage  \\\n",
       "0                       age                   keep-all  0.691121  0.910434   \n",
       "\n",
       "   avg_size  cov_frau1  cov_nongerman  cov_nongerman_male  \\\n",
       "0  1.136562   0.907211       0.908213            0.926957   \n",
       "\n",
       "   cov_nongerman_female  \n",
       "0              0.877198  "
      ]
     },
     "execution_count": 71,
     "metadata": {},
     "output_type": "execute_result"
    }
   ],
   "source": [
    "cp_metrics_df"
   ]
  },
  {
   "cell_type": "markdown",
   "id": "33774451",
   "metadata": {
    "papermill": {
     "duration": 0.027538,
     "end_time": "2025-07-30T20:44:06.437437",
     "exception": false,
     "start_time": "2025-07-30T20:44:06.409899",
     "status": "completed"
    },
    "tags": []
   },
   "source": [
    "# (Fairness) Metrics"
   ]
  },
  {
   "cell_type": "code",
   "execution_count": 72,
   "id": "debc5d62",
   "metadata": {
    "execution": {
     "iopub.execute_input": "2025-07-30T20:44:06.493249Z",
     "iopub.status.busy": "2025-07-30T20:44:06.492570Z",
     "iopub.status.idle": "2025-07-30T20:44:06.508532Z",
     "shell.execute_reply": "2025-07-30T20:44:06.507696Z"
    },
    "papermill": {
     "duration": 0.046711,
     "end_time": "2025-07-30T20:44:06.510131",
     "exception": false,
     "start_time": "2025-07-30T20:44:06.463420",
     "status": "completed"
    },
    "tags": []
   },
   "outputs": [],
   "source": [
    "# do I need to include maxdeutsch1.missing?\n",
    "\n",
    "import numpy as np\n",
    "\n",
    "colname_to_bin = \"maxdeutsch1\"\n",
    "majority_value = org_train[colname_to_bin].mode()[0]\n",
    "\n",
    "org_test[\"majmin\"] = np.where(org_test[colname_to_bin] == majority_value, \"majority\", \"minority\")"
   ]
  },
  {
   "cell_type": "code",
   "execution_count": 73,
   "id": "06a50de5",
   "metadata": {
    "execution": {
     "iopub.execute_input": "2025-07-30T20:44:06.542509Z",
     "iopub.status.busy": "2025-07-30T20:44:06.542005Z",
     "iopub.status.idle": "2025-07-30T20:44:08.387420Z",
     "shell.execute_reply": "2025-07-30T20:44:08.386690Z"
    },
    "papermill": {
     "duration": 1.863364,
     "end_time": "2025-07-30T20:44:08.388906",
     "exception": false,
     "start_time": "2025-07-30T20:44:06.525542",
     "status": "completed"
    },
    "tags": []
   },
   "outputs": [],
   "source": [
    "example_universe = universe.copy()\n",
    "example_universe[\"cutoff\"] = example_universe[\"cutoff\"][0]\n",
    "example_universe[\"eval_fairness_grouping\"] = example_universe[\"eval_fairness_grouping\"][0]\n",
    "fairness_dict, metric_frame = universe_analysis.compute_metrics(\n",
    "    example_universe,\n",
    "    y_pred_prob=probs_test,\n",
    "    y_test=y_true,\n",
    "    org_test=org_test,\n",
    ")"
   ]
  },
  {
   "cell_type": "markdown",
   "id": "f95d4e02",
   "metadata": {
    "papermill": {
     "duration": 0.017276,
     "end_time": "2025-07-30T20:44:08.422457",
     "exception": false,
     "start_time": "2025-07-30T20:44:08.405181",
     "status": "completed"
    },
    "tags": []
   },
   "source": [
    "# Overall"
   ]
  },
  {
   "cell_type": "markdown",
   "id": "bdee4871",
   "metadata": {
    "papermill": {
     "duration": 0.013232,
     "end_time": "2025-07-30T20:44:08.448915",
     "exception": false,
     "start_time": "2025-07-30T20:44:08.435683",
     "status": "completed"
    },
    "tags": []
   },
   "source": [
    "Fairness\n",
    "Main fairness target: Equalized Odds. Seems to be a better fit than equal opportunity, since we're not only interested in Y = 1. Seems to be a better fit than demographic parity, since we also care about accuracy, not just equal distribution of preds.\n",
    "\n",
    "Pick column for computation of fairness metrics\n",
    "\n",
    "Performance\n",
    "Overall performance measures, most interesting in relation to the measures split by group below"
   ]
  },
  {
   "cell_type": "code",
   "execution_count": 74,
   "id": "c4e067c6",
   "metadata": {
    "execution": {
     "iopub.execute_input": "2025-07-30T20:44:08.479616Z",
     "iopub.status.busy": "2025-07-30T20:44:08.479266Z",
     "iopub.status.idle": "2025-07-30T20:44:08.486034Z",
     "shell.execute_reply": "2025-07-30T20:44:08.485354Z"
    },
    "papermill": {
     "duration": 0.023772,
     "end_time": "2025-07-30T20:44:08.487332",
     "exception": false,
     "start_time": "2025-07-30T20:44:08.463560",
     "status": "completed"
    },
    "tags": []
   },
   "outputs": [
    {
     "data": {
      "text/plain": [
       "accuracy                   0.223888\n",
       "balanced accuracy          0.547539\n",
       "f1                         0.245233\n",
       "precision                  0.140093\n",
       "false positive rate        0.887803\n",
       "false negative rate        0.017119\n",
       "selection rate             0.900000\n",
       "count                  89710.000000\n",
       "dtype: float64"
      ]
     },
     "execution_count": 74,
     "metadata": {},
     "output_type": "execute_result"
    }
   ],
   "source": [
    "metric_frame.overall"
   ]
  },
  {
   "cell_type": "markdown",
   "id": "e968fe9d",
   "metadata": {
    "papermill": {
     "duration": 0.013325,
     "end_time": "2025-07-30T20:44:08.515912",
     "exception": false,
     "start_time": "2025-07-30T20:44:08.502587",
     "status": "completed"
    },
    "tags": []
   },
   "source": [
    "By Group"
   ]
  },
  {
   "cell_type": "code",
   "execution_count": 75,
   "id": "ec325bce",
   "metadata": {
    "execution": {
     "iopub.execute_input": "2025-07-30T20:44:08.544379Z",
     "iopub.status.busy": "2025-07-30T20:44:08.543828Z",
     "iopub.status.idle": "2025-07-30T20:44:08.555758Z",
     "shell.execute_reply": "2025-07-30T20:44:08.555056Z"
    },
    "papermill": {
     "duration": 0.027594,
     "end_time": "2025-07-30T20:44:08.557111",
     "exception": false,
     "start_time": "2025-07-30T20:44:08.529517",
     "status": "completed"
    },
    "tags": []
   },
   "outputs": [
    {
     "data": {
      "text/html": [
       "<div>\n",
       "<style scoped>\n",
       "    .dataframe tbody tr th:only-of-type {\n",
       "        vertical-align: middle;\n",
       "    }\n",
       "\n",
       "    .dataframe tbody tr th {\n",
       "        vertical-align: top;\n",
       "    }\n",
       "\n",
       "    .dataframe thead th {\n",
       "        text-align: right;\n",
       "    }\n",
       "</style>\n",
       "<table border=\"1\" class=\"dataframe\">\n",
       "  <thead>\n",
       "    <tr style=\"text-align: right;\">\n",
       "      <th></th>\n",
       "      <th>accuracy</th>\n",
       "      <th>balanced accuracy</th>\n",
       "      <th>f1</th>\n",
       "      <th>precision</th>\n",
       "      <th>false positive rate</th>\n",
       "      <th>false negative rate</th>\n",
       "      <th>selection rate</th>\n",
       "      <th>count</th>\n",
       "    </tr>\n",
       "    <tr>\n",
       "      <th>majmin</th>\n",
       "      <th></th>\n",
       "      <th></th>\n",
       "      <th></th>\n",
       "      <th></th>\n",
       "      <th></th>\n",
       "      <th></th>\n",
       "      <th></th>\n",
       "      <th></th>\n",
       "    </tr>\n",
       "  </thead>\n",
       "  <tbody>\n",
       "    <tr>\n",
       "      <th>majority</th>\n",
       "      <td>0.242359</td>\n",
       "      <td>0.555896</td>\n",
       "      <td>0.255152</td>\n",
       "      <td>0.146624</td>\n",
       "      <td>0.870265</td>\n",
       "      <td>0.017943</td>\n",
       "      <td>0.885037</td>\n",
       "      <td>69170.0</td>\n",
       "    </tr>\n",
       "    <tr>\n",
       "      <th>minority</th>\n",
       "      <td>0.161685</td>\n",
       "      <td>0.520162</td>\n",
       "      <td>0.213349</td>\n",
       "      <td>0.119615</td>\n",
       "      <td>0.945741</td>\n",
       "      <td>0.013936</td>\n",
       "      <td>0.950389</td>\n",
       "      <td>20540.0</td>\n",
       "    </tr>\n",
       "  </tbody>\n",
       "</table>\n",
       "</div>"
      ],
      "text/plain": [
       "          accuracy  balanced accuracy        f1  precision  \\\n",
       "majmin                                                       \n",
       "majority  0.242359           0.555896  0.255152   0.146624   \n",
       "minority  0.161685           0.520162  0.213349   0.119615   \n",
       "\n",
       "          false positive rate  false negative rate  selection rate    count  \n",
       "majmin                                                                       \n",
       "majority             0.870265             0.017943        0.885037  69170.0  \n",
       "minority             0.945741             0.013936        0.950389  20540.0  "
      ]
     },
     "execution_count": 75,
     "metadata": {},
     "output_type": "execute_result"
    }
   ],
   "source": [
    "metric_frame.by_group"
   ]
  },
  {
   "cell_type": "code",
   "execution_count": 76,
   "id": "a9ddbe63",
   "metadata": {
    "execution": {
     "iopub.execute_input": "2025-07-30T20:44:08.587614Z",
     "iopub.status.busy": "2025-07-30T20:44:08.587126Z",
     "iopub.status.idle": "2025-07-30T20:44:10.648876Z",
     "shell.execute_reply": "2025-07-30T20:44:10.647919Z"
    },
    "papermill": {
     "duration": 2.078083,
     "end_time": "2025-07-30T20:44:10.650408",
     "exception": false,
     "start_time": "2025-07-30T20:44:08.572325",
     "status": "completed"
    },
    "tags": []
   },
   "outputs": [
    {
     "data": {
      "text/plain": [
       "array([[<Axes: title={'center': 'accuracy'}, xlabel='majmin'>,\n",
       "        <Axes: title={'center': 'balanced accuracy'}, xlabel='majmin'>,\n",
       "        <Axes: title={'center': 'f1'}, xlabel='majmin'>],\n",
       "       [<Axes: title={'center': 'precision'}, xlabel='majmin'>,\n",
       "        <Axes: title={'center': 'false positive rate'}, xlabel='majmin'>,\n",
       "        <Axes: title={'center': 'false negative rate'}, xlabel='majmin'>],\n",
       "       [<Axes: title={'center': 'selection rate'}, xlabel='majmin'>,\n",
       "        <Axes: title={'center': 'count'}, xlabel='majmin'>,\n",
       "        <Axes: xlabel='majmin'>]], dtype=object)"
      ]
     },
     "execution_count": 76,
     "metadata": {},
     "output_type": "execute_result"
    },
    {
     "data": {
      "image/png": "[encoded data removed]",
      "text/plain": [
       "<Figure size 1200x800 with 9 Axes>"
      ]
     },
     "metadata": {},
     "output_type": "display_data"
    }
   ],
   "source": [
    "# In a graphic\n",
    "metric_frame.by_group.plot.bar(\n",
    "    subplots=True,\n",
    "    layout=[3, 3],\n",
    "    legend=False,\n",
    "    figsize=[12, 8],\n",
    "    title=\"Show all metrics\",\n",
    ")"
   ]
  },
  {
   "cell_type": "markdown",
   "id": "f57a0bac",
   "metadata": {
    "papermill": {
     "duration": 0.028872,
     "end_time": "2025-07-30T20:44:10.710436",
     "exception": false,
     "start_time": "2025-07-30T20:44:10.681564",
     "status": "completed"
    },
    "tags": []
   },
   "source": [
    "# Final Output"
   ]
  },
  {
   "cell_type": "code",
   "execution_count": 77,
   "id": "96d280a3",
   "metadata": {
    "execution": {
     "iopub.execute_input": "2025-07-30T20:44:10.768932Z",
     "iopub.status.busy": "2025-07-30T20:44:10.768302Z",
     "iopub.status.idle": "2025-07-30T20:44:10.776220Z",
     "shell.execute_reply": "2025-07-30T20:44:10.775326Z"
    },
    "papermill": {
     "duration": 0.039811,
     "end_time": "2025-07-30T20:44:10.777673",
     "exception": false,
     "start_time": "2025-07-30T20:44:10.737862",
     "status": "completed"
    },
    "tags": []
   },
   "outputs": [
    {
     "data": {
      "text/plain": [
       "4"
      ]
     },
     "execution_count": 77,
     "metadata": {},
     "output_type": "execute_result"
    }
   ],
   "source": [
    "sub_universes = universe_analysis.generate_sub_universes()\n",
    "len(sub_universes)"
   ]
  },
  {
   "cell_type": "code",
   "execution_count": 78,
   "id": "92adf7ba",
   "metadata": {
    "execution": {
     "iopub.execute_input": "2025-07-30T20:44:10.837996Z",
     "iopub.status.busy": "2025-07-30T20:44:10.837091Z",
     "iopub.status.idle": "2025-07-30T20:44:10.867325Z",
     "shell.execute_reply": "2025-07-30T20:44:10.866204Z"
    },
    "papermill": {
     "duration": 0.063083,
     "end_time": "2025-07-30T20:44:10.869607",
     "exception": false,
     "start_time": "2025-07-30T20:44:10.806524",
     "status": "completed"
    },
    "tags": []
   },
   "outputs": [],
   "source": [
    "def filter_sub_universe_data(sub_universe, org_test):\n",
    "    # Keep all rows — no filtering\n",
    "    keep_rows_mask = np.ones(org_test.shape[0], dtype=bool)\n",
    "\n",
    "    print(f\"[INFO] Keeping all rows: {keep_rows_mask.sum()} rows retained.\")\n",
    "    return keep_rows_mask"
   ]
  },
  {
   "cell_type": "code",
   "execution_count": 79,
   "id": "4a759155",
   "metadata": {
    "execution": {
     "iopub.execute_input": "2025-07-30T20:44:10.930071Z",
     "iopub.status.busy": "2025-07-30T20:44:10.929347Z",
     "iopub.status.idle": "2025-07-30T20:44:21.220121Z",
     "shell.execute_reply": "2025-07-30T20:44:21.219177Z"
    },
    "papermill": {
     "duration": 10.321325,
     "end_time": "2025-07-30T20:44:21.221760",
     "exception": false,
     "start_time": "2025-07-30T20:44:10.900435",
     "status": "completed"
    },
    "tags": []
   },
   "outputs": [
    {
     "name": "stdout",
     "output_type": "stream",
     "text": [
      "Stopping execution_time clock.\n",
      "[INFO] Keeping all rows: 89710 rows retained.\n"
     ]
    },
    {
     "name": "stdout",
     "output_type": "stream",
     "text": [
      "[INFO] Keeping all rows: 89710 rows retained.\n"
     ]
    },
    {
     "name": "stdout",
     "output_type": "stream",
     "text": [
      "[INFO] Keeping all rows: 89710 rows retained.\n"
     ]
    },
    {
     "name": "stdout",
     "output_type": "stream",
     "text": [
      "[INFO] Keeping all rows: 89710 rows retained.\n"
     ]
    },
    {
     "data": {
      "text/html": [
       "<div>\n",
       "<style scoped>\n",
       "    .dataframe tbody tr th:only-of-type {\n",
       "        vertical-align: middle;\n",
       "    }\n",
       "\n",
       "    .dataframe tbody tr th {\n",
       "        vertical-align: top;\n",
       "    }\n",
       "\n",
       "    .dataframe thead th {\n",
       "        text-align: right;\n",
       "    }\n",
       "</style>\n",
       "<table border=\"1\" class=\"dataframe\">\n",
       "  <thead>\n",
       "    <tr style=\"text-align: right;\">\n",
       "      <th></th>\n",
       "      <th>run_no</th>\n",
       "      <th>universe_id</th>\n",
       "      <th>universe_settings</th>\n",
       "      <th>execution_time</th>\n",
       "      <th>test_size_n</th>\n",
       "      <th>test_size_frac</th>\n",
       "      <th>fair_main_equalized_odds_difference</th>\n",
       "      <th>fair_main_equalized_odds_ratio</th>\n",
       "      <th>fair_main_demographic_parity_difference</th>\n",
       "      <th>fair_main_demographic_parity_ratio</th>\n",
       "      <th>...</th>\n",
       "      <th>perf_grp_precision_0</th>\n",
       "      <th>perf_grp_precision_1</th>\n",
       "      <th>perf_grp_false positive rate_0</th>\n",
       "      <th>perf_grp_false positive rate_1</th>\n",
       "      <th>perf_grp_false negative rate_0</th>\n",
       "      <th>perf_grp_false negative rate_1</th>\n",
       "      <th>perf_grp_selection rate_0</th>\n",
       "      <th>perf_grp_selection rate_1</th>\n",
       "      <th>perf_grp_count_0</th>\n",
       "      <th>perf_grp_count_1</th>\n",
       "    </tr>\n",
       "  </thead>\n",
       "  <tbody>\n",
       "    <tr>\n",
       "      <th>0</th>\n",
       "      <td>14</td>\n",
       "      <td>700a05f3e2bb52fd551051b43e8b5110</td>\n",
       "      <td>{\"cutoff\": \"quantile_0.1\", \"eval_fairness_grou...</td>\n",
       "      <td>24.40212</td>\n",
       "      <td>89710</td>\n",
       "      <td>1.0</td>\n",
       "      <td>0.075476</td>\n",
       "      <td>0.920194</td>\n",
       "      <td>0.065353</td>\n",
       "      <td>0.931236</td>\n",
       "      <td>...</td>\n",
       "      <td>NaN</td>\n",
       "      <td>NaN</td>\n",
       "      <td>NaN</td>\n",
       "      <td>NaN</td>\n",
       "      <td>NaN</td>\n",
       "      <td>NaN</td>\n",
       "      <td>NaN</td>\n",
       "      <td>NaN</td>\n",
       "      <td>NaN</td>\n",
       "      <td>NaN</td>\n",
       "    </tr>\n",
       "    <tr>\n",
       "      <th>0</th>\n",
       "      <td>14</td>\n",
       "      <td>700a05f3e2bb52fd551051b43e8b5110</td>\n",
       "      <td>{\"cutoff\": \"quantile_0.1\", \"eval_fairness_grou...</td>\n",
       "      <td>24.40212</td>\n",
       "      <td>89710</td>\n",
       "      <td>1.0</td>\n",
       "      <td>0.075476</td>\n",
       "      <td>0.920194</td>\n",
       "      <td>0.065353</td>\n",
       "      <td>0.931236</td>\n",
       "      <td>...</td>\n",
       "      <td>0.119615</td>\n",
       "      <td>0.146624</td>\n",
       "      <td>0.945741</td>\n",
       "      <td>0.870265</td>\n",
       "      <td>0.013936</td>\n",
       "      <td>0.017943</td>\n",
       "      <td>0.950389</td>\n",
       "      <td>0.885037</td>\n",
       "      <td>20540.0</td>\n",
       "      <td>69170.0</td>\n",
       "    </tr>\n",
       "    <tr>\n",
       "      <th>0</th>\n",
       "      <td>14</td>\n",
       "      <td>700a05f3e2bb52fd551051b43e8b5110</td>\n",
       "      <td>{\"cutoff\": \"quantile_0.25\", \"eval_fairness_gro...</td>\n",
       "      <td>24.40212</td>\n",
       "      <td>89710</td>\n",
       "      <td>1.0</td>\n",
       "      <td>0.149527</td>\n",
       "      <td>0.821542</td>\n",
       "      <td>0.129892</td>\n",
       "      <td>0.847213</td>\n",
       "      <td>...</td>\n",
       "      <td>NaN</td>\n",
       "      <td>NaN</td>\n",
       "      <td>NaN</td>\n",
       "      <td>NaN</td>\n",
       "      <td>NaN</td>\n",
       "      <td>NaN</td>\n",
       "      <td>NaN</td>\n",
       "      <td>NaN</td>\n",
       "      <td>NaN</td>\n",
       "      <td>NaN</td>\n",
       "    </tr>\n",
       "    <tr>\n",
       "      <th>0</th>\n",
       "      <td>14</td>\n",
       "      <td>700a05f3e2bb52fd551051b43e8b5110</td>\n",
       "      <td>{\"cutoff\": \"quantile_0.25\", \"eval_fairness_gro...</td>\n",
       "      <td>24.40212</td>\n",
       "      <td>89710</td>\n",
       "      <td>1.0</td>\n",
       "      <td>0.149527</td>\n",
       "      <td>0.821542</td>\n",
       "      <td>0.129892</td>\n",
       "      <td>0.847213</td>\n",
       "      <td>...</td>\n",
       "      <td>0.128049</td>\n",
       "      <td>0.170574</td>\n",
       "      <td>0.837882</td>\n",
       "      <td>0.688356</td>\n",
       "      <td>0.055743</td>\n",
       "      <td>0.070241</td>\n",
       "      <td>0.850146</td>\n",
       "      <td>0.720254</td>\n",
       "      <td>20540.0</td>\n",
       "      <td>69170.0</td>\n",
       "    </tr>\n",
       "  </tbody>\n",
       "</table>\n",
       "<p>4 rows × 50 columns</p>\n",
       "</div>"
      ],
      "text/plain": [
       "  run_no                       universe_id  \\\n",
       "0     14  700a05f3e2bb52fd551051b43e8b5110   \n",
       "0     14  700a05f3e2bb52fd551051b43e8b5110   \n",
       "0     14  700a05f3e2bb52fd551051b43e8b5110   \n",
       "0     14  700a05f3e2bb52fd551051b43e8b5110   \n",
       "\n",
       "                                   universe_settings  execution_time  \\\n",
       "0  {\"cutoff\": \"quantile_0.1\", \"eval_fairness_grou...        24.40212   \n",
       "0  {\"cutoff\": \"quantile_0.1\", \"eval_fairness_grou...        24.40212   \n",
       "0  {\"cutoff\": \"quantile_0.25\", \"eval_fairness_gro...        24.40212   \n",
       "0  {\"cutoff\": \"quantile_0.25\", \"eval_fairness_gro...        24.40212   \n",
       "\n",
       "   test_size_n  test_size_frac  fair_main_equalized_odds_difference  \\\n",
       "0        89710             1.0                             0.075476   \n",
       "0        89710             1.0                             0.075476   \n",
       "0        89710             1.0                             0.149527   \n",
       "0        89710             1.0                             0.149527   \n",
       "\n",
       "   fair_main_equalized_odds_ratio  fair_main_demographic_parity_difference  \\\n",
       "0                        0.920194                                 0.065353   \n",
       "0                        0.920194                                 0.065353   \n",
       "0                        0.821542                                 0.129892   \n",
       "0                        0.821542                                 0.129892   \n",
       "\n",
       "   fair_main_demographic_parity_ratio  ...  perf_grp_precision_0  \\\n",
       "0                            0.931236  ...                   NaN   \n",
       "0                            0.931236  ...              0.119615   \n",
       "0                            0.847213  ...                   NaN   \n",
       "0                            0.847213  ...              0.128049   \n",
       "\n",
       "   perf_grp_precision_1  perf_grp_false positive rate_0  \\\n",
       "0                   NaN                             NaN   \n",
       "0              0.146624                        0.945741   \n",
       "0                   NaN                             NaN   \n",
       "0              0.170574                        0.837882   \n",
       "\n",
       "   perf_grp_false positive rate_1  perf_grp_false negative rate_0  \\\n",
       "0                             NaN                             NaN   \n",
       "0                        0.870265                        0.013936   \n",
       "0                             NaN                             NaN   \n",
       "0                        0.688356                        0.055743   \n",
       "\n",
       "   perf_grp_false negative rate_1  perf_grp_selection rate_0  \\\n",
       "0                             NaN                        NaN   \n",
       "0                        0.017943                   0.950389   \n",
       "0                             NaN                        NaN   \n",
       "0                        0.070241                   0.850146   \n",
       "\n",
       "   perf_grp_selection rate_1  perf_grp_count_0  perf_grp_count_1  \n",
       "0                        NaN               NaN               NaN  \n",
       "0                   0.885037           20540.0           69170.0  \n",
       "0                        NaN               NaN               NaN  \n",
       "0                   0.720254           20540.0           69170.0  \n",
       "\n",
       "[4 rows x 50 columns]"
      ]
     },
     "execution_count": 79,
     "metadata": {},
     "output_type": "execute_result"
    }
   ],
   "source": [
    "final_output = universe_analysis.generate_final_output(\n",
    "    y_pred_prob=probs_test,\n",
    "    y_test=y_true,\n",
    "    org_test=org_test,\n",
    "    filter_data=filter_sub_universe_data,\n",
    "    cp_metrics_df=cp_metrics_df,\n",
    "    save=True,\n",
    ")\n",
    "final_output"
   ]
  },
  {
   "cell_type": "code",
   "execution_count": null,
   "id": "721ff514-cb11-46f8-b6fc-50392f74b5cb",
   "metadata": {
    "papermill": {
     "duration": 0.033634,
     "end_time": "2025-07-30T20:44:21.290743",
     "exception": false,
     "start_time": "2025-07-30T20:44:21.257109",
     "status": "completed"
    },
    "tags": []
   },
   "outputs": [],
   "source": []
  }
 ],
 "metadata": {
  "celltoolbar": "Tags",
  "kernelspec": {
   "display_name": "Python (CMA Fairness)",
   "language": "python",
   "name": "cma_fair_env"
  },
  "language_info": {
   "codemirror_mode": {
    "name": "ipython",
    "version": 3
   },
   "file_extension": ".py",
   "mimetype": "text/x-python",
   "name": "python",
   "nbconvert_exporter": "python",
   "pygments_lexer": "ipython3",
   "version": "3.10.12"
  },
  "papermill": {
   "default_parameters": {},
   "duration": 38.588944,
   "end_time": "2025-07-30T20:44:22.043152",
   "environment_variables": {},
   "exception": null,
   "input_path": "universe_analysis.ipynb",
   "output_path": "output/runs/14/notebooks/m_14-700a05f3e2bb52fd551051b43e8b5110.ipynb",
   "parameters": {
    "output_dir": "output",
    "run_no": "14",
    "seed": "2023",
    "universe": "{\"cutoff\": [\"quantile_0.1\", \"quantile_0.25\"], \"eval_fairness_grouping\": [\"majority-minority\", \"nationality-all\"], \"exclude_features\": \"age\", \"exclude_subgroups\": \"keep-all\", \"model\": \"logreg\", \"scale\": \"scale\", \"training_size\": \"5k\", \"training_year\": \"2014\"}",
    "universe_id": "700a05f3e2bb52fd551051b43e8b5110"
   },
   "start_time": "2025-07-30T20:43:43.454208",
   "version": "2.6.0"
  }
 },
 "nbformat": 4,
 "nbformat_minor": 5
}