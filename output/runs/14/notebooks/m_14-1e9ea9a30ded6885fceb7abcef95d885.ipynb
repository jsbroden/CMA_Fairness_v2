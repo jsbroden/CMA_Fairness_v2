{
 "cells": [
  {
   "cell_type": "code",
   "execution_count": 1,
   "id": "f159f837-637b-42ba-96b5-ec9a68c44524",
   "metadata": {
    "execution": {
     "iopub.execute_input": "2025-07-30T21:07:14.149161Z",
     "iopub.status.busy": "2025-07-30T21:07:14.148531Z",
     "iopub.status.idle": "2025-07-30T21:07:14.161687Z",
     "shell.execute_reply": "2025-07-30T21:07:14.160898Z"
    },
    "papermill": {
     "duration": 0.034809,
     "end_time": "2025-07-30T21:07:14.163157",
     "exception": false,
     "start_time": "2025-07-30T21:07:14.128348",
     "status": "completed"
    },
    "tags": []
   },
   "outputs": [
    {
     "name": "stdout",
     "output_type": "stream",
     "text": [
      "/dss/dsshome1/0C/ra93lal2/cma/CMA_Fairness_v2\n"
     ]
    },
    {
     "name": "stderr",
     "output_type": "stream",
     "text": [
      "/dss/dsshome1/0C/ra93lal2/.local/share/virtualenvs/CMA_Fairness_v2-3j10GkSs/lib/python3.10/site-packages/IPython/core/magics/osm.py:393: UserWarning: This is now an optional IPython functionality, using bookmarks requires you to install the `pickleshare` library.\n",
      "  bkms = self.shell.db.get('bookmarks', {})\n",
      "/dss/dsshome1/0C/ra93lal2/.local/share/virtualenvs/CMA_Fairness_v2-3j10GkSs/lib/python3.10/site-packages/IPython/core/magics/osm.py:417: UserWarning: This is now an optional IPython functionality, setting dhist requires you to install the `pickleshare` library.\n",
      "  self.shell.db['dhist'] = compress_dhist(dhist)[-100:]\n"
     ]
    }
   ],
   "source": [
    "%cd ~/cma/CMA_Fairness_v2"
   ]
  },
  {
   "cell_type": "markdown",
   "id": "de2603b9",
   "metadata": {
    "papermill": {
     "duration": 0.01756,
     "end_time": "2025-07-30T21:07:14.199248",
     "exception": false,
     "start_time": "2025-07-30T21:07:14.181688",
     "status": "completed"
    },
    "tags": []
   },
   "source": [
    "The following cell holds the definition of our parameters, these values can be overriden by rendering the with e.g. the following command:\n",
    "\n",
    "papermill -p alpha 0.2 -p ratio 0.3 universe_analysis.ipynb output/test_run.ipynb"
   ]
  },
  {
   "cell_type": "code",
   "execution_count": 2,
   "id": "a80968a0-40bb-4fa9-85ef-2d5eefb01975",
   "metadata": {
    "execution": {
     "iopub.execute_input": "2025-07-30T21:07:14.236359Z",
     "iopub.status.busy": "2025-07-30T21:07:14.235554Z",
     "iopub.status.idle": "2025-07-30T21:07:14.242362Z",
     "shell.execute_reply": "2025-07-30T21:07:14.241601Z"
    },
    "papermill": {
     "duration": 0.027065,
     "end_time": "2025-07-30T21:07:14.243909",
     "exception": false,
     "start_time": "2025-07-30T21:07:14.216844",
     "status": "completed"
    },
    "tags": []
   },
   "outputs": [
    {
     "name": "stdout",
     "output_type": "stream",
     "text": [
      "Current working directory: /dss/dsshome1/0C/ra93lal2/cma/CMA_Fairness_v2\n"
     ]
    }
   ],
   "source": [
    "import os\n",
    "print(\"Current working directory:\", os.getcwd())"
   ]
  },
  {
   "cell_type": "code",
   "execution_count": 3,
   "id": "2dce4c03",
   "metadata": {
    "execution": {
     "iopub.execute_input": "2025-07-30T21:07:14.281724Z",
     "iopub.status.busy": "2025-07-30T21:07:14.281020Z",
     "iopub.status.idle": "2025-07-30T21:07:14.287181Z",
     "shell.execute_reply": "2025-07-30T21:07:14.286368Z"
    },
    "papermill": {
     "duration": 0.026653,
     "end_time": "2025-07-30T21:07:14.288727",
     "exception": false,
     "start_time": "2025-07-30T21:07:14.262074",
     "status": "completed"
    },
    "tags": [
     "parameters"
    ]
   },
   "outputs": [],
   "source": [
    "run_no = 0\n",
    "universe_id = \"test\"\n",
    "universe = {\n",
    "    \"training_size\": \"25k\", # \"25k\", \"5k\", \"1k\"\n",
    "    \"training_year\": \"2014\", # \"2014\", \"2012_14\", \"2010_14\"\n",
    "    \"scale\": \"scale\", # \"scale\", \"do-not-scale\",\n",
    "    #\"stratify_split\": \"target\", # \"none\", \"target\", \"protected-attribute\", \"both\",\n",
    "    \"model\": \"elasticnet\", # \"logreg\", \"penalized_logreg\", \"rf\", \"gbm\", \"elasticnet\"\n",
    "    \"cutoff\": [\"quantile_0.15\", \"quantile_0.30\"],\n",
    "    \"exclude_features\": \"age\", # \"none\", \"nationality\", \"sex\", \"nationality-sex\", \"age\"\n",
    "    \"exclude_subgroups\": \"keep-all\", # \"keep-all\", \"drop-non-german\"\n",
    "    \"eval_fairness_grouping\": [\"majority-minority\", \"nationality-all\"]\n",
    "}\n",
    "\n",
    "output_dir=\"./output\"\n",
    "seed=0"
   ]
  },
  {
   "cell_type": "code",
   "execution_count": 4,
   "id": "9eedac6f",
   "metadata": {
    "execution": {
     "iopub.execute_input": "2025-07-30T21:07:14.326367Z",
     "iopub.status.busy": "2025-07-30T21:07:14.325642Z",
     "iopub.status.idle": "2025-07-30T21:07:14.330778Z",
     "shell.execute_reply": "2025-07-30T21:07:14.329933Z"
    },
    "papermill": {
     "duration": 0.025614,
     "end_time": "2025-07-30T21:07:14.332451",
     "exception": false,
     "start_time": "2025-07-30T21:07:14.306837",
     "status": "completed"
    },
    "tags": [
     "injected-parameters"
    ]
   },
   "outputs": [],
   "source": [
    "# Parameters\n",
    "universe_id = \"1e9ea9a30ded6885fceb7abcef95d885\"\n",
    "run_no = \"14\"\n",
    "universe = \"{\\\"cutoff\\\": [\\\"quantile_0.1\\\", \\\"quantile_0.25\\\"], \\\"eval_fairness_grouping\\\": [\\\"majority-minority\\\", \\\"nationality-all\\\"], \\\"exclude_features\\\": \\\"sex\\\", \\\"exclude_subgroups\\\": \\\"keep-all\\\", \\\"model\\\": \\\"elasticnet\\\", \\\"scale\\\": \\\"do-not-scale\\\", \\\"training_size\\\": \\\"5k\\\", \\\"training_year\\\": \\\"2012_14\\\"}\"\n",
    "output_dir = \"output\"\n",
    "seed = \"2023\"\n"
   ]
  },
  {
   "cell_type": "code",
   "execution_count": 5,
   "id": "1650acaf",
   "metadata": {
    "execution": {
     "iopub.execute_input": "2025-07-30T21:07:14.369964Z",
     "iopub.status.busy": "2025-07-30T21:07:14.369304Z",
     "iopub.status.idle": "2025-07-30T21:07:14.374825Z",
     "shell.execute_reply": "2025-07-30T21:07:14.374001Z"
    },
    "papermill": {
     "duration": 0.025857,
     "end_time": "2025-07-30T21:07:14.376449",
     "exception": false,
     "start_time": "2025-07-30T21:07:14.350592",
     "status": "completed"
    },
    "tags": []
   },
   "outputs": [],
   "source": [
    "import json\n",
    "# Parse universe into dict if it is passed as a string\n",
    "if isinstance(universe, str):\n",
    "    universe = json.loads(universe)"
   ]
  },
  {
   "cell_type": "code",
   "execution_count": 6,
   "id": "16620c48",
   "metadata": {
    "execution": {
     "iopub.execute_input": "2025-07-30T21:07:14.414393Z",
     "iopub.status.busy": "2025-07-30T21:07:14.413906Z",
     "iopub.status.idle": "2025-07-30T21:07:14.457036Z",
     "shell.execute_reply": "2025-07-30T21:07:14.456207Z"
    },
    "papermill": {
     "duration": 0.064059,
     "end_time": "2025-07-30T21:07:14.458715",
     "exception": false,
     "start_time": "2025-07-30T21:07:14.394656",
     "status": "completed"
    },
    "tags": []
   },
   "outputs": [],
   "source": [
    "# Auto-reload the custom package\n",
    "%load_ext autoreload\n",
    "%autoreload 1\n",
    "%aimport fairness_multiverse"
   ]
  },
  {
   "cell_type": "code",
   "execution_count": 7,
   "id": "01c5c9f3",
   "metadata": {
    "execution": {
     "iopub.execute_input": "2025-07-30T21:07:14.496887Z",
     "iopub.status.busy": "2025-07-30T21:07:14.496142Z",
     "iopub.status.idle": "2025-07-30T21:07:16.366368Z",
     "shell.execute_reply": "2025-07-30T21:07:16.365469Z"
    },
    "papermill": {
     "duration": 1.890956,
     "end_time": "2025-07-30T21:07:16.368257",
     "exception": false,
     "start_time": "2025-07-30T21:07:14.477301",
     "status": "completed"
    },
    "tags": []
   },
   "outputs": [],
   "source": [
    "from fairness_multiverse.universe import UniverseAnalysis\n",
    "\n",
    "universe_analysis = UniverseAnalysis(\n",
    "    run_no = run_no,\n",
    "    universe_id = universe_id,\n",
    "    universe = universe,\n",
    "    output_dir=output_dir,\n",
    ")"
   ]
  },
  {
   "cell_type": "code",
   "execution_count": 8,
   "id": "106241f5",
   "metadata": {
    "execution": {
     "iopub.execute_input": "2025-07-30T21:07:16.407813Z",
     "iopub.status.busy": "2025-07-30T21:07:16.407159Z",
     "iopub.status.idle": "2025-07-30T21:07:16.413889Z",
     "shell.execute_reply": "2025-07-30T21:07:16.412898Z"
    },
    "papermill": {
     "duration": 0.028167,
     "end_time": "2025-07-30T21:07:16.415401",
     "exception": false,
     "start_time": "2025-07-30T21:07:16.387234",
     "status": "completed"
    },
    "tags": []
   },
   "outputs": [
    {
     "name": "stdout",
     "output_type": "stream",
     "text": [
      "Using Seed: 2023\n"
     ]
    }
   ],
   "source": [
    "import numpy as np\n",
    "parsed_seed = int(seed)\n",
    "np.random.seed(parsed_seed)\n",
    "print(f\"Using Seed: {parsed_seed}\")"
   ]
  },
  {
   "cell_type": "markdown",
   "id": "e0ebdc57",
   "metadata": {
    "papermill": {
     "duration": 0.018146,
     "end_time": "2025-07-30T21:07:16.452552",
     "exception": false,
     "start_time": "2025-07-30T21:07:16.434406",
     "status": "completed"
    },
    "tags": []
   },
   "source": [
    "# Loading Data"
   ]
  },
  {
   "cell_type": "markdown",
   "id": "681925a3",
   "metadata": {
    "papermill": {
     "duration": 0.017984,
     "end_time": "2025-07-30T21:07:16.488659",
     "exception": false,
     "start_time": "2025-07-30T21:07:16.470675",
     "status": "completed"
    },
    "tags": []
   },
   "source": [
    "Load siab_train, siab_test, siab_calib and/or \n",
    "load siab_train_features, siab_train_labels"
   ]
  },
  {
   "cell_type": "code",
   "execution_count": 9,
   "id": "f0496b8a",
   "metadata": {
    "execution": {
     "iopub.execute_input": "2025-07-30T21:07:16.526812Z",
     "iopub.status.busy": "2025-07-30T21:07:16.526176Z",
     "iopub.status.idle": "2025-07-30T21:07:28.459652Z",
     "shell.execute_reply": "2025-07-30T21:07:28.458337Z"
    },
    "papermill": {
     "duration": 11.954378,
     "end_time": "2025-07-30T21:07:28.461292",
     "exception": false,
     "start_time": "2025-07-30T21:07:16.506914",
     "status": "completed"
    },
    "tags": []
   },
   "outputs": [
    {
     "name": "stdout",
     "output_type": "stream",
     "text": [
      "Loading SIAB data from cache: data/siab_cached.csv.gz\n"
     ]
    },
    {
     "name": "stdout",
     "output_type": "stream",
     "text": [
      "(643690, 164)\n"
     ]
    }
   ],
   "source": [
    "from pathlib import Path\n",
    "import pandas as pd\n",
    "\n",
    "# File paths\n",
    "raw_file = Path(\"data/raw/siab.csv\")\n",
    "cache_file = Path(\"data/siab_cached.csv.gz\")\n",
    "\n",
    "# Ensure cache directory exists\n",
    "cache_file.parent.mkdir(parents=True, exist_ok=True)\n",
    "\n",
    "# Load with simple caching\n",
    "if cache_file.exists():\n",
    "    print(f\"Loading SIAB data from cache: {cache_file}\")\n",
    "    siab = pd.read_csv(cache_file, compression='gzip')\n",
    "else:\n",
    "    print(f\"Cache not found. Reading raw SIAB data: {raw_file}\")\n",
    "    siab = pd.read_csv(raw_file)\n",
    "    siab.to_csv(cache_file, index=False, compression='gzip')\n",
    "    print(f\"Cached SIAB data to: {cache_file}\")\n",
    "\n",
    "# Now use `siab` DataFrame as needed\n",
    "print(siab.shape)"
   ]
  },
  {
   "cell_type": "code",
   "execution_count": 10,
   "id": "db0ca512-5f53-4dba-abdb-a2888bca41ba",
   "metadata": {
    "execution": {
     "iopub.execute_input": "2025-07-30T21:07:28.503654Z",
     "iopub.status.busy": "2025-07-30T21:07:28.502975Z",
     "iopub.status.idle": "2025-07-30T21:07:28.508339Z",
     "shell.execute_reply": "2025-07-30T21:07:28.507469Z"
    },
    "papermill": {
     "duration": 0.026913,
     "end_time": "2025-07-30T21:07:28.509908",
     "exception": false,
     "start_time": "2025-07-30T21:07:28.482995",
     "status": "completed"
    },
    "tags": []
   },
   "outputs": [],
   "source": [
    "#siab"
   ]
  },
  {
   "cell_type": "code",
   "execution_count": 11,
   "id": "a0edb063",
   "metadata": {
    "execution": {
     "iopub.execute_input": "2025-07-30T21:07:28.549504Z",
     "iopub.status.busy": "2025-07-30T21:07:28.548770Z",
     "iopub.status.idle": "2025-07-30T21:07:28.553522Z",
     "shell.execute_reply": "2025-07-30T21:07:28.552635Z"
    },
    "papermill": {
     "duration": 0.025852,
     "end_time": "2025-07-30T21:07:28.555006",
     "exception": false,
     "start_time": "2025-07-30T21:07:28.529154",
     "status": "completed"
    },
    "tags": []
   },
   "outputs": [],
   "source": [
    "#import pandas as pd\n",
    "#\n",
    "#X_train = pd.read_csv(\"./data/X_train.csv\")\n",
    "#y_train = pd.read_csv(\"./data/y_train.csv\")"
   ]
  },
  {
   "cell_type": "code",
   "execution_count": 12,
   "id": "63d08085",
   "metadata": {
    "execution": {
     "iopub.execute_input": "2025-07-30T21:07:28.594501Z",
     "iopub.status.busy": "2025-07-30T21:07:28.593824Z",
     "iopub.status.idle": "2025-07-30T21:07:28.598319Z",
     "shell.execute_reply": "2025-07-30T21:07:28.597489Z"
    },
    "papermill": {
     "duration": 0.025886,
     "end_time": "2025-07-30T21:07:28.600064",
     "exception": false,
     "start_time": "2025-07-30T21:07:28.574178",
     "status": "completed"
    },
    "tags": []
   },
   "outputs": [],
   "source": [
    "#X_test = pd.read_csv(\"./data/X_test.csv\")\n",
    "#y_true = pd.read_csv(\"./data/y_test.csv\")"
   ]
  },
  {
   "cell_type": "code",
   "execution_count": 13,
   "id": "98a8d0fa-1d3d-4ed8-bb2c-281470e24add",
   "metadata": {
    "execution": {
     "iopub.execute_input": "2025-07-30T21:07:28.639494Z",
     "iopub.status.busy": "2025-07-30T21:07:28.639066Z",
     "iopub.status.idle": "2025-07-30T21:07:28.643603Z",
     "shell.execute_reply": "2025-07-30T21:07:28.642736Z"
    },
    "papermill": {
     "duration": 0.025919,
     "end_time": "2025-07-30T21:07:28.645143",
     "exception": false,
     "start_time": "2025-07-30T21:07:28.619224",
     "status": "completed"
    },
    "tags": []
   },
   "outputs": [],
   "source": [
    "# Calibration data for conformal\n",
    "#X_calib = pd.read_csv(\"./data/X_calib.csv\")\n",
    "#y_calib = pd.read_csv(\"./data/y_calib.csv\")"
   ]
  },
  {
   "cell_type": "markdown",
   "id": "997051c5-15bd-4b69-9786-c3001a3ce484",
   "metadata": {
    "papermill": {
     "duration": 0.018871,
     "end_time": "2025-07-30T21:07:28.683438",
     "exception": false,
     "start_time": "2025-07-30T21:07:28.664567",
     "status": "completed"
    },
    "tags": []
   },
   "source": [
    "# Splitting Data and Setting Training Data Size"
   ]
  },
  {
   "cell_type": "code",
   "execution_count": 14,
   "id": "e993b61f-042d-41a6-8c81-f55681f86335",
   "metadata": {
    "execution": {
     "iopub.execute_input": "2025-07-30T21:07:28.722863Z",
     "iopub.status.busy": "2025-07-30T21:07:28.722222Z",
     "iopub.status.idle": "2025-07-30T21:07:28.735125Z",
     "shell.execute_reply": "2025-07-30T21:07:28.734208Z"
    },
    "papermill": {
     "duration": 0.034594,
     "end_time": "2025-07-30T21:07:28.736837",
     "exception": false,
     "start_time": "2025-07-30T21:07:28.702243",
     "status": "completed"
    },
    "tags": []
   },
   "outputs": [],
   "source": [
    "def sample_by_year_size(df,\n",
    "                        training_year: str,\n",
    "                        training_size: str,\n",
    "                        random_state: int = 42):\n",
    "    # --- parse training_year into a list of int years ---\n",
    "    if \"_\" in training_year:\n",
    "        start_str, end_str = training_year.split(\"_\", 1)\n",
    "        start = int(start_str)\n",
    "        end   = int(end_str) if len(end_str) == 4 else (int(end_str) + (start // 100)*100)\n",
    "        years = list(range(start, end + 1))\n",
    "    else:\n",
    "        years = [int(training_year)]\n",
    "\n",
    "    df = df[df[\"year\"].isin(years)].reset_index(drop=True)\n",
    "\n",
    "    # --- map training_size to total number of samples ---\n",
    "    total_map = {\"25k\": 25_000, \"5k\": 5_000, \"1k\": 1_000}\n",
    "    if training_size not in total_map:\n",
    "        return df  # e.g. \"all\"\n",
    "\n",
    "    total_samples = total_map[training_size]\n",
    "    n_years       = len(years)\n",
    "    base          = total_samples // n_years\n",
    "    remainder     = total_samples % n_years\n",
    "\n",
    "    # --- build a dict: year -> how many to sample ---\n",
    "    # give +1 to the first `remainder` years in ascending order\n",
    "    quotas = {\n",
    "        year: base + (1 if idx < remainder else 0)\n",
    "        for idx, year in enumerate(sorted(years))\n",
    "    }\n",
    "\n",
    "    # --- sample per‐year according to the quota dict ---\n",
    "    sampled = (\n",
    "        df\n",
    "        .groupby(\"year\", group_keys=False)\n",
    "        .apply(lambda grp: grp.sample(\n",
    "            n=min(len(grp), quotas[grp.name]),\n",
    "            random_state=random_state))\n",
    "        .reset_index(drop=True)\n",
    "    )\n",
    "\n",
    "    return sampled"
   ]
  },
  {
   "cell_type": "code",
   "execution_count": 15,
   "id": "c0ccd338-0e02-41f3-a09d-f56f9266e3fb",
   "metadata": {
    "execution": {
     "iopub.execute_input": "2025-07-30T21:07:28.777204Z",
     "iopub.status.busy": "2025-07-30T21:07:28.776571Z",
     "iopub.status.idle": "2025-07-30T21:07:28.781337Z",
     "shell.execute_reply": "2025-07-30T21:07:28.780495Z"
    },
    "papermill": {
     "duration": 0.026238,
     "end_time": "2025-07-30T21:07:28.782926",
     "exception": false,
     "start_time": "2025-07-30T21:07:28.756688",
     "status": "completed"
    },
    "tags": []
   },
   "outputs": [],
   "source": [
    "#universe[\"training_size\"]"
   ]
  },
  {
   "cell_type": "code",
   "execution_count": 16,
   "id": "ca707fd7-8047-4acd-bfa5-66248fbbf8e6",
   "metadata": {
    "execution": {
     "iopub.execute_input": "2025-07-30T21:07:28.822939Z",
     "iopub.status.busy": "2025-07-30T21:07:28.822331Z",
     "iopub.status.idle": "2025-07-30T21:07:28.826979Z",
     "shell.execute_reply": "2025-07-30T21:07:28.826100Z"
    },
    "papermill": {
     "duration": 0.026246,
     "end_time": "2025-07-30T21:07:28.828531",
     "exception": false,
     "start_time": "2025-07-30T21:07:28.802285",
     "status": "completed"
    },
    "tags": []
   },
   "outputs": [],
   "source": [
    "#universe[\"training_year\"]"
   ]
  },
  {
   "cell_type": "code",
   "execution_count": 17,
   "id": "aea9c6ef-6f46-42c8-85eb-5a62025c1508",
   "metadata": {
    "execution": {
     "iopub.execute_input": "2025-07-30T21:07:28.868644Z",
     "iopub.status.busy": "2025-07-30T21:07:28.867744Z",
     "iopub.status.idle": "2025-07-30T21:07:29.432225Z",
     "shell.execute_reply": "2025-07-30T21:07:29.431331Z"
    },
    "papermill": {
     "duration": 0.586194,
     "end_time": "2025-07-30T21:07:29.434062",
     "exception": false,
     "start_time": "2025-07-30T21:07:28.847868",
     "status": "completed"
    },
    "tags": []
   },
   "outputs": [],
   "source": [
    "siab_train = sample_by_year_size(siab,\n",
    "                               training_year=universe[\"training_year\"],\n",
    "                               training_size=universe[\"training_size\"])"
   ]
  },
  {
   "cell_type": "code",
   "execution_count": 18,
   "id": "8d3afb32-789d-442c-8d5d-9f5aa8dd2eed",
   "metadata": {
    "execution": {
     "iopub.execute_input": "2025-07-30T21:07:29.474743Z",
     "iopub.status.busy": "2025-07-30T21:07:29.474061Z",
     "iopub.status.idle": "2025-07-30T21:07:29.479056Z",
     "shell.execute_reply": "2025-07-30T21:07:29.478127Z"
    },
    "papermill": {
     "duration": 0.026986,
     "end_time": "2025-07-30T21:07:29.480744",
     "exception": false,
     "start_time": "2025-07-30T21:07:29.453758",
     "status": "completed"
    },
    "tags": []
   },
   "outputs": [],
   "source": [
    "#siab_train.shape"
   ]
  },
  {
   "cell_type": "code",
   "execution_count": 19,
   "id": "d582db68-1a4c-47fb-84fc-08518dc1975a",
   "metadata": {
    "execution": {
     "iopub.execute_input": "2025-07-30T21:07:29.520990Z",
     "iopub.status.busy": "2025-07-30T21:07:29.520204Z",
     "iopub.status.idle": "2025-07-30T21:07:29.524946Z",
     "shell.execute_reply": "2025-07-30T21:07:29.524123Z"
    },
    "papermill": {
     "duration": 0.026204,
     "end_time": "2025-07-30T21:07:29.526498",
     "exception": false,
     "start_time": "2025-07-30T21:07:29.500294",
     "status": "completed"
    },
    "tags": []
   },
   "outputs": [],
   "source": [
    "#display(siab_train.groupby(\"year\").size())"
   ]
  },
  {
   "cell_type": "code",
   "execution_count": 20,
   "id": "a561edb4-d032-42cb-8256-22eac1111c64",
   "metadata": {
    "execution": {
     "iopub.execute_input": "2025-07-30T21:07:29.566732Z",
     "iopub.status.busy": "2025-07-30T21:07:29.565929Z",
     "iopub.status.idle": "2025-07-30T21:07:29.782252Z",
     "shell.execute_reply": "2025-07-30T21:07:29.781384Z"
    },
    "papermill": {
     "duration": 0.237951,
     "end_time": "2025-07-30T21:07:29.784000",
     "exception": false,
     "start_time": "2025-07-30T21:07:29.546049",
     "status": "completed"
    },
    "tags": []
   },
   "outputs": [],
   "source": [
    "#siab_train = siab_s[siab_s.year < 2015]\n",
    "siab_calib = siab[siab.year == 2015]\n",
    "siab_test = siab[siab.year == 2016]"
   ]
  },
  {
   "cell_type": "code",
   "execution_count": 21,
   "id": "472de16f-c3db-4916-846b-1f0de9cf1746",
   "metadata": {
    "execution": {
     "iopub.execute_input": "2025-07-30T21:07:29.825319Z",
     "iopub.status.busy": "2025-07-30T21:07:29.824696Z",
     "iopub.status.idle": "2025-07-30T21:07:29.832875Z",
     "shell.execute_reply": "2025-07-30T21:07:29.831946Z"
    },
    "papermill": {
     "duration": 0.030493,
     "end_time": "2025-07-30T21:07:29.834466",
     "exception": false,
     "start_time": "2025-07-30T21:07:29.803973",
     "status": "completed"
    },
    "tags": []
   },
   "outputs": [],
   "source": [
    "X_train = siab_train.iloc[:,4:164]\n",
    "y_train = siab_train.iloc[:, [3]]"
   ]
  },
  {
   "cell_type": "code",
   "execution_count": 22,
   "id": "828c96af-f43a-4ed6-ba47-8ac73a47d56c",
   "metadata": {
    "execution": {
     "iopub.execute_input": "2025-07-30T21:07:29.875456Z",
     "iopub.status.busy": "2025-07-30T21:07:29.874838Z",
     "iopub.status.idle": "2025-07-30T21:07:29.923478Z",
     "shell.execute_reply": "2025-07-30T21:07:29.922408Z"
    },
    "papermill": {
     "duration": 0.070734,
     "end_time": "2025-07-30T21:07:29.925174",
     "exception": false,
     "start_time": "2025-07-30T21:07:29.854440",
     "status": "completed"
    },
    "tags": []
   },
   "outputs": [],
   "source": [
    "X_calib = siab_calib.iloc[:,4:164]\n",
    "y_calib = siab_calib.iloc[:, [3]]"
   ]
  },
  {
   "cell_type": "code",
   "execution_count": 23,
   "id": "c34be9c3-6bd6-476e-acd3-845840e303be",
   "metadata": {
    "execution": {
     "iopub.execute_input": "2025-07-30T21:07:29.966290Z",
     "iopub.status.busy": "2025-07-30T21:07:29.965679Z",
     "iopub.status.idle": "2025-07-30T21:07:30.020715Z",
     "shell.execute_reply": "2025-07-30T21:07:30.019715Z"
    },
    "papermill": {
     "duration": 0.076814,
     "end_time": "2025-07-30T21:07:30.022308",
     "exception": false,
     "start_time": "2025-07-30T21:07:29.945494",
     "status": "completed"
    },
    "tags": []
   },
   "outputs": [],
   "source": [
    "X_test = siab_test.iloc[:,4:164]\n",
    "y_true = siab_test.iloc[:, [3]]"
   ]
  },
  {
   "cell_type": "markdown",
   "id": "9901737e-04df-44f0-9100-f5ad144ed040",
   "metadata": {
    "papermill": {
     "duration": 0.019406,
     "end_time": "2025-07-30T21:07:30.062234",
     "exception": false,
     "start_time": "2025-07-30T21:07:30.042828",
     "status": "completed"
    },
    "tags": []
   },
   "source": [
    "# Splitting Data and Setting Training Data Size OLD VERSION"
   ]
  },
  {
   "cell_type": "code",
   "execution_count": 24,
   "id": "acbc8f7d-8fc8-4e86-8c59-5dcb0f58384b",
   "metadata": {
    "execution": {
     "iopub.execute_input": "2025-07-30T21:07:30.103272Z",
     "iopub.status.busy": "2025-07-30T21:07:30.102634Z",
     "iopub.status.idle": "2025-07-30T21:07:30.108352Z",
     "shell.execute_reply": "2025-07-30T21:07:30.107345Z"
    },
    "papermill": {
     "duration": 0.028176,
     "end_time": "2025-07-30T21:07:30.110174",
     "exception": false,
     "start_time": "2025-07-30T21:07:30.081998",
     "status": "completed"
    },
    "tags": []
   },
   "outputs": [],
   "source": [
    "#def sample_by_year(df, training_size, random_state=42):\n",
    "#    if training_size == \"2014\":\n",
    "#        return df[df[\"year\"] == 2014].reset_index(drop=True)\n",
    "#    \n",
    "#    size_map = {\n",
    "#        \"25k\": 5000,\n",
    "#        \"5k\": 1000,\n",
    "#        \"1k\": 200\n",
    "#    }\n",
    "#\n",
    "#    if training_size not in size_map:\n",
    "#        return df.reset_index(drop=True)  # use all data\n",
    "#\n",
    "#    n_per_year = size_map[training_size]\n",
    "#    grouped = df.groupby(\"year\")\n",
    "#    sampled = grouped.apply(lambda x: x.sample(n=min(n_per_year, len(x)), random_state=random_state))\n",
    "#    return sampled.reset_index(drop=True)"
   ]
  },
  {
   "cell_type": "code",
   "execution_count": 25,
   "id": "6d931f52-beaf-43ff-9e78-9d44a448d54e",
   "metadata": {
    "execution": {
     "iopub.execute_input": "2025-07-30T21:07:30.151377Z",
     "iopub.status.busy": "2025-07-30T21:07:30.150765Z",
     "iopub.status.idle": "2025-07-30T21:07:30.155563Z",
     "shell.execute_reply": "2025-07-30T21:07:30.154787Z"
    },
    "papermill": {
     "duration": 0.026945,
     "end_time": "2025-07-30T21:07:30.157166",
     "exception": false,
     "start_time": "2025-07-30T21:07:30.130221",
     "status": "completed"
    },
    "tags": []
   },
   "outputs": [],
   "source": [
    "#siab_s = sample_by_year(siab, universe[\"training_size\"])"
   ]
  },
  {
   "cell_type": "code",
   "execution_count": 26,
   "id": "5db0a40e-a4e2-4920-be85-b12ae061d70d",
   "metadata": {
    "execution": {
     "iopub.execute_input": "2025-07-30T21:07:30.198757Z",
     "iopub.status.busy": "2025-07-30T21:07:30.198106Z",
     "iopub.status.idle": "2025-07-30T21:07:30.203031Z",
     "shell.execute_reply": "2025-07-30T21:07:30.202135Z"
    },
    "papermill": {
     "duration": 0.027498,
     "end_time": "2025-07-30T21:07:30.204587",
     "exception": false,
     "start_time": "2025-07-30T21:07:30.177089",
     "status": "completed"
    },
    "tags": []
   },
   "outputs": [],
   "source": [
    "#display(siab_s.groupby(\"year\").size())"
   ]
  },
  {
   "cell_type": "code",
   "execution_count": 27,
   "id": "e6c733c5",
   "metadata": {
    "execution": {
     "iopub.execute_input": "2025-07-30T21:07:30.245866Z",
     "iopub.status.busy": "2025-07-30T21:07:30.245254Z",
     "iopub.status.idle": "2025-07-30T21:07:30.338819Z",
     "shell.execute_reply": "2025-07-30T21:07:30.337876Z"
    },
    "papermill": {
     "duration": 0.116,
     "end_time": "2025-07-30T21:07:30.340596",
     "exception": false,
     "start_time": "2025-07-30T21:07:30.224596",
     "status": "completed"
    },
    "tags": []
   },
   "outputs": [],
   "source": [
    "# Auxiliary data needed downstream in the pipeline\n",
    "\n",
    "org_train = X_train.copy()\n",
    "org_test = X_test.copy()\n",
    "org_calib = X_calib.copy()"
   ]
  },
  {
   "cell_type": "code",
   "execution_count": 28,
   "id": "1466abac-c6da-4492-a62f-4240ae3783af",
   "metadata": {
    "execution": {
     "iopub.execute_input": "2025-07-30T21:07:30.382890Z",
     "iopub.status.busy": "2025-07-30T21:07:30.382265Z",
     "iopub.status.idle": "2025-07-30T21:07:30.388067Z",
     "shell.execute_reply": "2025-07-30T21:07:30.387124Z"
    },
    "papermill": {
     "duration": 0.028439,
     "end_time": "2025-07-30T21:07:30.389708",
     "exception": false,
     "start_time": "2025-07-30T21:07:30.361269",
     "status": "completed"
    },
    "tags": []
   },
   "outputs": [],
   "source": [
    "# put in other script?\n",
    "# Group sizes\n",
    "\n",
    "#def calculate_percentages(df, df_name):\n",
    "#    total_entries = len(df)\n",
    "#\n",
    "#    female_pct = (df['frau1'] == 1).mean() * 100\n",
    "#    non_german_pct = ((df['maxdeutsch1'] == 0) & (df['maxdeutsch.Missing.'] == 0)).mean() * 100\n",
    "#    non_german_male_pct = ((df['frau1'] == 0) & (df['maxdeutsch1'] == 0) & (df['maxdeutsch.Missing.'] == 0)).mean() * 100\n",
    "#    non_german_female_pct = ((df['frau1'] == 1) & (df['maxdeutsch1'] == 0) & (df['maxdeutsch.Missing.'] == 0)).mean() * 100\n",
    "#\n",
    "#    print(f\"--- {df_name} ---\")\n",
    "#    print(f\"Female: {female_pct:.2f}%\")\n",
    "#    print(f\"Non-German: {non_german_pct:.2f}%\")\n",
    "#    print(f\"Non-German Male: {non_german_male_pct:.2f}%\")\n",
    "#    print(f\"Non-German Female: {non_german_female_pct:.2f}%\\n\")\n",
    "#\n",
    "## Calculate for each DataFrame\n",
    "#calculate_percentages(siab_calib, \"siab_calib\")\n",
    "#calculate_percentages(siab_test, \"siab_test\")\n",
    "#calculate_percentages(siab_train, \"siab_train\")"
   ]
  },
  {
   "cell_type": "markdown",
   "id": "0a4a1b33",
   "metadata": {
    "papermill": {
     "duration": 0.019751,
     "end_time": "2025-07-30T21:07:30.429678",
     "exception": false,
     "start_time": "2025-07-30T21:07:30.409927",
     "status": "completed"
    },
    "tags": []
   },
   "source": [
    "# Preprocessing Data"
   ]
  },
  {
   "cell_type": "code",
   "execution_count": 29,
   "id": "ca879031",
   "metadata": {
    "execution": {
     "iopub.execute_input": "2025-07-30T21:07:30.470788Z",
     "iopub.status.busy": "2025-07-30T21:07:30.470153Z",
     "iopub.status.idle": "2025-07-30T21:07:30.476296Z",
     "shell.execute_reply": "2025-07-30T21:07:30.475457Z"
    },
    "papermill": {
     "duration": 0.028285,
     "end_time": "2025-07-30T21:07:30.477793",
     "exception": false,
     "start_time": "2025-07-30T21:07:30.449508",
     "status": "completed"
    },
    "tags": []
   },
   "outputs": [],
   "source": [
    "# EXCLUDE PROTECTED FEATURES\n",
    "# ----------------------\n",
    "# \"exclude_features\": \"none\", # \"nationality\", \"sex\", \"nationality-sex\"\n",
    "\n",
    "excluded_features = universe[\"exclude_features\"].split(\"-\") # split, e.g.: \"nationality-sex\" -> [\"nationality\", \"sex\"]\n",
    "excluded_features_dictionary = {\n",
    "    \"nationality\": [\"maxdeutsch1\", \"maxdeutsch.Missing.\"],\n",
    "    \"sex\": [\"frau1\"],\n",
    "    \"age\": [\"age\"],\n",
    "}\n"
   ]
  },
  {
   "cell_type": "code",
   "execution_count": 30,
   "id": "b745ac60",
   "metadata": {
    "execution": {
     "iopub.execute_input": "2025-07-30T21:07:30.519308Z",
     "iopub.status.busy": "2025-07-30T21:07:30.518681Z",
     "iopub.status.idle": "2025-07-30T21:07:30.524282Z",
     "shell.execute_reply": "2025-07-30T21:07:30.523265Z"
    },
    "papermill": {
     "duration": 0.027739,
     "end_time": "2025-07-30T21:07:30.525786",
     "exception": false,
     "start_time": "2025-07-30T21:07:30.498047",
     "status": "completed"
    },
    "tags": []
   },
   "outputs": [],
   "source": [
    "# Code nice names to column names\n",
    "\n",
    "excluded_features_columns = [\n",
    "    excluded_features_dictionary[f] for f in excluded_features if len(f) > 0 and f != \"none\"\n",
    "]"
   ]
  },
  {
   "cell_type": "code",
   "execution_count": 31,
   "id": "f84f73a2",
   "metadata": {
    "execution": {
     "iopub.execute_input": "2025-07-30T21:07:30.567613Z",
     "iopub.status.busy": "2025-07-30T21:07:30.566989Z",
     "iopub.status.idle": "2025-07-30T21:07:30.573842Z",
     "shell.execute_reply": "2025-07-30T21:07:30.573021Z"
    },
    "papermill": {
     "duration": 0.02926,
     "end_time": "2025-07-30T21:07:30.575373",
     "exception": false,
     "start_time": "2025-07-30T21:07:30.546113",
     "status": "completed"
    },
    "tags": []
   },
   "outputs": [],
   "source": [
    "from utils import flatten_once\n",
    "\n",
    "excluded_features_columns = flatten_once(excluded_features_columns)"
   ]
  },
  {
   "cell_type": "code",
   "execution_count": 32,
   "id": "884dea22",
   "metadata": {
    "execution": {
     "iopub.execute_input": "2025-07-30T21:07:30.617275Z",
     "iopub.status.busy": "2025-07-30T21:07:30.616669Z",
     "iopub.status.idle": "2025-07-30T21:07:30.626608Z",
     "shell.execute_reply": "2025-07-30T21:07:30.625626Z"
    },
    "papermill": {
     "duration": 0.032499,
     "end_time": "2025-07-30T21:07:30.628243",
     "exception": false,
     "start_time": "2025-07-30T21:07:30.595744",
     "status": "completed"
    },
    "tags": []
   },
   "outputs": [
    {
     "name": "stdout",
     "output_type": "stream",
     "text": [
      "Dropping features: ['frau1']\n"
     ]
    }
   ],
   "source": [
    "if len(excluded_features_columns) > 0:\n",
    "    print(f\"Dropping features: {excluded_features_columns}\")\n",
    "    X_train.drop(excluded_features_columns, axis=1, inplace=True)"
   ]
  },
  {
   "cell_type": "code",
   "execution_count": 33,
   "id": "95ab8b16",
   "metadata": {
    "execution": {
     "iopub.execute_input": "2025-07-30T21:07:30.671435Z",
     "iopub.status.busy": "2025-07-30T21:07:30.670822Z",
     "iopub.status.idle": "2025-07-30T21:07:30.720659Z",
     "shell.execute_reply": "2025-07-30T21:07:30.719640Z"
    },
    "papermill": {
     "duration": 0.073829,
     "end_time": "2025-07-30T21:07:30.723137",
     "exception": false,
     "start_time": "2025-07-30T21:07:30.649308",
     "status": "completed"
    },
    "tags": []
   },
   "outputs": [
    {
     "name": "stdout",
     "output_type": "stream",
     "text": [
      "Dropping features: ['frau1']\n"
     ]
    }
   ],
   "source": [
    "if len(excluded_features_columns) > 0:\n",
    "    print(f\"Dropping features: {excluded_features_columns}\")\n",
    "    X_test.drop(excluded_features_columns, axis=1, inplace=True)"
   ]
  },
  {
   "cell_type": "code",
   "execution_count": 34,
   "id": "1853aaf5-fb9f-46cb-a2b5-8ea4ae2237e4",
   "metadata": {
    "execution": {
     "iopub.execute_input": "2025-07-30T21:07:30.766091Z",
     "iopub.status.busy": "2025-07-30T21:07:30.765470Z",
     "iopub.status.idle": "2025-07-30T21:07:30.814135Z",
     "shell.execute_reply": "2025-07-30T21:07:30.813198Z"
    },
    "papermill": {
     "duration": 0.071611,
     "end_time": "2025-07-30T21:07:30.815822",
     "exception": false,
     "start_time": "2025-07-30T21:07:30.744211",
     "status": "completed"
    },
    "tags": []
   },
   "outputs": [
    {
     "name": "stdout",
     "output_type": "stream",
     "text": [
      "Dropping features: ['frau1']\n"
     ]
    }
   ],
   "source": [
    "if len(excluded_features_columns) > 0:\n",
    "    print(f\"Dropping features: {excluded_features_columns}\")\n",
    "    X_calib.drop(excluded_features_columns, axis=1, inplace=True)"
   ]
  },
  {
   "cell_type": "code",
   "execution_count": 35,
   "id": "6727d079-03e5-481e-9d38-292a90b7a0a8",
   "metadata": {
    "execution": {
     "iopub.execute_input": "2025-07-30T21:07:30.859505Z",
     "iopub.status.busy": "2025-07-30T21:07:30.858888Z",
     "iopub.status.idle": "2025-07-30T21:07:30.863908Z",
     "shell.execute_reply": "2025-07-30T21:07:30.863080Z"
    },
    "papermill": {
     "duration": 0.028047,
     "end_time": "2025-07-30T21:07:30.865388",
     "exception": false,
     "start_time": "2025-07-30T21:07:30.837341",
     "status": "completed"
    },
    "tags": []
   },
   "outputs": [],
   "source": [
    "# SPLIT & STRATIFY DATA\n",
    "# ----------------------"
   ]
  },
  {
   "cell_type": "code",
   "execution_count": 36,
   "id": "76c4dc6d",
   "metadata": {
    "execution": {
     "iopub.execute_input": "2025-07-30T21:07:30.908652Z",
     "iopub.status.busy": "2025-07-30T21:07:30.908006Z",
     "iopub.status.idle": "2025-07-30T21:07:30.913348Z",
     "shell.execute_reply": "2025-07-30T21:07:30.912391Z"
    },
    "papermill": {
     "duration": 0.028647,
     "end_time": "2025-07-30T21:07:30.914833",
     "exception": false,
     "start_time": "2025-07-30T21:07:30.886186",
     "status": "completed"
    },
    "tags": []
   },
   "outputs": [],
   "source": [
    "# EXCLUDE CERTAIN SUBGROUPS\n",
    "# ----------------------\n",
    "\n",
    "mode = universe.get(\"exclude_subgroups\", \"keep-all\") \n",
    "# Fetches the exclude_subgroups setting from the universe dict.\n",
    "# Defaults to \"keep-all\" if the key is missing."
   ]
  },
  {
   "cell_type": "code",
   "execution_count": 37,
   "id": "21994072",
   "metadata": {
    "execution": {
     "iopub.execute_input": "2025-07-30T21:07:30.957959Z",
     "iopub.status.busy": "2025-07-30T21:07:30.957160Z",
     "iopub.status.idle": "2025-07-30T21:07:30.963617Z",
     "shell.execute_reply": "2025-07-30T21:07:30.962766Z"
    },
    "papermill": {
     "duration": 0.029547,
     "end_time": "2025-07-30T21:07:30.965110",
     "exception": false,
     "start_time": "2025-07-30T21:07:30.935563",
     "status": "completed"
    },
    "tags": []
   },
   "outputs": [],
   "source": [
    "if mode == \"keep-all\":\n",
    "    keep_mask = pd.Series(True, index=org_train.index)\n",
    "\n",
    "# org_train contains the original feature columns from features_org (in Simson)\n",
    "# features_org contains unprocessed features, for me X_train at beginning ???\n",
    "# For keep-all, creates a boolean Series (keep_mask) of all True, so no rows are removed.\n",
    "\n",
    "elif mode == \"drop-non-german\":\n",
    "    keep_mask = org_train[\"maxdeutsch1\"] == 1 # ??? what about missing values?\n",
    "\n",
    "else:\n",
    "    raise ValueError(f\"Unsupported mode for exclude_subgroups: {mode}\")\n"
   ]
  },
  {
   "cell_type": "code",
   "execution_count": 38,
   "id": "71651440",
   "metadata": {
    "execution": {
     "iopub.execute_input": "2025-07-30T21:07:31.008087Z",
     "iopub.status.busy": "2025-07-30T21:07:31.007465Z",
     "iopub.status.idle": "2025-07-30T21:07:31.013707Z",
     "shell.execute_reply": "2025-07-30T21:07:31.012728Z"
    },
    "papermill": {
     "duration": 0.029245,
     "end_time": "2025-07-30T21:07:31.015194",
     "exception": false,
     "start_time": "2025-07-30T21:07:30.985949",
     "status": "completed"
    },
    "tags": []
   },
   "outputs": [],
   "source": [
    "n_drop = (~keep_mask).sum() # Calculates how many rows are set to be dropped\n",
    "if n_drop > 0:\n",
    "    pct = n_drop / len(keep_mask) * 100\n",
    "    print(f\"Dropping {n_drop} rows ({pct:.2f}%) where mode='{mode}'\")"
   ]
  },
  {
   "cell_type": "code",
   "execution_count": 39,
   "id": "5fb8eee5",
   "metadata": {
    "execution": {
     "iopub.execute_input": "2025-07-30T21:07:31.058460Z",
     "iopub.status.busy": "2025-07-30T21:07:31.057846Z",
     "iopub.status.idle": "2025-07-30T21:07:31.065477Z",
     "shell.execute_reply": "2025-07-30T21:07:31.064668Z"
    },
    "papermill": {
     "duration": 0.030833,
     "end_time": "2025-07-30T21:07:31.067062",
     "exception": false,
     "start_time": "2025-07-30T21:07:31.036229",
     "status": "completed"
    },
    "tags": []
   },
   "outputs": [],
   "source": [
    "X_train = X_train[keep_mask]"
   ]
  },
  {
   "cell_type": "code",
   "execution_count": 40,
   "id": "b202bb3a",
   "metadata": {
    "execution": {
     "iopub.execute_input": "2025-07-30T21:07:31.110821Z",
     "iopub.status.busy": "2025-07-30T21:07:31.110206Z",
     "iopub.status.idle": "2025-07-30T21:07:31.116235Z",
     "shell.execute_reply": "2025-07-30T21:07:31.115372Z"
    },
    "papermill": {
     "duration": 0.029415,
     "end_time": "2025-07-30T21:07:31.117698",
     "exception": false,
     "start_time": "2025-07-30T21:07:31.088283",
     "status": "completed"
    },
    "tags": []
   },
   "outputs": [],
   "source": [
    "y_train = y_train[keep_mask]"
   ]
  },
  {
   "cell_type": "markdown",
   "id": "493e2ac3",
   "metadata": {
    "papermill": {
     "duration": 0.021112,
     "end_time": "2025-07-30T21:07:31.160148",
     "exception": false,
     "start_time": "2025-07-30T21:07:31.139036",
     "status": "completed"
    },
    "tags": []
   },
   "source": [
    "# Model Training"
   ]
  },
  {
   "cell_type": "code",
   "execution_count": 41,
   "id": "679e1268",
   "metadata": {
    "execution": {
     "iopub.execute_input": "2025-07-30T21:07:31.203298Z",
     "iopub.status.busy": "2025-07-30T21:07:31.202664Z",
     "iopub.status.idle": "2025-07-30T21:07:31.302706Z",
     "shell.execute_reply": "2025-07-30T21:07:31.301852Z"
    },
    "papermill": {
     "duration": 0.123806,
     "end_time": "2025-07-30T21:07:31.304624",
     "exception": false,
     "start_time": "2025-07-30T21:07:31.180818",
     "status": "completed"
    },
    "tags": []
   },
   "outputs": [],
   "source": [
    "from sklearn.linear_model import LogisticRegression\n",
    "from sklearn.ensemble import GradientBoostingClassifier, RandomForestClassifier\n",
    "\n",
    "if (universe[\"model\"] == \"logreg\"):\n",
    "    model = LogisticRegression() #penalty=\"none\") #, solver=\"newton-cg\", max_iter=1) # include random_state=19 ?\n",
    "elif (universe[\"model\"] == \"penalized_logreg\"):\n",
    "    model = LogisticRegression(penalty=\"l2\", C=1.0) #, solver=\"newton-cg\", max_iter=1)\n",
    "elif (universe[\"model\"] == \"rf\"):\n",
    "    model = RandomForestClassifier(n_estimators=100, n_jobs=-1)\n",
    "elif (universe[\"model\"] == \"gbm\"):\n",
    "    model = GradientBoostingClassifier()\n",
    "elif (universe[\"model\"] == \"elasticnet\"):\n",
    "    model = LogisticRegression(penalty = 'elasticnet', solver = 'saga', l1_ratio = 0.5, max_iter=5000) # which solver to use?\n",
    "else:\n",
    "    raise \"Unsupported universe.model\""
   ]
  },
  {
   "cell_type": "code",
   "execution_count": 42,
   "id": "0cc8f744",
   "metadata": {
    "execution": {
     "iopub.execute_input": "2025-07-30T21:07:31.348918Z",
     "iopub.status.busy": "2025-07-30T21:07:31.348272Z",
     "iopub.status.idle": "2025-07-30T21:07:31.354631Z",
     "shell.execute_reply": "2025-07-30T21:07:31.353717Z"
    },
    "papermill": {
     "duration": 0.030122,
     "end_time": "2025-07-30T21:07:31.356319",
     "exception": false,
     "start_time": "2025-07-30T21:07:31.326197",
     "status": "completed"
    },
    "tags": []
   },
   "outputs": [],
   "source": [
    "import numpy as np\n",
    "from sklearn.pipeline import Pipeline\n",
    "from sklearn.preprocessing import StandardScaler\n",
    "\n",
    "model = Pipeline([\n",
    "    #(\"continuous_processor\", continuous_processor),\n",
    "    #(\"categorical_preprocessor\", categorical_preprocessor),\n",
    "    (\"scale\", StandardScaler() if universe[\"scale\"] == \"scale\" else None), \n",
    "    (\"model\", model),\n",
    "])"
   ]
  },
  {
   "cell_type": "code",
   "execution_count": 43,
   "id": "9442c04d",
   "metadata": {
    "execution": {
     "iopub.execute_input": "2025-07-30T21:07:31.400876Z",
     "iopub.status.busy": "2025-07-30T21:07:31.399837Z",
     "iopub.status.idle": "2025-07-30T21:08:50.742955Z",
     "shell.execute_reply": "2025-07-30T21:08:50.742049Z"
    },
    "papermill": {
     "duration": 79.390945,
     "end_time": "2025-07-30T21:08:50.768778",
     "exception": false,
     "start_time": "2025-07-30T21:07:31.377833",
     "status": "completed"
    },
    "tags": []
   },
   "outputs": [
    {
     "data": {
      "text/html": [
       "<style>#sk-container-id-1 {color: black;background-color: white;}#sk-container-id-1 pre{padding: 0;}#sk-container-id-1 div.sk-toggleable {background-color: white;}#sk-container-id-1 label.sk-toggleable__label {cursor: pointer;display: block;width: 100%;margin-bottom: 0;padding: 0.3em;box-sizing: border-box;text-align: center;}#sk-container-id-1 label.sk-toggleable__label-arrow:before {content: \"▸\";float: left;margin-right: 0.25em;color: #696969;}#sk-container-id-1 label.sk-toggleable__label-arrow:hover:before {color: black;}#sk-container-id-1 div.sk-estimator:hover label.sk-toggleable__label-arrow:before {color: black;}#sk-container-id-1 div.sk-toggleable__content {max-height: 0;max-width: 0;overflow: hidden;text-align: left;background-color: #f0f8ff;}#sk-container-id-1 div.sk-toggleable__content pre {margin: 0.2em;color: black;border-radius: 0.25em;background-color: #f0f8ff;}#sk-container-id-1 input.sk-toggleable__control:checked~div.sk-toggleable__content {max-height: 200px;max-width: 100%;overflow: auto;}#sk-container-id-1 input.sk-toggleable__control:checked~label.sk-toggleable__label-arrow:before {content: \"▾\";}#sk-container-id-1 div.sk-estimator input.sk-toggleable__control:checked~label.sk-toggleable__label {background-color: #d4ebff;}#sk-container-id-1 div.sk-label input.sk-toggleable__control:checked~label.sk-toggleable__label {background-color: #d4ebff;}#sk-container-id-1 input.sk-hidden--visually {border: 0;clip: rect(1px 1px 1px 1px);clip: rect(1px, 1px, 1px, 1px);height: 1px;margin: -1px;overflow: hidden;padding: 0;position: absolute;width: 1px;}#sk-container-id-1 div.sk-estimator {font-family: monospace;background-color: #f0f8ff;border: 1px dotted black;border-radius: 0.25em;box-sizing: border-box;margin-bottom: 0.5em;}#sk-container-id-1 div.sk-estimator:hover {background-color: #d4ebff;}#sk-container-id-1 div.sk-parallel-item::after {content: \"\";width: 100%;border-bottom: 1px solid gray;flex-grow: 1;}#sk-container-id-1 div.sk-label:hover label.sk-toggleable__label {background-color: #d4ebff;}#sk-container-id-1 div.sk-serial::before {content: \"\";position: absolute;border-left: 1px solid gray;box-sizing: border-box;top: 0;bottom: 0;left: 50%;z-index: 0;}#sk-container-id-1 div.sk-serial {display: flex;flex-direction: column;align-items: center;background-color: white;padding-right: 0.2em;padding-left: 0.2em;position: relative;}#sk-container-id-1 div.sk-item {position: relative;z-index: 1;}#sk-container-id-1 div.sk-parallel {display: flex;align-items: stretch;justify-content: center;background-color: white;position: relative;}#sk-container-id-1 div.sk-item::before, #sk-container-id-1 div.sk-parallel-item::before {content: \"\";position: absolute;border-left: 1px solid gray;box-sizing: border-box;top: 0;bottom: 0;left: 50%;z-index: -1;}#sk-container-id-1 div.sk-parallel-item {display: flex;flex-direction: column;z-index: 1;position: relative;background-color: white;}#sk-container-id-1 div.sk-parallel-item:first-child::after {align-self: flex-end;width: 50%;}#sk-container-id-1 div.sk-parallel-item:last-child::after {align-self: flex-start;width: 50%;}#sk-container-id-1 div.sk-parallel-item:only-child::after {width: 0;}#sk-container-id-1 div.sk-dashed-wrapped {border: 1px dashed gray;margin: 0 0.4em 0.5em 0.4em;box-sizing: border-box;padding-bottom: 0.4em;background-color: white;}#sk-container-id-1 div.sk-label label {font-family: monospace;font-weight: bold;display: inline-block;line-height: 1.2em;}#sk-container-id-1 div.sk-label-container {text-align: center;}#sk-container-id-1 div.sk-container {/* jupyter's `normalize.less` sets `[hidden] { display: none; }` but bootstrap.min.css set `[hidden] { display: none !important; }` so we also need the `!important` here to be able to override the default hidden behavior on the sphinx rendered scikit-learn.org. See: https://github.com/scikit-learn/scikit-learn/issues/21755 */display: inline-block !important;position: relative;}#sk-container-id-1 div.sk-text-repr-fallback {display: none;}</style><div id=\"sk-container-id-1\" class=\"sk-top-container\"><div class=\"sk-text-repr-fallback\"><pre>Pipeline(steps=[(&#x27;scale&#x27;, None),\n",
       "                (&#x27;model&#x27;,\n",
       "                 LogisticRegression(l1_ratio=0.5, max_iter=5000,\n",
       "                                    penalty=&#x27;elasticnet&#x27;, solver=&#x27;saga&#x27;))])</pre><b>In a Jupyter environment, please rerun this cell to show the HTML representation or trust the notebook. <br />On GitHub, the HTML representation is unable to render, please try loading this page with nbviewer.org.</b></div><div class=\"sk-container\" hidden><div class=\"sk-item sk-dashed-wrapped\"><div class=\"sk-label-container\"><div class=\"sk-label sk-toggleable\"><input class=\"sk-toggleable__control sk-hidden--visually\" id=\"sk-estimator-id-1\" type=\"checkbox\" ><label for=\"sk-estimator-id-1\" class=\"sk-toggleable__label sk-toggleable__label-arrow\">Pipeline</label><div class=\"sk-toggleable__content\"><pre>Pipeline(steps=[(&#x27;scale&#x27;, None),\n",
       "                (&#x27;model&#x27;,\n",
       "                 LogisticRegression(l1_ratio=0.5, max_iter=5000,\n",
       "                                    penalty=&#x27;elasticnet&#x27;, solver=&#x27;saga&#x27;))])</pre></div></div></div><div class=\"sk-serial\"><div class=\"sk-item\"><div class=\"sk-estimator sk-toggleable\"><input class=\"sk-toggleable__control sk-hidden--visually\" id=\"sk-estimator-id-2\" type=\"checkbox\" ><label for=\"sk-estimator-id-2\" class=\"sk-toggleable__label sk-toggleable__label-arrow\">None</label><div class=\"sk-toggleable__content\"><pre>None</pre></div></div></div><div class=\"sk-item\"><div class=\"sk-estimator sk-toggleable\"><input class=\"sk-toggleable__control sk-hidden--visually\" id=\"sk-estimator-id-3\" type=\"checkbox\" ><label for=\"sk-estimator-id-3\" class=\"sk-toggleable__label sk-toggleable__label-arrow\">LogisticRegression</label><div class=\"sk-toggleable__content\"><pre>LogisticRegression(l1_ratio=0.5, max_iter=5000, penalty=&#x27;elasticnet&#x27;,\n",
       "                   solver=&#x27;saga&#x27;)</pre></div></div></div></div></div></div></div>"
      ],
      "text/plain": [
       "Pipeline(steps=[('scale', None),\n",
       "                ('model',\n",
       "                 LogisticRegression(l1_ratio=0.5, max_iter=5000,\n",
       "                                    penalty='elasticnet', solver='saga'))])"
      ]
     },
     "execution_count": 43,
     "metadata": {},
     "output_type": "execute_result"
    }
   ],
   "source": [
    "model.fit(X_train, y_train.values.ravel())"
   ]
  },
  {
   "cell_type": "code",
   "execution_count": 44,
   "id": "af59f8c0",
   "metadata": {
    "execution": {
     "iopub.execute_input": "2025-07-30T21:08:50.813032Z",
     "iopub.status.busy": "2025-07-30T21:08:50.812562Z",
     "iopub.status.idle": "2025-07-30T21:08:50.818112Z",
     "shell.execute_reply": "2025-07-30T21:08:50.817139Z"
    },
    "papermill": {
     "duration": 0.029953,
     "end_time": "2025-07-30T21:08:50.819766",
     "exception": false,
     "start_time": "2025-07-30T21:08:50.789813",
     "status": "completed"
    },
    "tags": []
   },
   "outputs": [],
   "source": [
    "from fairness_multiverse.universe import predict_w_threshold"
   ]
  },
  {
   "cell_type": "code",
   "execution_count": 45,
   "id": "a7cf2e16",
   "metadata": {
    "execution": {
     "iopub.execute_input": "2025-07-30T21:08:50.866932Z",
     "iopub.status.busy": "2025-07-30T21:08:50.866037Z",
     "iopub.status.idle": "2025-07-30T21:08:50.970831Z",
     "shell.execute_reply": "2025-07-30T21:08:50.970035Z"
    },
    "papermill": {
     "duration": 0.129432,
     "end_time": "2025-07-30T21:08:50.972099",
     "exception": false,
     "start_time": "2025-07-30T21:08:50.842667",
     "status": "completed"
    },
    "tags": []
   },
   "outputs": [
    {
     "data": {
      "text/plain": [
       "0.8582766692676401"
      ]
     },
     "execution_count": 45,
     "metadata": {},
     "output_type": "execute_result"
    }
   ],
   "source": [
    "probs_test = model.predict_proba(X_test)\n",
    "\n",
    "'''\n",
    "Below code returns a boolean array (or binary 0/1 array depending on how it’s used) where each element \n",
    "is True if the probability of class 1 is greater than or equal to the threshold, and False otherwise.\n",
    "'''\n",
    "y_pred_default = predict_w_threshold(probs_test, 0.5)\n",
    "\n",
    "from sklearn.metrics import accuracy_score\n",
    "\n",
    "# Naive prediction\n",
    "accuracy_score(y_true = y_true, y_pred = y_pred_default)"
   ]
  },
  {
   "cell_type": "code",
   "execution_count": 46,
   "id": "081964c3",
   "metadata": {
    "execution": {
     "iopub.execute_input": "2025-07-30T21:08:50.998463Z",
     "iopub.status.busy": "2025-07-30T21:08:50.998016Z",
     "iopub.status.idle": "2025-07-30T21:08:51.080979Z",
     "shell.execute_reply": "2025-07-30T21:08:51.080308Z"
    },
    "papermill": {
     "duration": 0.104771,
     "end_time": "2025-07-30T21:08:51.089818",
     "exception": false,
     "start_time": "2025-07-30T21:08:50.985047",
     "status": "completed"
    },
    "tags": []
   },
   "outputs": [
    {
     "data": {
      "text/plain": [
       "array([0, 0, 0, ..., 0, 0, 0])"
      ]
     },
     "execution_count": 46,
     "metadata": {},
     "output_type": "execute_result"
    }
   ],
   "source": [
    "model.predict(X_test)"
   ]
  },
  {
   "cell_type": "markdown",
   "id": "56c9705b",
   "metadata": {
    "papermill": {
     "duration": 0.024976,
     "end_time": "2025-07-30T21:08:51.169556",
     "exception": false,
     "start_time": "2025-07-30T21:08:51.144580",
     "status": "completed"
    },
    "tags": []
   },
   "source": [
    "# Conformal Prediction"
   ]
  },
  {
   "cell_type": "code",
   "execution_count": 47,
   "id": "160ec6ff",
   "metadata": {
    "execution": {
     "iopub.execute_input": "2025-07-30T21:08:51.219087Z",
     "iopub.status.busy": "2025-07-30T21:08:51.218129Z",
     "iopub.status.idle": "2025-07-30T21:08:51.223417Z",
     "shell.execute_reply": "2025-07-30T21:08:51.222405Z"
    },
    "papermill": {
     "duration": 0.033932,
     "end_time": "2025-07-30T21:08:51.225136",
     "exception": false,
     "start_time": "2025-07-30T21:08:51.191204",
     "status": "completed"
    },
    "tags": []
   },
   "outputs": [],
   "source": [
    "# Miscoverage level for conformal prediction (10% allowed error rate => 90% target coverage)\n",
    "alpha = 0.1"
   ]
  },
  {
   "cell_type": "code",
   "execution_count": 48,
   "id": "eadf4555-3dd3-440e-8e35-f82a4ad9f855",
   "metadata": {
    "execution": {
     "iopub.execute_input": "2025-07-30T21:08:51.281133Z",
     "iopub.status.busy": "2025-07-30T21:08:51.280678Z",
     "iopub.status.idle": "2025-07-30T21:08:51.357560Z",
     "shell.execute_reply": "2025-07-30T21:08:51.356769Z"
    },
    "papermill": {
     "duration": 0.106241,
     "end_time": "2025-07-30T21:08:51.359033",
     "exception": false,
     "start_time": "2025-07-30T21:08:51.252792",
     "status": "completed"
    },
    "tags": []
   },
   "outputs": [],
   "source": [
    "probs_calib = model.predict_proba(X_calib)"
   ]
  },
  {
   "cell_type": "code",
   "execution_count": 49,
   "id": "2ed93547-6d5d-4983-9b36-1ecb300da49a",
   "metadata": {
    "execution": {
     "iopub.execute_input": "2025-07-30T21:08:51.385761Z",
     "iopub.status.busy": "2025-07-30T21:08:51.385269Z",
     "iopub.status.idle": "2025-07-30T21:08:51.390161Z",
     "shell.execute_reply": "2025-07-30T21:08:51.389500Z"
    },
    "papermill": {
     "duration": 0.019438,
     "end_time": "2025-07-30T21:08:51.391484",
     "exception": false,
     "start_time": "2025-07-30T21:08:51.372046",
     "status": "completed"
    },
    "tags": []
   },
   "outputs": [],
   "source": [
    "y_calib = y_calib.values.ravel().astype(int)"
   ]
  },
  {
   "cell_type": "code",
   "execution_count": 50,
   "id": "65d1320d-f588-4b38-9072-62af1ae97f7d",
   "metadata": {
    "execution": {
     "iopub.execute_input": "2025-07-30T21:08:51.418220Z",
     "iopub.status.busy": "2025-07-30T21:08:51.417728Z",
     "iopub.status.idle": "2025-07-30T21:08:51.424080Z",
     "shell.execute_reply": "2025-07-30T21:08:51.423285Z"
    },
    "papermill": {
     "duration": 0.020962,
     "end_time": "2025-07-30T21:08:51.425515",
     "exception": false,
     "start_time": "2025-07-30T21:08:51.404553",
     "status": "completed"
    },
    "tags": []
   },
   "outputs": [],
   "source": [
    "from fairness_multiverse.conformal import compute_nc_scores\n",
    "\n",
    "# Compute nonconformity scores on calibration set (1 - probability of true class)\n",
    "nc_scores = compute_nc_scores(probs_calib, y_calib)"
   ]
  },
  {
   "cell_type": "code",
   "execution_count": 51,
   "id": "df3b8ca3-53b7-43d5-9667-7c85da7aeda2",
   "metadata": {
    "execution": {
     "iopub.execute_input": "2025-07-30T21:08:51.452199Z",
     "iopub.status.busy": "2025-07-30T21:08:51.451682Z",
     "iopub.status.idle": "2025-07-30T21:08:51.457400Z",
     "shell.execute_reply": "2025-07-30T21:08:51.456742Z"
    },
    "papermill": {
     "duration": 0.020263,
     "end_time": "2025-07-30T21:08:51.458776",
     "exception": false,
     "start_time": "2025-07-30T21:08:51.438513",
     "status": "completed"
    },
    "tags": []
   },
   "outputs": [],
   "source": [
    "from fairness_multiverse.conformal import find_threshold\n",
    "\n",
    "# Find conformal threshold q_hat for the given alpha (split conformal method)\n",
    "q_hat = find_threshold(nc_scores, alpha)"
   ]
  },
  {
   "cell_type": "code",
   "execution_count": 52,
   "id": "4d29e6c1-0ef6-4aa4-b8fe-4fe79b0d033a",
   "metadata": {
    "execution": {
     "iopub.execute_input": "2025-07-30T21:08:51.485507Z",
     "iopub.status.busy": "2025-07-30T21:08:51.485021Z",
     "iopub.status.idle": "2025-07-30T21:08:51.491475Z",
     "shell.execute_reply": "2025-07-30T21:08:51.490718Z"
    },
    "papermill": {
     "duration": 0.021171,
     "end_time": "2025-07-30T21:08:51.492873",
     "exception": false,
     "start_time": "2025-07-30T21:08:51.471702",
     "status": "completed"
    },
    "tags": []
   },
   "outputs": [
    {
     "data": {
      "text/plain": [
       "0.694743336721024"
      ]
     },
     "execution_count": 52,
     "metadata": {},
     "output_type": "execute_result"
    }
   ],
   "source": [
    "q_hat"
   ]
  },
  {
   "cell_type": "code",
   "execution_count": 53,
   "id": "92460794-cdac-4be2-ba28-f28c0515a6fb",
   "metadata": {
    "execution": {
     "iopub.execute_input": "2025-07-30T21:08:51.519419Z",
     "iopub.status.busy": "2025-07-30T21:08:51.518754Z",
     "iopub.status.idle": "2025-07-30T21:08:52.044326Z",
     "shell.execute_reply": "2025-07-30T21:08:52.043515Z"
    },
    "papermill": {
     "duration": 0.539927,
     "end_time": "2025-07-30T21:08:52.045736",
     "exception": false,
     "start_time": "2025-07-30T21:08:51.505809",
     "status": "completed"
    },
    "tags": []
   },
   "outputs": [],
   "source": [
    "from fairness_multiverse.conformal import predict_conformal_sets\n",
    "\n",
    "# Generate prediction sets for each test example\n",
    "pred_sets = predict_conformal_sets(model, X_test, q_hat)"
   ]
  },
  {
   "cell_type": "code",
   "execution_count": 54,
   "id": "d90c9a65-e6db-4f5d-80cd-e68fb7e46829",
   "metadata": {
    "execution": {
     "iopub.execute_input": "2025-07-30T21:08:52.073068Z",
     "iopub.status.busy": "2025-07-30T21:08:52.072614Z",
     "iopub.status.idle": "2025-07-30T21:08:52.077180Z",
     "shell.execute_reply": "2025-07-30T21:08:52.076429Z"
    },
    "papermill": {
     "duration": 0.01914,
     "end_time": "2025-07-30T21:08:52.078507",
     "exception": false,
     "start_time": "2025-07-30T21:08:52.059367",
     "status": "completed"
    },
    "tags": []
   },
   "outputs": [],
   "source": [
    "y_true = y_true.squeeze()"
   ]
  },
  {
   "cell_type": "code",
   "execution_count": 55,
   "id": "3a58a54a-1e68-46b9-927a-df01f18aebc8",
   "metadata": {
    "execution": {
     "iopub.execute_input": "2025-07-30T21:08:52.105948Z",
     "iopub.status.busy": "2025-07-30T21:08:52.105255Z",
     "iopub.status.idle": "2025-07-30T21:08:52.950244Z",
     "shell.execute_reply": "2025-07-30T21:08:52.949494Z"
    },
    "papermill": {
     "duration": 0.85968,
     "end_time": "2025-07-30T21:08:52.951604",
     "exception": false,
     "start_time": "2025-07-30T21:08:52.091924",
     "status": "completed"
    },
    "tags": []
   },
   "outputs": [],
   "source": [
    "from fairness_multiverse.conformal import evaluate_sets\n",
    "\n",
    "# Evaluate coverage and average set size on test data\n",
    "metrics = evaluate_sets(pred_sets, y_true)"
   ]
  },
  {
   "cell_type": "markdown",
   "id": "2b569c12-9aaa-4c88-98c9-bbcd0cf3ebb8",
   "metadata": {
    "papermill": {
     "duration": 0.01243,
     "end_time": "2025-07-30T21:08:52.979845",
     "exception": false,
     "start_time": "2025-07-30T21:08:52.967415",
     "status": "completed"
    },
    "tags": []
   },
   "source": [
    "# CP Metrics"
   ]
  },
  {
   "cell_type": "code",
   "execution_count": 56,
   "id": "5ce0a5cb-201f-45a0-ade5-94c7f0bd6095",
   "metadata": {
    "execution": {
     "iopub.execute_input": "2025-07-30T21:08:53.005424Z",
     "iopub.status.busy": "2025-07-30T21:08:53.005053Z",
     "iopub.status.idle": "2025-07-30T21:08:53.011515Z",
     "shell.execute_reply": "2025-07-30T21:08:53.010786Z"
    },
    "papermill": {
     "duration": 0.021276,
     "end_time": "2025-07-30T21:08:53.013120",
     "exception": false,
     "start_time": "2025-07-30T21:08:52.991844",
     "status": "completed"
    },
    "tags": []
   },
   "outputs": [
    {
     "data": {
      "text/plain": [
       "{'coverage': 0.909831679857318, 'avg_size': 1.1469624345112028}"
      ]
     },
     "execution_count": 56,
     "metadata": {},
     "output_type": "execute_result"
    }
   ],
   "source": [
    "metrics"
   ]
  },
  {
   "cell_type": "code",
   "execution_count": 57,
   "id": "9b9a838d-31c9-430b-ae14-12baee460d17",
   "metadata": {
    "execution": {
     "iopub.execute_input": "2025-07-30T21:08:53.071094Z",
     "iopub.status.busy": "2025-07-30T21:08:53.070337Z",
     "iopub.status.idle": "2025-07-30T21:08:53.077518Z",
     "shell.execute_reply": "2025-07-30T21:08:53.076590Z"
    },
    "papermill": {
     "duration": 0.034273,
     "end_time": "2025-07-30T21:08:53.079219",
     "exception": false,
     "start_time": "2025-07-30T21:08:53.044946",
     "status": "completed"
    },
    "tags": []
   },
   "outputs": [],
   "source": [
    "example_universe = universe.copy()\n",
    "universe_training_year = example_universe.get(\"training_year\")\n",
    "universe_training_size = example_universe.get(\"training_size\")\n",
    "universe_scale = example_universe.get(\"scale\")\n",
    "universe_model = example_universe.get(\"model\")\n",
    "universe_exclude_features = example_universe.get(\"exclude_features\")\n",
    "universe_exclude_subgroups = example_universe.get(\"exclude_subgroups\")"
   ]
  },
  {
   "cell_type": "code",
   "execution_count": 58,
   "id": "f4b6a8ac-9dc0-4245-8a91-5b3b5999c4f9",
   "metadata": {
    "execution": {
     "iopub.execute_input": "2025-07-30T21:08:53.131287Z",
     "iopub.status.busy": "2025-07-30T21:08:53.130582Z",
     "iopub.status.idle": "2025-07-30T21:08:53.137620Z",
     "shell.execute_reply": "2025-07-30T21:08:53.136606Z"
    },
    "papermill": {
     "duration": 0.034603,
     "end_time": "2025-07-30T21:08:53.139354",
     "exception": false,
     "start_time": "2025-07-30T21:08:53.104751",
     "status": "completed"
    },
    "tags": []
   },
   "outputs": [],
   "source": [
    "cp_metrics_dict = {\n",
    "    \"universe_id\": [universe_id],\n",
    "    \"universe_training_year\": [universe_training_year],\n",
    "    \"universe_training_size\": [universe_training_size],\n",
    "    \"universe_scale\": [universe_scale],\n",
    "    \"universe_model\": [universe_model],\n",
    "    \"universe_exclude_features\": [universe_exclude_features],\n",
    "    \"universe_exclude_subgroups\": [universe_exclude_subgroups],\n",
    "    \"q_hat\": [q_hat],\n",
    "    \"coverage\": [metrics[\"coverage\"]],\n",
    "    \"avg_size\": [metrics[\"avg_size\"]],\n",
    "}"
   ]
  },
  {
   "cell_type": "code",
   "execution_count": 59,
   "id": "908acbb1-0371-4915-85ca-3fa520d2efe2",
   "metadata": {
    "execution": {
     "iopub.execute_input": "2025-07-30T21:08:53.192595Z",
     "iopub.status.busy": "2025-07-30T21:08:53.192193Z",
     "iopub.status.idle": "2025-07-30T21:08:53.199852Z",
     "shell.execute_reply": "2025-07-30T21:08:53.198963Z"
    },
    "papermill": {
     "duration": 0.036484,
     "end_time": "2025-07-30T21:08:53.201493",
     "exception": false,
     "start_time": "2025-07-30T21:08:53.165009",
     "status": "completed"
    },
    "tags": []
   },
   "outputs": [
    {
     "data": {
      "text/plain": [
       "{'universe_id': ['1e9ea9a30ded6885fceb7abcef95d885'],\n",
       " 'universe_training_year': ['2012_14'],\n",
       " 'universe_training_size': ['5k'],\n",
       " 'universe_scale': ['do-not-scale'],\n",
       " 'universe_model': ['elasticnet'],\n",
       " 'universe_exclude_features': ['sex'],\n",
       " 'universe_exclude_subgroups': ['keep-all'],\n",
       " 'q_hat': [0.694743336721024],\n",
       " 'coverage': [0.909831679857318],\n",
       " 'avg_size': [1.1469624345112028]}"
      ]
     },
     "execution_count": 59,
     "metadata": {},
     "output_type": "execute_result"
    }
   ],
   "source": [
    "cp_metrics_dict"
   ]
  },
  {
   "cell_type": "code",
   "execution_count": 60,
   "id": "33007efc-14e9-4ec6-97ac-56a455c82265",
   "metadata": {
    "execution": {
     "iopub.execute_input": "2025-07-30T21:08:53.254413Z",
     "iopub.status.busy": "2025-07-30T21:08:53.253944Z",
     "iopub.status.idle": "2025-07-30T21:08:53.260270Z",
     "shell.execute_reply": "2025-07-30T21:08:53.259375Z"
    },
    "papermill": {
     "duration": 0.034942,
     "end_time": "2025-07-30T21:08:53.262049",
     "exception": false,
     "start_time": "2025-07-30T21:08:53.227107",
     "status": "completed"
    },
    "tags": []
   },
   "outputs": [],
   "source": [
    "cp_metrics_df = pd.DataFrame(cp_metrics_dict)"
   ]
  },
  {
   "cell_type": "code",
   "execution_count": 61,
   "id": "db12611b-57b2-4910-b9d0-355adfd6e7bf",
   "metadata": {
    "execution": {
     "iopub.execute_input": "2025-07-30T21:08:53.316056Z",
     "iopub.status.busy": "2025-07-30T21:08:53.315522Z",
     "iopub.status.idle": "2025-07-30T21:08:53.335899Z",
     "shell.execute_reply": "2025-07-30T21:08:53.334817Z"
    },
    "papermill": {
     "duration": 0.049935,
     "end_time": "2025-07-30T21:08:53.337584",
     "exception": false,
     "start_time": "2025-07-30T21:08:53.287649",
     "status": "completed"
    },
    "tags": []
   },
   "outputs": [
    {
     "data": {
      "text/html": [
       "<div>\n",
       "<style scoped>\n",
       "    .dataframe tbody tr th:only-of-type {\n",
       "        vertical-align: middle;\n",
       "    }\n",
       "\n",
       "    .dataframe tbody tr th {\n",
       "        vertical-align: top;\n",
       "    }\n",
       "\n",
       "    .dataframe thead th {\n",
       "        text-align: right;\n",
       "    }\n",
       "</style>\n",
       "<table border=\"1\" class=\"dataframe\">\n",
       "  <thead>\n",
       "    <tr style=\"text-align: right;\">\n",
       "      <th></th>\n",
       "      <th>universe_id</th>\n",
       "      <th>universe_training_year</th>\n",
       "      <th>universe_training_size</th>\n",
       "      <th>universe_scale</th>\n",
       "      <th>universe_model</th>\n",
       "      <th>universe_exclude_features</th>\n",
       "      <th>universe_exclude_subgroups</th>\n",
       "      <th>q_hat</th>\n",
       "      <th>coverage</th>\n",
       "      <th>avg_size</th>\n",
       "    </tr>\n",
       "  </thead>\n",
       "  <tbody>\n",
       "    <tr>\n",
       "      <th>0</th>\n",
       "      <td>1e9ea9a30ded6885fceb7abcef95d885</td>\n",
       "      <td>2012_14</td>\n",
       "      <td>5k</td>\n",
       "      <td>do-not-scale</td>\n",
       "      <td>elasticnet</td>\n",
       "      <td>sex</td>\n",
       "      <td>keep-all</td>\n",
       "      <td>0.694743</td>\n",
       "      <td>0.909832</td>\n",
       "      <td>1.146962</td>\n",
       "    </tr>\n",
       "  </tbody>\n",
       "</table>\n",
       "</div>"
      ],
      "text/plain": [
       "                        universe_id universe_training_year  \\\n",
       "0  1e9ea9a30ded6885fceb7abcef95d885                2012_14   \n",
       "\n",
       "  universe_training_size universe_scale universe_model  \\\n",
       "0                     5k   do-not-scale     elasticnet   \n",
       "\n",
       "  universe_exclude_features universe_exclude_subgroups     q_hat  coverage  \\\n",
       "0                       sex                   keep-all  0.694743  0.909832   \n",
       "\n",
       "   avg_size  \n",
       "0  1.146962  "
      ]
     },
     "execution_count": 61,
     "metadata": {},
     "output_type": "execute_result"
    }
   ],
   "source": [
    "cp_metrics_df"
   ]
  },
  {
   "cell_type": "code",
   "execution_count": 62,
   "id": "b7fbde55-a0a1-47e4-9af6-fe4a17fa8c61",
   "metadata": {
    "execution": {
     "iopub.execute_input": "2025-07-30T21:08:53.406689Z",
     "iopub.status.busy": "2025-07-30T21:08:53.405854Z",
     "iopub.status.idle": "2025-07-30T21:08:53.411634Z",
     "shell.execute_reply": "2025-07-30T21:08:53.410650Z"
    },
    "papermill": {
     "duration": 0.049179,
     "end_time": "2025-07-30T21:08:53.413234",
     "exception": false,
     "start_time": "2025-07-30T21:08:53.364055",
     "status": "completed"
    },
    "tags": []
   },
   "outputs": [],
   "source": [
    "# Conditional Coverage & looking at subgroups"
   ]
  },
  {
   "cell_type": "code",
   "execution_count": 63,
   "id": "027ae886-68dd-4141-96c7-805a5450e1ef",
   "metadata": {
    "execution": {
     "iopub.execute_input": "2025-07-30T21:08:53.463143Z",
     "iopub.status.busy": "2025-07-30T21:08:53.462307Z",
     "iopub.status.idle": "2025-07-30T21:08:53.749540Z",
     "shell.execute_reply": "2025-07-30T21:08:53.748526Z"
    },
    "papermill": {
     "duration": 0.313111,
     "end_time": "2025-07-30T21:08:53.751524",
     "exception": false,
     "start_time": "2025-07-30T21:08:53.438413",
     "status": "completed"
    },
    "tags": []
   },
   "outputs": [],
   "source": [
    "from fairness_multiverse.conformal import build_cp_groups\n",
    "\n",
    "cp_groups_df = build_cp_groups(pred_sets, y_true, X_test.index, org_test)\n",
    "#needs universe_id and setting"
   ]
  },
  {
   "cell_type": "code",
   "execution_count": 64,
   "id": "01d5802c-663a-4d1f-9d69-e036faaffbf7",
   "metadata": {
    "execution": {
     "iopub.execute_input": "2025-07-30T21:08:53.809790Z",
     "iopub.status.busy": "2025-07-30T21:08:53.808949Z",
     "iopub.status.idle": "2025-07-30T21:08:53.815031Z",
     "shell.execute_reply": "2025-07-30T21:08:53.813988Z"
    },
    "papermill": {
     "duration": 0.037444,
     "end_time": "2025-07-30T21:08:53.816810",
     "exception": false,
     "start_time": "2025-07-30T21:08:53.779366",
     "status": "completed"
    },
    "tags": []
   },
   "outputs": [],
   "source": [
    "#delete\n",
    "#cp_groups_df"
   ]
  },
  {
   "cell_type": "code",
   "execution_count": 65,
   "id": "fa424af1-d1eb-443d-b717-2d279ada8408",
   "metadata": {
    "execution": {
     "iopub.execute_input": "2025-07-30T21:08:53.881471Z",
     "iopub.status.busy": "2025-07-30T21:08:53.880689Z",
     "iopub.status.idle": "2025-07-30T21:08:53.886414Z",
     "shell.execute_reply": "2025-07-30T21:08:53.885444Z"
    },
    "papermill": {
     "duration": 0.043622,
     "end_time": "2025-07-30T21:08:53.888016",
     "exception": false,
     "start_time": "2025-07-30T21:08:53.844394",
     "status": "completed"
    },
    "tags": []
   },
   "outputs": [],
   "source": [
    "#delete\n",
    "#percentage = (cp_groups_df['nongerman_female'] == 1).mean() * 100\n",
    "#print(percentage)\n"
   ]
  },
  {
   "cell_type": "code",
   "execution_count": 66,
   "id": "6cbdab96-b2b2-45af-ad54-d0516db2e28d",
   "metadata": {
    "execution": {
     "iopub.execute_input": "2025-07-30T21:08:53.946632Z",
     "iopub.status.busy": "2025-07-30T21:08:53.946019Z",
     "iopub.status.idle": "2025-07-30T21:08:55.056446Z",
     "shell.execute_reply": "2025-07-30T21:08:55.055233Z"
    },
    "papermill": {
     "duration": 1.14057,
     "end_time": "2025-07-30T21:08:55.057969",
     "exception": false,
     "start_time": "2025-07-30T21:08:53.917399",
     "status": "completed"
    },
    "tags": []
   },
   "outputs": [],
   "source": [
    "# Define covered = 1 if true_label is in the predicted set\n",
    "cp_groups_df['covered'] = cp_groups_df.apply(\n",
    "    lambda r: int(r['true_label'] in r['pred_set']),\n",
    "    axis=1\n",
    ")"
   ]
  },
  {
   "cell_type": "code",
   "execution_count": 67,
   "id": "338ff529-1a6b-4b87-a931-8e4788d52aad",
   "metadata": {
    "execution": {
     "iopub.execute_input": "2025-07-30T21:08:55.105128Z",
     "iopub.status.busy": "2025-07-30T21:08:55.104696Z",
     "iopub.status.idle": "2025-07-30T21:08:55.109376Z",
     "shell.execute_reply": "2025-07-30T21:08:55.108586Z"
    },
    "papermill": {
     "duration": 0.032223,
     "end_time": "2025-07-30T21:08:55.110607",
     "exception": false,
     "start_time": "2025-07-30T21:08:55.078384",
     "status": "completed"
    },
    "tags": []
   },
   "outputs": [],
   "source": [
    "#cp_groups_df"
   ]
  },
  {
   "cell_type": "code",
   "execution_count": 68,
   "id": "90032e27-66df-4540-9169-4e89cfbaa758",
   "metadata": {
    "execution": {
     "iopub.execute_input": "2025-07-30T21:08:55.137750Z",
     "iopub.status.busy": "2025-07-30T21:08:55.137368Z",
     "iopub.status.idle": "2025-07-30T21:08:55.146088Z",
     "shell.execute_reply": "2025-07-30T21:08:55.145420Z"
    },
    "papermill": {
     "duration": 0.023289,
     "end_time": "2025-07-30T21:08:55.147401",
     "exception": false,
     "start_time": "2025-07-30T21:08:55.124112",
     "status": "completed"
    },
    "tags": []
   },
   "outputs": [],
   "source": [
    "subgroups = ['frau1','nongerman','nongerman_male','nongerman_female']\n",
    "\n",
    "# Conditional coverage for subgroup==1\n",
    "cond_coverage = {\n",
    "    g: cp_groups_df.loc[cp_groups_df[g]==1, 'covered'].mean()\n",
    "    for g in subgroups\n",
    "}"
   ]
  },
  {
   "cell_type": "code",
   "execution_count": 69,
   "id": "1e348fb1-b9c3-45bc-ba23-f016827a7e0d",
   "metadata": {
    "execution": {
     "iopub.execute_input": "2025-07-30T21:08:55.198270Z",
     "iopub.status.busy": "2025-07-30T21:08:55.197166Z",
     "iopub.status.idle": "2025-07-30T21:08:55.204936Z",
     "shell.execute_reply": "2025-07-30T21:08:55.204023Z"
    },
    "papermill": {
     "duration": 0.037839,
     "end_time": "2025-07-30T21:08:55.206860",
     "exception": false,
     "start_time": "2025-07-30T21:08:55.169021",
     "status": "completed"
    },
    "tags": []
   },
   "outputs": [
    {
     "data": {
      "text/plain": [
       "{'frau1': 0.9065103113627173,\n",
       " 'nongerman': 0.9091674619659799,\n",
       " 'nongerman_male': 0.9256056921552733,\n",
       " 'nongerman_female': 0.8819672131147541}"
      ]
     },
     "execution_count": 69,
     "metadata": {},
     "output_type": "execute_result"
    }
   ],
   "source": [
    "cond_coverage"
   ]
  },
  {
   "cell_type": "code",
   "execution_count": 70,
   "id": "f5093324-c3dd-4d63-bc4c-8d945e5c8bbb",
   "metadata": {
    "execution": {
     "iopub.execute_input": "2025-07-30T21:08:55.239116Z",
     "iopub.status.busy": "2025-07-30T21:08:55.238771Z",
     "iopub.status.idle": "2025-07-30T21:08:55.244876Z",
     "shell.execute_reply": "2025-07-30T21:08:55.243927Z"
    },
    "papermill": {
     "duration": 0.021974,
     "end_time": "2025-07-30T21:08:55.246091",
     "exception": false,
     "start_time": "2025-07-30T21:08:55.224117",
     "status": "completed"
    },
    "tags": []
   },
   "outputs": [],
   "source": [
    "for subgroup, cov in cond_coverage.items():\n",
    "    cp_metrics_df[f\"cov_{subgroup}\"] = cov"
   ]
  },
  {
   "cell_type": "code",
   "execution_count": 71,
   "id": "6e872e10-dbe5-49e8-b554-5030c98ff75d",
   "metadata": {
    "execution": {
     "iopub.execute_input": "2025-07-30T21:08:55.274171Z",
     "iopub.status.busy": "2025-07-30T21:08:55.273669Z",
     "iopub.status.idle": "2025-07-30T21:08:55.287307Z",
     "shell.execute_reply": "2025-07-30T21:08:55.286587Z"
    },
    "papermill": {
     "duration": 0.029004,
     "end_time": "2025-07-30T21:08:55.288667",
     "exception": false,
     "start_time": "2025-07-30T21:08:55.259663",
     "status": "completed"
    },
    "tags": []
   },
   "outputs": [
    {
     "data": {
      "text/html": [
       "<div>\n",
       "<style scoped>\n",
       "    .dataframe tbody tr th:only-of-type {\n",
       "        vertical-align: middle;\n",
       "    }\n",
       "\n",
       "    .dataframe tbody tr th {\n",
       "        vertical-align: top;\n",
       "    }\n",
       "\n",
       "    .dataframe thead th {\n",
       "        text-align: right;\n",
       "    }\n",
       "</style>\n",
       "<table border=\"1\" class=\"dataframe\">\n",
       "  <thead>\n",
       "    <tr style=\"text-align: right;\">\n",
       "      <th></th>\n",
       "      <th>universe_id</th>\n",
       "      <th>universe_training_year</th>\n",
       "      <th>universe_training_size</th>\n",
       "      <th>universe_scale</th>\n",
       "      <th>universe_model</th>\n",
       "      <th>universe_exclude_features</th>\n",
       "      <th>universe_exclude_subgroups</th>\n",
       "      <th>q_hat</th>\n",
       "      <th>coverage</th>\n",
       "      <th>avg_size</th>\n",
       "      <th>cov_frau1</th>\n",
       "      <th>cov_nongerman</th>\n",
       "      <th>cov_nongerman_male</th>\n",
       "      <th>cov_nongerman_female</th>\n",
       "    </tr>\n",
       "  </thead>\n",
       "  <tbody>\n",
       "    <tr>\n",
       "      <th>0</th>\n",
       "      <td>1e9ea9a30ded6885fceb7abcef95d885</td>\n",
       "      <td>2012_14</td>\n",
       "      <td>5k</td>\n",
       "      <td>do-not-scale</td>\n",
       "      <td>elasticnet</td>\n",
       "      <td>sex</td>\n",
       "      <td>keep-all</td>\n",
       "      <td>0.694743</td>\n",
       "      <td>0.909832</td>\n",
       "      <td>1.146962</td>\n",
       "      <td>0.90651</td>\n",
       "      <td>0.909167</td>\n",
       "      <td>0.925606</td>\n",
       "      <td>0.881967</td>\n",
       "    </tr>\n",
       "  </tbody>\n",
       "</table>\n",
       "</div>"
      ],
      "text/plain": [
       "                        universe_id universe_training_year  \\\n",
       "0  1e9ea9a30ded6885fceb7abcef95d885                2012_14   \n",
       "\n",
       "  universe_training_size universe_scale universe_model  \\\n",
       "0                     5k   do-not-scale     elasticnet   \n",
       "\n",
       "  universe_exclude_features universe_exclude_subgroups     q_hat  coverage  \\\n",
       "0                       sex                   keep-all  0.694743  0.909832   \n",
       "\n",
       "   avg_size  cov_frau1  cov_nongerman  cov_nongerman_male  \\\n",
       "0  1.146962    0.90651       0.909167            0.925606   \n",
       "\n",
       "   cov_nongerman_female  \n",
       "0              0.881967  "
      ]
     },
     "execution_count": 71,
     "metadata": {},
     "output_type": "execute_result"
    }
   ],
   "source": [
    "cp_metrics_df"
   ]
  },
  {
   "cell_type": "markdown",
   "id": "33774451",
   "metadata": {
    "papermill": {
     "duration": 0.013122,
     "end_time": "2025-07-30T21:08:55.315694",
     "exception": false,
     "start_time": "2025-07-30T21:08:55.302572",
     "status": "completed"
    },
    "tags": []
   },
   "source": [
    "# (Fairness) Metrics"
   ]
  },
  {
   "cell_type": "code",
   "execution_count": 72,
   "id": "debc5d62",
   "metadata": {
    "execution": {
     "iopub.execute_input": "2025-07-30T21:08:55.343139Z",
     "iopub.status.busy": "2025-07-30T21:08:55.342670Z",
     "iopub.status.idle": "2025-07-30T21:08:55.356750Z",
     "shell.execute_reply": "2025-07-30T21:08:55.355886Z"
    },
    "papermill": {
     "duration": 0.029289,
     "end_time": "2025-07-30T21:08:55.358043",
     "exception": false,
     "start_time": "2025-07-30T21:08:55.328754",
     "status": "completed"
    },
    "tags": []
   },
   "outputs": [],
   "source": [
    "# do I need to include maxdeutsch1.missing?\n",
    "\n",
    "import numpy as np\n",
    "\n",
    "colname_to_bin = \"maxdeutsch1\"\n",
    "majority_value = org_train[colname_to_bin].mode()[0]\n",
    "\n",
    "org_test[\"majmin\"] = np.where(org_test[colname_to_bin] == majority_value, \"majority\", \"minority\")"
   ]
  },
  {
   "cell_type": "code",
   "execution_count": 73,
   "id": "06a50de5",
   "metadata": {
    "execution": {
     "iopub.execute_input": "2025-07-30T21:08:55.386578Z",
     "iopub.status.busy": "2025-07-30T21:08:55.385927Z",
     "iopub.status.idle": "2025-07-30T21:08:57.352828Z",
     "shell.execute_reply": "2025-07-30T21:08:57.351856Z"
    },
    "papermill": {
     "duration": 1.982864,
     "end_time": "2025-07-30T21:08:57.354766",
     "exception": false,
     "start_time": "2025-07-30T21:08:55.371902",
     "status": "completed"
    },
    "tags": []
   },
   "outputs": [],
   "source": [
    "example_universe = universe.copy()\n",
    "example_universe[\"cutoff\"] = example_universe[\"cutoff\"][0]\n",
    "example_universe[\"eval_fairness_grouping\"] = example_universe[\"eval_fairness_grouping\"][0]\n",
    "fairness_dict, metric_frame = universe_analysis.compute_metrics(\n",
    "    example_universe,\n",
    "    y_pred_prob=probs_test,\n",
    "    y_test=y_true,\n",
    "    org_test=org_test,\n",
    ")"
   ]
  },
  {
   "cell_type": "markdown",
   "id": "f95d4e02",
   "metadata": {
    "papermill": {
     "duration": 0.025773,
     "end_time": "2025-07-30T21:08:57.407553",
     "exception": false,
     "start_time": "2025-07-30T21:08:57.381780",
     "status": "completed"
    },
    "tags": []
   },
   "source": [
    "# Overall"
   ]
  },
  {
   "cell_type": "markdown",
   "id": "bdee4871",
   "metadata": {
    "papermill": {
     "duration": 0.025591,
     "end_time": "2025-07-30T21:08:57.460106",
     "exception": false,
     "start_time": "2025-07-30T21:08:57.434515",
     "status": "completed"
    },
    "tags": []
   },
   "source": [
    "Fairness\n",
    "Main fairness target: Equalized Odds. Seems to be a better fit than equal opportunity, since we're not only interested in Y = 1. Seems to be a better fit than demographic parity, since we also care about accuracy, not just equal distribution of preds.\n",
    "\n",
    "Pick column for computation of fairness metrics\n",
    "\n",
    "Performance\n",
    "Overall performance measures, most interesting in relation to the measures split by group below"
   ]
  },
  {
   "cell_type": "code",
   "execution_count": 74,
   "id": "c4e067c6",
   "metadata": {
    "execution": {
     "iopub.execute_input": "2025-07-30T21:08:57.515404Z",
     "iopub.status.busy": "2025-07-30T21:08:57.514447Z",
     "iopub.status.idle": "2025-07-30T21:08:57.523503Z",
     "shell.execute_reply": "2025-07-30T21:08:57.522577Z"
    },
    "papermill": {
     "duration": 0.038603,
     "end_time": "2025-07-30T21:08:57.525083",
     "exception": false,
     "start_time": "2025-07-30T21:08:57.486480",
     "status": "completed"
    },
    "tags": []
   },
   "outputs": [
    {
     "data": {
      "text/plain": [
       "accuracy                   0.219652\n",
       "balanced accuracy          0.538069\n",
       "f1                         0.241114\n",
       "precision                  0.137740\n",
       "false positive rate        0.890233\n",
       "false negative rate        0.033629\n",
       "selection rate             0.900000\n",
       "count                  89710.000000\n",
       "dtype: float64"
      ]
     },
     "execution_count": 74,
     "metadata": {},
     "output_type": "execute_result"
    }
   ],
   "source": [
    "metric_frame.overall"
   ]
  },
  {
   "cell_type": "markdown",
   "id": "e968fe9d",
   "metadata": {
    "papermill": {
     "duration": 0.025923,
     "end_time": "2025-07-30T21:08:57.578633",
     "exception": false,
     "start_time": "2025-07-30T21:08:57.552710",
     "status": "completed"
    },
    "tags": []
   },
   "source": [
    "By Group"
   ]
  },
  {
   "cell_type": "code",
   "execution_count": 75,
   "id": "ec325bce",
   "metadata": {
    "execution": {
     "iopub.execute_input": "2025-07-30T21:08:57.632999Z",
     "iopub.status.busy": "2025-07-30T21:08:57.632286Z",
     "iopub.status.idle": "2025-07-30T21:08:57.648315Z",
     "shell.execute_reply": "2025-07-30T21:08:57.647198Z"
    },
    "papermill": {
     "duration": 0.04549,
     "end_time": "2025-07-30T21:08:57.649811",
     "exception": false,
     "start_time": "2025-07-30T21:08:57.604321",
     "status": "completed"
    },
    "tags": []
   },
   "outputs": [
    {
     "data": {
      "text/html": [
       "<div>\n",
       "<style scoped>\n",
       "    .dataframe tbody tr th:only-of-type {\n",
       "        vertical-align: middle;\n",
       "    }\n",
       "\n",
       "    .dataframe tbody tr th {\n",
       "        vertical-align: top;\n",
       "    }\n",
       "\n",
       "    .dataframe thead th {\n",
       "        text-align: right;\n",
       "    }\n",
       "</style>\n",
       "<table border=\"1\" class=\"dataframe\">\n",
       "  <thead>\n",
       "    <tr style=\"text-align: right;\">\n",
       "      <th></th>\n",
       "      <th>accuracy</th>\n",
       "      <th>balanced accuracy</th>\n",
       "      <th>f1</th>\n",
       "      <th>precision</th>\n",
       "      <th>false positive rate</th>\n",
       "      <th>false negative rate</th>\n",
       "      <th>selection rate</th>\n",
       "      <th>count</th>\n",
       "    </tr>\n",
       "    <tr>\n",
       "      <th>majmin</th>\n",
       "      <th></th>\n",
       "      <th></th>\n",
       "      <th></th>\n",
       "      <th></th>\n",
       "      <th></th>\n",
       "      <th></th>\n",
       "      <th></th>\n",
       "      <th></th>\n",
       "    </tr>\n",
       "  </thead>\n",
       "  <tbody>\n",
       "    <tr>\n",
       "      <th>majority</th>\n",
       "      <td>0.241564</td>\n",
       "      <td>0.546998</td>\n",
       "      <td>0.251081</td>\n",
       "      <td>0.144379</td>\n",
       "      <td>0.868149</td>\n",
       "      <td>0.037856</td>\n",
       "      <td>0.880570</td>\n",
       "      <td>69170.0</td>\n",
       "    </tr>\n",
       "    <tr>\n",
       "      <th>minority</th>\n",
       "      <td>0.145862</td>\n",
       "      <td>0.509750</td>\n",
       "      <td>0.209659</td>\n",
       "      <td>0.117347</td>\n",
       "      <td>0.963185</td>\n",
       "      <td>0.017314</td>\n",
       "      <td>0.965433</td>\n",
       "      <td>20540.0</td>\n",
       "    </tr>\n",
       "  </tbody>\n",
       "</table>\n",
       "</div>"
      ],
      "text/plain": [
       "          accuracy  balanced accuracy        f1  precision  \\\n",
       "majmin                                                       \n",
       "majority  0.241564           0.546998  0.251081   0.144379   \n",
       "minority  0.145862           0.509750  0.209659   0.117347   \n",
       "\n",
       "          false positive rate  false negative rate  selection rate    count  \n",
       "majmin                                                                       \n",
       "majority             0.868149             0.037856        0.880570  69170.0  \n",
       "minority             0.963185             0.017314        0.965433  20540.0  "
      ]
     },
     "execution_count": 75,
     "metadata": {},
     "output_type": "execute_result"
    }
   ],
   "source": [
    "metric_frame.by_group"
   ]
  },
  {
   "cell_type": "code",
   "execution_count": 76,
   "id": "a9ddbe63",
   "metadata": {
    "execution": {
     "iopub.execute_input": "2025-07-30T21:08:57.706606Z",
     "iopub.status.busy": "2025-07-30T21:08:57.705974Z",
     "iopub.status.idle": "2025-07-30T21:08:59.982221Z",
     "shell.execute_reply": "2025-07-30T21:08:59.981261Z"
    },
    "papermill": {
     "duration": 2.306653,
     "end_time": "2025-07-30T21:08:59.984222",
     "exception": false,
     "start_time": "2025-07-30T21:08:57.677569",
     "status": "completed"
    },
    "tags": []
   },
   "outputs": [
    {
     "data": {
      "text/plain": [
       "array([[<Axes: title={'center': 'accuracy'}, xlabel='majmin'>,\n",
       "        <Axes: title={'center': 'balanced accuracy'}, xlabel='majmin'>,\n",
       "        <Axes: title={'center': 'f1'}, xlabel='majmin'>],\n",
       "       [<Axes: title={'center': 'precision'}, xlabel='majmin'>,\n",
       "        <Axes: title={'center': 'false positive rate'}, xlabel='majmin'>,\n",
       "        <Axes: title={'center': 'false negative rate'}, xlabel='majmin'>],\n",
       "       [<Axes: title={'center': 'selection rate'}, xlabel='majmin'>,\n",
       "        <Axes: title={'center': 'count'}, xlabel='majmin'>,\n",
       "        <Axes: xlabel='majmin'>]], dtype=object)"
      ]
     },
     "execution_count": 76,
     "metadata": {},
     "output_type": "execute_result"
    },
    {
     "data": {
      "image/png": "[encoded data removed]",
      "text/plain": [
       "<Figure size 1200x800 with 9 Axes>"
      ]
     },
     "metadata": {},
     "output_type": "display_data"
    }
   ],
   "source": [
    "# In a graphic\n",
    "metric_frame.by_group.plot.bar(\n",
    "    subplots=True,\n",
    "    layout=[3, 3],\n",
    "    legend=False,\n",
    "    figsize=[12, 8],\n",
    "    title=\"Show all metrics\",\n",
    ")"
   ]
  },
  {
   "cell_type": "markdown",
   "id": "f57a0bac",
   "metadata": {
    "papermill": {
     "duration": 0.035036,
     "end_time": "2025-07-30T21:09:00.056469",
     "exception": false,
     "start_time": "2025-07-30T21:09:00.021433",
     "status": "completed"
    },
    "tags": []
   },
   "source": [
    "# Final Output"
   ]
  },
  {
   "cell_type": "code",
   "execution_count": 77,
   "id": "96d280a3",
   "metadata": {
    "execution": {
     "iopub.execute_input": "2025-07-30T21:09:00.128124Z",
     "iopub.status.busy": "2025-07-30T21:09:00.127283Z",
     "iopub.status.idle": "2025-07-30T21:09:00.135429Z",
     "shell.execute_reply": "2025-07-30T21:09:00.134480Z"
    },
    "papermill": {
     "duration": 0.045953,
     "end_time": "2025-07-30T21:09:00.137219",
     "exception": false,
     "start_time": "2025-07-30T21:09:00.091266",
     "status": "completed"
    },
    "tags": []
   },
   "outputs": [
    {
     "data": {
      "text/plain": [
       "4"
      ]
     },
     "execution_count": 77,
     "metadata": {},
     "output_type": "execute_result"
    }
   ],
   "source": [
    "sub_universes = universe_analysis.generate_sub_universes()\n",
    "len(sub_universes)"
   ]
  },
  {
   "cell_type": "code",
   "execution_count": 78,
   "id": "92adf7ba",
   "metadata": {
    "execution": {
     "iopub.execute_input": "2025-07-30T21:09:00.203705Z",
     "iopub.status.busy": "2025-07-30T21:09:00.203084Z",
     "iopub.status.idle": "2025-07-30T21:09:00.210469Z",
     "shell.execute_reply": "2025-07-30T21:09:00.209436Z"
    },
    "papermill": {
     "duration": 0.039136,
     "end_time": "2025-07-30T21:09:00.212183",
     "exception": false,
     "start_time": "2025-07-30T21:09:00.173047",
     "status": "completed"
    },
    "tags": []
   },
   "outputs": [],
   "source": [
    "def filter_sub_universe_data(sub_universe, org_test):\n",
    "    # Keep all rows — no filtering\n",
    "    keep_rows_mask = np.ones(org_test.shape[0], dtype=bool)\n",
    "\n",
    "    print(f\"[INFO] Keeping all rows: {keep_rows_mask.sum()} rows retained.\")\n",
    "    return keep_rows_mask"
   ]
  },
  {
   "cell_type": "code",
   "execution_count": 79,
   "id": "4a759155",
   "metadata": {
    "execution": {
     "iopub.execute_input": "2025-07-30T21:09:00.270189Z",
     "iopub.status.busy": "2025-07-30T21:09:00.269293Z",
     "iopub.status.idle": "2025-07-30T21:09:10.947088Z",
     "shell.execute_reply": "2025-07-30T21:09:10.946237Z"
    },
    "papermill": {
     "duration": 10.708702,
     "end_time": "2025-07-30T21:09:10.948849",
     "exception": false,
     "start_time": "2025-07-30T21:09:00.240147",
     "status": "completed"
    },
    "tags": []
   },
   "outputs": [
    {
     "name": "stdout",
     "output_type": "stream",
     "text": [
      "Stopping execution_time clock.\n",
      "[INFO] Keeping all rows: 89710 rows retained.\n"
     ]
    },
    {
     "name": "stdout",
     "output_type": "stream",
     "text": [
      "[INFO] Keeping all rows: 89710 rows retained.\n"
     ]
    },
    {
     "name": "stdout",
     "output_type": "stream",
     "text": [
      "[INFO] Keeping all rows: 89710 rows retained.\n"
     ]
    },
    {
     "name": "stdout",
     "output_type": "stream",
     "text": [
      "[INFO] Keeping all rows: 89710 rows retained.\n"
     ]
    },
    {
     "data": {
      "text/html": [
       "<div>\n",
       "<style scoped>\n",
       "    .dataframe tbody tr th:only-of-type {\n",
       "        vertical-align: middle;\n",
       "    }\n",
       "\n",
       "    .dataframe tbody tr th {\n",
       "        vertical-align: top;\n",
       "    }\n",
       "\n",
       "    .dataframe thead th {\n",
       "        text-align: right;\n",
       "    }\n",
       "</style>\n",
       "<table border=\"1\" class=\"dataframe\">\n",
       "  <thead>\n",
       "    <tr style=\"text-align: right;\">\n",
       "      <th></th>\n",
       "      <th>run_no</th>\n",
       "      <th>universe_id</th>\n",
       "      <th>universe_settings</th>\n",
       "      <th>execution_time</th>\n",
       "      <th>test_size_n</th>\n",
       "      <th>test_size_frac</th>\n",
       "      <th>fair_main_equalized_odds_difference</th>\n",
       "      <th>fair_main_equalized_odds_ratio</th>\n",
       "      <th>fair_main_demographic_parity_difference</th>\n",
       "      <th>fair_main_demographic_parity_ratio</th>\n",
       "      <th>...</th>\n",
       "      <th>perf_grp_precision_0</th>\n",
       "      <th>perf_grp_precision_1</th>\n",
       "      <th>perf_grp_false positive rate_0</th>\n",
       "      <th>perf_grp_false positive rate_1</th>\n",
       "      <th>perf_grp_false negative rate_0</th>\n",
       "      <th>perf_grp_false negative rate_1</th>\n",
       "      <th>perf_grp_selection rate_0</th>\n",
       "      <th>perf_grp_selection rate_1</th>\n",
       "      <th>perf_grp_count_0</th>\n",
       "      <th>perf_grp_count_1</th>\n",
       "    </tr>\n",
       "  </thead>\n",
       "  <tbody>\n",
       "    <tr>\n",
       "      <th>0</th>\n",
       "      <td>14</td>\n",
       "      <td>1e9ea9a30ded6885fceb7abcef95d885</td>\n",
       "      <td>{\"cutoff\": \"quantile_0.1\", \"eval_fairness_grou...</td>\n",
       "      <td>103.962081</td>\n",
       "      <td>89710</td>\n",
       "      <td>1.0</td>\n",
       "      <td>0.095036</td>\n",
       "      <td>0.901332</td>\n",
       "      <td>0.084864</td>\n",
       "      <td>0.912098</td>\n",
       "      <td>...</td>\n",
       "      <td>NaN</td>\n",
       "      <td>NaN</td>\n",
       "      <td>NaN</td>\n",
       "      <td>NaN</td>\n",
       "      <td>NaN</td>\n",
       "      <td>NaN</td>\n",
       "      <td>NaN</td>\n",
       "      <td>NaN</td>\n",
       "      <td>NaN</td>\n",
       "      <td>NaN</td>\n",
       "    </tr>\n",
       "    <tr>\n",
       "      <th>0</th>\n",
       "      <td>14</td>\n",
       "      <td>1e9ea9a30ded6885fceb7abcef95d885</td>\n",
       "      <td>{\"cutoff\": \"quantile_0.1\", \"eval_fairness_grou...</td>\n",
       "      <td>103.962081</td>\n",
       "      <td>89710</td>\n",
       "      <td>1.0</td>\n",
       "      <td>0.095036</td>\n",
       "      <td>0.901332</td>\n",
       "      <td>0.084864</td>\n",
       "      <td>0.912098</td>\n",
       "      <td>...</td>\n",
       "      <td>0.117347</td>\n",
       "      <td>0.144379</td>\n",
       "      <td>0.963185</td>\n",
       "      <td>0.868149</td>\n",
       "      <td>0.017314</td>\n",
       "      <td>0.037856</td>\n",
       "      <td>0.965433</td>\n",
       "      <td>0.880570</td>\n",
       "      <td>20540.0</td>\n",
       "      <td>69170.0</td>\n",
       "    </tr>\n",
       "    <tr>\n",
       "      <th>0</th>\n",
       "      <td>14</td>\n",
       "      <td>1e9ea9a30ded6885fceb7abcef95d885</td>\n",
       "      <td>{\"cutoff\": \"quantile_0.25\", \"eval_fairness_gro...</td>\n",
       "      <td>103.962081</td>\n",
       "      <td>89710</td>\n",
       "      <td>1.0</td>\n",
       "      <td>0.216877</td>\n",
       "      <td>0.757635</td>\n",
       "      <td>0.195497</td>\n",
       "      <td>0.782957</td>\n",
       "      <td>...</td>\n",
       "      <td>NaN</td>\n",
       "      <td>NaN</td>\n",
       "      <td>NaN</td>\n",
       "      <td>NaN</td>\n",
       "      <td>NaN</td>\n",
       "      <td>NaN</td>\n",
       "      <td>NaN</td>\n",
       "      <td>NaN</td>\n",
       "      <td>NaN</td>\n",
       "      <td>NaN</td>\n",
       "    </tr>\n",
       "    <tr>\n",
       "      <th>0</th>\n",
       "      <td>14</td>\n",
       "      <td>1e9ea9a30ded6885fceb7abcef95d885</td>\n",
       "      <td>{\"cutoff\": \"quantile_0.25\", \"eval_fairness_gro...</td>\n",
       "      <td>103.962081</td>\n",
       "      <td>89710</td>\n",
       "      <td>1.0</td>\n",
       "      <td>0.216877</td>\n",
       "      <td>0.757635</td>\n",
       "      <td>0.195497</td>\n",
       "      <td>0.782957</td>\n",
       "      <td>...</td>\n",
       "      <td>0.121075</td>\n",
       "      <td>0.165700</td>\n",
       "      <td>0.894838</td>\n",
       "      <td>0.677961</td>\n",
       "      <td>0.054054</td>\n",
       "      <td>0.115646</td>\n",
       "      <td>0.900730</td>\n",
       "      <td>0.705233</td>\n",
       "      <td>20540.0</td>\n",
       "      <td>69170.0</td>\n",
       "    </tr>\n",
       "  </tbody>\n",
       "</table>\n",
       "<p>4 rows × 50 columns</p>\n",
       "</div>"
      ],
      "text/plain": [
       "  run_no                       universe_id  \\\n",
       "0     14  1e9ea9a30ded6885fceb7abcef95d885   \n",
       "0     14  1e9ea9a30ded6885fceb7abcef95d885   \n",
       "0     14  1e9ea9a30ded6885fceb7abcef95d885   \n",
       "0     14  1e9ea9a30ded6885fceb7abcef95d885   \n",
       "\n",
       "                                   universe_settings  execution_time  \\\n",
       "0  {\"cutoff\": \"quantile_0.1\", \"eval_fairness_grou...      103.962081   \n",
       "0  {\"cutoff\": \"quantile_0.1\", \"eval_fairness_grou...      103.962081   \n",
       "0  {\"cutoff\": \"quantile_0.25\", \"eval_fairness_gro...      103.962081   \n",
       "0  {\"cutoff\": \"quantile_0.25\", \"eval_fairness_gro...      103.962081   \n",
       "\n",
       "   test_size_n  test_size_frac  fair_main_equalized_odds_difference  \\\n",
       "0        89710             1.0                             0.095036   \n",
       "0        89710             1.0                             0.095036   \n",
       "0        89710             1.0                             0.216877   \n",
       "0        89710             1.0                             0.216877   \n",
       "\n",
       "   fair_main_equalized_odds_ratio  fair_main_demographic_parity_difference  \\\n",
       "0                        0.901332                                 0.084864   \n",
       "0                        0.901332                                 0.084864   \n",
       "0                        0.757635                                 0.195497   \n",
       "0                        0.757635                                 0.195497   \n",
       "\n",
       "   fair_main_demographic_parity_ratio  ...  perf_grp_precision_0  \\\n",
       "0                            0.912098  ...                   NaN   \n",
       "0                            0.912098  ...              0.117347   \n",
       "0                            0.782957  ...                   NaN   \n",
       "0                            0.782957  ...              0.121075   \n",
       "\n",
       "   perf_grp_precision_1  perf_grp_false positive rate_0  \\\n",
       "0                   NaN                             NaN   \n",
       "0              0.144379                        0.963185   \n",
       "0                   NaN                             NaN   \n",
       "0              0.165700                        0.894838   \n",
       "\n",
       "   perf_grp_false positive rate_1  perf_grp_false negative rate_0  \\\n",
       "0                             NaN                             NaN   \n",
       "0                        0.868149                        0.017314   \n",
       "0                             NaN                             NaN   \n",
       "0                        0.677961                        0.054054   \n",
       "\n",
       "   perf_grp_false negative rate_1  perf_grp_selection rate_0  \\\n",
       "0                             NaN                        NaN   \n",
       "0                        0.037856                   0.965433   \n",
       "0                             NaN                        NaN   \n",
       "0                        0.115646                   0.900730   \n",
       "\n",
       "   perf_grp_selection rate_1  perf_grp_count_0  perf_grp_count_1  \n",
       "0                        NaN               NaN               NaN  \n",
       "0                   0.880570           20540.0           69170.0  \n",
       "0                        NaN               NaN               NaN  \n",
       "0                   0.705233           20540.0           69170.0  \n",
       "\n",
       "[4 rows x 50 columns]"
      ]
     },
     "execution_count": 79,
     "metadata": {},
     "output_type": "execute_result"
    }
   ],
   "source": [
    "final_output = universe_analysis.generate_final_output(\n",
    "    y_pred_prob=probs_test,\n",
    "    y_test=y_true,\n",
    "    org_test=org_test,\n",
    "    filter_data=filter_sub_universe_data,\n",
    "    cp_metrics_df=cp_metrics_df,\n",
    "    save=True,\n",
    ")\n",
    "final_output"
   ]
  },
  {
   "cell_type": "code",
   "execution_count": null,
   "id": "721ff514-cb11-46f8-b6fc-50392f74b5cb",
   "metadata": {
    "papermill": {
     "duration": 0.026904,
     "end_time": "2025-07-30T21:09:11.007479",
     "exception": false,
     "start_time": "2025-07-30T21:09:10.980575",
     "status": "completed"
    },
    "tags": []
   },
   "outputs": [],
   "source": []
  }
 ],
 "metadata": {
  "celltoolbar": "Tags",
  "kernelspec": {
   "display_name": "Python (CMA Fairness)",
   "language": "python",
   "name": "cma_fair_env"
  },
  "language_info": {
   "codemirror_mode": {
    "name": "ipython",
    "version": 3
   },
   "file_extension": ".py",
   "mimetype": "text/x-python",
   "name": "python",
   "nbconvert_exporter": "python",
   "pygments_lexer": "ipython3",
   "version": "3.10.12"
  },
  "papermill": {
   "default_parameters": {},
   "duration": 118.727887,
   "end_time": "2025-07-30T21:09:11.756974",
   "environment_variables": {},
   "exception": null,
   "input_path": "universe_analysis.ipynb",
   "output_path": "output/runs/14/notebooks/m_14-1e9ea9a30ded6885fceb7abcef95d885.ipynb",
   "parameters": {
    "output_dir": "output",
    "run_no": "14",
    "seed": "2023",
    "universe": "{\"cutoff\": [\"quantile_0.1\", \"quantile_0.25\"], \"eval_fairness_grouping\": [\"majority-minority\", \"nationality-all\"], \"exclude_features\": \"sex\", \"exclude_subgroups\": \"keep-all\", \"model\": \"elasticnet\", \"scale\": \"do-not-scale\", \"training_size\": \"5k\", \"training_year\": \"2012_14\"}",
    "universe_id": "1e9ea9a30ded6885fceb7abcef95d885"
   },
   "start_time": "2025-07-30T21:07:13.029087",
   "version": "2.6.0"
  }
 },
 "nbformat": 4,
 "nbformat_minor": 5
}