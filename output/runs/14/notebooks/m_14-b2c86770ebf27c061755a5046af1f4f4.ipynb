{
 "cells": [
  {
   "cell_type": "code",
   "execution_count": 1,
   "id": "f159f837-637b-42ba-96b5-ec9a68c44524",
   "metadata": {
    "execution": {
     "iopub.execute_input": "2025-07-30T21:50:53.087908Z",
     "iopub.status.busy": "2025-07-30T21:50:53.087140Z",
     "iopub.status.idle": "2025-07-30T21:50:53.105865Z",
     "shell.execute_reply": "2025-07-30T21:50:53.104980Z"
    },
    "papermill": {
     "duration": 0.047033,
     "end_time": "2025-07-30T21:50:53.108159",
     "exception": false,
     "start_time": "2025-07-30T21:50:53.061126",
     "status": "completed"
    },
    "tags": []
   },
   "outputs": [
    {
     "name": "stdout",
     "output_type": "stream",
     "text": [
      "/dss/dsshome1/0C/ra93lal2/cma/CMA_Fairness_v2\n"
     ]
    },
    {
     "name": "stderr",
     "output_type": "stream",
     "text": [
      "/dss/dsshome1/0C/ra93lal2/.local/share/virtualenvs/CMA_Fairness_v2-3j10GkSs/lib/python3.10/site-packages/IPython/core/magics/osm.py:393: UserWarning: This is now an optional IPython functionality, using bookmarks requires you to install the `pickleshare` library.\n",
      "  bkms = self.shell.db.get('bookmarks', {})\n",
      "/dss/dsshome1/0C/ra93lal2/.local/share/virtualenvs/CMA_Fairness_v2-3j10GkSs/lib/python3.10/site-packages/IPython/core/magics/osm.py:417: UserWarning: This is now an optional IPython functionality, setting dhist requires you to install the `pickleshare` library.\n",
      "  self.shell.db['dhist'] = compress_dhist(dhist)[-100:]\n"
     ]
    }
   ],
   "source": [
    "%cd ~/cma/CMA_Fairness_v2"
   ]
  },
  {
   "cell_type": "markdown",
   "id": "de2603b9",
   "metadata": {
    "papermill": {
     "duration": 0.03014,
     "end_time": "2025-07-30T21:50:53.169264",
     "exception": false,
     "start_time": "2025-07-30T21:50:53.139124",
     "status": "completed"
    },
    "tags": []
   },
   "source": [
    "The following cell holds the definition of our parameters, these values can be overriden by rendering the with e.g. the following command:\n",
    "\n",
    "papermill -p alpha 0.2 -p ratio 0.3 universe_analysis.ipynb output/test_run.ipynb"
   ]
  },
  {
   "cell_type": "code",
   "execution_count": 2,
   "id": "a80968a0-40bb-4fa9-85ef-2d5eefb01975",
   "metadata": {
    "execution": {
     "iopub.execute_input": "2025-07-30T21:50:53.231412Z",
     "iopub.status.busy": "2025-07-30T21:50:53.230291Z",
     "iopub.status.idle": "2025-07-30T21:50:53.237618Z",
     "shell.execute_reply": "2025-07-30T21:50:53.236389Z"
    },
    "papermill": {
     "duration": 0.040557,
     "end_time": "2025-07-30T21:50:53.239869",
     "exception": false,
     "start_time": "2025-07-30T21:50:53.199312",
     "status": "completed"
    },
    "tags": []
   },
   "outputs": [
    {
     "name": "stdout",
     "output_type": "stream",
     "text": [
      "Current working directory: /dss/dsshome1/0C/ra93lal2/cma/CMA_Fairness_v2\n"
     ]
    }
   ],
   "source": [
    "import os\n",
    "print(\"Current working directory:\", os.getcwd())"
   ]
  },
  {
   "cell_type": "code",
   "execution_count": 3,
   "id": "2dce4c03",
   "metadata": {
    "execution": {
     "iopub.execute_input": "2025-07-30T21:50:53.301839Z",
     "iopub.status.busy": "2025-07-30T21:50:53.301150Z",
     "iopub.status.idle": "2025-07-30T21:50:53.308754Z",
     "shell.execute_reply": "2025-07-30T21:50:53.307478Z"
    },
    "papermill": {
     "duration": 0.039997,
     "end_time": "2025-07-30T21:50:53.310725",
     "exception": false,
     "start_time": "2025-07-30T21:50:53.270728",
     "status": "completed"
    },
    "tags": [
     "parameters"
    ]
   },
   "outputs": [],
   "source": [
    "run_no = 0\n",
    "universe_id = \"test\"\n",
    "universe = {\n",
    "    \"training_size\": \"25k\", # \"25k\", \"5k\", \"1k\"\n",
    "    \"training_year\": \"2014\", # \"2014\", \"2012_14\", \"2010_14\"\n",
    "    \"scale\": \"scale\", # \"scale\", \"do-not-scale\",\n",
    "    #\"stratify_split\": \"target\", # \"none\", \"target\", \"protected-attribute\", \"both\",\n",
    "    \"model\": \"elasticnet\", # \"logreg\", \"penalized_logreg\", \"rf\", \"gbm\", \"elasticnet\"\n",
    "    \"cutoff\": [\"quantile_0.15\", \"quantile_0.30\"],\n",
    "    \"exclude_features\": \"age\", # \"none\", \"nationality\", \"sex\", \"nationality-sex\", \"age\"\n",
    "    \"exclude_subgroups\": \"keep-all\", # \"keep-all\", \"drop-non-german\"\n",
    "    \"eval_fairness_grouping\": [\"majority-minority\", \"nationality-all\"]\n",
    "}\n",
    "\n",
    "output_dir=\"./output\"\n",
    "seed=0"
   ]
  },
  {
   "cell_type": "code",
   "execution_count": 4,
   "id": "0d4f0f87",
   "metadata": {
    "execution": {
     "iopub.execute_input": "2025-07-30T21:50:53.355902Z",
     "iopub.status.busy": "2025-07-30T21:50:53.354978Z",
     "iopub.status.idle": "2025-07-30T21:50:53.360845Z",
     "shell.execute_reply": "2025-07-30T21:50:53.359727Z"
    },
    "papermill": {
     "duration": 0.030523,
     "end_time": "2025-07-30T21:50:53.363012",
     "exception": false,
     "start_time": "2025-07-30T21:50:53.332489",
     "status": "completed"
    },
    "tags": [
     "injected-parameters"
    ]
   },
   "outputs": [],
   "source": [
    "# Parameters\n",
    "universe_id = \"b2c86770ebf27c061755a5046af1f4f4\"\n",
    "run_no = \"14\"\n",
    "universe = \"{\\\"cutoff\\\": [\\\"quantile_0.1\\\", \\\"quantile_0.25\\\"], \\\"eval_fairness_grouping\\\": [\\\"majority-minority\\\", \\\"nationality-all\\\"], \\\"exclude_features\\\": \\\"nationality\\\", \\\"exclude_subgroups\\\": \\\"drop-non-german\\\", \\\"model\\\": \\\"rf\\\", \\\"scale\\\": \\\"do-not-scale\\\", \\\"training_size\\\": \\\"1k\\\", \\\"training_year\\\": \\\"2010_14\\\"}\"\n",
    "output_dir = \"output\"\n",
    "seed = \"2023\"\n"
   ]
  },
  {
   "cell_type": "code",
   "execution_count": 5,
   "id": "1650acaf",
   "metadata": {
    "execution": {
     "iopub.execute_input": "2025-07-30T21:50:53.421167Z",
     "iopub.status.busy": "2025-07-30T21:50:53.420666Z",
     "iopub.status.idle": "2025-07-30T21:50:53.437158Z",
     "shell.execute_reply": "2025-07-30T21:50:53.436081Z"
    },
    "papermill": {
     "duration": 0.046924,
     "end_time": "2025-07-30T21:50:53.439010",
     "exception": false,
     "start_time": "2025-07-30T21:50:53.392086",
     "status": "completed"
    },
    "tags": []
   },
   "outputs": [],
   "source": [
    "import json\n",
    "# Parse universe into dict if it is passed as a string\n",
    "if isinstance(universe, str):\n",
    "    universe = json.loads(universe)"
   ]
  },
  {
   "cell_type": "code",
   "execution_count": 6,
   "id": "16620c48",
   "metadata": {
    "execution": {
     "iopub.execute_input": "2025-07-30T21:50:53.484256Z",
     "iopub.status.busy": "2025-07-30T21:50:53.483708Z",
     "iopub.status.idle": "2025-07-30T21:50:53.533486Z",
     "shell.execute_reply": "2025-07-30T21:50:53.532576Z"
    },
    "papermill": {
     "duration": 0.074316,
     "end_time": "2025-07-30T21:50:53.535398",
     "exception": false,
     "start_time": "2025-07-30T21:50:53.461082",
     "status": "completed"
    },
    "tags": []
   },
   "outputs": [],
   "source": [
    "# Auto-reload the custom package\n",
    "%load_ext autoreload\n",
    "%autoreload 1\n",
    "%aimport fairness_multiverse"
   ]
  },
  {
   "cell_type": "code",
   "execution_count": 7,
   "id": "01c5c9f3",
   "metadata": {
    "execution": {
     "iopub.execute_input": "2025-07-30T21:50:53.578320Z",
     "iopub.status.busy": "2025-07-30T21:50:53.577911Z",
     "iopub.status.idle": "2025-07-30T21:50:55.244961Z",
     "shell.execute_reply": "2025-07-30T21:50:55.243769Z"
    },
    "papermill": {
     "duration": 1.690675,
     "end_time": "2025-07-30T21:50:55.247087",
     "exception": false,
     "start_time": "2025-07-30T21:50:53.556412",
     "status": "completed"
    },
    "tags": []
   },
   "outputs": [],
   "source": [
    "from fairness_multiverse.universe import UniverseAnalysis\n",
    "\n",
    "universe_analysis = UniverseAnalysis(\n",
    "    run_no = run_no,\n",
    "    universe_id = universe_id,\n",
    "    universe = universe,\n",
    "    output_dir=output_dir,\n",
    ")"
   ]
  },
  {
   "cell_type": "code",
   "execution_count": 8,
   "id": "106241f5",
   "metadata": {
    "execution": {
     "iopub.execute_input": "2025-07-30T21:50:55.290887Z",
     "iopub.status.busy": "2025-07-30T21:50:55.290155Z",
     "iopub.status.idle": "2025-07-30T21:50:55.297432Z",
     "shell.execute_reply": "2025-07-30T21:50:55.296214Z"
    },
    "papermill": {
     "duration": 0.031648,
     "end_time": "2025-07-30T21:50:55.299566",
     "exception": false,
     "start_time": "2025-07-30T21:50:55.267918",
     "status": "completed"
    },
    "tags": []
   },
   "outputs": [
    {
     "name": "stdout",
     "output_type": "stream",
     "text": [
      "Using Seed: 2023\n"
     ]
    }
   ],
   "source": [
    "import numpy as np\n",
    "parsed_seed = int(seed)\n",
    "np.random.seed(parsed_seed)\n",
    "print(f\"Using Seed: {parsed_seed}\")"
   ]
  },
  {
   "cell_type": "markdown",
   "id": "e0ebdc57",
   "metadata": {
    "papermill": {
     "duration": 0.027857,
     "end_time": "2025-07-30T21:50:55.356328",
     "exception": false,
     "start_time": "2025-07-30T21:50:55.328471",
     "status": "completed"
    },
    "tags": []
   },
   "source": [
    "# Loading Data"
   ]
  },
  {
   "cell_type": "markdown",
   "id": "681925a3",
   "metadata": {
    "papermill": {
     "duration": 0.02268,
     "end_time": "2025-07-30T21:50:55.407199",
     "exception": false,
     "start_time": "2025-07-30T21:50:55.384519",
     "status": "completed"
    },
    "tags": []
   },
   "source": [
    "Load siab_train, siab_test, siab_calib and/or \n",
    "load siab_train_features, siab_train_labels"
   ]
  },
  {
   "cell_type": "code",
   "execution_count": 9,
   "id": "f0496b8a",
   "metadata": {
    "execution": {
     "iopub.execute_input": "2025-07-30T21:50:55.451019Z",
     "iopub.status.busy": "2025-07-30T21:50:55.450226Z",
     "iopub.status.idle": "2025-07-30T21:51:08.997421Z",
     "shell.execute_reply": "2025-07-30T21:51:08.992124Z"
    },
    "papermill": {
     "duration": 13.570623,
     "end_time": "2025-07-30T21:51:08.999728",
     "exception": false,
     "start_time": "2025-07-30T21:50:55.429105",
     "status": "completed"
    },
    "tags": []
   },
   "outputs": [
    {
     "name": "stdout",
     "output_type": "stream",
     "text": [
      "Loading SIAB data from cache: data/siab_cached.csv.gz\n"
     ]
    },
    {
     "name": "stdout",
     "output_type": "stream",
     "text": [
      "(643690, 164)\n"
     ]
    }
   ],
   "source": [
    "from pathlib import Path\n",
    "import pandas as pd\n",
    "\n",
    "# File paths\n",
    "raw_file = Path(\"data/raw/siab.csv\")\n",
    "cache_file = Path(\"data/siab_cached.csv.gz\")\n",
    "\n",
    "# Ensure cache directory exists\n",
    "cache_file.parent.mkdir(parents=True, exist_ok=True)\n",
    "\n",
    "# Load with simple caching\n",
    "if cache_file.exists():\n",
    "    print(f\"Loading SIAB data from cache: {cache_file}\")\n",
    "    siab = pd.read_csv(cache_file, compression='gzip')\n",
    "else:\n",
    "    print(f\"Cache not found. Reading raw SIAB data: {raw_file}\")\n",
    "    siab = pd.read_csv(raw_file)\n",
    "    siab.to_csv(cache_file, index=False, compression='gzip')\n",
    "    print(f\"Cached SIAB data to: {cache_file}\")\n",
    "\n",
    "# Now use `siab` DataFrame as needed\n",
    "print(siab.shape)"
   ]
  },
  {
   "cell_type": "code",
   "execution_count": 10,
   "id": "db0ca512-5f53-4dba-abdb-a2888bca41ba",
   "metadata": {
    "execution": {
     "iopub.execute_input": "2025-07-30T21:51:09.137008Z",
     "iopub.status.busy": "2025-07-30T21:51:09.136603Z",
     "iopub.status.idle": "2025-07-30T21:51:09.142416Z",
     "shell.execute_reply": "2025-07-30T21:51:09.141424Z"
    },
    "papermill": {
     "duration": 0.059027,
     "end_time": "2025-07-30T21:51:09.144653",
     "exception": false,
     "start_time": "2025-07-30T21:51:09.085626",
     "status": "completed"
    },
    "tags": []
   },
   "outputs": [],
   "source": [
    "#siab"
   ]
  },
  {
   "cell_type": "code",
   "execution_count": 11,
   "id": "a0edb063",
   "metadata": {
    "execution": {
     "iopub.execute_input": "2025-07-30T21:51:09.238487Z",
     "iopub.status.busy": "2025-07-30T21:51:09.238097Z",
     "iopub.status.idle": "2025-07-30T21:51:09.242952Z",
     "shell.execute_reply": "2025-07-30T21:51:09.241999Z"
    },
    "papermill": {
     "duration": 0.040787,
     "end_time": "2025-07-30T21:51:09.246070",
     "exception": false,
     "start_time": "2025-07-30T21:51:09.205283",
     "status": "completed"
    },
    "tags": []
   },
   "outputs": [],
   "source": [
    "#import pandas as pd\n",
    "#\n",
    "#X_train = pd.read_csv(\"./data/X_train.csv\")\n",
    "#y_train = pd.read_csv(\"./data/y_train.csv\")"
   ]
  },
  {
   "cell_type": "code",
   "execution_count": 12,
   "id": "63d08085",
   "metadata": {
    "execution": {
     "iopub.execute_input": "2025-07-30T21:51:09.292110Z",
     "iopub.status.busy": "2025-07-30T21:51:09.291702Z",
     "iopub.status.idle": "2025-07-30T21:51:09.296985Z",
     "shell.execute_reply": "2025-07-30T21:51:09.295823Z"
    },
    "papermill": {
     "duration": 0.029692,
     "end_time": "2025-07-30T21:51:09.300545",
     "exception": false,
     "start_time": "2025-07-30T21:51:09.270853",
     "status": "completed"
    },
    "tags": []
   },
   "outputs": [],
   "source": [
    "#X_test = pd.read_csv(\"./data/X_test.csv\")\n",
    "#y_true = pd.read_csv(\"./data/y_test.csv\")"
   ]
  },
  {
   "cell_type": "code",
   "execution_count": 13,
   "id": "98a8d0fa-1d3d-4ed8-bb2c-281470e24add",
   "metadata": {
    "execution": {
     "iopub.execute_input": "2025-07-30T21:51:09.406013Z",
     "iopub.status.busy": "2025-07-30T21:51:09.405635Z",
     "iopub.status.idle": "2025-07-30T21:51:09.411195Z",
     "shell.execute_reply": "2025-07-30T21:51:09.410092Z"
    },
    "papermill": {
     "duration": 0.084827,
     "end_time": "2025-07-30T21:51:09.413503",
     "exception": false,
     "start_time": "2025-07-30T21:51:09.328676",
     "status": "completed"
    },
    "tags": []
   },
   "outputs": [],
   "source": [
    "# Calibration data for conformal\n",
    "#X_calib = pd.read_csv(\"./data/X_calib.csv\")\n",
    "#y_calib = pd.read_csv(\"./data/y_calib.csv\")"
   ]
  },
  {
   "cell_type": "markdown",
   "id": "997051c5-15bd-4b69-9786-c3001a3ce484",
   "metadata": {
    "papermill": {
     "duration": 0.023571,
     "end_time": "2025-07-30T21:51:09.466936",
     "exception": false,
     "start_time": "2025-07-30T21:51:09.443365",
     "status": "completed"
    },
    "tags": []
   },
   "source": [
    "# Splitting Data and Setting Training Data Size"
   ]
  },
  {
   "cell_type": "code",
   "execution_count": 14,
   "id": "e993b61f-042d-41a6-8c81-f55681f86335",
   "metadata": {
    "execution": {
     "iopub.execute_input": "2025-07-30T21:51:09.516702Z",
     "iopub.status.busy": "2025-07-30T21:51:09.516181Z",
     "iopub.status.idle": "2025-07-30T21:51:09.530216Z",
     "shell.execute_reply": "2025-07-30T21:51:09.529137Z"
    },
    "papermill": {
     "duration": 0.041658,
     "end_time": "2025-07-30T21:51:09.532259",
     "exception": false,
     "start_time": "2025-07-30T21:51:09.490601",
     "status": "completed"
    },
    "tags": []
   },
   "outputs": [],
   "source": [
    "def sample_by_year_size(df,\n",
    "                        training_year: str,\n",
    "                        training_size: str,\n",
    "                        random_state: int = 42):\n",
    "    # --- parse training_year into a list of int years ---\n",
    "    if \"_\" in training_year:\n",
    "        start_str, end_str = training_year.split(\"_\", 1)\n",
    "        start = int(start_str)\n",
    "        end   = int(end_str) if len(end_str) == 4 else (int(end_str) + (start // 100)*100)\n",
    "        years = list(range(start, end + 1))\n",
    "    else:\n",
    "        years = [int(training_year)]\n",
    "\n",
    "    df = df[df[\"year\"].isin(years)].reset_index(drop=True)\n",
    "\n",
    "    # --- map training_size to total number of samples ---\n",
    "    total_map = {\"25k\": 25_000, \"5k\": 5_000, \"1k\": 1_000}\n",
    "    if training_size not in total_map:\n",
    "        return df  # e.g. \"all\"\n",
    "\n",
    "    total_samples = total_map[training_size]\n",
    "    n_years       = len(years)\n",
    "    base          = total_samples // n_years\n",
    "    remainder     = total_samples % n_years\n",
    "\n",
    "    # --- build a dict: year -> how many to sample ---\n",
    "    # give +1 to the first `remainder` years in ascending order\n",
    "    quotas = {\n",
    "        year: base + (1 if idx < remainder else 0)\n",
    "        for idx, year in enumerate(sorted(years))\n",
    "    }\n",
    "\n",
    "    # --- sample per‐year according to the quota dict ---\n",
    "    sampled = (\n",
    "        df\n",
    "        .groupby(\"year\", group_keys=False)\n",
    "        .apply(lambda grp: grp.sample(\n",
    "            n=min(len(grp), quotas[grp.name]),\n",
    "            random_state=random_state))\n",
    "        .reset_index(drop=True)\n",
    "    )\n",
    "\n",
    "    return sampled"
   ]
  },
  {
   "cell_type": "code",
   "execution_count": 15,
   "id": "c0ccd338-0e02-41f3-a09d-f56f9266e3fb",
   "metadata": {
    "execution": {
     "iopub.execute_input": "2025-07-30T21:51:09.584126Z",
     "iopub.status.busy": "2025-07-30T21:51:09.583551Z",
     "iopub.status.idle": "2025-07-30T21:51:09.589001Z",
     "shell.execute_reply": "2025-07-30T21:51:09.587865Z"
    },
    "papermill": {
     "duration": 0.033095,
     "end_time": "2025-07-30T21:51:09.590231",
     "exception": false,
     "start_time": "2025-07-30T21:51:09.557136",
     "status": "completed"
    },
    "tags": []
   },
   "outputs": [],
   "source": [
    "#universe[\"training_size\"]"
   ]
  },
  {
   "cell_type": "code",
   "execution_count": 16,
   "id": "ca707fd7-8047-4acd-bfa5-66248fbbf8e6",
   "metadata": {
    "execution": {
     "iopub.execute_input": "2025-07-30T21:51:09.629816Z",
     "iopub.status.busy": "2025-07-30T21:51:09.629427Z",
     "iopub.status.idle": "2025-07-30T21:51:09.634712Z",
     "shell.execute_reply": "2025-07-30T21:51:09.633682Z"
    },
    "papermill": {
     "duration": 0.030125,
     "end_time": "2025-07-30T21:51:09.638583",
     "exception": false,
     "start_time": "2025-07-30T21:51:09.608458",
     "status": "completed"
    },
    "tags": []
   },
   "outputs": [],
   "source": [
    "#universe[\"training_year\"]"
   ]
  },
  {
   "cell_type": "code",
   "execution_count": 17,
   "id": "aea9c6ef-6f46-42c8-85eb-5a62025c1508",
   "metadata": {
    "execution": {
     "iopub.execute_input": "2025-07-30T21:51:09.713454Z",
     "iopub.status.busy": "2025-07-30T21:51:09.712984Z",
     "iopub.status.idle": "2025-07-30T21:51:10.803553Z",
     "shell.execute_reply": "2025-07-30T21:51:10.802571Z"
    },
    "papermill": {
     "duration": 1.143814,
     "end_time": "2025-07-30T21:51:10.805427",
     "exception": false,
     "start_time": "2025-07-30T21:51:09.661613",
     "status": "completed"
    },
    "tags": []
   },
   "outputs": [],
   "source": [
    "siab_train = sample_by_year_size(siab,\n",
    "                               training_year=universe[\"training_year\"],\n",
    "                               training_size=universe[\"training_size\"])"
   ]
  },
  {
   "cell_type": "code",
   "execution_count": 18,
   "id": "8d3afb32-789d-442c-8d5d-9f5aa8dd2eed",
   "metadata": {
    "execution": {
     "iopub.execute_input": "2025-07-30T21:51:10.867437Z",
     "iopub.status.busy": "2025-07-30T21:51:10.867056Z",
     "iopub.status.idle": "2025-07-30T21:51:10.881222Z",
     "shell.execute_reply": "2025-07-30T21:51:10.880091Z"
    },
    "papermill": {
     "duration": 0.055747,
     "end_time": "2025-07-30T21:51:10.883788",
     "exception": false,
     "start_time": "2025-07-30T21:51:10.828041",
     "status": "completed"
    },
    "tags": []
   },
   "outputs": [],
   "source": [
    "#siab_train.shape"
   ]
  },
  {
   "cell_type": "code",
   "execution_count": 19,
   "id": "d582db68-1a4c-47fb-84fc-08518dc1975a",
   "metadata": {
    "execution": {
     "iopub.execute_input": "2025-07-30T21:51:10.929465Z",
     "iopub.status.busy": "2025-07-30T21:51:10.929017Z",
     "iopub.status.idle": "2025-07-30T21:51:10.934520Z",
     "shell.execute_reply": "2025-07-30T21:51:10.933488Z"
    },
    "papermill": {
     "duration": 0.031224,
     "end_time": "2025-07-30T21:51:10.937376",
     "exception": false,
     "start_time": "2025-07-30T21:51:10.906152",
     "status": "completed"
    },
    "tags": []
   },
   "outputs": [],
   "source": [
    "#display(siab_train.groupby(\"year\").size())"
   ]
  },
  {
   "cell_type": "code",
   "execution_count": 20,
   "id": "a561edb4-d032-42cb-8256-22eac1111c64",
   "metadata": {
    "execution": {
     "iopub.execute_input": "2025-07-30T21:51:11.001132Z",
     "iopub.status.busy": "2025-07-30T21:51:11.000750Z",
     "iopub.status.idle": "2025-07-30T21:51:11.246599Z",
     "shell.execute_reply": "2025-07-30T21:51:11.245228Z"
    },
    "papermill": {
     "duration": 0.270756,
     "end_time": "2025-07-30T21:51:11.248726",
     "exception": false,
     "start_time": "2025-07-30T21:51:10.977970",
     "status": "completed"
    },
    "tags": []
   },
   "outputs": [],
   "source": [
    "#siab_train = siab_s[siab_s.year < 2015]\n",
    "siab_calib = siab[siab.year == 2015]\n",
    "siab_test = siab[siab.year == 2016]"
   ]
  },
  {
   "cell_type": "code",
   "execution_count": 21,
   "id": "472de16f-c3db-4916-846b-1f0de9cf1746",
   "metadata": {
    "execution": {
     "iopub.execute_input": "2025-07-30T21:51:11.293454Z",
     "iopub.status.busy": "2025-07-30T21:51:11.292723Z",
     "iopub.status.idle": "2025-07-30T21:51:11.301877Z",
     "shell.execute_reply": "2025-07-30T21:51:11.300519Z"
    },
    "papermill": {
     "duration": 0.03672,
     "end_time": "2025-07-30T21:51:11.306624",
     "exception": false,
     "start_time": "2025-07-30T21:51:11.269904",
     "status": "completed"
    },
    "tags": []
   },
   "outputs": [],
   "source": [
    "X_train = siab_train.iloc[:,4:164]\n",
    "y_train = siab_train.iloc[:, [3]]"
   ]
  },
  {
   "cell_type": "code",
   "execution_count": 22,
   "id": "828c96af-f43a-4ed6-ba47-8ac73a47d56c",
   "metadata": {
    "execution": {
     "iopub.execute_input": "2025-07-30T21:51:11.361511Z",
     "iopub.status.busy": "2025-07-30T21:51:11.361107Z",
     "iopub.status.idle": "2025-07-30T21:51:11.415106Z",
     "shell.execute_reply": "2025-07-30T21:51:11.414183Z"
    },
    "papermill": {
     "duration": 0.078085,
     "end_time": "2025-07-30T21:51:11.416874",
     "exception": false,
     "start_time": "2025-07-30T21:51:11.338789",
     "status": "completed"
    },
    "tags": []
   },
   "outputs": [],
   "source": [
    "X_calib = siab_calib.iloc[:,4:164]\n",
    "y_calib = siab_calib.iloc[:, [3]]"
   ]
  },
  {
   "cell_type": "code",
   "execution_count": 23,
   "id": "c34be9c3-6bd6-476e-acd3-845840e303be",
   "metadata": {
    "execution": {
     "iopub.execute_input": "2025-07-30T21:51:11.458111Z",
     "iopub.status.busy": "2025-07-30T21:51:11.457727Z",
     "iopub.status.idle": "2025-07-30T21:51:11.542069Z",
     "shell.execute_reply": "2025-07-30T21:51:11.540725Z"
    },
    "papermill": {
     "duration": 0.108487,
     "end_time": "2025-07-30T21:51:11.545316",
     "exception": false,
     "start_time": "2025-07-30T21:51:11.436829",
     "status": "completed"
    },
    "tags": []
   },
   "outputs": [],
   "source": [
    "X_test = siab_test.iloc[:,4:164]\n",
    "y_true = siab_test.iloc[:, [3]]"
   ]
  },
  {
   "cell_type": "markdown",
   "id": "9901737e-04df-44f0-9100-f5ad144ed040",
   "metadata": {
    "papermill": {
     "duration": 0.053384,
     "end_time": "2025-07-30T21:51:11.665290",
     "exception": false,
     "start_time": "2025-07-30T21:51:11.611906",
     "status": "completed"
    },
    "tags": []
   },
   "source": [
    "# Splitting Data and Setting Training Data Size OLD VERSION"
   ]
  },
  {
   "cell_type": "code",
   "execution_count": 24,
   "id": "acbc8f7d-8fc8-4e86-8c59-5dcb0f58384b",
   "metadata": {
    "execution": {
     "iopub.execute_input": "2025-07-30T21:51:11.769011Z",
     "iopub.status.busy": "2025-07-30T21:51:11.768395Z",
     "iopub.status.idle": "2025-07-30T21:51:11.777237Z",
     "shell.execute_reply": "2025-07-30T21:51:11.776187Z"
    },
    "papermill": {
     "duration": 0.067094,
     "end_time": "2025-07-30T21:51:11.779376",
     "exception": false,
     "start_time": "2025-07-30T21:51:11.712282",
     "status": "completed"
    },
    "tags": []
   },
   "outputs": [],
   "source": [
    "#def sample_by_year(df, training_size, random_state=42):\n",
    "#    if training_size == \"2014\":\n",
    "#        return df[df[\"year\"] == 2014].reset_index(drop=True)\n",
    "#    \n",
    "#    size_map = {\n",
    "#        \"25k\": 5000,\n",
    "#        \"5k\": 1000,\n",
    "#        \"1k\": 200\n",
    "#    }\n",
    "#\n",
    "#    if training_size not in size_map:\n",
    "#        return df.reset_index(drop=True)  # use all data\n",
    "#\n",
    "#    n_per_year = size_map[training_size]\n",
    "#    grouped = df.groupby(\"year\")\n",
    "#    sampled = grouped.apply(lambda x: x.sample(n=min(n_per_year, len(x)), random_state=random_state))\n",
    "#    return sampled.reset_index(drop=True)"
   ]
  },
  {
   "cell_type": "code",
   "execution_count": 25,
   "id": "6d931f52-beaf-43ff-9e78-9d44a448d54e",
   "metadata": {
    "execution": {
     "iopub.execute_input": "2025-07-30T21:51:11.848625Z",
     "iopub.status.busy": "2025-07-30T21:51:11.848244Z",
     "iopub.status.idle": "2025-07-30T21:51:11.852957Z",
     "shell.execute_reply": "2025-07-30T21:51:11.851794Z"
    },
    "papermill": {
     "duration": 0.028453,
     "end_time": "2025-07-30T21:51:11.854482",
     "exception": false,
     "start_time": "2025-07-30T21:51:11.826029",
     "status": "completed"
    },
    "tags": []
   },
   "outputs": [],
   "source": [
    "#siab_s = sample_by_year(siab, universe[\"training_size\"])"
   ]
  },
  {
   "cell_type": "code",
   "execution_count": 26,
   "id": "5db0a40e-a4e2-4920-be85-b12ae061d70d",
   "metadata": {
    "execution": {
     "iopub.execute_input": "2025-07-30T21:51:11.887899Z",
     "iopub.status.busy": "2025-07-30T21:51:11.887486Z",
     "iopub.status.idle": "2025-07-30T21:51:11.892309Z",
     "shell.execute_reply": "2025-07-30T21:51:11.891285Z"
    },
    "papermill": {
     "duration": 0.027702,
     "end_time": "2025-07-30T21:51:11.894130",
     "exception": false,
     "start_time": "2025-07-30T21:51:11.866428",
     "status": "completed"
    },
    "tags": []
   },
   "outputs": [],
   "source": [
    "#display(siab_s.groupby(\"year\").size())"
   ]
  },
  {
   "cell_type": "code",
   "execution_count": 27,
   "id": "e6c733c5",
   "metadata": {
    "execution": {
     "iopub.execute_input": "2025-07-30T21:51:11.945069Z",
     "iopub.status.busy": "2025-07-30T21:51:11.944582Z",
     "iopub.status.idle": "2025-07-30T21:51:12.050118Z",
     "shell.execute_reply": "2025-07-30T21:51:12.048072Z"
    },
    "papermill": {
     "duration": 0.132611,
     "end_time": "2025-07-30T21:51:12.051647",
     "exception": false,
     "start_time": "2025-07-30T21:51:11.919036",
     "status": "completed"
    },
    "tags": []
   },
   "outputs": [],
   "source": [
    "# Auxiliary data needed downstream in the pipeline\n",
    "\n",
    "org_train = X_train.copy()\n",
    "org_test = X_test.copy()\n",
    "org_calib = X_calib.copy()"
   ]
  },
  {
   "cell_type": "code",
   "execution_count": 28,
   "id": "1466abac-c6da-4492-a62f-4240ae3783af",
   "metadata": {
    "execution": {
     "iopub.execute_input": "2025-07-30T21:51:12.106436Z",
     "iopub.status.busy": "2025-07-30T21:51:12.105295Z",
     "iopub.status.idle": "2025-07-30T21:51:12.111920Z",
     "shell.execute_reply": "2025-07-30T21:51:12.110920Z"
    },
    "papermill": {
     "duration": 0.031877,
     "end_time": "2025-07-30T21:51:12.114106",
     "exception": false,
     "start_time": "2025-07-30T21:51:12.082229",
     "status": "completed"
    },
    "tags": []
   },
   "outputs": [],
   "source": [
    "# put in other script?\n",
    "# Group sizes\n",
    "\n",
    "#def calculate_percentages(df, df_name):\n",
    "#    total_entries = len(df)\n",
    "#\n",
    "#    female_pct = (df['frau1'] == 1).mean() * 100\n",
    "#    non_german_pct = ((df['maxdeutsch1'] == 0) & (df['maxdeutsch.Missing.'] == 0)).mean() * 100\n",
    "#    non_german_male_pct = ((df['frau1'] == 0) & (df['maxdeutsch1'] == 0) & (df['maxdeutsch.Missing.'] == 0)).mean() * 100\n",
    "#    non_german_female_pct = ((df['frau1'] == 1) & (df['maxdeutsch1'] == 0) & (df['maxdeutsch.Missing.'] == 0)).mean() * 100\n",
    "#\n",
    "#    print(f\"--- {df_name} ---\")\n",
    "#    print(f\"Female: {female_pct:.2f}%\")\n",
    "#    print(f\"Non-German: {non_german_pct:.2f}%\")\n",
    "#    print(f\"Non-German Male: {non_german_male_pct:.2f}%\")\n",
    "#    print(f\"Non-German Female: {non_german_female_pct:.2f}%\\n\")\n",
    "#\n",
    "## Calculate for each DataFrame\n",
    "#calculate_percentages(siab_calib, \"siab_calib\")\n",
    "#calculate_percentages(siab_test, \"siab_test\")\n",
    "#calculate_percentages(siab_train, \"siab_train\")"
   ]
  },
  {
   "cell_type": "markdown",
   "id": "0a4a1b33",
   "metadata": {
    "papermill": {
     "duration": 0.023744,
     "end_time": "2025-07-30T21:51:12.164857",
     "exception": false,
     "start_time": "2025-07-30T21:51:12.141113",
     "status": "completed"
    },
    "tags": []
   },
   "source": [
    "# Preprocessing Data"
   ]
  },
  {
   "cell_type": "code",
   "execution_count": 29,
   "id": "ca879031",
   "metadata": {
    "execution": {
     "iopub.execute_input": "2025-07-30T21:51:12.222894Z",
     "iopub.status.busy": "2025-07-30T21:51:12.222511Z",
     "iopub.status.idle": "2025-07-30T21:51:12.229062Z",
     "shell.execute_reply": "2025-07-30T21:51:12.227892Z"
    },
    "papermill": {
     "duration": 0.038841,
     "end_time": "2025-07-30T21:51:12.232674",
     "exception": false,
     "start_time": "2025-07-30T21:51:12.193833",
     "status": "completed"
    },
    "tags": []
   },
   "outputs": [],
   "source": [
    "# EXCLUDE PROTECTED FEATURES\n",
    "# ----------------------\n",
    "# \"exclude_features\": \"none\", # \"nationality\", \"sex\", \"nationality-sex\"\n",
    "\n",
    "excluded_features = universe[\"exclude_features\"].split(\"-\") # split, e.g.: \"nationality-sex\" -> [\"nationality\", \"sex\"]\n",
    "excluded_features_dictionary = {\n",
    "    \"nationality\": [\"maxdeutsch1\", \"maxdeutsch.Missing.\"],\n",
    "    \"sex\": [\"frau1\"],\n",
    "    \"age\": [\"age\"],\n",
    "}\n"
   ]
  },
  {
   "cell_type": "code",
   "execution_count": 30,
   "id": "b745ac60",
   "metadata": {
    "execution": {
     "iopub.execute_input": "2025-07-30T21:51:12.295977Z",
     "iopub.status.busy": "2025-07-30T21:51:12.295407Z",
     "iopub.status.idle": "2025-07-30T21:51:12.303673Z",
     "shell.execute_reply": "2025-07-30T21:51:12.302459Z"
    },
    "papermill": {
     "duration": 0.035743,
     "end_time": "2025-07-30T21:51:12.305641",
     "exception": false,
     "start_time": "2025-07-30T21:51:12.269898",
     "status": "completed"
    },
    "tags": []
   },
   "outputs": [],
   "source": [
    "# Code nice names to column names\n",
    "\n",
    "excluded_features_columns = [\n",
    "    excluded_features_dictionary[f] for f in excluded_features if len(f) > 0 and f != \"none\"\n",
    "]"
   ]
  },
  {
   "cell_type": "code",
   "execution_count": 31,
   "id": "f84f73a2",
   "metadata": {
    "execution": {
     "iopub.execute_input": "2025-07-30T21:51:12.357650Z",
     "iopub.status.busy": "2025-07-30T21:51:12.357268Z",
     "iopub.status.idle": "2025-07-30T21:51:12.363481Z",
     "shell.execute_reply": "2025-07-30T21:51:12.362491Z"
    },
    "papermill": {
     "duration": 0.034211,
     "end_time": "2025-07-30T21:51:12.366149",
     "exception": false,
     "start_time": "2025-07-30T21:51:12.331938",
     "status": "completed"
    },
    "tags": []
   },
   "outputs": [],
   "source": [
    "from utils import flatten_once\n",
    "\n",
    "excluded_features_columns = flatten_once(excluded_features_columns)"
   ]
  },
  {
   "cell_type": "code",
   "execution_count": 32,
   "id": "884dea22",
   "metadata": {
    "execution": {
     "iopub.execute_input": "2025-07-30T21:51:12.416876Z",
     "iopub.status.busy": "2025-07-30T21:51:12.416388Z",
     "iopub.status.idle": "2025-07-30T21:51:12.424896Z",
     "shell.execute_reply": "2025-07-30T21:51:12.423716Z"
    },
    "papermill": {
     "duration": 0.038954,
     "end_time": "2025-07-30T21:51:12.428884",
     "exception": false,
     "start_time": "2025-07-30T21:51:12.389930",
     "status": "completed"
    },
    "tags": []
   },
   "outputs": [
    {
     "name": "stdout",
     "output_type": "stream",
     "text": [
      "Dropping features: ['maxdeutsch1', 'maxdeutsch.Missing.']\n"
     ]
    }
   ],
   "source": [
    "if len(excluded_features_columns) > 0:\n",
    "    print(f\"Dropping features: {excluded_features_columns}\")\n",
    "    X_train.drop(excluded_features_columns, axis=1, inplace=True)"
   ]
  },
  {
   "cell_type": "code",
   "execution_count": 33,
   "id": "95ab8b16",
   "metadata": {
    "execution": {
     "iopub.execute_input": "2025-07-30T21:51:12.482410Z",
     "iopub.status.busy": "2025-07-30T21:51:12.482032Z",
     "iopub.status.idle": "2025-07-30T21:51:12.702039Z",
     "shell.execute_reply": "2025-07-30T21:51:12.700706Z"
    },
    "papermill": {
     "duration": 0.245681,
     "end_time": "2025-07-30T21:51:12.703878",
     "exception": false,
     "start_time": "2025-07-30T21:51:12.458197",
     "status": "completed"
    },
    "tags": []
   },
   "outputs": [
    {
     "name": "stdout",
     "output_type": "stream",
     "text": [
      "Dropping features: ['maxdeutsch1', 'maxdeutsch.Missing.']\n"
     ]
    }
   ],
   "source": [
    "if len(excluded_features_columns) > 0:\n",
    "    print(f\"Dropping features: {excluded_features_columns}\")\n",
    "    X_test.drop(excluded_features_columns, axis=1, inplace=True)"
   ]
  },
  {
   "cell_type": "code",
   "execution_count": 34,
   "id": "1853aaf5-fb9f-46cb-a2b5-8ea4ae2237e4",
   "metadata": {
    "execution": {
     "iopub.execute_input": "2025-07-30T21:51:12.833762Z",
     "iopub.status.busy": "2025-07-30T21:51:12.833367Z",
     "iopub.status.idle": "2025-07-30T21:51:12.901267Z",
     "shell.execute_reply": "2025-07-30T21:51:12.900116Z"
    },
    "papermill": {
     "duration": 0.1471,
     "end_time": "2025-07-30T21:51:12.903252",
     "exception": false,
     "start_time": "2025-07-30T21:51:12.756152",
     "status": "completed"
    },
    "tags": []
   },
   "outputs": [
    {
     "name": "stdout",
     "output_type": "stream",
     "text": [
      "Dropping features: ['maxdeutsch1', 'maxdeutsch.Missing.']\n"
     ]
    }
   ],
   "source": [
    "if len(excluded_features_columns) > 0:\n",
    "    print(f\"Dropping features: {excluded_features_columns}\")\n",
    "    X_calib.drop(excluded_features_columns, axis=1, inplace=True)"
   ]
  },
  {
   "cell_type": "code",
   "execution_count": 35,
   "id": "6727d079-03e5-481e-9d38-292a90b7a0a8",
   "metadata": {
    "execution": {
     "iopub.execute_input": "2025-07-30T21:51:12.946516Z",
     "iopub.status.busy": "2025-07-30T21:51:12.946132Z",
     "iopub.status.idle": "2025-07-30T21:51:12.951407Z",
     "shell.execute_reply": "2025-07-30T21:51:12.950416Z"
    },
    "papermill": {
     "duration": 0.031099,
     "end_time": "2025-07-30T21:51:12.954375",
     "exception": false,
     "start_time": "2025-07-30T21:51:12.923276",
     "status": "completed"
    },
    "tags": []
   },
   "outputs": [],
   "source": [
    "# SPLIT & STRATIFY DATA\n",
    "# ----------------------"
   ]
  },
  {
   "cell_type": "code",
   "execution_count": 36,
   "id": "76c4dc6d",
   "metadata": {
    "execution": {
     "iopub.execute_input": "2025-07-30T21:51:12.992928Z",
     "iopub.status.busy": "2025-07-30T21:51:12.992527Z",
     "iopub.status.idle": "2025-07-30T21:51:12.998404Z",
     "shell.execute_reply": "2025-07-30T21:51:12.997137Z"
    },
    "papermill": {
     "duration": 0.025638,
     "end_time": "2025-07-30T21:51:12.999878",
     "exception": false,
     "start_time": "2025-07-30T21:51:12.974240",
     "status": "completed"
    },
    "tags": []
   },
   "outputs": [],
   "source": [
    "# EXCLUDE CERTAIN SUBGROUPS\n",
    "# ----------------------\n",
    "\n",
    "mode = universe.get(\"exclude_subgroups\", \"keep-all\") \n",
    "# Fetches the exclude_subgroups setting from the universe dict.\n",
    "# Defaults to \"keep-all\" if the key is missing."
   ]
  },
  {
   "cell_type": "code",
   "execution_count": 37,
   "id": "21994072",
   "metadata": {
    "execution": {
     "iopub.execute_input": "2025-07-30T21:51:13.030694Z",
     "iopub.status.busy": "2025-07-30T21:51:13.030268Z",
     "iopub.status.idle": "2025-07-30T21:51:13.036527Z",
     "shell.execute_reply": "2025-07-30T21:51:13.035286Z"
    },
    "papermill": {
     "duration": 0.022914,
     "end_time": "2025-07-30T21:51:13.037974",
     "exception": false,
     "start_time": "2025-07-30T21:51:13.015060",
     "status": "completed"
    },
    "tags": []
   },
   "outputs": [],
   "source": [
    "if mode == \"keep-all\":\n",
    "    keep_mask = pd.Series(True, index=org_train.index)\n",
    "\n",
    "# org_train contains the original feature columns from features_org (in Simson)\n",
    "# features_org contains unprocessed features, for me X_train at beginning ???\n",
    "# For keep-all, creates a boolean Series (keep_mask) of all True, so no rows are removed.\n",
    "\n",
    "elif mode == \"drop-non-german\":\n",
    "    keep_mask = org_train[\"maxdeutsch1\"] == 1 # ??? what about missing values?\n",
    "\n",
    "else:\n",
    "    raise ValueError(f\"Unsupported mode for exclude_subgroups: {mode}\")\n"
   ]
  },
  {
   "cell_type": "code",
   "execution_count": 38,
   "id": "71651440",
   "metadata": {
    "execution": {
     "iopub.execute_input": "2025-07-30T21:51:13.065227Z",
     "iopub.status.busy": "2025-07-30T21:51:13.064883Z",
     "iopub.status.idle": "2025-07-30T21:51:13.070259Z",
     "shell.execute_reply": "2025-07-30T21:51:13.069579Z"
    },
    "papermill": {
     "duration": 0.019984,
     "end_time": "2025-07-30T21:51:13.071775",
     "exception": false,
     "start_time": "2025-07-30T21:51:13.051791",
     "status": "completed"
    },
    "tags": []
   },
   "outputs": [
    {
     "name": "stdout",
     "output_type": "stream",
     "text": [
      "Dropping 131 rows (13.10%) where mode='drop-non-german'\n"
     ]
    }
   ],
   "source": [
    "n_drop = (~keep_mask).sum() # Calculates how many rows are set to be dropped\n",
    "if n_drop > 0:\n",
    "    pct = n_drop / len(keep_mask) * 100\n",
    "    print(f\"Dropping {n_drop} rows ({pct:.2f}%) where mode='{mode}'\")"
   ]
  },
  {
   "cell_type": "code",
   "execution_count": 39,
   "id": "5fb8eee5",
   "metadata": {
    "execution": {
     "iopub.execute_input": "2025-07-30T21:51:13.143327Z",
     "iopub.status.busy": "2025-07-30T21:51:13.142933Z",
     "iopub.status.idle": "2025-07-30T21:51:13.152767Z",
     "shell.execute_reply": "2025-07-30T21:51:13.151838Z"
    },
    "papermill": {
     "duration": 0.050184,
     "end_time": "2025-07-30T21:51:13.155885",
     "exception": false,
     "start_time": "2025-07-30T21:51:13.105701",
     "status": "completed"
    },
    "tags": []
   },
   "outputs": [],
   "source": [
    "X_train = X_train[keep_mask]"
   ]
  },
  {
   "cell_type": "code",
   "execution_count": 40,
   "id": "b202bb3a",
   "metadata": {
    "execution": {
     "iopub.execute_input": "2025-07-30T21:51:13.264413Z",
     "iopub.status.busy": "2025-07-30T21:51:13.263952Z",
     "iopub.status.idle": "2025-07-30T21:51:13.270287Z",
     "shell.execute_reply": "2025-07-30T21:51:13.269248Z"
    },
    "papermill": {
     "duration": 0.052879,
     "end_time": "2025-07-30T21:51:13.273526",
     "exception": false,
     "start_time": "2025-07-30T21:51:13.220647",
     "status": "completed"
    },
    "tags": []
   },
   "outputs": [],
   "source": [
    "y_train = y_train[keep_mask]"
   ]
  },
  {
   "cell_type": "markdown",
   "id": "493e2ac3",
   "metadata": {
    "papermill": {
     "duration": 0.056186,
     "end_time": "2025-07-30T21:51:13.396803",
     "exception": false,
     "start_time": "2025-07-30T21:51:13.340617",
     "status": "completed"
    },
    "tags": []
   },
   "source": [
    "# Model Training"
   ]
  },
  {
   "cell_type": "code",
   "execution_count": 41,
   "id": "679e1268",
   "metadata": {
    "execution": {
     "iopub.execute_input": "2025-07-30T21:51:13.497015Z",
     "iopub.status.busy": "2025-07-30T21:51:13.496516Z",
     "iopub.status.idle": "2025-07-30T21:51:13.855088Z",
     "shell.execute_reply": "2025-07-30T21:51:13.854001Z"
    },
    "papermill": {
     "duration": 0.437955,
     "end_time": "2025-07-30T21:51:13.857278",
     "exception": false,
     "start_time": "2025-07-30T21:51:13.419323",
     "status": "completed"
    },
    "tags": []
   },
   "outputs": [],
   "source": [
    "from sklearn.linear_model import LogisticRegression\n",
    "from sklearn.ensemble import GradientBoostingClassifier, RandomForestClassifier\n",
    "\n",
    "if (universe[\"model\"] == \"logreg\"):\n",
    "    model = LogisticRegression() #penalty=\"none\") #, solver=\"newton-cg\", max_iter=1) # include random_state=19 ?\n",
    "elif (universe[\"model\"] == \"penalized_logreg\"):\n",
    "    model = LogisticRegression(penalty=\"l2\", C=1.0) #, solver=\"newton-cg\", max_iter=1)\n",
    "elif (universe[\"model\"] == \"rf\"):\n",
    "    model = RandomForestClassifier(n_estimators=100, n_jobs=-1)\n",
    "elif (universe[\"model\"] == \"gbm\"):\n",
    "    model = GradientBoostingClassifier()\n",
    "elif (universe[\"model\"] == \"elasticnet\"):\n",
    "    model = LogisticRegression(penalty = 'elasticnet', solver = 'saga', l1_ratio = 0.5, max_iter=5000) # which solver to use?\n",
    "else:\n",
    "    raise \"Unsupported universe.model\""
   ]
  },
  {
   "cell_type": "code",
   "execution_count": 42,
   "id": "0cc8f744",
   "metadata": {
    "execution": {
     "iopub.execute_input": "2025-07-30T21:51:13.936100Z",
     "iopub.status.busy": "2025-07-30T21:51:13.935418Z",
     "iopub.status.idle": "2025-07-30T21:51:13.942456Z",
     "shell.execute_reply": "2025-07-30T21:51:13.941529Z"
    },
    "papermill": {
     "duration": 0.038758,
     "end_time": "2025-07-30T21:51:13.944132",
     "exception": false,
     "start_time": "2025-07-30T21:51:13.905374",
     "status": "completed"
    },
    "tags": []
   },
   "outputs": [],
   "source": [
    "import numpy as np\n",
    "from sklearn.pipeline import Pipeline\n",
    "from sklearn.preprocessing import StandardScaler\n",
    "\n",
    "model = Pipeline([\n",
    "    #(\"continuous_processor\", continuous_processor),\n",
    "    #(\"categorical_preprocessor\", categorical_preprocessor),\n",
    "    (\"scale\", StandardScaler() if universe[\"scale\"] == \"scale\" else None), \n",
    "    (\"model\", model),\n",
    "])"
   ]
  },
  {
   "cell_type": "code",
   "execution_count": 43,
   "id": "9442c04d",
   "metadata": {
    "execution": {
     "iopub.execute_input": "2025-07-30T21:51:14.005512Z",
     "iopub.status.busy": "2025-07-30T21:51:14.004752Z",
     "iopub.status.idle": "2025-07-30T21:51:14.533388Z",
     "shell.execute_reply": "2025-07-30T21:51:14.532391Z"
    },
    "papermill": {
     "duration": 0.561742,
     "end_time": "2025-07-30T21:51:14.535207",
     "exception": false,
     "start_time": "2025-07-30T21:51:13.973465",
     "status": "completed"
    },
    "tags": []
   },
   "outputs": [
    {
     "data": {
      "text/html": [
       "<style>#sk-container-id-1 {color: black;background-color: white;}#sk-container-id-1 pre{padding: 0;}#sk-container-id-1 div.sk-toggleable {background-color: white;}#sk-container-id-1 label.sk-toggleable__label {cursor: pointer;display: block;width: 100%;margin-bottom: 0;padding: 0.3em;box-sizing: border-box;text-align: center;}#sk-container-id-1 label.sk-toggleable__label-arrow:before {content: \"▸\";float: left;margin-right: 0.25em;color: #696969;}#sk-container-id-1 label.sk-toggleable__label-arrow:hover:before {color: black;}#sk-container-id-1 div.sk-estimator:hover label.sk-toggleable__label-arrow:before {color: black;}#sk-container-id-1 div.sk-toggleable__content {max-height: 0;max-width: 0;overflow: hidden;text-align: left;background-color: #f0f8ff;}#sk-container-id-1 div.sk-toggleable__content pre {margin: 0.2em;color: black;border-radius: 0.25em;background-color: #f0f8ff;}#sk-container-id-1 input.sk-toggleable__control:checked~div.sk-toggleable__content {max-height: 200px;max-width: 100%;overflow: auto;}#sk-container-id-1 input.sk-toggleable__control:checked~label.sk-toggleable__label-arrow:before {content: \"▾\";}#sk-container-id-1 div.sk-estimator input.sk-toggleable__control:checked~label.sk-toggleable__label {background-color: #d4ebff;}#sk-container-id-1 div.sk-label input.sk-toggleable__control:checked~label.sk-toggleable__label {background-color: #d4ebff;}#sk-container-id-1 input.sk-hidden--visually {border: 0;clip: rect(1px 1px 1px 1px);clip: rect(1px, 1px, 1px, 1px);height: 1px;margin: -1px;overflow: hidden;padding: 0;position: absolute;width: 1px;}#sk-container-id-1 div.sk-estimator {font-family: monospace;background-color: #f0f8ff;border: 1px dotted black;border-radius: 0.25em;box-sizing: border-box;margin-bottom: 0.5em;}#sk-container-id-1 div.sk-estimator:hover {background-color: #d4ebff;}#sk-container-id-1 div.sk-parallel-item::after {content: \"\";width: 100%;border-bottom: 1px solid gray;flex-grow: 1;}#sk-container-id-1 div.sk-label:hover label.sk-toggleable__label {background-color: #d4ebff;}#sk-container-id-1 div.sk-serial::before {content: \"\";position: absolute;border-left: 1px solid gray;box-sizing: border-box;top: 0;bottom: 0;left: 50%;z-index: 0;}#sk-container-id-1 div.sk-serial {display: flex;flex-direction: column;align-items: center;background-color: white;padding-right: 0.2em;padding-left: 0.2em;position: relative;}#sk-container-id-1 div.sk-item {position: relative;z-index: 1;}#sk-container-id-1 div.sk-parallel {display: flex;align-items: stretch;justify-content: center;background-color: white;position: relative;}#sk-container-id-1 div.sk-item::before, #sk-container-id-1 div.sk-parallel-item::before {content: \"\";position: absolute;border-left: 1px solid gray;box-sizing: border-box;top: 0;bottom: 0;left: 50%;z-index: -1;}#sk-container-id-1 div.sk-parallel-item {display: flex;flex-direction: column;z-index: 1;position: relative;background-color: white;}#sk-container-id-1 div.sk-parallel-item:first-child::after {align-self: flex-end;width: 50%;}#sk-container-id-1 div.sk-parallel-item:last-child::after {align-self: flex-start;width: 50%;}#sk-container-id-1 div.sk-parallel-item:only-child::after {width: 0;}#sk-container-id-1 div.sk-dashed-wrapped {border: 1px dashed gray;margin: 0 0.4em 0.5em 0.4em;box-sizing: border-box;padding-bottom: 0.4em;background-color: white;}#sk-container-id-1 div.sk-label label {font-family: monospace;font-weight: bold;display: inline-block;line-height: 1.2em;}#sk-container-id-1 div.sk-label-container {text-align: center;}#sk-container-id-1 div.sk-container {/* jupyter's `normalize.less` sets `[hidden] { display: none; }` but bootstrap.min.css set `[hidden] { display: none !important; }` so we also need the `!important` here to be able to override the default hidden behavior on the sphinx rendered scikit-learn.org. See: https://github.com/scikit-learn/scikit-learn/issues/21755 */display: inline-block !important;position: relative;}#sk-container-id-1 div.sk-text-repr-fallback {display: none;}</style><div id=\"sk-container-id-1\" class=\"sk-top-container\"><div class=\"sk-text-repr-fallback\"><pre>Pipeline(steps=[(&#x27;scale&#x27;, None), (&#x27;model&#x27;, RandomForestClassifier(n_jobs=-1))])</pre><b>In a Jupyter environment, please rerun this cell to show the HTML representation or trust the notebook. <br />On GitHub, the HTML representation is unable to render, please try loading this page with nbviewer.org.</b></div><div class=\"sk-container\" hidden><div class=\"sk-item sk-dashed-wrapped\"><div class=\"sk-label-container\"><div class=\"sk-label sk-toggleable\"><input class=\"sk-toggleable__control sk-hidden--visually\" id=\"sk-estimator-id-1\" type=\"checkbox\" ><label for=\"sk-estimator-id-1\" class=\"sk-toggleable__label sk-toggleable__label-arrow\">Pipeline</label><div class=\"sk-toggleable__content\"><pre>Pipeline(steps=[(&#x27;scale&#x27;, None), (&#x27;model&#x27;, RandomForestClassifier(n_jobs=-1))])</pre></div></div></div><div class=\"sk-serial\"><div class=\"sk-item\"><div class=\"sk-estimator sk-toggleable\"><input class=\"sk-toggleable__control sk-hidden--visually\" id=\"sk-estimator-id-2\" type=\"checkbox\" ><label for=\"sk-estimator-id-2\" class=\"sk-toggleable__label sk-toggleable__label-arrow\">None</label><div class=\"sk-toggleable__content\"><pre>None</pre></div></div></div><div class=\"sk-item\"><div class=\"sk-estimator sk-toggleable\"><input class=\"sk-toggleable__control sk-hidden--visually\" id=\"sk-estimator-id-3\" type=\"checkbox\" ><label for=\"sk-estimator-id-3\" class=\"sk-toggleable__label sk-toggleable__label-arrow\">RandomForestClassifier</label><div class=\"sk-toggleable__content\"><pre>RandomForestClassifier(n_jobs=-1)</pre></div></div></div></div></div></div></div>"
      ],
      "text/plain": [
       "Pipeline(steps=[('scale', None), ('model', RandomForestClassifier(n_jobs=-1))])"
      ]
     },
     "execution_count": 43,
     "metadata": {},
     "output_type": "execute_result"
    }
   ],
   "source": [
    "model.fit(X_train, y_train.values.ravel())"
   ]
  },
  {
   "cell_type": "code",
   "execution_count": 44,
   "id": "af59f8c0",
   "metadata": {
    "execution": {
     "iopub.execute_input": "2025-07-30T21:51:14.648992Z",
     "iopub.status.busy": "2025-07-30T21:51:14.648591Z",
     "iopub.status.idle": "2025-07-30T21:51:14.656679Z",
     "shell.execute_reply": "2025-07-30T21:51:14.655486Z"
    },
    "papermill": {
     "duration": 0.073778,
     "end_time": "2025-07-30T21:51:14.659187",
     "exception": false,
     "start_time": "2025-07-30T21:51:14.585409",
     "status": "completed"
    },
    "tags": []
   },
   "outputs": [],
   "source": [
    "from fairness_multiverse.universe import predict_w_threshold"
   ]
  },
  {
   "cell_type": "code",
   "execution_count": 45,
   "id": "a7cf2e16",
   "metadata": {
    "execution": {
     "iopub.execute_input": "2025-07-30T21:51:14.722762Z",
     "iopub.status.busy": "2025-07-30T21:51:14.722259Z",
     "iopub.status.idle": "2025-07-30T21:51:15.666057Z",
     "shell.execute_reply": "2025-07-30T21:51:15.665110Z"
    },
    "papermill": {
     "duration": 0.975001,
     "end_time": "2025-07-30T21:51:15.667443",
     "exception": false,
     "start_time": "2025-07-30T21:51:14.692442",
     "status": "completed"
    },
    "tags": []
   },
   "outputs": [
    {
     "data": {
      "text/plain": [
       "0.8588563147921079"
      ]
     },
     "execution_count": 45,
     "metadata": {},
     "output_type": "execute_result"
    }
   ],
   "source": [
    "probs_test = model.predict_proba(X_test)\n",
    "\n",
    "'''\n",
    "Below code returns a boolean array (or binary 0/1 array depending on how it’s used) where each element \n",
    "is True if the probability of class 1 is greater than or equal to the threshold, and False otherwise.\n",
    "'''\n",
    "y_pred_default = predict_w_threshold(probs_test, 0.5)\n",
    "\n",
    "from sklearn.metrics import accuracy_score\n",
    "\n",
    "# Naive prediction\n",
    "accuracy_score(y_true = y_true, y_pred = y_pred_default)"
   ]
  },
  {
   "cell_type": "code",
   "execution_count": 46,
   "id": "081964c3",
   "metadata": {
    "execution": {
     "iopub.execute_input": "2025-07-30T21:51:15.716008Z",
     "iopub.status.busy": "2025-07-30T21:51:15.715598Z",
     "iopub.status.idle": "2025-07-30T21:51:16.544384Z",
     "shell.execute_reply": "2025-07-30T21:51:16.543325Z"
    },
    "papermill": {
     "duration": 0.856776,
     "end_time": "2025-07-30T21:51:16.546139",
     "exception": false,
     "start_time": "2025-07-30T21:51:15.689363",
     "status": "completed"
    },
    "tags": []
   },
   "outputs": [
    {
     "data": {
      "text/plain": [
       "array([0, 0, 0, ..., 0, 0, 0])"
      ]
     },
     "execution_count": 46,
     "metadata": {},
     "output_type": "execute_result"
    }
   ],
   "source": [
    "model.predict(X_test)"
   ]
  },
  {
   "cell_type": "markdown",
   "id": "56c9705b",
   "metadata": {
    "papermill": {
     "duration": 0.038111,
     "end_time": "2025-07-30T21:51:16.610790",
     "exception": false,
     "start_time": "2025-07-30T21:51:16.572679",
     "status": "completed"
    },
    "tags": []
   },
   "source": [
    "# Conformal Prediction"
   ]
  },
  {
   "cell_type": "code",
   "execution_count": 47,
   "id": "160ec6ff",
   "metadata": {
    "execution": {
     "iopub.execute_input": "2025-07-30T21:51:16.737919Z",
     "iopub.status.busy": "2025-07-30T21:51:16.737512Z",
     "iopub.status.idle": "2025-07-30T21:51:16.743342Z",
     "shell.execute_reply": "2025-07-30T21:51:16.742451Z"
    },
    "papermill": {
     "duration": 0.056918,
     "end_time": "2025-07-30T21:51:16.758404",
     "exception": false,
     "start_time": "2025-07-30T21:51:16.701486",
     "status": "completed"
    },
    "tags": []
   },
   "outputs": [],
   "source": [
    "# Miscoverage level for conformal prediction (10% allowed error rate => 90% target coverage)\n",
    "alpha = 0.1"
   ]
  },
  {
   "cell_type": "code",
   "execution_count": 48,
   "id": "eadf4555-3dd3-440e-8e35-f82a4ad9f855",
   "metadata": {
    "execution": {
     "iopub.execute_input": "2025-07-30T21:51:16.829196Z",
     "iopub.status.busy": "2025-07-30T21:51:16.828806Z",
     "iopub.status.idle": "2025-07-30T21:51:17.586672Z",
     "shell.execute_reply": "2025-07-30T21:51:17.585931Z"
    },
    "papermill": {
     "duration": 0.791485,
     "end_time": "2025-07-30T21:51:17.588525",
     "exception": false,
     "start_time": "2025-07-30T21:51:16.797040",
     "status": "completed"
    },
    "tags": []
   },
   "outputs": [],
   "source": [
    "probs_calib = model.predict_proba(X_calib)"
   ]
  },
  {
   "cell_type": "code",
   "execution_count": 49,
   "id": "2ed93547-6d5d-4983-9b36-1ecb300da49a",
   "metadata": {
    "execution": {
     "iopub.execute_input": "2025-07-30T21:51:17.633504Z",
     "iopub.status.busy": "2025-07-30T21:51:17.633191Z",
     "iopub.status.idle": "2025-07-30T21:51:17.638224Z",
     "shell.execute_reply": "2025-07-30T21:51:17.637432Z"
    },
    "papermill": {
     "duration": 0.019588,
     "end_time": "2025-07-30T21:51:17.639541",
     "exception": false,
     "start_time": "2025-07-30T21:51:17.619953",
     "status": "completed"
    },
    "tags": []
   },
   "outputs": [],
   "source": [
    "y_calib = y_calib.values.ravel().astype(int)"
   ]
  },
  {
   "cell_type": "code",
   "execution_count": 50,
   "id": "65d1320d-f588-4b38-9072-62af1ae97f7d",
   "metadata": {
    "execution": {
     "iopub.execute_input": "2025-07-30T21:51:17.665214Z",
     "iopub.status.busy": "2025-07-30T21:51:17.664638Z",
     "iopub.status.idle": "2025-07-30T21:51:17.670120Z",
     "shell.execute_reply": "2025-07-30T21:51:17.669451Z"
    },
    "papermill": {
     "duration": 0.019272,
     "end_time": "2025-07-30T21:51:17.671328",
     "exception": false,
     "start_time": "2025-07-30T21:51:17.652056",
     "status": "completed"
    },
    "tags": []
   },
   "outputs": [],
   "source": [
    "from fairness_multiverse.conformal import compute_nc_scores\n",
    "\n",
    "# Compute nonconformity scores on calibration set (1 - probability of true class)\n",
    "nc_scores = compute_nc_scores(probs_calib, y_calib)"
   ]
  },
  {
   "cell_type": "code",
   "execution_count": 51,
   "id": "df3b8ca3-53b7-43d5-9667-7c85da7aeda2",
   "metadata": {
    "execution": {
     "iopub.execute_input": "2025-07-30T21:51:17.696705Z",
     "iopub.status.busy": "2025-07-30T21:51:17.696203Z",
     "iopub.status.idle": "2025-07-30T21:51:17.702030Z",
     "shell.execute_reply": "2025-07-30T21:51:17.701332Z"
    },
    "papermill": {
     "duration": 0.019611,
     "end_time": "2025-07-30T21:51:17.703222",
     "exception": false,
     "start_time": "2025-07-30T21:51:17.683611",
     "status": "completed"
    },
    "tags": []
   },
   "outputs": [],
   "source": [
    "from fairness_multiverse.conformal import find_threshold\n",
    "\n",
    "# Find conformal threshold q_hat for the given alpha (split conformal method)\n",
    "q_hat = find_threshold(nc_scores, alpha)"
   ]
  },
  {
   "cell_type": "code",
   "execution_count": 52,
   "id": "4d29e6c1-0ef6-4aa4-b8fe-4fe79b0d033a",
   "metadata": {
    "execution": {
     "iopub.execute_input": "2025-07-30T21:51:17.728917Z",
     "iopub.status.busy": "2025-07-30T21:51:17.728702Z",
     "iopub.status.idle": "2025-07-30T21:51:17.734271Z",
     "shell.execute_reply": "2025-07-30T21:51:17.733557Z"
    },
    "papermill": {
     "duration": 0.019423,
     "end_time": "2025-07-30T21:51:17.735447",
     "exception": false,
     "start_time": "2025-07-30T21:51:17.716024",
     "status": "completed"
    },
    "tags": []
   },
   "outputs": [
    {
     "data": {
      "text/plain": [
       "0.65"
      ]
     },
     "execution_count": 52,
     "metadata": {},
     "output_type": "execute_result"
    }
   ],
   "source": [
    "q_hat"
   ]
  },
  {
   "cell_type": "code",
   "execution_count": 53,
   "id": "92460794-cdac-4be2-ba28-f28c0515a6fb",
   "metadata": {
    "execution": {
     "iopub.execute_input": "2025-07-30T21:51:17.766436Z",
     "iopub.status.busy": "2025-07-30T21:51:17.765834Z",
     "iopub.status.idle": "2025-07-30T21:51:19.243166Z",
     "shell.execute_reply": "2025-07-30T21:51:19.242126Z"
    },
    "papermill": {
     "duration": 1.496483,
     "end_time": "2025-07-30T21:51:19.244931",
     "exception": false,
     "start_time": "2025-07-30T21:51:17.748448",
     "status": "completed"
    },
    "tags": []
   },
   "outputs": [],
   "source": [
    "from fairness_multiverse.conformal import predict_conformal_sets\n",
    "\n",
    "# Generate prediction sets for each test example\n",
    "pred_sets = predict_conformal_sets(model, X_test, q_hat)"
   ]
  },
  {
   "cell_type": "code",
   "execution_count": 54,
   "id": "d90c9a65-e6db-4f5d-80cd-e68fb7e46829",
   "metadata": {
    "execution": {
     "iopub.execute_input": "2025-07-30T21:51:19.293549Z",
     "iopub.status.busy": "2025-07-30T21:51:19.293064Z",
     "iopub.status.idle": "2025-07-30T21:51:19.298706Z",
     "shell.execute_reply": "2025-07-30T21:51:19.297798Z"
    },
    "papermill": {
     "duration": 0.030683,
     "end_time": "2025-07-30T21:51:19.300243",
     "exception": false,
     "start_time": "2025-07-30T21:51:19.269560",
     "status": "completed"
    },
    "tags": []
   },
   "outputs": [],
   "source": [
    "y_true = y_true.squeeze()"
   ]
  },
  {
   "cell_type": "code",
   "execution_count": 55,
   "id": "3a58a54a-1e68-46b9-927a-df01f18aebc8",
   "metadata": {
    "execution": {
     "iopub.execute_input": "2025-07-30T21:51:19.350107Z",
     "iopub.status.busy": "2025-07-30T21:51:19.349262Z",
     "iopub.status.idle": "2025-07-30T21:51:19.948927Z",
     "shell.execute_reply": "2025-07-30T21:51:19.948180Z"
    },
    "papermill": {
     "duration": 0.626475,
     "end_time": "2025-07-30T21:51:19.950673",
     "exception": false,
     "start_time": "2025-07-30T21:51:19.324198",
     "status": "completed"
    },
    "tags": []
   },
   "outputs": [],
   "source": [
    "from fairness_multiverse.conformal import evaluate_sets\n",
    "\n",
    "# Evaluate coverage and average set size on test data\n",
    "metrics = evaluate_sets(pred_sets, y_true)"
   ]
  },
  {
   "cell_type": "markdown",
   "id": "2b569c12-9aaa-4c88-98c9-bbcd0cf3ebb8",
   "metadata": {
    "papermill": {
     "duration": 0.02272,
     "end_time": "2025-07-30T21:51:20.007266",
     "exception": false,
     "start_time": "2025-07-30T21:51:19.984546",
     "status": "completed"
    },
    "tags": []
   },
   "source": [
    "# CP Metrics"
   ]
  },
  {
   "cell_type": "code",
   "execution_count": 56,
   "id": "5ce0a5cb-201f-45a0-ade5-94c7f0bd6095",
   "metadata": {
    "execution": {
     "iopub.execute_input": "2025-07-30T21:51:20.053748Z",
     "iopub.status.busy": "2025-07-30T21:51:20.053264Z",
     "iopub.status.idle": "2025-07-30T21:51:20.060748Z",
     "shell.execute_reply": "2025-07-30T21:51:20.059798Z"
    },
    "papermill": {
     "duration": 0.032227,
     "end_time": "2025-07-30T21:51:20.062265",
     "exception": false,
     "start_time": "2025-07-30T21:51:20.030038",
     "status": "completed"
    },
    "tags": []
   },
   "outputs": [
    {
     "data": {
      "text/plain": [
       "{'coverage': 0.9133318470627578, 'avg_size': 1.1544197971240664}"
      ]
     },
     "execution_count": 56,
     "metadata": {},
     "output_type": "execute_result"
    }
   ],
   "source": [
    "metrics"
   ]
  },
  {
   "cell_type": "code",
   "execution_count": 57,
   "id": "9b9a838d-31c9-430b-ae14-12baee460d17",
   "metadata": {
    "execution": {
     "iopub.execute_input": "2025-07-30T21:51:20.109285Z",
     "iopub.status.busy": "2025-07-30T21:51:20.108623Z",
     "iopub.status.idle": "2025-07-30T21:51:20.114744Z",
     "shell.execute_reply": "2025-07-30T21:51:20.113896Z"
    },
    "papermill": {
     "duration": 0.031025,
     "end_time": "2025-07-30T21:51:20.116257",
     "exception": false,
     "start_time": "2025-07-30T21:51:20.085232",
     "status": "completed"
    },
    "tags": []
   },
   "outputs": [],
   "source": [
    "example_universe = universe.copy()\n",
    "universe_training_year = example_universe.get(\"training_year\")\n",
    "universe_training_size = example_universe.get(\"training_size\")\n",
    "universe_scale = example_universe.get(\"scale\")\n",
    "universe_model = example_universe.get(\"model\")\n",
    "universe_exclude_features = example_universe.get(\"exclude_features\")\n",
    "universe_exclude_subgroups = example_universe.get(\"exclude_subgroups\")"
   ]
  },
  {
   "cell_type": "code",
   "execution_count": 58,
   "id": "f4b6a8ac-9dc0-4245-8a91-5b3b5999c4f9",
   "metadata": {
    "execution": {
     "iopub.execute_input": "2025-07-30T21:51:20.164978Z",
     "iopub.status.busy": "2025-07-30T21:51:20.164256Z",
     "iopub.status.idle": "2025-07-30T21:51:20.170896Z",
     "shell.execute_reply": "2025-07-30T21:51:20.170013Z"
    },
    "papermill": {
     "duration": 0.031458,
     "end_time": "2025-07-30T21:51:20.172581",
     "exception": false,
     "start_time": "2025-07-30T21:51:20.141123",
     "status": "completed"
    },
    "tags": []
   },
   "outputs": [],
   "source": [
    "cp_metrics_dict = {\n",
    "    \"universe_id\": [universe_id],\n",
    "    \"universe_training_year\": [universe_training_year],\n",
    "    \"universe_training_size\": [universe_training_size],\n",
    "    \"universe_scale\": [universe_scale],\n",
    "    \"universe_model\": [universe_model],\n",
    "    \"universe_exclude_features\": [universe_exclude_features],\n",
    "    \"universe_exclude_subgroups\": [universe_exclude_subgroups],\n",
    "    \"q_hat\": [q_hat],\n",
    "    \"coverage\": [metrics[\"coverage\"]],\n",
    "    \"avg_size\": [metrics[\"avg_size\"]],\n",
    "}"
   ]
  },
  {
   "cell_type": "code",
   "execution_count": 59,
   "id": "908acbb1-0371-4915-85ca-3fa520d2efe2",
   "metadata": {
    "execution": {
     "iopub.execute_input": "2025-07-30T21:51:20.222152Z",
     "iopub.status.busy": "2025-07-30T21:51:20.221251Z",
     "iopub.status.idle": "2025-07-30T21:51:20.230457Z",
     "shell.execute_reply": "2025-07-30T21:51:20.229063Z"
    },
    "papermill": {
     "duration": 0.035375,
     "end_time": "2025-07-30T21:51:20.232424",
     "exception": false,
     "start_time": "2025-07-30T21:51:20.197049",
     "status": "completed"
    },
    "tags": []
   },
   "outputs": [
    {
     "data": {
      "text/plain": [
       "{'universe_id': ['b2c86770ebf27c061755a5046af1f4f4'],\n",
       " 'universe_training_year': ['2010_14'],\n",
       " 'universe_training_size': ['1k'],\n",
       " 'universe_scale': ['do-not-scale'],\n",
       " 'universe_model': ['rf'],\n",
       " 'universe_exclude_features': ['nationality'],\n",
       " 'universe_exclude_subgroups': ['drop-non-german'],\n",
       " 'q_hat': [0.65],\n",
       " 'coverage': [0.9133318470627578],\n",
       " 'avg_size': [1.1544197971240664]}"
      ]
     },
     "execution_count": 59,
     "metadata": {},
     "output_type": "execute_result"
    }
   ],
   "source": [
    "cp_metrics_dict"
   ]
  },
  {
   "cell_type": "code",
   "execution_count": 60,
   "id": "33007efc-14e9-4ec6-97ac-56a455c82265",
   "metadata": {
    "execution": {
     "iopub.execute_input": "2025-07-30T21:51:20.291815Z",
     "iopub.status.busy": "2025-07-30T21:51:20.290915Z",
     "iopub.status.idle": "2025-07-30T21:51:20.297658Z",
     "shell.execute_reply": "2025-07-30T21:51:20.296747Z"
    },
    "papermill": {
     "duration": 0.03621,
     "end_time": "2025-07-30T21:51:20.299186",
     "exception": false,
     "start_time": "2025-07-30T21:51:20.262976",
     "status": "completed"
    },
    "tags": []
   },
   "outputs": [],
   "source": [
    "cp_metrics_df = pd.DataFrame(cp_metrics_dict)"
   ]
  },
  {
   "cell_type": "code",
   "execution_count": 61,
   "id": "db12611b-57b2-4910-b9d0-355adfd6e7bf",
   "metadata": {
    "execution": {
     "iopub.execute_input": "2025-07-30T21:51:20.346819Z",
     "iopub.status.busy": "2025-07-30T21:51:20.346167Z",
     "iopub.status.idle": "2025-07-30T21:51:20.365105Z",
     "shell.execute_reply": "2025-07-30T21:51:20.364219Z"
    },
    "papermill": {
     "duration": 0.043915,
     "end_time": "2025-07-30T21:51:20.366559",
     "exception": false,
     "start_time": "2025-07-30T21:51:20.322644",
     "status": "completed"
    },
    "tags": []
   },
   "outputs": [
    {
     "data": {
      "text/html": [
       "<div>\n",
       "<style scoped>\n",
       "    .dataframe tbody tr th:only-of-type {\n",
       "        vertical-align: middle;\n",
       "    }\n",
       "\n",
       "    .dataframe tbody tr th {\n",
       "        vertical-align: top;\n",
       "    }\n",
       "\n",
       "    .dataframe thead th {\n",
       "        text-align: right;\n",
       "    }\n",
       "</style>\n",
       "<table border=\"1\" class=\"dataframe\">\n",
       "  <thead>\n",
       "    <tr style=\"text-align: right;\">\n",
       "      <th></th>\n",
       "      <th>universe_id</th>\n",
       "      <th>universe_training_year</th>\n",
       "      <th>universe_training_size</th>\n",
       "      <th>universe_scale</th>\n",
       "      <th>universe_model</th>\n",
       "      <th>universe_exclude_features</th>\n",
       "      <th>universe_exclude_subgroups</th>\n",
       "      <th>q_hat</th>\n",
       "      <th>coverage</th>\n",
       "      <th>avg_size</th>\n",
       "    </tr>\n",
       "  </thead>\n",
       "  <tbody>\n",
       "    <tr>\n",
       "      <th>0</th>\n",
       "      <td>b2c86770ebf27c061755a5046af1f4f4</td>\n",
       "      <td>2010_14</td>\n",
       "      <td>1k</td>\n",
       "      <td>do-not-scale</td>\n",
       "      <td>rf</td>\n",
       "      <td>nationality</td>\n",
       "      <td>drop-non-german</td>\n",
       "      <td>0.65</td>\n",
       "      <td>0.913332</td>\n",
       "      <td>1.15442</td>\n",
       "    </tr>\n",
       "  </tbody>\n",
       "</table>\n",
       "</div>"
      ],
      "text/plain": [
       "                        universe_id universe_training_year  \\\n",
       "0  b2c86770ebf27c061755a5046af1f4f4                2010_14   \n",
       "\n",
       "  universe_training_size universe_scale universe_model  \\\n",
       "0                     1k   do-not-scale             rf   \n",
       "\n",
       "  universe_exclude_features universe_exclude_subgroups  q_hat  coverage  \\\n",
       "0               nationality            drop-non-german   0.65  0.913332   \n",
       "\n",
       "   avg_size  \n",
       "0   1.15442  "
      ]
     },
     "execution_count": 61,
     "metadata": {},
     "output_type": "execute_result"
    }
   ],
   "source": [
    "cp_metrics_df"
   ]
  },
  {
   "cell_type": "code",
   "execution_count": 62,
   "id": "b7fbde55-a0a1-47e4-9af6-fe4a17fa8c61",
   "metadata": {
    "execution": {
     "iopub.execute_input": "2025-07-30T21:51:20.415914Z",
     "iopub.status.busy": "2025-07-30T21:51:20.415197Z",
     "iopub.status.idle": "2025-07-30T21:51:20.420291Z",
     "shell.execute_reply": "2025-07-30T21:51:20.419320Z"
    },
    "papermill": {
     "duration": 0.031412,
     "end_time": "2025-07-30T21:51:20.421785",
     "exception": false,
     "start_time": "2025-07-30T21:51:20.390373",
     "status": "completed"
    },
    "tags": []
   },
   "outputs": [],
   "source": [
    "# Conditional Coverage & looking at subgroups"
   ]
  },
  {
   "cell_type": "code",
   "execution_count": 63,
   "id": "027ae886-68dd-4141-96c7-805a5450e1ef",
   "metadata": {
    "execution": {
     "iopub.execute_input": "2025-07-30T21:51:20.470192Z",
     "iopub.status.busy": "2025-07-30T21:51:20.469515Z",
     "iopub.status.idle": "2025-07-30T21:51:20.736234Z",
     "shell.execute_reply": "2025-07-30T21:51:20.735284Z"
    },
    "papermill": {
     "duration": 0.292758,
     "end_time": "2025-07-30T21:51:20.738041",
     "exception": false,
     "start_time": "2025-07-30T21:51:20.445283",
     "status": "completed"
    },
    "tags": []
   },
   "outputs": [],
   "source": [
    "from fairness_multiverse.conformal import build_cp_groups\n",
    "\n",
    "cp_groups_df = build_cp_groups(pred_sets, y_true, X_test.index, org_test)\n",
    "#needs universe_id and setting"
   ]
  },
  {
   "cell_type": "code",
   "execution_count": 64,
   "id": "01d5802c-663a-4d1f-9d69-e036faaffbf7",
   "metadata": {
    "execution": {
     "iopub.execute_input": "2025-07-30T21:51:20.795779Z",
     "iopub.status.busy": "2025-07-30T21:51:20.795319Z",
     "iopub.status.idle": "2025-07-30T21:51:20.799761Z",
     "shell.execute_reply": "2025-07-30T21:51:20.798838Z"
    },
    "papermill": {
     "duration": 0.031272,
     "end_time": "2025-07-30T21:51:20.801286",
     "exception": false,
     "start_time": "2025-07-30T21:51:20.770014",
     "status": "completed"
    },
    "tags": []
   },
   "outputs": [],
   "source": [
    "#delete\n",
    "#cp_groups_df"
   ]
  },
  {
   "cell_type": "code",
   "execution_count": 65,
   "id": "fa424af1-d1eb-443d-b717-2d279ada8408",
   "metadata": {
    "execution": {
     "iopub.execute_input": "2025-07-30T21:51:20.850682Z",
     "iopub.status.busy": "2025-07-30T21:51:20.849966Z",
     "iopub.status.idle": "2025-07-30T21:51:20.854780Z",
     "shell.execute_reply": "2025-07-30T21:51:20.853834Z"
    },
    "papermill": {
     "duration": 0.031694,
     "end_time": "2025-07-30T21:51:20.856267",
     "exception": false,
     "start_time": "2025-07-30T21:51:20.824573",
     "status": "completed"
    },
    "tags": []
   },
   "outputs": [],
   "source": [
    "#delete\n",
    "#percentage = (cp_groups_df['nongerman_female'] == 1).mean() * 100\n",
    "#print(percentage)\n"
   ]
  },
  {
   "cell_type": "code",
   "execution_count": 66,
   "id": "6cbdab96-b2b2-45af-ad54-d0516db2e28d",
   "metadata": {
    "execution": {
     "iopub.execute_input": "2025-07-30T21:51:20.904969Z",
     "iopub.status.busy": "2025-07-30T21:51:20.904592Z",
     "iopub.status.idle": "2025-07-30T21:51:22.268421Z",
     "shell.execute_reply": "2025-07-30T21:51:22.267617Z"
    },
    "papermill": {
     "duration": 1.390005,
     "end_time": "2025-07-30T21:51:22.269842",
     "exception": false,
     "start_time": "2025-07-30T21:51:20.879837",
     "status": "completed"
    },
    "tags": []
   },
   "outputs": [],
   "source": [
    "# Define covered = 1 if true_label is in the predicted set\n",
    "cp_groups_df['covered'] = cp_groups_df.apply(\n",
    "    lambda r: int(r['true_label'] in r['pred_set']),\n",
    "    axis=1\n",
    ")"
   ]
  },
  {
   "cell_type": "code",
   "execution_count": 67,
   "id": "338ff529-1a6b-4b87-a931-8e4788d52aad",
   "metadata": {
    "execution": {
     "iopub.execute_input": "2025-07-30T21:51:22.303432Z",
     "iopub.status.busy": "2025-07-30T21:51:22.302783Z",
     "iopub.status.idle": "2025-07-30T21:51:22.307921Z",
     "shell.execute_reply": "2025-07-30T21:51:22.306982Z"
    },
    "papermill": {
     "duration": 0.02419,
     "end_time": "2025-07-30T21:51:22.309867",
     "exception": false,
     "start_time": "2025-07-30T21:51:22.285677",
     "status": "completed"
    },
    "tags": []
   },
   "outputs": [],
   "source": [
    "#cp_groups_df"
   ]
  },
  {
   "cell_type": "code",
   "execution_count": 68,
   "id": "90032e27-66df-4540-9169-4e89cfbaa758",
   "metadata": {
    "execution": {
     "iopub.execute_input": "2025-07-30T21:51:22.341179Z",
     "iopub.status.busy": "2025-07-30T21:51:22.340844Z",
     "iopub.status.idle": "2025-07-30T21:51:22.350973Z",
     "shell.execute_reply": "2025-07-30T21:51:22.350051Z"
    },
    "papermill": {
     "duration": 0.026434,
     "end_time": "2025-07-30T21:51:22.352721",
     "exception": false,
     "start_time": "2025-07-30T21:51:22.326287",
     "status": "completed"
    },
    "tags": []
   },
   "outputs": [],
   "source": [
    "subgroups = ['frau1','nongerman','nongerman_male','nongerman_female']\n",
    "\n",
    "# Conditional coverage for subgroup==1\n",
    "cond_coverage = {\n",
    "    g: cp_groups_df.loc[cp_groups_df[g]==1, 'covered'].mean()\n",
    "    for g in subgroups\n",
    "}"
   ]
  },
  {
   "cell_type": "code",
   "execution_count": 69,
   "id": "1e348fb1-b9c3-45bc-ba23-f016827a7e0d",
   "metadata": {
    "execution": {
     "iopub.execute_input": "2025-07-30T21:51:22.408993Z",
     "iopub.status.busy": "2025-07-30T21:51:22.408653Z",
     "iopub.status.idle": "2025-07-30T21:51:22.414680Z",
     "shell.execute_reply": "2025-07-30T21:51:22.413762Z"
    },
    "papermill": {
     "duration": 0.035288,
     "end_time": "2025-07-30T21:51:22.416104",
     "exception": false,
     "start_time": "2025-07-30T21:51:22.380816",
     "status": "completed"
    },
    "tags": []
   },
   "outputs": [
    {
     "data": {
      "text/plain": [
       "{'frau1': 0.9104191939614503,\n",
       " 'nongerman': 0.9040588334362544,\n",
       " 'nongerman_male': 0.924795100423309,\n",
       " 'nongerman_female': 0.8697466467958271}"
      ]
     },
     "execution_count": 69,
     "metadata": {},
     "output_type": "execute_result"
    }
   ],
   "source": [
    "cond_coverage"
   ]
  },
  {
   "cell_type": "code",
   "execution_count": 70,
   "id": "f5093324-c3dd-4d63-bc4c-8d945e5c8bbb",
   "metadata": {
    "execution": {
     "iopub.execute_input": "2025-07-30T21:51:22.445134Z",
     "iopub.status.busy": "2025-07-30T21:51:22.444694Z",
     "iopub.status.idle": "2025-07-30T21:51:22.450558Z",
     "shell.execute_reply": "2025-07-30T21:51:22.449789Z"
    },
    "papermill": {
     "duration": 0.021169,
     "end_time": "2025-07-30T21:51:22.451913",
     "exception": false,
     "start_time": "2025-07-30T21:51:22.430744",
     "status": "completed"
    },
    "tags": []
   },
   "outputs": [],
   "source": [
    "for subgroup, cov in cond_coverage.items():\n",
    "    cp_metrics_df[f\"cov_{subgroup}\"] = cov"
   ]
  },
  {
   "cell_type": "code",
   "execution_count": 71,
   "id": "6e872e10-dbe5-49e8-b554-5030c98ff75d",
   "metadata": {
    "execution": {
     "iopub.execute_input": "2025-07-30T21:51:22.480763Z",
     "iopub.status.busy": "2025-07-30T21:51:22.480201Z",
     "iopub.status.idle": "2025-07-30T21:51:22.496812Z",
     "shell.execute_reply": "2025-07-30T21:51:22.495731Z"
    },
    "papermill": {
     "duration": 0.031951,
     "end_time": "2025-07-30T21:51:22.498244",
     "exception": false,
     "start_time": "2025-07-30T21:51:22.466293",
     "status": "completed"
    },
    "tags": []
   },
   "outputs": [
    {
     "data": {
      "text/html": [
       "<div>\n",
       "<style scoped>\n",
       "    .dataframe tbody tr th:only-of-type {\n",
       "        vertical-align: middle;\n",
       "    }\n",
       "\n",
       "    .dataframe tbody tr th {\n",
       "        vertical-align: top;\n",
       "    }\n",
       "\n",
       "    .dataframe thead th {\n",
       "        text-align: right;\n",
       "    }\n",
       "</style>\n",
       "<table border=\"1\" class=\"dataframe\">\n",
       "  <thead>\n",
       "    <tr style=\"text-align: right;\">\n",
       "      <th></th>\n",
       "      <th>universe_id</th>\n",
       "      <th>universe_training_year</th>\n",
       "      <th>universe_training_size</th>\n",
       "      <th>universe_scale</th>\n",
       "      <th>universe_model</th>\n",
       "      <th>universe_exclude_features</th>\n",
       "      <th>universe_exclude_subgroups</th>\n",
       "      <th>q_hat</th>\n",
       "      <th>coverage</th>\n",
       "      <th>avg_size</th>\n",
       "      <th>cov_frau1</th>\n",
       "      <th>cov_nongerman</th>\n",
       "      <th>cov_nongerman_male</th>\n",
       "      <th>cov_nongerman_female</th>\n",
       "    </tr>\n",
       "  </thead>\n",
       "  <tbody>\n",
       "    <tr>\n",
       "      <th>0</th>\n",
       "      <td>b2c86770ebf27c061755a5046af1f4f4</td>\n",
       "      <td>2010_14</td>\n",
       "      <td>1k</td>\n",
       "      <td>do-not-scale</td>\n",
       "      <td>rf</td>\n",
       "      <td>nationality</td>\n",
       "      <td>drop-non-german</td>\n",
       "      <td>0.65</td>\n",
       "      <td>0.913332</td>\n",
       "      <td>1.15442</td>\n",
       "      <td>0.910419</td>\n",
       "      <td>0.904059</td>\n",
       "      <td>0.924795</td>\n",
       "      <td>0.869747</td>\n",
       "    </tr>\n",
       "  </tbody>\n",
       "</table>\n",
       "</div>"
      ],
      "text/plain": [
       "                        universe_id universe_training_year  \\\n",
       "0  b2c86770ebf27c061755a5046af1f4f4                2010_14   \n",
       "\n",
       "  universe_training_size universe_scale universe_model  \\\n",
       "0                     1k   do-not-scale             rf   \n",
       "\n",
       "  universe_exclude_features universe_exclude_subgroups  q_hat  coverage  \\\n",
       "0               nationality            drop-non-german   0.65  0.913332   \n",
       "\n",
       "   avg_size  cov_frau1  cov_nongerman  cov_nongerman_male  \\\n",
       "0   1.15442   0.910419       0.904059            0.924795   \n",
       "\n",
       "   cov_nongerman_female  \n",
       "0              0.869747  "
      ]
     },
     "execution_count": 71,
     "metadata": {},
     "output_type": "execute_result"
    }
   ],
   "source": [
    "cp_metrics_df"
   ]
  },
  {
   "cell_type": "markdown",
   "id": "33774451",
   "metadata": {
    "papermill": {
     "duration": 0.013324,
     "end_time": "2025-07-30T21:51:22.526083",
     "exception": false,
     "start_time": "2025-07-30T21:51:22.512759",
     "status": "completed"
    },
    "tags": []
   },
   "source": [
    "# (Fairness) Metrics"
   ]
  },
  {
   "cell_type": "code",
   "execution_count": 72,
   "id": "debc5d62",
   "metadata": {
    "execution": {
     "iopub.execute_input": "2025-07-30T21:51:22.571641Z",
     "iopub.status.busy": "2025-07-30T21:51:22.571114Z",
     "iopub.status.idle": "2025-07-30T21:51:22.592556Z",
     "shell.execute_reply": "2025-07-30T21:51:22.591761Z"
    },
    "papermill": {
     "duration": 0.051917,
     "end_time": "2025-07-30T21:51:22.594516",
     "exception": false,
     "start_time": "2025-07-30T21:51:22.542599",
     "status": "completed"
    },
    "tags": []
   },
   "outputs": [],
   "source": [
    "# do I need to include maxdeutsch1.missing?\n",
    "\n",
    "import numpy as np\n",
    "\n",
    "colname_to_bin = \"maxdeutsch1\"\n",
    "majority_value = org_train[colname_to_bin].mode()[0]\n",
    "\n",
    "org_test[\"majmin\"] = np.where(org_test[colname_to_bin] == majority_value, \"majority\", \"minority\")"
   ]
  },
  {
   "cell_type": "code",
   "execution_count": 73,
   "id": "06a50de5",
   "metadata": {
    "execution": {
     "iopub.execute_input": "2025-07-30T21:51:22.657975Z",
     "iopub.status.busy": "2025-07-30T21:51:22.657425Z",
     "iopub.status.idle": "2025-07-30T21:51:24.841792Z",
     "shell.execute_reply": "2025-07-30T21:51:24.840992Z"
    },
    "papermill": {
     "duration": 2.217075,
     "end_time": "2025-07-30T21:51:24.843307",
     "exception": false,
     "start_time": "2025-07-30T21:51:22.626232",
     "status": "completed"
    },
    "tags": []
   },
   "outputs": [],
   "source": [
    "example_universe = universe.copy()\n",
    "example_universe[\"cutoff\"] = example_universe[\"cutoff\"][0]\n",
    "example_universe[\"eval_fairness_grouping\"] = example_universe[\"eval_fairness_grouping\"][0]\n",
    "fairness_dict, metric_frame = universe_analysis.compute_metrics(\n",
    "    example_universe,\n",
    "    y_pred_prob=probs_test,\n",
    "    y_test=y_true,\n",
    "    org_test=org_test,\n",
    ")"
   ]
  },
  {
   "cell_type": "markdown",
   "id": "f95d4e02",
   "metadata": {
    "papermill": {
     "duration": 0.01329,
     "end_time": "2025-07-30T21:51:24.871622",
     "exception": false,
     "start_time": "2025-07-30T21:51:24.858332",
     "status": "completed"
    },
    "tags": []
   },
   "source": [
    "# Overall"
   ]
  },
  {
   "cell_type": "markdown",
   "id": "bdee4871",
   "metadata": {
    "papermill": {
     "duration": 0.013608,
     "end_time": "2025-07-30T21:51:24.898797",
     "exception": false,
     "start_time": "2025-07-30T21:51:24.885189",
     "status": "completed"
    },
    "tags": []
   },
   "source": [
    "Fairness\n",
    "Main fairness target: Equalized Odds. Seems to be a better fit than equal opportunity, since we're not only interested in Y = 1. Seems to be a better fit than demographic parity, since we also care about accuracy, not just equal distribution of preds.\n",
    "\n",
    "Pick column for computation of fairness metrics\n",
    "\n",
    "Performance\n",
    "Overall performance measures, most interesting in relation to the measures split by group below"
   ]
  },
  {
   "cell_type": "code",
   "execution_count": 74,
   "id": "c4e067c6",
   "metadata": {
    "execution": {
     "iopub.execute_input": "2025-07-30T21:51:24.926599Z",
     "iopub.status.busy": "2025-07-30T21:51:24.926103Z",
     "iopub.status.idle": "2025-07-30T21:51:24.933641Z",
     "shell.execute_reply": "2025-07-30T21:51:24.932899Z"
    },
    "papermill": {
     "duration": 0.023275,
     "end_time": "2025-07-30T21:51:24.935247",
     "exception": false,
     "start_time": "2025-07-30T21:51:24.911972",
     "status": "completed"
    },
    "tags": []
   },
   "outputs": [
    {
     "data": {
      "text/plain": [
       "accuracy                   0.196009\n",
       "balanced accuracy          0.533290\n",
       "f1                         0.239514\n",
       "precision                  0.136295\n",
       "false positive rate        0.920386\n",
       "false negative rate        0.013034\n",
       "selection rate             0.928927\n",
       "count                  89710.000000\n",
       "dtype: float64"
      ]
     },
     "execution_count": 74,
     "metadata": {},
     "output_type": "execute_result"
    }
   ],
   "source": [
    "metric_frame.overall"
   ]
  },
  {
   "cell_type": "markdown",
   "id": "e968fe9d",
   "metadata": {
    "papermill": {
     "duration": 0.025755,
     "end_time": "2025-07-30T21:51:24.987366",
     "exception": false,
     "start_time": "2025-07-30T21:51:24.961611",
     "status": "completed"
    },
    "tags": []
   },
   "source": [
    "By Group"
   ]
  },
  {
   "cell_type": "code",
   "execution_count": 75,
   "id": "ec325bce",
   "metadata": {
    "execution": {
     "iopub.execute_input": "2025-07-30T21:51:25.041902Z",
     "iopub.status.busy": "2025-07-30T21:51:25.041402Z",
     "iopub.status.idle": "2025-07-30T21:51:25.057730Z",
     "shell.execute_reply": "2025-07-30T21:51:25.056723Z"
    },
    "papermill": {
     "duration": 0.046223,
     "end_time": "2025-07-30T21:51:25.059828",
     "exception": false,
     "start_time": "2025-07-30T21:51:25.013605",
     "status": "completed"
    },
    "tags": []
   },
   "outputs": [
    {
     "data": {
      "text/html": [
       "<div>\n",
       "<style scoped>\n",
       "    .dataframe tbody tr th:only-of-type {\n",
       "        vertical-align: middle;\n",
       "    }\n",
       "\n",
       "    .dataframe tbody tr th {\n",
       "        vertical-align: top;\n",
       "    }\n",
       "\n",
       "    .dataframe thead th {\n",
       "        text-align: right;\n",
       "    }\n",
       "</style>\n",
       "<table border=\"1\" class=\"dataframe\">\n",
       "  <thead>\n",
       "    <tr style=\"text-align: right;\">\n",
       "      <th></th>\n",
       "      <th>accuracy</th>\n",
       "      <th>balanced accuracy</th>\n",
       "      <th>f1</th>\n",
       "      <th>precision</th>\n",
       "      <th>false positive rate</th>\n",
       "      <th>false negative rate</th>\n",
       "      <th>selection rate</th>\n",
       "      <th>count</th>\n",
       "    </tr>\n",
       "    <tr>\n",
       "      <th>majmin</th>\n",
       "      <th></th>\n",
       "      <th></th>\n",
       "      <th></th>\n",
       "      <th></th>\n",
       "      <th></th>\n",
       "      <th></th>\n",
       "      <th></th>\n",
       "      <th></th>\n",
       "    </tr>\n",
       "  </thead>\n",
       "  <tbody>\n",
       "    <tr>\n",
       "      <th>majority</th>\n",
       "      <td>0.200506</td>\n",
       "      <td>0.534612</td>\n",
       "      <td>0.246324</td>\n",
       "      <td>0.140687</td>\n",
       "      <td>0.919507</td>\n",
       "      <td>0.011269</td>\n",
       "      <td>0.928654</td>\n",
       "      <td>69170.0</td>\n",
       "    </tr>\n",
       "    <tr>\n",
       "      <th>minority</th>\n",
       "      <td>0.180867</td>\n",
       "      <td>0.528432</td>\n",
       "      <td>0.216239</td>\n",
       "      <td>0.121525</td>\n",
       "      <td>0.923289</td>\n",
       "      <td>0.019848</td>\n",
       "      <td>0.929844</td>\n",
       "      <td>20540.0</td>\n",
       "    </tr>\n",
       "  </tbody>\n",
       "</table>\n",
       "</div>"
      ],
      "text/plain": [
       "          accuracy  balanced accuracy        f1  precision  \\\n",
       "majmin                                                       \n",
       "majority  0.200506           0.534612  0.246324   0.140687   \n",
       "minority  0.180867           0.528432  0.216239   0.121525   \n",
       "\n",
       "          false positive rate  false negative rate  selection rate    count  \n",
       "majmin                                                                       \n",
       "majority             0.919507             0.011269        0.928654  69170.0  \n",
       "minority             0.923289             0.019848        0.929844  20540.0  "
      ]
     },
     "execution_count": 75,
     "metadata": {},
     "output_type": "execute_result"
    }
   ],
   "source": [
    "metric_frame.by_group"
   ]
  },
  {
   "cell_type": "code",
   "execution_count": 76,
   "id": "a9ddbe63",
   "metadata": {
    "execution": {
     "iopub.execute_input": "2025-07-30T21:51:25.114882Z",
     "iopub.status.busy": "2025-07-30T21:51:25.113892Z",
     "iopub.status.idle": "2025-07-30T21:51:27.536945Z",
     "shell.execute_reply": "2025-07-30T21:51:27.536023Z"
    },
    "papermill": {
     "duration": 2.452091,
     "end_time": "2025-07-30T21:51:27.538464",
     "exception": false,
     "start_time": "2025-07-30T21:51:25.086373",
     "status": "completed"
    },
    "tags": []
   },
   "outputs": [
    {
     "data": {
      "text/plain": [
       "array([[<Axes: title={'center': 'accuracy'}, xlabel='majmin'>,\n",
       "        <Axes: title={'center': 'balanced accuracy'}, xlabel='majmin'>,\n",
       "        <Axes: title={'center': 'f1'}, xlabel='majmin'>],\n",
       "       [<Axes: title={'center': 'precision'}, xlabel='majmin'>,\n",
       "        <Axes: title={'center': 'false positive rate'}, xlabel='majmin'>,\n",
       "        <Axes: title={'center': 'false negative rate'}, xlabel='majmin'>],\n",
       "       [<Axes: title={'center': 'selection rate'}, xlabel='majmin'>,\n",
       "        <Axes: title={'center': 'count'}, xlabel='majmin'>,\n",
       "        <Axes: xlabel='majmin'>]], dtype=object)"
      ]
     },
     "execution_count": 76,
     "metadata": {},
     "output_type": "execute_result"
    },
    {
     "data": {
      "image/png": "[encoded data removed]",
      "text/plain": [
       "<Figure size 1200x800 with 9 Axes>"
      ]
     },
     "metadata": {},
     "output_type": "display_data"
    }
   ],
   "source": [
    "# In a graphic\n",
    "metric_frame.by_group.plot.bar(\n",
    "    subplots=True,\n",
    "    layout=[3, 3],\n",
    "    legend=False,\n",
    "    figsize=[12, 8],\n",
    "    title=\"Show all metrics\",\n",
    ")"
   ]
  },
  {
   "cell_type": "markdown",
   "id": "f57a0bac",
   "metadata": {
    "papermill": {
     "duration": 0.031781,
     "end_time": "2025-07-30T21:51:27.600936",
     "exception": false,
     "start_time": "2025-07-30T21:51:27.569155",
     "status": "completed"
    },
    "tags": []
   },
   "source": [
    "# Final Output"
   ]
  },
  {
   "cell_type": "code",
   "execution_count": 77,
   "id": "96d280a3",
   "metadata": {
    "execution": {
     "iopub.execute_input": "2025-07-30T21:51:27.651300Z",
     "iopub.status.busy": "2025-07-30T21:51:27.650753Z",
     "iopub.status.idle": "2025-07-30T21:51:27.658891Z",
     "shell.execute_reply": "2025-07-30T21:51:27.657922Z"
    },
    "papermill": {
     "duration": 0.029712,
     "end_time": "2025-07-30T21:51:27.660506",
     "exception": false,
     "start_time": "2025-07-30T21:51:27.630794",
     "status": "completed"
    },
    "tags": []
   },
   "outputs": [
    {
     "data": {
      "text/plain": [
       "4"
      ]
     },
     "execution_count": 77,
     "metadata": {},
     "output_type": "execute_result"
    }
   ],
   "source": [
    "sub_universes = universe_analysis.generate_sub_universes()\n",
    "len(sub_universes)"
   ]
  },
  {
   "cell_type": "code",
   "execution_count": 78,
   "id": "92adf7ba",
   "metadata": {
    "execution": {
     "iopub.execute_input": "2025-07-30T21:51:27.722352Z",
     "iopub.status.busy": "2025-07-30T21:51:27.721678Z",
     "iopub.status.idle": "2025-07-30T21:51:27.728153Z",
     "shell.execute_reply": "2025-07-30T21:51:27.727154Z"
    },
    "papermill": {
     "duration": 0.040913,
     "end_time": "2025-07-30T21:51:27.729685",
     "exception": false,
     "start_time": "2025-07-30T21:51:27.688772",
     "status": "completed"
    },
    "tags": []
   },
   "outputs": [],
   "source": [
    "def filter_sub_universe_data(sub_universe, org_test):\n",
    "    # Keep all rows — no filtering\n",
    "    keep_rows_mask = np.ones(org_test.shape[0], dtype=bool)\n",
    "\n",
    "    print(f\"[INFO] Keeping all rows: {keep_rows_mask.sum()} rows retained.\")\n",
    "    return keep_rows_mask"
   ]
  },
  {
   "cell_type": "code",
   "execution_count": 79,
   "id": "4a759155",
   "metadata": {
    "execution": {
     "iopub.execute_input": "2025-07-30T21:51:27.763389Z",
     "iopub.status.busy": "2025-07-30T21:51:27.763064Z",
     "iopub.status.idle": "2025-07-30T21:51:37.675501Z",
     "shell.execute_reply": "2025-07-30T21:51:37.674490Z"
    },
    "papermill": {
     "duration": 9.92982,
     "end_time": "2025-07-30T21:51:37.677354",
     "exception": false,
     "start_time": "2025-07-30T21:51:27.747534",
     "status": "completed"
    },
    "tags": []
   },
   "outputs": [
    {
     "name": "stdout",
     "output_type": "stream",
     "text": [
      "Stopping execution_time clock.\n",
      "[INFO] Keeping all rows: 89710 rows retained.\n"
     ]
    },
    {
     "name": "stdout",
     "output_type": "stream",
     "text": [
      "[INFO] Keeping all rows: 89710 rows retained.\n"
     ]
    },
    {
     "name": "stdout",
     "output_type": "stream",
     "text": [
      "[INFO] Keeping all rows: 89710 rows retained.\n"
     ]
    },
    {
     "name": "stdout",
     "output_type": "stream",
     "text": [
      "[INFO] Keeping all rows: 89710 rows retained.\n"
     ]
    },
    {
     "data": {
      "text/html": [
       "<div>\n",
       "<style scoped>\n",
       "    .dataframe tbody tr th:only-of-type {\n",
       "        vertical-align: middle;\n",
       "    }\n",
       "\n",
       "    .dataframe tbody tr th {\n",
       "        vertical-align: top;\n",
       "    }\n",
       "\n",
       "    .dataframe thead th {\n",
       "        text-align: right;\n",
       "    }\n",
       "</style>\n",
       "<table border=\"1\" class=\"dataframe\">\n",
       "  <thead>\n",
       "    <tr style=\"text-align: right;\">\n",
       "      <th></th>\n",
       "      <th>run_no</th>\n",
       "      <th>universe_id</th>\n",
       "      <th>universe_settings</th>\n",
       "      <th>execution_time</th>\n",
       "      <th>test_size_n</th>\n",
       "      <th>test_size_frac</th>\n",
       "      <th>fair_main_equalized_odds_difference</th>\n",
       "      <th>fair_main_equalized_odds_ratio</th>\n",
       "      <th>fair_main_demographic_parity_difference</th>\n",
       "      <th>fair_main_demographic_parity_ratio</th>\n",
       "      <th>...</th>\n",
       "      <th>perf_grp_precision_0</th>\n",
       "      <th>perf_grp_precision_1</th>\n",
       "      <th>perf_grp_false positive rate_0</th>\n",
       "      <th>perf_grp_false positive rate_1</th>\n",
       "      <th>perf_grp_false negative rate_0</th>\n",
       "      <th>perf_grp_false negative rate_1</th>\n",
       "      <th>perf_grp_selection rate_0</th>\n",
       "      <th>perf_grp_selection rate_1</th>\n",
       "      <th>perf_grp_count_0</th>\n",
       "      <th>perf_grp_count_1</th>\n",
       "    </tr>\n",
       "  </thead>\n",
       "  <tbody>\n",
       "    <tr>\n",
       "      <th>0</th>\n",
       "      <td>14</td>\n",
       "      <td>b2c86770ebf27c061755a5046af1f4f4</td>\n",
       "      <td>{\"cutoff\": \"quantile_0.1\", \"eval_fairness_grou...</td>\n",
       "      <td>32.584736</td>\n",
       "      <td>89710</td>\n",
       "      <td>1.0</td>\n",
       "      <td>0.008579</td>\n",
       "      <td>0.991323</td>\n",
       "      <td>0.001190</td>\n",
       "      <td>0.998720</td>\n",
       "      <td>...</td>\n",
       "      <td>NaN</td>\n",
       "      <td>NaN</td>\n",
       "      <td>NaN</td>\n",
       "      <td>NaN</td>\n",
       "      <td>NaN</td>\n",
       "      <td>NaN</td>\n",
       "      <td>NaN</td>\n",
       "      <td>NaN</td>\n",
       "      <td>NaN</td>\n",
       "      <td>NaN</td>\n",
       "    </tr>\n",
       "    <tr>\n",
       "      <th>0</th>\n",
       "      <td>14</td>\n",
       "      <td>b2c86770ebf27c061755a5046af1f4f4</td>\n",
       "      <td>{\"cutoff\": \"quantile_0.1\", \"eval_fairness_grou...</td>\n",
       "      <td>32.584736</td>\n",
       "      <td>89710</td>\n",
       "      <td>1.0</td>\n",
       "      <td>0.008579</td>\n",
       "      <td>0.991323</td>\n",
       "      <td>0.001190</td>\n",
       "      <td>0.998720</td>\n",
       "      <td>...</td>\n",
       "      <td>0.121525</td>\n",
       "      <td>0.140687</td>\n",
       "      <td>0.923289</td>\n",
       "      <td>0.919507</td>\n",
       "      <td>0.019848</td>\n",
       "      <td>0.011269</td>\n",
       "      <td>0.929844</td>\n",
       "      <td>0.928654</td>\n",
       "      <td>20540.0</td>\n",
       "      <td>69170.0</td>\n",
       "    </tr>\n",
       "    <tr>\n",
       "      <th>0</th>\n",
       "      <td>14</td>\n",
       "      <td>b2c86770ebf27c061755a5046af1f4f4</td>\n",
       "      <td>{\"cutoff\": \"quantile_0.25\", \"eval_fairness_gro...</td>\n",
       "      <td>32.584736</td>\n",
       "      <td>89710</td>\n",
       "      <td>1.0</td>\n",
       "      <td>0.046090</td>\n",
       "      <td>0.950729</td>\n",
       "      <td>0.017298</td>\n",
       "      <td>0.977779</td>\n",
       "      <td>...</td>\n",
       "      <td>NaN</td>\n",
       "      <td>NaN</td>\n",
       "      <td>NaN</td>\n",
       "      <td>NaN</td>\n",
       "      <td>NaN</td>\n",
       "      <td>NaN</td>\n",
       "      <td>NaN</td>\n",
       "      <td>NaN</td>\n",
       "      <td>NaN</td>\n",
       "      <td>NaN</td>\n",
       "    </tr>\n",
       "    <tr>\n",
       "      <th>0</th>\n",
       "      <td>14</td>\n",
       "      <td>b2c86770ebf27c061755a5046af1f4f4</td>\n",
       "      <td>{\"cutoff\": \"quantile_0.25\", \"eval_fairness_gro...</td>\n",
       "      <td>32.584736</td>\n",
       "      <td>89710</td>\n",
       "      <td>1.0</td>\n",
       "      <td>0.046090</td>\n",
       "      <td>0.950729</td>\n",
       "      <td>0.017298</td>\n",
       "      <td>0.977779</td>\n",
       "      <td>...</td>\n",
       "      <td>0.131707</td>\n",
       "      <td>0.162390</td>\n",
       "      <td>0.764033</td>\n",
       "      <td>0.734649</td>\n",
       "      <td>0.110642</td>\n",
       "      <td>0.064551</td>\n",
       "      <td>0.778481</td>\n",
       "      <td>0.761183</td>\n",
       "      <td>20540.0</td>\n",
       "      <td>69170.0</td>\n",
       "    </tr>\n",
       "  </tbody>\n",
       "</table>\n",
       "<p>4 rows × 50 columns</p>\n",
       "</div>"
      ],
      "text/plain": [
       "  run_no                       universe_id  \\\n",
       "0     14  b2c86770ebf27c061755a5046af1f4f4   \n",
       "0     14  b2c86770ebf27c061755a5046af1f4f4   \n",
       "0     14  b2c86770ebf27c061755a5046af1f4f4   \n",
       "0     14  b2c86770ebf27c061755a5046af1f4f4   \n",
       "\n",
       "                                   universe_settings  execution_time  \\\n",
       "0  {\"cutoff\": \"quantile_0.1\", \"eval_fairness_grou...       32.584736   \n",
       "0  {\"cutoff\": \"quantile_0.1\", \"eval_fairness_grou...       32.584736   \n",
       "0  {\"cutoff\": \"quantile_0.25\", \"eval_fairness_gro...       32.584736   \n",
       "0  {\"cutoff\": \"quantile_0.25\", \"eval_fairness_gro...       32.584736   \n",
       "\n",
       "   test_size_n  test_size_frac  fair_main_equalized_odds_difference  \\\n",
       "0        89710             1.0                             0.008579   \n",
       "0        89710             1.0                             0.008579   \n",
       "0        89710             1.0                             0.046090   \n",
       "0        89710             1.0                             0.046090   \n",
       "\n",
       "   fair_main_equalized_odds_ratio  fair_main_demographic_parity_difference  \\\n",
       "0                        0.991323                                 0.001190   \n",
       "0                        0.991323                                 0.001190   \n",
       "0                        0.950729                                 0.017298   \n",
       "0                        0.950729                                 0.017298   \n",
       "\n",
       "   fair_main_demographic_parity_ratio  ...  perf_grp_precision_0  \\\n",
       "0                            0.998720  ...                   NaN   \n",
       "0                            0.998720  ...              0.121525   \n",
       "0                            0.977779  ...                   NaN   \n",
       "0                            0.977779  ...              0.131707   \n",
       "\n",
       "   perf_grp_precision_1  perf_grp_false positive rate_0  \\\n",
       "0                   NaN                             NaN   \n",
       "0              0.140687                        0.923289   \n",
       "0                   NaN                             NaN   \n",
       "0              0.162390                        0.764033   \n",
       "\n",
       "   perf_grp_false positive rate_1  perf_grp_false negative rate_0  \\\n",
       "0                             NaN                             NaN   \n",
       "0                        0.919507                        0.019848   \n",
       "0                             NaN                             NaN   \n",
       "0                        0.734649                        0.110642   \n",
       "\n",
       "   perf_grp_false negative rate_1  perf_grp_selection rate_0  \\\n",
       "0                             NaN                        NaN   \n",
       "0                        0.011269                   0.929844   \n",
       "0                             NaN                        NaN   \n",
       "0                        0.064551                   0.778481   \n",
       "\n",
       "   perf_grp_selection rate_1  perf_grp_count_0  perf_grp_count_1  \n",
       "0                        NaN               NaN               NaN  \n",
       "0                   0.928654           20540.0           69170.0  \n",
       "0                        NaN               NaN               NaN  \n",
       "0                   0.761183           20540.0           69170.0  \n",
       "\n",
       "[4 rows x 50 columns]"
      ]
     },
     "execution_count": 79,
     "metadata": {},
     "output_type": "execute_result"
    }
   ],
   "source": [
    "final_output = universe_analysis.generate_final_output(\n",
    "    y_pred_prob=probs_test,\n",
    "    y_test=y_true,\n",
    "    org_test=org_test,\n",
    "    filter_data=filter_sub_universe_data,\n",
    "    cp_metrics_df=cp_metrics_df,\n",
    "    save=True,\n",
    ")\n",
    "final_output"
   ]
  },
  {
   "cell_type": "code",
   "execution_count": null,
   "id": "721ff514-cb11-46f8-b6fc-50392f74b5cb",
   "metadata": {
    "papermill": {
     "duration": 0.034018,
     "end_time": "2025-07-30T21:51:37.746568",
     "exception": false,
     "start_time": "2025-07-30T21:51:37.712550",
     "status": "completed"
    },
    "tags": []
   },
   "outputs": [],
   "source": []
  }
 ],
 "metadata": {
  "celltoolbar": "Tags",
  "kernelspec": {
   "display_name": "Python (CMA Fairness)",
   "language": "python",
   "name": "cma_fair_env"
  },
  "language_info": {
   "codemirror_mode": {
    "name": "ipython",
    "version": 3
   },
   "file_extension": ".py",
   "mimetype": "text/x-python",
   "name": "python",
   "nbconvert_exporter": "python",
   "pygments_lexer": "ipython3",
   "version": "3.10.12"
  },
  "papermill": {
   "default_parameters": {},
   "duration": 46.787799,
   "end_time": "2025-07-30T21:51:38.703210",
   "environment_variables": {},
   "exception": null,
   "input_path": "universe_analysis.ipynb",
   "output_path": "output/runs/14/notebooks/m_14-b2c86770ebf27c061755a5046af1f4f4.ipynb",
   "parameters": {
    "output_dir": "output",
    "run_no": "14",
    "seed": "2023",
    "universe": "{\"cutoff\": [\"quantile_0.1\", \"quantile_0.25\"], \"eval_fairness_grouping\": [\"majority-minority\", \"nationality-all\"], \"exclude_features\": \"nationality\", \"exclude_subgroups\": \"drop-non-german\", \"model\": \"rf\", \"scale\": \"do-not-scale\", \"training_size\": \"1k\", \"training_year\": \"2010_14\"}",
    "universe_id": "b2c86770ebf27c061755a5046af1f4f4"
   },
   "start_time": "2025-07-30T21:50:51.915411",
   "version": "2.6.0"
  }
 },
 "nbformat": 4,
 "nbformat_minor": 5
}