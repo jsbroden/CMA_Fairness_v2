{
 "cells": [
  {
   "cell_type": "code",
   "execution_count": 1,
   "id": "f159f837-637b-42ba-96b5-ec9a68c44524",
   "metadata": {
    "execution": {
     "iopub.execute_input": "2025-07-30T20:14:15.539973Z",
     "iopub.status.busy": "2025-07-30T20:14:15.539390Z",
     "iopub.status.idle": "2025-07-30T20:14:15.554272Z",
     "shell.execute_reply": "2025-07-30T20:14:15.553316Z"
    },
    "papermill": {
     "duration": 0.039691,
     "end_time": "2025-07-30T20:14:15.556746",
     "exception": false,
     "start_time": "2025-07-30T20:14:15.517055",
     "status": "completed"
    },
    "tags": []
   },
   "outputs": [
    {
     "name": "stdout",
     "output_type": "stream",
     "text": [
      "/dss/dsshome1/0C/ra93lal2/cma/CMA_Fairness_v2\n"
     ]
    },
    {
     "name": "stderr",
     "output_type": "stream",
     "text": [
      "/dss/dsshome1/0C/ra93lal2/.local/share/virtualenvs/CMA_Fairness_v2-3j10GkSs/lib/python3.10/site-packages/IPython/core/magics/osm.py:393: UserWarning: This is now an optional IPython functionality, using bookmarks requires you to install the `pickleshare` library.\n",
      "  bkms = self.shell.db.get('bookmarks', {})\n",
      "/dss/dsshome1/0C/ra93lal2/.local/share/virtualenvs/CMA_Fairness_v2-3j10GkSs/lib/python3.10/site-packages/IPython/core/magics/osm.py:417: UserWarning: This is now an optional IPython functionality, setting dhist requires you to install the `pickleshare` library.\n",
      "  self.shell.db['dhist'] = compress_dhist(dhist)[-100:]\n"
     ]
    }
   ],
   "source": [
    "%cd ~/cma/CMA_Fairness_v2"
   ]
  },
  {
   "cell_type": "markdown",
   "id": "de2603b9",
   "metadata": {
    "papermill": {
     "duration": 0.025496,
     "end_time": "2025-07-30T20:14:15.608764",
     "exception": false,
     "start_time": "2025-07-30T20:14:15.583268",
     "status": "completed"
    },
    "tags": []
   },
   "source": [
    "The following cell holds the definition of our parameters, these values can be overriden by rendering the with e.g. the following command:\n",
    "\n",
    "papermill -p alpha 0.2 -p ratio 0.3 universe_analysis.ipynb output/test_run.ipynb"
   ]
  },
  {
   "cell_type": "code",
   "execution_count": 2,
   "id": "a80968a0-40bb-4fa9-85ef-2d5eefb01975",
   "metadata": {
    "execution": {
     "iopub.execute_input": "2025-07-30T20:14:15.658517Z",
     "iopub.status.busy": "2025-07-30T20:14:15.657731Z",
     "iopub.status.idle": "2025-07-30T20:14:15.663979Z",
     "shell.execute_reply": "2025-07-30T20:14:15.662832Z"
    },
    "papermill": {
     "duration": 0.031757,
     "end_time": "2025-07-30T20:14:15.665884",
     "exception": false,
     "start_time": "2025-07-30T20:14:15.634127",
     "status": "completed"
    },
    "tags": []
   },
   "outputs": [
    {
     "name": "stdout",
     "output_type": "stream",
     "text": [
      "Current working directory: /dss/dsshome1/0C/ra93lal2/cma/CMA_Fairness_v2\n"
     ]
    }
   ],
   "source": [
    "import os\n",
    "print(\"Current working directory:\", os.getcwd())"
   ]
  },
  {
   "cell_type": "code",
   "execution_count": 3,
   "id": "2dce4c03",
   "metadata": {
    "execution": {
     "iopub.execute_input": "2025-07-30T20:14:15.700584Z",
     "iopub.status.busy": "2025-07-30T20:14:15.699693Z",
     "iopub.status.idle": "2025-07-30T20:14:15.706622Z",
     "shell.execute_reply": "2025-07-30T20:14:15.705649Z"
    },
    "papermill": {
     "duration": 0.023188,
     "end_time": "2025-07-30T20:14:15.708729",
     "exception": false,
     "start_time": "2025-07-30T20:14:15.685541",
     "status": "completed"
    },
    "tags": [
     "parameters"
    ]
   },
   "outputs": [],
   "source": [
    "run_no = 0\n",
    "universe_id = \"test\"\n",
    "universe = {\n",
    "    \"training_size\": \"25k\", # \"25k\", \"5k\", \"1k\"\n",
    "    \"training_year\": \"2014\", # \"2014\", \"2012_14\", \"2010_14\"\n",
    "    \"scale\": \"scale\", # \"scale\", \"do-not-scale\",\n",
    "    #\"stratify_split\": \"target\", # \"none\", \"target\", \"protected-attribute\", \"both\",\n",
    "    \"model\": \"elasticnet\", # \"logreg\", \"penalized_logreg\", \"rf\", \"gbm\", \"elasticnet\"\n",
    "    \"cutoff\": [\"quantile_0.15\", \"quantile_0.30\"],\n",
    "    \"exclude_features\": \"age\", # \"none\", \"nationality\", \"sex\", \"nationality-sex\", \"age\"\n",
    "    \"exclude_subgroups\": \"keep-all\", # \"keep-all\", \"drop-non-german\"\n",
    "    \"eval_fairness_grouping\": [\"majority-minority\", \"nationality-all\"]\n",
    "}\n",
    "\n",
    "output_dir=\"./output\"\n",
    "seed=0"
   ]
  },
  {
   "cell_type": "code",
   "execution_count": 4,
   "id": "ca518ad1",
   "metadata": {
    "execution": {
     "iopub.execute_input": "2025-07-30T20:14:15.750971Z",
     "iopub.status.busy": "2025-07-30T20:14:15.750310Z",
     "iopub.status.idle": "2025-07-30T20:14:15.755367Z",
     "shell.execute_reply": "2025-07-30T20:14:15.754570Z"
    },
    "papermill": {
     "duration": 0.025874,
     "end_time": "2025-07-30T20:14:15.756872",
     "exception": false,
     "start_time": "2025-07-30T20:14:15.730998",
     "status": "completed"
    },
    "tags": [
     "injected-parameters"
    ]
   },
   "outputs": [],
   "source": [
    "# Parameters\n",
    "universe_id = \"5a6029aaf510f4593bc0d2e67594f376\"\n",
    "run_no = \"14\"\n",
    "universe = \"{\\\"cutoff\\\": [\\\"quantile_0.1\\\", \\\"quantile_0.25\\\"], \\\"eval_fairness_grouping\\\": [\\\"majority-minority\\\", \\\"nationality-all\\\"], \\\"exclude_features\\\": \\\"sex\\\", \\\"exclude_subgroups\\\": \\\"keep-all\\\", \\\"model\\\": \\\"elasticnet\\\", \\\"scale\\\": \\\"scale\\\", \\\"training_size\\\": \\\"25k\\\", \\\"training_year\\\": \\\"2012_14\\\"}\"\n",
    "output_dir = \"output\"\n",
    "seed = \"2023\"\n"
   ]
  },
  {
   "cell_type": "code",
   "execution_count": 5,
   "id": "1650acaf",
   "metadata": {
    "execution": {
     "iopub.execute_input": "2025-07-30T20:14:15.782246Z",
     "iopub.status.busy": "2025-07-30T20:14:15.781813Z",
     "iopub.status.idle": "2025-07-30T20:14:15.785778Z",
     "shell.execute_reply": "2025-07-30T20:14:15.785026Z"
    },
    "papermill": {
     "duration": 0.018296,
     "end_time": "2025-07-30T20:14:15.786977",
     "exception": false,
     "start_time": "2025-07-30T20:14:15.768681",
     "status": "completed"
    },
    "tags": []
   },
   "outputs": [],
   "source": [
    "import json\n",
    "# Parse universe into dict if it is passed as a string\n",
    "if isinstance(universe, str):\n",
    "    universe = json.loads(universe)"
   ]
  },
  {
   "cell_type": "code",
   "execution_count": 6,
   "id": "16620c48",
   "metadata": {
    "execution": {
     "iopub.execute_input": "2025-07-30T20:14:15.819166Z",
     "iopub.status.busy": "2025-07-30T20:14:15.818706Z",
     "iopub.status.idle": "2025-07-30T20:14:15.870672Z",
     "shell.execute_reply": "2025-07-30T20:14:15.869734Z"
    },
    "papermill": {
     "duration": 0.074195,
     "end_time": "2025-07-30T20:14:15.872679",
     "exception": false,
     "start_time": "2025-07-30T20:14:15.798484",
     "status": "completed"
    },
    "tags": []
   },
   "outputs": [],
   "source": [
    "# Auto-reload the custom package\n",
    "%load_ext autoreload\n",
    "%autoreload 1\n",
    "%aimport fairness_multiverse"
   ]
  },
  {
   "cell_type": "code",
   "execution_count": 7,
   "id": "01c5c9f3",
   "metadata": {
    "execution": {
     "iopub.execute_input": "2025-07-30T20:14:15.923925Z",
     "iopub.status.busy": "2025-07-30T20:14:15.923008Z",
     "iopub.status.idle": "2025-07-30T20:14:17.833147Z",
     "shell.execute_reply": "2025-07-30T20:14:17.832180Z"
    },
    "papermill": {
     "duration": 1.932634,
     "end_time": "2025-07-30T20:14:17.834966",
     "exception": false,
     "start_time": "2025-07-30T20:14:15.902332",
     "status": "completed"
    },
    "tags": []
   },
   "outputs": [],
   "source": [
    "from fairness_multiverse.universe import UniverseAnalysis\n",
    "\n",
    "universe_analysis = UniverseAnalysis(\n",
    "    run_no = run_no,\n",
    "    universe_id = universe_id,\n",
    "    universe = universe,\n",
    "    output_dir=output_dir,\n",
    ")"
   ]
  },
  {
   "cell_type": "code",
   "execution_count": 8,
   "id": "106241f5",
   "metadata": {
    "execution": {
     "iopub.execute_input": "2025-07-30T20:14:17.877377Z",
     "iopub.status.busy": "2025-07-30T20:14:17.876882Z",
     "iopub.status.idle": "2025-07-30T20:14:17.883234Z",
     "shell.execute_reply": "2025-07-30T20:14:17.882396Z"
    },
    "papermill": {
     "duration": 0.029033,
     "end_time": "2025-07-30T20:14:17.884969",
     "exception": false,
     "start_time": "2025-07-30T20:14:17.855936",
     "status": "completed"
    },
    "tags": []
   },
   "outputs": [
    {
     "name": "stdout",
     "output_type": "stream",
     "text": [
      "Using Seed: 2023\n"
     ]
    }
   ],
   "source": [
    "import numpy as np\n",
    "parsed_seed = int(seed)\n",
    "np.random.seed(parsed_seed)\n",
    "print(f\"Using Seed: {parsed_seed}\")"
   ]
  },
  {
   "cell_type": "markdown",
   "id": "e0ebdc57",
   "metadata": {
    "papermill": {
     "duration": 0.01986,
     "end_time": "2025-07-30T20:14:17.927267",
     "exception": false,
     "start_time": "2025-07-30T20:14:17.907407",
     "status": "completed"
    },
    "tags": []
   },
   "source": [
    "# Loading Data"
   ]
  },
  {
   "cell_type": "markdown",
   "id": "681925a3",
   "metadata": {
    "papermill": {
     "duration": 0.019758,
     "end_time": "2025-07-30T20:14:17.967111",
     "exception": false,
     "start_time": "2025-07-30T20:14:17.947353",
     "status": "completed"
    },
    "tags": []
   },
   "source": [
    "Load siab_train, siab_test, siab_calib and/or \n",
    "load siab_train_features, siab_train_labels"
   ]
  },
  {
   "cell_type": "code",
   "execution_count": 9,
   "id": "f0496b8a",
   "metadata": {
    "execution": {
     "iopub.execute_input": "2025-07-30T20:14:18.009235Z",
     "iopub.status.busy": "2025-07-30T20:14:18.008813Z",
     "iopub.status.idle": "2025-07-30T20:14:29.686023Z",
     "shell.execute_reply": "2025-07-30T20:14:29.685166Z"
    },
    "papermill": {
     "duration": 11.699235,
     "end_time": "2025-07-30T20:14:29.687416",
     "exception": false,
     "start_time": "2025-07-30T20:14:17.988181",
     "status": "completed"
    },
    "tags": []
   },
   "outputs": [
    {
     "name": "stdout",
     "output_type": "stream",
     "text": [
      "Loading SIAB data from cache: data/siab_cached.csv.gz\n"
     ]
    },
    {
     "name": "stdout",
     "output_type": "stream",
     "text": [
      "(643690, 164)\n"
     ]
    }
   ],
   "source": [
    "from pathlib import Path\n",
    "import pandas as pd\n",
    "\n",
    "# File paths\n",
    "raw_file = Path(\"data/raw/siab.csv\")\n",
    "cache_file = Path(\"data/siab_cached.csv.gz\")\n",
    "\n",
    "# Ensure cache directory exists\n",
    "cache_file.parent.mkdir(parents=True, exist_ok=True)\n",
    "\n",
    "# Load with simple caching\n",
    "if cache_file.exists():\n",
    "    print(f\"Loading SIAB data from cache: {cache_file}\")\n",
    "    siab = pd.read_csv(cache_file, compression='gzip')\n",
    "else:\n",
    "    print(f\"Cache not found. Reading raw SIAB data: {raw_file}\")\n",
    "    siab = pd.read_csv(raw_file)\n",
    "    siab.to_csv(cache_file, index=False, compression='gzip')\n",
    "    print(f\"Cached SIAB data to: {cache_file}\")\n",
    "\n",
    "# Now use `siab` DataFrame as needed\n",
    "print(siab.shape)"
   ]
  },
  {
   "cell_type": "code",
   "execution_count": 10,
   "id": "db0ca512-5f53-4dba-abdb-a2888bca41ba",
   "metadata": {
    "execution": {
     "iopub.execute_input": "2025-07-30T20:14:29.712788Z",
     "iopub.status.busy": "2025-07-30T20:14:29.712443Z",
     "iopub.status.idle": "2025-07-30T20:14:29.716878Z",
     "shell.execute_reply": "2025-07-30T20:14:29.716006Z"
    },
    "papermill": {
     "duration": 0.017327,
     "end_time": "2025-07-30T20:14:29.718240",
     "exception": false,
     "start_time": "2025-07-30T20:14:29.700913",
     "status": "completed"
    },
    "tags": []
   },
   "outputs": [],
   "source": [
    "#siab"
   ]
  },
  {
   "cell_type": "code",
   "execution_count": 11,
   "id": "a0edb063",
   "metadata": {
    "execution": {
     "iopub.execute_input": "2025-07-30T20:14:29.741187Z",
     "iopub.status.busy": "2025-07-30T20:14:29.740687Z",
     "iopub.status.idle": "2025-07-30T20:14:29.744771Z",
     "shell.execute_reply": "2025-07-30T20:14:29.743918Z"
    },
    "papermill": {
     "duration": 0.016588,
     "end_time": "2025-07-30T20:14:29.746249",
     "exception": false,
     "start_time": "2025-07-30T20:14:29.729661",
     "status": "completed"
    },
    "tags": []
   },
   "outputs": [],
   "source": [
    "#import pandas as pd\n",
    "#\n",
    "#X_train = pd.read_csv(\"./data/X_train.csv\")\n",
    "#y_train = pd.read_csv(\"./data/y_train.csv\")"
   ]
  },
  {
   "cell_type": "code",
   "execution_count": 12,
   "id": "63d08085",
   "metadata": {
    "execution": {
     "iopub.execute_input": "2025-07-30T20:14:29.769270Z",
     "iopub.status.busy": "2025-07-30T20:14:29.768894Z",
     "iopub.status.idle": "2025-07-30T20:14:29.773624Z",
     "shell.execute_reply": "2025-07-30T20:14:29.772487Z"
    },
    "papermill": {
     "duration": 0.017654,
     "end_time": "2025-07-30T20:14:29.775335",
     "exception": false,
     "start_time": "2025-07-30T20:14:29.757681",
     "status": "completed"
    },
    "tags": []
   },
   "outputs": [],
   "source": [
    "#X_test = pd.read_csv(\"./data/X_test.csv\")\n",
    "#y_true = pd.read_csv(\"./data/y_test.csv\")"
   ]
  },
  {
   "cell_type": "code",
   "execution_count": 13,
   "id": "98a8d0fa-1d3d-4ed8-bb2c-281470e24add",
   "metadata": {
    "execution": {
     "iopub.execute_input": "2025-07-30T20:14:29.815997Z",
     "iopub.status.busy": "2025-07-30T20:14:29.815631Z",
     "iopub.status.idle": "2025-07-30T20:14:29.819878Z",
     "shell.execute_reply": "2025-07-30T20:14:29.818992Z"
    },
    "papermill": {
     "duration": 0.023616,
     "end_time": "2025-07-30T20:14:29.821395",
     "exception": false,
     "start_time": "2025-07-30T20:14:29.797779",
     "status": "completed"
    },
    "tags": []
   },
   "outputs": [],
   "source": [
    "# Calibration data for conformal\n",
    "#X_calib = pd.read_csv(\"./data/X_calib.csv\")\n",
    "#y_calib = pd.read_csv(\"./data/y_calib.csv\")"
   ]
  },
  {
   "cell_type": "markdown",
   "id": "997051c5-15bd-4b69-9786-c3001a3ce484",
   "metadata": {
    "papermill": {
     "duration": 0.011506,
     "end_time": "2025-07-30T20:14:29.845716",
     "exception": false,
     "start_time": "2025-07-30T20:14:29.834210",
     "status": "completed"
    },
    "tags": []
   },
   "source": [
    "# Splitting Data and Setting Training Data Size"
   ]
  },
  {
   "cell_type": "code",
   "execution_count": 14,
   "id": "e993b61f-042d-41a6-8c81-f55681f86335",
   "metadata": {
    "execution": {
     "iopub.execute_input": "2025-07-30T20:14:29.868204Z",
     "iopub.status.busy": "2025-07-30T20:14:29.867821Z",
     "iopub.status.idle": "2025-07-30T20:14:29.877738Z",
     "shell.execute_reply": "2025-07-30T20:14:29.876941Z"
    },
    "papermill": {
     "duration": 0.022978,
     "end_time": "2025-07-30T20:14:29.879166",
     "exception": false,
     "start_time": "2025-07-30T20:14:29.856188",
     "status": "completed"
    },
    "tags": []
   },
   "outputs": [],
   "source": [
    "def sample_by_year_size(df,\n",
    "                        training_year: str,\n",
    "                        training_size: str,\n",
    "                        random_state: int = 42):\n",
    "    # --- parse training_year into a list of int years ---\n",
    "    if \"_\" in training_year:\n",
    "        start_str, end_str = training_year.split(\"_\", 1)\n",
    "        start = int(start_str)\n",
    "        end   = int(end_str) if len(end_str) == 4 else (int(end_str) + (start // 100)*100)\n",
    "        years = list(range(start, end + 1))\n",
    "    else:\n",
    "        years = [int(training_year)]\n",
    "\n",
    "    df = df[df[\"year\"].isin(years)].reset_index(drop=True)\n",
    "\n",
    "    # --- map training_size to total number of samples ---\n",
    "    total_map = {\"25k\": 25_000, \"5k\": 5_000, \"1k\": 1_000}\n",
    "    if training_size not in total_map:\n",
    "        return df  # e.g. \"all\"\n",
    "\n",
    "    total_samples = total_map[training_size]\n",
    "    n_years       = len(years)\n",
    "    base          = total_samples // n_years\n",
    "    remainder     = total_samples % n_years\n",
    "\n",
    "    # --- build a dict: year -> how many to sample ---\n",
    "    # give +1 to the first `remainder` years in ascending order\n",
    "    quotas = {\n",
    "        year: base + (1 if idx < remainder else 0)\n",
    "        for idx, year in enumerate(sorted(years))\n",
    "    }\n",
    "\n",
    "    # --- sample per‐year according to the quota dict ---\n",
    "    sampled = (\n",
    "        df\n",
    "        .groupby(\"year\", group_keys=False)\n",
    "        .apply(lambda grp: grp.sample(\n",
    "            n=min(len(grp), quotas[grp.name]),\n",
    "            random_state=random_state))\n",
    "        .reset_index(drop=True)\n",
    "    )\n",
    "\n",
    "    return sampled"
   ]
  },
  {
   "cell_type": "code",
   "execution_count": 15,
   "id": "c0ccd338-0e02-41f3-a09d-f56f9266e3fb",
   "metadata": {
    "execution": {
     "iopub.execute_input": "2025-07-30T20:14:29.902971Z",
     "iopub.status.busy": "2025-07-30T20:14:29.902457Z",
     "iopub.status.idle": "2025-07-30T20:14:29.906728Z",
     "shell.execute_reply": "2025-07-30T20:14:29.905957Z"
    },
    "papermill": {
     "duration": 0.016922,
     "end_time": "2025-07-30T20:14:29.907974",
     "exception": false,
     "start_time": "2025-07-30T20:14:29.891052",
     "status": "completed"
    },
    "tags": []
   },
   "outputs": [],
   "source": [
    "#universe[\"training_size\"]"
   ]
  },
  {
   "cell_type": "code",
   "execution_count": 16,
   "id": "ca707fd7-8047-4acd-bfa5-66248fbbf8e6",
   "metadata": {
    "execution": {
     "iopub.execute_input": "2025-07-30T20:14:29.930768Z",
     "iopub.status.busy": "2025-07-30T20:14:29.930255Z",
     "iopub.status.idle": "2025-07-30T20:14:29.934312Z",
     "shell.execute_reply": "2025-07-30T20:14:29.933493Z"
    },
    "papermill": {
     "duration": 0.016786,
     "end_time": "2025-07-30T20:14:29.936015",
     "exception": false,
     "start_time": "2025-07-30T20:14:29.919229",
     "status": "completed"
    },
    "tags": []
   },
   "outputs": [],
   "source": [
    "#universe[\"training_year\"]"
   ]
  },
  {
   "cell_type": "code",
   "execution_count": 17,
   "id": "aea9c6ef-6f46-42c8-85eb-5a62025c1508",
   "metadata": {
    "execution": {
     "iopub.execute_input": "2025-07-30T20:14:29.961190Z",
     "iopub.status.busy": "2025-07-30T20:14:29.960527Z",
     "iopub.status.idle": "2025-07-30T20:14:30.645938Z",
     "shell.execute_reply": "2025-07-30T20:14:30.645016Z"
    },
    "papermill": {
     "duration": 0.698526,
     "end_time": "2025-07-30T20:14:30.647501",
     "exception": false,
     "start_time": "2025-07-30T20:14:29.948975",
     "status": "completed"
    },
    "tags": []
   },
   "outputs": [],
   "source": [
    "siab_train = sample_by_year_size(siab,\n",
    "                               training_year=universe[\"training_year\"],\n",
    "                               training_size=universe[\"training_size\"])"
   ]
  },
  {
   "cell_type": "code",
   "execution_count": 18,
   "id": "8d3afb32-789d-442c-8d5d-9f5aa8dd2eed",
   "metadata": {
    "execution": {
     "iopub.execute_input": "2025-07-30T20:14:30.692468Z",
     "iopub.status.busy": "2025-07-30T20:14:30.691970Z",
     "iopub.status.idle": "2025-07-30T20:14:30.697310Z",
     "shell.execute_reply": "2025-07-30T20:14:30.696189Z"
    },
    "papermill": {
     "duration": 0.030252,
     "end_time": "2025-07-30T20:14:30.699192",
     "exception": false,
     "start_time": "2025-07-30T20:14:30.668940",
     "status": "completed"
    },
    "tags": []
   },
   "outputs": [],
   "source": [
    "#siab_train.shape"
   ]
  },
  {
   "cell_type": "code",
   "execution_count": 19,
   "id": "d582db68-1a4c-47fb-84fc-08518dc1975a",
   "metadata": {
    "execution": {
     "iopub.execute_input": "2025-07-30T20:14:30.746358Z",
     "iopub.status.busy": "2025-07-30T20:14:30.745720Z",
     "iopub.status.idle": "2025-07-30T20:14:30.751043Z",
     "shell.execute_reply": "2025-07-30T20:14:30.749977Z"
    },
    "papermill": {
     "duration": 0.030266,
     "end_time": "2025-07-30T20:14:30.752896",
     "exception": false,
     "start_time": "2025-07-30T20:14:30.722630",
     "status": "completed"
    },
    "tags": []
   },
   "outputs": [],
   "source": [
    "#display(siab_train.groupby(\"year\").size())"
   ]
  },
  {
   "cell_type": "code",
   "execution_count": 20,
   "id": "a561edb4-d032-42cb-8256-22eac1111c64",
   "metadata": {
    "execution": {
     "iopub.execute_input": "2025-07-30T20:14:30.787945Z",
     "iopub.status.busy": "2025-07-30T20:14:30.787573Z",
     "iopub.status.idle": "2025-07-30T20:14:31.027650Z",
     "shell.execute_reply": "2025-07-30T20:14:31.026768Z"
    },
    "papermill": {
     "duration": 0.253848,
     "end_time": "2025-07-30T20:14:31.029280",
     "exception": false,
     "start_time": "2025-07-30T20:14:30.775432",
     "status": "completed"
    },
    "tags": []
   },
   "outputs": [],
   "source": [
    "#siab_train = siab_s[siab_s.year < 2015]\n",
    "siab_calib = siab[siab.year == 2015]\n",
    "siab_test = siab[siab.year == 2016]"
   ]
  },
  {
   "cell_type": "code",
   "execution_count": 21,
   "id": "472de16f-c3db-4916-846b-1f0de9cf1746",
   "metadata": {
    "execution": {
     "iopub.execute_input": "2025-07-30T20:14:31.067603Z",
     "iopub.status.busy": "2025-07-30T20:14:31.066954Z",
     "iopub.status.idle": "2025-07-30T20:14:31.081179Z",
     "shell.execute_reply": "2025-07-30T20:14:31.080003Z"
    },
    "papermill": {
     "duration": 0.038532,
     "end_time": "2025-07-30T20:14:31.082695",
     "exception": false,
     "start_time": "2025-07-30T20:14:31.044163",
     "status": "completed"
    },
    "tags": []
   },
   "outputs": [],
   "source": [
    "X_train = siab_train.iloc[:,4:164]\n",
    "y_train = siab_train.iloc[:, [3]]"
   ]
  },
  {
   "cell_type": "code",
   "execution_count": 22,
   "id": "828c96af-f43a-4ed6-ba47-8ac73a47d56c",
   "metadata": {
    "execution": {
     "iopub.execute_input": "2025-07-30T20:14:31.129190Z",
     "iopub.status.busy": "2025-07-30T20:14:31.128552Z",
     "iopub.status.idle": "2025-07-30T20:14:31.179592Z",
     "shell.execute_reply": "2025-07-30T20:14:31.178461Z"
    },
    "papermill": {
     "duration": 0.076007,
     "end_time": "2025-07-30T20:14:31.181735",
     "exception": false,
     "start_time": "2025-07-30T20:14:31.105728",
     "status": "completed"
    },
    "tags": []
   },
   "outputs": [],
   "source": [
    "X_calib = siab_calib.iloc[:,4:164]\n",
    "y_calib = siab_calib.iloc[:, [3]]"
   ]
  },
  {
   "cell_type": "code",
   "execution_count": 23,
   "id": "c34be9c3-6bd6-476e-acd3-845840e303be",
   "metadata": {
    "execution": {
     "iopub.execute_input": "2025-07-30T20:14:31.215905Z",
     "iopub.status.busy": "2025-07-30T20:14:31.215575Z",
     "iopub.status.idle": "2025-07-30T20:14:31.267868Z",
     "shell.execute_reply": "2025-07-30T20:14:31.266643Z"
    },
    "papermill": {
     "duration": 0.065882,
     "end_time": "2025-07-30T20:14:31.269514",
     "exception": false,
     "start_time": "2025-07-30T20:14:31.203632",
     "status": "completed"
    },
    "tags": []
   },
   "outputs": [],
   "source": [
    "X_test = siab_test.iloc[:,4:164]\n",
    "y_true = siab_test.iloc[:, [3]]"
   ]
  },
  {
   "cell_type": "markdown",
   "id": "9901737e-04df-44f0-9100-f5ad144ed040",
   "metadata": {
    "papermill": {
     "duration": 0.020008,
     "end_time": "2025-07-30T20:14:31.310666",
     "exception": false,
     "start_time": "2025-07-30T20:14:31.290658",
     "status": "completed"
    },
    "tags": []
   },
   "source": [
    "# Splitting Data and Setting Training Data Size OLD VERSION"
   ]
  },
  {
   "cell_type": "code",
   "execution_count": 24,
   "id": "acbc8f7d-8fc8-4e86-8c59-5dcb0f58384b",
   "metadata": {
    "execution": {
     "iopub.execute_input": "2025-07-30T20:14:31.354543Z",
     "iopub.status.busy": "2025-07-30T20:14:31.353864Z",
     "iopub.status.idle": "2025-07-30T20:14:31.363113Z",
     "shell.execute_reply": "2025-07-30T20:14:31.359428Z"
    },
    "papermill": {
     "duration": 0.042148,
     "end_time": "2025-07-30T20:14:31.372875",
     "exception": false,
     "start_time": "2025-07-30T20:14:31.330727",
     "status": "completed"
    },
    "tags": []
   },
   "outputs": [],
   "source": [
    "#def sample_by_year(df, training_size, random_state=42):\n",
    "#    if training_size == \"2014\":\n",
    "#        return df[df[\"year\"] == 2014].reset_index(drop=True)\n",
    "#    \n",
    "#    size_map = {\n",
    "#        \"25k\": 5000,\n",
    "#        \"5k\": 1000,\n",
    "#        \"1k\": 200\n",
    "#    }\n",
    "#\n",
    "#    if training_size not in size_map:\n",
    "#        return df.reset_index(drop=True)  # use all data\n",
    "#\n",
    "#    n_per_year = size_map[training_size]\n",
    "#    grouped = df.groupby(\"year\")\n",
    "#    sampled = grouped.apply(lambda x: x.sample(n=min(n_per_year, len(x)), random_state=random_state))\n",
    "#    return sampled.reset_index(drop=True)"
   ]
  },
  {
   "cell_type": "code",
   "execution_count": 25,
   "id": "6d931f52-beaf-43ff-9e78-9d44a448d54e",
   "metadata": {
    "execution": {
     "iopub.execute_input": "2025-07-30T20:14:31.401289Z",
     "iopub.status.busy": "2025-07-30T20:14:31.400946Z",
     "iopub.status.idle": "2025-07-30T20:14:31.405144Z",
     "shell.execute_reply": "2025-07-30T20:14:31.404432Z"
    },
    "papermill": {
     "duration": 0.017596,
     "end_time": "2025-07-30T20:14:31.406346",
     "exception": false,
     "start_time": "2025-07-30T20:14:31.388750",
     "status": "completed"
    },
    "tags": []
   },
   "outputs": [],
   "source": [
    "#siab_s = sample_by_year(siab, universe[\"training_size\"])"
   ]
  },
  {
   "cell_type": "code",
   "execution_count": 26,
   "id": "5db0a40e-a4e2-4920-be85-b12ae061d70d",
   "metadata": {
    "execution": {
     "iopub.execute_input": "2025-07-30T20:14:31.431473Z",
     "iopub.status.busy": "2025-07-30T20:14:31.431111Z",
     "iopub.status.idle": "2025-07-30T20:14:31.472006Z",
     "shell.execute_reply": "2025-07-30T20:14:31.471180Z"
    },
    "papermill": {
     "duration": 0.055569,
     "end_time": "2025-07-30T20:14:31.474034",
     "exception": false,
     "start_time": "2025-07-30T20:14:31.418465",
     "status": "completed"
    },
    "tags": []
   },
   "outputs": [],
   "source": [
    "#display(siab_s.groupby(\"year\").size())"
   ]
  },
  {
   "cell_type": "code",
   "execution_count": 27,
   "id": "e6c733c5",
   "metadata": {
    "execution": {
     "iopub.execute_input": "2025-07-30T20:14:31.522711Z",
     "iopub.status.busy": "2025-07-30T20:14:31.522042Z",
     "iopub.status.idle": "2025-07-30T20:14:31.619450Z",
     "shell.execute_reply": "2025-07-30T20:14:31.618442Z"
    },
    "papermill": {
     "duration": 0.123398,
     "end_time": "2025-07-30T20:14:31.621592",
     "exception": false,
     "start_time": "2025-07-30T20:14:31.498194",
     "status": "completed"
    },
    "tags": []
   },
   "outputs": [],
   "source": [
    "# Auxiliary data needed downstream in the pipeline\n",
    "\n",
    "org_train = X_train.copy()\n",
    "org_test = X_test.copy()\n",
    "org_calib = X_calib.copy()"
   ]
  },
  {
   "cell_type": "code",
   "execution_count": 28,
   "id": "1466abac-c6da-4492-a62f-4240ae3783af",
   "metadata": {
    "execution": {
     "iopub.execute_input": "2025-07-30T20:14:31.670322Z",
     "iopub.status.busy": "2025-07-30T20:14:31.669309Z",
     "iopub.status.idle": "2025-07-30T20:14:31.675801Z",
     "shell.execute_reply": "2025-07-30T20:14:31.674765Z"
    },
    "papermill": {
     "duration": 0.032455,
     "end_time": "2025-07-30T20:14:31.677614",
     "exception": false,
     "start_time": "2025-07-30T20:14:31.645159",
     "status": "completed"
    },
    "tags": []
   },
   "outputs": [],
   "source": [
    "# put in other script?\n",
    "# Group sizes\n",
    "\n",
    "#def calculate_percentages(df, df_name):\n",
    "#    total_entries = len(df)\n",
    "#\n",
    "#    female_pct = (df['frau1'] == 1).mean() * 100\n",
    "#    non_german_pct = ((df['maxdeutsch1'] == 0) & (df['maxdeutsch.Missing.'] == 0)).mean() * 100\n",
    "#    non_german_male_pct = ((df['frau1'] == 0) & (df['maxdeutsch1'] == 0) & (df['maxdeutsch.Missing.'] == 0)).mean() * 100\n",
    "#    non_german_female_pct = ((df['frau1'] == 1) & (df['maxdeutsch1'] == 0) & (df['maxdeutsch.Missing.'] == 0)).mean() * 100\n",
    "#\n",
    "#    print(f\"--- {df_name} ---\")\n",
    "#    print(f\"Female: {female_pct:.2f}%\")\n",
    "#    print(f\"Non-German: {non_german_pct:.2f}%\")\n",
    "#    print(f\"Non-German Male: {non_german_male_pct:.2f}%\")\n",
    "#    print(f\"Non-German Female: {non_german_female_pct:.2f}%\\n\")\n",
    "#\n",
    "## Calculate for each DataFrame\n",
    "#calculate_percentages(siab_calib, \"siab_calib\")\n",
    "#calculate_percentages(siab_test, \"siab_test\")\n",
    "#calculate_percentages(siab_train, \"siab_train\")"
   ]
  },
  {
   "cell_type": "markdown",
   "id": "0a4a1b33",
   "metadata": {
    "papermill": {
     "duration": 0.020786,
     "end_time": "2025-07-30T20:14:31.719913",
     "exception": false,
     "start_time": "2025-07-30T20:14:31.699127",
     "status": "completed"
    },
    "tags": []
   },
   "source": [
    "# Preprocessing Data"
   ]
  },
  {
   "cell_type": "code",
   "execution_count": 29,
   "id": "ca879031",
   "metadata": {
    "execution": {
     "iopub.execute_input": "2025-07-30T20:14:31.763132Z",
     "iopub.status.busy": "2025-07-30T20:14:31.762147Z",
     "iopub.status.idle": "2025-07-30T20:14:31.768701Z",
     "shell.execute_reply": "2025-07-30T20:14:31.767753Z"
    },
    "papermill": {
     "duration": 0.030048,
     "end_time": "2025-07-30T20:14:31.770560",
     "exception": false,
     "start_time": "2025-07-30T20:14:31.740512",
     "status": "completed"
    },
    "tags": []
   },
   "outputs": [],
   "source": [
    "# EXCLUDE PROTECTED FEATURES\n",
    "# ----------------------\n",
    "# \"exclude_features\": \"none\", # \"nationality\", \"sex\", \"nationality-sex\"\n",
    "\n",
    "excluded_features = universe[\"exclude_features\"].split(\"-\") # split, e.g.: \"nationality-sex\" -> [\"nationality\", \"sex\"]\n",
    "excluded_features_dictionary = {\n",
    "    \"nationality\": [\"maxdeutsch1\", \"maxdeutsch.Missing.\"],\n",
    "    \"sex\": [\"frau1\"],\n",
    "    \"age\": [\"age\"],\n",
    "}\n"
   ]
  },
  {
   "cell_type": "code",
   "execution_count": 30,
   "id": "b745ac60",
   "metadata": {
    "execution": {
     "iopub.execute_input": "2025-07-30T20:14:31.813616Z",
     "iopub.status.busy": "2025-07-30T20:14:31.813090Z",
     "iopub.status.idle": "2025-07-30T20:14:31.818864Z",
     "shell.execute_reply": "2025-07-30T20:14:31.817830Z"
    },
    "papermill": {
     "duration": 0.028626,
     "end_time": "2025-07-30T20:14:31.820651",
     "exception": false,
     "start_time": "2025-07-30T20:14:31.792025",
     "status": "completed"
    },
    "tags": []
   },
   "outputs": [],
   "source": [
    "# Code nice names to column names\n",
    "\n",
    "excluded_features_columns = [\n",
    "    excluded_features_dictionary[f] for f in excluded_features if len(f) > 0 and f != \"none\"\n",
    "]"
   ]
  },
  {
   "cell_type": "code",
   "execution_count": 31,
   "id": "f84f73a2",
   "metadata": {
    "execution": {
     "iopub.execute_input": "2025-07-30T20:14:31.865050Z",
     "iopub.status.busy": "2025-07-30T20:14:31.864393Z",
     "iopub.status.idle": "2025-07-30T20:14:31.871039Z",
     "shell.execute_reply": "2025-07-30T20:14:31.870025Z"
    },
    "papermill": {
     "duration": 0.029919,
     "end_time": "2025-07-30T20:14:31.872731",
     "exception": false,
     "start_time": "2025-07-30T20:14:31.842812",
     "status": "completed"
    },
    "tags": []
   },
   "outputs": [],
   "source": [
    "from utils import flatten_once\n",
    "\n",
    "excluded_features_columns = flatten_once(excluded_features_columns)"
   ]
  },
  {
   "cell_type": "code",
   "execution_count": 32,
   "id": "884dea22",
   "metadata": {
    "execution": {
     "iopub.execute_input": "2025-07-30T20:14:31.917262Z",
     "iopub.status.busy": "2025-07-30T20:14:31.916452Z",
     "iopub.status.idle": "2025-07-30T20:14:31.932881Z",
     "shell.execute_reply": "2025-07-30T20:14:31.931867Z"
    },
    "papermill": {
     "duration": 0.0401,
     "end_time": "2025-07-30T20:14:31.934725",
     "exception": false,
     "start_time": "2025-07-30T20:14:31.894625",
     "status": "completed"
    },
    "tags": []
   },
   "outputs": [
    {
     "name": "stdout",
     "output_type": "stream",
     "text": [
      "Dropping features: ['frau1']\n"
     ]
    }
   ],
   "source": [
    "if len(excluded_features_columns) > 0:\n",
    "    print(f\"Dropping features: {excluded_features_columns}\")\n",
    "    X_train.drop(excluded_features_columns, axis=1, inplace=True)"
   ]
  },
  {
   "cell_type": "code",
   "execution_count": 33,
   "id": "95ab8b16",
   "metadata": {
    "execution": {
     "iopub.execute_input": "2025-07-30T20:14:31.980920Z",
     "iopub.status.busy": "2025-07-30T20:14:31.979933Z",
     "iopub.status.idle": "2025-07-30T20:14:32.037756Z",
     "shell.execute_reply": "2025-07-30T20:14:32.036611Z"
    },
    "papermill": {
     "duration": 0.082001,
     "end_time": "2025-07-30T20:14:32.039393",
     "exception": false,
     "start_time": "2025-07-30T20:14:31.957392",
     "status": "completed"
    },
    "tags": []
   },
   "outputs": [
    {
     "name": "stdout",
     "output_type": "stream",
     "text": [
      "Dropping features: ['frau1']\n"
     ]
    }
   ],
   "source": [
    "if len(excluded_features_columns) > 0:\n",
    "    print(f\"Dropping features: {excluded_features_columns}\")\n",
    "    X_test.drop(excluded_features_columns, axis=1, inplace=True)"
   ]
  },
  {
   "cell_type": "code",
   "execution_count": 34,
   "id": "1853aaf5-fb9f-46cb-a2b5-8ea4ae2237e4",
   "metadata": {
    "execution": {
     "iopub.execute_input": "2025-07-30T20:14:32.085162Z",
     "iopub.status.busy": "2025-07-30T20:14:32.084391Z",
     "iopub.status.idle": "2025-07-30T20:14:32.139050Z",
     "shell.execute_reply": "2025-07-30T20:14:32.137615Z"
    },
    "papermill": {
     "duration": 0.079077,
     "end_time": "2025-07-30T20:14:32.140766",
     "exception": false,
     "start_time": "2025-07-30T20:14:32.061689",
     "status": "completed"
    },
    "tags": []
   },
   "outputs": [
    {
     "name": "stdout",
     "output_type": "stream",
     "text": [
      "Dropping features: ['frau1']\n"
     ]
    }
   ],
   "source": [
    "if len(excluded_features_columns) > 0:\n",
    "    print(f\"Dropping features: {excluded_features_columns}\")\n",
    "    X_calib.drop(excluded_features_columns, axis=1, inplace=True)"
   ]
  },
  {
   "cell_type": "code",
   "execution_count": 35,
   "id": "6727d079-03e5-481e-9d38-292a90b7a0a8",
   "metadata": {
    "execution": {
     "iopub.execute_input": "2025-07-30T20:14:32.185261Z",
     "iopub.status.busy": "2025-07-30T20:14:32.184503Z",
     "iopub.status.idle": "2025-07-30T20:14:32.189910Z",
     "shell.execute_reply": "2025-07-30T20:14:32.188900Z"
    },
    "papermill": {
     "duration": 0.02812,
     "end_time": "2025-07-30T20:14:32.191506",
     "exception": false,
     "start_time": "2025-07-30T20:14:32.163386",
     "status": "completed"
    },
    "tags": []
   },
   "outputs": [],
   "source": [
    "# SPLIT & STRATIFY DATA\n",
    "# ----------------------"
   ]
  },
  {
   "cell_type": "code",
   "execution_count": 36,
   "id": "76c4dc6d",
   "metadata": {
    "execution": {
     "iopub.execute_input": "2025-07-30T20:14:32.234280Z",
     "iopub.status.busy": "2025-07-30T20:14:32.233775Z",
     "iopub.status.idle": "2025-07-30T20:14:32.239402Z",
     "shell.execute_reply": "2025-07-30T20:14:32.238395Z"
    },
    "papermill": {
     "duration": 0.028648,
     "end_time": "2025-07-30T20:14:32.241212",
     "exception": false,
     "start_time": "2025-07-30T20:14:32.212564",
     "status": "completed"
    },
    "tags": []
   },
   "outputs": [],
   "source": [
    "# EXCLUDE CERTAIN SUBGROUPS\n",
    "# ----------------------\n",
    "\n",
    "mode = universe.get(\"exclude_subgroups\", \"keep-all\") \n",
    "# Fetches the exclude_subgroups setting from the universe dict.\n",
    "# Defaults to \"keep-all\" if the key is missing."
   ]
  },
  {
   "cell_type": "code",
   "execution_count": 37,
   "id": "21994072",
   "metadata": {
    "execution": {
     "iopub.execute_input": "2025-07-30T20:14:32.286201Z",
     "iopub.status.busy": "2025-07-30T20:14:32.285447Z",
     "iopub.status.idle": "2025-07-30T20:14:32.292422Z",
     "shell.execute_reply": "2025-07-30T20:14:32.291371Z"
    },
    "papermill": {
     "duration": 0.0311,
     "end_time": "2025-07-30T20:14:32.294142",
     "exception": false,
     "start_time": "2025-07-30T20:14:32.263042",
     "status": "completed"
    },
    "tags": []
   },
   "outputs": [],
   "source": [
    "if mode == \"keep-all\":\n",
    "    keep_mask = pd.Series(True, index=org_train.index)\n",
    "\n",
    "# org_train contains the original feature columns from features_org (in Simson)\n",
    "# features_org contains unprocessed features, for me X_train at beginning ???\n",
    "# For keep-all, creates a boolean Series (keep_mask) of all True, so no rows are removed.\n",
    "\n",
    "elif mode == \"drop-non-german\":\n",
    "    keep_mask = org_train[\"maxdeutsch1\"] == 1 # ??? what about missing values?\n",
    "\n",
    "else:\n",
    "    raise ValueError(f\"Unsupported mode for exclude_subgroups: {mode}\")\n"
   ]
  },
  {
   "cell_type": "code",
   "execution_count": 38,
   "id": "71651440",
   "metadata": {
    "execution": {
     "iopub.execute_input": "2025-07-30T20:14:32.340751Z",
     "iopub.status.busy": "2025-07-30T20:14:32.340265Z",
     "iopub.status.idle": "2025-07-30T20:14:32.346888Z",
     "shell.execute_reply": "2025-07-30T20:14:32.345925Z"
    },
    "papermill": {
     "duration": 0.0318,
     "end_time": "2025-07-30T20:14:32.348782",
     "exception": false,
     "start_time": "2025-07-30T20:14:32.316982",
     "status": "completed"
    },
    "tags": []
   },
   "outputs": [],
   "source": [
    "n_drop = (~keep_mask).sum() # Calculates how many rows are set to be dropped\n",
    "if n_drop > 0:\n",
    "    pct = n_drop / len(keep_mask) * 100\n",
    "    print(f\"Dropping {n_drop} rows ({pct:.2f}%) where mode='{mode}'\")"
   ]
  },
  {
   "cell_type": "code",
   "execution_count": 39,
   "id": "5fb8eee5",
   "metadata": {
    "execution": {
     "iopub.execute_input": "2025-07-30T20:14:32.393651Z",
     "iopub.status.busy": "2025-07-30T20:14:32.393009Z",
     "iopub.status.idle": "2025-07-30T20:14:32.408707Z",
     "shell.execute_reply": "2025-07-30T20:14:32.407499Z"
    },
    "papermill": {
     "duration": 0.040375,
     "end_time": "2025-07-30T20:14:32.410729",
     "exception": false,
     "start_time": "2025-07-30T20:14:32.370354",
     "status": "completed"
    },
    "tags": []
   },
   "outputs": [],
   "source": [
    "X_train = X_train[keep_mask]"
   ]
  },
  {
   "cell_type": "code",
   "execution_count": 40,
   "id": "b202bb3a",
   "metadata": {
    "execution": {
     "iopub.execute_input": "2025-07-30T20:14:32.457335Z",
     "iopub.status.busy": "2025-07-30T20:14:32.456431Z",
     "iopub.status.idle": "2025-07-30T20:14:32.463485Z",
     "shell.execute_reply": "2025-07-30T20:14:32.462483Z"
    },
    "papermill": {
     "duration": 0.031825,
     "end_time": "2025-07-30T20:14:32.465161",
     "exception": false,
     "start_time": "2025-07-30T20:14:32.433336",
     "status": "completed"
    },
    "tags": []
   },
   "outputs": [],
   "source": [
    "y_train = y_train[keep_mask]"
   ]
  },
  {
   "cell_type": "markdown",
   "id": "493e2ac3",
   "metadata": {
    "papermill": {
     "duration": 0.020679,
     "end_time": "2025-07-30T20:14:32.508877",
     "exception": false,
     "start_time": "2025-07-30T20:14:32.488198",
     "status": "completed"
    },
    "tags": []
   },
   "source": [
    "# Model Training"
   ]
  },
  {
   "cell_type": "code",
   "execution_count": 41,
   "id": "679e1268",
   "metadata": {
    "execution": {
     "iopub.execute_input": "2025-07-30T20:14:32.553180Z",
     "iopub.status.busy": "2025-07-30T20:14:32.552256Z",
     "iopub.status.idle": "2025-07-30T20:14:32.657797Z",
     "shell.execute_reply": "2025-07-30T20:14:32.656843Z"
    },
    "papermill": {
     "duration": 0.130039,
     "end_time": "2025-07-30T20:14:32.659598",
     "exception": false,
     "start_time": "2025-07-30T20:14:32.529559",
     "status": "completed"
    },
    "tags": []
   },
   "outputs": [],
   "source": [
    "from sklearn.linear_model import LogisticRegression\n",
    "from sklearn.ensemble import GradientBoostingClassifier, RandomForestClassifier\n",
    "\n",
    "if (universe[\"model\"] == \"logreg\"):\n",
    "    model = LogisticRegression() #penalty=\"none\") #, solver=\"newton-cg\", max_iter=1) # include random_state=19 ?\n",
    "elif (universe[\"model\"] == \"penalized_logreg\"):\n",
    "    model = LogisticRegression(penalty=\"l2\", C=1.0) #, solver=\"newton-cg\", max_iter=1)\n",
    "elif (universe[\"model\"] == \"rf\"):\n",
    "    model = RandomForestClassifier(n_estimators=100, n_jobs=-1)\n",
    "elif (universe[\"model\"] == \"gbm\"):\n",
    "    model = GradientBoostingClassifier()\n",
    "elif (universe[\"model\"] == \"elasticnet\"):\n",
    "    model = LogisticRegression(penalty = 'elasticnet', solver = 'saga', l1_ratio = 0.5, max_iter=5000) # which solver to use?\n",
    "else:\n",
    "    raise \"Unsupported universe.model\""
   ]
  },
  {
   "cell_type": "code",
   "execution_count": 42,
   "id": "0cc8f744",
   "metadata": {
    "execution": {
     "iopub.execute_input": "2025-07-30T20:14:32.703890Z",
     "iopub.status.busy": "2025-07-30T20:14:32.703218Z",
     "iopub.status.idle": "2025-07-30T20:14:32.709628Z",
     "shell.execute_reply": "2025-07-30T20:14:32.708635Z"
    },
    "papermill": {
     "duration": 0.029845,
     "end_time": "2025-07-30T20:14:32.711377",
     "exception": false,
     "start_time": "2025-07-30T20:14:32.681532",
     "status": "completed"
    },
    "tags": []
   },
   "outputs": [],
   "source": [
    "import numpy as np\n",
    "from sklearn.pipeline import Pipeline\n",
    "from sklearn.preprocessing import StandardScaler\n",
    "\n",
    "model = Pipeline([\n",
    "    #(\"continuous_processor\", continuous_processor),\n",
    "    #(\"categorical_preprocessor\", categorical_preprocessor),\n",
    "    (\"scale\", StandardScaler() if universe[\"scale\"] == \"scale\" else None), \n",
    "    (\"model\", model),\n",
    "])"
   ]
  },
  {
   "cell_type": "code",
   "execution_count": 43,
   "id": "9442c04d",
   "metadata": {
    "execution": {
     "iopub.execute_input": "2025-07-30T20:14:32.756522Z",
     "iopub.status.busy": "2025-07-30T20:14:32.755933Z",
     "iopub.status.idle": "2025-07-30T20:14:52.262652Z",
     "shell.execute_reply": "2025-07-30T20:14:52.261709Z"
    },
    "papermill": {
     "duration": 19.530967,
     "end_time": "2025-07-30T20:14:52.264324",
     "exception": false,
     "start_time": "2025-07-30T20:14:32.733357",
     "status": "completed"
    },
    "tags": []
   },
   "outputs": [
    {
     "data": {
      "text/html": [
       "<style>#sk-container-id-1 {color: black;background-color: white;}#sk-container-id-1 pre{padding: 0;}#sk-container-id-1 div.sk-toggleable {background-color: white;}#sk-container-id-1 label.sk-toggleable__label {cursor: pointer;display: block;width: 100%;margin-bottom: 0;padding: 0.3em;box-sizing: border-box;text-align: center;}#sk-container-id-1 label.sk-toggleable__label-arrow:before {content: \"▸\";float: left;margin-right: 0.25em;color: #696969;}#sk-container-id-1 label.sk-toggleable__label-arrow:hover:before {color: black;}#sk-container-id-1 div.sk-estimator:hover label.sk-toggleable__label-arrow:before {color: black;}#sk-container-id-1 div.sk-toggleable__content {max-height: 0;max-width: 0;overflow: hidden;text-align: left;background-color: #f0f8ff;}#sk-container-id-1 div.sk-toggleable__content pre {margin: 0.2em;color: black;border-radius: 0.25em;background-color: #f0f8ff;}#sk-container-id-1 input.sk-toggleable__control:checked~div.sk-toggleable__content {max-height: 200px;max-width: 100%;overflow: auto;}#sk-container-id-1 input.sk-toggleable__control:checked~label.sk-toggleable__label-arrow:before {content: \"▾\";}#sk-container-id-1 div.sk-estimator input.sk-toggleable__control:checked~label.sk-toggleable__label {background-color: #d4ebff;}#sk-container-id-1 div.sk-label input.sk-toggleable__control:checked~label.sk-toggleable__label {background-color: #d4ebff;}#sk-container-id-1 input.sk-hidden--visually {border: 0;clip: rect(1px 1px 1px 1px);clip: rect(1px, 1px, 1px, 1px);height: 1px;margin: -1px;overflow: hidden;padding: 0;position: absolute;width: 1px;}#sk-container-id-1 div.sk-estimator {font-family: monospace;background-color: #f0f8ff;border: 1px dotted black;border-radius: 0.25em;box-sizing: border-box;margin-bottom: 0.5em;}#sk-container-id-1 div.sk-estimator:hover {background-color: #d4ebff;}#sk-container-id-1 div.sk-parallel-item::after {content: \"\";width: 100%;border-bottom: 1px solid gray;flex-grow: 1;}#sk-container-id-1 div.sk-label:hover label.sk-toggleable__label {background-color: #d4ebff;}#sk-container-id-1 div.sk-serial::before {content: \"\";position: absolute;border-left: 1px solid gray;box-sizing: border-box;top: 0;bottom: 0;left: 50%;z-index: 0;}#sk-container-id-1 div.sk-serial {display: flex;flex-direction: column;align-items: center;background-color: white;padding-right: 0.2em;padding-left: 0.2em;position: relative;}#sk-container-id-1 div.sk-item {position: relative;z-index: 1;}#sk-container-id-1 div.sk-parallel {display: flex;align-items: stretch;justify-content: center;background-color: white;position: relative;}#sk-container-id-1 div.sk-item::before, #sk-container-id-1 div.sk-parallel-item::before {content: \"\";position: absolute;border-left: 1px solid gray;box-sizing: border-box;top: 0;bottom: 0;left: 50%;z-index: -1;}#sk-container-id-1 div.sk-parallel-item {display: flex;flex-direction: column;z-index: 1;position: relative;background-color: white;}#sk-container-id-1 div.sk-parallel-item:first-child::after {align-self: flex-end;width: 50%;}#sk-container-id-1 div.sk-parallel-item:last-child::after {align-self: flex-start;width: 50%;}#sk-container-id-1 div.sk-parallel-item:only-child::after {width: 0;}#sk-container-id-1 div.sk-dashed-wrapped {border: 1px dashed gray;margin: 0 0.4em 0.5em 0.4em;box-sizing: border-box;padding-bottom: 0.4em;background-color: white;}#sk-container-id-1 div.sk-label label {font-family: monospace;font-weight: bold;display: inline-block;line-height: 1.2em;}#sk-container-id-1 div.sk-label-container {text-align: center;}#sk-container-id-1 div.sk-container {/* jupyter's `normalize.less` sets `[hidden] { display: none; }` but bootstrap.min.css set `[hidden] { display: none !important; }` so we also need the `!important` here to be able to override the default hidden behavior on the sphinx rendered scikit-learn.org. See: https://github.com/scikit-learn/scikit-learn/issues/21755 */display: inline-block !important;position: relative;}#sk-container-id-1 div.sk-text-repr-fallback {display: none;}</style><div id=\"sk-container-id-1\" class=\"sk-top-container\"><div class=\"sk-text-repr-fallback\"><pre>Pipeline(steps=[(&#x27;scale&#x27;, StandardScaler()),\n",
       "                (&#x27;model&#x27;,\n",
       "                 LogisticRegression(l1_ratio=0.5, max_iter=5000,\n",
       "                                    penalty=&#x27;elasticnet&#x27;, solver=&#x27;saga&#x27;))])</pre><b>In a Jupyter environment, please rerun this cell to show the HTML representation or trust the notebook. <br />On GitHub, the HTML representation is unable to render, please try loading this page with nbviewer.org.</b></div><div class=\"sk-container\" hidden><div class=\"sk-item sk-dashed-wrapped\"><div class=\"sk-label-container\"><div class=\"sk-label sk-toggleable\"><input class=\"sk-toggleable__control sk-hidden--visually\" id=\"sk-estimator-id-1\" type=\"checkbox\" ><label for=\"sk-estimator-id-1\" class=\"sk-toggleable__label sk-toggleable__label-arrow\">Pipeline</label><div class=\"sk-toggleable__content\"><pre>Pipeline(steps=[(&#x27;scale&#x27;, StandardScaler()),\n",
       "                (&#x27;model&#x27;,\n",
       "                 LogisticRegression(l1_ratio=0.5, max_iter=5000,\n",
       "                                    penalty=&#x27;elasticnet&#x27;, solver=&#x27;saga&#x27;))])</pre></div></div></div><div class=\"sk-serial\"><div class=\"sk-item\"><div class=\"sk-estimator sk-toggleable\"><input class=\"sk-toggleable__control sk-hidden--visually\" id=\"sk-estimator-id-2\" type=\"checkbox\" ><label for=\"sk-estimator-id-2\" class=\"sk-toggleable__label sk-toggleable__label-arrow\">StandardScaler</label><div class=\"sk-toggleable__content\"><pre>StandardScaler()</pre></div></div></div><div class=\"sk-item\"><div class=\"sk-estimator sk-toggleable\"><input class=\"sk-toggleable__control sk-hidden--visually\" id=\"sk-estimator-id-3\" type=\"checkbox\" ><label for=\"sk-estimator-id-3\" class=\"sk-toggleable__label sk-toggleable__label-arrow\">LogisticRegression</label><div class=\"sk-toggleable__content\"><pre>LogisticRegression(l1_ratio=0.5, max_iter=5000, penalty=&#x27;elasticnet&#x27;,\n",
       "                   solver=&#x27;saga&#x27;)</pre></div></div></div></div></div></div></div>"
      ],
      "text/plain": [
       "Pipeline(steps=[('scale', StandardScaler()),\n",
       "                ('model',\n",
       "                 LogisticRegression(l1_ratio=0.5, max_iter=5000,\n",
       "                                    penalty='elasticnet', solver='saga'))])"
      ]
     },
     "execution_count": 43,
     "metadata": {},
     "output_type": "execute_result"
    }
   ],
   "source": [
    "model.fit(X_train, y_train.values.ravel())"
   ]
  },
  {
   "cell_type": "code",
   "execution_count": 44,
   "id": "af59f8c0",
   "metadata": {
    "execution": {
     "iopub.execute_input": "2025-07-30T20:14:52.314837Z",
     "iopub.status.busy": "2025-07-30T20:14:52.314368Z",
     "iopub.status.idle": "2025-07-30T20:14:52.320370Z",
     "shell.execute_reply": "2025-07-30T20:14:52.319346Z"
    },
    "papermill": {
     "duration": 0.032336,
     "end_time": "2025-07-30T20:14:52.322028",
     "exception": false,
     "start_time": "2025-07-30T20:14:52.289692",
     "status": "completed"
    },
    "tags": []
   },
   "outputs": [],
   "source": [
    "from fairness_multiverse.universe import predict_w_threshold"
   ]
  },
  {
   "cell_type": "code",
   "execution_count": 45,
   "id": "a7cf2e16",
   "metadata": {
    "execution": {
     "iopub.execute_input": "2025-07-30T20:14:52.372417Z",
     "iopub.status.busy": "2025-07-30T20:14:52.371710Z",
     "iopub.status.idle": "2025-07-30T20:14:52.586024Z",
     "shell.execute_reply": "2025-07-30T20:14:52.584974Z"
    },
    "papermill": {
     "duration": 0.241981,
     "end_time": "2025-07-30T20:14:52.587700",
     "exception": false,
     "start_time": "2025-07-30T20:14:52.345719",
     "status": "completed"
    },
    "tags": []
   },
   "outputs": [
    {
     "data": {
      "text/plain": [
       "0.8623341879389143"
      ]
     },
     "execution_count": 45,
     "metadata": {},
     "output_type": "execute_result"
    }
   ],
   "source": [
    "probs_test = model.predict_proba(X_test)\n",
    "\n",
    "'''\n",
    "Below code returns a boolean array (or binary 0/1 array depending on how it’s used) where each element \n",
    "is True if the probability of class 1 is greater than or equal to the threshold, and False otherwise.\n",
    "'''\n",
    "y_pred_default = predict_w_threshold(probs_test, 0.5)\n",
    "\n",
    "from sklearn.metrics import accuracy_score\n",
    "\n",
    "# Naive prediction\n",
    "accuracy_score(y_true = y_true, y_pred = y_pred_default)"
   ]
  },
  {
   "cell_type": "code",
   "execution_count": 46,
   "id": "081964c3",
   "metadata": {
    "execution": {
     "iopub.execute_input": "2025-07-30T20:14:52.634868Z",
     "iopub.status.busy": "2025-07-30T20:14:52.633957Z",
     "iopub.status.idle": "2025-07-30T20:14:52.875167Z",
     "shell.execute_reply": "2025-07-30T20:14:52.874162Z"
    },
    "papermill": {
     "duration": 0.266428,
     "end_time": "2025-07-30T20:14:52.876902",
     "exception": false,
     "start_time": "2025-07-30T20:14:52.610474",
     "status": "completed"
    },
    "tags": []
   },
   "outputs": [
    {
     "data": {
      "text/plain": [
       "array([0, 0, 0, ..., 0, 0, 0])"
      ]
     },
     "execution_count": 46,
     "metadata": {},
     "output_type": "execute_result"
    }
   ],
   "source": [
    "model.predict(X_test)"
   ]
  },
  {
   "cell_type": "markdown",
   "id": "56c9705b",
   "metadata": {
    "papermill": {
     "duration": 0.022257,
     "end_time": "2025-07-30T20:14:52.921479",
     "exception": false,
     "start_time": "2025-07-30T20:14:52.899222",
     "status": "completed"
    },
    "tags": []
   },
   "source": [
    "# Conformal Prediction"
   ]
  },
  {
   "cell_type": "code",
   "execution_count": 47,
   "id": "160ec6ff",
   "metadata": {
    "execution": {
     "iopub.execute_input": "2025-07-30T20:14:52.968808Z",
     "iopub.status.busy": "2025-07-30T20:14:52.967880Z",
     "iopub.status.idle": "2025-07-30T20:14:52.973601Z",
     "shell.execute_reply": "2025-07-30T20:14:52.972403Z"
    },
    "papermill": {
     "duration": 0.031954,
     "end_time": "2025-07-30T20:14:52.975874",
     "exception": false,
     "start_time": "2025-07-30T20:14:52.943920",
     "status": "completed"
    },
    "tags": []
   },
   "outputs": [],
   "source": [
    "# Miscoverage level for conformal prediction (10% allowed error rate => 90% target coverage)\n",
    "alpha = 0.1"
   ]
  },
  {
   "cell_type": "code",
   "execution_count": 48,
   "id": "eadf4555-3dd3-440e-8e35-f82a4ad9f855",
   "metadata": {
    "execution": {
     "iopub.execute_input": "2025-07-30T20:14:53.037212Z",
     "iopub.status.busy": "2025-07-30T20:14:53.036531Z",
     "iopub.status.idle": "2025-07-30T20:14:53.214217Z",
     "shell.execute_reply": "2025-07-30T20:14:53.213061Z"
    },
    "papermill": {
     "duration": 0.210396,
     "end_time": "2025-07-30T20:14:53.216262",
     "exception": false,
     "start_time": "2025-07-30T20:14:53.005866",
     "status": "completed"
    },
    "tags": []
   },
   "outputs": [],
   "source": [
    "probs_calib = model.predict_proba(X_calib)"
   ]
  },
  {
   "cell_type": "code",
   "execution_count": 49,
   "id": "2ed93547-6d5d-4983-9b36-1ecb300da49a",
   "metadata": {
    "execution": {
     "iopub.execute_input": "2025-07-30T20:14:53.264612Z",
     "iopub.status.busy": "2025-07-30T20:14:53.263709Z",
     "iopub.status.idle": "2025-07-30T20:14:53.271030Z",
     "shell.execute_reply": "2025-07-30T20:14:53.269817Z"
    },
    "papermill": {
     "duration": 0.032961,
     "end_time": "2025-07-30T20:14:53.272867",
     "exception": false,
     "start_time": "2025-07-30T20:14:53.239906",
     "status": "completed"
    },
    "tags": []
   },
   "outputs": [],
   "source": [
    "y_calib = y_calib.values.ravel().astype(int)"
   ]
  },
  {
   "cell_type": "code",
   "execution_count": 50,
   "id": "65d1320d-f588-4b38-9072-62af1ae97f7d",
   "metadata": {
    "execution": {
     "iopub.execute_input": "2025-07-30T20:14:53.321118Z",
     "iopub.status.busy": "2025-07-30T20:14:53.320452Z",
     "iopub.status.idle": "2025-07-30T20:14:53.330311Z",
     "shell.execute_reply": "2025-07-30T20:14:53.329079Z"
    },
    "papermill": {
     "duration": 0.036288,
     "end_time": "2025-07-30T20:14:53.332232",
     "exception": false,
     "start_time": "2025-07-30T20:14:53.295944",
     "status": "completed"
    },
    "tags": []
   },
   "outputs": [],
   "source": [
    "from fairness_multiverse.conformal import compute_nc_scores\n",
    "\n",
    "# Compute nonconformity scores on calibration set (1 - probability of true class)\n",
    "nc_scores = compute_nc_scores(probs_calib, y_calib)"
   ]
  },
  {
   "cell_type": "code",
   "execution_count": 51,
   "id": "df3b8ca3-53b7-43d5-9667-7c85da7aeda2",
   "metadata": {
    "execution": {
     "iopub.execute_input": "2025-07-30T20:14:53.443225Z",
     "iopub.status.busy": "2025-07-30T20:14:53.442531Z",
     "iopub.status.idle": "2025-07-30T20:14:53.450942Z",
     "shell.execute_reply": "2025-07-30T20:14:53.449808Z"
    },
    "papermill": {
     "duration": 0.034342,
     "end_time": "2025-07-30T20:14:53.452733",
     "exception": false,
     "start_time": "2025-07-30T20:14:53.418391",
     "status": "completed"
    },
    "tags": []
   },
   "outputs": [],
   "source": [
    "from fairness_multiverse.conformal import find_threshold\n",
    "\n",
    "# Find conformal threshold q_hat for the given alpha (split conformal method)\n",
    "q_hat = find_threshold(nc_scores, alpha)"
   ]
  },
  {
   "cell_type": "code",
   "execution_count": 52,
   "id": "4d29e6c1-0ef6-4aa4-b8fe-4fe79b0d033a",
   "metadata": {
    "execution": {
     "iopub.execute_input": "2025-07-30T20:14:53.503941Z",
     "iopub.status.busy": "2025-07-30T20:14:53.503271Z",
     "iopub.status.idle": "2025-07-30T20:14:53.512175Z",
     "shell.execute_reply": "2025-07-30T20:14:53.511087Z"
    },
    "papermill": {
     "duration": 0.035308,
     "end_time": "2025-07-30T20:14:53.514007",
     "exception": false,
     "start_time": "2025-07-30T20:14:53.478699",
     "status": "completed"
    },
    "tags": []
   },
   "outputs": [
    {
     "data": {
      "text/plain": [
       "0.6647016403187203"
      ]
     },
     "execution_count": 52,
     "metadata": {},
     "output_type": "execute_result"
    }
   ],
   "source": [
    "q_hat"
   ]
  },
  {
   "cell_type": "code",
   "execution_count": 53,
   "id": "92460794-cdac-4be2-ba28-f28c0515a6fb",
   "metadata": {
    "execution": {
     "iopub.execute_input": "2025-07-30T20:14:53.563428Z",
     "iopub.status.busy": "2025-07-30T20:14:53.562495Z",
     "iopub.status.idle": "2025-07-30T20:14:54.575473Z",
     "shell.execute_reply": "2025-07-30T20:14:54.574718Z"
    },
    "papermill": {
     "duration": 1.039132,
     "end_time": "2025-07-30T20:14:54.576880",
     "exception": false,
     "start_time": "2025-07-30T20:14:53.537748",
     "status": "completed"
    },
    "tags": []
   },
   "outputs": [],
   "source": [
    "from fairness_multiverse.conformal import predict_conformal_sets\n",
    "\n",
    "# Generate prediction sets for each test example\n",
    "pred_sets = predict_conformal_sets(model, X_test, q_hat)"
   ]
  },
  {
   "cell_type": "code",
   "execution_count": 54,
   "id": "d90c9a65-e6db-4f5d-80cd-e68fb7e46829",
   "metadata": {
    "execution": {
     "iopub.execute_input": "2025-07-30T20:14:54.603488Z",
     "iopub.status.busy": "2025-07-30T20:14:54.602716Z",
     "iopub.status.idle": "2025-07-30T20:14:54.607734Z",
     "shell.execute_reply": "2025-07-30T20:14:54.606943Z"
    },
    "papermill": {
     "duration": 0.019217,
     "end_time": "2025-07-30T20:14:54.609082",
     "exception": false,
     "start_time": "2025-07-30T20:14:54.589865",
     "status": "completed"
    },
    "tags": []
   },
   "outputs": [],
   "source": [
    "y_true = y_true.squeeze()"
   ]
  },
  {
   "cell_type": "code",
   "execution_count": 55,
   "id": "3a58a54a-1e68-46b9-927a-df01f18aebc8",
   "metadata": {
    "execution": {
     "iopub.execute_input": "2025-07-30T20:14:54.640670Z",
     "iopub.status.busy": "2025-07-30T20:14:54.640101Z",
     "iopub.status.idle": "2025-07-30T20:14:55.204262Z",
     "shell.execute_reply": "2025-07-30T20:14:55.203476Z"
    },
    "papermill": {
     "duration": 0.58111,
     "end_time": "2025-07-30T20:14:55.205699",
     "exception": false,
     "start_time": "2025-07-30T20:14:54.624589",
     "status": "completed"
    },
    "tags": []
   },
   "outputs": [],
   "source": [
    "from fairness_multiverse.conformal import evaluate_sets\n",
    "\n",
    "# Evaluate coverage and average set size on test data\n",
    "metrics = evaluate_sets(pred_sets, y_true)"
   ]
  },
  {
   "cell_type": "markdown",
   "id": "2b569c12-9aaa-4c88-98c9-bbcd0cf3ebb8",
   "metadata": {
    "papermill": {
     "duration": 0.013086,
     "end_time": "2025-07-30T20:14:55.232186",
     "exception": false,
     "start_time": "2025-07-30T20:14:55.219100",
     "status": "completed"
    },
    "tags": []
   },
   "source": [
    "# CP Metrics"
   ]
  },
  {
   "cell_type": "code",
   "execution_count": 56,
   "id": "5ce0a5cb-201f-45a0-ade5-94c7f0bd6095",
   "metadata": {
    "execution": {
     "iopub.execute_input": "2025-07-30T20:14:55.260322Z",
     "iopub.status.busy": "2025-07-30T20:14:55.259811Z",
     "iopub.status.idle": "2025-07-30T20:14:55.266687Z",
     "shell.execute_reply": "2025-07-30T20:14:55.265702Z"
    },
    "papermill": {
     "duration": 0.022457,
     "end_time": "2025-07-30T20:14:55.268132",
     "exception": false,
     "start_time": "2025-07-30T20:14:55.245675",
     "status": "completed"
    },
    "tags": []
   },
   "outputs": [
    {
     "data": {
      "text/plain": [
       "{'coverage': 0.911826998105005, 'avg_size': 1.1253817857540966}"
      ]
     },
     "execution_count": 56,
     "metadata": {},
     "output_type": "execute_result"
    }
   ],
   "source": [
    "metrics"
   ]
  },
  {
   "cell_type": "code",
   "execution_count": 57,
   "id": "9b9a838d-31c9-430b-ae14-12baee460d17",
   "metadata": {
    "execution": {
     "iopub.execute_input": "2025-07-30T20:14:55.297714Z",
     "iopub.status.busy": "2025-07-30T20:14:55.297206Z",
     "iopub.status.idle": "2025-07-30T20:14:55.302478Z",
     "shell.execute_reply": "2025-07-30T20:14:55.301633Z"
    },
    "papermill": {
     "duration": 0.021245,
     "end_time": "2025-07-30T20:14:55.303858",
     "exception": false,
     "start_time": "2025-07-30T20:14:55.282613",
     "status": "completed"
    },
    "tags": []
   },
   "outputs": [],
   "source": [
    "example_universe = universe.copy()\n",
    "universe_training_year = example_universe.get(\"training_year\")\n",
    "universe_training_size = example_universe.get(\"training_size\")\n",
    "universe_scale = example_universe.get(\"scale\")\n",
    "universe_model = example_universe.get(\"model\")\n",
    "universe_exclude_features = example_universe.get(\"exclude_features\")\n",
    "universe_exclude_subgroups = example_universe.get(\"exclude_subgroups\")"
   ]
  },
  {
   "cell_type": "code",
   "execution_count": 58,
   "id": "f4b6a8ac-9dc0-4245-8a91-5b3b5999c4f9",
   "metadata": {
    "execution": {
     "iopub.execute_input": "2025-07-30T20:14:55.332679Z",
     "iopub.status.busy": "2025-07-30T20:14:55.332173Z",
     "iopub.status.idle": "2025-07-30T20:14:55.337836Z",
     "shell.execute_reply": "2025-07-30T20:14:55.336998Z"
    },
    "papermill": {
     "duration": 0.021125,
     "end_time": "2025-07-30T20:14:55.339384",
     "exception": false,
     "start_time": "2025-07-30T20:14:55.318259",
     "status": "completed"
    },
    "tags": []
   },
   "outputs": [],
   "source": [
    "cp_metrics_dict = {\n",
    "    \"universe_id\": [universe_id],\n",
    "    \"universe_training_year\": [universe_training_year],\n",
    "    \"universe_training_size\": [universe_training_size],\n",
    "    \"universe_scale\": [universe_scale],\n",
    "    \"universe_model\": [universe_model],\n",
    "    \"universe_exclude_features\": [universe_exclude_features],\n",
    "    \"universe_exclude_subgroups\": [universe_exclude_subgroups],\n",
    "    \"q_hat\": [q_hat],\n",
    "    \"coverage\": [metrics[\"coverage\"]],\n",
    "    \"avg_size\": [metrics[\"avg_size\"]],\n",
    "}"
   ]
  },
  {
   "cell_type": "code",
   "execution_count": 59,
   "id": "908acbb1-0371-4915-85ca-3fa520d2efe2",
   "metadata": {
    "execution": {
     "iopub.execute_input": "2025-07-30T20:14:55.368227Z",
     "iopub.status.busy": "2025-07-30T20:14:55.367813Z",
     "iopub.status.idle": "2025-07-30T20:14:55.374686Z",
     "shell.execute_reply": "2025-07-30T20:14:55.373918Z"
    },
    "papermill": {
     "duration": 0.022379,
     "end_time": "2025-07-30T20:14:55.376116",
     "exception": false,
     "start_time": "2025-07-30T20:14:55.353737",
     "status": "completed"
    },
    "tags": []
   },
   "outputs": [
    {
     "data": {
      "text/plain": [
       "{'universe_id': ['5a6029aaf510f4593bc0d2e67594f376'],\n",
       " 'universe_training_year': ['2012_14'],\n",
       " 'universe_training_size': ['25k'],\n",
       " 'universe_scale': ['scale'],\n",
       " 'universe_model': ['elasticnet'],\n",
       " 'universe_exclude_features': ['sex'],\n",
       " 'universe_exclude_subgroups': ['keep-all'],\n",
       " 'q_hat': [0.6647016403187203],\n",
       " 'coverage': [0.911826998105005],\n",
       " 'avg_size': [1.1253817857540966]}"
      ]
     },
     "execution_count": 59,
     "metadata": {},
     "output_type": "execute_result"
    }
   ],
   "source": [
    "cp_metrics_dict"
   ]
  },
  {
   "cell_type": "code",
   "execution_count": 60,
   "id": "33007efc-14e9-4ec6-97ac-56a455c82265",
   "metadata": {
    "execution": {
     "iopub.execute_input": "2025-07-30T20:14:55.405154Z",
     "iopub.status.busy": "2025-07-30T20:14:55.404651Z",
     "iopub.status.idle": "2025-07-30T20:14:55.409951Z",
     "shell.execute_reply": "2025-07-30T20:14:55.409183Z"
    },
    "papermill": {
     "duration": 0.021105,
     "end_time": "2025-07-30T20:14:55.411441",
     "exception": false,
     "start_time": "2025-07-30T20:14:55.390336",
     "status": "completed"
    },
    "tags": []
   },
   "outputs": [],
   "source": [
    "cp_metrics_df = pd.DataFrame(cp_metrics_dict)"
   ]
  },
  {
   "cell_type": "code",
   "execution_count": 61,
   "id": "db12611b-57b2-4910-b9d0-355adfd6e7bf",
   "metadata": {
    "execution": {
     "iopub.execute_input": "2025-07-30T20:14:55.440774Z",
     "iopub.status.busy": "2025-07-30T20:14:55.440426Z",
     "iopub.status.idle": "2025-07-30T20:14:55.455261Z",
     "shell.execute_reply": "2025-07-30T20:14:55.454228Z"
    },
    "papermill": {
     "duration": 0.030447,
     "end_time": "2025-07-30T20:14:55.456706",
     "exception": false,
     "start_time": "2025-07-30T20:14:55.426259",
     "status": "completed"
    },
    "tags": []
   },
   "outputs": [
    {
     "data": {
      "text/html": [
       "<div>\n",
       "<style scoped>\n",
       "    .dataframe tbody tr th:only-of-type {\n",
       "        vertical-align: middle;\n",
       "    }\n",
       "\n",
       "    .dataframe tbody tr th {\n",
       "        vertical-align: top;\n",
       "    }\n",
       "\n",
       "    .dataframe thead th {\n",
       "        text-align: right;\n",
       "    }\n",
       "</style>\n",
       "<table border=\"1\" class=\"dataframe\">\n",
       "  <thead>\n",
       "    <tr style=\"text-align: right;\">\n",
       "      <th></th>\n",
       "      <th>universe_id</th>\n",
       "      <th>universe_training_year</th>\n",
       "      <th>universe_training_size</th>\n",
       "      <th>universe_scale</th>\n",
       "      <th>universe_model</th>\n",
       "      <th>universe_exclude_features</th>\n",
       "      <th>universe_exclude_subgroups</th>\n",
       "      <th>q_hat</th>\n",
       "      <th>coverage</th>\n",
       "      <th>avg_size</th>\n",
       "    </tr>\n",
       "  </thead>\n",
       "  <tbody>\n",
       "    <tr>\n",
       "      <th>0</th>\n",
       "      <td>5a6029aaf510f4593bc0d2e67594f376</td>\n",
       "      <td>2012_14</td>\n",
       "      <td>25k</td>\n",
       "      <td>scale</td>\n",
       "      <td>elasticnet</td>\n",
       "      <td>sex</td>\n",
       "      <td>keep-all</td>\n",
       "      <td>0.664702</td>\n",
       "      <td>0.911827</td>\n",
       "      <td>1.125382</td>\n",
       "    </tr>\n",
       "  </tbody>\n",
       "</table>\n",
       "</div>"
      ],
      "text/plain": [
       "                        universe_id universe_training_year  \\\n",
       "0  5a6029aaf510f4593bc0d2e67594f376                2012_14   \n",
       "\n",
       "  universe_training_size universe_scale universe_model  \\\n",
       "0                    25k          scale     elasticnet   \n",
       "\n",
       "  universe_exclude_features universe_exclude_subgroups     q_hat  coverage  \\\n",
       "0                       sex                   keep-all  0.664702  0.911827   \n",
       "\n",
       "   avg_size  \n",
       "0  1.125382  "
      ]
     },
     "execution_count": 61,
     "metadata": {},
     "output_type": "execute_result"
    }
   ],
   "source": [
    "cp_metrics_df"
   ]
  },
  {
   "cell_type": "code",
   "execution_count": 62,
   "id": "b7fbde55-a0a1-47e4-9af6-fe4a17fa8c61",
   "metadata": {
    "execution": {
     "iopub.execute_input": "2025-07-30T20:14:55.485385Z",
     "iopub.status.busy": "2025-07-30T20:14:55.484725Z",
     "iopub.status.idle": "2025-07-30T20:14:55.489418Z",
     "shell.execute_reply": "2025-07-30T20:14:55.488630Z"
    },
    "papermill": {
     "duration": 0.019919,
     "end_time": "2025-07-30T20:14:55.490702",
     "exception": false,
     "start_time": "2025-07-30T20:14:55.470783",
     "status": "completed"
    },
    "tags": []
   },
   "outputs": [],
   "source": [
    "# Conditional Coverage & looking at subgroups"
   ]
  },
  {
   "cell_type": "code",
   "execution_count": 63,
   "id": "027ae886-68dd-4141-96c7-805a5450e1ef",
   "metadata": {
    "execution": {
     "iopub.execute_input": "2025-07-30T20:14:55.523359Z",
     "iopub.status.busy": "2025-07-30T20:14:55.523005Z",
     "iopub.status.idle": "2025-07-30T20:14:55.742671Z",
     "shell.execute_reply": "2025-07-30T20:14:55.741910Z"
    },
    "papermill": {
     "duration": 0.235329,
     "end_time": "2025-07-30T20:14:55.744224",
     "exception": false,
     "start_time": "2025-07-30T20:14:55.508895",
     "status": "completed"
    },
    "tags": []
   },
   "outputs": [],
   "source": [
    "from fairness_multiverse.conformal import build_cp_groups\n",
    "\n",
    "cp_groups_df = build_cp_groups(pred_sets, y_true, X_test.index, org_test)\n",
    "#needs universe_id and setting"
   ]
  },
  {
   "cell_type": "code",
   "execution_count": 64,
   "id": "01d5802c-663a-4d1f-9d69-e036faaffbf7",
   "metadata": {
    "execution": {
     "iopub.execute_input": "2025-07-30T20:14:55.774554Z",
     "iopub.status.busy": "2025-07-30T20:14:55.774048Z",
     "iopub.status.idle": "2025-07-30T20:14:55.778189Z",
     "shell.execute_reply": "2025-07-30T20:14:55.777371Z"
    },
    "papermill": {
     "duration": 0.020848,
     "end_time": "2025-07-30T20:14:55.780179",
     "exception": false,
     "start_time": "2025-07-30T20:14:55.759331",
     "status": "completed"
    },
    "tags": []
   },
   "outputs": [],
   "source": [
    "#delete\n",
    "#cp_groups_df"
   ]
  },
  {
   "cell_type": "code",
   "execution_count": 65,
   "id": "fa424af1-d1eb-443d-b717-2d279ada8408",
   "metadata": {
    "execution": {
     "iopub.execute_input": "2025-07-30T20:14:55.833470Z",
     "iopub.status.busy": "2025-07-30T20:14:55.833048Z",
     "iopub.status.idle": "2025-07-30T20:14:55.838082Z",
     "shell.execute_reply": "2025-07-30T20:14:55.837083Z"
    },
    "papermill": {
     "duration": 0.04408,
     "end_time": "2025-07-30T20:14:55.850219",
     "exception": false,
     "start_time": "2025-07-30T20:14:55.806139",
     "status": "completed"
    },
    "tags": []
   },
   "outputs": [],
   "source": [
    "#delete\n",
    "#percentage = (cp_groups_df['nongerman_female'] == 1).mean() * 100\n",
    "#print(percentage)\n"
   ]
  },
  {
   "cell_type": "code",
   "execution_count": 66,
   "id": "6cbdab96-b2b2-45af-ad54-d0516db2e28d",
   "metadata": {
    "execution": {
     "iopub.execute_input": "2025-07-30T20:14:55.902916Z",
     "iopub.status.busy": "2025-07-30T20:14:55.902382Z",
     "iopub.status.idle": "2025-07-30T20:14:57.518641Z",
     "shell.execute_reply": "2025-07-30T20:14:57.517667Z"
    },
    "papermill": {
     "duration": 1.646553,
     "end_time": "2025-07-30T20:14:57.520603",
     "exception": false,
     "start_time": "2025-07-30T20:14:55.874050",
     "status": "completed"
    },
    "tags": []
   },
   "outputs": [],
   "source": [
    "# Define covered = 1 if true_label is in the predicted set\n",
    "cp_groups_df['covered'] = cp_groups_df.apply(\n",
    "    lambda r: int(r['true_label'] in r['pred_set']),\n",
    "    axis=1\n",
    ")"
   ]
  },
  {
   "cell_type": "code",
   "execution_count": 67,
   "id": "338ff529-1a6b-4b87-a931-8e4788d52aad",
   "metadata": {
    "execution": {
     "iopub.execute_input": "2025-07-30T20:14:57.575732Z",
     "iopub.status.busy": "2025-07-30T20:14:57.574843Z",
     "iopub.status.idle": "2025-07-30T20:14:57.579991Z",
     "shell.execute_reply": "2025-07-30T20:14:57.579048Z"
    },
    "papermill": {
     "duration": 0.035118,
     "end_time": "2025-07-30T20:14:57.581963",
     "exception": false,
     "start_time": "2025-07-30T20:14:57.546845",
     "status": "completed"
    },
    "tags": []
   },
   "outputs": [],
   "source": [
    "#cp_groups_df"
   ]
  },
  {
   "cell_type": "code",
   "execution_count": 68,
   "id": "90032e27-66df-4540-9169-4e89cfbaa758",
   "metadata": {
    "execution": {
     "iopub.execute_input": "2025-07-30T20:14:57.634291Z",
     "iopub.status.busy": "2025-07-30T20:14:57.633406Z",
     "iopub.status.idle": "2025-07-30T20:14:57.645222Z",
     "shell.execute_reply": "2025-07-30T20:14:57.644168Z"
    },
    "papermill": {
     "duration": 0.040842,
     "end_time": "2025-07-30T20:14:57.647188",
     "exception": false,
     "start_time": "2025-07-30T20:14:57.606346",
     "status": "completed"
    },
    "tags": []
   },
   "outputs": [],
   "source": [
    "subgroups = ['frau1','nongerman','nongerman_male','nongerman_female']\n",
    "\n",
    "# Conditional coverage for subgroup==1\n",
    "cond_coverage = {\n",
    "    g: cp_groups_df.loc[cp_groups_df[g]==1, 'covered'].mean()\n",
    "    for g in subgroups\n",
    "}"
   ]
  },
  {
   "cell_type": "code",
   "execution_count": 69,
   "id": "1e348fb1-b9c3-45bc-ba23-f016827a7e0d",
   "metadata": {
    "execution": {
     "iopub.execute_input": "2025-07-30T20:14:57.701916Z",
     "iopub.status.busy": "2025-07-30T20:14:57.701226Z",
     "iopub.status.idle": "2025-07-30T20:14:57.708864Z",
     "shell.execute_reply": "2025-07-30T20:14:57.707746Z"
    },
    "papermill": {
     "duration": 0.03653,
     "end_time": "2025-07-30T20:14:57.710526",
     "exception": false,
     "start_time": "2025-07-30T20:14:57.673996",
     "status": "completed"
    },
    "tags": []
   },
   "outputs": [
    {
     "data": {
      "text/plain": [
       "{'frau1': 0.9111740126701712,\n",
       " 'nongerman': 0.9101779599169146,\n",
       " 'nongerman_male': 0.9258758893992615,\n",
       " 'nongerman_female': 0.8842026825633383}"
      ]
     },
     "execution_count": 69,
     "metadata": {},
     "output_type": "execute_result"
    }
   ],
   "source": [
    "cond_coverage"
   ]
  },
  {
   "cell_type": "code",
   "execution_count": 70,
   "id": "f5093324-c3dd-4d63-bc4c-8d945e5c8bbb",
   "metadata": {
    "execution": {
     "iopub.execute_input": "2025-07-30T20:14:57.766305Z",
     "iopub.status.busy": "2025-07-30T20:14:57.765602Z",
     "iopub.status.idle": "2025-07-30T20:14:57.773275Z",
     "shell.execute_reply": "2025-07-30T20:14:57.772153Z"
    },
    "papermill": {
     "duration": 0.037373,
     "end_time": "2025-07-30T20:14:57.775384",
     "exception": false,
     "start_time": "2025-07-30T20:14:57.738011",
     "status": "completed"
    },
    "tags": []
   },
   "outputs": [],
   "source": [
    "for subgroup, cov in cond_coverage.items():\n",
    "    cp_metrics_df[f\"cov_{subgroup}\"] = cov"
   ]
  },
  {
   "cell_type": "code",
   "execution_count": 71,
   "id": "6e872e10-dbe5-49e8-b554-5030c98ff75d",
   "metadata": {
    "execution": {
     "iopub.execute_input": "2025-07-30T20:14:57.829373Z",
     "iopub.status.busy": "2025-07-30T20:14:57.828316Z",
     "iopub.status.idle": "2025-07-30T20:14:57.847872Z",
     "shell.execute_reply": "2025-07-30T20:14:57.846816Z"
    },
    "papermill": {
     "duration": 0.048932,
     "end_time": "2025-07-30T20:14:57.850033",
     "exception": false,
     "start_time": "2025-07-30T20:14:57.801101",
     "status": "completed"
    },
    "tags": []
   },
   "outputs": [
    {
     "data": {
      "text/html": [
       "<div>\n",
       "<style scoped>\n",
       "    .dataframe tbody tr th:only-of-type {\n",
       "        vertical-align: middle;\n",
       "    }\n",
       "\n",
       "    .dataframe tbody tr th {\n",
       "        vertical-align: top;\n",
       "    }\n",
       "\n",
       "    .dataframe thead th {\n",
       "        text-align: right;\n",
       "    }\n",
       "</style>\n",
       "<table border=\"1\" class=\"dataframe\">\n",
       "  <thead>\n",
       "    <tr style=\"text-align: right;\">\n",
       "      <th></th>\n",
       "      <th>universe_id</th>\n",
       "      <th>universe_training_year</th>\n",
       "      <th>universe_training_size</th>\n",
       "      <th>universe_scale</th>\n",
       "      <th>universe_model</th>\n",
       "      <th>universe_exclude_features</th>\n",
       "      <th>universe_exclude_subgroups</th>\n",
       "      <th>q_hat</th>\n",
       "      <th>coverage</th>\n",
       "      <th>avg_size</th>\n",
       "      <th>cov_frau1</th>\n",
       "      <th>cov_nongerman</th>\n",
       "      <th>cov_nongerman_male</th>\n",
       "      <th>cov_nongerman_female</th>\n",
       "    </tr>\n",
       "  </thead>\n",
       "  <tbody>\n",
       "    <tr>\n",
       "      <th>0</th>\n",
       "      <td>5a6029aaf510f4593bc0d2e67594f376</td>\n",
       "      <td>2012_14</td>\n",
       "      <td>25k</td>\n",
       "      <td>scale</td>\n",
       "      <td>elasticnet</td>\n",
       "      <td>sex</td>\n",
       "      <td>keep-all</td>\n",
       "      <td>0.664702</td>\n",
       "      <td>0.911827</td>\n",
       "      <td>1.125382</td>\n",
       "      <td>0.911174</td>\n",
       "      <td>0.910178</td>\n",
       "      <td>0.925876</td>\n",
       "      <td>0.884203</td>\n",
       "    </tr>\n",
       "  </tbody>\n",
       "</table>\n",
       "</div>"
      ],
      "text/plain": [
       "                        universe_id universe_training_year  \\\n",
       "0  5a6029aaf510f4593bc0d2e67594f376                2012_14   \n",
       "\n",
       "  universe_training_size universe_scale universe_model  \\\n",
       "0                    25k          scale     elasticnet   \n",
       "\n",
       "  universe_exclude_features universe_exclude_subgroups     q_hat  coverage  \\\n",
       "0                       sex                   keep-all  0.664702  0.911827   \n",
       "\n",
       "   avg_size  cov_frau1  cov_nongerman  cov_nongerman_male  \\\n",
       "0  1.125382   0.911174       0.910178            0.925876   \n",
       "\n",
       "   cov_nongerman_female  \n",
       "0              0.884203  "
      ]
     },
     "execution_count": 71,
     "metadata": {},
     "output_type": "execute_result"
    }
   ],
   "source": [
    "cp_metrics_df"
   ]
  },
  {
   "cell_type": "markdown",
   "id": "33774451",
   "metadata": {
    "papermill": {
     "duration": 0.02679,
     "end_time": "2025-07-30T20:14:57.914742",
     "exception": false,
     "start_time": "2025-07-30T20:14:57.887952",
     "status": "completed"
    },
    "tags": []
   },
   "source": [
    "# (Fairness) Metrics"
   ]
  },
  {
   "cell_type": "code",
   "execution_count": 72,
   "id": "debc5d62",
   "metadata": {
    "execution": {
     "iopub.execute_input": "2025-07-30T20:14:57.969043Z",
     "iopub.status.busy": "2025-07-30T20:14:57.968344Z",
     "iopub.status.idle": "2025-07-30T20:14:57.991758Z",
     "shell.execute_reply": "2025-07-30T20:14:57.990836Z"
    },
    "papermill": {
     "duration": 0.053193,
     "end_time": "2025-07-30T20:14:57.993830",
     "exception": false,
     "start_time": "2025-07-30T20:14:57.940637",
     "status": "completed"
    },
    "tags": []
   },
   "outputs": [],
   "source": [
    "# do I need to include maxdeutsch1.missing?\n",
    "\n",
    "import numpy as np\n",
    "\n",
    "colname_to_bin = \"maxdeutsch1\"\n",
    "majority_value = org_train[colname_to_bin].mode()[0]\n",
    "\n",
    "org_test[\"majmin\"] = np.where(org_test[colname_to_bin] == majority_value, \"majority\", \"minority\")"
   ]
  },
  {
   "cell_type": "code",
   "execution_count": 73,
   "id": "06a50de5",
   "metadata": {
    "execution": {
     "iopub.execute_input": "2025-07-30T20:14:58.047247Z",
     "iopub.status.busy": "2025-07-30T20:14:58.046747Z",
     "iopub.status.idle": "2025-07-30T20:14:59.904982Z",
     "shell.execute_reply": "2025-07-30T20:14:59.903939Z"
    },
    "papermill": {
     "duration": 1.886879,
     "end_time": "2025-07-30T20:14:59.906860",
     "exception": false,
     "start_time": "2025-07-30T20:14:58.019981",
     "status": "completed"
    },
    "tags": []
   },
   "outputs": [],
   "source": [
    "example_universe = universe.copy()\n",
    "example_universe[\"cutoff\"] = example_universe[\"cutoff\"][0]\n",
    "example_universe[\"eval_fairness_grouping\"] = example_universe[\"eval_fairness_grouping\"][0]\n",
    "fairness_dict, metric_frame = universe_analysis.compute_metrics(\n",
    "    example_universe,\n",
    "    y_pred_prob=probs_test,\n",
    "    y_test=y_true,\n",
    "    org_test=org_test,\n",
    ")"
   ]
  },
  {
   "cell_type": "markdown",
   "id": "f95d4e02",
   "metadata": {
    "papermill": {
     "duration": 0.036928,
     "end_time": "2025-07-30T20:14:59.969341",
     "exception": false,
     "start_time": "2025-07-30T20:14:59.932413",
     "status": "completed"
    },
    "tags": []
   },
   "source": [
    "# Overall"
   ]
  },
  {
   "cell_type": "markdown",
   "id": "bdee4871",
   "metadata": {
    "papermill": {
     "duration": 0.039062,
     "end_time": "2025-07-30T20:15:00.044604",
     "exception": false,
     "start_time": "2025-07-30T20:15:00.005542",
     "status": "completed"
    },
    "tags": []
   },
   "source": [
    "Fairness\n",
    "Main fairness target: Equalized Odds. Seems to be a better fit than equal opportunity, since we're not only interested in Y = 1. Seems to be a better fit than demographic parity, since we also care about accuracy, not just equal distribution of preds.\n",
    "\n",
    "Pick column for computation of fairness metrics\n",
    "\n",
    "Performance\n",
    "Overall performance measures, most interesting in relation to the measures split by group below"
   ]
  },
  {
   "cell_type": "code",
   "execution_count": 74,
   "id": "c4e067c6",
   "metadata": {
    "execution": {
     "iopub.execute_input": "2025-07-30T20:15:00.125163Z",
     "iopub.status.busy": "2025-07-30T20:15:00.124570Z",
     "iopub.status.idle": "2025-07-30T20:15:00.135240Z",
     "shell.execute_reply": "2025-07-30T20:15:00.134228Z"
    },
    "papermill": {
     "duration": 0.05298,
     "end_time": "2025-07-30T20:15:00.136938",
     "exception": false,
     "start_time": "2025-07-30T20:15:00.083958",
     "status": "completed"
    },
    "tags": []
   },
   "outputs": [
    {
     "data": {
      "text/plain": [
       "accuracy                   0.225426\n",
       "balanced accuracy          0.550978\n",
       "f1                         0.246729\n",
       "precision                  0.140948\n",
       "false positive rate        0.886921\n",
       "false negative rate        0.011123\n",
       "selection rate             0.900000\n",
       "count                  89710.000000\n",
       "dtype: float64"
      ]
     },
     "execution_count": 74,
     "metadata": {},
     "output_type": "execute_result"
    }
   ],
   "source": [
    "metric_frame.overall"
   ]
  },
  {
   "cell_type": "markdown",
   "id": "e968fe9d",
   "metadata": {
    "papermill": {
     "duration": 0.025524,
     "end_time": "2025-07-30T20:15:00.188694",
     "exception": false,
     "start_time": "2025-07-30T20:15:00.163170",
     "status": "completed"
    },
    "tags": []
   },
   "source": [
    "By Group"
   ]
  },
  {
   "cell_type": "code",
   "execution_count": 75,
   "id": "ec325bce",
   "metadata": {
    "execution": {
     "iopub.execute_input": "2025-07-30T20:15:00.241514Z",
     "iopub.status.busy": "2025-07-30T20:15:00.240825Z",
     "iopub.status.idle": "2025-07-30T20:15:00.257905Z",
     "shell.execute_reply": "2025-07-30T20:15:00.256685Z"
    },
    "papermill": {
     "duration": 0.045768,
     "end_time": "2025-07-30T20:15:00.259730",
     "exception": false,
     "start_time": "2025-07-30T20:15:00.213962",
     "status": "completed"
    },
    "tags": []
   },
   "outputs": [
    {
     "data": {
      "text/html": [
       "<div>\n",
       "<style scoped>\n",
       "    .dataframe tbody tr th:only-of-type {\n",
       "        vertical-align: middle;\n",
       "    }\n",
       "\n",
       "    .dataframe tbody tr th {\n",
       "        vertical-align: top;\n",
       "    }\n",
       "\n",
       "    .dataframe thead th {\n",
       "        text-align: right;\n",
       "    }\n",
       "</style>\n",
       "<table border=\"1\" class=\"dataframe\">\n",
       "  <thead>\n",
       "    <tr style=\"text-align: right;\">\n",
       "      <th></th>\n",
       "      <th>accuracy</th>\n",
       "      <th>balanced accuracy</th>\n",
       "      <th>f1</th>\n",
       "      <th>precision</th>\n",
       "      <th>false positive rate</th>\n",
       "      <th>false negative rate</th>\n",
       "      <th>selection rate</th>\n",
       "      <th>count</th>\n",
       "    </tr>\n",
       "    <tr>\n",
       "      <th>majmin</th>\n",
       "      <th></th>\n",
       "      <th></th>\n",
       "      <th></th>\n",
       "      <th></th>\n",
       "      <th></th>\n",
       "      <th></th>\n",
       "      <th></th>\n",
       "      <th></th>\n",
       "    </tr>\n",
       "  </thead>\n",
       "  <tbody>\n",
       "    <tr>\n",
       "      <th>majority</th>\n",
       "      <td>0.246971</td>\n",
       "      <td>0.560965</td>\n",
       "      <td>0.257417</td>\n",
       "      <td>0.147993</td>\n",
       "      <td>0.865817</td>\n",
       "      <td>0.012254</td>\n",
       "      <td>0.881929</td>\n",
       "      <td>69170.0</td>\n",
       "    </tr>\n",
       "    <tr>\n",
       "      <th>minority</th>\n",
       "      <td>0.152872</td>\n",
       "      <td>0.518303</td>\n",
       "      <td>0.212812</td>\n",
       "      <td>0.119173</td>\n",
       "      <td>0.956637</td>\n",
       "      <td>0.006757</td>\n",
       "      <td>0.960857</td>\n",
       "      <td>20540.0</td>\n",
       "    </tr>\n",
       "  </tbody>\n",
       "</table>\n",
       "</div>"
      ],
      "text/plain": [
       "          accuracy  balanced accuracy        f1  precision  \\\n",
       "majmin                                                       \n",
       "majority  0.246971           0.560965  0.257417   0.147993   \n",
       "minority  0.152872           0.518303  0.212812   0.119173   \n",
       "\n",
       "          false positive rate  false negative rate  selection rate    count  \n",
       "majmin                                                                       \n",
       "majority             0.865817             0.012254        0.881929  69170.0  \n",
       "minority             0.956637             0.006757        0.960857  20540.0  "
      ]
     },
     "execution_count": 75,
     "metadata": {},
     "output_type": "execute_result"
    }
   ],
   "source": [
    "metric_frame.by_group"
   ]
  },
  {
   "cell_type": "code",
   "execution_count": 76,
   "id": "a9ddbe63",
   "metadata": {
    "execution": {
     "iopub.execute_input": "2025-07-30T20:15:00.313984Z",
     "iopub.status.busy": "2025-07-30T20:15:00.313136Z",
     "iopub.status.idle": "2025-07-30T20:15:02.641794Z",
     "shell.execute_reply": "2025-07-30T20:15:02.640947Z"
    },
    "papermill": {
     "duration": 2.357188,
     "end_time": "2025-07-30T20:15:02.643268",
     "exception": false,
     "start_time": "2025-07-30T20:15:00.286080",
     "status": "completed"
    },
    "tags": []
   },
   "outputs": [
    {
     "data": {
      "text/plain": [
       "array([[<Axes: title={'center': 'accuracy'}, xlabel='majmin'>,\n",
       "        <Axes: title={'center': 'balanced accuracy'}, xlabel='majmin'>,\n",
       "        <Axes: title={'center': 'f1'}, xlabel='majmin'>],\n",
       "       [<Axes: title={'center': 'precision'}, xlabel='majmin'>,\n",
       "        <Axes: title={'center': 'false positive rate'}, xlabel='majmin'>,\n",
       "        <Axes: title={'center': 'false negative rate'}, xlabel='majmin'>],\n",
       "       [<Axes: title={'center': 'selection rate'}, xlabel='majmin'>,\n",
       "        <Axes: title={'center': 'count'}, xlabel='majmin'>,\n",
       "        <Axes: xlabel='majmin'>]], dtype=object)"
      ]
     },
     "execution_count": 76,
     "metadata": {},
     "output_type": "execute_result"
    },
    {
     "data": {
      "image/png": "[encoded data removed]",
      "text/plain": [
       "<Figure size 1200x800 with 9 Axes>"
      ]
     },
     "metadata": {},
     "output_type": "display_data"
    }
   ],
   "source": [
    "# In a graphic\n",
    "metric_frame.by_group.plot.bar(\n",
    "    subplots=True,\n",
    "    layout=[3, 3],\n",
    "    legend=False,\n",
    "    figsize=[12, 8],\n",
    "    title=\"Show all metrics\",\n",
    ")"
   ]
  },
  {
   "cell_type": "markdown",
   "id": "f57a0bac",
   "metadata": {
    "papermill": {
     "duration": 0.026965,
     "end_time": "2025-07-30T20:15:02.699937",
     "exception": false,
     "start_time": "2025-07-30T20:15:02.672972",
     "status": "completed"
    },
    "tags": []
   },
   "source": [
    "# Final Output"
   ]
  },
  {
   "cell_type": "code",
   "execution_count": 77,
   "id": "96d280a3",
   "metadata": {
    "execution": {
     "iopub.execute_input": "2025-07-30T20:15:02.753909Z",
     "iopub.status.busy": "2025-07-30T20:15:02.753317Z",
     "iopub.status.idle": "2025-07-30T20:15:02.760908Z",
     "shell.execute_reply": "2025-07-30T20:15:02.759978Z"
    },
    "papermill": {
     "duration": 0.036646,
     "end_time": "2025-07-30T20:15:02.762327",
     "exception": false,
     "start_time": "2025-07-30T20:15:02.725681",
     "status": "completed"
    },
    "tags": []
   },
   "outputs": [
    {
     "data": {
      "text/plain": [
       "4"
      ]
     },
     "execution_count": 77,
     "metadata": {},
     "output_type": "execute_result"
    }
   ],
   "source": [
    "sub_universes = universe_analysis.generate_sub_universes()\n",
    "len(sub_universes)"
   ]
  },
  {
   "cell_type": "code",
   "execution_count": 78,
   "id": "92adf7ba",
   "metadata": {
    "execution": {
     "iopub.execute_input": "2025-07-30T20:15:02.819079Z",
     "iopub.status.busy": "2025-07-30T20:15:02.818209Z",
     "iopub.status.idle": "2025-07-30T20:15:02.824980Z",
     "shell.execute_reply": "2025-07-30T20:15:02.823980Z"
    },
    "papermill": {
     "duration": 0.037616,
     "end_time": "2025-07-30T20:15:02.826603",
     "exception": false,
     "start_time": "2025-07-30T20:15:02.788987",
     "status": "completed"
    },
    "tags": []
   },
   "outputs": [],
   "source": [
    "def filter_sub_universe_data(sub_universe, org_test):\n",
    "    # Keep all rows — no filtering\n",
    "    keep_rows_mask = np.ones(org_test.shape[0], dtype=bool)\n",
    "\n",
    "    print(f\"[INFO] Keeping all rows: {keep_rows_mask.sum()} rows retained.\")\n",
    "    return keep_rows_mask"
   ]
  },
  {
   "cell_type": "code",
   "execution_count": 79,
   "id": "4a759155",
   "metadata": {
    "execution": {
     "iopub.execute_input": "2025-07-30T20:15:02.882192Z",
     "iopub.status.busy": "2025-07-30T20:15:02.881711Z",
     "iopub.status.idle": "2025-07-30T20:15:12.924969Z",
     "shell.execute_reply": "2025-07-30T20:15:12.924043Z"
    },
    "papermill": {
     "duration": 10.072047,
     "end_time": "2025-07-30T20:15:12.926502",
     "exception": false,
     "start_time": "2025-07-30T20:15:02.854455",
     "status": "completed"
    },
    "tags": []
   },
   "outputs": [
    {
     "name": "stdout",
     "output_type": "stream",
     "text": [
      "Stopping execution_time clock.\n",
      "[INFO] Keeping all rows: 89710 rows retained.\n"
     ]
    },
    {
     "name": "stdout",
     "output_type": "stream",
     "text": [
      "[INFO] Keeping all rows: 89710 rows retained.\n"
     ]
    },
    {
     "name": "stdout",
     "output_type": "stream",
     "text": [
      "[INFO] Keeping all rows: 89710 rows retained.\n"
     ]
    },
    {
     "name": "stdout",
     "output_type": "stream",
     "text": [
      "[INFO] Keeping all rows: 89710 rows retained.\n"
     ]
    },
    {
     "data": {
      "text/html": [
       "<div>\n",
       "<style scoped>\n",
       "    .dataframe tbody tr th:only-of-type {\n",
       "        vertical-align: middle;\n",
       "    }\n",
       "\n",
       "    .dataframe tbody tr th {\n",
       "        vertical-align: top;\n",
       "    }\n",
       "\n",
       "    .dataframe thead th {\n",
       "        text-align: right;\n",
       "    }\n",
       "</style>\n",
       "<table border=\"1\" class=\"dataframe\">\n",
       "  <thead>\n",
       "    <tr style=\"text-align: right;\">\n",
       "      <th></th>\n",
       "      <th>run_no</th>\n",
       "      <th>universe_id</th>\n",
       "      <th>universe_settings</th>\n",
       "      <th>execution_time</th>\n",
       "      <th>test_size_n</th>\n",
       "      <th>test_size_frac</th>\n",
       "      <th>fair_main_equalized_odds_difference</th>\n",
       "      <th>fair_main_equalized_odds_ratio</th>\n",
       "      <th>fair_main_demographic_parity_difference</th>\n",
       "      <th>fair_main_demographic_parity_ratio</th>\n",
       "      <th>...</th>\n",
       "      <th>perf_grp_precision_0</th>\n",
       "      <th>perf_grp_precision_1</th>\n",
       "      <th>perf_grp_false positive rate_0</th>\n",
       "      <th>perf_grp_false positive rate_1</th>\n",
       "      <th>perf_grp_false negative rate_0</th>\n",
       "      <th>perf_grp_false negative rate_1</th>\n",
       "      <th>perf_grp_selection rate_0</th>\n",
       "      <th>perf_grp_selection rate_1</th>\n",
       "      <th>perf_grp_count_0</th>\n",
       "      <th>perf_grp_count_1</th>\n",
       "    </tr>\n",
       "  </thead>\n",
       "  <tbody>\n",
       "    <tr>\n",
       "      <th>0</th>\n",
       "      <td>14</td>\n",
       "      <td>5a6029aaf510f4593bc0d2e67594f376</td>\n",
       "      <td>{\"cutoff\": \"quantile_0.1\", \"eval_fairness_grou...</td>\n",
       "      <td>45.106747</td>\n",
       "      <td>89710</td>\n",
       "      <td>1.0</td>\n",
       "      <td>0.090819</td>\n",
       "      <td>0.905064</td>\n",
       "      <td>0.078928</td>\n",
       "      <td>0.917856</td>\n",
       "      <td>...</td>\n",
       "      <td>NaN</td>\n",
       "      <td>NaN</td>\n",
       "      <td>NaN</td>\n",
       "      <td>NaN</td>\n",
       "      <td>NaN</td>\n",
       "      <td>NaN</td>\n",
       "      <td>NaN</td>\n",
       "      <td>NaN</td>\n",
       "      <td>NaN</td>\n",
       "      <td>NaN</td>\n",
       "    </tr>\n",
       "    <tr>\n",
       "      <th>0</th>\n",
       "      <td>14</td>\n",
       "      <td>5a6029aaf510f4593bc0d2e67594f376</td>\n",
       "      <td>{\"cutoff\": \"quantile_0.1\", \"eval_fairness_grou...</td>\n",
       "      <td>45.106747</td>\n",
       "      <td>89710</td>\n",
       "      <td>1.0</td>\n",
       "      <td>0.090819</td>\n",
       "      <td>0.905064</td>\n",
       "      <td>0.078928</td>\n",
       "      <td>0.917856</td>\n",
       "      <td>...</td>\n",
       "      <td>0.119173</td>\n",
       "      <td>0.147993</td>\n",
       "      <td>0.956637</td>\n",
       "      <td>0.865817</td>\n",
       "      <td>0.006757</td>\n",
       "      <td>0.012254</td>\n",
       "      <td>0.960857</td>\n",
       "      <td>0.881929</td>\n",
       "      <td>20540.0</td>\n",
       "      <td>69170.0</td>\n",
       "    </tr>\n",
       "    <tr>\n",
       "      <th>0</th>\n",
       "      <td>14</td>\n",
       "      <td>5a6029aaf510f4593bc0d2e67594f376</td>\n",
       "      <td>{\"cutoff\": \"quantile_0.25\", \"eval_fairness_gro...</td>\n",
       "      <td>45.106747</td>\n",
       "      <td>89710</td>\n",
       "      <td>1.0</td>\n",
       "      <td>0.156759</td>\n",
       "      <td>0.813523</td>\n",
       "      <td>0.135953</td>\n",
       "      <td>0.840957</td>\n",
       "      <td>...</td>\n",
       "      <td>NaN</td>\n",
       "      <td>NaN</td>\n",
       "      <td>NaN</td>\n",
       "      <td>NaN</td>\n",
       "      <td>NaN</td>\n",
       "      <td>NaN</td>\n",
       "      <td>NaN</td>\n",
       "      <td>NaN</td>\n",
       "      <td>NaN</td>\n",
       "      <td>NaN</td>\n",
       "    </tr>\n",
       "    <tr>\n",
       "      <th>0</th>\n",
       "      <td>14</td>\n",
       "      <td>5a6029aaf510f4593bc0d2e67594f376</td>\n",
       "      <td>{\"cutoff\": \"quantile_0.25\", \"eval_fairness_gro...</td>\n",
       "      <td>45.106747</td>\n",
       "      <td>89710</td>\n",
       "      <td>1.0</td>\n",
       "      <td>0.156759</td>\n",
       "      <td>0.813523</td>\n",
       "      <td>0.135953</td>\n",
       "      <td>0.840957</td>\n",
       "      <td>...</td>\n",
       "      <td>0.129969</td>\n",
       "      <td>0.174383</td>\n",
       "      <td>0.840634</td>\n",
       "      <td>0.683875</td>\n",
       "      <td>0.036318</td>\n",
       "      <td>0.051313</td>\n",
       "      <td>0.854820</td>\n",
       "      <td>0.718867</td>\n",
       "      <td>20540.0</td>\n",
       "      <td>69170.0</td>\n",
       "    </tr>\n",
       "  </tbody>\n",
       "</table>\n",
       "<p>4 rows × 50 columns</p>\n",
       "</div>"
      ],
      "text/plain": [
       "  run_no                       universe_id  \\\n",
       "0     14  5a6029aaf510f4593bc0d2e67594f376   \n",
       "0     14  5a6029aaf510f4593bc0d2e67594f376   \n",
       "0     14  5a6029aaf510f4593bc0d2e67594f376   \n",
       "0     14  5a6029aaf510f4593bc0d2e67594f376   \n",
       "\n",
       "                                   universe_settings  execution_time  \\\n",
       "0  {\"cutoff\": \"quantile_0.1\", \"eval_fairness_grou...       45.106747   \n",
       "0  {\"cutoff\": \"quantile_0.1\", \"eval_fairness_grou...       45.106747   \n",
       "0  {\"cutoff\": \"quantile_0.25\", \"eval_fairness_gro...       45.106747   \n",
       "0  {\"cutoff\": \"quantile_0.25\", \"eval_fairness_gro...       45.106747   \n",
       "\n",
       "   test_size_n  test_size_frac  fair_main_equalized_odds_difference  \\\n",
       "0        89710             1.0                             0.090819   \n",
       "0        89710             1.0                             0.090819   \n",
       "0        89710             1.0                             0.156759   \n",
       "0        89710             1.0                             0.156759   \n",
       "\n",
       "   fair_main_equalized_odds_ratio  fair_main_demographic_parity_difference  \\\n",
       "0                        0.905064                                 0.078928   \n",
       "0                        0.905064                                 0.078928   \n",
       "0                        0.813523                                 0.135953   \n",
       "0                        0.813523                                 0.135953   \n",
       "\n",
       "   fair_main_demographic_parity_ratio  ...  perf_grp_precision_0  \\\n",
       "0                            0.917856  ...                   NaN   \n",
       "0                            0.917856  ...              0.119173   \n",
       "0                            0.840957  ...                   NaN   \n",
       "0                            0.840957  ...              0.129969   \n",
       "\n",
       "   perf_grp_precision_1  perf_grp_false positive rate_0  \\\n",
       "0                   NaN                             NaN   \n",
       "0              0.147993                        0.956637   \n",
       "0                   NaN                             NaN   \n",
       "0              0.174383                        0.840634   \n",
       "\n",
       "   perf_grp_false positive rate_1  perf_grp_false negative rate_0  \\\n",
       "0                             NaN                             NaN   \n",
       "0                        0.865817                        0.006757   \n",
       "0                             NaN                             NaN   \n",
       "0                        0.683875                        0.036318   \n",
       "\n",
       "   perf_grp_false negative rate_1  perf_grp_selection rate_0  \\\n",
       "0                             NaN                        NaN   \n",
       "0                        0.012254                   0.960857   \n",
       "0                             NaN                        NaN   \n",
       "0                        0.051313                   0.854820   \n",
       "\n",
       "   perf_grp_selection rate_1  perf_grp_count_0  perf_grp_count_1  \n",
       "0                        NaN               NaN               NaN  \n",
       "0                   0.881929           20540.0           69170.0  \n",
       "0                        NaN               NaN               NaN  \n",
       "0                   0.718867           20540.0           69170.0  \n",
       "\n",
       "[4 rows x 50 columns]"
      ]
     },
     "execution_count": 79,
     "metadata": {},
     "output_type": "execute_result"
    }
   ],
   "source": [
    "final_output = universe_analysis.generate_final_output(\n",
    "    y_pred_prob=probs_test,\n",
    "    y_test=y_true,\n",
    "    org_test=org_test,\n",
    "    filter_data=filter_sub_universe_data,\n",
    "    cp_metrics_df=cp_metrics_df,\n",
    "    save=True,\n",
    ")\n",
    "final_output"
   ]
  },
  {
   "cell_type": "code",
   "execution_count": null,
   "id": "721ff514-cb11-46f8-b6fc-50392f74b5cb",
   "metadata": {
    "papermill": {
     "duration": 0.027564,
     "end_time": "2025-07-30T20:15:12.984562",
     "exception": false,
     "start_time": "2025-07-30T20:15:12.956998",
     "status": "completed"
    },
    "tags": []
   },
   "outputs": [],
   "source": []
  }
 ],
 "metadata": {
  "celltoolbar": "Tags",
  "kernelspec": {
   "display_name": "Python (CMA Fairness)",
   "language": "python",
   "name": "cma_fair_env"
  },
  "language_info": {
   "codemirror_mode": {
    "name": "ipython",
    "version": 3
   },
   "file_extension": ".py",
   "mimetype": "text/x-python",
   "name": "python",
   "nbconvert_exporter": "python",
   "pygments_lexer": "ipython3",
   "version": "3.10.12"
  },
  "papermill": {
   "default_parameters": {},
   "duration": 59.422788,
   "end_time": "2025-07-30T20:15:13.833246",
   "environment_variables": {},
   "exception": null,
   "input_path": "universe_analysis.ipynb",
   "output_path": "output/runs/14/notebooks/m_14-5a6029aaf510f4593bc0d2e67594f376.ipynb",
   "parameters": {
    "output_dir": "output",
    "run_no": "14",
    "seed": "2023",
    "universe": "{\"cutoff\": [\"quantile_0.1\", \"quantile_0.25\"], \"eval_fairness_grouping\": [\"majority-minority\", \"nationality-all\"], \"exclude_features\": \"sex\", \"exclude_subgroups\": \"keep-all\", \"model\": \"elasticnet\", \"scale\": \"scale\", \"training_size\": \"25k\", \"training_year\": \"2012_14\"}",
    "universe_id": "5a6029aaf510f4593bc0d2e67594f376"
   },
   "start_time": "2025-07-30T20:14:14.410458",
   "version": "2.6.0"
  }
 },
 "nbformat": 4,
 "nbformat_minor": 5
}