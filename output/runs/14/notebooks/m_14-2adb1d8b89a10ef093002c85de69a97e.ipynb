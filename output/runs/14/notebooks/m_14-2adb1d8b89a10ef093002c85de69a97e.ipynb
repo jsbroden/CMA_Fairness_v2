{
 "cells": [
  {
   "cell_type": "code",
   "execution_count": 1,
   "id": "f159f837-637b-42ba-96b5-ec9a68c44524",
   "metadata": {
    "execution": {
     "iopub.execute_input": "2025-07-30T21:29:00.150419Z",
     "iopub.status.busy": "2025-07-30T21:29:00.149759Z",
     "iopub.status.idle": "2025-07-30T21:29:00.170246Z",
     "shell.execute_reply": "2025-07-30T21:29:00.169249Z"
    },
    "papermill": {
     "duration": 0.043736,
     "end_time": "2025-07-30T21:29:00.172180",
     "exception": false,
     "start_time": "2025-07-30T21:29:00.128444",
     "status": "completed"
    },
    "tags": []
   },
   "outputs": [
    {
     "name": "stdout",
     "output_type": "stream",
     "text": [
      "/dss/dsshome1/0C/ra93lal2/cma/CMA_Fairness_v2\n"
     ]
    },
    {
     "name": "stderr",
     "output_type": "stream",
     "text": [
      "/dss/dsshome1/0C/ra93lal2/.local/share/virtualenvs/CMA_Fairness_v2-3j10GkSs/lib/python3.10/site-packages/IPython/core/magics/osm.py:393: UserWarning: This is now an optional IPython functionality, using bookmarks requires you to install the `pickleshare` library.\n",
      "  bkms = self.shell.db.get('bookmarks', {})\n",
      "/dss/dsshome1/0C/ra93lal2/.local/share/virtualenvs/CMA_Fairness_v2-3j10GkSs/lib/python3.10/site-packages/IPython/core/magics/osm.py:417: UserWarning: This is now an optional IPython functionality, setting dhist requires you to install the `pickleshare` library.\n",
      "  self.shell.db['dhist'] = compress_dhist(dhist)[-100:]\n"
     ]
    }
   ],
   "source": [
    "%cd ~/cma/CMA_Fairness_v2"
   ]
  },
  {
   "cell_type": "markdown",
   "id": "de2603b9",
   "metadata": {
    "papermill": {
     "duration": 0.020405,
     "end_time": "2025-07-30T21:29:00.213858",
     "exception": false,
     "start_time": "2025-07-30T21:29:00.193453",
     "status": "completed"
    },
    "tags": []
   },
   "source": [
    "The following cell holds the definition of our parameters, these values can be overriden by rendering the with e.g. the following command:\n",
    "\n",
    "papermill -p alpha 0.2 -p ratio 0.3 universe_analysis.ipynb output/test_run.ipynb"
   ]
  },
  {
   "cell_type": "code",
   "execution_count": 2,
   "id": "a80968a0-40bb-4fa9-85ef-2d5eefb01975",
   "metadata": {
    "execution": {
     "iopub.execute_input": "2025-07-30T21:29:00.256148Z",
     "iopub.status.busy": "2025-07-30T21:29:00.255596Z",
     "iopub.status.idle": "2025-07-30T21:29:00.262453Z",
     "shell.execute_reply": "2025-07-30T21:29:00.261412Z"
    },
    "papermill": {
     "duration": 0.03015,
     "end_time": "2025-07-30T21:29:00.264208",
     "exception": false,
     "start_time": "2025-07-30T21:29:00.234058",
     "status": "completed"
    },
    "tags": []
   },
   "outputs": [
    {
     "name": "stdout",
     "output_type": "stream",
     "text": [
      "Current working directory: /dss/dsshome1/0C/ra93lal2/cma/CMA_Fairness_v2\n"
     ]
    }
   ],
   "source": [
    "import os\n",
    "print(\"Current working directory:\", os.getcwd())"
   ]
  },
  {
   "cell_type": "code",
   "execution_count": 3,
   "id": "2dce4c03",
   "metadata": {
    "execution": {
     "iopub.execute_input": "2025-07-30T21:29:00.306598Z",
     "iopub.status.busy": "2025-07-30T21:29:00.306104Z",
     "iopub.status.idle": "2025-07-30T21:29:00.312931Z",
     "shell.execute_reply": "2025-07-30T21:29:00.311858Z"
    },
    "papermill": {
     "duration": 0.03088,
     "end_time": "2025-07-30T21:29:00.314607",
     "exception": false,
     "start_time": "2025-07-30T21:29:00.283727",
     "status": "completed"
    },
    "tags": [
     "parameters"
    ]
   },
   "outputs": [],
   "source": [
    "run_no = 0\n",
    "universe_id = \"test\"\n",
    "universe = {\n",
    "    \"training_size\": \"25k\", # \"25k\", \"5k\", \"1k\"\n",
    "    \"training_year\": \"2014\", # \"2014\", \"2012_14\", \"2010_14\"\n",
    "    \"scale\": \"scale\", # \"scale\", \"do-not-scale\",\n",
    "    #\"stratify_split\": \"target\", # \"none\", \"target\", \"protected-attribute\", \"both\",\n",
    "    \"model\": \"elasticnet\", # \"logreg\", \"penalized_logreg\", \"rf\", \"gbm\", \"elasticnet\"\n",
    "    \"cutoff\": [\"quantile_0.15\", \"quantile_0.30\"],\n",
    "    \"exclude_features\": \"age\", # \"none\", \"nationality\", \"sex\", \"nationality-sex\", \"age\"\n",
    "    \"exclude_subgroups\": \"keep-all\", # \"keep-all\", \"drop-non-german\"\n",
    "    \"eval_fairness_grouping\": [\"majority-minority\", \"nationality-all\"]\n",
    "}\n",
    "\n",
    "output_dir=\"./output\"\n",
    "seed=0"
   ]
  },
  {
   "cell_type": "code",
   "execution_count": 4,
   "id": "1b76b6a7",
   "metadata": {
    "execution": {
     "iopub.execute_input": "2025-07-30T21:29:00.358352Z",
     "iopub.status.busy": "2025-07-30T21:29:00.357858Z",
     "iopub.status.idle": "2025-07-30T21:29:00.365103Z",
     "shell.execute_reply": "2025-07-30T21:29:00.364114Z"
    },
    "papermill": {
     "duration": 0.029825,
     "end_time": "2025-07-30T21:29:00.366668",
     "exception": false,
     "start_time": "2025-07-30T21:29:00.336843",
     "status": "completed"
    },
    "tags": [
     "injected-parameters"
    ]
   },
   "outputs": [],
   "source": [
    "# Parameters\n",
    "universe_id = \"2adb1d8b89a10ef093002c85de69a97e\"\n",
    "run_no = \"14\"\n",
    "universe = \"{\\\"cutoff\\\": [\\\"quantile_0.1\\\", \\\"quantile_0.25\\\"], \\\"eval_fairness_grouping\\\": [\\\"majority-minority\\\", \\\"nationality-all\\\"], \\\"exclude_features\\\": \\\"none\\\", \\\"exclude_subgroups\\\": \\\"drop-non-german\\\", \\\"model\\\": \\\"rf\\\", \\\"scale\\\": \\\"do-not-scale\\\", \\\"training_size\\\": \\\"1k\\\", \\\"training_year\\\": \\\"2014\\\"}\"\n",
    "output_dir = \"output\"\n",
    "seed = \"2023\"\n"
   ]
  },
  {
   "cell_type": "code",
   "execution_count": 5,
   "id": "1650acaf",
   "metadata": {
    "execution": {
     "iopub.execute_input": "2025-07-30T21:29:00.411215Z",
     "iopub.status.busy": "2025-07-30T21:29:00.410359Z",
     "iopub.status.idle": "2025-07-30T21:29:00.416464Z",
     "shell.execute_reply": "2025-07-30T21:29:00.415528Z"
    },
    "papermill": {
     "duration": 0.03009,
     "end_time": "2025-07-30T21:29:00.418190",
     "exception": false,
     "start_time": "2025-07-30T21:29:00.388100",
     "status": "completed"
    },
    "tags": []
   },
   "outputs": [],
   "source": [
    "import json\n",
    "# Parse universe into dict if it is passed as a string\n",
    "if isinstance(universe, str):\n",
    "    universe = json.loads(universe)"
   ]
  },
  {
   "cell_type": "code",
   "execution_count": 6,
   "id": "16620c48",
   "metadata": {
    "execution": {
     "iopub.execute_input": "2025-07-30T21:29:00.441395Z",
     "iopub.status.busy": "2025-07-30T21:29:00.441037Z",
     "iopub.status.idle": "2025-07-30T21:29:00.484838Z",
     "shell.execute_reply": "2025-07-30T21:29:00.483773Z"
    },
    "papermill": {
     "duration": 0.057183,
     "end_time": "2025-07-30T21:29:00.486384",
     "exception": false,
     "start_time": "2025-07-30T21:29:00.429201",
     "status": "completed"
    },
    "tags": []
   },
   "outputs": [],
   "source": [
    "# Auto-reload the custom package\n",
    "%load_ext autoreload\n",
    "%autoreload 1\n",
    "%aimport fairness_multiverse"
   ]
  },
  {
   "cell_type": "code",
   "execution_count": 7,
   "id": "01c5c9f3",
   "metadata": {
    "execution": {
     "iopub.execute_input": "2025-07-30T21:29:00.528733Z",
     "iopub.status.busy": "2025-07-30T21:29:00.527968Z",
     "iopub.status.idle": "2025-07-30T21:29:02.746247Z",
     "shell.execute_reply": "2025-07-30T21:29:02.745000Z"
    },
    "papermill": {
     "duration": 2.24281,
     "end_time": "2025-07-30T21:29:02.748540",
     "exception": false,
     "start_time": "2025-07-30T21:29:00.505730",
     "status": "completed"
    },
    "tags": []
   },
   "outputs": [],
   "source": [
    "from fairness_multiverse.universe import UniverseAnalysis\n",
    "\n",
    "universe_analysis = UniverseAnalysis(\n",
    "    run_no = run_no,\n",
    "    universe_id = universe_id,\n",
    "    universe = universe,\n",
    "    output_dir=output_dir,\n",
    ")"
   ]
  },
  {
   "cell_type": "code",
   "execution_count": 8,
   "id": "106241f5",
   "metadata": {
    "execution": {
     "iopub.execute_input": "2025-07-30T21:29:02.793081Z",
     "iopub.status.busy": "2025-07-30T21:29:02.791946Z",
     "iopub.status.idle": "2025-07-30T21:29:02.799944Z",
     "shell.execute_reply": "2025-07-30T21:29:02.798857Z"
    },
    "papermill": {
     "duration": 0.031945,
     "end_time": "2025-07-30T21:29:02.801763",
     "exception": false,
     "start_time": "2025-07-30T21:29:02.769818",
     "status": "completed"
    },
    "tags": []
   },
   "outputs": [
    {
     "name": "stdout",
     "output_type": "stream",
     "text": [
      "Using Seed: 2023\n"
     ]
    }
   ],
   "source": [
    "import numpy as np\n",
    "parsed_seed = int(seed)\n",
    "np.random.seed(parsed_seed)\n",
    "print(f\"Using Seed: {parsed_seed}\")"
   ]
  },
  {
   "cell_type": "markdown",
   "id": "e0ebdc57",
   "metadata": {
    "papermill": {
     "duration": 0.022617,
     "end_time": "2025-07-30T21:29:02.845844",
     "exception": false,
     "start_time": "2025-07-30T21:29:02.823227",
     "status": "completed"
    },
    "tags": []
   },
   "source": [
    "# Loading Data"
   ]
  },
  {
   "cell_type": "markdown",
   "id": "681925a3",
   "metadata": {
    "papermill": {
     "duration": 0.021771,
     "end_time": "2025-07-30T21:29:02.887724",
     "exception": false,
     "start_time": "2025-07-30T21:29:02.865953",
     "status": "completed"
    },
    "tags": []
   },
   "source": [
    "Load siab_train, siab_test, siab_calib and/or \n",
    "load siab_train_features, siab_train_labels"
   ]
  },
  {
   "cell_type": "code",
   "execution_count": 9,
   "id": "f0496b8a",
   "metadata": {
    "execution": {
     "iopub.execute_input": "2025-07-30T21:29:02.941280Z",
     "iopub.status.busy": "2025-07-30T21:29:02.940723Z",
     "iopub.status.idle": "2025-07-30T21:29:15.618646Z",
     "shell.execute_reply": "2025-07-30T21:29:15.617362Z"
    },
    "papermill": {
     "duration": 12.711468,
     "end_time": "2025-07-30T21:29:15.620552",
     "exception": false,
     "start_time": "2025-07-30T21:29:02.909084",
     "status": "completed"
    },
    "tags": []
   },
   "outputs": [
    {
     "name": "stdout",
     "output_type": "stream",
     "text": [
      "Loading SIAB data from cache: data/siab_cached.csv.gz\n"
     ]
    },
    {
     "name": "stdout",
     "output_type": "stream",
     "text": [
      "(643690, 164)\n"
     ]
    }
   ],
   "source": [
    "from pathlib import Path\n",
    "import pandas as pd\n",
    "\n",
    "# File paths\n",
    "raw_file = Path(\"data/raw/siab.csv\")\n",
    "cache_file = Path(\"data/siab_cached.csv.gz\")\n",
    "\n",
    "# Ensure cache directory exists\n",
    "cache_file.parent.mkdir(parents=True, exist_ok=True)\n",
    "\n",
    "# Load with simple caching\n",
    "if cache_file.exists():\n",
    "    print(f\"Loading SIAB data from cache: {cache_file}\")\n",
    "    siab = pd.read_csv(cache_file, compression='gzip')\n",
    "else:\n",
    "    print(f\"Cache not found. Reading raw SIAB data: {raw_file}\")\n",
    "    siab = pd.read_csv(raw_file)\n",
    "    siab.to_csv(cache_file, index=False, compression='gzip')\n",
    "    print(f\"Cached SIAB data to: {cache_file}\")\n",
    "\n",
    "# Now use `siab` DataFrame as needed\n",
    "print(siab.shape)"
   ]
  },
  {
   "cell_type": "code",
   "execution_count": 10,
   "id": "db0ca512-5f53-4dba-abdb-a2888bca41ba",
   "metadata": {
    "execution": {
     "iopub.execute_input": "2025-07-30T21:29:15.675630Z",
     "iopub.status.busy": "2025-07-30T21:29:15.675096Z",
     "iopub.status.idle": "2025-07-30T21:29:15.681086Z",
     "shell.execute_reply": "2025-07-30T21:29:15.680071Z"
    },
    "papermill": {
     "duration": 0.034403,
     "end_time": "2025-07-30T21:29:15.682815",
     "exception": false,
     "start_time": "2025-07-30T21:29:15.648412",
     "status": "completed"
    },
    "tags": []
   },
   "outputs": [],
   "source": [
    "#siab"
   ]
  },
  {
   "cell_type": "code",
   "execution_count": 11,
   "id": "a0edb063",
   "metadata": {
    "execution": {
     "iopub.execute_input": "2025-07-30T21:29:15.729087Z",
     "iopub.status.busy": "2025-07-30T21:29:15.728545Z",
     "iopub.status.idle": "2025-07-30T21:29:15.733521Z",
     "shell.execute_reply": "2025-07-30T21:29:15.732545Z"
    },
    "papermill": {
     "duration": 0.030156,
     "end_time": "2025-07-30T21:29:15.735213",
     "exception": false,
     "start_time": "2025-07-30T21:29:15.705057",
     "status": "completed"
    },
    "tags": []
   },
   "outputs": [],
   "source": [
    "#import pandas as pd\n",
    "#\n",
    "#X_train = pd.read_csv(\"./data/X_train.csv\")\n",
    "#y_train = pd.read_csv(\"./data/y_train.csv\")"
   ]
  },
  {
   "cell_type": "code",
   "execution_count": 12,
   "id": "63d08085",
   "metadata": {
    "execution": {
     "iopub.execute_input": "2025-07-30T21:29:15.781925Z",
     "iopub.status.busy": "2025-07-30T21:29:15.781424Z",
     "iopub.status.idle": "2025-07-30T21:29:15.787355Z",
     "shell.execute_reply": "2025-07-30T21:29:15.785412Z"
    },
    "papermill": {
     "duration": 0.031439,
     "end_time": "2025-07-30T21:29:15.789000",
     "exception": false,
     "start_time": "2025-07-30T21:29:15.757561",
     "status": "completed"
    },
    "tags": []
   },
   "outputs": [],
   "source": [
    "#X_test = pd.read_csv(\"./data/X_test.csv\")\n",
    "#y_true = pd.read_csv(\"./data/y_test.csv\")"
   ]
  },
  {
   "cell_type": "code",
   "execution_count": 13,
   "id": "98a8d0fa-1d3d-4ed8-bb2c-281470e24add",
   "metadata": {
    "execution": {
     "iopub.execute_input": "2025-07-30T21:29:15.835306Z",
     "iopub.status.busy": "2025-07-30T21:29:15.834518Z",
     "iopub.status.idle": "2025-07-30T21:29:15.839371Z",
     "shell.execute_reply": "2025-07-30T21:29:15.838589Z"
    },
    "papermill": {
     "duration": 0.030967,
     "end_time": "2025-07-30T21:29:15.842441",
     "exception": false,
     "start_time": "2025-07-30T21:29:15.811474",
     "status": "completed"
    },
    "tags": []
   },
   "outputs": [],
   "source": [
    "# Calibration data for conformal\n",
    "#X_calib = pd.read_csv(\"./data/X_calib.csv\")\n",
    "#y_calib = pd.read_csv(\"./data/y_calib.csv\")"
   ]
  },
  {
   "cell_type": "markdown",
   "id": "997051c5-15bd-4b69-9786-c3001a3ce484",
   "metadata": {
    "papermill": {
     "duration": 0.023948,
     "end_time": "2025-07-30T21:29:15.888403",
     "exception": false,
     "start_time": "2025-07-30T21:29:15.864455",
     "status": "completed"
    },
    "tags": []
   },
   "source": [
    "# Splitting Data and Setting Training Data Size"
   ]
  },
  {
   "cell_type": "code",
   "execution_count": 14,
   "id": "e993b61f-042d-41a6-8c81-f55681f86335",
   "metadata": {
    "execution": {
     "iopub.execute_input": "2025-07-30T21:29:15.933170Z",
     "iopub.status.busy": "2025-07-30T21:29:15.932542Z",
     "iopub.status.idle": "2025-07-30T21:29:15.946297Z",
     "shell.execute_reply": "2025-07-30T21:29:15.945508Z"
    },
    "papermill": {
     "duration": 0.038878,
     "end_time": "2025-07-30T21:29:15.948266",
     "exception": false,
     "start_time": "2025-07-30T21:29:15.909388",
     "status": "completed"
    },
    "tags": []
   },
   "outputs": [],
   "source": [
    "def sample_by_year_size(df,\n",
    "                        training_year: str,\n",
    "                        training_size: str,\n",
    "                        random_state: int = 42):\n",
    "    # --- parse training_year into a list of int years ---\n",
    "    if \"_\" in training_year:\n",
    "        start_str, end_str = training_year.split(\"_\", 1)\n",
    "        start = int(start_str)\n",
    "        end   = int(end_str) if len(end_str) == 4 else (int(end_str) + (start // 100)*100)\n",
    "        years = list(range(start, end + 1))\n",
    "    else:\n",
    "        years = [int(training_year)]\n",
    "\n",
    "    df = df[df[\"year\"].isin(years)].reset_index(drop=True)\n",
    "\n",
    "    # --- map training_size to total number of samples ---\n",
    "    total_map = {\"25k\": 25_000, \"5k\": 5_000, \"1k\": 1_000}\n",
    "    if training_size not in total_map:\n",
    "        return df  # e.g. \"all\"\n",
    "\n",
    "    total_samples = total_map[training_size]\n",
    "    n_years       = len(years)\n",
    "    base          = total_samples // n_years\n",
    "    remainder     = total_samples % n_years\n",
    "\n",
    "    # --- build a dict: year -> how many to sample ---\n",
    "    # give +1 to the first `remainder` years in ascending order\n",
    "    quotas = {\n",
    "        year: base + (1 if idx < remainder else 0)\n",
    "        for idx, year in enumerate(sorted(years))\n",
    "    }\n",
    "\n",
    "    # --- sample per‐year according to the quota dict ---\n",
    "    sampled = (\n",
    "        df\n",
    "        .groupby(\"year\", group_keys=False)\n",
    "        .apply(lambda grp: grp.sample(\n",
    "            n=min(len(grp), quotas[grp.name]),\n",
    "            random_state=random_state))\n",
    "        .reset_index(drop=True)\n",
    "    )\n",
    "\n",
    "    return sampled"
   ]
  },
  {
   "cell_type": "code",
   "execution_count": 15,
   "id": "c0ccd338-0e02-41f3-a09d-f56f9266e3fb",
   "metadata": {
    "execution": {
     "iopub.execute_input": "2025-07-30T21:29:15.995377Z",
     "iopub.status.busy": "2025-07-30T21:29:15.994893Z",
     "iopub.status.idle": "2025-07-30T21:29:16.000068Z",
     "shell.execute_reply": "2025-07-30T21:29:15.999109Z"
    },
    "papermill": {
     "duration": 0.030662,
     "end_time": "2025-07-30T21:29:16.001784",
     "exception": false,
     "start_time": "2025-07-30T21:29:15.971122",
     "status": "completed"
    },
    "tags": []
   },
   "outputs": [],
   "source": [
    "#universe[\"training_size\"]"
   ]
  },
  {
   "cell_type": "code",
   "execution_count": 16,
   "id": "ca707fd7-8047-4acd-bfa5-66248fbbf8e6",
   "metadata": {
    "execution": {
     "iopub.execute_input": "2025-07-30T21:29:16.048704Z",
     "iopub.status.busy": "2025-07-30T21:29:16.048199Z",
     "iopub.status.idle": "2025-07-30T21:29:16.054120Z",
     "shell.execute_reply": "2025-07-30T21:29:16.052964Z"
    },
    "papermill": {
     "duration": 0.031397,
     "end_time": "2025-07-30T21:29:16.055973",
     "exception": false,
     "start_time": "2025-07-30T21:29:16.024576",
     "status": "completed"
    },
    "tags": []
   },
   "outputs": [],
   "source": [
    "#universe[\"training_year\"]"
   ]
  },
  {
   "cell_type": "code",
   "execution_count": 17,
   "id": "aea9c6ef-6f46-42c8-85eb-5a62025c1508",
   "metadata": {
    "execution": {
     "iopub.execute_input": "2025-07-30T21:29:16.103587Z",
     "iopub.status.busy": "2025-07-30T21:29:16.103055Z",
     "iopub.status.idle": "2025-07-30T21:29:16.423188Z",
     "shell.execute_reply": "2025-07-30T21:29:16.421953Z"
    },
    "papermill": {
     "duration": 0.34686,
     "end_time": "2025-07-30T21:29:16.425396",
     "exception": false,
     "start_time": "2025-07-30T21:29:16.078536",
     "status": "completed"
    },
    "tags": []
   },
   "outputs": [],
   "source": [
    "siab_train = sample_by_year_size(siab,\n",
    "                               training_year=universe[\"training_year\"],\n",
    "                               training_size=universe[\"training_size\"])"
   ]
  },
  {
   "cell_type": "code",
   "execution_count": 18,
   "id": "8d3afb32-789d-442c-8d5d-9f5aa8dd2eed",
   "metadata": {
    "execution": {
     "iopub.execute_input": "2025-07-30T21:29:16.476735Z",
     "iopub.status.busy": "2025-07-30T21:29:16.475599Z",
     "iopub.status.idle": "2025-07-30T21:29:16.481586Z",
     "shell.execute_reply": "2025-07-30T21:29:16.480454Z"
    },
    "papermill": {
     "duration": 0.033251,
     "end_time": "2025-07-30T21:29:16.483771",
     "exception": false,
     "start_time": "2025-07-30T21:29:16.450520",
     "status": "completed"
    },
    "tags": []
   },
   "outputs": [],
   "source": [
    "#siab_train.shape"
   ]
  },
  {
   "cell_type": "code",
   "execution_count": 19,
   "id": "d582db68-1a4c-47fb-84fc-08518dc1975a",
   "metadata": {
    "execution": {
     "iopub.execute_input": "2025-07-30T21:29:16.534938Z",
     "iopub.status.busy": "2025-07-30T21:29:16.534260Z",
     "iopub.status.idle": "2025-07-30T21:29:16.539220Z",
     "shell.execute_reply": "2025-07-30T21:29:16.538510Z"
    },
    "papermill": {
     "duration": 0.030078,
     "end_time": "2025-07-30T21:29:16.540652",
     "exception": false,
     "start_time": "2025-07-30T21:29:16.510574",
     "status": "completed"
    },
    "tags": []
   },
   "outputs": [],
   "source": [
    "#display(siab_train.groupby(\"year\").size())"
   ]
  },
  {
   "cell_type": "code",
   "execution_count": 20,
   "id": "a561edb4-d032-42cb-8256-22eac1111c64",
   "metadata": {
    "execution": {
     "iopub.execute_input": "2025-07-30T21:29:16.563128Z",
     "iopub.status.busy": "2025-07-30T21:29:16.562735Z",
     "iopub.status.idle": "2025-07-30T21:29:16.807706Z",
     "shell.execute_reply": "2025-07-30T21:29:16.806689Z"
    },
    "papermill": {
     "duration": 0.258134,
     "end_time": "2025-07-30T21:29:16.809777",
     "exception": false,
     "start_time": "2025-07-30T21:29:16.551643",
     "status": "completed"
    },
    "tags": []
   },
   "outputs": [],
   "source": [
    "#siab_train = siab_s[siab_s.year < 2015]\n",
    "siab_calib = siab[siab.year == 2015]\n",
    "siab_test = siab[siab.year == 2016]"
   ]
  },
  {
   "cell_type": "code",
   "execution_count": 21,
   "id": "472de16f-c3db-4916-846b-1f0de9cf1746",
   "metadata": {
    "execution": {
     "iopub.execute_input": "2025-07-30T21:29:16.852964Z",
     "iopub.status.busy": "2025-07-30T21:29:16.852109Z",
     "iopub.status.idle": "2025-07-30T21:29:16.859873Z",
     "shell.execute_reply": "2025-07-30T21:29:16.858900Z"
    },
    "papermill": {
     "duration": 0.031132,
     "end_time": "2025-07-30T21:29:16.861512",
     "exception": false,
     "start_time": "2025-07-30T21:29:16.830380",
     "status": "completed"
    },
    "tags": []
   },
   "outputs": [],
   "source": [
    "X_train = siab_train.iloc[:,4:164]\n",
    "y_train = siab_train.iloc[:, [3]]"
   ]
  },
  {
   "cell_type": "code",
   "execution_count": 22,
   "id": "828c96af-f43a-4ed6-ba47-8ac73a47d56c",
   "metadata": {
    "execution": {
     "iopub.execute_input": "2025-07-30T21:29:16.905639Z",
     "iopub.status.busy": "2025-07-30T21:29:16.904949Z",
     "iopub.status.idle": "2025-07-30T21:29:16.958516Z",
     "shell.execute_reply": "2025-07-30T21:29:16.957365Z"
    },
    "papermill": {
     "duration": 0.076808,
     "end_time": "2025-07-30T21:29:16.960181",
     "exception": false,
     "start_time": "2025-07-30T21:29:16.883373",
     "status": "completed"
    },
    "tags": []
   },
   "outputs": [],
   "source": [
    "X_calib = siab_calib.iloc[:,4:164]\n",
    "y_calib = siab_calib.iloc[:, [3]]"
   ]
  },
  {
   "cell_type": "code",
   "execution_count": 23,
   "id": "c34be9c3-6bd6-476e-acd3-845840e303be",
   "metadata": {
    "execution": {
     "iopub.execute_input": "2025-07-30T21:29:17.003240Z",
     "iopub.status.busy": "2025-07-30T21:29:17.002731Z",
     "iopub.status.idle": "2025-07-30T21:29:17.060418Z",
     "shell.execute_reply": "2025-07-30T21:29:17.058741Z"
    },
    "papermill": {
     "duration": 0.082088,
     "end_time": "2025-07-30T21:29:17.062934",
     "exception": false,
     "start_time": "2025-07-30T21:29:16.980846",
     "status": "completed"
    },
    "tags": []
   },
   "outputs": [],
   "source": [
    "X_test = siab_test.iloc[:,4:164]\n",
    "y_true = siab_test.iloc[:, [3]]"
   ]
  },
  {
   "cell_type": "markdown",
   "id": "9901737e-04df-44f0-9100-f5ad144ed040",
   "metadata": {
    "papermill": {
     "duration": 0.024241,
     "end_time": "2025-07-30T21:29:17.111799",
     "exception": false,
     "start_time": "2025-07-30T21:29:17.087558",
     "status": "completed"
    },
    "tags": []
   },
   "source": [
    "# Splitting Data and Setting Training Data Size OLD VERSION"
   ]
  },
  {
   "cell_type": "code",
   "execution_count": 24,
   "id": "acbc8f7d-8fc8-4e86-8c59-5dcb0f58384b",
   "metadata": {
    "execution": {
     "iopub.execute_input": "2025-07-30T21:29:17.162454Z",
     "iopub.status.busy": "2025-07-30T21:29:17.161787Z",
     "iopub.status.idle": "2025-07-30T21:29:17.167763Z",
     "shell.execute_reply": "2025-07-30T21:29:17.166735Z"
    },
    "papermill": {
     "duration": 0.033294,
     "end_time": "2025-07-30T21:29:17.169456",
     "exception": false,
     "start_time": "2025-07-30T21:29:17.136162",
     "status": "completed"
    },
    "tags": []
   },
   "outputs": [],
   "source": [
    "#def sample_by_year(df, training_size, random_state=42):\n",
    "#    if training_size == \"2014\":\n",
    "#        return df[df[\"year\"] == 2014].reset_index(drop=True)\n",
    "#    \n",
    "#    size_map = {\n",
    "#        \"25k\": 5000,\n",
    "#        \"5k\": 1000,\n",
    "#        \"1k\": 200\n",
    "#    }\n",
    "#\n",
    "#    if training_size not in size_map:\n",
    "#        return df.reset_index(drop=True)  # use all data\n",
    "#\n",
    "#    n_per_year = size_map[training_size]\n",
    "#    grouped = df.groupby(\"year\")\n",
    "#    sampled = grouped.apply(lambda x: x.sample(n=min(n_per_year, len(x)), random_state=random_state))\n",
    "#    return sampled.reset_index(drop=True)"
   ]
  },
  {
   "cell_type": "code",
   "execution_count": 25,
   "id": "6d931f52-beaf-43ff-9e78-9d44a448d54e",
   "metadata": {
    "execution": {
     "iopub.execute_input": "2025-07-30T21:29:17.218635Z",
     "iopub.status.busy": "2025-07-30T21:29:17.218155Z",
     "iopub.status.idle": "2025-07-30T21:29:17.223380Z",
     "shell.execute_reply": "2025-07-30T21:29:17.222369Z"
    },
    "papermill": {
     "duration": 0.032811,
     "end_time": "2025-07-30T21:29:17.225582",
     "exception": false,
     "start_time": "2025-07-30T21:29:17.192771",
     "status": "completed"
    },
    "tags": []
   },
   "outputs": [],
   "source": [
    "#siab_s = sample_by_year(siab, universe[\"training_size\"])"
   ]
  },
  {
   "cell_type": "code",
   "execution_count": 26,
   "id": "5db0a40e-a4e2-4920-be85-b12ae061d70d",
   "metadata": {
    "execution": {
     "iopub.execute_input": "2025-07-30T21:29:17.277046Z",
     "iopub.status.busy": "2025-07-30T21:29:17.276376Z",
     "iopub.status.idle": "2025-07-30T21:29:17.281957Z",
     "shell.execute_reply": "2025-07-30T21:29:17.280873Z"
    },
    "papermill": {
     "duration": 0.032675,
     "end_time": "2025-07-30T21:29:17.283713",
     "exception": false,
     "start_time": "2025-07-30T21:29:17.251038",
     "status": "completed"
    },
    "tags": []
   },
   "outputs": [],
   "source": [
    "#display(siab_s.groupby(\"year\").size())"
   ]
  },
  {
   "cell_type": "code",
   "execution_count": 27,
   "id": "e6c733c5",
   "metadata": {
    "execution": {
     "iopub.execute_input": "2025-07-30T21:29:17.332156Z",
     "iopub.status.busy": "2025-07-30T21:29:17.331569Z",
     "iopub.status.idle": "2025-07-30T21:29:17.431363Z",
     "shell.execute_reply": "2025-07-30T21:29:17.430412Z"
    },
    "papermill": {
     "duration": 0.125953,
     "end_time": "2025-07-30T21:29:17.433406",
     "exception": false,
     "start_time": "2025-07-30T21:29:17.307453",
     "status": "completed"
    },
    "tags": []
   },
   "outputs": [],
   "source": [
    "# Auxiliary data needed downstream in the pipeline\n",
    "\n",
    "org_train = X_train.copy()\n",
    "org_test = X_test.copy()\n",
    "org_calib = X_calib.copy()"
   ]
  },
  {
   "cell_type": "code",
   "execution_count": 28,
   "id": "1466abac-c6da-4492-a62f-4240ae3783af",
   "metadata": {
    "execution": {
     "iopub.execute_input": "2025-07-30T21:29:17.486498Z",
     "iopub.status.busy": "2025-07-30T21:29:17.486004Z",
     "iopub.status.idle": "2025-07-30T21:29:17.491918Z",
     "shell.execute_reply": "2025-07-30T21:29:17.490817Z"
    },
    "papermill": {
     "duration": 0.034563,
     "end_time": "2025-07-30T21:29:17.493724",
     "exception": false,
     "start_time": "2025-07-30T21:29:17.459161",
     "status": "completed"
    },
    "tags": []
   },
   "outputs": [],
   "source": [
    "# put in other script?\n",
    "# Group sizes\n",
    "\n",
    "#def calculate_percentages(df, df_name):\n",
    "#    total_entries = len(df)\n",
    "#\n",
    "#    female_pct = (df['frau1'] == 1).mean() * 100\n",
    "#    non_german_pct = ((df['maxdeutsch1'] == 0) & (df['maxdeutsch.Missing.'] == 0)).mean() * 100\n",
    "#    non_german_male_pct = ((df['frau1'] == 0) & (df['maxdeutsch1'] == 0) & (df['maxdeutsch.Missing.'] == 0)).mean() * 100\n",
    "#    non_german_female_pct = ((df['frau1'] == 1) & (df['maxdeutsch1'] == 0) & (df['maxdeutsch.Missing.'] == 0)).mean() * 100\n",
    "#\n",
    "#    print(f\"--- {df_name} ---\")\n",
    "#    print(f\"Female: {female_pct:.2f}%\")\n",
    "#    print(f\"Non-German: {non_german_pct:.2f}%\")\n",
    "#    print(f\"Non-German Male: {non_german_male_pct:.2f}%\")\n",
    "#    print(f\"Non-German Female: {non_german_female_pct:.2f}%\\n\")\n",
    "#\n",
    "## Calculate for each DataFrame\n",
    "#calculate_percentages(siab_calib, \"siab_calib\")\n",
    "#calculate_percentages(siab_test, \"siab_test\")\n",
    "#calculate_percentages(siab_train, \"siab_train\")"
   ]
  },
  {
   "cell_type": "markdown",
   "id": "0a4a1b33",
   "metadata": {
    "papermill": {
     "duration": 0.025525,
     "end_time": "2025-07-30T21:29:17.545231",
     "exception": false,
     "start_time": "2025-07-30T21:29:17.519706",
     "status": "completed"
    },
    "tags": []
   },
   "source": [
    "# Preprocessing Data"
   ]
  },
  {
   "cell_type": "code",
   "execution_count": 29,
   "id": "ca879031",
   "metadata": {
    "execution": {
     "iopub.execute_input": "2025-07-30T21:29:17.597751Z",
     "iopub.status.busy": "2025-07-30T21:29:17.597072Z",
     "iopub.status.idle": "2025-07-30T21:29:17.604340Z",
     "shell.execute_reply": "2025-07-30T21:29:17.603447Z"
    },
    "papermill": {
     "duration": 0.035631,
     "end_time": "2025-07-30T21:29:17.606242",
     "exception": false,
     "start_time": "2025-07-30T21:29:17.570611",
     "status": "completed"
    },
    "tags": []
   },
   "outputs": [],
   "source": [
    "# EXCLUDE PROTECTED FEATURES\n",
    "# ----------------------\n",
    "# \"exclude_features\": \"none\", # \"nationality\", \"sex\", \"nationality-sex\"\n",
    "\n",
    "excluded_features = universe[\"exclude_features\"].split(\"-\") # split, e.g.: \"nationality-sex\" -> [\"nationality\", \"sex\"]\n",
    "excluded_features_dictionary = {\n",
    "    \"nationality\": [\"maxdeutsch1\", \"maxdeutsch.Missing.\"],\n",
    "    \"sex\": [\"frau1\"],\n",
    "    \"age\": [\"age\"],\n",
    "}\n"
   ]
  },
  {
   "cell_type": "code",
   "execution_count": 30,
   "id": "b745ac60",
   "metadata": {
    "execution": {
     "iopub.execute_input": "2025-07-30T21:29:17.657645Z",
     "iopub.status.busy": "2025-07-30T21:29:17.657206Z",
     "iopub.status.idle": "2025-07-30T21:29:17.663146Z",
     "shell.execute_reply": "2025-07-30T21:29:17.662174Z"
    },
    "papermill": {
     "duration": 0.034379,
     "end_time": "2025-07-30T21:29:17.665028",
     "exception": false,
     "start_time": "2025-07-30T21:29:17.630649",
     "status": "completed"
    },
    "tags": []
   },
   "outputs": [],
   "source": [
    "# Code nice names to column names\n",
    "\n",
    "excluded_features_columns = [\n",
    "    excluded_features_dictionary[f] for f in excluded_features if len(f) > 0 and f != \"none\"\n",
    "]"
   ]
  },
  {
   "cell_type": "code",
   "execution_count": 31,
   "id": "f84f73a2",
   "metadata": {
    "execution": {
     "iopub.execute_input": "2025-07-30T21:29:17.710161Z",
     "iopub.status.busy": "2025-07-30T21:29:17.709641Z",
     "iopub.status.idle": "2025-07-30T21:29:17.715218Z",
     "shell.execute_reply": "2025-07-30T21:29:17.714240Z"
    },
    "papermill": {
     "duration": 0.027901,
     "end_time": "2025-07-30T21:29:17.716815",
     "exception": false,
     "start_time": "2025-07-30T21:29:17.688914",
     "status": "completed"
    },
    "tags": []
   },
   "outputs": [],
   "source": [
    "from utils import flatten_once\n",
    "\n",
    "excluded_features_columns = flatten_once(excluded_features_columns)"
   ]
  },
  {
   "cell_type": "code",
   "execution_count": 32,
   "id": "884dea22",
   "metadata": {
    "execution": {
     "iopub.execute_input": "2025-07-30T21:29:17.757862Z",
     "iopub.status.busy": "2025-07-30T21:29:17.757598Z",
     "iopub.status.idle": "2025-07-30T21:29:17.762690Z",
     "shell.execute_reply": "2025-07-30T21:29:17.761859Z"
    },
    "papermill": {
     "duration": 0.027285,
     "end_time": "2025-07-30T21:29:17.764374",
     "exception": false,
     "start_time": "2025-07-30T21:29:17.737089",
     "status": "completed"
    },
    "tags": []
   },
   "outputs": [],
   "source": [
    "if len(excluded_features_columns) > 0:\n",
    "    print(f\"Dropping features: {excluded_features_columns}\")\n",
    "    X_train.drop(excluded_features_columns, axis=1, inplace=True)"
   ]
  },
  {
   "cell_type": "code",
   "execution_count": 33,
   "id": "95ab8b16",
   "metadata": {
    "execution": {
     "iopub.execute_input": "2025-07-30T21:29:17.804278Z",
     "iopub.status.busy": "2025-07-30T21:29:17.803734Z",
     "iopub.status.idle": "2025-07-30T21:29:17.809648Z",
     "shell.execute_reply": "2025-07-30T21:29:17.808650Z"
    },
    "papermill": {
     "duration": 0.026986,
     "end_time": "2025-07-30T21:29:17.811303",
     "exception": false,
     "start_time": "2025-07-30T21:29:17.784317",
     "status": "completed"
    },
    "tags": []
   },
   "outputs": [],
   "source": [
    "if len(excluded_features_columns) > 0:\n",
    "    print(f\"Dropping features: {excluded_features_columns}\")\n",
    "    X_test.drop(excluded_features_columns, axis=1, inplace=True)"
   ]
  },
  {
   "cell_type": "code",
   "execution_count": 34,
   "id": "1853aaf5-fb9f-46cb-a2b5-8ea4ae2237e4",
   "metadata": {
    "execution": {
     "iopub.execute_input": "2025-07-30T21:29:17.848324Z",
     "iopub.status.busy": "2025-07-30T21:29:17.847907Z",
     "iopub.status.idle": "2025-07-30T21:29:17.851990Z",
     "shell.execute_reply": "2025-07-30T21:29:17.851260Z"
    },
    "papermill": {
     "duration": 0.019023,
     "end_time": "2025-07-30T21:29:17.853742",
     "exception": false,
     "start_time": "2025-07-30T21:29:17.834719",
     "status": "completed"
    },
    "tags": []
   },
   "outputs": [],
   "source": [
    "if len(excluded_features_columns) > 0:\n",
    "    print(f\"Dropping features: {excluded_features_columns}\")\n",
    "    X_calib.drop(excluded_features_columns, axis=1, inplace=True)"
   ]
  },
  {
   "cell_type": "code",
   "execution_count": 35,
   "id": "6727d079-03e5-481e-9d38-292a90b7a0a8",
   "metadata": {
    "execution": {
     "iopub.execute_input": "2025-07-30T21:29:17.877587Z",
     "iopub.status.busy": "2025-07-30T21:29:17.877302Z",
     "iopub.status.idle": "2025-07-30T21:29:17.896479Z",
     "shell.execute_reply": "2025-07-30T21:29:17.895734Z"
    },
    "papermill": {
     "duration": 0.032404,
     "end_time": "2025-07-30T21:29:17.897860",
     "exception": false,
     "start_time": "2025-07-30T21:29:17.865456",
     "status": "completed"
    },
    "tags": []
   },
   "outputs": [],
   "source": [
    "# SPLIT & STRATIFY DATA\n",
    "# ----------------------"
   ]
  },
  {
   "cell_type": "code",
   "execution_count": 36,
   "id": "76c4dc6d",
   "metadata": {
    "execution": {
     "iopub.execute_input": "2025-07-30T21:29:17.931946Z",
     "iopub.status.busy": "2025-07-30T21:29:17.931385Z",
     "iopub.status.idle": "2025-07-30T21:29:17.936926Z",
     "shell.execute_reply": "2025-07-30T21:29:17.935950Z"
    },
    "papermill": {
     "duration": 0.024406,
     "end_time": "2025-07-30T21:29:17.938500",
     "exception": false,
     "start_time": "2025-07-30T21:29:17.914094",
     "status": "completed"
    },
    "tags": []
   },
   "outputs": [],
   "source": [
    "# EXCLUDE CERTAIN SUBGROUPS\n",
    "# ----------------------\n",
    "\n",
    "mode = universe.get(\"exclude_subgroups\", \"keep-all\") \n",
    "# Fetches the exclude_subgroups setting from the universe dict.\n",
    "# Defaults to \"keep-all\" if the key is missing."
   ]
  },
  {
   "cell_type": "code",
   "execution_count": 37,
   "id": "21994072",
   "metadata": {
    "execution": {
     "iopub.execute_input": "2025-07-30T21:29:17.978872Z",
     "iopub.status.busy": "2025-07-30T21:29:17.978493Z",
     "iopub.status.idle": "2025-07-30T21:29:18.002590Z",
     "shell.execute_reply": "2025-07-30T21:29:18.001884Z"
    },
    "papermill": {
     "duration": 0.042474,
     "end_time": "2025-07-30T21:29:18.003799",
     "exception": false,
     "start_time": "2025-07-30T21:29:17.961325",
     "status": "completed"
    },
    "tags": []
   },
   "outputs": [],
   "source": [
    "if mode == \"keep-all\":\n",
    "    keep_mask = pd.Series(True, index=org_train.index)\n",
    "\n",
    "# org_train contains the original feature columns from features_org (in Simson)\n",
    "# features_org contains unprocessed features, for me X_train at beginning ???\n",
    "# For keep-all, creates a boolean Series (keep_mask) of all True, so no rows are removed.\n",
    "\n",
    "elif mode == \"drop-non-german\":\n",
    "    keep_mask = org_train[\"maxdeutsch1\"] == 1 # ??? what about missing values?\n",
    "\n",
    "else:\n",
    "    raise ValueError(f\"Unsupported mode for exclude_subgroups: {mode}\")\n"
   ]
  },
  {
   "cell_type": "code",
   "execution_count": 38,
   "id": "71651440",
   "metadata": {
    "execution": {
     "iopub.execute_input": "2025-07-30T21:29:18.027805Z",
     "iopub.status.busy": "2025-07-30T21:29:18.027530Z",
     "iopub.status.idle": "2025-07-30T21:29:18.032680Z",
     "shell.execute_reply": "2025-07-30T21:29:18.031970Z"
    },
    "papermill": {
     "duration": 0.018086,
     "end_time": "2025-07-30T21:29:18.033905",
     "exception": false,
     "start_time": "2025-07-30T21:29:18.015819",
     "status": "completed"
    },
    "tags": []
   },
   "outputs": [
    {
     "name": "stdout",
     "output_type": "stream",
     "text": [
      "Dropping 147 rows (14.70%) where mode='drop-non-german'\n"
     ]
    }
   ],
   "source": [
    "n_drop = (~keep_mask).sum() # Calculates how many rows are set to be dropped\n",
    "if n_drop > 0:\n",
    "    pct = n_drop / len(keep_mask) * 100\n",
    "    print(f\"Dropping {n_drop} rows ({pct:.2f}%) where mode='{mode}'\")"
   ]
  },
  {
   "cell_type": "code",
   "execution_count": 39,
   "id": "5fb8eee5",
   "metadata": {
    "execution": {
     "iopub.execute_input": "2025-07-30T21:29:18.063488Z",
     "iopub.status.busy": "2025-07-30T21:29:18.062785Z",
     "iopub.status.idle": "2025-07-30T21:29:18.069014Z",
     "shell.execute_reply": "2025-07-30T21:29:18.068196Z"
    },
    "papermill": {
     "duration": 0.02499,
     "end_time": "2025-07-30T21:29:18.070290",
     "exception": false,
     "start_time": "2025-07-30T21:29:18.045300",
     "status": "completed"
    },
    "tags": []
   },
   "outputs": [],
   "source": [
    "X_train = X_train[keep_mask]"
   ]
  },
  {
   "cell_type": "code",
   "execution_count": 40,
   "id": "b202bb3a",
   "metadata": {
    "execution": {
     "iopub.execute_input": "2025-07-30T21:29:18.100080Z",
     "iopub.status.busy": "2025-07-30T21:29:18.099582Z",
     "iopub.status.idle": "2025-07-30T21:29:18.105726Z",
     "shell.execute_reply": "2025-07-30T21:29:18.104927Z"
    },
    "papermill": {
     "duration": 0.024193,
     "end_time": "2025-07-30T21:29:18.107312",
     "exception": false,
     "start_time": "2025-07-30T21:29:18.083119",
     "status": "completed"
    },
    "tags": []
   },
   "outputs": [],
   "source": [
    "y_train = y_train[keep_mask]"
   ]
  },
  {
   "cell_type": "markdown",
   "id": "493e2ac3",
   "metadata": {
    "papermill": {
     "duration": 0.01893,
     "end_time": "2025-07-30T21:29:18.150253",
     "exception": false,
     "start_time": "2025-07-30T21:29:18.131323",
     "status": "completed"
    },
    "tags": []
   },
   "source": [
    "# Model Training"
   ]
  },
  {
   "cell_type": "code",
   "execution_count": 41,
   "id": "679e1268",
   "metadata": {
    "execution": {
     "iopub.execute_input": "2025-07-30T21:29:18.174631Z",
     "iopub.status.busy": "2025-07-30T21:29:18.174170Z",
     "iopub.status.idle": "2025-07-30T21:29:18.277591Z",
     "shell.execute_reply": "2025-07-30T21:29:18.276705Z"
    },
    "papermill": {
     "duration": 0.117491,
     "end_time": "2025-07-30T21:29:18.279280",
     "exception": false,
     "start_time": "2025-07-30T21:29:18.161789",
     "status": "completed"
    },
    "tags": []
   },
   "outputs": [],
   "source": [
    "from sklearn.linear_model import LogisticRegression\n",
    "from sklearn.ensemble import GradientBoostingClassifier, RandomForestClassifier\n",
    "\n",
    "if (universe[\"model\"] == \"logreg\"):\n",
    "    model = LogisticRegression() #penalty=\"none\") #, solver=\"newton-cg\", max_iter=1) # include random_state=19 ?\n",
    "elif (universe[\"model\"] == \"penalized_logreg\"):\n",
    "    model = LogisticRegression(penalty=\"l2\", C=1.0) #, solver=\"newton-cg\", max_iter=1)\n",
    "elif (universe[\"model\"] == \"rf\"):\n",
    "    model = RandomForestClassifier(n_estimators=100, n_jobs=-1)\n",
    "elif (universe[\"model\"] == \"gbm\"):\n",
    "    model = GradientBoostingClassifier()\n",
    "elif (universe[\"model\"] == \"elasticnet\"):\n",
    "    model = LogisticRegression(penalty = 'elasticnet', solver = 'saga', l1_ratio = 0.5, max_iter=5000) # which solver to use?\n",
    "else:\n",
    "    raise \"Unsupported universe.model\""
   ]
  },
  {
   "cell_type": "code",
   "execution_count": 42,
   "id": "0cc8f744",
   "metadata": {
    "execution": {
     "iopub.execute_input": "2025-07-30T21:29:18.323160Z",
     "iopub.status.busy": "2025-07-30T21:29:18.322812Z",
     "iopub.status.idle": "2025-07-30T21:29:18.328310Z",
     "shell.execute_reply": "2025-07-30T21:29:18.327415Z"
    },
    "papermill": {
     "duration": 0.029133,
     "end_time": "2025-07-30T21:29:18.330473",
     "exception": false,
     "start_time": "2025-07-30T21:29:18.301340",
     "status": "completed"
    },
    "tags": []
   },
   "outputs": [],
   "source": [
    "import numpy as np\n",
    "from sklearn.pipeline import Pipeline\n",
    "from sklearn.preprocessing import StandardScaler\n",
    "\n",
    "model = Pipeline([\n",
    "    #(\"continuous_processor\", continuous_processor),\n",
    "    #(\"categorical_preprocessor\", categorical_preprocessor),\n",
    "    (\"scale\", StandardScaler() if universe[\"scale\"] == \"scale\" else None), \n",
    "    (\"model\", model),\n",
    "])"
   ]
  },
  {
   "cell_type": "code",
   "execution_count": 43,
   "id": "9442c04d",
   "metadata": {
    "execution": {
     "iopub.execute_input": "2025-07-30T21:29:18.379604Z",
     "iopub.status.busy": "2025-07-30T21:29:18.378680Z",
     "iopub.status.idle": "2025-07-30T21:29:18.751598Z",
     "shell.execute_reply": "2025-07-30T21:29:18.750653Z"
    },
    "papermill": {
     "duration": 0.39935,
     "end_time": "2025-07-30T21:29:18.753010",
     "exception": false,
     "start_time": "2025-07-30T21:29:18.353660",
     "status": "completed"
    },
    "tags": []
   },
   "outputs": [
    {
     "data": {
      "text/html": [
       "<style>#sk-container-id-1 {color: black;background-color: white;}#sk-container-id-1 pre{padding: 0;}#sk-container-id-1 div.sk-toggleable {background-color: white;}#sk-container-id-1 label.sk-toggleable__label {cursor: pointer;display: block;width: 100%;margin-bottom: 0;padding: 0.3em;box-sizing: border-box;text-align: center;}#sk-container-id-1 label.sk-toggleable__label-arrow:before {content: \"▸\";float: left;margin-right: 0.25em;color: #696969;}#sk-container-id-1 label.sk-toggleable__label-arrow:hover:before {color: black;}#sk-container-id-1 div.sk-estimator:hover label.sk-toggleable__label-arrow:before {color: black;}#sk-container-id-1 div.sk-toggleable__content {max-height: 0;max-width: 0;overflow: hidden;text-align: left;background-color: #f0f8ff;}#sk-container-id-1 div.sk-toggleable__content pre {margin: 0.2em;color: black;border-radius: 0.25em;background-color: #f0f8ff;}#sk-container-id-1 input.sk-toggleable__control:checked~div.sk-toggleable__content {max-height: 200px;max-width: 100%;overflow: auto;}#sk-container-id-1 input.sk-toggleable__control:checked~label.sk-toggleable__label-arrow:before {content: \"▾\";}#sk-container-id-1 div.sk-estimator input.sk-toggleable__control:checked~label.sk-toggleable__label {background-color: #d4ebff;}#sk-container-id-1 div.sk-label input.sk-toggleable__control:checked~label.sk-toggleable__label {background-color: #d4ebff;}#sk-container-id-1 input.sk-hidden--visually {border: 0;clip: rect(1px 1px 1px 1px);clip: rect(1px, 1px, 1px, 1px);height: 1px;margin: -1px;overflow: hidden;padding: 0;position: absolute;width: 1px;}#sk-container-id-1 div.sk-estimator {font-family: monospace;background-color: #f0f8ff;border: 1px dotted black;border-radius: 0.25em;box-sizing: border-box;margin-bottom: 0.5em;}#sk-container-id-1 div.sk-estimator:hover {background-color: #d4ebff;}#sk-container-id-1 div.sk-parallel-item::after {content: \"\";width: 100%;border-bottom: 1px solid gray;flex-grow: 1;}#sk-container-id-1 div.sk-label:hover label.sk-toggleable__label {background-color: #d4ebff;}#sk-container-id-1 div.sk-serial::before {content: \"\";position: absolute;border-left: 1px solid gray;box-sizing: border-box;top: 0;bottom: 0;left: 50%;z-index: 0;}#sk-container-id-1 div.sk-serial {display: flex;flex-direction: column;align-items: center;background-color: white;padding-right: 0.2em;padding-left: 0.2em;position: relative;}#sk-container-id-1 div.sk-item {position: relative;z-index: 1;}#sk-container-id-1 div.sk-parallel {display: flex;align-items: stretch;justify-content: center;background-color: white;position: relative;}#sk-container-id-1 div.sk-item::before, #sk-container-id-1 div.sk-parallel-item::before {content: \"\";position: absolute;border-left: 1px solid gray;box-sizing: border-box;top: 0;bottom: 0;left: 50%;z-index: -1;}#sk-container-id-1 div.sk-parallel-item {display: flex;flex-direction: column;z-index: 1;position: relative;background-color: white;}#sk-container-id-1 div.sk-parallel-item:first-child::after {align-self: flex-end;width: 50%;}#sk-container-id-1 div.sk-parallel-item:last-child::after {align-self: flex-start;width: 50%;}#sk-container-id-1 div.sk-parallel-item:only-child::after {width: 0;}#sk-container-id-1 div.sk-dashed-wrapped {border: 1px dashed gray;margin: 0 0.4em 0.5em 0.4em;box-sizing: border-box;padding-bottom: 0.4em;background-color: white;}#sk-container-id-1 div.sk-label label {font-family: monospace;font-weight: bold;display: inline-block;line-height: 1.2em;}#sk-container-id-1 div.sk-label-container {text-align: center;}#sk-container-id-1 div.sk-container {/* jupyter's `normalize.less` sets `[hidden] { display: none; }` but bootstrap.min.css set `[hidden] { display: none !important; }` so we also need the `!important` here to be able to override the default hidden behavior on the sphinx rendered scikit-learn.org. See: https://github.com/scikit-learn/scikit-learn/issues/21755 */display: inline-block !important;position: relative;}#sk-container-id-1 div.sk-text-repr-fallback {display: none;}</style><div id=\"sk-container-id-1\" class=\"sk-top-container\"><div class=\"sk-text-repr-fallback\"><pre>Pipeline(steps=[(&#x27;scale&#x27;, None), (&#x27;model&#x27;, RandomForestClassifier(n_jobs=-1))])</pre><b>In a Jupyter environment, please rerun this cell to show the HTML representation or trust the notebook. <br />On GitHub, the HTML representation is unable to render, please try loading this page with nbviewer.org.</b></div><div class=\"sk-container\" hidden><div class=\"sk-item sk-dashed-wrapped\"><div class=\"sk-label-container\"><div class=\"sk-label sk-toggleable\"><input class=\"sk-toggleable__control sk-hidden--visually\" id=\"sk-estimator-id-1\" type=\"checkbox\" ><label for=\"sk-estimator-id-1\" class=\"sk-toggleable__label sk-toggleable__label-arrow\">Pipeline</label><div class=\"sk-toggleable__content\"><pre>Pipeline(steps=[(&#x27;scale&#x27;, None), (&#x27;model&#x27;, RandomForestClassifier(n_jobs=-1))])</pre></div></div></div><div class=\"sk-serial\"><div class=\"sk-item\"><div class=\"sk-estimator sk-toggleable\"><input class=\"sk-toggleable__control sk-hidden--visually\" id=\"sk-estimator-id-2\" type=\"checkbox\" ><label for=\"sk-estimator-id-2\" class=\"sk-toggleable__label sk-toggleable__label-arrow\">None</label><div class=\"sk-toggleable__content\"><pre>None</pre></div></div></div><div class=\"sk-item\"><div class=\"sk-estimator sk-toggleable\"><input class=\"sk-toggleable__control sk-hidden--visually\" id=\"sk-estimator-id-3\" type=\"checkbox\" ><label for=\"sk-estimator-id-3\" class=\"sk-toggleable__label sk-toggleable__label-arrow\">RandomForestClassifier</label><div class=\"sk-toggleable__content\"><pre>RandomForestClassifier(n_jobs=-1)</pre></div></div></div></div></div></div></div>"
      ],
      "text/plain": [
       "Pipeline(steps=[('scale', None), ('model', RandomForestClassifier(n_jobs=-1))])"
      ]
     },
     "execution_count": 43,
     "metadata": {},
     "output_type": "execute_result"
    }
   ],
   "source": [
    "model.fit(X_train, y_train.values.ravel())"
   ]
  },
  {
   "cell_type": "code",
   "execution_count": 44,
   "id": "af59f8c0",
   "metadata": {
    "execution": {
     "iopub.execute_input": "2025-07-30T21:29:18.802529Z",
     "iopub.status.busy": "2025-07-30T21:29:18.802048Z",
     "iopub.status.idle": "2025-07-30T21:29:18.807668Z",
     "shell.execute_reply": "2025-07-30T21:29:18.806692Z"
    },
    "papermill": {
     "duration": 0.031734,
     "end_time": "2025-07-30T21:29:18.809246",
     "exception": false,
     "start_time": "2025-07-30T21:29:18.777512",
     "status": "completed"
    },
    "tags": []
   },
   "outputs": [],
   "source": [
    "from fairness_multiverse.universe import predict_w_threshold"
   ]
  },
  {
   "cell_type": "code",
   "execution_count": 45,
   "id": "a7cf2e16",
   "metadata": {
    "execution": {
     "iopub.execute_input": "2025-07-30T21:29:18.855057Z",
     "iopub.status.busy": "2025-07-30T21:29:18.854717Z",
     "iopub.status.idle": "2025-07-30T21:29:19.614130Z",
     "shell.execute_reply": "2025-07-30T21:29:19.613255Z"
    },
    "papermill": {
     "duration": 0.783597,
     "end_time": "2025-07-30T21:29:19.615846",
     "exception": false,
     "start_time": "2025-07-30T21:29:18.832249",
     "status": "completed"
    },
    "tags": []
   },
   "outputs": [
    {
     "data": {
      "text/plain": [
       "0.861241779065879"
      ]
     },
     "execution_count": 45,
     "metadata": {},
     "output_type": "execute_result"
    }
   ],
   "source": [
    "probs_test = model.predict_proba(X_test)\n",
    "\n",
    "'''\n",
    "Below code returns a boolean array (or binary 0/1 array depending on how it’s used) where each element \n",
    "is True if the probability of class 1 is greater than or equal to the threshold, and False otherwise.\n",
    "'''\n",
    "y_pred_default = predict_w_threshold(probs_test, 0.5)\n",
    "\n",
    "from sklearn.metrics import accuracy_score\n",
    "\n",
    "# Naive prediction\n",
    "accuracy_score(y_true = y_true, y_pred = y_pred_default)"
   ]
  },
  {
   "cell_type": "code",
   "execution_count": 46,
   "id": "081964c3",
   "metadata": {
    "execution": {
     "iopub.execute_input": "2025-07-30T21:29:19.681386Z",
     "iopub.status.busy": "2025-07-30T21:29:19.681000Z",
     "iopub.status.idle": "2025-07-30T21:29:20.516417Z",
     "shell.execute_reply": "2025-07-30T21:29:20.515533Z"
    },
    "papermill": {
     "duration": 0.863887,
     "end_time": "2025-07-30T21:29:20.518069",
     "exception": false,
     "start_time": "2025-07-30T21:29:19.654182",
     "status": "completed"
    },
    "tags": []
   },
   "outputs": [
    {
     "data": {
      "text/plain": [
       "array([0, 0, 0, ..., 0, 0, 0])"
      ]
     },
     "execution_count": 46,
     "metadata": {},
     "output_type": "execute_result"
    }
   ],
   "source": [
    "model.predict(X_test)"
   ]
  },
  {
   "cell_type": "markdown",
   "id": "56c9705b",
   "metadata": {
    "papermill": {
     "duration": 0.050627,
     "end_time": "2025-07-30T21:29:20.601730",
     "exception": false,
     "start_time": "2025-07-30T21:29:20.551103",
     "status": "completed"
    },
    "tags": []
   },
   "source": [
    "# Conformal Prediction"
   ]
  },
  {
   "cell_type": "code",
   "execution_count": 47,
   "id": "160ec6ff",
   "metadata": {
    "execution": {
     "iopub.execute_input": "2025-07-30T21:29:20.649110Z",
     "iopub.status.busy": "2025-07-30T21:29:20.648696Z",
     "iopub.status.idle": "2025-07-30T21:29:20.653858Z",
     "shell.execute_reply": "2025-07-30T21:29:20.652916Z"
    },
    "papermill": {
     "duration": 0.03063,
     "end_time": "2025-07-30T21:29:20.656806",
     "exception": false,
     "start_time": "2025-07-30T21:29:20.626176",
     "status": "completed"
    },
    "tags": []
   },
   "outputs": [],
   "source": [
    "# Miscoverage level for conformal prediction (10% allowed error rate => 90% target coverage)\n",
    "alpha = 0.1"
   ]
  },
  {
   "cell_type": "code",
   "execution_count": 48,
   "id": "eadf4555-3dd3-440e-8e35-f82a4ad9f855",
   "metadata": {
    "execution": {
     "iopub.execute_input": "2025-07-30T21:29:20.708561Z",
     "iopub.status.busy": "2025-07-30T21:29:20.708161Z",
     "iopub.status.idle": "2025-07-30T21:29:21.423169Z",
     "shell.execute_reply": "2025-07-30T21:29:21.421895Z"
    },
    "papermill": {
     "duration": 0.745115,
     "end_time": "2025-07-30T21:29:21.426249",
     "exception": false,
     "start_time": "2025-07-30T21:29:20.681134",
     "status": "completed"
    },
    "tags": []
   },
   "outputs": [],
   "source": [
    "probs_calib = model.predict_proba(X_calib)"
   ]
  },
  {
   "cell_type": "code",
   "execution_count": 49,
   "id": "2ed93547-6d5d-4983-9b36-1ecb300da49a",
   "metadata": {
    "execution": {
     "iopub.execute_input": "2025-07-30T21:29:21.506959Z",
     "iopub.status.busy": "2025-07-30T21:29:21.506584Z",
     "iopub.status.idle": "2025-07-30T21:29:21.512296Z",
     "shell.execute_reply": "2025-07-30T21:29:21.511353Z"
    },
    "papermill": {
     "duration": 0.056857,
     "end_time": "2025-07-30T21:29:21.515420",
     "exception": false,
     "start_time": "2025-07-30T21:29:21.458563",
     "status": "completed"
    },
    "tags": []
   },
   "outputs": [],
   "source": [
    "y_calib = y_calib.values.ravel().astype(int)"
   ]
  },
  {
   "cell_type": "code",
   "execution_count": 50,
   "id": "65d1320d-f588-4b38-9072-62af1ae97f7d",
   "metadata": {
    "execution": {
     "iopub.execute_input": "2025-07-30T21:29:21.561259Z",
     "iopub.status.busy": "2025-07-30T21:29:21.560878Z",
     "iopub.status.idle": "2025-07-30T21:29:21.567934Z",
     "shell.execute_reply": "2025-07-30T21:29:21.567045Z"
    },
    "papermill": {
     "duration": 0.031839,
     "end_time": "2025-07-30T21:29:21.570691",
     "exception": false,
     "start_time": "2025-07-30T21:29:21.538852",
     "status": "completed"
    },
    "tags": []
   },
   "outputs": [],
   "source": [
    "from fairness_multiverse.conformal import compute_nc_scores\n",
    "\n",
    "# Compute nonconformity scores on calibration set (1 - probability of true class)\n",
    "nc_scores = compute_nc_scores(probs_calib, y_calib)"
   ]
  },
  {
   "cell_type": "code",
   "execution_count": 51,
   "id": "df3b8ca3-53b7-43d5-9667-7c85da7aeda2",
   "metadata": {
    "execution": {
     "iopub.execute_input": "2025-07-30T21:29:21.613843Z",
     "iopub.status.busy": "2025-07-30T21:29:21.613468Z",
     "iopub.status.idle": "2025-07-30T21:29:21.619841Z",
     "shell.execute_reply": "2025-07-30T21:29:21.619106Z"
    },
    "papermill": {
     "duration": 0.030494,
     "end_time": "2025-07-30T21:29:21.621909",
     "exception": false,
     "start_time": "2025-07-30T21:29:21.591415",
     "status": "completed"
    },
    "tags": []
   },
   "outputs": [],
   "source": [
    "from fairness_multiverse.conformal import find_threshold\n",
    "\n",
    "# Find conformal threshold q_hat for the given alpha (split conformal method)\n",
    "q_hat = find_threshold(nc_scores, alpha)"
   ]
  },
  {
   "cell_type": "code",
   "execution_count": 52,
   "id": "4d29e6c1-0ef6-4aa4-b8fe-4fe79b0d033a",
   "metadata": {
    "execution": {
     "iopub.execute_input": "2025-07-30T21:29:21.659532Z",
     "iopub.status.busy": "2025-07-30T21:29:21.659103Z",
     "iopub.status.idle": "2025-07-30T21:29:21.666306Z",
     "shell.execute_reply": "2025-07-30T21:29:21.665374Z"
    },
    "papermill": {
     "duration": 0.033043,
     "end_time": "2025-07-30T21:29:21.669765",
     "exception": false,
     "start_time": "2025-07-30T21:29:21.636722",
     "status": "completed"
    },
    "tags": []
   },
   "outputs": [
    {
     "data": {
      "text/plain": [
       "0.6599999999999999"
      ]
     },
     "execution_count": 52,
     "metadata": {},
     "output_type": "execute_result"
    }
   ],
   "source": [
    "q_hat"
   ]
  },
  {
   "cell_type": "code",
   "execution_count": 53,
   "id": "92460794-cdac-4be2-ba28-f28c0515a6fb",
   "metadata": {
    "execution": {
     "iopub.execute_input": "2025-07-30T21:29:21.725794Z",
     "iopub.status.busy": "2025-07-30T21:29:21.725409Z",
     "iopub.status.idle": "2025-07-30T21:29:23.126626Z",
     "shell.execute_reply": "2025-07-30T21:29:23.125706Z"
    },
    "papermill": {
     "duration": 1.437092,
     "end_time": "2025-07-30T21:29:23.128381",
     "exception": false,
     "start_time": "2025-07-30T21:29:21.691289",
     "status": "completed"
    },
    "tags": []
   },
   "outputs": [],
   "source": [
    "from fairness_multiverse.conformal import predict_conformal_sets\n",
    "\n",
    "# Generate prediction sets for each test example\n",
    "pred_sets = predict_conformal_sets(model, X_test, q_hat)"
   ]
  },
  {
   "cell_type": "code",
   "execution_count": 54,
   "id": "d90c9a65-e6db-4f5d-80cd-e68fb7e46829",
   "metadata": {
    "execution": {
     "iopub.execute_input": "2025-07-30T21:29:23.175084Z",
     "iopub.status.busy": "2025-07-30T21:29:23.174397Z",
     "iopub.status.idle": "2025-07-30T21:29:23.180067Z",
     "shell.execute_reply": "2025-07-30T21:29:23.179197Z"
    },
    "papermill": {
     "duration": 0.030314,
     "end_time": "2025-07-30T21:29:23.181573",
     "exception": false,
     "start_time": "2025-07-30T21:29:23.151259",
     "status": "completed"
    },
    "tags": []
   },
   "outputs": [],
   "source": [
    "y_true = y_true.squeeze()"
   ]
  },
  {
   "cell_type": "code",
   "execution_count": 55,
   "id": "3a58a54a-1e68-46b9-927a-df01f18aebc8",
   "metadata": {
    "execution": {
     "iopub.execute_input": "2025-07-30T21:29:23.227410Z",
     "iopub.status.busy": "2025-07-30T21:29:23.226782Z",
     "iopub.status.idle": "2025-07-30T21:29:24.131819Z",
     "shell.execute_reply": "2025-07-30T21:29:24.130956Z"
    },
    "papermill": {
     "duration": 0.92986,
     "end_time": "2025-07-30T21:29:24.133592",
     "exception": false,
     "start_time": "2025-07-30T21:29:23.203732",
     "status": "completed"
    },
    "tags": []
   },
   "outputs": [],
   "source": [
    "from fairness_multiverse.conformal import evaluate_sets\n",
    "\n",
    "# Evaluate coverage and average set size on test data\n",
    "metrics = evaluate_sets(pred_sets, y_true)"
   ]
  },
  {
   "cell_type": "markdown",
   "id": "2b569c12-9aaa-4c88-98c9-bbcd0cf3ebb8",
   "metadata": {
    "papermill": {
     "duration": 0.02237,
     "end_time": "2025-07-30T21:29:24.179608",
     "exception": false,
     "start_time": "2025-07-30T21:29:24.157238",
     "status": "completed"
    },
    "tags": []
   },
   "source": [
    "# CP Metrics"
   ]
  },
  {
   "cell_type": "code",
   "execution_count": 56,
   "id": "5ce0a5cb-201f-45a0-ade5-94c7f0bd6095",
   "metadata": {
    "execution": {
     "iopub.execute_input": "2025-07-30T21:29:24.225237Z",
     "iopub.status.busy": "2025-07-30T21:29:24.224752Z",
     "iopub.status.idle": "2025-07-30T21:29:24.232327Z",
     "shell.execute_reply": "2025-07-30T21:29:24.231272Z"
    },
    "papermill": {
     "duration": 0.032567,
     "end_time": "2025-07-30T21:29:24.234056",
     "exception": false,
     "start_time": "2025-07-30T21:29:24.201489",
     "status": "completed"
    },
    "tags": []
   },
   "outputs": [
    {
     "data": {
      "text/plain": [
       "{'coverage': 0.9119161743395385, 'avg_size': 1.1391372199308885}"
      ]
     },
     "execution_count": 56,
     "metadata": {},
     "output_type": "execute_result"
    }
   ],
   "source": [
    "metrics"
   ]
  },
  {
   "cell_type": "code",
   "execution_count": 57,
   "id": "9b9a838d-31c9-430b-ae14-12baee460d17",
   "metadata": {
    "execution": {
     "iopub.execute_input": "2025-07-30T21:29:24.279840Z",
     "iopub.status.busy": "2025-07-30T21:29:24.279525Z",
     "iopub.status.idle": "2025-07-30T21:29:24.285558Z",
     "shell.execute_reply": "2025-07-30T21:29:24.284668Z"
    },
    "papermill": {
     "duration": 0.030486,
     "end_time": "2025-07-30T21:29:24.287261",
     "exception": false,
     "start_time": "2025-07-30T21:29:24.256775",
     "status": "completed"
    },
    "tags": []
   },
   "outputs": [],
   "source": [
    "example_universe = universe.copy()\n",
    "universe_training_year = example_universe.get(\"training_year\")\n",
    "universe_training_size = example_universe.get(\"training_size\")\n",
    "universe_scale = example_universe.get(\"scale\")\n",
    "universe_model = example_universe.get(\"model\")\n",
    "universe_exclude_features = example_universe.get(\"exclude_features\")\n",
    "universe_exclude_subgroups = example_universe.get(\"exclude_subgroups\")"
   ]
  },
  {
   "cell_type": "code",
   "execution_count": 58,
   "id": "f4b6a8ac-9dc0-4245-8a91-5b3b5999c4f9",
   "metadata": {
    "execution": {
     "iopub.execute_input": "2025-07-30T21:29:24.334606Z",
     "iopub.status.busy": "2025-07-30T21:29:24.333806Z",
     "iopub.status.idle": "2025-07-30T21:29:24.339874Z",
     "shell.execute_reply": "2025-07-30T21:29:24.338916Z"
    },
    "papermill": {
     "duration": 0.028972,
     "end_time": "2025-07-30T21:29:24.341477",
     "exception": false,
     "start_time": "2025-07-30T21:29:24.312505",
     "status": "completed"
    },
    "tags": []
   },
   "outputs": [],
   "source": [
    "cp_metrics_dict = {\n",
    "    \"universe_id\": [universe_id],\n",
    "    \"universe_training_year\": [universe_training_year],\n",
    "    \"universe_training_size\": [universe_training_size],\n",
    "    \"universe_scale\": [universe_scale],\n",
    "    \"universe_model\": [universe_model],\n",
    "    \"universe_exclude_features\": [universe_exclude_features],\n",
    "    \"universe_exclude_subgroups\": [universe_exclude_subgroups],\n",
    "    \"q_hat\": [q_hat],\n",
    "    \"coverage\": [metrics[\"coverage\"]],\n",
    "    \"avg_size\": [metrics[\"avg_size\"]],\n",
    "}"
   ]
  },
  {
   "cell_type": "code",
   "execution_count": 59,
   "id": "908acbb1-0371-4915-85ca-3fa520d2efe2",
   "metadata": {
    "execution": {
     "iopub.execute_input": "2025-07-30T21:29:24.393603Z",
     "iopub.status.busy": "2025-07-30T21:29:24.393048Z",
     "iopub.status.idle": "2025-07-30T21:29:24.400783Z",
     "shell.execute_reply": "2025-07-30T21:29:24.399742Z"
    },
    "papermill": {
     "duration": 0.035612,
     "end_time": "2025-07-30T21:29:24.402330",
     "exception": false,
     "start_time": "2025-07-30T21:29:24.366718",
     "status": "completed"
    },
    "tags": []
   },
   "outputs": [
    {
     "data": {
      "text/plain": [
       "{'universe_id': ['2adb1d8b89a10ef093002c85de69a97e'],\n",
       " 'universe_training_year': ['2014'],\n",
       " 'universe_training_size': ['1k'],\n",
       " 'universe_scale': ['do-not-scale'],\n",
       " 'universe_model': ['rf'],\n",
       " 'universe_exclude_features': ['none'],\n",
       " 'universe_exclude_subgroups': ['drop-non-german'],\n",
       " 'q_hat': [0.6599999999999999],\n",
       " 'coverage': [0.9119161743395385],\n",
       " 'avg_size': [1.1391372199308885]}"
      ]
     },
     "execution_count": 59,
     "metadata": {},
     "output_type": "execute_result"
    }
   ],
   "source": [
    "cp_metrics_dict"
   ]
  },
  {
   "cell_type": "code",
   "execution_count": 60,
   "id": "33007efc-14e9-4ec6-97ac-56a455c82265",
   "metadata": {
    "execution": {
     "iopub.execute_input": "2025-07-30T21:29:24.442968Z",
     "iopub.status.busy": "2025-07-30T21:29:24.442591Z",
     "iopub.status.idle": "2025-07-30T21:29:24.449241Z",
     "shell.execute_reply": "2025-07-30T21:29:24.448305Z"
    },
    "papermill": {
     "duration": 0.023214,
     "end_time": "2025-07-30T21:29:24.451087",
     "exception": false,
     "start_time": "2025-07-30T21:29:24.427873",
     "status": "completed"
    },
    "tags": []
   },
   "outputs": [],
   "source": [
    "cp_metrics_df = pd.DataFrame(cp_metrics_dict)"
   ]
  },
  {
   "cell_type": "code",
   "execution_count": 61,
   "id": "db12611b-57b2-4910-b9d0-355adfd6e7bf",
   "metadata": {
    "execution": {
     "iopub.execute_input": "2025-07-30T21:29:24.503719Z",
     "iopub.status.busy": "2025-07-30T21:29:24.502784Z",
     "iopub.status.idle": "2025-07-30T21:29:24.523181Z",
     "shell.execute_reply": "2025-07-30T21:29:24.522379Z"
    },
    "papermill": {
     "duration": 0.048098,
     "end_time": "2025-07-30T21:29:24.524694",
     "exception": false,
     "start_time": "2025-07-30T21:29:24.476596",
     "status": "completed"
    },
    "tags": []
   },
   "outputs": [
    {
     "data": {
      "text/html": [
       "<div>\n",
       "<style scoped>\n",
       "    .dataframe tbody tr th:only-of-type {\n",
       "        vertical-align: middle;\n",
       "    }\n",
       "\n",
       "    .dataframe tbody tr th {\n",
       "        vertical-align: top;\n",
       "    }\n",
       "\n",
       "    .dataframe thead th {\n",
       "        text-align: right;\n",
       "    }\n",
       "</style>\n",
       "<table border=\"1\" class=\"dataframe\">\n",
       "  <thead>\n",
       "    <tr style=\"text-align: right;\">\n",
       "      <th></th>\n",
       "      <th>universe_id</th>\n",
       "      <th>universe_training_year</th>\n",
       "      <th>universe_training_size</th>\n",
       "      <th>universe_scale</th>\n",
       "      <th>universe_model</th>\n",
       "      <th>universe_exclude_features</th>\n",
       "      <th>universe_exclude_subgroups</th>\n",
       "      <th>q_hat</th>\n",
       "      <th>coverage</th>\n",
       "      <th>avg_size</th>\n",
       "    </tr>\n",
       "  </thead>\n",
       "  <tbody>\n",
       "    <tr>\n",
       "      <th>0</th>\n",
       "      <td>2adb1d8b89a10ef093002c85de69a97e</td>\n",
       "      <td>2014</td>\n",
       "      <td>1k</td>\n",
       "      <td>do-not-scale</td>\n",
       "      <td>rf</td>\n",
       "      <td>none</td>\n",
       "      <td>drop-non-german</td>\n",
       "      <td>0.66</td>\n",
       "      <td>0.911916</td>\n",
       "      <td>1.139137</td>\n",
       "    </tr>\n",
       "  </tbody>\n",
       "</table>\n",
       "</div>"
      ],
      "text/plain": [
       "                        universe_id universe_training_year  \\\n",
       "0  2adb1d8b89a10ef093002c85de69a97e                   2014   \n",
       "\n",
       "  universe_training_size universe_scale universe_model  \\\n",
       "0                     1k   do-not-scale             rf   \n",
       "\n",
       "  universe_exclude_features universe_exclude_subgroups  q_hat  coverage  \\\n",
       "0                      none            drop-non-german   0.66  0.911916   \n",
       "\n",
       "   avg_size  \n",
       "0  1.139137  "
      ]
     },
     "execution_count": 61,
     "metadata": {},
     "output_type": "execute_result"
    }
   ],
   "source": [
    "cp_metrics_df"
   ]
  },
  {
   "cell_type": "code",
   "execution_count": 62,
   "id": "b7fbde55-a0a1-47e4-9af6-fe4a17fa8c61",
   "metadata": {
    "execution": {
     "iopub.execute_input": "2025-07-30T21:29:24.574263Z",
     "iopub.status.busy": "2025-07-30T21:29:24.573479Z",
     "iopub.status.idle": "2025-07-30T21:29:24.578315Z",
     "shell.execute_reply": "2025-07-30T21:29:24.577432Z"
    },
    "papermill": {
     "duration": 0.031281,
     "end_time": "2025-07-30T21:29:24.579960",
     "exception": false,
     "start_time": "2025-07-30T21:29:24.548679",
     "status": "completed"
    },
    "tags": []
   },
   "outputs": [],
   "source": [
    "# Conditional Coverage & looking at subgroups"
   ]
  },
  {
   "cell_type": "code",
   "execution_count": 63,
   "id": "027ae886-68dd-4141-96c7-805a5450e1ef",
   "metadata": {
    "execution": {
     "iopub.execute_input": "2025-07-30T21:29:24.633371Z",
     "iopub.status.busy": "2025-07-30T21:29:24.632003Z",
     "iopub.status.idle": "2025-07-30T21:29:24.904803Z",
     "shell.execute_reply": "2025-07-30T21:29:24.903948Z"
    },
    "papermill": {
     "duration": 0.300574,
     "end_time": "2025-07-30T21:29:24.906503",
     "exception": false,
     "start_time": "2025-07-30T21:29:24.605929",
     "status": "completed"
    },
    "tags": []
   },
   "outputs": [],
   "source": [
    "from fairness_multiverse.conformal import build_cp_groups\n",
    "\n",
    "cp_groups_df = build_cp_groups(pred_sets, y_true, X_test.index, org_test)\n",
    "#needs universe_id and setting"
   ]
  },
  {
   "cell_type": "code",
   "execution_count": 64,
   "id": "01d5802c-663a-4d1f-9d69-e036faaffbf7",
   "metadata": {
    "execution": {
     "iopub.execute_input": "2025-07-30T21:29:24.960752Z",
     "iopub.status.busy": "2025-07-30T21:29:24.959888Z",
     "iopub.status.idle": "2025-07-30T21:29:24.965114Z",
     "shell.execute_reply": "2025-07-30T21:29:24.964416Z"
    },
    "papermill": {
     "duration": 0.033741,
     "end_time": "2025-07-30T21:29:24.966668",
     "exception": false,
     "start_time": "2025-07-30T21:29:24.932927",
     "status": "completed"
    },
    "tags": []
   },
   "outputs": [],
   "source": [
    "#delete\n",
    "#cp_groups_df"
   ]
  },
  {
   "cell_type": "code",
   "execution_count": 65,
   "id": "fa424af1-d1eb-443d-b717-2d279ada8408",
   "metadata": {
    "execution": {
     "iopub.execute_input": "2025-07-30T21:29:24.994069Z",
     "iopub.status.busy": "2025-07-30T21:29:24.993364Z",
     "iopub.status.idle": "2025-07-30T21:29:24.997474Z",
     "shell.execute_reply": "2025-07-30T21:29:24.996778Z"
    },
    "papermill": {
     "duration": 0.018582,
     "end_time": "2025-07-30T21:29:24.998839",
     "exception": false,
     "start_time": "2025-07-30T21:29:24.980257",
     "status": "completed"
    },
    "tags": []
   },
   "outputs": [],
   "source": [
    "#delete\n",
    "#percentage = (cp_groups_df['nongerman_female'] == 1).mean() * 100\n",
    "#print(percentage)\n"
   ]
  },
  {
   "cell_type": "code",
   "execution_count": 66,
   "id": "6cbdab96-b2b2-45af-ad54-d0516db2e28d",
   "metadata": {
    "execution": {
     "iopub.execute_input": "2025-07-30T21:29:25.032134Z",
     "iopub.status.busy": "2025-07-30T21:29:25.031559Z",
     "iopub.status.idle": "2025-07-30T21:29:26.481430Z",
     "shell.execute_reply": "2025-07-30T21:29:26.480440Z"
    },
    "papermill": {
     "duration": 1.465528,
     "end_time": "2025-07-30T21:29:26.483363",
     "exception": false,
     "start_time": "2025-07-30T21:29:25.017835",
     "status": "completed"
    },
    "tags": []
   },
   "outputs": [],
   "source": [
    "# Define covered = 1 if true_label is in the predicted set\n",
    "cp_groups_df['covered'] = cp_groups_df.apply(\n",
    "    lambda r: int(r['true_label'] in r['pred_set']),\n",
    "    axis=1\n",
    ")"
   ]
  },
  {
   "cell_type": "code",
   "execution_count": 67,
   "id": "338ff529-1a6b-4b87-a931-8e4788d52aad",
   "metadata": {
    "execution": {
     "iopub.execute_input": "2025-07-30T21:29:26.533156Z",
     "iopub.status.busy": "2025-07-30T21:29:26.532305Z",
     "iopub.status.idle": "2025-07-30T21:29:26.537683Z",
     "shell.execute_reply": "2025-07-30T21:29:26.536674Z"
    },
    "papermill": {
     "duration": 0.031407,
     "end_time": "2025-07-30T21:29:26.539300",
     "exception": false,
     "start_time": "2025-07-30T21:29:26.507893",
     "status": "completed"
    },
    "tags": []
   },
   "outputs": [],
   "source": [
    "#cp_groups_df"
   ]
  },
  {
   "cell_type": "code",
   "execution_count": 68,
   "id": "90032e27-66df-4540-9169-4e89cfbaa758",
   "metadata": {
    "execution": {
     "iopub.execute_input": "2025-07-30T21:29:26.593050Z",
     "iopub.status.busy": "2025-07-30T21:29:26.592354Z",
     "iopub.status.idle": "2025-07-30T21:29:26.604239Z",
     "shell.execute_reply": "2025-07-30T21:29:26.603249Z"
    },
    "papermill": {
     "duration": 0.039496,
     "end_time": "2025-07-30T21:29:26.605786",
     "exception": false,
     "start_time": "2025-07-30T21:29:26.566290",
     "status": "completed"
    },
    "tags": []
   },
   "outputs": [],
   "source": [
    "subgroups = ['frau1','nongerman','nongerman_male','nongerman_female']\n",
    "\n",
    "# Conditional coverage for subgroup==1\n",
    "cond_coverage = {\n",
    "    g: cp_groups_df.loc[cp_groups_df[g]==1, 'covered'].mean()\n",
    "    for g in subgroups\n",
    "}"
   ]
  },
  {
   "cell_type": "code",
   "execution_count": 69,
   "id": "1e348fb1-b9c3-45bc-ba23-f016827a7e0d",
   "metadata": {
    "execution": {
     "iopub.execute_input": "2025-07-30T21:29:26.654971Z",
     "iopub.status.busy": "2025-07-30T21:29:26.654225Z",
     "iopub.status.idle": "2025-07-30T21:29:26.661429Z",
     "shell.execute_reply": "2025-07-30T21:29:26.660498Z"
    },
    "papermill": {
     "duration": 0.032862,
     "end_time": "2025-07-30T21:29:26.663068",
     "exception": false,
     "start_time": "2025-07-30T21:29:26.630206",
     "status": "completed"
    },
    "tags": []
   },
   "outputs": [
    {
     "data": {
      "text/plain": [
       "{'frau1': 0.9072651300714382,\n",
       " 'nongerman': 0.9060798293381238,\n",
       " 'nongerman_male': 0.9254255606592813,\n",
       " 'nongerman_female': 0.8740685543964233}"
      ]
     },
     "execution_count": 69,
     "metadata": {},
     "output_type": "execute_result"
    }
   ],
   "source": [
    "cond_coverage"
   ]
  },
  {
   "cell_type": "code",
   "execution_count": 70,
   "id": "f5093324-c3dd-4d63-bc4c-8d945e5c8bbb",
   "metadata": {
    "execution": {
     "iopub.execute_input": "2025-07-30T21:29:26.714749Z",
     "iopub.status.busy": "2025-07-30T21:29:26.714058Z",
     "iopub.status.idle": "2025-07-30T21:29:26.721527Z",
     "shell.execute_reply": "2025-07-30T21:29:26.720614Z"
    },
    "papermill": {
     "duration": 0.033234,
     "end_time": "2025-07-30T21:29:26.722986",
     "exception": false,
     "start_time": "2025-07-30T21:29:26.689752",
     "status": "completed"
    },
    "tags": []
   },
   "outputs": [],
   "source": [
    "for subgroup, cov in cond_coverage.items():\n",
    "    cp_metrics_df[f\"cov_{subgroup}\"] = cov"
   ]
  },
  {
   "cell_type": "code",
   "execution_count": 71,
   "id": "6e872e10-dbe5-49e8-b554-5030c98ff75d",
   "metadata": {
    "execution": {
     "iopub.execute_input": "2025-07-30T21:29:26.774250Z",
     "iopub.status.busy": "2025-07-30T21:29:26.773721Z",
     "iopub.status.idle": "2025-07-30T21:29:26.792996Z",
     "shell.execute_reply": "2025-07-30T21:29:26.792068Z"
    },
    "papermill": {
     "duration": 0.047641,
     "end_time": "2025-07-30T21:29:26.794650",
     "exception": false,
     "start_time": "2025-07-30T21:29:26.747009",
     "status": "completed"
    },
    "tags": []
   },
   "outputs": [
    {
     "data": {
      "text/html": [
       "<div>\n",
       "<style scoped>\n",
       "    .dataframe tbody tr th:only-of-type {\n",
       "        vertical-align: middle;\n",
       "    }\n",
       "\n",
       "    .dataframe tbody tr th {\n",
       "        vertical-align: top;\n",
       "    }\n",
       "\n",
       "    .dataframe thead th {\n",
       "        text-align: right;\n",
       "    }\n",
       "</style>\n",
       "<table border=\"1\" class=\"dataframe\">\n",
       "  <thead>\n",
       "    <tr style=\"text-align: right;\">\n",
       "      <th></th>\n",
       "      <th>universe_id</th>\n",
       "      <th>universe_training_year</th>\n",
       "      <th>universe_training_size</th>\n",
       "      <th>universe_scale</th>\n",
       "      <th>universe_model</th>\n",
       "      <th>universe_exclude_features</th>\n",
       "      <th>universe_exclude_subgroups</th>\n",
       "      <th>q_hat</th>\n",
       "      <th>coverage</th>\n",
       "      <th>avg_size</th>\n",
       "      <th>cov_frau1</th>\n",
       "      <th>cov_nongerman</th>\n",
       "      <th>cov_nongerman_male</th>\n",
       "      <th>cov_nongerman_female</th>\n",
       "    </tr>\n",
       "  </thead>\n",
       "  <tbody>\n",
       "    <tr>\n",
       "      <th>0</th>\n",
       "      <td>2adb1d8b89a10ef093002c85de69a97e</td>\n",
       "      <td>2014</td>\n",
       "      <td>1k</td>\n",
       "      <td>do-not-scale</td>\n",
       "      <td>rf</td>\n",
       "      <td>none</td>\n",
       "      <td>drop-non-german</td>\n",
       "      <td>0.66</td>\n",
       "      <td>0.911916</td>\n",
       "      <td>1.139137</td>\n",
       "      <td>0.907265</td>\n",
       "      <td>0.90608</td>\n",
       "      <td>0.925426</td>\n",
       "      <td>0.874069</td>\n",
       "    </tr>\n",
       "  </tbody>\n",
       "</table>\n",
       "</div>"
      ],
      "text/plain": [
       "                        universe_id universe_training_year  \\\n",
       "0  2adb1d8b89a10ef093002c85de69a97e                   2014   \n",
       "\n",
       "  universe_training_size universe_scale universe_model  \\\n",
       "0                     1k   do-not-scale             rf   \n",
       "\n",
       "  universe_exclude_features universe_exclude_subgroups  q_hat  coverage  \\\n",
       "0                      none            drop-non-german   0.66  0.911916   \n",
       "\n",
       "   avg_size  cov_frau1  cov_nongerman  cov_nongerman_male  \\\n",
       "0  1.139137   0.907265        0.90608            0.925426   \n",
       "\n",
       "   cov_nongerman_female  \n",
       "0              0.874069  "
      ]
     },
     "execution_count": 71,
     "metadata": {},
     "output_type": "execute_result"
    }
   ],
   "source": [
    "cp_metrics_df"
   ]
  },
  {
   "cell_type": "markdown",
   "id": "33774451",
   "metadata": {
    "papermill": {
     "duration": 0.023775,
     "end_time": "2025-07-30T21:29:26.842766",
     "exception": false,
     "start_time": "2025-07-30T21:29:26.818991",
     "status": "completed"
    },
    "tags": []
   },
   "source": [
    "# (Fairness) Metrics"
   ]
  },
  {
   "cell_type": "code",
   "execution_count": 72,
   "id": "debc5d62",
   "metadata": {
    "execution": {
     "iopub.execute_input": "2025-07-30T21:29:26.893018Z",
     "iopub.status.busy": "2025-07-30T21:29:26.892546Z",
     "iopub.status.idle": "2025-07-30T21:29:26.912691Z",
     "shell.execute_reply": "2025-07-30T21:29:26.911831Z"
    },
    "papermill": {
     "duration": 0.046971,
     "end_time": "2025-07-30T21:29:26.914299",
     "exception": false,
     "start_time": "2025-07-30T21:29:26.867328",
     "status": "completed"
    },
    "tags": []
   },
   "outputs": [],
   "source": [
    "# do I need to include maxdeutsch1.missing?\n",
    "\n",
    "import numpy as np\n",
    "\n",
    "colname_to_bin = \"maxdeutsch1\"\n",
    "majority_value = org_train[colname_to_bin].mode()[0]\n",
    "\n",
    "org_test[\"majmin\"] = np.where(org_test[colname_to_bin] == majority_value, \"majority\", \"minority\")"
   ]
  },
  {
   "cell_type": "code",
   "execution_count": 73,
   "id": "06a50de5",
   "metadata": {
    "execution": {
     "iopub.execute_input": "2025-07-30T21:29:26.966046Z",
     "iopub.status.busy": "2025-07-30T21:29:26.965297Z",
     "iopub.status.idle": "2025-07-30T21:29:28.878631Z",
     "shell.execute_reply": "2025-07-30T21:29:28.877672Z"
    },
    "papermill": {
     "duration": 1.940242,
     "end_time": "2025-07-30T21:29:28.880640",
     "exception": false,
     "start_time": "2025-07-30T21:29:26.940398",
     "status": "completed"
    },
    "tags": []
   },
   "outputs": [],
   "source": [
    "example_universe = universe.copy()\n",
    "example_universe[\"cutoff\"] = example_universe[\"cutoff\"][0]\n",
    "example_universe[\"eval_fairness_grouping\"] = example_universe[\"eval_fairness_grouping\"][0]\n",
    "fairness_dict, metric_frame = universe_analysis.compute_metrics(\n",
    "    example_universe,\n",
    "    y_pred_prob=probs_test,\n",
    "    y_test=y_true,\n",
    "    org_test=org_test,\n",
    ")"
   ]
  },
  {
   "cell_type": "markdown",
   "id": "f95d4e02",
   "metadata": {
    "papermill": {
     "duration": 0.016867,
     "end_time": "2025-07-30T21:29:28.928255",
     "exception": false,
     "start_time": "2025-07-30T21:29:28.911388",
     "status": "completed"
    },
    "tags": []
   },
   "source": [
    "# Overall"
   ]
  },
  {
   "cell_type": "markdown",
   "id": "bdee4871",
   "metadata": {
    "papermill": {
     "duration": 0.014422,
     "end_time": "2025-07-30T21:29:28.956872",
     "exception": false,
     "start_time": "2025-07-30T21:29:28.942450",
     "status": "completed"
    },
    "tags": []
   },
   "source": [
    "Fairness\n",
    "Main fairness target: Equalized Odds. Seems to be a better fit than equal opportunity, since we're not only interested in Y = 1. Seems to be a better fit than demographic parity, since we also care about accuracy, not just equal distribution of preds.\n",
    "\n",
    "Pick column for computation of fairness metrics\n",
    "\n",
    "Performance\n",
    "Overall performance measures, most interesting in relation to the measures split by group below"
   ]
  },
  {
   "cell_type": "code",
   "execution_count": 74,
   "id": "c4e067c6",
   "metadata": {
    "execution": {
     "iopub.execute_input": "2025-07-30T21:29:28.986643Z",
     "iopub.status.busy": "2025-07-30T21:29:28.986238Z",
     "iopub.status.idle": "2025-07-30T21:29:28.994909Z",
     "shell.execute_reply": "2025-07-30T21:29:28.993967Z"
    },
    "papermill": {
     "duration": 0.025758,
     "end_time": "2025-07-30T21:29:28.996793",
     "exception": false,
     "start_time": "2025-07-30T21:29:28.971035",
     "status": "completed"
    },
    "tags": []
   },
   "outputs": [
    {
     "data": {
      "text/plain": [
       "accuracy                   0.200580\n",
       "balanced accuracy          0.533985\n",
       "f1                         0.239717\n",
       "precision                  0.136513\n",
       "false positive rate        0.914478\n",
       "false negative rate        0.017553\n",
       "selection rate             0.923197\n",
       "count                  89710.000000\n",
       "dtype: float64"
      ]
     },
     "execution_count": 74,
     "metadata": {},
     "output_type": "execute_result"
    }
   ],
   "source": [
    "metric_frame.overall"
   ]
  },
  {
   "cell_type": "markdown",
   "id": "e968fe9d",
   "metadata": {
    "papermill": {
     "duration": 0.030444,
     "end_time": "2025-07-30T21:29:29.055727",
     "exception": false,
     "start_time": "2025-07-30T21:29:29.025283",
     "status": "completed"
    },
    "tags": []
   },
   "source": [
    "By Group"
   ]
  },
  {
   "cell_type": "code",
   "execution_count": 75,
   "id": "ec325bce",
   "metadata": {
    "execution": {
     "iopub.execute_input": "2025-07-30T21:29:29.093091Z",
     "iopub.status.busy": "2025-07-30T21:29:29.092711Z",
     "iopub.status.idle": "2025-07-30T21:29:29.107072Z",
     "shell.execute_reply": "2025-07-30T21:29:29.106412Z"
    },
    "papermill": {
     "duration": 0.030592,
     "end_time": "2025-07-30T21:29:29.108542",
     "exception": false,
     "start_time": "2025-07-30T21:29:29.077950",
     "status": "completed"
    },
    "tags": []
   },
   "outputs": [
    {
     "data": {
      "text/html": [
       "<div>\n",
       "<style scoped>\n",
       "    .dataframe tbody tr th:only-of-type {\n",
       "        vertical-align: middle;\n",
       "    }\n",
       "\n",
       "    .dataframe tbody tr th {\n",
       "        vertical-align: top;\n",
       "    }\n",
       "\n",
       "    .dataframe thead th {\n",
       "        text-align: right;\n",
       "    }\n",
       "</style>\n",
       "<table border=\"1\" class=\"dataframe\">\n",
       "  <thead>\n",
       "    <tr style=\"text-align: right;\">\n",
       "      <th></th>\n",
       "      <th>accuracy</th>\n",
       "      <th>balanced accuracy</th>\n",
       "      <th>f1</th>\n",
       "      <th>precision</th>\n",
       "      <th>false positive rate</th>\n",
       "      <th>false negative rate</th>\n",
       "      <th>selection rate</th>\n",
       "      <th>count</th>\n",
       "    </tr>\n",
       "    <tr>\n",
       "      <th>majmin</th>\n",
       "      <th></th>\n",
       "      <th></th>\n",
       "      <th></th>\n",
       "      <th></th>\n",
       "      <th></th>\n",
       "      <th></th>\n",
       "      <th></th>\n",
       "      <th></th>\n",
       "    </tr>\n",
       "  </thead>\n",
       "  <tbody>\n",
       "    <tr>\n",
       "      <th>majority</th>\n",
       "      <td>0.207619</td>\n",
       "      <td>0.537690</td>\n",
       "      <td>0.247532</td>\n",
       "      <td>0.141525</td>\n",
       "      <td>0.910945</td>\n",
       "      <td>0.013676</td>\n",
       "      <td>0.920905</td>\n",
       "      <td>69170.0</td>\n",
       "    </tr>\n",
       "    <tr>\n",
       "      <th>minority</th>\n",
       "      <td>0.176874</td>\n",
       "      <td>0.520666</td>\n",
       "      <td>0.213225</td>\n",
       "      <td>0.119816</td>\n",
       "      <td>0.926150</td>\n",
       "      <td>0.032517</td>\n",
       "      <td>0.930915</td>\n",
       "      <td>20540.0</td>\n",
       "    </tr>\n",
       "  </tbody>\n",
       "</table>\n",
       "</div>"
      ],
      "text/plain": [
       "          accuracy  balanced accuracy        f1  precision  \\\n",
       "majmin                                                       \n",
       "majority  0.207619           0.537690  0.247532   0.141525   \n",
       "minority  0.176874           0.520666  0.213225   0.119816   \n",
       "\n",
       "          false positive rate  false negative rate  selection rate    count  \n",
       "majmin                                                                       \n",
       "majority             0.910945             0.013676        0.920905  69170.0  \n",
       "minority             0.926150             0.032517        0.930915  20540.0  "
      ]
     },
     "execution_count": 75,
     "metadata": {},
     "output_type": "execute_result"
    }
   ],
   "source": [
    "metric_frame.by_group"
   ]
  },
  {
   "cell_type": "code",
   "execution_count": 76,
   "id": "a9ddbe63",
   "metadata": {
    "execution": {
     "iopub.execute_input": "2025-07-30T21:29:29.140137Z",
     "iopub.status.busy": "2025-07-30T21:29:29.139629Z",
     "iopub.status.idle": "2025-07-30T21:29:31.363629Z",
     "shell.execute_reply": "2025-07-30T21:29:31.362691Z"
    },
    "papermill": {
     "duration": 2.241034,
     "end_time": "2025-07-30T21:29:31.365362",
     "exception": false,
     "start_time": "2025-07-30T21:29:29.124328",
     "status": "completed"
    },
    "tags": []
   },
   "outputs": [
    {
     "data": {
      "text/plain": [
       "array([[<Axes: title={'center': 'accuracy'}, xlabel='majmin'>,\n",
       "        <Axes: title={'center': 'balanced accuracy'}, xlabel='majmin'>,\n",
       "        <Axes: title={'center': 'f1'}, xlabel='majmin'>],\n",
       "       [<Axes: title={'center': 'precision'}, xlabel='majmin'>,\n",
       "        <Axes: title={'center': 'false positive rate'}, xlabel='majmin'>,\n",
       "        <Axes: title={'center': 'false negative rate'}, xlabel='majmin'>],\n",
       "       [<Axes: title={'center': 'selection rate'}, xlabel='majmin'>,\n",
       "        <Axes: title={'center': 'count'}, xlabel='majmin'>,\n",
       "        <Axes: xlabel='majmin'>]], dtype=object)"
      ]
     },
     "execution_count": 76,
     "metadata": {},
     "output_type": "execute_result"
    },
    {
     "data": {
      "image/png": "[encoded data removed]",
      "text/plain": [
       "<Figure size 1200x800 with 9 Axes>"
      ]
     },
     "metadata": {},
     "output_type": "display_data"
    }
   ],
   "source": [
    "# In a graphic\n",
    "metric_frame.by_group.plot.bar(\n",
    "    subplots=True,\n",
    "    layout=[3, 3],\n",
    "    legend=False,\n",
    "    figsize=[12, 8],\n",
    "    title=\"Show all metrics\",\n",
    ")"
   ]
  },
  {
   "cell_type": "markdown",
   "id": "f57a0bac",
   "metadata": {
    "papermill": {
     "duration": 0.026805,
     "end_time": "2025-07-30T21:29:31.422120",
     "exception": false,
     "start_time": "2025-07-30T21:29:31.395315",
     "status": "completed"
    },
    "tags": []
   },
   "source": [
    "# Final Output"
   ]
  },
  {
   "cell_type": "code",
   "execution_count": 77,
   "id": "96d280a3",
   "metadata": {
    "execution": {
     "iopub.execute_input": "2025-07-30T21:29:31.477123Z",
     "iopub.status.busy": "2025-07-30T21:29:31.476261Z",
     "iopub.status.idle": "2025-07-30T21:29:31.484977Z",
     "shell.execute_reply": "2025-07-30T21:29:31.483941Z"
    },
    "papermill": {
     "duration": 0.037305,
     "end_time": "2025-07-30T21:29:31.486544",
     "exception": false,
     "start_time": "2025-07-30T21:29:31.449239",
     "status": "completed"
    },
    "tags": []
   },
   "outputs": [
    {
     "data": {
      "text/plain": [
       "4"
      ]
     },
     "execution_count": 77,
     "metadata": {},
     "output_type": "execute_result"
    }
   ],
   "source": [
    "sub_universes = universe_analysis.generate_sub_universes()\n",
    "len(sub_universes)"
   ]
  },
  {
   "cell_type": "code",
   "execution_count": 78,
   "id": "92adf7ba",
   "metadata": {
    "execution": {
     "iopub.execute_input": "2025-07-30T21:29:31.545414Z",
     "iopub.status.busy": "2025-07-30T21:29:31.544966Z",
     "iopub.status.idle": "2025-07-30T21:29:31.551050Z",
     "shell.execute_reply": "2025-07-30T21:29:31.550050Z"
    },
    "papermill": {
     "duration": 0.037189,
     "end_time": "2025-07-30T21:29:31.552714",
     "exception": false,
     "start_time": "2025-07-30T21:29:31.515525",
     "status": "completed"
    },
    "tags": []
   },
   "outputs": [],
   "source": [
    "def filter_sub_universe_data(sub_universe, org_test):\n",
    "    # Keep all rows — no filtering\n",
    "    keep_rows_mask = np.ones(org_test.shape[0], dtype=bool)\n",
    "\n",
    "    print(f\"[INFO] Keeping all rows: {keep_rows_mask.sum()} rows retained.\")\n",
    "    return keep_rows_mask"
   ]
  },
  {
   "cell_type": "code",
   "execution_count": 79,
   "id": "4a759155",
   "metadata": {
    "execution": {
     "iopub.execute_input": "2025-07-30T21:29:31.607593Z",
     "iopub.status.busy": "2025-07-30T21:29:31.607130Z",
     "iopub.status.idle": "2025-07-30T21:29:42.227636Z",
     "shell.execute_reply": "2025-07-30T21:29:42.226378Z"
    },
    "papermill": {
     "duration": 10.649792,
     "end_time": "2025-07-30T21:29:42.229873",
     "exception": false,
     "start_time": "2025-07-30T21:29:31.580081",
     "status": "completed"
    },
    "tags": []
   },
   "outputs": [
    {
     "name": "stdout",
     "output_type": "stream",
     "text": [
      "Stopping execution_time clock.\n",
      "[INFO] Keeping all rows: 89710 rows retained.\n"
     ]
    },
    {
     "name": "stdout",
     "output_type": "stream",
     "text": [
      "[INFO] Keeping all rows: 89710 rows retained.\n"
     ]
    },
    {
     "name": "stdout",
     "output_type": "stream",
     "text": [
      "[INFO] Keeping all rows: 89710 rows retained.\n"
     ]
    },
    {
     "name": "stdout",
     "output_type": "stream",
     "text": [
      "[INFO] Keeping all rows: 89710 rows retained.\n"
     ]
    },
    {
     "data": {
      "text/html": [
       "<div>\n",
       "<style scoped>\n",
       "    .dataframe tbody tr th:only-of-type {\n",
       "        vertical-align: middle;\n",
       "    }\n",
       "\n",
       "    .dataframe tbody tr th {\n",
       "        vertical-align: top;\n",
       "    }\n",
       "\n",
       "    .dataframe thead th {\n",
       "        text-align: right;\n",
       "    }\n",
       "</style>\n",
       "<table border=\"1\" class=\"dataframe\">\n",
       "  <thead>\n",
       "    <tr style=\"text-align: right;\">\n",
       "      <th></th>\n",
       "      <th>run_no</th>\n",
       "      <th>universe_id</th>\n",
       "      <th>universe_settings</th>\n",
       "      <th>execution_time</th>\n",
       "      <th>test_size_n</th>\n",
       "      <th>test_size_frac</th>\n",
       "      <th>fair_main_equalized_odds_difference</th>\n",
       "      <th>fair_main_equalized_odds_ratio</th>\n",
       "      <th>fair_main_demographic_parity_difference</th>\n",
       "      <th>fair_main_demographic_parity_ratio</th>\n",
       "      <th>...</th>\n",
       "      <th>perf_grp_precision_0</th>\n",
       "      <th>perf_grp_precision_1</th>\n",
       "      <th>perf_grp_false positive rate_0</th>\n",
       "      <th>perf_grp_false positive rate_1</th>\n",
       "      <th>perf_grp_false negative rate_0</th>\n",
       "      <th>perf_grp_false negative rate_1</th>\n",
       "      <th>perf_grp_selection rate_0</th>\n",
       "      <th>perf_grp_selection rate_1</th>\n",
       "      <th>perf_grp_count_0</th>\n",
       "      <th>perf_grp_count_1</th>\n",
       "    </tr>\n",
       "  </thead>\n",
       "  <tbody>\n",
       "    <tr>\n",
       "      <th>0</th>\n",
       "      <td>14</td>\n",
       "      <td>2adb1d8b89a10ef093002c85de69a97e</td>\n",
       "      <td>{\"cutoff\": \"quantile_0.1\", \"eval_fairness_grou...</td>\n",
       "      <td>28.933058</td>\n",
       "      <td>89710</td>\n",
       "      <td>1.0</td>\n",
       "      <td>0.018841</td>\n",
       "      <td>0.980898</td>\n",
       "      <td>0.01001</td>\n",
       "      <td>0.989247</td>\n",
       "      <td>...</td>\n",
       "      <td>NaN</td>\n",
       "      <td>NaN</td>\n",
       "      <td>NaN</td>\n",
       "      <td>NaN</td>\n",
       "      <td>NaN</td>\n",
       "      <td>NaN</td>\n",
       "      <td>NaN</td>\n",
       "      <td>NaN</td>\n",
       "      <td>NaN</td>\n",
       "      <td>NaN</td>\n",
       "    </tr>\n",
       "    <tr>\n",
       "      <th>0</th>\n",
       "      <td>14</td>\n",
       "      <td>2adb1d8b89a10ef093002c85de69a97e</td>\n",
       "      <td>{\"cutoff\": \"quantile_0.1\", \"eval_fairness_grou...</td>\n",
       "      <td>28.933058</td>\n",
       "      <td>89710</td>\n",
       "      <td>1.0</td>\n",
       "      <td>0.018841</td>\n",
       "      <td>0.980898</td>\n",
       "      <td>0.01001</td>\n",
       "      <td>0.989247</td>\n",
       "      <td>...</td>\n",
       "      <td>0.119816</td>\n",
       "      <td>0.141525</td>\n",
       "      <td>0.926150</td>\n",
       "      <td>0.910945</td>\n",
       "      <td>0.032517</td>\n",
       "      <td>0.013676</td>\n",
       "      <td>0.930915</td>\n",
       "      <td>0.920905</td>\n",
       "      <td>20540.0</td>\n",
       "      <td>69170.0</td>\n",
       "    </tr>\n",
       "    <tr>\n",
       "      <th>0</th>\n",
       "      <td>14</td>\n",
       "      <td>2adb1d8b89a10ef093002c85de69a97e</td>\n",
       "      <td>{\"cutoff\": \"quantile_0.25\", \"eval_fairness_gro...</td>\n",
       "      <td>28.933058</td>\n",
       "      <td>89710</td>\n",
       "      <td>1.0</td>\n",
       "      <td>0.047478</td>\n",
       "      <td>0.949594</td>\n",
       "      <td>0.01946</td>\n",
       "      <td>0.975072</td>\n",
       "      <td>...</td>\n",
       "      <td>NaN</td>\n",
       "      <td>NaN</td>\n",
       "      <td>NaN</td>\n",
       "      <td>NaN</td>\n",
       "      <td>NaN</td>\n",
       "      <td>NaN</td>\n",
       "      <td>NaN</td>\n",
       "      <td>NaN</td>\n",
       "      <td>NaN</td>\n",
       "      <td>NaN</td>\n",
       "    </tr>\n",
       "    <tr>\n",
       "      <th>0</th>\n",
       "      <td>14</td>\n",
       "      <td>2adb1d8b89a10ef093002c85de69a97e</td>\n",
       "      <td>{\"cutoff\": \"quantile_0.25\", \"eval_fairness_gro...</td>\n",
       "      <td>28.933058</td>\n",
       "      <td>89710</td>\n",
       "      <td>1.0</td>\n",
       "      <td>0.047478</td>\n",
       "      <td>0.949594</td>\n",
       "      <td>0.01946</td>\n",
       "      <td>0.975072</td>\n",
       "      <td>...</td>\n",
       "      <td>0.132086</td>\n",
       "      <td>0.163504</td>\n",
       "      <td>0.765849</td>\n",
       "      <td>0.733700</td>\n",
       "      <td>0.105574</td>\n",
       "      <td>0.058096</td>\n",
       "      <td>0.780672</td>\n",
       "      <td>0.761212</td>\n",
       "      <td>20540.0</td>\n",
       "      <td>69170.0</td>\n",
       "    </tr>\n",
       "  </tbody>\n",
       "</table>\n",
       "<p>4 rows × 50 columns</p>\n",
       "</div>"
      ],
      "text/plain": [
       "  run_no                       universe_id  \\\n",
       "0     14  2adb1d8b89a10ef093002c85de69a97e   \n",
       "0     14  2adb1d8b89a10ef093002c85de69a97e   \n",
       "0     14  2adb1d8b89a10ef093002c85de69a97e   \n",
       "0     14  2adb1d8b89a10ef093002c85de69a97e   \n",
       "\n",
       "                                   universe_settings  execution_time  \\\n",
       "0  {\"cutoff\": \"quantile_0.1\", \"eval_fairness_grou...       28.933058   \n",
       "0  {\"cutoff\": \"quantile_0.1\", \"eval_fairness_grou...       28.933058   \n",
       "0  {\"cutoff\": \"quantile_0.25\", \"eval_fairness_gro...       28.933058   \n",
       "0  {\"cutoff\": \"quantile_0.25\", \"eval_fairness_gro...       28.933058   \n",
       "\n",
       "   test_size_n  test_size_frac  fair_main_equalized_odds_difference  \\\n",
       "0        89710             1.0                             0.018841   \n",
       "0        89710             1.0                             0.018841   \n",
       "0        89710             1.0                             0.047478   \n",
       "0        89710             1.0                             0.047478   \n",
       "\n",
       "   fair_main_equalized_odds_ratio  fair_main_demographic_parity_difference  \\\n",
       "0                        0.980898                                  0.01001   \n",
       "0                        0.980898                                  0.01001   \n",
       "0                        0.949594                                  0.01946   \n",
       "0                        0.949594                                  0.01946   \n",
       "\n",
       "   fair_main_demographic_parity_ratio  ...  perf_grp_precision_0  \\\n",
       "0                            0.989247  ...                   NaN   \n",
       "0                            0.989247  ...              0.119816   \n",
       "0                            0.975072  ...                   NaN   \n",
       "0                            0.975072  ...              0.132086   \n",
       "\n",
       "   perf_grp_precision_1  perf_grp_false positive rate_0  \\\n",
       "0                   NaN                             NaN   \n",
       "0              0.141525                        0.926150   \n",
       "0                   NaN                             NaN   \n",
       "0              0.163504                        0.765849   \n",
       "\n",
       "   perf_grp_false positive rate_1  perf_grp_false negative rate_0  \\\n",
       "0                             NaN                             NaN   \n",
       "0                        0.910945                        0.032517   \n",
       "0                             NaN                             NaN   \n",
       "0                        0.733700                        0.105574   \n",
       "\n",
       "   perf_grp_false negative rate_1  perf_grp_selection rate_0  \\\n",
       "0                             NaN                        NaN   \n",
       "0                        0.013676                   0.930915   \n",
       "0                             NaN                        NaN   \n",
       "0                        0.058096                   0.780672   \n",
       "\n",
       "   perf_grp_selection rate_1  perf_grp_count_0  perf_grp_count_1  \n",
       "0                        NaN               NaN               NaN  \n",
       "0                   0.920905           20540.0           69170.0  \n",
       "0                        NaN               NaN               NaN  \n",
       "0                   0.761212           20540.0           69170.0  \n",
       "\n",
       "[4 rows x 50 columns]"
      ]
     },
     "execution_count": 79,
     "metadata": {},
     "output_type": "execute_result"
    }
   ],
   "source": [
    "final_output = universe_analysis.generate_final_output(\n",
    "    y_pred_prob=probs_test,\n",
    "    y_test=y_true,\n",
    "    org_test=org_test,\n",
    "    filter_data=filter_sub_universe_data,\n",
    "    cp_metrics_df=cp_metrics_df,\n",
    "    save=True,\n",
    ")\n",
    "final_output"
   ]
  },
  {
   "cell_type": "code",
   "execution_count": null,
   "id": "721ff514-cb11-46f8-b6fc-50392f74b5cb",
   "metadata": {
    "papermill": {
     "duration": 0.042825,
     "end_time": "2025-07-30T21:29:42.316710",
     "exception": false,
     "start_time": "2025-07-30T21:29:42.273885",
     "status": "completed"
    },
    "tags": []
   },
   "outputs": [],
   "source": []
  }
 ],
 "metadata": {
  "celltoolbar": "Tags",
  "kernelspec": {
   "display_name": "Python (CMA Fairness)",
   "language": "python",
   "name": "cma_fair_env"
  },
  "language_info": {
   "codemirror_mode": {
    "name": "ipython",
    "version": 3
   },
   "file_extension": ".py",
   "mimetype": "text/x-python",
   "name": "python",
   "nbconvert_exporter": "python",
   "pygments_lexer": "ipython3",
   "version": "3.10.12"
  },
  "papermill": {
   "default_parameters": {},
   "duration": 44.049606,
   "end_time": "2025-07-30T21:29:43.278870",
   "environment_variables": {},
   "exception": null,
   "input_path": "universe_analysis.ipynb",
   "output_path": "output/runs/14/notebooks/m_14-2adb1d8b89a10ef093002c85de69a97e.ipynb",
   "parameters": {
    "output_dir": "output",
    "run_no": "14",
    "seed": "2023",
    "universe": "{\"cutoff\": [\"quantile_0.1\", \"quantile_0.25\"], \"eval_fairness_grouping\": [\"majority-minority\", \"nationality-all\"], \"exclude_features\": \"none\", \"exclude_subgroups\": \"drop-non-german\", \"model\": \"rf\", \"scale\": \"do-not-scale\", \"training_size\": \"1k\", \"training_year\": \"2014\"}",
    "universe_id": "2adb1d8b89a10ef093002c85de69a97e"
   },
   "start_time": "2025-07-30T21:28:59.229264",
   "version": "2.6.0"
  }
 },
 "nbformat": 4,
 "nbformat_minor": 5
}