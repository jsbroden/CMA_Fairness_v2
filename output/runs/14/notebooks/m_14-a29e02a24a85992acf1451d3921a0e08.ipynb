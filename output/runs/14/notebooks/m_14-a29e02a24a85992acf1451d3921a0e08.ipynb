{
 "cells": [
  {
   "cell_type": "code",
   "execution_count": 1,
   "id": "f159f837-637b-42ba-96b5-ec9a68c44524",
   "metadata": {
    "execution": {
     "iopub.execute_input": "2025-07-30T21:13:58.487287Z",
     "iopub.status.busy": "2025-07-30T21:13:58.486682Z",
     "iopub.status.idle": "2025-07-30T21:13:58.501950Z",
     "shell.execute_reply": "2025-07-30T21:13:58.500796Z"
    },
    "papermill": {
     "duration": 0.038999,
     "end_time": "2025-07-30T21:13:58.504296",
     "exception": false,
     "start_time": "2025-07-30T21:13:58.465297",
     "status": "completed"
    },
    "tags": []
   },
   "outputs": [
    {
     "name": "stdout",
     "output_type": "stream",
     "text": [
      "/dss/dsshome1/0C/ra93lal2/cma/CMA_Fairness_v2\n"
     ]
    },
    {
     "name": "stderr",
     "output_type": "stream",
     "text": [
      "/dss/dsshome1/0C/ra93lal2/.local/share/virtualenvs/CMA_Fairness_v2-3j10GkSs/lib/python3.10/site-packages/IPython/core/magics/osm.py:393: UserWarning: This is now an optional IPython functionality, using bookmarks requires you to install the `pickleshare` library.\n",
      "  bkms = self.shell.db.get('bookmarks', {})\n",
      "/dss/dsshome1/0C/ra93lal2/.local/share/virtualenvs/CMA_Fairness_v2-3j10GkSs/lib/python3.10/site-packages/IPython/core/magics/osm.py:417: UserWarning: This is now an optional IPython functionality, setting dhist requires you to install the `pickleshare` library.\n",
      "  self.shell.db['dhist'] = compress_dhist(dhist)[-100:]\n"
     ]
    }
   ],
   "source": [
    "%cd ~/cma/CMA_Fairness_v2"
   ]
  },
  {
   "cell_type": "markdown",
   "id": "de2603b9",
   "metadata": {
    "papermill": {
     "duration": 0.020339,
     "end_time": "2025-07-30T21:13:58.565170",
     "exception": false,
     "start_time": "2025-07-30T21:13:58.544831",
     "status": "completed"
    },
    "tags": []
   },
   "source": [
    "The following cell holds the definition of our parameters, these values can be overriden by rendering the with e.g. the following command:\n",
    "\n",
    "papermill -p alpha 0.2 -p ratio 0.3 universe_analysis.ipynb output/test_run.ipynb"
   ]
  },
  {
   "cell_type": "code",
   "execution_count": 2,
   "id": "a80968a0-40bb-4fa9-85ef-2d5eefb01975",
   "metadata": {
    "execution": {
     "iopub.execute_input": "2025-07-30T21:13:58.614188Z",
     "iopub.status.busy": "2025-07-30T21:13:58.613492Z",
     "iopub.status.idle": "2025-07-30T21:13:58.618728Z",
     "shell.execute_reply": "2025-07-30T21:13:58.617867Z"
    },
    "papermill": {
     "duration": 0.033573,
     "end_time": "2025-07-30T21:13:58.620013",
     "exception": false,
     "start_time": "2025-07-30T21:13:58.586440",
     "status": "completed"
    },
    "tags": []
   },
   "outputs": [
    {
     "name": "stdout",
     "output_type": "stream",
     "text": [
      "Current working directory: /dss/dsshome1/0C/ra93lal2/cma/CMA_Fairness_v2\n"
     ]
    }
   ],
   "source": [
    "import os\n",
    "print(\"Current working directory:\", os.getcwd())"
   ]
  },
  {
   "cell_type": "code",
   "execution_count": 3,
   "id": "2dce4c03",
   "metadata": {
    "execution": {
     "iopub.execute_input": "2025-07-30T21:13:58.644157Z",
     "iopub.status.busy": "2025-07-30T21:13:58.643790Z",
     "iopub.status.idle": "2025-07-30T21:13:58.648705Z",
     "shell.execute_reply": "2025-07-30T21:13:58.647891Z"
    },
    "papermill": {
     "duration": 0.017856,
     "end_time": "2025-07-30T21:13:58.650024",
     "exception": false,
     "start_time": "2025-07-30T21:13:58.632168",
     "status": "completed"
    },
    "tags": [
     "parameters"
    ]
   },
   "outputs": [],
   "source": [
    "run_no = 0\n",
    "universe_id = \"test\"\n",
    "universe = {\n",
    "    \"training_size\": \"25k\", # \"25k\", \"5k\", \"1k\"\n",
    "    \"training_year\": \"2014\", # \"2014\", \"2012_14\", \"2010_14\"\n",
    "    \"scale\": \"scale\", # \"scale\", \"do-not-scale\",\n",
    "    #\"stratify_split\": \"target\", # \"none\", \"target\", \"protected-attribute\", \"both\",\n",
    "    \"model\": \"elasticnet\", # \"logreg\", \"penalized_logreg\", \"rf\", \"gbm\", \"elasticnet\"\n",
    "    \"cutoff\": [\"quantile_0.15\", \"quantile_0.30\"],\n",
    "    \"exclude_features\": \"age\", # \"none\", \"nationality\", \"sex\", \"nationality-sex\", \"age\"\n",
    "    \"exclude_subgroups\": \"keep-all\", # \"keep-all\", \"drop-non-german\"\n",
    "    \"eval_fairness_grouping\": [\"majority-minority\", \"nationality-all\"]\n",
    "}\n",
    "\n",
    "output_dir=\"./output\"\n",
    "seed=0"
   ]
  },
  {
   "cell_type": "code",
   "execution_count": 4,
   "id": "9c517ac0",
   "metadata": {
    "execution": {
     "iopub.execute_input": "2025-07-30T21:13:58.674049Z",
     "iopub.status.busy": "2025-07-30T21:13:58.673708Z",
     "iopub.status.idle": "2025-07-30T21:13:58.678038Z",
     "shell.execute_reply": "2025-07-30T21:13:58.677252Z"
    },
    "papermill": {
     "duration": 0.017193,
     "end_time": "2025-07-30T21:13:58.679254",
     "exception": false,
     "start_time": "2025-07-30T21:13:58.662061",
     "status": "completed"
    },
    "tags": [
     "injected-parameters"
    ]
   },
   "outputs": [],
   "source": [
    "# Parameters\n",
    "universe_id = \"a29e02a24a85992acf1451d3921a0e08\"\n",
    "run_no = \"14\"\n",
    "universe = \"{\\\"cutoff\\\": [\\\"quantile_0.1\\\", \\\"quantile_0.25\\\"], \\\"eval_fairness_grouping\\\": [\\\"majority-minority\\\", \\\"nationality-all\\\"], \\\"exclude_features\\\": \\\"nationality\\\", \\\"exclude_subgroups\\\": \\\"keep-all\\\", \\\"model\\\": \\\"elasticnet\\\", \\\"scale\\\": \\\"scale\\\", \\\"training_size\\\": \\\"5k\\\", \\\"training_year\\\": \\\"2010_14\\\"}\"\n",
    "output_dir = \"output\"\n",
    "seed = \"2023\"\n"
   ]
  },
  {
   "cell_type": "code",
   "execution_count": 5,
   "id": "1650acaf",
   "metadata": {
    "execution": {
     "iopub.execute_input": "2025-07-30T21:13:58.704704Z",
     "iopub.status.busy": "2025-07-30T21:13:58.704336Z",
     "iopub.status.idle": "2025-07-30T21:13:58.737637Z",
     "shell.execute_reply": "2025-07-30T21:13:58.736595Z"
    },
    "papermill": {
     "duration": 0.047246,
     "end_time": "2025-07-30T21:13:58.739594",
     "exception": false,
     "start_time": "2025-07-30T21:13:58.692348",
     "status": "completed"
    },
    "tags": []
   },
   "outputs": [],
   "source": [
    "import json\n",
    "# Parse universe into dict if it is passed as a string\n",
    "if isinstance(universe, str):\n",
    "    universe = json.loads(universe)"
   ]
  },
  {
   "cell_type": "code",
   "execution_count": 6,
   "id": "16620c48",
   "metadata": {
    "execution": {
     "iopub.execute_input": "2025-07-30T21:13:58.764019Z",
     "iopub.status.busy": "2025-07-30T21:13:58.763642Z",
     "iopub.status.idle": "2025-07-30T21:13:58.809566Z",
     "shell.execute_reply": "2025-07-30T21:13:58.808601Z"
    },
    "papermill": {
     "duration": 0.060382,
     "end_time": "2025-07-30T21:13:58.811607",
     "exception": false,
     "start_time": "2025-07-30T21:13:58.751225",
     "status": "completed"
    },
    "tags": []
   },
   "outputs": [],
   "source": [
    "# Auto-reload the custom package\n",
    "%load_ext autoreload\n",
    "%autoreload 1\n",
    "%aimport fairness_multiverse"
   ]
  },
  {
   "cell_type": "code",
   "execution_count": 7,
   "id": "01c5c9f3",
   "metadata": {
    "execution": {
     "iopub.execute_input": "2025-07-30T21:13:58.854299Z",
     "iopub.status.busy": "2025-07-30T21:13:58.853665Z",
     "iopub.status.idle": "2025-07-30T21:14:00.777277Z",
     "shell.execute_reply": "2025-07-30T21:14:00.776136Z"
    },
    "papermill": {
     "duration": 1.946406,
     "end_time": "2025-07-30T21:14:00.779229",
     "exception": false,
     "start_time": "2025-07-30T21:13:58.832823",
     "status": "completed"
    },
    "tags": []
   },
   "outputs": [],
   "source": [
    "from fairness_multiverse.universe import UniverseAnalysis\n",
    "\n",
    "universe_analysis = UniverseAnalysis(\n",
    "    run_no = run_no,\n",
    "    universe_id = universe_id,\n",
    "    universe = universe,\n",
    "    output_dir=output_dir,\n",
    ")"
   ]
  },
  {
   "cell_type": "code",
   "execution_count": 8,
   "id": "106241f5",
   "metadata": {
    "execution": {
     "iopub.execute_input": "2025-07-30T21:14:00.825480Z",
     "iopub.status.busy": "2025-07-30T21:14:00.824967Z",
     "iopub.status.idle": "2025-07-30T21:14:00.831770Z",
     "shell.execute_reply": "2025-07-30T21:14:00.830711Z"
    },
    "papermill": {
     "duration": 0.034455,
     "end_time": "2025-07-30T21:14:00.834173",
     "exception": false,
     "start_time": "2025-07-30T21:14:00.799718",
     "status": "completed"
    },
    "tags": []
   },
   "outputs": [
    {
     "name": "stdout",
     "output_type": "stream",
     "text": [
      "Using Seed: 2023\n"
     ]
    }
   ],
   "source": [
    "import numpy as np\n",
    "parsed_seed = int(seed)\n",
    "np.random.seed(parsed_seed)\n",
    "print(f\"Using Seed: {parsed_seed}\")"
   ]
  },
  {
   "cell_type": "markdown",
   "id": "e0ebdc57",
   "metadata": {
    "papermill": {
     "duration": 0.022021,
     "end_time": "2025-07-30T21:14:00.877045",
     "exception": false,
     "start_time": "2025-07-30T21:14:00.855024",
     "status": "completed"
    },
    "tags": []
   },
   "source": [
    "# Loading Data"
   ]
  },
  {
   "cell_type": "markdown",
   "id": "681925a3",
   "metadata": {
    "papermill": {
     "duration": 0.020822,
     "end_time": "2025-07-30T21:14:00.919638",
     "exception": false,
     "start_time": "2025-07-30T21:14:00.898816",
     "status": "completed"
    },
    "tags": []
   },
   "source": [
    "Load siab_train, siab_test, siab_calib and/or \n",
    "load siab_train_features, siab_train_labels"
   ]
  },
  {
   "cell_type": "code",
   "execution_count": 9,
   "id": "f0496b8a",
   "metadata": {
    "execution": {
     "iopub.execute_input": "2025-07-30T21:14:00.962960Z",
     "iopub.status.busy": "2025-07-30T21:14:00.962456Z",
     "iopub.status.idle": "2025-07-30T21:14:12.320003Z",
     "shell.execute_reply": "2025-07-30T21:14:12.318921Z"
    },
    "papermill": {
     "duration": 11.381595,
     "end_time": "2025-07-30T21:14:12.321595",
     "exception": false,
     "start_time": "2025-07-30T21:14:00.940000",
     "status": "completed"
    },
    "tags": []
   },
   "outputs": [
    {
     "name": "stdout",
     "output_type": "stream",
     "text": [
      "Loading SIAB data from cache: data/siab_cached.csv.gz\n"
     ]
    },
    {
     "name": "stdout",
     "output_type": "stream",
     "text": [
      "(643690, 164)\n"
     ]
    }
   ],
   "source": [
    "from pathlib import Path\n",
    "import pandas as pd\n",
    "\n",
    "# File paths\n",
    "raw_file = Path(\"data/raw/siab.csv\")\n",
    "cache_file = Path(\"data/siab_cached.csv.gz\")\n",
    "\n",
    "# Ensure cache directory exists\n",
    "cache_file.parent.mkdir(parents=True, exist_ok=True)\n",
    "\n",
    "# Load with simple caching\n",
    "if cache_file.exists():\n",
    "    print(f\"Loading SIAB data from cache: {cache_file}\")\n",
    "    siab = pd.read_csv(cache_file, compression='gzip')\n",
    "else:\n",
    "    print(f\"Cache not found. Reading raw SIAB data: {raw_file}\")\n",
    "    siab = pd.read_csv(raw_file)\n",
    "    siab.to_csv(cache_file, index=False, compression='gzip')\n",
    "    print(f\"Cached SIAB data to: {cache_file}\")\n",
    "\n",
    "# Now use `siab` DataFrame as needed\n",
    "print(siab.shape)"
   ]
  },
  {
   "cell_type": "code",
   "execution_count": 10,
   "id": "db0ca512-5f53-4dba-abdb-a2888bca41ba",
   "metadata": {
    "execution": {
     "iopub.execute_input": "2025-07-30T21:14:12.367080Z",
     "iopub.status.busy": "2025-07-30T21:14:12.366386Z",
     "iopub.status.idle": "2025-07-30T21:14:12.372039Z",
     "shell.execute_reply": "2025-07-30T21:14:12.371177Z"
    },
    "papermill": {
     "duration": 0.028098,
     "end_time": "2025-07-30T21:14:12.373528",
     "exception": false,
     "start_time": "2025-07-30T21:14:12.345430",
     "status": "completed"
    },
    "tags": []
   },
   "outputs": [],
   "source": [
    "#siab"
   ]
  },
  {
   "cell_type": "code",
   "execution_count": 11,
   "id": "a0edb063",
   "metadata": {
    "execution": {
     "iopub.execute_input": "2025-07-30T21:14:12.414703Z",
     "iopub.status.busy": "2025-07-30T21:14:12.413860Z",
     "iopub.status.idle": "2025-07-30T21:14:12.418750Z",
     "shell.execute_reply": "2025-07-30T21:14:12.417890Z"
    },
    "papermill": {
     "duration": 0.026843,
     "end_time": "2025-07-30T21:14:12.420315",
     "exception": false,
     "start_time": "2025-07-30T21:14:12.393472",
     "status": "completed"
    },
    "tags": []
   },
   "outputs": [],
   "source": [
    "#import pandas as pd\n",
    "#\n",
    "#X_train = pd.read_csv(\"./data/X_train.csv\")\n",
    "#y_train = pd.read_csv(\"./data/y_train.csv\")"
   ]
  },
  {
   "cell_type": "code",
   "execution_count": 12,
   "id": "63d08085",
   "metadata": {
    "execution": {
     "iopub.execute_input": "2025-07-30T21:14:12.461728Z",
     "iopub.status.busy": "2025-07-30T21:14:12.460984Z",
     "iopub.status.idle": "2025-07-30T21:14:12.465582Z",
     "shell.execute_reply": "2025-07-30T21:14:12.464674Z"
    },
    "papermill": {
     "duration": 0.026691,
     "end_time": "2025-07-30T21:14:12.467245",
     "exception": false,
     "start_time": "2025-07-30T21:14:12.440554",
     "status": "completed"
    },
    "tags": []
   },
   "outputs": [],
   "source": [
    "#X_test = pd.read_csv(\"./data/X_test.csv\")\n",
    "#y_true = pd.read_csv(\"./data/y_test.csv\")"
   ]
  },
  {
   "cell_type": "code",
   "execution_count": 13,
   "id": "98a8d0fa-1d3d-4ed8-bb2c-281470e24add",
   "metadata": {
    "execution": {
     "iopub.execute_input": "2025-07-30T21:14:12.508378Z",
     "iopub.status.busy": "2025-07-30T21:14:12.507918Z",
     "iopub.status.idle": "2025-07-30T21:14:12.513306Z",
     "shell.execute_reply": "2025-07-30T21:14:12.512258Z"
    },
    "papermill": {
     "duration": 0.027542,
     "end_time": "2025-07-30T21:14:12.514850",
     "exception": false,
     "start_time": "2025-07-30T21:14:12.487308",
     "status": "completed"
    },
    "tags": []
   },
   "outputs": [],
   "source": [
    "# Calibration data for conformal\n",
    "#X_calib = pd.read_csv(\"./data/X_calib.csv\")\n",
    "#y_calib = pd.read_csv(\"./data/y_calib.csv\")"
   ]
  },
  {
   "cell_type": "markdown",
   "id": "997051c5-15bd-4b69-9786-c3001a3ce484",
   "metadata": {
    "papermill": {
     "duration": 0.019533,
     "end_time": "2025-07-30T21:14:12.555004",
     "exception": false,
     "start_time": "2025-07-30T21:14:12.535471",
     "status": "completed"
    },
    "tags": []
   },
   "source": [
    "# Splitting Data and Setting Training Data Size"
   ]
  },
  {
   "cell_type": "code",
   "execution_count": 14,
   "id": "e993b61f-042d-41a6-8c81-f55681f86335",
   "metadata": {
    "execution": {
     "iopub.execute_input": "2025-07-30T21:14:12.596598Z",
     "iopub.status.busy": "2025-07-30T21:14:12.595891Z",
     "iopub.status.idle": "2025-07-30T21:14:12.609159Z",
     "shell.execute_reply": "2025-07-30T21:14:12.608240Z"
    },
    "papermill": {
     "duration": 0.035397,
     "end_time": "2025-07-30T21:14:12.610640",
     "exception": false,
     "start_time": "2025-07-30T21:14:12.575243",
     "status": "completed"
    },
    "tags": []
   },
   "outputs": [],
   "source": [
    "def sample_by_year_size(df,\n",
    "                        training_year: str,\n",
    "                        training_size: str,\n",
    "                        random_state: int = 42):\n",
    "    # --- parse training_year into a list of int years ---\n",
    "    if \"_\" in training_year:\n",
    "        start_str, end_str = training_year.split(\"_\", 1)\n",
    "        start = int(start_str)\n",
    "        end   = int(end_str) if len(end_str) == 4 else (int(end_str) + (start // 100)*100)\n",
    "        years = list(range(start, end + 1))\n",
    "    else:\n",
    "        years = [int(training_year)]\n",
    "\n",
    "    df = df[df[\"year\"].isin(years)].reset_index(drop=True)\n",
    "\n",
    "    # --- map training_size to total number of samples ---\n",
    "    total_map = {\"25k\": 25_000, \"5k\": 5_000, \"1k\": 1_000}\n",
    "    if training_size not in total_map:\n",
    "        return df  # e.g. \"all\"\n",
    "\n",
    "    total_samples = total_map[training_size]\n",
    "    n_years       = len(years)\n",
    "    base          = total_samples // n_years\n",
    "    remainder     = total_samples % n_years\n",
    "\n",
    "    # --- build a dict: year -> how many to sample ---\n",
    "    # give +1 to the first `remainder` years in ascending order\n",
    "    quotas = {\n",
    "        year: base + (1 if idx < remainder else 0)\n",
    "        for idx, year in enumerate(sorted(years))\n",
    "    }\n",
    "\n",
    "    # --- sample per‐year according to the quota dict ---\n",
    "    sampled = (\n",
    "        df\n",
    "        .groupby(\"year\", group_keys=False)\n",
    "        .apply(lambda grp: grp.sample(\n",
    "            n=min(len(grp), quotas[grp.name]),\n",
    "            random_state=random_state))\n",
    "        .reset_index(drop=True)\n",
    "    )\n",
    "\n",
    "    return sampled"
   ]
  },
  {
   "cell_type": "code",
   "execution_count": 15,
   "id": "c0ccd338-0e02-41f3-a09d-f56f9266e3fb",
   "metadata": {
    "execution": {
     "iopub.execute_input": "2025-07-30T21:14:12.652912Z",
     "iopub.status.busy": "2025-07-30T21:14:12.652274Z",
     "iopub.status.idle": "2025-07-30T21:14:12.657039Z",
     "shell.execute_reply": "2025-07-30T21:14:12.656010Z"
    },
    "papermill": {
     "duration": 0.027016,
     "end_time": "2025-07-30T21:14:12.658624",
     "exception": false,
     "start_time": "2025-07-30T21:14:12.631608",
     "status": "completed"
    },
    "tags": []
   },
   "outputs": [],
   "source": [
    "#universe[\"training_size\"]"
   ]
  },
  {
   "cell_type": "code",
   "execution_count": 16,
   "id": "ca707fd7-8047-4acd-bfa5-66248fbbf8e6",
   "metadata": {
    "execution": {
     "iopub.execute_input": "2025-07-30T21:14:12.699968Z",
     "iopub.status.busy": "2025-07-30T21:14:12.699351Z",
     "iopub.status.idle": "2025-07-30T21:14:12.703964Z",
     "shell.execute_reply": "2025-07-30T21:14:12.703079Z"
    },
    "papermill": {
     "duration": 0.026906,
     "end_time": "2025-07-30T21:14:12.705535",
     "exception": false,
     "start_time": "2025-07-30T21:14:12.678629",
     "status": "completed"
    },
    "tags": []
   },
   "outputs": [],
   "source": [
    "#universe[\"training_year\"]"
   ]
  },
  {
   "cell_type": "code",
   "execution_count": 17,
   "id": "aea9c6ef-6f46-42c8-85eb-5a62025c1508",
   "metadata": {
    "execution": {
     "iopub.execute_input": "2025-07-30T21:14:12.746916Z",
     "iopub.status.busy": "2025-07-30T21:14:12.746336Z",
     "iopub.status.idle": "2025-07-30T21:14:13.755754Z",
     "shell.execute_reply": "2025-07-30T21:14:13.754897Z"
    },
    "papermill": {
     "duration": 1.031937,
     "end_time": "2025-07-30T21:14:13.757550",
     "exception": false,
     "start_time": "2025-07-30T21:14:12.725613",
     "status": "completed"
    },
    "tags": []
   },
   "outputs": [],
   "source": [
    "siab_train = sample_by_year_size(siab,\n",
    "                               training_year=universe[\"training_year\"],\n",
    "                               training_size=universe[\"training_size\"])"
   ]
  },
  {
   "cell_type": "code",
   "execution_count": 18,
   "id": "8d3afb32-789d-442c-8d5d-9f5aa8dd2eed",
   "metadata": {
    "execution": {
     "iopub.execute_input": "2025-07-30T21:14:13.799422Z",
     "iopub.status.busy": "2025-07-30T21:14:13.798767Z",
     "iopub.status.idle": "2025-07-30T21:14:13.803644Z",
     "shell.execute_reply": "2025-07-30T21:14:13.802816Z"
    },
    "papermill": {
     "duration": 0.027487,
     "end_time": "2025-07-30T21:14:13.805140",
     "exception": false,
     "start_time": "2025-07-30T21:14:13.777653",
     "status": "completed"
    },
    "tags": []
   },
   "outputs": [],
   "source": [
    "#siab_train.shape"
   ]
  },
  {
   "cell_type": "code",
   "execution_count": 19,
   "id": "d582db68-1a4c-47fb-84fc-08518dc1975a",
   "metadata": {
    "execution": {
     "iopub.execute_input": "2025-07-30T21:14:13.848572Z",
     "iopub.status.busy": "2025-07-30T21:14:13.847922Z",
     "iopub.status.idle": "2025-07-30T21:14:13.853754Z",
     "shell.execute_reply": "2025-07-30T21:14:13.852735Z"
    },
    "papermill": {
     "duration": 0.028829,
     "end_time": "2025-07-30T21:14:13.855442",
     "exception": false,
     "start_time": "2025-07-30T21:14:13.826613",
     "status": "completed"
    },
    "tags": []
   },
   "outputs": [],
   "source": [
    "#display(siab_train.groupby(\"year\").size())"
   ]
  },
  {
   "cell_type": "code",
   "execution_count": 20,
   "id": "a561edb4-d032-42cb-8256-22eac1111c64",
   "metadata": {
    "execution": {
     "iopub.execute_input": "2025-07-30T21:14:13.901471Z",
     "iopub.status.busy": "2025-07-30T21:14:13.901006Z",
     "iopub.status.idle": "2025-07-30T21:14:14.147436Z",
     "shell.execute_reply": "2025-07-30T21:14:14.146524Z"
    },
    "papermill": {
     "duration": 0.270124,
     "end_time": "2025-07-30T21:14:14.149353",
     "exception": false,
     "start_time": "2025-07-30T21:14:13.879229",
     "status": "completed"
    },
    "tags": []
   },
   "outputs": [],
   "source": [
    "#siab_train = siab_s[siab_s.year < 2015]\n",
    "siab_calib = siab[siab.year == 2015]\n",
    "siab_test = siab[siab.year == 2016]"
   ]
  },
  {
   "cell_type": "code",
   "execution_count": 21,
   "id": "472de16f-c3db-4916-846b-1f0de9cf1746",
   "metadata": {
    "execution": {
     "iopub.execute_input": "2025-07-30T21:14:14.192687Z",
     "iopub.status.busy": "2025-07-30T21:14:14.192223Z",
     "iopub.status.idle": "2025-07-30T21:14:14.199643Z",
     "shell.execute_reply": "2025-07-30T21:14:14.198813Z"
    },
    "papermill": {
     "duration": 0.031329,
     "end_time": "2025-07-30T21:14:14.201256",
     "exception": false,
     "start_time": "2025-07-30T21:14:14.169927",
     "status": "completed"
    },
    "tags": []
   },
   "outputs": [],
   "source": [
    "X_train = siab_train.iloc[:,4:164]\n",
    "y_train = siab_train.iloc[:, [3]]"
   ]
  },
  {
   "cell_type": "code",
   "execution_count": 22,
   "id": "828c96af-f43a-4ed6-ba47-8ac73a47d56c",
   "metadata": {
    "execution": {
     "iopub.execute_input": "2025-07-30T21:14:14.243668Z",
     "iopub.status.busy": "2025-07-30T21:14:14.242996Z",
     "iopub.status.idle": "2025-07-30T21:14:14.292516Z",
     "shell.execute_reply": "2025-07-30T21:14:14.291512Z"
    },
    "papermill": {
     "duration": 0.072293,
     "end_time": "2025-07-30T21:14:14.294162",
     "exception": false,
     "start_time": "2025-07-30T21:14:14.221869",
     "status": "completed"
    },
    "tags": []
   },
   "outputs": [],
   "source": [
    "X_calib = siab_calib.iloc[:,4:164]\n",
    "y_calib = siab_calib.iloc[:, [3]]"
   ]
  },
  {
   "cell_type": "code",
   "execution_count": 23,
   "id": "c34be9c3-6bd6-476e-acd3-845840e303be",
   "metadata": {
    "execution": {
     "iopub.execute_input": "2025-07-30T21:14:14.336820Z",
     "iopub.status.busy": "2025-07-30T21:14:14.336148Z",
     "iopub.status.idle": "2025-07-30T21:14:14.385999Z",
     "shell.execute_reply": "2025-07-30T21:14:14.385051Z"
    },
    "papermill": {
     "duration": 0.072556,
     "end_time": "2025-07-30T21:14:14.387555",
     "exception": false,
     "start_time": "2025-07-30T21:14:14.314999",
     "status": "completed"
    },
    "tags": []
   },
   "outputs": [],
   "source": [
    "X_test = siab_test.iloc[:,4:164]\n",
    "y_true = siab_test.iloc[:, [3]]"
   ]
  },
  {
   "cell_type": "markdown",
   "id": "9901737e-04df-44f0-9100-f5ad144ed040",
   "metadata": {
    "papermill": {
     "duration": 0.020189,
     "end_time": "2025-07-30T21:14:14.428699",
     "exception": false,
     "start_time": "2025-07-30T21:14:14.408510",
     "status": "completed"
    },
    "tags": []
   },
   "source": [
    "# Splitting Data and Setting Training Data Size OLD VERSION"
   ]
  },
  {
   "cell_type": "code",
   "execution_count": 24,
   "id": "acbc8f7d-8fc8-4e86-8c59-5dcb0f58384b",
   "metadata": {
    "execution": {
     "iopub.execute_input": "2025-07-30T21:14:14.470747Z",
     "iopub.status.busy": "2025-07-30T21:14:14.470104Z",
     "iopub.status.idle": "2025-07-30T21:14:14.475516Z",
     "shell.execute_reply": "2025-07-30T21:14:14.474579Z"
    },
    "papermill": {
     "duration": 0.028351,
     "end_time": "2025-07-30T21:14:14.477113",
     "exception": false,
     "start_time": "2025-07-30T21:14:14.448762",
     "status": "completed"
    },
    "tags": []
   },
   "outputs": [],
   "source": [
    "#def sample_by_year(df, training_size, random_state=42):\n",
    "#    if training_size == \"2014\":\n",
    "#        return df[df[\"year\"] == 2014].reset_index(drop=True)\n",
    "#    \n",
    "#    size_map = {\n",
    "#        \"25k\": 5000,\n",
    "#        \"5k\": 1000,\n",
    "#        \"1k\": 200\n",
    "#    }\n",
    "#\n",
    "#    if training_size not in size_map:\n",
    "#        return df.reset_index(drop=True)  # use all data\n",
    "#\n",
    "#    n_per_year = size_map[training_size]\n",
    "#    grouped = df.groupby(\"year\")\n",
    "#    sampled = grouped.apply(lambda x: x.sample(n=min(n_per_year, len(x)), random_state=random_state))\n",
    "#    return sampled.reset_index(drop=True)"
   ]
  },
  {
   "cell_type": "code",
   "execution_count": 25,
   "id": "6d931f52-beaf-43ff-9e78-9d44a448d54e",
   "metadata": {
    "execution": {
     "iopub.execute_input": "2025-07-30T21:14:14.520073Z",
     "iopub.status.busy": "2025-07-30T21:14:14.519415Z",
     "iopub.status.idle": "2025-07-30T21:14:14.524185Z",
     "shell.execute_reply": "2025-07-30T21:14:14.523340Z"
    },
    "papermill": {
     "duration": 0.027915,
     "end_time": "2025-07-30T21:14:14.525685",
     "exception": false,
     "start_time": "2025-07-30T21:14:14.497770",
     "status": "completed"
    },
    "tags": []
   },
   "outputs": [],
   "source": [
    "#siab_s = sample_by_year(siab, universe[\"training_size\"])"
   ]
  },
  {
   "cell_type": "code",
   "execution_count": 26,
   "id": "5db0a40e-a4e2-4920-be85-b12ae061d70d",
   "metadata": {
    "execution": {
     "iopub.execute_input": "2025-07-30T21:14:14.569042Z",
     "iopub.status.busy": "2025-07-30T21:14:14.568397Z",
     "iopub.status.idle": "2025-07-30T21:14:14.573213Z",
     "shell.execute_reply": "2025-07-30T21:14:14.572361Z"
    },
    "papermill": {
     "duration": 0.028387,
     "end_time": "2025-07-30T21:14:14.574782",
     "exception": false,
     "start_time": "2025-07-30T21:14:14.546395",
     "status": "completed"
    },
    "tags": []
   },
   "outputs": [],
   "source": [
    "#display(siab_s.groupby(\"year\").size())"
   ]
  },
  {
   "cell_type": "code",
   "execution_count": 27,
   "id": "e6c733c5",
   "metadata": {
    "execution": {
     "iopub.execute_input": "2025-07-30T21:14:14.618132Z",
     "iopub.status.busy": "2025-07-30T21:14:14.617489Z",
     "iopub.status.idle": "2025-07-30T21:14:14.713782Z",
     "shell.execute_reply": "2025-07-30T21:14:14.712724Z"
    },
    "papermill": {
     "duration": 0.120559,
     "end_time": "2025-07-30T21:14:14.716126",
     "exception": false,
     "start_time": "2025-07-30T21:14:14.595567",
     "status": "completed"
    },
    "tags": []
   },
   "outputs": [],
   "source": [
    "# Auxiliary data needed downstream in the pipeline\n",
    "\n",
    "org_train = X_train.copy()\n",
    "org_test = X_test.copy()\n",
    "org_calib = X_calib.copy()"
   ]
  },
  {
   "cell_type": "code",
   "execution_count": 28,
   "id": "1466abac-c6da-4492-a62f-4240ae3783af",
   "metadata": {
    "execution": {
     "iopub.execute_input": "2025-07-30T21:14:14.776877Z",
     "iopub.status.busy": "2025-07-30T21:14:14.776379Z",
     "iopub.status.idle": "2025-07-30T21:14:14.782850Z",
     "shell.execute_reply": "2025-07-30T21:14:14.781802Z"
    },
    "papermill": {
     "duration": 0.038889,
     "end_time": "2025-07-30T21:14:14.785067",
     "exception": false,
     "start_time": "2025-07-30T21:14:14.746178",
     "status": "completed"
    },
    "tags": []
   },
   "outputs": [],
   "source": [
    "# put in other script?\n",
    "# Group sizes\n",
    "\n",
    "#def calculate_percentages(df, df_name):\n",
    "#    total_entries = len(df)\n",
    "#\n",
    "#    female_pct = (df['frau1'] == 1).mean() * 100\n",
    "#    non_german_pct = ((df['maxdeutsch1'] == 0) & (df['maxdeutsch.Missing.'] == 0)).mean() * 100\n",
    "#    non_german_male_pct = ((df['frau1'] == 0) & (df['maxdeutsch1'] == 0) & (df['maxdeutsch.Missing.'] == 0)).mean() * 100\n",
    "#    non_german_female_pct = ((df['frau1'] == 1) & (df['maxdeutsch1'] == 0) & (df['maxdeutsch.Missing.'] == 0)).mean() * 100\n",
    "#\n",
    "#    print(f\"--- {df_name} ---\")\n",
    "#    print(f\"Female: {female_pct:.2f}%\")\n",
    "#    print(f\"Non-German: {non_german_pct:.2f}%\")\n",
    "#    print(f\"Non-German Male: {non_german_male_pct:.2f}%\")\n",
    "#    print(f\"Non-German Female: {non_german_female_pct:.2f}%\\n\")\n",
    "#\n",
    "## Calculate for each DataFrame\n",
    "#calculate_percentages(siab_calib, \"siab_calib\")\n",
    "#calculate_percentages(siab_test, \"siab_test\")\n",
    "#calculate_percentages(siab_train, \"siab_train\")"
   ]
  },
  {
   "cell_type": "markdown",
   "id": "0a4a1b33",
   "metadata": {
    "papermill": {
     "duration": 0.020551,
     "end_time": "2025-07-30T21:14:14.830240",
     "exception": false,
     "start_time": "2025-07-30T21:14:14.809689",
     "status": "completed"
    },
    "tags": []
   },
   "source": [
    "# Preprocessing Data"
   ]
  },
  {
   "cell_type": "code",
   "execution_count": 29,
   "id": "ca879031",
   "metadata": {
    "execution": {
     "iopub.execute_input": "2025-07-30T21:14:14.874007Z",
     "iopub.status.busy": "2025-07-30T21:14:14.873535Z",
     "iopub.status.idle": "2025-07-30T21:14:14.879732Z",
     "shell.execute_reply": "2025-07-30T21:14:14.878667Z"
    },
    "papermill": {
     "duration": 0.030072,
     "end_time": "2025-07-30T21:14:14.881318",
     "exception": false,
     "start_time": "2025-07-30T21:14:14.851246",
     "status": "completed"
    },
    "tags": []
   },
   "outputs": [],
   "source": [
    "# EXCLUDE PROTECTED FEATURES\n",
    "# ----------------------\n",
    "# \"exclude_features\": \"none\", # \"nationality\", \"sex\", \"nationality-sex\"\n",
    "\n",
    "excluded_features = universe[\"exclude_features\"].split(\"-\") # split, e.g.: \"nationality-sex\" -> [\"nationality\", \"sex\"]\n",
    "excluded_features_dictionary = {\n",
    "    \"nationality\": [\"maxdeutsch1\", \"maxdeutsch.Missing.\"],\n",
    "    \"sex\": [\"frau1\"],\n",
    "    \"age\": [\"age\"],\n",
    "}\n"
   ]
  },
  {
   "cell_type": "code",
   "execution_count": 30,
   "id": "b745ac60",
   "metadata": {
    "execution": {
     "iopub.execute_input": "2025-07-30T21:14:14.923841Z",
     "iopub.status.busy": "2025-07-30T21:14:14.923410Z",
     "iopub.status.idle": "2025-07-30T21:14:14.929813Z",
     "shell.execute_reply": "2025-07-30T21:14:14.928816Z"
    },
    "papermill": {
     "duration": 0.029422,
     "end_time": "2025-07-30T21:14:14.931750",
     "exception": false,
     "start_time": "2025-07-30T21:14:14.902328",
     "status": "completed"
    },
    "tags": []
   },
   "outputs": [],
   "source": [
    "# Code nice names to column names\n",
    "\n",
    "excluded_features_columns = [\n",
    "    excluded_features_dictionary[f] for f in excluded_features if len(f) > 0 and f != \"none\"\n",
    "]"
   ]
  },
  {
   "cell_type": "code",
   "execution_count": 31,
   "id": "f84f73a2",
   "metadata": {
    "execution": {
     "iopub.execute_input": "2025-07-30T21:14:14.977931Z",
     "iopub.status.busy": "2025-07-30T21:14:14.977045Z",
     "iopub.status.idle": "2025-07-30T21:14:14.985133Z",
     "shell.execute_reply": "2025-07-30T21:14:14.982790Z"
    },
    "papermill": {
     "duration": 0.033256,
     "end_time": "2025-07-30T21:14:14.986943",
     "exception": false,
     "start_time": "2025-07-30T21:14:14.953687",
     "status": "completed"
    },
    "tags": []
   },
   "outputs": [],
   "source": [
    "from utils import flatten_once\n",
    "\n",
    "excluded_features_columns = flatten_once(excluded_features_columns)"
   ]
  },
  {
   "cell_type": "code",
   "execution_count": 32,
   "id": "884dea22",
   "metadata": {
    "execution": {
     "iopub.execute_input": "2025-07-30T21:14:15.032770Z",
     "iopub.status.busy": "2025-07-30T21:14:15.032068Z",
     "iopub.status.idle": "2025-07-30T21:14:15.044867Z",
     "shell.execute_reply": "2025-07-30T21:14:15.043386Z"
    },
    "papermill": {
     "duration": 0.037105,
     "end_time": "2025-07-30T21:14:15.046626",
     "exception": false,
     "start_time": "2025-07-30T21:14:15.009521",
     "status": "completed"
    },
    "tags": []
   },
   "outputs": [
    {
     "name": "stdout",
     "output_type": "stream",
     "text": [
      "Dropping features: ['maxdeutsch1', 'maxdeutsch.Missing.']\n"
     ]
    }
   ],
   "source": [
    "if len(excluded_features_columns) > 0:\n",
    "    print(f\"Dropping features: {excluded_features_columns}\")\n",
    "    X_train.drop(excluded_features_columns, axis=1, inplace=True)"
   ]
  },
  {
   "cell_type": "code",
   "execution_count": 33,
   "id": "95ab8b16",
   "metadata": {
    "execution": {
     "iopub.execute_input": "2025-07-30T21:14:15.092545Z",
     "iopub.status.busy": "2025-07-30T21:14:15.091591Z",
     "iopub.status.idle": "2025-07-30T21:14:15.141261Z",
     "shell.execute_reply": "2025-07-30T21:14:15.140434Z"
    },
    "papermill": {
     "duration": 0.074415,
     "end_time": "2025-07-30T21:14:15.142544",
     "exception": false,
     "start_time": "2025-07-30T21:14:15.068129",
     "status": "completed"
    },
    "tags": []
   },
   "outputs": [
    {
     "name": "stdout",
     "output_type": "stream",
     "text": [
      "Dropping features: ['maxdeutsch1', 'maxdeutsch.Missing.']\n"
     ]
    }
   ],
   "source": [
    "if len(excluded_features_columns) > 0:\n",
    "    print(f\"Dropping features: {excluded_features_columns}\")\n",
    "    X_test.drop(excluded_features_columns, axis=1, inplace=True)"
   ]
  },
  {
   "cell_type": "code",
   "execution_count": 34,
   "id": "1853aaf5-fb9f-46cb-a2b5-8ea4ae2237e4",
   "metadata": {
    "execution": {
     "iopub.execute_input": "2025-07-30T21:14:15.175159Z",
     "iopub.status.busy": "2025-07-30T21:14:15.174586Z",
     "iopub.status.idle": "2025-07-30T21:14:15.223204Z",
     "shell.execute_reply": "2025-07-30T21:14:15.222429Z"
    },
    "papermill": {
     "duration": 0.066586,
     "end_time": "2025-07-30T21:14:15.224678",
     "exception": false,
     "start_time": "2025-07-30T21:14:15.158092",
     "status": "completed"
    },
    "tags": []
   },
   "outputs": [
    {
     "name": "stdout",
     "output_type": "stream",
     "text": [
      "Dropping features: ['maxdeutsch1', 'maxdeutsch.Missing.']\n"
     ]
    }
   ],
   "source": [
    "if len(excluded_features_columns) > 0:\n",
    "    print(f\"Dropping features: {excluded_features_columns}\")\n",
    "    X_calib.drop(excluded_features_columns, axis=1, inplace=True)"
   ]
  },
  {
   "cell_type": "code",
   "execution_count": 35,
   "id": "6727d079-03e5-481e-9d38-292a90b7a0a8",
   "metadata": {
    "execution": {
     "iopub.execute_input": "2025-07-30T21:14:15.250661Z",
     "iopub.status.busy": "2025-07-30T21:14:15.249922Z",
     "iopub.status.idle": "2025-07-30T21:14:15.254343Z",
     "shell.execute_reply": "2025-07-30T21:14:15.253437Z"
    },
    "papermill": {
     "duration": 0.018757,
     "end_time": "2025-07-30T21:14:15.256684",
     "exception": false,
     "start_time": "2025-07-30T21:14:15.237927",
     "status": "completed"
    },
    "tags": []
   },
   "outputs": [],
   "source": [
    "# SPLIT & STRATIFY DATA\n",
    "# ----------------------"
   ]
  },
  {
   "cell_type": "code",
   "execution_count": 36,
   "id": "76c4dc6d",
   "metadata": {
    "execution": {
     "iopub.execute_input": "2025-07-30T21:14:15.316622Z",
     "iopub.status.busy": "2025-07-30T21:14:15.315925Z",
     "iopub.status.idle": "2025-07-30T21:14:15.323472Z",
     "shell.execute_reply": "2025-07-30T21:14:15.322117Z"
    },
    "papermill": {
     "duration": 0.042119,
     "end_time": "2025-07-30T21:14:15.325731",
     "exception": false,
     "start_time": "2025-07-30T21:14:15.283612",
     "status": "completed"
    },
    "tags": []
   },
   "outputs": [],
   "source": [
    "# EXCLUDE CERTAIN SUBGROUPS\n",
    "# ----------------------\n",
    "\n",
    "mode = universe.get(\"exclude_subgroups\", \"keep-all\") \n",
    "# Fetches the exclude_subgroups setting from the universe dict.\n",
    "# Defaults to \"keep-all\" if the key is missing."
   ]
  },
  {
   "cell_type": "code",
   "execution_count": 37,
   "id": "21994072",
   "metadata": {
    "execution": {
     "iopub.execute_input": "2025-07-30T21:14:15.389798Z",
     "iopub.status.busy": "2025-07-30T21:14:15.389232Z",
     "iopub.status.idle": "2025-07-30T21:14:15.397931Z",
     "shell.execute_reply": "2025-07-30T21:14:15.396706Z"
    },
    "papermill": {
     "duration": 0.043388,
     "end_time": "2025-07-30T21:14:15.400117",
     "exception": false,
     "start_time": "2025-07-30T21:14:15.356729",
     "status": "completed"
    },
    "tags": []
   },
   "outputs": [],
   "source": [
    "if mode == \"keep-all\":\n",
    "    keep_mask = pd.Series(True, index=org_train.index)\n",
    "\n",
    "# org_train contains the original feature columns from features_org (in Simson)\n",
    "# features_org contains unprocessed features, for me X_train at beginning ???\n",
    "# For keep-all, creates a boolean Series (keep_mask) of all True, so no rows are removed.\n",
    "\n",
    "elif mode == \"drop-non-german\":\n",
    "    keep_mask = org_train[\"maxdeutsch1\"] == 1 # ??? what about missing values?\n",
    "\n",
    "else:\n",
    "    raise ValueError(f\"Unsupported mode for exclude_subgroups: {mode}\")\n"
   ]
  },
  {
   "cell_type": "code",
   "execution_count": 38,
   "id": "71651440",
   "metadata": {
    "execution": {
     "iopub.execute_input": "2025-07-30T21:14:15.462924Z",
     "iopub.status.busy": "2025-07-30T21:14:15.462351Z",
     "iopub.status.idle": "2025-07-30T21:14:15.469599Z",
     "shell.execute_reply": "2025-07-30T21:14:15.468449Z"
    },
    "papermill": {
     "duration": 0.040265,
     "end_time": "2025-07-30T21:14:15.471550",
     "exception": false,
     "start_time": "2025-07-30T21:14:15.431285",
     "status": "completed"
    },
    "tags": []
   },
   "outputs": [],
   "source": [
    "n_drop = (~keep_mask).sum() # Calculates how many rows are set to be dropped\n",
    "if n_drop > 0:\n",
    "    pct = n_drop / len(keep_mask) * 100\n",
    "    print(f\"Dropping {n_drop} rows ({pct:.2f}%) where mode='{mode}'\")"
   ]
  },
  {
   "cell_type": "code",
   "execution_count": 39,
   "id": "5fb8eee5",
   "metadata": {
    "execution": {
     "iopub.execute_input": "2025-07-30T21:14:15.528732Z",
     "iopub.status.busy": "2025-07-30T21:14:15.528129Z",
     "iopub.status.idle": "2025-07-30T21:14:15.538268Z",
     "shell.execute_reply": "2025-07-30T21:14:15.537126Z"
    },
    "papermill": {
     "duration": 0.037997,
     "end_time": "2025-07-30T21:14:15.540241",
     "exception": false,
     "start_time": "2025-07-30T21:14:15.502244",
     "status": "completed"
    },
    "tags": []
   },
   "outputs": [],
   "source": [
    "X_train = X_train[keep_mask]"
   ]
  },
  {
   "cell_type": "code",
   "execution_count": 40,
   "id": "b202bb3a",
   "metadata": {
    "execution": {
     "iopub.execute_input": "2025-07-30T21:14:15.586390Z",
     "iopub.status.busy": "2025-07-30T21:14:15.585703Z",
     "iopub.status.idle": "2025-07-30T21:14:15.593482Z",
     "shell.execute_reply": "2025-07-30T21:14:15.592332Z"
    },
    "papermill": {
     "duration": 0.035866,
     "end_time": "2025-07-30T21:14:15.595217",
     "exception": false,
     "start_time": "2025-07-30T21:14:15.559351",
     "status": "completed"
    },
    "tags": []
   },
   "outputs": [],
   "source": [
    "y_train = y_train[keep_mask]"
   ]
  },
  {
   "cell_type": "markdown",
   "id": "493e2ac3",
   "metadata": {
    "papermill": {
     "duration": 0.02395,
     "end_time": "2025-07-30T21:14:15.641986",
     "exception": false,
     "start_time": "2025-07-30T21:14:15.618036",
     "status": "completed"
    },
    "tags": []
   },
   "source": [
    "# Model Training"
   ]
  },
  {
   "cell_type": "code",
   "execution_count": 41,
   "id": "679e1268",
   "metadata": {
    "execution": {
     "iopub.execute_input": "2025-07-30T21:14:15.681931Z",
     "iopub.status.busy": "2025-07-30T21:14:15.681069Z",
     "iopub.status.idle": "2025-07-30T21:14:15.757289Z",
     "shell.execute_reply": "2025-07-30T21:14:15.756543Z"
    },
    "papermill": {
     "duration": 0.093599,
     "end_time": "2025-07-30T21:14:15.759053",
     "exception": false,
     "start_time": "2025-07-30T21:14:15.665454",
     "status": "completed"
    },
    "tags": []
   },
   "outputs": [],
   "source": [
    "from sklearn.linear_model import LogisticRegression\n",
    "from sklearn.ensemble import GradientBoostingClassifier, RandomForestClassifier\n",
    "\n",
    "if (universe[\"model\"] == \"logreg\"):\n",
    "    model = LogisticRegression() #penalty=\"none\") #, solver=\"newton-cg\", max_iter=1) # include random_state=19 ?\n",
    "elif (universe[\"model\"] == \"penalized_logreg\"):\n",
    "    model = LogisticRegression(penalty=\"l2\", C=1.0) #, solver=\"newton-cg\", max_iter=1)\n",
    "elif (universe[\"model\"] == \"rf\"):\n",
    "    model = RandomForestClassifier(n_estimators=100, n_jobs=-1)\n",
    "elif (universe[\"model\"] == \"gbm\"):\n",
    "    model = GradientBoostingClassifier()\n",
    "elif (universe[\"model\"] == \"elasticnet\"):\n",
    "    model = LogisticRegression(penalty = 'elasticnet', solver = 'saga', l1_ratio = 0.5, max_iter=5000) # which solver to use?\n",
    "else:\n",
    "    raise \"Unsupported universe.model\""
   ]
  },
  {
   "cell_type": "code",
   "execution_count": 42,
   "id": "0cc8f744",
   "metadata": {
    "execution": {
     "iopub.execute_input": "2025-07-30T21:14:15.806081Z",
     "iopub.status.busy": "2025-07-30T21:14:15.805262Z",
     "iopub.status.idle": "2025-07-30T21:14:15.811969Z",
     "shell.execute_reply": "2025-07-30T21:14:15.811064Z"
    },
    "papermill": {
     "duration": 0.031717,
     "end_time": "2025-07-30T21:14:15.813595",
     "exception": false,
     "start_time": "2025-07-30T21:14:15.781878",
     "status": "completed"
    },
    "tags": []
   },
   "outputs": [],
   "source": [
    "import numpy as np\n",
    "from sklearn.pipeline import Pipeline\n",
    "from sklearn.preprocessing import StandardScaler\n",
    "\n",
    "model = Pipeline([\n",
    "    #(\"continuous_processor\", continuous_processor),\n",
    "    #(\"categorical_preprocessor\", categorical_preprocessor),\n",
    "    (\"scale\", StandardScaler() if universe[\"scale\"] == \"scale\" else None), \n",
    "    (\"model\", model),\n",
    "])"
   ]
  },
  {
   "cell_type": "code",
   "execution_count": 43,
   "id": "9442c04d",
   "metadata": {
    "execution": {
     "iopub.execute_input": "2025-07-30T21:14:15.858868Z",
     "iopub.status.busy": "2025-07-30T21:14:15.858385Z",
     "iopub.status.idle": "2025-07-30T21:14:27.357044Z",
     "shell.execute_reply": "2025-07-30T21:14:27.355992Z"
    },
    "papermill": {
     "duration": 11.522897,
     "end_time": "2025-07-30T21:14:27.358596",
     "exception": false,
     "start_time": "2025-07-30T21:14:15.835699",
     "status": "completed"
    },
    "tags": []
   },
   "outputs": [
    {
     "data": {
      "text/html": [
       "<style>#sk-container-id-1 {color: black;background-color: white;}#sk-container-id-1 pre{padding: 0;}#sk-container-id-1 div.sk-toggleable {background-color: white;}#sk-container-id-1 label.sk-toggleable__label {cursor: pointer;display: block;width: 100%;margin-bottom: 0;padding: 0.3em;box-sizing: border-box;text-align: center;}#sk-container-id-1 label.sk-toggleable__label-arrow:before {content: \"▸\";float: left;margin-right: 0.25em;color: #696969;}#sk-container-id-1 label.sk-toggleable__label-arrow:hover:before {color: black;}#sk-container-id-1 div.sk-estimator:hover label.sk-toggleable__label-arrow:before {color: black;}#sk-container-id-1 div.sk-toggleable__content {max-height: 0;max-width: 0;overflow: hidden;text-align: left;background-color: #f0f8ff;}#sk-container-id-1 div.sk-toggleable__content pre {margin: 0.2em;color: black;border-radius: 0.25em;background-color: #f0f8ff;}#sk-container-id-1 input.sk-toggleable__control:checked~div.sk-toggleable__content {max-height: 200px;max-width: 100%;overflow: auto;}#sk-container-id-1 input.sk-toggleable__control:checked~label.sk-toggleable__label-arrow:before {content: \"▾\";}#sk-container-id-1 div.sk-estimator input.sk-toggleable__control:checked~label.sk-toggleable__label {background-color: #d4ebff;}#sk-container-id-1 div.sk-label input.sk-toggleable__control:checked~label.sk-toggleable__label {background-color: #d4ebff;}#sk-container-id-1 input.sk-hidden--visually {border: 0;clip: rect(1px 1px 1px 1px);clip: rect(1px, 1px, 1px, 1px);height: 1px;margin: -1px;overflow: hidden;padding: 0;position: absolute;width: 1px;}#sk-container-id-1 div.sk-estimator {font-family: monospace;background-color: #f0f8ff;border: 1px dotted black;border-radius: 0.25em;box-sizing: border-box;margin-bottom: 0.5em;}#sk-container-id-1 div.sk-estimator:hover {background-color: #d4ebff;}#sk-container-id-1 div.sk-parallel-item::after {content: \"\";width: 100%;border-bottom: 1px solid gray;flex-grow: 1;}#sk-container-id-1 div.sk-label:hover label.sk-toggleable__label {background-color: #d4ebff;}#sk-container-id-1 div.sk-serial::before {content: \"\";position: absolute;border-left: 1px solid gray;box-sizing: border-box;top: 0;bottom: 0;left: 50%;z-index: 0;}#sk-container-id-1 div.sk-serial {display: flex;flex-direction: column;align-items: center;background-color: white;padding-right: 0.2em;padding-left: 0.2em;position: relative;}#sk-container-id-1 div.sk-item {position: relative;z-index: 1;}#sk-container-id-1 div.sk-parallel {display: flex;align-items: stretch;justify-content: center;background-color: white;position: relative;}#sk-container-id-1 div.sk-item::before, #sk-container-id-1 div.sk-parallel-item::before {content: \"\";position: absolute;border-left: 1px solid gray;box-sizing: border-box;top: 0;bottom: 0;left: 50%;z-index: -1;}#sk-container-id-1 div.sk-parallel-item {display: flex;flex-direction: column;z-index: 1;position: relative;background-color: white;}#sk-container-id-1 div.sk-parallel-item:first-child::after {align-self: flex-end;width: 50%;}#sk-container-id-1 div.sk-parallel-item:last-child::after {align-self: flex-start;width: 50%;}#sk-container-id-1 div.sk-parallel-item:only-child::after {width: 0;}#sk-container-id-1 div.sk-dashed-wrapped {border: 1px dashed gray;margin: 0 0.4em 0.5em 0.4em;box-sizing: border-box;padding-bottom: 0.4em;background-color: white;}#sk-container-id-1 div.sk-label label {font-family: monospace;font-weight: bold;display: inline-block;line-height: 1.2em;}#sk-container-id-1 div.sk-label-container {text-align: center;}#sk-container-id-1 div.sk-container {/* jupyter's `normalize.less` sets `[hidden] { display: none; }` but bootstrap.min.css set `[hidden] { display: none !important; }` so we also need the `!important` here to be able to override the default hidden behavior on the sphinx rendered scikit-learn.org. See: https://github.com/scikit-learn/scikit-learn/issues/21755 */display: inline-block !important;position: relative;}#sk-container-id-1 div.sk-text-repr-fallback {display: none;}</style><div id=\"sk-container-id-1\" class=\"sk-top-container\"><div class=\"sk-text-repr-fallback\"><pre>Pipeline(steps=[(&#x27;scale&#x27;, StandardScaler()),\n",
       "                (&#x27;model&#x27;,\n",
       "                 LogisticRegression(l1_ratio=0.5, max_iter=5000,\n",
       "                                    penalty=&#x27;elasticnet&#x27;, solver=&#x27;saga&#x27;))])</pre><b>In a Jupyter environment, please rerun this cell to show the HTML representation or trust the notebook. <br />On GitHub, the HTML representation is unable to render, please try loading this page with nbviewer.org.</b></div><div class=\"sk-container\" hidden><div class=\"sk-item sk-dashed-wrapped\"><div class=\"sk-label-container\"><div class=\"sk-label sk-toggleable\"><input class=\"sk-toggleable__control sk-hidden--visually\" id=\"sk-estimator-id-1\" type=\"checkbox\" ><label for=\"sk-estimator-id-1\" class=\"sk-toggleable__label sk-toggleable__label-arrow\">Pipeline</label><div class=\"sk-toggleable__content\"><pre>Pipeline(steps=[(&#x27;scale&#x27;, StandardScaler()),\n",
       "                (&#x27;model&#x27;,\n",
       "                 LogisticRegression(l1_ratio=0.5, max_iter=5000,\n",
       "                                    penalty=&#x27;elasticnet&#x27;, solver=&#x27;saga&#x27;))])</pre></div></div></div><div class=\"sk-serial\"><div class=\"sk-item\"><div class=\"sk-estimator sk-toggleable\"><input class=\"sk-toggleable__control sk-hidden--visually\" id=\"sk-estimator-id-2\" type=\"checkbox\" ><label for=\"sk-estimator-id-2\" class=\"sk-toggleable__label sk-toggleable__label-arrow\">StandardScaler</label><div class=\"sk-toggleable__content\"><pre>StandardScaler()</pre></div></div></div><div class=\"sk-item\"><div class=\"sk-estimator sk-toggleable\"><input class=\"sk-toggleable__control sk-hidden--visually\" id=\"sk-estimator-id-3\" type=\"checkbox\" ><label for=\"sk-estimator-id-3\" class=\"sk-toggleable__label sk-toggleable__label-arrow\">LogisticRegression</label><div class=\"sk-toggleable__content\"><pre>LogisticRegression(l1_ratio=0.5, max_iter=5000, penalty=&#x27;elasticnet&#x27;,\n",
       "                   solver=&#x27;saga&#x27;)</pre></div></div></div></div></div></div></div>"
      ],
      "text/plain": [
       "Pipeline(steps=[('scale', StandardScaler()),\n",
       "                ('model',\n",
       "                 LogisticRegression(l1_ratio=0.5, max_iter=5000,\n",
       "                                    penalty='elasticnet', solver='saga'))])"
      ]
     },
     "execution_count": 43,
     "metadata": {},
     "output_type": "execute_result"
    }
   ],
   "source": [
    "model.fit(X_train, y_train.values.ravel())"
   ]
  },
  {
   "cell_type": "code",
   "execution_count": 44,
   "id": "af59f8c0",
   "metadata": {
    "execution": {
     "iopub.execute_input": "2025-07-30T21:14:27.409650Z",
     "iopub.status.busy": "2025-07-30T21:14:27.409003Z",
     "iopub.status.idle": "2025-07-30T21:14:27.415269Z",
     "shell.execute_reply": "2025-07-30T21:14:27.414439Z"
    },
    "papermill": {
     "duration": 0.03392,
     "end_time": "2025-07-30T21:14:27.417250",
     "exception": false,
     "start_time": "2025-07-30T21:14:27.383330",
     "status": "completed"
    },
    "tags": []
   },
   "outputs": [],
   "source": [
    "from fairness_multiverse.universe import predict_w_threshold"
   ]
  },
  {
   "cell_type": "code",
   "execution_count": 45,
   "id": "a7cf2e16",
   "metadata": {
    "execution": {
     "iopub.execute_input": "2025-07-30T21:14:27.467250Z",
     "iopub.status.busy": "2025-07-30T21:14:27.466346Z",
     "iopub.status.idle": "2025-07-30T21:14:27.662041Z",
     "shell.execute_reply": "2025-07-30T21:14:27.661107Z"
    },
    "papermill": {
     "duration": 0.224387,
     "end_time": "2025-07-30T21:14:27.663895",
     "exception": false,
     "start_time": "2025-07-30T21:14:27.439508",
     "status": "completed"
    },
    "tags": []
   },
   "outputs": [
    {
     "data": {
      "text/plain": [
       "0.8531044476646974"
      ]
     },
     "execution_count": 45,
     "metadata": {},
     "output_type": "execute_result"
    }
   ],
   "source": [
    "probs_test = model.predict_proba(X_test)\n",
    "\n",
    "'''\n",
    "Below code returns a boolean array (or binary 0/1 array depending on how it’s used) where each element \n",
    "is True if the probability of class 1 is greater than or equal to the threshold, and False otherwise.\n",
    "'''\n",
    "y_pred_default = predict_w_threshold(probs_test, 0.5)\n",
    "\n",
    "from sklearn.metrics import accuracy_score\n",
    "\n",
    "# Naive prediction\n",
    "accuracy_score(y_true = y_true, y_pred = y_pred_default)"
   ]
  },
  {
   "cell_type": "code",
   "execution_count": 46,
   "id": "081964c3",
   "metadata": {
    "execution": {
     "iopub.execute_input": "2025-07-30T21:14:27.711570Z",
     "iopub.status.busy": "2025-07-30T21:14:27.710691Z",
     "iopub.status.idle": "2025-07-30T21:14:27.891653Z",
     "shell.execute_reply": "2025-07-30T21:14:27.890742Z"
    },
    "papermill": {
     "duration": 0.205883,
     "end_time": "2025-07-30T21:14:27.893235",
     "exception": false,
     "start_time": "2025-07-30T21:14:27.687352",
     "status": "completed"
    },
    "tags": []
   },
   "outputs": [
    {
     "data": {
      "text/plain": [
       "array([0, 0, 0, ..., 0, 0, 0])"
      ]
     },
     "execution_count": 46,
     "metadata": {},
     "output_type": "execute_result"
    }
   ],
   "source": [
    "model.predict(X_test)"
   ]
  },
  {
   "cell_type": "markdown",
   "id": "56c9705b",
   "metadata": {
    "papermill": {
     "duration": 0.023475,
     "end_time": "2025-07-30T21:14:27.939536",
     "exception": false,
     "start_time": "2025-07-30T21:14:27.916061",
     "status": "completed"
    },
    "tags": []
   },
   "source": [
    "# Conformal Prediction"
   ]
  },
  {
   "cell_type": "code",
   "execution_count": 47,
   "id": "160ec6ff",
   "metadata": {
    "execution": {
     "iopub.execute_input": "2025-07-30T21:14:27.986943Z",
     "iopub.status.busy": "2025-07-30T21:14:27.986057Z",
     "iopub.status.idle": "2025-07-30T21:14:27.991461Z",
     "shell.execute_reply": "2025-07-30T21:14:27.990464Z"
    },
    "papermill": {
     "duration": 0.031579,
     "end_time": "2025-07-30T21:14:27.993379",
     "exception": false,
     "start_time": "2025-07-30T21:14:27.961800",
     "status": "completed"
    },
    "tags": []
   },
   "outputs": [],
   "source": [
    "# Miscoverage level for conformal prediction (10% allowed error rate => 90% target coverage)\n",
    "alpha = 0.1"
   ]
  },
  {
   "cell_type": "code",
   "execution_count": 48,
   "id": "eadf4555-3dd3-440e-8e35-f82a4ad9f855",
   "metadata": {
    "execution": {
     "iopub.execute_input": "2025-07-30T21:14:28.041408Z",
     "iopub.status.busy": "2025-07-30T21:14:28.040900Z",
     "iopub.status.idle": "2025-07-30T21:14:28.220598Z",
     "shell.execute_reply": "2025-07-30T21:14:28.219497Z"
    },
    "papermill": {
     "duration": 0.206152,
     "end_time": "2025-07-30T21:14:28.222578",
     "exception": false,
     "start_time": "2025-07-30T21:14:28.016426",
     "status": "completed"
    },
    "tags": []
   },
   "outputs": [],
   "source": [
    "probs_calib = model.predict_proba(X_calib)"
   ]
  },
  {
   "cell_type": "code",
   "execution_count": 49,
   "id": "2ed93547-6d5d-4983-9b36-1ecb300da49a",
   "metadata": {
    "execution": {
     "iopub.execute_input": "2025-07-30T21:14:28.275240Z",
     "iopub.status.busy": "2025-07-30T21:14:28.274723Z",
     "iopub.status.idle": "2025-07-30T21:14:28.280862Z",
     "shell.execute_reply": "2025-07-30T21:14:28.279845Z"
    },
    "papermill": {
     "duration": 0.03456,
     "end_time": "2025-07-30T21:14:28.282650",
     "exception": false,
     "start_time": "2025-07-30T21:14:28.248090",
     "status": "completed"
    },
    "tags": []
   },
   "outputs": [],
   "source": [
    "y_calib = y_calib.values.ravel().astype(int)"
   ]
  },
  {
   "cell_type": "code",
   "execution_count": 50,
   "id": "65d1320d-f588-4b38-9072-62af1ae97f7d",
   "metadata": {
    "execution": {
     "iopub.execute_input": "2025-07-30T21:14:28.333035Z",
     "iopub.status.busy": "2025-07-30T21:14:28.332560Z",
     "iopub.status.idle": "2025-07-30T21:14:28.340258Z",
     "shell.execute_reply": "2025-07-30T21:14:28.339130Z"
    },
    "papermill": {
     "duration": 0.035789,
     "end_time": "2025-07-30T21:14:28.343628",
     "exception": false,
     "start_time": "2025-07-30T21:14:28.307839",
     "status": "completed"
    },
    "tags": []
   },
   "outputs": [],
   "source": [
    "from fairness_multiverse.conformal import compute_nc_scores\n",
    "\n",
    "# Compute nonconformity scores on calibration set (1 - probability of true class)\n",
    "nc_scores = compute_nc_scores(probs_calib, y_calib)"
   ]
  },
  {
   "cell_type": "code",
   "execution_count": 51,
   "id": "df3b8ca3-53b7-43d5-9667-7c85da7aeda2",
   "metadata": {
    "execution": {
     "iopub.execute_input": "2025-07-30T21:14:28.396793Z",
     "iopub.status.busy": "2025-07-30T21:14:28.396346Z",
     "iopub.status.idle": "2025-07-30T21:14:28.402711Z",
     "shell.execute_reply": "2025-07-30T21:14:28.401763Z"
    },
    "papermill": {
     "duration": 0.033202,
     "end_time": "2025-07-30T21:14:28.404374",
     "exception": false,
     "start_time": "2025-07-30T21:14:28.371172",
     "status": "completed"
    },
    "tags": []
   },
   "outputs": [],
   "source": [
    "from fairness_multiverse.conformal import find_threshold\n",
    "\n",
    "# Find conformal threshold q_hat for the given alpha (split conformal method)\n",
    "q_hat = find_threshold(nc_scores, alpha)"
   ]
  },
  {
   "cell_type": "code",
   "execution_count": 52,
   "id": "4d29e6c1-0ef6-4aa4-b8fe-4fe79b0d033a",
   "metadata": {
    "execution": {
     "iopub.execute_input": "2025-07-30T21:14:28.458554Z",
     "iopub.status.busy": "2025-07-30T21:14:28.457637Z",
     "iopub.status.idle": "2025-07-30T21:14:28.465657Z",
     "shell.execute_reply": "2025-07-30T21:14:28.464299Z"
    },
    "papermill": {
     "duration": 0.036695,
     "end_time": "2025-07-30T21:14:28.467398",
     "exception": false,
     "start_time": "2025-07-30T21:14:28.430703",
     "status": "completed"
    },
    "tags": []
   },
   "outputs": [
    {
     "data": {
      "text/plain": [
       "0.6794930457424457"
      ]
     },
     "execution_count": 52,
     "metadata": {},
     "output_type": "execute_result"
    }
   ],
   "source": [
    "q_hat"
   ]
  },
  {
   "cell_type": "code",
   "execution_count": 53,
   "id": "92460794-cdac-4be2-ba28-f28c0515a6fb",
   "metadata": {
    "execution": {
     "iopub.execute_input": "2025-07-30T21:14:28.518234Z",
     "iopub.status.busy": "2025-07-30T21:14:28.517336Z",
     "iopub.status.idle": "2025-07-30T21:14:29.402430Z",
     "shell.execute_reply": "2025-07-30T21:14:29.401412Z"
    },
    "papermill": {
     "duration": 0.911611,
     "end_time": "2025-07-30T21:14:29.404260",
     "exception": false,
     "start_time": "2025-07-30T21:14:28.492649",
     "status": "completed"
    },
    "tags": []
   },
   "outputs": [],
   "source": [
    "from fairness_multiverse.conformal import predict_conformal_sets\n",
    "\n",
    "# Generate prediction sets for each test example\n",
    "pred_sets = predict_conformal_sets(model, X_test, q_hat)"
   ]
  },
  {
   "cell_type": "code",
   "execution_count": 54,
   "id": "d90c9a65-e6db-4f5d-80cd-e68fb7e46829",
   "metadata": {
    "execution": {
     "iopub.execute_input": "2025-07-30T21:14:29.452024Z",
     "iopub.status.busy": "2025-07-30T21:14:29.451291Z",
     "iopub.status.idle": "2025-07-30T21:14:29.458440Z",
     "shell.execute_reply": "2025-07-30T21:14:29.456406Z"
    },
    "papermill": {
     "duration": 0.032557,
     "end_time": "2025-07-30T21:14:29.460243",
     "exception": false,
     "start_time": "2025-07-30T21:14:29.427686",
     "status": "completed"
    },
    "tags": []
   },
   "outputs": [],
   "source": [
    "y_true = y_true.squeeze()"
   ]
  },
  {
   "cell_type": "code",
   "execution_count": 55,
   "id": "3a58a54a-1e68-46b9-927a-df01f18aebc8",
   "metadata": {
    "execution": {
     "iopub.execute_input": "2025-07-30T21:14:29.510773Z",
     "iopub.status.busy": "2025-07-30T21:14:29.509967Z",
     "iopub.status.idle": "2025-07-30T21:14:30.453038Z",
     "shell.execute_reply": "2025-07-30T21:14:30.452066Z"
    },
    "papermill": {
     "duration": 0.969289,
     "end_time": "2025-07-30T21:14:30.454518",
     "exception": false,
     "start_time": "2025-07-30T21:14:29.485229",
     "status": "completed"
    },
    "tags": []
   },
   "outputs": [],
   "source": [
    "from fairness_multiverse.conformal import evaluate_sets\n",
    "\n",
    "# Evaluate coverage and average set size on test data\n",
    "metrics = evaluate_sets(pred_sets, y_true)"
   ]
  },
  {
   "cell_type": "markdown",
   "id": "2b569c12-9aaa-4c88-98c9-bbcd0cf3ebb8",
   "metadata": {
    "papermill": {
     "duration": 0.014381,
     "end_time": "2025-07-30T21:14:30.486093",
     "exception": false,
     "start_time": "2025-07-30T21:14:30.471712",
     "status": "completed"
    },
    "tags": []
   },
   "source": [
    "# CP Metrics"
   ]
  },
  {
   "cell_type": "code",
   "execution_count": 56,
   "id": "5ce0a5cb-201f-45a0-ade5-94c7f0bd6095",
   "metadata": {
    "execution": {
     "iopub.execute_input": "2025-07-30T21:14:30.538478Z",
     "iopub.status.busy": "2025-07-30T21:14:30.537828Z",
     "iopub.status.idle": "2025-07-30T21:14:30.545193Z",
     "shell.execute_reply": "2025-07-30T21:14:30.544168Z"
    },
    "papermill": {
     "duration": 0.035826,
     "end_time": "2025-07-30T21:14:30.547063",
     "exception": false,
     "start_time": "2025-07-30T21:14:30.511237",
     "status": "completed"
    },
    "tags": []
   },
   "outputs": [
    {
     "data": {
      "text/plain": [
       "{'coverage': 0.9113588228737042, 'avg_size': 1.146382788986735}"
      ]
     },
     "execution_count": 56,
     "metadata": {},
     "output_type": "execute_result"
    }
   ],
   "source": [
    "metrics"
   ]
  },
  {
   "cell_type": "code",
   "execution_count": 57,
   "id": "9b9a838d-31c9-430b-ae14-12baee460d17",
   "metadata": {
    "execution": {
     "iopub.execute_input": "2025-07-30T21:14:30.599065Z",
     "iopub.status.busy": "2025-07-30T21:14:30.598587Z",
     "iopub.status.idle": "2025-07-30T21:14:30.605579Z",
     "shell.execute_reply": "2025-07-30T21:14:30.604558Z"
    },
    "papermill": {
     "duration": 0.033194,
     "end_time": "2025-07-30T21:14:30.607338",
     "exception": false,
     "start_time": "2025-07-30T21:14:30.574144",
     "status": "completed"
    },
    "tags": []
   },
   "outputs": [],
   "source": [
    "example_universe = universe.copy()\n",
    "universe_training_year = example_universe.get(\"training_year\")\n",
    "universe_training_size = example_universe.get(\"training_size\")\n",
    "universe_scale = example_universe.get(\"scale\")\n",
    "universe_model = example_universe.get(\"model\")\n",
    "universe_exclude_features = example_universe.get(\"exclude_features\")\n",
    "universe_exclude_subgroups = example_universe.get(\"exclude_subgroups\")"
   ]
  },
  {
   "cell_type": "code",
   "execution_count": 58,
   "id": "f4b6a8ac-9dc0-4245-8a91-5b3b5999c4f9",
   "metadata": {
    "execution": {
     "iopub.execute_input": "2025-07-30T21:14:30.656602Z",
     "iopub.status.busy": "2025-07-30T21:14:30.655869Z",
     "iopub.status.idle": "2025-07-30T21:14:30.662652Z",
     "shell.execute_reply": "2025-07-30T21:14:30.661822Z"
    },
    "papermill": {
     "duration": 0.029855,
     "end_time": "2025-07-30T21:14:30.664279",
     "exception": false,
     "start_time": "2025-07-30T21:14:30.634424",
     "status": "completed"
    },
    "tags": []
   },
   "outputs": [],
   "source": [
    "cp_metrics_dict = {\n",
    "    \"universe_id\": [universe_id],\n",
    "    \"universe_training_year\": [universe_training_year],\n",
    "    \"universe_training_size\": [universe_training_size],\n",
    "    \"universe_scale\": [universe_scale],\n",
    "    \"universe_model\": [universe_model],\n",
    "    \"universe_exclude_features\": [universe_exclude_features],\n",
    "    \"universe_exclude_subgroups\": [universe_exclude_subgroups],\n",
    "    \"q_hat\": [q_hat],\n",
    "    \"coverage\": [metrics[\"coverage\"]],\n",
    "    \"avg_size\": [metrics[\"avg_size\"]],\n",
    "}"
   ]
  },
  {
   "cell_type": "code",
   "execution_count": 59,
   "id": "908acbb1-0371-4915-85ca-3fa520d2efe2",
   "metadata": {
    "execution": {
     "iopub.execute_input": "2025-07-30T21:14:30.715111Z",
     "iopub.status.busy": "2025-07-30T21:14:30.714290Z",
     "iopub.status.idle": "2025-07-30T21:14:30.722354Z",
     "shell.execute_reply": "2025-07-30T21:14:30.721436Z"
    },
    "papermill": {
     "duration": 0.032758,
     "end_time": "2025-07-30T21:14:30.724213",
     "exception": false,
     "start_time": "2025-07-30T21:14:30.691455",
     "status": "completed"
    },
    "tags": []
   },
   "outputs": [
    {
     "data": {
      "text/plain": [
       "{'universe_id': ['a29e02a24a85992acf1451d3921a0e08'],\n",
       " 'universe_training_year': ['2010_14'],\n",
       " 'universe_training_size': ['5k'],\n",
       " 'universe_scale': ['scale'],\n",
       " 'universe_model': ['elasticnet'],\n",
       " 'universe_exclude_features': ['nationality'],\n",
       " 'universe_exclude_subgroups': ['keep-all'],\n",
       " 'q_hat': [0.6794930457424457],\n",
       " 'coverage': [0.9113588228737042],\n",
       " 'avg_size': [1.146382788986735]}"
      ]
     },
     "execution_count": 59,
     "metadata": {},
     "output_type": "execute_result"
    }
   ],
   "source": [
    "cp_metrics_dict"
   ]
  },
  {
   "cell_type": "code",
   "execution_count": 60,
   "id": "33007efc-14e9-4ec6-97ac-56a455c82265",
   "metadata": {
    "execution": {
     "iopub.execute_input": "2025-07-30T21:14:30.777092Z",
     "iopub.status.busy": "2025-07-30T21:14:30.776157Z",
     "iopub.status.idle": "2025-07-30T21:14:30.782982Z",
     "shell.execute_reply": "2025-07-30T21:14:30.781894Z"
    },
    "papermill": {
     "duration": 0.03487,
     "end_time": "2025-07-30T21:14:30.784759",
     "exception": false,
     "start_time": "2025-07-30T21:14:30.749889",
     "status": "completed"
    },
    "tags": []
   },
   "outputs": [],
   "source": [
    "cp_metrics_df = pd.DataFrame(cp_metrics_dict)"
   ]
  },
  {
   "cell_type": "code",
   "execution_count": 61,
   "id": "db12611b-57b2-4910-b9d0-355adfd6e7bf",
   "metadata": {
    "execution": {
     "iopub.execute_input": "2025-07-30T21:14:30.840397Z",
     "iopub.status.busy": "2025-07-30T21:14:30.839745Z",
     "iopub.status.idle": "2025-07-30T21:14:30.862047Z",
     "shell.execute_reply": "2025-07-30T21:14:30.860739Z"
    },
    "papermill": {
     "duration": 0.05223,
     "end_time": "2025-07-30T21:14:30.863761",
     "exception": false,
     "start_time": "2025-07-30T21:14:30.811531",
     "status": "completed"
    },
    "tags": []
   },
   "outputs": [
    {
     "data": {
      "text/html": [
       "<div>\n",
       "<style scoped>\n",
       "    .dataframe tbody tr th:only-of-type {\n",
       "        vertical-align: middle;\n",
       "    }\n",
       "\n",
       "    .dataframe tbody tr th {\n",
       "        vertical-align: top;\n",
       "    }\n",
       "\n",
       "    .dataframe thead th {\n",
       "        text-align: right;\n",
       "    }\n",
       "</style>\n",
       "<table border=\"1\" class=\"dataframe\">\n",
       "  <thead>\n",
       "    <tr style=\"text-align: right;\">\n",
       "      <th></th>\n",
       "      <th>universe_id</th>\n",
       "      <th>universe_training_year</th>\n",
       "      <th>universe_training_size</th>\n",
       "      <th>universe_scale</th>\n",
       "      <th>universe_model</th>\n",
       "      <th>universe_exclude_features</th>\n",
       "      <th>universe_exclude_subgroups</th>\n",
       "      <th>q_hat</th>\n",
       "      <th>coverage</th>\n",
       "      <th>avg_size</th>\n",
       "    </tr>\n",
       "  </thead>\n",
       "  <tbody>\n",
       "    <tr>\n",
       "      <th>0</th>\n",
       "      <td>a29e02a24a85992acf1451d3921a0e08</td>\n",
       "      <td>2010_14</td>\n",
       "      <td>5k</td>\n",
       "      <td>scale</td>\n",
       "      <td>elasticnet</td>\n",
       "      <td>nationality</td>\n",
       "      <td>keep-all</td>\n",
       "      <td>0.679493</td>\n",
       "      <td>0.911359</td>\n",
       "      <td>1.146383</td>\n",
       "    </tr>\n",
       "  </tbody>\n",
       "</table>\n",
       "</div>"
      ],
      "text/plain": [
       "                        universe_id universe_training_year  \\\n",
       "0  a29e02a24a85992acf1451d3921a0e08                2010_14   \n",
       "\n",
       "  universe_training_size universe_scale universe_model  \\\n",
       "0                     5k          scale     elasticnet   \n",
       "\n",
       "  universe_exclude_features universe_exclude_subgroups     q_hat  coverage  \\\n",
       "0               nationality                   keep-all  0.679493  0.911359   \n",
       "\n",
       "   avg_size  \n",
       "0  1.146383  "
      ]
     },
     "execution_count": 61,
     "metadata": {},
     "output_type": "execute_result"
    }
   ],
   "source": [
    "cp_metrics_df"
   ]
  },
  {
   "cell_type": "code",
   "execution_count": 62,
   "id": "b7fbde55-a0a1-47e4-9af6-fe4a17fa8c61",
   "metadata": {
    "execution": {
     "iopub.execute_input": "2025-07-30T21:14:30.918372Z",
     "iopub.status.busy": "2025-07-30T21:14:30.917359Z",
     "iopub.status.idle": "2025-07-30T21:14:30.924694Z",
     "shell.execute_reply": "2025-07-30T21:14:30.923351Z"
    },
    "papermill": {
     "duration": 0.036415,
     "end_time": "2025-07-30T21:14:30.926603",
     "exception": false,
     "start_time": "2025-07-30T21:14:30.890188",
     "status": "completed"
    },
    "tags": []
   },
   "outputs": [],
   "source": [
    "# Conditional Coverage & looking at subgroups"
   ]
  },
  {
   "cell_type": "code",
   "execution_count": 63,
   "id": "027ae886-68dd-4141-96c7-805a5450e1ef",
   "metadata": {
    "execution": {
     "iopub.execute_input": "2025-07-30T21:14:30.982260Z",
     "iopub.status.busy": "2025-07-30T21:14:30.981550Z",
     "iopub.status.idle": "2025-07-30T21:14:31.247719Z",
     "shell.execute_reply": "2025-07-30T21:14:31.246785Z"
    },
    "papermill": {
     "duration": 0.295351,
     "end_time": "2025-07-30T21:14:31.249693",
     "exception": false,
     "start_time": "2025-07-30T21:14:30.954342",
     "status": "completed"
    },
    "tags": []
   },
   "outputs": [],
   "source": [
    "from fairness_multiverse.conformal import build_cp_groups\n",
    "\n",
    "cp_groups_df = build_cp_groups(pred_sets, y_true, X_test.index, org_test)\n",
    "#needs universe_id and setting"
   ]
  },
  {
   "cell_type": "code",
   "execution_count": 64,
   "id": "01d5802c-663a-4d1f-9d69-e036faaffbf7",
   "metadata": {
    "execution": {
     "iopub.execute_input": "2025-07-30T21:14:31.307709Z",
     "iopub.status.busy": "2025-07-30T21:14:31.307204Z",
     "iopub.status.idle": "2025-07-30T21:14:31.312348Z",
     "shell.execute_reply": "2025-07-30T21:14:31.311336Z"
    },
    "papermill": {
     "duration": 0.035716,
     "end_time": "2025-07-30T21:14:31.314112",
     "exception": false,
     "start_time": "2025-07-30T21:14:31.278396",
     "status": "completed"
    },
    "tags": []
   },
   "outputs": [],
   "source": [
    "#delete\n",
    "#cp_groups_df"
   ]
  },
  {
   "cell_type": "code",
   "execution_count": 65,
   "id": "fa424af1-d1eb-443d-b717-2d279ada8408",
   "metadata": {
    "execution": {
     "iopub.execute_input": "2025-07-30T21:14:31.372722Z",
     "iopub.status.busy": "2025-07-30T21:14:31.372169Z",
     "iopub.status.idle": "2025-07-30T21:14:31.377783Z",
     "shell.execute_reply": "2025-07-30T21:14:31.376815Z"
    },
    "papermill": {
     "duration": 0.036548,
     "end_time": "2025-07-30T21:14:31.379553",
     "exception": false,
     "start_time": "2025-07-30T21:14:31.343005",
     "status": "completed"
    },
    "tags": []
   },
   "outputs": [],
   "source": [
    "#delete\n",
    "#percentage = (cp_groups_df['nongerman_female'] == 1).mean() * 100\n",
    "#print(percentage)\n"
   ]
  },
  {
   "cell_type": "code",
   "execution_count": 66,
   "id": "6cbdab96-b2b2-45af-ad54-d0516db2e28d",
   "metadata": {
    "execution": {
     "iopub.execute_input": "2025-07-30T21:14:31.438545Z",
     "iopub.status.busy": "2025-07-30T21:14:31.437899Z",
     "iopub.status.idle": "2025-07-30T21:14:33.098395Z",
     "shell.execute_reply": "2025-07-30T21:14:33.097337Z"
    },
    "papermill": {
     "duration": 1.691499,
     "end_time": "2025-07-30T21:14:33.100489",
     "exception": false,
     "start_time": "2025-07-30T21:14:31.408990",
     "status": "completed"
    },
    "tags": []
   },
   "outputs": [],
   "source": [
    "# Define covered = 1 if true_label is in the predicted set\n",
    "cp_groups_df['covered'] = cp_groups_df.apply(\n",
    "    lambda r: int(r['true_label'] in r['pred_set']),\n",
    "    axis=1\n",
    ")"
   ]
  },
  {
   "cell_type": "code",
   "execution_count": 67,
   "id": "338ff529-1a6b-4b87-a931-8e4788d52aad",
   "metadata": {
    "execution": {
     "iopub.execute_input": "2025-07-30T21:14:33.159886Z",
     "iopub.status.busy": "2025-07-30T21:14:33.158970Z",
     "iopub.status.idle": "2025-07-30T21:14:33.164493Z",
     "shell.execute_reply": "2025-07-30T21:14:33.163433Z"
    },
    "papermill": {
     "duration": 0.036604,
     "end_time": "2025-07-30T21:14:33.166086",
     "exception": false,
     "start_time": "2025-07-30T21:14:33.129482",
     "status": "completed"
    },
    "tags": []
   },
   "outputs": [],
   "source": [
    "#cp_groups_df"
   ]
  },
  {
   "cell_type": "code",
   "execution_count": 68,
   "id": "90032e27-66df-4540-9169-4e89cfbaa758",
   "metadata": {
    "execution": {
     "iopub.execute_input": "2025-07-30T21:14:33.220553Z",
     "iopub.status.busy": "2025-07-30T21:14:33.219676Z",
     "iopub.status.idle": "2025-07-30T21:14:33.231008Z",
     "shell.execute_reply": "2025-07-30T21:14:33.230026Z"
    },
    "papermill": {
     "duration": 0.03984,
     "end_time": "2025-07-30T21:14:33.232803",
     "exception": false,
     "start_time": "2025-07-30T21:14:33.192963",
     "status": "completed"
    },
    "tags": []
   },
   "outputs": [],
   "source": [
    "subgroups = ['frau1','nongerman','nongerman_male','nongerman_female']\n",
    "\n",
    "# Conditional coverage for subgroup==1\n",
    "cond_coverage = {\n",
    "    g: cp_groups_df.loc[cp_groups_df[g]==1, 'covered'].mean()\n",
    "    for g in subgroups\n",
    "}"
   ]
  },
  {
   "cell_type": "code",
   "execution_count": 69,
   "id": "1e348fb1-b9c3-45bc-ba23-f016827a7e0d",
   "metadata": {
    "execution": {
     "iopub.execute_input": "2025-07-30T21:14:33.293042Z",
     "iopub.status.busy": "2025-07-30T21:14:33.292101Z",
     "iopub.status.idle": "2025-07-30T21:14:33.299975Z",
     "shell.execute_reply": "2025-07-30T21:14:33.299008Z"
    },
    "papermill": {
     "duration": 0.039458,
     "end_time": "2025-07-30T21:14:33.301937",
     "exception": false,
     "start_time": "2025-07-30T21:14:33.262479",
     "status": "completed"
    },
    "tags": []
   },
   "outputs": [
    {
     "data": {
      "text/plain": [
       "{'frau1': 0.9089634721660601,\n",
       " 'nongerman': 0.9120305394936282,\n",
       " 'nongerman_male': 0.9283977303431505,\n",
       " 'nongerman_female': 0.8849478390461997}"
      ]
     },
     "execution_count": 69,
     "metadata": {},
     "output_type": "execute_result"
    }
   ],
   "source": [
    "cond_coverage"
   ]
  },
  {
   "cell_type": "code",
   "execution_count": 70,
   "id": "f5093324-c3dd-4d63-bc4c-8d945e5c8bbb",
   "metadata": {
    "execution": {
     "iopub.execute_input": "2025-07-30T21:14:33.362516Z",
     "iopub.status.busy": "2025-07-30T21:14:33.361770Z",
     "iopub.status.idle": "2025-07-30T21:14:33.369625Z",
     "shell.execute_reply": "2025-07-30T21:14:33.368516Z"
    },
    "papermill": {
     "duration": 0.039831,
     "end_time": "2025-07-30T21:14:33.371758",
     "exception": false,
     "start_time": "2025-07-30T21:14:33.331927",
     "status": "completed"
    },
    "tags": []
   },
   "outputs": [],
   "source": [
    "for subgroup, cov in cond_coverage.items():\n",
    "    cp_metrics_df[f\"cov_{subgroup}\"] = cov"
   ]
  },
  {
   "cell_type": "code",
   "execution_count": 71,
   "id": "6e872e10-dbe5-49e8-b554-5030c98ff75d",
   "metadata": {
    "execution": {
     "iopub.execute_input": "2025-07-30T21:14:33.431070Z",
     "iopub.status.busy": "2025-07-30T21:14:33.430570Z",
     "iopub.status.idle": "2025-07-30T21:14:33.450721Z",
     "shell.execute_reply": "2025-07-30T21:14:33.449685Z"
    },
    "papermill": {
     "duration": 0.049285,
     "end_time": "2025-07-30T21:14:33.452454",
     "exception": false,
     "start_time": "2025-07-30T21:14:33.403169",
     "status": "completed"
    },
    "tags": []
   },
   "outputs": [
    {
     "data": {
      "text/html": [
       "<div>\n",
       "<style scoped>\n",
       "    .dataframe tbody tr th:only-of-type {\n",
       "        vertical-align: middle;\n",
       "    }\n",
       "\n",
       "    .dataframe tbody tr th {\n",
       "        vertical-align: top;\n",
       "    }\n",
       "\n",
       "    .dataframe thead th {\n",
       "        text-align: right;\n",
       "    }\n",
       "</style>\n",
       "<table border=\"1\" class=\"dataframe\">\n",
       "  <thead>\n",
       "    <tr style=\"text-align: right;\">\n",
       "      <th></th>\n",
       "      <th>universe_id</th>\n",
       "      <th>universe_training_year</th>\n",
       "      <th>universe_training_size</th>\n",
       "      <th>universe_scale</th>\n",
       "      <th>universe_model</th>\n",
       "      <th>universe_exclude_features</th>\n",
       "      <th>universe_exclude_subgroups</th>\n",
       "      <th>q_hat</th>\n",
       "      <th>coverage</th>\n",
       "      <th>avg_size</th>\n",
       "      <th>cov_frau1</th>\n",
       "      <th>cov_nongerman</th>\n",
       "      <th>cov_nongerman_male</th>\n",
       "      <th>cov_nongerman_female</th>\n",
       "    </tr>\n",
       "  </thead>\n",
       "  <tbody>\n",
       "    <tr>\n",
       "      <th>0</th>\n",
       "      <td>a29e02a24a85992acf1451d3921a0e08</td>\n",
       "      <td>2010_14</td>\n",
       "      <td>5k</td>\n",
       "      <td>scale</td>\n",
       "      <td>elasticnet</td>\n",
       "      <td>nationality</td>\n",
       "      <td>keep-all</td>\n",
       "      <td>0.679493</td>\n",
       "      <td>0.911359</td>\n",
       "      <td>1.146383</td>\n",
       "      <td>0.908963</td>\n",
       "      <td>0.912031</td>\n",
       "      <td>0.928398</td>\n",
       "      <td>0.884948</td>\n",
       "    </tr>\n",
       "  </tbody>\n",
       "</table>\n",
       "</div>"
      ],
      "text/plain": [
       "                        universe_id universe_training_year  \\\n",
       "0  a29e02a24a85992acf1451d3921a0e08                2010_14   \n",
       "\n",
       "  universe_training_size universe_scale universe_model  \\\n",
       "0                     5k          scale     elasticnet   \n",
       "\n",
       "  universe_exclude_features universe_exclude_subgroups     q_hat  coverage  \\\n",
       "0               nationality                   keep-all  0.679493  0.911359   \n",
       "\n",
       "   avg_size  cov_frau1  cov_nongerman  cov_nongerman_male  \\\n",
       "0  1.146383   0.908963       0.912031            0.928398   \n",
       "\n",
       "   cov_nongerman_female  \n",
       "0              0.884948  "
      ]
     },
     "execution_count": 71,
     "metadata": {},
     "output_type": "execute_result"
    }
   ],
   "source": [
    "cp_metrics_df"
   ]
  },
  {
   "cell_type": "markdown",
   "id": "33774451",
   "metadata": {
    "papermill": {
     "duration": 0.025809,
     "end_time": "2025-07-30T21:14:33.506483",
     "exception": false,
     "start_time": "2025-07-30T21:14:33.480674",
     "status": "completed"
    },
    "tags": []
   },
   "source": [
    "# (Fairness) Metrics"
   ]
  },
  {
   "cell_type": "code",
   "execution_count": 72,
   "id": "debc5d62",
   "metadata": {
    "execution": {
     "iopub.execute_input": "2025-07-30T21:14:33.561404Z",
     "iopub.status.busy": "2025-07-30T21:14:33.560701Z",
     "iopub.status.idle": "2025-07-30T21:14:33.583336Z",
     "shell.execute_reply": "2025-07-30T21:14:33.582364Z"
    },
    "papermill": {
     "duration": 0.052275,
     "end_time": "2025-07-30T21:14:33.585207",
     "exception": false,
     "start_time": "2025-07-30T21:14:33.532932",
     "status": "completed"
    },
    "tags": []
   },
   "outputs": [],
   "source": [
    "# do I need to include maxdeutsch1.missing?\n",
    "\n",
    "import numpy as np\n",
    "\n",
    "colname_to_bin = \"maxdeutsch1\"\n",
    "majority_value = org_train[colname_to_bin].mode()[0]\n",
    "\n",
    "org_test[\"majmin\"] = np.where(org_test[colname_to_bin] == majority_value, \"majority\", \"minority\")"
   ]
  },
  {
   "cell_type": "code",
   "execution_count": 73,
   "id": "06a50de5",
   "metadata": {
    "execution": {
     "iopub.execute_input": "2025-07-30T21:14:33.646036Z",
     "iopub.status.busy": "2025-07-30T21:14:33.645488Z",
     "iopub.status.idle": "2025-07-30T21:14:36.449506Z",
     "shell.execute_reply": "2025-07-30T21:14:36.448180Z"
    },
    "papermill": {
     "duration": 2.83609,
     "end_time": "2025-07-30T21:14:36.451509",
     "exception": false,
     "start_time": "2025-07-30T21:14:33.615419",
     "status": "completed"
    },
    "tags": []
   },
   "outputs": [],
   "source": [
    "example_universe = universe.copy()\n",
    "example_universe[\"cutoff\"] = example_universe[\"cutoff\"][0]\n",
    "example_universe[\"eval_fairness_grouping\"] = example_universe[\"eval_fairness_grouping\"][0]\n",
    "fairness_dict, metric_frame = universe_analysis.compute_metrics(\n",
    "    example_universe,\n",
    "    y_pred_prob=probs_test,\n",
    "    y_test=y_true,\n",
    "    org_test=org_test,\n",
    ")"
   ]
  },
  {
   "cell_type": "markdown",
   "id": "f95d4e02",
   "metadata": {
    "papermill": {
     "duration": 0.027857,
     "end_time": "2025-07-30T21:14:36.506794",
     "exception": false,
     "start_time": "2025-07-30T21:14:36.478937",
     "status": "completed"
    },
    "tags": []
   },
   "source": [
    "# Overall"
   ]
  },
  {
   "cell_type": "markdown",
   "id": "bdee4871",
   "metadata": {
    "papermill": {
     "duration": 0.026876,
     "end_time": "2025-07-30T21:14:36.561173",
     "exception": false,
     "start_time": "2025-07-30T21:14:36.534297",
     "status": "completed"
    },
    "tags": []
   },
   "source": [
    "Fairness\n",
    "Main fairness target: Equalized Odds. Seems to be a better fit than equal opportunity, since we're not only interested in Y = 1. Seems to be a better fit than demographic parity, since we also care about accuracy, not just equal distribution of preds.\n",
    "\n",
    "Pick column for computation of fairness metrics\n",
    "\n",
    "Performance\n",
    "Overall performance measures, most interesting in relation to the measures split by group below"
   ]
  },
  {
   "cell_type": "code",
   "execution_count": 74,
   "id": "c4e067c6",
   "metadata": {
    "execution": {
     "iopub.execute_input": "2025-07-30T21:14:36.616770Z",
     "iopub.status.busy": "2025-07-30T21:14:36.616150Z",
     "iopub.status.idle": "2025-07-30T21:14:36.627661Z",
     "shell.execute_reply": "2025-07-30T21:14:36.626679Z"
    },
    "papermill": {
     "duration": 0.041334,
     "end_time": "2025-07-30T21:14:36.629185",
     "exception": false,
     "start_time": "2025-07-30T21:14:36.587851",
     "status": "completed"
    },
    "tags": []
   },
   "outputs": [
    {
     "data": {
      "text/plain": [
       "accuracy                   0.223643\n",
       "balanced accuracy          0.546991\n",
       "f1                         0.244994\n",
       "precision                  0.139957\n",
       "false positive rate        0.887944\n",
       "false negative rate        0.018074\n",
       "selection rate             0.900000\n",
       "count                  89710.000000\n",
       "dtype: float64"
      ]
     },
     "execution_count": 74,
     "metadata": {},
     "output_type": "execute_result"
    }
   ],
   "source": [
    "metric_frame.overall"
   ]
  },
  {
   "cell_type": "markdown",
   "id": "e968fe9d",
   "metadata": {
    "papermill": {
     "duration": 0.014323,
     "end_time": "2025-07-30T21:14:36.658840",
     "exception": false,
     "start_time": "2025-07-30T21:14:36.644517",
     "status": "completed"
    },
    "tags": []
   },
   "source": [
    "By Group"
   ]
  },
  {
   "cell_type": "code",
   "execution_count": 75,
   "id": "ec325bce",
   "metadata": {
    "execution": {
     "iopub.execute_input": "2025-07-30T21:14:36.723505Z",
     "iopub.status.busy": "2025-07-30T21:14:36.723091Z",
     "iopub.status.idle": "2025-07-30T21:14:36.736944Z",
     "shell.execute_reply": "2025-07-30T21:14:36.736125Z"
    },
    "papermill": {
     "duration": 0.031135,
     "end_time": "2025-07-30T21:14:36.738344",
     "exception": false,
     "start_time": "2025-07-30T21:14:36.707209",
     "status": "completed"
    },
    "tags": []
   },
   "outputs": [
    {
     "data": {
      "text/html": [
       "<div>\n",
       "<style scoped>\n",
       "    .dataframe tbody tr th:only-of-type {\n",
       "        vertical-align: middle;\n",
       "    }\n",
       "\n",
       "    .dataframe tbody tr th {\n",
       "        vertical-align: top;\n",
       "    }\n",
       "\n",
       "    .dataframe thead th {\n",
       "        text-align: right;\n",
       "    }\n",
       "</style>\n",
       "<table border=\"1\" class=\"dataframe\">\n",
       "  <thead>\n",
       "    <tr style=\"text-align: right;\">\n",
       "      <th></th>\n",
       "      <th>accuracy</th>\n",
       "      <th>balanced accuracy</th>\n",
       "      <th>f1</th>\n",
       "      <th>precision</th>\n",
       "      <th>false positive rate</th>\n",
       "      <th>false negative rate</th>\n",
       "      <th>selection rate</th>\n",
       "      <th>count</th>\n",
       "    </tr>\n",
       "    <tr>\n",
       "      <th>majmin</th>\n",
       "      <th></th>\n",
       "      <th></th>\n",
       "      <th></th>\n",
       "      <th></th>\n",
       "      <th></th>\n",
       "      <th></th>\n",
       "      <th></th>\n",
       "      <th></th>\n",
       "    </tr>\n",
       "  </thead>\n",
       "  <tbody>\n",
       "    <tr>\n",
       "      <th>majority</th>\n",
       "      <td>0.245366</td>\n",
       "      <td>0.557072</td>\n",
       "      <td>0.255654</td>\n",
       "      <td>0.146985</td>\n",
       "      <td>0.866600</td>\n",
       "      <td>0.019256</td>\n",
       "      <td>0.881683</td>\n",
       "      <td>69170.0</td>\n",
       "    </tr>\n",
       "    <tr>\n",
       "      <th>minority</th>\n",
       "      <td>0.150487</td>\n",
       "      <td>0.514017</td>\n",
       "      <td>0.211202</td>\n",
       "      <td>0.118261</td>\n",
       "      <td>0.958453</td>\n",
       "      <td>0.013514</td>\n",
       "      <td>0.961685</td>\n",
       "      <td>20540.0</td>\n",
       "    </tr>\n",
       "  </tbody>\n",
       "</table>\n",
       "</div>"
      ],
      "text/plain": [
       "          accuracy  balanced accuracy        f1  precision  \\\n",
       "majmin                                                       \n",
       "majority  0.245366           0.557072  0.255654   0.146985   \n",
       "minority  0.150487           0.514017  0.211202   0.118261   \n",
       "\n",
       "          false positive rate  false negative rate  selection rate    count  \n",
       "majmin                                                                       \n",
       "majority             0.866600             0.019256        0.881683  69170.0  \n",
       "minority             0.958453             0.013514        0.961685  20540.0  "
      ]
     },
     "execution_count": 75,
     "metadata": {},
     "output_type": "execute_result"
    }
   ],
   "source": [
    "metric_frame.by_group"
   ]
  },
  {
   "cell_type": "code",
   "execution_count": 76,
   "id": "a9ddbe63",
   "metadata": {
    "execution": {
     "iopub.execute_input": "2025-07-30T21:14:36.772119Z",
     "iopub.status.busy": "2025-07-30T21:14:36.771585Z",
     "iopub.status.idle": "2025-07-30T21:14:39.032418Z",
     "shell.execute_reply": "2025-07-30T21:14:39.028932Z"
    },
    "papermill": {
     "duration": 2.279576,
     "end_time": "2025-07-30T21:14:39.034901",
     "exception": false,
     "start_time": "2025-07-30T21:14:36.755325",
     "status": "completed"
    },
    "tags": []
   },
   "outputs": [
    {
     "data": {
      "text/plain": [
       "array([[<Axes: title={'center': 'accuracy'}, xlabel='majmin'>,\n",
       "        <Axes: title={'center': 'balanced accuracy'}, xlabel='majmin'>,\n",
       "        <Axes: title={'center': 'f1'}, xlabel='majmin'>],\n",
       "       [<Axes: title={'center': 'precision'}, xlabel='majmin'>,\n",
       "        <Axes: title={'center': 'false positive rate'}, xlabel='majmin'>,\n",
       "        <Axes: title={'center': 'false negative rate'}, xlabel='majmin'>],\n",
       "       [<Axes: title={'center': 'selection rate'}, xlabel='majmin'>,\n",
       "        <Axes: title={'center': 'count'}, xlabel='majmin'>,\n",
       "        <Axes: xlabel='majmin'>]], dtype=object)"
      ]
     },
     "execution_count": 76,
     "metadata": {},
     "output_type": "execute_result"
    },
    {
     "data": {
      "image/png": "[encoded data removed]",
      "text/plain": [
       "<Figure size 1200x800 with 9 Axes>"
      ]
     },
     "metadata": {},
     "output_type": "display_data"
    }
   ],
   "source": [
    "# In a graphic\n",
    "metric_frame.by_group.plot.bar(\n",
    "    subplots=True,\n",
    "    layout=[3, 3],\n",
    "    legend=False,\n",
    "    figsize=[12, 8],\n",
    "    title=\"Show all metrics\",\n",
    ")"
   ]
  },
  {
   "cell_type": "markdown",
   "id": "f57a0bac",
   "metadata": {
    "papermill": {
     "duration": 0.015559,
     "end_time": "2025-07-30T21:14:39.077015",
     "exception": false,
     "start_time": "2025-07-30T21:14:39.061456",
     "status": "completed"
    },
    "tags": []
   },
   "source": [
    "# Final Output"
   ]
  },
  {
   "cell_type": "code",
   "execution_count": 77,
   "id": "96d280a3",
   "metadata": {
    "execution": {
     "iopub.execute_input": "2025-07-30T21:14:39.111369Z",
     "iopub.status.busy": "2025-07-30T21:14:39.110594Z",
     "iopub.status.idle": "2025-07-30T21:14:39.121491Z",
     "shell.execute_reply": "2025-07-30T21:14:39.120463Z"
    },
    "papermill": {
     "duration": 0.030421,
     "end_time": "2025-07-30T21:14:39.123186",
     "exception": false,
     "start_time": "2025-07-30T21:14:39.092765",
     "status": "completed"
    },
    "tags": []
   },
   "outputs": [
    {
     "data": {
      "text/plain": [
       "4"
      ]
     },
     "execution_count": 77,
     "metadata": {},
     "output_type": "execute_result"
    }
   ],
   "source": [
    "sub_universes = universe_analysis.generate_sub_universes()\n",
    "len(sub_universes)"
   ]
  },
  {
   "cell_type": "code",
   "execution_count": 78,
   "id": "92adf7ba",
   "metadata": {
    "execution": {
     "iopub.execute_input": "2025-07-30T21:14:39.185312Z",
     "iopub.status.busy": "2025-07-30T21:14:39.184864Z",
     "iopub.status.idle": "2025-07-30T21:14:39.190818Z",
     "shell.execute_reply": "2025-07-30T21:14:39.189888Z"
    },
    "papermill": {
     "duration": 0.045883,
     "end_time": "2025-07-30T21:14:39.197275",
     "exception": false,
     "start_time": "2025-07-30T21:14:39.151392",
     "status": "completed"
    },
    "tags": []
   },
   "outputs": [],
   "source": [
    "def filter_sub_universe_data(sub_universe, org_test):\n",
    "    # Keep all rows — no filtering\n",
    "    keep_rows_mask = np.ones(org_test.shape[0], dtype=bool)\n",
    "\n",
    "    print(f\"[INFO] Keeping all rows: {keep_rows_mask.sum()} rows retained.\")\n",
    "    return keep_rows_mask"
   ]
  },
  {
   "cell_type": "code",
   "execution_count": 79,
   "id": "4a759155",
   "metadata": {
    "execution": {
     "iopub.execute_input": "2025-07-30T21:14:39.258573Z",
     "iopub.status.busy": "2025-07-30T21:14:39.258210Z",
     "iopub.status.idle": "2025-07-30T21:14:46.684096Z",
     "shell.execute_reply": "2025-07-30T21:14:46.683068Z"
    },
    "papermill": {
     "duration": 7.454284,
     "end_time": "2025-07-30T21:14:46.685523",
     "exception": false,
     "start_time": "2025-07-30T21:14:39.231239",
     "status": "completed"
    },
    "tags": []
   },
   "outputs": [
    {
     "name": "stdout",
     "output_type": "stream",
     "text": [
      "Stopping execution_time clock.\n",
      "[INFO] Keeping all rows: 89710 rows retained.\n"
     ]
    },
    {
     "name": "stdout",
     "output_type": "stream",
     "text": [
      "[INFO] Keeping all rows: 89710 rows retained.\n"
     ]
    },
    {
     "name": "stdout",
     "output_type": "stream",
     "text": [
      "[INFO] Keeping all rows: 89710 rows retained.\n"
     ]
    },
    {
     "name": "stdout",
     "output_type": "stream",
     "text": [
      "[INFO] Keeping all rows: 89710 rows retained.\n"
     ]
    },
    {
     "data": {
      "text/html": [
       "<div>\n",
       "<style scoped>\n",
       "    .dataframe tbody tr th:only-of-type {\n",
       "        vertical-align: middle;\n",
       "    }\n",
       "\n",
       "    .dataframe tbody tr th {\n",
       "        vertical-align: top;\n",
       "    }\n",
       "\n",
       "    .dataframe thead th {\n",
       "        text-align: right;\n",
       "    }\n",
       "</style>\n",
       "<table border=\"1\" class=\"dataframe\">\n",
       "  <thead>\n",
       "    <tr style=\"text-align: right;\">\n",
       "      <th></th>\n",
       "      <th>run_no</th>\n",
       "      <th>universe_id</th>\n",
       "      <th>universe_settings</th>\n",
       "      <th>execution_time</th>\n",
       "      <th>test_size_n</th>\n",
       "      <th>test_size_frac</th>\n",
       "      <th>fair_main_equalized_odds_difference</th>\n",
       "      <th>fair_main_equalized_odds_ratio</th>\n",
       "      <th>fair_main_demographic_parity_difference</th>\n",
       "      <th>fair_main_demographic_parity_ratio</th>\n",
       "      <th>...</th>\n",
       "      <th>perf_grp_precision_0</th>\n",
       "      <th>perf_grp_precision_1</th>\n",
       "      <th>perf_grp_false positive rate_0</th>\n",
       "      <th>perf_grp_false positive rate_1</th>\n",
       "      <th>perf_grp_false negative rate_0</th>\n",
       "      <th>perf_grp_false negative rate_1</th>\n",
       "      <th>perf_grp_selection rate_0</th>\n",
       "      <th>perf_grp_selection rate_1</th>\n",
       "      <th>perf_grp_count_0</th>\n",
       "      <th>perf_grp_count_1</th>\n",
       "    </tr>\n",
       "  </thead>\n",
       "  <tbody>\n",
       "    <tr>\n",
       "      <th>0</th>\n",
       "      <td>14</td>\n",
       "      <td>a29e02a24a85992acf1451d3921a0e08</td>\n",
       "      <td>{\"cutoff\": \"quantile_0.1\", \"eval_fairness_grou...</td>\n",
       "      <td>38.539114</td>\n",
       "      <td>89710</td>\n",
       "      <td>1.0</td>\n",
       "      <td>0.091853</td>\n",
       "      <td>0.904166</td>\n",
       "      <td>0.080002</td>\n",
       "      <td>0.916811</td>\n",
       "      <td>...</td>\n",
       "      <td>NaN</td>\n",
       "      <td>NaN</td>\n",
       "      <td>NaN</td>\n",
       "      <td>NaN</td>\n",
       "      <td>NaN</td>\n",
       "      <td>NaN</td>\n",
       "      <td>NaN</td>\n",
       "      <td>NaN</td>\n",
       "      <td>NaN</td>\n",
       "      <td>NaN</td>\n",
       "    </tr>\n",
       "    <tr>\n",
       "      <th>0</th>\n",
       "      <td>14</td>\n",
       "      <td>a29e02a24a85992acf1451d3921a0e08</td>\n",
       "      <td>{\"cutoff\": \"quantile_0.1\", \"eval_fairness_grou...</td>\n",
       "      <td>38.539114</td>\n",
       "      <td>89710</td>\n",
       "      <td>1.0</td>\n",
       "      <td>0.091853</td>\n",
       "      <td>0.904166</td>\n",
       "      <td>0.080002</td>\n",
       "      <td>0.916811</td>\n",
       "      <td>...</td>\n",
       "      <td>0.118261</td>\n",
       "      <td>0.146985</td>\n",
       "      <td>0.958453</td>\n",
       "      <td>0.86660</td>\n",
       "      <td>0.013514</td>\n",
       "      <td>0.019256</td>\n",
       "      <td>0.961685</td>\n",
       "      <td>0.881683</td>\n",
       "      <td>20540.0</td>\n",
       "      <td>69170.0</td>\n",
       "    </tr>\n",
       "    <tr>\n",
       "      <th>0</th>\n",
       "      <td>14</td>\n",
       "      <td>a29e02a24a85992acf1451d3921a0e08</td>\n",
       "      <td>{\"cutoff\": \"quantile_0.25\", \"eval_fairness_gro...</td>\n",
       "      <td>38.539114</td>\n",
       "      <td>89710</td>\n",
       "      <td>1.0</td>\n",
       "      <td>0.180145</td>\n",
       "      <td>0.790797</td>\n",
       "      <td>0.157674</td>\n",
       "      <td>0.819091</td>\n",
       "      <td>...</td>\n",
       "      <td>NaN</td>\n",
       "      <td>NaN</td>\n",
       "      <td>NaN</td>\n",
       "      <td>NaN</td>\n",
       "      <td>NaN</td>\n",
       "      <td>NaN</td>\n",
       "      <td>NaN</td>\n",
       "      <td>NaN</td>\n",
       "      <td>NaN</td>\n",
       "      <td>NaN</td>\n",
       "    </tr>\n",
       "    <tr>\n",
       "      <th>0</th>\n",
       "      <td>14</td>\n",
       "      <td>a29e02a24a85992acf1451d3921a0e08</td>\n",
       "      <td>{\"cutoff\": \"quantile_0.25\", \"eval_fairness_gro...</td>\n",
       "      <td>38.539114</td>\n",
       "      <td>89710</td>\n",
       "      <td>1.0</td>\n",
       "      <td>0.180145</td>\n",
       "      <td>0.790797</td>\n",
       "      <td>0.157674</td>\n",
       "      <td>0.819091</td>\n",
       "      <td>...</td>\n",
       "      <td>0.125908</td>\n",
       "      <td>0.172175</td>\n",
       "      <td>0.861105</td>\n",
       "      <td>0.68096</td>\n",
       "      <td>0.048142</td>\n",
       "      <td>0.069803</td>\n",
       "      <td>0.871568</td>\n",
       "      <td>0.713893</td>\n",
       "      <td>20540.0</td>\n",
       "      <td>69170.0</td>\n",
       "    </tr>\n",
       "  </tbody>\n",
       "</table>\n",
       "<p>4 rows × 50 columns</p>\n",
       "</div>"
      ],
      "text/plain": [
       "  run_no                       universe_id  \\\n",
       "0     14  a29e02a24a85992acf1451d3921a0e08   \n",
       "0     14  a29e02a24a85992acf1451d3921a0e08   \n",
       "0     14  a29e02a24a85992acf1451d3921a0e08   \n",
       "0     14  a29e02a24a85992acf1451d3921a0e08   \n",
       "\n",
       "                                   universe_settings  execution_time  \\\n",
       "0  {\"cutoff\": \"quantile_0.1\", \"eval_fairness_grou...       38.539114   \n",
       "0  {\"cutoff\": \"quantile_0.1\", \"eval_fairness_grou...       38.539114   \n",
       "0  {\"cutoff\": \"quantile_0.25\", \"eval_fairness_gro...       38.539114   \n",
       "0  {\"cutoff\": \"quantile_0.25\", \"eval_fairness_gro...       38.539114   \n",
       "\n",
       "   test_size_n  test_size_frac  fair_main_equalized_odds_difference  \\\n",
       "0        89710             1.0                             0.091853   \n",
       "0        89710             1.0                             0.091853   \n",
       "0        89710             1.0                             0.180145   \n",
       "0        89710             1.0                             0.180145   \n",
       "\n",
       "   fair_main_equalized_odds_ratio  fair_main_demographic_parity_difference  \\\n",
       "0                        0.904166                                 0.080002   \n",
       "0                        0.904166                                 0.080002   \n",
       "0                        0.790797                                 0.157674   \n",
       "0                        0.790797                                 0.157674   \n",
       "\n",
       "   fair_main_demographic_parity_ratio  ...  perf_grp_precision_0  \\\n",
       "0                            0.916811  ...                   NaN   \n",
       "0                            0.916811  ...              0.118261   \n",
       "0                            0.819091  ...                   NaN   \n",
       "0                            0.819091  ...              0.125908   \n",
       "\n",
       "   perf_grp_precision_1  perf_grp_false positive rate_0  \\\n",
       "0                   NaN                             NaN   \n",
       "0              0.146985                        0.958453   \n",
       "0                   NaN                             NaN   \n",
       "0              0.172175                        0.861105   \n",
       "\n",
       "   perf_grp_false positive rate_1  perf_grp_false negative rate_0  \\\n",
       "0                             NaN                             NaN   \n",
       "0                         0.86660                        0.013514   \n",
       "0                             NaN                             NaN   \n",
       "0                         0.68096                        0.048142   \n",
       "\n",
       "   perf_grp_false negative rate_1  perf_grp_selection rate_0  \\\n",
       "0                             NaN                        NaN   \n",
       "0                        0.019256                   0.961685   \n",
       "0                             NaN                        NaN   \n",
       "0                        0.069803                   0.871568   \n",
       "\n",
       "   perf_grp_selection rate_1  perf_grp_count_0  perf_grp_count_1  \n",
       "0                        NaN               NaN               NaN  \n",
       "0                   0.881683           20540.0           69170.0  \n",
       "0                        NaN               NaN               NaN  \n",
       "0                   0.713893           20540.0           69170.0  \n",
       "\n",
       "[4 rows x 50 columns]"
      ]
     },
     "execution_count": 79,
     "metadata": {},
     "output_type": "execute_result"
    }
   ],
   "source": [
    "final_output = universe_analysis.generate_final_output(\n",
    "    y_pred_prob=probs_test,\n",
    "    y_test=y_true,\n",
    "    org_test=org_test,\n",
    "    filter_data=filter_sub_universe_data,\n",
    "    cp_metrics_df=cp_metrics_df,\n",
    "    save=True,\n",
    ")\n",
    "final_output"
   ]
  },
  {
   "cell_type": "code",
   "execution_count": null,
   "id": "721ff514-cb11-46f8-b6fc-50392f74b5cb",
   "metadata": {
    "papermill": {
     "duration": 0.017067,
     "end_time": "2025-07-30T21:14:46.722532",
     "exception": false,
     "start_time": "2025-07-30T21:14:46.705465",
     "status": "completed"
    },
    "tags": []
   },
   "outputs": [],
   "source": []
  }
 ],
 "metadata": {
  "celltoolbar": "Tags",
  "kernelspec": {
   "display_name": "Python (CMA Fairness)",
   "language": "python",
   "name": "cma_fair_env"
  },
  "language_info": {
   "codemirror_mode": {
    "name": "ipython",
    "version": 3
   },
   "file_extension": ".py",
   "mimetype": "text/x-python",
   "name": "python",
   "nbconvert_exporter": "python",
   "pygments_lexer": "ipython3",
   "version": "3.10.12"
  },
  "papermill": {
   "default_parameters": {},
   "duration": 50.179748,
   "end_time": "2025-07-30T21:14:47.557419",
   "environment_variables": {},
   "exception": null,
   "input_path": "universe_analysis.ipynb",
   "output_path": "output/runs/14/notebooks/m_14-a29e02a24a85992acf1451d3921a0e08.ipynb",
   "parameters": {
    "output_dir": "output",
    "run_no": "14",
    "seed": "2023",
    "universe": "{\"cutoff\": [\"quantile_0.1\", \"quantile_0.25\"], \"eval_fairness_grouping\": [\"majority-minority\", \"nationality-all\"], \"exclude_features\": \"nationality\", \"exclude_subgroups\": \"keep-all\", \"model\": \"elasticnet\", \"scale\": \"scale\", \"training_size\": \"5k\", \"training_year\": \"2010_14\"}",
    "universe_id": "a29e02a24a85992acf1451d3921a0e08"
   },
   "start_time": "2025-07-30T21:13:57.377671",
   "version": "2.6.0"
  }
 },
 "nbformat": 4,
 "nbformat_minor": 5
}