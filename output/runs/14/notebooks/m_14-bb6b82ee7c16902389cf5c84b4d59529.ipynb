{
 "cells": [
  {
   "cell_type": "code",
   "execution_count": 1,
   "id": "f159f837-637b-42ba-96b5-ec9a68c44524",
   "metadata": {
    "execution": {
     "iopub.execute_input": "2025-07-30T21:26:42.854560Z",
     "iopub.status.busy": "2025-07-30T21:26:42.854058Z",
     "iopub.status.idle": "2025-07-30T21:26:42.869275Z",
     "shell.execute_reply": "2025-07-30T21:26:42.866899Z"
    },
    "papermill": {
     "duration": 0.040444,
     "end_time": "2025-07-30T21:26:42.871198",
     "exception": false,
     "start_time": "2025-07-30T21:26:42.830754",
     "status": "completed"
    },
    "tags": []
   },
   "outputs": [
    {
     "name": "stdout",
     "output_type": "stream",
     "text": [
      "/dss/dsshome1/0C/ra93lal2/cma/CMA_Fairness_v2\n"
     ]
    },
    {
     "name": "stderr",
     "output_type": "stream",
     "text": [
      "/dss/dsshome1/0C/ra93lal2/.local/share/virtualenvs/CMA_Fairness_v2-3j10GkSs/lib/python3.10/site-packages/IPython/core/magics/osm.py:393: UserWarning: This is now an optional IPython functionality, using bookmarks requires you to install the `pickleshare` library.\n",
      "  bkms = self.shell.db.get('bookmarks', {})\n",
      "/dss/dsshome1/0C/ra93lal2/.local/share/virtualenvs/CMA_Fairness_v2-3j10GkSs/lib/python3.10/site-packages/IPython/core/magics/osm.py:417: UserWarning: This is now an optional IPython functionality, setting dhist requires you to install the `pickleshare` library.\n",
      "  self.shell.db['dhist'] = compress_dhist(dhist)[-100:]\n"
     ]
    }
   ],
   "source": [
    "%cd ~/cma/CMA_Fairness_v2"
   ]
  },
  {
   "cell_type": "markdown",
   "id": "de2603b9",
   "metadata": {
    "papermill": {
     "duration": 0.019721,
     "end_time": "2025-07-30T21:26:42.910007",
     "exception": false,
     "start_time": "2025-07-30T21:26:42.890286",
     "status": "completed"
    },
    "tags": []
   },
   "source": [
    "The following cell holds the definition of our parameters, these values can be overriden by rendering the with e.g. the following command:\n",
    "\n",
    "papermill -p alpha 0.2 -p ratio 0.3 universe_analysis.ipynb output/test_run.ipynb"
   ]
  },
  {
   "cell_type": "code",
   "execution_count": 2,
   "id": "a80968a0-40bb-4fa9-85ef-2d5eefb01975",
   "metadata": {
    "execution": {
     "iopub.execute_input": "2025-07-30T21:26:42.952324Z",
     "iopub.status.busy": "2025-07-30T21:26:42.951917Z",
     "iopub.status.idle": "2025-07-30T21:26:42.956976Z",
     "shell.execute_reply": "2025-07-30T21:26:42.956086Z"
    },
    "papermill": {
     "duration": 0.029721,
     "end_time": "2025-07-30T21:26:42.958815",
     "exception": false,
     "start_time": "2025-07-30T21:26:42.929094",
     "status": "completed"
    },
    "tags": []
   },
   "outputs": [
    {
     "name": "stdout",
     "output_type": "stream",
     "text": [
      "Current working directory: /dss/dsshome1/0C/ra93lal2/cma/CMA_Fairness_v2\n"
     ]
    }
   ],
   "source": [
    "import os\n",
    "print(\"Current working directory:\", os.getcwd())"
   ]
  },
  {
   "cell_type": "code",
   "execution_count": 3,
   "id": "2dce4c03",
   "metadata": {
    "execution": {
     "iopub.execute_input": "2025-07-30T21:26:43.000334Z",
     "iopub.status.busy": "2025-07-30T21:26:42.999828Z",
     "iopub.status.idle": "2025-07-30T21:26:43.005527Z",
     "shell.execute_reply": "2025-07-30T21:26:43.004725Z"
    },
    "papermill": {
     "duration": 0.028212,
     "end_time": "2025-07-30T21:26:43.006911",
     "exception": false,
     "start_time": "2025-07-30T21:26:42.978699",
     "status": "completed"
    },
    "tags": [
     "parameters"
    ]
   },
   "outputs": [],
   "source": [
    "run_no = 0\n",
    "universe_id = \"test\"\n",
    "universe = {\n",
    "    \"training_size\": \"25k\", # \"25k\", \"5k\", \"1k\"\n",
    "    \"training_year\": \"2014\", # \"2014\", \"2012_14\", \"2010_14\"\n",
    "    \"scale\": \"scale\", # \"scale\", \"do-not-scale\",\n",
    "    #\"stratify_split\": \"target\", # \"none\", \"target\", \"protected-attribute\", \"both\",\n",
    "    \"model\": \"elasticnet\", # \"logreg\", \"penalized_logreg\", \"rf\", \"gbm\", \"elasticnet\"\n",
    "    \"cutoff\": [\"quantile_0.15\", \"quantile_0.30\"],\n",
    "    \"exclude_features\": \"age\", # \"none\", \"nationality\", \"sex\", \"nationality-sex\", \"age\"\n",
    "    \"exclude_subgroups\": \"keep-all\", # \"keep-all\", \"drop-non-german\"\n",
    "    \"eval_fairness_grouping\": [\"majority-minority\", \"nationality-all\"]\n",
    "}\n",
    "\n",
    "output_dir=\"./output\"\n",
    "seed=0"
   ]
  },
  {
   "cell_type": "code",
   "execution_count": 4,
   "id": "b3d738b6",
   "metadata": {
    "execution": {
     "iopub.execute_input": "2025-07-30T21:26:43.051298Z",
     "iopub.status.busy": "2025-07-30T21:26:43.050798Z",
     "iopub.status.idle": "2025-07-30T21:26:43.070583Z",
     "shell.execute_reply": "2025-07-30T21:26:43.069276Z"
    },
    "papermill": {
     "duration": 0.047558,
     "end_time": "2025-07-30T21:26:43.072824",
     "exception": false,
     "start_time": "2025-07-30T21:26:43.025266",
     "status": "completed"
    },
    "tags": [
     "injected-parameters"
    ]
   },
   "outputs": [],
   "source": [
    "# Parameters\n",
    "universe_id = \"bb6b82ee7c16902389cf5c84b4d59529\"\n",
    "run_no = \"14\"\n",
    "universe = \"{\\\"cutoff\\\": [\\\"quantile_0.1\\\", \\\"quantile_0.25\\\"], \\\"eval_fairness_grouping\\\": [\\\"majority-minority\\\", \\\"nationality-all\\\"], \\\"exclude_features\\\": \\\"sex\\\", \\\"exclude_subgroups\\\": \\\"keep-all\\\", \\\"model\\\": \\\"elasticnet\\\", \\\"scale\\\": \\\"scale\\\", \\\"training_size\\\": \\\"1k\\\", \\\"training_year\\\": \\\"2014\\\"}\"\n",
    "output_dir = \"output\"\n",
    "seed = \"2023\"\n"
   ]
  },
  {
   "cell_type": "code",
   "execution_count": 5,
   "id": "1650acaf",
   "metadata": {
    "execution": {
     "iopub.execute_input": "2025-07-30T21:26:43.111519Z",
     "iopub.status.busy": "2025-07-30T21:26:43.110947Z",
     "iopub.status.idle": "2025-07-30T21:26:43.115078Z",
     "shell.execute_reply": "2025-07-30T21:26:43.114337Z"
    },
    "papermill": {
     "duration": 0.024313,
     "end_time": "2025-07-30T21:26:43.116405",
     "exception": false,
     "start_time": "2025-07-30T21:26:43.092092",
     "status": "completed"
    },
    "tags": []
   },
   "outputs": [],
   "source": [
    "import json\n",
    "# Parse universe into dict if it is passed as a string\n",
    "if isinstance(universe, str):\n",
    "    universe = json.loads(universe)"
   ]
  },
  {
   "cell_type": "code",
   "execution_count": 6,
   "id": "16620c48",
   "metadata": {
    "execution": {
     "iopub.execute_input": "2025-07-30T21:26:43.138771Z",
     "iopub.status.busy": "2025-07-30T21:26:43.137716Z",
     "iopub.status.idle": "2025-07-30T21:26:43.183098Z",
     "shell.execute_reply": "2025-07-30T21:26:43.181019Z"
    },
    "papermill": {
     "duration": 0.058065,
     "end_time": "2025-07-30T21:26:43.185166",
     "exception": false,
     "start_time": "2025-07-30T21:26:43.127101",
     "status": "completed"
    },
    "tags": []
   },
   "outputs": [],
   "source": [
    "# Auto-reload the custom package\n",
    "%load_ext autoreload\n",
    "%autoreload 1\n",
    "%aimport fairness_multiverse"
   ]
  },
  {
   "cell_type": "code",
   "execution_count": 7,
   "id": "01c5c9f3",
   "metadata": {
    "execution": {
     "iopub.execute_input": "2025-07-30T21:26:43.229287Z",
     "iopub.status.busy": "2025-07-30T21:26:43.228653Z",
     "iopub.status.idle": "2025-07-30T21:26:45.213455Z",
     "shell.execute_reply": "2025-07-30T21:26:45.212672Z"
    },
    "papermill": {
     "duration": 2.007568,
     "end_time": "2025-07-30T21:26:45.214881",
     "exception": false,
     "start_time": "2025-07-30T21:26:43.207313",
     "status": "completed"
    },
    "tags": []
   },
   "outputs": [],
   "source": [
    "from fairness_multiverse.universe import UniverseAnalysis\n",
    "\n",
    "universe_analysis = UniverseAnalysis(\n",
    "    run_no = run_no,\n",
    "    universe_id = universe_id,\n",
    "    universe = universe,\n",
    "    output_dir=output_dir,\n",
    ")"
   ]
  },
  {
   "cell_type": "code",
   "execution_count": 8,
   "id": "106241f5",
   "metadata": {
    "execution": {
     "iopub.execute_input": "2025-07-30T21:26:45.239678Z",
     "iopub.status.busy": "2025-07-30T21:26:45.239347Z",
     "iopub.status.idle": "2025-07-30T21:26:45.245363Z",
     "shell.execute_reply": "2025-07-30T21:26:45.244611Z"
    },
    "papermill": {
     "duration": 0.018431,
     "end_time": "2025-07-30T21:26:45.246621",
     "exception": false,
     "start_time": "2025-07-30T21:26:45.228190",
     "status": "completed"
    },
    "tags": []
   },
   "outputs": [
    {
     "name": "stdout",
     "output_type": "stream",
     "text": [
      "Using Seed: 2023\n"
     ]
    }
   ],
   "source": [
    "import numpy as np\n",
    "parsed_seed = int(seed)\n",
    "np.random.seed(parsed_seed)\n",
    "print(f\"Using Seed: {parsed_seed}\")"
   ]
  },
  {
   "cell_type": "markdown",
   "id": "e0ebdc57",
   "metadata": {
    "papermill": {
     "duration": 0.015539,
     "end_time": "2025-07-30T21:26:45.284257",
     "exception": false,
     "start_time": "2025-07-30T21:26:45.268718",
     "status": "completed"
    },
    "tags": []
   },
   "source": [
    "# Loading Data"
   ]
  },
  {
   "cell_type": "markdown",
   "id": "681925a3",
   "metadata": {
    "papermill": {
     "duration": 0.010443,
     "end_time": "2025-07-30T21:26:45.306307",
     "exception": false,
     "start_time": "2025-07-30T21:26:45.295864",
     "status": "completed"
    },
    "tags": []
   },
   "source": [
    "Load siab_train, siab_test, siab_calib and/or \n",
    "load siab_train_features, siab_train_labels"
   ]
  },
  {
   "cell_type": "code",
   "execution_count": 9,
   "id": "f0496b8a",
   "metadata": {
    "execution": {
     "iopub.execute_input": "2025-07-30T21:26:45.327991Z",
     "iopub.status.busy": "2025-07-30T21:26:45.327524Z",
     "iopub.status.idle": "2025-07-30T21:26:57.759510Z",
     "shell.execute_reply": "2025-07-30T21:26:57.758357Z"
    },
    "papermill": {
     "duration": 12.444482,
     "end_time": "2025-07-30T21:26:57.761178",
     "exception": false,
     "start_time": "2025-07-30T21:26:45.316696",
     "status": "completed"
    },
    "tags": []
   },
   "outputs": [
    {
     "name": "stdout",
     "output_type": "stream",
     "text": [
      "Loading SIAB data from cache: data/siab_cached.csv.gz\n"
     ]
    },
    {
     "name": "stdout",
     "output_type": "stream",
     "text": [
      "(643690, 164)\n"
     ]
    }
   ],
   "source": [
    "from pathlib import Path\n",
    "import pandas as pd\n",
    "\n",
    "# File paths\n",
    "raw_file = Path(\"data/raw/siab.csv\")\n",
    "cache_file = Path(\"data/siab_cached.csv.gz\")\n",
    "\n",
    "# Ensure cache directory exists\n",
    "cache_file.parent.mkdir(parents=True, exist_ok=True)\n",
    "\n",
    "# Load with simple caching\n",
    "if cache_file.exists():\n",
    "    print(f\"Loading SIAB data from cache: {cache_file}\")\n",
    "    siab = pd.read_csv(cache_file, compression='gzip')\n",
    "else:\n",
    "    print(f\"Cache not found. Reading raw SIAB data: {raw_file}\")\n",
    "    siab = pd.read_csv(raw_file)\n",
    "    siab.to_csv(cache_file, index=False, compression='gzip')\n",
    "    print(f\"Cached SIAB data to: {cache_file}\")\n",
    "\n",
    "# Now use `siab` DataFrame as needed\n",
    "print(siab.shape)"
   ]
  },
  {
   "cell_type": "code",
   "execution_count": 10,
   "id": "db0ca512-5f53-4dba-abdb-a2888bca41ba",
   "metadata": {
    "execution": {
     "iopub.execute_input": "2025-07-30T21:26:57.824626Z",
     "iopub.status.busy": "2025-07-30T21:26:57.823590Z",
     "iopub.status.idle": "2025-07-30T21:26:57.829963Z",
     "shell.execute_reply": "2025-07-30T21:26:57.829064Z"
    },
    "papermill": {
     "duration": 0.030704,
     "end_time": "2025-07-30T21:26:57.831709",
     "exception": false,
     "start_time": "2025-07-30T21:26:57.801005",
     "status": "completed"
    },
    "tags": []
   },
   "outputs": [],
   "source": [
    "#siab"
   ]
  },
  {
   "cell_type": "code",
   "execution_count": 11,
   "id": "a0edb063",
   "metadata": {
    "execution": {
     "iopub.execute_input": "2025-07-30T21:26:57.874847Z",
     "iopub.status.busy": "2025-07-30T21:26:57.874190Z",
     "iopub.status.idle": "2025-07-30T21:26:57.879542Z",
     "shell.execute_reply": "2025-07-30T21:26:57.878627Z"
    },
    "papermill": {
     "duration": 0.028141,
     "end_time": "2025-07-30T21:26:57.881076",
     "exception": false,
     "start_time": "2025-07-30T21:26:57.852935",
     "status": "completed"
    },
    "tags": []
   },
   "outputs": [],
   "source": [
    "#import pandas as pd\n",
    "#\n",
    "#X_train = pd.read_csv(\"./data/X_train.csv\")\n",
    "#y_train = pd.read_csv(\"./data/y_train.csv\")"
   ]
  },
  {
   "cell_type": "code",
   "execution_count": 12,
   "id": "63d08085",
   "metadata": {
    "execution": {
     "iopub.execute_input": "2025-07-30T21:26:57.924956Z",
     "iopub.status.busy": "2025-07-30T21:26:57.924143Z",
     "iopub.status.idle": "2025-07-30T21:26:57.929199Z",
     "shell.execute_reply": "2025-07-30T21:26:57.928219Z"
    },
    "papermill": {
     "duration": 0.028809,
     "end_time": "2025-07-30T21:26:57.930689",
     "exception": false,
     "start_time": "2025-07-30T21:26:57.901880",
     "status": "completed"
    },
    "tags": []
   },
   "outputs": [],
   "source": [
    "#X_test = pd.read_csv(\"./data/X_test.csv\")\n",
    "#y_true = pd.read_csv(\"./data/y_test.csv\")"
   ]
  },
  {
   "cell_type": "code",
   "execution_count": 13,
   "id": "98a8d0fa-1d3d-4ed8-bb2c-281470e24add",
   "metadata": {
    "execution": {
     "iopub.execute_input": "2025-07-30T21:26:57.980381Z",
     "iopub.status.busy": "2025-07-30T21:26:57.979622Z",
     "iopub.status.idle": "2025-07-30T21:26:57.985425Z",
     "shell.execute_reply": "2025-07-30T21:26:57.984429Z"
    },
    "papermill": {
     "duration": 0.034505,
     "end_time": "2025-07-30T21:26:57.987189",
     "exception": false,
     "start_time": "2025-07-30T21:26:57.952684",
     "status": "completed"
    },
    "tags": []
   },
   "outputs": [],
   "source": [
    "# Calibration data for conformal\n",
    "#X_calib = pd.read_csv(\"./data/X_calib.csv\")\n",
    "#y_calib = pd.read_csv(\"./data/y_calib.csv\")"
   ]
  },
  {
   "cell_type": "markdown",
   "id": "997051c5-15bd-4b69-9786-c3001a3ce484",
   "metadata": {
    "papermill": {
     "duration": 0.021487,
     "end_time": "2025-07-30T21:26:58.029879",
     "exception": false,
     "start_time": "2025-07-30T21:26:58.008392",
     "status": "completed"
    },
    "tags": []
   },
   "source": [
    "# Splitting Data and Setting Training Data Size"
   ]
  },
  {
   "cell_type": "code",
   "execution_count": 14,
   "id": "e993b61f-042d-41a6-8c81-f55681f86335",
   "metadata": {
    "execution": {
     "iopub.execute_input": "2025-07-30T21:26:58.073273Z",
     "iopub.status.busy": "2025-07-30T21:26:58.072761Z",
     "iopub.status.idle": "2025-07-30T21:26:58.086418Z",
     "shell.execute_reply": "2025-07-30T21:26:58.085474Z"
    },
    "papermill": {
     "duration": 0.037306,
     "end_time": "2025-07-30T21:26:58.088188",
     "exception": false,
     "start_time": "2025-07-30T21:26:58.050882",
     "status": "completed"
    },
    "tags": []
   },
   "outputs": [],
   "source": [
    "def sample_by_year_size(df,\n",
    "                        training_year: str,\n",
    "                        training_size: str,\n",
    "                        random_state: int = 42):\n",
    "    # --- parse training_year into a list of int years ---\n",
    "    if \"_\" in training_year:\n",
    "        start_str, end_str = training_year.split(\"_\", 1)\n",
    "        start = int(start_str)\n",
    "        end   = int(end_str) if len(end_str) == 4 else (int(end_str) + (start // 100)*100)\n",
    "        years = list(range(start, end + 1))\n",
    "    else:\n",
    "        years = [int(training_year)]\n",
    "\n",
    "    df = df[df[\"year\"].isin(years)].reset_index(drop=True)\n",
    "\n",
    "    # --- map training_size to total number of samples ---\n",
    "    total_map = {\"25k\": 25_000, \"5k\": 5_000, \"1k\": 1_000}\n",
    "    if training_size not in total_map:\n",
    "        return df  # e.g. \"all\"\n",
    "\n",
    "    total_samples = total_map[training_size]\n",
    "    n_years       = len(years)\n",
    "    base          = total_samples // n_years\n",
    "    remainder     = total_samples % n_years\n",
    "\n",
    "    # --- build a dict: year -> how many to sample ---\n",
    "    # give +1 to the first `remainder` years in ascending order\n",
    "    quotas = {\n",
    "        year: base + (1 if idx < remainder else 0)\n",
    "        for idx, year in enumerate(sorted(years))\n",
    "    }\n",
    "\n",
    "    # --- sample per‐year according to the quota dict ---\n",
    "    sampled = (\n",
    "        df\n",
    "        .groupby(\"year\", group_keys=False)\n",
    "        .apply(lambda grp: grp.sample(\n",
    "            n=min(len(grp), quotas[grp.name]),\n",
    "            random_state=random_state))\n",
    "        .reset_index(drop=True)\n",
    "    )\n",
    "\n",
    "    return sampled"
   ]
  },
  {
   "cell_type": "code",
   "execution_count": 15,
   "id": "c0ccd338-0e02-41f3-a09d-f56f9266e3fb",
   "metadata": {
    "execution": {
     "iopub.execute_input": "2025-07-30T21:26:58.133075Z",
     "iopub.status.busy": "2025-07-30T21:26:58.132352Z",
     "iopub.status.idle": "2025-07-30T21:26:58.137975Z",
     "shell.execute_reply": "2025-07-30T21:26:58.136988Z"
    },
    "papermill": {
     "duration": 0.029659,
     "end_time": "2025-07-30T21:26:58.139732",
     "exception": false,
     "start_time": "2025-07-30T21:26:58.110073",
     "status": "completed"
    },
    "tags": []
   },
   "outputs": [],
   "source": [
    "#universe[\"training_size\"]"
   ]
  },
  {
   "cell_type": "code",
   "execution_count": 16,
   "id": "ca707fd7-8047-4acd-bfa5-66248fbbf8e6",
   "metadata": {
    "execution": {
     "iopub.execute_input": "2025-07-30T21:26:58.185457Z",
     "iopub.status.busy": "2025-07-30T21:26:58.184809Z",
     "iopub.status.idle": "2025-07-30T21:26:58.190194Z",
     "shell.execute_reply": "2025-07-30T21:26:58.189313Z"
    },
    "papermill": {
     "duration": 0.030024,
     "end_time": "2025-07-30T21:26:58.191953",
     "exception": false,
     "start_time": "2025-07-30T21:26:58.161929",
     "status": "completed"
    },
    "tags": []
   },
   "outputs": [],
   "source": [
    "#universe[\"training_year\"]"
   ]
  },
  {
   "cell_type": "code",
   "execution_count": 17,
   "id": "aea9c6ef-6f46-42c8-85eb-5a62025c1508",
   "metadata": {
    "execution": {
     "iopub.execute_input": "2025-07-30T21:26:58.236994Z",
     "iopub.status.busy": "2025-07-30T21:26:58.236212Z",
     "iopub.status.idle": "2025-07-30T21:26:58.559200Z",
     "shell.execute_reply": "2025-07-30T21:26:58.558016Z"
    },
    "papermill": {
     "duration": 0.348245,
     "end_time": "2025-07-30T21:26:58.561115",
     "exception": false,
     "start_time": "2025-07-30T21:26:58.212870",
     "status": "completed"
    },
    "tags": []
   },
   "outputs": [],
   "source": [
    "siab_train = sample_by_year_size(siab,\n",
    "                               training_year=universe[\"training_year\"],\n",
    "                               training_size=universe[\"training_size\"])"
   ]
  },
  {
   "cell_type": "code",
   "execution_count": 18,
   "id": "8d3afb32-789d-442c-8d5d-9f5aa8dd2eed",
   "metadata": {
    "execution": {
     "iopub.execute_input": "2025-07-30T21:26:58.606448Z",
     "iopub.status.busy": "2025-07-30T21:26:58.605612Z",
     "iopub.status.idle": "2025-07-30T21:26:58.611537Z",
     "shell.execute_reply": "2025-07-30T21:26:58.610589Z"
    },
    "papermill": {
     "duration": 0.030756,
     "end_time": "2025-07-30T21:26:58.613346",
     "exception": false,
     "start_time": "2025-07-30T21:26:58.582590",
     "status": "completed"
    },
    "tags": []
   },
   "outputs": [],
   "source": [
    "#siab_train.shape"
   ]
  },
  {
   "cell_type": "code",
   "execution_count": 19,
   "id": "d582db68-1a4c-47fb-84fc-08518dc1975a",
   "metadata": {
    "execution": {
     "iopub.execute_input": "2025-07-30T21:26:58.658978Z",
     "iopub.status.busy": "2025-07-30T21:26:58.658276Z",
     "iopub.status.idle": "2025-07-30T21:26:58.664417Z",
     "shell.execute_reply": "2025-07-30T21:26:58.663131Z"
    },
    "papermill": {
     "duration": 0.030353,
     "end_time": "2025-07-30T21:26:58.666247",
     "exception": false,
     "start_time": "2025-07-30T21:26:58.635894",
     "status": "completed"
    },
    "tags": []
   },
   "outputs": [],
   "source": [
    "#display(siab_train.groupby(\"year\").size())"
   ]
  },
  {
   "cell_type": "code",
   "execution_count": 20,
   "id": "a561edb4-d032-42cb-8256-22eac1111c64",
   "metadata": {
    "execution": {
     "iopub.execute_input": "2025-07-30T21:26:58.712178Z",
     "iopub.status.busy": "2025-07-30T21:26:58.711423Z",
     "iopub.status.idle": "2025-07-30T21:26:58.975708Z",
     "shell.execute_reply": "2025-07-30T21:26:58.974686Z"
    },
    "papermill": {
     "duration": 0.288804,
     "end_time": "2025-07-30T21:26:58.977633",
     "exception": false,
     "start_time": "2025-07-30T21:26:58.688829",
     "status": "completed"
    },
    "tags": []
   },
   "outputs": [],
   "source": [
    "#siab_train = siab_s[siab_s.year < 2015]\n",
    "siab_calib = siab[siab.year == 2015]\n",
    "siab_test = siab[siab.year == 2016]"
   ]
  },
  {
   "cell_type": "code",
   "execution_count": 21,
   "id": "472de16f-c3db-4916-846b-1f0de9cf1746",
   "metadata": {
    "execution": {
     "iopub.execute_input": "2025-07-30T21:26:59.024162Z",
     "iopub.status.busy": "2025-07-30T21:26:59.023554Z",
     "iopub.status.idle": "2025-07-30T21:26:59.030396Z",
     "shell.execute_reply": "2025-07-30T21:26:59.029417Z"
    },
    "papermill": {
     "duration": 0.031688,
     "end_time": "2025-07-30T21:26:59.031914",
     "exception": false,
     "start_time": "2025-07-30T21:26:59.000226",
     "status": "completed"
    },
    "tags": []
   },
   "outputs": [],
   "source": [
    "X_train = siab_train.iloc[:,4:164]\n",
    "y_train = siab_train.iloc[:, [3]]"
   ]
  },
  {
   "cell_type": "code",
   "execution_count": 22,
   "id": "828c96af-f43a-4ed6-ba47-8ac73a47d56c",
   "metadata": {
    "execution": {
     "iopub.execute_input": "2025-07-30T21:26:59.078003Z",
     "iopub.status.busy": "2025-07-30T21:26:59.077085Z",
     "iopub.status.idle": "2025-07-30T21:26:59.129220Z",
     "shell.execute_reply": "2025-07-30T21:26:59.128083Z"
    },
    "papermill": {
     "duration": 0.076919,
     "end_time": "2025-07-30T21:26:59.131147",
     "exception": false,
     "start_time": "2025-07-30T21:26:59.054228",
     "status": "completed"
    },
    "tags": []
   },
   "outputs": [],
   "source": [
    "X_calib = siab_calib.iloc[:,4:164]\n",
    "y_calib = siab_calib.iloc[:, [3]]"
   ]
  },
  {
   "cell_type": "code",
   "execution_count": 23,
   "id": "c34be9c3-6bd6-476e-acd3-845840e303be",
   "metadata": {
    "execution": {
     "iopub.execute_input": "2025-07-30T21:26:59.175571Z",
     "iopub.status.busy": "2025-07-30T21:26:59.174883Z",
     "iopub.status.idle": "2025-07-30T21:26:59.227872Z",
     "shell.execute_reply": "2025-07-30T21:26:59.226797Z"
    },
    "papermill": {
     "duration": 0.076768,
     "end_time": "2025-07-30T21:26:59.229692",
     "exception": false,
     "start_time": "2025-07-30T21:26:59.152924",
     "status": "completed"
    },
    "tags": []
   },
   "outputs": [],
   "source": [
    "X_test = siab_test.iloc[:,4:164]\n",
    "y_true = siab_test.iloc[:, [3]]"
   ]
  },
  {
   "cell_type": "markdown",
   "id": "9901737e-04df-44f0-9100-f5ad144ed040",
   "metadata": {
    "papermill": {
     "duration": 0.021605,
     "end_time": "2025-07-30T21:26:59.273991",
     "exception": false,
     "start_time": "2025-07-30T21:26:59.252386",
     "status": "completed"
    },
    "tags": []
   },
   "source": [
    "# Splitting Data and Setting Training Data Size OLD VERSION"
   ]
  },
  {
   "cell_type": "code",
   "execution_count": 24,
   "id": "acbc8f7d-8fc8-4e86-8c59-5dcb0f58384b",
   "metadata": {
    "execution": {
     "iopub.execute_input": "2025-07-30T21:26:59.318893Z",
     "iopub.status.busy": "2025-07-30T21:26:59.318038Z",
     "iopub.status.idle": "2025-07-30T21:26:59.323794Z",
     "shell.execute_reply": "2025-07-30T21:26:59.322650Z"
    },
    "papermill": {
     "duration": 0.030825,
     "end_time": "2025-07-30T21:26:59.325580",
     "exception": false,
     "start_time": "2025-07-30T21:26:59.294755",
     "status": "completed"
    },
    "tags": []
   },
   "outputs": [],
   "source": [
    "#def sample_by_year(df, training_size, random_state=42):\n",
    "#    if training_size == \"2014\":\n",
    "#        return df[df[\"year\"] == 2014].reset_index(drop=True)\n",
    "#    \n",
    "#    size_map = {\n",
    "#        \"25k\": 5000,\n",
    "#        \"5k\": 1000,\n",
    "#        \"1k\": 200\n",
    "#    }\n",
    "#\n",
    "#    if training_size not in size_map:\n",
    "#        return df.reset_index(drop=True)  # use all data\n",
    "#\n",
    "#    n_per_year = size_map[training_size]\n",
    "#    grouped = df.groupby(\"year\")\n",
    "#    sampled = grouped.apply(lambda x: x.sample(n=min(n_per_year, len(x)), random_state=random_state))\n",
    "#    return sampled.reset_index(drop=True)"
   ]
  },
  {
   "cell_type": "code",
   "execution_count": 25,
   "id": "6d931f52-beaf-43ff-9e78-9d44a448d54e",
   "metadata": {
    "execution": {
     "iopub.execute_input": "2025-07-30T21:26:59.373545Z",
     "iopub.status.busy": "2025-07-30T21:26:59.372606Z",
     "iopub.status.idle": "2025-07-30T21:26:59.378368Z",
     "shell.execute_reply": "2025-07-30T21:26:59.377331Z"
    },
    "papermill": {
     "duration": 0.030198,
     "end_time": "2025-07-30T21:26:59.380203",
     "exception": false,
     "start_time": "2025-07-30T21:26:59.350005",
     "status": "completed"
    },
    "tags": []
   },
   "outputs": [],
   "source": [
    "#siab_s = sample_by_year(siab, universe[\"training_size\"])"
   ]
  },
  {
   "cell_type": "code",
   "execution_count": 26,
   "id": "5db0a40e-a4e2-4920-be85-b12ae061d70d",
   "metadata": {
    "execution": {
     "iopub.execute_input": "2025-07-30T21:26:59.427644Z",
     "iopub.status.busy": "2025-07-30T21:26:59.426991Z",
     "iopub.status.idle": "2025-07-30T21:26:59.432131Z",
     "shell.execute_reply": "2025-07-30T21:26:59.431201Z"
    },
    "papermill": {
     "duration": 0.030099,
     "end_time": "2025-07-30T21:26:59.433701",
     "exception": false,
     "start_time": "2025-07-30T21:26:59.403602",
     "status": "completed"
    },
    "tags": []
   },
   "outputs": [],
   "source": [
    "#display(siab_s.groupby(\"year\").size())"
   ]
  },
  {
   "cell_type": "code",
   "execution_count": 27,
   "id": "e6c733c5",
   "metadata": {
    "execution": {
     "iopub.execute_input": "2025-07-30T21:26:59.480600Z",
     "iopub.status.busy": "2025-07-30T21:26:59.479918Z",
     "iopub.status.idle": "2025-07-30T21:26:59.575331Z",
     "shell.execute_reply": "2025-07-30T21:26:59.574288Z"
    },
    "papermill": {
     "duration": 0.121046,
     "end_time": "2025-07-30T21:26:59.577219",
     "exception": false,
     "start_time": "2025-07-30T21:26:59.456173",
     "status": "completed"
    },
    "tags": []
   },
   "outputs": [],
   "source": [
    "# Auxiliary data needed downstream in the pipeline\n",
    "\n",
    "org_train = X_train.copy()\n",
    "org_test = X_test.copy()\n",
    "org_calib = X_calib.copy()"
   ]
  },
  {
   "cell_type": "code",
   "execution_count": 28,
   "id": "1466abac-c6da-4492-a62f-4240ae3783af",
   "metadata": {
    "execution": {
     "iopub.execute_input": "2025-07-30T21:26:59.623948Z",
     "iopub.status.busy": "2025-07-30T21:26:59.623257Z",
     "iopub.status.idle": "2025-07-30T21:26:59.628987Z",
     "shell.execute_reply": "2025-07-30T21:26:59.628069Z"
    },
    "papermill": {
     "duration": 0.03132,
     "end_time": "2025-07-30T21:26:59.631041",
     "exception": false,
     "start_time": "2025-07-30T21:26:59.599721",
     "status": "completed"
    },
    "tags": []
   },
   "outputs": [],
   "source": [
    "# put in other script?\n",
    "# Group sizes\n",
    "\n",
    "#def calculate_percentages(df, df_name):\n",
    "#    total_entries = len(df)\n",
    "#\n",
    "#    female_pct = (df['frau1'] == 1).mean() * 100\n",
    "#    non_german_pct = ((df['maxdeutsch1'] == 0) & (df['maxdeutsch.Missing.'] == 0)).mean() * 100\n",
    "#    non_german_male_pct = ((df['frau1'] == 0) & (df['maxdeutsch1'] == 0) & (df['maxdeutsch.Missing.'] == 0)).mean() * 100\n",
    "#    non_german_female_pct = ((df['frau1'] == 1) & (df['maxdeutsch1'] == 0) & (df['maxdeutsch.Missing.'] == 0)).mean() * 100\n",
    "#\n",
    "#    print(f\"--- {df_name} ---\")\n",
    "#    print(f\"Female: {female_pct:.2f}%\")\n",
    "#    print(f\"Non-German: {non_german_pct:.2f}%\")\n",
    "#    print(f\"Non-German Male: {non_german_male_pct:.2f}%\")\n",
    "#    print(f\"Non-German Female: {non_german_female_pct:.2f}%\\n\")\n",
    "#\n",
    "## Calculate for each DataFrame\n",
    "#calculate_percentages(siab_calib, \"siab_calib\")\n",
    "#calculate_percentages(siab_test, \"siab_test\")\n",
    "#calculate_percentages(siab_train, \"siab_train\")"
   ]
  },
  {
   "cell_type": "markdown",
   "id": "0a4a1b33",
   "metadata": {
    "papermill": {
     "duration": 0.022892,
     "end_time": "2025-07-30T21:26:59.679509",
     "exception": false,
     "start_time": "2025-07-30T21:26:59.656617",
     "status": "completed"
    },
    "tags": []
   },
   "source": [
    "# Preprocessing Data"
   ]
  },
  {
   "cell_type": "code",
   "execution_count": 29,
   "id": "ca879031",
   "metadata": {
    "execution": {
     "iopub.execute_input": "2025-07-30T21:26:59.724562Z",
     "iopub.status.busy": "2025-07-30T21:26:59.723969Z",
     "iopub.status.idle": "2025-07-30T21:26:59.731835Z",
     "shell.execute_reply": "2025-07-30T21:26:59.730643Z"
    },
    "papermill": {
     "duration": 0.031925,
     "end_time": "2025-07-30T21:26:59.733540",
     "exception": false,
     "start_time": "2025-07-30T21:26:59.701615",
     "status": "completed"
    },
    "tags": []
   },
   "outputs": [],
   "source": [
    "# EXCLUDE PROTECTED FEATURES\n",
    "# ----------------------\n",
    "# \"exclude_features\": \"none\", # \"nationality\", \"sex\", \"nationality-sex\"\n",
    "\n",
    "excluded_features = universe[\"exclude_features\"].split(\"-\") # split, e.g.: \"nationality-sex\" -> [\"nationality\", \"sex\"]\n",
    "excluded_features_dictionary = {\n",
    "    \"nationality\": [\"maxdeutsch1\", \"maxdeutsch.Missing.\"],\n",
    "    \"sex\": [\"frau1\"],\n",
    "    \"age\": [\"age\"],\n",
    "}\n"
   ]
  },
  {
   "cell_type": "code",
   "execution_count": 30,
   "id": "b745ac60",
   "metadata": {
    "execution": {
     "iopub.execute_input": "2025-07-30T21:26:59.781039Z",
     "iopub.status.busy": "2025-07-30T21:26:59.780541Z",
     "iopub.status.idle": "2025-07-30T21:26:59.786262Z",
     "shell.execute_reply": "2025-07-30T21:26:59.785300Z"
    },
    "papermill": {
     "duration": 0.031058,
     "end_time": "2025-07-30T21:26:59.788096",
     "exception": false,
     "start_time": "2025-07-30T21:26:59.757038",
     "status": "completed"
    },
    "tags": []
   },
   "outputs": [],
   "source": [
    "# Code nice names to column names\n",
    "\n",
    "excluded_features_columns = [\n",
    "    excluded_features_dictionary[f] for f in excluded_features if len(f) > 0 and f != \"none\"\n",
    "]"
   ]
  },
  {
   "cell_type": "code",
   "execution_count": 31,
   "id": "f84f73a2",
   "metadata": {
    "execution": {
     "iopub.execute_input": "2025-07-30T21:26:59.834913Z",
     "iopub.status.busy": "2025-07-30T21:26:59.834185Z",
     "iopub.status.idle": "2025-07-30T21:26:59.840944Z",
     "shell.execute_reply": "2025-07-30T21:26:59.840017Z"
    },
    "papermill": {
     "duration": 0.031695,
     "end_time": "2025-07-30T21:26:59.842576",
     "exception": false,
     "start_time": "2025-07-30T21:26:59.810881",
     "status": "completed"
    },
    "tags": []
   },
   "outputs": [],
   "source": [
    "from utils import flatten_once\n",
    "\n",
    "excluded_features_columns = flatten_once(excluded_features_columns)"
   ]
  },
  {
   "cell_type": "code",
   "execution_count": 32,
   "id": "884dea22",
   "metadata": {
    "execution": {
     "iopub.execute_input": "2025-07-30T21:26:59.890531Z",
     "iopub.status.busy": "2025-07-30T21:26:59.889779Z",
     "iopub.status.idle": "2025-07-30T21:26:59.899927Z",
     "shell.execute_reply": "2025-07-30T21:26:59.898936Z"
    },
    "papermill": {
     "duration": 0.036236,
     "end_time": "2025-07-30T21:26:59.901686",
     "exception": false,
     "start_time": "2025-07-30T21:26:59.865450",
     "status": "completed"
    },
    "tags": []
   },
   "outputs": [
    {
     "name": "stdout",
     "output_type": "stream",
     "text": [
      "Dropping features: ['frau1']\n"
     ]
    }
   ],
   "source": [
    "if len(excluded_features_columns) > 0:\n",
    "    print(f\"Dropping features: {excluded_features_columns}\")\n",
    "    X_train.drop(excluded_features_columns, axis=1, inplace=True)"
   ]
  },
  {
   "cell_type": "code",
   "execution_count": 33,
   "id": "95ab8b16",
   "metadata": {
    "execution": {
     "iopub.execute_input": "2025-07-30T21:26:59.950480Z",
     "iopub.status.busy": "2025-07-30T21:26:59.949654Z",
     "iopub.status.idle": "2025-07-30T21:27:00.003391Z",
     "shell.execute_reply": "2025-07-30T21:27:00.002434Z"
    },
    "papermill": {
     "duration": 0.079832,
     "end_time": "2025-07-30T21:27:00.005194",
     "exception": false,
     "start_time": "2025-07-30T21:26:59.925362",
     "status": "completed"
    },
    "tags": []
   },
   "outputs": [
    {
     "name": "stdout",
     "output_type": "stream",
     "text": [
      "Dropping features: ['frau1']\n"
     ]
    }
   ],
   "source": [
    "if len(excluded_features_columns) > 0:\n",
    "    print(f\"Dropping features: {excluded_features_columns}\")\n",
    "    X_test.drop(excluded_features_columns, axis=1, inplace=True)"
   ]
  },
  {
   "cell_type": "code",
   "execution_count": 34,
   "id": "1853aaf5-fb9f-46cb-a2b5-8ea4ae2237e4",
   "metadata": {
    "execution": {
     "iopub.execute_input": "2025-07-30T21:27:00.053655Z",
     "iopub.status.busy": "2025-07-30T21:27:00.052989Z",
     "iopub.status.idle": "2025-07-30T21:27:00.129846Z",
     "shell.execute_reply": "2025-07-30T21:27:00.128748Z"
    },
    "papermill": {
     "duration": 0.103963,
     "end_time": "2025-07-30T21:27:00.131859",
     "exception": false,
     "start_time": "2025-07-30T21:27:00.027896",
     "status": "completed"
    },
    "tags": []
   },
   "outputs": [
    {
     "name": "stdout",
     "output_type": "stream",
     "text": [
      "Dropping features: ['frau1']\n"
     ]
    }
   ],
   "source": [
    "if len(excluded_features_columns) > 0:\n",
    "    print(f\"Dropping features: {excluded_features_columns}\")\n",
    "    X_calib.drop(excluded_features_columns, axis=1, inplace=True)"
   ]
  },
  {
   "cell_type": "code",
   "execution_count": 35,
   "id": "6727d079-03e5-481e-9d38-292a90b7a0a8",
   "metadata": {
    "execution": {
     "iopub.execute_input": "2025-07-30T21:27:00.180871Z",
     "iopub.status.busy": "2025-07-30T21:27:00.180530Z",
     "iopub.status.idle": "2025-07-30T21:27:00.184873Z",
     "shell.execute_reply": "2025-07-30T21:27:00.183913Z"
    },
    "papermill": {
     "duration": 0.030345,
     "end_time": "2025-07-30T21:27:00.186736",
     "exception": false,
     "start_time": "2025-07-30T21:27:00.156391",
     "status": "completed"
    },
    "tags": []
   },
   "outputs": [],
   "source": [
    "# SPLIT & STRATIFY DATA\n",
    "# ----------------------"
   ]
  },
  {
   "cell_type": "code",
   "execution_count": 36,
   "id": "76c4dc6d",
   "metadata": {
    "execution": {
     "iopub.execute_input": "2025-07-30T21:27:00.234276Z",
     "iopub.status.busy": "2025-07-30T21:27:00.233783Z",
     "iopub.status.idle": "2025-07-30T21:27:00.239069Z",
     "shell.execute_reply": "2025-07-30T21:27:00.238197Z"
    },
    "papermill": {
     "duration": 0.030861,
     "end_time": "2025-07-30T21:27:00.240790",
     "exception": false,
     "start_time": "2025-07-30T21:27:00.209929",
     "status": "completed"
    },
    "tags": []
   },
   "outputs": [],
   "source": [
    "# EXCLUDE CERTAIN SUBGROUPS\n",
    "# ----------------------\n",
    "\n",
    "mode = universe.get(\"exclude_subgroups\", \"keep-all\") \n",
    "# Fetches the exclude_subgroups setting from the universe dict.\n",
    "# Defaults to \"keep-all\" if the key is missing."
   ]
  },
  {
   "cell_type": "code",
   "execution_count": 37,
   "id": "21994072",
   "metadata": {
    "execution": {
     "iopub.execute_input": "2025-07-30T21:27:00.288631Z",
     "iopub.status.busy": "2025-07-30T21:27:00.288065Z",
     "iopub.status.idle": "2025-07-30T21:27:00.295850Z",
     "shell.execute_reply": "2025-07-30T21:27:00.294839Z"
    },
    "papermill": {
     "duration": 0.033498,
     "end_time": "2025-07-30T21:27:00.297419",
     "exception": false,
     "start_time": "2025-07-30T21:27:00.263921",
     "status": "completed"
    },
    "tags": []
   },
   "outputs": [],
   "source": [
    "if mode == \"keep-all\":\n",
    "    keep_mask = pd.Series(True, index=org_train.index)\n",
    "\n",
    "# org_train contains the original feature columns from features_org (in Simson)\n",
    "# features_org contains unprocessed features, for me X_train at beginning ???\n",
    "# For keep-all, creates a boolean Series (keep_mask) of all True, so no rows are removed.\n",
    "\n",
    "elif mode == \"drop-non-german\":\n",
    "    keep_mask = org_train[\"maxdeutsch1\"] == 1 # ??? what about missing values?\n",
    "\n",
    "else:\n",
    "    raise ValueError(f\"Unsupported mode for exclude_subgroups: {mode}\")\n"
   ]
  },
  {
   "cell_type": "code",
   "execution_count": 38,
   "id": "71651440",
   "metadata": {
    "execution": {
     "iopub.execute_input": "2025-07-30T21:27:00.345349Z",
     "iopub.status.busy": "2025-07-30T21:27:00.344496Z",
     "iopub.status.idle": "2025-07-30T21:27:00.351197Z",
     "shell.execute_reply": "2025-07-30T21:27:00.350279Z"
    },
    "papermill": {
     "duration": 0.032539,
     "end_time": "2025-07-30T21:27:00.352928",
     "exception": false,
     "start_time": "2025-07-30T21:27:00.320389",
     "status": "completed"
    },
    "tags": []
   },
   "outputs": [],
   "source": [
    "n_drop = (~keep_mask).sum() # Calculates how many rows are set to be dropped\n",
    "if n_drop > 0:\n",
    "    pct = n_drop / len(keep_mask) * 100\n",
    "    print(f\"Dropping {n_drop} rows ({pct:.2f}%) where mode='{mode}'\")"
   ]
  },
  {
   "cell_type": "code",
   "execution_count": 39,
   "id": "5fb8eee5",
   "metadata": {
    "execution": {
     "iopub.execute_input": "2025-07-30T21:27:00.397922Z",
     "iopub.status.busy": "2025-07-30T21:27:00.397294Z",
     "iopub.status.idle": "2025-07-30T21:27:00.404421Z",
     "shell.execute_reply": "2025-07-30T21:27:00.403167Z"
    },
    "papermill": {
     "duration": 0.029016,
     "end_time": "2025-07-30T21:27:00.406060",
     "exception": false,
     "start_time": "2025-07-30T21:27:00.377044",
     "status": "completed"
    },
    "tags": []
   },
   "outputs": [],
   "source": [
    "X_train = X_train[keep_mask]"
   ]
  },
  {
   "cell_type": "code",
   "execution_count": 40,
   "id": "b202bb3a",
   "metadata": {
    "execution": {
     "iopub.execute_input": "2025-07-30T21:27:00.433468Z",
     "iopub.status.busy": "2025-07-30T21:27:00.432953Z",
     "iopub.status.idle": "2025-07-30T21:27:00.438451Z",
     "shell.execute_reply": "2025-07-30T21:27:00.437642Z"
    },
    "papermill": {
     "duration": 0.021196,
     "end_time": "2025-07-30T21:27:00.440148",
     "exception": false,
     "start_time": "2025-07-30T21:27:00.418952",
     "status": "completed"
    },
    "tags": []
   },
   "outputs": [],
   "source": [
    "y_train = y_train[keep_mask]"
   ]
  },
  {
   "cell_type": "markdown",
   "id": "493e2ac3",
   "metadata": {
    "papermill": {
     "duration": 0.023269,
     "end_time": "2025-07-30T21:27:00.482788",
     "exception": false,
     "start_time": "2025-07-30T21:27:00.459519",
     "status": "completed"
    },
    "tags": []
   },
   "source": [
    "# Model Training"
   ]
  },
  {
   "cell_type": "code",
   "execution_count": 41,
   "id": "679e1268",
   "metadata": {
    "execution": {
     "iopub.execute_input": "2025-07-30T21:27:00.532551Z",
     "iopub.status.busy": "2025-07-30T21:27:00.532047Z",
     "iopub.status.idle": "2025-07-30T21:27:00.634709Z",
     "shell.execute_reply": "2025-07-30T21:27:00.633992Z"
    },
    "papermill": {
     "duration": 0.130176,
     "end_time": "2025-07-30T21:27:00.636244",
     "exception": false,
     "start_time": "2025-07-30T21:27:00.506068",
     "status": "completed"
    },
    "tags": []
   },
   "outputs": [],
   "source": [
    "from sklearn.linear_model import LogisticRegression\n",
    "from sklearn.ensemble import GradientBoostingClassifier, RandomForestClassifier\n",
    "\n",
    "if (universe[\"model\"] == \"logreg\"):\n",
    "    model = LogisticRegression() #penalty=\"none\") #, solver=\"newton-cg\", max_iter=1) # include random_state=19 ?\n",
    "elif (universe[\"model\"] == \"penalized_logreg\"):\n",
    "    model = LogisticRegression(penalty=\"l2\", C=1.0) #, solver=\"newton-cg\", max_iter=1)\n",
    "elif (universe[\"model\"] == \"rf\"):\n",
    "    model = RandomForestClassifier(n_estimators=100, n_jobs=-1)\n",
    "elif (universe[\"model\"] == \"gbm\"):\n",
    "    model = GradientBoostingClassifier()\n",
    "elif (universe[\"model\"] == \"elasticnet\"):\n",
    "    model = LogisticRegression(penalty = 'elasticnet', solver = 'saga', l1_ratio = 0.5, max_iter=5000) # which solver to use?\n",
    "else:\n",
    "    raise \"Unsupported universe.model\""
   ]
  },
  {
   "cell_type": "code",
   "execution_count": 42,
   "id": "0cc8f744",
   "metadata": {
    "execution": {
     "iopub.execute_input": "2025-07-30T21:27:00.661370Z",
     "iopub.status.busy": "2025-07-30T21:27:00.660867Z",
     "iopub.status.idle": "2025-07-30T21:27:00.668244Z",
     "shell.execute_reply": "2025-07-30T21:27:00.667052Z"
    },
    "papermill": {
     "duration": 0.02178,
     "end_time": "2025-07-30T21:27:00.670066",
     "exception": false,
     "start_time": "2025-07-30T21:27:00.648286",
     "status": "completed"
    },
    "tags": []
   },
   "outputs": [],
   "source": [
    "import numpy as np\n",
    "from sklearn.pipeline import Pipeline\n",
    "from sklearn.preprocessing import StandardScaler\n",
    "\n",
    "model = Pipeline([\n",
    "    #(\"continuous_processor\", continuous_processor),\n",
    "    #(\"categorical_preprocessor\", categorical_preprocessor),\n",
    "    (\"scale\", StandardScaler() if universe[\"scale\"] == \"scale\" else None), \n",
    "    (\"model\", model),\n",
    "])"
   ]
  },
  {
   "cell_type": "code",
   "execution_count": 43,
   "id": "9442c04d",
   "metadata": {
    "execution": {
     "iopub.execute_input": "2025-07-30T21:27:00.722047Z",
     "iopub.status.busy": "2025-07-30T21:27:00.720875Z",
     "iopub.status.idle": "2025-07-30T21:27:02.894271Z",
     "shell.execute_reply": "2025-07-30T21:27:02.893537Z"
    },
    "papermill": {
     "duration": 2.2013,
     "end_time": "2025-07-30T21:27:02.896442",
     "exception": false,
     "start_time": "2025-07-30T21:27:00.695142",
     "status": "completed"
    },
    "tags": []
   },
   "outputs": [
    {
     "data": {
      "text/html": [
       "<style>#sk-container-id-1 {color: black;background-color: white;}#sk-container-id-1 pre{padding: 0;}#sk-container-id-1 div.sk-toggleable {background-color: white;}#sk-container-id-1 label.sk-toggleable__label {cursor: pointer;display: block;width: 100%;margin-bottom: 0;padding: 0.3em;box-sizing: border-box;text-align: center;}#sk-container-id-1 label.sk-toggleable__label-arrow:before {content: \"▸\";float: left;margin-right: 0.25em;color: #696969;}#sk-container-id-1 label.sk-toggleable__label-arrow:hover:before {color: black;}#sk-container-id-1 div.sk-estimator:hover label.sk-toggleable__label-arrow:before {color: black;}#sk-container-id-1 div.sk-toggleable__content {max-height: 0;max-width: 0;overflow: hidden;text-align: left;background-color: #f0f8ff;}#sk-container-id-1 div.sk-toggleable__content pre {margin: 0.2em;color: black;border-radius: 0.25em;background-color: #f0f8ff;}#sk-container-id-1 input.sk-toggleable__control:checked~div.sk-toggleable__content {max-height: 200px;max-width: 100%;overflow: auto;}#sk-container-id-1 input.sk-toggleable__control:checked~label.sk-toggleable__label-arrow:before {content: \"▾\";}#sk-container-id-1 div.sk-estimator input.sk-toggleable__control:checked~label.sk-toggleable__label {background-color: #d4ebff;}#sk-container-id-1 div.sk-label input.sk-toggleable__control:checked~label.sk-toggleable__label {background-color: #d4ebff;}#sk-container-id-1 input.sk-hidden--visually {border: 0;clip: rect(1px 1px 1px 1px);clip: rect(1px, 1px, 1px, 1px);height: 1px;margin: -1px;overflow: hidden;padding: 0;position: absolute;width: 1px;}#sk-container-id-1 div.sk-estimator {font-family: monospace;background-color: #f0f8ff;border: 1px dotted black;border-radius: 0.25em;box-sizing: border-box;margin-bottom: 0.5em;}#sk-container-id-1 div.sk-estimator:hover {background-color: #d4ebff;}#sk-container-id-1 div.sk-parallel-item::after {content: \"\";width: 100%;border-bottom: 1px solid gray;flex-grow: 1;}#sk-container-id-1 div.sk-label:hover label.sk-toggleable__label {background-color: #d4ebff;}#sk-container-id-1 div.sk-serial::before {content: \"\";position: absolute;border-left: 1px solid gray;box-sizing: border-box;top: 0;bottom: 0;left: 50%;z-index: 0;}#sk-container-id-1 div.sk-serial {display: flex;flex-direction: column;align-items: center;background-color: white;padding-right: 0.2em;padding-left: 0.2em;position: relative;}#sk-container-id-1 div.sk-item {position: relative;z-index: 1;}#sk-container-id-1 div.sk-parallel {display: flex;align-items: stretch;justify-content: center;background-color: white;position: relative;}#sk-container-id-1 div.sk-item::before, #sk-container-id-1 div.sk-parallel-item::before {content: \"\";position: absolute;border-left: 1px solid gray;box-sizing: border-box;top: 0;bottom: 0;left: 50%;z-index: -1;}#sk-container-id-1 div.sk-parallel-item {display: flex;flex-direction: column;z-index: 1;position: relative;background-color: white;}#sk-container-id-1 div.sk-parallel-item:first-child::after {align-self: flex-end;width: 50%;}#sk-container-id-1 div.sk-parallel-item:last-child::after {align-self: flex-start;width: 50%;}#sk-container-id-1 div.sk-parallel-item:only-child::after {width: 0;}#sk-container-id-1 div.sk-dashed-wrapped {border: 1px dashed gray;margin: 0 0.4em 0.5em 0.4em;box-sizing: border-box;padding-bottom: 0.4em;background-color: white;}#sk-container-id-1 div.sk-label label {font-family: monospace;font-weight: bold;display: inline-block;line-height: 1.2em;}#sk-container-id-1 div.sk-label-container {text-align: center;}#sk-container-id-1 div.sk-container {/* jupyter's `normalize.less` sets `[hidden] { display: none; }` but bootstrap.min.css set `[hidden] { display: none !important; }` so we also need the `!important` here to be able to override the default hidden behavior on the sphinx rendered scikit-learn.org. See: https://github.com/scikit-learn/scikit-learn/issues/21755 */display: inline-block !important;position: relative;}#sk-container-id-1 div.sk-text-repr-fallback {display: none;}</style><div id=\"sk-container-id-1\" class=\"sk-top-container\"><div class=\"sk-text-repr-fallback\"><pre>Pipeline(steps=[(&#x27;scale&#x27;, StandardScaler()),\n",
       "                (&#x27;model&#x27;,\n",
       "                 LogisticRegression(l1_ratio=0.5, max_iter=5000,\n",
       "                                    penalty=&#x27;elasticnet&#x27;, solver=&#x27;saga&#x27;))])</pre><b>In a Jupyter environment, please rerun this cell to show the HTML representation or trust the notebook. <br />On GitHub, the HTML representation is unable to render, please try loading this page with nbviewer.org.</b></div><div class=\"sk-container\" hidden><div class=\"sk-item sk-dashed-wrapped\"><div class=\"sk-label-container\"><div class=\"sk-label sk-toggleable\"><input class=\"sk-toggleable__control sk-hidden--visually\" id=\"sk-estimator-id-1\" type=\"checkbox\" ><label for=\"sk-estimator-id-1\" class=\"sk-toggleable__label sk-toggleable__label-arrow\">Pipeline</label><div class=\"sk-toggleable__content\"><pre>Pipeline(steps=[(&#x27;scale&#x27;, StandardScaler()),\n",
       "                (&#x27;model&#x27;,\n",
       "                 LogisticRegression(l1_ratio=0.5, max_iter=5000,\n",
       "                                    penalty=&#x27;elasticnet&#x27;, solver=&#x27;saga&#x27;))])</pre></div></div></div><div class=\"sk-serial\"><div class=\"sk-item\"><div class=\"sk-estimator sk-toggleable\"><input class=\"sk-toggleable__control sk-hidden--visually\" id=\"sk-estimator-id-2\" type=\"checkbox\" ><label for=\"sk-estimator-id-2\" class=\"sk-toggleable__label sk-toggleable__label-arrow\">StandardScaler</label><div class=\"sk-toggleable__content\"><pre>StandardScaler()</pre></div></div></div><div class=\"sk-item\"><div class=\"sk-estimator sk-toggleable\"><input class=\"sk-toggleable__control sk-hidden--visually\" id=\"sk-estimator-id-3\" type=\"checkbox\" ><label for=\"sk-estimator-id-3\" class=\"sk-toggleable__label sk-toggleable__label-arrow\">LogisticRegression</label><div class=\"sk-toggleable__content\"><pre>LogisticRegression(l1_ratio=0.5, max_iter=5000, penalty=&#x27;elasticnet&#x27;,\n",
       "                   solver=&#x27;saga&#x27;)</pre></div></div></div></div></div></div></div>"
      ],
      "text/plain": [
       "Pipeline(steps=[('scale', StandardScaler()),\n",
       "                ('model',\n",
       "                 LogisticRegression(l1_ratio=0.5, max_iter=5000,\n",
       "                                    penalty='elasticnet', solver='saga'))])"
      ]
     },
     "execution_count": 43,
     "metadata": {},
     "output_type": "execute_result"
    }
   ],
   "source": [
    "model.fit(X_train, y_train.values.ravel())"
   ]
  },
  {
   "cell_type": "code",
   "execution_count": 44,
   "id": "af59f8c0",
   "metadata": {
    "execution": {
     "iopub.execute_input": "2025-07-30T21:27:02.968412Z",
     "iopub.status.busy": "2025-07-30T21:27:02.967774Z",
     "iopub.status.idle": "2025-07-30T21:27:02.974235Z",
     "shell.execute_reply": "2025-07-30T21:27:02.972893Z"
    },
    "papermill": {
     "duration": 0.045892,
     "end_time": "2025-07-30T21:27:02.976635",
     "exception": false,
     "start_time": "2025-07-30T21:27:02.930743",
     "status": "completed"
    },
    "tags": []
   },
   "outputs": [],
   "source": [
    "from fairness_multiverse.universe import predict_w_threshold"
   ]
  },
  {
   "cell_type": "code",
   "execution_count": 45,
   "id": "a7cf2e16",
   "metadata": {
    "execution": {
     "iopub.execute_input": "2025-07-30T21:27:03.049976Z",
     "iopub.status.busy": "2025-07-30T21:27:03.049276Z",
     "iopub.status.idle": "2025-07-30T21:27:03.242597Z",
     "shell.execute_reply": "2025-07-30T21:27:03.241903Z"
    },
    "papermill": {
     "duration": 0.231731,
     "end_time": "2025-07-30T21:27:03.243920",
     "exception": false,
     "start_time": "2025-07-30T21:27:03.012189",
     "status": "completed"
    },
    "tags": []
   },
   "outputs": [
    {
     "data": {
      "text/plain": [
       "0.8203990636495374"
      ]
     },
     "execution_count": 45,
     "metadata": {},
     "output_type": "execute_result"
    }
   ],
   "source": [
    "probs_test = model.predict_proba(X_test)\n",
    "\n",
    "'''\n",
    "Below code returns a boolean array (or binary 0/1 array depending on how it’s used) where each element \n",
    "is True if the probability of class 1 is greater than or equal to the threshold, and False otherwise.\n",
    "'''\n",
    "y_pred_default = predict_w_threshold(probs_test, 0.5)\n",
    "\n",
    "from sklearn.metrics import accuracy_score\n",
    "\n",
    "# Naive prediction\n",
    "accuracy_score(y_true = y_true, y_pred = y_pred_default)"
   ]
  },
  {
   "cell_type": "code",
   "execution_count": 46,
   "id": "081964c3",
   "metadata": {
    "execution": {
     "iopub.execute_input": "2025-07-30T21:27:03.270392Z",
     "iopub.status.busy": "2025-07-30T21:27:03.269893Z",
     "iopub.status.idle": "2025-07-30T21:27:03.449755Z",
     "shell.execute_reply": "2025-07-30T21:27:03.448512Z"
    },
    "papermill": {
     "duration": 0.195108,
     "end_time": "2025-07-30T21:27:03.451751",
     "exception": false,
     "start_time": "2025-07-30T21:27:03.256643",
     "status": "completed"
    },
    "tags": []
   },
   "outputs": [
    {
     "data": {
      "text/plain": [
       "array([0, 0, 0, ..., 0, 0, 0])"
      ]
     },
     "execution_count": 46,
     "metadata": {},
     "output_type": "execute_result"
    }
   ],
   "source": [
    "model.predict(X_test)"
   ]
  },
  {
   "cell_type": "markdown",
   "id": "56c9705b",
   "metadata": {
    "papermill": {
     "duration": 0.015815,
     "end_time": "2025-07-30T21:27:03.493462",
     "exception": false,
     "start_time": "2025-07-30T21:27:03.477647",
     "status": "completed"
    },
    "tags": []
   },
   "source": [
    "# Conformal Prediction"
   ]
  },
  {
   "cell_type": "code",
   "execution_count": 47,
   "id": "160ec6ff",
   "metadata": {
    "execution": {
     "iopub.execute_input": "2025-07-30T21:27:03.537876Z",
     "iopub.status.busy": "2025-07-30T21:27:03.537489Z",
     "iopub.status.idle": "2025-07-30T21:27:03.542697Z",
     "shell.execute_reply": "2025-07-30T21:27:03.541584Z"
    },
    "papermill": {
     "duration": 0.025642,
     "end_time": "2025-07-30T21:27:03.544186",
     "exception": false,
     "start_time": "2025-07-30T21:27:03.518544",
     "status": "completed"
    },
    "tags": []
   },
   "outputs": [],
   "source": [
    "# Miscoverage level for conformal prediction (10% allowed error rate => 90% target coverage)\n",
    "alpha = 0.1"
   ]
  },
  {
   "cell_type": "code",
   "execution_count": 48,
   "id": "eadf4555-3dd3-440e-8e35-f82a4ad9f855",
   "metadata": {
    "execution": {
     "iopub.execute_input": "2025-07-30T21:27:03.570104Z",
     "iopub.status.busy": "2025-07-30T21:27:03.569648Z",
     "iopub.status.idle": "2025-07-30T21:27:03.742017Z",
     "shell.execute_reply": "2025-07-30T21:27:03.740907Z"
    },
    "papermill": {
     "duration": 0.187576,
     "end_time": "2025-07-30T21:27:03.744479",
     "exception": false,
     "start_time": "2025-07-30T21:27:03.556903",
     "status": "completed"
    },
    "tags": []
   },
   "outputs": [],
   "source": [
    "probs_calib = model.predict_proba(X_calib)"
   ]
  },
  {
   "cell_type": "code",
   "execution_count": 49,
   "id": "2ed93547-6d5d-4983-9b36-1ecb300da49a",
   "metadata": {
    "execution": {
     "iopub.execute_input": "2025-07-30T21:27:03.795586Z",
     "iopub.status.busy": "2025-07-30T21:27:03.794530Z",
     "iopub.status.idle": "2025-07-30T21:27:03.800884Z",
     "shell.execute_reply": "2025-07-30T21:27:03.799764Z"
    },
    "papermill": {
     "duration": 0.0316,
     "end_time": "2025-07-30T21:27:03.802539",
     "exception": false,
     "start_time": "2025-07-30T21:27:03.770939",
     "status": "completed"
    },
    "tags": []
   },
   "outputs": [],
   "source": [
    "y_calib = y_calib.values.ravel().astype(int)"
   ]
  },
  {
   "cell_type": "code",
   "execution_count": 50,
   "id": "65d1320d-f588-4b38-9072-62af1ae97f7d",
   "metadata": {
    "execution": {
     "iopub.execute_input": "2025-07-30T21:27:03.855994Z",
     "iopub.status.busy": "2025-07-30T21:27:03.855586Z",
     "iopub.status.idle": "2025-07-30T21:27:03.865488Z",
     "shell.execute_reply": "2025-07-30T21:27:03.864227Z"
    },
    "papermill": {
     "duration": 0.036802,
     "end_time": "2025-07-30T21:27:03.867111",
     "exception": false,
     "start_time": "2025-07-30T21:27:03.830309",
     "status": "completed"
    },
    "tags": []
   },
   "outputs": [],
   "source": [
    "from fairness_multiverse.conformal import compute_nc_scores\n",
    "\n",
    "# Compute nonconformity scores on calibration set (1 - probability of true class)\n",
    "nc_scores = compute_nc_scores(probs_calib, y_calib)"
   ]
  },
  {
   "cell_type": "code",
   "execution_count": 51,
   "id": "df3b8ca3-53b7-43d5-9667-7c85da7aeda2",
   "metadata": {
    "execution": {
     "iopub.execute_input": "2025-07-30T21:27:03.913928Z",
     "iopub.status.busy": "2025-07-30T21:27:03.913446Z",
     "iopub.status.idle": "2025-07-30T21:27:03.918836Z",
     "shell.execute_reply": "2025-07-30T21:27:03.917999Z"
    },
    "papermill": {
     "duration": 0.030641,
     "end_time": "2025-07-30T21:27:03.920369",
     "exception": false,
     "start_time": "2025-07-30T21:27:03.889728",
     "status": "completed"
    },
    "tags": []
   },
   "outputs": [],
   "source": [
    "from fairness_multiverse.conformal import find_threshold\n",
    "\n",
    "# Find conformal threshold q_hat for the given alpha (split conformal method)\n",
    "q_hat = find_threshold(nc_scores, alpha)"
   ]
  },
  {
   "cell_type": "code",
   "execution_count": 52,
   "id": "4d29e6c1-0ef6-4aa4-b8fe-4fe79b0d033a",
   "metadata": {
    "execution": {
     "iopub.execute_input": "2025-07-30T21:27:03.969623Z",
     "iopub.status.busy": "2025-07-30T21:27:03.969205Z",
     "iopub.status.idle": "2025-07-30T21:27:03.974300Z",
     "shell.execute_reply": "2025-07-30T21:27:03.973621Z"
    },
    "papermill": {
     "duration": 0.030124,
     "end_time": "2025-07-30T21:27:03.975791",
     "exception": false,
     "start_time": "2025-07-30T21:27:03.945667",
     "status": "completed"
    },
    "tags": []
   },
   "outputs": [
    {
     "data": {
      "text/plain": [
       "0.7876254686588566"
      ]
     },
     "execution_count": 52,
     "metadata": {},
     "output_type": "execute_result"
    }
   ],
   "source": [
    "q_hat"
   ]
  },
  {
   "cell_type": "code",
   "execution_count": 53,
   "id": "92460794-cdac-4be2-ba28-f28c0515a6fb",
   "metadata": {
    "execution": {
     "iopub.execute_input": "2025-07-30T21:27:04.017750Z",
     "iopub.status.busy": "2025-07-30T21:27:04.017345Z",
     "iopub.status.idle": "2025-07-30T21:27:04.798946Z",
     "shell.execute_reply": "2025-07-30T21:27:04.798148Z"
    },
    "papermill": {
     "duration": 0.799475,
     "end_time": "2025-07-30T21:27:04.800450",
     "exception": false,
     "start_time": "2025-07-30T21:27:04.000975",
     "status": "completed"
    },
    "tags": []
   },
   "outputs": [],
   "source": [
    "from fairness_multiverse.conformal import predict_conformal_sets\n",
    "\n",
    "# Generate prediction sets for each test example\n",
    "pred_sets = predict_conformal_sets(model, X_test, q_hat)"
   ]
  },
  {
   "cell_type": "code",
   "execution_count": 54,
   "id": "d90c9a65-e6db-4f5d-80cd-e68fb7e46829",
   "metadata": {
    "execution": {
     "iopub.execute_input": "2025-07-30T21:27:04.831863Z",
     "iopub.status.busy": "2025-07-30T21:27:04.831321Z",
     "iopub.status.idle": "2025-07-30T21:27:04.838226Z",
     "shell.execute_reply": "2025-07-30T21:27:04.837420Z"
    },
    "papermill": {
     "duration": 0.023301,
     "end_time": "2025-07-30T21:27:04.839906",
     "exception": false,
     "start_time": "2025-07-30T21:27:04.816605",
     "status": "completed"
    },
    "tags": []
   },
   "outputs": [],
   "source": [
    "y_true = y_true.squeeze()"
   ]
  },
  {
   "cell_type": "code",
   "execution_count": 55,
   "id": "3a58a54a-1e68-46b9-927a-df01f18aebc8",
   "metadata": {
    "execution": {
     "iopub.execute_input": "2025-07-30T21:27:04.888541Z",
     "iopub.status.busy": "2025-07-30T21:27:04.887755Z",
     "iopub.status.idle": "2025-07-30T21:27:05.747606Z",
     "shell.execute_reply": "2025-07-30T21:27:05.746411Z"
    },
    "papermill": {
     "duration": 0.89511,
     "end_time": "2025-07-30T21:27:05.749698",
     "exception": false,
     "start_time": "2025-07-30T21:27:04.854588",
     "status": "completed"
    },
    "tags": []
   },
   "outputs": [],
   "source": [
    "from fairness_multiverse.conformal import evaluate_sets\n",
    "\n",
    "# Evaluate coverage and average set size on test data\n",
    "metrics = evaluate_sets(pred_sets, y_true)"
   ]
  },
  {
   "cell_type": "markdown",
   "id": "2b569c12-9aaa-4c88-98c9-bbcd0cf3ebb8",
   "metadata": {
    "papermill": {
     "duration": 0.036527,
     "end_time": "2025-07-30T21:27:05.812085",
     "exception": false,
     "start_time": "2025-07-30T21:27:05.775558",
     "status": "completed"
    },
    "tags": []
   },
   "source": [
    "# CP Metrics"
   ]
  },
  {
   "cell_type": "code",
   "execution_count": 56,
   "id": "5ce0a5cb-201f-45a0-ade5-94c7f0bd6095",
   "metadata": {
    "execution": {
     "iopub.execute_input": "2025-07-30T21:27:05.853221Z",
     "iopub.status.busy": "2025-07-30T21:27:05.852005Z",
     "iopub.status.idle": "2025-07-30T21:27:05.860425Z",
     "shell.execute_reply": "2025-07-30T21:27:05.859139Z"
    },
    "papermill": {
     "duration": 0.026326,
     "end_time": "2025-07-30T21:27:05.862312",
     "exception": false,
     "start_time": "2025-07-30T21:27:05.835986",
     "status": "completed"
    },
    "tags": []
   },
   "outputs": [
    {
     "data": {
      "text/plain": [
       "{'coverage': 0.9066770705606956, 'avg_size': 1.229428157396054}"
      ]
     },
     "execution_count": 56,
     "metadata": {},
     "output_type": "execute_result"
    }
   ],
   "source": [
    "metrics"
   ]
  },
  {
   "cell_type": "code",
   "execution_count": 57,
   "id": "9b9a838d-31c9-430b-ae14-12baee460d17",
   "metadata": {
    "execution": {
     "iopub.execute_input": "2025-07-30T21:27:05.919974Z",
     "iopub.status.busy": "2025-07-30T21:27:05.919252Z",
     "iopub.status.idle": "2025-07-30T21:27:05.926809Z",
     "shell.execute_reply": "2025-07-30T21:27:05.925772Z"
    },
    "papermill": {
     "duration": 0.038504,
     "end_time": "2025-07-30T21:27:05.928714",
     "exception": false,
     "start_time": "2025-07-30T21:27:05.890210",
     "status": "completed"
    },
    "tags": []
   },
   "outputs": [],
   "source": [
    "example_universe = universe.copy()\n",
    "universe_training_year = example_universe.get(\"training_year\")\n",
    "universe_training_size = example_universe.get(\"training_size\")\n",
    "universe_scale = example_universe.get(\"scale\")\n",
    "universe_model = example_universe.get(\"model\")\n",
    "universe_exclude_features = example_universe.get(\"exclude_features\")\n",
    "universe_exclude_subgroups = example_universe.get(\"exclude_subgroups\")"
   ]
  },
  {
   "cell_type": "code",
   "execution_count": 58,
   "id": "f4b6a8ac-9dc0-4245-8a91-5b3b5999c4f9",
   "metadata": {
    "execution": {
     "iopub.execute_input": "2025-07-30T21:27:05.975872Z",
     "iopub.status.busy": "2025-07-30T21:27:05.975233Z",
     "iopub.status.idle": "2025-07-30T21:27:05.980915Z",
     "shell.execute_reply": "2025-07-30T21:27:05.980135Z"
    },
    "papermill": {
     "duration": 0.025513,
     "end_time": "2025-07-30T21:27:05.982294",
     "exception": false,
     "start_time": "2025-07-30T21:27:05.956781",
     "status": "completed"
    },
    "tags": []
   },
   "outputs": [],
   "source": [
    "cp_metrics_dict = {\n",
    "    \"universe_id\": [universe_id],\n",
    "    \"universe_training_year\": [universe_training_year],\n",
    "    \"universe_training_size\": [universe_training_size],\n",
    "    \"universe_scale\": [universe_scale],\n",
    "    \"universe_model\": [universe_model],\n",
    "    \"universe_exclude_features\": [universe_exclude_features],\n",
    "    \"universe_exclude_subgroups\": [universe_exclude_subgroups],\n",
    "    \"q_hat\": [q_hat],\n",
    "    \"coverage\": [metrics[\"coverage\"]],\n",
    "    \"avg_size\": [metrics[\"avg_size\"]],\n",
    "}"
   ]
  },
  {
   "cell_type": "code",
   "execution_count": 59,
   "id": "908acbb1-0371-4915-85ca-3fa520d2efe2",
   "metadata": {
    "execution": {
     "iopub.execute_input": "2025-07-30T21:27:06.015169Z",
     "iopub.status.busy": "2025-07-30T21:27:06.014554Z",
     "iopub.status.idle": "2025-07-30T21:27:06.024095Z",
     "shell.execute_reply": "2025-07-30T21:27:06.023064Z"
    },
    "papermill": {
     "duration": 0.02835,
     "end_time": "2025-07-30T21:27:06.025710",
     "exception": false,
     "start_time": "2025-07-30T21:27:05.997360",
     "status": "completed"
    },
    "tags": []
   },
   "outputs": [
    {
     "data": {
      "text/plain": [
       "{'universe_id': ['bb6b82ee7c16902389cf5c84b4d59529'],\n",
       " 'universe_training_year': ['2014'],\n",
       " 'universe_training_size': ['1k'],\n",
       " 'universe_scale': ['scale'],\n",
       " 'universe_model': ['elasticnet'],\n",
       " 'universe_exclude_features': ['sex'],\n",
       " 'universe_exclude_subgroups': ['keep-all'],\n",
       " 'q_hat': [0.7876254686588566],\n",
       " 'coverage': [0.9066770705606956],\n",
       " 'avg_size': [1.229428157396054]}"
      ]
     },
     "execution_count": 59,
     "metadata": {},
     "output_type": "execute_result"
    }
   ],
   "source": [
    "cp_metrics_dict"
   ]
  },
  {
   "cell_type": "code",
   "execution_count": 60,
   "id": "33007efc-14e9-4ec6-97ac-56a455c82265",
   "metadata": {
    "execution": {
     "iopub.execute_input": "2025-07-30T21:27:06.056071Z",
     "iopub.status.busy": "2025-07-30T21:27:06.055328Z",
     "iopub.status.idle": "2025-07-30T21:27:06.061031Z",
     "shell.execute_reply": "2025-07-30T21:27:06.060254Z"
    },
    "papermill": {
     "duration": 0.022829,
     "end_time": "2025-07-30T21:27:06.062414",
     "exception": false,
     "start_time": "2025-07-30T21:27:06.039585",
     "status": "completed"
    },
    "tags": []
   },
   "outputs": [],
   "source": [
    "cp_metrics_df = pd.DataFrame(cp_metrics_dict)"
   ]
  },
  {
   "cell_type": "code",
   "execution_count": 61,
   "id": "db12611b-57b2-4910-b9d0-355adfd6e7bf",
   "metadata": {
    "execution": {
     "iopub.execute_input": "2025-07-30T21:27:06.090264Z",
     "iopub.status.busy": "2025-07-30T21:27:06.089681Z",
     "iopub.status.idle": "2025-07-30T21:27:06.103232Z",
     "shell.execute_reply": "2025-07-30T21:27:06.102512Z"
    },
    "papermill": {
     "duration": 0.028449,
     "end_time": "2025-07-30T21:27:06.104655",
     "exception": false,
     "start_time": "2025-07-30T21:27:06.076206",
     "status": "completed"
    },
    "tags": []
   },
   "outputs": [
    {
     "data": {
      "text/html": [
       "<div>\n",
       "<style scoped>\n",
       "    .dataframe tbody tr th:only-of-type {\n",
       "        vertical-align: middle;\n",
       "    }\n",
       "\n",
       "    .dataframe tbody tr th {\n",
       "        vertical-align: top;\n",
       "    }\n",
       "\n",
       "    .dataframe thead th {\n",
       "        text-align: right;\n",
       "    }\n",
       "</style>\n",
       "<table border=\"1\" class=\"dataframe\">\n",
       "  <thead>\n",
       "    <tr style=\"text-align: right;\">\n",
       "      <th></th>\n",
       "      <th>universe_id</th>\n",
       "      <th>universe_training_year</th>\n",
       "      <th>universe_training_size</th>\n",
       "      <th>universe_scale</th>\n",
       "      <th>universe_model</th>\n",
       "      <th>universe_exclude_features</th>\n",
       "      <th>universe_exclude_subgroups</th>\n",
       "      <th>q_hat</th>\n",
       "      <th>coverage</th>\n",
       "      <th>avg_size</th>\n",
       "    </tr>\n",
       "  </thead>\n",
       "  <tbody>\n",
       "    <tr>\n",
       "      <th>0</th>\n",
       "      <td>bb6b82ee7c16902389cf5c84b4d59529</td>\n",
       "      <td>2014</td>\n",
       "      <td>1k</td>\n",
       "      <td>scale</td>\n",
       "      <td>elasticnet</td>\n",
       "      <td>sex</td>\n",
       "      <td>keep-all</td>\n",
       "      <td>0.787625</td>\n",
       "      <td>0.906677</td>\n",
       "      <td>1.229428</td>\n",
       "    </tr>\n",
       "  </tbody>\n",
       "</table>\n",
       "</div>"
      ],
      "text/plain": [
       "                        universe_id universe_training_year  \\\n",
       "0  bb6b82ee7c16902389cf5c84b4d59529                   2014   \n",
       "\n",
       "  universe_training_size universe_scale universe_model  \\\n",
       "0                     1k          scale     elasticnet   \n",
       "\n",
       "  universe_exclude_features universe_exclude_subgroups     q_hat  coverage  \\\n",
       "0                       sex                   keep-all  0.787625  0.906677   \n",
       "\n",
       "   avg_size  \n",
       "0  1.229428  "
      ]
     },
     "execution_count": 61,
     "metadata": {},
     "output_type": "execute_result"
    }
   ],
   "source": [
    "cp_metrics_df"
   ]
  },
  {
   "cell_type": "code",
   "execution_count": 62,
   "id": "b7fbde55-a0a1-47e4-9af6-fe4a17fa8c61",
   "metadata": {
    "execution": {
     "iopub.execute_input": "2025-07-30T21:27:06.157311Z",
     "iopub.status.busy": "2025-07-30T21:27:06.156934Z",
     "iopub.status.idle": "2025-07-30T21:27:06.162604Z",
     "shell.execute_reply": "2025-07-30T21:27:06.161838Z"
    },
    "papermill": {
     "duration": 0.03412,
     "end_time": "2025-07-30T21:27:06.163900",
     "exception": false,
     "start_time": "2025-07-30T21:27:06.129780",
     "status": "completed"
    },
    "tags": []
   },
   "outputs": [],
   "source": [
    "# Conditional Coverage & looking at subgroups"
   ]
  },
  {
   "cell_type": "code",
   "execution_count": 63,
   "id": "027ae886-68dd-4141-96c7-805a5450e1ef",
   "metadata": {
    "execution": {
     "iopub.execute_input": "2025-07-30T21:27:06.220808Z",
     "iopub.status.busy": "2025-07-30T21:27:06.220098Z",
     "iopub.status.idle": "2025-07-30T21:27:06.467985Z",
     "shell.execute_reply": "2025-07-30T21:27:06.467162Z"
    },
    "papermill": {
     "duration": 0.278591,
     "end_time": "2025-07-30T21:27:06.469675",
     "exception": false,
     "start_time": "2025-07-30T21:27:06.191084",
     "status": "completed"
    },
    "tags": []
   },
   "outputs": [],
   "source": [
    "from fairness_multiverse.conformal import build_cp_groups\n",
    "\n",
    "cp_groups_df = build_cp_groups(pred_sets, y_true, X_test.index, org_test)\n",
    "#needs universe_id and setting"
   ]
  },
  {
   "cell_type": "code",
   "execution_count": 64,
   "id": "01d5802c-663a-4d1f-9d69-e036faaffbf7",
   "metadata": {
    "execution": {
     "iopub.execute_input": "2025-07-30T21:27:06.518817Z",
     "iopub.status.busy": "2025-07-30T21:27:06.518232Z",
     "iopub.status.idle": "2025-07-30T21:27:06.523992Z",
     "shell.execute_reply": "2025-07-30T21:27:06.522913Z"
    },
    "papermill": {
     "duration": 0.029304,
     "end_time": "2025-07-30T21:27:06.526135",
     "exception": false,
     "start_time": "2025-07-30T21:27:06.496831",
     "status": "completed"
    },
    "tags": []
   },
   "outputs": [],
   "source": [
    "#delete\n",
    "#cp_groups_df"
   ]
  },
  {
   "cell_type": "code",
   "execution_count": 65,
   "id": "fa424af1-d1eb-443d-b717-2d279ada8408",
   "metadata": {
    "execution": {
     "iopub.execute_input": "2025-07-30T21:27:06.599198Z",
     "iopub.status.busy": "2025-07-30T21:27:06.598484Z",
     "iopub.status.idle": "2025-07-30T21:27:06.604331Z",
     "shell.execute_reply": "2025-07-30T21:27:06.603266Z"
    },
    "papermill": {
     "duration": 0.044387,
     "end_time": "2025-07-30T21:27:06.606755",
     "exception": false,
     "start_time": "2025-07-30T21:27:06.562368",
     "status": "completed"
    },
    "tags": []
   },
   "outputs": [],
   "source": [
    "#delete\n",
    "#percentage = (cp_groups_df['nongerman_female'] == 1).mean() * 100\n",
    "#print(percentage)\n"
   ]
  },
  {
   "cell_type": "code",
   "execution_count": 66,
   "id": "6cbdab96-b2b2-45af-ad54-d0516db2e28d",
   "metadata": {
    "execution": {
     "iopub.execute_input": "2025-07-30T21:27:06.679011Z",
     "iopub.status.busy": "2025-07-30T21:27:06.678292Z",
     "iopub.status.idle": "2025-07-30T21:27:08.350252Z",
     "shell.execute_reply": "2025-07-30T21:27:08.349122Z"
    },
    "papermill": {
     "duration": 1.708173,
     "end_time": "2025-07-30T21:27:08.352805",
     "exception": false,
     "start_time": "2025-07-30T21:27:06.644632",
     "status": "completed"
    },
    "tags": []
   },
   "outputs": [],
   "source": [
    "# Define covered = 1 if true_label is in the predicted set\n",
    "cp_groups_df['covered'] = cp_groups_df.apply(\n",
    "    lambda r: int(r['true_label'] in r['pred_set']),\n",
    "    axis=1\n",
    ")"
   ]
  },
  {
   "cell_type": "code",
   "execution_count": 67,
   "id": "338ff529-1a6b-4b87-a931-8e4788d52aad",
   "metadata": {
    "execution": {
     "iopub.execute_input": "2025-07-30T21:27:08.423741Z",
     "iopub.status.busy": "2025-07-30T21:27:08.423261Z",
     "iopub.status.idle": "2025-07-30T21:27:08.428734Z",
     "shell.execute_reply": "2025-07-30T21:27:08.427825Z"
    },
    "papermill": {
     "duration": 0.040935,
     "end_time": "2025-07-30T21:27:08.430353",
     "exception": false,
     "start_time": "2025-07-30T21:27:08.389418",
     "status": "completed"
    },
    "tags": []
   },
   "outputs": [],
   "source": [
    "#cp_groups_df"
   ]
  },
  {
   "cell_type": "code",
   "execution_count": 68,
   "id": "90032e27-66df-4540-9169-4e89cfbaa758",
   "metadata": {
    "execution": {
     "iopub.execute_input": "2025-07-30T21:27:08.489351Z",
     "iopub.status.busy": "2025-07-30T21:27:08.488559Z",
     "iopub.status.idle": "2025-07-30T21:27:08.500257Z",
     "shell.execute_reply": "2025-07-30T21:27:08.499265Z"
    },
    "papermill": {
     "duration": 0.04323,
     "end_time": "2025-07-30T21:27:08.501951",
     "exception": false,
     "start_time": "2025-07-30T21:27:08.458721",
     "status": "completed"
    },
    "tags": []
   },
   "outputs": [],
   "source": [
    "subgroups = ['frau1','nongerman','nongerman_male','nongerman_female']\n",
    "\n",
    "# Conditional coverage for subgroup==1\n",
    "cond_coverage = {\n",
    "    g: cp_groups_df.loc[cp_groups_df[g]==1, 'covered'].mean()\n",
    "    for g in subgroups\n",
    "}"
   ]
  },
  {
   "cell_type": "code",
   "execution_count": 69,
   "id": "1e348fb1-b9c3-45bc-ba23-f016827a7e0d",
   "metadata": {
    "execution": {
     "iopub.execute_input": "2025-07-30T21:27:08.556330Z",
     "iopub.status.busy": "2025-07-30T21:27:08.555608Z",
     "iopub.status.idle": "2025-07-30T21:27:08.565198Z",
     "shell.execute_reply": "2025-07-30T21:27:08.564072Z"
    },
    "papermill": {
     "duration": 0.037833,
     "end_time": "2025-07-30T21:27:08.566947",
     "exception": false,
     "start_time": "2025-07-30T21:27:08.529114",
     "status": "completed"
    },
    "tags": []
   },
   "outputs": [
    {
     "data": {
      "text/plain": [
       "{'frau1': 0.9054589567327133,\n",
       " 'nongerman': 0.9100656823668107,\n",
       " 'nongerman_male': 0.9262361523912456,\n",
       " 'nongerman_female': 0.8833084947839046}"
      ]
     },
     "execution_count": 69,
     "metadata": {},
     "output_type": "execute_result"
    }
   ],
   "source": [
    "cond_coverage"
   ]
  },
  {
   "cell_type": "code",
   "execution_count": 70,
   "id": "f5093324-c3dd-4d63-bc4c-8d945e5c8bbb",
   "metadata": {
    "execution": {
     "iopub.execute_input": "2025-07-30T21:27:08.622282Z",
     "iopub.status.busy": "2025-07-30T21:27:08.621582Z",
     "iopub.status.idle": "2025-07-30T21:27:08.629252Z",
     "shell.execute_reply": "2025-07-30T21:27:08.628266Z"
    },
    "papermill": {
     "duration": 0.036465,
     "end_time": "2025-07-30T21:27:08.630981",
     "exception": false,
     "start_time": "2025-07-30T21:27:08.594516",
     "status": "completed"
    },
    "tags": []
   },
   "outputs": [],
   "source": [
    "for subgroup, cov in cond_coverage.items():\n",
    "    cp_metrics_df[f\"cov_{subgroup}\"] = cov"
   ]
  },
  {
   "cell_type": "code",
   "execution_count": 71,
   "id": "6e872e10-dbe5-49e8-b554-5030c98ff75d",
   "metadata": {
    "execution": {
     "iopub.execute_input": "2025-07-30T21:27:08.691308Z",
     "iopub.status.busy": "2025-07-30T21:27:08.690830Z",
     "iopub.status.idle": "2025-07-30T21:27:08.711516Z",
     "shell.execute_reply": "2025-07-30T21:27:08.710329Z"
    },
    "papermill": {
     "duration": 0.056624,
     "end_time": "2025-07-30T21:27:08.717290",
     "exception": false,
     "start_time": "2025-07-30T21:27:08.660666",
     "status": "completed"
    },
    "tags": []
   },
   "outputs": [
    {
     "data": {
      "text/html": [
       "<div>\n",
       "<style scoped>\n",
       "    .dataframe tbody tr th:only-of-type {\n",
       "        vertical-align: middle;\n",
       "    }\n",
       "\n",
       "    .dataframe tbody tr th {\n",
       "        vertical-align: top;\n",
       "    }\n",
       "\n",
       "    .dataframe thead th {\n",
       "        text-align: right;\n",
       "    }\n",
       "</style>\n",
       "<table border=\"1\" class=\"dataframe\">\n",
       "  <thead>\n",
       "    <tr style=\"text-align: right;\">\n",
       "      <th></th>\n",
       "      <th>universe_id</th>\n",
       "      <th>universe_training_year</th>\n",
       "      <th>universe_training_size</th>\n",
       "      <th>universe_scale</th>\n",
       "      <th>universe_model</th>\n",
       "      <th>universe_exclude_features</th>\n",
       "      <th>universe_exclude_subgroups</th>\n",
       "      <th>q_hat</th>\n",
       "      <th>coverage</th>\n",
       "      <th>avg_size</th>\n",
       "      <th>cov_frau1</th>\n",
       "      <th>cov_nongerman</th>\n",
       "      <th>cov_nongerman_male</th>\n",
       "      <th>cov_nongerman_female</th>\n",
       "    </tr>\n",
       "  </thead>\n",
       "  <tbody>\n",
       "    <tr>\n",
       "      <th>0</th>\n",
       "      <td>bb6b82ee7c16902389cf5c84b4d59529</td>\n",
       "      <td>2014</td>\n",
       "      <td>1k</td>\n",
       "      <td>scale</td>\n",
       "      <td>elasticnet</td>\n",
       "      <td>sex</td>\n",
       "      <td>keep-all</td>\n",
       "      <td>0.787625</td>\n",
       "      <td>0.906677</td>\n",
       "      <td>1.229428</td>\n",
       "      <td>0.905459</td>\n",
       "      <td>0.910066</td>\n",
       "      <td>0.926236</td>\n",
       "      <td>0.883308</td>\n",
       "    </tr>\n",
       "  </tbody>\n",
       "</table>\n",
       "</div>"
      ],
      "text/plain": [
       "                        universe_id universe_training_year  \\\n",
       "0  bb6b82ee7c16902389cf5c84b4d59529                   2014   \n",
       "\n",
       "  universe_training_size universe_scale universe_model  \\\n",
       "0                     1k          scale     elasticnet   \n",
       "\n",
       "  universe_exclude_features universe_exclude_subgroups     q_hat  coverage  \\\n",
       "0                       sex                   keep-all  0.787625  0.906677   \n",
       "\n",
       "   avg_size  cov_frau1  cov_nongerman  cov_nongerman_male  \\\n",
       "0  1.229428   0.905459       0.910066            0.926236   \n",
       "\n",
       "   cov_nongerman_female  \n",
       "0              0.883308  "
      ]
     },
     "execution_count": 71,
     "metadata": {},
     "output_type": "execute_result"
    }
   ],
   "source": [
    "cp_metrics_df"
   ]
  },
  {
   "cell_type": "markdown",
   "id": "33774451",
   "metadata": {
    "papermill": {
     "duration": 0.029837,
     "end_time": "2025-07-30T21:27:08.776826",
     "exception": false,
     "start_time": "2025-07-30T21:27:08.746989",
     "status": "completed"
    },
    "tags": []
   },
   "source": [
    "# (Fairness) Metrics"
   ]
  },
  {
   "cell_type": "code",
   "execution_count": 72,
   "id": "debc5d62",
   "metadata": {
    "execution": {
     "iopub.execute_input": "2025-07-30T21:27:08.837109Z",
     "iopub.status.busy": "2025-07-30T21:27:08.836603Z",
     "iopub.status.idle": "2025-07-30T21:27:08.858526Z",
     "shell.execute_reply": "2025-07-30T21:27:08.857542Z"
    },
    "papermill": {
     "duration": 0.054616,
     "end_time": "2025-07-30T21:27:08.860575",
     "exception": false,
     "start_time": "2025-07-30T21:27:08.805959",
     "status": "completed"
    },
    "tags": []
   },
   "outputs": [],
   "source": [
    "# do I need to include maxdeutsch1.missing?\n",
    "\n",
    "import numpy as np\n",
    "\n",
    "colname_to_bin = \"maxdeutsch1\"\n",
    "majority_value = org_train[colname_to_bin].mode()[0]\n",
    "\n",
    "org_test[\"majmin\"] = np.where(org_test[colname_to_bin] == majority_value, \"majority\", \"minority\")"
   ]
  },
  {
   "cell_type": "code",
   "execution_count": 73,
   "id": "06a50de5",
   "metadata": {
    "execution": {
     "iopub.execute_input": "2025-07-30T21:27:08.920790Z",
     "iopub.status.busy": "2025-07-30T21:27:08.919893Z",
     "iopub.status.idle": "2025-07-30T21:27:11.671826Z",
     "shell.execute_reply": "2025-07-30T21:27:11.670817Z"
    },
    "papermill": {
     "duration": 2.784291,
     "end_time": "2025-07-30T21:27:11.673670",
     "exception": false,
     "start_time": "2025-07-30T21:27:08.889379",
     "status": "completed"
    },
    "tags": []
   },
   "outputs": [],
   "source": [
    "example_universe = universe.copy()\n",
    "example_universe[\"cutoff\"] = example_universe[\"cutoff\"][0]\n",
    "example_universe[\"eval_fairness_grouping\"] = example_universe[\"eval_fairness_grouping\"][0]\n",
    "fairness_dict, metric_frame = universe_analysis.compute_metrics(\n",
    "    example_universe,\n",
    "    y_pred_prob=probs_test,\n",
    "    y_test=y_true,\n",
    "    org_test=org_test,\n",
    ")"
   ]
  },
  {
   "cell_type": "markdown",
   "id": "f95d4e02",
   "metadata": {
    "papermill": {
     "duration": 0.013484,
     "end_time": "2025-07-30T21:27:11.719198",
     "exception": false,
     "start_time": "2025-07-30T21:27:11.705714",
     "status": "completed"
    },
    "tags": []
   },
   "source": [
    "# Overall"
   ]
  },
  {
   "cell_type": "markdown",
   "id": "bdee4871",
   "metadata": {
    "papermill": {
     "duration": 0.012992,
     "end_time": "2025-07-30T21:27:11.745208",
     "exception": false,
     "start_time": "2025-07-30T21:27:11.732216",
     "status": "completed"
    },
    "tags": []
   },
   "source": [
    "Fairness\n",
    "Main fairness target: Equalized Odds. Seems to be a better fit than equal opportunity, since we're not only interested in Y = 1. Seems to be a better fit than demographic parity, since we also care about accuracy, not just equal distribution of preds.\n",
    "\n",
    "Pick column for computation of fairness metrics\n",
    "\n",
    "Performance\n",
    "Overall performance measures, most interesting in relation to the measures split by group below"
   ]
  },
  {
   "cell_type": "code",
   "execution_count": 74,
   "id": "c4e067c6",
   "metadata": {
    "execution": {
     "iopub.execute_input": "2025-07-30T21:27:11.780404Z",
     "iopub.status.busy": "2025-07-30T21:27:11.779467Z",
     "iopub.status.idle": "2025-07-30T21:27:11.788591Z",
     "shell.execute_reply": "2025-07-30T21:27:11.787586Z"
    },
    "papermill": {
     "duration": 0.027883,
     "end_time": "2025-07-30T21:27:11.790219",
     "exception": false,
     "start_time": "2025-07-30T21:27:11.762336",
     "status": "completed"
    },
    "tags": []
   },
   "outputs": [
    {
     "data": {
      "text/plain": [
       "accuracy                   0.218538\n",
       "balanced accuracy          0.535577\n",
       "f1                         0.240029\n",
       "precision                  0.137121\n",
       "false positive rate        0.890872\n",
       "false negative rate        0.037974\n",
       "selection rate             0.900000\n",
       "count                  89710.000000\n",
       "dtype: float64"
      ]
     },
     "execution_count": 74,
     "metadata": {},
     "output_type": "execute_result"
    }
   ],
   "source": [
    "metric_frame.overall"
   ]
  },
  {
   "cell_type": "markdown",
   "id": "e968fe9d",
   "metadata": {
    "papermill": {
     "duration": 0.028237,
     "end_time": "2025-07-30T21:27:11.843648",
     "exception": false,
     "start_time": "2025-07-30T21:27:11.815411",
     "status": "completed"
    },
    "tags": []
   },
   "source": [
    "By Group"
   ]
  },
  {
   "cell_type": "code",
   "execution_count": 75,
   "id": "ec325bce",
   "metadata": {
    "execution": {
     "iopub.execute_input": "2025-07-30T21:27:11.894000Z",
     "iopub.status.busy": "2025-07-30T21:27:11.893051Z",
     "iopub.status.idle": "2025-07-30T21:27:11.914549Z",
     "shell.execute_reply": "2025-07-30T21:27:11.913426Z"
    },
    "papermill": {
     "duration": 0.044924,
     "end_time": "2025-07-30T21:27:11.916293",
     "exception": false,
     "start_time": "2025-07-30T21:27:11.871369",
     "status": "completed"
    },
    "tags": []
   },
   "outputs": [
    {
     "data": {
      "text/html": [
       "<div>\n",
       "<style scoped>\n",
       "    .dataframe tbody tr th:only-of-type {\n",
       "        vertical-align: middle;\n",
       "    }\n",
       "\n",
       "    .dataframe tbody tr th {\n",
       "        vertical-align: top;\n",
       "    }\n",
       "\n",
       "    .dataframe thead th {\n",
       "        text-align: right;\n",
       "    }\n",
       "</style>\n",
       "<table border=\"1\" class=\"dataframe\">\n",
       "  <thead>\n",
       "    <tr style=\"text-align: right;\">\n",
       "      <th></th>\n",
       "      <th>accuracy</th>\n",
       "      <th>balanced accuracy</th>\n",
       "      <th>f1</th>\n",
       "      <th>precision</th>\n",
       "      <th>false positive rate</th>\n",
       "      <th>false negative rate</th>\n",
       "      <th>selection rate</th>\n",
       "      <th>count</th>\n",
       "    </tr>\n",
       "    <tr>\n",
       "      <th>majmin</th>\n",
       "      <th></th>\n",
       "      <th></th>\n",
       "      <th></th>\n",
       "      <th></th>\n",
       "      <th></th>\n",
       "      <th></th>\n",
       "      <th></th>\n",
       "      <th></th>\n",
       "    </tr>\n",
       "  </thead>\n",
       "  <tbody>\n",
       "    <tr>\n",
       "      <th>majority</th>\n",
       "      <td>0.233208</td>\n",
       "      <td>0.541024</td>\n",
       "      <td>0.248495</td>\n",
       "      <td>0.142732</td>\n",
       "      <td>0.877361</td>\n",
       "      <td>0.040591</td>\n",
       "      <td>0.888203</td>\n",
       "      <td>69170.0</td>\n",
       "    </tr>\n",
       "    <tr>\n",
       "      <th>minority</th>\n",
       "      <td>0.169133</td>\n",
       "      <td>0.518312</td>\n",
       "      <td>0.212460</td>\n",
       "      <td>0.119262</td>\n",
       "      <td>0.935505</td>\n",
       "      <td>0.027872</td>\n",
       "      <td>0.939727</td>\n",
       "      <td>20540.0</td>\n",
       "    </tr>\n",
       "  </tbody>\n",
       "</table>\n",
       "</div>"
      ],
      "text/plain": [
       "          accuracy  balanced accuracy        f1  precision  \\\n",
       "majmin                                                       \n",
       "majority  0.233208           0.541024  0.248495   0.142732   \n",
       "minority  0.169133           0.518312  0.212460   0.119262   \n",
       "\n",
       "          false positive rate  false negative rate  selection rate    count  \n",
       "majmin                                                                       \n",
       "majority             0.877361             0.040591        0.888203  69170.0  \n",
       "minority             0.935505             0.027872        0.939727  20540.0  "
      ]
     },
     "execution_count": 75,
     "metadata": {},
     "output_type": "execute_result"
    }
   ],
   "source": [
    "metric_frame.by_group"
   ]
  },
  {
   "cell_type": "code",
   "execution_count": 76,
   "id": "a9ddbe63",
   "metadata": {
    "execution": {
     "iopub.execute_input": "2025-07-30T21:27:11.969084Z",
     "iopub.status.busy": "2025-07-30T21:27:11.968100Z",
     "iopub.status.idle": "2025-07-30T21:27:13.907565Z",
     "shell.execute_reply": "2025-07-30T21:27:13.906643Z"
    },
    "papermill": {
     "duration": 1.970628,
     "end_time": "2025-07-30T21:27:13.909176",
     "exception": false,
     "start_time": "2025-07-30T21:27:11.938548",
     "status": "completed"
    },
    "tags": []
   },
   "outputs": [
    {
     "data": {
      "text/plain": [
       "array([[<Axes: title={'center': 'accuracy'}, xlabel='majmin'>,\n",
       "        <Axes: title={'center': 'balanced accuracy'}, xlabel='majmin'>,\n",
       "        <Axes: title={'center': 'f1'}, xlabel='majmin'>],\n",
       "       [<Axes: title={'center': 'precision'}, xlabel='majmin'>,\n",
       "        <Axes: title={'center': 'false positive rate'}, xlabel='majmin'>,\n",
       "        <Axes: title={'center': 'false negative rate'}, xlabel='majmin'>],\n",
       "       [<Axes: title={'center': 'selection rate'}, xlabel='majmin'>,\n",
       "        <Axes: title={'center': 'count'}, xlabel='majmin'>,\n",
       "        <Axes: xlabel='majmin'>]], dtype=object)"
      ]
     },
     "execution_count": 76,
     "metadata": {},
     "output_type": "execute_result"
    },
    {
     "data": {
      "image/png": "[encoded data removed]",
      "text/plain": [
       "<Figure size 1200x800 with 9 Axes>"
      ]
     },
     "metadata": {},
     "output_type": "display_data"
    }
   ],
   "source": [
    "# In a graphic\n",
    "metric_frame.by_group.plot.bar(\n",
    "    subplots=True,\n",
    "    layout=[3, 3],\n",
    "    legend=False,\n",
    "    figsize=[12, 8],\n",
    "    title=\"Show all metrics\",\n",
    ")"
   ]
  },
  {
   "cell_type": "markdown",
   "id": "f57a0bac",
   "metadata": {
    "papermill": {
     "duration": 0.028633,
     "end_time": "2025-07-30T21:27:13.967203",
     "exception": false,
     "start_time": "2025-07-30T21:27:13.938570",
     "status": "completed"
    },
    "tags": []
   },
   "source": [
    "# Final Output"
   ]
  },
  {
   "cell_type": "code",
   "execution_count": 77,
   "id": "96d280a3",
   "metadata": {
    "execution": {
     "iopub.execute_input": "2025-07-30T21:27:14.025862Z",
     "iopub.status.busy": "2025-07-30T21:27:14.025183Z",
     "iopub.status.idle": "2025-07-30T21:27:14.033363Z",
     "shell.execute_reply": "2025-07-30T21:27:14.032404Z"
    },
    "papermill": {
     "duration": 0.040117,
     "end_time": "2025-07-30T21:27:14.034892",
     "exception": false,
     "start_time": "2025-07-30T21:27:13.994775",
     "status": "completed"
    },
    "tags": []
   },
   "outputs": [
    {
     "data": {
      "text/plain": [
       "4"
      ]
     },
     "execution_count": 77,
     "metadata": {},
     "output_type": "execute_result"
    }
   ],
   "source": [
    "sub_universes = universe_analysis.generate_sub_universes()\n",
    "len(sub_universes)"
   ]
  },
  {
   "cell_type": "code",
   "execution_count": 78,
   "id": "92adf7ba",
   "metadata": {
    "execution": {
     "iopub.execute_input": "2025-07-30T21:27:14.095882Z",
     "iopub.status.busy": "2025-07-30T21:27:14.095121Z",
     "iopub.status.idle": "2025-07-30T21:27:14.210335Z",
     "shell.execute_reply": "2025-07-30T21:27:14.209585Z"
    },
    "papermill": {
     "duration": 0.147382,
     "end_time": "2025-07-30T21:27:14.211896",
     "exception": false,
     "start_time": "2025-07-30T21:27:14.064514",
     "status": "completed"
    },
    "tags": []
   },
   "outputs": [],
   "source": [
    "def filter_sub_universe_data(sub_universe, org_test):\n",
    "    # Keep all rows — no filtering\n",
    "    keep_rows_mask = np.ones(org_test.shape[0], dtype=bool)\n",
    "\n",
    "    print(f\"[INFO] Keeping all rows: {keep_rows_mask.sum()} rows retained.\")\n",
    "    return keep_rows_mask"
   ]
  },
  {
   "cell_type": "code",
   "execution_count": 79,
   "id": "4a759155",
   "metadata": {
    "execution": {
     "iopub.execute_input": "2025-07-30T21:27:14.245035Z",
     "iopub.status.busy": "2025-07-30T21:27:14.244532Z",
     "iopub.status.idle": "2025-07-30T21:27:24.767158Z",
     "shell.execute_reply": "2025-07-30T21:27:24.766173Z"
    },
    "papermill": {
     "duration": 10.540578,
     "end_time": "2025-07-30T21:27:24.768706",
     "exception": false,
     "start_time": "2025-07-30T21:27:14.228128",
     "status": "completed"
    },
    "tags": []
   },
   "outputs": [
    {
     "name": "stdout",
     "output_type": "stream",
     "text": [
      "Stopping execution_time clock.\n",
      "[INFO] Keeping all rows: 89710 rows retained.\n"
     ]
    },
    {
     "name": "stdout",
     "output_type": "stream",
     "text": [
      "[INFO] Keeping all rows: 89710 rows retained.\n"
     ]
    },
    {
     "name": "stdout",
     "output_type": "stream",
     "text": [
      "[INFO] Keeping all rows: 89710 rows retained.\n"
     ]
    },
    {
     "name": "stdout",
     "output_type": "stream",
     "text": [
      "[INFO] Keeping all rows: 89710 rows retained.\n"
     ]
    },
    {
     "data": {
      "text/html": [
       "<div>\n",
       "<style scoped>\n",
       "    .dataframe tbody tr th:only-of-type {\n",
       "        vertical-align: middle;\n",
       "    }\n",
       "\n",
       "    .dataframe tbody tr th {\n",
       "        vertical-align: top;\n",
       "    }\n",
       "\n",
       "    .dataframe thead th {\n",
       "        text-align: right;\n",
       "    }\n",
       "</style>\n",
       "<table border=\"1\" class=\"dataframe\">\n",
       "  <thead>\n",
       "    <tr style=\"text-align: right;\">\n",
       "      <th></th>\n",
       "      <th>run_no</th>\n",
       "      <th>universe_id</th>\n",
       "      <th>universe_settings</th>\n",
       "      <th>execution_time</th>\n",
       "      <th>test_size_n</th>\n",
       "      <th>test_size_frac</th>\n",
       "      <th>fair_main_equalized_odds_difference</th>\n",
       "      <th>fair_main_equalized_odds_ratio</th>\n",
       "      <th>fair_main_demographic_parity_difference</th>\n",
       "      <th>fair_main_demographic_parity_ratio</th>\n",
       "      <th>...</th>\n",
       "      <th>perf_grp_precision_0</th>\n",
       "      <th>perf_grp_precision_1</th>\n",
       "      <th>perf_grp_false positive rate_0</th>\n",
       "      <th>perf_grp_false positive rate_1</th>\n",
       "      <th>perf_grp_false negative rate_0</th>\n",
       "      <th>perf_grp_false negative rate_1</th>\n",
       "      <th>perf_grp_selection rate_0</th>\n",
       "      <th>perf_grp_selection rate_1</th>\n",
       "      <th>perf_grp_count_0</th>\n",
       "      <th>perf_grp_count_1</th>\n",
       "    </tr>\n",
       "  </thead>\n",
       "  <tbody>\n",
       "    <tr>\n",
       "      <th>0</th>\n",
       "      <td>14</td>\n",
       "      <td>bb6b82ee7c16902389cf5c84b4d59529</td>\n",
       "      <td>{\"cutoff\": \"quantile_0.1\", \"eval_fairness_grou...</td>\n",
       "      <td>29.080798</td>\n",
       "      <td>89710</td>\n",
       "      <td>1.0</td>\n",
       "      <td>0.058144</td>\n",
       "      <td>0.937848</td>\n",
       "      <td>0.051524</td>\n",
       "      <td>0.945171</td>\n",
       "      <td>...</td>\n",
       "      <td>NaN</td>\n",
       "      <td>NaN</td>\n",
       "      <td>NaN</td>\n",
       "      <td>NaN</td>\n",
       "      <td>NaN</td>\n",
       "      <td>NaN</td>\n",
       "      <td>NaN</td>\n",
       "      <td>NaN</td>\n",
       "      <td>NaN</td>\n",
       "      <td>NaN</td>\n",
       "    </tr>\n",
       "    <tr>\n",
       "      <th>0</th>\n",
       "      <td>14</td>\n",
       "      <td>bb6b82ee7c16902389cf5c84b4d59529</td>\n",
       "      <td>{\"cutoff\": \"quantile_0.1\", \"eval_fairness_grou...</td>\n",
       "      <td>29.080798</td>\n",
       "      <td>89710</td>\n",
       "      <td>1.0</td>\n",
       "      <td>0.058144</td>\n",
       "      <td>0.937848</td>\n",
       "      <td>0.051524</td>\n",
       "      <td>0.945171</td>\n",
       "      <td>...</td>\n",
       "      <td>0.119262</td>\n",
       "      <td>0.142732</td>\n",
       "      <td>0.935505</td>\n",
       "      <td>0.877361</td>\n",
       "      <td>0.027872</td>\n",
       "      <td>0.040591</td>\n",
       "      <td>0.939727</td>\n",
       "      <td>0.888203</td>\n",
       "      <td>20540.0</td>\n",
       "      <td>69170.0</td>\n",
       "    </tr>\n",
       "    <tr>\n",
       "      <th>0</th>\n",
       "      <td>14</td>\n",
       "      <td>bb6b82ee7c16902389cf5c84b4d59529</td>\n",
       "      <td>{\"cutoff\": \"quantile_0.25\", \"eval_fairness_gro...</td>\n",
       "      <td>29.080798</td>\n",
       "      <td>89710</td>\n",
       "      <td>1.0</td>\n",
       "      <td>0.043784</td>\n",
       "      <td>0.942673</td>\n",
       "      <td>0.035115</td>\n",
       "      <td>0.954812</td>\n",
       "      <td>...</td>\n",
       "      <td>NaN</td>\n",
       "      <td>NaN</td>\n",
       "      <td>NaN</td>\n",
       "      <td>NaN</td>\n",
       "      <td>NaN</td>\n",
       "      <td>NaN</td>\n",
       "      <td>NaN</td>\n",
       "      <td>NaN</td>\n",
       "      <td>NaN</td>\n",
       "      <td>NaN</td>\n",
       "    </tr>\n",
       "    <tr>\n",
       "      <th>0</th>\n",
       "      <td>14</td>\n",
       "      <td>bb6b82ee7c16902389cf5c84b4d59529</td>\n",
       "      <td>{\"cutoff\": \"quantile_0.25\", \"eval_fairness_gro...</td>\n",
       "      <td>29.080798</td>\n",
       "      <td>89710</td>\n",
       "      <td>1.0</td>\n",
       "      <td>0.043784</td>\n",
       "      <td>0.942673</td>\n",
       "      <td>0.035115</td>\n",
       "      <td>0.954812</td>\n",
       "      <td>...</td>\n",
       "      <td>0.130443</td>\n",
       "      <td>0.157850</td>\n",
       "      <td>0.763757</td>\n",
       "      <td>0.719973</td>\n",
       "      <td>0.120777</td>\n",
       "      <td>0.113676</td>\n",
       "      <td>0.777069</td>\n",
       "      <td>0.741955</td>\n",
       "      <td>20540.0</td>\n",
       "      <td>69170.0</td>\n",
       "    </tr>\n",
       "  </tbody>\n",
       "</table>\n",
       "<p>4 rows × 50 columns</p>\n",
       "</div>"
      ],
      "text/plain": [
       "  run_no                       universe_id  \\\n",
       "0     14  bb6b82ee7c16902389cf5c84b4d59529   \n",
       "0     14  bb6b82ee7c16902389cf5c84b4d59529   \n",
       "0     14  bb6b82ee7c16902389cf5c84b4d59529   \n",
       "0     14  bb6b82ee7c16902389cf5c84b4d59529   \n",
       "\n",
       "                                   universe_settings  execution_time  \\\n",
       "0  {\"cutoff\": \"quantile_0.1\", \"eval_fairness_grou...       29.080798   \n",
       "0  {\"cutoff\": \"quantile_0.1\", \"eval_fairness_grou...       29.080798   \n",
       "0  {\"cutoff\": \"quantile_0.25\", \"eval_fairness_gro...       29.080798   \n",
       "0  {\"cutoff\": \"quantile_0.25\", \"eval_fairness_gro...       29.080798   \n",
       "\n",
       "   test_size_n  test_size_frac  fair_main_equalized_odds_difference  \\\n",
       "0        89710             1.0                             0.058144   \n",
       "0        89710             1.0                             0.058144   \n",
       "0        89710             1.0                             0.043784   \n",
       "0        89710             1.0                             0.043784   \n",
       "\n",
       "   fair_main_equalized_odds_ratio  fair_main_demographic_parity_difference  \\\n",
       "0                        0.937848                                 0.051524   \n",
       "0                        0.937848                                 0.051524   \n",
       "0                        0.942673                                 0.035115   \n",
       "0                        0.942673                                 0.035115   \n",
       "\n",
       "   fair_main_demographic_parity_ratio  ...  perf_grp_precision_0  \\\n",
       "0                            0.945171  ...                   NaN   \n",
       "0                            0.945171  ...              0.119262   \n",
       "0                            0.954812  ...                   NaN   \n",
       "0                            0.954812  ...              0.130443   \n",
       "\n",
       "   perf_grp_precision_1  perf_grp_false positive rate_0  \\\n",
       "0                   NaN                             NaN   \n",
       "0              0.142732                        0.935505   \n",
       "0                   NaN                             NaN   \n",
       "0              0.157850                        0.763757   \n",
       "\n",
       "   perf_grp_false positive rate_1  perf_grp_false negative rate_0  \\\n",
       "0                             NaN                             NaN   \n",
       "0                        0.877361                        0.027872   \n",
       "0                             NaN                             NaN   \n",
       "0                        0.719973                        0.120777   \n",
       "\n",
       "   perf_grp_false negative rate_1  perf_grp_selection rate_0  \\\n",
       "0                             NaN                        NaN   \n",
       "0                        0.040591                   0.939727   \n",
       "0                             NaN                        NaN   \n",
       "0                        0.113676                   0.777069   \n",
       "\n",
       "   perf_grp_selection rate_1  perf_grp_count_0  perf_grp_count_1  \n",
       "0                        NaN               NaN               NaN  \n",
       "0                   0.888203           20540.0           69170.0  \n",
       "0                        NaN               NaN               NaN  \n",
       "0                   0.741955           20540.0           69170.0  \n",
       "\n",
       "[4 rows x 50 columns]"
      ]
     },
     "execution_count": 79,
     "metadata": {},
     "output_type": "execute_result"
    }
   ],
   "source": [
    "final_output = universe_analysis.generate_final_output(\n",
    "    y_pred_prob=probs_test,\n",
    "    y_test=y_true,\n",
    "    org_test=org_test,\n",
    "    filter_data=filter_sub_universe_data,\n",
    "    cp_metrics_df=cp_metrics_df,\n",
    "    save=True,\n",
    ")\n",
    "final_output"
   ]
  },
  {
   "cell_type": "code",
   "execution_count": null,
   "id": "721ff514-cb11-46f8-b6fc-50392f74b5cb",
   "metadata": {
    "papermill": {
     "duration": 0.029654,
     "end_time": "2025-07-30T21:27:24.829629",
     "exception": false,
     "start_time": "2025-07-30T21:27:24.799975",
     "status": "completed"
    },
    "tags": []
   },
   "outputs": [],
   "source": []
  }
 ],
 "metadata": {
  "celltoolbar": "Tags",
  "kernelspec": {
   "display_name": "Python (CMA Fairness)",
   "language": "python",
   "name": "cma_fair_env"
  },
  "language_info": {
   "codemirror_mode": {
    "name": "ipython",
    "version": 3
   },
   "file_extension": ".py",
   "mimetype": "text/x-python",
   "name": "python",
   "nbconvert_exporter": "python",
   "pygments_lexer": "ipython3",
   "version": "3.10.12"
  },
  "papermill": {
   "default_parameters": {},
   "duration": 43.867876,
   "end_time": "2025-07-30T21:27:25.575294",
   "environment_variables": {},
   "exception": null,
   "input_path": "universe_analysis.ipynb",
   "output_path": "output/runs/14/notebooks/m_14-bb6b82ee7c16902389cf5c84b4d59529.ipynb",
   "parameters": {
    "output_dir": "output",
    "run_no": "14",
    "seed": "2023",
    "universe": "{\"cutoff\": [\"quantile_0.1\", \"quantile_0.25\"], \"eval_fairness_grouping\": [\"majority-minority\", \"nationality-all\"], \"exclude_features\": \"sex\", \"exclude_subgroups\": \"keep-all\", \"model\": \"elasticnet\", \"scale\": \"scale\", \"training_size\": \"1k\", \"training_year\": \"2014\"}",
    "universe_id": "bb6b82ee7c16902389cf5c84b4d59529"
   },
   "start_time": "2025-07-30T21:26:41.707418",
   "version": "2.6.0"
  }
 },
 "nbformat": 4,
 "nbformat_minor": 5
}